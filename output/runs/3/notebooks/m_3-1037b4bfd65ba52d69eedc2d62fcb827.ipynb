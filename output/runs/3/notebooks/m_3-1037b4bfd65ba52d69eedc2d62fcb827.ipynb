{
 "cells": [
  {
   "cell_type": "markdown",
   "id": "ef23dbb3",
   "metadata": {
    "papermill": {
     "duration": 0.00943,
     "end_time": "2025-08-19T18:07:05.430525",
     "exception": false,
     "start_time": "2025-08-19T18:07:05.421095",
     "status": "completed"
    },
    "tags": []
   },
   "source": [
    "# Setup"
   ]
  },
  {
   "cell_type": "code",
   "execution_count": 1,
   "id": "0bc8e7dc",
   "metadata": {
    "execution": {
     "iopub.execute_input": "2025-08-19T18:07:05.451048Z",
     "iopub.status.busy": "2025-08-19T18:07:05.449845Z",
     "iopub.status.idle": "2025-08-19T18:07:05.469559Z",
     "shell.execute_reply": "2025-08-19T18:07:05.468288Z"
    },
    "papermill": {
     "duration": 0.031841,
     "end_time": "2025-08-19T18:07:05.471258",
     "exception": false,
     "start_time": "2025-08-19T18:07:05.439417",
     "status": "completed"
    },
    "tags": []
   },
   "outputs": [
    {
     "name": "stdout",
     "output_type": "stream",
     "text": [
      "/dss/dsshome1/0C/ra93lal2/cma/CMA_Fairness_v2\n"
     ]
    },
    {
     "name": "stderr",
     "output_type": "stream",
     "text": [
      "/dss/dsshome1/0C/ra93lal2/.local/share/virtualenvs/CMA_Fairness_v2-3j10GkSs/lib/python3.10/site-packages/IPython/core/magics/osm.py:393: UserWarning: This is now an optional IPython functionality, using bookmarks requires you to install the `pickleshare` library.\n",
      "  bkms = self.shell.db.get('bookmarks', {})\n",
      "/dss/dsshome1/0C/ra93lal2/.local/share/virtualenvs/CMA_Fairness_v2-3j10GkSs/lib/python3.10/site-packages/IPython/core/magics/osm.py:417: UserWarning: This is now an optional IPython functionality, setting dhist requires you to install the `pickleshare` library.\n",
      "  self.shell.db['dhist'] = compress_dhist(dhist)[-100:]\n"
     ]
    }
   ],
   "source": [
    "%cd ~/cma/CMA_Fairness_v2"
   ]
  },
  {
   "cell_type": "markdown",
   "id": "9d235661",
   "metadata": {
    "papermill": {
     "duration": 0.008974,
     "end_time": "2025-08-19T18:07:05.492760",
     "exception": false,
     "start_time": "2025-08-19T18:07:05.483786",
     "status": "completed"
    },
    "tags": []
   },
   "source": [
    "The following cell holds the definition of our parameters, these values can be overriden by rendering the with e.g. the following command:\n",
    "\n",
    "papermill -p alpha 0.2 -p ratio 0.3 universe_analysis.ipynb output/test_run.ipynb"
   ]
  },
  {
   "cell_type": "code",
   "execution_count": 2,
   "id": "4a789d8e",
   "metadata": {
    "execution": {
     "iopub.execute_input": "2025-08-19T18:07:05.513678Z",
     "iopub.status.busy": "2025-08-19T18:07:05.512415Z",
     "iopub.status.idle": "2025-08-19T18:07:05.521252Z",
     "shell.execute_reply": "2025-08-19T18:07:05.519645Z"
    },
    "papermill": {
     "duration": 0.021409,
     "end_time": "2025-08-19T18:07:05.522778",
     "exception": false,
     "start_time": "2025-08-19T18:07:05.501369",
     "status": "completed"
    },
    "tags": []
   },
   "outputs": [
    {
     "name": "stdout",
     "output_type": "stream",
     "text": [
      "Current working directory: /dss/dsshome1/0C/ra93lal2/cma/CMA_Fairness_v2\n"
     ]
    }
   ],
   "source": [
    "import os\n",
    "print(\"Current working directory:\", os.getcwd())"
   ]
  },
  {
   "cell_type": "code",
   "execution_count": 3,
   "id": "4132aaed",
   "metadata": {
    "execution": {
     "iopub.execute_input": "2025-08-19T18:07:05.666751Z",
     "iopub.status.busy": "2025-08-19T18:07:05.665473Z",
     "iopub.status.idle": "2025-08-19T18:07:05.675684Z",
     "shell.execute_reply": "2025-08-19T18:07:05.674104Z"
    },
    "papermill": {
     "duration": 0.022634,
     "end_time": "2025-08-19T18:07:05.677375",
     "exception": false,
     "start_time": "2025-08-19T18:07:05.654741",
     "status": "completed"
    },
    "tags": [
     "parameters"
    ]
   },
   "outputs": [],
   "source": [
    "run_no = 0\n",
    "universe_id = \"test\"\n",
    "universe = {\n",
    "    \"training_size\": \"5k\", # \"25k\", \"5k\", \"1k\"\n",
    "    \"training_year\": \"2012_14\", # \"2014\", \"2012_14\", \"2010_14\"\n",
    "    \"scale\": \"scale\", # \"scale\", \"do-not-scale\",\n",
    "    \"model\": \"elasticnet\", # \"logreg\", \"penalized_logreg\", \"rf\", \"gbm\", \"elasticnet\"\n",
    "    \"cutoff\": [\"quantile_0.15\", \"quantile_0.30\"],\n",
    "    \"exclude_features\": \"age\", # \"none\", \"nationality\", \"sex\", \"nationality-sex\", \"age\"\n",
    "    \"exclude_subgroups\": \"drop-non-german\", # \"keep-all\", \"drop-non-german\"\n",
    "    \"eval_fairness_grouping\": [\"majority-minority\", \"nationality-all\"]\n",
    "}\n",
    "\n",
    "output_dir=\"./output\"\n",
    "seed=0"
   ]
  },
  {
   "cell_type": "code",
   "execution_count": 4,
   "id": "ec16436e",
   "metadata": {
    "execution": {
     "iopub.execute_input": "2025-08-19T18:07:05.700424Z",
     "iopub.status.busy": "2025-08-19T18:07:05.699541Z",
     "iopub.status.idle": "2025-08-19T18:07:05.707702Z",
     "shell.execute_reply": "2025-08-19T18:07:05.706147Z"
    },
    "papermill": {
     "duration": 0.020197,
     "end_time": "2025-08-19T18:07:05.709369",
     "exception": false,
     "start_time": "2025-08-19T18:07:05.689172",
     "status": "completed"
    },
    "tags": [
     "injected-parameters"
    ]
   },
   "outputs": [],
   "source": [
    "# Parameters\n",
    "universe_id = \"1037b4bfd65ba52d69eedc2d62fcb827\"\n",
    "run_no = \"3\"\n",
    "universe = \"{\\\"cutoff\\\": [\\\"quantile_0.1\\\", \\\"quantile_0.25\\\"], \\\"eval_fairness_grouping\\\": [\\\"majority-minority\\\", \\\"nationality-all\\\"], \\\"exclude_features\\\": \\\"nationality\\\", \\\"exclude_subgroups\\\": \\\"drop-non-german\\\", \\\"model\\\": \\\"elasticnet\\\", \\\"scale\\\": \\\"scale\\\", \\\"training_size\\\": \\\"25k\\\", \\\"training_year\\\": \\\"2012_14\\\"}\"\n",
    "output_dir = \"output\"\n",
    "seed = \"2023\"\n"
   ]
  },
  {
   "cell_type": "code",
   "execution_count": 5,
   "id": "a5d7941f",
   "metadata": {
    "execution": {
     "iopub.execute_input": "2025-08-19T18:07:05.731378Z",
     "iopub.status.busy": "2025-08-19T18:07:05.730413Z",
     "iopub.status.idle": "2025-08-19T18:07:05.738081Z",
     "shell.execute_reply": "2025-08-19T18:07:05.736546Z"
    },
    "papermill": {
     "duration": 0.019584,
     "end_time": "2025-08-19T18:07:05.739731",
     "exception": false,
     "start_time": "2025-08-19T18:07:05.720147",
     "status": "completed"
    },
    "tags": []
   },
   "outputs": [],
   "source": [
    "import json\n",
    "if isinstance(universe, str):\n",
    "    universe = json.loads(universe)"
   ]
  },
  {
   "cell_type": "code",
   "execution_count": 6,
   "id": "7076ccb1",
   "metadata": {
    "execution": {
     "iopub.execute_input": "2025-08-19T18:07:05.761365Z",
     "iopub.status.busy": "2025-08-19T18:07:05.760411Z",
     "iopub.status.idle": "2025-08-19T18:07:05.809927Z",
     "shell.execute_reply": "2025-08-19T18:07:05.809347Z"
    },
    "papermill": {
     "duration": 0.062409,
     "end_time": "2025-08-19T18:07:05.812686",
     "exception": false,
     "start_time": "2025-08-19T18:07:05.750277",
     "status": "completed"
    },
    "tags": []
   },
   "outputs": [],
   "source": [
    "# Auto-reload the custom package\n",
    "%load_ext autoreload\n",
    "%autoreload 1\n",
    "%aimport fairness_multiverse"
   ]
  },
  {
   "cell_type": "code",
   "execution_count": 7,
   "id": "94c8eb93",
   "metadata": {
    "execution": {
     "iopub.execute_input": "2025-08-19T18:07:05.848340Z",
     "iopub.status.busy": "2025-08-19T18:07:05.847332Z",
     "iopub.status.idle": "2025-08-19T18:07:07.332094Z",
     "shell.execute_reply": "2025-08-19T18:07:07.330958Z"
    },
    "papermill": {
     "duration": 1.499303,
     "end_time": "2025-08-19T18:07:07.333753",
     "exception": false,
     "start_time": "2025-08-19T18:07:05.834450",
     "status": "completed"
    },
    "tags": []
   },
   "outputs": [],
   "source": [
    "from fairness_multiverse.universe import UniverseAnalysis\n",
    "\n",
    "universe_analysis = UniverseAnalysis(\n",
    "    run_no = run_no,\n",
    "    universe_id = universe_id,\n",
    "    universe = universe,\n",
    "    output_dir=output_dir,\n",
    ")"
   ]
  },
  {
   "cell_type": "code",
   "execution_count": 8,
   "id": "2a6381cf",
   "metadata": {
    "execution": {
     "iopub.execute_input": "2025-08-19T18:07:07.353757Z",
     "iopub.status.busy": "2025-08-19T18:07:07.353225Z",
     "iopub.status.idle": "2025-08-19T18:07:07.359757Z",
     "shell.execute_reply": "2025-08-19T18:07:07.358780Z"
    },
    "papermill": {
     "duration": 0.018365,
     "end_time": "2025-08-19T18:07:07.361541",
     "exception": false,
     "start_time": "2025-08-19T18:07:07.343176",
     "status": "completed"
    },
    "tags": []
   },
   "outputs": [
    {
     "name": "stdout",
     "output_type": "stream",
     "text": [
      "Using Seed: 2023\n"
     ]
    }
   ],
   "source": [
    "import numpy as np\n",
    "parsed_seed = int(seed)\n",
    "np.random.seed(parsed_seed)\n",
    "print(f\"Using Seed: {parsed_seed}\")"
   ]
  },
  {
   "cell_type": "markdown",
   "id": "b6e958b4",
   "metadata": {
    "papermill": {
     "duration": 0.008933,
     "end_time": "2025-08-19T18:07:07.381142",
     "exception": false,
     "start_time": "2025-08-19T18:07:07.372209",
     "status": "completed"
    },
    "tags": []
   },
   "source": [
    "# Loading Data"
   ]
  },
  {
   "cell_type": "code",
   "execution_count": 9,
   "id": "98701482",
   "metadata": {
    "execution": {
     "iopub.execute_input": "2025-08-19T18:07:07.400829Z",
     "iopub.status.busy": "2025-08-19T18:07:07.400283Z",
     "iopub.status.idle": "2025-08-19T18:07:17.760366Z",
     "shell.execute_reply": "2025-08-19T18:07:17.759326Z"
    },
    "papermill": {
     "duration": 10.371555,
     "end_time": "2025-08-19T18:07:17.761676",
     "exception": false,
     "start_time": "2025-08-19T18:07:07.390121",
     "status": "completed"
    },
    "tags": []
   },
   "outputs": [
    {
     "name": "stdout",
     "output_type": "stream",
     "text": [
      "Loading SIAB data from cache: data/siab_cached.csv.gz\n"
     ]
    },
    {
     "name": "stdout",
     "output_type": "stream",
     "text": [
      "(643690, 164)\n"
     ]
    }
   ],
   "source": [
    "from pathlib import Path\n",
    "import pandas as pd\n",
    "\n",
    "# File paths\n",
    "raw_file = Path(\"data/raw/siab.csv\")\n",
    "cache_file = Path(\"data/siab_cached.csv.gz\")\n",
    "\n",
    "# Ensure cache directory exists\n",
    "cache_file.parent.mkdir(parents=True, exist_ok=True)\n",
    "\n",
    "# Load with simple caching\n",
    "if cache_file.exists():\n",
    "    print(f\"Loading SIAB data from cache: {cache_file}\")\n",
    "    siab = pd.read_csv(cache_file, compression='gzip')\n",
    "else:\n",
    "    print(f\"Cache not found. Reading raw SIAB data: {raw_file}\")\n",
    "    siab = pd.read_csv(raw_file)\n",
    "    siab.to_csv(cache_file, index=False, compression='gzip')\n",
    "    print(f\"Cached SIAB data to: {cache_file}\")\n",
    "\n",
    "print(siab.shape)"
   ]
  },
  {
   "cell_type": "code",
   "execution_count": 10,
   "id": "058d2abb",
   "metadata": {
    "execution": {
     "iopub.execute_input": "2025-08-19T18:07:17.803924Z",
     "iopub.status.busy": "2025-08-19T18:07:17.803382Z",
     "iopub.status.idle": "2025-08-19T18:07:17.941626Z",
     "shell.execute_reply": "2025-08-19T18:07:17.940878Z"
    },
    "papermill": {
     "duration": 0.159702,
     "end_time": "2025-08-19T18:07:17.944056",
     "exception": false,
     "start_time": "2025-08-19T18:07:17.784354",
     "status": "completed"
    },
    "tags": []
   },
   "outputs": [
    {
     "data": {
      "text/html": [
       "<div>\n",
       "<style scoped>\n",
       "    .dataframe tbody tr th:only-of-type {\n",
       "        vertical-align: middle;\n",
       "    }\n",
       "\n",
       "    .dataframe tbody tr th {\n",
       "        vertical-align: top;\n",
       "    }\n",
       "\n",
       "    .dataframe thead th {\n",
       "        text-align: right;\n",
       "    }\n",
       "</style>\n",
       "<table border=\"1\" class=\"dataframe\">\n",
       "  <thead>\n",
       "    <tr style=\"text-align: right;\">\n",
       "      <th></th>\n",
       "      <th>persnr</th>\n",
       "      <th>year</th>\n",
       "      <th>nrEntry</th>\n",
       "      <th>ltue</th>\n",
       "      <th>employed_before</th>\n",
       "      <th>receipt_leh_before</th>\n",
       "      <th>receipt_lhg_before</th>\n",
       "      <th>se_before</th>\n",
       "      <th>ASU_notue_seeking_before</th>\n",
       "      <th>ASU_other_before</th>\n",
       "      <th>...</th>\n",
       "      <th>minijob_tot_dur_byage</th>\n",
       "      <th>ft_tot_dur_byage</th>\n",
       "      <th>befrist_tot_dur_byage</th>\n",
       "      <th>leih_tot_dur_byage</th>\n",
       "      <th>LHG_tot_dur_byage</th>\n",
       "      <th>LEH_tot_dur_byage</th>\n",
       "      <th>almp_tot_dur_byage</th>\n",
       "      <th>almp_aw_tot_dur_byage</th>\n",
       "      <th>se_tot_dur_byage</th>\n",
       "      <th>seeking1_tot_dur_byage</th>\n",
       "    </tr>\n",
       "  </thead>\n",
       "  <tbody>\n",
       "    <tr>\n",
       "      <th>0</th>\n",
       "      <td>7</td>\n",
       "      <td>2015</td>\n",
       "      <td>1</td>\n",
       "      <td>0</td>\n",
       "      <td>1</td>\n",
       "      <td>0</td>\n",
       "      <td>0</td>\n",
       "      <td>0</td>\n",
       "      <td>1</td>\n",
       "      <td>0</td>\n",
       "      <td>...</td>\n",
       "      <td>0.000000</td>\n",
       "      <td>0.000000</td>\n",
       "      <td>15.043478</td>\n",
       "      <td>0.000000</td>\n",
       "      <td>0.000000</td>\n",
       "      <td>0.000000</td>\n",
       "      <td>0.000000</td>\n",
       "      <td>0.000000</td>\n",
       "      <td>0.000000</td>\n",
       "      <td>0.000000</td>\n",
       "    </tr>\n",
       "    <tr>\n",
       "      <th>1</th>\n",
       "      <td>18</td>\n",
       "      <td>2010</td>\n",
       "      <td>1</td>\n",
       "      <td>1</td>\n",
       "      <td>0</td>\n",
       "      <td>0</td>\n",
       "      <td>0</td>\n",
       "      <td>0</td>\n",
       "      <td>0</td>\n",
       "      <td>0</td>\n",
       "      <td>...</td>\n",
       "      <td>0.000000</td>\n",
       "      <td>0.000000</td>\n",
       "      <td>0.000000</td>\n",
       "      <td>0.000000</td>\n",
       "      <td>0.000000</td>\n",
       "      <td>0.000000</td>\n",
       "      <td>0.000000</td>\n",
       "      <td>0.000000</td>\n",
       "      <td>0.000000</td>\n",
       "      <td>0.000000</td>\n",
       "    </tr>\n",
       "    <tr>\n",
       "      <th>2</th>\n",
       "      <td>18</td>\n",
       "      <td>2011</td>\n",
       "      <td>2</td>\n",
       "      <td>0</td>\n",
       "      <td>1</td>\n",
       "      <td>0</td>\n",
       "      <td>1</td>\n",
       "      <td>0</td>\n",
       "      <td>1</td>\n",
       "      <td>0</td>\n",
       "      <td>...</td>\n",
       "      <td>2.714286</td>\n",
       "      <td>2.714286</td>\n",
       "      <td>0.000000</td>\n",
       "      <td>0.000000</td>\n",
       "      <td>10.775510</td>\n",
       "      <td>0.000000</td>\n",
       "      <td>8.367347</td>\n",
       "      <td>0.000000</td>\n",
       "      <td>0.000000</td>\n",
       "      <td>9.836735</td>\n",
       "    </tr>\n",
       "    <tr>\n",
       "      <th>3</th>\n",
       "      <td>18</td>\n",
       "      <td>2012</td>\n",
       "      <td>3</td>\n",
       "      <td>0</td>\n",
       "      <td>1</td>\n",
       "      <td>0</td>\n",
       "      <td>1</td>\n",
       "      <td>0</td>\n",
       "      <td>1</td>\n",
       "      <td>0</td>\n",
       "      <td>...</td>\n",
       "      <td>4.200000</td>\n",
       "      <td>4.200000</td>\n",
       "      <td>0.000000</td>\n",
       "      <td>0.000000</td>\n",
       "      <td>12.100000</td>\n",
       "      <td>0.000000</td>\n",
       "      <td>9.400000</td>\n",
       "      <td>0.000000</td>\n",
       "      <td>0.000000</td>\n",
       "      <td>9.960000</td>\n",
       "    </tr>\n",
       "    <tr>\n",
       "      <th>4</th>\n",
       "      <td>18</td>\n",
       "      <td>2012</td>\n",
       "      <td>4</td>\n",
       "      <td>0</td>\n",
       "      <td>1</td>\n",
       "      <td>0</td>\n",
       "      <td>1</td>\n",
       "      <td>0</td>\n",
       "      <td>1</td>\n",
       "      <td>0</td>\n",
       "      <td>...</td>\n",
       "      <td>5.460000</td>\n",
       "      <td>5.460000</td>\n",
       "      <td>0.000000</td>\n",
       "      <td>0.000000</td>\n",
       "      <td>13.360000</td>\n",
       "      <td>0.000000</td>\n",
       "      <td>10.320000</td>\n",
       "      <td>0.000000</td>\n",
       "      <td>0.000000</td>\n",
       "      <td>10.280000</td>\n",
       "    </tr>\n",
       "    <tr>\n",
       "      <th>...</th>\n",
       "      <td>...</td>\n",
       "      <td>...</td>\n",
       "      <td>...</td>\n",
       "      <td>...</td>\n",
       "      <td>...</td>\n",
       "      <td>...</td>\n",
       "      <td>...</td>\n",
       "      <td>...</td>\n",
       "      <td>...</td>\n",
       "      <td>...</td>\n",
       "      <td>...</td>\n",
       "      <td>...</td>\n",
       "      <td>...</td>\n",
       "      <td>...</td>\n",
       "      <td>...</td>\n",
       "      <td>...</td>\n",
       "      <td>...</td>\n",
       "      <td>...</td>\n",
       "      <td>...</td>\n",
       "      <td>...</td>\n",
       "      <td>...</td>\n",
       "    </tr>\n",
       "    <tr>\n",
       "      <th>643685</th>\n",
       "      <td>1827860</td>\n",
       "      <td>2013</td>\n",
       "      <td>1</td>\n",
       "      <td>0</td>\n",
       "      <td>0</td>\n",
       "      <td>0</td>\n",
       "      <td>1</td>\n",
       "      <td>0</td>\n",
       "      <td>0</td>\n",
       "      <td>1</td>\n",
       "      <td>...</td>\n",
       "      <td>0.000000</td>\n",
       "      <td>0.000000</td>\n",
       "      <td>0.000000</td>\n",
       "      <td>0.000000</td>\n",
       "      <td>0.612903</td>\n",
       "      <td>0.000000</td>\n",
       "      <td>0.000000</td>\n",
       "      <td>0.000000</td>\n",
       "      <td>0.000000</td>\n",
       "      <td>0.000000</td>\n",
       "    </tr>\n",
       "    <tr>\n",
       "      <th>643686</th>\n",
       "      <td>1827860</td>\n",
       "      <td>2015</td>\n",
       "      <td>2</td>\n",
       "      <td>1</td>\n",
       "      <td>0</td>\n",
       "      <td>0</td>\n",
       "      <td>1</td>\n",
       "      <td>0</td>\n",
       "      <td>1</td>\n",
       "      <td>0</td>\n",
       "      <td>...</td>\n",
       "      <td>0.000000</td>\n",
       "      <td>0.000000</td>\n",
       "      <td>0.212121</td>\n",
       "      <td>0.212121</td>\n",
       "      <td>17.363636</td>\n",
       "      <td>0.000000</td>\n",
       "      <td>8.909091</td>\n",
       "      <td>0.000000</td>\n",
       "      <td>0.000000</td>\n",
       "      <td>7.121212</td>\n",
       "    </tr>\n",
       "    <tr>\n",
       "      <th>643687</th>\n",
       "      <td>1827860</td>\n",
       "      <td>2016</td>\n",
       "      <td>3</td>\n",
       "      <td>1</td>\n",
       "      <td>0</td>\n",
       "      <td>0</td>\n",
       "      <td>1</td>\n",
       "      <td>1</td>\n",
       "      <td>0</td>\n",
       "      <td>1</td>\n",
       "      <td>...</td>\n",
       "      <td>0.000000</td>\n",
       "      <td>0.000000</td>\n",
       "      <td>0.294118</td>\n",
       "      <td>0.205882</td>\n",
       "      <td>34.705882</td>\n",
       "      <td>0.000000</td>\n",
       "      <td>10.352941</td>\n",
       "      <td>1.705882</td>\n",
       "      <td>1.705882</td>\n",
       "      <td>23.911765</td>\n",
       "    </tr>\n",
       "    <tr>\n",
       "      <th>643688</th>\n",
       "      <td>1827869</td>\n",
       "      <td>2013</td>\n",
       "      <td>1</td>\n",
       "      <td>1</td>\n",
       "      <td>1</td>\n",
       "      <td>0</td>\n",
       "      <td>0</td>\n",
       "      <td>0</td>\n",
       "      <td>1</td>\n",
       "      <td>0</td>\n",
       "      <td>...</td>\n",
       "      <td>0.000000</td>\n",
       "      <td>0.000000</td>\n",
       "      <td>0.000000</td>\n",
       "      <td>0.000000</td>\n",
       "      <td>0.000000</td>\n",
       "      <td>0.525424</td>\n",
       "      <td>0.000000</td>\n",
       "      <td>0.000000</td>\n",
       "      <td>0.000000</td>\n",
       "      <td>0.000000</td>\n",
       "    </tr>\n",
       "    <tr>\n",
       "      <th>643689</th>\n",
       "      <td>1827869</td>\n",
       "      <td>2014</td>\n",
       "      <td>2</td>\n",
       "      <td>0</td>\n",
       "      <td>0</td>\n",
       "      <td>1</td>\n",
       "      <td>0</td>\n",
       "      <td>0</td>\n",
       "      <td>1</td>\n",
       "      <td>0</td>\n",
       "      <td>...</td>\n",
       "      <td>0.000000</td>\n",
       "      <td>0.666667</td>\n",
       "      <td>0.666667</td>\n",
       "      <td>0.000000</td>\n",
       "      <td>0.000000</td>\n",
       "      <td>8.950000</td>\n",
       "      <td>1.033333</td>\n",
       "      <td>0.083333</td>\n",
       "      <td>0.083333</td>\n",
       "      <td>8.133333</td>\n",
       "    </tr>\n",
       "  </tbody>\n",
       "</table>\n",
       "<p>643690 rows × 164 columns</p>\n",
       "</div>"
      ],
      "text/plain": [
       "         persnr  year  nrEntry  ltue  employed_before  receipt_leh_before  \\\n",
       "0             7  2015        1     0                1                   0   \n",
       "1            18  2010        1     1                0                   0   \n",
       "2            18  2011        2     0                1                   0   \n",
       "3            18  2012        3     0                1                   0   \n",
       "4            18  2012        4     0                1                   0   \n",
       "...         ...   ...      ...   ...              ...                 ...   \n",
       "643685  1827860  2013        1     0                0                   0   \n",
       "643686  1827860  2015        2     1                0                   0   \n",
       "643687  1827860  2016        3     1                0                   0   \n",
       "643688  1827869  2013        1     1                1                   0   \n",
       "643689  1827869  2014        2     0                0                   1   \n",
       "\n",
       "        receipt_lhg_before  se_before  ASU_notue_seeking_before  \\\n",
       "0                        0          0                         1   \n",
       "1                        0          0                         0   \n",
       "2                        1          0                         1   \n",
       "3                        1          0                         1   \n",
       "4                        1          0                         1   \n",
       "...                    ...        ...                       ...   \n",
       "643685                   1          0                         0   \n",
       "643686                   1          0                         1   \n",
       "643687                   1          1                         0   \n",
       "643688                   0          0                         1   \n",
       "643689                   0          0                         1   \n",
       "\n",
       "        ASU_other_before  ...  minijob_tot_dur_byage  ft_tot_dur_byage  \\\n",
       "0                      0  ...               0.000000          0.000000   \n",
       "1                      0  ...               0.000000          0.000000   \n",
       "2                      0  ...               2.714286          2.714286   \n",
       "3                      0  ...               4.200000          4.200000   \n",
       "4                      0  ...               5.460000          5.460000   \n",
       "...                  ...  ...                    ...               ...   \n",
       "643685                 1  ...               0.000000          0.000000   \n",
       "643686                 0  ...               0.000000          0.000000   \n",
       "643687                 1  ...               0.000000          0.000000   \n",
       "643688                 0  ...               0.000000          0.000000   \n",
       "643689                 0  ...               0.000000          0.666667   \n",
       "\n",
       "        befrist_tot_dur_byage  leih_tot_dur_byage  LHG_tot_dur_byage  \\\n",
       "0                   15.043478            0.000000           0.000000   \n",
       "1                    0.000000            0.000000           0.000000   \n",
       "2                    0.000000            0.000000          10.775510   \n",
       "3                    0.000000            0.000000          12.100000   \n",
       "4                    0.000000            0.000000          13.360000   \n",
       "...                       ...                 ...                ...   \n",
       "643685               0.000000            0.000000           0.612903   \n",
       "643686               0.212121            0.212121          17.363636   \n",
       "643687               0.294118            0.205882          34.705882   \n",
       "643688               0.000000            0.000000           0.000000   \n",
       "643689               0.666667            0.000000           0.000000   \n",
       "\n",
       "        LEH_tot_dur_byage  almp_tot_dur_byage  almp_aw_tot_dur_byage  \\\n",
       "0                0.000000            0.000000               0.000000   \n",
       "1                0.000000            0.000000               0.000000   \n",
       "2                0.000000            8.367347               0.000000   \n",
       "3                0.000000            9.400000               0.000000   \n",
       "4                0.000000           10.320000               0.000000   \n",
       "...                   ...                 ...                    ...   \n",
       "643685           0.000000            0.000000               0.000000   \n",
       "643686           0.000000            8.909091               0.000000   \n",
       "643687           0.000000           10.352941               1.705882   \n",
       "643688           0.525424            0.000000               0.000000   \n",
       "643689           8.950000            1.033333               0.083333   \n",
       "\n",
       "        se_tot_dur_byage  seeking1_tot_dur_byage  \n",
       "0               0.000000                0.000000  \n",
       "1               0.000000                0.000000  \n",
       "2               0.000000                9.836735  \n",
       "3               0.000000                9.960000  \n",
       "4               0.000000               10.280000  \n",
       "...                  ...                     ...  \n",
       "643685          0.000000                0.000000  \n",
       "643686          0.000000                7.121212  \n",
       "643687          1.705882               23.911765  \n",
       "643688          0.000000                0.000000  \n",
       "643689          0.083333                8.133333  \n",
       "\n",
       "[643690 rows x 164 columns]"
      ]
     },
     "execution_count": 10,
     "metadata": {},
     "output_type": "execute_result"
    }
   ],
   "source": [
    "siab"
   ]
  },
  {
   "cell_type": "markdown",
   "id": "1f87e805",
   "metadata": {
    "papermill": {
     "duration": 0.01044,
     "end_time": "2025-08-19T18:07:17.971855",
     "exception": false,
     "start_time": "2025-08-19T18:07:17.961415",
     "status": "completed"
    },
    "tags": []
   },
   "source": [
    "# Splitting Data and Setting Training Data Size"
   ]
  },
  {
   "cell_type": "code",
   "execution_count": 11,
   "id": "910ae358",
   "metadata": {
    "execution": {
     "iopub.execute_input": "2025-08-19T18:07:18.018029Z",
     "iopub.status.busy": "2025-08-19T18:07:18.016861Z",
     "iopub.status.idle": "2025-08-19T18:07:18.719933Z",
     "shell.execute_reply": "2025-08-19T18:07:18.718955Z"
    },
    "papermill": {
     "duration": 0.740234,
     "end_time": "2025-08-19T18:07:18.721894",
     "exception": false,
     "start_time": "2025-08-19T18:07:17.981660",
     "status": "completed"
    },
    "tags": []
   },
   "outputs": [],
   "source": [
    "from fairness_multiverse.universe import sample_by_year_size\n",
    "\n",
    "siab_train = sample_by_year_size(siab,\n",
    "                               training_year=universe[\"training_year\"],\n",
    "                               training_size=universe[\"training_size\"])"
   ]
  },
  {
   "cell_type": "code",
   "execution_count": 12,
   "id": "919c8ff5",
   "metadata": {
    "execution": {
     "iopub.execute_input": "2025-08-19T18:07:18.751548Z",
     "iopub.status.busy": "2025-08-19T18:07:18.750542Z",
     "iopub.status.idle": "2025-08-19T18:07:18.759307Z",
     "shell.execute_reply": "2025-08-19T18:07:18.758279Z"
    },
    "papermill": {
     "duration": 0.02396,
     "end_time": "2025-08-19T18:07:18.762041",
     "exception": false,
     "start_time": "2025-08-19T18:07:18.738081",
     "status": "completed"
    },
    "tags": []
   },
   "outputs": [
    {
     "data": {
      "text/plain": [
       "(25000, 164)"
      ]
     },
     "execution_count": 12,
     "metadata": {},
     "output_type": "execute_result"
    }
   ],
   "source": [
    "siab_train.shape"
   ]
  },
  {
   "cell_type": "code",
   "execution_count": 13,
   "id": "feb13bf4",
   "metadata": {
    "execution": {
     "iopub.execute_input": "2025-08-19T18:07:18.798158Z",
     "iopub.status.busy": "2025-08-19T18:07:18.797038Z",
     "iopub.status.idle": "2025-08-19T18:07:18.809273Z",
     "shell.execute_reply": "2025-08-19T18:07:18.808294Z"
    },
    "papermill": {
     "duration": 0.039129,
     "end_time": "2025-08-19T18:07:18.811367",
     "exception": false,
     "start_time": "2025-08-19T18:07:18.772238",
     "status": "completed"
    },
    "tags": []
   },
   "outputs": [
    {
     "data": {
      "text/plain": [
       "year\n",
       "2012    8334\n",
       "2013    8333\n",
       "2014    8333\n",
       "dtype: int64"
      ]
     },
     "metadata": {},
     "output_type": "display_data"
    }
   ],
   "source": [
    "display(siab_train.groupby(\"year\").size())"
   ]
  },
  {
   "cell_type": "code",
   "execution_count": 14,
   "id": "0997782f",
   "metadata": {
    "execution": {
     "iopub.execute_input": "2025-08-19T18:07:18.840176Z",
     "iopub.status.busy": "2025-08-19T18:07:18.839482Z",
     "iopub.status.idle": "2025-08-19T18:07:19.083836Z",
     "shell.execute_reply": "2025-08-19T18:07:19.083159Z"
    },
    "papermill": {
     "duration": 0.257545,
     "end_time": "2025-08-19T18:07:19.085258",
     "exception": false,
     "start_time": "2025-08-19T18:07:18.827713",
     "status": "completed"
    },
    "tags": []
   },
   "outputs": [],
   "source": [
    "#siab_train = siab_s[siab_s.year < 2015]\n",
    "siab_calib = siab[siab.year == 2015]\n",
    "siab_test = siab[siab.year == 2016]"
   ]
  },
  {
   "cell_type": "code",
   "execution_count": 15,
   "id": "2c1e4012",
   "metadata": {
    "execution": {
     "iopub.execute_input": "2025-08-19T18:07:19.123972Z",
     "iopub.status.busy": "2025-08-19T18:07:19.122840Z",
     "iopub.status.idle": "2025-08-19T18:07:19.130709Z",
     "shell.execute_reply": "2025-08-19T18:07:19.128876Z"
    },
    "papermill": {
     "duration": 0.035576,
     "end_time": "2025-08-19T18:07:19.132567",
     "exception": false,
     "start_time": "2025-08-19T18:07:19.096991",
     "status": "completed"
    },
    "tags": []
   },
   "outputs": [],
   "source": [
    "#siab_calib.shape"
   ]
  },
  {
   "cell_type": "code",
   "execution_count": 16,
   "id": "f66b54ca",
   "metadata": {
    "execution": {
     "iopub.execute_input": "2025-08-19T18:07:19.162088Z",
     "iopub.status.busy": "2025-08-19T18:07:19.160940Z",
     "iopub.status.idle": "2025-08-19T18:07:19.169516Z",
     "shell.execute_reply": "2025-08-19T18:07:19.167424Z"
    },
    "papermill": {
     "duration": 0.022336,
     "end_time": "2025-08-19T18:07:19.171071",
     "exception": false,
     "start_time": "2025-08-19T18:07:19.148735",
     "status": "completed"
    },
    "tags": []
   },
   "outputs": [],
   "source": [
    "#siab_test.shape"
   ]
  },
  {
   "cell_type": "code",
   "execution_count": 17,
   "id": "27e4384d",
   "metadata": {
    "execution": {
     "iopub.execute_input": "2025-08-19T18:07:19.196733Z",
     "iopub.status.busy": "2025-08-19T18:07:19.195554Z",
     "iopub.status.idle": "2025-08-19T18:07:19.233118Z",
     "shell.execute_reply": "2025-08-19T18:07:19.232121Z"
    },
    "papermill": {
     "duration": 0.051645,
     "end_time": "2025-08-19T18:07:19.235467",
     "exception": false,
     "start_time": "2025-08-19T18:07:19.183822",
     "status": "completed"
    },
    "tags": []
   },
   "outputs": [],
   "source": [
    "X_train = siab_train.iloc[:,4:164]\n",
    "y_train = siab_train.iloc[:, [3]]"
   ]
  },
  {
   "cell_type": "code",
   "execution_count": 18,
   "id": "08ee8389",
   "metadata": {
    "execution": {
     "iopub.execute_input": "2025-08-19T18:07:19.277227Z",
     "iopub.status.busy": "2025-08-19T18:07:19.275690Z",
     "iopub.status.idle": "2025-08-19T18:07:19.332812Z",
     "shell.execute_reply": "2025-08-19T18:07:19.332109Z"
    },
    "papermill": {
     "duration": 0.072846,
     "end_time": "2025-08-19T18:07:19.334093",
     "exception": false,
     "start_time": "2025-08-19T18:07:19.261247",
     "status": "completed"
    },
    "tags": []
   },
   "outputs": [],
   "source": [
    "X_calib = siab_calib.iloc[:,4:164]\n",
    "y_calib = siab_calib.iloc[:, [3]]"
   ]
  },
  {
   "cell_type": "code",
   "execution_count": 19,
   "id": "b7ff42e0",
   "metadata": {
    "execution": {
     "iopub.execute_input": "2025-08-19T18:07:19.356892Z",
     "iopub.status.busy": "2025-08-19T18:07:19.356398Z",
     "iopub.status.idle": "2025-08-19T18:07:19.419203Z",
     "shell.execute_reply": "2025-08-19T18:07:19.418342Z"
    },
    "papermill": {
     "duration": 0.075725,
     "end_time": "2025-08-19T18:07:19.420547",
     "exception": false,
     "start_time": "2025-08-19T18:07:19.344822",
     "status": "completed"
    },
    "tags": []
   },
   "outputs": [],
   "source": [
    "X_test = siab_test.iloc[:,4:164]\n",
    "y_true = siab_test.iloc[:, [3]]"
   ]
  },
  {
   "cell_type": "code",
   "execution_count": 20,
   "id": "0275101e",
   "metadata": {
    "execution": {
     "iopub.execute_input": "2025-08-19T18:07:19.445002Z",
     "iopub.status.busy": "2025-08-19T18:07:19.443476Z",
     "iopub.status.idle": "2025-08-19T18:07:19.577885Z",
     "shell.execute_reply": "2025-08-19T18:07:19.577198Z"
    },
    "papermill": {
     "duration": 0.147996,
     "end_time": "2025-08-19T18:07:19.579295",
     "exception": false,
     "start_time": "2025-08-19T18:07:19.431299",
     "status": "completed"
    },
    "tags": []
   },
   "outputs": [],
   "source": [
    "# Auxiliary data needed downstream in the pipeline\n",
    "\n",
    "org_train = X_train.copy()\n",
    "org_test = X_test.copy()\n",
    "org_calib = X_calib.copy()"
   ]
  },
  {
   "cell_type": "markdown",
   "id": "b461e618",
   "metadata": {
    "papermill": {
     "duration": 0.010655,
     "end_time": "2025-08-19T18:07:19.600825",
     "exception": false,
     "start_time": "2025-08-19T18:07:19.590170",
     "status": "completed"
    },
    "tags": []
   },
   "source": [
    "# Preprocessing Data"
   ]
  },
  {
   "cell_type": "code",
   "execution_count": 21,
   "id": "78e74c4b",
   "metadata": {
    "execution": {
     "iopub.execute_input": "2025-08-19T18:07:19.625017Z",
     "iopub.status.busy": "2025-08-19T18:07:19.623815Z",
     "iopub.status.idle": "2025-08-19T18:07:19.634928Z",
     "shell.execute_reply": "2025-08-19T18:07:19.633427Z"
    },
    "papermill": {
     "duration": 0.025062,
     "end_time": "2025-08-19T18:07:19.636527",
     "exception": false,
     "start_time": "2025-08-19T18:07:19.611465",
     "status": "completed"
    },
    "tags": []
   },
   "outputs": [],
   "source": [
    "# EXCLUDE PROTECTED FEATURES\n",
    "# --------------------------\n",
    "\n",
    "excluded_features = universe[\"exclude_features\"].split(\"-\")\n",
    "excluded_features_dictionary = {\n",
    "    \"nationality\": [\"maxdeutsch1\", \"maxdeutsch.Missing.\"],\n",
    "    \"sex\": [\"frau1\"],\n",
    "    \"age\": [\"age\"],\n",
    "}"
   ]
  },
  {
   "cell_type": "code",
   "execution_count": 22,
   "id": "f8e63555",
   "metadata": {
    "execution": {
     "iopub.execute_input": "2025-08-19T18:07:19.662994Z",
     "iopub.status.busy": "2025-08-19T18:07:19.661831Z",
     "iopub.status.idle": "2025-08-19T18:07:19.672213Z",
     "shell.execute_reply": "2025-08-19T18:07:19.670415Z"
    },
    "papermill": {
     "duration": 0.024048,
     "end_time": "2025-08-19T18:07:19.673667",
     "exception": false,
     "start_time": "2025-08-19T18:07:19.649619",
     "status": "completed"
    },
    "tags": []
   },
   "outputs": [],
   "source": [
    "excluded_features_columns = [\n",
    "    excluded_features_dictionary[f] for f in excluded_features if len(f) > 0 and f != \"none\"\n",
    "]"
   ]
  },
  {
   "cell_type": "code",
   "execution_count": 23,
   "id": "da781f7c",
   "metadata": {
    "execution": {
     "iopub.execute_input": "2025-08-19T18:07:19.700799Z",
     "iopub.status.busy": "2025-08-19T18:07:19.699591Z",
     "iopub.status.idle": "2025-08-19T18:07:19.715500Z",
     "shell.execute_reply": "2025-08-19T18:07:19.714019Z"
    },
    "papermill": {
     "duration": 0.0302,
     "end_time": "2025-08-19T18:07:19.717143",
     "exception": false,
     "start_time": "2025-08-19T18:07:19.686943",
     "status": "completed"
    },
    "tags": []
   },
   "outputs": [],
   "source": [
    "from fairness_multiverse.universe import flatten_once\n",
    "\n",
    "excluded_features_columns = flatten_once(excluded_features_columns)"
   ]
  },
  {
   "cell_type": "code",
   "execution_count": 24,
   "id": "37fef0f0",
   "metadata": {
    "execution": {
     "iopub.execute_input": "2025-08-19T18:07:19.747739Z",
     "iopub.status.busy": "2025-08-19T18:07:19.746578Z",
     "iopub.status.idle": "2025-08-19T18:07:19.789937Z",
     "shell.execute_reply": "2025-08-19T18:07:19.789108Z"
    },
    "papermill": {
     "duration": 0.072497,
     "end_time": "2025-08-19T18:07:19.806299",
     "exception": false,
     "start_time": "2025-08-19T18:07:19.733802",
     "status": "completed"
    },
    "tags": []
   },
   "outputs": [
    {
     "name": "stdout",
     "output_type": "stream",
     "text": [
      "Dropping features: ['maxdeutsch1', 'maxdeutsch.Missing.']\n"
     ]
    }
   ],
   "source": [
    "if len(excluded_features_columns) > 0:\n",
    "    print(f\"Dropping features: {excluded_features_columns}\")\n",
    "    X_train.drop(excluded_features_columns, axis=1, inplace=True)"
   ]
  },
  {
   "cell_type": "code",
   "execution_count": 25,
   "id": "d029e3e9",
   "metadata": {
    "execution": {
     "iopub.execute_input": "2025-08-19T18:07:19.837182Z",
     "iopub.status.busy": "2025-08-19T18:07:19.835989Z",
     "iopub.status.idle": "2025-08-19T18:07:19.900492Z",
     "shell.execute_reply": "2025-08-19T18:07:19.899499Z"
    },
    "papermill": {
     "duration": 0.081017,
     "end_time": "2025-08-19T18:07:19.903504",
     "exception": false,
     "start_time": "2025-08-19T18:07:19.822487",
     "status": "completed"
    },
    "tags": []
   },
   "outputs": [
    {
     "name": "stdout",
     "output_type": "stream",
     "text": [
      "Dropping features: ['maxdeutsch1', 'maxdeutsch.Missing.']\n"
     ]
    }
   ],
   "source": [
    "if len(excluded_features_columns) > 0:\n",
    "    print(f\"Dropping features: {excluded_features_columns}\")\n",
    "    X_test.drop(excluded_features_columns, axis=1, inplace=True)"
   ]
  },
  {
   "cell_type": "code",
   "execution_count": 26,
   "id": "01d571f0",
   "metadata": {
    "execution": {
     "iopub.execute_input": "2025-08-19T18:07:19.943146Z",
     "iopub.status.busy": "2025-08-19T18:07:19.942053Z",
     "iopub.status.idle": "2025-08-19T18:07:19.999588Z",
     "shell.execute_reply": "2025-08-19T18:07:19.998924Z"
    },
    "papermill": {
     "duration": 0.074438,
     "end_time": "2025-08-19T18:07:20.002056",
     "exception": false,
     "start_time": "2025-08-19T18:07:19.927618",
     "status": "completed"
    },
    "tags": []
   },
   "outputs": [
    {
     "name": "stdout",
     "output_type": "stream",
     "text": [
      "Dropping features: ['maxdeutsch1', 'maxdeutsch.Missing.']\n"
     ]
    }
   ],
   "source": [
    "if len(excluded_features_columns) > 0:\n",
    "    print(f\"Dropping features: {excluded_features_columns}\")\n",
    "    X_calib.drop(excluded_features_columns, axis=1, inplace=True)"
   ]
  },
  {
   "cell_type": "code",
   "execution_count": 27,
   "id": "3037356e",
   "metadata": {
    "execution": {
     "iopub.execute_input": "2025-08-19T18:07:20.051611Z",
     "iopub.status.busy": "2025-08-19T18:07:20.051117Z",
     "iopub.status.idle": "2025-08-19T18:07:20.055694Z",
     "shell.execute_reply": "2025-08-19T18:07:20.055053Z"
    },
    "papermill": {
     "duration": 0.018613,
     "end_time": "2025-08-19T18:07:20.057454",
     "exception": false,
     "start_time": "2025-08-19T18:07:20.038841",
     "status": "completed"
    },
    "tags": []
   },
   "outputs": [],
   "source": [
    "# EXCLUDE CERTAIN SUBGROUPS\n",
    "# -------------------------\n",
    "\n",
    "mode = universe.get(\"exclude_subgroups\", \"keep-all\") # Defaults to \"keep-all\" if the key is missing."
   ]
  },
  {
   "cell_type": "code",
   "execution_count": 28,
   "id": "9d1e63fd",
   "metadata": {
    "execution": {
     "iopub.execute_input": "2025-08-19T18:07:20.081899Z",
     "iopub.status.busy": "2025-08-19T18:07:20.081409Z",
     "iopub.status.idle": "2025-08-19T18:07:20.089931Z",
     "shell.execute_reply": "2025-08-19T18:07:20.088713Z"
    },
    "papermill": {
     "duration": 0.022514,
     "end_time": "2025-08-19T18:07:20.091907",
     "exception": false,
     "start_time": "2025-08-19T18:07:20.069393",
     "status": "completed"
    },
    "tags": []
   },
   "outputs": [],
   "source": [
    "if mode == \"keep-all\":\n",
    "    keep_mask = pd.Series(True, index=org_train.index)\n",
    "\n",
    "elif mode == \"drop-non-german\":\n",
    "    keep_mask = (org_train[\"maxdeutsch1\"] == 1) & (org_train[\"maxdeutsch.Missing.\"] == 0)\n",
    "\n",
    "else:\n",
    "    raise ValueError(f\"Unsupported mode for exclude_subgroups: {mode}\")"
   ]
  },
  {
   "cell_type": "code",
   "execution_count": 29,
   "id": "d3b65474",
   "metadata": {
    "execution": {
     "iopub.execute_input": "2025-08-19T18:07:20.117959Z",
     "iopub.status.busy": "2025-08-19T18:07:20.117483Z",
     "iopub.status.idle": "2025-08-19T18:07:20.123933Z",
     "shell.execute_reply": "2025-08-19T18:07:20.123079Z"
    },
    "papermill": {
     "duration": 0.01973,
     "end_time": "2025-08-19T18:07:20.125166",
     "exception": false,
     "start_time": "2025-08-19T18:07:20.105436",
     "status": "completed"
    },
    "tags": []
   },
   "outputs": [
    {
     "name": "stdout",
     "output_type": "stream",
     "text": [
      "Dropping 3481 rows (13.92%) where mode='drop-non-german'\n"
     ]
    }
   ],
   "source": [
    "n_drop = (~keep_mask).sum() # Calculates how many rows are set to be dropped\n",
    "if n_drop > 0:\n",
    "    pct = n_drop / len(keep_mask) * 100\n",
    "    print(f\"Dropping {n_drop} rows ({pct:.2f}%) where mode='{mode}'\")"
   ]
  },
  {
   "cell_type": "code",
   "execution_count": 30,
   "id": "f44389b3",
   "metadata": {
    "execution": {
     "iopub.execute_input": "2025-08-19T18:07:20.148675Z",
     "iopub.status.busy": "2025-08-19T18:07:20.147812Z",
     "iopub.status.idle": "2025-08-19T18:07:20.164443Z",
     "shell.execute_reply": "2025-08-19T18:07:20.163614Z"
    },
    "papermill": {
     "duration": 0.030516,
     "end_time": "2025-08-19T18:07:20.166462",
     "exception": false,
     "start_time": "2025-08-19T18:07:20.135946",
     "status": "completed"
    },
    "tags": []
   },
   "outputs": [],
   "source": [
    "X_train = X_train[keep_mask]"
   ]
  },
  {
   "cell_type": "code",
   "execution_count": 31,
   "id": "ceca8c2a",
   "metadata": {
    "execution": {
     "iopub.execute_input": "2025-08-19T18:07:20.200044Z",
     "iopub.status.busy": "2025-08-19T18:07:20.198729Z",
     "iopub.status.idle": "2025-08-19T18:07:20.207311Z",
     "shell.execute_reply": "2025-08-19T18:07:20.206179Z"
    },
    "papermill": {
     "duration": 0.023942,
     "end_time": "2025-08-19T18:07:20.208722",
     "exception": false,
     "start_time": "2025-08-19T18:07:20.184780",
     "status": "completed"
    },
    "tags": []
   },
   "outputs": [],
   "source": [
    "y_train = y_train[keep_mask]"
   ]
  },
  {
   "cell_type": "markdown",
   "id": "04d31e2f",
   "metadata": {
    "papermill": {
     "duration": 0.011199,
     "end_time": "2025-08-19T18:07:20.233924",
     "exception": false,
     "start_time": "2025-08-19T18:07:20.222725",
     "status": "completed"
    },
    "tags": []
   },
   "source": [
    "# Model Training"
   ]
  },
  {
   "cell_type": "code",
   "execution_count": 32,
   "id": "db991733",
   "metadata": {
    "execution": {
     "iopub.execute_input": "2025-08-19T18:07:20.259680Z",
     "iopub.status.busy": "2025-08-19T18:07:20.258100Z",
     "iopub.status.idle": "2025-08-19T18:07:20.373218Z",
     "shell.execute_reply": "2025-08-19T18:07:20.372318Z"
    },
    "papermill": {
     "duration": 0.129726,
     "end_time": "2025-08-19T18:07:20.374821",
     "exception": false,
     "start_time": "2025-08-19T18:07:20.245095",
     "status": "completed"
    },
    "tags": []
   },
   "outputs": [],
   "source": [
    "from sklearn.linear_model import LogisticRegression\n",
    "from sklearn.ensemble import GradientBoostingClassifier, RandomForestClassifier\n",
    "\n",
    "if (universe[\"model\"] == \"logreg\"):\n",
    "    model = LogisticRegression() #penalty=\"none\", solver=\"newton-cg\", max_iter=1)\n",
    "elif (universe[\"model\"] == \"penalized_logreg\"):\n",
    "    model = LogisticRegression(penalty=\"l2\", C=0.1) #, solver=\"newton-cg\", max_iter=1)\n",
    "elif (universe[\"model\"] == \"rf\"):\n",
    "    model = RandomForestClassifier() # n_estimators=100, n_jobs=-1\n",
    "elif (universe[\"model\"] == \"gbm\"):\n",
    "    model = GradientBoostingClassifier()\n",
    "elif (universe[\"model\"] == \"elasticnet\"):\n",
    "    model = LogisticRegression(penalty = 'elasticnet', solver = 'saga', l1_ratio = 0.5) # max_iter=5000\n",
    "else:\n",
    "    raise \"Unsupported universe.model\""
   ]
  },
  {
   "cell_type": "code",
   "execution_count": 33,
   "id": "a4b5cd25",
   "metadata": {
    "execution": {
     "iopub.execute_input": "2025-08-19T18:07:20.398988Z",
     "iopub.status.busy": "2025-08-19T18:07:20.398122Z",
     "iopub.status.idle": "2025-08-19T18:07:20.405416Z",
     "shell.execute_reply": "2025-08-19T18:07:20.404415Z"
    },
    "papermill": {
     "duration": 0.020572,
     "end_time": "2025-08-19T18:07:20.406711",
     "exception": false,
     "start_time": "2025-08-19T18:07:20.386139",
     "status": "completed"
    },
    "tags": []
   },
   "outputs": [],
   "source": [
    "from sklearn.pipeline import Pipeline\n",
    "from sklearn.preprocessing import StandardScaler\n",
    "\n",
    "model = Pipeline([\n",
    "    #(\"continuous_processor\", continuous_processor),\n",
    "    #(\"categorical_preprocessor\", categorical_preprocessor),\n",
    "    (\"scale\", StandardScaler() if universe[\"scale\"] == \"scale\" else None), \n",
    "    (\"model\", model),\n",
    "])"
   ]
  },
  {
   "cell_type": "code",
   "execution_count": 34,
   "id": "283a904d",
   "metadata": {
    "execution": {
     "iopub.execute_input": "2025-08-19T18:07:20.434065Z",
     "iopub.status.busy": "2025-08-19T18:07:20.430419Z",
     "iopub.status.idle": "2025-08-19T18:07:26.400088Z",
     "shell.execute_reply": "2025-08-19T18:07:26.399108Z"
    },
    "papermill": {
     "duration": 5.983453,
     "end_time": "2025-08-19T18:07:26.401393",
     "exception": false,
     "start_time": "2025-08-19T18:07:20.417940",
     "status": "completed"
    },
    "tags": []
   },
   "outputs": [
    {
     "name": "stderr",
     "output_type": "stream",
     "text": [
      "/dss/dsshome1/0C/ra93lal2/.local/share/virtualenvs/CMA_Fairness_v2-3j10GkSs/lib/python3.10/site-packages/sklearn/linear_model/_sag.py:350: ConvergenceWarning: The max_iter was reached which means the coef_ did not converge\n",
      "  warnings.warn(\n"
     ]
    },
    {
     "data": {
      "text/html": [
       "<style>#sk-container-id-1 {color: black;background-color: white;}#sk-container-id-1 pre{padding: 0;}#sk-container-id-1 div.sk-toggleable {background-color: white;}#sk-container-id-1 label.sk-toggleable__label {cursor: pointer;display: block;width: 100%;margin-bottom: 0;padding: 0.3em;box-sizing: border-box;text-align: center;}#sk-container-id-1 label.sk-toggleable__label-arrow:before {content: \"▸\";float: left;margin-right: 0.25em;color: #696969;}#sk-container-id-1 label.sk-toggleable__label-arrow:hover:before {color: black;}#sk-container-id-1 div.sk-estimator:hover label.sk-toggleable__label-arrow:before {color: black;}#sk-container-id-1 div.sk-toggleable__content {max-height: 0;max-width: 0;overflow: hidden;text-align: left;background-color: #f0f8ff;}#sk-container-id-1 div.sk-toggleable__content pre {margin: 0.2em;color: black;border-radius: 0.25em;background-color: #f0f8ff;}#sk-container-id-1 input.sk-toggleable__control:checked~div.sk-toggleable__content {max-height: 200px;max-width: 100%;overflow: auto;}#sk-container-id-1 input.sk-toggleable__control:checked~label.sk-toggleable__label-arrow:before {content: \"▾\";}#sk-container-id-1 div.sk-estimator input.sk-toggleable__control:checked~label.sk-toggleable__label {background-color: #d4ebff;}#sk-container-id-1 div.sk-label input.sk-toggleable__control:checked~label.sk-toggleable__label {background-color: #d4ebff;}#sk-container-id-1 input.sk-hidden--visually {border: 0;clip: rect(1px 1px 1px 1px);clip: rect(1px, 1px, 1px, 1px);height: 1px;margin: -1px;overflow: hidden;padding: 0;position: absolute;width: 1px;}#sk-container-id-1 div.sk-estimator {font-family: monospace;background-color: #f0f8ff;border: 1px dotted black;border-radius: 0.25em;box-sizing: border-box;margin-bottom: 0.5em;}#sk-container-id-1 div.sk-estimator:hover {background-color: #d4ebff;}#sk-container-id-1 div.sk-parallel-item::after {content: \"\";width: 100%;border-bottom: 1px solid gray;flex-grow: 1;}#sk-container-id-1 div.sk-label:hover label.sk-toggleable__label {background-color: #d4ebff;}#sk-container-id-1 div.sk-serial::before {content: \"\";position: absolute;border-left: 1px solid gray;box-sizing: border-box;top: 0;bottom: 0;left: 50%;z-index: 0;}#sk-container-id-1 div.sk-serial {display: flex;flex-direction: column;align-items: center;background-color: white;padding-right: 0.2em;padding-left: 0.2em;position: relative;}#sk-container-id-1 div.sk-item {position: relative;z-index: 1;}#sk-container-id-1 div.sk-parallel {display: flex;align-items: stretch;justify-content: center;background-color: white;position: relative;}#sk-container-id-1 div.sk-item::before, #sk-container-id-1 div.sk-parallel-item::before {content: \"\";position: absolute;border-left: 1px solid gray;box-sizing: border-box;top: 0;bottom: 0;left: 50%;z-index: -1;}#sk-container-id-1 div.sk-parallel-item {display: flex;flex-direction: column;z-index: 1;position: relative;background-color: white;}#sk-container-id-1 div.sk-parallel-item:first-child::after {align-self: flex-end;width: 50%;}#sk-container-id-1 div.sk-parallel-item:last-child::after {align-self: flex-start;width: 50%;}#sk-container-id-1 div.sk-parallel-item:only-child::after {width: 0;}#sk-container-id-1 div.sk-dashed-wrapped {border: 1px dashed gray;margin: 0 0.4em 0.5em 0.4em;box-sizing: border-box;padding-bottom: 0.4em;background-color: white;}#sk-container-id-1 div.sk-label label {font-family: monospace;font-weight: bold;display: inline-block;line-height: 1.2em;}#sk-container-id-1 div.sk-label-container {text-align: center;}#sk-container-id-1 div.sk-container {/* jupyter's `normalize.less` sets `[hidden] { display: none; }` but bootstrap.min.css set `[hidden] { display: none !important; }` so we also need the `!important` here to be able to override the default hidden behavior on the sphinx rendered scikit-learn.org. See: https://github.com/scikit-learn/scikit-learn/issues/21755 */display: inline-block !important;position: relative;}#sk-container-id-1 div.sk-text-repr-fallback {display: none;}</style><div id=\"sk-container-id-1\" class=\"sk-top-container\"><div class=\"sk-text-repr-fallback\"><pre>Pipeline(steps=[(&#x27;scale&#x27;, StandardScaler()),\n",
       "                (&#x27;model&#x27;,\n",
       "                 LogisticRegression(l1_ratio=0.5, penalty=&#x27;elasticnet&#x27;,\n",
       "                                    solver=&#x27;saga&#x27;))])</pre><b>In a Jupyter environment, please rerun this cell to show the HTML representation or trust the notebook. <br />On GitHub, the HTML representation is unable to render, please try loading this page with nbviewer.org.</b></div><div class=\"sk-container\" hidden><div class=\"sk-item sk-dashed-wrapped\"><div class=\"sk-label-container\"><div class=\"sk-label sk-toggleable\"><input class=\"sk-toggleable__control sk-hidden--visually\" id=\"sk-estimator-id-1\" type=\"checkbox\" ><label for=\"sk-estimator-id-1\" class=\"sk-toggleable__label sk-toggleable__label-arrow\">Pipeline</label><div class=\"sk-toggleable__content\"><pre>Pipeline(steps=[(&#x27;scale&#x27;, StandardScaler()),\n",
       "                (&#x27;model&#x27;,\n",
       "                 LogisticRegression(l1_ratio=0.5, penalty=&#x27;elasticnet&#x27;,\n",
       "                                    solver=&#x27;saga&#x27;))])</pre></div></div></div><div class=\"sk-serial\"><div class=\"sk-item\"><div class=\"sk-estimator sk-toggleable\"><input class=\"sk-toggleable__control sk-hidden--visually\" id=\"sk-estimator-id-2\" type=\"checkbox\" ><label for=\"sk-estimator-id-2\" class=\"sk-toggleable__label sk-toggleable__label-arrow\">StandardScaler</label><div class=\"sk-toggleable__content\"><pre>StandardScaler()</pre></div></div></div><div class=\"sk-item\"><div class=\"sk-estimator sk-toggleable\"><input class=\"sk-toggleable__control sk-hidden--visually\" id=\"sk-estimator-id-3\" type=\"checkbox\" ><label for=\"sk-estimator-id-3\" class=\"sk-toggleable__label sk-toggleable__label-arrow\">LogisticRegression</label><div class=\"sk-toggleable__content\"><pre>LogisticRegression(l1_ratio=0.5, penalty=&#x27;elasticnet&#x27;, solver=&#x27;saga&#x27;)</pre></div></div></div></div></div></div></div>"
      ],
      "text/plain": [
       "Pipeline(steps=[('scale', StandardScaler()),\n",
       "                ('model',\n",
       "                 LogisticRegression(l1_ratio=0.5, penalty='elasticnet',\n",
       "                                    solver='saga'))])"
      ]
     },
     "execution_count": 34,
     "metadata": {},
     "output_type": "execute_result"
    }
   ],
   "source": [
    "model.fit(X_train, y_train.values.ravel())"
   ]
  },
  {
   "cell_type": "code",
   "execution_count": 35,
   "id": "6e15e313",
   "metadata": {
    "execution": {
     "iopub.execute_input": "2025-08-19T18:07:26.451878Z",
     "iopub.status.busy": "2025-08-19T18:07:26.450290Z",
     "iopub.status.idle": "2025-08-19T18:07:26.662240Z",
     "shell.execute_reply": "2025-08-19T18:07:26.661502Z"
    },
    "papermill": {
     "duration": 0.242898,
     "end_time": "2025-08-19T18:07:26.665846",
     "exception": false,
     "start_time": "2025-08-19T18:07:26.422948",
     "status": "completed"
    },
    "tags": []
   },
   "outputs": [
    {
     "data": {
      "text/plain": [
       "0.8616765132092298"
      ]
     },
     "execution_count": 35,
     "metadata": {},
     "output_type": "execute_result"
    }
   ],
   "source": [
    "from fairness_multiverse.universe import predict_w_threshold\n",
    "\n",
    "probs_test = model.predict_proba(X_test)\n",
    "\n",
    "'''\n",
    "Below code returns a boolean array (or binary 0/1 array depending on how it’s used) where each element \n",
    "is True if the probability of class 1 is greater than or equal to the threshold, and False otherwise.\n",
    "'''\n",
    "y_pred_default = predict_w_threshold(probs_test, 0.5)\n",
    "\n",
    "from sklearn.metrics import accuracy_score\n",
    "\n",
    "# Naive prediction\n",
    "accuracy_score(y_true = y_true, y_pred = y_pred_default)"
   ]
  },
  {
   "cell_type": "code",
   "execution_count": 36,
   "id": "6f14067c",
   "metadata": {
    "execution": {
     "iopub.execute_input": "2025-08-19T18:07:26.705890Z",
     "iopub.status.busy": "2025-08-19T18:07:26.704277Z",
     "iopub.status.idle": "2025-08-19T18:07:26.902324Z",
     "shell.execute_reply": "2025-08-19T18:07:26.901183Z"
    },
    "papermill": {
     "duration": 0.213503,
     "end_time": "2025-08-19T18:07:26.903644",
     "exception": false,
     "start_time": "2025-08-19T18:07:26.690141",
     "status": "completed"
    },
    "tags": []
   },
   "outputs": [
    {
     "data": {
      "text/plain": [
       "array([0, 0, 0, ..., 0, 0, 0])"
      ]
     },
     "execution_count": 36,
     "metadata": {},
     "output_type": "execute_result"
    }
   ],
   "source": [
    "model.predict(X_test)"
   ]
  },
  {
   "cell_type": "markdown",
   "id": "3759920c",
   "metadata": {
    "papermill": {
     "duration": 0.011546,
     "end_time": "2025-08-19T18:07:26.927306",
     "exception": false,
     "start_time": "2025-08-19T18:07:26.915760",
     "status": "completed"
    },
    "tags": []
   },
   "source": [
    "# Conformal Prediction"
   ]
  },
  {
   "cell_type": "code",
   "execution_count": 37,
   "id": "14b27f59",
   "metadata": {
    "execution": {
     "iopub.execute_input": "2025-08-19T18:07:26.953841Z",
     "iopub.status.busy": "2025-08-19T18:07:26.952267Z",
     "iopub.status.idle": "2025-08-19T18:07:26.961061Z",
     "shell.execute_reply": "2025-08-19T18:07:26.959444Z"
    },
    "papermill": {
     "duration": 0.023961,
     "end_time": "2025-08-19T18:07:26.962898",
     "exception": false,
     "start_time": "2025-08-19T18:07:26.938937",
     "status": "completed"
    },
    "tags": []
   },
   "outputs": [],
   "source": [
    "# Miscoverage level for conformal prediction (10% allowed error rate => 90% target coverage)\n",
    "alpha = 0.1"
   ]
  },
  {
   "cell_type": "code",
   "execution_count": 38,
   "id": "59102472",
   "metadata": {
    "execution": {
     "iopub.execute_input": "2025-08-19T18:07:26.994007Z",
     "iopub.status.busy": "2025-08-19T18:07:26.992877Z",
     "iopub.status.idle": "2025-08-19T18:07:27.183632Z",
     "shell.execute_reply": "2025-08-19T18:07:27.182833Z"
    },
    "papermill": {
     "duration": 0.205675,
     "end_time": "2025-08-19T18:07:27.185131",
     "exception": false,
     "start_time": "2025-08-19T18:07:26.979456",
     "status": "completed"
    },
    "tags": []
   },
   "outputs": [],
   "source": [
    "probs_calib = model.predict_proba(X_calib)"
   ]
  },
  {
   "cell_type": "code",
   "execution_count": 39,
   "id": "a792d4dd",
   "metadata": {
    "execution": {
     "iopub.execute_input": "2025-08-19T18:07:27.213960Z",
     "iopub.status.busy": "2025-08-19T18:07:27.212855Z",
     "iopub.status.idle": "2025-08-19T18:07:27.221641Z",
     "shell.execute_reply": "2025-08-19T18:07:27.220575Z"
    },
    "papermill": {
     "duration": 0.023649,
     "end_time": "2025-08-19T18:07:27.223647",
     "exception": false,
     "start_time": "2025-08-19T18:07:27.199998",
     "status": "completed"
    },
    "tags": []
   },
   "outputs": [],
   "source": [
    "y_calib = y_calib.values.ravel().astype(int)"
   ]
  },
  {
   "cell_type": "code",
   "execution_count": 40,
   "id": "650fd033",
   "metadata": {
    "execution": {
     "iopub.execute_input": "2025-08-19T18:07:27.286330Z",
     "iopub.status.busy": "2025-08-19T18:07:27.285115Z",
     "iopub.status.idle": "2025-08-19T18:07:27.296776Z",
     "shell.execute_reply": "2025-08-19T18:07:27.295944Z"
    },
    "papermill": {
     "duration": 0.049077,
     "end_time": "2025-08-19T18:07:27.305979",
     "exception": false,
     "start_time": "2025-08-19T18:07:27.256902",
     "status": "completed"
    },
    "tags": []
   },
   "outputs": [],
   "source": [
    "from fairness_multiverse.conformal import compute_nc_scores\n",
    "\n",
    "# Compute nonconformity scores on calibration set (1 - probability of true class)\n",
    "nc_scores = compute_nc_scores(probs_calib, y_calib)"
   ]
  },
  {
   "cell_type": "code",
   "execution_count": 41,
   "id": "28ada44c",
   "metadata": {
    "execution": {
     "iopub.execute_input": "2025-08-19T18:07:27.345905Z",
     "iopub.status.busy": "2025-08-19T18:07:27.344360Z",
     "iopub.status.idle": "2025-08-19T18:07:27.355186Z",
     "shell.execute_reply": "2025-08-19T18:07:27.354026Z"
    },
    "papermill": {
     "duration": 0.026821,
     "end_time": "2025-08-19T18:07:27.356935",
     "exception": false,
     "start_time": "2025-08-19T18:07:27.330114",
     "status": "completed"
    },
    "tags": []
   },
   "outputs": [],
   "source": [
    "from fairness_multiverse.conformal import find_threshold\n",
    "\n",
    "# Find conformal threshold q_hat for the given alpha (split conformal method)\n",
    "q_hat = find_threshold(nc_scores, alpha)"
   ]
  },
  {
   "cell_type": "code",
   "execution_count": 42,
   "id": "df56469e",
   "metadata": {
    "execution": {
     "iopub.execute_input": "2025-08-19T18:07:27.419757Z",
     "iopub.status.busy": "2025-08-19T18:07:27.418401Z",
     "iopub.status.idle": "2025-08-19T18:07:27.428253Z",
     "shell.execute_reply": "2025-08-19T18:07:27.427271Z"
    },
    "papermill": {
     "duration": 0.044608,
     "end_time": "2025-08-19T18:07:27.437360",
     "exception": false,
     "start_time": "2025-08-19T18:07:27.392752",
     "status": "completed"
    },
    "tags": []
   },
   "outputs": [
    {
     "data": {
      "text/plain": [
       "0.662329211139268"
      ]
     },
     "execution_count": 42,
     "metadata": {},
     "output_type": "execute_result"
    }
   ],
   "source": [
    "q_hat"
   ]
  },
  {
   "cell_type": "code",
   "execution_count": 43,
   "id": "aa1f5faa",
   "metadata": {
    "execution": {
     "iopub.execute_input": "2025-08-19T18:07:27.474052Z",
     "iopub.status.busy": "2025-08-19T18:07:27.473223Z",
     "iopub.status.idle": "2025-08-19T18:07:28.069036Z",
     "shell.execute_reply": "2025-08-19T18:07:28.068269Z"
    },
    "papermill": {
     "duration": 0.620693,
     "end_time": "2025-08-19T18:07:28.073225",
     "exception": false,
     "start_time": "2025-08-19T18:07:27.452532",
     "status": "completed"
    },
    "tags": []
   },
   "outputs": [],
   "source": [
    "from fairness_multiverse.conformal import predict_conformal_sets\n",
    "\n",
    "# Generate prediction sets for each test example\n",
    "pred_sets = predict_conformal_sets(model, X_test, q_hat)"
   ]
  },
  {
   "cell_type": "code",
   "execution_count": 44,
   "id": "97f67a6b",
   "metadata": {
    "execution": {
     "iopub.execute_input": "2025-08-19T18:07:28.108778Z",
     "iopub.status.busy": "2025-08-19T18:07:28.107060Z",
     "iopub.status.idle": "2025-08-19T18:07:28.114774Z",
     "shell.execute_reply": "2025-08-19T18:07:28.113634Z"
    },
    "papermill": {
     "duration": 0.024734,
     "end_time": "2025-08-19T18:07:28.116674",
     "exception": false,
     "start_time": "2025-08-19T18:07:28.091940",
     "status": "completed"
    },
    "tags": []
   },
   "outputs": [],
   "source": [
    "y_true = y_true.squeeze()"
   ]
  },
  {
   "cell_type": "code",
   "execution_count": 45,
   "id": "e700e9a7",
   "metadata": {
    "execution": {
     "iopub.execute_input": "2025-08-19T18:07:28.155344Z",
     "iopub.status.busy": "2025-08-19T18:07:28.154584Z",
     "iopub.status.idle": "2025-08-19T18:07:28.663835Z",
     "shell.execute_reply": "2025-08-19T18:07:28.663060Z"
    },
    "papermill": {
     "duration": 0.536043,
     "end_time": "2025-08-19T18:07:28.665552",
     "exception": false,
     "start_time": "2025-08-19T18:07:28.129509",
     "status": "completed"
    },
    "tags": []
   },
   "outputs": [],
   "source": [
    "from fairness_multiverse.conformal import evaluate_sets\n",
    "\n",
    "# Evaluate coverage and average set size on test data\n",
    "metrics = evaluate_sets(pred_sets, y_true)"
   ]
  },
  {
   "cell_type": "markdown",
   "id": "efbacec0",
   "metadata": {
    "papermill": {
     "duration": 0.015909,
     "end_time": "2025-08-19T18:07:28.731571",
     "exception": false,
     "start_time": "2025-08-19T18:07:28.715662",
     "status": "completed"
    },
    "tags": []
   },
   "source": [
    "# CP Metrics"
   ]
  },
  {
   "cell_type": "code",
   "execution_count": 46,
   "id": "9de55fb1",
   "metadata": {
    "execution": {
     "iopub.execute_input": "2025-08-19T18:07:28.759144Z",
     "iopub.status.busy": "2025-08-19T18:07:28.758463Z",
     "iopub.status.idle": "2025-08-19T18:07:28.768207Z",
     "shell.execute_reply": "2025-08-19T18:07:28.767420Z"
    },
    "papermill": {
     "duration": 0.024986,
     "end_time": "2025-08-19T18:07:28.769791",
     "exception": false,
     "start_time": "2025-08-19T18:07:28.744805",
     "status": "completed"
    },
    "tags": []
   },
   "outputs": [
    {
     "data": {
      "text/plain": [
       "{'coverage': 0.9111693233753205, 'avg_size': 1.1248913164641623}"
      ]
     },
     "execution_count": 46,
     "metadata": {},
     "output_type": "execute_result"
    }
   ],
   "source": [
    "metrics"
   ]
  },
  {
   "cell_type": "code",
   "execution_count": 47,
   "id": "64c340a1",
   "metadata": {
    "execution": {
     "iopub.execute_input": "2025-08-19T18:07:28.802404Z",
     "iopub.status.busy": "2025-08-19T18:07:28.801430Z",
     "iopub.status.idle": "2025-08-19T18:07:28.808625Z",
     "shell.execute_reply": "2025-08-19T18:07:28.807704Z"
    },
    "papermill": {
     "duration": 0.025597,
     "end_time": "2025-08-19T18:07:28.810000",
     "exception": false,
     "start_time": "2025-08-19T18:07:28.784403",
     "status": "completed"
    },
    "tags": []
   },
   "outputs": [],
   "source": [
    "example_universe = universe.copy()\n",
    "universe_training_year = example_universe.get(\"training_year\")\n",
    "universe_training_size = example_universe.get(\"training_size\")\n",
    "universe_scale = example_universe.get(\"scale\")\n",
    "universe_model = example_universe.get(\"model\")\n",
    "universe_exclude_features = example_universe.get(\"exclude_features\")\n",
    "universe_exclude_subgroups = example_universe.get(\"exclude_subgroups\")"
   ]
  },
  {
   "cell_type": "code",
   "execution_count": 48,
   "id": "dbb53cb4",
   "metadata": {
    "execution": {
     "iopub.execute_input": "2025-08-19T18:07:28.838497Z",
     "iopub.status.busy": "2025-08-19T18:07:28.837767Z",
     "iopub.status.idle": "2025-08-19T18:07:28.843029Z",
     "shell.execute_reply": "2025-08-19T18:07:28.842363Z"
    },
    "papermill": {
     "duration": 0.020239,
     "end_time": "2025-08-19T18:07:28.844756",
     "exception": false,
     "start_time": "2025-08-19T18:07:28.824517",
     "status": "completed"
    },
    "tags": []
   },
   "outputs": [],
   "source": [
    "cp_metrics_dict = {\n",
    "    \"universe_id\": [universe_id],\n",
    "    \"universe_training_year\": [universe_training_year],\n",
    "    \"universe_training_size\": [universe_training_size],\n",
    "    \"universe_scale\": [universe_scale],\n",
    "    \"universe_model\": [universe_model],\n",
    "    \"universe_exclude_features\": [universe_exclude_features],\n",
    "    \"universe_exclude_subgroups\": [universe_exclude_subgroups],\n",
    "    \"q_hat\": [q_hat],\n",
    "    \"coverage\": [metrics[\"coverage\"]],\n",
    "    \"avg_size\": [metrics[\"avg_size\"]],\n",
    "}"
   ]
  },
  {
   "cell_type": "code",
   "execution_count": 49,
   "id": "0d70d4b2",
   "metadata": {
    "execution": {
     "iopub.execute_input": "2025-08-19T18:07:28.873056Z",
     "iopub.status.busy": "2025-08-19T18:07:28.871827Z",
     "iopub.status.idle": "2025-08-19T18:07:28.882593Z",
     "shell.execute_reply": "2025-08-19T18:07:28.881487Z"
    },
    "papermill": {
     "duration": 0.025815,
     "end_time": "2025-08-19T18:07:28.884109",
     "exception": false,
     "start_time": "2025-08-19T18:07:28.858294",
     "status": "completed"
    },
    "tags": []
   },
   "outputs": [],
   "source": [
    "cp_metrics_df = pd.DataFrame(cp_metrics_dict)"
   ]
  },
  {
   "cell_type": "code",
   "execution_count": 50,
   "id": "b494403c",
   "metadata": {
    "execution": {
     "iopub.execute_input": "2025-08-19T18:07:28.914627Z",
     "iopub.status.busy": "2025-08-19T18:07:28.913347Z",
     "iopub.status.idle": "2025-08-19T18:07:28.937190Z",
     "shell.execute_reply": "2025-08-19T18:07:28.936327Z"
    },
    "papermill": {
     "duration": 0.039679,
     "end_time": "2025-08-19T18:07:28.938905",
     "exception": false,
     "start_time": "2025-08-19T18:07:28.899226",
     "status": "completed"
    },
    "tags": []
   },
   "outputs": [
    {
     "data": {
      "text/html": [
       "<div>\n",
       "<style scoped>\n",
       "    .dataframe tbody tr th:only-of-type {\n",
       "        vertical-align: middle;\n",
       "    }\n",
       "\n",
       "    .dataframe tbody tr th {\n",
       "        vertical-align: top;\n",
       "    }\n",
       "\n",
       "    .dataframe thead th {\n",
       "        text-align: right;\n",
       "    }\n",
       "</style>\n",
       "<table border=\"1\" class=\"dataframe\">\n",
       "  <thead>\n",
       "    <tr style=\"text-align: right;\">\n",
       "      <th></th>\n",
       "      <th>universe_id</th>\n",
       "      <th>universe_training_year</th>\n",
       "      <th>universe_training_size</th>\n",
       "      <th>universe_scale</th>\n",
       "      <th>universe_model</th>\n",
       "      <th>universe_exclude_features</th>\n",
       "      <th>universe_exclude_subgroups</th>\n",
       "      <th>q_hat</th>\n",
       "      <th>coverage</th>\n",
       "      <th>avg_size</th>\n",
       "    </tr>\n",
       "  </thead>\n",
       "  <tbody>\n",
       "    <tr>\n",
       "      <th>0</th>\n",
       "      <td>1037b4bfd65ba52d69eedc2d62fcb827</td>\n",
       "      <td>2012_14</td>\n",
       "      <td>25k</td>\n",
       "      <td>scale</td>\n",
       "      <td>elasticnet</td>\n",
       "      <td>nationality</td>\n",
       "      <td>drop-non-german</td>\n",
       "      <td>0.662329</td>\n",
       "      <td>0.911169</td>\n",
       "      <td>1.124891</td>\n",
       "    </tr>\n",
       "  </tbody>\n",
       "</table>\n",
       "</div>"
      ],
      "text/plain": [
       "                        universe_id universe_training_year  \\\n",
       "0  1037b4bfd65ba52d69eedc2d62fcb827                2012_14   \n",
       "\n",
       "  universe_training_size universe_scale universe_model  \\\n",
       "0                    25k          scale     elasticnet   \n",
       "\n",
       "  universe_exclude_features universe_exclude_subgroups     q_hat  coverage  \\\n",
       "0               nationality            drop-non-german  0.662329  0.911169   \n",
       "\n",
       "   avg_size  \n",
       "0  1.124891  "
      ]
     },
     "execution_count": 50,
     "metadata": {},
     "output_type": "execute_result"
    }
   ],
   "source": [
    "cp_metrics_df"
   ]
  },
  {
   "cell_type": "markdown",
   "id": "ed608b0b",
   "metadata": {
    "papermill": {
     "duration": 0.012769,
     "end_time": "2025-08-19T18:07:28.972908",
     "exception": false,
     "start_time": "2025-08-19T18:07:28.960139",
     "status": "completed"
    },
    "tags": []
   },
   "source": [
    "Conditional coverage & looking at subgroups"
   ]
  },
  {
   "cell_type": "code",
   "execution_count": 51,
   "id": "8968c366",
   "metadata": {
    "execution": {
     "iopub.execute_input": "2025-08-19T18:07:28.999971Z",
     "iopub.status.busy": "2025-08-19T18:07:28.998699Z",
     "iopub.status.idle": "2025-08-19T18:07:29.311376Z",
     "shell.execute_reply": "2025-08-19T18:07:29.310513Z"
    },
    "papermill": {
     "duration": 0.327947,
     "end_time": "2025-08-19T18:07:29.312979",
     "exception": false,
     "start_time": "2025-08-19T18:07:28.985032",
     "status": "completed"
    },
    "tags": []
   },
   "outputs": [],
   "source": [
    "from fairness_multiverse.conformal import build_cp_groups\n",
    "\n",
    "cp_groups_df = build_cp_groups(pred_sets, y_true, X_test.index, org_test)"
   ]
  },
  {
   "cell_type": "code",
   "execution_count": 52,
   "id": "292ddabf",
   "metadata": {
    "execution": {
     "iopub.execute_input": "2025-08-19T18:07:29.340608Z",
     "iopub.status.busy": "2025-08-19T18:07:29.339550Z",
     "iopub.status.idle": "2025-08-19T18:07:30.318708Z",
     "shell.execute_reply": "2025-08-19T18:07:30.316949Z"
    },
    "papermill": {
     "duration": 0.996764,
     "end_time": "2025-08-19T18:07:30.322710",
     "exception": false,
     "start_time": "2025-08-19T18:07:29.325946",
     "status": "completed"
    },
    "tags": []
   },
   "outputs": [],
   "source": [
    "# Define covered = 1 if true_label is in the predicted set\n",
    "cp_groups_df['covered'] = cp_groups_df.apply(\n",
    "    lambda r: int(r['true_label'] in r['pred_set']),\n",
    "    axis=1\n",
    ")"
   ]
  },
  {
   "cell_type": "code",
   "execution_count": 53,
   "id": "3a261692",
   "metadata": {
    "execution": {
     "iopub.execute_input": "2025-08-19T18:07:30.352204Z",
     "iopub.status.busy": "2025-08-19T18:07:30.351614Z",
     "iopub.status.idle": "2025-08-19T18:07:30.366438Z",
     "shell.execute_reply": "2025-08-19T18:07:30.365769Z"
    },
    "papermill": {
     "duration": 0.030322,
     "end_time": "2025-08-19T18:07:30.367853",
     "exception": false,
     "start_time": "2025-08-19T18:07:30.337531",
     "status": "completed"
    },
    "tags": []
   },
   "outputs": [],
   "source": [
    "subgroups = ['frau1','nongerman','nongerman_male','nongerman_female']\n",
    "\n",
    "# Conditional coverage for subgroup==1\n",
    "cond_coverage = {\n",
    "    g: cp_groups_df.loc[cp_groups_df[g]==1, 'covered'].mean()\n",
    "    for g in subgroups\n",
    "}"
   ]
  },
  {
   "cell_type": "code",
   "execution_count": 54,
   "id": "894fd600",
   "metadata": {
    "execution": {
     "iopub.execute_input": "2025-08-19T18:07:30.395936Z",
     "iopub.status.busy": "2025-08-19T18:07:30.393316Z",
     "iopub.status.idle": "2025-08-19T18:07:30.401904Z",
     "shell.execute_reply": "2025-08-19T18:07:30.400837Z"
    },
    "papermill": {
     "duration": 0.023246,
     "end_time": "2025-08-19T18:07:30.403391",
     "exception": false,
     "start_time": "2025-08-19T18:07:30.380145",
     "status": "completed"
    },
    "tags": []
   },
   "outputs": [
    {
     "data": {
      "text/plain": [
       "{'frau1': 0.9083704003234937,\n",
       " 'nongerman': 0.9095604333913434,\n",
       " 'nongerman_male': 0.9262361523912456,\n",
       " 'nongerman_female': 0.8819672131147541}"
      ]
     },
     "execution_count": 54,
     "metadata": {},
     "output_type": "execute_result"
    }
   ],
   "source": [
    "cond_coverage"
   ]
  },
  {
   "cell_type": "code",
   "execution_count": 55,
   "id": "942895c7",
   "metadata": {
    "execution": {
     "iopub.execute_input": "2025-08-19T18:07:30.435082Z",
     "iopub.status.busy": "2025-08-19T18:07:30.434022Z",
     "iopub.status.idle": "2025-08-19T18:07:30.443152Z",
     "shell.execute_reply": "2025-08-19T18:07:30.442052Z"
    },
    "papermill": {
     "duration": 0.024375,
     "end_time": "2025-08-19T18:07:30.444696",
     "exception": false,
     "start_time": "2025-08-19T18:07:30.420321",
     "status": "completed"
    },
    "tags": []
   },
   "outputs": [],
   "source": [
    "for subgroup, cov in cond_coverage.items():\n",
    "    cp_metrics_df[f\"cov_{subgroup}\"] = cov"
   ]
  },
  {
   "cell_type": "code",
   "execution_count": 56,
   "id": "3970120f",
   "metadata": {
    "execution": {
     "iopub.execute_input": "2025-08-19T18:07:30.502109Z",
     "iopub.status.busy": "2025-08-19T18:07:30.501547Z",
     "iopub.status.idle": "2025-08-19T18:07:30.519138Z",
     "shell.execute_reply": "2025-08-19T18:07:30.518437Z"
    },
    "papermill": {
     "duration": 0.060094,
     "end_time": "2025-08-19T18:07:30.520750",
     "exception": false,
     "start_time": "2025-08-19T18:07:30.460656",
     "status": "completed"
    },
    "tags": []
   },
   "outputs": [
    {
     "data": {
      "text/html": [
       "<div>\n",
       "<style scoped>\n",
       "    .dataframe tbody tr th:only-of-type {\n",
       "        vertical-align: middle;\n",
       "    }\n",
       "\n",
       "    .dataframe tbody tr th {\n",
       "        vertical-align: top;\n",
       "    }\n",
       "\n",
       "    .dataframe thead th {\n",
       "        text-align: right;\n",
       "    }\n",
       "</style>\n",
       "<table border=\"1\" class=\"dataframe\">\n",
       "  <thead>\n",
       "    <tr style=\"text-align: right;\">\n",
       "      <th></th>\n",
       "      <th>universe_id</th>\n",
       "      <th>universe_training_year</th>\n",
       "      <th>universe_training_size</th>\n",
       "      <th>universe_scale</th>\n",
       "      <th>universe_model</th>\n",
       "      <th>universe_exclude_features</th>\n",
       "      <th>universe_exclude_subgroups</th>\n",
       "      <th>q_hat</th>\n",
       "      <th>coverage</th>\n",
       "      <th>avg_size</th>\n",
       "      <th>cov_frau1</th>\n",
       "      <th>cov_nongerman</th>\n",
       "      <th>cov_nongerman_male</th>\n",
       "      <th>cov_nongerman_female</th>\n",
       "    </tr>\n",
       "  </thead>\n",
       "  <tbody>\n",
       "    <tr>\n",
       "      <th>0</th>\n",
       "      <td>1037b4bfd65ba52d69eedc2d62fcb827</td>\n",
       "      <td>2012_14</td>\n",
       "      <td>25k</td>\n",
       "      <td>scale</td>\n",
       "      <td>elasticnet</td>\n",
       "      <td>nationality</td>\n",
       "      <td>drop-non-german</td>\n",
       "      <td>0.662329</td>\n",
       "      <td>0.911169</td>\n",
       "      <td>1.124891</td>\n",
       "      <td>0.90837</td>\n",
       "      <td>0.90956</td>\n",
       "      <td>0.926236</td>\n",
       "      <td>0.881967</td>\n",
       "    </tr>\n",
       "  </tbody>\n",
       "</table>\n",
       "</div>"
      ],
      "text/plain": [
       "                        universe_id universe_training_year  \\\n",
       "0  1037b4bfd65ba52d69eedc2d62fcb827                2012_14   \n",
       "\n",
       "  universe_training_size universe_scale universe_model  \\\n",
       "0                    25k          scale     elasticnet   \n",
       "\n",
       "  universe_exclude_features universe_exclude_subgroups     q_hat  coverage  \\\n",
       "0               nationality            drop-non-german  0.662329  0.911169   \n",
       "\n",
       "   avg_size  cov_frau1  cov_nongerman  cov_nongerman_male  \\\n",
       "0  1.124891    0.90837        0.90956            0.926236   \n",
       "\n",
       "   cov_nongerman_female  \n",
       "0              0.881967  "
      ]
     },
     "execution_count": 56,
     "metadata": {},
     "output_type": "execute_result"
    }
   ],
   "source": [
    "cp_metrics_df"
   ]
  },
  {
   "cell_type": "markdown",
   "id": "3fc519cc",
   "metadata": {
    "papermill": {
     "duration": 0.014621,
     "end_time": "2025-08-19T18:07:30.554986",
     "exception": false,
     "start_time": "2025-08-19T18:07:30.540365",
     "status": "completed"
    },
    "tags": []
   },
   "source": [
    "# (Fairness) Metrics"
   ]
  },
  {
   "cell_type": "code",
   "execution_count": 57,
   "id": "a2e5e155",
   "metadata": {
    "execution": {
     "iopub.execute_input": "2025-08-19T18:07:30.584158Z",
     "iopub.status.busy": "2025-08-19T18:07:30.583592Z",
     "iopub.status.idle": "2025-08-19T18:07:30.601162Z",
     "shell.execute_reply": "2025-08-19T18:07:30.600447Z"
    },
    "papermill": {
     "duration": 0.035938,
     "end_time": "2025-08-19T18:07:30.603726",
     "exception": false,
     "start_time": "2025-08-19T18:07:30.567788",
     "status": "completed"
    },
    "tags": []
   },
   "outputs": [],
   "source": [
    "colname_to_bin = \"maxdeutsch1\"\n",
    "majority_value = org_train[colname_to_bin].mode()[0]\n",
    "\n",
    "org_test[\"majmin\"] = np.where(org_test[colname_to_bin] == majority_value, \"majority\", \"minority\")"
   ]
  },
  {
   "cell_type": "code",
   "execution_count": 58,
   "id": "17e3e4d5",
   "metadata": {
    "execution": {
     "iopub.execute_input": "2025-08-19T18:07:30.646782Z",
     "iopub.status.busy": "2025-08-19T18:07:30.645293Z",
     "iopub.status.idle": "2025-08-19T18:07:32.462922Z",
     "shell.execute_reply": "2025-08-19T18:07:32.461485Z"
    },
    "papermill": {
     "duration": 1.834467,
     "end_time": "2025-08-19T18:07:32.464642",
     "exception": false,
     "start_time": "2025-08-19T18:07:30.630175",
     "status": "completed"
    },
    "tags": []
   },
   "outputs": [],
   "source": [
    "example_universe = universe.copy()\n",
    "example_universe[\"cutoff\"] = example_universe[\"cutoff\"][0]\n",
    "example_universe[\"eval_fairness_grouping\"] = example_universe[\"eval_fairness_grouping\"][0]\n",
    "fairness_dict, metric_frame = universe_analysis.compute_metrics(\n",
    "    example_universe,\n",
    "    y_pred_prob=probs_test,\n",
    "    y_test=y_true,\n",
    "    org_test=org_test,\n",
    ")"
   ]
  },
  {
   "cell_type": "markdown",
   "id": "1fb7a0e9",
   "metadata": {
    "papermill": {
     "duration": 0.012292,
     "end_time": "2025-08-19T18:07:32.490473",
     "exception": false,
     "start_time": "2025-08-19T18:07:32.478181",
     "status": "completed"
    },
    "tags": []
   },
   "source": [
    "# Overall"
   ]
  },
  {
   "cell_type": "markdown",
   "id": "be1784b1",
   "metadata": {
    "papermill": {
     "duration": 0.012155,
     "end_time": "2025-08-19T18:07:32.514844",
     "exception": false,
     "start_time": "2025-08-19T18:07:32.502689",
     "status": "completed"
    },
    "tags": []
   },
   "source": [
    "Main fairness target: Equalized Odds. Seems to be a better fit than equal opportunity, since we're not only interested in Y = 1. Seems to be a better fit than demographic parity, since we also care about accuracy, not just equal distribution of preds.\n",
    "\n",
    "Pick column for computation of fairness metrics\n",
    "\n",
    "Performance\n",
    "Overall performance measures, most interesting in relation to the measures split by group below"
   ]
  },
  {
   "cell_type": "code",
   "execution_count": 59,
   "id": "b7672bee",
   "metadata": {
    "execution": {
     "iopub.execute_input": "2025-08-19T18:07:32.541243Z",
     "iopub.status.busy": "2025-08-19T18:07:32.540705Z",
     "iopub.status.idle": "2025-08-19T18:07:32.550431Z",
     "shell.execute_reply": "2025-08-19T18:07:32.549547Z"
    },
    "papermill": {
     "duration": 0.024581,
     "end_time": "2025-08-19T18:07:32.551752",
     "exception": false,
     "start_time": "2025-08-19T18:07:32.527171",
     "status": "completed"
    },
    "tags": []
   },
   "outputs": [
    {
     "data": {
      "text/plain": [
       "accuracy                   0.225337\n",
       "balanced accuracy          0.550779\n",
       "f1                         0.246642\n",
       "precision                  0.140898\n",
       "false positive rate        0.886972\n",
       "false negative rate        0.011470\n",
       "selection rate             0.900000\n",
       "count                  89710.000000\n",
       "dtype: float64"
      ]
     },
     "execution_count": 59,
     "metadata": {},
     "output_type": "execute_result"
    }
   ],
   "source": [
    "metric_frame.overall"
   ]
  },
  {
   "cell_type": "markdown",
   "id": "d93333c9",
   "metadata": {
    "papermill": {
     "duration": 0.013149,
     "end_time": "2025-08-19T18:07:32.579092",
     "exception": false,
     "start_time": "2025-08-19T18:07:32.565943",
     "status": "completed"
    },
    "tags": []
   },
   "source": [
    "By Group"
   ]
  },
  {
   "cell_type": "code",
   "execution_count": 60,
   "id": "52256966",
   "metadata": {
    "execution": {
     "iopub.execute_input": "2025-08-19T18:07:32.606924Z",
     "iopub.status.busy": "2025-08-19T18:07:32.605543Z",
     "iopub.status.idle": "2025-08-19T18:07:32.628431Z",
     "shell.execute_reply": "2025-08-19T18:07:32.627551Z"
    },
    "papermill": {
     "duration": 0.038863,
     "end_time": "2025-08-19T18:07:32.630327",
     "exception": false,
     "start_time": "2025-08-19T18:07:32.591464",
     "status": "completed"
    },
    "tags": []
   },
   "outputs": [
    {
     "data": {
      "text/html": [
       "<div>\n",
       "<style scoped>\n",
       "    .dataframe tbody tr th:only-of-type {\n",
       "        vertical-align: middle;\n",
       "    }\n",
       "\n",
       "    .dataframe tbody tr th {\n",
       "        vertical-align: top;\n",
       "    }\n",
       "\n",
       "    .dataframe thead th {\n",
       "        text-align: right;\n",
       "    }\n",
       "</style>\n",
       "<table border=\"1\" class=\"dataframe\">\n",
       "  <thead>\n",
       "    <tr style=\"text-align: right;\">\n",
       "      <th></th>\n",
       "      <th>accuracy</th>\n",
       "      <th>balanced accuracy</th>\n",
       "      <th>f1</th>\n",
       "      <th>precision</th>\n",
       "      <th>false positive rate</th>\n",
       "      <th>false negative rate</th>\n",
       "      <th>selection rate</th>\n",
       "      <th>count</th>\n",
       "    </tr>\n",
       "    <tr>\n",
       "      <th>majmin</th>\n",
       "      <th></th>\n",
       "      <th></th>\n",
       "      <th></th>\n",
       "      <th></th>\n",
       "      <th></th>\n",
       "      <th></th>\n",
       "      <th></th>\n",
       "      <th></th>\n",
       "    </tr>\n",
       "  </thead>\n",
       "  <tbody>\n",
       "    <tr>\n",
       "      <th>majority</th>\n",
       "      <td>0.246350</td>\n",
       "      <td>0.560514</td>\n",
       "      <td>0.257217</td>\n",
       "      <td>0.147865</td>\n",
       "      <td>0.8665</td>\n",
       "      <td>0.012473</td>\n",
       "      <td>0.882492</td>\n",
       "      <td>69170.0</td>\n",
       "    </tr>\n",
       "    <tr>\n",
       "      <th>minority</th>\n",
       "      <td>0.154576</td>\n",
       "      <td>0.518899</td>\n",
       "      <td>0.213007</td>\n",
       "      <td>0.119308</td>\n",
       "      <td>0.9546</td>\n",
       "      <td>0.007601</td>\n",
       "      <td>0.958958</td>\n",
       "      <td>20540.0</td>\n",
       "    </tr>\n",
       "  </tbody>\n",
       "</table>\n",
       "</div>"
      ],
      "text/plain": [
       "          accuracy  balanced accuracy        f1  precision  \\\n",
       "majmin                                                       \n",
       "majority  0.246350           0.560514  0.257217   0.147865   \n",
       "minority  0.154576           0.518899  0.213007   0.119308   \n",
       "\n",
       "          false positive rate  false negative rate  selection rate    count  \n",
       "majmin                                                                       \n",
       "majority               0.8665             0.012473        0.882492  69170.0  \n",
       "minority               0.9546             0.007601        0.958958  20540.0  "
      ]
     },
     "execution_count": 60,
     "metadata": {},
     "output_type": "execute_result"
    }
   ],
   "source": [
    "metric_frame.by_group"
   ]
  },
  {
   "cell_type": "code",
   "execution_count": 61,
   "id": "6e6c20ae",
   "metadata": {
    "execution": {
     "iopub.execute_input": "2025-08-19T18:07:32.666666Z",
     "iopub.status.busy": "2025-08-19T18:07:32.665384Z",
     "iopub.status.idle": "2025-08-19T18:07:34.521422Z",
     "shell.execute_reply": "2025-08-19T18:07:34.520271Z"
    },
    "papermill": {
     "duration": 1.872062,
     "end_time": "2025-08-19T18:07:34.522745",
     "exception": false,
     "start_time": "2025-08-19T18:07:32.650683",
     "status": "completed"
    },
    "tags": []
   },
   "outputs": [
    {
     "data": {
      "text/plain": [
       "array([[<Axes: title={'center': 'accuracy'}, xlabel='majmin'>,\n",
       "        <Axes: title={'center': 'balanced accuracy'}, xlabel='majmin'>,\n",
       "        <Axes: title={'center': 'f1'}, xlabel='majmin'>],\n",
       "       [<Axes: title={'center': 'precision'}, xlabel='majmin'>,\n",
       "        <Axes: title={'center': 'false positive rate'}, xlabel='majmin'>,\n",
       "        <Axes: title={'center': 'false negative rate'}, xlabel='majmin'>],\n",
       "       [<Axes: title={'center': 'selection rate'}, xlabel='majmin'>,\n",
       "        <Axes: title={'center': 'count'}, xlabel='majmin'>,\n",
       "        <Axes: xlabel='majmin'>]], dtype=object)"
      ]
     },
     "execution_count": 61,
     "metadata": {},
     "output_type": "execute_result"
    },
    {
     "data": {
      "image/png": "[encoded data removed]",
      "text/plain": [
       "<Figure size 1200x800 with 9 Axes>"
      ]
     },
     "metadata": {},
     "output_type": "display_data"
    }
   ],
   "source": [
    "# In a graphic\n",
    "metric_frame.by_group.plot.bar(\n",
    "    subplots=True,\n",
    "    layout=[3, 3],\n",
    "    legend=False,\n",
    "    figsize=[12, 8],\n",
    "    title=\"Show all metrics\",\n",
    ")"
   ]
  },
  {
   "cell_type": "markdown",
   "id": "b2e433ae",
   "metadata": {
    "papermill": {
     "duration": 0.017718,
     "end_time": "2025-08-19T18:07:34.558030",
     "exception": false,
     "start_time": "2025-08-19T18:07:34.540312",
     "status": "completed"
    },
    "tags": []
   },
   "source": [
    "# Final Output"
   ]
  },
  {
   "cell_type": "code",
   "execution_count": 62,
   "id": "3871301e",
   "metadata": {
    "execution": {
     "iopub.execute_input": "2025-08-19T18:07:34.603829Z",
     "iopub.status.busy": "2025-08-19T18:07:34.602864Z",
     "iopub.status.idle": "2025-08-19T18:07:34.614565Z",
     "shell.execute_reply": "2025-08-19T18:07:34.613837Z"
    },
    "papermill": {
     "duration": 0.028934,
     "end_time": "2025-08-19T18:07:34.615844",
     "exception": false,
     "start_time": "2025-08-19T18:07:34.586910",
     "status": "completed"
    },
    "tags": []
   },
   "outputs": [
    {
     "data": {
      "text/plain": [
       "4"
      ]
     },
     "execution_count": 62,
     "metadata": {},
     "output_type": "execute_result"
    }
   ],
   "source": [
    "sub_universes = universe_analysis.generate_sub_universes()\n",
    "len(sub_universes)"
   ]
  },
  {
   "cell_type": "code",
   "execution_count": 63,
   "id": "d9cfdaca",
   "metadata": {
    "execution": {
     "iopub.execute_input": "2025-08-19T18:07:34.663422Z",
     "iopub.status.busy": "2025-08-19T18:07:34.661751Z",
     "iopub.status.idle": "2025-08-19T18:07:34.671197Z",
     "shell.execute_reply": "2025-08-19T18:07:34.670134Z"
    },
    "papermill": {
     "duration": 0.028806,
     "end_time": "2025-08-19T18:07:34.674022",
     "exception": false,
     "start_time": "2025-08-19T18:07:34.645216",
     "status": "completed"
    },
    "tags": []
   },
   "outputs": [],
   "source": [
    "def filter_sub_universe_data(sub_universe, org_test):\n",
    "    # Keep all rows — no filtering\n",
    "    keep_rows_mask = np.ones(org_test.shape[0], dtype=bool)\n",
    "\n",
    "    print(f\"[INFO] Keeping all rows: {keep_rows_mask.sum()} rows retained.\")\n",
    "    return keep_rows_mask"
   ]
  },
  {
   "cell_type": "code",
   "execution_count": 64,
   "id": "2bc31ac1",
   "metadata": {
    "execution": {
     "iopub.execute_input": "2025-08-19T18:07:34.706614Z",
     "iopub.status.busy": "2025-08-19T18:07:34.706121Z",
     "iopub.status.idle": "2025-08-19T18:07:41.587083Z",
     "shell.execute_reply": "2025-08-19T18:07:41.586071Z"
    },
    "papermill": {
     "duration": 6.899425,
     "end_time": "2025-08-19T18:07:41.588570",
     "exception": false,
     "start_time": "2025-08-19T18:07:34.689145",
     "status": "completed"
    },
    "tags": []
   },
   "outputs": [
    {
     "name": "stdout",
     "output_type": "stream",
     "text": [
      "Stopping execution_time clock.\n",
      "[INFO] Keeping all rows: 89710 rows retained.\n"
     ]
    },
    {
     "name": "stdout",
     "output_type": "stream",
     "text": [
      "[INFO] Keeping all rows: 89710 rows retained.\n"
     ]
    },
    {
     "name": "stdout",
     "output_type": "stream",
     "text": [
      "[INFO] Keeping all rows: 89710 rows retained.\n"
     ]
    },
    {
     "name": "stdout",
     "output_type": "stream",
     "text": [
      "[INFO] Keeping all rows: 89710 rows retained.\n"
     ]
    },
    {
     "data": {
      "text/html": [
       "<div>\n",
       "<style scoped>\n",
       "    .dataframe tbody tr th:only-of-type {\n",
       "        vertical-align: middle;\n",
       "    }\n",
       "\n",
       "    .dataframe tbody tr th {\n",
       "        vertical-align: top;\n",
       "    }\n",
       "\n",
       "    .dataframe thead th {\n",
       "        text-align: right;\n",
       "    }\n",
       "</style>\n",
       "<table border=\"1\" class=\"dataframe\">\n",
       "  <thead>\n",
       "    <tr style=\"text-align: right;\">\n",
       "      <th></th>\n",
       "      <th>run_no</th>\n",
       "      <th>universe_id</th>\n",
       "      <th>universe_settings</th>\n",
       "      <th>execution_time</th>\n",
       "      <th>test_size_n</th>\n",
       "      <th>test_size_frac</th>\n",
       "      <th>fair_main_equalized_odds_difference</th>\n",
       "      <th>fair_main_equalized_odds_ratio</th>\n",
       "      <th>fair_main_demographic_parity_difference</th>\n",
       "      <th>fair_main_demographic_parity_ratio</th>\n",
       "      <th>...</th>\n",
       "      <th>perf_grp_precision_0</th>\n",
       "      <th>perf_grp_precision_1</th>\n",
       "      <th>perf_grp_false positive rate_0</th>\n",
       "      <th>perf_grp_false positive rate_1</th>\n",
       "      <th>perf_grp_false negative rate_0</th>\n",
       "      <th>perf_grp_false negative rate_1</th>\n",
       "      <th>perf_grp_selection rate_0</th>\n",
       "      <th>perf_grp_selection rate_1</th>\n",
       "      <th>perf_grp_count_0</th>\n",
       "      <th>perf_grp_count_1</th>\n",
       "    </tr>\n",
       "  </thead>\n",
       "  <tbody>\n",
       "    <tr>\n",
       "      <th>0</th>\n",
       "      <td>3</td>\n",
       "      <td>1037b4bfd65ba52d69eedc2d62fcb827</td>\n",
       "      <td>{\"cutoff\": \"quantile_0.1\", \"eval_fairness_grou...</td>\n",
       "      <td>27.423255</td>\n",
       "      <td>89710</td>\n",
       "      <td>1.0</td>\n",
       "      <td>0.08810</td>\n",
       "      <td>0.907710</td>\n",
       "      <td>0.076466</td>\n",
       "      <td>0.920262</td>\n",
       "      <td>...</td>\n",
       "      <td>NaN</td>\n",
       "      <td>NaN</td>\n",
       "      <td>NaN</td>\n",
       "      <td>NaN</td>\n",
       "      <td>NaN</td>\n",
       "      <td>NaN</td>\n",
       "      <td>NaN</td>\n",
       "      <td>NaN</td>\n",
       "      <td>NaN</td>\n",
       "      <td>NaN</td>\n",
       "    </tr>\n",
       "    <tr>\n",
       "      <th>0</th>\n",
       "      <td>3</td>\n",
       "      <td>1037b4bfd65ba52d69eedc2d62fcb827</td>\n",
       "      <td>{\"cutoff\": \"quantile_0.1\", \"eval_fairness_grou...</td>\n",
       "      <td>27.423255</td>\n",
       "      <td>89710</td>\n",
       "      <td>1.0</td>\n",
       "      <td>0.08810</td>\n",
       "      <td>0.907710</td>\n",
       "      <td>0.076466</td>\n",
       "      <td>0.920262</td>\n",
       "      <td>...</td>\n",
       "      <td>0.119308</td>\n",
       "      <td>0.147865</td>\n",
       "      <td>0.954600</td>\n",
       "      <td>0.866500</td>\n",
       "      <td>0.007601</td>\n",
       "      <td>0.012473</td>\n",
       "      <td>0.958958</td>\n",
       "      <td>0.882492</td>\n",
       "      <td>20540.0</td>\n",
       "      <td>69170.0</td>\n",
       "    </tr>\n",
       "    <tr>\n",
       "      <th>0</th>\n",
       "      <td>3</td>\n",
       "      <td>1037b4bfd65ba52d69eedc2d62fcb827</td>\n",
       "      <td>{\"cutoff\": \"quantile_0.25\", \"eval_fairness_gro...</td>\n",
       "      <td>27.423255</td>\n",
       "      <td>89710</td>\n",
       "      <td>1.0</td>\n",
       "      <td>0.10333</td>\n",
       "      <td>0.870858</td>\n",
       "      <td>0.084555</td>\n",
       "      <td>0.896275</td>\n",
       "      <td>...</td>\n",
       "      <td>NaN</td>\n",
       "      <td>NaN</td>\n",
       "      <td>NaN</td>\n",
       "      <td>NaN</td>\n",
       "      <td>NaN</td>\n",
       "      <td>NaN</td>\n",
       "      <td>NaN</td>\n",
       "      <td>NaN</td>\n",
       "      <td>NaN</td>\n",
       "      <td>NaN</td>\n",
       "    </tr>\n",
       "    <tr>\n",
       "      <th>0</th>\n",
       "      <td>3</td>\n",
       "      <td>1037b4bfd65ba52d69eedc2d62fcb827</td>\n",
       "      <td>{\"cutoff\": \"quantile_0.25\", \"eval_fairness_gro...</td>\n",
       "      <td>27.423255</td>\n",
       "      <td>89710</td>\n",
       "      <td>1.0</td>\n",
       "      <td>0.10333</td>\n",
       "      <td>0.870858</td>\n",
       "      <td>0.084555</td>\n",
       "      <td>0.896275</td>\n",
       "      <td>...</td>\n",
       "      <td>0.131629</td>\n",
       "      <td>0.172326</td>\n",
       "      <td>0.800132</td>\n",
       "      <td>0.696802</td>\n",
       "      <td>0.069257</td>\n",
       "      <td>0.047155</td>\n",
       "      <td>0.815190</td>\n",
       "      <td>0.730635</td>\n",
       "      <td>20540.0</td>\n",
       "      <td>69170.0</td>\n",
       "    </tr>\n",
       "  </tbody>\n",
       "</table>\n",
       "<p>4 rows × 50 columns</p>\n",
       "</div>"
      ],
      "text/plain": [
       "  run_no                       universe_id  \\\n",
       "0      3  1037b4bfd65ba52d69eedc2d62fcb827   \n",
       "0      3  1037b4bfd65ba52d69eedc2d62fcb827   \n",
       "0      3  1037b4bfd65ba52d69eedc2d62fcb827   \n",
       "0      3  1037b4bfd65ba52d69eedc2d62fcb827   \n",
       "\n",
       "                                   universe_settings  execution_time  \\\n",
       "0  {\"cutoff\": \"quantile_0.1\", \"eval_fairness_grou...       27.423255   \n",
       "0  {\"cutoff\": \"quantile_0.1\", \"eval_fairness_grou...       27.423255   \n",
       "0  {\"cutoff\": \"quantile_0.25\", \"eval_fairness_gro...       27.423255   \n",
       "0  {\"cutoff\": \"quantile_0.25\", \"eval_fairness_gro...       27.423255   \n",
       "\n",
       "   test_size_n  test_size_frac  fair_main_equalized_odds_difference  \\\n",
       "0        89710             1.0                              0.08810   \n",
       "0        89710             1.0                              0.08810   \n",
       "0        89710             1.0                              0.10333   \n",
       "0        89710             1.0                              0.10333   \n",
       "\n",
       "   fair_main_equalized_odds_ratio  fair_main_demographic_parity_difference  \\\n",
       "0                        0.907710                                 0.076466   \n",
       "0                        0.907710                                 0.076466   \n",
       "0                        0.870858                                 0.084555   \n",
       "0                        0.870858                                 0.084555   \n",
       "\n",
       "   fair_main_demographic_parity_ratio  ...  perf_grp_precision_0  \\\n",
       "0                            0.920262  ...                   NaN   \n",
       "0                            0.920262  ...              0.119308   \n",
       "0                            0.896275  ...                   NaN   \n",
       "0                            0.896275  ...              0.131629   \n",
       "\n",
       "   perf_grp_precision_1  perf_grp_false positive rate_0  \\\n",
       "0                   NaN                             NaN   \n",
       "0              0.147865                        0.954600   \n",
       "0                   NaN                             NaN   \n",
       "0              0.172326                        0.800132   \n",
       "\n",
       "   perf_grp_false positive rate_1  perf_grp_false negative rate_0  \\\n",
       "0                             NaN                             NaN   \n",
       "0                        0.866500                        0.007601   \n",
       "0                             NaN                             NaN   \n",
       "0                        0.696802                        0.069257   \n",
       "\n",
       "   perf_grp_false negative rate_1  perf_grp_selection rate_0  \\\n",
       "0                             NaN                        NaN   \n",
       "0                        0.012473                   0.958958   \n",
       "0                             NaN                        NaN   \n",
       "0                        0.047155                   0.815190   \n",
       "\n",
       "   perf_grp_selection rate_1  perf_grp_count_0  perf_grp_count_1  \n",
       "0                        NaN               NaN               NaN  \n",
       "0                   0.882492           20540.0           69170.0  \n",
       "0                        NaN               NaN               NaN  \n",
       "0                   0.730635           20540.0           69170.0  \n",
       "\n",
       "[4 rows x 50 columns]"
      ]
     },
     "execution_count": 64,
     "metadata": {},
     "output_type": "execute_result"
    }
   ],
   "source": [
    "final_output = universe_analysis.generate_final_output(\n",
    "    y_pred_prob=probs_test,\n",
    "    y_test=y_true,\n",
    "    org_test=org_test,\n",
    "    filter_data=filter_sub_universe_data,\n",
    "    cp_metrics_df=cp_metrics_df,\n",
    "    save=True,\n",
    ")\n",
    "final_output"
   ]
  },
  {
   "cell_type": "code",
   "execution_count": null,
   "id": "8b80a1ff",
   "metadata": {
    "papermill": {
     "duration": 0.014779,
     "end_time": "2025-08-19T18:07:41.622656",
     "exception": false,
     "start_time": "2025-08-19T18:07:41.607877",
     "status": "completed"
    },
    "tags": []
   },
   "outputs": [],
   "source": []
  },
  {
   "cell_type": "code",
   "execution_count": null,
   "id": "275c9fad",
   "metadata": {
    "papermill": {
     "duration": 0.017427,
     "end_time": "2025-08-19T18:07:41.673458",
     "exception": false,
     "start_time": "2025-08-19T18:07:41.656031",
     "status": "completed"
    },
    "tags": []
   },
   "outputs": [],
   "source": []
  }
 ],
 "metadata": {
  "celltoolbar": "Tags",
  "kernelspec": {
   "display_name": "Python (CMA Fairness)",
   "language": "python",
   "name": "cma_fair_env"
  },
  "language_info": {
   "codemirror_mode": {
    "name": "ipython",
    "version": 3
   },
   "file_extension": ".py",
   "mimetype": "text/x-python",
   "name": "python",
   "nbconvert_exporter": "python",
   "pygments_lexer": "ipython3",
   "version": "3.10.12"
  },
  "papermill": {
   "default_parameters": {},
   "duration": 37.951532,
   "end_time": "2025-08-19T18:07:42.409750",
   "environment_variables": {},
   "exception": null,
   "input_path": "universe_analysis.ipynb",
   "output_path": "output/runs/3/notebooks/m_3-1037b4bfd65ba52d69eedc2d62fcb827.ipynb",
   "parameters": {
    "output_dir": "output",
    "run_no": "3",
    "seed": "2023",
    "universe": "{\"cutoff\": [\"quantile_0.1\", \"quantile_0.25\"], \"eval_fairness_grouping\": [\"majority-minority\", \"nationality-all\"], \"exclude_features\": \"nationality\", \"exclude_subgroups\": \"drop-non-german\", \"model\": \"elasticnet\", \"scale\": \"scale\", \"training_size\": \"25k\", \"training_year\": \"2012_14\"}",
    "universe_id": "1037b4bfd65ba52d69eedc2d62fcb827"
   },
   "start_time": "2025-08-19T18:07:04.458218",
   "version": "2.6.0"
  }
 },
 "nbformat": 4,
 "nbformat_minor": 5
}