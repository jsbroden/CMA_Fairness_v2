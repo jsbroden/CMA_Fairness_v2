{
 "cells": [
  {
   "cell_type": "code",
   "execution_count": 1,
   "id": "f159f837-637b-42ba-96b5-ec9a68c44524",
   "metadata": {
    "execution": {
     "iopub.execute_input": "2025-07-22T09:12:04.673006Z",
     "iopub.status.busy": "2025-07-22T09:12:04.672605Z",
     "iopub.status.idle": "2025-07-22T09:12:04.712759Z",
     "shell.execute_reply": "2025-07-22T09:12:04.711653Z"
    },
    "papermill": {
     "duration": 0.055232,
     "end_time": "2025-07-22T09:12:04.714575",
     "exception": false,
     "start_time": "2025-07-22T09:12:04.659343",
     "status": "completed"
    },
    "tags": []
   },
   "outputs": [
    {
     "name": "stdout",
     "output_type": "stream",
     "text": [
      "/dss/dsshome1/0C/ra93lal2/cma/CMA_Fairness_v2\n"
     ]
    },
    {
     "name": "stderr",
     "output_type": "stream",
     "text": [
      "/dss/dsshome1/0C/ra93lal2/.local/share/virtualenvs/CMA_Fairness_v2-3j10GkSs/lib/python3.10/site-packages/IPython/core/magics/osm.py:393: UserWarning: This is now an optional IPython functionality, using bookmarks requires you to install the `pickleshare` library.\n",
      "  bkms = self.shell.db.get('bookmarks', {})\n",
      "/dss/dsshome1/0C/ra93lal2/.local/share/virtualenvs/CMA_Fairness_v2-3j10GkSs/lib/python3.10/site-packages/IPython/core/magics/osm.py:417: UserWarning: This is now an optional IPython functionality, setting dhist requires you to install the `pickleshare` library.\n",
      "  self.shell.db['dhist'] = compress_dhist(dhist)[-100:]\n"
     ]
    }
   ],
   "source": [
    "%cd ~/cma/CMA_Fairness_v2"
   ]
  },
  {
   "cell_type": "markdown",
   "id": "de2603b9",
   "metadata": {
    "papermill": {
     "duration": 0.00987,
     "end_time": "2025-07-22T09:12:04.732750",
     "exception": false,
     "start_time": "2025-07-22T09:12:04.722880",
     "status": "completed"
    },
    "tags": []
   },
   "source": [
    "The following cell holds the definition of our parameters, these values can be overriden by rendering the with e.g. the following command:\n",
    "\n",
    "papermill -p alpha 0.2 -p ratio 0.3 universe_analysis.ipynb output/test_run.ipynb"
   ]
  },
  {
   "cell_type": "code",
   "execution_count": 2,
   "id": "a80968a0-40bb-4fa9-85ef-2d5eefb01975",
   "metadata": {
    "execution": {
     "iopub.execute_input": "2025-07-22T09:12:04.750536Z",
     "iopub.status.busy": "2025-07-22T09:12:04.750258Z",
     "iopub.status.idle": "2025-07-22T09:12:04.798167Z",
     "shell.execute_reply": "2025-07-22T09:12:04.796992Z"
    },
    "papermill": {
     "duration": 0.058597,
     "end_time": "2025-07-22T09:12:04.799959",
     "exception": false,
     "start_time": "2025-07-22T09:12:04.741362",
     "status": "completed"
    },
    "tags": []
   },
   "outputs": [
    {
     "name": "stdout",
     "output_type": "stream",
     "text": [
      "Current working directory: /dss/dsshome1/0C/ra93lal2/cma/CMA_Fairness_v2\n"
     ]
    }
   ],
   "source": [
    "import os\n",
    "print(\"Current working directory:\", os.getcwd())"
   ]
  },
  {
   "cell_type": "code",
   "execution_count": 3,
   "id": "2dce4c03",
   "metadata": {
    "execution": {
     "iopub.execute_input": "2025-07-22T09:12:04.839564Z",
     "iopub.status.busy": "2025-07-22T09:12:04.839172Z",
     "iopub.status.idle": "2025-07-22T09:12:04.862447Z",
     "shell.execute_reply": "2025-07-22T09:12:04.860877Z"
    },
    "papermill": {
     "duration": 0.045286,
     "end_time": "2025-07-22T09:12:04.864342",
     "exception": false,
     "start_time": "2025-07-22T09:12:04.819056",
     "status": "completed"
    },
    "tags": [
     "parameters"
    ]
   },
   "outputs": [],
   "source": [
    "run_no = 0\n",
    "universe_id = \"test\"\n",
    "universe = {\n",
    "    #\"scale\": \"scale\", # \"scale\", \"do-not-scale\",\n",
    "    #\"encode_categorical\": \"one-hot\", # \"ordinal\", \"one-hot\"\n",
    "    \"model\": \"elasticnet\", # \"logreg\", \"penalized_logreg\", \"rf\", \"gbm\", \"elasticnet\"\n",
    "    \"cutoff\": [\"quantile_0.15\", \"quantile_0.30\"],\n",
    "    \"exclude_features\": \"nationality-sex\", # \"none\", \"nationality\", \"sex\", \"nationality-sex\"\n",
    "    \"exclude_subgroups\": \"keep-all\", # \"keep-all\", \"drop-non-german\"\n",
    "    \"eval_fairness_grouping\": [\"majority-minority\", \"nationality-all\"]\n",
    "}\n",
    "\n",
    "output_dir=\"./output\"\n",
    "seed=0"
   ]
  },
  {
   "cell_type": "code",
   "execution_count": 4,
   "id": "d5c78f99",
   "metadata": {
    "execution": {
     "iopub.execute_input": "2025-07-22T09:12:04.884329Z",
     "iopub.status.busy": "2025-07-22T09:12:04.883691Z",
     "iopub.status.idle": "2025-07-22T09:12:04.888248Z",
     "shell.execute_reply": "2025-07-22T09:12:04.887447Z"
    },
    "papermill": {
     "duration": 0.015803,
     "end_time": "2025-07-22T09:12:04.889879",
     "exception": false,
     "start_time": "2025-07-22T09:12:04.874076",
     "status": "completed"
    },
    "tags": [
     "injected-parameters"
    ]
   },
   "outputs": [],
   "source": [
    "# Parameters\n",
    "universe_id = \"22c2dffeab3d2bb5c3ec86fe0972c853\"\n",
    "run_no = \"3\"\n",
    "universe = \"{\\\"cutoff\\\": [\\\"quantile_0.1\\\", \\\"quantile_0.25\\\"], \\\"eval_fairness_grouping\\\": [\\\"majority-minority\\\", \\\"nationality-all\\\"], \\\"exclude_features\\\": \\\"nationality\\\", \\\"exclude_subgroups\\\": \\\"drop-non-german\\\", \\\"model\\\": \\\"logreg\\\", \\\"scale\\\": \\\"scale\\\"}\"\n",
    "output_dir = \"output\"\n",
    "seed = \"2023\"\n"
   ]
  },
  {
   "cell_type": "code",
   "execution_count": 5,
   "id": "1650acaf",
   "metadata": {
    "execution": {
     "iopub.execute_input": "2025-07-22T09:12:04.910413Z",
     "iopub.status.busy": "2025-07-22T09:12:04.909645Z",
     "iopub.status.idle": "2025-07-22T09:12:04.913895Z",
     "shell.execute_reply": "2025-07-22T09:12:04.913117Z"
    },
    "papermill": {
     "duration": 0.015243,
     "end_time": "2025-07-22T09:12:04.915118",
     "exception": false,
     "start_time": "2025-07-22T09:12:04.899875",
     "status": "completed"
    },
    "tags": []
   },
   "outputs": [],
   "source": [
    "import json\n",
    "# Parse universe into dict if it is passed as a string\n",
    "if isinstance(universe, str):\n",
    "    universe = json.loads(universe)"
   ]
  },
  {
   "cell_type": "code",
   "execution_count": 6,
   "id": "16620c48",
   "metadata": {
    "execution": {
     "iopub.execute_input": "2025-07-22T09:12:04.936266Z",
     "iopub.status.busy": "2025-07-22T09:12:04.935905Z",
     "iopub.status.idle": "2025-07-22T09:12:05.398417Z",
     "shell.execute_reply": "2025-07-22T09:12:05.397527Z"
    },
    "papermill": {
     "duration": 0.475747,
     "end_time": "2025-07-22T09:12:05.401286",
     "exception": false,
     "start_time": "2025-07-22T09:12:04.925539",
     "status": "completed"
    },
    "tags": []
   },
   "outputs": [],
   "source": [
    "# Auto-reload the custom package\n",
    "%load_ext autoreload\n",
    "%autoreload 1\n",
    "%aimport fairness_multiverse"
   ]
  },
  {
   "cell_type": "code",
   "execution_count": 7,
   "id": "01c5c9f3",
   "metadata": {
    "execution": {
     "iopub.execute_input": "2025-07-22T09:12:05.423637Z",
     "iopub.status.busy": "2025-07-22T09:12:05.423338Z",
     "iopub.status.idle": "2025-07-22T09:12:12.506836Z",
     "shell.execute_reply": "2025-07-22T09:12:12.505765Z"
    },
    "papermill": {
     "duration": 7.094301,
     "end_time": "2025-07-22T09:12:12.508388",
     "exception": false,
     "start_time": "2025-07-22T09:12:05.414087",
     "status": "completed"
    },
    "tags": []
   },
   "outputs": [],
   "source": [
    "from fairness_multiverse.universe import UniverseAnalysis\n",
    "\n",
    "universe_analysis = UniverseAnalysis(\n",
    "    run_no = run_no,\n",
    "    universe_id = universe_id,\n",
    "    universe = universe,\n",
    "    output_dir=output_dir,\n",
    ")"
   ]
  },
  {
   "cell_type": "code",
   "execution_count": 8,
   "id": "106241f5",
   "metadata": {
    "execution": {
     "iopub.execute_input": "2025-07-22T09:12:12.529301Z",
     "iopub.status.busy": "2025-07-22T09:12:12.528493Z",
     "iopub.status.idle": "2025-07-22T09:12:12.535512Z",
     "shell.execute_reply": "2025-07-22T09:12:12.534410Z"
    },
    "papermill": {
     "duration": 0.018175,
     "end_time": "2025-07-22T09:12:12.537546",
     "exception": false,
     "start_time": "2025-07-22T09:12:12.519371",
     "status": "completed"
    },
    "tags": []
   },
   "outputs": [
    {
     "name": "stdout",
     "output_type": "stream",
     "text": [
      "Using Seed: 2023\n"
     ]
    }
   ],
   "source": [
    "import numpy as np\n",
    "parsed_seed = int(seed)\n",
    "np.random.seed(parsed_seed)\n",
    "print(f\"Using Seed: {parsed_seed}\")"
   ]
  },
  {
   "cell_type": "markdown",
   "id": "e0ebdc57",
   "metadata": {
    "papermill": {
     "duration": 0.017112,
     "end_time": "2025-07-22T09:12:12.573196",
     "exception": false,
     "start_time": "2025-07-22T09:12:12.556084",
     "status": "completed"
    },
    "tags": []
   },
   "source": [
    "# Loading Data"
   ]
  },
  {
   "cell_type": "markdown",
   "id": "681925a3",
   "metadata": {
    "papermill": {
     "duration": 0.017423,
     "end_time": "2025-07-22T09:12:12.607788",
     "exception": false,
     "start_time": "2025-07-22T09:12:12.590365",
     "status": "completed"
    },
    "tags": []
   },
   "source": [
    "Load siab_train, siab_test, siab_calib and/or \n",
    "load siab_train_features, siab_train_labels"
   ]
  },
  {
   "cell_type": "code",
   "execution_count": 9,
   "id": "f0496b8a",
   "metadata": {
    "execution": {
     "iopub.execute_input": "2025-07-22T09:12:12.645121Z",
     "iopub.status.busy": "2025-07-22T09:12:12.644364Z",
     "iopub.status.idle": "2025-07-22T09:12:12.651443Z",
     "shell.execute_reply": "2025-07-22T09:12:12.650222Z"
    },
    "papermill": {
     "duration": 0.029163,
     "end_time": "2025-07-22T09:12:12.653707",
     "exception": false,
     "start_time": "2025-07-22T09:12:12.624544",
     "status": "completed"
    },
    "tags": []
   },
   "outputs": [],
   "source": [
    "# Do I need to load siab? Delete this cell?\n",
    "\n",
    "#from pathlib import Path\n",
    "#import pandas as pd\n",
    "#\n",
    "## File paths\n",
    "#raw_file = Path(\"data/raw/siab.csv\")\n",
    "#cache_file = Path(\"data/siab_cached.csv.gz\")\n",
    "#\n",
    "## Ensure cache directory exists\n",
    "#cache_file.parent.mkdir(parents=True, exist_ok=True)\n",
    "#\n",
    "## Load with simple caching\n",
    "#if cache_file.exists():\n",
    "#    print(f\"Loading SIAB data from cache: {cache_file}\")\n",
    "#    siab = pd.read_csv(cache_file, compression='gzip')\n",
    "#else:\n",
    "#    print(f\"Cache not found. Reading raw SIAB data: {raw_file}\")\n",
    "#    siab = pd.read_csv(raw_file)\n",
    "#    siab.to_csv(cache_file, index=False, compression='gzip')\n",
    "#    print(f\"Cached SIAB data to: {cache_file}\")\n",
    "#\n",
    "## Now use `siab` DataFrame as needed\n",
    "#print(siab.shape)\n"
   ]
  },
  {
   "cell_type": "code",
   "execution_count": 10,
   "id": "a0edb063",
   "metadata": {
    "execution": {
     "iopub.execute_input": "2025-07-22T09:12:12.693547Z",
     "iopub.status.busy": "2025-07-22T09:12:12.693049Z",
     "iopub.status.idle": "2025-07-22T09:12:13.025644Z",
     "shell.execute_reply": "2025-07-22T09:12:13.024617Z"
    },
    "papermill": {
     "duration": 0.35484,
     "end_time": "2025-07-22T09:12:13.027486",
     "exception": false,
     "start_time": "2025-07-22T09:12:12.672646",
     "status": "completed"
    },
    "tags": []
   },
   "outputs": [],
   "source": [
    "import pandas as pd\n",
    "\n",
    "X_train = pd.read_csv(\"./data/X_train.csv\")\n",
    "y_train = pd.read_csv(\"./data/y_train.csv\")"
   ]
  },
  {
   "cell_type": "code",
   "execution_count": 11,
   "id": "63d08085",
   "metadata": {
    "execution": {
     "iopub.execute_input": "2025-07-22T09:12:13.064257Z",
     "iopub.status.busy": "2025-07-22T09:12:13.063904Z",
     "iopub.status.idle": "2025-07-22T09:12:14.483122Z",
     "shell.execute_reply": "2025-07-22T09:12:14.482335Z"
    },
    "papermill": {
     "duration": 1.439759,
     "end_time": "2025-07-22T09:12:14.484880",
     "exception": false,
     "start_time": "2025-07-22T09:12:13.045121",
     "status": "completed"
    },
    "tags": []
   },
   "outputs": [],
   "source": [
    "X_test = pd.read_csv(\"./data/X_test.csv\")\n",
    "y_true = pd.read_csv(\"./data/y_test.csv\")"
   ]
  },
  {
   "cell_type": "code",
   "execution_count": 12,
   "id": "98a8d0fa-1d3d-4ed8-bb2c-281470e24add",
   "metadata": {
    "execution": {
     "iopub.execute_input": "2025-07-22T09:12:14.522606Z",
     "iopub.status.busy": "2025-07-22T09:12:14.521891Z",
     "iopub.status.idle": "2025-07-22T09:12:16.182813Z",
     "shell.execute_reply": "2025-07-22T09:12:16.181965Z"
    },
    "papermill": {
     "duration": 1.682114,
     "end_time": "2025-07-22T09:12:16.184355",
     "exception": false,
     "start_time": "2025-07-22T09:12:14.502241",
     "status": "completed"
    },
    "tags": []
   },
   "outputs": [],
   "source": [
    "# Calibration data for conformal\n",
    "X_calib = pd.read_csv(\"./data/X_calib.csv\")\n",
    "y_calib = pd.read_csv(\"./data/y_calib.csv\")"
   ]
  },
  {
   "cell_type": "code",
   "execution_count": 13,
   "id": "e6c733c5",
   "metadata": {
    "execution": {
     "iopub.execute_input": "2025-07-22T09:12:16.229312Z",
     "iopub.status.busy": "2025-07-22T09:12:16.228695Z",
     "iopub.status.idle": "2025-07-22T09:12:16.395653Z",
     "shell.execute_reply": "2025-07-22T09:12:16.394432Z"
    },
    "papermill": {
     "duration": 0.197915,
     "end_time": "2025-07-22T09:12:16.397541",
     "exception": false,
     "start_time": "2025-07-22T09:12:16.199626",
     "status": "completed"
    },
    "tags": []
   },
   "outputs": [],
   "source": [
    "# Auxiliary data needed downstream in the pipeline\n",
    "\n",
    "org_train = X_train.copy()\n",
    "org_test = X_test.copy()\n",
    "org_calib = X_calib.copy()"
   ]
  },
  {
   "cell_type": "markdown",
   "id": "0a4a1b33",
   "metadata": {
    "papermill": {
     "duration": 0.016058,
     "end_time": "2025-07-22T09:12:16.431956",
     "exception": false,
     "start_time": "2025-07-22T09:12:16.415898",
     "status": "completed"
    },
    "tags": []
   },
   "source": [
    "# Preprocessing Data"
   ]
  },
  {
   "cell_type": "code",
   "execution_count": 14,
   "id": "ca879031",
   "metadata": {
    "execution": {
     "iopub.execute_input": "2025-07-22T09:12:16.473341Z",
     "iopub.status.busy": "2025-07-22T09:12:16.472309Z",
     "iopub.status.idle": "2025-07-22T09:12:16.481028Z",
     "shell.execute_reply": "2025-07-22T09:12:16.479809Z"
    },
    "papermill": {
     "duration": 0.03195,
     "end_time": "2025-07-22T09:12:16.483000",
     "exception": false,
     "start_time": "2025-07-22T09:12:16.451050",
     "status": "completed"
    },
    "tags": []
   },
   "outputs": [],
   "source": [
    "# EXCLUDE PROTECTED FEATURES\n",
    "# ----------------------\n",
    "# \"exclude_features\": \"none\", # \"nationality\", \"sex\", \"nationality-sex\"\n",
    "\n",
    "excluded_features = universe[\"exclude_features\"].split(\"-\") # split, e.g.: \"nationality-sex\" -> [\"nationality\", \"sex\"]\n",
    "excluded_features_dictionary = {\n",
    "    \"nationality\": [\"maxdeutsch1\", \"maxdeutsch.Missing.\"],\n",
    "    \"sex\": [\"frau1\"],\n",
    "}\n"
   ]
  },
  {
   "cell_type": "code",
   "execution_count": 15,
   "id": "b745ac60",
   "metadata": {
    "execution": {
     "iopub.execute_input": "2025-07-22T09:12:16.523060Z",
     "iopub.status.busy": "2025-07-22T09:12:16.522629Z",
     "iopub.status.idle": "2025-07-22T09:12:16.528105Z",
     "shell.execute_reply": "2025-07-22T09:12:16.527373Z"
    },
    "papermill": {
     "duration": 0.027598,
     "end_time": "2025-07-22T09:12:16.530064",
     "exception": false,
     "start_time": "2025-07-22T09:12:16.502466",
     "status": "completed"
    },
    "tags": []
   },
   "outputs": [],
   "source": [
    "# Code nice names to column names\n",
    "\n",
    "excluded_features_columns = [\n",
    "    excluded_features_dictionary[f] for f in excluded_features if len(f) > 0 and f != \"none\"\n",
    "]"
   ]
  },
  {
   "cell_type": "code",
   "execution_count": 16,
   "id": "f84f73a2",
   "metadata": {
    "execution": {
     "iopub.execute_input": "2025-07-22T09:12:16.561792Z",
     "iopub.status.busy": "2025-07-22T09:12:16.561215Z",
     "iopub.status.idle": "2025-07-22T09:12:16.568319Z",
     "shell.execute_reply": "2025-07-22T09:12:16.567555Z"
    },
    "papermill": {
     "duration": 0.020054,
     "end_time": "2025-07-22T09:12:16.569588",
     "exception": false,
     "start_time": "2025-07-22T09:12:16.549534",
     "status": "completed"
    },
    "tags": []
   },
   "outputs": [],
   "source": [
    "from utils import flatten_once\n",
    "\n",
    "excluded_features_columns = flatten_once(excluded_features_columns)"
   ]
  },
  {
   "cell_type": "code",
   "execution_count": 17,
   "id": "884dea22",
   "metadata": {
    "execution": {
     "iopub.execute_input": "2025-07-22T09:12:16.594796Z",
     "iopub.status.busy": "2025-07-22T09:12:16.594231Z",
     "iopub.status.idle": "2025-07-22T09:12:16.614556Z",
     "shell.execute_reply": "2025-07-22T09:12:16.613610Z"
    },
    "papermill": {
     "duration": 0.035583,
     "end_time": "2025-07-22T09:12:16.615941",
     "exception": false,
     "start_time": "2025-07-22T09:12:16.580358",
     "status": "completed"
    },
    "tags": []
   },
   "outputs": [
    {
     "name": "stdout",
     "output_type": "stream",
     "text": [
      "Dropping features: ['maxdeutsch1', 'maxdeutsch.Missing.']\n"
     ]
    }
   ],
   "source": [
    "if len(excluded_features_columns) > 0:\n",
    "    print(f\"Dropping features: {excluded_features_columns}\")\n",
    "    X_train.drop(excluded_features_columns, axis=1, inplace=True)"
   ]
  },
  {
   "cell_type": "code",
   "execution_count": 18,
   "id": "95ab8b16",
   "metadata": {
    "execution": {
     "iopub.execute_input": "2025-07-22T09:12:16.653498Z",
     "iopub.status.busy": "2025-07-22T09:12:16.652919Z",
     "iopub.status.idle": "2025-07-22T09:12:16.713646Z",
     "shell.execute_reply": "2025-07-22T09:12:16.712480Z"
    },
    "papermill": {
     "duration": 0.089752,
     "end_time": "2025-07-22T09:12:16.715547",
     "exception": false,
     "start_time": "2025-07-22T09:12:16.625795",
     "status": "completed"
    },
    "tags": []
   },
   "outputs": [
    {
     "name": "stdout",
     "output_type": "stream",
     "text": [
      "Dropping features: ['maxdeutsch1', 'maxdeutsch.Missing.']\n"
     ]
    }
   ],
   "source": [
    "if len(excluded_features_columns) > 0:\n",
    "    print(f\"Dropping features: {excluded_features_columns}\")\n",
    "    X_test.drop(excluded_features_columns, axis=1, inplace=True)"
   ]
  },
  {
   "cell_type": "code",
   "execution_count": 19,
   "id": "1853aaf5-fb9f-46cb-a2b5-8ea4ae2237e4",
   "metadata": {
    "execution": {
     "iopub.execute_input": "2025-07-22T09:12:16.758482Z",
     "iopub.status.busy": "2025-07-22T09:12:16.758007Z",
     "iopub.status.idle": "2025-07-22T09:12:16.815861Z",
     "shell.execute_reply": "2025-07-22T09:12:16.814735Z"
    },
    "papermill": {
     "duration": 0.087648,
     "end_time": "2025-07-22T09:12:16.817919",
     "exception": false,
     "start_time": "2025-07-22T09:12:16.730271",
     "status": "completed"
    },
    "tags": []
   },
   "outputs": [
    {
     "name": "stdout",
     "output_type": "stream",
     "text": [
      "Dropping features: ['maxdeutsch1', 'maxdeutsch.Missing.']\n"
     ]
    }
   ],
   "source": [
    "if len(excluded_features_columns) > 0:\n",
    "    print(f\"Dropping features: {excluded_features_columns}\")\n",
    "    X_calib.drop(excluded_features_columns, axis=1, inplace=True)"
   ]
  },
  {
   "cell_type": "code",
   "execution_count": 20,
   "id": "76c4dc6d",
   "metadata": {
    "execution": {
     "iopub.execute_input": "2025-07-22T09:12:16.858220Z",
     "iopub.status.busy": "2025-07-22T09:12:16.857731Z",
     "iopub.status.idle": "2025-07-22T09:12:16.863580Z",
     "shell.execute_reply": "2025-07-22T09:12:16.862680Z"
    },
    "papermill": {
     "duration": 0.026782,
     "end_time": "2025-07-22T09:12:16.865110",
     "exception": false,
     "start_time": "2025-07-22T09:12:16.838328",
     "status": "completed"
    },
    "tags": []
   },
   "outputs": [],
   "source": [
    "# EXCLUDE CERTAIN SUBGROUPS\n",
    "# ----------------------\n",
    "\n",
    "mode = universe.get(\"exclude_subgroups\", \"keep-all\") \n",
    "# Fetches the exclude_subgroups setting from the universe dict.\n",
    "# Defaults to \"keep-all\" if the key is missing."
   ]
  },
  {
   "cell_type": "code",
   "execution_count": 21,
   "id": "21994072",
   "metadata": {
    "execution": {
     "iopub.execute_input": "2025-07-22T09:12:16.888525Z",
     "iopub.status.busy": "2025-07-22T09:12:16.887766Z",
     "iopub.status.idle": "2025-07-22T09:12:16.895026Z",
     "shell.execute_reply": "2025-07-22T09:12:16.894269Z"
    },
    "papermill": {
     "duration": 0.021656,
     "end_time": "2025-07-22T09:12:16.896928",
     "exception": false,
     "start_time": "2025-07-22T09:12:16.875272",
     "status": "completed"
    },
    "tags": []
   },
   "outputs": [],
   "source": [
    "if mode == \"keep-all\":\n",
    "    keep_mask = pd.Series(True, index=org_train.index)\n",
    "\n",
    "# org_train contains the original feature columns from features_org (in Simson)\n",
    "# features_org contains unprocessed features, for me X_train at beginning ???\n",
    "# For keep-all, creates a boolean Series (keep_mask) of all True, so no rows are removed.\n",
    "\n",
    "elif mode == \"drop-non-german\":\n",
    "    keep_mask = org_train[\"maxdeutsch1\"] == 1 # ??? what about missing values?\n",
    "\n",
    "else:\n",
    "    raise ValueError(f\"Unsupported mode for exclude_subgroups: {mode}\")\n"
   ]
  },
  {
   "cell_type": "code",
   "execution_count": 22,
   "id": "71651440",
   "metadata": {
    "execution": {
     "iopub.execute_input": "2025-07-22T09:12:16.970510Z",
     "iopub.status.busy": "2025-07-22T09:12:16.970181Z",
     "iopub.status.idle": "2025-07-22T09:12:16.975719Z",
     "shell.execute_reply": "2025-07-22T09:12:16.974903Z"
    },
    "papermill": {
     "duration": 0.019425,
     "end_time": "2025-07-22T09:12:16.977013",
     "exception": false,
     "start_time": "2025-07-22T09:12:16.957588",
     "status": "completed"
    },
    "tags": []
   },
   "outputs": [
    {
     "name": "stdout",
     "output_type": "stream",
     "text": [
      "Dropping 3312 rows (13.25%) where mode='drop-non-german'\n"
     ]
    }
   ],
   "source": [
    "n_drop = (~keep_mask).sum() # Calculates how many rows are set to be dropped\n",
    "if n_drop > 0:\n",
    "    pct = n_drop / len(keep_mask) * 100\n",
    "    print(f\"Dropping {n_drop} rows ({pct:.2f}%) where mode='{mode}'\")"
   ]
  },
  {
   "cell_type": "code",
   "execution_count": 23,
   "id": "5fb8eee5",
   "metadata": {
    "execution": {
     "iopub.execute_input": "2025-07-22T09:12:16.998751Z",
     "iopub.status.busy": "2025-07-22T09:12:16.998363Z",
     "iopub.status.idle": "2025-07-22T09:12:17.028261Z",
     "shell.execute_reply": "2025-07-22T09:12:17.027415Z"
    },
    "papermill": {
     "duration": 0.042266,
     "end_time": "2025-07-22T09:12:17.029936",
     "exception": false,
     "start_time": "2025-07-22T09:12:16.987670",
     "status": "completed"
    },
    "tags": []
   },
   "outputs": [],
   "source": [
    "X_train = X_train[keep_mask]"
   ]
  },
  {
   "cell_type": "code",
   "execution_count": 24,
   "id": "b202bb3a",
   "metadata": {
    "execution": {
     "iopub.execute_input": "2025-07-22T09:12:17.052995Z",
     "iopub.status.busy": "2025-07-22T09:12:17.052451Z",
     "iopub.status.idle": "2025-07-22T09:12:17.058283Z",
     "shell.execute_reply": "2025-07-22T09:12:17.057582Z"
    },
    "papermill": {
     "duration": 0.018319,
     "end_time": "2025-07-22T09:12:17.059458",
     "exception": false,
     "start_time": "2025-07-22T09:12:17.041139",
     "status": "completed"
    },
    "tags": []
   },
   "outputs": [],
   "source": [
    "y_train = y_train[keep_mask]"
   ]
  },
  {
   "cell_type": "markdown",
   "id": "493e2ac3",
   "metadata": {
    "papermill": {
     "duration": 0.009642,
     "end_time": "2025-07-22T09:12:17.078410",
     "exception": false,
     "start_time": "2025-07-22T09:12:17.068768",
     "status": "completed"
    },
    "tags": []
   },
   "source": [
    "# Model Training"
   ]
  },
  {
   "cell_type": "code",
   "execution_count": 25,
   "id": "679e1268",
   "metadata": {
    "execution": {
     "iopub.execute_input": "2025-07-22T09:12:17.110441Z",
     "iopub.status.busy": "2025-07-22T09:12:17.109917Z",
     "iopub.status.idle": "2025-07-22T09:12:18.986770Z",
     "shell.execute_reply": "2025-07-22T09:12:18.985581Z"
    },
    "papermill": {
     "duration": 1.896992,
     "end_time": "2025-07-22T09:12:18.993684",
     "exception": false,
     "start_time": "2025-07-22T09:12:17.096692",
     "status": "completed"
    },
    "tags": []
   },
   "outputs": [],
   "source": [
    "from sklearn.linear_model import LogisticRegression\n",
    "from sklearn.ensemble import GradientBoostingClassifier, RandomForestClassifier\n",
    "\n",
    "if (universe[\"model\"] == \"logreg\"):\n",
    "    model = LogisticRegression() #penalty=\"none\") #, solver=\"newton-cg\", max_iter=1) # include random_state=19 ?\n",
    "elif (universe[\"model\"] == \"penalized_logreg\"):\n",
    "    model = LogisticRegression(penalty=\"l2\", C=1.0) #, solver=\"newton-cg\", max_iter=1)\n",
    "elif (universe[\"model\"] == \"rf\"):\n",
    "    model = RandomForestClassifier(n_estimators=100, n_jobs=-1)\n",
    "elif (universe[\"model\"] == \"gbm\"):\n",
    "    model = GradientBoostingClassifier()\n",
    "elif (universe[\"model\"] == \"elasticnet\"):\n",
    "    model = LogisticRegression(penalty = 'elasticnet', solver = 'saga', l1_ratio = 0.5, max_iter=5000) # which solver to use?\n",
    "else:\n",
    "    raise \"Unsupported universe.model\""
   ]
  },
  {
   "cell_type": "code",
   "execution_count": 26,
   "id": "0cc8f744",
   "metadata": {
    "execution": {
     "iopub.execute_input": "2025-07-22T09:12:19.038763Z",
     "iopub.status.busy": "2025-07-22T09:12:19.037880Z",
     "iopub.status.idle": "2025-07-22T09:12:19.045950Z",
     "shell.execute_reply": "2025-07-22T09:12:19.044737Z"
    },
    "papermill": {
     "duration": 0.031852,
     "end_time": "2025-07-22T09:12:19.048214",
     "exception": false,
     "start_time": "2025-07-22T09:12:19.016362",
     "status": "completed"
    },
    "tags": []
   },
   "outputs": [],
   "source": [
    "import numpy as np\n",
    "from sklearn.pipeline import Pipeline\n",
    "from sklearn.preprocessing import StandardScaler\n",
    "\n",
    "model = Pipeline([\n",
    "    #(\"continuous_processor\", continuous_processor),\n",
    "    #(\"categorical_preprocessor\", categorical_preprocessor),\n",
    "    (\"scale\", StandardScaler() if universe[\"scale\"] == \"scale\" else None),\n",
    "    (\"model\", model),\n",
    "])"
   ]
  },
  {
   "cell_type": "code",
   "execution_count": 27,
   "id": "9442c04d",
   "metadata": {
    "execution": {
     "iopub.execute_input": "2025-07-22T09:12:19.094259Z",
     "iopub.status.busy": "2025-07-22T09:12:19.093764Z",
     "iopub.status.idle": "2025-07-22T09:12:20.621167Z",
     "shell.execute_reply": "2025-07-22T09:12:20.619863Z"
    },
    "papermill": {
     "duration": 1.553855,
     "end_time": "2025-07-22T09:12:20.623272",
     "exception": false,
     "start_time": "2025-07-22T09:12:19.069417",
     "status": "completed"
    },
    "tags": []
   },
   "outputs": [
    {
     "name": "stderr",
     "output_type": "stream",
     "text": [
      "/dss/dsshome1/0C/ra93lal2/.local/share/virtualenvs/CMA_Fairness_v2-3j10GkSs/lib/python3.10/site-packages/sklearn/linear_model/_logistic.py:444: ConvergenceWarning: lbfgs failed to converge (status=1):\n",
      "STOP: TOTAL NO. of ITERATIONS REACHED LIMIT.\n",
      "\n",
      "Increase the number of iterations (max_iter) or scale the data as shown in:\n",
      "    https://scikit-learn.org/stable/modules/preprocessing.html\n",
      "Please also refer to the documentation for alternative solver options:\n",
      "    https://scikit-learn.org/stable/modules/linear_model.html#logistic-regression\n",
      "  n_iter_i = _check_optimize_result(\n"
     ]
    },
    {
     "data": {
      "text/html": [
       "<style>#sk-container-id-1 {color: black;background-color: white;}#sk-container-id-1 pre{padding: 0;}#sk-container-id-1 div.sk-toggleable {background-color: white;}#sk-container-id-1 label.sk-toggleable__label {cursor: pointer;display: block;width: 100%;margin-bottom: 0;padding: 0.3em;box-sizing: border-box;text-align: center;}#sk-container-id-1 label.sk-toggleable__label-arrow:before {content: \"▸\";float: left;margin-right: 0.25em;color: #696969;}#sk-container-id-1 label.sk-toggleable__label-arrow:hover:before {color: black;}#sk-container-id-1 div.sk-estimator:hover label.sk-toggleable__label-arrow:before {color: black;}#sk-container-id-1 div.sk-toggleable__content {max-height: 0;max-width: 0;overflow: hidden;text-align: left;background-color: #f0f8ff;}#sk-container-id-1 div.sk-toggleable__content pre {margin: 0.2em;color: black;border-radius: 0.25em;background-color: #f0f8ff;}#sk-container-id-1 input.sk-toggleable__control:checked~div.sk-toggleable__content {max-height: 200px;max-width: 100%;overflow: auto;}#sk-container-id-1 input.sk-toggleable__control:checked~label.sk-toggleable__label-arrow:before {content: \"▾\";}#sk-container-id-1 div.sk-estimator input.sk-toggleable__control:checked~label.sk-toggleable__label {background-color: #d4ebff;}#sk-container-id-1 div.sk-label input.sk-toggleable__control:checked~label.sk-toggleable__label {background-color: #d4ebff;}#sk-container-id-1 input.sk-hidden--visually {border: 0;clip: rect(1px 1px 1px 1px);clip: rect(1px, 1px, 1px, 1px);height: 1px;margin: -1px;overflow: hidden;padding: 0;position: absolute;width: 1px;}#sk-container-id-1 div.sk-estimator {font-family: monospace;background-color: #f0f8ff;border: 1px dotted black;border-radius: 0.25em;box-sizing: border-box;margin-bottom: 0.5em;}#sk-container-id-1 div.sk-estimator:hover {background-color: #d4ebff;}#sk-container-id-1 div.sk-parallel-item::after {content: \"\";width: 100%;border-bottom: 1px solid gray;flex-grow: 1;}#sk-container-id-1 div.sk-label:hover label.sk-toggleable__label {background-color: #d4ebff;}#sk-container-id-1 div.sk-serial::before {content: \"\";position: absolute;border-left: 1px solid gray;box-sizing: border-box;top: 0;bottom: 0;left: 50%;z-index: 0;}#sk-container-id-1 div.sk-serial {display: flex;flex-direction: column;align-items: center;background-color: white;padding-right: 0.2em;padding-left: 0.2em;position: relative;}#sk-container-id-1 div.sk-item {position: relative;z-index: 1;}#sk-container-id-1 div.sk-parallel {display: flex;align-items: stretch;justify-content: center;background-color: white;position: relative;}#sk-container-id-1 div.sk-item::before, #sk-container-id-1 div.sk-parallel-item::before {content: \"\";position: absolute;border-left: 1px solid gray;box-sizing: border-box;top: 0;bottom: 0;left: 50%;z-index: -1;}#sk-container-id-1 div.sk-parallel-item {display: flex;flex-direction: column;z-index: 1;position: relative;background-color: white;}#sk-container-id-1 div.sk-parallel-item:first-child::after {align-self: flex-end;width: 50%;}#sk-container-id-1 div.sk-parallel-item:last-child::after {align-self: flex-start;width: 50%;}#sk-container-id-1 div.sk-parallel-item:only-child::after {width: 0;}#sk-container-id-1 div.sk-dashed-wrapped {border: 1px dashed gray;margin: 0 0.4em 0.5em 0.4em;box-sizing: border-box;padding-bottom: 0.4em;background-color: white;}#sk-container-id-1 div.sk-label label {font-family: monospace;font-weight: bold;display: inline-block;line-height: 1.2em;}#sk-container-id-1 div.sk-label-container {text-align: center;}#sk-container-id-1 div.sk-container {/* jupyter's `normalize.less` sets `[hidden] { display: none; }` but bootstrap.min.css set `[hidden] { display: none !important; }` so we also need the `!important` here to be able to override the default hidden behavior on the sphinx rendered scikit-learn.org. See: https://github.com/scikit-learn/scikit-learn/issues/21755 */display: inline-block !important;position: relative;}#sk-container-id-1 div.sk-text-repr-fallback {display: none;}</style><div id=\"sk-container-id-1\" class=\"sk-top-container\"><div class=\"sk-text-repr-fallback\"><pre>Pipeline(steps=[(&#x27;scale&#x27;, StandardScaler()), (&#x27;model&#x27;, LogisticRegression())])</pre><b>In a Jupyter environment, please rerun this cell to show the HTML representation or trust the notebook. <br />On GitHub, the HTML representation is unable to render, please try loading this page with nbviewer.org.</b></div><div class=\"sk-container\" hidden><div class=\"sk-item sk-dashed-wrapped\"><div class=\"sk-label-container\"><div class=\"sk-label sk-toggleable\"><input class=\"sk-toggleable__control sk-hidden--visually\" id=\"sk-estimator-id-1\" type=\"checkbox\" ><label for=\"sk-estimator-id-1\" class=\"sk-toggleable__label sk-toggleable__label-arrow\">Pipeline</label><div class=\"sk-toggleable__content\"><pre>Pipeline(steps=[(&#x27;scale&#x27;, StandardScaler()), (&#x27;model&#x27;, LogisticRegression())])</pre></div></div></div><div class=\"sk-serial\"><div class=\"sk-item\"><div class=\"sk-estimator sk-toggleable\"><input class=\"sk-toggleable__control sk-hidden--visually\" id=\"sk-estimator-id-2\" type=\"checkbox\" ><label for=\"sk-estimator-id-2\" class=\"sk-toggleable__label sk-toggleable__label-arrow\">StandardScaler</label><div class=\"sk-toggleable__content\"><pre>StandardScaler()</pre></div></div></div><div class=\"sk-item\"><div class=\"sk-estimator sk-toggleable\"><input class=\"sk-toggleable__control sk-hidden--visually\" id=\"sk-estimator-id-3\" type=\"checkbox\" ><label for=\"sk-estimator-id-3\" class=\"sk-toggleable__label sk-toggleable__label-arrow\">LogisticRegression</label><div class=\"sk-toggleable__content\"><pre>LogisticRegression()</pre></div></div></div></div></div></div></div>"
      ],
      "text/plain": [
       "Pipeline(steps=[('scale', StandardScaler()), ('model', LogisticRegression())])"
      ]
     },
     "execution_count": 27,
     "metadata": {},
     "output_type": "execute_result"
    }
   ],
   "source": [
    "model.fit(X_train, y_train.values.ravel())"
   ]
  },
  {
   "cell_type": "code",
   "execution_count": 28,
   "id": "af59f8c0",
   "metadata": {
    "execution": {
     "iopub.execute_input": "2025-07-22T09:12:20.672445Z",
     "iopub.status.busy": "2025-07-22T09:12:20.671775Z",
     "iopub.status.idle": "2025-07-22T09:12:20.678825Z",
     "shell.execute_reply": "2025-07-22T09:12:20.677607Z"
    },
    "papermill": {
     "duration": 0.035429,
     "end_time": "2025-07-22T09:12:20.681507",
     "exception": false,
     "start_time": "2025-07-22T09:12:20.646078",
     "status": "completed"
    },
    "tags": []
   },
   "outputs": [],
   "source": [
    "from fairness_multiverse.universe import predict_w_threshold"
   ]
  },
  {
   "cell_type": "code",
   "execution_count": 29,
   "id": "a7cf2e16",
   "metadata": {
    "execution": {
     "iopub.execute_input": "2025-07-22T09:12:20.731440Z",
     "iopub.status.busy": "2025-07-22T09:12:20.730615Z",
     "iopub.status.idle": "2025-07-22T09:12:21.033176Z",
     "shell.execute_reply": "2025-07-22T09:12:21.032005Z"
    },
    "papermill": {
     "duration": 0.329043,
     "end_time": "2025-07-22T09:12:21.035455",
     "exception": false,
     "start_time": "2025-07-22T09:12:20.706412",
     "status": "completed"
    },
    "tags": []
   },
   "outputs": [
    {
     "data": {
      "text/plain": [
       "0.8599041355478765"
      ]
     },
     "execution_count": 29,
     "metadata": {},
     "output_type": "execute_result"
    }
   ],
   "source": [
    "probs_test = model.predict_proba(X_test)\n",
    "\n",
    "'''\n",
    "Below code returns a boolean array (or binary 0/1 array depending on how it’s used) where each element \n",
    "is True if the probability of class 1 is greater than or equal to the threshold, and False otherwise.\n",
    "'''\n",
    "y_pred_default = predict_w_threshold(probs_test, 0.5)\n",
    "\n",
    "from sklearn.metrics import accuracy_score\n",
    "\n",
    "# Naive prediction\n",
    "accuracy_score(y_true = y_true, y_pred = y_pred_default)"
   ]
  },
  {
   "cell_type": "code",
   "execution_count": 30,
   "id": "081964c3",
   "metadata": {
    "execution": {
     "iopub.execute_input": "2025-07-22T09:12:21.092427Z",
     "iopub.status.busy": "2025-07-22T09:12:21.091710Z",
     "iopub.status.idle": "2025-07-22T09:12:21.386214Z",
     "shell.execute_reply": "2025-07-22T09:12:21.385300Z"
    },
    "papermill": {
     "duration": 0.324599,
     "end_time": "2025-07-22T09:12:21.387663",
     "exception": false,
     "start_time": "2025-07-22T09:12:21.063064",
     "status": "completed"
    },
    "tags": []
   },
   "outputs": [
    {
     "data": {
      "text/plain": [
       "array([0, 0, 0, ..., 0, 0, 0])"
      ]
     },
     "execution_count": 30,
     "metadata": {},
     "output_type": "execute_result"
    }
   ],
   "source": [
    "model.predict(X_test)"
   ]
  },
  {
   "cell_type": "markdown",
   "id": "56c9705b",
   "metadata": {
    "papermill": {
     "duration": 0.010306,
     "end_time": "2025-07-22T09:12:21.408497",
     "exception": false,
     "start_time": "2025-07-22T09:12:21.398191",
     "status": "completed"
    },
    "tags": []
   },
   "source": [
    "# Conformal Prediction"
   ]
  },
  {
   "cell_type": "code",
   "execution_count": 31,
   "id": "160ec6ff",
   "metadata": {
    "execution": {
     "iopub.execute_input": "2025-07-22T09:12:21.441913Z",
     "iopub.status.busy": "2025-07-22T09:12:21.441450Z",
     "iopub.status.idle": "2025-07-22T09:12:21.447448Z",
     "shell.execute_reply": "2025-07-22T09:12:21.446144Z"
    },
    "papermill": {
     "duration": 0.03106,
     "end_time": "2025-07-22T09:12:21.450161",
     "exception": false,
     "start_time": "2025-07-22T09:12:21.419101",
     "status": "completed"
    },
    "tags": []
   },
   "outputs": [],
   "source": [
    "# Miscoverage level for conformal prediction (10% allowed error rate => 90% target coverage)\n",
    "alpha = 0.1"
   ]
  },
  {
   "cell_type": "code",
   "execution_count": 32,
   "id": "eadf4555-3dd3-440e-8e35-f82a4ad9f855",
   "metadata": {
    "execution": {
     "iopub.execute_input": "2025-07-22T09:12:21.495950Z",
     "iopub.status.busy": "2025-07-22T09:12:21.494889Z",
     "iopub.status.idle": "2025-07-22T09:12:21.764059Z",
     "shell.execute_reply": "2025-07-22T09:12:21.763118Z"
    },
    "papermill": {
     "duration": 0.294478,
     "end_time": "2025-07-22T09:12:21.766114",
     "exception": false,
     "start_time": "2025-07-22T09:12:21.471636",
     "status": "completed"
    },
    "tags": []
   },
   "outputs": [],
   "source": [
    "probs_calib = model.predict_proba(X_calib)"
   ]
  },
  {
   "cell_type": "code",
   "execution_count": 33,
   "id": "2ed93547-6d5d-4983-9b36-1ecb300da49a",
   "metadata": {
    "execution": {
     "iopub.execute_input": "2025-07-22T09:12:21.812064Z",
     "iopub.status.busy": "2025-07-22T09:12:21.811446Z",
     "iopub.status.idle": "2025-07-22T09:12:21.817993Z",
     "shell.execute_reply": "2025-07-22T09:12:21.816832Z"
    },
    "papermill": {
     "duration": 0.032586,
     "end_time": "2025-07-22T09:12:21.819757",
     "exception": false,
     "start_time": "2025-07-22T09:12:21.787171",
     "status": "completed"
    },
    "tags": []
   },
   "outputs": [],
   "source": [
    "y_calib = y_calib.values.ravel().astype(int)"
   ]
  },
  {
   "cell_type": "code",
   "execution_count": 34,
   "id": "65d1320d-f588-4b38-9072-62af1ae97f7d",
   "metadata": {
    "execution": {
     "iopub.execute_input": "2025-07-22T09:12:21.868712Z",
     "iopub.status.busy": "2025-07-22T09:12:21.868001Z",
     "iopub.status.idle": "2025-07-22T09:12:21.877605Z",
     "shell.execute_reply": "2025-07-22T09:12:21.876601Z"
    },
    "papermill": {
     "duration": 0.036405,
     "end_time": "2025-07-22T09:12:21.879268",
     "exception": false,
     "start_time": "2025-07-22T09:12:21.842863",
     "status": "completed"
    },
    "tags": []
   },
   "outputs": [],
   "source": [
    "from fairness_multiverse.conformal import compute_nc_scores\n",
    "\n",
    "# Compute nonconformity scores on calibration set (1 - probability of true class)\n",
    "nc_scores = compute_nc_scores(probs_calib, y_calib)"
   ]
  },
  {
   "cell_type": "code",
   "execution_count": 35,
   "id": "df3b8ca3-53b7-43d5-9667-7c85da7aeda2",
   "metadata": {
    "execution": {
     "iopub.execute_input": "2025-07-22T09:12:21.908990Z",
     "iopub.status.busy": "2025-07-22T09:12:21.908171Z",
     "iopub.status.idle": "2025-07-22T09:12:21.915978Z",
     "shell.execute_reply": "2025-07-22T09:12:21.914996Z"
    },
    "papermill": {
     "duration": 0.022615,
     "end_time": "2025-07-22T09:12:21.918516",
     "exception": false,
     "start_time": "2025-07-22T09:12:21.895901",
     "status": "completed"
    },
    "tags": []
   },
   "outputs": [],
   "source": [
    "from fairness_multiverse.conformal import find_threshold\n",
    "\n",
    "# Find conformal threshold q_hat for the given alpha (split conformal method)\n",
    "q_hat = find_threshold(nc_scores, alpha)"
   ]
  },
  {
   "cell_type": "code",
   "execution_count": 36,
   "id": "4d29e6c1-0ef6-4aa4-b8fe-4fe79b0d033a",
   "metadata": {
    "execution": {
     "iopub.execute_input": "2025-07-22T09:12:21.980373Z",
     "iopub.status.busy": "2025-07-22T09:12:21.979327Z",
     "iopub.status.idle": "2025-07-22T09:12:22.035658Z",
     "shell.execute_reply": "2025-07-22T09:12:22.034150Z"
    },
    "papermill": {
     "duration": 0.090173,
     "end_time": "2025-07-22T09:12:22.038170",
     "exception": false,
     "start_time": "2025-07-22T09:12:21.947997",
     "status": "completed"
    },
    "tags": []
   },
   "outputs": [
    {
     "data": {
      "text/plain": [
       "0.659467698378766"
      ]
     },
     "execution_count": 36,
     "metadata": {},
     "output_type": "execute_result"
    }
   ],
   "source": [
    "q_hat"
   ]
  },
  {
   "cell_type": "code",
   "execution_count": 37,
   "id": "92460794-cdac-4be2-ba28-f28c0515a6fb",
   "metadata": {
    "execution": {
     "iopub.execute_input": "2025-07-22T09:12:22.094814Z",
     "iopub.status.busy": "2025-07-22T09:12:22.094136Z",
     "iopub.status.idle": "2025-07-22T09:12:23.127661Z",
     "shell.execute_reply": "2025-07-22T09:12:23.126640Z"
    },
    "papermill": {
     "duration": 1.064129,
     "end_time": "2025-07-22T09:12:23.129613",
     "exception": false,
     "start_time": "2025-07-22T09:12:22.065484",
     "status": "completed"
    },
    "tags": []
   },
   "outputs": [],
   "source": [
    "from fairness_multiverse.conformal import predict_conformal_sets\n",
    "\n",
    "# Generate prediction sets for each test example\n",
    "pred_sets = predict_conformal_sets(model, X_test, q_hat)"
   ]
  },
  {
   "cell_type": "code",
   "execution_count": 38,
   "id": "d90c9a65-e6db-4f5d-80cd-e68fb7e46829",
   "metadata": {
    "execution": {
     "iopub.execute_input": "2025-07-22T09:12:23.179828Z",
     "iopub.status.busy": "2025-07-22T09:12:23.179376Z",
     "iopub.status.idle": "2025-07-22T09:12:23.185022Z",
     "shell.execute_reply": "2025-07-22T09:12:23.183814Z"
    },
    "papermill": {
     "duration": 0.035183,
     "end_time": "2025-07-22T09:12:23.186699",
     "exception": false,
     "start_time": "2025-07-22T09:12:23.151516",
     "status": "completed"
    },
    "tags": []
   },
   "outputs": [],
   "source": [
    "y_true = y_true.squeeze()"
   ]
  },
  {
   "cell_type": "code",
   "execution_count": 39,
   "id": "3a58a54a-1e68-46b9-927a-df01f18aebc8",
   "metadata": {
    "execution": {
     "iopub.execute_input": "2025-07-22T09:12:23.230573Z",
     "iopub.status.busy": "2025-07-22T09:12:23.229807Z",
     "iopub.status.idle": "2025-07-22T09:12:24.261709Z",
     "shell.execute_reply": "2025-07-22T09:12:24.260000Z"
    },
    "papermill": {
     "duration": 1.055442,
     "end_time": "2025-07-22T09:12:24.264068",
     "exception": false,
     "start_time": "2025-07-22T09:12:23.208626",
     "status": "completed"
    },
    "tags": []
   },
   "outputs": [],
   "source": [
    "from fairness_multiverse.conformal import evaluate_sets\n",
    "\n",
    "# Evaluate coverage and average set size on test data\n",
    "metrics = evaluate_sets(pred_sets, y_true)"
   ]
  },
  {
   "cell_type": "code",
   "execution_count": 40,
   "id": "5ce0a5cb-201f-45a0-ade5-94c7f0bd6095",
   "metadata": {
    "execution": {
     "iopub.execute_input": "2025-07-22T09:12:24.314212Z",
     "iopub.status.busy": "2025-07-22T09:12:24.313636Z",
     "iopub.status.idle": "2025-07-22T09:12:24.322839Z",
     "shell.execute_reply": "2025-07-22T09:12:24.321909Z"
    },
    "papermill": {
     "duration": 0.035309,
     "end_time": "2025-07-22T09:12:24.324529",
     "exception": false,
     "start_time": "2025-07-22T09:12:24.289220",
     "status": "completed"
    },
    "tags": []
   },
   "outputs": [
    {
     "data": {
      "text/plain": [
       "{'coverage': 0.9101326496488685, 'avg_size': 1.1249804926986957}"
      ]
     },
     "execution_count": 40,
     "metadata": {},
     "output_type": "execute_result"
    }
   ],
   "source": [
    "metrics"
   ]
  },
  {
   "cell_type": "code",
   "execution_count": 41,
   "id": "9b9a838d-31c9-430b-ae14-12baee460d17",
   "metadata": {
    "execution": {
     "iopub.execute_input": "2025-07-22T09:12:24.374715Z",
     "iopub.status.busy": "2025-07-22T09:12:24.373702Z",
     "iopub.status.idle": "2025-07-22T09:12:24.380527Z",
     "shell.execute_reply": "2025-07-22T09:12:24.379445Z"
    },
    "papermill": {
     "duration": 0.034353,
     "end_time": "2025-07-22T09:12:24.382572",
     "exception": false,
     "start_time": "2025-07-22T09:12:24.348219",
     "status": "completed"
    },
    "tags": []
   },
   "outputs": [],
   "source": [
    "example_universe = universe.copy()\n",
    "universe_model = example_universe.get(\"model\")\n",
    "universe_exclude_features = example_universe.get(\"exclude_features\")\n",
    "universe_exclude_subgroups = example_universe.get(\"exclude_subgroups\")"
   ]
  },
  {
   "cell_type": "code",
   "execution_count": 42,
   "id": "f4b6a8ac-9dc0-4245-8a91-5b3b5999c4f9",
   "metadata": {
    "execution": {
     "iopub.execute_input": "2025-07-22T09:12:24.430328Z",
     "iopub.status.busy": "2025-07-22T09:12:24.429809Z",
     "iopub.status.idle": "2025-07-22T09:12:24.436733Z",
     "shell.execute_reply": "2025-07-22T09:12:24.435576Z"
    },
    "papermill": {
     "duration": 0.032806,
     "end_time": "2025-07-22T09:12:24.438847",
     "exception": false,
     "start_time": "2025-07-22T09:12:24.406041",
     "status": "completed"
    },
    "tags": []
   },
   "outputs": [],
   "source": [
    "cp_metrics_dict = {\n",
    "    \"universe_id\": [universe_id],\n",
    "    \"universe_model\": [universe_model],\n",
    "    \"universe_exclude_features\": [universe_exclude_features],\n",
    "    \"universe_exclude_subgroups\": [universe_exclude_subgroups],\n",
    "    \"q_hat\": [q_hat],\n",
    "    \"coverage\": [metrics[\"coverage\"]],\n",
    "    \"avg_size\": [metrics[\"avg_size\"]],\n",
    "}"
   ]
  },
  {
   "cell_type": "code",
   "execution_count": 43,
   "id": "908acbb1-0371-4915-85ca-3fa520d2efe2",
   "metadata": {
    "execution": {
     "iopub.execute_input": "2025-07-22T09:12:24.488466Z",
     "iopub.status.busy": "2025-07-22T09:12:24.487887Z",
     "iopub.status.idle": "2025-07-22T09:12:24.496432Z",
     "shell.execute_reply": "2025-07-22T09:12:24.495356Z"
    },
    "papermill": {
     "duration": 0.035142,
     "end_time": "2025-07-22T09:12:24.498423",
     "exception": false,
     "start_time": "2025-07-22T09:12:24.463281",
     "status": "completed"
    },
    "tags": []
   },
   "outputs": [
    {
     "data": {
      "text/plain": [
       "{'universe_id': ['22c2dffeab3d2bb5c3ec86fe0972c853'],\n",
       " 'universe_model': ['logreg'],\n",
       " 'universe_exclude_features': ['nationality'],\n",
       " 'universe_exclude_subgroups': ['drop-non-german'],\n",
       " 'q_hat': [0.659467698378766],\n",
       " 'coverage': [0.9101326496488685],\n",
       " 'avg_size': [1.1249804926986957]}"
      ]
     },
     "execution_count": 43,
     "metadata": {},
     "output_type": "execute_result"
    }
   ],
   "source": [
    "cp_metrics_dict"
   ]
  },
  {
   "cell_type": "code",
   "execution_count": 44,
   "id": "33007efc-14e9-4ec6-97ac-56a455c82265",
   "metadata": {
    "execution": {
     "iopub.execute_input": "2025-07-22T09:12:24.548669Z",
     "iopub.status.busy": "2025-07-22T09:12:24.547553Z",
     "iopub.status.idle": "2025-07-22T09:12:24.562541Z",
     "shell.execute_reply": "2025-07-22T09:12:24.561432Z"
    },
    "papermill": {
     "duration": 0.041203,
     "end_time": "2025-07-22T09:12:24.564798",
     "exception": false,
     "start_time": "2025-07-22T09:12:24.523595",
     "status": "completed"
    },
    "tags": []
   },
   "outputs": [],
   "source": [
    "cp_metrics_df = pd.DataFrame(cp_metrics_dict)"
   ]
  },
  {
   "cell_type": "code",
   "execution_count": 45,
   "id": "db12611b-57b2-4910-b9d0-355adfd6e7bf",
   "metadata": {
    "execution": {
     "iopub.execute_input": "2025-07-22T09:12:24.614076Z",
     "iopub.status.busy": "2025-07-22T09:12:24.613571Z",
     "iopub.status.idle": "2025-07-22T09:12:24.633487Z",
     "shell.execute_reply": "2025-07-22T09:12:24.631882Z"
    },
    "papermill": {
     "duration": 0.045853,
     "end_time": "2025-07-22T09:12:24.635625",
     "exception": false,
     "start_time": "2025-07-22T09:12:24.589772",
     "status": "completed"
    },
    "tags": []
   },
   "outputs": [
    {
     "data": {
      "text/html": [
       "<div>\n",
       "<style scoped>\n",
       "    .dataframe tbody tr th:only-of-type {\n",
       "        vertical-align: middle;\n",
       "    }\n",
       "\n",
       "    .dataframe tbody tr th {\n",
       "        vertical-align: top;\n",
       "    }\n",
       "\n",
       "    .dataframe thead th {\n",
       "        text-align: right;\n",
       "    }\n",
       "</style>\n",
       "<table border=\"1\" class=\"dataframe\">\n",
       "  <thead>\n",
       "    <tr style=\"text-align: right;\">\n",
       "      <th></th>\n",
       "      <th>universe_id</th>\n",
       "      <th>universe_model</th>\n",
       "      <th>universe_exclude_features</th>\n",
       "      <th>universe_exclude_subgroups</th>\n",
       "      <th>q_hat</th>\n",
       "      <th>coverage</th>\n",
       "      <th>avg_size</th>\n",
       "    </tr>\n",
       "  </thead>\n",
       "  <tbody>\n",
       "    <tr>\n",
       "      <th>0</th>\n",
       "      <td>22c2dffeab3d2bb5c3ec86fe0972c853</td>\n",
       "      <td>logreg</td>\n",
       "      <td>nationality</td>\n",
       "      <td>drop-non-german</td>\n",
       "      <td>0.659468</td>\n",
       "      <td>0.910133</td>\n",
       "      <td>1.12498</td>\n",
       "    </tr>\n",
       "  </tbody>\n",
       "</table>\n",
       "</div>"
      ],
      "text/plain": [
       "                        universe_id universe_model universe_exclude_features  \\\n",
       "0  22c2dffeab3d2bb5c3ec86fe0972c853         logreg               nationality   \n",
       "\n",
       "  universe_exclude_subgroups     q_hat  coverage  avg_size  \n",
       "0            drop-non-german  0.659468  0.910133   1.12498  "
      ]
     },
     "execution_count": 45,
     "metadata": {},
     "output_type": "execute_result"
    }
   ],
   "source": [
    "cp_metrics_df"
   ]
  },
  {
   "cell_type": "code",
   "execution_count": 46,
   "id": "b7fbde55-a0a1-47e4-9af6-fe4a17fa8c61",
   "metadata": {
    "execution": {
     "iopub.execute_input": "2025-07-22T09:12:24.687441Z",
     "iopub.status.busy": "2025-07-22T09:12:24.686425Z",
     "iopub.status.idle": "2025-07-22T09:12:24.692375Z",
     "shell.execute_reply": "2025-07-22T09:12:24.691429Z"
    },
    "papermill": {
     "duration": 0.033399,
     "end_time": "2025-07-22T09:12:24.694489",
     "exception": false,
     "start_time": "2025-07-22T09:12:24.661090",
     "status": "completed"
    },
    "tags": []
   },
   "outputs": [],
   "source": [
    "# Conditional Coverage & looking at subgroups"
   ]
  },
  {
   "cell_type": "code",
   "execution_count": 47,
   "id": "027ae886-68dd-4141-96c7-805a5450e1ef",
   "metadata": {
    "execution": {
     "iopub.execute_input": "2025-07-22T09:12:24.739983Z",
     "iopub.status.busy": "2025-07-22T09:12:24.739016Z",
     "iopub.status.idle": "2025-07-22T09:12:25.018001Z",
     "shell.execute_reply": "2025-07-22T09:12:25.016986Z"
    },
    "papermill": {
     "duration": 0.303063,
     "end_time": "2025-07-22T09:12:25.020076",
     "exception": false,
     "start_time": "2025-07-22T09:12:24.717013",
     "status": "completed"
    },
    "tags": []
   },
   "outputs": [],
   "source": [
    "from fairness_multiverse.conformal import build_cp_groups\n",
    "\n",
    "cp_groups_df = build_cp_groups(pred_sets, y_true, X_test.index, org_test)\n",
    "#needs universe_id and setting"
   ]
  },
  {
   "cell_type": "code",
   "execution_count": 48,
   "id": "c3b92545-903e-4839-89af-0f057907d7d6",
   "metadata": {
    "execution": {
     "iopub.execute_input": "2025-07-22T09:12:25.066978Z",
     "iopub.status.busy": "2025-07-22T09:12:25.066139Z",
     "iopub.status.idle": "2025-07-22T09:12:26.761609Z",
     "shell.execute_reply": "2025-07-22T09:12:26.760425Z"
    },
    "papermill": {
     "duration": 1.720912,
     "end_time": "2025-07-22T09:12:26.764028",
     "exception": false,
     "start_time": "2025-07-22T09:12:25.043116",
     "status": "completed"
    },
    "tags": []
   },
   "outputs": [],
   "source": [
    "# Define covered = 1 if true_label is in the predicted set\n",
    "cp_groups_df['covered'] = cp_groups_df.apply(\n",
    "    lambda r: int(r['true_label'] in r['pred_set']),\n",
    "    axis=1\n",
    ")"
   ]
  },
  {
   "cell_type": "code",
   "execution_count": 49,
   "id": "338ff529-1a6b-4b87-a931-8e4788d52aad",
   "metadata": {
    "execution": {
     "iopub.execute_input": "2025-07-22T09:12:26.805526Z",
     "iopub.status.busy": "2025-07-22T09:12:26.805073Z",
     "iopub.status.idle": "2025-07-22T09:12:26.810136Z",
     "shell.execute_reply": "2025-07-22T09:12:26.808990Z"
    },
    "papermill": {
     "duration": 0.028306,
     "end_time": "2025-07-22T09:12:26.813686",
     "exception": false,
     "start_time": "2025-07-22T09:12:26.785380",
     "status": "completed"
    },
    "tags": []
   },
   "outputs": [],
   "source": [
    "#cp_groups_df"
   ]
  },
  {
   "cell_type": "code",
   "execution_count": 50,
   "id": "90032e27-66df-4540-9169-4e89cfbaa758",
   "metadata": {
    "execution": {
     "iopub.execute_input": "2025-07-22T09:12:26.861170Z",
     "iopub.status.busy": "2025-07-22T09:12:26.860664Z",
     "iopub.status.idle": "2025-07-22T09:12:26.872724Z",
     "shell.execute_reply": "2025-07-22T09:12:26.871546Z"
    },
    "papermill": {
     "duration": 0.038023,
     "end_time": "2025-07-22T09:12:26.874971",
     "exception": false,
     "start_time": "2025-07-22T09:12:26.836948",
     "status": "completed"
    },
    "tags": []
   },
   "outputs": [],
   "source": [
    "subgroups = ['frau1','nongerman','nongerman_male','nongerman_female']\n",
    "\n",
    "# Conditional coverage for subgroup==1\n",
    "cond_coverage = {\n",
    "    g: cp_groups_df.loc[cp_groups_df[g]==1, 'covered'].mean()\n",
    "    for g in subgroups\n",
    "}"
   ]
  },
  {
   "cell_type": "code",
   "execution_count": 51,
   "id": "1e348fb1-b9c3-45bc-ba23-f016827a7e0d",
   "metadata": {
    "execution": {
     "iopub.execute_input": "2025-07-22T09:12:26.916171Z",
     "iopub.status.busy": "2025-07-22T09:12:26.915594Z",
     "iopub.status.idle": "2025-07-22T09:12:26.923865Z",
     "shell.execute_reply": "2025-07-22T09:12:26.922895Z"
    },
    "papermill": {
     "duration": 0.030554,
     "end_time": "2025-07-22T09:12:26.925443",
     "exception": false,
     "start_time": "2025-07-22T09:12:26.894889",
     "status": "completed"
    },
    "tags": []
   },
   "outputs": [
    {
     "data": {
      "text/plain": [
       "{'frau1': 0.9079929909691333,\n",
       " 'nongerman': 0.9102340986919666,\n",
       " 'nongerman_male': 0.927136809871206,\n",
       " 'nongerman_female': 0.8822652757078987}"
      ]
     },
     "execution_count": 51,
     "metadata": {},
     "output_type": "execute_result"
    }
   ],
   "source": [
    "cond_coverage"
   ]
  },
  {
   "cell_type": "code",
   "execution_count": 52,
   "id": "f5093324-c3dd-4d63-bc4c-8d945e5c8bbb",
   "metadata": {
    "execution": {
     "iopub.execute_input": "2025-07-22T09:12:26.969510Z",
     "iopub.status.busy": "2025-07-22T09:12:26.969057Z",
     "iopub.status.idle": "2025-07-22T09:12:26.976085Z",
     "shell.execute_reply": "2025-07-22T09:12:26.975163Z"
    },
    "papermill": {
     "duration": 0.030386,
     "end_time": "2025-07-22T09:12:26.977770",
     "exception": false,
     "start_time": "2025-07-22T09:12:26.947384",
     "status": "completed"
    },
    "tags": []
   },
   "outputs": [],
   "source": [
    "for subgroup, cov in cond_coverage.items():\n",
    "    cp_metrics_df[f\"cov_{subgroup}\"] = cov"
   ]
  },
  {
   "cell_type": "code",
   "execution_count": 53,
   "id": "6e872e10-dbe5-49e8-b554-5030c98ff75d",
   "metadata": {
    "execution": {
     "iopub.execute_input": "2025-07-22T09:12:27.023111Z",
     "iopub.status.busy": "2025-07-22T09:12:27.022470Z",
     "iopub.status.idle": "2025-07-22T09:12:27.039162Z",
     "shell.execute_reply": "2025-07-22T09:12:27.038099Z"
    },
    "papermill": {
     "duration": 0.041282,
     "end_time": "2025-07-22T09:12:27.040982",
     "exception": false,
     "start_time": "2025-07-22T09:12:26.999700",
     "status": "completed"
    },
    "tags": []
   },
   "outputs": [
    {
     "data": {
      "text/html": [
       "<div>\n",
       "<style scoped>\n",
       "    .dataframe tbody tr th:only-of-type {\n",
       "        vertical-align: middle;\n",
       "    }\n",
       "\n",
       "    .dataframe tbody tr th {\n",
       "        vertical-align: top;\n",
       "    }\n",
       "\n",
       "    .dataframe thead th {\n",
       "        text-align: right;\n",
       "    }\n",
       "</style>\n",
       "<table border=\"1\" class=\"dataframe\">\n",
       "  <thead>\n",
       "    <tr style=\"text-align: right;\">\n",
       "      <th></th>\n",
       "      <th>universe_id</th>\n",
       "      <th>universe_model</th>\n",
       "      <th>universe_exclude_features</th>\n",
       "      <th>universe_exclude_subgroups</th>\n",
       "      <th>q_hat</th>\n",
       "      <th>coverage</th>\n",
       "      <th>avg_size</th>\n",
       "      <th>cov_frau1</th>\n",
       "      <th>cov_nongerman</th>\n",
       "      <th>cov_nongerman_male</th>\n",
       "      <th>cov_nongerman_female</th>\n",
       "    </tr>\n",
       "  </thead>\n",
       "  <tbody>\n",
       "    <tr>\n",
       "      <th>0</th>\n",
       "      <td>22c2dffeab3d2bb5c3ec86fe0972c853</td>\n",
       "      <td>logreg</td>\n",
       "      <td>nationality</td>\n",
       "      <td>drop-non-german</td>\n",
       "      <td>0.659468</td>\n",
       "      <td>0.910133</td>\n",
       "      <td>1.12498</td>\n",
       "      <td>0.907993</td>\n",
       "      <td>0.910234</td>\n",
       "      <td>0.927137</td>\n",
       "      <td>0.882265</td>\n",
       "    </tr>\n",
       "  </tbody>\n",
       "</table>\n",
       "</div>"
      ],
      "text/plain": [
       "                        universe_id universe_model universe_exclude_features  \\\n",
       "0  22c2dffeab3d2bb5c3ec86fe0972c853         logreg               nationality   \n",
       "\n",
       "  universe_exclude_subgroups     q_hat  coverage  avg_size  cov_frau1  \\\n",
       "0            drop-non-german  0.659468  0.910133   1.12498   0.907993   \n",
       "\n",
       "   cov_nongerman  cov_nongerman_male  cov_nongerman_female  \n",
       "0       0.910234            0.927137              0.882265  "
      ]
     },
     "execution_count": 53,
     "metadata": {},
     "output_type": "execute_result"
    }
   ],
   "source": [
    "cp_metrics_df"
   ]
  },
  {
   "cell_type": "markdown",
   "id": "33774451",
   "metadata": {
    "papermill": {
     "duration": 0.01935,
     "end_time": "2025-07-22T09:12:27.080971",
     "exception": false,
     "start_time": "2025-07-22T09:12:27.061621",
     "status": "completed"
    },
    "tags": []
   },
   "source": [
    "# (Fairness) Metrics"
   ]
  },
  {
   "cell_type": "code",
   "execution_count": 54,
   "id": "debc5d62",
   "metadata": {
    "execution": {
     "iopub.execute_input": "2025-07-22T09:12:27.122796Z",
     "iopub.status.busy": "2025-07-22T09:12:27.121889Z",
     "iopub.status.idle": "2025-07-22T09:12:27.144117Z",
     "shell.execute_reply": "2025-07-22T09:12:27.143284Z"
    },
    "papermill": {
     "duration": 0.045284,
     "end_time": "2025-07-22T09:12:27.145778",
     "exception": false,
     "start_time": "2025-07-22T09:12:27.100494",
     "status": "completed"
    },
    "tags": []
   },
   "outputs": [],
   "source": [
    "# do I need to include maxdeutsch1.missing?\n",
    "\n",
    "import numpy as np\n",
    "\n",
    "colname_to_bin = \"maxdeutsch1\"\n",
    "majority_value = org_train[colname_to_bin].mode()[0]\n",
    "\n",
    "org_test[\"majmin\"] = np.where(org_test[colname_to_bin] == majority_value, \"majority\", \"minority\")"
   ]
  },
  {
   "cell_type": "code",
   "execution_count": 55,
   "id": "06a50de5",
   "metadata": {
    "execution": {
     "iopub.execute_input": "2025-07-22T09:12:27.187658Z",
     "iopub.status.busy": "2025-07-22T09:12:27.187057Z",
     "iopub.status.idle": "2025-07-22T09:12:29.461540Z",
     "shell.execute_reply": "2025-07-22T09:12:29.460703Z"
    },
    "papermill": {
     "duration": 2.296778,
     "end_time": "2025-07-22T09:12:29.463240",
     "exception": false,
     "start_time": "2025-07-22T09:12:27.166462",
     "status": "completed"
    },
    "tags": []
   },
   "outputs": [],
   "source": [
    "example_universe = universe.copy()\n",
    "example_universe[\"cutoff\"] = example_universe[\"cutoff\"][0]\n",
    "example_universe[\"eval_fairness_grouping\"] = example_universe[\"eval_fairness_grouping\"][0]\n",
    "fairness_dict, metric_frame = universe_analysis.compute_metrics(\n",
    "    example_universe,\n",
    "    y_pred_prob=probs_test,\n",
    "    y_test=y_true,\n",
    "    org_test=org_test,\n",
    ")"
   ]
  },
  {
   "cell_type": "markdown",
   "id": "f95d4e02",
   "metadata": {
    "papermill": {
     "duration": 0.020474,
     "end_time": "2025-07-22T09:12:29.508272",
     "exception": false,
     "start_time": "2025-07-22T09:12:29.487798",
     "status": "completed"
    },
    "tags": []
   },
   "source": [
    "# Overall"
   ]
  },
  {
   "cell_type": "markdown",
   "id": "bdee4871",
   "metadata": {
    "papermill": {
     "duration": 0.019993,
     "end_time": "2025-07-22T09:12:29.549276",
     "exception": false,
     "start_time": "2025-07-22T09:12:29.529283",
     "status": "completed"
    },
    "tags": []
   },
   "source": [
    "Fairness\n",
    "Main fairness target: Equalized Odds. Seems to be a better fit than equal opportunity, since we're not only interested in Y = 1. Seems to be a better fit than demographic parity, since we also care about accuracy, not just equal distribution of preds.\n",
    "\n",
    "Pick column for computation of fairness metrics\n",
    "\n",
    "Performance\n",
    "Overall performance measures, most interesting in relation to the measures split by group below"
   ]
  },
  {
   "cell_type": "code",
   "execution_count": 56,
   "id": "c4e067c6",
   "metadata": {
    "execution": {
     "iopub.execute_input": "2025-07-22T09:12:29.591751Z",
     "iopub.status.busy": "2025-07-22T09:12:29.591247Z",
     "iopub.status.idle": "2025-07-22T09:12:29.600443Z",
     "shell.execute_reply": "2025-07-22T09:12:29.599281Z"
    },
    "papermill": {
     "duration": 0.032681,
     "end_time": "2025-07-22T09:12:29.602385",
     "exception": false,
     "start_time": "2025-07-22T09:12:29.569704",
     "status": "completed"
    },
    "tags": []
   },
   "outputs": [
    {
     "data": {
      "text/plain": [
       "accuracy                   0.225516\n",
       "balanced accuracy          0.551177\n",
       "f1                         0.246816\n",
       "precision                  0.140998\n",
       "false positive rate        0.886870\n",
       "false negative rate        0.010775\n",
       "selection rate             0.900000\n",
       "count                  89710.000000\n",
       "dtype: float64"
      ]
     },
     "execution_count": 56,
     "metadata": {},
     "output_type": "execute_result"
    }
   ],
   "source": [
    "metric_frame.overall"
   ]
  },
  {
   "cell_type": "markdown",
   "id": "e968fe9d",
   "metadata": {
    "papermill": {
     "duration": 0.02157,
     "end_time": "2025-07-22T09:12:29.647591",
     "exception": false,
     "start_time": "2025-07-22T09:12:29.626021",
     "status": "completed"
    },
    "tags": []
   },
   "source": [
    "By Group"
   ]
  },
  {
   "cell_type": "code",
   "execution_count": 57,
   "id": "ec325bce",
   "metadata": {
    "execution": {
     "iopub.execute_input": "2025-07-22T09:12:29.692765Z",
     "iopub.status.busy": "2025-07-22T09:12:29.691814Z",
     "iopub.status.idle": "2025-07-22T09:12:29.711086Z",
     "shell.execute_reply": "2025-07-22T09:12:29.709811Z"
    },
    "papermill": {
     "duration": 0.044491,
     "end_time": "2025-07-22T09:12:29.713747",
     "exception": false,
     "start_time": "2025-07-22T09:12:29.669256",
     "status": "completed"
    },
    "tags": []
   },
   "outputs": [
    {
     "data": {
      "text/html": [
       "<div>\n",
       "<style scoped>\n",
       "    .dataframe tbody tr th:only-of-type {\n",
       "        vertical-align: middle;\n",
       "    }\n",
       "\n",
       "    .dataframe tbody tr th {\n",
       "        vertical-align: top;\n",
       "    }\n",
       "\n",
       "    .dataframe thead th {\n",
       "        text-align: right;\n",
       "    }\n",
       "</style>\n",
       "<table border=\"1\" class=\"dataframe\">\n",
       "  <thead>\n",
       "    <tr style=\"text-align: right;\">\n",
       "      <th></th>\n",
       "      <th>accuracy</th>\n",
       "      <th>balanced accuracy</th>\n",
       "      <th>f1</th>\n",
       "      <th>precision</th>\n",
       "      <th>false positive rate</th>\n",
       "      <th>false negative rate</th>\n",
       "      <th>selection rate</th>\n",
       "      <th>count</th>\n",
       "    </tr>\n",
       "    <tr>\n",
       "      <th>majmin</th>\n",
       "      <th></th>\n",
       "      <th></th>\n",
       "      <th></th>\n",
       "      <th></th>\n",
       "      <th></th>\n",
       "      <th></th>\n",
       "      <th></th>\n",
       "      <th></th>\n",
       "    </tr>\n",
       "  </thead>\n",
       "  <tbody>\n",
       "    <tr>\n",
       "      <th>majority</th>\n",
       "      <td>0.246032</td>\n",
       "      <td>0.560701</td>\n",
       "      <td>0.257306</td>\n",
       "      <td>0.147904</td>\n",
       "      <td>0.867000</td>\n",
       "      <td>0.011597</td>\n",
       "      <td>0.883042</td>\n",
       "      <td>69170.0</td>\n",
       "    </tr>\n",
       "    <tr>\n",
       "      <th>minority</th>\n",
       "      <td>0.156426</td>\n",
       "      <td>0.519945</td>\n",
       "      <td>0.213374</td>\n",
       "      <td>0.119538</td>\n",
       "      <td>0.952509</td>\n",
       "      <td>0.007601</td>\n",
       "      <td>0.957108</td>\n",
       "      <td>20540.0</td>\n",
       "    </tr>\n",
       "  </tbody>\n",
       "</table>\n",
       "</div>"
      ],
      "text/plain": [
       "          accuracy  balanced accuracy        f1  precision  \\\n",
       "majmin                                                       \n",
       "majority  0.246032           0.560701  0.257306   0.147904   \n",
       "minority  0.156426           0.519945  0.213374   0.119538   \n",
       "\n",
       "          false positive rate  false negative rate  selection rate    count  \n",
       "majmin                                                                       \n",
       "majority             0.867000             0.011597        0.883042  69170.0  \n",
       "minority             0.952509             0.007601        0.957108  20540.0  "
      ]
     },
     "execution_count": 57,
     "metadata": {},
     "output_type": "execute_result"
    }
   ],
   "source": [
    "metric_frame.by_group"
   ]
  },
  {
   "cell_type": "code",
   "execution_count": 58,
   "id": "a9ddbe63",
   "metadata": {
    "execution": {
     "iopub.execute_input": "2025-07-22T09:12:29.757093Z",
     "iopub.status.busy": "2025-07-22T09:12:29.756792Z",
     "iopub.status.idle": "2025-07-22T09:12:32.187763Z",
     "shell.execute_reply": "2025-07-22T09:12:32.186736Z"
    },
    "papermill": {
     "duration": 2.448319,
     "end_time": "2025-07-22T09:12:32.189603",
     "exception": false,
     "start_time": "2025-07-22T09:12:29.741284",
     "status": "completed"
    },
    "tags": []
   },
   "outputs": [
    {
     "data": {
      "text/plain": [
       "array([[<Axes: title={'center': 'accuracy'}, xlabel='majmin'>,\n",
       "        <Axes: title={'center': 'balanced accuracy'}, xlabel='majmin'>,\n",
       "        <Axes: title={'center': 'f1'}, xlabel='majmin'>],\n",
       "       [<Axes: title={'center': 'precision'}, xlabel='majmin'>,\n",
       "        <Axes: title={'center': 'false positive rate'}, xlabel='majmin'>,\n",
       "        <Axes: title={'center': 'false negative rate'}, xlabel='majmin'>],\n",
       "       [<Axes: title={'center': 'selection rate'}, xlabel='majmin'>,\n",
       "        <Axes: title={'center': 'count'}, xlabel='majmin'>,\n",
       "        <Axes: xlabel='majmin'>]], dtype=object)"
      ]
     },
     "execution_count": 58,
     "metadata": {},
     "output_type": "execute_result"
    },
    {
     "data": {
      "image/png": "[encoded data removed]",
      "text/plain": [
       "<Figure size 1200x800 with 9 Axes>"
      ]
     },
     "metadata": {},
     "output_type": "display_data"
    }
   ],
   "source": [
    "# In a graphic\n",
    "metric_frame.by_group.plot.bar(\n",
    "    subplots=True,\n",
    "    layout=[3, 3],\n",
    "    legend=False,\n",
    "    figsize=[12, 8],\n",
    "    title=\"Show all metrics\",\n",
    ")"
   ]
  },
  {
   "cell_type": "markdown",
   "id": "f57a0bac",
   "metadata": {
    "papermill": {
     "duration": 0.021797,
     "end_time": "2025-07-22T09:12:32.235608",
     "exception": false,
     "start_time": "2025-07-22T09:12:32.213811",
     "status": "completed"
    },
    "tags": []
   },
   "source": [
    "# Final Output"
   ]
  },
  {
   "cell_type": "code",
   "execution_count": 59,
   "id": "96d280a3",
   "metadata": {
    "execution": {
     "iopub.execute_input": "2025-07-22T09:12:32.283900Z",
     "iopub.status.busy": "2025-07-22T09:12:32.283263Z",
     "iopub.status.idle": "2025-07-22T09:12:32.291391Z",
     "shell.execute_reply": "2025-07-22T09:12:32.290566Z"
    },
    "papermill": {
     "duration": 0.035246,
     "end_time": "2025-07-22T09:12:32.292884",
     "exception": false,
     "start_time": "2025-07-22T09:12:32.257638",
     "status": "completed"
    },
    "tags": []
   },
   "outputs": [
    {
     "data": {
      "text/plain": [
       "4"
      ]
     },
     "execution_count": 59,
     "metadata": {},
     "output_type": "execute_result"
    }
   ],
   "source": [
    "sub_universes = universe_analysis.generate_sub_universes()\n",
    "len(sub_universes)"
   ]
  },
  {
   "cell_type": "code",
   "execution_count": 60,
   "id": "92adf7ba",
   "metadata": {
    "execution": {
     "iopub.execute_input": "2025-07-22T09:12:32.341096Z",
     "iopub.status.busy": "2025-07-22T09:12:32.340215Z",
     "iopub.status.idle": "2025-07-22T09:12:32.346640Z",
     "shell.execute_reply": "2025-07-22T09:12:32.345427Z"
    },
    "papermill": {
     "duration": 0.042804,
     "end_time": "2025-07-22T09:12:32.357729",
     "exception": false,
     "start_time": "2025-07-22T09:12:32.314925",
     "status": "completed"
    },
    "tags": []
   },
   "outputs": [],
   "source": [
    "def filter_sub_universe_data(sub_universe, org_test):\n",
    "    # Keep all rows — no filtering\n",
    "    keep_rows_mask = np.ones(org_test.shape[0], dtype=bool)\n",
    "\n",
    "    print(f\"[INFO] Keeping all rows: {keep_rows_mask.sum()} rows retained.\")\n",
    "    return keep_rows_mask"
   ]
  },
  {
   "cell_type": "code",
   "execution_count": 61,
   "id": "4a759155",
   "metadata": {
    "execution": {
     "iopub.execute_input": "2025-07-22T09:12:32.395310Z",
     "iopub.status.busy": "2025-07-22T09:12:32.394999Z",
     "iopub.status.idle": "2025-07-22T09:12:43.791904Z",
     "shell.execute_reply": "2025-07-22T09:12:43.791059Z"
    },
    "papermill": {
     "duration": 11.411238,
     "end_time": "2025-07-22T09:12:43.793351",
     "exception": false,
     "start_time": "2025-07-22T09:12:32.382113",
     "status": "completed"
    },
    "tags": []
   },
   "outputs": [
    {
     "name": "stdout",
     "output_type": "stream",
     "text": [
      "Stopping execution_time clock.\n",
      "[INFO] Keeping all rows: 89710 rows retained.\n"
     ]
    },
    {
     "name": "stdout",
     "output_type": "stream",
     "text": [
      "[INFO] Keeping all rows: 89710 rows retained.\n"
     ]
    },
    {
     "name": "stdout",
     "output_type": "stream",
     "text": [
      "[INFO] Keeping all rows: 89710 rows retained.\n"
     ]
    },
    {
     "name": "stdout",
     "output_type": "stream",
     "text": [
      "[INFO] Keeping all rows: 89710 rows retained.\n"
     ]
    },
    {
     "data": {
      "text/html": [
       "<div>\n",
       "<style scoped>\n",
       "    .dataframe tbody tr th:only-of-type {\n",
       "        vertical-align: middle;\n",
       "    }\n",
       "\n",
       "    .dataframe tbody tr th {\n",
       "        vertical-align: top;\n",
       "    }\n",
       "\n",
       "    .dataframe thead th {\n",
       "        text-align: right;\n",
       "    }\n",
       "</style>\n",
       "<table border=\"1\" class=\"dataframe\">\n",
       "  <thead>\n",
       "    <tr style=\"text-align: right;\">\n",
       "      <th></th>\n",
       "      <th>run_no</th>\n",
       "      <th>universe_id</th>\n",
       "      <th>universe_settings</th>\n",
       "      <th>execution_time</th>\n",
       "      <th>test_size_n</th>\n",
       "      <th>test_size_frac</th>\n",
       "      <th>fair_main_equalized_odds_difference</th>\n",
       "      <th>fair_main_equalized_odds_ratio</th>\n",
       "      <th>fair_main_demographic_parity_difference</th>\n",
       "      <th>fair_main_demographic_parity_ratio</th>\n",
       "      <th>...</th>\n",
       "      <th>perf_grp_precision_0</th>\n",
       "      <th>perf_grp_precision_1</th>\n",
       "      <th>perf_grp_false positive rate_0</th>\n",
       "      <th>perf_grp_false positive rate_1</th>\n",
       "      <th>perf_grp_false negative rate_0</th>\n",
       "      <th>perf_grp_false negative rate_1</th>\n",
       "      <th>perf_grp_selection rate_0</th>\n",
       "      <th>perf_grp_selection rate_1</th>\n",
       "      <th>perf_grp_count_0</th>\n",
       "      <th>perf_grp_count_1</th>\n",
       "    </tr>\n",
       "  </thead>\n",
       "  <tbody>\n",
       "    <tr>\n",
       "      <th>0</th>\n",
       "      <td>3</td>\n",
       "      <td>22c2dffeab3d2bb5c3ec86fe0972c853</td>\n",
       "      <td>{\"cutoff\": \"quantile_0.1\", \"eval_fairness_grou...</td>\n",
       "      <td>19.952125</td>\n",
       "      <td>89710</td>\n",
       "      <td>1.0</td>\n",
       "      <td>0.085510</td>\n",
       "      <td>0.910227</td>\n",
       "      <td>0.074066</td>\n",
       "      <td>0.922614</td>\n",
       "      <td>...</td>\n",
       "      <td>NaN</td>\n",
       "      <td>NaN</td>\n",
       "      <td>NaN</td>\n",
       "      <td>NaN</td>\n",
       "      <td>NaN</td>\n",
       "      <td>NaN</td>\n",
       "      <td>NaN</td>\n",
       "      <td>NaN</td>\n",
       "      <td>NaN</td>\n",
       "      <td>NaN</td>\n",
       "    </tr>\n",
       "    <tr>\n",
       "      <th>0</th>\n",
       "      <td>3</td>\n",
       "      <td>22c2dffeab3d2bb5c3ec86fe0972c853</td>\n",
       "      <td>{\"cutoff\": \"quantile_0.1\", \"eval_fairness_grou...</td>\n",
       "      <td>19.952125</td>\n",
       "      <td>89710</td>\n",
       "      <td>1.0</td>\n",
       "      <td>0.085510</td>\n",
       "      <td>0.910227</td>\n",
       "      <td>0.074066</td>\n",
       "      <td>0.922614</td>\n",
       "      <td>...</td>\n",
       "      <td>0.119538</td>\n",
       "      <td>0.147904</td>\n",
       "      <td>0.952509</td>\n",
       "      <td>0.867000</td>\n",
       "      <td>0.007601</td>\n",
       "      <td>0.011597</td>\n",
       "      <td>0.957108</td>\n",
       "      <td>0.883042</td>\n",
       "      <td>20540.0</td>\n",
       "      <td>69170.0</td>\n",
       "    </tr>\n",
       "    <tr>\n",
       "      <th>0</th>\n",
       "      <td>3</td>\n",
       "      <td>22c2dffeab3d2bb5c3ec86fe0972c853</td>\n",
       "      <td>{\"cutoff\": \"quantile_0.25\", \"eval_fairness_gro...</td>\n",
       "      <td>19.952125</td>\n",
       "      <td>89710</td>\n",
       "      <td>1.0</td>\n",
       "      <td>0.162024</td>\n",
       "      <td>0.808214</td>\n",
       "      <td>0.140563</td>\n",
       "      <td>0.836245</td>\n",
       "      <td>...</td>\n",
       "      <td>NaN</td>\n",
       "      <td>NaN</td>\n",
       "      <td>NaN</td>\n",
       "      <td>NaN</td>\n",
       "      <td>NaN</td>\n",
       "      <td>NaN</td>\n",
       "      <td>NaN</td>\n",
       "      <td>NaN</td>\n",
       "      <td>NaN</td>\n",
       "      <td>NaN</td>\n",
       "    </tr>\n",
       "    <tr>\n",
       "      <th>0</th>\n",
       "      <td>3</td>\n",
       "      <td>22c2dffeab3d2bb5c3ec86fe0972c853</td>\n",
       "      <td>{\"cutoff\": \"quantile_0.25\", \"eval_fairness_gro...</td>\n",
       "      <td>19.952125</td>\n",
       "      <td>89710</td>\n",
       "      <td>1.0</td>\n",
       "      <td>0.162024</td>\n",
       "      <td>0.808214</td>\n",
       "      <td>0.140563</td>\n",
       "      <td>0.836245</td>\n",
       "      <td>...</td>\n",
       "      <td>0.129261</td>\n",
       "      <td>0.174478</td>\n",
       "      <td>0.844816</td>\n",
       "      <td>0.682792</td>\n",
       "      <td>0.037584</td>\n",
       "      <td>0.052188</td>\n",
       "      <td>0.858374</td>\n",
       "      <td>0.717811</td>\n",
       "      <td>20540.0</td>\n",
       "      <td>69170.0</td>\n",
       "    </tr>\n",
       "  </tbody>\n",
       "</table>\n",
       "<p>4 rows × 50 columns</p>\n",
       "</div>"
      ],
      "text/plain": [
       "  run_no                       universe_id  \\\n",
       "0      3  22c2dffeab3d2bb5c3ec86fe0972c853   \n",
       "0      3  22c2dffeab3d2bb5c3ec86fe0972c853   \n",
       "0      3  22c2dffeab3d2bb5c3ec86fe0972c853   \n",
       "0      3  22c2dffeab3d2bb5c3ec86fe0972c853   \n",
       "\n",
       "                                   universe_settings  execution_time  \\\n",
       "0  {\"cutoff\": \"quantile_0.1\", \"eval_fairness_grou...       19.952125   \n",
       "0  {\"cutoff\": \"quantile_0.1\", \"eval_fairness_grou...       19.952125   \n",
       "0  {\"cutoff\": \"quantile_0.25\", \"eval_fairness_gro...       19.952125   \n",
       "0  {\"cutoff\": \"quantile_0.25\", \"eval_fairness_gro...       19.952125   \n",
       "\n",
       "   test_size_n  test_size_frac  fair_main_equalized_odds_difference  \\\n",
       "0        89710             1.0                             0.085510   \n",
       "0        89710             1.0                             0.085510   \n",
       "0        89710             1.0                             0.162024   \n",
       "0        89710             1.0                             0.162024   \n",
       "\n",
       "   fair_main_equalized_odds_ratio  fair_main_demographic_parity_difference  \\\n",
       "0                        0.910227                                 0.074066   \n",
       "0                        0.910227                                 0.074066   \n",
       "0                        0.808214                                 0.140563   \n",
       "0                        0.808214                                 0.140563   \n",
       "\n",
       "   fair_main_demographic_parity_ratio  ...  perf_grp_precision_0  \\\n",
       "0                            0.922614  ...                   NaN   \n",
       "0                            0.922614  ...              0.119538   \n",
       "0                            0.836245  ...                   NaN   \n",
       "0                            0.836245  ...              0.129261   \n",
       "\n",
       "   perf_grp_precision_1  perf_grp_false positive rate_0  \\\n",
       "0                   NaN                             NaN   \n",
       "0              0.147904                        0.952509   \n",
       "0                   NaN                             NaN   \n",
       "0              0.174478                        0.844816   \n",
       "\n",
       "   perf_grp_false positive rate_1  perf_grp_false negative rate_0  \\\n",
       "0                             NaN                             NaN   \n",
       "0                        0.867000                        0.007601   \n",
       "0                             NaN                             NaN   \n",
       "0                        0.682792                        0.037584   \n",
       "\n",
       "   perf_grp_false negative rate_1  perf_grp_selection rate_0  \\\n",
       "0                             NaN                        NaN   \n",
       "0                        0.011597                   0.957108   \n",
       "0                             NaN                        NaN   \n",
       "0                        0.052188                   0.858374   \n",
       "\n",
       "   perf_grp_selection rate_1  perf_grp_count_0  perf_grp_count_1  \n",
       "0                        NaN               NaN               NaN  \n",
       "0                   0.883042           20540.0           69170.0  \n",
       "0                        NaN               NaN               NaN  \n",
       "0                   0.717811           20540.0           69170.0  \n",
       "\n",
       "[4 rows x 50 columns]"
      ]
     },
     "execution_count": 61,
     "metadata": {},
     "output_type": "execute_result"
    }
   ],
   "source": [
    "final_output = universe_analysis.generate_final_output(\n",
    "    y_pred_prob=probs_test,\n",
    "    y_test=y_true,\n",
    "    org_test=org_test,\n",
    "    filter_data=filter_sub_universe_data,\n",
    "    cp_metrics_df=cp_metrics_df,\n",
    "    save=True,\n",
    ")\n",
    "final_output"
   ]
  },
  {
   "cell_type": "code",
   "execution_count": null,
   "id": "721ff514-cb11-46f8-b6fc-50392f74b5cb",
   "metadata": {
    "papermill": {
     "duration": 0.016647,
     "end_time": "2025-07-22T09:12:43.826233",
     "exception": false,
     "start_time": "2025-07-22T09:12:43.809586",
     "status": "completed"
    },
    "tags": []
   },
   "outputs": [],
   "source": []
  }
 ],
 "metadata": {
  "celltoolbar": "Tags",
  "kernelspec": {
   "display_name": "Python (CMA Fairness)",
   "language": "python",
   "name": "cma_fair_env"
  },
  "language_info": {
   "codemirror_mode": {
    "name": "ipython",
    "version": 3
   },
   "file_extension": ".py",
   "mimetype": "text/x-python",
   "name": "python",
   "nbconvert_exporter": "python",
   "pygments_lexer": "ipython3",
   "version": "3.10.12"
  },
  "papermill": {
   "default_parameters": {},
   "duration": 42.689726,
   "end_time": "2025-07-22T09:12:44.661746",
   "environment_variables": {},
   "exception": null,
   "input_path": "universe_analysis.ipynb",
   "output_path": "output/runs/3/notebooks/m_3-22c2dffeab3d2bb5c3ec86fe0972c853.ipynb",
   "parameters": {
    "output_dir": "output",
    "run_no": "3",
    "seed": "2023",
    "universe": "{\"cutoff\": [\"quantile_0.1\", \"quantile_0.25\"], \"eval_fairness_grouping\": [\"majority-minority\", \"nationality-all\"], \"exclude_features\": \"nationality\", \"exclude_subgroups\": \"drop-non-german\", \"model\": \"logreg\", \"scale\": \"scale\"}",
    "universe_id": "22c2dffeab3d2bb5c3ec86fe0972c853"
   },
   "start_time": "2025-07-22T09:12:01.972020",
   "version": "2.6.0"
  }
 },
 "nbformat": 4,
 "nbformat_minor": 5
}