{
 "cells": [
  {
   "cell_type": "markdown",
   "id": "ef23dbb3",
   "metadata": {
    "papermill": {
     "duration": 0.023572,
     "end_time": "2025-08-19T18:27:45.477549",
     "exception": false,
     "start_time": "2025-08-19T18:27:45.453977",
     "status": "completed"
    },
    "tags": []
   },
   "source": [
    "# Setup"
   ]
  },
  {
   "cell_type": "code",
   "execution_count": 1,
   "id": "0bc8e7dc",
   "metadata": {
    "execution": {
     "iopub.execute_input": "2025-08-19T18:27:45.500637Z",
     "iopub.status.busy": "2025-08-19T18:27:45.500262Z",
     "iopub.status.idle": "2025-08-19T18:27:45.510140Z",
     "shell.execute_reply": "2025-08-19T18:27:45.509572Z"
    },
    "papermill": {
     "duration": 0.024794,
     "end_time": "2025-08-19T18:27:45.514509",
     "exception": false,
     "start_time": "2025-08-19T18:27:45.489715",
     "status": "completed"
    },
    "tags": []
   },
   "outputs": [
    {
     "name": "stdout",
     "output_type": "stream",
     "text": [
      "/dss/dsshome1/0C/ra93lal2/cma/CMA_Fairness_v2\n"
     ]
    },
    {
     "name": "stderr",
     "output_type": "stream",
     "text": [
      "/dss/dsshome1/0C/ra93lal2/.local/share/virtualenvs/CMA_Fairness_v2-3j10GkSs/lib/python3.10/site-packages/IPython/core/magics/osm.py:393: UserWarning: This is now an optional IPython functionality, using bookmarks requires you to install the `pickleshare` library.\n",
      "  bkms = self.shell.db.get('bookmarks', {})\n",
      "/dss/dsshome1/0C/ra93lal2/.local/share/virtualenvs/CMA_Fairness_v2-3j10GkSs/lib/python3.10/site-packages/IPython/core/magics/osm.py:417: UserWarning: This is now an optional IPython functionality, setting dhist requires you to install the `pickleshare` library.\n",
      "  self.shell.db['dhist'] = compress_dhist(dhist)[-100:]\n"
     ]
    }
   ],
   "source": [
    "%cd ~/cma/CMA_Fairness_v2"
   ]
  },
  {
   "cell_type": "markdown",
   "id": "9d235661",
   "metadata": {
    "papermill": {
     "duration": 0.010997,
     "end_time": "2025-08-19T18:27:45.545525",
     "exception": false,
     "start_time": "2025-08-19T18:27:45.534528",
     "status": "completed"
    },
    "tags": []
   },
   "source": [
    "The following cell holds the definition of our parameters, these values can be overriden by rendering the with e.g. the following command:\n",
    "\n",
    "papermill -p alpha 0.2 -p ratio 0.3 universe_analysis.ipynb output/test_run.ipynb"
   ]
  },
  {
   "cell_type": "code",
   "execution_count": 2,
   "id": "4a789d8e",
   "metadata": {
    "execution": {
     "iopub.execute_input": "2025-08-19T18:27:45.566051Z",
     "iopub.status.busy": "2025-08-19T18:27:45.564815Z",
     "iopub.status.idle": "2025-08-19T18:27:45.574066Z",
     "shell.execute_reply": "2025-08-19T18:27:45.572285Z"
    },
    "papermill": {
     "duration": 0.021054,
     "end_time": "2025-08-19T18:27:45.575631",
     "exception": false,
     "start_time": "2025-08-19T18:27:45.554577",
     "status": "completed"
    },
    "tags": []
   },
   "outputs": [
    {
     "name": "stdout",
     "output_type": "stream",
     "text": [
      "Current working directory: /dss/dsshome1/0C/ra93lal2/cma/CMA_Fairness_v2\n"
     ]
    }
   ],
   "source": [
    "import os\n",
    "print(\"Current working directory:\", os.getcwd())"
   ]
  },
  {
   "cell_type": "code",
   "execution_count": 3,
   "id": "4132aaed",
   "metadata": {
    "execution": {
     "iopub.execute_input": "2025-08-19T18:27:45.598528Z",
     "iopub.status.busy": "2025-08-19T18:27:45.597603Z",
     "iopub.status.idle": "2025-08-19T18:27:45.607572Z",
     "shell.execute_reply": "2025-08-19T18:27:45.606006Z"
    },
    "papermill": {
     "duration": 0.0223,
     "end_time": "2025-08-19T18:27:45.608986",
     "exception": false,
     "start_time": "2025-08-19T18:27:45.586686",
     "status": "completed"
    },
    "tags": [
     "parameters"
    ]
   },
   "outputs": [],
   "source": [
    "run_no = 0\n",
    "universe_id = \"test\"\n",
    "universe = {\n",
    "    \"training_size\": \"5k\", # \"25k\", \"5k\", \"1k\"\n",
    "    \"training_year\": \"2012_14\", # \"2014\", \"2012_14\", \"2010_14\"\n",
    "    \"scale\": \"scale\", # \"scale\", \"do-not-scale\",\n",
    "    \"model\": \"elasticnet\", # \"logreg\", \"penalized_logreg\", \"rf\", \"gbm\", \"elasticnet\"\n",
    "    \"cutoff\": [\"quantile_0.15\", \"quantile_0.30\"],\n",
    "    \"exclude_features\": \"age\", # \"none\", \"nationality\", \"sex\", \"nationality-sex\", \"age\"\n",
    "    \"exclude_subgroups\": \"drop-non-german\", # \"keep-all\", \"drop-non-german\"\n",
    "    \"eval_fairness_grouping\": [\"majority-minority\", \"nationality-all\"]\n",
    "}\n",
    "\n",
    "output_dir=\"./output\"\n",
    "seed=0"
   ]
  },
  {
   "cell_type": "code",
   "execution_count": 4,
   "id": "2b395ace",
   "metadata": {
    "execution": {
     "iopub.execute_input": "2025-08-19T18:27:45.631874Z",
     "iopub.status.busy": "2025-08-19T18:27:45.630942Z",
     "iopub.status.idle": "2025-08-19T18:27:45.639349Z",
     "shell.execute_reply": "2025-08-19T18:27:45.637789Z"
    },
    "papermill": {
     "duration": 0.020943,
     "end_time": "2025-08-19T18:27:45.640738",
     "exception": false,
     "start_time": "2025-08-19T18:27:45.619795",
     "status": "completed"
    },
    "tags": [
     "injected-parameters"
    ]
   },
   "outputs": [],
   "source": [
    "# Parameters\n",
    "universe_id = \"876d35cfdafd654037f16ffa9789291b\"\n",
    "run_no = \"3\"\n",
    "universe = \"{\\\"cutoff\\\": [\\\"quantile_0.1\\\", \\\"quantile_0.25\\\"], \\\"eval_fairness_grouping\\\": [\\\"majority-minority\\\", \\\"nationality-all\\\"], \\\"exclude_features\\\": \\\"nationality\\\", \\\"exclude_subgroups\\\": \\\"keep-all\\\", \\\"model\\\": \\\"penalized_logreg\\\", \\\"scale\\\": \\\"do-not-scale\\\", \\\"training_size\\\": \\\"5k\\\", \\\"training_year\\\": \\\"2014\\\"}\"\n",
    "output_dir = \"output\"\n",
    "seed = \"2023\"\n"
   ]
  },
  {
   "cell_type": "code",
   "execution_count": 5,
   "id": "a5d7941f",
   "metadata": {
    "execution": {
     "iopub.execute_input": "2025-08-19T18:27:45.663332Z",
     "iopub.status.busy": "2025-08-19T18:27:45.662361Z",
     "iopub.status.idle": "2025-08-19T18:27:45.671429Z",
     "shell.execute_reply": "2025-08-19T18:27:45.669858Z"
    },
    "papermill": {
     "duration": 0.021198,
     "end_time": "2025-08-19T18:27:45.672855",
     "exception": false,
     "start_time": "2025-08-19T18:27:45.651657",
     "status": "completed"
    },
    "tags": []
   },
   "outputs": [],
   "source": [
    "import json\n",
    "if isinstance(universe, str):\n",
    "    universe = json.loads(universe)"
   ]
  },
  {
   "cell_type": "code",
   "execution_count": 6,
   "id": "7076ccb1",
   "metadata": {
    "execution": {
     "iopub.execute_input": "2025-08-19T18:27:45.695892Z",
     "iopub.status.busy": "2025-08-19T18:27:45.694545Z",
     "iopub.status.idle": "2025-08-19T18:27:45.743442Z",
     "shell.execute_reply": "2025-08-19T18:27:45.742819Z"
    },
    "papermill": {
     "duration": 0.061566,
     "end_time": "2025-08-19T18:27:45.745894",
     "exception": false,
     "start_time": "2025-08-19T18:27:45.684328",
     "status": "completed"
    },
    "tags": []
   },
   "outputs": [],
   "source": [
    "# Auto-reload the custom package\n",
    "%load_ext autoreload\n",
    "%autoreload 1\n",
    "%aimport fairness_multiverse"
   ]
  },
  {
   "cell_type": "code",
   "execution_count": 7,
   "id": "94c8eb93",
   "metadata": {
    "execution": {
     "iopub.execute_input": "2025-08-19T18:27:45.781143Z",
     "iopub.status.busy": "2025-08-19T18:27:45.780090Z",
     "iopub.status.idle": "2025-08-19T18:27:47.521936Z",
     "shell.execute_reply": "2025-08-19T18:27:47.521125Z"
    },
    "papermill": {
     "duration": 1.757568,
     "end_time": "2025-08-19T18:27:47.524940",
     "exception": false,
     "start_time": "2025-08-19T18:27:45.767372",
     "status": "completed"
    },
    "tags": []
   },
   "outputs": [],
   "source": [
    "from fairness_multiverse.universe import UniverseAnalysis\n",
    "\n",
    "universe_analysis = UniverseAnalysis(\n",
    "    run_no = run_no,\n",
    "    universe_id = universe_id,\n",
    "    universe = universe,\n",
    "    output_dir=output_dir,\n",
    ")"
   ]
  },
  {
   "cell_type": "code",
   "execution_count": 8,
   "id": "2a6381cf",
   "metadata": {
    "execution": {
     "iopub.execute_input": "2025-08-19T18:27:47.560002Z",
     "iopub.status.busy": "2025-08-19T18:27:47.559002Z",
     "iopub.status.idle": "2025-08-19T18:27:47.567746Z",
     "shell.execute_reply": "2025-08-19T18:27:47.566512Z"
    },
    "papermill": {
     "duration": 0.023196,
     "end_time": "2025-08-19T18:27:47.569186",
     "exception": false,
     "start_time": "2025-08-19T18:27:47.545990",
     "status": "completed"
    },
    "tags": []
   },
   "outputs": [
    {
     "name": "stdout",
     "output_type": "stream",
     "text": [
      "Using Seed: 2023\n"
     ]
    }
   ],
   "source": [
    "import numpy as np\n",
    "parsed_seed = int(seed)\n",
    "np.random.seed(parsed_seed)\n",
    "print(f\"Using Seed: {parsed_seed}\")"
   ]
  },
  {
   "cell_type": "markdown",
   "id": "b6e958b4",
   "metadata": {
    "papermill": {
     "duration": 0.009638,
     "end_time": "2025-08-19T18:27:47.588906",
     "exception": false,
     "start_time": "2025-08-19T18:27:47.579268",
     "status": "completed"
    },
    "tags": []
   },
   "source": [
    "# Loading Data"
   ]
  },
  {
   "cell_type": "code",
   "execution_count": 9,
   "id": "98701482",
   "metadata": {
    "execution": {
     "iopub.execute_input": "2025-08-19T18:27:47.609555Z",
     "iopub.status.busy": "2025-08-19T18:27:47.608352Z",
     "iopub.status.idle": "2025-08-19T18:27:57.855400Z",
     "shell.execute_reply": "2025-08-19T18:27:57.854434Z"
    },
    "papermill": {
     "duration": 10.258868,
     "end_time": "2025-08-19T18:27:57.856707",
     "exception": false,
     "start_time": "2025-08-19T18:27:47.597839",
     "status": "completed"
    },
    "tags": []
   },
   "outputs": [
    {
     "name": "stdout",
     "output_type": "stream",
     "text": [
      "Loading SIAB data from cache: data/siab_cached.csv.gz\n"
     ]
    },
    {
     "name": "stdout",
     "output_type": "stream",
     "text": [
      "(643690, 164)\n"
     ]
    }
   ],
   "source": [
    "from pathlib import Path\n",
    "import pandas as pd\n",
    "\n",
    "# File paths\n",
    "raw_file = Path(\"data/raw/siab.csv\")\n",
    "cache_file = Path(\"data/siab_cached.csv.gz\")\n",
    "\n",
    "# Ensure cache directory exists\n",
    "cache_file.parent.mkdir(parents=True, exist_ok=True)\n",
    "\n",
    "# Load with simple caching\n",
    "if cache_file.exists():\n",
    "    print(f\"Loading SIAB data from cache: {cache_file}\")\n",
    "    siab = pd.read_csv(cache_file, compression='gzip')\n",
    "else:\n",
    "    print(f\"Cache not found. Reading raw SIAB data: {raw_file}\")\n",
    "    siab = pd.read_csv(raw_file)\n",
    "    siab.to_csv(cache_file, index=False, compression='gzip')\n",
    "    print(f\"Cached SIAB data to: {cache_file}\")\n",
    "\n",
    "print(siab.shape)"
   ]
  },
  {
   "cell_type": "code",
   "execution_count": 10,
   "id": "058d2abb",
   "metadata": {
    "execution": {
     "iopub.execute_input": "2025-08-19T18:27:57.904453Z",
     "iopub.status.busy": "2025-08-19T18:27:57.903109Z",
     "iopub.status.idle": "2025-08-19T18:27:58.051232Z",
     "shell.execute_reply": "2025-08-19T18:27:58.050454Z"
    },
    "papermill": {
     "duration": 0.182827,
     "end_time": "2025-08-19T18:27:58.054529",
     "exception": false,
     "start_time": "2025-08-19T18:27:57.871702",
     "status": "completed"
    },
    "tags": []
   },
   "outputs": [
    {
     "data": {
      "text/html": [
       "<div>\n",
       "<style scoped>\n",
       "    .dataframe tbody tr th:only-of-type {\n",
       "        vertical-align: middle;\n",
       "    }\n",
       "\n",
       "    .dataframe tbody tr th {\n",
       "        vertical-align: top;\n",
       "    }\n",
       "\n",
       "    .dataframe thead th {\n",
       "        text-align: right;\n",
       "    }\n",
       "</style>\n",
       "<table border=\"1\" class=\"dataframe\">\n",
       "  <thead>\n",
       "    <tr style=\"text-align: right;\">\n",
       "      <th></th>\n",
       "      <th>persnr</th>\n",
       "      <th>year</th>\n",
       "      <th>nrEntry</th>\n",
       "      <th>ltue</th>\n",
       "      <th>employed_before</th>\n",
       "      <th>receipt_leh_before</th>\n",
       "      <th>receipt_lhg_before</th>\n",
       "      <th>se_before</th>\n",
       "      <th>ASU_notue_seeking_before</th>\n",
       "      <th>ASU_other_before</th>\n",
       "      <th>...</th>\n",
       "      <th>minijob_tot_dur_byage</th>\n",
       "      <th>ft_tot_dur_byage</th>\n",
       "      <th>befrist_tot_dur_byage</th>\n",
       "      <th>leih_tot_dur_byage</th>\n",
       "      <th>LHG_tot_dur_byage</th>\n",
       "      <th>LEH_tot_dur_byage</th>\n",
       "      <th>almp_tot_dur_byage</th>\n",
       "      <th>almp_aw_tot_dur_byage</th>\n",
       "      <th>se_tot_dur_byage</th>\n",
       "      <th>seeking1_tot_dur_byage</th>\n",
       "    </tr>\n",
       "  </thead>\n",
       "  <tbody>\n",
       "    <tr>\n",
       "      <th>0</th>\n",
       "      <td>7</td>\n",
       "      <td>2015</td>\n",
       "      <td>1</td>\n",
       "      <td>0</td>\n",
       "      <td>1</td>\n",
       "      <td>0</td>\n",
       "      <td>0</td>\n",
       "      <td>0</td>\n",
       "      <td>1</td>\n",
       "      <td>0</td>\n",
       "      <td>...</td>\n",
       "      <td>0.000000</td>\n",
       "      <td>0.000000</td>\n",
       "      <td>15.043478</td>\n",
       "      <td>0.000000</td>\n",
       "      <td>0.000000</td>\n",
       "      <td>0.000000</td>\n",
       "      <td>0.000000</td>\n",
       "      <td>0.000000</td>\n",
       "      <td>0.000000</td>\n",
       "      <td>0.000000</td>\n",
       "    </tr>\n",
       "    <tr>\n",
       "      <th>1</th>\n",
       "      <td>18</td>\n",
       "      <td>2010</td>\n",
       "      <td>1</td>\n",
       "      <td>1</td>\n",
       "      <td>0</td>\n",
       "      <td>0</td>\n",
       "      <td>0</td>\n",
       "      <td>0</td>\n",
       "      <td>0</td>\n",
       "      <td>0</td>\n",
       "      <td>...</td>\n",
       "      <td>0.000000</td>\n",
       "      <td>0.000000</td>\n",
       "      <td>0.000000</td>\n",
       "      <td>0.000000</td>\n",
       "      <td>0.000000</td>\n",
       "      <td>0.000000</td>\n",
       "      <td>0.000000</td>\n",
       "      <td>0.000000</td>\n",
       "      <td>0.000000</td>\n",
       "      <td>0.000000</td>\n",
       "    </tr>\n",
       "    <tr>\n",
       "      <th>2</th>\n",
       "      <td>18</td>\n",
       "      <td>2011</td>\n",
       "      <td>2</td>\n",
       "      <td>0</td>\n",
       "      <td>1</td>\n",
       "      <td>0</td>\n",
       "      <td>1</td>\n",
       "      <td>0</td>\n",
       "      <td>1</td>\n",
       "      <td>0</td>\n",
       "      <td>...</td>\n",
       "      <td>2.714286</td>\n",
       "      <td>2.714286</td>\n",
       "      <td>0.000000</td>\n",
       "      <td>0.000000</td>\n",
       "      <td>10.775510</td>\n",
       "      <td>0.000000</td>\n",
       "      <td>8.367347</td>\n",
       "      <td>0.000000</td>\n",
       "      <td>0.000000</td>\n",
       "      <td>9.836735</td>\n",
       "    </tr>\n",
       "    <tr>\n",
       "      <th>3</th>\n",
       "      <td>18</td>\n",
       "      <td>2012</td>\n",
       "      <td>3</td>\n",
       "      <td>0</td>\n",
       "      <td>1</td>\n",
       "      <td>0</td>\n",
       "      <td>1</td>\n",
       "      <td>0</td>\n",
       "      <td>1</td>\n",
       "      <td>0</td>\n",
       "      <td>...</td>\n",
       "      <td>4.200000</td>\n",
       "      <td>4.200000</td>\n",
       "      <td>0.000000</td>\n",
       "      <td>0.000000</td>\n",
       "      <td>12.100000</td>\n",
       "      <td>0.000000</td>\n",
       "      <td>9.400000</td>\n",
       "      <td>0.000000</td>\n",
       "      <td>0.000000</td>\n",
       "      <td>9.960000</td>\n",
       "    </tr>\n",
       "    <tr>\n",
       "      <th>4</th>\n",
       "      <td>18</td>\n",
       "      <td>2012</td>\n",
       "      <td>4</td>\n",
       "      <td>0</td>\n",
       "      <td>1</td>\n",
       "      <td>0</td>\n",
       "      <td>1</td>\n",
       "      <td>0</td>\n",
       "      <td>1</td>\n",
       "      <td>0</td>\n",
       "      <td>...</td>\n",
       "      <td>5.460000</td>\n",
       "      <td>5.460000</td>\n",
       "      <td>0.000000</td>\n",
       "      <td>0.000000</td>\n",
       "      <td>13.360000</td>\n",
       "      <td>0.000000</td>\n",
       "      <td>10.320000</td>\n",
       "      <td>0.000000</td>\n",
       "      <td>0.000000</td>\n",
       "      <td>10.280000</td>\n",
       "    </tr>\n",
       "    <tr>\n",
       "      <th>...</th>\n",
       "      <td>...</td>\n",
       "      <td>...</td>\n",
       "      <td>...</td>\n",
       "      <td>...</td>\n",
       "      <td>...</td>\n",
       "      <td>...</td>\n",
       "      <td>...</td>\n",
       "      <td>...</td>\n",
       "      <td>...</td>\n",
       "      <td>...</td>\n",
       "      <td>...</td>\n",
       "      <td>...</td>\n",
       "      <td>...</td>\n",
       "      <td>...</td>\n",
       "      <td>...</td>\n",
       "      <td>...</td>\n",
       "      <td>...</td>\n",
       "      <td>...</td>\n",
       "      <td>...</td>\n",
       "      <td>...</td>\n",
       "      <td>...</td>\n",
       "    </tr>\n",
       "    <tr>\n",
       "      <th>643685</th>\n",
       "      <td>1827860</td>\n",
       "      <td>2013</td>\n",
       "      <td>1</td>\n",
       "      <td>0</td>\n",
       "      <td>0</td>\n",
       "      <td>0</td>\n",
       "      <td>1</td>\n",
       "      <td>0</td>\n",
       "      <td>0</td>\n",
       "      <td>1</td>\n",
       "      <td>...</td>\n",
       "      <td>0.000000</td>\n",
       "      <td>0.000000</td>\n",
       "      <td>0.000000</td>\n",
       "      <td>0.000000</td>\n",
       "      <td>0.612903</td>\n",
       "      <td>0.000000</td>\n",
       "      <td>0.000000</td>\n",
       "      <td>0.000000</td>\n",
       "      <td>0.000000</td>\n",
       "      <td>0.000000</td>\n",
       "    </tr>\n",
       "    <tr>\n",
       "      <th>643686</th>\n",
       "      <td>1827860</td>\n",
       "      <td>2015</td>\n",
       "      <td>2</td>\n",
       "      <td>1</td>\n",
       "      <td>0</td>\n",
       "      <td>0</td>\n",
       "      <td>1</td>\n",
       "      <td>0</td>\n",
       "      <td>1</td>\n",
       "      <td>0</td>\n",
       "      <td>...</td>\n",
       "      <td>0.000000</td>\n",
       "      <td>0.000000</td>\n",
       "      <td>0.212121</td>\n",
       "      <td>0.212121</td>\n",
       "      <td>17.363636</td>\n",
       "      <td>0.000000</td>\n",
       "      <td>8.909091</td>\n",
       "      <td>0.000000</td>\n",
       "      <td>0.000000</td>\n",
       "      <td>7.121212</td>\n",
       "    </tr>\n",
       "    <tr>\n",
       "      <th>643687</th>\n",
       "      <td>1827860</td>\n",
       "      <td>2016</td>\n",
       "      <td>3</td>\n",
       "      <td>1</td>\n",
       "      <td>0</td>\n",
       "      <td>0</td>\n",
       "      <td>1</td>\n",
       "      <td>1</td>\n",
       "      <td>0</td>\n",
       "      <td>1</td>\n",
       "      <td>...</td>\n",
       "      <td>0.000000</td>\n",
       "      <td>0.000000</td>\n",
       "      <td>0.294118</td>\n",
       "      <td>0.205882</td>\n",
       "      <td>34.705882</td>\n",
       "      <td>0.000000</td>\n",
       "      <td>10.352941</td>\n",
       "      <td>1.705882</td>\n",
       "      <td>1.705882</td>\n",
       "      <td>23.911765</td>\n",
       "    </tr>\n",
       "    <tr>\n",
       "      <th>643688</th>\n",
       "      <td>1827869</td>\n",
       "      <td>2013</td>\n",
       "      <td>1</td>\n",
       "      <td>1</td>\n",
       "      <td>1</td>\n",
       "      <td>0</td>\n",
       "      <td>0</td>\n",
       "      <td>0</td>\n",
       "      <td>1</td>\n",
       "      <td>0</td>\n",
       "      <td>...</td>\n",
       "      <td>0.000000</td>\n",
       "      <td>0.000000</td>\n",
       "      <td>0.000000</td>\n",
       "      <td>0.000000</td>\n",
       "      <td>0.000000</td>\n",
       "      <td>0.525424</td>\n",
       "      <td>0.000000</td>\n",
       "      <td>0.000000</td>\n",
       "      <td>0.000000</td>\n",
       "      <td>0.000000</td>\n",
       "    </tr>\n",
       "    <tr>\n",
       "      <th>643689</th>\n",
       "      <td>1827869</td>\n",
       "      <td>2014</td>\n",
       "      <td>2</td>\n",
       "      <td>0</td>\n",
       "      <td>0</td>\n",
       "      <td>1</td>\n",
       "      <td>0</td>\n",
       "      <td>0</td>\n",
       "      <td>1</td>\n",
       "      <td>0</td>\n",
       "      <td>...</td>\n",
       "      <td>0.000000</td>\n",
       "      <td>0.666667</td>\n",
       "      <td>0.666667</td>\n",
       "      <td>0.000000</td>\n",
       "      <td>0.000000</td>\n",
       "      <td>8.950000</td>\n",
       "      <td>1.033333</td>\n",
       "      <td>0.083333</td>\n",
       "      <td>0.083333</td>\n",
       "      <td>8.133333</td>\n",
       "    </tr>\n",
       "  </tbody>\n",
       "</table>\n",
       "<p>643690 rows × 164 columns</p>\n",
       "</div>"
      ],
      "text/plain": [
       "         persnr  year  nrEntry  ltue  employed_before  receipt_leh_before  \\\n",
       "0             7  2015        1     0                1                   0   \n",
       "1            18  2010        1     1                0                   0   \n",
       "2            18  2011        2     0                1                   0   \n",
       "3            18  2012        3     0                1                   0   \n",
       "4            18  2012        4     0                1                   0   \n",
       "...         ...   ...      ...   ...              ...                 ...   \n",
       "643685  1827860  2013        1     0                0                   0   \n",
       "643686  1827860  2015        2     1                0                   0   \n",
       "643687  1827860  2016        3     1                0                   0   \n",
       "643688  1827869  2013        1     1                1                   0   \n",
       "643689  1827869  2014        2     0                0                   1   \n",
       "\n",
       "        receipt_lhg_before  se_before  ASU_notue_seeking_before  \\\n",
       "0                        0          0                         1   \n",
       "1                        0          0                         0   \n",
       "2                        1          0                         1   \n",
       "3                        1          0                         1   \n",
       "4                        1          0                         1   \n",
       "...                    ...        ...                       ...   \n",
       "643685                   1          0                         0   \n",
       "643686                   1          0                         1   \n",
       "643687                   1          1                         0   \n",
       "643688                   0          0                         1   \n",
       "643689                   0          0                         1   \n",
       "\n",
       "        ASU_other_before  ...  minijob_tot_dur_byage  ft_tot_dur_byage  \\\n",
       "0                      0  ...               0.000000          0.000000   \n",
       "1                      0  ...               0.000000          0.000000   \n",
       "2                      0  ...               2.714286          2.714286   \n",
       "3                      0  ...               4.200000          4.200000   \n",
       "4                      0  ...               5.460000          5.460000   \n",
       "...                  ...  ...                    ...               ...   \n",
       "643685                 1  ...               0.000000          0.000000   \n",
       "643686                 0  ...               0.000000          0.000000   \n",
       "643687                 1  ...               0.000000          0.000000   \n",
       "643688                 0  ...               0.000000          0.000000   \n",
       "643689                 0  ...               0.000000          0.666667   \n",
       "\n",
       "        befrist_tot_dur_byage  leih_tot_dur_byage  LHG_tot_dur_byage  \\\n",
       "0                   15.043478            0.000000           0.000000   \n",
       "1                    0.000000            0.000000           0.000000   \n",
       "2                    0.000000            0.000000          10.775510   \n",
       "3                    0.000000            0.000000          12.100000   \n",
       "4                    0.000000            0.000000          13.360000   \n",
       "...                       ...                 ...                ...   \n",
       "643685               0.000000            0.000000           0.612903   \n",
       "643686               0.212121            0.212121          17.363636   \n",
       "643687               0.294118            0.205882          34.705882   \n",
       "643688               0.000000            0.000000           0.000000   \n",
       "643689               0.666667            0.000000           0.000000   \n",
       "\n",
       "        LEH_tot_dur_byage  almp_tot_dur_byage  almp_aw_tot_dur_byage  \\\n",
       "0                0.000000            0.000000               0.000000   \n",
       "1                0.000000            0.000000               0.000000   \n",
       "2                0.000000            8.367347               0.000000   \n",
       "3                0.000000            9.400000               0.000000   \n",
       "4                0.000000           10.320000               0.000000   \n",
       "...                   ...                 ...                    ...   \n",
       "643685           0.000000            0.000000               0.000000   \n",
       "643686           0.000000            8.909091               0.000000   \n",
       "643687           0.000000           10.352941               1.705882   \n",
       "643688           0.525424            0.000000               0.000000   \n",
       "643689           8.950000            1.033333               0.083333   \n",
       "\n",
       "        se_tot_dur_byage  seeking1_tot_dur_byage  \n",
       "0               0.000000                0.000000  \n",
       "1               0.000000                0.000000  \n",
       "2               0.000000                9.836735  \n",
       "3               0.000000                9.960000  \n",
       "4               0.000000               10.280000  \n",
       "...                  ...                     ...  \n",
       "643685          0.000000                0.000000  \n",
       "643686          0.000000                7.121212  \n",
       "643687          1.705882               23.911765  \n",
       "643688          0.000000                0.000000  \n",
       "643689          0.083333                8.133333  \n",
       "\n",
       "[643690 rows x 164 columns]"
      ]
     },
     "execution_count": 10,
     "metadata": {},
     "output_type": "execute_result"
    }
   ],
   "source": [
    "siab"
   ]
  },
  {
   "cell_type": "markdown",
   "id": "1f87e805",
   "metadata": {
    "papermill": {
     "duration": 0.009912,
     "end_time": "2025-08-19T18:27:58.078450",
     "exception": false,
     "start_time": "2025-08-19T18:27:58.068538",
     "status": "completed"
    },
    "tags": []
   },
   "source": [
    "# Splitting Data and Setting Training Data Size"
   ]
  },
  {
   "cell_type": "code",
   "execution_count": 11,
   "id": "910ae358",
   "metadata": {
    "execution": {
     "iopub.execute_input": "2025-08-19T18:27:58.105395Z",
     "iopub.status.busy": "2025-08-19T18:27:58.099873Z",
     "iopub.status.idle": "2025-08-19T18:27:58.365827Z",
     "shell.execute_reply": "2025-08-19T18:27:58.364928Z"
    },
    "papermill": {
     "duration": 0.28079,
     "end_time": "2025-08-19T18:27:58.369091",
     "exception": false,
     "start_time": "2025-08-19T18:27:58.088301",
     "status": "completed"
    },
    "tags": []
   },
   "outputs": [],
   "source": [
    "from fairness_multiverse.universe import sample_by_year_size\n",
    "\n",
    "siab_train = sample_by_year_size(siab,\n",
    "                               training_year=universe[\"training_year\"],\n",
    "                               training_size=universe[\"training_size\"])"
   ]
  },
  {
   "cell_type": "code",
   "execution_count": 12,
   "id": "919c8ff5",
   "metadata": {
    "execution": {
     "iopub.execute_input": "2025-08-19T18:27:58.407674Z",
     "iopub.status.busy": "2025-08-19T18:27:58.406927Z",
     "iopub.status.idle": "2025-08-19T18:27:58.416946Z",
     "shell.execute_reply": "2025-08-19T18:27:58.415899Z"
    },
    "papermill": {
     "duration": 0.025737,
     "end_time": "2025-08-19T18:27:58.418293",
     "exception": false,
     "start_time": "2025-08-19T18:27:58.392556",
     "status": "completed"
    },
    "tags": []
   },
   "outputs": [
    {
     "data": {
      "text/plain": [
       "(5000, 164)"
      ]
     },
     "execution_count": 12,
     "metadata": {},
     "output_type": "execute_result"
    }
   ],
   "source": [
    "siab_train.shape"
   ]
  },
  {
   "cell_type": "code",
   "execution_count": 13,
   "id": "feb13bf4",
   "metadata": {
    "execution": {
     "iopub.execute_input": "2025-08-19T18:27:58.443828Z",
     "iopub.status.busy": "2025-08-19T18:27:58.443125Z",
     "iopub.status.idle": "2025-08-19T18:27:58.456370Z",
     "shell.execute_reply": "2025-08-19T18:27:58.455407Z"
    },
    "papermill": {
     "duration": 0.026727,
     "end_time": "2025-08-19T18:27:58.457917",
     "exception": false,
     "start_time": "2025-08-19T18:27:58.431190",
     "status": "completed"
    },
    "tags": []
   },
   "outputs": [
    {
     "data": {
      "text/plain": [
       "year\n",
       "2014    5000\n",
       "dtype: int64"
      ]
     },
     "metadata": {},
     "output_type": "display_data"
    }
   ],
   "source": [
    "display(siab_train.groupby(\"year\").size())"
   ]
  },
  {
   "cell_type": "code",
   "execution_count": 14,
   "id": "0997782f",
   "metadata": {
    "execution": {
     "iopub.execute_input": "2025-08-19T18:27:58.488158Z",
     "iopub.status.busy": "2025-08-19T18:27:58.487466Z",
     "iopub.status.idle": "2025-08-19T18:27:58.785813Z",
     "shell.execute_reply": "2025-08-19T18:27:58.785033Z"
    },
    "papermill": {
     "duration": 0.314772,
     "end_time": "2025-08-19T18:27:58.788673",
     "exception": false,
     "start_time": "2025-08-19T18:27:58.473901",
     "status": "completed"
    },
    "tags": []
   },
   "outputs": [],
   "source": [
    "#siab_train = siab_s[siab_s.year < 2015]\n",
    "siab_calib = siab[siab.year == 2015]\n",
    "siab_test = siab[siab.year == 2016]"
   ]
  },
  {
   "cell_type": "code",
   "execution_count": 15,
   "id": "2c1e4012",
   "metadata": {
    "execution": {
     "iopub.execute_input": "2025-08-19T18:27:58.829567Z",
     "iopub.status.busy": "2025-08-19T18:27:58.828919Z",
     "iopub.status.idle": "2025-08-19T18:27:58.842580Z",
     "shell.execute_reply": "2025-08-19T18:27:58.841522Z"
    },
    "papermill": {
     "duration": 0.029793,
     "end_time": "2025-08-19T18:27:58.844123",
     "exception": false,
     "start_time": "2025-08-19T18:27:58.814330",
     "status": "completed"
    },
    "tags": []
   },
   "outputs": [],
   "source": [
    "#siab_calib.shape"
   ]
  },
  {
   "cell_type": "code",
   "execution_count": 16,
   "id": "f66b54ca",
   "metadata": {
    "execution": {
     "iopub.execute_input": "2025-08-19T18:27:58.871486Z",
     "iopub.status.busy": "2025-08-19T18:27:58.871190Z",
     "iopub.status.idle": "2025-08-19T18:27:58.875571Z",
     "shell.execute_reply": "2025-08-19T18:27:58.874859Z"
    },
    "papermill": {
     "duration": 0.017777,
     "end_time": "2025-08-19T18:27:58.876813",
     "exception": false,
     "start_time": "2025-08-19T18:27:58.859036",
     "status": "completed"
    },
    "tags": []
   },
   "outputs": [],
   "source": [
    "#siab_test.shape"
   ]
  },
  {
   "cell_type": "code",
   "execution_count": 17,
   "id": "27e4384d",
   "metadata": {
    "execution": {
     "iopub.execute_input": "2025-08-19T18:27:58.899058Z",
     "iopub.status.busy": "2025-08-19T18:27:58.898792Z",
     "iopub.status.idle": "2025-08-19T18:27:58.909252Z",
     "shell.execute_reply": "2025-08-19T18:27:58.908486Z"
    },
    "papermill": {
     "duration": 0.023367,
     "end_time": "2025-08-19T18:27:58.910787",
     "exception": false,
     "start_time": "2025-08-19T18:27:58.887420",
     "status": "completed"
    },
    "tags": []
   },
   "outputs": [],
   "source": [
    "X_train = siab_train.iloc[:,4:164]\n",
    "y_train = siab_train.iloc[:, [3]]"
   ]
  },
  {
   "cell_type": "code",
   "execution_count": 18,
   "id": "08ee8389",
   "metadata": {
    "execution": {
     "iopub.execute_input": "2025-08-19T18:27:58.936676Z",
     "iopub.status.busy": "2025-08-19T18:27:58.936384Z",
     "iopub.status.idle": "2025-08-19T18:27:59.000035Z",
     "shell.execute_reply": "2025-08-19T18:27:58.999177Z"
    },
    "papermill": {
     "duration": 0.076572,
     "end_time": "2025-08-19T18:27:59.001407",
     "exception": false,
     "start_time": "2025-08-19T18:27:58.924835",
     "status": "completed"
    },
    "tags": []
   },
   "outputs": [],
   "source": [
    "X_calib = siab_calib.iloc[:,4:164]\n",
    "y_calib = siab_calib.iloc[:, [3]]"
   ]
  },
  {
   "cell_type": "code",
   "execution_count": 19,
   "id": "b7ff42e0",
   "metadata": {
    "execution": {
     "iopub.execute_input": "2025-08-19T18:27:59.024648Z",
     "iopub.status.busy": "2025-08-19T18:27:59.023758Z",
     "iopub.status.idle": "2025-08-19T18:27:59.081341Z",
     "shell.execute_reply": "2025-08-19T18:27:59.080527Z"
    },
    "papermill": {
     "duration": 0.071986,
     "end_time": "2025-08-19T18:27:59.084124",
     "exception": false,
     "start_time": "2025-08-19T18:27:59.012138",
     "status": "completed"
    },
    "tags": []
   },
   "outputs": [],
   "source": [
    "X_test = siab_test.iloc[:,4:164]\n",
    "y_true = siab_test.iloc[:, [3]]"
   ]
  },
  {
   "cell_type": "code",
   "execution_count": 20,
   "id": "0275101e",
   "metadata": {
    "execution": {
     "iopub.execute_input": "2025-08-19T18:27:59.124607Z",
     "iopub.status.busy": "2025-08-19T18:27:59.123389Z",
     "iopub.status.idle": "2025-08-19T18:27:59.246284Z",
     "shell.execute_reply": "2025-08-19T18:27:59.245468Z"
    },
    "papermill": {
     "duration": 0.140462,
     "end_time": "2025-08-19T18:27:59.249355",
     "exception": false,
     "start_time": "2025-08-19T18:27:59.108893",
     "status": "completed"
    },
    "tags": []
   },
   "outputs": [],
   "source": [
    "# Auxiliary data needed downstream in the pipeline\n",
    "\n",
    "org_train = X_train.copy()\n",
    "org_test = X_test.copy()\n",
    "org_calib = X_calib.copy()"
   ]
  },
  {
   "cell_type": "markdown",
   "id": "b461e618",
   "metadata": {
    "papermill": {
     "duration": 0.012451,
     "end_time": "2025-08-19T18:27:59.285938",
     "exception": false,
     "start_time": "2025-08-19T18:27:59.273487",
     "status": "completed"
    },
    "tags": []
   },
   "source": [
    "# Preprocessing Data"
   ]
  },
  {
   "cell_type": "code",
   "execution_count": 21,
   "id": "78e74c4b",
   "metadata": {
    "execution": {
     "iopub.execute_input": "2025-08-19T18:27:59.310062Z",
     "iopub.status.busy": "2025-08-19T18:27:59.308865Z",
     "iopub.status.idle": "2025-08-19T18:27:59.318295Z",
     "shell.execute_reply": "2025-08-19T18:27:59.317052Z"
    },
    "papermill": {
     "duration": 0.023411,
     "end_time": "2025-08-19T18:27:59.320054",
     "exception": false,
     "start_time": "2025-08-19T18:27:59.296643",
     "status": "completed"
    },
    "tags": []
   },
   "outputs": [],
   "source": [
    "# EXCLUDE PROTECTED FEATURES\n",
    "# --------------------------\n",
    "\n",
    "excluded_features = universe[\"exclude_features\"].split(\"-\")\n",
    "excluded_features_dictionary = {\n",
    "    \"nationality\": [\"maxdeutsch1\", \"maxdeutsch.Missing.\"],\n",
    "    \"sex\": [\"frau1\"],\n",
    "    \"age\": [\"age\"],\n",
    "}"
   ]
  },
  {
   "cell_type": "code",
   "execution_count": 22,
   "id": "f8e63555",
   "metadata": {
    "execution": {
     "iopub.execute_input": "2025-08-19T18:27:59.347127Z",
     "iopub.status.busy": "2025-08-19T18:27:59.345946Z",
     "iopub.status.idle": "2025-08-19T18:27:59.354046Z",
     "shell.execute_reply": "2025-08-19T18:27:59.352840Z"
    },
    "papermill": {
     "duration": 0.022166,
     "end_time": "2025-08-19T18:27:59.355573",
     "exception": false,
     "start_time": "2025-08-19T18:27:59.333407",
     "status": "completed"
    },
    "tags": []
   },
   "outputs": [],
   "source": [
    "excluded_features_columns = [\n",
    "    excluded_features_dictionary[f] for f in excluded_features if len(f) > 0 and f != \"none\"\n",
    "]"
   ]
  },
  {
   "cell_type": "code",
   "execution_count": 23,
   "id": "da781f7c",
   "metadata": {
    "execution": {
     "iopub.execute_input": "2025-08-19T18:27:59.383454Z",
     "iopub.status.busy": "2025-08-19T18:27:59.382286Z",
     "iopub.status.idle": "2025-08-19T18:27:59.389823Z",
     "shell.execute_reply": "2025-08-19T18:27:59.388581Z"
    },
    "papermill": {
     "duration": 0.0219,
     "end_time": "2025-08-19T18:27:59.391390",
     "exception": false,
     "start_time": "2025-08-19T18:27:59.369490",
     "status": "completed"
    },
    "tags": []
   },
   "outputs": [],
   "source": [
    "from fairness_multiverse.universe import flatten_once\n",
    "\n",
    "excluded_features_columns = flatten_once(excluded_features_columns)"
   ]
  },
  {
   "cell_type": "code",
   "execution_count": 24,
   "id": "37fef0f0",
   "metadata": {
    "execution": {
     "iopub.execute_input": "2025-08-19T18:27:59.417090Z",
     "iopub.status.busy": "2025-08-19T18:27:59.414830Z",
     "iopub.status.idle": "2025-08-19T18:27:59.427638Z",
     "shell.execute_reply": "2025-08-19T18:27:59.426871Z"
    },
    "papermill": {
     "duration": 0.02652,
     "end_time": "2025-08-19T18:27:59.429229",
     "exception": false,
     "start_time": "2025-08-19T18:27:59.402709",
     "status": "completed"
    },
    "tags": []
   },
   "outputs": [
    {
     "name": "stdout",
     "output_type": "stream",
     "text": [
      "Dropping features: ['maxdeutsch1', 'maxdeutsch.Missing.']\n"
     ]
    }
   ],
   "source": [
    "if len(excluded_features_columns) > 0:\n",
    "    print(f\"Dropping features: {excluded_features_columns}\")\n",
    "    X_train.drop(excluded_features_columns, axis=1, inplace=True)"
   ]
  },
  {
   "cell_type": "code",
   "execution_count": 25,
   "id": "d029e3e9",
   "metadata": {
    "execution": {
     "iopub.execute_input": "2025-08-19T18:27:59.458720Z",
     "iopub.status.busy": "2025-08-19T18:27:59.458110Z",
     "iopub.status.idle": "2025-08-19T18:27:59.520146Z",
     "shell.execute_reply": "2025-08-19T18:27:59.519339Z"
    },
    "papermill": {
     "duration": 0.07893,
     "end_time": "2025-08-19T18:27:59.524001",
     "exception": false,
     "start_time": "2025-08-19T18:27:59.445071",
     "status": "completed"
    },
    "tags": []
   },
   "outputs": [
    {
     "name": "stdout",
     "output_type": "stream",
     "text": [
      "Dropping features: ['maxdeutsch1', 'maxdeutsch.Missing.']\n"
     ]
    }
   ],
   "source": [
    "if len(excluded_features_columns) > 0:\n",
    "    print(f\"Dropping features: {excluded_features_columns}\")\n",
    "    X_test.drop(excluded_features_columns, axis=1, inplace=True)"
   ]
  },
  {
   "cell_type": "code",
   "execution_count": 26,
   "id": "01d571f0",
   "metadata": {
    "execution": {
     "iopub.execute_input": "2025-08-19T18:27:59.561900Z",
     "iopub.status.busy": "2025-08-19T18:27:59.561185Z",
     "iopub.status.idle": "2025-08-19T18:27:59.617338Z",
     "shell.execute_reply": "2025-08-19T18:27:59.616629Z"
    },
    "papermill": {
     "duration": 0.074625,
     "end_time": "2025-08-19T18:27:59.621649",
     "exception": false,
     "start_time": "2025-08-19T18:27:59.547024",
     "status": "completed"
    },
    "tags": []
   },
   "outputs": [
    {
     "name": "stdout",
     "output_type": "stream",
     "text": [
      "Dropping features: ['maxdeutsch1', 'maxdeutsch.Missing.']\n"
     ]
    }
   ],
   "source": [
    "if len(excluded_features_columns) > 0:\n",
    "    print(f\"Dropping features: {excluded_features_columns}\")\n",
    "    X_calib.drop(excluded_features_columns, axis=1, inplace=True)"
   ]
  },
  {
   "cell_type": "code",
   "execution_count": 27,
   "id": "3037356e",
   "metadata": {
    "execution": {
     "iopub.execute_input": "2025-08-19T18:27:59.660119Z",
     "iopub.status.busy": "2025-08-19T18:27:59.659410Z",
     "iopub.status.idle": "2025-08-19T18:27:59.666672Z",
     "shell.execute_reply": "2025-08-19T18:27:59.665464Z"
    },
    "papermill": {
     "duration": 0.023277,
     "end_time": "2025-08-19T18:27:59.668356",
     "exception": false,
     "start_time": "2025-08-19T18:27:59.645079",
     "status": "completed"
    },
    "tags": []
   },
   "outputs": [],
   "source": [
    "# EXCLUDE CERTAIN SUBGROUPS\n",
    "# -------------------------\n",
    "\n",
    "mode = universe.get(\"exclude_subgroups\", \"keep-all\") # Defaults to \"keep-all\" if the key is missing."
   ]
  },
  {
   "cell_type": "code",
   "execution_count": 28,
   "id": "9d1e63fd",
   "metadata": {
    "execution": {
     "iopub.execute_input": "2025-08-19T18:27:59.694095Z",
     "iopub.status.busy": "2025-08-19T18:27:59.693391Z",
     "iopub.status.idle": "2025-08-19T18:27:59.703241Z",
     "shell.execute_reply": "2025-08-19T18:27:59.702001Z"
    },
    "papermill": {
     "duration": 0.024728,
     "end_time": "2025-08-19T18:27:59.704920",
     "exception": false,
     "start_time": "2025-08-19T18:27:59.680192",
     "status": "completed"
    },
    "tags": []
   },
   "outputs": [],
   "source": [
    "if mode == \"keep-all\":\n",
    "    keep_mask = pd.Series(True, index=org_train.index)\n",
    "\n",
    "elif mode == \"drop-non-german\":\n",
    "    keep_mask = (org_train[\"maxdeutsch1\"] == 1) & (org_train[\"maxdeutsch.Missing.\"] == 0)\n",
    "\n",
    "else:\n",
    "    raise ValueError(f\"Unsupported mode for exclude_subgroups: {mode}\")"
   ]
  },
  {
   "cell_type": "code",
   "execution_count": 29,
   "id": "d3b65474",
   "metadata": {
    "execution": {
     "iopub.execute_input": "2025-08-19T18:27:59.732736Z",
     "iopub.status.busy": "2025-08-19T18:27:59.731991Z",
     "iopub.status.idle": "2025-08-19T18:27:59.741753Z",
     "shell.execute_reply": "2025-08-19T18:27:59.740543Z"
    },
    "papermill": {
     "duration": 0.02457,
     "end_time": "2025-08-19T18:27:59.743545",
     "exception": false,
     "start_time": "2025-08-19T18:27:59.718975",
     "status": "completed"
    },
    "tags": []
   },
   "outputs": [],
   "source": [
    "n_drop = (~keep_mask).sum() # Calculates how many rows are set to be dropped\n",
    "if n_drop > 0:\n",
    "    pct = n_drop / len(keep_mask) * 100\n",
    "    print(f\"Dropping {n_drop} rows ({pct:.2f}%) where mode='{mode}'\")"
   ]
  },
  {
   "cell_type": "code",
   "execution_count": 30,
   "id": "f44389b3",
   "metadata": {
    "execution": {
     "iopub.execute_input": "2025-08-19T18:27:59.771023Z",
     "iopub.status.busy": "2025-08-19T18:27:59.770353Z",
     "iopub.status.idle": "2025-08-19T18:27:59.781264Z",
     "shell.execute_reply": "2025-08-19T18:27:59.780220Z"
    },
    "papermill": {
     "duration": 0.025213,
     "end_time": "2025-08-19T18:27:59.782829",
     "exception": false,
     "start_time": "2025-08-19T18:27:59.757616",
     "status": "completed"
    },
    "tags": []
   },
   "outputs": [],
   "source": [
    "X_train = X_train[keep_mask]"
   ]
  },
  {
   "cell_type": "code",
   "execution_count": 31,
   "id": "ceca8c2a",
   "metadata": {
    "execution": {
     "iopub.execute_input": "2025-08-19T18:27:59.812435Z",
     "iopub.status.busy": "2025-08-19T18:27:59.811758Z",
     "iopub.status.idle": "2025-08-19T18:27:59.820592Z",
     "shell.execute_reply": "2025-08-19T18:27:59.819421Z"
    },
    "papermill": {
     "duration": 0.02379,
     "end_time": "2025-08-19T18:27:59.822341",
     "exception": false,
     "start_time": "2025-08-19T18:27:59.798551",
     "status": "completed"
    },
    "tags": []
   },
   "outputs": [],
   "source": [
    "y_train = y_train[keep_mask]"
   ]
  },
  {
   "cell_type": "markdown",
   "id": "04d31e2f",
   "metadata": {
    "papermill": {
     "duration": 0.011476,
     "end_time": "2025-08-19T18:27:59.847282",
     "exception": false,
     "start_time": "2025-08-19T18:27:59.835806",
     "status": "completed"
    },
    "tags": []
   },
   "source": [
    "# Model Training"
   ]
  },
  {
   "cell_type": "code",
   "execution_count": 32,
   "id": "db991733",
   "metadata": {
    "execution": {
     "iopub.execute_input": "2025-08-19T18:27:59.872434Z",
     "iopub.status.busy": "2025-08-19T18:27:59.871725Z",
     "iopub.status.idle": "2025-08-19T18:27:59.982757Z",
     "shell.execute_reply": "2025-08-19T18:27:59.981963Z"
    },
    "papermill": {
     "duration": 0.125827,
     "end_time": "2025-08-19T18:27:59.984426",
     "exception": false,
     "start_time": "2025-08-19T18:27:59.858599",
     "status": "completed"
    },
    "tags": []
   },
   "outputs": [],
   "source": [
    "from sklearn.linear_model import LogisticRegression\n",
    "from sklearn.ensemble import GradientBoostingClassifier, RandomForestClassifier\n",
    "\n",
    "if (universe[\"model\"] == \"logreg\"):\n",
    "    model = LogisticRegression() #penalty=\"none\", solver=\"newton-cg\", max_iter=1)\n",
    "elif (universe[\"model\"] == \"penalized_logreg\"):\n",
    "    model = LogisticRegression(penalty=\"l2\", C=0.1) #, solver=\"newton-cg\", max_iter=1)\n",
    "elif (universe[\"model\"] == \"rf\"):\n",
    "    model = RandomForestClassifier() # n_estimators=100, n_jobs=-1\n",
    "elif (universe[\"model\"] == \"gbm\"):\n",
    "    model = GradientBoostingClassifier()\n",
    "elif (universe[\"model\"] == \"elasticnet\"):\n",
    "    model = LogisticRegression(penalty = 'elasticnet', solver = 'saga', l1_ratio = 0.5) # max_iter=5000\n",
    "else:\n",
    "    raise \"Unsupported universe.model\""
   ]
  },
  {
   "cell_type": "code",
   "execution_count": 33,
   "id": "a4b5cd25",
   "metadata": {
    "execution": {
     "iopub.execute_input": "2025-08-19T18:28:00.009447Z",
     "iopub.status.busy": "2025-08-19T18:28:00.008992Z",
     "iopub.status.idle": "2025-08-19T18:28:00.016929Z",
     "shell.execute_reply": "2025-08-19T18:28:00.015853Z"
    },
    "papermill": {
     "duration": 0.02261,
     "end_time": "2025-08-19T18:28:00.018895",
     "exception": false,
     "start_time": "2025-08-19T18:27:59.996285",
     "status": "completed"
    },
    "tags": []
   },
   "outputs": [],
   "source": [
    "from sklearn.pipeline import Pipeline\n",
    "from sklearn.preprocessing import StandardScaler\n",
    "\n",
    "model = Pipeline([\n",
    "    #(\"continuous_processor\", continuous_processor),\n",
    "    #(\"categorical_preprocessor\", categorical_preprocessor),\n",
    "    (\"scale\", StandardScaler() if universe[\"scale\"] == \"scale\" else None), \n",
    "    (\"model\", model),\n",
    "])"
   ]
  },
  {
   "cell_type": "code",
   "execution_count": 34,
   "id": "283a904d",
   "metadata": {
    "execution": {
     "iopub.execute_input": "2025-08-19T18:28:00.048820Z",
     "iopub.status.busy": "2025-08-19T18:28:00.048058Z",
     "iopub.status.idle": "2025-08-19T18:28:00.205122Z",
     "shell.execute_reply": "2025-08-19T18:28:00.203995Z"
    },
    "papermill": {
     "duration": 0.17578,
     "end_time": "2025-08-19T18:28:00.209766",
     "exception": false,
     "start_time": "2025-08-19T18:28:00.033986",
     "status": "completed"
    },
    "tags": []
   },
   "outputs": [
    {
     "name": "stderr",
     "output_type": "stream",
     "text": [
      "/dss/dsshome1/0C/ra93lal2/.local/share/virtualenvs/CMA_Fairness_v2-3j10GkSs/lib/python3.10/site-packages/sklearn/linear_model/_logistic.py:444: ConvergenceWarning: lbfgs failed to converge (status=1):\n",
      "STOP: TOTAL NO. of ITERATIONS REACHED LIMIT.\n",
      "\n",
      "Increase the number of iterations (max_iter) or scale the data as shown in:\n",
      "    https://scikit-learn.org/stable/modules/preprocessing.html\n",
      "Please also refer to the documentation for alternative solver options:\n",
      "    https://scikit-learn.org/stable/modules/linear_model.html#logistic-regression\n",
      "  n_iter_i = _check_optimize_result(\n"
     ]
    },
    {
     "data": {
      "text/html": [
       "<style>#sk-container-id-1 {color: black;background-color: white;}#sk-container-id-1 pre{padding: 0;}#sk-container-id-1 div.sk-toggleable {background-color: white;}#sk-container-id-1 label.sk-toggleable__label {cursor: pointer;display: block;width: 100%;margin-bottom: 0;padding: 0.3em;box-sizing: border-box;text-align: center;}#sk-container-id-1 label.sk-toggleable__label-arrow:before {content: \"▸\";float: left;margin-right: 0.25em;color: #696969;}#sk-container-id-1 label.sk-toggleable__label-arrow:hover:before {color: black;}#sk-container-id-1 div.sk-estimator:hover label.sk-toggleable__label-arrow:before {color: black;}#sk-container-id-1 div.sk-toggleable__content {max-height: 0;max-width: 0;overflow: hidden;text-align: left;background-color: #f0f8ff;}#sk-container-id-1 div.sk-toggleable__content pre {margin: 0.2em;color: black;border-radius: 0.25em;background-color: #f0f8ff;}#sk-container-id-1 input.sk-toggleable__control:checked~div.sk-toggleable__content {max-height: 200px;max-width: 100%;overflow: auto;}#sk-container-id-1 input.sk-toggleable__control:checked~label.sk-toggleable__label-arrow:before {content: \"▾\";}#sk-container-id-1 div.sk-estimator input.sk-toggleable__control:checked~label.sk-toggleable__label {background-color: #d4ebff;}#sk-container-id-1 div.sk-label input.sk-toggleable__control:checked~label.sk-toggleable__label {background-color: #d4ebff;}#sk-container-id-1 input.sk-hidden--visually {border: 0;clip: rect(1px 1px 1px 1px);clip: rect(1px, 1px, 1px, 1px);height: 1px;margin: -1px;overflow: hidden;padding: 0;position: absolute;width: 1px;}#sk-container-id-1 div.sk-estimator {font-family: monospace;background-color: #f0f8ff;border: 1px dotted black;border-radius: 0.25em;box-sizing: border-box;margin-bottom: 0.5em;}#sk-container-id-1 div.sk-estimator:hover {background-color: #d4ebff;}#sk-container-id-1 div.sk-parallel-item::after {content: \"\";width: 100%;border-bottom: 1px solid gray;flex-grow: 1;}#sk-container-id-1 div.sk-label:hover label.sk-toggleable__label {background-color: #d4ebff;}#sk-container-id-1 div.sk-serial::before {content: \"\";position: absolute;border-left: 1px solid gray;box-sizing: border-box;top: 0;bottom: 0;left: 50%;z-index: 0;}#sk-container-id-1 div.sk-serial {display: flex;flex-direction: column;align-items: center;background-color: white;padding-right: 0.2em;padding-left: 0.2em;position: relative;}#sk-container-id-1 div.sk-item {position: relative;z-index: 1;}#sk-container-id-1 div.sk-parallel {display: flex;align-items: stretch;justify-content: center;background-color: white;position: relative;}#sk-container-id-1 div.sk-item::before, #sk-container-id-1 div.sk-parallel-item::before {content: \"\";position: absolute;border-left: 1px solid gray;box-sizing: border-box;top: 0;bottom: 0;left: 50%;z-index: -1;}#sk-container-id-1 div.sk-parallel-item {display: flex;flex-direction: column;z-index: 1;position: relative;background-color: white;}#sk-container-id-1 div.sk-parallel-item:first-child::after {align-self: flex-end;width: 50%;}#sk-container-id-1 div.sk-parallel-item:last-child::after {align-self: flex-start;width: 50%;}#sk-container-id-1 div.sk-parallel-item:only-child::after {width: 0;}#sk-container-id-1 div.sk-dashed-wrapped {border: 1px dashed gray;margin: 0 0.4em 0.5em 0.4em;box-sizing: border-box;padding-bottom: 0.4em;background-color: white;}#sk-container-id-1 div.sk-label label {font-family: monospace;font-weight: bold;display: inline-block;line-height: 1.2em;}#sk-container-id-1 div.sk-label-container {text-align: center;}#sk-container-id-1 div.sk-container {/* jupyter's `normalize.less` sets `[hidden] { display: none; }` but bootstrap.min.css set `[hidden] { display: none !important; }` so we also need the `!important` here to be able to override the default hidden behavior on the sphinx rendered scikit-learn.org. See: https://github.com/scikit-learn/scikit-learn/issues/21755 */display: inline-block !important;position: relative;}#sk-container-id-1 div.sk-text-repr-fallback {display: none;}</style><div id=\"sk-container-id-1\" class=\"sk-top-container\"><div class=\"sk-text-repr-fallback\"><pre>Pipeline(steps=[(&#x27;scale&#x27;, None), (&#x27;model&#x27;, LogisticRegression(C=0.1))])</pre><b>In a Jupyter environment, please rerun this cell to show the HTML representation or trust the notebook. <br />On GitHub, the HTML representation is unable to render, please try loading this page with nbviewer.org.</b></div><div class=\"sk-container\" hidden><div class=\"sk-item sk-dashed-wrapped\"><div class=\"sk-label-container\"><div class=\"sk-label sk-toggleable\"><input class=\"sk-toggleable__control sk-hidden--visually\" id=\"sk-estimator-id-1\" type=\"checkbox\" ><label for=\"sk-estimator-id-1\" class=\"sk-toggleable__label sk-toggleable__label-arrow\">Pipeline</label><div class=\"sk-toggleable__content\"><pre>Pipeline(steps=[(&#x27;scale&#x27;, None), (&#x27;model&#x27;, LogisticRegression(C=0.1))])</pre></div></div></div><div class=\"sk-serial\"><div class=\"sk-item\"><div class=\"sk-estimator sk-toggleable\"><input class=\"sk-toggleable__control sk-hidden--visually\" id=\"sk-estimator-id-2\" type=\"checkbox\" ><label for=\"sk-estimator-id-2\" class=\"sk-toggleable__label sk-toggleable__label-arrow\">None</label><div class=\"sk-toggleable__content\"><pre>None</pre></div></div></div><div class=\"sk-item\"><div class=\"sk-estimator sk-toggleable\"><input class=\"sk-toggleable__control sk-hidden--visually\" id=\"sk-estimator-id-3\" type=\"checkbox\" ><label for=\"sk-estimator-id-3\" class=\"sk-toggleable__label sk-toggleable__label-arrow\">LogisticRegression</label><div class=\"sk-toggleable__content\"><pre>LogisticRegression(C=0.1)</pre></div></div></div></div></div></div></div>"
      ],
      "text/plain": [
       "Pipeline(steps=[('scale', None), ('model', LogisticRegression(C=0.1))])"
      ]
     },
     "execution_count": 34,
     "metadata": {},
     "output_type": "execute_result"
    }
   ],
   "source": [
    "model.fit(X_train, y_train.values.ravel())"
   ]
  },
  {
   "cell_type": "code",
   "execution_count": 35,
   "id": "6e15e313",
   "metadata": {
    "execution": {
     "iopub.execute_input": "2025-08-19T18:28:00.250118Z",
     "iopub.status.busy": "2025-08-19T18:28:00.249727Z",
     "iopub.status.idle": "2025-08-19T18:28:00.356718Z",
     "shell.execute_reply": "2025-08-19T18:28:00.355815Z"
    },
    "papermill": {
     "duration": 0.124295,
     "end_time": "2025-08-19T18:28:00.359544",
     "exception": false,
     "start_time": "2025-08-19T18:28:00.235249",
     "status": "completed"
    },
    "tags": []
   },
   "outputs": [
    {
     "data": {
      "text/plain": [
       "0.8595474306097425"
      ]
     },
     "execution_count": 35,
     "metadata": {},
     "output_type": "execute_result"
    }
   ],
   "source": [
    "from fairness_multiverse.universe import predict_w_threshold\n",
    "\n",
    "probs_test = model.predict_proba(X_test)\n",
    "\n",
    "'''\n",
    "Below code returns a boolean array (or binary 0/1 array depending on how it’s used) where each element \n",
    "is True if the probability of class 1 is greater than or equal to the threshold, and False otherwise.\n",
    "'''\n",
    "y_pred_default = predict_w_threshold(probs_test, 0.5)\n",
    "\n",
    "from sklearn.metrics import accuracy_score\n",
    "\n",
    "# Naive prediction\n",
    "accuracy_score(y_true = y_true, y_pred = y_pred_default)"
   ]
  },
  {
   "cell_type": "code",
   "execution_count": 36,
   "id": "6f14067c",
   "metadata": {
    "execution": {
     "iopub.execute_input": "2025-08-19T18:28:00.402313Z",
     "iopub.status.busy": "2025-08-19T18:28:00.401519Z",
     "iopub.status.idle": "2025-08-19T18:28:00.501430Z",
     "shell.execute_reply": "2025-08-19T18:28:00.500618Z"
    },
    "papermill": {
     "duration": 0.118555,
     "end_time": "2025-08-19T18:28:00.504135",
     "exception": false,
     "start_time": "2025-08-19T18:28:00.385580",
     "status": "completed"
    },
    "tags": []
   },
   "outputs": [
    {
     "data": {
      "text/plain": [
       "array([0, 0, 0, ..., 0, 0, 0])"
      ]
     },
     "execution_count": 36,
     "metadata": {},
     "output_type": "execute_result"
    }
   ],
   "source": [
    "model.predict(X_test)"
   ]
  },
  {
   "cell_type": "markdown",
   "id": "3759920c",
   "metadata": {
    "papermill": {
     "duration": 0.164532,
     "end_time": "2025-08-19T18:28:00.692380",
     "exception": false,
     "start_time": "2025-08-19T18:28:00.527848",
     "status": "completed"
    },
    "tags": []
   },
   "source": [
    "# Conformal Prediction"
   ]
  },
  {
   "cell_type": "code",
   "execution_count": 37,
   "id": "14b27f59",
   "metadata": {
    "execution": {
     "iopub.execute_input": "2025-08-19T18:28:00.719012Z",
     "iopub.status.busy": "2025-08-19T18:28:00.718279Z",
     "iopub.status.idle": "2025-08-19T18:28:00.726474Z",
     "shell.execute_reply": "2025-08-19T18:28:00.725259Z"
    },
    "papermill": {
     "duration": 0.025335,
     "end_time": "2025-08-19T18:28:00.729777",
     "exception": false,
     "start_time": "2025-08-19T18:28:00.704442",
     "status": "completed"
    },
    "tags": []
   },
   "outputs": [],
   "source": [
    "# Miscoverage level for conformal prediction (10% allowed error rate => 90% target coverage)\n",
    "alpha = 0.1"
   ]
  },
  {
   "cell_type": "code",
   "execution_count": 38,
   "id": "59102472",
   "metadata": {
    "execution": {
     "iopub.execute_input": "2025-08-19T18:28:00.760734Z",
     "iopub.status.busy": "2025-08-19T18:28:00.760031Z",
     "iopub.status.idle": "2025-08-19T18:28:00.871702Z",
     "shell.execute_reply": "2025-08-19T18:28:00.870118Z"
    },
    "papermill": {
     "duration": 0.13064,
     "end_time": "2025-08-19T18:28:00.875930",
     "exception": false,
     "start_time": "2025-08-19T18:28:00.745290",
     "status": "completed"
    },
    "tags": []
   },
   "outputs": [],
   "source": [
    "probs_calib = model.predict_proba(X_calib)"
   ]
  },
  {
   "cell_type": "code",
   "execution_count": 39,
   "id": "a792d4dd",
   "metadata": {
    "execution": {
     "iopub.execute_input": "2025-08-19T18:28:00.910095Z",
     "iopub.status.busy": "2025-08-19T18:28:00.909785Z",
     "iopub.status.idle": "2025-08-19T18:28:00.915101Z",
     "shell.execute_reply": "2025-08-19T18:28:00.914285Z"
    },
    "papermill": {
     "duration": 0.020859,
     "end_time": "2025-08-19T18:28:00.916436",
     "exception": false,
     "start_time": "2025-08-19T18:28:00.895577",
     "status": "completed"
    },
    "tags": []
   },
   "outputs": [],
   "source": [
    "y_calib = y_calib.values.ravel().astype(int)"
   ]
  },
  {
   "cell_type": "code",
   "execution_count": 40,
   "id": "650fd033",
   "metadata": {
    "execution": {
     "iopub.execute_input": "2025-08-19T18:28:00.947007Z",
     "iopub.status.busy": "2025-08-19T18:28:00.946651Z",
     "iopub.status.idle": "2025-08-19T18:28:00.953089Z",
     "shell.execute_reply": "2025-08-19T18:28:00.952470Z"
    },
    "papermill": {
     "duration": 0.025157,
     "end_time": "2025-08-19T18:28:00.954254",
     "exception": false,
     "start_time": "2025-08-19T18:28:00.929097",
     "status": "completed"
    },
    "tags": []
   },
   "outputs": [],
   "source": [
    "from fairness_multiverse.conformal import compute_nc_scores\n",
    "\n",
    "# Compute nonconformity scores on calibration set (1 - probability of true class)\n",
    "nc_scores = compute_nc_scores(probs_calib, y_calib)"
   ]
  },
  {
   "cell_type": "code",
   "execution_count": 41,
   "id": "28ada44c",
   "metadata": {
    "execution": {
     "iopub.execute_input": "2025-08-19T18:28:00.996532Z",
     "iopub.status.busy": "2025-08-19T18:28:00.996162Z",
     "iopub.status.idle": "2025-08-19T18:28:01.003370Z",
     "shell.execute_reply": "2025-08-19T18:28:01.001825Z"
    },
    "papermill": {
     "duration": 0.036235,
     "end_time": "2025-08-19T18:28:01.006044",
     "exception": false,
     "start_time": "2025-08-19T18:28:00.969809",
     "status": "completed"
    },
    "tags": []
   },
   "outputs": [],
   "source": [
    "from fairness_multiverse.conformal import find_threshold\n",
    "\n",
    "# Find conformal threshold q_hat for the given alpha (split conformal method)\n",
    "q_hat = find_threshold(nc_scores, alpha)"
   ]
  },
  {
   "cell_type": "code",
   "execution_count": 42,
   "id": "df56469e",
   "metadata": {
    "execution": {
     "iopub.execute_input": "2025-08-19T18:28:01.037148Z",
     "iopub.status.busy": "2025-08-19T18:28:01.036602Z",
     "iopub.status.idle": "2025-08-19T18:28:01.049905Z",
     "shell.execute_reply": "2025-08-19T18:28:01.047936Z"
    },
    "papermill": {
     "duration": 0.02833,
     "end_time": "2025-08-19T18:28:01.051510",
     "exception": false,
     "start_time": "2025-08-19T18:28:01.023180",
     "status": "completed"
    },
    "tags": []
   },
   "outputs": [
    {
     "data": {
      "text/plain": [
       "0.6818320222193361"
      ]
     },
     "execution_count": 42,
     "metadata": {},
     "output_type": "execute_result"
    }
   ],
   "source": [
    "q_hat"
   ]
  },
  {
   "cell_type": "code",
   "execution_count": 43,
   "id": "aa1f5faa",
   "metadata": {
    "execution": {
     "iopub.execute_input": "2025-08-19T18:28:01.080761Z",
     "iopub.status.busy": "2025-08-19T18:28:01.080063Z",
     "iopub.status.idle": "2025-08-19T18:28:01.595689Z",
     "shell.execute_reply": "2025-08-19T18:28:01.594500Z"
    },
    "papermill": {
     "duration": 0.529828,
     "end_time": "2025-08-19T18:28:01.597514",
     "exception": false,
     "start_time": "2025-08-19T18:28:01.067686",
     "status": "completed"
    },
    "tags": []
   },
   "outputs": [],
   "source": [
    "from fairness_multiverse.conformal import predict_conformal_sets\n",
    "\n",
    "# Generate prediction sets for each test example\n",
    "pred_sets = predict_conformal_sets(model, X_test, q_hat)"
   ]
  },
  {
   "cell_type": "code",
   "execution_count": 44,
   "id": "97f67a6b",
   "metadata": {
    "execution": {
     "iopub.execute_input": "2025-08-19T18:28:01.625538Z",
     "iopub.status.busy": "2025-08-19T18:28:01.624749Z",
     "iopub.status.idle": "2025-08-19T18:28:01.634517Z",
     "shell.execute_reply": "2025-08-19T18:28:01.633148Z"
    },
    "papermill": {
     "duration": 0.025839,
     "end_time": "2025-08-19T18:28:01.636128",
     "exception": false,
     "start_time": "2025-08-19T18:28:01.610289",
     "status": "completed"
    },
    "tags": []
   },
   "outputs": [],
   "source": [
    "y_true = y_true.squeeze()"
   ]
  },
  {
   "cell_type": "code",
   "execution_count": 45,
   "id": "e700e9a7",
   "metadata": {
    "execution": {
     "iopub.execute_input": "2025-08-19T18:28:01.678551Z",
     "iopub.status.busy": "2025-08-19T18:28:01.678235Z",
     "iopub.status.idle": "2025-08-19T18:28:02.181430Z",
     "shell.execute_reply": "2025-08-19T18:28:02.180528Z"
    },
    "papermill": {
     "duration": 0.533702,
     "end_time": "2025-08-19T18:28:02.183060",
     "exception": false,
     "start_time": "2025-08-19T18:28:01.649358",
     "status": "completed"
    },
    "tags": []
   },
   "outputs": [],
   "source": [
    "from fairness_multiverse.conformal import evaluate_sets\n",
    "\n",
    "# Evaluate coverage and average set size on test data\n",
    "metrics = evaluate_sets(pred_sets, y_true)"
   ]
  },
  {
   "cell_type": "markdown",
   "id": "efbacec0",
   "metadata": {
    "papermill": {
     "duration": 0.011931,
     "end_time": "2025-08-19T18:28:02.207981",
     "exception": false,
     "start_time": "2025-08-19T18:28:02.196050",
     "status": "completed"
    },
    "tags": []
   },
   "source": [
    "# CP Metrics"
   ]
  },
  {
   "cell_type": "code",
   "execution_count": 46,
   "id": "9de55fb1",
   "metadata": {
    "execution": {
     "iopub.execute_input": "2025-08-19T18:28:02.235709Z",
     "iopub.status.busy": "2025-08-19T18:28:02.234404Z",
     "iopub.status.idle": "2025-08-19T18:28:02.249829Z",
     "shell.execute_reply": "2025-08-19T18:28:02.248548Z"
    },
    "papermill": {
     "duration": 0.031774,
     "end_time": "2025-08-19T18:28:02.251544",
     "exception": false,
     "start_time": "2025-08-19T18:28:02.219770",
     "status": "completed"
    },
    "tags": []
   },
   "outputs": [
    {
     "data": {
      "text/plain": [
       "{'coverage': 0.9115929104893545, 'avg_size': 1.1983725337197637}"
      ]
     },
     "execution_count": 46,
     "metadata": {},
     "output_type": "execute_result"
    }
   ],
   "source": [
    "metrics"
   ]
  },
  {
   "cell_type": "code",
   "execution_count": 47,
   "id": "64c340a1",
   "metadata": {
    "execution": {
     "iopub.execute_input": "2025-08-19T18:28:02.286978Z",
     "iopub.status.busy": "2025-08-19T18:28:02.285581Z",
     "iopub.status.idle": "2025-08-19T18:28:02.298774Z",
     "shell.execute_reply": "2025-08-19T18:28:02.297591Z"
    },
    "papermill": {
     "duration": 0.030122,
     "end_time": "2025-08-19T18:28:02.300221",
     "exception": false,
     "start_time": "2025-08-19T18:28:02.270099",
     "status": "completed"
    },
    "tags": []
   },
   "outputs": [],
   "source": [
    "example_universe = universe.copy()\n",
    "universe_training_year = example_universe.get(\"training_year\")\n",
    "universe_training_size = example_universe.get(\"training_size\")\n",
    "universe_scale = example_universe.get(\"scale\")\n",
    "universe_model = example_universe.get(\"model\")\n",
    "universe_exclude_features = example_universe.get(\"exclude_features\")\n",
    "universe_exclude_subgroups = example_universe.get(\"exclude_subgroups\")"
   ]
  },
  {
   "cell_type": "code",
   "execution_count": 48,
   "id": "dbb53cb4",
   "metadata": {
    "execution": {
     "iopub.execute_input": "2025-08-19T18:28:02.354823Z",
     "iopub.status.busy": "2025-08-19T18:28:02.335859Z",
     "iopub.status.idle": "2025-08-19T18:28:02.369826Z",
     "shell.execute_reply": "2025-08-19T18:28:02.368902Z"
    },
    "papermill": {
     "duration": 0.054001,
     "end_time": "2025-08-19T18:28:02.372033",
     "exception": false,
     "start_time": "2025-08-19T18:28:02.318032",
     "status": "completed"
    },
    "tags": []
   },
   "outputs": [],
   "source": [
    "cp_metrics_dict = {\n",
    "    \"universe_id\": [universe_id],\n",
    "    \"universe_training_year\": [universe_training_year],\n",
    "    \"universe_training_size\": [universe_training_size],\n",
    "    \"universe_scale\": [universe_scale],\n",
    "    \"universe_model\": [universe_model],\n",
    "    \"universe_exclude_features\": [universe_exclude_features],\n",
    "    \"universe_exclude_subgroups\": [universe_exclude_subgroups],\n",
    "    \"q_hat\": [q_hat],\n",
    "    \"coverage\": [metrics[\"coverage\"]],\n",
    "    \"avg_size\": [metrics[\"avg_size\"]],\n",
    "}"
   ]
  },
  {
   "cell_type": "code",
   "execution_count": 49,
   "id": "0d70d4b2",
   "metadata": {
    "execution": {
     "iopub.execute_input": "2025-08-19T18:28:02.410782Z",
     "iopub.status.busy": "2025-08-19T18:28:02.410318Z",
     "iopub.status.idle": "2025-08-19T18:28:02.419778Z",
     "shell.execute_reply": "2025-08-19T18:28:02.418629Z"
    },
    "papermill": {
     "duration": 0.026746,
     "end_time": "2025-08-19T18:28:02.421211",
     "exception": false,
     "start_time": "2025-08-19T18:28:02.394465",
     "status": "completed"
    },
    "tags": []
   },
   "outputs": [],
   "source": [
    "cp_metrics_df = pd.DataFrame(cp_metrics_dict)"
   ]
  },
  {
   "cell_type": "code",
   "execution_count": 50,
   "id": "b494403c",
   "metadata": {
    "execution": {
     "iopub.execute_input": "2025-08-19T18:28:02.452584Z",
     "iopub.status.busy": "2025-08-19T18:28:02.451023Z",
     "iopub.status.idle": "2025-08-19T18:28:02.477330Z",
     "shell.execute_reply": "2025-08-19T18:28:02.476521Z"
    },
    "papermill": {
     "duration": 0.042306,
     "end_time": "2025-08-19T18:28:02.479371",
     "exception": false,
     "start_time": "2025-08-19T18:28:02.437065",
     "status": "completed"
    },
    "tags": []
   },
   "outputs": [
    {
     "data": {
      "text/html": [
       "<div>\n",
       "<style scoped>\n",
       "    .dataframe tbody tr th:only-of-type {\n",
       "        vertical-align: middle;\n",
       "    }\n",
       "\n",
       "    .dataframe tbody tr th {\n",
       "        vertical-align: top;\n",
       "    }\n",
       "\n",
       "    .dataframe thead th {\n",
       "        text-align: right;\n",
       "    }\n",
       "</style>\n",
       "<table border=\"1\" class=\"dataframe\">\n",
       "  <thead>\n",
       "    <tr style=\"text-align: right;\">\n",
       "      <th></th>\n",
       "      <th>universe_id</th>\n",
       "      <th>universe_training_year</th>\n",
       "      <th>universe_training_size</th>\n",
       "      <th>universe_scale</th>\n",
       "      <th>universe_model</th>\n",
       "      <th>universe_exclude_features</th>\n",
       "      <th>universe_exclude_subgroups</th>\n",
       "      <th>q_hat</th>\n",
       "      <th>coverage</th>\n",
       "      <th>avg_size</th>\n",
       "    </tr>\n",
       "  </thead>\n",
       "  <tbody>\n",
       "    <tr>\n",
       "      <th>0</th>\n",
       "      <td>876d35cfdafd654037f16ffa9789291b</td>\n",
       "      <td>2014</td>\n",
       "      <td>5k</td>\n",
       "      <td>do-not-scale</td>\n",
       "      <td>penalized_logreg</td>\n",
       "      <td>nationality</td>\n",
       "      <td>keep-all</td>\n",
       "      <td>0.681832</td>\n",
       "      <td>0.911593</td>\n",
       "      <td>1.198373</td>\n",
       "    </tr>\n",
       "  </tbody>\n",
       "</table>\n",
       "</div>"
      ],
      "text/plain": [
       "                        universe_id universe_training_year  \\\n",
       "0  876d35cfdafd654037f16ffa9789291b                   2014   \n",
       "\n",
       "  universe_training_size universe_scale    universe_model  \\\n",
       "0                     5k   do-not-scale  penalized_logreg   \n",
       "\n",
       "  universe_exclude_features universe_exclude_subgroups     q_hat  coverage  \\\n",
       "0               nationality                   keep-all  0.681832  0.911593   \n",
       "\n",
       "   avg_size  \n",
       "0  1.198373  "
      ]
     },
     "execution_count": 50,
     "metadata": {},
     "output_type": "execute_result"
    }
   ],
   "source": [
    "cp_metrics_df"
   ]
  },
  {
   "cell_type": "markdown",
   "id": "ed608b0b",
   "metadata": {
    "papermill": {
     "duration": 0.012889,
     "end_time": "2025-08-19T18:28:02.518622",
     "exception": false,
     "start_time": "2025-08-19T18:28:02.505733",
     "status": "completed"
    },
    "tags": []
   },
   "source": [
    "Conditional coverage & looking at subgroups"
   ]
  },
  {
   "cell_type": "code",
   "execution_count": 51,
   "id": "8968c366",
   "metadata": {
    "execution": {
     "iopub.execute_input": "2025-08-19T18:28:02.545322Z",
     "iopub.status.busy": "2025-08-19T18:28:02.544939Z",
     "iopub.status.idle": "2025-08-19T18:28:02.846833Z",
     "shell.execute_reply": "2025-08-19T18:28:02.845726Z"
    },
    "papermill": {
     "duration": 0.318809,
     "end_time": "2025-08-19T18:28:02.849764",
     "exception": false,
     "start_time": "2025-08-19T18:28:02.530955",
     "status": "completed"
    },
    "tags": []
   },
   "outputs": [],
   "source": [
    "from fairness_multiverse.conformal import build_cp_groups\n",
    "\n",
    "cp_groups_df = build_cp_groups(pred_sets, y_true, X_test.index, org_test)"
   ]
  },
  {
   "cell_type": "code",
   "execution_count": 52,
   "id": "292ddabf",
   "metadata": {
    "execution": {
     "iopub.execute_input": "2025-08-19T18:28:02.920981Z",
     "iopub.status.busy": "2025-08-19T18:28:02.912033Z",
     "iopub.status.idle": "2025-08-19T18:28:03.825854Z",
     "shell.execute_reply": "2025-08-19T18:28:03.824516Z"
    },
    "papermill": {
     "duration": 0.935133,
     "end_time": "2025-08-19T18:28:03.827913",
     "exception": false,
     "start_time": "2025-08-19T18:28:02.892780",
     "status": "completed"
    },
    "tags": []
   },
   "outputs": [],
   "source": [
    "# Define covered = 1 if true_label is in the predicted set\n",
    "cp_groups_df['covered'] = cp_groups_df.apply(\n",
    "    lambda r: int(r['true_label'] in r['pred_set']),\n",
    "    axis=1\n",
    ")"
   ]
  },
  {
   "cell_type": "code",
   "execution_count": 53,
   "id": "3a261692",
   "metadata": {
    "execution": {
     "iopub.execute_input": "2025-08-19T18:28:03.872309Z",
     "iopub.status.busy": "2025-08-19T18:28:03.871914Z",
     "iopub.status.idle": "2025-08-19T18:28:03.892855Z",
     "shell.execute_reply": "2025-08-19T18:28:03.884030Z"
    },
    "papermill": {
     "duration": 0.049255,
     "end_time": "2025-08-19T18:28:03.895560",
     "exception": false,
     "start_time": "2025-08-19T18:28:03.846305",
     "status": "completed"
    },
    "tags": []
   },
   "outputs": [],
   "source": [
    "subgroups = ['frau1','nongerman','nongerman_male','nongerman_female']\n",
    "\n",
    "# Conditional coverage for subgroup==1\n",
    "cond_coverage = {\n",
    "    g: cp_groups_df.loc[cp_groups_df[g]==1, 'covered'].mean()\n",
    "    for g in subgroups\n",
    "}"
   ]
  },
  {
   "cell_type": "code",
   "execution_count": 54,
   "id": "894fd600",
   "metadata": {
    "execution": {
     "iopub.execute_input": "2025-08-19T18:28:03.940179Z",
     "iopub.status.busy": "2025-08-19T18:28:03.938850Z",
     "iopub.status.idle": "2025-08-19T18:28:03.951952Z",
     "shell.execute_reply": "2025-08-19T18:28:03.950281Z"
    },
    "papermill": {
     "duration": 0.030687,
     "end_time": "2025-08-19T18:28:03.953717",
     "exception": false,
     "start_time": "2025-08-19T18:28:03.923030",
     "status": "completed"
    },
    "tags": []
   },
   "outputs": [
    {
     "data": {
      "text/plain": [
       "{'frau1': 0.9088825987329828,\n",
       " 'nongerman': 0.9252231516308315,\n",
       " 'nongerman_male': 0.9411870665585877,\n",
       " 'nongerman_female': 0.8988077496274217}"
      ]
     },
     "execution_count": 54,
     "metadata": {},
     "output_type": "execute_result"
    }
   ],
   "source": [
    "cond_coverage"
   ]
  },
  {
   "cell_type": "code",
   "execution_count": 55,
   "id": "942895c7",
   "metadata": {
    "execution": {
     "iopub.execute_input": "2025-08-19T18:28:03.985966Z",
     "iopub.status.busy": "2025-08-19T18:28:03.984667Z",
     "iopub.status.idle": "2025-08-19T18:28:03.996834Z",
     "shell.execute_reply": "2025-08-19T18:28:03.995455Z"
    },
    "papermill": {
     "duration": 0.029246,
     "end_time": "2025-08-19T18:28:03.999105",
     "exception": false,
     "start_time": "2025-08-19T18:28:03.969859",
     "status": "completed"
    },
    "tags": []
   },
   "outputs": [],
   "source": [
    "for subgroup, cov in cond_coverage.items():\n",
    "    cp_metrics_df[f\"cov_{subgroup}\"] = cov"
   ]
  },
  {
   "cell_type": "code",
   "execution_count": 56,
   "id": "3970120f",
   "metadata": {
    "execution": {
     "iopub.execute_input": "2025-08-19T18:28:04.041540Z",
     "iopub.status.busy": "2025-08-19T18:28:04.034732Z",
     "iopub.status.idle": "2025-08-19T18:28:04.060564Z",
     "shell.execute_reply": "2025-08-19T18:28:04.059671Z"
    },
    "papermill": {
     "duration": 0.043536,
     "end_time": "2025-08-19T18:28:04.062943",
     "exception": false,
     "start_time": "2025-08-19T18:28:04.019407",
     "status": "completed"
    },
    "tags": []
   },
   "outputs": [
    {
     "data": {
      "text/html": [
       "<div>\n",
       "<style scoped>\n",
       "    .dataframe tbody tr th:only-of-type {\n",
       "        vertical-align: middle;\n",
       "    }\n",
       "\n",
       "    .dataframe tbody tr th {\n",
       "        vertical-align: top;\n",
       "    }\n",
       "\n",
       "    .dataframe thead th {\n",
       "        text-align: right;\n",
       "    }\n",
       "</style>\n",
       "<table border=\"1\" class=\"dataframe\">\n",
       "  <thead>\n",
       "    <tr style=\"text-align: right;\">\n",
       "      <th></th>\n",
       "      <th>universe_id</th>\n",
       "      <th>universe_training_year</th>\n",
       "      <th>universe_training_size</th>\n",
       "      <th>universe_scale</th>\n",
       "      <th>universe_model</th>\n",
       "      <th>universe_exclude_features</th>\n",
       "      <th>universe_exclude_subgroups</th>\n",
       "      <th>q_hat</th>\n",
       "      <th>coverage</th>\n",
       "      <th>avg_size</th>\n",
       "      <th>cov_frau1</th>\n",
       "      <th>cov_nongerman</th>\n",
       "      <th>cov_nongerman_male</th>\n",
       "      <th>cov_nongerman_female</th>\n",
       "    </tr>\n",
       "  </thead>\n",
       "  <tbody>\n",
       "    <tr>\n",
       "      <th>0</th>\n",
       "      <td>876d35cfdafd654037f16ffa9789291b</td>\n",
       "      <td>2014</td>\n",
       "      <td>5k</td>\n",
       "      <td>do-not-scale</td>\n",
       "      <td>penalized_logreg</td>\n",
       "      <td>nationality</td>\n",
       "      <td>keep-all</td>\n",
       "      <td>0.681832</td>\n",
       "      <td>0.911593</td>\n",
       "      <td>1.198373</td>\n",
       "      <td>0.908883</td>\n",
       "      <td>0.925223</td>\n",
       "      <td>0.941187</td>\n",
       "      <td>0.898808</td>\n",
       "    </tr>\n",
       "  </tbody>\n",
       "</table>\n",
       "</div>"
      ],
      "text/plain": [
       "                        universe_id universe_training_year  \\\n",
       "0  876d35cfdafd654037f16ffa9789291b                   2014   \n",
       "\n",
       "  universe_training_size universe_scale    universe_model  \\\n",
       "0                     5k   do-not-scale  penalized_logreg   \n",
       "\n",
       "  universe_exclude_features universe_exclude_subgroups     q_hat  coverage  \\\n",
       "0               nationality                   keep-all  0.681832  0.911593   \n",
       "\n",
       "   avg_size  cov_frau1  cov_nongerman  cov_nongerman_male  \\\n",
       "0  1.198373   0.908883       0.925223            0.941187   \n",
       "\n",
       "   cov_nongerman_female  \n",
       "0              0.898808  "
      ]
     },
     "execution_count": 56,
     "metadata": {},
     "output_type": "execute_result"
    }
   ],
   "source": [
    "cp_metrics_df"
   ]
  },
  {
   "cell_type": "markdown",
   "id": "3fc519cc",
   "metadata": {
    "papermill": {
     "duration": 0.013808,
     "end_time": "2025-08-19T18:28:04.094436",
     "exception": false,
     "start_time": "2025-08-19T18:28:04.080628",
     "status": "completed"
    },
    "tags": []
   },
   "source": [
    "# (Fairness) Metrics"
   ]
  },
  {
   "cell_type": "code",
   "execution_count": 57,
   "id": "a2e5e155",
   "metadata": {
    "execution": {
     "iopub.execute_input": "2025-08-19T18:28:04.126235Z",
     "iopub.status.busy": "2025-08-19T18:28:04.125526Z",
     "iopub.status.idle": "2025-08-19T18:28:04.154645Z",
     "shell.execute_reply": "2025-08-19T18:28:04.153760Z"
    },
    "papermill": {
     "duration": 0.048841,
     "end_time": "2025-08-19T18:28:04.156595",
     "exception": false,
     "start_time": "2025-08-19T18:28:04.107754",
     "status": "completed"
    },
    "tags": []
   },
   "outputs": [],
   "source": [
    "colname_to_bin = \"maxdeutsch1\"\n",
    "majority_value = org_train[colname_to_bin].mode()[0]\n",
    "\n",
    "org_test[\"majmin\"] = np.where(org_test[colname_to_bin] == majority_value, \"majority\", \"minority\")"
   ]
  },
  {
   "cell_type": "code",
   "execution_count": 58,
   "id": "17e3e4d5",
   "metadata": {
    "execution": {
     "iopub.execute_input": "2025-08-19T18:28:04.189860Z",
     "iopub.status.busy": "2025-08-19T18:28:04.189462Z",
     "iopub.status.idle": "2025-08-19T18:28:06.049588Z",
     "shell.execute_reply": "2025-08-19T18:28:06.048432Z"
    },
    "papermill": {
     "duration": 1.879848,
     "end_time": "2025-08-19T18:28:06.051561",
     "exception": false,
     "start_time": "2025-08-19T18:28:04.171713",
     "status": "completed"
    },
    "tags": []
   },
   "outputs": [],
   "source": [
    "example_universe = universe.copy()\n",
    "example_universe[\"cutoff\"] = example_universe[\"cutoff\"][0]\n",
    "example_universe[\"eval_fairness_grouping\"] = example_universe[\"eval_fairness_grouping\"][0]\n",
    "fairness_dict, metric_frame = universe_analysis.compute_metrics(\n",
    "    example_universe,\n",
    "    y_pred_prob=probs_test,\n",
    "    y_test=y_true,\n",
    "    org_test=org_test,\n",
    ")"
   ]
  },
  {
   "cell_type": "markdown",
   "id": "1fb7a0e9",
   "metadata": {
    "papermill": {
     "duration": 0.029761,
     "end_time": "2025-08-19T18:28:06.105780",
     "exception": false,
     "start_time": "2025-08-19T18:28:06.076019",
     "status": "completed"
    },
    "tags": []
   },
   "source": [
    "# Overall"
   ]
  },
  {
   "cell_type": "markdown",
   "id": "be1784b1",
   "metadata": {
    "papermill": {
     "duration": 0.013186,
     "end_time": "2025-08-19T18:28:06.132169",
     "exception": false,
     "start_time": "2025-08-19T18:28:06.118983",
     "status": "completed"
    },
    "tags": []
   },
   "source": [
    "Main fairness target: Equalized Odds. Seems to be a better fit than equal opportunity, since we're not only interested in Y = 1. Seems to be a better fit than demographic parity, since we also care about accuracy, not just equal distribution of preds.\n",
    "\n",
    "Pick column for computation of fairness metrics\n",
    "\n",
    "Performance\n",
    "Overall performance measures, most interesting in relation to the measures split by group below"
   ]
  },
  {
   "cell_type": "code",
   "execution_count": 59,
   "id": "b7672bee",
   "metadata": {
    "execution": {
     "iopub.execute_input": "2025-08-19T18:28:06.163791Z",
     "iopub.status.busy": "2025-08-19T18:28:06.162042Z",
     "iopub.status.idle": "2025-08-19T18:28:06.176956Z",
     "shell.execute_reply": "2025-08-19T18:28:06.175960Z"
    },
    "papermill": {
     "duration": 0.033365,
     "end_time": "2025-08-19T18:28:06.178583",
     "exception": false,
     "start_time": "2025-08-19T18:28:06.145218",
     "status": "completed"
    },
    "tags": []
   },
   "outputs": [
    {
     "data": {
      "text/plain": [
       "accuracy                   0.216709\n",
       "balanced accuracy          0.531490\n",
       "f1                         0.238252\n",
       "precision                  0.136105\n",
       "false positive rate        0.891921\n",
       "false negative rate        0.045099\n",
       "selection rate             0.900000\n",
       "count                  89710.000000\n",
       "dtype: float64"
      ]
     },
     "execution_count": 59,
     "metadata": {},
     "output_type": "execute_result"
    }
   ],
   "source": [
    "metric_frame.overall"
   ]
  },
  {
   "cell_type": "markdown",
   "id": "d93333c9",
   "metadata": {
    "papermill": {
     "duration": 0.012996,
     "end_time": "2025-08-19T18:28:06.211280",
     "exception": false,
     "start_time": "2025-08-19T18:28:06.198284",
     "status": "completed"
    },
    "tags": []
   },
   "source": [
    "By Group"
   ]
  },
  {
   "cell_type": "code",
   "execution_count": 60,
   "id": "52256966",
   "metadata": {
    "execution": {
     "iopub.execute_input": "2025-08-19T18:28:06.255481Z",
     "iopub.status.busy": "2025-08-19T18:28:06.255051Z",
     "iopub.status.idle": "2025-08-19T18:28:06.278716Z",
     "shell.execute_reply": "2025-08-19T18:28:06.276448Z"
    },
    "papermill": {
     "duration": 0.054334,
     "end_time": "2025-08-19T18:28:06.280267",
     "exception": false,
     "start_time": "2025-08-19T18:28:06.225933",
     "status": "completed"
    },
    "tags": []
   },
   "outputs": [
    {
     "data": {
      "text/html": [
       "<div>\n",
       "<style scoped>\n",
       "    .dataframe tbody tr th:only-of-type {\n",
       "        vertical-align: middle;\n",
       "    }\n",
       "\n",
       "    .dataframe tbody tr th {\n",
       "        vertical-align: top;\n",
       "    }\n",
       "\n",
       "    .dataframe thead th {\n",
       "        text-align: right;\n",
       "    }\n",
       "</style>\n",
       "<table border=\"1\" class=\"dataframe\">\n",
       "  <thead>\n",
       "    <tr style=\"text-align: right;\">\n",
       "      <th></th>\n",
       "      <th>accuracy</th>\n",
       "      <th>balanced accuracy</th>\n",
       "      <th>f1</th>\n",
       "      <th>precision</th>\n",
       "      <th>false positive rate</th>\n",
       "      <th>false negative rate</th>\n",
       "      <th>selection rate</th>\n",
       "      <th>count</th>\n",
       "    </tr>\n",
       "    <tr>\n",
       "      <th>majmin</th>\n",
       "      <th></th>\n",
       "      <th></th>\n",
       "      <th></th>\n",
       "      <th></th>\n",
       "      <th></th>\n",
       "      <th></th>\n",
       "      <th></th>\n",
       "      <th></th>\n",
       "    </tr>\n",
       "  </thead>\n",
       "  <tbody>\n",
       "    <tr>\n",
       "      <th>majority</th>\n",
       "      <td>0.238311</td>\n",
       "      <td>0.538724</td>\n",
       "      <td>0.247321</td>\n",
       "      <td>0.142233</td>\n",
       "      <td>0.869599</td>\n",
       "      <td>0.052954</td>\n",
       "      <td>0.879832</td>\n",
       "      <td>69170.0</td>\n",
       "    </tr>\n",
       "    <tr>\n",
       "      <th>minority</th>\n",
       "      <td>0.143963</td>\n",
       "      <td>0.509779</td>\n",
       "      <td>0.209717</td>\n",
       "      <td>0.117348</td>\n",
       "      <td>0.965661</td>\n",
       "      <td>0.014780</td>\n",
       "      <td>0.967916</td>\n",
       "      <td>20540.0</td>\n",
       "    </tr>\n",
       "  </tbody>\n",
       "</table>\n",
       "</div>"
      ],
      "text/plain": [
       "          accuracy  balanced accuracy        f1  precision  \\\n",
       "majmin                                                       \n",
       "majority  0.238311           0.538724  0.247321   0.142233   \n",
       "minority  0.143963           0.509779  0.209717   0.117348   \n",
       "\n",
       "          false positive rate  false negative rate  selection rate    count  \n",
       "majmin                                                                       \n",
       "majority             0.869599             0.052954        0.879832  69170.0  \n",
       "minority             0.965661             0.014780        0.967916  20540.0  "
      ]
     },
     "execution_count": 60,
     "metadata": {},
     "output_type": "execute_result"
    }
   ],
   "source": [
    "metric_frame.by_group"
   ]
  },
  {
   "cell_type": "code",
   "execution_count": 61,
   "id": "6e6c20ae",
   "metadata": {
    "execution": {
     "iopub.execute_input": "2025-08-19T18:28:06.318780Z",
     "iopub.status.busy": "2025-08-19T18:28:06.318269Z",
     "iopub.status.idle": "2025-08-19T18:28:08.234305Z",
     "shell.execute_reply": "2025-08-19T18:28:08.233406Z"
    },
    "papermill": {
     "duration": 1.936707,
     "end_time": "2025-08-19T18:28:08.235636",
     "exception": false,
     "start_time": "2025-08-19T18:28:06.298929",
     "status": "completed"
    },
    "tags": []
   },
   "outputs": [
    {
     "data": {
      "text/plain": [
       "array([[<Axes: title={'center': 'accuracy'}, xlabel='majmin'>,\n",
       "        <Axes: title={'center': 'balanced accuracy'}, xlabel='majmin'>,\n",
       "        <Axes: title={'center': 'f1'}, xlabel='majmin'>],\n",
       "       [<Axes: title={'center': 'precision'}, xlabel='majmin'>,\n",
       "        <Axes: title={'center': 'false positive rate'}, xlabel='majmin'>,\n",
       "        <Axes: title={'center': 'false negative rate'}, xlabel='majmin'>],\n",
       "       [<Axes: title={'center': 'selection rate'}, xlabel='majmin'>,\n",
       "        <Axes: title={'center': 'count'}, xlabel='majmin'>,\n",
       "        <Axes: xlabel='majmin'>]], dtype=object)"
      ]
     },
     "execution_count": 61,
     "metadata": {},
     "output_type": "execute_result"
    },
    {
     "data": {
      "image/png": "[encoded data removed]",
      "text/plain": [
       "<Figure size 1200x800 with 9 Axes>"
      ]
     },
     "metadata": {},
     "output_type": "display_data"
    }
   ],
   "source": [
    "# In a graphic\n",
    "metric_frame.by_group.plot.bar(\n",
    "    subplots=True,\n",
    "    layout=[3, 3],\n",
    "    legend=False,\n",
    "    figsize=[12, 8],\n",
    "    title=\"Show all metrics\",\n",
    ")"
   ]
  },
  {
   "cell_type": "markdown",
   "id": "b2e433ae",
   "metadata": {
    "papermill": {
     "duration": 0.017357,
     "end_time": "2025-08-19T18:28:08.271990",
     "exception": false,
     "start_time": "2025-08-19T18:28:08.254633",
     "status": "completed"
    },
    "tags": []
   },
   "source": [
    "# Final Output"
   ]
  },
  {
   "cell_type": "code",
   "execution_count": 62,
   "id": "3871301e",
   "metadata": {
    "execution": {
     "iopub.execute_input": "2025-08-19T18:28:08.302294Z",
     "iopub.status.busy": "2025-08-19T18:28:08.301420Z",
     "iopub.status.idle": "2025-08-19T18:28:08.311134Z",
     "shell.execute_reply": "2025-08-19T18:28:08.310485Z"
    },
    "papermill": {
     "duration": 0.026175,
     "end_time": "2025-08-19T18:28:08.312288",
     "exception": false,
     "start_time": "2025-08-19T18:28:08.286113",
     "status": "completed"
    },
    "tags": []
   },
   "outputs": [
    {
     "data": {
      "text/plain": [
       "4"
      ]
     },
     "execution_count": 62,
     "metadata": {},
     "output_type": "execute_result"
    }
   ],
   "source": [
    "sub_universes = universe_analysis.generate_sub_universes()\n",
    "len(sub_universes)"
   ]
  },
  {
   "cell_type": "code",
   "execution_count": 63,
   "id": "d9cfdaca",
   "metadata": {
    "execution": {
     "iopub.execute_input": "2025-08-19T18:28:08.363454Z",
     "iopub.status.busy": "2025-08-19T18:28:08.362264Z",
     "iopub.status.idle": "2025-08-19T18:28:08.398082Z",
     "shell.execute_reply": "2025-08-19T18:28:08.396590Z"
    },
    "papermill": {
     "duration": 0.055876,
     "end_time": "2025-08-19T18:28:08.400906",
     "exception": false,
     "start_time": "2025-08-19T18:28:08.345030",
     "status": "completed"
    },
    "tags": []
   },
   "outputs": [],
   "source": [
    "def filter_sub_universe_data(sub_universe, org_test):\n",
    "    # Keep all rows — no filtering\n",
    "    keep_rows_mask = np.ones(org_test.shape[0], dtype=bool)\n",
    "\n",
    "    print(f\"[INFO] Keeping all rows: {keep_rows_mask.sum()} rows retained.\")\n",
    "    return keep_rows_mask"
   ]
  },
  {
   "cell_type": "code",
   "execution_count": 64,
   "id": "2bc31ac1",
   "metadata": {
    "execution": {
     "iopub.execute_input": "2025-08-19T18:28:08.452338Z",
     "iopub.status.busy": "2025-08-19T18:28:08.450678Z",
     "iopub.status.idle": "2025-08-19T18:28:15.438193Z",
     "shell.execute_reply": "2025-08-19T18:28:15.437212Z"
    },
    "papermill": {
     "duration": 7.007423,
     "end_time": "2025-08-19T18:28:15.439502",
     "exception": false,
     "start_time": "2025-08-19T18:28:08.432079",
     "status": "completed"
    },
    "tags": []
   },
   "outputs": [
    {
     "name": "stdout",
     "output_type": "stream",
     "text": [
      "Stopping execution_time clock.\n",
      "[INFO] Keeping all rows: 89710 rows retained.\n"
     ]
    },
    {
     "name": "stdout",
     "output_type": "stream",
     "text": [
      "[INFO] Keeping all rows: 89710 rows retained.\n"
     ]
    },
    {
     "name": "stdout",
     "output_type": "stream",
     "text": [
      "[INFO] Keeping all rows: 89710 rows retained.\n"
     ]
    },
    {
     "name": "stdout",
     "output_type": "stream",
     "text": [
      "[INFO] Keeping all rows: 89710 rows retained.\n"
     ]
    },
    {
     "data": {
      "text/html": [
       "<div>\n",
       "<style scoped>\n",
       "    .dataframe tbody tr th:only-of-type {\n",
       "        vertical-align: middle;\n",
       "    }\n",
       "\n",
       "    .dataframe tbody tr th {\n",
       "        vertical-align: top;\n",
       "    }\n",
       "\n",
       "    .dataframe thead th {\n",
       "        text-align: right;\n",
       "    }\n",
       "</style>\n",
       "<table border=\"1\" class=\"dataframe\">\n",
       "  <thead>\n",
       "    <tr style=\"text-align: right;\">\n",
       "      <th></th>\n",
       "      <th>run_no</th>\n",
       "      <th>universe_id</th>\n",
       "      <th>universe_settings</th>\n",
       "      <th>execution_time</th>\n",
       "      <th>test_size_n</th>\n",
       "      <th>test_size_frac</th>\n",
       "      <th>fair_main_equalized_odds_difference</th>\n",
       "      <th>fair_main_equalized_odds_ratio</th>\n",
       "      <th>fair_main_demographic_parity_difference</th>\n",
       "      <th>fair_main_demographic_parity_ratio</th>\n",
       "      <th>...</th>\n",
       "      <th>perf_grp_precision_0</th>\n",
       "      <th>perf_grp_precision_1</th>\n",
       "      <th>perf_grp_false positive rate_0</th>\n",
       "      <th>perf_grp_false positive rate_1</th>\n",
       "      <th>perf_grp_false negative rate_0</th>\n",
       "      <th>perf_grp_false negative rate_1</th>\n",
       "      <th>perf_grp_selection rate_0</th>\n",
       "      <th>perf_grp_selection rate_1</th>\n",
       "      <th>perf_grp_count_0</th>\n",
       "      <th>perf_grp_count_1</th>\n",
       "    </tr>\n",
       "  </thead>\n",
       "  <tbody>\n",
       "    <tr>\n",
       "      <th>0</th>\n",
       "      <td>3</td>\n",
       "      <td>876d35cfdafd654037f16ffa9789291b</td>\n",
       "      <td>{\"cutoff\": \"quantile_0.1\", \"eval_fairness_grou...</td>\n",
       "      <td>21.005605</td>\n",
       "      <td>89710</td>\n",
       "      <td>1.0</td>\n",
       "      <td>0.096063</td>\n",
       "      <td>0.900521</td>\n",
       "      <td>0.088084</td>\n",
       "      <td>0.908996</td>\n",
       "      <td>...</td>\n",
       "      <td>NaN</td>\n",
       "      <td>NaN</td>\n",
       "      <td>NaN</td>\n",
       "      <td>NaN</td>\n",
       "      <td>NaN</td>\n",
       "      <td>NaN</td>\n",
       "      <td>NaN</td>\n",
       "      <td>NaN</td>\n",
       "      <td>NaN</td>\n",
       "      <td>NaN</td>\n",
       "    </tr>\n",
       "    <tr>\n",
       "      <th>0</th>\n",
       "      <td>3</td>\n",
       "      <td>876d35cfdafd654037f16ffa9789291b</td>\n",
       "      <td>{\"cutoff\": \"quantile_0.1\", \"eval_fairness_grou...</td>\n",
       "      <td>21.005605</td>\n",
       "      <td>89710</td>\n",
       "      <td>1.0</td>\n",
       "      <td>0.096063</td>\n",
       "      <td>0.900521</td>\n",
       "      <td>0.088084</td>\n",
       "      <td>0.908996</td>\n",
       "      <td>...</td>\n",
       "      <td>0.117348</td>\n",
       "      <td>0.142233</td>\n",
       "      <td>0.965661</td>\n",
       "      <td>0.869599</td>\n",
       "      <td>0.014780</td>\n",
       "      <td>0.052954</td>\n",
       "      <td>0.967916</td>\n",
       "      <td>0.879832</td>\n",
       "      <td>20540.0</td>\n",
       "      <td>69170.0</td>\n",
       "    </tr>\n",
       "    <tr>\n",
       "      <th>0</th>\n",
       "      <td>3</td>\n",
       "      <td>876d35cfdafd654037f16ffa9789291b</td>\n",
       "      <td>{\"cutoff\": \"quantile_0.25\", \"eval_fairness_gro...</td>\n",
       "      <td>21.005605</td>\n",
       "      <td>89710</td>\n",
       "      <td>1.0</td>\n",
       "      <td>0.207763</td>\n",
       "      <td>0.766442</td>\n",
       "      <td>0.190572</td>\n",
       "      <td>0.787530</td>\n",
       "      <td>...</td>\n",
       "      <td>NaN</td>\n",
       "      <td>NaN</td>\n",
       "      <td>NaN</td>\n",
       "      <td>NaN</td>\n",
       "      <td>NaN</td>\n",
       "      <td>NaN</td>\n",
       "      <td>NaN</td>\n",
       "      <td>NaN</td>\n",
       "      <td>NaN</td>\n",
       "      <td>NaN</td>\n",
       "    </tr>\n",
       "    <tr>\n",
       "      <th>0</th>\n",
       "      <td>3</td>\n",
       "      <td>876d35cfdafd654037f16ffa9789291b</td>\n",
       "      <td>{\"cutoff\": \"quantile_0.25\", \"eval_fairness_gro...</td>\n",
       "      <td>21.005605</td>\n",
       "      <td>89710</td>\n",
       "      <td>1.0</td>\n",
       "      <td>0.207763</td>\n",
       "      <td>0.766442</td>\n",
       "      <td>0.190572</td>\n",
       "      <td>0.787530</td>\n",
       "      <td>...</td>\n",
       "      <td>0.122564</td>\n",
       "      <td>0.162324</td>\n",
       "      <td>0.889555</td>\n",
       "      <td>0.681792</td>\n",
       "      <td>0.046453</td>\n",
       "      <td>0.132276</td>\n",
       "      <td>0.896933</td>\n",
       "      <td>0.706361</td>\n",
       "      <td>20540.0</td>\n",
       "      <td>69170.0</td>\n",
       "    </tr>\n",
       "  </tbody>\n",
       "</table>\n",
       "<p>4 rows × 50 columns</p>\n",
       "</div>"
      ],
      "text/plain": [
       "  run_no                       universe_id  \\\n",
       "0      3  876d35cfdafd654037f16ffa9789291b   \n",
       "0      3  876d35cfdafd654037f16ffa9789291b   \n",
       "0      3  876d35cfdafd654037f16ffa9789291b   \n",
       "0      3  876d35cfdafd654037f16ffa9789291b   \n",
       "\n",
       "                                   universe_settings  execution_time  \\\n",
       "0  {\"cutoff\": \"quantile_0.1\", \"eval_fairness_grou...       21.005605   \n",
       "0  {\"cutoff\": \"quantile_0.1\", \"eval_fairness_grou...       21.005605   \n",
       "0  {\"cutoff\": \"quantile_0.25\", \"eval_fairness_gro...       21.005605   \n",
       "0  {\"cutoff\": \"quantile_0.25\", \"eval_fairness_gro...       21.005605   \n",
       "\n",
       "   test_size_n  test_size_frac  fair_main_equalized_odds_difference  \\\n",
       "0        89710             1.0                             0.096063   \n",
       "0        89710             1.0                             0.096063   \n",
       "0        89710             1.0                             0.207763   \n",
       "0        89710             1.0                             0.207763   \n",
       "\n",
       "   fair_main_equalized_odds_ratio  fair_main_demographic_parity_difference  \\\n",
       "0                        0.900521                                 0.088084   \n",
       "0                        0.900521                                 0.088084   \n",
       "0                        0.766442                                 0.190572   \n",
       "0                        0.766442                                 0.190572   \n",
       "\n",
       "   fair_main_demographic_parity_ratio  ...  perf_grp_precision_0  \\\n",
       "0                            0.908996  ...                   NaN   \n",
       "0                            0.908996  ...              0.117348   \n",
       "0                            0.787530  ...                   NaN   \n",
       "0                            0.787530  ...              0.122564   \n",
       "\n",
       "   perf_grp_precision_1  perf_grp_false positive rate_0  \\\n",
       "0                   NaN                             NaN   \n",
       "0              0.142233                        0.965661   \n",
       "0                   NaN                             NaN   \n",
       "0              0.162324                        0.889555   \n",
       "\n",
       "   perf_grp_false positive rate_1  perf_grp_false negative rate_0  \\\n",
       "0                             NaN                             NaN   \n",
       "0                        0.869599                        0.014780   \n",
       "0                             NaN                             NaN   \n",
       "0                        0.681792                        0.046453   \n",
       "\n",
       "   perf_grp_false negative rate_1  perf_grp_selection rate_0  \\\n",
       "0                             NaN                        NaN   \n",
       "0                        0.052954                   0.967916   \n",
       "0                             NaN                        NaN   \n",
       "0                        0.132276                   0.896933   \n",
       "\n",
       "   perf_grp_selection rate_1  perf_grp_count_0  perf_grp_count_1  \n",
       "0                        NaN               NaN               NaN  \n",
       "0                   0.879832           20540.0           69170.0  \n",
       "0                        NaN               NaN               NaN  \n",
       "0                   0.706361           20540.0           69170.0  \n",
       "\n",
       "[4 rows x 50 columns]"
      ]
     },
     "execution_count": 64,
     "metadata": {},
     "output_type": "execute_result"
    }
   ],
   "source": [
    "final_output = universe_analysis.generate_final_output(\n",
    "    y_pred_prob=probs_test,\n",
    "    y_test=y_true,\n",
    "    org_test=org_test,\n",
    "    filter_data=filter_sub_universe_data,\n",
    "    cp_metrics_df=cp_metrics_df,\n",
    "    save=True,\n",
    ")\n",
    "final_output"
   ]
  },
  {
   "cell_type": "code",
   "execution_count": null,
   "id": "8b80a1ff",
   "metadata": {
    "papermill": {
     "duration": 0.014959,
     "end_time": "2025-08-19T18:28:15.472760",
     "exception": false,
     "start_time": "2025-08-19T18:28:15.457801",
     "status": "completed"
    },
    "tags": []
   },
   "outputs": [],
   "source": []
  },
  {
   "cell_type": "code",
   "execution_count": null,
   "id": "275c9fad",
   "metadata": {
    "papermill": {
     "duration": 0.014224,
     "end_time": "2025-08-19T18:28:15.501480",
     "exception": false,
     "start_time": "2025-08-19T18:28:15.487256",
     "status": "completed"
    },
    "tags": []
   },
   "outputs": [],
   "source": []
  }
 ],
 "metadata": {
  "celltoolbar": "Tags",
  "kernelspec": {
   "display_name": "Python (CMA Fairness)",
   "language": "python",
   "name": "cma_fair_env"
  },
  "language_info": {
   "codemirror_mode": {
    "name": "ipython",
    "version": 3
   },
   "file_extension": ".py",
   "mimetype": "text/x-python",
   "name": "python",
   "nbconvert_exporter": "python",
   "pygments_lexer": "ipython3",
   "version": "3.10.12"
  },
  "papermill": {
   "default_parameters": {},
   "duration": 32.132872,
   "end_time": "2025-08-19T18:28:16.637474",
   "environment_variables": {},
   "exception": null,
   "input_path": "universe_analysis.ipynb",
   "output_path": "output/runs/3/notebooks/m_3-876d35cfdafd654037f16ffa9789291b.ipynb",
   "parameters": {
    "output_dir": "output",
    "run_no": "3",
    "seed": "2023",
    "universe": "{\"cutoff\": [\"quantile_0.1\", \"quantile_0.25\"], \"eval_fairness_grouping\": [\"majority-minority\", \"nationality-all\"], \"exclude_features\": \"nationality\", \"exclude_subgroups\": \"keep-all\", \"model\": \"penalized_logreg\", \"scale\": \"do-not-scale\", \"training_size\": \"5k\", \"training_year\": \"2014\"}",
    "universe_id": "876d35cfdafd654037f16ffa9789291b"
   },
   "start_time": "2025-08-19T18:27:44.504602",
   "version": "2.6.0"
  }
 },
 "nbformat": 4,
 "nbformat_minor": 5
}