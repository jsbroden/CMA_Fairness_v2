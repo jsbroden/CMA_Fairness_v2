{
 "cells": [
  {
   "cell_type": "markdown",
   "id": "ef23dbb3",
   "metadata": {
    "papermill": {
     "duration": 0.013664,
     "end_time": "2025-08-19T19:03:03.249789",
     "exception": false,
     "start_time": "2025-08-19T19:03:03.236125",
     "status": "completed"
    },
    "tags": []
   },
   "source": [
    "# Setup"
   ]
  },
  {
   "cell_type": "code",
   "execution_count": 1,
   "id": "0bc8e7dc",
   "metadata": {
    "execution": {
     "iopub.execute_input": "2025-08-19T19:03:03.286796Z",
     "iopub.status.busy": "2025-08-19T19:03:03.285902Z",
     "iopub.status.idle": "2025-08-19T19:03:03.306403Z",
     "shell.execute_reply": "2025-08-19T19:03:03.305312Z"
    },
    "papermill": {
     "duration": 0.036611,
     "end_time": "2025-08-19T19:03:03.308381",
     "exception": false,
     "start_time": "2025-08-19T19:03:03.271770",
     "status": "completed"
    },
    "tags": []
   },
   "outputs": [
    {
     "name": "stdout",
     "output_type": "stream",
     "text": [
      "/dss/dsshome1/0C/ra93lal2/cma/CMA_Fairness_v2\n"
     ]
    },
    {
     "name": "stderr",
     "output_type": "stream",
     "text": [
      "/dss/dsshome1/0C/ra93lal2/.local/share/virtualenvs/CMA_Fairness_v2-3j10GkSs/lib/python3.10/site-packages/IPython/core/magics/osm.py:393: UserWarning: This is now an optional IPython functionality, using bookmarks requires you to install the `pickleshare` library.\n",
      "  bkms = self.shell.db.get('bookmarks', {})\n",
      "/dss/dsshome1/0C/ra93lal2/.local/share/virtualenvs/CMA_Fairness_v2-3j10GkSs/lib/python3.10/site-packages/IPython/core/magics/osm.py:417: UserWarning: This is now an optional IPython functionality, setting dhist requires you to install the `pickleshare` library.\n",
      "  self.shell.db['dhist'] = compress_dhist(dhist)[-100:]\n"
     ]
    }
   ],
   "source": [
    "%cd ~/cma/CMA_Fairness_v2"
   ]
  },
  {
   "cell_type": "markdown",
   "id": "9d235661",
   "metadata": {
    "papermill": {
     "duration": 0.009275,
     "end_time": "2025-08-19T19:03:03.332008",
     "exception": false,
     "start_time": "2025-08-19T19:03:03.322733",
     "status": "completed"
    },
    "tags": []
   },
   "source": [
    "The following cell holds the definition of our parameters, these values can be overriden by rendering the with e.g. the following command:\n",
    "\n",
    "papermill -p alpha 0.2 -p ratio 0.3 universe_analysis.ipynb output/test_run.ipynb"
   ]
  },
  {
   "cell_type": "code",
   "execution_count": 2,
   "id": "4a789d8e",
   "metadata": {
    "execution": {
     "iopub.execute_input": "2025-08-19T19:03:03.352572Z",
     "iopub.status.busy": "2025-08-19T19:03:03.351394Z",
     "iopub.status.idle": "2025-08-19T19:03:03.360742Z",
     "shell.execute_reply": "2025-08-19T19:03:03.359131Z"
    },
    "papermill": {
     "duration": 0.021269,
     "end_time": "2025-08-19T19:03:03.362318",
     "exception": false,
     "start_time": "2025-08-19T19:03:03.341049",
     "status": "completed"
    },
    "tags": []
   },
   "outputs": [
    {
     "name": "stdout",
     "output_type": "stream",
     "text": [
      "Current working directory: /dss/dsshome1/0C/ra93lal2/cma/CMA_Fairness_v2\n"
     ]
    }
   ],
   "source": [
    "import os\n",
    "print(\"Current working directory:\", os.getcwd())"
   ]
  },
  {
   "cell_type": "code",
   "execution_count": 3,
   "id": "4132aaed",
   "metadata": {
    "execution": {
     "iopub.execute_input": "2025-08-19T19:03:03.386318Z",
     "iopub.status.busy": "2025-08-19T19:03:03.385164Z",
     "iopub.status.idle": "2025-08-19T19:03:03.395664Z",
     "shell.execute_reply": "2025-08-19T19:03:03.393998Z"
    },
    "papermill": {
     "duration": 0.023595,
     "end_time": "2025-08-19T19:03:03.397776",
     "exception": false,
     "start_time": "2025-08-19T19:03:03.374181",
     "status": "completed"
    },
    "tags": [
     "parameters"
    ]
   },
   "outputs": [],
   "source": [
    "run_no = 0\n",
    "universe_id = \"test\"\n",
    "universe = {\n",
    "    \"training_size\": \"5k\", # \"25k\", \"5k\", \"1k\"\n",
    "    \"training_year\": \"2012_14\", # \"2014\", \"2012_14\", \"2010_14\"\n",
    "    \"scale\": \"scale\", # \"scale\", \"do-not-scale\",\n",
    "    \"model\": \"elasticnet\", # \"logreg\", \"penalized_logreg\", \"rf\", \"gbm\", \"elasticnet\"\n",
    "    \"cutoff\": [\"quantile_0.15\", \"quantile_0.30\"],\n",
    "    \"exclude_features\": \"age\", # \"none\", \"nationality\", \"sex\", \"nationality-sex\", \"age\"\n",
    "    \"exclude_subgroups\": \"drop-non-german\", # \"keep-all\", \"drop-non-german\"\n",
    "    \"eval_fairness_grouping\": [\"majority-minority\", \"nationality-all\"]\n",
    "}\n",
    "\n",
    "output_dir=\"./output\"\n",
    "seed=0"
   ]
  },
  {
   "cell_type": "code",
   "execution_count": 4,
   "id": "6bf1132c",
   "metadata": {
    "execution": {
     "iopub.execute_input": "2025-08-19T19:03:03.424513Z",
     "iopub.status.busy": "2025-08-19T19:03:03.423339Z",
     "iopub.status.idle": "2025-08-19T19:03:03.432238Z",
     "shell.execute_reply": "2025-08-19T19:03:03.430627Z"
    },
    "papermill": {
     "duration": 0.021392,
     "end_time": "2025-08-19T19:03:03.433824",
     "exception": false,
     "start_time": "2025-08-19T19:03:03.412432",
     "status": "completed"
    },
    "tags": [
     "injected-parameters"
    ]
   },
   "outputs": [],
   "source": [
    "# Parameters\n",
    "universe_id = \"6877fc8381199d8a71543e1177303d2a\"\n",
    "run_no = \"3\"\n",
    "universe = \"{\\\"cutoff\\\": [\\\"quantile_0.1\\\", \\\"quantile_0.25\\\"], \\\"eval_fairness_grouping\\\": [\\\"majority-minority\\\", \\\"nationality-all\\\"], \\\"exclude_features\\\": \\\"nationality\\\", \\\"exclude_subgroups\\\": \\\"drop-non-german\\\", \\\"model\\\": \\\"gbm\\\", \\\"scale\\\": \\\"do-not-scale\\\", \\\"training_size\\\": \\\"1k\\\", \\\"training_year\\\": \\\"2012_14\\\"}\"\n",
    "output_dir = \"output\"\n",
    "seed = \"2023\"\n"
   ]
  },
  {
   "cell_type": "code",
   "execution_count": 5,
   "id": "a5d7941f",
   "metadata": {
    "execution": {
     "iopub.execute_input": "2025-08-19T19:03:03.459225Z",
     "iopub.status.busy": "2025-08-19T19:03:03.457841Z",
     "iopub.status.idle": "2025-08-19T19:03:03.466157Z",
     "shell.execute_reply": "2025-08-19T19:03:03.464578Z"
    },
    "papermill": {
     "duration": 0.021595,
     "end_time": "2025-08-19T19:03:03.467693",
     "exception": false,
     "start_time": "2025-08-19T19:03:03.446098",
     "status": "completed"
    },
    "tags": []
   },
   "outputs": [],
   "source": [
    "import json\n",
    "if isinstance(universe, str):\n",
    "    universe = json.loads(universe)"
   ]
  },
  {
   "cell_type": "code",
   "execution_count": 6,
   "id": "7076ccb1",
   "metadata": {
    "execution": {
     "iopub.execute_input": "2025-08-19T19:03:03.496763Z",
     "iopub.status.busy": "2025-08-19T19:03:03.489236Z",
     "iopub.status.idle": "2025-08-19T19:03:03.566762Z",
     "shell.execute_reply": "2025-08-19T19:03:03.565886Z"
    },
    "papermill": {
     "duration": 0.091391,
     "end_time": "2025-08-19T19:03:03.569306",
     "exception": false,
     "start_time": "2025-08-19T19:03:03.477915",
     "status": "completed"
    },
    "tags": []
   },
   "outputs": [],
   "source": [
    "# Auto-reload the custom package\n",
    "%load_ext autoreload\n",
    "%autoreload 1\n",
    "%aimport fairness_multiverse"
   ]
  },
  {
   "cell_type": "code",
   "execution_count": 7,
   "id": "94c8eb93",
   "metadata": {
    "execution": {
     "iopub.execute_input": "2025-08-19T19:03:03.601940Z",
     "iopub.status.busy": "2025-08-19T19:03:03.600878Z",
     "iopub.status.idle": "2025-08-19T19:03:05.157920Z",
     "shell.execute_reply": "2025-08-19T19:03:05.156551Z"
    },
    "papermill": {
     "duration": 1.571515,
     "end_time": "2025-08-19T19:03:05.160783",
     "exception": false,
     "start_time": "2025-08-19T19:03:03.589268",
     "status": "completed"
    },
    "tags": []
   },
   "outputs": [],
   "source": [
    "from fairness_multiverse.universe import UniverseAnalysis\n",
    "\n",
    "universe_analysis = UniverseAnalysis(\n",
    "    run_no = run_no,\n",
    "    universe_id = universe_id,\n",
    "    universe = universe,\n",
    "    output_dir=output_dir,\n",
    ")"
   ]
  },
  {
   "cell_type": "code",
   "execution_count": 8,
   "id": "2a6381cf",
   "metadata": {
    "execution": {
     "iopub.execute_input": "2025-08-19T19:03:05.205940Z",
     "iopub.status.busy": "2025-08-19T19:03:05.204012Z",
     "iopub.status.idle": "2025-08-19T19:03:05.217071Z",
     "shell.execute_reply": "2025-08-19T19:03:05.215871Z"
    },
    "papermill": {
     "duration": 0.03234,
     "end_time": "2025-08-19T19:03:05.218521",
     "exception": false,
     "start_time": "2025-08-19T19:03:05.186181",
     "status": "completed"
    },
    "tags": []
   },
   "outputs": [
    {
     "name": "stdout",
     "output_type": "stream",
     "text": [
      "Using Seed: 2023\n"
     ]
    }
   ],
   "source": [
    "import numpy as np\n",
    "parsed_seed = int(seed)\n",
    "np.random.seed(parsed_seed)\n",
    "print(f\"Using Seed: {parsed_seed}\")"
   ]
  },
  {
   "cell_type": "markdown",
   "id": "b6e958b4",
   "metadata": {
    "papermill": {
     "duration": 0.01037,
     "end_time": "2025-08-19T19:03:05.243965",
     "exception": false,
     "start_time": "2025-08-19T19:03:05.233595",
     "status": "completed"
    },
    "tags": []
   },
   "source": [
    "# Loading Data"
   ]
  },
  {
   "cell_type": "code",
   "execution_count": 9,
   "id": "98701482",
   "metadata": {
    "execution": {
     "iopub.execute_input": "2025-08-19T19:03:05.264652Z",
     "iopub.status.busy": "2025-08-19T19:03:05.263462Z",
     "iopub.status.idle": "2025-08-19T19:03:15.752382Z",
     "shell.execute_reply": "2025-08-19T19:03:15.750776Z"
    },
    "papermill": {
     "duration": 10.500999,
     "end_time": "2025-08-19T19:03:15.753888",
     "exception": false,
     "start_time": "2025-08-19T19:03:05.252889",
     "status": "completed"
    },
    "tags": []
   },
   "outputs": [
    {
     "name": "stdout",
     "output_type": "stream",
     "text": [
      "Loading SIAB data from cache: data/siab_cached.csv.gz\n"
     ]
    },
    {
     "name": "stdout",
     "output_type": "stream",
     "text": [
      "(643690, 164)\n"
     ]
    }
   ],
   "source": [
    "from pathlib import Path\n",
    "import pandas as pd\n",
    "\n",
    "# File paths\n",
    "raw_file = Path(\"data/raw/siab.csv\")\n",
    "cache_file = Path(\"data/siab_cached.csv.gz\")\n",
    "\n",
    "# Ensure cache directory exists\n",
    "cache_file.parent.mkdir(parents=True, exist_ok=True)\n",
    "\n",
    "# Load with simple caching\n",
    "if cache_file.exists():\n",
    "    print(f\"Loading SIAB data from cache: {cache_file}\")\n",
    "    siab = pd.read_csv(cache_file, compression='gzip')\n",
    "else:\n",
    "    print(f\"Cache not found. Reading raw SIAB data: {raw_file}\")\n",
    "    siab = pd.read_csv(raw_file)\n",
    "    siab.to_csv(cache_file, index=False, compression='gzip')\n",
    "    print(f\"Cached SIAB data to: {cache_file}\")\n",
    "\n",
    "print(siab.shape)"
   ]
  },
  {
   "cell_type": "code",
   "execution_count": 10,
   "id": "058d2abb",
   "metadata": {
    "execution": {
     "iopub.execute_input": "2025-08-19T19:03:15.795154Z",
     "iopub.status.busy": "2025-08-19T19:03:15.793526Z",
     "iopub.status.idle": "2025-08-19T19:03:15.994820Z",
     "shell.execute_reply": "2025-08-19T19:03:15.993849Z"
    },
    "papermill": {
     "duration": 0.224626,
     "end_time": "2025-08-19T19:03:15.997558",
     "exception": false,
     "start_time": "2025-08-19T19:03:15.772932",
     "status": "completed"
    },
    "tags": []
   },
   "outputs": [
    {
     "data": {
      "text/html": [
       "<div>\n",
       "<style scoped>\n",
       "    .dataframe tbody tr th:only-of-type {\n",
       "        vertical-align: middle;\n",
       "    }\n",
       "\n",
       "    .dataframe tbody tr th {\n",
       "        vertical-align: top;\n",
       "    }\n",
       "\n",
       "    .dataframe thead th {\n",
       "        text-align: right;\n",
       "    }\n",
       "</style>\n",
       "<table border=\"1\" class=\"dataframe\">\n",
       "  <thead>\n",
       "    <tr style=\"text-align: right;\">\n",
       "      <th></th>\n",
       "      <th>persnr</th>\n",
       "      <th>year</th>\n",
       "      <th>nrEntry</th>\n",
       "      <th>ltue</th>\n",
       "      <th>employed_before</th>\n",
       "      <th>receipt_leh_before</th>\n",
       "      <th>receipt_lhg_before</th>\n",
       "      <th>se_before</th>\n",
       "      <th>ASU_notue_seeking_before</th>\n",
       "      <th>ASU_other_before</th>\n",
       "      <th>...</th>\n",
       "      <th>minijob_tot_dur_byage</th>\n",
       "      <th>ft_tot_dur_byage</th>\n",
       "      <th>befrist_tot_dur_byage</th>\n",
       "      <th>leih_tot_dur_byage</th>\n",
       "      <th>LHG_tot_dur_byage</th>\n",
       "      <th>LEH_tot_dur_byage</th>\n",
       "      <th>almp_tot_dur_byage</th>\n",
       "      <th>almp_aw_tot_dur_byage</th>\n",
       "      <th>se_tot_dur_byage</th>\n",
       "      <th>seeking1_tot_dur_byage</th>\n",
       "    </tr>\n",
       "  </thead>\n",
       "  <tbody>\n",
       "    <tr>\n",
       "      <th>0</th>\n",
       "      <td>7</td>\n",
       "      <td>2015</td>\n",
       "      <td>1</td>\n",
       "      <td>0</td>\n",
       "      <td>1</td>\n",
       "      <td>0</td>\n",
       "      <td>0</td>\n",
       "      <td>0</td>\n",
       "      <td>1</td>\n",
       "      <td>0</td>\n",
       "      <td>...</td>\n",
       "      <td>0.000000</td>\n",
       "      <td>0.000000</td>\n",
       "      <td>15.043478</td>\n",
       "      <td>0.000000</td>\n",
       "      <td>0.000000</td>\n",
       "      <td>0.000000</td>\n",
       "      <td>0.000000</td>\n",
       "      <td>0.000000</td>\n",
       "      <td>0.000000</td>\n",
       "      <td>0.000000</td>\n",
       "    </tr>\n",
       "    <tr>\n",
       "      <th>1</th>\n",
       "      <td>18</td>\n",
       "      <td>2010</td>\n",
       "      <td>1</td>\n",
       "      <td>1</td>\n",
       "      <td>0</td>\n",
       "      <td>0</td>\n",
       "      <td>0</td>\n",
       "      <td>0</td>\n",
       "      <td>0</td>\n",
       "      <td>0</td>\n",
       "      <td>...</td>\n",
       "      <td>0.000000</td>\n",
       "      <td>0.000000</td>\n",
       "      <td>0.000000</td>\n",
       "      <td>0.000000</td>\n",
       "      <td>0.000000</td>\n",
       "      <td>0.000000</td>\n",
       "      <td>0.000000</td>\n",
       "      <td>0.000000</td>\n",
       "      <td>0.000000</td>\n",
       "      <td>0.000000</td>\n",
       "    </tr>\n",
       "    <tr>\n",
       "      <th>2</th>\n",
       "      <td>18</td>\n",
       "      <td>2011</td>\n",
       "      <td>2</td>\n",
       "      <td>0</td>\n",
       "      <td>1</td>\n",
       "      <td>0</td>\n",
       "      <td>1</td>\n",
       "      <td>0</td>\n",
       "      <td>1</td>\n",
       "      <td>0</td>\n",
       "      <td>...</td>\n",
       "      <td>2.714286</td>\n",
       "      <td>2.714286</td>\n",
       "      <td>0.000000</td>\n",
       "      <td>0.000000</td>\n",
       "      <td>10.775510</td>\n",
       "      <td>0.000000</td>\n",
       "      <td>8.367347</td>\n",
       "      <td>0.000000</td>\n",
       "      <td>0.000000</td>\n",
       "      <td>9.836735</td>\n",
       "    </tr>\n",
       "    <tr>\n",
       "      <th>3</th>\n",
       "      <td>18</td>\n",
       "      <td>2012</td>\n",
       "      <td>3</td>\n",
       "      <td>0</td>\n",
       "      <td>1</td>\n",
       "      <td>0</td>\n",
       "      <td>1</td>\n",
       "      <td>0</td>\n",
       "      <td>1</td>\n",
       "      <td>0</td>\n",
       "      <td>...</td>\n",
       "      <td>4.200000</td>\n",
       "      <td>4.200000</td>\n",
       "      <td>0.000000</td>\n",
       "      <td>0.000000</td>\n",
       "      <td>12.100000</td>\n",
       "      <td>0.000000</td>\n",
       "      <td>9.400000</td>\n",
       "      <td>0.000000</td>\n",
       "      <td>0.000000</td>\n",
       "      <td>9.960000</td>\n",
       "    </tr>\n",
       "    <tr>\n",
       "      <th>4</th>\n",
       "      <td>18</td>\n",
       "      <td>2012</td>\n",
       "      <td>4</td>\n",
       "      <td>0</td>\n",
       "      <td>1</td>\n",
       "      <td>0</td>\n",
       "      <td>1</td>\n",
       "      <td>0</td>\n",
       "      <td>1</td>\n",
       "      <td>0</td>\n",
       "      <td>...</td>\n",
       "      <td>5.460000</td>\n",
       "      <td>5.460000</td>\n",
       "      <td>0.000000</td>\n",
       "      <td>0.000000</td>\n",
       "      <td>13.360000</td>\n",
       "      <td>0.000000</td>\n",
       "      <td>10.320000</td>\n",
       "      <td>0.000000</td>\n",
       "      <td>0.000000</td>\n",
       "      <td>10.280000</td>\n",
       "    </tr>\n",
       "    <tr>\n",
       "      <th>...</th>\n",
       "      <td>...</td>\n",
       "      <td>...</td>\n",
       "      <td>...</td>\n",
       "      <td>...</td>\n",
       "      <td>...</td>\n",
       "      <td>...</td>\n",
       "      <td>...</td>\n",
       "      <td>...</td>\n",
       "      <td>...</td>\n",
       "      <td>...</td>\n",
       "      <td>...</td>\n",
       "      <td>...</td>\n",
       "      <td>...</td>\n",
       "      <td>...</td>\n",
       "      <td>...</td>\n",
       "      <td>...</td>\n",
       "      <td>...</td>\n",
       "      <td>...</td>\n",
       "      <td>...</td>\n",
       "      <td>...</td>\n",
       "      <td>...</td>\n",
       "    </tr>\n",
       "    <tr>\n",
       "      <th>643685</th>\n",
       "      <td>1827860</td>\n",
       "      <td>2013</td>\n",
       "      <td>1</td>\n",
       "      <td>0</td>\n",
       "      <td>0</td>\n",
       "      <td>0</td>\n",
       "      <td>1</td>\n",
       "      <td>0</td>\n",
       "      <td>0</td>\n",
       "      <td>1</td>\n",
       "      <td>...</td>\n",
       "      <td>0.000000</td>\n",
       "      <td>0.000000</td>\n",
       "      <td>0.000000</td>\n",
       "      <td>0.000000</td>\n",
       "      <td>0.612903</td>\n",
       "      <td>0.000000</td>\n",
       "      <td>0.000000</td>\n",
       "      <td>0.000000</td>\n",
       "      <td>0.000000</td>\n",
       "      <td>0.000000</td>\n",
       "    </tr>\n",
       "    <tr>\n",
       "      <th>643686</th>\n",
       "      <td>1827860</td>\n",
       "      <td>2015</td>\n",
       "      <td>2</td>\n",
       "      <td>1</td>\n",
       "      <td>0</td>\n",
       "      <td>0</td>\n",
       "      <td>1</td>\n",
       "      <td>0</td>\n",
       "      <td>1</td>\n",
       "      <td>0</td>\n",
       "      <td>...</td>\n",
       "      <td>0.000000</td>\n",
       "      <td>0.000000</td>\n",
       "      <td>0.212121</td>\n",
       "      <td>0.212121</td>\n",
       "      <td>17.363636</td>\n",
       "      <td>0.000000</td>\n",
       "      <td>8.909091</td>\n",
       "      <td>0.000000</td>\n",
       "      <td>0.000000</td>\n",
       "      <td>7.121212</td>\n",
       "    </tr>\n",
       "    <tr>\n",
       "      <th>643687</th>\n",
       "      <td>1827860</td>\n",
       "      <td>2016</td>\n",
       "      <td>3</td>\n",
       "      <td>1</td>\n",
       "      <td>0</td>\n",
       "      <td>0</td>\n",
       "      <td>1</td>\n",
       "      <td>1</td>\n",
       "      <td>0</td>\n",
       "      <td>1</td>\n",
       "      <td>...</td>\n",
       "      <td>0.000000</td>\n",
       "      <td>0.000000</td>\n",
       "      <td>0.294118</td>\n",
       "      <td>0.205882</td>\n",
       "      <td>34.705882</td>\n",
       "      <td>0.000000</td>\n",
       "      <td>10.352941</td>\n",
       "      <td>1.705882</td>\n",
       "      <td>1.705882</td>\n",
       "      <td>23.911765</td>\n",
       "    </tr>\n",
       "    <tr>\n",
       "      <th>643688</th>\n",
       "      <td>1827869</td>\n",
       "      <td>2013</td>\n",
       "      <td>1</td>\n",
       "      <td>1</td>\n",
       "      <td>1</td>\n",
       "      <td>0</td>\n",
       "      <td>0</td>\n",
       "      <td>0</td>\n",
       "      <td>1</td>\n",
       "      <td>0</td>\n",
       "      <td>...</td>\n",
       "      <td>0.000000</td>\n",
       "      <td>0.000000</td>\n",
       "      <td>0.000000</td>\n",
       "      <td>0.000000</td>\n",
       "      <td>0.000000</td>\n",
       "      <td>0.525424</td>\n",
       "      <td>0.000000</td>\n",
       "      <td>0.000000</td>\n",
       "      <td>0.000000</td>\n",
       "      <td>0.000000</td>\n",
       "    </tr>\n",
       "    <tr>\n",
       "      <th>643689</th>\n",
       "      <td>1827869</td>\n",
       "      <td>2014</td>\n",
       "      <td>2</td>\n",
       "      <td>0</td>\n",
       "      <td>0</td>\n",
       "      <td>1</td>\n",
       "      <td>0</td>\n",
       "      <td>0</td>\n",
       "      <td>1</td>\n",
       "      <td>0</td>\n",
       "      <td>...</td>\n",
       "      <td>0.000000</td>\n",
       "      <td>0.666667</td>\n",
       "      <td>0.666667</td>\n",
       "      <td>0.000000</td>\n",
       "      <td>0.000000</td>\n",
       "      <td>8.950000</td>\n",
       "      <td>1.033333</td>\n",
       "      <td>0.083333</td>\n",
       "      <td>0.083333</td>\n",
       "      <td>8.133333</td>\n",
       "    </tr>\n",
       "  </tbody>\n",
       "</table>\n",
       "<p>643690 rows × 164 columns</p>\n",
       "</div>"
      ],
      "text/plain": [
       "         persnr  year  nrEntry  ltue  employed_before  receipt_leh_before  \\\n",
       "0             7  2015        1     0                1                   0   \n",
       "1            18  2010        1     1                0                   0   \n",
       "2            18  2011        2     0                1                   0   \n",
       "3            18  2012        3     0                1                   0   \n",
       "4            18  2012        4     0                1                   0   \n",
       "...         ...   ...      ...   ...              ...                 ...   \n",
       "643685  1827860  2013        1     0                0                   0   \n",
       "643686  1827860  2015        2     1                0                   0   \n",
       "643687  1827860  2016        3     1                0                   0   \n",
       "643688  1827869  2013        1     1                1                   0   \n",
       "643689  1827869  2014        2     0                0                   1   \n",
       "\n",
       "        receipt_lhg_before  se_before  ASU_notue_seeking_before  \\\n",
       "0                        0          0                         1   \n",
       "1                        0          0                         0   \n",
       "2                        1          0                         1   \n",
       "3                        1          0                         1   \n",
       "4                        1          0                         1   \n",
       "...                    ...        ...                       ...   \n",
       "643685                   1          0                         0   \n",
       "643686                   1          0                         1   \n",
       "643687                   1          1                         0   \n",
       "643688                   0          0                         1   \n",
       "643689                   0          0                         1   \n",
       "\n",
       "        ASU_other_before  ...  minijob_tot_dur_byage  ft_tot_dur_byage  \\\n",
       "0                      0  ...               0.000000          0.000000   \n",
       "1                      0  ...               0.000000          0.000000   \n",
       "2                      0  ...               2.714286          2.714286   \n",
       "3                      0  ...               4.200000          4.200000   \n",
       "4                      0  ...               5.460000          5.460000   \n",
       "...                  ...  ...                    ...               ...   \n",
       "643685                 1  ...               0.000000          0.000000   \n",
       "643686                 0  ...               0.000000          0.000000   \n",
       "643687                 1  ...               0.000000          0.000000   \n",
       "643688                 0  ...               0.000000          0.000000   \n",
       "643689                 0  ...               0.000000          0.666667   \n",
       "\n",
       "        befrist_tot_dur_byage  leih_tot_dur_byage  LHG_tot_dur_byage  \\\n",
       "0                   15.043478            0.000000           0.000000   \n",
       "1                    0.000000            0.000000           0.000000   \n",
       "2                    0.000000            0.000000          10.775510   \n",
       "3                    0.000000            0.000000          12.100000   \n",
       "4                    0.000000            0.000000          13.360000   \n",
       "...                       ...                 ...                ...   \n",
       "643685               0.000000            0.000000           0.612903   \n",
       "643686               0.212121            0.212121          17.363636   \n",
       "643687               0.294118            0.205882          34.705882   \n",
       "643688               0.000000            0.000000           0.000000   \n",
       "643689               0.666667            0.000000           0.000000   \n",
       "\n",
       "        LEH_tot_dur_byage  almp_tot_dur_byage  almp_aw_tot_dur_byage  \\\n",
       "0                0.000000            0.000000               0.000000   \n",
       "1                0.000000            0.000000               0.000000   \n",
       "2                0.000000            8.367347               0.000000   \n",
       "3                0.000000            9.400000               0.000000   \n",
       "4                0.000000           10.320000               0.000000   \n",
       "...                   ...                 ...                    ...   \n",
       "643685           0.000000            0.000000               0.000000   \n",
       "643686           0.000000            8.909091               0.000000   \n",
       "643687           0.000000           10.352941               1.705882   \n",
       "643688           0.525424            0.000000               0.000000   \n",
       "643689           8.950000            1.033333               0.083333   \n",
       "\n",
       "        se_tot_dur_byage  seeking1_tot_dur_byage  \n",
       "0               0.000000                0.000000  \n",
       "1               0.000000                0.000000  \n",
       "2               0.000000                9.836735  \n",
       "3               0.000000                9.960000  \n",
       "4               0.000000               10.280000  \n",
       "...                  ...                     ...  \n",
       "643685          0.000000                0.000000  \n",
       "643686          0.000000                7.121212  \n",
       "643687          1.705882               23.911765  \n",
       "643688          0.000000                0.000000  \n",
       "643689          0.083333                8.133333  \n",
       "\n",
       "[643690 rows x 164 columns]"
      ]
     },
     "execution_count": 10,
     "metadata": {},
     "output_type": "execute_result"
    }
   ],
   "source": [
    "siab"
   ]
  },
  {
   "cell_type": "markdown",
   "id": "1f87e805",
   "metadata": {
    "papermill": {
     "duration": 0.009806,
     "end_time": "2025-08-19T19:03:16.019674",
     "exception": false,
     "start_time": "2025-08-19T19:03:16.009868",
     "status": "completed"
    },
    "tags": []
   },
   "source": [
    "# Splitting Data and Setting Training Data Size"
   ]
  },
  {
   "cell_type": "code",
   "execution_count": 11,
   "id": "910ae358",
   "metadata": {
    "execution": {
     "iopub.execute_input": "2025-08-19T19:03:16.042126Z",
     "iopub.status.busy": "2025-08-19T19:03:16.040631Z",
     "iopub.status.idle": "2025-08-19T19:03:16.754715Z",
     "shell.execute_reply": "2025-08-19T19:03:16.753684Z"
    },
    "papermill": {
     "duration": 0.727314,
     "end_time": "2025-08-19T19:03:16.756627",
     "exception": false,
     "start_time": "2025-08-19T19:03:16.029313",
     "status": "completed"
    },
    "tags": []
   },
   "outputs": [],
   "source": [
    "from fairness_multiverse.universe import sample_by_year_size\n",
    "\n",
    "siab_train = sample_by_year_size(siab,\n",
    "                               training_year=universe[\"training_year\"],\n",
    "                               training_size=universe[\"training_size\"])"
   ]
  },
  {
   "cell_type": "code",
   "execution_count": 12,
   "id": "919c8ff5",
   "metadata": {
    "execution": {
     "iopub.execute_input": "2025-08-19T19:03:16.779369Z",
     "iopub.status.busy": "2025-08-19T19:03:16.778833Z",
     "iopub.status.idle": "2025-08-19T19:03:16.786459Z",
     "shell.execute_reply": "2025-08-19T19:03:16.785363Z"
    },
    "papermill": {
     "duration": 0.021511,
     "end_time": "2025-08-19T19:03:16.788797",
     "exception": false,
     "start_time": "2025-08-19T19:03:16.767286",
     "status": "completed"
    },
    "tags": []
   },
   "outputs": [
    {
     "data": {
      "text/plain": [
       "(1000, 164)"
      ]
     },
     "execution_count": 12,
     "metadata": {},
     "output_type": "execute_result"
    }
   ],
   "source": [
    "siab_train.shape"
   ]
  },
  {
   "cell_type": "code",
   "execution_count": 13,
   "id": "feb13bf4",
   "metadata": {
    "execution": {
     "iopub.execute_input": "2025-08-19T19:03:16.814519Z",
     "iopub.status.busy": "2025-08-19T19:03:16.813794Z",
     "iopub.status.idle": "2025-08-19T19:03:16.828903Z",
     "shell.execute_reply": "2025-08-19T19:03:16.827798Z"
    },
    "papermill": {
     "duration": 0.029323,
     "end_time": "2025-08-19T19:03:16.830543",
     "exception": false,
     "start_time": "2025-08-19T19:03:16.801220",
     "status": "completed"
    },
    "tags": []
   },
   "outputs": [
    {
     "data": {
      "text/plain": [
       "year\n",
       "2012    334\n",
       "2013    333\n",
       "2014    333\n",
       "dtype: int64"
      ]
     },
     "metadata": {},
     "output_type": "display_data"
    }
   ],
   "source": [
    "display(siab_train.groupby(\"year\").size())"
   ]
  },
  {
   "cell_type": "code",
   "execution_count": 14,
   "id": "0997782f",
   "metadata": {
    "execution": {
     "iopub.execute_input": "2025-08-19T19:03:16.857237Z",
     "iopub.status.busy": "2025-08-19T19:03:16.856451Z",
     "iopub.status.idle": "2025-08-19T19:03:17.195273Z",
     "shell.execute_reply": "2025-08-19T19:03:17.193625Z"
    },
    "papermill": {
     "duration": 0.353726,
     "end_time": "2025-08-19T19:03:17.197247",
     "exception": false,
     "start_time": "2025-08-19T19:03:16.843521",
     "status": "completed"
    },
    "tags": []
   },
   "outputs": [],
   "source": [
    "#siab_train = siab_s[siab_s.year < 2015]\n",
    "siab_calib = siab[siab.year == 2015]\n",
    "siab_test = siab[siab.year == 2016]"
   ]
  },
  {
   "cell_type": "code",
   "execution_count": 15,
   "id": "2c1e4012",
   "metadata": {
    "execution": {
     "iopub.execute_input": "2025-08-19T19:03:17.221516Z",
     "iopub.status.busy": "2025-08-19T19:03:17.220974Z",
     "iopub.status.idle": "2025-08-19T19:03:17.227998Z",
     "shell.execute_reply": "2025-08-19T19:03:17.226925Z"
    },
    "papermill": {
     "duration": 0.020976,
     "end_time": "2025-08-19T19:03:17.229395",
     "exception": false,
     "start_time": "2025-08-19T19:03:17.208419",
     "status": "completed"
    },
    "tags": []
   },
   "outputs": [],
   "source": [
    "#siab_calib.shape"
   ]
  },
  {
   "cell_type": "code",
   "execution_count": 16,
   "id": "f66b54ca",
   "metadata": {
    "execution": {
     "iopub.execute_input": "2025-08-19T19:03:17.252090Z",
     "iopub.status.busy": "2025-08-19T19:03:17.251452Z",
     "iopub.status.idle": "2025-08-19T19:03:17.257892Z",
     "shell.execute_reply": "2025-08-19T19:03:17.256627Z"
    },
    "papermill": {
     "duration": 0.019669,
     "end_time": "2025-08-19T19:03:17.259317",
     "exception": false,
     "start_time": "2025-08-19T19:03:17.239648",
     "status": "completed"
    },
    "tags": []
   },
   "outputs": [],
   "source": [
    "#siab_test.shape"
   ]
  },
  {
   "cell_type": "code",
   "execution_count": 17,
   "id": "27e4384d",
   "metadata": {
    "execution": {
     "iopub.execute_input": "2025-08-19T19:03:17.285026Z",
     "iopub.status.busy": "2025-08-19T19:03:17.284257Z",
     "iopub.status.idle": "2025-08-19T19:03:17.295255Z",
     "shell.execute_reply": "2025-08-19T19:03:17.294006Z"
    },
    "papermill": {
     "duration": 0.024959,
     "end_time": "2025-08-19T19:03:17.297068",
     "exception": false,
     "start_time": "2025-08-19T19:03:17.272109",
     "status": "completed"
    },
    "tags": []
   },
   "outputs": [],
   "source": [
    "X_train = siab_train.iloc[:,4:164]\n",
    "y_train = siab_train.iloc[:, [3]]"
   ]
  },
  {
   "cell_type": "code",
   "execution_count": 18,
   "id": "08ee8389",
   "metadata": {
    "execution": {
     "iopub.execute_input": "2025-08-19T19:03:17.327955Z",
     "iopub.status.busy": "2025-08-19T19:03:17.327234Z",
     "iopub.status.idle": "2025-08-19T19:03:17.392409Z",
     "shell.execute_reply": "2025-08-19T19:03:17.391140Z"
    },
    "papermill": {
     "duration": 0.08436,
     "end_time": "2025-08-19T19:03:17.398015",
     "exception": false,
     "start_time": "2025-08-19T19:03:17.313655",
     "status": "completed"
    },
    "tags": []
   },
   "outputs": [],
   "source": [
    "X_calib = siab_calib.iloc[:,4:164]\n",
    "y_calib = siab_calib.iloc[:, [3]]"
   ]
  },
  {
   "cell_type": "code",
   "execution_count": 19,
   "id": "b7ff42e0",
   "metadata": {
    "execution": {
     "iopub.execute_input": "2025-08-19T19:03:17.437581Z",
     "iopub.status.busy": "2025-08-19T19:03:17.436844Z",
     "iopub.status.idle": "2025-08-19T19:03:17.509760Z",
     "shell.execute_reply": "2025-08-19T19:03:17.508772Z"
    },
    "papermill": {
     "duration": 0.089528,
     "end_time": "2025-08-19T19:03:17.511478",
     "exception": false,
     "start_time": "2025-08-19T19:03:17.421950",
     "status": "completed"
    },
    "tags": []
   },
   "outputs": [],
   "source": [
    "X_test = siab_test.iloc[:,4:164]\n",
    "y_true = siab_test.iloc[:, [3]]"
   ]
  },
  {
   "cell_type": "code",
   "execution_count": 20,
   "id": "0275101e",
   "metadata": {
    "execution": {
     "iopub.execute_input": "2025-08-19T19:03:17.536113Z",
     "iopub.status.busy": "2025-08-19T19:03:17.535628Z",
     "iopub.status.idle": "2025-08-19T19:03:17.663327Z",
     "shell.execute_reply": "2025-08-19T19:03:17.662419Z"
    },
    "papermill": {
     "duration": 0.141547,
     "end_time": "2025-08-19T19:03:17.665046",
     "exception": false,
     "start_time": "2025-08-19T19:03:17.523499",
     "status": "completed"
    },
    "tags": []
   },
   "outputs": [],
   "source": [
    "# Auxiliary data needed downstream in the pipeline\n",
    "\n",
    "org_train = X_train.copy()\n",
    "org_test = X_test.copy()\n",
    "org_calib = X_calib.copy()"
   ]
  },
  {
   "cell_type": "markdown",
   "id": "b461e618",
   "metadata": {
    "papermill": {
     "duration": 0.01066,
     "end_time": "2025-08-19T19:03:17.687810",
     "exception": false,
     "start_time": "2025-08-19T19:03:17.677150",
     "status": "completed"
    },
    "tags": []
   },
   "source": [
    "# Preprocessing Data"
   ]
  },
  {
   "cell_type": "code",
   "execution_count": 21,
   "id": "78e74c4b",
   "metadata": {
    "execution": {
     "iopub.execute_input": "2025-08-19T19:03:17.712618Z",
     "iopub.status.busy": "2025-08-19T19:03:17.711286Z",
     "iopub.status.idle": "2025-08-19T19:03:17.721250Z",
     "shell.execute_reply": "2025-08-19T19:03:17.719716Z"
    },
    "papermill": {
     "duration": 0.024454,
     "end_time": "2025-08-19T19:03:17.723056",
     "exception": false,
     "start_time": "2025-08-19T19:03:17.698602",
     "status": "completed"
    },
    "tags": []
   },
   "outputs": [],
   "source": [
    "# EXCLUDE PROTECTED FEATURES\n",
    "# --------------------------\n",
    "\n",
    "excluded_features = universe[\"exclude_features\"].split(\"-\")\n",
    "excluded_features_dictionary = {\n",
    "    \"nationality\": [\"maxdeutsch1\", \"maxdeutsch.Missing.\"],\n",
    "    \"sex\": [\"frau1\"],\n",
    "    \"age\": [\"age\"],\n",
    "}"
   ]
  },
  {
   "cell_type": "code",
   "execution_count": 22,
   "id": "f8e63555",
   "metadata": {
    "execution": {
     "iopub.execute_input": "2025-08-19T19:03:17.752813Z",
     "iopub.status.busy": "2025-08-19T19:03:17.751782Z",
     "iopub.status.idle": "2025-08-19T19:03:17.760648Z",
     "shell.execute_reply": "2025-08-19T19:03:17.759156Z"
    },
    "papermill": {
     "duration": 0.025742,
     "end_time": "2025-08-19T19:03:17.763240",
     "exception": false,
     "start_time": "2025-08-19T19:03:17.737498",
     "status": "completed"
    },
    "tags": []
   },
   "outputs": [],
   "source": [
    "excluded_features_columns = [\n",
    "    excluded_features_dictionary[f] for f in excluded_features if len(f) > 0 and f != \"none\"\n",
    "]"
   ]
  },
  {
   "cell_type": "code",
   "execution_count": 23,
   "id": "da781f7c",
   "metadata": {
    "execution": {
     "iopub.execute_input": "2025-08-19T19:03:17.791324Z",
     "iopub.status.busy": "2025-08-19T19:03:17.790597Z",
     "iopub.status.idle": "2025-08-19T19:03:17.798826Z",
     "shell.execute_reply": "2025-08-19T19:03:17.797454Z"
    },
    "papermill": {
     "duration": 0.022826,
     "end_time": "2025-08-19T19:03:17.800264",
     "exception": false,
     "start_time": "2025-08-19T19:03:17.777438",
     "status": "completed"
    },
    "tags": []
   },
   "outputs": [],
   "source": [
    "from fairness_multiverse.universe import flatten_once\n",
    "\n",
    "excluded_features_columns = flatten_once(excluded_features_columns)"
   ]
  },
  {
   "cell_type": "code",
   "execution_count": 24,
   "id": "37fef0f0",
   "metadata": {
    "execution": {
     "iopub.execute_input": "2025-08-19T19:03:17.825094Z",
     "iopub.status.busy": "2025-08-19T19:03:17.823997Z",
     "iopub.status.idle": "2025-08-19T19:03:17.838684Z",
     "shell.execute_reply": "2025-08-19T19:03:17.837300Z"
    },
    "papermill": {
     "duration": 0.02847,
     "end_time": "2025-08-19T19:03:17.840301",
     "exception": false,
     "start_time": "2025-08-19T19:03:17.811831",
     "status": "completed"
    },
    "tags": []
   },
   "outputs": [
    {
     "name": "stdout",
     "output_type": "stream",
     "text": [
      "Dropping features: ['maxdeutsch1', 'maxdeutsch.Missing.']\n"
     ]
    }
   ],
   "source": [
    "if len(excluded_features_columns) > 0:\n",
    "    print(f\"Dropping features: {excluded_features_columns}\")\n",
    "    X_train.drop(excluded_features_columns, axis=1, inplace=True)"
   ]
  },
  {
   "cell_type": "code",
   "execution_count": 25,
   "id": "d029e3e9",
   "metadata": {
    "execution": {
     "iopub.execute_input": "2025-08-19T19:03:17.871452Z",
     "iopub.status.busy": "2025-08-19T19:03:17.869325Z",
     "iopub.status.idle": "2025-08-19T19:03:17.935877Z",
     "shell.execute_reply": "2025-08-19T19:03:17.934900Z"
    },
    "papermill": {
     "duration": 0.08661,
     "end_time": "2025-08-19T19:03:17.940681",
     "exception": false,
     "start_time": "2025-08-19T19:03:17.854071",
     "status": "completed"
    },
    "tags": []
   },
   "outputs": [
    {
     "name": "stdout",
     "output_type": "stream",
     "text": [
      "Dropping features: ['maxdeutsch1', 'maxdeutsch.Missing.']\n"
     ]
    }
   ],
   "source": [
    "if len(excluded_features_columns) > 0:\n",
    "    print(f\"Dropping features: {excluded_features_columns}\")\n",
    "    X_test.drop(excluded_features_columns, axis=1, inplace=True)"
   ]
  },
  {
   "cell_type": "code",
   "execution_count": 26,
   "id": "01d571f0",
   "metadata": {
    "execution": {
     "iopub.execute_input": "2025-08-19T19:03:17.974328Z",
     "iopub.status.busy": "2025-08-19T19:03:17.973728Z",
     "iopub.status.idle": "2025-08-19T19:03:18.030464Z",
     "shell.execute_reply": "2025-08-19T19:03:18.029603Z"
    },
    "papermill": {
     "duration": 0.070682,
     "end_time": "2025-08-19T19:03:18.031854",
     "exception": false,
     "start_time": "2025-08-19T19:03:17.961172",
     "status": "completed"
    },
    "tags": []
   },
   "outputs": [
    {
     "name": "stdout",
     "output_type": "stream",
     "text": [
      "Dropping features: ['maxdeutsch1', 'maxdeutsch.Missing.']\n"
     ]
    }
   ],
   "source": [
    "if len(excluded_features_columns) > 0:\n",
    "    print(f\"Dropping features: {excluded_features_columns}\")\n",
    "    X_calib.drop(excluded_features_columns, axis=1, inplace=True)"
   ]
  },
  {
   "cell_type": "code",
   "execution_count": 27,
   "id": "3037356e",
   "metadata": {
    "execution": {
     "iopub.execute_input": "2025-08-19T19:03:18.056738Z",
     "iopub.status.busy": "2025-08-19T19:03:18.056281Z",
     "iopub.status.idle": "2025-08-19T19:03:18.063234Z",
     "shell.execute_reply": "2025-08-19T19:03:18.061865Z"
    },
    "papermill": {
     "duration": 0.021131,
     "end_time": "2025-08-19T19:03:18.064684",
     "exception": false,
     "start_time": "2025-08-19T19:03:18.043553",
     "status": "completed"
    },
    "tags": []
   },
   "outputs": [],
   "source": [
    "# EXCLUDE CERTAIN SUBGROUPS\n",
    "# -------------------------\n",
    "\n",
    "mode = universe.get(\"exclude_subgroups\", \"keep-all\") # Defaults to \"keep-all\" if the key is missing."
   ]
  },
  {
   "cell_type": "code",
   "execution_count": 28,
   "id": "9d1e63fd",
   "metadata": {
    "execution": {
     "iopub.execute_input": "2025-08-19T19:03:18.091498Z",
     "iopub.status.busy": "2025-08-19T19:03:18.091007Z",
     "iopub.status.idle": "2025-08-19T19:03:18.101023Z",
     "shell.execute_reply": "2025-08-19T19:03:18.099877Z"
    },
    "papermill": {
     "duration": 0.02765,
     "end_time": "2025-08-19T19:03:18.105314",
     "exception": false,
     "start_time": "2025-08-19T19:03:18.077664",
     "status": "completed"
    },
    "tags": []
   },
   "outputs": [],
   "source": [
    "if mode == \"keep-all\":\n",
    "    keep_mask = pd.Series(True, index=org_train.index)\n",
    "\n",
    "elif mode == \"drop-non-german\":\n",
    "    keep_mask = (org_train[\"maxdeutsch1\"] == 1) & (org_train[\"maxdeutsch.Missing.\"] == 0)\n",
    "\n",
    "else:\n",
    "    raise ValueError(f\"Unsupported mode for exclude_subgroups: {mode}\")"
   ]
  },
  {
   "cell_type": "code",
   "execution_count": 29,
   "id": "d3b65474",
   "metadata": {
    "execution": {
     "iopub.execute_input": "2025-08-19T19:03:18.133400Z",
     "iopub.status.busy": "2025-08-19T19:03:18.132899Z",
     "iopub.status.idle": "2025-08-19T19:03:18.139949Z",
     "shell.execute_reply": "2025-08-19T19:03:18.139063Z"
    },
    "papermill": {
     "duration": 0.022288,
     "end_time": "2025-08-19T19:03:18.142300",
     "exception": false,
     "start_time": "2025-08-19T19:03:18.120012",
     "status": "completed"
    },
    "tags": []
   },
   "outputs": [
    {
     "name": "stdout",
     "output_type": "stream",
     "text": [
      "Dropping 147 rows (14.70%) where mode='drop-non-german'\n"
     ]
    }
   ],
   "source": [
    "n_drop = (~keep_mask).sum() # Calculates how many rows are set to be dropped\n",
    "if n_drop > 0:\n",
    "    pct = n_drop / len(keep_mask) * 100\n",
    "    print(f\"Dropping {n_drop} rows ({pct:.2f}%) where mode='{mode}'\")"
   ]
  },
  {
   "cell_type": "code",
   "execution_count": 30,
   "id": "f44389b3",
   "metadata": {
    "execution": {
     "iopub.execute_input": "2025-08-19T19:03:18.178144Z",
     "iopub.status.busy": "2025-08-19T19:03:18.177745Z",
     "iopub.status.idle": "2025-08-19T19:03:18.183974Z",
     "shell.execute_reply": "2025-08-19T19:03:18.183142Z"
    },
    "papermill": {
     "duration": 0.031532,
     "end_time": "2025-08-19T19:03:18.185245",
     "exception": false,
     "start_time": "2025-08-19T19:03:18.153713",
     "status": "completed"
    },
    "tags": []
   },
   "outputs": [],
   "source": [
    "X_train = X_train[keep_mask]"
   ]
  },
  {
   "cell_type": "code",
   "execution_count": 31,
   "id": "ceca8c2a",
   "metadata": {
    "execution": {
     "iopub.execute_input": "2025-08-19T19:03:18.224547Z",
     "iopub.status.busy": "2025-08-19T19:03:18.223751Z",
     "iopub.status.idle": "2025-08-19T19:03:18.229502Z",
     "shell.execute_reply": "2025-08-19T19:03:18.228695Z"
    },
    "papermill": {
     "duration": 0.027012,
     "end_time": "2025-08-19T19:03:18.233895",
     "exception": false,
     "start_time": "2025-08-19T19:03:18.206883",
     "status": "completed"
    },
    "tags": []
   },
   "outputs": [],
   "source": [
    "y_train = y_train[keep_mask]"
   ]
  },
  {
   "cell_type": "markdown",
   "id": "04d31e2f",
   "metadata": {
    "papermill": {
     "duration": 0.011086,
     "end_time": "2025-08-19T19:03:18.256570",
     "exception": false,
     "start_time": "2025-08-19T19:03:18.245484",
     "status": "completed"
    },
    "tags": []
   },
   "source": [
    "# Model Training"
   ]
  },
  {
   "cell_type": "code",
   "execution_count": 32,
   "id": "db991733",
   "metadata": {
    "execution": {
     "iopub.execute_input": "2025-08-19T19:03:18.280019Z",
     "iopub.status.busy": "2025-08-19T19:03:18.279598Z",
     "iopub.status.idle": "2025-08-19T19:03:18.403551Z",
     "shell.execute_reply": "2025-08-19T19:03:18.402606Z"
    },
    "papermill": {
     "duration": 0.137602,
     "end_time": "2025-08-19T19:03:18.405370",
     "exception": false,
     "start_time": "2025-08-19T19:03:18.267768",
     "status": "completed"
    },
    "tags": []
   },
   "outputs": [],
   "source": [
    "from sklearn.linear_model import LogisticRegression\n",
    "from sklearn.ensemble import GradientBoostingClassifier, RandomForestClassifier\n",
    "\n",
    "if (universe[\"model\"] == \"logreg\"):\n",
    "    model = LogisticRegression() #penalty=\"none\", solver=\"newton-cg\", max_iter=1)\n",
    "elif (universe[\"model\"] == \"penalized_logreg\"):\n",
    "    model = LogisticRegression(penalty=\"l2\", C=0.1) #, solver=\"newton-cg\", max_iter=1)\n",
    "elif (universe[\"model\"] == \"rf\"):\n",
    "    model = RandomForestClassifier() # n_estimators=100, n_jobs=-1\n",
    "elif (universe[\"model\"] == \"gbm\"):\n",
    "    model = GradientBoostingClassifier()\n",
    "elif (universe[\"model\"] == \"elasticnet\"):\n",
    "    model = LogisticRegression(penalty = 'elasticnet', solver = 'saga', l1_ratio = 0.5) # max_iter=5000\n",
    "else:\n",
    "    raise \"Unsupported universe.model\""
   ]
  },
  {
   "cell_type": "code",
   "execution_count": 33,
   "id": "a4b5cd25",
   "metadata": {
    "execution": {
     "iopub.execute_input": "2025-08-19T19:03:18.432802Z",
     "iopub.status.busy": "2025-08-19T19:03:18.430290Z",
     "iopub.status.idle": "2025-08-19T19:03:18.444613Z",
     "shell.execute_reply": "2025-08-19T19:03:18.441850Z"
    },
    "papermill": {
     "duration": 0.029097,
     "end_time": "2025-08-19T19:03:18.446163",
     "exception": false,
     "start_time": "2025-08-19T19:03:18.417066",
     "status": "completed"
    },
    "tags": []
   },
   "outputs": [],
   "source": [
    "from sklearn.pipeline import Pipeline\n",
    "from sklearn.preprocessing import StandardScaler\n",
    "\n",
    "model = Pipeline([\n",
    "    #(\"continuous_processor\", continuous_processor),\n",
    "    #(\"categorical_preprocessor\", categorical_preprocessor),\n",
    "    (\"scale\", StandardScaler() if universe[\"scale\"] == \"scale\" else None), \n",
    "    (\"model\", model),\n",
    "])"
   ]
  },
  {
   "cell_type": "code",
   "execution_count": 34,
   "id": "283a904d",
   "metadata": {
    "execution": {
     "iopub.execute_input": "2025-08-19T19:03:18.474127Z",
     "iopub.status.busy": "2025-08-19T19:03:18.473726Z",
     "iopub.status.idle": "2025-08-19T19:03:19.272296Z",
     "shell.execute_reply": "2025-08-19T19:03:19.271265Z"
    },
    "papermill": {
     "duration": 0.812982,
     "end_time": "2025-08-19T19:03:19.273765",
     "exception": false,
     "start_time": "2025-08-19T19:03:18.460783",
     "status": "completed"
    },
    "tags": []
   },
   "outputs": [
    {
     "data": {
      "text/html": [
       "<style>#sk-container-id-1 {color: black;background-color: white;}#sk-container-id-1 pre{padding: 0;}#sk-container-id-1 div.sk-toggleable {background-color: white;}#sk-container-id-1 label.sk-toggleable__label {cursor: pointer;display: block;width: 100%;margin-bottom: 0;padding: 0.3em;box-sizing: border-box;text-align: center;}#sk-container-id-1 label.sk-toggleable__label-arrow:before {content: \"▸\";float: left;margin-right: 0.25em;color: #696969;}#sk-container-id-1 label.sk-toggleable__label-arrow:hover:before {color: black;}#sk-container-id-1 div.sk-estimator:hover label.sk-toggleable__label-arrow:before {color: black;}#sk-container-id-1 div.sk-toggleable__content {max-height: 0;max-width: 0;overflow: hidden;text-align: left;background-color: #f0f8ff;}#sk-container-id-1 div.sk-toggleable__content pre {margin: 0.2em;color: black;border-radius: 0.25em;background-color: #f0f8ff;}#sk-container-id-1 input.sk-toggleable__control:checked~div.sk-toggleable__content {max-height: 200px;max-width: 100%;overflow: auto;}#sk-container-id-1 input.sk-toggleable__control:checked~label.sk-toggleable__label-arrow:before {content: \"▾\";}#sk-container-id-1 div.sk-estimator input.sk-toggleable__control:checked~label.sk-toggleable__label {background-color: #d4ebff;}#sk-container-id-1 div.sk-label input.sk-toggleable__control:checked~label.sk-toggleable__label {background-color: #d4ebff;}#sk-container-id-1 input.sk-hidden--visually {border: 0;clip: rect(1px 1px 1px 1px);clip: rect(1px, 1px, 1px, 1px);height: 1px;margin: -1px;overflow: hidden;padding: 0;position: absolute;width: 1px;}#sk-container-id-1 div.sk-estimator {font-family: monospace;background-color: #f0f8ff;border: 1px dotted black;border-radius: 0.25em;box-sizing: border-box;margin-bottom: 0.5em;}#sk-container-id-1 div.sk-estimator:hover {background-color: #d4ebff;}#sk-container-id-1 div.sk-parallel-item::after {content: \"\";width: 100%;border-bottom: 1px solid gray;flex-grow: 1;}#sk-container-id-1 div.sk-label:hover label.sk-toggleable__label {background-color: #d4ebff;}#sk-container-id-1 div.sk-serial::before {content: \"\";position: absolute;border-left: 1px solid gray;box-sizing: border-box;top: 0;bottom: 0;left: 50%;z-index: 0;}#sk-container-id-1 div.sk-serial {display: flex;flex-direction: column;align-items: center;background-color: white;padding-right: 0.2em;padding-left: 0.2em;position: relative;}#sk-container-id-1 div.sk-item {position: relative;z-index: 1;}#sk-container-id-1 div.sk-parallel {display: flex;align-items: stretch;justify-content: center;background-color: white;position: relative;}#sk-container-id-1 div.sk-item::before, #sk-container-id-1 div.sk-parallel-item::before {content: \"\";position: absolute;border-left: 1px solid gray;box-sizing: border-box;top: 0;bottom: 0;left: 50%;z-index: -1;}#sk-container-id-1 div.sk-parallel-item {display: flex;flex-direction: column;z-index: 1;position: relative;background-color: white;}#sk-container-id-1 div.sk-parallel-item:first-child::after {align-self: flex-end;width: 50%;}#sk-container-id-1 div.sk-parallel-item:last-child::after {align-self: flex-start;width: 50%;}#sk-container-id-1 div.sk-parallel-item:only-child::after {width: 0;}#sk-container-id-1 div.sk-dashed-wrapped {border: 1px dashed gray;margin: 0 0.4em 0.5em 0.4em;box-sizing: border-box;padding-bottom: 0.4em;background-color: white;}#sk-container-id-1 div.sk-label label {font-family: monospace;font-weight: bold;display: inline-block;line-height: 1.2em;}#sk-container-id-1 div.sk-label-container {text-align: center;}#sk-container-id-1 div.sk-container {/* jupyter's `normalize.less` sets `[hidden] { display: none; }` but bootstrap.min.css set `[hidden] { display: none !important; }` so we also need the `!important` here to be able to override the default hidden behavior on the sphinx rendered scikit-learn.org. See: https://github.com/scikit-learn/scikit-learn/issues/21755 */display: inline-block !important;position: relative;}#sk-container-id-1 div.sk-text-repr-fallback {display: none;}</style><div id=\"sk-container-id-1\" class=\"sk-top-container\"><div class=\"sk-text-repr-fallback\"><pre>Pipeline(steps=[(&#x27;scale&#x27;, None), (&#x27;model&#x27;, GradientBoostingClassifier())])</pre><b>In a Jupyter environment, please rerun this cell to show the HTML representation or trust the notebook. <br />On GitHub, the HTML representation is unable to render, please try loading this page with nbviewer.org.</b></div><div class=\"sk-container\" hidden><div class=\"sk-item sk-dashed-wrapped\"><div class=\"sk-label-container\"><div class=\"sk-label sk-toggleable\"><input class=\"sk-toggleable__control sk-hidden--visually\" id=\"sk-estimator-id-1\" type=\"checkbox\" ><label for=\"sk-estimator-id-1\" class=\"sk-toggleable__label sk-toggleable__label-arrow\">Pipeline</label><div class=\"sk-toggleable__content\"><pre>Pipeline(steps=[(&#x27;scale&#x27;, None), (&#x27;model&#x27;, GradientBoostingClassifier())])</pre></div></div></div><div class=\"sk-serial\"><div class=\"sk-item\"><div class=\"sk-estimator sk-toggleable\"><input class=\"sk-toggleable__control sk-hidden--visually\" id=\"sk-estimator-id-2\" type=\"checkbox\" ><label for=\"sk-estimator-id-2\" class=\"sk-toggleable__label sk-toggleable__label-arrow\">None</label><div class=\"sk-toggleable__content\"><pre>None</pre></div></div></div><div class=\"sk-item\"><div class=\"sk-estimator sk-toggleable\"><input class=\"sk-toggleable__control sk-hidden--visually\" id=\"sk-estimator-id-3\" type=\"checkbox\" ><label for=\"sk-estimator-id-3\" class=\"sk-toggleable__label sk-toggleable__label-arrow\">GradientBoostingClassifier</label><div class=\"sk-toggleable__content\"><pre>GradientBoostingClassifier()</pre></div></div></div></div></div></div></div>"
      ],
      "text/plain": [
       "Pipeline(steps=[('scale', None), ('model', GradientBoostingClassifier())])"
      ]
     },
     "execution_count": 34,
     "metadata": {},
     "output_type": "execute_result"
    }
   ],
   "source": [
    "model.fit(X_train, y_train.values.ravel())"
   ]
  },
  {
   "cell_type": "code",
   "execution_count": 35,
   "id": "6e15e313",
   "metadata": {
    "execution": {
     "iopub.execute_input": "2025-08-19T19:03:19.307568Z",
     "iopub.status.busy": "2025-08-19T19:03:19.306502Z",
     "iopub.status.idle": "2025-08-19T19:03:19.903498Z",
     "shell.execute_reply": "2025-08-19T19:03:19.902014Z"
    },
    "papermill": {
     "duration": 0.617662,
     "end_time": "2025-08-19T19:03:19.905103",
     "exception": false,
     "start_time": "2025-08-19T19:03:19.287441",
     "status": "completed"
    },
    "tags": []
   },
   "outputs": [
    {
     "data": {
      "text/plain": [
       "0.8374317244454353"
      ]
     },
     "execution_count": 35,
     "metadata": {},
     "output_type": "execute_result"
    }
   ],
   "source": [
    "from fairness_multiverse.universe import predict_w_threshold\n",
    "\n",
    "probs_test = model.predict_proba(X_test)\n",
    "\n",
    "'''\n",
    "Below code returns a boolean array (or binary 0/1 array depending on how it’s used) where each element \n",
    "is True if the probability of class 1 is greater than or equal to the threshold, and False otherwise.\n",
    "'''\n",
    "y_pred_default = predict_w_threshold(probs_test, 0.5)\n",
    "\n",
    "from sklearn.metrics import accuracy_score\n",
    "\n",
    "# Naive prediction\n",
    "accuracy_score(y_true = y_true, y_pred = y_pred_default)"
   ]
  },
  {
   "cell_type": "code",
   "execution_count": 36,
   "id": "6f14067c",
   "metadata": {
    "execution": {
     "iopub.execute_input": "2025-08-19T19:03:19.931445Z",
     "iopub.status.busy": "2025-08-19T19:03:19.930782Z",
     "iopub.status.idle": "2025-08-19T19:03:20.452101Z",
     "shell.execute_reply": "2025-08-19T19:03:20.451032Z"
    },
    "papermill": {
     "duration": 0.535741,
     "end_time": "2025-08-19T19:03:20.453636",
     "exception": false,
     "start_time": "2025-08-19T19:03:19.917895",
     "status": "completed"
    },
    "tags": []
   },
   "outputs": [
    {
     "data": {
      "text/plain": [
       "array([0, 0, 0, ..., 0, 0, 0])"
      ]
     },
     "execution_count": 36,
     "metadata": {},
     "output_type": "execute_result"
    }
   ],
   "source": [
    "model.predict(X_test)"
   ]
  },
  {
   "cell_type": "markdown",
   "id": "3759920c",
   "metadata": {
    "papermill": {
     "duration": 0.022107,
     "end_time": "2025-08-19T19:03:20.497337",
     "exception": false,
     "start_time": "2025-08-19T19:03:20.475230",
     "status": "completed"
    },
    "tags": []
   },
   "source": [
    "# Conformal Prediction"
   ]
  },
  {
   "cell_type": "code",
   "execution_count": 37,
   "id": "14b27f59",
   "metadata": {
    "execution": {
     "iopub.execute_input": "2025-08-19T19:03:20.588556Z",
     "iopub.status.busy": "2025-08-19T19:03:20.586800Z",
     "iopub.status.idle": "2025-08-19T19:03:20.595848Z",
     "shell.execute_reply": "2025-08-19T19:03:20.594270Z"
    },
    "papermill": {
     "duration": 0.061625,
     "end_time": "2025-08-19T19:03:20.597505",
     "exception": false,
     "start_time": "2025-08-19T19:03:20.535880",
     "status": "completed"
    },
    "tags": []
   },
   "outputs": [],
   "source": [
    "# Miscoverage level for conformal prediction (10% allowed error rate => 90% target coverage)\n",
    "alpha = 0.1"
   ]
  },
  {
   "cell_type": "code",
   "execution_count": 38,
   "id": "59102472",
   "metadata": {
    "execution": {
     "iopub.execute_input": "2025-08-19T19:03:20.668156Z",
     "iopub.status.busy": "2025-08-19T19:03:20.666707Z",
     "iopub.status.idle": "2025-08-19T19:03:21.198304Z",
     "shell.execute_reply": "2025-08-19T19:03:21.196704Z"
    },
    "papermill": {
     "duration": 0.56961,
     "end_time": "2025-08-19T19:03:21.200514",
     "exception": false,
     "start_time": "2025-08-19T19:03:20.630904",
     "status": "completed"
    },
    "tags": []
   },
   "outputs": [],
   "source": [
    "probs_calib = model.predict_proba(X_calib)"
   ]
  },
  {
   "cell_type": "code",
   "execution_count": 39,
   "id": "a792d4dd",
   "metadata": {
    "execution": {
     "iopub.execute_input": "2025-08-19T19:03:21.252990Z",
     "iopub.status.busy": "2025-08-19T19:03:21.251866Z",
     "iopub.status.idle": "2025-08-19T19:03:21.265254Z",
     "shell.execute_reply": "2025-08-19T19:03:21.263335Z"
    },
    "papermill": {
     "duration": 0.037148,
     "end_time": "2025-08-19T19:03:21.266903",
     "exception": false,
     "start_time": "2025-08-19T19:03:21.229755",
     "status": "completed"
    },
    "tags": []
   },
   "outputs": [],
   "source": [
    "y_calib = y_calib.values.ravel().astype(int)"
   ]
  },
  {
   "cell_type": "code",
   "execution_count": 40,
   "id": "650fd033",
   "metadata": {
    "execution": {
     "iopub.execute_input": "2025-08-19T19:03:21.320701Z",
     "iopub.status.busy": "2025-08-19T19:03:21.319173Z",
     "iopub.status.idle": "2025-08-19T19:03:21.332831Z",
     "shell.execute_reply": "2025-08-19T19:03:21.331241Z"
    },
    "papermill": {
     "duration": 0.041912,
     "end_time": "2025-08-19T19:03:21.334876",
     "exception": false,
     "start_time": "2025-08-19T19:03:21.292964",
     "status": "completed"
    },
    "tags": []
   },
   "outputs": [],
   "source": [
    "from fairness_multiverse.conformal import compute_nc_scores\n",
    "\n",
    "# Compute nonconformity scores on calibration set (1 - probability of true class)\n",
    "nc_scores = compute_nc_scores(probs_calib, y_calib)"
   ]
  },
  {
   "cell_type": "code",
   "execution_count": 41,
   "id": "28ada44c",
   "metadata": {
    "execution": {
     "iopub.execute_input": "2025-08-19T19:03:21.387966Z",
     "iopub.status.busy": "2025-08-19T19:03:21.386678Z",
     "iopub.status.idle": "2025-08-19T19:03:21.399114Z",
     "shell.execute_reply": "2025-08-19T19:03:21.397352Z"
    },
    "papermill": {
     "duration": 0.036745,
     "end_time": "2025-08-19T19:03:21.400941",
     "exception": false,
     "start_time": "2025-08-19T19:03:21.364196",
     "status": "completed"
    },
    "tags": []
   },
   "outputs": [],
   "source": [
    "from fairness_multiverse.conformal import find_threshold\n",
    "\n",
    "# Find conformal threshold q_hat for the given alpha (split conformal method)\n",
    "q_hat = find_threshold(nc_scores, alpha)"
   ]
  },
  {
   "cell_type": "code",
   "execution_count": 42,
   "id": "df56469e",
   "metadata": {
    "execution": {
     "iopub.execute_input": "2025-08-19T19:03:21.452276Z",
     "iopub.status.busy": "2025-08-19T19:03:21.450969Z",
     "iopub.status.idle": "2025-08-19T19:03:21.465150Z",
     "shell.execute_reply": "2025-08-19T19:03:21.463221Z"
    },
    "papermill": {
     "duration": 0.041716,
     "end_time": "2025-08-19T19:03:21.466879",
     "exception": false,
     "start_time": "2025-08-19T19:03:21.425163",
     "status": "completed"
    },
    "tags": []
   },
   "outputs": [
    {
     "data": {
      "text/plain": [
       "0.7752907314818693"
      ]
     },
     "execution_count": 42,
     "metadata": {},
     "output_type": "execute_result"
    }
   ],
   "source": [
    "q_hat"
   ]
  },
  {
   "cell_type": "code",
   "execution_count": 43,
   "id": "aa1f5faa",
   "metadata": {
    "execution": {
     "iopub.execute_input": "2025-08-19T19:03:21.542496Z",
     "iopub.status.busy": "2025-08-19T19:03:21.541213Z",
     "iopub.status.idle": "2025-08-19T19:03:22.615939Z",
     "shell.execute_reply": "2025-08-19T19:03:22.615078Z"
    },
    "papermill": {
     "duration": 1.111913,
     "end_time": "2025-08-19T19:03:22.618765",
     "exception": false,
     "start_time": "2025-08-19T19:03:21.506852",
     "status": "completed"
    },
    "tags": []
   },
   "outputs": [],
   "source": [
    "from fairness_multiverse.conformal import predict_conformal_sets\n",
    "\n",
    "# Generate prediction sets for each test example\n",
    "pred_sets = predict_conformal_sets(model, X_test, q_hat)"
   ]
  },
  {
   "cell_type": "code",
   "execution_count": 44,
   "id": "97f67a6b",
   "metadata": {
    "execution": {
     "iopub.execute_input": "2025-08-19T19:03:22.689840Z",
     "iopub.status.busy": "2025-08-19T19:03:22.688997Z",
     "iopub.status.idle": "2025-08-19T19:03:22.698318Z",
     "shell.execute_reply": "2025-08-19T19:03:22.696734Z"
    },
    "papermill": {
     "duration": 0.058127,
     "end_time": "2025-08-19T19:03:22.699893",
     "exception": false,
     "start_time": "2025-08-19T19:03:22.641766",
     "status": "completed"
    },
    "tags": []
   },
   "outputs": [],
   "source": [
    "y_true = y_true.squeeze()"
   ]
  },
  {
   "cell_type": "code",
   "execution_count": 45,
   "id": "e700e9a7",
   "metadata": {
    "execution": {
     "iopub.execute_input": "2025-08-19T19:03:22.726473Z",
     "iopub.status.busy": "2025-08-19T19:03:22.726152Z",
     "iopub.status.idle": "2025-08-19T19:03:23.216688Z",
     "shell.execute_reply": "2025-08-19T19:03:23.215508Z"
    },
    "papermill": {
     "duration": 0.506201,
     "end_time": "2025-08-19T19:03:23.218200",
     "exception": false,
     "start_time": "2025-08-19T19:03:22.711999",
     "status": "completed"
    },
    "tags": []
   },
   "outputs": [],
   "source": [
    "from fairness_multiverse.conformal import evaluate_sets\n",
    "\n",
    "# Evaluate coverage and average set size on test data\n",
    "metrics = evaluate_sets(pred_sets, y_true)"
   ]
  },
  {
   "cell_type": "markdown",
   "id": "efbacec0",
   "metadata": {
    "papermill": {
     "duration": 0.028309,
     "end_time": "2025-08-19T19:03:23.265297",
     "exception": false,
     "start_time": "2025-08-19T19:03:23.236988",
     "status": "completed"
    },
    "tags": []
   },
   "source": [
    "# CP Metrics"
   ]
  },
  {
   "cell_type": "code",
   "execution_count": 46,
   "id": "9de55fb1",
   "metadata": {
    "execution": {
     "iopub.execute_input": "2025-08-19T19:03:23.294373Z",
     "iopub.status.busy": "2025-08-19T19:03:23.293103Z",
     "iopub.status.idle": "2025-08-19T19:03:23.310415Z",
     "shell.execute_reply": "2025-08-19T19:03:23.308828Z"
    },
    "papermill": {
     "duration": 0.032895,
     "end_time": "2025-08-19T19:03:23.311882",
     "exception": false,
     "start_time": "2025-08-19T19:03:23.278987",
     "status": "completed"
    },
    "tags": []
   },
   "outputs": [
    {
     "data": {
      "text/plain": [
       "{'coverage': 0.9110355590235202, 'avg_size': 1.1845279233084383}"
      ]
     },
     "execution_count": 46,
     "metadata": {},
     "output_type": "execute_result"
    }
   ],
   "source": [
    "metrics"
   ]
  },
  {
   "cell_type": "code",
   "execution_count": 47,
   "id": "64c340a1",
   "metadata": {
    "execution": {
     "iopub.execute_input": "2025-08-19T19:03:23.345966Z",
     "iopub.status.busy": "2025-08-19T19:03:23.344622Z",
     "iopub.status.idle": "2025-08-19T19:03:23.357458Z",
     "shell.execute_reply": "2025-08-19T19:03:23.355567Z"
    },
    "papermill": {
     "duration": 0.029123,
     "end_time": "2025-08-19T19:03:23.359226",
     "exception": false,
     "start_time": "2025-08-19T19:03:23.330103",
     "status": "completed"
    },
    "tags": []
   },
   "outputs": [],
   "source": [
    "example_universe = universe.copy()\n",
    "universe_training_year = example_universe.get(\"training_year\")\n",
    "universe_training_size = example_universe.get(\"training_size\")\n",
    "universe_scale = example_universe.get(\"scale\")\n",
    "universe_model = example_universe.get(\"model\")\n",
    "universe_exclude_features = example_universe.get(\"exclude_features\")\n",
    "universe_exclude_subgroups = example_universe.get(\"exclude_subgroups\")"
   ]
  },
  {
   "cell_type": "code",
   "execution_count": 48,
   "id": "dbb53cb4",
   "metadata": {
    "execution": {
     "iopub.execute_input": "2025-08-19T19:03:23.390461Z",
     "iopub.status.busy": "2025-08-19T19:03:23.389417Z",
     "iopub.status.idle": "2025-08-19T19:03:23.400419Z",
     "shell.execute_reply": "2025-08-19T19:03:23.398750Z"
    },
    "papermill": {
     "duration": 0.026012,
     "end_time": "2025-08-19T19:03:23.401970",
     "exception": false,
     "start_time": "2025-08-19T19:03:23.375958",
     "status": "completed"
    },
    "tags": []
   },
   "outputs": [],
   "source": [
    "cp_metrics_dict = {\n",
    "    \"universe_id\": [universe_id],\n",
    "    \"universe_training_year\": [universe_training_year],\n",
    "    \"universe_training_size\": [universe_training_size],\n",
    "    \"universe_scale\": [universe_scale],\n",
    "    \"universe_model\": [universe_model],\n",
    "    \"universe_exclude_features\": [universe_exclude_features],\n",
    "    \"universe_exclude_subgroups\": [universe_exclude_subgroups],\n",
    "    \"q_hat\": [q_hat],\n",
    "    \"coverage\": [metrics[\"coverage\"]],\n",
    "    \"avg_size\": [metrics[\"avg_size\"]],\n",
    "}"
   ]
  },
  {
   "cell_type": "code",
   "execution_count": 49,
   "id": "0d70d4b2",
   "metadata": {
    "execution": {
     "iopub.execute_input": "2025-08-19T19:03:23.435166Z",
     "iopub.status.busy": "2025-08-19T19:03:23.433695Z",
     "iopub.status.idle": "2025-08-19T19:03:23.448009Z",
     "shell.execute_reply": "2025-08-19T19:03:23.446594Z"
    },
    "papermill": {
     "duration": 0.031942,
     "end_time": "2025-08-19T19:03:23.451324",
     "exception": false,
     "start_time": "2025-08-19T19:03:23.419382",
     "status": "completed"
    },
    "tags": []
   },
   "outputs": [],
   "source": [
    "cp_metrics_df = pd.DataFrame(cp_metrics_dict)"
   ]
  },
  {
   "cell_type": "code",
   "execution_count": 50,
   "id": "b494403c",
   "metadata": {
    "execution": {
     "iopub.execute_input": "2025-08-19T19:03:23.484038Z",
     "iopub.status.busy": "2025-08-19T19:03:23.483642Z",
     "iopub.status.idle": "2025-08-19T19:03:23.499069Z",
     "shell.execute_reply": "2025-08-19T19:03:23.498047Z"
    },
    "papermill": {
     "duration": 0.031256,
     "end_time": "2025-08-19T19:03:23.500724",
     "exception": false,
     "start_time": "2025-08-19T19:03:23.469468",
     "status": "completed"
    },
    "tags": []
   },
   "outputs": [
    {
     "data": {
      "text/html": [
       "<div>\n",
       "<style scoped>\n",
       "    .dataframe tbody tr th:only-of-type {\n",
       "        vertical-align: middle;\n",
       "    }\n",
       "\n",
       "    .dataframe tbody tr th {\n",
       "        vertical-align: top;\n",
       "    }\n",
       "\n",
       "    .dataframe thead th {\n",
       "        text-align: right;\n",
       "    }\n",
       "</style>\n",
       "<table border=\"1\" class=\"dataframe\">\n",
       "  <thead>\n",
       "    <tr style=\"text-align: right;\">\n",
       "      <th></th>\n",
       "      <th>universe_id</th>\n",
       "      <th>universe_training_year</th>\n",
       "      <th>universe_training_size</th>\n",
       "      <th>universe_scale</th>\n",
       "      <th>universe_model</th>\n",
       "      <th>universe_exclude_features</th>\n",
       "      <th>universe_exclude_subgroups</th>\n",
       "      <th>q_hat</th>\n",
       "      <th>coverage</th>\n",
       "      <th>avg_size</th>\n",
       "    </tr>\n",
       "  </thead>\n",
       "  <tbody>\n",
       "    <tr>\n",
       "      <th>0</th>\n",
       "      <td>6877fc8381199d8a71543e1177303d2a</td>\n",
       "      <td>2012_14</td>\n",
       "      <td>1k</td>\n",
       "      <td>do-not-scale</td>\n",
       "      <td>gbm</td>\n",
       "      <td>nationality</td>\n",
       "      <td>drop-non-german</td>\n",
       "      <td>0.775291</td>\n",
       "      <td>0.911036</td>\n",
       "      <td>1.184528</td>\n",
       "    </tr>\n",
       "  </tbody>\n",
       "</table>\n",
       "</div>"
      ],
      "text/plain": [
       "                        universe_id universe_training_year  \\\n",
       "0  6877fc8381199d8a71543e1177303d2a                2012_14   \n",
       "\n",
       "  universe_training_size universe_scale universe_model  \\\n",
       "0                     1k   do-not-scale            gbm   \n",
       "\n",
       "  universe_exclude_features universe_exclude_subgroups     q_hat  coverage  \\\n",
       "0               nationality            drop-non-german  0.775291  0.911036   \n",
       "\n",
       "   avg_size  \n",
       "0  1.184528  "
      ]
     },
     "execution_count": 50,
     "metadata": {},
     "output_type": "execute_result"
    }
   ],
   "source": [
    "cp_metrics_df"
   ]
  },
  {
   "cell_type": "markdown",
   "id": "ed608b0b",
   "metadata": {
    "papermill": {
     "duration": 0.011945,
     "end_time": "2025-08-19T19:03:23.526387",
     "exception": false,
     "start_time": "2025-08-19T19:03:23.514442",
     "status": "completed"
    },
    "tags": []
   },
   "source": [
    "Conditional coverage & looking at subgroups"
   ]
  },
  {
   "cell_type": "code",
   "execution_count": 51,
   "id": "8968c366",
   "metadata": {
    "execution": {
     "iopub.execute_input": "2025-08-19T19:03:23.551881Z",
     "iopub.status.busy": "2025-08-19T19:03:23.551295Z",
     "iopub.status.idle": "2025-08-19T19:03:23.844725Z",
     "shell.execute_reply": "2025-08-19T19:03:23.843775Z"
    },
    "papermill": {
     "duration": 0.309102,
     "end_time": "2025-08-19T19:03:23.847384",
     "exception": false,
     "start_time": "2025-08-19T19:03:23.538282",
     "status": "completed"
    },
    "tags": []
   },
   "outputs": [],
   "source": [
    "from fairness_multiverse.conformal import build_cp_groups\n",
    "\n",
    "cp_groups_df = build_cp_groups(pred_sets, y_true, X_test.index, org_test)"
   ]
  },
  {
   "cell_type": "code",
   "execution_count": 52,
   "id": "292ddabf",
   "metadata": {
    "execution": {
     "iopub.execute_input": "2025-08-19T19:03:23.890148Z",
     "iopub.status.busy": "2025-08-19T19:03:23.889721Z",
     "iopub.status.idle": "2025-08-19T19:03:24.777297Z",
     "shell.execute_reply": "2025-08-19T19:03:24.775781Z"
    },
    "papermill": {
     "duration": 0.904157,
     "end_time": "2025-08-19T19:03:24.778918",
     "exception": false,
     "start_time": "2025-08-19T19:03:23.874761",
     "status": "completed"
    },
    "tags": []
   },
   "outputs": [],
   "source": [
    "# Define covered = 1 if true_label is in the predicted set\n",
    "cp_groups_df['covered'] = cp_groups_df.apply(\n",
    "    lambda r: int(r['true_label'] in r['pred_set']),\n",
    "    axis=1\n",
    ")"
   ]
  },
  {
   "cell_type": "code",
   "execution_count": 53,
   "id": "3a261692",
   "metadata": {
    "execution": {
     "iopub.execute_input": "2025-08-19T19:03:24.825283Z",
     "iopub.status.busy": "2025-08-19T19:03:24.823790Z",
     "iopub.status.idle": "2025-08-19T19:03:24.849121Z",
     "shell.execute_reply": "2025-08-19T19:03:24.847960Z"
    },
    "papermill": {
     "duration": 0.056074,
     "end_time": "2025-08-19T19:03:24.850651",
     "exception": false,
     "start_time": "2025-08-19T19:03:24.794577",
     "status": "completed"
    },
    "tags": []
   },
   "outputs": [],
   "source": [
    "subgroups = ['frau1','nongerman','nongerman_male','nongerman_female']\n",
    "\n",
    "# Conditional coverage for subgroup==1\n",
    "cond_coverage = {\n",
    "    g: cp_groups_df.loc[cp_groups_df[g]==1, 'covered'].mean()\n",
    "    for g in subgroups\n",
    "}"
   ]
  },
  {
   "cell_type": "code",
   "execution_count": 54,
   "id": "894fd600",
   "metadata": {
    "execution": {
     "iopub.execute_input": "2025-08-19T19:03:24.877059Z",
     "iopub.status.busy": "2025-08-19T19:03:24.876628Z",
     "iopub.status.idle": "2025-08-19T19:03:24.887113Z",
     "shell.execute_reply": "2025-08-19T19:03:24.885562Z"
    },
    "papermill": {
     "duration": 0.02528,
     "end_time": "2025-08-19T19:03:24.888550",
     "exception": false,
     "start_time": "2025-08-19T19:03:24.863270",
     "status": "completed"
    },
    "tags": []
   },
   "outputs": [
    {
     "data": {
      "text/plain": [
       "{'frau1': 0.905701577031945,\n",
       " 'nongerman': 0.9049009150620333,\n",
       " 'nongerman_male': 0.9238043771953526,\n",
       " 'nongerman_female': 0.8736214605067064}"
      ]
     },
     "execution_count": 54,
     "metadata": {},
     "output_type": "execute_result"
    }
   ],
   "source": [
    "cond_coverage"
   ]
  },
  {
   "cell_type": "code",
   "execution_count": 55,
   "id": "942895c7",
   "metadata": {
    "execution": {
     "iopub.execute_input": "2025-08-19T19:03:24.933632Z",
     "iopub.status.busy": "2025-08-19T19:03:24.930565Z",
     "iopub.status.idle": "2025-08-19T19:03:24.949482Z",
     "shell.execute_reply": "2025-08-19T19:03:24.948286Z"
    },
    "papermill": {
     "duration": 0.045789,
     "end_time": "2025-08-19T19:03:24.950924",
     "exception": false,
     "start_time": "2025-08-19T19:03:24.905135",
     "status": "completed"
    },
    "tags": []
   },
   "outputs": [],
   "source": [
    "for subgroup, cov in cond_coverage.items():\n",
    "    cp_metrics_df[f\"cov_{subgroup}\"] = cov"
   ]
  },
  {
   "cell_type": "code",
   "execution_count": 56,
   "id": "3970120f",
   "metadata": {
    "execution": {
     "iopub.execute_input": "2025-08-19T19:03:24.980355Z",
     "iopub.status.busy": "2025-08-19T19:03:24.979344Z",
     "iopub.status.idle": "2025-08-19T19:03:25.013745Z",
     "shell.execute_reply": "2025-08-19T19:03:25.012527Z"
    },
    "papermill": {
     "duration": 0.050291,
     "end_time": "2025-08-19T19:03:25.015919",
     "exception": false,
     "start_time": "2025-08-19T19:03:24.965628",
     "status": "completed"
    },
    "tags": []
   },
   "outputs": [
    {
     "data": {
      "text/html": [
       "<div>\n",
       "<style scoped>\n",
       "    .dataframe tbody tr th:only-of-type {\n",
       "        vertical-align: middle;\n",
       "    }\n",
       "\n",
       "    .dataframe tbody tr th {\n",
       "        vertical-align: top;\n",
       "    }\n",
       "\n",
       "    .dataframe thead th {\n",
       "        text-align: right;\n",
       "    }\n",
       "</style>\n",
       "<table border=\"1\" class=\"dataframe\">\n",
       "  <thead>\n",
       "    <tr style=\"text-align: right;\">\n",
       "      <th></th>\n",
       "      <th>universe_id</th>\n",
       "      <th>universe_training_year</th>\n",
       "      <th>universe_training_size</th>\n",
       "      <th>universe_scale</th>\n",
       "      <th>universe_model</th>\n",
       "      <th>universe_exclude_features</th>\n",
       "      <th>universe_exclude_subgroups</th>\n",
       "      <th>q_hat</th>\n",
       "      <th>coverage</th>\n",
       "      <th>avg_size</th>\n",
       "      <th>cov_frau1</th>\n",
       "      <th>cov_nongerman</th>\n",
       "      <th>cov_nongerman_male</th>\n",
       "      <th>cov_nongerman_female</th>\n",
       "    </tr>\n",
       "  </thead>\n",
       "  <tbody>\n",
       "    <tr>\n",
       "      <th>0</th>\n",
       "      <td>6877fc8381199d8a71543e1177303d2a</td>\n",
       "      <td>2012_14</td>\n",
       "      <td>1k</td>\n",
       "      <td>do-not-scale</td>\n",
       "      <td>gbm</td>\n",
       "      <td>nationality</td>\n",
       "      <td>drop-non-german</td>\n",
       "      <td>0.775291</td>\n",
       "      <td>0.911036</td>\n",
       "      <td>1.184528</td>\n",
       "      <td>0.905702</td>\n",
       "      <td>0.904901</td>\n",
       "      <td>0.923804</td>\n",
       "      <td>0.873621</td>\n",
       "    </tr>\n",
       "  </tbody>\n",
       "</table>\n",
       "</div>"
      ],
      "text/plain": [
       "                        universe_id universe_training_year  \\\n",
       "0  6877fc8381199d8a71543e1177303d2a                2012_14   \n",
       "\n",
       "  universe_training_size universe_scale universe_model  \\\n",
       "0                     1k   do-not-scale            gbm   \n",
       "\n",
       "  universe_exclude_features universe_exclude_subgroups     q_hat  coverage  \\\n",
       "0               nationality            drop-non-german  0.775291  0.911036   \n",
       "\n",
       "   avg_size  cov_frau1  cov_nongerman  cov_nongerman_male  \\\n",
       "0  1.184528   0.905702       0.904901            0.923804   \n",
       "\n",
       "   cov_nongerman_female  \n",
       "0              0.873621  "
      ]
     },
     "execution_count": 56,
     "metadata": {},
     "output_type": "execute_result"
    }
   ],
   "source": [
    "cp_metrics_df"
   ]
  },
  {
   "cell_type": "markdown",
   "id": "3fc519cc",
   "metadata": {
    "papermill": {
     "duration": 0.013693,
     "end_time": "2025-08-19T19:03:25.053538",
     "exception": false,
     "start_time": "2025-08-19T19:03:25.039845",
     "status": "completed"
    },
    "tags": []
   },
   "source": [
    "# (Fairness) Metrics"
   ]
  },
  {
   "cell_type": "code",
   "execution_count": 57,
   "id": "a2e5e155",
   "metadata": {
    "execution": {
     "iopub.execute_input": "2025-08-19T19:03:25.081123Z",
     "iopub.status.busy": "2025-08-19T19:03:25.080125Z",
     "iopub.status.idle": "2025-08-19T19:03:25.126146Z",
     "shell.execute_reply": "2025-08-19T19:03:25.125341Z"
    },
    "papermill": {
     "duration": 0.062754,
     "end_time": "2025-08-19T19:03:25.128752",
     "exception": false,
     "start_time": "2025-08-19T19:03:25.065998",
     "status": "completed"
    },
    "tags": []
   },
   "outputs": [],
   "source": [
    "colname_to_bin = \"maxdeutsch1\"\n",
    "majority_value = org_train[colname_to_bin].mode()[0]\n",
    "\n",
    "org_test[\"majmin\"] = np.where(org_test[colname_to_bin] == majority_value, \"majority\", \"minority\")"
   ]
  },
  {
   "cell_type": "code",
   "execution_count": 58,
   "id": "17e3e4d5",
   "metadata": {
    "execution": {
     "iopub.execute_input": "2025-08-19T19:03:25.173569Z",
     "iopub.status.busy": "2025-08-19T19:03:25.173117Z",
     "iopub.status.idle": "2025-08-19T19:03:26.919514Z",
     "shell.execute_reply": "2025-08-19T19:03:26.918135Z"
    },
    "papermill": {
     "duration": 1.764297,
     "end_time": "2025-08-19T19:03:26.922098",
     "exception": false,
     "start_time": "2025-08-19T19:03:25.157801",
     "status": "completed"
    },
    "tags": []
   },
   "outputs": [],
   "source": [
    "example_universe = universe.copy()\n",
    "example_universe[\"cutoff\"] = example_universe[\"cutoff\"][0]\n",
    "example_universe[\"eval_fairness_grouping\"] = example_universe[\"eval_fairness_grouping\"][0]\n",
    "fairness_dict, metric_frame = universe_analysis.compute_metrics(\n",
    "    example_universe,\n",
    "    y_pred_prob=probs_test,\n",
    "    y_test=y_true,\n",
    "    org_test=org_test,\n",
    ")"
   ]
  },
  {
   "cell_type": "markdown",
   "id": "1fb7a0e9",
   "metadata": {
    "papermill": {
     "duration": 0.013438,
     "end_time": "2025-08-19T19:03:26.962703",
     "exception": false,
     "start_time": "2025-08-19T19:03:26.949265",
     "status": "completed"
    },
    "tags": []
   },
   "source": [
    "# Overall"
   ]
  },
  {
   "cell_type": "markdown",
   "id": "be1784b1",
   "metadata": {
    "papermill": {
     "duration": 0.012342,
     "end_time": "2025-08-19T19:03:26.987566",
     "exception": false,
     "start_time": "2025-08-19T19:03:26.975224",
     "status": "completed"
    },
    "tags": []
   },
   "source": [
    "Main fairness target: Equalized Odds. Seems to be a better fit than equal opportunity, since we're not only interested in Y = 1. Seems to be a better fit than demographic parity, since we also care about accuracy, not just equal distribution of preds.\n",
    "\n",
    "Pick column for computation of fairness metrics\n",
    "\n",
    "Performance\n",
    "Overall performance measures, most interesting in relation to the measures split by group below"
   ]
  },
  {
   "cell_type": "code",
   "execution_count": 59,
   "id": "b7672bee",
   "metadata": {
    "execution": {
     "iopub.execute_input": "2025-08-19T19:03:27.015716Z",
     "iopub.status.busy": "2025-08-19T19:03:27.014384Z",
     "iopub.status.idle": "2025-08-19T19:03:27.031721Z",
     "shell.execute_reply": "2025-08-19T19:03:27.030327Z"
    },
    "papermill": {
     "duration": 0.033284,
     "end_time": "2025-08-19T19:03:27.033180",
     "exception": false,
     "start_time": "2025-08-19T19:03:26.999896",
     "status": "completed"
    },
    "tags": []
   },
   "outputs": [
    {
     "data": {
      "text/plain": [
       "accuracy                   0.223152\n",
       "balanced accuracy          0.546042\n",
       "f1                         0.244583\n",
       "precision                  0.139720\n",
       "false positive rate        0.888277\n",
       "false negative rate        0.019639\n",
       "selection rate             0.900089\n",
       "count                  89710.000000\n",
       "dtype: float64"
      ]
     },
     "execution_count": 59,
     "metadata": {},
     "output_type": "execute_result"
    }
   ],
   "source": [
    "metric_frame.overall"
   ]
  },
  {
   "cell_type": "markdown",
   "id": "d93333c9",
   "metadata": {
    "papermill": {
     "duration": 0.012897,
     "end_time": "2025-08-19T19:03:27.065406",
     "exception": false,
     "start_time": "2025-08-19T19:03:27.052509",
     "status": "completed"
    },
    "tags": []
   },
   "source": [
    "By Group"
   ]
  },
  {
   "cell_type": "code",
   "execution_count": 60,
   "id": "52256966",
   "metadata": {
    "execution": {
     "iopub.execute_input": "2025-08-19T19:03:27.093604Z",
     "iopub.status.busy": "2025-08-19T19:03:27.092249Z",
     "iopub.status.idle": "2025-08-19T19:03:27.119172Z",
     "shell.execute_reply": "2025-08-19T19:03:27.118366Z"
    },
    "papermill": {
     "duration": 0.042836,
     "end_time": "2025-08-19T19:03:27.120725",
     "exception": false,
     "start_time": "2025-08-19T19:03:27.077889",
     "status": "completed"
    },
    "tags": []
   },
   "outputs": [
    {
     "data": {
      "text/html": [
       "<div>\n",
       "<style scoped>\n",
       "    .dataframe tbody tr th:only-of-type {\n",
       "        vertical-align: middle;\n",
       "    }\n",
       "\n",
       "    .dataframe tbody tr th {\n",
       "        vertical-align: top;\n",
       "    }\n",
       "\n",
       "    .dataframe thead th {\n",
       "        text-align: right;\n",
       "    }\n",
       "</style>\n",
       "<table border=\"1\" class=\"dataframe\">\n",
       "  <thead>\n",
       "    <tr style=\"text-align: right;\">\n",
       "      <th></th>\n",
       "      <th>accuracy</th>\n",
       "      <th>balanced accuracy</th>\n",
       "      <th>f1</th>\n",
       "      <th>precision</th>\n",
       "      <th>false positive rate</th>\n",
       "      <th>false negative rate</th>\n",
       "      <th>selection rate</th>\n",
       "      <th>count</th>\n",
       "    </tr>\n",
       "    <tr>\n",
       "      <th>majmin</th>\n",
       "      <th></th>\n",
       "      <th></th>\n",
       "      <th></th>\n",
       "      <th></th>\n",
       "      <th></th>\n",
       "      <th></th>\n",
       "      <th></th>\n",
       "      <th></th>\n",
       "    </tr>\n",
       "  </thead>\n",
       "  <tbody>\n",
       "    <tr>\n",
       "      <th>majority</th>\n",
       "      <td>0.243357</td>\n",
       "      <td>0.555033</td>\n",
       "      <td>0.254745</td>\n",
       "      <td>0.146431</td>\n",
       "      <td>0.868599</td>\n",
       "      <td>0.021335</td>\n",
       "      <td>0.883143</td>\n",
       "      <td>69170.0</td>\n",
       "    </tr>\n",
       "    <tr>\n",
       "      <th>minority</th>\n",
       "      <td>0.155112</td>\n",
       "      <td>0.516815</td>\n",
       "      <td>0.212184</td>\n",
       "      <td>0.118871</td>\n",
       "      <td>0.953280</td>\n",
       "      <td>0.013091</td>\n",
       "      <td>0.957157</td>\n",
       "      <td>20540.0</td>\n",
       "    </tr>\n",
       "  </tbody>\n",
       "</table>\n",
       "</div>"
      ],
      "text/plain": [
       "          accuracy  balanced accuracy        f1  precision  \\\n",
       "majmin                                                       \n",
       "majority  0.243357           0.555033  0.254745   0.146431   \n",
       "minority  0.155112           0.516815  0.212184   0.118871   \n",
       "\n",
       "          false positive rate  false negative rate  selection rate    count  \n",
       "majmin                                                                       \n",
       "majority             0.868599             0.021335        0.883143  69170.0  \n",
       "minority             0.953280             0.013091        0.957157  20540.0  "
      ]
     },
     "execution_count": 60,
     "metadata": {},
     "output_type": "execute_result"
    }
   ],
   "source": [
    "metric_frame.by_group"
   ]
  },
  {
   "cell_type": "code",
   "execution_count": 61,
   "id": "6e6c20ae",
   "metadata": {
    "execution": {
     "iopub.execute_input": "2025-08-19T19:03:27.159942Z",
     "iopub.status.busy": "2025-08-19T19:03:27.158496Z",
     "iopub.status.idle": "2025-08-19T19:03:29.051186Z",
     "shell.execute_reply": "2025-08-19T19:03:29.050257Z"
    },
    "papermill": {
     "duration": 1.911592,
     "end_time": "2025-08-19T19:03:29.055480",
     "exception": false,
     "start_time": "2025-08-19T19:03:27.143888",
     "status": "completed"
    },
    "tags": []
   },
   "outputs": [
    {
     "data": {
      "text/plain": [
       "array([[<Axes: title={'center': 'accuracy'}, xlabel='majmin'>,\n",
       "        <Axes: title={'center': 'balanced accuracy'}, xlabel='majmin'>,\n",
       "        <Axes: title={'center': 'f1'}, xlabel='majmin'>],\n",
       "       [<Axes: title={'center': 'precision'}, xlabel='majmin'>,\n",
       "        <Axes: title={'center': 'false positive rate'}, xlabel='majmin'>,\n",
       "        <Axes: title={'center': 'false negative rate'}, xlabel='majmin'>],\n",
       "       [<Axes: title={'center': 'selection rate'}, xlabel='majmin'>,\n",
       "        <Axes: title={'center': 'count'}, xlabel='majmin'>,\n",
       "        <Axes: xlabel='majmin'>]], dtype=object)"
      ]
     },
     "execution_count": 61,
     "metadata": {},
     "output_type": "execute_result"
    },
    {
     "data": {
      "image/png": "[encoded data removed]",
      "text/plain": [
       "<Figure size 1200x800 with 9 Axes>"
      ]
     },
     "metadata": {},
     "output_type": "display_data"
    }
   ],
   "source": [
    "# In a graphic\n",
    "metric_frame.by_group.plot.bar(\n",
    "    subplots=True,\n",
    "    layout=[3, 3],\n",
    "    legend=False,\n",
    "    figsize=[12, 8],\n",
    "    title=\"Show all metrics\",\n",
    ")"
   ]
  },
  {
   "cell_type": "markdown",
   "id": "b2e433ae",
   "metadata": {
    "papermill": {
     "duration": 0.014002,
     "end_time": "2025-08-19T19:03:29.098118",
     "exception": false,
     "start_time": "2025-08-19T19:03:29.084116",
     "status": "completed"
    },
    "tags": []
   },
   "source": [
    "# Final Output"
   ]
  },
  {
   "cell_type": "code",
   "execution_count": 62,
   "id": "3871301e",
   "metadata": {
    "execution": {
     "iopub.execute_input": "2025-08-19T19:03:29.130044Z",
     "iopub.status.busy": "2025-08-19T19:03:29.127908Z",
     "iopub.status.idle": "2025-08-19T19:03:29.147900Z",
     "shell.execute_reply": "2025-08-19T19:03:29.146756Z"
    },
    "papermill": {
     "duration": 0.037812,
     "end_time": "2025-08-19T19:03:29.149653",
     "exception": false,
     "start_time": "2025-08-19T19:03:29.111841",
     "status": "completed"
    },
    "tags": []
   },
   "outputs": [
    {
     "data": {
      "text/plain": [
       "4"
      ]
     },
     "execution_count": 62,
     "metadata": {},
     "output_type": "execute_result"
    }
   ],
   "source": [
    "sub_universes = universe_analysis.generate_sub_universes()\n",
    "len(sub_universes)"
   ]
  },
  {
   "cell_type": "code",
   "execution_count": 63,
   "id": "d9cfdaca",
   "metadata": {
    "execution": {
     "iopub.execute_input": "2025-08-19T19:03:29.191557Z",
     "iopub.status.busy": "2025-08-19T19:03:29.190252Z",
     "iopub.status.idle": "2025-08-19T19:03:29.228968Z",
     "shell.execute_reply": "2025-08-19T19:03:29.227153Z"
    },
    "papermill": {
     "duration": 0.056895,
     "end_time": "2025-08-19T19:03:29.231480",
     "exception": false,
     "start_time": "2025-08-19T19:03:29.174585",
     "status": "completed"
    },
    "tags": []
   },
   "outputs": [],
   "source": [
    "def filter_sub_universe_data(sub_universe, org_test):\n",
    "    # Keep all rows — no filtering\n",
    "    keep_rows_mask = np.ones(org_test.shape[0], dtype=bool)\n",
    "\n",
    "    print(f\"[INFO] Keeping all rows: {keep_rows_mask.sum()} rows retained.\")\n",
    "    return keep_rows_mask"
   ]
  },
  {
   "cell_type": "code",
   "execution_count": 64,
   "id": "2bc31ac1",
   "metadata": {
    "execution": {
     "iopub.execute_input": "2025-08-19T19:03:29.280181Z",
     "iopub.status.busy": "2025-08-19T19:03:29.279123Z",
     "iopub.status.idle": "2025-08-19T19:03:36.244285Z",
     "shell.execute_reply": "2025-08-19T19:03:36.242837Z"
    },
    "papermill": {
     "duration": 6.983966,
     "end_time": "2025-08-19T19:03:36.245865",
     "exception": false,
     "start_time": "2025-08-19T19:03:29.261899",
     "status": "completed"
    },
    "tags": []
   },
   "outputs": [
    {
     "name": "stdout",
     "output_type": "stream",
     "text": [
      "Stopping execution_time clock.\n",
      "[INFO] Keeping all rows: 89710 rows retained.\n"
     ]
    },
    {
     "name": "stdout",
     "output_type": "stream",
     "text": [
      "[INFO] Keeping all rows: 89710 rows retained.\n"
     ]
    },
    {
     "name": "stdout",
     "output_type": "stream",
     "text": [
      "[INFO] Keeping all rows: 89710 rows retained.\n"
     ]
    },
    {
     "name": "stdout",
     "output_type": "stream",
     "text": [
      "[INFO] Keeping all rows: 89710 rows retained.\n"
     ]
    },
    {
     "data": {
      "text/html": [
       "<div>\n",
       "<style scoped>\n",
       "    .dataframe tbody tr th:only-of-type {\n",
       "        vertical-align: middle;\n",
       "    }\n",
       "\n",
       "    .dataframe tbody tr th {\n",
       "        vertical-align: top;\n",
       "    }\n",
       "\n",
       "    .dataframe thead th {\n",
       "        text-align: right;\n",
       "    }\n",
       "</style>\n",
       "<table border=\"1\" class=\"dataframe\">\n",
       "  <thead>\n",
       "    <tr style=\"text-align: right;\">\n",
       "      <th></th>\n",
       "      <th>run_no</th>\n",
       "      <th>universe_id</th>\n",
       "      <th>universe_settings</th>\n",
       "      <th>execution_time</th>\n",
       "      <th>test_size_n</th>\n",
       "      <th>test_size_frac</th>\n",
       "      <th>fair_main_equalized_odds_difference</th>\n",
       "      <th>fair_main_equalized_odds_ratio</th>\n",
       "      <th>fair_main_demographic_parity_difference</th>\n",
       "      <th>fair_main_demographic_parity_ratio</th>\n",
       "      <th>...</th>\n",
       "      <th>perf_grp_precision_0</th>\n",
       "      <th>perf_grp_precision_1</th>\n",
       "      <th>perf_grp_false positive rate_0</th>\n",
       "      <th>perf_grp_false positive rate_1</th>\n",
       "      <th>perf_grp_false negative rate_0</th>\n",
       "      <th>perf_grp_false negative rate_1</th>\n",
       "      <th>perf_grp_selection rate_0</th>\n",
       "      <th>perf_grp_selection rate_1</th>\n",
       "      <th>perf_grp_count_0</th>\n",
       "      <th>perf_grp_count_1</th>\n",
       "    </tr>\n",
       "  </thead>\n",
       "  <tbody>\n",
       "    <tr>\n",
       "      <th>0</th>\n",
       "      <td>3</td>\n",
       "      <td>6877fc8381199d8a71543e1177303d2a</td>\n",
       "      <td>{\"cutoff\": \"quantile_0.1\", \"eval_fairness_grou...</td>\n",
       "      <td>24.201787</td>\n",
       "      <td>89710</td>\n",
       "      <td>1.0</td>\n",
       "      <td>0.084681</td>\n",
       "      <td>0.911169</td>\n",
       "      <td>0.074014</td>\n",
       "      <td>0.922673</td>\n",
       "      <td>...</td>\n",
       "      <td>NaN</td>\n",
       "      <td>NaN</td>\n",
       "      <td>NaN</td>\n",
       "      <td>NaN</td>\n",
       "      <td>NaN</td>\n",
       "      <td>NaN</td>\n",
       "      <td>NaN</td>\n",
       "      <td>NaN</td>\n",
       "      <td>NaN</td>\n",
       "      <td>NaN</td>\n",
       "    </tr>\n",
       "    <tr>\n",
       "      <th>0</th>\n",
       "      <td>3</td>\n",
       "      <td>6877fc8381199d8a71543e1177303d2a</td>\n",
       "      <td>{\"cutoff\": \"quantile_0.1\", \"eval_fairness_grou...</td>\n",
       "      <td>24.201787</td>\n",
       "      <td>89710</td>\n",
       "      <td>1.0</td>\n",
       "      <td>0.084681</td>\n",
       "      <td>0.911169</td>\n",
       "      <td>0.074014</td>\n",
       "      <td>0.922673</td>\n",
       "      <td>...</td>\n",
       "      <td>0.118871</td>\n",
       "      <td>0.146431</td>\n",
       "      <td>0.953280</td>\n",
       "      <td>0.868599</td>\n",
       "      <td>0.013091</td>\n",
       "      <td>0.021335</td>\n",
       "      <td>0.957157</td>\n",
       "      <td>0.883143</td>\n",
       "      <td>20540.0</td>\n",
       "      <td>69170.0</td>\n",
       "    </tr>\n",
       "    <tr>\n",
       "      <th>0</th>\n",
       "      <td>3</td>\n",
       "      <td>6877fc8381199d8a71543e1177303d2a</td>\n",
       "      <td>{\"cutoff\": \"quantile_0.25\", \"eval_fairness_gro...</td>\n",
       "      <td>24.201787</td>\n",
       "      <td>89710</td>\n",
       "      <td>1.0</td>\n",
       "      <td>0.084843</td>\n",
       "      <td>0.892507</td>\n",
       "      <td>0.071077</td>\n",
       "      <td>0.911686</td>\n",
       "      <td>...</td>\n",
       "      <td>NaN</td>\n",
       "      <td>NaN</td>\n",
       "      <td>NaN</td>\n",
       "      <td>NaN</td>\n",
       "      <td>NaN</td>\n",
       "      <td>NaN</td>\n",
       "      <td>NaN</td>\n",
       "      <td>NaN</td>\n",
       "      <td>NaN</td>\n",
       "      <td>NaN</td>\n",
       "    </tr>\n",
       "    <tr>\n",
       "      <th>0</th>\n",
       "      <td>3</td>\n",
       "      <td>6877fc8381199d8a71543e1177303d2a</td>\n",
       "      <td>{\"cutoff\": \"quantile_0.25\", \"eval_fairness_gro...</td>\n",
       "      <td>24.201787</td>\n",
       "      <td>89710</td>\n",
       "      <td>1.0</td>\n",
       "      <td>0.084843</td>\n",
       "      <td>0.892507</td>\n",
       "      <td>0.071077</td>\n",
       "      <td>0.911686</td>\n",
       "      <td>...</td>\n",
       "      <td>0.132357</td>\n",
       "      <td>0.166788</td>\n",
       "      <td>0.789291</td>\n",
       "      <td>0.704448</td>\n",
       "      <td>0.076014</td>\n",
       "      <td>0.073851</td>\n",
       "      <td>0.804820</td>\n",
       "      <td>0.733743</td>\n",
       "      <td>20540.0</td>\n",
       "      <td>69170.0</td>\n",
       "    </tr>\n",
       "  </tbody>\n",
       "</table>\n",
       "<p>4 rows × 50 columns</p>\n",
       "</div>"
      ],
      "text/plain": [
       "  run_no                       universe_id  \\\n",
       "0      3  6877fc8381199d8a71543e1177303d2a   \n",
       "0      3  6877fc8381199d8a71543e1177303d2a   \n",
       "0      3  6877fc8381199d8a71543e1177303d2a   \n",
       "0      3  6877fc8381199d8a71543e1177303d2a   \n",
       "\n",
       "                                   universe_settings  execution_time  \\\n",
       "0  {\"cutoff\": \"quantile_0.1\", \"eval_fairness_grou...       24.201787   \n",
       "0  {\"cutoff\": \"quantile_0.1\", \"eval_fairness_grou...       24.201787   \n",
       "0  {\"cutoff\": \"quantile_0.25\", \"eval_fairness_gro...       24.201787   \n",
       "0  {\"cutoff\": \"quantile_0.25\", \"eval_fairness_gro...       24.201787   \n",
       "\n",
       "   test_size_n  test_size_frac  fair_main_equalized_odds_difference  \\\n",
       "0        89710             1.0                             0.084681   \n",
       "0        89710             1.0                             0.084681   \n",
       "0        89710             1.0                             0.084843   \n",
       "0        89710             1.0                             0.084843   \n",
       "\n",
       "   fair_main_equalized_odds_ratio  fair_main_demographic_parity_difference  \\\n",
       "0                        0.911169                                 0.074014   \n",
       "0                        0.911169                                 0.074014   \n",
       "0                        0.892507                                 0.071077   \n",
       "0                        0.892507                                 0.071077   \n",
       "\n",
       "   fair_main_demographic_parity_ratio  ...  perf_grp_precision_0  \\\n",
       "0                            0.922673  ...                   NaN   \n",
       "0                            0.922673  ...              0.118871   \n",
       "0                            0.911686  ...                   NaN   \n",
       "0                            0.911686  ...              0.132357   \n",
       "\n",
       "   perf_grp_precision_1  perf_grp_false positive rate_0  \\\n",
       "0                   NaN                             NaN   \n",
       "0              0.146431                        0.953280   \n",
       "0                   NaN                             NaN   \n",
       "0              0.166788                        0.789291   \n",
       "\n",
       "   perf_grp_false positive rate_1  perf_grp_false negative rate_0  \\\n",
       "0                             NaN                             NaN   \n",
       "0                        0.868599                        0.013091   \n",
       "0                             NaN                             NaN   \n",
       "0                        0.704448                        0.076014   \n",
       "\n",
       "   perf_grp_false negative rate_1  perf_grp_selection rate_0  \\\n",
       "0                             NaN                        NaN   \n",
       "0                        0.021335                   0.957157   \n",
       "0                             NaN                        NaN   \n",
       "0                        0.073851                   0.804820   \n",
       "\n",
       "   perf_grp_selection rate_1  perf_grp_count_0  perf_grp_count_1  \n",
       "0                        NaN               NaN               NaN  \n",
       "0                   0.883143           20540.0           69170.0  \n",
       "0                        NaN               NaN               NaN  \n",
       "0                   0.733743           20540.0           69170.0  \n",
       "\n",
       "[4 rows x 50 columns]"
      ]
     },
     "execution_count": 64,
     "metadata": {},
     "output_type": "execute_result"
    }
   ],
   "source": [
    "final_output = universe_analysis.generate_final_output(\n",
    "    y_pred_prob=probs_test,\n",
    "    y_test=y_true,\n",
    "    org_test=org_test,\n",
    "    filter_data=filter_sub_universe_data,\n",
    "    cp_metrics_df=cp_metrics_df,\n",
    "    save=True,\n",
    ")\n",
    "final_output"
   ]
  },
  {
   "cell_type": "code",
   "execution_count": null,
   "id": "8b80a1ff",
   "metadata": {
    "papermill": {
     "duration": 0.019233,
     "end_time": "2025-08-19T19:03:36.288502",
     "exception": false,
     "start_time": "2025-08-19T19:03:36.269269",
     "status": "completed"
    },
    "tags": []
   },
   "outputs": [],
   "source": []
  },
  {
   "cell_type": "code",
   "execution_count": null,
   "id": "275c9fad",
   "metadata": {
    "papermill": {
     "duration": 0.015282,
     "end_time": "2025-08-19T19:03:36.319783",
     "exception": false,
     "start_time": "2025-08-19T19:03:36.304501",
     "status": "completed"
    },
    "tags": []
   },
   "outputs": [],
   "source": []
  }
 ],
 "metadata": {
  "celltoolbar": "Tags",
  "kernelspec": {
   "display_name": "Python (CMA Fairness)",
   "language": "python",
   "name": "cma_fair_env"
  },
  "language_info": {
   "codemirror_mode": {
    "name": "ipython",
    "version": 3
   },
   "file_extension": ".py",
   "mimetype": "text/x-python",
   "name": "python",
   "nbconvert_exporter": "python",
   "pygments_lexer": "ipython3",
   "version": "3.10.12"
  },
  "papermill": {
   "default_parameters": {},
   "duration": 34.867749,
   "end_time": "2025-08-19T19:03:37.158467",
   "environment_variables": {},
   "exception": null,
   "input_path": "universe_analysis.ipynb",
   "output_path": "output/runs/3/notebooks/m_3-6877fc8381199d8a71543e1177303d2a.ipynb",
   "parameters": {
    "output_dir": "output",
    "run_no": "3",
    "seed": "2023",
    "universe": "{\"cutoff\": [\"quantile_0.1\", \"quantile_0.25\"], \"eval_fairness_grouping\": [\"majority-minority\", \"nationality-all\"], \"exclude_features\": \"nationality\", \"exclude_subgroups\": \"drop-non-german\", \"model\": \"gbm\", \"scale\": \"do-not-scale\", \"training_size\": \"1k\", \"training_year\": \"2012_14\"}",
    "universe_id": "6877fc8381199d8a71543e1177303d2a"
   },
   "start_time": "2025-08-19T19:03:02.290718",
   "version": "2.6.0"
  }
 },
 "nbformat": 4,
 "nbformat_minor": 5
}