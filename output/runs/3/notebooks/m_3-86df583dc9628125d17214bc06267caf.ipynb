{
 "cells": [
  {
   "cell_type": "markdown",
   "id": "ef23dbb3",
   "metadata": {
    "papermill": {
     "duration": 0.013956,
     "end_time": "2025-08-19T18:31:56.656291",
     "exception": false,
     "start_time": "2025-08-19T18:31:56.642335",
     "status": "completed"
    },
    "tags": []
   },
   "source": [
    "# Setup"
   ]
  },
  {
   "cell_type": "code",
   "execution_count": 1,
   "id": "0bc8e7dc",
   "metadata": {
    "execution": {
     "iopub.execute_input": "2025-08-19T18:31:56.679819Z",
     "iopub.status.busy": "2025-08-19T18:31:56.679013Z",
     "iopub.status.idle": "2025-08-19T18:31:56.696671Z",
     "shell.execute_reply": "2025-08-19T18:31:56.695830Z"
    },
    "papermill": {
     "duration": 0.029629,
     "end_time": "2025-08-19T18:31:56.698602",
     "exception": false,
     "start_time": "2025-08-19T18:31:56.668973",
     "status": "completed"
    },
    "tags": []
   },
   "outputs": [
    {
     "name": "stdout",
     "output_type": "stream",
     "text": [
      "/dss/dsshome1/0C/ra93lal2/cma/CMA_Fairness_v2\n"
     ]
    },
    {
     "name": "stderr",
     "output_type": "stream",
     "text": [
      "/dss/dsshome1/0C/ra93lal2/.local/share/virtualenvs/CMA_Fairness_v2-3j10GkSs/lib/python3.10/site-packages/IPython/core/magics/osm.py:393: UserWarning: This is now an optional IPython functionality, using bookmarks requires you to install the `pickleshare` library.\n",
      "  bkms = self.shell.db.get('bookmarks', {})\n",
      "/dss/dsshome1/0C/ra93lal2/.local/share/virtualenvs/CMA_Fairness_v2-3j10GkSs/lib/python3.10/site-packages/IPython/core/magics/osm.py:417: UserWarning: This is now an optional IPython functionality, setting dhist requires you to install the `pickleshare` library.\n",
      "  self.shell.db['dhist'] = compress_dhist(dhist)[-100:]\n"
     ]
    }
   ],
   "source": [
    "%cd ~/cma/CMA_Fairness_v2"
   ]
  },
  {
   "cell_type": "markdown",
   "id": "9d235661",
   "metadata": {
    "papermill": {
     "duration": 0.008654,
     "end_time": "2025-08-19T18:31:56.716930",
     "exception": false,
     "start_time": "2025-08-19T18:31:56.708276",
     "status": "completed"
    },
    "tags": []
   },
   "source": [
    "The following cell holds the definition of our parameters, these values can be overriden by rendering the with e.g. the following command:\n",
    "\n",
    "papermill -p alpha 0.2 -p ratio 0.3 universe_analysis.ipynb output/test_run.ipynb"
   ]
  },
  {
   "cell_type": "code",
   "execution_count": 2,
   "id": "4a789d8e",
   "metadata": {
    "execution": {
     "iopub.execute_input": "2025-08-19T18:31:56.737192Z",
     "iopub.status.busy": "2025-08-19T18:31:56.735490Z",
     "iopub.status.idle": "2025-08-19T18:31:56.742402Z",
     "shell.execute_reply": "2025-08-19T18:31:56.740035Z"
    },
    "papermill": {
     "duration": 0.018951,
     "end_time": "2025-08-19T18:31:56.744897",
     "exception": false,
     "start_time": "2025-08-19T18:31:56.725946",
     "status": "completed"
    },
    "tags": []
   },
   "outputs": [
    {
     "name": "stdout",
     "output_type": "stream",
     "text": [
      "Current working directory: /dss/dsshome1/0C/ra93lal2/cma/CMA_Fairness_v2\n"
     ]
    }
   ],
   "source": [
    "import os\n",
    "print(\"Current working directory:\", os.getcwd())"
   ]
  },
  {
   "cell_type": "code",
   "execution_count": 3,
   "id": "4132aaed",
   "metadata": {
    "execution": {
     "iopub.execute_input": "2025-08-19T18:31:56.778684Z",
     "iopub.status.busy": "2025-08-19T18:31:56.777759Z",
     "iopub.status.idle": "2025-08-19T18:31:56.786421Z",
     "shell.execute_reply": "2025-08-19T18:31:56.784760Z"
    },
    "papermill": {
     "duration": 0.022637,
     "end_time": "2025-08-19T18:31:56.787840",
     "exception": false,
     "start_time": "2025-08-19T18:31:56.765203",
     "status": "completed"
    },
    "tags": [
     "parameters"
    ]
   },
   "outputs": [],
   "source": [
    "run_no = 0\n",
    "universe_id = \"test\"\n",
    "universe = {\n",
    "    \"training_size\": \"5k\", # \"25k\", \"5k\", \"1k\"\n",
    "    \"training_year\": \"2012_14\", # \"2014\", \"2012_14\", \"2010_14\"\n",
    "    \"scale\": \"scale\", # \"scale\", \"do-not-scale\",\n",
    "    \"model\": \"elasticnet\", # \"logreg\", \"penalized_logreg\", \"rf\", \"gbm\", \"elasticnet\"\n",
    "    \"cutoff\": [\"quantile_0.15\", \"quantile_0.30\"],\n",
    "    \"exclude_features\": \"age\", # \"none\", \"nationality\", \"sex\", \"nationality-sex\", \"age\"\n",
    "    \"exclude_subgroups\": \"drop-non-german\", # \"keep-all\", \"drop-non-german\"\n",
    "    \"eval_fairness_grouping\": [\"majority-minority\", \"nationality-all\"]\n",
    "}\n",
    "\n",
    "output_dir=\"./output\"\n",
    "seed=0"
   ]
  },
  {
   "cell_type": "code",
   "execution_count": 4,
   "id": "25ee991e",
   "metadata": {
    "execution": {
     "iopub.execute_input": "2025-08-19T18:31:56.811261Z",
     "iopub.status.busy": "2025-08-19T18:31:56.809898Z",
     "iopub.status.idle": "2025-08-19T18:31:56.818376Z",
     "shell.execute_reply": "2025-08-19T18:31:56.816782Z"
    },
    "papermill": {
     "duration": 0.021148,
     "end_time": "2025-08-19T18:31:56.820592",
     "exception": false,
     "start_time": "2025-08-19T18:31:56.799444",
     "status": "completed"
    },
    "tags": [
     "injected-parameters"
    ]
   },
   "outputs": [],
   "source": [
    "# Parameters\n",
    "universe_id = \"86df583dc9628125d17214bc06267caf\"\n",
    "run_no = \"3\"\n",
    "universe = \"{\\\"cutoff\\\": [\\\"quantile_0.1\\\", \\\"quantile_0.25\\\"], \\\"eval_fairness_grouping\\\": [\\\"majority-minority\\\", \\\"nationality-all\\\"], \\\"exclude_features\\\": \\\"sex\\\", \\\"exclude_subgroups\\\": \\\"drop-non-german\\\", \\\"model\\\": \\\"penalized_logreg\\\", \\\"scale\\\": \\\"scale\\\", \\\"training_size\\\": \\\"5k\\\", \\\"training_year\\\": \\\"2012_14\\\"}\"\n",
    "output_dir = \"output\"\n",
    "seed = \"2023\"\n"
   ]
  },
  {
   "cell_type": "code",
   "execution_count": 5,
   "id": "a5d7941f",
   "metadata": {
    "execution": {
     "iopub.execute_input": "2025-08-19T18:31:56.844353Z",
     "iopub.status.busy": "2025-08-19T18:31:56.842560Z",
     "iopub.status.idle": "2025-08-19T18:31:56.848648Z",
     "shell.execute_reply": "2025-08-19T18:31:56.847592Z"
    },
    "papermill": {
     "duration": 0.019167,
     "end_time": "2025-08-19T18:31:56.851266",
     "exception": false,
     "start_time": "2025-08-19T18:31:56.832099",
     "status": "completed"
    },
    "tags": []
   },
   "outputs": [],
   "source": [
    "import json\n",
    "if isinstance(universe, str):\n",
    "    universe = json.loads(universe)"
   ]
  },
  {
   "cell_type": "code",
   "execution_count": 6,
   "id": "7076ccb1",
   "metadata": {
    "execution": {
     "iopub.execute_input": "2025-08-19T18:31:56.884586Z",
     "iopub.status.busy": "2025-08-19T18:31:56.883078Z",
     "iopub.status.idle": "2025-08-19T18:31:56.938368Z",
     "shell.execute_reply": "2025-08-19T18:31:56.937491Z"
    },
    "papermill": {
     "duration": 0.069793,
     "end_time": "2025-08-19T18:31:56.940465",
     "exception": false,
     "start_time": "2025-08-19T18:31:56.870672",
     "status": "completed"
    },
    "tags": []
   },
   "outputs": [],
   "source": [
    "# Auto-reload the custom package\n",
    "%load_ext autoreload\n",
    "%autoreload 1\n",
    "%aimport fairness_multiverse"
   ]
  },
  {
   "cell_type": "code",
   "execution_count": 7,
   "id": "94c8eb93",
   "metadata": {
    "execution": {
     "iopub.execute_input": "2025-08-19T18:31:56.976003Z",
     "iopub.status.busy": "2025-08-19T18:31:56.974887Z",
     "iopub.status.idle": "2025-08-19T18:31:58.689220Z",
     "shell.execute_reply": "2025-08-19T18:31:58.687910Z"
    },
    "papermill": {
     "duration": 1.738042,
     "end_time": "2025-08-19T18:31:58.691008",
     "exception": false,
     "start_time": "2025-08-19T18:31:56.952966",
     "status": "completed"
    },
    "tags": []
   },
   "outputs": [],
   "source": [
    "from fairness_multiverse.universe import UniverseAnalysis\n",
    "\n",
    "universe_analysis = UniverseAnalysis(\n",
    "    run_no = run_no,\n",
    "    universe_id = universe_id,\n",
    "    universe = universe,\n",
    "    output_dir=output_dir,\n",
    ")"
   ]
  },
  {
   "cell_type": "code",
   "execution_count": 8,
   "id": "2a6381cf",
   "metadata": {
    "execution": {
     "iopub.execute_input": "2025-08-19T18:31:58.715936Z",
     "iopub.status.busy": "2025-08-19T18:31:58.715355Z",
     "iopub.status.idle": "2025-08-19T18:31:58.722165Z",
     "shell.execute_reply": "2025-08-19T18:31:58.721427Z"
    },
    "papermill": {
     "duration": 0.022107,
     "end_time": "2025-08-19T18:31:58.723891",
     "exception": false,
     "start_time": "2025-08-19T18:31:58.701784",
     "status": "completed"
    },
    "tags": []
   },
   "outputs": [
    {
     "name": "stdout",
     "output_type": "stream",
     "text": [
      "Using Seed: 2023\n"
     ]
    }
   ],
   "source": [
    "import numpy as np\n",
    "parsed_seed = int(seed)\n",
    "np.random.seed(parsed_seed)\n",
    "print(f\"Using Seed: {parsed_seed}\")"
   ]
  },
  {
   "cell_type": "markdown",
   "id": "b6e958b4",
   "metadata": {
    "papermill": {
     "duration": 0.015683,
     "end_time": "2025-08-19T18:31:58.761122",
     "exception": false,
     "start_time": "2025-08-19T18:31:58.745439",
     "status": "completed"
    },
    "tags": []
   },
   "source": [
    "# Loading Data"
   ]
  },
  {
   "cell_type": "code",
   "execution_count": 9,
   "id": "98701482",
   "metadata": {
    "execution": {
     "iopub.execute_input": "2025-08-19T18:31:58.795657Z",
     "iopub.status.busy": "2025-08-19T18:31:58.795097Z",
     "iopub.status.idle": "2025-08-19T18:32:09.197813Z",
     "shell.execute_reply": "2025-08-19T18:32:09.196778Z"
    },
    "papermill": {
     "duration": 10.418155,
     "end_time": "2025-08-19T18:32:09.200850",
     "exception": false,
     "start_time": "2025-08-19T18:31:58.782695",
     "status": "completed"
    },
    "tags": []
   },
   "outputs": [
    {
     "name": "stdout",
     "output_type": "stream",
     "text": [
      "Loading SIAB data from cache: data/siab_cached.csv.gz\n"
     ]
    },
    {
     "name": "stdout",
     "output_type": "stream",
     "text": [
      "(643690, 164)\n"
     ]
    }
   ],
   "source": [
    "from pathlib import Path\n",
    "import pandas as pd\n",
    "\n",
    "# File paths\n",
    "raw_file = Path(\"data/raw/siab.csv\")\n",
    "cache_file = Path(\"data/siab_cached.csv.gz\")\n",
    "\n",
    "# Ensure cache directory exists\n",
    "cache_file.parent.mkdir(parents=True, exist_ok=True)\n",
    "\n",
    "# Load with simple caching\n",
    "if cache_file.exists():\n",
    "    print(f\"Loading SIAB data from cache: {cache_file}\")\n",
    "    siab = pd.read_csv(cache_file, compression='gzip')\n",
    "else:\n",
    "    print(f\"Cache not found. Reading raw SIAB data: {raw_file}\")\n",
    "    siab = pd.read_csv(raw_file)\n",
    "    siab.to_csv(cache_file, index=False, compression='gzip')\n",
    "    print(f\"Cached SIAB data to: {cache_file}\")\n",
    "\n",
    "print(siab.shape)"
   ]
  },
  {
   "cell_type": "code",
   "execution_count": 10,
   "id": "058d2abb",
   "metadata": {
    "execution": {
     "iopub.execute_input": "2025-08-19T18:32:09.244600Z",
     "iopub.status.busy": "2025-08-19T18:32:09.242420Z",
     "iopub.status.idle": "2025-08-19T18:32:09.448341Z",
     "shell.execute_reply": "2025-08-19T18:32:09.447582Z"
    },
    "papermill": {
     "duration": 0.233546,
     "end_time": "2025-08-19T18:32:09.449611",
     "exception": false,
     "start_time": "2025-08-19T18:32:09.216065",
     "status": "completed"
    },
    "tags": []
   },
   "outputs": [
    {
     "data": {
      "text/html": [
       "<div>\n",
       "<style scoped>\n",
       "    .dataframe tbody tr th:only-of-type {\n",
       "        vertical-align: middle;\n",
       "    }\n",
       "\n",
       "    .dataframe tbody tr th {\n",
       "        vertical-align: top;\n",
       "    }\n",
       "\n",
       "    .dataframe thead th {\n",
       "        text-align: right;\n",
       "    }\n",
       "</style>\n",
       "<table border=\"1\" class=\"dataframe\">\n",
       "  <thead>\n",
       "    <tr style=\"text-align: right;\">\n",
       "      <th></th>\n",
       "      <th>persnr</th>\n",
       "      <th>year</th>\n",
       "      <th>nrEntry</th>\n",
       "      <th>ltue</th>\n",
       "      <th>employed_before</th>\n",
       "      <th>receipt_leh_before</th>\n",
       "      <th>receipt_lhg_before</th>\n",
       "      <th>se_before</th>\n",
       "      <th>ASU_notue_seeking_before</th>\n",
       "      <th>ASU_other_before</th>\n",
       "      <th>...</th>\n",
       "      <th>minijob_tot_dur_byage</th>\n",
       "      <th>ft_tot_dur_byage</th>\n",
       "      <th>befrist_tot_dur_byage</th>\n",
       "      <th>leih_tot_dur_byage</th>\n",
       "      <th>LHG_tot_dur_byage</th>\n",
       "      <th>LEH_tot_dur_byage</th>\n",
       "      <th>almp_tot_dur_byage</th>\n",
       "      <th>almp_aw_tot_dur_byage</th>\n",
       "      <th>se_tot_dur_byage</th>\n",
       "      <th>seeking1_tot_dur_byage</th>\n",
       "    </tr>\n",
       "  </thead>\n",
       "  <tbody>\n",
       "    <tr>\n",
       "      <th>0</th>\n",
       "      <td>7</td>\n",
       "      <td>2015</td>\n",
       "      <td>1</td>\n",
       "      <td>0</td>\n",
       "      <td>1</td>\n",
       "      <td>0</td>\n",
       "      <td>0</td>\n",
       "      <td>0</td>\n",
       "      <td>1</td>\n",
       "      <td>0</td>\n",
       "      <td>...</td>\n",
       "      <td>0.000000</td>\n",
       "      <td>0.000000</td>\n",
       "      <td>15.043478</td>\n",
       "      <td>0.000000</td>\n",
       "      <td>0.000000</td>\n",
       "      <td>0.000000</td>\n",
       "      <td>0.000000</td>\n",
       "      <td>0.000000</td>\n",
       "      <td>0.000000</td>\n",
       "      <td>0.000000</td>\n",
       "    </tr>\n",
       "    <tr>\n",
       "      <th>1</th>\n",
       "      <td>18</td>\n",
       "      <td>2010</td>\n",
       "      <td>1</td>\n",
       "      <td>1</td>\n",
       "      <td>0</td>\n",
       "      <td>0</td>\n",
       "      <td>0</td>\n",
       "      <td>0</td>\n",
       "      <td>0</td>\n",
       "      <td>0</td>\n",
       "      <td>...</td>\n",
       "      <td>0.000000</td>\n",
       "      <td>0.000000</td>\n",
       "      <td>0.000000</td>\n",
       "      <td>0.000000</td>\n",
       "      <td>0.000000</td>\n",
       "      <td>0.000000</td>\n",
       "      <td>0.000000</td>\n",
       "      <td>0.000000</td>\n",
       "      <td>0.000000</td>\n",
       "      <td>0.000000</td>\n",
       "    </tr>\n",
       "    <tr>\n",
       "      <th>2</th>\n",
       "      <td>18</td>\n",
       "      <td>2011</td>\n",
       "      <td>2</td>\n",
       "      <td>0</td>\n",
       "      <td>1</td>\n",
       "      <td>0</td>\n",
       "      <td>1</td>\n",
       "      <td>0</td>\n",
       "      <td>1</td>\n",
       "      <td>0</td>\n",
       "      <td>...</td>\n",
       "      <td>2.714286</td>\n",
       "      <td>2.714286</td>\n",
       "      <td>0.000000</td>\n",
       "      <td>0.000000</td>\n",
       "      <td>10.775510</td>\n",
       "      <td>0.000000</td>\n",
       "      <td>8.367347</td>\n",
       "      <td>0.000000</td>\n",
       "      <td>0.000000</td>\n",
       "      <td>9.836735</td>\n",
       "    </tr>\n",
       "    <tr>\n",
       "      <th>3</th>\n",
       "      <td>18</td>\n",
       "      <td>2012</td>\n",
       "      <td>3</td>\n",
       "      <td>0</td>\n",
       "      <td>1</td>\n",
       "      <td>0</td>\n",
       "      <td>1</td>\n",
       "      <td>0</td>\n",
       "      <td>1</td>\n",
       "      <td>0</td>\n",
       "      <td>...</td>\n",
       "      <td>4.200000</td>\n",
       "      <td>4.200000</td>\n",
       "      <td>0.000000</td>\n",
       "      <td>0.000000</td>\n",
       "      <td>12.100000</td>\n",
       "      <td>0.000000</td>\n",
       "      <td>9.400000</td>\n",
       "      <td>0.000000</td>\n",
       "      <td>0.000000</td>\n",
       "      <td>9.960000</td>\n",
       "    </tr>\n",
       "    <tr>\n",
       "      <th>4</th>\n",
       "      <td>18</td>\n",
       "      <td>2012</td>\n",
       "      <td>4</td>\n",
       "      <td>0</td>\n",
       "      <td>1</td>\n",
       "      <td>0</td>\n",
       "      <td>1</td>\n",
       "      <td>0</td>\n",
       "      <td>1</td>\n",
       "      <td>0</td>\n",
       "      <td>...</td>\n",
       "      <td>5.460000</td>\n",
       "      <td>5.460000</td>\n",
       "      <td>0.000000</td>\n",
       "      <td>0.000000</td>\n",
       "      <td>13.360000</td>\n",
       "      <td>0.000000</td>\n",
       "      <td>10.320000</td>\n",
       "      <td>0.000000</td>\n",
       "      <td>0.000000</td>\n",
       "      <td>10.280000</td>\n",
       "    </tr>\n",
       "    <tr>\n",
       "      <th>...</th>\n",
       "      <td>...</td>\n",
       "      <td>...</td>\n",
       "      <td>...</td>\n",
       "      <td>...</td>\n",
       "      <td>...</td>\n",
       "      <td>...</td>\n",
       "      <td>...</td>\n",
       "      <td>...</td>\n",
       "      <td>...</td>\n",
       "      <td>...</td>\n",
       "      <td>...</td>\n",
       "      <td>...</td>\n",
       "      <td>...</td>\n",
       "      <td>...</td>\n",
       "      <td>...</td>\n",
       "      <td>...</td>\n",
       "      <td>...</td>\n",
       "      <td>...</td>\n",
       "      <td>...</td>\n",
       "      <td>...</td>\n",
       "      <td>...</td>\n",
       "    </tr>\n",
       "    <tr>\n",
       "      <th>643685</th>\n",
       "      <td>1827860</td>\n",
       "      <td>2013</td>\n",
       "      <td>1</td>\n",
       "      <td>0</td>\n",
       "      <td>0</td>\n",
       "      <td>0</td>\n",
       "      <td>1</td>\n",
       "      <td>0</td>\n",
       "      <td>0</td>\n",
       "      <td>1</td>\n",
       "      <td>...</td>\n",
       "      <td>0.000000</td>\n",
       "      <td>0.000000</td>\n",
       "      <td>0.000000</td>\n",
       "      <td>0.000000</td>\n",
       "      <td>0.612903</td>\n",
       "      <td>0.000000</td>\n",
       "      <td>0.000000</td>\n",
       "      <td>0.000000</td>\n",
       "      <td>0.000000</td>\n",
       "      <td>0.000000</td>\n",
       "    </tr>\n",
       "    <tr>\n",
       "      <th>643686</th>\n",
       "      <td>1827860</td>\n",
       "      <td>2015</td>\n",
       "      <td>2</td>\n",
       "      <td>1</td>\n",
       "      <td>0</td>\n",
       "      <td>0</td>\n",
       "      <td>1</td>\n",
       "      <td>0</td>\n",
       "      <td>1</td>\n",
       "      <td>0</td>\n",
       "      <td>...</td>\n",
       "      <td>0.000000</td>\n",
       "      <td>0.000000</td>\n",
       "      <td>0.212121</td>\n",
       "      <td>0.212121</td>\n",
       "      <td>17.363636</td>\n",
       "      <td>0.000000</td>\n",
       "      <td>8.909091</td>\n",
       "      <td>0.000000</td>\n",
       "      <td>0.000000</td>\n",
       "      <td>7.121212</td>\n",
       "    </tr>\n",
       "    <tr>\n",
       "      <th>643687</th>\n",
       "      <td>1827860</td>\n",
       "      <td>2016</td>\n",
       "      <td>3</td>\n",
       "      <td>1</td>\n",
       "      <td>0</td>\n",
       "      <td>0</td>\n",
       "      <td>1</td>\n",
       "      <td>1</td>\n",
       "      <td>0</td>\n",
       "      <td>1</td>\n",
       "      <td>...</td>\n",
       "      <td>0.000000</td>\n",
       "      <td>0.000000</td>\n",
       "      <td>0.294118</td>\n",
       "      <td>0.205882</td>\n",
       "      <td>34.705882</td>\n",
       "      <td>0.000000</td>\n",
       "      <td>10.352941</td>\n",
       "      <td>1.705882</td>\n",
       "      <td>1.705882</td>\n",
       "      <td>23.911765</td>\n",
       "    </tr>\n",
       "    <tr>\n",
       "      <th>643688</th>\n",
       "      <td>1827869</td>\n",
       "      <td>2013</td>\n",
       "      <td>1</td>\n",
       "      <td>1</td>\n",
       "      <td>1</td>\n",
       "      <td>0</td>\n",
       "      <td>0</td>\n",
       "      <td>0</td>\n",
       "      <td>1</td>\n",
       "      <td>0</td>\n",
       "      <td>...</td>\n",
       "      <td>0.000000</td>\n",
       "      <td>0.000000</td>\n",
       "      <td>0.000000</td>\n",
       "      <td>0.000000</td>\n",
       "      <td>0.000000</td>\n",
       "      <td>0.525424</td>\n",
       "      <td>0.000000</td>\n",
       "      <td>0.000000</td>\n",
       "      <td>0.000000</td>\n",
       "      <td>0.000000</td>\n",
       "    </tr>\n",
       "    <tr>\n",
       "      <th>643689</th>\n",
       "      <td>1827869</td>\n",
       "      <td>2014</td>\n",
       "      <td>2</td>\n",
       "      <td>0</td>\n",
       "      <td>0</td>\n",
       "      <td>1</td>\n",
       "      <td>0</td>\n",
       "      <td>0</td>\n",
       "      <td>1</td>\n",
       "      <td>0</td>\n",
       "      <td>...</td>\n",
       "      <td>0.000000</td>\n",
       "      <td>0.666667</td>\n",
       "      <td>0.666667</td>\n",
       "      <td>0.000000</td>\n",
       "      <td>0.000000</td>\n",
       "      <td>8.950000</td>\n",
       "      <td>1.033333</td>\n",
       "      <td>0.083333</td>\n",
       "      <td>0.083333</td>\n",
       "      <td>8.133333</td>\n",
       "    </tr>\n",
       "  </tbody>\n",
       "</table>\n",
       "<p>643690 rows × 164 columns</p>\n",
       "</div>"
      ],
      "text/plain": [
       "         persnr  year  nrEntry  ltue  employed_before  receipt_leh_before  \\\n",
       "0             7  2015        1     0                1                   0   \n",
       "1            18  2010        1     1                0                   0   \n",
       "2            18  2011        2     0                1                   0   \n",
       "3            18  2012        3     0                1                   0   \n",
       "4            18  2012        4     0                1                   0   \n",
       "...         ...   ...      ...   ...              ...                 ...   \n",
       "643685  1827860  2013        1     0                0                   0   \n",
       "643686  1827860  2015        2     1                0                   0   \n",
       "643687  1827860  2016        3     1                0                   0   \n",
       "643688  1827869  2013        1     1                1                   0   \n",
       "643689  1827869  2014        2     0                0                   1   \n",
       "\n",
       "        receipt_lhg_before  se_before  ASU_notue_seeking_before  \\\n",
       "0                        0          0                         1   \n",
       "1                        0          0                         0   \n",
       "2                        1          0                         1   \n",
       "3                        1          0                         1   \n",
       "4                        1          0                         1   \n",
       "...                    ...        ...                       ...   \n",
       "643685                   1          0                         0   \n",
       "643686                   1          0                         1   \n",
       "643687                   1          1                         0   \n",
       "643688                   0          0                         1   \n",
       "643689                   0          0                         1   \n",
       "\n",
       "        ASU_other_before  ...  minijob_tot_dur_byage  ft_tot_dur_byage  \\\n",
       "0                      0  ...               0.000000          0.000000   \n",
       "1                      0  ...               0.000000          0.000000   \n",
       "2                      0  ...               2.714286          2.714286   \n",
       "3                      0  ...               4.200000          4.200000   \n",
       "4                      0  ...               5.460000          5.460000   \n",
       "...                  ...  ...                    ...               ...   \n",
       "643685                 1  ...               0.000000          0.000000   \n",
       "643686                 0  ...               0.000000          0.000000   \n",
       "643687                 1  ...               0.000000          0.000000   \n",
       "643688                 0  ...               0.000000          0.000000   \n",
       "643689                 0  ...               0.000000          0.666667   \n",
       "\n",
       "        befrist_tot_dur_byage  leih_tot_dur_byage  LHG_tot_dur_byage  \\\n",
       "0                   15.043478            0.000000           0.000000   \n",
       "1                    0.000000            0.000000           0.000000   \n",
       "2                    0.000000            0.000000          10.775510   \n",
       "3                    0.000000            0.000000          12.100000   \n",
       "4                    0.000000            0.000000          13.360000   \n",
       "...                       ...                 ...                ...   \n",
       "643685               0.000000            0.000000           0.612903   \n",
       "643686               0.212121            0.212121          17.363636   \n",
       "643687               0.294118            0.205882          34.705882   \n",
       "643688               0.000000            0.000000           0.000000   \n",
       "643689               0.666667            0.000000           0.000000   \n",
       "\n",
       "        LEH_tot_dur_byage  almp_tot_dur_byage  almp_aw_tot_dur_byage  \\\n",
       "0                0.000000            0.000000               0.000000   \n",
       "1                0.000000            0.000000               0.000000   \n",
       "2                0.000000            8.367347               0.000000   \n",
       "3                0.000000            9.400000               0.000000   \n",
       "4                0.000000           10.320000               0.000000   \n",
       "...                   ...                 ...                    ...   \n",
       "643685           0.000000            0.000000               0.000000   \n",
       "643686           0.000000            8.909091               0.000000   \n",
       "643687           0.000000           10.352941               1.705882   \n",
       "643688           0.525424            0.000000               0.000000   \n",
       "643689           8.950000            1.033333               0.083333   \n",
       "\n",
       "        se_tot_dur_byage  seeking1_tot_dur_byage  \n",
       "0               0.000000                0.000000  \n",
       "1               0.000000                0.000000  \n",
       "2               0.000000                9.836735  \n",
       "3               0.000000                9.960000  \n",
       "4               0.000000               10.280000  \n",
       "...                  ...                     ...  \n",
       "643685          0.000000                0.000000  \n",
       "643686          0.000000                7.121212  \n",
       "643687          1.705882               23.911765  \n",
       "643688          0.000000                0.000000  \n",
       "643689          0.083333                8.133333  \n",
       "\n",
       "[643690 rows x 164 columns]"
      ]
     },
     "execution_count": 10,
     "metadata": {},
     "output_type": "execute_result"
    }
   ],
   "source": [
    "siab"
   ]
  },
  {
   "cell_type": "markdown",
   "id": "1f87e805",
   "metadata": {
    "papermill": {
     "duration": 0.009844,
     "end_time": "2025-08-19T18:32:09.469846",
     "exception": false,
     "start_time": "2025-08-19T18:32:09.460002",
     "status": "completed"
    },
    "tags": []
   },
   "source": [
    "# Splitting Data and Setting Training Data Size"
   ]
  },
  {
   "cell_type": "code",
   "execution_count": 11,
   "id": "910ae358",
   "metadata": {
    "execution": {
     "iopub.execute_input": "2025-08-19T18:32:09.490903Z",
     "iopub.status.busy": "2025-08-19T18:32:09.490414Z",
     "iopub.status.idle": "2025-08-19T18:32:10.125831Z",
     "shell.execute_reply": "2025-08-19T18:32:10.124357Z"
    },
    "papermill": {
     "duration": 0.648021,
     "end_time": "2025-08-19T18:32:10.127573",
     "exception": false,
     "start_time": "2025-08-19T18:32:09.479552",
     "status": "completed"
    },
    "tags": []
   },
   "outputs": [],
   "source": [
    "from fairness_multiverse.universe import sample_by_year_size\n",
    "\n",
    "siab_train = sample_by_year_size(siab,\n",
    "                               training_year=universe[\"training_year\"],\n",
    "                               training_size=universe[\"training_size\"])"
   ]
  },
  {
   "cell_type": "code",
   "execution_count": 12,
   "id": "919c8ff5",
   "metadata": {
    "execution": {
     "iopub.execute_input": "2025-08-19T18:32:10.160449Z",
     "iopub.status.busy": "2025-08-19T18:32:10.159383Z",
     "iopub.status.idle": "2025-08-19T18:32:10.174422Z",
     "shell.execute_reply": "2025-08-19T18:32:10.172826Z"
    },
    "papermill": {
     "duration": 0.038319,
     "end_time": "2025-08-19T18:32:10.176219",
     "exception": false,
     "start_time": "2025-08-19T18:32:10.137900",
     "status": "completed"
    },
    "tags": []
   },
   "outputs": [
    {
     "data": {
      "text/plain": [
       "(5000, 164)"
      ]
     },
     "execution_count": 12,
     "metadata": {},
     "output_type": "execute_result"
    }
   ],
   "source": [
    "siab_train.shape"
   ]
  },
  {
   "cell_type": "code",
   "execution_count": 13,
   "id": "feb13bf4",
   "metadata": {
    "execution": {
     "iopub.execute_input": "2025-08-19T18:32:10.233837Z",
     "iopub.status.busy": "2025-08-19T18:32:10.233203Z",
     "iopub.status.idle": "2025-08-19T18:32:10.245664Z",
     "shell.execute_reply": "2025-08-19T18:32:10.244922Z"
    },
    "papermill": {
     "duration": 0.028998,
     "end_time": "2025-08-19T18:32:10.247344",
     "exception": false,
     "start_time": "2025-08-19T18:32:10.218346",
     "status": "completed"
    },
    "tags": []
   },
   "outputs": [
    {
     "data": {
      "text/plain": [
       "year\n",
       "2012    1667\n",
       "2013    1667\n",
       "2014    1666\n",
       "dtype: int64"
      ]
     },
     "metadata": {},
     "output_type": "display_data"
    }
   ],
   "source": [
    "display(siab_train.groupby(\"year\").size())"
   ]
  },
  {
   "cell_type": "code",
   "execution_count": 14,
   "id": "0997782f",
   "metadata": {
    "execution": {
     "iopub.execute_input": "2025-08-19T18:32:10.271931Z",
     "iopub.status.busy": "2025-08-19T18:32:10.271602Z",
     "iopub.status.idle": "2025-08-19T18:32:10.549677Z",
     "shell.execute_reply": "2025-08-19T18:32:10.548585Z"
    },
    "papermill": {
     "duration": 0.292348,
     "end_time": "2025-08-19T18:32:10.551409",
     "exception": false,
     "start_time": "2025-08-19T18:32:10.259061",
     "status": "completed"
    },
    "tags": []
   },
   "outputs": [],
   "source": [
    "#siab_train = siab_s[siab_s.year < 2015]\n",
    "siab_calib = siab[siab.year == 2015]\n",
    "siab_test = siab[siab.year == 2016]"
   ]
  },
  {
   "cell_type": "code",
   "execution_count": 15,
   "id": "2c1e4012",
   "metadata": {
    "execution": {
     "iopub.execute_input": "2025-08-19T18:32:10.576432Z",
     "iopub.status.busy": "2025-08-19T18:32:10.575095Z",
     "iopub.status.idle": "2025-08-19T18:32:10.584990Z",
     "shell.execute_reply": "2025-08-19T18:32:10.583933Z"
    },
    "papermill": {
     "duration": 0.024558,
     "end_time": "2025-08-19T18:32:10.586393",
     "exception": false,
     "start_time": "2025-08-19T18:32:10.561835",
     "status": "completed"
    },
    "tags": []
   },
   "outputs": [],
   "source": [
    "#siab_calib.shape"
   ]
  },
  {
   "cell_type": "code",
   "execution_count": 16,
   "id": "f66b54ca",
   "metadata": {
    "execution": {
     "iopub.execute_input": "2025-08-19T18:32:10.615661Z",
     "iopub.status.busy": "2025-08-19T18:32:10.614721Z",
     "iopub.status.idle": "2025-08-19T18:32:10.621403Z",
     "shell.execute_reply": "2025-08-19T18:32:10.619972Z"
    },
    "papermill": {
     "duration": 0.02098,
     "end_time": "2025-08-19T18:32:10.622979",
     "exception": false,
     "start_time": "2025-08-19T18:32:10.601999",
     "status": "completed"
    },
    "tags": []
   },
   "outputs": [],
   "source": [
    "#siab_test.shape"
   ]
  },
  {
   "cell_type": "code",
   "execution_count": 17,
   "id": "27e4384d",
   "metadata": {
    "execution": {
     "iopub.execute_input": "2025-08-19T18:32:10.647412Z",
     "iopub.status.busy": "2025-08-19T18:32:10.646285Z",
     "iopub.status.idle": "2025-08-19T18:32:10.663856Z",
     "shell.execute_reply": "2025-08-19T18:32:10.662814Z"
    },
    "papermill": {
     "duration": 0.030992,
     "end_time": "2025-08-19T18:32:10.665563",
     "exception": false,
     "start_time": "2025-08-19T18:32:10.634571",
     "status": "completed"
    },
    "tags": []
   },
   "outputs": [],
   "source": [
    "X_train = siab_train.iloc[:,4:164]\n",
    "y_train = siab_train.iloc[:, [3]]"
   ]
  },
  {
   "cell_type": "code",
   "execution_count": 18,
   "id": "08ee8389",
   "metadata": {
    "execution": {
     "iopub.execute_input": "2025-08-19T18:32:10.696435Z",
     "iopub.status.busy": "2025-08-19T18:32:10.695352Z",
     "iopub.status.idle": "2025-08-19T18:32:10.756555Z",
     "shell.execute_reply": "2025-08-19T18:32:10.754818Z"
    },
    "papermill": {
     "duration": 0.077391,
     "end_time": "2025-08-19T18:32:10.759483",
     "exception": false,
     "start_time": "2025-08-19T18:32:10.682092",
     "status": "completed"
    },
    "tags": []
   },
   "outputs": [],
   "source": [
    "X_calib = siab_calib.iloc[:,4:164]\n",
    "y_calib = siab_calib.iloc[:, [3]]"
   ]
  },
  {
   "cell_type": "code",
   "execution_count": 19,
   "id": "b7ff42e0",
   "metadata": {
    "execution": {
     "iopub.execute_input": "2025-08-19T18:32:10.794481Z",
     "iopub.status.busy": "2025-08-19T18:32:10.794023Z",
     "iopub.status.idle": "2025-08-19T18:32:11.266283Z",
     "shell.execute_reply": "2025-08-19T18:32:11.265032Z"
    },
    "papermill": {
     "duration": 0.488649,
     "end_time": "2025-08-19T18:32:11.270059",
     "exception": false,
     "start_time": "2025-08-19T18:32:10.781410",
     "status": "completed"
    },
    "tags": []
   },
   "outputs": [],
   "source": [
    "X_test = siab_test.iloc[:,4:164]\n",
    "y_true = siab_test.iloc[:, [3]]"
   ]
  },
  {
   "cell_type": "code",
   "execution_count": 20,
   "id": "0275101e",
   "metadata": {
    "execution": {
     "iopub.execute_input": "2025-08-19T18:32:11.310127Z",
     "iopub.status.busy": "2025-08-19T18:32:11.308889Z",
     "iopub.status.idle": "2025-08-19T18:32:11.489207Z",
     "shell.execute_reply": "2025-08-19T18:32:11.487741Z"
    },
    "papermill": {
     "duration": 0.198146,
     "end_time": "2025-08-19T18:32:11.491167",
     "exception": false,
     "start_time": "2025-08-19T18:32:11.293021",
     "status": "completed"
    },
    "tags": []
   },
   "outputs": [],
   "source": [
    "# Auxiliary data needed downstream in the pipeline\n",
    "\n",
    "org_train = X_train.copy()\n",
    "org_test = X_test.copy()\n",
    "org_calib = X_calib.copy()"
   ]
  },
  {
   "cell_type": "markdown",
   "id": "b461e618",
   "metadata": {
    "papermill": {
     "duration": 0.011114,
     "end_time": "2025-08-19T18:32:11.513541",
     "exception": false,
     "start_time": "2025-08-19T18:32:11.502427",
     "status": "completed"
    },
    "tags": []
   },
   "source": [
    "# Preprocessing Data"
   ]
  },
  {
   "cell_type": "code",
   "execution_count": 21,
   "id": "78e74c4b",
   "metadata": {
    "execution": {
     "iopub.execute_input": "2025-08-19T18:32:11.537137Z",
     "iopub.status.busy": "2025-08-19T18:32:11.536038Z",
     "iopub.status.idle": "2025-08-19T18:32:11.546430Z",
     "shell.execute_reply": "2025-08-19T18:32:11.545036Z"
    },
    "papermill": {
     "duration": 0.026892,
     "end_time": "2025-08-19T18:32:11.550522",
     "exception": false,
     "start_time": "2025-08-19T18:32:11.523630",
     "status": "completed"
    },
    "tags": []
   },
   "outputs": [],
   "source": [
    "# EXCLUDE PROTECTED FEATURES\n",
    "# --------------------------\n",
    "\n",
    "excluded_features = universe[\"exclude_features\"].split(\"-\")\n",
    "excluded_features_dictionary = {\n",
    "    \"nationality\": [\"maxdeutsch1\", \"maxdeutsch.Missing.\"],\n",
    "    \"sex\": [\"frau1\"],\n",
    "    \"age\": [\"age\"],\n",
    "}"
   ]
  },
  {
   "cell_type": "code",
   "execution_count": 22,
   "id": "f8e63555",
   "metadata": {
    "execution": {
     "iopub.execute_input": "2025-08-19T18:32:11.619063Z",
     "iopub.status.busy": "2025-08-19T18:32:11.618543Z",
     "iopub.status.idle": "2025-08-19T18:32:11.625287Z",
     "shell.execute_reply": "2025-08-19T18:32:11.623322Z"
    },
    "papermill": {
     "duration": 0.053413,
     "end_time": "2025-08-19T18:32:11.627352",
     "exception": false,
     "start_time": "2025-08-19T18:32:11.573939",
     "status": "completed"
    },
    "tags": []
   },
   "outputs": [],
   "source": [
    "excluded_features_columns = [\n",
    "    excluded_features_dictionary[f] for f in excluded_features if len(f) > 0 and f != \"none\"\n",
    "]"
   ]
  },
  {
   "cell_type": "code",
   "execution_count": 23,
   "id": "da781f7c",
   "metadata": {
    "execution": {
     "iopub.execute_input": "2025-08-19T18:32:11.651919Z",
     "iopub.status.busy": "2025-08-19T18:32:11.650935Z",
     "iopub.status.idle": "2025-08-19T18:32:11.657408Z",
     "shell.execute_reply": "2025-08-19T18:32:11.656650Z"
    },
    "papermill": {
     "duration": 0.019749,
     "end_time": "2025-08-19T18:32:11.658953",
     "exception": false,
     "start_time": "2025-08-19T18:32:11.639204",
     "status": "completed"
    },
    "tags": []
   },
   "outputs": [],
   "source": [
    "from fairness_multiverse.universe import flatten_once\n",
    "\n",
    "excluded_features_columns = flatten_once(excluded_features_columns)"
   ]
  },
  {
   "cell_type": "code",
   "execution_count": 24,
   "id": "37fef0f0",
   "metadata": {
    "execution": {
     "iopub.execute_input": "2025-08-19T18:32:11.684591Z",
     "iopub.status.busy": "2025-08-19T18:32:11.684106Z",
     "iopub.status.idle": "2025-08-19T18:32:11.714430Z",
     "shell.execute_reply": "2025-08-19T18:32:11.713154Z"
    },
    "papermill": {
     "duration": 0.043347,
     "end_time": "2025-08-19T18:32:11.716136",
     "exception": false,
     "start_time": "2025-08-19T18:32:11.672789",
     "status": "completed"
    },
    "tags": []
   },
   "outputs": [
    {
     "name": "stdout",
     "output_type": "stream",
     "text": [
      "Dropping features: ['frau1']\n"
     ]
    }
   ],
   "source": [
    "if len(excluded_features_columns) > 0:\n",
    "    print(f\"Dropping features: {excluded_features_columns}\")\n",
    "    X_train.drop(excluded_features_columns, axis=1, inplace=True)"
   ]
  },
  {
   "cell_type": "code",
   "execution_count": 25,
   "id": "d029e3e9",
   "metadata": {
    "execution": {
     "iopub.execute_input": "2025-08-19T18:32:11.743738Z",
     "iopub.status.busy": "2025-08-19T18:32:11.742258Z",
     "iopub.status.idle": "2025-08-19T18:32:11.848404Z",
     "shell.execute_reply": "2025-08-19T18:32:11.847333Z"
    },
    "papermill": {
     "duration": 0.121787,
     "end_time": "2025-08-19T18:32:11.850281",
     "exception": false,
     "start_time": "2025-08-19T18:32:11.728494",
     "status": "completed"
    },
    "tags": []
   },
   "outputs": [
    {
     "name": "stdout",
     "output_type": "stream",
     "text": [
      "Dropping features: ['frau1']\n"
     ]
    }
   ],
   "source": [
    "if len(excluded_features_columns) > 0:\n",
    "    print(f\"Dropping features: {excluded_features_columns}\")\n",
    "    X_test.drop(excluded_features_columns, axis=1, inplace=True)"
   ]
  },
  {
   "cell_type": "code",
   "execution_count": 26,
   "id": "01d571f0",
   "metadata": {
    "execution": {
     "iopub.execute_input": "2025-08-19T18:32:11.874304Z",
     "iopub.status.busy": "2025-08-19T18:32:11.873346Z",
     "iopub.status.idle": "2025-08-19T18:32:11.942723Z",
     "shell.execute_reply": "2025-08-19T18:32:11.941718Z"
    },
    "papermill": {
     "duration": 0.084075,
     "end_time": "2025-08-19T18:32:11.945664",
     "exception": false,
     "start_time": "2025-08-19T18:32:11.861589",
     "status": "completed"
    },
    "tags": []
   },
   "outputs": [
    {
     "name": "stdout",
     "output_type": "stream",
     "text": [
      "Dropping features: ['frau1']\n"
     ]
    }
   ],
   "source": [
    "if len(excluded_features_columns) > 0:\n",
    "    print(f\"Dropping features: {excluded_features_columns}\")\n",
    "    X_calib.drop(excluded_features_columns, axis=1, inplace=True)"
   ]
  },
  {
   "cell_type": "code",
   "execution_count": 27,
   "id": "3037356e",
   "metadata": {
    "execution": {
     "iopub.execute_input": "2025-08-19T18:32:11.988553Z",
     "iopub.status.busy": "2025-08-19T18:32:11.987890Z",
     "iopub.status.idle": "2025-08-19T18:32:11.995135Z",
     "shell.execute_reply": "2025-08-19T18:32:11.993606Z"
    },
    "papermill": {
     "duration": 0.028229,
     "end_time": "2025-08-19T18:32:11.997030",
     "exception": false,
     "start_time": "2025-08-19T18:32:11.968801",
     "status": "completed"
    },
    "tags": []
   },
   "outputs": [],
   "source": [
    "# EXCLUDE CERTAIN SUBGROUPS\n",
    "# -------------------------\n",
    "\n",
    "mode = universe.get(\"exclude_subgroups\", \"keep-all\") # Defaults to \"keep-all\" if the key is missing."
   ]
  },
  {
   "cell_type": "code",
   "execution_count": 28,
   "id": "9d1e63fd",
   "metadata": {
    "execution": {
     "iopub.execute_input": "2025-08-19T18:32:12.027921Z",
     "iopub.status.busy": "2025-08-19T18:32:12.026878Z",
     "iopub.status.idle": "2025-08-19T18:32:12.090112Z",
     "shell.execute_reply": "2025-08-19T18:32:12.089345Z"
    },
    "papermill": {
     "duration": 0.079854,
     "end_time": "2025-08-19T18:32:12.092583",
     "exception": false,
     "start_time": "2025-08-19T18:32:12.012729",
     "status": "completed"
    },
    "tags": []
   },
   "outputs": [],
   "source": [
    "if mode == \"keep-all\":\n",
    "    keep_mask = pd.Series(True, index=org_train.index)\n",
    "\n",
    "elif mode == \"drop-non-german\":\n",
    "    keep_mask = (org_train[\"maxdeutsch1\"] == 1) & (org_train[\"maxdeutsch.Missing.\"] == 0)\n",
    "\n",
    "else:\n",
    "    raise ValueError(f\"Unsupported mode for exclude_subgroups: {mode}\")"
   ]
  },
  {
   "cell_type": "code",
   "execution_count": 29,
   "id": "d3b65474",
   "metadata": {
    "execution": {
     "iopub.execute_input": "2025-08-19T18:32:12.124305Z",
     "iopub.status.busy": "2025-08-19T18:32:12.123807Z",
     "iopub.status.idle": "2025-08-19T18:32:12.130411Z",
     "shell.execute_reply": "2025-08-19T18:32:12.129703Z"
    },
    "papermill": {
     "duration": 0.025971,
     "end_time": "2025-08-19T18:32:12.133299",
     "exception": false,
     "start_time": "2025-08-19T18:32:12.107328",
     "status": "completed"
    },
    "tags": []
   },
   "outputs": [
    {
     "name": "stdout",
     "output_type": "stream",
     "text": [
      "Dropping 665 rows (13.30%) where mode='drop-non-german'\n"
     ]
    }
   ],
   "source": [
    "n_drop = (~keep_mask).sum() # Calculates how many rows are set to be dropped\n",
    "if n_drop > 0:\n",
    "    pct = n_drop / len(keep_mask) * 100\n",
    "    print(f\"Dropping {n_drop} rows ({pct:.2f}%) where mode='{mode}'\")"
   ]
  },
  {
   "cell_type": "code",
   "execution_count": 30,
   "id": "f44389b3",
   "metadata": {
    "execution": {
     "iopub.execute_input": "2025-08-19T18:32:12.170525Z",
     "iopub.status.busy": "2025-08-19T18:32:12.170103Z",
     "iopub.status.idle": "2025-08-19T18:32:12.379715Z",
     "shell.execute_reply": "2025-08-19T18:32:12.378937Z"
    },
    "papermill": {
     "duration": 0.225465,
     "end_time": "2025-08-19T18:32:12.381348",
     "exception": false,
     "start_time": "2025-08-19T18:32:12.155883",
     "status": "completed"
    },
    "tags": []
   },
   "outputs": [],
   "source": [
    "X_train = X_train[keep_mask]"
   ]
  },
  {
   "cell_type": "code",
   "execution_count": 31,
   "id": "ceca8c2a",
   "metadata": {
    "execution": {
     "iopub.execute_input": "2025-08-19T18:32:12.406517Z",
     "iopub.status.busy": "2025-08-19T18:32:12.405843Z",
     "iopub.status.idle": "2025-08-19T18:32:12.723061Z",
     "shell.execute_reply": "2025-08-19T18:32:12.721556Z"
    },
    "papermill": {
     "duration": 0.333141,
     "end_time": "2025-08-19T18:32:12.726582",
     "exception": false,
     "start_time": "2025-08-19T18:32:12.393441",
     "status": "completed"
    },
    "tags": []
   },
   "outputs": [],
   "source": [
    "y_train = y_train[keep_mask]"
   ]
  },
  {
   "cell_type": "markdown",
   "id": "04d31e2f",
   "metadata": {
    "papermill": {
     "duration": 0.014859,
     "end_time": "2025-08-19T18:32:12.765976",
     "exception": false,
     "start_time": "2025-08-19T18:32:12.751117",
     "status": "completed"
    },
    "tags": []
   },
   "source": [
    "# Model Training"
   ]
  },
  {
   "cell_type": "code",
   "execution_count": 32,
   "id": "db991733",
   "metadata": {
    "execution": {
     "iopub.execute_input": "2025-08-19T18:32:12.794312Z",
     "iopub.status.busy": "2025-08-19T18:32:12.792864Z",
     "iopub.status.idle": "2025-08-19T18:32:12.910485Z",
     "shell.execute_reply": "2025-08-19T18:32:12.909749Z"
    },
    "papermill": {
     "duration": 0.132714,
     "end_time": "2025-08-19T18:32:12.911910",
     "exception": false,
     "start_time": "2025-08-19T18:32:12.779196",
     "status": "completed"
    },
    "tags": []
   },
   "outputs": [],
   "source": [
    "from sklearn.linear_model import LogisticRegression\n",
    "from sklearn.ensemble import GradientBoostingClassifier, RandomForestClassifier\n",
    "\n",
    "if (universe[\"model\"] == \"logreg\"):\n",
    "    model = LogisticRegression() #penalty=\"none\", solver=\"newton-cg\", max_iter=1)\n",
    "elif (universe[\"model\"] == \"penalized_logreg\"):\n",
    "    model = LogisticRegression(penalty=\"l2\", C=0.1) #, solver=\"newton-cg\", max_iter=1)\n",
    "elif (universe[\"model\"] == \"rf\"):\n",
    "    model = RandomForestClassifier() # n_estimators=100, n_jobs=-1\n",
    "elif (universe[\"model\"] == \"gbm\"):\n",
    "    model = GradientBoostingClassifier()\n",
    "elif (universe[\"model\"] == \"elasticnet\"):\n",
    "    model = LogisticRegression(penalty = 'elasticnet', solver = 'saga', l1_ratio = 0.5) # max_iter=5000\n",
    "else:\n",
    "    raise \"Unsupported universe.model\""
   ]
  },
  {
   "cell_type": "code",
   "execution_count": 33,
   "id": "a4b5cd25",
   "metadata": {
    "execution": {
     "iopub.execute_input": "2025-08-19T18:32:12.936507Z",
     "iopub.status.busy": "2025-08-19T18:32:12.935213Z",
     "iopub.status.idle": "2025-08-19T18:32:12.942480Z",
     "shell.execute_reply": "2025-08-19T18:32:12.941377Z"
    },
    "papermill": {
     "duration": 0.020403,
     "end_time": "2025-08-19T18:32:12.943880",
     "exception": false,
     "start_time": "2025-08-19T18:32:12.923477",
     "status": "completed"
    },
    "tags": []
   },
   "outputs": [],
   "source": [
    "from sklearn.pipeline import Pipeline\n",
    "from sklearn.preprocessing import StandardScaler\n",
    "\n",
    "model = Pipeline([\n",
    "    #(\"continuous_processor\", continuous_processor),\n",
    "    #(\"categorical_preprocessor\", categorical_preprocessor),\n",
    "    (\"scale\", StandardScaler() if universe[\"scale\"] == \"scale\" else None), \n",
    "    (\"model\", model),\n",
    "])"
   ]
  },
  {
   "cell_type": "code",
   "execution_count": 34,
   "id": "283a904d",
   "metadata": {
    "execution": {
     "iopub.execute_input": "2025-08-19T18:32:13.001826Z",
     "iopub.status.busy": "2025-08-19T18:32:13.000769Z",
     "iopub.status.idle": "2025-08-19T18:32:13.133981Z",
     "shell.execute_reply": "2025-08-19T18:32:13.133214Z"
    },
    "papermill": {
     "duration": 0.151935,
     "end_time": "2025-08-19T18:32:13.136692",
     "exception": false,
     "start_time": "2025-08-19T18:32:12.984757",
     "status": "completed"
    },
    "tags": []
   },
   "outputs": [
    {
     "data": {
      "text/html": [
       "<style>#sk-container-id-1 {color: black;background-color: white;}#sk-container-id-1 pre{padding: 0;}#sk-container-id-1 div.sk-toggleable {background-color: white;}#sk-container-id-1 label.sk-toggleable__label {cursor: pointer;display: block;width: 100%;margin-bottom: 0;padding: 0.3em;box-sizing: border-box;text-align: center;}#sk-container-id-1 label.sk-toggleable__label-arrow:before {content: \"▸\";float: left;margin-right: 0.25em;color: #696969;}#sk-container-id-1 label.sk-toggleable__label-arrow:hover:before {color: black;}#sk-container-id-1 div.sk-estimator:hover label.sk-toggleable__label-arrow:before {color: black;}#sk-container-id-1 div.sk-toggleable__content {max-height: 0;max-width: 0;overflow: hidden;text-align: left;background-color: #f0f8ff;}#sk-container-id-1 div.sk-toggleable__content pre {margin: 0.2em;color: black;border-radius: 0.25em;background-color: #f0f8ff;}#sk-container-id-1 input.sk-toggleable__control:checked~div.sk-toggleable__content {max-height: 200px;max-width: 100%;overflow: auto;}#sk-container-id-1 input.sk-toggleable__control:checked~label.sk-toggleable__label-arrow:before {content: \"▾\";}#sk-container-id-1 div.sk-estimator input.sk-toggleable__control:checked~label.sk-toggleable__label {background-color: #d4ebff;}#sk-container-id-1 div.sk-label input.sk-toggleable__control:checked~label.sk-toggleable__label {background-color: #d4ebff;}#sk-container-id-1 input.sk-hidden--visually {border: 0;clip: rect(1px 1px 1px 1px);clip: rect(1px, 1px, 1px, 1px);height: 1px;margin: -1px;overflow: hidden;padding: 0;position: absolute;width: 1px;}#sk-container-id-1 div.sk-estimator {font-family: monospace;background-color: #f0f8ff;border: 1px dotted black;border-radius: 0.25em;box-sizing: border-box;margin-bottom: 0.5em;}#sk-container-id-1 div.sk-estimator:hover {background-color: #d4ebff;}#sk-container-id-1 div.sk-parallel-item::after {content: \"\";width: 100%;border-bottom: 1px solid gray;flex-grow: 1;}#sk-container-id-1 div.sk-label:hover label.sk-toggleable__label {background-color: #d4ebff;}#sk-container-id-1 div.sk-serial::before {content: \"\";position: absolute;border-left: 1px solid gray;box-sizing: border-box;top: 0;bottom: 0;left: 50%;z-index: 0;}#sk-container-id-1 div.sk-serial {display: flex;flex-direction: column;align-items: center;background-color: white;padding-right: 0.2em;padding-left: 0.2em;position: relative;}#sk-container-id-1 div.sk-item {position: relative;z-index: 1;}#sk-container-id-1 div.sk-parallel {display: flex;align-items: stretch;justify-content: center;background-color: white;position: relative;}#sk-container-id-1 div.sk-item::before, #sk-container-id-1 div.sk-parallel-item::before {content: \"\";position: absolute;border-left: 1px solid gray;box-sizing: border-box;top: 0;bottom: 0;left: 50%;z-index: -1;}#sk-container-id-1 div.sk-parallel-item {display: flex;flex-direction: column;z-index: 1;position: relative;background-color: white;}#sk-container-id-1 div.sk-parallel-item:first-child::after {align-self: flex-end;width: 50%;}#sk-container-id-1 div.sk-parallel-item:last-child::after {align-self: flex-start;width: 50%;}#sk-container-id-1 div.sk-parallel-item:only-child::after {width: 0;}#sk-container-id-1 div.sk-dashed-wrapped {border: 1px dashed gray;margin: 0 0.4em 0.5em 0.4em;box-sizing: border-box;padding-bottom: 0.4em;background-color: white;}#sk-container-id-1 div.sk-label label {font-family: monospace;font-weight: bold;display: inline-block;line-height: 1.2em;}#sk-container-id-1 div.sk-label-container {text-align: center;}#sk-container-id-1 div.sk-container {/* jupyter's `normalize.less` sets `[hidden] { display: none; }` but bootstrap.min.css set `[hidden] { display: none !important; }` so we also need the `!important` here to be able to override the default hidden behavior on the sphinx rendered scikit-learn.org. See: https://github.com/scikit-learn/scikit-learn/issues/21755 */display: inline-block !important;position: relative;}#sk-container-id-1 div.sk-text-repr-fallback {display: none;}</style><div id=\"sk-container-id-1\" class=\"sk-top-container\"><div class=\"sk-text-repr-fallback\"><pre>Pipeline(steps=[(&#x27;scale&#x27;, StandardScaler()),\n",
       "                (&#x27;model&#x27;, LogisticRegression(C=0.1))])</pre><b>In a Jupyter environment, please rerun this cell to show the HTML representation or trust the notebook. <br />On GitHub, the HTML representation is unable to render, please try loading this page with nbviewer.org.</b></div><div class=\"sk-container\" hidden><div class=\"sk-item sk-dashed-wrapped\"><div class=\"sk-label-container\"><div class=\"sk-label sk-toggleable\"><input class=\"sk-toggleable__control sk-hidden--visually\" id=\"sk-estimator-id-1\" type=\"checkbox\" ><label for=\"sk-estimator-id-1\" class=\"sk-toggleable__label sk-toggleable__label-arrow\">Pipeline</label><div class=\"sk-toggleable__content\"><pre>Pipeline(steps=[(&#x27;scale&#x27;, StandardScaler()),\n",
       "                (&#x27;model&#x27;, LogisticRegression(C=0.1))])</pre></div></div></div><div class=\"sk-serial\"><div class=\"sk-item\"><div class=\"sk-estimator sk-toggleable\"><input class=\"sk-toggleable__control sk-hidden--visually\" id=\"sk-estimator-id-2\" type=\"checkbox\" ><label for=\"sk-estimator-id-2\" class=\"sk-toggleable__label sk-toggleable__label-arrow\">StandardScaler</label><div class=\"sk-toggleable__content\"><pre>StandardScaler()</pre></div></div></div><div class=\"sk-item\"><div class=\"sk-estimator sk-toggleable\"><input class=\"sk-toggleable__control sk-hidden--visually\" id=\"sk-estimator-id-3\" type=\"checkbox\" ><label for=\"sk-estimator-id-3\" class=\"sk-toggleable__label sk-toggleable__label-arrow\">LogisticRegression</label><div class=\"sk-toggleable__content\"><pre>LogisticRegression(C=0.1)</pre></div></div></div></div></div></div></div>"
      ],
      "text/plain": [
       "Pipeline(steps=[('scale', StandardScaler()),\n",
       "                ('model', LogisticRegression(C=0.1))])"
      ]
     },
     "execution_count": 34,
     "metadata": {},
     "output_type": "execute_result"
    }
   ],
   "source": [
    "model.fit(X_train, y_train.values.ravel())"
   ]
  },
  {
   "cell_type": "code",
   "execution_count": 35,
   "id": "6e15e313",
   "metadata": {
    "execution": {
     "iopub.execute_input": "2025-08-19T18:32:13.171283Z",
     "iopub.status.busy": "2025-08-19T18:32:13.170723Z",
     "iopub.status.idle": "2025-08-19T18:32:13.416060Z",
     "shell.execute_reply": "2025-08-19T18:32:13.407684Z"
    },
    "papermill": {
     "duration": 0.2638,
     "end_time": "2025-08-19T18:32:13.421385",
     "exception": false,
     "start_time": "2025-08-19T18:32:13.157585",
     "status": "completed"
    },
    "tags": []
   },
   "outputs": [
    {
     "data": {
      "text/plain": [
       "0.8577527588897559"
      ]
     },
     "execution_count": 35,
     "metadata": {},
     "output_type": "execute_result"
    }
   ],
   "source": [
    "from fairness_multiverse.universe import predict_w_threshold\n",
    "\n",
    "probs_test = model.predict_proba(X_test)\n",
    "\n",
    "'''\n",
    "Below code returns a boolean array (or binary 0/1 array depending on how it’s used) where each element \n",
    "is True if the probability of class 1 is greater than or equal to the threshold, and False otherwise.\n",
    "'''\n",
    "y_pred_default = predict_w_threshold(probs_test, 0.5)\n",
    "\n",
    "from sklearn.metrics import accuracy_score\n",
    "\n",
    "# Naive prediction\n",
    "accuracy_score(y_true = y_true, y_pred = y_pred_default)"
   ]
  },
  {
   "cell_type": "code",
   "execution_count": 36,
   "id": "6f14067c",
   "metadata": {
    "execution": {
     "iopub.execute_input": "2025-08-19T18:32:13.471593Z",
     "iopub.status.busy": "2025-08-19T18:32:13.470208Z",
     "iopub.status.idle": "2025-08-19T18:32:13.680989Z",
     "shell.execute_reply": "2025-08-19T18:32:13.680158Z"
    },
    "papermill": {
     "duration": 0.231328,
     "end_time": "2025-08-19T18:32:13.682206",
     "exception": false,
     "start_time": "2025-08-19T18:32:13.450878",
     "status": "completed"
    },
    "tags": []
   },
   "outputs": [
    {
     "data": {
      "text/plain": [
       "array([0, 0, 0, ..., 0, 0, 0])"
      ]
     },
     "execution_count": 36,
     "metadata": {},
     "output_type": "execute_result"
    }
   ],
   "source": [
    "model.predict(X_test)"
   ]
  },
  {
   "cell_type": "markdown",
   "id": "3759920c",
   "metadata": {
    "papermill": {
     "duration": 0.012168,
     "end_time": "2025-08-19T18:32:13.706423",
     "exception": false,
     "start_time": "2025-08-19T18:32:13.694255",
     "status": "completed"
    },
    "tags": []
   },
   "source": [
    "# Conformal Prediction"
   ]
  },
  {
   "cell_type": "code",
   "execution_count": 37,
   "id": "14b27f59",
   "metadata": {
    "execution": {
     "iopub.execute_input": "2025-08-19T18:32:13.734748Z",
     "iopub.status.busy": "2025-08-19T18:32:13.733222Z",
     "iopub.status.idle": "2025-08-19T18:32:13.741385Z",
     "shell.execute_reply": "2025-08-19T18:32:13.740153Z"
    },
    "papermill": {
     "duration": 0.028236,
     "end_time": "2025-08-19T18:32:13.747158",
     "exception": false,
     "start_time": "2025-08-19T18:32:13.718922",
     "status": "completed"
    },
    "tags": []
   },
   "outputs": [],
   "source": [
    "# Miscoverage level for conformal prediction (10% allowed error rate => 90% target coverage)\n",
    "alpha = 0.1"
   ]
  },
  {
   "cell_type": "code",
   "execution_count": 38,
   "id": "59102472",
   "metadata": {
    "execution": {
     "iopub.execute_input": "2025-08-19T18:32:13.794576Z",
     "iopub.status.busy": "2025-08-19T18:32:13.793903Z",
     "iopub.status.idle": "2025-08-19T18:32:14.040875Z",
     "shell.execute_reply": "2025-08-19T18:32:14.038244Z"
    },
    "papermill": {
     "duration": 0.28126,
     "end_time": "2025-08-19T18:32:14.042666",
     "exception": false,
     "start_time": "2025-08-19T18:32:13.761406",
     "status": "completed"
    },
    "tags": []
   },
   "outputs": [],
   "source": [
    "probs_calib = model.predict_proba(X_calib)"
   ]
  },
  {
   "cell_type": "code",
   "execution_count": 39,
   "id": "a792d4dd",
   "metadata": {
    "execution": {
     "iopub.execute_input": "2025-08-19T18:32:14.071532Z",
     "iopub.status.busy": "2025-08-19T18:32:14.070166Z",
     "iopub.status.idle": "2025-08-19T18:32:14.092392Z",
     "shell.execute_reply": "2025-08-19T18:32:14.080690Z"
    },
    "papermill": {
     "duration": 0.038008,
     "end_time": "2025-08-19T18:32:14.094305",
     "exception": false,
     "start_time": "2025-08-19T18:32:14.056297",
     "status": "completed"
    },
    "tags": []
   },
   "outputs": [],
   "source": [
    "y_calib = y_calib.values.ravel().astype(int)"
   ]
  },
  {
   "cell_type": "code",
   "execution_count": 40,
   "id": "650fd033",
   "metadata": {
    "execution": {
     "iopub.execute_input": "2025-08-19T18:32:14.126026Z",
     "iopub.status.busy": "2025-08-19T18:32:14.125628Z",
     "iopub.status.idle": "2025-08-19T18:32:14.132650Z",
     "shell.execute_reply": "2025-08-19T18:32:14.132008Z"
    },
    "papermill": {
     "duration": 0.02114,
     "end_time": "2025-08-19T18:32:14.133796",
     "exception": false,
     "start_time": "2025-08-19T18:32:14.112656",
     "status": "completed"
    },
    "tags": []
   },
   "outputs": [],
   "source": [
    "from fairness_multiverse.conformal import compute_nc_scores\n",
    "\n",
    "# Compute nonconformity scores on calibration set (1 - probability of true class)\n",
    "nc_scores = compute_nc_scores(probs_calib, y_calib)"
   ]
  },
  {
   "cell_type": "code",
   "execution_count": 41,
   "id": "28ada44c",
   "metadata": {
    "execution": {
     "iopub.execute_input": "2025-08-19T18:32:14.160233Z",
     "iopub.status.busy": "2025-08-19T18:32:14.159827Z",
     "iopub.status.idle": "2025-08-19T18:32:14.165566Z",
     "shell.execute_reply": "2025-08-19T18:32:14.164894Z"
    },
    "papermill": {
     "duration": 0.018997,
     "end_time": "2025-08-19T18:32:14.166571",
     "exception": false,
     "start_time": "2025-08-19T18:32:14.147574",
     "status": "completed"
    },
    "tags": []
   },
   "outputs": [],
   "source": [
    "from fairness_multiverse.conformal import find_threshold\n",
    "\n",
    "# Find conformal threshold q_hat for the given alpha (split conformal method)\n",
    "q_hat = find_threshold(nc_scores, alpha)"
   ]
  },
  {
   "cell_type": "code",
   "execution_count": 42,
   "id": "df56469e",
   "metadata": {
    "execution": {
     "iopub.execute_input": "2025-08-19T18:32:14.190157Z",
     "iopub.status.busy": "2025-08-19T18:32:14.189786Z",
     "iopub.status.idle": "2025-08-19T18:32:14.195371Z",
     "shell.execute_reply": "2025-08-19T18:32:14.194775Z"
    },
    "papermill": {
     "duration": 0.018404,
     "end_time": "2025-08-19T18:32:14.196406",
     "exception": false,
     "start_time": "2025-08-19T18:32:14.178002",
     "status": "completed"
    },
    "tags": []
   },
   "outputs": [
    {
     "data": {
      "text/plain": [
       "0.6917211943019834"
      ]
     },
     "execution_count": 42,
     "metadata": {},
     "output_type": "execute_result"
    }
   ],
   "source": [
    "q_hat"
   ]
  },
  {
   "cell_type": "code",
   "execution_count": 43,
   "id": "aa1f5faa",
   "metadata": {
    "execution": {
     "iopub.execute_input": "2025-08-19T18:32:14.220980Z",
     "iopub.status.busy": "2025-08-19T18:32:14.220492Z",
     "iopub.status.idle": "2025-08-19T18:32:14.912177Z",
     "shell.execute_reply": "2025-08-19T18:32:14.909506Z"
    },
    "papermill": {
     "duration": 0.705301,
     "end_time": "2025-08-19T18:32:14.913723",
     "exception": false,
     "start_time": "2025-08-19T18:32:14.208422",
     "status": "completed"
    },
    "tags": []
   },
   "outputs": [],
   "source": [
    "from fairness_multiverse.conformal import predict_conformal_sets\n",
    "\n",
    "# Generate prediction sets for each test example\n",
    "pred_sets = predict_conformal_sets(model, X_test, q_hat)"
   ]
  },
  {
   "cell_type": "code",
   "execution_count": 44,
   "id": "97f67a6b",
   "metadata": {
    "execution": {
     "iopub.execute_input": "2025-08-19T18:32:14.939282Z",
     "iopub.status.busy": "2025-08-19T18:32:14.938324Z",
     "iopub.status.idle": "2025-08-19T18:32:14.947291Z",
     "shell.execute_reply": "2025-08-19T18:32:14.945963Z"
    },
    "papermill": {
     "duration": 0.023066,
     "end_time": "2025-08-19T18:32:14.948671",
     "exception": false,
     "start_time": "2025-08-19T18:32:14.925605",
     "status": "completed"
    },
    "tags": []
   },
   "outputs": [],
   "source": [
    "y_true = y_true.squeeze()"
   ]
  },
  {
   "cell_type": "code",
   "execution_count": 45,
   "id": "e700e9a7",
   "metadata": {
    "execution": {
     "iopub.execute_input": "2025-08-19T18:32:14.980965Z",
     "iopub.status.busy": "2025-08-19T18:32:14.975084Z",
     "iopub.status.idle": "2025-08-19T18:32:15.500775Z",
     "shell.execute_reply": "2025-08-19T18:32:15.499336Z"
    },
    "papermill": {
     "duration": 0.539723,
     "end_time": "2025-08-19T18:32:15.502326",
     "exception": false,
     "start_time": "2025-08-19T18:32:14.962603",
     "status": "completed"
    },
    "tags": []
   },
   "outputs": [],
   "source": [
    "from fairness_multiverse.conformal import evaluate_sets\n",
    "\n",
    "# Evaluate coverage and average set size on test data\n",
    "metrics = evaluate_sets(pred_sets, y_true)"
   ]
  },
  {
   "cell_type": "markdown",
   "id": "efbacec0",
   "metadata": {
    "papermill": {
     "duration": 0.01125,
     "end_time": "2025-08-19T18:32:15.526051",
     "exception": false,
     "start_time": "2025-08-19T18:32:15.514801",
     "status": "completed"
    },
    "tags": []
   },
   "source": [
    "# CP Metrics"
   ]
  },
  {
   "cell_type": "code",
   "execution_count": 46,
   "id": "9de55fb1",
   "metadata": {
    "execution": {
     "iopub.execute_input": "2025-08-19T18:32:15.550599Z",
     "iopub.status.busy": "2025-08-19T18:32:15.549692Z",
     "iopub.status.idle": "2025-08-19T18:32:15.557560Z",
     "shell.execute_reply": "2025-08-19T18:32:15.556856Z"
    },
    "papermill": {
     "duration": 0.021695,
     "end_time": "2025-08-19T18:32:15.558945",
     "exception": false,
     "start_time": "2025-08-19T18:32:15.537250",
     "status": "completed"
    },
    "tags": []
   },
   "outputs": [
    {
     "data": {
      "text/plain": [
       "{'coverage': 0.911258499609854, 'avg_size': 1.135157730464831}"
      ]
     },
     "execution_count": 46,
     "metadata": {},
     "output_type": "execute_result"
    }
   ],
   "source": [
    "metrics"
   ]
  },
  {
   "cell_type": "code",
   "execution_count": 47,
   "id": "64c340a1",
   "metadata": {
    "execution": {
     "iopub.execute_input": "2025-08-19T18:32:15.582850Z",
     "iopub.status.busy": "2025-08-19T18:32:15.582419Z",
     "iopub.status.idle": "2025-08-19T18:32:15.594279Z",
     "shell.execute_reply": "2025-08-19T18:32:15.593334Z"
    },
    "papermill": {
     "duration": 0.025273,
     "end_time": "2025-08-19T18:32:15.595573",
     "exception": false,
     "start_time": "2025-08-19T18:32:15.570300",
     "status": "completed"
    },
    "tags": []
   },
   "outputs": [],
   "source": [
    "example_universe = universe.copy()\n",
    "universe_training_year = example_universe.get(\"training_year\")\n",
    "universe_training_size = example_universe.get(\"training_size\")\n",
    "universe_scale = example_universe.get(\"scale\")\n",
    "universe_model = example_universe.get(\"model\")\n",
    "universe_exclude_features = example_universe.get(\"exclude_features\")\n",
    "universe_exclude_subgroups = example_universe.get(\"exclude_subgroups\")"
   ]
  },
  {
   "cell_type": "code",
   "execution_count": 48,
   "id": "dbb53cb4",
   "metadata": {
    "execution": {
     "iopub.execute_input": "2025-08-19T18:32:15.628563Z",
     "iopub.status.busy": "2025-08-19T18:32:15.628023Z",
     "iopub.status.idle": "2025-08-19T18:32:15.638276Z",
     "shell.execute_reply": "2025-08-19T18:32:15.637582Z"
    },
    "papermill": {
     "duration": 0.025664,
     "end_time": "2025-08-19T18:32:15.639869",
     "exception": false,
     "start_time": "2025-08-19T18:32:15.614205",
     "status": "completed"
    },
    "tags": []
   },
   "outputs": [],
   "source": [
    "cp_metrics_dict = {\n",
    "    \"universe_id\": [universe_id],\n",
    "    \"universe_training_year\": [universe_training_year],\n",
    "    \"universe_training_size\": [universe_training_size],\n",
    "    \"universe_scale\": [universe_scale],\n",
    "    \"universe_model\": [universe_model],\n",
    "    \"universe_exclude_features\": [universe_exclude_features],\n",
    "    \"universe_exclude_subgroups\": [universe_exclude_subgroups],\n",
    "    \"q_hat\": [q_hat],\n",
    "    \"coverage\": [metrics[\"coverage\"]],\n",
    "    \"avg_size\": [metrics[\"avg_size\"]],\n",
    "}"
   ]
  },
  {
   "cell_type": "code",
   "execution_count": 49,
   "id": "0d70d4b2",
   "metadata": {
    "execution": {
     "iopub.execute_input": "2025-08-19T18:32:15.665664Z",
     "iopub.status.busy": "2025-08-19T18:32:15.665235Z",
     "iopub.status.idle": "2025-08-19T18:32:15.672404Z",
     "shell.execute_reply": "2025-08-19T18:32:15.671759Z"
    },
    "papermill": {
     "duration": 0.020922,
     "end_time": "2025-08-19T18:32:15.673717",
     "exception": false,
     "start_time": "2025-08-19T18:32:15.652795",
     "status": "completed"
    },
    "tags": []
   },
   "outputs": [],
   "source": [
    "cp_metrics_df = pd.DataFrame(cp_metrics_dict)"
   ]
  },
  {
   "cell_type": "code",
   "execution_count": 50,
   "id": "b494403c",
   "metadata": {
    "execution": {
     "iopub.execute_input": "2025-08-19T18:32:15.698411Z",
     "iopub.status.busy": "2025-08-19T18:32:15.697967Z",
     "iopub.status.idle": "2025-08-19T18:32:15.813465Z",
     "shell.execute_reply": "2025-08-19T18:32:15.811546Z"
    },
    "papermill": {
     "duration": 0.129925,
     "end_time": "2025-08-19T18:32:15.815276",
     "exception": false,
     "start_time": "2025-08-19T18:32:15.685351",
     "status": "completed"
    },
    "tags": []
   },
   "outputs": [
    {
     "data": {
      "text/html": [
       "<div>\n",
       "<style scoped>\n",
       "    .dataframe tbody tr th:only-of-type {\n",
       "        vertical-align: middle;\n",
       "    }\n",
       "\n",
       "    .dataframe tbody tr th {\n",
       "        vertical-align: top;\n",
       "    }\n",
       "\n",
       "    .dataframe thead th {\n",
       "        text-align: right;\n",
       "    }\n",
       "</style>\n",
       "<table border=\"1\" class=\"dataframe\">\n",
       "  <thead>\n",
       "    <tr style=\"text-align: right;\">\n",
       "      <th></th>\n",
       "      <th>universe_id</th>\n",
       "      <th>universe_training_year</th>\n",
       "      <th>universe_training_size</th>\n",
       "      <th>universe_scale</th>\n",
       "      <th>universe_model</th>\n",
       "      <th>universe_exclude_features</th>\n",
       "      <th>universe_exclude_subgroups</th>\n",
       "      <th>q_hat</th>\n",
       "      <th>coverage</th>\n",
       "      <th>avg_size</th>\n",
       "    </tr>\n",
       "  </thead>\n",
       "  <tbody>\n",
       "    <tr>\n",
       "      <th>0</th>\n",
       "      <td>86df583dc9628125d17214bc06267caf</td>\n",
       "      <td>2012_14</td>\n",
       "      <td>5k</td>\n",
       "      <td>scale</td>\n",
       "      <td>penalized_logreg</td>\n",
       "      <td>sex</td>\n",
       "      <td>drop-non-german</td>\n",
       "      <td>0.691721</td>\n",
       "      <td>0.911258</td>\n",
       "      <td>1.135158</td>\n",
       "    </tr>\n",
       "  </tbody>\n",
       "</table>\n",
       "</div>"
      ],
      "text/plain": [
       "                        universe_id universe_training_year  \\\n",
       "0  86df583dc9628125d17214bc06267caf                2012_14   \n",
       "\n",
       "  universe_training_size universe_scale    universe_model  \\\n",
       "0                     5k          scale  penalized_logreg   \n",
       "\n",
       "  universe_exclude_features universe_exclude_subgroups     q_hat  coverage  \\\n",
       "0                       sex            drop-non-german  0.691721  0.911258   \n",
       "\n",
       "   avg_size  \n",
       "0  1.135158  "
      ]
     },
     "execution_count": 50,
     "metadata": {},
     "output_type": "execute_result"
    }
   ],
   "source": [
    "cp_metrics_df"
   ]
  },
  {
   "cell_type": "markdown",
   "id": "ed608b0b",
   "metadata": {
    "papermill": {
     "duration": 0.013647,
     "end_time": "2025-08-19T18:32:15.841361",
     "exception": false,
     "start_time": "2025-08-19T18:32:15.827714",
     "status": "completed"
    },
    "tags": []
   },
   "source": [
    "Conditional coverage & looking at subgroups"
   ]
  },
  {
   "cell_type": "code",
   "execution_count": 51,
   "id": "8968c366",
   "metadata": {
    "execution": {
     "iopub.execute_input": "2025-08-19T18:32:15.901780Z",
     "iopub.status.busy": "2025-08-19T18:32:15.901307Z",
     "iopub.status.idle": "2025-08-19T18:32:16.208817Z",
     "shell.execute_reply": "2025-08-19T18:32:16.208024Z"
    },
    "papermill": {
     "duration": 0.329954,
     "end_time": "2025-08-19T18:32:16.210413",
     "exception": false,
     "start_time": "2025-08-19T18:32:15.880459",
     "status": "completed"
    },
    "tags": []
   },
   "outputs": [],
   "source": [
    "from fairness_multiverse.conformal import build_cp_groups\n",
    "\n",
    "cp_groups_df = build_cp_groups(pred_sets, y_true, X_test.index, org_test)"
   ]
  },
  {
   "cell_type": "code",
   "execution_count": 52,
   "id": "292ddabf",
   "metadata": {
    "execution": {
     "iopub.execute_input": "2025-08-19T18:32:16.267083Z",
     "iopub.status.busy": "2025-08-19T18:32:16.265884Z",
     "iopub.status.idle": "2025-08-19T18:32:17.151965Z",
     "shell.execute_reply": "2025-08-19T18:32:17.144503Z"
    },
    "papermill": {
     "duration": 0.916646,
     "end_time": "2025-08-19T18:32:17.153915",
     "exception": false,
     "start_time": "2025-08-19T18:32:16.237269",
     "status": "completed"
    },
    "tags": []
   },
   "outputs": [],
   "source": [
    "# Define covered = 1 if true_label is in the predicted set\n",
    "cp_groups_df['covered'] = cp_groups_df.apply(\n",
    "    lambda r: int(r['true_label'] in r['pred_set']),\n",
    "    axis=1\n",
    ")"
   ]
  },
  {
   "cell_type": "code",
   "execution_count": 53,
   "id": "3a261692",
   "metadata": {
    "execution": {
     "iopub.execute_input": "2025-08-19T18:32:17.190699Z",
     "iopub.status.busy": "2025-08-19T18:32:17.190176Z",
     "iopub.status.idle": "2025-08-19T18:32:17.205752Z",
     "shell.execute_reply": "2025-08-19T18:32:17.204900Z"
    },
    "papermill": {
     "duration": 0.039207,
     "end_time": "2025-08-19T18:32:17.206904",
     "exception": false,
     "start_time": "2025-08-19T18:32:17.167697",
     "status": "completed"
    },
    "tags": []
   },
   "outputs": [],
   "source": [
    "subgroups = ['frau1','nongerman','nongerman_male','nongerman_female']\n",
    "\n",
    "# Conditional coverage for subgroup==1\n",
    "cond_coverage = {\n",
    "    g: cp_groups_df.loc[cp_groups_df[g]==1, 'covered'].mean()\n",
    "    for g in subgroups\n",
    "}"
   ]
  },
  {
   "cell_type": "code",
   "execution_count": 54,
   "id": "894fd600",
   "metadata": {
    "execution": {
     "iopub.execute_input": "2025-08-19T18:32:17.232900Z",
     "iopub.status.busy": "2025-08-19T18:32:17.232464Z",
     "iopub.status.idle": "2025-08-19T18:32:17.239611Z",
     "shell.execute_reply": "2025-08-19T18:32:17.238531Z"
    },
    "papermill": {
     "duration": 0.022022,
     "end_time": "2025-08-19T18:32:17.241387",
     "exception": false,
     "start_time": "2025-08-19T18:32:17.219365",
     "status": "completed"
    },
    "tags": []
   },
   "outputs": [
    {
     "data": {
      "text/plain": [
       "{'frau1': 0.9078851597250304,\n",
       " 'nongerman': 0.9073148823892663,\n",
       " 'nongerman_male': 0.9253354949112852,\n",
       " 'nongerman_female': 0.8774962742175857}"
      ]
     },
     "execution_count": 54,
     "metadata": {},
     "output_type": "execute_result"
    }
   ],
   "source": [
    "cond_coverage"
   ]
  },
  {
   "cell_type": "code",
   "execution_count": 55,
   "id": "942895c7",
   "metadata": {
    "execution": {
     "iopub.execute_input": "2025-08-19T18:32:17.268257Z",
     "iopub.status.busy": "2025-08-19T18:32:17.267850Z",
     "iopub.status.idle": "2025-08-19T18:32:17.274348Z",
     "shell.execute_reply": "2025-08-19T18:32:17.273487Z"
    },
    "papermill": {
     "duration": 0.021086,
     "end_time": "2025-08-19T18:32:17.275766",
     "exception": false,
     "start_time": "2025-08-19T18:32:17.254680",
     "status": "completed"
    },
    "tags": []
   },
   "outputs": [],
   "source": [
    "for subgroup, cov in cond_coverage.items():\n",
    "    cp_metrics_df[f\"cov_{subgroup}\"] = cov"
   ]
  },
  {
   "cell_type": "code",
   "execution_count": 56,
   "id": "3970120f",
   "metadata": {
    "execution": {
     "iopub.execute_input": "2025-08-19T18:32:17.301122Z",
     "iopub.status.busy": "2025-08-19T18:32:17.300725Z",
     "iopub.status.idle": "2025-08-19T18:32:17.315214Z",
     "shell.execute_reply": "2025-08-19T18:32:17.314485Z"
    },
    "papermill": {
     "duration": 0.030614,
     "end_time": "2025-08-19T18:32:17.318563",
     "exception": false,
     "start_time": "2025-08-19T18:32:17.287949",
     "status": "completed"
    },
    "tags": []
   },
   "outputs": [
    {
     "data": {
      "text/html": [
       "<div>\n",
       "<style scoped>\n",
       "    .dataframe tbody tr th:only-of-type {\n",
       "        vertical-align: middle;\n",
       "    }\n",
       "\n",
       "    .dataframe tbody tr th {\n",
       "        vertical-align: top;\n",
       "    }\n",
       "\n",
       "    .dataframe thead th {\n",
       "        text-align: right;\n",
       "    }\n",
       "</style>\n",
       "<table border=\"1\" class=\"dataframe\">\n",
       "  <thead>\n",
       "    <tr style=\"text-align: right;\">\n",
       "      <th></th>\n",
       "      <th>universe_id</th>\n",
       "      <th>universe_training_year</th>\n",
       "      <th>universe_training_size</th>\n",
       "      <th>universe_scale</th>\n",
       "      <th>universe_model</th>\n",
       "      <th>universe_exclude_features</th>\n",
       "      <th>universe_exclude_subgroups</th>\n",
       "      <th>q_hat</th>\n",
       "      <th>coverage</th>\n",
       "      <th>avg_size</th>\n",
       "      <th>cov_frau1</th>\n",
       "      <th>cov_nongerman</th>\n",
       "      <th>cov_nongerman_male</th>\n",
       "      <th>cov_nongerman_female</th>\n",
       "    </tr>\n",
       "  </thead>\n",
       "  <tbody>\n",
       "    <tr>\n",
       "      <th>0</th>\n",
       "      <td>86df583dc9628125d17214bc06267caf</td>\n",
       "      <td>2012_14</td>\n",
       "      <td>5k</td>\n",
       "      <td>scale</td>\n",
       "      <td>penalized_logreg</td>\n",
       "      <td>sex</td>\n",
       "      <td>drop-non-german</td>\n",
       "      <td>0.691721</td>\n",
       "      <td>0.911258</td>\n",
       "      <td>1.135158</td>\n",
       "      <td>0.907885</td>\n",
       "      <td>0.907315</td>\n",
       "      <td>0.925335</td>\n",
       "      <td>0.877496</td>\n",
       "    </tr>\n",
       "  </tbody>\n",
       "</table>\n",
       "</div>"
      ],
      "text/plain": [
       "                        universe_id universe_training_year  \\\n",
       "0  86df583dc9628125d17214bc06267caf                2012_14   \n",
       "\n",
       "  universe_training_size universe_scale    universe_model  \\\n",
       "0                     5k          scale  penalized_logreg   \n",
       "\n",
       "  universe_exclude_features universe_exclude_subgroups     q_hat  coverage  \\\n",
       "0                       sex            drop-non-german  0.691721  0.911258   \n",
       "\n",
       "   avg_size  cov_frau1  cov_nongerman  cov_nongerman_male  \\\n",
       "0  1.135158   0.907885       0.907315            0.925335   \n",
       "\n",
       "   cov_nongerman_female  \n",
       "0              0.877496  "
      ]
     },
     "execution_count": 56,
     "metadata": {},
     "output_type": "execute_result"
    }
   ],
   "source": [
    "cp_metrics_df"
   ]
  },
  {
   "cell_type": "markdown",
   "id": "3fc519cc",
   "metadata": {
    "papermill": {
     "duration": 0.028168,
     "end_time": "2025-08-19T18:32:17.379748",
     "exception": false,
     "start_time": "2025-08-19T18:32:17.351580",
     "status": "completed"
    },
    "tags": []
   },
   "source": [
    "# (Fairness) Metrics"
   ]
  },
  {
   "cell_type": "code",
   "execution_count": 57,
   "id": "a2e5e155",
   "metadata": {
    "execution": {
     "iopub.execute_input": "2025-08-19T18:32:17.407422Z",
     "iopub.status.busy": "2025-08-19T18:32:17.407096Z",
     "iopub.status.idle": "2025-08-19T18:32:17.422014Z",
     "shell.execute_reply": "2025-08-19T18:32:17.421283Z"
    },
    "papermill": {
     "duration": 0.039985,
     "end_time": "2025-08-19T18:32:17.433799",
     "exception": false,
     "start_time": "2025-08-19T18:32:17.393814",
     "status": "completed"
    },
    "tags": []
   },
   "outputs": [],
   "source": [
    "colname_to_bin = \"maxdeutsch1\"\n",
    "majority_value = org_train[colname_to_bin].mode()[0]\n",
    "\n",
    "org_test[\"majmin\"] = np.where(org_test[colname_to_bin] == majority_value, \"majority\", \"minority\")"
   ]
  },
  {
   "cell_type": "code",
   "execution_count": 58,
   "id": "17e3e4d5",
   "metadata": {
    "execution": {
     "iopub.execute_input": "2025-08-19T18:32:17.467679Z",
     "iopub.status.busy": "2025-08-19T18:32:17.467026Z",
     "iopub.status.idle": "2025-08-19T18:32:19.212066Z",
     "shell.execute_reply": "2025-08-19T18:32:19.210523Z"
    },
    "papermill": {
     "duration": 1.763233,
     "end_time": "2025-08-19T18:32:19.215865",
     "exception": false,
     "start_time": "2025-08-19T18:32:17.452632",
     "status": "completed"
    },
    "tags": []
   },
   "outputs": [],
   "source": [
    "example_universe = universe.copy()\n",
    "example_universe[\"cutoff\"] = example_universe[\"cutoff\"][0]\n",
    "example_universe[\"eval_fairness_grouping\"] = example_universe[\"eval_fairness_grouping\"][0]\n",
    "fairness_dict, metric_frame = universe_analysis.compute_metrics(\n",
    "    example_universe,\n",
    "    y_pred_prob=probs_test,\n",
    "    y_test=y_true,\n",
    "    org_test=org_test,\n",
    ")"
   ]
  },
  {
   "cell_type": "markdown",
   "id": "1fb7a0e9",
   "metadata": {
    "papermill": {
     "duration": 0.013475,
     "end_time": "2025-08-19T18:32:19.256128",
     "exception": false,
     "start_time": "2025-08-19T18:32:19.242653",
     "status": "completed"
    },
    "tags": []
   },
   "source": [
    "# Overall"
   ]
  },
  {
   "cell_type": "markdown",
   "id": "be1784b1",
   "metadata": {
    "papermill": {
     "duration": 0.01206,
     "end_time": "2025-08-19T18:32:19.280403",
     "exception": false,
     "start_time": "2025-08-19T18:32:19.268343",
     "status": "completed"
    },
    "tags": []
   },
   "source": [
    "Main fairness target: Equalized Odds. Seems to be a better fit than equal opportunity, since we're not only interested in Y = 1. Seems to be a better fit than demographic parity, since we also care about accuracy, not just equal distribution of preds.\n",
    "\n",
    "Pick column for computation of fairness metrics\n",
    "\n",
    "Performance\n",
    "Overall performance measures, most interesting in relation to the measures split by group below"
   ]
  },
  {
   "cell_type": "code",
   "execution_count": 59,
   "id": "b7672bee",
   "metadata": {
    "execution": {
     "iopub.execute_input": "2025-08-19T18:32:19.308736Z",
     "iopub.status.busy": "2025-08-19T18:32:19.307161Z",
     "iopub.status.idle": "2025-08-19T18:32:19.322775Z",
     "shell.execute_reply": "2025-08-19T18:32:19.321647Z"
    },
    "papermill": {
     "duration": 0.032074,
     "end_time": "2025-08-19T18:32:19.324600",
     "exception": false,
     "start_time": "2025-08-19T18:32:19.292526",
     "status": "completed"
    },
    "tags": []
   },
   "outputs": [
    {
     "data": {
      "text/plain": [
       "accuracy                   0.223777\n",
       "balanced accuracy          0.547290\n",
       "f1                         0.245125\n",
       "precision                  0.140031\n",
       "false positive rate        0.887867\n",
       "false negative rate        0.017553\n",
       "selection rate             0.900000\n",
       "count                  89710.000000\n",
       "dtype: float64"
      ]
     },
     "execution_count": 59,
     "metadata": {},
     "output_type": "execute_result"
    }
   ],
   "source": [
    "metric_frame.overall"
   ]
  },
  {
   "cell_type": "markdown",
   "id": "d93333c9",
   "metadata": {
    "papermill": {
     "duration": 0.012479,
     "end_time": "2025-08-19T18:32:19.352661",
     "exception": false,
     "start_time": "2025-08-19T18:32:19.340182",
     "status": "completed"
    },
    "tags": []
   },
   "source": [
    "By Group"
   ]
  },
  {
   "cell_type": "code",
   "execution_count": 60,
   "id": "52256966",
   "metadata": {
    "execution": {
     "iopub.execute_input": "2025-08-19T18:32:19.380733Z",
     "iopub.status.busy": "2025-08-19T18:32:19.379228Z",
     "iopub.status.idle": "2025-08-19T18:32:19.401755Z",
     "shell.execute_reply": "2025-08-19T18:32:19.400707Z"
    },
    "papermill": {
     "duration": 0.039307,
     "end_time": "2025-08-19T18:32:19.404421",
     "exception": false,
     "start_time": "2025-08-19T18:32:19.365114",
     "status": "completed"
    },
    "tags": []
   },
   "outputs": [
    {
     "data": {
      "text/html": [
       "<div>\n",
       "<style scoped>\n",
       "    .dataframe tbody tr th:only-of-type {\n",
       "        vertical-align: middle;\n",
       "    }\n",
       "\n",
       "    .dataframe tbody tr th {\n",
       "        vertical-align: top;\n",
       "    }\n",
       "\n",
       "    .dataframe thead th {\n",
       "        text-align: right;\n",
       "    }\n",
       "</style>\n",
       "<table border=\"1\" class=\"dataframe\">\n",
       "  <thead>\n",
       "    <tr style=\"text-align: right;\">\n",
       "      <th></th>\n",
       "      <th>accuracy</th>\n",
       "      <th>balanced accuracy</th>\n",
       "      <th>f1</th>\n",
       "      <th>precision</th>\n",
       "      <th>false positive rate</th>\n",
       "      <th>false negative rate</th>\n",
       "      <th>selection rate</th>\n",
       "      <th>count</th>\n",
       "    </tr>\n",
       "    <tr>\n",
       "      <th>majmin</th>\n",
       "      <th></th>\n",
       "      <th></th>\n",
       "      <th></th>\n",
       "      <th></th>\n",
       "      <th></th>\n",
       "      <th></th>\n",
       "      <th></th>\n",
       "      <th></th>\n",
       "    </tr>\n",
       "  </thead>\n",
       "  <tbody>\n",
       "    <tr>\n",
       "      <th>majority</th>\n",
       "      <td>0.241521</td>\n",
       "      <td>0.555042</td>\n",
       "      <td>0.254773</td>\n",
       "      <td>0.146392</td>\n",
       "      <td>0.871098</td>\n",
       "      <td>0.018818</td>\n",
       "      <td>0.885644</td>\n",
       "      <td>69170.0</td>\n",
       "    </tr>\n",
       "    <tr>\n",
       "      <th>minority</th>\n",
       "      <td>0.164021</td>\n",
       "      <td>0.522033</td>\n",
       "      <td>0.214034</td>\n",
       "      <td>0.120027</td>\n",
       "      <td>0.943264</td>\n",
       "      <td>0.012669</td>\n",
       "      <td>0.948345</td>\n",
       "      <td>20540.0</td>\n",
       "    </tr>\n",
       "  </tbody>\n",
       "</table>\n",
       "</div>"
      ],
      "text/plain": [
       "          accuracy  balanced accuracy        f1  precision  \\\n",
       "majmin                                                       \n",
       "majority  0.241521           0.555042  0.254773   0.146392   \n",
       "minority  0.164021           0.522033  0.214034   0.120027   \n",
       "\n",
       "          false positive rate  false negative rate  selection rate    count  \n",
       "majmin                                                                       \n",
       "majority             0.871098             0.018818        0.885644  69170.0  \n",
       "minority             0.943264             0.012669        0.948345  20540.0  "
      ]
     },
     "execution_count": 60,
     "metadata": {},
     "output_type": "execute_result"
    }
   ],
   "source": [
    "metric_frame.by_group"
   ]
  },
  {
   "cell_type": "code",
   "execution_count": 61,
   "id": "6e6c20ae",
   "metadata": {
    "execution": {
     "iopub.execute_input": "2025-08-19T18:32:19.437945Z",
     "iopub.status.busy": "2025-08-19T18:32:19.436604Z",
     "iopub.status.idle": "2025-08-19T18:32:21.328832Z",
     "shell.execute_reply": "2025-08-19T18:32:21.327902Z"
    },
    "papermill": {
     "duration": 1.907793,
     "end_time": "2025-08-19T18:32:21.330178",
     "exception": false,
     "start_time": "2025-08-19T18:32:19.422385",
     "status": "completed"
    },
    "tags": []
   },
   "outputs": [
    {
     "data": {
      "text/plain": [
       "array([[<Axes: title={'center': 'accuracy'}, xlabel='majmin'>,\n",
       "        <Axes: title={'center': 'balanced accuracy'}, xlabel='majmin'>,\n",
       "        <Axes: title={'center': 'f1'}, xlabel='majmin'>],\n",
       "       [<Axes: title={'center': 'precision'}, xlabel='majmin'>,\n",
       "        <Axes: title={'center': 'false positive rate'}, xlabel='majmin'>,\n",
       "        <Axes: title={'center': 'false negative rate'}, xlabel='majmin'>],\n",
       "       [<Axes: title={'center': 'selection rate'}, xlabel='majmin'>,\n",
       "        <Axes: title={'center': 'count'}, xlabel='majmin'>,\n",
       "        <Axes: xlabel='majmin'>]], dtype=object)"
      ]
     },
     "execution_count": 61,
     "metadata": {},
     "output_type": "execute_result"
    },
    {
     "data": {
      "image/png": "[encoded data removed]",
      "text/plain": [
       "<Figure size 1200x800 with 9 Axes>"
      ]
     },
     "metadata": {},
     "output_type": "display_data"
    }
   ],
   "source": [
    "# In a graphic\n",
    "metric_frame.by_group.plot.bar(\n",
    "    subplots=True,\n",
    "    layout=[3, 3],\n",
    "    legend=False,\n",
    "    figsize=[12, 8],\n",
    "    title=\"Show all metrics\",\n",
    ")"
   ]
  },
  {
   "cell_type": "markdown",
   "id": "b2e433ae",
   "metadata": {
    "papermill": {
     "duration": 0.013689,
     "end_time": "2025-08-19T18:32:21.358445",
     "exception": false,
     "start_time": "2025-08-19T18:32:21.344756",
     "status": "completed"
    },
    "tags": []
   },
   "source": [
    "# Final Output"
   ]
  },
  {
   "cell_type": "code",
   "execution_count": 62,
   "id": "3871301e",
   "metadata": {
    "execution": {
     "iopub.execute_input": "2025-08-19T18:32:21.387774Z",
     "iopub.status.busy": "2025-08-19T18:32:21.386766Z",
     "iopub.status.idle": "2025-08-19T18:32:21.396343Z",
     "shell.execute_reply": "2025-08-19T18:32:21.395627Z"
    },
    "papermill": {
     "duration": 0.02586,
     "end_time": "2025-08-19T18:32:21.397832",
     "exception": false,
     "start_time": "2025-08-19T18:32:21.371972",
     "status": "completed"
    },
    "tags": []
   },
   "outputs": [
    {
     "data": {
      "text/plain": [
       "4"
      ]
     },
     "execution_count": 62,
     "metadata": {},
     "output_type": "execute_result"
    }
   ],
   "source": [
    "sub_universes = universe_analysis.generate_sub_universes()\n",
    "len(sub_universes)"
   ]
  },
  {
   "cell_type": "code",
   "execution_count": 63,
   "id": "d9cfdaca",
   "metadata": {
    "execution": {
     "iopub.execute_input": "2025-08-19T18:32:21.427865Z",
     "iopub.status.busy": "2025-08-19T18:32:21.427434Z",
     "iopub.status.idle": "2025-08-19T18:32:21.447788Z",
     "shell.execute_reply": "2025-08-19T18:32:21.446765Z"
    },
    "papermill": {
     "duration": 0.03968,
     "end_time": "2025-08-19T18:32:21.452442",
     "exception": false,
     "start_time": "2025-08-19T18:32:21.412762",
     "status": "completed"
    },
    "tags": []
   },
   "outputs": [],
   "source": [
    "def filter_sub_universe_data(sub_universe, org_test):\n",
    "    # Keep all rows — no filtering\n",
    "    keep_rows_mask = np.ones(org_test.shape[0], dtype=bool)\n",
    "\n",
    "    print(f\"[INFO] Keeping all rows: {keep_rows_mask.sum()} rows retained.\")\n",
    "    return keep_rows_mask"
   ]
  },
  {
   "cell_type": "code",
   "execution_count": 64,
   "id": "2bc31ac1",
   "metadata": {
    "execution": {
     "iopub.execute_input": "2025-08-19T18:32:21.495632Z",
     "iopub.status.busy": "2025-08-19T18:32:21.495173Z",
     "iopub.status.idle": "2025-08-19T18:32:28.273464Z",
     "shell.execute_reply": "2025-08-19T18:32:28.272485Z"
    },
    "papermill": {
     "duration": 6.794526,
     "end_time": "2025-08-19T18:32:28.274880",
     "exception": false,
     "start_time": "2025-08-19T18:32:21.480354",
     "status": "completed"
    },
    "tags": []
   },
   "outputs": [
    {
     "name": "stdout",
     "output_type": "stream",
     "text": [
      "Stopping execution_time clock.\n",
      "[INFO] Keeping all rows: 89710 rows retained.\n"
     ]
    },
    {
     "name": "stdout",
     "output_type": "stream",
     "text": [
      "[INFO] Keeping all rows: 89710 rows retained.\n"
     ]
    },
    {
     "name": "stdout",
     "output_type": "stream",
     "text": [
      "[INFO] Keeping all rows: 89710 rows retained.\n"
     ]
    },
    {
     "name": "stdout",
     "output_type": "stream",
     "text": [
      "[INFO] Keeping all rows: 89710 rows retained.\n"
     ]
    },
    {
     "data": {
      "text/html": [
       "<div>\n",
       "<style scoped>\n",
       "    .dataframe tbody tr th:only-of-type {\n",
       "        vertical-align: middle;\n",
       "    }\n",
       "\n",
       "    .dataframe tbody tr th {\n",
       "        vertical-align: top;\n",
       "    }\n",
       "\n",
       "    .dataframe thead th {\n",
       "        text-align: right;\n",
       "    }\n",
       "</style>\n",
       "<table border=\"1\" class=\"dataframe\">\n",
       "  <thead>\n",
       "    <tr style=\"text-align: right;\">\n",
       "      <th></th>\n",
       "      <th>run_no</th>\n",
       "      <th>universe_id</th>\n",
       "      <th>universe_settings</th>\n",
       "      <th>execution_time</th>\n",
       "      <th>test_size_n</th>\n",
       "      <th>test_size_frac</th>\n",
       "      <th>fair_main_equalized_odds_difference</th>\n",
       "      <th>fair_main_equalized_odds_ratio</th>\n",
       "      <th>fair_main_demographic_parity_difference</th>\n",
       "      <th>fair_main_demographic_parity_ratio</th>\n",
       "      <th>...</th>\n",
       "      <th>perf_grp_precision_0</th>\n",
       "      <th>perf_grp_precision_1</th>\n",
       "      <th>perf_grp_false positive rate_0</th>\n",
       "      <th>perf_grp_false positive rate_1</th>\n",
       "      <th>perf_grp_false negative rate_0</th>\n",
       "      <th>perf_grp_false negative rate_1</th>\n",
       "      <th>perf_grp_selection rate_0</th>\n",
       "      <th>perf_grp_selection rate_1</th>\n",
       "      <th>perf_grp_count_0</th>\n",
       "      <th>perf_grp_count_1</th>\n",
       "    </tr>\n",
       "  </thead>\n",
       "  <tbody>\n",
       "    <tr>\n",
       "      <th>0</th>\n",
       "      <td>3</td>\n",
       "      <td>86df583dc9628125d17214bc06267caf</td>\n",
       "      <td>{\"cutoff\": \"quantile_0.1\", \"eval_fairness_grou...</td>\n",
       "      <td>22.874891</td>\n",
       "      <td>89710</td>\n",
       "      <td>1.0</td>\n",
       "      <td>0.072167</td>\n",
       "      <td>0.923493</td>\n",
       "      <td>0.062701</td>\n",
       "      <td>0.933884</td>\n",
       "      <td>...</td>\n",
       "      <td>NaN</td>\n",
       "      <td>NaN</td>\n",
       "      <td>NaN</td>\n",
       "      <td>NaN</td>\n",
       "      <td>NaN</td>\n",
       "      <td>NaN</td>\n",
       "      <td>NaN</td>\n",
       "      <td>NaN</td>\n",
       "      <td>NaN</td>\n",
       "      <td>NaN</td>\n",
       "    </tr>\n",
       "    <tr>\n",
       "      <th>0</th>\n",
       "      <td>3</td>\n",
       "      <td>86df583dc9628125d17214bc06267caf</td>\n",
       "      <td>{\"cutoff\": \"quantile_0.1\", \"eval_fairness_grou...</td>\n",
       "      <td>22.874891</td>\n",
       "      <td>89710</td>\n",
       "      <td>1.0</td>\n",
       "      <td>0.072167</td>\n",
       "      <td>0.923493</td>\n",
       "      <td>0.062701</td>\n",
       "      <td>0.933884</td>\n",
       "      <td>...</td>\n",
       "      <td>0.120027</td>\n",
       "      <td>0.146392</td>\n",
       "      <td>0.943264</td>\n",
       "      <td>0.871098</td>\n",
       "      <td>0.012669</td>\n",
       "      <td>0.018818</td>\n",
       "      <td>0.948345</td>\n",
       "      <td>0.885644</td>\n",
       "      <td>20540.0</td>\n",
       "      <td>69170.0</td>\n",
       "    </tr>\n",
       "    <tr>\n",
       "      <th>0</th>\n",
       "      <td>3</td>\n",
       "      <td>86df583dc9628125d17214bc06267caf</td>\n",
       "      <td>{\"cutoff\": \"quantile_0.25\", \"eval_fairness_gro...</td>\n",
       "      <td>22.874891</td>\n",
       "      <td>89710</td>\n",
       "      <td>1.0</td>\n",
       "      <td>0.119200</td>\n",
       "      <td>0.853503</td>\n",
       "      <td>0.101730</td>\n",
       "      <td>0.877202</td>\n",
       "      <td>...</td>\n",
       "      <td>NaN</td>\n",
       "      <td>NaN</td>\n",
       "      <td>NaN</td>\n",
       "      <td>NaN</td>\n",
       "      <td>NaN</td>\n",
       "      <td>NaN</td>\n",
       "      <td>NaN</td>\n",
       "      <td>NaN</td>\n",
       "      <td>NaN</td>\n",
       "      <td>NaN</td>\n",
       "    </tr>\n",
       "    <tr>\n",
       "      <th>0</th>\n",
       "      <td>3</td>\n",
       "      <td>86df583dc9628125d17214bc06267caf</td>\n",
       "      <td>{\"cutoff\": \"quantile_0.25\", \"eval_fairness_gro...</td>\n",
       "      <td>22.874891</td>\n",
       "      <td>89710</td>\n",
       "      <td>1.0</td>\n",
       "      <td>0.119200</td>\n",
       "      <td>0.853503</td>\n",
       "      <td>0.101730</td>\n",
       "      <td>0.877202</td>\n",
       "      <td>...</td>\n",
       "      <td>0.131053</td>\n",
       "      <td>0.170632</td>\n",
       "      <td>0.813669</td>\n",
       "      <td>0.694469</td>\n",
       "      <td>0.058277</td>\n",
       "      <td>0.061597</td>\n",
       "      <td>0.828432</td>\n",
       "      <td>0.726702</td>\n",
       "      <td>20540.0</td>\n",
       "      <td>69170.0</td>\n",
       "    </tr>\n",
       "  </tbody>\n",
       "</table>\n",
       "<p>4 rows × 50 columns</p>\n",
       "</div>"
      ],
      "text/plain": [
       "  run_no                       universe_id  \\\n",
       "0      3  86df583dc9628125d17214bc06267caf   \n",
       "0      3  86df583dc9628125d17214bc06267caf   \n",
       "0      3  86df583dc9628125d17214bc06267caf   \n",
       "0      3  86df583dc9628125d17214bc06267caf   \n",
       "\n",
       "                                   universe_settings  execution_time  \\\n",
       "0  {\"cutoff\": \"quantile_0.1\", \"eval_fairness_grou...       22.874891   \n",
       "0  {\"cutoff\": \"quantile_0.1\", \"eval_fairness_grou...       22.874891   \n",
       "0  {\"cutoff\": \"quantile_0.25\", \"eval_fairness_gro...       22.874891   \n",
       "0  {\"cutoff\": \"quantile_0.25\", \"eval_fairness_gro...       22.874891   \n",
       "\n",
       "   test_size_n  test_size_frac  fair_main_equalized_odds_difference  \\\n",
       "0        89710             1.0                             0.072167   \n",
       "0        89710             1.0                             0.072167   \n",
       "0        89710             1.0                             0.119200   \n",
       "0        89710             1.0                             0.119200   \n",
       "\n",
       "   fair_main_equalized_odds_ratio  fair_main_demographic_parity_difference  \\\n",
       "0                        0.923493                                 0.062701   \n",
       "0                        0.923493                                 0.062701   \n",
       "0                        0.853503                                 0.101730   \n",
       "0                        0.853503                                 0.101730   \n",
       "\n",
       "   fair_main_demographic_parity_ratio  ...  perf_grp_precision_0  \\\n",
       "0                            0.933884  ...                   NaN   \n",
       "0                            0.933884  ...              0.120027   \n",
       "0                            0.877202  ...                   NaN   \n",
       "0                            0.877202  ...              0.131053   \n",
       "\n",
       "   perf_grp_precision_1  perf_grp_false positive rate_0  \\\n",
       "0                   NaN                             NaN   \n",
       "0              0.146392                        0.943264   \n",
       "0                   NaN                             NaN   \n",
       "0              0.170632                        0.813669   \n",
       "\n",
       "   perf_grp_false positive rate_1  perf_grp_false negative rate_0  \\\n",
       "0                             NaN                             NaN   \n",
       "0                        0.871098                        0.012669   \n",
       "0                             NaN                             NaN   \n",
       "0                        0.694469                        0.058277   \n",
       "\n",
       "   perf_grp_false negative rate_1  perf_grp_selection rate_0  \\\n",
       "0                             NaN                        NaN   \n",
       "0                        0.018818                   0.948345   \n",
       "0                             NaN                        NaN   \n",
       "0                        0.061597                   0.828432   \n",
       "\n",
       "   perf_grp_selection rate_1  perf_grp_count_0  perf_grp_count_1  \n",
       "0                        NaN               NaN               NaN  \n",
       "0                   0.885644           20540.0           69170.0  \n",
       "0                        NaN               NaN               NaN  \n",
       "0                   0.726702           20540.0           69170.0  \n",
       "\n",
       "[4 rows x 50 columns]"
      ]
     },
     "execution_count": 64,
     "metadata": {},
     "output_type": "execute_result"
    }
   ],
   "source": [
    "final_output = universe_analysis.generate_final_output(\n",
    "    y_pred_prob=probs_test,\n",
    "    y_test=y_true,\n",
    "    org_test=org_test,\n",
    "    filter_data=filter_sub_universe_data,\n",
    "    cp_metrics_df=cp_metrics_df,\n",
    "    save=True,\n",
    ")\n",
    "final_output"
   ]
  },
  {
   "cell_type": "code",
   "execution_count": null,
   "id": "8b80a1ff",
   "metadata": {
    "papermill": {
     "duration": 0.033702,
     "end_time": "2025-08-19T18:32:28.334172",
     "exception": false,
     "start_time": "2025-08-19T18:32:28.300470",
     "status": "completed"
    },
    "tags": []
   },
   "outputs": [],
   "source": []
  },
  {
   "cell_type": "code",
   "execution_count": null,
   "id": "275c9fad",
   "metadata": {
    "papermill": {
     "duration": 0.014731,
     "end_time": "2025-08-19T18:32:28.363965",
     "exception": false,
     "start_time": "2025-08-19T18:32:28.349234",
     "status": "completed"
    },
    "tags": []
   },
   "outputs": [],
   "source": []
  }
 ],
 "metadata": {
  "celltoolbar": "Tags",
  "kernelspec": {
   "display_name": "Python (CMA Fairness)",
   "language": "python",
   "name": "cma_fair_env"
  },
  "language_info": {
   "codemirror_mode": {
    "name": "ipython",
    "version": 3
   },
   "file_extension": ".py",
   "mimetype": "text/x-python",
   "name": "python",
   "nbconvert_exporter": "python",
   "pygments_lexer": "ipython3",
   "version": "3.10.12"
  },
  "papermill": {
   "default_parameters": {},
   "duration": 33.509085,
   "end_time": "2025-08-19T18:32:29.202619",
   "environment_variables": {},
   "exception": null,
   "input_path": "universe_analysis.ipynb",
   "output_path": "output/runs/3/notebooks/m_3-86df583dc9628125d17214bc06267caf.ipynb",
   "parameters": {
    "output_dir": "output",
    "run_no": "3",
    "seed": "2023",
    "universe": "{\"cutoff\": [\"quantile_0.1\", \"quantile_0.25\"], \"eval_fairness_grouping\": [\"majority-minority\", \"nationality-all\"], \"exclude_features\": \"sex\", \"exclude_subgroups\": \"drop-non-german\", \"model\": \"penalized_logreg\", \"scale\": \"scale\", \"training_size\": \"5k\", \"training_year\": \"2012_14\"}",
    "universe_id": "86df583dc9628125d17214bc06267caf"
   },
   "start_time": "2025-08-19T18:31:55.693534",
   "version": "2.6.0"
  }
 },
 "nbformat": 4,
 "nbformat_minor": 5
}