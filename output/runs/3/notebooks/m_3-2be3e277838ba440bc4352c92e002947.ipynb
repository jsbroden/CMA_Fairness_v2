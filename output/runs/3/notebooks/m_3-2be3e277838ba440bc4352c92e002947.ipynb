{
 "cells": [
  {
   "cell_type": "markdown",
   "id": "ef23dbb3",
   "metadata": {
    "papermill": {
     "duration": 0.010783,
     "end_time": "2025-08-19T18:26:13.804793",
     "exception": false,
     "start_time": "2025-08-19T18:26:13.794010",
     "status": "completed"
    },
    "tags": []
   },
   "source": [
    "# Setup"
   ]
  },
  {
   "cell_type": "code",
   "execution_count": 1,
   "id": "0bc8e7dc",
   "metadata": {
    "execution": {
     "iopub.execute_input": "2025-08-19T18:26:13.834041Z",
     "iopub.status.busy": "2025-08-19T18:26:13.833529Z",
     "iopub.status.idle": "2025-08-19T18:26:13.845671Z",
     "shell.execute_reply": "2025-08-19T18:26:13.844730Z"
    },
    "papermill": {
     "duration": 0.031082,
     "end_time": "2025-08-19T18:26:13.846966",
     "exception": false,
     "start_time": "2025-08-19T18:26:13.815884",
     "status": "completed"
    },
    "tags": []
   },
   "outputs": [
    {
     "name": "stdout",
     "output_type": "stream",
     "text": [
      "/dss/dsshome1/0C/ra93lal2/cma/CMA_Fairness_v2\n"
     ]
    },
    {
     "name": "stderr",
     "output_type": "stream",
     "text": [
      "/dss/dsshome1/0C/ra93lal2/.local/share/virtualenvs/CMA_Fairness_v2-3j10GkSs/lib/python3.10/site-packages/IPython/core/magics/osm.py:393: UserWarning: This is now an optional IPython functionality, using bookmarks requires you to install the `pickleshare` library.\n",
      "  bkms = self.shell.db.get('bookmarks', {})\n",
      "/dss/dsshome1/0C/ra93lal2/.local/share/virtualenvs/CMA_Fairness_v2-3j10GkSs/lib/python3.10/site-packages/IPython/core/magics/osm.py:417: UserWarning: This is now an optional IPython functionality, setting dhist requires you to install the `pickleshare` library.\n",
      "  self.shell.db['dhist'] = compress_dhist(dhist)[-100:]\n"
     ]
    }
   ],
   "source": [
    "%cd ~/cma/CMA_Fairness_v2"
   ]
  },
  {
   "cell_type": "markdown",
   "id": "9d235661",
   "metadata": {
    "papermill": {
     "duration": 0.016815,
     "end_time": "2025-08-19T18:26:13.874118",
     "exception": false,
     "start_time": "2025-08-19T18:26:13.857303",
     "status": "completed"
    },
    "tags": []
   },
   "source": [
    "The following cell holds the definition of our parameters, these values can be overriden by rendering the with e.g. the following command:\n",
    "\n",
    "papermill -p alpha 0.2 -p ratio 0.3 universe_analysis.ipynb output/test_run.ipynb"
   ]
  },
  {
   "cell_type": "code",
   "execution_count": 2,
   "id": "4a789d8e",
   "metadata": {
    "execution": {
     "iopub.execute_input": "2025-08-19T18:26:13.914275Z",
     "iopub.status.busy": "2025-08-19T18:26:13.913789Z",
     "iopub.status.idle": "2025-08-19T18:26:13.920738Z",
     "shell.execute_reply": "2025-08-19T18:26:13.919675Z"
    },
    "papermill": {
     "duration": 0.029812,
     "end_time": "2025-08-19T18:26:13.922071",
     "exception": false,
     "start_time": "2025-08-19T18:26:13.892259",
     "status": "completed"
    },
    "tags": []
   },
   "outputs": [
    {
     "name": "stdout",
     "output_type": "stream",
     "text": [
      "Current working directory: /dss/dsshome1/0C/ra93lal2/cma/CMA_Fairness_v2\n"
     ]
    }
   ],
   "source": [
    "import os\n",
    "print(\"Current working directory:\", os.getcwd())"
   ]
  },
  {
   "cell_type": "code",
   "execution_count": 3,
   "id": "4132aaed",
   "metadata": {
    "execution": {
     "iopub.execute_input": "2025-08-19T18:26:13.955034Z",
     "iopub.status.busy": "2025-08-19T18:26:13.954572Z",
     "iopub.status.idle": "2025-08-19T18:26:13.960854Z",
     "shell.execute_reply": "2025-08-19T18:26:13.959829Z"
    },
    "papermill": {
     "duration": 0.026101,
     "end_time": "2025-08-19T18:26:13.962166",
     "exception": false,
     "start_time": "2025-08-19T18:26:13.936065",
     "status": "completed"
    },
    "tags": [
     "parameters"
    ]
   },
   "outputs": [],
   "source": [
    "run_no = 0\n",
    "universe_id = \"test\"\n",
    "universe = {\n",
    "    \"training_size\": \"5k\", # \"25k\", \"5k\", \"1k\"\n",
    "    \"training_year\": \"2012_14\", # \"2014\", \"2012_14\", \"2010_14\"\n",
    "    \"scale\": \"scale\", # \"scale\", \"do-not-scale\",\n",
    "    \"model\": \"elasticnet\", # \"logreg\", \"penalized_logreg\", \"rf\", \"gbm\", \"elasticnet\"\n",
    "    \"cutoff\": [\"quantile_0.15\", \"quantile_0.30\"],\n",
    "    \"exclude_features\": \"age\", # \"none\", \"nationality\", \"sex\", \"nationality-sex\", \"age\"\n",
    "    \"exclude_subgroups\": \"drop-non-german\", # \"keep-all\", \"drop-non-german\"\n",
    "    \"eval_fairness_grouping\": [\"majority-minority\", \"nationality-all\"]\n",
    "}\n",
    "\n",
    "output_dir=\"./output\"\n",
    "seed=0"
   ]
  },
  {
   "cell_type": "code",
   "execution_count": 4,
   "id": "ce475a5f",
   "metadata": {
    "execution": {
     "iopub.execute_input": "2025-08-19T18:26:13.993930Z",
     "iopub.status.busy": "2025-08-19T18:26:13.993506Z",
     "iopub.status.idle": "2025-08-19T18:26:13.999385Z",
     "shell.execute_reply": "2025-08-19T18:26:13.998506Z"
    },
    "papermill": {
     "duration": 0.025198,
     "end_time": "2025-08-19T18:26:14.000535",
     "exception": false,
     "start_time": "2025-08-19T18:26:13.975337",
     "status": "completed"
    },
    "tags": [
     "injected-parameters"
    ]
   },
   "outputs": [],
   "source": [
    "# Parameters\n",
    "universe_id = \"2be3e277838ba440bc4352c92e002947\"\n",
    "run_no = \"3\"\n",
    "universe = \"{\\\"cutoff\\\": [\\\"quantile_0.1\\\", \\\"quantile_0.25\\\"], \\\"eval_fairness_grouping\\\": [\\\"majority-minority\\\", \\\"nationality-all\\\"], \\\"exclude_features\\\": \\\"nationality\\\", \\\"exclude_subgroups\\\": \\\"drop-non-german\\\", \\\"model\\\": \\\"elasticnet\\\", \\\"scale\\\": \\\"scale\\\", \\\"training_size\\\": \\\"5k\\\", \\\"training_year\\\": \\\"2014\\\"}\"\n",
    "output_dir = \"output\"\n",
    "seed = \"2023\"\n"
   ]
  },
  {
   "cell_type": "code",
   "execution_count": 5,
   "id": "a5d7941f",
   "metadata": {
    "execution": {
     "iopub.execute_input": "2025-08-19T18:26:14.033488Z",
     "iopub.status.busy": "2025-08-19T18:26:14.033033Z",
     "iopub.status.idle": "2025-08-19T18:26:14.038731Z",
     "shell.execute_reply": "2025-08-19T18:26:14.037937Z"
    },
    "papermill": {
     "duration": 0.025481,
     "end_time": "2025-08-19T18:26:14.039945",
     "exception": false,
     "start_time": "2025-08-19T18:26:14.014464",
     "status": "completed"
    },
    "tags": []
   },
   "outputs": [],
   "source": [
    "import json\n",
    "if isinstance(universe, str):\n",
    "    universe = json.loads(universe)"
   ]
  },
  {
   "cell_type": "code",
   "execution_count": 6,
   "id": "7076ccb1",
   "metadata": {
    "execution": {
     "iopub.execute_input": "2025-08-19T18:26:14.072850Z",
     "iopub.status.busy": "2025-08-19T18:26:14.072377Z",
     "iopub.status.idle": "2025-08-19T18:26:14.137870Z",
     "shell.execute_reply": "2025-08-19T18:26:14.137000Z"
    },
    "papermill": {
     "duration": 0.085661,
     "end_time": "2025-08-19T18:26:14.139415",
     "exception": false,
     "start_time": "2025-08-19T18:26:14.053754",
     "status": "completed"
    },
    "tags": []
   },
   "outputs": [],
   "source": [
    "# Auto-reload the custom package\n",
    "%load_ext autoreload\n",
    "%autoreload 1\n",
    "%aimport fairness_multiverse"
   ]
  },
  {
   "cell_type": "code",
   "execution_count": 7,
   "id": "94c8eb93",
   "metadata": {
    "execution": {
     "iopub.execute_input": "2025-08-19T18:26:14.182719Z",
     "iopub.status.busy": "2025-08-19T18:26:14.182257Z",
     "iopub.status.idle": "2025-08-19T18:26:15.968190Z",
     "shell.execute_reply": "2025-08-19T18:26:15.967115Z"
    },
    "papermill": {
     "duration": 1.808868,
     "end_time": "2025-08-19T18:26:15.969889",
     "exception": false,
     "start_time": "2025-08-19T18:26:14.161021",
     "status": "completed"
    },
    "tags": []
   },
   "outputs": [],
   "source": [
    "from fairness_multiverse.universe import UniverseAnalysis\n",
    "\n",
    "universe_analysis = UniverseAnalysis(\n",
    "    run_no = run_no,\n",
    "    universe_id = universe_id,\n",
    "    universe = universe,\n",
    "    output_dir=output_dir,\n",
    ")"
   ]
  },
  {
   "cell_type": "code",
   "execution_count": 8,
   "id": "2a6381cf",
   "metadata": {
    "execution": {
     "iopub.execute_input": "2025-08-19T18:26:15.992880Z",
     "iopub.status.busy": "2025-08-19T18:26:15.992092Z",
     "iopub.status.idle": "2025-08-19T18:26:16.002301Z",
     "shell.execute_reply": "2025-08-19T18:26:16.000649Z"
    },
    "papermill": {
     "duration": 0.022095,
     "end_time": "2025-08-19T18:26:16.003945",
     "exception": false,
     "start_time": "2025-08-19T18:26:15.981850",
     "status": "completed"
    },
    "tags": []
   },
   "outputs": [
    {
     "name": "stdout",
     "output_type": "stream",
     "text": [
      "Using Seed: 2023\n"
     ]
    }
   ],
   "source": [
    "import numpy as np\n",
    "parsed_seed = int(seed)\n",
    "np.random.seed(parsed_seed)\n",
    "print(f\"Using Seed: {parsed_seed}\")"
   ]
  },
  {
   "cell_type": "markdown",
   "id": "b6e958b4",
   "metadata": {
    "papermill": {
     "duration": 0.010012,
     "end_time": "2025-08-19T18:26:16.026944",
     "exception": false,
     "start_time": "2025-08-19T18:26:16.016932",
     "status": "completed"
    },
    "tags": []
   },
   "source": [
    "# Loading Data"
   ]
  },
  {
   "cell_type": "code",
   "execution_count": 9,
   "id": "98701482",
   "metadata": {
    "execution": {
     "iopub.execute_input": "2025-08-19T18:26:16.047838Z",
     "iopub.status.busy": "2025-08-19T18:26:16.046666Z",
     "iopub.status.idle": "2025-08-19T18:26:26.397052Z",
     "shell.execute_reply": "2025-08-19T18:26:26.393927Z"
    },
    "papermill": {
     "duration": 10.363058,
     "end_time": "2025-08-19T18:26:26.399073",
     "exception": false,
     "start_time": "2025-08-19T18:26:16.036015",
     "status": "completed"
    },
    "tags": []
   },
   "outputs": [
    {
     "name": "stdout",
     "output_type": "stream",
     "text": [
      "Loading SIAB data from cache: data/siab_cached.csv.gz\n"
     ]
    },
    {
     "name": "stdout",
     "output_type": "stream",
     "text": [
      "(643690, 164)\n"
     ]
    }
   ],
   "source": [
    "from pathlib import Path\n",
    "import pandas as pd\n",
    "\n",
    "# File paths\n",
    "raw_file = Path(\"data/raw/siab.csv\")\n",
    "cache_file = Path(\"data/siab_cached.csv.gz\")\n",
    "\n",
    "# Ensure cache directory exists\n",
    "cache_file.parent.mkdir(parents=True, exist_ok=True)\n",
    "\n",
    "# Load with simple caching\n",
    "if cache_file.exists():\n",
    "    print(f\"Loading SIAB data from cache: {cache_file}\")\n",
    "    siab = pd.read_csv(cache_file, compression='gzip')\n",
    "else:\n",
    "    print(f\"Cache not found. Reading raw SIAB data: {raw_file}\")\n",
    "    siab = pd.read_csv(raw_file)\n",
    "    siab.to_csv(cache_file, index=False, compression='gzip')\n",
    "    print(f\"Cached SIAB data to: {cache_file}\")\n",
    "\n",
    "print(siab.shape)"
   ]
  },
  {
   "cell_type": "code",
   "execution_count": 10,
   "id": "058d2abb",
   "metadata": {
    "execution": {
     "iopub.execute_input": "2025-08-19T18:26:26.445975Z",
     "iopub.status.busy": "2025-08-19T18:26:26.445417Z",
     "iopub.status.idle": "2025-08-19T18:26:26.680200Z",
     "shell.execute_reply": "2025-08-19T18:26:26.678776Z"
    },
    "papermill": {
     "duration": 0.262133,
     "end_time": "2025-08-19T18:26:26.682310",
     "exception": false,
     "start_time": "2025-08-19T18:26:26.420177",
     "status": "completed"
    },
    "tags": []
   },
   "outputs": [
    {
     "data": {
      "text/html": [
       "<div>\n",
       "<style scoped>\n",
       "    .dataframe tbody tr th:only-of-type {\n",
       "        vertical-align: middle;\n",
       "    }\n",
       "\n",
       "    .dataframe tbody tr th {\n",
       "        vertical-align: top;\n",
       "    }\n",
       "\n",
       "    .dataframe thead th {\n",
       "        text-align: right;\n",
       "    }\n",
       "</style>\n",
       "<table border=\"1\" class=\"dataframe\">\n",
       "  <thead>\n",
       "    <tr style=\"text-align: right;\">\n",
       "      <th></th>\n",
       "      <th>persnr</th>\n",
       "      <th>year</th>\n",
       "      <th>nrEntry</th>\n",
       "      <th>ltue</th>\n",
       "      <th>employed_before</th>\n",
       "      <th>receipt_leh_before</th>\n",
       "      <th>receipt_lhg_before</th>\n",
       "      <th>se_before</th>\n",
       "      <th>ASU_notue_seeking_before</th>\n",
       "      <th>ASU_other_before</th>\n",
       "      <th>...</th>\n",
       "      <th>minijob_tot_dur_byage</th>\n",
       "      <th>ft_tot_dur_byage</th>\n",
       "      <th>befrist_tot_dur_byage</th>\n",
       "      <th>leih_tot_dur_byage</th>\n",
       "      <th>LHG_tot_dur_byage</th>\n",
       "      <th>LEH_tot_dur_byage</th>\n",
       "      <th>almp_tot_dur_byage</th>\n",
       "      <th>almp_aw_tot_dur_byage</th>\n",
       "      <th>se_tot_dur_byage</th>\n",
       "      <th>seeking1_tot_dur_byage</th>\n",
       "    </tr>\n",
       "  </thead>\n",
       "  <tbody>\n",
       "    <tr>\n",
       "      <th>0</th>\n",
       "      <td>7</td>\n",
       "      <td>2015</td>\n",
       "      <td>1</td>\n",
       "      <td>0</td>\n",
       "      <td>1</td>\n",
       "      <td>0</td>\n",
       "      <td>0</td>\n",
       "      <td>0</td>\n",
       "      <td>1</td>\n",
       "      <td>0</td>\n",
       "      <td>...</td>\n",
       "      <td>0.000000</td>\n",
       "      <td>0.000000</td>\n",
       "      <td>15.043478</td>\n",
       "      <td>0.000000</td>\n",
       "      <td>0.000000</td>\n",
       "      <td>0.000000</td>\n",
       "      <td>0.000000</td>\n",
       "      <td>0.000000</td>\n",
       "      <td>0.000000</td>\n",
       "      <td>0.000000</td>\n",
       "    </tr>\n",
       "    <tr>\n",
       "      <th>1</th>\n",
       "      <td>18</td>\n",
       "      <td>2010</td>\n",
       "      <td>1</td>\n",
       "      <td>1</td>\n",
       "      <td>0</td>\n",
       "      <td>0</td>\n",
       "      <td>0</td>\n",
       "      <td>0</td>\n",
       "      <td>0</td>\n",
       "      <td>0</td>\n",
       "      <td>...</td>\n",
       "      <td>0.000000</td>\n",
       "      <td>0.000000</td>\n",
       "      <td>0.000000</td>\n",
       "      <td>0.000000</td>\n",
       "      <td>0.000000</td>\n",
       "      <td>0.000000</td>\n",
       "      <td>0.000000</td>\n",
       "      <td>0.000000</td>\n",
       "      <td>0.000000</td>\n",
       "      <td>0.000000</td>\n",
       "    </tr>\n",
       "    <tr>\n",
       "      <th>2</th>\n",
       "      <td>18</td>\n",
       "      <td>2011</td>\n",
       "      <td>2</td>\n",
       "      <td>0</td>\n",
       "      <td>1</td>\n",
       "      <td>0</td>\n",
       "      <td>1</td>\n",
       "      <td>0</td>\n",
       "      <td>1</td>\n",
       "      <td>0</td>\n",
       "      <td>...</td>\n",
       "      <td>2.714286</td>\n",
       "      <td>2.714286</td>\n",
       "      <td>0.000000</td>\n",
       "      <td>0.000000</td>\n",
       "      <td>10.775510</td>\n",
       "      <td>0.000000</td>\n",
       "      <td>8.367347</td>\n",
       "      <td>0.000000</td>\n",
       "      <td>0.000000</td>\n",
       "      <td>9.836735</td>\n",
       "    </tr>\n",
       "    <tr>\n",
       "      <th>3</th>\n",
       "      <td>18</td>\n",
       "      <td>2012</td>\n",
       "      <td>3</td>\n",
       "      <td>0</td>\n",
       "      <td>1</td>\n",
       "      <td>0</td>\n",
       "      <td>1</td>\n",
       "      <td>0</td>\n",
       "      <td>1</td>\n",
       "      <td>0</td>\n",
       "      <td>...</td>\n",
       "      <td>4.200000</td>\n",
       "      <td>4.200000</td>\n",
       "      <td>0.000000</td>\n",
       "      <td>0.000000</td>\n",
       "      <td>12.100000</td>\n",
       "      <td>0.000000</td>\n",
       "      <td>9.400000</td>\n",
       "      <td>0.000000</td>\n",
       "      <td>0.000000</td>\n",
       "      <td>9.960000</td>\n",
       "    </tr>\n",
       "    <tr>\n",
       "      <th>4</th>\n",
       "      <td>18</td>\n",
       "      <td>2012</td>\n",
       "      <td>4</td>\n",
       "      <td>0</td>\n",
       "      <td>1</td>\n",
       "      <td>0</td>\n",
       "      <td>1</td>\n",
       "      <td>0</td>\n",
       "      <td>1</td>\n",
       "      <td>0</td>\n",
       "      <td>...</td>\n",
       "      <td>5.460000</td>\n",
       "      <td>5.460000</td>\n",
       "      <td>0.000000</td>\n",
       "      <td>0.000000</td>\n",
       "      <td>13.360000</td>\n",
       "      <td>0.000000</td>\n",
       "      <td>10.320000</td>\n",
       "      <td>0.000000</td>\n",
       "      <td>0.000000</td>\n",
       "      <td>10.280000</td>\n",
       "    </tr>\n",
       "    <tr>\n",
       "      <th>...</th>\n",
       "      <td>...</td>\n",
       "      <td>...</td>\n",
       "      <td>...</td>\n",
       "      <td>...</td>\n",
       "      <td>...</td>\n",
       "      <td>...</td>\n",
       "      <td>...</td>\n",
       "      <td>...</td>\n",
       "      <td>...</td>\n",
       "      <td>...</td>\n",
       "      <td>...</td>\n",
       "      <td>...</td>\n",
       "      <td>...</td>\n",
       "      <td>...</td>\n",
       "      <td>...</td>\n",
       "      <td>...</td>\n",
       "      <td>...</td>\n",
       "      <td>...</td>\n",
       "      <td>...</td>\n",
       "      <td>...</td>\n",
       "      <td>...</td>\n",
       "    </tr>\n",
       "    <tr>\n",
       "      <th>643685</th>\n",
       "      <td>1827860</td>\n",
       "      <td>2013</td>\n",
       "      <td>1</td>\n",
       "      <td>0</td>\n",
       "      <td>0</td>\n",
       "      <td>0</td>\n",
       "      <td>1</td>\n",
       "      <td>0</td>\n",
       "      <td>0</td>\n",
       "      <td>1</td>\n",
       "      <td>...</td>\n",
       "      <td>0.000000</td>\n",
       "      <td>0.000000</td>\n",
       "      <td>0.000000</td>\n",
       "      <td>0.000000</td>\n",
       "      <td>0.612903</td>\n",
       "      <td>0.000000</td>\n",
       "      <td>0.000000</td>\n",
       "      <td>0.000000</td>\n",
       "      <td>0.000000</td>\n",
       "      <td>0.000000</td>\n",
       "    </tr>\n",
       "    <tr>\n",
       "      <th>643686</th>\n",
       "      <td>1827860</td>\n",
       "      <td>2015</td>\n",
       "      <td>2</td>\n",
       "      <td>1</td>\n",
       "      <td>0</td>\n",
       "      <td>0</td>\n",
       "      <td>1</td>\n",
       "      <td>0</td>\n",
       "      <td>1</td>\n",
       "      <td>0</td>\n",
       "      <td>...</td>\n",
       "      <td>0.000000</td>\n",
       "      <td>0.000000</td>\n",
       "      <td>0.212121</td>\n",
       "      <td>0.212121</td>\n",
       "      <td>17.363636</td>\n",
       "      <td>0.000000</td>\n",
       "      <td>8.909091</td>\n",
       "      <td>0.000000</td>\n",
       "      <td>0.000000</td>\n",
       "      <td>7.121212</td>\n",
       "    </tr>\n",
       "    <tr>\n",
       "      <th>643687</th>\n",
       "      <td>1827860</td>\n",
       "      <td>2016</td>\n",
       "      <td>3</td>\n",
       "      <td>1</td>\n",
       "      <td>0</td>\n",
       "      <td>0</td>\n",
       "      <td>1</td>\n",
       "      <td>1</td>\n",
       "      <td>0</td>\n",
       "      <td>1</td>\n",
       "      <td>...</td>\n",
       "      <td>0.000000</td>\n",
       "      <td>0.000000</td>\n",
       "      <td>0.294118</td>\n",
       "      <td>0.205882</td>\n",
       "      <td>34.705882</td>\n",
       "      <td>0.000000</td>\n",
       "      <td>10.352941</td>\n",
       "      <td>1.705882</td>\n",
       "      <td>1.705882</td>\n",
       "      <td>23.911765</td>\n",
       "    </tr>\n",
       "    <tr>\n",
       "      <th>643688</th>\n",
       "      <td>1827869</td>\n",
       "      <td>2013</td>\n",
       "      <td>1</td>\n",
       "      <td>1</td>\n",
       "      <td>1</td>\n",
       "      <td>0</td>\n",
       "      <td>0</td>\n",
       "      <td>0</td>\n",
       "      <td>1</td>\n",
       "      <td>0</td>\n",
       "      <td>...</td>\n",
       "      <td>0.000000</td>\n",
       "      <td>0.000000</td>\n",
       "      <td>0.000000</td>\n",
       "      <td>0.000000</td>\n",
       "      <td>0.000000</td>\n",
       "      <td>0.525424</td>\n",
       "      <td>0.000000</td>\n",
       "      <td>0.000000</td>\n",
       "      <td>0.000000</td>\n",
       "      <td>0.000000</td>\n",
       "    </tr>\n",
       "    <tr>\n",
       "      <th>643689</th>\n",
       "      <td>1827869</td>\n",
       "      <td>2014</td>\n",
       "      <td>2</td>\n",
       "      <td>0</td>\n",
       "      <td>0</td>\n",
       "      <td>1</td>\n",
       "      <td>0</td>\n",
       "      <td>0</td>\n",
       "      <td>1</td>\n",
       "      <td>0</td>\n",
       "      <td>...</td>\n",
       "      <td>0.000000</td>\n",
       "      <td>0.666667</td>\n",
       "      <td>0.666667</td>\n",
       "      <td>0.000000</td>\n",
       "      <td>0.000000</td>\n",
       "      <td>8.950000</td>\n",
       "      <td>1.033333</td>\n",
       "      <td>0.083333</td>\n",
       "      <td>0.083333</td>\n",
       "      <td>8.133333</td>\n",
       "    </tr>\n",
       "  </tbody>\n",
       "</table>\n",
       "<p>643690 rows × 164 columns</p>\n",
       "</div>"
      ],
      "text/plain": [
       "         persnr  year  nrEntry  ltue  employed_before  receipt_leh_before  \\\n",
       "0             7  2015        1     0                1                   0   \n",
       "1            18  2010        1     1                0                   0   \n",
       "2            18  2011        2     0                1                   0   \n",
       "3            18  2012        3     0                1                   0   \n",
       "4            18  2012        4     0                1                   0   \n",
       "...         ...   ...      ...   ...              ...                 ...   \n",
       "643685  1827860  2013        1     0                0                   0   \n",
       "643686  1827860  2015        2     1                0                   0   \n",
       "643687  1827860  2016        3     1                0                   0   \n",
       "643688  1827869  2013        1     1                1                   0   \n",
       "643689  1827869  2014        2     0                0                   1   \n",
       "\n",
       "        receipt_lhg_before  se_before  ASU_notue_seeking_before  \\\n",
       "0                        0          0                         1   \n",
       "1                        0          0                         0   \n",
       "2                        1          0                         1   \n",
       "3                        1          0                         1   \n",
       "4                        1          0                         1   \n",
       "...                    ...        ...                       ...   \n",
       "643685                   1          0                         0   \n",
       "643686                   1          0                         1   \n",
       "643687                   1          1                         0   \n",
       "643688                   0          0                         1   \n",
       "643689                   0          0                         1   \n",
       "\n",
       "        ASU_other_before  ...  minijob_tot_dur_byage  ft_tot_dur_byage  \\\n",
       "0                      0  ...               0.000000          0.000000   \n",
       "1                      0  ...               0.000000          0.000000   \n",
       "2                      0  ...               2.714286          2.714286   \n",
       "3                      0  ...               4.200000          4.200000   \n",
       "4                      0  ...               5.460000          5.460000   \n",
       "...                  ...  ...                    ...               ...   \n",
       "643685                 1  ...               0.000000          0.000000   \n",
       "643686                 0  ...               0.000000          0.000000   \n",
       "643687                 1  ...               0.000000          0.000000   \n",
       "643688                 0  ...               0.000000          0.000000   \n",
       "643689                 0  ...               0.000000          0.666667   \n",
       "\n",
       "        befrist_tot_dur_byage  leih_tot_dur_byage  LHG_tot_dur_byage  \\\n",
       "0                   15.043478            0.000000           0.000000   \n",
       "1                    0.000000            0.000000           0.000000   \n",
       "2                    0.000000            0.000000          10.775510   \n",
       "3                    0.000000            0.000000          12.100000   \n",
       "4                    0.000000            0.000000          13.360000   \n",
       "...                       ...                 ...                ...   \n",
       "643685               0.000000            0.000000           0.612903   \n",
       "643686               0.212121            0.212121          17.363636   \n",
       "643687               0.294118            0.205882          34.705882   \n",
       "643688               0.000000            0.000000           0.000000   \n",
       "643689               0.666667            0.000000           0.000000   \n",
       "\n",
       "        LEH_tot_dur_byage  almp_tot_dur_byage  almp_aw_tot_dur_byage  \\\n",
       "0                0.000000            0.000000               0.000000   \n",
       "1                0.000000            0.000000               0.000000   \n",
       "2                0.000000            8.367347               0.000000   \n",
       "3                0.000000            9.400000               0.000000   \n",
       "4                0.000000           10.320000               0.000000   \n",
       "...                   ...                 ...                    ...   \n",
       "643685           0.000000            0.000000               0.000000   \n",
       "643686           0.000000            8.909091               0.000000   \n",
       "643687           0.000000           10.352941               1.705882   \n",
       "643688           0.525424            0.000000               0.000000   \n",
       "643689           8.950000            1.033333               0.083333   \n",
       "\n",
       "        se_tot_dur_byage  seeking1_tot_dur_byage  \n",
       "0               0.000000                0.000000  \n",
       "1               0.000000                0.000000  \n",
       "2               0.000000                9.836735  \n",
       "3               0.000000                9.960000  \n",
       "4               0.000000               10.280000  \n",
       "...                  ...                     ...  \n",
       "643685          0.000000                0.000000  \n",
       "643686          0.000000                7.121212  \n",
       "643687          1.705882               23.911765  \n",
       "643688          0.000000                0.000000  \n",
       "643689          0.083333                8.133333  \n",
       "\n",
       "[643690 rows x 164 columns]"
      ]
     },
     "execution_count": 10,
     "metadata": {},
     "output_type": "execute_result"
    }
   ],
   "source": [
    "siab"
   ]
  },
  {
   "cell_type": "markdown",
   "id": "1f87e805",
   "metadata": {
    "papermill": {
     "duration": 0.010551,
     "end_time": "2025-08-19T18:26:26.708319",
     "exception": false,
     "start_time": "2025-08-19T18:26:26.697768",
     "status": "completed"
    },
    "tags": []
   },
   "source": [
    "# Splitting Data and Setting Training Data Size"
   ]
  },
  {
   "cell_type": "code",
   "execution_count": 11,
   "id": "910ae358",
   "metadata": {
    "execution": {
     "iopub.execute_input": "2025-08-19T18:26:26.736688Z",
     "iopub.status.busy": "2025-08-19T18:26:26.730465Z",
     "iopub.status.idle": "2025-08-19T18:26:27.043652Z",
     "shell.execute_reply": "2025-08-19T18:26:27.042735Z"
    },
    "papermill": {
     "duration": 0.327295,
     "end_time": "2025-08-19T18:26:27.045263",
     "exception": false,
     "start_time": "2025-08-19T18:26:26.717968",
     "status": "completed"
    },
    "tags": []
   },
   "outputs": [],
   "source": [
    "from fairness_multiverse.universe import sample_by_year_size\n",
    "\n",
    "siab_train = sample_by_year_size(siab,\n",
    "                               training_year=universe[\"training_year\"],\n",
    "                               training_size=universe[\"training_size\"])"
   ]
  },
  {
   "cell_type": "code",
   "execution_count": 12,
   "id": "919c8ff5",
   "metadata": {
    "execution": {
     "iopub.execute_input": "2025-08-19T18:26:27.077822Z",
     "iopub.status.busy": "2025-08-19T18:26:27.075286Z",
     "iopub.status.idle": "2025-08-19T18:26:27.093829Z",
     "shell.execute_reply": "2025-08-19T18:26:27.092874Z"
    },
    "papermill": {
     "duration": 0.039271,
     "end_time": "2025-08-19T18:26:27.095529",
     "exception": false,
     "start_time": "2025-08-19T18:26:27.056258",
     "status": "completed"
    },
    "tags": []
   },
   "outputs": [
    {
     "data": {
      "text/plain": [
       "(5000, 164)"
      ]
     },
     "execution_count": 12,
     "metadata": {},
     "output_type": "execute_result"
    }
   ],
   "source": [
    "siab_train.shape"
   ]
  },
  {
   "cell_type": "code",
   "execution_count": 13,
   "id": "feb13bf4",
   "metadata": {
    "execution": {
     "iopub.execute_input": "2025-08-19T18:26:27.138837Z",
     "iopub.status.busy": "2025-08-19T18:26:27.138431Z",
     "iopub.status.idle": "2025-08-19T18:26:27.147733Z",
     "shell.execute_reply": "2025-08-19T18:26:27.146900Z"
    },
    "papermill": {
     "duration": 0.040638,
     "end_time": "2025-08-19T18:26:27.152288",
     "exception": false,
     "start_time": "2025-08-19T18:26:27.111650",
     "status": "completed"
    },
    "tags": []
   },
   "outputs": [
    {
     "data": {
      "text/plain": [
       "year\n",
       "2014    5000\n",
       "dtype: int64"
      ]
     },
     "metadata": {},
     "output_type": "display_data"
    }
   ],
   "source": [
    "display(siab_train.groupby(\"year\").size())"
   ]
  },
  {
   "cell_type": "code",
   "execution_count": 14,
   "id": "0997782f",
   "metadata": {
    "execution": {
     "iopub.execute_input": "2025-08-19T18:26:27.174720Z",
     "iopub.status.busy": "2025-08-19T18:26:27.174320Z",
     "iopub.status.idle": "2025-08-19T18:26:27.436268Z",
     "shell.execute_reply": "2025-08-19T18:26:27.435411Z"
    },
    "papermill": {
     "duration": 0.275167,
     "end_time": "2025-08-19T18:26:27.437851",
     "exception": false,
     "start_time": "2025-08-19T18:26:27.162684",
     "status": "completed"
    },
    "tags": []
   },
   "outputs": [],
   "source": [
    "#siab_train = siab_s[siab_s.year < 2015]\n",
    "siab_calib = siab[siab.year == 2015]\n",
    "siab_test = siab[siab.year == 2016]"
   ]
  },
  {
   "cell_type": "code",
   "execution_count": 15,
   "id": "2c1e4012",
   "metadata": {
    "execution": {
     "iopub.execute_input": "2025-08-19T18:26:27.470171Z",
     "iopub.status.busy": "2025-08-19T18:26:27.469729Z",
     "iopub.status.idle": "2025-08-19T18:26:27.474810Z",
     "shell.execute_reply": "2025-08-19T18:26:27.473760Z"
    },
    "papermill": {
     "duration": 0.023136,
     "end_time": "2025-08-19T18:26:27.476392",
     "exception": false,
     "start_time": "2025-08-19T18:26:27.453256",
     "status": "completed"
    },
    "tags": []
   },
   "outputs": [],
   "source": [
    "#siab_calib.shape"
   ]
  },
  {
   "cell_type": "code",
   "execution_count": 16,
   "id": "f66b54ca",
   "metadata": {
    "execution": {
     "iopub.execute_input": "2025-08-19T18:26:27.498692Z",
     "iopub.status.busy": "2025-08-19T18:26:27.498292Z",
     "iopub.status.idle": "2025-08-19T18:26:27.504031Z",
     "shell.execute_reply": "2025-08-19T18:26:27.503114Z"
    },
    "papermill": {
     "duration": 0.018253,
     "end_time": "2025-08-19T18:26:27.505369",
     "exception": false,
     "start_time": "2025-08-19T18:26:27.487116",
     "status": "completed"
    },
    "tags": []
   },
   "outputs": [],
   "source": [
    "#siab_test.shape"
   ]
  },
  {
   "cell_type": "code",
   "execution_count": 17,
   "id": "27e4384d",
   "metadata": {
    "execution": {
     "iopub.execute_input": "2025-08-19T18:26:27.527374Z",
     "iopub.status.busy": "2025-08-19T18:26:27.526991Z",
     "iopub.status.idle": "2025-08-19T18:26:27.551822Z",
     "shell.execute_reply": "2025-08-19T18:26:27.550875Z"
    },
    "papermill": {
     "duration": 0.037464,
     "end_time": "2025-08-19T18:26:27.553407",
     "exception": false,
     "start_time": "2025-08-19T18:26:27.515943",
     "status": "completed"
    },
    "tags": []
   },
   "outputs": [],
   "source": [
    "X_train = siab_train.iloc[:,4:164]\n",
    "y_train = siab_train.iloc[:, [3]]"
   ]
  },
  {
   "cell_type": "code",
   "execution_count": 18,
   "id": "08ee8389",
   "metadata": {
    "execution": {
     "iopub.execute_input": "2025-08-19T18:26:27.577780Z",
     "iopub.status.busy": "2025-08-19T18:26:27.577250Z",
     "iopub.status.idle": "2025-08-19T18:26:27.633771Z",
     "shell.execute_reply": "2025-08-19T18:26:27.632975Z"
    },
    "papermill": {
     "duration": 0.071072,
     "end_time": "2025-08-19T18:26:27.636917",
     "exception": false,
     "start_time": "2025-08-19T18:26:27.565845",
     "status": "completed"
    },
    "tags": []
   },
   "outputs": [],
   "source": [
    "X_calib = siab_calib.iloc[:,4:164]\n",
    "y_calib = siab_calib.iloc[:, [3]]"
   ]
  },
  {
   "cell_type": "code",
   "execution_count": 19,
   "id": "b7ff42e0",
   "metadata": {
    "execution": {
     "iopub.execute_input": "2025-08-19T18:26:27.677683Z",
     "iopub.status.busy": "2025-08-19T18:26:27.676518Z",
     "iopub.status.idle": "2025-08-19T18:26:27.842992Z",
     "shell.execute_reply": "2025-08-19T18:26:27.842185Z"
    },
    "papermill": {
     "duration": 0.182205,
     "end_time": "2025-08-19T18:26:27.844446",
     "exception": false,
     "start_time": "2025-08-19T18:26:27.662241",
     "status": "completed"
    },
    "tags": []
   },
   "outputs": [],
   "source": [
    "X_test = siab_test.iloc[:,4:164]\n",
    "y_true = siab_test.iloc[:, [3]]"
   ]
  },
  {
   "cell_type": "code",
   "execution_count": 20,
   "id": "0275101e",
   "metadata": {
    "execution": {
     "iopub.execute_input": "2025-08-19T18:26:27.872970Z",
     "iopub.status.busy": "2025-08-19T18:26:27.872533Z",
     "iopub.status.idle": "2025-08-19T18:26:27.991998Z",
     "shell.execute_reply": "2025-08-19T18:26:27.991314Z"
    },
    "papermill": {
     "duration": 0.134821,
     "end_time": "2025-08-19T18:26:27.993619",
     "exception": false,
     "start_time": "2025-08-19T18:26:27.858798",
     "status": "completed"
    },
    "tags": []
   },
   "outputs": [],
   "source": [
    "# Auxiliary data needed downstream in the pipeline\n",
    "\n",
    "org_train = X_train.copy()\n",
    "org_test = X_test.copy()\n",
    "org_calib = X_calib.copy()"
   ]
  },
  {
   "cell_type": "markdown",
   "id": "b461e618",
   "metadata": {
    "papermill": {
     "duration": 0.01023,
     "end_time": "2025-08-19T18:26:28.016706",
     "exception": false,
     "start_time": "2025-08-19T18:26:28.006476",
     "status": "completed"
    },
    "tags": []
   },
   "source": [
    "# Preprocessing Data"
   ]
  },
  {
   "cell_type": "code",
   "execution_count": 21,
   "id": "78e74c4b",
   "metadata": {
    "execution": {
     "iopub.execute_input": "2025-08-19T18:26:28.041731Z",
     "iopub.status.busy": "2025-08-19T18:26:28.040600Z",
     "iopub.status.idle": "2025-08-19T18:26:28.052451Z",
     "shell.execute_reply": "2025-08-19T18:26:28.050362Z"
    },
    "papermill": {
     "duration": 0.031322,
     "end_time": "2025-08-19T18:26:28.060301",
     "exception": false,
     "start_time": "2025-08-19T18:26:28.028979",
     "status": "completed"
    },
    "tags": []
   },
   "outputs": [],
   "source": [
    "# EXCLUDE PROTECTED FEATURES\n",
    "# --------------------------\n",
    "\n",
    "excluded_features = universe[\"exclude_features\"].split(\"-\")\n",
    "excluded_features_dictionary = {\n",
    "    \"nationality\": [\"maxdeutsch1\", \"maxdeutsch.Missing.\"],\n",
    "    \"sex\": [\"frau1\"],\n",
    "    \"age\": [\"age\"],\n",
    "}"
   ]
  },
  {
   "cell_type": "code",
   "execution_count": 22,
   "id": "f8e63555",
   "metadata": {
    "execution": {
     "iopub.execute_input": "2025-08-19T18:26:28.094010Z",
     "iopub.status.busy": "2025-08-19T18:26:28.093636Z",
     "iopub.status.idle": "2025-08-19T18:26:28.098067Z",
     "shell.execute_reply": "2025-08-19T18:26:28.097468Z"
    },
    "papermill": {
     "duration": 0.018583,
     "end_time": "2025-08-19T18:26:28.099650",
     "exception": false,
     "start_time": "2025-08-19T18:26:28.081067",
     "status": "completed"
    },
    "tags": []
   },
   "outputs": [],
   "source": [
    "excluded_features_columns = [\n",
    "    excluded_features_dictionary[f] for f in excluded_features if len(f) > 0 and f != \"none\"\n",
    "]"
   ]
  },
  {
   "cell_type": "code",
   "execution_count": 23,
   "id": "da781f7c",
   "metadata": {
    "execution": {
     "iopub.execute_input": "2025-08-19T18:26:28.124739Z",
     "iopub.status.busy": "2025-08-19T18:26:28.124288Z",
     "iopub.status.idle": "2025-08-19T18:26:28.146218Z",
     "shell.execute_reply": "2025-08-19T18:26:28.145429Z"
    },
    "papermill": {
     "duration": 0.038456,
     "end_time": "2025-08-19T18:26:28.148545",
     "exception": false,
     "start_time": "2025-08-19T18:26:28.110089",
     "status": "completed"
    },
    "tags": []
   },
   "outputs": [],
   "source": [
    "from fairness_multiverse.universe import flatten_once\n",
    "\n",
    "excluded_features_columns = flatten_once(excluded_features_columns)"
   ]
  },
  {
   "cell_type": "code",
   "execution_count": 24,
   "id": "37fef0f0",
   "metadata": {
    "execution": {
     "iopub.execute_input": "2025-08-19T18:26:28.177210Z",
     "iopub.status.busy": "2025-08-19T18:26:28.176859Z",
     "iopub.status.idle": "2025-08-19T18:26:28.188590Z",
     "shell.execute_reply": "2025-08-19T18:26:28.187904Z"
    },
    "papermill": {
     "duration": 0.024638,
     "end_time": "2025-08-19T18:26:28.190249",
     "exception": false,
     "start_time": "2025-08-19T18:26:28.165611",
     "status": "completed"
    },
    "tags": []
   },
   "outputs": [
    {
     "name": "stdout",
     "output_type": "stream",
     "text": [
      "Dropping features: ['maxdeutsch1', 'maxdeutsch.Missing.']\n"
     ]
    }
   ],
   "source": [
    "if len(excluded_features_columns) > 0:\n",
    "    print(f\"Dropping features: {excluded_features_columns}\")\n",
    "    X_train.drop(excluded_features_columns, axis=1, inplace=True)"
   ]
  },
  {
   "cell_type": "code",
   "execution_count": 25,
   "id": "d029e3e9",
   "metadata": {
    "execution": {
     "iopub.execute_input": "2025-08-19T18:26:28.213178Z",
     "iopub.status.busy": "2025-08-19T18:26:28.212525Z",
     "iopub.status.idle": "2025-08-19T18:26:28.275435Z",
     "shell.execute_reply": "2025-08-19T18:26:28.274727Z"
    },
    "papermill": {
     "duration": 0.075351,
     "end_time": "2025-08-19T18:26:28.276548",
     "exception": false,
     "start_time": "2025-08-19T18:26:28.201197",
     "status": "completed"
    },
    "tags": []
   },
   "outputs": [
    {
     "name": "stdout",
     "output_type": "stream",
     "text": [
      "Dropping features: ['maxdeutsch1', 'maxdeutsch.Missing.']\n"
     ]
    }
   ],
   "source": [
    "if len(excluded_features_columns) > 0:\n",
    "    print(f\"Dropping features: {excluded_features_columns}\")\n",
    "    X_test.drop(excluded_features_columns, axis=1, inplace=True)"
   ]
  },
  {
   "cell_type": "code",
   "execution_count": 26,
   "id": "01d571f0",
   "metadata": {
    "execution": {
     "iopub.execute_input": "2025-08-19T18:26:28.299095Z",
     "iopub.status.busy": "2025-08-19T18:26:28.298426Z",
     "iopub.status.idle": "2025-08-19T18:26:28.518385Z",
     "shell.execute_reply": "2025-08-19T18:26:28.517757Z"
    },
    "papermill": {
     "duration": 0.233817,
     "end_time": "2025-08-19T18:26:28.521071",
     "exception": false,
     "start_time": "2025-08-19T18:26:28.287254",
     "status": "completed"
    },
    "tags": []
   },
   "outputs": [
    {
     "name": "stdout",
     "output_type": "stream",
     "text": [
      "Dropping features: ['maxdeutsch1', 'maxdeutsch.Missing.']\n"
     ]
    }
   ],
   "source": [
    "if len(excluded_features_columns) > 0:\n",
    "    print(f\"Dropping features: {excluded_features_columns}\")\n",
    "    X_calib.drop(excluded_features_columns, axis=1, inplace=True)"
   ]
  },
  {
   "cell_type": "code",
   "execution_count": 27,
   "id": "3037356e",
   "metadata": {
    "execution": {
     "iopub.execute_input": "2025-08-19T18:26:28.565826Z",
     "iopub.status.busy": "2025-08-19T18:26:28.565445Z",
     "iopub.status.idle": "2025-08-19T18:26:28.571992Z",
     "shell.execute_reply": "2025-08-19T18:26:28.571305Z"
    },
    "papermill": {
     "duration": 0.022058,
     "end_time": "2025-08-19T18:26:28.573464",
     "exception": false,
     "start_time": "2025-08-19T18:26:28.551406",
     "status": "completed"
    },
    "tags": []
   },
   "outputs": [],
   "source": [
    "# EXCLUDE CERTAIN SUBGROUPS\n",
    "# -------------------------\n",
    "\n",
    "mode = universe.get(\"exclude_subgroups\", \"keep-all\") # Defaults to \"keep-all\" if the key is missing."
   ]
  },
  {
   "cell_type": "code",
   "execution_count": 28,
   "id": "9d1e63fd",
   "metadata": {
    "execution": {
     "iopub.execute_input": "2025-08-19T18:26:28.598598Z",
     "iopub.status.busy": "2025-08-19T18:26:28.598274Z",
     "iopub.status.idle": "2025-08-19T18:26:28.623465Z",
     "shell.execute_reply": "2025-08-19T18:26:28.622623Z"
    },
    "papermill": {
     "duration": 0.038914,
     "end_time": "2025-08-19T18:26:28.625167",
     "exception": false,
     "start_time": "2025-08-19T18:26:28.586253",
     "status": "completed"
    },
    "tags": []
   },
   "outputs": [],
   "source": [
    "if mode == \"keep-all\":\n",
    "    keep_mask = pd.Series(True, index=org_train.index)\n",
    "\n",
    "elif mode == \"drop-non-german\":\n",
    "    keep_mask = (org_train[\"maxdeutsch1\"] == 1) & (org_train[\"maxdeutsch.Missing.\"] == 0)\n",
    "\n",
    "else:\n",
    "    raise ValueError(f\"Unsupported mode for exclude_subgroups: {mode}\")"
   ]
  },
  {
   "cell_type": "code",
   "execution_count": 29,
   "id": "d3b65474",
   "metadata": {
    "execution": {
     "iopub.execute_input": "2025-08-19T18:26:28.661148Z",
     "iopub.status.busy": "2025-08-19T18:26:28.659033Z",
     "iopub.status.idle": "2025-08-19T18:26:28.675911Z",
     "shell.execute_reply": "2025-08-19T18:26:28.674997Z"
    },
    "papermill": {
     "duration": 0.034193,
     "end_time": "2025-08-19T18:26:28.677476",
     "exception": false,
     "start_time": "2025-08-19T18:26:28.643283",
     "status": "completed"
    },
    "tags": []
   },
   "outputs": [
    {
     "name": "stdout",
     "output_type": "stream",
     "text": [
      "Dropping 741 rows (14.82%) where mode='drop-non-german'\n"
     ]
    }
   ],
   "source": [
    "n_drop = (~keep_mask).sum() # Calculates how many rows are set to be dropped\n",
    "if n_drop > 0:\n",
    "    pct = n_drop / len(keep_mask) * 100\n",
    "    print(f\"Dropping {n_drop} rows ({pct:.2f}%) where mode='{mode}'\")"
   ]
  },
  {
   "cell_type": "code",
   "execution_count": 30,
   "id": "f44389b3",
   "metadata": {
    "execution": {
     "iopub.execute_input": "2025-08-19T18:26:28.710285Z",
     "iopub.status.busy": "2025-08-19T18:26:28.709740Z",
     "iopub.status.idle": "2025-08-19T18:26:28.718852Z",
     "shell.execute_reply": "2025-08-19T18:26:28.718103Z"
    },
    "papermill": {
     "duration": 0.024107,
     "end_time": "2025-08-19T18:26:28.719875",
     "exception": false,
     "start_time": "2025-08-19T18:26:28.695768",
     "status": "completed"
    },
    "tags": []
   },
   "outputs": [],
   "source": [
    "X_train = X_train[keep_mask]"
   ]
  },
  {
   "cell_type": "code",
   "execution_count": 31,
   "id": "ceca8c2a",
   "metadata": {
    "execution": {
     "iopub.execute_input": "2025-08-19T18:26:28.746705Z",
     "iopub.status.busy": "2025-08-19T18:26:28.745770Z",
     "iopub.status.idle": "2025-08-19T18:26:28.754014Z",
     "shell.execute_reply": "2025-08-19T18:26:28.752496Z"
    },
    "papermill": {
     "duration": 0.02222,
     "end_time": "2025-08-19T18:26:28.756149",
     "exception": false,
     "start_time": "2025-08-19T18:26:28.733929",
     "status": "completed"
    },
    "tags": []
   },
   "outputs": [],
   "source": [
    "y_train = y_train[keep_mask]"
   ]
  },
  {
   "cell_type": "markdown",
   "id": "04d31e2f",
   "metadata": {
    "papermill": {
     "duration": 0.01115,
     "end_time": "2025-08-19T18:26:28.781683",
     "exception": false,
     "start_time": "2025-08-19T18:26:28.770533",
     "status": "completed"
    },
    "tags": []
   },
   "source": [
    "# Model Training"
   ]
  },
  {
   "cell_type": "code",
   "execution_count": 32,
   "id": "db991733",
   "metadata": {
    "execution": {
     "iopub.execute_input": "2025-08-19T18:26:28.805256Z",
     "iopub.status.busy": "2025-08-19T18:26:28.804828Z",
     "iopub.status.idle": "2025-08-19T18:26:28.924122Z",
     "shell.execute_reply": "2025-08-19T18:26:28.923338Z"
    },
    "papermill": {
     "duration": 0.145562,
     "end_time": "2025-08-19T18:26:28.937856",
     "exception": false,
     "start_time": "2025-08-19T18:26:28.792294",
     "status": "completed"
    },
    "tags": []
   },
   "outputs": [],
   "source": [
    "from sklearn.linear_model import LogisticRegression\n",
    "from sklearn.ensemble import GradientBoostingClassifier, RandomForestClassifier\n",
    "\n",
    "if (universe[\"model\"] == \"logreg\"):\n",
    "    model = LogisticRegression() #penalty=\"none\", solver=\"newton-cg\", max_iter=1)\n",
    "elif (universe[\"model\"] == \"penalized_logreg\"):\n",
    "    model = LogisticRegression(penalty=\"l2\", C=0.1) #, solver=\"newton-cg\", max_iter=1)\n",
    "elif (universe[\"model\"] == \"rf\"):\n",
    "    model = RandomForestClassifier() # n_estimators=100, n_jobs=-1\n",
    "elif (universe[\"model\"] == \"gbm\"):\n",
    "    model = GradientBoostingClassifier()\n",
    "elif (universe[\"model\"] == \"elasticnet\"):\n",
    "    model = LogisticRegression(penalty = 'elasticnet', solver = 'saga', l1_ratio = 0.5) # max_iter=5000\n",
    "else:\n",
    "    raise \"Unsupported universe.model\""
   ]
  },
  {
   "cell_type": "code",
   "execution_count": 33,
   "id": "a4b5cd25",
   "metadata": {
    "execution": {
     "iopub.execute_input": "2025-08-19T18:26:28.963618Z",
     "iopub.status.busy": "2025-08-19T18:26:28.963180Z",
     "iopub.status.idle": "2025-08-19T18:26:28.968005Z",
     "shell.execute_reply": "2025-08-19T18:26:28.967318Z"
    },
    "papermill": {
     "duration": 0.021213,
     "end_time": "2025-08-19T18:26:28.971721",
     "exception": false,
     "start_time": "2025-08-19T18:26:28.950508",
     "status": "completed"
    },
    "tags": []
   },
   "outputs": [],
   "source": [
    "from sklearn.pipeline import Pipeline\n",
    "from sklearn.preprocessing import StandardScaler\n",
    "\n",
    "model = Pipeline([\n",
    "    #(\"continuous_processor\", continuous_processor),\n",
    "    #(\"categorical_preprocessor\", categorical_preprocessor),\n",
    "    (\"scale\", StandardScaler() if universe[\"scale\"] == \"scale\" else None), \n",
    "    (\"model\", model),\n",
    "])"
   ]
  },
  {
   "cell_type": "code",
   "execution_count": 34,
   "id": "283a904d",
   "metadata": {
    "execution": {
     "iopub.execute_input": "2025-08-19T18:26:28.998131Z",
     "iopub.status.busy": "2025-08-19T18:26:28.997710Z",
     "iopub.status.idle": "2025-08-19T18:26:30.075264Z",
     "shell.execute_reply": "2025-08-19T18:26:30.074025Z"
    },
    "papermill": {
     "duration": 1.092233,
     "end_time": "2025-08-19T18:26:30.077167",
     "exception": false,
     "start_time": "2025-08-19T18:26:28.984934",
     "status": "completed"
    },
    "tags": []
   },
   "outputs": [
    {
     "name": "stderr",
     "output_type": "stream",
     "text": [
      "/dss/dsshome1/0C/ra93lal2/.local/share/virtualenvs/CMA_Fairness_v2-3j10GkSs/lib/python3.10/site-packages/sklearn/linear_model/_sag.py:350: ConvergenceWarning: The max_iter was reached which means the coef_ did not converge\n",
      "  warnings.warn(\n"
     ]
    },
    {
     "data": {
      "text/html": [
       "<style>#sk-container-id-1 {color: black;background-color: white;}#sk-container-id-1 pre{padding: 0;}#sk-container-id-1 div.sk-toggleable {background-color: white;}#sk-container-id-1 label.sk-toggleable__label {cursor: pointer;display: block;width: 100%;margin-bottom: 0;padding: 0.3em;box-sizing: border-box;text-align: center;}#sk-container-id-1 label.sk-toggleable__label-arrow:before {content: \"▸\";float: left;margin-right: 0.25em;color: #696969;}#sk-container-id-1 label.sk-toggleable__label-arrow:hover:before {color: black;}#sk-container-id-1 div.sk-estimator:hover label.sk-toggleable__label-arrow:before {color: black;}#sk-container-id-1 div.sk-toggleable__content {max-height: 0;max-width: 0;overflow: hidden;text-align: left;background-color: #f0f8ff;}#sk-container-id-1 div.sk-toggleable__content pre {margin: 0.2em;color: black;border-radius: 0.25em;background-color: #f0f8ff;}#sk-container-id-1 input.sk-toggleable__control:checked~div.sk-toggleable__content {max-height: 200px;max-width: 100%;overflow: auto;}#sk-container-id-1 input.sk-toggleable__control:checked~label.sk-toggleable__label-arrow:before {content: \"▾\";}#sk-container-id-1 div.sk-estimator input.sk-toggleable__control:checked~label.sk-toggleable__label {background-color: #d4ebff;}#sk-container-id-1 div.sk-label input.sk-toggleable__control:checked~label.sk-toggleable__label {background-color: #d4ebff;}#sk-container-id-1 input.sk-hidden--visually {border: 0;clip: rect(1px 1px 1px 1px);clip: rect(1px, 1px, 1px, 1px);height: 1px;margin: -1px;overflow: hidden;padding: 0;position: absolute;width: 1px;}#sk-container-id-1 div.sk-estimator {font-family: monospace;background-color: #f0f8ff;border: 1px dotted black;border-radius: 0.25em;box-sizing: border-box;margin-bottom: 0.5em;}#sk-container-id-1 div.sk-estimator:hover {background-color: #d4ebff;}#sk-container-id-1 div.sk-parallel-item::after {content: \"\";width: 100%;border-bottom: 1px solid gray;flex-grow: 1;}#sk-container-id-1 div.sk-label:hover label.sk-toggleable__label {background-color: #d4ebff;}#sk-container-id-1 div.sk-serial::before {content: \"\";position: absolute;border-left: 1px solid gray;box-sizing: border-box;top: 0;bottom: 0;left: 50%;z-index: 0;}#sk-container-id-1 div.sk-serial {display: flex;flex-direction: column;align-items: center;background-color: white;padding-right: 0.2em;padding-left: 0.2em;position: relative;}#sk-container-id-1 div.sk-item {position: relative;z-index: 1;}#sk-container-id-1 div.sk-parallel {display: flex;align-items: stretch;justify-content: center;background-color: white;position: relative;}#sk-container-id-1 div.sk-item::before, #sk-container-id-1 div.sk-parallel-item::before {content: \"\";position: absolute;border-left: 1px solid gray;box-sizing: border-box;top: 0;bottom: 0;left: 50%;z-index: -1;}#sk-container-id-1 div.sk-parallel-item {display: flex;flex-direction: column;z-index: 1;position: relative;background-color: white;}#sk-container-id-1 div.sk-parallel-item:first-child::after {align-self: flex-end;width: 50%;}#sk-container-id-1 div.sk-parallel-item:last-child::after {align-self: flex-start;width: 50%;}#sk-container-id-1 div.sk-parallel-item:only-child::after {width: 0;}#sk-container-id-1 div.sk-dashed-wrapped {border: 1px dashed gray;margin: 0 0.4em 0.5em 0.4em;box-sizing: border-box;padding-bottom: 0.4em;background-color: white;}#sk-container-id-1 div.sk-label label {font-family: monospace;font-weight: bold;display: inline-block;line-height: 1.2em;}#sk-container-id-1 div.sk-label-container {text-align: center;}#sk-container-id-1 div.sk-container {/* jupyter's `normalize.less` sets `[hidden] { display: none; }` but bootstrap.min.css set `[hidden] { display: none !important; }` so we also need the `!important` here to be able to override the default hidden behavior on the sphinx rendered scikit-learn.org. See: https://github.com/scikit-learn/scikit-learn/issues/21755 */display: inline-block !important;position: relative;}#sk-container-id-1 div.sk-text-repr-fallback {display: none;}</style><div id=\"sk-container-id-1\" class=\"sk-top-container\"><div class=\"sk-text-repr-fallback\"><pre>Pipeline(steps=[(&#x27;scale&#x27;, StandardScaler()),\n",
       "                (&#x27;model&#x27;,\n",
       "                 LogisticRegression(l1_ratio=0.5, penalty=&#x27;elasticnet&#x27;,\n",
       "                                    solver=&#x27;saga&#x27;))])</pre><b>In a Jupyter environment, please rerun this cell to show the HTML representation or trust the notebook. <br />On GitHub, the HTML representation is unable to render, please try loading this page with nbviewer.org.</b></div><div class=\"sk-container\" hidden><div class=\"sk-item sk-dashed-wrapped\"><div class=\"sk-label-container\"><div class=\"sk-label sk-toggleable\"><input class=\"sk-toggleable__control sk-hidden--visually\" id=\"sk-estimator-id-1\" type=\"checkbox\" ><label for=\"sk-estimator-id-1\" class=\"sk-toggleable__label sk-toggleable__label-arrow\">Pipeline</label><div class=\"sk-toggleable__content\"><pre>Pipeline(steps=[(&#x27;scale&#x27;, StandardScaler()),\n",
       "                (&#x27;model&#x27;,\n",
       "                 LogisticRegression(l1_ratio=0.5, penalty=&#x27;elasticnet&#x27;,\n",
       "                                    solver=&#x27;saga&#x27;))])</pre></div></div></div><div class=\"sk-serial\"><div class=\"sk-item\"><div class=\"sk-estimator sk-toggleable\"><input class=\"sk-toggleable__control sk-hidden--visually\" id=\"sk-estimator-id-2\" type=\"checkbox\" ><label for=\"sk-estimator-id-2\" class=\"sk-toggleable__label sk-toggleable__label-arrow\">StandardScaler</label><div class=\"sk-toggleable__content\"><pre>StandardScaler()</pre></div></div></div><div class=\"sk-item\"><div class=\"sk-estimator sk-toggleable\"><input class=\"sk-toggleable__control sk-hidden--visually\" id=\"sk-estimator-id-3\" type=\"checkbox\" ><label for=\"sk-estimator-id-3\" class=\"sk-toggleable__label sk-toggleable__label-arrow\">LogisticRegression</label><div class=\"sk-toggleable__content\"><pre>LogisticRegression(l1_ratio=0.5, penalty=&#x27;elasticnet&#x27;, solver=&#x27;saga&#x27;)</pre></div></div></div></div></div></div></div>"
      ],
      "text/plain": [
       "Pipeline(steps=[('scale', StandardScaler()),\n",
       "                ('model',\n",
       "                 LogisticRegression(l1_ratio=0.5, penalty='elasticnet',\n",
       "                                    solver='saga'))])"
      ]
     },
     "execution_count": 34,
     "metadata": {},
     "output_type": "execute_result"
    }
   ],
   "source": [
    "model.fit(X_train, y_train.values.ravel())"
   ]
  },
  {
   "cell_type": "code",
   "execution_count": 35,
   "id": "6e15e313",
   "metadata": {
    "execution": {
     "iopub.execute_input": "2025-08-19T18:26:30.101147Z",
     "iopub.status.busy": "2025-08-19T18:26:30.100737Z",
     "iopub.status.idle": "2025-08-19T18:26:30.303738Z",
     "shell.execute_reply": "2025-08-19T18:26:30.302701Z"
    },
    "papermill": {
     "duration": 0.216659,
     "end_time": "2025-08-19T18:26:30.305267",
     "exception": false,
     "start_time": "2025-08-19T18:26:30.088608",
     "status": "completed"
    },
    "tags": []
   },
   "outputs": [
    {
     "data": {
      "text/plain": [
       "0.8567272321926207"
      ]
     },
     "execution_count": 35,
     "metadata": {},
     "output_type": "execute_result"
    }
   ],
   "source": [
    "from fairness_multiverse.universe import predict_w_threshold\n",
    "\n",
    "probs_test = model.predict_proba(X_test)\n",
    "\n",
    "'''\n",
    "Below code returns a boolean array (or binary 0/1 array depending on how it’s used) where each element \n",
    "is True if the probability of class 1 is greater than or equal to the threshold, and False otherwise.\n",
    "'''\n",
    "y_pred_default = predict_w_threshold(probs_test, 0.5)\n",
    "\n",
    "from sklearn.metrics import accuracy_score\n",
    "\n",
    "# Naive prediction\n",
    "accuracy_score(y_true = y_true, y_pred = y_pred_default)"
   ]
  },
  {
   "cell_type": "code",
   "execution_count": 36,
   "id": "6f14067c",
   "metadata": {
    "execution": {
     "iopub.execute_input": "2025-08-19T18:26:30.337577Z",
     "iopub.status.busy": "2025-08-19T18:26:30.336750Z",
     "iopub.status.idle": "2025-08-19T18:26:30.521395Z",
     "shell.execute_reply": "2025-08-19T18:26:30.520664Z"
    },
    "papermill": {
     "duration": 0.200845,
     "end_time": "2025-08-19T18:26:30.524099",
     "exception": false,
     "start_time": "2025-08-19T18:26:30.323254",
     "status": "completed"
    },
    "tags": []
   },
   "outputs": [
    {
     "data": {
      "text/plain": [
       "array([0, 0, 0, ..., 0, 0, 0])"
      ]
     },
     "execution_count": 36,
     "metadata": {},
     "output_type": "execute_result"
    }
   ],
   "source": [
    "model.predict(X_test)"
   ]
  },
  {
   "cell_type": "markdown",
   "id": "3759920c",
   "metadata": {
    "papermill": {
     "duration": 0.01265,
     "end_time": "2025-08-19T18:26:30.561931",
     "exception": false,
     "start_time": "2025-08-19T18:26:30.549281",
     "status": "completed"
    },
    "tags": []
   },
   "source": [
    "# Conformal Prediction"
   ]
  },
  {
   "cell_type": "code",
   "execution_count": 37,
   "id": "14b27f59",
   "metadata": {
    "execution": {
     "iopub.execute_input": "2025-08-19T18:26:30.586817Z",
     "iopub.status.busy": "2025-08-19T18:26:30.585653Z",
     "iopub.status.idle": "2025-08-19T18:26:30.593089Z",
     "shell.execute_reply": "2025-08-19T18:26:30.591869Z"
    },
    "papermill": {
     "duration": 0.021281,
     "end_time": "2025-08-19T18:26:30.594271",
     "exception": false,
     "start_time": "2025-08-19T18:26:30.572990",
     "status": "completed"
    },
    "tags": []
   },
   "outputs": [],
   "source": [
    "# Miscoverage level for conformal prediction (10% allowed error rate => 90% target coverage)\n",
    "alpha = 0.1"
   ]
  },
  {
   "cell_type": "code",
   "execution_count": 38,
   "id": "59102472",
   "metadata": {
    "execution": {
     "iopub.execute_input": "2025-08-19T18:26:30.620306Z",
     "iopub.status.busy": "2025-08-19T18:26:30.619082Z",
     "iopub.status.idle": "2025-08-19T18:26:30.806874Z",
     "shell.execute_reply": "2025-08-19T18:26:30.806047Z"
    },
    "papermill": {
     "duration": 0.203574,
     "end_time": "2025-08-19T18:26:30.809687",
     "exception": false,
     "start_time": "2025-08-19T18:26:30.606113",
     "status": "completed"
    },
    "tags": []
   },
   "outputs": [],
   "source": [
    "probs_calib = model.predict_proba(X_calib)"
   ]
  },
  {
   "cell_type": "code",
   "execution_count": 39,
   "id": "a792d4dd",
   "metadata": {
    "execution": {
     "iopub.execute_input": "2025-08-19T18:26:30.851361Z",
     "iopub.status.busy": "2025-08-19T18:26:30.850262Z",
     "iopub.status.idle": "2025-08-19T18:26:30.859360Z",
     "shell.execute_reply": "2025-08-19T18:26:30.858110Z"
    },
    "papermill": {
     "duration": 0.025114,
     "end_time": "2025-08-19T18:26:30.860962",
     "exception": false,
     "start_time": "2025-08-19T18:26:30.835848",
     "status": "completed"
    },
    "tags": []
   },
   "outputs": [],
   "source": [
    "y_calib = y_calib.values.ravel().astype(int)"
   ]
  },
  {
   "cell_type": "code",
   "execution_count": 40,
   "id": "650fd033",
   "metadata": {
    "execution": {
     "iopub.execute_input": "2025-08-19T18:26:30.890221Z",
     "iopub.status.busy": "2025-08-19T18:26:30.889082Z",
     "iopub.status.idle": "2025-08-19T18:26:30.896988Z",
     "shell.execute_reply": "2025-08-19T18:26:30.896259Z"
    },
    "papermill": {
     "duration": 0.022846,
     "end_time": "2025-08-19T18:26:30.898234",
     "exception": false,
     "start_time": "2025-08-19T18:26:30.875388",
     "status": "completed"
    },
    "tags": []
   },
   "outputs": [],
   "source": [
    "from fairness_multiverse.conformal import compute_nc_scores\n",
    "\n",
    "# Compute nonconformity scores on calibration set (1 - probability of true class)\n",
    "nc_scores = compute_nc_scores(probs_calib, y_calib)"
   ]
  },
  {
   "cell_type": "code",
   "execution_count": 41,
   "id": "28ada44c",
   "metadata": {
    "execution": {
     "iopub.execute_input": "2025-08-19T18:26:30.922449Z",
     "iopub.status.busy": "2025-08-19T18:26:30.922092Z",
     "iopub.status.idle": "2025-08-19T18:26:30.927285Z",
     "shell.execute_reply": "2025-08-19T18:26:30.926515Z"
    },
    "papermill": {
     "duration": 0.018928,
     "end_time": "2025-08-19T18:26:30.928865",
     "exception": false,
     "start_time": "2025-08-19T18:26:30.909937",
     "status": "completed"
    },
    "tags": []
   },
   "outputs": [],
   "source": [
    "from fairness_multiverse.conformal import find_threshold\n",
    "\n",
    "# Find conformal threshold q_hat for the given alpha (split conformal method)\n",
    "q_hat = find_threshold(nc_scores, alpha)"
   ]
  },
  {
   "cell_type": "code",
   "execution_count": 42,
   "id": "df56469e",
   "metadata": {
    "execution": {
     "iopub.execute_input": "2025-08-19T18:26:30.954551Z",
     "iopub.status.busy": "2025-08-19T18:26:30.954268Z",
     "iopub.status.idle": "2025-08-19T18:26:30.962947Z",
     "shell.execute_reply": "2025-08-19T18:26:30.962270Z"
    },
    "papermill": {
     "duration": 0.022427,
     "end_time": "2025-08-19T18:26:30.964422",
     "exception": false,
     "start_time": "2025-08-19T18:26:30.941995",
     "status": "completed"
    },
    "tags": []
   },
   "outputs": [
    {
     "data": {
      "text/plain": [
       "0.6893115490094679"
      ]
     },
     "execution_count": 42,
     "metadata": {},
     "output_type": "execute_result"
    }
   ],
   "source": [
    "q_hat"
   ]
  },
  {
   "cell_type": "code",
   "execution_count": 43,
   "id": "aa1f5faa",
   "metadata": {
    "execution": {
     "iopub.execute_input": "2025-08-19T18:26:30.992292Z",
     "iopub.status.busy": "2025-08-19T18:26:30.991575Z",
     "iopub.status.idle": "2025-08-19T18:26:31.663745Z",
     "shell.execute_reply": "2025-08-19T18:26:31.662760Z"
    },
    "papermill": {
     "duration": 0.687786,
     "end_time": "2025-08-19T18:26:31.666931",
     "exception": false,
     "start_time": "2025-08-19T18:26:30.979145",
     "status": "completed"
    },
    "tags": []
   },
   "outputs": [],
   "source": [
    "from fairness_multiverse.conformal import predict_conformal_sets\n",
    "\n",
    "# Generate prediction sets for each test example\n",
    "pred_sets = predict_conformal_sets(model, X_test, q_hat)"
   ]
  },
  {
   "cell_type": "code",
   "execution_count": 44,
   "id": "97f67a6b",
   "metadata": {
    "execution": {
     "iopub.execute_input": "2025-08-19T18:26:31.710961Z",
     "iopub.status.busy": "2025-08-19T18:26:31.709519Z",
     "iopub.status.idle": "2025-08-19T18:26:31.719487Z",
     "shell.execute_reply": "2025-08-19T18:26:31.718223Z"
    },
    "papermill": {
     "duration": 0.027188,
     "end_time": "2025-08-19T18:26:31.720898",
     "exception": false,
     "start_time": "2025-08-19T18:26:31.693710",
     "status": "completed"
    },
    "tags": []
   },
   "outputs": [],
   "source": [
    "y_true = y_true.squeeze()"
   ]
  },
  {
   "cell_type": "code",
   "execution_count": 45,
   "id": "e700e9a7",
   "metadata": {
    "execution": {
     "iopub.execute_input": "2025-08-19T18:26:31.776433Z",
     "iopub.status.busy": "2025-08-19T18:26:31.775892Z",
     "iopub.status.idle": "2025-08-19T18:26:32.282774Z",
     "shell.execute_reply": "2025-08-19T18:26:32.281465Z"
    },
    "papermill": {
     "duration": 0.549844,
     "end_time": "2025-08-19T18:26:32.285906",
     "exception": false,
     "start_time": "2025-08-19T18:26:31.736062",
     "status": "completed"
    },
    "tags": []
   },
   "outputs": [],
   "source": [
    "from fairness_multiverse.conformal import evaluate_sets\n",
    "\n",
    "# Evaluate coverage and average set size on test data\n",
    "metrics = evaluate_sets(pred_sets, y_true)"
   ]
  },
  {
   "cell_type": "markdown",
   "id": "efbacec0",
   "metadata": {
    "papermill": {
     "duration": 0.020927,
     "end_time": "2025-08-19T18:26:32.344661",
     "exception": false,
     "start_time": "2025-08-19T18:26:32.323734",
     "status": "completed"
    },
    "tags": []
   },
   "source": [
    "# CP Metrics"
   ]
  },
  {
   "cell_type": "code",
   "execution_count": 46,
   "id": "9de55fb1",
   "metadata": {
    "execution": {
     "iopub.execute_input": "2025-08-19T18:26:32.379865Z",
     "iopub.status.busy": "2025-08-19T18:26:32.379508Z",
     "iopub.status.idle": "2025-08-19T18:26:32.388284Z",
     "shell.execute_reply": "2025-08-19T18:26:32.387391Z"
    },
    "papermill": {
     "duration": 0.03387,
     "end_time": "2025-08-19T18:26:32.390217",
     "exception": false,
     "start_time": "2025-08-19T18:26:32.356347",
     "status": "completed"
    },
    "tags": []
   },
   "outputs": [
    {
     "data": {
      "text/plain": [
       "{'coverage': 0.9097536506521012, 'avg_size': 1.136662579422584}"
      ]
     },
     "execution_count": 46,
     "metadata": {},
     "output_type": "execute_result"
    }
   ],
   "source": [
    "metrics"
   ]
  },
  {
   "cell_type": "code",
   "execution_count": 47,
   "id": "64c340a1",
   "metadata": {
    "execution": {
     "iopub.execute_input": "2025-08-19T18:26:32.439836Z",
     "iopub.status.busy": "2025-08-19T18:26:32.439116Z",
     "iopub.status.idle": "2025-08-19T18:26:32.444967Z",
     "shell.execute_reply": "2025-08-19T18:26:32.444196Z"
    },
    "papermill": {
     "duration": 0.028625,
     "end_time": "2025-08-19T18:26:32.446165",
     "exception": false,
     "start_time": "2025-08-19T18:26:32.417540",
     "status": "completed"
    },
    "tags": []
   },
   "outputs": [],
   "source": [
    "example_universe = universe.copy()\n",
    "universe_training_year = example_universe.get(\"training_year\")\n",
    "universe_training_size = example_universe.get(\"training_size\")\n",
    "universe_scale = example_universe.get(\"scale\")\n",
    "universe_model = example_universe.get(\"model\")\n",
    "universe_exclude_features = example_universe.get(\"exclude_features\")\n",
    "universe_exclude_subgroups = example_universe.get(\"exclude_subgroups\")"
   ]
  },
  {
   "cell_type": "code",
   "execution_count": 48,
   "id": "dbb53cb4",
   "metadata": {
    "execution": {
     "iopub.execute_input": "2025-08-19T18:26:32.473016Z",
     "iopub.status.busy": "2025-08-19T18:26:32.472689Z",
     "iopub.status.idle": "2025-08-19T18:26:32.481973Z",
     "shell.execute_reply": "2025-08-19T18:26:32.481258Z"
    },
    "papermill": {
     "duration": 0.023337,
     "end_time": "2025-08-19T18:26:32.483386",
     "exception": false,
     "start_time": "2025-08-19T18:26:32.460049",
     "status": "completed"
    },
    "tags": []
   },
   "outputs": [],
   "source": [
    "cp_metrics_dict = {\n",
    "    \"universe_id\": [universe_id],\n",
    "    \"universe_training_year\": [universe_training_year],\n",
    "    \"universe_training_size\": [universe_training_size],\n",
    "    \"universe_scale\": [universe_scale],\n",
    "    \"universe_model\": [universe_model],\n",
    "    \"universe_exclude_features\": [universe_exclude_features],\n",
    "    \"universe_exclude_subgroups\": [universe_exclude_subgroups],\n",
    "    \"q_hat\": [q_hat],\n",
    "    \"coverage\": [metrics[\"coverage\"]],\n",
    "    \"avg_size\": [metrics[\"avg_size\"]],\n",
    "}"
   ]
  },
  {
   "cell_type": "code",
   "execution_count": 49,
   "id": "0d70d4b2",
   "metadata": {
    "execution": {
     "iopub.execute_input": "2025-08-19T18:26:32.514178Z",
     "iopub.status.busy": "2025-08-19T18:26:32.513039Z",
     "iopub.status.idle": "2025-08-19T18:26:32.524016Z",
     "shell.execute_reply": "2025-08-19T18:26:32.522860Z"
    },
    "papermill": {
     "duration": 0.033979,
     "end_time": "2025-08-19T18:26:32.531423",
     "exception": false,
     "start_time": "2025-08-19T18:26:32.497444",
     "status": "completed"
    },
    "tags": []
   },
   "outputs": [],
   "source": [
    "cp_metrics_df = pd.DataFrame(cp_metrics_dict)"
   ]
  },
  {
   "cell_type": "code",
   "execution_count": 50,
   "id": "b494403c",
   "metadata": {
    "execution": {
     "iopub.execute_input": "2025-08-19T18:26:32.565588Z",
     "iopub.status.busy": "2025-08-19T18:26:32.565170Z",
     "iopub.status.idle": "2025-08-19T18:26:32.579333Z",
     "shell.execute_reply": "2025-08-19T18:26:32.578460Z"
    },
    "papermill": {
     "duration": 0.029904,
     "end_time": "2025-08-19T18:26:32.580927",
     "exception": false,
     "start_time": "2025-08-19T18:26:32.551023",
     "status": "completed"
    },
    "tags": []
   },
   "outputs": [
    {
     "data": {
      "text/html": [
       "<div>\n",
       "<style scoped>\n",
       "    .dataframe tbody tr th:only-of-type {\n",
       "        vertical-align: middle;\n",
       "    }\n",
       "\n",
       "    .dataframe tbody tr th {\n",
       "        vertical-align: top;\n",
       "    }\n",
       "\n",
       "    .dataframe thead th {\n",
       "        text-align: right;\n",
       "    }\n",
       "</style>\n",
       "<table border=\"1\" class=\"dataframe\">\n",
       "  <thead>\n",
       "    <tr style=\"text-align: right;\">\n",
       "      <th></th>\n",
       "      <th>universe_id</th>\n",
       "      <th>universe_training_year</th>\n",
       "      <th>universe_training_size</th>\n",
       "      <th>universe_scale</th>\n",
       "      <th>universe_model</th>\n",
       "      <th>universe_exclude_features</th>\n",
       "      <th>universe_exclude_subgroups</th>\n",
       "      <th>q_hat</th>\n",
       "      <th>coverage</th>\n",
       "      <th>avg_size</th>\n",
       "    </tr>\n",
       "  </thead>\n",
       "  <tbody>\n",
       "    <tr>\n",
       "      <th>0</th>\n",
       "      <td>2be3e277838ba440bc4352c92e002947</td>\n",
       "      <td>2014</td>\n",
       "      <td>5k</td>\n",
       "      <td>scale</td>\n",
       "      <td>elasticnet</td>\n",
       "      <td>nationality</td>\n",
       "      <td>drop-non-german</td>\n",
       "      <td>0.689312</td>\n",
       "      <td>0.909754</td>\n",
       "      <td>1.136663</td>\n",
       "    </tr>\n",
       "  </tbody>\n",
       "</table>\n",
       "</div>"
      ],
      "text/plain": [
       "                        universe_id universe_training_year  \\\n",
       "0  2be3e277838ba440bc4352c92e002947                   2014   \n",
       "\n",
       "  universe_training_size universe_scale universe_model  \\\n",
       "0                     5k          scale     elasticnet   \n",
       "\n",
       "  universe_exclude_features universe_exclude_subgroups     q_hat  coverage  \\\n",
       "0               nationality            drop-non-german  0.689312  0.909754   \n",
       "\n",
       "   avg_size  \n",
       "0  1.136663  "
      ]
     },
     "execution_count": 50,
     "metadata": {},
     "output_type": "execute_result"
    }
   ],
   "source": [
    "cp_metrics_df"
   ]
  },
  {
   "cell_type": "markdown",
   "id": "ed608b0b",
   "metadata": {
    "papermill": {
     "duration": 0.014694,
     "end_time": "2025-08-19T18:26:32.611606",
     "exception": false,
     "start_time": "2025-08-19T18:26:32.596912",
     "status": "completed"
    },
    "tags": []
   },
   "source": [
    "Conditional coverage & looking at subgroups"
   ]
  },
  {
   "cell_type": "code",
   "execution_count": 51,
   "id": "8968c366",
   "metadata": {
    "execution": {
     "iopub.execute_input": "2025-08-19T18:26:32.650744Z",
     "iopub.status.busy": "2025-08-19T18:26:32.649503Z",
     "iopub.status.idle": "2025-08-19T18:26:32.943265Z",
     "shell.execute_reply": "2025-08-19T18:26:32.942441Z"
    },
    "papermill": {
     "duration": 0.309848,
     "end_time": "2025-08-19T18:26:32.945457",
     "exception": false,
     "start_time": "2025-08-19T18:26:32.635609",
     "status": "completed"
    },
    "tags": []
   },
   "outputs": [],
   "source": [
    "from fairness_multiverse.conformal import build_cp_groups\n",
    "\n",
    "cp_groups_df = build_cp_groups(pred_sets, y_true, X_test.index, org_test)"
   ]
  },
  {
   "cell_type": "code",
   "execution_count": 52,
   "id": "292ddabf",
   "metadata": {
    "execution": {
     "iopub.execute_input": "2025-08-19T18:26:32.979889Z",
     "iopub.status.busy": "2025-08-19T18:26:32.978768Z",
     "iopub.status.idle": "2025-08-19T18:26:33.921073Z",
     "shell.execute_reply": "2025-08-19T18:26:33.919849Z"
    },
    "papermill": {
     "duration": 0.958591,
     "end_time": "2025-08-19T18:26:33.923816",
     "exception": false,
     "start_time": "2025-08-19T18:26:32.965225",
     "status": "completed"
    },
    "tags": []
   },
   "outputs": [],
   "source": [
    "# Define covered = 1 if true_label is in the predicted set\n",
    "cp_groups_df['covered'] = cp_groups_df.apply(\n",
    "    lambda r: int(r['true_label'] in r['pred_set']),\n",
    "    axis=1\n",
    ")"
   ]
  },
  {
   "cell_type": "code",
   "execution_count": 53,
   "id": "3a261692",
   "metadata": {
    "execution": {
     "iopub.execute_input": "2025-08-19T18:26:33.966656Z",
     "iopub.status.busy": "2025-08-19T18:26:33.965815Z",
     "iopub.status.idle": "2025-08-19T18:26:33.981986Z",
     "shell.execute_reply": "2025-08-19T18:26:33.981243Z"
    },
    "papermill": {
     "duration": 0.032907,
     "end_time": "2025-08-19T18:26:33.983180",
     "exception": false,
     "start_time": "2025-08-19T18:26:33.950273",
     "status": "completed"
    },
    "tags": []
   },
   "outputs": [],
   "source": [
    "subgroups = ['frau1','nongerman','nongerman_male','nongerman_female']\n",
    "\n",
    "# Conditional coverage for subgroup==1\n",
    "cond_coverage = {\n",
    "    g: cp_groups_df.loc[cp_groups_df[g]==1, 'covered'].mean()\n",
    "    for g in subgroups\n",
    "}"
   ]
  },
  {
   "cell_type": "code",
   "execution_count": 54,
   "id": "894fd600",
   "metadata": {
    "execution": {
     "iopub.execute_input": "2025-08-19T18:26:34.010868Z",
     "iopub.status.busy": "2025-08-19T18:26:34.009964Z",
     "iopub.status.idle": "2025-08-19T18:26:34.019572Z",
     "shell.execute_reply": "2025-08-19T18:26:34.018205Z"
    },
    "papermill": {
     "duration": 0.024065,
     "end_time": "2025-08-19T18:26:34.020868",
     "exception": false,
     "start_time": "2025-08-19T18:26:33.996803",
     "status": "completed"
    },
    "tags": []
   },
   "outputs": [
    {
     "data": {
      "text/plain": [
       "{'frau1': 0.9065911847957946,\n",
       " 'nongerman': 0.9079324089148375,\n",
       " 'nongerman_male': 0.927136809871206,\n",
       " 'nongerman_female': 0.8761549925484352}"
      ]
     },
     "execution_count": 54,
     "metadata": {},
     "output_type": "execute_result"
    }
   ],
   "source": [
    "cond_coverage"
   ]
  },
  {
   "cell_type": "code",
   "execution_count": 55,
   "id": "942895c7",
   "metadata": {
    "execution": {
     "iopub.execute_input": "2025-08-19T18:26:34.052643Z",
     "iopub.status.busy": "2025-08-19T18:26:34.049193Z",
     "iopub.status.idle": "2025-08-19T18:26:34.091707Z",
     "shell.execute_reply": "2025-08-19T18:26:34.090007Z"
    },
    "papermill": {
     "duration": 0.058901,
     "end_time": "2025-08-19T18:26:34.094749",
     "exception": false,
     "start_time": "2025-08-19T18:26:34.035848",
     "status": "completed"
    },
    "tags": []
   },
   "outputs": [],
   "source": [
    "for subgroup, cov in cond_coverage.items():\n",
    "    cp_metrics_df[f\"cov_{subgroup}\"] = cov"
   ]
  },
  {
   "cell_type": "code",
   "execution_count": 56,
   "id": "3970120f",
   "metadata": {
    "execution": {
     "iopub.execute_input": "2025-08-19T18:26:34.135769Z",
     "iopub.status.busy": "2025-08-19T18:26:34.135373Z",
     "iopub.status.idle": "2025-08-19T18:26:34.149273Z",
     "shell.execute_reply": "2025-08-19T18:26:34.148613Z"
    },
    "papermill": {
     "duration": 0.029774,
     "end_time": "2025-08-19T18:26:34.150538",
     "exception": false,
     "start_time": "2025-08-19T18:26:34.120764",
     "status": "completed"
    },
    "tags": []
   },
   "outputs": [
    {
     "data": {
      "text/html": [
       "<div>\n",
       "<style scoped>\n",
       "    .dataframe tbody tr th:only-of-type {\n",
       "        vertical-align: middle;\n",
       "    }\n",
       "\n",
       "    .dataframe tbody tr th {\n",
       "        vertical-align: top;\n",
       "    }\n",
       "\n",
       "    .dataframe thead th {\n",
       "        text-align: right;\n",
       "    }\n",
       "</style>\n",
       "<table border=\"1\" class=\"dataframe\">\n",
       "  <thead>\n",
       "    <tr style=\"text-align: right;\">\n",
       "      <th></th>\n",
       "      <th>universe_id</th>\n",
       "      <th>universe_training_year</th>\n",
       "      <th>universe_training_size</th>\n",
       "      <th>universe_scale</th>\n",
       "      <th>universe_model</th>\n",
       "      <th>universe_exclude_features</th>\n",
       "      <th>universe_exclude_subgroups</th>\n",
       "      <th>q_hat</th>\n",
       "      <th>coverage</th>\n",
       "      <th>avg_size</th>\n",
       "      <th>cov_frau1</th>\n",
       "      <th>cov_nongerman</th>\n",
       "      <th>cov_nongerman_male</th>\n",
       "      <th>cov_nongerman_female</th>\n",
       "    </tr>\n",
       "  </thead>\n",
       "  <tbody>\n",
       "    <tr>\n",
       "      <th>0</th>\n",
       "      <td>2be3e277838ba440bc4352c92e002947</td>\n",
       "      <td>2014</td>\n",
       "      <td>5k</td>\n",
       "      <td>scale</td>\n",
       "      <td>elasticnet</td>\n",
       "      <td>nationality</td>\n",
       "      <td>drop-non-german</td>\n",
       "      <td>0.689312</td>\n",
       "      <td>0.909754</td>\n",
       "      <td>1.136663</td>\n",
       "      <td>0.906591</td>\n",
       "      <td>0.907932</td>\n",
       "      <td>0.927137</td>\n",
       "      <td>0.876155</td>\n",
       "    </tr>\n",
       "  </tbody>\n",
       "</table>\n",
       "</div>"
      ],
      "text/plain": [
       "                        universe_id universe_training_year  \\\n",
       "0  2be3e277838ba440bc4352c92e002947                   2014   \n",
       "\n",
       "  universe_training_size universe_scale universe_model  \\\n",
       "0                     5k          scale     elasticnet   \n",
       "\n",
       "  universe_exclude_features universe_exclude_subgroups     q_hat  coverage  \\\n",
       "0               nationality            drop-non-german  0.689312  0.909754   \n",
       "\n",
       "   avg_size  cov_frau1  cov_nongerman  cov_nongerman_male  \\\n",
       "0  1.136663   0.906591       0.907932            0.927137   \n",
       "\n",
       "   cov_nongerman_female  \n",
       "0              0.876155  "
      ]
     },
     "execution_count": 56,
     "metadata": {},
     "output_type": "execute_result"
    }
   ],
   "source": [
    "cp_metrics_df"
   ]
  },
  {
   "cell_type": "markdown",
   "id": "3fc519cc",
   "metadata": {
    "papermill": {
     "duration": 0.012164,
     "end_time": "2025-08-19T18:26:34.179283",
     "exception": false,
     "start_time": "2025-08-19T18:26:34.167119",
     "status": "completed"
    },
    "tags": []
   },
   "source": [
    "# (Fairness) Metrics"
   ]
  },
  {
   "cell_type": "code",
   "execution_count": 57,
   "id": "a2e5e155",
   "metadata": {
    "execution": {
     "iopub.execute_input": "2025-08-19T18:26:34.206240Z",
     "iopub.status.busy": "2025-08-19T18:26:34.205215Z",
     "iopub.status.idle": "2025-08-19T18:26:34.233985Z",
     "shell.execute_reply": "2025-08-19T18:26:34.233123Z"
    },
    "papermill": {
     "duration": 0.04441,
     "end_time": "2025-08-19T18:26:34.235758",
     "exception": false,
     "start_time": "2025-08-19T18:26:34.191348",
     "status": "completed"
    },
    "tags": []
   },
   "outputs": [],
   "source": [
    "colname_to_bin = \"maxdeutsch1\"\n",
    "majority_value = org_train[colname_to_bin].mode()[0]\n",
    "\n",
    "org_test[\"majmin\"] = np.where(org_test[colname_to_bin] == majority_value, \"majority\", \"minority\")"
   ]
  },
  {
   "cell_type": "code",
   "execution_count": 58,
   "id": "17e3e4d5",
   "metadata": {
    "execution": {
     "iopub.execute_input": "2025-08-19T18:26:34.276436Z",
     "iopub.status.busy": "2025-08-19T18:26:34.275241Z",
     "iopub.status.idle": "2025-08-19T18:26:36.045897Z",
     "shell.execute_reply": "2025-08-19T18:26:36.044616Z"
    },
    "papermill": {
     "duration": 1.787562,
     "end_time": "2025-08-19T18:26:36.047567",
     "exception": false,
     "start_time": "2025-08-19T18:26:34.260005",
     "status": "completed"
    },
    "tags": []
   },
   "outputs": [],
   "source": [
    "example_universe = universe.copy()\n",
    "example_universe[\"cutoff\"] = example_universe[\"cutoff\"][0]\n",
    "example_universe[\"eval_fairness_grouping\"] = example_universe[\"eval_fairness_grouping\"][0]\n",
    "fairness_dict, metric_frame = universe_analysis.compute_metrics(\n",
    "    example_universe,\n",
    "    y_pred_prob=probs_test,\n",
    "    y_test=y_true,\n",
    "    org_test=org_test,\n",
    ")"
   ]
  },
  {
   "cell_type": "markdown",
   "id": "1fb7a0e9",
   "metadata": {
    "papermill": {
     "duration": 0.012233,
     "end_time": "2025-08-19T18:26:36.073059",
     "exception": false,
     "start_time": "2025-08-19T18:26:36.060826",
     "status": "completed"
    },
    "tags": []
   },
   "source": [
    "# Overall"
   ]
  },
  {
   "cell_type": "markdown",
   "id": "be1784b1",
   "metadata": {
    "papermill": {
     "duration": 0.012505,
     "end_time": "2025-08-19T18:26:36.097784",
     "exception": false,
     "start_time": "2025-08-19T18:26:36.085279",
     "status": "completed"
    },
    "tags": []
   },
   "source": [
    "Main fairness target: Equalized Odds. Seems to be a better fit than equal opportunity, since we're not only interested in Y = 1. Seems to be a better fit than demographic parity, since we also care about accuracy, not just equal distribution of preds.\n",
    "\n",
    "Pick column for computation of fairness metrics\n",
    "\n",
    "Performance\n",
    "Overall performance measures, most interesting in relation to the measures split by group below"
   ]
  },
  {
   "cell_type": "code",
   "execution_count": 59,
   "id": "b7672bee",
   "metadata": {
    "execution": {
     "iopub.execute_input": "2025-08-19T18:26:36.123959Z",
     "iopub.status.busy": "2025-08-19T18:26:36.123473Z",
     "iopub.status.idle": "2025-08-19T18:26:36.131853Z",
     "shell.execute_reply": "2025-08-19T18:26:36.131122Z"
    },
    "papermill": {
     "duration": 0.023039,
     "end_time": "2025-08-19T18:26:36.132974",
     "exception": false,
     "start_time": "2025-08-19T18:26:36.109935",
     "status": "completed"
    },
    "tags": []
   },
   "outputs": [
    {
     "data": {
      "text/plain": [
       "accuracy                   0.223754\n",
       "balanced accuracy          0.547240\n",
       "f1                         0.245103\n",
       "precision                  0.140019\n",
       "false positive rate        0.887880\n",
       "false negative rate        0.017640\n",
       "selection rate             0.900000\n",
       "count                  89710.000000\n",
       "dtype: float64"
      ]
     },
     "execution_count": 59,
     "metadata": {},
     "output_type": "execute_result"
    }
   ],
   "source": [
    "metric_frame.overall"
   ]
  },
  {
   "cell_type": "markdown",
   "id": "d93333c9",
   "metadata": {
    "papermill": {
     "duration": 0.012387,
     "end_time": "2025-08-19T18:26:36.158180",
     "exception": false,
     "start_time": "2025-08-19T18:26:36.145793",
     "status": "completed"
    },
    "tags": []
   },
   "source": [
    "By Group"
   ]
  },
  {
   "cell_type": "code",
   "execution_count": 60,
   "id": "52256966",
   "metadata": {
    "execution": {
     "iopub.execute_input": "2025-08-19T18:26:36.185379Z",
     "iopub.status.busy": "2025-08-19T18:26:36.184262Z",
     "iopub.status.idle": "2025-08-19T18:26:36.204360Z",
     "shell.execute_reply": "2025-08-19T18:26:36.203433Z"
    },
    "papermill": {
     "duration": 0.035425,
     "end_time": "2025-08-19T18:26:36.205842",
     "exception": false,
     "start_time": "2025-08-19T18:26:36.170417",
     "status": "completed"
    },
    "tags": []
   },
   "outputs": [
    {
     "data": {
      "text/html": [
       "<div>\n",
       "<style scoped>\n",
       "    .dataframe tbody tr th:only-of-type {\n",
       "        vertical-align: middle;\n",
       "    }\n",
       "\n",
       "    .dataframe tbody tr th {\n",
       "        vertical-align: top;\n",
       "    }\n",
       "\n",
       "    .dataframe thead th {\n",
       "        text-align: right;\n",
       "    }\n",
       "</style>\n",
       "<table border=\"1\" class=\"dataframe\">\n",
       "  <thead>\n",
       "    <tr style=\"text-align: right;\">\n",
       "      <th></th>\n",
       "      <th>accuracy</th>\n",
       "      <th>balanced accuracy</th>\n",
       "      <th>f1</th>\n",
       "      <th>precision</th>\n",
       "      <th>false positive rate</th>\n",
       "      <th>false negative rate</th>\n",
       "      <th>selection rate</th>\n",
       "      <th>count</th>\n",
       "    </tr>\n",
       "    <tr>\n",
       "      <th>majmin</th>\n",
       "      <th></th>\n",
       "      <th></th>\n",
       "      <th></th>\n",
       "      <th></th>\n",
       "      <th></th>\n",
       "      <th></th>\n",
       "      <th></th>\n",
       "      <th></th>\n",
       "    </tr>\n",
       "  </thead>\n",
       "  <tbody>\n",
       "    <tr>\n",
       "      <th>majority</th>\n",
       "      <td>0.236504</td>\n",
       "      <td>0.553218</td>\n",
       "      <td>0.254008</td>\n",
       "      <td>0.145832</td>\n",
       "      <td>0.877261</td>\n",
       "      <td>0.016302</td>\n",
       "      <td>0.891326</td>\n",
       "      <td>69170.0</td>\n",
       "    </tr>\n",
       "    <tr>\n",
       "      <th>minority</th>\n",
       "      <td>0.180818</td>\n",
       "      <td>0.527119</td>\n",
       "      <td>0.215717</td>\n",
       "      <td>0.121241</td>\n",
       "      <td>0.922958</td>\n",
       "      <td>0.022804</td>\n",
       "      <td>0.929211</td>\n",
       "      <td>20540.0</td>\n",
       "    </tr>\n",
       "  </tbody>\n",
       "</table>\n",
       "</div>"
      ],
      "text/plain": [
       "          accuracy  balanced accuracy        f1  precision  \\\n",
       "majmin                                                       \n",
       "majority  0.236504           0.553218  0.254008   0.145832   \n",
       "minority  0.180818           0.527119  0.215717   0.121241   \n",
       "\n",
       "          false positive rate  false negative rate  selection rate    count  \n",
       "majmin                                                                       \n",
       "majority             0.877261             0.016302        0.891326  69170.0  \n",
       "minority             0.922958             0.022804        0.929211  20540.0  "
      ]
     },
     "execution_count": 60,
     "metadata": {},
     "output_type": "execute_result"
    }
   ],
   "source": [
    "metric_frame.by_group"
   ]
  },
  {
   "cell_type": "code",
   "execution_count": 61,
   "id": "6e6c20ae",
   "metadata": {
    "execution": {
     "iopub.execute_input": "2025-08-19T18:26:36.236517Z",
     "iopub.status.busy": "2025-08-19T18:26:36.236111Z",
     "iopub.status.idle": "2025-08-19T18:26:38.061769Z",
     "shell.execute_reply": "2025-08-19T18:26:38.060756Z"
    },
    "papermill": {
     "duration": 1.840932,
     "end_time": "2025-08-19T18:26:38.063511",
     "exception": false,
     "start_time": "2025-08-19T18:26:36.222579",
     "status": "completed"
    },
    "tags": []
   },
   "outputs": [
    {
     "data": {
      "text/plain": [
       "array([[<Axes: title={'center': 'accuracy'}, xlabel='majmin'>,\n",
       "        <Axes: title={'center': 'balanced accuracy'}, xlabel='majmin'>,\n",
       "        <Axes: title={'center': 'f1'}, xlabel='majmin'>],\n",
       "       [<Axes: title={'center': 'precision'}, xlabel='majmin'>,\n",
       "        <Axes: title={'center': 'false positive rate'}, xlabel='majmin'>,\n",
       "        <Axes: title={'center': 'false negative rate'}, xlabel='majmin'>],\n",
       "       [<Axes: title={'center': 'selection rate'}, xlabel='majmin'>,\n",
       "        <Axes: title={'center': 'count'}, xlabel='majmin'>,\n",
       "        <Axes: xlabel='majmin'>]], dtype=object)"
      ]
     },
     "execution_count": 61,
     "metadata": {},
     "output_type": "execute_result"
    },
    {
     "data": {
      "image/png": "[encoded data removed]",
      "text/plain": [
       "<Figure size 1200x800 with 9 Axes>"
      ]
     },
     "metadata": {},
     "output_type": "display_data"
    }
   ],
   "source": [
    "# In a graphic\n",
    "metric_frame.by_group.plot.bar(\n",
    "    subplots=True,\n",
    "    layout=[3, 3],\n",
    "    legend=False,\n",
    "    figsize=[12, 8],\n",
    "    title=\"Show all metrics\",\n",
    ")"
   ]
  },
  {
   "cell_type": "markdown",
   "id": "b2e433ae",
   "metadata": {
    "papermill": {
     "duration": 0.013582,
     "end_time": "2025-08-19T18:26:38.094732",
     "exception": false,
     "start_time": "2025-08-19T18:26:38.081150",
     "status": "completed"
    },
    "tags": []
   },
   "source": [
    "# Final Output"
   ]
  },
  {
   "cell_type": "code",
   "execution_count": 62,
   "id": "3871301e",
   "metadata": {
    "execution": {
     "iopub.execute_input": "2025-08-19T18:26:38.123831Z",
     "iopub.status.busy": "2025-08-19T18:26:38.122990Z",
     "iopub.status.idle": "2025-08-19T18:26:38.132043Z",
     "shell.execute_reply": "2025-08-19T18:26:38.131394Z"
    },
    "papermill": {
     "duration": 0.024717,
     "end_time": "2025-08-19T18:26:38.133203",
     "exception": false,
     "start_time": "2025-08-19T18:26:38.108486",
     "status": "completed"
    },
    "tags": []
   },
   "outputs": [
    {
     "data": {
      "text/plain": [
       "4"
      ]
     },
     "execution_count": 62,
     "metadata": {},
     "output_type": "execute_result"
    }
   ],
   "source": [
    "sub_universes = universe_analysis.generate_sub_universes()\n",
    "len(sub_universes)"
   ]
  },
  {
   "cell_type": "code",
   "execution_count": 63,
   "id": "d9cfdaca",
   "metadata": {
    "execution": {
     "iopub.execute_input": "2025-08-19T18:26:38.162485Z",
     "iopub.status.busy": "2025-08-19T18:26:38.161612Z",
     "iopub.status.idle": "2025-08-19T18:26:38.177397Z",
     "shell.execute_reply": "2025-08-19T18:26:38.176360Z"
    },
    "papermill": {
     "duration": 0.032151,
     "end_time": "2025-08-19T18:26:38.179108",
     "exception": false,
     "start_time": "2025-08-19T18:26:38.146957",
     "status": "completed"
    },
    "tags": []
   },
   "outputs": [],
   "source": [
    "def filter_sub_universe_data(sub_universe, org_test):\n",
    "    # Keep all rows — no filtering\n",
    "    keep_rows_mask = np.ones(org_test.shape[0], dtype=bool)\n",
    "\n",
    "    print(f\"[INFO] Keeping all rows: {keep_rows_mask.sum()} rows retained.\")\n",
    "    return keep_rows_mask"
   ]
  },
  {
   "cell_type": "code",
   "execution_count": 64,
   "id": "2bc31ac1",
   "metadata": {
    "execution": {
     "iopub.execute_input": "2025-08-19T18:26:38.211418Z",
     "iopub.status.busy": "2025-08-19T18:26:38.210719Z",
     "iopub.status.idle": "2025-08-19T18:26:45.243386Z",
     "shell.execute_reply": "2025-08-19T18:26:45.242500Z"
    },
    "papermill": {
     "duration": 7.048784,
     "end_time": "2025-08-19T18:26:45.244652",
     "exception": false,
     "start_time": "2025-08-19T18:26:38.195868",
     "status": "completed"
    },
    "tags": []
   },
   "outputs": [
    {
     "name": "stdout",
     "output_type": "stream",
     "text": [
      "Stopping execution_time clock.\n",
      "[INFO] Keeping all rows: 89710 rows retained.\n"
     ]
    },
    {
     "name": "stdout",
     "output_type": "stream",
     "text": [
      "[INFO] Keeping all rows: 89710 rows retained.\n"
     ]
    },
    {
     "name": "stdout",
     "output_type": "stream",
     "text": [
      "[INFO] Keeping all rows: 89710 rows retained.\n"
     ]
    },
    {
     "name": "stdout",
     "output_type": "stream",
     "text": [
      "[INFO] Keeping all rows: 89710 rows retained.\n"
     ]
    },
    {
     "data": {
      "text/html": [
       "<div>\n",
       "<style scoped>\n",
       "    .dataframe tbody tr th:only-of-type {\n",
       "        vertical-align: middle;\n",
       "    }\n",
       "\n",
       "    .dataframe tbody tr th {\n",
       "        vertical-align: top;\n",
       "    }\n",
       "\n",
       "    .dataframe thead th {\n",
       "        text-align: right;\n",
       "    }\n",
       "</style>\n",
       "<table border=\"1\" class=\"dataframe\">\n",
       "  <thead>\n",
       "    <tr style=\"text-align: right;\">\n",
       "      <th></th>\n",
       "      <th>run_no</th>\n",
       "      <th>universe_id</th>\n",
       "      <th>universe_settings</th>\n",
       "      <th>execution_time</th>\n",
       "      <th>test_size_n</th>\n",
       "      <th>test_size_frac</th>\n",
       "      <th>fair_main_equalized_odds_difference</th>\n",
       "      <th>fair_main_equalized_odds_ratio</th>\n",
       "      <th>fair_main_demographic_parity_difference</th>\n",
       "      <th>fair_main_demographic_parity_ratio</th>\n",
       "      <th>...</th>\n",
       "      <th>perf_grp_precision_0</th>\n",
       "      <th>perf_grp_precision_1</th>\n",
       "      <th>perf_grp_false positive rate_0</th>\n",
       "      <th>perf_grp_false positive rate_1</th>\n",
       "      <th>perf_grp_false negative rate_0</th>\n",
       "      <th>perf_grp_false negative rate_1</th>\n",
       "      <th>perf_grp_selection rate_0</th>\n",
       "      <th>perf_grp_selection rate_1</th>\n",
       "      <th>perf_grp_count_0</th>\n",
       "      <th>perf_grp_count_1</th>\n",
       "    </tr>\n",
       "  </thead>\n",
       "  <tbody>\n",
       "    <tr>\n",
       "      <th>0</th>\n",
       "      <td>3</td>\n",
       "      <td>2be3e277838ba440bc4352c92e002947</td>\n",
       "      <td>{\"cutoff\": \"quantile_0.1\", \"eval_fairness_grou...</td>\n",
       "      <td>22.297723</td>\n",
       "      <td>89710</td>\n",
       "      <td>1.0</td>\n",
       "      <td>0.045697</td>\n",
       "      <td>0.950489</td>\n",
       "      <td>0.037886</td>\n",
       "      <td>0.959228</td>\n",
       "      <td>...</td>\n",
       "      <td>NaN</td>\n",
       "      <td>NaN</td>\n",
       "      <td>NaN</td>\n",
       "      <td>NaN</td>\n",
       "      <td>NaN</td>\n",
       "      <td>NaN</td>\n",
       "      <td>NaN</td>\n",
       "      <td>NaN</td>\n",
       "      <td>NaN</td>\n",
       "      <td>NaN</td>\n",
       "    </tr>\n",
       "    <tr>\n",
       "      <th>0</th>\n",
       "      <td>3</td>\n",
       "      <td>2be3e277838ba440bc4352c92e002947</td>\n",
       "      <td>{\"cutoff\": \"quantile_0.1\", \"eval_fairness_grou...</td>\n",
       "      <td>22.297723</td>\n",
       "      <td>89710</td>\n",
       "      <td>1.0</td>\n",
       "      <td>0.045697</td>\n",
       "      <td>0.950489</td>\n",
       "      <td>0.037886</td>\n",
       "      <td>0.959228</td>\n",
       "      <td>...</td>\n",
       "      <td>0.121241</td>\n",
       "      <td>0.145832</td>\n",
       "      <td>0.922958</td>\n",
       "      <td>0.877261</td>\n",
       "      <td>0.022804</td>\n",
       "      <td>0.016302</td>\n",
       "      <td>0.929211</td>\n",
       "      <td>0.891326</td>\n",
       "      <td>20540.0</td>\n",
       "      <td>69170.0</td>\n",
       "    </tr>\n",
       "    <tr>\n",
       "      <th>0</th>\n",
       "      <td>3</td>\n",
       "      <td>2be3e277838ba440bc4352c92e002947</td>\n",
       "      <td>{\"cutoff\": \"quantile_0.25\", \"eval_fairness_gro...</td>\n",
       "      <td>22.297723</td>\n",
       "      <td>89710</td>\n",
       "      <td>1.0</td>\n",
       "      <td>0.112758</td>\n",
       "      <td>0.860809</td>\n",
       "      <td>0.094469</td>\n",
       "      <td>0.885191</td>\n",
       "      <td>...</td>\n",
       "      <td>NaN</td>\n",
       "      <td>NaN</td>\n",
       "      <td>NaN</td>\n",
       "      <td>NaN</td>\n",
       "      <td>NaN</td>\n",
       "      <td>NaN</td>\n",
       "      <td>NaN</td>\n",
       "      <td>NaN</td>\n",
       "      <td>NaN</td>\n",
       "      <td>NaN</td>\n",
       "    </tr>\n",
       "    <tr>\n",
       "      <th>0</th>\n",
       "      <td>3</td>\n",
       "      <td>2be3e277838ba440bc4352c92e002947</td>\n",
       "      <td>{\"cutoff\": \"quantile_0.25\", \"eval_fairness_gro...</td>\n",
       "      <td>22.297723</td>\n",
       "      <td>89710</td>\n",
       "      <td>1.0</td>\n",
       "      <td>0.112758</td>\n",
       "      <td>0.860809</td>\n",
       "      <td>0.094469</td>\n",
       "      <td>0.885191</td>\n",
       "      <td>...</td>\n",
       "      <td>0.128986</td>\n",
       "      <td>0.169111</td>\n",
       "      <td>0.810092</td>\n",
       "      <td>0.697335</td>\n",
       "      <td>0.079392</td>\n",
       "      <td>0.067834</td>\n",
       "      <td>0.822833</td>\n",
       "      <td>0.728365</td>\n",
       "      <td>20540.0</td>\n",
       "      <td>69170.0</td>\n",
       "    </tr>\n",
       "  </tbody>\n",
       "</table>\n",
       "<p>4 rows × 50 columns</p>\n",
       "</div>"
      ],
      "text/plain": [
       "  run_no                       universe_id  \\\n",
       "0      3  2be3e277838ba440bc4352c92e002947   \n",
       "0      3  2be3e277838ba440bc4352c92e002947   \n",
       "0      3  2be3e277838ba440bc4352c92e002947   \n",
       "0      3  2be3e277838ba440bc4352c92e002947   \n",
       "\n",
       "                                   universe_settings  execution_time  \\\n",
       "0  {\"cutoff\": \"quantile_0.1\", \"eval_fairness_grou...       22.297723   \n",
       "0  {\"cutoff\": \"quantile_0.1\", \"eval_fairness_grou...       22.297723   \n",
       "0  {\"cutoff\": \"quantile_0.25\", \"eval_fairness_gro...       22.297723   \n",
       "0  {\"cutoff\": \"quantile_0.25\", \"eval_fairness_gro...       22.297723   \n",
       "\n",
       "   test_size_n  test_size_frac  fair_main_equalized_odds_difference  \\\n",
       "0        89710             1.0                             0.045697   \n",
       "0        89710             1.0                             0.045697   \n",
       "0        89710             1.0                             0.112758   \n",
       "0        89710             1.0                             0.112758   \n",
       "\n",
       "   fair_main_equalized_odds_ratio  fair_main_demographic_parity_difference  \\\n",
       "0                        0.950489                                 0.037886   \n",
       "0                        0.950489                                 0.037886   \n",
       "0                        0.860809                                 0.094469   \n",
       "0                        0.860809                                 0.094469   \n",
       "\n",
       "   fair_main_demographic_parity_ratio  ...  perf_grp_precision_0  \\\n",
       "0                            0.959228  ...                   NaN   \n",
       "0                            0.959228  ...              0.121241   \n",
       "0                            0.885191  ...                   NaN   \n",
       "0                            0.885191  ...              0.128986   \n",
       "\n",
       "   perf_grp_precision_1  perf_grp_false positive rate_0  \\\n",
       "0                   NaN                             NaN   \n",
       "0              0.145832                        0.922958   \n",
       "0                   NaN                             NaN   \n",
       "0              0.169111                        0.810092   \n",
       "\n",
       "   perf_grp_false positive rate_1  perf_grp_false negative rate_0  \\\n",
       "0                             NaN                             NaN   \n",
       "0                        0.877261                        0.022804   \n",
       "0                             NaN                             NaN   \n",
       "0                        0.697335                        0.079392   \n",
       "\n",
       "   perf_grp_false negative rate_1  perf_grp_selection rate_0  \\\n",
       "0                             NaN                        NaN   \n",
       "0                        0.016302                   0.929211   \n",
       "0                             NaN                        NaN   \n",
       "0                        0.067834                   0.822833   \n",
       "\n",
       "   perf_grp_selection rate_1  perf_grp_count_0  perf_grp_count_1  \n",
       "0                        NaN               NaN               NaN  \n",
       "0                   0.891326           20540.0           69170.0  \n",
       "0                        NaN               NaN               NaN  \n",
       "0                   0.728365           20540.0           69170.0  \n",
       "\n",
       "[4 rows x 50 columns]"
      ]
     },
     "execution_count": 64,
     "metadata": {},
     "output_type": "execute_result"
    }
   ],
   "source": [
    "final_output = universe_analysis.generate_final_output(\n",
    "    y_pred_prob=probs_test,\n",
    "    y_test=y_true,\n",
    "    org_test=org_test,\n",
    "    filter_data=filter_sub_universe_data,\n",
    "    cp_metrics_df=cp_metrics_df,\n",
    "    save=True,\n",
    ")\n",
    "final_output"
   ]
  },
  {
   "cell_type": "code",
   "execution_count": null,
   "id": "8b80a1ff",
   "metadata": {
    "papermill": {
     "duration": 0.014419,
     "end_time": "2025-08-19T18:26:45.277109",
     "exception": false,
     "start_time": "2025-08-19T18:26:45.262690",
     "status": "completed"
    },
    "tags": []
   },
   "outputs": [],
   "source": []
  },
  {
   "cell_type": "code",
   "execution_count": null,
   "id": "275c9fad",
   "metadata": {
    "papermill": {
     "duration": 0.014291,
     "end_time": "2025-08-19T18:26:45.305632",
     "exception": false,
     "start_time": "2025-08-19T18:26:45.291341",
     "status": "completed"
    },
    "tags": []
   },
   "outputs": [],
   "source": []
  }
 ],
 "metadata": {
  "celltoolbar": "Tags",
  "kernelspec": {
   "display_name": "Python (CMA Fairness)",
   "language": "python",
   "name": "cma_fair_env"
  },
  "language_info": {
   "codemirror_mode": {
    "name": "ipython",
    "version": 3
   },
   "file_extension": ".py",
   "mimetype": "text/x-python",
   "name": "python",
   "nbconvert_exporter": "python",
   "pygments_lexer": "ipython3",
   "version": "3.10.12"
  },
  "papermill": {
   "default_parameters": {},
   "duration": 33.325542,
   "end_time": "2025-08-19T18:26:46.139578",
   "environment_variables": {},
   "exception": null,
   "input_path": "universe_analysis.ipynb",
   "output_path": "output/runs/3/notebooks/m_3-2be3e277838ba440bc4352c92e002947.ipynb",
   "parameters": {
    "output_dir": "output",
    "run_no": "3",
    "seed": "2023",
    "universe": "{\"cutoff\": [\"quantile_0.1\", \"quantile_0.25\"], \"eval_fairness_grouping\": [\"majority-minority\", \"nationality-all\"], \"exclude_features\": \"nationality\", \"exclude_subgroups\": \"drop-non-german\", \"model\": \"elasticnet\", \"scale\": \"scale\", \"training_size\": \"5k\", \"training_year\": \"2014\"}",
    "universe_id": "2be3e277838ba440bc4352c92e002947"
   },
   "start_time": "2025-08-19T18:26:12.814036",
   "version": "2.6.0"
  }
 },
 "nbformat": 4,
 "nbformat_minor": 5
}