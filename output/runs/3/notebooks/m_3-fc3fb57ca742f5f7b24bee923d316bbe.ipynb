{
 "cells": [
  {
   "cell_type": "markdown",
   "id": "ef23dbb3",
   "metadata": {
    "papermill": {
     "duration": 0.017611,
     "end_time": "2025-08-19T18:31:23.490240",
     "exception": false,
     "start_time": "2025-08-19T18:31:23.472629",
     "status": "completed"
    },
    "tags": []
   },
   "source": [
    "# Setup"
   ]
  },
  {
   "cell_type": "code",
   "execution_count": 1,
   "id": "0bc8e7dc",
   "metadata": {
    "execution": {
     "iopub.execute_input": "2025-08-19T18:31:23.509668Z",
     "iopub.status.busy": "2025-08-19T18:31:23.508690Z",
     "iopub.status.idle": "2025-08-19T18:31:23.527000Z",
     "shell.execute_reply": "2025-08-19T18:31:23.525597Z"
    },
    "papermill": {
     "duration": 0.032022,
     "end_time": "2025-08-19T18:31:23.530838",
     "exception": false,
     "start_time": "2025-08-19T18:31:23.498816",
     "status": "completed"
    },
    "tags": []
   },
   "outputs": [
    {
     "name": "stdout",
     "output_type": "stream",
     "text": [
      "/dss/dsshome1/0C/ra93lal2/cma/CMA_Fairness_v2\n"
     ]
    },
    {
     "name": "stderr",
     "output_type": "stream",
     "text": [
      "/dss/dsshome1/0C/ra93lal2/.local/share/virtualenvs/CMA_Fairness_v2-3j10GkSs/lib/python3.10/site-packages/IPython/core/magics/osm.py:393: UserWarning: This is now an optional IPython functionality, using bookmarks requires you to install the `pickleshare` library.\n",
      "  bkms = self.shell.db.get('bookmarks', {})\n",
      "/dss/dsshome1/0C/ra93lal2/.local/share/virtualenvs/CMA_Fairness_v2-3j10GkSs/lib/python3.10/site-packages/IPython/core/magics/osm.py:417: UserWarning: This is now an optional IPython functionality, setting dhist requires you to install the `pickleshare` library.\n",
      "  self.shell.db['dhist'] = compress_dhist(dhist)[-100:]\n"
     ]
    }
   ],
   "source": [
    "%cd ~/cma/CMA_Fairness_v2"
   ]
  },
  {
   "cell_type": "markdown",
   "id": "9d235661",
   "metadata": {
    "papermill": {
     "duration": 0.009097,
     "end_time": "2025-08-19T18:31:23.550311",
     "exception": false,
     "start_time": "2025-08-19T18:31:23.541214",
     "status": "completed"
    },
    "tags": []
   },
   "source": [
    "The following cell holds the definition of our parameters, these values can be overriden by rendering the with e.g. the following command:\n",
    "\n",
    "papermill -p alpha 0.2 -p ratio 0.3 universe_analysis.ipynb output/test_run.ipynb"
   ]
  },
  {
   "cell_type": "code",
   "execution_count": 2,
   "id": "4a789d8e",
   "metadata": {
    "execution": {
     "iopub.execute_input": "2025-08-19T18:31:23.570250Z",
     "iopub.status.busy": "2025-08-19T18:31:23.569690Z",
     "iopub.status.idle": "2025-08-19T18:31:23.575038Z",
     "shell.execute_reply": "2025-08-19T18:31:23.573999Z"
    },
    "papermill": {
     "duration": 0.017399,
     "end_time": "2025-08-19T18:31:23.576922",
     "exception": false,
     "start_time": "2025-08-19T18:31:23.559523",
     "status": "completed"
    },
    "tags": []
   },
   "outputs": [
    {
     "name": "stdout",
     "output_type": "stream",
     "text": [
      "Current working directory: /dss/dsshome1/0C/ra93lal2/cma/CMA_Fairness_v2\n"
     ]
    }
   ],
   "source": [
    "import os\n",
    "print(\"Current working directory:\", os.getcwd())"
   ]
  },
  {
   "cell_type": "code",
   "execution_count": 3,
   "id": "4132aaed",
   "metadata": {
    "execution": {
     "iopub.execute_input": "2025-08-19T18:31:23.600117Z",
     "iopub.status.busy": "2025-08-19T18:31:23.599439Z",
     "iopub.status.idle": "2025-08-19T18:31:23.606344Z",
     "shell.execute_reply": "2025-08-19T18:31:23.605496Z"
    },
    "papermill": {
     "duration": 0.022155,
     "end_time": "2025-08-19T18:31:23.608278",
     "exception": false,
     "start_time": "2025-08-19T18:31:23.586123",
     "status": "completed"
    },
    "tags": [
     "parameters"
    ]
   },
   "outputs": [],
   "source": [
    "run_no = 0\n",
    "universe_id = \"test\"\n",
    "universe = {\n",
    "    \"training_size\": \"5k\", # \"25k\", \"5k\", \"1k\"\n",
    "    \"training_year\": \"2012_14\", # \"2014\", \"2012_14\", \"2010_14\"\n",
    "    \"scale\": \"scale\", # \"scale\", \"do-not-scale\",\n",
    "    \"model\": \"elasticnet\", # \"logreg\", \"penalized_logreg\", \"rf\", \"gbm\", \"elasticnet\"\n",
    "    \"cutoff\": [\"quantile_0.15\", \"quantile_0.30\"],\n",
    "    \"exclude_features\": \"age\", # \"none\", \"nationality\", \"sex\", \"nationality-sex\", \"age\"\n",
    "    \"exclude_subgroups\": \"drop-non-german\", # \"keep-all\", \"drop-non-german\"\n",
    "    \"eval_fairness_grouping\": [\"majority-minority\", \"nationality-all\"]\n",
    "}\n",
    "\n",
    "output_dir=\"./output\"\n",
    "seed=0"
   ]
  },
  {
   "cell_type": "code",
   "execution_count": 4,
   "id": "5a070948",
   "metadata": {
    "execution": {
     "iopub.execute_input": "2025-08-19T18:31:23.632248Z",
     "iopub.status.busy": "2025-08-19T18:31:23.631966Z",
     "iopub.status.idle": "2025-08-19T18:31:23.637416Z",
     "shell.execute_reply": "2025-08-19T18:31:23.636006Z"
    },
    "papermill": {
     "duration": 0.020295,
     "end_time": "2025-08-19T18:31:23.638988",
     "exception": false,
     "start_time": "2025-08-19T18:31:23.618693",
     "status": "completed"
    },
    "tags": [
     "injected-parameters"
    ]
   },
   "outputs": [],
   "source": [
    "# Parameters\n",
    "universe_id = \"fc3fb57ca742f5f7b24bee923d316bbe\"\n",
    "run_no = \"3\"\n",
    "universe = \"{\\\"cutoff\\\": [\\\"quantile_0.1\\\", \\\"quantile_0.25\\\"], \\\"eval_fairness_grouping\\\": [\\\"majority-minority\\\", \\\"nationality-all\\\"], \\\"exclude_features\\\": \\\"age\\\", \\\"exclude_subgroups\\\": \\\"keep-all\\\", \\\"model\\\": \\\"logreg\\\", \\\"scale\\\": \\\"scale\\\", \\\"training_size\\\": \\\"5k\\\", \\\"training_year\\\": \\\"2012_14\\\"}\"\n",
    "output_dir = \"output\"\n",
    "seed = \"2023\"\n"
   ]
  },
  {
   "cell_type": "code",
   "execution_count": 5,
   "id": "a5d7941f",
   "metadata": {
    "execution": {
     "iopub.execute_input": "2025-08-19T18:31:23.661038Z",
     "iopub.status.busy": "2025-08-19T18:31:23.660667Z",
     "iopub.status.idle": "2025-08-19T18:31:23.665904Z",
     "shell.execute_reply": "2025-08-19T18:31:23.664825Z"
    },
    "papermill": {
     "duration": 0.019427,
     "end_time": "2025-08-19T18:31:23.667521",
     "exception": false,
     "start_time": "2025-08-19T18:31:23.648094",
     "status": "completed"
    },
    "tags": []
   },
   "outputs": [],
   "source": [
    "import json\n",
    "if isinstance(universe, str):\n",
    "    universe = json.loads(universe)"
   ]
  },
  {
   "cell_type": "code",
   "execution_count": 6,
   "id": "7076ccb1",
   "metadata": {
    "execution": {
     "iopub.execute_input": "2025-08-19T18:31:23.688343Z",
     "iopub.status.busy": "2025-08-19T18:31:23.688062Z",
     "iopub.status.idle": "2025-08-19T18:31:23.730118Z",
     "shell.execute_reply": "2025-08-19T18:31:23.728699Z"
    },
    "papermill": {
     "duration": 0.055227,
     "end_time": "2025-08-19T18:31:23.731806",
     "exception": false,
     "start_time": "2025-08-19T18:31:23.676579",
     "status": "completed"
    },
    "tags": []
   },
   "outputs": [],
   "source": [
    "# Auto-reload the custom package\n",
    "%load_ext autoreload\n",
    "%autoreload 1\n",
    "%aimport fairness_multiverse"
   ]
  },
  {
   "cell_type": "code",
   "execution_count": 7,
   "id": "94c8eb93",
   "metadata": {
    "execution": {
     "iopub.execute_input": "2025-08-19T18:31:23.755094Z",
     "iopub.status.busy": "2025-08-19T18:31:23.754405Z",
     "iopub.status.idle": "2025-08-19T18:31:25.359177Z",
     "shell.execute_reply": "2025-08-19T18:31:25.357772Z"
    },
    "papermill": {
     "duration": 1.620065,
     "end_time": "2025-08-19T18:31:25.361379",
     "exception": false,
     "start_time": "2025-08-19T18:31:23.741314",
     "status": "completed"
    },
    "tags": []
   },
   "outputs": [],
   "source": [
    "from fairness_multiverse.universe import UniverseAnalysis\n",
    "\n",
    "universe_analysis = UniverseAnalysis(\n",
    "    run_no = run_no,\n",
    "    universe_id = universe_id,\n",
    "    universe = universe,\n",
    "    output_dir=output_dir,\n",
    ")"
   ]
  },
  {
   "cell_type": "code",
   "execution_count": 8,
   "id": "2a6381cf",
   "metadata": {
    "execution": {
     "iopub.execute_input": "2025-08-19T18:31:25.382521Z",
     "iopub.status.busy": "2025-08-19T18:31:25.381968Z",
     "iopub.status.idle": "2025-08-19T18:31:25.389128Z",
     "shell.execute_reply": "2025-08-19T18:31:25.387920Z"
    },
    "papermill": {
     "duration": 0.020664,
     "end_time": "2025-08-19T18:31:25.392027",
     "exception": false,
     "start_time": "2025-08-19T18:31:25.371363",
     "status": "completed"
    },
    "tags": []
   },
   "outputs": [
    {
     "name": "stdout",
     "output_type": "stream",
     "text": [
      "Using Seed: 2023\n"
     ]
    }
   ],
   "source": [
    "import numpy as np\n",
    "parsed_seed = int(seed)\n",
    "np.random.seed(parsed_seed)\n",
    "print(f\"Using Seed: {parsed_seed}\")"
   ]
  },
  {
   "cell_type": "markdown",
   "id": "b6e958b4",
   "metadata": {
    "papermill": {
     "duration": 0.01059,
     "end_time": "2025-08-19T18:31:25.422516",
     "exception": false,
     "start_time": "2025-08-19T18:31:25.411926",
     "status": "completed"
    },
    "tags": []
   },
   "source": [
    "# Loading Data"
   ]
  },
  {
   "cell_type": "code",
   "execution_count": 9,
   "id": "98701482",
   "metadata": {
    "execution": {
     "iopub.execute_input": "2025-08-19T18:31:25.443769Z",
     "iopub.status.busy": "2025-08-19T18:31:25.442250Z",
     "iopub.status.idle": "2025-08-19T18:31:35.712037Z",
     "shell.execute_reply": "2025-08-19T18:31:35.710664Z"
    },
    "papermill": {
     "duration": 10.289946,
     "end_time": "2025-08-19T18:31:35.721498",
     "exception": false,
     "start_time": "2025-08-19T18:31:25.431552",
     "status": "completed"
    },
    "tags": []
   },
   "outputs": [
    {
     "name": "stdout",
     "output_type": "stream",
     "text": [
      "Loading SIAB data from cache: data/siab_cached.csv.gz\n"
     ]
    },
    {
     "name": "stdout",
     "output_type": "stream",
     "text": [
      "(643690, 164)\n"
     ]
    }
   ],
   "source": [
    "from pathlib import Path\n",
    "import pandas as pd\n",
    "\n",
    "# File paths\n",
    "raw_file = Path(\"data/raw/siab.csv\")\n",
    "cache_file = Path(\"data/siab_cached.csv.gz\")\n",
    "\n",
    "# Ensure cache directory exists\n",
    "cache_file.parent.mkdir(parents=True, exist_ok=True)\n",
    "\n",
    "# Load with simple caching\n",
    "if cache_file.exists():\n",
    "    print(f\"Loading SIAB data from cache: {cache_file}\")\n",
    "    siab = pd.read_csv(cache_file, compression='gzip')\n",
    "else:\n",
    "    print(f\"Cache not found. Reading raw SIAB data: {raw_file}\")\n",
    "    siab = pd.read_csv(raw_file)\n",
    "    siab.to_csv(cache_file, index=False, compression='gzip')\n",
    "    print(f\"Cached SIAB data to: {cache_file}\")\n",
    "\n",
    "print(siab.shape)"
   ]
  },
  {
   "cell_type": "code",
   "execution_count": 10,
   "id": "058d2abb",
   "metadata": {
    "execution": {
     "iopub.execute_input": "2025-08-19T18:31:35.762097Z",
     "iopub.status.busy": "2025-08-19T18:31:35.760434Z",
     "iopub.status.idle": "2025-08-19T18:31:35.935985Z",
     "shell.execute_reply": "2025-08-19T18:31:35.934778Z"
    },
    "papermill": {
     "duration": 0.202499,
     "end_time": "2025-08-19T18:31:35.937365",
     "exception": false,
     "start_time": "2025-08-19T18:31:35.734866",
     "status": "completed"
    },
    "tags": []
   },
   "outputs": [
    {
     "data": {
      "text/html": [
       "<div>\n",
       "<style scoped>\n",
       "    .dataframe tbody tr th:only-of-type {\n",
       "        vertical-align: middle;\n",
       "    }\n",
       "\n",
       "    .dataframe tbody tr th {\n",
       "        vertical-align: top;\n",
       "    }\n",
       "\n",
       "    .dataframe thead th {\n",
       "        text-align: right;\n",
       "    }\n",
       "</style>\n",
       "<table border=\"1\" class=\"dataframe\">\n",
       "  <thead>\n",
       "    <tr style=\"text-align: right;\">\n",
       "      <th></th>\n",
       "      <th>persnr</th>\n",
       "      <th>year</th>\n",
       "      <th>nrEntry</th>\n",
       "      <th>ltue</th>\n",
       "      <th>employed_before</th>\n",
       "      <th>receipt_leh_before</th>\n",
       "      <th>receipt_lhg_before</th>\n",
       "      <th>se_before</th>\n",
       "      <th>ASU_notue_seeking_before</th>\n",
       "      <th>ASU_other_before</th>\n",
       "      <th>...</th>\n",
       "      <th>minijob_tot_dur_byage</th>\n",
       "      <th>ft_tot_dur_byage</th>\n",
       "      <th>befrist_tot_dur_byage</th>\n",
       "      <th>leih_tot_dur_byage</th>\n",
       "      <th>LHG_tot_dur_byage</th>\n",
       "      <th>LEH_tot_dur_byage</th>\n",
       "      <th>almp_tot_dur_byage</th>\n",
       "      <th>almp_aw_tot_dur_byage</th>\n",
       "      <th>se_tot_dur_byage</th>\n",
       "      <th>seeking1_tot_dur_byage</th>\n",
       "    </tr>\n",
       "  </thead>\n",
       "  <tbody>\n",
       "    <tr>\n",
       "      <th>0</th>\n",
       "      <td>7</td>\n",
       "      <td>2015</td>\n",
       "      <td>1</td>\n",
       "      <td>0</td>\n",
       "      <td>1</td>\n",
       "      <td>0</td>\n",
       "      <td>0</td>\n",
       "      <td>0</td>\n",
       "      <td>1</td>\n",
       "      <td>0</td>\n",
       "      <td>...</td>\n",
       "      <td>0.000000</td>\n",
       "      <td>0.000000</td>\n",
       "      <td>15.043478</td>\n",
       "      <td>0.000000</td>\n",
       "      <td>0.000000</td>\n",
       "      <td>0.000000</td>\n",
       "      <td>0.000000</td>\n",
       "      <td>0.000000</td>\n",
       "      <td>0.000000</td>\n",
       "      <td>0.000000</td>\n",
       "    </tr>\n",
       "    <tr>\n",
       "      <th>1</th>\n",
       "      <td>18</td>\n",
       "      <td>2010</td>\n",
       "      <td>1</td>\n",
       "      <td>1</td>\n",
       "      <td>0</td>\n",
       "      <td>0</td>\n",
       "      <td>0</td>\n",
       "      <td>0</td>\n",
       "      <td>0</td>\n",
       "      <td>0</td>\n",
       "      <td>...</td>\n",
       "      <td>0.000000</td>\n",
       "      <td>0.000000</td>\n",
       "      <td>0.000000</td>\n",
       "      <td>0.000000</td>\n",
       "      <td>0.000000</td>\n",
       "      <td>0.000000</td>\n",
       "      <td>0.000000</td>\n",
       "      <td>0.000000</td>\n",
       "      <td>0.000000</td>\n",
       "      <td>0.000000</td>\n",
       "    </tr>\n",
       "    <tr>\n",
       "      <th>2</th>\n",
       "      <td>18</td>\n",
       "      <td>2011</td>\n",
       "      <td>2</td>\n",
       "      <td>0</td>\n",
       "      <td>1</td>\n",
       "      <td>0</td>\n",
       "      <td>1</td>\n",
       "      <td>0</td>\n",
       "      <td>1</td>\n",
       "      <td>0</td>\n",
       "      <td>...</td>\n",
       "      <td>2.714286</td>\n",
       "      <td>2.714286</td>\n",
       "      <td>0.000000</td>\n",
       "      <td>0.000000</td>\n",
       "      <td>10.775510</td>\n",
       "      <td>0.000000</td>\n",
       "      <td>8.367347</td>\n",
       "      <td>0.000000</td>\n",
       "      <td>0.000000</td>\n",
       "      <td>9.836735</td>\n",
       "    </tr>\n",
       "    <tr>\n",
       "      <th>3</th>\n",
       "      <td>18</td>\n",
       "      <td>2012</td>\n",
       "      <td>3</td>\n",
       "      <td>0</td>\n",
       "      <td>1</td>\n",
       "      <td>0</td>\n",
       "      <td>1</td>\n",
       "      <td>0</td>\n",
       "      <td>1</td>\n",
       "      <td>0</td>\n",
       "      <td>...</td>\n",
       "      <td>4.200000</td>\n",
       "      <td>4.200000</td>\n",
       "      <td>0.000000</td>\n",
       "      <td>0.000000</td>\n",
       "      <td>12.100000</td>\n",
       "      <td>0.000000</td>\n",
       "      <td>9.400000</td>\n",
       "      <td>0.000000</td>\n",
       "      <td>0.000000</td>\n",
       "      <td>9.960000</td>\n",
       "    </tr>\n",
       "    <tr>\n",
       "      <th>4</th>\n",
       "      <td>18</td>\n",
       "      <td>2012</td>\n",
       "      <td>4</td>\n",
       "      <td>0</td>\n",
       "      <td>1</td>\n",
       "      <td>0</td>\n",
       "      <td>1</td>\n",
       "      <td>0</td>\n",
       "      <td>1</td>\n",
       "      <td>0</td>\n",
       "      <td>...</td>\n",
       "      <td>5.460000</td>\n",
       "      <td>5.460000</td>\n",
       "      <td>0.000000</td>\n",
       "      <td>0.000000</td>\n",
       "      <td>13.360000</td>\n",
       "      <td>0.000000</td>\n",
       "      <td>10.320000</td>\n",
       "      <td>0.000000</td>\n",
       "      <td>0.000000</td>\n",
       "      <td>10.280000</td>\n",
       "    </tr>\n",
       "    <tr>\n",
       "      <th>...</th>\n",
       "      <td>...</td>\n",
       "      <td>...</td>\n",
       "      <td>...</td>\n",
       "      <td>...</td>\n",
       "      <td>...</td>\n",
       "      <td>...</td>\n",
       "      <td>...</td>\n",
       "      <td>...</td>\n",
       "      <td>...</td>\n",
       "      <td>...</td>\n",
       "      <td>...</td>\n",
       "      <td>...</td>\n",
       "      <td>...</td>\n",
       "      <td>...</td>\n",
       "      <td>...</td>\n",
       "      <td>...</td>\n",
       "      <td>...</td>\n",
       "      <td>...</td>\n",
       "      <td>...</td>\n",
       "      <td>...</td>\n",
       "      <td>...</td>\n",
       "    </tr>\n",
       "    <tr>\n",
       "      <th>643685</th>\n",
       "      <td>1827860</td>\n",
       "      <td>2013</td>\n",
       "      <td>1</td>\n",
       "      <td>0</td>\n",
       "      <td>0</td>\n",
       "      <td>0</td>\n",
       "      <td>1</td>\n",
       "      <td>0</td>\n",
       "      <td>0</td>\n",
       "      <td>1</td>\n",
       "      <td>...</td>\n",
       "      <td>0.000000</td>\n",
       "      <td>0.000000</td>\n",
       "      <td>0.000000</td>\n",
       "      <td>0.000000</td>\n",
       "      <td>0.612903</td>\n",
       "      <td>0.000000</td>\n",
       "      <td>0.000000</td>\n",
       "      <td>0.000000</td>\n",
       "      <td>0.000000</td>\n",
       "      <td>0.000000</td>\n",
       "    </tr>\n",
       "    <tr>\n",
       "      <th>643686</th>\n",
       "      <td>1827860</td>\n",
       "      <td>2015</td>\n",
       "      <td>2</td>\n",
       "      <td>1</td>\n",
       "      <td>0</td>\n",
       "      <td>0</td>\n",
       "      <td>1</td>\n",
       "      <td>0</td>\n",
       "      <td>1</td>\n",
       "      <td>0</td>\n",
       "      <td>...</td>\n",
       "      <td>0.000000</td>\n",
       "      <td>0.000000</td>\n",
       "      <td>0.212121</td>\n",
       "      <td>0.212121</td>\n",
       "      <td>17.363636</td>\n",
       "      <td>0.000000</td>\n",
       "      <td>8.909091</td>\n",
       "      <td>0.000000</td>\n",
       "      <td>0.000000</td>\n",
       "      <td>7.121212</td>\n",
       "    </tr>\n",
       "    <tr>\n",
       "      <th>643687</th>\n",
       "      <td>1827860</td>\n",
       "      <td>2016</td>\n",
       "      <td>3</td>\n",
       "      <td>1</td>\n",
       "      <td>0</td>\n",
       "      <td>0</td>\n",
       "      <td>1</td>\n",
       "      <td>1</td>\n",
       "      <td>0</td>\n",
       "      <td>1</td>\n",
       "      <td>...</td>\n",
       "      <td>0.000000</td>\n",
       "      <td>0.000000</td>\n",
       "      <td>0.294118</td>\n",
       "      <td>0.205882</td>\n",
       "      <td>34.705882</td>\n",
       "      <td>0.000000</td>\n",
       "      <td>10.352941</td>\n",
       "      <td>1.705882</td>\n",
       "      <td>1.705882</td>\n",
       "      <td>23.911765</td>\n",
       "    </tr>\n",
       "    <tr>\n",
       "      <th>643688</th>\n",
       "      <td>1827869</td>\n",
       "      <td>2013</td>\n",
       "      <td>1</td>\n",
       "      <td>1</td>\n",
       "      <td>1</td>\n",
       "      <td>0</td>\n",
       "      <td>0</td>\n",
       "      <td>0</td>\n",
       "      <td>1</td>\n",
       "      <td>0</td>\n",
       "      <td>...</td>\n",
       "      <td>0.000000</td>\n",
       "      <td>0.000000</td>\n",
       "      <td>0.000000</td>\n",
       "      <td>0.000000</td>\n",
       "      <td>0.000000</td>\n",
       "      <td>0.525424</td>\n",
       "      <td>0.000000</td>\n",
       "      <td>0.000000</td>\n",
       "      <td>0.000000</td>\n",
       "      <td>0.000000</td>\n",
       "    </tr>\n",
       "    <tr>\n",
       "      <th>643689</th>\n",
       "      <td>1827869</td>\n",
       "      <td>2014</td>\n",
       "      <td>2</td>\n",
       "      <td>0</td>\n",
       "      <td>0</td>\n",
       "      <td>1</td>\n",
       "      <td>0</td>\n",
       "      <td>0</td>\n",
       "      <td>1</td>\n",
       "      <td>0</td>\n",
       "      <td>...</td>\n",
       "      <td>0.000000</td>\n",
       "      <td>0.666667</td>\n",
       "      <td>0.666667</td>\n",
       "      <td>0.000000</td>\n",
       "      <td>0.000000</td>\n",
       "      <td>8.950000</td>\n",
       "      <td>1.033333</td>\n",
       "      <td>0.083333</td>\n",
       "      <td>0.083333</td>\n",
       "      <td>8.133333</td>\n",
       "    </tr>\n",
       "  </tbody>\n",
       "</table>\n",
       "<p>643690 rows × 164 columns</p>\n",
       "</div>"
      ],
      "text/plain": [
       "         persnr  year  nrEntry  ltue  employed_before  receipt_leh_before  \\\n",
       "0             7  2015        1     0                1                   0   \n",
       "1            18  2010        1     1                0                   0   \n",
       "2            18  2011        2     0                1                   0   \n",
       "3            18  2012        3     0                1                   0   \n",
       "4            18  2012        4     0                1                   0   \n",
       "...         ...   ...      ...   ...              ...                 ...   \n",
       "643685  1827860  2013        1     0                0                   0   \n",
       "643686  1827860  2015        2     1                0                   0   \n",
       "643687  1827860  2016        3     1                0                   0   \n",
       "643688  1827869  2013        1     1                1                   0   \n",
       "643689  1827869  2014        2     0                0                   1   \n",
       "\n",
       "        receipt_lhg_before  se_before  ASU_notue_seeking_before  \\\n",
       "0                        0          0                         1   \n",
       "1                        0          0                         0   \n",
       "2                        1          0                         1   \n",
       "3                        1          0                         1   \n",
       "4                        1          0                         1   \n",
       "...                    ...        ...                       ...   \n",
       "643685                   1          0                         0   \n",
       "643686                   1          0                         1   \n",
       "643687                   1          1                         0   \n",
       "643688                   0          0                         1   \n",
       "643689                   0          0                         1   \n",
       "\n",
       "        ASU_other_before  ...  minijob_tot_dur_byage  ft_tot_dur_byage  \\\n",
       "0                      0  ...               0.000000          0.000000   \n",
       "1                      0  ...               0.000000          0.000000   \n",
       "2                      0  ...               2.714286          2.714286   \n",
       "3                      0  ...               4.200000          4.200000   \n",
       "4                      0  ...               5.460000          5.460000   \n",
       "...                  ...  ...                    ...               ...   \n",
       "643685                 1  ...               0.000000          0.000000   \n",
       "643686                 0  ...               0.000000          0.000000   \n",
       "643687                 1  ...               0.000000          0.000000   \n",
       "643688                 0  ...               0.000000          0.000000   \n",
       "643689                 0  ...               0.000000          0.666667   \n",
       "\n",
       "        befrist_tot_dur_byage  leih_tot_dur_byage  LHG_tot_dur_byage  \\\n",
       "0                   15.043478            0.000000           0.000000   \n",
       "1                    0.000000            0.000000           0.000000   \n",
       "2                    0.000000            0.000000          10.775510   \n",
       "3                    0.000000            0.000000          12.100000   \n",
       "4                    0.000000            0.000000          13.360000   \n",
       "...                       ...                 ...                ...   \n",
       "643685               0.000000            0.000000           0.612903   \n",
       "643686               0.212121            0.212121          17.363636   \n",
       "643687               0.294118            0.205882          34.705882   \n",
       "643688               0.000000            0.000000           0.000000   \n",
       "643689               0.666667            0.000000           0.000000   \n",
       "\n",
       "        LEH_tot_dur_byage  almp_tot_dur_byage  almp_aw_tot_dur_byage  \\\n",
       "0                0.000000            0.000000               0.000000   \n",
       "1                0.000000            0.000000               0.000000   \n",
       "2                0.000000            8.367347               0.000000   \n",
       "3                0.000000            9.400000               0.000000   \n",
       "4                0.000000           10.320000               0.000000   \n",
       "...                   ...                 ...                    ...   \n",
       "643685           0.000000            0.000000               0.000000   \n",
       "643686           0.000000            8.909091               0.000000   \n",
       "643687           0.000000           10.352941               1.705882   \n",
       "643688           0.525424            0.000000               0.000000   \n",
       "643689           8.950000            1.033333               0.083333   \n",
       "\n",
       "        se_tot_dur_byage  seeking1_tot_dur_byage  \n",
       "0               0.000000                0.000000  \n",
       "1               0.000000                0.000000  \n",
       "2               0.000000                9.836735  \n",
       "3               0.000000                9.960000  \n",
       "4               0.000000               10.280000  \n",
       "...                  ...                     ...  \n",
       "643685          0.000000                0.000000  \n",
       "643686          0.000000                7.121212  \n",
       "643687          1.705882               23.911765  \n",
       "643688          0.000000                0.000000  \n",
       "643689          0.083333                8.133333  \n",
       "\n",
       "[643690 rows x 164 columns]"
      ]
     },
     "execution_count": 10,
     "metadata": {},
     "output_type": "execute_result"
    }
   ],
   "source": [
    "siab"
   ]
  },
  {
   "cell_type": "markdown",
   "id": "1f87e805",
   "metadata": {
    "papermill": {
     "duration": 0.011245,
     "end_time": "2025-08-19T18:31:35.959190",
     "exception": false,
     "start_time": "2025-08-19T18:31:35.947945",
     "status": "completed"
    },
    "tags": []
   },
   "source": [
    "# Splitting Data and Setting Training Data Size"
   ]
  },
  {
   "cell_type": "code",
   "execution_count": 11,
   "id": "910ae358",
   "metadata": {
    "execution": {
     "iopub.execute_input": "2025-08-19T18:31:35.998644Z",
     "iopub.status.busy": "2025-08-19T18:31:35.997347Z",
     "iopub.status.idle": "2025-08-19T18:31:36.685290Z",
     "shell.execute_reply": "2025-08-19T18:31:36.684057Z"
    },
    "papermill": {
     "duration": 0.70575,
     "end_time": "2025-08-19T18:31:36.689130",
     "exception": false,
     "start_time": "2025-08-19T18:31:35.983380",
     "status": "completed"
    },
    "tags": []
   },
   "outputs": [],
   "source": [
    "from fairness_multiverse.universe import sample_by_year_size\n",
    "\n",
    "siab_train = sample_by_year_size(siab,\n",
    "                               training_year=universe[\"training_year\"],\n",
    "                               training_size=universe[\"training_size\"])"
   ]
  },
  {
   "cell_type": "code",
   "execution_count": 12,
   "id": "919c8ff5",
   "metadata": {
    "execution": {
     "iopub.execute_input": "2025-08-19T18:31:36.727961Z",
     "iopub.status.busy": "2025-08-19T18:31:36.726591Z",
     "iopub.status.idle": "2025-08-19T18:31:36.736796Z",
     "shell.execute_reply": "2025-08-19T18:31:36.735477Z"
    },
    "papermill": {
     "duration": 0.025608,
     "end_time": "2025-08-19T18:31:36.738202",
     "exception": false,
     "start_time": "2025-08-19T18:31:36.712594",
     "status": "completed"
    },
    "tags": []
   },
   "outputs": [
    {
     "data": {
      "text/plain": [
       "(5000, 164)"
      ]
     },
     "execution_count": 12,
     "metadata": {},
     "output_type": "execute_result"
    }
   ],
   "source": [
    "siab_train.shape"
   ]
  },
  {
   "cell_type": "code",
   "execution_count": 13,
   "id": "feb13bf4",
   "metadata": {
    "execution": {
     "iopub.execute_input": "2025-08-19T18:31:36.761789Z",
     "iopub.status.busy": "2025-08-19T18:31:36.760539Z",
     "iopub.status.idle": "2025-08-19T18:31:36.775331Z",
     "shell.execute_reply": "2025-08-19T18:31:36.773769Z"
    },
    "papermill": {
     "duration": 0.028409,
     "end_time": "2025-08-19T18:31:36.777367",
     "exception": false,
     "start_time": "2025-08-19T18:31:36.748958",
     "status": "completed"
    },
    "tags": []
   },
   "outputs": [
    {
     "data": {
      "text/plain": [
       "year\n",
       "2012    1667\n",
       "2013    1667\n",
       "2014    1666\n",
       "dtype: int64"
      ]
     },
     "metadata": {},
     "output_type": "display_data"
    }
   ],
   "source": [
    "display(siab_train.groupby(\"year\").size())"
   ]
  },
  {
   "cell_type": "code",
   "execution_count": 14,
   "id": "0997782f",
   "metadata": {
    "execution": {
     "iopub.execute_input": "2025-08-19T18:31:36.803074Z",
     "iopub.status.busy": "2025-08-19T18:31:36.801758Z",
     "iopub.status.idle": "2025-08-19T18:31:37.077597Z",
     "shell.execute_reply": "2025-08-19T18:31:37.075191Z"
    },
    "papermill": {
     "duration": 0.29165,
     "end_time": "2025-08-19T18:31:37.081376",
     "exception": false,
     "start_time": "2025-08-19T18:31:36.789726",
     "status": "completed"
    },
    "tags": []
   },
   "outputs": [],
   "source": [
    "#siab_train = siab_s[siab_s.year < 2015]\n",
    "siab_calib = siab[siab.year == 2015]\n",
    "siab_test = siab[siab.year == 2016]"
   ]
  },
  {
   "cell_type": "code",
   "execution_count": 15,
   "id": "2c1e4012",
   "metadata": {
    "execution": {
     "iopub.execute_input": "2025-08-19T18:31:37.126442Z",
     "iopub.status.busy": "2025-08-19T18:31:37.124982Z",
     "iopub.status.idle": "2025-08-19T18:31:37.138077Z",
     "shell.execute_reply": "2025-08-19T18:31:37.137195Z"
    },
    "papermill": {
     "duration": 0.030211,
     "end_time": "2025-08-19T18:31:37.139759",
     "exception": false,
     "start_time": "2025-08-19T18:31:37.109548",
     "status": "completed"
    },
    "tags": []
   },
   "outputs": [],
   "source": [
    "#siab_calib.shape"
   ]
  },
  {
   "cell_type": "code",
   "execution_count": 16,
   "id": "f66b54ca",
   "metadata": {
    "execution": {
     "iopub.execute_input": "2025-08-19T18:31:37.174447Z",
     "iopub.status.busy": "2025-08-19T18:31:37.170982Z",
     "iopub.status.idle": "2025-08-19T18:31:37.181001Z",
     "shell.execute_reply": "2025-08-19T18:31:37.180155Z"
    },
    "papermill": {
     "duration": 0.028852,
     "end_time": "2025-08-19T18:31:37.182538",
     "exception": false,
     "start_time": "2025-08-19T18:31:37.153686",
     "status": "completed"
    },
    "tags": []
   },
   "outputs": [],
   "source": [
    "#siab_test.shape"
   ]
  },
  {
   "cell_type": "code",
   "execution_count": 17,
   "id": "27e4384d",
   "metadata": {
    "execution": {
     "iopub.execute_input": "2025-08-19T18:31:37.221505Z",
     "iopub.status.busy": "2025-08-19T18:31:37.221032Z",
     "iopub.status.idle": "2025-08-19T18:31:37.234089Z",
     "shell.execute_reply": "2025-08-19T18:31:37.233333Z"
    },
    "papermill": {
     "duration": 0.03764,
     "end_time": "2025-08-19T18:31:37.235527",
     "exception": false,
     "start_time": "2025-08-19T18:31:37.197887",
     "status": "completed"
    },
    "tags": []
   },
   "outputs": [],
   "source": [
    "X_train = siab_train.iloc[:,4:164]\n",
    "y_train = siab_train.iloc[:, [3]]"
   ]
  },
  {
   "cell_type": "code",
   "execution_count": 18,
   "id": "08ee8389",
   "metadata": {
    "execution": {
     "iopub.execute_input": "2025-08-19T18:31:37.259100Z",
     "iopub.status.busy": "2025-08-19T18:31:37.258649Z",
     "iopub.status.idle": "2025-08-19T18:31:37.319658Z",
     "shell.execute_reply": "2025-08-19T18:31:37.318784Z"
    },
    "papermill": {
     "duration": 0.073593,
     "end_time": "2025-08-19T18:31:37.321085",
     "exception": false,
     "start_time": "2025-08-19T18:31:37.247492",
     "status": "completed"
    },
    "tags": []
   },
   "outputs": [],
   "source": [
    "X_calib = siab_calib.iloc[:,4:164]\n",
    "y_calib = siab_calib.iloc[:, [3]]"
   ]
  },
  {
   "cell_type": "code",
   "execution_count": 19,
   "id": "b7ff42e0",
   "metadata": {
    "execution": {
     "iopub.execute_input": "2025-08-19T18:31:37.344984Z",
     "iopub.status.busy": "2025-08-19T18:31:37.343887Z",
     "iopub.status.idle": "2025-08-19T18:31:37.411287Z",
     "shell.execute_reply": "2025-08-19T18:31:37.410453Z"
    },
    "papermill": {
     "duration": 0.0819,
     "end_time": "2025-08-19T18:31:37.413960",
     "exception": false,
     "start_time": "2025-08-19T18:31:37.332060",
     "status": "completed"
    },
    "tags": []
   },
   "outputs": [],
   "source": [
    "X_test = siab_test.iloc[:,4:164]\n",
    "y_true = siab_test.iloc[:, [3]]"
   ]
  },
  {
   "cell_type": "code",
   "execution_count": 20,
   "id": "0275101e",
   "metadata": {
    "execution": {
     "iopub.execute_input": "2025-08-19T18:31:37.439383Z",
     "iopub.status.busy": "2025-08-19T18:31:37.438905Z",
     "iopub.status.idle": "2025-08-19T18:31:37.552678Z",
     "shell.execute_reply": "2025-08-19T18:31:37.551762Z"
    },
    "papermill": {
     "duration": 0.126776,
     "end_time": "2025-08-19T18:31:37.554123",
     "exception": false,
     "start_time": "2025-08-19T18:31:37.427347",
     "status": "completed"
    },
    "tags": []
   },
   "outputs": [],
   "source": [
    "# Auxiliary data needed downstream in the pipeline\n",
    "\n",
    "org_train = X_train.copy()\n",
    "org_test = X_test.copy()\n",
    "org_calib = X_calib.copy()"
   ]
  },
  {
   "cell_type": "markdown",
   "id": "b461e618",
   "metadata": {
    "papermill": {
     "duration": 0.015324,
     "end_time": "2025-08-19T18:31:37.580321",
     "exception": false,
     "start_time": "2025-08-19T18:31:37.564997",
     "status": "completed"
    },
    "tags": []
   },
   "source": [
    "# Preprocessing Data"
   ]
  },
  {
   "cell_type": "code",
   "execution_count": 21,
   "id": "78e74c4b",
   "metadata": {
    "execution": {
     "iopub.execute_input": "2025-08-19T18:31:37.603252Z",
     "iopub.status.busy": "2025-08-19T18:31:37.602349Z",
     "iopub.status.idle": "2025-08-19T18:31:37.607245Z",
     "shell.execute_reply": "2025-08-19T18:31:37.606653Z"
    },
    "papermill": {
     "duration": 0.018654,
     "end_time": "2025-08-19T18:31:37.609668",
     "exception": false,
     "start_time": "2025-08-19T18:31:37.591014",
     "status": "completed"
    },
    "tags": []
   },
   "outputs": [],
   "source": [
    "# EXCLUDE PROTECTED FEATURES\n",
    "# --------------------------\n",
    "\n",
    "excluded_features = universe[\"exclude_features\"].split(\"-\")\n",
    "excluded_features_dictionary = {\n",
    "    \"nationality\": [\"maxdeutsch1\", \"maxdeutsch.Missing.\"],\n",
    "    \"sex\": [\"frau1\"],\n",
    "    \"age\": [\"age\"],\n",
    "}"
   ]
  },
  {
   "cell_type": "code",
   "execution_count": 22,
   "id": "f8e63555",
   "metadata": {
    "execution": {
     "iopub.execute_input": "2025-08-19T18:31:37.654546Z",
     "iopub.status.busy": "2025-08-19T18:31:37.652528Z",
     "iopub.status.idle": "2025-08-19T18:31:37.660365Z",
     "shell.execute_reply": "2025-08-19T18:31:37.659018Z"
    },
    "papermill": {
     "duration": 0.029941,
     "end_time": "2025-08-19T18:31:37.663809",
     "exception": false,
     "start_time": "2025-08-19T18:31:37.633868",
     "status": "completed"
    },
    "tags": []
   },
   "outputs": [],
   "source": [
    "excluded_features_columns = [\n",
    "    excluded_features_dictionary[f] for f in excluded_features if len(f) > 0 and f != \"none\"\n",
    "]"
   ]
  },
  {
   "cell_type": "code",
   "execution_count": 23,
   "id": "da781f7c",
   "metadata": {
    "execution": {
     "iopub.execute_input": "2025-08-19T18:31:37.702646Z",
     "iopub.status.busy": "2025-08-19T18:31:37.702163Z",
     "iopub.status.idle": "2025-08-19T18:31:37.707785Z",
     "shell.execute_reply": "2025-08-19T18:31:37.706916Z"
    },
    "papermill": {
     "duration": 0.02444,
     "end_time": "2025-08-19T18:31:37.709084",
     "exception": false,
     "start_time": "2025-08-19T18:31:37.684644",
     "status": "completed"
    },
    "tags": []
   },
   "outputs": [],
   "source": [
    "from fairness_multiverse.universe import flatten_once\n",
    "\n",
    "excluded_features_columns = flatten_once(excluded_features_columns)"
   ]
  },
  {
   "cell_type": "code",
   "execution_count": 24,
   "id": "37fef0f0",
   "metadata": {
    "execution": {
     "iopub.execute_input": "2025-08-19T18:31:37.734294Z",
     "iopub.status.busy": "2025-08-19T18:31:37.733809Z",
     "iopub.status.idle": "2025-08-19T18:31:37.747493Z",
     "shell.execute_reply": "2025-08-19T18:31:37.746274Z"
    },
    "papermill": {
     "duration": 0.029129,
     "end_time": "2025-08-19T18:31:37.750190",
     "exception": false,
     "start_time": "2025-08-19T18:31:37.721061",
     "status": "completed"
    },
    "tags": []
   },
   "outputs": [
    {
     "name": "stdout",
     "output_type": "stream",
     "text": [
      "Dropping features: ['age']\n"
     ]
    }
   ],
   "source": [
    "if len(excluded_features_columns) > 0:\n",
    "    print(f\"Dropping features: {excluded_features_columns}\")\n",
    "    X_train.drop(excluded_features_columns, axis=1, inplace=True)"
   ]
  },
  {
   "cell_type": "code",
   "execution_count": 25,
   "id": "d029e3e9",
   "metadata": {
    "execution": {
     "iopub.execute_input": "2025-08-19T18:31:37.786643Z",
     "iopub.status.busy": "2025-08-19T18:31:37.785942Z",
     "iopub.status.idle": "2025-08-19T18:31:37.861880Z",
     "shell.execute_reply": "2025-08-19T18:31:37.861152Z"
    },
    "papermill": {
     "duration": 0.102453,
     "end_time": "2025-08-19T18:31:37.866964",
     "exception": false,
     "start_time": "2025-08-19T18:31:37.764511",
     "status": "completed"
    },
    "tags": []
   },
   "outputs": [
    {
     "name": "stdout",
     "output_type": "stream",
     "text": [
      "Dropping features: ['age']\n"
     ]
    }
   ],
   "source": [
    "if len(excluded_features_columns) > 0:\n",
    "    print(f\"Dropping features: {excluded_features_columns}\")\n",
    "    X_test.drop(excluded_features_columns, axis=1, inplace=True)"
   ]
  },
  {
   "cell_type": "code",
   "execution_count": 26,
   "id": "01d571f0",
   "metadata": {
    "execution": {
     "iopub.execute_input": "2025-08-19T18:31:37.907970Z",
     "iopub.status.busy": "2025-08-19T18:31:37.906510Z",
     "iopub.status.idle": "2025-08-19T18:31:37.969459Z",
     "shell.execute_reply": "2025-08-19T18:31:37.968724Z"
    },
    "papermill": {
     "duration": 0.080722,
     "end_time": "2025-08-19T18:31:37.970918",
     "exception": false,
     "start_time": "2025-08-19T18:31:37.890196",
     "status": "completed"
    },
    "tags": []
   },
   "outputs": [
    {
     "name": "stdout",
     "output_type": "stream",
     "text": [
      "Dropping features: ['age']\n"
     ]
    }
   ],
   "source": [
    "if len(excluded_features_columns) > 0:\n",
    "    print(f\"Dropping features: {excluded_features_columns}\")\n",
    "    X_calib.drop(excluded_features_columns, axis=1, inplace=True)"
   ]
  },
  {
   "cell_type": "code",
   "execution_count": 27,
   "id": "3037356e",
   "metadata": {
    "execution": {
     "iopub.execute_input": "2025-08-19T18:31:37.999994Z",
     "iopub.status.busy": "2025-08-19T18:31:37.998748Z",
     "iopub.status.idle": "2025-08-19T18:31:38.005722Z",
     "shell.execute_reply": "2025-08-19T18:31:38.004679Z"
    },
    "papermill": {
     "duration": 0.023572,
     "end_time": "2025-08-19T18:31:38.007399",
     "exception": false,
     "start_time": "2025-08-19T18:31:37.983827",
     "status": "completed"
    },
    "tags": []
   },
   "outputs": [],
   "source": [
    "# EXCLUDE CERTAIN SUBGROUPS\n",
    "# -------------------------\n",
    "\n",
    "mode = universe.get(\"exclude_subgroups\", \"keep-all\") # Defaults to \"keep-all\" if the key is missing."
   ]
  },
  {
   "cell_type": "code",
   "execution_count": 28,
   "id": "9d1e63fd",
   "metadata": {
    "execution": {
     "iopub.execute_input": "2025-08-19T18:31:38.035833Z",
     "iopub.status.busy": "2025-08-19T18:31:38.034583Z",
     "iopub.status.idle": "2025-08-19T18:31:38.042544Z",
     "shell.execute_reply": "2025-08-19T18:31:38.041712Z"
    },
    "papermill": {
     "duration": 0.02505,
     "end_time": "2025-08-19T18:31:38.043984",
     "exception": false,
     "start_time": "2025-08-19T18:31:38.018934",
     "status": "completed"
    },
    "tags": []
   },
   "outputs": [],
   "source": [
    "if mode == \"keep-all\":\n",
    "    keep_mask = pd.Series(True, index=org_train.index)\n",
    "\n",
    "elif mode == \"drop-non-german\":\n",
    "    keep_mask = (org_train[\"maxdeutsch1\"] == 1) & (org_train[\"maxdeutsch.Missing.\"] == 0)\n",
    "\n",
    "else:\n",
    "    raise ValueError(f\"Unsupported mode for exclude_subgroups: {mode}\")"
   ]
  },
  {
   "cell_type": "code",
   "execution_count": 29,
   "id": "d3b65474",
   "metadata": {
    "execution": {
     "iopub.execute_input": "2025-08-19T18:31:38.067804Z",
     "iopub.status.busy": "2025-08-19T18:31:38.066683Z",
     "iopub.status.idle": "2025-08-19T18:31:38.075809Z",
     "shell.execute_reply": "2025-08-19T18:31:38.074635Z"
    },
    "papermill": {
     "duration": 0.022639,
     "end_time": "2025-08-19T18:31:38.077322",
     "exception": false,
     "start_time": "2025-08-19T18:31:38.054683",
     "status": "completed"
    },
    "tags": []
   },
   "outputs": [],
   "source": [
    "n_drop = (~keep_mask).sum() # Calculates how many rows are set to be dropped\n",
    "if n_drop > 0:\n",
    "    pct = n_drop / len(keep_mask) * 100\n",
    "    print(f\"Dropping {n_drop} rows ({pct:.2f}%) where mode='{mode}'\")"
   ]
  },
  {
   "cell_type": "code",
   "execution_count": 30,
   "id": "f44389b3",
   "metadata": {
    "execution": {
     "iopub.execute_input": "2025-08-19T18:31:38.105632Z",
     "iopub.status.busy": "2025-08-19T18:31:38.104156Z",
     "iopub.status.idle": "2025-08-19T18:31:38.116157Z",
     "shell.execute_reply": "2025-08-19T18:31:38.114928Z"
    },
    "papermill": {
     "duration": 0.026409,
     "end_time": "2025-08-19T18:31:38.117833",
     "exception": false,
     "start_time": "2025-08-19T18:31:38.091424",
     "status": "completed"
    },
    "tags": []
   },
   "outputs": [],
   "source": [
    "X_train = X_train[keep_mask]"
   ]
  },
  {
   "cell_type": "code",
   "execution_count": 31,
   "id": "ceca8c2a",
   "metadata": {
    "execution": {
     "iopub.execute_input": "2025-08-19T18:31:38.147194Z",
     "iopub.status.busy": "2025-08-19T18:31:38.146099Z",
     "iopub.status.idle": "2025-08-19T18:31:38.154163Z",
     "shell.execute_reply": "2025-08-19T18:31:38.152976Z"
    },
    "papermill": {
     "duration": 0.023142,
     "end_time": "2025-08-19T18:31:38.155816",
     "exception": false,
     "start_time": "2025-08-19T18:31:38.132674",
     "status": "completed"
    },
    "tags": []
   },
   "outputs": [],
   "source": [
    "y_train = y_train[keep_mask]"
   ]
  },
  {
   "cell_type": "markdown",
   "id": "04d31e2f",
   "metadata": {
    "papermill": {
     "duration": 0.01065,
     "end_time": "2025-08-19T18:31:38.179754",
     "exception": false,
     "start_time": "2025-08-19T18:31:38.169104",
     "status": "completed"
    },
    "tags": []
   },
   "source": [
    "# Model Training"
   ]
  },
  {
   "cell_type": "code",
   "execution_count": 32,
   "id": "db991733",
   "metadata": {
    "execution": {
     "iopub.execute_input": "2025-08-19T18:31:38.205140Z",
     "iopub.status.busy": "2025-08-19T18:31:38.203848Z",
     "iopub.status.idle": "2025-08-19T18:31:38.320294Z",
     "shell.execute_reply": "2025-08-19T18:31:38.319545Z"
    },
    "papermill": {
     "duration": 0.132295,
     "end_time": "2025-08-19T18:31:38.323216",
     "exception": false,
     "start_time": "2025-08-19T18:31:38.190921",
     "status": "completed"
    },
    "tags": []
   },
   "outputs": [],
   "source": [
    "from sklearn.linear_model import LogisticRegression\n",
    "from sklearn.ensemble import GradientBoostingClassifier, RandomForestClassifier\n",
    "\n",
    "if (universe[\"model\"] == \"logreg\"):\n",
    "    model = LogisticRegression() #penalty=\"none\", solver=\"newton-cg\", max_iter=1)\n",
    "elif (universe[\"model\"] == \"penalized_logreg\"):\n",
    "    model = LogisticRegression(penalty=\"l2\", C=0.1) #, solver=\"newton-cg\", max_iter=1)\n",
    "elif (universe[\"model\"] == \"rf\"):\n",
    "    model = RandomForestClassifier() # n_estimators=100, n_jobs=-1\n",
    "elif (universe[\"model\"] == \"gbm\"):\n",
    "    model = GradientBoostingClassifier()\n",
    "elif (universe[\"model\"] == \"elasticnet\"):\n",
    "    model = LogisticRegression(penalty = 'elasticnet', solver = 'saga', l1_ratio = 0.5) # max_iter=5000\n",
    "else:\n",
    "    raise \"Unsupported universe.model\""
   ]
  },
  {
   "cell_type": "code",
   "execution_count": 33,
   "id": "a4b5cd25",
   "metadata": {
    "execution": {
     "iopub.execute_input": "2025-08-19T18:31:38.363937Z",
     "iopub.status.busy": "2025-08-19T18:31:38.363428Z",
     "iopub.status.idle": "2025-08-19T18:31:38.369013Z",
     "shell.execute_reply": "2025-08-19T18:31:38.368166Z"
    },
    "papermill": {
     "duration": 0.020732,
     "end_time": "2025-08-19T18:31:38.370235",
     "exception": false,
     "start_time": "2025-08-19T18:31:38.349503",
     "status": "completed"
    },
    "tags": []
   },
   "outputs": [],
   "source": [
    "from sklearn.pipeline import Pipeline\n",
    "from sklearn.preprocessing import StandardScaler\n",
    "\n",
    "model = Pipeline([\n",
    "    #(\"continuous_processor\", continuous_processor),\n",
    "    #(\"categorical_preprocessor\", categorical_preprocessor),\n",
    "    (\"scale\", StandardScaler() if universe[\"scale\"] == \"scale\" else None), \n",
    "    (\"model\", model),\n",
    "])"
   ]
  },
  {
   "cell_type": "code",
   "execution_count": 34,
   "id": "283a904d",
   "metadata": {
    "execution": {
     "iopub.execute_input": "2025-08-19T18:31:38.394251Z",
     "iopub.status.busy": "2025-08-19T18:31:38.393057Z",
     "iopub.status.idle": "2025-08-19T18:31:38.564421Z",
     "shell.execute_reply": "2025-08-19T18:31:38.563127Z"
    },
    "papermill": {
     "duration": 0.187609,
     "end_time": "2025-08-19T18:31:38.568912",
     "exception": false,
     "start_time": "2025-08-19T18:31:38.381303",
     "status": "completed"
    },
    "tags": []
   },
   "outputs": [
    {
     "name": "stderr",
     "output_type": "stream",
     "text": [
      "/dss/dsshome1/0C/ra93lal2/.local/share/virtualenvs/CMA_Fairness_v2-3j10GkSs/lib/python3.10/site-packages/sklearn/linear_model/_logistic.py:444: ConvergenceWarning: lbfgs failed to converge (status=1):\n",
      "STOP: TOTAL NO. of ITERATIONS REACHED LIMIT.\n",
      "\n",
      "Increase the number of iterations (max_iter) or scale the data as shown in:\n",
      "    https://scikit-learn.org/stable/modules/preprocessing.html\n",
      "Please also refer to the documentation for alternative solver options:\n",
      "    https://scikit-learn.org/stable/modules/linear_model.html#logistic-regression\n",
      "  n_iter_i = _check_optimize_result(\n"
     ]
    },
    {
     "data": {
      "text/html": [
       "<style>#sk-container-id-1 {color: black;background-color: white;}#sk-container-id-1 pre{padding: 0;}#sk-container-id-1 div.sk-toggleable {background-color: white;}#sk-container-id-1 label.sk-toggleable__label {cursor: pointer;display: block;width: 100%;margin-bottom: 0;padding: 0.3em;box-sizing: border-box;text-align: center;}#sk-container-id-1 label.sk-toggleable__label-arrow:before {content: \"▸\";float: left;margin-right: 0.25em;color: #696969;}#sk-container-id-1 label.sk-toggleable__label-arrow:hover:before {color: black;}#sk-container-id-1 div.sk-estimator:hover label.sk-toggleable__label-arrow:before {color: black;}#sk-container-id-1 div.sk-toggleable__content {max-height: 0;max-width: 0;overflow: hidden;text-align: left;background-color: #f0f8ff;}#sk-container-id-1 div.sk-toggleable__content pre {margin: 0.2em;color: black;border-radius: 0.25em;background-color: #f0f8ff;}#sk-container-id-1 input.sk-toggleable__control:checked~div.sk-toggleable__content {max-height: 200px;max-width: 100%;overflow: auto;}#sk-container-id-1 input.sk-toggleable__control:checked~label.sk-toggleable__label-arrow:before {content: \"▾\";}#sk-container-id-1 div.sk-estimator input.sk-toggleable__control:checked~label.sk-toggleable__label {background-color: #d4ebff;}#sk-container-id-1 div.sk-label input.sk-toggleable__control:checked~label.sk-toggleable__label {background-color: #d4ebff;}#sk-container-id-1 input.sk-hidden--visually {border: 0;clip: rect(1px 1px 1px 1px);clip: rect(1px, 1px, 1px, 1px);height: 1px;margin: -1px;overflow: hidden;padding: 0;position: absolute;width: 1px;}#sk-container-id-1 div.sk-estimator {font-family: monospace;background-color: #f0f8ff;border: 1px dotted black;border-radius: 0.25em;box-sizing: border-box;margin-bottom: 0.5em;}#sk-container-id-1 div.sk-estimator:hover {background-color: #d4ebff;}#sk-container-id-1 div.sk-parallel-item::after {content: \"\";width: 100%;border-bottom: 1px solid gray;flex-grow: 1;}#sk-container-id-1 div.sk-label:hover label.sk-toggleable__label {background-color: #d4ebff;}#sk-container-id-1 div.sk-serial::before {content: \"\";position: absolute;border-left: 1px solid gray;box-sizing: border-box;top: 0;bottom: 0;left: 50%;z-index: 0;}#sk-container-id-1 div.sk-serial {display: flex;flex-direction: column;align-items: center;background-color: white;padding-right: 0.2em;padding-left: 0.2em;position: relative;}#sk-container-id-1 div.sk-item {position: relative;z-index: 1;}#sk-container-id-1 div.sk-parallel {display: flex;align-items: stretch;justify-content: center;background-color: white;position: relative;}#sk-container-id-1 div.sk-item::before, #sk-container-id-1 div.sk-parallel-item::before {content: \"\";position: absolute;border-left: 1px solid gray;box-sizing: border-box;top: 0;bottom: 0;left: 50%;z-index: -1;}#sk-container-id-1 div.sk-parallel-item {display: flex;flex-direction: column;z-index: 1;position: relative;background-color: white;}#sk-container-id-1 div.sk-parallel-item:first-child::after {align-self: flex-end;width: 50%;}#sk-container-id-1 div.sk-parallel-item:last-child::after {align-self: flex-start;width: 50%;}#sk-container-id-1 div.sk-parallel-item:only-child::after {width: 0;}#sk-container-id-1 div.sk-dashed-wrapped {border: 1px dashed gray;margin: 0 0.4em 0.5em 0.4em;box-sizing: border-box;padding-bottom: 0.4em;background-color: white;}#sk-container-id-1 div.sk-label label {font-family: monospace;font-weight: bold;display: inline-block;line-height: 1.2em;}#sk-container-id-1 div.sk-label-container {text-align: center;}#sk-container-id-1 div.sk-container {/* jupyter's `normalize.less` sets `[hidden] { display: none; }` but bootstrap.min.css set `[hidden] { display: none !important; }` so we also need the `!important` here to be able to override the default hidden behavior on the sphinx rendered scikit-learn.org. See: https://github.com/scikit-learn/scikit-learn/issues/21755 */display: inline-block !important;position: relative;}#sk-container-id-1 div.sk-text-repr-fallback {display: none;}</style><div id=\"sk-container-id-1\" class=\"sk-top-container\"><div class=\"sk-text-repr-fallback\"><pre>Pipeline(steps=[(&#x27;scale&#x27;, StandardScaler()), (&#x27;model&#x27;, LogisticRegression())])</pre><b>In a Jupyter environment, please rerun this cell to show the HTML representation or trust the notebook. <br />On GitHub, the HTML representation is unable to render, please try loading this page with nbviewer.org.</b></div><div class=\"sk-container\" hidden><div class=\"sk-item sk-dashed-wrapped\"><div class=\"sk-label-container\"><div class=\"sk-label sk-toggleable\"><input class=\"sk-toggleable__control sk-hidden--visually\" id=\"sk-estimator-id-1\" type=\"checkbox\" ><label for=\"sk-estimator-id-1\" class=\"sk-toggleable__label sk-toggleable__label-arrow\">Pipeline</label><div class=\"sk-toggleable__content\"><pre>Pipeline(steps=[(&#x27;scale&#x27;, StandardScaler()), (&#x27;model&#x27;, LogisticRegression())])</pre></div></div></div><div class=\"sk-serial\"><div class=\"sk-item\"><div class=\"sk-estimator sk-toggleable\"><input class=\"sk-toggleable__control sk-hidden--visually\" id=\"sk-estimator-id-2\" type=\"checkbox\" ><label for=\"sk-estimator-id-2\" class=\"sk-toggleable__label sk-toggleable__label-arrow\">StandardScaler</label><div class=\"sk-toggleable__content\"><pre>StandardScaler()</pre></div></div></div><div class=\"sk-item\"><div class=\"sk-estimator sk-toggleable\"><input class=\"sk-toggleable__control sk-hidden--visually\" id=\"sk-estimator-id-3\" type=\"checkbox\" ><label for=\"sk-estimator-id-3\" class=\"sk-toggleable__label sk-toggleable__label-arrow\">LogisticRegression</label><div class=\"sk-toggleable__content\"><pre>LogisticRegression()</pre></div></div></div></div></div></div></div>"
      ],
      "text/plain": [
       "Pipeline(steps=[('scale', StandardScaler()), ('model', LogisticRegression())])"
      ]
     },
     "execution_count": 34,
     "metadata": {},
     "output_type": "execute_result"
    }
   ],
   "source": [
    "model.fit(X_train, y_train.values.ravel())"
   ]
  },
  {
   "cell_type": "code",
   "execution_count": 35,
   "id": "6e15e313",
   "metadata": {
    "execution": {
     "iopub.execute_input": "2025-08-19T18:31:38.612606Z",
     "iopub.status.busy": "2025-08-19T18:31:38.611240Z",
     "iopub.status.idle": "2025-08-19T18:31:38.829221Z",
     "shell.execute_reply": "2025-08-19T18:31:38.828099Z"
    },
    "papermill": {
     "duration": 0.238035,
     "end_time": "2025-08-19T18:31:38.830561",
     "exception": false,
     "start_time": "2025-08-19T18:31:38.592526",
     "status": "completed"
    },
    "tags": []
   },
   "outputs": [
    {
     "data": {
      "text/plain": [
       "0.8550328837364842"
      ]
     },
     "execution_count": 35,
     "metadata": {},
     "output_type": "execute_result"
    }
   ],
   "source": [
    "from fairness_multiverse.universe import predict_w_threshold\n",
    "\n",
    "probs_test = model.predict_proba(X_test)\n",
    "\n",
    "'''\n",
    "Below code returns a boolean array (or binary 0/1 array depending on how it’s used) where each element \n",
    "is True if the probability of class 1 is greater than or equal to the threshold, and False otherwise.\n",
    "'''\n",
    "y_pred_default = predict_w_threshold(probs_test, 0.5)\n",
    "\n",
    "from sklearn.metrics import accuracy_score\n",
    "\n",
    "# Naive prediction\n",
    "accuracy_score(y_true = y_true, y_pred = y_pred_default)"
   ]
  },
  {
   "cell_type": "code",
   "execution_count": 36,
   "id": "6f14067c",
   "metadata": {
    "execution": {
     "iopub.execute_input": "2025-08-19T18:31:38.856648Z",
     "iopub.status.busy": "2025-08-19T18:31:38.854737Z",
     "iopub.status.idle": "2025-08-19T18:31:39.042765Z",
     "shell.execute_reply": "2025-08-19T18:31:39.041665Z"
    },
    "papermill": {
     "duration": 0.201955,
     "end_time": "2025-08-19T18:31:39.044151",
     "exception": false,
     "start_time": "2025-08-19T18:31:38.842196",
     "status": "completed"
    },
    "tags": []
   },
   "outputs": [
    {
     "data": {
      "text/plain": [
       "array([0, 0, 0, ..., 0, 0, 0])"
      ]
     },
     "execution_count": 36,
     "metadata": {},
     "output_type": "execute_result"
    }
   ],
   "source": [
    "model.predict(X_test)"
   ]
  },
  {
   "cell_type": "markdown",
   "id": "3759920c",
   "metadata": {
    "papermill": {
     "duration": 0.013623,
     "end_time": "2025-08-19T18:31:39.071563",
     "exception": false,
     "start_time": "2025-08-19T18:31:39.057940",
     "status": "completed"
    },
    "tags": []
   },
   "source": [
    "# Conformal Prediction"
   ]
  },
  {
   "cell_type": "code",
   "execution_count": 37,
   "id": "14b27f59",
   "metadata": {
    "execution": {
     "iopub.execute_input": "2025-08-19T18:31:39.097668Z",
     "iopub.status.busy": "2025-08-19T18:31:39.096238Z",
     "iopub.status.idle": "2025-08-19T18:31:39.103698Z",
     "shell.execute_reply": "2025-08-19T18:31:39.102412Z"
    },
    "papermill": {
     "duration": 0.022362,
     "end_time": "2025-08-19T18:31:39.105348",
     "exception": false,
     "start_time": "2025-08-19T18:31:39.082986",
     "status": "completed"
    },
    "tags": []
   },
   "outputs": [],
   "source": [
    "# Miscoverage level for conformal prediction (10% allowed error rate => 90% target coverage)\n",
    "alpha = 0.1"
   ]
  },
  {
   "cell_type": "code",
   "execution_count": 38,
   "id": "59102472",
   "metadata": {
    "execution": {
     "iopub.execute_input": "2025-08-19T18:31:39.139155Z",
     "iopub.status.busy": "2025-08-19T18:31:39.137838Z",
     "iopub.status.idle": "2025-08-19T18:31:39.339760Z",
     "shell.execute_reply": "2025-08-19T18:31:39.338949Z"
    },
    "papermill": {
     "duration": 0.224496,
     "end_time": "2025-08-19T18:31:39.345104",
     "exception": false,
     "start_time": "2025-08-19T18:31:39.120608",
     "status": "completed"
    },
    "tags": []
   },
   "outputs": [],
   "source": [
    "probs_calib = model.predict_proba(X_calib)"
   ]
  },
  {
   "cell_type": "code",
   "execution_count": 39,
   "id": "a792d4dd",
   "metadata": {
    "execution": {
     "iopub.execute_input": "2025-08-19T18:31:39.384702Z",
     "iopub.status.busy": "2025-08-19T18:31:39.382883Z",
     "iopub.status.idle": "2025-08-19T18:31:39.392604Z",
     "shell.execute_reply": "2025-08-19T18:31:39.391228Z"
    },
    "papermill": {
     "duration": 0.025552,
     "end_time": "2025-08-19T18:31:39.394238",
     "exception": false,
     "start_time": "2025-08-19T18:31:39.368686",
     "status": "completed"
    },
    "tags": []
   },
   "outputs": [],
   "source": [
    "y_calib = y_calib.values.ravel().astype(int)"
   ]
  },
  {
   "cell_type": "code",
   "execution_count": 40,
   "id": "650fd033",
   "metadata": {
    "execution": {
     "iopub.execute_input": "2025-08-19T18:31:39.424787Z",
     "iopub.status.busy": "2025-08-19T18:31:39.423291Z",
     "iopub.status.idle": "2025-08-19T18:31:39.435743Z",
     "shell.execute_reply": "2025-08-19T18:31:39.434445Z"
    },
    "papermill": {
     "duration": 0.028383,
     "end_time": "2025-08-19T18:31:39.437791",
     "exception": false,
     "start_time": "2025-08-19T18:31:39.409408",
     "status": "completed"
    },
    "tags": []
   },
   "outputs": [],
   "source": [
    "from fairness_multiverse.conformal import compute_nc_scores\n",
    "\n",
    "# Compute nonconformity scores on calibration set (1 - probability of true class)\n",
    "nc_scores = compute_nc_scores(probs_calib, y_calib)"
   ]
  },
  {
   "cell_type": "code",
   "execution_count": 41,
   "id": "28ada44c",
   "metadata": {
    "execution": {
     "iopub.execute_input": "2025-08-19T18:31:39.483148Z",
     "iopub.status.busy": "2025-08-19T18:31:39.482446Z",
     "iopub.status.idle": "2025-08-19T18:31:39.490894Z",
     "shell.execute_reply": "2025-08-19T18:31:39.489993Z"
    },
    "papermill": {
     "duration": 0.036654,
     "end_time": "2025-08-19T18:31:39.492536",
     "exception": false,
     "start_time": "2025-08-19T18:31:39.455882",
     "status": "completed"
    },
    "tags": []
   },
   "outputs": [],
   "source": [
    "from fairness_multiverse.conformal import find_threshold\n",
    "\n",
    "# Find conformal threshold q_hat for the given alpha (split conformal method)\n",
    "q_hat = find_threshold(nc_scores, alpha)"
   ]
  },
  {
   "cell_type": "code",
   "execution_count": 42,
   "id": "df56469e",
   "metadata": {
    "execution": {
     "iopub.execute_input": "2025-08-19T18:31:39.532338Z",
     "iopub.status.busy": "2025-08-19T18:31:39.531394Z",
     "iopub.status.idle": "2025-08-19T18:31:39.537547Z",
     "shell.execute_reply": "2025-08-19T18:31:39.536780Z"
    },
    "papermill": {
     "duration": 0.021572,
     "end_time": "2025-08-19T18:31:39.538910",
     "exception": false,
     "start_time": "2025-08-19T18:31:39.517338",
     "status": "completed"
    },
    "tags": []
   },
   "outputs": [
    {
     "data": {
      "text/plain": [
       "0.6906514937654055"
      ]
     },
     "execution_count": 42,
     "metadata": {},
     "output_type": "execute_result"
    }
   ],
   "source": [
    "q_hat"
   ]
  },
  {
   "cell_type": "code",
   "execution_count": 43,
   "id": "aa1f5faa",
   "metadata": {
    "execution": {
     "iopub.execute_input": "2025-08-19T18:31:39.567255Z",
     "iopub.status.busy": "2025-08-19T18:31:39.566596Z",
     "iopub.status.idle": "2025-08-19T18:31:40.204638Z",
     "shell.execute_reply": "2025-08-19T18:31:40.203078Z"
    },
    "papermill": {
     "duration": 0.654679,
     "end_time": "2025-08-19T18:31:40.206318",
     "exception": false,
     "start_time": "2025-08-19T18:31:39.551639",
     "status": "completed"
    },
    "tags": []
   },
   "outputs": [],
   "source": [
    "from fairness_multiverse.conformal import predict_conformal_sets\n",
    "\n",
    "# Generate prediction sets for each test example\n",
    "pred_sets = predict_conformal_sets(model, X_test, q_hat)"
   ]
  },
  {
   "cell_type": "code",
   "execution_count": 44,
   "id": "97f67a6b",
   "metadata": {
    "execution": {
     "iopub.execute_input": "2025-08-19T18:31:40.235198Z",
     "iopub.status.busy": "2025-08-19T18:31:40.233376Z",
     "iopub.status.idle": "2025-08-19T18:31:40.244308Z",
     "shell.execute_reply": "2025-08-19T18:31:40.243023Z"
    },
    "papermill": {
     "duration": 0.027243,
     "end_time": "2025-08-19T18:31:40.245825",
     "exception": false,
     "start_time": "2025-08-19T18:31:40.218582",
     "status": "completed"
    },
    "tags": []
   },
   "outputs": [],
   "source": [
    "y_true = y_true.squeeze()"
   ]
  },
  {
   "cell_type": "code",
   "execution_count": 45,
   "id": "e700e9a7",
   "metadata": {
    "execution": {
     "iopub.execute_input": "2025-08-19T18:31:40.282608Z",
     "iopub.status.busy": "2025-08-19T18:31:40.279667Z",
     "iopub.status.idle": "2025-08-19T18:31:40.810673Z",
     "shell.execute_reply": "2025-08-19T18:31:40.809142Z"
    },
    "papermill": {
     "duration": 0.55534,
     "end_time": "2025-08-19T18:31:40.813148",
     "exception": false,
     "start_time": "2025-08-19T18:31:40.257808",
     "status": "completed"
    },
    "tags": []
   },
   "outputs": [],
   "source": [
    "from fairness_multiverse.conformal import evaluate_sets\n",
    "\n",
    "# Evaluate coverage and average set size on test data\n",
    "metrics = evaluate_sets(pred_sets, y_true)"
   ]
  },
  {
   "cell_type": "markdown",
   "id": "efbacec0",
   "metadata": {
    "papermill": {
     "duration": 0.011806,
     "end_time": "2025-08-19T18:31:40.837118",
     "exception": false,
     "start_time": "2025-08-19T18:31:40.825312",
     "status": "completed"
    },
    "tags": []
   },
   "source": [
    "# CP Metrics"
   ]
  },
  {
   "cell_type": "code",
   "execution_count": 46,
   "id": "9de55fb1",
   "metadata": {
    "execution": {
     "iopub.execute_input": "2025-08-19T18:31:40.864581Z",
     "iopub.status.busy": "2025-08-19T18:31:40.864190Z",
     "iopub.status.idle": "2025-08-19T18:31:40.872284Z",
     "shell.execute_reply": "2025-08-19T18:31:40.871463Z"
    },
    "papermill": {
     "duration": 0.026622,
     "end_time": "2025-08-19T18:31:40.877205",
     "exception": false,
     "start_time": "2025-08-19T18:31:40.850583",
     "status": "completed"
    },
    "tags": []
   },
   "outputs": [
    {
     "data": {
      "text/plain": [
       "{'coverage': 0.9102998550886189, 'avg_size': 1.1385129862891539}"
      ]
     },
     "execution_count": 46,
     "metadata": {},
     "output_type": "execute_result"
    }
   ],
   "source": [
    "metrics"
   ]
  },
  {
   "cell_type": "code",
   "execution_count": 47,
   "id": "64c340a1",
   "metadata": {
    "execution": {
     "iopub.execute_input": "2025-08-19T18:31:40.910206Z",
     "iopub.status.busy": "2025-08-19T18:31:40.909124Z",
     "iopub.status.idle": "2025-08-19T18:31:40.919000Z",
     "shell.execute_reply": "2025-08-19T18:31:40.917836Z"
    },
    "papermill": {
     "duration": 0.027093,
     "end_time": "2025-08-19T18:31:40.922023",
     "exception": false,
     "start_time": "2025-08-19T18:31:40.894930",
     "status": "completed"
    },
    "tags": []
   },
   "outputs": [],
   "source": [
    "example_universe = universe.copy()\n",
    "universe_training_year = example_universe.get(\"training_year\")\n",
    "universe_training_size = example_universe.get(\"training_size\")\n",
    "universe_scale = example_universe.get(\"scale\")\n",
    "universe_model = example_universe.get(\"model\")\n",
    "universe_exclude_features = example_universe.get(\"exclude_features\")\n",
    "universe_exclude_subgroups = example_universe.get(\"exclude_subgroups\")"
   ]
  },
  {
   "cell_type": "code",
   "execution_count": 48,
   "id": "dbb53cb4",
   "metadata": {
    "execution": {
     "iopub.execute_input": "2025-08-19T18:31:40.952404Z",
     "iopub.status.busy": "2025-08-19T18:31:40.950855Z",
     "iopub.status.idle": "2025-08-19T18:31:40.960828Z",
     "shell.execute_reply": "2025-08-19T18:31:40.959628Z"
    },
    "papermill": {
     "duration": 0.025138,
     "end_time": "2025-08-19T18:31:40.962462",
     "exception": false,
     "start_time": "2025-08-19T18:31:40.937324",
     "status": "completed"
    },
    "tags": []
   },
   "outputs": [],
   "source": [
    "cp_metrics_dict = {\n",
    "    \"universe_id\": [universe_id],\n",
    "    \"universe_training_year\": [universe_training_year],\n",
    "    \"universe_training_size\": [universe_training_size],\n",
    "    \"universe_scale\": [universe_scale],\n",
    "    \"universe_model\": [universe_model],\n",
    "    \"universe_exclude_features\": [universe_exclude_features],\n",
    "    \"universe_exclude_subgroups\": [universe_exclude_subgroups],\n",
    "    \"q_hat\": [q_hat],\n",
    "    \"coverage\": [metrics[\"coverage\"]],\n",
    "    \"avg_size\": [metrics[\"avg_size\"]],\n",
    "}"
   ]
  },
  {
   "cell_type": "code",
   "execution_count": 49,
   "id": "0d70d4b2",
   "metadata": {
    "execution": {
     "iopub.execute_input": "2025-08-19T18:31:40.991592Z",
     "iopub.status.busy": "2025-08-19T18:31:40.990645Z",
     "iopub.status.idle": "2025-08-19T18:31:41.001926Z",
     "shell.execute_reply": "2025-08-19T18:31:41.000699Z"
    },
    "papermill": {
     "duration": 0.02646,
     "end_time": "2025-08-19T18:31:41.003613",
     "exception": false,
     "start_time": "2025-08-19T18:31:40.977153",
     "status": "completed"
    },
    "tags": []
   },
   "outputs": [],
   "source": [
    "cp_metrics_df = pd.DataFrame(cp_metrics_dict)"
   ]
  },
  {
   "cell_type": "code",
   "execution_count": 50,
   "id": "b494403c",
   "metadata": {
    "execution": {
     "iopub.execute_input": "2025-08-19T18:31:41.030991Z",
     "iopub.status.busy": "2025-08-19T18:31:41.030581Z",
     "iopub.status.idle": "2025-08-19T18:31:41.046776Z",
     "shell.execute_reply": "2025-08-19T18:31:41.045485Z"
    },
    "papermill": {
     "duration": 0.031707,
     "end_time": "2025-08-19T18:31:41.049286",
     "exception": false,
     "start_time": "2025-08-19T18:31:41.017579",
     "status": "completed"
    },
    "tags": []
   },
   "outputs": [
    {
     "data": {
      "text/html": [
       "<div>\n",
       "<style scoped>\n",
       "    .dataframe tbody tr th:only-of-type {\n",
       "        vertical-align: middle;\n",
       "    }\n",
       "\n",
       "    .dataframe tbody tr th {\n",
       "        vertical-align: top;\n",
       "    }\n",
       "\n",
       "    .dataframe thead th {\n",
       "        text-align: right;\n",
       "    }\n",
       "</style>\n",
       "<table border=\"1\" class=\"dataframe\">\n",
       "  <thead>\n",
       "    <tr style=\"text-align: right;\">\n",
       "      <th></th>\n",
       "      <th>universe_id</th>\n",
       "      <th>universe_training_year</th>\n",
       "      <th>universe_training_size</th>\n",
       "      <th>universe_scale</th>\n",
       "      <th>universe_model</th>\n",
       "      <th>universe_exclude_features</th>\n",
       "      <th>universe_exclude_subgroups</th>\n",
       "      <th>q_hat</th>\n",
       "      <th>coverage</th>\n",
       "      <th>avg_size</th>\n",
       "    </tr>\n",
       "  </thead>\n",
       "  <tbody>\n",
       "    <tr>\n",
       "      <th>0</th>\n",
       "      <td>fc3fb57ca742f5f7b24bee923d316bbe</td>\n",
       "      <td>2012_14</td>\n",
       "      <td>5k</td>\n",
       "      <td>scale</td>\n",
       "      <td>logreg</td>\n",
       "      <td>age</td>\n",
       "      <td>keep-all</td>\n",
       "      <td>0.690651</td>\n",
       "      <td>0.9103</td>\n",
       "      <td>1.138513</td>\n",
       "    </tr>\n",
       "  </tbody>\n",
       "</table>\n",
       "</div>"
      ],
      "text/plain": [
       "                        universe_id universe_training_year  \\\n",
       "0  fc3fb57ca742f5f7b24bee923d316bbe                2012_14   \n",
       "\n",
       "  universe_training_size universe_scale universe_model  \\\n",
       "0                     5k          scale         logreg   \n",
       "\n",
       "  universe_exclude_features universe_exclude_subgroups     q_hat  coverage  \\\n",
       "0                       age                   keep-all  0.690651    0.9103   \n",
       "\n",
       "   avg_size  \n",
       "0  1.138513  "
      ]
     },
     "execution_count": 50,
     "metadata": {},
     "output_type": "execute_result"
    }
   ],
   "source": [
    "cp_metrics_df"
   ]
  },
  {
   "cell_type": "markdown",
   "id": "ed608b0b",
   "metadata": {
    "papermill": {
     "duration": 0.012307,
     "end_time": "2025-08-19T18:31:41.076893",
     "exception": false,
     "start_time": "2025-08-19T18:31:41.064586",
     "status": "completed"
    },
    "tags": []
   },
   "source": [
    "Conditional coverage & looking at subgroups"
   ]
  },
  {
   "cell_type": "code",
   "execution_count": 51,
   "id": "8968c366",
   "metadata": {
    "execution": {
     "iopub.execute_input": "2025-08-19T18:31:41.102829Z",
     "iopub.status.busy": "2025-08-19T18:31:41.102407Z",
     "iopub.status.idle": "2025-08-19T18:31:41.367214Z",
     "shell.execute_reply": "2025-08-19T18:31:41.364973Z"
    },
    "papermill": {
     "duration": 0.281685,
     "end_time": "2025-08-19T18:31:41.370721",
     "exception": false,
     "start_time": "2025-08-19T18:31:41.089036",
     "status": "completed"
    },
    "tags": []
   },
   "outputs": [],
   "source": [
    "from fairness_multiverse.conformal import build_cp_groups\n",
    "\n",
    "cp_groups_df = build_cp_groups(pred_sets, y_true, X_test.index, org_test)"
   ]
  },
  {
   "cell_type": "code",
   "execution_count": 52,
   "id": "292ddabf",
   "metadata": {
    "execution": {
     "iopub.execute_input": "2025-08-19T18:31:41.417114Z",
     "iopub.status.busy": "2025-08-19T18:31:41.416118Z",
     "iopub.status.idle": "2025-08-19T18:31:42.293290Z",
     "shell.execute_reply": "2025-08-19T18:31:42.288907Z"
    },
    "papermill": {
     "duration": 0.902017,
     "end_time": "2025-08-19T18:31:42.295149",
     "exception": false,
     "start_time": "2025-08-19T18:31:41.393132",
     "status": "completed"
    },
    "tags": []
   },
   "outputs": [],
   "source": [
    "# Define covered = 1 if true_label is in the predicted set\n",
    "cp_groups_df['covered'] = cp_groups_df.apply(\n",
    "    lambda r: int(r['true_label'] in r['pred_set']),\n",
    "    axis=1\n",
    ")"
   ]
  },
  {
   "cell_type": "code",
   "execution_count": 53,
   "id": "3a261692",
   "metadata": {
    "execution": {
     "iopub.execute_input": "2025-08-19T18:31:42.352790Z",
     "iopub.status.busy": "2025-08-19T18:31:42.352254Z",
     "iopub.status.idle": "2025-08-19T18:31:42.364649Z",
     "shell.execute_reply": "2025-08-19T18:31:42.364013Z"
    },
    "papermill": {
     "duration": 0.031388,
     "end_time": "2025-08-19T18:31:42.365711",
     "exception": false,
     "start_time": "2025-08-19T18:31:42.334323",
     "status": "completed"
    },
    "tags": []
   },
   "outputs": [],
   "source": [
    "subgroups = ['frau1','nongerman','nongerman_male','nongerman_female']\n",
    "\n",
    "# Conditional coverage for subgroup==1\n",
    "cond_coverage = {\n",
    "    g: cp_groups_df.loc[cp_groups_df[g]==1, 'covered'].mean()\n",
    "    for g in subgroups\n",
    "}"
   ]
  },
  {
   "cell_type": "code",
   "execution_count": 54,
   "id": "894fd600",
   "metadata": {
    "execution": {
     "iopub.execute_input": "2025-08-19T18:31:42.391362Z",
     "iopub.status.busy": "2025-08-19T18:31:42.390977Z",
     "iopub.status.idle": "2025-08-19T18:31:42.813777Z",
     "shell.execute_reply": "2025-08-19T18:31:42.812110Z"
    },
    "papermill": {
     "duration": 0.438609,
     "end_time": "2025-08-19T18:31:42.816674",
     "exception": false,
     "start_time": "2025-08-19T18:31:42.378065",
     "status": "completed"
    },
    "tags": []
   },
   "outputs": [
    {
     "data": {
      "text/plain": [
       "{'frau1': 0.9055128723547647,\n",
       " 'nongerman': 0.9107393476674339,\n",
       " 'nongerman_male': 0.9279474016031704,\n",
       " 'nongerman_female': 0.8822652757078987}"
      ]
     },
     "execution_count": 54,
     "metadata": {},
     "output_type": "execute_result"
    }
   ],
   "source": [
    "cond_coverage"
   ]
  },
  {
   "cell_type": "code",
   "execution_count": 55,
   "id": "942895c7",
   "metadata": {
    "execution": {
     "iopub.execute_input": "2025-08-19T18:31:42.870338Z",
     "iopub.status.busy": "2025-08-19T18:31:42.869310Z",
     "iopub.status.idle": "2025-08-19T18:31:42.880989Z",
     "shell.execute_reply": "2025-08-19T18:31:42.879608Z"
    },
    "papermill": {
     "duration": 0.039437,
     "end_time": "2025-08-19T18:31:42.882526",
     "exception": false,
     "start_time": "2025-08-19T18:31:42.843089",
     "status": "completed"
    },
    "tags": []
   },
   "outputs": [],
   "source": [
    "for subgroup, cov in cond_coverage.items():\n",
    "    cp_metrics_df[f\"cov_{subgroup}\"] = cov"
   ]
  },
  {
   "cell_type": "code",
   "execution_count": 56,
   "id": "3970120f",
   "metadata": {
    "execution": {
     "iopub.execute_input": "2025-08-19T18:31:42.931930Z",
     "iopub.status.busy": "2025-08-19T18:31:42.931512Z",
     "iopub.status.idle": "2025-08-19T18:31:42.953895Z",
     "shell.execute_reply": "2025-08-19T18:31:42.953080Z"
    },
    "papermill": {
     "duration": 0.042508,
     "end_time": "2025-08-19T18:31:42.956716",
     "exception": false,
     "start_time": "2025-08-19T18:31:42.914208",
     "status": "completed"
    },
    "tags": []
   },
   "outputs": [
    {
     "data": {
      "text/html": [
       "<div>\n",
       "<style scoped>\n",
       "    .dataframe tbody tr th:only-of-type {\n",
       "        vertical-align: middle;\n",
       "    }\n",
       "\n",
       "    .dataframe tbody tr th {\n",
       "        vertical-align: top;\n",
       "    }\n",
       "\n",
       "    .dataframe thead th {\n",
       "        text-align: right;\n",
       "    }\n",
       "</style>\n",
       "<table border=\"1\" class=\"dataframe\">\n",
       "  <thead>\n",
       "    <tr style=\"text-align: right;\">\n",
       "      <th></th>\n",
       "      <th>universe_id</th>\n",
       "      <th>universe_training_year</th>\n",
       "      <th>universe_training_size</th>\n",
       "      <th>universe_scale</th>\n",
       "      <th>universe_model</th>\n",
       "      <th>universe_exclude_features</th>\n",
       "      <th>universe_exclude_subgroups</th>\n",
       "      <th>q_hat</th>\n",
       "      <th>coverage</th>\n",
       "      <th>avg_size</th>\n",
       "      <th>cov_frau1</th>\n",
       "      <th>cov_nongerman</th>\n",
       "      <th>cov_nongerman_male</th>\n",
       "      <th>cov_nongerman_female</th>\n",
       "    </tr>\n",
       "  </thead>\n",
       "  <tbody>\n",
       "    <tr>\n",
       "      <th>0</th>\n",
       "      <td>fc3fb57ca742f5f7b24bee923d316bbe</td>\n",
       "      <td>2012_14</td>\n",
       "      <td>5k</td>\n",
       "      <td>scale</td>\n",
       "      <td>logreg</td>\n",
       "      <td>age</td>\n",
       "      <td>keep-all</td>\n",
       "      <td>0.690651</td>\n",
       "      <td>0.9103</td>\n",
       "      <td>1.138513</td>\n",
       "      <td>0.905513</td>\n",
       "      <td>0.910739</td>\n",
       "      <td>0.927947</td>\n",
       "      <td>0.882265</td>\n",
       "    </tr>\n",
       "  </tbody>\n",
       "</table>\n",
       "</div>"
      ],
      "text/plain": [
       "                        universe_id universe_training_year  \\\n",
       "0  fc3fb57ca742f5f7b24bee923d316bbe                2012_14   \n",
       "\n",
       "  universe_training_size universe_scale universe_model  \\\n",
       "0                     5k          scale         logreg   \n",
       "\n",
       "  universe_exclude_features universe_exclude_subgroups     q_hat  coverage  \\\n",
       "0                       age                   keep-all  0.690651    0.9103   \n",
       "\n",
       "   avg_size  cov_frau1  cov_nongerman  cov_nongerman_male  \\\n",
       "0  1.138513   0.905513       0.910739            0.927947   \n",
       "\n",
       "   cov_nongerman_female  \n",
       "0              0.882265  "
      ]
     },
     "execution_count": 56,
     "metadata": {},
     "output_type": "execute_result"
    }
   ],
   "source": [
    "cp_metrics_df"
   ]
  },
  {
   "cell_type": "markdown",
   "id": "3fc519cc",
   "metadata": {
    "papermill": {
     "duration": 0.012553,
     "end_time": "2025-08-19T18:31:42.983736",
     "exception": false,
     "start_time": "2025-08-19T18:31:42.971183",
     "status": "completed"
    },
    "tags": []
   },
   "source": [
    "# (Fairness) Metrics"
   ]
  },
  {
   "cell_type": "code",
   "execution_count": 57,
   "id": "a2e5e155",
   "metadata": {
    "execution": {
     "iopub.execute_input": "2025-08-19T18:31:43.009907Z",
     "iopub.status.busy": "2025-08-19T18:31:43.009327Z",
     "iopub.status.idle": "2025-08-19T18:31:43.026446Z",
     "shell.execute_reply": "2025-08-19T18:31:43.025652Z"
    },
    "papermill": {
     "duration": 0.032195,
     "end_time": "2025-08-19T18:31:43.027996",
     "exception": false,
     "start_time": "2025-08-19T18:31:42.995801",
     "status": "completed"
    },
    "tags": []
   },
   "outputs": [],
   "source": [
    "colname_to_bin = \"maxdeutsch1\"\n",
    "majority_value = org_train[colname_to_bin].mode()[0]\n",
    "\n",
    "org_test[\"majmin\"] = np.where(org_test[colname_to_bin] == majority_value, \"majority\", \"minority\")"
   ]
  },
  {
   "cell_type": "code",
   "execution_count": 58,
   "id": "17e3e4d5",
   "metadata": {
    "execution": {
     "iopub.execute_input": "2025-08-19T18:31:43.061522Z",
     "iopub.status.busy": "2025-08-19T18:31:43.061014Z",
     "iopub.status.idle": "2025-08-19T18:31:44.950395Z",
     "shell.execute_reply": "2025-08-19T18:31:44.949066Z"
    },
    "papermill": {
     "duration": 1.904835,
     "end_time": "2025-08-19T18:31:44.951994",
     "exception": false,
     "start_time": "2025-08-19T18:31:43.047159",
     "status": "completed"
    },
    "tags": []
   },
   "outputs": [],
   "source": [
    "example_universe = universe.copy()\n",
    "example_universe[\"cutoff\"] = example_universe[\"cutoff\"][0]\n",
    "example_universe[\"eval_fairness_grouping\"] = example_universe[\"eval_fairness_grouping\"][0]\n",
    "fairness_dict, metric_frame = universe_analysis.compute_metrics(\n",
    "    example_universe,\n",
    "    y_pred_prob=probs_test,\n",
    "    y_test=y_true,\n",
    "    org_test=org_test,\n",
    ")"
   ]
  },
  {
   "cell_type": "markdown",
   "id": "1fb7a0e9",
   "metadata": {
    "papermill": {
     "duration": 0.012354,
     "end_time": "2025-08-19T18:31:44.977091",
     "exception": false,
     "start_time": "2025-08-19T18:31:44.964737",
     "status": "completed"
    },
    "tags": []
   },
   "source": [
    "# Overall"
   ]
  },
  {
   "cell_type": "markdown",
   "id": "be1784b1",
   "metadata": {
    "papermill": {
     "duration": 0.012493,
     "end_time": "2025-08-19T18:31:45.001974",
     "exception": false,
     "start_time": "2025-08-19T18:31:44.989481",
     "status": "completed"
    },
    "tags": []
   },
   "source": [
    "Main fairness target: Equalized Odds. Seems to be a better fit than equal opportunity, since we're not only interested in Y = 1. Seems to be a better fit than demographic parity, since we also care about accuracy, not just equal distribution of preds.\n",
    "\n",
    "Pick column for computation of fairness metrics\n",
    "\n",
    "Performance\n",
    "Overall performance measures, most interesting in relation to the measures split by group below"
   ]
  },
  {
   "cell_type": "code",
   "execution_count": 59,
   "id": "b7672bee",
   "metadata": {
    "execution": {
     "iopub.execute_input": "2025-08-19T18:31:45.036302Z",
     "iopub.status.busy": "2025-08-19T18:31:45.031749Z",
     "iopub.status.idle": "2025-08-19T18:31:45.048678Z",
     "shell.execute_reply": "2025-08-19T18:31:45.047503Z"
    },
    "papermill": {
     "duration": 0.035626,
     "end_time": "2025-08-19T18:31:45.050161",
     "exception": false,
     "start_time": "2025-08-19T18:31:45.014535",
     "status": "completed"
    },
    "tags": []
   },
   "outputs": [
    {
     "data": {
      "text/plain": [
       "accuracy                   0.223843\n",
       "balanced accuracy          0.547439\n",
       "f1                         0.245190\n",
       "precision                  0.140069\n",
       "false positive rate        0.887829\n",
       "false negative rate        0.017292\n",
       "selection rate             0.900000\n",
       "count                  89710.000000\n",
       "dtype: float64"
      ]
     },
     "execution_count": 59,
     "metadata": {},
     "output_type": "execute_result"
    }
   ],
   "source": [
    "metric_frame.overall"
   ]
  },
  {
   "cell_type": "markdown",
   "id": "d93333c9",
   "metadata": {
    "papermill": {
     "duration": 0.02704,
     "end_time": "2025-08-19T18:31:45.092294",
     "exception": false,
     "start_time": "2025-08-19T18:31:45.065254",
     "status": "completed"
    },
    "tags": []
   },
   "source": [
    "By Group"
   ]
  },
  {
   "cell_type": "code",
   "execution_count": 60,
   "id": "52256966",
   "metadata": {
    "execution": {
     "iopub.execute_input": "2025-08-19T18:31:45.122958Z",
     "iopub.status.busy": "2025-08-19T18:31:45.122503Z",
     "iopub.status.idle": "2025-08-19T18:31:45.138430Z",
     "shell.execute_reply": "2025-08-19T18:31:45.137294Z"
    },
    "papermill": {
     "duration": 0.030803,
     "end_time": "2025-08-19T18:31:45.139736",
     "exception": false,
     "start_time": "2025-08-19T18:31:45.108933",
     "status": "completed"
    },
    "tags": []
   },
   "outputs": [
    {
     "data": {
      "text/html": [
       "<div>\n",
       "<style scoped>\n",
       "    .dataframe tbody tr th:only-of-type {\n",
       "        vertical-align: middle;\n",
       "    }\n",
       "\n",
       "    .dataframe tbody tr th {\n",
       "        vertical-align: top;\n",
       "    }\n",
       "\n",
       "    .dataframe thead th {\n",
       "        text-align: right;\n",
       "    }\n",
       "</style>\n",
       "<table border=\"1\" class=\"dataframe\">\n",
       "  <thead>\n",
       "    <tr style=\"text-align: right;\">\n",
       "      <th></th>\n",
       "      <th>accuracy</th>\n",
       "      <th>balanced accuracy</th>\n",
       "      <th>f1</th>\n",
       "      <th>precision</th>\n",
       "      <th>false positive rate</th>\n",
       "      <th>false negative rate</th>\n",
       "      <th>selection rate</th>\n",
       "      <th>count</th>\n",
       "    </tr>\n",
       "    <tr>\n",
       "      <th>majmin</th>\n",
       "      <th></th>\n",
       "      <th></th>\n",
       "      <th></th>\n",
       "      <th></th>\n",
       "      <th></th>\n",
       "      <th></th>\n",
       "      <th></th>\n",
       "      <th></th>\n",
       "    </tr>\n",
       "  </thead>\n",
       "  <tbody>\n",
       "    <tr>\n",
       "      <th>majority</th>\n",
       "      <td>0.246957</td>\n",
       "      <td>0.557849</td>\n",
       "      <td>0.255992</td>\n",
       "      <td>0.147215</td>\n",
       "      <td>0.864718</td>\n",
       "      <td>0.019584</td>\n",
       "      <td>0.880006</td>\n",
       "      <td>69170.0</td>\n",
       "    </tr>\n",
       "    <tr>\n",
       "      <th>minority</th>\n",
       "      <td>0.146008</td>\n",
       "      <td>0.513689</td>\n",
       "      <td>0.211180</td>\n",
       "      <td>0.118174</td>\n",
       "      <td>0.964176</td>\n",
       "      <td>0.008446</td>\n",
       "      <td>0.967332</td>\n",
       "      <td>20540.0</td>\n",
       "    </tr>\n",
       "  </tbody>\n",
       "</table>\n",
       "</div>"
      ],
      "text/plain": [
       "          accuracy  balanced accuracy        f1  precision  \\\n",
       "majmin                                                       \n",
       "majority  0.246957           0.557849  0.255992   0.147215   \n",
       "minority  0.146008           0.513689  0.211180   0.118174   \n",
       "\n",
       "          false positive rate  false negative rate  selection rate    count  \n",
       "majmin                                                                       \n",
       "majority             0.864718             0.019584        0.880006  69170.0  \n",
       "minority             0.964176             0.008446        0.967332  20540.0  "
      ]
     },
     "execution_count": 60,
     "metadata": {},
     "output_type": "execute_result"
    }
   ],
   "source": [
    "metric_frame.by_group"
   ]
  },
  {
   "cell_type": "code",
   "execution_count": 61,
   "id": "6e6c20ae",
   "metadata": {
    "execution": {
     "iopub.execute_input": "2025-08-19T18:31:45.169395Z",
     "iopub.status.busy": "2025-08-19T18:31:45.168984Z",
     "iopub.status.idle": "2025-08-19T18:31:47.015319Z",
     "shell.execute_reply": "2025-08-19T18:31:47.014415Z"
    },
    "papermill": {
     "duration": 1.861649,
     "end_time": "2025-08-19T18:31:47.016888",
     "exception": false,
     "start_time": "2025-08-19T18:31:45.155239",
     "status": "completed"
    },
    "tags": []
   },
   "outputs": [
    {
     "data": {
      "text/plain": [
       "array([[<Axes: title={'center': 'accuracy'}, xlabel='majmin'>,\n",
       "        <Axes: title={'center': 'balanced accuracy'}, xlabel='majmin'>,\n",
       "        <Axes: title={'center': 'f1'}, xlabel='majmin'>],\n",
       "       [<Axes: title={'center': 'precision'}, xlabel='majmin'>,\n",
       "        <Axes: title={'center': 'false positive rate'}, xlabel='majmin'>,\n",
       "        <Axes: title={'center': 'false negative rate'}, xlabel='majmin'>],\n",
       "       [<Axes: title={'center': 'selection rate'}, xlabel='majmin'>,\n",
       "        <Axes: title={'center': 'count'}, xlabel='majmin'>,\n",
       "        <Axes: xlabel='majmin'>]], dtype=object)"
      ]
     },
     "execution_count": 61,
     "metadata": {},
     "output_type": "execute_result"
    },
    {
     "data": {
      "image/png": "[encoded data removed]",
      "text/plain": [
       "<Figure size 1200x800 with 9 Axes>"
      ]
     },
     "metadata": {},
     "output_type": "display_data"
    }
   ],
   "source": [
    "# In a graphic\n",
    "metric_frame.by_group.plot.bar(\n",
    "    subplots=True,\n",
    "    layout=[3, 3],\n",
    "    legend=False,\n",
    "    figsize=[12, 8],\n",
    "    title=\"Show all metrics\",\n",
    ")"
   ]
  },
  {
   "cell_type": "markdown",
   "id": "b2e433ae",
   "metadata": {
    "papermill": {
     "duration": 0.013677,
     "end_time": "2025-08-19T18:31:47.047938",
     "exception": false,
     "start_time": "2025-08-19T18:31:47.034261",
     "status": "completed"
    },
    "tags": []
   },
   "source": [
    "# Final Output"
   ]
  },
  {
   "cell_type": "code",
   "execution_count": 62,
   "id": "3871301e",
   "metadata": {
    "execution": {
     "iopub.execute_input": "2025-08-19T18:31:47.077222Z",
     "iopub.status.busy": "2025-08-19T18:31:47.076379Z",
     "iopub.status.idle": "2025-08-19T18:31:47.085727Z",
     "shell.execute_reply": "2025-08-19T18:31:47.085145Z"
    },
    "papermill": {
     "duration": 0.028645,
     "end_time": "2025-08-19T18:31:47.090127",
     "exception": false,
     "start_time": "2025-08-19T18:31:47.061482",
     "status": "completed"
    },
    "tags": []
   },
   "outputs": [
    {
     "data": {
      "text/plain": [
       "4"
      ]
     },
     "execution_count": 62,
     "metadata": {},
     "output_type": "execute_result"
    }
   ],
   "source": [
    "sub_universes = universe_analysis.generate_sub_universes()\n",
    "len(sub_universes)"
   ]
  },
  {
   "cell_type": "code",
   "execution_count": 63,
   "id": "d9cfdaca",
   "metadata": {
    "execution": {
     "iopub.execute_input": "2025-08-19T18:31:47.119569Z",
     "iopub.status.busy": "2025-08-19T18:31:47.119022Z",
     "iopub.status.idle": "2025-08-19T18:31:47.180373Z",
     "shell.execute_reply": "2025-08-19T18:31:47.179671Z"
    },
    "papermill": {
     "duration": 0.079166,
     "end_time": "2025-08-19T18:31:47.183436",
     "exception": false,
     "start_time": "2025-08-19T18:31:47.104270",
     "status": "completed"
    },
    "tags": []
   },
   "outputs": [],
   "source": [
    "def filter_sub_universe_data(sub_universe, org_test):\n",
    "    # Keep all rows — no filtering\n",
    "    keep_rows_mask = np.ones(org_test.shape[0], dtype=bool)\n",
    "\n",
    "    print(f\"[INFO] Keeping all rows: {keep_rows_mask.sum()} rows retained.\")\n",
    "    return keep_rows_mask"
   ]
  },
  {
   "cell_type": "code",
   "execution_count": 64,
   "id": "2bc31ac1",
   "metadata": {
    "execution": {
     "iopub.execute_input": "2025-08-19T18:31:47.229379Z",
     "iopub.status.busy": "2025-08-19T18:31:47.227961Z",
     "iopub.status.idle": "2025-08-19T18:31:54.003283Z",
     "shell.execute_reply": "2025-08-19T18:31:54.002265Z"
    },
    "papermill": {
     "duration": 6.792949,
     "end_time": "2025-08-19T18:31:54.004999",
     "exception": false,
     "start_time": "2025-08-19T18:31:47.212050",
     "status": "completed"
    },
    "tags": []
   },
   "outputs": [
    {
     "name": "stdout",
     "output_type": "stream",
     "text": [
      "Stopping execution_time clock.\n",
      "[INFO] Keeping all rows: 89710 rows retained.\n"
     ]
    },
    {
     "name": "stdout",
     "output_type": "stream",
     "text": [
      "[INFO] Keeping all rows: 89710 rows retained.\n"
     ]
    },
    {
     "name": "stdout",
     "output_type": "stream",
     "text": [
      "[INFO] Keeping all rows: 89710 rows retained.\n"
     ]
    },
    {
     "name": "stdout",
     "output_type": "stream",
     "text": [
      "[INFO] Keeping all rows: 89710 rows retained.\n"
     ]
    },
    {
     "data": {
      "text/html": [
       "<div>\n",
       "<style scoped>\n",
       "    .dataframe tbody tr th:only-of-type {\n",
       "        vertical-align: middle;\n",
       "    }\n",
       "\n",
       "    .dataframe tbody tr th {\n",
       "        vertical-align: top;\n",
       "    }\n",
       "\n",
       "    .dataframe thead th {\n",
       "        text-align: right;\n",
       "    }\n",
       "</style>\n",
       "<table border=\"1\" class=\"dataframe\">\n",
       "  <thead>\n",
       "    <tr style=\"text-align: right;\">\n",
       "      <th></th>\n",
       "      <th>run_no</th>\n",
       "      <th>universe_id</th>\n",
       "      <th>universe_settings</th>\n",
       "      <th>execution_time</th>\n",
       "      <th>test_size_n</th>\n",
       "      <th>test_size_frac</th>\n",
       "      <th>fair_main_equalized_odds_difference</th>\n",
       "      <th>fair_main_equalized_odds_ratio</th>\n",
       "      <th>fair_main_demographic_parity_difference</th>\n",
       "      <th>fair_main_demographic_parity_ratio</th>\n",
       "      <th>...</th>\n",
       "      <th>perf_grp_precision_0</th>\n",
       "      <th>perf_grp_precision_1</th>\n",
       "      <th>perf_grp_false positive rate_0</th>\n",
       "      <th>perf_grp_false positive rate_1</th>\n",
       "      <th>perf_grp_false negative rate_0</th>\n",
       "      <th>perf_grp_false negative rate_1</th>\n",
       "      <th>perf_grp_selection rate_0</th>\n",
       "      <th>perf_grp_selection rate_1</th>\n",
       "      <th>perf_grp_count_0</th>\n",
       "      <th>perf_grp_count_1</th>\n",
       "    </tr>\n",
       "  </thead>\n",
       "  <tbody>\n",
       "    <tr>\n",
       "      <th>0</th>\n",
       "      <td>3</td>\n",
       "      <td>fc3fb57ca742f5f7b24bee923d316bbe</td>\n",
       "      <td>{\"cutoff\": \"quantile_0.1\", \"eval_fairness_grou...</td>\n",
       "      <td>21.93194</td>\n",
       "      <td>89710</td>\n",
       "      <td>1.0</td>\n",
       "      <td>0.099458</td>\n",
       "      <td>0.896847</td>\n",
       "      <td>0.087326</td>\n",
       "      <td>0.909725</td>\n",
       "      <td>...</td>\n",
       "      <td>NaN</td>\n",
       "      <td>NaN</td>\n",
       "      <td>NaN</td>\n",
       "      <td>NaN</td>\n",
       "      <td>NaN</td>\n",
       "      <td>NaN</td>\n",
       "      <td>NaN</td>\n",
       "      <td>NaN</td>\n",
       "      <td>NaN</td>\n",
       "      <td>NaN</td>\n",
       "    </tr>\n",
       "    <tr>\n",
       "      <th>0</th>\n",
       "      <td>3</td>\n",
       "      <td>fc3fb57ca742f5f7b24bee923d316bbe</td>\n",
       "      <td>{\"cutoff\": \"quantile_0.1\", \"eval_fairness_grou...</td>\n",
       "      <td>21.93194</td>\n",
       "      <td>89710</td>\n",
       "      <td>1.0</td>\n",
       "      <td>0.099458</td>\n",
       "      <td>0.896847</td>\n",
       "      <td>0.087326</td>\n",
       "      <td>0.909725</td>\n",
       "      <td>...</td>\n",
       "      <td>0.118174</td>\n",
       "      <td>0.147215</td>\n",
       "      <td>0.964176</td>\n",
       "      <td>0.864718</td>\n",
       "      <td>0.008446</td>\n",
       "      <td>0.019584</td>\n",
       "      <td>0.967332</td>\n",
       "      <td>0.880006</td>\n",
       "      <td>20540.0</td>\n",
       "      <td>69170.0</td>\n",
       "    </tr>\n",
       "    <tr>\n",
       "      <th>0</th>\n",
       "      <td>3</td>\n",
       "      <td>fc3fb57ca742f5f7b24bee923d316bbe</td>\n",
       "      <td>{\"cutoff\": \"quantile_0.25\", \"eval_fairness_gro...</td>\n",
       "      <td>21.93194</td>\n",
       "      <td>89710</td>\n",
       "      <td>1.0</td>\n",
       "      <td>0.197117</td>\n",
       "      <td>0.774546</td>\n",
       "      <td>0.174533</td>\n",
       "      <td>0.802690</td>\n",
       "      <td>...</td>\n",
       "      <td>NaN</td>\n",
       "      <td>NaN</td>\n",
       "      <td>NaN</td>\n",
       "      <td>NaN</td>\n",
       "      <td>NaN</td>\n",
       "      <td>NaN</td>\n",
       "      <td>NaN</td>\n",
       "      <td>NaN</td>\n",
       "      <td>NaN</td>\n",
       "      <td>NaN</td>\n",
       "    </tr>\n",
       "    <tr>\n",
       "      <th>0</th>\n",
       "      <td>3</td>\n",
       "      <td>fc3fb57ca742f5f7b24bee923d316bbe</td>\n",
       "      <td>{\"cutoff\": \"quantile_0.25\", \"eval_fairness_gro...</td>\n",
       "      <td>21.93194</td>\n",
       "      <td>89710</td>\n",
       "      <td>1.0</td>\n",
       "      <td>0.197117</td>\n",
       "      <td>0.774546</td>\n",
       "      <td>0.174533</td>\n",
       "      <td>0.802690</td>\n",
       "      <td>...</td>\n",
       "      <td>0.125544</td>\n",
       "      <td>0.172276</td>\n",
       "      <td>0.874312</td>\n",
       "      <td>0.677195</td>\n",
       "      <td>0.036740</td>\n",
       "      <td>0.074289</td>\n",
       "      <td>0.884567</td>\n",
       "      <td>0.710033</td>\n",
       "      <td>20540.0</td>\n",
       "      <td>69170.0</td>\n",
       "    </tr>\n",
       "  </tbody>\n",
       "</table>\n",
       "<p>4 rows × 50 columns</p>\n",
       "</div>"
      ],
      "text/plain": [
       "  run_no                       universe_id  \\\n",
       "0      3  fc3fb57ca742f5f7b24bee923d316bbe   \n",
       "0      3  fc3fb57ca742f5f7b24bee923d316bbe   \n",
       "0      3  fc3fb57ca742f5f7b24bee923d316bbe   \n",
       "0      3  fc3fb57ca742f5f7b24bee923d316bbe   \n",
       "\n",
       "                                   universe_settings  execution_time  \\\n",
       "0  {\"cutoff\": \"quantile_0.1\", \"eval_fairness_grou...        21.93194   \n",
       "0  {\"cutoff\": \"quantile_0.1\", \"eval_fairness_grou...        21.93194   \n",
       "0  {\"cutoff\": \"quantile_0.25\", \"eval_fairness_gro...        21.93194   \n",
       "0  {\"cutoff\": \"quantile_0.25\", \"eval_fairness_gro...        21.93194   \n",
       "\n",
       "   test_size_n  test_size_frac  fair_main_equalized_odds_difference  \\\n",
       "0        89710             1.0                             0.099458   \n",
       "0        89710             1.0                             0.099458   \n",
       "0        89710             1.0                             0.197117   \n",
       "0        89710             1.0                             0.197117   \n",
       "\n",
       "   fair_main_equalized_odds_ratio  fair_main_demographic_parity_difference  \\\n",
       "0                        0.896847                                 0.087326   \n",
       "0                        0.896847                                 0.087326   \n",
       "0                        0.774546                                 0.174533   \n",
       "0                        0.774546                                 0.174533   \n",
       "\n",
       "   fair_main_demographic_parity_ratio  ...  perf_grp_precision_0  \\\n",
       "0                            0.909725  ...                   NaN   \n",
       "0                            0.909725  ...              0.118174   \n",
       "0                            0.802690  ...                   NaN   \n",
       "0                            0.802690  ...              0.125544   \n",
       "\n",
       "   perf_grp_precision_1  perf_grp_false positive rate_0  \\\n",
       "0                   NaN                             NaN   \n",
       "0              0.147215                        0.964176   \n",
       "0                   NaN                             NaN   \n",
       "0              0.172276                        0.874312   \n",
       "\n",
       "   perf_grp_false positive rate_1  perf_grp_false negative rate_0  \\\n",
       "0                             NaN                             NaN   \n",
       "0                        0.864718                        0.008446   \n",
       "0                             NaN                             NaN   \n",
       "0                        0.677195                        0.036740   \n",
       "\n",
       "   perf_grp_false negative rate_1  perf_grp_selection rate_0  \\\n",
       "0                             NaN                        NaN   \n",
       "0                        0.019584                   0.967332   \n",
       "0                             NaN                        NaN   \n",
       "0                        0.074289                   0.884567   \n",
       "\n",
       "   perf_grp_selection rate_1  perf_grp_count_0  perf_grp_count_1  \n",
       "0                        NaN               NaN               NaN  \n",
       "0                   0.880006           20540.0           69170.0  \n",
       "0                        NaN               NaN               NaN  \n",
       "0                   0.710033           20540.0           69170.0  \n",
       "\n",
       "[4 rows x 50 columns]"
      ]
     },
     "execution_count": 64,
     "metadata": {},
     "output_type": "execute_result"
    }
   ],
   "source": [
    "final_output = universe_analysis.generate_final_output(\n",
    "    y_pred_prob=probs_test,\n",
    "    y_test=y_true,\n",
    "    org_test=org_test,\n",
    "    filter_data=filter_sub_universe_data,\n",
    "    cp_metrics_df=cp_metrics_df,\n",
    "    save=True,\n",
    ")\n",
    "final_output"
   ]
  },
  {
   "cell_type": "code",
   "execution_count": null,
   "id": "8b80a1ff",
   "metadata": {
    "papermill": {
     "duration": 0.014358,
     "end_time": "2025-08-19T18:31:54.038971",
     "exception": false,
     "start_time": "2025-08-19T18:31:54.024613",
     "status": "completed"
    },
    "tags": []
   },
   "outputs": [],
   "source": []
  },
  {
   "cell_type": "code",
   "execution_count": null,
   "id": "275c9fad",
   "metadata": {
    "papermill": {
     "duration": 0.014154,
     "end_time": "2025-08-19T18:31:54.067347",
     "exception": false,
     "start_time": "2025-08-19T18:31:54.053193",
     "status": "completed"
    },
    "tags": []
   },
   "outputs": [],
   "source": []
  }
 ],
 "metadata": {
  "celltoolbar": "Tags",
  "kernelspec": {
   "display_name": "Python (CMA Fairness)",
   "language": "python",
   "name": "cma_fair_env"
  },
  "language_info": {
   "codemirror_mode": {
    "name": "ipython",
    "version": 3
   },
   "file_extension": ".py",
   "mimetype": "text/x-python",
   "name": "python",
   "nbconvert_exporter": "python",
   "pygments_lexer": "ipython3",
   "version": "3.10.12"
  },
  "papermill": {
   "default_parameters": {},
   "duration": 32.39674,
   "end_time": "2025-08-19T18:31:54.912414",
   "environment_variables": {},
   "exception": null,
   "input_path": "universe_analysis.ipynb",
   "output_path": "output/runs/3/notebooks/m_3-fc3fb57ca742f5f7b24bee923d316bbe.ipynb",
   "parameters": {
    "output_dir": "output",
    "run_no": "3",
    "seed": "2023",
    "universe": "{\"cutoff\": [\"quantile_0.1\", \"quantile_0.25\"], \"eval_fairness_grouping\": [\"majority-minority\", \"nationality-all\"], \"exclude_features\": \"age\", \"exclude_subgroups\": \"keep-all\", \"model\": \"logreg\", \"scale\": \"scale\", \"training_size\": \"5k\", \"training_year\": \"2012_14\"}",
    "universe_id": "fc3fb57ca742f5f7b24bee923d316bbe"
   },
   "start_time": "2025-08-19T18:31:22.515674",
   "version": "2.6.0"
  }
 },
 "nbformat": 4,
 "nbformat_minor": 5
}