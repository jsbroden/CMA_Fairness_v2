{
 "cells": [
  {
   "cell_type": "markdown",
   "id": "ef23dbb3",
   "metadata": {
    "papermill": {
     "duration": 0.009007,
     "end_time": "2025-08-19T19:00:11.075447",
     "exception": false,
     "start_time": "2025-08-19T19:00:11.066440",
     "status": "completed"
    },
    "tags": []
   },
   "source": [
    "# Setup"
   ]
  },
  {
   "cell_type": "code",
   "execution_count": 1,
   "id": "0bc8e7dc",
   "metadata": {
    "execution": {
     "iopub.execute_input": "2025-08-19T19:00:11.095412Z",
     "iopub.status.busy": "2025-08-19T19:00:11.094640Z",
     "iopub.status.idle": "2025-08-19T19:00:11.105435Z",
     "shell.execute_reply": "2025-08-19T19:00:11.104852Z"
    },
    "papermill": {
     "duration": 0.022146,
     "end_time": "2025-08-19T19:00:11.106611",
     "exception": false,
     "start_time": "2025-08-19T19:00:11.084465",
     "status": "completed"
    },
    "tags": []
   },
   "outputs": [
    {
     "name": "stdout",
     "output_type": "stream",
     "text": [
      "/dss/dsshome1/0C/ra93lal2/cma/CMA_Fairness_v2\n"
     ]
    },
    {
     "name": "stderr",
     "output_type": "stream",
     "text": [
      "/dss/dsshome1/0C/ra93lal2/.local/share/virtualenvs/CMA_Fairness_v2-3j10GkSs/lib/python3.10/site-packages/IPython/core/magics/osm.py:393: UserWarning: This is now an optional IPython functionality, using bookmarks requires you to install the `pickleshare` library.\n",
      "  bkms = self.shell.db.get('bookmarks', {})\n",
      "/dss/dsshome1/0C/ra93lal2/.local/share/virtualenvs/CMA_Fairness_v2-3j10GkSs/lib/python3.10/site-packages/IPython/core/magics/osm.py:417: UserWarning: This is now an optional IPython functionality, setting dhist requires you to install the `pickleshare` library.\n",
      "  self.shell.db['dhist'] = compress_dhist(dhist)[-100:]\n"
     ]
    }
   ],
   "source": [
    "%cd ~/cma/CMA_Fairness_v2"
   ]
  },
  {
   "cell_type": "markdown",
   "id": "9d235661",
   "metadata": {
    "papermill": {
     "duration": 0.009295,
     "end_time": "2025-08-19T19:00:11.126885",
     "exception": false,
     "start_time": "2025-08-19T19:00:11.117590",
     "status": "completed"
    },
    "tags": []
   },
   "source": [
    "The following cell holds the definition of our parameters, these values can be overriden by rendering the with e.g. the following command:\n",
    "\n",
    "papermill -p alpha 0.2 -p ratio 0.3 universe_analysis.ipynb output/test_run.ipynb"
   ]
  },
  {
   "cell_type": "code",
   "execution_count": 2,
   "id": "4a789d8e",
   "metadata": {
    "execution": {
     "iopub.execute_input": "2025-08-19T19:00:11.148271Z",
     "iopub.status.busy": "2025-08-19T19:00:11.147206Z",
     "iopub.status.idle": "2025-08-19T19:00:11.171716Z",
     "shell.execute_reply": "2025-08-19T19:00:11.170793Z"
    },
    "papermill": {
     "duration": 0.037823,
     "end_time": "2025-08-19T19:00:11.173424",
     "exception": false,
     "start_time": "2025-08-19T19:00:11.135601",
     "status": "completed"
    },
    "tags": []
   },
   "outputs": [
    {
     "name": "stdout",
     "output_type": "stream",
     "text": [
      "Current working directory: /dss/dsshome1/0C/ra93lal2/cma/CMA_Fairness_v2\n"
     ]
    }
   ],
   "source": [
    "import os\n",
    "print(\"Current working directory:\", os.getcwd())"
   ]
  },
  {
   "cell_type": "code",
   "execution_count": 3,
   "id": "4132aaed",
   "metadata": {
    "execution": {
     "iopub.execute_input": "2025-08-19T19:00:11.199902Z",
     "iopub.status.busy": "2025-08-19T19:00:11.199633Z",
     "iopub.status.idle": "2025-08-19T19:00:11.205655Z",
     "shell.execute_reply": "2025-08-19T19:00:11.204986Z"
    },
    "papermill": {
     "duration": 0.026137,
     "end_time": "2025-08-19T19:00:11.214253",
     "exception": false,
     "start_time": "2025-08-19T19:00:11.188116",
     "status": "completed"
    },
    "tags": [
     "parameters"
    ]
   },
   "outputs": [],
   "source": [
    "run_no = 0\n",
    "universe_id = \"test\"\n",
    "universe = {\n",
    "    \"training_size\": \"5k\", # \"25k\", \"5k\", \"1k\"\n",
    "    \"training_year\": \"2012_14\", # \"2014\", \"2012_14\", \"2010_14\"\n",
    "    \"scale\": \"scale\", # \"scale\", \"do-not-scale\",\n",
    "    \"model\": \"elasticnet\", # \"logreg\", \"penalized_logreg\", \"rf\", \"gbm\", \"elasticnet\"\n",
    "    \"cutoff\": [\"quantile_0.15\", \"quantile_0.30\"],\n",
    "    \"exclude_features\": \"age\", # \"none\", \"nationality\", \"sex\", \"nationality-sex\", \"age\"\n",
    "    \"exclude_subgroups\": \"drop-non-german\", # \"keep-all\", \"drop-non-german\"\n",
    "    \"eval_fairness_grouping\": [\"majority-minority\", \"nationality-all\"]\n",
    "}\n",
    "\n",
    "output_dir=\"./output\"\n",
    "seed=0"
   ]
  },
  {
   "cell_type": "code",
   "execution_count": 4,
   "id": "5d8183da",
   "metadata": {
    "execution": {
     "iopub.execute_input": "2025-08-19T19:00:11.246222Z",
     "iopub.status.busy": "2025-08-19T19:00:11.244896Z",
     "iopub.status.idle": "2025-08-19T19:00:11.276672Z",
     "shell.execute_reply": "2025-08-19T19:00:11.274736Z"
    },
    "papermill": {
     "duration": 0.050945,
     "end_time": "2025-08-19T19:00:11.279929",
     "exception": false,
     "start_time": "2025-08-19T19:00:11.228984",
     "status": "completed"
    },
    "tags": [
     "injected-parameters"
    ]
   },
   "outputs": [],
   "source": [
    "# Parameters\n",
    "universe_id = \"a31636c44c50ff74364fe70fa0299daf\"\n",
    "run_no = \"3\"\n",
    "universe = \"{\\\"cutoff\\\": [\\\"quantile_0.1\\\", \\\"quantile_0.25\\\"], \\\"eval_fairness_grouping\\\": [\\\"majority-minority\\\", \\\"nationality-all\\\"], \\\"exclude_features\\\": \\\"sex\\\", \\\"exclude_subgroups\\\": \\\"drop-non-german\\\", \\\"model\\\": \\\"elasticnet\\\", \\\"scale\\\": \\\"scale\\\", \\\"training_size\\\": \\\"1k\\\", \\\"training_year\\\": \\\"2012_14\\\"}\"\n",
    "output_dir = \"output\"\n",
    "seed = \"2023\"\n"
   ]
  },
  {
   "cell_type": "code",
   "execution_count": 5,
   "id": "a5d7941f",
   "metadata": {
    "execution": {
     "iopub.execute_input": "2025-08-19T19:00:11.321688Z",
     "iopub.status.busy": "2025-08-19T19:00:11.321206Z",
     "iopub.status.idle": "2025-08-19T19:00:11.326527Z",
     "shell.execute_reply": "2025-08-19T19:00:11.325730Z"
    },
    "papermill": {
     "duration": 0.020402,
     "end_time": "2025-08-19T19:00:11.328411",
     "exception": false,
     "start_time": "2025-08-19T19:00:11.308009",
     "status": "completed"
    },
    "tags": []
   },
   "outputs": [],
   "source": [
    "import json\n",
    "if isinstance(universe, str):\n",
    "    universe = json.loads(universe)"
   ]
  },
  {
   "cell_type": "code",
   "execution_count": 6,
   "id": "7076ccb1",
   "metadata": {
    "execution": {
     "iopub.execute_input": "2025-08-19T19:00:11.348956Z",
     "iopub.status.busy": "2025-08-19T19:00:11.348546Z",
     "iopub.status.idle": "2025-08-19T19:00:11.389099Z",
     "shell.execute_reply": "2025-08-19T19:00:11.387965Z"
    },
    "papermill": {
     "duration": 0.052531,
     "end_time": "2025-08-19T19:00:11.390713",
     "exception": false,
     "start_time": "2025-08-19T19:00:11.338182",
     "status": "completed"
    },
    "tags": []
   },
   "outputs": [],
   "source": [
    "# Auto-reload the custom package\n",
    "%load_ext autoreload\n",
    "%autoreload 1\n",
    "%aimport fairness_multiverse"
   ]
  },
  {
   "cell_type": "code",
   "execution_count": 7,
   "id": "94c8eb93",
   "metadata": {
    "execution": {
     "iopub.execute_input": "2025-08-19T19:00:11.412031Z",
     "iopub.status.busy": "2025-08-19T19:00:11.411254Z",
     "iopub.status.idle": "2025-08-19T19:00:12.947133Z",
     "shell.execute_reply": "2025-08-19T19:00:12.946290Z"
    },
    "papermill": {
     "duration": 1.547858,
     "end_time": "2025-08-19T19:00:12.948890",
     "exception": false,
     "start_time": "2025-08-19T19:00:11.401032",
     "status": "completed"
    },
    "tags": []
   },
   "outputs": [],
   "source": [
    "from fairness_multiverse.universe import UniverseAnalysis\n",
    "\n",
    "universe_analysis = UniverseAnalysis(\n",
    "    run_no = run_no,\n",
    "    universe_id = universe_id,\n",
    "    universe = universe,\n",
    "    output_dir=output_dir,\n",
    ")"
   ]
  },
  {
   "cell_type": "code",
   "execution_count": 8,
   "id": "2a6381cf",
   "metadata": {
    "execution": {
     "iopub.execute_input": "2025-08-19T19:00:12.969031Z",
     "iopub.status.busy": "2025-08-19T19:00:12.968555Z",
     "iopub.status.idle": "2025-08-19T19:00:12.974207Z",
     "shell.execute_reply": "2025-08-19T19:00:12.973409Z"
    },
    "papermill": {
     "duration": 0.017103,
     "end_time": "2025-08-19T19:00:12.975583",
     "exception": false,
     "start_time": "2025-08-19T19:00:12.958480",
     "status": "completed"
    },
    "tags": []
   },
   "outputs": [
    {
     "name": "stdout",
     "output_type": "stream",
     "text": [
      "Using Seed: 2023\n"
     ]
    }
   ],
   "source": [
    "import numpy as np\n",
    "parsed_seed = int(seed)\n",
    "np.random.seed(parsed_seed)\n",
    "print(f\"Using Seed: {parsed_seed}\")"
   ]
  },
  {
   "cell_type": "markdown",
   "id": "b6e958b4",
   "metadata": {
    "papermill": {
     "duration": 0.009111,
     "end_time": "2025-08-19T19:00:12.994023",
     "exception": false,
     "start_time": "2025-08-19T19:00:12.984912",
     "status": "completed"
    },
    "tags": []
   },
   "source": [
    "# Loading Data"
   ]
  },
  {
   "cell_type": "code",
   "execution_count": 9,
   "id": "98701482",
   "metadata": {
    "execution": {
     "iopub.execute_input": "2025-08-19T19:00:13.014876Z",
     "iopub.status.busy": "2025-08-19T19:00:13.014401Z",
     "iopub.status.idle": "2025-08-19T19:00:23.288157Z",
     "shell.execute_reply": "2025-08-19T19:00:23.287239Z"
    },
    "papermill": {
     "duration": 10.285172,
     "end_time": "2025-08-19T19:00:23.289279",
     "exception": false,
     "start_time": "2025-08-19T19:00:13.004107",
     "status": "completed"
    },
    "tags": []
   },
   "outputs": [
    {
     "name": "stdout",
     "output_type": "stream",
     "text": [
      "Loading SIAB data from cache: data/siab_cached.csv.gz\n"
     ]
    },
    {
     "name": "stdout",
     "output_type": "stream",
     "text": [
      "(643690, 164)\n"
     ]
    }
   ],
   "source": [
    "from pathlib import Path\n",
    "import pandas as pd\n",
    "\n",
    "# File paths\n",
    "raw_file = Path(\"data/raw/siab.csv\")\n",
    "cache_file = Path(\"data/siab_cached.csv.gz\")\n",
    "\n",
    "# Ensure cache directory exists\n",
    "cache_file.parent.mkdir(parents=True, exist_ok=True)\n",
    "\n",
    "# Load with simple caching\n",
    "if cache_file.exists():\n",
    "    print(f\"Loading SIAB data from cache: {cache_file}\")\n",
    "    siab = pd.read_csv(cache_file, compression='gzip')\n",
    "else:\n",
    "    print(f\"Cache not found. Reading raw SIAB data: {raw_file}\")\n",
    "    siab = pd.read_csv(raw_file)\n",
    "    siab.to_csv(cache_file, index=False, compression='gzip')\n",
    "    print(f\"Cached SIAB data to: {cache_file}\")\n",
    "\n",
    "print(siab.shape)"
   ]
  },
  {
   "cell_type": "code",
   "execution_count": 10,
   "id": "058d2abb",
   "metadata": {
    "execution": {
     "iopub.execute_input": "2025-08-19T19:00:23.321003Z",
     "iopub.status.busy": "2025-08-19T19:00:23.320354Z",
     "iopub.status.idle": "2025-08-19T19:00:23.466733Z",
     "shell.execute_reply": "2025-08-19T19:00:23.466020Z"
    },
    "papermill": {
     "duration": 0.16462,
     "end_time": "2025-08-19T19:00:23.468309",
     "exception": false,
     "start_time": "2025-08-19T19:00:23.303689",
     "status": "completed"
    },
    "tags": []
   },
   "outputs": [
    {
     "data": {
      "text/html": [
       "<div>\n",
       "<style scoped>\n",
       "    .dataframe tbody tr th:only-of-type {\n",
       "        vertical-align: middle;\n",
       "    }\n",
       "\n",
       "    .dataframe tbody tr th {\n",
       "        vertical-align: top;\n",
       "    }\n",
       "\n",
       "    .dataframe thead th {\n",
       "        text-align: right;\n",
       "    }\n",
       "</style>\n",
       "<table border=\"1\" class=\"dataframe\">\n",
       "  <thead>\n",
       "    <tr style=\"text-align: right;\">\n",
       "      <th></th>\n",
       "      <th>persnr</th>\n",
       "      <th>year</th>\n",
       "      <th>nrEntry</th>\n",
       "      <th>ltue</th>\n",
       "      <th>employed_before</th>\n",
       "      <th>receipt_leh_before</th>\n",
       "      <th>receipt_lhg_before</th>\n",
       "      <th>se_before</th>\n",
       "      <th>ASU_notue_seeking_before</th>\n",
       "      <th>ASU_other_before</th>\n",
       "      <th>...</th>\n",
       "      <th>minijob_tot_dur_byage</th>\n",
       "      <th>ft_tot_dur_byage</th>\n",
       "      <th>befrist_tot_dur_byage</th>\n",
       "      <th>leih_tot_dur_byage</th>\n",
       "      <th>LHG_tot_dur_byage</th>\n",
       "      <th>LEH_tot_dur_byage</th>\n",
       "      <th>almp_tot_dur_byage</th>\n",
       "      <th>almp_aw_tot_dur_byage</th>\n",
       "      <th>se_tot_dur_byage</th>\n",
       "      <th>seeking1_tot_dur_byage</th>\n",
       "    </tr>\n",
       "  </thead>\n",
       "  <tbody>\n",
       "    <tr>\n",
       "      <th>0</th>\n",
       "      <td>7</td>\n",
       "      <td>2015</td>\n",
       "      <td>1</td>\n",
       "      <td>0</td>\n",
       "      <td>1</td>\n",
       "      <td>0</td>\n",
       "      <td>0</td>\n",
       "      <td>0</td>\n",
       "      <td>1</td>\n",
       "      <td>0</td>\n",
       "      <td>...</td>\n",
       "      <td>0.000000</td>\n",
       "      <td>0.000000</td>\n",
       "      <td>15.043478</td>\n",
       "      <td>0.000000</td>\n",
       "      <td>0.000000</td>\n",
       "      <td>0.000000</td>\n",
       "      <td>0.000000</td>\n",
       "      <td>0.000000</td>\n",
       "      <td>0.000000</td>\n",
       "      <td>0.000000</td>\n",
       "    </tr>\n",
       "    <tr>\n",
       "      <th>1</th>\n",
       "      <td>18</td>\n",
       "      <td>2010</td>\n",
       "      <td>1</td>\n",
       "      <td>1</td>\n",
       "      <td>0</td>\n",
       "      <td>0</td>\n",
       "      <td>0</td>\n",
       "      <td>0</td>\n",
       "      <td>0</td>\n",
       "      <td>0</td>\n",
       "      <td>...</td>\n",
       "      <td>0.000000</td>\n",
       "      <td>0.000000</td>\n",
       "      <td>0.000000</td>\n",
       "      <td>0.000000</td>\n",
       "      <td>0.000000</td>\n",
       "      <td>0.000000</td>\n",
       "      <td>0.000000</td>\n",
       "      <td>0.000000</td>\n",
       "      <td>0.000000</td>\n",
       "      <td>0.000000</td>\n",
       "    </tr>\n",
       "    <tr>\n",
       "      <th>2</th>\n",
       "      <td>18</td>\n",
       "      <td>2011</td>\n",
       "      <td>2</td>\n",
       "      <td>0</td>\n",
       "      <td>1</td>\n",
       "      <td>0</td>\n",
       "      <td>1</td>\n",
       "      <td>0</td>\n",
       "      <td>1</td>\n",
       "      <td>0</td>\n",
       "      <td>...</td>\n",
       "      <td>2.714286</td>\n",
       "      <td>2.714286</td>\n",
       "      <td>0.000000</td>\n",
       "      <td>0.000000</td>\n",
       "      <td>10.775510</td>\n",
       "      <td>0.000000</td>\n",
       "      <td>8.367347</td>\n",
       "      <td>0.000000</td>\n",
       "      <td>0.000000</td>\n",
       "      <td>9.836735</td>\n",
       "    </tr>\n",
       "    <tr>\n",
       "      <th>3</th>\n",
       "      <td>18</td>\n",
       "      <td>2012</td>\n",
       "      <td>3</td>\n",
       "      <td>0</td>\n",
       "      <td>1</td>\n",
       "      <td>0</td>\n",
       "      <td>1</td>\n",
       "      <td>0</td>\n",
       "      <td>1</td>\n",
       "      <td>0</td>\n",
       "      <td>...</td>\n",
       "      <td>4.200000</td>\n",
       "      <td>4.200000</td>\n",
       "      <td>0.000000</td>\n",
       "      <td>0.000000</td>\n",
       "      <td>12.100000</td>\n",
       "      <td>0.000000</td>\n",
       "      <td>9.400000</td>\n",
       "      <td>0.000000</td>\n",
       "      <td>0.000000</td>\n",
       "      <td>9.960000</td>\n",
       "    </tr>\n",
       "    <tr>\n",
       "      <th>4</th>\n",
       "      <td>18</td>\n",
       "      <td>2012</td>\n",
       "      <td>4</td>\n",
       "      <td>0</td>\n",
       "      <td>1</td>\n",
       "      <td>0</td>\n",
       "      <td>1</td>\n",
       "      <td>0</td>\n",
       "      <td>1</td>\n",
       "      <td>0</td>\n",
       "      <td>...</td>\n",
       "      <td>5.460000</td>\n",
       "      <td>5.460000</td>\n",
       "      <td>0.000000</td>\n",
       "      <td>0.000000</td>\n",
       "      <td>13.360000</td>\n",
       "      <td>0.000000</td>\n",
       "      <td>10.320000</td>\n",
       "      <td>0.000000</td>\n",
       "      <td>0.000000</td>\n",
       "      <td>10.280000</td>\n",
       "    </tr>\n",
       "    <tr>\n",
       "      <th>...</th>\n",
       "      <td>...</td>\n",
       "      <td>...</td>\n",
       "      <td>...</td>\n",
       "      <td>...</td>\n",
       "      <td>...</td>\n",
       "      <td>...</td>\n",
       "      <td>...</td>\n",
       "      <td>...</td>\n",
       "      <td>...</td>\n",
       "      <td>...</td>\n",
       "      <td>...</td>\n",
       "      <td>...</td>\n",
       "      <td>...</td>\n",
       "      <td>...</td>\n",
       "      <td>...</td>\n",
       "      <td>...</td>\n",
       "      <td>...</td>\n",
       "      <td>...</td>\n",
       "      <td>...</td>\n",
       "      <td>...</td>\n",
       "      <td>...</td>\n",
       "    </tr>\n",
       "    <tr>\n",
       "      <th>643685</th>\n",
       "      <td>1827860</td>\n",
       "      <td>2013</td>\n",
       "      <td>1</td>\n",
       "      <td>0</td>\n",
       "      <td>0</td>\n",
       "      <td>0</td>\n",
       "      <td>1</td>\n",
       "      <td>0</td>\n",
       "      <td>0</td>\n",
       "      <td>1</td>\n",
       "      <td>...</td>\n",
       "      <td>0.000000</td>\n",
       "      <td>0.000000</td>\n",
       "      <td>0.000000</td>\n",
       "      <td>0.000000</td>\n",
       "      <td>0.612903</td>\n",
       "      <td>0.000000</td>\n",
       "      <td>0.000000</td>\n",
       "      <td>0.000000</td>\n",
       "      <td>0.000000</td>\n",
       "      <td>0.000000</td>\n",
       "    </tr>\n",
       "    <tr>\n",
       "      <th>643686</th>\n",
       "      <td>1827860</td>\n",
       "      <td>2015</td>\n",
       "      <td>2</td>\n",
       "      <td>1</td>\n",
       "      <td>0</td>\n",
       "      <td>0</td>\n",
       "      <td>1</td>\n",
       "      <td>0</td>\n",
       "      <td>1</td>\n",
       "      <td>0</td>\n",
       "      <td>...</td>\n",
       "      <td>0.000000</td>\n",
       "      <td>0.000000</td>\n",
       "      <td>0.212121</td>\n",
       "      <td>0.212121</td>\n",
       "      <td>17.363636</td>\n",
       "      <td>0.000000</td>\n",
       "      <td>8.909091</td>\n",
       "      <td>0.000000</td>\n",
       "      <td>0.000000</td>\n",
       "      <td>7.121212</td>\n",
       "    </tr>\n",
       "    <tr>\n",
       "      <th>643687</th>\n",
       "      <td>1827860</td>\n",
       "      <td>2016</td>\n",
       "      <td>3</td>\n",
       "      <td>1</td>\n",
       "      <td>0</td>\n",
       "      <td>0</td>\n",
       "      <td>1</td>\n",
       "      <td>1</td>\n",
       "      <td>0</td>\n",
       "      <td>1</td>\n",
       "      <td>...</td>\n",
       "      <td>0.000000</td>\n",
       "      <td>0.000000</td>\n",
       "      <td>0.294118</td>\n",
       "      <td>0.205882</td>\n",
       "      <td>34.705882</td>\n",
       "      <td>0.000000</td>\n",
       "      <td>10.352941</td>\n",
       "      <td>1.705882</td>\n",
       "      <td>1.705882</td>\n",
       "      <td>23.911765</td>\n",
       "    </tr>\n",
       "    <tr>\n",
       "      <th>643688</th>\n",
       "      <td>1827869</td>\n",
       "      <td>2013</td>\n",
       "      <td>1</td>\n",
       "      <td>1</td>\n",
       "      <td>1</td>\n",
       "      <td>0</td>\n",
       "      <td>0</td>\n",
       "      <td>0</td>\n",
       "      <td>1</td>\n",
       "      <td>0</td>\n",
       "      <td>...</td>\n",
       "      <td>0.000000</td>\n",
       "      <td>0.000000</td>\n",
       "      <td>0.000000</td>\n",
       "      <td>0.000000</td>\n",
       "      <td>0.000000</td>\n",
       "      <td>0.525424</td>\n",
       "      <td>0.000000</td>\n",
       "      <td>0.000000</td>\n",
       "      <td>0.000000</td>\n",
       "      <td>0.000000</td>\n",
       "    </tr>\n",
       "    <tr>\n",
       "      <th>643689</th>\n",
       "      <td>1827869</td>\n",
       "      <td>2014</td>\n",
       "      <td>2</td>\n",
       "      <td>0</td>\n",
       "      <td>0</td>\n",
       "      <td>1</td>\n",
       "      <td>0</td>\n",
       "      <td>0</td>\n",
       "      <td>1</td>\n",
       "      <td>0</td>\n",
       "      <td>...</td>\n",
       "      <td>0.000000</td>\n",
       "      <td>0.666667</td>\n",
       "      <td>0.666667</td>\n",
       "      <td>0.000000</td>\n",
       "      <td>0.000000</td>\n",
       "      <td>8.950000</td>\n",
       "      <td>1.033333</td>\n",
       "      <td>0.083333</td>\n",
       "      <td>0.083333</td>\n",
       "      <td>8.133333</td>\n",
       "    </tr>\n",
       "  </tbody>\n",
       "</table>\n",
       "<p>643690 rows × 164 columns</p>\n",
       "</div>"
      ],
      "text/plain": [
       "         persnr  year  nrEntry  ltue  employed_before  receipt_leh_before  \\\n",
       "0             7  2015        1     0                1                   0   \n",
       "1            18  2010        1     1                0                   0   \n",
       "2            18  2011        2     0                1                   0   \n",
       "3            18  2012        3     0                1                   0   \n",
       "4            18  2012        4     0                1                   0   \n",
       "...         ...   ...      ...   ...              ...                 ...   \n",
       "643685  1827860  2013        1     0                0                   0   \n",
       "643686  1827860  2015        2     1                0                   0   \n",
       "643687  1827860  2016        3     1                0                   0   \n",
       "643688  1827869  2013        1     1                1                   0   \n",
       "643689  1827869  2014        2     0                0                   1   \n",
       "\n",
       "        receipt_lhg_before  se_before  ASU_notue_seeking_before  \\\n",
       "0                        0          0                         1   \n",
       "1                        0          0                         0   \n",
       "2                        1          0                         1   \n",
       "3                        1          0                         1   \n",
       "4                        1          0                         1   \n",
       "...                    ...        ...                       ...   \n",
       "643685                   1          0                         0   \n",
       "643686                   1          0                         1   \n",
       "643687                   1          1                         0   \n",
       "643688                   0          0                         1   \n",
       "643689                   0          0                         1   \n",
       "\n",
       "        ASU_other_before  ...  minijob_tot_dur_byage  ft_tot_dur_byage  \\\n",
       "0                      0  ...               0.000000          0.000000   \n",
       "1                      0  ...               0.000000          0.000000   \n",
       "2                      0  ...               2.714286          2.714286   \n",
       "3                      0  ...               4.200000          4.200000   \n",
       "4                      0  ...               5.460000          5.460000   \n",
       "...                  ...  ...                    ...               ...   \n",
       "643685                 1  ...               0.000000          0.000000   \n",
       "643686                 0  ...               0.000000          0.000000   \n",
       "643687                 1  ...               0.000000          0.000000   \n",
       "643688                 0  ...               0.000000          0.000000   \n",
       "643689                 0  ...               0.000000          0.666667   \n",
       "\n",
       "        befrist_tot_dur_byage  leih_tot_dur_byage  LHG_tot_dur_byage  \\\n",
       "0                   15.043478            0.000000           0.000000   \n",
       "1                    0.000000            0.000000           0.000000   \n",
       "2                    0.000000            0.000000          10.775510   \n",
       "3                    0.000000            0.000000          12.100000   \n",
       "4                    0.000000            0.000000          13.360000   \n",
       "...                       ...                 ...                ...   \n",
       "643685               0.000000            0.000000           0.612903   \n",
       "643686               0.212121            0.212121          17.363636   \n",
       "643687               0.294118            0.205882          34.705882   \n",
       "643688               0.000000            0.000000           0.000000   \n",
       "643689               0.666667            0.000000           0.000000   \n",
       "\n",
       "        LEH_tot_dur_byage  almp_tot_dur_byage  almp_aw_tot_dur_byage  \\\n",
       "0                0.000000            0.000000               0.000000   \n",
       "1                0.000000            0.000000               0.000000   \n",
       "2                0.000000            8.367347               0.000000   \n",
       "3                0.000000            9.400000               0.000000   \n",
       "4                0.000000           10.320000               0.000000   \n",
       "...                   ...                 ...                    ...   \n",
       "643685           0.000000            0.000000               0.000000   \n",
       "643686           0.000000            8.909091               0.000000   \n",
       "643687           0.000000           10.352941               1.705882   \n",
       "643688           0.525424            0.000000               0.000000   \n",
       "643689           8.950000            1.033333               0.083333   \n",
       "\n",
       "        se_tot_dur_byage  seeking1_tot_dur_byage  \n",
       "0               0.000000                0.000000  \n",
       "1               0.000000                0.000000  \n",
       "2               0.000000                9.836735  \n",
       "3               0.000000                9.960000  \n",
       "4               0.000000               10.280000  \n",
       "...                  ...                     ...  \n",
       "643685          0.000000                0.000000  \n",
       "643686          0.000000                7.121212  \n",
       "643687          1.705882               23.911765  \n",
       "643688          0.000000                0.000000  \n",
       "643689          0.083333                8.133333  \n",
       "\n",
       "[643690 rows x 164 columns]"
      ]
     },
     "execution_count": 10,
     "metadata": {},
     "output_type": "execute_result"
    }
   ],
   "source": [
    "siab"
   ]
  },
  {
   "cell_type": "markdown",
   "id": "1f87e805",
   "metadata": {
    "papermill": {
     "duration": 0.009979,
     "end_time": "2025-08-19T19:00:23.489959",
     "exception": false,
     "start_time": "2025-08-19T19:00:23.479980",
     "status": "completed"
    },
    "tags": []
   },
   "source": [
    "# Splitting Data and Setting Training Data Size"
   ]
  },
  {
   "cell_type": "code",
   "execution_count": 11,
   "id": "910ae358",
   "metadata": {
    "execution": {
     "iopub.execute_input": "2025-08-19T19:00:23.511828Z",
     "iopub.status.busy": "2025-08-19T19:00:23.510939Z",
     "iopub.status.idle": "2025-08-19T19:00:24.113755Z",
     "shell.execute_reply": "2025-08-19T19:00:24.112525Z"
    },
    "papermill": {
     "duration": 0.617812,
     "end_time": "2025-08-19T19:00:24.117451",
     "exception": false,
     "start_time": "2025-08-19T19:00:23.499639",
     "status": "completed"
    },
    "tags": []
   },
   "outputs": [],
   "source": [
    "from fairness_multiverse.universe import sample_by_year_size\n",
    "\n",
    "siab_train = sample_by_year_size(siab,\n",
    "                               training_year=universe[\"training_year\"],\n",
    "                               training_size=universe[\"training_size\"])"
   ]
  },
  {
   "cell_type": "code",
   "execution_count": 12,
   "id": "919c8ff5",
   "metadata": {
    "execution": {
     "iopub.execute_input": "2025-08-19T19:00:24.158178Z",
     "iopub.status.busy": "2025-08-19T19:00:24.156869Z",
     "iopub.status.idle": "2025-08-19T19:00:24.166635Z",
     "shell.execute_reply": "2025-08-19T19:00:24.165399Z"
    },
    "papermill": {
     "duration": 0.026379,
     "end_time": "2025-08-19T19:00:24.168364",
     "exception": false,
     "start_time": "2025-08-19T19:00:24.141985",
     "status": "completed"
    },
    "tags": []
   },
   "outputs": [
    {
     "data": {
      "text/plain": [
       "(1000, 164)"
      ]
     },
     "execution_count": 12,
     "metadata": {},
     "output_type": "execute_result"
    }
   ],
   "source": [
    "siab_train.shape"
   ]
  },
  {
   "cell_type": "code",
   "execution_count": 13,
   "id": "feb13bf4",
   "metadata": {
    "execution": {
     "iopub.execute_input": "2025-08-19T19:00:24.193690Z",
     "iopub.status.busy": "2025-08-19T19:00:24.192342Z",
     "iopub.status.idle": "2025-08-19T19:00:24.206321Z",
     "shell.execute_reply": "2025-08-19T19:00:24.205166Z"
    },
    "papermill": {
     "duration": 0.027382,
     "end_time": "2025-08-19T19:00:24.207960",
     "exception": false,
     "start_time": "2025-08-19T19:00:24.180578",
     "status": "completed"
    },
    "tags": []
   },
   "outputs": [
    {
     "data": {
      "text/plain": [
       "year\n",
       "2012    334\n",
       "2013    333\n",
       "2014    333\n",
       "dtype: int64"
      ]
     },
     "metadata": {},
     "output_type": "display_data"
    }
   ],
   "source": [
    "display(siab_train.groupby(\"year\").size())"
   ]
  },
  {
   "cell_type": "code",
   "execution_count": 14,
   "id": "0997782f",
   "metadata": {
    "execution": {
     "iopub.execute_input": "2025-08-19T19:00:24.233382Z",
     "iopub.status.busy": "2025-08-19T19:00:24.231975Z",
     "iopub.status.idle": "2025-08-19T19:00:24.465669Z",
     "shell.execute_reply": "2025-08-19T19:00:24.464887Z"
    },
    "papermill": {
     "duration": 0.246864,
     "end_time": "2025-08-19T19:00:24.467148",
     "exception": false,
     "start_time": "2025-08-19T19:00:24.220284",
     "status": "completed"
    },
    "tags": []
   },
   "outputs": [],
   "source": [
    "#siab_train = siab_s[siab_s.year < 2015]\n",
    "siab_calib = siab[siab.year == 2015]\n",
    "siab_test = siab[siab.year == 2016]"
   ]
  },
  {
   "cell_type": "code",
   "execution_count": 15,
   "id": "2c1e4012",
   "metadata": {
    "execution": {
     "iopub.execute_input": "2025-08-19T19:00:24.490001Z",
     "iopub.status.busy": "2025-08-19T19:00:24.488973Z",
     "iopub.status.idle": "2025-08-19T19:00:24.494272Z",
     "shell.execute_reply": "2025-08-19T19:00:24.493305Z"
    },
    "papermill": {
     "duration": 0.017651,
     "end_time": "2025-08-19T19:00:24.495476",
     "exception": false,
     "start_time": "2025-08-19T19:00:24.477825",
     "status": "completed"
    },
    "tags": []
   },
   "outputs": [],
   "source": [
    "#siab_calib.shape"
   ]
  },
  {
   "cell_type": "code",
   "execution_count": 16,
   "id": "f66b54ca",
   "metadata": {
    "execution": {
     "iopub.execute_input": "2025-08-19T19:00:24.519275Z",
     "iopub.status.busy": "2025-08-19T19:00:24.518089Z",
     "iopub.status.idle": "2025-08-19T19:00:24.524782Z",
     "shell.execute_reply": "2025-08-19T19:00:24.523417Z"
    },
    "papermill": {
     "duration": 0.019594,
     "end_time": "2025-08-19T19:00:24.526202",
     "exception": false,
     "start_time": "2025-08-19T19:00:24.506608",
     "status": "completed"
    },
    "tags": []
   },
   "outputs": [],
   "source": [
    "#siab_test.shape"
   ]
  },
  {
   "cell_type": "code",
   "execution_count": 17,
   "id": "27e4384d",
   "metadata": {
    "execution": {
     "iopub.execute_input": "2025-08-19T19:00:24.551486Z",
     "iopub.status.busy": "2025-08-19T19:00:24.550165Z",
     "iopub.status.idle": "2025-08-19T19:00:24.560000Z",
     "shell.execute_reply": "2025-08-19T19:00:24.558837Z"
    },
    "papermill": {
     "duration": 0.0229,
     "end_time": "2025-08-19T19:00:24.561537",
     "exception": false,
     "start_time": "2025-08-19T19:00:24.538637",
     "status": "completed"
    },
    "tags": []
   },
   "outputs": [],
   "source": [
    "X_train = siab_train.iloc[:,4:164]\n",
    "y_train = siab_train.iloc[:, [3]]"
   ]
  },
  {
   "cell_type": "code",
   "execution_count": 18,
   "id": "08ee8389",
   "metadata": {
    "execution": {
     "iopub.execute_input": "2025-08-19T19:00:24.587458Z",
     "iopub.status.busy": "2025-08-19T19:00:24.586249Z",
     "iopub.status.idle": "2025-08-19T19:00:24.640780Z",
     "shell.execute_reply": "2025-08-19T19:00:24.639872Z"
    },
    "papermill": {
     "duration": 0.068085,
     "end_time": "2025-08-19T19:00:24.642348",
     "exception": false,
     "start_time": "2025-08-19T19:00:24.574263",
     "status": "completed"
    },
    "tags": []
   },
   "outputs": [],
   "source": [
    "X_calib = siab_calib.iloc[:,4:164]\n",
    "y_calib = siab_calib.iloc[:, [3]]"
   ]
  },
  {
   "cell_type": "code",
   "execution_count": 19,
   "id": "b7ff42e0",
   "metadata": {
    "execution": {
     "iopub.execute_input": "2025-08-19T19:00:24.665926Z",
     "iopub.status.busy": "2025-08-19T19:00:24.664763Z",
     "iopub.status.idle": "2025-08-19T19:00:24.716748Z",
     "shell.execute_reply": "2025-08-19T19:00:24.716050Z"
    },
    "papermill": {
     "duration": 0.06647,
     "end_time": "2025-08-19T19:00:24.719236",
     "exception": false,
     "start_time": "2025-08-19T19:00:24.652766",
     "status": "completed"
    },
    "tags": []
   },
   "outputs": [],
   "source": [
    "X_test = siab_test.iloc[:,4:164]\n",
    "y_true = siab_test.iloc[:, [3]]"
   ]
  },
  {
   "cell_type": "code",
   "execution_count": 20,
   "id": "0275101e",
   "metadata": {
    "execution": {
     "iopub.execute_input": "2025-08-19T19:00:24.758503Z",
     "iopub.status.busy": "2025-08-19T19:00:24.757077Z",
     "iopub.status.idle": "2025-08-19T19:00:24.865520Z",
     "shell.execute_reply": "2025-08-19T19:00:24.864844Z"
    },
    "papermill": {
     "duration": 0.125097,
     "end_time": "2025-08-19T19:00:24.868271",
     "exception": false,
     "start_time": "2025-08-19T19:00:24.743174",
     "status": "completed"
    },
    "tags": []
   },
   "outputs": [],
   "source": [
    "# Auxiliary data needed downstream in the pipeline\n",
    "\n",
    "org_train = X_train.copy()\n",
    "org_test = X_test.copy()\n",
    "org_calib = X_calib.copy()"
   ]
  },
  {
   "cell_type": "markdown",
   "id": "b461e618",
   "metadata": {
    "papermill": {
     "duration": 0.013127,
     "end_time": "2025-08-19T19:00:24.907459",
     "exception": false,
     "start_time": "2025-08-19T19:00:24.894332",
     "status": "completed"
    },
    "tags": []
   },
   "source": [
    "# Preprocessing Data"
   ]
  },
  {
   "cell_type": "code",
   "execution_count": 21,
   "id": "78e74c4b",
   "metadata": {
    "execution": {
     "iopub.execute_input": "2025-08-19T19:00:24.934885Z",
     "iopub.status.busy": "2025-08-19T19:00:24.933689Z",
     "iopub.status.idle": "2025-08-19T19:00:24.943397Z",
     "shell.execute_reply": "2025-08-19T19:00:24.941779Z"
    },
    "papermill": {
     "duration": 0.026647,
     "end_time": "2025-08-19T19:00:24.945099",
     "exception": false,
     "start_time": "2025-08-19T19:00:24.918452",
     "status": "completed"
    },
    "tags": []
   },
   "outputs": [],
   "source": [
    "# EXCLUDE PROTECTED FEATURES\n",
    "# --------------------------\n",
    "\n",
    "excluded_features = universe[\"exclude_features\"].split(\"-\")\n",
    "excluded_features_dictionary = {\n",
    "    \"nationality\": [\"maxdeutsch1\", \"maxdeutsch.Missing.\"],\n",
    "    \"sex\": [\"frau1\"],\n",
    "    \"age\": [\"age\"],\n",
    "}"
   ]
  },
  {
   "cell_type": "code",
   "execution_count": 22,
   "id": "f8e63555",
   "metadata": {
    "execution": {
     "iopub.execute_input": "2025-08-19T19:00:24.971426Z",
     "iopub.status.busy": "2025-08-19T19:00:24.969884Z",
     "iopub.status.idle": "2025-08-19T19:00:24.979005Z",
     "shell.execute_reply": "2025-08-19T19:00:24.977407Z"
    },
    "papermill": {
     "duration": 0.022098,
     "end_time": "2025-08-19T19:00:24.980356",
     "exception": false,
     "start_time": "2025-08-19T19:00:24.958258",
     "status": "completed"
    },
    "tags": []
   },
   "outputs": [],
   "source": [
    "excluded_features_columns = [\n",
    "    excluded_features_dictionary[f] for f in excluded_features if len(f) > 0 and f != \"none\"\n",
    "]"
   ]
  },
  {
   "cell_type": "code",
   "execution_count": 23,
   "id": "da781f7c",
   "metadata": {
    "execution": {
     "iopub.execute_input": "2025-08-19T19:00:25.005958Z",
     "iopub.status.busy": "2025-08-19T19:00:25.004832Z",
     "iopub.status.idle": "2025-08-19T19:00:25.013327Z",
     "shell.execute_reply": "2025-08-19T19:00:25.011708Z"
    },
    "papermill": {
     "duration": 0.022079,
     "end_time": "2025-08-19T19:00:25.014877",
     "exception": false,
     "start_time": "2025-08-19T19:00:24.992798",
     "status": "completed"
    },
    "tags": []
   },
   "outputs": [],
   "source": [
    "from fairness_multiverse.universe import flatten_once\n",
    "\n",
    "excluded_features_columns = flatten_once(excluded_features_columns)"
   ]
  },
  {
   "cell_type": "code",
   "execution_count": 24,
   "id": "37fef0f0",
   "metadata": {
    "execution": {
     "iopub.execute_input": "2025-08-19T19:00:25.040848Z",
     "iopub.status.busy": "2025-08-19T19:00:25.039276Z",
     "iopub.status.idle": "2025-08-19T19:00:25.054440Z",
     "shell.execute_reply": "2025-08-19T19:00:25.052928Z"
    },
    "papermill": {
     "duration": 0.028333,
     "end_time": "2025-08-19T19:00:25.055980",
     "exception": false,
     "start_time": "2025-08-19T19:00:25.027647",
     "status": "completed"
    },
    "tags": []
   },
   "outputs": [
    {
     "name": "stdout",
     "output_type": "stream",
     "text": [
      "Dropping features: ['frau1']\n"
     ]
    }
   ],
   "source": [
    "if len(excluded_features_columns) > 0:\n",
    "    print(f\"Dropping features: {excluded_features_columns}\")\n",
    "    X_train.drop(excluded_features_columns, axis=1, inplace=True)"
   ]
  },
  {
   "cell_type": "code",
   "execution_count": 25,
   "id": "d029e3e9",
   "metadata": {
    "execution": {
     "iopub.execute_input": "2025-08-19T19:00:25.083469Z",
     "iopub.status.busy": "2025-08-19T19:00:25.082336Z",
     "iopub.status.idle": "2025-08-19T19:00:25.138065Z",
     "shell.execute_reply": "2025-08-19T19:00:25.137470Z"
    },
    "papermill": {
     "duration": 0.070793,
     "end_time": "2025-08-19T19:00:25.140844",
     "exception": false,
     "start_time": "2025-08-19T19:00:25.070051",
     "status": "completed"
    },
    "tags": []
   },
   "outputs": [
    {
     "name": "stdout",
     "output_type": "stream",
     "text": [
      "Dropping features: ['frau1']\n"
     ]
    }
   ],
   "source": [
    "if len(excluded_features_columns) > 0:\n",
    "    print(f\"Dropping features: {excluded_features_columns}\")\n",
    "    X_test.drop(excluded_features_columns, axis=1, inplace=True)"
   ]
  },
  {
   "cell_type": "code",
   "execution_count": 26,
   "id": "01d571f0",
   "metadata": {
    "execution": {
     "iopub.execute_input": "2025-08-19T19:00:25.180454Z",
     "iopub.status.busy": "2025-08-19T19:00:25.179293Z",
     "iopub.status.idle": "2025-08-19T19:00:25.234705Z",
     "shell.execute_reply": "2025-08-19T19:00:25.234132Z"
    },
    "papermill": {
     "duration": 0.072057,
     "end_time": "2025-08-19T19:00:25.237435",
     "exception": false,
     "start_time": "2025-08-19T19:00:25.165378",
     "status": "completed"
    },
    "tags": []
   },
   "outputs": [
    {
     "name": "stdout",
     "output_type": "stream",
     "text": [
      "Dropping features: ['frau1']\n"
     ]
    }
   ],
   "source": [
    "if len(excluded_features_columns) > 0:\n",
    "    print(f\"Dropping features: {excluded_features_columns}\")\n",
    "    X_calib.drop(excluded_features_columns, axis=1, inplace=True)"
   ]
  },
  {
   "cell_type": "code",
   "execution_count": 27,
   "id": "3037356e",
   "metadata": {
    "execution": {
     "iopub.execute_input": "2025-08-19T19:00:25.276200Z",
     "iopub.status.busy": "2025-08-19T19:00:25.274778Z",
     "iopub.status.idle": "2025-08-19T19:00:25.283116Z",
     "shell.execute_reply": "2025-08-19T19:00:25.281506Z"
    },
    "papermill": {
     "duration": 0.023322,
     "end_time": "2025-08-19T19:00:25.284549",
     "exception": false,
     "start_time": "2025-08-19T19:00:25.261227",
     "status": "completed"
    },
    "tags": []
   },
   "outputs": [],
   "source": [
    "# EXCLUDE CERTAIN SUBGROUPS\n",
    "# -------------------------\n",
    "\n",
    "mode = universe.get(\"exclude_subgroups\", \"keep-all\") # Defaults to \"keep-all\" if the key is missing."
   ]
  },
  {
   "cell_type": "code",
   "execution_count": 28,
   "id": "9d1e63fd",
   "metadata": {
    "execution": {
     "iopub.execute_input": "2025-08-19T19:00:25.311207Z",
     "iopub.status.busy": "2025-08-19T19:00:25.309987Z",
     "iopub.status.idle": "2025-08-19T19:00:25.321651Z",
     "shell.execute_reply": "2025-08-19T19:00:25.320186Z"
    },
    "papermill": {
     "duration": 0.025365,
     "end_time": "2025-08-19T19:00:25.323263",
     "exception": false,
     "start_time": "2025-08-19T19:00:25.297898",
     "status": "completed"
    },
    "tags": []
   },
   "outputs": [],
   "source": [
    "if mode == \"keep-all\":\n",
    "    keep_mask = pd.Series(True, index=org_train.index)\n",
    "\n",
    "elif mode == \"drop-non-german\":\n",
    "    keep_mask = (org_train[\"maxdeutsch1\"] == 1) & (org_train[\"maxdeutsch.Missing.\"] == 0)\n",
    "\n",
    "else:\n",
    "    raise ValueError(f\"Unsupported mode for exclude_subgroups: {mode}\")"
   ]
  },
  {
   "cell_type": "code",
   "execution_count": 29,
   "id": "d3b65474",
   "metadata": {
    "execution": {
     "iopub.execute_input": "2025-08-19T19:00:25.355570Z",
     "iopub.status.busy": "2025-08-19T19:00:25.354440Z",
     "iopub.status.idle": "2025-08-19T19:00:25.367135Z",
     "shell.execute_reply": "2025-08-19T19:00:25.365562Z"
    },
    "papermill": {
     "duration": 0.028777,
     "end_time": "2025-08-19T19:00:25.368719",
     "exception": false,
     "start_time": "2025-08-19T19:00:25.339942",
     "status": "completed"
    },
    "tags": []
   },
   "outputs": [
    {
     "name": "stdout",
     "output_type": "stream",
     "text": [
      "Dropping 147 rows (14.70%) where mode='drop-non-german'\n"
     ]
    }
   ],
   "source": [
    "n_drop = (~keep_mask).sum() # Calculates how many rows are set to be dropped\n",
    "if n_drop > 0:\n",
    "    pct = n_drop / len(keep_mask) * 100\n",
    "    print(f\"Dropping {n_drop} rows ({pct:.2f}%) where mode='{mode}'\")"
   ]
  },
  {
   "cell_type": "code",
   "execution_count": 30,
   "id": "f44389b3",
   "metadata": {
    "execution": {
     "iopub.execute_input": "2025-08-19T19:00:25.398229Z",
     "iopub.status.busy": "2025-08-19T19:00:25.397111Z",
     "iopub.status.idle": "2025-08-19T19:00:25.403272Z",
     "shell.execute_reply": "2025-08-19T19:00:25.402436Z"
    },
    "papermill": {
     "duration": 0.021616,
     "end_time": "2025-08-19T19:00:25.404464",
     "exception": false,
     "start_time": "2025-08-19T19:00:25.382848",
     "status": "completed"
    },
    "tags": []
   },
   "outputs": [],
   "source": [
    "X_train = X_train[keep_mask]"
   ]
  },
  {
   "cell_type": "code",
   "execution_count": 31,
   "id": "ceca8c2a",
   "metadata": {
    "execution": {
     "iopub.execute_input": "2025-08-19T19:00:25.429347Z",
     "iopub.status.busy": "2025-08-19T19:00:25.428067Z",
     "iopub.status.idle": "2025-08-19T19:00:25.435446Z",
     "shell.execute_reply": "2025-08-19T19:00:25.434391Z"
    },
    "papermill": {
     "duration": 0.02165,
     "end_time": "2025-08-19T19:00:25.436901",
     "exception": false,
     "start_time": "2025-08-19T19:00:25.415251",
     "status": "completed"
    },
    "tags": []
   },
   "outputs": [],
   "source": [
    "y_train = y_train[keep_mask]"
   ]
  },
  {
   "cell_type": "markdown",
   "id": "04d31e2f",
   "metadata": {
    "papermill": {
     "duration": 0.010619,
     "end_time": "2025-08-19T19:00:25.461543",
     "exception": false,
     "start_time": "2025-08-19T19:00:25.450924",
     "status": "completed"
    },
    "tags": []
   },
   "source": [
    "# Model Training"
   ]
  },
  {
   "cell_type": "code",
   "execution_count": 32,
   "id": "db991733",
   "metadata": {
    "execution": {
     "iopub.execute_input": "2025-08-19T19:00:25.486014Z",
     "iopub.status.busy": "2025-08-19T19:00:25.484805Z",
     "iopub.status.idle": "2025-08-19T19:00:25.587335Z",
     "shell.execute_reply": "2025-08-19T19:00:25.586597Z"
    },
    "papermill": {
     "duration": 0.116728,
     "end_time": "2025-08-19T19:00:25.588887",
     "exception": false,
     "start_time": "2025-08-19T19:00:25.472159",
     "status": "completed"
    },
    "tags": []
   },
   "outputs": [],
   "source": [
    "from sklearn.linear_model import LogisticRegression\n",
    "from sklearn.ensemble import GradientBoostingClassifier, RandomForestClassifier\n",
    "\n",
    "if (universe[\"model\"] == \"logreg\"):\n",
    "    model = LogisticRegression() #penalty=\"none\", solver=\"newton-cg\", max_iter=1)\n",
    "elif (universe[\"model\"] == \"penalized_logreg\"):\n",
    "    model = LogisticRegression(penalty=\"l2\", C=0.1) #, solver=\"newton-cg\", max_iter=1)\n",
    "elif (universe[\"model\"] == \"rf\"):\n",
    "    model = RandomForestClassifier() # n_estimators=100, n_jobs=-1\n",
    "elif (universe[\"model\"] == \"gbm\"):\n",
    "    model = GradientBoostingClassifier()\n",
    "elif (universe[\"model\"] == \"elasticnet\"):\n",
    "    model = LogisticRegression(penalty = 'elasticnet', solver = 'saga', l1_ratio = 0.5) # max_iter=5000\n",
    "else:\n",
    "    raise \"Unsupported universe.model\""
   ]
  },
  {
   "cell_type": "code",
   "execution_count": 33,
   "id": "a4b5cd25",
   "metadata": {
    "execution": {
     "iopub.execute_input": "2025-08-19T19:00:25.616542Z",
     "iopub.status.busy": "2025-08-19T19:00:25.616011Z",
     "iopub.status.idle": "2025-08-19T19:00:25.621203Z",
     "shell.execute_reply": "2025-08-19T19:00:25.620530Z"
    },
    "papermill": {
     "duration": 0.021373,
     "end_time": "2025-08-19T19:00:25.622529",
     "exception": false,
     "start_time": "2025-08-19T19:00:25.601156",
     "status": "completed"
    },
    "tags": []
   },
   "outputs": [],
   "source": [
    "from sklearn.pipeline import Pipeline\n",
    "from sklearn.preprocessing import StandardScaler\n",
    "\n",
    "model = Pipeline([\n",
    "    #(\"continuous_processor\", continuous_processor),\n",
    "    #(\"categorical_preprocessor\", categorical_preprocessor),\n",
    "    (\"scale\", StandardScaler() if universe[\"scale\"] == \"scale\" else None), \n",
    "    (\"model\", model),\n",
    "])"
   ]
  },
  {
   "cell_type": "code",
   "execution_count": 34,
   "id": "283a904d",
   "metadata": {
    "execution": {
     "iopub.execute_input": "2025-08-19T19:00:25.645871Z",
     "iopub.status.busy": "2025-08-19T19:00:25.645376Z",
     "iopub.status.idle": "2025-08-19T19:00:25.858625Z",
     "shell.execute_reply": "2025-08-19T19:00:25.857739Z"
    },
    "papermill": {
     "duration": 0.226737,
     "end_time": "2025-08-19T19:00:25.860251",
     "exception": false,
     "start_time": "2025-08-19T19:00:25.633514",
     "status": "completed"
    },
    "tags": []
   },
   "outputs": [
    {
     "name": "stderr",
     "output_type": "stream",
     "text": [
      "/dss/dsshome1/0C/ra93lal2/.local/share/virtualenvs/CMA_Fairness_v2-3j10GkSs/lib/python3.10/site-packages/sklearn/linear_model/_sag.py:350: ConvergenceWarning: The max_iter was reached which means the coef_ did not converge\n",
      "  warnings.warn(\n"
     ]
    },
    {
     "data": {
      "text/html": [
       "<style>#sk-container-id-1 {color: black;background-color: white;}#sk-container-id-1 pre{padding: 0;}#sk-container-id-1 div.sk-toggleable {background-color: white;}#sk-container-id-1 label.sk-toggleable__label {cursor: pointer;display: block;width: 100%;margin-bottom: 0;padding: 0.3em;box-sizing: border-box;text-align: center;}#sk-container-id-1 label.sk-toggleable__label-arrow:before {content: \"▸\";float: left;margin-right: 0.25em;color: #696969;}#sk-container-id-1 label.sk-toggleable__label-arrow:hover:before {color: black;}#sk-container-id-1 div.sk-estimator:hover label.sk-toggleable__label-arrow:before {color: black;}#sk-container-id-1 div.sk-toggleable__content {max-height: 0;max-width: 0;overflow: hidden;text-align: left;background-color: #f0f8ff;}#sk-container-id-1 div.sk-toggleable__content pre {margin: 0.2em;color: black;border-radius: 0.25em;background-color: #f0f8ff;}#sk-container-id-1 input.sk-toggleable__control:checked~div.sk-toggleable__content {max-height: 200px;max-width: 100%;overflow: auto;}#sk-container-id-1 input.sk-toggleable__control:checked~label.sk-toggleable__label-arrow:before {content: \"▾\";}#sk-container-id-1 div.sk-estimator input.sk-toggleable__control:checked~label.sk-toggleable__label {background-color: #d4ebff;}#sk-container-id-1 div.sk-label input.sk-toggleable__control:checked~label.sk-toggleable__label {background-color: #d4ebff;}#sk-container-id-1 input.sk-hidden--visually {border: 0;clip: rect(1px 1px 1px 1px);clip: rect(1px, 1px, 1px, 1px);height: 1px;margin: -1px;overflow: hidden;padding: 0;position: absolute;width: 1px;}#sk-container-id-1 div.sk-estimator {font-family: monospace;background-color: #f0f8ff;border: 1px dotted black;border-radius: 0.25em;box-sizing: border-box;margin-bottom: 0.5em;}#sk-container-id-1 div.sk-estimator:hover {background-color: #d4ebff;}#sk-container-id-1 div.sk-parallel-item::after {content: \"\";width: 100%;border-bottom: 1px solid gray;flex-grow: 1;}#sk-container-id-1 div.sk-label:hover label.sk-toggleable__label {background-color: #d4ebff;}#sk-container-id-1 div.sk-serial::before {content: \"\";position: absolute;border-left: 1px solid gray;box-sizing: border-box;top: 0;bottom: 0;left: 50%;z-index: 0;}#sk-container-id-1 div.sk-serial {display: flex;flex-direction: column;align-items: center;background-color: white;padding-right: 0.2em;padding-left: 0.2em;position: relative;}#sk-container-id-1 div.sk-item {position: relative;z-index: 1;}#sk-container-id-1 div.sk-parallel {display: flex;align-items: stretch;justify-content: center;background-color: white;position: relative;}#sk-container-id-1 div.sk-item::before, #sk-container-id-1 div.sk-parallel-item::before {content: \"\";position: absolute;border-left: 1px solid gray;box-sizing: border-box;top: 0;bottom: 0;left: 50%;z-index: -1;}#sk-container-id-1 div.sk-parallel-item {display: flex;flex-direction: column;z-index: 1;position: relative;background-color: white;}#sk-container-id-1 div.sk-parallel-item:first-child::after {align-self: flex-end;width: 50%;}#sk-container-id-1 div.sk-parallel-item:last-child::after {align-self: flex-start;width: 50%;}#sk-container-id-1 div.sk-parallel-item:only-child::after {width: 0;}#sk-container-id-1 div.sk-dashed-wrapped {border: 1px dashed gray;margin: 0 0.4em 0.5em 0.4em;box-sizing: border-box;padding-bottom: 0.4em;background-color: white;}#sk-container-id-1 div.sk-label label {font-family: monospace;font-weight: bold;display: inline-block;line-height: 1.2em;}#sk-container-id-1 div.sk-label-container {text-align: center;}#sk-container-id-1 div.sk-container {/* jupyter's `normalize.less` sets `[hidden] { display: none; }` but bootstrap.min.css set `[hidden] { display: none !important; }` so we also need the `!important` here to be able to override the default hidden behavior on the sphinx rendered scikit-learn.org. See: https://github.com/scikit-learn/scikit-learn/issues/21755 */display: inline-block !important;position: relative;}#sk-container-id-1 div.sk-text-repr-fallback {display: none;}</style><div id=\"sk-container-id-1\" class=\"sk-top-container\"><div class=\"sk-text-repr-fallback\"><pre>Pipeline(steps=[(&#x27;scale&#x27;, StandardScaler()),\n",
       "                (&#x27;model&#x27;,\n",
       "                 LogisticRegression(l1_ratio=0.5, penalty=&#x27;elasticnet&#x27;,\n",
       "                                    solver=&#x27;saga&#x27;))])</pre><b>In a Jupyter environment, please rerun this cell to show the HTML representation or trust the notebook. <br />On GitHub, the HTML representation is unable to render, please try loading this page with nbviewer.org.</b></div><div class=\"sk-container\" hidden><div class=\"sk-item sk-dashed-wrapped\"><div class=\"sk-label-container\"><div class=\"sk-label sk-toggleable\"><input class=\"sk-toggleable__control sk-hidden--visually\" id=\"sk-estimator-id-1\" type=\"checkbox\" ><label for=\"sk-estimator-id-1\" class=\"sk-toggleable__label sk-toggleable__label-arrow\">Pipeline</label><div class=\"sk-toggleable__content\"><pre>Pipeline(steps=[(&#x27;scale&#x27;, StandardScaler()),\n",
       "                (&#x27;model&#x27;,\n",
       "                 LogisticRegression(l1_ratio=0.5, penalty=&#x27;elasticnet&#x27;,\n",
       "                                    solver=&#x27;saga&#x27;))])</pre></div></div></div><div class=\"sk-serial\"><div class=\"sk-item\"><div class=\"sk-estimator sk-toggleable\"><input class=\"sk-toggleable__control sk-hidden--visually\" id=\"sk-estimator-id-2\" type=\"checkbox\" ><label for=\"sk-estimator-id-2\" class=\"sk-toggleable__label sk-toggleable__label-arrow\">StandardScaler</label><div class=\"sk-toggleable__content\"><pre>StandardScaler()</pre></div></div></div><div class=\"sk-item\"><div class=\"sk-estimator sk-toggleable\"><input class=\"sk-toggleable__control sk-hidden--visually\" id=\"sk-estimator-id-3\" type=\"checkbox\" ><label for=\"sk-estimator-id-3\" class=\"sk-toggleable__label sk-toggleable__label-arrow\">LogisticRegression</label><div class=\"sk-toggleable__content\"><pre>LogisticRegression(l1_ratio=0.5, penalty=&#x27;elasticnet&#x27;, solver=&#x27;saga&#x27;)</pre></div></div></div></div></div></div></div>"
      ],
      "text/plain": [
       "Pipeline(steps=[('scale', StandardScaler()),\n",
       "                ('model',\n",
       "                 LogisticRegression(l1_ratio=0.5, penalty='elasticnet',\n",
       "                                    solver='saga'))])"
      ]
     },
     "execution_count": 34,
     "metadata": {},
     "output_type": "execute_result"
    }
   ],
   "source": [
    "model.fit(X_train, y_train.values.ravel())"
   ]
  },
  {
   "cell_type": "code",
   "execution_count": 35,
   "id": "6e15e313",
   "metadata": {
    "execution": {
     "iopub.execute_input": "2025-08-19T19:00:25.904299Z",
     "iopub.status.busy": "2025-08-19T19:00:25.903995Z",
     "iopub.status.idle": "2025-08-19T19:00:26.087076Z",
     "shell.execute_reply": "2025-08-19T19:00:26.086338Z"
    },
    "papermill": {
     "duration": 0.203859,
     "end_time": "2025-08-19T19:00:26.088404",
     "exception": false,
     "start_time": "2025-08-19T19:00:25.884545",
     "status": "completed"
    },
    "tags": []
   },
   "outputs": [
    {
     "data": {
      "text/plain": [
       "0.833597146360495"
      ]
     },
     "execution_count": 35,
     "metadata": {},
     "output_type": "execute_result"
    }
   ],
   "source": [
    "from fairness_multiverse.universe import predict_w_threshold\n",
    "\n",
    "probs_test = model.predict_proba(X_test)\n",
    "\n",
    "'''\n",
    "Below code returns a boolean array (or binary 0/1 array depending on how it’s used) where each element \n",
    "is True if the probability of class 1 is greater than or equal to the threshold, and False otherwise.\n",
    "'''\n",
    "y_pred_default = predict_w_threshold(probs_test, 0.5)\n",
    "\n",
    "from sklearn.metrics import accuracy_score\n",
    "\n",
    "# Naive prediction\n",
    "accuracy_score(y_true = y_true, y_pred = y_pred_default)"
   ]
  },
  {
   "cell_type": "code",
   "execution_count": 36,
   "id": "6f14067c",
   "metadata": {
    "execution": {
     "iopub.execute_input": "2025-08-19T19:00:26.130765Z",
     "iopub.status.busy": "2025-08-19T19:00:26.129633Z",
     "iopub.status.idle": "2025-08-19T19:00:26.314777Z",
     "shell.execute_reply": "2025-08-19T19:00:26.314131Z"
    },
    "papermill": {
     "duration": 0.200599,
     "end_time": "2025-08-19T19:00:26.315997",
     "exception": false,
     "start_time": "2025-08-19T19:00:26.115398",
     "status": "completed"
    },
    "tags": []
   },
   "outputs": [
    {
     "data": {
      "text/plain": [
       "array([0, 0, 0, ..., 0, 0, 0])"
      ]
     },
     "execution_count": 36,
     "metadata": {},
     "output_type": "execute_result"
    }
   ],
   "source": [
    "model.predict(X_test)"
   ]
  },
  {
   "cell_type": "markdown",
   "id": "3759920c",
   "metadata": {
    "papermill": {
     "duration": 0.01116,
     "end_time": "2025-08-19T19:00:26.339000",
     "exception": false,
     "start_time": "2025-08-19T19:00:26.327840",
     "status": "completed"
    },
    "tags": []
   },
   "source": [
    "# Conformal Prediction"
   ]
  },
  {
   "cell_type": "code",
   "execution_count": 37,
   "id": "14b27f59",
   "metadata": {
    "execution": {
     "iopub.execute_input": "2025-08-19T19:00:26.367747Z",
     "iopub.status.busy": "2025-08-19T19:00:26.362600Z",
     "iopub.status.idle": "2025-08-19T19:00:26.372655Z",
     "shell.execute_reply": "2025-08-19T19:00:26.371949Z"
    },
    "papermill": {
     "duration": 0.024066,
     "end_time": "2025-08-19T19:00:26.374159",
     "exception": false,
     "start_time": "2025-08-19T19:00:26.350093",
     "status": "completed"
    },
    "tags": []
   },
   "outputs": [],
   "source": [
    "# Miscoverage level for conformal prediction (10% allowed error rate => 90% target coverage)\n",
    "alpha = 0.1"
   ]
  },
  {
   "cell_type": "code",
   "execution_count": 38,
   "id": "59102472",
   "metadata": {
    "execution": {
     "iopub.execute_input": "2025-08-19T19:00:26.401359Z",
     "iopub.status.busy": "2025-08-19T19:00:26.400918Z",
     "iopub.status.idle": "2025-08-19T19:00:26.571837Z",
     "shell.execute_reply": "2025-08-19T19:00:26.571191Z"
    },
    "papermill": {
     "duration": 0.186222,
     "end_time": "2025-08-19T19:00:26.573429",
     "exception": false,
     "start_time": "2025-08-19T19:00:26.387207",
     "status": "completed"
    },
    "tags": []
   },
   "outputs": [],
   "source": [
    "probs_calib = model.predict_proba(X_calib)"
   ]
  },
  {
   "cell_type": "code",
   "execution_count": 39,
   "id": "a792d4dd",
   "metadata": {
    "execution": {
     "iopub.execute_input": "2025-08-19T19:00:26.598594Z",
     "iopub.status.busy": "2025-08-19T19:00:26.598109Z",
     "iopub.status.idle": "2025-08-19T19:00:26.604760Z",
     "shell.execute_reply": "2025-08-19T19:00:26.603684Z"
    },
    "papermill": {
     "duration": 0.020941,
     "end_time": "2025-08-19T19:00:26.606241",
     "exception": false,
     "start_time": "2025-08-19T19:00:26.585300",
     "status": "completed"
    },
    "tags": []
   },
   "outputs": [],
   "source": [
    "y_calib = y_calib.values.ravel().astype(int)"
   ]
  },
  {
   "cell_type": "code",
   "execution_count": 40,
   "id": "650fd033",
   "metadata": {
    "execution": {
     "iopub.execute_input": "2025-08-19T19:00:26.631041Z",
     "iopub.status.busy": "2025-08-19T19:00:26.630538Z",
     "iopub.status.idle": "2025-08-19T19:00:26.642866Z",
     "shell.execute_reply": "2025-08-19T19:00:26.641676Z"
    },
    "papermill": {
     "duration": 0.027681,
     "end_time": "2025-08-19T19:00:26.645662",
     "exception": false,
     "start_time": "2025-08-19T19:00:26.617981",
     "status": "completed"
    },
    "tags": []
   },
   "outputs": [],
   "source": [
    "from fairness_multiverse.conformal import compute_nc_scores\n",
    "\n",
    "# Compute nonconformity scores on calibration set (1 - probability of true class)\n",
    "nc_scores = compute_nc_scores(probs_calib, y_calib)"
   ]
  },
  {
   "cell_type": "code",
   "execution_count": 41,
   "id": "28ada44c",
   "metadata": {
    "execution": {
     "iopub.execute_input": "2025-08-19T19:00:26.675663Z",
     "iopub.status.busy": "2025-08-19T19:00:26.675175Z",
     "iopub.status.idle": "2025-08-19T19:00:26.680654Z",
     "shell.execute_reply": "2025-08-19T19:00:26.679865Z"
    },
    "papermill": {
     "duration": 0.020067,
     "end_time": "2025-08-19T19:00:26.682550",
     "exception": false,
     "start_time": "2025-08-19T19:00:26.662483",
     "status": "completed"
    },
    "tags": []
   },
   "outputs": [],
   "source": [
    "from fairness_multiverse.conformal import find_threshold\n",
    "\n",
    "# Find conformal threshold q_hat for the given alpha (split conformal method)\n",
    "q_hat = find_threshold(nc_scores, alpha)"
   ]
  },
  {
   "cell_type": "code",
   "execution_count": 42,
   "id": "df56469e",
   "metadata": {
    "execution": {
     "iopub.execute_input": "2025-08-19T19:00:26.709420Z",
     "iopub.status.busy": "2025-08-19T19:00:26.708936Z",
     "iopub.status.idle": "2025-08-19T19:00:26.777730Z",
     "shell.execute_reply": "2025-08-19T19:00:26.776074Z"
    },
    "papermill": {
     "duration": 0.086917,
     "end_time": "2025-08-19T19:00:26.783197",
     "exception": false,
     "start_time": "2025-08-19T19:00:26.696280",
     "status": "completed"
    },
    "tags": []
   },
   "outputs": [
    {
     "data": {
      "text/plain": [
       "0.7733047731676986"
      ]
     },
     "execution_count": 42,
     "metadata": {},
     "output_type": "execute_result"
    }
   ],
   "source": [
    "q_hat"
   ]
  },
  {
   "cell_type": "code",
   "execution_count": 43,
   "id": "aa1f5faa",
   "metadata": {
    "execution": {
     "iopub.execute_input": "2025-08-19T19:00:26.815036Z",
     "iopub.status.busy": "2025-08-19T19:00:26.814545Z",
     "iopub.status.idle": "2025-08-19T19:00:27.410944Z",
     "shell.execute_reply": "2025-08-19T19:00:27.410125Z"
    },
    "papermill": {
     "duration": 0.610851,
     "end_time": "2025-08-19T19:00:27.412754",
     "exception": false,
     "start_time": "2025-08-19T19:00:26.801903",
     "status": "completed"
    },
    "tags": []
   },
   "outputs": [],
   "source": [
    "from fairness_multiverse.conformal import predict_conformal_sets\n",
    "\n",
    "# Generate prediction sets for each test example\n",
    "pred_sets = predict_conformal_sets(model, X_test, q_hat)"
   ]
  },
  {
   "cell_type": "code",
   "execution_count": 44,
   "id": "97f67a6b",
   "metadata": {
    "execution": {
     "iopub.execute_input": "2025-08-19T19:00:27.440398Z",
     "iopub.status.busy": "2025-08-19T19:00:27.439934Z",
     "iopub.status.idle": "2025-08-19T19:00:27.444857Z",
     "shell.execute_reply": "2025-08-19T19:00:27.444246Z"
    },
    "papermill": {
     "duration": 0.0189,
     "end_time": "2025-08-19T19:00:27.446335",
     "exception": false,
     "start_time": "2025-08-19T19:00:27.427435",
     "status": "completed"
    },
    "tags": []
   },
   "outputs": [],
   "source": [
    "y_true = y_true.squeeze()"
   ]
  },
  {
   "cell_type": "code",
   "execution_count": 45,
   "id": "e700e9a7",
   "metadata": {
    "execution": {
     "iopub.execute_input": "2025-08-19T19:00:27.471272Z",
     "iopub.status.busy": "2025-08-19T19:00:27.470775Z",
     "iopub.status.idle": "2025-08-19T19:00:27.961069Z",
     "shell.execute_reply": "2025-08-19T19:00:27.960412Z"
    },
    "papermill": {
     "duration": 0.504946,
     "end_time": "2025-08-19T19:00:27.962873",
     "exception": false,
     "start_time": "2025-08-19T19:00:27.457927",
     "status": "completed"
    },
    "tags": []
   },
   "outputs": [],
   "source": [
    "from fairness_multiverse.conformal import evaluate_sets\n",
    "\n",
    "# Evaluate coverage and average set size on test data\n",
    "metrics = evaluate_sets(pred_sets, y_true)"
   ]
  },
  {
   "cell_type": "markdown",
   "id": "efbacec0",
   "metadata": {
    "papermill": {
     "duration": 0.011697,
     "end_time": "2025-08-19T19:00:27.987393",
     "exception": false,
     "start_time": "2025-08-19T19:00:27.975696",
     "status": "completed"
    },
    "tags": []
   },
   "source": [
    "# CP Metrics"
   ]
  },
  {
   "cell_type": "code",
   "execution_count": 46,
   "id": "9de55fb1",
   "metadata": {
    "execution": {
     "iopub.execute_input": "2025-08-19T19:00:28.012338Z",
     "iopub.status.busy": "2025-08-19T19:00:28.011850Z",
     "iopub.status.idle": "2025-08-19T19:00:28.019189Z",
     "shell.execute_reply": "2025-08-19T19:00:28.018194Z"
    },
    "papermill": {
     "duration": 0.025403,
     "end_time": "2025-08-19T19:00:28.024434",
     "exception": false,
     "start_time": "2025-08-19T19:00:27.999031",
     "status": "completed"
    },
    "tags": []
   },
   "outputs": [
    {
     "data": {
      "text/plain": [
       "{'coverage': 0.9109352357596701, 'avg_size': 1.2270315460929662}"
      ]
     },
     "execution_count": 46,
     "metadata": {},
     "output_type": "execute_result"
    }
   ],
   "source": [
    "metrics"
   ]
  },
  {
   "cell_type": "code",
   "execution_count": 47,
   "id": "64c340a1",
   "metadata": {
    "execution": {
     "iopub.execute_input": "2025-08-19T19:00:28.059280Z",
     "iopub.status.busy": "2025-08-19T19:00:28.057980Z",
     "iopub.status.idle": "2025-08-19T19:00:28.068002Z",
     "shell.execute_reply": "2025-08-19T19:00:28.066909Z"
    },
    "papermill": {
     "duration": 0.025961,
     "end_time": "2025-08-19T19:00:28.069495",
     "exception": false,
     "start_time": "2025-08-19T19:00:28.043534",
     "status": "completed"
    },
    "tags": []
   },
   "outputs": [],
   "source": [
    "example_universe = universe.copy()\n",
    "universe_training_year = example_universe.get(\"training_year\")\n",
    "universe_training_size = example_universe.get(\"training_size\")\n",
    "universe_scale = example_universe.get(\"scale\")\n",
    "universe_model = example_universe.get(\"model\")\n",
    "universe_exclude_features = example_universe.get(\"exclude_features\")\n",
    "universe_exclude_subgroups = example_universe.get(\"exclude_subgroups\")"
   ]
  },
  {
   "cell_type": "code",
   "execution_count": 48,
   "id": "dbb53cb4",
   "metadata": {
    "execution": {
     "iopub.execute_input": "2025-08-19T19:00:28.097233Z",
     "iopub.status.busy": "2025-08-19T19:00:28.095719Z",
     "iopub.status.idle": "2025-08-19T19:00:28.108155Z",
     "shell.execute_reply": "2025-08-19T19:00:28.106792Z"
    },
    "papermill": {
     "duration": 0.030319,
     "end_time": "2025-08-19T19:00:28.112028",
     "exception": false,
     "start_time": "2025-08-19T19:00:28.081709",
     "status": "completed"
    },
    "tags": []
   },
   "outputs": [],
   "source": [
    "cp_metrics_dict = {\n",
    "    \"universe_id\": [universe_id],\n",
    "    \"universe_training_year\": [universe_training_year],\n",
    "    \"universe_training_size\": [universe_training_size],\n",
    "    \"universe_scale\": [universe_scale],\n",
    "    \"universe_model\": [universe_model],\n",
    "    \"universe_exclude_features\": [universe_exclude_features],\n",
    "    \"universe_exclude_subgroups\": [universe_exclude_subgroups],\n",
    "    \"q_hat\": [q_hat],\n",
    "    \"coverage\": [metrics[\"coverage\"]],\n",
    "    \"avg_size\": [metrics[\"avg_size\"]],\n",
    "}"
   ]
  },
  {
   "cell_type": "code",
   "execution_count": 49,
   "id": "0d70d4b2",
   "metadata": {
    "execution": {
     "iopub.execute_input": "2025-08-19T19:00:28.138694Z",
     "iopub.status.busy": "2025-08-19T19:00:28.138161Z",
     "iopub.status.idle": "2025-08-19T19:00:28.144261Z",
     "shell.execute_reply": "2025-08-19T19:00:28.143471Z"
    },
    "papermill": {
     "duration": 0.020684,
     "end_time": "2025-08-19T19:00:28.145794",
     "exception": false,
     "start_time": "2025-08-19T19:00:28.125110",
     "status": "completed"
    },
    "tags": []
   },
   "outputs": [],
   "source": [
    "cp_metrics_df = pd.DataFrame(cp_metrics_dict)"
   ]
  },
  {
   "cell_type": "code",
   "execution_count": 50,
   "id": "b494403c",
   "metadata": {
    "execution": {
     "iopub.execute_input": "2025-08-19T19:00:28.173615Z",
     "iopub.status.busy": "2025-08-19T19:00:28.172677Z",
     "iopub.status.idle": "2025-08-19T19:00:28.190590Z",
     "shell.execute_reply": "2025-08-19T19:00:28.189685Z"
    },
    "papermill": {
     "duration": 0.034185,
     "end_time": "2025-08-19T19:00:28.191884",
     "exception": false,
     "start_time": "2025-08-19T19:00:28.157699",
     "status": "completed"
    },
    "tags": []
   },
   "outputs": [
    {
     "data": {
      "text/html": [
       "<div>\n",
       "<style scoped>\n",
       "    .dataframe tbody tr th:only-of-type {\n",
       "        vertical-align: middle;\n",
       "    }\n",
       "\n",
       "    .dataframe tbody tr th {\n",
       "        vertical-align: top;\n",
       "    }\n",
       "\n",
       "    .dataframe thead th {\n",
       "        text-align: right;\n",
       "    }\n",
       "</style>\n",
       "<table border=\"1\" class=\"dataframe\">\n",
       "  <thead>\n",
       "    <tr style=\"text-align: right;\">\n",
       "      <th></th>\n",
       "      <th>universe_id</th>\n",
       "      <th>universe_training_year</th>\n",
       "      <th>universe_training_size</th>\n",
       "      <th>universe_scale</th>\n",
       "      <th>universe_model</th>\n",
       "      <th>universe_exclude_features</th>\n",
       "      <th>universe_exclude_subgroups</th>\n",
       "      <th>q_hat</th>\n",
       "      <th>coverage</th>\n",
       "      <th>avg_size</th>\n",
       "    </tr>\n",
       "  </thead>\n",
       "  <tbody>\n",
       "    <tr>\n",
       "      <th>0</th>\n",
       "      <td>a31636c44c50ff74364fe70fa0299daf</td>\n",
       "      <td>2012_14</td>\n",
       "      <td>1k</td>\n",
       "      <td>scale</td>\n",
       "      <td>elasticnet</td>\n",
       "      <td>sex</td>\n",
       "      <td>drop-non-german</td>\n",
       "      <td>0.773305</td>\n",
       "      <td>0.910935</td>\n",
       "      <td>1.227032</td>\n",
       "    </tr>\n",
       "  </tbody>\n",
       "</table>\n",
       "</div>"
      ],
      "text/plain": [
       "                        universe_id universe_training_year  \\\n",
       "0  a31636c44c50ff74364fe70fa0299daf                2012_14   \n",
       "\n",
       "  universe_training_size universe_scale universe_model  \\\n",
       "0                     1k          scale     elasticnet   \n",
       "\n",
       "  universe_exclude_features universe_exclude_subgroups     q_hat  coverage  \\\n",
       "0                       sex            drop-non-german  0.773305  0.910935   \n",
       "\n",
       "   avg_size  \n",
       "0  1.227032  "
      ]
     },
     "execution_count": 50,
     "metadata": {},
     "output_type": "execute_result"
    }
   ],
   "source": [
    "cp_metrics_df"
   ]
  },
  {
   "cell_type": "markdown",
   "id": "ed608b0b",
   "metadata": {
    "papermill": {
     "duration": 0.012224,
     "end_time": "2025-08-19T19:00:28.216330",
     "exception": false,
     "start_time": "2025-08-19T19:00:28.204106",
     "status": "completed"
    },
    "tags": []
   },
   "source": [
    "Conditional coverage & looking at subgroups"
   ]
  },
  {
   "cell_type": "code",
   "execution_count": 51,
   "id": "8968c366",
   "metadata": {
    "execution": {
     "iopub.execute_input": "2025-08-19T19:00:28.243424Z",
     "iopub.status.busy": "2025-08-19T19:00:28.242153Z",
     "iopub.status.idle": "2025-08-19T19:00:28.530907Z",
     "shell.execute_reply": "2025-08-19T19:00:28.530131Z"
    },
    "papermill": {
     "duration": 0.30373,
     "end_time": "2025-08-19T19:00:28.532555",
     "exception": false,
     "start_time": "2025-08-19T19:00:28.228825",
     "status": "completed"
    },
    "tags": []
   },
   "outputs": [],
   "source": [
    "from fairness_multiverse.conformal import build_cp_groups\n",
    "\n",
    "cp_groups_df = build_cp_groups(pred_sets, y_true, X_test.index, org_test)"
   ]
  },
  {
   "cell_type": "code",
   "execution_count": 52,
   "id": "292ddabf",
   "metadata": {
    "execution": {
     "iopub.execute_input": "2025-08-19T19:00:28.566121Z",
     "iopub.status.busy": "2025-08-19T19:00:28.565195Z",
     "iopub.status.idle": "2025-08-19T19:00:29.426305Z",
     "shell.execute_reply": "2025-08-19T19:00:29.424817Z"
    },
    "papermill": {
     "duration": 0.881431,
     "end_time": "2025-08-19T19:00:29.430422",
     "exception": false,
     "start_time": "2025-08-19T19:00:28.548991",
     "status": "completed"
    },
    "tags": []
   },
   "outputs": [],
   "source": [
    "# Define covered = 1 if true_label is in the predicted set\n",
    "cp_groups_df['covered'] = cp_groups_df.apply(\n",
    "    lambda r: int(r['true_label'] in r['pred_set']),\n",
    "    axis=1\n",
    ")"
   ]
  },
  {
   "cell_type": "code",
   "execution_count": 53,
   "id": "3a261692",
   "metadata": {
    "execution": {
     "iopub.execute_input": "2025-08-19T19:00:29.478522Z",
     "iopub.status.busy": "2025-08-19T19:00:29.477867Z",
     "iopub.status.idle": "2025-08-19T19:00:29.495307Z",
     "shell.execute_reply": "2025-08-19T19:00:29.494479Z"
    },
    "papermill": {
     "duration": 0.032516,
     "end_time": "2025-08-19T19:00:29.496773",
     "exception": false,
     "start_time": "2025-08-19T19:00:29.464257",
     "status": "completed"
    },
    "tags": []
   },
   "outputs": [],
   "source": [
    "subgroups = ['frau1','nongerman','nongerman_male','nongerman_female']\n",
    "\n",
    "# Conditional coverage for subgroup==1\n",
    "cond_coverage = {\n",
    "    g: cp_groups_df.loc[cp_groups_df[g]==1, 'covered'].mean()\n",
    "    for g in subgroups\n",
    "}"
   ]
  },
  {
   "cell_type": "code",
   "execution_count": 54,
   "id": "894fd600",
   "metadata": {
    "execution": {
     "iopub.execute_input": "2025-08-19T19:00:29.542938Z",
     "iopub.status.busy": "2025-08-19T19:00:29.541724Z",
     "iopub.status.idle": "2025-08-19T19:00:29.552688Z",
     "shell.execute_reply": "2025-08-19T19:00:29.551563Z"
    },
    "papermill": {
     "duration": 0.031978,
     "end_time": "2025-08-19T19:00:29.554565",
     "exception": false,
     "start_time": "2025-08-19T19:00:29.522587",
     "status": "completed"
    },
    "tags": []
   },
   "outputs": [
    {
     "data": {
      "text/plain": [
       "{'frau1': 0.9070225097722064,\n",
       " 'nongerman': 0.9196092741256385,\n",
       " 'nongerman_male': 0.9310997027830317,\n",
       " 'nongerman_female': 0.9005961251862892}"
      ]
     },
     "execution_count": 54,
     "metadata": {},
     "output_type": "execute_result"
    }
   ],
   "source": [
    "cond_coverage"
   ]
  },
  {
   "cell_type": "code",
   "execution_count": 55,
   "id": "942895c7",
   "metadata": {
    "execution": {
     "iopub.execute_input": "2025-08-19T19:00:29.595873Z",
     "iopub.status.busy": "2025-08-19T19:00:29.584246Z",
     "iopub.status.idle": "2025-08-19T19:00:29.604838Z",
     "shell.execute_reply": "2025-08-19T19:00:29.603718Z"
    },
    "papermill": {
     "duration": 0.037901,
     "end_time": "2025-08-19T19:00:29.606787",
     "exception": false,
     "start_time": "2025-08-19T19:00:29.568886",
     "status": "completed"
    },
    "tags": []
   },
   "outputs": [],
   "source": [
    "for subgroup, cov in cond_coverage.items():\n",
    "    cp_metrics_df[f\"cov_{subgroup}\"] = cov"
   ]
  },
  {
   "cell_type": "code",
   "execution_count": 56,
   "id": "3970120f",
   "metadata": {
    "execution": {
     "iopub.execute_input": "2025-08-19T19:00:29.642286Z",
     "iopub.status.busy": "2025-08-19T19:00:29.641788Z",
     "iopub.status.idle": "2025-08-19T19:00:29.664899Z",
     "shell.execute_reply": "2025-08-19T19:00:29.663829Z"
    },
    "papermill": {
     "duration": 0.046278,
     "end_time": "2025-08-19T19:00:29.667661",
     "exception": false,
     "start_time": "2025-08-19T19:00:29.621383",
     "status": "completed"
    },
    "tags": []
   },
   "outputs": [
    {
     "data": {
      "text/html": [
       "<div>\n",
       "<style scoped>\n",
       "    .dataframe tbody tr th:only-of-type {\n",
       "        vertical-align: middle;\n",
       "    }\n",
       "\n",
       "    .dataframe tbody tr th {\n",
       "        vertical-align: top;\n",
       "    }\n",
       "\n",
       "    .dataframe thead th {\n",
       "        text-align: right;\n",
       "    }\n",
       "</style>\n",
       "<table border=\"1\" class=\"dataframe\">\n",
       "  <thead>\n",
       "    <tr style=\"text-align: right;\">\n",
       "      <th></th>\n",
       "      <th>universe_id</th>\n",
       "      <th>universe_training_year</th>\n",
       "      <th>universe_training_size</th>\n",
       "      <th>universe_scale</th>\n",
       "      <th>universe_model</th>\n",
       "      <th>universe_exclude_features</th>\n",
       "      <th>universe_exclude_subgroups</th>\n",
       "      <th>q_hat</th>\n",
       "      <th>coverage</th>\n",
       "      <th>avg_size</th>\n",
       "      <th>cov_frau1</th>\n",
       "      <th>cov_nongerman</th>\n",
       "      <th>cov_nongerman_male</th>\n",
       "      <th>cov_nongerman_female</th>\n",
       "    </tr>\n",
       "  </thead>\n",
       "  <tbody>\n",
       "    <tr>\n",
       "      <th>0</th>\n",
       "      <td>a31636c44c50ff74364fe70fa0299daf</td>\n",
       "      <td>2012_14</td>\n",
       "      <td>1k</td>\n",
       "      <td>scale</td>\n",
       "      <td>elasticnet</td>\n",
       "      <td>sex</td>\n",
       "      <td>drop-non-german</td>\n",
       "      <td>0.773305</td>\n",
       "      <td>0.910935</td>\n",
       "      <td>1.227032</td>\n",
       "      <td>0.907023</td>\n",
       "      <td>0.919609</td>\n",
       "      <td>0.9311</td>\n",
       "      <td>0.900596</td>\n",
       "    </tr>\n",
       "  </tbody>\n",
       "</table>\n",
       "</div>"
      ],
      "text/plain": [
       "                        universe_id universe_training_year  \\\n",
       "0  a31636c44c50ff74364fe70fa0299daf                2012_14   \n",
       "\n",
       "  universe_training_size universe_scale universe_model  \\\n",
       "0                     1k          scale     elasticnet   \n",
       "\n",
       "  universe_exclude_features universe_exclude_subgroups     q_hat  coverage  \\\n",
       "0                       sex            drop-non-german  0.773305  0.910935   \n",
       "\n",
       "   avg_size  cov_frau1  cov_nongerman  cov_nongerman_male  \\\n",
       "0  1.227032   0.907023       0.919609              0.9311   \n",
       "\n",
       "   cov_nongerman_female  \n",
       "0              0.900596  "
      ]
     },
     "execution_count": 56,
     "metadata": {},
     "output_type": "execute_result"
    }
   ],
   "source": [
    "cp_metrics_df"
   ]
  },
  {
   "cell_type": "markdown",
   "id": "3fc519cc",
   "metadata": {
    "papermill": {
     "duration": 0.01372,
     "end_time": "2025-08-19T19:00:29.702980",
     "exception": false,
     "start_time": "2025-08-19T19:00:29.689260",
     "status": "completed"
    },
    "tags": []
   },
   "source": [
    "# (Fairness) Metrics"
   ]
  },
  {
   "cell_type": "code",
   "execution_count": 57,
   "id": "a2e5e155",
   "metadata": {
    "execution": {
     "iopub.execute_input": "2025-08-19T19:00:29.733338Z",
     "iopub.status.busy": "2025-08-19T19:00:29.732546Z",
     "iopub.status.idle": "2025-08-19T19:00:29.748153Z",
     "shell.execute_reply": "2025-08-19T19:00:29.747407Z"
    },
    "papermill": {
     "duration": 0.032523,
     "end_time": "2025-08-19T19:00:29.749719",
     "exception": false,
     "start_time": "2025-08-19T19:00:29.717196",
     "status": "completed"
    },
    "tags": []
   },
   "outputs": [],
   "source": [
    "colname_to_bin = \"maxdeutsch1\"\n",
    "majority_value = org_train[colname_to_bin].mode()[0]\n",
    "\n",
    "org_test[\"majmin\"] = np.where(org_test[colname_to_bin] == majority_value, \"majority\", \"minority\")"
   ]
  },
  {
   "cell_type": "code",
   "execution_count": 58,
   "id": "17e3e4d5",
   "metadata": {
    "execution": {
     "iopub.execute_input": "2025-08-19T19:00:29.787276Z",
     "iopub.status.busy": "2025-08-19T19:00:29.786070Z",
     "iopub.status.idle": "2025-08-19T19:00:31.519761Z",
     "shell.execute_reply": "2025-08-19T19:00:31.518145Z"
    },
    "papermill": {
     "duration": 1.752537,
     "end_time": "2025-08-19T19:00:31.523327",
     "exception": false,
     "start_time": "2025-08-19T19:00:29.770790",
     "status": "completed"
    },
    "tags": []
   },
   "outputs": [],
   "source": [
    "example_universe = universe.copy()\n",
    "example_universe[\"cutoff\"] = example_universe[\"cutoff\"][0]\n",
    "example_universe[\"eval_fairness_grouping\"] = example_universe[\"eval_fairness_grouping\"][0]\n",
    "fairness_dict, metric_frame = universe_analysis.compute_metrics(\n",
    "    example_universe,\n",
    "    y_pred_prob=probs_test,\n",
    "    y_test=y_true,\n",
    "    org_test=org_test,\n",
    ")"
   ]
  },
  {
   "cell_type": "markdown",
   "id": "1fb7a0e9",
   "metadata": {
    "papermill": {
     "duration": 0.013146,
     "end_time": "2025-08-19T19:00:31.564307",
     "exception": false,
     "start_time": "2025-08-19T19:00:31.551161",
     "status": "completed"
    },
    "tags": []
   },
   "source": [
    "# Overall"
   ]
  },
  {
   "cell_type": "markdown",
   "id": "be1784b1",
   "metadata": {
    "papermill": {
     "duration": 0.013132,
     "end_time": "2025-08-19T19:00:31.590669",
     "exception": false,
     "start_time": "2025-08-19T19:00:31.577537",
     "status": "completed"
    },
    "tags": []
   },
   "source": [
    "Main fairness target: Equalized Odds. Seems to be a better fit than equal opportunity, since we're not only interested in Y = 1. Seems to be a better fit than demographic parity, since we also care about accuracy, not just equal distribution of preds.\n",
    "\n",
    "Pick column for computation of fairness metrics\n",
    "\n",
    "Performance\n",
    "Overall performance measures, most interesting in relation to the measures split by group below"
   ]
  },
  {
   "cell_type": "code",
   "execution_count": 59,
   "id": "b7672bee",
   "metadata": {
    "execution": {
     "iopub.execute_input": "2025-08-19T19:00:31.620119Z",
     "iopub.status.busy": "2025-08-19T19:00:31.619565Z",
     "iopub.status.idle": "2025-08-19T19:00:31.627907Z",
     "shell.execute_reply": "2025-08-19T19:00:31.627100Z"
    },
    "papermill": {
     "duration": 0.024722,
     "end_time": "2025-08-19T19:00:31.629114",
     "exception": false,
     "start_time": "2025-08-19T19:00:31.604392",
     "status": "completed"
    },
    "tags": []
   },
   "outputs": [
    {
     "data": {
      "text/plain": [
       "accuracy                   0.218359\n",
       "balanced accuracy          0.535178\n",
       "f1                         0.239856\n",
       "precision                  0.137022\n",
       "false positive rate        0.890975\n",
       "false negative rate        0.038669\n",
       "selection rate             0.900000\n",
       "count                  89710.000000\n",
       "dtype: float64"
      ]
     },
     "execution_count": 59,
     "metadata": {},
     "output_type": "execute_result"
    }
   ],
   "source": [
    "metric_frame.overall"
   ]
  },
  {
   "cell_type": "markdown",
   "id": "d93333c9",
   "metadata": {
    "papermill": {
     "duration": 0.01412,
     "end_time": "2025-08-19T19:00:31.656662",
     "exception": false,
     "start_time": "2025-08-19T19:00:31.642542",
     "status": "completed"
    },
    "tags": []
   },
   "source": [
    "By Group"
   ]
  },
  {
   "cell_type": "code",
   "execution_count": 60,
   "id": "52256966",
   "metadata": {
    "execution": {
     "iopub.execute_input": "2025-08-19T19:00:31.684054Z",
     "iopub.status.busy": "2025-08-19T19:00:31.683581Z",
     "iopub.status.idle": "2025-08-19T19:00:31.698826Z",
     "shell.execute_reply": "2025-08-19T19:00:31.697431Z"
    },
    "papermill": {
     "duration": 0.030946,
     "end_time": "2025-08-19T19:00:31.700810",
     "exception": false,
     "start_time": "2025-08-19T19:00:31.669864",
     "status": "completed"
    },
    "tags": []
   },
   "outputs": [
    {
     "data": {
      "text/html": [
       "<div>\n",
       "<style scoped>\n",
       "    .dataframe tbody tr th:only-of-type {\n",
       "        vertical-align: middle;\n",
       "    }\n",
       "\n",
       "    .dataframe tbody tr th {\n",
       "        vertical-align: top;\n",
       "    }\n",
       "\n",
       "    .dataframe thead th {\n",
       "        text-align: right;\n",
       "    }\n",
       "</style>\n",
       "<table border=\"1\" class=\"dataframe\">\n",
       "  <thead>\n",
       "    <tr style=\"text-align: right;\">\n",
       "      <th></th>\n",
       "      <th>accuracy</th>\n",
       "      <th>balanced accuracy</th>\n",
       "      <th>f1</th>\n",
       "      <th>precision</th>\n",
       "      <th>false positive rate</th>\n",
       "      <th>false negative rate</th>\n",
       "      <th>selection rate</th>\n",
       "      <th>count</th>\n",
       "    </tr>\n",
       "    <tr>\n",
       "      <th>majmin</th>\n",
       "      <th></th>\n",
       "      <th></th>\n",
       "      <th></th>\n",
       "      <th></th>\n",
       "      <th></th>\n",
       "      <th></th>\n",
       "      <th></th>\n",
       "      <th></th>\n",
       "    </tr>\n",
       "  </thead>\n",
       "  <tbody>\n",
       "    <tr>\n",
       "      <th>majority</th>\n",
       "      <td>0.234075</td>\n",
       "      <td>0.540086</td>\n",
       "      <td>0.248045</td>\n",
       "      <td>0.142510</td>\n",
       "      <td>0.875845</td>\n",
       "      <td>0.043982</td>\n",
       "      <td>0.886439</td>\n",
       "      <td>69170.0</td>\n",
       "    </tr>\n",
       "    <tr>\n",
       "      <th>minority</th>\n",
       "      <td>0.165433</td>\n",
       "      <td>0.520444</td>\n",
       "      <td>0.213381</td>\n",
       "      <td>0.119697</td>\n",
       "      <td>0.940953</td>\n",
       "      <td>0.018159</td>\n",
       "      <td>0.945667</td>\n",
       "      <td>20540.0</td>\n",
       "    </tr>\n",
       "  </tbody>\n",
       "</table>\n",
       "</div>"
      ],
      "text/plain": [
       "          accuracy  balanced accuracy        f1  precision  \\\n",
       "majmin                                                       \n",
       "majority  0.234075           0.540086  0.248045   0.142510   \n",
       "minority  0.165433           0.520444  0.213381   0.119697   \n",
       "\n",
       "          false positive rate  false negative rate  selection rate    count  \n",
       "majmin                                                                       \n",
       "majority             0.875845             0.043982        0.886439  69170.0  \n",
       "minority             0.940953             0.018159        0.945667  20540.0  "
      ]
     },
     "execution_count": 60,
     "metadata": {},
     "output_type": "execute_result"
    }
   ],
   "source": [
    "metric_frame.by_group"
   ]
  },
  {
   "cell_type": "code",
   "execution_count": 61,
   "id": "6e6c20ae",
   "metadata": {
    "execution": {
     "iopub.execute_input": "2025-08-19T19:00:31.732591Z",
     "iopub.status.busy": "2025-08-19T19:00:31.731384Z",
     "iopub.status.idle": "2025-08-19T19:00:33.769926Z",
     "shell.execute_reply": "2025-08-19T19:00:33.768881Z"
    },
    "papermill": {
     "duration": 2.055202,
     "end_time": "2025-08-19T19:00:33.771660",
     "exception": false,
     "start_time": "2025-08-19T19:00:31.716458",
     "status": "completed"
    },
    "tags": []
   },
   "outputs": [
    {
     "data": {
      "text/plain": [
       "array([[<Axes: title={'center': 'accuracy'}, xlabel='majmin'>,\n",
       "        <Axes: title={'center': 'balanced accuracy'}, xlabel='majmin'>,\n",
       "        <Axes: title={'center': 'f1'}, xlabel='majmin'>],\n",
       "       [<Axes: title={'center': 'precision'}, xlabel='majmin'>,\n",
       "        <Axes: title={'center': 'false positive rate'}, xlabel='majmin'>,\n",
       "        <Axes: title={'center': 'false negative rate'}, xlabel='majmin'>],\n",
       "       [<Axes: title={'center': 'selection rate'}, xlabel='majmin'>,\n",
       "        <Axes: title={'center': 'count'}, xlabel='majmin'>,\n",
       "        <Axes: xlabel='majmin'>]], dtype=object)"
      ]
     },
     "execution_count": 61,
     "metadata": {},
     "output_type": "execute_result"
    },
    {
     "data": {
      "image/png": "[encoded data removed]",
      "text/plain": [
       "<Figure size 1200x800 with 9 Axes>"
      ]
     },
     "metadata": {},
     "output_type": "display_data"
    }
   ],
   "source": [
    "# In a graphic\n",
    "metric_frame.by_group.plot.bar(\n",
    "    subplots=True,\n",
    "    layout=[3, 3],\n",
    "    legend=False,\n",
    "    figsize=[12, 8],\n",
    "    title=\"Show all metrics\",\n",
    ")"
   ]
  },
  {
   "cell_type": "markdown",
   "id": "b2e433ae",
   "metadata": {
    "papermill": {
     "duration": 0.013932,
     "end_time": "2025-08-19T19:00:33.802174",
     "exception": false,
     "start_time": "2025-08-19T19:00:33.788242",
     "status": "completed"
    },
    "tags": []
   },
   "source": [
    "# Final Output"
   ]
  },
  {
   "cell_type": "code",
   "execution_count": 62,
   "id": "3871301e",
   "metadata": {
    "execution": {
     "iopub.execute_input": "2025-08-19T19:00:33.841555Z",
     "iopub.status.busy": "2025-08-19T19:00:33.836549Z",
     "iopub.status.idle": "2025-08-19T19:00:33.855334Z",
     "shell.execute_reply": "2025-08-19T19:00:33.854326Z"
    },
    "papermill": {
     "duration": 0.041005,
     "end_time": "2025-08-19T19:00:33.857059",
     "exception": false,
     "start_time": "2025-08-19T19:00:33.816054",
     "status": "completed"
    },
    "tags": []
   },
   "outputs": [
    {
     "data": {
      "text/plain": [
       "4"
      ]
     },
     "execution_count": 62,
     "metadata": {},
     "output_type": "execute_result"
    }
   ],
   "source": [
    "sub_universes = universe_analysis.generate_sub_universes()\n",
    "len(sub_universes)"
   ]
  },
  {
   "cell_type": "code",
   "execution_count": 63,
   "id": "d9cfdaca",
   "metadata": {
    "execution": {
     "iopub.execute_input": "2025-08-19T19:00:33.894651Z",
     "iopub.status.busy": "2025-08-19T19:00:33.894289Z",
     "iopub.status.idle": "2025-08-19T19:00:33.953399Z",
     "shell.execute_reply": "2025-08-19T19:00:33.951888Z"
    },
    "papermill": {
     "duration": 0.076901,
     "end_time": "2025-08-19T19:00:33.955200",
     "exception": false,
     "start_time": "2025-08-19T19:00:33.878299",
     "status": "completed"
    },
    "tags": []
   },
   "outputs": [],
   "source": [
    "def filter_sub_universe_data(sub_universe, org_test):\n",
    "    # Keep all rows — no filtering\n",
    "    keep_rows_mask = np.ones(org_test.shape[0], dtype=bool)\n",
    "\n",
    "    print(f\"[INFO] Keeping all rows: {keep_rows_mask.sum()} rows retained.\")\n",
    "    return keep_rows_mask"
   ]
  },
  {
   "cell_type": "code",
   "execution_count": 64,
   "id": "2bc31ac1",
   "metadata": {
    "execution": {
     "iopub.execute_input": "2025-08-19T19:00:33.992586Z",
     "iopub.status.busy": "2025-08-19T19:00:33.991551Z",
     "iopub.status.idle": "2025-08-19T19:00:40.808571Z",
     "shell.execute_reply": "2025-08-19T19:00:40.807615Z"
    },
    "papermill": {
     "duration": 6.835399,
     "end_time": "2025-08-19T19:00:40.809775",
     "exception": false,
     "start_time": "2025-08-19T19:00:33.974376",
     "status": "completed"
    },
    "tags": []
   },
   "outputs": [
    {
     "name": "stdout",
     "output_type": "stream",
     "text": [
      "Stopping execution_time clock.\n",
      "[INFO] Keeping all rows: 89710 rows retained.\n"
     ]
    },
    {
     "name": "stdout",
     "output_type": "stream",
     "text": [
      "[INFO] Keeping all rows: 89710 rows retained.\n"
     ]
    },
    {
     "name": "stdout",
     "output_type": "stream",
     "text": [
      "[INFO] Keeping all rows: 89710 rows retained.\n"
     ]
    },
    {
     "name": "stdout",
     "output_type": "stream",
     "text": [
      "[INFO] Keeping all rows: 89710 rows retained.\n"
     ]
    },
    {
     "data": {
      "text/html": [
       "<div>\n",
       "<style scoped>\n",
       "    .dataframe tbody tr th:only-of-type {\n",
       "        vertical-align: middle;\n",
       "    }\n",
       "\n",
       "    .dataframe tbody tr th {\n",
       "        vertical-align: top;\n",
       "    }\n",
       "\n",
       "    .dataframe thead th {\n",
       "        text-align: right;\n",
       "    }\n",
       "</style>\n",
       "<table border=\"1\" class=\"dataframe\">\n",
       "  <thead>\n",
       "    <tr style=\"text-align: right;\">\n",
       "      <th></th>\n",
       "      <th>run_no</th>\n",
       "      <th>universe_id</th>\n",
       "      <th>universe_settings</th>\n",
       "      <th>execution_time</th>\n",
       "      <th>test_size_n</th>\n",
       "      <th>test_size_frac</th>\n",
       "      <th>fair_main_equalized_odds_difference</th>\n",
       "      <th>fair_main_equalized_odds_ratio</th>\n",
       "      <th>fair_main_demographic_parity_difference</th>\n",
       "      <th>fair_main_demographic_parity_ratio</th>\n",
       "      <th>...</th>\n",
       "      <th>perf_grp_precision_0</th>\n",
       "      <th>perf_grp_precision_1</th>\n",
       "      <th>perf_grp_false positive rate_0</th>\n",
       "      <th>perf_grp_false positive rate_1</th>\n",
       "      <th>perf_grp_false negative rate_0</th>\n",
       "      <th>perf_grp_false negative rate_1</th>\n",
       "      <th>perf_grp_selection rate_0</th>\n",
       "      <th>perf_grp_selection rate_1</th>\n",
       "      <th>perf_grp_count_0</th>\n",
       "      <th>perf_grp_count_1</th>\n",
       "    </tr>\n",
       "  </thead>\n",
       "  <tbody>\n",
       "    <tr>\n",
       "      <th>0</th>\n",
       "      <td>3</td>\n",
       "      <td>a31636c44c50ff74364fe70fa0299daf</td>\n",
       "      <td>{\"cutoff\": \"quantile_0.1\", \"eval_fairness_grou...</td>\n",
       "      <td>21.099754</td>\n",
       "      <td>89710</td>\n",
       "      <td>1.0</td>\n",
       "      <td>0.065108</td>\n",
       "      <td>0.930807</td>\n",
       "      <td>0.059228</td>\n",
       "      <td>0.937369</td>\n",
       "      <td>...</td>\n",
       "      <td>NaN</td>\n",
       "      <td>NaN</td>\n",
       "      <td>NaN</td>\n",
       "      <td>NaN</td>\n",
       "      <td>NaN</td>\n",
       "      <td>NaN</td>\n",
       "      <td>NaN</td>\n",
       "      <td>NaN</td>\n",
       "      <td>NaN</td>\n",
       "      <td>NaN</td>\n",
       "    </tr>\n",
       "    <tr>\n",
       "      <th>0</th>\n",
       "      <td>3</td>\n",
       "      <td>a31636c44c50ff74364fe70fa0299daf</td>\n",
       "      <td>{\"cutoff\": \"quantile_0.1\", \"eval_fairness_grou...</td>\n",
       "      <td>21.099754</td>\n",
       "      <td>89710</td>\n",
       "      <td>1.0</td>\n",
       "      <td>0.065108</td>\n",
       "      <td>0.930807</td>\n",
       "      <td>0.059228</td>\n",
       "      <td>0.937369</td>\n",
       "      <td>...</td>\n",
       "      <td>0.119697</td>\n",
       "      <td>0.14251</td>\n",
       "      <td>0.940953</td>\n",
       "      <td>0.875845</td>\n",
       "      <td>0.018159</td>\n",
       "      <td>0.043982</td>\n",
       "      <td>0.945667</td>\n",
       "      <td>0.886439</td>\n",
       "      <td>20540.0</td>\n",
       "      <td>69170.0</td>\n",
       "    </tr>\n",
       "    <tr>\n",
       "      <th>0</th>\n",
       "      <td>3</td>\n",
       "      <td>a31636c44c50ff74364fe70fa0299daf</td>\n",
       "      <td>{\"cutoff\": \"quantile_0.25\", \"eval_fairness_gro...</td>\n",
       "      <td>21.099754</td>\n",
       "      <td>89710</td>\n",
       "      <td>1.0</td>\n",
       "      <td>0.141802</td>\n",
       "      <td>0.831028</td>\n",
       "      <td>0.129197</td>\n",
       "      <td>0.847934</td>\n",
       "      <td>...</td>\n",
       "      <td>NaN</td>\n",
       "      <td>NaN</td>\n",
       "      <td>NaN</td>\n",
       "      <td>NaN</td>\n",
       "      <td>NaN</td>\n",
       "      <td>NaN</td>\n",
       "      <td>NaN</td>\n",
       "      <td>NaN</td>\n",
       "      <td>NaN</td>\n",
       "      <td>NaN</td>\n",
       "    </tr>\n",
       "    <tr>\n",
       "      <th>0</th>\n",
       "      <td>3</td>\n",
       "      <td>a31636c44c50ff74364fe70fa0299daf</td>\n",
       "      <td>{\"cutoff\": \"quantile_0.25\", \"eval_fairness_gro...</td>\n",
       "      <td>21.099754</td>\n",
       "      <td>89710</td>\n",
       "      <td>1.0</td>\n",
       "      <td>0.141802</td>\n",
       "      <td>0.831028</td>\n",
       "      <td>0.129197</td>\n",
       "      <td>0.847934</td>\n",
       "      <td>...</td>\n",
       "      <td>0.126125</td>\n",
       "      <td>0.15986</td>\n",
       "      <td>0.839203</td>\n",
       "      <td>0.697401</td>\n",
       "      <td>0.070524</td>\n",
       "      <td>0.128446</td>\n",
       "      <td>0.849611</td>\n",
       "      <td>0.720413</td>\n",
       "      <td>20540.0</td>\n",
       "      <td>69170.0</td>\n",
       "    </tr>\n",
       "  </tbody>\n",
       "</table>\n",
       "<p>4 rows × 50 columns</p>\n",
       "</div>"
      ],
      "text/plain": [
       "  run_no                       universe_id  \\\n",
       "0      3  a31636c44c50ff74364fe70fa0299daf   \n",
       "0      3  a31636c44c50ff74364fe70fa0299daf   \n",
       "0      3  a31636c44c50ff74364fe70fa0299daf   \n",
       "0      3  a31636c44c50ff74364fe70fa0299daf   \n",
       "\n",
       "                                   universe_settings  execution_time  \\\n",
       "0  {\"cutoff\": \"quantile_0.1\", \"eval_fairness_grou...       21.099754   \n",
       "0  {\"cutoff\": \"quantile_0.1\", \"eval_fairness_grou...       21.099754   \n",
       "0  {\"cutoff\": \"quantile_0.25\", \"eval_fairness_gro...       21.099754   \n",
       "0  {\"cutoff\": \"quantile_0.25\", \"eval_fairness_gro...       21.099754   \n",
       "\n",
       "   test_size_n  test_size_frac  fair_main_equalized_odds_difference  \\\n",
       "0        89710             1.0                             0.065108   \n",
       "0        89710             1.0                             0.065108   \n",
       "0        89710             1.0                             0.141802   \n",
       "0        89710             1.0                             0.141802   \n",
       "\n",
       "   fair_main_equalized_odds_ratio  fair_main_demographic_parity_difference  \\\n",
       "0                        0.930807                                 0.059228   \n",
       "0                        0.930807                                 0.059228   \n",
       "0                        0.831028                                 0.129197   \n",
       "0                        0.831028                                 0.129197   \n",
       "\n",
       "   fair_main_demographic_parity_ratio  ...  perf_grp_precision_0  \\\n",
       "0                            0.937369  ...                   NaN   \n",
       "0                            0.937369  ...              0.119697   \n",
       "0                            0.847934  ...                   NaN   \n",
       "0                            0.847934  ...              0.126125   \n",
       "\n",
       "   perf_grp_precision_1  perf_grp_false positive rate_0  \\\n",
       "0                   NaN                             NaN   \n",
       "0               0.14251                        0.940953   \n",
       "0                   NaN                             NaN   \n",
       "0               0.15986                        0.839203   \n",
       "\n",
       "   perf_grp_false positive rate_1  perf_grp_false negative rate_0  \\\n",
       "0                             NaN                             NaN   \n",
       "0                        0.875845                        0.018159   \n",
       "0                             NaN                             NaN   \n",
       "0                        0.697401                        0.070524   \n",
       "\n",
       "   perf_grp_false negative rate_1  perf_grp_selection rate_0  \\\n",
       "0                             NaN                        NaN   \n",
       "0                        0.043982                   0.945667   \n",
       "0                             NaN                        NaN   \n",
       "0                        0.128446                   0.849611   \n",
       "\n",
       "   perf_grp_selection rate_1  perf_grp_count_0  perf_grp_count_1  \n",
       "0                        NaN               NaN               NaN  \n",
       "0                   0.886439           20540.0           69170.0  \n",
       "0                        NaN               NaN               NaN  \n",
       "0                   0.720413           20540.0           69170.0  \n",
       "\n",
       "[4 rows x 50 columns]"
      ]
     },
     "execution_count": 64,
     "metadata": {},
     "output_type": "execute_result"
    }
   ],
   "source": [
    "final_output = universe_analysis.generate_final_output(\n",
    "    y_pred_prob=probs_test,\n",
    "    y_test=y_true,\n",
    "    org_test=org_test,\n",
    "    filter_data=filter_sub_universe_data,\n",
    "    cp_metrics_df=cp_metrics_df,\n",
    "    save=True,\n",
    ")\n",
    "final_output"
   ]
  },
  {
   "cell_type": "code",
   "execution_count": null,
   "id": "8b80a1ff",
   "metadata": {
    "papermill": {
     "duration": 0.014751,
     "end_time": "2025-08-19T19:00:40.842526",
     "exception": false,
     "start_time": "2025-08-19T19:00:40.827775",
     "status": "completed"
    },
    "tags": []
   },
   "outputs": [],
   "source": []
  },
  {
   "cell_type": "code",
   "execution_count": null,
   "id": "275c9fad",
   "metadata": {
    "papermill": {
     "duration": 0.014971,
     "end_time": "2025-08-19T19:00:40.893183",
     "exception": false,
     "start_time": "2025-08-19T19:00:40.878212",
     "status": "completed"
    },
    "tags": []
   },
   "outputs": [],
   "source": []
  }
 ],
 "metadata": {
  "celltoolbar": "Tags",
  "kernelspec": {
   "display_name": "Python (CMA Fairness)",
   "language": "python",
   "name": "cma_fair_env"
  },
  "language_info": {
   "codemirror_mode": {
    "name": "ipython",
    "version": 3
   },
   "file_extension": ".py",
   "mimetype": "text/x-python",
   "name": "python",
   "nbconvert_exporter": "python",
   "pygments_lexer": "ipython3",
   "version": "3.10.12"
  },
  "papermill": {
   "default_parameters": {},
   "duration": 31.870079,
   "end_time": "2025-08-19T19:00:41.732431",
   "environment_variables": {},
   "exception": null,
   "input_path": "universe_analysis.ipynb",
   "output_path": "output/runs/3/notebooks/m_3-a31636c44c50ff74364fe70fa0299daf.ipynb",
   "parameters": {
    "output_dir": "output",
    "run_no": "3",
    "seed": "2023",
    "universe": "{\"cutoff\": [\"quantile_0.1\", \"quantile_0.25\"], \"eval_fairness_grouping\": [\"majority-minority\", \"nationality-all\"], \"exclude_features\": \"sex\", \"exclude_subgroups\": \"drop-non-german\", \"model\": \"elasticnet\", \"scale\": \"scale\", \"training_size\": \"1k\", \"training_year\": \"2012_14\"}",
    "universe_id": "a31636c44c50ff74364fe70fa0299daf"
   },
   "start_time": "2025-08-19T19:00:09.862352",
   "version": "2.6.0"
  }
 },
 "nbformat": 4,
 "nbformat_minor": 5
}