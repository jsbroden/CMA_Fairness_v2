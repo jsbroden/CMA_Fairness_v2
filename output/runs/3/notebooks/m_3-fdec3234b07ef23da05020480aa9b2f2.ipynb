{
 "cells": [
  {
   "cell_type": "markdown",
   "id": "ef23dbb3",
   "metadata": {
    "papermill": {
     "duration": 0.022109,
     "end_time": "2025-08-19T18:32:48.257863",
     "exception": false,
     "start_time": "2025-08-19T18:32:48.235754",
     "status": "completed"
    },
    "tags": []
   },
   "source": [
    "# Setup"
   ]
  },
  {
   "cell_type": "code",
   "execution_count": 1,
   "id": "0bc8e7dc",
   "metadata": {
    "execution": {
     "iopub.execute_input": "2025-08-19T18:32:48.282298Z",
     "iopub.status.busy": "2025-08-19T18:32:48.281266Z",
     "iopub.status.idle": "2025-08-19T18:32:48.302161Z",
     "shell.execute_reply": "2025-08-19T18:32:48.300679Z"
    },
    "papermill": {
     "duration": 0.035929,
     "end_time": "2025-08-19T18:32:48.305870",
     "exception": false,
     "start_time": "2025-08-19T18:32:48.269941",
     "status": "completed"
    },
    "tags": []
   },
   "outputs": [
    {
     "name": "stdout",
     "output_type": "stream",
     "text": [
      "/dss/dsshome1/0C/ra93lal2/cma/CMA_Fairness_v2\n"
     ]
    },
    {
     "name": "stderr",
     "output_type": "stream",
     "text": [
      "/dss/dsshome1/0C/ra93lal2/.local/share/virtualenvs/CMA_Fairness_v2-3j10GkSs/lib/python3.10/site-packages/IPython/core/magics/osm.py:393: UserWarning: This is now an optional IPython functionality, using bookmarks requires you to install the `pickleshare` library.\n",
      "  bkms = self.shell.db.get('bookmarks', {})\n",
      "/dss/dsshome1/0C/ra93lal2/.local/share/virtualenvs/CMA_Fairness_v2-3j10GkSs/lib/python3.10/site-packages/IPython/core/magics/osm.py:417: UserWarning: This is now an optional IPython functionality, setting dhist requires you to install the `pickleshare` library.\n",
      "  self.shell.db['dhist'] = compress_dhist(dhist)[-100:]\n"
     ]
    }
   ],
   "source": [
    "%cd ~/cma/CMA_Fairness_v2"
   ]
  },
  {
   "cell_type": "markdown",
   "id": "9d235661",
   "metadata": {
    "papermill": {
     "duration": 0.008772,
     "end_time": "2025-08-19T18:32:48.327370",
     "exception": false,
     "start_time": "2025-08-19T18:32:48.318598",
     "status": "completed"
    },
    "tags": []
   },
   "source": [
    "The following cell holds the definition of our parameters, these values can be overriden by rendering the with e.g. the following command:\n",
    "\n",
    "papermill -p alpha 0.2 -p ratio 0.3 universe_analysis.ipynb output/test_run.ipynb"
   ]
  },
  {
   "cell_type": "code",
   "execution_count": 2,
   "id": "4a789d8e",
   "metadata": {
    "execution": {
     "iopub.execute_input": "2025-08-19T18:32:48.347737Z",
     "iopub.status.busy": "2025-08-19T18:32:48.347017Z",
     "iopub.status.idle": "2025-08-19T18:32:48.355373Z",
     "shell.execute_reply": "2025-08-19T18:32:48.354754Z"
    },
    "papermill": {
     "duration": 0.021046,
     "end_time": "2025-08-19T18:32:48.357571",
     "exception": false,
     "start_time": "2025-08-19T18:32:48.336525",
     "status": "completed"
    },
    "tags": []
   },
   "outputs": [
    {
     "name": "stdout",
     "output_type": "stream",
     "text": [
      "Current working directory: /dss/dsshome1/0C/ra93lal2/cma/CMA_Fairness_v2\n"
     ]
    }
   ],
   "source": [
    "import os\n",
    "print(\"Current working directory:\", os.getcwd())"
   ]
  },
  {
   "cell_type": "code",
   "execution_count": 3,
   "id": "4132aaed",
   "metadata": {
    "execution": {
     "iopub.execute_input": "2025-08-19T18:32:48.378294Z",
     "iopub.status.busy": "2025-08-19T18:32:48.377839Z",
     "iopub.status.idle": "2025-08-19T18:32:48.382815Z",
     "shell.execute_reply": "2025-08-19T18:32:48.382202Z"
    },
    "papermill": {
     "duration": 0.01654,
     "end_time": "2025-08-19T18:32:48.384662",
     "exception": false,
     "start_time": "2025-08-19T18:32:48.368122",
     "status": "completed"
    },
    "tags": [
     "parameters"
    ]
   },
   "outputs": [],
   "source": [
    "run_no = 0\n",
    "universe_id = \"test\"\n",
    "universe = {\n",
    "    \"training_size\": \"5k\", # \"25k\", \"5k\", \"1k\"\n",
    "    \"training_year\": \"2012_14\", # \"2014\", \"2012_14\", \"2010_14\"\n",
    "    \"scale\": \"scale\", # \"scale\", \"do-not-scale\",\n",
    "    \"model\": \"elasticnet\", # \"logreg\", \"penalized_logreg\", \"rf\", \"gbm\", \"elasticnet\"\n",
    "    \"cutoff\": [\"quantile_0.15\", \"quantile_0.30\"],\n",
    "    \"exclude_features\": \"age\", # \"none\", \"nationality\", \"sex\", \"nationality-sex\", \"age\"\n",
    "    \"exclude_subgroups\": \"drop-non-german\", # \"keep-all\", \"drop-non-german\"\n",
    "    \"eval_fairness_grouping\": [\"majority-minority\", \"nationality-all\"]\n",
    "}\n",
    "\n",
    "output_dir=\"./output\"\n",
    "seed=0"
   ]
  },
  {
   "cell_type": "code",
   "execution_count": 4,
   "id": "134d3884",
   "metadata": {
    "execution": {
     "iopub.execute_input": "2025-08-19T18:32:48.404914Z",
     "iopub.status.busy": "2025-08-19T18:32:48.404457Z",
     "iopub.status.idle": "2025-08-19T18:32:48.409369Z",
     "shell.execute_reply": "2025-08-19T18:32:48.408491Z"
    },
    "papermill": {
     "duration": 0.017204,
     "end_time": "2025-08-19T18:32:48.411516",
     "exception": false,
     "start_time": "2025-08-19T18:32:48.394312",
     "status": "completed"
    },
    "tags": [
     "injected-parameters"
    ]
   },
   "outputs": [],
   "source": [
    "# Parameters\n",
    "universe_id = \"fdec3234b07ef23da05020480aa9b2f2\"\n",
    "run_no = \"3\"\n",
    "universe = \"{\\\"cutoff\\\": [\\\"quantile_0.1\\\", \\\"quantile_0.25\\\"], \\\"eval_fairness_grouping\\\": [\\\"majority-minority\\\", \\\"nationality-all\\\"], \\\"exclude_features\\\": \\\"sex\\\", \\\"exclude_subgroups\\\": \\\"drop-non-german\\\", \\\"model\\\": \\\"rf\\\", \\\"scale\\\": \\\"scale\\\", \\\"training_size\\\": \\\"5k\\\", \\\"training_year\\\": \\\"2012_14\\\"}\"\n",
    "output_dir = \"output\"\n",
    "seed = \"2023\"\n"
   ]
  },
  {
   "cell_type": "code",
   "execution_count": 5,
   "id": "a5d7941f",
   "metadata": {
    "execution": {
     "iopub.execute_input": "2025-08-19T18:32:48.435740Z",
     "iopub.status.busy": "2025-08-19T18:32:48.434894Z",
     "iopub.status.idle": "2025-08-19T18:32:48.441119Z",
     "shell.execute_reply": "2025-08-19T18:32:48.439817Z"
    },
    "papermill": {
     "duration": 0.019454,
     "end_time": "2025-08-19T18:32:48.442603",
     "exception": false,
     "start_time": "2025-08-19T18:32:48.423149",
     "status": "completed"
    },
    "tags": []
   },
   "outputs": [],
   "source": [
    "import json\n",
    "if isinstance(universe, str):\n",
    "    universe = json.loads(universe)"
   ]
  },
  {
   "cell_type": "code",
   "execution_count": 6,
   "id": "7076ccb1",
   "metadata": {
    "execution": {
     "iopub.execute_input": "2025-08-19T18:32:48.465024Z",
     "iopub.status.busy": "2025-08-19T18:32:48.463911Z",
     "iopub.status.idle": "2025-08-19T18:32:48.514799Z",
     "shell.execute_reply": "2025-08-19T18:32:48.514118Z"
    },
    "papermill": {
     "duration": 0.064599,
     "end_time": "2025-08-19T18:32:48.517643",
     "exception": false,
     "start_time": "2025-08-19T18:32:48.453044",
     "status": "completed"
    },
    "tags": []
   },
   "outputs": [],
   "source": [
    "# Auto-reload the custom package\n",
    "%load_ext autoreload\n",
    "%autoreload 1\n",
    "%aimport fairness_multiverse"
   ]
  },
  {
   "cell_type": "code",
   "execution_count": 7,
   "id": "94c8eb93",
   "metadata": {
    "execution": {
     "iopub.execute_input": "2025-08-19T18:32:48.553770Z",
     "iopub.status.busy": "2025-08-19T18:32:48.552682Z",
     "iopub.status.idle": "2025-08-19T18:32:50.174191Z",
     "shell.execute_reply": "2025-08-19T18:32:50.172706Z"
    },
    "papermill": {
     "duration": 1.636523,
     "end_time": "2025-08-19T18:32:50.175906",
     "exception": false,
     "start_time": "2025-08-19T18:32:48.539383",
     "status": "completed"
    },
    "tags": []
   },
   "outputs": [],
   "source": [
    "from fairness_multiverse.universe import UniverseAnalysis\n",
    "\n",
    "universe_analysis = UniverseAnalysis(\n",
    "    run_no = run_no,\n",
    "    universe_id = universe_id,\n",
    "    universe = universe,\n",
    "    output_dir=output_dir,\n",
    ")"
   ]
  },
  {
   "cell_type": "code",
   "execution_count": 8,
   "id": "2a6381cf",
   "metadata": {
    "execution": {
     "iopub.execute_input": "2025-08-19T18:32:50.205474Z",
     "iopub.status.busy": "2025-08-19T18:32:50.204063Z",
     "iopub.status.idle": "2025-08-19T18:32:50.213152Z",
     "shell.execute_reply": "2025-08-19T18:32:50.212378Z"
    },
    "papermill": {
     "duration": 0.024812,
     "end_time": "2025-08-19T18:32:50.214905",
     "exception": false,
     "start_time": "2025-08-19T18:32:50.190093",
     "status": "completed"
    },
    "tags": []
   },
   "outputs": [
    {
     "name": "stdout",
     "output_type": "stream",
     "text": [
      "Using Seed: 2023\n"
     ]
    }
   ],
   "source": [
    "import numpy as np\n",
    "parsed_seed = int(seed)\n",
    "np.random.seed(parsed_seed)\n",
    "print(f\"Using Seed: {parsed_seed}\")"
   ]
  },
  {
   "cell_type": "markdown",
   "id": "b6e958b4",
   "metadata": {
    "papermill": {
     "duration": 0.009136,
     "end_time": "2025-08-19T18:32:50.234591",
     "exception": false,
     "start_time": "2025-08-19T18:32:50.225455",
     "status": "completed"
    },
    "tags": []
   },
   "source": [
    "# Loading Data"
   ]
  },
  {
   "cell_type": "code",
   "execution_count": 9,
   "id": "98701482",
   "metadata": {
    "execution": {
     "iopub.execute_input": "2025-08-19T18:32:50.254855Z",
     "iopub.status.busy": "2025-08-19T18:32:50.253890Z",
     "iopub.status.idle": "2025-08-19T18:33:00.501538Z",
     "shell.execute_reply": "2025-08-19T18:33:00.500191Z"
    },
    "papermill": {
     "duration": 10.259395,
     "end_time": "2025-08-19T18:33:00.503089",
     "exception": false,
     "start_time": "2025-08-19T18:32:50.243694",
     "status": "completed"
    },
    "tags": []
   },
   "outputs": [
    {
     "name": "stdout",
     "output_type": "stream",
     "text": [
      "Loading SIAB data from cache: data/siab_cached.csv.gz\n"
     ]
    },
    {
     "name": "stdout",
     "output_type": "stream",
     "text": [
      "(643690, 164)\n"
     ]
    }
   ],
   "source": [
    "from pathlib import Path\n",
    "import pandas as pd\n",
    "\n",
    "# File paths\n",
    "raw_file = Path(\"data/raw/siab.csv\")\n",
    "cache_file = Path(\"data/siab_cached.csv.gz\")\n",
    "\n",
    "# Ensure cache directory exists\n",
    "cache_file.parent.mkdir(parents=True, exist_ok=True)\n",
    "\n",
    "# Load with simple caching\n",
    "if cache_file.exists():\n",
    "    print(f\"Loading SIAB data from cache: {cache_file}\")\n",
    "    siab = pd.read_csv(cache_file, compression='gzip')\n",
    "else:\n",
    "    print(f\"Cache not found. Reading raw SIAB data: {raw_file}\")\n",
    "    siab = pd.read_csv(raw_file)\n",
    "    siab.to_csv(cache_file, index=False, compression='gzip')\n",
    "    print(f\"Cached SIAB data to: {cache_file}\")\n",
    "\n",
    "print(siab.shape)"
   ]
  },
  {
   "cell_type": "code",
   "execution_count": 10,
   "id": "058d2abb",
   "metadata": {
    "execution": {
     "iopub.execute_input": "2025-08-19T18:33:00.543612Z",
     "iopub.status.busy": "2025-08-19T18:33:00.542069Z",
     "iopub.status.idle": "2025-08-19T18:33:00.758968Z",
     "shell.execute_reply": "2025-08-19T18:33:00.758105Z"
    },
    "papermill": {
     "duration": 0.242879,
     "end_time": "2025-08-19T18:33:00.760280",
     "exception": false,
     "start_time": "2025-08-19T18:33:00.517401",
     "status": "completed"
    },
    "tags": []
   },
   "outputs": [
    {
     "data": {
      "text/html": [
       "<div>\n",
       "<style scoped>\n",
       "    .dataframe tbody tr th:only-of-type {\n",
       "        vertical-align: middle;\n",
       "    }\n",
       "\n",
       "    .dataframe tbody tr th {\n",
       "        vertical-align: top;\n",
       "    }\n",
       "\n",
       "    .dataframe thead th {\n",
       "        text-align: right;\n",
       "    }\n",
       "</style>\n",
       "<table border=\"1\" class=\"dataframe\">\n",
       "  <thead>\n",
       "    <tr style=\"text-align: right;\">\n",
       "      <th></th>\n",
       "      <th>persnr</th>\n",
       "      <th>year</th>\n",
       "      <th>nrEntry</th>\n",
       "      <th>ltue</th>\n",
       "      <th>employed_before</th>\n",
       "      <th>receipt_leh_before</th>\n",
       "      <th>receipt_lhg_before</th>\n",
       "      <th>se_before</th>\n",
       "      <th>ASU_notue_seeking_before</th>\n",
       "      <th>ASU_other_before</th>\n",
       "      <th>...</th>\n",
       "      <th>minijob_tot_dur_byage</th>\n",
       "      <th>ft_tot_dur_byage</th>\n",
       "      <th>befrist_tot_dur_byage</th>\n",
       "      <th>leih_tot_dur_byage</th>\n",
       "      <th>LHG_tot_dur_byage</th>\n",
       "      <th>LEH_tot_dur_byage</th>\n",
       "      <th>almp_tot_dur_byage</th>\n",
       "      <th>almp_aw_tot_dur_byage</th>\n",
       "      <th>se_tot_dur_byage</th>\n",
       "      <th>seeking1_tot_dur_byage</th>\n",
       "    </tr>\n",
       "  </thead>\n",
       "  <tbody>\n",
       "    <tr>\n",
       "      <th>0</th>\n",
       "      <td>7</td>\n",
       "      <td>2015</td>\n",
       "      <td>1</td>\n",
       "      <td>0</td>\n",
       "      <td>1</td>\n",
       "      <td>0</td>\n",
       "      <td>0</td>\n",
       "      <td>0</td>\n",
       "      <td>1</td>\n",
       "      <td>0</td>\n",
       "      <td>...</td>\n",
       "      <td>0.000000</td>\n",
       "      <td>0.000000</td>\n",
       "      <td>15.043478</td>\n",
       "      <td>0.000000</td>\n",
       "      <td>0.000000</td>\n",
       "      <td>0.000000</td>\n",
       "      <td>0.000000</td>\n",
       "      <td>0.000000</td>\n",
       "      <td>0.000000</td>\n",
       "      <td>0.000000</td>\n",
       "    </tr>\n",
       "    <tr>\n",
       "      <th>1</th>\n",
       "      <td>18</td>\n",
       "      <td>2010</td>\n",
       "      <td>1</td>\n",
       "      <td>1</td>\n",
       "      <td>0</td>\n",
       "      <td>0</td>\n",
       "      <td>0</td>\n",
       "      <td>0</td>\n",
       "      <td>0</td>\n",
       "      <td>0</td>\n",
       "      <td>...</td>\n",
       "      <td>0.000000</td>\n",
       "      <td>0.000000</td>\n",
       "      <td>0.000000</td>\n",
       "      <td>0.000000</td>\n",
       "      <td>0.000000</td>\n",
       "      <td>0.000000</td>\n",
       "      <td>0.000000</td>\n",
       "      <td>0.000000</td>\n",
       "      <td>0.000000</td>\n",
       "      <td>0.000000</td>\n",
       "    </tr>\n",
       "    <tr>\n",
       "      <th>2</th>\n",
       "      <td>18</td>\n",
       "      <td>2011</td>\n",
       "      <td>2</td>\n",
       "      <td>0</td>\n",
       "      <td>1</td>\n",
       "      <td>0</td>\n",
       "      <td>1</td>\n",
       "      <td>0</td>\n",
       "      <td>1</td>\n",
       "      <td>0</td>\n",
       "      <td>...</td>\n",
       "      <td>2.714286</td>\n",
       "      <td>2.714286</td>\n",
       "      <td>0.000000</td>\n",
       "      <td>0.000000</td>\n",
       "      <td>10.775510</td>\n",
       "      <td>0.000000</td>\n",
       "      <td>8.367347</td>\n",
       "      <td>0.000000</td>\n",
       "      <td>0.000000</td>\n",
       "      <td>9.836735</td>\n",
       "    </tr>\n",
       "    <tr>\n",
       "      <th>3</th>\n",
       "      <td>18</td>\n",
       "      <td>2012</td>\n",
       "      <td>3</td>\n",
       "      <td>0</td>\n",
       "      <td>1</td>\n",
       "      <td>0</td>\n",
       "      <td>1</td>\n",
       "      <td>0</td>\n",
       "      <td>1</td>\n",
       "      <td>0</td>\n",
       "      <td>...</td>\n",
       "      <td>4.200000</td>\n",
       "      <td>4.200000</td>\n",
       "      <td>0.000000</td>\n",
       "      <td>0.000000</td>\n",
       "      <td>12.100000</td>\n",
       "      <td>0.000000</td>\n",
       "      <td>9.400000</td>\n",
       "      <td>0.000000</td>\n",
       "      <td>0.000000</td>\n",
       "      <td>9.960000</td>\n",
       "    </tr>\n",
       "    <tr>\n",
       "      <th>4</th>\n",
       "      <td>18</td>\n",
       "      <td>2012</td>\n",
       "      <td>4</td>\n",
       "      <td>0</td>\n",
       "      <td>1</td>\n",
       "      <td>0</td>\n",
       "      <td>1</td>\n",
       "      <td>0</td>\n",
       "      <td>1</td>\n",
       "      <td>0</td>\n",
       "      <td>...</td>\n",
       "      <td>5.460000</td>\n",
       "      <td>5.460000</td>\n",
       "      <td>0.000000</td>\n",
       "      <td>0.000000</td>\n",
       "      <td>13.360000</td>\n",
       "      <td>0.000000</td>\n",
       "      <td>10.320000</td>\n",
       "      <td>0.000000</td>\n",
       "      <td>0.000000</td>\n",
       "      <td>10.280000</td>\n",
       "    </tr>\n",
       "    <tr>\n",
       "      <th>...</th>\n",
       "      <td>...</td>\n",
       "      <td>...</td>\n",
       "      <td>...</td>\n",
       "      <td>...</td>\n",
       "      <td>...</td>\n",
       "      <td>...</td>\n",
       "      <td>...</td>\n",
       "      <td>...</td>\n",
       "      <td>...</td>\n",
       "      <td>...</td>\n",
       "      <td>...</td>\n",
       "      <td>...</td>\n",
       "      <td>...</td>\n",
       "      <td>...</td>\n",
       "      <td>...</td>\n",
       "      <td>...</td>\n",
       "      <td>...</td>\n",
       "      <td>...</td>\n",
       "      <td>...</td>\n",
       "      <td>...</td>\n",
       "      <td>...</td>\n",
       "    </tr>\n",
       "    <tr>\n",
       "      <th>643685</th>\n",
       "      <td>1827860</td>\n",
       "      <td>2013</td>\n",
       "      <td>1</td>\n",
       "      <td>0</td>\n",
       "      <td>0</td>\n",
       "      <td>0</td>\n",
       "      <td>1</td>\n",
       "      <td>0</td>\n",
       "      <td>0</td>\n",
       "      <td>1</td>\n",
       "      <td>...</td>\n",
       "      <td>0.000000</td>\n",
       "      <td>0.000000</td>\n",
       "      <td>0.000000</td>\n",
       "      <td>0.000000</td>\n",
       "      <td>0.612903</td>\n",
       "      <td>0.000000</td>\n",
       "      <td>0.000000</td>\n",
       "      <td>0.000000</td>\n",
       "      <td>0.000000</td>\n",
       "      <td>0.000000</td>\n",
       "    </tr>\n",
       "    <tr>\n",
       "      <th>643686</th>\n",
       "      <td>1827860</td>\n",
       "      <td>2015</td>\n",
       "      <td>2</td>\n",
       "      <td>1</td>\n",
       "      <td>0</td>\n",
       "      <td>0</td>\n",
       "      <td>1</td>\n",
       "      <td>0</td>\n",
       "      <td>1</td>\n",
       "      <td>0</td>\n",
       "      <td>...</td>\n",
       "      <td>0.000000</td>\n",
       "      <td>0.000000</td>\n",
       "      <td>0.212121</td>\n",
       "      <td>0.212121</td>\n",
       "      <td>17.363636</td>\n",
       "      <td>0.000000</td>\n",
       "      <td>8.909091</td>\n",
       "      <td>0.000000</td>\n",
       "      <td>0.000000</td>\n",
       "      <td>7.121212</td>\n",
       "    </tr>\n",
       "    <tr>\n",
       "      <th>643687</th>\n",
       "      <td>1827860</td>\n",
       "      <td>2016</td>\n",
       "      <td>3</td>\n",
       "      <td>1</td>\n",
       "      <td>0</td>\n",
       "      <td>0</td>\n",
       "      <td>1</td>\n",
       "      <td>1</td>\n",
       "      <td>0</td>\n",
       "      <td>1</td>\n",
       "      <td>...</td>\n",
       "      <td>0.000000</td>\n",
       "      <td>0.000000</td>\n",
       "      <td>0.294118</td>\n",
       "      <td>0.205882</td>\n",
       "      <td>34.705882</td>\n",
       "      <td>0.000000</td>\n",
       "      <td>10.352941</td>\n",
       "      <td>1.705882</td>\n",
       "      <td>1.705882</td>\n",
       "      <td>23.911765</td>\n",
       "    </tr>\n",
       "    <tr>\n",
       "      <th>643688</th>\n",
       "      <td>1827869</td>\n",
       "      <td>2013</td>\n",
       "      <td>1</td>\n",
       "      <td>1</td>\n",
       "      <td>1</td>\n",
       "      <td>0</td>\n",
       "      <td>0</td>\n",
       "      <td>0</td>\n",
       "      <td>1</td>\n",
       "      <td>0</td>\n",
       "      <td>...</td>\n",
       "      <td>0.000000</td>\n",
       "      <td>0.000000</td>\n",
       "      <td>0.000000</td>\n",
       "      <td>0.000000</td>\n",
       "      <td>0.000000</td>\n",
       "      <td>0.525424</td>\n",
       "      <td>0.000000</td>\n",
       "      <td>0.000000</td>\n",
       "      <td>0.000000</td>\n",
       "      <td>0.000000</td>\n",
       "    </tr>\n",
       "    <tr>\n",
       "      <th>643689</th>\n",
       "      <td>1827869</td>\n",
       "      <td>2014</td>\n",
       "      <td>2</td>\n",
       "      <td>0</td>\n",
       "      <td>0</td>\n",
       "      <td>1</td>\n",
       "      <td>0</td>\n",
       "      <td>0</td>\n",
       "      <td>1</td>\n",
       "      <td>0</td>\n",
       "      <td>...</td>\n",
       "      <td>0.000000</td>\n",
       "      <td>0.666667</td>\n",
       "      <td>0.666667</td>\n",
       "      <td>0.000000</td>\n",
       "      <td>0.000000</td>\n",
       "      <td>8.950000</td>\n",
       "      <td>1.033333</td>\n",
       "      <td>0.083333</td>\n",
       "      <td>0.083333</td>\n",
       "      <td>8.133333</td>\n",
       "    </tr>\n",
       "  </tbody>\n",
       "</table>\n",
       "<p>643690 rows × 164 columns</p>\n",
       "</div>"
      ],
      "text/plain": [
       "         persnr  year  nrEntry  ltue  employed_before  receipt_leh_before  \\\n",
       "0             7  2015        1     0                1                   0   \n",
       "1            18  2010        1     1                0                   0   \n",
       "2            18  2011        2     0                1                   0   \n",
       "3            18  2012        3     0                1                   0   \n",
       "4            18  2012        4     0                1                   0   \n",
       "...         ...   ...      ...   ...              ...                 ...   \n",
       "643685  1827860  2013        1     0                0                   0   \n",
       "643686  1827860  2015        2     1                0                   0   \n",
       "643687  1827860  2016        3     1                0                   0   \n",
       "643688  1827869  2013        1     1                1                   0   \n",
       "643689  1827869  2014        2     0                0                   1   \n",
       "\n",
       "        receipt_lhg_before  se_before  ASU_notue_seeking_before  \\\n",
       "0                        0          0                         1   \n",
       "1                        0          0                         0   \n",
       "2                        1          0                         1   \n",
       "3                        1          0                         1   \n",
       "4                        1          0                         1   \n",
       "...                    ...        ...                       ...   \n",
       "643685                   1          0                         0   \n",
       "643686                   1          0                         1   \n",
       "643687                   1          1                         0   \n",
       "643688                   0          0                         1   \n",
       "643689                   0          0                         1   \n",
       "\n",
       "        ASU_other_before  ...  minijob_tot_dur_byage  ft_tot_dur_byage  \\\n",
       "0                      0  ...               0.000000          0.000000   \n",
       "1                      0  ...               0.000000          0.000000   \n",
       "2                      0  ...               2.714286          2.714286   \n",
       "3                      0  ...               4.200000          4.200000   \n",
       "4                      0  ...               5.460000          5.460000   \n",
       "...                  ...  ...                    ...               ...   \n",
       "643685                 1  ...               0.000000          0.000000   \n",
       "643686                 0  ...               0.000000          0.000000   \n",
       "643687                 1  ...               0.000000          0.000000   \n",
       "643688                 0  ...               0.000000          0.000000   \n",
       "643689                 0  ...               0.000000          0.666667   \n",
       "\n",
       "        befrist_tot_dur_byage  leih_tot_dur_byage  LHG_tot_dur_byage  \\\n",
       "0                   15.043478            0.000000           0.000000   \n",
       "1                    0.000000            0.000000           0.000000   \n",
       "2                    0.000000            0.000000          10.775510   \n",
       "3                    0.000000            0.000000          12.100000   \n",
       "4                    0.000000            0.000000          13.360000   \n",
       "...                       ...                 ...                ...   \n",
       "643685               0.000000            0.000000           0.612903   \n",
       "643686               0.212121            0.212121          17.363636   \n",
       "643687               0.294118            0.205882          34.705882   \n",
       "643688               0.000000            0.000000           0.000000   \n",
       "643689               0.666667            0.000000           0.000000   \n",
       "\n",
       "        LEH_tot_dur_byage  almp_tot_dur_byage  almp_aw_tot_dur_byage  \\\n",
       "0                0.000000            0.000000               0.000000   \n",
       "1                0.000000            0.000000               0.000000   \n",
       "2                0.000000            8.367347               0.000000   \n",
       "3                0.000000            9.400000               0.000000   \n",
       "4                0.000000           10.320000               0.000000   \n",
       "...                   ...                 ...                    ...   \n",
       "643685           0.000000            0.000000               0.000000   \n",
       "643686           0.000000            8.909091               0.000000   \n",
       "643687           0.000000           10.352941               1.705882   \n",
       "643688           0.525424            0.000000               0.000000   \n",
       "643689           8.950000            1.033333               0.083333   \n",
       "\n",
       "        se_tot_dur_byage  seeking1_tot_dur_byage  \n",
       "0               0.000000                0.000000  \n",
       "1               0.000000                0.000000  \n",
       "2               0.000000                9.836735  \n",
       "3               0.000000                9.960000  \n",
       "4               0.000000               10.280000  \n",
       "...                  ...                     ...  \n",
       "643685          0.000000                0.000000  \n",
       "643686          0.000000                7.121212  \n",
       "643687          1.705882               23.911765  \n",
       "643688          0.000000                0.000000  \n",
       "643689          0.083333                8.133333  \n",
       "\n",
       "[643690 rows x 164 columns]"
      ]
     },
     "execution_count": 10,
     "metadata": {},
     "output_type": "execute_result"
    }
   ],
   "source": [
    "siab"
   ]
  },
  {
   "cell_type": "markdown",
   "id": "1f87e805",
   "metadata": {
    "papermill": {
     "duration": 0.022856,
     "end_time": "2025-08-19T18:33:00.797053",
     "exception": false,
     "start_time": "2025-08-19T18:33:00.774197",
     "status": "completed"
    },
    "tags": []
   },
   "source": [
    "# Splitting Data and Setting Training Data Size"
   ]
  },
  {
   "cell_type": "code",
   "execution_count": 11,
   "id": "910ae358",
   "metadata": {
    "execution": {
     "iopub.execute_input": "2025-08-19T18:33:00.819813Z",
     "iopub.status.busy": "2025-08-19T18:33:00.818305Z",
     "iopub.status.idle": "2025-08-19T18:33:01.470817Z",
     "shell.execute_reply": "2025-08-19T18:33:01.469920Z"
    },
    "papermill": {
     "duration": 0.665614,
     "end_time": "2025-08-19T18:33:01.472449",
     "exception": false,
     "start_time": "2025-08-19T18:33:00.806835",
     "status": "completed"
    },
    "tags": []
   },
   "outputs": [],
   "source": [
    "from fairness_multiverse.universe import sample_by_year_size\n",
    "\n",
    "siab_train = sample_by_year_size(siab,\n",
    "                               training_year=universe[\"training_year\"],\n",
    "                               training_size=universe[\"training_size\"])"
   ]
  },
  {
   "cell_type": "code",
   "execution_count": 12,
   "id": "919c8ff5",
   "metadata": {
    "execution": {
     "iopub.execute_input": "2025-08-19T18:33:01.521257Z",
     "iopub.status.busy": "2025-08-19T18:33:01.519642Z",
     "iopub.status.idle": "2025-08-19T18:33:01.530509Z",
     "shell.execute_reply": "2025-08-19T18:33:01.529124Z"
    },
    "papermill": {
     "duration": 0.038778,
     "end_time": "2025-08-19T18:33:01.532372",
     "exception": false,
     "start_time": "2025-08-19T18:33:01.493594",
     "status": "completed"
    },
    "tags": []
   },
   "outputs": [
    {
     "data": {
      "text/plain": [
       "(5000, 164)"
      ]
     },
     "execution_count": 12,
     "metadata": {},
     "output_type": "execute_result"
    }
   ],
   "source": [
    "siab_train.shape"
   ]
  },
  {
   "cell_type": "code",
   "execution_count": 13,
   "id": "feb13bf4",
   "metadata": {
    "execution": {
     "iopub.execute_input": "2025-08-19T18:33:01.563038Z",
     "iopub.status.busy": "2025-08-19T18:33:01.561710Z",
     "iopub.status.idle": "2025-08-19T18:33:01.576559Z",
     "shell.execute_reply": "2025-08-19T18:33:01.575168Z"
    },
    "papermill": {
     "duration": 0.029395,
     "end_time": "2025-08-19T18:33:01.578247",
     "exception": false,
     "start_time": "2025-08-19T18:33:01.548852",
     "status": "completed"
    },
    "tags": []
   },
   "outputs": [
    {
     "data": {
      "text/plain": [
       "year\n",
       "2012    1667\n",
       "2013    1667\n",
       "2014    1666\n",
       "dtype: int64"
      ]
     },
     "metadata": {},
     "output_type": "display_data"
    }
   ],
   "source": [
    "display(siab_train.groupby(\"year\").size())"
   ]
  },
  {
   "cell_type": "code",
   "execution_count": 14,
   "id": "0997782f",
   "metadata": {
    "execution": {
     "iopub.execute_input": "2025-08-19T18:33:01.613873Z",
     "iopub.status.busy": "2025-08-19T18:33:01.611913Z",
     "iopub.status.idle": "2025-08-19T18:33:01.889244Z",
     "shell.execute_reply": "2025-08-19T18:33:01.888353Z"
    },
    "papermill": {
     "duration": 0.301858,
     "end_time": "2025-08-19T18:33:01.891128",
     "exception": false,
     "start_time": "2025-08-19T18:33:01.589270",
     "status": "completed"
    },
    "tags": []
   },
   "outputs": [],
   "source": [
    "#siab_train = siab_s[siab_s.year < 2015]\n",
    "siab_calib = siab[siab.year == 2015]\n",
    "siab_test = siab[siab.year == 2016]"
   ]
  },
  {
   "cell_type": "code",
   "execution_count": 15,
   "id": "2c1e4012",
   "metadata": {
    "execution": {
     "iopub.execute_input": "2025-08-19T18:33:01.916865Z",
     "iopub.status.busy": "2025-08-19T18:33:01.915358Z",
     "iopub.status.idle": "2025-08-19T18:33:01.922761Z",
     "shell.execute_reply": "2025-08-19T18:33:01.921558Z"
    },
    "papermill": {
     "duration": 0.021065,
     "end_time": "2025-08-19T18:33:01.924277",
     "exception": false,
     "start_time": "2025-08-19T18:33:01.903212",
     "status": "completed"
    },
    "tags": []
   },
   "outputs": [],
   "source": [
    "#siab_calib.shape"
   ]
  },
  {
   "cell_type": "code",
   "execution_count": 16,
   "id": "f66b54ca",
   "metadata": {
    "execution": {
     "iopub.execute_input": "2025-08-19T18:33:01.948753Z",
     "iopub.status.busy": "2025-08-19T18:33:01.947550Z",
     "iopub.status.idle": "2025-08-19T18:33:01.955159Z",
     "shell.execute_reply": "2025-08-19T18:33:01.953844Z"
    },
    "papermill": {
     "duration": 0.021206,
     "end_time": "2025-08-19T18:33:01.956686",
     "exception": false,
     "start_time": "2025-08-19T18:33:01.935480",
     "status": "completed"
    },
    "tags": []
   },
   "outputs": [],
   "source": [
    "#siab_test.shape"
   ]
  },
  {
   "cell_type": "code",
   "execution_count": 17,
   "id": "27e4384d",
   "metadata": {
    "execution": {
     "iopub.execute_input": "2025-08-19T18:33:01.982749Z",
     "iopub.status.busy": "2025-08-19T18:33:01.981618Z",
     "iopub.status.idle": "2025-08-19T18:33:01.994753Z",
     "shell.execute_reply": "2025-08-19T18:33:01.993730Z"
    },
    "papermill": {
     "duration": 0.026938,
     "end_time": "2025-08-19T18:33:01.996349",
     "exception": false,
     "start_time": "2025-08-19T18:33:01.969411",
     "status": "completed"
    },
    "tags": []
   },
   "outputs": [],
   "source": [
    "X_train = siab_train.iloc[:,4:164]\n",
    "y_train = siab_train.iloc[:, [3]]"
   ]
  },
  {
   "cell_type": "code",
   "execution_count": 18,
   "id": "08ee8389",
   "metadata": {
    "execution": {
     "iopub.execute_input": "2025-08-19T18:33:02.027423Z",
     "iopub.status.busy": "2025-08-19T18:33:02.026001Z",
     "iopub.status.idle": "2025-08-19T18:33:02.089961Z",
     "shell.execute_reply": "2025-08-19T18:33:02.089149Z"
    },
    "papermill": {
     "duration": 0.080213,
     "end_time": "2025-08-19T18:33:02.092703",
     "exception": false,
     "start_time": "2025-08-19T18:33:02.012490",
     "status": "completed"
    },
    "tags": []
   },
   "outputs": [],
   "source": [
    "X_calib = siab_calib.iloc[:,4:164]\n",
    "y_calib = siab_calib.iloc[:, [3]]"
   ]
  },
  {
   "cell_type": "code",
   "execution_count": 19,
   "id": "b7ff42e0",
   "metadata": {
    "execution": {
     "iopub.execute_input": "2025-08-19T18:33:02.130608Z",
     "iopub.status.busy": "2025-08-19T18:33:02.129576Z",
     "iopub.status.idle": "2025-08-19T18:33:02.208716Z",
     "shell.execute_reply": "2025-08-19T18:33:02.207859Z"
    },
    "papermill": {
     "duration": 0.095481,
     "end_time": "2025-08-19T18:33:02.211400",
     "exception": false,
     "start_time": "2025-08-19T18:33:02.115919",
     "status": "completed"
    },
    "tags": []
   },
   "outputs": [],
   "source": [
    "X_test = siab_test.iloc[:,4:164]\n",
    "y_true = siab_test.iloc[:, [3]]"
   ]
  },
  {
   "cell_type": "code",
   "execution_count": 20,
   "id": "0275101e",
   "metadata": {
    "execution": {
     "iopub.execute_input": "2025-08-19T18:33:02.250102Z",
     "iopub.status.busy": "2025-08-19T18:33:02.249135Z",
     "iopub.status.idle": "2025-08-19T18:33:02.377937Z",
     "shell.execute_reply": "2025-08-19T18:33:02.377058Z"
    },
    "papermill": {
     "duration": 0.145627,
     "end_time": "2025-08-19T18:33:02.381065",
     "exception": false,
     "start_time": "2025-08-19T18:33:02.235438",
     "status": "completed"
    },
    "tags": []
   },
   "outputs": [],
   "source": [
    "# Auxiliary data needed downstream in the pipeline\n",
    "\n",
    "org_train = X_train.copy()\n",
    "org_test = X_test.copy()\n",
    "org_calib = X_calib.copy()"
   ]
  },
  {
   "cell_type": "markdown",
   "id": "b461e618",
   "metadata": {
    "papermill": {
     "duration": 0.012547,
     "end_time": "2025-08-19T18:33:02.419336",
     "exception": false,
     "start_time": "2025-08-19T18:33:02.406789",
     "status": "completed"
    },
    "tags": []
   },
   "source": [
    "# Preprocessing Data"
   ]
  },
  {
   "cell_type": "code",
   "execution_count": 21,
   "id": "78e74c4b",
   "metadata": {
    "execution": {
     "iopub.execute_input": "2025-08-19T18:33:02.442904Z",
     "iopub.status.busy": "2025-08-19T18:33:02.441672Z",
     "iopub.status.idle": "2025-08-19T18:33:02.451173Z",
     "shell.execute_reply": "2025-08-19T18:33:02.449866Z"
    },
    "papermill": {
     "duration": 0.023377,
     "end_time": "2025-08-19T18:33:02.452849",
     "exception": false,
     "start_time": "2025-08-19T18:33:02.429472",
     "status": "completed"
    },
    "tags": []
   },
   "outputs": [],
   "source": [
    "# EXCLUDE PROTECTED FEATURES\n",
    "# --------------------------\n",
    "\n",
    "excluded_features = universe[\"exclude_features\"].split(\"-\")\n",
    "excluded_features_dictionary = {\n",
    "    \"nationality\": [\"maxdeutsch1\", \"maxdeutsch.Missing.\"],\n",
    "    \"sex\": [\"frau1\"],\n",
    "    \"age\": [\"age\"],\n",
    "}"
   ]
  },
  {
   "cell_type": "code",
   "execution_count": 22,
   "id": "f8e63555",
   "metadata": {
    "execution": {
     "iopub.execute_input": "2025-08-19T18:33:02.479126Z",
     "iopub.status.busy": "2025-08-19T18:33:02.477808Z",
     "iopub.status.idle": "2025-08-19T18:33:02.486626Z",
     "shell.execute_reply": "2025-08-19T18:33:02.485385Z"
    },
    "papermill": {
     "duration": 0.023147,
     "end_time": "2025-08-19T18:33:02.489160",
     "exception": false,
     "start_time": "2025-08-19T18:33:02.466013",
     "status": "completed"
    },
    "tags": []
   },
   "outputs": [],
   "source": [
    "excluded_features_columns = [\n",
    "    excluded_features_dictionary[f] for f in excluded_features if len(f) > 0 and f != \"none\"\n",
    "]"
   ]
  },
  {
   "cell_type": "code",
   "execution_count": 23,
   "id": "da781f7c",
   "metadata": {
    "execution": {
     "iopub.execute_input": "2025-08-19T18:33:02.516804Z",
     "iopub.status.busy": "2025-08-19T18:33:02.515465Z",
     "iopub.status.idle": "2025-08-19T18:33:02.523396Z",
     "shell.execute_reply": "2025-08-19T18:33:02.522157Z"
    },
    "papermill": {
     "duration": 0.022338,
     "end_time": "2025-08-19T18:33:02.525051",
     "exception": false,
     "start_time": "2025-08-19T18:33:02.502713",
     "status": "completed"
    },
    "tags": []
   },
   "outputs": [],
   "source": [
    "from fairness_multiverse.universe import flatten_once\n",
    "\n",
    "excluded_features_columns = flatten_once(excluded_features_columns)"
   ]
  },
  {
   "cell_type": "code",
   "execution_count": 24,
   "id": "37fef0f0",
   "metadata": {
    "execution": {
     "iopub.execute_input": "2025-08-19T18:33:02.553001Z",
     "iopub.status.busy": "2025-08-19T18:33:02.551630Z",
     "iopub.status.idle": "2025-08-19T18:33:02.566149Z",
     "shell.execute_reply": "2025-08-19T18:33:02.564959Z"
    },
    "papermill": {
     "duration": 0.029678,
     "end_time": "2025-08-19T18:33:02.567953",
     "exception": false,
     "start_time": "2025-08-19T18:33:02.538275",
     "status": "completed"
    },
    "tags": []
   },
   "outputs": [
    {
     "name": "stdout",
     "output_type": "stream",
     "text": [
      "Dropping features: ['frau1']\n"
     ]
    }
   ],
   "source": [
    "if len(excluded_features_columns) > 0:\n",
    "    print(f\"Dropping features: {excluded_features_columns}\")\n",
    "    X_train.drop(excluded_features_columns, axis=1, inplace=True)"
   ]
  },
  {
   "cell_type": "code",
   "execution_count": 25,
   "id": "d029e3e9",
   "metadata": {
    "execution": {
     "iopub.execute_input": "2025-08-19T18:33:02.597242Z",
     "iopub.status.busy": "2025-08-19T18:33:02.596081Z",
     "iopub.status.idle": "2025-08-19T18:33:02.662064Z",
     "shell.execute_reply": "2025-08-19T18:33:02.660967Z"
    },
    "papermill": {
     "duration": 0.080238,
     "end_time": "2025-08-19T18:33:02.663490",
     "exception": false,
     "start_time": "2025-08-19T18:33:02.583252",
     "status": "completed"
    },
    "tags": []
   },
   "outputs": [
    {
     "name": "stdout",
     "output_type": "stream",
     "text": [
      "Dropping features: ['frau1']\n"
     ]
    }
   ],
   "source": [
    "if len(excluded_features_columns) > 0:\n",
    "    print(f\"Dropping features: {excluded_features_columns}\")\n",
    "    X_test.drop(excluded_features_columns, axis=1, inplace=True)"
   ]
  },
  {
   "cell_type": "code",
   "execution_count": 26,
   "id": "01d571f0",
   "metadata": {
    "execution": {
     "iopub.execute_input": "2025-08-19T18:33:02.686576Z",
     "iopub.status.busy": "2025-08-19T18:33:02.686103Z",
     "iopub.status.idle": "2025-08-19T18:33:02.740385Z",
     "shell.execute_reply": "2025-08-19T18:33:02.739510Z"
    },
    "papermill": {
     "duration": 0.068965,
     "end_time": "2025-08-19T18:33:02.743701",
     "exception": false,
     "start_time": "2025-08-19T18:33:02.674736",
     "status": "completed"
    },
    "tags": []
   },
   "outputs": [
    {
     "name": "stdout",
     "output_type": "stream",
     "text": [
      "Dropping features: ['frau1']\n"
     ]
    }
   ],
   "source": [
    "if len(excluded_features_columns) > 0:\n",
    "    print(f\"Dropping features: {excluded_features_columns}\")\n",
    "    X_calib.drop(excluded_features_columns, axis=1, inplace=True)"
   ]
  },
  {
   "cell_type": "code",
   "execution_count": 27,
   "id": "3037356e",
   "metadata": {
    "execution": {
     "iopub.execute_input": "2025-08-19T18:33:02.769273Z",
     "iopub.status.busy": "2025-08-19T18:33:02.767716Z",
     "iopub.status.idle": "2025-08-19T18:33:02.775870Z",
     "shell.execute_reply": "2025-08-19T18:33:02.774343Z"
    },
    "papermill": {
     "duration": 0.021775,
     "end_time": "2025-08-19T18:33:02.777371",
     "exception": false,
     "start_time": "2025-08-19T18:33:02.755596",
     "status": "completed"
    },
    "tags": []
   },
   "outputs": [],
   "source": [
    "# EXCLUDE CERTAIN SUBGROUPS\n",
    "# -------------------------\n",
    "\n",
    "mode = universe.get(\"exclude_subgroups\", \"keep-all\") # Defaults to \"keep-all\" if the key is missing."
   ]
  },
  {
   "cell_type": "code",
   "execution_count": 28,
   "id": "9d1e63fd",
   "metadata": {
    "execution": {
     "iopub.execute_input": "2025-08-19T18:33:02.804981Z",
     "iopub.status.busy": "2025-08-19T18:33:02.803430Z",
     "iopub.status.idle": "2025-08-19T18:33:02.815388Z",
     "shell.execute_reply": "2025-08-19T18:33:02.813929Z"
    },
    "papermill": {
     "duration": 0.026595,
     "end_time": "2025-08-19T18:33:02.817162",
     "exception": false,
     "start_time": "2025-08-19T18:33:02.790567",
     "status": "completed"
    },
    "tags": []
   },
   "outputs": [],
   "source": [
    "if mode == \"keep-all\":\n",
    "    keep_mask = pd.Series(True, index=org_train.index)\n",
    "\n",
    "elif mode == \"drop-non-german\":\n",
    "    keep_mask = (org_train[\"maxdeutsch1\"] == 1) & (org_train[\"maxdeutsch.Missing.\"] == 0)\n",
    "\n",
    "else:\n",
    "    raise ValueError(f\"Unsupported mode for exclude_subgroups: {mode}\")"
   ]
  },
  {
   "cell_type": "code",
   "execution_count": 29,
   "id": "d3b65474",
   "metadata": {
    "execution": {
     "iopub.execute_input": "2025-08-19T18:33:02.849284Z",
     "iopub.status.busy": "2025-08-19T18:33:02.847963Z",
     "iopub.status.idle": "2025-08-19T18:33:02.858384Z",
     "shell.execute_reply": "2025-08-19T18:33:02.857053Z"
    },
    "papermill": {
     "duration": 0.025623,
     "end_time": "2025-08-19T18:33:02.859752",
     "exception": false,
     "start_time": "2025-08-19T18:33:02.834129",
     "status": "completed"
    },
    "tags": []
   },
   "outputs": [
    {
     "name": "stdout",
     "output_type": "stream",
     "text": [
      "Dropping 665 rows (13.30%) where mode='drop-non-german'\n"
     ]
    }
   ],
   "source": [
    "n_drop = (~keep_mask).sum() # Calculates how many rows are set to be dropped\n",
    "if n_drop > 0:\n",
    "    pct = n_drop / len(keep_mask) * 100\n",
    "    print(f\"Dropping {n_drop} rows ({pct:.2f}%) where mode='{mode}'\")"
   ]
  },
  {
   "cell_type": "code",
   "execution_count": 30,
   "id": "f44389b3",
   "metadata": {
    "execution": {
     "iopub.execute_input": "2025-08-19T18:33:02.886429Z",
     "iopub.status.busy": "2025-08-19T18:33:02.885099Z",
     "iopub.status.idle": "2025-08-19T18:33:02.896060Z",
     "shell.execute_reply": "2025-08-19T18:33:02.894712Z"
    },
    "papermill": {
     "duration": 0.024659,
     "end_time": "2025-08-19T18:33:02.897734",
     "exception": false,
     "start_time": "2025-08-19T18:33:02.873075",
     "status": "completed"
    },
    "tags": []
   },
   "outputs": [],
   "source": [
    "X_train = X_train[keep_mask]"
   ]
  },
  {
   "cell_type": "code",
   "execution_count": 31,
   "id": "ceca8c2a",
   "metadata": {
    "execution": {
     "iopub.execute_input": "2025-08-19T18:33:02.929272Z",
     "iopub.status.busy": "2025-08-19T18:33:02.928089Z",
     "iopub.status.idle": "2025-08-19T18:33:02.936739Z",
     "shell.execute_reply": "2025-08-19T18:33:02.935383Z"
    },
    "papermill": {
     "duration": 0.02362,
     "end_time": "2025-08-19T18:33:02.938140",
     "exception": false,
     "start_time": "2025-08-19T18:33:02.914520",
     "status": "completed"
    },
    "tags": []
   },
   "outputs": [],
   "source": [
    "y_train = y_train[keep_mask]"
   ]
  },
  {
   "cell_type": "markdown",
   "id": "04d31e2f",
   "metadata": {
    "papermill": {
     "duration": 0.011264,
     "end_time": "2025-08-19T18:33:02.961500",
     "exception": false,
     "start_time": "2025-08-19T18:33:02.950236",
     "status": "completed"
    },
    "tags": []
   },
   "source": [
    "# Model Training"
   ]
  },
  {
   "cell_type": "code",
   "execution_count": 32,
   "id": "db991733",
   "metadata": {
    "execution": {
     "iopub.execute_input": "2025-08-19T18:33:02.986916Z",
     "iopub.status.busy": "2025-08-19T18:33:02.985535Z",
     "iopub.status.idle": "2025-08-19T18:33:03.088858Z",
     "shell.execute_reply": "2025-08-19T18:33:03.087915Z"
    },
    "papermill": {
     "duration": 0.118307,
     "end_time": "2025-08-19T18:33:03.091610",
     "exception": false,
     "start_time": "2025-08-19T18:33:02.973303",
     "status": "completed"
    },
    "tags": []
   },
   "outputs": [],
   "source": [
    "from sklearn.linear_model import LogisticRegression\n",
    "from sklearn.ensemble import GradientBoostingClassifier, RandomForestClassifier\n",
    "\n",
    "if (universe[\"model\"] == \"logreg\"):\n",
    "    model = LogisticRegression() #penalty=\"none\", solver=\"newton-cg\", max_iter=1)\n",
    "elif (universe[\"model\"] == \"penalized_logreg\"):\n",
    "    model = LogisticRegression(penalty=\"l2\", C=0.1) #, solver=\"newton-cg\", max_iter=1)\n",
    "elif (universe[\"model\"] == \"rf\"):\n",
    "    model = RandomForestClassifier() # n_estimators=100, n_jobs=-1\n",
    "elif (universe[\"model\"] == \"gbm\"):\n",
    "    model = GradientBoostingClassifier()\n",
    "elif (universe[\"model\"] == \"elasticnet\"):\n",
    "    model = LogisticRegression(penalty = 'elasticnet', solver = 'saga', l1_ratio = 0.5) # max_iter=5000\n",
    "else:\n",
    "    raise \"Unsupported universe.model\""
   ]
  },
  {
   "cell_type": "code",
   "execution_count": 33,
   "id": "a4b5cd25",
   "metadata": {
    "execution": {
     "iopub.execute_input": "2025-08-19T18:33:03.132133Z",
     "iopub.status.busy": "2025-08-19T18:33:03.130838Z",
     "iopub.status.idle": "2025-08-19T18:33:03.140117Z",
     "shell.execute_reply": "2025-08-19T18:33:03.138719Z"
    },
    "papermill": {
     "duration": 0.024863,
     "end_time": "2025-08-19T18:33:03.141572",
     "exception": false,
     "start_time": "2025-08-19T18:33:03.116709",
     "status": "completed"
    },
    "tags": []
   },
   "outputs": [],
   "source": [
    "from sklearn.pipeline import Pipeline\n",
    "from sklearn.preprocessing import StandardScaler\n",
    "\n",
    "model = Pipeline([\n",
    "    #(\"continuous_processor\", continuous_processor),\n",
    "    #(\"categorical_preprocessor\", categorical_preprocessor),\n",
    "    (\"scale\", StandardScaler() if universe[\"scale\"] == \"scale\" else None), \n",
    "    (\"model\", model),\n",
    "])"
   ]
  },
  {
   "cell_type": "code",
   "execution_count": 34,
   "id": "283a904d",
   "metadata": {
    "execution": {
     "iopub.execute_input": "2025-08-19T18:33:03.168509Z",
     "iopub.status.busy": "2025-08-19T18:33:03.167334Z",
     "iopub.status.idle": "2025-08-19T18:33:04.287903Z",
     "shell.execute_reply": "2025-08-19T18:33:04.286889Z"
    },
    "papermill": {
     "duration": 1.136839,
     "end_time": "2025-08-19T18:33:04.291894",
     "exception": false,
     "start_time": "2025-08-19T18:33:03.155055",
     "status": "completed"
    },
    "tags": []
   },
   "outputs": [
    {
     "data": {
      "text/html": [
       "<style>#sk-container-id-1 {color: black;background-color: white;}#sk-container-id-1 pre{padding: 0;}#sk-container-id-1 div.sk-toggleable {background-color: white;}#sk-container-id-1 label.sk-toggleable__label {cursor: pointer;display: block;width: 100%;margin-bottom: 0;padding: 0.3em;box-sizing: border-box;text-align: center;}#sk-container-id-1 label.sk-toggleable__label-arrow:before {content: \"▸\";float: left;margin-right: 0.25em;color: #696969;}#sk-container-id-1 label.sk-toggleable__label-arrow:hover:before {color: black;}#sk-container-id-1 div.sk-estimator:hover label.sk-toggleable__label-arrow:before {color: black;}#sk-container-id-1 div.sk-toggleable__content {max-height: 0;max-width: 0;overflow: hidden;text-align: left;background-color: #f0f8ff;}#sk-container-id-1 div.sk-toggleable__content pre {margin: 0.2em;color: black;border-radius: 0.25em;background-color: #f0f8ff;}#sk-container-id-1 input.sk-toggleable__control:checked~div.sk-toggleable__content {max-height: 200px;max-width: 100%;overflow: auto;}#sk-container-id-1 input.sk-toggleable__control:checked~label.sk-toggleable__label-arrow:before {content: \"▾\";}#sk-container-id-1 div.sk-estimator input.sk-toggleable__control:checked~label.sk-toggleable__label {background-color: #d4ebff;}#sk-container-id-1 div.sk-label input.sk-toggleable__control:checked~label.sk-toggleable__label {background-color: #d4ebff;}#sk-container-id-1 input.sk-hidden--visually {border: 0;clip: rect(1px 1px 1px 1px);clip: rect(1px, 1px, 1px, 1px);height: 1px;margin: -1px;overflow: hidden;padding: 0;position: absolute;width: 1px;}#sk-container-id-1 div.sk-estimator {font-family: monospace;background-color: #f0f8ff;border: 1px dotted black;border-radius: 0.25em;box-sizing: border-box;margin-bottom: 0.5em;}#sk-container-id-1 div.sk-estimator:hover {background-color: #d4ebff;}#sk-container-id-1 div.sk-parallel-item::after {content: \"\";width: 100%;border-bottom: 1px solid gray;flex-grow: 1;}#sk-container-id-1 div.sk-label:hover label.sk-toggleable__label {background-color: #d4ebff;}#sk-container-id-1 div.sk-serial::before {content: \"\";position: absolute;border-left: 1px solid gray;box-sizing: border-box;top: 0;bottom: 0;left: 50%;z-index: 0;}#sk-container-id-1 div.sk-serial {display: flex;flex-direction: column;align-items: center;background-color: white;padding-right: 0.2em;padding-left: 0.2em;position: relative;}#sk-container-id-1 div.sk-item {position: relative;z-index: 1;}#sk-container-id-1 div.sk-parallel {display: flex;align-items: stretch;justify-content: center;background-color: white;position: relative;}#sk-container-id-1 div.sk-item::before, #sk-container-id-1 div.sk-parallel-item::before {content: \"\";position: absolute;border-left: 1px solid gray;box-sizing: border-box;top: 0;bottom: 0;left: 50%;z-index: -1;}#sk-container-id-1 div.sk-parallel-item {display: flex;flex-direction: column;z-index: 1;position: relative;background-color: white;}#sk-container-id-1 div.sk-parallel-item:first-child::after {align-self: flex-end;width: 50%;}#sk-container-id-1 div.sk-parallel-item:last-child::after {align-self: flex-start;width: 50%;}#sk-container-id-1 div.sk-parallel-item:only-child::after {width: 0;}#sk-container-id-1 div.sk-dashed-wrapped {border: 1px dashed gray;margin: 0 0.4em 0.5em 0.4em;box-sizing: border-box;padding-bottom: 0.4em;background-color: white;}#sk-container-id-1 div.sk-label label {font-family: monospace;font-weight: bold;display: inline-block;line-height: 1.2em;}#sk-container-id-1 div.sk-label-container {text-align: center;}#sk-container-id-1 div.sk-container {/* jupyter's `normalize.less` sets `[hidden] { display: none; }` but bootstrap.min.css set `[hidden] { display: none !important; }` so we also need the `!important` here to be able to override the default hidden behavior on the sphinx rendered scikit-learn.org. See: https://github.com/scikit-learn/scikit-learn/issues/21755 */display: inline-block !important;position: relative;}#sk-container-id-1 div.sk-text-repr-fallback {display: none;}</style><div id=\"sk-container-id-1\" class=\"sk-top-container\"><div class=\"sk-text-repr-fallback\"><pre>Pipeline(steps=[(&#x27;scale&#x27;, StandardScaler()),\n",
       "                (&#x27;model&#x27;, RandomForestClassifier())])</pre><b>In a Jupyter environment, please rerun this cell to show the HTML representation or trust the notebook. <br />On GitHub, the HTML representation is unable to render, please try loading this page with nbviewer.org.</b></div><div class=\"sk-container\" hidden><div class=\"sk-item sk-dashed-wrapped\"><div class=\"sk-label-container\"><div class=\"sk-label sk-toggleable\"><input class=\"sk-toggleable__control sk-hidden--visually\" id=\"sk-estimator-id-1\" type=\"checkbox\" ><label for=\"sk-estimator-id-1\" class=\"sk-toggleable__label sk-toggleable__label-arrow\">Pipeline</label><div class=\"sk-toggleable__content\"><pre>Pipeline(steps=[(&#x27;scale&#x27;, StandardScaler()),\n",
       "                (&#x27;model&#x27;, RandomForestClassifier())])</pre></div></div></div><div class=\"sk-serial\"><div class=\"sk-item\"><div class=\"sk-estimator sk-toggleable\"><input class=\"sk-toggleable__control sk-hidden--visually\" id=\"sk-estimator-id-2\" type=\"checkbox\" ><label for=\"sk-estimator-id-2\" class=\"sk-toggleable__label sk-toggleable__label-arrow\">StandardScaler</label><div class=\"sk-toggleable__content\"><pre>StandardScaler()</pre></div></div></div><div class=\"sk-item\"><div class=\"sk-estimator sk-toggleable\"><input class=\"sk-toggleable__control sk-hidden--visually\" id=\"sk-estimator-id-3\" type=\"checkbox\" ><label for=\"sk-estimator-id-3\" class=\"sk-toggleable__label sk-toggleable__label-arrow\">RandomForestClassifier</label><div class=\"sk-toggleable__content\"><pre>RandomForestClassifier()</pre></div></div></div></div></div></div></div>"
      ],
      "text/plain": [
       "Pipeline(steps=[('scale', StandardScaler()),\n",
       "                ('model', RandomForestClassifier())])"
      ]
     },
     "execution_count": 34,
     "metadata": {},
     "output_type": "execute_result"
    }
   ],
   "source": [
    "model.fit(X_train, y_train.values.ravel())"
   ]
  },
  {
   "cell_type": "code",
   "execution_count": 35,
   "id": "6e15e313",
   "metadata": {
    "execution": {
     "iopub.execute_input": "2025-08-19T18:33:04.327566Z",
     "iopub.status.busy": "2025-08-19T18:33:04.326685Z",
     "iopub.status.idle": "2025-08-19T18:33:06.183645Z",
     "shell.execute_reply": "2025-08-19T18:33:06.182524Z"
    },
    "papermill": {
     "duration": 1.871772,
     "end_time": "2025-08-19T18:33:06.185271",
     "exception": false,
     "start_time": "2025-08-19T18:33:04.313499",
     "status": "completed"
    },
    "tags": []
   },
   "outputs": [
    {
     "data": {
      "text/plain": [
       "0.865622561587337"
      ]
     },
     "execution_count": 35,
     "metadata": {},
     "output_type": "execute_result"
    }
   ],
   "source": [
    "from fairness_multiverse.universe import predict_w_threshold\n",
    "\n",
    "probs_test = model.predict_proba(X_test)\n",
    "\n",
    "'''\n",
    "Below code returns a boolean array (or binary 0/1 array depending on how it’s used) where each element \n",
    "is True if the probability of class 1 is greater than or equal to the threshold, and False otherwise.\n",
    "'''\n",
    "y_pred_default = predict_w_threshold(probs_test, 0.5)\n",
    "\n",
    "from sklearn.metrics import accuracy_score\n",
    "\n",
    "# Naive prediction\n",
    "accuracy_score(y_true = y_true, y_pred = y_pred_default)"
   ]
  },
  {
   "cell_type": "code",
   "execution_count": 36,
   "id": "6f14067c",
   "metadata": {
    "execution": {
     "iopub.execute_input": "2025-08-19T18:33:06.211699Z",
     "iopub.status.busy": "2025-08-19T18:33:06.211134Z",
     "iopub.status.idle": "2025-08-19T18:33:07.988803Z",
     "shell.execute_reply": "2025-08-19T18:33:07.987609Z"
    },
    "papermill": {
     "duration": 1.79418,
     "end_time": "2025-08-19T18:33:07.991065",
     "exception": false,
     "start_time": "2025-08-19T18:33:06.196885",
     "status": "completed"
    },
    "tags": []
   },
   "outputs": [
    {
     "data": {
      "text/plain": [
       "array([0, 0, 0, ..., 0, 0, 0])"
      ]
     },
     "execution_count": 36,
     "metadata": {},
     "output_type": "execute_result"
    }
   ],
   "source": [
    "model.predict(X_test)"
   ]
  },
  {
   "cell_type": "markdown",
   "id": "3759920c",
   "metadata": {
    "papermill": {
     "duration": 0.013035,
     "end_time": "2025-08-19T18:33:08.022182",
     "exception": false,
     "start_time": "2025-08-19T18:33:08.009147",
     "status": "completed"
    },
    "tags": []
   },
   "source": [
    "# Conformal Prediction"
   ]
  },
  {
   "cell_type": "code",
   "execution_count": 37,
   "id": "14b27f59",
   "metadata": {
    "execution": {
     "iopub.execute_input": "2025-08-19T18:33:08.051216Z",
     "iopub.status.busy": "2025-08-19T18:33:08.049293Z",
     "iopub.status.idle": "2025-08-19T18:33:08.059253Z",
     "shell.execute_reply": "2025-08-19T18:33:08.057924Z"
    },
    "papermill": {
     "duration": 0.027474,
     "end_time": "2025-08-19T18:33:08.061537",
     "exception": false,
     "start_time": "2025-08-19T18:33:08.034063",
     "status": "completed"
    },
    "tags": []
   },
   "outputs": [],
   "source": [
    "# Miscoverage level for conformal prediction (10% allowed error rate => 90% target coverage)\n",
    "alpha = 0.1"
   ]
  },
  {
   "cell_type": "code",
   "execution_count": 38,
   "id": "59102472",
   "metadata": {
    "execution": {
     "iopub.execute_input": "2025-08-19T18:33:08.101754Z",
     "iopub.status.busy": "2025-08-19T18:33:08.101226Z",
     "iopub.status.idle": "2025-08-19T18:33:10.061548Z",
     "shell.execute_reply": "2025-08-19T18:33:10.059983Z"
    },
    "papermill": {
     "duration": 1.987463,
     "end_time": "2025-08-19T18:33:10.063530",
     "exception": false,
     "start_time": "2025-08-19T18:33:08.076067",
     "status": "completed"
    },
    "tags": []
   },
   "outputs": [],
   "source": [
    "probs_calib = model.predict_proba(X_calib)"
   ]
  },
  {
   "cell_type": "code",
   "execution_count": 39,
   "id": "a792d4dd",
   "metadata": {
    "execution": {
     "iopub.execute_input": "2025-08-19T18:33:10.108683Z",
     "iopub.status.busy": "2025-08-19T18:33:10.106294Z",
     "iopub.status.idle": "2025-08-19T18:33:10.120381Z",
     "shell.execute_reply": "2025-08-19T18:33:10.118915Z"
    },
    "papermill": {
     "duration": 0.046823,
     "end_time": "2025-08-19T18:33:10.122783",
     "exception": false,
     "start_time": "2025-08-19T18:33:10.075960",
     "status": "completed"
    },
    "tags": []
   },
   "outputs": [],
   "source": [
    "y_calib = y_calib.values.ravel().astype(int)"
   ]
  },
  {
   "cell_type": "code",
   "execution_count": 40,
   "id": "650fd033",
   "metadata": {
    "execution": {
     "iopub.execute_input": "2025-08-19T18:33:10.159026Z",
     "iopub.status.busy": "2025-08-19T18:33:10.157409Z",
     "iopub.status.idle": "2025-08-19T18:33:10.167360Z",
     "shell.execute_reply": "2025-08-19T18:33:10.166520Z"
    },
    "papermill": {
     "duration": 0.025459,
     "end_time": "2025-08-19T18:33:10.168668",
     "exception": false,
     "start_time": "2025-08-19T18:33:10.143209",
     "status": "completed"
    },
    "tags": []
   },
   "outputs": [],
   "source": [
    "from fairness_multiverse.conformal import compute_nc_scores\n",
    "\n",
    "# Compute nonconformity scores on calibration set (1 - probability of true class)\n",
    "nc_scores = compute_nc_scores(probs_calib, y_calib)"
   ]
  },
  {
   "cell_type": "code",
   "execution_count": 41,
   "id": "28ada44c",
   "metadata": {
    "execution": {
     "iopub.execute_input": "2025-08-19T18:33:10.196960Z",
     "iopub.status.busy": "2025-08-19T18:33:10.195493Z",
     "iopub.status.idle": "2025-08-19T18:33:10.205839Z",
     "shell.execute_reply": "2025-08-19T18:33:10.204431Z"
    },
    "papermill": {
     "duration": 0.026265,
     "end_time": "2025-08-19T18:33:10.209016",
     "exception": false,
     "start_time": "2025-08-19T18:33:10.182751",
     "status": "completed"
    },
    "tags": []
   },
   "outputs": [],
   "source": [
    "from fairness_multiverse.conformal import find_threshold\n",
    "\n",
    "# Find conformal threshold q_hat for the given alpha (split conformal method)\n",
    "q_hat = find_threshold(nc_scores, alpha)"
   ]
  },
  {
   "cell_type": "code",
   "execution_count": 42,
   "id": "df56469e",
   "metadata": {
    "execution": {
     "iopub.execute_input": "2025-08-19T18:33:10.241017Z",
     "iopub.status.busy": "2025-08-19T18:33:10.239922Z",
     "iopub.status.idle": "2025-08-19T18:33:10.258760Z",
     "shell.execute_reply": "2025-08-19T18:33:10.257475Z"
    },
    "papermill": {
     "duration": 0.035144,
     "end_time": "2025-08-19T18:33:10.260227",
     "exception": false,
     "start_time": "2025-08-19T18:33:10.225083",
     "status": "completed"
    },
    "tags": []
   },
   "outputs": [
    {
     "data": {
      "text/plain": [
       "0.6699999999999999"
      ]
     },
     "execution_count": 42,
     "metadata": {},
     "output_type": "execute_result"
    }
   ],
   "source": [
    "q_hat"
   ]
  },
  {
   "cell_type": "code",
   "execution_count": 43,
   "id": "aa1f5faa",
   "metadata": {
    "execution": {
     "iopub.execute_input": "2025-08-19T18:33:10.295676Z",
     "iopub.status.busy": "2025-08-19T18:33:10.295202Z",
     "iopub.status.idle": "2025-08-19T18:33:12.558019Z",
     "shell.execute_reply": "2025-08-19T18:33:12.557073Z"
    },
    "papermill": {
     "duration": 2.277285,
     "end_time": "2025-08-19T18:33:12.559689",
     "exception": false,
     "start_time": "2025-08-19T18:33:10.282404",
     "status": "completed"
    },
    "tags": []
   },
   "outputs": [],
   "source": [
    "from fairness_multiverse.conformal import predict_conformal_sets\n",
    "\n",
    "# Generate prediction sets for each test example\n",
    "pred_sets = predict_conformal_sets(model, X_test, q_hat)"
   ]
  },
  {
   "cell_type": "code",
   "execution_count": 44,
   "id": "97f67a6b",
   "metadata": {
    "execution": {
     "iopub.execute_input": "2025-08-19T18:33:12.589121Z",
     "iopub.status.busy": "2025-08-19T18:33:12.587524Z",
     "iopub.status.idle": "2025-08-19T18:33:12.596067Z",
     "shell.execute_reply": "2025-08-19T18:33:12.594739Z"
    },
    "papermill": {
     "duration": 0.023246,
     "end_time": "2025-08-19T18:33:12.597569",
     "exception": false,
     "start_time": "2025-08-19T18:33:12.574323",
     "status": "completed"
    },
    "tags": []
   },
   "outputs": [],
   "source": [
    "y_true = y_true.squeeze()"
   ]
  },
  {
   "cell_type": "code",
   "execution_count": 45,
   "id": "e700e9a7",
   "metadata": {
    "execution": {
     "iopub.execute_input": "2025-08-19T18:33:12.635762Z",
     "iopub.status.busy": "2025-08-19T18:33:12.635157Z",
     "iopub.status.idle": "2025-08-19T18:33:13.146789Z",
     "shell.execute_reply": "2025-08-19T18:33:13.145904Z"
    },
    "papermill": {
     "duration": 0.536175,
     "end_time": "2025-08-19T18:33:13.148253",
     "exception": false,
     "start_time": "2025-08-19T18:33:12.612078",
     "status": "completed"
    },
    "tags": []
   },
   "outputs": [],
   "source": [
    "from fairness_multiverse.conformal import evaluate_sets\n",
    "\n",
    "# Evaluate coverage and average set size on test data\n",
    "metrics = evaluate_sets(pred_sets, y_true)"
   ]
  },
  {
   "cell_type": "markdown",
   "id": "efbacec0",
   "metadata": {
    "papermill": {
     "duration": 0.011454,
     "end_time": "2025-08-19T18:33:13.171861",
     "exception": false,
     "start_time": "2025-08-19T18:33:13.160407",
     "status": "completed"
    },
    "tags": []
   },
   "source": [
    "# CP Metrics"
   ]
  },
  {
   "cell_type": "code",
   "execution_count": 46,
   "id": "9de55fb1",
   "metadata": {
    "execution": {
     "iopub.execute_input": "2025-08-19T18:33:13.197767Z",
     "iopub.status.busy": "2025-08-19T18:33:13.196211Z",
     "iopub.status.idle": "2025-08-19T18:33:13.209797Z",
     "shell.execute_reply": "2025-08-19T18:33:13.208132Z"
    },
    "papermill": {
     "duration": 0.028489,
     "end_time": "2025-08-19T18:33:13.211617",
     "exception": false,
     "start_time": "2025-08-19T18:33:13.183128",
     "status": "completed"
    },
    "tags": []
   },
   "outputs": [
    {
     "data": {
      "text/plain": [
       "{'coverage': 0.9125515550105897, 'avg_size': 1.1426039460483781}"
      ]
     },
     "execution_count": 46,
     "metadata": {},
     "output_type": "execute_result"
    }
   ],
   "source": [
    "metrics"
   ]
  },
  {
   "cell_type": "code",
   "execution_count": 47,
   "id": "64c340a1",
   "metadata": {
    "execution": {
     "iopub.execute_input": "2025-08-19T18:33:13.243983Z",
     "iopub.status.busy": "2025-08-19T18:33:13.242824Z",
     "iopub.status.idle": "2025-08-19T18:33:13.253968Z",
     "shell.execute_reply": "2025-08-19T18:33:13.252509Z"
    },
    "papermill": {
     "duration": 0.026411,
     "end_time": "2025-08-19T18:33:13.255506",
     "exception": false,
     "start_time": "2025-08-19T18:33:13.229095",
     "status": "completed"
    },
    "tags": []
   },
   "outputs": [],
   "source": [
    "example_universe = universe.copy()\n",
    "universe_training_year = example_universe.get(\"training_year\")\n",
    "universe_training_size = example_universe.get(\"training_size\")\n",
    "universe_scale = example_universe.get(\"scale\")\n",
    "universe_model = example_universe.get(\"model\")\n",
    "universe_exclude_features = example_universe.get(\"exclude_features\")\n",
    "universe_exclude_subgroups = example_universe.get(\"exclude_subgroups\")"
   ]
  },
  {
   "cell_type": "code",
   "execution_count": 48,
   "id": "dbb53cb4",
   "metadata": {
    "execution": {
     "iopub.execute_input": "2025-08-19T18:33:13.284806Z",
     "iopub.status.busy": "2025-08-19T18:33:13.283633Z",
     "iopub.status.idle": "2025-08-19T18:33:13.294284Z",
     "shell.execute_reply": "2025-08-19T18:33:13.292891Z"
    },
    "papermill": {
     "duration": 0.025665,
     "end_time": "2025-08-19T18:33:13.296021",
     "exception": false,
     "start_time": "2025-08-19T18:33:13.270356",
     "status": "completed"
    },
    "tags": []
   },
   "outputs": [],
   "source": [
    "cp_metrics_dict = {\n",
    "    \"universe_id\": [universe_id],\n",
    "    \"universe_training_year\": [universe_training_year],\n",
    "    \"universe_training_size\": [universe_training_size],\n",
    "    \"universe_scale\": [universe_scale],\n",
    "    \"universe_model\": [universe_model],\n",
    "    \"universe_exclude_features\": [universe_exclude_features],\n",
    "    \"universe_exclude_subgroups\": [universe_exclude_subgroups],\n",
    "    \"q_hat\": [q_hat],\n",
    "    \"coverage\": [metrics[\"coverage\"]],\n",
    "    \"avg_size\": [metrics[\"avg_size\"]],\n",
    "}"
   ]
  },
  {
   "cell_type": "code",
   "execution_count": 49,
   "id": "0d70d4b2",
   "metadata": {
    "execution": {
     "iopub.execute_input": "2025-08-19T18:33:13.324854Z",
     "iopub.status.busy": "2025-08-19T18:33:13.324253Z",
     "iopub.status.idle": "2025-08-19T18:33:13.331011Z",
     "shell.execute_reply": "2025-08-19T18:33:13.330229Z"
    },
    "papermill": {
     "duration": 0.022392,
     "end_time": "2025-08-19T18:33:13.333505",
     "exception": false,
     "start_time": "2025-08-19T18:33:13.311113",
     "status": "completed"
    },
    "tags": []
   },
   "outputs": [],
   "source": [
    "cp_metrics_df = pd.DataFrame(cp_metrics_dict)"
   ]
  },
  {
   "cell_type": "code",
   "execution_count": 50,
   "id": "b494403c",
   "metadata": {
    "execution": {
     "iopub.execute_input": "2025-08-19T18:33:13.377730Z",
     "iopub.status.busy": "2025-08-19T18:33:13.376562Z",
     "iopub.status.idle": "2025-08-19T18:33:13.400090Z",
     "shell.execute_reply": "2025-08-19T18:33:13.399117Z"
    },
    "papermill": {
     "duration": 0.040266,
     "end_time": "2025-08-19T18:33:13.402881",
     "exception": false,
     "start_time": "2025-08-19T18:33:13.362615",
     "status": "completed"
    },
    "tags": []
   },
   "outputs": [
    {
     "data": {
      "text/html": [
       "<div>\n",
       "<style scoped>\n",
       "    .dataframe tbody tr th:only-of-type {\n",
       "        vertical-align: middle;\n",
       "    }\n",
       "\n",
       "    .dataframe tbody tr th {\n",
       "        vertical-align: top;\n",
       "    }\n",
       "\n",
       "    .dataframe thead th {\n",
       "        text-align: right;\n",
       "    }\n",
       "</style>\n",
       "<table border=\"1\" class=\"dataframe\">\n",
       "  <thead>\n",
       "    <tr style=\"text-align: right;\">\n",
       "      <th></th>\n",
       "      <th>universe_id</th>\n",
       "      <th>universe_training_year</th>\n",
       "      <th>universe_training_size</th>\n",
       "      <th>universe_scale</th>\n",
       "      <th>universe_model</th>\n",
       "      <th>universe_exclude_features</th>\n",
       "      <th>universe_exclude_subgroups</th>\n",
       "      <th>q_hat</th>\n",
       "      <th>coverage</th>\n",
       "      <th>avg_size</th>\n",
       "    </tr>\n",
       "  </thead>\n",
       "  <tbody>\n",
       "    <tr>\n",
       "      <th>0</th>\n",
       "      <td>fdec3234b07ef23da05020480aa9b2f2</td>\n",
       "      <td>2012_14</td>\n",
       "      <td>5k</td>\n",
       "      <td>scale</td>\n",
       "      <td>rf</td>\n",
       "      <td>sex</td>\n",
       "      <td>drop-non-german</td>\n",
       "      <td>0.67</td>\n",
       "      <td>0.912552</td>\n",
       "      <td>1.142604</td>\n",
       "    </tr>\n",
       "  </tbody>\n",
       "</table>\n",
       "</div>"
      ],
      "text/plain": [
       "                        universe_id universe_training_year  \\\n",
       "0  fdec3234b07ef23da05020480aa9b2f2                2012_14   \n",
       "\n",
       "  universe_training_size universe_scale universe_model  \\\n",
       "0                     5k          scale             rf   \n",
       "\n",
       "  universe_exclude_features universe_exclude_subgroups  q_hat  coverage  \\\n",
       "0                       sex            drop-non-german   0.67  0.912552   \n",
       "\n",
       "   avg_size  \n",
       "0  1.142604  "
      ]
     },
     "execution_count": 50,
     "metadata": {},
     "output_type": "execute_result"
    }
   ],
   "source": [
    "cp_metrics_df"
   ]
  },
  {
   "cell_type": "markdown",
   "id": "ed608b0b",
   "metadata": {
    "papermill": {
     "duration": 0.011785,
     "end_time": "2025-08-19T18:33:13.427704",
     "exception": false,
     "start_time": "2025-08-19T18:33:13.415919",
     "status": "completed"
    },
    "tags": []
   },
   "source": [
    "Conditional coverage & looking at subgroups"
   ]
  },
  {
   "cell_type": "code",
   "execution_count": 51,
   "id": "8968c366",
   "metadata": {
    "execution": {
     "iopub.execute_input": "2025-08-19T18:33:13.457078Z",
     "iopub.status.busy": "2025-08-19T18:33:13.454316Z",
     "iopub.status.idle": "2025-08-19T18:33:13.727848Z",
     "shell.execute_reply": "2025-08-19T18:33:13.727152Z"
    },
    "papermill": {
     "duration": 0.289824,
     "end_time": "2025-08-19T18:33:13.729220",
     "exception": false,
     "start_time": "2025-08-19T18:33:13.439396",
     "status": "completed"
    },
    "tags": []
   },
   "outputs": [],
   "source": [
    "from fairness_multiverse.conformal import build_cp_groups\n",
    "\n",
    "cp_groups_df = build_cp_groups(pred_sets, y_true, X_test.index, org_test)"
   ]
  },
  {
   "cell_type": "code",
   "execution_count": 52,
   "id": "292ddabf",
   "metadata": {
    "execution": {
     "iopub.execute_input": "2025-08-19T18:33:13.782365Z",
     "iopub.status.busy": "2025-08-19T18:33:13.781184Z",
     "iopub.status.idle": "2025-08-19T18:33:14.646714Z",
     "shell.execute_reply": "2025-08-19T18:33:14.645510Z"
    },
    "papermill": {
     "duration": 0.897061,
     "end_time": "2025-08-19T18:33:14.648452",
     "exception": false,
     "start_time": "2025-08-19T18:33:13.751391",
     "status": "completed"
    },
    "tags": []
   },
   "outputs": [],
   "source": [
    "# Define covered = 1 if true_label is in the predicted set\n",
    "cp_groups_df['covered'] = cp_groups_df.apply(\n",
    "    lambda r: int(r['true_label'] in r['pred_set']),\n",
    "    axis=1\n",
    ")"
   ]
  },
  {
   "cell_type": "code",
   "execution_count": 53,
   "id": "3a261692",
   "metadata": {
    "execution": {
     "iopub.execute_input": "2025-08-19T18:33:14.676340Z",
     "iopub.status.busy": "2025-08-19T18:33:14.675423Z",
     "iopub.status.idle": "2025-08-19T18:33:14.696150Z",
     "shell.execute_reply": "2025-08-19T18:33:14.694959Z"
    },
    "papermill": {
     "duration": 0.036466,
     "end_time": "2025-08-19T18:33:14.697900",
     "exception": false,
     "start_time": "2025-08-19T18:33:14.661434",
     "status": "completed"
    },
    "tags": []
   },
   "outputs": [],
   "source": [
    "subgroups = ['frau1','nongerman','nongerman_male','nongerman_female']\n",
    "\n",
    "# Conditional coverage for subgroup==1\n",
    "cond_coverage = {\n",
    "    g: cp_groups_df.loc[cp_groups_df[g]==1, 'covered'].mean()\n",
    "    for g in subgroups\n",
    "}"
   ]
  },
  {
   "cell_type": "code",
   "execution_count": 54,
   "id": "894fd600",
   "metadata": {
    "execution": {
     "iopub.execute_input": "2025-08-19T18:33:14.734206Z",
     "iopub.status.busy": "2025-08-19T18:33:14.733176Z",
     "iopub.status.idle": "2025-08-19T18:33:14.745994Z",
     "shell.execute_reply": "2025-08-19T18:33:14.744297Z"
    },
    "papermill": {
     "duration": 0.029437,
     "end_time": "2025-08-19T18:33:14.747630",
     "exception": false,
     "start_time": "2025-08-19T18:33:14.718193",
     "status": "completed"
    },
    "tags": []
   },
   "outputs": [
    {
     "data": {
      "text/plain": [
       "{'frau1': 0.9078582019140046,\n",
       " 'nongerman': 0.906753494638747,\n",
       " 'nongerman_male': 0.9252454291632892,\n",
       " 'nongerman_female': 0.8761549925484352}"
      ]
     },
     "execution_count": 54,
     "metadata": {},
     "output_type": "execute_result"
    }
   ],
   "source": [
    "cond_coverage"
   ]
  },
  {
   "cell_type": "code",
   "execution_count": 55,
   "id": "942895c7",
   "metadata": {
    "execution": {
     "iopub.execute_input": "2025-08-19T18:33:14.778816Z",
     "iopub.status.busy": "2025-08-19T18:33:14.777784Z",
     "iopub.status.idle": "2025-08-19T18:33:14.790385Z",
     "shell.execute_reply": "2025-08-19T18:33:14.788722Z"
    },
    "papermill": {
     "duration": 0.028506,
     "end_time": "2025-08-19T18:33:14.792000",
     "exception": false,
     "start_time": "2025-08-19T18:33:14.763494",
     "status": "completed"
    },
    "tags": []
   },
   "outputs": [],
   "source": [
    "for subgroup, cov in cond_coverage.items():\n",
    "    cp_metrics_df[f\"cov_{subgroup}\"] = cov"
   ]
  },
  {
   "cell_type": "code",
   "execution_count": 56,
   "id": "3970120f",
   "metadata": {
    "execution": {
     "iopub.execute_input": "2025-08-19T18:33:14.827247Z",
     "iopub.status.busy": "2025-08-19T18:33:14.826190Z",
     "iopub.status.idle": "2025-08-19T18:33:14.853065Z",
     "shell.execute_reply": "2025-08-19T18:33:14.852261Z"
    },
    "papermill": {
     "duration": 0.043475,
     "end_time": "2025-08-19T18:33:14.854638",
     "exception": false,
     "start_time": "2025-08-19T18:33:14.811163",
     "status": "completed"
    },
    "tags": []
   },
   "outputs": [
    {
     "data": {
      "text/html": [
       "<div>\n",
       "<style scoped>\n",
       "    .dataframe tbody tr th:only-of-type {\n",
       "        vertical-align: middle;\n",
       "    }\n",
       "\n",
       "    .dataframe tbody tr th {\n",
       "        vertical-align: top;\n",
       "    }\n",
       "\n",
       "    .dataframe thead th {\n",
       "        text-align: right;\n",
       "    }\n",
       "</style>\n",
       "<table border=\"1\" class=\"dataframe\">\n",
       "  <thead>\n",
       "    <tr style=\"text-align: right;\">\n",
       "      <th></th>\n",
       "      <th>universe_id</th>\n",
       "      <th>universe_training_year</th>\n",
       "      <th>universe_training_size</th>\n",
       "      <th>universe_scale</th>\n",
       "      <th>universe_model</th>\n",
       "      <th>universe_exclude_features</th>\n",
       "      <th>universe_exclude_subgroups</th>\n",
       "      <th>q_hat</th>\n",
       "      <th>coverage</th>\n",
       "      <th>avg_size</th>\n",
       "      <th>cov_frau1</th>\n",
       "      <th>cov_nongerman</th>\n",
       "      <th>cov_nongerman_male</th>\n",
       "      <th>cov_nongerman_female</th>\n",
       "    </tr>\n",
       "  </thead>\n",
       "  <tbody>\n",
       "    <tr>\n",
       "      <th>0</th>\n",
       "      <td>fdec3234b07ef23da05020480aa9b2f2</td>\n",
       "      <td>2012_14</td>\n",
       "      <td>5k</td>\n",
       "      <td>scale</td>\n",
       "      <td>rf</td>\n",
       "      <td>sex</td>\n",
       "      <td>drop-non-german</td>\n",
       "      <td>0.67</td>\n",
       "      <td>0.912552</td>\n",
       "      <td>1.142604</td>\n",
       "      <td>0.907858</td>\n",
       "      <td>0.906753</td>\n",
       "      <td>0.925245</td>\n",
       "      <td>0.876155</td>\n",
       "    </tr>\n",
       "  </tbody>\n",
       "</table>\n",
       "</div>"
      ],
      "text/plain": [
       "                        universe_id universe_training_year  \\\n",
       "0  fdec3234b07ef23da05020480aa9b2f2                2012_14   \n",
       "\n",
       "  universe_training_size universe_scale universe_model  \\\n",
       "0                     5k          scale             rf   \n",
       "\n",
       "  universe_exclude_features universe_exclude_subgroups  q_hat  coverage  \\\n",
       "0                       sex            drop-non-german   0.67  0.912552   \n",
       "\n",
       "   avg_size  cov_frau1  cov_nongerman  cov_nongerman_male  \\\n",
       "0  1.142604   0.907858       0.906753            0.925245   \n",
       "\n",
       "   cov_nongerman_female  \n",
       "0              0.876155  "
      ]
     },
     "execution_count": 56,
     "metadata": {},
     "output_type": "execute_result"
    }
   ],
   "source": [
    "cp_metrics_df"
   ]
  },
  {
   "cell_type": "markdown",
   "id": "3fc519cc",
   "metadata": {
    "papermill": {
     "duration": 0.013362,
     "end_time": "2025-08-19T18:33:14.891787",
     "exception": false,
     "start_time": "2025-08-19T18:33:14.878425",
     "status": "completed"
    },
    "tags": []
   },
   "source": [
    "# (Fairness) Metrics"
   ]
  },
  {
   "cell_type": "code",
   "execution_count": 57,
   "id": "a2e5e155",
   "metadata": {
    "execution": {
     "iopub.execute_input": "2025-08-19T18:33:14.919692Z",
     "iopub.status.busy": "2025-08-19T18:33:14.918399Z",
     "iopub.status.idle": "2025-08-19T18:33:14.946431Z",
     "shell.execute_reply": "2025-08-19T18:33:14.945603Z"
    },
    "papermill": {
     "duration": 0.044293,
     "end_time": "2025-08-19T18:33:14.948597",
     "exception": false,
     "start_time": "2025-08-19T18:33:14.904304",
     "status": "completed"
    },
    "tags": []
   },
   "outputs": [],
   "source": [
    "colname_to_bin = \"maxdeutsch1\"\n",
    "majority_value = org_train[colname_to_bin].mode()[0]\n",
    "\n",
    "org_test[\"majmin\"] = np.where(org_test[colname_to_bin] == majority_value, \"majority\", \"minority\")"
   ]
  },
  {
   "cell_type": "code",
   "execution_count": 58,
   "id": "17e3e4d5",
   "metadata": {
    "execution": {
     "iopub.execute_input": "2025-08-19T18:33:15.082973Z",
     "iopub.status.busy": "2025-08-19T18:33:15.081944Z",
     "iopub.status.idle": "2025-08-19T18:33:16.805385Z",
     "shell.execute_reply": "2025-08-19T18:33:16.803961Z"
    },
    "papermill": {
     "duration": 1.835271,
     "end_time": "2025-08-19T18:33:16.807131",
     "exception": false,
     "start_time": "2025-08-19T18:33:14.971860",
     "status": "completed"
    },
    "tags": []
   },
   "outputs": [],
   "source": [
    "example_universe = universe.copy()\n",
    "example_universe[\"cutoff\"] = example_universe[\"cutoff\"][0]\n",
    "example_universe[\"eval_fairness_grouping\"] = example_universe[\"eval_fairness_grouping\"][0]\n",
    "fairness_dict, metric_frame = universe_analysis.compute_metrics(\n",
    "    example_universe,\n",
    "    y_pred_prob=probs_test,\n",
    "    y_test=y_true,\n",
    "    org_test=org_test,\n",
    ")"
   ]
  },
  {
   "cell_type": "markdown",
   "id": "1fb7a0e9",
   "metadata": {
    "papermill": {
     "duration": 0.025331,
     "end_time": "2025-08-19T18:33:16.865246",
     "exception": false,
     "start_time": "2025-08-19T18:33:16.839915",
     "status": "completed"
    },
    "tags": []
   },
   "source": [
    "# Overall"
   ]
  },
  {
   "cell_type": "markdown",
   "id": "be1784b1",
   "metadata": {
    "papermill": {
     "duration": 0.012493,
     "end_time": "2025-08-19T18:33:16.890474",
     "exception": false,
     "start_time": "2025-08-19T18:33:16.877981",
     "status": "completed"
    },
    "tags": []
   },
   "source": [
    "Main fairness target: Equalized Odds. Seems to be a better fit than equal opportunity, since we're not only interested in Y = 1. Seems to be a better fit than demographic parity, since we also care about accuracy, not just equal distribution of preds.\n",
    "\n",
    "Pick column for computation of fairness metrics\n",
    "\n",
    "Performance\n",
    "Overall performance measures, most interesting in relation to the measures split by group below"
   ]
  },
  {
   "cell_type": "code",
   "execution_count": 59,
   "id": "b7672bee",
   "metadata": {
    "execution": {
     "iopub.execute_input": "2025-08-19T18:33:16.917537Z",
     "iopub.status.busy": "2025-08-19T18:33:16.917000Z",
     "iopub.status.idle": "2025-08-19T18:33:16.929450Z",
     "shell.execute_reply": "2025-08-19T18:33:16.928547Z"
    },
    "papermill": {
     "duration": 0.029559,
     "end_time": "2025-08-19T18:33:16.932422",
     "exception": false,
     "start_time": "2025-08-19T18:33:16.902863",
     "status": "completed"
    },
    "tags": []
   },
   "outputs": [
    {
     "data": {
      "text/plain": [
       "accuracy                   0.204147\n",
       "balanced accuracy          0.536698\n",
       "f1                         0.240823\n",
       "precision                  0.137201\n",
       "false positive rate        0.910616\n",
       "false negative rate        0.015989\n",
       "selection rate             0.920031\n",
       "count                  89710.000000\n",
       "dtype: float64"
      ]
     },
     "execution_count": 59,
     "metadata": {},
     "output_type": "execute_result"
    }
   ],
   "source": [
    "metric_frame.overall"
   ]
  },
  {
   "cell_type": "markdown",
   "id": "d93333c9",
   "metadata": {
    "papermill": {
     "duration": 0.013401,
     "end_time": "2025-08-19T18:33:16.982925",
     "exception": false,
     "start_time": "2025-08-19T18:33:16.969524",
     "status": "completed"
    },
    "tags": []
   },
   "source": [
    "By Group"
   ]
  },
  {
   "cell_type": "code",
   "execution_count": 60,
   "id": "52256966",
   "metadata": {
    "execution": {
     "iopub.execute_input": "2025-08-19T18:33:17.013020Z",
     "iopub.status.busy": "2025-08-19T18:33:17.012255Z",
     "iopub.status.idle": "2025-08-19T18:33:17.039938Z",
     "shell.execute_reply": "2025-08-19T18:33:17.039141Z"
    },
    "papermill": {
     "duration": 0.044425,
     "end_time": "2025-08-19T18:33:17.041402",
     "exception": false,
     "start_time": "2025-08-19T18:33:16.996977",
     "status": "completed"
    },
    "tags": []
   },
   "outputs": [
    {
     "data": {
      "text/html": [
       "<div>\n",
       "<style scoped>\n",
       "    .dataframe tbody tr th:only-of-type {\n",
       "        vertical-align: middle;\n",
       "    }\n",
       "\n",
       "    .dataframe tbody tr th {\n",
       "        vertical-align: top;\n",
       "    }\n",
       "\n",
       "    .dataframe thead th {\n",
       "        text-align: right;\n",
       "    }\n",
       "</style>\n",
       "<table border=\"1\" class=\"dataframe\">\n",
       "  <thead>\n",
       "    <tr style=\"text-align: right;\">\n",
       "      <th></th>\n",
       "      <th>accuracy</th>\n",
       "      <th>balanced accuracy</th>\n",
       "      <th>f1</th>\n",
       "      <th>precision</th>\n",
       "      <th>false positive rate</th>\n",
       "      <th>false negative rate</th>\n",
       "      <th>selection rate</th>\n",
       "      <th>count</th>\n",
       "    </tr>\n",
       "    <tr>\n",
       "      <th>majmin</th>\n",
       "      <th></th>\n",
       "      <th></th>\n",
       "      <th></th>\n",
       "      <th></th>\n",
       "      <th></th>\n",
       "      <th></th>\n",
       "      <th></th>\n",
       "      <th></th>\n",
       "    </tr>\n",
       "  </thead>\n",
       "  <tbody>\n",
       "    <tr>\n",
       "      <th>majority</th>\n",
       "      <td>0.206491</td>\n",
       "      <td>0.537411</td>\n",
       "      <td>0.247433</td>\n",
       "      <td>0.141442</td>\n",
       "      <td>0.912377</td>\n",
       "      <td>0.012801</td>\n",
       "      <td>0.922264</td>\n",
       "      <td>69170.0</td>\n",
       "    </tr>\n",
       "    <tr>\n",
       "      <th>minority</th>\n",
       "      <td>0.196251</td>\n",
       "      <td>0.533454</td>\n",
       "      <td>0.217991</td>\n",
       "      <td>0.122766</td>\n",
       "      <td>0.904799</td>\n",
       "      <td>0.028294</td>\n",
       "      <td>0.912512</td>\n",
       "      <td>20540.0</td>\n",
       "    </tr>\n",
       "  </tbody>\n",
       "</table>\n",
       "</div>"
      ],
      "text/plain": [
       "          accuracy  balanced accuracy        f1  precision  \\\n",
       "majmin                                                       \n",
       "majority  0.206491           0.537411  0.247433   0.141442   \n",
       "minority  0.196251           0.533454  0.217991   0.122766   \n",
       "\n",
       "          false positive rate  false negative rate  selection rate    count  \n",
       "majmin                                                                       \n",
       "majority             0.912377             0.012801        0.922264  69170.0  \n",
       "minority             0.904799             0.028294        0.912512  20540.0  "
      ]
     },
     "execution_count": 60,
     "metadata": {},
     "output_type": "execute_result"
    }
   ],
   "source": [
    "metric_frame.by_group"
   ]
  },
  {
   "cell_type": "code",
   "execution_count": 61,
   "id": "6e6c20ae",
   "metadata": {
    "execution": {
     "iopub.execute_input": "2025-08-19T18:33:17.074112Z",
     "iopub.status.busy": "2025-08-19T18:33:17.073461Z",
     "iopub.status.idle": "2025-08-19T18:33:18.872297Z",
     "shell.execute_reply": "2025-08-19T18:33:18.868028Z"
    },
    "papermill": {
     "duration": 1.818105,
     "end_time": "2025-08-19T18:33:18.874960",
     "exception": false,
     "start_time": "2025-08-19T18:33:17.056855",
     "status": "completed"
    },
    "tags": []
   },
   "outputs": [
    {
     "data": {
      "text/plain": [
       "array([[<Axes: title={'center': 'accuracy'}, xlabel='majmin'>,\n",
       "        <Axes: title={'center': 'balanced accuracy'}, xlabel='majmin'>,\n",
       "        <Axes: title={'center': 'f1'}, xlabel='majmin'>],\n",
       "       [<Axes: title={'center': 'precision'}, xlabel='majmin'>,\n",
       "        <Axes: title={'center': 'false positive rate'}, xlabel='majmin'>,\n",
       "        <Axes: title={'center': 'false negative rate'}, xlabel='majmin'>],\n",
       "       [<Axes: title={'center': 'selection rate'}, xlabel='majmin'>,\n",
       "        <Axes: title={'center': 'count'}, xlabel='majmin'>,\n",
       "        <Axes: xlabel='majmin'>]], dtype=object)"
      ]
     },
     "execution_count": 61,
     "metadata": {},
     "output_type": "execute_result"
    },
    {
     "data": {
      "image/png": "[encoded data removed]",
      "text/plain": [
       "<Figure size 1200x800 with 9 Axes>"
      ]
     },
     "metadata": {},
     "output_type": "display_data"
    }
   ],
   "source": [
    "# In a graphic\n",
    "metric_frame.by_group.plot.bar(\n",
    "    subplots=True,\n",
    "    layout=[3, 3],\n",
    "    legend=False,\n",
    "    figsize=[12, 8],\n",
    "    title=\"Show all metrics\",\n",
    ")"
   ]
  },
  {
   "cell_type": "markdown",
   "id": "b2e433ae",
   "metadata": {
    "papermill": {
     "duration": 0.014387,
     "end_time": "2025-08-19T18:33:18.915610",
     "exception": false,
     "start_time": "2025-08-19T18:33:18.901223",
     "status": "completed"
    },
    "tags": []
   },
   "source": [
    "# Final Output"
   ]
  },
  {
   "cell_type": "code",
   "execution_count": 62,
   "id": "3871301e",
   "metadata": {
    "execution": {
     "iopub.execute_input": "2025-08-19T18:33:18.948526Z",
     "iopub.status.busy": "2025-08-19T18:33:18.946929Z",
     "iopub.status.idle": "2025-08-19T18:33:18.964441Z",
     "shell.execute_reply": "2025-08-19T18:33:18.963400Z"
    },
    "papermill": {
     "duration": 0.03627,
     "end_time": "2025-08-19T18:33:18.966011",
     "exception": false,
     "start_time": "2025-08-19T18:33:18.929741",
     "status": "completed"
    },
    "tags": []
   },
   "outputs": [
    {
     "data": {
      "text/plain": [
       "4"
      ]
     },
     "execution_count": 62,
     "metadata": {},
     "output_type": "execute_result"
    }
   ],
   "source": [
    "sub_universes = universe_analysis.generate_sub_universes()\n",
    "len(sub_universes)"
   ]
  },
  {
   "cell_type": "code",
   "execution_count": 63,
   "id": "d9cfdaca",
   "metadata": {
    "execution": {
     "iopub.execute_input": "2025-08-19T18:33:19.005509Z",
     "iopub.status.busy": "2025-08-19T18:33:19.004793Z",
     "iopub.status.idle": "2025-08-19T18:33:19.014739Z",
     "shell.execute_reply": "2025-08-19T18:33:19.013070Z"
    },
    "papermill": {
     "duration": 0.028924,
     "end_time": "2025-08-19T18:33:19.016422",
     "exception": false,
     "start_time": "2025-08-19T18:33:18.987498",
     "status": "completed"
    },
    "tags": []
   },
   "outputs": [],
   "source": [
    "def filter_sub_universe_data(sub_universe, org_test):\n",
    "    # Keep all rows — no filtering\n",
    "    keep_rows_mask = np.ones(org_test.shape[0], dtype=bool)\n",
    "\n",
    "    print(f\"[INFO] Keeping all rows: {keep_rows_mask.sum()} rows retained.\")\n",
    "    return keep_rows_mask"
   ]
  },
  {
   "cell_type": "code",
   "execution_count": 64,
   "id": "2bc31ac1",
   "metadata": {
    "execution": {
     "iopub.execute_input": "2025-08-19T18:33:19.055198Z",
     "iopub.status.busy": "2025-08-19T18:33:19.054422Z",
     "iopub.status.idle": "2025-08-19T18:33:25.985367Z",
     "shell.execute_reply": "2025-08-19T18:33:25.984209Z"
    },
    "papermill": {
     "duration": 6.950548,
     "end_time": "2025-08-19T18:33:25.987790",
     "exception": false,
     "start_time": "2025-08-19T18:33:19.037242",
     "status": "completed"
    },
    "tags": []
   },
   "outputs": [
    {
     "name": "stdout",
     "output_type": "stream",
     "text": [
      "Stopping execution_time clock.\n",
      "[INFO] Keeping all rows: 89710 rows retained.\n"
     ]
    },
    {
     "name": "stdout",
     "output_type": "stream",
     "text": [
      "[INFO] Keeping all rows: 89710 rows retained.\n"
     ]
    },
    {
     "name": "stdout",
     "output_type": "stream",
     "text": [
      "[INFO] Keeping all rows: 89710 rows retained.\n"
     ]
    },
    {
     "name": "stdout",
     "output_type": "stream",
     "text": [
      "[INFO] Keeping all rows: 89710 rows retained.\n"
     ]
    },
    {
     "data": {
      "text/html": [
       "<div>\n",
       "<style scoped>\n",
       "    .dataframe tbody tr th:only-of-type {\n",
       "        vertical-align: middle;\n",
       "    }\n",
       "\n",
       "    .dataframe tbody tr th {\n",
       "        vertical-align: top;\n",
       "    }\n",
       "\n",
       "    .dataframe thead th {\n",
       "        text-align: right;\n",
       "    }\n",
       "</style>\n",
       "<table border=\"1\" class=\"dataframe\">\n",
       "  <thead>\n",
       "    <tr style=\"text-align: right;\">\n",
       "      <th></th>\n",
       "      <th>run_no</th>\n",
       "      <th>universe_id</th>\n",
       "      <th>universe_settings</th>\n",
       "      <th>execution_time</th>\n",
       "      <th>test_size_n</th>\n",
       "      <th>test_size_frac</th>\n",
       "      <th>fair_main_equalized_odds_difference</th>\n",
       "      <th>fair_main_equalized_odds_ratio</th>\n",
       "      <th>fair_main_demographic_parity_difference</th>\n",
       "      <th>fair_main_demographic_parity_ratio</th>\n",
       "      <th>...</th>\n",
       "      <th>perf_grp_precision_0</th>\n",
       "      <th>perf_grp_precision_1</th>\n",
       "      <th>perf_grp_false positive rate_0</th>\n",
       "      <th>perf_grp_false positive rate_1</th>\n",
       "      <th>perf_grp_false negative rate_0</th>\n",
       "      <th>perf_grp_false negative rate_1</th>\n",
       "      <th>perf_grp_selection rate_0</th>\n",
       "      <th>perf_grp_selection rate_1</th>\n",
       "      <th>perf_grp_count_0</th>\n",
       "      <th>perf_grp_count_1</th>\n",
       "    </tr>\n",
       "  </thead>\n",
       "  <tbody>\n",
       "    <tr>\n",
       "      <th>0</th>\n",
       "      <td>3</td>\n",
       "      <td>fdec3234b07ef23da05020480aa9b2f2</td>\n",
       "      <td>{\"cutoff\": \"quantile_0.1\", \"eval_fairness_grou...</td>\n",
       "      <td>28.939677</td>\n",
       "      <td>89710</td>\n",
       "      <td>1.0</td>\n",
       "      <td>0.015493</td>\n",
       "      <td>0.984306</td>\n",
       "      <td>0.009752</td>\n",
       "      <td>0.989426</td>\n",
       "      <td>...</td>\n",
       "      <td>NaN</td>\n",
       "      <td>NaN</td>\n",
       "      <td>NaN</td>\n",
       "      <td>NaN</td>\n",
       "      <td>NaN</td>\n",
       "      <td>NaN</td>\n",
       "      <td>NaN</td>\n",
       "      <td>NaN</td>\n",
       "      <td>NaN</td>\n",
       "      <td>NaN</td>\n",
       "    </tr>\n",
       "    <tr>\n",
       "      <th>0</th>\n",
       "      <td>3</td>\n",
       "      <td>fdec3234b07ef23da05020480aa9b2f2</td>\n",
       "      <td>{\"cutoff\": \"quantile_0.1\", \"eval_fairness_grou...</td>\n",
       "      <td>28.939677</td>\n",
       "      <td>89710</td>\n",
       "      <td>1.0</td>\n",
       "      <td>0.015493</td>\n",
       "      <td>0.984306</td>\n",
       "      <td>0.009752</td>\n",
       "      <td>0.989426</td>\n",
       "      <td>...</td>\n",
       "      <td>0.122766</td>\n",
       "      <td>0.141442</td>\n",
       "      <td>0.904799</td>\n",
       "      <td>0.912377</td>\n",
       "      <td>0.028294</td>\n",
       "      <td>0.012801</td>\n",
       "      <td>0.912512</td>\n",
       "      <td>0.922264</td>\n",
       "      <td>20540.0</td>\n",
       "      <td>69170.0</td>\n",
       "    </tr>\n",
       "    <tr>\n",
       "      <th>0</th>\n",
       "      <td>3</td>\n",
       "      <td>fdec3234b07ef23da05020480aa9b2f2</td>\n",
       "      <td>{\"cutoff\": \"quantile_0.25\", \"eval_fairness_gro...</td>\n",
       "      <td>28.939677</td>\n",
       "      <td>89710</td>\n",
       "      <td>1.0</td>\n",
       "      <td>0.060944</td>\n",
       "      <td>0.935410</td>\n",
       "      <td>0.003984</td>\n",
       "      <td>0.994731</td>\n",
       "      <td>...</td>\n",
       "      <td>NaN</td>\n",
       "      <td>NaN</td>\n",
       "      <td>NaN</td>\n",
       "      <td>NaN</td>\n",
       "      <td>NaN</td>\n",
       "      <td>NaN</td>\n",
       "      <td>NaN</td>\n",
       "      <td>NaN</td>\n",
       "      <td>NaN</td>\n",
       "      <td>NaN</td>\n",
       "    </tr>\n",
       "    <tr>\n",
       "      <th>0</th>\n",
       "      <td>3</td>\n",
       "      <td>fdec3234b07ef23da05020480aa9b2f2</td>\n",
       "      <td>{\"cutoff\": \"quantile_0.25\", \"eval_fairness_gro...</td>\n",
       "      <td>28.939677</td>\n",
       "      <td>89710</td>\n",
       "      <td>1.0</td>\n",
       "      <td>0.060944</td>\n",
       "      <td>0.935410</td>\n",
       "      <td>0.003984</td>\n",
       "      <td>0.994731</td>\n",
       "      <td>...</td>\n",
       "      <td>0.135266</td>\n",
       "      <td>0.164870</td>\n",
       "      <td>0.735252</td>\n",
       "      <td>0.727703</td>\n",
       "      <td>0.117399</td>\n",
       "      <td>0.056455</td>\n",
       "      <td>0.752240</td>\n",
       "      <td>0.756224</td>\n",
       "      <td>20540.0</td>\n",
       "      <td>69170.0</td>\n",
       "    </tr>\n",
       "  </tbody>\n",
       "</table>\n",
       "<p>4 rows × 50 columns</p>\n",
       "</div>"
      ],
      "text/plain": [
       "  run_no                       universe_id  \\\n",
       "0      3  fdec3234b07ef23da05020480aa9b2f2   \n",
       "0      3  fdec3234b07ef23da05020480aa9b2f2   \n",
       "0      3  fdec3234b07ef23da05020480aa9b2f2   \n",
       "0      3  fdec3234b07ef23da05020480aa9b2f2   \n",
       "\n",
       "                                   universe_settings  execution_time  \\\n",
       "0  {\"cutoff\": \"quantile_0.1\", \"eval_fairness_grou...       28.939677   \n",
       "0  {\"cutoff\": \"quantile_0.1\", \"eval_fairness_grou...       28.939677   \n",
       "0  {\"cutoff\": \"quantile_0.25\", \"eval_fairness_gro...       28.939677   \n",
       "0  {\"cutoff\": \"quantile_0.25\", \"eval_fairness_gro...       28.939677   \n",
       "\n",
       "   test_size_n  test_size_frac  fair_main_equalized_odds_difference  \\\n",
       "0        89710             1.0                             0.015493   \n",
       "0        89710             1.0                             0.015493   \n",
       "0        89710             1.0                             0.060944   \n",
       "0        89710             1.0                             0.060944   \n",
       "\n",
       "   fair_main_equalized_odds_ratio  fair_main_demographic_parity_difference  \\\n",
       "0                        0.984306                                 0.009752   \n",
       "0                        0.984306                                 0.009752   \n",
       "0                        0.935410                                 0.003984   \n",
       "0                        0.935410                                 0.003984   \n",
       "\n",
       "   fair_main_demographic_parity_ratio  ...  perf_grp_precision_0  \\\n",
       "0                            0.989426  ...                   NaN   \n",
       "0                            0.989426  ...              0.122766   \n",
       "0                            0.994731  ...                   NaN   \n",
       "0                            0.994731  ...              0.135266   \n",
       "\n",
       "   perf_grp_precision_1  perf_grp_false positive rate_0  \\\n",
       "0                   NaN                             NaN   \n",
       "0              0.141442                        0.904799   \n",
       "0                   NaN                             NaN   \n",
       "0              0.164870                        0.735252   \n",
       "\n",
       "   perf_grp_false positive rate_1  perf_grp_false negative rate_0  \\\n",
       "0                             NaN                             NaN   \n",
       "0                        0.912377                        0.028294   \n",
       "0                             NaN                             NaN   \n",
       "0                        0.727703                        0.117399   \n",
       "\n",
       "   perf_grp_false negative rate_1  perf_grp_selection rate_0  \\\n",
       "0                             NaN                        NaN   \n",
       "0                        0.012801                   0.912512   \n",
       "0                             NaN                        NaN   \n",
       "0                        0.056455                   0.752240   \n",
       "\n",
       "   perf_grp_selection rate_1  perf_grp_count_0  perf_grp_count_1  \n",
       "0                        NaN               NaN               NaN  \n",
       "0                   0.922264           20540.0           69170.0  \n",
       "0                        NaN               NaN               NaN  \n",
       "0                   0.756224           20540.0           69170.0  \n",
       "\n",
       "[4 rows x 50 columns]"
      ]
     },
     "execution_count": 64,
     "metadata": {},
     "output_type": "execute_result"
    }
   ],
   "source": [
    "final_output = universe_analysis.generate_final_output(\n",
    "    y_pred_prob=probs_test,\n",
    "    y_test=y_true,\n",
    "    org_test=org_test,\n",
    "    filter_data=filter_sub_universe_data,\n",
    "    cp_metrics_df=cp_metrics_df,\n",
    "    save=True,\n",
    ")\n",
    "final_output"
   ]
  },
  {
   "cell_type": "code",
   "execution_count": null,
   "id": "8b80a1ff",
   "metadata": {
    "papermill": {
     "duration": 0.016578,
     "end_time": "2025-08-19T18:33:26.032574",
     "exception": false,
     "start_time": "2025-08-19T18:33:26.015996",
     "status": "completed"
    },
    "tags": []
   },
   "outputs": [],
   "source": []
  },
  {
   "cell_type": "code",
   "execution_count": null,
   "id": "275c9fad",
   "metadata": {
    "papermill": {
     "duration": 0.028122,
     "end_time": "2025-08-19T18:33:26.076555",
     "exception": false,
     "start_time": "2025-08-19T18:33:26.048433",
     "status": "completed"
    },
    "tags": []
   },
   "outputs": [],
   "source": []
  }
 ],
 "metadata": {
  "celltoolbar": "Tags",
  "kernelspec": {
   "display_name": "Python (CMA Fairness)",
   "language": "python",
   "name": "cma_fair_env"
  },
  "language_info": {
   "codemirror_mode": {
    "name": "ipython",
    "version": 3
   },
   "file_extension": ".py",
   "mimetype": "text/x-python",
   "name": "python",
   "nbconvert_exporter": "python",
   "pygments_lexer": "ipython3",
   "version": "3.10.12"
  },
  "papermill": {
   "default_parameters": {},
   "duration": 39.685063,
   "end_time": "2025-08-19T18:33:26.923230",
   "environment_variables": {},
   "exception": null,
   "input_path": "universe_analysis.ipynb",
   "output_path": "output/runs/3/notebooks/m_3-fdec3234b07ef23da05020480aa9b2f2.ipynb",
   "parameters": {
    "output_dir": "output",
    "run_no": "3",
    "seed": "2023",
    "universe": "{\"cutoff\": [\"quantile_0.1\", \"quantile_0.25\"], \"eval_fairness_grouping\": [\"majority-minority\", \"nationality-all\"], \"exclude_features\": \"sex\", \"exclude_subgroups\": \"drop-non-german\", \"model\": \"rf\", \"scale\": \"scale\", \"training_size\": \"5k\", \"training_year\": \"2012_14\"}",
    "universe_id": "fdec3234b07ef23da05020480aa9b2f2"
   },
   "start_time": "2025-08-19T18:32:47.238167",
   "version": "2.6.0"
  }
 },
 "nbformat": 4,
 "nbformat_minor": 5
}