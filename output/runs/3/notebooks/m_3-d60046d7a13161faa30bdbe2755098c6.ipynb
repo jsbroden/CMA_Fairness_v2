{
 "cells": [
  {
   "cell_type": "markdown",
   "id": "ef23dbb3",
   "metadata": {
    "papermill": {
     "duration": 0.023074,
     "end_time": "2025-08-19T18:15:17.813258",
     "exception": false,
     "start_time": "2025-08-19T18:15:17.790184",
     "status": "completed"
    },
    "tags": []
   },
   "source": [
    "# Setup"
   ]
  },
  {
   "cell_type": "code",
   "execution_count": 1,
   "id": "0bc8e7dc",
   "metadata": {
    "execution": {
     "iopub.execute_input": "2025-08-19T18:15:17.837150Z",
     "iopub.status.busy": "2025-08-19T18:15:17.836532Z",
     "iopub.status.idle": "2025-08-19T18:15:17.849436Z",
     "shell.execute_reply": "2025-08-19T18:15:17.848524Z"
    },
    "papermill": {
     "duration": 0.024996,
     "end_time": "2025-08-19T18:15:17.850949",
     "exception": false,
     "start_time": "2025-08-19T18:15:17.825953",
     "status": "completed"
    },
    "tags": []
   },
   "outputs": [
    {
     "name": "stdout",
     "output_type": "stream",
     "text": [
      "/dss/dsshome1/0C/ra93lal2/cma/CMA_Fairness_v2\n"
     ]
    },
    {
     "name": "stderr",
     "output_type": "stream",
     "text": [
      "/dss/dsshome1/0C/ra93lal2/.local/share/virtualenvs/CMA_Fairness_v2-3j10GkSs/lib/python3.10/site-packages/IPython/core/magics/osm.py:393: UserWarning: This is now an optional IPython functionality, using bookmarks requires you to install the `pickleshare` library.\n",
      "  bkms = self.shell.db.get('bookmarks', {})\n",
      "/dss/dsshome1/0C/ra93lal2/.local/share/virtualenvs/CMA_Fairness_v2-3j10GkSs/lib/python3.10/site-packages/IPython/core/magics/osm.py:417: UserWarning: This is now an optional IPython functionality, setting dhist requires you to install the `pickleshare` library.\n",
      "  self.shell.db['dhist'] = compress_dhist(dhist)[-100:]\n"
     ]
    }
   ],
   "source": [
    "%cd ~/cma/CMA_Fairness_v2"
   ]
  },
  {
   "cell_type": "markdown",
   "id": "9d235661",
   "metadata": {
    "papermill": {
     "duration": 0.009745,
     "end_time": "2025-08-19T18:15:17.869883",
     "exception": false,
     "start_time": "2025-08-19T18:15:17.860138",
     "status": "completed"
    },
    "tags": []
   },
   "source": [
    "The following cell holds the definition of our parameters, these values can be overriden by rendering the with e.g. the following command:\n",
    "\n",
    "papermill -p alpha 0.2 -p ratio 0.3 universe_analysis.ipynb output/test_run.ipynb"
   ]
  },
  {
   "cell_type": "code",
   "execution_count": 2,
   "id": "4a789d8e",
   "metadata": {
    "execution": {
     "iopub.execute_input": "2025-08-19T18:15:17.889674Z",
     "iopub.status.busy": "2025-08-19T18:15:17.889141Z",
     "iopub.status.idle": "2025-08-19T18:15:17.894366Z",
     "shell.execute_reply": "2025-08-19T18:15:17.893650Z"
    },
    "papermill": {
     "duration": 0.016957,
     "end_time": "2025-08-19T18:15:17.895789",
     "exception": false,
     "start_time": "2025-08-19T18:15:17.878832",
     "status": "completed"
    },
    "tags": []
   },
   "outputs": [
    {
     "name": "stdout",
     "output_type": "stream",
     "text": [
      "Current working directory: /dss/dsshome1/0C/ra93lal2/cma/CMA_Fairness_v2\n"
     ]
    }
   ],
   "source": [
    "import os\n",
    "print(\"Current working directory:\", os.getcwd())"
   ]
  },
  {
   "cell_type": "code",
   "execution_count": 3,
   "id": "4132aaed",
   "metadata": {
    "execution": {
     "iopub.execute_input": "2025-08-19T18:15:17.916885Z",
     "iopub.status.busy": "2025-08-19T18:15:17.916001Z",
     "iopub.status.idle": "2025-08-19T18:15:17.921518Z",
     "shell.execute_reply": "2025-08-19T18:15:17.920693Z"
    },
    "papermill": {
     "duration": 0.01788,
     "end_time": "2025-08-19T18:15:17.923091",
     "exception": false,
     "start_time": "2025-08-19T18:15:17.905211",
     "status": "completed"
    },
    "tags": [
     "parameters"
    ]
   },
   "outputs": [],
   "source": [
    "run_no = 0\n",
    "universe_id = \"test\"\n",
    "universe = {\n",
    "    \"training_size\": \"5k\", # \"25k\", \"5k\", \"1k\"\n",
    "    \"training_year\": \"2012_14\", # \"2014\", \"2012_14\", \"2010_14\"\n",
    "    \"scale\": \"scale\", # \"scale\", \"do-not-scale\",\n",
    "    \"model\": \"elasticnet\", # \"logreg\", \"penalized_logreg\", \"rf\", \"gbm\", \"elasticnet\"\n",
    "    \"cutoff\": [\"quantile_0.15\", \"quantile_0.30\"],\n",
    "    \"exclude_features\": \"age\", # \"none\", \"nationality\", \"sex\", \"nationality-sex\", \"age\"\n",
    "    \"exclude_subgroups\": \"drop-non-german\", # \"keep-all\", \"drop-non-german\"\n",
    "    \"eval_fairness_grouping\": [\"majority-minority\", \"nationality-all\"]\n",
    "}\n",
    "\n",
    "output_dir=\"./output\"\n",
    "seed=0"
   ]
  },
  {
   "cell_type": "code",
   "execution_count": 4,
   "id": "65fa2599",
   "metadata": {
    "execution": {
     "iopub.execute_input": "2025-08-19T18:15:17.944096Z",
     "iopub.status.busy": "2025-08-19T18:15:17.943722Z",
     "iopub.status.idle": "2025-08-19T18:15:17.956160Z",
     "shell.execute_reply": "2025-08-19T18:15:17.955334Z"
    },
    "papermill": {
     "duration": 0.025244,
     "end_time": "2025-08-19T18:15:17.958183",
     "exception": false,
     "start_time": "2025-08-19T18:15:17.932939",
     "status": "completed"
    },
    "tags": [
     "injected-parameters"
    ]
   },
   "outputs": [],
   "source": [
    "# Parameters\n",
    "universe_id = \"d60046d7a13161faa30bdbe2755098c6\"\n",
    "run_no = \"3\"\n",
    "universe = \"{\\\"cutoff\\\": [\\\"quantile_0.1\\\", \\\"quantile_0.25\\\"], \\\"eval_fairness_grouping\\\": [\\\"majority-minority\\\", \\\"nationality-all\\\"], \\\"exclude_features\\\": \\\"none\\\", \\\"exclude_subgroups\\\": \\\"keep-all\\\", \\\"model\\\": \\\"gbm\\\", \\\"scale\\\": \\\"scale\\\", \\\"training_size\\\": \\\"25k\\\", \\\"training_year\\\": \\\"2010_14\\\"}\"\n",
    "output_dir = \"output\"\n",
    "seed = \"2023\"\n"
   ]
  },
  {
   "cell_type": "code",
   "execution_count": 5,
   "id": "a5d7941f",
   "metadata": {
    "execution": {
     "iopub.execute_input": "2025-08-19T18:15:17.980680Z",
     "iopub.status.busy": "2025-08-19T18:15:17.980265Z",
     "iopub.status.idle": "2025-08-19T18:15:17.985349Z",
     "shell.execute_reply": "2025-08-19T18:15:17.984539Z"
    },
    "papermill": {
     "duration": 0.017103,
     "end_time": "2025-08-19T18:15:17.986840",
     "exception": false,
     "start_time": "2025-08-19T18:15:17.969737",
     "status": "completed"
    },
    "tags": []
   },
   "outputs": [],
   "source": [
    "import json\n",
    "if isinstance(universe, str):\n",
    "    universe = json.loads(universe)"
   ]
  },
  {
   "cell_type": "code",
   "execution_count": 6,
   "id": "7076ccb1",
   "metadata": {
    "execution": {
     "iopub.execute_input": "2025-08-19T18:15:18.011597Z",
     "iopub.status.busy": "2025-08-19T18:15:18.010999Z",
     "iopub.status.idle": "2025-08-19T18:15:18.054066Z",
     "shell.execute_reply": "2025-08-19T18:15:18.052921Z"
    },
    "papermill": {
     "duration": 0.059186,
     "end_time": "2025-08-19T18:15:18.055819",
     "exception": false,
     "start_time": "2025-08-19T18:15:17.996633",
     "status": "completed"
    },
    "tags": []
   },
   "outputs": [],
   "source": [
    "# Auto-reload the custom package\n",
    "%load_ext autoreload\n",
    "%autoreload 1\n",
    "%aimport fairness_multiverse"
   ]
  },
  {
   "cell_type": "code",
   "execution_count": 7,
   "id": "94c8eb93",
   "metadata": {
    "execution": {
     "iopub.execute_input": "2025-08-19T18:15:18.077649Z",
     "iopub.status.busy": "2025-08-19T18:15:18.077286Z",
     "iopub.status.idle": "2025-08-19T18:15:19.702161Z",
     "shell.execute_reply": "2025-08-19T18:15:19.700742Z"
    },
    "papermill": {
     "duration": 1.638238,
     "end_time": "2025-08-19T18:15:19.704273",
     "exception": false,
     "start_time": "2025-08-19T18:15:18.066035",
     "status": "completed"
    },
    "tags": []
   },
   "outputs": [],
   "source": [
    "from fairness_multiverse.universe import UniverseAnalysis\n",
    "\n",
    "universe_analysis = UniverseAnalysis(\n",
    "    run_no = run_no,\n",
    "    universe_id = universe_id,\n",
    "    universe = universe,\n",
    "    output_dir=output_dir,\n",
    ")"
   ]
  },
  {
   "cell_type": "code",
   "execution_count": 8,
   "id": "2a6381cf",
   "metadata": {
    "execution": {
     "iopub.execute_input": "2025-08-19T18:15:19.725921Z",
     "iopub.status.busy": "2025-08-19T18:15:19.724990Z",
     "iopub.status.idle": "2025-08-19T18:15:19.739118Z",
     "shell.execute_reply": "2025-08-19T18:15:19.736660Z"
    },
    "papermill": {
     "duration": 0.027406,
     "end_time": "2025-08-19T18:15:19.741352",
     "exception": false,
     "start_time": "2025-08-19T18:15:19.713946",
     "status": "completed"
    },
    "tags": []
   },
   "outputs": [
    {
     "name": "stdout",
     "output_type": "stream",
     "text": [
      "Using Seed: 2023\n"
     ]
    }
   ],
   "source": [
    "import numpy as np\n",
    "parsed_seed = int(seed)\n",
    "np.random.seed(parsed_seed)\n",
    "print(f\"Using Seed: {parsed_seed}\")"
   ]
  },
  {
   "cell_type": "markdown",
   "id": "b6e958b4",
   "metadata": {
    "papermill": {
     "duration": 0.010825,
     "end_time": "2025-08-19T18:15:19.766724",
     "exception": false,
     "start_time": "2025-08-19T18:15:19.755899",
     "status": "completed"
    },
    "tags": []
   },
   "source": [
    "# Loading Data"
   ]
  },
  {
   "cell_type": "code",
   "execution_count": 9,
   "id": "98701482",
   "metadata": {
    "execution": {
     "iopub.execute_input": "2025-08-19T18:15:19.787785Z",
     "iopub.status.busy": "2025-08-19T18:15:19.787221Z",
     "iopub.status.idle": "2025-08-19T18:15:29.633879Z",
     "shell.execute_reply": "2025-08-19T18:15:29.632903Z"
    },
    "papermill": {
     "duration": 9.858366,
     "end_time": "2025-08-19T18:15:29.635293",
     "exception": false,
     "start_time": "2025-08-19T18:15:19.776927",
     "status": "completed"
    },
    "tags": []
   },
   "outputs": [
    {
     "name": "stdout",
     "output_type": "stream",
     "text": [
      "Loading SIAB data from cache: data/siab_cached.csv.gz\n"
     ]
    },
    {
     "name": "stdout",
     "output_type": "stream",
     "text": [
      "(643690, 164)\n"
     ]
    }
   ],
   "source": [
    "from pathlib import Path\n",
    "import pandas as pd\n",
    "\n",
    "# File paths\n",
    "raw_file = Path(\"data/raw/siab.csv\")\n",
    "cache_file = Path(\"data/siab_cached.csv.gz\")\n",
    "\n",
    "# Ensure cache directory exists\n",
    "cache_file.parent.mkdir(parents=True, exist_ok=True)\n",
    "\n",
    "# Load with simple caching\n",
    "if cache_file.exists():\n",
    "    print(f\"Loading SIAB data from cache: {cache_file}\")\n",
    "    siab = pd.read_csv(cache_file, compression='gzip')\n",
    "else:\n",
    "    print(f\"Cache not found. Reading raw SIAB data: {raw_file}\")\n",
    "    siab = pd.read_csv(raw_file)\n",
    "    siab.to_csv(cache_file, index=False, compression='gzip')\n",
    "    print(f\"Cached SIAB data to: {cache_file}\")\n",
    "\n",
    "print(siab.shape)"
   ]
  },
  {
   "cell_type": "code",
   "execution_count": 10,
   "id": "058d2abb",
   "metadata": {
    "execution": {
     "iopub.execute_input": "2025-08-19T18:15:29.660684Z",
     "iopub.status.busy": "2025-08-19T18:15:29.659493Z",
     "iopub.status.idle": "2025-08-19T18:15:29.831298Z",
     "shell.execute_reply": "2025-08-19T18:15:29.830562Z"
    },
    "papermill": {
     "duration": 0.186432,
     "end_time": "2025-08-19T18:15:29.834452",
     "exception": false,
     "start_time": "2025-08-19T18:15:29.648020",
     "status": "completed"
    },
    "tags": []
   },
   "outputs": [
    {
     "data": {
      "text/html": [
       "<div>\n",
       "<style scoped>\n",
       "    .dataframe tbody tr th:only-of-type {\n",
       "        vertical-align: middle;\n",
       "    }\n",
       "\n",
       "    .dataframe tbody tr th {\n",
       "        vertical-align: top;\n",
       "    }\n",
       "\n",
       "    .dataframe thead th {\n",
       "        text-align: right;\n",
       "    }\n",
       "</style>\n",
       "<table border=\"1\" class=\"dataframe\">\n",
       "  <thead>\n",
       "    <tr style=\"text-align: right;\">\n",
       "      <th></th>\n",
       "      <th>persnr</th>\n",
       "      <th>year</th>\n",
       "      <th>nrEntry</th>\n",
       "      <th>ltue</th>\n",
       "      <th>employed_before</th>\n",
       "      <th>receipt_leh_before</th>\n",
       "      <th>receipt_lhg_before</th>\n",
       "      <th>se_before</th>\n",
       "      <th>ASU_notue_seeking_before</th>\n",
       "      <th>ASU_other_before</th>\n",
       "      <th>...</th>\n",
       "      <th>minijob_tot_dur_byage</th>\n",
       "      <th>ft_tot_dur_byage</th>\n",
       "      <th>befrist_tot_dur_byage</th>\n",
       "      <th>leih_tot_dur_byage</th>\n",
       "      <th>LHG_tot_dur_byage</th>\n",
       "      <th>LEH_tot_dur_byage</th>\n",
       "      <th>almp_tot_dur_byage</th>\n",
       "      <th>almp_aw_tot_dur_byage</th>\n",
       "      <th>se_tot_dur_byage</th>\n",
       "      <th>seeking1_tot_dur_byage</th>\n",
       "    </tr>\n",
       "  </thead>\n",
       "  <tbody>\n",
       "    <tr>\n",
       "      <th>0</th>\n",
       "      <td>7</td>\n",
       "      <td>2015</td>\n",
       "      <td>1</td>\n",
       "      <td>0</td>\n",
       "      <td>1</td>\n",
       "      <td>0</td>\n",
       "      <td>0</td>\n",
       "      <td>0</td>\n",
       "      <td>1</td>\n",
       "      <td>0</td>\n",
       "      <td>...</td>\n",
       "      <td>0.000000</td>\n",
       "      <td>0.000000</td>\n",
       "      <td>15.043478</td>\n",
       "      <td>0.000000</td>\n",
       "      <td>0.000000</td>\n",
       "      <td>0.000000</td>\n",
       "      <td>0.000000</td>\n",
       "      <td>0.000000</td>\n",
       "      <td>0.000000</td>\n",
       "      <td>0.000000</td>\n",
       "    </tr>\n",
       "    <tr>\n",
       "      <th>1</th>\n",
       "      <td>18</td>\n",
       "      <td>2010</td>\n",
       "      <td>1</td>\n",
       "      <td>1</td>\n",
       "      <td>0</td>\n",
       "      <td>0</td>\n",
       "      <td>0</td>\n",
       "      <td>0</td>\n",
       "      <td>0</td>\n",
       "      <td>0</td>\n",
       "      <td>...</td>\n",
       "      <td>0.000000</td>\n",
       "      <td>0.000000</td>\n",
       "      <td>0.000000</td>\n",
       "      <td>0.000000</td>\n",
       "      <td>0.000000</td>\n",
       "      <td>0.000000</td>\n",
       "      <td>0.000000</td>\n",
       "      <td>0.000000</td>\n",
       "      <td>0.000000</td>\n",
       "      <td>0.000000</td>\n",
       "    </tr>\n",
       "    <tr>\n",
       "      <th>2</th>\n",
       "      <td>18</td>\n",
       "      <td>2011</td>\n",
       "      <td>2</td>\n",
       "      <td>0</td>\n",
       "      <td>1</td>\n",
       "      <td>0</td>\n",
       "      <td>1</td>\n",
       "      <td>0</td>\n",
       "      <td>1</td>\n",
       "      <td>0</td>\n",
       "      <td>...</td>\n",
       "      <td>2.714286</td>\n",
       "      <td>2.714286</td>\n",
       "      <td>0.000000</td>\n",
       "      <td>0.000000</td>\n",
       "      <td>10.775510</td>\n",
       "      <td>0.000000</td>\n",
       "      <td>8.367347</td>\n",
       "      <td>0.000000</td>\n",
       "      <td>0.000000</td>\n",
       "      <td>9.836735</td>\n",
       "    </tr>\n",
       "    <tr>\n",
       "      <th>3</th>\n",
       "      <td>18</td>\n",
       "      <td>2012</td>\n",
       "      <td>3</td>\n",
       "      <td>0</td>\n",
       "      <td>1</td>\n",
       "      <td>0</td>\n",
       "      <td>1</td>\n",
       "      <td>0</td>\n",
       "      <td>1</td>\n",
       "      <td>0</td>\n",
       "      <td>...</td>\n",
       "      <td>4.200000</td>\n",
       "      <td>4.200000</td>\n",
       "      <td>0.000000</td>\n",
       "      <td>0.000000</td>\n",
       "      <td>12.100000</td>\n",
       "      <td>0.000000</td>\n",
       "      <td>9.400000</td>\n",
       "      <td>0.000000</td>\n",
       "      <td>0.000000</td>\n",
       "      <td>9.960000</td>\n",
       "    </tr>\n",
       "    <tr>\n",
       "      <th>4</th>\n",
       "      <td>18</td>\n",
       "      <td>2012</td>\n",
       "      <td>4</td>\n",
       "      <td>0</td>\n",
       "      <td>1</td>\n",
       "      <td>0</td>\n",
       "      <td>1</td>\n",
       "      <td>0</td>\n",
       "      <td>1</td>\n",
       "      <td>0</td>\n",
       "      <td>...</td>\n",
       "      <td>5.460000</td>\n",
       "      <td>5.460000</td>\n",
       "      <td>0.000000</td>\n",
       "      <td>0.000000</td>\n",
       "      <td>13.360000</td>\n",
       "      <td>0.000000</td>\n",
       "      <td>10.320000</td>\n",
       "      <td>0.000000</td>\n",
       "      <td>0.000000</td>\n",
       "      <td>10.280000</td>\n",
       "    </tr>\n",
       "    <tr>\n",
       "      <th>...</th>\n",
       "      <td>...</td>\n",
       "      <td>...</td>\n",
       "      <td>...</td>\n",
       "      <td>...</td>\n",
       "      <td>...</td>\n",
       "      <td>...</td>\n",
       "      <td>...</td>\n",
       "      <td>...</td>\n",
       "      <td>...</td>\n",
       "      <td>...</td>\n",
       "      <td>...</td>\n",
       "      <td>...</td>\n",
       "      <td>...</td>\n",
       "      <td>...</td>\n",
       "      <td>...</td>\n",
       "      <td>...</td>\n",
       "      <td>...</td>\n",
       "      <td>...</td>\n",
       "      <td>...</td>\n",
       "      <td>...</td>\n",
       "      <td>...</td>\n",
       "    </tr>\n",
       "    <tr>\n",
       "      <th>643685</th>\n",
       "      <td>1827860</td>\n",
       "      <td>2013</td>\n",
       "      <td>1</td>\n",
       "      <td>0</td>\n",
       "      <td>0</td>\n",
       "      <td>0</td>\n",
       "      <td>1</td>\n",
       "      <td>0</td>\n",
       "      <td>0</td>\n",
       "      <td>1</td>\n",
       "      <td>...</td>\n",
       "      <td>0.000000</td>\n",
       "      <td>0.000000</td>\n",
       "      <td>0.000000</td>\n",
       "      <td>0.000000</td>\n",
       "      <td>0.612903</td>\n",
       "      <td>0.000000</td>\n",
       "      <td>0.000000</td>\n",
       "      <td>0.000000</td>\n",
       "      <td>0.000000</td>\n",
       "      <td>0.000000</td>\n",
       "    </tr>\n",
       "    <tr>\n",
       "      <th>643686</th>\n",
       "      <td>1827860</td>\n",
       "      <td>2015</td>\n",
       "      <td>2</td>\n",
       "      <td>1</td>\n",
       "      <td>0</td>\n",
       "      <td>0</td>\n",
       "      <td>1</td>\n",
       "      <td>0</td>\n",
       "      <td>1</td>\n",
       "      <td>0</td>\n",
       "      <td>...</td>\n",
       "      <td>0.000000</td>\n",
       "      <td>0.000000</td>\n",
       "      <td>0.212121</td>\n",
       "      <td>0.212121</td>\n",
       "      <td>17.363636</td>\n",
       "      <td>0.000000</td>\n",
       "      <td>8.909091</td>\n",
       "      <td>0.000000</td>\n",
       "      <td>0.000000</td>\n",
       "      <td>7.121212</td>\n",
       "    </tr>\n",
       "    <tr>\n",
       "      <th>643687</th>\n",
       "      <td>1827860</td>\n",
       "      <td>2016</td>\n",
       "      <td>3</td>\n",
       "      <td>1</td>\n",
       "      <td>0</td>\n",
       "      <td>0</td>\n",
       "      <td>1</td>\n",
       "      <td>1</td>\n",
       "      <td>0</td>\n",
       "      <td>1</td>\n",
       "      <td>...</td>\n",
       "      <td>0.000000</td>\n",
       "      <td>0.000000</td>\n",
       "      <td>0.294118</td>\n",
       "      <td>0.205882</td>\n",
       "      <td>34.705882</td>\n",
       "      <td>0.000000</td>\n",
       "      <td>10.352941</td>\n",
       "      <td>1.705882</td>\n",
       "      <td>1.705882</td>\n",
       "      <td>23.911765</td>\n",
       "    </tr>\n",
       "    <tr>\n",
       "      <th>643688</th>\n",
       "      <td>1827869</td>\n",
       "      <td>2013</td>\n",
       "      <td>1</td>\n",
       "      <td>1</td>\n",
       "      <td>1</td>\n",
       "      <td>0</td>\n",
       "      <td>0</td>\n",
       "      <td>0</td>\n",
       "      <td>1</td>\n",
       "      <td>0</td>\n",
       "      <td>...</td>\n",
       "      <td>0.000000</td>\n",
       "      <td>0.000000</td>\n",
       "      <td>0.000000</td>\n",
       "      <td>0.000000</td>\n",
       "      <td>0.000000</td>\n",
       "      <td>0.525424</td>\n",
       "      <td>0.000000</td>\n",
       "      <td>0.000000</td>\n",
       "      <td>0.000000</td>\n",
       "      <td>0.000000</td>\n",
       "    </tr>\n",
       "    <tr>\n",
       "      <th>643689</th>\n",
       "      <td>1827869</td>\n",
       "      <td>2014</td>\n",
       "      <td>2</td>\n",
       "      <td>0</td>\n",
       "      <td>0</td>\n",
       "      <td>1</td>\n",
       "      <td>0</td>\n",
       "      <td>0</td>\n",
       "      <td>1</td>\n",
       "      <td>0</td>\n",
       "      <td>...</td>\n",
       "      <td>0.000000</td>\n",
       "      <td>0.666667</td>\n",
       "      <td>0.666667</td>\n",
       "      <td>0.000000</td>\n",
       "      <td>0.000000</td>\n",
       "      <td>8.950000</td>\n",
       "      <td>1.033333</td>\n",
       "      <td>0.083333</td>\n",
       "      <td>0.083333</td>\n",
       "      <td>8.133333</td>\n",
       "    </tr>\n",
       "  </tbody>\n",
       "</table>\n",
       "<p>643690 rows × 164 columns</p>\n",
       "</div>"
      ],
      "text/plain": [
       "         persnr  year  nrEntry  ltue  employed_before  receipt_leh_before  \\\n",
       "0             7  2015        1     0                1                   0   \n",
       "1            18  2010        1     1                0                   0   \n",
       "2            18  2011        2     0                1                   0   \n",
       "3            18  2012        3     0                1                   0   \n",
       "4            18  2012        4     0                1                   0   \n",
       "...         ...   ...      ...   ...              ...                 ...   \n",
       "643685  1827860  2013        1     0                0                   0   \n",
       "643686  1827860  2015        2     1                0                   0   \n",
       "643687  1827860  2016        3     1                0                   0   \n",
       "643688  1827869  2013        1     1                1                   0   \n",
       "643689  1827869  2014        2     0                0                   1   \n",
       "\n",
       "        receipt_lhg_before  se_before  ASU_notue_seeking_before  \\\n",
       "0                        0          0                         1   \n",
       "1                        0          0                         0   \n",
       "2                        1          0                         1   \n",
       "3                        1          0                         1   \n",
       "4                        1          0                         1   \n",
       "...                    ...        ...                       ...   \n",
       "643685                   1          0                         0   \n",
       "643686                   1          0                         1   \n",
       "643687                   1          1                         0   \n",
       "643688                   0          0                         1   \n",
       "643689                   0          0                         1   \n",
       "\n",
       "        ASU_other_before  ...  minijob_tot_dur_byage  ft_tot_dur_byage  \\\n",
       "0                      0  ...               0.000000          0.000000   \n",
       "1                      0  ...               0.000000          0.000000   \n",
       "2                      0  ...               2.714286          2.714286   \n",
       "3                      0  ...               4.200000          4.200000   \n",
       "4                      0  ...               5.460000          5.460000   \n",
       "...                  ...  ...                    ...               ...   \n",
       "643685                 1  ...               0.000000          0.000000   \n",
       "643686                 0  ...               0.000000          0.000000   \n",
       "643687                 1  ...               0.000000          0.000000   \n",
       "643688                 0  ...               0.000000          0.000000   \n",
       "643689                 0  ...               0.000000          0.666667   \n",
       "\n",
       "        befrist_tot_dur_byage  leih_tot_dur_byage  LHG_tot_dur_byage  \\\n",
       "0                   15.043478            0.000000           0.000000   \n",
       "1                    0.000000            0.000000           0.000000   \n",
       "2                    0.000000            0.000000          10.775510   \n",
       "3                    0.000000            0.000000          12.100000   \n",
       "4                    0.000000            0.000000          13.360000   \n",
       "...                       ...                 ...                ...   \n",
       "643685               0.000000            0.000000           0.612903   \n",
       "643686               0.212121            0.212121          17.363636   \n",
       "643687               0.294118            0.205882          34.705882   \n",
       "643688               0.000000            0.000000           0.000000   \n",
       "643689               0.666667            0.000000           0.000000   \n",
       "\n",
       "        LEH_tot_dur_byage  almp_tot_dur_byage  almp_aw_tot_dur_byage  \\\n",
       "0                0.000000            0.000000               0.000000   \n",
       "1                0.000000            0.000000               0.000000   \n",
       "2                0.000000            8.367347               0.000000   \n",
       "3                0.000000            9.400000               0.000000   \n",
       "4                0.000000           10.320000               0.000000   \n",
       "...                   ...                 ...                    ...   \n",
       "643685           0.000000            0.000000               0.000000   \n",
       "643686           0.000000            8.909091               0.000000   \n",
       "643687           0.000000           10.352941               1.705882   \n",
       "643688           0.525424            0.000000               0.000000   \n",
       "643689           8.950000            1.033333               0.083333   \n",
       "\n",
       "        se_tot_dur_byage  seeking1_tot_dur_byage  \n",
       "0               0.000000                0.000000  \n",
       "1               0.000000                0.000000  \n",
       "2               0.000000                9.836735  \n",
       "3               0.000000                9.960000  \n",
       "4               0.000000               10.280000  \n",
       "...                  ...                     ...  \n",
       "643685          0.000000                0.000000  \n",
       "643686          0.000000                7.121212  \n",
       "643687          1.705882               23.911765  \n",
       "643688          0.000000                0.000000  \n",
       "643689          0.083333                8.133333  \n",
       "\n",
       "[643690 rows x 164 columns]"
      ]
     },
     "execution_count": 10,
     "metadata": {},
     "output_type": "execute_result"
    }
   ],
   "source": [
    "siab"
   ]
  },
  {
   "cell_type": "markdown",
   "id": "1f87e805",
   "metadata": {
    "papermill": {
     "duration": 0.023055,
     "end_time": "2025-08-19T18:15:29.876928",
     "exception": false,
     "start_time": "2025-08-19T18:15:29.853873",
     "status": "completed"
    },
    "tags": []
   },
   "source": [
    "# Splitting Data and Setting Training Data Size"
   ]
  },
  {
   "cell_type": "code",
   "execution_count": 11,
   "id": "910ae358",
   "metadata": {
    "execution": {
     "iopub.execute_input": "2025-08-19T18:15:29.902492Z",
     "iopub.status.busy": "2025-08-19T18:15:29.901137Z",
     "iopub.status.idle": "2025-08-19T18:15:31.061283Z",
     "shell.execute_reply": "2025-08-19T18:15:31.060583Z"
    },
    "papermill": {
     "duration": 1.174612,
     "end_time": "2025-08-19T18:15:31.063872",
     "exception": false,
     "start_time": "2025-08-19T18:15:29.889260",
     "status": "completed"
    },
    "tags": []
   },
   "outputs": [],
   "source": [
    "from fairness_multiverse.universe import sample_by_year_size\n",
    "\n",
    "siab_train = sample_by_year_size(siab,\n",
    "                               training_year=universe[\"training_year\"],\n",
    "                               training_size=universe[\"training_size\"])"
   ]
  },
  {
   "cell_type": "code",
   "execution_count": 12,
   "id": "919c8ff5",
   "metadata": {
    "execution": {
     "iopub.execute_input": "2025-08-19T18:15:31.102797Z",
     "iopub.status.busy": "2025-08-19T18:15:31.101495Z",
     "iopub.status.idle": "2025-08-19T18:15:31.112872Z",
     "shell.execute_reply": "2025-08-19T18:15:31.111381Z"
    },
    "papermill": {
     "duration": 0.026525,
     "end_time": "2025-08-19T18:15:31.114168",
     "exception": false,
     "start_time": "2025-08-19T18:15:31.087643",
     "status": "completed"
    },
    "tags": []
   },
   "outputs": [
    {
     "data": {
      "text/plain": [
       "(25000, 164)"
      ]
     },
     "execution_count": 12,
     "metadata": {},
     "output_type": "execute_result"
    }
   ],
   "source": [
    "siab_train.shape"
   ]
  },
  {
   "cell_type": "code",
   "execution_count": 13,
   "id": "feb13bf4",
   "metadata": {
    "execution": {
     "iopub.execute_input": "2025-08-19T18:15:31.140439Z",
     "iopub.status.busy": "2025-08-19T18:15:31.138952Z",
     "iopub.status.idle": "2025-08-19T18:15:31.155038Z",
     "shell.execute_reply": "2025-08-19T18:15:31.153807Z"
    },
    "papermill": {
     "duration": 0.029306,
     "end_time": "2025-08-19T18:15:31.156643",
     "exception": false,
     "start_time": "2025-08-19T18:15:31.127337",
     "status": "completed"
    },
    "tags": []
   },
   "outputs": [
    {
     "data": {
      "text/plain": [
       "year\n",
       "2010    5000\n",
       "2011    5000\n",
       "2012    5000\n",
       "2013    5000\n",
       "2014    5000\n",
       "dtype: int64"
      ]
     },
     "metadata": {},
     "output_type": "display_data"
    }
   ],
   "source": [
    "display(siab_train.groupby(\"year\").size())"
   ]
  },
  {
   "cell_type": "code",
   "execution_count": 14,
   "id": "0997782f",
   "metadata": {
    "execution": {
     "iopub.execute_input": "2025-08-19T18:15:31.186107Z",
     "iopub.status.busy": "2025-08-19T18:15:31.185066Z",
     "iopub.status.idle": "2025-08-19T18:15:31.425148Z",
     "shell.execute_reply": "2025-08-19T18:15:31.424461Z"
    },
    "papermill": {
     "duration": 0.2553,
     "end_time": "2025-08-19T18:15:31.427705",
     "exception": false,
     "start_time": "2025-08-19T18:15:31.172405",
     "status": "completed"
    },
    "tags": []
   },
   "outputs": [],
   "source": [
    "#siab_train = siab_s[siab_s.year < 2015]\n",
    "siab_calib = siab[siab.year == 2015]\n",
    "siab_test = siab[siab.year == 2016]"
   ]
  },
  {
   "cell_type": "code",
   "execution_count": 15,
   "id": "2c1e4012",
   "metadata": {
    "execution": {
     "iopub.execute_input": "2025-08-19T18:15:31.466768Z",
     "iopub.status.busy": "2025-08-19T18:15:31.465590Z",
     "iopub.status.idle": "2025-08-19T18:15:31.474766Z",
     "shell.execute_reply": "2025-08-19T18:15:31.472890Z"
    },
    "papermill": {
     "duration": 0.02651,
     "end_time": "2025-08-19T18:15:31.478223",
     "exception": false,
     "start_time": "2025-08-19T18:15:31.451713",
     "status": "completed"
    },
    "tags": []
   },
   "outputs": [],
   "source": [
    "#siab_calib.shape"
   ]
  },
  {
   "cell_type": "code",
   "execution_count": 16,
   "id": "f66b54ca",
   "metadata": {
    "execution": {
     "iopub.execute_input": "2025-08-19T18:15:31.509951Z",
     "iopub.status.busy": "2025-08-19T18:15:31.509549Z",
     "iopub.status.idle": "2025-08-19T18:15:31.513311Z",
     "shell.execute_reply": "2025-08-19T18:15:31.512665Z"
    },
    "papermill": {
     "duration": 0.023534,
     "end_time": "2025-08-19T18:15:31.520665",
     "exception": false,
     "start_time": "2025-08-19T18:15:31.497131",
     "status": "completed"
    },
    "tags": []
   },
   "outputs": [],
   "source": [
    "#siab_test.shape"
   ]
  },
  {
   "cell_type": "code",
   "execution_count": 17,
   "id": "27e4384d",
   "metadata": {
    "execution": {
     "iopub.execute_input": "2025-08-19T18:15:31.543553Z",
     "iopub.status.busy": "2025-08-19T18:15:31.543034Z",
     "iopub.status.idle": "2025-08-19T18:15:31.560350Z",
     "shell.execute_reply": "2025-08-19T18:15:31.559580Z"
    },
    "papermill": {
     "duration": 0.031375,
     "end_time": "2025-08-19T18:15:31.562935",
     "exception": false,
     "start_time": "2025-08-19T18:15:31.531560",
     "status": "completed"
    },
    "tags": []
   },
   "outputs": [],
   "source": [
    "X_train = siab_train.iloc[:,4:164]\n",
    "y_train = siab_train.iloc[:, [3]]"
   ]
  },
  {
   "cell_type": "code",
   "execution_count": 18,
   "id": "08ee8389",
   "metadata": {
    "execution": {
     "iopub.execute_input": "2025-08-19T18:15:31.590978Z",
     "iopub.status.busy": "2025-08-19T18:15:31.590572Z",
     "iopub.status.idle": "2025-08-19T18:15:31.639483Z",
     "shell.execute_reply": "2025-08-19T18:15:31.638821Z"
    },
    "papermill": {
     "duration": 0.063712,
     "end_time": "2025-08-19T18:15:31.642634",
     "exception": false,
     "start_time": "2025-08-19T18:15:31.578922",
     "status": "completed"
    },
    "tags": []
   },
   "outputs": [],
   "source": [
    "X_calib = siab_calib.iloc[:,4:164]\n",
    "y_calib = siab_calib.iloc[:, [3]]"
   ]
  },
  {
   "cell_type": "code",
   "execution_count": 19,
   "id": "b7ff42e0",
   "metadata": {
    "execution": {
     "iopub.execute_input": "2025-08-19T18:15:31.688623Z",
     "iopub.status.busy": "2025-08-19T18:15:31.687527Z",
     "iopub.status.idle": "2025-08-19T18:15:31.745901Z",
     "shell.execute_reply": "2025-08-19T18:15:31.745149Z"
    },
    "papermill": {
     "duration": 0.081981,
     "end_time": "2025-08-19T18:15:31.747586",
     "exception": false,
     "start_time": "2025-08-19T18:15:31.665605",
     "status": "completed"
    },
    "tags": []
   },
   "outputs": [],
   "source": [
    "X_test = siab_test.iloc[:,4:164]\n",
    "y_true = siab_test.iloc[:, [3]]"
   ]
  },
  {
   "cell_type": "code",
   "execution_count": 20,
   "id": "0275101e",
   "metadata": {
    "execution": {
     "iopub.execute_input": "2025-08-19T18:15:31.771815Z",
     "iopub.status.busy": "2025-08-19T18:15:31.771400Z",
     "iopub.status.idle": "2025-08-19T18:15:31.887516Z",
     "shell.execute_reply": "2025-08-19T18:15:31.886821Z"
    },
    "papermill": {
     "duration": 0.129237,
     "end_time": "2025-08-19T18:15:31.889210",
     "exception": false,
     "start_time": "2025-08-19T18:15:31.759973",
     "status": "completed"
    },
    "tags": []
   },
   "outputs": [],
   "source": [
    "# Auxiliary data needed downstream in the pipeline\n",
    "\n",
    "org_train = X_train.copy()\n",
    "org_test = X_test.copy()\n",
    "org_calib = X_calib.copy()"
   ]
  },
  {
   "cell_type": "markdown",
   "id": "b461e618",
   "metadata": {
    "papermill": {
     "duration": 0.010862,
     "end_time": "2025-08-19T18:15:31.915012",
     "exception": false,
     "start_time": "2025-08-19T18:15:31.904150",
     "status": "completed"
    },
    "tags": []
   },
   "source": [
    "# Preprocessing Data"
   ]
  },
  {
   "cell_type": "code",
   "execution_count": 21,
   "id": "78e74c4b",
   "metadata": {
    "execution": {
     "iopub.execute_input": "2025-08-19T18:15:31.939082Z",
     "iopub.status.busy": "2025-08-19T18:15:31.937582Z",
     "iopub.status.idle": "2025-08-19T18:15:31.950564Z",
     "shell.execute_reply": "2025-08-19T18:15:31.949273Z"
    },
    "papermill": {
     "duration": 0.026331,
     "end_time": "2025-08-19T18:15:31.952026",
     "exception": false,
     "start_time": "2025-08-19T18:15:31.925695",
     "status": "completed"
    },
    "tags": []
   },
   "outputs": [],
   "source": [
    "# EXCLUDE PROTECTED FEATURES\n",
    "# --------------------------\n",
    "\n",
    "excluded_features = universe[\"exclude_features\"].split(\"-\")\n",
    "excluded_features_dictionary = {\n",
    "    \"nationality\": [\"maxdeutsch1\", \"maxdeutsch.Missing.\"],\n",
    "    \"sex\": [\"frau1\"],\n",
    "    \"age\": [\"age\"],\n",
    "}"
   ]
  },
  {
   "cell_type": "code",
   "execution_count": 22,
   "id": "f8e63555",
   "metadata": {
    "execution": {
     "iopub.execute_input": "2025-08-19T18:15:31.976900Z",
     "iopub.status.busy": "2025-08-19T18:15:31.976390Z",
     "iopub.status.idle": "2025-08-19T18:15:31.981568Z",
     "shell.execute_reply": "2025-08-19T18:15:31.980745Z"
    },
    "papermill": {
     "duration": 0.017904,
     "end_time": "2025-08-19T18:15:31.982965",
     "exception": false,
     "start_time": "2025-08-19T18:15:31.965061",
     "status": "completed"
    },
    "tags": []
   },
   "outputs": [],
   "source": [
    "excluded_features_columns = [\n",
    "    excluded_features_dictionary[f] for f in excluded_features if len(f) > 0 and f != \"none\"\n",
    "]"
   ]
  },
  {
   "cell_type": "code",
   "execution_count": 23,
   "id": "da781f7c",
   "metadata": {
    "execution": {
     "iopub.execute_input": "2025-08-19T18:15:32.005145Z",
     "iopub.status.busy": "2025-08-19T18:15:32.004697Z",
     "iopub.status.idle": "2025-08-19T18:15:32.009961Z",
     "shell.execute_reply": "2025-08-19T18:15:32.009165Z"
    },
    "papermill": {
     "duration": 0.018066,
     "end_time": "2025-08-19T18:15:32.011440",
     "exception": false,
     "start_time": "2025-08-19T18:15:31.993374",
     "status": "completed"
    },
    "tags": []
   },
   "outputs": [],
   "source": [
    "from fairness_multiverse.universe import flatten_once\n",
    "\n",
    "excluded_features_columns = flatten_once(excluded_features_columns)"
   ]
  },
  {
   "cell_type": "code",
   "execution_count": 24,
   "id": "37fef0f0",
   "metadata": {
    "execution": {
     "iopub.execute_input": "2025-08-19T18:15:32.034345Z",
     "iopub.status.busy": "2025-08-19T18:15:32.033899Z",
     "iopub.status.idle": "2025-08-19T18:15:32.040558Z",
     "shell.execute_reply": "2025-08-19T18:15:32.039598Z"
    },
    "papermill": {
     "duration": 0.019596,
     "end_time": "2025-08-19T18:15:32.042276",
     "exception": false,
     "start_time": "2025-08-19T18:15:32.022680",
     "status": "completed"
    },
    "tags": []
   },
   "outputs": [],
   "source": [
    "if len(excluded_features_columns) > 0:\n",
    "    print(f\"Dropping features: {excluded_features_columns}\")\n",
    "    X_train.drop(excluded_features_columns, axis=1, inplace=True)"
   ]
  },
  {
   "cell_type": "code",
   "execution_count": 25,
   "id": "d029e3e9",
   "metadata": {
    "execution": {
     "iopub.execute_input": "2025-08-19T18:15:32.064997Z",
     "iopub.status.busy": "2025-08-19T18:15:32.064611Z",
     "iopub.status.idle": "2025-08-19T18:15:32.069408Z",
     "shell.execute_reply": "2025-08-19T18:15:32.068525Z"
    },
    "papermill": {
     "duration": 0.018227,
     "end_time": "2025-08-19T18:15:32.070852",
     "exception": false,
     "start_time": "2025-08-19T18:15:32.052625",
     "status": "completed"
    },
    "tags": []
   },
   "outputs": [],
   "source": [
    "if len(excluded_features_columns) > 0:\n",
    "    print(f\"Dropping features: {excluded_features_columns}\")\n",
    "    X_test.drop(excluded_features_columns, axis=1, inplace=True)"
   ]
  },
  {
   "cell_type": "code",
   "execution_count": 26,
   "id": "01d571f0",
   "metadata": {
    "execution": {
     "iopub.execute_input": "2025-08-19T18:15:32.093845Z",
     "iopub.status.busy": "2025-08-19T18:15:32.093363Z",
     "iopub.status.idle": "2025-08-19T18:15:32.099316Z",
     "shell.execute_reply": "2025-08-19T18:15:32.098360Z"
    },
    "papermill": {
     "duration": 0.018896,
     "end_time": "2025-08-19T18:15:32.100812",
     "exception": false,
     "start_time": "2025-08-19T18:15:32.081916",
     "status": "completed"
    },
    "tags": []
   },
   "outputs": [],
   "source": [
    "if len(excluded_features_columns) > 0:\n",
    "    print(f\"Dropping features: {excluded_features_columns}\")\n",
    "    X_calib.drop(excluded_features_columns, axis=1, inplace=True)"
   ]
  },
  {
   "cell_type": "code",
   "execution_count": 27,
   "id": "3037356e",
   "metadata": {
    "execution": {
     "iopub.execute_input": "2025-08-19T18:15:32.123065Z",
     "iopub.status.busy": "2025-08-19T18:15:32.122601Z",
     "iopub.status.idle": "2025-08-19T18:15:32.132283Z",
     "shell.execute_reply": "2025-08-19T18:15:32.130189Z"
    },
    "papermill": {
     "duration": 0.0232,
     "end_time": "2025-08-19T18:15:32.134466",
     "exception": false,
     "start_time": "2025-08-19T18:15:32.111266",
     "status": "completed"
    },
    "tags": []
   },
   "outputs": [],
   "source": [
    "# EXCLUDE CERTAIN SUBGROUPS\n",
    "# -------------------------\n",
    "\n",
    "mode = universe.get(\"exclude_subgroups\", \"keep-all\") # Defaults to \"keep-all\" if the key is missing."
   ]
  },
  {
   "cell_type": "code",
   "execution_count": 28,
   "id": "9d1e63fd",
   "metadata": {
    "execution": {
     "iopub.execute_input": "2025-08-19T18:15:32.159433Z",
     "iopub.status.busy": "2025-08-19T18:15:32.158615Z",
     "iopub.status.idle": "2025-08-19T18:15:32.165471Z",
     "shell.execute_reply": "2025-08-19T18:15:32.164699Z"
    },
    "papermill": {
     "duration": 0.02104,
     "end_time": "2025-08-19T18:15:32.167583",
     "exception": false,
     "start_time": "2025-08-19T18:15:32.146543",
     "status": "completed"
    },
    "tags": []
   },
   "outputs": [],
   "source": [
    "if mode == \"keep-all\":\n",
    "    keep_mask = pd.Series(True, index=org_train.index)\n",
    "\n",
    "elif mode == \"drop-non-german\":\n",
    "    keep_mask = (org_train[\"maxdeutsch1\"] == 1) & (org_train[\"maxdeutsch.Missing.\"] == 0)\n",
    "\n",
    "else:\n",
    "    raise ValueError(f\"Unsupported mode for exclude_subgroups: {mode}\")"
   ]
  },
  {
   "cell_type": "code",
   "execution_count": 29,
   "id": "d3b65474",
   "metadata": {
    "execution": {
     "iopub.execute_input": "2025-08-19T18:15:32.192720Z",
     "iopub.status.busy": "2025-08-19T18:15:32.192086Z",
     "iopub.status.idle": "2025-08-19T18:15:32.198205Z",
     "shell.execute_reply": "2025-08-19T18:15:32.197432Z"
    },
    "papermill": {
     "duration": 0.018819,
     "end_time": "2025-08-19T18:15:32.199403",
     "exception": false,
     "start_time": "2025-08-19T18:15:32.180584",
     "status": "completed"
    },
    "tags": []
   },
   "outputs": [],
   "source": [
    "n_drop = (~keep_mask).sum() # Calculates how many rows are set to be dropped\n",
    "if n_drop > 0:\n",
    "    pct = n_drop / len(keep_mask) * 100\n",
    "    print(f\"Dropping {n_drop} rows ({pct:.2f}%) where mode='{mode}'\")"
   ]
  },
  {
   "cell_type": "code",
   "execution_count": 30,
   "id": "f44389b3",
   "metadata": {
    "execution": {
     "iopub.execute_input": "2025-08-19T18:15:32.224313Z",
     "iopub.status.busy": "2025-08-19T18:15:32.223253Z",
     "iopub.status.idle": "2025-08-19T18:15:32.242104Z",
     "shell.execute_reply": "2025-08-19T18:15:32.240868Z"
    },
    "papermill": {
     "duration": 0.032408,
     "end_time": "2025-08-19T18:15:32.243727",
     "exception": false,
     "start_time": "2025-08-19T18:15:32.211319",
     "status": "completed"
    },
    "tags": []
   },
   "outputs": [],
   "source": [
    "X_train = X_train[keep_mask]"
   ]
  },
  {
   "cell_type": "code",
   "execution_count": 31,
   "id": "ceca8c2a",
   "metadata": {
    "execution": {
     "iopub.execute_input": "2025-08-19T18:15:32.299400Z",
     "iopub.status.busy": "2025-08-19T18:15:32.299001Z",
     "iopub.status.idle": "2025-08-19T18:15:32.305644Z",
     "shell.execute_reply": "2025-08-19T18:15:32.304614Z"
    },
    "papermill": {
     "duration": 0.044582,
     "end_time": "2025-08-19T18:15:32.307457",
     "exception": false,
     "start_time": "2025-08-19T18:15:32.262875",
     "status": "completed"
    },
    "tags": []
   },
   "outputs": [],
   "source": [
    "y_train = y_train[keep_mask]"
   ]
  },
  {
   "cell_type": "markdown",
   "id": "04d31e2f",
   "metadata": {
    "papermill": {
     "duration": 0.011145,
     "end_time": "2025-08-19T18:15:32.331032",
     "exception": false,
     "start_time": "2025-08-19T18:15:32.319887",
     "status": "completed"
    },
    "tags": []
   },
   "source": [
    "# Model Training"
   ]
  },
  {
   "cell_type": "code",
   "execution_count": 32,
   "id": "db991733",
   "metadata": {
    "execution": {
     "iopub.execute_input": "2025-08-19T18:15:32.358373Z",
     "iopub.status.busy": "2025-08-19T18:15:32.356683Z",
     "iopub.status.idle": "2025-08-19T18:15:32.466335Z",
     "shell.execute_reply": "2025-08-19T18:15:32.465663Z"
    },
    "papermill": {
     "duration": 0.12554,
     "end_time": "2025-08-19T18:15:32.469252",
     "exception": false,
     "start_time": "2025-08-19T18:15:32.343712",
     "status": "completed"
    },
    "tags": []
   },
   "outputs": [],
   "source": [
    "from sklearn.linear_model import LogisticRegression\n",
    "from sklearn.ensemble import GradientBoostingClassifier, RandomForestClassifier\n",
    "\n",
    "if (universe[\"model\"] == \"logreg\"):\n",
    "    model = LogisticRegression() #penalty=\"none\", solver=\"newton-cg\", max_iter=1)\n",
    "elif (universe[\"model\"] == \"penalized_logreg\"):\n",
    "    model = LogisticRegression(penalty=\"l2\", C=0.1) #, solver=\"newton-cg\", max_iter=1)\n",
    "elif (universe[\"model\"] == \"rf\"):\n",
    "    model = RandomForestClassifier() # n_estimators=100, n_jobs=-1\n",
    "elif (universe[\"model\"] == \"gbm\"):\n",
    "    model = GradientBoostingClassifier()\n",
    "elif (universe[\"model\"] == \"elasticnet\"):\n",
    "    model = LogisticRegression(penalty = 'elasticnet', solver = 'saga', l1_ratio = 0.5) # max_iter=5000\n",
    "else:\n",
    "    raise \"Unsupported universe.model\""
   ]
  },
  {
   "cell_type": "code",
   "execution_count": 33,
   "id": "a4b5cd25",
   "metadata": {
    "execution": {
     "iopub.execute_input": "2025-08-19T18:15:32.509622Z",
     "iopub.status.busy": "2025-08-19T18:15:32.508317Z",
     "iopub.status.idle": "2025-08-19T18:15:32.520740Z",
     "shell.execute_reply": "2025-08-19T18:15:32.518689Z"
    },
    "papermill": {
     "duration": 0.028593,
     "end_time": "2025-08-19T18:15:32.522537",
     "exception": false,
     "start_time": "2025-08-19T18:15:32.493944",
     "status": "completed"
    },
    "tags": []
   },
   "outputs": [],
   "source": [
    "from sklearn.pipeline import Pipeline\n",
    "from sklearn.preprocessing import StandardScaler\n",
    "\n",
    "model = Pipeline([\n",
    "    #(\"continuous_processor\", continuous_processor),\n",
    "    #(\"categorical_preprocessor\", categorical_preprocessor),\n",
    "    (\"scale\", StandardScaler() if universe[\"scale\"] == \"scale\" else None), \n",
    "    (\"model\", model),\n",
    "])"
   ]
  },
  {
   "cell_type": "code",
   "execution_count": 34,
   "id": "283a904d",
   "metadata": {
    "execution": {
     "iopub.execute_input": "2025-08-19T18:15:32.550421Z",
     "iopub.status.busy": "2025-08-19T18:15:32.548800Z",
     "iopub.status.idle": "2025-08-19T18:15:55.012971Z",
     "shell.execute_reply": "2025-08-19T18:15:55.011919Z"
    },
    "papermill": {
     "duration": 22.478303,
     "end_time": "2025-08-19T18:15:55.014365",
     "exception": false,
     "start_time": "2025-08-19T18:15:32.536062",
     "status": "completed"
    },
    "tags": []
   },
   "outputs": [
    {
     "data": {
      "text/html": [
       "<style>#sk-container-id-1 {color: black;background-color: white;}#sk-container-id-1 pre{padding: 0;}#sk-container-id-1 div.sk-toggleable {background-color: white;}#sk-container-id-1 label.sk-toggleable__label {cursor: pointer;display: block;width: 100%;margin-bottom: 0;padding: 0.3em;box-sizing: border-box;text-align: center;}#sk-container-id-1 label.sk-toggleable__label-arrow:before {content: \"▸\";float: left;margin-right: 0.25em;color: #696969;}#sk-container-id-1 label.sk-toggleable__label-arrow:hover:before {color: black;}#sk-container-id-1 div.sk-estimator:hover label.sk-toggleable__label-arrow:before {color: black;}#sk-container-id-1 div.sk-toggleable__content {max-height: 0;max-width: 0;overflow: hidden;text-align: left;background-color: #f0f8ff;}#sk-container-id-1 div.sk-toggleable__content pre {margin: 0.2em;color: black;border-radius: 0.25em;background-color: #f0f8ff;}#sk-container-id-1 input.sk-toggleable__control:checked~div.sk-toggleable__content {max-height: 200px;max-width: 100%;overflow: auto;}#sk-container-id-1 input.sk-toggleable__control:checked~label.sk-toggleable__label-arrow:before {content: \"▾\";}#sk-container-id-1 div.sk-estimator input.sk-toggleable__control:checked~label.sk-toggleable__label {background-color: #d4ebff;}#sk-container-id-1 div.sk-label input.sk-toggleable__control:checked~label.sk-toggleable__label {background-color: #d4ebff;}#sk-container-id-1 input.sk-hidden--visually {border: 0;clip: rect(1px 1px 1px 1px);clip: rect(1px, 1px, 1px, 1px);height: 1px;margin: -1px;overflow: hidden;padding: 0;position: absolute;width: 1px;}#sk-container-id-1 div.sk-estimator {font-family: monospace;background-color: #f0f8ff;border: 1px dotted black;border-radius: 0.25em;box-sizing: border-box;margin-bottom: 0.5em;}#sk-container-id-1 div.sk-estimator:hover {background-color: #d4ebff;}#sk-container-id-1 div.sk-parallel-item::after {content: \"\";width: 100%;border-bottom: 1px solid gray;flex-grow: 1;}#sk-container-id-1 div.sk-label:hover label.sk-toggleable__label {background-color: #d4ebff;}#sk-container-id-1 div.sk-serial::before {content: \"\";position: absolute;border-left: 1px solid gray;box-sizing: border-box;top: 0;bottom: 0;left: 50%;z-index: 0;}#sk-container-id-1 div.sk-serial {display: flex;flex-direction: column;align-items: center;background-color: white;padding-right: 0.2em;padding-left: 0.2em;position: relative;}#sk-container-id-1 div.sk-item {position: relative;z-index: 1;}#sk-container-id-1 div.sk-parallel {display: flex;align-items: stretch;justify-content: center;background-color: white;position: relative;}#sk-container-id-1 div.sk-item::before, #sk-container-id-1 div.sk-parallel-item::before {content: \"\";position: absolute;border-left: 1px solid gray;box-sizing: border-box;top: 0;bottom: 0;left: 50%;z-index: -1;}#sk-container-id-1 div.sk-parallel-item {display: flex;flex-direction: column;z-index: 1;position: relative;background-color: white;}#sk-container-id-1 div.sk-parallel-item:first-child::after {align-self: flex-end;width: 50%;}#sk-container-id-1 div.sk-parallel-item:last-child::after {align-self: flex-start;width: 50%;}#sk-container-id-1 div.sk-parallel-item:only-child::after {width: 0;}#sk-container-id-1 div.sk-dashed-wrapped {border: 1px dashed gray;margin: 0 0.4em 0.5em 0.4em;box-sizing: border-box;padding-bottom: 0.4em;background-color: white;}#sk-container-id-1 div.sk-label label {font-family: monospace;font-weight: bold;display: inline-block;line-height: 1.2em;}#sk-container-id-1 div.sk-label-container {text-align: center;}#sk-container-id-1 div.sk-container {/* jupyter's `normalize.less` sets `[hidden] { display: none; }` but bootstrap.min.css set `[hidden] { display: none !important; }` so we also need the `!important` here to be able to override the default hidden behavior on the sphinx rendered scikit-learn.org. See: https://github.com/scikit-learn/scikit-learn/issues/21755 */display: inline-block !important;position: relative;}#sk-container-id-1 div.sk-text-repr-fallback {display: none;}</style><div id=\"sk-container-id-1\" class=\"sk-top-container\"><div class=\"sk-text-repr-fallback\"><pre>Pipeline(steps=[(&#x27;scale&#x27;, StandardScaler()),\n",
       "                (&#x27;model&#x27;, GradientBoostingClassifier())])</pre><b>In a Jupyter environment, please rerun this cell to show the HTML representation or trust the notebook. <br />On GitHub, the HTML representation is unable to render, please try loading this page with nbviewer.org.</b></div><div class=\"sk-container\" hidden><div class=\"sk-item sk-dashed-wrapped\"><div class=\"sk-label-container\"><div class=\"sk-label sk-toggleable\"><input class=\"sk-toggleable__control sk-hidden--visually\" id=\"sk-estimator-id-1\" type=\"checkbox\" ><label for=\"sk-estimator-id-1\" class=\"sk-toggleable__label sk-toggleable__label-arrow\">Pipeline</label><div class=\"sk-toggleable__content\"><pre>Pipeline(steps=[(&#x27;scale&#x27;, StandardScaler()),\n",
       "                (&#x27;model&#x27;, GradientBoostingClassifier())])</pre></div></div></div><div class=\"sk-serial\"><div class=\"sk-item\"><div class=\"sk-estimator sk-toggleable\"><input class=\"sk-toggleable__control sk-hidden--visually\" id=\"sk-estimator-id-2\" type=\"checkbox\" ><label for=\"sk-estimator-id-2\" class=\"sk-toggleable__label sk-toggleable__label-arrow\">StandardScaler</label><div class=\"sk-toggleable__content\"><pre>StandardScaler()</pre></div></div></div><div class=\"sk-item\"><div class=\"sk-estimator sk-toggleable\"><input class=\"sk-toggleable__control sk-hidden--visually\" id=\"sk-estimator-id-3\" type=\"checkbox\" ><label for=\"sk-estimator-id-3\" class=\"sk-toggleable__label sk-toggleable__label-arrow\">GradientBoostingClassifier</label><div class=\"sk-toggleable__content\"><pre>GradientBoostingClassifier()</pre></div></div></div></div></div></div></div>"
      ],
      "text/plain": [
       "Pipeline(steps=[('scale', StandardScaler()),\n",
       "                ('model', GradientBoostingClassifier())])"
      ]
     },
     "execution_count": 34,
     "metadata": {},
     "output_type": "execute_result"
    }
   ],
   "source": [
    "model.fit(X_train, y_train.values.ravel())"
   ]
  },
  {
   "cell_type": "code",
   "execution_count": 35,
   "id": "6e15e313",
   "metadata": {
    "execution": {
     "iopub.execute_input": "2025-08-19T18:15:55.042635Z",
     "iopub.status.busy": "2025-08-19T18:15:55.041627Z",
     "iopub.status.idle": "2025-08-19T18:15:55.634893Z",
     "shell.execute_reply": "2025-08-19T18:15:55.634245Z"
    },
    "papermill": {
     "duration": 0.607408,
     "end_time": "2025-08-19T18:15:55.636037",
     "exception": false,
     "start_time": "2025-08-19T18:15:55.028629",
     "status": "completed"
    },
    "tags": []
   },
   "outputs": [
    {
     "data": {
      "text/plain": [
       "0.8695351688774942"
      ]
     },
     "execution_count": 35,
     "metadata": {},
     "output_type": "execute_result"
    }
   ],
   "source": [
    "from fairness_multiverse.universe import predict_w_threshold\n",
    "\n",
    "probs_test = model.predict_proba(X_test)\n",
    "\n",
    "'''\n",
    "Below code returns a boolean array (or binary 0/1 array depending on how it’s used) where each element \n",
    "is True if the probability of class 1 is greater than or equal to the threshold, and False otherwise.\n",
    "'''\n",
    "y_pred_default = predict_w_threshold(probs_test, 0.5)\n",
    "\n",
    "from sklearn.metrics import accuracy_score\n",
    "\n",
    "# Naive prediction\n",
    "accuracy_score(y_true = y_true, y_pred = y_pred_default)"
   ]
  },
  {
   "cell_type": "code",
   "execution_count": 36,
   "id": "6f14067c",
   "metadata": {
    "execution": {
     "iopub.execute_input": "2025-08-19T18:15:55.659868Z",
     "iopub.status.busy": "2025-08-19T18:15:55.659518Z",
     "iopub.status.idle": "2025-08-19T18:15:56.225630Z",
     "shell.execute_reply": "2025-08-19T18:15:56.224650Z"
    },
    "papermill": {
     "duration": 0.579786,
     "end_time": "2025-08-19T18:15:56.227196",
     "exception": false,
     "start_time": "2025-08-19T18:15:55.647410",
     "status": "completed"
    },
    "tags": []
   },
   "outputs": [
    {
     "data": {
      "text/plain": [
       "array([0, 0, 0, ..., 0, 0, 0])"
      ]
     },
     "execution_count": 36,
     "metadata": {},
     "output_type": "execute_result"
    }
   ],
   "source": [
    "model.predict(X_test)"
   ]
  },
  {
   "cell_type": "markdown",
   "id": "3759920c",
   "metadata": {
    "papermill": {
     "duration": 0.01177,
     "end_time": "2025-08-19T18:15:56.253186",
     "exception": false,
     "start_time": "2025-08-19T18:15:56.241416",
     "status": "completed"
    },
    "tags": []
   },
   "source": [
    "# Conformal Prediction"
   ]
  },
  {
   "cell_type": "code",
   "execution_count": 37,
   "id": "14b27f59",
   "metadata": {
    "execution": {
     "iopub.execute_input": "2025-08-19T18:15:56.278460Z",
     "iopub.status.busy": "2025-08-19T18:15:56.277445Z",
     "iopub.status.idle": "2025-08-19T18:15:56.294393Z",
     "shell.execute_reply": "2025-08-19T18:15:56.292276Z"
    },
    "papermill": {
     "duration": 0.032141,
     "end_time": "2025-08-19T18:15:56.296533",
     "exception": false,
     "start_time": "2025-08-19T18:15:56.264392",
     "status": "completed"
    },
    "tags": []
   },
   "outputs": [],
   "source": [
    "# Miscoverage level for conformal prediction (10% allowed error rate => 90% target coverage)\n",
    "alpha = 0.1"
   ]
  },
  {
   "cell_type": "code",
   "execution_count": 38,
   "id": "59102472",
   "metadata": {
    "execution": {
     "iopub.execute_input": "2025-08-19T18:15:56.331640Z",
     "iopub.status.busy": "2025-08-19T18:15:56.330411Z",
     "iopub.status.idle": "2025-08-19T18:15:56.915932Z",
     "shell.execute_reply": "2025-08-19T18:15:56.914775Z"
    },
    "papermill": {
     "duration": 0.603771,
     "end_time": "2025-08-19T18:15:56.918047",
     "exception": false,
     "start_time": "2025-08-19T18:15:56.314276",
     "status": "completed"
    },
    "tags": []
   },
   "outputs": [],
   "source": [
    "probs_calib = model.predict_proba(X_calib)"
   ]
  },
  {
   "cell_type": "code",
   "execution_count": 39,
   "id": "a792d4dd",
   "metadata": {
    "execution": {
     "iopub.execute_input": "2025-08-19T18:15:56.955387Z",
     "iopub.status.busy": "2025-08-19T18:15:56.954933Z",
     "iopub.status.idle": "2025-08-19T18:15:56.960842Z",
     "shell.execute_reply": "2025-08-19T18:15:56.959572Z"
    },
    "papermill": {
     "duration": 0.030256,
     "end_time": "2025-08-19T18:15:56.966270",
     "exception": false,
     "start_time": "2025-08-19T18:15:56.936014",
     "status": "completed"
    },
    "tags": []
   },
   "outputs": [],
   "source": [
    "y_calib = y_calib.values.ravel().astype(int)"
   ]
  },
  {
   "cell_type": "code",
   "execution_count": 40,
   "id": "650fd033",
   "metadata": {
    "execution": {
     "iopub.execute_input": "2025-08-19T18:15:57.004311Z",
     "iopub.status.busy": "2025-08-19T18:15:57.003099Z",
     "iopub.status.idle": "2025-08-19T18:15:57.014799Z",
     "shell.execute_reply": "2025-08-19T18:15:57.013683Z"
    },
    "papermill": {
     "duration": 0.035966,
     "end_time": "2025-08-19T18:15:57.025393",
     "exception": false,
     "start_time": "2025-08-19T18:15:56.989427",
     "status": "completed"
    },
    "tags": []
   },
   "outputs": [],
   "source": [
    "from fairness_multiverse.conformal import compute_nc_scores\n",
    "\n",
    "# Compute nonconformity scores on calibration set (1 - probability of true class)\n",
    "nc_scores = compute_nc_scores(probs_calib, y_calib)"
   ]
  },
  {
   "cell_type": "code",
   "execution_count": 41,
   "id": "28ada44c",
   "metadata": {
    "execution": {
     "iopub.execute_input": "2025-08-19T18:15:57.080861Z",
     "iopub.status.busy": "2025-08-19T18:15:57.079094Z",
     "iopub.status.idle": "2025-08-19T18:15:57.090089Z",
     "shell.execute_reply": "2025-08-19T18:15:57.088827Z"
    },
    "papermill": {
     "duration": 0.038782,
     "end_time": "2025-08-19T18:15:57.091797",
     "exception": false,
     "start_time": "2025-08-19T18:15:57.053015",
     "status": "completed"
    },
    "tags": []
   },
   "outputs": [],
   "source": [
    "from fairness_multiverse.conformal import find_threshold\n",
    "\n",
    "# Find conformal threshold q_hat for the given alpha (split conformal method)\n",
    "q_hat = find_threshold(nc_scores, alpha)"
   ]
  },
  {
   "cell_type": "code",
   "execution_count": 42,
   "id": "df56469e",
   "metadata": {
    "execution": {
     "iopub.execute_input": "2025-08-19T18:15:57.140941Z",
     "iopub.status.busy": "2025-08-19T18:15:57.139657Z",
     "iopub.status.idle": "2025-08-19T18:15:57.150382Z",
     "shell.execute_reply": "2025-08-19T18:15:57.149115Z"
    },
    "papermill": {
     "duration": 0.034911,
     "end_time": "2025-08-19T18:15:57.151971",
     "exception": false,
     "start_time": "2025-08-19T18:15:57.117060",
     "status": "completed"
    },
    "tags": []
   },
   "outputs": [
    {
     "data": {
      "text/plain": [
       "0.6686021772064576"
      ]
     },
     "execution_count": 42,
     "metadata": {},
     "output_type": "execute_result"
    }
   ],
   "source": [
    "q_hat"
   ]
  },
  {
   "cell_type": "code",
   "execution_count": 43,
   "id": "aa1f5faa",
   "metadata": {
    "execution": {
     "iopub.execute_input": "2025-08-19T18:15:57.180222Z",
     "iopub.status.busy": "2025-08-19T18:15:57.179047Z",
     "iopub.status.idle": "2025-08-19T18:15:58.218669Z",
     "shell.execute_reply": "2025-08-19T18:15:58.217881Z"
    },
    "papermill": {
     "duration": 1.055434,
     "end_time": "2025-08-19T18:15:58.221547",
     "exception": false,
     "start_time": "2025-08-19T18:15:57.166113",
     "status": "completed"
    },
    "tags": []
   },
   "outputs": [],
   "source": [
    "from fairness_multiverse.conformal import predict_conformal_sets\n",
    "\n",
    "# Generate prediction sets for each test example\n",
    "pred_sets = predict_conformal_sets(model, X_test, q_hat)"
   ]
  },
  {
   "cell_type": "code",
   "execution_count": 44,
   "id": "97f67a6b",
   "metadata": {
    "execution": {
     "iopub.execute_input": "2025-08-19T18:15:58.283750Z",
     "iopub.status.busy": "2025-08-19T18:15:58.282326Z",
     "iopub.status.idle": "2025-08-19T18:15:58.292744Z",
     "shell.execute_reply": "2025-08-19T18:15:58.290466Z"
    },
    "papermill": {
     "duration": 0.038536,
     "end_time": "2025-08-19T18:15:58.297565",
     "exception": false,
     "start_time": "2025-08-19T18:15:58.259029",
     "status": "completed"
    },
    "tags": []
   },
   "outputs": [],
   "source": [
    "y_true = y_true.squeeze()"
   ]
  },
  {
   "cell_type": "code",
   "execution_count": 45,
   "id": "e700e9a7",
   "metadata": {
    "execution": {
     "iopub.execute_input": "2025-08-19T18:15:58.331235Z",
     "iopub.status.busy": "2025-08-19T18:15:58.330133Z",
     "iopub.status.idle": "2025-08-19T18:15:58.840451Z",
     "shell.execute_reply": "2025-08-19T18:15:58.839626Z"
    },
    "papermill": {
     "duration": 0.524972,
     "end_time": "2025-08-19T18:15:58.841957",
     "exception": false,
     "start_time": "2025-08-19T18:15:58.316985",
     "status": "completed"
    },
    "tags": []
   },
   "outputs": [],
   "source": [
    "from fairness_multiverse.conformal import evaluate_sets\n",
    "\n",
    "# Evaluate coverage and average set size on test data\n",
    "metrics = evaluate_sets(pred_sets, y_true)"
   ]
  },
  {
   "cell_type": "markdown",
   "id": "efbacec0",
   "metadata": {
    "papermill": {
     "duration": 0.011449,
     "end_time": "2025-08-19T18:15:58.865344",
     "exception": false,
     "start_time": "2025-08-19T18:15:58.853895",
     "status": "completed"
    },
    "tags": []
   },
   "source": [
    "# CP Metrics"
   ]
  },
  {
   "cell_type": "code",
   "execution_count": 46,
   "id": "9de55fb1",
   "metadata": {
    "execution": {
     "iopub.execute_input": "2025-08-19T18:15:58.902189Z",
     "iopub.status.busy": "2025-08-19T18:15:58.901568Z",
     "iopub.status.idle": "2025-08-19T18:15:58.909874Z",
     "shell.execute_reply": "2025-08-19T18:15:58.908850Z"
    },
    "papermill": {
     "duration": 0.036221,
     "end_time": "2025-08-19T18:15:58.912804",
     "exception": false,
     "start_time": "2025-08-19T18:15:58.876583",
     "status": "completed"
    },
    "tags": []
   },
   "outputs": [
    {
     "data": {
      "text/plain": [
       "{'coverage': 0.9124958198640063, 'avg_size': 1.117668041466949}"
      ]
     },
     "execution_count": 46,
     "metadata": {},
     "output_type": "execute_result"
    }
   ],
   "source": [
    "metrics"
   ]
  },
  {
   "cell_type": "code",
   "execution_count": 47,
   "id": "64c340a1",
   "metadata": {
    "execution": {
     "iopub.execute_input": "2025-08-19T18:15:58.940813Z",
     "iopub.status.busy": "2025-08-19T18:15:58.940359Z",
     "iopub.status.idle": "2025-08-19T18:15:58.945609Z",
     "shell.execute_reply": "2025-08-19T18:15:58.944874Z"
    },
    "papermill": {
     "duration": 0.019709,
     "end_time": "2025-08-19T18:15:58.947049",
     "exception": false,
     "start_time": "2025-08-19T18:15:58.927340",
     "status": "completed"
    },
    "tags": []
   },
   "outputs": [],
   "source": [
    "example_universe = universe.copy()\n",
    "universe_training_year = example_universe.get(\"training_year\")\n",
    "universe_training_size = example_universe.get(\"training_size\")\n",
    "universe_scale = example_universe.get(\"scale\")\n",
    "universe_model = example_universe.get(\"model\")\n",
    "universe_exclude_features = example_universe.get(\"exclude_features\")\n",
    "universe_exclude_subgroups = example_universe.get(\"exclude_subgroups\")"
   ]
  },
  {
   "cell_type": "code",
   "execution_count": 48,
   "id": "dbb53cb4",
   "metadata": {
    "execution": {
     "iopub.execute_input": "2025-08-19T18:15:58.973962Z",
     "iopub.status.busy": "2025-08-19T18:15:58.973536Z",
     "iopub.status.idle": "2025-08-19T18:15:58.978874Z",
     "shell.execute_reply": "2025-08-19T18:15:58.978152Z"
    },
    "papermill": {
     "duration": 0.020537,
     "end_time": "2025-08-19T18:15:58.980345",
     "exception": false,
     "start_time": "2025-08-19T18:15:58.959808",
     "status": "completed"
    },
    "tags": []
   },
   "outputs": [],
   "source": [
    "cp_metrics_dict = {\n",
    "    \"universe_id\": [universe_id],\n",
    "    \"universe_training_year\": [universe_training_year],\n",
    "    \"universe_training_size\": [universe_training_size],\n",
    "    \"universe_scale\": [universe_scale],\n",
    "    \"universe_model\": [universe_model],\n",
    "    \"universe_exclude_features\": [universe_exclude_features],\n",
    "    \"universe_exclude_subgroups\": [universe_exclude_subgroups],\n",
    "    \"q_hat\": [q_hat],\n",
    "    \"coverage\": [metrics[\"coverage\"]],\n",
    "    \"avg_size\": [metrics[\"avg_size\"]],\n",
    "}"
   ]
  },
  {
   "cell_type": "code",
   "execution_count": 49,
   "id": "0d70d4b2",
   "metadata": {
    "execution": {
     "iopub.execute_input": "2025-08-19T18:15:59.006798Z",
     "iopub.status.busy": "2025-08-19T18:15:59.006390Z",
     "iopub.status.idle": "2025-08-19T18:15:59.011654Z",
     "shell.execute_reply": "2025-08-19T18:15:59.010972Z"
    },
    "papermill": {
     "duration": 0.021446,
     "end_time": "2025-08-19T18:15:59.014463",
     "exception": false,
     "start_time": "2025-08-19T18:15:58.993017",
     "status": "completed"
    },
    "tags": []
   },
   "outputs": [],
   "source": [
    "cp_metrics_df = pd.DataFrame(cp_metrics_dict)"
   ]
  },
  {
   "cell_type": "code",
   "execution_count": 50,
   "id": "b494403c",
   "metadata": {
    "execution": {
     "iopub.execute_input": "2025-08-19T18:15:59.057571Z",
     "iopub.status.busy": "2025-08-19T18:15:59.056230Z",
     "iopub.status.idle": "2025-08-19T18:15:59.078689Z",
     "shell.execute_reply": "2025-08-19T18:15:59.077698Z"
    },
    "papermill": {
     "duration": 0.039887,
     "end_time": "2025-08-19T18:15:59.080669",
     "exception": false,
     "start_time": "2025-08-19T18:15:59.040782",
     "status": "completed"
    },
    "tags": []
   },
   "outputs": [
    {
     "data": {
      "text/html": [
       "<div>\n",
       "<style scoped>\n",
       "    .dataframe tbody tr th:only-of-type {\n",
       "        vertical-align: middle;\n",
       "    }\n",
       "\n",
       "    .dataframe tbody tr th {\n",
       "        vertical-align: top;\n",
       "    }\n",
       "\n",
       "    .dataframe thead th {\n",
       "        text-align: right;\n",
       "    }\n",
       "</style>\n",
       "<table border=\"1\" class=\"dataframe\">\n",
       "  <thead>\n",
       "    <tr style=\"text-align: right;\">\n",
       "      <th></th>\n",
       "      <th>universe_id</th>\n",
       "      <th>universe_training_year</th>\n",
       "      <th>universe_training_size</th>\n",
       "      <th>universe_scale</th>\n",
       "      <th>universe_model</th>\n",
       "      <th>universe_exclude_features</th>\n",
       "      <th>universe_exclude_subgroups</th>\n",
       "      <th>q_hat</th>\n",
       "      <th>coverage</th>\n",
       "      <th>avg_size</th>\n",
       "    </tr>\n",
       "  </thead>\n",
       "  <tbody>\n",
       "    <tr>\n",
       "      <th>0</th>\n",
       "      <td>d60046d7a13161faa30bdbe2755098c6</td>\n",
       "      <td>2010_14</td>\n",
       "      <td>25k</td>\n",
       "      <td>scale</td>\n",
       "      <td>gbm</td>\n",
       "      <td>none</td>\n",
       "      <td>keep-all</td>\n",
       "      <td>0.668602</td>\n",
       "      <td>0.912496</td>\n",
       "      <td>1.117668</td>\n",
       "    </tr>\n",
       "  </tbody>\n",
       "</table>\n",
       "</div>"
      ],
      "text/plain": [
       "                        universe_id universe_training_year  \\\n",
       "0  d60046d7a13161faa30bdbe2755098c6                2010_14   \n",
       "\n",
       "  universe_training_size universe_scale universe_model  \\\n",
       "0                    25k          scale            gbm   \n",
       "\n",
       "  universe_exclude_features universe_exclude_subgroups     q_hat  coverage  \\\n",
       "0                      none                   keep-all  0.668602  0.912496   \n",
       "\n",
       "   avg_size  \n",
       "0  1.117668  "
      ]
     },
     "execution_count": 50,
     "metadata": {},
     "output_type": "execute_result"
    }
   ],
   "source": [
    "cp_metrics_df"
   ]
  },
  {
   "cell_type": "markdown",
   "id": "ed608b0b",
   "metadata": {
    "papermill": {
     "duration": 0.012236,
     "end_time": "2025-08-19T18:15:59.111507",
     "exception": false,
     "start_time": "2025-08-19T18:15:59.099271",
     "status": "completed"
    },
    "tags": []
   },
   "source": [
    "Conditional coverage & looking at subgroups"
   ]
  },
  {
   "cell_type": "code",
   "execution_count": 51,
   "id": "8968c366",
   "metadata": {
    "execution": {
     "iopub.execute_input": "2025-08-19T18:15:59.138275Z",
     "iopub.status.busy": "2025-08-19T18:15:59.137125Z",
     "iopub.status.idle": "2025-08-19T18:15:59.386288Z",
     "shell.execute_reply": "2025-08-19T18:15:59.385504Z"
    },
    "papermill": {
     "duration": 0.265953,
     "end_time": "2025-08-19T18:15:59.389409",
     "exception": false,
     "start_time": "2025-08-19T18:15:59.123456",
     "status": "completed"
    },
    "tags": []
   },
   "outputs": [],
   "source": [
    "from fairness_multiverse.conformal import build_cp_groups\n",
    "\n",
    "cp_groups_df = build_cp_groups(pred_sets, y_true, X_test.index, org_test)"
   ]
  },
  {
   "cell_type": "code",
   "execution_count": 52,
   "id": "292ddabf",
   "metadata": {
    "execution": {
     "iopub.execute_input": "2025-08-19T18:15:59.431996Z",
     "iopub.status.busy": "2025-08-19T18:15:59.430661Z",
     "iopub.status.idle": "2025-08-19T18:16:00.270214Z",
     "shell.execute_reply": "2025-08-19T18:16:00.269447Z"
    },
    "papermill": {
     "duration": 0.857872,
     "end_time": "2025-08-19T18:16:00.273314",
     "exception": false,
     "start_time": "2025-08-19T18:15:59.415442",
     "status": "completed"
    },
    "tags": []
   },
   "outputs": [],
   "source": [
    "# Define covered = 1 if true_label is in the predicted set\n",
    "cp_groups_df['covered'] = cp_groups_df.apply(\n",
    "    lambda r: int(r['true_label'] in r['pred_set']),\n",
    "    axis=1\n",
    ")"
   ]
  },
  {
   "cell_type": "code",
   "execution_count": 53,
   "id": "3a261692",
   "metadata": {
    "execution": {
     "iopub.execute_input": "2025-08-19T18:16:00.317154Z",
     "iopub.status.busy": "2025-08-19T18:16:00.315765Z",
     "iopub.status.idle": "2025-08-19T18:16:00.334968Z",
     "shell.execute_reply": "2025-08-19T18:16:00.333947Z"
    },
    "papermill": {
     "duration": 0.036249,
     "end_time": "2025-08-19T18:16:00.336661",
     "exception": false,
     "start_time": "2025-08-19T18:16:00.300412",
     "status": "completed"
    },
    "tags": []
   },
   "outputs": [],
   "source": [
    "subgroups = ['frau1','nongerman','nongerman_male','nongerman_female']\n",
    "\n",
    "# Conditional coverage for subgroup==1\n",
    "cond_coverage = {\n",
    "    g: cp_groups_df.loc[cp_groups_df[g]==1, 'covered'].mean()\n",
    "    for g in subgroups\n",
    "}"
   ]
  },
  {
   "cell_type": "code",
   "execution_count": 54,
   "id": "894fd600",
   "metadata": {
    "execution": {
     "iopub.execute_input": "2025-08-19T18:16:00.373601Z",
     "iopub.status.busy": "2025-08-19T18:16:00.372411Z",
     "iopub.status.idle": "2025-08-19T18:16:00.382403Z",
     "shell.execute_reply": "2025-08-19T18:16:00.381187Z"
    },
    "papermill": {
     "duration": 0.026576,
     "end_time": "2025-08-19T18:16:00.384137",
     "exception": false,
     "start_time": "2025-08-19T18:16:00.357561",
     "status": "completed"
    },
    "tags": []
   },
   "outputs": [
    {
     "data": {
      "text/plain": [
       "{'frau1': 0.9110122658040167,\n",
       " 'nongerman': 0.9101779599169146,\n",
       " 'nongerman_male': 0.9262361523912456,\n",
       " 'nongerman_female': 0.8836065573770492}"
      ]
     },
     "execution_count": 54,
     "metadata": {},
     "output_type": "execute_result"
    }
   ],
   "source": [
    "cond_coverage"
   ]
  },
  {
   "cell_type": "code",
   "execution_count": 55,
   "id": "942895c7",
   "metadata": {
    "execution": {
     "iopub.execute_input": "2025-08-19T18:16:00.439393Z",
     "iopub.status.busy": "2025-08-19T18:16:00.438495Z",
     "iopub.status.idle": "2025-08-19T18:16:00.449003Z",
     "shell.execute_reply": "2025-08-19T18:16:00.447991Z"
    },
    "papermill": {
     "duration": 0.026743,
     "end_time": "2025-08-19T18:16:00.450333",
     "exception": false,
     "start_time": "2025-08-19T18:16:00.423590",
     "status": "completed"
    },
    "tags": []
   },
   "outputs": [],
   "source": [
    "for subgroup, cov in cond_coverage.items():\n",
    "    cp_metrics_df[f\"cov_{subgroup}\"] = cov"
   ]
  },
  {
   "cell_type": "code",
   "execution_count": 56,
   "id": "3970120f",
   "metadata": {
    "execution": {
     "iopub.execute_input": "2025-08-19T18:16:00.481154Z",
     "iopub.status.busy": "2025-08-19T18:16:00.479865Z",
     "iopub.status.idle": "2025-08-19T18:16:00.506066Z",
     "shell.execute_reply": "2025-08-19T18:16:00.505297Z"
    },
    "papermill": {
     "duration": 0.042387,
     "end_time": "2025-08-19T18:16:00.507781",
     "exception": false,
     "start_time": "2025-08-19T18:16:00.465394",
     "status": "completed"
    },
    "tags": []
   },
   "outputs": [
    {
     "data": {
      "text/html": [
       "<div>\n",
       "<style scoped>\n",
       "    .dataframe tbody tr th:only-of-type {\n",
       "        vertical-align: middle;\n",
       "    }\n",
       "\n",
       "    .dataframe tbody tr th {\n",
       "        vertical-align: top;\n",
       "    }\n",
       "\n",
       "    .dataframe thead th {\n",
       "        text-align: right;\n",
       "    }\n",
       "</style>\n",
       "<table border=\"1\" class=\"dataframe\">\n",
       "  <thead>\n",
       "    <tr style=\"text-align: right;\">\n",
       "      <th></th>\n",
       "      <th>universe_id</th>\n",
       "      <th>universe_training_year</th>\n",
       "      <th>universe_training_size</th>\n",
       "      <th>universe_scale</th>\n",
       "      <th>universe_model</th>\n",
       "      <th>universe_exclude_features</th>\n",
       "      <th>universe_exclude_subgroups</th>\n",
       "      <th>q_hat</th>\n",
       "      <th>coverage</th>\n",
       "      <th>avg_size</th>\n",
       "      <th>cov_frau1</th>\n",
       "      <th>cov_nongerman</th>\n",
       "      <th>cov_nongerman_male</th>\n",
       "      <th>cov_nongerman_female</th>\n",
       "    </tr>\n",
       "  </thead>\n",
       "  <tbody>\n",
       "    <tr>\n",
       "      <th>0</th>\n",
       "      <td>d60046d7a13161faa30bdbe2755098c6</td>\n",
       "      <td>2010_14</td>\n",
       "      <td>25k</td>\n",
       "      <td>scale</td>\n",
       "      <td>gbm</td>\n",
       "      <td>none</td>\n",
       "      <td>keep-all</td>\n",
       "      <td>0.668602</td>\n",
       "      <td>0.912496</td>\n",
       "      <td>1.117668</td>\n",
       "      <td>0.911012</td>\n",
       "      <td>0.910178</td>\n",
       "      <td>0.926236</td>\n",
       "      <td>0.883607</td>\n",
       "    </tr>\n",
       "  </tbody>\n",
       "</table>\n",
       "</div>"
      ],
      "text/plain": [
       "                        universe_id universe_training_year  \\\n",
       "0  d60046d7a13161faa30bdbe2755098c6                2010_14   \n",
       "\n",
       "  universe_training_size universe_scale universe_model  \\\n",
       "0                    25k          scale            gbm   \n",
       "\n",
       "  universe_exclude_features universe_exclude_subgroups     q_hat  coverage  \\\n",
       "0                      none                   keep-all  0.668602  0.912496   \n",
       "\n",
       "   avg_size  cov_frau1  cov_nongerman  cov_nongerman_male  \\\n",
       "0  1.117668   0.911012       0.910178            0.926236   \n",
       "\n",
       "   cov_nongerman_female  \n",
       "0              0.883607  "
      ]
     },
     "execution_count": 56,
     "metadata": {},
     "output_type": "execute_result"
    }
   ],
   "source": [
    "cp_metrics_df"
   ]
  },
  {
   "cell_type": "markdown",
   "id": "3fc519cc",
   "metadata": {
    "papermill": {
     "duration": 0.012901,
     "end_time": "2025-08-19T18:16:00.555631",
     "exception": false,
     "start_time": "2025-08-19T18:16:00.542730",
     "status": "completed"
    },
    "tags": []
   },
   "source": [
    "# (Fairness) Metrics"
   ]
  },
  {
   "cell_type": "code",
   "execution_count": 57,
   "id": "a2e5e155",
   "metadata": {
    "execution": {
     "iopub.execute_input": "2025-08-19T18:16:00.583708Z",
     "iopub.status.busy": "2025-08-19T18:16:00.582873Z",
     "iopub.status.idle": "2025-08-19T18:16:00.601328Z",
     "shell.execute_reply": "2025-08-19T18:16:00.599258Z"
    },
    "papermill": {
     "duration": 0.034895,
     "end_time": "2025-08-19T18:16:00.603078",
     "exception": false,
     "start_time": "2025-08-19T18:16:00.568183",
     "status": "completed"
    },
    "tags": []
   },
   "outputs": [],
   "source": [
    "colname_to_bin = \"maxdeutsch1\"\n",
    "majority_value = org_train[colname_to_bin].mode()[0]\n",
    "\n",
    "org_test[\"majmin\"] = np.where(org_test[colname_to_bin] == majority_value, \"majority\", \"minority\")"
   ]
  },
  {
   "cell_type": "code",
   "execution_count": 58,
   "id": "17e3e4d5",
   "metadata": {
    "execution": {
     "iopub.execute_input": "2025-08-19T18:16:00.630368Z",
     "iopub.status.busy": "2025-08-19T18:16:00.629785Z",
     "iopub.status.idle": "2025-08-19T18:16:02.366654Z",
     "shell.execute_reply": "2025-08-19T18:16:02.365968Z"
    },
    "papermill": {
     "duration": 1.753672,
     "end_time": "2025-08-19T18:16:02.369663",
     "exception": false,
     "start_time": "2025-08-19T18:16:00.615991",
     "status": "completed"
    },
    "tags": []
   },
   "outputs": [],
   "source": [
    "example_universe = universe.copy()\n",
    "example_universe[\"cutoff\"] = example_universe[\"cutoff\"][0]\n",
    "example_universe[\"eval_fairness_grouping\"] = example_universe[\"eval_fairness_grouping\"][0]\n",
    "fairness_dict, metric_frame = universe_analysis.compute_metrics(\n",
    "    example_universe,\n",
    "    y_pred_prob=probs_test,\n",
    "    y_test=y_true,\n",
    "    org_test=org_test,\n",
    ")"
   ]
  },
  {
   "cell_type": "markdown",
   "id": "1fb7a0e9",
   "metadata": {
    "papermill": {
     "duration": 0.014074,
     "end_time": "2025-08-19T18:16:02.411743",
     "exception": false,
     "start_time": "2025-08-19T18:16:02.397669",
     "status": "completed"
    },
    "tags": []
   },
   "source": [
    "# Overall"
   ]
  },
  {
   "cell_type": "markdown",
   "id": "be1784b1",
   "metadata": {
    "papermill": {
     "duration": 0.012438,
     "end_time": "2025-08-19T18:16:02.436682",
     "exception": false,
     "start_time": "2025-08-19T18:16:02.424244",
     "status": "completed"
    },
    "tags": []
   },
   "source": [
    "Main fairness target: Equalized Odds. Seems to be a better fit than equal opportunity, since we're not only interested in Y = 1. Seems to be a better fit than demographic parity, since we also care about accuracy, not just equal distribution of preds.\n",
    "\n",
    "Pick column for computation of fairness metrics\n",
    "\n",
    "Performance\n",
    "Overall performance measures, most interesting in relation to the measures split by group below"
   ]
  },
  {
   "cell_type": "code",
   "execution_count": 59,
   "id": "b7672bee",
   "metadata": {
    "execution": {
     "iopub.execute_input": "2025-08-19T18:16:02.464290Z",
     "iopub.status.busy": "2025-08-19T18:16:02.463215Z",
     "iopub.status.idle": "2025-08-19T18:16:02.476931Z",
     "shell.execute_reply": "2025-08-19T18:16:02.475605Z"
    },
    "papermill": {
     "duration": 0.029458,
     "end_time": "2025-08-19T18:16:02.478514",
     "exception": false,
     "start_time": "2025-08-19T18:16:02.449056",
     "status": "completed"
    },
    "tags": []
   },
   "outputs": [
    {
     "data": {
      "text/plain": [
       "accuracy                   0.225293\n",
       "balanced accuracy          0.550679\n",
       "f1                         0.246599\n",
       "precision                  0.140874\n",
       "false positive rate        0.886998\n",
       "false negative rate        0.011644\n",
       "selection rate             0.900000\n",
       "count                  89710.000000\n",
       "dtype: float64"
      ]
     },
     "execution_count": 59,
     "metadata": {},
     "output_type": "execute_result"
    }
   ],
   "source": [
    "metric_frame.overall"
   ]
  },
  {
   "cell_type": "markdown",
   "id": "d93333c9",
   "metadata": {
    "papermill": {
     "duration": 0.012941,
     "end_time": "2025-08-19T18:16:02.509160",
     "exception": false,
     "start_time": "2025-08-19T18:16:02.496219",
     "status": "completed"
    },
    "tags": []
   },
   "source": [
    "By Group"
   ]
  },
  {
   "cell_type": "code",
   "execution_count": 60,
   "id": "52256966",
   "metadata": {
    "execution": {
     "iopub.execute_input": "2025-08-19T18:16:02.537109Z",
     "iopub.status.busy": "2025-08-19T18:16:02.536022Z",
     "iopub.status.idle": "2025-08-19T18:16:02.558457Z",
     "shell.execute_reply": "2025-08-19T18:16:02.557549Z"
    },
    "papermill": {
     "duration": 0.038612,
     "end_time": "2025-08-19T18:16:02.560308",
     "exception": false,
     "start_time": "2025-08-19T18:16:02.521696",
     "status": "completed"
    },
    "tags": []
   },
   "outputs": [
    {
     "data": {
      "text/html": [
       "<div>\n",
       "<style scoped>\n",
       "    .dataframe tbody tr th:only-of-type {\n",
       "        vertical-align: middle;\n",
       "    }\n",
       "\n",
       "    .dataframe tbody tr th {\n",
       "        vertical-align: top;\n",
       "    }\n",
       "\n",
       "    .dataframe thead th {\n",
       "        text-align: right;\n",
       "    }\n",
       "</style>\n",
       "<table border=\"1\" class=\"dataframe\">\n",
       "  <thead>\n",
       "    <tr style=\"text-align: right;\">\n",
       "      <th></th>\n",
       "      <th>accuracy</th>\n",
       "      <th>balanced accuracy</th>\n",
       "      <th>f1</th>\n",
       "      <th>precision</th>\n",
       "      <th>false positive rate</th>\n",
       "      <th>false negative rate</th>\n",
       "      <th>selection rate</th>\n",
       "      <th>count</th>\n",
       "    </tr>\n",
       "    <tr>\n",
       "      <th>majmin</th>\n",
       "      <th></th>\n",
       "      <th></th>\n",
       "      <th></th>\n",
       "      <th></th>\n",
       "      <th></th>\n",
       "      <th></th>\n",
       "      <th></th>\n",
       "      <th></th>\n",
       "    </tr>\n",
       "  </thead>\n",
       "  <tbody>\n",
       "    <tr>\n",
       "      <th>majority</th>\n",
       "      <td>0.243863</td>\n",
       "      <td>0.559127</td>\n",
       "      <td>0.256609</td>\n",
       "      <td>0.147461</td>\n",
       "      <td>0.869382</td>\n",
       "      <td>0.012363</td>\n",
       "      <td>0.885008</td>\n",
       "      <td>69170.0</td>\n",
       "    </tr>\n",
       "    <tr>\n",
       "      <th>minority</th>\n",
       "      <td>0.162756</td>\n",
       "      <td>0.522971</td>\n",
       "      <td>0.214426</td>\n",
       "      <td>0.120217</td>\n",
       "      <td>0.945190</td>\n",
       "      <td>0.008868</td>\n",
       "      <td>0.950487</td>\n",
       "      <td>20540.0</td>\n",
       "    </tr>\n",
       "  </tbody>\n",
       "</table>\n",
       "</div>"
      ],
      "text/plain": [
       "          accuracy  balanced accuracy        f1  precision  \\\n",
       "majmin                                                       \n",
       "majority  0.243863           0.559127  0.256609   0.147461   \n",
       "minority  0.162756           0.522971  0.214426   0.120217   \n",
       "\n",
       "          false positive rate  false negative rate  selection rate    count  \n",
       "majmin                                                                       \n",
       "majority             0.869382             0.012363        0.885008  69170.0  \n",
       "minority             0.945190             0.008868        0.950487  20540.0  "
      ]
     },
     "execution_count": 60,
     "metadata": {},
     "output_type": "execute_result"
    }
   ],
   "source": [
    "metric_frame.by_group"
   ]
  },
  {
   "cell_type": "code",
   "execution_count": 61,
   "id": "6e6c20ae",
   "metadata": {
    "execution": {
     "iopub.execute_input": "2025-08-19T18:16:02.598939Z",
     "iopub.status.busy": "2025-08-19T18:16:02.597876Z",
     "iopub.status.idle": "2025-08-19T18:16:04.342282Z",
     "shell.execute_reply": "2025-08-19T18:16:04.338807Z"
    },
    "papermill": {
     "duration": 1.761886,
     "end_time": "2025-08-19T18:16:04.345206",
     "exception": false,
     "start_time": "2025-08-19T18:16:02.583320",
     "status": "completed"
    },
    "tags": []
   },
   "outputs": [
    {
     "data": {
      "text/plain": [
       "array([[<Axes: title={'center': 'accuracy'}, xlabel='majmin'>,\n",
       "        <Axes: title={'center': 'balanced accuracy'}, xlabel='majmin'>,\n",
       "        <Axes: title={'center': 'f1'}, xlabel='majmin'>],\n",
       "       [<Axes: title={'center': 'precision'}, xlabel='majmin'>,\n",
       "        <Axes: title={'center': 'false positive rate'}, xlabel='majmin'>,\n",
       "        <Axes: title={'center': 'false negative rate'}, xlabel='majmin'>],\n",
       "       [<Axes: title={'center': 'selection rate'}, xlabel='majmin'>,\n",
       "        <Axes: title={'center': 'count'}, xlabel='majmin'>,\n",
       "        <Axes: xlabel='majmin'>]], dtype=object)"
      ]
     },
     "execution_count": 61,
     "metadata": {},
     "output_type": "execute_result"
    },
    {
     "data": {
      "image/png": "[encoded data removed]",
      "text/plain": [
       "<Figure size 1200x800 with 9 Axes>"
      ]
     },
     "metadata": {},
     "output_type": "display_data"
    }
   ],
   "source": [
    "# In a graphic\n",
    "metric_frame.by_group.plot.bar(\n",
    "    subplots=True,\n",
    "    layout=[3, 3],\n",
    "    legend=False,\n",
    "    figsize=[12, 8],\n",
    "    title=\"Show all metrics\",\n",
    ")"
   ]
  },
  {
   "cell_type": "markdown",
   "id": "b2e433ae",
   "metadata": {
    "papermill": {
     "duration": 0.014172,
     "end_time": "2025-08-19T18:16:04.391158",
     "exception": false,
     "start_time": "2025-08-19T18:16:04.376986",
     "status": "completed"
    },
    "tags": []
   },
   "source": [
    "# Final Output"
   ]
  },
  {
   "cell_type": "code",
   "execution_count": 62,
   "id": "3871301e",
   "metadata": {
    "execution": {
     "iopub.execute_input": "2025-08-19T18:16:04.433615Z",
     "iopub.status.busy": "2025-08-19T18:16:04.431683Z",
     "iopub.status.idle": "2025-08-19T18:16:04.443737Z",
     "shell.execute_reply": "2025-08-19T18:16:04.442599Z"
    },
    "papermill": {
     "duration": 0.037797,
     "end_time": "2025-08-19T18:16:04.450589",
     "exception": false,
     "start_time": "2025-08-19T18:16:04.412792",
     "status": "completed"
    },
    "tags": []
   },
   "outputs": [
    {
     "data": {
      "text/plain": [
       "4"
      ]
     },
     "execution_count": 62,
     "metadata": {},
     "output_type": "execute_result"
    }
   ],
   "source": [
    "sub_universes = universe_analysis.generate_sub_universes()\n",
    "len(sub_universes)"
   ]
  },
  {
   "cell_type": "code",
   "execution_count": 63,
   "id": "d9cfdaca",
   "metadata": {
    "execution": {
     "iopub.execute_input": "2025-08-19T18:16:04.490913Z",
     "iopub.status.busy": "2025-08-19T18:16:04.489857Z",
     "iopub.status.idle": "2025-08-19T18:16:04.518076Z",
     "shell.execute_reply": "2025-08-19T18:16:04.516808Z"
    },
    "papermill": {
     "duration": 0.047406,
     "end_time": "2025-08-19T18:16:04.520682",
     "exception": false,
     "start_time": "2025-08-19T18:16:04.473276",
     "status": "completed"
    },
    "tags": []
   },
   "outputs": [],
   "source": [
    "def filter_sub_universe_data(sub_universe, org_test):\n",
    "    # Keep all rows — no filtering\n",
    "    keep_rows_mask = np.ones(org_test.shape[0], dtype=bool)\n",
    "\n",
    "    print(f\"[INFO] Keeping all rows: {keep_rows_mask.sum()} rows retained.\")\n",
    "    return keep_rows_mask"
   ]
  },
  {
   "cell_type": "code",
   "execution_count": 64,
   "id": "2bc31ac1",
   "metadata": {
    "execution": {
     "iopub.execute_input": "2025-08-19T18:16:04.568299Z",
     "iopub.status.busy": "2025-08-19T18:16:04.567002Z",
     "iopub.status.idle": "2025-08-19T18:16:11.166452Z",
     "shell.execute_reply": "2025-08-19T18:16:11.165443Z"
    },
    "papermill": {
     "duration": 6.618257,
     "end_time": "2025-08-19T18:16:11.167809",
     "exception": false,
     "start_time": "2025-08-19T18:16:04.549552",
     "status": "completed"
    },
    "tags": []
   },
   "outputs": [
    {
     "name": "stdout",
     "output_type": "stream",
     "text": [
      "Stopping execution_time clock.\n",
      "[INFO] Keeping all rows: 89710 rows retained.\n"
     ]
    },
    {
     "name": "stdout",
     "output_type": "stream",
     "text": [
      "[INFO] Keeping all rows: 89710 rows retained.\n"
     ]
    },
    {
     "name": "stdout",
     "output_type": "stream",
     "text": [
      "[INFO] Keeping all rows: 89710 rows retained.\n"
     ]
    },
    {
     "name": "stdout",
     "output_type": "stream",
     "text": [
      "[INFO] Keeping all rows: 89710 rows retained.\n"
     ]
    },
    {
     "data": {
      "text/html": [
       "<div>\n",
       "<style scoped>\n",
       "    .dataframe tbody tr th:only-of-type {\n",
       "        vertical-align: middle;\n",
       "    }\n",
       "\n",
       "    .dataframe tbody tr th {\n",
       "        vertical-align: top;\n",
       "    }\n",
       "\n",
       "    .dataframe thead th {\n",
       "        text-align: right;\n",
       "    }\n",
       "</style>\n",
       "<table border=\"1\" class=\"dataframe\">\n",
       "  <thead>\n",
       "    <tr style=\"text-align: right;\">\n",
       "      <th></th>\n",
       "      <th>run_no</th>\n",
       "      <th>universe_id</th>\n",
       "      <th>universe_settings</th>\n",
       "      <th>execution_time</th>\n",
       "      <th>test_size_n</th>\n",
       "      <th>test_size_frac</th>\n",
       "      <th>fair_main_equalized_odds_difference</th>\n",
       "      <th>fair_main_equalized_odds_ratio</th>\n",
       "      <th>fair_main_demographic_parity_difference</th>\n",
       "      <th>fair_main_demographic_parity_ratio</th>\n",
       "      <th>...</th>\n",
       "      <th>perf_grp_precision_0</th>\n",
       "      <th>perf_grp_precision_1</th>\n",
       "      <th>perf_grp_false positive rate_0</th>\n",
       "      <th>perf_grp_false positive rate_1</th>\n",
       "      <th>perf_grp_false negative rate_0</th>\n",
       "      <th>perf_grp_false negative rate_1</th>\n",
       "      <th>perf_grp_selection rate_0</th>\n",
       "      <th>perf_grp_selection rate_1</th>\n",
       "      <th>perf_grp_count_0</th>\n",
       "      <th>perf_grp_count_1</th>\n",
       "    </tr>\n",
       "  </thead>\n",
       "  <tbody>\n",
       "    <tr>\n",
       "      <th>0</th>\n",
       "      <td>3</td>\n",
       "      <td>d60046d7a13161faa30bdbe2755098c6</td>\n",
       "      <td>{\"cutoff\": \"quantile_0.1\", \"eval_fairness_grou...</td>\n",
       "      <td>44.928933</td>\n",
       "      <td>89710</td>\n",
       "      <td>1.0</td>\n",
       "      <td>0.075808</td>\n",
       "      <td>0.919796</td>\n",
       "      <td>0.065479</td>\n",
       "      <td>0.931110</td>\n",
       "      <td>...</td>\n",
       "      <td>NaN</td>\n",
       "      <td>NaN</td>\n",
       "      <td>NaN</td>\n",
       "      <td>NaN</td>\n",
       "      <td>NaN</td>\n",
       "      <td>NaN</td>\n",
       "      <td>NaN</td>\n",
       "      <td>NaN</td>\n",
       "      <td>NaN</td>\n",
       "      <td>NaN</td>\n",
       "    </tr>\n",
       "    <tr>\n",
       "      <th>0</th>\n",
       "      <td>3</td>\n",
       "      <td>d60046d7a13161faa30bdbe2755098c6</td>\n",
       "      <td>{\"cutoff\": \"quantile_0.1\", \"eval_fairness_grou...</td>\n",
       "      <td>44.928933</td>\n",
       "      <td>89710</td>\n",
       "      <td>1.0</td>\n",
       "      <td>0.075808</td>\n",
       "      <td>0.919796</td>\n",
       "      <td>0.065479</td>\n",
       "      <td>0.931110</td>\n",
       "      <td>...</td>\n",
       "      <td>0.120217</td>\n",
       "      <td>0.147461</td>\n",
       "      <td>0.945190</td>\n",
       "      <td>0.869382</td>\n",
       "      <td>0.008868</td>\n",
       "      <td>0.012363</td>\n",
       "      <td>0.950487</td>\n",
       "      <td>0.885008</td>\n",
       "      <td>20540.0</td>\n",
       "      <td>69170.0</td>\n",
       "    </tr>\n",
       "    <tr>\n",
       "      <th>0</th>\n",
       "      <td>3</td>\n",
       "      <td>d60046d7a13161faa30bdbe2755098c6</td>\n",
       "      <td>{\"cutoff\": \"quantile_0.25\", \"eval_fairness_gro...</td>\n",
       "      <td>44.928933</td>\n",
       "      <td>89710</td>\n",
       "      <td>1.0</td>\n",
       "      <td>0.081442</td>\n",
       "      <td>0.895975</td>\n",
       "      <td>0.065928</td>\n",
       "      <td>0.917675</td>\n",
       "      <td>...</td>\n",
       "      <td>NaN</td>\n",
       "      <td>NaN</td>\n",
       "      <td>NaN</td>\n",
       "      <td>NaN</td>\n",
       "      <td>NaN</td>\n",
       "      <td>NaN</td>\n",
       "      <td>NaN</td>\n",
       "      <td>NaN</td>\n",
       "      <td>NaN</td>\n",
       "      <td>NaN</td>\n",
       "    </tr>\n",
       "    <tr>\n",
       "      <th>0</th>\n",
       "      <td>3</td>\n",
       "      <td>d60046d7a13161faa30bdbe2755098c6</td>\n",
       "      <td>{\"cutoff\": \"quantile_0.25\", \"eval_fairness_gro...</td>\n",
       "      <td>44.928933</td>\n",
       "      <td>89710</td>\n",
       "      <td>1.0</td>\n",
       "      <td>0.081442</td>\n",
       "      <td>0.895975</td>\n",
       "      <td>0.065928</td>\n",
       "      <td>0.917675</td>\n",
       "      <td>...</td>\n",
       "      <td>0.135084</td>\n",
       "      <td>0.171621</td>\n",
       "      <td>0.782908</td>\n",
       "      <td>0.701466</td>\n",
       "      <td>0.061655</td>\n",
       "      <td>0.045514</td>\n",
       "      <td>0.800828</td>\n",
       "      <td>0.734900</td>\n",
       "      <td>20540.0</td>\n",
       "      <td>69170.0</td>\n",
       "    </tr>\n",
       "  </tbody>\n",
       "</table>\n",
       "<p>4 rows × 50 columns</p>\n",
       "</div>"
      ],
      "text/plain": [
       "  run_no                       universe_id  \\\n",
       "0      3  d60046d7a13161faa30bdbe2755098c6   \n",
       "0      3  d60046d7a13161faa30bdbe2755098c6   \n",
       "0      3  d60046d7a13161faa30bdbe2755098c6   \n",
       "0      3  d60046d7a13161faa30bdbe2755098c6   \n",
       "\n",
       "                                   universe_settings  execution_time  \\\n",
       "0  {\"cutoff\": \"quantile_0.1\", \"eval_fairness_grou...       44.928933   \n",
       "0  {\"cutoff\": \"quantile_0.1\", \"eval_fairness_grou...       44.928933   \n",
       "0  {\"cutoff\": \"quantile_0.25\", \"eval_fairness_gro...       44.928933   \n",
       "0  {\"cutoff\": \"quantile_0.25\", \"eval_fairness_gro...       44.928933   \n",
       "\n",
       "   test_size_n  test_size_frac  fair_main_equalized_odds_difference  \\\n",
       "0        89710             1.0                             0.075808   \n",
       "0        89710             1.0                             0.075808   \n",
       "0        89710             1.0                             0.081442   \n",
       "0        89710             1.0                             0.081442   \n",
       "\n",
       "   fair_main_equalized_odds_ratio  fair_main_demographic_parity_difference  \\\n",
       "0                        0.919796                                 0.065479   \n",
       "0                        0.919796                                 0.065479   \n",
       "0                        0.895975                                 0.065928   \n",
       "0                        0.895975                                 0.065928   \n",
       "\n",
       "   fair_main_demographic_parity_ratio  ...  perf_grp_precision_0  \\\n",
       "0                            0.931110  ...                   NaN   \n",
       "0                            0.931110  ...              0.120217   \n",
       "0                            0.917675  ...                   NaN   \n",
       "0                            0.917675  ...              0.135084   \n",
       "\n",
       "   perf_grp_precision_1  perf_grp_false positive rate_0  \\\n",
       "0                   NaN                             NaN   \n",
       "0              0.147461                        0.945190   \n",
       "0                   NaN                             NaN   \n",
       "0              0.171621                        0.782908   \n",
       "\n",
       "   perf_grp_false positive rate_1  perf_grp_false negative rate_0  \\\n",
       "0                             NaN                             NaN   \n",
       "0                        0.869382                        0.008868   \n",
       "0                             NaN                             NaN   \n",
       "0                        0.701466                        0.061655   \n",
       "\n",
       "   perf_grp_false negative rate_1  perf_grp_selection rate_0  \\\n",
       "0                             NaN                        NaN   \n",
       "0                        0.012363                   0.950487   \n",
       "0                             NaN                        NaN   \n",
       "0                        0.045514                   0.800828   \n",
       "\n",
       "   perf_grp_selection rate_1  perf_grp_count_0  perf_grp_count_1  \n",
       "0                        NaN               NaN               NaN  \n",
       "0                   0.885008           20540.0           69170.0  \n",
       "0                        NaN               NaN               NaN  \n",
       "0                   0.734900           20540.0           69170.0  \n",
       "\n",
       "[4 rows x 50 columns]"
      ]
     },
     "execution_count": 64,
     "metadata": {},
     "output_type": "execute_result"
    }
   ],
   "source": [
    "final_output = universe_analysis.generate_final_output(\n",
    "    y_pred_prob=probs_test,\n",
    "    y_test=y_true,\n",
    "    org_test=org_test,\n",
    "    filter_data=filter_sub_universe_data,\n",
    "    cp_metrics_df=cp_metrics_df,\n",
    "    save=True,\n",
    ")\n",
    "final_output"
   ]
  },
  {
   "cell_type": "code",
   "execution_count": null,
   "id": "8b80a1ff",
   "metadata": {
    "papermill": {
     "duration": 0.029777,
     "end_time": "2025-08-19T18:16:11.222747",
     "exception": false,
     "start_time": "2025-08-19T18:16:11.192970",
     "status": "completed"
    },
    "tags": []
   },
   "outputs": [],
   "source": []
  },
  {
   "cell_type": "code",
   "execution_count": null,
   "id": "275c9fad",
   "metadata": {
    "papermill": {
     "duration": 0.014393,
     "end_time": "2025-08-19T18:16:11.252496",
     "exception": false,
     "start_time": "2025-08-19T18:16:11.238103",
     "status": "completed"
    },
    "tags": []
   },
   "outputs": [],
   "source": []
  }
 ],
 "metadata": {
  "celltoolbar": "Tags",
  "kernelspec": {
   "display_name": "Python (CMA Fairness)",
   "language": "python",
   "name": "cma_fair_env"
  },
  "language_info": {
   "codemirror_mode": {
    "name": "ipython",
    "version": 3
   },
   "file_extension": ".py",
   "mimetype": "text/x-python",
   "name": "python",
   "nbconvert_exporter": "python",
   "pygments_lexer": "ipython3",
   "version": "3.10.12"
  },
  "papermill": {
   "default_parameters": {},
   "duration": 55.222311,
   "end_time": "2025-08-19T18:16:12.092252",
   "environment_variables": {},
   "exception": null,
   "input_path": "universe_analysis.ipynb",
   "output_path": "output/runs/3/notebooks/m_3-d60046d7a13161faa30bdbe2755098c6.ipynb",
   "parameters": {
    "output_dir": "output",
    "run_no": "3",
    "seed": "2023",
    "universe": "{\"cutoff\": [\"quantile_0.1\", \"quantile_0.25\"], \"eval_fairness_grouping\": [\"majority-minority\", \"nationality-all\"], \"exclude_features\": \"none\", \"exclude_subgroups\": \"keep-all\", \"model\": \"gbm\", \"scale\": \"scale\", \"training_size\": \"25k\", \"training_year\": \"2010_14\"}",
    "universe_id": "d60046d7a13161faa30bdbe2755098c6"
   },
   "start_time": "2025-08-19T18:15:16.869941",
   "version": "2.6.0"
  }
 },
 "nbformat": 4,
 "nbformat_minor": 5
}