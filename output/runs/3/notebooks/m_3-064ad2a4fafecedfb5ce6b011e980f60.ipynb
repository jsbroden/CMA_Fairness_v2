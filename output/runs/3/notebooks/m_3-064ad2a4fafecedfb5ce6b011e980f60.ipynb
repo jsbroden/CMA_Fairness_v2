{
 "cells": [
  {
   "cell_type": "markdown",
   "id": "ef23dbb3",
   "metadata": {
    "papermill": {
     "duration": 0.016391,
     "end_time": "2025-08-19T18:44:22.046528",
     "exception": false,
     "start_time": "2025-08-19T18:44:22.030137",
     "status": "completed"
    },
    "tags": []
   },
   "source": [
    "# Setup"
   ]
  },
  {
   "cell_type": "code",
   "execution_count": 1,
   "id": "0bc8e7dc",
   "metadata": {
    "execution": {
     "iopub.execute_input": "2025-08-19T18:44:22.080844Z",
     "iopub.status.busy": "2025-08-19T18:44:22.080421Z",
     "iopub.status.idle": "2025-08-19T18:44:22.089389Z",
     "shell.execute_reply": "2025-08-19T18:44:22.088628Z"
    },
    "papermill": {
     "duration": 0.032688,
     "end_time": "2025-08-19T18:44:22.100576",
     "exception": false,
     "start_time": "2025-08-19T18:44:22.067888",
     "status": "completed"
    },
    "tags": []
   },
   "outputs": [
    {
     "name": "stdout",
     "output_type": "stream",
     "text": [
      "/dss/dsshome1/0C/ra93lal2/cma/CMA_Fairness_v2\n"
     ]
    },
    {
     "name": "stderr",
     "output_type": "stream",
     "text": [
      "/dss/dsshome1/0C/ra93lal2/.local/share/virtualenvs/CMA_Fairness_v2-3j10GkSs/lib/python3.10/site-packages/IPython/core/magics/osm.py:393: UserWarning: This is now an optional IPython functionality, using bookmarks requires you to install the `pickleshare` library.\n",
      "  bkms = self.shell.db.get('bookmarks', {})\n",
      "/dss/dsshome1/0C/ra93lal2/.local/share/virtualenvs/CMA_Fairness_v2-3j10GkSs/lib/python3.10/site-packages/IPython/core/magics/osm.py:417: UserWarning: This is now an optional IPython functionality, setting dhist requires you to install the `pickleshare` library.\n",
      "  self.shell.db['dhist'] = compress_dhist(dhist)[-100:]\n"
     ]
    }
   ],
   "source": [
    "%cd ~/cma/CMA_Fairness_v2"
   ]
  },
  {
   "cell_type": "markdown",
   "id": "9d235661",
   "metadata": {
    "papermill": {
     "duration": 0.008598,
     "end_time": "2025-08-19T18:44:22.132683",
     "exception": false,
     "start_time": "2025-08-19T18:44:22.124085",
     "status": "completed"
    },
    "tags": []
   },
   "source": [
    "The following cell holds the definition of our parameters, these values can be overriden by rendering the with e.g. the following command:\n",
    "\n",
    "papermill -p alpha 0.2 -p ratio 0.3 universe_analysis.ipynb output/test_run.ipynb"
   ]
  },
  {
   "cell_type": "code",
   "execution_count": 2,
   "id": "4a789d8e",
   "metadata": {
    "execution": {
     "iopub.execute_input": "2025-08-19T18:44:22.152171Z",
     "iopub.status.busy": "2025-08-19T18:44:22.151717Z",
     "iopub.status.idle": "2025-08-19T18:44:22.155888Z",
     "shell.execute_reply": "2025-08-19T18:44:22.155234Z"
    },
    "papermill": {
     "duration": 0.016449,
     "end_time": "2025-08-19T18:44:22.157820",
     "exception": false,
     "start_time": "2025-08-19T18:44:22.141371",
     "status": "completed"
    },
    "tags": []
   },
   "outputs": [
    {
     "name": "stdout",
     "output_type": "stream",
     "text": [
      "Current working directory: /dss/dsshome1/0C/ra93lal2/cma/CMA_Fairness_v2\n"
     ]
    }
   ],
   "source": [
    "import os\n",
    "print(\"Current working directory:\", os.getcwd())"
   ]
  },
  {
   "cell_type": "code",
   "execution_count": 3,
   "id": "4132aaed",
   "metadata": {
    "execution": {
     "iopub.execute_input": "2025-08-19T18:44:22.177149Z",
     "iopub.status.busy": "2025-08-19T18:44:22.176682Z",
     "iopub.status.idle": "2025-08-19T18:44:22.182249Z",
     "shell.execute_reply": "2025-08-19T18:44:22.181658Z"
    },
    "papermill": {
     "duration": 0.019762,
     "end_time": "2025-08-19T18:44:22.186665",
     "exception": false,
     "start_time": "2025-08-19T18:44:22.166903",
     "status": "completed"
    },
    "tags": [
     "parameters"
    ]
   },
   "outputs": [],
   "source": [
    "run_no = 0\n",
    "universe_id = \"test\"\n",
    "universe = {\n",
    "    \"training_size\": \"5k\", # \"25k\", \"5k\", \"1k\"\n",
    "    \"training_year\": \"2012_14\", # \"2014\", \"2012_14\", \"2010_14\"\n",
    "    \"scale\": \"scale\", # \"scale\", \"do-not-scale\",\n",
    "    \"model\": \"elasticnet\", # \"logreg\", \"penalized_logreg\", \"rf\", \"gbm\", \"elasticnet\"\n",
    "    \"cutoff\": [\"quantile_0.15\", \"quantile_0.30\"],\n",
    "    \"exclude_features\": \"age\", # \"none\", \"nationality\", \"sex\", \"nationality-sex\", \"age\"\n",
    "    \"exclude_subgroups\": \"drop-non-german\", # \"keep-all\", \"drop-non-german\"\n",
    "    \"eval_fairness_grouping\": [\"majority-minority\", \"nationality-all\"]\n",
    "}\n",
    "\n",
    "output_dir=\"./output\"\n",
    "seed=0"
   ]
  },
  {
   "cell_type": "code",
   "execution_count": 4,
   "id": "35d6eb4a",
   "metadata": {
    "execution": {
     "iopub.execute_input": "2025-08-19T18:44:22.211225Z",
     "iopub.status.busy": "2025-08-19T18:44:22.210605Z",
     "iopub.status.idle": "2025-08-19T18:44:22.215597Z",
     "shell.execute_reply": "2025-08-19T18:44:22.214830Z"
    },
    "papermill": {
     "duration": 0.016613,
     "end_time": "2025-08-19T18:44:22.217144",
     "exception": false,
     "start_time": "2025-08-19T18:44:22.200531",
     "status": "completed"
    },
    "tags": [
     "injected-parameters"
    ]
   },
   "outputs": [],
   "source": [
    "# Parameters\n",
    "universe_id = \"064ad2a4fafecedfb5ce6b011e980f60\"\n",
    "run_no = \"3\"\n",
    "universe = \"{\\\"cutoff\\\": [\\\"quantile_0.1\\\", \\\"quantile_0.25\\\"], \\\"eval_fairness_grouping\\\": [\\\"majority-minority\\\", \\\"nationality-all\\\"], \\\"exclude_features\\\": \\\"age\\\", \\\"exclude_subgroups\\\": \\\"drop-non-german\\\", \\\"model\\\": \\\"elasticnet\\\", \\\"scale\\\": \\\"scale\\\", \\\"training_size\\\": \\\"5k\\\", \\\"training_year\\\": \\\"2010_14\\\"}\"\n",
    "output_dir = \"output\"\n",
    "seed = \"2023\"\n"
   ]
  },
  {
   "cell_type": "code",
   "execution_count": 5,
   "id": "a5d7941f",
   "metadata": {
    "execution": {
     "iopub.execute_input": "2025-08-19T18:44:22.237639Z",
     "iopub.status.busy": "2025-08-19T18:44:22.236663Z",
     "iopub.status.idle": "2025-08-19T18:44:22.244372Z",
     "shell.execute_reply": "2025-08-19T18:44:22.242445Z"
    },
    "papermill": {
     "duration": 0.020117,
     "end_time": "2025-08-19T18:44:22.246290",
     "exception": false,
     "start_time": "2025-08-19T18:44:22.226173",
     "status": "completed"
    },
    "tags": []
   },
   "outputs": [],
   "source": [
    "import json\n",
    "if isinstance(universe, str):\n",
    "    universe = json.loads(universe)"
   ]
  },
  {
   "cell_type": "code",
   "execution_count": 6,
   "id": "7076ccb1",
   "metadata": {
    "execution": {
     "iopub.execute_input": "2025-08-19T18:44:22.266174Z",
     "iopub.status.busy": "2025-08-19T18:44:22.265582Z",
     "iopub.status.idle": "2025-08-19T18:44:22.312517Z",
     "shell.execute_reply": "2025-08-19T18:44:22.311921Z"
    },
    "papermill": {
     "duration": 0.059337,
     "end_time": "2025-08-19T18:44:22.315094",
     "exception": false,
     "start_time": "2025-08-19T18:44:22.255757",
     "status": "completed"
    },
    "tags": []
   },
   "outputs": [],
   "source": [
    "# Auto-reload the custom package\n",
    "%load_ext autoreload\n",
    "%autoreload 1\n",
    "%aimport fairness_multiverse"
   ]
  },
  {
   "cell_type": "code",
   "execution_count": 7,
   "id": "94c8eb93",
   "metadata": {
    "execution": {
     "iopub.execute_input": "2025-08-19T18:44:22.349211Z",
     "iopub.status.busy": "2025-08-19T18:44:22.348378Z",
     "iopub.status.idle": "2025-08-19T18:44:23.912755Z",
     "shell.execute_reply": "2025-08-19T18:44:23.912034Z"
    },
    "papermill": {
     "duration": 1.578141,
     "end_time": "2025-08-19T18:44:23.914344",
     "exception": false,
     "start_time": "2025-08-19T18:44:22.336203",
     "status": "completed"
    },
    "tags": []
   },
   "outputs": [],
   "source": [
    "from fairness_multiverse.universe import UniverseAnalysis\n",
    "\n",
    "universe_analysis = UniverseAnalysis(\n",
    "    run_no = run_no,\n",
    "    universe_id = universe_id,\n",
    "    universe = universe,\n",
    "    output_dir=output_dir,\n",
    ")"
   ]
  },
  {
   "cell_type": "code",
   "execution_count": 8,
   "id": "2a6381cf",
   "metadata": {
    "execution": {
     "iopub.execute_input": "2025-08-19T18:44:23.944221Z",
     "iopub.status.busy": "2025-08-19T18:44:23.943301Z",
     "iopub.status.idle": "2025-08-19T18:44:23.950090Z",
     "shell.execute_reply": "2025-08-19T18:44:23.949067Z"
    },
    "papermill": {
     "duration": 0.024567,
     "end_time": "2025-08-19T18:44:23.951527",
     "exception": false,
     "start_time": "2025-08-19T18:44:23.926960",
     "status": "completed"
    },
    "tags": []
   },
   "outputs": [
    {
     "name": "stdout",
     "output_type": "stream",
     "text": [
      "Using Seed: 2023\n"
     ]
    }
   ],
   "source": [
    "import numpy as np\n",
    "parsed_seed = int(seed)\n",
    "np.random.seed(parsed_seed)\n",
    "print(f\"Using Seed: {parsed_seed}\")"
   ]
  },
  {
   "cell_type": "markdown",
   "id": "b6e958b4",
   "metadata": {
    "papermill": {
     "duration": 0.008822,
     "end_time": "2025-08-19T18:44:23.979993",
     "exception": false,
     "start_time": "2025-08-19T18:44:23.971171",
     "status": "completed"
    },
    "tags": []
   },
   "source": [
    "# Loading Data"
   ]
  },
  {
   "cell_type": "code",
   "execution_count": 9,
   "id": "98701482",
   "metadata": {
    "execution": {
     "iopub.execute_input": "2025-08-19T18:44:24.013736Z",
     "iopub.status.busy": "2025-08-19T18:44:24.013260Z",
     "iopub.status.idle": "2025-08-19T18:44:34.528706Z",
     "shell.execute_reply": "2025-08-19T18:44:34.527730Z"
    },
    "papermill": {
     "duration": 10.541544,
     "end_time": "2025-08-19T18:44:34.531611",
     "exception": false,
     "start_time": "2025-08-19T18:44:23.990067",
     "status": "completed"
    },
    "tags": []
   },
   "outputs": [
    {
     "name": "stdout",
     "output_type": "stream",
     "text": [
      "Loading SIAB data from cache: data/siab_cached.csv.gz\n"
     ]
    },
    {
     "name": "stdout",
     "output_type": "stream",
     "text": [
      "(643690, 164)\n"
     ]
    }
   ],
   "source": [
    "from pathlib import Path\n",
    "import pandas as pd\n",
    "\n",
    "# File paths\n",
    "raw_file = Path(\"data/raw/siab.csv\")\n",
    "cache_file = Path(\"data/siab_cached.csv.gz\")\n",
    "\n",
    "# Ensure cache directory exists\n",
    "cache_file.parent.mkdir(parents=True, exist_ok=True)\n",
    "\n",
    "# Load with simple caching\n",
    "if cache_file.exists():\n",
    "    print(f\"Loading SIAB data from cache: {cache_file}\")\n",
    "    siab = pd.read_csv(cache_file, compression='gzip')\n",
    "else:\n",
    "    print(f\"Cache not found. Reading raw SIAB data: {raw_file}\")\n",
    "    siab = pd.read_csv(raw_file)\n",
    "    siab.to_csv(cache_file, index=False, compression='gzip')\n",
    "    print(f\"Cached SIAB data to: {cache_file}\")\n",
    "\n",
    "print(siab.shape)"
   ]
  },
  {
   "cell_type": "code",
   "execution_count": 10,
   "id": "058d2abb",
   "metadata": {
    "execution": {
     "iopub.execute_input": "2025-08-19T18:44:34.572080Z",
     "iopub.status.busy": "2025-08-19T18:44:34.571028Z",
     "iopub.status.idle": "2025-08-19T18:44:34.801492Z",
     "shell.execute_reply": "2025-08-19T18:44:34.800771Z"
    },
    "papermill": {
     "duration": 0.247994,
     "end_time": "2025-08-19T18:44:34.804705",
     "exception": false,
     "start_time": "2025-08-19T18:44:34.556711",
     "status": "completed"
    },
    "tags": []
   },
   "outputs": [
    {
     "data": {
      "text/html": [
       "<div>\n",
       "<style scoped>\n",
       "    .dataframe tbody tr th:only-of-type {\n",
       "        vertical-align: middle;\n",
       "    }\n",
       "\n",
       "    .dataframe tbody tr th {\n",
       "        vertical-align: top;\n",
       "    }\n",
       "\n",
       "    .dataframe thead th {\n",
       "        text-align: right;\n",
       "    }\n",
       "</style>\n",
       "<table border=\"1\" class=\"dataframe\">\n",
       "  <thead>\n",
       "    <tr style=\"text-align: right;\">\n",
       "      <th></th>\n",
       "      <th>persnr</th>\n",
       "      <th>year</th>\n",
       "      <th>nrEntry</th>\n",
       "      <th>ltue</th>\n",
       "      <th>employed_before</th>\n",
       "      <th>receipt_leh_before</th>\n",
       "      <th>receipt_lhg_before</th>\n",
       "      <th>se_before</th>\n",
       "      <th>ASU_notue_seeking_before</th>\n",
       "      <th>ASU_other_before</th>\n",
       "      <th>...</th>\n",
       "      <th>minijob_tot_dur_byage</th>\n",
       "      <th>ft_tot_dur_byage</th>\n",
       "      <th>befrist_tot_dur_byage</th>\n",
       "      <th>leih_tot_dur_byage</th>\n",
       "      <th>LHG_tot_dur_byage</th>\n",
       "      <th>LEH_tot_dur_byage</th>\n",
       "      <th>almp_tot_dur_byage</th>\n",
       "      <th>almp_aw_tot_dur_byage</th>\n",
       "      <th>se_tot_dur_byage</th>\n",
       "      <th>seeking1_tot_dur_byage</th>\n",
       "    </tr>\n",
       "  </thead>\n",
       "  <tbody>\n",
       "    <tr>\n",
       "      <th>0</th>\n",
       "      <td>7</td>\n",
       "      <td>2015</td>\n",
       "      <td>1</td>\n",
       "      <td>0</td>\n",
       "      <td>1</td>\n",
       "      <td>0</td>\n",
       "      <td>0</td>\n",
       "      <td>0</td>\n",
       "      <td>1</td>\n",
       "      <td>0</td>\n",
       "      <td>...</td>\n",
       "      <td>0.000000</td>\n",
       "      <td>0.000000</td>\n",
       "      <td>15.043478</td>\n",
       "      <td>0.000000</td>\n",
       "      <td>0.000000</td>\n",
       "      <td>0.000000</td>\n",
       "      <td>0.000000</td>\n",
       "      <td>0.000000</td>\n",
       "      <td>0.000000</td>\n",
       "      <td>0.000000</td>\n",
       "    </tr>\n",
       "    <tr>\n",
       "      <th>1</th>\n",
       "      <td>18</td>\n",
       "      <td>2010</td>\n",
       "      <td>1</td>\n",
       "      <td>1</td>\n",
       "      <td>0</td>\n",
       "      <td>0</td>\n",
       "      <td>0</td>\n",
       "      <td>0</td>\n",
       "      <td>0</td>\n",
       "      <td>0</td>\n",
       "      <td>...</td>\n",
       "      <td>0.000000</td>\n",
       "      <td>0.000000</td>\n",
       "      <td>0.000000</td>\n",
       "      <td>0.000000</td>\n",
       "      <td>0.000000</td>\n",
       "      <td>0.000000</td>\n",
       "      <td>0.000000</td>\n",
       "      <td>0.000000</td>\n",
       "      <td>0.000000</td>\n",
       "      <td>0.000000</td>\n",
       "    </tr>\n",
       "    <tr>\n",
       "      <th>2</th>\n",
       "      <td>18</td>\n",
       "      <td>2011</td>\n",
       "      <td>2</td>\n",
       "      <td>0</td>\n",
       "      <td>1</td>\n",
       "      <td>0</td>\n",
       "      <td>1</td>\n",
       "      <td>0</td>\n",
       "      <td>1</td>\n",
       "      <td>0</td>\n",
       "      <td>...</td>\n",
       "      <td>2.714286</td>\n",
       "      <td>2.714286</td>\n",
       "      <td>0.000000</td>\n",
       "      <td>0.000000</td>\n",
       "      <td>10.775510</td>\n",
       "      <td>0.000000</td>\n",
       "      <td>8.367347</td>\n",
       "      <td>0.000000</td>\n",
       "      <td>0.000000</td>\n",
       "      <td>9.836735</td>\n",
       "    </tr>\n",
       "    <tr>\n",
       "      <th>3</th>\n",
       "      <td>18</td>\n",
       "      <td>2012</td>\n",
       "      <td>3</td>\n",
       "      <td>0</td>\n",
       "      <td>1</td>\n",
       "      <td>0</td>\n",
       "      <td>1</td>\n",
       "      <td>0</td>\n",
       "      <td>1</td>\n",
       "      <td>0</td>\n",
       "      <td>...</td>\n",
       "      <td>4.200000</td>\n",
       "      <td>4.200000</td>\n",
       "      <td>0.000000</td>\n",
       "      <td>0.000000</td>\n",
       "      <td>12.100000</td>\n",
       "      <td>0.000000</td>\n",
       "      <td>9.400000</td>\n",
       "      <td>0.000000</td>\n",
       "      <td>0.000000</td>\n",
       "      <td>9.960000</td>\n",
       "    </tr>\n",
       "    <tr>\n",
       "      <th>4</th>\n",
       "      <td>18</td>\n",
       "      <td>2012</td>\n",
       "      <td>4</td>\n",
       "      <td>0</td>\n",
       "      <td>1</td>\n",
       "      <td>0</td>\n",
       "      <td>1</td>\n",
       "      <td>0</td>\n",
       "      <td>1</td>\n",
       "      <td>0</td>\n",
       "      <td>...</td>\n",
       "      <td>5.460000</td>\n",
       "      <td>5.460000</td>\n",
       "      <td>0.000000</td>\n",
       "      <td>0.000000</td>\n",
       "      <td>13.360000</td>\n",
       "      <td>0.000000</td>\n",
       "      <td>10.320000</td>\n",
       "      <td>0.000000</td>\n",
       "      <td>0.000000</td>\n",
       "      <td>10.280000</td>\n",
       "    </tr>\n",
       "    <tr>\n",
       "      <th>...</th>\n",
       "      <td>...</td>\n",
       "      <td>...</td>\n",
       "      <td>...</td>\n",
       "      <td>...</td>\n",
       "      <td>...</td>\n",
       "      <td>...</td>\n",
       "      <td>...</td>\n",
       "      <td>...</td>\n",
       "      <td>...</td>\n",
       "      <td>...</td>\n",
       "      <td>...</td>\n",
       "      <td>...</td>\n",
       "      <td>...</td>\n",
       "      <td>...</td>\n",
       "      <td>...</td>\n",
       "      <td>...</td>\n",
       "      <td>...</td>\n",
       "      <td>...</td>\n",
       "      <td>...</td>\n",
       "      <td>...</td>\n",
       "      <td>...</td>\n",
       "    </tr>\n",
       "    <tr>\n",
       "      <th>643685</th>\n",
       "      <td>1827860</td>\n",
       "      <td>2013</td>\n",
       "      <td>1</td>\n",
       "      <td>0</td>\n",
       "      <td>0</td>\n",
       "      <td>0</td>\n",
       "      <td>1</td>\n",
       "      <td>0</td>\n",
       "      <td>0</td>\n",
       "      <td>1</td>\n",
       "      <td>...</td>\n",
       "      <td>0.000000</td>\n",
       "      <td>0.000000</td>\n",
       "      <td>0.000000</td>\n",
       "      <td>0.000000</td>\n",
       "      <td>0.612903</td>\n",
       "      <td>0.000000</td>\n",
       "      <td>0.000000</td>\n",
       "      <td>0.000000</td>\n",
       "      <td>0.000000</td>\n",
       "      <td>0.000000</td>\n",
       "    </tr>\n",
       "    <tr>\n",
       "      <th>643686</th>\n",
       "      <td>1827860</td>\n",
       "      <td>2015</td>\n",
       "      <td>2</td>\n",
       "      <td>1</td>\n",
       "      <td>0</td>\n",
       "      <td>0</td>\n",
       "      <td>1</td>\n",
       "      <td>0</td>\n",
       "      <td>1</td>\n",
       "      <td>0</td>\n",
       "      <td>...</td>\n",
       "      <td>0.000000</td>\n",
       "      <td>0.000000</td>\n",
       "      <td>0.212121</td>\n",
       "      <td>0.212121</td>\n",
       "      <td>17.363636</td>\n",
       "      <td>0.000000</td>\n",
       "      <td>8.909091</td>\n",
       "      <td>0.000000</td>\n",
       "      <td>0.000000</td>\n",
       "      <td>7.121212</td>\n",
       "    </tr>\n",
       "    <tr>\n",
       "      <th>643687</th>\n",
       "      <td>1827860</td>\n",
       "      <td>2016</td>\n",
       "      <td>3</td>\n",
       "      <td>1</td>\n",
       "      <td>0</td>\n",
       "      <td>0</td>\n",
       "      <td>1</td>\n",
       "      <td>1</td>\n",
       "      <td>0</td>\n",
       "      <td>1</td>\n",
       "      <td>...</td>\n",
       "      <td>0.000000</td>\n",
       "      <td>0.000000</td>\n",
       "      <td>0.294118</td>\n",
       "      <td>0.205882</td>\n",
       "      <td>34.705882</td>\n",
       "      <td>0.000000</td>\n",
       "      <td>10.352941</td>\n",
       "      <td>1.705882</td>\n",
       "      <td>1.705882</td>\n",
       "      <td>23.911765</td>\n",
       "    </tr>\n",
       "    <tr>\n",
       "      <th>643688</th>\n",
       "      <td>1827869</td>\n",
       "      <td>2013</td>\n",
       "      <td>1</td>\n",
       "      <td>1</td>\n",
       "      <td>1</td>\n",
       "      <td>0</td>\n",
       "      <td>0</td>\n",
       "      <td>0</td>\n",
       "      <td>1</td>\n",
       "      <td>0</td>\n",
       "      <td>...</td>\n",
       "      <td>0.000000</td>\n",
       "      <td>0.000000</td>\n",
       "      <td>0.000000</td>\n",
       "      <td>0.000000</td>\n",
       "      <td>0.000000</td>\n",
       "      <td>0.525424</td>\n",
       "      <td>0.000000</td>\n",
       "      <td>0.000000</td>\n",
       "      <td>0.000000</td>\n",
       "      <td>0.000000</td>\n",
       "    </tr>\n",
       "    <tr>\n",
       "      <th>643689</th>\n",
       "      <td>1827869</td>\n",
       "      <td>2014</td>\n",
       "      <td>2</td>\n",
       "      <td>0</td>\n",
       "      <td>0</td>\n",
       "      <td>1</td>\n",
       "      <td>0</td>\n",
       "      <td>0</td>\n",
       "      <td>1</td>\n",
       "      <td>0</td>\n",
       "      <td>...</td>\n",
       "      <td>0.000000</td>\n",
       "      <td>0.666667</td>\n",
       "      <td>0.666667</td>\n",
       "      <td>0.000000</td>\n",
       "      <td>0.000000</td>\n",
       "      <td>8.950000</td>\n",
       "      <td>1.033333</td>\n",
       "      <td>0.083333</td>\n",
       "      <td>0.083333</td>\n",
       "      <td>8.133333</td>\n",
       "    </tr>\n",
       "  </tbody>\n",
       "</table>\n",
       "<p>643690 rows × 164 columns</p>\n",
       "</div>"
      ],
      "text/plain": [
       "         persnr  year  nrEntry  ltue  employed_before  receipt_leh_before  \\\n",
       "0             7  2015        1     0                1                   0   \n",
       "1            18  2010        1     1                0                   0   \n",
       "2            18  2011        2     0                1                   0   \n",
       "3            18  2012        3     0                1                   0   \n",
       "4            18  2012        4     0                1                   0   \n",
       "...         ...   ...      ...   ...              ...                 ...   \n",
       "643685  1827860  2013        1     0                0                   0   \n",
       "643686  1827860  2015        2     1                0                   0   \n",
       "643687  1827860  2016        3     1                0                   0   \n",
       "643688  1827869  2013        1     1                1                   0   \n",
       "643689  1827869  2014        2     0                0                   1   \n",
       "\n",
       "        receipt_lhg_before  se_before  ASU_notue_seeking_before  \\\n",
       "0                        0          0                         1   \n",
       "1                        0          0                         0   \n",
       "2                        1          0                         1   \n",
       "3                        1          0                         1   \n",
       "4                        1          0                         1   \n",
       "...                    ...        ...                       ...   \n",
       "643685                   1          0                         0   \n",
       "643686                   1          0                         1   \n",
       "643687                   1          1                         0   \n",
       "643688                   0          0                         1   \n",
       "643689                   0          0                         1   \n",
       "\n",
       "        ASU_other_before  ...  minijob_tot_dur_byage  ft_tot_dur_byage  \\\n",
       "0                      0  ...               0.000000          0.000000   \n",
       "1                      0  ...               0.000000          0.000000   \n",
       "2                      0  ...               2.714286          2.714286   \n",
       "3                      0  ...               4.200000          4.200000   \n",
       "4                      0  ...               5.460000          5.460000   \n",
       "...                  ...  ...                    ...               ...   \n",
       "643685                 1  ...               0.000000          0.000000   \n",
       "643686                 0  ...               0.000000          0.000000   \n",
       "643687                 1  ...               0.000000          0.000000   \n",
       "643688                 0  ...               0.000000          0.000000   \n",
       "643689                 0  ...               0.000000          0.666667   \n",
       "\n",
       "        befrist_tot_dur_byage  leih_tot_dur_byage  LHG_tot_dur_byage  \\\n",
       "0                   15.043478            0.000000           0.000000   \n",
       "1                    0.000000            0.000000           0.000000   \n",
       "2                    0.000000            0.000000          10.775510   \n",
       "3                    0.000000            0.000000          12.100000   \n",
       "4                    0.000000            0.000000          13.360000   \n",
       "...                       ...                 ...                ...   \n",
       "643685               0.000000            0.000000           0.612903   \n",
       "643686               0.212121            0.212121          17.363636   \n",
       "643687               0.294118            0.205882          34.705882   \n",
       "643688               0.000000            0.000000           0.000000   \n",
       "643689               0.666667            0.000000           0.000000   \n",
       "\n",
       "        LEH_tot_dur_byage  almp_tot_dur_byage  almp_aw_tot_dur_byage  \\\n",
       "0                0.000000            0.000000               0.000000   \n",
       "1                0.000000            0.000000               0.000000   \n",
       "2                0.000000            8.367347               0.000000   \n",
       "3                0.000000            9.400000               0.000000   \n",
       "4                0.000000           10.320000               0.000000   \n",
       "...                   ...                 ...                    ...   \n",
       "643685           0.000000            0.000000               0.000000   \n",
       "643686           0.000000            8.909091               0.000000   \n",
       "643687           0.000000           10.352941               1.705882   \n",
       "643688           0.525424            0.000000               0.000000   \n",
       "643689           8.950000            1.033333               0.083333   \n",
       "\n",
       "        se_tot_dur_byage  seeking1_tot_dur_byage  \n",
       "0               0.000000                0.000000  \n",
       "1               0.000000                0.000000  \n",
       "2               0.000000                9.836735  \n",
       "3               0.000000                9.960000  \n",
       "4               0.000000               10.280000  \n",
       "...                  ...                     ...  \n",
       "643685          0.000000                0.000000  \n",
       "643686          0.000000                7.121212  \n",
       "643687          1.705882               23.911765  \n",
       "643688          0.000000                0.000000  \n",
       "643689          0.083333                8.133333  \n",
       "\n",
       "[643690 rows x 164 columns]"
      ]
     },
     "execution_count": 10,
     "metadata": {},
     "output_type": "execute_result"
    }
   ],
   "source": [
    "siab"
   ]
  },
  {
   "cell_type": "markdown",
   "id": "1f87e805",
   "metadata": {
    "papermill": {
     "duration": 0.011766,
     "end_time": "2025-08-19T18:44:34.839853",
     "exception": false,
     "start_time": "2025-08-19T18:44:34.828087",
     "status": "completed"
    },
    "tags": []
   },
   "source": [
    "# Splitting Data and Setting Training Data Size"
   ]
  },
  {
   "cell_type": "code",
   "execution_count": 11,
   "id": "910ae358",
   "metadata": {
    "execution": {
     "iopub.execute_input": "2025-08-19T18:44:34.866867Z",
     "iopub.status.busy": "2025-08-19T18:44:34.865596Z",
     "iopub.status.idle": "2025-08-19T18:44:36.004713Z",
     "shell.execute_reply": "2025-08-19T18:44:36.003974Z"
    },
    "papermill": {
     "duration": 1.157095,
     "end_time": "2025-08-19T18:44:36.006486",
     "exception": false,
     "start_time": "2025-08-19T18:44:34.849391",
     "status": "completed"
    },
    "tags": []
   },
   "outputs": [],
   "source": [
    "from fairness_multiverse.universe import sample_by_year_size\n",
    "\n",
    "siab_train = sample_by_year_size(siab,\n",
    "                               training_year=universe[\"training_year\"],\n",
    "                               training_size=universe[\"training_size\"])"
   ]
  },
  {
   "cell_type": "code",
   "execution_count": 12,
   "id": "919c8ff5",
   "metadata": {
    "execution": {
     "iopub.execute_input": "2025-08-19T18:44:36.036958Z",
     "iopub.status.busy": "2025-08-19T18:44:36.036443Z",
     "iopub.status.idle": "2025-08-19T18:44:36.042050Z",
     "shell.execute_reply": "2025-08-19T18:44:36.041443Z"
    },
    "papermill": {
     "duration": 0.021654,
     "end_time": "2025-08-19T18:44:36.043137",
     "exception": false,
     "start_time": "2025-08-19T18:44:36.021483",
     "status": "completed"
    },
    "tags": []
   },
   "outputs": [
    {
     "data": {
      "text/plain": [
       "(5000, 164)"
      ]
     },
     "execution_count": 12,
     "metadata": {},
     "output_type": "execute_result"
    }
   ],
   "source": [
    "siab_train.shape"
   ]
  },
  {
   "cell_type": "code",
   "execution_count": 13,
   "id": "feb13bf4",
   "metadata": {
    "execution": {
     "iopub.execute_input": "2025-08-19T18:44:36.086355Z",
     "iopub.status.busy": "2025-08-19T18:44:36.085304Z",
     "iopub.status.idle": "2025-08-19T18:44:36.100992Z",
     "shell.execute_reply": "2025-08-19T18:44:36.099789Z"
    },
    "papermill": {
     "duration": 0.045287,
     "end_time": "2025-08-19T18:44:36.102758",
     "exception": false,
     "start_time": "2025-08-19T18:44:36.057471",
     "status": "completed"
    },
    "tags": []
   },
   "outputs": [
    {
     "data": {
      "text/plain": [
       "year\n",
       "2010    1000\n",
       "2011    1000\n",
       "2012    1000\n",
       "2013    1000\n",
       "2014    1000\n",
       "dtype: int64"
      ]
     },
     "metadata": {},
     "output_type": "display_data"
    }
   ],
   "source": [
    "display(siab_train.groupby(\"year\").size())"
   ]
  },
  {
   "cell_type": "code",
   "execution_count": 14,
   "id": "0997782f",
   "metadata": {
    "execution": {
     "iopub.execute_input": "2025-08-19T18:44:36.139473Z",
     "iopub.status.busy": "2025-08-19T18:44:36.138166Z",
     "iopub.status.idle": "2025-08-19T18:44:36.445623Z",
     "shell.execute_reply": "2025-08-19T18:44:36.444910Z"
    },
    "papermill": {
     "duration": 0.324832,
     "end_time": "2025-08-19T18:44:36.448625",
     "exception": false,
     "start_time": "2025-08-19T18:44:36.123793",
     "status": "completed"
    },
    "tags": []
   },
   "outputs": [],
   "source": [
    "#siab_train = siab_s[siab_s.year < 2015]\n",
    "siab_calib = siab[siab.year == 2015]\n",
    "siab_test = siab[siab.year == 2016]"
   ]
  },
  {
   "cell_type": "code",
   "execution_count": 15,
   "id": "2c1e4012",
   "metadata": {
    "execution": {
     "iopub.execute_input": "2025-08-19T18:44:36.487639Z",
     "iopub.status.busy": "2025-08-19T18:44:36.486290Z",
     "iopub.status.idle": "2025-08-19T18:44:36.494589Z",
     "shell.execute_reply": "2025-08-19T18:44:36.493039Z"
    },
    "papermill": {
     "duration": 0.023933,
     "end_time": "2025-08-19T18:44:36.496027",
     "exception": false,
     "start_time": "2025-08-19T18:44:36.472094",
     "status": "completed"
    },
    "tags": []
   },
   "outputs": [],
   "source": [
    "#siab_calib.shape"
   ]
  },
  {
   "cell_type": "code",
   "execution_count": 16,
   "id": "f66b54ca",
   "metadata": {
    "execution": {
     "iopub.execute_input": "2025-08-19T18:44:36.522238Z",
     "iopub.status.busy": "2025-08-19T18:44:36.520858Z",
     "iopub.status.idle": "2025-08-19T18:44:36.530797Z",
     "shell.execute_reply": "2025-08-19T18:44:36.528553Z"
    },
    "papermill": {
     "duration": 0.023906,
     "end_time": "2025-08-19T18:44:36.532802",
     "exception": false,
     "start_time": "2025-08-19T18:44:36.508896",
     "status": "completed"
    },
    "tags": []
   },
   "outputs": [],
   "source": [
    "#siab_test.shape"
   ]
  },
  {
   "cell_type": "code",
   "execution_count": 17,
   "id": "27e4384d",
   "metadata": {
    "execution": {
     "iopub.execute_input": "2025-08-19T18:44:36.573359Z",
     "iopub.status.busy": "2025-08-19T18:44:36.572792Z",
     "iopub.status.idle": "2025-08-19T18:44:36.592927Z",
     "shell.execute_reply": "2025-08-19T18:44:36.592053Z"
    },
    "papermill": {
     "duration": 0.048262,
     "end_time": "2025-08-19T18:44:36.594633",
     "exception": false,
     "start_time": "2025-08-19T18:44:36.546371",
     "status": "completed"
    },
    "tags": []
   },
   "outputs": [],
   "source": [
    "X_train = siab_train.iloc[:,4:164]\n",
    "y_train = siab_train.iloc[:, [3]]"
   ]
  },
  {
   "cell_type": "code",
   "execution_count": 18,
   "id": "08ee8389",
   "metadata": {
    "execution": {
     "iopub.execute_input": "2025-08-19T18:44:36.619361Z",
     "iopub.status.busy": "2025-08-19T18:44:36.618909Z",
     "iopub.status.idle": "2025-08-19T18:44:36.677501Z",
     "shell.execute_reply": "2025-08-19T18:44:36.676634Z"
    },
    "papermill": {
     "duration": 0.073565,
     "end_time": "2025-08-19T18:44:36.679170",
     "exception": false,
     "start_time": "2025-08-19T18:44:36.605605",
     "status": "completed"
    },
    "tags": []
   },
   "outputs": [],
   "source": [
    "X_calib = siab_calib.iloc[:,4:164]\n",
    "y_calib = siab_calib.iloc[:, [3]]"
   ]
  },
  {
   "cell_type": "code",
   "execution_count": 19,
   "id": "b7ff42e0",
   "metadata": {
    "execution": {
     "iopub.execute_input": "2025-08-19T18:44:36.726016Z",
     "iopub.status.busy": "2025-08-19T18:44:36.723444Z",
     "iopub.status.idle": "2025-08-19T18:44:36.791916Z",
     "shell.execute_reply": "2025-08-19T18:44:36.791105Z"
    },
    "papermill": {
     "duration": 0.095167,
     "end_time": "2025-08-19T18:44:36.794768",
     "exception": false,
     "start_time": "2025-08-19T18:44:36.699601",
     "status": "completed"
    },
    "tags": []
   },
   "outputs": [],
   "source": [
    "X_test = siab_test.iloc[:,4:164]\n",
    "y_true = siab_test.iloc[:, [3]]"
   ]
  },
  {
   "cell_type": "code",
   "execution_count": 20,
   "id": "0275101e",
   "metadata": {
    "execution": {
     "iopub.execute_input": "2025-08-19T18:44:36.837553Z",
     "iopub.status.busy": "2025-08-19T18:44:36.831271Z",
     "iopub.status.idle": "2025-08-19T18:44:36.971359Z",
     "shell.execute_reply": "2025-08-19T18:44:36.970391Z"
    },
    "papermill": {
     "duration": 0.15564,
     "end_time": "2025-08-19T18:44:36.973095",
     "exception": false,
     "start_time": "2025-08-19T18:44:36.817455",
     "status": "completed"
    },
    "tags": []
   },
   "outputs": [],
   "source": [
    "# Auxiliary data needed downstream in the pipeline\n",
    "\n",
    "org_train = X_train.copy()\n",
    "org_test = X_test.copy()\n",
    "org_calib = X_calib.copy()"
   ]
  },
  {
   "cell_type": "markdown",
   "id": "b461e618",
   "metadata": {
    "papermill": {
     "duration": 0.016739,
     "end_time": "2025-08-19T18:44:37.001309",
     "exception": false,
     "start_time": "2025-08-19T18:44:36.984570",
     "status": "completed"
    },
    "tags": []
   },
   "source": [
    "# Preprocessing Data"
   ]
  },
  {
   "cell_type": "code",
   "execution_count": 21,
   "id": "78e74c4b",
   "metadata": {
    "execution": {
     "iopub.execute_input": "2025-08-19T18:44:37.025419Z",
     "iopub.status.busy": "2025-08-19T18:44:37.024978Z",
     "iopub.status.idle": "2025-08-19T18:44:37.029907Z",
     "shell.execute_reply": "2025-08-19T18:44:37.029294Z"
    },
    "papermill": {
     "duration": 0.0197,
     "end_time": "2025-08-19T18:44:37.032825",
     "exception": false,
     "start_time": "2025-08-19T18:44:37.013125",
     "status": "completed"
    },
    "tags": []
   },
   "outputs": [],
   "source": [
    "# EXCLUDE PROTECTED FEATURES\n",
    "# --------------------------\n",
    "\n",
    "excluded_features = universe[\"exclude_features\"].split(\"-\")\n",
    "excluded_features_dictionary = {\n",
    "    \"nationality\": [\"maxdeutsch1\", \"maxdeutsch.Missing.\"],\n",
    "    \"sex\": [\"frau1\"],\n",
    "    \"age\": [\"age\"],\n",
    "}"
   ]
  },
  {
   "cell_type": "code",
   "execution_count": 22,
   "id": "f8e63555",
   "metadata": {
    "execution": {
     "iopub.execute_input": "2025-08-19T18:44:37.092547Z",
     "iopub.status.busy": "2025-08-19T18:44:37.091486Z",
     "iopub.status.idle": "2025-08-19T18:44:37.101041Z",
     "shell.execute_reply": "2025-08-19T18:44:37.099637Z"
    },
    "papermill": {
     "duration": 0.03869,
     "end_time": "2025-08-19T18:44:37.102581",
     "exception": false,
     "start_time": "2025-08-19T18:44:37.063891",
     "status": "completed"
    },
    "tags": []
   },
   "outputs": [],
   "source": [
    "excluded_features_columns = [\n",
    "    excluded_features_dictionary[f] for f in excluded_features if len(f) > 0 and f != \"none\"\n",
    "]"
   ]
  },
  {
   "cell_type": "code",
   "execution_count": 23,
   "id": "da781f7c",
   "metadata": {
    "execution": {
     "iopub.execute_input": "2025-08-19T18:44:37.133289Z",
     "iopub.status.busy": "2025-08-19T18:44:37.131605Z",
     "iopub.status.idle": "2025-08-19T18:44:37.157860Z",
     "shell.execute_reply": "2025-08-19T18:44:37.156187Z"
    },
    "papermill": {
     "duration": 0.041995,
     "end_time": "2025-08-19T18:44:37.160095",
     "exception": false,
     "start_time": "2025-08-19T18:44:37.118100",
     "status": "completed"
    },
    "tags": []
   },
   "outputs": [],
   "source": [
    "from fairness_multiverse.universe import flatten_once\n",
    "\n",
    "excluded_features_columns = flatten_once(excluded_features_columns)"
   ]
  },
  {
   "cell_type": "code",
   "execution_count": 24,
   "id": "37fef0f0",
   "metadata": {
    "execution": {
     "iopub.execute_input": "2025-08-19T18:44:37.196796Z",
     "iopub.status.busy": "2025-08-19T18:44:37.196059Z",
     "iopub.status.idle": "2025-08-19T18:44:37.210667Z",
     "shell.execute_reply": "2025-08-19T18:44:37.209774Z"
    },
    "papermill": {
     "duration": 0.030627,
     "end_time": "2025-08-19T18:44:37.212835",
     "exception": false,
     "start_time": "2025-08-19T18:44:37.182208",
     "status": "completed"
    },
    "tags": []
   },
   "outputs": [
    {
     "name": "stdout",
     "output_type": "stream",
     "text": [
      "Dropping features: ['age']\n"
     ]
    }
   ],
   "source": [
    "if len(excluded_features_columns) > 0:\n",
    "    print(f\"Dropping features: {excluded_features_columns}\")\n",
    "    X_train.drop(excluded_features_columns, axis=1, inplace=True)"
   ]
  },
  {
   "cell_type": "code",
   "execution_count": 25,
   "id": "d029e3e9",
   "metadata": {
    "execution": {
     "iopub.execute_input": "2025-08-19T18:44:37.240912Z",
     "iopub.status.busy": "2025-08-19T18:44:37.240172Z",
     "iopub.status.idle": "2025-08-19T18:44:37.337261Z",
     "shell.execute_reply": "2025-08-19T18:44:37.335500Z"
    },
    "papermill": {
     "duration": 0.114333,
     "end_time": "2025-08-19T18:44:37.341229",
     "exception": false,
     "start_time": "2025-08-19T18:44:37.226896",
     "status": "completed"
    },
    "tags": []
   },
   "outputs": [
    {
     "name": "stdout",
     "output_type": "stream",
     "text": [
      "Dropping features: ['age']\n"
     ]
    }
   ],
   "source": [
    "if len(excluded_features_columns) > 0:\n",
    "    print(f\"Dropping features: {excluded_features_columns}\")\n",
    "    X_test.drop(excluded_features_columns, axis=1, inplace=True)"
   ]
  },
  {
   "cell_type": "code",
   "execution_count": 26,
   "id": "01d571f0",
   "metadata": {
    "execution": {
     "iopub.execute_input": "2025-08-19T18:44:37.378081Z",
     "iopub.status.busy": "2025-08-19T18:44:37.377572Z",
     "iopub.status.idle": "2025-08-19T18:44:37.438896Z",
     "shell.execute_reply": "2025-08-19T18:44:37.438009Z"
    },
    "papermill": {
     "duration": 0.076574,
     "end_time": "2025-08-19T18:44:37.440703",
     "exception": false,
     "start_time": "2025-08-19T18:44:37.364129",
     "status": "completed"
    },
    "tags": []
   },
   "outputs": [
    {
     "name": "stdout",
     "output_type": "stream",
     "text": [
      "Dropping features: ['age']\n"
     ]
    }
   ],
   "source": [
    "if len(excluded_features_columns) > 0:\n",
    "    print(f\"Dropping features: {excluded_features_columns}\")\n",
    "    X_calib.drop(excluded_features_columns, axis=1, inplace=True)"
   ]
  },
  {
   "cell_type": "code",
   "execution_count": 27,
   "id": "3037356e",
   "metadata": {
    "execution": {
     "iopub.execute_input": "2025-08-19T18:44:37.508166Z",
     "iopub.status.busy": "2025-08-19T18:44:37.506894Z",
     "iopub.status.idle": "2025-08-19T18:44:37.517559Z",
     "shell.execute_reply": "2025-08-19T18:44:37.516176Z"
    },
    "papermill": {
     "duration": 0.036121,
     "end_time": "2025-08-19T18:44:37.519594",
     "exception": false,
     "start_time": "2025-08-19T18:44:37.483473",
     "status": "completed"
    },
    "tags": []
   },
   "outputs": [],
   "source": [
    "# EXCLUDE CERTAIN SUBGROUPS\n",
    "# -------------------------\n",
    "\n",
    "mode = universe.get(\"exclude_subgroups\", \"keep-all\") # Defaults to \"keep-all\" if the key is missing."
   ]
  },
  {
   "cell_type": "code",
   "execution_count": 28,
   "id": "9d1e63fd",
   "metadata": {
    "execution": {
     "iopub.execute_input": "2025-08-19T18:44:37.549567Z",
     "iopub.status.busy": "2025-08-19T18:44:37.548237Z",
     "iopub.status.idle": "2025-08-19T18:44:37.563067Z",
     "shell.execute_reply": "2025-08-19T18:44:37.561817Z"
    },
    "papermill": {
     "duration": 0.031731,
     "end_time": "2025-08-19T18:44:37.565158",
     "exception": false,
     "start_time": "2025-08-19T18:44:37.533427",
     "status": "completed"
    },
    "tags": []
   },
   "outputs": [],
   "source": [
    "if mode == \"keep-all\":\n",
    "    keep_mask = pd.Series(True, index=org_train.index)\n",
    "\n",
    "elif mode == \"drop-non-german\":\n",
    "    keep_mask = (org_train[\"maxdeutsch1\"] == 1) & (org_train[\"maxdeutsch.Missing.\"] == 0)\n",
    "\n",
    "else:\n",
    "    raise ValueError(f\"Unsupported mode for exclude_subgroups: {mode}\")"
   ]
  },
  {
   "cell_type": "code",
   "execution_count": 29,
   "id": "d3b65474",
   "metadata": {
    "execution": {
     "iopub.execute_input": "2025-08-19T18:44:37.600162Z",
     "iopub.status.busy": "2025-08-19T18:44:37.599112Z",
     "iopub.status.idle": "2025-08-19T18:44:37.614263Z",
     "shell.execute_reply": "2025-08-19T18:44:37.612262Z"
    },
    "papermill": {
     "duration": 0.031254,
     "end_time": "2025-08-19T18:44:37.616008",
     "exception": false,
     "start_time": "2025-08-19T18:44:37.584754",
     "status": "completed"
    },
    "tags": []
   },
   "outputs": [
    {
     "name": "stdout",
     "output_type": "stream",
     "text": [
      "Dropping 657 rows (13.14%) where mode='drop-non-german'\n"
     ]
    }
   ],
   "source": [
    "n_drop = (~keep_mask).sum() # Calculates how many rows are set to be dropped\n",
    "if n_drop > 0:\n",
    "    pct = n_drop / len(keep_mask) * 100\n",
    "    print(f\"Dropping {n_drop} rows ({pct:.2f}%) where mode='{mode}'\")"
   ]
  },
  {
   "cell_type": "code",
   "execution_count": 30,
   "id": "f44389b3",
   "metadata": {
    "execution": {
     "iopub.execute_input": "2025-08-19T18:44:37.666727Z",
     "iopub.status.busy": "2025-08-19T18:44:37.665713Z",
     "iopub.status.idle": "2025-08-19T18:44:37.686081Z",
     "shell.execute_reply": "2025-08-19T18:44:37.684731Z"
    },
    "papermill": {
     "duration": 0.046342,
     "end_time": "2025-08-19T18:44:37.687757",
     "exception": false,
     "start_time": "2025-08-19T18:44:37.641415",
     "status": "completed"
    },
    "tags": []
   },
   "outputs": [],
   "source": [
    "X_train = X_train[keep_mask]"
   ]
  },
  {
   "cell_type": "code",
   "execution_count": 31,
   "id": "ceca8c2a",
   "metadata": {
    "execution": {
     "iopub.execute_input": "2025-08-19T18:44:37.713006Z",
     "iopub.status.busy": "2025-08-19T18:44:37.712148Z",
     "iopub.status.idle": "2025-08-19T18:44:37.727387Z",
     "shell.execute_reply": "2025-08-19T18:44:37.720962Z"
    },
    "papermill": {
     "duration": 0.032345,
     "end_time": "2025-08-19T18:44:37.731979",
     "exception": false,
     "start_time": "2025-08-19T18:44:37.699634",
     "status": "completed"
    },
    "tags": []
   },
   "outputs": [],
   "source": [
    "y_train = y_train[keep_mask]"
   ]
  },
  {
   "cell_type": "markdown",
   "id": "04d31e2f",
   "metadata": {
    "papermill": {
     "duration": 0.010911,
     "end_time": "2025-08-19T18:44:37.760008",
     "exception": false,
     "start_time": "2025-08-19T18:44:37.749097",
     "status": "completed"
    },
    "tags": []
   },
   "source": [
    "# Model Training"
   ]
  },
  {
   "cell_type": "code",
   "execution_count": 32,
   "id": "db991733",
   "metadata": {
    "execution": {
     "iopub.execute_input": "2025-08-19T18:44:37.784519Z",
     "iopub.status.busy": "2025-08-19T18:44:37.784106Z",
     "iopub.status.idle": "2025-08-19T18:44:37.876321Z",
     "shell.execute_reply": "2025-08-19T18:44:37.875669Z"
    },
    "papermill": {
     "duration": 0.105137,
     "end_time": "2025-08-19T18:44:37.877730",
     "exception": false,
     "start_time": "2025-08-19T18:44:37.772593",
     "status": "completed"
    },
    "tags": []
   },
   "outputs": [],
   "source": [
    "from sklearn.linear_model import LogisticRegression\n",
    "from sklearn.ensemble import GradientBoostingClassifier, RandomForestClassifier\n",
    "\n",
    "if (universe[\"model\"] == \"logreg\"):\n",
    "    model = LogisticRegression() #penalty=\"none\", solver=\"newton-cg\", max_iter=1)\n",
    "elif (universe[\"model\"] == \"penalized_logreg\"):\n",
    "    model = LogisticRegression(penalty=\"l2\", C=0.1) #, solver=\"newton-cg\", max_iter=1)\n",
    "elif (universe[\"model\"] == \"rf\"):\n",
    "    model = RandomForestClassifier() # n_estimators=100, n_jobs=-1\n",
    "elif (universe[\"model\"] == \"gbm\"):\n",
    "    model = GradientBoostingClassifier()\n",
    "elif (universe[\"model\"] == \"elasticnet\"):\n",
    "    model = LogisticRegression(penalty = 'elasticnet', solver = 'saga', l1_ratio = 0.5) # max_iter=5000\n",
    "else:\n",
    "    raise \"Unsupported universe.model\""
   ]
  },
  {
   "cell_type": "code",
   "execution_count": 33,
   "id": "a4b5cd25",
   "metadata": {
    "execution": {
     "iopub.execute_input": "2025-08-19T18:44:37.922585Z",
     "iopub.status.busy": "2025-08-19T18:44:37.922184Z",
     "iopub.status.idle": "2025-08-19T18:44:37.927012Z",
     "shell.execute_reply": "2025-08-19T18:44:37.926388Z"
    },
    "papermill": {
     "duration": 0.024687,
     "end_time": "2025-08-19T18:44:37.928400",
     "exception": false,
     "start_time": "2025-08-19T18:44:37.903713",
     "status": "completed"
    },
    "tags": []
   },
   "outputs": [],
   "source": [
    "from sklearn.pipeline import Pipeline\n",
    "from sklearn.preprocessing import StandardScaler\n",
    "\n",
    "model = Pipeline([\n",
    "    #(\"continuous_processor\", continuous_processor),\n",
    "    #(\"categorical_preprocessor\", categorical_preprocessor),\n",
    "    (\"scale\", StandardScaler() if universe[\"scale\"] == \"scale\" else None), \n",
    "    (\"model\", model),\n",
    "])"
   ]
  },
  {
   "cell_type": "code",
   "execution_count": 34,
   "id": "283a904d",
   "metadata": {
    "execution": {
     "iopub.execute_input": "2025-08-19T18:44:37.956453Z",
     "iopub.status.busy": "2025-08-19T18:44:37.956042Z",
     "iopub.status.idle": "2025-08-19T18:44:39.144828Z",
     "shell.execute_reply": "2025-08-19T18:44:39.143451Z"
    },
    "papermill": {
     "duration": 1.207137,
     "end_time": "2025-08-19T18:44:39.149103",
     "exception": false,
     "start_time": "2025-08-19T18:44:37.941966",
     "status": "completed"
    },
    "tags": []
   },
   "outputs": [
    {
     "name": "stderr",
     "output_type": "stream",
     "text": [
      "/dss/dsshome1/0C/ra93lal2/.local/share/virtualenvs/CMA_Fairness_v2-3j10GkSs/lib/python3.10/site-packages/sklearn/linear_model/_sag.py:350: ConvergenceWarning: The max_iter was reached which means the coef_ did not converge\n",
      "  warnings.warn(\n"
     ]
    },
    {
     "data": {
      "text/html": [
       "<style>#sk-container-id-1 {color: black;background-color: white;}#sk-container-id-1 pre{padding: 0;}#sk-container-id-1 div.sk-toggleable {background-color: white;}#sk-container-id-1 label.sk-toggleable__label {cursor: pointer;display: block;width: 100%;margin-bottom: 0;padding: 0.3em;box-sizing: border-box;text-align: center;}#sk-container-id-1 label.sk-toggleable__label-arrow:before {content: \"▸\";float: left;margin-right: 0.25em;color: #696969;}#sk-container-id-1 label.sk-toggleable__label-arrow:hover:before {color: black;}#sk-container-id-1 div.sk-estimator:hover label.sk-toggleable__label-arrow:before {color: black;}#sk-container-id-1 div.sk-toggleable__content {max-height: 0;max-width: 0;overflow: hidden;text-align: left;background-color: #f0f8ff;}#sk-container-id-1 div.sk-toggleable__content pre {margin: 0.2em;color: black;border-radius: 0.25em;background-color: #f0f8ff;}#sk-container-id-1 input.sk-toggleable__control:checked~div.sk-toggleable__content {max-height: 200px;max-width: 100%;overflow: auto;}#sk-container-id-1 input.sk-toggleable__control:checked~label.sk-toggleable__label-arrow:before {content: \"▾\";}#sk-container-id-1 div.sk-estimator input.sk-toggleable__control:checked~label.sk-toggleable__label {background-color: #d4ebff;}#sk-container-id-1 div.sk-label input.sk-toggleable__control:checked~label.sk-toggleable__label {background-color: #d4ebff;}#sk-container-id-1 input.sk-hidden--visually {border: 0;clip: rect(1px 1px 1px 1px);clip: rect(1px, 1px, 1px, 1px);height: 1px;margin: -1px;overflow: hidden;padding: 0;position: absolute;width: 1px;}#sk-container-id-1 div.sk-estimator {font-family: monospace;background-color: #f0f8ff;border: 1px dotted black;border-radius: 0.25em;box-sizing: border-box;margin-bottom: 0.5em;}#sk-container-id-1 div.sk-estimator:hover {background-color: #d4ebff;}#sk-container-id-1 div.sk-parallel-item::after {content: \"\";width: 100%;border-bottom: 1px solid gray;flex-grow: 1;}#sk-container-id-1 div.sk-label:hover label.sk-toggleable__label {background-color: #d4ebff;}#sk-container-id-1 div.sk-serial::before {content: \"\";position: absolute;border-left: 1px solid gray;box-sizing: border-box;top: 0;bottom: 0;left: 50%;z-index: 0;}#sk-container-id-1 div.sk-serial {display: flex;flex-direction: column;align-items: center;background-color: white;padding-right: 0.2em;padding-left: 0.2em;position: relative;}#sk-container-id-1 div.sk-item {position: relative;z-index: 1;}#sk-container-id-1 div.sk-parallel {display: flex;align-items: stretch;justify-content: center;background-color: white;position: relative;}#sk-container-id-1 div.sk-item::before, #sk-container-id-1 div.sk-parallel-item::before {content: \"\";position: absolute;border-left: 1px solid gray;box-sizing: border-box;top: 0;bottom: 0;left: 50%;z-index: -1;}#sk-container-id-1 div.sk-parallel-item {display: flex;flex-direction: column;z-index: 1;position: relative;background-color: white;}#sk-container-id-1 div.sk-parallel-item:first-child::after {align-self: flex-end;width: 50%;}#sk-container-id-1 div.sk-parallel-item:last-child::after {align-self: flex-start;width: 50%;}#sk-container-id-1 div.sk-parallel-item:only-child::after {width: 0;}#sk-container-id-1 div.sk-dashed-wrapped {border: 1px dashed gray;margin: 0 0.4em 0.5em 0.4em;box-sizing: border-box;padding-bottom: 0.4em;background-color: white;}#sk-container-id-1 div.sk-label label {font-family: monospace;font-weight: bold;display: inline-block;line-height: 1.2em;}#sk-container-id-1 div.sk-label-container {text-align: center;}#sk-container-id-1 div.sk-container {/* jupyter's `normalize.less` sets `[hidden] { display: none; }` but bootstrap.min.css set `[hidden] { display: none !important; }` so we also need the `!important` here to be able to override the default hidden behavior on the sphinx rendered scikit-learn.org. See: https://github.com/scikit-learn/scikit-learn/issues/21755 */display: inline-block !important;position: relative;}#sk-container-id-1 div.sk-text-repr-fallback {display: none;}</style><div id=\"sk-container-id-1\" class=\"sk-top-container\"><div class=\"sk-text-repr-fallback\"><pre>Pipeline(steps=[(&#x27;scale&#x27;, StandardScaler()),\n",
       "                (&#x27;model&#x27;,\n",
       "                 LogisticRegression(l1_ratio=0.5, penalty=&#x27;elasticnet&#x27;,\n",
       "                                    solver=&#x27;saga&#x27;))])</pre><b>In a Jupyter environment, please rerun this cell to show the HTML representation or trust the notebook. <br />On GitHub, the HTML representation is unable to render, please try loading this page with nbviewer.org.</b></div><div class=\"sk-container\" hidden><div class=\"sk-item sk-dashed-wrapped\"><div class=\"sk-label-container\"><div class=\"sk-label sk-toggleable\"><input class=\"sk-toggleable__control sk-hidden--visually\" id=\"sk-estimator-id-1\" type=\"checkbox\" ><label for=\"sk-estimator-id-1\" class=\"sk-toggleable__label sk-toggleable__label-arrow\">Pipeline</label><div class=\"sk-toggleable__content\"><pre>Pipeline(steps=[(&#x27;scale&#x27;, StandardScaler()),\n",
       "                (&#x27;model&#x27;,\n",
       "                 LogisticRegression(l1_ratio=0.5, penalty=&#x27;elasticnet&#x27;,\n",
       "                                    solver=&#x27;saga&#x27;))])</pre></div></div></div><div class=\"sk-serial\"><div class=\"sk-item\"><div class=\"sk-estimator sk-toggleable\"><input class=\"sk-toggleable__control sk-hidden--visually\" id=\"sk-estimator-id-2\" type=\"checkbox\" ><label for=\"sk-estimator-id-2\" class=\"sk-toggleable__label sk-toggleable__label-arrow\">StandardScaler</label><div class=\"sk-toggleable__content\"><pre>StandardScaler()</pre></div></div></div><div class=\"sk-item\"><div class=\"sk-estimator sk-toggleable\"><input class=\"sk-toggleable__control sk-hidden--visually\" id=\"sk-estimator-id-3\" type=\"checkbox\" ><label for=\"sk-estimator-id-3\" class=\"sk-toggleable__label sk-toggleable__label-arrow\">LogisticRegression</label><div class=\"sk-toggleable__content\"><pre>LogisticRegression(l1_ratio=0.5, penalty=&#x27;elasticnet&#x27;, solver=&#x27;saga&#x27;)</pre></div></div></div></div></div></div></div>"
      ],
      "text/plain": [
       "Pipeline(steps=[('scale', StandardScaler()),\n",
       "                ('model',\n",
       "                 LogisticRegression(l1_ratio=0.5, penalty='elasticnet',\n",
       "                                    solver='saga'))])"
      ]
     },
     "execution_count": 34,
     "metadata": {},
     "output_type": "execute_result"
    }
   ],
   "source": [
    "model.fit(X_train, y_train.values.ravel())"
   ]
  },
  {
   "cell_type": "code",
   "execution_count": 35,
   "id": "6e15e313",
   "metadata": {
    "execution": {
     "iopub.execute_input": "2025-08-19T18:44:39.184488Z",
     "iopub.status.busy": "2025-08-19T18:44:39.184157Z",
     "iopub.status.idle": "2025-08-19T18:44:39.435042Z",
     "shell.execute_reply": "2025-08-19T18:44:39.434205Z"
    },
    "papermill": {
     "duration": 0.264906,
     "end_time": "2025-08-19T18:44:39.436501",
     "exception": false,
     "start_time": "2025-08-19T18:44:39.171595",
     "status": "completed"
    },
    "tags": []
   },
   "outputs": [
    {
     "data": {
      "text/plain": [
       "0.8514435402965109"
      ]
     },
     "execution_count": 35,
     "metadata": {},
     "output_type": "execute_result"
    }
   ],
   "source": [
    "from fairness_multiverse.universe import predict_w_threshold\n",
    "\n",
    "probs_test = model.predict_proba(X_test)\n",
    "\n",
    "'''\n",
    "Below code returns a boolean array (or binary 0/1 array depending on how it’s used) where each element \n",
    "is True if the probability of class 1 is greater than or equal to the threshold, and False otherwise.\n",
    "'''\n",
    "y_pred_default = predict_w_threshold(probs_test, 0.5)\n",
    "\n",
    "from sklearn.metrics import accuracy_score\n",
    "\n",
    "# Naive prediction\n",
    "accuracy_score(y_true = y_true, y_pred = y_pred_default)"
   ]
  },
  {
   "cell_type": "code",
   "execution_count": 36,
   "id": "6f14067c",
   "metadata": {
    "execution": {
     "iopub.execute_input": "2025-08-19T18:44:39.464939Z",
     "iopub.status.busy": "2025-08-19T18:44:39.463598Z",
     "iopub.status.idle": "2025-08-19T18:44:39.655731Z",
     "shell.execute_reply": "2025-08-19T18:44:39.654968Z"
    },
    "papermill": {
     "duration": 0.206904,
     "end_time": "2025-08-19T18:44:39.657132",
     "exception": false,
     "start_time": "2025-08-19T18:44:39.450228",
     "status": "completed"
    },
    "tags": []
   },
   "outputs": [
    {
     "data": {
      "text/plain": [
       "array([0, 0, 0, ..., 0, 0, 0])"
      ]
     },
     "execution_count": 36,
     "metadata": {},
     "output_type": "execute_result"
    }
   ],
   "source": [
    "model.predict(X_test)"
   ]
  },
  {
   "cell_type": "markdown",
   "id": "3759920c",
   "metadata": {
    "papermill": {
     "duration": 0.034555,
     "end_time": "2025-08-19T18:44:39.710958",
     "exception": false,
     "start_time": "2025-08-19T18:44:39.676403",
     "status": "completed"
    },
    "tags": []
   },
   "source": [
    "# Conformal Prediction"
   ]
  },
  {
   "cell_type": "code",
   "execution_count": 37,
   "id": "14b27f59",
   "metadata": {
    "execution": {
     "iopub.execute_input": "2025-08-19T18:44:39.739439Z",
     "iopub.status.busy": "2025-08-19T18:44:39.738315Z",
     "iopub.status.idle": "2025-08-19T18:44:39.745583Z",
     "shell.execute_reply": "2025-08-19T18:44:39.744295Z"
    },
    "papermill": {
     "duration": 0.026374,
     "end_time": "2025-08-19T18:44:39.751615",
     "exception": false,
     "start_time": "2025-08-19T18:44:39.725241",
     "status": "completed"
    },
    "tags": []
   },
   "outputs": [],
   "source": [
    "# Miscoverage level for conformal prediction (10% allowed error rate => 90% target coverage)\n",
    "alpha = 0.1"
   ]
  },
  {
   "cell_type": "code",
   "execution_count": 38,
   "id": "59102472",
   "metadata": {
    "execution": {
     "iopub.execute_input": "2025-08-19T18:44:39.779674Z",
     "iopub.status.busy": "2025-08-19T18:44:39.778505Z",
     "iopub.status.idle": "2025-08-19T18:44:40.010239Z",
     "shell.execute_reply": "2025-08-19T18:44:40.009034Z"
    },
    "papermill": {
     "duration": 0.2473,
     "end_time": "2025-08-19T18:44:40.011967",
     "exception": false,
     "start_time": "2025-08-19T18:44:39.764667",
     "status": "completed"
    },
    "tags": []
   },
   "outputs": [],
   "source": [
    "probs_calib = model.predict_proba(X_calib)"
   ]
  },
  {
   "cell_type": "code",
   "execution_count": 39,
   "id": "a792d4dd",
   "metadata": {
    "execution": {
     "iopub.execute_input": "2025-08-19T18:44:40.037920Z",
     "iopub.status.busy": "2025-08-19T18:44:40.037344Z",
     "iopub.status.idle": "2025-08-19T18:44:40.044237Z",
     "shell.execute_reply": "2025-08-19T18:44:40.043282Z"
    },
    "papermill": {
     "duration": 0.02144,
     "end_time": "2025-08-19T18:44:40.045768",
     "exception": false,
     "start_time": "2025-08-19T18:44:40.024328",
     "status": "completed"
    },
    "tags": []
   },
   "outputs": [],
   "source": [
    "y_calib = y_calib.values.ravel().astype(int)"
   ]
  },
  {
   "cell_type": "code",
   "execution_count": 40,
   "id": "650fd033",
   "metadata": {
    "execution": {
     "iopub.execute_input": "2025-08-19T18:44:40.071959Z",
     "iopub.status.busy": "2025-08-19T18:44:40.070863Z",
     "iopub.status.idle": "2025-08-19T18:44:40.080682Z",
     "shell.execute_reply": "2025-08-19T18:44:40.079643Z"
    },
    "papermill": {
     "duration": 0.024113,
     "end_time": "2025-08-19T18:44:40.082012",
     "exception": false,
     "start_time": "2025-08-19T18:44:40.057899",
     "status": "completed"
    },
    "tags": []
   },
   "outputs": [],
   "source": [
    "from fairness_multiverse.conformal import compute_nc_scores\n",
    "\n",
    "# Compute nonconformity scores on calibration set (1 - probability of true class)\n",
    "nc_scores = compute_nc_scores(probs_calib, y_calib)"
   ]
  },
  {
   "cell_type": "code",
   "execution_count": 41,
   "id": "28ada44c",
   "metadata": {
    "execution": {
     "iopub.execute_input": "2025-08-19T18:44:40.110108Z",
     "iopub.status.busy": "2025-08-19T18:44:40.108943Z",
     "iopub.status.idle": "2025-08-19T18:44:40.119988Z",
     "shell.execute_reply": "2025-08-19T18:44:40.118797Z"
    },
    "papermill": {
     "duration": 0.030607,
     "end_time": "2025-08-19T18:44:40.126768",
     "exception": false,
     "start_time": "2025-08-19T18:44:40.096161",
     "status": "completed"
    },
    "tags": []
   },
   "outputs": [],
   "source": [
    "from fairness_multiverse.conformal import find_threshold\n",
    "\n",
    "# Find conformal threshold q_hat for the given alpha (split conformal method)\n",
    "q_hat = find_threshold(nc_scores, alpha)"
   ]
  },
  {
   "cell_type": "code",
   "execution_count": 42,
   "id": "df56469e",
   "metadata": {
    "execution": {
     "iopub.execute_input": "2025-08-19T18:44:40.156948Z",
     "iopub.status.busy": "2025-08-19T18:44:40.155671Z",
     "iopub.status.idle": "2025-08-19T18:44:40.163971Z",
     "shell.execute_reply": "2025-08-19T18:44:40.163029Z"
    },
    "papermill": {
     "duration": 0.022616,
     "end_time": "2025-08-19T18:44:40.165455",
     "exception": false,
     "start_time": "2025-08-19T18:44:40.142839",
     "status": "completed"
    },
    "tags": []
   },
   "outputs": [
    {
     "data": {
      "text/plain": [
       "0.6923700822381602"
      ]
     },
     "execution_count": 42,
     "metadata": {},
     "output_type": "execute_result"
    }
   ],
   "source": [
    "q_hat"
   ]
  },
  {
   "cell_type": "code",
   "execution_count": 43,
   "id": "aa1f5faa",
   "metadata": {
    "execution": {
     "iopub.execute_input": "2025-08-19T18:44:40.198714Z",
     "iopub.status.busy": "2025-08-19T18:44:40.197642Z",
     "iopub.status.idle": "2025-08-19T18:44:40.940951Z",
     "shell.execute_reply": "2025-08-19T18:44:40.939389Z"
    },
    "papermill": {
     "duration": 0.764345,
     "end_time": "2025-08-19T18:44:40.942944",
     "exception": false,
     "start_time": "2025-08-19T18:44:40.178599",
     "status": "completed"
    },
    "tags": []
   },
   "outputs": [],
   "source": [
    "from fairness_multiverse.conformal import predict_conformal_sets\n",
    "\n",
    "# Generate prediction sets for each test example\n",
    "pred_sets = predict_conformal_sets(model, X_test, q_hat)"
   ]
  },
  {
   "cell_type": "code",
   "execution_count": 44,
   "id": "97f67a6b",
   "metadata": {
    "execution": {
     "iopub.execute_input": "2025-08-19T18:44:40.972753Z",
     "iopub.status.busy": "2025-08-19T18:44:40.971809Z",
     "iopub.status.idle": "2025-08-19T18:44:40.982600Z",
     "shell.execute_reply": "2025-08-19T18:44:40.981482Z"
    },
    "papermill": {
     "duration": 0.027486,
     "end_time": "2025-08-19T18:44:40.984442",
     "exception": false,
     "start_time": "2025-08-19T18:44:40.956956",
     "status": "completed"
    },
    "tags": []
   },
   "outputs": [],
   "source": [
    "y_true = y_true.squeeze()"
   ]
  },
  {
   "cell_type": "code",
   "execution_count": 45,
   "id": "e700e9a7",
   "metadata": {
    "execution": {
     "iopub.execute_input": "2025-08-19T18:44:41.040516Z",
     "iopub.status.busy": "2025-08-19T18:44:41.039945Z",
     "iopub.status.idle": "2025-08-19T18:44:41.612531Z",
     "shell.execute_reply": "2025-08-19T18:44:41.610966Z"
    },
    "papermill": {
     "duration": 0.615049,
     "end_time": "2025-08-19T18:44:41.616058",
     "exception": false,
     "start_time": "2025-08-19T18:44:41.001009",
     "status": "completed"
    },
    "tags": []
   },
   "outputs": [],
   "source": [
    "from fairness_multiverse.conformal import evaluate_sets\n",
    "\n",
    "# Evaluate coverage and average set size on test data\n",
    "metrics = evaluate_sets(pred_sets, y_true)"
   ]
  },
  {
   "cell_type": "markdown",
   "id": "efbacec0",
   "metadata": {
    "papermill": {
     "duration": 0.013158,
     "end_time": "2025-08-19T18:44:41.660550",
     "exception": false,
     "start_time": "2025-08-19T18:44:41.647392",
     "status": "completed"
    },
    "tags": []
   },
   "source": [
    "# CP Metrics"
   ]
  },
  {
   "cell_type": "code",
   "execution_count": 46,
   "id": "9de55fb1",
   "metadata": {
    "execution": {
     "iopub.execute_input": "2025-08-19T18:44:41.690721Z",
     "iopub.status.busy": "2025-08-19T18:44:41.690263Z",
     "iopub.status.idle": "2025-08-19T18:44:41.712069Z",
     "shell.execute_reply": "2025-08-19T18:44:41.711188Z"
    },
    "papermill": {
     "duration": 0.040076,
     "end_time": "2025-08-19T18:44:41.713875",
     "exception": false,
     "start_time": "2025-08-19T18:44:41.673799",
     "status": "completed"
    },
    "tags": []
   },
   "outputs": [
    {
     "data": {
      "text/plain": [
       "{'coverage': 0.9102441199420355, 'avg_size': 1.1482889309998885}"
      ]
     },
     "execution_count": 46,
     "metadata": {},
     "output_type": "execute_result"
    }
   ],
   "source": [
    "metrics"
   ]
  },
  {
   "cell_type": "code",
   "execution_count": 47,
   "id": "64c340a1",
   "metadata": {
    "execution": {
     "iopub.execute_input": "2025-08-19T18:44:41.749764Z",
     "iopub.status.busy": "2025-08-19T18:44:41.749418Z",
     "iopub.status.idle": "2025-08-19T18:44:41.759940Z",
     "shell.execute_reply": "2025-08-19T18:44:41.755938Z"
    },
    "papermill": {
     "duration": 0.02926,
     "end_time": "2025-08-19T18:44:41.763541",
     "exception": false,
     "start_time": "2025-08-19T18:44:41.734281",
     "status": "completed"
    },
    "tags": []
   },
   "outputs": [],
   "source": [
    "example_universe = universe.copy()\n",
    "universe_training_year = example_universe.get(\"training_year\")\n",
    "universe_training_size = example_universe.get(\"training_size\")\n",
    "universe_scale = example_universe.get(\"scale\")\n",
    "universe_model = example_universe.get(\"model\")\n",
    "universe_exclude_features = example_universe.get(\"exclude_features\")\n",
    "universe_exclude_subgroups = example_universe.get(\"exclude_subgroups\")"
   ]
  },
  {
   "cell_type": "code",
   "execution_count": 48,
   "id": "dbb53cb4",
   "metadata": {
    "execution": {
     "iopub.execute_input": "2025-08-19T18:44:41.804441Z",
     "iopub.status.busy": "2025-08-19T18:44:41.803861Z",
     "iopub.status.idle": "2025-08-19T18:44:41.810592Z",
     "shell.execute_reply": "2025-08-19T18:44:41.809623Z"
    },
    "papermill": {
     "duration": 0.02291,
     "end_time": "2025-08-19T18:44:41.812263",
     "exception": false,
     "start_time": "2025-08-19T18:44:41.789353",
     "status": "completed"
    },
    "tags": []
   },
   "outputs": [],
   "source": [
    "cp_metrics_dict = {\n",
    "    \"universe_id\": [universe_id],\n",
    "    \"universe_training_year\": [universe_training_year],\n",
    "    \"universe_training_size\": [universe_training_size],\n",
    "    \"universe_scale\": [universe_scale],\n",
    "    \"universe_model\": [universe_model],\n",
    "    \"universe_exclude_features\": [universe_exclude_features],\n",
    "    \"universe_exclude_subgroups\": [universe_exclude_subgroups],\n",
    "    \"q_hat\": [q_hat],\n",
    "    \"coverage\": [metrics[\"coverage\"]],\n",
    "    \"avg_size\": [metrics[\"avg_size\"]],\n",
    "}"
   ]
  },
  {
   "cell_type": "code",
   "execution_count": 49,
   "id": "0d70d4b2",
   "metadata": {
    "execution": {
     "iopub.execute_input": "2025-08-19T18:44:41.839877Z",
     "iopub.status.busy": "2025-08-19T18:44:41.839380Z",
     "iopub.status.idle": "2025-08-19T18:44:41.846484Z",
     "shell.execute_reply": "2025-08-19T18:44:41.845583Z"
    },
    "papermill": {
     "duration": 0.021518,
     "end_time": "2025-08-19T18:44:41.847905",
     "exception": false,
     "start_time": "2025-08-19T18:44:41.826387",
     "status": "completed"
    },
    "tags": []
   },
   "outputs": [],
   "source": [
    "cp_metrics_df = pd.DataFrame(cp_metrics_dict)"
   ]
  },
  {
   "cell_type": "code",
   "execution_count": 50,
   "id": "b494403c",
   "metadata": {
    "execution": {
     "iopub.execute_input": "2025-08-19T18:44:41.876707Z",
     "iopub.status.busy": "2025-08-19T18:44:41.876145Z",
     "iopub.status.idle": "2025-08-19T18:44:41.892022Z",
     "shell.execute_reply": "2025-08-19T18:44:41.891027Z"
    },
    "papermill": {
     "duration": 0.031088,
     "end_time": "2025-08-19T18:44:41.894136",
     "exception": false,
     "start_time": "2025-08-19T18:44:41.863048",
     "status": "completed"
    },
    "tags": []
   },
   "outputs": [
    {
     "data": {
      "text/html": [
       "<div>\n",
       "<style scoped>\n",
       "    .dataframe tbody tr th:only-of-type {\n",
       "        vertical-align: middle;\n",
       "    }\n",
       "\n",
       "    .dataframe tbody tr th {\n",
       "        vertical-align: top;\n",
       "    }\n",
       "\n",
       "    .dataframe thead th {\n",
       "        text-align: right;\n",
       "    }\n",
       "</style>\n",
       "<table border=\"1\" class=\"dataframe\">\n",
       "  <thead>\n",
       "    <tr style=\"text-align: right;\">\n",
       "      <th></th>\n",
       "      <th>universe_id</th>\n",
       "      <th>universe_training_year</th>\n",
       "      <th>universe_training_size</th>\n",
       "      <th>universe_scale</th>\n",
       "      <th>universe_model</th>\n",
       "      <th>universe_exclude_features</th>\n",
       "      <th>universe_exclude_subgroups</th>\n",
       "      <th>q_hat</th>\n",
       "      <th>coverage</th>\n",
       "      <th>avg_size</th>\n",
       "    </tr>\n",
       "  </thead>\n",
       "  <tbody>\n",
       "    <tr>\n",
       "      <th>0</th>\n",
       "      <td>064ad2a4fafecedfb5ce6b011e980f60</td>\n",
       "      <td>2010_14</td>\n",
       "      <td>5k</td>\n",
       "      <td>scale</td>\n",
       "      <td>elasticnet</td>\n",
       "      <td>age</td>\n",
       "      <td>drop-non-german</td>\n",
       "      <td>0.69237</td>\n",
       "      <td>0.910244</td>\n",
       "      <td>1.148289</td>\n",
       "    </tr>\n",
       "  </tbody>\n",
       "</table>\n",
       "</div>"
      ],
      "text/plain": [
       "                        universe_id universe_training_year  \\\n",
       "0  064ad2a4fafecedfb5ce6b011e980f60                2010_14   \n",
       "\n",
       "  universe_training_size universe_scale universe_model  \\\n",
       "0                     5k          scale     elasticnet   \n",
       "\n",
       "  universe_exclude_features universe_exclude_subgroups    q_hat  coverage  \\\n",
       "0                       age            drop-non-german  0.69237  0.910244   \n",
       "\n",
       "   avg_size  \n",
       "0  1.148289  "
      ]
     },
     "execution_count": 50,
     "metadata": {},
     "output_type": "execute_result"
    }
   ],
   "source": [
    "cp_metrics_df"
   ]
  },
  {
   "cell_type": "markdown",
   "id": "ed608b0b",
   "metadata": {
    "papermill": {
     "duration": 0.040887,
     "end_time": "2025-08-19T18:44:41.956508",
     "exception": false,
     "start_time": "2025-08-19T18:44:41.915621",
     "status": "completed"
    },
    "tags": []
   },
   "source": [
    "Conditional coverage & looking at subgroups"
   ]
  },
  {
   "cell_type": "code",
   "execution_count": 51,
   "id": "8968c366",
   "metadata": {
    "execution": {
     "iopub.execute_input": "2025-08-19T18:44:41.983586Z",
     "iopub.status.busy": "2025-08-19T18:44:41.982141Z",
     "iopub.status.idle": "2025-08-19T18:44:42.323591Z",
     "shell.execute_reply": "2025-08-19T18:44:42.322383Z"
    },
    "papermill": {
     "duration": 0.357085,
     "end_time": "2025-08-19T18:44:42.325698",
     "exception": false,
     "start_time": "2025-08-19T18:44:41.968613",
     "status": "completed"
    },
    "tags": []
   },
   "outputs": [],
   "source": [
    "from fairness_multiverse.conformal import build_cp_groups\n",
    "\n",
    "cp_groups_df = build_cp_groups(pred_sets, y_true, X_test.index, org_test)"
   ]
  },
  {
   "cell_type": "code",
   "execution_count": 52,
   "id": "292ddabf",
   "metadata": {
    "execution": {
     "iopub.execute_input": "2025-08-19T18:44:42.354338Z",
     "iopub.status.busy": "2025-08-19T18:44:42.353235Z",
     "iopub.status.idle": "2025-08-19T18:44:43.243518Z",
     "shell.execute_reply": "2025-08-19T18:44:43.242125Z"
    },
    "papermill": {
     "duration": 0.906509,
     "end_time": "2025-08-19T18:44:43.245378",
     "exception": false,
     "start_time": "2025-08-19T18:44:42.338869",
     "status": "completed"
    },
    "tags": []
   },
   "outputs": [],
   "source": [
    "# Define covered = 1 if true_label is in the predicted set\n",
    "cp_groups_df['covered'] = cp_groups_df.apply(\n",
    "    lambda r: int(r['true_label'] in r['pred_set']),\n",
    "    axis=1\n",
    ")"
   ]
  },
  {
   "cell_type": "code",
   "execution_count": 53,
   "id": "3a261692",
   "metadata": {
    "execution": {
     "iopub.execute_input": "2025-08-19T18:44:43.310270Z",
     "iopub.status.busy": "2025-08-19T18:44:43.306985Z",
     "iopub.status.idle": "2025-08-19T18:44:43.336362Z",
     "shell.execute_reply": "2025-08-19T18:44:43.335423Z"
    },
    "papermill": {
     "duration": 0.069234,
     "end_time": "2025-08-19T18:44:43.338796",
     "exception": false,
     "start_time": "2025-08-19T18:44:43.269562",
     "status": "completed"
    },
    "tags": []
   },
   "outputs": [],
   "source": [
    "subgroups = ['frau1','nongerman','nongerman_male','nongerman_female']\n",
    "\n",
    "# Conditional coverage for subgroup==1\n",
    "cond_coverage = {\n",
    "    g: cp_groups_df.loc[cp_groups_df[g]==1, 'covered'].mean()\n",
    "    for g in subgroups\n",
    "}"
   ]
  },
  {
   "cell_type": "code",
   "execution_count": 54,
   "id": "894fd600",
   "metadata": {
    "execution": {
     "iopub.execute_input": "2025-08-19T18:44:43.390073Z",
     "iopub.status.busy": "2025-08-19T18:44:43.389624Z",
     "iopub.status.idle": "2025-08-19T18:44:43.397153Z",
     "shell.execute_reply": "2025-08-19T18:44:43.396333Z"
    },
    "papermill": {
     "duration": 0.025189,
     "end_time": "2025-08-19T18:44:43.398581",
     "exception": false,
     "start_time": "2025-08-19T18:44:43.373392",
     "status": "completed"
    },
    "tags": []
   },
   "outputs": [
    {
     "data": {
      "text/plain": [
       "{'frau1': 0.9073729613155411,\n",
       " 'nongerman': 0.9079885476898895,\n",
       " 'nongerman_male': 0.924795100423309,\n",
       " 'nongerman_female': 0.8801788375558868}"
      ]
     },
     "execution_count": 54,
     "metadata": {},
     "output_type": "execute_result"
    }
   ],
   "source": [
    "cond_coverage"
   ]
  },
  {
   "cell_type": "code",
   "execution_count": 55,
   "id": "942895c7",
   "metadata": {
    "execution": {
     "iopub.execute_input": "2025-08-19T18:44:43.427810Z",
     "iopub.status.busy": "2025-08-19T18:44:43.426644Z",
     "iopub.status.idle": "2025-08-19T18:44:43.492399Z",
     "shell.execute_reply": "2025-08-19T18:44:43.491110Z"
    },
    "papermill": {
     "duration": 0.082383,
     "end_time": "2025-08-19T18:44:43.495194",
     "exception": false,
     "start_time": "2025-08-19T18:44:43.412811",
     "status": "completed"
    },
    "tags": []
   },
   "outputs": [],
   "source": [
    "for subgroup, cov in cond_coverage.items():\n",
    "    cp_metrics_df[f\"cov_{subgroup}\"] = cov"
   ]
  },
  {
   "cell_type": "code",
   "execution_count": 56,
   "id": "3970120f",
   "metadata": {
    "execution": {
     "iopub.execute_input": "2025-08-19T18:44:43.537992Z",
     "iopub.status.busy": "2025-08-19T18:44:43.537576Z",
     "iopub.status.idle": "2025-08-19T18:44:43.553721Z",
     "shell.execute_reply": "2025-08-19T18:44:43.552864Z"
    },
    "papermill": {
     "duration": 0.032433,
     "end_time": "2025-08-19T18:44:43.555102",
     "exception": false,
     "start_time": "2025-08-19T18:44:43.522669",
     "status": "completed"
    },
    "tags": []
   },
   "outputs": [
    {
     "data": {
      "text/html": [
       "<div>\n",
       "<style scoped>\n",
       "    .dataframe tbody tr th:only-of-type {\n",
       "        vertical-align: middle;\n",
       "    }\n",
       "\n",
       "    .dataframe tbody tr th {\n",
       "        vertical-align: top;\n",
       "    }\n",
       "\n",
       "    .dataframe thead th {\n",
       "        text-align: right;\n",
       "    }\n",
       "</style>\n",
       "<table border=\"1\" class=\"dataframe\">\n",
       "  <thead>\n",
       "    <tr style=\"text-align: right;\">\n",
       "      <th></th>\n",
       "      <th>universe_id</th>\n",
       "      <th>universe_training_year</th>\n",
       "      <th>universe_training_size</th>\n",
       "      <th>universe_scale</th>\n",
       "      <th>universe_model</th>\n",
       "      <th>universe_exclude_features</th>\n",
       "      <th>universe_exclude_subgroups</th>\n",
       "      <th>q_hat</th>\n",
       "      <th>coverage</th>\n",
       "      <th>avg_size</th>\n",
       "      <th>cov_frau1</th>\n",
       "      <th>cov_nongerman</th>\n",
       "      <th>cov_nongerman_male</th>\n",
       "      <th>cov_nongerman_female</th>\n",
       "    </tr>\n",
       "  </thead>\n",
       "  <tbody>\n",
       "    <tr>\n",
       "      <th>0</th>\n",
       "      <td>064ad2a4fafecedfb5ce6b011e980f60</td>\n",
       "      <td>2010_14</td>\n",
       "      <td>5k</td>\n",
       "      <td>scale</td>\n",
       "      <td>elasticnet</td>\n",
       "      <td>age</td>\n",
       "      <td>drop-non-german</td>\n",
       "      <td>0.69237</td>\n",
       "      <td>0.910244</td>\n",
       "      <td>1.148289</td>\n",
       "      <td>0.907373</td>\n",
       "      <td>0.907989</td>\n",
       "      <td>0.924795</td>\n",
       "      <td>0.880179</td>\n",
       "    </tr>\n",
       "  </tbody>\n",
       "</table>\n",
       "</div>"
      ],
      "text/plain": [
       "                        universe_id universe_training_year  \\\n",
       "0  064ad2a4fafecedfb5ce6b011e980f60                2010_14   \n",
       "\n",
       "  universe_training_size universe_scale universe_model  \\\n",
       "0                     5k          scale     elasticnet   \n",
       "\n",
       "  universe_exclude_features universe_exclude_subgroups    q_hat  coverage  \\\n",
       "0                       age            drop-non-german  0.69237  0.910244   \n",
       "\n",
       "   avg_size  cov_frau1  cov_nongerman  cov_nongerman_male  \\\n",
       "0  1.148289   0.907373       0.907989            0.924795   \n",
       "\n",
       "   cov_nongerman_female  \n",
       "0              0.880179  "
      ]
     },
     "execution_count": 56,
     "metadata": {},
     "output_type": "execute_result"
    }
   ],
   "source": [
    "cp_metrics_df"
   ]
  },
  {
   "cell_type": "markdown",
   "id": "3fc519cc",
   "metadata": {
    "papermill": {
     "duration": 0.021475,
     "end_time": "2025-08-19T18:44:43.593763",
     "exception": false,
     "start_time": "2025-08-19T18:44:43.572288",
     "status": "completed"
    },
    "tags": []
   },
   "source": [
    "# (Fairness) Metrics"
   ]
  },
  {
   "cell_type": "code",
   "execution_count": 57,
   "id": "a2e5e155",
   "metadata": {
    "execution": {
     "iopub.execute_input": "2025-08-19T18:44:43.621948Z",
     "iopub.status.busy": "2025-08-19T18:44:43.621622Z",
     "iopub.status.idle": "2025-08-19T18:44:43.637493Z",
     "shell.execute_reply": "2025-08-19T18:44:43.636627Z"
    },
    "papermill": {
     "duration": 0.032257,
     "end_time": "2025-08-19T18:44:43.639297",
     "exception": false,
     "start_time": "2025-08-19T18:44:43.607040",
     "status": "completed"
    },
    "tags": []
   },
   "outputs": [],
   "source": [
    "colname_to_bin = \"maxdeutsch1\"\n",
    "majority_value = org_train[colname_to_bin].mode()[0]\n",
    "\n",
    "org_test[\"majmin\"] = np.where(org_test[colname_to_bin] == majority_value, \"majority\", \"minority\")"
   ]
  },
  {
   "cell_type": "code",
   "execution_count": 58,
   "id": "17e3e4d5",
   "metadata": {
    "execution": {
     "iopub.execute_input": "2025-08-19T18:44:43.670883Z",
     "iopub.status.busy": "2025-08-19T18:44:43.669903Z",
     "iopub.status.idle": "2025-08-19T18:44:45.449475Z",
     "shell.execute_reply": "2025-08-19T18:44:45.447689Z"
    },
    "papermill": {
     "duration": 1.796013,
     "end_time": "2025-08-19T18:44:45.451587",
     "exception": false,
     "start_time": "2025-08-19T18:44:43.655574",
     "status": "completed"
    },
    "tags": []
   },
   "outputs": [],
   "source": [
    "example_universe = universe.copy()\n",
    "example_universe[\"cutoff\"] = example_universe[\"cutoff\"][0]\n",
    "example_universe[\"eval_fairness_grouping\"] = example_universe[\"eval_fairness_grouping\"][0]\n",
    "fairness_dict, metric_frame = universe_analysis.compute_metrics(\n",
    "    example_universe,\n",
    "    y_pred_prob=probs_test,\n",
    "    y_test=y_true,\n",
    "    org_test=org_test,\n",
    ")"
   ]
  },
  {
   "cell_type": "markdown",
   "id": "1fb7a0e9",
   "metadata": {
    "papermill": {
     "duration": 0.016561,
     "end_time": "2025-08-19T18:44:45.493850",
     "exception": false,
     "start_time": "2025-08-19T18:44:45.477289",
     "status": "completed"
    },
    "tags": []
   },
   "source": [
    "# Overall"
   ]
  },
  {
   "cell_type": "markdown",
   "id": "be1784b1",
   "metadata": {
    "papermill": {
     "duration": 0.013812,
     "end_time": "2025-08-19T18:44:45.534873",
     "exception": false,
     "start_time": "2025-08-19T18:44:45.521061",
     "status": "completed"
    },
    "tags": []
   },
   "source": [
    "Main fairness target: Equalized Odds. Seems to be a better fit than equal opportunity, since we're not only interested in Y = 1. Seems to be a better fit than demographic parity, since we also care about accuracy, not just equal distribution of preds.\n",
    "\n",
    "Pick column for computation of fairness metrics\n",
    "\n",
    "Performance\n",
    "Overall performance measures, most interesting in relation to the measures split by group below"
   ]
  },
  {
   "cell_type": "code",
   "execution_count": 59,
   "id": "b7672bee",
   "metadata": {
    "execution": {
     "iopub.execute_input": "2025-08-19T18:44:45.565894Z",
     "iopub.status.busy": "2025-08-19T18:44:45.565427Z",
     "iopub.status.idle": "2025-08-19T18:44:45.576305Z",
     "shell.execute_reply": "2025-08-19T18:44:45.574924Z"
    },
    "papermill": {
     "duration": 0.029433,
     "end_time": "2025-08-19T18:44:45.577969",
     "exception": false,
     "start_time": "2025-08-19T18:44:45.548536",
     "status": "completed"
    },
    "tags": []
   },
   "outputs": [
    {
     "data": {
      "text/plain": [
       "accuracy                   0.222974\n",
       "balanced accuracy          0.545496\n",
       "f1                         0.244344\n",
       "precision                  0.139586\n",
       "false positive rate        0.888328\n",
       "false negative rate        0.020681\n",
       "selection rate             0.900000\n",
       "count                  89710.000000\n",
       "dtype: float64"
      ]
     },
     "execution_count": 59,
     "metadata": {},
     "output_type": "execute_result"
    }
   ],
   "source": [
    "metric_frame.overall"
   ]
  },
  {
   "cell_type": "markdown",
   "id": "d93333c9",
   "metadata": {
    "papermill": {
     "duration": 0.012401,
     "end_time": "2025-08-19T18:44:45.606023",
     "exception": false,
     "start_time": "2025-08-19T18:44:45.593622",
     "status": "completed"
    },
    "tags": []
   },
   "source": [
    "By Group"
   ]
  },
  {
   "cell_type": "code",
   "execution_count": 60,
   "id": "52256966",
   "metadata": {
    "execution": {
     "iopub.execute_input": "2025-08-19T18:44:45.633919Z",
     "iopub.status.busy": "2025-08-19T18:44:45.632381Z",
     "iopub.status.idle": "2025-08-19T18:44:45.655471Z",
     "shell.execute_reply": "2025-08-19T18:44:45.654337Z"
    },
    "papermill": {
     "duration": 0.038857,
     "end_time": "2025-08-19T18:44:45.657304",
     "exception": false,
     "start_time": "2025-08-19T18:44:45.618447",
     "status": "completed"
    },
    "tags": []
   },
   "outputs": [
    {
     "data": {
      "text/html": [
       "<div>\n",
       "<style scoped>\n",
       "    .dataframe tbody tr th:only-of-type {\n",
       "        vertical-align: middle;\n",
       "    }\n",
       "\n",
       "    .dataframe tbody tr th {\n",
       "        vertical-align: top;\n",
       "    }\n",
       "\n",
       "    .dataframe thead th {\n",
       "        text-align: right;\n",
       "    }\n",
       "</style>\n",
       "<table border=\"1\" class=\"dataframe\">\n",
       "  <thead>\n",
       "    <tr style=\"text-align: right;\">\n",
       "      <th></th>\n",
       "      <th>accuracy</th>\n",
       "      <th>balanced accuracy</th>\n",
       "      <th>f1</th>\n",
       "      <th>precision</th>\n",
       "      <th>false positive rate</th>\n",
       "      <th>false negative rate</th>\n",
       "      <th>selection rate</th>\n",
       "      <th>count</th>\n",
       "    </tr>\n",
       "    <tr>\n",
       "      <th>majmin</th>\n",
       "      <th></th>\n",
       "      <th></th>\n",
       "      <th></th>\n",
       "      <th></th>\n",
       "      <th></th>\n",
       "      <th></th>\n",
       "      <th></th>\n",
       "      <th></th>\n",
       "    </tr>\n",
       "  </thead>\n",
       "  <tbody>\n",
       "    <tr>\n",
       "      <th>majority</th>\n",
       "      <td>0.242070</td>\n",
       "      <td>0.553782</td>\n",
       "      <td>0.254190</td>\n",
       "      <td>0.146090</td>\n",
       "      <td>0.869898</td>\n",
       "      <td>0.022538</td>\n",
       "      <td>0.884112</td>\n",
       "      <td>69170.0</td>\n",
       "    </tr>\n",
       "    <tr>\n",
       "      <th>minority</th>\n",
       "      <td>0.158666</td>\n",
       "      <td>0.518639</td>\n",
       "      <td>0.212818</td>\n",
       "      <td>0.119275</td>\n",
       "      <td>0.949208</td>\n",
       "      <td>0.013514</td>\n",
       "      <td>0.953505</td>\n",
       "      <td>20540.0</td>\n",
       "    </tr>\n",
       "  </tbody>\n",
       "</table>\n",
       "</div>"
      ],
      "text/plain": [
       "          accuracy  balanced accuracy        f1  precision  \\\n",
       "majmin                                                       \n",
       "majority  0.242070           0.553782  0.254190   0.146090   \n",
       "minority  0.158666           0.518639  0.212818   0.119275   \n",
       "\n",
       "          false positive rate  false negative rate  selection rate    count  \n",
       "majmin                                                                       \n",
       "majority             0.869898             0.022538        0.884112  69170.0  \n",
       "minority             0.949208             0.013514        0.953505  20540.0  "
      ]
     },
     "execution_count": 60,
     "metadata": {},
     "output_type": "execute_result"
    }
   ],
   "source": [
    "metric_frame.by_group"
   ]
  },
  {
   "cell_type": "code",
   "execution_count": 61,
   "id": "6e6c20ae",
   "metadata": {
    "execution": {
     "iopub.execute_input": "2025-08-19T18:44:45.698136Z",
     "iopub.status.busy": "2025-08-19T18:44:45.696737Z",
     "iopub.status.idle": "2025-08-19T18:44:47.515835Z",
     "shell.execute_reply": "2025-08-19T18:44:47.514556Z"
    },
    "papermill": {
     "duration": 1.835715,
     "end_time": "2025-08-19T18:44:47.517197",
     "exception": false,
     "start_time": "2025-08-19T18:44:45.681482",
     "status": "completed"
    },
    "tags": []
   },
   "outputs": [
    {
     "data": {
      "text/plain": [
       "array([[<Axes: title={'center': 'accuracy'}, xlabel='majmin'>,\n",
       "        <Axes: title={'center': 'balanced accuracy'}, xlabel='majmin'>,\n",
       "        <Axes: title={'center': 'f1'}, xlabel='majmin'>],\n",
       "       [<Axes: title={'center': 'precision'}, xlabel='majmin'>,\n",
       "        <Axes: title={'center': 'false positive rate'}, xlabel='majmin'>,\n",
       "        <Axes: title={'center': 'false negative rate'}, xlabel='majmin'>],\n",
       "       [<Axes: title={'center': 'selection rate'}, xlabel='majmin'>,\n",
       "        <Axes: title={'center': 'count'}, xlabel='majmin'>,\n",
       "        <Axes: xlabel='majmin'>]], dtype=object)"
      ]
     },
     "execution_count": 61,
     "metadata": {},
     "output_type": "execute_result"
    },
    {
     "data": {
      "image/png": "[encoded data removed]",
      "text/plain": [
       "<Figure size 1200x800 with 9 Axes>"
      ]
     },
     "metadata": {},
     "output_type": "display_data"
    }
   ],
   "source": [
    "# In a graphic\n",
    "metric_frame.by_group.plot.bar(\n",
    "    subplots=True,\n",
    "    layout=[3, 3],\n",
    "    legend=False,\n",
    "    figsize=[12, 8],\n",
    "    title=\"Show all metrics\",\n",
    ")"
   ]
  },
  {
   "cell_type": "markdown",
   "id": "b2e433ae",
   "metadata": {
    "papermill": {
     "duration": 0.031,
     "end_time": "2025-08-19T18:44:47.584849",
     "exception": false,
     "start_time": "2025-08-19T18:44:47.553849",
     "status": "completed"
    },
    "tags": []
   },
   "source": [
    "# Final Output"
   ]
  },
  {
   "cell_type": "code",
   "execution_count": 62,
   "id": "3871301e",
   "metadata": {
    "execution": {
     "iopub.execute_input": "2025-08-19T18:44:47.620739Z",
     "iopub.status.busy": "2025-08-19T18:44:47.619767Z",
     "iopub.status.idle": "2025-08-19T18:44:47.629395Z",
     "shell.execute_reply": "2025-08-19T18:44:47.628687Z"
    },
    "papermill": {
     "duration": 0.027185,
     "end_time": "2025-08-19T18:44:47.631427",
     "exception": false,
     "start_time": "2025-08-19T18:44:47.604242",
     "status": "completed"
    },
    "tags": []
   },
   "outputs": [
    {
     "data": {
      "text/plain": [
       "4"
      ]
     },
     "execution_count": 62,
     "metadata": {},
     "output_type": "execute_result"
    }
   ],
   "source": [
    "sub_universes = universe_analysis.generate_sub_universes()\n",
    "len(sub_universes)"
   ]
  },
  {
   "cell_type": "code",
   "execution_count": 63,
   "id": "d9cfdaca",
   "metadata": {
    "execution": {
     "iopub.execute_input": "2025-08-19T18:44:47.661680Z",
     "iopub.status.busy": "2025-08-19T18:44:47.661292Z",
     "iopub.status.idle": "2025-08-19T18:44:47.674875Z",
     "shell.execute_reply": "2025-08-19T18:44:47.674207Z"
    },
    "papermill": {
     "duration": 0.030048,
     "end_time": "2025-08-19T18:44:47.676322",
     "exception": false,
     "start_time": "2025-08-19T18:44:47.646274",
     "status": "completed"
    },
    "tags": []
   },
   "outputs": [],
   "source": [
    "def filter_sub_universe_data(sub_universe, org_test):\n",
    "    # Keep all rows — no filtering\n",
    "    keep_rows_mask = np.ones(org_test.shape[0], dtype=bool)\n",
    "\n",
    "    print(f\"[INFO] Keeping all rows: {keep_rows_mask.sum()} rows retained.\")\n",
    "    return keep_rows_mask"
   ]
  },
  {
   "cell_type": "code",
   "execution_count": 64,
   "id": "2bc31ac1",
   "metadata": {
    "execution": {
     "iopub.execute_input": "2025-08-19T18:44:47.709515Z",
     "iopub.status.busy": "2025-08-19T18:44:47.709099Z",
     "iopub.status.idle": "2025-08-19T18:44:54.733023Z",
     "shell.execute_reply": "2025-08-19T18:44:54.731537Z"
    },
    "papermill": {
     "duration": 7.041864,
     "end_time": "2025-08-19T18:44:54.735712",
     "exception": false,
     "start_time": "2025-08-19T18:44:47.693848",
     "status": "completed"
    },
    "tags": []
   },
   "outputs": [
    {
     "name": "stdout",
     "output_type": "stream",
     "text": [
      "Stopping execution_time clock.\n",
      "[INFO] Keeping all rows: 89710 rows retained.\n"
     ]
    },
    {
     "name": "stdout",
     "output_type": "stream",
     "text": [
      "[INFO] Keeping all rows: 89710 rows retained.\n"
     ]
    },
    {
     "name": "stdout",
     "output_type": "stream",
     "text": [
      "[INFO] Keeping all rows: 89710 rows retained.\n"
     ]
    },
    {
     "name": "stdout",
     "output_type": "stream",
     "text": [
      "[INFO] Keeping all rows: 89710 rows retained.\n"
     ]
    },
    {
     "data": {
      "text/html": [
       "<div>\n",
       "<style scoped>\n",
       "    .dataframe tbody tr th:only-of-type {\n",
       "        vertical-align: middle;\n",
       "    }\n",
       "\n",
       "    .dataframe tbody tr th {\n",
       "        vertical-align: top;\n",
       "    }\n",
       "\n",
       "    .dataframe thead th {\n",
       "        text-align: right;\n",
       "    }\n",
       "</style>\n",
       "<table border=\"1\" class=\"dataframe\">\n",
       "  <thead>\n",
       "    <tr style=\"text-align: right;\">\n",
       "      <th></th>\n",
       "      <th>run_no</th>\n",
       "      <th>universe_id</th>\n",
       "      <th>universe_settings</th>\n",
       "      <th>execution_time</th>\n",
       "      <th>test_size_n</th>\n",
       "      <th>test_size_frac</th>\n",
       "      <th>fair_main_equalized_odds_difference</th>\n",
       "      <th>fair_main_equalized_odds_ratio</th>\n",
       "      <th>fair_main_demographic_parity_difference</th>\n",
       "      <th>fair_main_demographic_parity_ratio</th>\n",
       "      <th>...</th>\n",
       "      <th>perf_grp_precision_0</th>\n",
       "      <th>perf_grp_precision_1</th>\n",
       "      <th>perf_grp_false positive rate_0</th>\n",
       "      <th>perf_grp_false positive rate_1</th>\n",
       "      <th>perf_grp_false negative rate_0</th>\n",
       "      <th>perf_grp_false negative rate_1</th>\n",
       "      <th>perf_grp_selection rate_0</th>\n",
       "      <th>perf_grp_selection rate_1</th>\n",
       "      <th>perf_grp_count_0</th>\n",
       "      <th>perf_grp_count_1</th>\n",
       "    </tr>\n",
       "  </thead>\n",
       "  <tbody>\n",
       "    <tr>\n",
       "      <th>0</th>\n",
       "      <td>3</td>\n",
       "      <td>064ad2a4fafecedfb5ce6b011e980f60</td>\n",
       "      <td>{\"cutoff\": \"quantile_0.1\", \"eval_fairness_grou...</td>\n",
       "      <td>23.845189</td>\n",
       "      <td>89710</td>\n",
       "      <td>1.0</td>\n",
       "      <td>0.079309</td>\n",
       "      <td>0.916447</td>\n",
       "      <td>0.069394</td>\n",
       "      <td>0.927222</td>\n",
       "      <td>...</td>\n",
       "      <td>NaN</td>\n",
       "      <td>NaN</td>\n",
       "      <td>NaN</td>\n",
       "      <td>NaN</td>\n",
       "      <td>NaN</td>\n",
       "      <td>NaN</td>\n",
       "      <td>NaN</td>\n",
       "      <td>NaN</td>\n",
       "      <td>NaN</td>\n",
       "      <td>NaN</td>\n",
       "    </tr>\n",
       "    <tr>\n",
       "      <th>0</th>\n",
       "      <td>3</td>\n",
       "      <td>064ad2a4fafecedfb5ce6b011e980f60</td>\n",
       "      <td>{\"cutoff\": \"quantile_0.1\", \"eval_fairness_grou...</td>\n",
       "      <td>23.845189</td>\n",
       "      <td>89710</td>\n",
       "      <td>1.0</td>\n",
       "      <td>0.079309</td>\n",
       "      <td>0.916447</td>\n",
       "      <td>0.069394</td>\n",
       "      <td>0.927222</td>\n",
       "      <td>...</td>\n",
       "      <td>0.119275</td>\n",
       "      <td>0.146090</td>\n",
       "      <td>0.949208</td>\n",
       "      <td>0.869898</td>\n",
       "      <td>0.013514</td>\n",
       "      <td>0.022538</td>\n",
       "      <td>0.953505</td>\n",
       "      <td>0.884112</td>\n",
       "      <td>20540.0</td>\n",
       "      <td>69170.0</td>\n",
       "    </tr>\n",
       "    <tr>\n",
       "      <th>0</th>\n",
       "      <td>3</td>\n",
       "      <td>064ad2a4fafecedfb5ce6b011e980f60</td>\n",
       "      <td>{\"cutoff\": \"quantile_0.25\", \"eval_fairness_gro...</td>\n",
       "      <td>23.845189</td>\n",
       "      <td>89710</td>\n",
       "      <td>1.0</td>\n",
       "      <td>0.171872</td>\n",
       "      <td>0.799108</td>\n",
       "      <td>0.150413</td>\n",
       "      <td>0.826307</td>\n",
       "      <td>...</td>\n",
       "      <td>NaN</td>\n",
       "      <td>NaN</td>\n",
       "      <td>NaN</td>\n",
       "      <td>NaN</td>\n",
       "      <td>NaN</td>\n",
       "      <td>NaN</td>\n",
       "      <td>NaN</td>\n",
       "      <td>NaN</td>\n",
       "      <td>NaN</td>\n",
       "      <td>NaN</td>\n",
       "    </tr>\n",
       "    <tr>\n",
       "      <th>0</th>\n",
       "      <td>3</td>\n",
       "      <td>064ad2a4fafecedfb5ce6b011e980f60</td>\n",
       "      <td>{\"cutoff\": \"quantile_0.25\", \"eval_fairness_gro...</td>\n",
       "      <td>23.845189</td>\n",
       "      <td>89710</td>\n",
       "      <td>1.0</td>\n",
       "      <td>0.171872</td>\n",
       "      <td>0.799108</td>\n",
       "      <td>0.150413</td>\n",
       "      <td>0.826307</td>\n",
       "      <td>...</td>\n",
       "      <td>0.125935</td>\n",
       "      <td>0.170805</td>\n",
       "      <td>0.855547</td>\n",
       "      <td>0.683675</td>\n",
       "      <td>0.054054</td>\n",
       "      <td>0.075055</td>\n",
       "      <td>0.865969</td>\n",
       "      <td>0.715556</td>\n",
       "      <td>20540.0</td>\n",
       "      <td>69170.0</td>\n",
       "    </tr>\n",
       "  </tbody>\n",
       "</table>\n",
       "<p>4 rows × 50 columns</p>\n",
       "</div>"
      ],
      "text/plain": [
       "  run_no                       universe_id  \\\n",
       "0      3  064ad2a4fafecedfb5ce6b011e980f60   \n",
       "0      3  064ad2a4fafecedfb5ce6b011e980f60   \n",
       "0      3  064ad2a4fafecedfb5ce6b011e980f60   \n",
       "0      3  064ad2a4fafecedfb5ce6b011e980f60   \n",
       "\n",
       "                                   universe_settings  execution_time  \\\n",
       "0  {\"cutoff\": \"quantile_0.1\", \"eval_fairness_grou...       23.845189   \n",
       "0  {\"cutoff\": \"quantile_0.1\", \"eval_fairness_grou...       23.845189   \n",
       "0  {\"cutoff\": \"quantile_0.25\", \"eval_fairness_gro...       23.845189   \n",
       "0  {\"cutoff\": \"quantile_0.25\", \"eval_fairness_gro...       23.845189   \n",
       "\n",
       "   test_size_n  test_size_frac  fair_main_equalized_odds_difference  \\\n",
       "0        89710             1.0                             0.079309   \n",
       "0        89710             1.0                             0.079309   \n",
       "0        89710             1.0                             0.171872   \n",
       "0        89710             1.0                             0.171872   \n",
       "\n",
       "   fair_main_equalized_odds_ratio  fair_main_demographic_parity_difference  \\\n",
       "0                        0.916447                                 0.069394   \n",
       "0                        0.916447                                 0.069394   \n",
       "0                        0.799108                                 0.150413   \n",
       "0                        0.799108                                 0.150413   \n",
       "\n",
       "   fair_main_demographic_parity_ratio  ...  perf_grp_precision_0  \\\n",
       "0                            0.927222  ...                   NaN   \n",
       "0                            0.927222  ...              0.119275   \n",
       "0                            0.826307  ...                   NaN   \n",
       "0                            0.826307  ...              0.125935   \n",
       "\n",
       "   perf_grp_precision_1  perf_grp_false positive rate_0  \\\n",
       "0                   NaN                             NaN   \n",
       "0              0.146090                        0.949208   \n",
       "0                   NaN                             NaN   \n",
       "0              0.170805                        0.855547   \n",
       "\n",
       "   perf_grp_false positive rate_1  perf_grp_false negative rate_0  \\\n",
       "0                             NaN                             NaN   \n",
       "0                        0.869898                        0.013514   \n",
       "0                             NaN                             NaN   \n",
       "0                        0.683675                        0.054054   \n",
       "\n",
       "   perf_grp_false negative rate_1  perf_grp_selection rate_0  \\\n",
       "0                             NaN                        NaN   \n",
       "0                        0.022538                   0.953505   \n",
       "0                             NaN                        NaN   \n",
       "0                        0.075055                   0.865969   \n",
       "\n",
       "   perf_grp_selection rate_1  perf_grp_count_0  perf_grp_count_1  \n",
       "0                        NaN               NaN               NaN  \n",
       "0                   0.884112           20540.0           69170.0  \n",
       "0                        NaN               NaN               NaN  \n",
       "0                   0.715556           20540.0           69170.0  \n",
       "\n",
       "[4 rows x 50 columns]"
      ]
     },
     "execution_count": 64,
     "metadata": {},
     "output_type": "execute_result"
    }
   ],
   "source": [
    "final_output = universe_analysis.generate_final_output(\n",
    "    y_pred_prob=probs_test,\n",
    "    y_test=y_true,\n",
    "    org_test=org_test,\n",
    "    filter_data=filter_sub_universe_data,\n",
    "    cp_metrics_df=cp_metrics_df,\n",
    "    save=True,\n",
    ")\n",
    "final_output"
   ]
  },
  {
   "cell_type": "code",
   "execution_count": null,
   "id": "8b80a1ff",
   "metadata": {
    "papermill": {
     "duration": 0.017352,
     "end_time": "2025-08-19T18:44:54.794148",
     "exception": false,
     "start_time": "2025-08-19T18:44:54.776796",
     "status": "completed"
    },
    "tags": []
   },
   "outputs": [],
   "source": []
  },
  {
   "cell_type": "code",
   "execution_count": null,
   "id": "275c9fad",
   "metadata": {
    "papermill": {
     "duration": 0.015303,
     "end_time": "2025-08-19T18:44:54.835345",
     "exception": false,
     "start_time": "2025-08-19T18:44:54.820042",
     "status": "completed"
    },
    "tags": []
   },
   "outputs": [],
   "source": []
  }
 ],
 "metadata": {
  "celltoolbar": "Tags",
  "kernelspec": {
   "display_name": "Python (CMA Fairness)",
   "language": "python",
   "name": "cma_fair_env"
  },
  "language_info": {
   "codemirror_mode": {
    "name": "ipython",
    "version": 3
   },
   "file_extension": ".py",
   "mimetype": "text/x-python",
   "name": "python",
   "nbconvert_exporter": "python",
   "pygments_lexer": "ipython3",
   "version": "3.10.12"
  },
  "papermill": {
   "default_parameters": {},
   "duration": 34.591336,
   "end_time": "2025-08-19T18:44:55.674111",
   "environment_variables": {},
   "exception": null,
   "input_path": "universe_analysis.ipynb",
   "output_path": "output/runs/3/notebooks/m_3-064ad2a4fafecedfb5ce6b011e980f60.ipynb",
   "parameters": {
    "output_dir": "output",
    "run_no": "3",
    "seed": "2023",
    "universe": "{\"cutoff\": [\"quantile_0.1\", \"quantile_0.25\"], \"eval_fairness_grouping\": [\"majority-minority\", \"nationality-all\"], \"exclude_features\": \"age\", \"exclude_subgroups\": \"drop-non-german\", \"model\": \"elasticnet\", \"scale\": \"scale\", \"training_size\": \"5k\", \"training_year\": \"2010_14\"}",
    "universe_id": "064ad2a4fafecedfb5ce6b011e980f60"
   },
   "start_time": "2025-08-19T18:44:21.082775",
   "version": "2.6.0"
  }
 },
 "nbformat": 4,
 "nbformat_minor": 5
}