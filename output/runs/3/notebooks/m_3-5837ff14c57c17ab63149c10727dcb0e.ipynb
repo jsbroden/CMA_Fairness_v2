{
 "cells": [
  {
   "cell_type": "markdown",
   "id": "ef23dbb3",
   "metadata": {
    "papermill": {
     "duration": 0.023953,
     "end_time": "2025-08-19T18:11:52.827783",
     "exception": false,
     "start_time": "2025-08-19T18:11:52.803830",
     "status": "completed"
    },
    "tags": []
   },
   "source": [
    "# Setup"
   ]
  },
  {
   "cell_type": "code",
   "execution_count": 1,
   "id": "0bc8e7dc",
   "metadata": {
    "execution": {
     "iopub.execute_input": "2025-08-19T18:11:52.849986Z",
     "iopub.status.busy": "2025-08-19T18:11:52.849612Z",
     "iopub.status.idle": "2025-08-19T18:11:52.861446Z",
     "shell.execute_reply": "2025-08-19T18:11:52.860452Z"
    },
    "papermill": {
     "duration": 0.026057,
     "end_time": "2025-08-19T18:11:52.865390",
     "exception": false,
     "start_time": "2025-08-19T18:11:52.839333",
     "status": "completed"
    },
    "tags": []
   },
   "outputs": [
    {
     "name": "stdout",
     "output_type": "stream",
     "text": [
      "/dss/dsshome1/0C/ra93lal2/cma/CMA_Fairness_v2\n"
     ]
    },
    {
     "name": "stderr",
     "output_type": "stream",
     "text": [
      "/dss/dsshome1/0C/ra93lal2/.local/share/virtualenvs/CMA_Fairness_v2-3j10GkSs/lib/python3.10/site-packages/IPython/core/magics/osm.py:393: UserWarning: This is now an optional IPython functionality, using bookmarks requires you to install the `pickleshare` library.\n",
      "  bkms = self.shell.db.get('bookmarks', {})\n",
      "/dss/dsshome1/0C/ra93lal2/.local/share/virtualenvs/CMA_Fairness_v2-3j10GkSs/lib/python3.10/site-packages/IPython/core/magics/osm.py:417: UserWarning: This is now an optional IPython functionality, setting dhist requires you to install the `pickleshare` library.\n",
      "  self.shell.db['dhist'] = compress_dhist(dhist)[-100:]\n"
     ]
    }
   ],
   "source": [
    "%cd ~/cma/CMA_Fairness_v2"
   ]
  },
  {
   "cell_type": "markdown",
   "id": "9d235661",
   "metadata": {
    "papermill": {
     "duration": 0.010771,
     "end_time": "2025-08-19T18:11:52.895897",
     "exception": false,
     "start_time": "2025-08-19T18:11:52.885126",
     "status": "completed"
    },
    "tags": []
   },
   "source": [
    "The following cell holds the definition of our parameters, these values can be overriden by rendering the with e.g. the following command:\n",
    "\n",
    "papermill -p alpha 0.2 -p ratio 0.3 universe_analysis.ipynb output/test_run.ipynb"
   ]
  },
  {
   "cell_type": "code",
   "execution_count": 2,
   "id": "4a789d8e",
   "metadata": {
    "execution": {
     "iopub.execute_input": "2025-08-19T18:11:52.916652Z",
     "iopub.status.busy": "2025-08-19T18:11:52.916078Z",
     "iopub.status.idle": "2025-08-19T18:11:52.921318Z",
     "shell.execute_reply": "2025-08-19T18:11:52.920069Z"
    },
    "papermill": {
     "duration": 0.017092,
     "end_time": "2025-08-19T18:11:52.922592",
     "exception": false,
     "start_time": "2025-08-19T18:11:52.905500",
     "status": "completed"
    },
    "tags": []
   },
   "outputs": [
    {
     "name": "stdout",
     "output_type": "stream",
     "text": [
      "Current working directory: /dss/dsshome1/0C/ra93lal2/cma/CMA_Fairness_v2\n"
     ]
    }
   ],
   "source": [
    "import os\n",
    "print(\"Current working directory:\", os.getcwd())"
   ]
  },
  {
   "cell_type": "code",
   "execution_count": 3,
   "id": "4132aaed",
   "metadata": {
    "execution": {
     "iopub.execute_input": "2025-08-19T18:11:52.957869Z",
     "iopub.status.busy": "2025-08-19T18:11:52.957395Z",
     "iopub.status.idle": "2025-08-19T18:11:52.963007Z",
     "shell.execute_reply": "2025-08-19T18:11:52.962039Z"
    },
    "papermill": {
     "duration": 0.019661,
     "end_time": "2025-08-19T18:11:52.964194",
     "exception": false,
     "start_time": "2025-08-19T18:11:52.944533",
     "status": "completed"
    },
    "tags": [
     "parameters"
    ]
   },
   "outputs": [],
   "source": [
    "run_no = 0\n",
    "universe_id = \"test\"\n",
    "universe = {\n",
    "    \"training_size\": \"5k\", # \"25k\", \"5k\", \"1k\"\n",
    "    \"training_year\": \"2012_14\", # \"2014\", \"2012_14\", \"2010_14\"\n",
    "    \"scale\": \"scale\", # \"scale\", \"do-not-scale\",\n",
    "    \"model\": \"elasticnet\", # \"logreg\", \"penalized_logreg\", \"rf\", \"gbm\", \"elasticnet\"\n",
    "    \"cutoff\": [\"quantile_0.15\", \"quantile_0.30\"],\n",
    "    \"exclude_features\": \"age\", # \"none\", \"nationality\", \"sex\", \"nationality-sex\", \"age\"\n",
    "    \"exclude_subgroups\": \"drop-non-german\", # \"keep-all\", \"drop-non-german\"\n",
    "    \"eval_fairness_grouping\": [\"majority-minority\", \"nationality-all\"]\n",
    "}\n",
    "\n",
    "output_dir=\"./output\"\n",
    "seed=0"
   ]
  },
  {
   "cell_type": "code",
   "execution_count": 4,
   "id": "7383084d",
   "metadata": {
    "execution": {
     "iopub.execute_input": "2025-08-19T18:11:52.984738Z",
     "iopub.status.busy": "2025-08-19T18:11:52.983854Z",
     "iopub.status.idle": "2025-08-19T18:11:52.989277Z",
     "shell.execute_reply": "2025-08-19T18:11:52.988149Z"
    },
    "papermill": {
     "duration": 0.016706,
     "end_time": "2025-08-19T18:11:52.990400",
     "exception": false,
     "start_time": "2025-08-19T18:11:52.973694",
     "status": "completed"
    },
    "tags": [
     "injected-parameters"
    ]
   },
   "outputs": [],
   "source": [
    "# Parameters\n",
    "universe_id = \"5837ff14c57c17ab63149c10727dcb0e\"\n",
    "run_no = \"3\"\n",
    "universe = \"{\\\"cutoff\\\": [\\\"quantile_0.1\\\", \\\"quantile_0.25\\\"], \\\"eval_fairness_grouping\\\": [\\\"majority-minority\\\", \\\"nationality-all\\\"], \\\"exclude_features\\\": \\\"nationality\\\", \\\"exclude_subgroups\\\": \\\"keep-all\\\", \\\"model\\\": \\\"elasticnet\\\", \\\"scale\\\": \\\"do-not-scale\\\", \\\"training_size\\\": \\\"25k\\\", \\\"training_year\\\": \\\"2012_14\\\"}\"\n",
    "output_dir = \"output\"\n",
    "seed = \"2023\"\n"
   ]
  },
  {
   "cell_type": "code",
   "execution_count": 5,
   "id": "a5d7941f",
   "metadata": {
    "execution": {
     "iopub.execute_input": "2025-08-19T18:11:53.010632Z",
     "iopub.status.busy": "2025-08-19T18:11:53.009237Z",
     "iopub.status.idle": "2025-08-19T18:11:53.017313Z",
     "shell.execute_reply": "2025-08-19T18:11:53.015675Z"
    },
    "papermill": {
     "duration": 0.019453,
     "end_time": "2025-08-19T18:11:53.018649",
     "exception": false,
     "start_time": "2025-08-19T18:11:52.999196",
     "status": "completed"
    },
    "tags": []
   },
   "outputs": [],
   "source": [
    "import json\n",
    "if isinstance(universe, str):\n",
    "    universe = json.loads(universe)"
   ]
  },
  {
   "cell_type": "code",
   "execution_count": 6,
   "id": "7076ccb1",
   "metadata": {
    "execution": {
     "iopub.execute_input": "2025-08-19T18:11:53.041408Z",
     "iopub.status.busy": "2025-08-19T18:11:53.040233Z",
     "iopub.status.idle": "2025-08-19T18:11:53.092116Z",
     "shell.execute_reply": "2025-08-19T18:11:53.091449Z"
    },
    "papermill": {
     "duration": 0.065678,
     "end_time": "2025-08-19T18:11:53.095791",
     "exception": false,
     "start_time": "2025-08-19T18:11:53.030113",
     "status": "completed"
    },
    "tags": []
   },
   "outputs": [],
   "source": [
    "# Auto-reload the custom package\n",
    "%load_ext autoreload\n",
    "%autoreload 1\n",
    "%aimport fairness_multiverse"
   ]
  },
  {
   "cell_type": "code",
   "execution_count": 7,
   "id": "94c8eb93",
   "metadata": {
    "execution": {
     "iopub.execute_input": "2025-08-19T18:11:53.147437Z",
     "iopub.status.busy": "2025-08-19T18:11:53.147069Z",
     "iopub.status.idle": "2025-08-19T18:11:54.610392Z",
     "shell.execute_reply": "2025-08-19T18:11:54.609618Z"
    },
    "papermill": {
     "duration": 1.481243,
     "end_time": "2025-08-19T18:11:54.612105",
     "exception": false,
     "start_time": "2025-08-19T18:11:53.130862",
     "status": "completed"
    },
    "tags": []
   },
   "outputs": [],
   "source": [
    "from fairness_multiverse.universe import UniverseAnalysis\n",
    "\n",
    "universe_analysis = UniverseAnalysis(\n",
    "    run_no = run_no,\n",
    "    universe_id = universe_id,\n",
    "    universe = universe,\n",
    "    output_dir=output_dir,\n",
    ")"
   ]
  },
  {
   "cell_type": "code",
   "execution_count": 8,
   "id": "2a6381cf",
   "metadata": {
    "execution": {
     "iopub.execute_input": "2025-08-19T18:11:54.653853Z",
     "iopub.status.busy": "2025-08-19T18:11:54.652423Z",
     "iopub.status.idle": "2025-08-19T18:11:54.661604Z",
     "shell.execute_reply": "2025-08-19T18:11:54.660348Z"
    },
    "papermill": {
     "duration": 0.040376,
     "end_time": "2025-08-19T18:11:54.663094",
     "exception": false,
     "start_time": "2025-08-19T18:11:54.622718",
     "status": "completed"
    },
    "tags": []
   },
   "outputs": [
    {
     "name": "stdout",
     "output_type": "stream",
     "text": [
      "Using Seed: 2023\n"
     ]
    }
   ],
   "source": [
    "import numpy as np\n",
    "parsed_seed = int(seed)\n",
    "np.random.seed(parsed_seed)\n",
    "print(f\"Using Seed: {parsed_seed}\")"
   ]
  },
  {
   "cell_type": "markdown",
   "id": "b6e958b4",
   "metadata": {
    "papermill": {
     "duration": 0.009363,
     "end_time": "2025-08-19T18:11:54.683343",
     "exception": false,
     "start_time": "2025-08-19T18:11:54.673980",
     "status": "completed"
    },
    "tags": []
   },
   "source": [
    "# Loading Data"
   ]
  },
  {
   "cell_type": "code",
   "execution_count": 9,
   "id": "98701482",
   "metadata": {
    "execution": {
     "iopub.execute_input": "2025-08-19T18:11:54.703755Z",
     "iopub.status.busy": "2025-08-19T18:11:54.702504Z",
     "iopub.status.idle": "2025-08-19T18:12:04.652344Z",
     "shell.execute_reply": "2025-08-19T18:12:04.651364Z"
    },
    "papermill": {
     "duration": 9.961535,
     "end_time": "2025-08-19T18:12:04.653735",
     "exception": false,
     "start_time": "2025-08-19T18:11:54.692200",
     "status": "completed"
    },
    "tags": []
   },
   "outputs": [
    {
     "name": "stdout",
     "output_type": "stream",
     "text": [
      "Loading SIAB data from cache: data/siab_cached.csv.gz\n"
     ]
    },
    {
     "name": "stdout",
     "output_type": "stream",
     "text": [
      "(643690, 164)\n"
     ]
    }
   ],
   "source": [
    "from pathlib import Path\n",
    "import pandas as pd\n",
    "\n",
    "# File paths\n",
    "raw_file = Path(\"data/raw/siab.csv\")\n",
    "cache_file = Path(\"data/siab_cached.csv.gz\")\n",
    "\n",
    "# Ensure cache directory exists\n",
    "cache_file.parent.mkdir(parents=True, exist_ok=True)\n",
    "\n",
    "# Load with simple caching\n",
    "if cache_file.exists():\n",
    "    print(f\"Loading SIAB data from cache: {cache_file}\")\n",
    "    siab = pd.read_csv(cache_file, compression='gzip')\n",
    "else:\n",
    "    print(f\"Cache not found. Reading raw SIAB data: {raw_file}\")\n",
    "    siab = pd.read_csv(raw_file)\n",
    "    siab.to_csv(cache_file, index=False, compression='gzip')\n",
    "    print(f\"Cached SIAB data to: {cache_file}\")\n",
    "\n",
    "print(siab.shape)"
   ]
  },
  {
   "cell_type": "code",
   "execution_count": 10,
   "id": "058d2abb",
   "metadata": {
    "execution": {
     "iopub.execute_input": "2025-08-19T18:12:04.678160Z",
     "iopub.status.busy": "2025-08-19T18:12:04.677179Z",
     "iopub.status.idle": "2025-08-19T18:12:04.804179Z",
     "shell.execute_reply": "2025-08-19T18:12:04.803029Z"
    },
    "papermill": {
     "duration": 0.139492,
     "end_time": "2025-08-19T18:12:04.805557",
     "exception": false,
     "start_time": "2025-08-19T18:12:04.666065",
     "status": "completed"
    },
    "tags": []
   },
   "outputs": [
    {
     "data": {
      "text/html": [
       "<div>\n",
       "<style scoped>\n",
       "    .dataframe tbody tr th:only-of-type {\n",
       "        vertical-align: middle;\n",
       "    }\n",
       "\n",
       "    .dataframe tbody tr th {\n",
       "        vertical-align: top;\n",
       "    }\n",
       "\n",
       "    .dataframe thead th {\n",
       "        text-align: right;\n",
       "    }\n",
       "</style>\n",
       "<table border=\"1\" class=\"dataframe\">\n",
       "  <thead>\n",
       "    <tr style=\"text-align: right;\">\n",
       "      <th></th>\n",
       "      <th>persnr</th>\n",
       "      <th>year</th>\n",
       "      <th>nrEntry</th>\n",
       "      <th>ltue</th>\n",
       "      <th>employed_before</th>\n",
       "      <th>receipt_leh_before</th>\n",
       "      <th>receipt_lhg_before</th>\n",
       "      <th>se_before</th>\n",
       "      <th>ASU_notue_seeking_before</th>\n",
       "      <th>ASU_other_before</th>\n",
       "      <th>...</th>\n",
       "      <th>minijob_tot_dur_byage</th>\n",
       "      <th>ft_tot_dur_byage</th>\n",
       "      <th>befrist_tot_dur_byage</th>\n",
       "      <th>leih_tot_dur_byage</th>\n",
       "      <th>LHG_tot_dur_byage</th>\n",
       "      <th>LEH_tot_dur_byage</th>\n",
       "      <th>almp_tot_dur_byage</th>\n",
       "      <th>almp_aw_tot_dur_byage</th>\n",
       "      <th>se_tot_dur_byage</th>\n",
       "      <th>seeking1_tot_dur_byage</th>\n",
       "    </tr>\n",
       "  </thead>\n",
       "  <tbody>\n",
       "    <tr>\n",
       "      <th>0</th>\n",
       "      <td>7</td>\n",
       "      <td>2015</td>\n",
       "      <td>1</td>\n",
       "      <td>0</td>\n",
       "      <td>1</td>\n",
       "      <td>0</td>\n",
       "      <td>0</td>\n",
       "      <td>0</td>\n",
       "      <td>1</td>\n",
       "      <td>0</td>\n",
       "      <td>...</td>\n",
       "      <td>0.000000</td>\n",
       "      <td>0.000000</td>\n",
       "      <td>15.043478</td>\n",
       "      <td>0.000000</td>\n",
       "      <td>0.000000</td>\n",
       "      <td>0.000000</td>\n",
       "      <td>0.000000</td>\n",
       "      <td>0.000000</td>\n",
       "      <td>0.000000</td>\n",
       "      <td>0.000000</td>\n",
       "    </tr>\n",
       "    <tr>\n",
       "      <th>1</th>\n",
       "      <td>18</td>\n",
       "      <td>2010</td>\n",
       "      <td>1</td>\n",
       "      <td>1</td>\n",
       "      <td>0</td>\n",
       "      <td>0</td>\n",
       "      <td>0</td>\n",
       "      <td>0</td>\n",
       "      <td>0</td>\n",
       "      <td>0</td>\n",
       "      <td>...</td>\n",
       "      <td>0.000000</td>\n",
       "      <td>0.000000</td>\n",
       "      <td>0.000000</td>\n",
       "      <td>0.000000</td>\n",
       "      <td>0.000000</td>\n",
       "      <td>0.000000</td>\n",
       "      <td>0.000000</td>\n",
       "      <td>0.000000</td>\n",
       "      <td>0.000000</td>\n",
       "      <td>0.000000</td>\n",
       "    </tr>\n",
       "    <tr>\n",
       "      <th>2</th>\n",
       "      <td>18</td>\n",
       "      <td>2011</td>\n",
       "      <td>2</td>\n",
       "      <td>0</td>\n",
       "      <td>1</td>\n",
       "      <td>0</td>\n",
       "      <td>1</td>\n",
       "      <td>0</td>\n",
       "      <td>1</td>\n",
       "      <td>0</td>\n",
       "      <td>...</td>\n",
       "      <td>2.714286</td>\n",
       "      <td>2.714286</td>\n",
       "      <td>0.000000</td>\n",
       "      <td>0.000000</td>\n",
       "      <td>10.775510</td>\n",
       "      <td>0.000000</td>\n",
       "      <td>8.367347</td>\n",
       "      <td>0.000000</td>\n",
       "      <td>0.000000</td>\n",
       "      <td>9.836735</td>\n",
       "    </tr>\n",
       "    <tr>\n",
       "      <th>3</th>\n",
       "      <td>18</td>\n",
       "      <td>2012</td>\n",
       "      <td>3</td>\n",
       "      <td>0</td>\n",
       "      <td>1</td>\n",
       "      <td>0</td>\n",
       "      <td>1</td>\n",
       "      <td>0</td>\n",
       "      <td>1</td>\n",
       "      <td>0</td>\n",
       "      <td>...</td>\n",
       "      <td>4.200000</td>\n",
       "      <td>4.200000</td>\n",
       "      <td>0.000000</td>\n",
       "      <td>0.000000</td>\n",
       "      <td>12.100000</td>\n",
       "      <td>0.000000</td>\n",
       "      <td>9.400000</td>\n",
       "      <td>0.000000</td>\n",
       "      <td>0.000000</td>\n",
       "      <td>9.960000</td>\n",
       "    </tr>\n",
       "    <tr>\n",
       "      <th>4</th>\n",
       "      <td>18</td>\n",
       "      <td>2012</td>\n",
       "      <td>4</td>\n",
       "      <td>0</td>\n",
       "      <td>1</td>\n",
       "      <td>0</td>\n",
       "      <td>1</td>\n",
       "      <td>0</td>\n",
       "      <td>1</td>\n",
       "      <td>0</td>\n",
       "      <td>...</td>\n",
       "      <td>5.460000</td>\n",
       "      <td>5.460000</td>\n",
       "      <td>0.000000</td>\n",
       "      <td>0.000000</td>\n",
       "      <td>13.360000</td>\n",
       "      <td>0.000000</td>\n",
       "      <td>10.320000</td>\n",
       "      <td>0.000000</td>\n",
       "      <td>0.000000</td>\n",
       "      <td>10.280000</td>\n",
       "    </tr>\n",
       "    <tr>\n",
       "      <th>...</th>\n",
       "      <td>...</td>\n",
       "      <td>...</td>\n",
       "      <td>...</td>\n",
       "      <td>...</td>\n",
       "      <td>...</td>\n",
       "      <td>...</td>\n",
       "      <td>...</td>\n",
       "      <td>...</td>\n",
       "      <td>...</td>\n",
       "      <td>...</td>\n",
       "      <td>...</td>\n",
       "      <td>...</td>\n",
       "      <td>...</td>\n",
       "      <td>...</td>\n",
       "      <td>...</td>\n",
       "      <td>...</td>\n",
       "      <td>...</td>\n",
       "      <td>...</td>\n",
       "      <td>...</td>\n",
       "      <td>...</td>\n",
       "      <td>...</td>\n",
       "    </tr>\n",
       "    <tr>\n",
       "      <th>643685</th>\n",
       "      <td>1827860</td>\n",
       "      <td>2013</td>\n",
       "      <td>1</td>\n",
       "      <td>0</td>\n",
       "      <td>0</td>\n",
       "      <td>0</td>\n",
       "      <td>1</td>\n",
       "      <td>0</td>\n",
       "      <td>0</td>\n",
       "      <td>1</td>\n",
       "      <td>...</td>\n",
       "      <td>0.000000</td>\n",
       "      <td>0.000000</td>\n",
       "      <td>0.000000</td>\n",
       "      <td>0.000000</td>\n",
       "      <td>0.612903</td>\n",
       "      <td>0.000000</td>\n",
       "      <td>0.000000</td>\n",
       "      <td>0.000000</td>\n",
       "      <td>0.000000</td>\n",
       "      <td>0.000000</td>\n",
       "    </tr>\n",
       "    <tr>\n",
       "      <th>643686</th>\n",
       "      <td>1827860</td>\n",
       "      <td>2015</td>\n",
       "      <td>2</td>\n",
       "      <td>1</td>\n",
       "      <td>0</td>\n",
       "      <td>0</td>\n",
       "      <td>1</td>\n",
       "      <td>0</td>\n",
       "      <td>1</td>\n",
       "      <td>0</td>\n",
       "      <td>...</td>\n",
       "      <td>0.000000</td>\n",
       "      <td>0.000000</td>\n",
       "      <td>0.212121</td>\n",
       "      <td>0.212121</td>\n",
       "      <td>17.363636</td>\n",
       "      <td>0.000000</td>\n",
       "      <td>8.909091</td>\n",
       "      <td>0.000000</td>\n",
       "      <td>0.000000</td>\n",
       "      <td>7.121212</td>\n",
       "    </tr>\n",
       "    <tr>\n",
       "      <th>643687</th>\n",
       "      <td>1827860</td>\n",
       "      <td>2016</td>\n",
       "      <td>3</td>\n",
       "      <td>1</td>\n",
       "      <td>0</td>\n",
       "      <td>0</td>\n",
       "      <td>1</td>\n",
       "      <td>1</td>\n",
       "      <td>0</td>\n",
       "      <td>1</td>\n",
       "      <td>...</td>\n",
       "      <td>0.000000</td>\n",
       "      <td>0.000000</td>\n",
       "      <td>0.294118</td>\n",
       "      <td>0.205882</td>\n",
       "      <td>34.705882</td>\n",
       "      <td>0.000000</td>\n",
       "      <td>10.352941</td>\n",
       "      <td>1.705882</td>\n",
       "      <td>1.705882</td>\n",
       "      <td>23.911765</td>\n",
       "    </tr>\n",
       "    <tr>\n",
       "      <th>643688</th>\n",
       "      <td>1827869</td>\n",
       "      <td>2013</td>\n",
       "      <td>1</td>\n",
       "      <td>1</td>\n",
       "      <td>1</td>\n",
       "      <td>0</td>\n",
       "      <td>0</td>\n",
       "      <td>0</td>\n",
       "      <td>1</td>\n",
       "      <td>0</td>\n",
       "      <td>...</td>\n",
       "      <td>0.000000</td>\n",
       "      <td>0.000000</td>\n",
       "      <td>0.000000</td>\n",
       "      <td>0.000000</td>\n",
       "      <td>0.000000</td>\n",
       "      <td>0.525424</td>\n",
       "      <td>0.000000</td>\n",
       "      <td>0.000000</td>\n",
       "      <td>0.000000</td>\n",
       "      <td>0.000000</td>\n",
       "    </tr>\n",
       "    <tr>\n",
       "      <th>643689</th>\n",
       "      <td>1827869</td>\n",
       "      <td>2014</td>\n",
       "      <td>2</td>\n",
       "      <td>0</td>\n",
       "      <td>0</td>\n",
       "      <td>1</td>\n",
       "      <td>0</td>\n",
       "      <td>0</td>\n",
       "      <td>1</td>\n",
       "      <td>0</td>\n",
       "      <td>...</td>\n",
       "      <td>0.000000</td>\n",
       "      <td>0.666667</td>\n",
       "      <td>0.666667</td>\n",
       "      <td>0.000000</td>\n",
       "      <td>0.000000</td>\n",
       "      <td>8.950000</td>\n",
       "      <td>1.033333</td>\n",
       "      <td>0.083333</td>\n",
       "      <td>0.083333</td>\n",
       "      <td>8.133333</td>\n",
       "    </tr>\n",
       "  </tbody>\n",
       "</table>\n",
       "<p>643690 rows × 164 columns</p>\n",
       "</div>"
      ],
      "text/plain": [
       "         persnr  year  nrEntry  ltue  employed_before  receipt_leh_before  \\\n",
       "0             7  2015        1     0                1                   0   \n",
       "1            18  2010        1     1                0                   0   \n",
       "2            18  2011        2     0                1                   0   \n",
       "3            18  2012        3     0                1                   0   \n",
       "4            18  2012        4     0                1                   0   \n",
       "...         ...   ...      ...   ...              ...                 ...   \n",
       "643685  1827860  2013        1     0                0                   0   \n",
       "643686  1827860  2015        2     1                0                   0   \n",
       "643687  1827860  2016        3     1                0                   0   \n",
       "643688  1827869  2013        1     1                1                   0   \n",
       "643689  1827869  2014        2     0                0                   1   \n",
       "\n",
       "        receipt_lhg_before  se_before  ASU_notue_seeking_before  \\\n",
       "0                        0          0                         1   \n",
       "1                        0          0                         0   \n",
       "2                        1          0                         1   \n",
       "3                        1          0                         1   \n",
       "4                        1          0                         1   \n",
       "...                    ...        ...                       ...   \n",
       "643685                   1          0                         0   \n",
       "643686                   1          0                         1   \n",
       "643687                   1          1                         0   \n",
       "643688                   0          0                         1   \n",
       "643689                   0          0                         1   \n",
       "\n",
       "        ASU_other_before  ...  minijob_tot_dur_byage  ft_tot_dur_byage  \\\n",
       "0                      0  ...               0.000000          0.000000   \n",
       "1                      0  ...               0.000000          0.000000   \n",
       "2                      0  ...               2.714286          2.714286   \n",
       "3                      0  ...               4.200000          4.200000   \n",
       "4                      0  ...               5.460000          5.460000   \n",
       "...                  ...  ...                    ...               ...   \n",
       "643685                 1  ...               0.000000          0.000000   \n",
       "643686                 0  ...               0.000000          0.000000   \n",
       "643687                 1  ...               0.000000          0.000000   \n",
       "643688                 0  ...               0.000000          0.000000   \n",
       "643689                 0  ...               0.000000          0.666667   \n",
       "\n",
       "        befrist_tot_dur_byage  leih_tot_dur_byage  LHG_tot_dur_byage  \\\n",
       "0                   15.043478            0.000000           0.000000   \n",
       "1                    0.000000            0.000000           0.000000   \n",
       "2                    0.000000            0.000000          10.775510   \n",
       "3                    0.000000            0.000000          12.100000   \n",
       "4                    0.000000            0.000000          13.360000   \n",
       "...                       ...                 ...                ...   \n",
       "643685               0.000000            0.000000           0.612903   \n",
       "643686               0.212121            0.212121          17.363636   \n",
       "643687               0.294118            0.205882          34.705882   \n",
       "643688               0.000000            0.000000           0.000000   \n",
       "643689               0.666667            0.000000           0.000000   \n",
       "\n",
       "        LEH_tot_dur_byage  almp_tot_dur_byage  almp_aw_tot_dur_byage  \\\n",
       "0                0.000000            0.000000               0.000000   \n",
       "1                0.000000            0.000000               0.000000   \n",
       "2                0.000000            8.367347               0.000000   \n",
       "3                0.000000            9.400000               0.000000   \n",
       "4                0.000000           10.320000               0.000000   \n",
       "...                   ...                 ...                    ...   \n",
       "643685           0.000000            0.000000               0.000000   \n",
       "643686           0.000000            8.909091               0.000000   \n",
       "643687           0.000000           10.352941               1.705882   \n",
       "643688           0.525424            0.000000               0.000000   \n",
       "643689           8.950000            1.033333               0.083333   \n",
       "\n",
       "        se_tot_dur_byage  seeking1_tot_dur_byage  \n",
       "0               0.000000                0.000000  \n",
       "1               0.000000                0.000000  \n",
       "2               0.000000                9.836735  \n",
       "3               0.000000                9.960000  \n",
       "4               0.000000               10.280000  \n",
       "...                  ...                     ...  \n",
       "643685          0.000000                0.000000  \n",
       "643686          0.000000                7.121212  \n",
       "643687          1.705882               23.911765  \n",
       "643688          0.000000                0.000000  \n",
       "643689          0.083333                8.133333  \n",
       "\n",
       "[643690 rows x 164 columns]"
      ]
     },
     "execution_count": 10,
     "metadata": {},
     "output_type": "execute_result"
    }
   ],
   "source": [
    "siab"
   ]
  },
  {
   "cell_type": "markdown",
   "id": "1f87e805",
   "metadata": {
    "papermill": {
     "duration": 0.01137,
     "end_time": "2025-08-19T18:12:04.828067",
     "exception": false,
     "start_time": "2025-08-19T18:12:04.816697",
     "status": "completed"
    },
    "tags": []
   },
   "source": [
    "# Splitting Data and Setting Training Data Size"
   ]
  },
  {
   "cell_type": "code",
   "execution_count": 11,
   "id": "910ae358",
   "metadata": {
    "execution": {
     "iopub.execute_input": "2025-08-19T18:12:04.849602Z",
     "iopub.status.busy": "2025-08-19T18:12:04.848261Z",
     "iopub.status.idle": "2025-08-19T18:12:05.563316Z",
     "shell.execute_reply": "2025-08-19T18:12:05.562563Z"
    },
    "papermill": {
     "duration": 0.727384,
     "end_time": "2025-08-19T18:12:05.564838",
     "exception": false,
     "start_time": "2025-08-19T18:12:04.837454",
     "status": "completed"
    },
    "tags": []
   },
   "outputs": [],
   "source": [
    "from fairness_multiverse.universe import sample_by_year_size\n",
    "\n",
    "siab_train = sample_by_year_size(siab,\n",
    "                               training_year=universe[\"training_year\"],\n",
    "                               training_size=universe[\"training_size\"])"
   ]
  },
  {
   "cell_type": "code",
   "execution_count": 12,
   "id": "919c8ff5",
   "metadata": {
    "execution": {
     "iopub.execute_input": "2025-08-19T18:12:05.593283Z",
     "iopub.status.busy": "2025-08-19T18:12:05.592769Z",
     "iopub.status.idle": "2025-08-19T18:12:05.598577Z",
     "shell.execute_reply": "2025-08-19T18:12:05.597913Z"
    },
    "papermill": {
     "duration": 0.023323,
     "end_time": "2025-08-19T18:12:05.600298",
     "exception": false,
     "start_time": "2025-08-19T18:12:05.576975",
     "status": "completed"
    },
    "tags": []
   },
   "outputs": [
    {
     "data": {
      "text/plain": [
       "(25000, 164)"
      ]
     },
     "execution_count": 12,
     "metadata": {},
     "output_type": "execute_result"
    }
   ],
   "source": [
    "siab_train.shape"
   ]
  },
  {
   "cell_type": "code",
   "execution_count": 13,
   "id": "feb13bf4",
   "metadata": {
    "execution": {
     "iopub.execute_input": "2025-08-19T18:12:05.621636Z",
     "iopub.status.busy": "2025-08-19T18:12:05.621258Z",
     "iopub.status.idle": "2025-08-19T18:12:05.629055Z",
     "shell.execute_reply": "2025-08-19T18:12:05.628259Z"
    },
    "papermill": {
     "duration": 0.019824,
     "end_time": "2025-08-19T18:12:05.630402",
     "exception": false,
     "start_time": "2025-08-19T18:12:05.610578",
     "status": "completed"
    },
    "tags": []
   },
   "outputs": [
    {
     "data": {
      "text/plain": [
       "year\n",
       "2012    8334\n",
       "2013    8333\n",
       "2014    8333\n",
       "dtype: int64"
      ]
     },
     "metadata": {},
     "output_type": "display_data"
    }
   ],
   "source": [
    "display(siab_train.groupby(\"year\").size())"
   ]
  },
  {
   "cell_type": "code",
   "execution_count": 14,
   "id": "0997782f",
   "metadata": {
    "execution": {
     "iopub.execute_input": "2025-08-19T18:12:05.651914Z",
     "iopub.status.busy": "2025-08-19T18:12:05.651507Z",
     "iopub.status.idle": "2025-08-19T18:12:05.876144Z",
     "shell.execute_reply": "2025-08-19T18:12:05.875367Z"
    },
    "papermill": {
     "duration": 0.237497,
     "end_time": "2025-08-19T18:12:05.878087",
     "exception": false,
     "start_time": "2025-08-19T18:12:05.640590",
     "status": "completed"
    },
    "tags": []
   },
   "outputs": [],
   "source": [
    "#siab_train = siab_s[siab_s.year < 2015]\n",
    "siab_calib = siab[siab.year == 2015]\n",
    "siab_test = siab[siab.year == 2016]"
   ]
  },
  {
   "cell_type": "code",
   "execution_count": 15,
   "id": "2c1e4012",
   "metadata": {
    "execution": {
     "iopub.execute_input": "2025-08-19T18:12:05.905394Z",
     "iopub.status.busy": "2025-08-19T18:12:05.904526Z",
     "iopub.status.idle": "2025-08-19T18:12:05.910241Z",
     "shell.execute_reply": "2025-08-19T18:12:05.909171Z"
    },
    "papermill": {
     "duration": 0.019187,
     "end_time": "2025-08-19T18:12:05.911787",
     "exception": false,
     "start_time": "2025-08-19T18:12:05.892600",
     "status": "completed"
    },
    "tags": []
   },
   "outputs": [],
   "source": [
    "#siab_calib.shape"
   ]
  },
  {
   "cell_type": "code",
   "execution_count": 16,
   "id": "f66b54ca",
   "metadata": {
    "execution": {
     "iopub.execute_input": "2025-08-19T18:12:05.934176Z",
     "iopub.status.busy": "2025-08-19T18:12:05.933507Z",
     "iopub.status.idle": "2025-08-19T18:12:05.940117Z",
     "shell.execute_reply": "2025-08-19T18:12:05.938899Z"
    },
    "papermill": {
     "duration": 0.019612,
     "end_time": "2025-08-19T18:12:05.941458",
     "exception": false,
     "start_time": "2025-08-19T18:12:05.921846",
     "status": "completed"
    },
    "tags": []
   },
   "outputs": [],
   "source": [
    "#siab_test.shape"
   ]
  },
  {
   "cell_type": "code",
   "execution_count": 17,
   "id": "27e4384d",
   "metadata": {
    "execution": {
     "iopub.execute_input": "2025-08-19T18:12:05.967116Z",
     "iopub.status.busy": "2025-08-19T18:12:05.965961Z",
     "iopub.status.idle": "2025-08-19T18:12:05.999939Z",
     "shell.execute_reply": "2025-08-19T18:12:05.998885Z"
    },
    "papermill": {
     "duration": 0.054618,
     "end_time": "2025-08-19T18:12:06.006433",
     "exception": false,
     "start_time": "2025-08-19T18:12:05.951815",
     "status": "completed"
    },
    "tags": []
   },
   "outputs": [],
   "source": [
    "X_train = siab_train.iloc[:,4:164]\n",
    "y_train = siab_train.iloc[:, [3]]"
   ]
  },
  {
   "cell_type": "code",
   "execution_count": 18,
   "id": "08ee8389",
   "metadata": {
    "execution": {
     "iopub.execute_input": "2025-08-19T18:12:06.048330Z",
     "iopub.status.busy": "2025-08-19T18:12:06.047116Z",
     "iopub.status.idle": "2025-08-19T18:12:06.100244Z",
     "shell.execute_reply": "2025-08-19T18:12:06.099516Z"
    },
    "papermill": {
     "duration": 0.074187,
     "end_time": "2025-08-19T18:12:06.102965",
     "exception": false,
     "start_time": "2025-08-19T18:12:06.028778",
     "status": "completed"
    },
    "tags": []
   },
   "outputs": [],
   "source": [
    "X_calib = siab_calib.iloc[:,4:164]\n",
    "y_calib = siab_calib.iloc[:, [3]]"
   ]
  },
  {
   "cell_type": "code",
   "execution_count": 19,
   "id": "b7ff42e0",
   "metadata": {
    "execution": {
     "iopub.execute_input": "2025-08-19T18:12:06.140521Z",
     "iopub.status.busy": "2025-08-19T18:12:06.139378Z",
     "iopub.status.idle": "2025-08-19T18:12:06.196456Z",
     "shell.execute_reply": "2025-08-19T18:12:06.195582Z"
    },
    "papermill": {
     "duration": 0.076375,
     "end_time": "2025-08-19T18:12:06.200000",
     "exception": false,
     "start_time": "2025-08-19T18:12:06.123625",
     "status": "completed"
    },
    "tags": []
   },
   "outputs": [],
   "source": [
    "X_test = siab_test.iloc[:,4:164]\n",
    "y_true = siab_test.iloc[:, [3]]"
   ]
  },
  {
   "cell_type": "code",
   "execution_count": 20,
   "id": "0275101e",
   "metadata": {
    "execution": {
     "iopub.execute_input": "2025-08-19T18:12:06.239029Z",
     "iopub.status.busy": "2025-08-19T18:12:06.238100Z",
     "iopub.status.idle": "2025-08-19T18:12:06.348869Z",
     "shell.execute_reply": "2025-08-19T18:12:06.348117Z"
    },
    "papermill": {
     "duration": 0.127986,
     "end_time": "2025-08-19T18:12:06.351774",
     "exception": false,
     "start_time": "2025-08-19T18:12:06.223788",
     "status": "completed"
    },
    "tags": []
   },
   "outputs": [],
   "source": [
    "# Auxiliary data needed downstream in the pipeline\n",
    "\n",
    "org_train = X_train.copy()\n",
    "org_test = X_test.copy()\n",
    "org_calib = X_calib.copy()"
   ]
  },
  {
   "cell_type": "markdown",
   "id": "b461e618",
   "metadata": {
    "papermill": {
     "duration": 0.012813,
     "end_time": "2025-08-19T18:12:06.390147",
     "exception": false,
     "start_time": "2025-08-19T18:12:06.377334",
     "status": "completed"
    },
    "tags": []
   },
   "source": [
    "# Preprocessing Data"
   ]
  },
  {
   "cell_type": "code",
   "execution_count": 21,
   "id": "78e74c4b",
   "metadata": {
    "execution": {
     "iopub.execute_input": "2025-08-19T18:12:06.421922Z",
     "iopub.status.busy": "2025-08-19T18:12:06.415559Z",
     "iopub.status.idle": "2025-08-19T18:12:06.433708Z",
     "shell.execute_reply": "2025-08-19T18:12:06.432611Z"
    },
    "papermill": {
     "duration": 0.038578,
     "end_time": "2025-08-19T18:12:06.442094",
     "exception": false,
     "start_time": "2025-08-19T18:12:06.403516",
     "status": "completed"
    },
    "tags": []
   },
   "outputs": [],
   "source": [
    "# EXCLUDE PROTECTED FEATURES\n",
    "# --------------------------\n",
    "\n",
    "excluded_features = universe[\"exclude_features\"].split(\"-\")\n",
    "excluded_features_dictionary = {\n",
    "    \"nationality\": [\"maxdeutsch1\", \"maxdeutsch.Missing.\"],\n",
    "    \"sex\": [\"frau1\"],\n",
    "    \"age\": [\"age\"],\n",
    "}"
   ]
  },
  {
   "cell_type": "code",
   "execution_count": 22,
   "id": "f8e63555",
   "metadata": {
    "execution": {
     "iopub.execute_input": "2025-08-19T18:12:06.467688Z",
     "iopub.status.busy": "2025-08-19T18:12:06.467217Z",
     "iopub.status.idle": "2025-08-19T18:12:06.472343Z",
     "shell.execute_reply": "2025-08-19T18:12:06.471556Z"
    },
    "papermill": {
     "duration": 0.017891,
     "end_time": "2025-08-19T18:12:06.473658",
     "exception": false,
     "start_time": "2025-08-19T18:12:06.455767",
     "status": "completed"
    },
    "tags": []
   },
   "outputs": [],
   "source": [
    "excluded_features_columns = [\n",
    "    excluded_features_dictionary[f] for f in excluded_features if len(f) > 0 and f != \"none\"\n",
    "]"
   ]
  },
  {
   "cell_type": "code",
   "execution_count": 23,
   "id": "da781f7c",
   "metadata": {
    "execution": {
     "iopub.execute_input": "2025-08-19T18:12:06.498885Z",
     "iopub.status.busy": "2025-08-19T18:12:06.498125Z",
     "iopub.status.idle": "2025-08-19T18:12:06.503200Z",
     "shell.execute_reply": "2025-08-19T18:12:06.502113Z"
    },
    "papermill": {
     "duration": 0.017898,
     "end_time": "2025-08-19T18:12:06.504799",
     "exception": false,
     "start_time": "2025-08-19T18:12:06.486901",
     "status": "completed"
    },
    "tags": []
   },
   "outputs": [],
   "source": [
    "from fairness_multiverse.universe import flatten_once\n",
    "\n",
    "excluded_features_columns = flatten_once(excluded_features_columns)"
   ]
  },
  {
   "cell_type": "code",
   "execution_count": 24,
   "id": "37fef0f0",
   "metadata": {
    "execution": {
     "iopub.execute_input": "2025-08-19T18:12:06.530051Z",
     "iopub.status.busy": "2025-08-19T18:12:06.529140Z",
     "iopub.status.idle": "2025-08-19T18:12:06.548492Z",
     "shell.execute_reply": "2025-08-19T18:12:06.547541Z"
    },
    "papermill": {
     "duration": 0.033765,
     "end_time": "2025-08-19T18:12:06.550216",
     "exception": false,
     "start_time": "2025-08-19T18:12:06.516451",
     "status": "completed"
    },
    "tags": []
   },
   "outputs": [
    {
     "name": "stdout",
     "output_type": "stream",
     "text": [
      "Dropping features: ['maxdeutsch1', 'maxdeutsch.Missing.']\n"
     ]
    }
   ],
   "source": [
    "if len(excluded_features_columns) > 0:\n",
    "    print(f\"Dropping features: {excluded_features_columns}\")\n",
    "    X_train.drop(excluded_features_columns, axis=1, inplace=True)"
   ]
  },
  {
   "cell_type": "code",
   "execution_count": 25,
   "id": "d029e3e9",
   "metadata": {
    "execution": {
     "iopub.execute_input": "2025-08-19T18:12:06.581258Z",
     "iopub.status.busy": "2025-08-19T18:12:06.580091Z",
     "iopub.status.idle": "2025-08-19T18:12:06.637831Z",
     "shell.execute_reply": "2025-08-19T18:12:06.637109Z"
    },
    "papermill": {
     "duration": 0.071779,
     "end_time": "2025-08-19T18:12:06.639180",
     "exception": false,
     "start_time": "2025-08-19T18:12:06.567401",
     "status": "completed"
    },
    "tags": []
   },
   "outputs": [
    {
     "name": "stdout",
     "output_type": "stream",
     "text": [
      "Dropping features: ['maxdeutsch1', 'maxdeutsch.Missing.']\n"
     ]
    }
   ],
   "source": [
    "if len(excluded_features_columns) > 0:\n",
    "    print(f\"Dropping features: {excluded_features_columns}\")\n",
    "    X_test.drop(excluded_features_columns, axis=1, inplace=True)"
   ]
  },
  {
   "cell_type": "code",
   "execution_count": 26,
   "id": "01d571f0",
   "metadata": {
    "execution": {
     "iopub.execute_input": "2025-08-19T18:12:06.676512Z",
     "iopub.status.busy": "2025-08-19T18:12:06.675311Z",
     "iopub.status.idle": "2025-08-19T18:12:06.728900Z",
     "shell.execute_reply": "2025-08-19T18:12:06.728139Z"
    },
    "papermill": {
     "duration": 0.075264,
     "end_time": "2025-08-19T18:12:06.730129",
     "exception": false,
     "start_time": "2025-08-19T18:12:06.654865",
     "status": "completed"
    },
    "tags": []
   },
   "outputs": [
    {
     "name": "stdout",
     "output_type": "stream",
     "text": [
      "Dropping features: ['maxdeutsch1', 'maxdeutsch.Missing.']\n"
     ]
    }
   ],
   "source": [
    "if len(excluded_features_columns) > 0:\n",
    "    print(f\"Dropping features: {excluded_features_columns}\")\n",
    "    X_calib.drop(excluded_features_columns, axis=1, inplace=True)"
   ]
  },
  {
   "cell_type": "code",
   "execution_count": 27,
   "id": "3037356e",
   "metadata": {
    "execution": {
     "iopub.execute_input": "2025-08-19T18:12:06.753827Z",
     "iopub.status.busy": "2025-08-19T18:12:06.752980Z",
     "iopub.status.idle": "2025-08-19T18:12:06.758761Z",
     "shell.execute_reply": "2025-08-19T18:12:06.757686Z"
    },
    "papermill": {
     "duration": 0.021391,
     "end_time": "2025-08-19T18:12:06.762668",
     "exception": false,
     "start_time": "2025-08-19T18:12:06.741277",
     "status": "completed"
    },
    "tags": []
   },
   "outputs": [],
   "source": [
    "# EXCLUDE CERTAIN SUBGROUPS\n",
    "# -------------------------\n",
    "\n",
    "mode = universe.get(\"exclude_subgroups\", \"keep-all\") # Defaults to \"keep-all\" if the key is missing."
   ]
  },
  {
   "cell_type": "code",
   "execution_count": 28,
   "id": "9d1e63fd",
   "metadata": {
    "execution": {
     "iopub.execute_input": "2025-08-19T18:12:06.794846Z",
     "iopub.status.busy": "2025-08-19T18:12:06.794456Z",
     "iopub.status.idle": "2025-08-19T18:12:06.799730Z",
     "shell.execute_reply": "2025-08-19T18:12:06.799019Z"
    },
    "papermill": {
     "duration": 0.019262,
     "end_time": "2025-08-19T18:12:06.801081",
     "exception": false,
     "start_time": "2025-08-19T18:12:06.781819",
     "status": "completed"
    },
    "tags": []
   },
   "outputs": [],
   "source": [
    "if mode == \"keep-all\":\n",
    "    keep_mask = pd.Series(True, index=org_train.index)\n",
    "\n",
    "elif mode == \"drop-non-german\":\n",
    "    keep_mask = (org_train[\"maxdeutsch1\"] == 1) & (org_train[\"maxdeutsch.Missing.\"] == 0)\n",
    "\n",
    "else:\n",
    "    raise ValueError(f\"Unsupported mode for exclude_subgroups: {mode}\")"
   ]
  },
  {
   "cell_type": "code",
   "execution_count": 29,
   "id": "d3b65474",
   "metadata": {
    "execution": {
     "iopub.execute_input": "2025-08-19T18:12:06.823446Z",
     "iopub.status.busy": "2025-08-19T18:12:06.823056Z",
     "iopub.status.idle": "2025-08-19T18:12:06.828120Z",
     "shell.execute_reply": "2025-08-19T18:12:06.827425Z"
    },
    "papermill": {
     "duration": 0.019164,
     "end_time": "2025-08-19T18:12:06.830930",
     "exception": false,
     "start_time": "2025-08-19T18:12:06.811766",
     "status": "completed"
    },
    "tags": []
   },
   "outputs": [],
   "source": [
    "n_drop = (~keep_mask).sum() # Calculates how many rows are set to be dropped\n",
    "if n_drop > 0:\n",
    "    pct = n_drop / len(keep_mask) * 100\n",
    "    print(f\"Dropping {n_drop} rows ({pct:.2f}%) where mode='{mode}'\")"
   ]
  },
  {
   "cell_type": "code",
   "execution_count": 30,
   "id": "f44389b3",
   "metadata": {
    "execution": {
     "iopub.execute_input": "2025-08-19T18:12:06.870843Z",
     "iopub.status.busy": "2025-08-19T18:12:06.869696Z",
     "iopub.status.idle": "2025-08-19T18:12:06.889630Z",
     "shell.execute_reply": "2025-08-19T18:12:06.888751Z"
    },
    "papermill": {
     "duration": 0.035884,
     "end_time": "2025-08-19T18:12:06.891391",
     "exception": false,
     "start_time": "2025-08-19T18:12:06.855507",
     "status": "completed"
    },
    "tags": []
   },
   "outputs": [],
   "source": [
    "X_train = X_train[keep_mask]"
   ]
  },
  {
   "cell_type": "code",
   "execution_count": 31,
   "id": "ceca8c2a",
   "metadata": {
    "execution": {
     "iopub.execute_input": "2025-08-19T18:12:06.924627Z",
     "iopub.status.busy": "2025-08-19T18:12:06.923566Z",
     "iopub.status.idle": "2025-08-19T18:12:06.932818Z",
     "shell.execute_reply": "2025-08-19T18:12:06.931499Z"
    },
    "papermill": {
     "duration": 0.02405,
     "end_time": "2025-08-19T18:12:06.934338",
     "exception": false,
     "start_time": "2025-08-19T18:12:06.910288",
     "status": "completed"
    },
    "tags": []
   },
   "outputs": [],
   "source": [
    "y_train = y_train[keep_mask]"
   ]
  },
  {
   "cell_type": "markdown",
   "id": "04d31e2f",
   "metadata": {
    "papermill": {
     "duration": 0.011115,
     "end_time": "2025-08-19T18:12:06.959079",
     "exception": false,
     "start_time": "2025-08-19T18:12:06.947964",
     "status": "completed"
    },
    "tags": []
   },
   "source": [
    "# Model Training"
   ]
  },
  {
   "cell_type": "code",
   "execution_count": 32,
   "id": "db991733",
   "metadata": {
    "execution": {
     "iopub.execute_input": "2025-08-19T18:12:06.984417Z",
     "iopub.status.busy": "2025-08-19T18:12:06.983216Z",
     "iopub.status.idle": "2025-08-19T18:12:07.104357Z",
     "shell.execute_reply": "2025-08-19T18:12:07.103617Z"
    },
    "papermill": {
     "duration": 0.135461,
     "end_time": "2025-08-19T18:12:07.105823",
     "exception": false,
     "start_time": "2025-08-19T18:12:06.970362",
     "status": "completed"
    },
    "tags": []
   },
   "outputs": [],
   "source": [
    "from sklearn.linear_model import LogisticRegression\n",
    "from sklearn.ensemble import GradientBoostingClassifier, RandomForestClassifier\n",
    "\n",
    "if (universe[\"model\"] == \"logreg\"):\n",
    "    model = LogisticRegression() #penalty=\"none\", solver=\"newton-cg\", max_iter=1)\n",
    "elif (universe[\"model\"] == \"penalized_logreg\"):\n",
    "    model = LogisticRegression(penalty=\"l2\", C=0.1) #, solver=\"newton-cg\", max_iter=1)\n",
    "elif (universe[\"model\"] == \"rf\"):\n",
    "    model = RandomForestClassifier() # n_estimators=100, n_jobs=-1\n",
    "elif (universe[\"model\"] == \"gbm\"):\n",
    "    model = GradientBoostingClassifier()\n",
    "elif (universe[\"model\"] == \"elasticnet\"):\n",
    "    model = LogisticRegression(penalty = 'elasticnet', solver = 'saga', l1_ratio = 0.5) # max_iter=5000\n",
    "else:\n",
    "    raise \"Unsupported universe.model\""
   ]
  },
  {
   "cell_type": "code",
   "execution_count": 33,
   "id": "a4b5cd25",
   "metadata": {
    "execution": {
     "iopub.execute_input": "2025-08-19T18:12:07.129853Z",
     "iopub.status.busy": "2025-08-19T18:12:07.129033Z",
     "iopub.status.idle": "2025-08-19T18:12:07.136103Z",
     "shell.execute_reply": "2025-08-19T18:12:07.135058Z"
    },
    "papermill": {
     "duration": 0.020331,
     "end_time": "2025-08-19T18:12:07.137479",
     "exception": false,
     "start_time": "2025-08-19T18:12:07.117148",
     "status": "completed"
    },
    "tags": []
   },
   "outputs": [],
   "source": [
    "from sklearn.pipeline import Pipeline\n",
    "from sklearn.preprocessing import StandardScaler\n",
    "\n",
    "model = Pipeline([\n",
    "    #(\"continuous_processor\", continuous_processor),\n",
    "    #(\"categorical_preprocessor\", categorical_preprocessor),\n",
    "    (\"scale\", StandardScaler() if universe[\"scale\"] == \"scale\" else None), \n",
    "    (\"model\", model),\n",
    "])"
   ]
  },
  {
   "cell_type": "code",
   "execution_count": 34,
   "id": "283a904d",
   "metadata": {
    "execution": {
     "iopub.execute_input": "2025-08-19T18:12:07.163847Z",
     "iopub.status.busy": "2025-08-19T18:12:07.162762Z",
     "iopub.status.idle": "2025-08-19T18:12:13.984492Z",
     "shell.execute_reply": "2025-08-19T18:12:13.983568Z"
    },
    "papermill": {
     "duration": 6.837152,
     "end_time": "2025-08-19T18:12:13.985818",
     "exception": false,
     "start_time": "2025-08-19T18:12:07.148666",
     "status": "completed"
    },
    "tags": []
   },
   "outputs": [
    {
     "name": "stderr",
     "output_type": "stream",
     "text": [
      "/dss/dsshome1/0C/ra93lal2/.local/share/virtualenvs/CMA_Fairness_v2-3j10GkSs/lib/python3.10/site-packages/sklearn/linear_model/_sag.py:350: ConvergenceWarning: The max_iter was reached which means the coef_ did not converge\n",
      "  warnings.warn(\n"
     ]
    },
    {
     "data": {
      "text/html": [
       "<style>#sk-container-id-1 {color: black;background-color: white;}#sk-container-id-1 pre{padding: 0;}#sk-container-id-1 div.sk-toggleable {background-color: white;}#sk-container-id-1 label.sk-toggleable__label {cursor: pointer;display: block;width: 100%;margin-bottom: 0;padding: 0.3em;box-sizing: border-box;text-align: center;}#sk-container-id-1 label.sk-toggleable__label-arrow:before {content: \"▸\";float: left;margin-right: 0.25em;color: #696969;}#sk-container-id-1 label.sk-toggleable__label-arrow:hover:before {color: black;}#sk-container-id-1 div.sk-estimator:hover label.sk-toggleable__label-arrow:before {color: black;}#sk-container-id-1 div.sk-toggleable__content {max-height: 0;max-width: 0;overflow: hidden;text-align: left;background-color: #f0f8ff;}#sk-container-id-1 div.sk-toggleable__content pre {margin: 0.2em;color: black;border-radius: 0.25em;background-color: #f0f8ff;}#sk-container-id-1 input.sk-toggleable__control:checked~div.sk-toggleable__content {max-height: 200px;max-width: 100%;overflow: auto;}#sk-container-id-1 input.sk-toggleable__control:checked~label.sk-toggleable__label-arrow:before {content: \"▾\";}#sk-container-id-1 div.sk-estimator input.sk-toggleable__control:checked~label.sk-toggleable__label {background-color: #d4ebff;}#sk-container-id-1 div.sk-label input.sk-toggleable__control:checked~label.sk-toggleable__label {background-color: #d4ebff;}#sk-container-id-1 input.sk-hidden--visually {border: 0;clip: rect(1px 1px 1px 1px);clip: rect(1px, 1px, 1px, 1px);height: 1px;margin: -1px;overflow: hidden;padding: 0;position: absolute;width: 1px;}#sk-container-id-1 div.sk-estimator {font-family: monospace;background-color: #f0f8ff;border: 1px dotted black;border-radius: 0.25em;box-sizing: border-box;margin-bottom: 0.5em;}#sk-container-id-1 div.sk-estimator:hover {background-color: #d4ebff;}#sk-container-id-1 div.sk-parallel-item::after {content: \"\";width: 100%;border-bottom: 1px solid gray;flex-grow: 1;}#sk-container-id-1 div.sk-label:hover label.sk-toggleable__label {background-color: #d4ebff;}#sk-container-id-1 div.sk-serial::before {content: \"\";position: absolute;border-left: 1px solid gray;box-sizing: border-box;top: 0;bottom: 0;left: 50%;z-index: 0;}#sk-container-id-1 div.sk-serial {display: flex;flex-direction: column;align-items: center;background-color: white;padding-right: 0.2em;padding-left: 0.2em;position: relative;}#sk-container-id-1 div.sk-item {position: relative;z-index: 1;}#sk-container-id-1 div.sk-parallel {display: flex;align-items: stretch;justify-content: center;background-color: white;position: relative;}#sk-container-id-1 div.sk-item::before, #sk-container-id-1 div.sk-parallel-item::before {content: \"\";position: absolute;border-left: 1px solid gray;box-sizing: border-box;top: 0;bottom: 0;left: 50%;z-index: -1;}#sk-container-id-1 div.sk-parallel-item {display: flex;flex-direction: column;z-index: 1;position: relative;background-color: white;}#sk-container-id-1 div.sk-parallel-item:first-child::after {align-self: flex-end;width: 50%;}#sk-container-id-1 div.sk-parallel-item:last-child::after {align-self: flex-start;width: 50%;}#sk-container-id-1 div.sk-parallel-item:only-child::after {width: 0;}#sk-container-id-1 div.sk-dashed-wrapped {border: 1px dashed gray;margin: 0 0.4em 0.5em 0.4em;box-sizing: border-box;padding-bottom: 0.4em;background-color: white;}#sk-container-id-1 div.sk-label label {font-family: monospace;font-weight: bold;display: inline-block;line-height: 1.2em;}#sk-container-id-1 div.sk-label-container {text-align: center;}#sk-container-id-1 div.sk-container {/* jupyter's `normalize.less` sets `[hidden] { display: none; }` but bootstrap.min.css set `[hidden] { display: none !important; }` so we also need the `!important` here to be able to override the default hidden behavior on the sphinx rendered scikit-learn.org. See: https://github.com/scikit-learn/scikit-learn/issues/21755 */display: inline-block !important;position: relative;}#sk-container-id-1 div.sk-text-repr-fallback {display: none;}</style><div id=\"sk-container-id-1\" class=\"sk-top-container\"><div class=\"sk-text-repr-fallback\"><pre>Pipeline(steps=[(&#x27;scale&#x27;, None),\n",
       "                (&#x27;model&#x27;,\n",
       "                 LogisticRegression(l1_ratio=0.5, penalty=&#x27;elasticnet&#x27;,\n",
       "                                    solver=&#x27;saga&#x27;))])</pre><b>In a Jupyter environment, please rerun this cell to show the HTML representation or trust the notebook. <br />On GitHub, the HTML representation is unable to render, please try loading this page with nbviewer.org.</b></div><div class=\"sk-container\" hidden><div class=\"sk-item sk-dashed-wrapped\"><div class=\"sk-label-container\"><div class=\"sk-label sk-toggleable\"><input class=\"sk-toggleable__control sk-hidden--visually\" id=\"sk-estimator-id-1\" type=\"checkbox\" ><label for=\"sk-estimator-id-1\" class=\"sk-toggleable__label sk-toggleable__label-arrow\">Pipeline</label><div class=\"sk-toggleable__content\"><pre>Pipeline(steps=[(&#x27;scale&#x27;, None),\n",
       "                (&#x27;model&#x27;,\n",
       "                 LogisticRegression(l1_ratio=0.5, penalty=&#x27;elasticnet&#x27;,\n",
       "                                    solver=&#x27;saga&#x27;))])</pre></div></div></div><div class=\"sk-serial\"><div class=\"sk-item\"><div class=\"sk-estimator sk-toggleable\"><input class=\"sk-toggleable__control sk-hidden--visually\" id=\"sk-estimator-id-2\" type=\"checkbox\" ><label for=\"sk-estimator-id-2\" class=\"sk-toggleable__label sk-toggleable__label-arrow\">None</label><div class=\"sk-toggleable__content\"><pre>None</pre></div></div></div><div class=\"sk-item\"><div class=\"sk-estimator sk-toggleable\"><input class=\"sk-toggleable__control sk-hidden--visually\" id=\"sk-estimator-id-3\" type=\"checkbox\" ><label for=\"sk-estimator-id-3\" class=\"sk-toggleable__label sk-toggleable__label-arrow\">LogisticRegression</label><div class=\"sk-toggleable__content\"><pre>LogisticRegression(l1_ratio=0.5, penalty=&#x27;elasticnet&#x27;, solver=&#x27;saga&#x27;)</pre></div></div></div></div></div></div></div>"
      ],
      "text/plain": [
       "Pipeline(steps=[('scale', None),\n",
       "                ('model',\n",
       "                 LogisticRegression(l1_ratio=0.5, penalty='elasticnet',\n",
       "                                    solver='saga'))])"
      ]
     },
     "execution_count": 34,
     "metadata": {},
     "output_type": "execute_result"
    }
   ],
   "source": [
    "model.fit(X_train, y_train.values.ravel())"
   ]
  },
  {
   "cell_type": "code",
   "execution_count": 35,
   "id": "6e15e313",
   "metadata": {
    "execution": {
     "iopub.execute_input": "2025-08-19T18:12:14.022294Z",
     "iopub.status.busy": "2025-08-19T18:12:14.021848Z",
     "iopub.status.idle": "2025-08-19T18:12:14.131523Z",
     "shell.execute_reply": "2025-08-19T18:12:14.130760Z"
    },
    "papermill": {
     "duration": 0.129421,
     "end_time": "2025-08-19T18:12:14.132778",
     "exception": false,
     "start_time": "2025-08-19T18:12:14.003357",
     "status": "completed"
    },
    "tags": []
   },
   "outputs": [
    {
     "data": {
      "text/plain": [
       "0.8674060862780069"
      ]
     },
     "execution_count": 35,
     "metadata": {},
     "output_type": "execute_result"
    }
   ],
   "source": [
    "from fairness_multiverse.universe import predict_w_threshold\n",
    "\n",
    "probs_test = model.predict_proba(X_test)\n",
    "\n",
    "'''\n",
    "Below code returns a boolean array (or binary 0/1 array depending on how it’s used) where each element \n",
    "is True if the probability of class 1 is greater than or equal to the threshold, and False otherwise.\n",
    "'''\n",
    "y_pred_default = predict_w_threshold(probs_test, 0.5)\n",
    "\n",
    "from sklearn.metrics import accuracy_score\n",
    "\n",
    "# Naive prediction\n",
    "accuracy_score(y_true = y_true, y_pred = y_pred_default)"
   ]
  },
  {
   "cell_type": "code",
   "execution_count": 36,
   "id": "6f14067c",
   "metadata": {
    "execution": {
     "iopub.execute_input": "2025-08-19T18:12:14.156986Z",
     "iopub.status.busy": "2025-08-19T18:12:14.156607Z",
     "iopub.status.idle": "2025-08-19T18:12:14.249025Z",
     "shell.execute_reply": "2025-08-19T18:12:14.248246Z"
    },
    "papermill": {
     "duration": 0.105791,
     "end_time": "2025-08-19T18:12:14.250346",
     "exception": false,
     "start_time": "2025-08-19T18:12:14.144555",
     "status": "completed"
    },
    "tags": []
   },
   "outputs": [
    {
     "data": {
      "text/plain": [
       "array([0, 0, 0, ..., 0, 0, 0])"
      ]
     },
     "execution_count": 36,
     "metadata": {},
     "output_type": "execute_result"
    }
   ],
   "source": [
    "model.predict(X_test)"
   ]
  },
  {
   "cell_type": "markdown",
   "id": "3759920c",
   "metadata": {
    "papermill": {
     "duration": 0.011093,
     "end_time": "2025-08-19T18:12:14.274725",
     "exception": false,
     "start_time": "2025-08-19T18:12:14.263632",
     "status": "completed"
    },
    "tags": []
   },
   "source": [
    "# Conformal Prediction"
   ]
  },
  {
   "cell_type": "code",
   "execution_count": 37,
   "id": "14b27f59",
   "metadata": {
    "execution": {
     "iopub.execute_input": "2025-08-19T18:12:14.298084Z",
     "iopub.status.busy": "2025-08-19T18:12:14.297686Z",
     "iopub.status.idle": "2025-08-19T18:12:14.302013Z",
     "shell.execute_reply": "2025-08-19T18:12:14.301339Z"
    },
    "papermill": {
     "duration": 0.017529,
     "end_time": "2025-08-19T18:12:14.303277",
     "exception": false,
     "start_time": "2025-08-19T18:12:14.285748",
     "status": "completed"
    },
    "tags": []
   },
   "outputs": [],
   "source": [
    "# Miscoverage level for conformal prediction (10% allowed error rate => 90% target coverage)\n",
    "alpha = 0.1"
   ]
  },
  {
   "cell_type": "code",
   "execution_count": 38,
   "id": "59102472",
   "metadata": {
    "execution": {
     "iopub.execute_input": "2025-08-19T18:12:14.326740Z",
     "iopub.status.busy": "2025-08-19T18:12:14.326380Z",
     "iopub.status.idle": "2025-08-19T18:12:14.414660Z",
     "shell.execute_reply": "2025-08-19T18:12:14.413900Z"
    },
    "papermill": {
     "duration": 0.101798,
     "end_time": "2025-08-19T18:12:14.416205",
     "exception": false,
     "start_time": "2025-08-19T18:12:14.314407",
     "status": "completed"
    },
    "tags": []
   },
   "outputs": [],
   "source": [
    "probs_calib = model.predict_proba(X_calib)"
   ]
  },
  {
   "cell_type": "code",
   "execution_count": 39,
   "id": "a792d4dd",
   "metadata": {
    "execution": {
     "iopub.execute_input": "2025-08-19T18:12:14.441881Z",
     "iopub.status.busy": "2025-08-19T18:12:14.440808Z",
     "iopub.status.idle": "2025-08-19T18:12:14.451010Z",
     "shell.execute_reply": "2025-08-19T18:12:14.449410Z"
    },
    "papermill": {
     "duration": 0.024535,
     "end_time": "2025-08-19T18:12:14.452526",
     "exception": false,
     "start_time": "2025-08-19T18:12:14.427991",
     "status": "completed"
    },
    "tags": []
   },
   "outputs": [],
   "source": [
    "y_calib = y_calib.values.ravel().astype(int)"
   ]
  },
  {
   "cell_type": "code",
   "execution_count": 40,
   "id": "650fd033",
   "metadata": {
    "execution": {
     "iopub.execute_input": "2025-08-19T18:12:14.484025Z",
     "iopub.status.busy": "2025-08-19T18:12:14.482981Z",
     "iopub.status.idle": "2025-08-19T18:12:14.495899Z",
     "shell.execute_reply": "2025-08-19T18:12:14.494679Z"
    },
    "papermill": {
     "duration": 0.028994,
     "end_time": "2025-08-19T18:12:14.497449",
     "exception": false,
     "start_time": "2025-08-19T18:12:14.468455",
     "status": "completed"
    },
    "tags": []
   },
   "outputs": [],
   "source": [
    "from fairness_multiverse.conformal import compute_nc_scores\n",
    "\n",
    "# Compute nonconformity scores on calibration set (1 - probability of true class)\n",
    "nc_scores = compute_nc_scores(probs_calib, y_calib)"
   ]
  },
  {
   "cell_type": "code",
   "execution_count": 41,
   "id": "28ada44c",
   "metadata": {
    "execution": {
     "iopub.execute_input": "2025-08-19T18:12:14.526578Z",
     "iopub.status.busy": "2025-08-19T18:12:14.525682Z",
     "iopub.status.idle": "2025-08-19T18:12:14.536647Z",
     "shell.execute_reply": "2025-08-19T18:12:14.535331Z"
    },
    "papermill": {
     "duration": 0.025814,
     "end_time": "2025-08-19T18:12:14.538094",
     "exception": false,
     "start_time": "2025-08-19T18:12:14.512280",
     "status": "completed"
    },
    "tags": []
   },
   "outputs": [],
   "source": [
    "from fairness_multiverse.conformal import find_threshold\n",
    "\n",
    "# Find conformal threshold q_hat for the given alpha (split conformal method)\n",
    "q_hat = find_threshold(nc_scores, alpha)"
   ]
  },
  {
   "cell_type": "code",
   "execution_count": 42,
   "id": "df56469e",
   "metadata": {
    "execution": {
     "iopub.execute_input": "2025-08-19T18:12:14.567015Z",
     "iopub.status.busy": "2025-08-19T18:12:14.566048Z",
     "iopub.status.idle": "2025-08-19T18:12:14.577227Z",
     "shell.execute_reply": "2025-08-19T18:12:14.576069Z"
    },
    "papermill": {
     "duration": 0.026005,
     "end_time": "2025-08-19T18:12:14.578698",
     "exception": false,
     "start_time": "2025-08-19T18:12:14.552693",
     "status": "completed"
    },
    "tags": []
   },
   "outputs": [
    {
     "data": {
      "text/plain": [
       "0.6668141515855156"
      ]
     },
     "execution_count": 42,
     "metadata": {},
     "output_type": "execute_result"
    }
   ],
   "source": [
    "q_hat"
   ]
  },
  {
   "cell_type": "code",
   "execution_count": 43,
   "id": "aa1f5faa",
   "metadata": {
    "execution": {
     "iopub.execute_input": "2025-08-19T18:12:14.607994Z",
     "iopub.status.busy": "2025-08-19T18:12:14.607086Z",
     "iopub.status.idle": "2025-08-19T18:12:15.122381Z",
     "shell.execute_reply": "2025-08-19T18:12:15.121339Z"
    },
    "papermill": {
     "duration": 0.532317,
     "end_time": "2025-08-19T18:12:15.125142",
     "exception": false,
     "start_time": "2025-08-19T18:12:14.592825",
     "status": "completed"
    },
    "tags": []
   },
   "outputs": [],
   "source": [
    "from fairness_multiverse.conformal import predict_conformal_sets\n",
    "\n",
    "# Generate prediction sets for each test example\n",
    "pred_sets = predict_conformal_sets(model, X_test, q_hat)"
   ]
  },
  {
   "cell_type": "code",
   "execution_count": 44,
   "id": "97f67a6b",
   "metadata": {
    "execution": {
     "iopub.execute_input": "2025-08-19T18:12:15.168873Z",
     "iopub.status.busy": "2025-08-19T18:12:15.167712Z",
     "iopub.status.idle": "2025-08-19T18:12:15.178608Z",
     "shell.execute_reply": "2025-08-19T18:12:15.176959Z"
    },
    "papermill": {
     "duration": 0.028,
     "end_time": "2025-08-19T18:12:15.180228",
     "exception": false,
     "start_time": "2025-08-19T18:12:15.152228",
     "status": "completed"
    },
    "tags": []
   },
   "outputs": [],
   "source": [
    "y_true = y_true.squeeze()"
   ]
  },
  {
   "cell_type": "code",
   "execution_count": 45,
   "id": "e700e9a7",
   "metadata": {
    "execution": {
     "iopub.execute_input": "2025-08-19T18:12:15.209785Z",
     "iopub.status.busy": "2025-08-19T18:12:15.208877Z",
     "iopub.status.idle": "2025-08-19T18:12:15.708861Z",
     "shell.execute_reply": "2025-08-19T18:12:15.707903Z"
    },
    "papermill": {
     "duration": 0.515391,
     "end_time": "2025-08-19T18:12:15.711214",
     "exception": false,
     "start_time": "2025-08-19T18:12:15.195823",
     "status": "completed"
    },
    "tags": []
   },
   "outputs": [],
   "source": [
    "from fairness_multiverse.conformal import evaluate_sets\n",
    "\n",
    "# Evaluate coverage and average set size on test data\n",
    "metrics = evaluate_sets(pred_sets, y_true)"
   ]
  },
  {
   "cell_type": "markdown",
   "id": "efbacec0",
   "metadata": {
    "papermill": {
     "duration": 0.013087,
     "end_time": "2025-08-19T18:12:15.748321",
     "exception": false,
     "start_time": "2025-08-19T18:12:15.735234",
     "status": "completed"
    },
    "tags": []
   },
   "source": [
    "# CP Metrics"
   ]
  },
  {
   "cell_type": "code",
   "execution_count": 46,
   "id": "9de55fb1",
   "metadata": {
    "execution": {
     "iopub.execute_input": "2025-08-19T18:12:15.774126Z",
     "iopub.status.busy": "2025-08-19T18:12:15.773005Z",
     "iopub.status.idle": "2025-08-19T18:12:15.786923Z",
     "shell.execute_reply": "2025-08-19T18:12:15.785335Z"
    },
    "papermill": {
     "duration": 0.029012,
     "end_time": "2025-08-19T18:12:15.788702",
     "exception": false,
     "start_time": "2025-08-19T18:12:15.759690",
     "status": "completed"
    },
    "tags": []
   },
   "outputs": [
    {
     "data": {
      "text/plain": [
       "{'coverage': 0.9136774049715751, 'avg_size': 1.2456470850518337}"
      ]
     },
     "execution_count": 46,
     "metadata": {},
     "output_type": "execute_result"
    }
   ],
   "source": [
    "metrics"
   ]
  },
  {
   "cell_type": "code",
   "execution_count": 47,
   "id": "64c340a1",
   "metadata": {
    "execution": {
     "iopub.execute_input": "2025-08-19T18:12:15.834411Z",
     "iopub.status.busy": "2025-08-19T18:12:15.833413Z",
     "iopub.status.idle": "2025-08-19T18:12:15.844568Z",
     "shell.execute_reply": "2025-08-19T18:12:15.842870Z"
    },
    "papermill": {
     "duration": 0.041211,
     "end_time": "2025-08-19T18:12:15.846311",
     "exception": false,
     "start_time": "2025-08-19T18:12:15.805100",
     "status": "completed"
    },
    "tags": []
   },
   "outputs": [],
   "source": [
    "example_universe = universe.copy()\n",
    "universe_training_year = example_universe.get(\"training_year\")\n",
    "universe_training_size = example_universe.get(\"training_size\")\n",
    "universe_scale = example_universe.get(\"scale\")\n",
    "universe_model = example_universe.get(\"model\")\n",
    "universe_exclude_features = example_universe.get(\"exclude_features\")\n",
    "universe_exclude_subgroups = example_universe.get(\"exclude_subgroups\")"
   ]
  },
  {
   "cell_type": "code",
   "execution_count": 48,
   "id": "dbb53cb4",
   "metadata": {
    "execution": {
     "iopub.execute_input": "2025-08-19T18:12:15.878509Z",
     "iopub.status.busy": "2025-08-19T18:12:15.877433Z",
     "iopub.status.idle": "2025-08-19T18:12:15.894637Z",
     "shell.execute_reply": "2025-08-19T18:12:15.893367Z"
    },
    "papermill": {
     "duration": 0.032502,
     "end_time": "2025-08-19T18:12:15.896547",
     "exception": false,
     "start_time": "2025-08-19T18:12:15.864045",
     "status": "completed"
    },
    "tags": []
   },
   "outputs": [],
   "source": [
    "cp_metrics_dict = {\n",
    "    \"universe_id\": [universe_id],\n",
    "    \"universe_training_year\": [universe_training_year],\n",
    "    \"universe_training_size\": [universe_training_size],\n",
    "    \"universe_scale\": [universe_scale],\n",
    "    \"universe_model\": [universe_model],\n",
    "    \"universe_exclude_features\": [universe_exclude_features],\n",
    "    \"universe_exclude_subgroups\": [universe_exclude_subgroups],\n",
    "    \"q_hat\": [q_hat],\n",
    "    \"coverage\": [metrics[\"coverage\"]],\n",
    "    \"avg_size\": [metrics[\"avg_size\"]],\n",
    "}"
   ]
  },
  {
   "cell_type": "code",
   "execution_count": 49,
   "id": "0d70d4b2",
   "metadata": {
    "execution": {
     "iopub.execute_input": "2025-08-19T18:12:15.928279Z",
     "iopub.status.busy": "2025-08-19T18:12:15.927099Z",
     "iopub.status.idle": "2025-08-19T18:12:15.937138Z",
     "shell.execute_reply": "2025-08-19T18:12:15.936010Z"
    },
    "papermill": {
     "duration": 0.029766,
     "end_time": "2025-08-19T18:12:15.941276",
     "exception": false,
     "start_time": "2025-08-19T18:12:15.911510",
     "status": "completed"
    },
    "tags": []
   },
   "outputs": [],
   "source": [
    "cp_metrics_df = pd.DataFrame(cp_metrics_dict)"
   ]
  },
  {
   "cell_type": "code",
   "execution_count": 50,
   "id": "b494403c",
   "metadata": {
    "execution": {
     "iopub.execute_input": "2025-08-19T18:12:15.971129Z",
     "iopub.status.busy": "2025-08-19T18:12:15.970057Z",
     "iopub.status.idle": "2025-08-19T18:12:15.999246Z",
     "shell.execute_reply": "2025-08-19T18:12:15.998074Z"
    },
    "papermill": {
     "duration": 0.046084,
     "end_time": "2025-08-19T18:12:16.002018",
     "exception": false,
     "start_time": "2025-08-19T18:12:15.955934",
     "status": "completed"
    },
    "tags": []
   },
   "outputs": [
    {
     "data": {
      "text/html": [
       "<div>\n",
       "<style scoped>\n",
       "    .dataframe tbody tr th:only-of-type {\n",
       "        vertical-align: middle;\n",
       "    }\n",
       "\n",
       "    .dataframe tbody tr th {\n",
       "        vertical-align: top;\n",
       "    }\n",
       "\n",
       "    .dataframe thead th {\n",
       "        text-align: right;\n",
       "    }\n",
       "</style>\n",
       "<table border=\"1\" class=\"dataframe\">\n",
       "  <thead>\n",
       "    <tr style=\"text-align: right;\">\n",
       "      <th></th>\n",
       "      <th>universe_id</th>\n",
       "      <th>universe_training_year</th>\n",
       "      <th>universe_training_size</th>\n",
       "      <th>universe_scale</th>\n",
       "      <th>universe_model</th>\n",
       "      <th>universe_exclude_features</th>\n",
       "      <th>universe_exclude_subgroups</th>\n",
       "      <th>q_hat</th>\n",
       "      <th>coverage</th>\n",
       "      <th>avg_size</th>\n",
       "    </tr>\n",
       "  </thead>\n",
       "  <tbody>\n",
       "    <tr>\n",
       "      <th>0</th>\n",
       "      <td>5837ff14c57c17ab63149c10727dcb0e</td>\n",
       "      <td>2012_14</td>\n",
       "      <td>25k</td>\n",
       "      <td>do-not-scale</td>\n",
       "      <td>elasticnet</td>\n",
       "      <td>nationality</td>\n",
       "      <td>keep-all</td>\n",
       "      <td>0.666814</td>\n",
       "      <td>0.913677</td>\n",
       "      <td>1.245647</td>\n",
       "    </tr>\n",
       "  </tbody>\n",
       "</table>\n",
       "</div>"
      ],
      "text/plain": [
       "                        universe_id universe_training_year  \\\n",
       "0  5837ff14c57c17ab63149c10727dcb0e                2012_14   \n",
       "\n",
       "  universe_training_size universe_scale universe_model  \\\n",
       "0                    25k   do-not-scale     elasticnet   \n",
       "\n",
       "  universe_exclude_features universe_exclude_subgroups     q_hat  coverage  \\\n",
       "0               nationality                   keep-all  0.666814  0.913677   \n",
       "\n",
       "   avg_size  \n",
       "0  1.245647  "
      ]
     },
     "execution_count": 50,
     "metadata": {},
     "output_type": "execute_result"
    }
   ],
   "source": [
    "cp_metrics_df"
   ]
  },
  {
   "cell_type": "markdown",
   "id": "ed608b0b",
   "metadata": {
    "papermill": {
     "duration": 0.026837,
     "end_time": "2025-08-19T18:12:16.051750",
     "exception": false,
     "start_time": "2025-08-19T18:12:16.024913",
     "status": "completed"
    },
    "tags": []
   },
   "source": [
    "Conditional coverage & looking at subgroups"
   ]
  },
  {
   "cell_type": "code",
   "execution_count": 51,
   "id": "8968c366",
   "metadata": {
    "execution": {
     "iopub.execute_input": "2025-08-19T18:12:16.077239Z",
     "iopub.status.busy": "2025-08-19T18:12:16.076575Z",
     "iopub.status.idle": "2025-08-19T18:12:16.338582Z",
     "shell.execute_reply": "2025-08-19T18:12:16.337823Z"
    },
    "papermill": {
     "duration": 0.276569,
     "end_time": "2025-08-19T18:12:16.340047",
     "exception": false,
     "start_time": "2025-08-19T18:12:16.063478",
     "status": "completed"
    },
    "tags": []
   },
   "outputs": [],
   "source": [
    "from fairness_multiverse.conformal import build_cp_groups\n",
    "\n",
    "cp_groups_df = build_cp_groups(pred_sets, y_true, X_test.index, org_test)"
   ]
  },
  {
   "cell_type": "code",
   "execution_count": 52,
   "id": "292ddabf",
   "metadata": {
    "execution": {
     "iopub.execute_input": "2025-08-19T18:12:16.367544Z",
     "iopub.status.busy": "2025-08-19T18:12:16.366637Z",
     "iopub.status.idle": "2025-08-19T18:12:17.231211Z",
     "shell.execute_reply": "2025-08-19T18:12:17.230056Z"
    },
    "papermill": {
     "duration": 0.880646,
     "end_time": "2025-08-19T18:12:17.234091",
     "exception": false,
     "start_time": "2025-08-19T18:12:16.353445",
     "status": "completed"
    },
    "tags": []
   },
   "outputs": [],
   "source": [
    "# Define covered = 1 if true_label is in the predicted set\n",
    "cp_groups_df['covered'] = cp_groups_df.apply(\n",
    "    lambda r: int(r['true_label'] in r['pred_set']),\n",
    "    axis=1\n",
    ")"
   ]
  },
  {
   "cell_type": "code",
   "execution_count": 53,
   "id": "3a261692",
   "metadata": {
    "execution": {
     "iopub.execute_input": "2025-08-19T18:12:17.277572Z",
     "iopub.status.busy": "2025-08-19T18:12:17.276169Z",
     "iopub.status.idle": "2025-08-19T18:12:17.298844Z",
     "shell.execute_reply": "2025-08-19T18:12:17.298016Z"
    },
    "papermill": {
     "duration": 0.040028,
     "end_time": "2025-08-19T18:12:17.300601",
     "exception": false,
     "start_time": "2025-08-19T18:12:17.260573",
     "status": "completed"
    },
    "tags": []
   },
   "outputs": [],
   "source": [
    "subgroups = ['frau1','nongerman','nongerman_male','nongerman_female']\n",
    "\n",
    "# Conditional coverage for subgroup==1\n",
    "cond_coverage = {\n",
    "    g: cp_groups_df.loc[cp_groups_df[g]==1, 'covered'].mean()\n",
    "    for g in subgroups\n",
    "}"
   ]
  },
  {
   "cell_type": "code",
   "execution_count": 54,
   "id": "894fd600",
   "metadata": {
    "execution": {
     "iopub.execute_input": "2025-08-19T18:12:17.340557Z",
     "iopub.status.busy": "2025-08-19T18:12:17.339370Z",
     "iopub.status.idle": "2025-08-19T18:12:17.350257Z",
     "shell.execute_reply": "2025-08-19T18:12:17.349069Z"
    },
    "papermill": {
     "duration": 0.027109,
     "end_time": "2025-08-19T18:12:17.351644",
     "exception": false,
     "start_time": "2025-08-19T18:12:17.324535",
     "status": "completed"
    },
    "tags": []
   },
   "outputs": [
    {
     "data": {
      "text/plain": [
       "{'frau1': 0.9125219032214584,\n",
       " 'nongerman': 0.9591309717621962,\n",
       " 'nongerman_male': 0.9664955417454743,\n",
       " 'nongerman_female': 0.9469448584202682}"
      ]
     },
     "execution_count": 54,
     "metadata": {},
     "output_type": "execute_result"
    }
   ],
   "source": [
    "cond_coverage"
   ]
  },
  {
   "cell_type": "code",
   "execution_count": 55,
   "id": "942895c7",
   "metadata": {
    "execution": {
     "iopub.execute_input": "2025-08-19T18:12:17.381947Z",
     "iopub.status.busy": "2025-08-19T18:12:17.380866Z",
     "iopub.status.idle": "2025-08-19T18:12:17.392304Z",
     "shell.execute_reply": "2025-08-19T18:12:17.390974Z"
    },
    "papermill": {
     "duration": 0.026728,
     "end_time": "2025-08-19T18:12:17.393900",
     "exception": false,
     "start_time": "2025-08-19T18:12:17.367172",
     "status": "completed"
    },
    "tags": []
   },
   "outputs": [],
   "source": [
    "for subgroup, cov in cond_coverage.items():\n",
    "    cp_metrics_df[f\"cov_{subgroup}\"] = cov"
   ]
  },
  {
   "cell_type": "code",
   "execution_count": 56,
   "id": "3970120f",
   "metadata": {
    "execution": {
     "iopub.execute_input": "2025-08-19T18:12:17.424401Z",
     "iopub.status.busy": "2025-08-19T18:12:17.423344Z",
     "iopub.status.idle": "2025-08-19T18:12:17.448775Z",
     "shell.execute_reply": "2025-08-19T18:12:17.448002Z"
    },
    "papermill": {
     "duration": 0.040897,
     "end_time": "2025-08-19T18:12:17.450466",
     "exception": false,
     "start_time": "2025-08-19T18:12:17.409569",
     "status": "completed"
    },
    "tags": []
   },
   "outputs": [
    {
     "data": {
      "text/html": [
       "<div>\n",
       "<style scoped>\n",
       "    .dataframe tbody tr th:only-of-type {\n",
       "        vertical-align: middle;\n",
       "    }\n",
       "\n",
       "    .dataframe tbody tr th {\n",
       "        vertical-align: top;\n",
       "    }\n",
       "\n",
       "    .dataframe thead th {\n",
       "        text-align: right;\n",
       "    }\n",
       "</style>\n",
       "<table border=\"1\" class=\"dataframe\">\n",
       "  <thead>\n",
       "    <tr style=\"text-align: right;\">\n",
       "      <th></th>\n",
       "      <th>universe_id</th>\n",
       "      <th>universe_training_year</th>\n",
       "      <th>universe_training_size</th>\n",
       "      <th>universe_scale</th>\n",
       "      <th>universe_model</th>\n",
       "      <th>universe_exclude_features</th>\n",
       "      <th>universe_exclude_subgroups</th>\n",
       "      <th>q_hat</th>\n",
       "      <th>coverage</th>\n",
       "      <th>avg_size</th>\n",
       "      <th>cov_frau1</th>\n",
       "      <th>cov_nongerman</th>\n",
       "      <th>cov_nongerman_male</th>\n",
       "      <th>cov_nongerman_female</th>\n",
       "    </tr>\n",
       "  </thead>\n",
       "  <tbody>\n",
       "    <tr>\n",
       "      <th>0</th>\n",
       "      <td>5837ff14c57c17ab63149c10727dcb0e</td>\n",
       "      <td>2012_14</td>\n",
       "      <td>25k</td>\n",
       "      <td>do-not-scale</td>\n",
       "      <td>elasticnet</td>\n",
       "      <td>nationality</td>\n",
       "      <td>keep-all</td>\n",
       "      <td>0.666814</td>\n",
       "      <td>0.913677</td>\n",
       "      <td>1.245647</td>\n",
       "      <td>0.912522</td>\n",
       "      <td>0.959131</td>\n",
       "      <td>0.966496</td>\n",
       "      <td>0.946945</td>\n",
       "    </tr>\n",
       "  </tbody>\n",
       "</table>\n",
       "</div>"
      ],
      "text/plain": [
       "                        universe_id universe_training_year  \\\n",
       "0  5837ff14c57c17ab63149c10727dcb0e                2012_14   \n",
       "\n",
       "  universe_training_size universe_scale universe_model  \\\n",
       "0                    25k   do-not-scale     elasticnet   \n",
       "\n",
       "  universe_exclude_features universe_exclude_subgroups     q_hat  coverage  \\\n",
       "0               nationality                   keep-all  0.666814  0.913677   \n",
       "\n",
       "   avg_size  cov_frau1  cov_nongerman  cov_nongerman_male  \\\n",
       "0  1.245647   0.912522       0.959131            0.966496   \n",
       "\n",
       "   cov_nongerman_female  \n",
       "0              0.946945  "
      ]
     },
     "execution_count": 56,
     "metadata": {},
     "output_type": "execute_result"
    }
   ],
   "source": [
    "cp_metrics_df"
   ]
  },
  {
   "cell_type": "markdown",
   "id": "3fc519cc",
   "metadata": {
    "papermill": {
     "duration": 0.01304,
     "end_time": "2025-08-19T18:12:17.482966",
     "exception": false,
     "start_time": "2025-08-19T18:12:17.469926",
     "status": "completed"
    },
    "tags": []
   },
   "source": [
    "# (Fairness) Metrics"
   ]
  },
  {
   "cell_type": "code",
   "execution_count": 57,
   "id": "a2e5e155",
   "metadata": {
    "execution": {
     "iopub.execute_input": "2025-08-19T18:12:17.510585Z",
     "iopub.status.busy": "2025-08-19T18:12:17.509901Z",
     "iopub.status.idle": "2025-08-19T18:12:17.541985Z",
     "shell.execute_reply": "2025-08-19T18:12:17.541192Z"
    },
    "papermill": {
     "duration": 0.048375,
     "end_time": "2025-08-19T18:12:17.543502",
     "exception": false,
     "start_time": "2025-08-19T18:12:17.495127",
     "status": "completed"
    },
    "tags": []
   },
   "outputs": [],
   "source": [
    "colname_to_bin = \"maxdeutsch1\"\n",
    "majority_value = org_train[colname_to_bin].mode()[0]\n",
    "\n",
    "org_test[\"majmin\"] = np.where(org_test[colname_to_bin] == majority_value, \"majority\", \"minority\")"
   ]
  },
  {
   "cell_type": "code",
   "execution_count": 58,
   "id": "17e3e4d5",
   "metadata": {
    "execution": {
     "iopub.execute_input": "2025-08-19T18:12:17.571888Z",
     "iopub.status.busy": "2025-08-19T18:12:17.570896Z",
     "iopub.status.idle": "2025-08-19T18:12:19.287559Z",
     "shell.execute_reply": "2025-08-19T18:12:19.285960Z"
    },
    "papermill": {
     "duration": 1.73236,
     "end_time": "2025-08-19T18:12:19.289490",
     "exception": false,
     "start_time": "2025-08-19T18:12:17.557130",
     "status": "completed"
    },
    "tags": []
   },
   "outputs": [],
   "source": [
    "example_universe = universe.copy()\n",
    "example_universe[\"cutoff\"] = example_universe[\"cutoff\"][0]\n",
    "example_universe[\"eval_fairness_grouping\"] = example_universe[\"eval_fairness_grouping\"][0]\n",
    "fairness_dict, metric_frame = universe_analysis.compute_metrics(\n",
    "    example_universe,\n",
    "    y_pred_prob=probs_test,\n",
    "    y_test=y_true,\n",
    "    org_test=org_test,\n",
    ")"
   ]
  },
  {
   "cell_type": "markdown",
   "id": "1fb7a0e9",
   "metadata": {
    "papermill": {
     "duration": 0.013884,
     "end_time": "2025-08-19T18:12:19.317060",
     "exception": false,
     "start_time": "2025-08-19T18:12:19.303176",
     "status": "completed"
    },
    "tags": []
   },
   "source": [
    "# Overall"
   ]
  },
  {
   "cell_type": "markdown",
   "id": "be1784b1",
   "metadata": {
    "papermill": {
     "duration": 0.01271,
     "end_time": "2025-08-19T18:12:19.342522",
     "exception": false,
     "start_time": "2025-08-19T18:12:19.329812",
     "status": "completed"
    },
    "tags": []
   },
   "source": [
    "Main fairness target: Equalized Odds. Seems to be a better fit than equal opportunity, since we're not only interested in Y = 1. Seems to be a better fit than demographic parity, since we also care about accuracy, not just equal distribution of preds.\n",
    "\n",
    "Pick column for computation of fairness metrics\n",
    "\n",
    "Performance\n",
    "Overall performance measures, most interesting in relation to the measures split by group below"
   ]
  },
  {
   "cell_type": "code",
   "execution_count": 59,
   "id": "b7672bee",
   "metadata": {
    "execution": {
     "iopub.execute_input": "2025-08-19T18:12:19.372626Z",
     "iopub.status.busy": "2025-08-19T18:12:19.370760Z",
     "iopub.status.idle": "2025-08-19T18:12:19.388068Z",
     "shell.execute_reply": "2025-08-19T18:12:19.386978Z"
    },
    "papermill": {
     "duration": 0.043688,
     "end_time": "2025-08-19T18:12:19.399190",
     "exception": false,
     "start_time": "2025-08-19T18:12:19.355502",
     "status": "completed"
    },
    "tags": []
   },
   "outputs": [
    {
     "data": {
      "text/plain": [
       "accuracy                   0.216531\n",
       "balanced accuracy          0.531091\n",
       "f1                         0.238078\n",
       "precision                  0.136006\n",
       "false positive rate        0.892023\n",
       "false negative rate        0.045794\n",
       "selection rate             0.900000\n",
       "count                  89710.000000\n",
       "dtype: float64"
      ]
     },
     "execution_count": 59,
     "metadata": {},
     "output_type": "execute_result"
    }
   ],
   "source": [
    "metric_frame.overall"
   ]
  },
  {
   "cell_type": "markdown",
   "id": "d93333c9",
   "metadata": {
    "papermill": {
     "duration": 0.028387,
     "end_time": "2025-08-19T18:12:19.448238",
     "exception": false,
     "start_time": "2025-08-19T18:12:19.419851",
     "status": "completed"
    },
    "tags": []
   },
   "source": [
    "By Group"
   ]
  },
  {
   "cell_type": "code",
   "execution_count": 60,
   "id": "52256966",
   "metadata": {
    "execution": {
     "iopub.execute_input": "2025-08-19T18:12:19.495968Z",
     "iopub.status.busy": "2025-08-19T18:12:19.495509Z",
     "iopub.status.idle": "2025-08-19T18:12:19.513236Z",
     "shell.execute_reply": "2025-08-19T18:12:19.512285Z"
    },
    "papermill": {
     "duration": 0.033339,
     "end_time": "2025-08-19T18:12:19.514664",
     "exception": false,
     "start_time": "2025-08-19T18:12:19.481325",
     "status": "completed"
    },
    "tags": []
   },
   "outputs": [
    {
     "data": {
      "text/html": [
       "<div>\n",
       "<style scoped>\n",
       "    .dataframe tbody tr th:only-of-type {\n",
       "        vertical-align: middle;\n",
       "    }\n",
       "\n",
       "    .dataframe tbody tr th {\n",
       "        vertical-align: top;\n",
       "    }\n",
       "\n",
       "    .dataframe thead th {\n",
       "        text-align: right;\n",
       "    }\n",
       "</style>\n",
       "<table border=\"1\" class=\"dataframe\">\n",
       "  <thead>\n",
       "    <tr style=\"text-align: right;\">\n",
       "      <th></th>\n",
       "      <th>accuracy</th>\n",
       "      <th>balanced accuracy</th>\n",
       "      <th>f1</th>\n",
       "      <th>precision</th>\n",
       "      <th>false positive rate</th>\n",
       "      <th>false negative rate</th>\n",
       "      <th>selection rate</th>\n",
       "      <th>count</th>\n",
       "    </tr>\n",
       "    <tr>\n",
       "      <th>majmin</th>\n",
       "      <th></th>\n",
       "      <th></th>\n",
       "      <th></th>\n",
       "      <th></th>\n",
       "      <th></th>\n",
       "      <th></th>\n",
       "      <th></th>\n",
       "      <th></th>\n",
       "    </tr>\n",
       "  </thead>\n",
       "  <tbody>\n",
       "    <tr>\n",
       "      <th>majority</th>\n",
       "      <td>0.237921</td>\n",
       "      <td>0.539009</td>\n",
       "      <td>0.247462</td>\n",
       "      <td>0.142299</td>\n",
       "      <td>0.870232</td>\n",
       "      <td>0.051751</td>\n",
       "      <td>0.880541</td>\n",
       "      <td>69170.0</td>\n",
       "    </tr>\n",
       "    <tr>\n",
       "      <th>minority</th>\n",
       "      <td>0.144499</td>\n",
       "      <td>0.506593</td>\n",
       "      <td>0.208468</td>\n",
       "      <td>0.116680</td>\n",
       "      <td>0.964011</td>\n",
       "      <td>0.022804</td>\n",
       "      <td>0.965531</td>\n",
       "      <td>20540.0</td>\n",
       "    </tr>\n",
       "  </tbody>\n",
       "</table>\n",
       "</div>"
      ],
      "text/plain": [
       "          accuracy  balanced accuracy        f1  precision  \\\n",
       "majmin                                                       \n",
       "majority  0.237921           0.539009  0.247462   0.142299   \n",
       "minority  0.144499           0.506593  0.208468   0.116680   \n",
       "\n",
       "          false positive rate  false negative rate  selection rate    count  \n",
       "majmin                                                                       \n",
       "majority             0.870232             0.051751        0.880541  69170.0  \n",
       "minority             0.964011             0.022804        0.965531  20540.0  "
      ]
     },
     "execution_count": 60,
     "metadata": {},
     "output_type": "execute_result"
    }
   ],
   "source": [
    "metric_frame.by_group"
   ]
  },
  {
   "cell_type": "code",
   "execution_count": 61,
   "id": "6e6c20ae",
   "metadata": {
    "execution": {
     "iopub.execute_input": "2025-08-19T18:12:19.545074Z",
     "iopub.status.busy": "2025-08-19T18:12:19.544621Z",
     "iopub.status.idle": "2025-08-19T18:12:21.391559Z",
     "shell.execute_reply": "2025-08-19T18:12:21.390479Z"
    },
    "papermill": {
     "duration": 1.865523,
     "end_time": "2025-08-19T18:12:21.395797",
     "exception": false,
     "start_time": "2025-08-19T18:12:19.530274",
     "status": "completed"
    },
    "tags": []
   },
   "outputs": [
    {
     "data": {
      "text/plain": [
       "array([[<Axes: title={'center': 'accuracy'}, xlabel='majmin'>,\n",
       "        <Axes: title={'center': 'balanced accuracy'}, xlabel='majmin'>,\n",
       "        <Axes: title={'center': 'f1'}, xlabel='majmin'>],\n",
       "       [<Axes: title={'center': 'precision'}, xlabel='majmin'>,\n",
       "        <Axes: title={'center': 'false positive rate'}, xlabel='majmin'>,\n",
       "        <Axes: title={'center': 'false negative rate'}, xlabel='majmin'>],\n",
       "       [<Axes: title={'center': 'selection rate'}, xlabel='majmin'>,\n",
       "        <Axes: title={'center': 'count'}, xlabel='majmin'>,\n",
       "        <Axes: xlabel='majmin'>]], dtype=object)"
      ]
     },
     "execution_count": 61,
     "metadata": {},
     "output_type": "execute_result"
    },
    {
     "data": {
      "image/png": "[encoded data removed]",
      "text/plain": [
       "<Figure size 1200x800 with 9 Axes>"
      ]
     },
     "metadata": {},
     "output_type": "display_data"
    }
   ],
   "source": [
    "# In a graphic\n",
    "metric_frame.by_group.plot.bar(\n",
    "    subplots=True,\n",
    "    layout=[3, 3],\n",
    "    legend=False,\n",
    "    figsize=[12, 8],\n",
    "    title=\"Show all metrics\",\n",
    ")"
   ]
  },
  {
   "cell_type": "markdown",
   "id": "b2e433ae",
   "metadata": {
    "papermill": {
     "duration": 0.01381,
     "end_time": "2025-08-19T18:12:21.441194",
     "exception": false,
     "start_time": "2025-08-19T18:12:21.427384",
     "status": "completed"
    },
    "tags": []
   },
   "source": [
    "# Final Output"
   ]
  },
  {
   "cell_type": "code",
   "execution_count": 62,
   "id": "3871301e",
   "metadata": {
    "execution": {
     "iopub.execute_input": "2025-08-19T18:12:21.471758Z",
     "iopub.status.busy": "2025-08-19T18:12:21.470456Z",
     "iopub.status.idle": "2025-08-19T18:12:21.482615Z",
     "shell.execute_reply": "2025-08-19T18:12:21.481751Z"
    },
    "papermill": {
     "duration": 0.028887,
     "end_time": "2025-08-19T18:12:21.484130",
     "exception": false,
     "start_time": "2025-08-19T18:12:21.455243",
     "status": "completed"
    },
    "tags": []
   },
   "outputs": [
    {
     "data": {
      "text/plain": [
       "4"
      ]
     },
     "execution_count": 62,
     "metadata": {},
     "output_type": "execute_result"
    }
   ],
   "source": [
    "sub_universes = universe_analysis.generate_sub_universes()\n",
    "len(sub_universes)"
   ]
  },
  {
   "cell_type": "code",
   "execution_count": 63,
   "id": "d9cfdaca",
   "metadata": {
    "execution": {
     "iopub.execute_input": "2025-08-19T18:12:21.521114Z",
     "iopub.status.busy": "2025-08-19T18:12:21.519858Z",
     "iopub.status.idle": "2025-08-19T18:12:21.528758Z",
     "shell.execute_reply": "2025-08-19T18:12:21.527487Z"
    },
    "papermill": {
     "duration": 0.026396,
     "end_time": "2025-08-19T18:12:21.530295",
     "exception": false,
     "start_time": "2025-08-19T18:12:21.503899",
     "status": "completed"
    },
    "tags": []
   },
   "outputs": [],
   "source": [
    "def filter_sub_universe_data(sub_universe, org_test):\n",
    "    # Keep all rows — no filtering\n",
    "    keep_rows_mask = np.ones(org_test.shape[0], dtype=bool)\n",
    "\n",
    "    print(f\"[INFO] Keeping all rows: {keep_rows_mask.sum()} rows retained.\")\n",
    "    return keep_rows_mask"
   ]
  },
  {
   "cell_type": "code",
   "execution_count": 64,
   "id": "2bc31ac1",
   "metadata": {
    "execution": {
     "iopub.execute_input": "2025-08-19T18:12:21.563170Z",
     "iopub.status.busy": "2025-08-19T18:12:21.562265Z",
     "iopub.status.idle": "2025-08-19T18:12:28.275520Z",
     "shell.execute_reply": "2025-08-19T18:12:28.274532Z"
    },
    "papermill": {
     "duration": 6.731889,
     "end_time": "2025-08-19T18:12:28.279000",
     "exception": false,
     "start_time": "2025-08-19T18:12:21.547111",
     "status": "completed"
    },
    "tags": []
   },
   "outputs": [
    {
     "name": "stdout",
     "output_type": "stream",
     "text": [
      "Stopping execution_time clock.\n",
      "[INFO] Keeping all rows: 89710 rows retained.\n"
     ]
    },
    {
     "name": "stdout",
     "output_type": "stream",
     "text": [
      "[INFO] Keeping all rows: 89710 rows retained.\n"
     ]
    },
    {
     "name": "stdout",
     "output_type": "stream",
     "text": [
      "[INFO] Keeping all rows: 89710 rows retained.\n"
     ]
    },
    {
     "name": "stdout",
     "output_type": "stream",
     "text": [
      "[INFO] Keeping all rows: 89710 rows retained.\n"
     ]
    },
    {
     "data": {
      "text/html": [
       "<div>\n",
       "<style scoped>\n",
       "    .dataframe tbody tr th:only-of-type {\n",
       "        vertical-align: middle;\n",
       "    }\n",
       "\n",
       "    .dataframe tbody tr th {\n",
       "        vertical-align: top;\n",
       "    }\n",
       "\n",
       "    .dataframe thead th {\n",
       "        text-align: right;\n",
       "    }\n",
       "</style>\n",
       "<table border=\"1\" class=\"dataframe\">\n",
       "  <thead>\n",
       "    <tr style=\"text-align: right;\">\n",
       "      <th></th>\n",
       "      <th>run_no</th>\n",
       "      <th>universe_id</th>\n",
       "      <th>universe_settings</th>\n",
       "      <th>execution_time</th>\n",
       "      <th>test_size_n</th>\n",
       "      <th>test_size_frac</th>\n",
       "      <th>fair_main_equalized_odds_difference</th>\n",
       "      <th>fair_main_equalized_odds_ratio</th>\n",
       "      <th>fair_main_demographic_parity_difference</th>\n",
       "      <th>fair_main_demographic_parity_ratio</th>\n",
       "      <th>...</th>\n",
       "      <th>perf_grp_precision_0</th>\n",
       "      <th>perf_grp_precision_1</th>\n",
       "      <th>perf_grp_false positive rate_0</th>\n",
       "      <th>perf_grp_false positive rate_1</th>\n",
       "      <th>perf_grp_false negative rate_0</th>\n",
       "      <th>perf_grp_false negative rate_1</th>\n",
       "      <th>perf_grp_selection rate_0</th>\n",
       "      <th>perf_grp_selection rate_1</th>\n",
       "      <th>perf_grp_count_0</th>\n",
       "      <th>perf_grp_count_1</th>\n",
       "    </tr>\n",
       "  </thead>\n",
       "  <tbody>\n",
       "    <tr>\n",
       "      <th>0</th>\n",
       "      <td>3</td>\n",
       "      <td>5837ff14c57c17ab63149c10727dcb0e</td>\n",
       "      <td>{\"cutoff\": \"quantile_0.1\", \"eval_fairness_grou...</td>\n",
       "      <td>27.00221</td>\n",
       "      <td>89710</td>\n",
       "      <td>1.0</td>\n",
       "      <td>0.093779</td>\n",
       "      <td>0.902720</td>\n",
       "      <td>0.084990</td>\n",
       "      <td>0.911976</td>\n",
       "      <td>...</td>\n",
       "      <td>NaN</td>\n",
       "      <td>NaN</td>\n",
       "      <td>NaN</td>\n",
       "      <td>NaN</td>\n",
       "      <td>NaN</td>\n",
       "      <td>NaN</td>\n",
       "      <td>NaN</td>\n",
       "      <td>NaN</td>\n",
       "      <td>NaN</td>\n",
       "      <td>NaN</td>\n",
       "    </tr>\n",
       "    <tr>\n",
       "      <th>0</th>\n",
       "      <td>3</td>\n",
       "      <td>5837ff14c57c17ab63149c10727dcb0e</td>\n",
       "      <td>{\"cutoff\": \"quantile_0.1\", \"eval_fairness_grou...</td>\n",
       "      <td>27.00221</td>\n",
       "      <td>89710</td>\n",
       "      <td>1.0</td>\n",
       "      <td>0.093779</td>\n",
       "      <td>0.902720</td>\n",
       "      <td>0.084990</td>\n",
       "      <td>0.911976</td>\n",
       "      <td>...</td>\n",
       "      <td>0.116680</td>\n",
       "      <td>0.142299</td>\n",
       "      <td>0.964011</td>\n",
       "      <td>0.870232</td>\n",
       "      <td>0.022804</td>\n",
       "      <td>0.051751</td>\n",
       "      <td>0.965531</td>\n",
       "      <td>0.880541</td>\n",
       "      <td>20540.0</td>\n",
       "      <td>69170.0</td>\n",
       "    </tr>\n",
       "    <tr>\n",
       "      <th>0</th>\n",
       "      <td>3</td>\n",
       "      <td>5837ff14c57c17ab63149c10727dcb0e</td>\n",
       "      <td>{\"cutoff\": \"quantile_0.25\", \"eval_fairness_gro...</td>\n",
       "      <td>27.00221</td>\n",
       "      <td>89710</td>\n",
       "      <td>1.0</td>\n",
       "      <td>0.223521</td>\n",
       "      <td>0.753005</td>\n",
       "      <td>0.207115</td>\n",
       "      <td>0.772323</td>\n",
       "      <td>...</td>\n",
       "      <td>NaN</td>\n",
       "      <td>NaN</td>\n",
       "      <td>NaN</td>\n",
       "      <td>NaN</td>\n",
       "      <td>NaN</td>\n",
       "      <td>NaN</td>\n",
       "      <td>NaN</td>\n",
       "      <td>NaN</td>\n",
       "      <td>NaN</td>\n",
       "      <td>NaN</td>\n",
       "    </tr>\n",
       "    <tr>\n",
       "      <th>0</th>\n",
       "      <td>3</td>\n",
       "      <td>5837ff14c57c17ab63149c10727dcb0e</td>\n",
       "      <td>{\"cutoff\": \"quantile_0.25\", \"eval_fairness_gro...</td>\n",
       "      <td>27.00221</td>\n",
       "      <td>89710</td>\n",
       "      <td>1.0</td>\n",
       "      <td>0.223521</td>\n",
       "      <td>0.753005</td>\n",
       "      <td>0.207115</td>\n",
       "      <td>0.772323</td>\n",
       "      <td>...</td>\n",
       "      <td>0.119882</td>\n",
       "      <td>0.158240</td>\n",
       "      <td>0.904964</td>\n",
       "      <td>0.681443</td>\n",
       "      <td>0.054054</td>\n",
       "      <td>0.158643</td>\n",
       "      <td>0.909688</td>\n",
       "      <td>0.702573</td>\n",
       "      <td>20540.0</td>\n",
       "      <td>69170.0</td>\n",
       "    </tr>\n",
       "  </tbody>\n",
       "</table>\n",
       "<p>4 rows × 50 columns</p>\n",
       "</div>"
      ],
      "text/plain": [
       "  run_no                       universe_id  \\\n",
       "0      3  5837ff14c57c17ab63149c10727dcb0e   \n",
       "0      3  5837ff14c57c17ab63149c10727dcb0e   \n",
       "0      3  5837ff14c57c17ab63149c10727dcb0e   \n",
       "0      3  5837ff14c57c17ab63149c10727dcb0e   \n",
       "\n",
       "                                   universe_settings  execution_time  \\\n",
       "0  {\"cutoff\": \"quantile_0.1\", \"eval_fairness_grou...        27.00221   \n",
       "0  {\"cutoff\": \"quantile_0.1\", \"eval_fairness_grou...        27.00221   \n",
       "0  {\"cutoff\": \"quantile_0.25\", \"eval_fairness_gro...        27.00221   \n",
       "0  {\"cutoff\": \"quantile_0.25\", \"eval_fairness_gro...        27.00221   \n",
       "\n",
       "   test_size_n  test_size_frac  fair_main_equalized_odds_difference  \\\n",
       "0        89710             1.0                             0.093779   \n",
       "0        89710             1.0                             0.093779   \n",
       "0        89710             1.0                             0.223521   \n",
       "0        89710             1.0                             0.223521   \n",
       "\n",
       "   fair_main_equalized_odds_ratio  fair_main_demographic_parity_difference  \\\n",
       "0                        0.902720                                 0.084990   \n",
       "0                        0.902720                                 0.084990   \n",
       "0                        0.753005                                 0.207115   \n",
       "0                        0.753005                                 0.207115   \n",
       "\n",
       "   fair_main_demographic_parity_ratio  ...  perf_grp_precision_0  \\\n",
       "0                            0.911976  ...                   NaN   \n",
       "0                            0.911976  ...              0.116680   \n",
       "0                            0.772323  ...                   NaN   \n",
       "0                            0.772323  ...              0.119882   \n",
       "\n",
       "   perf_grp_precision_1  perf_grp_false positive rate_0  \\\n",
       "0                   NaN                             NaN   \n",
       "0              0.142299                        0.964011   \n",
       "0                   NaN                             NaN   \n",
       "0              0.158240                        0.904964   \n",
       "\n",
       "   perf_grp_false positive rate_1  perf_grp_false negative rate_0  \\\n",
       "0                             NaN                             NaN   \n",
       "0                        0.870232                        0.022804   \n",
       "0                             NaN                             NaN   \n",
       "0                        0.681443                        0.054054   \n",
       "\n",
       "   perf_grp_false negative rate_1  perf_grp_selection rate_0  \\\n",
       "0                             NaN                        NaN   \n",
       "0                        0.051751                   0.965531   \n",
       "0                             NaN                        NaN   \n",
       "0                        0.158643                   0.909688   \n",
       "\n",
       "   perf_grp_selection rate_1  perf_grp_count_0  perf_grp_count_1  \n",
       "0                        NaN               NaN               NaN  \n",
       "0                   0.880541           20540.0           69170.0  \n",
       "0                        NaN               NaN               NaN  \n",
       "0                   0.702573           20540.0           69170.0  \n",
       "\n",
       "[4 rows x 50 columns]"
      ]
     },
     "execution_count": 64,
     "metadata": {},
     "output_type": "execute_result"
    }
   ],
   "source": [
    "final_output = universe_analysis.generate_final_output(\n",
    "    y_pred_prob=probs_test,\n",
    "    y_test=y_true,\n",
    "    org_test=org_test,\n",
    "    filter_data=filter_sub_universe_data,\n",
    "    cp_metrics_df=cp_metrics_df,\n",
    "    save=True,\n",
    ")\n",
    "final_output"
   ]
  },
  {
   "cell_type": "code",
   "execution_count": null,
   "id": "8b80a1ff",
   "metadata": {
    "papermill": {
     "duration": 0.032293,
     "end_time": "2025-08-19T18:12:28.352562",
     "exception": false,
     "start_time": "2025-08-19T18:12:28.320269",
     "status": "completed"
    },
    "tags": []
   },
   "outputs": [],
   "source": []
  },
  {
   "cell_type": "code",
   "execution_count": null,
   "id": "275c9fad",
   "metadata": {
    "papermill": {
     "duration": 0.014268,
     "end_time": "2025-08-19T18:12:28.381250",
     "exception": false,
     "start_time": "2025-08-19T18:12:28.366982",
     "status": "completed"
    },
    "tags": []
   },
   "outputs": [],
   "source": []
  }
 ],
 "metadata": {
  "celltoolbar": "Tags",
  "kernelspec": {
   "display_name": "Python (CMA Fairness)",
   "language": "python",
   "name": "cma_fair_env"
  },
  "language_info": {
   "codemirror_mode": {
    "name": "ipython",
    "version": 3
   },
   "file_extension": ".py",
   "mimetype": "text/x-python",
   "name": "python",
   "nbconvert_exporter": "python",
   "pygments_lexer": "ipython3",
   "version": "3.10.12"
  },
  "papermill": {
   "default_parameters": {},
   "duration": 37.371559,
   "end_time": "2025-08-19T18:12:29.217437",
   "environment_variables": {},
   "exception": null,
   "input_path": "universe_analysis.ipynb",
   "output_path": "output/runs/3/notebooks/m_3-5837ff14c57c17ab63149c10727dcb0e.ipynb",
   "parameters": {
    "output_dir": "output",
    "run_no": "3",
    "seed": "2023",
    "universe": "{\"cutoff\": [\"quantile_0.1\", \"quantile_0.25\"], \"eval_fairness_grouping\": [\"majority-minority\", \"nationality-all\"], \"exclude_features\": \"nationality\", \"exclude_subgroups\": \"keep-all\", \"model\": \"elasticnet\", \"scale\": \"do-not-scale\", \"training_size\": \"25k\", \"training_year\": \"2012_14\"}",
    "universe_id": "5837ff14c57c17ab63149c10727dcb0e"
   },
   "start_time": "2025-08-19T18:11:51.845878",
   "version": "2.6.0"
  }
 },
 "nbformat": 4,
 "nbformat_minor": 5
}