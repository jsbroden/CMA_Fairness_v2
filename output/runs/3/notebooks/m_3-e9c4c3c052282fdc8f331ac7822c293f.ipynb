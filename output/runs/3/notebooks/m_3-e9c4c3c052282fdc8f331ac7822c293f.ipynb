{
 "cells": [
  {
   "cell_type": "markdown",
   "id": "ef23dbb3",
   "metadata": {
    "papermill": {
     "duration": 0.024125,
     "end_time": "2025-08-19T18:49:15.596367",
     "exception": false,
     "start_time": "2025-08-19T18:49:15.572242",
     "status": "completed"
    },
    "tags": []
   },
   "source": [
    "# Setup"
   ]
  },
  {
   "cell_type": "code",
   "execution_count": 1,
   "id": "0bc8e7dc",
   "metadata": {
    "execution": {
     "iopub.execute_input": "2025-08-19T18:49:15.618604Z",
     "iopub.status.busy": "2025-08-19T18:49:15.618291Z",
     "iopub.status.idle": "2025-08-19T18:49:15.629560Z",
     "shell.execute_reply": "2025-08-19T18:49:15.628701Z"
    },
    "papermill": {
     "duration": 0.023964,
     "end_time": "2025-08-19T18:49:15.632452",
     "exception": false,
     "start_time": "2025-08-19T18:49:15.608488",
     "status": "completed"
    },
    "tags": []
   },
   "outputs": [
    {
     "name": "stdout",
     "output_type": "stream",
     "text": [
      "/dss/dsshome1/0C/ra93lal2/cma/CMA_Fairness_v2\n"
     ]
    },
    {
     "name": "stderr",
     "output_type": "stream",
     "text": [
      "/dss/dsshome1/0C/ra93lal2/.local/share/virtualenvs/CMA_Fairness_v2-3j10GkSs/lib/python3.10/site-packages/IPython/core/magics/osm.py:393: UserWarning: This is now an optional IPython functionality, using bookmarks requires you to install the `pickleshare` library.\n",
      "  bkms = self.shell.db.get('bookmarks', {})\n",
      "/dss/dsshome1/0C/ra93lal2/.local/share/virtualenvs/CMA_Fairness_v2-3j10GkSs/lib/python3.10/site-packages/IPython/core/magics/osm.py:417: UserWarning: This is now an optional IPython functionality, setting dhist requires you to install the `pickleshare` library.\n",
      "  self.shell.db['dhist'] = compress_dhist(dhist)[-100:]\n"
     ]
    }
   ],
   "source": [
    "%cd ~/cma/CMA_Fairness_v2"
   ]
  },
  {
   "cell_type": "markdown",
   "id": "9d235661",
   "metadata": {
    "papermill": {
     "duration": 0.008523,
     "end_time": "2025-08-19T18:49:15.649913",
     "exception": false,
     "start_time": "2025-08-19T18:49:15.641390",
     "status": "completed"
    },
    "tags": []
   },
   "source": [
    "The following cell holds the definition of our parameters, these values can be overriden by rendering the with e.g. the following command:\n",
    "\n",
    "papermill -p alpha 0.2 -p ratio 0.3 universe_analysis.ipynb output/test_run.ipynb"
   ]
  },
  {
   "cell_type": "code",
   "execution_count": 2,
   "id": "4a789d8e",
   "metadata": {
    "execution": {
     "iopub.execute_input": "2025-08-19T18:49:15.668111Z",
     "iopub.status.busy": "2025-08-19T18:49:15.667853Z",
     "iopub.status.idle": "2025-08-19T18:49:15.672410Z",
     "shell.execute_reply": "2025-08-19T18:49:15.671644Z"
    },
    "papermill": {
     "duration": 0.015134,
     "end_time": "2025-08-19T18:49:15.673847",
     "exception": false,
     "start_time": "2025-08-19T18:49:15.658713",
     "status": "completed"
    },
    "tags": []
   },
   "outputs": [
    {
     "name": "stdout",
     "output_type": "stream",
     "text": [
      "Current working directory: /dss/dsshome1/0C/ra93lal2/cma/CMA_Fairness_v2\n"
     ]
    }
   ],
   "source": [
    "import os\n",
    "print(\"Current working directory:\", os.getcwd())"
   ]
  },
  {
   "cell_type": "code",
   "execution_count": 3,
   "id": "4132aaed",
   "metadata": {
    "execution": {
     "iopub.execute_input": "2025-08-19T18:49:15.693039Z",
     "iopub.status.busy": "2025-08-19T18:49:15.692738Z",
     "iopub.status.idle": "2025-08-19T18:49:15.697800Z",
     "shell.execute_reply": "2025-08-19T18:49:15.696965Z"
    },
    "papermill": {
     "duration": 0.018103,
     "end_time": "2025-08-19T18:49:15.700506",
     "exception": false,
     "start_time": "2025-08-19T18:49:15.682403",
     "status": "completed"
    },
    "tags": [
     "parameters"
    ]
   },
   "outputs": [],
   "source": [
    "run_no = 0\n",
    "universe_id = \"test\"\n",
    "universe = {\n",
    "    \"training_size\": \"5k\", # \"25k\", \"5k\", \"1k\"\n",
    "    \"training_year\": \"2012_14\", # \"2014\", \"2012_14\", \"2010_14\"\n",
    "    \"scale\": \"scale\", # \"scale\", \"do-not-scale\",\n",
    "    \"model\": \"elasticnet\", # \"logreg\", \"penalized_logreg\", \"rf\", \"gbm\", \"elasticnet\"\n",
    "    \"cutoff\": [\"quantile_0.15\", \"quantile_0.30\"],\n",
    "    \"exclude_features\": \"age\", # \"none\", \"nationality\", \"sex\", \"nationality-sex\", \"age\"\n",
    "    \"exclude_subgroups\": \"drop-non-german\", # \"keep-all\", \"drop-non-german\"\n",
    "    \"eval_fairness_grouping\": [\"majority-minority\", \"nationality-all\"]\n",
    "}\n",
    "\n",
    "output_dir=\"./output\"\n",
    "seed=0"
   ]
  },
  {
   "cell_type": "code",
   "execution_count": 4,
   "id": "34720b73",
   "metadata": {
    "execution": {
     "iopub.execute_input": "2025-08-19T18:49:15.726942Z",
     "iopub.status.busy": "2025-08-19T18:49:15.726472Z",
     "iopub.status.idle": "2025-08-19T18:49:15.732783Z",
     "shell.execute_reply": "2025-08-19T18:49:15.731611Z"
    },
    "papermill": {
     "duration": 0.021059,
     "end_time": "2025-08-19T18:49:15.736407",
     "exception": false,
     "start_time": "2025-08-19T18:49:15.715348",
     "status": "completed"
    },
    "tags": [
     "injected-parameters"
    ]
   },
   "outputs": [],
   "source": [
    "# Parameters\n",
    "universe_id = \"e9c4c3c052282fdc8f331ac7822c293f\"\n",
    "run_no = \"3\"\n",
    "universe = \"{\\\"cutoff\\\": [\\\"quantile_0.1\\\", \\\"quantile_0.25\\\"], \\\"eval_fairness_grouping\\\": [\\\"majority-minority\\\", \\\"nationality-all\\\"], \\\"exclude_features\\\": \\\"age\\\", \\\"exclude_subgroups\\\": \\\"drop-non-german\\\", \\\"model\\\": \\\"logreg\\\", \\\"scale\\\": \\\"scale\\\", \\\"training_size\\\": \\\"1k\\\", \\\"training_year\\\": \\\"2014\\\"}\"\n",
    "output_dir = \"output\"\n",
    "seed = \"2023\"\n"
   ]
  },
  {
   "cell_type": "code",
   "execution_count": 5,
   "id": "a5d7941f",
   "metadata": {
    "execution": {
     "iopub.execute_input": "2025-08-19T18:49:15.780740Z",
     "iopub.status.busy": "2025-08-19T18:49:15.780395Z",
     "iopub.status.idle": "2025-08-19T18:49:15.784557Z",
     "shell.execute_reply": "2025-08-19T18:49:15.783922Z"
    },
    "papermill": {
     "duration": 0.026064,
     "end_time": "2025-08-19T18:49:15.785996",
     "exception": false,
     "start_time": "2025-08-19T18:49:15.759932",
     "status": "completed"
    },
    "tags": []
   },
   "outputs": [],
   "source": [
    "import json\n",
    "if isinstance(universe, str):\n",
    "    universe = json.loads(universe)"
   ]
  },
  {
   "cell_type": "code",
   "execution_count": 6,
   "id": "7076ccb1",
   "metadata": {
    "execution": {
     "iopub.execute_input": "2025-08-19T18:49:15.809002Z",
     "iopub.status.busy": "2025-08-19T18:49:15.808202Z",
     "iopub.status.idle": "2025-08-19T18:49:15.848897Z",
     "shell.execute_reply": "2025-08-19T18:49:15.848257Z"
    },
    "papermill": {
     "duration": 0.067152,
     "end_time": "2025-08-19T18:49:15.865071",
     "exception": false,
     "start_time": "2025-08-19T18:49:15.797919",
     "status": "completed"
    },
    "tags": []
   },
   "outputs": [],
   "source": [
    "# Auto-reload the custom package\n",
    "%load_ext autoreload\n",
    "%autoreload 1\n",
    "%aimport fairness_multiverse"
   ]
  },
  {
   "cell_type": "code",
   "execution_count": 7,
   "id": "94c8eb93",
   "metadata": {
    "execution": {
     "iopub.execute_input": "2025-08-19T18:49:15.895065Z",
     "iopub.status.busy": "2025-08-19T18:49:15.894768Z",
     "iopub.status.idle": "2025-08-19T18:49:17.407510Z",
     "shell.execute_reply": "2025-08-19T18:49:17.406767Z"
    },
    "papermill": {
     "duration": 1.5295,
     "end_time": "2025-08-19T18:49:17.409067",
     "exception": false,
     "start_time": "2025-08-19T18:49:15.879567",
     "status": "completed"
    },
    "tags": []
   },
   "outputs": [],
   "source": [
    "from fairness_multiverse.universe import UniverseAnalysis\n",
    "\n",
    "universe_analysis = UniverseAnalysis(\n",
    "    run_no = run_no,\n",
    "    universe_id = universe_id,\n",
    "    universe = universe,\n",
    "    output_dir=output_dir,\n",
    ")"
   ]
  },
  {
   "cell_type": "code",
   "execution_count": 8,
   "id": "2a6381cf",
   "metadata": {
    "execution": {
     "iopub.execute_input": "2025-08-19T18:49:17.429584Z",
     "iopub.status.busy": "2025-08-19T18:49:17.428876Z",
     "iopub.status.idle": "2025-08-19T18:49:17.436145Z",
     "shell.execute_reply": "2025-08-19T18:49:17.435096Z"
    },
    "papermill": {
     "duration": 0.018563,
     "end_time": "2025-08-19T18:49:17.437374",
     "exception": false,
     "start_time": "2025-08-19T18:49:17.418811",
     "status": "completed"
    },
    "tags": []
   },
   "outputs": [
    {
     "name": "stdout",
     "output_type": "stream",
     "text": [
      "Using Seed: 2023\n"
     ]
    }
   ],
   "source": [
    "import numpy as np\n",
    "parsed_seed = int(seed)\n",
    "np.random.seed(parsed_seed)\n",
    "print(f\"Using Seed: {parsed_seed}\")"
   ]
  },
  {
   "cell_type": "markdown",
   "id": "b6e958b4",
   "metadata": {
    "papermill": {
     "duration": 0.008938,
     "end_time": "2025-08-19T18:49:17.457428",
     "exception": false,
     "start_time": "2025-08-19T18:49:17.448490",
     "status": "completed"
    },
    "tags": []
   },
   "source": [
    "# Loading Data"
   ]
  },
  {
   "cell_type": "code",
   "execution_count": 9,
   "id": "98701482",
   "metadata": {
    "execution": {
     "iopub.execute_input": "2025-08-19T18:49:17.478653Z",
     "iopub.status.busy": "2025-08-19T18:49:17.477639Z",
     "iopub.status.idle": "2025-08-19T18:49:27.441570Z",
     "shell.execute_reply": "2025-08-19T18:49:27.440579Z"
    },
    "papermill": {
     "duration": 9.976719,
     "end_time": "2025-08-19T18:49:27.443523",
     "exception": false,
     "start_time": "2025-08-19T18:49:17.466804",
     "status": "completed"
    },
    "tags": []
   },
   "outputs": [
    {
     "name": "stdout",
     "output_type": "stream",
     "text": [
      "Loading SIAB data from cache: data/siab_cached.csv.gz\n"
     ]
    },
    {
     "name": "stdout",
     "output_type": "stream",
     "text": [
      "(643690, 164)\n"
     ]
    }
   ],
   "source": [
    "from pathlib import Path\n",
    "import pandas as pd\n",
    "\n",
    "# File paths\n",
    "raw_file = Path(\"data/raw/siab.csv\")\n",
    "cache_file = Path(\"data/siab_cached.csv.gz\")\n",
    "\n",
    "# Ensure cache directory exists\n",
    "cache_file.parent.mkdir(parents=True, exist_ok=True)\n",
    "\n",
    "# Load with simple caching\n",
    "if cache_file.exists():\n",
    "    print(f\"Loading SIAB data from cache: {cache_file}\")\n",
    "    siab = pd.read_csv(cache_file, compression='gzip')\n",
    "else:\n",
    "    print(f\"Cache not found. Reading raw SIAB data: {raw_file}\")\n",
    "    siab = pd.read_csv(raw_file)\n",
    "    siab.to_csv(cache_file, index=False, compression='gzip')\n",
    "    print(f\"Cached SIAB data to: {cache_file}\")\n",
    "\n",
    "print(siab.shape)"
   ]
  },
  {
   "cell_type": "code",
   "execution_count": 10,
   "id": "058d2abb",
   "metadata": {
    "execution": {
     "iopub.execute_input": "2025-08-19T18:49:27.476685Z",
     "iopub.status.busy": "2025-08-19T18:49:27.476181Z",
     "iopub.status.idle": "2025-08-19T18:49:27.662911Z",
     "shell.execute_reply": "2025-08-19T18:49:27.661939Z"
    },
    "papermill": {
     "duration": 0.204375,
     "end_time": "2025-08-19T18:49:27.664215",
     "exception": false,
     "start_time": "2025-08-19T18:49:27.459840",
     "status": "completed"
    },
    "tags": []
   },
   "outputs": [
    {
     "data": {
      "text/html": [
       "<div>\n",
       "<style scoped>\n",
       "    .dataframe tbody tr th:only-of-type {\n",
       "        vertical-align: middle;\n",
       "    }\n",
       "\n",
       "    .dataframe tbody tr th {\n",
       "        vertical-align: top;\n",
       "    }\n",
       "\n",
       "    .dataframe thead th {\n",
       "        text-align: right;\n",
       "    }\n",
       "</style>\n",
       "<table border=\"1\" class=\"dataframe\">\n",
       "  <thead>\n",
       "    <tr style=\"text-align: right;\">\n",
       "      <th></th>\n",
       "      <th>persnr</th>\n",
       "      <th>year</th>\n",
       "      <th>nrEntry</th>\n",
       "      <th>ltue</th>\n",
       "      <th>employed_before</th>\n",
       "      <th>receipt_leh_before</th>\n",
       "      <th>receipt_lhg_before</th>\n",
       "      <th>se_before</th>\n",
       "      <th>ASU_notue_seeking_before</th>\n",
       "      <th>ASU_other_before</th>\n",
       "      <th>...</th>\n",
       "      <th>minijob_tot_dur_byage</th>\n",
       "      <th>ft_tot_dur_byage</th>\n",
       "      <th>befrist_tot_dur_byage</th>\n",
       "      <th>leih_tot_dur_byage</th>\n",
       "      <th>LHG_tot_dur_byage</th>\n",
       "      <th>LEH_tot_dur_byage</th>\n",
       "      <th>almp_tot_dur_byage</th>\n",
       "      <th>almp_aw_tot_dur_byage</th>\n",
       "      <th>se_tot_dur_byage</th>\n",
       "      <th>seeking1_tot_dur_byage</th>\n",
       "    </tr>\n",
       "  </thead>\n",
       "  <tbody>\n",
       "    <tr>\n",
       "      <th>0</th>\n",
       "      <td>7</td>\n",
       "      <td>2015</td>\n",
       "      <td>1</td>\n",
       "      <td>0</td>\n",
       "      <td>1</td>\n",
       "      <td>0</td>\n",
       "      <td>0</td>\n",
       "      <td>0</td>\n",
       "      <td>1</td>\n",
       "      <td>0</td>\n",
       "      <td>...</td>\n",
       "      <td>0.000000</td>\n",
       "      <td>0.000000</td>\n",
       "      <td>15.043478</td>\n",
       "      <td>0.000000</td>\n",
       "      <td>0.000000</td>\n",
       "      <td>0.000000</td>\n",
       "      <td>0.000000</td>\n",
       "      <td>0.000000</td>\n",
       "      <td>0.000000</td>\n",
       "      <td>0.000000</td>\n",
       "    </tr>\n",
       "    <tr>\n",
       "      <th>1</th>\n",
       "      <td>18</td>\n",
       "      <td>2010</td>\n",
       "      <td>1</td>\n",
       "      <td>1</td>\n",
       "      <td>0</td>\n",
       "      <td>0</td>\n",
       "      <td>0</td>\n",
       "      <td>0</td>\n",
       "      <td>0</td>\n",
       "      <td>0</td>\n",
       "      <td>...</td>\n",
       "      <td>0.000000</td>\n",
       "      <td>0.000000</td>\n",
       "      <td>0.000000</td>\n",
       "      <td>0.000000</td>\n",
       "      <td>0.000000</td>\n",
       "      <td>0.000000</td>\n",
       "      <td>0.000000</td>\n",
       "      <td>0.000000</td>\n",
       "      <td>0.000000</td>\n",
       "      <td>0.000000</td>\n",
       "    </tr>\n",
       "    <tr>\n",
       "      <th>2</th>\n",
       "      <td>18</td>\n",
       "      <td>2011</td>\n",
       "      <td>2</td>\n",
       "      <td>0</td>\n",
       "      <td>1</td>\n",
       "      <td>0</td>\n",
       "      <td>1</td>\n",
       "      <td>0</td>\n",
       "      <td>1</td>\n",
       "      <td>0</td>\n",
       "      <td>...</td>\n",
       "      <td>2.714286</td>\n",
       "      <td>2.714286</td>\n",
       "      <td>0.000000</td>\n",
       "      <td>0.000000</td>\n",
       "      <td>10.775510</td>\n",
       "      <td>0.000000</td>\n",
       "      <td>8.367347</td>\n",
       "      <td>0.000000</td>\n",
       "      <td>0.000000</td>\n",
       "      <td>9.836735</td>\n",
       "    </tr>\n",
       "    <tr>\n",
       "      <th>3</th>\n",
       "      <td>18</td>\n",
       "      <td>2012</td>\n",
       "      <td>3</td>\n",
       "      <td>0</td>\n",
       "      <td>1</td>\n",
       "      <td>0</td>\n",
       "      <td>1</td>\n",
       "      <td>0</td>\n",
       "      <td>1</td>\n",
       "      <td>0</td>\n",
       "      <td>...</td>\n",
       "      <td>4.200000</td>\n",
       "      <td>4.200000</td>\n",
       "      <td>0.000000</td>\n",
       "      <td>0.000000</td>\n",
       "      <td>12.100000</td>\n",
       "      <td>0.000000</td>\n",
       "      <td>9.400000</td>\n",
       "      <td>0.000000</td>\n",
       "      <td>0.000000</td>\n",
       "      <td>9.960000</td>\n",
       "    </tr>\n",
       "    <tr>\n",
       "      <th>4</th>\n",
       "      <td>18</td>\n",
       "      <td>2012</td>\n",
       "      <td>4</td>\n",
       "      <td>0</td>\n",
       "      <td>1</td>\n",
       "      <td>0</td>\n",
       "      <td>1</td>\n",
       "      <td>0</td>\n",
       "      <td>1</td>\n",
       "      <td>0</td>\n",
       "      <td>...</td>\n",
       "      <td>5.460000</td>\n",
       "      <td>5.460000</td>\n",
       "      <td>0.000000</td>\n",
       "      <td>0.000000</td>\n",
       "      <td>13.360000</td>\n",
       "      <td>0.000000</td>\n",
       "      <td>10.320000</td>\n",
       "      <td>0.000000</td>\n",
       "      <td>0.000000</td>\n",
       "      <td>10.280000</td>\n",
       "    </tr>\n",
       "    <tr>\n",
       "      <th>...</th>\n",
       "      <td>...</td>\n",
       "      <td>...</td>\n",
       "      <td>...</td>\n",
       "      <td>...</td>\n",
       "      <td>...</td>\n",
       "      <td>...</td>\n",
       "      <td>...</td>\n",
       "      <td>...</td>\n",
       "      <td>...</td>\n",
       "      <td>...</td>\n",
       "      <td>...</td>\n",
       "      <td>...</td>\n",
       "      <td>...</td>\n",
       "      <td>...</td>\n",
       "      <td>...</td>\n",
       "      <td>...</td>\n",
       "      <td>...</td>\n",
       "      <td>...</td>\n",
       "      <td>...</td>\n",
       "      <td>...</td>\n",
       "      <td>...</td>\n",
       "    </tr>\n",
       "    <tr>\n",
       "      <th>643685</th>\n",
       "      <td>1827860</td>\n",
       "      <td>2013</td>\n",
       "      <td>1</td>\n",
       "      <td>0</td>\n",
       "      <td>0</td>\n",
       "      <td>0</td>\n",
       "      <td>1</td>\n",
       "      <td>0</td>\n",
       "      <td>0</td>\n",
       "      <td>1</td>\n",
       "      <td>...</td>\n",
       "      <td>0.000000</td>\n",
       "      <td>0.000000</td>\n",
       "      <td>0.000000</td>\n",
       "      <td>0.000000</td>\n",
       "      <td>0.612903</td>\n",
       "      <td>0.000000</td>\n",
       "      <td>0.000000</td>\n",
       "      <td>0.000000</td>\n",
       "      <td>0.000000</td>\n",
       "      <td>0.000000</td>\n",
       "    </tr>\n",
       "    <tr>\n",
       "      <th>643686</th>\n",
       "      <td>1827860</td>\n",
       "      <td>2015</td>\n",
       "      <td>2</td>\n",
       "      <td>1</td>\n",
       "      <td>0</td>\n",
       "      <td>0</td>\n",
       "      <td>1</td>\n",
       "      <td>0</td>\n",
       "      <td>1</td>\n",
       "      <td>0</td>\n",
       "      <td>...</td>\n",
       "      <td>0.000000</td>\n",
       "      <td>0.000000</td>\n",
       "      <td>0.212121</td>\n",
       "      <td>0.212121</td>\n",
       "      <td>17.363636</td>\n",
       "      <td>0.000000</td>\n",
       "      <td>8.909091</td>\n",
       "      <td>0.000000</td>\n",
       "      <td>0.000000</td>\n",
       "      <td>7.121212</td>\n",
       "    </tr>\n",
       "    <tr>\n",
       "      <th>643687</th>\n",
       "      <td>1827860</td>\n",
       "      <td>2016</td>\n",
       "      <td>3</td>\n",
       "      <td>1</td>\n",
       "      <td>0</td>\n",
       "      <td>0</td>\n",
       "      <td>1</td>\n",
       "      <td>1</td>\n",
       "      <td>0</td>\n",
       "      <td>1</td>\n",
       "      <td>...</td>\n",
       "      <td>0.000000</td>\n",
       "      <td>0.000000</td>\n",
       "      <td>0.294118</td>\n",
       "      <td>0.205882</td>\n",
       "      <td>34.705882</td>\n",
       "      <td>0.000000</td>\n",
       "      <td>10.352941</td>\n",
       "      <td>1.705882</td>\n",
       "      <td>1.705882</td>\n",
       "      <td>23.911765</td>\n",
       "    </tr>\n",
       "    <tr>\n",
       "      <th>643688</th>\n",
       "      <td>1827869</td>\n",
       "      <td>2013</td>\n",
       "      <td>1</td>\n",
       "      <td>1</td>\n",
       "      <td>1</td>\n",
       "      <td>0</td>\n",
       "      <td>0</td>\n",
       "      <td>0</td>\n",
       "      <td>1</td>\n",
       "      <td>0</td>\n",
       "      <td>...</td>\n",
       "      <td>0.000000</td>\n",
       "      <td>0.000000</td>\n",
       "      <td>0.000000</td>\n",
       "      <td>0.000000</td>\n",
       "      <td>0.000000</td>\n",
       "      <td>0.525424</td>\n",
       "      <td>0.000000</td>\n",
       "      <td>0.000000</td>\n",
       "      <td>0.000000</td>\n",
       "      <td>0.000000</td>\n",
       "    </tr>\n",
       "    <tr>\n",
       "      <th>643689</th>\n",
       "      <td>1827869</td>\n",
       "      <td>2014</td>\n",
       "      <td>2</td>\n",
       "      <td>0</td>\n",
       "      <td>0</td>\n",
       "      <td>1</td>\n",
       "      <td>0</td>\n",
       "      <td>0</td>\n",
       "      <td>1</td>\n",
       "      <td>0</td>\n",
       "      <td>...</td>\n",
       "      <td>0.000000</td>\n",
       "      <td>0.666667</td>\n",
       "      <td>0.666667</td>\n",
       "      <td>0.000000</td>\n",
       "      <td>0.000000</td>\n",
       "      <td>8.950000</td>\n",
       "      <td>1.033333</td>\n",
       "      <td>0.083333</td>\n",
       "      <td>0.083333</td>\n",
       "      <td>8.133333</td>\n",
       "    </tr>\n",
       "  </tbody>\n",
       "</table>\n",
       "<p>643690 rows × 164 columns</p>\n",
       "</div>"
      ],
      "text/plain": [
       "         persnr  year  nrEntry  ltue  employed_before  receipt_leh_before  \\\n",
       "0             7  2015        1     0                1                   0   \n",
       "1            18  2010        1     1                0                   0   \n",
       "2            18  2011        2     0                1                   0   \n",
       "3            18  2012        3     0                1                   0   \n",
       "4            18  2012        4     0                1                   0   \n",
       "...         ...   ...      ...   ...              ...                 ...   \n",
       "643685  1827860  2013        1     0                0                   0   \n",
       "643686  1827860  2015        2     1                0                   0   \n",
       "643687  1827860  2016        3     1                0                   0   \n",
       "643688  1827869  2013        1     1                1                   0   \n",
       "643689  1827869  2014        2     0                0                   1   \n",
       "\n",
       "        receipt_lhg_before  se_before  ASU_notue_seeking_before  \\\n",
       "0                        0          0                         1   \n",
       "1                        0          0                         0   \n",
       "2                        1          0                         1   \n",
       "3                        1          0                         1   \n",
       "4                        1          0                         1   \n",
       "...                    ...        ...                       ...   \n",
       "643685                   1          0                         0   \n",
       "643686                   1          0                         1   \n",
       "643687                   1          1                         0   \n",
       "643688                   0          0                         1   \n",
       "643689                   0          0                         1   \n",
       "\n",
       "        ASU_other_before  ...  minijob_tot_dur_byage  ft_tot_dur_byage  \\\n",
       "0                      0  ...               0.000000          0.000000   \n",
       "1                      0  ...               0.000000          0.000000   \n",
       "2                      0  ...               2.714286          2.714286   \n",
       "3                      0  ...               4.200000          4.200000   \n",
       "4                      0  ...               5.460000          5.460000   \n",
       "...                  ...  ...                    ...               ...   \n",
       "643685                 1  ...               0.000000          0.000000   \n",
       "643686                 0  ...               0.000000          0.000000   \n",
       "643687                 1  ...               0.000000          0.000000   \n",
       "643688                 0  ...               0.000000          0.000000   \n",
       "643689                 0  ...               0.000000          0.666667   \n",
       "\n",
       "        befrist_tot_dur_byage  leih_tot_dur_byage  LHG_tot_dur_byage  \\\n",
       "0                   15.043478            0.000000           0.000000   \n",
       "1                    0.000000            0.000000           0.000000   \n",
       "2                    0.000000            0.000000          10.775510   \n",
       "3                    0.000000            0.000000          12.100000   \n",
       "4                    0.000000            0.000000          13.360000   \n",
       "...                       ...                 ...                ...   \n",
       "643685               0.000000            0.000000           0.612903   \n",
       "643686               0.212121            0.212121          17.363636   \n",
       "643687               0.294118            0.205882          34.705882   \n",
       "643688               0.000000            0.000000           0.000000   \n",
       "643689               0.666667            0.000000           0.000000   \n",
       "\n",
       "        LEH_tot_dur_byage  almp_tot_dur_byage  almp_aw_tot_dur_byage  \\\n",
       "0                0.000000            0.000000               0.000000   \n",
       "1                0.000000            0.000000               0.000000   \n",
       "2                0.000000            8.367347               0.000000   \n",
       "3                0.000000            9.400000               0.000000   \n",
       "4                0.000000           10.320000               0.000000   \n",
       "...                   ...                 ...                    ...   \n",
       "643685           0.000000            0.000000               0.000000   \n",
       "643686           0.000000            8.909091               0.000000   \n",
       "643687           0.000000           10.352941               1.705882   \n",
       "643688           0.525424            0.000000               0.000000   \n",
       "643689           8.950000            1.033333               0.083333   \n",
       "\n",
       "        se_tot_dur_byage  seeking1_tot_dur_byage  \n",
       "0               0.000000                0.000000  \n",
       "1               0.000000                0.000000  \n",
       "2               0.000000                9.836735  \n",
       "3               0.000000                9.960000  \n",
       "4               0.000000               10.280000  \n",
       "...                  ...                     ...  \n",
       "643685          0.000000                0.000000  \n",
       "643686          0.000000                7.121212  \n",
       "643687          1.705882               23.911765  \n",
       "643688          0.000000                0.000000  \n",
       "643689          0.083333                8.133333  \n",
       "\n",
       "[643690 rows x 164 columns]"
      ]
     },
     "execution_count": 10,
     "metadata": {},
     "output_type": "execute_result"
    }
   ],
   "source": [
    "siab"
   ]
  },
  {
   "cell_type": "markdown",
   "id": "1f87e805",
   "metadata": {
    "papermill": {
     "duration": 0.009517,
     "end_time": "2025-08-19T18:49:27.683611",
     "exception": false,
     "start_time": "2025-08-19T18:49:27.674094",
     "status": "completed"
    },
    "tags": []
   },
   "source": [
    "# Splitting Data and Setting Training Data Size"
   ]
  },
  {
   "cell_type": "code",
   "execution_count": 11,
   "id": "910ae358",
   "metadata": {
    "execution": {
     "iopub.execute_input": "2025-08-19T18:49:27.707796Z",
     "iopub.status.busy": "2025-08-19T18:49:27.704412Z",
     "iopub.status.idle": "2025-08-19T18:49:27.926691Z",
     "shell.execute_reply": "2025-08-19T18:49:27.926002Z"
    },
    "papermill": {
     "duration": 0.235115,
     "end_time": "2025-08-19T18:49:27.928094",
     "exception": false,
     "start_time": "2025-08-19T18:49:27.692979",
     "status": "completed"
    },
    "tags": []
   },
   "outputs": [],
   "source": [
    "from fairness_multiverse.universe import sample_by_year_size\n",
    "\n",
    "siab_train = sample_by_year_size(siab,\n",
    "                               training_year=universe[\"training_year\"],\n",
    "                               training_size=universe[\"training_size\"])"
   ]
  },
  {
   "cell_type": "code",
   "execution_count": 12,
   "id": "919c8ff5",
   "metadata": {
    "execution": {
     "iopub.execute_input": "2025-08-19T18:49:27.950839Z",
     "iopub.status.busy": "2025-08-19T18:49:27.949566Z",
     "iopub.status.idle": "2025-08-19T18:49:27.960108Z",
     "shell.execute_reply": "2025-08-19T18:49:27.959081Z"
    },
    "papermill": {
     "duration": 0.023314,
     "end_time": "2025-08-19T18:49:27.961435",
     "exception": false,
     "start_time": "2025-08-19T18:49:27.938121",
     "status": "completed"
    },
    "tags": []
   },
   "outputs": [
    {
     "data": {
      "text/plain": [
       "(1000, 164)"
      ]
     },
     "execution_count": 12,
     "metadata": {},
     "output_type": "execute_result"
    }
   ],
   "source": [
    "siab_train.shape"
   ]
  },
  {
   "cell_type": "code",
   "execution_count": 13,
   "id": "feb13bf4",
   "metadata": {
    "execution": {
     "iopub.execute_input": "2025-08-19T18:49:27.986851Z",
     "iopub.status.busy": "2025-08-19T18:49:27.985627Z",
     "iopub.status.idle": "2025-08-19T18:49:27.996020Z",
     "shell.execute_reply": "2025-08-19T18:49:27.995328Z"
    },
    "papermill": {
     "duration": 0.023479,
     "end_time": "2025-08-19T18:49:27.997324",
     "exception": false,
     "start_time": "2025-08-19T18:49:27.973845",
     "status": "completed"
    },
    "tags": []
   },
   "outputs": [
    {
     "data": {
      "text/plain": [
       "year\n",
       "2014    1000\n",
       "dtype: int64"
      ]
     },
     "metadata": {},
     "output_type": "display_data"
    }
   ],
   "source": [
    "display(siab_train.groupby(\"year\").size())"
   ]
  },
  {
   "cell_type": "code",
   "execution_count": 14,
   "id": "0997782f",
   "metadata": {
    "execution": {
     "iopub.execute_input": "2025-08-19T18:49:28.018844Z",
     "iopub.status.busy": "2025-08-19T18:49:28.018455Z",
     "iopub.status.idle": "2025-08-19T18:49:28.242277Z",
     "shell.execute_reply": "2025-08-19T18:49:28.241585Z"
    },
    "papermill": {
     "duration": 0.236139,
     "end_time": "2025-08-19T18:49:28.243684",
     "exception": false,
     "start_time": "2025-08-19T18:49:28.007545",
     "status": "completed"
    },
    "tags": []
   },
   "outputs": [],
   "source": [
    "#siab_train = siab_s[siab_s.year < 2015]\n",
    "siab_calib = siab[siab.year == 2015]\n",
    "siab_test = siab[siab.year == 2016]"
   ]
  },
  {
   "cell_type": "code",
   "execution_count": 15,
   "id": "2c1e4012",
   "metadata": {
    "execution": {
     "iopub.execute_input": "2025-08-19T18:49:28.264917Z",
     "iopub.status.busy": "2025-08-19T18:49:28.264635Z",
     "iopub.status.idle": "2025-08-19T18:49:28.268457Z",
     "shell.execute_reply": "2025-08-19T18:49:28.267857Z"
    },
    "papermill": {
     "duration": 0.015723,
     "end_time": "2025-08-19T18:49:28.269697",
     "exception": false,
     "start_time": "2025-08-19T18:49:28.253974",
     "status": "completed"
    },
    "tags": []
   },
   "outputs": [],
   "source": [
    "#siab_calib.shape"
   ]
  },
  {
   "cell_type": "code",
   "execution_count": 16,
   "id": "f66b54ca",
   "metadata": {
    "execution": {
     "iopub.execute_input": "2025-08-19T18:49:28.290495Z",
     "iopub.status.busy": "2025-08-19T18:49:28.290130Z",
     "iopub.status.idle": "2025-08-19T18:49:28.294110Z",
     "shell.execute_reply": "2025-08-19T18:49:28.293373Z"
    },
    "papermill": {
     "duration": 0.015866,
     "end_time": "2025-08-19T18:49:28.295405",
     "exception": false,
     "start_time": "2025-08-19T18:49:28.279539",
     "status": "completed"
    },
    "tags": []
   },
   "outputs": [],
   "source": [
    "#siab_test.shape"
   ]
  },
  {
   "cell_type": "code",
   "execution_count": 17,
   "id": "27e4384d",
   "metadata": {
    "execution": {
     "iopub.execute_input": "2025-08-19T18:49:28.316707Z",
     "iopub.status.busy": "2025-08-19T18:49:28.316314Z",
     "iopub.status.idle": "2025-08-19T18:49:28.322064Z",
     "shell.execute_reply": "2025-08-19T18:49:28.321343Z"
    },
    "papermill": {
     "duration": 0.017784,
     "end_time": "2025-08-19T18:49:28.323478",
     "exception": false,
     "start_time": "2025-08-19T18:49:28.305694",
     "status": "completed"
    },
    "tags": []
   },
   "outputs": [],
   "source": [
    "X_train = siab_train.iloc[:,4:164]\n",
    "y_train = siab_train.iloc[:, [3]]"
   ]
  },
  {
   "cell_type": "code",
   "execution_count": 18,
   "id": "08ee8389",
   "metadata": {
    "execution": {
     "iopub.execute_input": "2025-08-19T18:49:28.347881Z",
     "iopub.status.busy": "2025-08-19T18:49:28.347528Z",
     "iopub.status.idle": "2025-08-19T18:49:28.394088Z",
     "shell.execute_reply": "2025-08-19T18:49:28.393408Z"
    },
    "papermill": {
     "duration": 0.063318,
     "end_time": "2025-08-19T18:49:28.398615",
     "exception": false,
     "start_time": "2025-08-19T18:49:28.335297",
     "status": "completed"
    },
    "tags": []
   },
   "outputs": [],
   "source": [
    "X_calib = siab_calib.iloc[:,4:164]\n",
    "y_calib = siab_calib.iloc[:, [3]]"
   ]
  },
  {
   "cell_type": "code",
   "execution_count": 19,
   "id": "b7ff42e0",
   "metadata": {
    "execution": {
     "iopub.execute_input": "2025-08-19T18:49:28.434796Z",
     "iopub.status.busy": "2025-08-19T18:49:28.433754Z",
     "iopub.status.idle": "2025-08-19T18:49:28.494996Z",
     "shell.execute_reply": "2025-08-19T18:49:28.494212Z"
    },
    "papermill": {
     "duration": 0.076029,
     "end_time": "2025-08-19T18:49:28.497751",
     "exception": false,
     "start_time": "2025-08-19T18:49:28.421722",
     "status": "completed"
    },
    "tags": []
   },
   "outputs": [],
   "source": [
    "X_test = siab_test.iloc[:,4:164]\n",
    "y_true = siab_test.iloc[:, [3]]"
   ]
  },
  {
   "cell_type": "code",
   "execution_count": 20,
   "id": "0275101e",
   "metadata": {
    "execution": {
     "iopub.execute_input": "2025-08-19T18:49:28.538626Z",
     "iopub.status.busy": "2025-08-19T18:49:28.537417Z",
     "iopub.status.idle": "2025-08-19T18:49:28.651786Z",
     "shell.execute_reply": "2025-08-19T18:49:28.650608Z"
    },
    "papermill": {
     "duration": 0.131987,
     "end_time": "2025-08-19T18:49:28.654470",
     "exception": false,
     "start_time": "2025-08-19T18:49:28.522483",
     "status": "completed"
    },
    "tags": []
   },
   "outputs": [],
   "source": [
    "# Auxiliary data needed downstream in the pipeline\n",
    "\n",
    "org_train = X_train.copy()\n",
    "org_test = X_test.copy()\n",
    "org_calib = X_calib.copy()"
   ]
  },
  {
   "cell_type": "markdown",
   "id": "b461e618",
   "metadata": {
    "papermill": {
     "duration": 0.012344,
     "end_time": "2025-08-19T18:49:28.691352",
     "exception": false,
     "start_time": "2025-08-19T18:49:28.679008",
     "status": "completed"
    },
    "tags": []
   },
   "source": [
    "# Preprocessing Data"
   ]
  },
  {
   "cell_type": "code",
   "execution_count": 21,
   "id": "78e74c4b",
   "metadata": {
    "execution": {
     "iopub.execute_input": "2025-08-19T18:49:28.715332Z",
     "iopub.status.busy": "2025-08-19T18:49:28.713923Z",
     "iopub.status.idle": "2025-08-19T18:49:28.724256Z",
     "shell.execute_reply": "2025-08-19T18:49:28.723033Z"
    },
    "papermill": {
     "duration": 0.024218,
     "end_time": "2025-08-19T18:49:28.725683",
     "exception": false,
     "start_time": "2025-08-19T18:49:28.701465",
     "status": "completed"
    },
    "tags": []
   },
   "outputs": [],
   "source": [
    "# EXCLUDE PROTECTED FEATURES\n",
    "# --------------------------\n",
    "\n",
    "excluded_features = universe[\"exclude_features\"].split(\"-\")\n",
    "excluded_features_dictionary = {\n",
    "    \"nationality\": [\"maxdeutsch1\", \"maxdeutsch.Missing.\"],\n",
    "    \"sex\": [\"frau1\"],\n",
    "    \"age\": [\"age\"],\n",
    "}"
   ]
  },
  {
   "cell_type": "code",
   "execution_count": 22,
   "id": "f8e63555",
   "metadata": {
    "execution": {
     "iopub.execute_input": "2025-08-19T18:49:28.752273Z",
     "iopub.status.busy": "2025-08-19T18:49:28.750996Z",
     "iopub.status.idle": "2025-08-19T18:49:28.760077Z",
     "shell.execute_reply": "2025-08-19T18:49:28.758812Z"
    },
    "papermill": {
     "duration": 0.022308,
     "end_time": "2025-08-19T18:49:28.761575",
     "exception": false,
     "start_time": "2025-08-19T18:49:28.739267",
     "status": "completed"
    },
    "tags": []
   },
   "outputs": [],
   "source": [
    "excluded_features_columns = [\n",
    "    excluded_features_dictionary[f] for f in excluded_features if len(f) > 0 and f != \"none\"\n",
    "]"
   ]
  },
  {
   "cell_type": "code",
   "execution_count": 23,
   "id": "da781f7c",
   "metadata": {
    "execution": {
     "iopub.execute_input": "2025-08-19T18:49:28.788436Z",
     "iopub.status.busy": "2025-08-19T18:49:28.787514Z",
     "iopub.status.idle": "2025-08-19T18:49:28.794838Z",
     "shell.execute_reply": "2025-08-19T18:49:28.793701Z"
    },
    "papermill": {
     "duration": 0.021017,
     "end_time": "2025-08-19T18:49:28.796264",
     "exception": false,
     "start_time": "2025-08-19T18:49:28.775247",
     "status": "completed"
    },
    "tags": []
   },
   "outputs": [],
   "source": [
    "from fairness_multiverse.universe import flatten_once\n",
    "\n",
    "excluded_features_columns = flatten_once(excluded_features_columns)"
   ]
  },
  {
   "cell_type": "code",
   "execution_count": 24,
   "id": "37fef0f0",
   "metadata": {
    "execution": {
     "iopub.execute_input": "2025-08-19T18:49:28.825989Z",
     "iopub.status.busy": "2025-08-19T18:49:28.821679Z",
     "iopub.status.idle": "2025-08-19T18:49:28.838536Z",
     "shell.execute_reply": "2025-08-19T18:49:28.837279Z"
    },
    "papermill": {
     "duration": 0.030608,
     "end_time": "2025-08-19T18:49:28.840340",
     "exception": false,
     "start_time": "2025-08-19T18:49:28.809732",
     "status": "completed"
    },
    "tags": []
   },
   "outputs": [
    {
     "name": "stdout",
     "output_type": "stream",
     "text": [
      "Dropping features: ['age']\n"
     ]
    }
   ],
   "source": [
    "if len(excluded_features_columns) > 0:\n",
    "    print(f\"Dropping features: {excluded_features_columns}\")\n",
    "    X_train.drop(excluded_features_columns, axis=1, inplace=True)"
   ]
  },
  {
   "cell_type": "code",
   "execution_count": 25,
   "id": "d029e3e9",
   "metadata": {
    "execution": {
     "iopub.execute_input": "2025-08-19T18:49:28.869618Z",
     "iopub.status.busy": "2025-08-19T18:49:28.868463Z",
     "iopub.status.idle": "2025-08-19T18:49:28.928855Z",
     "shell.execute_reply": "2025-08-19T18:49:28.928155Z"
    },
    "papermill": {
     "duration": 0.074,
     "end_time": "2025-08-19T18:49:28.930142",
     "exception": false,
     "start_time": "2025-08-19T18:49:28.856142",
     "status": "completed"
    },
    "tags": []
   },
   "outputs": [
    {
     "name": "stdout",
     "output_type": "stream",
     "text": [
      "Dropping features: ['age']\n"
     ]
    }
   ],
   "source": [
    "if len(excluded_features_columns) > 0:\n",
    "    print(f\"Dropping features: {excluded_features_columns}\")\n",
    "    X_test.drop(excluded_features_columns, axis=1, inplace=True)"
   ]
  },
  {
   "cell_type": "code",
   "execution_count": 26,
   "id": "01d571f0",
   "metadata": {
    "execution": {
     "iopub.execute_input": "2025-08-19T18:49:28.956219Z",
     "iopub.status.busy": "2025-08-19T18:49:28.955154Z",
     "iopub.status.idle": "2025-08-19T18:49:29.007740Z",
     "shell.execute_reply": "2025-08-19T18:49:29.007018Z"
    },
    "papermill": {
     "duration": 0.067519,
     "end_time": "2025-08-19T18:49:29.010327",
     "exception": false,
     "start_time": "2025-08-19T18:49:28.942808",
     "status": "completed"
    },
    "tags": []
   },
   "outputs": [
    {
     "name": "stdout",
     "output_type": "stream",
     "text": [
      "Dropping features: ['age']\n"
     ]
    }
   ],
   "source": [
    "if len(excluded_features_columns) > 0:\n",
    "    print(f\"Dropping features: {excluded_features_columns}\")\n",
    "    X_calib.drop(excluded_features_columns, axis=1, inplace=True)"
   ]
  },
  {
   "cell_type": "code",
   "execution_count": 27,
   "id": "3037356e",
   "metadata": {
    "execution": {
     "iopub.execute_input": "2025-08-19T18:49:29.048928Z",
     "iopub.status.busy": "2025-08-19T18:49:29.047743Z",
     "iopub.status.idle": "2025-08-19T18:49:29.054779Z",
     "shell.execute_reply": "2025-08-19T18:49:29.053616Z"
    },
    "papermill": {
     "duration": 0.022328,
     "end_time": "2025-08-19T18:49:29.056338",
     "exception": false,
     "start_time": "2025-08-19T18:49:29.034010",
     "status": "completed"
    },
    "tags": []
   },
   "outputs": [],
   "source": [
    "# EXCLUDE CERTAIN SUBGROUPS\n",
    "# -------------------------\n",
    "\n",
    "mode = universe.get(\"exclude_subgroups\", \"keep-all\") # Defaults to \"keep-all\" if the key is missing."
   ]
  },
  {
   "cell_type": "code",
   "execution_count": 28,
   "id": "9d1e63fd",
   "metadata": {
    "execution": {
     "iopub.execute_input": "2025-08-19T18:49:29.083143Z",
     "iopub.status.busy": "2025-08-19T18:49:29.081853Z",
     "iopub.status.idle": "2025-08-19T18:49:29.093190Z",
     "shell.execute_reply": "2025-08-19T18:49:29.092172Z"
    },
    "papermill": {
     "duration": 0.024824,
     "end_time": "2025-08-19T18:49:29.094683",
     "exception": false,
     "start_time": "2025-08-19T18:49:29.069859",
     "status": "completed"
    },
    "tags": []
   },
   "outputs": [],
   "source": [
    "if mode == \"keep-all\":\n",
    "    keep_mask = pd.Series(True, index=org_train.index)\n",
    "\n",
    "elif mode == \"drop-non-german\":\n",
    "    keep_mask = (org_train[\"maxdeutsch1\"] == 1) & (org_train[\"maxdeutsch.Missing.\"] == 0)\n",
    "\n",
    "else:\n",
    "    raise ValueError(f\"Unsupported mode for exclude_subgroups: {mode}\")"
   ]
  },
  {
   "cell_type": "code",
   "execution_count": 29,
   "id": "d3b65474",
   "metadata": {
    "execution": {
     "iopub.execute_input": "2025-08-19T18:49:29.126117Z",
     "iopub.status.busy": "2025-08-19T18:49:29.124782Z",
     "iopub.status.idle": "2025-08-19T18:49:29.135149Z",
     "shell.execute_reply": "2025-08-19T18:49:29.133994Z"
    },
    "papermill": {
     "duration": 0.025547,
     "end_time": "2025-08-19T18:49:29.136548",
     "exception": false,
     "start_time": "2025-08-19T18:49:29.111001",
     "status": "completed"
    },
    "tags": []
   },
   "outputs": [
    {
     "name": "stdout",
     "output_type": "stream",
     "text": [
      "Dropping 147 rows (14.70%) where mode='drop-non-german'\n"
     ]
    }
   ],
   "source": [
    "n_drop = (~keep_mask).sum() # Calculates how many rows are set to be dropped\n",
    "if n_drop > 0:\n",
    "    pct = n_drop / len(keep_mask) * 100\n",
    "    print(f\"Dropping {n_drop} rows ({pct:.2f}%) where mode='{mode}'\")"
   ]
  },
  {
   "cell_type": "code",
   "execution_count": 30,
   "id": "f44389b3",
   "metadata": {
    "execution": {
     "iopub.execute_input": "2025-08-19T18:49:29.162857Z",
     "iopub.status.busy": "2025-08-19T18:49:29.161878Z",
     "iopub.status.idle": "2025-08-19T18:49:29.178616Z",
     "shell.execute_reply": "2025-08-19T18:49:29.177412Z"
    },
    "papermill": {
     "duration": 0.03051,
     "end_time": "2025-08-19T18:49:29.180170",
     "exception": false,
     "start_time": "2025-08-19T18:49:29.149660",
     "status": "completed"
    },
    "tags": []
   },
   "outputs": [],
   "source": [
    "X_train = X_train[keep_mask]"
   ]
  },
  {
   "cell_type": "code",
   "execution_count": 31,
   "id": "ceca8c2a",
   "metadata": {
    "execution": {
     "iopub.execute_input": "2025-08-19T18:49:29.212149Z",
     "iopub.status.busy": "2025-08-19T18:49:29.210691Z",
     "iopub.status.idle": "2025-08-19T18:49:29.219469Z",
     "shell.execute_reply": "2025-08-19T18:49:29.218205Z"
    },
    "papermill": {
     "duration": 0.02392,
     "end_time": "2025-08-19T18:49:29.221045",
     "exception": false,
     "start_time": "2025-08-19T18:49:29.197125",
     "status": "completed"
    },
    "tags": []
   },
   "outputs": [],
   "source": [
    "y_train = y_train[keep_mask]"
   ]
  },
  {
   "cell_type": "markdown",
   "id": "04d31e2f",
   "metadata": {
    "papermill": {
     "duration": 0.010675,
     "end_time": "2025-08-19T18:49:29.245310",
     "exception": false,
     "start_time": "2025-08-19T18:49:29.234635",
     "status": "completed"
    },
    "tags": []
   },
   "source": [
    "# Model Training"
   ]
  },
  {
   "cell_type": "code",
   "execution_count": 32,
   "id": "db991733",
   "metadata": {
    "execution": {
     "iopub.execute_input": "2025-08-19T18:49:29.269864Z",
     "iopub.status.busy": "2025-08-19T18:49:29.268294Z",
     "iopub.status.idle": "2025-08-19T18:49:29.377916Z",
     "shell.execute_reply": "2025-08-19T18:49:29.377122Z"
    },
    "papermill": {
     "duration": 0.124945,
     "end_time": "2025-08-19T18:49:29.380830",
     "exception": false,
     "start_time": "2025-08-19T18:49:29.255885",
     "status": "completed"
    },
    "tags": []
   },
   "outputs": [],
   "source": [
    "from sklearn.linear_model import LogisticRegression\n",
    "from sklearn.ensemble import GradientBoostingClassifier, RandomForestClassifier\n",
    "\n",
    "if (universe[\"model\"] == \"logreg\"):\n",
    "    model = LogisticRegression() #penalty=\"none\", solver=\"newton-cg\", max_iter=1)\n",
    "elif (universe[\"model\"] == \"penalized_logreg\"):\n",
    "    model = LogisticRegression(penalty=\"l2\", C=0.1) #, solver=\"newton-cg\", max_iter=1)\n",
    "elif (universe[\"model\"] == \"rf\"):\n",
    "    model = RandomForestClassifier() # n_estimators=100, n_jobs=-1\n",
    "elif (universe[\"model\"] == \"gbm\"):\n",
    "    model = GradientBoostingClassifier()\n",
    "elif (universe[\"model\"] == \"elasticnet\"):\n",
    "    model = LogisticRegression(penalty = 'elasticnet', solver = 'saga', l1_ratio = 0.5) # max_iter=5000\n",
    "else:\n",
    "    raise \"Unsupported universe.model\""
   ]
  },
  {
   "cell_type": "code",
   "execution_count": 33,
   "id": "a4b5cd25",
   "metadata": {
    "execution": {
     "iopub.execute_input": "2025-08-19T18:49:29.422689Z",
     "iopub.status.busy": "2025-08-19T18:49:29.421432Z",
     "iopub.status.idle": "2025-08-19T18:49:29.434019Z",
     "shell.execute_reply": "2025-08-19T18:49:29.432943Z"
    },
    "papermill": {
     "duration": 0.040267,
     "end_time": "2025-08-19T18:49:29.445798",
     "exception": false,
     "start_time": "2025-08-19T18:49:29.405531",
     "status": "completed"
    },
    "tags": []
   },
   "outputs": [],
   "source": [
    "from sklearn.pipeline import Pipeline\n",
    "from sklearn.preprocessing import StandardScaler\n",
    "\n",
    "model = Pipeline([\n",
    "    #(\"continuous_processor\", continuous_processor),\n",
    "    #(\"categorical_preprocessor\", categorical_preprocessor),\n",
    "    (\"scale\", StandardScaler() if universe[\"scale\"] == \"scale\" else None), \n",
    "    (\"model\", model),\n",
    "])"
   ]
  },
  {
   "cell_type": "code",
   "execution_count": 34,
   "id": "283a904d",
   "metadata": {
    "execution": {
     "iopub.execute_input": "2025-08-19T18:49:29.471220Z",
     "iopub.status.busy": "2025-08-19T18:49:29.470154Z",
     "iopub.status.idle": "2025-08-19T18:49:29.540568Z",
     "shell.execute_reply": "2025-08-19T18:49:29.539928Z"
    },
    "papermill": {
     "duration": 0.084613,
     "end_time": "2025-08-19T18:49:29.541932",
     "exception": false,
     "start_time": "2025-08-19T18:49:29.457319",
     "status": "completed"
    },
    "tags": []
   },
   "outputs": [
    {
     "name": "stderr",
     "output_type": "stream",
     "text": [
      "/dss/dsshome1/0C/ra93lal2/.local/share/virtualenvs/CMA_Fairness_v2-3j10GkSs/lib/python3.10/site-packages/sklearn/linear_model/_logistic.py:444: ConvergenceWarning: lbfgs failed to converge (status=1):\n",
      "STOP: TOTAL NO. of ITERATIONS REACHED LIMIT.\n",
      "\n",
      "Increase the number of iterations (max_iter) or scale the data as shown in:\n",
      "    https://scikit-learn.org/stable/modules/preprocessing.html\n",
      "Please also refer to the documentation for alternative solver options:\n",
      "    https://scikit-learn.org/stable/modules/linear_model.html#logistic-regression\n",
      "  n_iter_i = _check_optimize_result(\n"
     ]
    },
    {
     "data": {
      "text/html": [
       "<style>#sk-container-id-1 {color: black;background-color: white;}#sk-container-id-1 pre{padding: 0;}#sk-container-id-1 div.sk-toggleable {background-color: white;}#sk-container-id-1 label.sk-toggleable__label {cursor: pointer;display: block;width: 100%;margin-bottom: 0;padding: 0.3em;box-sizing: border-box;text-align: center;}#sk-container-id-1 label.sk-toggleable__label-arrow:before {content: \"▸\";float: left;margin-right: 0.25em;color: #696969;}#sk-container-id-1 label.sk-toggleable__label-arrow:hover:before {color: black;}#sk-container-id-1 div.sk-estimator:hover label.sk-toggleable__label-arrow:before {color: black;}#sk-container-id-1 div.sk-toggleable__content {max-height: 0;max-width: 0;overflow: hidden;text-align: left;background-color: #f0f8ff;}#sk-container-id-1 div.sk-toggleable__content pre {margin: 0.2em;color: black;border-radius: 0.25em;background-color: #f0f8ff;}#sk-container-id-1 input.sk-toggleable__control:checked~div.sk-toggleable__content {max-height: 200px;max-width: 100%;overflow: auto;}#sk-container-id-1 input.sk-toggleable__control:checked~label.sk-toggleable__label-arrow:before {content: \"▾\";}#sk-container-id-1 div.sk-estimator input.sk-toggleable__control:checked~label.sk-toggleable__label {background-color: #d4ebff;}#sk-container-id-1 div.sk-label input.sk-toggleable__control:checked~label.sk-toggleable__label {background-color: #d4ebff;}#sk-container-id-1 input.sk-hidden--visually {border: 0;clip: rect(1px 1px 1px 1px);clip: rect(1px, 1px, 1px, 1px);height: 1px;margin: -1px;overflow: hidden;padding: 0;position: absolute;width: 1px;}#sk-container-id-1 div.sk-estimator {font-family: monospace;background-color: #f0f8ff;border: 1px dotted black;border-radius: 0.25em;box-sizing: border-box;margin-bottom: 0.5em;}#sk-container-id-1 div.sk-estimator:hover {background-color: #d4ebff;}#sk-container-id-1 div.sk-parallel-item::after {content: \"\";width: 100%;border-bottom: 1px solid gray;flex-grow: 1;}#sk-container-id-1 div.sk-label:hover label.sk-toggleable__label {background-color: #d4ebff;}#sk-container-id-1 div.sk-serial::before {content: \"\";position: absolute;border-left: 1px solid gray;box-sizing: border-box;top: 0;bottom: 0;left: 50%;z-index: 0;}#sk-container-id-1 div.sk-serial {display: flex;flex-direction: column;align-items: center;background-color: white;padding-right: 0.2em;padding-left: 0.2em;position: relative;}#sk-container-id-1 div.sk-item {position: relative;z-index: 1;}#sk-container-id-1 div.sk-parallel {display: flex;align-items: stretch;justify-content: center;background-color: white;position: relative;}#sk-container-id-1 div.sk-item::before, #sk-container-id-1 div.sk-parallel-item::before {content: \"\";position: absolute;border-left: 1px solid gray;box-sizing: border-box;top: 0;bottom: 0;left: 50%;z-index: -1;}#sk-container-id-1 div.sk-parallel-item {display: flex;flex-direction: column;z-index: 1;position: relative;background-color: white;}#sk-container-id-1 div.sk-parallel-item:first-child::after {align-self: flex-end;width: 50%;}#sk-container-id-1 div.sk-parallel-item:last-child::after {align-self: flex-start;width: 50%;}#sk-container-id-1 div.sk-parallel-item:only-child::after {width: 0;}#sk-container-id-1 div.sk-dashed-wrapped {border: 1px dashed gray;margin: 0 0.4em 0.5em 0.4em;box-sizing: border-box;padding-bottom: 0.4em;background-color: white;}#sk-container-id-1 div.sk-label label {font-family: monospace;font-weight: bold;display: inline-block;line-height: 1.2em;}#sk-container-id-1 div.sk-label-container {text-align: center;}#sk-container-id-1 div.sk-container {/* jupyter's `normalize.less` sets `[hidden] { display: none; }` but bootstrap.min.css set `[hidden] { display: none !important; }` so we also need the `!important` here to be able to override the default hidden behavior on the sphinx rendered scikit-learn.org. See: https://github.com/scikit-learn/scikit-learn/issues/21755 */display: inline-block !important;position: relative;}#sk-container-id-1 div.sk-text-repr-fallback {display: none;}</style><div id=\"sk-container-id-1\" class=\"sk-top-container\"><div class=\"sk-text-repr-fallback\"><pre>Pipeline(steps=[(&#x27;scale&#x27;, StandardScaler()), (&#x27;model&#x27;, LogisticRegression())])</pre><b>In a Jupyter environment, please rerun this cell to show the HTML representation or trust the notebook. <br />On GitHub, the HTML representation is unable to render, please try loading this page with nbviewer.org.</b></div><div class=\"sk-container\" hidden><div class=\"sk-item sk-dashed-wrapped\"><div class=\"sk-label-container\"><div class=\"sk-label sk-toggleable\"><input class=\"sk-toggleable__control sk-hidden--visually\" id=\"sk-estimator-id-1\" type=\"checkbox\" ><label for=\"sk-estimator-id-1\" class=\"sk-toggleable__label sk-toggleable__label-arrow\">Pipeline</label><div class=\"sk-toggleable__content\"><pre>Pipeline(steps=[(&#x27;scale&#x27;, StandardScaler()), (&#x27;model&#x27;, LogisticRegression())])</pre></div></div></div><div class=\"sk-serial\"><div class=\"sk-item\"><div class=\"sk-estimator sk-toggleable\"><input class=\"sk-toggleable__control sk-hidden--visually\" id=\"sk-estimator-id-2\" type=\"checkbox\" ><label for=\"sk-estimator-id-2\" class=\"sk-toggleable__label sk-toggleable__label-arrow\">StandardScaler</label><div class=\"sk-toggleable__content\"><pre>StandardScaler()</pre></div></div></div><div class=\"sk-item\"><div class=\"sk-estimator sk-toggleable\"><input class=\"sk-toggleable__control sk-hidden--visually\" id=\"sk-estimator-id-3\" type=\"checkbox\" ><label for=\"sk-estimator-id-3\" class=\"sk-toggleable__label sk-toggleable__label-arrow\">LogisticRegression</label><div class=\"sk-toggleable__content\"><pre>LogisticRegression()</pre></div></div></div></div></div></div></div>"
      ],
      "text/plain": [
       "Pipeline(steps=[('scale', StandardScaler()), ('model', LogisticRegression())])"
      ]
     },
     "execution_count": 34,
     "metadata": {},
     "output_type": "execute_result"
    }
   ],
   "source": [
    "model.fit(X_train, y_train.values.ravel())"
   ]
  },
  {
   "cell_type": "code",
   "execution_count": 35,
   "id": "6e15e313",
   "metadata": {
    "execution": {
     "iopub.execute_input": "2025-08-19T18:49:29.566753Z",
     "iopub.status.busy": "2025-08-19T18:49:29.566057Z",
     "iopub.status.idle": "2025-08-19T18:49:29.763087Z",
     "shell.execute_reply": "2025-08-19T18:49:29.762426Z"
    },
    "papermill": {
     "duration": 0.210953,
     "end_time": "2025-08-19T18:49:29.764290",
     "exception": false,
     "start_time": "2025-08-19T18:49:29.553337",
     "status": "completed"
    },
    "tags": []
   },
   "outputs": [
    {
     "data": {
      "text/plain": [
       "0.8105785308215361"
      ]
     },
     "execution_count": 35,
     "metadata": {},
     "output_type": "execute_result"
    }
   ],
   "source": [
    "from fairness_multiverse.universe import predict_w_threshold\n",
    "\n",
    "probs_test = model.predict_proba(X_test)\n",
    "\n",
    "'''\n",
    "Below code returns a boolean array (or binary 0/1 array depending on how it’s used) where each element \n",
    "is True if the probability of class 1 is greater than or equal to the threshold, and False otherwise.\n",
    "'''\n",
    "y_pred_default = predict_w_threshold(probs_test, 0.5)\n",
    "\n",
    "from sklearn.metrics import accuracy_score\n",
    "\n",
    "# Naive prediction\n",
    "accuracy_score(y_true = y_true, y_pred = y_pred_default)"
   ]
  },
  {
   "cell_type": "code",
   "execution_count": 36,
   "id": "6f14067c",
   "metadata": {
    "execution": {
     "iopub.execute_input": "2025-08-19T18:49:29.809185Z",
     "iopub.status.busy": "2025-08-19T18:49:29.808435Z",
     "iopub.status.idle": "2025-08-19T18:49:30.002570Z",
     "shell.execute_reply": "2025-08-19T18:49:30.001820Z"
    },
    "papermill": {
     "duration": 0.21409,
     "end_time": "2025-08-19T18:49:30.003945",
     "exception": false,
     "start_time": "2025-08-19T18:49:29.789855",
     "status": "completed"
    },
    "tags": []
   },
   "outputs": [
    {
     "data": {
      "text/plain": [
       "array([0, 0, 0, ..., 0, 0, 0])"
      ]
     },
     "execution_count": 36,
     "metadata": {},
     "output_type": "execute_result"
    }
   ],
   "source": [
    "model.predict(X_test)"
   ]
  },
  {
   "cell_type": "markdown",
   "id": "3759920c",
   "metadata": {
    "papermill": {
     "duration": 0.011334,
     "end_time": "2025-08-19T18:49:30.028826",
     "exception": false,
     "start_time": "2025-08-19T18:49:30.017492",
     "status": "completed"
    },
    "tags": []
   },
   "source": [
    "# Conformal Prediction"
   ]
  },
  {
   "cell_type": "code",
   "execution_count": 37,
   "id": "14b27f59",
   "metadata": {
    "execution": {
     "iopub.execute_input": "2025-08-19T18:49:30.053371Z",
     "iopub.status.busy": "2025-08-19T18:49:30.052825Z",
     "iopub.status.idle": "2025-08-19T18:49:30.057912Z",
     "shell.execute_reply": "2025-08-19T18:49:30.056791Z"
    },
    "papermill": {
     "duration": 0.018784,
     "end_time": "2025-08-19T18:49:30.059126",
     "exception": false,
     "start_time": "2025-08-19T18:49:30.040342",
     "status": "completed"
    },
    "tags": []
   },
   "outputs": [],
   "source": [
    "# Miscoverage level for conformal prediction (10% allowed error rate => 90% target coverage)\n",
    "alpha = 0.1"
   ]
  },
  {
   "cell_type": "code",
   "execution_count": 38,
   "id": "59102472",
   "metadata": {
    "execution": {
     "iopub.execute_input": "2025-08-19T18:49:30.084324Z",
     "iopub.status.busy": "2025-08-19T18:49:30.083863Z",
     "iopub.status.idle": "2025-08-19T18:49:30.261155Z",
     "shell.execute_reply": "2025-08-19T18:49:30.260342Z"
    },
    "papermill": {
     "duration": 0.190934,
     "end_time": "2025-08-19T18:49:30.262592",
     "exception": false,
     "start_time": "2025-08-19T18:49:30.071658",
     "status": "completed"
    },
    "tags": []
   },
   "outputs": [],
   "source": [
    "probs_calib = model.predict_proba(X_calib)"
   ]
  },
  {
   "cell_type": "code",
   "execution_count": 39,
   "id": "a792d4dd",
   "metadata": {
    "execution": {
     "iopub.execute_input": "2025-08-19T18:49:30.289958Z",
     "iopub.status.busy": "2025-08-19T18:49:30.286987Z",
     "iopub.status.idle": "2025-08-19T18:49:30.300566Z",
     "shell.execute_reply": "2025-08-19T18:49:30.299962Z"
    },
    "papermill": {
     "duration": 0.026976,
     "end_time": "2025-08-19T18:49:30.301617",
     "exception": false,
     "start_time": "2025-08-19T18:49:30.274641",
     "status": "completed"
    },
    "tags": []
   },
   "outputs": [],
   "source": [
    "y_calib = y_calib.values.ravel().astype(int)"
   ]
  },
  {
   "cell_type": "code",
   "execution_count": 40,
   "id": "650fd033",
   "metadata": {
    "execution": {
     "iopub.execute_input": "2025-08-19T18:49:30.335269Z",
     "iopub.status.busy": "2025-08-19T18:49:30.332598Z",
     "iopub.status.idle": "2025-08-19T18:49:30.356441Z",
     "shell.execute_reply": "2025-08-19T18:49:30.355192Z"
    },
    "papermill": {
     "duration": 0.042915,
     "end_time": "2025-08-19T18:49:30.358687",
     "exception": false,
     "start_time": "2025-08-19T18:49:30.315772",
     "status": "completed"
    },
    "tags": []
   },
   "outputs": [],
   "source": [
    "from fairness_multiverse.conformal import compute_nc_scores\n",
    "\n",
    "# Compute nonconformity scores on calibration set (1 - probability of true class)\n",
    "nc_scores = compute_nc_scores(probs_calib, y_calib)"
   ]
  },
  {
   "cell_type": "code",
   "execution_count": 41,
   "id": "28ada44c",
   "metadata": {
    "execution": {
     "iopub.execute_input": "2025-08-19T18:49:30.394059Z",
     "iopub.status.busy": "2025-08-19T18:49:30.392894Z",
     "iopub.status.idle": "2025-08-19T18:49:30.405188Z",
     "shell.execute_reply": "2025-08-19T18:49:30.403922Z"
    },
    "papermill": {
     "duration": 0.027492,
     "end_time": "2025-08-19T18:49:30.406735",
     "exception": false,
     "start_time": "2025-08-19T18:49:30.379243",
     "status": "completed"
    },
    "tags": []
   },
   "outputs": [],
   "source": [
    "from fairness_multiverse.conformal import find_threshold\n",
    "\n",
    "# Find conformal threshold q_hat for the given alpha (split conformal method)\n",
    "q_hat = find_threshold(nc_scores, alpha)"
   ]
  },
  {
   "cell_type": "code",
   "execution_count": 42,
   "id": "df56469e",
   "metadata": {
    "execution": {
     "iopub.execute_input": "2025-08-19T18:49:30.436118Z",
     "iopub.status.busy": "2025-08-19T18:49:30.435136Z",
     "iopub.status.idle": "2025-08-19T18:49:30.445875Z",
     "shell.execute_reply": "2025-08-19T18:49:30.444883Z"
    },
    "papermill": {
     "duration": 0.025472,
     "end_time": "2025-08-19T18:49:30.447412",
     "exception": false,
     "start_time": "2025-08-19T18:49:30.421940",
     "status": "completed"
    },
    "tags": []
   },
   "outputs": [
    {
     "data": {
      "text/plain": [
       "0.8486479830874897"
      ]
     },
     "execution_count": 42,
     "metadata": {},
     "output_type": "execute_result"
    }
   ],
   "source": [
    "q_hat"
   ]
  },
  {
   "cell_type": "code",
   "execution_count": 43,
   "id": "aa1f5faa",
   "metadata": {
    "execution": {
     "iopub.execute_input": "2025-08-19T18:49:30.475694Z",
     "iopub.status.busy": "2025-08-19T18:49:30.474493Z",
     "iopub.status.idle": "2025-08-19T18:49:31.109698Z",
     "shell.execute_reply": "2025-08-19T18:49:31.108766Z"
    },
    "papermill": {
     "duration": 0.651277,
     "end_time": "2025-08-19T18:49:31.112563",
     "exception": false,
     "start_time": "2025-08-19T18:49:30.461286",
     "status": "completed"
    },
    "tags": []
   },
   "outputs": [],
   "source": [
    "from fairness_multiverse.conformal import predict_conformal_sets\n",
    "\n",
    "# Generate prediction sets for each test example\n",
    "pred_sets = predict_conformal_sets(model, X_test, q_hat)"
   ]
  },
  {
   "cell_type": "code",
   "execution_count": 44,
   "id": "97f67a6b",
   "metadata": {
    "execution": {
     "iopub.execute_input": "2025-08-19T18:49:31.155243Z",
     "iopub.status.busy": "2025-08-19T18:49:31.153952Z",
     "iopub.status.idle": "2025-08-19T18:49:31.164213Z",
     "shell.execute_reply": "2025-08-19T18:49:31.162603Z"
    },
    "papermill": {
     "duration": 0.027674,
     "end_time": "2025-08-19T18:49:31.165931",
     "exception": false,
     "start_time": "2025-08-19T18:49:31.138257",
     "status": "completed"
    },
    "tags": []
   },
   "outputs": [],
   "source": [
    "y_true = y_true.squeeze()"
   ]
  },
  {
   "cell_type": "code",
   "execution_count": 45,
   "id": "e700e9a7",
   "metadata": {
    "execution": {
     "iopub.execute_input": "2025-08-19T18:49:31.192026Z",
     "iopub.status.busy": "2025-08-19T18:49:31.191488Z",
     "iopub.status.idle": "2025-08-19T18:49:31.692517Z",
     "shell.execute_reply": "2025-08-19T18:49:31.691198Z"
    },
    "papermill": {
     "duration": 0.515788,
     "end_time": "2025-08-19T18:49:31.694103",
     "exception": false,
     "start_time": "2025-08-19T18:49:31.178315",
     "status": "completed"
    },
    "tags": []
   },
   "outputs": [],
   "source": [
    "from fairness_multiverse.conformal import evaluate_sets\n",
    "\n",
    "# Evaluate coverage and average set size on test data\n",
    "metrics = evaluate_sets(pred_sets, y_true)"
   ]
  },
  {
   "cell_type": "markdown",
   "id": "efbacec0",
   "metadata": {
    "papermill": {
     "duration": 0.011741,
     "end_time": "2025-08-19T18:49:31.718958",
     "exception": false,
     "start_time": "2025-08-19T18:49:31.707217",
     "status": "completed"
    },
    "tags": []
   },
   "source": [
    "# CP Metrics"
   ]
  },
  {
   "cell_type": "code",
   "execution_count": 46,
   "id": "9de55fb1",
   "metadata": {
    "execution": {
     "iopub.execute_input": "2025-08-19T18:49:31.745789Z",
     "iopub.status.busy": "2025-08-19T18:49:31.744649Z",
     "iopub.status.idle": "2025-08-19T18:49:31.757423Z",
     "shell.execute_reply": "2025-08-19T18:49:31.756101Z"
    },
    "papermill": {
     "duration": 0.028683,
     "end_time": "2025-08-19T18:49:31.759226",
     "exception": false,
     "start_time": "2025-08-19T18:49:31.730543",
     "status": "completed"
    },
    "tags": []
   },
   "outputs": [
    {
     "data": {
      "text/plain": [
       "{'coverage': 0.9078252145803144, 'avg_size': 1.2700479322260618}"
      ]
     },
     "execution_count": 46,
     "metadata": {},
     "output_type": "execute_result"
    }
   ],
   "source": [
    "metrics"
   ]
  },
  {
   "cell_type": "code",
   "execution_count": 47,
   "id": "64c340a1",
   "metadata": {
    "execution": {
     "iopub.execute_input": "2025-08-19T18:49:31.787892Z",
     "iopub.status.busy": "2025-08-19T18:49:31.786930Z",
     "iopub.status.idle": "2025-08-19T18:49:31.796893Z",
     "shell.execute_reply": "2025-08-19T18:49:31.795545Z"
    },
    "papermill": {
     "duration": 0.025319,
     "end_time": "2025-08-19T18:49:31.798638",
     "exception": false,
     "start_time": "2025-08-19T18:49:31.773319",
     "status": "completed"
    },
    "tags": []
   },
   "outputs": [],
   "source": [
    "example_universe = universe.copy()\n",
    "universe_training_year = example_universe.get(\"training_year\")\n",
    "universe_training_size = example_universe.get(\"training_size\")\n",
    "universe_scale = example_universe.get(\"scale\")\n",
    "universe_model = example_universe.get(\"model\")\n",
    "universe_exclude_features = example_universe.get(\"exclude_features\")\n",
    "universe_exclude_subgroups = example_universe.get(\"exclude_subgroups\")"
   ]
  },
  {
   "cell_type": "code",
   "execution_count": 48,
   "id": "dbb53cb4",
   "metadata": {
    "execution": {
     "iopub.execute_input": "2025-08-19T18:49:31.828940Z",
     "iopub.status.busy": "2025-08-19T18:49:31.827986Z",
     "iopub.status.idle": "2025-08-19T18:49:31.838020Z",
     "shell.execute_reply": "2025-08-19T18:49:31.836705Z"
    },
    "papermill": {
     "duration": 0.026481,
     "end_time": "2025-08-19T18:49:31.840314",
     "exception": false,
     "start_time": "2025-08-19T18:49:31.813833",
     "status": "completed"
    },
    "tags": []
   },
   "outputs": [],
   "source": [
    "cp_metrics_dict = {\n",
    "    \"universe_id\": [universe_id],\n",
    "    \"universe_training_year\": [universe_training_year],\n",
    "    \"universe_training_size\": [universe_training_size],\n",
    "    \"universe_scale\": [universe_scale],\n",
    "    \"universe_model\": [universe_model],\n",
    "    \"universe_exclude_features\": [universe_exclude_features],\n",
    "    \"universe_exclude_subgroups\": [universe_exclude_subgroups],\n",
    "    \"q_hat\": [q_hat],\n",
    "    \"coverage\": [metrics[\"coverage\"]],\n",
    "    \"avg_size\": [metrics[\"avg_size\"]],\n",
    "}"
   ]
  },
  {
   "cell_type": "code",
   "execution_count": 49,
   "id": "0d70d4b2",
   "metadata": {
    "execution": {
     "iopub.execute_input": "2025-08-19T18:49:31.871913Z",
     "iopub.status.busy": "2025-08-19T18:49:31.870918Z",
     "iopub.status.idle": "2025-08-19T18:49:31.882639Z",
     "shell.execute_reply": "2025-08-19T18:49:31.881350Z"
    },
    "papermill": {
     "duration": 0.028516,
     "end_time": "2025-08-19T18:49:31.884408",
     "exception": false,
     "start_time": "2025-08-19T18:49:31.855892",
     "status": "completed"
    },
    "tags": []
   },
   "outputs": [],
   "source": [
    "cp_metrics_df = pd.DataFrame(cp_metrics_dict)"
   ]
  },
  {
   "cell_type": "code",
   "execution_count": 50,
   "id": "b494403c",
   "metadata": {
    "execution": {
     "iopub.execute_input": "2025-08-19T18:49:31.915301Z",
     "iopub.status.busy": "2025-08-19T18:49:31.914199Z",
     "iopub.status.idle": "2025-08-19T18:49:31.938783Z",
     "shell.execute_reply": "2025-08-19T18:49:31.937557Z"
    },
    "papermill": {
     "duration": 0.040309,
     "end_time": "2025-08-19T18:49:31.940947",
     "exception": false,
     "start_time": "2025-08-19T18:49:31.900638",
     "status": "completed"
    },
    "tags": []
   },
   "outputs": [
    {
     "data": {
      "text/html": [
       "<div>\n",
       "<style scoped>\n",
       "    .dataframe tbody tr th:only-of-type {\n",
       "        vertical-align: middle;\n",
       "    }\n",
       "\n",
       "    .dataframe tbody tr th {\n",
       "        vertical-align: top;\n",
       "    }\n",
       "\n",
       "    .dataframe thead th {\n",
       "        text-align: right;\n",
       "    }\n",
       "</style>\n",
       "<table border=\"1\" class=\"dataframe\">\n",
       "  <thead>\n",
       "    <tr style=\"text-align: right;\">\n",
       "      <th></th>\n",
       "      <th>universe_id</th>\n",
       "      <th>universe_training_year</th>\n",
       "      <th>universe_training_size</th>\n",
       "      <th>universe_scale</th>\n",
       "      <th>universe_model</th>\n",
       "      <th>universe_exclude_features</th>\n",
       "      <th>universe_exclude_subgroups</th>\n",
       "      <th>q_hat</th>\n",
       "      <th>coverage</th>\n",
       "      <th>avg_size</th>\n",
       "    </tr>\n",
       "  </thead>\n",
       "  <tbody>\n",
       "    <tr>\n",
       "      <th>0</th>\n",
       "      <td>e9c4c3c052282fdc8f331ac7822c293f</td>\n",
       "      <td>2014</td>\n",
       "      <td>1k</td>\n",
       "      <td>scale</td>\n",
       "      <td>logreg</td>\n",
       "      <td>age</td>\n",
       "      <td>drop-non-german</td>\n",
       "      <td>0.848648</td>\n",
       "      <td>0.907825</td>\n",
       "      <td>1.270048</td>\n",
       "    </tr>\n",
       "  </tbody>\n",
       "</table>\n",
       "</div>"
      ],
      "text/plain": [
       "                        universe_id universe_training_year  \\\n",
       "0  e9c4c3c052282fdc8f331ac7822c293f                   2014   \n",
       "\n",
       "  universe_training_size universe_scale universe_model  \\\n",
       "0                     1k          scale         logreg   \n",
       "\n",
       "  universe_exclude_features universe_exclude_subgroups     q_hat  coverage  \\\n",
       "0                       age            drop-non-german  0.848648  0.907825   \n",
       "\n",
       "   avg_size  \n",
       "0  1.270048  "
      ]
     },
     "execution_count": 50,
     "metadata": {},
     "output_type": "execute_result"
    }
   ],
   "source": [
    "cp_metrics_df"
   ]
  },
  {
   "cell_type": "markdown",
   "id": "ed608b0b",
   "metadata": {
    "papermill": {
     "duration": 0.011683,
     "end_time": "2025-08-19T18:49:31.970881",
     "exception": false,
     "start_time": "2025-08-19T18:49:31.959198",
     "status": "completed"
    },
    "tags": []
   },
   "source": [
    "Conditional coverage & looking at subgroups"
   ]
  },
  {
   "cell_type": "code",
   "execution_count": 51,
   "id": "8968c366",
   "metadata": {
    "execution": {
     "iopub.execute_input": "2025-08-19T18:49:31.996107Z",
     "iopub.status.busy": "2025-08-19T18:49:31.995242Z",
     "iopub.status.idle": "2025-08-19T18:49:32.278481Z",
     "shell.execute_reply": "2025-08-19T18:49:32.277809Z"
    },
    "papermill": {
     "duration": 0.297248,
     "end_time": "2025-08-19T18:49:32.279795",
     "exception": false,
     "start_time": "2025-08-19T18:49:31.982547",
     "status": "completed"
    },
    "tags": []
   },
   "outputs": [],
   "source": [
    "from fairness_multiverse.conformal import build_cp_groups\n",
    "\n",
    "cp_groups_df = build_cp_groups(pred_sets, y_true, X_test.index, org_test)"
   ]
  },
  {
   "cell_type": "code",
   "execution_count": 52,
   "id": "292ddabf",
   "metadata": {
    "execution": {
     "iopub.execute_input": "2025-08-19T18:49:32.306558Z",
     "iopub.status.busy": "2025-08-19T18:49:32.305830Z",
     "iopub.status.idle": "2025-08-19T18:49:33.283102Z",
     "shell.execute_reply": "2025-08-19T18:49:33.281885Z"
    },
    "papermill": {
     "duration": 0.992432,
     "end_time": "2025-08-19T18:49:33.284821",
     "exception": false,
     "start_time": "2025-08-19T18:49:32.292389",
     "status": "completed"
    },
    "tags": []
   },
   "outputs": [],
   "source": [
    "# Define covered = 1 if true_label is in the predicted set\n",
    "cp_groups_df['covered'] = cp_groups_df.apply(\n",
    "    lambda r: int(r['true_label'] in r['pred_set']),\n",
    "    axis=1\n",
    ")"
   ]
  },
  {
   "cell_type": "code",
   "execution_count": 53,
   "id": "3a261692",
   "metadata": {
    "execution": {
     "iopub.execute_input": "2025-08-19T18:49:33.319579Z",
     "iopub.status.busy": "2025-08-19T18:49:33.318305Z",
     "iopub.status.idle": "2025-08-19T18:49:33.343308Z",
     "shell.execute_reply": "2025-08-19T18:49:33.342141Z"
    },
    "papermill": {
     "duration": 0.041116,
     "end_time": "2025-08-19T18:49:33.345401",
     "exception": false,
     "start_time": "2025-08-19T18:49:33.304285",
     "status": "completed"
    },
    "tags": []
   },
   "outputs": [],
   "source": [
    "subgroups = ['frau1','nongerman','nongerman_male','nongerman_female']\n",
    "\n",
    "# Conditional coverage for subgroup==1\n",
    "cond_coverage = {\n",
    "    g: cp_groups_df.loc[cp_groups_df[g]==1, 'covered'].mean()\n",
    "    for g in subgroups\n",
    "}"
   ]
  },
  {
   "cell_type": "code",
   "execution_count": 54,
   "id": "894fd600",
   "metadata": {
    "execution": {
     "iopub.execute_input": "2025-08-19T18:49:33.380643Z",
     "iopub.status.busy": "2025-08-19T18:49:33.379473Z",
     "iopub.status.idle": "2025-08-19T18:49:33.391972Z",
     "shell.execute_reply": "2025-08-19T18:49:33.390314Z"
    },
    "papermill": {
     "duration": 0.027684,
     "end_time": "2025-08-19T18:49:33.393421",
     "exception": false,
     "start_time": "2025-08-19T18:49:33.365737",
     "status": "completed"
    },
    "tags": []
   },
   "outputs": [
    {
     "data": {
      "text/plain": [
       "{'frau1': 0.9034910365278339,\n",
       " 'nongerman': 0.9065289395385393,\n",
       " 'nongerman_male': 0.9262361523912456,\n",
       " 'nongerman_female': 0.873919523099851}"
      ]
     },
     "execution_count": 54,
     "metadata": {},
     "output_type": "execute_result"
    }
   ],
   "source": [
    "cond_coverage"
   ]
  },
  {
   "cell_type": "code",
   "execution_count": 55,
   "id": "942895c7",
   "metadata": {
    "execution": {
     "iopub.execute_input": "2025-08-19T18:49:33.418391Z",
     "iopub.status.busy": "2025-08-19T18:49:33.417997Z",
     "iopub.status.idle": "2025-08-19T18:49:33.428186Z",
     "shell.execute_reply": "2025-08-19T18:49:33.427599Z"
    },
    "papermill": {
     "duration": 0.023872,
     "end_time": "2025-08-19T18:49:33.429241",
     "exception": false,
     "start_time": "2025-08-19T18:49:33.405369",
     "status": "completed"
    },
    "tags": []
   },
   "outputs": [],
   "source": [
    "for subgroup, cov in cond_coverage.items():\n",
    "    cp_metrics_df[f\"cov_{subgroup}\"] = cov"
   ]
  },
  {
   "cell_type": "code",
   "execution_count": 56,
   "id": "3970120f",
   "metadata": {
    "execution": {
     "iopub.execute_input": "2025-08-19T18:49:33.455079Z",
     "iopub.status.busy": "2025-08-19T18:49:33.454723Z",
     "iopub.status.idle": "2025-08-19T18:49:33.468884Z",
     "shell.execute_reply": "2025-08-19T18:49:33.468162Z"
    },
    "papermill": {
     "duration": 0.031252,
     "end_time": "2025-08-19T18:49:33.473145",
     "exception": false,
     "start_time": "2025-08-19T18:49:33.441893",
     "status": "completed"
    },
    "tags": []
   },
   "outputs": [
    {
     "data": {
      "text/html": [
       "<div>\n",
       "<style scoped>\n",
       "    .dataframe tbody tr th:only-of-type {\n",
       "        vertical-align: middle;\n",
       "    }\n",
       "\n",
       "    .dataframe tbody tr th {\n",
       "        vertical-align: top;\n",
       "    }\n",
       "\n",
       "    .dataframe thead th {\n",
       "        text-align: right;\n",
       "    }\n",
       "</style>\n",
       "<table border=\"1\" class=\"dataframe\">\n",
       "  <thead>\n",
       "    <tr style=\"text-align: right;\">\n",
       "      <th></th>\n",
       "      <th>universe_id</th>\n",
       "      <th>universe_training_year</th>\n",
       "      <th>universe_training_size</th>\n",
       "      <th>universe_scale</th>\n",
       "      <th>universe_model</th>\n",
       "      <th>universe_exclude_features</th>\n",
       "      <th>universe_exclude_subgroups</th>\n",
       "      <th>q_hat</th>\n",
       "      <th>coverage</th>\n",
       "      <th>avg_size</th>\n",
       "      <th>cov_frau1</th>\n",
       "      <th>cov_nongerman</th>\n",
       "      <th>cov_nongerman_male</th>\n",
       "      <th>cov_nongerman_female</th>\n",
       "    </tr>\n",
       "  </thead>\n",
       "  <tbody>\n",
       "    <tr>\n",
       "      <th>0</th>\n",
       "      <td>e9c4c3c052282fdc8f331ac7822c293f</td>\n",
       "      <td>2014</td>\n",
       "      <td>1k</td>\n",
       "      <td>scale</td>\n",
       "      <td>logreg</td>\n",
       "      <td>age</td>\n",
       "      <td>drop-non-german</td>\n",
       "      <td>0.848648</td>\n",
       "      <td>0.907825</td>\n",
       "      <td>1.270048</td>\n",
       "      <td>0.903491</td>\n",
       "      <td>0.906529</td>\n",
       "      <td>0.926236</td>\n",
       "      <td>0.87392</td>\n",
       "    </tr>\n",
       "  </tbody>\n",
       "</table>\n",
       "</div>"
      ],
      "text/plain": [
       "                        universe_id universe_training_year  \\\n",
       "0  e9c4c3c052282fdc8f331ac7822c293f                   2014   \n",
       "\n",
       "  universe_training_size universe_scale universe_model  \\\n",
       "0                     1k          scale         logreg   \n",
       "\n",
       "  universe_exclude_features universe_exclude_subgroups     q_hat  coverage  \\\n",
       "0                       age            drop-non-german  0.848648  0.907825   \n",
       "\n",
       "   avg_size  cov_frau1  cov_nongerman  cov_nongerman_male  \\\n",
       "0  1.270048   0.903491       0.906529            0.926236   \n",
       "\n",
       "   cov_nongerman_female  \n",
       "0               0.87392  "
      ]
     },
     "execution_count": 56,
     "metadata": {},
     "output_type": "execute_result"
    }
   ],
   "source": [
    "cp_metrics_df"
   ]
  },
  {
   "cell_type": "markdown",
   "id": "3fc519cc",
   "metadata": {
    "papermill": {
     "duration": 0.012568,
     "end_time": "2025-08-19T18:49:33.517022",
     "exception": false,
     "start_time": "2025-08-19T18:49:33.504454",
     "status": "completed"
    },
    "tags": []
   },
   "source": [
    "# (Fairness) Metrics"
   ]
  },
  {
   "cell_type": "code",
   "execution_count": 57,
   "id": "a2e5e155",
   "metadata": {
    "execution": {
     "iopub.execute_input": "2025-08-19T18:49:33.546509Z",
     "iopub.status.busy": "2025-08-19T18:49:33.546091Z",
     "iopub.status.idle": "2025-08-19T18:49:33.561060Z",
     "shell.execute_reply": "2025-08-19T18:49:33.560444Z"
    },
    "papermill": {
     "duration": 0.029825,
     "end_time": "2025-08-19T18:49:33.562485",
     "exception": false,
     "start_time": "2025-08-19T18:49:33.532660",
     "status": "completed"
    },
    "tags": []
   },
   "outputs": [],
   "source": [
    "colname_to_bin = \"maxdeutsch1\"\n",
    "majority_value = org_train[colname_to_bin].mode()[0]\n",
    "\n",
    "org_test[\"majmin\"] = np.where(org_test[colname_to_bin] == majority_value, \"majority\", \"minority\")"
   ]
  },
  {
   "cell_type": "code",
   "execution_count": 58,
   "id": "17e3e4d5",
   "metadata": {
    "execution": {
     "iopub.execute_input": "2025-08-19T18:49:33.603489Z",
     "iopub.status.busy": "2025-08-19T18:49:33.603195Z",
     "iopub.status.idle": "2025-08-19T18:49:35.349224Z",
     "shell.execute_reply": "2025-08-19T18:49:35.347720Z"
    },
    "papermill": {
     "duration": 1.76225,
     "end_time": "2025-08-19T18:49:35.352147",
     "exception": false,
     "start_time": "2025-08-19T18:49:33.589897",
     "status": "completed"
    },
    "tags": []
   },
   "outputs": [],
   "source": [
    "example_universe = universe.copy()\n",
    "example_universe[\"cutoff\"] = example_universe[\"cutoff\"][0]\n",
    "example_universe[\"eval_fairness_grouping\"] = example_universe[\"eval_fairness_grouping\"][0]\n",
    "fairness_dict, metric_frame = universe_analysis.compute_metrics(\n",
    "    example_universe,\n",
    "    y_pred_prob=probs_test,\n",
    "    y_test=y_true,\n",
    "    org_test=org_test,\n",
    ")"
   ]
  },
  {
   "cell_type": "markdown",
   "id": "1fb7a0e9",
   "metadata": {
    "papermill": {
     "duration": 0.013952,
     "end_time": "2025-08-19T18:49:35.392312",
     "exception": false,
     "start_time": "2025-08-19T18:49:35.378360",
     "status": "completed"
    },
    "tags": []
   },
   "source": [
    "# Overall"
   ]
  },
  {
   "cell_type": "markdown",
   "id": "be1784b1",
   "metadata": {
    "papermill": {
     "duration": 0.012621,
     "end_time": "2025-08-19T18:49:35.417790",
     "exception": false,
     "start_time": "2025-08-19T18:49:35.405169",
     "status": "completed"
    },
    "tags": []
   },
   "source": [
    "Main fairness target: Equalized Odds. Seems to be a better fit than equal opportunity, since we're not only interested in Y = 1. Seems to be a better fit than demographic parity, since we also care about accuracy, not just equal distribution of preds.\n",
    "\n",
    "Pick column for computation of fairness metrics\n",
    "\n",
    "Performance\n",
    "Overall performance measures, most interesting in relation to the measures split by group below"
   ]
  },
  {
   "cell_type": "code",
   "execution_count": 59,
   "id": "b7672bee",
   "metadata": {
    "execution": {
     "iopub.execute_input": "2025-08-19T18:49:35.446328Z",
     "iopub.status.busy": "2025-08-19T18:49:35.445556Z",
     "iopub.status.idle": "2025-08-19T18:49:35.459901Z",
     "shell.execute_reply": "2025-08-19T18:49:35.458877Z"
    },
    "papermill": {
     "duration": 0.031077,
     "end_time": "2025-08-19T18:49:35.461433",
     "exception": false,
     "start_time": "2025-08-19T18:49:35.430356",
     "status": "completed"
    },
    "tags": []
   },
   "outputs": [
    {
     "data": {
      "text/plain": [
       "accuracy                   0.216152\n",
       "balanced accuracy          0.530244\n",
       "f1                         0.237710\n",
       "precision                  0.135796\n",
       "false positive rate        0.892241\n",
       "false negative rate        0.047271\n",
       "selection rate             0.900000\n",
       "count                  89710.000000\n",
       "dtype: float64"
      ]
     },
     "execution_count": 59,
     "metadata": {},
     "output_type": "execute_result"
    }
   ],
   "source": [
    "metric_frame.overall"
   ]
  },
  {
   "cell_type": "markdown",
   "id": "d93333c9",
   "metadata": {
    "papermill": {
     "duration": 0.012417,
     "end_time": "2025-08-19T18:49:35.488711",
     "exception": false,
     "start_time": "2025-08-19T18:49:35.476294",
     "status": "completed"
    },
    "tags": []
   },
   "source": [
    "By Group"
   ]
  },
  {
   "cell_type": "code",
   "execution_count": 60,
   "id": "52256966",
   "metadata": {
    "execution": {
     "iopub.execute_input": "2025-08-19T18:49:35.515902Z",
     "iopub.status.busy": "2025-08-19T18:49:35.515223Z",
     "iopub.status.idle": "2025-08-19T18:49:35.537101Z",
     "shell.execute_reply": "2025-08-19T18:49:35.536035Z"
    },
    "papermill": {
     "duration": 0.037875,
     "end_time": "2025-08-19T18:49:35.538846",
     "exception": false,
     "start_time": "2025-08-19T18:49:35.500971",
     "status": "completed"
    },
    "tags": []
   },
   "outputs": [
    {
     "data": {
      "text/html": [
       "<div>\n",
       "<style scoped>\n",
       "    .dataframe tbody tr th:only-of-type {\n",
       "        vertical-align: middle;\n",
       "    }\n",
       "\n",
       "    .dataframe tbody tr th {\n",
       "        vertical-align: top;\n",
       "    }\n",
       "\n",
       "    .dataframe thead th {\n",
       "        text-align: right;\n",
       "    }\n",
       "</style>\n",
       "<table border=\"1\" class=\"dataframe\">\n",
       "  <thead>\n",
       "    <tr style=\"text-align: right;\">\n",
       "      <th></th>\n",
       "      <th>accuracy</th>\n",
       "      <th>balanced accuracy</th>\n",
       "      <th>f1</th>\n",
       "      <th>precision</th>\n",
       "      <th>false positive rate</th>\n",
       "      <th>false negative rate</th>\n",
       "      <th>selection rate</th>\n",
       "      <th>count</th>\n",
       "    </tr>\n",
       "    <tr>\n",
       "      <th>majmin</th>\n",
       "      <th></th>\n",
       "      <th></th>\n",
       "      <th></th>\n",
       "      <th></th>\n",
       "      <th></th>\n",
       "      <th></th>\n",
       "      <th></th>\n",
       "      <th></th>\n",
       "    </tr>\n",
       "  </thead>\n",
       "  <tbody>\n",
       "    <tr>\n",
       "      <th>majority</th>\n",
       "      <td>0.229073</td>\n",
       "      <td>0.534839</td>\n",
       "      <td>0.245746</td>\n",
       "      <td>0.141117</td>\n",
       "      <td>0.880760</td>\n",
       "      <td>0.049562</td>\n",
       "      <td>0.889967</td>\n",
       "      <td>69170.0</td>\n",
       "    </tr>\n",
       "    <tr>\n",
       "      <th>minority</th>\n",
       "      <td>0.172639</td>\n",
       "      <td>0.515702</td>\n",
       "      <td>0.211342</td>\n",
       "      <td>0.118717</td>\n",
       "      <td>0.930167</td>\n",
       "      <td>0.038429</td>\n",
       "      <td>0.933788</td>\n",
       "      <td>20540.0</td>\n",
       "    </tr>\n",
       "  </tbody>\n",
       "</table>\n",
       "</div>"
      ],
      "text/plain": [
       "          accuracy  balanced accuracy        f1  precision  \\\n",
       "majmin                                                       \n",
       "majority  0.229073           0.534839  0.245746   0.141117   \n",
       "minority  0.172639           0.515702  0.211342   0.118717   \n",
       "\n",
       "          false positive rate  false negative rate  selection rate    count  \n",
       "majmin                                                                       \n",
       "majority             0.880760             0.049562        0.889967  69170.0  \n",
       "minority             0.930167             0.038429        0.933788  20540.0  "
      ]
     },
     "execution_count": 60,
     "metadata": {},
     "output_type": "execute_result"
    }
   ],
   "source": [
    "metric_frame.by_group"
   ]
  },
  {
   "cell_type": "code",
   "execution_count": 61,
   "id": "6e6c20ae",
   "metadata": {
    "execution": {
     "iopub.execute_input": "2025-08-19T18:49:35.573341Z",
     "iopub.status.busy": "2025-08-19T18:49:35.572657Z",
     "iopub.status.idle": "2025-08-19T18:49:37.531677Z",
     "shell.execute_reply": "2025-08-19T18:49:37.530720Z"
    },
    "papermill": {
     "duration": 1.975236,
     "end_time": "2025-08-19T18:49:37.533041",
     "exception": false,
     "start_time": "2025-08-19T18:49:35.557805",
     "status": "completed"
    },
    "tags": []
   },
   "outputs": [
    {
     "data": {
      "text/plain": [
       "array([[<Axes: title={'center': 'accuracy'}, xlabel='majmin'>,\n",
       "        <Axes: title={'center': 'balanced accuracy'}, xlabel='majmin'>,\n",
       "        <Axes: title={'center': 'f1'}, xlabel='majmin'>],\n",
       "       [<Axes: title={'center': 'precision'}, xlabel='majmin'>,\n",
       "        <Axes: title={'center': 'false positive rate'}, xlabel='majmin'>,\n",
       "        <Axes: title={'center': 'false negative rate'}, xlabel='majmin'>],\n",
       "       [<Axes: title={'center': 'selection rate'}, xlabel='majmin'>,\n",
       "        <Axes: title={'center': 'count'}, xlabel='majmin'>,\n",
       "        <Axes: xlabel='majmin'>]], dtype=object)"
      ]
     },
     "execution_count": 61,
     "metadata": {},
     "output_type": "execute_result"
    },
    {
     "data": {
      "image/png": "[encoded data removed]",
      "text/plain": [
       "<Figure size 1200x800 with 9 Axes>"
      ]
     },
     "metadata": {},
     "output_type": "display_data"
    }
   ],
   "source": [
    "# In a graphic\n",
    "metric_frame.by_group.plot.bar(\n",
    "    subplots=True,\n",
    "    layout=[3, 3],\n",
    "    legend=False,\n",
    "    figsize=[12, 8],\n",
    "    title=\"Show all metrics\",\n",
    ")"
   ]
  },
  {
   "cell_type": "markdown",
   "id": "b2e433ae",
   "metadata": {
    "papermill": {
     "duration": 0.021836,
     "end_time": "2025-08-19T18:49:37.570327",
     "exception": false,
     "start_time": "2025-08-19T18:49:37.548491",
     "status": "completed"
    },
    "tags": []
   },
   "source": [
    "# Final Output"
   ]
  },
  {
   "cell_type": "code",
   "execution_count": 62,
   "id": "3871301e",
   "metadata": {
    "execution": {
     "iopub.execute_input": "2025-08-19T18:49:37.601384Z",
     "iopub.status.busy": "2025-08-19T18:49:37.600452Z",
     "iopub.status.idle": "2025-08-19T18:49:37.609638Z",
     "shell.execute_reply": "2025-08-19T18:49:37.608964Z"
    },
    "papermill": {
     "duration": 0.025811,
     "end_time": "2025-08-19T18:49:37.610888",
     "exception": false,
     "start_time": "2025-08-19T18:49:37.585077",
     "status": "completed"
    },
    "tags": []
   },
   "outputs": [
    {
     "data": {
      "text/plain": [
       "4"
      ]
     },
     "execution_count": 62,
     "metadata": {},
     "output_type": "execute_result"
    }
   ],
   "source": [
    "sub_universes = universe_analysis.generate_sub_universes()\n",
    "len(sub_universes)"
   ]
  },
  {
   "cell_type": "code",
   "execution_count": 63,
   "id": "d9cfdaca",
   "metadata": {
    "execution": {
     "iopub.execute_input": "2025-08-19T18:49:37.642477Z",
     "iopub.status.busy": "2025-08-19T18:49:37.641549Z",
     "iopub.status.idle": "2025-08-19T18:49:37.662802Z",
     "shell.execute_reply": "2025-08-19T18:49:37.661587Z"
    },
    "papermill": {
     "duration": 0.038407,
     "end_time": "2025-08-19T18:49:37.664545",
     "exception": false,
     "start_time": "2025-08-19T18:49:37.626138",
     "status": "completed"
    },
    "tags": []
   },
   "outputs": [],
   "source": [
    "def filter_sub_universe_data(sub_universe, org_test):\n",
    "    # Keep all rows — no filtering\n",
    "    keep_rows_mask = np.ones(org_test.shape[0], dtype=bool)\n",
    "\n",
    "    print(f\"[INFO] Keeping all rows: {keep_rows_mask.sum()} rows retained.\")\n",
    "    return keep_rows_mask"
   ]
  },
  {
   "cell_type": "code",
   "execution_count": 64,
   "id": "2bc31ac1",
   "metadata": {
    "execution": {
     "iopub.execute_input": "2025-08-19T18:49:37.701143Z",
     "iopub.status.busy": "2025-08-19T18:49:37.699843Z",
     "iopub.status.idle": "2025-08-19T18:49:44.284123Z",
     "shell.execute_reply": "2025-08-19T18:49:44.282932Z"
    },
    "papermill": {
     "duration": 6.601736,
     "end_time": "2025-08-19T18:49:44.285490",
     "exception": false,
     "start_time": "2025-08-19T18:49:37.683754",
     "status": "completed"
    },
    "tags": []
   },
   "outputs": [
    {
     "name": "stdout",
     "output_type": "stream",
     "text": [
      "Stopping execution_time clock.\n",
      "[INFO] Keeping all rows: 89710 rows retained.\n"
     ]
    },
    {
     "name": "stdout",
     "output_type": "stream",
     "text": [
      "[INFO] Keeping all rows: 89710 rows retained.\n"
     ]
    },
    {
     "name": "stdout",
     "output_type": "stream",
     "text": [
      "[INFO] Keeping all rows: 89710 rows retained.\n"
     ]
    },
    {
     "name": "stdout",
     "output_type": "stream",
     "text": [
      "[INFO] Keeping all rows: 89710 rows retained.\n"
     ]
    },
    {
     "data": {
      "text/html": [
       "<div>\n",
       "<style scoped>\n",
       "    .dataframe tbody tr th:only-of-type {\n",
       "        vertical-align: middle;\n",
       "    }\n",
       "\n",
       "    .dataframe tbody tr th {\n",
       "        vertical-align: top;\n",
       "    }\n",
       "\n",
       "    .dataframe thead th {\n",
       "        text-align: right;\n",
       "    }\n",
       "</style>\n",
       "<table border=\"1\" class=\"dataframe\">\n",
       "  <thead>\n",
       "    <tr style=\"text-align: right;\">\n",
       "      <th></th>\n",
       "      <th>run_no</th>\n",
       "      <th>universe_id</th>\n",
       "      <th>universe_settings</th>\n",
       "      <th>execution_time</th>\n",
       "      <th>test_size_n</th>\n",
       "      <th>test_size_frac</th>\n",
       "      <th>fair_main_equalized_odds_difference</th>\n",
       "      <th>fair_main_equalized_odds_ratio</th>\n",
       "      <th>fair_main_demographic_parity_difference</th>\n",
       "      <th>fair_main_demographic_parity_ratio</th>\n",
       "      <th>...</th>\n",
       "      <th>perf_grp_precision_0</th>\n",
       "      <th>perf_grp_precision_1</th>\n",
       "      <th>perf_grp_false positive rate_0</th>\n",
       "      <th>perf_grp_false positive rate_1</th>\n",
       "      <th>perf_grp_false negative rate_0</th>\n",
       "      <th>perf_grp_false negative rate_1</th>\n",
       "      <th>perf_grp_selection rate_0</th>\n",
       "      <th>perf_grp_selection rate_1</th>\n",
       "      <th>perf_grp_count_0</th>\n",
       "      <th>perf_grp_count_1</th>\n",
       "    </tr>\n",
       "  </thead>\n",
       "  <tbody>\n",
       "    <tr>\n",
       "      <th>0</th>\n",
       "      <td>3</td>\n",
       "      <td>e9c4c3c052282fdc8f331ac7822c293f</td>\n",
       "      <td>{\"cutoff\": \"quantile_0.1\", \"eval_fairness_grou...</td>\n",
       "      <td>20.345686</td>\n",
       "      <td>89710</td>\n",
       "      <td>1.0</td>\n",
       "      <td>0.049408</td>\n",
       "      <td>0.946883</td>\n",
       "      <td>0.043821</td>\n",
       "      <td>0.953072</td>\n",
       "      <td>...</td>\n",
       "      <td>NaN</td>\n",
       "      <td>NaN</td>\n",
       "      <td>NaN</td>\n",
       "      <td>NaN</td>\n",
       "      <td>NaN</td>\n",
       "      <td>NaN</td>\n",
       "      <td>NaN</td>\n",
       "      <td>NaN</td>\n",
       "      <td>NaN</td>\n",
       "      <td>NaN</td>\n",
       "    </tr>\n",
       "    <tr>\n",
       "      <th>0</th>\n",
       "      <td>3</td>\n",
       "      <td>e9c4c3c052282fdc8f331ac7822c293f</td>\n",
       "      <td>{\"cutoff\": \"quantile_0.1\", \"eval_fairness_grou...</td>\n",
       "      <td>20.345686</td>\n",
       "      <td>89710</td>\n",
       "      <td>1.0</td>\n",
       "      <td>0.049408</td>\n",
       "      <td>0.946883</td>\n",
       "      <td>0.043821</td>\n",
       "      <td>0.953072</td>\n",
       "      <td>...</td>\n",
       "      <td>0.118717</td>\n",
       "      <td>0.141117</td>\n",
       "      <td>0.930167</td>\n",
       "      <td>0.880760</td>\n",
       "      <td>0.038429</td>\n",
       "      <td>0.049562</td>\n",
       "      <td>0.933788</td>\n",
       "      <td>0.889967</td>\n",
       "      <td>20540.0</td>\n",
       "      <td>69170.0</td>\n",
       "    </tr>\n",
       "    <tr>\n",
       "      <th>0</th>\n",
       "      <td>3</td>\n",
       "      <td>e9c4c3c052282fdc8f331ac7822c293f</td>\n",
       "      <td>{\"cutoff\": \"quantile_0.25\", \"eval_fairness_gro...</td>\n",
       "      <td>20.345686</td>\n",
       "      <td>89710</td>\n",
       "      <td>1.0</td>\n",
       "      <td>0.064309</td>\n",
       "      <td>0.917754</td>\n",
       "      <td>0.052605</td>\n",
       "      <td>0.933458</td>\n",
       "      <td>...</td>\n",
       "      <td>NaN</td>\n",
       "      <td>NaN</td>\n",
       "      <td>NaN</td>\n",
       "      <td>NaN</td>\n",
       "      <td>NaN</td>\n",
       "      <td>NaN</td>\n",
       "      <td>NaN</td>\n",
       "      <td>NaN</td>\n",
       "      <td>NaN</td>\n",
       "      <td>NaN</td>\n",
       "    </tr>\n",
       "    <tr>\n",
       "      <th>0</th>\n",
       "      <td>3</td>\n",
       "      <td>e9c4c3c052282fdc8f331ac7822c293f</td>\n",
       "      <td>{\"cutoff\": \"quantile_0.25\", \"eval_fairness_gro...</td>\n",
       "      <td>20.345686</td>\n",
       "      <td>89710</td>\n",
       "      <td>1.0</td>\n",
       "      <td>0.064309</td>\n",
       "      <td>0.917754</td>\n",
       "      <td>0.052605</td>\n",
       "      <td>0.933458</td>\n",
       "      <td>...</td>\n",
       "      <td>0.124954</td>\n",
       "      <td>0.156061</td>\n",
       "      <td>0.781917</td>\n",
       "      <td>0.717608</td>\n",
       "      <td>0.143159</td>\n",
       "      <td>0.128446</td>\n",
       "      <td>0.790555</td>\n",
       "      <td>0.737950</td>\n",
       "      <td>20540.0</td>\n",
       "      <td>69170.0</td>\n",
       "    </tr>\n",
       "  </tbody>\n",
       "</table>\n",
       "<p>4 rows × 50 columns</p>\n",
       "</div>"
      ],
      "text/plain": [
       "  run_no                       universe_id  \\\n",
       "0      3  e9c4c3c052282fdc8f331ac7822c293f   \n",
       "0      3  e9c4c3c052282fdc8f331ac7822c293f   \n",
       "0      3  e9c4c3c052282fdc8f331ac7822c293f   \n",
       "0      3  e9c4c3c052282fdc8f331ac7822c293f   \n",
       "\n",
       "                                   universe_settings  execution_time  \\\n",
       "0  {\"cutoff\": \"quantile_0.1\", \"eval_fairness_grou...       20.345686   \n",
       "0  {\"cutoff\": \"quantile_0.1\", \"eval_fairness_grou...       20.345686   \n",
       "0  {\"cutoff\": \"quantile_0.25\", \"eval_fairness_gro...       20.345686   \n",
       "0  {\"cutoff\": \"quantile_0.25\", \"eval_fairness_gro...       20.345686   \n",
       "\n",
       "   test_size_n  test_size_frac  fair_main_equalized_odds_difference  \\\n",
       "0        89710             1.0                             0.049408   \n",
       "0        89710             1.0                             0.049408   \n",
       "0        89710             1.0                             0.064309   \n",
       "0        89710             1.0                             0.064309   \n",
       "\n",
       "   fair_main_equalized_odds_ratio  fair_main_demographic_parity_difference  \\\n",
       "0                        0.946883                                 0.043821   \n",
       "0                        0.946883                                 0.043821   \n",
       "0                        0.917754                                 0.052605   \n",
       "0                        0.917754                                 0.052605   \n",
       "\n",
       "   fair_main_demographic_parity_ratio  ...  perf_grp_precision_0  \\\n",
       "0                            0.953072  ...                   NaN   \n",
       "0                            0.953072  ...              0.118717   \n",
       "0                            0.933458  ...                   NaN   \n",
       "0                            0.933458  ...              0.124954   \n",
       "\n",
       "   perf_grp_precision_1  perf_grp_false positive rate_0  \\\n",
       "0                   NaN                             NaN   \n",
       "0              0.141117                        0.930167   \n",
       "0                   NaN                             NaN   \n",
       "0              0.156061                        0.781917   \n",
       "\n",
       "   perf_grp_false positive rate_1  perf_grp_false negative rate_0  \\\n",
       "0                             NaN                             NaN   \n",
       "0                        0.880760                        0.038429   \n",
       "0                             NaN                             NaN   \n",
       "0                        0.717608                        0.143159   \n",
       "\n",
       "   perf_grp_false negative rate_1  perf_grp_selection rate_0  \\\n",
       "0                             NaN                        NaN   \n",
       "0                        0.049562                   0.933788   \n",
       "0                             NaN                        NaN   \n",
       "0                        0.128446                   0.790555   \n",
       "\n",
       "   perf_grp_selection rate_1  perf_grp_count_0  perf_grp_count_1  \n",
       "0                        NaN               NaN               NaN  \n",
       "0                   0.889967           20540.0           69170.0  \n",
       "0                        NaN               NaN               NaN  \n",
       "0                   0.737950           20540.0           69170.0  \n",
       "\n",
       "[4 rows x 50 columns]"
      ]
     },
     "execution_count": 64,
     "metadata": {},
     "output_type": "execute_result"
    }
   ],
   "source": [
    "final_output = universe_analysis.generate_final_output(\n",
    "    y_pred_prob=probs_test,\n",
    "    y_test=y_true,\n",
    "    org_test=org_test,\n",
    "    filter_data=filter_sub_universe_data,\n",
    "    cp_metrics_df=cp_metrics_df,\n",
    "    save=True,\n",
    ")\n",
    "final_output"
   ]
  },
  {
   "cell_type": "code",
   "execution_count": null,
   "id": "8b80a1ff",
   "metadata": {
    "papermill": {
     "duration": 0.028985,
     "end_time": "2025-08-19T18:49:44.341644",
     "exception": false,
     "start_time": "2025-08-19T18:49:44.312659",
     "status": "completed"
    },
    "tags": []
   },
   "outputs": [],
   "source": []
  },
  {
   "cell_type": "code",
   "execution_count": null,
   "id": "275c9fad",
   "metadata": {
    "papermill": {
     "duration": 0.018651,
     "end_time": "2025-08-19T18:49:44.385985",
     "exception": false,
     "start_time": "2025-08-19T18:49:44.367334",
     "status": "completed"
    },
    "tags": []
   },
   "outputs": [],
   "source": []
  }
 ],
 "metadata": {
  "celltoolbar": "Tags",
  "kernelspec": {
   "display_name": "Python (CMA Fairness)",
   "language": "python",
   "name": "cma_fair_env"
  },
  "language_info": {
   "codemirror_mode": {
    "name": "ipython",
    "version": 3
   },
   "file_extension": ".py",
   "mimetype": "text/x-python",
   "name": "python",
   "nbconvert_exporter": "python",
   "pygments_lexer": "ipython3",
   "version": "3.10.12"
  },
  "papermill": {
   "default_parameters": {},
   "duration": 30.609103,
   "end_time": "2025-08-19T18:49:45.226113",
   "environment_variables": {},
   "exception": null,
   "input_path": "universe_analysis.ipynb",
   "output_path": "output/runs/3/notebooks/m_3-e9c4c3c052282fdc8f331ac7822c293f.ipynb",
   "parameters": {
    "output_dir": "output",
    "run_no": "3",
    "seed": "2023",
    "universe": "{\"cutoff\": [\"quantile_0.1\", \"quantile_0.25\"], \"eval_fairness_grouping\": [\"majority-minority\", \"nationality-all\"], \"exclude_features\": \"age\", \"exclude_subgroups\": \"drop-non-german\", \"model\": \"logreg\", \"scale\": \"scale\", \"training_size\": \"1k\", \"training_year\": \"2014\"}",
    "universe_id": "e9c4c3c052282fdc8f331ac7822c293f"
   },
   "start_time": "2025-08-19T18:49:14.617010",
   "version": "2.6.0"
  }
 },
 "nbformat": 4,
 "nbformat_minor": 5
}