{
 "cells": [
  {
   "cell_type": "markdown",
   "id": "ef23dbb3",
   "metadata": {
    "papermill": {
     "duration": 0.009364,
     "end_time": "2025-08-19T18:26:47.735278",
     "exception": false,
     "start_time": "2025-08-19T18:26:47.725914",
     "status": "completed"
    },
    "tags": []
   },
   "source": [
    "# Setup"
   ]
  },
  {
   "cell_type": "code",
   "execution_count": 1,
   "id": "0bc8e7dc",
   "metadata": {
    "execution": {
     "iopub.execute_input": "2025-08-19T18:26:47.756123Z",
     "iopub.status.busy": "2025-08-19T18:26:47.754680Z",
     "iopub.status.idle": "2025-08-19T18:26:47.769438Z",
     "shell.execute_reply": "2025-08-19T18:26:47.768697Z"
    },
    "papermill": {
     "duration": 0.028207,
     "end_time": "2025-08-19T18:26:47.772190",
     "exception": false,
     "start_time": "2025-08-19T18:26:47.743983",
     "status": "completed"
    },
    "tags": []
   },
   "outputs": [
    {
     "name": "stdout",
     "output_type": "stream",
     "text": [
      "/dss/dsshome1/0C/ra93lal2/cma/CMA_Fairness_v2\n"
     ]
    },
    {
     "name": "stderr",
     "output_type": "stream",
     "text": [
      "/dss/dsshome1/0C/ra93lal2/.local/share/virtualenvs/CMA_Fairness_v2-3j10GkSs/lib/python3.10/site-packages/IPython/core/magics/osm.py:393: UserWarning: This is now an optional IPython functionality, using bookmarks requires you to install the `pickleshare` library.\n",
      "  bkms = self.shell.db.get('bookmarks', {})\n",
      "/dss/dsshome1/0C/ra93lal2/.local/share/virtualenvs/CMA_Fairness_v2-3j10GkSs/lib/python3.10/site-packages/IPython/core/magics/osm.py:417: UserWarning: This is now an optional IPython functionality, setting dhist requires you to install the `pickleshare` library.\n",
      "  self.shell.db['dhist'] = compress_dhist(dhist)[-100:]\n"
     ]
    }
   ],
   "source": [
    "%cd ~/cma/CMA_Fairness_v2"
   ]
  },
  {
   "cell_type": "markdown",
   "id": "9d235661",
   "metadata": {
    "papermill": {
     "duration": 0.009415,
     "end_time": "2025-08-19T18:26:47.793452",
     "exception": false,
     "start_time": "2025-08-19T18:26:47.784037",
     "status": "completed"
    },
    "tags": []
   },
   "source": [
    "The following cell holds the definition of our parameters, these values can be overriden by rendering the with e.g. the following command:\n",
    "\n",
    "papermill -p alpha 0.2 -p ratio 0.3 universe_analysis.ipynb output/test_run.ipynb"
   ]
  },
  {
   "cell_type": "code",
   "execution_count": 2,
   "id": "4a789d8e",
   "metadata": {
    "execution": {
     "iopub.execute_input": "2025-08-19T18:26:47.813488Z",
     "iopub.status.busy": "2025-08-19T18:26:47.813117Z",
     "iopub.status.idle": "2025-08-19T18:26:47.816976Z",
     "shell.execute_reply": "2025-08-19T18:26:47.816402Z"
    },
    "papermill": {
     "duration": 0.015463,
     "end_time": "2025-08-19T18:26:47.818386",
     "exception": false,
     "start_time": "2025-08-19T18:26:47.802923",
     "status": "completed"
    },
    "tags": []
   },
   "outputs": [
    {
     "name": "stdout",
     "output_type": "stream",
     "text": [
      "Current working directory: /dss/dsshome1/0C/ra93lal2/cma/CMA_Fairness_v2\n"
     ]
    }
   ],
   "source": [
    "import os\n",
    "print(\"Current working directory:\", os.getcwd())"
   ]
  },
  {
   "cell_type": "code",
   "execution_count": 3,
   "id": "4132aaed",
   "metadata": {
    "execution": {
     "iopub.execute_input": "2025-08-19T18:26:47.838401Z",
     "iopub.status.busy": "2025-08-19T18:26:47.838045Z",
     "iopub.status.idle": "2025-08-19T18:26:47.842384Z",
     "shell.execute_reply": "2025-08-19T18:26:47.841780Z"
    },
    "papermill": {
     "duration": 0.01588,
     "end_time": "2025-08-19T18:26:47.843603",
     "exception": false,
     "start_time": "2025-08-19T18:26:47.827723",
     "status": "completed"
    },
    "tags": [
     "parameters"
    ]
   },
   "outputs": [],
   "source": [
    "run_no = 0\n",
    "universe_id = \"test\"\n",
    "universe = {\n",
    "    \"training_size\": \"5k\", # \"25k\", \"5k\", \"1k\"\n",
    "    \"training_year\": \"2012_14\", # \"2014\", \"2012_14\", \"2010_14\"\n",
    "    \"scale\": \"scale\", # \"scale\", \"do-not-scale\",\n",
    "    \"model\": \"elasticnet\", # \"logreg\", \"penalized_logreg\", \"rf\", \"gbm\", \"elasticnet\"\n",
    "    \"cutoff\": [\"quantile_0.15\", \"quantile_0.30\"],\n",
    "    \"exclude_features\": \"age\", # \"none\", \"nationality\", \"sex\", \"nationality-sex\", \"age\"\n",
    "    \"exclude_subgroups\": \"drop-non-german\", # \"keep-all\", \"drop-non-german\"\n",
    "    \"eval_fairness_grouping\": [\"majority-minority\", \"nationality-all\"]\n",
    "}\n",
    "\n",
    "output_dir=\"./output\"\n",
    "seed=0"
   ]
  },
  {
   "cell_type": "code",
   "execution_count": 4,
   "id": "628f63eb",
   "metadata": {
    "execution": {
     "iopub.execute_input": "2025-08-19T18:26:47.863672Z",
     "iopub.status.busy": "2025-08-19T18:26:47.863338Z",
     "iopub.status.idle": "2025-08-19T18:26:47.867296Z",
     "shell.execute_reply": "2025-08-19T18:26:47.866580Z"
    },
    "papermill": {
     "duration": 0.015001,
     "end_time": "2025-08-19T18:26:47.868456",
     "exception": false,
     "start_time": "2025-08-19T18:26:47.853455",
     "status": "completed"
    },
    "tags": [
     "injected-parameters"
    ]
   },
   "outputs": [],
   "source": [
    "# Parameters\n",
    "universe_id = \"68631903985693e17db38f7d216d7b37\"\n",
    "run_no = \"3\"\n",
    "universe = \"{\\\"cutoff\\\": [\\\"quantile_0.1\\\", \\\"quantile_0.25\\\"], \\\"eval_fairness_grouping\\\": [\\\"majority-minority\\\", \\\"nationality-all\\\"], \\\"exclude_features\\\": \\\"none\\\", \\\"exclude_subgroups\\\": \\\"drop-non-german\\\", \\\"model\\\": \\\"logreg\\\", \\\"scale\\\": \\\"do-not-scale\\\", \\\"training_size\\\": \\\"5k\\\", \\\"training_year\\\": \\\"2014\\\"}\"\n",
    "output_dir = \"output\"\n",
    "seed = \"2023\"\n"
   ]
  },
  {
   "cell_type": "code",
   "execution_count": 5,
   "id": "a5d7941f",
   "metadata": {
    "execution": {
     "iopub.execute_input": "2025-08-19T18:26:47.887831Z",
     "iopub.status.busy": "2025-08-19T18:26:47.887504Z",
     "iopub.status.idle": "2025-08-19T18:26:47.891179Z",
     "shell.execute_reply": "2025-08-19T18:26:47.890493Z"
    },
    "papermill": {
     "duration": 0.014896,
     "end_time": "2025-08-19T18:26:47.892425",
     "exception": false,
     "start_time": "2025-08-19T18:26:47.877529",
     "status": "completed"
    },
    "tags": []
   },
   "outputs": [],
   "source": [
    "import json\n",
    "if isinstance(universe, str):\n",
    "    universe = json.loads(universe)"
   ]
  },
  {
   "cell_type": "code",
   "execution_count": 6,
   "id": "7076ccb1",
   "metadata": {
    "execution": {
     "iopub.execute_input": "2025-08-19T18:26:47.912681Z",
     "iopub.status.busy": "2025-08-19T18:26:47.912049Z",
     "iopub.status.idle": "2025-08-19T18:26:47.960901Z",
     "shell.execute_reply": "2025-08-19T18:26:47.960251Z"
    },
    "papermill": {
     "duration": 0.060361,
     "end_time": "2025-08-19T18:26:47.962202",
     "exception": false,
     "start_time": "2025-08-19T18:26:47.901841",
     "status": "completed"
    },
    "tags": []
   },
   "outputs": [],
   "source": [
    "# Auto-reload the custom package\n",
    "%load_ext autoreload\n",
    "%autoreload 1\n",
    "%aimport fairness_multiverse"
   ]
  },
  {
   "cell_type": "code",
   "execution_count": 7,
   "id": "94c8eb93",
   "metadata": {
    "execution": {
     "iopub.execute_input": "2025-08-19T18:26:47.983324Z",
     "iopub.status.busy": "2025-08-19T18:26:47.982691Z",
     "iopub.status.idle": "2025-08-19T18:26:49.604109Z",
     "shell.execute_reply": "2025-08-19T18:26:49.602785Z"
    },
    "papermill": {
     "duration": 1.635556,
     "end_time": "2025-08-19T18:26:49.607802",
     "exception": false,
     "start_time": "2025-08-19T18:26:47.972246",
     "status": "completed"
    },
    "tags": []
   },
   "outputs": [],
   "source": [
    "from fairness_multiverse.universe import UniverseAnalysis\n",
    "\n",
    "universe_analysis = UniverseAnalysis(\n",
    "    run_no = run_no,\n",
    "    universe_id = universe_id,\n",
    "    universe = universe,\n",
    "    output_dir=output_dir,\n",
    ")"
   ]
  },
  {
   "cell_type": "code",
   "execution_count": 8,
   "id": "2a6381cf",
   "metadata": {
    "execution": {
     "iopub.execute_input": "2025-08-19T18:26:49.642086Z",
     "iopub.status.busy": "2025-08-19T18:26:49.641470Z",
     "iopub.status.idle": "2025-08-19T18:26:49.651964Z",
     "shell.execute_reply": "2025-08-19T18:26:49.650772Z"
    },
    "papermill": {
     "duration": 0.025191,
     "end_time": "2025-08-19T18:26:49.653267",
     "exception": false,
     "start_time": "2025-08-19T18:26:49.628076",
     "status": "completed"
    },
    "tags": []
   },
   "outputs": [
    {
     "name": "stdout",
     "output_type": "stream",
     "text": [
      "Using Seed: 2023\n"
     ]
    }
   ],
   "source": [
    "import numpy as np\n",
    "parsed_seed = int(seed)\n",
    "np.random.seed(parsed_seed)\n",
    "print(f\"Using Seed: {parsed_seed}\")"
   ]
  },
  {
   "cell_type": "markdown",
   "id": "b6e958b4",
   "metadata": {
    "papermill": {
     "duration": 0.008989,
     "end_time": "2025-08-19T18:26:49.674216",
     "exception": false,
     "start_time": "2025-08-19T18:26:49.665227",
     "status": "completed"
    },
    "tags": []
   },
   "source": [
    "# Loading Data"
   ]
  },
  {
   "cell_type": "code",
   "execution_count": 9,
   "id": "98701482",
   "metadata": {
    "execution": {
     "iopub.execute_input": "2025-08-19T18:26:49.698769Z",
     "iopub.status.busy": "2025-08-19T18:26:49.698096Z",
     "iopub.status.idle": "2025-08-19T18:26:59.969054Z",
     "shell.execute_reply": "2025-08-19T18:26:59.968053Z"
    },
    "papermill": {
     "duration": 10.284859,
     "end_time": "2025-08-19T18:26:59.970641",
     "exception": false,
     "start_time": "2025-08-19T18:26:49.685782",
     "status": "completed"
    },
    "tags": []
   },
   "outputs": [
    {
     "name": "stdout",
     "output_type": "stream",
     "text": [
      "Loading SIAB data from cache: data/siab_cached.csv.gz\n"
     ]
    },
    {
     "name": "stdout",
     "output_type": "stream",
     "text": [
      "(643690, 164)\n"
     ]
    }
   ],
   "source": [
    "from pathlib import Path\n",
    "import pandas as pd\n",
    "\n",
    "# File paths\n",
    "raw_file = Path(\"data/raw/siab.csv\")\n",
    "cache_file = Path(\"data/siab_cached.csv.gz\")\n",
    "\n",
    "# Ensure cache directory exists\n",
    "cache_file.parent.mkdir(parents=True, exist_ok=True)\n",
    "\n",
    "# Load with simple caching\n",
    "if cache_file.exists():\n",
    "    print(f\"Loading SIAB data from cache: {cache_file}\")\n",
    "    siab = pd.read_csv(cache_file, compression='gzip')\n",
    "else:\n",
    "    print(f\"Cache not found. Reading raw SIAB data: {raw_file}\")\n",
    "    siab = pd.read_csv(raw_file)\n",
    "    siab.to_csv(cache_file, index=False, compression='gzip')\n",
    "    print(f\"Cached SIAB data to: {cache_file}\")\n",
    "\n",
    "print(siab.shape)"
   ]
  },
  {
   "cell_type": "code",
   "execution_count": 10,
   "id": "058d2abb",
   "metadata": {
    "execution": {
     "iopub.execute_input": "2025-08-19T18:26:59.996680Z",
     "iopub.status.busy": "2025-08-19T18:26:59.996109Z",
     "iopub.status.idle": "2025-08-19T18:27:00.221420Z",
     "shell.execute_reply": "2025-08-19T18:27:00.220664Z"
    },
    "papermill": {
     "duration": 0.238632,
     "end_time": "2025-08-19T18:27:00.222720",
     "exception": false,
     "start_time": "2025-08-19T18:26:59.984088",
     "status": "completed"
    },
    "tags": []
   },
   "outputs": [
    {
     "data": {
      "text/html": [
       "<div>\n",
       "<style scoped>\n",
       "    .dataframe tbody tr th:only-of-type {\n",
       "        vertical-align: middle;\n",
       "    }\n",
       "\n",
       "    .dataframe tbody tr th {\n",
       "        vertical-align: top;\n",
       "    }\n",
       "\n",
       "    .dataframe thead th {\n",
       "        text-align: right;\n",
       "    }\n",
       "</style>\n",
       "<table border=\"1\" class=\"dataframe\">\n",
       "  <thead>\n",
       "    <tr style=\"text-align: right;\">\n",
       "      <th></th>\n",
       "      <th>persnr</th>\n",
       "      <th>year</th>\n",
       "      <th>nrEntry</th>\n",
       "      <th>ltue</th>\n",
       "      <th>employed_before</th>\n",
       "      <th>receipt_leh_before</th>\n",
       "      <th>receipt_lhg_before</th>\n",
       "      <th>se_before</th>\n",
       "      <th>ASU_notue_seeking_before</th>\n",
       "      <th>ASU_other_before</th>\n",
       "      <th>...</th>\n",
       "      <th>minijob_tot_dur_byage</th>\n",
       "      <th>ft_tot_dur_byage</th>\n",
       "      <th>befrist_tot_dur_byage</th>\n",
       "      <th>leih_tot_dur_byage</th>\n",
       "      <th>LHG_tot_dur_byage</th>\n",
       "      <th>LEH_tot_dur_byage</th>\n",
       "      <th>almp_tot_dur_byage</th>\n",
       "      <th>almp_aw_tot_dur_byage</th>\n",
       "      <th>se_tot_dur_byage</th>\n",
       "      <th>seeking1_tot_dur_byage</th>\n",
       "    </tr>\n",
       "  </thead>\n",
       "  <tbody>\n",
       "    <tr>\n",
       "      <th>0</th>\n",
       "      <td>7</td>\n",
       "      <td>2015</td>\n",
       "      <td>1</td>\n",
       "      <td>0</td>\n",
       "      <td>1</td>\n",
       "      <td>0</td>\n",
       "      <td>0</td>\n",
       "      <td>0</td>\n",
       "      <td>1</td>\n",
       "      <td>0</td>\n",
       "      <td>...</td>\n",
       "      <td>0.000000</td>\n",
       "      <td>0.000000</td>\n",
       "      <td>15.043478</td>\n",
       "      <td>0.000000</td>\n",
       "      <td>0.000000</td>\n",
       "      <td>0.000000</td>\n",
       "      <td>0.000000</td>\n",
       "      <td>0.000000</td>\n",
       "      <td>0.000000</td>\n",
       "      <td>0.000000</td>\n",
       "    </tr>\n",
       "    <tr>\n",
       "      <th>1</th>\n",
       "      <td>18</td>\n",
       "      <td>2010</td>\n",
       "      <td>1</td>\n",
       "      <td>1</td>\n",
       "      <td>0</td>\n",
       "      <td>0</td>\n",
       "      <td>0</td>\n",
       "      <td>0</td>\n",
       "      <td>0</td>\n",
       "      <td>0</td>\n",
       "      <td>...</td>\n",
       "      <td>0.000000</td>\n",
       "      <td>0.000000</td>\n",
       "      <td>0.000000</td>\n",
       "      <td>0.000000</td>\n",
       "      <td>0.000000</td>\n",
       "      <td>0.000000</td>\n",
       "      <td>0.000000</td>\n",
       "      <td>0.000000</td>\n",
       "      <td>0.000000</td>\n",
       "      <td>0.000000</td>\n",
       "    </tr>\n",
       "    <tr>\n",
       "      <th>2</th>\n",
       "      <td>18</td>\n",
       "      <td>2011</td>\n",
       "      <td>2</td>\n",
       "      <td>0</td>\n",
       "      <td>1</td>\n",
       "      <td>0</td>\n",
       "      <td>1</td>\n",
       "      <td>0</td>\n",
       "      <td>1</td>\n",
       "      <td>0</td>\n",
       "      <td>...</td>\n",
       "      <td>2.714286</td>\n",
       "      <td>2.714286</td>\n",
       "      <td>0.000000</td>\n",
       "      <td>0.000000</td>\n",
       "      <td>10.775510</td>\n",
       "      <td>0.000000</td>\n",
       "      <td>8.367347</td>\n",
       "      <td>0.000000</td>\n",
       "      <td>0.000000</td>\n",
       "      <td>9.836735</td>\n",
       "    </tr>\n",
       "    <tr>\n",
       "      <th>3</th>\n",
       "      <td>18</td>\n",
       "      <td>2012</td>\n",
       "      <td>3</td>\n",
       "      <td>0</td>\n",
       "      <td>1</td>\n",
       "      <td>0</td>\n",
       "      <td>1</td>\n",
       "      <td>0</td>\n",
       "      <td>1</td>\n",
       "      <td>0</td>\n",
       "      <td>...</td>\n",
       "      <td>4.200000</td>\n",
       "      <td>4.200000</td>\n",
       "      <td>0.000000</td>\n",
       "      <td>0.000000</td>\n",
       "      <td>12.100000</td>\n",
       "      <td>0.000000</td>\n",
       "      <td>9.400000</td>\n",
       "      <td>0.000000</td>\n",
       "      <td>0.000000</td>\n",
       "      <td>9.960000</td>\n",
       "    </tr>\n",
       "    <tr>\n",
       "      <th>4</th>\n",
       "      <td>18</td>\n",
       "      <td>2012</td>\n",
       "      <td>4</td>\n",
       "      <td>0</td>\n",
       "      <td>1</td>\n",
       "      <td>0</td>\n",
       "      <td>1</td>\n",
       "      <td>0</td>\n",
       "      <td>1</td>\n",
       "      <td>0</td>\n",
       "      <td>...</td>\n",
       "      <td>5.460000</td>\n",
       "      <td>5.460000</td>\n",
       "      <td>0.000000</td>\n",
       "      <td>0.000000</td>\n",
       "      <td>13.360000</td>\n",
       "      <td>0.000000</td>\n",
       "      <td>10.320000</td>\n",
       "      <td>0.000000</td>\n",
       "      <td>0.000000</td>\n",
       "      <td>10.280000</td>\n",
       "    </tr>\n",
       "    <tr>\n",
       "      <th>...</th>\n",
       "      <td>...</td>\n",
       "      <td>...</td>\n",
       "      <td>...</td>\n",
       "      <td>...</td>\n",
       "      <td>...</td>\n",
       "      <td>...</td>\n",
       "      <td>...</td>\n",
       "      <td>...</td>\n",
       "      <td>...</td>\n",
       "      <td>...</td>\n",
       "      <td>...</td>\n",
       "      <td>...</td>\n",
       "      <td>...</td>\n",
       "      <td>...</td>\n",
       "      <td>...</td>\n",
       "      <td>...</td>\n",
       "      <td>...</td>\n",
       "      <td>...</td>\n",
       "      <td>...</td>\n",
       "      <td>...</td>\n",
       "      <td>...</td>\n",
       "    </tr>\n",
       "    <tr>\n",
       "      <th>643685</th>\n",
       "      <td>1827860</td>\n",
       "      <td>2013</td>\n",
       "      <td>1</td>\n",
       "      <td>0</td>\n",
       "      <td>0</td>\n",
       "      <td>0</td>\n",
       "      <td>1</td>\n",
       "      <td>0</td>\n",
       "      <td>0</td>\n",
       "      <td>1</td>\n",
       "      <td>...</td>\n",
       "      <td>0.000000</td>\n",
       "      <td>0.000000</td>\n",
       "      <td>0.000000</td>\n",
       "      <td>0.000000</td>\n",
       "      <td>0.612903</td>\n",
       "      <td>0.000000</td>\n",
       "      <td>0.000000</td>\n",
       "      <td>0.000000</td>\n",
       "      <td>0.000000</td>\n",
       "      <td>0.000000</td>\n",
       "    </tr>\n",
       "    <tr>\n",
       "      <th>643686</th>\n",
       "      <td>1827860</td>\n",
       "      <td>2015</td>\n",
       "      <td>2</td>\n",
       "      <td>1</td>\n",
       "      <td>0</td>\n",
       "      <td>0</td>\n",
       "      <td>1</td>\n",
       "      <td>0</td>\n",
       "      <td>1</td>\n",
       "      <td>0</td>\n",
       "      <td>...</td>\n",
       "      <td>0.000000</td>\n",
       "      <td>0.000000</td>\n",
       "      <td>0.212121</td>\n",
       "      <td>0.212121</td>\n",
       "      <td>17.363636</td>\n",
       "      <td>0.000000</td>\n",
       "      <td>8.909091</td>\n",
       "      <td>0.000000</td>\n",
       "      <td>0.000000</td>\n",
       "      <td>7.121212</td>\n",
       "    </tr>\n",
       "    <tr>\n",
       "      <th>643687</th>\n",
       "      <td>1827860</td>\n",
       "      <td>2016</td>\n",
       "      <td>3</td>\n",
       "      <td>1</td>\n",
       "      <td>0</td>\n",
       "      <td>0</td>\n",
       "      <td>1</td>\n",
       "      <td>1</td>\n",
       "      <td>0</td>\n",
       "      <td>1</td>\n",
       "      <td>...</td>\n",
       "      <td>0.000000</td>\n",
       "      <td>0.000000</td>\n",
       "      <td>0.294118</td>\n",
       "      <td>0.205882</td>\n",
       "      <td>34.705882</td>\n",
       "      <td>0.000000</td>\n",
       "      <td>10.352941</td>\n",
       "      <td>1.705882</td>\n",
       "      <td>1.705882</td>\n",
       "      <td>23.911765</td>\n",
       "    </tr>\n",
       "    <tr>\n",
       "      <th>643688</th>\n",
       "      <td>1827869</td>\n",
       "      <td>2013</td>\n",
       "      <td>1</td>\n",
       "      <td>1</td>\n",
       "      <td>1</td>\n",
       "      <td>0</td>\n",
       "      <td>0</td>\n",
       "      <td>0</td>\n",
       "      <td>1</td>\n",
       "      <td>0</td>\n",
       "      <td>...</td>\n",
       "      <td>0.000000</td>\n",
       "      <td>0.000000</td>\n",
       "      <td>0.000000</td>\n",
       "      <td>0.000000</td>\n",
       "      <td>0.000000</td>\n",
       "      <td>0.525424</td>\n",
       "      <td>0.000000</td>\n",
       "      <td>0.000000</td>\n",
       "      <td>0.000000</td>\n",
       "      <td>0.000000</td>\n",
       "    </tr>\n",
       "    <tr>\n",
       "      <th>643689</th>\n",
       "      <td>1827869</td>\n",
       "      <td>2014</td>\n",
       "      <td>2</td>\n",
       "      <td>0</td>\n",
       "      <td>0</td>\n",
       "      <td>1</td>\n",
       "      <td>0</td>\n",
       "      <td>0</td>\n",
       "      <td>1</td>\n",
       "      <td>0</td>\n",
       "      <td>...</td>\n",
       "      <td>0.000000</td>\n",
       "      <td>0.666667</td>\n",
       "      <td>0.666667</td>\n",
       "      <td>0.000000</td>\n",
       "      <td>0.000000</td>\n",
       "      <td>8.950000</td>\n",
       "      <td>1.033333</td>\n",
       "      <td>0.083333</td>\n",
       "      <td>0.083333</td>\n",
       "      <td>8.133333</td>\n",
       "    </tr>\n",
       "  </tbody>\n",
       "</table>\n",
       "<p>643690 rows × 164 columns</p>\n",
       "</div>"
      ],
      "text/plain": [
       "         persnr  year  nrEntry  ltue  employed_before  receipt_leh_before  \\\n",
       "0             7  2015        1     0                1                   0   \n",
       "1            18  2010        1     1                0                   0   \n",
       "2            18  2011        2     0                1                   0   \n",
       "3            18  2012        3     0                1                   0   \n",
       "4            18  2012        4     0                1                   0   \n",
       "...         ...   ...      ...   ...              ...                 ...   \n",
       "643685  1827860  2013        1     0                0                   0   \n",
       "643686  1827860  2015        2     1                0                   0   \n",
       "643687  1827860  2016        3     1                0                   0   \n",
       "643688  1827869  2013        1     1                1                   0   \n",
       "643689  1827869  2014        2     0                0                   1   \n",
       "\n",
       "        receipt_lhg_before  se_before  ASU_notue_seeking_before  \\\n",
       "0                        0          0                         1   \n",
       "1                        0          0                         0   \n",
       "2                        1          0                         1   \n",
       "3                        1          0                         1   \n",
       "4                        1          0                         1   \n",
       "...                    ...        ...                       ...   \n",
       "643685                   1          0                         0   \n",
       "643686                   1          0                         1   \n",
       "643687                   1          1                         0   \n",
       "643688                   0          0                         1   \n",
       "643689                   0          0                         1   \n",
       "\n",
       "        ASU_other_before  ...  minijob_tot_dur_byage  ft_tot_dur_byage  \\\n",
       "0                      0  ...               0.000000          0.000000   \n",
       "1                      0  ...               0.000000          0.000000   \n",
       "2                      0  ...               2.714286          2.714286   \n",
       "3                      0  ...               4.200000          4.200000   \n",
       "4                      0  ...               5.460000          5.460000   \n",
       "...                  ...  ...                    ...               ...   \n",
       "643685                 1  ...               0.000000          0.000000   \n",
       "643686                 0  ...               0.000000          0.000000   \n",
       "643687                 1  ...               0.000000          0.000000   \n",
       "643688                 0  ...               0.000000          0.000000   \n",
       "643689                 0  ...               0.000000          0.666667   \n",
       "\n",
       "        befrist_tot_dur_byage  leih_tot_dur_byage  LHG_tot_dur_byage  \\\n",
       "0                   15.043478            0.000000           0.000000   \n",
       "1                    0.000000            0.000000           0.000000   \n",
       "2                    0.000000            0.000000          10.775510   \n",
       "3                    0.000000            0.000000          12.100000   \n",
       "4                    0.000000            0.000000          13.360000   \n",
       "...                       ...                 ...                ...   \n",
       "643685               0.000000            0.000000           0.612903   \n",
       "643686               0.212121            0.212121          17.363636   \n",
       "643687               0.294118            0.205882          34.705882   \n",
       "643688               0.000000            0.000000           0.000000   \n",
       "643689               0.666667            0.000000           0.000000   \n",
       "\n",
       "        LEH_tot_dur_byage  almp_tot_dur_byage  almp_aw_tot_dur_byage  \\\n",
       "0                0.000000            0.000000               0.000000   \n",
       "1                0.000000            0.000000               0.000000   \n",
       "2                0.000000            8.367347               0.000000   \n",
       "3                0.000000            9.400000               0.000000   \n",
       "4                0.000000           10.320000               0.000000   \n",
       "...                   ...                 ...                    ...   \n",
       "643685           0.000000            0.000000               0.000000   \n",
       "643686           0.000000            8.909091               0.000000   \n",
       "643687           0.000000           10.352941               1.705882   \n",
       "643688           0.525424            0.000000               0.000000   \n",
       "643689           8.950000            1.033333               0.083333   \n",
       "\n",
       "        se_tot_dur_byage  seeking1_tot_dur_byage  \n",
       "0               0.000000                0.000000  \n",
       "1               0.000000                0.000000  \n",
       "2               0.000000                9.836735  \n",
       "3               0.000000                9.960000  \n",
       "4               0.000000               10.280000  \n",
       "...                  ...                     ...  \n",
       "643685          0.000000                0.000000  \n",
       "643686          0.000000                7.121212  \n",
       "643687          1.705882               23.911765  \n",
       "643688          0.000000                0.000000  \n",
       "643689          0.083333                8.133333  \n",
       "\n",
       "[643690 rows x 164 columns]"
      ]
     },
     "execution_count": 10,
     "metadata": {},
     "output_type": "execute_result"
    }
   ],
   "source": [
    "siab"
   ]
  },
  {
   "cell_type": "markdown",
   "id": "1f87e805",
   "metadata": {
    "papermill": {
     "duration": 0.023944,
     "end_time": "2025-08-19T18:27:00.265991",
     "exception": false,
     "start_time": "2025-08-19T18:27:00.242047",
     "status": "completed"
    },
    "tags": []
   },
   "source": [
    "# Splitting Data and Setting Training Data Size"
   ]
  },
  {
   "cell_type": "code",
   "execution_count": 11,
   "id": "910ae358",
   "metadata": {
    "execution": {
     "iopub.execute_input": "2025-08-19T18:27:00.291459Z",
     "iopub.status.busy": "2025-08-19T18:27:00.290727Z",
     "iopub.status.idle": "2025-08-19T18:27:00.563861Z",
     "shell.execute_reply": "2025-08-19T18:27:00.563107Z"
    },
    "papermill": {
     "duration": 0.288491,
     "end_time": "2025-08-19T18:27:00.566844",
     "exception": false,
     "start_time": "2025-08-19T18:27:00.278353",
     "status": "completed"
    },
    "tags": []
   },
   "outputs": [],
   "source": [
    "from fairness_multiverse.universe import sample_by_year_size\n",
    "\n",
    "siab_train = sample_by_year_size(siab,\n",
    "                               training_year=universe[\"training_year\"],\n",
    "                               training_size=universe[\"training_size\"])"
   ]
  },
  {
   "cell_type": "code",
   "execution_count": 12,
   "id": "919c8ff5",
   "metadata": {
    "execution": {
     "iopub.execute_input": "2025-08-19T18:27:00.597557Z",
     "iopub.status.busy": "2025-08-19T18:27:00.597085Z",
     "iopub.status.idle": "2025-08-19T18:27:00.606005Z",
     "shell.execute_reply": "2025-08-19T18:27:00.604752Z"
    },
    "papermill": {
     "duration": 0.023539,
     "end_time": "2025-08-19T18:27:00.608192",
     "exception": false,
     "start_time": "2025-08-19T18:27:00.584653",
     "status": "completed"
    },
    "tags": []
   },
   "outputs": [
    {
     "data": {
      "text/plain": [
       "(5000, 164)"
      ]
     },
     "execution_count": 12,
     "metadata": {},
     "output_type": "execute_result"
    }
   ],
   "source": [
    "siab_train.shape"
   ]
  },
  {
   "cell_type": "code",
   "execution_count": 13,
   "id": "feb13bf4",
   "metadata": {
    "execution": {
     "iopub.execute_input": "2025-08-19T18:27:00.634659Z",
     "iopub.status.busy": "2025-08-19T18:27:00.634015Z",
     "iopub.status.idle": "2025-08-19T18:27:00.651319Z",
     "shell.execute_reply": "2025-08-19T18:27:00.650262Z"
    },
    "papermill": {
     "duration": 0.033177,
     "end_time": "2025-08-19T18:27:00.654535",
     "exception": false,
     "start_time": "2025-08-19T18:27:00.621358",
     "status": "completed"
    },
    "tags": []
   },
   "outputs": [
    {
     "data": {
      "text/plain": [
       "year\n",
       "2014    5000\n",
       "dtype: int64"
      ]
     },
     "metadata": {},
     "output_type": "display_data"
    }
   ],
   "source": [
    "display(siab_train.groupby(\"year\").size())"
   ]
  },
  {
   "cell_type": "code",
   "execution_count": 14,
   "id": "0997782f",
   "metadata": {
    "execution": {
     "iopub.execute_input": "2025-08-19T18:27:00.690521Z",
     "iopub.status.busy": "2025-08-19T18:27:00.689871Z",
     "iopub.status.idle": "2025-08-19T18:27:00.976408Z",
     "shell.execute_reply": "2025-08-19T18:27:00.974817Z"
    },
    "papermill": {
     "duration": 0.301251,
     "end_time": "2025-08-19T18:27:00.978447",
     "exception": false,
     "start_time": "2025-08-19T18:27:00.677196",
     "status": "completed"
    },
    "tags": []
   },
   "outputs": [],
   "source": [
    "#siab_train = siab_s[siab_s.year < 2015]\n",
    "siab_calib = siab[siab.year == 2015]\n",
    "siab_test = siab[siab.year == 2016]"
   ]
  },
  {
   "cell_type": "code",
   "execution_count": 15,
   "id": "2c1e4012",
   "metadata": {
    "execution": {
     "iopub.execute_input": "2025-08-19T18:27:01.001626Z",
     "iopub.status.busy": "2025-08-19T18:27:01.001297Z",
     "iopub.status.idle": "2025-08-19T18:27:01.005851Z",
     "shell.execute_reply": "2025-08-19T18:27:01.005131Z"
    },
    "papermill": {
     "duration": 0.017005,
     "end_time": "2025-08-19T18:27:01.007104",
     "exception": false,
     "start_time": "2025-08-19T18:27:00.990099",
     "status": "completed"
    },
    "tags": []
   },
   "outputs": [],
   "source": [
    "#siab_calib.shape"
   ]
  },
  {
   "cell_type": "code",
   "execution_count": 16,
   "id": "f66b54ca",
   "metadata": {
    "execution": {
     "iopub.execute_input": "2025-08-19T18:27:01.030995Z",
     "iopub.status.busy": "2025-08-19T18:27:01.030733Z",
     "iopub.status.idle": "2025-08-19T18:27:01.035443Z",
     "shell.execute_reply": "2025-08-19T18:27:01.034395Z"
    },
    "papermill": {
     "duration": 0.020677,
     "end_time": "2025-08-19T18:27:01.039954",
     "exception": false,
     "start_time": "2025-08-19T18:27:01.019277",
     "status": "completed"
    },
    "tags": []
   },
   "outputs": [],
   "source": [
    "#siab_test.shape"
   ]
  },
  {
   "cell_type": "code",
   "execution_count": 17,
   "id": "27e4384d",
   "metadata": {
    "execution": {
     "iopub.execute_input": "2025-08-19T18:27:01.089794Z",
     "iopub.status.busy": "2025-08-19T18:27:01.089321Z",
     "iopub.status.idle": "2025-08-19T18:27:01.134106Z",
     "shell.execute_reply": "2025-08-19T18:27:01.133051Z"
    },
    "papermill": {
     "duration": 0.069577,
     "end_time": "2025-08-19T18:27:01.136035",
     "exception": false,
     "start_time": "2025-08-19T18:27:01.066458",
     "status": "completed"
    },
    "tags": []
   },
   "outputs": [],
   "source": [
    "X_train = siab_train.iloc[:,4:164]\n",
    "y_train = siab_train.iloc[:, [3]]"
   ]
  },
  {
   "cell_type": "code",
   "execution_count": 18,
   "id": "08ee8389",
   "metadata": {
    "execution": {
     "iopub.execute_input": "2025-08-19T18:27:01.160843Z",
     "iopub.status.busy": "2025-08-19T18:27:01.160499Z",
     "iopub.status.idle": "2025-08-19T18:27:01.635699Z",
     "shell.execute_reply": "2025-08-19T18:27:01.634390Z"
    },
    "papermill": {
     "duration": 0.488689,
     "end_time": "2025-08-19T18:27:01.637273",
     "exception": false,
     "start_time": "2025-08-19T18:27:01.148584",
     "status": "completed"
    },
    "tags": []
   },
   "outputs": [],
   "source": [
    "X_calib = siab_calib.iloc[:,4:164]\n",
    "y_calib = siab_calib.iloc[:, [3]]"
   ]
  },
  {
   "cell_type": "code",
   "execution_count": 19,
   "id": "b7ff42e0",
   "metadata": {
    "execution": {
     "iopub.execute_input": "2025-08-19T18:27:01.660229Z",
     "iopub.status.busy": "2025-08-19T18:27:01.659889Z",
     "iopub.status.idle": "2025-08-19T18:27:01.713820Z",
     "shell.execute_reply": "2025-08-19T18:27:01.712701Z"
    },
    "papermill": {
     "duration": 0.067288,
     "end_time": "2025-08-19T18:27:01.715122",
     "exception": false,
     "start_time": "2025-08-19T18:27:01.647834",
     "status": "completed"
    },
    "tags": []
   },
   "outputs": [],
   "source": [
    "X_test = siab_test.iloc[:,4:164]\n",
    "y_true = siab_test.iloc[:, [3]]"
   ]
  },
  {
   "cell_type": "code",
   "execution_count": 20,
   "id": "0275101e",
   "metadata": {
    "execution": {
     "iopub.execute_input": "2025-08-19T18:27:01.741985Z",
     "iopub.status.busy": "2025-08-19T18:27:01.740890Z",
     "iopub.status.idle": "2025-08-19T18:27:01.876500Z",
     "shell.execute_reply": "2025-08-19T18:27:01.875651Z"
    },
    "papermill": {
     "duration": 0.152229,
     "end_time": "2025-08-19T18:27:01.879115",
     "exception": false,
     "start_time": "2025-08-19T18:27:01.726886",
     "status": "completed"
    },
    "tags": []
   },
   "outputs": [],
   "source": [
    "# Auxiliary data needed downstream in the pipeline\n",
    "\n",
    "org_train = X_train.copy()\n",
    "org_test = X_test.copy()\n",
    "org_calib = X_calib.copy()"
   ]
  },
  {
   "cell_type": "markdown",
   "id": "b461e618",
   "metadata": {
    "papermill": {
     "duration": 0.020679,
     "end_time": "2025-08-19T18:27:01.927441",
     "exception": false,
     "start_time": "2025-08-19T18:27:01.906762",
     "status": "completed"
    },
    "tags": []
   },
   "source": [
    "# Preprocessing Data"
   ]
  },
  {
   "cell_type": "code",
   "execution_count": 21,
   "id": "78e74c4b",
   "metadata": {
    "execution": {
     "iopub.execute_input": "2025-08-19T18:27:01.950837Z",
     "iopub.status.busy": "2025-08-19T18:27:01.950529Z",
     "iopub.status.idle": "2025-08-19T18:27:01.955589Z",
     "shell.execute_reply": "2025-08-19T18:27:01.954895Z"
    },
    "papermill": {
     "duration": 0.01772,
     "end_time": "2025-08-19T18:27:01.957094",
     "exception": false,
     "start_time": "2025-08-19T18:27:01.939374",
     "status": "completed"
    },
    "tags": []
   },
   "outputs": [],
   "source": [
    "# EXCLUDE PROTECTED FEATURES\n",
    "# --------------------------\n",
    "\n",
    "excluded_features = universe[\"exclude_features\"].split(\"-\")\n",
    "excluded_features_dictionary = {\n",
    "    \"nationality\": [\"maxdeutsch1\", \"maxdeutsch.Missing.\"],\n",
    "    \"sex\": [\"frau1\"],\n",
    "    \"age\": [\"age\"],\n",
    "}"
   ]
  },
  {
   "cell_type": "code",
   "execution_count": 22,
   "id": "f8e63555",
   "metadata": {
    "execution": {
     "iopub.execute_input": "2025-08-19T18:27:01.981801Z",
     "iopub.status.busy": "2025-08-19T18:27:01.981388Z",
     "iopub.status.idle": "2025-08-19T18:27:01.986126Z",
     "shell.execute_reply": "2025-08-19T18:27:01.985393Z"
    },
    "papermill": {
     "duration": 0.017375,
     "end_time": "2025-08-19T18:27:01.987507",
     "exception": false,
     "start_time": "2025-08-19T18:27:01.970132",
     "status": "completed"
    },
    "tags": []
   },
   "outputs": [],
   "source": [
    "excluded_features_columns = [\n",
    "    excluded_features_dictionary[f] for f in excluded_features if len(f) > 0 and f != \"none\"\n",
    "]"
   ]
  },
  {
   "cell_type": "code",
   "execution_count": 23,
   "id": "da781f7c",
   "metadata": {
    "execution": {
     "iopub.execute_input": "2025-08-19T18:27:02.010802Z",
     "iopub.status.busy": "2025-08-19T18:27:02.010428Z",
     "iopub.status.idle": "2025-08-19T18:27:02.015161Z",
     "shell.execute_reply": "2025-08-19T18:27:02.014438Z"
    },
    "papermill": {
     "duration": 0.019604,
     "end_time": "2025-08-19T18:27:02.018637",
     "exception": false,
     "start_time": "2025-08-19T18:27:01.999033",
     "status": "completed"
    },
    "tags": []
   },
   "outputs": [],
   "source": [
    "from fairness_multiverse.universe import flatten_once\n",
    "\n",
    "excluded_features_columns = flatten_once(excluded_features_columns)"
   ]
  },
  {
   "cell_type": "code",
   "execution_count": 24,
   "id": "37fef0f0",
   "metadata": {
    "execution": {
     "iopub.execute_input": "2025-08-19T18:27:02.044033Z",
     "iopub.status.busy": "2025-08-19T18:27:02.043724Z",
     "iopub.status.idle": "2025-08-19T18:27:02.049085Z",
     "shell.execute_reply": "2025-08-19T18:27:02.048252Z"
    },
    "papermill": {
     "duration": 0.020931,
     "end_time": "2025-08-19T18:27:02.052354",
     "exception": false,
     "start_time": "2025-08-19T18:27:02.031423",
     "status": "completed"
    },
    "tags": []
   },
   "outputs": [],
   "source": [
    "if len(excluded_features_columns) > 0:\n",
    "    print(f\"Dropping features: {excluded_features_columns}\")\n",
    "    X_train.drop(excluded_features_columns, axis=1, inplace=True)"
   ]
  },
  {
   "cell_type": "code",
   "execution_count": 25,
   "id": "d029e3e9",
   "metadata": {
    "execution": {
     "iopub.execute_input": "2025-08-19T18:27:02.079857Z",
     "iopub.status.busy": "2025-08-19T18:27:02.079571Z",
     "iopub.status.idle": "2025-08-19T18:27:02.397128Z",
     "shell.execute_reply": "2025-08-19T18:27:02.395347Z"
    },
    "papermill": {
     "duration": 0.33458,
     "end_time": "2025-08-19T18:27:02.400097",
     "exception": false,
     "start_time": "2025-08-19T18:27:02.065517",
     "status": "completed"
    },
    "tags": []
   },
   "outputs": [],
   "source": [
    "if len(excluded_features_columns) > 0:\n",
    "    print(f\"Dropping features: {excluded_features_columns}\")\n",
    "    X_test.drop(excluded_features_columns, axis=1, inplace=True)"
   ]
  },
  {
   "cell_type": "code",
   "execution_count": 26,
   "id": "01d571f0",
   "metadata": {
    "execution": {
     "iopub.execute_input": "2025-08-19T18:27:02.441151Z",
     "iopub.status.busy": "2025-08-19T18:27:02.440000Z",
     "iopub.status.idle": "2025-08-19T18:27:02.449361Z",
     "shell.execute_reply": "2025-08-19T18:27:02.447653Z"
    },
    "papermill": {
     "duration": 0.025587,
     "end_time": "2025-08-19T18:27:02.452223",
     "exception": false,
     "start_time": "2025-08-19T18:27:02.426636",
     "status": "completed"
    },
    "tags": []
   },
   "outputs": [],
   "source": [
    "if len(excluded_features_columns) > 0:\n",
    "    print(f\"Dropping features: {excluded_features_columns}\")\n",
    "    X_calib.drop(excluded_features_columns, axis=1, inplace=True)"
   ]
  },
  {
   "cell_type": "code",
   "execution_count": 27,
   "id": "3037356e",
   "metadata": {
    "execution": {
     "iopub.execute_input": "2025-08-19T18:27:02.481950Z",
     "iopub.status.busy": "2025-08-19T18:27:02.481567Z",
     "iopub.status.idle": "2025-08-19T18:27:02.485482Z",
     "shell.execute_reply": "2025-08-19T18:27:02.484889Z"
    },
    "papermill": {
     "duration": 0.016753,
     "end_time": "2025-08-19T18:27:02.486878",
     "exception": false,
     "start_time": "2025-08-19T18:27:02.470125",
     "status": "completed"
    },
    "tags": []
   },
   "outputs": [],
   "source": [
    "# EXCLUDE CERTAIN SUBGROUPS\n",
    "# -------------------------\n",
    "\n",
    "mode = universe.get(\"exclude_subgroups\", \"keep-all\") # Defaults to \"keep-all\" if the key is missing."
   ]
  },
  {
   "cell_type": "code",
   "execution_count": 28,
   "id": "9d1e63fd",
   "metadata": {
    "execution": {
     "iopub.execute_input": "2025-08-19T18:27:02.509222Z",
     "iopub.status.busy": "2025-08-19T18:27:02.508866Z",
     "iopub.status.idle": "2025-08-19T18:27:02.526463Z",
     "shell.execute_reply": "2025-08-19T18:27:02.525709Z"
    },
    "papermill": {
     "duration": 0.030369,
     "end_time": "2025-08-19T18:27:02.528012",
     "exception": false,
     "start_time": "2025-08-19T18:27:02.497643",
     "status": "completed"
    },
    "tags": []
   },
   "outputs": [],
   "source": [
    "if mode == \"keep-all\":\n",
    "    keep_mask = pd.Series(True, index=org_train.index)\n",
    "\n",
    "elif mode == \"drop-non-german\":\n",
    "    keep_mask = (org_train[\"maxdeutsch1\"] == 1) & (org_train[\"maxdeutsch.Missing.\"] == 0)\n",
    "\n",
    "else:\n",
    "    raise ValueError(f\"Unsupported mode for exclude_subgroups: {mode}\")"
   ]
  },
  {
   "cell_type": "code",
   "execution_count": 29,
   "id": "d3b65474",
   "metadata": {
    "execution": {
     "iopub.execute_input": "2025-08-19T18:27:02.552719Z",
     "iopub.status.busy": "2025-08-19T18:27:02.552316Z",
     "iopub.status.idle": "2025-08-19T18:27:02.557800Z",
     "shell.execute_reply": "2025-08-19T18:27:02.557251Z"
    },
    "papermill": {
     "duration": 0.029999,
     "end_time": "2025-08-19T18:27:02.570751",
     "exception": false,
     "start_time": "2025-08-19T18:27:02.540752",
     "status": "completed"
    },
    "tags": []
   },
   "outputs": [
    {
     "name": "stdout",
     "output_type": "stream",
     "text": [
      "Dropping 741 rows (14.82%) where mode='drop-non-german'\n"
     ]
    }
   ],
   "source": [
    "n_drop = (~keep_mask).sum() # Calculates how many rows are set to be dropped\n",
    "if n_drop > 0:\n",
    "    pct = n_drop / len(keep_mask) * 100\n",
    "    print(f\"Dropping {n_drop} rows ({pct:.2f}%) where mode='{mode}'\")"
   ]
  },
  {
   "cell_type": "code",
   "execution_count": 30,
   "id": "f44389b3",
   "metadata": {
    "execution": {
     "iopub.execute_input": "2025-08-19T18:27:02.595649Z",
     "iopub.status.busy": "2025-08-19T18:27:02.594745Z",
     "iopub.status.idle": "2025-08-19T18:27:02.614015Z",
     "shell.execute_reply": "2025-08-19T18:27:02.613130Z"
    },
    "papermill": {
     "duration": 0.035671,
     "end_time": "2025-08-19T18:27:02.617983",
     "exception": false,
     "start_time": "2025-08-19T18:27:02.582312",
     "status": "completed"
    },
    "tags": []
   },
   "outputs": [],
   "source": [
    "X_train = X_train[keep_mask]"
   ]
  },
  {
   "cell_type": "code",
   "execution_count": 31,
   "id": "ceca8c2a",
   "metadata": {
    "execution": {
     "iopub.execute_input": "2025-08-19T18:27:02.648867Z",
     "iopub.status.busy": "2025-08-19T18:27:02.648467Z",
     "iopub.status.idle": "2025-08-19T18:27:02.652978Z",
     "shell.execute_reply": "2025-08-19T18:27:02.652350Z"
    },
    "papermill": {
     "duration": 0.018468,
     "end_time": "2025-08-19T18:27:02.654377",
     "exception": false,
     "start_time": "2025-08-19T18:27:02.635909",
     "status": "completed"
    },
    "tags": []
   },
   "outputs": [],
   "source": [
    "y_train = y_train[keep_mask]"
   ]
  },
  {
   "cell_type": "markdown",
   "id": "04d31e2f",
   "metadata": {
    "papermill": {
     "duration": 0.010767,
     "end_time": "2025-08-19T18:27:02.675790",
     "exception": false,
     "start_time": "2025-08-19T18:27:02.665023",
     "status": "completed"
    },
    "tags": []
   },
   "source": [
    "# Model Training"
   ]
  },
  {
   "cell_type": "code",
   "execution_count": 32,
   "id": "db991733",
   "metadata": {
    "execution": {
     "iopub.execute_input": "2025-08-19T18:27:02.698394Z",
     "iopub.status.busy": "2025-08-19T18:27:02.697998Z",
     "iopub.status.idle": "2025-08-19T18:27:02.794327Z",
     "shell.execute_reply": "2025-08-19T18:27:02.793679Z"
    },
    "papermill": {
     "duration": 0.110514,
     "end_time": "2025-08-19T18:27:02.797110",
     "exception": false,
     "start_time": "2025-08-19T18:27:02.686596",
     "status": "completed"
    },
    "tags": []
   },
   "outputs": [],
   "source": [
    "from sklearn.linear_model import LogisticRegression\n",
    "from sklearn.ensemble import GradientBoostingClassifier, RandomForestClassifier\n",
    "\n",
    "if (universe[\"model\"] == \"logreg\"):\n",
    "    model = LogisticRegression() #penalty=\"none\", solver=\"newton-cg\", max_iter=1)\n",
    "elif (universe[\"model\"] == \"penalized_logreg\"):\n",
    "    model = LogisticRegression(penalty=\"l2\", C=0.1) #, solver=\"newton-cg\", max_iter=1)\n",
    "elif (universe[\"model\"] == \"rf\"):\n",
    "    model = RandomForestClassifier() # n_estimators=100, n_jobs=-1\n",
    "elif (universe[\"model\"] == \"gbm\"):\n",
    "    model = GradientBoostingClassifier()\n",
    "elif (universe[\"model\"] == \"elasticnet\"):\n",
    "    model = LogisticRegression(penalty = 'elasticnet', solver = 'saga', l1_ratio = 0.5) # max_iter=5000\n",
    "else:\n",
    "    raise \"Unsupported universe.model\""
   ]
  },
  {
   "cell_type": "code",
   "execution_count": 33,
   "id": "a4b5cd25",
   "metadata": {
    "execution": {
     "iopub.execute_input": "2025-08-19T18:27:02.820451Z",
     "iopub.status.busy": "2025-08-19T18:27:02.820071Z",
     "iopub.status.idle": "2025-08-19T18:27:02.824937Z",
     "shell.execute_reply": "2025-08-19T18:27:02.824326Z"
    },
    "papermill": {
     "duration": 0.017987,
     "end_time": "2025-08-19T18:27:02.826516",
     "exception": false,
     "start_time": "2025-08-19T18:27:02.808529",
     "status": "completed"
    },
    "tags": []
   },
   "outputs": [],
   "source": [
    "from sklearn.pipeline import Pipeline\n",
    "from sklearn.preprocessing import StandardScaler\n",
    "\n",
    "model = Pipeline([\n",
    "    #(\"continuous_processor\", continuous_processor),\n",
    "    #(\"categorical_preprocessor\", categorical_preprocessor),\n",
    "    (\"scale\", StandardScaler() if universe[\"scale\"] == \"scale\" else None), \n",
    "    (\"model\", model),\n",
    "])"
   ]
  },
  {
   "cell_type": "code",
   "execution_count": 34,
   "id": "283a904d",
   "metadata": {
    "execution": {
     "iopub.execute_input": "2025-08-19T18:27:02.848938Z",
     "iopub.status.busy": "2025-08-19T18:27:02.848572Z",
     "iopub.status.idle": "2025-08-19T18:27:02.984740Z",
     "shell.execute_reply": "2025-08-19T18:27:02.977569Z"
    },
    "papermill": {
     "duration": 0.149522,
     "end_time": "2025-08-19T18:27:02.986754",
     "exception": false,
     "start_time": "2025-08-19T18:27:02.837232",
     "status": "completed"
    },
    "tags": []
   },
   "outputs": [
    {
     "name": "stderr",
     "output_type": "stream",
     "text": [
      "/dss/dsshome1/0C/ra93lal2/.local/share/virtualenvs/CMA_Fairness_v2-3j10GkSs/lib/python3.10/site-packages/sklearn/linear_model/_logistic.py:444: ConvergenceWarning: lbfgs failed to converge (status=1):\n",
      "STOP: TOTAL NO. of ITERATIONS REACHED LIMIT.\n",
      "\n",
      "Increase the number of iterations (max_iter) or scale the data as shown in:\n",
      "    https://scikit-learn.org/stable/modules/preprocessing.html\n",
      "Please also refer to the documentation for alternative solver options:\n",
      "    https://scikit-learn.org/stable/modules/linear_model.html#logistic-regression\n",
      "  n_iter_i = _check_optimize_result(\n"
     ]
    },
    {
     "data": {
      "text/html": [
       "<style>#sk-container-id-1 {color: black;background-color: white;}#sk-container-id-1 pre{padding: 0;}#sk-container-id-1 div.sk-toggleable {background-color: white;}#sk-container-id-1 label.sk-toggleable__label {cursor: pointer;display: block;width: 100%;margin-bottom: 0;padding: 0.3em;box-sizing: border-box;text-align: center;}#sk-container-id-1 label.sk-toggleable__label-arrow:before {content: \"▸\";float: left;margin-right: 0.25em;color: #696969;}#sk-container-id-1 label.sk-toggleable__label-arrow:hover:before {color: black;}#sk-container-id-1 div.sk-estimator:hover label.sk-toggleable__label-arrow:before {color: black;}#sk-container-id-1 div.sk-toggleable__content {max-height: 0;max-width: 0;overflow: hidden;text-align: left;background-color: #f0f8ff;}#sk-container-id-1 div.sk-toggleable__content pre {margin: 0.2em;color: black;border-radius: 0.25em;background-color: #f0f8ff;}#sk-container-id-1 input.sk-toggleable__control:checked~div.sk-toggleable__content {max-height: 200px;max-width: 100%;overflow: auto;}#sk-container-id-1 input.sk-toggleable__control:checked~label.sk-toggleable__label-arrow:before {content: \"▾\";}#sk-container-id-1 div.sk-estimator input.sk-toggleable__control:checked~label.sk-toggleable__label {background-color: #d4ebff;}#sk-container-id-1 div.sk-label input.sk-toggleable__control:checked~label.sk-toggleable__label {background-color: #d4ebff;}#sk-container-id-1 input.sk-hidden--visually {border: 0;clip: rect(1px 1px 1px 1px);clip: rect(1px, 1px, 1px, 1px);height: 1px;margin: -1px;overflow: hidden;padding: 0;position: absolute;width: 1px;}#sk-container-id-1 div.sk-estimator {font-family: monospace;background-color: #f0f8ff;border: 1px dotted black;border-radius: 0.25em;box-sizing: border-box;margin-bottom: 0.5em;}#sk-container-id-1 div.sk-estimator:hover {background-color: #d4ebff;}#sk-container-id-1 div.sk-parallel-item::after {content: \"\";width: 100%;border-bottom: 1px solid gray;flex-grow: 1;}#sk-container-id-1 div.sk-label:hover label.sk-toggleable__label {background-color: #d4ebff;}#sk-container-id-1 div.sk-serial::before {content: \"\";position: absolute;border-left: 1px solid gray;box-sizing: border-box;top: 0;bottom: 0;left: 50%;z-index: 0;}#sk-container-id-1 div.sk-serial {display: flex;flex-direction: column;align-items: center;background-color: white;padding-right: 0.2em;padding-left: 0.2em;position: relative;}#sk-container-id-1 div.sk-item {position: relative;z-index: 1;}#sk-container-id-1 div.sk-parallel {display: flex;align-items: stretch;justify-content: center;background-color: white;position: relative;}#sk-container-id-1 div.sk-item::before, #sk-container-id-1 div.sk-parallel-item::before {content: \"\";position: absolute;border-left: 1px solid gray;box-sizing: border-box;top: 0;bottom: 0;left: 50%;z-index: -1;}#sk-container-id-1 div.sk-parallel-item {display: flex;flex-direction: column;z-index: 1;position: relative;background-color: white;}#sk-container-id-1 div.sk-parallel-item:first-child::after {align-self: flex-end;width: 50%;}#sk-container-id-1 div.sk-parallel-item:last-child::after {align-self: flex-start;width: 50%;}#sk-container-id-1 div.sk-parallel-item:only-child::after {width: 0;}#sk-container-id-1 div.sk-dashed-wrapped {border: 1px dashed gray;margin: 0 0.4em 0.5em 0.4em;box-sizing: border-box;padding-bottom: 0.4em;background-color: white;}#sk-container-id-1 div.sk-label label {font-family: monospace;font-weight: bold;display: inline-block;line-height: 1.2em;}#sk-container-id-1 div.sk-label-container {text-align: center;}#sk-container-id-1 div.sk-container {/* jupyter's `normalize.less` sets `[hidden] { display: none; }` but bootstrap.min.css set `[hidden] { display: none !important; }` so we also need the `!important` here to be able to override the default hidden behavior on the sphinx rendered scikit-learn.org. See: https://github.com/scikit-learn/scikit-learn/issues/21755 */display: inline-block !important;position: relative;}#sk-container-id-1 div.sk-text-repr-fallback {display: none;}</style><div id=\"sk-container-id-1\" class=\"sk-top-container\"><div class=\"sk-text-repr-fallback\"><pre>Pipeline(steps=[(&#x27;scale&#x27;, None), (&#x27;model&#x27;, LogisticRegression())])</pre><b>In a Jupyter environment, please rerun this cell to show the HTML representation or trust the notebook. <br />On GitHub, the HTML representation is unable to render, please try loading this page with nbviewer.org.</b></div><div class=\"sk-container\" hidden><div class=\"sk-item sk-dashed-wrapped\"><div class=\"sk-label-container\"><div class=\"sk-label sk-toggleable\"><input class=\"sk-toggleable__control sk-hidden--visually\" id=\"sk-estimator-id-1\" type=\"checkbox\" ><label for=\"sk-estimator-id-1\" class=\"sk-toggleable__label sk-toggleable__label-arrow\">Pipeline</label><div class=\"sk-toggleable__content\"><pre>Pipeline(steps=[(&#x27;scale&#x27;, None), (&#x27;model&#x27;, LogisticRegression())])</pre></div></div></div><div class=\"sk-serial\"><div class=\"sk-item\"><div class=\"sk-estimator sk-toggleable\"><input class=\"sk-toggleable__control sk-hidden--visually\" id=\"sk-estimator-id-2\" type=\"checkbox\" ><label for=\"sk-estimator-id-2\" class=\"sk-toggleable__label sk-toggleable__label-arrow\">None</label><div class=\"sk-toggleable__content\"><pre>None</pre></div></div></div><div class=\"sk-item\"><div class=\"sk-estimator sk-toggleable\"><input class=\"sk-toggleable__control sk-hidden--visually\" id=\"sk-estimator-id-3\" type=\"checkbox\" ><label for=\"sk-estimator-id-3\" class=\"sk-toggleable__label sk-toggleable__label-arrow\">LogisticRegression</label><div class=\"sk-toggleable__content\"><pre>LogisticRegression()</pre></div></div></div></div></div></div></div>"
      ],
      "text/plain": [
       "Pipeline(steps=[('scale', None), ('model', LogisticRegression())])"
      ]
     },
     "execution_count": 34,
     "metadata": {},
     "output_type": "execute_result"
    }
   ],
   "source": [
    "model.fit(X_train, y_train.values.ravel())"
   ]
  },
  {
   "cell_type": "code",
   "execution_count": 35,
   "id": "6e15e313",
   "metadata": {
    "execution": {
     "iopub.execute_input": "2025-08-19T18:27:03.013066Z",
     "iopub.status.busy": "2025-08-19T18:27:03.012353Z",
     "iopub.status.idle": "2025-08-19T18:27:03.118863Z",
     "shell.execute_reply": "2025-08-19T18:27:03.118156Z"
    },
    "papermill": {
     "duration": 0.11982,
     "end_time": "2025-08-19T18:27:03.120084",
     "exception": false,
     "start_time": "2025-08-19T18:27:03.000264",
     "status": "completed"
    },
    "tags": []
   },
   "outputs": [
    {
     "data": {
      "text/plain": [
       "0.8589120499386913"
      ]
     },
     "execution_count": 35,
     "metadata": {},
     "output_type": "execute_result"
    }
   ],
   "source": [
    "from fairness_multiverse.universe import predict_w_threshold\n",
    "\n",
    "probs_test = model.predict_proba(X_test)\n",
    "\n",
    "'''\n",
    "Below code returns a boolean array (or binary 0/1 array depending on how it’s used) where each element \n",
    "is True if the probability of class 1 is greater than or equal to the threshold, and False otherwise.\n",
    "'''\n",
    "y_pred_default = predict_w_threshold(probs_test, 0.5)\n",
    "\n",
    "from sklearn.metrics import accuracy_score\n",
    "\n",
    "# Naive prediction\n",
    "accuracy_score(y_true = y_true, y_pred = y_pred_default)"
   ]
  },
  {
   "cell_type": "code",
   "execution_count": 36,
   "id": "6f14067c",
   "metadata": {
    "execution": {
     "iopub.execute_input": "2025-08-19T18:27:03.143764Z",
     "iopub.status.busy": "2025-08-19T18:27:03.143379Z",
     "iopub.status.idle": "2025-08-19T18:27:03.230804Z",
     "shell.execute_reply": "2025-08-19T18:27:03.229685Z"
    },
    "papermill": {
     "duration": 0.102436,
     "end_time": "2025-08-19T18:27:03.233939",
     "exception": false,
     "start_time": "2025-08-19T18:27:03.131503",
     "status": "completed"
    },
    "tags": []
   },
   "outputs": [
    {
     "data": {
      "text/plain": [
       "array([0, 0, 0, ..., 0, 0, 0])"
      ]
     },
     "execution_count": 36,
     "metadata": {},
     "output_type": "execute_result"
    }
   ],
   "source": [
    "model.predict(X_test)"
   ]
  },
  {
   "cell_type": "markdown",
   "id": "3759920c",
   "metadata": {
    "papermill": {
     "duration": 0.013336,
     "end_time": "2025-08-19T18:27:03.272833",
     "exception": false,
     "start_time": "2025-08-19T18:27:03.259497",
     "status": "completed"
    },
    "tags": []
   },
   "source": [
    "# Conformal Prediction"
   ]
  },
  {
   "cell_type": "code",
   "execution_count": 37,
   "id": "14b27f59",
   "metadata": {
    "execution": {
     "iopub.execute_input": "2025-08-19T18:27:03.297996Z",
     "iopub.status.busy": "2025-08-19T18:27:03.297466Z",
     "iopub.status.idle": "2025-08-19T18:27:03.302064Z",
     "shell.execute_reply": "2025-08-19T18:27:03.301352Z"
    },
    "papermill": {
     "duration": 0.01904,
     "end_time": "2025-08-19T18:27:03.303670",
     "exception": false,
     "start_time": "2025-08-19T18:27:03.284630",
     "status": "completed"
    },
    "tags": []
   },
   "outputs": [],
   "source": [
    "# Miscoverage level for conformal prediction (10% allowed error rate => 90% target coverage)\n",
    "alpha = 0.1"
   ]
  },
  {
   "cell_type": "code",
   "execution_count": 38,
   "id": "59102472",
   "metadata": {
    "execution": {
     "iopub.execute_input": "2025-08-19T18:27:03.328147Z",
     "iopub.status.busy": "2025-08-19T18:27:03.327742Z",
     "iopub.status.idle": "2025-08-19T18:27:03.411980Z",
     "shell.execute_reply": "2025-08-19T18:27:03.411168Z"
    },
    "papermill": {
     "duration": 0.099157,
     "end_time": "2025-08-19T18:27:03.414442",
     "exception": false,
     "start_time": "2025-08-19T18:27:03.315285",
     "status": "completed"
    },
    "tags": []
   },
   "outputs": [],
   "source": [
    "probs_calib = model.predict_proba(X_calib)"
   ]
  },
  {
   "cell_type": "code",
   "execution_count": 39,
   "id": "a792d4dd",
   "metadata": {
    "execution": {
     "iopub.execute_input": "2025-08-19T18:27:03.463906Z",
     "iopub.status.busy": "2025-08-19T18:27:03.462890Z",
     "iopub.status.idle": "2025-08-19T18:27:03.472186Z",
     "shell.execute_reply": "2025-08-19T18:27:03.471003Z"
    },
    "papermill": {
     "duration": 0.026898,
     "end_time": "2025-08-19T18:27:03.473860",
     "exception": false,
     "start_time": "2025-08-19T18:27:03.446962",
     "status": "completed"
    },
    "tags": []
   },
   "outputs": [],
   "source": [
    "y_calib = y_calib.values.ravel().astype(int)"
   ]
  },
  {
   "cell_type": "code",
   "execution_count": 40,
   "id": "650fd033",
   "metadata": {
    "execution": {
     "iopub.execute_input": "2025-08-19T18:27:03.521233Z",
     "iopub.status.busy": "2025-08-19T18:27:03.520563Z",
     "iopub.status.idle": "2025-08-19T18:27:03.528271Z",
     "shell.execute_reply": "2025-08-19T18:27:03.527334Z"
    },
    "papermill": {
     "duration": 0.037802,
     "end_time": "2025-08-19T18:27:03.529955",
     "exception": false,
     "start_time": "2025-08-19T18:27:03.492153",
     "status": "completed"
    },
    "tags": []
   },
   "outputs": [],
   "source": [
    "from fairness_multiverse.conformal import compute_nc_scores\n",
    "\n",
    "# Compute nonconformity scores on calibration set (1 - probability of true class)\n",
    "nc_scores = compute_nc_scores(probs_calib, y_calib)"
   ]
  },
  {
   "cell_type": "code",
   "execution_count": 41,
   "id": "28ada44c",
   "metadata": {
    "execution": {
     "iopub.execute_input": "2025-08-19T18:27:03.558738Z",
     "iopub.status.busy": "2025-08-19T18:27:03.558343Z",
     "iopub.status.idle": "2025-08-19T18:27:03.574234Z",
     "shell.execute_reply": "2025-08-19T18:27:03.573442Z"
    },
    "papermill": {
     "duration": 0.031492,
     "end_time": "2025-08-19T18:27:03.576300",
     "exception": false,
     "start_time": "2025-08-19T18:27:03.544808",
     "status": "completed"
    },
    "tags": []
   },
   "outputs": [],
   "source": [
    "from fairness_multiverse.conformal import find_threshold\n",
    "\n",
    "# Find conformal threshold q_hat for the given alpha (split conformal method)\n",
    "q_hat = find_threshold(nc_scores, alpha)"
   ]
  },
  {
   "cell_type": "code",
   "execution_count": 42,
   "id": "df56469e",
   "metadata": {
    "execution": {
     "iopub.execute_input": "2025-08-19T18:27:03.603983Z",
     "iopub.status.busy": "2025-08-19T18:27:03.603585Z",
     "iopub.status.idle": "2025-08-19T18:27:03.609278Z",
     "shell.execute_reply": "2025-08-19T18:27:03.608614Z"
    },
    "papermill": {
     "duration": 0.020915,
     "end_time": "2025-08-19T18:27:03.611599",
     "exception": false,
     "start_time": "2025-08-19T18:27:03.590684",
     "status": "completed"
    },
    "tags": []
   },
   "outputs": [
    {
     "data": {
      "text/plain": [
       "0.6695247612810542"
      ]
     },
     "execution_count": 42,
     "metadata": {},
     "output_type": "execute_result"
    }
   ],
   "source": [
    "q_hat"
   ]
  },
  {
   "cell_type": "code",
   "execution_count": 43,
   "id": "aa1f5faa",
   "metadata": {
    "execution": {
     "iopub.execute_input": "2025-08-19T18:27:03.635828Z",
     "iopub.status.busy": "2025-08-19T18:27:03.635446Z",
     "iopub.status.idle": "2025-08-19T18:27:04.160157Z",
     "shell.execute_reply": "2025-08-19T18:27:04.158772Z"
    },
    "papermill": {
     "duration": 0.538545,
     "end_time": "2025-08-19T18:27:04.161801",
     "exception": false,
     "start_time": "2025-08-19T18:27:03.623256",
     "status": "completed"
    },
    "tags": []
   },
   "outputs": [],
   "source": [
    "from fairness_multiverse.conformal import predict_conformal_sets\n",
    "\n",
    "# Generate prediction sets for each test example\n",
    "pred_sets = predict_conformal_sets(model, X_test, q_hat)"
   ]
  },
  {
   "cell_type": "code",
   "execution_count": 44,
   "id": "97f67a6b",
   "metadata": {
    "execution": {
     "iopub.execute_input": "2025-08-19T18:27:04.187597Z",
     "iopub.status.busy": "2025-08-19T18:27:04.187111Z",
     "iopub.status.idle": "2025-08-19T18:27:04.193992Z",
     "shell.execute_reply": "2025-08-19T18:27:04.193289Z"
    },
    "papermill": {
     "duration": 0.021351,
     "end_time": "2025-08-19T18:27:04.195124",
     "exception": false,
     "start_time": "2025-08-19T18:27:04.173773",
     "status": "completed"
    },
    "tags": []
   },
   "outputs": [],
   "source": [
    "y_true = y_true.squeeze()"
   ]
  },
  {
   "cell_type": "code",
   "execution_count": 45,
   "id": "e700e9a7",
   "metadata": {
    "execution": {
     "iopub.execute_input": "2025-08-19T18:27:04.219304Z",
     "iopub.status.busy": "2025-08-19T18:27:04.219003Z",
     "iopub.status.idle": "2025-08-19T18:27:04.744652Z",
     "shell.execute_reply": "2025-08-19T18:27:04.743338Z"
    },
    "papermill": {
     "duration": 0.539631,
     "end_time": "2025-08-19T18:27:04.746287",
     "exception": false,
     "start_time": "2025-08-19T18:27:04.206656",
     "status": "completed"
    },
    "tags": []
   },
   "outputs": [],
   "source": [
    "from fairness_multiverse.conformal import evaluate_sets\n",
    "\n",
    "# Evaluate coverage and average set size on test data\n",
    "metrics = evaluate_sets(pred_sets, y_true)"
   ]
  },
  {
   "cell_type": "markdown",
   "id": "efbacec0",
   "metadata": {
    "papermill": {
     "duration": 0.017248,
     "end_time": "2025-08-19T18:27:04.775761",
     "exception": false,
     "start_time": "2025-08-19T18:27:04.758513",
     "status": "completed"
    },
    "tags": []
   },
   "source": [
    "# CP Metrics"
   ]
  },
  {
   "cell_type": "code",
   "execution_count": 46,
   "id": "9de55fb1",
   "metadata": {
    "execution": {
     "iopub.execute_input": "2025-08-19T18:27:04.801694Z",
     "iopub.status.busy": "2025-08-19T18:27:04.801343Z",
     "iopub.status.idle": "2025-08-19T18:27:04.809253Z",
     "shell.execute_reply": "2025-08-19T18:27:04.808488Z"
    },
    "papermill": {
     "duration": 0.022239,
     "end_time": "2025-08-19T18:27:04.810543",
     "exception": false,
     "start_time": "2025-08-19T18:27:04.788304",
     "status": "completed"
    },
    "tags": []
   },
   "outputs": [
    {
     "data": {
      "text/plain": [
       "{'coverage': 0.9108014714078698, 'avg_size': 1.2204659458254374}"
      ]
     },
     "execution_count": 46,
     "metadata": {},
     "output_type": "execute_result"
    }
   ],
   "source": [
    "metrics"
   ]
  },
  {
   "cell_type": "code",
   "execution_count": 47,
   "id": "64c340a1",
   "metadata": {
    "execution": {
     "iopub.execute_input": "2025-08-19T18:27:04.839473Z",
     "iopub.status.busy": "2025-08-19T18:27:04.839209Z",
     "iopub.status.idle": "2025-08-19T18:27:04.844315Z",
     "shell.execute_reply": "2025-08-19T18:27:04.843655Z"
    },
    "papermill": {
     "duration": 0.025446,
     "end_time": "2025-08-19T18:27:04.848656",
     "exception": false,
     "start_time": "2025-08-19T18:27:04.823210",
     "status": "completed"
    },
    "tags": []
   },
   "outputs": [],
   "source": [
    "example_universe = universe.copy()\n",
    "universe_training_year = example_universe.get(\"training_year\")\n",
    "universe_training_size = example_universe.get(\"training_size\")\n",
    "universe_scale = example_universe.get(\"scale\")\n",
    "universe_model = example_universe.get(\"model\")\n",
    "universe_exclude_features = example_universe.get(\"exclude_features\")\n",
    "universe_exclude_subgroups = example_universe.get(\"exclude_subgroups\")"
   ]
  },
  {
   "cell_type": "code",
   "execution_count": 48,
   "id": "dbb53cb4",
   "metadata": {
    "execution": {
     "iopub.execute_input": "2025-08-19T18:27:04.889906Z",
     "iopub.status.busy": "2025-08-19T18:27:04.889612Z",
     "iopub.status.idle": "2025-08-19T18:27:04.896513Z",
     "shell.execute_reply": "2025-08-19T18:27:04.895773Z"
    },
    "papermill": {
     "duration": 0.022195,
     "end_time": "2025-08-19T18:27:04.899412",
     "exception": false,
     "start_time": "2025-08-19T18:27:04.877217",
     "status": "completed"
    },
    "tags": []
   },
   "outputs": [],
   "source": [
    "cp_metrics_dict = {\n",
    "    \"universe_id\": [universe_id],\n",
    "    \"universe_training_year\": [universe_training_year],\n",
    "    \"universe_training_size\": [universe_training_size],\n",
    "    \"universe_scale\": [universe_scale],\n",
    "    \"universe_model\": [universe_model],\n",
    "    \"universe_exclude_features\": [universe_exclude_features],\n",
    "    \"universe_exclude_subgroups\": [universe_exclude_subgroups],\n",
    "    \"q_hat\": [q_hat],\n",
    "    \"coverage\": [metrics[\"coverage\"]],\n",
    "    \"avg_size\": [metrics[\"avg_size\"]],\n",
    "}"
   ]
  },
  {
   "cell_type": "code",
   "execution_count": 49,
   "id": "0d70d4b2",
   "metadata": {
    "execution": {
     "iopub.execute_input": "2025-08-19T18:27:04.926218Z",
     "iopub.status.busy": "2025-08-19T18:27:04.925939Z",
     "iopub.status.idle": "2025-08-19T18:27:04.931644Z",
     "shell.execute_reply": "2025-08-19T18:27:04.931020Z"
    },
    "papermill": {
     "duration": 0.021038,
     "end_time": "2025-08-19T18:27:04.932893",
     "exception": false,
     "start_time": "2025-08-19T18:27:04.911855",
     "status": "completed"
    },
    "tags": []
   },
   "outputs": [],
   "source": [
    "cp_metrics_df = pd.DataFrame(cp_metrics_dict)"
   ]
  },
  {
   "cell_type": "code",
   "execution_count": 50,
   "id": "b494403c",
   "metadata": {
    "execution": {
     "iopub.execute_input": "2025-08-19T18:27:04.958690Z",
     "iopub.status.busy": "2025-08-19T18:27:04.958270Z",
     "iopub.status.idle": "2025-08-19T18:27:04.975333Z",
     "shell.execute_reply": "2025-08-19T18:27:04.974545Z"
    },
    "papermill": {
     "duration": 0.044113,
     "end_time": "2025-08-19T18:27:04.989659",
     "exception": false,
     "start_time": "2025-08-19T18:27:04.945546",
     "status": "completed"
    },
    "tags": []
   },
   "outputs": [
    {
     "data": {
      "text/html": [
       "<div>\n",
       "<style scoped>\n",
       "    .dataframe tbody tr th:only-of-type {\n",
       "        vertical-align: middle;\n",
       "    }\n",
       "\n",
       "    .dataframe tbody tr th {\n",
       "        vertical-align: top;\n",
       "    }\n",
       "\n",
       "    .dataframe thead th {\n",
       "        text-align: right;\n",
       "    }\n",
       "</style>\n",
       "<table border=\"1\" class=\"dataframe\">\n",
       "  <thead>\n",
       "    <tr style=\"text-align: right;\">\n",
       "      <th></th>\n",
       "      <th>universe_id</th>\n",
       "      <th>universe_training_year</th>\n",
       "      <th>universe_training_size</th>\n",
       "      <th>universe_scale</th>\n",
       "      <th>universe_model</th>\n",
       "      <th>universe_exclude_features</th>\n",
       "      <th>universe_exclude_subgroups</th>\n",
       "      <th>q_hat</th>\n",
       "      <th>coverage</th>\n",
       "      <th>avg_size</th>\n",
       "    </tr>\n",
       "  </thead>\n",
       "  <tbody>\n",
       "    <tr>\n",
       "      <th>0</th>\n",
       "      <td>68631903985693e17db38f7d216d7b37</td>\n",
       "      <td>2014</td>\n",
       "      <td>5k</td>\n",
       "      <td>do-not-scale</td>\n",
       "      <td>logreg</td>\n",
       "      <td>none</td>\n",
       "      <td>drop-non-german</td>\n",
       "      <td>0.669525</td>\n",
       "      <td>0.910801</td>\n",
       "      <td>1.220466</td>\n",
       "    </tr>\n",
       "  </tbody>\n",
       "</table>\n",
       "</div>"
      ],
      "text/plain": [
       "                        universe_id universe_training_year  \\\n",
       "0  68631903985693e17db38f7d216d7b37                   2014   \n",
       "\n",
       "  universe_training_size universe_scale universe_model  \\\n",
       "0                     5k   do-not-scale         logreg   \n",
       "\n",
       "  universe_exclude_features universe_exclude_subgroups     q_hat  coverage  \\\n",
       "0                      none            drop-non-german  0.669525  0.910801   \n",
       "\n",
       "   avg_size  \n",
       "0  1.220466  "
      ]
     },
     "execution_count": 50,
     "metadata": {},
     "output_type": "execute_result"
    }
   ],
   "source": [
    "cp_metrics_df"
   ]
  },
  {
   "cell_type": "markdown",
   "id": "ed608b0b",
   "metadata": {
    "papermill": {
     "duration": 0.012139,
     "end_time": "2025-08-19T18:27:05.018167",
     "exception": false,
     "start_time": "2025-08-19T18:27:05.006028",
     "status": "completed"
    },
    "tags": []
   },
   "source": [
    "Conditional coverage & looking at subgroups"
   ]
  },
  {
   "cell_type": "code",
   "execution_count": 51,
   "id": "8968c366",
   "metadata": {
    "execution": {
     "iopub.execute_input": "2025-08-19T18:27:05.043750Z",
     "iopub.status.busy": "2025-08-19T18:27:05.043436Z",
     "iopub.status.idle": "2025-08-19T18:27:05.332755Z",
     "shell.execute_reply": "2025-08-19T18:27:05.331875Z"
    },
    "papermill": {
     "duration": 0.304194,
     "end_time": "2025-08-19T18:27:05.334420",
     "exception": false,
     "start_time": "2025-08-19T18:27:05.030226",
     "status": "completed"
    },
    "tags": []
   },
   "outputs": [],
   "source": [
    "from fairness_multiverse.conformal import build_cp_groups\n",
    "\n",
    "cp_groups_df = build_cp_groups(pred_sets, y_true, X_test.index, org_test)"
   ]
  },
  {
   "cell_type": "code",
   "execution_count": 52,
   "id": "292ddabf",
   "metadata": {
    "execution": {
     "iopub.execute_input": "2025-08-19T18:27:05.359818Z",
     "iopub.status.busy": "2025-08-19T18:27:05.359528Z",
     "iopub.status.idle": "2025-08-19T18:27:06.320949Z",
     "shell.execute_reply": "2025-08-19T18:27:06.319515Z"
    },
    "papermill": {
     "duration": 0.975965,
     "end_time": "2025-08-19T18:27:06.322808",
     "exception": false,
     "start_time": "2025-08-19T18:27:05.346843",
     "status": "completed"
    },
    "tags": []
   },
   "outputs": [],
   "source": [
    "# Define covered = 1 if true_label is in the predicted set\n",
    "cp_groups_df['covered'] = cp_groups_df.apply(\n",
    "    lambda r: int(r['true_label'] in r['pred_set']),\n",
    "    axis=1\n",
    ")"
   ]
  },
  {
   "cell_type": "code",
   "execution_count": 53,
   "id": "3a261692",
   "metadata": {
    "execution": {
     "iopub.execute_input": "2025-08-19T18:27:06.348388Z",
     "iopub.status.busy": "2025-08-19T18:27:06.348066Z",
     "iopub.status.idle": "2025-08-19T18:27:06.361163Z",
     "shell.execute_reply": "2025-08-19T18:27:06.360366Z"
    },
    "papermill": {
     "duration": 0.027404,
     "end_time": "2025-08-19T18:27:06.362644",
     "exception": false,
     "start_time": "2025-08-19T18:27:06.335240",
     "status": "completed"
    },
    "tags": []
   },
   "outputs": [],
   "source": [
    "subgroups = ['frau1','nongerman','nongerman_male','nongerman_female']\n",
    "\n",
    "# Conditional coverage for subgroup==1\n",
    "cond_coverage = {\n",
    "    g: cp_groups_df.loc[cp_groups_df[g]==1, 'covered'].mean()\n",
    "    for g in subgroups\n",
    "}"
   ]
  },
  {
   "cell_type": "code",
   "execution_count": 54,
   "id": "894fd600",
   "metadata": {
    "execution": {
     "iopub.execute_input": "2025-08-19T18:27:06.387455Z",
     "iopub.status.busy": "2025-08-19T18:27:06.387179Z",
     "iopub.status.idle": "2025-08-19T18:27:06.393279Z",
     "shell.execute_reply": "2025-08-19T18:27:06.392427Z"
    },
    "papermill": {
     "duration": 0.019966,
     "end_time": "2025-08-19T18:27:06.394640",
     "exception": false,
     "start_time": "2025-08-19T18:27:06.374674",
     "status": "completed"
    },
    "tags": []
   },
   "outputs": [
    {
     "data": {
      "text/plain": [
       "{'frau1': 0.9078312441029789,\n",
       " 'nongerman': 0.9370122943917364,\n",
       " 'nongerman_male': 0.9500135098621995,\n",
       " 'nongerman_female': 0.9154992548435171}"
      ]
     },
     "execution_count": 54,
     "metadata": {},
     "output_type": "execute_result"
    }
   ],
   "source": [
    "cond_coverage"
   ]
  },
  {
   "cell_type": "code",
   "execution_count": 55,
   "id": "942895c7",
   "metadata": {
    "execution": {
     "iopub.execute_input": "2025-08-19T18:27:06.419342Z",
     "iopub.status.busy": "2025-08-19T18:27:06.419080Z",
     "iopub.status.idle": "2025-08-19T18:27:06.425189Z",
     "shell.execute_reply": "2025-08-19T18:27:06.424442Z"
    },
    "papermill": {
     "duration": 0.019786,
     "end_time": "2025-08-19T18:27:06.426493",
     "exception": false,
     "start_time": "2025-08-19T18:27:06.406707",
     "status": "completed"
    },
    "tags": []
   },
   "outputs": [],
   "source": [
    "for subgroup, cov in cond_coverage.items():\n",
    "    cp_metrics_df[f\"cov_{subgroup}\"] = cov"
   ]
  },
  {
   "cell_type": "code",
   "execution_count": 56,
   "id": "3970120f",
   "metadata": {
    "execution": {
     "iopub.execute_input": "2025-08-19T18:27:06.451431Z",
     "iopub.status.busy": "2025-08-19T18:27:06.451163Z",
     "iopub.status.idle": "2025-08-19T18:27:06.468002Z",
     "shell.execute_reply": "2025-08-19T18:27:06.467191Z"
    },
    "papermill": {
     "duration": 0.031224,
     "end_time": "2025-08-19T18:27:06.469682",
     "exception": false,
     "start_time": "2025-08-19T18:27:06.438458",
     "status": "completed"
    },
    "tags": []
   },
   "outputs": [
    {
     "data": {
      "text/html": [
       "<div>\n",
       "<style scoped>\n",
       "    .dataframe tbody tr th:only-of-type {\n",
       "        vertical-align: middle;\n",
       "    }\n",
       "\n",
       "    .dataframe tbody tr th {\n",
       "        vertical-align: top;\n",
       "    }\n",
       "\n",
       "    .dataframe thead th {\n",
       "        text-align: right;\n",
       "    }\n",
       "</style>\n",
       "<table border=\"1\" class=\"dataframe\">\n",
       "  <thead>\n",
       "    <tr style=\"text-align: right;\">\n",
       "      <th></th>\n",
       "      <th>universe_id</th>\n",
       "      <th>universe_training_year</th>\n",
       "      <th>universe_training_size</th>\n",
       "      <th>universe_scale</th>\n",
       "      <th>universe_model</th>\n",
       "      <th>universe_exclude_features</th>\n",
       "      <th>universe_exclude_subgroups</th>\n",
       "      <th>q_hat</th>\n",
       "      <th>coverage</th>\n",
       "      <th>avg_size</th>\n",
       "      <th>cov_frau1</th>\n",
       "      <th>cov_nongerman</th>\n",
       "      <th>cov_nongerman_male</th>\n",
       "      <th>cov_nongerman_female</th>\n",
       "    </tr>\n",
       "  </thead>\n",
       "  <tbody>\n",
       "    <tr>\n",
       "      <th>0</th>\n",
       "      <td>68631903985693e17db38f7d216d7b37</td>\n",
       "      <td>2014</td>\n",
       "      <td>5k</td>\n",
       "      <td>do-not-scale</td>\n",
       "      <td>logreg</td>\n",
       "      <td>none</td>\n",
       "      <td>drop-non-german</td>\n",
       "      <td>0.669525</td>\n",
       "      <td>0.910801</td>\n",
       "      <td>1.220466</td>\n",
       "      <td>0.907831</td>\n",
       "      <td>0.937012</td>\n",
       "      <td>0.950014</td>\n",
       "      <td>0.915499</td>\n",
       "    </tr>\n",
       "  </tbody>\n",
       "</table>\n",
       "</div>"
      ],
      "text/plain": [
       "                        universe_id universe_training_year  \\\n",
       "0  68631903985693e17db38f7d216d7b37                   2014   \n",
       "\n",
       "  universe_training_size universe_scale universe_model  \\\n",
       "0                     5k   do-not-scale         logreg   \n",
       "\n",
       "  universe_exclude_features universe_exclude_subgroups     q_hat  coverage  \\\n",
       "0                      none            drop-non-german  0.669525  0.910801   \n",
       "\n",
       "   avg_size  cov_frau1  cov_nongerman  cov_nongerman_male  \\\n",
       "0  1.220466   0.907831       0.937012            0.950014   \n",
       "\n",
       "   cov_nongerman_female  \n",
       "0              0.915499  "
      ]
     },
     "execution_count": 56,
     "metadata": {},
     "output_type": "execute_result"
    }
   ],
   "source": [
    "cp_metrics_df"
   ]
  },
  {
   "cell_type": "markdown",
   "id": "3fc519cc",
   "metadata": {
    "papermill": {
     "duration": 0.011847,
     "end_time": "2025-08-19T18:27:06.495688",
     "exception": false,
     "start_time": "2025-08-19T18:27:06.483841",
     "status": "completed"
    },
    "tags": []
   },
   "source": [
    "# (Fairness) Metrics"
   ]
  },
  {
   "cell_type": "code",
   "execution_count": 57,
   "id": "a2e5e155",
   "metadata": {
    "execution": {
     "iopub.execute_input": "2025-08-19T18:27:06.520606Z",
     "iopub.status.busy": "2025-08-19T18:27:06.520293Z",
     "iopub.status.idle": "2025-08-19T18:27:06.535550Z",
     "shell.execute_reply": "2025-08-19T18:27:06.534770Z"
    },
    "papermill": {
     "duration": 0.029597,
     "end_time": "2025-08-19T18:27:06.537139",
     "exception": false,
     "start_time": "2025-08-19T18:27:06.507542",
     "status": "completed"
    },
    "tags": []
   },
   "outputs": [],
   "source": [
    "colname_to_bin = \"maxdeutsch1\"\n",
    "majority_value = org_train[colname_to_bin].mode()[0]\n",
    "\n",
    "org_test[\"majmin\"] = np.where(org_test[colname_to_bin] == majority_value, \"majority\", \"minority\")"
   ]
  },
  {
   "cell_type": "code",
   "execution_count": 58,
   "id": "17e3e4d5",
   "metadata": {
    "execution": {
     "iopub.execute_input": "2025-08-19T18:27:06.563461Z",
     "iopub.status.busy": "2025-08-19T18:27:06.563175Z",
     "iopub.status.idle": "2025-08-19T18:27:08.365074Z",
     "shell.execute_reply": "2025-08-19T18:27:08.363710Z"
    },
    "papermill": {
     "duration": 1.816945,
     "end_time": "2025-08-19T18:27:08.366886",
     "exception": false,
     "start_time": "2025-08-19T18:27:06.549941",
     "status": "completed"
    },
    "tags": []
   },
   "outputs": [],
   "source": [
    "example_universe = universe.copy()\n",
    "example_universe[\"cutoff\"] = example_universe[\"cutoff\"][0]\n",
    "example_universe[\"eval_fairness_grouping\"] = example_universe[\"eval_fairness_grouping\"][0]\n",
    "fairness_dict, metric_frame = universe_analysis.compute_metrics(\n",
    "    example_universe,\n",
    "    y_pred_prob=probs_test,\n",
    "    y_test=y_true,\n",
    "    org_test=org_test,\n",
    ")"
   ]
  },
  {
   "cell_type": "markdown",
   "id": "1fb7a0e9",
   "metadata": {
    "papermill": {
     "duration": 0.021697,
     "end_time": "2025-08-19T18:27:08.407394",
     "exception": false,
     "start_time": "2025-08-19T18:27:08.385697",
     "status": "completed"
    },
    "tags": []
   },
   "source": [
    "# Overall"
   ]
  },
  {
   "cell_type": "markdown",
   "id": "be1784b1",
   "metadata": {
    "papermill": {
     "duration": 0.012429,
     "end_time": "2025-08-19T18:27:08.433078",
     "exception": false,
     "start_time": "2025-08-19T18:27:08.420649",
     "status": "completed"
    },
    "tags": []
   },
   "source": [
    "Main fairness target: Equalized Odds. Seems to be a better fit than equal opportunity, since we're not only interested in Y = 1. Seems to be a better fit than demographic parity, since we also care about accuracy, not just equal distribution of preds.\n",
    "\n",
    "Pick column for computation of fairness metrics\n",
    "\n",
    "Performance\n",
    "Overall performance measures, most interesting in relation to the measures split by group below"
   ]
  },
  {
   "cell_type": "code",
   "execution_count": 59,
   "id": "b7672bee",
   "metadata": {
    "execution": {
     "iopub.execute_input": "2025-08-19T18:27:08.458746Z",
     "iopub.status.busy": "2025-08-19T18:27:08.458286Z",
     "iopub.status.idle": "2025-08-19T18:27:08.466569Z",
     "shell.execute_reply": "2025-08-19T18:27:08.465910Z"
    },
    "papermill": {
     "duration": 0.026017,
     "end_time": "2025-08-19T18:27:08.470920",
     "exception": false,
     "start_time": "2025-08-19T18:27:08.444903",
     "status": "completed"
    },
    "tags": []
   },
   "outputs": [
    {
     "data": {
      "text/plain": [
       "accuracy                   0.216955\n",
       "balanced accuracy          0.532038\n",
       "f1                         0.238490\n",
       "precision                  0.136241\n",
       "false positive rate        0.891780\n",
       "false negative rate        0.044143\n",
       "selection rate             0.900000\n",
       "count                  89710.000000\n",
       "dtype: float64"
      ]
     },
     "execution_count": 59,
     "metadata": {},
     "output_type": "execute_result"
    }
   ],
   "source": [
    "metric_frame.overall"
   ]
  },
  {
   "cell_type": "markdown",
   "id": "d93333c9",
   "metadata": {
    "papermill": {
     "duration": 0.025862,
     "end_time": "2025-08-19T18:27:08.523276",
     "exception": false,
     "start_time": "2025-08-19T18:27:08.497414",
     "status": "completed"
    },
    "tags": []
   },
   "source": [
    "By Group"
   ]
  },
  {
   "cell_type": "code",
   "execution_count": 60,
   "id": "52256966",
   "metadata": {
    "execution": {
     "iopub.execute_input": "2025-08-19T18:27:08.550115Z",
     "iopub.status.busy": "2025-08-19T18:27:08.549731Z",
     "iopub.status.idle": "2025-08-19T18:27:08.563606Z",
     "shell.execute_reply": "2025-08-19T18:27:08.562866Z"
    },
    "papermill": {
     "duration": 0.028426,
     "end_time": "2025-08-19T18:27:08.565062",
     "exception": false,
     "start_time": "2025-08-19T18:27:08.536636",
     "status": "completed"
    },
    "tags": []
   },
   "outputs": [
    {
     "data": {
      "text/html": [
       "<div>\n",
       "<style scoped>\n",
       "    .dataframe tbody tr th:only-of-type {\n",
       "        vertical-align: middle;\n",
       "    }\n",
       "\n",
       "    .dataframe tbody tr th {\n",
       "        vertical-align: top;\n",
       "    }\n",
       "\n",
       "    .dataframe thead th {\n",
       "        text-align: right;\n",
       "    }\n",
       "</style>\n",
       "<table border=\"1\" class=\"dataframe\">\n",
       "  <thead>\n",
       "    <tr style=\"text-align: right;\">\n",
       "      <th></th>\n",
       "      <th>accuracy</th>\n",
       "      <th>balanced accuracy</th>\n",
       "      <th>f1</th>\n",
       "      <th>precision</th>\n",
       "      <th>false positive rate</th>\n",
       "      <th>false negative rate</th>\n",
       "      <th>selection rate</th>\n",
       "      <th>count</th>\n",
       "    </tr>\n",
       "    <tr>\n",
       "      <th>majmin</th>\n",
       "      <th></th>\n",
       "      <th></th>\n",
       "      <th></th>\n",
       "      <th></th>\n",
       "      <th></th>\n",
       "      <th></th>\n",
       "      <th></th>\n",
       "      <th></th>\n",
       "    </tr>\n",
       "  </thead>\n",
       "  <tbody>\n",
       "    <tr>\n",
       "      <th>majority</th>\n",
       "      <td>0.238615</td>\n",
       "      <td>0.539641</td>\n",
       "      <td>0.247740</td>\n",
       "      <td>0.142470</td>\n",
       "      <td>0.869515</td>\n",
       "      <td>0.051204</td>\n",
       "      <td>0.879991</td>\n",
       "      <td>69170.0</td>\n",
       "    </tr>\n",
       "    <tr>\n",
       "      <th>minority</th>\n",
       "      <td>0.144012</td>\n",
       "      <td>0.508888</td>\n",
       "      <td>0.209371</td>\n",
       "      <td>0.117162</td>\n",
       "      <td>0.965331</td>\n",
       "      <td>0.016892</td>\n",
       "      <td>0.967381</td>\n",
       "      <td>20540.0</td>\n",
       "    </tr>\n",
       "  </tbody>\n",
       "</table>\n",
       "</div>"
      ],
      "text/plain": [
       "          accuracy  balanced accuracy        f1  precision  \\\n",
       "majmin                                                       \n",
       "majority  0.238615           0.539641  0.247740   0.142470   \n",
       "minority  0.144012           0.508888  0.209371   0.117162   \n",
       "\n",
       "          false positive rate  false negative rate  selection rate    count  \n",
       "majmin                                                                       \n",
       "majority             0.869515             0.051204        0.879991  69170.0  \n",
       "minority             0.965331             0.016892        0.967381  20540.0  "
      ]
     },
     "execution_count": 60,
     "metadata": {},
     "output_type": "execute_result"
    }
   ],
   "source": [
    "metric_frame.by_group"
   ]
  },
  {
   "cell_type": "code",
   "execution_count": 61,
   "id": "6e6c20ae",
   "metadata": {
    "execution": {
     "iopub.execute_input": "2025-08-19T18:27:08.593274Z",
     "iopub.status.busy": "2025-08-19T18:27:08.592900Z",
     "iopub.status.idle": "2025-08-19T18:27:10.466151Z",
     "shell.execute_reply": "2025-08-19T18:27:10.465139Z"
    },
    "papermill": {
     "duration": 1.887952,
     "end_time": "2025-08-19T18:27:10.467452",
     "exception": false,
     "start_time": "2025-08-19T18:27:08.579500",
     "status": "completed"
    },
    "tags": []
   },
   "outputs": [
    {
     "data": {
      "text/plain": [
       "array([[<Axes: title={'center': 'accuracy'}, xlabel='majmin'>,\n",
       "        <Axes: title={'center': 'balanced accuracy'}, xlabel='majmin'>,\n",
       "        <Axes: title={'center': 'f1'}, xlabel='majmin'>],\n",
       "       [<Axes: title={'center': 'precision'}, xlabel='majmin'>,\n",
       "        <Axes: title={'center': 'false positive rate'}, xlabel='majmin'>,\n",
       "        <Axes: title={'center': 'false negative rate'}, xlabel='majmin'>],\n",
       "       [<Axes: title={'center': 'selection rate'}, xlabel='majmin'>,\n",
       "        <Axes: title={'center': 'count'}, xlabel='majmin'>,\n",
       "        <Axes: xlabel='majmin'>]], dtype=object)"
      ]
     },
     "execution_count": 61,
     "metadata": {},
     "output_type": "execute_result"
    },
    {
     "data": {
      "image/png": "[encoded data removed]",
      "text/plain": [
       "<Figure size 1200x800 with 9 Axes>"
      ]
     },
     "metadata": {},
     "output_type": "display_data"
    }
   ],
   "source": [
    "# In a graphic\n",
    "metric_frame.by_group.plot.bar(\n",
    "    subplots=True,\n",
    "    layout=[3, 3],\n",
    "    legend=False,\n",
    "    figsize=[12, 8],\n",
    "    title=\"Show all metrics\",\n",
    ")"
   ]
  },
  {
   "cell_type": "markdown",
   "id": "b2e433ae",
   "metadata": {
    "papermill": {
     "duration": 0.016316,
     "end_time": "2025-08-19T18:27:10.498885",
     "exception": false,
     "start_time": "2025-08-19T18:27:10.482569",
     "status": "completed"
    },
    "tags": []
   },
   "source": [
    "# Final Output"
   ]
  },
  {
   "cell_type": "code",
   "execution_count": 62,
   "id": "3871301e",
   "metadata": {
    "execution": {
     "iopub.execute_input": "2025-08-19T18:27:10.545531Z",
     "iopub.status.busy": "2025-08-19T18:27:10.544351Z",
     "iopub.status.idle": "2025-08-19T18:27:10.555886Z",
     "shell.execute_reply": "2025-08-19T18:27:10.555039Z"
    },
    "papermill": {
     "duration": 0.045197,
     "end_time": "2025-08-19T18:27:10.557979",
     "exception": false,
     "start_time": "2025-08-19T18:27:10.512782",
     "status": "completed"
    },
    "tags": []
   },
   "outputs": [
    {
     "data": {
      "text/plain": [
       "4"
      ]
     },
     "execution_count": 62,
     "metadata": {},
     "output_type": "execute_result"
    }
   ],
   "source": [
    "sub_universes = universe_analysis.generate_sub_universes()\n",
    "len(sub_universes)"
   ]
  },
  {
   "cell_type": "code",
   "execution_count": 63,
   "id": "d9cfdaca",
   "metadata": {
    "execution": {
     "iopub.execute_input": "2025-08-19T18:27:10.599995Z",
     "iopub.status.busy": "2025-08-19T18:27:10.598654Z",
     "iopub.status.idle": "2025-08-19T18:27:10.609342Z",
     "shell.execute_reply": "2025-08-19T18:27:10.608163Z"
    },
    "papermill": {
     "duration": 0.029596,
     "end_time": "2025-08-19T18:27:10.611741",
     "exception": false,
     "start_time": "2025-08-19T18:27:10.582145",
     "status": "completed"
    },
    "tags": []
   },
   "outputs": [],
   "source": [
    "def filter_sub_universe_data(sub_universe, org_test):\n",
    "    # Keep all rows — no filtering\n",
    "    keep_rows_mask = np.ones(org_test.shape[0], dtype=bool)\n",
    "\n",
    "    print(f\"[INFO] Keeping all rows: {keep_rows_mask.sum()} rows retained.\")\n",
    "    return keep_rows_mask"
   ]
  },
  {
   "cell_type": "code",
   "execution_count": 64,
   "id": "2bc31ac1",
   "metadata": {
    "execution": {
     "iopub.execute_input": "2025-08-19T18:27:10.647850Z",
     "iopub.status.busy": "2025-08-19T18:27:10.646251Z",
     "iopub.status.idle": "2025-08-19T18:27:17.532039Z",
     "shell.execute_reply": "2025-08-19T18:27:17.531068Z"
    },
    "papermill": {
     "duration": 6.902818,
     "end_time": "2025-08-19T18:27:17.533266",
     "exception": false,
     "start_time": "2025-08-19T18:27:10.630448",
     "status": "completed"
    },
    "tags": []
   },
   "outputs": [
    {
     "name": "stdout",
     "output_type": "stream",
     "text": [
      "Stopping execution_time clock.\n",
      "[INFO] Keeping all rows: 89710 rows retained.\n"
     ]
    },
    {
     "name": "stdout",
     "output_type": "stream",
     "text": [
      "[INFO] Keeping all rows: 89710 rows retained.\n"
     ]
    },
    {
     "name": "stdout",
     "output_type": "stream",
     "text": [
      "[INFO] Keeping all rows: 89710 rows retained.\n"
     ]
    },
    {
     "name": "stdout",
     "output_type": "stream",
     "text": [
      "[INFO] Keeping all rows: 89710 rows retained.\n"
     ]
    },
    {
     "data": {
      "text/html": [
       "<div>\n",
       "<style scoped>\n",
       "    .dataframe tbody tr th:only-of-type {\n",
       "        vertical-align: middle;\n",
       "    }\n",
       "\n",
       "    .dataframe tbody tr th {\n",
       "        vertical-align: top;\n",
       "    }\n",
       "\n",
       "    .dataframe thead th {\n",
       "        text-align: right;\n",
       "    }\n",
       "</style>\n",
       "<table border=\"1\" class=\"dataframe\">\n",
       "  <thead>\n",
       "    <tr style=\"text-align: right;\">\n",
       "      <th></th>\n",
       "      <th>run_no</th>\n",
       "      <th>universe_id</th>\n",
       "      <th>universe_settings</th>\n",
       "      <th>execution_time</th>\n",
       "      <th>test_size_n</th>\n",
       "      <th>test_size_frac</th>\n",
       "      <th>fair_main_equalized_odds_difference</th>\n",
       "      <th>fair_main_equalized_odds_ratio</th>\n",
       "      <th>fair_main_demographic_parity_difference</th>\n",
       "      <th>fair_main_demographic_parity_ratio</th>\n",
       "      <th>...</th>\n",
       "      <th>perf_grp_precision_0</th>\n",
       "      <th>perf_grp_precision_1</th>\n",
       "      <th>perf_grp_false positive rate_0</th>\n",
       "      <th>perf_grp_false positive rate_1</th>\n",
       "      <th>perf_grp_false negative rate_0</th>\n",
       "      <th>perf_grp_false negative rate_1</th>\n",
       "      <th>perf_grp_selection rate_0</th>\n",
       "      <th>perf_grp_selection rate_1</th>\n",
       "      <th>perf_grp_count_0</th>\n",
       "      <th>perf_grp_count_1</th>\n",
       "    </tr>\n",
       "  </thead>\n",
       "  <tbody>\n",
       "    <tr>\n",
       "      <th>0</th>\n",
       "      <td>3</td>\n",
       "      <td>68631903985693e17db38f7d216d7b37</td>\n",
       "      <td>{\"cutoff\": \"quantile_0.1\", \"eval_fairness_grou...</td>\n",
       "      <td>21.112189</td>\n",
       "      <td>89710</td>\n",
       "      <td>1.0</td>\n",
       "      <td>0.095816</td>\n",
       "      <td>0.900743</td>\n",
       "      <td>0.087389</td>\n",
       "      <td>0.909664</td>\n",
       "      <td>...</td>\n",
       "      <td>NaN</td>\n",
       "      <td>NaN</td>\n",
       "      <td>NaN</td>\n",
       "      <td>NaN</td>\n",
       "      <td>NaN</td>\n",
       "      <td>NaN</td>\n",
       "      <td>NaN</td>\n",
       "      <td>NaN</td>\n",
       "      <td>NaN</td>\n",
       "      <td>NaN</td>\n",
       "    </tr>\n",
       "    <tr>\n",
       "      <th>0</th>\n",
       "      <td>3</td>\n",
       "      <td>68631903985693e17db38f7d216d7b37</td>\n",
       "      <td>{\"cutoff\": \"quantile_0.1\", \"eval_fairness_grou...</td>\n",
       "      <td>21.112189</td>\n",
       "      <td>89710</td>\n",
       "      <td>1.0</td>\n",
       "      <td>0.095816</td>\n",
       "      <td>0.900743</td>\n",
       "      <td>0.087389</td>\n",
       "      <td>0.909664</td>\n",
       "      <td>...</td>\n",
       "      <td>0.117162</td>\n",
       "      <td>0.142470</td>\n",
       "      <td>0.965331</td>\n",
       "      <td>0.869515</td>\n",
       "      <td>0.016892</td>\n",
       "      <td>0.051204</td>\n",
       "      <td>0.967381</td>\n",
       "      <td>0.879991</td>\n",
       "      <td>20540.0</td>\n",
       "      <td>69170.0</td>\n",
       "    </tr>\n",
       "    <tr>\n",
       "      <th>0</th>\n",
       "      <td>3</td>\n",
       "      <td>68631903985693e17db38f7d216d7b37</td>\n",
       "      <td>{\"cutoff\": \"quantile_0.25\", \"eval_fairness_gro...</td>\n",
       "      <td>21.112189</td>\n",
       "      <td>89710</td>\n",
       "      <td>1.0</td>\n",
       "      <td>0.219379</td>\n",
       "      <td>0.756084</td>\n",
       "      <td>0.201495</td>\n",
       "      <td>0.777441</td>\n",
       "      <td>...</td>\n",
       "      <td>NaN</td>\n",
       "      <td>NaN</td>\n",
       "      <td>NaN</td>\n",
       "      <td>NaN</td>\n",
       "      <td>NaN</td>\n",
       "      <td>NaN</td>\n",
       "      <td>NaN</td>\n",
       "      <td>NaN</td>\n",
       "      <td>NaN</td>\n",
       "      <td>NaN</td>\n",
       "    </tr>\n",
       "    <tr>\n",
       "      <th>0</th>\n",
       "      <td>3</td>\n",
       "      <td>68631903985693e17db38f7d216d7b37</td>\n",
       "      <td>{\"cutoff\": \"quantile_0.25\", \"eval_fairness_gro...</td>\n",
       "      <td>21.112189</td>\n",
       "      <td>89710</td>\n",
       "      <td>1.0</td>\n",
       "      <td>0.219379</td>\n",
       "      <td>0.756084</td>\n",
       "      <td>0.201495</td>\n",
       "      <td>0.777441</td>\n",
       "      <td>...</td>\n",
       "      <td>0.121101</td>\n",
       "      <td>0.161525</td>\n",
       "      <td>0.899406</td>\n",
       "      <td>0.680027</td>\n",
       "      <td>0.048986</td>\n",
       "      <td>0.139606</td>\n",
       "      <td>0.905355</td>\n",
       "      <td>0.703860</td>\n",
       "      <td>20540.0</td>\n",
       "      <td>69170.0</td>\n",
       "    </tr>\n",
       "  </tbody>\n",
       "</table>\n",
       "<p>4 rows × 50 columns</p>\n",
       "</div>"
      ],
      "text/plain": [
       "  run_no                       universe_id  \\\n",
       "0      3  68631903985693e17db38f7d216d7b37   \n",
       "0      3  68631903985693e17db38f7d216d7b37   \n",
       "0      3  68631903985693e17db38f7d216d7b37   \n",
       "0      3  68631903985693e17db38f7d216d7b37   \n",
       "\n",
       "                                   universe_settings  execution_time  \\\n",
       "0  {\"cutoff\": \"quantile_0.1\", \"eval_fairness_grou...       21.112189   \n",
       "0  {\"cutoff\": \"quantile_0.1\", \"eval_fairness_grou...       21.112189   \n",
       "0  {\"cutoff\": \"quantile_0.25\", \"eval_fairness_gro...       21.112189   \n",
       "0  {\"cutoff\": \"quantile_0.25\", \"eval_fairness_gro...       21.112189   \n",
       "\n",
       "   test_size_n  test_size_frac  fair_main_equalized_odds_difference  \\\n",
       "0        89710             1.0                             0.095816   \n",
       "0        89710             1.0                             0.095816   \n",
       "0        89710             1.0                             0.219379   \n",
       "0        89710             1.0                             0.219379   \n",
       "\n",
       "   fair_main_equalized_odds_ratio  fair_main_demographic_parity_difference  \\\n",
       "0                        0.900743                                 0.087389   \n",
       "0                        0.900743                                 0.087389   \n",
       "0                        0.756084                                 0.201495   \n",
       "0                        0.756084                                 0.201495   \n",
       "\n",
       "   fair_main_demographic_parity_ratio  ...  perf_grp_precision_0  \\\n",
       "0                            0.909664  ...                   NaN   \n",
       "0                            0.909664  ...              0.117162   \n",
       "0                            0.777441  ...                   NaN   \n",
       "0                            0.777441  ...              0.121101   \n",
       "\n",
       "   perf_grp_precision_1  perf_grp_false positive rate_0  \\\n",
       "0                   NaN                             NaN   \n",
       "0              0.142470                        0.965331   \n",
       "0                   NaN                             NaN   \n",
       "0              0.161525                        0.899406   \n",
       "\n",
       "   perf_grp_false positive rate_1  perf_grp_false negative rate_0  \\\n",
       "0                             NaN                             NaN   \n",
       "0                        0.869515                        0.016892   \n",
       "0                             NaN                             NaN   \n",
       "0                        0.680027                        0.048986   \n",
       "\n",
       "   perf_grp_false negative rate_1  perf_grp_selection rate_0  \\\n",
       "0                             NaN                        NaN   \n",
       "0                        0.051204                   0.967381   \n",
       "0                             NaN                        NaN   \n",
       "0                        0.139606                   0.905355   \n",
       "\n",
       "   perf_grp_selection rate_1  perf_grp_count_0  perf_grp_count_1  \n",
       "0                        NaN               NaN               NaN  \n",
       "0                   0.879991           20540.0           69170.0  \n",
       "0                        NaN               NaN               NaN  \n",
       "0                   0.703860           20540.0           69170.0  \n",
       "\n",
       "[4 rows x 50 columns]"
      ]
     },
     "execution_count": 64,
     "metadata": {},
     "output_type": "execute_result"
    }
   ],
   "source": [
    "final_output = universe_analysis.generate_final_output(\n",
    "    y_pred_prob=probs_test,\n",
    "    y_test=y_true,\n",
    "    org_test=org_test,\n",
    "    filter_data=filter_sub_universe_data,\n",
    "    cp_metrics_df=cp_metrics_df,\n",
    "    save=True,\n",
    ")\n",
    "final_output"
   ]
  },
  {
   "cell_type": "code",
   "execution_count": null,
   "id": "8b80a1ff",
   "metadata": {
    "papermill": {
     "duration": 0.014291,
     "end_time": "2025-08-19T18:27:17.565051",
     "exception": false,
     "start_time": "2025-08-19T18:27:17.550760",
     "status": "completed"
    },
    "tags": []
   },
   "outputs": [],
   "source": []
  },
  {
   "cell_type": "code",
   "execution_count": null,
   "id": "275c9fad",
   "metadata": {
    "papermill": {
     "duration": 0.014072,
     "end_time": "2025-08-19T18:27:17.593201",
     "exception": false,
     "start_time": "2025-08-19T18:27:17.579129",
     "status": "completed"
    },
    "tags": []
   },
   "outputs": [],
   "source": []
  }
 ],
 "metadata": {
  "celltoolbar": "Tags",
  "kernelspec": {
   "display_name": "Python (CMA Fairness)",
   "language": "python",
   "name": "cma_fair_env"
  },
  "language_info": {
   "codemirror_mode": {
    "name": "ipython",
    "version": 3
   },
   "file_extension": ".py",
   "mimetype": "text/x-python",
   "name": "python",
   "nbconvert_exporter": "python",
   "pygments_lexer": "ipython3",
   "version": "3.10.12"
  },
  "papermill": {
   "default_parameters": {},
   "duration": 31.660519,
   "end_time": "2025-08-19T18:27:18.430567",
   "environment_variables": {},
   "exception": null,
   "input_path": "universe_analysis.ipynb",
   "output_path": "output/runs/3/notebooks/m_3-68631903985693e17db38f7d216d7b37.ipynb",
   "parameters": {
    "output_dir": "output",
    "run_no": "3",
    "seed": "2023",
    "universe": "{\"cutoff\": [\"quantile_0.1\", \"quantile_0.25\"], \"eval_fairness_grouping\": [\"majority-minority\", \"nationality-all\"], \"exclude_features\": \"none\", \"exclude_subgroups\": \"drop-non-german\", \"model\": \"logreg\", \"scale\": \"do-not-scale\", \"training_size\": \"5k\", \"training_year\": \"2014\"}",
    "universe_id": "68631903985693e17db38f7d216d7b37"
   },
   "start_time": "2025-08-19T18:26:46.770048",
   "version": "2.6.0"
  }
 },
 "nbformat": 4,
 "nbformat_minor": 5
}