{
 "cells": [
  {
   "cell_type": "markdown",
   "id": "ef23dbb3",
   "metadata": {
    "papermill": {
     "duration": 0.009381,
     "end_time": "2025-08-19T18:24:19.524671",
     "exception": false,
     "start_time": "2025-08-19T18:24:19.515290",
     "status": "completed"
    },
    "tags": []
   },
   "source": [
    "# Setup"
   ]
  },
  {
   "cell_type": "code",
   "execution_count": 1,
   "id": "0bc8e7dc",
   "metadata": {
    "execution": {
     "iopub.execute_input": "2025-08-19T18:24:19.543231Z",
     "iopub.status.busy": "2025-08-19T18:24:19.542740Z",
     "iopub.status.idle": "2025-08-19T18:24:19.552676Z",
     "shell.execute_reply": "2025-08-19T18:24:19.551923Z"
    },
    "papermill": {
     "duration": 0.020664,
     "end_time": "2025-08-19T18:24:19.553931",
     "exception": false,
     "start_time": "2025-08-19T18:24:19.533267",
     "status": "completed"
    },
    "tags": []
   },
   "outputs": [
    {
     "name": "stdout",
     "output_type": "stream",
     "text": [
      "/dss/dsshome1/0C/ra93lal2/cma/CMA_Fairness_v2\n"
     ]
    },
    {
     "name": "stderr",
     "output_type": "stream",
     "text": [
      "/dss/dsshome1/0C/ra93lal2/.local/share/virtualenvs/CMA_Fairness_v2-3j10GkSs/lib/python3.10/site-packages/IPython/core/magics/osm.py:393: UserWarning: This is now an optional IPython functionality, using bookmarks requires you to install the `pickleshare` library.\n",
      "  bkms = self.shell.db.get('bookmarks', {})\n",
      "/dss/dsshome1/0C/ra93lal2/.local/share/virtualenvs/CMA_Fairness_v2-3j10GkSs/lib/python3.10/site-packages/IPython/core/magics/osm.py:417: UserWarning: This is now an optional IPython functionality, setting dhist requires you to install the `pickleshare` library.\n",
      "  self.shell.db['dhist'] = compress_dhist(dhist)[-100:]\n"
     ]
    }
   ],
   "source": [
    "%cd ~/cma/CMA_Fairness_v2"
   ]
  },
  {
   "cell_type": "markdown",
   "id": "9d235661",
   "metadata": {
    "papermill": {
     "duration": 0.009117,
     "end_time": "2025-08-19T18:24:19.573444",
     "exception": false,
     "start_time": "2025-08-19T18:24:19.564327",
     "status": "completed"
    },
    "tags": []
   },
   "source": [
    "The following cell holds the definition of our parameters, these values can be overriden by rendering the with e.g. the following command:\n",
    "\n",
    "papermill -p alpha 0.2 -p ratio 0.3 universe_analysis.ipynb output/test_run.ipynb"
   ]
  },
  {
   "cell_type": "code",
   "execution_count": 2,
   "id": "4a789d8e",
   "metadata": {
    "execution": {
     "iopub.execute_input": "2025-08-19T18:24:19.592693Z",
     "iopub.status.busy": "2025-08-19T18:24:19.592262Z",
     "iopub.status.idle": "2025-08-19T18:24:19.596401Z",
     "shell.execute_reply": "2025-08-19T18:24:19.595752Z"
    },
    "papermill": {
     "duration": 0.01548,
     "end_time": "2025-08-19T18:24:19.597806",
     "exception": false,
     "start_time": "2025-08-19T18:24:19.582326",
     "status": "completed"
    },
    "tags": []
   },
   "outputs": [
    {
     "name": "stdout",
     "output_type": "stream",
     "text": [
      "Current working directory: /dss/dsshome1/0C/ra93lal2/cma/CMA_Fairness_v2\n"
     ]
    }
   ],
   "source": [
    "import os\n",
    "print(\"Current working directory:\", os.getcwd())"
   ]
  },
  {
   "cell_type": "code",
   "execution_count": 3,
   "id": "4132aaed",
   "metadata": {
    "execution": {
     "iopub.execute_input": "2025-08-19T18:24:19.617083Z",
     "iopub.status.busy": "2025-08-19T18:24:19.616719Z",
     "iopub.status.idle": "2025-08-19T18:24:19.621174Z",
     "shell.execute_reply": "2025-08-19T18:24:19.620516Z"
    },
    "papermill": {
     "duration": 0.015568,
     "end_time": "2025-08-19T18:24:19.622397",
     "exception": false,
     "start_time": "2025-08-19T18:24:19.606829",
     "status": "completed"
    },
    "tags": [
     "parameters"
    ]
   },
   "outputs": [],
   "source": [
    "run_no = 0\n",
    "universe_id = \"test\"\n",
    "universe = {\n",
    "    \"training_size\": \"5k\", # \"25k\", \"5k\", \"1k\"\n",
    "    \"training_year\": \"2012_14\", # \"2014\", \"2012_14\", \"2010_14\"\n",
    "    \"scale\": \"scale\", # \"scale\", \"do-not-scale\",\n",
    "    \"model\": \"elasticnet\", # \"logreg\", \"penalized_logreg\", \"rf\", \"gbm\", \"elasticnet\"\n",
    "    \"cutoff\": [\"quantile_0.15\", \"quantile_0.30\"],\n",
    "    \"exclude_features\": \"age\", # \"none\", \"nationality\", \"sex\", \"nationality-sex\", \"age\"\n",
    "    \"exclude_subgroups\": \"drop-non-german\", # \"keep-all\", \"drop-non-german\"\n",
    "    \"eval_fairness_grouping\": [\"majority-minority\", \"nationality-all\"]\n",
    "}\n",
    "\n",
    "output_dir=\"./output\"\n",
    "seed=0"
   ]
  },
  {
   "cell_type": "code",
   "execution_count": 4,
   "id": "09b95fd5",
   "metadata": {
    "execution": {
     "iopub.execute_input": "2025-08-19T18:24:19.641905Z",
     "iopub.status.busy": "2025-08-19T18:24:19.641527Z",
     "iopub.status.idle": "2025-08-19T18:24:19.645444Z",
     "shell.execute_reply": "2025-08-19T18:24:19.644799Z"
    },
    "papermill": {
     "duration": 0.015045,
     "end_time": "2025-08-19T18:24:19.646557",
     "exception": false,
     "start_time": "2025-08-19T18:24:19.631512",
     "status": "completed"
    },
    "tags": [
     "injected-parameters"
    ]
   },
   "outputs": [],
   "source": [
    "# Parameters\n",
    "universe_id = \"6b3586fa7b6001a77f25f6f6ad03949d\"\n",
    "run_no = \"3\"\n",
    "universe = \"{\\\"cutoff\\\": [\\\"quantile_0.1\\\", \\\"quantile_0.25\\\"], \\\"eval_fairness_grouping\\\": [\\\"majority-minority\\\", \\\"nationality-all\\\"], \\\"exclude_features\\\": \\\"nationality\\\", \\\"exclude_subgroups\\\": \\\"drop-non-german\\\", \\\"model\\\": \\\"rf\\\", \\\"scale\\\": \\\"scale\\\", \\\"training_size\\\": \\\"5k\\\", \\\"training_year\\\": \\\"2014\\\"}\"\n",
    "output_dir = \"output\"\n",
    "seed = \"2023\"\n"
   ]
  },
  {
   "cell_type": "code",
   "execution_count": 5,
   "id": "a5d7941f",
   "metadata": {
    "execution": {
     "iopub.execute_input": "2025-08-19T18:24:19.666116Z",
     "iopub.status.busy": "2025-08-19T18:24:19.665728Z",
     "iopub.status.idle": "2025-08-19T18:24:19.669439Z",
     "shell.execute_reply": "2025-08-19T18:24:19.668783Z"
    },
    "papermill": {
     "duration": 0.015025,
     "end_time": "2025-08-19T18:24:19.670796",
     "exception": false,
     "start_time": "2025-08-19T18:24:19.655771",
     "status": "completed"
    },
    "tags": []
   },
   "outputs": [],
   "source": [
    "import json\n",
    "if isinstance(universe, str):\n",
    "    universe = json.loads(universe)"
   ]
  },
  {
   "cell_type": "code",
   "execution_count": 6,
   "id": "7076ccb1",
   "metadata": {
    "execution": {
     "iopub.execute_input": "2025-08-19T18:24:19.690868Z",
     "iopub.status.busy": "2025-08-19T18:24:19.690479Z",
     "iopub.status.idle": "2025-08-19T18:24:19.730161Z",
     "shell.execute_reply": "2025-08-19T18:24:19.729434Z"
    },
    "papermill": {
     "duration": 0.051935,
     "end_time": "2025-08-19T18:24:19.731904",
     "exception": false,
     "start_time": "2025-08-19T18:24:19.679969",
     "status": "completed"
    },
    "tags": []
   },
   "outputs": [],
   "source": [
    "# Auto-reload the custom package\n",
    "%load_ext autoreload\n",
    "%autoreload 1\n",
    "%aimport fairness_multiverse"
   ]
  },
  {
   "cell_type": "code",
   "execution_count": 7,
   "id": "94c8eb93",
   "metadata": {
    "execution": {
     "iopub.execute_input": "2025-08-19T18:24:19.753127Z",
     "iopub.status.busy": "2025-08-19T18:24:19.752677Z",
     "iopub.status.idle": "2025-08-19T18:24:21.288837Z",
     "shell.execute_reply": "2025-08-19T18:24:21.287632Z"
    },
    "papermill": {
     "duration": 1.548471,
     "end_time": "2025-08-19T18:24:21.290526",
     "exception": false,
     "start_time": "2025-08-19T18:24:19.742055",
     "status": "completed"
    },
    "tags": []
   },
   "outputs": [],
   "source": [
    "from fairness_multiverse.universe import UniverseAnalysis\n",
    "\n",
    "universe_analysis = UniverseAnalysis(\n",
    "    run_no = run_no,\n",
    "    universe_id = universe_id,\n",
    "    universe = universe,\n",
    "    output_dir=output_dir,\n",
    ")"
   ]
  },
  {
   "cell_type": "code",
   "execution_count": 8,
   "id": "2a6381cf",
   "metadata": {
    "execution": {
     "iopub.execute_input": "2025-08-19T18:24:21.315012Z",
     "iopub.status.busy": "2025-08-19T18:24:21.314648Z",
     "iopub.status.idle": "2025-08-19T18:24:21.321148Z",
     "shell.execute_reply": "2025-08-19T18:24:21.320451Z"
    },
    "papermill": {
     "duration": 0.02145,
     "end_time": "2025-08-19T18:24:21.322651",
     "exception": false,
     "start_time": "2025-08-19T18:24:21.301201",
     "status": "completed"
    },
    "tags": []
   },
   "outputs": [
    {
     "name": "stdout",
     "output_type": "stream",
     "text": [
      "Using Seed: 2023\n"
     ]
    }
   ],
   "source": [
    "import numpy as np\n",
    "parsed_seed = int(seed)\n",
    "np.random.seed(parsed_seed)\n",
    "print(f\"Using Seed: {parsed_seed}\")"
   ]
  },
  {
   "cell_type": "markdown",
   "id": "b6e958b4",
   "metadata": {
    "papermill": {
     "duration": 0.008966,
     "end_time": "2025-08-19T18:24:21.341249",
     "exception": false,
     "start_time": "2025-08-19T18:24:21.332283",
     "status": "completed"
    },
    "tags": []
   },
   "source": [
    "# Loading Data"
   ]
  },
  {
   "cell_type": "code",
   "execution_count": 9,
   "id": "98701482",
   "metadata": {
    "execution": {
     "iopub.execute_input": "2025-08-19T18:24:21.360209Z",
     "iopub.status.busy": "2025-08-19T18:24:21.359928Z",
     "iopub.status.idle": "2025-08-19T18:24:31.102301Z",
     "shell.execute_reply": "2025-08-19T18:24:31.101263Z"
    },
    "papermill": {
     "duration": 9.753616,
     "end_time": "2025-08-19T18:24:31.103705",
     "exception": false,
     "start_time": "2025-08-19T18:24:21.350089",
     "status": "completed"
    },
    "tags": []
   },
   "outputs": [
    {
     "name": "stdout",
     "output_type": "stream",
     "text": [
      "Loading SIAB data from cache: data/siab_cached.csv.gz\n"
     ]
    },
    {
     "name": "stdout",
     "output_type": "stream",
     "text": [
      "(643690, 164)\n"
     ]
    }
   ],
   "source": [
    "from pathlib import Path\n",
    "import pandas as pd\n",
    "\n",
    "# File paths\n",
    "raw_file = Path(\"data/raw/siab.csv\")\n",
    "cache_file = Path(\"data/siab_cached.csv.gz\")\n",
    "\n",
    "# Ensure cache directory exists\n",
    "cache_file.parent.mkdir(parents=True, exist_ok=True)\n",
    "\n",
    "# Load with simple caching\n",
    "if cache_file.exists():\n",
    "    print(f\"Loading SIAB data from cache: {cache_file}\")\n",
    "    siab = pd.read_csv(cache_file, compression='gzip')\n",
    "else:\n",
    "    print(f\"Cache not found. Reading raw SIAB data: {raw_file}\")\n",
    "    siab = pd.read_csv(raw_file)\n",
    "    siab.to_csv(cache_file, index=False, compression='gzip')\n",
    "    print(f\"Cached SIAB data to: {cache_file}\")\n",
    "\n",
    "print(siab.shape)"
   ]
  },
  {
   "cell_type": "code",
   "execution_count": 10,
   "id": "058d2abb",
   "metadata": {
    "execution": {
     "iopub.execute_input": "2025-08-19T18:24:31.137262Z",
     "iopub.status.busy": "2025-08-19T18:24:31.136694Z",
     "iopub.status.idle": "2025-08-19T18:24:31.269228Z",
     "shell.execute_reply": "2025-08-19T18:24:31.268509Z"
    },
    "papermill": {
     "duration": 0.150929,
     "end_time": "2025-08-19T18:24:31.270661",
     "exception": false,
     "start_time": "2025-08-19T18:24:31.119732",
     "status": "completed"
    },
    "tags": []
   },
   "outputs": [
    {
     "data": {
      "text/html": [
       "<div>\n",
       "<style scoped>\n",
       "    .dataframe tbody tr th:only-of-type {\n",
       "        vertical-align: middle;\n",
       "    }\n",
       "\n",
       "    .dataframe tbody tr th {\n",
       "        vertical-align: top;\n",
       "    }\n",
       "\n",
       "    .dataframe thead th {\n",
       "        text-align: right;\n",
       "    }\n",
       "</style>\n",
       "<table border=\"1\" class=\"dataframe\">\n",
       "  <thead>\n",
       "    <tr style=\"text-align: right;\">\n",
       "      <th></th>\n",
       "      <th>persnr</th>\n",
       "      <th>year</th>\n",
       "      <th>nrEntry</th>\n",
       "      <th>ltue</th>\n",
       "      <th>employed_before</th>\n",
       "      <th>receipt_leh_before</th>\n",
       "      <th>receipt_lhg_before</th>\n",
       "      <th>se_before</th>\n",
       "      <th>ASU_notue_seeking_before</th>\n",
       "      <th>ASU_other_before</th>\n",
       "      <th>...</th>\n",
       "      <th>minijob_tot_dur_byage</th>\n",
       "      <th>ft_tot_dur_byage</th>\n",
       "      <th>befrist_tot_dur_byage</th>\n",
       "      <th>leih_tot_dur_byage</th>\n",
       "      <th>LHG_tot_dur_byage</th>\n",
       "      <th>LEH_tot_dur_byage</th>\n",
       "      <th>almp_tot_dur_byage</th>\n",
       "      <th>almp_aw_tot_dur_byage</th>\n",
       "      <th>se_tot_dur_byage</th>\n",
       "      <th>seeking1_tot_dur_byage</th>\n",
       "    </tr>\n",
       "  </thead>\n",
       "  <tbody>\n",
       "    <tr>\n",
       "      <th>0</th>\n",
       "      <td>7</td>\n",
       "      <td>2015</td>\n",
       "      <td>1</td>\n",
       "      <td>0</td>\n",
       "      <td>1</td>\n",
       "      <td>0</td>\n",
       "      <td>0</td>\n",
       "      <td>0</td>\n",
       "      <td>1</td>\n",
       "      <td>0</td>\n",
       "      <td>...</td>\n",
       "      <td>0.000000</td>\n",
       "      <td>0.000000</td>\n",
       "      <td>15.043478</td>\n",
       "      <td>0.000000</td>\n",
       "      <td>0.000000</td>\n",
       "      <td>0.000000</td>\n",
       "      <td>0.000000</td>\n",
       "      <td>0.000000</td>\n",
       "      <td>0.000000</td>\n",
       "      <td>0.000000</td>\n",
       "    </tr>\n",
       "    <tr>\n",
       "      <th>1</th>\n",
       "      <td>18</td>\n",
       "      <td>2010</td>\n",
       "      <td>1</td>\n",
       "      <td>1</td>\n",
       "      <td>0</td>\n",
       "      <td>0</td>\n",
       "      <td>0</td>\n",
       "      <td>0</td>\n",
       "      <td>0</td>\n",
       "      <td>0</td>\n",
       "      <td>...</td>\n",
       "      <td>0.000000</td>\n",
       "      <td>0.000000</td>\n",
       "      <td>0.000000</td>\n",
       "      <td>0.000000</td>\n",
       "      <td>0.000000</td>\n",
       "      <td>0.000000</td>\n",
       "      <td>0.000000</td>\n",
       "      <td>0.000000</td>\n",
       "      <td>0.000000</td>\n",
       "      <td>0.000000</td>\n",
       "    </tr>\n",
       "    <tr>\n",
       "      <th>2</th>\n",
       "      <td>18</td>\n",
       "      <td>2011</td>\n",
       "      <td>2</td>\n",
       "      <td>0</td>\n",
       "      <td>1</td>\n",
       "      <td>0</td>\n",
       "      <td>1</td>\n",
       "      <td>0</td>\n",
       "      <td>1</td>\n",
       "      <td>0</td>\n",
       "      <td>...</td>\n",
       "      <td>2.714286</td>\n",
       "      <td>2.714286</td>\n",
       "      <td>0.000000</td>\n",
       "      <td>0.000000</td>\n",
       "      <td>10.775510</td>\n",
       "      <td>0.000000</td>\n",
       "      <td>8.367347</td>\n",
       "      <td>0.000000</td>\n",
       "      <td>0.000000</td>\n",
       "      <td>9.836735</td>\n",
       "    </tr>\n",
       "    <tr>\n",
       "      <th>3</th>\n",
       "      <td>18</td>\n",
       "      <td>2012</td>\n",
       "      <td>3</td>\n",
       "      <td>0</td>\n",
       "      <td>1</td>\n",
       "      <td>0</td>\n",
       "      <td>1</td>\n",
       "      <td>0</td>\n",
       "      <td>1</td>\n",
       "      <td>0</td>\n",
       "      <td>...</td>\n",
       "      <td>4.200000</td>\n",
       "      <td>4.200000</td>\n",
       "      <td>0.000000</td>\n",
       "      <td>0.000000</td>\n",
       "      <td>12.100000</td>\n",
       "      <td>0.000000</td>\n",
       "      <td>9.400000</td>\n",
       "      <td>0.000000</td>\n",
       "      <td>0.000000</td>\n",
       "      <td>9.960000</td>\n",
       "    </tr>\n",
       "    <tr>\n",
       "      <th>4</th>\n",
       "      <td>18</td>\n",
       "      <td>2012</td>\n",
       "      <td>4</td>\n",
       "      <td>0</td>\n",
       "      <td>1</td>\n",
       "      <td>0</td>\n",
       "      <td>1</td>\n",
       "      <td>0</td>\n",
       "      <td>1</td>\n",
       "      <td>0</td>\n",
       "      <td>...</td>\n",
       "      <td>5.460000</td>\n",
       "      <td>5.460000</td>\n",
       "      <td>0.000000</td>\n",
       "      <td>0.000000</td>\n",
       "      <td>13.360000</td>\n",
       "      <td>0.000000</td>\n",
       "      <td>10.320000</td>\n",
       "      <td>0.000000</td>\n",
       "      <td>0.000000</td>\n",
       "      <td>10.280000</td>\n",
       "    </tr>\n",
       "    <tr>\n",
       "      <th>...</th>\n",
       "      <td>...</td>\n",
       "      <td>...</td>\n",
       "      <td>...</td>\n",
       "      <td>...</td>\n",
       "      <td>...</td>\n",
       "      <td>...</td>\n",
       "      <td>...</td>\n",
       "      <td>...</td>\n",
       "      <td>...</td>\n",
       "      <td>...</td>\n",
       "      <td>...</td>\n",
       "      <td>...</td>\n",
       "      <td>...</td>\n",
       "      <td>...</td>\n",
       "      <td>...</td>\n",
       "      <td>...</td>\n",
       "      <td>...</td>\n",
       "      <td>...</td>\n",
       "      <td>...</td>\n",
       "      <td>...</td>\n",
       "      <td>...</td>\n",
       "    </tr>\n",
       "    <tr>\n",
       "      <th>643685</th>\n",
       "      <td>1827860</td>\n",
       "      <td>2013</td>\n",
       "      <td>1</td>\n",
       "      <td>0</td>\n",
       "      <td>0</td>\n",
       "      <td>0</td>\n",
       "      <td>1</td>\n",
       "      <td>0</td>\n",
       "      <td>0</td>\n",
       "      <td>1</td>\n",
       "      <td>...</td>\n",
       "      <td>0.000000</td>\n",
       "      <td>0.000000</td>\n",
       "      <td>0.000000</td>\n",
       "      <td>0.000000</td>\n",
       "      <td>0.612903</td>\n",
       "      <td>0.000000</td>\n",
       "      <td>0.000000</td>\n",
       "      <td>0.000000</td>\n",
       "      <td>0.000000</td>\n",
       "      <td>0.000000</td>\n",
       "    </tr>\n",
       "    <tr>\n",
       "      <th>643686</th>\n",
       "      <td>1827860</td>\n",
       "      <td>2015</td>\n",
       "      <td>2</td>\n",
       "      <td>1</td>\n",
       "      <td>0</td>\n",
       "      <td>0</td>\n",
       "      <td>1</td>\n",
       "      <td>0</td>\n",
       "      <td>1</td>\n",
       "      <td>0</td>\n",
       "      <td>...</td>\n",
       "      <td>0.000000</td>\n",
       "      <td>0.000000</td>\n",
       "      <td>0.212121</td>\n",
       "      <td>0.212121</td>\n",
       "      <td>17.363636</td>\n",
       "      <td>0.000000</td>\n",
       "      <td>8.909091</td>\n",
       "      <td>0.000000</td>\n",
       "      <td>0.000000</td>\n",
       "      <td>7.121212</td>\n",
       "    </tr>\n",
       "    <tr>\n",
       "      <th>643687</th>\n",
       "      <td>1827860</td>\n",
       "      <td>2016</td>\n",
       "      <td>3</td>\n",
       "      <td>1</td>\n",
       "      <td>0</td>\n",
       "      <td>0</td>\n",
       "      <td>1</td>\n",
       "      <td>1</td>\n",
       "      <td>0</td>\n",
       "      <td>1</td>\n",
       "      <td>...</td>\n",
       "      <td>0.000000</td>\n",
       "      <td>0.000000</td>\n",
       "      <td>0.294118</td>\n",
       "      <td>0.205882</td>\n",
       "      <td>34.705882</td>\n",
       "      <td>0.000000</td>\n",
       "      <td>10.352941</td>\n",
       "      <td>1.705882</td>\n",
       "      <td>1.705882</td>\n",
       "      <td>23.911765</td>\n",
       "    </tr>\n",
       "    <tr>\n",
       "      <th>643688</th>\n",
       "      <td>1827869</td>\n",
       "      <td>2013</td>\n",
       "      <td>1</td>\n",
       "      <td>1</td>\n",
       "      <td>1</td>\n",
       "      <td>0</td>\n",
       "      <td>0</td>\n",
       "      <td>0</td>\n",
       "      <td>1</td>\n",
       "      <td>0</td>\n",
       "      <td>...</td>\n",
       "      <td>0.000000</td>\n",
       "      <td>0.000000</td>\n",
       "      <td>0.000000</td>\n",
       "      <td>0.000000</td>\n",
       "      <td>0.000000</td>\n",
       "      <td>0.525424</td>\n",
       "      <td>0.000000</td>\n",
       "      <td>0.000000</td>\n",
       "      <td>0.000000</td>\n",
       "      <td>0.000000</td>\n",
       "    </tr>\n",
       "    <tr>\n",
       "      <th>643689</th>\n",
       "      <td>1827869</td>\n",
       "      <td>2014</td>\n",
       "      <td>2</td>\n",
       "      <td>0</td>\n",
       "      <td>0</td>\n",
       "      <td>1</td>\n",
       "      <td>0</td>\n",
       "      <td>0</td>\n",
       "      <td>1</td>\n",
       "      <td>0</td>\n",
       "      <td>...</td>\n",
       "      <td>0.000000</td>\n",
       "      <td>0.666667</td>\n",
       "      <td>0.666667</td>\n",
       "      <td>0.000000</td>\n",
       "      <td>0.000000</td>\n",
       "      <td>8.950000</td>\n",
       "      <td>1.033333</td>\n",
       "      <td>0.083333</td>\n",
       "      <td>0.083333</td>\n",
       "      <td>8.133333</td>\n",
       "    </tr>\n",
       "  </tbody>\n",
       "</table>\n",
       "<p>643690 rows × 164 columns</p>\n",
       "</div>"
      ],
      "text/plain": [
       "         persnr  year  nrEntry  ltue  employed_before  receipt_leh_before  \\\n",
       "0             7  2015        1     0                1                   0   \n",
       "1            18  2010        1     1                0                   0   \n",
       "2            18  2011        2     0                1                   0   \n",
       "3            18  2012        3     0                1                   0   \n",
       "4            18  2012        4     0                1                   0   \n",
       "...         ...   ...      ...   ...              ...                 ...   \n",
       "643685  1827860  2013        1     0                0                   0   \n",
       "643686  1827860  2015        2     1                0                   0   \n",
       "643687  1827860  2016        3     1                0                   0   \n",
       "643688  1827869  2013        1     1                1                   0   \n",
       "643689  1827869  2014        2     0                0                   1   \n",
       "\n",
       "        receipt_lhg_before  se_before  ASU_notue_seeking_before  \\\n",
       "0                        0          0                         1   \n",
       "1                        0          0                         0   \n",
       "2                        1          0                         1   \n",
       "3                        1          0                         1   \n",
       "4                        1          0                         1   \n",
       "...                    ...        ...                       ...   \n",
       "643685                   1          0                         0   \n",
       "643686                   1          0                         1   \n",
       "643687                   1          1                         0   \n",
       "643688                   0          0                         1   \n",
       "643689                   0          0                         1   \n",
       "\n",
       "        ASU_other_before  ...  minijob_tot_dur_byage  ft_tot_dur_byage  \\\n",
       "0                      0  ...               0.000000          0.000000   \n",
       "1                      0  ...               0.000000          0.000000   \n",
       "2                      0  ...               2.714286          2.714286   \n",
       "3                      0  ...               4.200000          4.200000   \n",
       "4                      0  ...               5.460000          5.460000   \n",
       "...                  ...  ...                    ...               ...   \n",
       "643685                 1  ...               0.000000          0.000000   \n",
       "643686                 0  ...               0.000000          0.000000   \n",
       "643687                 1  ...               0.000000          0.000000   \n",
       "643688                 0  ...               0.000000          0.000000   \n",
       "643689                 0  ...               0.000000          0.666667   \n",
       "\n",
       "        befrist_tot_dur_byage  leih_tot_dur_byage  LHG_tot_dur_byage  \\\n",
       "0                   15.043478            0.000000           0.000000   \n",
       "1                    0.000000            0.000000           0.000000   \n",
       "2                    0.000000            0.000000          10.775510   \n",
       "3                    0.000000            0.000000          12.100000   \n",
       "4                    0.000000            0.000000          13.360000   \n",
       "...                       ...                 ...                ...   \n",
       "643685               0.000000            0.000000           0.612903   \n",
       "643686               0.212121            0.212121          17.363636   \n",
       "643687               0.294118            0.205882          34.705882   \n",
       "643688               0.000000            0.000000           0.000000   \n",
       "643689               0.666667            0.000000           0.000000   \n",
       "\n",
       "        LEH_tot_dur_byage  almp_tot_dur_byage  almp_aw_tot_dur_byage  \\\n",
       "0                0.000000            0.000000               0.000000   \n",
       "1                0.000000            0.000000               0.000000   \n",
       "2                0.000000            8.367347               0.000000   \n",
       "3                0.000000            9.400000               0.000000   \n",
       "4                0.000000           10.320000               0.000000   \n",
       "...                   ...                 ...                    ...   \n",
       "643685           0.000000            0.000000               0.000000   \n",
       "643686           0.000000            8.909091               0.000000   \n",
       "643687           0.000000           10.352941               1.705882   \n",
       "643688           0.525424            0.000000               0.000000   \n",
       "643689           8.950000            1.033333               0.083333   \n",
       "\n",
       "        se_tot_dur_byage  seeking1_tot_dur_byage  \n",
       "0               0.000000                0.000000  \n",
       "1               0.000000                0.000000  \n",
       "2               0.000000                9.836735  \n",
       "3               0.000000                9.960000  \n",
       "4               0.000000               10.280000  \n",
       "...                  ...                     ...  \n",
       "643685          0.000000                0.000000  \n",
       "643686          0.000000                7.121212  \n",
       "643687          1.705882               23.911765  \n",
       "643688          0.000000                0.000000  \n",
       "643689          0.083333                8.133333  \n",
       "\n",
       "[643690 rows x 164 columns]"
      ]
     },
     "execution_count": 10,
     "metadata": {},
     "output_type": "execute_result"
    }
   ],
   "source": [
    "siab"
   ]
  },
  {
   "cell_type": "markdown",
   "id": "1f87e805",
   "metadata": {
    "papermill": {
     "duration": 0.009738,
     "end_time": "2025-08-19T18:24:31.292366",
     "exception": false,
     "start_time": "2025-08-19T18:24:31.282628",
     "status": "completed"
    },
    "tags": []
   },
   "source": [
    "# Splitting Data and Setting Training Data Size"
   ]
  },
  {
   "cell_type": "code",
   "execution_count": 11,
   "id": "910ae358",
   "metadata": {
    "execution": {
     "iopub.execute_input": "2025-08-19T18:24:31.313110Z",
     "iopub.status.busy": "2025-08-19T18:24:31.312717Z",
     "iopub.status.idle": "2025-08-19T18:24:31.542358Z",
     "shell.execute_reply": "2025-08-19T18:24:31.541665Z"
    },
    "papermill": {
     "duration": 0.241988,
     "end_time": "2025-08-19T18:24:31.543935",
     "exception": false,
     "start_time": "2025-08-19T18:24:31.301947",
     "status": "completed"
    },
    "tags": []
   },
   "outputs": [],
   "source": [
    "from fairness_multiverse.universe import sample_by_year_size\n",
    "\n",
    "siab_train = sample_by_year_size(siab,\n",
    "                               training_year=universe[\"training_year\"],\n",
    "                               training_size=universe[\"training_size\"])"
   ]
  },
  {
   "cell_type": "code",
   "execution_count": 12,
   "id": "919c8ff5",
   "metadata": {
    "execution": {
     "iopub.execute_input": "2025-08-19T18:24:31.565415Z",
     "iopub.status.busy": "2025-08-19T18:24:31.565048Z",
     "iopub.status.idle": "2025-08-19T18:24:31.570508Z",
     "shell.execute_reply": "2025-08-19T18:24:31.569819Z"
    },
    "papermill": {
     "duration": 0.017548,
     "end_time": "2025-08-19T18:24:31.571871",
     "exception": false,
     "start_time": "2025-08-19T18:24:31.554323",
     "status": "completed"
    },
    "tags": []
   },
   "outputs": [
    {
     "data": {
      "text/plain": [
       "(5000, 164)"
      ]
     },
     "execution_count": 12,
     "metadata": {},
     "output_type": "execute_result"
    }
   ],
   "source": [
    "siab_train.shape"
   ]
  },
  {
   "cell_type": "code",
   "execution_count": 13,
   "id": "feb13bf4",
   "metadata": {
    "execution": {
     "iopub.execute_input": "2025-08-19T18:24:31.593760Z",
     "iopub.status.busy": "2025-08-19T18:24:31.593430Z",
     "iopub.status.idle": "2025-08-19T18:24:31.602378Z",
     "shell.execute_reply": "2025-08-19T18:24:31.601745Z"
    },
    "papermill": {
     "duration": 0.021842,
     "end_time": "2025-08-19T18:24:31.603954",
     "exception": false,
     "start_time": "2025-08-19T18:24:31.582112",
     "status": "completed"
    },
    "tags": []
   },
   "outputs": [
    {
     "data": {
      "text/plain": [
       "year\n",
       "2014    5000\n",
       "dtype: int64"
      ]
     },
     "metadata": {},
     "output_type": "display_data"
    }
   ],
   "source": [
    "display(siab_train.groupby(\"year\").size())"
   ]
  },
  {
   "cell_type": "code",
   "execution_count": 14,
   "id": "0997782f",
   "metadata": {
    "execution": {
     "iopub.execute_input": "2025-08-19T18:24:31.642665Z",
     "iopub.status.busy": "2025-08-19T18:24:31.641635Z",
     "iopub.status.idle": "2025-08-19T18:24:31.921331Z",
     "shell.execute_reply": "2025-08-19T18:24:31.920156Z"
    },
    "papermill": {
     "duration": 0.304491,
     "end_time": "2025-08-19T18:24:31.923018",
     "exception": false,
     "start_time": "2025-08-19T18:24:31.618527",
     "status": "completed"
    },
    "tags": []
   },
   "outputs": [],
   "source": [
    "#siab_train = siab_s[siab_s.year < 2015]\n",
    "siab_calib = siab[siab.year == 2015]\n",
    "siab_test = siab[siab.year == 2016]"
   ]
  },
  {
   "cell_type": "code",
   "execution_count": 15,
   "id": "2c1e4012",
   "metadata": {
    "execution": {
     "iopub.execute_input": "2025-08-19T18:24:31.946104Z",
     "iopub.status.busy": "2025-08-19T18:24:31.945655Z",
     "iopub.status.idle": "2025-08-19T18:24:31.950328Z",
     "shell.execute_reply": "2025-08-19T18:24:31.949722Z"
    },
    "papermill": {
     "duration": 0.017444,
     "end_time": "2025-08-19T18:24:31.951652",
     "exception": false,
     "start_time": "2025-08-19T18:24:31.934208",
     "status": "completed"
    },
    "tags": []
   },
   "outputs": [],
   "source": [
    "#siab_calib.shape"
   ]
  },
  {
   "cell_type": "code",
   "execution_count": 16,
   "id": "f66b54ca",
   "metadata": {
    "execution": {
     "iopub.execute_input": "2025-08-19T18:24:31.973210Z",
     "iopub.status.busy": "2025-08-19T18:24:31.972838Z",
     "iopub.status.idle": "2025-08-19T18:24:31.977152Z",
     "shell.execute_reply": "2025-08-19T18:24:31.976463Z"
    },
    "papermill": {
     "duration": 0.016634,
     "end_time": "2025-08-19T18:24:31.978462",
     "exception": false,
     "start_time": "2025-08-19T18:24:31.961828",
     "status": "completed"
    },
    "tags": []
   },
   "outputs": [],
   "source": [
    "#siab_test.shape"
   ]
  },
  {
   "cell_type": "code",
   "execution_count": 17,
   "id": "27e4384d",
   "metadata": {
    "execution": {
     "iopub.execute_input": "2025-08-19T18:24:31.999934Z",
     "iopub.status.busy": "2025-08-19T18:24:31.999562Z",
     "iopub.status.idle": "2025-08-19T18:24:32.007371Z",
     "shell.execute_reply": "2025-08-19T18:24:32.006641Z"
    },
    "papermill": {
     "duration": 0.020241,
     "end_time": "2025-08-19T18:24:32.008949",
     "exception": false,
     "start_time": "2025-08-19T18:24:31.988708",
     "status": "completed"
    },
    "tags": []
   },
   "outputs": [],
   "source": [
    "X_train = siab_train.iloc[:,4:164]\n",
    "y_train = siab_train.iloc[:, [3]]"
   ]
  },
  {
   "cell_type": "code",
   "execution_count": 18,
   "id": "08ee8389",
   "metadata": {
    "execution": {
     "iopub.execute_input": "2025-08-19T18:24:32.032346Z",
     "iopub.status.busy": "2025-08-19T18:24:32.031975Z",
     "iopub.status.idle": "2025-08-19T18:24:32.083064Z",
     "shell.execute_reply": "2025-08-19T18:24:32.082220Z"
    },
    "papermill": {
     "duration": 0.063575,
     "end_time": "2025-08-19T18:24:32.084312",
     "exception": false,
     "start_time": "2025-08-19T18:24:32.020737",
     "status": "completed"
    },
    "tags": []
   },
   "outputs": [],
   "source": [
    "X_calib = siab_calib.iloc[:,4:164]\n",
    "y_calib = siab_calib.iloc[:, [3]]"
   ]
  },
  {
   "cell_type": "code",
   "execution_count": 19,
   "id": "b7ff42e0",
   "metadata": {
    "execution": {
     "iopub.execute_input": "2025-08-19T18:24:32.106820Z",
     "iopub.status.busy": "2025-08-19T18:24:32.106366Z",
     "iopub.status.idle": "2025-08-19T18:24:32.166627Z",
     "shell.execute_reply": "2025-08-19T18:24:32.165818Z"
    },
    "papermill": {
     "duration": 0.072698,
     "end_time": "2025-08-19T18:24:32.168100",
     "exception": false,
     "start_time": "2025-08-19T18:24:32.095402",
     "status": "completed"
    },
    "tags": []
   },
   "outputs": [],
   "source": [
    "X_test = siab_test.iloc[:,4:164]\n",
    "y_true = siab_test.iloc[:, [3]]"
   ]
  },
  {
   "cell_type": "code",
   "execution_count": 20,
   "id": "0275101e",
   "metadata": {
    "execution": {
     "iopub.execute_input": "2025-08-19T18:24:32.190366Z",
     "iopub.status.busy": "2025-08-19T18:24:32.189989Z",
     "iopub.status.idle": "2025-08-19T18:24:32.294723Z",
     "shell.execute_reply": "2025-08-19T18:24:32.294018Z"
    },
    "papermill": {
     "duration": 0.117261,
     "end_time": "2025-08-19T18:24:32.296142",
     "exception": false,
     "start_time": "2025-08-19T18:24:32.178881",
     "status": "completed"
    },
    "tags": []
   },
   "outputs": [],
   "source": [
    "# Auxiliary data needed downstream in the pipeline\n",
    "\n",
    "org_train = X_train.copy()\n",
    "org_test = X_test.copy()\n",
    "org_calib = X_calib.copy()"
   ]
  },
  {
   "cell_type": "markdown",
   "id": "b461e618",
   "metadata": {
    "papermill": {
     "duration": 0.010131,
     "end_time": "2025-08-19T18:24:32.317013",
     "exception": false,
     "start_time": "2025-08-19T18:24:32.306882",
     "status": "completed"
    },
    "tags": []
   },
   "source": [
    "# Preprocessing Data"
   ]
  },
  {
   "cell_type": "code",
   "execution_count": 21,
   "id": "78e74c4b",
   "metadata": {
    "execution": {
     "iopub.execute_input": "2025-08-19T18:24:32.341214Z",
     "iopub.status.busy": "2025-08-19T18:24:32.339750Z",
     "iopub.status.idle": "2025-08-19T18:24:32.350325Z",
     "shell.execute_reply": "2025-08-19T18:24:32.348690Z"
    },
    "papermill": {
     "duration": 0.024075,
     "end_time": "2025-08-19T18:24:32.351921",
     "exception": false,
     "start_time": "2025-08-19T18:24:32.327846",
     "status": "completed"
    },
    "tags": []
   },
   "outputs": [],
   "source": [
    "# EXCLUDE PROTECTED FEATURES\n",
    "# --------------------------\n",
    "\n",
    "excluded_features = universe[\"exclude_features\"].split(\"-\")\n",
    "excluded_features_dictionary = {\n",
    "    \"nationality\": [\"maxdeutsch1\", \"maxdeutsch.Missing.\"],\n",
    "    \"sex\": [\"frau1\"],\n",
    "    \"age\": [\"age\"],\n",
    "}"
   ]
  },
  {
   "cell_type": "code",
   "execution_count": 22,
   "id": "f8e63555",
   "metadata": {
    "execution": {
     "iopub.execute_input": "2025-08-19T18:24:32.379578Z",
     "iopub.status.busy": "2025-08-19T18:24:32.378410Z",
     "iopub.status.idle": "2025-08-19T18:24:32.384974Z",
     "shell.execute_reply": "2025-08-19T18:24:32.384166Z"
    },
    "papermill": {
     "duration": 0.020962,
     "end_time": "2025-08-19T18:24:32.386158",
     "exception": false,
     "start_time": "2025-08-19T18:24:32.365196",
     "status": "completed"
    },
    "tags": []
   },
   "outputs": [],
   "source": [
    "excluded_features_columns = [\n",
    "    excluded_features_dictionary[f] for f in excluded_features if len(f) > 0 and f != \"none\"\n",
    "]"
   ]
  },
  {
   "cell_type": "code",
   "execution_count": 23,
   "id": "da781f7c",
   "metadata": {
    "execution": {
     "iopub.execute_input": "2025-08-19T18:24:32.408621Z",
     "iopub.status.busy": "2025-08-19T18:24:32.408194Z",
     "iopub.status.idle": "2025-08-19T18:24:32.412855Z",
     "shell.execute_reply": "2025-08-19T18:24:32.412246Z"
    },
    "papermill": {
     "duration": 0.017093,
     "end_time": "2025-08-19T18:24:32.413965",
     "exception": false,
     "start_time": "2025-08-19T18:24:32.396872",
     "status": "completed"
    },
    "tags": []
   },
   "outputs": [],
   "source": [
    "from fairness_multiverse.universe import flatten_once\n",
    "\n",
    "excluded_features_columns = flatten_once(excluded_features_columns)"
   ]
  },
  {
   "cell_type": "code",
   "execution_count": 24,
   "id": "37fef0f0",
   "metadata": {
    "execution": {
     "iopub.execute_input": "2025-08-19T18:24:32.436202Z",
     "iopub.status.busy": "2025-08-19T18:24:32.435824Z",
     "iopub.status.idle": "2025-08-19T18:24:32.443481Z",
     "shell.execute_reply": "2025-08-19T18:24:32.442826Z"
    },
    "papermill": {
     "duration": 0.019925,
     "end_time": "2025-08-19T18:24:32.444643",
     "exception": false,
     "start_time": "2025-08-19T18:24:32.424718",
     "status": "completed"
    },
    "tags": []
   },
   "outputs": [
    {
     "name": "stdout",
     "output_type": "stream",
     "text": [
      "Dropping features: ['maxdeutsch1', 'maxdeutsch.Missing.']\n"
     ]
    }
   ],
   "source": [
    "if len(excluded_features_columns) > 0:\n",
    "    print(f\"Dropping features: {excluded_features_columns}\")\n",
    "    X_train.drop(excluded_features_columns, axis=1, inplace=True)"
   ]
  },
  {
   "cell_type": "code",
   "execution_count": 25,
   "id": "d029e3e9",
   "metadata": {
    "execution": {
     "iopub.execute_input": "2025-08-19T18:24:32.469401Z",
     "iopub.status.busy": "2025-08-19T18:24:32.469024Z",
     "iopub.status.idle": "2025-08-19T18:24:32.520142Z",
     "shell.execute_reply": "2025-08-19T18:24:32.519569Z"
    },
    "papermill": {
     "duration": 0.063852,
     "end_time": "2025-08-19T18:24:32.521335",
     "exception": false,
     "start_time": "2025-08-19T18:24:32.457483",
     "status": "completed"
    },
    "tags": []
   },
   "outputs": [
    {
     "name": "stdout",
     "output_type": "stream",
     "text": [
      "Dropping features: ['maxdeutsch1', 'maxdeutsch.Missing.']\n"
     ]
    }
   ],
   "source": [
    "if len(excluded_features_columns) > 0:\n",
    "    print(f\"Dropping features: {excluded_features_columns}\")\n",
    "    X_test.drop(excluded_features_columns, axis=1, inplace=True)"
   ]
  },
  {
   "cell_type": "code",
   "execution_count": 26,
   "id": "01d571f0",
   "metadata": {
    "execution": {
     "iopub.execute_input": "2025-08-19T18:24:32.544534Z",
     "iopub.status.busy": "2025-08-19T18:24:32.543707Z",
     "iopub.status.idle": "2025-08-19T18:24:32.593402Z",
     "shell.execute_reply": "2025-08-19T18:24:32.592823Z"
    },
    "papermill": {
     "duration": 0.062915,
     "end_time": "2025-08-19T18:24:32.595473",
     "exception": false,
     "start_time": "2025-08-19T18:24:32.532558",
     "status": "completed"
    },
    "tags": []
   },
   "outputs": [
    {
     "name": "stdout",
     "output_type": "stream",
     "text": [
      "Dropping features: ['maxdeutsch1', 'maxdeutsch.Missing.']\n"
     ]
    }
   ],
   "source": [
    "if len(excluded_features_columns) > 0:\n",
    "    print(f\"Dropping features: {excluded_features_columns}\")\n",
    "    X_calib.drop(excluded_features_columns, axis=1, inplace=True)"
   ]
  },
  {
   "cell_type": "code",
   "execution_count": 27,
   "id": "3037356e",
   "metadata": {
    "execution": {
     "iopub.execute_input": "2025-08-19T18:24:32.633458Z",
     "iopub.status.busy": "2025-08-19T18:24:32.632579Z",
     "iopub.status.idle": "2025-08-19T18:24:32.640454Z",
     "shell.execute_reply": "2025-08-19T18:24:32.638873Z"
    },
    "papermill": {
     "duration": 0.027147,
     "end_time": "2025-08-19T18:24:32.641929",
     "exception": false,
     "start_time": "2025-08-19T18:24:32.614782",
     "status": "completed"
    },
    "tags": []
   },
   "outputs": [],
   "source": [
    "# EXCLUDE CERTAIN SUBGROUPS\n",
    "# -------------------------\n",
    "\n",
    "mode = universe.get(\"exclude_subgroups\", \"keep-all\") # Defaults to \"keep-all\" if the key is missing."
   ]
  },
  {
   "cell_type": "code",
   "execution_count": 28,
   "id": "9d1e63fd",
   "metadata": {
    "execution": {
     "iopub.execute_input": "2025-08-19T18:24:32.673157Z",
     "iopub.status.busy": "2025-08-19T18:24:32.671734Z",
     "iopub.status.idle": "2025-08-19T18:24:32.683790Z",
     "shell.execute_reply": "2025-08-19T18:24:32.682179Z"
    },
    "papermill": {
     "duration": 0.026057,
     "end_time": "2025-08-19T18:24:32.685646",
     "exception": false,
     "start_time": "2025-08-19T18:24:32.659589",
     "status": "completed"
    },
    "tags": []
   },
   "outputs": [],
   "source": [
    "if mode == \"keep-all\":\n",
    "    keep_mask = pd.Series(True, index=org_train.index)\n",
    "\n",
    "elif mode == \"drop-non-german\":\n",
    "    keep_mask = (org_train[\"maxdeutsch1\"] == 1) & (org_train[\"maxdeutsch.Missing.\"] == 0)\n",
    "\n",
    "else:\n",
    "    raise ValueError(f\"Unsupported mode for exclude_subgroups: {mode}\")"
   ]
  },
  {
   "cell_type": "code",
   "execution_count": 29,
   "id": "d3b65474",
   "metadata": {
    "execution": {
     "iopub.execute_input": "2025-08-19T18:24:32.711530Z",
     "iopub.status.busy": "2025-08-19T18:24:32.710547Z",
     "iopub.status.idle": "2025-08-19T18:24:32.723051Z",
     "shell.execute_reply": "2025-08-19T18:24:32.721402Z"
    },
    "papermill": {
     "duration": 0.03938,
     "end_time": "2025-08-19T18:24:32.737269",
     "exception": false,
     "start_time": "2025-08-19T18:24:32.697889",
     "status": "completed"
    },
    "tags": []
   },
   "outputs": [
    {
     "name": "stdout",
     "output_type": "stream",
     "text": [
      "Dropping 741 rows (14.82%) where mode='drop-non-german'\n"
     ]
    }
   ],
   "source": [
    "n_drop = (~keep_mask).sum() # Calculates how many rows are set to be dropped\n",
    "if n_drop > 0:\n",
    "    pct = n_drop / len(keep_mask) * 100\n",
    "    print(f\"Dropping {n_drop} rows ({pct:.2f}%) where mode='{mode}'\")"
   ]
  },
  {
   "cell_type": "code",
   "execution_count": 30,
   "id": "f44389b3",
   "metadata": {
    "execution": {
     "iopub.execute_input": "2025-08-19T18:24:32.775910Z",
     "iopub.status.busy": "2025-08-19T18:24:32.775506Z",
     "iopub.status.idle": "2025-08-19T18:24:32.818643Z",
     "shell.execute_reply": "2025-08-19T18:24:32.817010Z"
    },
    "papermill": {
     "duration": 0.058861,
     "end_time": "2025-08-19T18:24:32.820572",
     "exception": false,
     "start_time": "2025-08-19T18:24:32.761711",
     "status": "completed"
    },
    "tags": []
   },
   "outputs": [],
   "source": [
    "X_train = X_train[keep_mask]"
   ]
  },
  {
   "cell_type": "code",
   "execution_count": 31,
   "id": "ceca8c2a",
   "metadata": {
    "execution": {
     "iopub.execute_input": "2025-08-19T18:24:32.856638Z",
     "iopub.status.busy": "2025-08-19T18:24:32.856210Z",
     "iopub.status.idle": "2025-08-19T18:24:32.860949Z",
     "shell.execute_reply": "2025-08-19T18:24:32.860318Z"
    },
    "papermill": {
     "duration": 0.01965,
     "end_time": "2025-08-19T18:24:32.862515",
     "exception": false,
     "start_time": "2025-08-19T18:24:32.842865",
     "status": "completed"
    },
    "tags": []
   },
   "outputs": [],
   "source": [
    "y_train = y_train[keep_mask]"
   ]
  },
  {
   "cell_type": "markdown",
   "id": "04d31e2f",
   "metadata": {
    "papermill": {
     "duration": 0.011211,
     "end_time": "2025-08-19T18:24:32.884888",
     "exception": false,
     "start_time": "2025-08-19T18:24:32.873677",
     "status": "completed"
    },
    "tags": []
   },
   "source": [
    "# Model Training"
   ]
  },
  {
   "cell_type": "code",
   "execution_count": 32,
   "id": "db991733",
   "metadata": {
    "execution": {
     "iopub.execute_input": "2025-08-19T18:24:32.907391Z",
     "iopub.status.busy": "2025-08-19T18:24:32.906978Z",
     "iopub.status.idle": "2025-08-19T18:24:33.007200Z",
     "shell.execute_reply": "2025-08-19T18:24:33.006442Z"
    },
    "papermill": {
     "duration": 0.113433,
     "end_time": "2025-08-19T18:24:33.008827",
     "exception": false,
     "start_time": "2025-08-19T18:24:32.895394",
     "status": "completed"
    },
    "tags": []
   },
   "outputs": [],
   "source": [
    "from sklearn.linear_model import LogisticRegression\n",
    "from sklearn.ensemble import GradientBoostingClassifier, RandomForestClassifier\n",
    "\n",
    "if (universe[\"model\"] == \"logreg\"):\n",
    "    model = LogisticRegression() #penalty=\"none\", solver=\"newton-cg\", max_iter=1)\n",
    "elif (universe[\"model\"] == \"penalized_logreg\"):\n",
    "    model = LogisticRegression(penalty=\"l2\", C=0.1) #, solver=\"newton-cg\", max_iter=1)\n",
    "elif (universe[\"model\"] == \"rf\"):\n",
    "    model = RandomForestClassifier() # n_estimators=100, n_jobs=-1\n",
    "elif (universe[\"model\"] == \"gbm\"):\n",
    "    model = GradientBoostingClassifier()\n",
    "elif (universe[\"model\"] == \"elasticnet\"):\n",
    "    model = LogisticRegression(penalty = 'elasticnet', solver = 'saga', l1_ratio = 0.5) # max_iter=5000\n",
    "else:\n",
    "    raise \"Unsupported universe.model\""
   ]
  },
  {
   "cell_type": "code",
   "execution_count": 33,
   "id": "a4b5cd25",
   "metadata": {
    "execution": {
     "iopub.execute_input": "2025-08-19T18:24:33.033606Z",
     "iopub.status.busy": "2025-08-19T18:24:33.032929Z",
     "iopub.status.idle": "2025-08-19T18:24:33.039975Z",
     "shell.execute_reply": "2025-08-19T18:24:33.039019Z"
    },
    "papermill": {
     "duration": 0.021578,
     "end_time": "2025-08-19T18:24:33.041442",
     "exception": false,
     "start_time": "2025-08-19T18:24:33.019864",
     "status": "completed"
    },
    "tags": []
   },
   "outputs": [],
   "source": [
    "from sklearn.pipeline import Pipeline\n",
    "from sklearn.preprocessing import StandardScaler\n",
    "\n",
    "model = Pipeline([\n",
    "    #(\"continuous_processor\", continuous_processor),\n",
    "    #(\"categorical_preprocessor\", categorical_preprocessor),\n",
    "    (\"scale\", StandardScaler() if universe[\"scale\"] == \"scale\" else None), \n",
    "    (\"model\", model),\n",
    "])"
   ]
  },
  {
   "cell_type": "code",
   "execution_count": 34,
   "id": "283a904d",
   "metadata": {
    "execution": {
     "iopub.execute_input": "2025-08-19T18:24:33.067396Z",
     "iopub.status.busy": "2025-08-19T18:24:33.066323Z",
     "iopub.status.idle": "2025-08-19T18:24:34.207381Z",
     "shell.execute_reply": "2025-08-19T18:24:34.206768Z"
    },
    "papermill": {
     "duration": 1.155342,
     "end_time": "2025-08-19T18:24:34.208734",
     "exception": false,
     "start_time": "2025-08-19T18:24:33.053392",
     "status": "completed"
    },
    "tags": []
   },
   "outputs": [
    {
     "data": {
      "text/html": [
       "<style>#sk-container-id-1 {color: black;background-color: white;}#sk-container-id-1 pre{padding: 0;}#sk-container-id-1 div.sk-toggleable {background-color: white;}#sk-container-id-1 label.sk-toggleable__label {cursor: pointer;display: block;width: 100%;margin-bottom: 0;padding: 0.3em;box-sizing: border-box;text-align: center;}#sk-container-id-1 label.sk-toggleable__label-arrow:before {content: \"▸\";float: left;margin-right: 0.25em;color: #696969;}#sk-container-id-1 label.sk-toggleable__label-arrow:hover:before {color: black;}#sk-container-id-1 div.sk-estimator:hover label.sk-toggleable__label-arrow:before {color: black;}#sk-container-id-1 div.sk-toggleable__content {max-height: 0;max-width: 0;overflow: hidden;text-align: left;background-color: #f0f8ff;}#sk-container-id-1 div.sk-toggleable__content pre {margin: 0.2em;color: black;border-radius: 0.25em;background-color: #f0f8ff;}#sk-container-id-1 input.sk-toggleable__control:checked~div.sk-toggleable__content {max-height: 200px;max-width: 100%;overflow: auto;}#sk-container-id-1 input.sk-toggleable__control:checked~label.sk-toggleable__label-arrow:before {content: \"▾\";}#sk-container-id-1 div.sk-estimator input.sk-toggleable__control:checked~label.sk-toggleable__label {background-color: #d4ebff;}#sk-container-id-1 div.sk-label input.sk-toggleable__control:checked~label.sk-toggleable__label {background-color: #d4ebff;}#sk-container-id-1 input.sk-hidden--visually {border: 0;clip: rect(1px 1px 1px 1px);clip: rect(1px, 1px, 1px, 1px);height: 1px;margin: -1px;overflow: hidden;padding: 0;position: absolute;width: 1px;}#sk-container-id-1 div.sk-estimator {font-family: monospace;background-color: #f0f8ff;border: 1px dotted black;border-radius: 0.25em;box-sizing: border-box;margin-bottom: 0.5em;}#sk-container-id-1 div.sk-estimator:hover {background-color: #d4ebff;}#sk-container-id-1 div.sk-parallel-item::after {content: \"\";width: 100%;border-bottom: 1px solid gray;flex-grow: 1;}#sk-container-id-1 div.sk-label:hover label.sk-toggleable__label {background-color: #d4ebff;}#sk-container-id-1 div.sk-serial::before {content: \"\";position: absolute;border-left: 1px solid gray;box-sizing: border-box;top: 0;bottom: 0;left: 50%;z-index: 0;}#sk-container-id-1 div.sk-serial {display: flex;flex-direction: column;align-items: center;background-color: white;padding-right: 0.2em;padding-left: 0.2em;position: relative;}#sk-container-id-1 div.sk-item {position: relative;z-index: 1;}#sk-container-id-1 div.sk-parallel {display: flex;align-items: stretch;justify-content: center;background-color: white;position: relative;}#sk-container-id-1 div.sk-item::before, #sk-container-id-1 div.sk-parallel-item::before {content: \"\";position: absolute;border-left: 1px solid gray;box-sizing: border-box;top: 0;bottom: 0;left: 50%;z-index: -1;}#sk-container-id-1 div.sk-parallel-item {display: flex;flex-direction: column;z-index: 1;position: relative;background-color: white;}#sk-container-id-1 div.sk-parallel-item:first-child::after {align-self: flex-end;width: 50%;}#sk-container-id-1 div.sk-parallel-item:last-child::after {align-self: flex-start;width: 50%;}#sk-container-id-1 div.sk-parallel-item:only-child::after {width: 0;}#sk-container-id-1 div.sk-dashed-wrapped {border: 1px dashed gray;margin: 0 0.4em 0.5em 0.4em;box-sizing: border-box;padding-bottom: 0.4em;background-color: white;}#sk-container-id-1 div.sk-label label {font-family: monospace;font-weight: bold;display: inline-block;line-height: 1.2em;}#sk-container-id-1 div.sk-label-container {text-align: center;}#sk-container-id-1 div.sk-container {/* jupyter's `normalize.less` sets `[hidden] { display: none; }` but bootstrap.min.css set `[hidden] { display: none !important; }` so we also need the `!important` here to be able to override the default hidden behavior on the sphinx rendered scikit-learn.org. See: https://github.com/scikit-learn/scikit-learn/issues/21755 */display: inline-block !important;position: relative;}#sk-container-id-1 div.sk-text-repr-fallback {display: none;}</style><div id=\"sk-container-id-1\" class=\"sk-top-container\"><div class=\"sk-text-repr-fallback\"><pre>Pipeline(steps=[(&#x27;scale&#x27;, StandardScaler()),\n",
       "                (&#x27;model&#x27;, RandomForestClassifier())])</pre><b>In a Jupyter environment, please rerun this cell to show the HTML representation or trust the notebook. <br />On GitHub, the HTML representation is unable to render, please try loading this page with nbviewer.org.</b></div><div class=\"sk-container\" hidden><div class=\"sk-item sk-dashed-wrapped\"><div class=\"sk-label-container\"><div class=\"sk-label sk-toggleable\"><input class=\"sk-toggleable__control sk-hidden--visually\" id=\"sk-estimator-id-1\" type=\"checkbox\" ><label for=\"sk-estimator-id-1\" class=\"sk-toggleable__label sk-toggleable__label-arrow\">Pipeline</label><div class=\"sk-toggleable__content\"><pre>Pipeline(steps=[(&#x27;scale&#x27;, StandardScaler()),\n",
       "                (&#x27;model&#x27;, RandomForestClassifier())])</pre></div></div></div><div class=\"sk-serial\"><div class=\"sk-item\"><div class=\"sk-estimator sk-toggleable\"><input class=\"sk-toggleable__control sk-hidden--visually\" id=\"sk-estimator-id-2\" type=\"checkbox\" ><label for=\"sk-estimator-id-2\" class=\"sk-toggleable__label sk-toggleable__label-arrow\">StandardScaler</label><div class=\"sk-toggleable__content\"><pre>StandardScaler()</pre></div></div></div><div class=\"sk-item\"><div class=\"sk-estimator sk-toggleable\"><input class=\"sk-toggleable__control sk-hidden--visually\" id=\"sk-estimator-id-3\" type=\"checkbox\" ><label for=\"sk-estimator-id-3\" class=\"sk-toggleable__label sk-toggleable__label-arrow\">RandomForestClassifier</label><div class=\"sk-toggleable__content\"><pre>RandomForestClassifier()</pre></div></div></div></div></div></div></div>"
      ],
      "text/plain": [
       "Pipeline(steps=[('scale', StandardScaler()),\n",
       "                ('model', RandomForestClassifier())])"
      ]
     },
     "execution_count": 34,
     "metadata": {},
     "output_type": "execute_result"
    }
   ],
   "source": [
    "model.fit(X_train, y_train.values.ravel())"
   ]
  },
  {
   "cell_type": "code",
   "execution_count": 35,
   "id": "6e15e313",
   "metadata": {
    "execution": {
     "iopub.execute_input": "2025-08-19T18:24:34.232882Z",
     "iopub.status.busy": "2025-08-19T18:24:34.232179Z",
     "iopub.status.idle": "2025-08-19T18:24:36.166802Z",
     "shell.execute_reply": "2025-08-19T18:24:36.164795Z"
    },
    "papermill": {
     "duration": 1.948809,
     "end_time": "2025-08-19T18:24:36.169145",
     "exception": false,
     "start_time": "2025-08-19T18:24:34.220336",
     "status": "completed"
    },
    "tags": []
   },
   "outputs": [
    {
     "data": {
      "text/plain": [
       "0.863303979489466"
      ]
     },
     "execution_count": 35,
     "metadata": {},
     "output_type": "execute_result"
    }
   ],
   "source": [
    "from fairness_multiverse.universe import predict_w_threshold\n",
    "\n",
    "probs_test = model.predict_proba(X_test)\n",
    "\n",
    "'''\n",
    "Below code returns a boolean array (or binary 0/1 array depending on how it’s used) where each element \n",
    "is True if the probability of class 1 is greater than or equal to the threshold, and False otherwise.\n",
    "'''\n",
    "y_pred_default = predict_w_threshold(probs_test, 0.5)\n",
    "\n",
    "from sklearn.metrics import accuracy_score\n",
    "\n",
    "# Naive prediction\n",
    "accuracy_score(y_true = y_true, y_pred = y_pred_default)"
   ]
  },
  {
   "cell_type": "code",
   "execution_count": 36,
   "id": "6f14067c",
   "metadata": {
    "execution": {
     "iopub.execute_input": "2025-08-19T18:24:36.198708Z",
     "iopub.status.busy": "2025-08-19T18:24:36.197586Z",
     "iopub.status.idle": "2025-08-19T18:24:38.109565Z",
     "shell.execute_reply": "2025-08-19T18:24:38.107508Z"
    },
    "papermill": {
     "duration": 1.927728,
     "end_time": "2025-08-19T18:24:38.111632",
     "exception": false,
     "start_time": "2025-08-19T18:24:36.183904",
     "status": "completed"
    },
    "tags": []
   },
   "outputs": [
    {
     "data": {
      "text/plain": [
       "array([0, 0, 0, ..., 0, 0, 0])"
      ]
     },
     "execution_count": 36,
     "metadata": {},
     "output_type": "execute_result"
    }
   ],
   "source": [
    "model.predict(X_test)"
   ]
  },
  {
   "cell_type": "markdown",
   "id": "3759920c",
   "metadata": {
    "papermill": {
     "duration": 0.011081,
     "end_time": "2025-08-19T18:24:38.137117",
     "exception": false,
     "start_time": "2025-08-19T18:24:38.126036",
     "status": "completed"
    },
    "tags": []
   },
   "source": [
    "# Conformal Prediction"
   ]
  },
  {
   "cell_type": "code",
   "execution_count": 37,
   "id": "14b27f59",
   "metadata": {
    "execution": {
     "iopub.execute_input": "2025-08-19T18:24:38.162000Z",
     "iopub.status.busy": "2025-08-19T18:24:38.161570Z",
     "iopub.status.idle": "2025-08-19T18:24:38.175483Z",
     "shell.execute_reply": "2025-08-19T18:24:38.174777Z"
    },
    "papermill": {
     "duration": 0.027712,
     "end_time": "2025-08-19T18:24:38.176842",
     "exception": false,
     "start_time": "2025-08-19T18:24:38.149130",
     "status": "completed"
    },
    "tags": []
   },
   "outputs": [],
   "source": [
    "# Miscoverage level for conformal prediction (10% allowed error rate => 90% target coverage)\n",
    "alpha = 0.1"
   ]
  },
  {
   "cell_type": "code",
   "execution_count": 38,
   "id": "59102472",
   "metadata": {
    "execution": {
     "iopub.execute_input": "2025-08-19T18:24:38.203197Z",
     "iopub.status.busy": "2025-08-19T18:24:38.202585Z",
     "iopub.status.idle": "2025-08-19T18:24:40.095939Z",
     "shell.execute_reply": "2025-08-19T18:24:40.094673Z"
    },
    "papermill": {
     "duration": 1.907078,
     "end_time": "2025-08-19T18:24:40.097592",
     "exception": false,
     "start_time": "2025-08-19T18:24:38.190514",
     "status": "completed"
    },
    "tags": []
   },
   "outputs": [],
   "source": [
    "probs_calib = model.predict_proba(X_calib)"
   ]
  },
  {
   "cell_type": "code",
   "execution_count": 39,
   "id": "a792d4dd",
   "metadata": {
    "execution": {
     "iopub.execute_input": "2025-08-19T18:24:40.133692Z",
     "iopub.status.busy": "2025-08-19T18:24:40.131813Z",
     "iopub.status.idle": "2025-08-19T18:24:40.142563Z",
     "shell.execute_reply": "2025-08-19T18:24:40.141475Z"
    },
    "papermill": {
     "duration": 0.026848,
     "end_time": "2025-08-19T18:24:40.143997",
     "exception": false,
     "start_time": "2025-08-19T18:24:40.117149",
     "status": "completed"
    },
    "tags": []
   },
   "outputs": [],
   "source": [
    "y_calib = y_calib.values.ravel().astype(int)"
   ]
  },
  {
   "cell_type": "code",
   "execution_count": 40,
   "id": "650fd033",
   "metadata": {
    "execution": {
     "iopub.execute_input": "2025-08-19T18:24:40.176374Z",
     "iopub.status.busy": "2025-08-19T18:24:40.175272Z",
     "iopub.status.idle": "2025-08-19T18:24:40.189730Z",
     "shell.execute_reply": "2025-08-19T18:24:40.188390Z"
    },
    "papermill": {
     "duration": 0.029884,
     "end_time": "2025-08-19T18:24:40.191230",
     "exception": false,
     "start_time": "2025-08-19T18:24:40.161346",
     "status": "completed"
    },
    "tags": []
   },
   "outputs": [],
   "source": [
    "from fairness_multiverse.conformal import compute_nc_scores\n",
    "\n",
    "# Compute nonconformity scores on calibration set (1 - probability of true class)\n",
    "nc_scores = compute_nc_scores(probs_calib, y_calib)"
   ]
  },
  {
   "cell_type": "code",
   "execution_count": 41,
   "id": "28ada44c",
   "metadata": {
    "execution": {
     "iopub.execute_input": "2025-08-19T18:24:40.221453Z",
     "iopub.status.busy": "2025-08-19T18:24:40.220443Z",
     "iopub.status.idle": "2025-08-19T18:24:40.231785Z",
     "shell.execute_reply": "2025-08-19T18:24:40.230547Z"
    },
    "papermill": {
     "duration": 0.025725,
     "end_time": "2025-08-19T18:24:40.233351",
     "exception": false,
     "start_time": "2025-08-19T18:24:40.207626",
     "status": "completed"
    },
    "tags": []
   },
   "outputs": [],
   "source": [
    "from fairness_multiverse.conformal import find_threshold\n",
    "\n",
    "# Find conformal threshold q_hat for the given alpha (split conformal method)\n",
    "q_hat = find_threshold(nc_scores, alpha)"
   ]
  },
  {
   "cell_type": "code",
   "execution_count": 42,
   "id": "df56469e",
   "metadata": {
    "execution": {
     "iopub.execute_input": "2025-08-19T18:24:40.262739Z",
     "iopub.status.busy": "2025-08-19T18:24:40.261391Z",
     "iopub.status.idle": "2025-08-19T18:24:40.272856Z",
     "shell.execute_reply": "2025-08-19T18:24:40.271621Z"
    },
    "papermill": {
     "duration": 0.025823,
     "end_time": "2025-08-19T18:24:40.274366",
     "exception": false,
     "start_time": "2025-08-19T18:24:40.248543",
     "status": "completed"
    },
    "tags": []
   },
   "outputs": [
    {
     "data": {
      "text/plain": [
       "0.6599999999999999"
      ]
     },
     "execution_count": 42,
     "metadata": {},
     "output_type": "execute_result"
    }
   ],
   "source": [
    "q_hat"
   ]
  },
  {
   "cell_type": "code",
   "execution_count": 43,
   "id": "aa1f5faa",
   "metadata": {
    "execution": {
     "iopub.execute_input": "2025-08-19T18:24:40.302853Z",
     "iopub.status.busy": "2025-08-19T18:24:40.301902Z",
     "iopub.status.idle": "2025-08-19T18:24:42.676506Z",
     "shell.execute_reply": "2025-08-19T18:24:42.675257Z"
    },
    "papermill": {
     "duration": 2.38912,
     "end_time": "2025-08-19T18:24:42.678219",
     "exception": false,
     "start_time": "2025-08-19T18:24:40.289099",
     "status": "completed"
    },
    "tags": []
   },
   "outputs": [],
   "source": [
    "from fairness_multiverse.conformal import predict_conformal_sets\n",
    "\n",
    "# Generate prediction sets for each test example\n",
    "pred_sets = predict_conformal_sets(model, X_test, q_hat)"
   ]
  },
  {
   "cell_type": "code",
   "execution_count": 44,
   "id": "97f67a6b",
   "metadata": {
    "execution": {
     "iopub.execute_input": "2025-08-19T18:24:42.704542Z",
     "iopub.status.busy": "2025-08-19T18:24:42.703272Z",
     "iopub.status.idle": "2025-08-19T18:24:42.713656Z",
     "shell.execute_reply": "2025-08-19T18:24:42.712012Z"
    },
    "papermill": {
     "duration": 0.024926,
     "end_time": "2025-08-19T18:24:42.715188",
     "exception": false,
     "start_time": "2025-08-19T18:24:42.690262",
     "status": "completed"
    },
    "tags": []
   },
   "outputs": [],
   "source": [
    "y_true = y_true.squeeze()"
   ]
  },
  {
   "cell_type": "code",
   "execution_count": 45,
   "id": "e700e9a7",
   "metadata": {
    "execution": {
     "iopub.execute_input": "2025-08-19T18:24:42.757861Z",
     "iopub.status.busy": "2025-08-19T18:24:42.757150Z",
     "iopub.status.idle": "2025-08-19T18:24:43.262197Z",
     "shell.execute_reply": "2025-08-19T18:24:43.260962Z"
    },
    "papermill": {
     "duration": 0.534858,
     "end_time": "2025-08-19T18:24:43.263953",
     "exception": false,
     "start_time": "2025-08-19T18:24:42.729095",
     "status": "completed"
    },
    "tags": []
   },
   "outputs": [],
   "source": [
    "from fairness_multiverse.conformal import evaluate_sets\n",
    "\n",
    "# Evaluate coverage and average set size on test data\n",
    "metrics = evaluate_sets(pred_sets, y_true)"
   ]
  },
  {
   "cell_type": "markdown",
   "id": "efbacec0",
   "metadata": {
    "papermill": {
     "duration": 0.027514,
     "end_time": "2025-08-19T18:24:43.313156",
     "exception": false,
     "start_time": "2025-08-19T18:24:43.285642",
     "status": "completed"
    },
    "tags": []
   },
   "source": [
    "# CP Metrics"
   ]
  },
  {
   "cell_type": "code",
   "execution_count": 46,
   "id": "9de55fb1",
   "metadata": {
    "execution": {
     "iopub.execute_input": "2025-08-19T18:24:43.342563Z",
     "iopub.status.busy": "2025-08-19T18:24:43.341101Z",
     "iopub.status.idle": "2025-08-19T18:24:43.355733Z",
     "shell.execute_reply": "2025-08-19T18:24:43.354507Z"
    },
    "papermill": {
     "duration": 0.030549,
     "end_time": "2025-08-19T18:24:43.357266",
     "exception": false,
     "start_time": "2025-08-19T18:24:43.326717",
     "status": "completed"
    },
    "tags": []
   },
   "outputs": [
    {
     "data": {
      "text/plain": [
       "{'coverage': 0.9141901683201427, 'avg_size': 1.1427600044588118}"
      ]
     },
     "execution_count": 46,
     "metadata": {},
     "output_type": "execute_result"
    }
   ],
   "source": [
    "metrics"
   ]
  },
  {
   "cell_type": "code",
   "execution_count": 47,
   "id": "64c340a1",
   "metadata": {
    "execution": {
     "iopub.execute_input": "2025-08-19T18:24:43.391916Z",
     "iopub.status.busy": "2025-08-19T18:24:43.390385Z",
     "iopub.status.idle": "2025-08-19T18:24:43.402010Z",
     "shell.execute_reply": "2025-08-19T18:24:43.400320Z"
    },
    "papermill": {
     "duration": 0.028056,
     "end_time": "2025-08-19T18:24:43.403785",
     "exception": false,
     "start_time": "2025-08-19T18:24:43.375729",
     "status": "completed"
    },
    "tags": []
   },
   "outputs": [],
   "source": [
    "example_universe = universe.copy()\n",
    "universe_training_year = example_universe.get(\"training_year\")\n",
    "universe_training_size = example_universe.get(\"training_size\")\n",
    "universe_scale = example_universe.get(\"scale\")\n",
    "universe_model = example_universe.get(\"model\")\n",
    "universe_exclude_features = example_universe.get(\"exclude_features\")\n",
    "universe_exclude_subgroups = example_universe.get(\"exclude_subgroups\")"
   ]
  },
  {
   "cell_type": "code",
   "execution_count": 48,
   "id": "dbb53cb4",
   "metadata": {
    "execution": {
     "iopub.execute_input": "2025-08-19T18:24:43.446026Z",
     "iopub.status.busy": "2025-08-19T18:24:43.445008Z",
     "iopub.status.idle": "2025-08-19T18:24:43.456035Z",
     "shell.execute_reply": "2025-08-19T18:24:43.454710Z"
    },
    "papermill": {
     "duration": 0.038408,
     "end_time": "2025-08-19T18:24:43.457617",
     "exception": false,
     "start_time": "2025-08-19T18:24:43.419209",
     "status": "completed"
    },
    "tags": []
   },
   "outputs": [],
   "source": [
    "cp_metrics_dict = {\n",
    "    \"universe_id\": [universe_id],\n",
    "    \"universe_training_year\": [universe_training_year],\n",
    "    \"universe_training_size\": [universe_training_size],\n",
    "    \"universe_scale\": [universe_scale],\n",
    "    \"universe_model\": [universe_model],\n",
    "    \"universe_exclude_features\": [universe_exclude_features],\n",
    "    \"universe_exclude_subgroups\": [universe_exclude_subgroups],\n",
    "    \"q_hat\": [q_hat],\n",
    "    \"coverage\": [metrics[\"coverage\"]],\n",
    "    \"avg_size\": [metrics[\"avg_size\"]],\n",
    "}"
   ]
  },
  {
   "cell_type": "code",
   "execution_count": 49,
   "id": "0d70d4b2",
   "metadata": {
    "execution": {
     "iopub.execute_input": "2025-08-19T18:24:43.488376Z",
     "iopub.status.busy": "2025-08-19T18:24:43.487354Z",
     "iopub.status.idle": "2025-08-19T18:24:43.500287Z",
     "shell.execute_reply": "2025-08-19T18:24:43.498591Z"
    },
    "papermill": {
     "duration": 0.02795,
     "end_time": "2025-08-19T18:24:43.501881",
     "exception": false,
     "start_time": "2025-08-19T18:24:43.473931",
     "status": "completed"
    },
    "tags": []
   },
   "outputs": [],
   "source": [
    "cp_metrics_df = pd.DataFrame(cp_metrics_dict)"
   ]
  },
  {
   "cell_type": "code",
   "execution_count": 50,
   "id": "b494403c",
   "metadata": {
    "execution": {
     "iopub.execute_input": "2025-08-19T18:24:43.532612Z",
     "iopub.status.busy": "2025-08-19T18:24:43.530151Z",
     "iopub.status.idle": "2025-08-19T18:24:43.561996Z",
     "shell.execute_reply": "2025-08-19T18:24:43.560906Z"
    },
    "papermill": {
     "duration": 0.047374,
     "end_time": "2025-08-19T18:24:43.564299",
     "exception": false,
     "start_time": "2025-08-19T18:24:43.516925",
     "status": "completed"
    },
    "tags": []
   },
   "outputs": [
    {
     "data": {
      "text/html": [
       "<div>\n",
       "<style scoped>\n",
       "    .dataframe tbody tr th:only-of-type {\n",
       "        vertical-align: middle;\n",
       "    }\n",
       "\n",
       "    .dataframe tbody tr th {\n",
       "        vertical-align: top;\n",
       "    }\n",
       "\n",
       "    .dataframe thead th {\n",
       "        text-align: right;\n",
       "    }\n",
       "</style>\n",
       "<table border=\"1\" class=\"dataframe\">\n",
       "  <thead>\n",
       "    <tr style=\"text-align: right;\">\n",
       "      <th></th>\n",
       "      <th>universe_id</th>\n",
       "      <th>universe_training_year</th>\n",
       "      <th>universe_training_size</th>\n",
       "      <th>universe_scale</th>\n",
       "      <th>universe_model</th>\n",
       "      <th>universe_exclude_features</th>\n",
       "      <th>universe_exclude_subgroups</th>\n",
       "      <th>q_hat</th>\n",
       "      <th>coverage</th>\n",
       "      <th>avg_size</th>\n",
       "    </tr>\n",
       "  </thead>\n",
       "  <tbody>\n",
       "    <tr>\n",
       "      <th>0</th>\n",
       "      <td>6b3586fa7b6001a77f25f6f6ad03949d</td>\n",
       "      <td>2014</td>\n",
       "      <td>5k</td>\n",
       "      <td>scale</td>\n",
       "      <td>rf</td>\n",
       "      <td>nationality</td>\n",
       "      <td>drop-non-german</td>\n",
       "      <td>0.66</td>\n",
       "      <td>0.91419</td>\n",
       "      <td>1.14276</td>\n",
       "    </tr>\n",
       "  </tbody>\n",
       "</table>\n",
       "</div>"
      ],
      "text/plain": [
       "                        universe_id universe_training_year  \\\n",
       "0  6b3586fa7b6001a77f25f6f6ad03949d                   2014   \n",
       "\n",
       "  universe_training_size universe_scale universe_model  \\\n",
       "0                     5k          scale             rf   \n",
       "\n",
       "  universe_exclude_features universe_exclude_subgroups  q_hat  coverage  \\\n",
       "0               nationality            drop-non-german   0.66   0.91419   \n",
       "\n",
       "   avg_size  \n",
       "0   1.14276  "
      ]
     },
     "execution_count": 50,
     "metadata": {},
     "output_type": "execute_result"
    }
   ],
   "source": [
    "cp_metrics_df"
   ]
  },
  {
   "cell_type": "markdown",
   "id": "ed608b0b",
   "metadata": {
    "papermill": {
     "duration": 0.012519,
     "end_time": "2025-08-19T18:24:43.602599",
     "exception": false,
     "start_time": "2025-08-19T18:24:43.590080",
     "status": "completed"
    },
    "tags": []
   },
   "source": [
    "Conditional coverage & looking at subgroups"
   ]
  },
  {
   "cell_type": "code",
   "execution_count": 51,
   "id": "8968c366",
   "metadata": {
    "execution": {
     "iopub.execute_input": "2025-08-19T18:24:43.630370Z",
     "iopub.status.busy": "2025-08-19T18:24:43.628678Z",
     "iopub.status.idle": "2025-08-19T18:24:43.907670Z",
     "shell.execute_reply": "2025-08-19T18:24:43.906963Z"
    },
    "papermill": {
     "duration": 0.295918,
     "end_time": "2025-08-19T18:24:43.910372",
     "exception": false,
     "start_time": "2025-08-19T18:24:43.614454",
     "status": "completed"
    },
    "tags": []
   },
   "outputs": [],
   "source": [
    "from fairness_multiverse.conformal import build_cp_groups\n",
    "\n",
    "cp_groups_df = build_cp_groups(pred_sets, y_true, X_test.index, org_test)"
   ]
  },
  {
   "cell_type": "code",
   "execution_count": 52,
   "id": "292ddabf",
   "metadata": {
    "execution": {
     "iopub.execute_input": "2025-08-19T18:24:43.954593Z",
     "iopub.status.busy": "2025-08-19T18:24:43.953046Z",
     "iopub.status.idle": "2025-08-19T18:24:44.910900Z",
     "shell.execute_reply": "2025-08-19T18:24:44.909711Z"
    },
    "papermill": {
     "duration": 0.975932,
     "end_time": "2025-08-19T18:24:44.913824",
     "exception": false,
     "start_time": "2025-08-19T18:24:43.937892",
     "status": "completed"
    },
    "tags": []
   },
   "outputs": [],
   "source": [
    "# Define covered = 1 if true_label is in the predicted set\n",
    "cp_groups_df['covered'] = cp_groups_df.apply(\n",
    "    lambda r: int(r['true_label'] in r['pred_set']),\n",
    "    axis=1\n",
    ")"
   ]
  },
  {
   "cell_type": "code",
   "execution_count": 53,
   "id": "3a261692",
   "metadata": {
    "execution": {
     "iopub.execute_input": "2025-08-19T18:24:44.959082Z",
     "iopub.status.busy": "2025-08-19T18:24:44.957875Z",
     "iopub.status.idle": "2025-08-19T18:24:44.981699Z",
     "shell.execute_reply": "2025-08-19T18:24:44.980730Z"
    },
    "papermill": {
     "duration": 0.040901,
     "end_time": "2025-08-19T18:24:44.983758",
     "exception": false,
     "start_time": "2025-08-19T18:24:44.942857",
     "status": "completed"
    },
    "tags": []
   },
   "outputs": [],
   "source": [
    "subgroups = ['frau1','nongerman','nongerman_male','nongerman_female']\n",
    "\n",
    "# Conditional coverage for subgroup==1\n",
    "cond_coverage = {\n",
    "    g: cp_groups_df.loc[cp_groups_df[g]==1, 'covered'].mean()\n",
    "    for g in subgroups\n",
    "}"
   ]
  },
  {
   "cell_type": "code",
   "execution_count": 54,
   "id": "894fd600",
   "metadata": {
    "execution": {
     "iopub.execute_input": "2025-08-19T18:24:45.018940Z",
     "iopub.status.busy": "2025-08-19T18:24:45.017758Z",
     "iopub.status.idle": "2025-08-19T18:24:45.028610Z",
     "shell.execute_reply": "2025-08-19T18:24:45.027354Z"
    },
    "papermill": {
     "duration": 0.027355,
     "end_time": "2025-08-19T18:24:45.030356",
     "exception": false,
     "start_time": "2025-08-19T18:24:45.003001",
     "status": "completed"
    },
    "tags": []
   },
   "outputs": [
    {
     "data": {
      "text/plain": [
       "{'frau1': 0.9125219032214584,\n",
       " 'nongerman': 0.9110761803177455,\n",
       " 'nongerman_male': 0.9265063496352337,\n",
       " 'nongerman_female': 0.8855439642324888}"
      ]
     },
     "execution_count": 54,
     "metadata": {},
     "output_type": "execute_result"
    }
   ],
   "source": [
    "cond_coverage"
   ]
  },
  {
   "cell_type": "code",
   "execution_count": 55,
   "id": "942895c7",
   "metadata": {
    "execution": {
     "iopub.execute_input": "2025-08-19T18:24:45.060403Z",
     "iopub.status.busy": "2025-08-19T18:24:45.059310Z",
     "iopub.status.idle": "2025-08-19T18:24:45.070718Z",
     "shell.execute_reply": "2025-08-19T18:24:45.069546Z"
    },
    "papermill": {
     "duration": 0.026793,
     "end_time": "2025-08-19T18:24:45.072407",
     "exception": false,
     "start_time": "2025-08-19T18:24:45.045614",
     "status": "completed"
    },
    "tags": []
   },
   "outputs": [],
   "source": [
    "for subgroup, cov in cond_coverage.items():\n",
    "    cp_metrics_df[f\"cov_{subgroup}\"] = cov"
   ]
  },
  {
   "cell_type": "code",
   "execution_count": 56,
   "id": "3970120f",
   "metadata": {
    "execution": {
     "iopub.execute_input": "2025-08-19T18:24:45.117727Z",
     "iopub.status.busy": "2025-08-19T18:24:45.117238Z",
     "iopub.status.idle": "2025-08-19T18:24:45.143748Z",
     "shell.execute_reply": "2025-08-19T18:24:45.142017Z"
    },
    "papermill": {
     "duration": 0.058997,
     "end_time": "2025-08-19T18:24:45.147260",
     "exception": false,
     "start_time": "2025-08-19T18:24:45.088263",
     "status": "completed"
    },
    "tags": []
   },
   "outputs": [
    {
     "data": {
      "text/html": [
       "<div>\n",
       "<style scoped>\n",
       "    .dataframe tbody tr th:only-of-type {\n",
       "        vertical-align: middle;\n",
       "    }\n",
       "\n",
       "    .dataframe tbody tr th {\n",
       "        vertical-align: top;\n",
       "    }\n",
       "\n",
       "    .dataframe thead th {\n",
       "        text-align: right;\n",
       "    }\n",
       "</style>\n",
       "<table border=\"1\" class=\"dataframe\">\n",
       "  <thead>\n",
       "    <tr style=\"text-align: right;\">\n",
       "      <th></th>\n",
       "      <th>universe_id</th>\n",
       "      <th>universe_training_year</th>\n",
       "      <th>universe_training_size</th>\n",
       "      <th>universe_scale</th>\n",
       "      <th>universe_model</th>\n",
       "      <th>universe_exclude_features</th>\n",
       "      <th>universe_exclude_subgroups</th>\n",
       "      <th>q_hat</th>\n",
       "      <th>coverage</th>\n",
       "      <th>avg_size</th>\n",
       "      <th>cov_frau1</th>\n",
       "      <th>cov_nongerman</th>\n",
       "      <th>cov_nongerman_male</th>\n",
       "      <th>cov_nongerman_female</th>\n",
       "    </tr>\n",
       "  </thead>\n",
       "  <tbody>\n",
       "    <tr>\n",
       "      <th>0</th>\n",
       "      <td>6b3586fa7b6001a77f25f6f6ad03949d</td>\n",
       "      <td>2014</td>\n",
       "      <td>5k</td>\n",
       "      <td>scale</td>\n",
       "      <td>rf</td>\n",
       "      <td>nationality</td>\n",
       "      <td>drop-non-german</td>\n",
       "      <td>0.66</td>\n",
       "      <td>0.91419</td>\n",
       "      <td>1.14276</td>\n",
       "      <td>0.912522</td>\n",
       "      <td>0.911076</td>\n",
       "      <td>0.926506</td>\n",
       "      <td>0.885544</td>\n",
       "    </tr>\n",
       "  </tbody>\n",
       "</table>\n",
       "</div>"
      ],
      "text/plain": [
       "                        universe_id universe_training_year  \\\n",
       "0  6b3586fa7b6001a77f25f6f6ad03949d                   2014   \n",
       "\n",
       "  universe_training_size universe_scale universe_model  \\\n",
       "0                     5k          scale             rf   \n",
       "\n",
       "  universe_exclude_features universe_exclude_subgroups  q_hat  coverage  \\\n",
       "0               nationality            drop-non-german   0.66   0.91419   \n",
       "\n",
       "   avg_size  cov_frau1  cov_nongerman  cov_nongerman_male  \\\n",
       "0   1.14276   0.912522       0.911076            0.926506   \n",
       "\n",
       "   cov_nongerman_female  \n",
       "0              0.885544  "
      ]
     },
     "execution_count": 56,
     "metadata": {},
     "output_type": "execute_result"
    }
   ],
   "source": [
    "cp_metrics_df"
   ]
  },
  {
   "cell_type": "markdown",
   "id": "3fc519cc",
   "metadata": {
    "papermill": {
     "duration": 0.01454,
     "end_time": "2025-08-19T18:24:45.185446",
     "exception": false,
     "start_time": "2025-08-19T18:24:45.170906",
     "status": "completed"
    },
    "tags": []
   },
   "source": [
    "# (Fairness) Metrics"
   ]
  },
  {
   "cell_type": "code",
   "execution_count": 57,
   "id": "a2e5e155",
   "metadata": {
    "execution": {
     "iopub.execute_input": "2025-08-19T18:24:45.211648Z",
     "iopub.status.busy": "2025-08-19T18:24:45.211263Z",
     "iopub.status.idle": "2025-08-19T18:24:45.233977Z",
     "shell.execute_reply": "2025-08-19T18:24:45.233315Z"
    },
    "papermill": {
     "duration": 0.039094,
     "end_time": "2025-08-19T18:24:45.236804",
     "exception": false,
     "start_time": "2025-08-19T18:24:45.197710",
     "status": "completed"
    },
    "tags": []
   },
   "outputs": [],
   "source": [
    "colname_to_bin = \"maxdeutsch1\"\n",
    "majority_value = org_train[colname_to_bin].mode()[0]\n",
    "\n",
    "org_test[\"majmin\"] = np.where(org_test[colname_to_bin] == majority_value, \"majority\", \"minority\")"
   ]
  },
  {
   "cell_type": "code",
   "execution_count": 58,
   "id": "17e3e4d5",
   "metadata": {
    "execution": {
     "iopub.execute_input": "2025-08-19T18:24:45.273553Z",
     "iopub.status.busy": "2025-08-19T18:24:45.271989Z",
     "iopub.status.idle": "2025-08-19T18:24:47.019810Z",
     "shell.execute_reply": "2025-08-19T18:24:47.018644Z"
    },
    "papermill": {
     "duration": 1.763766,
     "end_time": "2025-08-19T18:24:47.021610",
     "exception": false,
     "start_time": "2025-08-19T18:24:45.257844",
     "status": "completed"
    },
    "tags": []
   },
   "outputs": [],
   "source": [
    "example_universe = universe.copy()\n",
    "example_universe[\"cutoff\"] = example_universe[\"cutoff\"][0]\n",
    "example_universe[\"eval_fairness_grouping\"] = example_universe[\"eval_fairness_grouping\"][0]\n",
    "fairness_dict, metric_frame = universe_analysis.compute_metrics(\n",
    "    example_universe,\n",
    "    y_pred_prob=probs_test,\n",
    "    y_test=y_true,\n",
    "    org_test=org_test,\n",
    ")"
   ]
  },
  {
   "cell_type": "markdown",
   "id": "1fb7a0e9",
   "metadata": {
    "papermill": {
     "duration": 0.027161,
     "end_time": "2025-08-19T18:24:47.064684",
     "exception": false,
     "start_time": "2025-08-19T18:24:47.037523",
     "status": "completed"
    },
    "tags": []
   },
   "source": [
    "# Overall"
   ]
  },
  {
   "cell_type": "markdown",
   "id": "be1784b1",
   "metadata": {
    "papermill": {
     "duration": 0.027309,
     "end_time": "2025-08-19T18:24:47.105801",
     "exception": false,
     "start_time": "2025-08-19T18:24:47.078492",
     "status": "completed"
    },
    "tags": []
   },
   "source": [
    "Main fairness target: Equalized Odds. Seems to be a better fit than equal opportunity, since we're not only interested in Y = 1. Seems to be a better fit than demographic parity, since we also care about accuracy, not just equal distribution of preds.\n",
    "\n",
    "Pick column for computation of fairness metrics\n",
    "\n",
    "Performance\n",
    "Overall performance measures, most interesting in relation to the measures split by group below"
   ]
  },
  {
   "cell_type": "code",
   "execution_count": 59,
   "id": "b7672bee",
   "metadata": {
    "execution": {
     "iopub.execute_input": "2025-08-19T18:24:47.139578Z",
     "iopub.status.busy": "2025-08-19T18:24:47.139083Z",
     "iopub.status.idle": "2025-08-19T18:24:47.147145Z",
     "shell.execute_reply": "2025-08-19T18:24:47.146475Z"
    },
    "papermill": {
     "duration": 0.024483,
     "end_time": "2025-08-19T18:24:47.148397",
     "exception": false,
     "start_time": "2025-08-19T18:24:47.123914",
     "status": "completed"
    },
    "tags": []
   },
   "outputs": [
    {
     "data": {
      "text/plain": [
       "accuracy                   0.193334\n",
       "balanced accuracy          0.531533\n",
       "f1                         0.238814\n",
       "precision                  0.135851\n",
       "false positive rate        0.923378\n",
       "false negative rate        0.013556\n",
       "selection rate             0.931468\n",
       "count                  89710.000000\n",
       "dtype: float64"
      ]
     },
     "execution_count": 59,
     "metadata": {},
     "output_type": "execute_result"
    }
   ],
   "source": [
    "metric_frame.overall"
   ]
  },
  {
   "cell_type": "markdown",
   "id": "d93333c9",
   "metadata": {
    "papermill": {
     "duration": 0.029983,
     "end_time": "2025-08-19T18:24:47.193777",
     "exception": false,
     "start_time": "2025-08-19T18:24:47.163794",
     "status": "completed"
    },
    "tags": []
   },
   "source": [
    "By Group"
   ]
  },
  {
   "cell_type": "code",
   "execution_count": 60,
   "id": "52256966",
   "metadata": {
    "execution": {
     "iopub.execute_input": "2025-08-19T18:24:47.223471Z",
     "iopub.status.busy": "2025-08-19T18:24:47.223074Z",
     "iopub.status.idle": "2025-08-19T18:24:47.235215Z",
     "shell.execute_reply": "2025-08-19T18:24:47.234559Z"
    },
    "papermill": {
     "duration": 0.029073,
     "end_time": "2025-08-19T18:24:47.236599",
     "exception": false,
     "start_time": "2025-08-19T18:24:47.207526",
     "status": "completed"
    },
    "tags": []
   },
   "outputs": [
    {
     "data": {
      "text/html": [
       "<div>\n",
       "<style scoped>\n",
       "    .dataframe tbody tr th:only-of-type {\n",
       "        vertical-align: middle;\n",
       "    }\n",
       "\n",
       "    .dataframe tbody tr th {\n",
       "        vertical-align: top;\n",
       "    }\n",
       "\n",
       "    .dataframe thead th {\n",
       "        text-align: right;\n",
       "    }\n",
       "</style>\n",
       "<table border=\"1\" class=\"dataframe\">\n",
       "  <thead>\n",
       "    <tr style=\"text-align: right;\">\n",
       "      <th></th>\n",
       "      <th>accuracy</th>\n",
       "      <th>balanced accuracy</th>\n",
       "      <th>f1</th>\n",
       "      <th>precision</th>\n",
       "      <th>false positive rate</th>\n",
       "      <th>false negative rate</th>\n",
       "      <th>selection rate</th>\n",
       "      <th>count</th>\n",
       "    </tr>\n",
       "    <tr>\n",
       "      <th>majmin</th>\n",
       "      <th></th>\n",
       "      <th></th>\n",
       "      <th></th>\n",
       "      <th></th>\n",
       "      <th></th>\n",
       "      <th></th>\n",
       "      <th></th>\n",
       "      <th></th>\n",
       "    </tr>\n",
       "  </thead>\n",
       "  <tbody>\n",
       "    <tr>\n",
       "      <th>majority</th>\n",
       "      <td>0.199682</td>\n",
       "      <td>0.534369</td>\n",
       "      <td>0.246235</td>\n",
       "      <td>0.140618</td>\n",
       "      <td>0.920540</td>\n",
       "      <td>0.010722</td>\n",
       "      <td>0.929623</td>\n",
       "      <td>69170.0</td>\n",
       "    </tr>\n",
       "    <tr>\n",
       "      <th>minority</th>\n",
       "      <td>0.171957</td>\n",
       "      <td>0.521377</td>\n",
       "      <td>0.213612</td>\n",
       "      <td>0.119938</td>\n",
       "      <td>0.932754</td>\n",
       "      <td>0.024493</td>\n",
       "      <td>0.937683</td>\n",
       "      <td>20540.0</td>\n",
       "    </tr>\n",
       "  </tbody>\n",
       "</table>\n",
       "</div>"
      ],
      "text/plain": [
       "          accuracy  balanced accuracy        f1  precision  \\\n",
       "majmin                                                       \n",
       "majority  0.199682           0.534369  0.246235   0.140618   \n",
       "minority  0.171957           0.521377  0.213612   0.119938   \n",
       "\n",
       "          false positive rate  false negative rate  selection rate    count  \n",
       "majmin                                                                       \n",
       "majority             0.920540             0.010722        0.929623  69170.0  \n",
       "minority             0.932754             0.024493        0.937683  20540.0  "
      ]
     },
     "execution_count": 60,
     "metadata": {},
     "output_type": "execute_result"
    }
   ],
   "source": [
    "metric_frame.by_group"
   ]
  },
  {
   "cell_type": "code",
   "execution_count": 61,
   "id": "6e6c20ae",
   "metadata": {
    "execution": {
     "iopub.execute_input": "2025-08-19T18:24:47.270815Z",
     "iopub.status.busy": "2025-08-19T18:24:47.269956Z",
     "iopub.status.idle": "2025-08-19T18:24:49.141350Z",
     "shell.execute_reply": "2025-08-19T18:24:49.140278Z"
    },
    "papermill": {
     "duration": 1.88908,
     "end_time": "2025-08-19T18:24:49.142709",
     "exception": false,
     "start_time": "2025-08-19T18:24:47.253629",
     "status": "completed"
    },
    "tags": []
   },
   "outputs": [
    {
     "data": {
      "text/plain": [
       "array([[<Axes: title={'center': 'accuracy'}, xlabel='majmin'>,\n",
       "        <Axes: title={'center': 'balanced accuracy'}, xlabel='majmin'>,\n",
       "        <Axes: title={'center': 'f1'}, xlabel='majmin'>],\n",
       "       [<Axes: title={'center': 'precision'}, xlabel='majmin'>,\n",
       "        <Axes: title={'center': 'false positive rate'}, xlabel='majmin'>,\n",
       "        <Axes: title={'center': 'false negative rate'}, xlabel='majmin'>],\n",
       "       [<Axes: title={'center': 'selection rate'}, xlabel='majmin'>,\n",
       "        <Axes: title={'center': 'count'}, xlabel='majmin'>,\n",
       "        <Axes: xlabel='majmin'>]], dtype=object)"
      ]
     },
     "execution_count": 61,
     "metadata": {},
     "output_type": "execute_result"
    },
    {
     "data": {
      "image/png": "[encoded data removed]",
      "text/plain": [
       "<Figure size 1200x800 with 9 Axes>"
      ]
     },
     "metadata": {},
     "output_type": "display_data"
    }
   ],
   "source": [
    "# In a graphic\n",
    "metric_frame.by_group.plot.bar(\n",
    "    subplots=True,\n",
    "    layout=[3, 3],\n",
    "    legend=False,\n",
    "    figsize=[12, 8],\n",
    "    title=\"Show all metrics\",\n",
    ")"
   ]
  },
  {
   "cell_type": "markdown",
   "id": "b2e433ae",
   "metadata": {
    "papermill": {
     "duration": 0.014798,
     "end_time": "2025-08-19T18:24:49.173241",
     "exception": false,
     "start_time": "2025-08-19T18:24:49.158443",
     "status": "completed"
    },
    "tags": []
   },
   "source": [
    "# Final Output"
   ]
  },
  {
   "cell_type": "code",
   "execution_count": 62,
   "id": "3871301e",
   "metadata": {
    "execution": {
     "iopub.execute_input": "2025-08-19T18:24:49.202949Z",
     "iopub.status.busy": "2025-08-19T18:24:49.202216Z",
     "iopub.status.idle": "2025-08-19T18:24:49.213788Z",
     "shell.execute_reply": "2025-08-19T18:24:49.212068Z"
    },
    "papermill": {
     "duration": 0.028164,
     "end_time": "2025-08-19T18:24:49.215219",
     "exception": false,
     "start_time": "2025-08-19T18:24:49.187055",
     "status": "completed"
    },
    "tags": []
   },
   "outputs": [
    {
     "data": {
      "text/plain": [
       "4"
      ]
     },
     "execution_count": 62,
     "metadata": {},
     "output_type": "execute_result"
    }
   ],
   "source": [
    "sub_universes = universe_analysis.generate_sub_universes()\n",
    "len(sub_universes)"
   ]
  },
  {
   "cell_type": "code",
   "execution_count": 63,
   "id": "d9cfdaca",
   "metadata": {
    "execution": {
     "iopub.execute_input": "2025-08-19T18:24:49.244545Z",
     "iopub.status.busy": "2025-08-19T18:24:49.244135Z",
     "iopub.status.idle": "2025-08-19T18:24:49.300806Z",
     "shell.execute_reply": "2025-08-19T18:24:49.298751Z"
    },
    "papermill": {
     "duration": 0.075212,
     "end_time": "2025-08-19T18:24:49.304739",
     "exception": false,
     "start_time": "2025-08-19T18:24:49.229527",
     "status": "completed"
    },
    "tags": []
   },
   "outputs": [],
   "source": [
    "def filter_sub_universe_data(sub_universe, org_test):\n",
    "    # Keep all rows — no filtering\n",
    "    keep_rows_mask = np.ones(org_test.shape[0], dtype=bool)\n",
    "\n",
    "    print(f\"[INFO] Keeping all rows: {keep_rows_mask.sum()} rows retained.\")\n",
    "    return keep_rows_mask"
   ]
  },
  {
   "cell_type": "code",
   "execution_count": 64,
   "id": "2bc31ac1",
   "metadata": {
    "execution": {
     "iopub.execute_input": "2025-08-19T18:24:49.349693Z",
     "iopub.status.busy": "2025-08-19T18:24:49.349405Z",
     "iopub.status.idle": "2025-08-19T18:24:56.090280Z",
     "shell.execute_reply": "2025-08-19T18:24:56.089320Z"
    },
    "papermill": {
     "duration": 6.75814,
     "end_time": "2025-08-19T18:24:56.091569",
     "exception": false,
     "start_time": "2025-08-19T18:24:49.333429",
     "status": "completed"
    },
    "tags": []
   },
   "outputs": [
    {
     "name": "stdout",
     "output_type": "stream",
     "text": [
      "Stopping execution_time clock.\n",
      "[INFO] Keeping all rows: 89710 rows retained.\n"
     ]
    },
    {
     "name": "stdout",
     "output_type": "stream",
     "text": [
      "[INFO] Keeping all rows: 89710 rows retained.\n"
     ]
    },
    {
     "name": "stdout",
     "output_type": "stream",
     "text": [
      "[INFO] Keeping all rows: 89710 rows retained.\n"
     ]
    },
    {
     "name": "stdout",
     "output_type": "stream",
     "text": [
      "[INFO] Keeping all rows: 89710 rows retained.\n"
     ]
    },
    {
     "data": {
      "text/html": [
       "<div>\n",
       "<style scoped>\n",
       "    .dataframe tbody tr th:only-of-type {\n",
       "        vertical-align: middle;\n",
       "    }\n",
       "\n",
       "    .dataframe tbody tr th {\n",
       "        vertical-align: top;\n",
       "    }\n",
       "\n",
       "    .dataframe thead th {\n",
       "        text-align: right;\n",
       "    }\n",
       "</style>\n",
       "<table border=\"1\" class=\"dataframe\">\n",
       "  <thead>\n",
       "    <tr style=\"text-align: right;\">\n",
       "      <th></th>\n",
       "      <th>run_no</th>\n",
       "      <th>universe_id</th>\n",
       "      <th>universe_settings</th>\n",
       "      <th>execution_time</th>\n",
       "      <th>test_size_n</th>\n",
       "      <th>test_size_frac</th>\n",
       "      <th>fair_main_equalized_odds_difference</th>\n",
       "      <th>fair_main_equalized_odds_ratio</th>\n",
       "      <th>fair_main_demographic_parity_difference</th>\n",
       "      <th>fair_main_demographic_parity_ratio</th>\n",
       "      <th>...</th>\n",
       "      <th>perf_grp_precision_0</th>\n",
       "      <th>perf_grp_precision_1</th>\n",
       "      <th>perf_grp_false positive rate_0</th>\n",
       "      <th>perf_grp_false positive rate_1</th>\n",
       "      <th>perf_grp_false negative rate_0</th>\n",
       "      <th>perf_grp_false negative rate_1</th>\n",
       "      <th>perf_grp_selection rate_0</th>\n",
       "      <th>perf_grp_selection rate_1</th>\n",
       "      <th>perf_grp_count_0</th>\n",
       "      <th>perf_grp_count_1</th>\n",
       "    </tr>\n",
       "  </thead>\n",
       "  <tbody>\n",
       "    <tr>\n",
       "      <th>0</th>\n",
       "      <td>3</td>\n",
       "      <td>6b3586fa7b6001a77f25f6f6ad03949d</td>\n",
       "      <td>{\"cutoff\": \"quantile_0.1\", \"eval_fairness_grou...</td>\n",
       "      <td>28.114311</td>\n",
       "      <td>89710</td>\n",
       "      <td>1.0</td>\n",
       "      <td>0.013771</td>\n",
       "      <td>0.986080</td>\n",
       "      <td>0.008060</td>\n",
       "      <td>0.991404</td>\n",
       "      <td>...</td>\n",
       "      <td>NaN</td>\n",
       "      <td>NaN</td>\n",
       "      <td>NaN</td>\n",
       "      <td>NaN</td>\n",
       "      <td>NaN</td>\n",
       "      <td>NaN</td>\n",
       "      <td>NaN</td>\n",
       "      <td>NaN</td>\n",
       "      <td>NaN</td>\n",
       "      <td>NaN</td>\n",
       "    </tr>\n",
       "    <tr>\n",
       "      <th>0</th>\n",
       "      <td>3</td>\n",
       "      <td>6b3586fa7b6001a77f25f6f6ad03949d</td>\n",
       "      <td>{\"cutoff\": \"quantile_0.1\", \"eval_fairness_grou...</td>\n",
       "      <td>28.114311</td>\n",
       "      <td>89710</td>\n",
       "      <td>1.0</td>\n",
       "      <td>0.013771</td>\n",
       "      <td>0.986080</td>\n",
       "      <td>0.008060</td>\n",
       "      <td>0.991404</td>\n",
       "      <td>...</td>\n",
       "      <td>0.119938</td>\n",
       "      <td>0.140618</td>\n",
       "      <td>0.932754</td>\n",
       "      <td>0.920540</td>\n",
       "      <td>0.024493</td>\n",
       "      <td>0.010722</td>\n",
       "      <td>0.937683</td>\n",
       "      <td>0.929623</td>\n",
       "      <td>20540.0</td>\n",
       "      <td>69170.0</td>\n",
       "    </tr>\n",
       "    <tr>\n",
       "      <th>0</th>\n",
       "      <td>3</td>\n",
       "      <td>6b3586fa7b6001a77f25f6f6ad03949d</td>\n",
       "      <td>{\"cutoff\": \"quantile_0.25\", \"eval_fairness_gro...</td>\n",
       "      <td>28.114311</td>\n",
       "      <td>89710</td>\n",
       "      <td>1.0</td>\n",
       "      <td>0.030488</td>\n",
       "      <td>0.959937</td>\n",
       "      <td>0.020144</td>\n",
       "      <td>0.974132</td>\n",
       "      <td>...</td>\n",
       "      <td>NaN</td>\n",
       "      <td>NaN</td>\n",
       "      <td>NaN</td>\n",
       "      <td>NaN</td>\n",
       "      <td>NaN</td>\n",
       "      <td>NaN</td>\n",
       "      <td>NaN</td>\n",
       "      <td>NaN</td>\n",
       "      <td>NaN</td>\n",
       "      <td>NaN</td>\n",
       "    </tr>\n",
       "    <tr>\n",
       "      <th>0</th>\n",
       "      <td>3</td>\n",
       "      <td>6b3586fa7b6001a77f25f6f6ad03949d</td>\n",
       "      <td>{\"cutoff\": \"quantile_0.25\", \"eval_fairness_gro...</td>\n",
       "      <td>28.114311</td>\n",
       "      <td>89710</td>\n",
       "      <td>1.0</td>\n",
       "      <td>0.030488</td>\n",
       "      <td>0.959937</td>\n",
       "      <td>0.020144</td>\n",
       "      <td>0.974132</td>\n",
       "      <td>...</td>\n",
       "      <td>0.135417</td>\n",
       "      <td>0.164243</td>\n",
       "      <td>0.761006</td>\n",
       "      <td>0.730518</td>\n",
       "      <td>0.085304</td>\n",
       "      <td>0.057112</td>\n",
       "      <td>0.778724</td>\n",
       "      <td>0.758580</td>\n",
       "      <td>20540.0</td>\n",
       "      <td>69170.0</td>\n",
       "    </tr>\n",
       "  </tbody>\n",
       "</table>\n",
       "<p>4 rows × 50 columns</p>\n",
       "</div>"
      ],
      "text/plain": [
       "  run_no                       universe_id  \\\n",
       "0      3  6b3586fa7b6001a77f25f6f6ad03949d   \n",
       "0      3  6b3586fa7b6001a77f25f6f6ad03949d   \n",
       "0      3  6b3586fa7b6001a77f25f6f6ad03949d   \n",
       "0      3  6b3586fa7b6001a77f25f6f6ad03949d   \n",
       "\n",
       "                                   universe_settings  execution_time  \\\n",
       "0  {\"cutoff\": \"quantile_0.1\", \"eval_fairness_grou...       28.114311   \n",
       "0  {\"cutoff\": \"quantile_0.1\", \"eval_fairness_grou...       28.114311   \n",
       "0  {\"cutoff\": \"quantile_0.25\", \"eval_fairness_gro...       28.114311   \n",
       "0  {\"cutoff\": \"quantile_0.25\", \"eval_fairness_gro...       28.114311   \n",
       "\n",
       "   test_size_n  test_size_frac  fair_main_equalized_odds_difference  \\\n",
       "0        89710             1.0                             0.013771   \n",
       "0        89710             1.0                             0.013771   \n",
       "0        89710             1.0                             0.030488   \n",
       "0        89710             1.0                             0.030488   \n",
       "\n",
       "   fair_main_equalized_odds_ratio  fair_main_demographic_parity_difference  \\\n",
       "0                        0.986080                                 0.008060   \n",
       "0                        0.986080                                 0.008060   \n",
       "0                        0.959937                                 0.020144   \n",
       "0                        0.959937                                 0.020144   \n",
       "\n",
       "   fair_main_demographic_parity_ratio  ...  perf_grp_precision_0  \\\n",
       "0                            0.991404  ...                   NaN   \n",
       "0                            0.991404  ...              0.119938   \n",
       "0                            0.974132  ...                   NaN   \n",
       "0                            0.974132  ...              0.135417   \n",
       "\n",
       "   perf_grp_precision_1  perf_grp_false positive rate_0  \\\n",
       "0                   NaN                             NaN   \n",
       "0              0.140618                        0.932754   \n",
       "0                   NaN                             NaN   \n",
       "0              0.164243                        0.761006   \n",
       "\n",
       "   perf_grp_false positive rate_1  perf_grp_false negative rate_0  \\\n",
       "0                             NaN                             NaN   \n",
       "0                        0.920540                        0.024493   \n",
       "0                             NaN                             NaN   \n",
       "0                        0.730518                        0.085304   \n",
       "\n",
       "   perf_grp_false negative rate_1  perf_grp_selection rate_0  \\\n",
       "0                             NaN                        NaN   \n",
       "0                        0.010722                   0.937683   \n",
       "0                             NaN                        NaN   \n",
       "0                        0.057112                   0.778724   \n",
       "\n",
       "   perf_grp_selection rate_1  perf_grp_count_0  perf_grp_count_1  \n",
       "0                        NaN               NaN               NaN  \n",
       "0                   0.929623           20540.0           69170.0  \n",
       "0                        NaN               NaN               NaN  \n",
       "0                   0.758580           20540.0           69170.0  \n",
       "\n",
       "[4 rows x 50 columns]"
      ]
     },
     "execution_count": 64,
     "metadata": {},
     "output_type": "execute_result"
    }
   ],
   "source": [
    "final_output = universe_analysis.generate_final_output(\n",
    "    y_pred_prob=probs_test,\n",
    "    y_test=y_true,\n",
    "    org_test=org_test,\n",
    "    filter_data=filter_sub_universe_data,\n",
    "    cp_metrics_df=cp_metrics_df,\n",
    "    save=True,\n",
    ")\n",
    "final_output"
   ]
  },
  {
   "cell_type": "code",
   "execution_count": null,
   "id": "8b80a1ff",
   "metadata": {
    "papermill": {
     "duration": 0.014807,
     "end_time": "2025-08-19T18:24:56.124047",
     "exception": false,
     "start_time": "2025-08-19T18:24:56.109240",
     "status": "completed"
    },
    "tags": []
   },
   "outputs": [],
   "source": []
  },
  {
   "cell_type": "code",
   "execution_count": null,
   "id": "275c9fad",
   "metadata": {
    "papermill": {
     "duration": 0.01422,
     "end_time": "2025-08-19T18:24:56.152856",
     "exception": false,
     "start_time": "2025-08-19T18:24:56.138636",
     "status": "completed"
    },
    "tags": []
   },
   "outputs": [],
   "source": []
  }
 ],
 "metadata": {
  "celltoolbar": "Tags",
  "kernelspec": {
   "display_name": "Python (CMA Fairness)",
   "language": "python",
   "name": "cma_fair_env"
  },
  "language_info": {
   "codemirror_mode": {
    "name": "ipython",
    "version": 3
   },
   "file_extension": ".py",
   "mimetype": "text/x-python",
   "name": "python",
   "nbconvert_exporter": "python",
   "pygments_lexer": "ipython3",
   "version": "3.10.12"
  },
  "papermill": {
   "default_parameters": {},
   "duration": 38.401216,
   "end_time": "2025-08-19T18:24:56.888196",
   "environment_variables": {},
   "exception": null,
   "input_path": "universe_analysis.ipynb",
   "output_path": "output/runs/3/notebooks/m_3-6b3586fa7b6001a77f25f6f6ad03949d.ipynb",
   "parameters": {
    "output_dir": "output",
    "run_no": "3",
    "seed": "2023",
    "universe": "{\"cutoff\": [\"quantile_0.1\", \"quantile_0.25\"], \"eval_fairness_grouping\": [\"majority-minority\", \"nationality-all\"], \"exclude_features\": \"nationality\", \"exclude_subgroups\": \"drop-non-german\", \"model\": \"rf\", \"scale\": \"scale\", \"training_size\": \"5k\", \"training_year\": \"2014\"}",
    "universe_id": "6b3586fa7b6001a77f25f6f6ad03949d"
   },
   "start_time": "2025-08-19T18:24:18.486980",
   "version": "2.6.0"
  }
 },
 "nbformat": 4,
 "nbformat_minor": 5
}