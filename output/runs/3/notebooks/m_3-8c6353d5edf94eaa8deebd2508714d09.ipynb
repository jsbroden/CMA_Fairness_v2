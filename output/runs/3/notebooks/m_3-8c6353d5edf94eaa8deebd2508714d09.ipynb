{
 "cells": [
  {
   "cell_type": "markdown",
   "id": "ef23dbb3",
   "metadata": {
    "papermill": {
     "duration": 0.009883,
     "end_time": "2025-08-19T19:06:02.539417",
     "exception": false,
     "start_time": "2025-08-19T19:06:02.529534",
     "status": "completed"
    },
    "tags": []
   },
   "source": [
    "# Setup"
   ]
  },
  {
   "cell_type": "code",
   "execution_count": 1,
   "id": "0bc8e7dc",
   "metadata": {
    "execution": {
     "iopub.execute_input": "2025-08-19T19:06:02.565190Z",
     "iopub.status.busy": "2025-08-19T19:06:02.559523Z",
     "iopub.status.idle": "2025-08-19T19:06:02.588491Z",
     "shell.execute_reply": "2025-08-19T19:06:02.587771Z"
    },
    "papermill": {
     "duration": 0.04127,
     "end_time": "2025-08-19T19:06:02.589853",
     "exception": false,
     "start_time": "2025-08-19T19:06:02.548583",
     "status": "completed"
    },
    "tags": []
   },
   "outputs": [
    {
     "name": "stdout",
     "output_type": "stream",
     "text": [
      "/dss/dsshome1/0C/ra93lal2/cma/CMA_Fairness_v2\n"
     ]
    },
    {
     "name": "stderr",
     "output_type": "stream",
     "text": [
      "/dss/dsshome1/0C/ra93lal2/.local/share/virtualenvs/CMA_Fairness_v2-3j10GkSs/lib/python3.10/site-packages/IPython/core/magics/osm.py:393: UserWarning: This is now an optional IPython functionality, using bookmarks requires you to install the `pickleshare` library.\n",
      "  bkms = self.shell.db.get('bookmarks', {})\n",
      "/dss/dsshome1/0C/ra93lal2/.local/share/virtualenvs/CMA_Fairness_v2-3j10GkSs/lib/python3.10/site-packages/IPython/core/magics/osm.py:417: UserWarning: This is now an optional IPython functionality, setting dhist requires you to install the `pickleshare` library.\n",
      "  self.shell.db['dhist'] = compress_dhist(dhist)[-100:]\n"
     ]
    }
   ],
   "source": [
    "%cd ~/cma/CMA_Fairness_v2"
   ]
  },
  {
   "cell_type": "markdown",
   "id": "9d235661",
   "metadata": {
    "papermill": {
     "duration": 0.010304,
     "end_time": "2025-08-19T19:06:02.609290",
     "exception": false,
     "start_time": "2025-08-19T19:06:02.598986",
     "status": "completed"
    },
    "tags": []
   },
   "source": [
    "The following cell holds the definition of our parameters, these values can be overriden by rendering the with e.g. the following command:\n",
    "\n",
    "papermill -p alpha 0.2 -p ratio 0.3 universe_analysis.ipynb output/test_run.ipynb"
   ]
  },
  {
   "cell_type": "code",
   "execution_count": 2,
   "id": "4a789d8e",
   "metadata": {
    "execution": {
     "iopub.execute_input": "2025-08-19T19:06:02.637509Z",
     "iopub.status.busy": "2025-08-19T19:06:02.637176Z",
     "iopub.status.idle": "2025-08-19T19:06:02.642928Z",
     "shell.execute_reply": "2025-08-19T19:06:02.642174Z"
    },
    "papermill": {
     "duration": 0.029322,
     "end_time": "2025-08-19T19:06:02.648330",
     "exception": false,
     "start_time": "2025-08-19T19:06:02.619008",
     "status": "completed"
    },
    "tags": []
   },
   "outputs": [
    {
     "name": "stdout",
     "output_type": "stream",
     "text": [
      "Current working directory: /dss/dsshome1/0C/ra93lal2/cma/CMA_Fairness_v2\n"
     ]
    }
   ],
   "source": [
    "import os\n",
    "print(\"Current working directory:\", os.getcwd())"
   ]
  },
  {
   "cell_type": "code",
   "execution_count": 3,
   "id": "4132aaed",
   "metadata": {
    "execution": {
     "iopub.execute_input": "2025-08-19T19:06:02.668615Z",
     "iopub.status.busy": "2025-08-19T19:06:02.668286Z",
     "iopub.status.idle": "2025-08-19T19:06:02.687961Z",
     "shell.execute_reply": "2025-08-19T19:06:02.687203Z"
    },
    "papermill": {
     "duration": 0.03149,
     "end_time": "2025-08-19T19:06:02.689634",
     "exception": false,
     "start_time": "2025-08-19T19:06:02.658144",
     "status": "completed"
    },
    "tags": [
     "parameters"
    ]
   },
   "outputs": [],
   "source": [
    "run_no = 0\n",
    "universe_id = \"test\"\n",
    "universe = {\n",
    "    \"training_size\": \"5k\", # \"25k\", \"5k\", \"1k\"\n",
    "    \"training_year\": \"2012_14\", # \"2014\", \"2012_14\", \"2010_14\"\n",
    "    \"scale\": \"scale\", # \"scale\", \"do-not-scale\",\n",
    "    \"model\": \"elasticnet\", # \"logreg\", \"penalized_logreg\", \"rf\", \"gbm\", \"elasticnet\"\n",
    "    \"cutoff\": [\"quantile_0.15\", \"quantile_0.30\"],\n",
    "    \"exclude_features\": \"age\", # \"none\", \"nationality\", \"sex\", \"nationality-sex\", \"age\"\n",
    "    \"exclude_subgroups\": \"drop-non-german\", # \"keep-all\", \"drop-non-german\"\n",
    "    \"eval_fairness_grouping\": [\"majority-minority\", \"nationality-all\"]\n",
    "}\n",
    "\n",
    "output_dir=\"./output\"\n",
    "seed=0"
   ]
  },
  {
   "cell_type": "code",
   "execution_count": 4,
   "id": "52743c8b",
   "metadata": {
    "execution": {
     "iopub.execute_input": "2025-08-19T19:06:02.714660Z",
     "iopub.status.busy": "2025-08-19T19:06:02.714362Z",
     "iopub.status.idle": "2025-08-19T19:06:02.818697Z",
     "shell.execute_reply": "2025-08-19T19:06:02.817962Z"
    },
    "papermill": {
     "duration": 0.119441,
     "end_time": "2025-08-19T19:06:02.822192",
     "exception": false,
     "start_time": "2025-08-19T19:06:02.702751",
     "status": "completed"
    },
    "tags": [
     "injected-parameters"
    ]
   },
   "outputs": [],
   "source": [
    "# Parameters\n",
    "universe_id = \"8c6353d5edf94eaa8deebd2508714d09\"\n",
    "run_no = \"3\"\n",
    "universe = \"{\\\"cutoff\\\": [\\\"quantile_0.1\\\", \\\"quantile_0.25\\\"], \\\"eval_fairness_grouping\\\": [\\\"majority-minority\\\", \\\"nationality-all\\\"], \\\"exclude_features\\\": \\\"none\\\", \\\"exclude_subgroups\\\": \\\"keep-all\\\", \\\"model\\\": \\\"rf\\\", \\\"scale\\\": \\\"scale\\\", \\\"training_size\\\": \\\"1k\\\", \\\"training_year\\\": \\\"2010_14\\\"}\"\n",
    "output_dir = \"output\"\n",
    "seed = \"2023\"\n"
   ]
  },
  {
   "cell_type": "code",
   "execution_count": 5,
   "id": "a5d7941f",
   "metadata": {
    "execution": {
     "iopub.execute_input": "2025-08-19T19:06:02.860327Z",
     "iopub.status.busy": "2025-08-19T19:06:02.859801Z",
     "iopub.status.idle": "2025-08-19T19:06:02.864014Z",
     "shell.execute_reply": "2025-08-19T19:06:02.863345Z"
    },
    "papermill": {
     "duration": 0.021234,
     "end_time": "2025-08-19T19:06:02.866311",
     "exception": false,
     "start_time": "2025-08-19T19:06:02.845077",
     "status": "completed"
    },
    "tags": []
   },
   "outputs": [],
   "source": [
    "import json\n",
    "if isinstance(universe, str):\n",
    "    universe = json.loads(universe)"
   ]
  },
  {
   "cell_type": "code",
   "execution_count": 6,
   "id": "7076ccb1",
   "metadata": {
    "execution": {
     "iopub.execute_input": "2025-08-19T19:06:02.901313Z",
     "iopub.status.busy": "2025-08-19T19:06:02.900811Z",
     "iopub.status.idle": "2025-08-19T19:06:02.940853Z",
     "shell.execute_reply": "2025-08-19T19:06:02.940125Z"
    },
    "papermill": {
     "duration": 0.054495,
     "end_time": "2025-08-19T19:06:02.942286",
     "exception": false,
     "start_time": "2025-08-19T19:06:02.887791",
     "status": "completed"
    },
    "tags": []
   },
   "outputs": [],
   "source": [
    "# Auto-reload the custom package\n",
    "%load_ext autoreload\n",
    "%autoreload 1\n",
    "%aimport fairness_multiverse"
   ]
  },
  {
   "cell_type": "code",
   "execution_count": 7,
   "id": "94c8eb93",
   "metadata": {
    "execution": {
     "iopub.execute_input": "2025-08-19T19:06:02.962020Z",
     "iopub.status.busy": "2025-08-19T19:06:02.961619Z",
     "iopub.status.idle": "2025-08-19T19:06:04.625877Z",
     "shell.execute_reply": "2025-08-19T19:06:04.625034Z"
    },
    "papermill": {
     "duration": 1.67584,
     "end_time": "2025-08-19T19:06:04.627423",
     "exception": false,
     "start_time": "2025-08-19T19:06:02.951583",
     "status": "completed"
    },
    "tags": []
   },
   "outputs": [],
   "source": [
    "from fairness_multiverse.universe import UniverseAnalysis\n",
    "\n",
    "universe_analysis = UniverseAnalysis(\n",
    "    run_no = run_no,\n",
    "    universe_id = universe_id,\n",
    "    universe = universe,\n",
    "    output_dir=output_dir,\n",
    ")"
   ]
  },
  {
   "cell_type": "code",
   "execution_count": 8,
   "id": "2a6381cf",
   "metadata": {
    "execution": {
     "iopub.execute_input": "2025-08-19T19:06:04.651440Z",
     "iopub.status.busy": "2025-08-19T19:06:04.650403Z",
     "iopub.status.idle": "2025-08-19T19:06:04.657400Z",
     "shell.execute_reply": "2025-08-19T19:06:04.656395Z"
    },
    "papermill": {
     "duration": 0.018859,
     "end_time": "2025-08-19T19:06:04.658883",
     "exception": false,
     "start_time": "2025-08-19T19:06:04.640024",
     "status": "completed"
    },
    "tags": []
   },
   "outputs": [
    {
     "name": "stdout",
     "output_type": "stream",
     "text": [
      "Using Seed: 2023\n"
     ]
    }
   ],
   "source": [
    "import numpy as np\n",
    "parsed_seed = int(seed)\n",
    "np.random.seed(parsed_seed)\n",
    "print(f\"Using Seed: {parsed_seed}\")"
   ]
  },
  {
   "cell_type": "markdown",
   "id": "b6e958b4",
   "metadata": {
    "papermill": {
     "duration": 0.009296,
     "end_time": "2025-08-19T19:06:04.678218",
     "exception": false,
     "start_time": "2025-08-19T19:06:04.668922",
     "status": "completed"
    },
    "tags": []
   },
   "source": [
    "# Loading Data"
   ]
  },
  {
   "cell_type": "code",
   "execution_count": 9,
   "id": "98701482",
   "metadata": {
    "execution": {
     "iopub.execute_input": "2025-08-19T19:06:04.699266Z",
     "iopub.status.busy": "2025-08-19T19:06:04.698168Z",
     "iopub.status.idle": "2025-08-19T19:06:15.109340Z",
     "shell.execute_reply": "2025-08-19T19:06:15.105917Z"
    },
    "papermill": {
     "duration": 10.424132,
     "end_time": "2025-08-19T19:06:15.111464",
     "exception": false,
     "start_time": "2025-08-19T19:06:04.687332",
     "status": "completed"
    },
    "tags": []
   },
   "outputs": [
    {
     "name": "stdout",
     "output_type": "stream",
     "text": [
      "Loading SIAB data from cache: data/siab_cached.csv.gz\n"
     ]
    },
    {
     "name": "stdout",
     "output_type": "stream",
     "text": [
      "(643690, 164)\n"
     ]
    }
   ],
   "source": [
    "from pathlib import Path\n",
    "import pandas as pd\n",
    "\n",
    "# File paths\n",
    "raw_file = Path(\"data/raw/siab.csv\")\n",
    "cache_file = Path(\"data/siab_cached.csv.gz\")\n",
    "\n",
    "# Ensure cache directory exists\n",
    "cache_file.parent.mkdir(parents=True, exist_ok=True)\n",
    "\n",
    "# Load with simple caching\n",
    "if cache_file.exists():\n",
    "    print(f\"Loading SIAB data from cache: {cache_file}\")\n",
    "    siab = pd.read_csv(cache_file, compression='gzip')\n",
    "else:\n",
    "    print(f\"Cache not found. Reading raw SIAB data: {raw_file}\")\n",
    "    siab = pd.read_csv(raw_file)\n",
    "    siab.to_csv(cache_file, index=False, compression='gzip')\n",
    "    print(f\"Cached SIAB data to: {cache_file}\")\n",
    "\n",
    "print(siab.shape)"
   ]
  },
  {
   "cell_type": "code",
   "execution_count": 10,
   "id": "058d2abb",
   "metadata": {
    "execution": {
     "iopub.execute_input": "2025-08-19T19:06:15.142010Z",
     "iopub.status.busy": "2025-08-19T19:06:15.135832Z",
     "iopub.status.idle": "2025-08-19T19:06:15.268092Z",
     "shell.execute_reply": "2025-08-19T19:06:15.267217Z"
    },
    "papermill": {
     "duration": 0.145231,
     "end_time": "2025-08-19T19:06:15.269461",
     "exception": false,
     "start_time": "2025-08-19T19:06:15.124230",
     "status": "completed"
    },
    "tags": []
   },
   "outputs": [
    {
     "data": {
      "text/html": [
       "<div>\n",
       "<style scoped>\n",
       "    .dataframe tbody tr th:only-of-type {\n",
       "        vertical-align: middle;\n",
       "    }\n",
       "\n",
       "    .dataframe tbody tr th {\n",
       "        vertical-align: top;\n",
       "    }\n",
       "\n",
       "    .dataframe thead th {\n",
       "        text-align: right;\n",
       "    }\n",
       "</style>\n",
       "<table border=\"1\" class=\"dataframe\">\n",
       "  <thead>\n",
       "    <tr style=\"text-align: right;\">\n",
       "      <th></th>\n",
       "      <th>persnr</th>\n",
       "      <th>year</th>\n",
       "      <th>nrEntry</th>\n",
       "      <th>ltue</th>\n",
       "      <th>employed_before</th>\n",
       "      <th>receipt_leh_before</th>\n",
       "      <th>receipt_lhg_before</th>\n",
       "      <th>se_before</th>\n",
       "      <th>ASU_notue_seeking_before</th>\n",
       "      <th>ASU_other_before</th>\n",
       "      <th>...</th>\n",
       "      <th>minijob_tot_dur_byage</th>\n",
       "      <th>ft_tot_dur_byage</th>\n",
       "      <th>befrist_tot_dur_byage</th>\n",
       "      <th>leih_tot_dur_byage</th>\n",
       "      <th>LHG_tot_dur_byage</th>\n",
       "      <th>LEH_tot_dur_byage</th>\n",
       "      <th>almp_tot_dur_byage</th>\n",
       "      <th>almp_aw_tot_dur_byage</th>\n",
       "      <th>se_tot_dur_byage</th>\n",
       "      <th>seeking1_tot_dur_byage</th>\n",
       "    </tr>\n",
       "  </thead>\n",
       "  <tbody>\n",
       "    <tr>\n",
       "      <th>0</th>\n",
       "      <td>7</td>\n",
       "      <td>2015</td>\n",
       "      <td>1</td>\n",
       "      <td>0</td>\n",
       "      <td>1</td>\n",
       "      <td>0</td>\n",
       "      <td>0</td>\n",
       "      <td>0</td>\n",
       "      <td>1</td>\n",
       "      <td>0</td>\n",
       "      <td>...</td>\n",
       "      <td>0.000000</td>\n",
       "      <td>0.000000</td>\n",
       "      <td>15.043478</td>\n",
       "      <td>0.000000</td>\n",
       "      <td>0.000000</td>\n",
       "      <td>0.000000</td>\n",
       "      <td>0.000000</td>\n",
       "      <td>0.000000</td>\n",
       "      <td>0.000000</td>\n",
       "      <td>0.000000</td>\n",
       "    </tr>\n",
       "    <tr>\n",
       "      <th>1</th>\n",
       "      <td>18</td>\n",
       "      <td>2010</td>\n",
       "      <td>1</td>\n",
       "      <td>1</td>\n",
       "      <td>0</td>\n",
       "      <td>0</td>\n",
       "      <td>0</td>\n",
       "      <td>0</td>\n",
       "      <td>0</td>\n",
       "      <td>0</td>\n",
       "      <td>...</td>\n",
       "      <td>0.000000</td>\n",
       "      <td>0.000000</td>\n",
       "      <td>0.000000</td>\n",
       "      <td>0.000000</td>\n",
       "      <td>0.000000</td>\n",
       "      <td>0.000000</td>\n",
       "      <td>0.000000</td>\n",
       "      <td>0.000000</td>\n",
       "      <td>0.000000</td>\n",
       "      <td>0.000000</td>\n",
       "    </tr>\n",
       "    <tr>\n",
       "      <th>2</th>\n",
       "      <td>18</td>\n",
       "      <td>2011</td>\n",
       "      <td>2</td>\n",
       "      <td>0</td>\n",
       "      <td>1</td>\n",
       "      <td>0</td>\n",
       "      <td>1</td>\n",
       "      <td>0</td>\n",
       "      <td>1</td>\n",
       "      <td>0</td>\n",
       "      <td>...</td>\n",
       "      <td>2.714286</td>\n",
       "      <td>2.714286</td>\n",
       "      <td>0.000000</td>\n",
       "      <td>0.000000</td>\n",
       "      <td>10.775510</td>\n",
       "      <td>0.000000</td>\n",
       "      <td>8.367347</td>\n",
       "      <td>0.000000</td>\n",
       "      <td>0.000000</td>\n",
       "      <td>9.836735</td>\n",
       "    </tr>\n",
       "    <tr>\n",
       "      <th>3</th>\n",
       "      <td>18</td>\n",
       "      <td>2012</td>\n",
       "      <td>3</td>\n",
       "      <td>0</td>\n",
       "      <td>1</td>\n",
       "      <td>0</td>\n",
       "      <td>1</td>\n",
       "      <td>0</td>\n",
       "      <td>1</td>\n",
       "      <td>0</td>\n",
       "      <td>...</td>\n",
       "      <td>4.200000</td>\n",
       "      <td>4.200000</td>\n",
       "      <td>0.000000</td>\n",
       "      <td>0.000000</td>\n",
       "      <td>12.100000</td>\n",
       "      <td>0.000000</td>\n",
       "      <td>9.400000</td>\n",
       "      <td>0.000000</td>\n",
       "      <td>0.000000</td>\n",
       "      <td>9.960000</td>\n",
       "    </tr>\n",
       "    <tr>\n",
       "      <th>4</th>\n",
       "      <td>18</td>\n",
       "      <td>2012</td>\n",
       "      <td>4</td>\n",
       "      <td>0</td>\n",
       "      <td>1</td>\n",
       "      <td>0</td>\n",
       "      <td>1</td>\n",
       "      <td>0</td>\n",
       "      <td>1</td>\n",
       "      <td>0</td>\n",
       "      <td>...</td>\n",
       "      <td>5.460000</td>\n",
       "      <td>5.460000</td>\n",
       "      <td>0.000000</td>\n",
       "      <td>0.000000</td>\n",
       "      <td>13.360000</td>\n",
       "      <td>0.000000</td>\n",
       "      <td>10.320000</td>\n",
       "      <td>0.000000</td>\n",
       "      <td>0.000000</td>\n",
       "      <td>10.280000</td>\n",
       "    </tr>\n",
       "    <tr>\n",
       "      <th>...</th>\n",
       "      <td>...</td>\n",
       "      <td>...</td>\n",
       "      <td>...</td>\n",
       "      <td>...</td>\n",
       "      <td>...</td>\n",
       "      <td>...</td>\n",
       "      <td>...</td>\n",
       "      <td>...</td>\n",
       "      <td>...</td>\n",
       "      <td>...</td>\n",
       "      <td>...</td>\n",
       "      <td>...</td>\n",
       "      <td>...</td>\n",
       "      <td>...</td>\n",
       "      <td>...</td>\n",
       "      <td>...</td>\n",
       "      <td>...</td>\n",
       "      <td>...</td>\n",
       "      <td>...</td>\n",
       "      <td>...</td>\n",
       "      <td>...</td>\n",
       "    </tr>\n",
       "    <tr>\n",
       "      <th>643685</th>\n",
       "      <td>1827860</td>\n",
       "      <td>2013</td>\n",
       "      <td>1</td>\n",
       "      <td>0</td>\n",
       "      <td>0</td>\n",
       "      <td>0</td>\n",
       "      <td>1</td>\n",
       "      <td>0</td>\n",
       "      <td>0</td>\n",
       "      <td>1</td>\n",
       "      <td>...</td>\n",
       "      <td>0.000000</td>\n",
       "      <td>0.000000</td>\n",
       "      <td>0.000000</td>\n",
       "      <td>0.000000</td>\n",
       "      <td>0.612903</td>\n",
       "      <td>0.000000</td>\n",
       "      <td>0.000000</td>\n",
       "      <td>0.000000</td>\n",
       "      <td>0.000000</td>\n",
       "      <td>0.000000</td>\n",
       "    </tr>\n",
       "    <tr>\n",
       "      <th>643686</th>\n",
       "      <td>1827860</td>\n",
       "      <td>2015</td>\n",
       "      <td>2</td>\n",
       "      <td>1</td>\n",
       "      <td>0</td>\n",
       "      <td>0</td>\n",
       "      <td>1</td>\n",
       "      <td>0</td>\n",
       "      <td>1</td>\n",
       "      <td>0</td>\n",
       "      <td>...</td>\n",
       "      <td>0.000000</td>\n",
       "      <td>0.000000</td>\n",
       "      <td>0.212121</td>\n",
       "      <td>0.212121</td>\n",
       "      <td>17.363636</td>\n",
       "      <td>0.000000</td>\n",
       "      <td>8.909091</td>\n",
       "      <td>0.000000</td>\n",
       "      <td>0.000000</td>\n",
       "      <td>7.121212</td>\n",
       "    </tr>\n",
       "    <tr>\n",
       "      <th>643687</th>\n",
       "      <td>1827860</td>\n",
       "      <td>2016</td>\n",
       "      <td>3</td>\n",
       "      <td>1</td>\n",
       "      <td>0</td>\n",
       "      <td>0</td>\n",
       "      <td>1</td>\n",
       "      <td>1</td>\n",
       "      <td>0</td>\n",
       "      <td>1</td>\n",
       "      <td>...</td>\n",
       "      <td>0.000000</td>\n",
       "      <td>0.000000</td>\n",
       "      <td>0.294118</td>\n",
       "      <td>0.205882</td>\n",
       "      <td>34.705882</td>\n",
       "      <td>0.000000</td>\n",
       "      <td>10.352941</td>\n",
       "      <td>1.705882</td>\n",
       "      <td>1.705882</td>\n",
       "      <td>23.911765</td>\n",
       "    </tr>\n",
       "    <tr>\n",
       "      <th>643688</th>\n",
       "      <td>1827869</td>\n",
       "      <td>2013</td>\n",
       "      <td>1</td>\n",
       "      <td>1</td>\n",
       "      <td>1</td>\n",
       "      <td>0</td>\n",
       "      <td>0</td>\n",
       "      <td>0</td>\n",
       "      <td>1</td>\n",
       "      <td>0</td>\n",
       "      <td>...</td>\n",
       "      <td>0.000000</td>\n",
       "      <td>0.000000</td>\n",
       "      <td>0.000000</td>\n",
       "      <td>0.000000</td>\n",
       "      <td>0.000000</td>\n",
       "      <td>0.525424</td>\n",
       "      <td>0.000000</td>\n",
       "      <td>0.000000</td>\n",
       "      <td>0.000000</td>\n",
       "      <td>0.000000</td>\n",
       "    </tr>\n",
       "    <tr>\n",
       "      <th>643689</th>\n",
       "      <td>1827869</td>\n",
       "      <td>2014</td>\n",
       "      <td>2</td>\n",
       "      <td>0</td>\n",
       "      <td>0</td>\n",
       "      <td>1</td>\n",
       "      <td>0</td>\n",
       "      <td>0</td>\n",
       "      <td>1</td>\n",
       "      <td>0</td>\n",
       "      <td>...</td>\n",
       "      <td>0.000000</td>\n",
       "      <td>0.666667</td>\n",
       "      <td>0.666667</td>\n",
       "      <td>0.000000</td>\n",
       "      <td>0.000000</td>\n",
       "      <td>8.950000</td>\n",
       "      <td>1.033333</td>\n",
       "      <td>0.083333</td>\n",
       "      <td>0.083333</td>\n",
       "      <td>8.133333</td>\n",
       "    </tr>\n",
       "  </tbody>\n",
       "</table>\n",
       "<p>643690 rows × 164 columns</p>\n",
       "</div>"
      ],
      "text/plain": [
       "         persnr  year  nrEntry  ltue  employed_before  receipt_leh_before  \\\n",
       "0             7  2015        1     0                1                   0   \n",
       "1            18  2010        1     1                0                   0   \n",
       "2            18  2011        2     0                1                   0   \n",
       "3            18  2012        3     0                1                   0   \n",
       "4            18  2012        4     0                1                   0   \n",
       "...         ...   ...      ...   ...              ...                 ...   \n",
       "643685  1827860  2013        1     0                0                   0   \n",
       "643686  1827860  2015        2     1                0                   0   \n",
       "643687  1827860  2016        3     1                0                   0   \n",
       "643688  1827869  2013        1     1                1                   0   \n",
       "643689  1827869  2014        2     0                0                   1   \n",
       "\n",
       "        receipt_lhg_before  se_before  ASU_notue_seeking_before  \\\n",
       "0                        0          0                         1   \n",
       "1                        0          0                         0   \n",
       "2                        1          0                         1   \n",
       "3                        1          0                         1   \n",
       "4                        1          0                         1   \n",
       "...                    ...        ...                       ...   \n",
       "643685                   1          0                         0   \n",
       "643686                   1          0                         1   \n",
       "643687                   1          1                         0   \n",
       "643688                   0          0                         1   \n",
       "643689                   0          0                         1   \n",
       "\n",
       "        ASU_other_before  ...  minijob_tot_dur_byage  ft_tot_dur_byage  \\\n",
       "0                      0  ...               0.000000          0.000000   \n",
       "1                      0  ...               0.000000          0.000000   \n",
       "2                      0  ...               2.714286          2.714286   \n",
       "3                      0  ...               4.200000          4.200000   \n",
       "4                      0  ...               5.460000          5.460000   \n",
       "...                  ...  ...                    ...               ...   \n",
       "643685                 1  ...               0.000000          0.000000   \n",
       "643686                 0  ...               0.000000          0.000000   \n",
       "643687                 1  ...               0.000000          0.000000   \n",
       "643688                 0  ...               0.000000          0.000000   \n",
       "643689                 0  ...               0.000000          0.666667   \n",
       "\n",
       "        befrist_tot_dur_byage  leih_tot_dur_byage  LHG_tot_dur_byage  \\\n",
       "0                   15.043478            0.000000           0.000000   \n",
       "1                    0.000000            0.000000           0.000000   \n",
       "2                    0.000000            0.000000          10.775510   \n",
       "3                    0.000000            0.000000          12.100000   \n",
       "4                    0.000000            0.000000          13.360000   \n",
       "...                       ...                 ...                ...   \n",
       "643685               0.000000            0.000000           0.612903   \n",
       "643686               0.212121            0.212121          17.363636   \n",
       "643687               0.294118            0.205882          34.705882   \n",
       "643688               0.000000            0.000000           0.000000   \n",
       "643689               0.666667            0.000000           0.000000   \n",
       "\n",
       "        LEH_tot_dur_byage  almp_tot_dur_byage  almp_aw_tot_dur_byage  \\\n",
       "0                0.000000            0.000000               0.000000   \n",
       "1                0.000000            0.000000               0.000000   \n",
       "2                0.000000            8.367347               0.000000   \n",
       "3                0.000000            9.400000               0.000000   \n",
       "4                0.000000           10.320000               0.000000   \n",
       "...                   ...                 ...                    ...   \n",
       "643685           0.000000            0.000000               0.000000   \n",
       "643686           0.000000            8.909091               0.000000   \n",
       "643687           0.000000           10.352941               1.705882   \n",
       "643688           0.525424            0.000000               0.000000   \n",
       "643689           8.950000            1.033333               0.083333   \n",
       "\n",
       "        se_tot_dur_byage  seeking1_tot_dur_byage  \n",
       "0               0.000000                0.000000  \n",
       "1               0.000000                0.000000  \n",
       "2               0.000000                9.836735  \n",
       "3               0.000000                9.960000  \n",
       "4               0.000000               10.280000  \n",
       "...                  ...                     ...  \n",
       "643685          0.000000                0.000000  \n",
       "643686          0.000000                7.121212  \n",
       "643687          1.705882               23.911765  \n",
       "643688          0.000000                0.000000  \n",
       "643689          0.083333                8.133333  \n",
       "\n",
       "[643690 rows x 164 columns]"
      ]
     },
     "execution_count": 10,
     "metadata": {},
     "output_type": "execute_result"
    }
   ],
   "source": [
    "siab"
   ]
  },
  {
   "cell_type": "markdown",
   "id": "1f87e805",
   "metadata": {
    "papermill": {
     "duration": 0.009836,
     "end_time": "2025-08-19T19:06:15.289774",
     "exception": false,
     "start_time": "2025-08-19T19:06:15.279938",
     "status": "completed"
    },
    "tags": []
   },
   "source": [
    "# Splitting Data and Setting Training Data Size"
   ]
  },
  {
   "cell_type": "code",
   "execution_count": 11,
   "id": "910ae358",
   "metadata": {
    "execution": {
     "iopub.execute_input": "2025-08-19T19:06:15.313191Z",
     "iopub.status.busy": "2025-08-19T19:06:15.310235Z",
     "iopub.status.idle": "2025-08-19T19:06:16.343357Z",
     "shell.execute_reply": "2025-08-19T19:06:16.342279Z"
    },
    "papermill": {
     "duration": 1.045528,
     "end_time": "2025-08-19T19:06:16.344946",
     "exception": false,
     "start_time": "2025-08-19T19:06:15.299418",
     "status": "completed"
    },
    "tags": []
   },
   "outputs": [],
   "source": [
    "from fairness_multiverse.universe import sample_by_year_size\n",
    "\n",
    "siab_train = sample_by_year_size(siab,\n",
    "                               training_year=universe[\"training_year\"],\n",
    "                               training_size=universe[\"training_size\"])"
   ]
  },
  {
   "cell_type": "code",
   "execution_count": 12,
   "id": "919c8ff5",
   "metadata": {
    "execution": {
     "iopub.execute_input": "2025-08-19T19:06:16.367371Z",
     "iopub.status.busy": "2025-08-19T19:06:16.366790Z",
     "iopub.status.idle": "2025-08-19T19:06:16.373138Z",
     "shell.execute_reply": "2025-08-19T19:06:16.372568Z"
    },
    "papermill": {
     "duration": 0.020213,
     "end_time": "2025-08-19T19:06:16.375507",
     "exception": false,
     "start_time": "2025-08-19T19:06:16.355294",
     "status": "completed"
    },
    "tags": []
   },
   "outputs": [
    {
     "data": {
      "text/plain": [
       "(1000, 164)"
      ]
     },
     "execution_count": 12,
     "metadata": {},
     "output_type": "execute_result"
    }
   ],
   "source": [
    "siab_train.shape"
   ]
  },
  {
   "cell_type": "code",
   "execution_count": 13,
   "id": "feb13bf4",
   "metadata": {
    "execution": {
     "iopub.execute_input": "2025-08-19T19:06:16.402484Z",
     "iopub.status.busy": "2025-08-19T19:06:16.401397Z",
     "iopub.status.idle": "2025-08-19T19:06:16.415732Z",
     "shell.execute_reply": "2025-08-19T19:06:16.414595Z"
    },
    "papermill": {
     "duration": 0.027898,
     "end_time": "2025-08-19T19:06:16.417579",
     "exception": false,
     "start_time": "2025-08-19T19:06:16.389681",
     "status": "completed"
    },
    "tags": []
   },
   "outputs": [
    {
     "data": {
      "text/plain": [
       "year\n",
       "2010    200\n",
       "2011    200\n",
       "2012    200\n",
       "2013    200\n",
       "2014    200\n",
       "dtype: int64"
      ]
     },
     "metadata": {},
     "output_type": "display_data"
    }
   ],
   "source": [
    "display(siab_train.groupby(\"year\").size())"
   ]
  },
  {
   "cell_type": "code",
   "execution_count": 14,
   "id": "0997782f",
   "metadata": {
    "execution": {
     "iopub.execute_input": "2025-08-19T19:06:16.449299Z",
     "iopub.status.busy": "2025-08-19T19:06:16.448109Z",
     "iopub.status.idle": "2025-08-19T19:06:16.706372Z",
     "shell.execute_reply": "2025-08-19T19:06:16.705176Z"
    },
    "papermill": {
     "duration": 0.273807,
     "end_time": "2025-08-19T19:06:16.708241",
     "exception": false,
     "start_time": "2025-08-19T19:06:16.434434",
     "status": "completed"
    },
    "tags": []
   },
   "outputs": [],
   "source": [
    "#siab_train = siab_s[siab_s.year < 2015]\n",
    "siab_calib = siab[siab.year == 2015]\n",
    "siab_test = siab[siab.year == 2016]"
   ]
  },
  {
   "cell_type": "code",
   "execution_count": 15,
   "id": "2c1e4012",
   "metadata": {
    "execution": {
     "iopub.execute_input": "2025-08-19T19:06:16.733712Z",
     "iopub.status.busy": "2025-08-19T19:06:16.732564Z",
     "iopub.status.idle": "2025-08-19T19:06:16.739177Z",
     "shell.execute_reply": "2025-08-19T19:06:16.738112Z"
    },
    "papermill": {
     "duration": 0.019678,
     "end_time": "2025-08-19T19:06:16.740619",
     "exception": false,
     "start_time": "2025-08-19T19:06:16.720941",
     "status": "completed"
    },
    "tags": []
   },
   "outputs": [],
   "source": [
    "#siab_calib.shape"
   ]
  },
  {
   "cell_type": "code",
   "execution_count": 16,
   "id": "f66b54ca",
   "metadata": {
    "execution": {
     "iopub.execute_input": "2025-08-19T19:06:16.764066Z",
     "iopub.status.busy": "2025-08-19T19:06:16.762838Z",
     "iopub.status.idle": "2025-08-19T19:06:16.810872Z",
     "shell.execute_reply": "2025-08-19T19:06:16.809162Z"
    },
    "papermill": {
     "duration": 0.061889,
     "end_time": "2025-08-19T19:06:16.812978",
     "exception": false,
     "start_time": "2025-08-19T19:06:16.751089",
     "status": "completed"
    },
    "tags": []
   },
   "outputs": [],
   "source": [
    "#siab_test.shape"
   ]
  },
  {
   "cell_type": "code",
   "execution_count": 17,
   "id": "27e4384d",
   "metadata": {
    "execution": {
     "iopub.execute_input": "2025-08-19T19:06:16.839490Z",
     "iopub.status.busy": "2025-08-19T19:06:16.838011Z",
     "iopub.status.idle": "2025-08-19T19:06:16.855902Z",
     "shell.execute_reply": "2025-08-19T19:06:16.854865Z"
    },
    "papermill": {
     "duration": 0.031991,
     "end_time": "2025-08-19T19:06:16.857581",
     "exception": false,
     "start_time": "2025-08-19T19:06:16.825590",
     "status": "completed"
    },
    "tags": []
   },
   "outputs": [],
   "source": [
    "X_train = siab_train.iloc[:,4:164]\n",
    "y_train = siab_train.iloc[:, [3]]"
   ]
  },
  {
   "cell_type": "code",
   "execution_count": 18,
   "id": "08ee8389",
   "metadata": {
    "execution": {
     "iopub.execute_input": "2025-08-19T19:06:16.890118Z",
     "iopub.status.busy": "2025-08-19T19:06:16.888738Z",
     "iopub.status.idle": "2025-08-19T19:06:16.953299Z",
     "shell.execute_reply": "2025-08-19T19:06:16.952425Z"
    },
    "papermill": {
     "duration": 0.081349,
     "end_time": "2025-08-19T19:06:16.956738",
     "exception": false,
     "start_time": "2025-08-19T19:06:16.875389",
     "status": "completed"
    },
    "tags": []
   },
   "outputs": [],
   "source": [
    "X_calib = siab_calib.iloc[:,4:164]\n",
    "y_calib = siab_calib.iloc[:, [3]]"
   ]
  },
  {
   "cell_type": "code",
   "execution_count": 19,
   "id": "b7ff42e0",
   "metadata": {
    "execution": {
     "iopub.execute_input": "2025-08-19T19:06:17.000528Z",
     "iopub.status.busy": "2025-08-19T19:06:16.998657Z",
     "iopub.status.idle": "2025-08-19T19:06:17.131085Z",
     "shell.execute_reply": "2025-08-19T19:06:17.130317Z"
    },
    "papermill": {
     "duration": 0.149563,
     "end_time": "2025-08-19T19:06:17.132661",
     "exception": false,
     "start_time": "2025-08-19T19:06:16.983098",
     "status": "completed"
    },
    "tags": []
   },
   "outputs": [],
   "source": [
    "X_test = siab_test.iloc[:,4:164]\n",
    "y_true = siab_test.iloc[:, [3]]"
   ]
  },
  {
   "cell_type": "code",
   "execution_count": 20,
   "id": "0275101e",
   "metadata": {
    "execution": {
     "iopub.execute_input": "2025-08-19T19:06:17.156303Z",
     "iopub.status.busy": "2025-08-19T19:06:17.155184Z",
     "iopub.status.idle": "2025-08-19T19:06:17.314083Z",
     "shell.execute_reply": "2025-08-19T19:06:17.312974Z"
    },
    "papermill": {
     "duration": 0.172084,
     "end_time": "2025-08-19T19:06:17.315820",
     "exception": false,
     "start_time": "2025-08-19T19:06:17.143736",
     "status": "completed"
    },
    "tags": []
   },
   "outputs": [],
   "source": [
    "# Auxiliary data needed downstream in the pipeline\n",
    "\n",
    "org_train = X_train.copy()\n",
    "org_test = X_test.copy()\n",
    "org_calib = X_calib.copy()"
   ]
  },
  {
   "cell_type": "markdown",
   "id": "b461e618",
   "metadata": {
    "papermill": {
     "duration": 0.011934,
     "end_time": "2025-08-19T19:06:17.339209",
     "exception": false,
     "start_time": "2025-08-19T19:06:17.327275",
     "status": "completed"
    },
    "tags": []
   },
   "source": [
    "# Preprocessing Data"
   ]
  },
  {
   "cell_type": "code",
   "execution_count": 21,
   "id": "78e74c4b",
   "metadata": {
    "execution": {
     "iopub.execute_input": "2025-08-19T19:06:17.363321Z",
     "iopub.status.busy": "2025-08-19T19:06:17.362790Z",
     "iopub.status.idle": "2025-08-19T19:06:17.371061Z",
     "shell.execute_reply": "2025-08-19T19:06:17.369958Z"
    },
    "papermill": {
     "duration": 0.023603,
     "end_time": "2025-08-19T19:06:17.374366",
     "exception": false,
     "start_time": "2025-08-19T19:06:17.350763",
     "status": "completed"
    },
    "tags": []
   },
   "outputs": [],
   "source": [
    "# EXCLUDE PROTECTED FEATURES\n",
    "# --------------------------\n",
    "\n",
    "excluded_features = universe[\"exclude_features\"].split(\"-\")\n",
    "excluded_features_dictionary = {\n",
    "    \"nationality\": [\"maxdeutsch1\", \"maxdeutsch.Missing.\"],\n",
    "    \"sex\": [\"frau1\"],\n",
    "    \"age\": [\"age\"],\n",
    "}"
   ]
  },
  {
   "cell_type": "code",
   "execution_count": 22,
   "id": "f8e63555",
   "metadata": {
    "execution": {
     "iopub.execute_input": "2025-08-19T19:06:17.414583Z",
     "iopub.status.busy": "2025-08-19T19:06:17.414078Z",
     "iopub.status.idle": "2025-08-19T19:06:17.517404Z",
     "shell.execute_reply": "2025-08-19T19:06:17.516536Z"
    },
    "papermill": {
     "duration": 0.125596,
     "end_time": "2025-08-19T19:06:17.520824",
     "exception": false,
     "start_time": "2025-08-19T19:06:17.395228",
     "status": "completed"
    },
    "tags": []
   },
   "outputs": [],
   "source": [
    "excluded_features_columns = [\n",
    "    excluded_features_dictionary[f] for f in excluded_features if len(f) > 0 and f != \"none\"\n",
    "]"
   ]
  },
  {
   "cell_type": "code",
   "execution_count": 23,
   "id": "da781f7c",
   "metadata": {
    "execution": {
     "iopub.execute_input": "2025-08-19T19:06:17.558394Z",
     "iopub.status.busy": "2025-08-19T19:06:17.557870Z",
     "iopub.status.idle": "2025-08-19T19:06:17.562949Z",
     "shell.execute_reply": "2025-08-19T19:06:17.562138Z"
    },
    "papermill": {
     "duration": 0.019492,
     "end_time": "2025-08-19T19:06:17.564273",
     "exception": false,
     "start_time": "2025-08-19T19:06:17.544781",
     "status": "completed"
    },
    "tags": []
   },
   "outputs": [],
   "source": [
    "from fairness_multiverse.universe import flatten_once\n",
    "\n",
    "excluded_features_columns = flatten_once(excluded_features_columns)"
   ]
  },
  {
   "cell_type": "code",
   "execution_count": 24,
   "id": "37fef0f0",
   "metadata": {
    "execution": {
     "iopub.execute_input": "2025-08-19T19:06:17.587430Z",
     "iopub.status.busy": "2025-08-19T19:06:17.587027Z",
     "iopub.status.idle": "2025-08-19T19:06:17.591734Z",
     "shell.execute_reply": "2025-08-19T19:06:17.590965Z"
    },
    "papermill": {
     "duration": 0.017815,
     "end_time": "2025-08-19T19:06:17.593221",
     "exception": false,
     "start_time": "2025-08-19T19:06:17.575406",
     "status": "completed"
    },
    "tags": []
   },
   "outputs": [],
   "source": [
    "if len(excluded_features_columns) > 0:\n",
    "    print(f\"Dropping features: {excluded_features_columns}\")\n",
    "    X_train.drop(excluded_features_columns, axis=1, inplace=True)"
   ]
  },
  {
   "cell_type": "code",
   "execution_count": 25,
   "id": "d029e3e9",
   "metadata": {
    "execution": {
     "iopub.execute_input": "2025-08-19T19:06:17.616830Z",
     "iopub.status.busy": "2025-08-19T19:06:17.616383Z",
     "iopub.status.idle": "2025-08-19T19:06:17.621159Z",
     "shell.execute_reply": "2025-08-19T19:06:17.620368Z"
    },
    "papermill": {
     "duration": 0.017402,
     "end_time": "2025-08-19T19:06:17.622573",
     "exception": false,
     "start_time": "2025-08-19T19:06:17.605171",
     "status": "completed"
    },
    "tags": []
   },
   "outputs": [],
   "source": [
    "if len(excluded_features_columns) > 0:\n",
    "    print(f\"Dropping features: {excluded_features_columns}\")\n",
    "    X_test.drop(excluded_features_columns, axis=1, inplace=True)"
   ]
  },
  {
   "cell_type": "code",
   "execution_count": 26,
   "id": "01d571f0",
   "metadata": {
    "execution": {
     "iopub.execute_input": "2025-08-19T19:06:17.646163Z",
     "iopub.status.busy": "2025-08-19T19:06:17.645622Z",
     "iopub.status.idle": "2025-08-19T19:06:17.650915Z",
     "shell.execute_reply": "2025-08-19T19:06:17.650080Z"
    },
    "papermill": {
     "duration": 0.018665,
     "end_time": "2025-08-19T19:06:17.652231",
     "exception": false,
     "start_time": "2025-08-19T19:06:17.633566",
     "status": "completed"
    },
    "tags": []
   },
   "outputs": [],
   "source": [
    "if len(excluded_features_columns) > 0:\n",
    "    print(f\"Dropping features: {excluded_features_columns}\")\n",
    "    X_calib.drop(excluded_features_columns, axis=1, inplace=True)"
   ]
  },
  {
   "cell_type": "code",
   "execution_count": 27,
   "id": "3037356e",
   "metadata": {
    "execution": {
     "iopub.execute_input": "2025-08-19T19:06:17.676719Z",
     "iopub.status.busy": "2025-08-19T19:06:17.676262Z",
     "iopub.status.idle": "2025-08-19T19:06:17.684202Z",
     "shell.execute_reply": "2025-08-19T19:06:17.683437Z"
    },
    "papermill": {
     "duration": 0.022125,
     "end_time": "2025-08-19T19:06:17.685985",
     "exception": false,
     "start_time": "2025-08-19T19:06:17.663860",
     "status": "completed"
    },
    "tags": []
   },
   "outputs": [],
   "source": [
    "# EXCLUDE CERTAIN SUBGROUPS\n",
    "# -------------------------\n",
    "\n",
    "mode = universe.get(\"exclude_subgroups\", \"keep-all\") # Defaults to \"keep-all\" if the key is missing."
   ]
  },
  {
   "cell_type": "code",
   "execution_count": 28,
   "id": "9d1e63fd",
   "metadata": {
    "execution": {
     "iopub.execute_input": "2025-08-19T19:06:17.710410Z",
     "iopub.status.busy": "2025-08-19T19:06:17.709960Z",
     "iopub.status.idle": "2025-08-19T19:06:17.715975Z",
     "shell.execute_reply": "2025-08-19T19:06:17.715144Z"
    },
    "papermill": {
     "duration": 0.018734,
     "end_time": "2025-08-19T19:06:17.717376",
     "exception": false,
     "start_time": "2025-08-19T19:06:17.698642",
     "status": "completed"
    },
    "tags": []
   },
   "outputs": [],
   "source": [
    "if mode == \"keep-all\":\n",
    "    keep_mask = pd.Series(True, index=org_train.index)\n",
    "\n",
    "elif mode == \"drop-non-german\":\n",
    "    keep_mask = (org_train[\"maxdeutsch1\"] == 1) & (org_train[\"maxdeutsch.Missing.\"] == 0)\n",
    "\n",
    "else:\n",
    "    raise ValueError(f\"Unsupported mode for exclude_subgroups: {mode}\")"
   ]
  },
  {
   "cell_type": "code",
   "execution_count": 29,
   "id": "d3b65474",
   "metadata": {
    "execution": {
     "iopub.execute_input": "2025-08-19T19:06:17.740211Z",
     "iopub.status.busy": "2025-08-19T19:06:17.739777Z",
     "iopub.status.idle": "2025-08-19T19:06:17.745447Z",
     "shell.execute_reply": "2025-08-19T19:06:17.744656Z"
    },
    "papermill": {
     "duration": 0.018162,
     "end_time": "2025-08-19T19:06:17.746850",
     "exception": false,
     "start_time": "2025-08-19T19:06:17.728688",
     "status": "completed"
    },
    "tags": []
   },
   "outputs": [],
   "source": [
    "n_drop = (~keep_mask).sum() # Calculates how many rows are set to be dropped\n",
    "if n_drop > 0:\n",
    "    pct = n_drop / len(keep_mask) * 100\n",
    "    print(f\"Dropping {n_drop} rows ({pct:.2f}%) where mode='{mode}'\")"
   ]
  },
  {
   "cell_type": "code",
   "execution_count": 30,
   "id": "f44389b3",
   "metadata": {
    "execution": {
     "iopub.execute_input": "2025-08-19T19:06:17.769579Z",
     "iopub.status.busy": "2025-08-19T19:06:17.769145Z",
     "iopub.status.idle": "2025-08-19T19:06:17.775510Z",
     "shell.execute_reply": "2025-08-19T19:06:17.774638Z"
    },
    "papermill": {
     "duration": 0.018973,
     "end_time": "2025-08-19T19:06:17.776921",
     "exception": false,
     "start_time": "2025-08-19T19:06:17.757948",
     "status": "completed"
    },
    "tags": []
   },
   "outputs": [],
   "source": [
    "X_train = X_train[keep_mask]"
   ]
  },
  {
   "cell_type": "code",
   "execution_count": 31,
   "id": "ceca8c2a",
   "metadata": {
    "execution": {
     "iopub.execute_input": "2025-08-19T19:06:17.799943Z",
     "iopub.status.busy": "2025-08-19T19:06:17.799527Z",
     "iopub.status.idle": "2025-08-19T19:06:17.804844Z",
     "shell.execute_reply": "2025-08-19T19:06:17.803945Z"
    },
    "papermill": {
     "duration": 0.01797,
     "end_time": "2025-08-19T19:06:17.806275",
     "exception": false,
     "start_time": "2025-08-19T19:06:17.788305",
     "status": "completed"
    },
    "tags": []
   },
   "outputs": [],
   "source": [
    "y_train = y_train[keep_mask]"
   ]
  },
  {
   "cell_type": "markdown",
   "id": "04d31e2f",
   "metadata": {
    "papermill": {
     "duration": 0.010374,
     "end_time": "2025-08-19T19:06:17.827385",
     "exception": false,
     "start_time": "2025-08-19T19:06:17.817011",
     "status": "completed"
    },
    "tags": []
   },
   "source": [
    "# Model Training"
   ]
  },
  {
   "cell_type": "code",
   "execution_count": 32,
   "id": "db991733",
   "metadata": {
    "execution": {
     "iopub.execute_input": "2025-08-19T19:06:17.849482Z",
     "iopub.status.busy": "2025-08-19T19:06:17.849033Z",
     "iopub.status.idle": "2025-08-19T19:06:17.961789Z",
     "shell.execute_reply": "2025-08-19T19:06:17.960891Z"
    },
    "papermill": {
     "duration": 0.125944,
     "end_time": "2025-08-19T19:06:17.963669",
     "exception": false,
     "start_time": "2025-08-19T19:06:17.837725",
     "status": "completed"
    },
    "tags": []
   },
   "outputs": [],
   "source": [
    "from sklearn.linear_model import LogisticRegression\n",
    "from sklearn.ensemble import GradientBoostingClassifier, RandomForestClassifier\n",
    "\n",
    "if (universe[\"model\"] == \"logreg\"):\n",
    "    model = LogisticRegression() #penalty=\"none\", solver=\"newton-cg\", max_iter=1)\n",
    "elif (universe[\"model\"] == \"penalized_logreg\"):\n",
    "    model = LogisticRegression(penalty=\"l2\", C=0.1) #, solver=\"newton-cg\", max_iter=1)\n",
    "elif (universe[\"model\"] == \"rf\"):\n",
    "    model = RandomForestClassifier() # n_estimators=100, n_jobs=-1\n",
    "elif (universe[\"model\"] == \"gbm\"):\n",
    "    model = GradientBoostingClassifier()\n",
    "elif (universe[\"model\"] == \"elasticnet\"):\n",
    "    model = LogisticRegression(penalty = 'elasticnet', solver = 'saga', l1_ratio = 0.5) # max_iter=5000\n",
    "else:\n",
    "    raise \"Unsupported universe.model\""
   ]
  },
  {
   "cell_type": "code",
   "execution_count": 33,
   "id": "a4b5cd25",
   "metadata": {
    "execution": {
     "iopub.execute_input": "2025-08-19T19:06:17.991512Z",
     "iopub.status.busy": "2025-08-19T19:06:17.988453Z",
     "iopub.status.idle": "2025-08-19T19:06:17.999061Z",
     "shell.execute_reply": "2025-08-19T19:06:17.997900Z"
    },
    "papermill": {
     "duration": 0.024022,
     "end_time": "2025-08-19T19:06:18.000614",
     "exception": false,
     "start_time": "2025-08-19T19:06:17.976592",
     "status": "completed"
    },
    "tags": []
   },
   "outputs": [],
   "source": [
    "from sklearn.pipeline import Pipeline\n",
    "from sklearn.preprocessing import StandardScaler\n",
    "\n",
    "model = Pipeline([\n",
    "    #(\"continuous_processor\", continuous_processor),\n",
    "    #(\"categorical_preprocessor\", categorical_preprocessor),\n",
    "    (\"scale\", StandardScaler() if universe[\"scale\"] == \"scale\" else None), \n",
    "    (\"model\", model),\n",
    "])"
   ]
  },
  {
   "cell_type": "code",
   "execution_count": 34,
   "id": "283a904d",
   "metadata": {
    "execution": {
     "iopub.execute_input": "2025-08-19T19:06:18.038261Z",
     "iopub.status.busy": "2025-08-19T19:06:18.027749Z",
     "iopub.status.idle": "2025-08-19T19:06:18.391242Z",
     "shell.execute_reply": "2025-08-19T19:06:18.390221Z"
    },
    "papermill": {
     "duration": 0.378039,
     "end_time": "2025-08-19T19:06:18.393295",
     "exception": false,
     "start_time": "2025-08-19T19:06:18.015256",
     "status": "completed"
    },
    "tags": []
   },
   "outputs": [
    {
     "data": {
      "text/html": [
       "<style>#sk-container-id-1 {color: black;background-color: white;}#sk-container-id-1 pre{padding: 0;}#sk-container-id-1 div.sk-toggleable {background-color: white;}#sk-container-id-1 label.sk-toggleable__label {cursor: pointer;display: block;width: 100%;margin-bottom: 0;padding: 0.3em;box-sizing: border-box;text-align: center;}#sk-container-id-1 label.sk-toggleable__label-arrow:before {content: \"▸\";float: left;margin-right: 0.25em;color: #696969;}#sk-container-id-1 label.sk-toggleable__label-arrow:hover:before {color: black;}#sk-container-id-1 div.sk-estimator:hover label.sk-toggleable__label-arrow:before {color: black;}#sk-container-id-1 div.sk-toggleable__content {max-height: 0;max-width: 0;overflow: hidden;text-align: left;background-color: #f0f8ff;}#sk-container-id-1 div.sk-toggleable__content pre {margin: 0.2em;color: black;border-radius: 0.25em;background-color: #f0f8ff;}#sk-container-id-1 input.sk-toggleable__control:checked~div.sk-toggleable__content {max-height: 200px;max-width: 100%;overflow: auto;}#sk-container-id-1 input.sk-toggleable__control:checked~label.sk-toggleable__label-arrow:before {content: \"▾\";}#sk-container-id-1 div.sk-estimator input.sk-toggleable__control:checked~label.sk-toggleable__label {background-color: #d4ebff;}#sk-container-id-1 div.sk-label input.sk-toggleable__control:checked~label.sk-toggleable__label {background-color: #d4ebff;}#sk-container-id-1 input.sk-hidden--visually {border: 0;clip: rect(1px 1px 1px 1px);clip: rect(1px, 1px, 1px, 1px);height: 1px;margin: -1px;overflow: hidden;padding: 0;position: absolute;width: 1px;}#sk-container-id-1 div.sk-estimator {font-family: monospace;background-color: #f0f8ff;border: 1px dotted black;border-radius: 0.25em;box-sizing: border-box;margin-bottom: 0.5em;}#sk-container-id-1 div.sk-estimator:hover {background-color: #d4ebff;}#sk-container-id-1 div.sk-parallel-item::after {content: \"\";width: 100%;border-bottom: 1px solid gray;flex-grow: 1;}#sk-container-id-1 div.sk-label:hover label.sk-toggleable__label {background-color: #d4ebff;}#sk-container-id-1 div.sk-serial::before {content: \"\";position: absolute;border-left: 1px solid gray;box-sizing: border-box;top: 0;bottom: 0;left: 50%;z-index: 0;}#sk-container-id-1 div.sk-serial {display: flex;flex-direction: column;align-items: center;background-color: white;padding-right: 0.2em;padding-left: 0.2em;position: relative;}#sk-container-id-1 div.sk-item {position: relative;z-index: 1;}#sk-container-id-1 div.sk-parallel {display: flex;align-items: stretch;justify-content: center;background-color: white;position: relative;}#sk-container-id-1 div.sk-item::before, #sk-container-id-1 div.sk-parallel-item::before {content: \"\";position: absolute;border-left: 1px solid gray;box-sizing: border-box;top: 0;bottom: 0;left: 50%;z-index: -1;}#sk-container-id-1 div.sk-parallel-item {display: flex;flex-direction: column;z-index: 1;position: relative;background-color: white;}#sk-container-id-1 div.sk-parallel-item:first-child::after {align-self: flex-end;width: 50%;}#sk-container-id-1 div.sk-parallel-item:last-child::after {align-self: flex-start;width: 50%;}#sk-container-id-1 div.sk-parallel-item:only-child::after {width: 0;}#sk-container-id-1 div.sk-dashed-wrapped {border: 1px dashed gray;margin: 0 0.4em 0.5em 0.4em;box-sizing: border-box;padding-bottom: 0.4em;background-color: white;}#sk-container-id-1 div.sk-label label {font-family: monospace;font-weight: bold;display: inline-block;line-height: 1.2em;}#sk-container-id-1 div.sk-label-container {text-align: center;}#sk-container-id-1 div.sk-container {/* jupyter's `normalize.less` sets `[hidden] { display: none; }` but bootstrap.min.css set `[hidden] { display: none !important; }` so we also need the `!important` here to be able to override the default hidden behavior on the sphinx rendered scikit-learn.org. See: https://github.com/scikit-learn/scikit-learn/issues/21755 */display: inline-block !important;position: relative;}#sk-container-id-1 div.sk-text-repr-fallback {display: none;}</style><div id=\"sk-container-id-1\" class=\"sk-top-container\"><div class=\"sk-text-repr-fallback\"><pre>Pipeline(steps=[(&#x27;scale&#x27;, StandardScaler()),\n",
       "                (&#x27;model&#x27;, RandomForestClassifier())])</pre><b>In a Jupyter environment, please rerun this cell to show the HTML representation or trust the notebook. <br />On GitHub, the HTML representation is unable to render, please try loading this page with nbviewer.org.</b></div><div class=\"sk-container\" hidden><div class=\"sk-item sk-dashed-wrapped\"><div class=\"sk-label-container\"><div class=\"sk-label sk-toggleable\"><input class=\"sk-toggleable__control sk-hidden--visually\" id=\"sk-estimator-id-1\" type=\"checkbox\" ><label for=\"sk-estimator-id-1\" class=\"sk-toggleable__label sk-toggleable__label-arrow\">Pipeline</label><div class=\"sk-toggleable__content\"><pre>Pipeline(steps=[(&#x27;scale&#x27;, StandardScaler()),\n",
       "                (&#x27;model&#x27;, RandomForestClassifier())])</pre></div></div></div><div class=\"sk-serial\"><div class=\"sk-item\"><div class=\"sk-estimator sk-toggleable\"><input class=\"sk-toggleable__control sk-hidden--visually\" id=\"sk-estimator-id-2\" type=\"checkbox\" ><label for=\"sk-estimator-id-2\" class=\"sk-toggleable__label sk-toggleable__label-arrow\">StandardScaler</label><div class=\"sk-toggleable__content\"><pre>StandardScaler()</pre></div></div></div><div class=\"sk-item\"><div class=\"sk-estimator sk-toggleable\"><input class=\"sk-toggleable__control sk-hidden--visually\" id=\"sk-estimator-id-3\" type=\"checkbox\" ><label for=\"sk-estimator-id-3\" class=\"sk-toggleable__label sk-toggleable__label-arrow\">RandomForestClassifier</label><div class=\"sk-toggleable__content\"><pre>RandomForestClassifier()</pre></div></div></div></div></div></div></div>"
      ],
      "text/plain": [
       "Pipeline(steps=[('scale', StandardScaler()),\n",
       "                ('model', RandomForestClassifier())])"
      ]
     },
     "execution_count": 34,
     "metadata": {},
     "output_type": "execute_result"
    }
   ],
   "source": [
    "model.fit(X_train, y_train.values.ravel())"
   ]
  },
  {
   "cell_type": "code",
   "execution_count": 35,
   "id": "6e15e313",
   "metadata": {
    "execution": {
     "iopub.execute_input": "2025-08-19T19:06:18.417555Z",
     "iopub.status.busy": "2025-08-19T19:06:18.417059Z",
     "iopub.status.idle": "2025-08-19T19:06:19.891879Z",
     "shell.execute_reply": "2025-08-19T19:06:19.890524Z"
    },
    "papermill": {
     "duration": 1.488691,
     "end_time": "2025-08-19T19:06:19.893664",
     "exception": false,
     "start_time": "2025-08-19T19:06:18.404973",
     "status": "completed"
    },
    "tags": []
   },
   "outputs": [
    {
     "data": {
      "text/plain": [
       "0.8609296622450117"
      ]
     },
     "execution_count": 35,
     "metadata": {},
     "output_type": "execute_result"
    }
   ],
   "source": [
    "from fairness_multiverse.universe import predict_w_threshold\n",
    "\n",
    "probs_test = model.predict_proba(X_test)\n",
    "\n",
    "'''\n",
    "Below code returns a boolean array (or binary 0/1 array depending on how it’s used) where each element \n",
    "is True if the probability of class 1 is greater than or equal to the threshold, and False otherwise.\n",
    "'''\n",
    "y_pred_default = predict_w_threshold(probs_test, 0.5)\n",
    "\n",
    "from sklearn.metrics import accuracy_score\n",
    "\n",
    "# Naive prediction\n",
    "accuracy_score(y_true = y_true, y_pred = y_pred_default)"
   ]
  },
  {
   "cell_type": "code",
   "execution_count": 36,
   "id": "6f14067c",
   "metadata": {
    "execution": {
     "iopub.execute_input": "2025-08-19T19:06:19.934665Z",
     "iopub.status.busy": "2025-08-19T19:06:19.934210Z",
     "iopub.status.idle": "2025-08-19T19:06:21.425419Z",
     "shell.execute_reply": "2025-08-19T19:06:21.424312Z"
    },
    "papermill": {
     "duration": 1.519014,
     "end_time": "2025-08-19T19:06:21.426699",
     "exception": false,
     "start_time": "2025-08-19T19:06:19.907685",
     "status": "completed"
    },
    "tags": []
   },
   "outputs": [
    {
     "data": {
      "text/plain": [
       "array([0, 0, 0, ..., 0, 0, 0])"
      ]
     },
     "execution_count": 36,
     "metadata": {},
     "output_type": "execute_result"
    }
   ],
   "source": [
    "model.predict(X_test)"
   ]
  },
  {
   "cell_type": "markdown",
   "id": "3759920c",
   "metadata": {
    "papermill": {
     "duration": 0.011327,
     "end_time": "2025-08-19T19:06:21.449818",
     "exception": false,
     "start_time": "2025-08-19T19:06:21.438491",
     "status": "completed"
    },
    "tags": []
   },
   "source": [
    "# Conformal Prediction"
   ]
  },
  {
   "cell_type": "code",
   "execution_count": 37,
   "id": "14b27f59",
   "metadata": {
    "execution": {
     "iopub.execute_input": "2025-08-19T19:06:21.476059Z",
     "iopub.status.busy": "2025-08-19T19:06:21.474502Z",
     "iopub.status.idle": "2025-08-19T19:06:21.483386Z",
     "shell.execute_reply": "2025-08-19T19:06:21.482259Z"
    },
    "papermill": {
     "duration": 0.023747,
     "end_time": "2025-08-19T19:06:21.484698",
     "exception": false,
     "start_time": "2025-08-19T19:06:21.460951",
     "status": "completed"
    },
    "tags": []
   },
   "outputs": [],
   "source": [
    "# Miscoverage level for conformal prediction (10% allowed error rate => 90% target coverage)\n",
    "alpha = 0.1"
   ]
  },
  {
   "cell_type": "code",
   "execution_count": 38,
   "id": "59102472",
   "metadata": {
    "execution": {
     "iopub.execute_input": "2025-08-19T19:06:21.513024Z",
     "iopub.status.busy": "2025-08-19T19:06:21.511820Z",
     "iopub.status.idle": "2025-08-19T19:06:22.906730Z",
     "shell.execute_reply": "2025-08-19T19:06:22.905491Z"
    },
    "papermill": {
     "duration": 1.409505,
     "end_time": "2025-08-19T19:06:22.908545",
     "exception": false,
     "start_time": "2025-08-19T19:06:21.499040",
     "status": "completed"
    },
    "tags": []
   },
   "outputs": [],
   "source": [
    "probs_calib = model.predict_proba(X_calib)"
   ]
  },
  {
   "cell_type": "code",
   "execution_count": 39,
   "id": "a792d4dd",
   "metadata": {
    "execution": {
     "iopub.execute_input": "2025-08-19T19:06:22.961492Z",
     "iopub.status.busy": "2025-08-19T19:06:22.960017Z",
     "iopub.status.idle": "2025-08-19T19:06:22.974936Z",
     "shell.execute_reply": "2025-08-19T19:06:22.973282Z"
    },
    "papermill": {
     "duration": 0.043407,
     "end_time": "2025-08-19T19:06:22.976673",
     "exception": false,
     "start_time": "2025-08-19T19:06:22.933266",
     "status": "completed"
    },
    "tags": []
   },
   "outputs": [],
   "source": [
    "y_calib = y_calib.values.ravel().astype(int)"
   ]
  },
  {
   "cell_type": "code",
   "execution_count": 40,
   "id": "650fd033",
   "metadata": {
    "execution": {
     "iopub.execute_input": "2025-08-19T19:06:23.002876Z",
     "iopub.status.busy": "2025-08-19T19:06:23.001589Z",
     "iopub.status.idle": "2025-08-19T19:06:23.017199Z",
     "shell.execute_reply": "2025-08-19T19:06:23.015902Z"
    },
    "papermill": {
     "duration": 0.03047,
     "end_time": "2025-08-19T19:06:23.019084",
     "exception": false,
     "start_time": "2025-08-19T19:06:22.988614",
     "status": "completed"
    },
    "tags": []
   },
   "outputs": [],
   "source": [
    "from fairness_multiverse.conformal import compute_nc_scores\n",
    "\n",
    "# Compute nonconformity scores on calibration set (1 - probability of true class)\n",
    "nc_scores = compute_nc_scores(probs_calib, y_calib)"
   ]
  },
  {
   "cell_type": "code",
   "execution_count": 41,
   "id": "28ada44c",
   "metadata": {
    "execution": {
     "iopub.execute_input": "2025-08-19T19:06:23.050446Z",
     "iopub.status.busy": "2025-08-19T19:06:23.049201Z",
     "iopub.status.idle": "2025-08-19T19:06:23.060846Z",
     "shell.execute_reply": "2025-08-19T19:06:23.059743Z"
    },
    "papermill": {
     "duration": 0.026628,
     "end_time": "2025-08-19T19:06:23.062429",
     "exception": false,
     "start_time": "2025-08-19T19:06:23.035801",
     "status": "completed"
    },
    "tags": []
   },
   "outputs": [],
   "source": [
    "from fairness_multiverse.conformal import find_threshold\n",
    "\n",
    "# Find conformal threshold q_hat for the given alpha (split conformal method)\n",
    "q_hat = find_threshold(nc_scores, alpha)"
   ]
  },
  {
   "cell_type": "code",
   "execution_count": 42,
   "id": "df56469e",
   "metadata": {
    "execution": {
     "iopub.execute_input": "2025-08-19T19:06:23.094556Z",
     "iopub.status.busy": "2025-08-19T19:06:23.093157Z",
     "iopub.status.idle": "2025-08-19T19:06:23.103858Z",
     "shell.execute_reply": "2025-08-19T19:06:23.102682Z"
    },
    "papermill": {
     "duration": 0.026161,
     "end_time": "2025-08-19T19:06:23.105394",
     "exception": false,
     "start_time": "2025-08-19T19:06:23.079233",
     "status": "completed"
    },
    "tags": []
   },
   "outputs": [
    {
     "data": {
      "text/plain": [
       "0.65"
      ]
     },
     "execution_count": 42,
     "metadata": {},
     "output_type": "execute_result"
    }
   ],
   "source": [
    "q_hat"
   ]
  },
  {
   "cell_type": "code",
   "execution_count": 43,
   "id": "aa1f5faa",
   "metadata": {
    "execution": {
     "iopub.execute_input": "2025-08-19T19:06:23.134700Z",
     "iopub.status.busy": "2025-08-19T19:06:23.133283Z",
     "iopub.status.idle": "2025-08-19T19:06:25.047076Z",
     "shell.execute_reply": "2025-08-19T19:06:25.046236Z"
    },
    "papermill": {
     "duration": 1.929981,
     "end_time": "2025-08-19T19:06:25.049989",
     "exception": false,
     "start_time": "2025-08-19T19:06:23.120008",
     "status": "completed"
    },
    "tags": []
   },
   "outputs": [],
   "source": [
    "from fairness_multiverse.conformal import predict_conformal_sets\n",
    "\n",
    "# Generate prediction sets for each test example\n",
    "pred_sets = predict_conformal_sets(model, X_test, q_hat)"
   ]
  },
  {
   "cell_type": "code",
   "execution_count": 44,
   "id": "97f67a6b",
   "metadata": {
    "execution": {
     "iopub.execute_input": "2025-08-19T19:06:25.096403Z",
     "iopub.status.busy": "2025-08-19T19:06:25.095117Z",
     "iopub.status.idle": "2025-08-19T19:06:25.103571Z",
     "shell.execute_reply": "2025-08-19T19:06:25.102362Z"
    },
    "papermill": {
     "duration": 0.025725,
     "end_time": "2025-08-19T19:06:25.105405",
     "exception": false,
     "start_time": "2025-08-19T19:06:25.079680",
     "status": "completed"
    },
    "tags": []
   },
   "outputs": [],
   "source": [
    "y_true = y_true.squeeze()"
   ]
  },
  {
   "cell_type": "code",
   "execution_count": 45,
   "id": "e700e9a7",
   "metadata": {
    "execution": {
     "iopub.execute_input": "2025-08-19T19:06:25.134873Z",
     "iopub.status.busy": "2025-08-19T19:06:25.133477Z",
     "iopub.status.idle": "2025-08-19T19:06:25.639870Z",
     "shell.execute_reply": "2025-08-19T19:06:25.638980Z"
    },
    "papermill": {
     "duration": 0.52286,
     "end_time": "2025-08-19T19:06:25.642797",
     "exception": false,
     "start_time": "2025-08-19T19:06:25.119937",
     "status": "completed"
    },
    "tags": []
   },
   "outputs": [],
   "source": [
    "from fairness_multiverse.conformal import evaluate_sets\n",
    "\n",
    "# Evaluate coverage and average set size on test data\n",
    "metrics = evaluate_sets(pred_sets, y_true)"
   ]
  },
  {
   "cell_type": "markdown",
   "id": "efbacec0",
   "metadata": {
    "papermill": {
     "duration": 0.012817,
     "end_time": "2025-08-19T19:06:25.680206",
     "exception": false,
     "start_time": "2025-08-19T19:06:25.667389",
     "status": "completed"
    },
    "tags": []
   },
   "source": [
    "# CP Metrics"
   ]
  },
  {
   "cell_type": "code",
   "execution_count": 46,
   "id": "9de55fb1",
   "metadata": {
    "execution": {
     "iopub.execute_input": "2025-08-19T19:06:25.706670Z",
     "iopub.status.busy": "2025-08-19T19:06:25.705187Z",
     "iopub.status.idle": "2025-08-19T19:06:25.716297Z",
     "shell.execute_reply": "2025-08-19T19:06:25.715163Z"
    },
    "papermill": {
     "duration": 0.025951,
     "end_time": "2025-08-19T19:06:25.717764",
     "exception": false,
     "start_time": "2025-08-19T19:06:25.691813",
     "status": "completed"
    },
    "tags": []
   },
   "outputs": [
    {
     "data": {
      "text/plain": [
       "{'coverage': 0.9139895217924423, 'avg_size': 1.149838368074908}"
      ]
     },
     "execution_count": 46,
     "metadata": {},
     "output_type": "execute_result"
    }
   ],
   "source": [
    "metrics"
   ]
  },
  {
   "cell_type": "code",
   "execution_count": 47,
   "id": "64c340a1",
   "metadata": {
    "execution": {
     "iopub.execute_input": "2025-08-19T19:06:25.752463Z",
     "iopub.status.busy": "2025-08-19T19:06:25.751159Z",
     "iopub.status.idle": "2025-08-19T19:06:25.761155Z",
     "shell.execute_reply": "2025-08-19T19:06:25.759910Z"
    },
    "papermill": {
     "duration": 0.026131,
     "end_time": "2025-08-19T19:06:25.762569",
     "exception": false,
     "start_time": "2025-08-19T19:06:25.736438",
     "status": "completed"
    },
    "tags": []
   },
   "outputs": [],
   "source": [
    "example_universe = universe.copy()\n",
    "universe_training_year = example_universe.get(\"training_year\")\n",
    "universe_training_size = example_universe.get(\"training_size\")\n",
    "universe_scale = example_universe.get(\"scale\")\n",
    "universe_model = example_universe.get(\"model\")\n",
    "universe_exclude_features = example_universe.get(\"exclude_features\")\n",
    "universe_exclude_subgroups = example_universe.get(\"exclude_subgroups\")"
   ]
  },
  {
   "cell_type": "code",
   "execution_count": 48,
   "id": "dbb53cb4",
   "metadata": {
    "execution": {
     "iopub.execute_input": "2025-08-19T19:06:25.791605Z",
     "iopub.status.busy": "2025-08-19T19:06:25.790303Z",
     "iopub.status.idle": "2025-08-19T19:06:25.800041Z",
     "shell.execute_reply": "2025-08-19T19:06:25.798786Z"
    },
    "papermill": {
     "duration": 0.024413,
     "end_time": "2025-08-19T19:06:25.801452",
     "exception": false,
     "start_time": "2025-08-19T19:06:25.777039",
     "status": "completed"
    },
    "tags": []
   },
   "outputs": [],
   "source": [
    "cp_metrics_dict = {\n",
    "    \"universe_id\": [universe_id],\n",
    "    \"universe_training_year\": [universe_training_year],\n",
    "    \"universe_training_size\": [universe_training_size],\n",
    "    \"universe_scale\": [universe_scale],\n",
    "    \"universe_model\": [universe_model],\n",
    "    \"universe_exclude_features\": [universe_exclude_features],\n",
    "    \"universe_exclude_subgroups\": [universe_exclude_subgroups],\n",
    "    \"q_hat\": [q_hat],\n",
    "    \"coverage\": [metrics[\"coverage\"]],\n",
    "    \"avg_size\": [metrics[\"avg_size\"]],\n",
    "}"
   ]
  },
  {
   "cell_type": "code",
   "execution_count": 49,
   "id": "0d70d4b2",
   "metadata": {
    "execution": {
     "iopub.execute_input": "2025-08-19T19:06:25.830521Z",
     "iopub.status.busy": "2025-08-19T19:06:25.829345Z",
     "iopub.status.idle": "2025-08-19T19:06:25.839095Z",
     "shell.execute_reply": "2025-08-19T19:06:25.838001Z"
    },
    "papermill": {
     "duration": 0.024386,
     "end_time": "2025-08-19T19:06:25.840540",
     "exception": false,
     "start_time": "2025-08-19T19:06:25.816154",
     "status": "completed"
    },
    "tags": []
   },
   "outputs": [],
   "source": [
    "cp_metrics_df = pd.DataFrame(cp_metrics_dict)"
   ]
  },
  {
   "cell_type": "code",
   "execution_count": 50,
   "id": "b494403c",
   "metadata": {
    "execution": {
     "iopub.execute_input": "2025-08-19T19:06:25.869643Z",
     "iopub.status.busy": "2025-08-19T19:06:25.868360Z",
     "iopub.status.idle": "2025-08-19T19:06:25.889603Z",
     "shell.execute_reply": "2025-08-19T19:06:25.888759Z"
    },
    "papermill": {
     "duration": 0.037303,
     "end_time": "2025-08-19T19:06:25.892253",
     "exception": false,
     "start_time": "2025-08-19T19:06:25.854950",
     "status": "completed"
    },
    "tags": []
   },
   "outputs": [
    {
     "data": {
      "text/html": [
       "<div>\n",
       "<style scoped>\n",
       "    .dataframe tbody tr th:only-of-type {\n",
       "        vertical-align: middle;\n",
       "    }\n",
       "\n",
       "    .dataframe tbody tr th {\n",
       "        vertical-align: top;\n",
       "    }\n",
       "\n",
       "    .dataframe thead th {\n",
       "        text-align: right;\n",
       "    }\n",
       "</style>\n",
       "<table border=\"1\" class=\"dataframe\">\n",
       "  <thead>\n",
       "    <tr style=\"text-align: right;\">\n",
       "      <th></th>\n",
       "      <th>universe_id</th>\n",
       "      <th>universe_training_year</th>\n",
       "      <th>universe_training_size</th>\n",
       "      <th>universe_scale</th>\n",
       "      <th>universe_model</th>\n",
       "      <th>universe_exclude_features</th>\n",
       "      <th>universe_exclude_subgroups</th>\n",
       "      <th>q_hat</th>\n",
       "      <th>coverage</th>\n",
       "      <th>avg_size</th>\n",
       "    </tr>\n",
       "  </thead>\n",
       "  <tbody>\n",
       "    <tr>\n",
       "      <th>0</th>\n",
       "      <td>8c6353d5edf94eaa8deebd2508714d09</td>\n",
       "      <td>2010_14</td>\n",
       "      <td>1k</td>\n",
       "      <td>scale</td>\n",
       "      <td>rf</td>\n",
       "      <td>none</td>\n",
       "      <td>keep-all</td>\n",
       "      <td>0.65</td>\n",
       "      <td>0.91399</td>\n",
       "      <td>1.149838</td>\n",
       "    </tr>\n",
       "  </tbody>\n",
       "</table>\n",
       "</div>"
      ],
      "text/plain": [
       "                        universe_id universe_training_year  \\\n",
       "0  8c6353d5edf94eaa8deebd2508714d09                2010_14   \n",
       "\n",
       "  universe_training_size universe_scale universe_model  \\\n",
       "0                     1k          scale             rf   \n",
       "\n",
       "  universe_exclude_features universe_exclude_subgroups  q_hat  coverage  \\\n",
       "0                      none                   keep-all   0.65   0.91399   \n",
       "\n",
       "   avg_size  \n",
       "0  1.149838  "
      ]
     },
     "execution_count": 50,
     "metadata": {},
     "output_type": "execute_result"
    }
   ],
   "source": [
    "cp_metrics_df"
   ]
  },
  {
   "cell_type": "markdown",
   "id": "ed608b0b",
   "metadata": {
    "papermill": {
     "duration": 0.01254,
     "end_time": "2025-08-19T19:06:25.922349",
     "exception": false,
     "start_time": "2025-08-19T19:06:25.909809",
     "status": "completed"
    },
    "tags": []
   },
   "source": [
    "Conditional coverage & looking at subgroups"
   ]
  },
  {
   "cell_type": "code",
   "execution_count": 51,
   "id": "8968c366",
   "metadata": {
    "execution": {
     "iopub.execute_input": "2025-08-19T19:06:25.953618Z",
     "iopub.status.busy": "2025-08-19T19:06:25.952292Z",
     "iopub.status.idle": "2025-08-19T19:06:26.191963Z",
     "shell.execute_reply": "2025-08-19T19:06:26.191230Z"
    },
    "papermill": {
     "duration": 0.258445,
     "end_time": "2025-08-19T19:06:26.194755",
     "exception": false,
     "start_time": "2025-08-19T19:06:25.936310",
     "status": "completed"
    },
    "tags": []
   },
   "outputs": [],
   "source": [
    "from fairness_multiverse.conformal import build_cp_groups\n",
    "\n",
    "cp_groups_df = build_cp_groups(pred_sets, y_true, X_test.index, org_test)"
   ]
  },
  {
   "cell_type": "code",
   "execution_count": 52,
   "id": "292ddabf",
   "metadata": {
    "execution": {
     "iopub.execute_input": "2025-08-19T19:06:26.238858Z",
     "iopub.status.busy": "2025-08-19T19:06:26.238391Z",
     "iopub.status.idle": "2025-08-19T19:06:27.102447Z",
     "shell.execute_reply": "2025-08-19T19:06:27.101359Z"
    },
    "papermill": {
     "duration": 0.882209,
     "end_time": "2025-08-19T19:06:27.104378",
     "exception": false,
     "start_time": "2025-08-19T19:06:26.222169",
     "status": "completed"
    },
    "tags": []
   },
   "outputs": [],
   "source": [
    "# Define covered = 1 if true_label is in the predicted set\n",
    "cp_groups_df['covered'] = cp_groups_df.apply(\n",
    "    lambda r: int(r['true_label'] in r['pred_set']),\n",
    "    axis=1\n",
    ")"
   ]
  },
  {
   "cell_type": "code",
   "execution_count": 53,
   "id": "3a261692",
   "metadata": {
    "execution": {
     "iopub.execute_input": "2025-08-19T19:06:27.133187Z",
     "iopub.status.busy": "2025-08-19T19:06:27.131750Z",
     "iopub.status.idle": "2025-08-19T19:06:27.150338Z",
     "shell.execute_reply": "2025-08-19T19:06:27.149366Z"
    },
    "papermill": {
     "duration": 0.033956,
     "end_time": "2025-08-19T19:06:27.151872",
     "exception": false,
     "start_time": "2025-08-19T19:06:27.117916",
     "status": "completed"
    },
    "tags": []
   },
   "outputs": [],
   "source": [
    "subgroups = ['frau1','nongerman','nongerman_male','nongerman_female']\n",
    "\n",
    "# Conditional coverage for subgroup==1\n",
    "cond_coverage = {\n",
    "    g: cp_groups_df.loc[cp_groups_df[g]==1, 'covered'].mean()\n",
    "    for g in subgroups\n",
    "}"
   ]
  },
  {
   "cell_type": "code",
   "execution_count": 54,
   "id": "894fd600",
   "metadata": {
    "execution": {
     "iopub.execute_input": "2025-08-19T19:06:27.188776Z",
     "iopub.status.busy": "2025-08-19T19:06:27.187363Z",
     "iopub.status.idle": "2025-08-19T19:06:27.198074Z",
     "shell.execute_reply": "2025-08-19T19:06:27.196862Z"
    },
    "papermill": {
     "duration": 0.027322,
     "end_time": "2025-08-19T19:06:27.199694",
     "exception": false,
     "start_time": "2025-08-19T19:06:27.172372",
     "status": "completed"
    },
    "tags": []
   },
   "outputs": [
    {
     "data": {
      "text/plain": [
       "{'frau1': 0.9127645235206902,\n",
       " 'nongerman': 0.9088306293156684,\n",
       " 'nongerman_male': 0.9245249031793209,\n",
       " 'nongerman_female': 0.8828614008941877}"
      ]
     },
     "execution_count": 54,
     "metadata": {},
     "output_type": "execute_result"
    }
   ],
   "source": [
    "cond_coverage"
   ]
  },
  {
   "cell_type": "code",
   "execution_count": 55,
   "id": "942895c7",
   "metadata": {
    "execution": {
     "iopub.execute_input": "2025-08-19T19:06:27.229470Z",
     "iopub.status.busy": "2025-08-19T19:06:27.228123Z",
     "iopub.status.idle": "2025-08-19T19:06:27.239494Z",
     "shell.execute_reply": "2025-08-19T19:06:27.238165Z"
    },
    "papermill": {
     "duration": 0.026872,
     "end_time": "2025-08-19T19:06:27.241245",
     "exception": false,
     "start_time": "2025-08-19T19:06:27.214373",
     "status": "completed"
    },
    "tags": []
   },
   "outputs": [],
   "source": [
    "for subgroup, cov in cond_coverage.items():\n",
    "    cp_metrics_df[f\"cov_{subgroup}\"] = cov"
   ]
  },
  {
   "cell_type": "code",
   "execution_count": 56,
   "id": "3970120f",
   "metadata": {
    "execution": {
     "iopub.execute_input": "2025-08-19T19:06:27.271970Z",
     "iopub.status.busy": "2025-08-19T19:06:27.270642Z",
     "iopub.status.idle": "2025-08-19T19:06:27.296324Z",
     "shell.execute_reply": "2025-08-19T19:06:27.295489Z"
    },
    "papermill": {
     "duration": 0.041771,
     "end_time": "2025-08-19T19:06:27.298663",
     "exception": false,
     "start_time": "2025-08-19T19:06:27.256892",
     "status": "completed"
    },
    "tags": []
   },
   "outputs": [
    {
     "data": {
      "text/html": [
       "<div>\n",
       "<style scoped>\n",
       "    .dataframe tbody tr th:only-of-type {\n",
       "        vertical-align: middle;\n",
       "    }\n",
       "\n",
       "    .dataframe tbody tr th {\n",
       "        vertical-align: top;\n",
       "    }\n",
       "\n",
       "    .dataframe thead th {\n",
       "        text-align: right;\n",
       "    }\n",
       "</style>\n",
       "<table border=\"1\" class=\"dataframe\">\n",
       "  <thead>\n",
       "    <tr style=\"text-align: right;\">\n",
       "      <th></th>\n",
       "      <th>universe_id</th>\n",
       "      <th>universe_training_year</th>\n",
       "      <th>universe_training_size</th>\n",
       "      <th>universe_scale</th>\n",
       "      <th>universe_model</th>\n",
       "      <th>universe_exclude_features</th>\n",
       "      <th>universe_exclude_subgroups</th>\n",
       "      <th>q_hat</th>\n",
       "      <th>coverage</th>\n",
       "      <th>avg_size</th>\n",
       "      <th>cov_frau1</th>\n",
       "      <th>cov_nongerman</th>\n",
       "      <th>cov_nongerman_male</th>\n",
       "      <th>cov_nongerman_female</th>\n",
       "    </tr>\n",
       "  </thead>\n",
       "  <tbody>\n",
       "    <tr>\n",
       "      <th>0</th>\n",
       "      <td>8c6353d5edf94eaa8deebd2508714d09</td>\n",
       "      <td>2010_14</td>\n",
       "      <td>1k</td>\n",
       "      <td>scale</td>\n",
       "      <td>rf</td>\n",
       "      <td>none</td>\n",
       "      <td>keep-all</td>\n",
       "      <td>0.65</td>\n",
       "      <td>0.91399</td>\n",
       "      <td>1.149838</td>\n",
       "      <td>0.912765</td>\n",
       "      <td>0.908831</td>\n",
       "      <td>0.924525</td>\n",
       "      <td>0.882861</td>\n",
       "    </tr>\n",
       "  </tbody>\n",
       "</table>\n",
       "</div>"
      ],
      "text/plain": [
       "                        universe_id universe_training_year  \\\n",
       "0  8c6353d5edf94eaa8deebd2508714d09                2010_14   \n",
       "\n",
       "  universe_training_size universe_scale universe_model  \\\n",
       "0                     1k          scale             rf   \n",
       "\n",
       "  universe_exclude_features universe_exclude_subgroups  q_hat  coverage  \\\n",
       "0                      none                   keep-all   0.65   0.91399   \n",
       "\n",
       "   avg_size  cov_frau1  cov_nongerman  cov_nongerman_male  \\\n",
       "0  1.149838   0.912765       0.908831            0.924525   \n",
       "\n",
       "   cov_nongerman_female  \n",
       "0              0.882861  "
      ]
     },
     "execution_count": 56,
     "metadata": {},
     "output_type": "execute_result"
    }
   ],
   "source": [
    "cp_metrics_df"
   ]
  },
  {
   "cell_type": "markdown",
   "id": "3fc519cc",
   "metadata": {
    "papermill": {
     "duration": 0.013185,
     "end_time": "2025-08-19T19:06:27.335288",
     "exception": false,
     "start_time": "2025-08-19T19:06:27.322103",
     "status": "completed"
    },
    "tags": []
   },
   "source": [
    "# (Fairness) Metrics"
   ]
  },
  {
   "cell_type": "code",
   "execution_count": 57,
   "id": "a2e5e155",
   "metadata": {
    "execution": {
     "iopub.execute_input": "2025-08-19T19:06:27.362770Z",
     "iopub.status.busy": "2025-08-19T19:06:27.361380Z",
     "iopub.status.idle": "2025-08-19T19:06:27.388685Z",
     "shell.execute_reply": "2025-08-19T19:06:27.387785Z"
    },
    "papermill": {
     "duration": 0.043648,
     "end_time": "2025-08-19T19:06:27.390956",
     "exception": false,
     "start_time": "2025-08-19T19:06:27.347308",
     "status": "completed"
    },
    "tags": []
   },
   "outputs": [],
   "source": [
    "colname_to_bin = \"maxdeutsch1\"\n",
    "majority_value = org_train[colname_to_bin].mode()[0]\n",
    "\n",
    "org_test[\"majmin\"] = np.where(org_test[colname_to_bin] == majority_value, \"majority\", \"minority\")"
   ]
  },
  {
   "cell_type": "code",
   "execution_count": 58,
   "id": "17e3e4d5",
   "metadata": {
    "execution": {
     "iopub.execute_input": "2025-08-19T19:06:27.430535Z",
     "iopub.status.busy": "2025-08-19T19:06:27.429335Z",
     "iopub.status.idle": "2025-08-19T19:06:29.133985Z",
     "shell.execute_reply": "2025-08-19T19:06:29.132771Z"
    },
    "papermill": {
     "duration": 1.721373,
     "end_time": "2025-08-19T19:06:29.135717",
     "exception": false,
     "start_time": "2025-08-19T19:06:27.414344",
     "status": "completed"
    },
    "tags": []
   },
   "outputs": [],
   "source": [
    "example_universe = universe.copy()\n",
    "example_universe[\"cutoff\"] = example_universe[\"cutoff\"][0]\n",
    "example_universe[\"eval_fairness_grouping\"] = example_universe[\"eval_fairness_grouping\"][0]\n",
    "fairness_dict, metric_frame = universe_analysis.compute_metrics(\n",
    "    example_universe,\n",
    "    y_pred_prob=probs_test,\n",
    "    y_test=y_true,\n",
    "    org_test=org_test,\n",
    ")"
   ]
  },
  {
   "cell_type": "markdown",
   "id": "1fb7a0e9",
   "metadata": {
    "papermill": {
     "duration": 0.018959,
     "end_time": "2025-08-19T19:06:29.168127",
     "exception": false,
     "start_time": "2025-08-19T19:06:29.149168",
     "status": "completed"
    },
    "tags": []
   },
   "source": [
    "# Overall"
   ]
  },
  {
   "cell_type": "markdown",
   "id": "be1784b1",
   "metadata": {
    "papermill": {
     "duration": 0.012276,
     "end_time": "2025-08-19T19:06:29.193598",
     "exception": false,
     "start_time": "2025-08-19T19:06:29.181322",
     "status": "completed"
    },
    "tags": []
   },
   "source": [
    "Main fairness target: Equalized Odds. Seems to be a better fit than equal opportunity, since we're not only interested in Y = 1. Seems to be a better fit than demographic parity, since we also care about accuracy, not just equal distribution of preds.\n",
    "\n",
    "Pick column for computation of fairness metrics\n",
    "\n",
    "Performance\n",
    "Overall performance measures, most interesting in relation to the measures split by group below"
   ]
  },
  {
   "cell_type": "code",
   "execution_count": 59,
   "id": "b7672bee",
   "metadata": {
    "execution": {
     "iopub.execute_input": "2025-08-19T19:06:29.257815Z",
     "iopub.status.busy": "2025-08-19T19:06:29.257324Z",
     "iopub.status.idle": "2025-08-19T19:06:29.265305Z",
     "shell.execute_reply": "2025-08-19T19:06:29.264517Z"
    },
    "papermill": {
     "duration": 0.029834,
     "end_time": "2025-08-19T19:06:29.266908",
     "exception": false,
     "start_time": "2025-08-19T19:06:29.237074",
     "status": "completed"
    },
    "tags": []
   },
   "outputs": [
    {
     "data": {
      "text/plain": [
       "accuracy                   0.203489\n",
       "balanced accuracy          0.532170\n",
       "f1                         0.238861\n",
       "precision                  0.136116\n",
       "false positive rate        0.909938\n",
       "false negative rate        0.025721\n",
       "selection rate             0.918192\n",
       "count                  89710.000000\n",
       "dtype: float64"
      ]
     },
     "execution_count": 59,
     "metadata": {},
     "output_type": "execute_result"
    }
   ],
   "source": [
    "metric_frame.overall"
   ]
  },
  {
   "cell_type": "markdown",
   "id": "d93333c9",
   "metadata": {
    "papermill": {
     "duration": 0.013286,
     "end_time": "2025-08-19T19:06:29.299326",
     "exception": false,
     "start_time": "2025-08-19T19:06:29.286040",
     "status": "completed"
    },
    "tags": []
   },
   "source": [
    "By Group"
   ]
  },
  {
   "cell_type": "code",
   "execution_count": 60,
   "id": "52256966",
   "metadata": {
    "execution": {
     "iopub.execute_input": "2025-08-19T19:06:29.326119Z",
     "iopub.status.busy": "2025-08-19T19:06:29.325712Z",
     "iopub.status.idle": "2025-08-19T19:06:29.337876Z",
     "shell.execute_reply": "2025-08-19T19:06:29.337148Z"
    },
    "papermill": {
     "duration": 0.027193,
     "end_time": "2025-08-19T19:06:29.339187",
     "exception": false,
     "start_time": "2025-08-19T19:06:29.311994",
     "status": "completed"
    },
    "tags": []
   },
   "outputs": [
    {
     "data": {
      "text/html": [
       "<div>\n",
       "<style scoped>\n",
       "    .dataframe tbody tr th:only-of-type {\n",
       "        vertical-align: middle;\n",
       "    }\n",
       "\n",
       "    .dataframe tbody tr th {\n",
       "        vertical-align: top;\n",
       "    }\n",
       "\n",
       "    .dataframe thead th {\n",
       "        text-align: right;\n",
       "    }\n",
       "</style>\n",
       "<table border=\"1\" class=\"dataframe\">\n",
       "  <thead>\n",
       "    <tr style=\"text-align: right;\">\n",
       "      <th></th>\n",
       "      <th>accuracy</th>\n",
       "      <th>balanced accuracy</th>\n",
       "      <th>f1</th>\n",
       "      <th>precision</th>\n",
       "      <th>false positive rate</th>\n",
       "      <th>false negative rate</th>\n",
       "      <th>selection rate</th>\n",
       "      <th>count</th>\n",
       "    </tr>\n",
       "    <tr>\n",
       "      <th>majmin</th>\n",
       "      <th></th>\n",
       "      <th></th>\n",
       "      <th></th>\n",
       "      <th></th>\n",
       "      <th></th>\n",
       "      <th></th>\n",
       "      <th></th>\n",
       "      <th></th>\n",
       "    </tr>\n",
       "  </thead>\n",
       "  <tbody>\n",
       "    <tr>\n",
       "      <th>majority</th>\n",
       "      <td>0.195634</td>\n",
       "      <td>0.532408</td>\n",
       "      <td>0.245464</td>\n",
       "      <td>0.140097</td>\n",
       "      <td>0.925337</td>\n",
       "      <td>0.009847</td>\n",
       "      <td>0.933902</td>\n",
       "      <td>69170.0</td>\n",
       "    </tr>\n",
       "    <tr>\n",
       "      <th>minority</th>\n",
       "      <td>0.229942</td>\n",
       "      <td>0.526969</td>\n",
       "      <td>0.214686</td>\n",
       "      <td>0.121645</td>\n",
       "      <td>0.859069</td>\n",
       "      <td>0.086993</td>\n",
       "      <td>0.865287</td>\n",
       "      <td>20540.0</td>\n",
       "    </tr>\n",
       "  </tbody>\n",
       "</table>\n",
       "</div>"
      ],
      "text/plain": [
       "          accuracy  balanced accuracy        f1  precision  \\\n",
       "majmin                                                       \n",
       "majority  0.195634           0.532408  0.245464   0.140097   \n",
       "minority  0.229942           0.526969  0.214686   0.121645   \n",
       "\n",
       "          false positive rate  false negative rate  selection rate    count  \n",
       "majmin                                                                       \n",
       "majority             0.925337             0.009847        0.933902  69170.0  \n",
       "minority             0.859069             0.086993        0.865287  20540.0  "
      ]
     },
     "execution_count": 60,
     "metadata": {},
     "output_type": "execute_result"
    }
   ],
   "source": [
    "metric_frame.by_group"
   ]
  },
  {
   "cell_type": "code",
   "execution_count": 61,
   "id": "6e6c20ae",
   "metadata": {
    "execution": {
     "iopub.execute_input": "2025-08-19T19:06:29.368817Z",
     "iopub.status.busy": "2025-08-19T19:06:29.368384Z",
     "iopub.status.idle": "2025-08-19T19:06:31.261416Z",
     "shell.execute_reply": "2025-08-19T19:06:31.259920Z"
    },
    "papermill": {
     "duration": 1.909449,
     "end_time": "2025-08-19T19:06:31.263183",
     "exception": false,
     "start_time": "2025-08-19T19:06:29.353734",
     "status": "completed"
    },
    "tags": []
   },
   "outputs": [
    {
     "data": {
      "text/plain": [
       "array([[<Axes: title={'center': 'accuracy'}, xlabel='majmin'>,\n",
       "        <Axes: title={'center': 'balanced accuracy'}, xlabel='majmin'>,\n",
       "        <Axes: title={'center': 'f1'}, xlabel='majmin'>],\n",
       "       [<Axes: title={'center': 'precision'}, xlabel='majmin'>,\n",
       "        <Axes: title={'center': 'false positive rate'}, xlabel='majmin'>,\n",
       "        <Axes: title={'center': 'false negative rate'}, xlabel='majmin'>],\n",
       "       [<Axes: title={'center': 'selection rate'}, xlabel='majmin'>,\n",
       "        <Axes: title={'center': 'count'}, xlabel='majmin'>,\n",
       "        <Axes: xlabel='majmin'>]], dtype=object)"
      ]
     },
     "execution_count": 61,
     "metadata": {},
     "output_type": "execute_result"
    },
    {
     "data": {
      "image/png": "[encoded data removed]",
      "text/plain": [
       "<Figure size 1200x800 with 9 Axes>"
      ]
     },
     "metadata": {},
     "output_type": "display_data"
    }
   ],
   "source": [
    "# In a graphic\n",
    "metric_frame.by_group.plot.bar(\n",
    "    subplots=True,\n",
    "    layout=[3, 3],\n",
    "    legend=False,\n",
    "    figsize=[12, 8],\n",
    "    title=\"Show all metrics\",\n",
    ")"
   ]
  },
  {
   "cell_type": "markdown",
   "id": "b2e433ae",
   "metadata": {
    "papermill": {
     "duration": 0.035185,
     "end_time": "2025-08-19T19:06:31.318316",
     "exception": false,
     "start_time": "2025-08-19T19:06:31.283131",
     "status": "completed"
    },
    "tags": []
   },
   "source": [
    "# Final Output"
   ]
  },
  {
   "cell_type": "code",
   "execution_count": 62,
   "id": "3871301e",
   "metadata": {
    "execution": {
     "iopub.execute_input": "2025-08-19T19:06:31.372001Z",
     "iopub.status.busy": "2025-08-19T19:06:31.368071Z",
     "iopub.status.idle": "2025-08-19T19:06:31.389733Z",
     "shell.execute_reply": "2025-08-19T19:06:31.388640Z"
    },
    "papermill": {
     "duration": 0.042116,
     "end_time": "2025-08-19T19:06:31.391810",
     "exception": false,
     "start_time": "2025-08-19T19:06:31.349694",
     "status": "completed"
    },
    "tags": []
   },
   "outputs": [
    {
     "data": {
      "text/plain": [
       "4"
      ]
     },
     "execution_count": 62,
     "metadata": {},
     "output_type": "execute_result"
    }
   ],
   "source": [
    "sub_universes = universe_analysis.generate_sub_universes()\n",
    "len(sub_universes)"
   ]
  },
  {
   "cell_type": "code",
   "execution_count": 63,
   "id": "d9cfdaca",
   "metadata": {
    "execution": {
     "iopub.execute_input": "2025-08-19T19:06:31.435185Z",
     "iopub.status.busy": "2025-08-19T19:06:31.434430Z",
     "iopub.status.idle": "2025-08-19T19:06:31.447193Z",
     "shell.execute_reply": "2025-08-19T19:06:31.445776Z"
    },
    "papermill": {
     "duration": 0.031835,
     "end_time": "2025-08-19T19:06:31.449243",
     "exception": false,
     "start_time": "2025-08-19T19:06:31.417408",
     "status": "completed"
    },
    "tags": []
   },
   "outputs": [],
   "source": [
    "def filter_sub_universe_data(sub_universe, org_test):\n",
    "    # Keep all rows — no filtering\n",
    "    keep_rows_mask = np.ones(org_test.shape[0], dtype=bool)\n",
    "\n",
    "    print(f\"[INFO] Keeping all rows: {keep_rows_mask.sum()} rows retained.\")\n",
    "    return keep_rows_mask"
   ]
  },
  {
   "cell_type": "code",
   "execution_count": 64,
   "id": "2bc31ac1",
   "metadata": {
    "execution": {
     "iopub.execute_input": "2025-08-19T19:06:31.486551Z",
     "iopub.status.busy": "2025-08-19T19:06:31.485809Z",
     "iopub.status.idle": "2025-08-19T19:06:38.495397Z",
     "shell.execute_reply": "2025-08-19T19:06:38.494389Z"
    },
    "papermill": {
     "duration": 7.028158,
     "end_time": "2025-08-19T19:06:38.496826",
     "exception": false,
     "start_time": "2025-08-19T19:06:31.468668",
     "status": "completed"
    },
    "tags": []
   },
   "outputs": [
    {
     "name": "stdout",
     "output_type": "stream",
     "text": [
      "Stopping execution_time clock.\n",
      "[INFO] Keeping all rows: 89710 rows retained.\n"
     ]
    },
    {
     "name": "stdout",
     "output_type": "stream",
     "text": [
      "[INFO] Keeping all rows: 89710 rows retained.\n"
     ]
    },
    {
     "name": "stdout",
     "output_type": "stream",
     "text": [
      "[INFO] Keeping all rows: 89710 rows retained.\n"
     ]
    },
    {
     "name": "stdout",
     "output_type": "stream",
     "text": [
      "[INFO] Keeping all rows: 89710 rows retained.\n"
     ]
    },
    {
     "data": {
      "text/html": [
       "<div>\n",
       "<style scoped>\n",
       "    .dataframe tbody tr th:only-of-type {\n",
       "        vertical-align: middle;\n",
       "    }\n",
       "\n",
       "    .dataframe tbody tr th {\n",
       "        vertical-align: top;\n",
       "    }\n",
       "\n",
       "    .dataframe thead th {\n",
       "        text-align: right;\n",
       "    }\n",
       "</style>\n",
       "<table border=\"1\" class=\"dataframe\">\n",
       "  <thead>\n",
       "    <tr style=\"text-align: right;\">\n",
       "      <th></th>\n",
       "      <th>run_no</th>\n",
       "      <th>universe_id</th>\n",
       "      <th>universe_settings</th>\n",
       "      <th>execution_time</th>\n",
       "      <th>test_size_n</th>\n",
       "      <th>test_size_frac</th>\n",
       "      <th>fair_main_equalized_odds_difference</th>\n",
       "      <th>fair_main_equalized_odds_ratio</th>\n",
       "      <th>fair_main_demographic_parity_difference</th>\n",
       "      <th>fair_main_demographic_parity_ratio</th>\n",
       "      <th>...</th>\n",
       "      <th>perf_grp_precision_0</th>\n",
       "      <th>perf_grp_precision_1</th>\n",
       "      <th>perf_grp_false positive rate_0</th>\n",
       "      <th>perf_grp_false positive rate_1</th>\n",
       "      <th>perf_grp_false negative rate_0</th>\n",
       "      <th>perf_grp_false negative rate_1</th>\n",
       "      <th>perf_grp_selection rate_0</th>\n",
       "      <th>perf_grp_selection rate_1</th>\n",
       "      <th>perf_grp_count_0</th>\n",
       "      <th>perf_grp_count_1</th>\n",
       "    </tr>\n",
       "  </thead>\n",
       "  <tbody>\n",
       "    <tr>\n",
       "      <th>0</th>\n",
       "      <td>3</td>\n",
       "      <td>8c6353d5edf94eaa8deebd2508714d09</td>\n",
       "      <td>{\"cutoff\": \"quantile_0.1\", \"eval_fairness_grou...</td>\n",
       "      <td>26.913358</td>\n",
       "      <td>89710</td>\n",
       "      <td>1.0</td>\n",
       "      <td>0.077146</td>\n",
       "      <td>0.922086</td>\n",
       "      <td>0.068615</td>\n",
       "      <td>0.926529</td>\n",
       "      <td>...</td>\n",
       "      <td>NaN</td>\n",
       "      <td>NaN</td>\n",
       "      <td>NaN</td>\n",
       "      <td>NaN</td>\n",
       "      <td>NaN</td>\n",
       "      <td>NaN</td>\n",
       "      <td>NaN</td>\n",
       "      <td>NaN</td>\n",
       "      <td>NaN</td>\n",
       "      <td>NaN</td>\n",
       "    </tr>\n",
       "    <tr>\n",
       "      <th>0</th>\n",
       "      <td>3</td>\n",
       "      <td>8c6353d5edf94eaa8deebd2508714d09</td>\n",
       "      <td>{\"cutoff\": \"quantile_0.1\", \"eval_fairness_grou...</td>\n",
       "      <td>26.913358</td>\n",
       "      <td>89710</td>\n",
       "      <td>1.0</td>\n",
       "      <td>0.077146</td>\n",
       "      <td>0.922086</td>\n",
       "      <td>0.068615</td>\n",
       "      <td>0.926529</td>\n",
       "      <td>...</td>\n",
       "      <td>0.121645</td>\n",
       "      <td>0.140097</td>\n",
       "      <td>0.859069</td>\n",
       "      <td>0.925337</td>\n",
       "      <td>0.086993</td>\n",
       "      <td>0.009847</td>\n",
       "      <td>0.865287</td>\n",
       "      <td>0.933902</td>\n",
       "      <td>20540.0</td>\n",
       "      <td>69170.0</td>\n",
       "    </tr>\n",
       "    <tr>\n",
       "      <th>0</th>\n",
       "      <td>3</td>\n",
       "      <td>8c6353d5edf94eaa8deebd2508714d09</td>\n",
       "      <td>{\"cutoff\": \"quantile_0.25\", \"eval_fairness_gro...</td>\n",
       "      <td>26.913358</td>\n",
       "      <td>89710</td>\n",
       "      <td>1.0</td>\n",
       "      <td>0.152012</td>\n",
       "      <td>0.840722</td>\n",
       "      <td>0.118510</td>\n",
       "      <td>0.853523</td>\n",
       "      <td>...</td>\n",
       "      <td>NaN</td>\n",
       "      <td>NaN</td>\n",
       "      <td>NaN</td>\n",
       "      <td>NaN</td>\n",
       "      <td>NaN</td>\n",
       "      <td>NaN</td>\n",
       "      <td>NaN</td>\n",
       "      <td>NaN</td>\n",
       "      <td>NaN</td>\n",
       "      <td>NaN</td>\n",
       "    </tr>\n",
       "    <tr>\n",
       "      <th>0</th>\n",
       "      <td>3</td>\n",
       "      <td>8c6353d5edf94eaa8deebd2508714d09</td>\n",
       "      <td>{\"cutoff\": \"quantile_0.25\", \"eval_fairness_gro...</td>\n",
       "      <td>26.913358</td>\n",
       "      <td>89710</td>\n",
       "      <td>1.0</td>\n",
       "      <td>0.152012</td>\n",
       "      <td>0.840722</td>\n",
       "      <td>0.118510</td>\n",
       "      <td>0.853523</td>\n",
       "      <td>...</td>\n",
       "      <td>0.133954</td>\n",
       "      <td>0.155871</td>\n",
       "      <td>0.675985</td>\n",
       "      <td>0.786940</td>\n",
       "      <td>0.197635</td>\n",
       "      <td>0.045624</td>\n",
       "      <td>0.690555</td>\n",
       "      <td>0.809065</td>\n",
       "      <td>20540.0</td>\n",
       "      <td>69170.0</td>\n",
       "    </tr>\n",
       "  </tbody>\n",
       "</table>\n",
       "<p>4 rows × 50 columns</p>\n",
       "</div>"
      ],
      "text/plain": [
       "  run_no                       universe_id  \\\n",
       "0      3  8c6353d5edf94eaa8deebd2508714d09   \n",
       "0      3  8c6353d5edf94eaa8deebd2508714d09   \n",
       "0      3  8c6353d5edf94eaa8deebd2508714d09   \n",
       "0      3  8c6353d5edf94eaa8deebd2508714d09   \n",
       "\n",
       "                                   universe_settings  execution_time  \\\n",
       "0  {\"cutoff\": \"quantile_0.1\", \"eval_fairness_grou...       26.913358   \n",
       "0  {\"cutoff\": \"quantile_0.1\", \"eval_fairness_grou...       26.913358   \n",
       "0  {\"cutoff\": \"quantile_0.25\", \"eval_fairness_gro...       26.913358   \n",
       "0  {\"cutoff\": \"quantile_0.25\", \"eval_fairness_gro...       26.913358   \n",
       "\n",
       "   test_size_n  test_size_frac  fair_main_equalized_odds_difference  \\\n",
       "0        89710             1.0                             0.077146   \n",
       "0        89710             1.0                             0.077146   \n",
       "0        89710             1.0                             0.152012   \n",
       "0        89710             1.0                             0.152012   \n",
       "\n",
       "   fair_main_equalized_odds_ratio  fair_main_demographic_parity_difference  \\\n",
       "0                        0.922086                                 0.068615   \n",
       "0                        0.922086                                 0.068615   \n",
       "0                        0.840722                                 0.118510   \n",
       "0                        0.840722                                 0.118510   \n",
       "\n",
       "   fair_main_demographic_parity_ratio  ...  perf_grp_precision_0  \\\n",
       "0                            0.926529  ...                   NaN   \n",
       "0                            0.926529  ...              0.121645   \n",
       "0                            0.853523  ...                   NaN   \n",
       "0                            0.853523  ...              0.133954   \n",
       "\n",
       "   perf_grp_precision_1  perf_grp_false positive rate_0  \\\n",
       "0                   NaN                             NaN   \n",
       "0              0.140097                        0.859069   \n",
       "0                   NaN                             NaN   \n",
       "0              0.155871                        0.675985   \n",
       "\n",
       "   perf_grp_false positive rate_1  perf_grp_false negative rate_0  \\\n",
       "0                             NaN                             NaN   \n",
       "0                        0.925337                        0.086993   \n",
       "0                             NaN                             NaN   \n",
       "0                        0.786940                        0.197635   \n",
       "\n",
       "   perf_grp_false negative rate_1  perf_grp_selection rate_0  \\\n",
       "0                             NaN                        NaN   \n",
       "0                        0.009847                   0.865287   \n",
       "0                             NaN                        NaN   \n",
       "0                        0.045624                   0.690555   \n",
       "\n",
       "   perf_grp_selection rate_1  perf_grp_count_0  perf_grp_count_1  \n",
       "0                        NaN               NaN               NaN  \n",
       "0                   0.933902           20540.0           69170.0  \n",
       "0                        NaN               NaN               NaN  \n",
       "0                   0.809065           20540.0           69170.0  \n",
       "\n",
       "[4 rows x 50 columns]"
      ]
     },
     "execution_count": 64,
     "metadata": {},
     "output_type": "execute_result"
    }
   ],
   "source": [
    "final_output = universe_analysis.generate_final_output(\n",
    "    y_pred_prob=probs_test,\n",
    "    y_test=y_true,\n",
    "    org_test=org_test,\n",
    "    filter_data=filter_sub_universe_data,\n",
    "    cp_metrics_df=cp_metrics_df,\n",
    "    save=True,\n",
    ")\n",
    "final_output"
   ]
  },
  {
   "cell_type": "code",
   "execution_count": null,
   "id": "8b80a1ff",
   "metadata": {
    "papermill": {
     "duration": 0.01444,
     "end_time": "2025-08-19T19:06:38.529326",
     "exception": false,
     "start_time": "2025-08-19T19:06:38.514886",
     "status": "completed"
    },
    "tags": []
   },
   "outputs": [],
   "source": []
  },
  {
   "cell_type": "code",
   "execution_count": null,
   "id": "275c9fad",
   "metadata": {
    "papermill": {
     "duration": 0.014875,
     "end_time": "2025-08-19T19:06:38.558865",
     "exception": false,
     "start_time": "2025-08-19T19:06:38.543990",
     "status": "completed"
    },
    "tags": []
   },
   "outputs": [],
   "source": []
  }
 ],
 "metadata": {
  "celltoolbar": "Tags",
  "kernelspec": {
   "display_name": "Python (CMA Fairness)",
   "language": "python",
   "name": "cma_fair_env"
  },
  "language_info": {
   "codemirror_mode": {
    "name": "ipython",
    "version": 3
   },
   "file_extension": ".py",
   "mimetype": "text/x-python",
   "name": "python",
   "nbconvert_exporter": "python",
   "pygments_lexer": "ipython3",
   "version": "3.10.12"
  },
  "papermill": {
   "default_parameters": {},
   "duration": 38.089883,
   "end_time": "2025-08-19T19:06:39.396112",
   "environment_variables": {},
   "exception": null,
   "input_path": "universe_analysis.ipynb",
   "output_path": "output/runs/3/notebooks/m_3-8c6353d5edf94eaa8deebd2508714d09.ipynb",
   "parameters": {
    "output_dir": "output",
    "run_no": "3",
    "seed": "2023",
    "universe": "{\"cutoff\": [\"quantile_0.1\", \"quantile_0.25\"], \"eval_fairness_grouping\": [\"majority-minority\", \"nationality-all\"], \"exclude_features\": \"none\", \"exclude_subgroups\": \"keep-all\", \"model\": \"rf\", \"scale\": \"scale\", \"training_size\": \"1k\", \"training_year\": \"2010_14\"}",
    "universe_id": "8c6353d5edf94eaa8deebd2508714d09"
   },
   "start_time": "2025-08-19T19:06:01.306229",
   "version": "2.6.0"
  }
 },
 "nbformat": 4,
 "nbformat_minor": 5
}