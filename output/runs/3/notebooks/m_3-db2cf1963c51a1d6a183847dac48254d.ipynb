{
 "cells": [
  {
   "cell_type": "markdown",
   "id": "ef23dbb3",
   "metadata": {
    "papermill": {
     "duration": 0.027256,
     "end_time": "2025-08-19T18:14:16.004302",
     "exception": false,
     "start_time": "2025-08-19T18:14:15.977046",
     "status": "completed"
    },
    "tags": []
   },
   "source": [
    "# Setup"
   ]
  },
  {
   "cell_type": "code",
   "execution_count": 1,
   "id": "0bc8e7dc",
   "metadata": {
    "execution": {
     "iopub.execute_input": "2025-08-19T18:14:16.044118Z",
     "iopub.status.busy": "2025-08-19T18:14:16.043631Z",
     "iopub.status.idle": "2025-08-19T18:14:16.058376Z",
     "shell.execute_reply": "2025-08-19T18:14:16.057325Z"
    },
    "papermill": {
     "duration": 0.044197,
     "end_time": "2025-08-19T18:14:16.060459",
     "exception": false,
     "start_time": "2025-08-19T18:14:16.016262",
     "status": "completed"
    },
    "tags": []
   },
   "outputs": [
    {
     "name": "stdout",
     "output_type": "stream",
     "text": [
      "/dss/dsshome1/0C/ra93lal2/cma/CMA_Fairness_v2\n"
     ]
    },
    {
     "name": "stderr",
     "output_type": "stream",
     "text": [
      "/dss/dsshome1/0C/ra93lal2/.local/share/virtualenvs/CMA_Fairness_v2-3j10GkSs/lib/python3.10/site-packages/IPython/core/magics/osm.py:393: UserWarning: This is now an optional IPython functionality, using bookmarks requires you to install the `pickleshare` library.\n",
      "  bkms = self.shell.db.get('bookmarks', {})\n",
      "/dss/dsshome1/0C/ra93lal2/.local/share/virtualenvs/CMA_Fairness_v2-3j10GkSs/lib/python3.10/site-packages/IPython/core/magics/osm.py:417: UserWarning: This is now an optional IPython functionality, setting dhist requires you to install the `pickleshare` library.\n",
      "  self.shell.db['dhist'] = compress_dhist(dhist)[-100:]\n"
     ]
    }
   ],
   "source": [
    "%cd ~/cma/CMA_Fairness_v2"
   ]
  },
  {
   "cell_type": "markdown",
   "id": "9d235661",
   "metadata": {
    "papermill": {
     "duration": 0.010806,
     "end_time": "2025-08-19T18:14:16.094807",
     "exception": false,
     "start_time": "2025-08-19T18:14:16.084001",
     "status": "completed"
    },
    "tags": []
   },
   "source": [
    "The following cell holds the definition of our parameters, these values can be overriden by rendering the with e.g. the following command:\n",
    "\n",
    "papermill -p alpha 0.2 -p ratio 0.3 universe_analysis.ipynb output/test_run.ipynb"
   ]
  },
  {
   "cell_type": "code",
   "execution_count": 2,
   "id": "4a789d8e",
   "metadata": {
    "execution": {
     "iopub.execute_input": "2025-08-19T18:14:16.113613Z",
     "iopub.status.busy": "2025-08-19T18:14:16.113338Z",
     "iopub.status.idle": "2025-08-19T18:14:16.118003Z",
     "shell.execute_reply": "2025-08-19T18:14:16.117220Z"
    },
    "papermill": {
     "duration": 0.015774,
     "end_time": "2025-08-19T18:14:16.119451",
     "exception": false,
     "start_time": "2025-08-19T18:14:16.103677",
     "status": "completed"
    },
    "tags": []
   },
   "outputs": [
    {
     "name": "stdout",
     "output_type": "stream",
     "text": [
      "Current working directory: /dss/dsshome1/0C/ra93lal2/cma/CMA_Fairness_v2\n"
     ]
    }
   ],
   "source": [
    "import os\n",
    "print(\"Current working directory:\", os.getcwd())"
   ]
  },
  {
   "cell_type": "code",
   "execution_count": 3,
   "id": "4132aaed",
   "metadata": {
    "execution": {
     "iopub.execute_input": "2025-08-19T18:14:16.139089Z",
     "iopub.status.busy": "2025-08-19T18:14:16.138848Z",
     "iopub.status.idle": "2025-08-19T18:14:16.143610Z",
     "shell.execute_reply": "2025-08-19T18:14:16.142871Z"
    },
    "papermill": {
     "duration": 0.017305,
     "end_time": "2025-08-19T18:14:16.146114",
     "exception": false,
     "start_time": "2025-08-19T18:14:16.128809",
     "status": "completed"
    },
    "tags": [
     "parameters"
    ]
   },
   "outputs": [],
   "source": [
    "run_no = 0\n",
    "universe_id = \"test\"\n",
    "universe = {\n",
    "    \"training_size\": \"5k\", # \"25k\", \"5k\", \"1k\"\n",
    "    \"training_year\": \"2012_14\", # \"2014\", \"2012_14\", \"2010_14\"\n",
    "    \"scale\": \"scale\", # \"scale\", \"do-not-scale\",\n",
    "    \"model\": \"elasticnet\", # \"logreg\", \"penalized_logreg\", \"rf\", \"gbm\", \"elasticnet\"\n",
    "    \"cutoff\": [\"quantile_0.15\", \"quantile_0.30\"],\n",
    "    \"exclude_features\": \"age\", # \"none\", \"nationality\", \"sex\", \"nationality-sex\", \"age\"\n",
    "    \"exclude_subgroups\": \"drop-non-german\", # \"keep-all\", \"drop-non-german\"\n",
    "    \"eval_fairness_grouping\": [\"majority-minority\", \"nationality-all\"]\n",
    "}\n",
    "\n",
    "output_dir=\"./output\"\n",
    "seed=0"
   ]
  },
  {
   "cell_type": "code",
   "execution_count": 4,
   "id": "286bbe15",
   "metadata": {
    "execution": {
     "iopub.execute_input": "2025-08-19T18:14:16.180380Z",
     "iopub.status.busy": "2025-08-19T18:14:16.179847Z",
     "iopub.status.idle": "2025-08-19T18:14:16.187083Z",
     "shell.execute_reply": "2025-08-19T18:14:16.185709Z"
    },
    "papermill": {
     "duration": 0.022175,
     "end_time": "2025-08-19T18:14:16.188583",
     "exception": false,
     "start_time": "2025-08-19T18:14:16.166408",
     "status": "completed"
    },
    "tags": [
     "injected-parameters"
    ]
   },
   "outputs": [],
   "source": [
    "# Parameters\n",
    "universe_id = \"db2cf1963c51a1d6a183847dac48254d\"\n",
    "run_no = \"3\"\n",
    "universe = \"{\\\"cutoff\\\": [\\\"quantile_0.1\\\", \\\"quantile_0.25\\\"], \\\"eval_fairness_grouping\\\": [\\\"majority-minority\\\", \\\"nationality-all\\\"], \\\"exclude_features\\\": \\\"none\\\", \\\"exclude_subgroups\\\": \\\"keep-all\\\", \\\"model\\\": \\\"rf\\\", \\\"scale\\\": \\\"scale\\\", \\\"training_size\\\": \\\"25k\\\", \\\"training_year\\\": \\\"2010_14\\\"}\"\n",
    "output_dir = \"output\"\n",
    "seed = \"2023\"\n"
   ]
  },
  {
   "cell_type": "code",
   "execution_count": 5,
   "id": "a5d7941f",
   "metadata": {
    "execution": {
     "iopub.execute_input": "2025-08-19T18:14:16.211099Z",
     "iopub.status.busy": "2025-08-19T18:14:16.209815Z",
     "iopub.status.idle": "2025-08-19T18:14:16.217039Z",
     "shell.execute_reply": "2025-08-19T18:14:16.215620Z"
    },
    "papermill": {
     "duration": 0.020129,
     "end_time": "2025-08-19T18:14:16.218621",
     "exception": false,
     "start_time": "2025-08-19T18:14:16.198492",
     "status": "completed"
    },
    "tags": []
   },
   "outputs": [],
   "source": [
    "import json\n",
    "if isinstance(universe, str):\n",
    "    universe = json.loads(universe)"
   ]
  },
  {
   "cell_type": "code",
   "execution_count": 6,
   "id": "7076ccb1",
   "metadata": {
    "execution": {
     "iopub.execute_input": "2025-08-19T18:14:16.265409Z",
     "iopub.status.busy": "2025-08-19T18:14:16.265011Z",
     "iopub.status.idle": "2025-08-19T18:14:16.299143Z",
     "shell.execute_reply": "2025-08-19T18:14:16.298258Z"
    },
    "papermill": {
     "duration": 0.050771,
     "end_time": "2025-08-19T18:14:16.301955",
     "exception": false,
     "start_time": "2025-08-19T18:14:16.251184",
     "status": "completed"
    },
    "tags": []
   },
   "outputs": [],
   "source": [
    "# Auto-reload the custom package\n",
    "%load_ext autoreload\n",
    "%autoreload 1\n",
    "%aimport fairness_multiverse"
   ]
  },
  {
   "cell_type": "code",
   "execution_count": 7,
   "id": "94c8eb93",
   "metadata": {
    "execution": {
     "iopub.execute_input": "2025-08-19T18:14:16.340179Z",
     "iopub.status.busy": "2025-08-19T18:14:16.338866Z",
     "iopub.status.idle": "2025-08-19T18:14:17.961005Z",
     "shell.execute_reply": "2025-08-19T18:14:17.960074Z"
    },
    "papermill": {
     "duration": 1.637498,
     "end_time": "2025-08-19T18:14:17.962735",
     "exception": false,
     "start_time": "2025-08-19T18:14:16.325237",
     "status": "completed"
    },
    "tags": []
   },
   "outputs": [],
   "source": [
    "from fairness_multiverse.universe import UniverseAnalysis\n",
    "\n",
    "universe_analysis = UniverseAnalysis(\n",
    "    run_no = run_no,\n",
    "    universe_id = universe_id,\n",
    "    universe = universe,\n",
    "    output_dir=output_dir,\n",
    ")"
   ]
  },
  {
   "cell_type": "code",
   "execution_count": 8,
   "id": "2a6381cf",
   "metadata": {
    "execution": {
     "iopub.execute_input": "2025-08-19T18:14:17.988172Z",
     "iopub.status.busy": "2025-08-19T18:14:17.987883Z",
     "iopub.status.idle": "2025-08-19T18:14:17.996196Z",
     "shell.execute_reply": "2025-08-19T18:14:17.994815Z"
    },
    "papermill": {
     "duration": 0.024184,
     "end_time": "2025-08-19T18:14:17.997583",
     "exception": false,
     "start_time": "2025-08-19T18:14:17.973399",
     "status": "completed"
    },
    "tags": []
   },
   "outputs": [
    {
     "name": "stdout",
     "output_type": "stream",
     "text": [
      "Using Seed: 2023\n"
     ]
    }
   ],
   "source": [
    "import numpy as np\n",
    "parsed_seed = int(seed)\n",
    "np.random.seed(parsed_seed)\n",
    "print(f\"Using Seed: {parsed_seed}\")"
   ]
  },
  {
   "cell_type": "markdown",
   "id": "b6e958b4",
   "metadata": {
    "papermill": {
     "duration": 0.009896,
     "end_time": "2025-08-19T18:14:18.019786",
     "exception": false,
     "start_time": "2025-08-19T18:14:18.009890",
     "status": "completed"
    },
    "tags": []
   },
   "source": [
    "# Loading Data"
   ]
  },
  {
   "cell_type": "code",
   "execution_count": 9,
   "id": "98701482",
   "metadata": {
    "execution": {
     "iopub.execute_input": "2025-08-19T18:14:18.039771Z",
     "iopub.status.busy": "2025-08-19T18:14:18.039481Z",
     "iopub.status.idle": "2025-08-19T18:14:28.581181Z",
     "shell.execute_reply": "2025-08-19T18:14:28.580176Z"
    },
    "papermill": {
     "duration": 10.554241,
     "end_time": "2025-08-19T18:14:28.583228",
     "exception": false,
     "start_time": "2025-08-19T18:14:18.028987",
     "status": "completed"
    },
    "tags": []
   },
   "outputs": [
    {
     "name": "stdout",
     "output_type": "stream",
     "text": [
      "Loading SIAB data from cache: data/siab_cached.csv.gz\n"
     ]
    },
    {
     "name": "stdout",
     "output_type": "stream",
     "text": [
      "(643690, 164)\n"
     ]
    }
   ],
   "source": [
    "from pathlib import Path\n",
    "import pandas as pd\n",
    "\n",
    "# File paths\n",
    "raw_file = Path(\"data/raw/siab.csv\")\n",
    "cache_file = Path(\"data/siab_cached.csv.gz\")\n",
    "\n",
    "# Ensure cache directory exists\n",
    "cache_file.parent.mkdir(parents=True, exist_ok=True)\n",
    "\n",
    "# Load with simple caching\n",
    "if cache_file.exists():\n",
    "    print(f\"Loading SIAB data from cache: {cache_file}\")\n",
    "    siab = pd.read_csv(cache_file, compression='gzip')\n",
    "else:\n",
    "    print(f\"Cache not found. Reading raw SIAB data: {raw_file}\")\n",
    "    siab = pd.read_csv(raw_file)\n",
    "    siab.to_csv(cache_file, index=False, compression='gzip')\n",
    "    print(f\"Cached SIAB data to: {cache_file}\")\n",
    "\n",
    "print(siab.shape)"
   ]
  },
  {
   "cell_type": "code",
   "execution_count": 10,
   "id": "058d2abb",
   "metadata": {
    "execution": {
     "iopub.execute_input": "2025-08-19T18:14:28.607812Z",
     "iopub.status.busy": "2025-08-19T18:14:28.607446Z",
     "iopub.status.idle": "2025-08-19T18:14:28.843550Z",
     "shell.execute_reply": "2025-08-19T18:14:28.842255Z"
    },
    "papermill": {
     "duration": 0.250228,
     "end_time": "2025-08-19T18:14:28.846337",
     "exception": false,
     "start_time": "2025-08-19T18:14:28.596109",
     "status": "completed"
    },
    "tags": []
   },
   "outputs": [
    {
     "data": {
      "text/html": [
       "<div>\n",
       "<style scoped>\n",
       "    .dataframe tbody tr th:only-of-type {\n",
       "        vertical-align: middle;\n",
       "    }\n",
       "\n",
       "    .dataframe tbody tr th {\n",
       "        vertical-align: top;\n",
       "    }\n",
       "\n",
       "    .dataframe thead th {\n",
       "        text-align: right;\n",
       "    }\n",
       "</style>\n",
       "<table border=\"1\" class=\"dataframe\">\n",
       "  <thead>\n",
       "    <tr style=\"text-align: right;\">\n",
       "      <th></th>\n",
       "      <th>persnr</th>\n",
       "      <th>year</th>\n",
       "      <th>nrEntry</th>\n",
       "      <th>ltue</th>\n",
       "      <th>employed_before</th>\n",
       "      <th>receipt_leh_before</th>\n",
       "      <th>receipt_lhg_before</th>\n",
       "      <th>se_before</th>\n",
       "      <th>ASU_notue_seeking_before</th>\n",
       "      <th>ASU_other_before</th>\n",
       "      <th>...</th>\n",
       "      <th>minijob_tot_dur_byage</th>\n",
       "      <th>ft_tot_dur_byage</th>\n",
       "      <th>befrist_tot_dur_byage</th>\n",
       "      <th>leih_tot_dur_byage</th>\n",
       "      <th>LHG_tot_dur_byage</th>\n",
       "      <th>LEH_tot_dur_byage</th>\n",
       "      <th>almp_tot_dur_byage</th>\n",
       "      <th>almp_aw_tot_dur_byage</th>\n",
       "      <th>se_tot_dur_byage</th>\n",
       "      <th>seeking1_tot_dur_byage</th>\n",
       "    </tr>\n",
       "  </thead>\n",
       "  <tbody>\n",
       "    <tr>\n",
       "      <th>0</th>\n",
       "      <td>7</td>\n",
       "      <td>2015</td>\n",
       "      <td>1</td>\n",
       "      <td>0</td>\n",
       "      <td>1</td>\n",
       "      <td>0</td>\n",
       "      <td>0</td>\n",
       "      <td>0</td>\n",
       "      <td>1</td>\n",
       "      <td>0</td>\n",
       "      <td>...</td>\n",
       "      <td>0.000000</td>\n",
       "      <td>0.000000</td>\n",
       "      <td>15.043478</td>\n",
       "      <td>0.000000</td>\n",
       "      <td>0.000000</td>\n",
       "      <td>0.000000</td>\n",
       "      <td>0.000000</td>\n",
       "      <td>0.000000</td>\n",
       "      <td>0.000000</td>\n",
       "      <td>0.000000</td>\n",
       "    </tr>\n",
       "    <tr>\n",
       "      <th>1</th>\n",
       "      <td>18</td>\n",
       "      <td>2010</td>\n",
       "      <td>1</td>\n",
       "      <td>1</td>\n",
       "      <td>0</td>\n",
       "      <td>0</td>\n",
       "      <td>0</td>\n",
       "      <td>0</td>\n",
       "      <td>0</td>\n",
       "      <td>0</td>\n",
       "      <td>...</td>\n",
       "      <td>0.000000</td>\n",
       "      <td>0.000000</td>\n",
       "      <td>0.000000</td>\n",
       "      <td>0.000000</td>\n",
       "      <td>0.000000</td>\n",
       "      <td>0.000000</td>\n",
       "      <td>0.000000</td>\n",
       "      <td>0.000000</td>\n",
       "      <td>0.000000</td>\n",
       "      <td>0.000000</td>\n",
       "    </tr>\n",
       "    <tr>\n",
       "      <th>2</th>\n",
       "      <td>18</td>\n",
       "      <td>2011</td>\n",
       "      <td>2</td>\n",
       "      <td>0</td>\n",
       "      <td>1</td>\n",
       "      <td>0</td>\n",
       "      <td>1</td>\n",
       "      <td>0</td>\n",
       "      <td>1</td>\n",
       "      <td>0</td>\n",
       "      <td>...</td>\n",
       "      <td>2.714286</td>\n",
       "      <td>2.714286</td>\n",
       "      <td>0.000000</td>\n",
       "      <td>0.000000</td>\n",
       "      <td>10.775510</td>\n",
       "      <td>0.000000</td>\n",
       "      <td>8.367347</td>\n",
       "      <td>0.000000</td>\n",
       "      <td>0.000000</td>\n",
       "      <td>9.836735</td>\n",
       "    </tr>\n",
       "    <tr>\n",
       "      <th>3</th>\n",
       "      <td>18</td>\n",
       "      <td>2012</td>\n",
       "      <td>3</td>\n",
       "      <td>0</td>\n",
       "      <td>1</td>\n",
       "      <td>0</td>\n",
       "      <td>1</td>\n",
       "      <td>0</td>\n",
       "      <td>1</td>\n",
       "      <td>0</td>\n",
       "      <td>...</td>\n",
       "      <td>4.200000</td>\n",
       "      <td>4.200000</td>\n",
       "      <td>0.000000</td>\n",
       "      <td>0.000000</td>\n",
       "      <td>12.100000</td>\n",
       "      <td>0.000000</td>\n",
       "      <td>9.400000</td>\n",
       "      <td>0.000000</td>\n",
       "      <td>0.000000</td>\n",
       "      <td>9.960000</td>\n",
       "    </tr>\n",
       "    <tr>\n",
       "      <th>4</th>\n",
       "      <td>18</td>\n",
       "      <td>2012</td>\n",
       "      <td>4</td>\n",
       "      <td>0</td>\n",
       "      <td>1</td>\n",
       "      <td>0</td>\n",
       "      <td>1</td>\n",
       "      <td>0</td>\n",
       "      <td>1</td>\n",
       "      <td>0</td>\n",
       "      <td>...</td>\n",
       "      <td>5.460000</td>\n",
       "      <td>5.460000</td>\n",
       "      <td>0.000000</td>\n",
       "      <td>0.000000</td>\n",
       "      <td>13.360000</td>\n",
       "      <td>0.000000</td>\n",
       "      <td>10.320000</td>\n",
       "      <td>0.000000</td>\n",
       "      <td>0.000000</td>\n",
       "      <td>10.280000</td>\n",
       "    </tr>\n",
       "    <tr>\n",
       "      <th>...</th>\n",
       "      <td>...</td>\n",
       "      <td>...</td>\n",
       "      <td>...</td>\n",
       "      <td>...</td>\n",
       "      <td>...</td>\n",
       "      <td>...</td>\n",
       "      <td>...</td>\n",
       "      <td>...</td>\n",
       "      <td>...</td>\n",
       "      <td>...</td>\n",
       "      <td>...</td>\n",
       "      <td>...</td>\n",
       "      <td>...</td>\n",
       "      <td>...</td>\n",
       "      <td>...</td>\n",
       "      <td>...</td>\n",
       "      <td>...</td>\n",
       "      <td>...</td>\n",
       "      <td>...</td>\n",
       "      <td>...</td>\n",
       "      <td>...</td>\n",
       "    </tr>\n",
       "    <tr>\n",
       "      <th>643685</th>\n",
       "      <td>1827860</td>\n",
       "      <td>2013</td>\n",
       "      <td>1</td>\n",
       "      <td>0</td>\n",
       "      <td>0</td>\n",
       "      <td>0</td>\n",
       "      <td>1</td>\n",
       "      <td>0</td>\n",
       "      <td>0</td>\n",
       "      <td>1</td>\n",
       "      <td>...</td>\n",
       "      <td>0.000000</td>\n",
       "      <td>0.000000</td>\n",
       "      <td>0.000000</td>\n",
       "      <td>0.000000</td>\n",
       "      <td>0.612903</td>\n",
       "      <td>0.000000</td>\n",
       "      <td>0.000000</td>\n",
       "      <td>0.000000</td>\n",
       "      <td>0.000000</td>\n",
       "      <td>0.000000</td>\n",
       "    </tr>\n",
       "    <tr>\n",
       "      <th>643686</th>\n",
       "      <td>1827860</td>\n",
       "      <td>2015</td>\n",
       "      <td>2</td>\n",
       "      <td>1</td>\n",
       "      <td>0</td>\n",
       "      <td>0</td>\n",
       "      <td>1</td>\n",
       "      <td>0</td>\n",
       "      <td>1</td>\n",
       "      <td>0</td>\n",
       "      <td>...</td>\n",
       "      <td>0.000000</td>\n",
       "      <td>0.000000</td>\n",
       "      <td>0.212121</td>\n",
       "      <td>0.212121</td>\n",
       "      <td>17.363636</td>\n",
       "      <td>0.000000</td>\n",
       "      <td>8.909091</td>\n",
       "      <td>0.000000</td>\n",
       "      <td>0.000000</td>\n",
       "      <td>7.121212</td>\n",
       "    </tr>\n",
       "    <tr>\n",
       "      <th>643687</th>\n",
       "      <td>1827860</td>\n",
       "      <td>2016</td>\n",
       "      <td>3</td>\n",
       "      <td>1</td>\n",
       "      <td>0</td>\n",
       "      <td>0</td>\n",
       "      <td>1</td>\n",
       "      <td>1</td>\n",
       "      <td>0</td>\n",
       "      <td>1</td>\n",
       "      <td>...</td>\n",
       "      <td>0.000000</td>\n",
       "      <td>0.000000</td>\n",
       "      <td>0.294118</td>\n",
       "      <td>0.205882</td>\n",
       "      <td>34.705882</td>\n",
       "      <td>0.000000</td>\n",
       "      <td>10.352941</td>\n",
       "      <td>1.705882</td>\n",
       "      <td>1.705882</td>\n",
       "      <td>23.911765</td>\n",
       "    </tr>\n",
       "    <tr>\n",
       "      <th>643688</th>\n",
       "      <td>1827869</td>\n",
       "      <td>2013</td>\n",
       "      <td>1</td>\n",
       "      <td>1</td>\n",
       "      <td>1</td>\n",
       "      <td>0</td>\n",
       "      <td>0</td>\n",
       "      <td>0</td>\n",
       "      <td>1</td>\n",
       "      <td>0</td>\n",
       "      <td>...</td>\n",
       "      <td>0.000000</td>\n",
       "      <td>0.000000</td>\n",
       "      <td>0.000000</td>\n",
       "      <td>0.000000</td>\n",
       "      <td>0.000000</td>\n",
       "      <td>0.525424</td>\n",
       "      <td>0.000000</td>\n",
       "      <td>0.000000</td>\n",
       "      <td>0.000000</td>\n",
       "      <td>0.000000</td>\n",
       "    </tr>\n",
       "    <tr>\n",
       "      <th>643689</th>\n",
       "      <td>1827869</td>\n",
       "      <td>2014</td>\n",
       "      <td>2</td>\n",
       "      <td>0</td>\n",
       "      <td>0</td>\n",
       "      <td>1</td>\n",
       "      <td>0</td>\n",
       "      <td>0</td>\n",
       "      <td>1</td>\n",
       "      <td>0</td>\n",
       "      <td>...</td>\n",
       "      <td>0.000000</td>\n",
       "      <td>0.666667</td>\n",
       "      <td>0.666667</td>\n",
       "      <td>0.000000</td>\n",
       "      <td>0.000000</td>\n",
       "      <td>8.950000</td>\n",
       "      <td>1.033333</td>\n",
       "      <td>0.083333</td>\n",
       "      <td>0.083333</td>\n",
       "      <td>8.133333</td>\n",
       "    </tr>\n",
       "  </tbody>\n",
       "</table>\n",
       "<p>643690 rows × 164 columns</p>\n",
       "</div>"
      ],
      "text/plain": [
       "         persnr  year  nrEntry  ltue  employed_before  receipt_leh_before  \\\n",
       "0             7  2015        1     0                1                   0   \n",
       "1            18  2010        1     1                0                   0   \n",
       "2            18  2011        2     0                1                   0   \n",
       "3            18  2012        3     0                1                   0   \n",
       "4            18  2012        4     0                1                   0   \n",
       "...         ...   ...      ...   ...              ...                 ...   \n",
       "643685  1827860  2013        1     0                0                   0   \n",
       "643686  1827860  2015        2     1                0                   0   \n",
       "643687  1827860  2016        3     1                0                   0   \n",
       "643688  1827869  2013        1     1                1                   0   \n",
       "643689  1827869  2014        2     0                0                   1   \n",
       "\n",
       "        receipt_lhg_before  se_before  ASU_notue_seeking_before  \\\n",
       "0                        0          0                         1   \n",
       "1                        0          0                         0   \n",
       "2                        1          0                         1   \n",
       "3                        1          0                         1   \n",
       "4                        1          0                         1   \n",
       "...                    ...        ...                       ...   \n",
       "643685                   1          0                         0   \n",
       "643686                   1          0                         1   \n",
       "643687                   1          1                         0   \n",
       "643688                   0          0                         1   \n",
       "643689                   0          0                         1   \n",
       "\n",
       "        ASU_other_before  ...  minijob_tot_dur_byage  ft_tot_dur_byage  \\\n",
       "0                      0  ...               0.000000          0.000000   \n",
       "1                      0  ...               0.000000          0.000000   \n",
       "2                      0  ...               2.714286          2.714286   \n",
       "3                      0  ...               4.200000          4.200000   \n",
       "4                      0  ...               5.460000          5.460000   \n",
       "...                  ...  ...                    ...               ...   \n",
       "643685                 1  ...               0.000000          0.000000   \n",
       "643686                 0  ...               0.000000          0.000000   \n",
       "643687                 1  ...               0.000000          0.000000   \n",
       "643688                 0  ...               0.000000          0.000000   \n",
       "643689                 0  ...               0.000000          0.666667   \n",
       "\n",
       "        befrist_tot_dur_byage  leih_tot_dur_byage  LHG_tot_dur_byage  \\\n",
       "0                   15.043478            0.000000           0.000000   \n",
       "1                    0.000000            0.000000           0.000000   \n",
       "2                    0.000000            0.000000          10.775510   \n",
       "3                    0.000000            0.000000          12.100000   \n",
       "4                    0.000000            0.000000          13.360000   \n",
       "...                       ...                 ...                ...   \n",
       "643685               0.000000            0.000000           0.612903   \n",
       "643686               0.212121            0.212121          17.363636   \n",
       "643687               0.294118            0.205882          34.705882   \n",
       "643688               0.000000            0.000000           0.000000   \n",
       "643689               0.666667            0.000000           0.000000   \n",
       "\n",
       "        LEH_tot_dur_byage  almp_tot_dur_byage  almp_aw_tot_dur_byage  \\\n",
       "0                0.000000            0.000000               0.000000   \n",
       "1                0.000000            0.000000               0.000000   \n",
       "2                0.000000            8.367347               0.000000   \n",
       "3                0.000000            9.400000               0.000000   \n",
       "4                0.000000           10.320000               0.000000   \n",
       "...                   ...                 ...                    ...   \n",
       "643685           0.000000            0.000000               0.000000   \n",
       "643686           0.000000            8.909091               0.000000   \n",
       "643687           0.000000           10.352941               1.705882   \n",
       "643688           0.525424            0.000000               0.000000   \n",
       "643689           8.950000            1.033333               0.083333   \n",
       "\n",
       "        se_tot_dur_byage  seeking1_tot_dur_byage  \n",
       "0               0.000000                0.000000  \n",
       "1               0.000000                0.000000  \n",
       "2               0.000000                9.836735  \n",
       "3               0.000000                9.960000  \n",
       "4               0.000000               10.280000  \n",
       "...                  ...                     ...  \n",
       "643685          0.000000                0.000000  \n",
       "643686          0.000000                7.121212  \n",
       "643687          1.705882               23.911765  \n",
       "643688          0.000000                0.000000  \n",
       "643689          0.083333                8.133333  \n",
       "\n",
       "[643690 rows x 164 columns]"
      ]
     },
     "execution_count": 10,
     "metadata": {},
     "output_type": "execute_result"
    }
   ],
   "source": [
    "siab"
   ]
  },
  {
   "cell_type": "markdown",
   "id": "1f87e805",
   "metadata": {
    "papermill": {
     "duration": 0.010093,
     "end_time": "2025-08-19T18:14:28.870784",
     "exception": false,
     "start_time": "2025-08-19T18:14:28.860691",
     "status": "completed"
    },
    "tags": []
   },
   "source": [
    "# Splitting Data and Setting Training Data Size"
   ]
  },
  {
   "cell_type": "code",
   "execution_count": 11,
   "id": "910ae358",
   "metadata": {
    "execution": {
     "iopub.execute_input": "2025-08-19T18:14:28.892357Z",
     "iopub.status.busy": "2025-08-19T18:14:28.891945Z",
     "iopub.status.idle": "2025-08-19T18:14:30.119947Z",
     "shell.execute_reply": "2025-08-19T18:14:30.119138Z"
    },
    "papermill": {
     "duration": 1.240647,
     "end_time": "2025-08-19T18:14:30.121541",
     "exception": false,
     "start_time": "2025-08-19T18:14:28.880894",
     "status": "completed"
    },
    "tags": []
   },
   "outputs": [],
   "source": [
    "from fairness_multiverse.universe import sample_by_year_size\n",
    "\n",
    "siab_train = sample_by_year_size(siab,\n",
    "                               training_year=universe[\"training_year\"],\n",
    "                               training_size=universe[\"training_size\"])"
   ]
  },
  {
   "cell_type": "code",
   "execution_count": 12,
   "id": "919c8ff5",
   "metadata": {
    "execution": {
     "iopub.execute_input": "2025-08-19T18:14:30.143159Z",
     "iopub.status.busy": "2025-08-19T18:14:30.142851Z",
     "iopub.status.idle": "2025-08-19T18:14:30.148949Z",
     "shell.execute_reply": "2025-08-19T18:14:30.148223Z"
    },
    "papermill": {
     "duration": 0.018203,
     "end_time": "2025-08-19T18:14:30.150123",
     "exception": false,
     "start_time": "2025-08-19T18:14:30.131920",
     "status": "completed"
    },
    "tags": []
   },
   "outputs": [
    {
     "data": {
      "text/plain": [
       "(25000, 164)"
      ]
     },
     "execution_count": 12,
     "metadata": {},
     "output_type": "execute_result"
    }
   ],
   "source": [
    "siab_train.shape"
   ]
  },
  {
   "cell_type": "code",
   "execution_count": 13,
   "id": "feb13bf4",
   "metadata": {
    "execution": {
     "iopub.execute_input": "2025-08-19T18:14:30.194446Z",
     "iopub.status.busy": "2025-08-19T18:14:30.193701Z",
     "iopub.status.idle": "2025-08-19T18:14:30.249485Z",
     "shell.execute_reply": "2025-08-19T18:14:30.248674Z"
    },
    "papermill": {
     "duration": 0.087288,
     "end_time": "2025-08-19T18:14:30.251219",
     "exception": false,
     "start_time": "2025-08-19T18:14:30.163931",
     "status": "completed"
    },
    "tags": []
   },
   "outputs": [
    {
     "data": {
      "text/plain": [
       "year\n",
       "2010    5000\n",
       "2011    5000\n",
       "2012    5000\n",
       "2013    5000\n",
       "2014    5000\n",
       "dtype: int64"
      ]
     },
     "metadata": {},
     "output_type": "display_data"
    }
   ],
   "source": [
    "display(siab_train.groupby(\"year\").size())"
   ]
  },
  {
   "cell_type": "code",
   "execution_count": 14,
   "id": "0997782f",
   "metadata": {
    "execution": {
     "iopub.execute_input": "2025-08-19T18:14:30.274120Z",
     "iopub.status.busy": "2025-08-19T18:14:30.273749Z",
     "iopub.status.idle": "2025-08-19T18:14:30.563360Z",
     "shell.execute_reply": "2025-08-19T18:14:30.562443Z"
    },
    "papermill": {
     "duration": 0.302297,
     "end_time": "2025-08-19T18:14:30.564959",
     "exception": false,
     "start_time": "2025-08-19T18:14:30.262662",
     "status": "completed"
    },
    "tags": []
   },
   "outputs": [],
   "source": [
    "#siab_train = siab_s[siab_s.year < 2015]\n",
    "siab_calib = siab[siab.year == 2015]\n",
    "siab_test = siab[siab.year == 2016]"
   ]
  },
  {
   "cell_type": "code",
   "execution_count": 15,
   "id": "2c1e4012",
   "metadata": {
    "execution": {
     "iopub.execute_input": "2025-08-19T18:14:30.589533Z",
     "iopub.status.busy": "2025-08-19T18:14:30.588998Z",
     "iopub.status.idle": "2025-08-19T18:14:30.594467Z",
     "shell.execute_reply": "2025-08-19T18:14:30.593518Z"
    },
    "papermill": {
     "duration": 0.019088,
     "end_time": "2025-08-19T18:14:30.596009",
     "exception": false,
     "start_time": "2025-08-19T18:14:30.576921",
     "status": "completed"
    },
    "tags": []
   },
   "outputs": [],
   "source": [
    "#siab_calib.shape"
   ]
  },
  {
   "cell_type": "code",
   "execution_count": 16,
   "id": "f66b54ca",
   "metadata": {
    "execution": {
     "iopub.execute_input": "2025-08-19T18:14:30.640044Z",
     "iopub.status.busy": "2025-08-19T18:14:30.639583Z",
     "iopub.status.idle": "2025-08-19T18:14:30.644458Z",
     "shell.execute_reply": "2025-08-19T18:14:30.643579Z"
    },
    "papermill": {
     "duration": 0.03231,
     "end_time": "2025-08-19T18:14:30.646261",
     "exception": false,
     "start_time": "2025-08-19T18:14:30.613951",
     "status": "completed"
    },
    "tags": []
   },
   "outputs": [],
   "source": [
    "#siab_test.shape"
   ]
  },
  {
   "cell_type": "code",
   "execution_count": 17,
   "id": "27e4384d",
   "metadata": {
    "execution": {
     "iopub.execute_input": "2025-08-19T18:14:30.680920Z",
     "iopub.status.busy": "2025-08-19T18:14:30.679765Z",
     "iopub.status.idle": "2025-08-19T18:14:30.704326Z",
     "shell.execute_reply": "2025-08-19T18:14:30.703338Z"
    },
    "papermill": {
     "duration": 0.03967,
     "end_time": "2025-08-19T18:14:30.706362",
     "exception": false,
     "start_time": "2025-08-19T18:14:30.666692",
     "status": "completed"
    },
    "tags": []
   },
   "outputs": [],
   "source": [
    "X_train = siab_train.iloc[:,4:164]\n",
    "y_train = siab_train.iloc[:, [3]]"
   ]
  },
  {
   "cell_type": "code",
   "execution_count": 18,
   "id": "08ee8389",
   "metadata": {
    "execution": {
     "iopub.execute_input": "2025-08-19T18:14:30.732247Z",
     "iopub.status.busy": "2025-08-19T18:14:30.731941Z",
     "iopub.status.idle": "2025-08-19T18:14:30.786501Z",
     "shell.execute_reply": "2025-08-19T18:14:30.785585Z"
    },
    "papermill": {
     "duration": 0.067484,
     "end_time": "2025-08-19T18:14:30.787830",
     "exception": false,
     "start_time": "2025-08-19T18:14:30.720346",
     "status": "completed"
    },
    "tags": []
   },
   "outputs": [],
   "source": [
    "X_calib = siab_calib.iloc[:,4:164]\n",
    "y_calib = siab_calib.iloc[:, [3]]"
   ]
  },
  {
   "cell_type": "code",
   "execution_count": 19,
   "id": "b7ff42e0",
   "metadata": {
    "execution": {
     "iopub.execute_input": "2025-08-19T18:14:30.813034Z",
     "iopub.status.busy": "2025-08-19T18:14:30.810705Z",
     "iopub.status.idle": "2025-08-19T18:14:30.867803Z",
     "shell.execute_reply": "2025-08-19T18:14:30.866598Z"
    },
    "papermill": {
     "duration": 0.07177,
     "end_time": "2025-08-19T18:14:30.870319",
     "exception": false,
     "start_time": "2025-08-19T18:14:30.798549",
     "status": "completed"
    },
    "tags": []
   },
   "outputs": [],
   "source": [
    "X_test = siab_test.iloc[:,4:164]\n",
    "y_true = siab_test.iloc[:, [3]]"
   ]
  },
  {
   "cell_type": "code",
   "execution_count": 20,
   "id": "0275101e",
   "metadata": {
    "execution": {
     "iopub.execute_input": "2025-08-19T18:14:30.903931Z",
     "iopub.status.busy": "2025-08-19T18:14:30.903322Z",
     "iopub.status.idle": "2025-08-19T18:14:31.026155Z",
     "shell.execute_reply": "2025-08-19T18:14:31.025324Z"
    },
    "papermill": {
     "duration": 0.13753,
     "end_time": "2025-08-19T18:14:31.028300",
     "exception": false,
     "start_time": "2025-08-19T18:14:30.890770",
     "status": "completed"
    },
    "tags": []
   },
   "outputs": [],
   "source": [
    "# Auxiliary data needed downstream in the pipeline\n",
    "\n",
    "org_train = X_train.copy()\n",
    "org_test = X_test.copy()\n",
    "org_calib = X_calib.copy()"
   ]
  },
  {
   "cell_type": "markdown",
   "id": "b461e618",
   "metadata": {
    "papermill": {
     "duration": 0.033306,
     "end_time": "2025-08-19T18:14:31.080217",
     "exception": false,
     "start_time": "2025-08-19T18:14:31.046911",
     "status": "completed"
    },
    "tags": []
   },
   "source": [
    "# Preprocessing Data"
   ]
  },
  {
   "cell_type": "code",
   "execution_count": 21,
   "id": "78e74c4b",
   "metadata": {
    "execution": {
     "iopub.execute_input": "2025-08-19T18:14:31.112572Z",
     "iopub.status.busy": "2025-08-19T18:14:31.112238Z",
     "iopub.status.idle": "2025-08-19T18:14:31.117413Z",
     "shell.execute_reply": "2025-08-19T18:14:31.116539Z"
    },
    "papermill": {
     "duration": 0.019688,
     "end_time": "2025-08-19T18:14:31.118776",
     "exception": false,
     "start_time": "2025-08-19T18:14:31.099088",
     "status": "completed"
    },
    "tags": []
   },
   "outputs": [],
   "source": [
    "# EXCLUDE PROTECTED FEATURES\n",
    "# --------------------------\n",
    "\n",
    "excluded_features = universe[\"exclude_features\"].split(\"-\")\n",
    "excluded_features_dictionary = {\n",
    "    \"nationality\": [\"maxdeutsch1\", \"maxdeutsch.Missing.\"],\n",
    "    \"sex\": [\"frau1\"],\n",
    "    \"age\": [\"age\"],\n",
    "}"
   ]
  },
  {
   "cell_type": "code",
   "execution_count": 22,
   "id": "f8e63555",
   "metadata": {
    "execution": {
     "iopub.execute_input": "2025-08-19T18:14:31.141656Z",
     "iopub.status.busy": "2025-08-19T18:14:31.141347Z",
     "iopub.status.idle": "2025-08-19T18:14:31.146024Z",
     "shell.execute_reply": "2025-08-19T18:14:31.145256Z"
    },
    "papermill": {
     "duration": 0.018004,
     "end_time": "2025-08-19T18:14:31.147336",
     "exception": false,
     "start_time": "2025-08-19T18:14:31.129332",
     "status": "completed"
    },
    "tags": []
   },
   "outputs": [],
   "source": [
    "excluded_features_columns = [\n",
    "    excluded_features_dictionary[f] for f in excluded_features if len(f) > 0 and f != \"none\"\n",
    "]"
   ]
  },
  {
   "cell_type": "code",
   "execution_count": 23,
   "id": "da781f7c",
   "metadata": {
    "execution": {
     "iopub.execute_input": "2025-08-19T18:14:31.170127Z",
     "iopub.status.busy": "2025-08-19T18:14:31.169828Z",
     "iopub.status.idle": "2025-08-19T18:14:31.177805Z",
     "shell.execute_reply": "2025-08-19T18:14:31.177005Z"
    },
    "papermill": {
     "duration": 0.022821,
     "end_time": "2025-08-19T18:14:31.180809",
     "exception": false,
     "start_time": "2025-08-19T18:14:31.157988",
     "status": "completed"
    },
    "tags": []
   },
   "outputs": [],
   "source": [
    "from fairness_multiverse.universe import flatten_once\n",
    "\n",
    "excluded_features_columns = flatten_once(excluded_features_columns)"
   ]
  },
  {
   "cell_type": "code",
   "execution_count": 24,
   "id": "37fef0f0",
   "metadata": {
    "execution": {
     "iopub.execute_input": "2025-08-19T18:14:31.224588Z",
     "iopub.status.busy": "2025-08-19T18:14:31.223841Z",
     "iopub.status.idle": "2025-08-19T18:14:31.232798Z",
     "shell.execute_reply": "2025-08-19T18:14:31.231254Z"
    },
    "papermill": {
     "duration": 0.03001,
     "end_time": "2025-08-19T18:14:31.236531",
     "exception": false,
     "start_time": "2025-08-19T18:14:31.206521",
     "status": "completed"
    },
    "tags": []
   },
   "outputs": [],
   "source": [
    "if len(excluded_features_columns) > 0:\n",
    "    print(f\"Dropping features: {excluded_features_columns}\")\n",
    "    X_train.drop(excluded_features_columns, axis=1, inplace=True)"
   ]
  },
  {
   "cell_type": "code",
   "execution_count": 25,
   "id": "d029e3e9",
   "metadata": {
    "execution": {
     "iopub.execute_input": "2025-08-19T18:14:31.266379Z",
     "iopub.status.busy": "2025-08-19T18:14:31.266067Z",
     "iopub.status.idle": "2025-08-19T18:14:31.273460Z",
     "shell.execute_reply": "2025-08-19T18:14:31.272206Z"
    },
    "papermill": {
     "duration": 0.025401,
     "end_time": "2025-08-19T18:14:31.279273",
     "exception": false,
     "start_time": "2025-08-19T18:14:31.253872",
     "status": "completed"
    },
    "tags": []
   },
   "outputs": [],
   "source": [
    "if len(excluded_features_columns) > 0:\n",
    "    print(f\"Dropping features: {excluded_features_columns}\")\n",
    "    X_test.drop(excluded_features_columns, axis=1, inplace=True)"
   ]
  },
  {
   "cell_type": "code",
   "execution_count": 26,
   "id": "01d571f0",
   "metadata": {
    "execution": {
     "iopub.execute_input": "2025-08-19T18:14:31.315305Z",
     "iopub.status.busy": "2025-08-19T18:14:31.314060Z",
     "iopub.status.idle": "2025-08-19T18:14:31.323444Z",
     "shell.execute_reply": "2025-08-19T18:14:31.321765Z"
    },
    "papermill": {
     "duration": 0.02438,
     "end_time": "2025-08-19T18:14:31.325087",
     "exception": false,
     "start_time": "2025-08-19T18:14:31.300707",
     "status": "completed"
    },
    "tags": []
   },
   "outputs": [],
   "source": [
    "if len(excluded_features_columns) > 0:\n",
    "    print(f\"Dropping features: {excluded_features_columns}\")\n",
    "    X_calib.drop(excluded_features_columns, axis=1, inplace=True)"
   ]
  },
  {
   "cell_type": "code",
   "execution_count": 27,
   "id": "3037356e",
   "metadata": {
    "execution": {
     "iopub.execute_input": "2025-08-19T18:14:31.356775Z",
     "iopub.status.busy": "2025-08-19T18:14:31.356331Z",
     "iopub.status.idle": "2025-08-19T18:14:31.365261Z",
     "shell.execute_reply": "2025-08-19T18:14:31.362943Z"
    },
    "papermill": {
     "duration": 0.023134,
     "end_time": "2025-08-19T18:14:31.366733",
     "exception": false,
     "start_time": "2025-08-19T18:14:31.343599",
     "status": "completed"
    },
    "tags": []
   },
   "outputs": [],
   "source": [
    "# EXCLUDE CERTAIN SUBGROUPS\n",
    "# -------------------------\n",
    "\n",
    "mode = universe.get(\"exclude_subgroups\", \"keep-all\") # Defaults to \"keep-all\" if the key is missing."
   ]
  },
  {
   "cell_type": "code",
   "execution_count": 28,
   "id": "9d1e63fd",
   "metadata": {
    "execution": {
     "iopub.execute_input": "2025-08-19T18:14:31.390562Z",
     "iopub.status.busy": "2025-08-19T18:14:31.390162Z",
     "iopub.status.idle": "2025-08-19T18:14:31.399473Z",
     "shell.execute_reply": "2025-08-19T18:14:31.398396Z"
    },
    "papermill": {
     "duration": 0.023988,
     "end_time": "2025-08-19T18:14:31.401955",
     "exception": false,
     "start_time": "2025-08-19T18:14:31.377967",
     "status": "completed"
    },
    "tags": []
   },
   "outputs": [],
   "source": [
    "if mode == \"keep-all\":\n",
    "    keep_mask = pd.Series(True, index=org_train.index)\n",
    "\n",
    "elif mode == \"drop-non-german\":\n",
    "    keep_mask = (org_train[\"maxdeutsch1\"] == 1) & (org_train[\"maxdeutsch.Missing.\"] == 0)\n",
    "\n",
    "else:\n",
    "    raise ValueError(f\"Unsupported mode for exclude_subgroups: {mode}\")"
   ]
  },
  {
   "cell_type": "code",
   "execution_count": 29,
   "id": "d3b65474",
   "metadata": {
    "execution": {
     "iopub.execute_input": "2025-08-19T18:14:31.427384Z",
     "iopub.status.busy": "2025-08-19T18:14:31.426054Z",
     "iopub.status.idle": "2025-08-19T18:14:31.436088Z",
     "shell.execute_reply": "2025-08-19T18:14:31.435102Z"
    },
    "papermill": {
     "duration": 0.026117,
     "end_time": "2025-08-19T18:14:31.438976",
     "exception": false,
     "start_time": "2025-08-19T18:14:31.412859",
     "status": "completed"
    },
    "tags": []
   },
   "outputs": [],
   "source": [
    "n_drop = (~keep_mask).sum() # Calculates how many rows are set to be dropped\n",
    "if n_drop > 0:\n",
    "    pct = n_drop / len(keep_mask) * 100\n",
    "    print(f\"Dropping {n_drop} rows ({pct:.2f}%) where mode='{mode}'\")"
   ]
  },
  {
   "cell_type": "code",
   "execution_count": 30,
   "id": "f44389b3",
   "metadata": {
    "execution": {
     "iopub.execute_input": "2025-08-19T18:14:31.475274Z",
     "iopub.status.busy": "2025-08-19T18:14:31.474864Z",
     "iopub.status.idle": "2025-08-19T18:14:31.497077Z",
     "shell.execute_reply": "2025-08-19T18:14:31.496287Z"
    },
    "papermill": {
     "duration": 0.038008,
     "end_time": "2025-08-19T18:14:31.499162",
     "exception": false,
     "start_time": "2025-08-19T18:14:31.461154",
     "status": "completed"
    },
    "tags": []
   },
   "outputs": [],
   "source": [
    "X_train = X_train[keep_mask]"
   ]
  },
  {
   "cell_type": "code",
   "execution_count": 31,
   "id": "ceca8c2a",
   "metadata": {
    "execution": {
     "iopub.execute_input": "2025-08-19T18:14:31.530998Z",
     "iopub.status.busy": "2025-08-19T18:14:31.529389Z",
     "iopub.status.idle": "2025-08-19T18:14:31.538877Z",
     "shell.execute_reply": "2025-08-19T18:14:31.537721Z"
    },
    "papermill": {
     "duration": 0.024591,
     "end_time": "2025-08-19T18:14:31.540918",
     "exception": false,
     "start_time": "2025-08-19T18:14:31.516327",
     "status": "completed"
    },
    "tags": []
   },
   "outputs": [],
   "source": [
    "y_train = y_train[keep_mask]"
   ]
  },
  {
   "cell_type": "markdown",
   "id": "04d31e2f",
   "metadata": {
    "papermill": {
     "duration": 0.010828,
     "end_time": "2025-08-19T18:14:31.565412",
     "exception": false,
     "start_time": "2025-08-19T18:14:31.554584",
     "status": "completed"
    },
    "tags": []
   },
   "source": [
    "# Model Training"
   ]
  },
  {
   "cell_type": "code",
   "execution_count": 32,
   "id": "db991733",
   "metadata": {
    "execution": {
     "iopub.execute_input": "2025-08-19T18:14:31.589527Z",
     "iopub.status.busy": "2025-08-19T18:14:31.588817Z",
     "iopub.status.idle": "2025-08-19T18:14:31.713287Z",
     "shell.execute_reply": "2025-08-19T18:14:31.712457Z"
    },
    "papermill": {
     "duration": 0.138869,
     "end_time": "2025-08-19T18:14:31.714886",
     "exception": false,
     "start_time": "2025-08-19T18:14:31.576017",
     "status": "completed"
    },
    "tags": []
   },
   "outputs": [],
   "source": [
    "from sklearn.linear_model import LogisticRegression\n",
    "from sklearn.ensemble import GradientBoostingClassifier, RandomForestClassifier\n",
    "\n",
    "if (universe[\"model\"] == \"logreg\"):\n",
    "    model = LogisticRegression() #penalty=\"none\", solver=\"newton-cg\", max_iter=1)\n",
    "elif (universe[\"model\"] == \"penalized_logreg\"):\n",
    "    model = LogisticRegression(penalty=\"l2\", C=0.1) #, solver=\"newton-cg\", max_iter=1)\n",
    "elif (universe[\"model\"] == \"rf\"):\n",
    "    model = RandomForestClassifier() # n_estimators=100, n_jobs=-1\n",
    "elif (universe[\"model\"] == \"gbm\"):\n",
    "    model = GradientBoostingClassifier()\n",
    "elif (universe[\"model\"] == \"elasticnet\"):\n",
    "    model = LogisticRegression(penalty = 'elasticnet', solver = 'saga', l1_ratio = 0.5) # max_iter=5000\n",
    "else:\n",
    "    raise \"Unsupported universe.model\""
   ]
  },
  {
   "cell_type": "code",
   "execution_count": 33,
   "id": "a4b5cd25",
   "metadata": {
    "execution": {
     "iopub.execute_input": "2025-08-19T18:14:31.738203Z",
     "iopub.status.busy": "2025-08-19T18:14:31.737786Z",
     "iopub.status.idle": "2025-08-19T18:14:31.743331Z",
     "shell.execute_reply": "2025-08-19T18:14:31.742390Z"
    },
    "papermill": {
     "duration": 0.019064,
     "end_time": "2025-08-19T18:14:31.745080",
     "exception": false,
     "start_time": "2025-08-19T18:14:31.726016",
     "status": "completed"
    },
    "tags": []
   },
   "outputs": [],
   "source": [
    "from sklearn.pipeline import Pipeline\n",
    "from sklearn.preprocessing import StandardScaler\n",
    "\n",
    "model = Pipeline([\n",
    "    #(\"continuous_processor\", continuous_processor),\n",
    "    #(\"categorical_preprocessor\", categorical_preprocessor),\n",
    "    (\"scale\", StandardScaler() if universe[\"scale\"] == \"scale\" else None), \n",
    "    (\"model\", model),\n",
    "])"
   ]
  },
  {
   "cell_type": "code",
   "execution_count": 34,
   "id": "283a904d",
   "metadata": {
    "execution": {
     "iopub.execute_input": "2025-08-19T18:14:31.769461Z",
     "iopub.status.busy": "2025-08-19T18:14:31.769050Z",
     "iopub.status.idle": "2025-08-19T18:14:40.097434Z",
     "shell.execute_reply": "2025-08-19T18:14:40.095921Z"
    },
    "papermill": {
     "duration": 8.343285,
     "end_time": "2025-08-19T18:14:40.100317",
     "exception": false,
     "start_time": "2025-08-19T18:14:31.757032",
     "status": "completed"
    },
    "tags": []
   },
   "outputs": [
    {
     "data": {
      "text/html": [
       "<style>#sk-container-id-1 {color: black;background-color: white;}#sk-container-id-1 pre{padding: 0;}#sk-container-id-1 div.sk-toggleable {background-color: white;}#sk-container-id-1 label.sk-toggleable__label {cursor: pointer;display: block;width: 100%;margin-bottom: 0;padding: 0.3em;box-sizing: border-box;text-align: center;}#sk-container-id-1 label.sk-toggleable__label-arrow:before {content: \"▸\";float: left;margin-right: 0.25em;color: #696969;}#sk-container-id-1 label.sk-toggleable__label-arrow:hover:before {color: black;}#sk-container-id-1 div.sk-estimator:hover label.sk-toggleable__label-arrow:before {color: black;}#sk-container-id-1 div.sk-toggleable__content {max-height: 0;max-width: 0;overflow: hidden;text-align: left;background-color: #f0f8ff;}#sk-container-id-1 div.sk-toggleable__content pre {margin: 0.2em;color: black;border-radius: 0.25em;background-color: #f0f8ff;}#sk-container-id-1 input.sk-toggleable__control:checked~div.sk-toggleable__content {max-height: 200px;max-width: 100%;overflow: auto;}#sk-container-id-1 input.sk-toggleable__control:checked~label.sk-toggleable__label-arrow:before {content: \"▾\";}#sk-container-id-1 div.sk-estimator input.sk-toggleable__control:checked~label.sk-toggleable__label {background-color: #d4ebff;}#sk-container-id-1 div.sk-label input.sk-toggleable__control:checked~label.sk-toggleable__label {background-color: #d4ebff;}#sk-container-id-1 input.sk-hidden--visually {border: 0;clip: rect(1px 1px 1px 1px);clip: rect(1px, 1px, 1px, 1px);height: 1px;margin: -1px;overflow: hidden;padding: 0;position: absolute;width: 1px;}#sk-container-id-1 div.sk-estimator {font-family: monospace;background-color: #f0f8ff;border: 1px dotted black;border-radius: 0.25em;box-sizing: border-box;margin-bottom: 0.5em;}#sk-container-id-1 div.sk-estimator:hover {background-color: #d4ebff;}#sk-container-id-1 div.sk-parallel-item::after {content: \"\";width: 100%;border-bottom: 1px solid gray;flex-grow: 1;}#sk-container-id-1 div.sk-label:hover label.sk-toggleable__label {background-color: #d4ebff;}#sk-container-id-1 div.sk-serial::before {content: \"\";position: absolute;border-left: 1px solid gray;box-sizing: border-box;top: 0;bottom: 0;left: 50%;z-index: 0;}#sk-container-id-1 div.sk-serial {display: flex;flex-direction: column;align-items: center;background-color: white;padding-right: 0.2em;padding-left: 0.2em;position: relative;}#sk-container-id-1 div.sk-item {position: relative;z-index: 1;}#sk-container-id-1 div.sk-parallel {display: flex;align-items: stretch;justify-content: center;background-color: white;position: relative;}#sk-container-id-1 div.sk-item::before, #sk-container-id-1 div.sk-parallel-item::before {content: \"\";position: absolute;border-left: 1px solid gray;box-sizing: border-box;top: 0;bottom: 0;left: 50%;z-index: -1;}#sk-container-id-1 div.sk-parallel-item {display: flex;flex-direction: column;z-index: 1;position: relative;background-color: white;}#sk-container-id-1 div.sk-parallel-item:first-child::after {align-self: flex-end;width: 50%;}#sk-container-id-1 div.sk-parallel-item:last-child::after {align-self: flex-start;width: 50%;}#sk-container-id-1 div.sk-parallel-item:only-child::after {width: 0;}#sk-container-id-1 div.sk-dashed-wrapped {border: 1px dashed gray;margin: 0 0.4em 0.5em 0.4em;box-sizing: border-box;padding-bottom: 0.4em;background-color: white;}#sk-container-id-1 div.sk-label label {font-family: monospace;font-weight: bold;display: inline-block;line-height: 1.2em;}#sk-container-id-1 div.sk-label-container {text-align: center;}#sk-container-id-1 div.sk-container {/* jupyter's `normalize.less` sets `[hidden] { display: none; }` but bootstrap.min.css set `[hidden] { display: none !important; }` so we also need the `!important` here to be able to override the default hidden behavior on the sphinx rendered scikit-learn.org. See: https://github.com/scikit-learn/scikit-learn/issues/21755 */display: inline-block !important;position: relative;}#sk-container-id-1 div.sk-text-repr-fallback {display: none;}</style><div id=\"sk-container-id-1\" class=\"sk-top-container\"><div class=\"sk-text-repr-fallback\"><pre>Pipeline(steps=[(&#x27;scale&#x27;, StandardScaler()),\n",
       "                (&#x27;model&#x27;, RandomForestClassifier())])</pre><b>In a Jupyter environment, please rerun this cell to show the HTML representation or trust the notebook. <br />On GitHub, the HTML representation is unable to render, please try loading this page with nbviewer.org.</b></div><div class=\"sk-container\" hidden><div class=\"sk-item sk-dashed-wrapped\"><div class=\"sk-label-container\"><div class=\"sk-label sk-toggleable\"><input class=\"sk-toggleable__control sk-hidden--visually\" id=\"sk-estimator-id-1\" type=\"checkbox\" ><label for=\"sk-estimator-id-1\" class=\"sk-toggleable__label sk-toggleable__label-arrow\">Pipeline</label><div class=\"sk-toggleable__content\"><pre>Pipeline(steps=[(&#x27;scale&#x27;, StandardScaler()),\n",
       "                (&#x27;model&#x27;, RandomForestClassifier())])</pre></div></div></div><div class=\"sk-serial\"><div class=\"sk-item\"><div class=\"sk-estimator sk-toggleable\"><input class=\"sk-toggleable__control sk-hidden--visually\" id=\"sk-estimator-id-2\" type=\"checkbox\" ><label for=\"sk-estimator-id-2\" class=\"sk-toggleable__label sk-toggleable__label-arrow\">StandardScaler</label><div class=\"sk-toggleable__content\"><pre>StandardScaler()</pre></div></div></div><div class=\"sk-item\"><div class=\"sk-estimator sk-toggleable\"><input class=\"sk-toggleable__control sk-hidden--visually\" id=\"sk-estimator-id-3\" type=\"checkbox\" ><label for=\"sk-estimator-id-3\" class=\"sk-toggleable__label sk-toggleable__label-arrow\">RandomForestClassifier</label><div class=\"sk-toggleable__content\"><pre>RandomForestClassifier()</pre></div></div></div></div></div></div></div>"
      ],
      "text/plain": [
       "Pipeline(steps=[('scale', StandardScaler()),\n",
       "                ('model', RandomForestClassifier())])"
      ]
     },
     "execution_count": 34,
     "metadata": {},
     "output_type": "execute_result"
    }
   ],
   "source": [
    "model.fit(X_train, y_train.values.ravel())"
   ]
  },
  {
   "cell_type": "code",
   "execution_count": 35,
   "id": "6e15e313",
   "metadata": {
    "execution": {
     "iopub.execute_input": "2025-08-19T18:14:40.144266Z",
     "iopub.status.busy": "2025-08-19T18:14:40.142639Z",
     "iopub.status.idle": "2025-08-19T18:14:42.709341Z",
     "shell.execute_reply": "2025-08-19T18:14:42.708447Z"
    },
    "papermill": {
     "duration": 2.583687,
     "end_time": "2025-08-19T18:14:42.710600",
     "exception": false,
     "start_time": "2025-08-19T18:14:40.126913",
     "status": "completed"
    },
    "tags": []
   },
   "outputs": [
    {
     "data": {
      "text/plain": [
       "0.8651655333853528"
      ]
     },
     "execution_count": 35,
     "metadata": {},
     "output_type": "execute_result"
    }
   ],
   "source": [
    "from fairness_multiverse.universe import predict_w_threshold\n",
    "\n",
    "probs_test = model.predict_proba(X_test)\n",
    "\n",
    "'''\n",
    "Below code returns a boolean array (or binary 0/1 array depending on how it’s used) where each element \n",
    "is True if the probability of class 1 is greater than or equal to the threshold, and False otherwise.\n",
    "'''\n",
    "y_pred_default = predict_w_threshold(probs_test, 0.5)\n",
    "\n",
    "from sklearn.metrics import accuracy_score\n",
    "\n",
    "# Naive prediction\n",
    "accuracy_score(y_true = y_true, y_pred = y_pred_default)"
   ]
  },
  {
   "cell_type": "code",
   "execution_count": 36,
   "id": "6f14067c",
   "metadata": {
    "execution": {
     "iopub.execute_input": "2025-08-19T18:14:42.743835Z",
     "iopub.status.busy": "2025-08-19T18:14:42.743359Z",
     "iopub.status.idle": "2025-08-19T18:14:45.230734Z",
     "shell.execute_reply": "2025-08-19T18:14:45.229893Z"
    },
    "papermill": {
     "duration": 2.506868,
     "end_time": "2025-08-19T18:14:45.231946",
     "exception": false,
     "start_time": "2025-08-19T18:14:42.725078",
     "status": "completed"
    },
    "tags": []
   },
   "outputs": [
    {
     "data": {
      "text/plain": [
       "array([0, 0, 0, ..., 0, 0, 0])"
      ]
     },
     "execution_count": 36,
     "metadata": {},
     "output_type": "execute_result"
    }
   ],
   "source": [
    "model.predict(X_test)"
   ]
  },
  {
   "cell_type": "markdown",
   "id": "3759920c",
   "metadata": {
    "papermill": {
     "duration": 0.012116,
     "end_time": "2025-08-19T18:14:45.257924",
     "exception": false,
     "start_time": "2025-08-19T18:14:45.245808",
     "status": "completed"
    },
    "tags": []
   },
   "source": [
    "# Conformal Prediction"
   ]
  },
  {
   "cell_type": "code",
   "execution_count": 37,
   "id": "14b27f59",
   "metadata": {
    "execution": {
     "iopub.execute_input": "2025-08-19T18:14:45.282927Z",
     "iopub.status.busy": "2025-08-19T18:14:45.281452Z",
     "iopub.status.idle": "2025-08-19T18:14:45.290458Z",
     "shell.execute_reply": "2025-08-19T18:14:45.288892Z"
    },
    "papermill": {
     "duration": 0.023044,
     "end_time": "2025-08-19T18:14:45.291852",
     "exception": false,
     "start_time": "2025-08-19T18:14:45.268808",
     "status": "completed"
    },
    "tags": []
   },
   "outputs": [],
   "source": [
    "# Miscoverage level for conformal prediction (10% allowed error rate => 90% target coverage)\n",
    "alpha = 0.1"
   ]
  },
  {
   "cell_type": "code",
   "execution_count": 38,
   "id": "59102472",
   "metadata": {
    "execution": {
     "iopub.execute_input": "2025-08-19T18:14:45.319083Z",
     "iopub.status.busy": "2025-08-19T18:14:45.318153Z",
     "iopub.status.idle": "2025-08-19T18:14:47.727236Z",
     "shell.execute_reply": "2025-08-19T18:14:47.725985Z"
    },
    "papermill": {
     "duration": 2.424107,
     "end_time": "2025-08-19T18:14:47.729942",
     "exception": false,
     "start_time": "2025-08-19T18:14:45.305835",
     "status": "completed"
    },
    "tags": []
   },
   "outputs": [],
   "source": [
    "probs_calib = model.predict_proba(X_calib)"
   ]
  },
  {
   "cell_type": "code",
   "execution_count": 39,
   "id": "a792d4dd",
   "metadata": {
    "execution": {
     "iopub.execute_input": "2025-08-19T18:14:47.757066Z",
     "iopub.status.busy": "2025-08-19T18:14:47.756246Z",
     "iopub.status.idle": "2025-08-19T18:14:47.766248Z",
     "shell.execute_reply": "2025-08-19T18:14:47.764951Z"
    },
    "papermill": {
     "duration": 0.024255,
     "end_time": "2025-08-19T18:14:47.767602",
     "exception": false,
     "start_time": "2025-08-19T18:14:47.743347",
     "status": "completed"
    },
    "tags": []
   },
   "outputs": [],
   "source": [
    "y_calib = y_calib.values.ravel().astype(int)"
   ]
  },
  {
   "cell_type": "code",
   "execution_count": 40,
   "id": "650fd033",
   "metadata": {
    "execution": {
     "iopub.execute_input": "2025-08-19T18:14:47.794986Z",
     "iopub.status.busy": "2025-08-19T18:14:47.793841Z",
     "iopub.status.idle": "2025-08-19T18:14:47.806946Z",
     "shell.execute_reply": "2025-08-19T18:14:47.805425Z"
    },
    "papermill": {
     "duration": 0.027545,
     "end_time": "2025-08-19T18:14:47.808648",
     "exception": false,
     "start_time": "2025-08-19T18:14:47.781103",
     "status": "completed"
    },
    "tags": []
   },
   "outputs": [],
   "source": [
    "from fairness_multiverse.conformal import compute_nc_scores\n",
    "\n",
    "# Compute nonconformity scores on calibration set (1 - probability of true class)\n",
    "nc_scores = compute_nc_scores(probs_calib, y_calib)"
   ]
  },
  {
   "cell_type": "code",
   "execution_count": 41,
   "id": "28ada44c",
   "metadata": {
    "execution": {
     "iopub.execute_input": "2025-08-19T18:14:47.835974Z",
     "iopub.status.busy": "2025-08-19T18:14:47.834950Z",
     "iopub.status.idle": "2025-08-19T18:14:47.846497Z",
     "shell.execute_reply": "2025-08-19T18:14:47.844933Z"
    },
    "papermill": {
     "duration": 0.025742,
     "end_time": "2025-08-19T18:14:47.847956",
     "exception": false,
     "start_time": "2025-08-19T18:14:47.822214",
     "status": "completed"
    },
    "tags": []
   },
   "outputs": [],
   "source": [
    "from fairness_multiverse.conformal import find_threshold\n",
    "\n",
    "# Find conformal threshold q_hat for the given alpha (split conformal method)\n",
    "q_hat = find_threshold(nc_scores, alpha)"
   ]
  },
  {
   "cell_type": "code",
   "execution_count": 42,
   "id": "df56469e",
   "metadata": {
    "execution": {
     "iopub.execute_input": "2025-08-19T18:14:47.876127Z",
     "iopub.status.busy": "2025-08-19T18:14:47.874741Z",
     "iopub.status.idle": "2025-08-19T18:14:47.886652Z",
     "shell.execute_reply": "2025-08-19T18:14:47.885092Z"
    },
    "papermill": {
     "duration": 0.026305,
     "end_time": "2025-08-19T18:14:47.888067",
     "exception": false,
     "start_time": "2025-08-19T18:14:47.861762",
     "status": "completed"
    },
    "tags": []
   },
   "outputs": [
    {
     "data": {
      "text/plain": [
       "0.6599999999999999"
      ]
     },
     "execution_count": 42,
     "metadata": {},
     "output_type": "execute_result"
    }
   ],
   "source": [
    "q_hat"
   ]
  },
  {
   "cell_type": "code",
   "execution_count": 43,
   "id": "aa1f5faa",
   "metadata": {
    "execution": {
     "iopub.execute_input": "2025-08-19T18:14:47.935829Z",
     "iopub.status.busy": "2025-08-19T18:14:47.929567Z",
     "iopub.status.idle": "2025-08-19T18:14:50.849869Z",
     "shell.execute_reply": "2025-08-19T18:14:50.849157Z"
    },
    "papermill": {
     "duration": 2.949318,
     "end_time": "2025-08-19T18:14:50.851426",
     "exception": false,
     "start_time": "2025-08-19T18:14:47.902108",
     "status": "completed"
    },
    "tags": []
   },
   "outputs": [],
   "source": [
    "from fairness_multiverse.conformal import predict_conformal_sets\n",
    "\n",
    "# Generate prediction sets for each test example\n",
    "pred_sets = predict_conformal_sets(model, X_test, q_hat)"
   ]
  },
  {
   "cell_type": "code",
   "execution_count": 44,
   "id": "97f67a6b",
   "metadata": {
    "execution": {
     "iopub.execute_input": "2025-08-19T18:14:50.880286Z",
     "iopub.status.busy": "2025-08-19T18:14:50.879366Z",
     "iopub.status.idle": "2025-08-19T18:14:50.887311Z",
     "shell.execute_reply": "2025-08-19T18:14:50.885932Z"
    },
    "papermill": {
     "duration": 0.022125,
     "end_time": "2025-08-19T18:14:50.888924",
     "exception": false,
     "start_time": "2025-08-19T18:14:50.866799",
     "status": "completed"
    },
    "tags": []
   },
   "outputs": [],
   "source": [
    "y_true = y_true.squeeze()"
   ]
  },
  {
   "cell_type": "code",
   "execution_count": 45,
   "id": "e700e9a7",
   "metadata": {
    "execution": {
     "iopub.execute_input": "2025-08-19T18:14:50.916250Z",
     "iopub.status.busy": "2025-08-19T18:14:50.915209Z",
     "iopub.status.idle": "2025-08-19T18:14:51.411455Z",
     "shell.execute_reply": "2025-08-19T18:14:51.410749Z"
    },
    "papermill": {
     "duration": 0.51002,
     "end_time": "2025-08-19T18:14:51.412854",
     "exception": false,
     "start_time": "2025-08-19T18:14:50.902834",
     "status": "completed"
    },
    "tags": []
   },
   "outputs": [],
   "source": [
    "from fairness_multiverse.conformal import evaluate_sets\n",
    "\n",
    "# Evaluate coverage and average set size on test data\n",
    "metrics = evaluate_sets(pred_sets, y_true)"
   ]
  },
  {
   "cell_type": "markdown",
   "id": "efbacec0",
   "metadata": {
    "papermill": {
     "duration": 0.020208,
     "end_time": "2025-08-19T18:14:51.451063",
     "exception": false,
     "start_time": "2025-08-19T18:14:51.430855",
     "status": "completed"
    },
    "tags": []
   },
   "source": [
    "# CP Metrics"
   ]
  },
  {
   "cell_type": "code",
   "execution_count": 46,
   "id": "9de55fb1",
   "metadata": {
    "execution": {
     "iopub.execute_input": "2025-08-19T18:14:51.476311Z",
     "iopub.status.busy": "2025-08-19T18:14:51.475307Z",
     "iopub.status.idle": "2025-08-19T18:14:51.486204Z",
     "shell.execute_reply": "2025-08-19T18:14:51.485071Z"
    },
    "papermill": {
     "duration": 0.025065,
     "end_time": "2025-08-19T18:14:51.487468",
     "exception": false,
     "start_time": "2025-08-19T18:14:51.462403",
     "status": "completed"
    },
    "tags": []
   },
   "outputs": [
    {
     "data": {
      "text/plain": [
       "{'coverage': 0.9157284583658455, 'avg_size': 1.1512205997101772}"
      ]
     },
     "execution_count": 46,
     "metadata": {},
     "output_type": "execute_result"
    }
   ],
   "source": [
    "metrics"
   ]
  },
  {
   "cell_type": "code",
   "execution_count": 47,
   "id": "64c340a1",
   "metadata": {
    "execution": {
     "iopub.execute_input": "2025-08-19T18:14:51.514788Z",
     "iopub.status.busy": "2025-08-19T18:14:51.513886Z",
     "iopub.status.idle": "2025-08-19T18:14:51.524640Z",
     "shell.execute_reply": "2025-08-19T18:14:51.523015Z"
    },
    "papermill": {
     "duration": 0.02655,
     "end_time": "2025-08-19T18:14:51.526215",
     "exception": false,
     "start_time": "2025-08-19T18:14:51.499665",
     "status": "completed"
    },
    "tags": []
   },
   "outputs": [],
   "source": [
    "example_universe = universe.copy()\n",
    "universe_training_year = example_universe.get(\"training_year\")\n",
    "universe_training_size = example_universe.get(\"training_size\")\n",
    "universe_scale = example_universe.get(\"scale\")\n",
    "universe_model = example_universe.get(\"model\")\n",
    "universe_exclude_features = example_universe.get(\"exclude_features\")\n",
    "universe_exclude_subgroups = example_universe.get(\"exclude_subgroups\")"
   ]
  },
  {
   "cell_type": "code",
   "execution_count": 48,
   "id": "dbb53cb4",
   "metadata": {
    "execution": {
     "iopub.execute_input": "2025-08-19T18:14:51.554528Z",
     "iopub.status.busy": "2025-08-19T18:14:51.553496Z",
     "iopub.status.idle": "2025-08-19T18:14:51.563827Z",
     "shell.execute_reply": "2025-08-19T18:14:51.562259Z"
    },
    "papermill": {
     "duration": 0.024582,
     "end_time": "2025-08-19T18:14:51.565169",
     "exception": false,
     "start_time": "2025-08-19T18:14:51.540587",
     "status": "completed"
    },
    "tags": []
   },
   "outputs": [],
   "source": [
    "cp_metrics_dict = {\n",
    "    \"universe_id\": [universe_id],\n",
    "    \"universe_training_year\": [universe_training_year],\n",
    "    \"universe_training_size\": [universe_training_size],\n",
    "    \"universe_scale\": [universe_scale],\n",
    "    \"universe_model\": [universe_model],\n",
    "    \"universe_exclude_features\": [universe_exclude_features],\n",
    "    \"universe_exclude_subgroups\": [universe_exclude_subgroups],\n",
    "    \"q_hat\": [q_hat],\n",
    "    \"coverage\": [metrics[\"coverage\"]],\n",
    "    \"avg_size\": [metrics[\"avg_size\"]],\n",
    "}"
   ]
  },
  {
   "cell_type": "code",
   "execution_count": 49,
   "id": "0d70d4b2",
   "metadata": {
    "execution": {
     "iopub.execute_input": "2025-08-19T18:14:51.592840Z",
     "iopub.status.busy": "2025-08-19T18:14:51.591926Z",
     "iopub.status.idle": "2025-08-19T18:14:51.602050Z",
     "shell.execute_reply": "2025-08-19T18:14:51.600458Z"
    },
    "papermill": {
     "duration": 0.024122,
     "end_time": "2025-08-19T18:14:51.603426",
     "exception": false,
     "start_time": "2025-08-19T18:14:51.579304",
     "status": "completed"
    },
    "tags": []
   },
   "outputs": [],
   "source": [
    "cp_metrics_df = pd.DataFrame(cp_metrics_dict)"
   ]
  },
  {
   "cell_type": "code",
   "execution_count": 50,
   "id": "b494403c",
   "metadata": {
    "execution": {
     "iopub.execute_input": "2025-08-19T18:14:51.631048Z",
     "iopub.status.busy": "2025-08-19T18:14:51.630172Z",
     "iopub.status.idle": "2025-08-19T18:14:51.653429Z",
     "shell.execute_reply": "2025-08-19T18:14:51.652343Z"
    },
    "papermill": {
     "duration": 0.037376,
     "end_time": "2025-08-19T18:14:51.655026",
     "exception": false,
     "start_time": "2025-08-19T18:14:51.617650",
     "status": "completed"
    },
    "tags": []
   },
   "outputs": [
    {
     "data": {
      "text/html": [
       "<div>\n",
       "<style scoped>\n",
       "    .dataframe tbody tr th:only-of-type {\n",
       "        vertical-align: middle;\n",
       "    }\n",
       "\n",
       "    .dataframe tbody tr th {\n",
       "        vertical-align: top;\n",
       "    }\n",
       "\n",
       "    .dataframe thead th {\n",
       "        text-align: right;\n",
       "    }\n",
       "</style>\n",
       "<table border=\"1\" class=\"dataframe\">\n",
       "  <thead>\n",
       "    <tr style=\"text-align: right;\">\n",
       "      <th></th>\n",
       "      <th>universe_id</th>\n",
       "      <th>universe_training_year</th>\n",
       "      <th>universe_training_size</th>\n",
       "      <th>universe_scale</th>\n",
       "      <th>universe_model</th>\n",
       "      <th>universe_exclude_features</th>\n",
       "      <th>universe_exclude_subgroups</th>\n",
       "      <th>q_hat</th>\n",
       "      <th>coverage</th>\n",
       "      <th>avg_size</th>\n",
       "    </tr>\n",
       "  </thead>\n",
       "  <tbody>\n",
       "    <tr>\n",
       "      <th>0</th>\n",
       "      <td>db2cf1963c51a1d6a183847dac48254d</td>\n",
       "      <td>2010_14</td>\n",
       "      <td>25k</td>\n",
       "      <td>scale</td>\n",
       "      <td>rf</td>\n",
       "      <td>none</td>\n",
       "      <td>keep-all</td>\n",
       "      <td>0.66</td>\n",
       "      <td>0.915728</td>\n",
       "      <td>1.151221</td>\n",
       "    </tr>\n",
       "  </tbody>\n",
       "</table>\n",
       "</div>"
      ],
      "text/plain": [
       "                        universe_id universe_training_year  \\\n",
       "0  db2cf1963c51a1d6a183847dac48254d                2010_14   \n",
       "\n",
       "  universe_training_size universe_scale universe_model  \\\n",
       "0                    25k          scale             rf   \n",
       "\n",
       "  universe_exclude_features universe_exclude_subgroups  q_hat  coverage  \\\n",
       "0                      none                   keep-all   0.66  0.915728   \n",
       "\n",
       "   avg_size  \n",
       "0  1.151221  "
      ]
     },
     "execution_count": 50,
     "metadata": {},
     "output_type": "execute_result"
    }
   ],
   "source": [
    "cp_metrics_df"
   ]
  },
  {
   "cell_type": "markdown",
   "id": "ed608b0b",
   "metadata": {
    "papermill": {
     "duration": 0.012146,
     "end_time": "2025-08-19T18:14:51.689434",
     "exception": false,
     "start_time": "2025-08-19T18:14:51.677288",
     "status": "completed"
    },
    "tags": []
   },
   "source": [
    "Conditional coverage & looking at subgroups"
   ]
  },
  {
   "cell_type": "code",
   "execution_count": 51,
   "id": "8968c366",
   "metadata": {
    "execution": {
     "iopub.execute_input": "2025-08-19T18:14:51.745217Z",
     "iopub.status.busy": "2025-08-19T18:14:51.744345Z",
     "iopub.status.idle": "2025-08-19T18:14:51.970357Z",
     "shell.execute_reply": "2025-08-19T18:14:51.969664Z"
    },
    "papermill": {
     "duration": 0.271888,
     "end_time": "2025-08-19T18:14:51.972844",
     "exception": false,
     "start_time": "2025-08-19T18:14:51.700956",
     "status": "completed"
    },
    "tags": []
   },
   "outputs": [],
   "source": [
    "from fairness_multiverse.conformal import build_cp_groups\n",
    "\n",
    "cp_groups_df = build_cp_groups(pred_sets, y_true, X_test.index, org_test)"
   ]
  },
  {
   "cell_type": "code",
   "execution_count": 52,
   "id": "292ddabf",
   "metadata": {
    "execution": {
     "iopub.execute_input": "2025-08-19T18:14:52.024910Z",
     "iopub.status.busy": "2025-08-19T18:14:52.023871Z",
     "iopub.status.idle": "2025-08-19T18:14:52.867995Z",
     "shell.execute_reply": "2025-08-19T18:14:52.867203Z"
    },
    "papermill": {
     "duration": 0.87317,
     "end_time": "2025-08-19T18:14:52.869453",
     "exception": false,
     "start_time": "2025-08-19T18:14:51.996283",
     "status": "completed"
    },
    "tags": []
   },
   "outputs": [],
   "source": [
    "# Define covered = 1 if true_label is in the predicted set\n",
    "cp_groups_df['covered'] = cp_groups_df.apply(\n",
    "    lambda r: int(r['true_label'] in r['pred_set']),\n",
    "    axis=1\n",
    ")"
   ]
  },
  {
   "cell_type": "code",
   "execution_count": 53,
   "id": "3a261692",
   "metadata": {
    "execution": {
     "iopub.execute_input": "2025-08-19T18:14:52.895242Z",
     "iopub.status.busy": "2025-08-19T18:14:52.894522Z",
     "iopub.status.idle": "2025-08-19T18:14:52.913480Z",
     "shell.execute_reply": "2025-08-19T18:14:52.912525Z"
    },
    "papermill": {
     "duration": 0.033249,
     "end_time": "2025-08-19T18:14:52.915011",
     "exception": false,
     "start_time": "2025-08-19T18:14:52.881762",
     "status": "completed"
    },
    "tags": []
   },
   "outputs": [],
   "source": [
    "subgroups = ['frau1','nongerman','nongerman_male','nongerman_female']\n",
    "\n",
    "# Conditional coverage for subgroup==1\n",
    "cond_coverage = {\n",
    "    g: cp_groups_df.loc[cp_groups_df[g]==1, 'covered'].mean()\n",
    "    for g in subgroups\n",
    "}"
   ]
  },
  {
   "cell_type": "code",
   "execution_count": 54,
   "id": "894fd600",
   "metadata": {
    "execution": {
     "iopub.execute_input": "2025-08-19T18:14:52.948793Z",
     "iopub.status.busy": "2025-08-19T18:14:52.947201Z",
     "iopub.status.idle": "2025-08-19T18:14:52.959489Z",
     "shell.execute_reply": "2025-08-19T18:14:52.957809Z"
    },
    "papermill": {
     "duration": 0.028227,
     "end_time": "2025-08-19T18:14:52.961235",
     "exception": false,
     "start_time": "2025-08-19T18:14:52.933008",
     "status": "completed"
    },
    "tags": []
   },
   "outputs": [
    {
     "data": {
      "text/plain": [
       "{'frau1': 0.913627173473514,\n",
       " 'nongerman': 0.9081008252399932,\n",
       " 'nongerman_male': 0.92227325947942,\n",
       " 'nongerman_female': 0.8846497764530551}"
      ]
     },
     "execution_count": 54,
     "metadata": {},
     "output_type": "execute_result"
    }
   ],
   "source": [
    "cond_coverage"
   ]
  },
  {
   "cell_type": "code",
   "execution_count": 55,
   "id": "942895c7",
   "metadata": {
    "execution": {
     "iopub.execute_input": "2025-08-19T18:14:52.990833Z",
     "iopub.status.busy": "2025-08-19T18:14:52.989913Z",
     "iopub.status.idle": "2025-08-19T18:14:53.001692Z",
     "shell.execute_reply": "2025-08-19T18:14:53.000501Z"
    },
    "papermill": {
     "duration": 0.027043,
     "end_time": "2025-08-19T18:14:53.003505",
     "exception": false,
     "start_time": "2025-08-19T18:14:52.976462",
     "status": "completed"
    },
    "tags": []
   },
   "outputs": [],
   "source": [
    "for subgroup, cov in cond_coverage.items():\n",
    "    cp_metrics_df[f\"cov_{subgroup}\"] = cov"
   ]
  },
  {
   "cell_type": "code",
   "execution_count": 56,
   "id": "3970120f",
   "metadata": {
    "execution": {
     "iopub.execute_input": "2025-08-19T18:14:53.036602Z",
     "iopub.status.busy": "2025-08-19T18:14:53.035320Z",
     "iopub.status.idle": "2025-08-19T18:14:53.061339Z",
     "shell.execute_reply": "2025-08-19T18:14:53.060586Z"
    },
    "papermill": {
     "duration": 0.043129,
     "end_time": "2025-08-19T18:14:53.063151",
     "exception": false,
     "start_time": "2025-08-19T18:14:53.020022",
     "status": "completed"
    },
    "tags": []
   },
   "outputs": [
    {
     "data": {
      "text/html": [
       "<div>\n",
       "<style scoped>\n",
       "    .dataframe tbody tr th:only-of-type {\n",
       "        vertical-align: middle;\n",
       "    }\n",
       "\n",
       "    .dataframe tbody tr th {\n",
       "        vertical-align: top;\n",
       "    }\n",
       "\n",
       "    .dataframe thead th {\n",
       "        text-align: right;\n",
       "    }\n",
       "</style>\n",
       "<table border=\"1\" class=\"dataframe\">\n",
       "  <thead>\n",
       "    <tr style=\"text-align: right;\">\n",
       "      <th></th>\n",
       "      <th>universe_id</th>\n",
       "      <th>universe_training_year</th>\n",
       "      <th>universe_training_size</th>\n",
       "      <th>universe_scale</th>\n",
       "      <th>universe_model</th>\n",
       "      <th>universe_exclude_features</th>\n",
       "      <th>universe_exclude_subgroups</th>\n",
       "      <th>q_hat</th>\n",
       "      <th>coverage</th>\n",
       "      <th>avg_size</th>\n",
       "      <th>cov_frau1</th>\n",
       "      <th>cov_nongerman</th>\n",
       "      <th>cov_nongerman_male</th>\n",
       "      <th>cov_nongerman_female</th>\n",
       "    </tr>\n",
       "  </thead>\n",
       "  <tbody>\n",
       "    <tr>\n",
       "      <th>0</th>\n",
       "      <td>db2cf1963c51a1d6a183847dac48254d</td>\n",
       "      <td>2010_14</td>\n",
       "      <td>25k</td>\n",
       "      <td>scale</td>\n",
       "      <td>rf</td>\n",
       "      <td>none</td>\n",
       "      <td>keep-all</td>\n",
       "      <td>0.66</td>\n",
       "      <td>0.915728</td>\n",
       "      <td>1.151221</td>\n",
       "      <td>0.913627</td>\n",
       "      <td>0.908101</td>\n",
       "      <td>0.922273</td>\n",
       "      <td>0.88465</td>\n",
       "    </tr>\n",
       "  </tbody>\n",
       "</table>\n",
       "</div>"
      ],
      "text/plain": [
       "                        universe_id universe_training_year  \\\n",
       "0  db2cf1963c51a1d6a183847dac48254d                2010_14   \n",
       "\n",
       "  universe_training_size universe_scale universe_model  \\\n",
       "0                    25k          scale             rf   \n",
       "\n",
       "  universe_exclude_features universe_exclude_subgroups  q_hat  coverage  \\\n",
       "0                      none                   keep-all   0.66  0.915728   \n",
       "\n",
       "   avg_size  cov_frau1  cov_nongerman  cov_nongerman_male  \\\n",
       "0  1.151221   0.913627       0.908101            0.922273   \n",
       "\n",
       "   cov_nongerman_female  \n",
       "0               0.88465  "
      ]
     },
     "execution_count": 56,
     "metadata": {},
     "output_type": "execute_result"
    }
   ],
   "source": [
    "cp_metrics_df"
   ]
  },
  {
   "cell_type": "markdown",
   "id": "3fc519cc",
   "metadata": {
    "papermill": {
     "duration": 0.013386,
     "end_time": "2025-08-19T18:14:53.097464",
     "exception": false,
     "start_time": "2025-08-19T18:14:53.084078",
     "status": "completed"
    },
    "tags": []
   },
   "source": [
    "# (Fairness) Metrics"
   ]
  },
  {
   "cell_type": "code",
   "execution_count": 57,
   "id": "a2e5e155",
   "metadata": {
    "execution": {
     "iopub.execute_input": "2025-08-19T18:14:53.124840Z",
     "iopub.status.busy": "2025-08-19T18:14:53.123805Z",
     "iopub.status.idle": "2025-08-19T18:14:53.152003Z",
     "shell.execute_reply": "2025-08-19T18:14:53.151195Z"
    },
    "papermill": {
     "duration": 0.047725,
     "end_time": "2025-08-19T18:14:53.157025",
     "exception": false,
     "start_time": "2025-08-19T18:14:53.109300",
     "status": "completed"
    },
    "tags": []
   },
   "outputs": [],
   "source": [
    "colname_to_bin = \"maxdeutsch1\"\n",
    "majority_value = org_train[colname_to_bin].mode()[0]\n",
    "\n",
    "org_test[\"majmin\"] = np.where(org_test[colname_to_bin] == majority_value, \"majority\", \"minority\")"
   ]
  },
  {
   "cell_type": "code",
   "execution_count": 58,
   "id": "17e3e4d5",
   "metadata": {
    "execution": {
     "iopub.execute_input": "2025-08-19T18:14:53.196333Z",
     "iopub.status.busy": "2025-08-19T18:14:53.195362Z",
     "iopub.status.idle": "2025-08-19T18:14:54.883612Z",
     "shell.execute_reply": "2025-08-19T18:14:54.882928Z"
    },
    "papermill": {
     "duration": 1.703522,
     "end_time": "2025-08-19T18:14:54.885274",
     "exception": false,
     "start_time": "2025-08-19T18:14:53.181752",
     "status": "completed"
    },
    "tags": []
   },
   "outputs": [],
   "source": [
    "example_universe = universe.copy()\n",
    "example_universe[\"cutoff\"] = example_universe[\"cutoff\"][0]\n",
    "example_universe[\"eval_fairness_grouping\"] = example_universe[\"eval_fairness_grouping\"][0]\n",
    "fairness_dict, metric_frame = universe_analysis.compute_metrics(\n",
    "    example_universe,\n",
    "    y_pred_prob=probs_test,\n",
    "    y_test=y_true,\n",
    "    org_test=org_test,\n",
    ")"
   ]
  },
  {
   "cell_type": "markdown",
   "id": "1fb7a0e9",
   "metadata": {
    "papermill": {
     "duration": 0.013652,
     "end_time": "2025-08-19T18:14:54.913481",
     "exception": false,
     "start_time": "2025-08-19T18:14:54.899829",
     "status": "completed"
    },
    "tags": []
   },
   "source": [
    "# Overall"
   ]
  },
  {
   "cell_type": "markdown",
   "id": "be1784b1",
   "metadata": {
    "papermill": {
     "duration": 0.012042,
     "end_time": "2025-08-19T18:14:54.937633",
     "exception": false,
     "start_time": "2025-08-19T18:14:54.925591",
     "status": "completed"
    },
    "tags": []
   },
   "source": [
    "Main fairness target: Equalized Odds. Seems to be a better fit than equal opportunity, since we're not only interested in Y = 1. Seems to be a better fit than demographic parity, since we also care about accuracy, not just equal distribution of preds.\n",
    "\n",
    "Pick column for computation of fairness metrics\n",
    "\n",
    "Performance\n",
    "Overall performance measures, most interesting in relation to the measures split by group below"
   ]
  },
  {
   "cell_type": "code",
   "execution_count": 59,
   "id": "b7672bee",
   "metadata": {
    "execution": {
     "iopub.execute_input": "2025-08-19T18:14:54.964726Z",
     "iopub.status.busy": "2025-08-19T18:14:54.963398Z",
     "iopub.status.idle": "2025-08-19T18:14:54.977821Z",
     "shell.execute_reply": "2025-08-19T18:14:54.976046Z"
    },
    "papermill": {
     "duration": 0.029962,
     "end_time": "2025-08-19T18:14:54.979634",
     "exception": false,
     "start_time": "2025-08-19T18:14:54.949672",
     "status": "completed"
    },
    "tags": []
   },
   "outputs": [
    {
     "data": {
      "text/plain": [
       "accuracy                   0.189767\n",
       "balanced accuracy          0.528635\n",
       "f1                         0.237645\n",
       "precision                  0.135133\n",
       "false positive rate        0.927176\n",
       "false negative rate        0.015554\n",
       "selection rate             0.934522\n",
       "count                  89710.000000\n",
       "dtype: float64"
      ]
     },
     "execution_count": 59,
     "metadata": {},
     "output_type": "execute_result"
    }
   ],
   "source": [
    "metric_frame.overall"
   ]
  },
  {
   "cell_type": "markdown",
   "id": "d93333c9",
   "metadata": {
    "papermill": {
     "duration": 0.012576,
     "end_time": "2025-08-19T18:14:55.010282",
     "exception": false,
     "start_time": "2025-08-19T18:14:54.997706",
     "status": "completed"
    },
    "tags": []
   },
   "source": [
    "By Group"
   ]
  },
  {
   "cell_type": "code",
   "execution_count": 60,
   "id": "52256966",
   "metadata": {
    "execution": {
     "iopub.execute_input": "2025-08-19T18:14:55.037072Z",
     "iopub.status.busy": "2025-08-19T18:14:55.036099Z",
     "iopub.status.idle": "2025-08-19T18:14:55.059157Z",
     "shell.execute_reply": "2025-08-19T18:14:55.058073Z"
    },
    "papermill": {
     "duration": 0.038562,
     "end_time": "2025-08-19T18:14:55.060926",
     "exception": false,
     "start_time": "2025-08-19T18:14:55.022364",
     "status": "completed"
    },
    "tags": []
   },
   "outputs": [
    {
     "data": {
      "text/html": [
       "<div>\n",
       "<style scoped>\n",
       "    .dataframe tbody tr th:only-of-type {\n",
       "        vertical-align: middle;\n",
       "    }\n",
       "\n",
       "    .dataframe tbody tr th {\n",
       "        vertical-align: top;\n",
       "    }\n",
       "\n",
       "    .dataframe thead th {\n",
       "        text-align: right;\n",
       "    }\n",
       "</style>\n",
       "<table border=\"1\" class=\"dataframe\">\n",
       "  <thead>\n",
       "    <tr style=\"text-align: right;\">\n",
       "      <th></th>\n",
       "      <th>accuracy</th>\n",
       "      <th>balanced accuracy</th>\n",
       "      <th>f1</th>\n",
       "      <th>precision</th>\n",
       "      <th>false positive rate</th>\n",
       "      <th>false negative rate</th>\n",
       "      <th>selection rate</th>\n",
       "      <th>count</th>\n",
       "    </tr>\n",
       "    <tr>\n",
       "      <th>majmin</th>\n",
       "      <th></th>\n",
       "      <th></th>\n",
       "      <th></th>\n",
       "      <th></th>\n",
       "      <th></th>\n",
       "      <th></th>\n",
       "      <th></th>\n",
       "      <th></th>\n",
       "    </tr>\n",
       "  </thead>\n",
       "  <tbody>\n",
       "    <tr>\n",
       "      <th>majority</th>\n",
       "      <td>0.186078</td>\n",
       "      <td>0.527876</td>\n",
       "      <td>0.243710</td>\n",
       "      <td>0.138911</td>\n",
       "      <td>0.936698</td>\n",
       "      <td>0.007549</td>\n",
       "      <td>0.944065</td>\n",
       "      <td>69170.0</td>\n",
       "    </tr>\n",
       "    <tr>\n",
       "      <th>minority</th>\n",
       "      <td>0.202191</td>\n",
       "      <td>0.528914</td>\n",
       "      <td>0.216046</td>\n",
       "      <td>0.121824</td>\n",
       "      <td>0.895719</td>\n",
       "      <td>0.046453</td>\n",
       "      <td>0.902386</td>\n",
       "      <td>20540.0</td>\n",
       "    </tr>\n",
       "  </tbody>\n",
       "</table>\n",
       "</div>"
      ],
      "text/plain": [
       "          accuracy  balanced accuracy        f1  precision  \\\n",
       "majmin                                                       \n",
       "majority  0.186078           0.527876  0.243710   0.138911   \n",
       "minority  0.202191           0.528914  0.216046   0.121824   \n",
       "\n",
       "          false positive rate  false negative rate  selection rate    count  \n",
       "majmin                                                                       \n",
       "majority             0.936698             0.007549        0.944065  69170.0  \n",
       "minority             0.895719             0.046453        0.902386  20540.0  "
      ]
     },
     "execution_count": 60,
     "metadata": {},
     "output_type": "execute_result"
    }
   ],
   "source": [
    "metric_frame.by_group"
   ]
  },
  {
   "cell_type": "code",
   "execution_count": 61,
   "id": "6e6c20ae",
   "metadata": {
    "execution": {
     "iopub.execute_input": "2025-08-19T18:14:55.095334Z",
     "iopub.status.busy": "2025-08-19T18:14:55.094333Z",
     "iopub.status.idle": "2025-08-19T18:14:56.848091Z",
     "shell.execute_reply": "2025-08-19T18:14:56.847218Z"
    },
    "papermill": {
     "duration": 1.76913,
     "end_time": "2025-08-19T18:14:56.849430",
     "exception": false,
     "start_time": "2025-08-19T18:14:55.080300",
     "status": "completed"
    },
    "tags": []
   },
   "outputs": [
    {
     "data": {
      "text/plain": [
       "array([[<Axes: title={'center': 'accuracy'}, xlabel='majmin'>,\n",
       "        <Axes: title={'center': 'balanced accuracy'}, xlabel='majmin'>,\n",
       "        <Axes: title={'center': 'f1'}, xlabel='majmin'>],\n",
       "       [<Axes: title={'center': 'precision'}, xlabel='majmin'>,\n",
       "        <Axes: title={'center': 'false positive rate'}, xlabel='majmin'>,\n",
       "        <Axes: title={'center': 'false negative rate'}, xlabel='majmin'>],\n",
       "       [<Axes: title={'center': 'selection rate'}, xlabel='majmin'>,\n",
       "        <Axes: title={'center': 'count'}, xlabel='majmin'>,\n",
       "        <Axes: xlabel='majmin'>]], dtype=object)"
      ]
     },
     "execution_count": 61,
     "metadata": {},
     "output_type": "execute_result"
    },
    {
     "data": {
      "image/png": "[encoded data removed]",
      "text/plain": [
       "<Figure size 1200x800 with 9 Axes>"
      ]
     },
     "metadata": {},
     "output_type": "display_data"
    }
   ],
   "source": [
    "# In a graphic\n",
    "metric_frame.by_group.plot.bar(\n",
    "    subplots=True,\n",
    "    layout=[3, 3],\n",
    "    legend=False,\n",
    "    figsize=[12, 8],\n",
    "    title=\"Show all metrics\",\n",
    ")"
   ]
  },
  {
   "cell_type": "markdown",
   "id": "b2e433ae",
   "metadata": {
    "papermill": {
     "duration": 0.024948,
     "end_time": "2025-08-19T18:14:56.896024",
     "exception": false,
     "start_time": "2025-08-19T18:14:56.871076",
     "status": "completed"
    },
    "tags": []
   },
   "source": [
    "# Final Output"
   ]
  },
  {
   "cell_type": "code",
   "execution_count": 62,
   "id": "3871301e",
   "metadata": {
    "execution": {
     "iopub.execute_input": "2025-08-19T18:14:56.925660Z",
     "iopub.status.busy": "2025-08-19T18:14:56.925026Z",
     "iopub.status.idle": "2025-08-19T18:14:56.932035Z",
     "shell.execute_reply": "2025-08-19T18:14:56.931460Z"
    },
    "papermill": {
     "duration": 0.026593,
     "end_time": "2025-08-19T18:14:56.936873",
     "exception": false,
     "start_time": "2025-08-19T18:14:56.910280",
     "status": "completed"
    },
    "tags": []
   },
   "outputs": [
    {
     "data": {
      "text/plain": [
       "4"
      ]
     },
     "execution_count": 62,
     "metadata": {},
     "output_type": "execute_result"
    }
   ],
   "source": [
    "sub_universes = universe_analysis.generate_sub_universes()\n",
    "len(sub_universes)"
   ]
  },
  {
   "cell_type": "code",
   "execution_count": 63,
   "id": "d9cfdaca",
   "metadata": {
    "execution": {
     "iopub.execute_input": "2025-08-19T18:14:56.982022Z",
     "iopub.status.busy": "2025-08-19T18:14:56.980571Z",
     "iopub.status.idle": "2025-08-19T18:14:56.990685Z",
     "shell.execute_reply": "2025-08-19T18:14:56.989111Z"
    },
    "papermill": {
     "duration": 0.028873,
     "end_time": "2025-08-19T18:14:56.992317",
     "exception": false,
     "start_time": "2025-08-19T18:14:56.963444",
     "status": "completed"
    },
    "tags": []
   },
   "outputs": [],
   "source": [
    "def filter_sub_universe_data(sub_universe, org_test):\n",
    "    # Keep all rows — no filtering\n",
    "    keep_rows_mask = np.ones(org_test.shape[0], dtype=bool)\n",
    "\n",
    "    print(f\"[INFO] Keeping all rows: {keep_rows_mask.sum()} rows retained.\")\n",
    "    return keep_rows_mask"
   ]
  },
  {
   "cell_type": "code",
   "execution_count": 64,
   "id": "2bc31ac1",
   "metadata": {
    "execution": {
     "iopub.execute_input": "2025-08-19T18:14:57.025515Z",
     "iopub.status.busy": "2025-08-19T18:14:57.024098Z",
     "iopub.status.idle": "2025-08-19T18:15:03.688869Z",
     "shell.execute_reply": "2025-08-19T18:15:03.687831Z"
    },
    "papermill": {
     "duration": 6.681171,
     "end_time": "2025-08-19T18:15:03.690174",
     "exception": false,
     "start_time": "2025-08-19T18:14:57.009003",
     "status": "completed"
    },
    "tags": []
   },
   "outputs": [
    {
     "name": "stdout",
     "output_type": "stream",
     "text": [
      "Stopping execution_time clock.\n",
      "[INFO] Keeping all rows: 89710 rows retained.\n"
     ]
    },
    {
     "name": "stdout",
     "output_type": "stream",
     "text": [
      "[INFO] Keeping all rows: 89710 rows retained.\n"
     ]
    },
    {
     "name": "stdout",
     "output_type": "stream",
     "text": [
      "[INFO] Keeping all rows: 89710 rows retained.\n"
     ]
    },
    {
     "name": "stdout",
     "output_type": "stream",
     "text": [
      "[INFO] Keeping all rows: 89710 rows retained.\n"
     ]
    },
    {
     "data": {
      "text/html": [
       "<div>\n",
       "<style scoped>\n",
       "    .dataframe tbody tr th:only-of-type {\n",
       "        vertical-align: middle;\n",
       "    }\n",
       "\n",
       "    .dataframe tbody tr th {\n",
       "        vertical-align: top;\n",
       "    }\n",
       "\n",
       "    .dataframe thead th {\n",
       "        text-align: right;\n",
       "    }\n",
       "</style>\n",
       "<table border=\"1\" class=\"dataframe\">\n",
       "  <thead>\n",
       "    <tr style=\"text-align: right;\">\n",
       "      <th></th>\n",
       "      <th>run_no</th>\n",
       "      <th>universe_id</th>\n",
       "      <th>universe_settings</th>\n",
       "      <th>execution_time</th>\n",
       "      <th>test_size_n</th>\n",
       "      <th>test_size_frac</th>\n",
       "      <th>fair_main_equalized_odds_difference</th>\n",
       "      <th>fair_main_equalized_odds_ratio</th>\n",
       "      <th>fair_main_demographic_parity_difference</th>\n",
       "      <th>fair_main_demographic_parity_ratio</th>\n",
       "      <th>...</th>\n",
       "      <th>perf_grp_precision_0</th>\n",
       "      <th>perf_grp_precision_1</th>\n",
       "      <th>perf_grp_false positive rate_0</th>\n",
       "      <th>perf_grp_false positive rate_1</th>\n",
       "      <th>perf_grp_false negative rate_0</th>\n",
       "      <th>perf_grp_false negative rate_1</th>\n",
       "      <th>perf_grp_selection rate_0</th>\n",
       "      <th>perf_grp_selection rate_1</th>\n",
       "      <th>perf_grp_count_0</th>\n",
       "      <th>perf_grp_count_1</th>\n",
       "    </tr>\n",
       "  </thead>\n",
       "  <tbody>\n",
       "    <tr>\n",
       "      <th>0</th>\n",
       "      <td>3</td>\n",
       "      <td>db2cf1963c51a1d6a183847dac48254d</td>\n",
       "      <td>{\"cutoff\": \"quantile_0.1\", \"eval_fairness_grou...</td>\n",
       "      <td>39.117874</td>\n",
       "      <td>89710</td>\n",
       "      <td>1.0</td>\n",
       "      <td>0.040980</td>\n",
       "      <td>0.956251</td>\n",
       "      <td>0.041680</td>\n",
       "      <td>0.955851</td>\n",
       "      <td>...</td>\n",
       "      <td>NaN</td>\n",
       "      <td>NaN</td>\n",
       "      <td>NaN</td>\n",
       "      <td>NaN</td>\n",
       "      <td>NaN</td>\n",
       "      <td>NaN</td>\n",
       "      <td>NaN</td>\n",
       "      <td>NaN</td>\n",
       "      <td>NaN</td>\n",
       "      <td>NaN</td>\n",
       "    </tr>\n",
       "    <tr>\n",
       "      <th>0</th>\n",
       "      <td>3</td>\n",
       "      <td>db2cf1963c51a1d6a183847dac48254d</td>\n",
       "      <td>{\"cutoff\": \"quantile_0.1\", \"eval_fairness_grou...</td>\n",
       "      <td>39.117874</td>\n",
       "      <td>89710</td>\n",
       "      <td>1.0</td>\n",
       "      <td>0.040980</td>\n",
       "      <td>0.956251</td>\n",
       "      <td>0.041680</td>\n",
       "      <td>0.955851</td>\n",
       "      <td>...</td>\n",
       "      <td>0.121824</td>\n",
       "      <td>0.138911</td>\n",
       "      <td>0.895719</td>\n",
       "      <td>0.936698</td>\n",
       "      <td>0.046453</td>\n",
       "      <td>0.007549</td>\n",
       "      <td>0.902386</td>\n",
       "      <td>0.944065</td>\n",
       "      <td>20540.0</td>\n",
       "      <td>69170.0</td>\n",
       "    </tr>\n",
       "    <tr>\n",
       "      <th>0</th>\n",
       "      <td>3</td>\n",
       "      <td>db2cf1963c51a1d6a183847dac48254d</td>\n",
       "      <td>{\"cutoff\": \"quantile_0.25\", \"eval_fairness_gro...</td>\n",
       "      <td>39.117874</td>\n",
       "      <td>89710</td>\n",
       "      <td>1.0</td>\n",
       "      <td>0.087277</td>\n",
       "      <td>0.908214</td>\n",
       "      <td>0.064074</td>\n",
       "      <td>0.916344</td>\n",
       "      <td>...</td>\n",
       "      <td>NaN</td>\n",
       "      <td>NaN</td>\n",
       "      <td>NaN</td>\n",
       "      <td>NaN</td>\n",
       "      <td>NaN</td>\n",
       "      <td>NaN</td>\n",
       "      <td>NaN</td>\n",
       "      <td>NaN</td>\n",
       "      <td>NaN</td>\n",
       "      <td>NaN</td>\n",
       "    </tr>\n",
       "    <tr>\n",
       "      <th>0</th>\n",
       "      <td>3</td>\n",
       "      <td>db2cf1963c51a1d6a183847dac48254d</td>\n",
       "      <td>{\"cutoff\": \"quantile_0.25\", \"eval_fairness_gro...</td>\n",
       "      <td>39.117874</td>\n",
       "      <td>89710</td>\n",
       "      <td>1.0</td>\n",
       "      <td>0.087277</td>\n",
       "      <td>0.908214</td>\n",
       "      <td>0.064074</td>\n",
       "      <td>0.916344</td>\n",
       "      <td>...</td>\n",
       "      <td>0.141856</td>\n",
       "      <td>0.164046</td>\n",
       "      <td>0.680773</td>\n",
       "      <td>0.737764</td>\n",
       "      <td>0.136402</td>\n",
       "      <td>0.049125</td>\n",
       "      <td>0.701850</td>\n",
       "      <td>0.765925</td>\n",
       "      <td>20540.0</td>\n",
       "      <td>69170.0</td>\n",
       "    </tr>\n",
       "  </tbody>\n",
       "</table>\n",
       "<p>4 rows × 50 columns</p>\n",
       "</div>"
      ],
      "text/plain": [
       "  run_no                       universe_id  \\\n",
       "0      3  db2cf1963c51a1d6a183847dac48254d   \n",
       "0      3  db2cf1963c51a1d6a183847dac48254d   \n",
       "0      3  db2cf1963c51a1d6a183847dac48254d   \n",
       "0      3  db2cf1963c51a1d6a183847dac48254d   \n",
       "\n",
       "                                   universe_settings  execution_time  \\\n",
       "0  {\"cutoff\": \"quantile_0.1\", \"eval_fairness_grou...       39.117874   \n",
       "0  {\"cutoff\": \"quantile_0.1\", \"eval_fairness_grou...       39.117874   \n",
       "0  {\"cutoff\": \"quantile_0.25\", \"eval_fairness_gro...       39.117874   \n",
       "0  {\"cutoff\": \"quantile_0.25\", \"eval_fairness_gro...       39.117874   \n",
       "\n",
       "   test_size_n  test_size_frac  fair_main_equalized_odds_difference  \\\n",
       "0        89710             1.0                             0.040980   \n",
       "0        89710             1.0                             0.040980   \n",
       "0        89710             1.0                             0.087277   \n",
       "0        89710             1.0                             0.087277   \n",
       "\n",
       "   fair_main_equalized_odds_ratio  fair_main_demographic_parity_difference  \\\n",
       "0                        0.956251                                 0.041680   \n",
       "0                        0.956251                                 0.041680   \n",
       "0                        0.908214                                 0.064074   \n",
       "0                        0.908214                                 0.064074   \n",
       "\n",
       "   fair_main_demographic_parity_ratio  ...  perf_grp_precision_0  \\\n",
       "0                            0.955851  ...                   NaN   \n",
       "0                            0.955851  ...              0.121824   \n",
       "0                            0.916344  ...                   NaN   \n",
       "0                            0.916344  ...              0.141856   \n",
       "\n",
       "   perf_grp_precision_1  perf_grp_false positive rate_0  \\\n",
       "0                   NaN                             NaN   \n",
       "0              0.138911                        0.895719   \n",
       "0                   NaN                             NaN   \n",
       "0              0.164046                        0.680773   \n",
       "\n",
       "   perf_grp_false positive rate_1  perf_grp_false negative rate_0  \\\n",
       "0                             NaN                             NaN   \n",
       "0                        0.936698                        0.046453   \n",
       "0                             NaN                             NaN   \n",
       "0                        0.737764                        0.136402   \n",
       "\n",
       "   perf_grp_false negative rate_1  perf_grp_selection rate_0  \\\n",
       "0                             NaN                        NaN   \n",
       "0                        0.007549                   0.902386   \n",
       "0                             NaN                        NaN   \n",
       "0                        0.049125                   0.701850   \n",
       "\n",
       "   perf_grp_selection rate_1  perf_grp_count_0  perf_grp_count_1  \n",
       "0                        NaN               NaN               NaN  \n",
       "0                   0.944065           20540.0           69170.0  \n",
       "0                        NaN               NaN               NaN  \n",
       "0                   0.765925           20540.0           69170.0  \n",
       "\n",
       "[4 rows x 50 columns]"
      ]
     },
     "execution_count": 64,
     "metadata": {},
     "output_type": "execute_result"
    }
   ],
   "source": [
    "final_output = universe_analysis.generate_final_output(\n",
    "    y_pred_prob=probs_test,\n",
    "    y_test=y_true,\n",
    "    org_test=org_test,\n",
    "    filter_data=filter_sub_universe_data,\n",
    "    cp_metrics_df=cp_metrics_df,\n",
    "    save=True,\n",
    ")\n",
    "final_output"
   ]
  },
  {
   "cell_type": "code",
   "execution_count": null,
   "id": "8b80a1ff",
   "metadata": {
    "papermill": {
     "duration": 0.014146,
     "end_time": "2025-08-19T18:15:03.722720",
     "exception": false,
     "start_time": "2025-08-19T18:15:03.708574",
     "status": "completed"
    },
    "tags": []
   },
   "outputs": [],
   "source": []
  },
  {
   "cell_type": "code",
   "execution_count": null,
   "id": "275c9fad",
   "metadata": {
    "papermill": {
     "duration": 0.014399,
     "end_time": "2025-08-19T18:15:03.751520",
     "exception": false,
     "start_time": "2025-08-19T18:15:03.737121",
     "status": "completed"
    },
    "tags": []
   },
   "outputs": [],
   "source": []
  }
 ],
 "metadata": {
  "celltoolbar": "Tags",
  "kernelspec": {
   "display_name": "Python (CMA Fairness)",
   "language": "python",
   "name": "cma_fair_env"
  },
  "language_info": {
   "codemirror_mode": {
    "name": "ipython",
    "version": 3
   },
   "file_extension": ".py",
   "mimetype": "text/x-python",
   "name": "python",
   "nbconvert_exporter": "python",
   "pygments_lexer": "ipython3",
   "version": "3.10.12"
  },
  "papermill": {
   "default_parameters": {},
   "duration": 49.679352,
   "end_time": "2025-08-19T18:15:04.590761",
   "environment_variables": {},
   "exception": null,
   "input_path": "universe_analysis.ipynb",
   "output_path": "output/runs/3/notebooks/m_3-db2cf1963c51a1d6a183847dac48254d.ipynb",
   "parameters": {
    "output_dir": "output",
    "run_no": "3",
    "seed": "2023",
    "universe": "{\"cutoff\": [\"quantile_0.1\", \"quantile_0.25\"], \"eval_fairness_grouping\": [\"majority-minority\", \"nationality-all\"], \"exclude_features\": \"none\", \"exclude_subgroups\": \"keep-all\", \"model\": \"rf\", \"scale\": \"scale\", \"training_size\": \"25k\", \"training_year\": \"2010_14\"}",
    "universe_id": "db2cf1963c51a1d6a183847dac48254d"
   },
   "start_time": "2025-08-19T18:14:14.911409",
   "version": "2.6.0"
  }
 },
 "nbformat": 4,
 "nbformat_minor": 5
}