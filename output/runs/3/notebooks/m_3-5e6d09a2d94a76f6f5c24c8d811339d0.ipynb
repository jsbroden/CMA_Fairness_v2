{
 "cells": [
  {
   "cell_type": "markdown",
   "id": "ef23dbb3",
   "metadata": {
    "papermill": {
     "duration": 0.022593,
     "end_time": "2025-08-19T19:05:36.353794",
     "exception": false,
     "start_time": "2025-08-19T19:05:36.331201",
     "status": "completed"
    },
    "tags": []
   },
   "source": [
    "# Setup"
   ]
  },
  {
   "cell_type": "code",
   "execution_count": 1,
   "id": "0bc8e7dc",
   "metadata": {
    "execution": {
     "iopub.execute_input": "2025-08-19T19:05:36.375497Z",
     "iopub.status.busy": "2025-08-19T19:05:36.375164Z",
     "iopub.status.idle": "2025-08-19T19:05:36.386466Z",
     "shell.execute_reply": "2025-08-19T19:05:36.385551Z"
    },
    "papermill": {
     "duration": 0.022735,
     "end_time": "2025-08-19T19:05:36.387889",
     "exception": false,
     "start_time": "2025-08-19T19:05:36.365154",
     "status": "completed"
    },
    "tags": []
   },
   "outputs": [
    {
     "name": "stdout",
     "output_type": "stream",
     "text": [
      "/dss/dsshome1/0C/ra93lal2/cma/CMA_Fairness_v2\n"
     ]
    },
    {
     "name": "stderr",
     "output_type": "stream",
     "text": [
      "/dss/dsshome1/0C/ra93lal2/.local/share/virtualenvs/CMA_Fairness_v2-3j10GkSs/lib/python3.10/site-packages/IPython/core/magics/osm.py:393: UserWarning: This is now an optional IPython functionality, using bookmarks requires you to install the `pickleshare` library.\n",
      "  bkms = self.shell.db.get('bookmarks', {})\n",
      "/dss/dsshome1/0C/ra93lal2/.local/share/virtualenvs/CMA_Fairness_v2-3j10GkSs/lib/python3.10/site-packages/IPython/core/magics/osm.py:417: UserWarning: This is now an optional IPython functionality, setting dhist requires you to install the `pickleshare` library.\n",
      "  self.shell.db['dhist'] = compress_dhist(dhist)[-100:]\n"
     ]
    }
   ],
   "source": [
    "%cd ~/cma/CMA_Fairness_v2"
   ]
  },
  {
   "cell_type": "markdown",
   "id": "9d235661",
   "metadata": {
    "papermill": {
     "duration": 0.009166,
     "end_time": "2025-08-19T19:05:36.408307",
     "exception": false,
     "start_time": "2025-08-19T19:05:36.399141",
     "status": "completed"
    },
    "tags": []
   },
   "source": [
    "The following cell holds the definition of our parameters, these values can be overriden by rendering the with e.g. the following command:\n",
    "\n",
    "papermill -p alpha 0.2 -p ratio 0.3 universe_analysis.ipynb output/test_run.ipynb"
   ]
  },
  {
   "cell_type": "code",
   "execution_count": 2,
   "id": "4a789d8e",
   "metadata": {
    "execution": {
     "iopub.execute_input": "2025-08-19T19:05:36.429002Z",
     "iopub.status.busy": "2025-08-19T19:05:36.427764Z",
     "iopub.status.idle": "2025-08-19T19:05:36.436908Z",
     "shell.execute_reply": "2025-08-19T19:05:36.435577Z"
    },
    "papermill": {
     "duration": 0.021085,
     "end_time": "2025-08-19T19:05:36.438303",
     "exception": false,
     "start_time": "2025-08-19T19:05:36.417218",
     "status": "completed"
    },
    "tags": []
   },
   "outputs": [
    {
     "name": "stdout",
     "output_type": "stream",
     "text": [
      "Current working directory: /dss/dsshome1/0C/ra93lal2/cma/CMA_Fairness_v2\n"
     ]
    }
   ],
   "source": [
    "import os\n",
    "print(\"Current working directory:\", os.getcwd())"
   ]
  },
  {
   "cell_type": "code",
   "execution_count": 3,
   "id": "4132aaed",
   "metadata": {
    "execution": {
     "iopub.execute_input": "2025-08-19T19:05:36.460869Z",
     "iopub.status.busy": "2025-08-19T19:05:36.460027Z",
     "iopub.status.idle": "2025-08-19T19:05:36.468463Z",
     "shell.execute_reply": "2025-08-19T19:05:36.467581Z"
    },
    "papermill": {
     "duration": 0.020563,
     "end_time": "2025-08-19T19:05:36.469754",
     "exception": false,
     "start_time": "2025-08-19T19:05:36.449191",
     "status": "completed"
    },
    "tags": [
     "parameters"
    ]
   },
   "outputs": [],
   "source": [
    "run_no = 0\n",
    "universe_id = \"test\"\n",
    "universe = {\n",
    "    \"training_size\": \"5k\", # \"25k\", \"5k\", \"1k\"\n",
    "    \"training_year\": \"2012_14\", # \"2014\", \"2012_14\", \"2010_14\"\n",
    "    \"scale\": \"scale\", # \"scale\", \"do-not-scale\",\n",
    "    \"model\": \"elasticnet\", # \"logreg\", \"penalized_logreg\", \"rf\", \"gbm\", \"elasticnet\"\n",
    "    \"cutoff\": [\"quantile_0.15\", \"quantile_0.30\"],\n",
    "    \"exclude_features\": \"age\", # \"none\", \"nationality\", \"sex\", \"nationality-sex\", \"age\"\n",
    "    \"exclude_subgroups\": \"drop-non-german\", # \"keep-all\", \"drop-non-german\"\n",
    "    \"eval_fairness_grouping\": [\"majority-minority\", \"nationality-all\"]\n",
    "}\n",
    "\n",
    "output_dir=\"./output\"\n",
    "seed=0"
   ]
  },
  {
   "cell_type": "code",
   "execution_count": 4,
   "id": "3d152639",
   "metadata": {
    "execution": {
     "iopub.execute_input": "2025-08-19T19:05:36.492054Z",
     "iopub.status.busy": "2025-08-19T19:05:36.491711Z",
     "iopub.status.idle": "2025-08-19T19:05:36.495872Z",
     "shell.execute_reply": "2025-08-19T19:05:36.495168Z"
    },
    "papermill": {
     "duration": 0.016271,
     "end_time": "2025-08-19T19:05:36.497504",
     "exception": false,
     "start_time": "2025-08-19T19:05:36.481233",
     "status": "completed"
    },
    "tags": [
     "injected-parameters"
    ]
   },
   "outputs": [],
   "source": [
    "# Parameters\n",
    "universe_id = \"5e6d09a2d94a76f6f5c24c8d811339d0\"\n",
    "run_no = \"3\"\n",
    "universe = \"{\\\"cutoff\\\": [\\\"quantile_0.1\\\", \\\"quantile_0.25\\\"], \\\"eval_fairness_grouping\\\": [\\\"majority-minority\\\", \\\"nationality-all\\\"], \\\"exclude_features\\\": \\\"sex\\\", \\\"exclude_subgroups\\\": \\\"drop-non-german\\\", \\\"model\\\": \\\"penalized_logreg\\\", \\\"scale\\\": \\\"scale\\\", \\\"training_size\\\": \\\"1k\\\", \\\"training_year\\\": \\\"2010_14\\\"}\"\n",
    "output_dir = \"output\"\n",
    "seed = \"2023\"\n"
   ]
  },
  {
   "cell_type": "code",
   "execution_count": 5,
   "id": "a5d7941f",
   "metadata": {
    "execution": {
     "iopub.execute_input": "2025-08-19T19:05:36.517977Z",
     "iopub.status.busy": "2025-08-19T19:05:36.517645Z",
     "iopub.status.idle": "2025-08-19T19:05:36.521758Z",
     "shell.execute_reply": "2025-08-19T19:05:36.520978Z"
    },
    "papermill": {
     "duration": 0.015545,
     "end_time": "2025-08-19T19:05:36.523055",
     "exception": false,
     "start_time": "2025-08-19T19:05:36.507510",
     "status": "completed"
    },
    "tags": []
   },
   "outputs": [],
   "source": [
    "import json\n",
    "if isinstance(universe, str):\n",
    "    universe = json.loads(universe)"
   ]
  },
  {
   "cell_type": "code",
   "execution_count": 6,
   "id": "7076ccb1",
   "metadata": {
    "execution": {
     "iopub.execute_input": "2025-08-19T19:05:36.543966Z",
     "iopub.status.busy": "2025-08-19T19:05:36.543620Z",
     "iopub.status.idle": "2025-08-19T19:05:36.578478Z",
     "shell.execute_reply": "2025-08-19T19:05:36.577480Z"
    },
    "papermill": {
     "duration": 0.048193,
     "end_time": "2025-08-19T19:05:36.581352",
     "exception": false,
     "start_time": "2025-08-19T19:05:36.533159",
     "status": "completed"
    },
    "tags": []
   },
   "outputs": [],
   "source": [
    "# Auto-reload the custom package\n",
    "%load_ext autoreload\n",
    "%autoreload 1\n",
    "%aimport fairness_multiverse"
   ]
  },
  {
   "cell_type": "code",
   "execution_count": 7,
   "id": "94c8eb93",
   "metadata": {
    "execution": {
     "iopub.execute_input": "2025-08-19T19:05:36.622903Z",
     "iopub.status.busy": "2025-08-19T19:05:36.621711Z",
     "iopub.status.idle": "2025-08-19T19:05:38.215389Z",
     "shell.execute_reply": "2025-08-19T19:05:38.214302Z"
    },
    "papermill": {
     "duration": 1.621058,
     "end_time": "2025-08-19T19:05:38.218467",
     "exception": false,
     "start_time": "2025-08-19T19:05:36.597409",
     "status": "completed"
    },
    "tags": []
   },
   "outputs": [],
   "source": [
    "from fairness_multiverse.universe import UniverseAnalysis\n",
    "\n",
    "universe_analysis = UniverseAnalysis(\n",
    "    run_no = run_no,\n",
    "    universe_id = universe_id,\n",
    "    universe = universe,\n",
    "    output_dir=output_dir,\n",
    ")"
   ]
  },
  {
   "cell_type": "code",
   "execution_count": 8,
   "id": "2a6381cf",
   "metadata": {
    "execution": {
     "iopub.execute_input": "2025-08-19T19:05:38.259978Z",
     "iopub.status.busy": "2025-08-19T19:05:38.258699Z",
     "iopub.status.idle": "2025-08-19T19:05:38.269081Z",
     "shell.execute_reply": "2025-08-19T19:05:38.266340Z"
    },
    "papermill": {
     "duration": 0.029592,
     "end_time": "2025-08-19T19:05:38.270668",
     "exception": false,
     "start_time": "2025-08-19T19:05:38.241076",
     "status": "completed"
    },
    "tags": []
   },
   "outputs": [
    {
     "name": "stdout",
     "output_type": "stream",
     "text": [
      "Using Seed: 2023\n"
     ]
    }
   ],
   "source": [
    "import numpy as np\n",
    "parsed_seed = int(seed)\n",
    "np.random.seed(parsed_seed)\n",
    "print(f\"Using Seed: {parsed_seed}\")"
   ]
  },
  {
   "cell_type": "markdown",
   "id": "b6e958b4",
   "metadata": {
    "papermill": {
     "duration": 0.029205,
     "end_time": "2025-08-19T19:05:38.310581",
     "exception": false,
     "start_time": "2025-08-19T19:05:38.281376",
     "status": "completed"
    },
    "tags": []
   },
   "source": [
    "# Loading Data"
   ]
  },
  {
   "cell_type": "code",
   "execution_count": 9,
   "id": "98701482",
   "metadata": {
    "execution": {
     "iopub.execute_input": "2025-08-19T19:05:38.335618Z",
     "iopub.status.busy": "2025-08-19T19:05:38.335297Z",
     "iopub.status.idle": "2025-08-19T19:05:48.782604Z",
     "shell.execute_reply": "2025-08-19T19:05:48.781530Z"
    },
    "papermill": {
     "duration": 10.459656,
     "end_time": "2025-08-19T19:05:48.783938",
     "exception": false,
     "start_time": "2025-08-19T19:05:38.324282",
     "status": "completed"
    },
    "tags": []
   },
   "outputs": [
    {
     "name": "stdout",
     "output_type": "stream",
     "text": [
      "Loading SIAB data from cache: data/siab_cached.csv.gz\n"
     ]
    },
    {
     "name": "stdout",
     "output_type": "stream",
     "text": [
      "(643690, 164)\n"
     ]
    }
   ],
   "source": [
    "from pathlib import Path\n",
    "import pandas as pd\n",
    "\n",
    "# File paths\n",
    "raw_file = Path(\"data/raw/siab.csv\")\n",
    "cache_file = Path(\"data/siab_cached.csv.gz\")\n",
    "\n",
    "# Ensure cache directory exists\n",
    "cache_file.parent.mkdir(parents=True, exist_ok=True)\n",
    "\n",
    "# Load with simple caching\n",
    "if cache_file.exists():\n",
    "    print(f\"Loading SIAB data from cache: {cache_file}\")\n",
    "    siab = pd.read_csv(cache_file, compression='gzip')\n",
    "else:\n",
    "    print(f\"Cache not found. Reading raw SIAB data: {raw_file}\")\n",
    "    siab = pd.read_csv(raw_file)\n",
    "    siab.to_csv(cache_file, index=False, compression='gzip')\n",
    "    print(f\"Cached SIAB data to: {cache_file}\")\n",
    "\n",
    "print(siab.shape)"
   ]
  },
  {
   "cell_type": "code",
   "execution_count": 10,
   "id": "058d2abb",
   "metadata": {
    "execution": {
     "iopub.execute_input": "2025-08-19T19:05:48.808715Z",
     "iopub.status.busy": "2025-08-19T19:05:48.807903Z",
     "iopub.status.idle": "2025-08-19T19:05:49.020698Z",
     "shell.execute_reply": "2025-08-19T19:05:49.019978Z"
    },
    "papermill": {
     "duration": 0.224893,
     "end_time": "2025-08-19T19:05:49.021900",
     "exception": false,
     "start_time": "2025-08-19T19:05:48.797007",
     "status": "completed"
    },
    "tags": []
   },
   "outputs": [
    {
     "data": {
      "text/html": [
       "<div>\n",
       "<style scoped>\n",
       "    .dataframe tbody tr th:only-of-type {\n",
       "        vertical-align: middle;\n",
       "    }\n",
       "\n",
       "    .dataframe tbody tr th {\n",
       "        vertical-align: top;\n",
       "    }\n",
       "\n",
       "    .dataframe thead th {\n",
       "        text-align: right;\n",
       "    }\n",
       "</style>\n",
       "<table border=\"1\" class=\"dataframe\">\n",
       "  <thead>\n",
       "    <tr style=\"text-align: right;\">\n",
       "      <th></th>\n",
       "      <th>persnr</th>\n",
       "      <th>year</th>\n",
       "      <th>nrEntry</th>\n",
       "      <th>ltue</th>\n",
       "      <th>employed_before</th>\n",
       "      <th>receipt_leh_before</th>\n",
       "      <th>receipt_lhg_before</th>\n",
       "      <th>se_before</th>\n",
       "      <th>ASU_notue_seeking_before</th>\n",
       "      <th>ASU_other_before</th>\n",
       "      <th>...</th>\n",
       "      <th>minijob_tot_dur_byage</th>\n",
       "      <th>ft_tot_dur_byage</th>\n",
       "      <th>befrist_tot_dur_byage</th>\n",
       "      <th>leih_tot_dur_byage</th>\n",
       "      <th>LHG_tot_dur_byage</th>\n",
       "      <th>LEH_tot_dur_byage</th>\n",
       "      <th>almp_tot_dur_byage</th>\n",
       "      <th>almp_aw_tot_dur_byage</th>\n",
       "      <th>se_tot_dur_byage</th>\n",
       "      <th>seeking1_tot_dur_byage</th>\n",
       "    </tr>\n",
       "  </thead>\n",
       "  <tbody>\n",
       "    <tr>\n",
       "      <th>0</th>\n",
       "      <td>7</td>\n",
       "      <td>2015</td>\n",
       "      <td>1</td>\n",
       "      <td>0</td>\n",
       "      <td>1</td>\n",
       "      <td>0</td>\n",
       "      <td>0</td>\n",
       "      <td>0</td>\n",
       "      <td>1</td>\n",
       "      <td>0</td>\n",
       "      <td>...</td>\n",
       "      <td>0.000000</td>\n",
       "      <td>0.000000</td>\n",
       "      <td>15.043478</td>\n",
       "      <td>0.000000</td>\n",
       "      <td>0.000000</td>\n",
       "      <td>0.000000</td>\n",
       "      <td>0.000000</td>\n",
       "      <td>0.000000</td>\n",
       "      <td>0.000000</td>\n",
       "      <td>0.000000</td>\n",
       "    </tr>\n",
       "    <tr>\n",
       "      <th>1</th>\n",
       "      <td>18</td>\n",
       "      <td>2010</td>\n",
       "      <td>1</td>\n",
       "      <td>1</td>\n",
       "      <td>0</td>\n",
       "      <td>0</td>\n",
       "      <td>0</td>\n",
       "      <td>0</td>\n",
       "      <td>0</td>\n",
       "      <td>0</td>\n",
       "      <td>...</td>\n",
       "      <td>0.000000</td>\n",
       "      <td>0.000000</td>\n",
       "      <td>0.000000</td>\n",
       "      <td>0.000000</td>\n",
       "      <td>0.000000</td>\n",
       "      <td>0.000000</td>\n",
       "      <td>0.000000</td>\n",
       "      <td>0.000000</td>\n",
       "      <td>0.000000</td>\n",
       "      <td>0.000000</td>\n",
       "    </tr>\n",
       "    <tr>\n",
       "      <th>2</th>\n",
       "      <td>18</td>\n",
       "      <td>2011</td>\n",
       "      <td>2</td>\n",
       "      <td>0</td>\n",
       "      <td>1</td>\n",
       "      <td>0</td>\n",
       "      <td>1</td>\n",
       "      <td>0</td>\n",
       "      <td>1</td>\n",
       "      <td>0</td>\n",
       "      <td>...</td>\n",
       "      <td>2.714286</td>\n",
       "      <td>2.714286</td>\n",
       "      <td>0.000000</td>\n",
       "      <td>0.000000</td>\n",
       "      <td>10.775510</td>\n",
       "      <td>0.000000</td>\n",
       "      <td>8.367347</td>\n",
       "      <td>0.000000</td>\n",
       "      <td>0.000000</td>\n",
       "      <td>9.836735</td>\n",
       "    </tr>\n",
       "    <tr>\n",
       "      <th>3</th>\n",
       "      <td>18</td>\n",
       "      <td>2012</td>\n",
       "      <td>3</td>\n",
       "      <td>0</td>\n",
       "      <td>1</td>\n",
       "      <td>0</td>\n",
       "      <td>1</td>\n",
       "      <td>0</td>\n",
       "      <td>1</td>\n",
       "      <td>0</td>\n",
       "      <td>...</td>\n",
       "      <td>4.200000</td>\n",
       "      <td>4.200000</td>\n",
       "      <td>0.000000</td>\n",
       "      <td>0.000000</td>\n",
       "      <td>12.100000</td>\n",
       "      <td>0.000000</td>\n",
       "      <td>9.400000</td>\n",
       "      <td>0.000000</td>\n",
       "      <td>0.000000</td>\n",
       "      <td>9.960000</td>\n",
       "    </tr>\n",
       "    <tr>\n",
       "      <th>4</th>\n",
       "      <td>18</td>\n",
       "      <td>2012</td>\n",
       "      <td>4</td>\n",
       "      <td>0</td>\n",
       "      <td>1</td>\n",
       "      <td>0</td>\n",
       "      <td>1</td>\n",
       "      <td>0</td>\n",
       "      <td>1</td>\n",
       "      <td>0</td>\n",
       "      <td>...</td>\n",
       "      <td>5.460000</td>\n",
       "      <td>5.460000</td>\n",
       "      <td>0.000000</td>\n",
       "      <td>0.000000</td>\n",
       "      <td>13.360000</td>\n",
       "      <td>0.000000</td>\n",
       "      <td>10.320000</td>\n",
       "      <td>0.000000</td>\n",
       "      <td>0.000000</td>\n",
       "      <td>10.280000</td>\n",
       "    </tr>\n",
       "    <tr>\n",
       "      <th>...</th>\n",
       "      <td>...</td>\n",
       "      <td>...</td>\n",
       "      <td>...</td>\n",
       "      <td>...</td>\n",
       "      <td>...</td>\n",
       "      <td>...</td>\n",
       "      <td>...</td>\n",
       "      <td>...</td>\n",
       "      <td>...</td>\n",
       "      <td>...</td>\n",
       "      <td>...</td>\n",
       "      <td>...</td>\n",
       "      <td>...</td>\n",
       "      <td>...</td>\n",
       "      <td>...</td>\n",
       "      <td>...</td>\n",
       "      <td>...</td>\n",
       "      <td>...</td>\n",
       "      <td>...</td>\n",
       "      <td>...</td>\n",
       "      <td>...</td>\n",
       "    </tr>\n",
       "    <tr>\n",
       "      <th>643685</th>\n",
       "      <td>1827860</td>\n",
       "      <td>2013</td>\n",
       "      <td>1</td>\n",
       "      <td>0</td>\n",
       "      <td>0</td>\n",
       "      <td>0</td>\n",
       "      <td>1</td>\n",
       "      <td>0</td>\n",
       "      <td>0</td>\n",
       "      <td>1</td>\n",
       "      <td>...</td>\n",
       "      <td>0.000000</td>\n",
       "      <td>0.000000</td>\n",
       "      <td>0.000000</td>\n",
       "      <td>0.000000</td>\n",
       "      <td>0.612903</td>\n",
       "      <td>0.000000</td>\n",
       "      <td>0.000000</td>\n",
       "      <td>0.000000</td>\n",
       "      <td>0.000000</td>\n",
       "      <td>0.000000</td>\n",
       "    </tr>\n",
       "    <tr>\n",
       "      <th>643686</th>\n",
       "      <td>1827860</td>\n",
       "      <td>2015</td>\n",
       "      <td>2</td>\n",
       "      <td>1</td>\n",
       "      <td>0</td>\n",
       "      <td>0</td>\n",
       "      <td>1</td>\n",
       "      <td>0</td>\n",
       "      <td>1</td>\n",
       "      <td>0</td>\n",
       "      <td>...</td>\n",
       "      <td>0.000000</td>\n",
       "      <td>0.000000</td>\n",
       "      <td>0.212121</td>\n",
       "      <td>0.212121</td>\n",
       "      <td>17.363636</td>\n",
       "      <td>0.000000</td>\n",
       "      <td>8.909091</td>\n",
       "      <td>0.000000</td>\n",
       "      <td>0.000000</td>\n",
       "      <td>7.121212</td>\n",
       "    </tr>\n",
       "    <tr>\n",
       "      <th>643687</th>\n",
       "      <td>1827860</td>\n",
       "      <td>2016</td>\n",
       "      <td>3</td>\n",
       "      <td>1</td>\n",
       "      <td>0</td>\n",
       "      <td>0</td>\n",
       "      <td>1</td>\n",
       "      <td>1</td>\n",
       "      <td>0</td>\n",
       "      <td>1</td>\n",
       "      <td>...</td>\n",
       "      <td>0.000000</td>\n",
       "      <td>0.000000</td>\n",
       "      <td>0.294118</td>\n",
       "      <td>0.205882</td>\n",
       "      <td>34.705882</td>\n",
       "      <td>0.000000</td>\n",
       "      <td>10.352941</td>\n",
       "      <td>1.705882</td>\n",
       "      <td>1.705882</td>\n",
       "      <td>23.911765</td>\n",
       "    </tr>\n",
       "    <tr>\n",
       "      <th>643688</th>\n",
       "      <td>1827869</td>\n",
       "      <td>2013</td>\n",
       "      <td>1</td>\n",
       "      <td>1</td>\n",
       "      <td>1</td>\n",
       "      <td>0</td>\n",
       "      <td>0</td>\n",
       "      <td>0</td>\n",
       "      <td>1</td>\n",
       "      <td>0</td>\n",
       "      <td>...</td>\n",
       "      <td>0.000000</td>\n",
       "      <td>0.000000</td>\n",
       "      <td>0.000000</td>\n",
       "      <td>0.000000</td>\n",
       "      <td>0.000000</td>\n",
       "      <td>0.525424</td>\n",
       "      <td>0.000000</td>\n",
       "      <td>0.000000</td>\n",
       "      <td>0.000000</td>\n",
       "      <td>0.000000</td>\n",
       "    </tr>\n",
       "    <tr>\n",
       "      <th>643689</th>\n",
       "      <td>1827869</td>\n",
       "      <td>2014</td>\n",
       "      <td>2</td>\n",
       "      <td>0</td>\n",
       "      <td>0</td>\n",
       "      <td>1</td>\n",
       "      <td>0</td>\n",
       "      <td>0</td>\n",
       "      <td>1</td>\n",
       "      <td>0</td>\n",
       "      <td>...</td>\n",
       "      <td>0.000000</td>\n",
       "      <td>0.666667</td>\n",
       "      <td>0.666667</td>\n",
       "      <td>0.000000</td>\n",
       "      <td>0.000000</td>\n",
       "      <td>8.950000</td>\n",
       "      <td>1.033333</td>\n",
       "      <td>0.083333</td>\n",
       "      <td>0.083333</td>\n",
       "      <td>8.133333</td>\n",
       "    </tr>\n",
       "  </tbody>\n",
       "</table>\n",
       "<p>643690 rows × 164 columns</p>\n",
       "</div>"
      ],
      "text/plain": [
       "         persnr  year  nrEntry  ltue  employed_before  receipt_leh_before  \\\n",
       "0             7  2015        1     0                1                   0   \n",
       "1            18  2010        1     1                0                   0   \n",
       "2            18  2011        2     0                1                   0   \n",
       "3            18  2012        3     0                1                   0   \n",
       "4            18  2012        4     0                1                   0   \n",
       "...         ...   ...      ...   ...              ...                 ...   \n",
       "643685  1827860  2013        1     0                0                   0   \n",
       "643686  1827860  2015        2     1                0                   0   \n",
       "643687  1827860  2016        3     1                0                   0   \n",
       "643688  1827869  2013        1     1                1                   0   \n",
       "643689  1827869  2014        2     0                0                   1   \n",
       "\n",
       "        receipt_lhg_before  se_before  ASU_notue_seeking_before  \\\n",
       "0                        0          0                         1   \n",
       "1                        0          0                         0   \n",
       "2                        1          0                         1   \n",
       "3                        1          0                         1   \n",
       "4                        1          0                         1   \n",
       "...                    ...        ...                       ...   \n",
       "643685                   1          0                         0   \n",
       "643686                   1          0                         1   \n",
       "643687                   1          1                         0   \n",
       "643688                   0          0                         1   \n",
       "643689                   0          0                         1   \n",
       "\n",
       "        ASU_other_before  ...  minijob_tot_dur_byage  ft_tot_dur_byage  \\\n",
       "0                      0  ...               0.000000          0.000000   \n",
       "1                      0  ...               0.000000          0.000000   \n",
       "2                      0  ...               2.714286          2.714286   \n",
       "3                      0  ...               4.200000          4.200000   \n",
       "4                      0  ...               5.460000          5.460000   \n",
       "...                  ...  ...                    ...               ...   \n",
       "643685                 1  ...               0.000000          0.000000   \n",
       "643686                 0  ...               0.000000          0.000000   \n",
       "643687                 1  ...               0.000000          0.000000   \n",
       "643688                 0  ...               0.000000          0.000000   \n",
       "643689                 0  ...               0.000000          0.666667   \n",
       "\n",
       "        befrist_tot_dur_byage  leih_tot_dur_byage  LHG_tot_dur_byage  \\\n",
       "0                   15.043478            0.000000           0.000000   \n",
       "1                    0.000000            0.000000           0.000000   \n",
       "2                    0.000000            0.000000          10.775510   \n",
       "3                    0.000000            0.000000          12.100000   \n",
       "4                    0.000000            0.000000          13.360000   \n",
       "...                       ...                 ...                ...   \n",
       "643685               0.000000            0.000000           0.612903   \n",
       "643686               0.212121            0.212121          17.363636   \n",
       "643687               0.294118            0.205882          34.705882   \n",
       "643688               0.000000            0.000000           0.000000   \n",
       "643689               0.666667            0.000000           0.000000   \n",
       "\n",
       "        LEH_tot_dur_byage  almp_tot_dur_byage  almp_aw_tot_dur_byage  \\\n",
       "0                0.000000            0.000000               0.000000   \n",
       "1                0.000000            0.000000               0.000000   \n",
       "2                0.000000            8.367347               0.000000   \n",
       "3                0.000000            9.400000               0.000000   \n",
       "4                0.000000           10.320000               0.000000   \n",
       "...                   ...                 ...                    ...   \n",
       "643685           0.000000            0.000000               0.000000   \n",
       "643686           0.000000            8.909091               0.000000   \n",
       "643687           0.000000           10.352941               1.705882   \n",
       "643688           0.525424            0.000000               0.000000   \n",
       "643689           8.950000            1.033333               0.083333   \n",
       "\n",
       "        se_tot_dur_byage  seeking1_tot_dur_byage  \n",
       "0               0.000000                0.000000  \n",
       "1               0.000000                0.000000  \n",
       "2               0.000000                9.836735  \n",
       "3               0.000000                9.960000  \n",
       "4               0.000000               10.280000  \n",
       "...                  ...                     ...  \n",
       "643685          0.000000                0.000000  \n",
       "643686          0.000000                7.121212  \n",
       "643687          1.705882               23.911765  \n",
       "643688          0.000000                0.000000  \n",
       "643689          0.083333                8.133333  \n",
       "\n",
       "[643690 rows x 164 columns]"
      ]
     },
     "execution_count": 10,
     "metadata": {},
     "output_type": "execute_result"
    }
   ],
   "source": [
    "siab"
   ]
  },
  {
   "cell_type": "markdown",
   "id": "1f87e805",
   "metadata": {
    "papermill": {
     "duration": 0.016004,
     "end_time": "2025-08-19T19:05:49.059141",
     "exception": false,
     "start_time": "2025-08-19T19:05:49.043137",
     "status": "completed"
    },
    "tags": []
   },
   "source": [
    "# Splitting Data and Setting Training Data Size"
   ]
  },
  {
   "cell_type": "code",
   "execution_count": 11,
   "id": "910ae358",
   "metadata": {
    "execution": {
     "iopub.execute_input": "2025-08-19T19:05:49.080766Z",
     "iopub.status.busy": "2025-08-19T19:05:49.080350Z",
     "iopub.status.idle": "2025-08-19T19:05:50.148536Z",
     "shell.execute_reply": "2025-08-19T19:05:50.147365Z"
    },
    "papermill": {
     "duration": 1.081722,
     "end_time": "2025-08-19T19:05:50.151482",
     "exception": false,
     "start_time": "2025-08-19T19:05:49.069760",
     "status": "completed"
    },
    "tags": []
   },
   "outputs": [],
   "source": [
    "from fairness_multiverse.universe import sample_by_year_size\n",
    "\n",
    "siab_train = sample_by_year_size(siab,\n",
    "                               training_year=universe[\"training_year\"],\n",
    "                               training_size=universe[\"training_size\"])"
   ]
  },
  {
   "cell_type": "code",
   "execution_count": 12,
   "id": "919c8ff5",
   "metadata": {
    "execution": {
     "iopub.execute_input": "2025-08-19T19:05:50.202506Z",
     "iopub.status.busy": "2025-08-19T19:05:50.201231Z",
     "iopub.status.idle": "2025-08-19T19:05:50.213700Z",
     "shell.execute_reply": "2025-08-19T19:05:50.212450Z"
    },
    "papermill": {
     "duration": 0.033351,
     "end_time": "2025-08-19T19:05:50.215332",
     "exception": false,
     "start_time": "2025-08-19T19:05:50.181981",
     "status": "completed"
    },
    "tags": []
   },
   "outputs": [
    {
     "data": {
      "text/plain": [
       "(1000, 164)"
      ]
     },
     "execution_count": 12,
     "metadata": {},
     "output_type": "execute_result"
    }
   ],
   "source": [
    "siab_train.shape"
   ]
  },
  {
   "cell_type": "code",
   "execution_count": 13,
   "id": "feb13bf4",
   "metadata": {
    "execution": {
     "iopub.execute_input": "2025-08-19T19:05:50.242826Z",
     "iopub.status.busy": "2025-08-19T19:05:50.241705Z",
     "iopub.status.idle": "2025-08-19T19:05:50.256960Z",
     "shell.execute_reply": "2025-08-19T19:05:50.255961Z"
    },
    "papermill": {
     "duration": 0.02874,
     "end_time": "2025-08-19T19:05:50.258418",
     "exception": false,
     "start_time": "2025-08-19T19:05:50.229678",
     "status": "completed"
    },
    "tags": []
   },
   "outputs": [
    {
     "data": {
      "text/plain": [
       "year\n",
       "2010    200\n",
       "2011    200\n",
       "2012    200\n",
       "2013    200\n",
       "2014    200\n",
       "dtype: int64"
      ]
     },
     "metadata": {},
     "output_type": "display_data"
    }
   ],
   "source": [
    "display(siab_train.groupby(\"year\").size())"
   ]
  },
  {
   "cell_type": "code",
   "execution_count": 14,
   "id": "0997782f",
   "metadata": {
    "execution": {
     "iopub.execute_input": "2025-08-19T19:05:50.291855Z",
     "iopub.status.busy": "2025-08-19T19:05:50.290702Z",
     "iopub.status.idle": "2025-08-19T19:05:50.592233Z",
     "shell.execute_reply": "2025-08-19T19:05:50.591465Z"
    },
    "papermill": {
     "duration": 0.318348,
     "end_time": "2025-08-19T19:05:50.593911",
     "exception": false,
     "start_time": "2025-08-19T19:05:50.275563",
     "status": "completed"
    },
    "tags": []
   },
   "outputs": [],
   "source": [
    "#siab_train = siab_s[siab_s.year < 2015]\n",
    "siab_calib = siab[siab.year == 2015]\n",
    "siab_test = siab[siab.year == 2016]"
   ]
  },
  {
   "cell_type": "code",
   "execution_count": 15,
   "id": "2c1e4012",
   "metadata": {
    "execution": {
     "iopub.execute_input": "2025-08-19T19:05:50.642899Z",
     "iopub.status.busy": "2025-08-19T19:05:50.641714Z",
     "iopub.status.idle": "2025-08-19T19:05:50.648570Z",
     "shell.execute_reply": "2025-08-19T19:05:50.647362Z"
    },
    "papermill": {
     "duration": 0.032813,
     "end_time": "2025-08-19T19:05:50.650281",
     "exception": false,
     "start_time": "2025-08-19T19:05:50.617468",
     "status": "completed"
    },
    "tags": []
   },
   "outputs": [],
   "source": [
    "#siab_calib.shape"
   ]
  },
  {
   "cell_type": "code",
   "execution_count": 16,
   "id": "f66b54ca",
   "metadata": {
    "execution": {
     "iopub.execute_input": "2025-08-19T19:05:50.685413Z",
     "iopub.status.busy": "2025-08-19T19:05:50.684256Z",
     "iopub.status.idle": "2025-08-19T19:05:50.690720Z",
     "shell.execute_reply": "2025-08-19T19:05:50.689521Z"
    },
    "papermill": {
     "duration": 0.020616,
     "end_time": "2025-08-19T19:05:50.692355",
     "exception": false,
     "start_time": "2025-08-19T19:05:50.671739",
     "status": "completed"
    },
    "tags": []
   },
   "outputs": [],
   "source": [
    "#siab_test.shape"
   ]
  },
  {
   "cell_type": "code",
   "execution_count": 17,
   "id": "27e4384d",
   "metadata": {
    "execution": {
     "iopub.execute_input": "2025-08-19T19:05:50.728709Z",
     "iopub.status.busy": "2025-08-19T19:05:50.727656Z",
     "iopub.status.idle": "2025-08-19T19:05:50.737882Z",
     "shell.execute_reply": "2025-08-19T19:05:50.736669Z"
    },
    "papermill": {
     "duration": 0.02443,
     "end_time": "2025-08-19T19:05:50.739636",
     "exception": false,
     "start_time": "2025-08-19T19:05:50.715206",
     "status": "completed"
    },
    "tags": []
   },
   "outputs": [],
   "source": [
    "X_train = siab_train.iloc[:,4:164]\n",
    "y_train = siab_train.iloc[:, [3]]"
   ]
  },
  {
   "cell_type": "code",
   "execution_count": 18,
   "id": "08ee8389",
   "metadata": {
    "execution": {
     "iopub.execute_input": "2025-08-19T19:05:50.766433Z",
     "iopub.status.busy": "2025-08-19T19:05:50.765309Z",
     "iopub.status.idle": "2025-08-19T19:05:50.826639Z",
     "shell.execute_reply": "2025-08-19T19:05:50.825844Z"
    },
    "papermill": {
     "duration": 0.078085,
     "end_time": "2025-08-19T19:05:50.831013",
     "exception": false,
     "start_time": "2025-08-19T19:05:50.752928",
     "status": "completed"
    },
    "tags": []
   },
   "outputs": [],
   "source": [
    "X_calib = siab_calib.iloc[:,4:164]\n",
    "y_calib = siab_calib.iloc[:, [3]]"
   ]
  },
  {
   "cell_type": "code",
   "execution_count": 19,
   "id": "b7ff42e0",
   "metadata": {
    "execution": {
     "iopub.execute_input": "2025-08-19T19:05:50.870057Z",
     "iopub.status.busy": "2025-08-19T19:05:50.868955Z",
     "iopub.status.idle": "2025-08-19T19:05:50.934030Z",
     "shell.execute_reply": "2025-08-19T19:05:50.933229Z"
    },
    "papermill": {
     "duration": 0.081625,
     "end_time": "2025-08-19T19:05:50.937234",
     "exception": false,
     "start_time": "2025-08-19T19:05:50.855609",
     "status": "completed"
    },
    "tags": []
   },
   "outputs": [],
   "source": [
    "X_test = siab_test.iloc[:,4:164]\n",
    "y_true = siab_test.iloc[:, [3]]"
   ]
  },
  {
   "cell_type": "code",
   "execution_count": 20,
   "id": "0275101e",
   "metadata": {
    "execution": {
     "iopub.execute_input": "2025-08-19T19:05:50.979148Z",
     "iopub.status.busy": "2025-08-19T19:05:50.977978Z",
     "iopub.status.idle": "2025-08-19T19:05:51.095942Z",
     "shell.execute_reply": "2025-08-19T19:05:51.095182Z"
    },
    "papermill": {
     "duration": 0.136186,
     "end_time": "2025-08-19T19:05:51.099057",
     "exception": false,
     "start_time": "2025-08-19T19:05:50.962871",
     "status": "completed"
    },
    "tags": []
   },
   "outputs": [],
   "source": [
    "# Auxiliary data needed downstream in the pipeline\n",
    "\n",
    "org_train = X_train.copy()\n",
    "org_test = X_test.copy()\n",
    "org_calib = X_calib.copy()"
   ]
  },
  {
   "cell_type": "markdown",
   "id": "b461e618",
   "metadata": {
    "papermill": {
     "duration": 0.012728,
     "end_time": "2025-08-19T19:05:51.137594",
     "exception": false,
     "start_time": "2025-08-19T19:05:51.124866",
     "status": "completed"
    },
    "tags": []
   },
   "source": [
    "# Preprocessing Data"
   ]
  },
  {
   "cell_type": "code",
   "execution_count": 21,
   "id": "78e74c4b",
   "metadata": {
    "execution": {
     "iopub.execute_input": "2025-08-19T19:05:51.161396Z",
     "iopub.status.busy": "2025-08-19T19:05:51.160229Z",
     "iopub.status.idle": "2025-08-19T19:05:51.168587Z",
     "shell.execute_reply": "2025-08-19T19:05:51.167347Z"
    },
    "papermill": {
     "duration": 0.021956,
     "end_time": "2025-08-19T19:05:51.170125",
     "exception": false,
     "start_time": "2025-08-19T19:05:51.148169",
     "status": "completed"
    },
    "tags": []
   },
   "outputs": [],
   "source": [
    "# EXCLUDE PROTECTED FEATURES\n",
    "# --------------------------\n",
    "\n",
    "excluded_features = universe[\"exclude_features\"].split(\"-\")\n",
    "excluded_features_dictionary = {\n",
    "    \"nationality\": [\"maxdeutsch1\", \"maxdeutsch.Missing.\"],\n",
    "    \"sex\": [\"frau1\"],\n",
    "    \"age\": [\"age\"],\n",
    "}"
   ]
  },
  {
   "cell_type": "code",
   "execution_count": 22,
   "id": "f8e63555",
   "metadata": {
    "execution": {
     "iopub.execute_input": "2025-08-19T19:05:51.196828Z",
     "iopub.status.busy": "2025-08-19T19:05:51.195629Z",
     "iopub.status.idle": "2025-08-19T19:05:51.203407Z",
     "shell.execute_reply": "2025-08-19T19:05:51.202192Z"
    },
    "papermill": {
     "duration": 0.021528,
     "end_time": "2025-08-19T19:05:51.205159",
     "exception": false,
     "start_time": "2025-08-19T19:05:51.183631",
     "status": "completed"
    },
    "tags": []
   },
   "outputs": [],
   "source": [
    "excluded_features_columns = [\n",
    "    excluded_features_dictionary[f] for f in excluded_features if len(f) > 0 and f != \"none\"\n",
    "]"
   ]
  },
  {
   "cell_type": "code",
   "execution_count": 23,
   "id": "da781f7c",
   "metadata": {
    "execution": {
     "iopub.execute_input": "2025-08-19T19:05:51.233851Z",
     "iopub.status.busy": "2025-08-19T19:05:51.232851Z",
     "iopub.status.idle": "2025-08-19T19:05:51.254811Z",
     "shell.execute_reply": "2025-08-19T19:05:51.253795Z"
    },
    "papermill": {
     "duration": 0.03835,
     "end_time": "2025-08-19T19:05:51.257016",
     "exception": false,
     "start_time": "2025-08-19T19:05:51.218666",
     "status": "completed"
    },
    "tags": []
   },
   "outputs": [],
   "source": [
    "from fairness_multiverse.universe import flatten_once\n",
    "\n",
    "excluded_features_columns = flatten_once(excluded_features_columns)"
   ]
  },
  {
   "cell_type": "code",
   "execution_count": 24,
   "id": "37fef0f0",
   "metadata": {
    "execution": {
     "iopub.execute_input": "2025-08-19T19:05:51.286993Z",
     "iopub.status.busy": "2025-08-19T19:05:51.286702Z",
     "iopub.status.idle": "2025-08-19T19:05:51.293444Z",
     "shell.execute_reply": "2025-08-19T19:05:51.292729Z"
    },
    "papermill": {
     "duration": 0.027432,
     "end_time": "2025-08-19T19:05:51.302266",
     "exception": false,
     "start_time": "2025-08-19T19:05:51.274834",
     "status": "completed"
    },
    "tags": []
   },
   "outputs": [
    {
     "name": "stdout",
     "output_type": "stream",
     "text": [
      "Dropping features: ['frau1']\n"
     ]
    }
   ],
   "source": [
    "if len(excluded_features_columns) > 0:\n",
    "    print(f\"Dropping features: {excluded_features_columns}\")\n",
    "    X_train.drop(excluded_features_columns, axis=1, inplace=True)"
   ]
  },
  {
   "cell_type": "code",
   "execution_count": 25,
   "id": "d029e3e9",
   "metadata": {
    "execution": {
     "iopub.execute_input": "2025-08-19T19:05:51.335174Z",
     "iopub.status.busy": "2025-08-19T19:05:51.334562Z",
     "iopub.status.idle": "2025-08-19T19:05:51.397127Z",
     "shell.execute_reply": "2025-08-19T19:05:51.396278Z"
    },
    "papermill": {
     "duration": 0.084584,
     "end_time": "2025-08-19T19:05:51.398374",
     "exception": false,
     "start_time": "2025-08-19T19:05:51.313790",
     "status": "completed"
    },
    "tags": []
   },
   "outputs": [
    {
     "name": "stdout",
     "output_type": "stream",
     "text": [
      "Dropping features: ['frau1']\n"
     ]
    }
   ],
   "source": [
    "if len(excluded_features_columns) > 0:\n",
    "    print(f\"Dropping features: {excluded_features_columns}\")\n",
    "    X_test.drop(excluded_features_columns, axis=1, inplace=True)"
   ]
  },
  {
   "cell_type": "code",
   "execution_count": 26,
   "id": "01d571f0",
   "metadata": {
    "execution": {
     "iopub.execute_input": "2025-08-19T19:05:51.455844Z",
     "iopub.status.busy": "2025-08-19T19:05:51.455161Z",
     "iopub.status.idle": "2025-08-19T19:05:51.510900Z",
     "shell.execute_reply": "2025-08-19T19:05:51.510150Z"
    },
    "papermill": {
     "duration": 0.099189,
     "end_time": "2025-08-19T19:05:51.512700",
     "exception": false,
     "start_time": "2025-08-19T19:05:51.413511",
     "status": "completed"
    },
    "tags": []
   },
   "outputs": [
    {
     "name": "stdout",
     "output_type": "stream",
     "text": [
      "Dropping features: ['frau1']\n"
     ]
    }
   ],
   "source": [
    "if len(excluded_features_columns) > 0:\n",
    "    print(f\"Dropping features: {excluded_features_columns}\")\n",
    "    X_calib.drop(excluded_features_columns, axis=1, inplace=True)"
   ]
  },
  {
   "cell_type": "code",
   "execution_count": 27,
   "id": "3037356e",
   "metadata": {
    "execution": {
     "iopub.execute_input": "2025-08-19T19:05:51.546352Z",
     "iopub.status.busy": "2025-08-19T19:05:51.545759Z",
     "iopub.status.idle": "2025-08-19T19:05:51.552133Z",
     "shell.execute_reply": "2025-08-19T19:05:51.550945Z"
    },
    "papermill": {
     "duration": 0.02192,
     "end_time": "2025-08-19T19:05:51.553550",
     "exception": false,
     "start_time": "2025-08-19T19:05:51.531630",
     "status": "completed"
    },
    "tags": []
   },
   "outputs": [],
   "source": [
    "# EXCLUDE CERTAIN SUBGROUPS\n",
    "# -------------------------\n",
    "\n",
    "mode = universe.get(\"exclude_subgroups\", \"keep-all\") # Defaults to \"keep-all\" if the key is missing."
   ]
  },
  {
   "cell_type": "code",
   "execution_count": 28,
   "id": "9d1e63fd",
   "metadata": {
    "execution": {
     "iopub.execute_input": "2025-08-19T19:05:51.580373Z",
     "iopub.status.busy": "2025-08-19T19:05:51.579679Z",
     "iopub.status.idle": "2025-08-19T19:05:51.590285Z",
     "shell.execute_reply": "2025-08-19T19:05:51.589078Z"
    },
    "papermill": {
     "duration": 0.025408,
     "end_time": "2025-08-19T19:05:51.591875",
     "exception": false,
     "start_time": "2025-08-19T19:05:51.566467",
     "status": "completed"
    },
    "tags": []
   },
   "outputs": [],
   "source": [
    "if mode == \"keep-all\":\n",
    "    keep_mask = pd.Series(True, index=org_train.index)\n",
    "\n",
    "elif mode == \"drop-non-german\":\n",
    "    keep_mask = (org_train[\"maxdeutsch1\"] == 1) & (org_train[\"maxdeutsch.Missing.\"] == 0)\n",
    "\n",
    "else:\n",
    "    raise ValueError(f\"Unsupported mode for exclude_subgroups: {mode}\")"
   ]
  },
  {
   "cell_type": "code",
   "execution_count": 29,
   "id": "d3b65474",
   "metadata": {
    "execution": {
     "iopub.execute_input": "2025-08-19T19:05:51.633801Z",
     "iopub.status.busy": "2025-08-19T19:05:51.633109Z",
     "iopub.status.idle": "2025-08-19T19:05:51.642963Z",
     "shell.execute_reply": "2025-08-19T19:05:51.641907Z"
    },
    "papermill": {
     "duration": 0.027572,
     "end_time": "2025-08-19T19:05:51.644416",
     "exception": false,
     "start_time": "2025-08-19T19:05:51.616844",
     "status": "completed"
    },
    "tags": []
   },
   "outputs": [
    {
     "name": "stdout",
     "output_type": "stream",
     "text": [
      "Dropping 131 rows (13.10%) where mode='drop-non-german'\n"
     ]
    }
   ],
   "source": [
    "n_drop = (~keep_mask).sum() # Calculates how many rows are set to be dropped\n",
    "if n_drop > 0:\n",
    "    pct = n_drop / len(keep_mask) * 100\n",
    "    print(f\"Dropping {n_drop} rows ({pct:.2f}%) where mode='{mode}'\")"
   ]
  },
  {
   "cell_type": "code",
   "execution_count": 30,
   "id": "f44389b3",
   "metadata": {
    "execution": {
     "iopub.execute_input": "2025-08-19T19:05:51.669874Z",
     "iopub.status.busy": "2025-08-19T19:05:51.669207Z",
     "iopub.status.idle": "2025-08-19T19:05:51.677668Z",
     "shell.execute_reply": "2025-08-19T19:05:51.676174Z"
    },
    "papermill": {
     "duration": 0.022775,
     "end_time": "2025-08-19T19:05:51.679224",
     "exception": false,
     "start_time": "2025-08-19T19:05:51.656449",
     "status": "completed"
    },
    "tags": []
   },
   "outputs": [],
   "source": [
    "X_train = X_train[keep_mask]"
   ]
  },
  {
   "cell_type": "code",
   "execution_count": 31,
   "id": "ceca8c2a",
   "metadata": {
    "execution": {
     "iopub.execute_input": "2025-08-19T19:05:51.706339Z",
     "iopub.status.busy": "2025-08-19T19:05:51.705657Z",
     "iopub.status.idle": "2025-08-19T19:05:51.727994Z",
     "shell.execute_reply": "2025-08-19T19:05:51.726962Z"
    },
    "papermill": {
     "duration": 0.037081,
     "end_time": "2025-08-19T19:05:51.729930",
     "exception": false,
     "start_time": "2025-08-19T19:05:51.692849",
     "status": "completed"
    },
    "tags": []
   },
   "outputs": [],
   "source": [
    "y_train = y_train[keep_mask]"
   ]
  },
  {
   "cell_type": "markdown",
   "id": "04d31e2f",
   "metadata": {
    "papermill": {
     "duration": 0.011205,
     "end_time": "2025-08-19T19:05:51.760113",
     "exception": false,
     "start_time": "2025-08-19T19:05:51.748908",
     "status": "completed"
    },
    "tags": []
   },
   "source": [
    "# Model Training"
   ]
  },
  {
   "cell_type": "code",
   "execution_count": 32,
   "id": "db991733",
   "metadata": {
    "execution": {
     "iopub.execute_input": "2025-08-19T19:05:51.784865Z",
     "iopub.status.busy": "2025-08-19T19:05:51.784109Z",
     "iopub.status.idle": "2025-08-19T19:05:51.890356Z",
     "shell.execute_reply": "2025-08-19T19:05:51.889586Z"
    },
    "papermill": {
     "duration": 0.122179,
     "end_time": "2025-08-19T19:05:51.893299",
     "exception": false,
     "start_time": "2025-08-19T19:05:51.771120",
     "status": "completed"
    },
    "tags": []
   },
   "outputs": [],
   "source": [
    "from sklearn.linear_model import LogisticRegression\n",
    "from sklearn.ensemble import GradientBoostingClassifier, RandomForestClassifier\n",
    "\n",
    "if (universe[\"model\"] == \"logreg\"):\n",
    "    model = LogisticRegression() #penalty=\"none\", solver=\"newton-cg\", max_iter=1)\n",
    "elif (universe[\"model\"] == \"penalized_logreg\"):\n",
    "    model = LogisticRegression(penalty=\"l2\", C=0.1) #, solver=\"newton-cg\", max_iter=1)\n",
    "elif (universe[\"model\"] == \"rf\"):\n",
    "    model = RandomForestClassifier() # n_estimators=100, n_jobs=-1\n",
    "elif (universe[\"model\"] == \"gbm\"):\n",
    "    model = GradientBoostingClassifier()\n",
    "elif (universe[\"model\"] == \"elasticnet\"):\n",
    "    model = LogisticRegression(penalty = 'elasticnet', solver = 'saga', l1_ratio = 0.5) # max_iter=5000\n",
    "else:\n",
    "    raise \"Unsupported universe.model\""
   ]
  },
  {
   "cell_type": "code",
   "execution_count": 33,
   "id": "a4b5cd25",
   "metadata": {
    "execution": {
     "iopub.execute_input": "2025-08-19T19:05:51.932551Z",
     "iopub.status.busy": "2025-08-19T19:05:51.931893Z",
     "iopub.status.idle": "2025-08-19T19:05:51.940561Z",
     "shell.execute_reply": "2025-08-19T19:05:51.939325Z"
    },
    "papermill": {
     "duration": 0.025103,
     "end_time": "2025-08-19T19:05:51.942565",
     "exception": false,
     "start_time": "2025-08-19T19:05:51.917462",
     "status": "completed"
    },
    "tags": []
   },
   "outputs": [],
   "source": [
    "from sklearn.pipeline import Pipeline\n",
    "from sklearn.preprocessing import StandardScaler\n",
    "\n",
    "model = Pipeline([\n",
    "    #(\"continuous_processor\", continuous_processor),\n",
    "    #(\"categorical_preprocessor\", categorical_preprocessor),\n",
    "    (\"scale\", StandardScaler() if universe[\"scale\"] == \"scale\" else None), \n",
    "    (\"model\", model),\n",
    "])"
   ]
  },
  {
   "cell_type": "code",
   "execution_count": 34,
   "id": "283a904d",
   "metadata": {
    "execution": {
     "iopub.execute_input": "2025-08-19T19:05:51.970613Z",
     "iopub.status.busy": "2025-08-19T19:05:51.969915Z",
     "iopub.status.idle": "2025-08-19T19:05:52.020512Z",
     "shell.execute_reply": "2025-08-19T19:05:52.019812Z"
    },
    "papermill": {
     "duration": 0.067978,
     "end_time": "2025-08-19T19:05:52.024577",
     "exception": false,
     "start_time": "2025-08-19T19:05:51.956599",
     "status": "completed"
    },
    "tags": []
   },
   "outputs": [
    {
     "data": {
      "text/html": [
       "<style>#sk-container-id-1 {color: black;background-color: white;}#sk-container-id-1 pre{padding: 0;}#sk-container-id-1 div.sk-toggleable {background-color: white;}#sk-container-id-1 label.sk-toggleable__label {cursor: pointer;display: block;width: 100%;margin-bottom: 0;padding: 0.3em;box-sizing: border-box;text-align: center;}#sk-container-id-1 label.sk-toggleable__label-arrow:before {content: \"▸\";float: left;margin-right: 0.25em;color: #696969;}#sk-container-id-1 label.sk-toggleable__label-arrow:hover:before {color: black;}#sk-container-id-1 div.sk-estimator:hover label.sk-toggleable__label-arrow:before {color: black;}#sk-container-id-1 div.sk-toggleable__content {max-height: 0;max-width: 0;overflow: hidden;text-align: left;background-color: #f0f8ff;}#sk-container-id-1 div.sk-toggleable__content pre {margin: 0.2em;color: black;border-radius: 0.25em;background-color: #f0f8ff;}#sk-container-id-1 input.sk-toggleable__control:checked~div.sk-toggleable__content {max-height: 200px;max-width: 100%;overflow: auto;}#sk-container-id-1 input.sk-toggleable__control:checked~label.sk-toggleable__label-arrow:before {content: \"▾\";}#sk-container-id-1 div.sk-estimator input.sk-toggleable__control:checked~label.sk-toggleable__label {background-color: #d4ebff;}#sk-container-id-1 div.sk-label input.sk-toggleable__control:checked~label.sk-toggleable__label {background-color: #d4ebff;}#sk-container-id-1 input.sk-hidden--visually {border: 0;clip: rect(1px 1px 1px 1px);clip: rect(1px, 1px, 1px, 1px);height: 1px;margin: -1px;overflow: hidden;padding: 0;position: absolute;width: 1px;}#sk-container-id-1 div.sk-estimator {font-family: monospace;background-color: #f0f8ff;border: 1px dotted black;border-radius: 0.25em;box-sizing: border-box;margin-bottom: 0.5em;}#sk-container-id-1 div.sk-estimator:hover {background-color: #d4ebff;}#sk-container-id-1 div.sk-parallel-item::after {content: \"\";width: 100%;border-bottom: 1px solid gray;flex-grow: 1;}#sk-container-id-1 div.sk-label:hover label.sk-toggleable__label {background-color: #d4ebff;}#sk-container-id-1 div.sk-serial::before {content: \"\";position: absolute;border-left: 1px solid gray;box-sizing: border-box;top: 0;bottom: 0;left: 50%;z-index: 0;}#sk-container-id-1 div.sk-serial {display: flex;flex-direction: column;align-items: center;background-color: white;padding-right: 0.2em;padding-left: 0.2em;position: relative;}#sk-container-id-1 div.sk-item {position: relative;z-index: 1;}#sk-container-id-1 div.sk-parallel {display: flex;align-items: stretch;justify-content: center;background-color: white;position: relative;}#sk-container-id-1 div.sk-item::before, #sk-container-id-1 div.sk-parallel-item::before {content: \"\";position: absolute;border-left: 1px solid gray;box-sizing: border-box;top: 0;bottom: 0;left: 50%;z-index: -1;}#sk-container-id-1 div.sk-parallel-item {display: flex;flex-direction: column;z-index: 1;position: relative;background-color: white;}#sk-container-id-1 div.sk-parallel-item:first-child::after {align-self: flex-end;width: 50%;}#sk-container-id-1 div.sk-parallel-item:last-child::after {align-self: flex-start;width: 50%;}#sk-container-id-1 div.sk-parallel-item:only-child::after {width: 0;}#sk-container-id-1 div.sk-dashed-wrapped {border: 1px dashed gray;margin: 0 0.4em 0.5em 0.4em;box-sizing: border-box;padding-bottom: 0.4em;background-color: white;}#sk-container-id-1 div.sk-label label {font-family: monospace;font-weight: bold;display: inline-block;line-height: 1.2em;}#sk-container-id-1 div.sk-label-container {text-align: center;}#sk-container-id-1 div.sk-container {/* jupyter's `normalize.less` sets `[hidden] { display: none; }` but bootstrap.min.css set `[hidden] { display: none !important; }` so we also need the `!important` here to be able to override the default hidden behavior on the sphinx rendered scikit-learn.org. See: https://github.com/scikit-learn/scikit-learn/issues/21755 */display: inline-block !important;position: relative;}#sk-container-id-1 div.sk-text-repr-fallback {display: none;}</style><div id=\"sk-container-id-1\" class=\"sk-top-container\"><div class=\"sk-text-repr-fallback\"><pre>Pipeline(steps=[(&#x27;scale&#x27;, StandardScaler()),\n",
       "                (&#x27;model&#x27;, LogisticRegression(C=0.1))])</pre><b>In a Jupyter environment, please rerun this cell to show the HTML representation or trust the notebook. <br />On GitHub, the HTML representation is unable to render, please try loading this page with nbviewer.org.</b></div><div class=\"sk-container\" hidden><div class=\"sk-item sk-dashed-wrapped\"><div class=\"sk-label-container\"><div class=\"sk-label sk-toggleable\"><input class=\"sk-toggleable__control sk-hidden--visually\" id=\"sk-estimator-id-1\" type=\"checkbox\" ><label for=\"sk-estimator-id-1\" class=\"sk-toggleable__label sk-toggleable__label-arrow\">Pipeline</label><div class=\"sk-toggleable__content\"><pre>Pipeline(steps=[(&#x27;scale&#x27;, StandardScaler()),\n",
       "                (&#x27;model&#x27;, LogisticRegression(C=0.1))])</pre></div></div></div><div class=\"sk-serial\"><div class=\"sk-item\"><div class=\"sk-estimator sk-toggleable\"><input class=\"sk-toggleable__control sk-hidden--visually\" id=\"sk-estimator-id-2\" type=\"checkbox\" ><label for=\"sk-estimator-id-2\" class=\"sk-toggleable__label sk-toggleable__label-arrow\">StandardScaler</label><div class=\"sk-toggleable__content\"><pre>StandardScaler()</pre></div></div></div><div class=\"sk-item\"><div class=\"sk-estimator sk-toggleable\"><input class=\"sk-toggleable__control sk-hidden--visually\" id=\"sk-estimator-id-3\" type=\"checkbox\" ><label for=\"sk-estimator-id-3\" class=\"sk-toggleable__label sk-toggleable__label-arrow\">LogisticRegression</label><div class=\"sk-toggleable__content\"><pre>LogisticRegression(C=0.1)</pre></div></div></div></div></div></div></div>"
      ],
      "text/plain": [
       "Pipeline(steps=[('scale', StandardScaler()),\n",
       "                ('model', LogisticRegression(C=0.1))])"
      ]
     },
     "execution_count": 34,
     "metadata": {},
     "output_type": "execute_result"
    }
   ],
   "source": [
    "model.fit(X_train, y_train.values.ravel())"
   ]
  },
  {
   "cell_type": "code",
   "execution_count": 35,
   "id": "6e15e313",
   "metadata": {
    "execution": {
     "iopub.execute_input": "2025-08-19T19:05:52.067088Z",
     "iopub.status.busy": "2025-08-19T19:05:52.066366Z",
     "iopub.status.idle": "2025-08-19T19:05:52.261369Z",
     "shell.execute_reply": "2025-08-19T19:05:52.260500Z"
    },
    "papermill": {
     "duration": 0.21324,
     "end_time": "2025-08-19T19:05:52.263995",
     "exception": false,
     "start_time": "2025-08-19T19:05:52.050755",
     "status": "completed"
    },
    "tags": []
   },
   "outputs": [
    {
     "data": {
      "text/plain": [
       "0.8423141232861442"
      ]
     },
     "execution_count": 35,
     "metadata": {},
     "output_type": "execute_result"
    }
   ],
   "source": [
    "from fairness_multiverse.universe import predict_w_threshold\n",
    "\n",
    "probs_test = model.predict_proba(X_test)\n",
    "\n",
    "'''\n",
    "Below code returns a boolean array (or binary 0/1 array depending on how it’s used) where each element \n",
    "is True if the probability of class 1 is greater than or equal to the threshold, and False otherwise.\n",
    "'''\n",
    "y_pred_default = predict_w_threshold(probs_test, 0.5)\n",
    "\n",
    "from sklearn.metrics import accuracy_score\n",
    "\n",
    "# Naive prediction\n",
    "accuracy_score(y_true = y_true, y_pred = y_pred_default)"
   ]
  },
  {
   "cell_type": "code",
   "execution_count": 36,
   "id": "6f14067c",
   "metadata": {
    "execution": {
     "iopub.execute_input": "2025-08-19T19:05:52.305811Z",
     "iopub.status.busy": "2025-08-19T19:05:52.305042Z",
     "iopub.status.idle": "2025-08-19T19:05:52.490342Z",
     "shell.execute_reply": "2025-08-19T19:05:52.489520Z"
    },
    "papermill": {
     "duration": 0.202473,
     "end_time": "2025-08-19T19:05:52.491729",
     "exception": false,
     "start_time": "2025-08-19T19:05:52.289256",
     "status": "completed"
    },
    "tags": []
   },
   "outputs": [
    {
     "data": {
      "text/plain": [
       "array([0, 0, 0, ..., 0, 0, 0])"
      ]
     },
     "execution_count": 36,
     "metadata": {},
     "output_type": "execute_result"
    }
   ],
   "source": [
    "model.predict(X_test)"
   ]
  },
  {
   "cell_type": "markdown",
   "id": "3759920c",
   "metadata": {
    "papermill": {
     "duration": 0.03289,
     "end_time": "2025-08-19T19:05:52.537237",
     "exception": false,
     "start_time": "2025-08-19T19:05:52.504347",
     "status": "completed"
    },
    "tags": []
   },
   "source": [
    "# Conformal Prediction"
   ]
  },
  {
   "cell_type": "code",
   "execution_count": 37,
   "id": "14b27f59",
   "metadata": {
    "execution": {
     "iopub.execute_input": "2025-08-19T19:05:52.576146Z",
     "iopub.status.busy": "2025-08-19T19:05:52.575451Z",
     "iopub.status.idle": "2025-08-19T19:05:52.583059Z",
     "shell.execute_reply": "2025-08-19T19:05:52.582141Z"
    },
    "papermill": {
     "duration": 0.025041,
     "end_time": "2025-08-19T19:05:52.584681",
     "exception": false,
     "start_time": "2025-08-19T19:05:52.559640",
     "status": "completed"
    },
    "tags": []
   },
   "outputs": [],
   "source": [
    "# Miscoverage level for conformal prediction (10% allowed error rate => 90% target coverage)\n",
    "alpha = 0.1"
   ]
  },
  {
   "cell_type": "code",
   "execution_count": 38,
   "id": "59102472",
   "metadata": {
    "execution": {
     "iopub.execute_input": "2025-08-19T19:05:52.611631Z",
     "iopub.status.busy": "2025-08-19T19:05:52.610101Z",
     "iopub.status.idle": "2025-08-19T19:05:52.794994Z",
     "shell.execute_reply": "2025-08-19T19:05:52.794011Z"
    },
    "papermill": {
     "duration": 0.200551,
     "end_time": "2025-08-19T19:05:52.797816",
     "exception": false,
     "start_time": "2025-08-19T19:05:52.597265",
     "status": "completed"
    },
    "tags": []
   },
   "outputs": [],
   "source": [
    "probs_calib = model.predict_proba(X_calib)"
   ]
  },
  {
   "cell_type": "code",
   "execution_count": 39,
   "id": "a792d4dd",
   "metadata": {
    "execution": {
     "iopub.execute_input": "2025-08-19T19:05:52.827679Z",
     "iopub.status.busy": "2025-08-19T19:05:52.827301Z",
     "iopub.status.idle": "2025-08-19T19:05:52.832084Z",
     "shell.execute_reply": "2025-08-19T19:05:52.831205Z"
    },
    "papermill": {
     "duration": 0.019002,
     "end_time": "2025-08-19T19:05:52.833558",
     "exception": false,
     "start_time": "2025-08-19T19:05:52.814556",
     "status": "completed"
    },
    "tags": []
   },
   "outputs": [],
   "source": [
    "y_calib = y_calib.values.ravel().astype(int)"
   ]
  },
  {
   "cell_type": "code",
   "execution_count": 40,
   "id": "650fd033",
   "metadata": {
    "execution": {
     "iopub.execute_input": "2025-08-19T19:05:52.858088Z",
     "iopub.status.busy": "2025-08-19T19:05:52.857732Z",
     "iopub.status.idle": "2025-08-19T19:05:52.864585Z",
     "shell.execute_reply": "2025-08-19T19:05:52.863801Z"
    },
    "papermill": {
     "duration": 0.020493,
     "end_time": "2025-08-19T19:05:52.866020",
     "exception": false,
     "start_time": "2025-08-19T19:05:52.845527",
     "status": "completed"
    },
    "tags": []
   },
   "outputs": [],
   "source": [
    "from fairness_multiverse.conformal import compute_nc_scores\n",
    "\n",
    "# Compute nonconformity scores on calibration set (1 - probability of true class)\n",
    "nc_scores = compute_nc_scores(probs_calib, y_calib)"
   ]
  },
  {
   "cell_type": "code",
   "execution_count": 41,
   "id": "28ada44c",
   "metadata": {
    "execution": {
     "iopub.execute_input": "2025-08-19T19:05:52.910018Z",
     "iopub.status.busy": "2025-08-19T19:05:52.908687Z",
     "iopub.status.idle": "2025-08-19T19:05:52.918276Z",
     "shell.execute_reply": "2025-08-19T19:05:52.916965Z"
    },
    "papermill": {
     "duration": 0.036533,
     "end_time": "2025-08-19T19:05:52.919860",
     "exception": false,
     "start_time": "2025-08-19T19:05:52.883327",
     "status": "completed"
    },
    "tags": []
   },
   "outputs": [],
   "source": [
    "from fairness_multiverse.conformal import find_threshold\n",
    "\n",
    "# Find conformal threshold q_hat for the given alpha (split conformal method)\n",
    "q_hat = find_threshold(nc_scores, alpha)"
   ]
  },
  {
   "cell_type": "code",
   "execution_count": 42,
   "id": "df56469e",
   "metadata": {
    "execution": {
     "iopub.execute_input": "2025-08-19T19:05:52.952367Z",
     "iopub.status.busy": "2025-08-19T19:05:52.951052Z",
     "iopub.status.idle": "2025-08-19T19:05:52.965359Z",
     "shell.execute_reply": "2025-08-19T19:05:52.959894Z"
    },
    "papermill": {
     "duration": 0.030095,
     "end_time": "2025-08-19T19:05:52.967077",
     "exception": false,
     "start_time": "2025-08-19T19:05:52.936982",
     "status": "completed"
    },
    "tags": []
   },
   "outputs": [
    {
     "data": {
      "text/plain": [
       "0.7332571969978614"
      ]
     },
     "execution_count": 42,
     "metadata": {},
     "output_type": "execute_result"
    }
   ],
   "source": [
    "q_hat"
   ]
  },
  {
   "cell_type": "code",
   "execution_count": 43,
   "id": "aa1f5faa",
   "metadata": {
    "execution": {
     "iopub.execute_input": "2025-08-19T19:05:52.998491Z",
     "iopub.status.busy": "2025-08-19T19:05:52.997041Z",
     "iopub.status.idle": "2025-08-19T19:05:53.629429Z",
     "shell.execute_reply": "2025-08-19T19:05:53.628298Z"
    },
    "papermill": {
     "duration": 0.647268,
     "end_time": "2025-08-19T19:05:53.630971",
     "exception": false,
     "start_time": "2025-08-19T19:05:52.983703",
     "status": "completed"
    },
    "tags": []
   },
   "outputs": [],
   "source": [
    "from fairness_multiverse.conformal import predict_conformal_sets\n",
    "\n",
    "# Generate prediction sets for each test example\n",
    "pred_sets = predict_conformal_sets(model, X_test, q_hat)"
   ]
  },
  {
   "cell_type": "code",
   "execution_count": 44,
   "id": "97f67a6b",
   "metadata": {
    "execution": {
     "iopub.execute_input": "2025-08-19T19:05:53.668969Z",
     "iopub.status.busy": "2025-08-19T19:05:53.668523Z",
     "iopub.status.idle": "2025-08-19T19:05:53.675208Z",
     "shell.execute_reply": "2025-08-19T19:05:53.674196Z"
    },
    "papermill": {
     "duration": 0.040648,
     "end_time": "2025-08-19T19:05:53.685714",
     "exception": false,
     "start_time": "2025-08-19T19:05:53.645066",
     "status": "completed"
    },
    "tags": []
   },
   "outputs": [],
   "source": [
    "y_true = y_true.squeeze()"
   ]
  },
  {
   "cell_type": "code",
   "execution_count": 45,
   "id": "e700e9a7",
   "metadata": {
    "execution": {
     "iopub.execute_input": "2025-08-19T19:05:53.718071Z",
     "iopub.status.busy": "2025-08-19T19:05:53.717681Z",
     "iopub.status.idle": "2025-08-19T19:05:54.218820Z",
     "shell.execute_reply": "2025-08-19T19:05:54.217742Z"
    },
    "papermill": {
     "duration": 0.522806,
     "end_time": "2025-08-19T19:05:54.222457",
     "exception": false,
     "start_time": "2025-08-19T19:05:53.699651",
     "status": "completed"
    },
    "tags": []
   },
   "outputs": [],
   "source": [
    "from fairness_multiverse.conformal import evaluate_sets\n",
    "\n",
    "# Evaluate coverage and average set size on test data\n",
    "metrics = evaluate_sets(pred_sets, y_true)"
   ]
  },
  {
   "cell_type": "markdown",
   "id": "efbacec0",
   "metadata": {
    "papermill": {
     "duration": 0.013299,
     "end_time": "2025-08-19T19:05:54.261235",
     "exception": false,
     "start_time": "2025-08-19T19:05:54.247936",
     "status": "completed"
    },
    "tags": []
   },
   "source": [
    "# CP Metrics"
   ]
  },
  {
   "cell_type": "code",
   "execution_count": 46,
   "id": "9de55fb1",
   "metadata": {
    "execution": {
     "iopub.execute_input": "2025-08-19T19:05:54.289342Z",
     "iopub.status.busy": "2025-08-19T19:05:54.288146Z",
     "iopub.status.idle": "2025-08-19T19:05:54.301935Z",
     "shell.execute_reply": "2025-08-19T19:05:54.300757Z"
    },
    "papermill": {
     "duration": 0.030476,
     "end_time": "2025-08-19T19:05:54.303400",
     "exception": false,
     "start_time": "2025-08-19T19:05:54.272924",
     "status": "completed"
    },
    "tags": []
   },
   "outputs": [
    {
     "data": {
      "text/plain": [
       "{'coverage': 0.9105116486456359, 'avg_size': 1.180938579868465}"
      ]
     },
     "execution_count": 46,
     "metadata": {},
     "output_type": "execute_result"
    }
   ],
   "source": [
    "metrics"
   ]
  },
  {
   "cell_type": "code",
   "execution_count": 47,
   "id": "64c340a1",
   "metadata": {
    "execution": {
     "iopub.execute_input": "2025-08-19T19:05:54.334895Z",
     "iopub.status.busy": "2025-08-19T19:05:54.333450Z",
     "iopub.status.idle": "2025-08-19T19:05:54.344392Z",
     "shell.execute_reply": "2025-08-19T19:05:54.342920Z"
    },
    "papermill": {
     "duration": 0.025818,
     "end_time": "2025-08-19T19:05:54.345834",
     "exception": false,
     "start_time": "2025-08-19T19:05:54.320016",
     "status": "completed"
    },
    "tags": []
   },
   "outputs": [],
   "source": [
    "example_universe = universe.copy()\n",
    "universe_training_year = example_universe.get(\"training_year\")\n",
    "universe_training_size = example_universe.get(\"training_size\")\n",
    "universe_scale = example_universe.get(\"scale\")\n",
    "universe_model = example_universe.get(\"model\")\n",
    "universe_exclude_features = example_universe.get(\"exclude_features\")\n",
    "universe_exclude_subgroups = example_universe.get(\"exclude_subgroups\")"
   ]
  },
  {
   "cell_type": "code",
   "execution_count": 48,
   "id": "dbb53cb4",
   "metadata": {
    "execution": {
     "iopub.execute_input": "2025-08-19T19:05:54.378041Z",
     "iopub.status.busy": "2025-08-19T19:05:54.376883Z",
     "iopub.status.idle": "2025-08-19T19:05:54.387820Z",
     "shell.execute_reply": "2025-08-19T19:05:54.386170Z"
    },
    "papermill": {
     "duration": 0.026229,
     "end_time": "2025-08-19T19:05:54.389505",
     "exception": false,
     "start_time": "2025-08-19T19:05:54.363276",
     "status": "completed"
    },
    "tags": []
   },
   "outputs": [],
   "source": [
    "cp_metrics_dict = {\n",
    "    \"universe_id\": [universe_id],\n",
    "    \"universe_training_year\": [universe_training_year],\n",
    "    \"universe_training_size\": [universe_training_size],\n",
    "    \"universe_scale\": [universe_scale],\n",
    "    \"universe_model\": [universe_model],\n",
    "    \"universe_exclude_features\": [universe_exclude_features],\n",
    "    \"universe_exclude_subgroups\": [universe_exclude_subgroups],\n",
    "    \"q_hat\": [q_hat],\n",
    "    \"coverage\": [metrics[\"coverage\"]],\n",
    "    \"avg_size\": [metrics[\"avg_size\"]],\n",
    "}"
   ]
  },
  {
   "cell_type": "code",
   "execution_count": 49,
   "id": "0d70d4b2",
   "metadata": {
    "execution": {
     "iopub.execute_input": "2025-08-19T19:05:54.418917Z",
     "iopub.status.busy": "2025-08-19T19:05:54.417877Z",
     "iopub.status.idle": "2025-08-19T19:05:54.430376Z",
     "shell.execute_reply": "2025-08-19T19:05:54.428709Z"
    },
    "papermill": {
     "duration": 0.027693,
     "end_time": "2025-08-19T19:05:54.432095",
     "exception": false,
     "start_time": "2025-08-19T19:05:54.404402",
     "status": "completed"
    },
    "tags": []
   },
   "outputs": [],
   "source": [
    "cp_metrics_df = pd.DataFrame(cp_metrics_dict)"
   ]
  },
  {
   "cell_type": "code",
   "execution_count": 50,
   "id": "b494403c",
   "metadata": {
    "execution": {
     "iopub.execute_input": "2025-08-19T19:05:54.465382Z",
     "iopub.status.busy": "2025-08-19T19:05:54.464171Z",
     "iopub.status.idle": "2025-08-19T19:05:54.488073Z",
     "shell.execute_reply": "2025-08-19T19:05:54.487160Z"
    },
    "papermill": {
     "duration": 0.040316,
     "end_time": "2025-08-19T19:05:54.489681",
     "exception": false,
     "start_time": "2025-08-19T19:05:54.449365",
     "status": "completed"
    },
    "tags": []
   },
   "outputs": [
    {
     "data": {
      "text/html": [
       "<div>\n",
       "<style scoped>\n",
       "    .dataframe tbody tr th:only-of-type {\n",
       "        vertical-align: middle;\n",
       "    }\n",
       "\n",
       "    .dataframe tbody tr th {\n",
       "        vertical-align: top;\n",
       "    }\n",
       "\n",
       "    .dataframe thead th {\n",
       "        text-align: right;\n",
       "    }\n",
       "</style>\n",
       "<table border=\"1\" class=\"dataframe\">\n",
       "  <thead>\n",
       "    <tr style=\"text-align: right;\">\n",
       "      <th></th>\n",
       "      <th>universe_id</th>\n",
       "      <th>universe_training_year</th>\n",
       "      <th>universe_training_size</th>\n",
       "      <th>universe_scale</th>\n",
       "      <th>universe_model</th>\n",
       "      <th>universe_exclude_features</th>\n",
       "      <th>universe_exclude_subgroups</th>\n",
       "      <th>q_hat</th>\n",
       "      <th>coverage</th>\n",
       "      <th>avg_size</th>\n",
       "    </tr>\n",
       "  </thead>\n",
       "  <tbody>\n",
       "    <tr>\n",
       "      <th>0</th>\n",
       "      <td>5e6d09a2d94a76f6f5c24c8d811339d0</td>\n",
       "      <td>2010_14</td>\n",
       "      <td>1k</td>\n",
       "      <td>scale</td>\n",
       "      <td>penalized_logreg</td>\n",
       "      <td>sex</td>\n",
       "      <td>drop-non-german</td>\n",
       "      <td>0.733257</td>\n",
       "      <td>0.910512</td>\n",
       "      <td>1.180939</td>\n",
       "    </tr>\n",
       "  </tbody>\n",
       "</table>\n",
       "</div>"
      ],
      "text/plain": [
       "                        universe_id universe_training_year  \\\n",
       "0  5e6d09a2d94a76f6f5c24c8d811339d0                2010_14   \n",
       "\n",
       "  universe_training_size universe_scale    universe_model  \\\n",
       "0                     1k          scale  penalized_logreg   \n",
       "\n",
       "  universe_exclude_features universe_exclude_subgroups     q_hat  coverage  \\\n",
       "0                       sex            drop-non-german  0.733257  0.910512   \n",
       "\n",
       "   avg_size  \n",
       "0  1.180939  "
      ]
     },
     "execution_count": 50,
     "metadata": {},
     "output_type": "execute_result"
    }
   ],
   "source": [
    "cp_metrics_df"
   ]
  },
  {
   "cell_type": "markdown",
   "id": "ed608b0b",
   "metadata": {
    "papermill": {
     "duration": 0.013225,
     "end_time": "2025-08-19T19:05:54.525632",
     "exception": false,
     "start_time": "2025-08-19T19:05:54.512407",
     "status": "completed"
    },
    "tags": []
   },
   "source": [
    "Conditional coverage & looking at subgroups"
   ]
  },
  {
   "cell_type": "code",
   "execution_count": 51,
   "id": "8968c366",
   "metadata": {
    "execution": {
     "iopub.execute_input": "2025-08-19T19:05:54.553880Z",
     "iopub.status.busy": "2025-08-19T19:05:54.552851Z",
     "iopub.status.idle": "2025-08-19T19:05:54.819035Z",
     "shell.execute_reply": "2025-08-19T19:05:54.818328Z"
    },
    "papermill": {
     "duration": 0.283329,
     "end_time": "2025-08-19T19:05:54.821220",
     "exception": false,
     "start_time": "2025-08-19T19:05:54.537891",
     "status": "completed"
    },
    "tags": []
   },
   "outputs": [],
   "source": [
    "from fairness_multiverse.conformal import build_cp_groups\n",
    "\n",
    "cp_groups_df = build_cp_groups(pred_sets, y_true, X_test.index, org_test)"
   ]
  },
  {
   "cell_type": "code",
   "execution_count": 52,
   "id": "292ddabf",
   "metadata": {
    "execution": {
     "iopub.execute_input": "2025-08-19T19:05:54.848193Z",
     "iopub.status.busy": "2025-08-19T19:05:54.847796Z",
     "iopub.status.idle": "2025-08-19T19:05:55.702955Z",
     "shell.execute_reply": "2025-08-19T19:05:55.701761Z"
    },
    "papermill": {
     "duration": 0.87477,
     "end_time": "2025-08-19T19:05:55.708355",
     "exception": false,
     "start_time": "2025-08-19T19:05:54.833585",
     "status": "completed"
    },
    "tags": []
   },
   "outputs": [],
   "source": [
    "# Define covered = 1 if true_label is in the predicted set\n",
    "cp_groups_df['covered'] = cp_groups_df.apply(\n",
    "    lambda r: int(r['true_label'] in r['pred_set']),\n",
    "    axis=1\n",
    ")"
   ]
  },
  {
   "cell_type": "code",
   "execution_count": 53,
   "id": "3a261692",
   "metadata": {
    "execution": {
     "iopub.execute_input": "2025-08-19T19:05:55.753440Z",
     "iopub.status.busy": "2025-08-19T19:05:55.751993Z",
     "iopub.status.idle": "2025-08-19T19:05:55.776442Z",
     "shell.execute_reply": "2025-08-19T19:05:55.775265Z"
    },
    "papermill": {
     "duration": 0.043076,
     "end_time": "2025-08-19T19:05:55.778323",
     "exception": false,
     "start_time": "2025-08-19T19:05:55.735247",
     "status": "completed"
    },
    "tags": []
   },
   "outputs": [],
   "source": [
    "subgroups = ['frau1','nongerman','nongerman_male','nongerman_female']\n",
    "\n",
    "# Conditional coverage for subgroup==1\n",
    "cond_coverage = {\n",
    "    g: cp_groups_df.loc[cp_groups_df[g]==1, 'covered'].mean()\n",
    "    for g in subgroups\n",
    "}"
   ]
  },
  {
   "cell_type": "code",
   "execution_count": 54,
   "id": "894fd600",
   "metadata": {
    "execution": {
     "iopub.execute_input": "2025-08-19T19:05:55.819066Z",
     "iopub.status.busy": "2025-08-19T19:05:55.817611Z",
     "iopub.status.idle": "2025-08-19T19:05:55.829663Z",
     "shell.execute_reply": "2025-08-19T19:05:55.828396Z"
    },
    "papermill": {
     "duration": 0.029558,
     "end_time": "2025-08-19T19:05:55.831093",
     "exception": false,
     "start_time": "2025-08-19T19:05:55.801535",
     "status": "completed"
    },
    "tags": []
   },
   "outputs": [
    {
     "data": {
      "text/plain": [
       "{'frau1': 0.9095295861976007,\n",
       " 'nongerman': 0.9117498456183686,\n",
       " 'nongerman_male': 0.927226875619202,\n",
       " 'nongerman_female': 0.886140089418778}"
      ]
     },
     "execution_count": 54,
     "metadata": {},
     "output_type": "execute_result"
    }
   ],
   "source": [
    "cond_coverage"
   ]
  },
  {
   "cell_type": "code",
   "execution_count": 55,
   "id": "942895c7",
   "metadata": {
    "execution": {
     "iopub.execute_input": "2025-08-19T19:05:55.864288Z",
     "iopub.status.busy": "2025-08-19T19:05:55.863021Z",
     "iopub.status.idle": "2025-08-19T19:05:55.878396Z",
     "shell.execute_reply": "2025-08-19T19:05:55.877018Z"
    },
    "papermill": {
     "duration": 0.031184,
     "end_time": "2025-08-19T19:05:55.880177",
     "exception": false,
     "start_time": "2025-08-19T19:05:55.848993",
     "status": "completed"
    },
    "tags": []
   },
   "outputs": [],
   "source": [
    "for subgroup, cov in cond_coverage.items():\n",
    "    cp_metrics_df[f\"cov_{subgroup}\"] = cov"
   ]
  },
  {
   "cell_type": "code",
   "execution_count": 56,
   "id": "3970120f",
   "metadata": {
    "execution": {
     "iopub.execute_input": "2025-08-19T19:05:55.918680Z",
     "iopub.status.busy": "2025-08-19T19:05:55.917436Z",
     "iopub.status.idle": "2025-08-19T19:05:55.946578Z",
     "shell.execute_reply": "2025-08-19T19:05:55.945743Z"
    },
    "papermill": {
     "duration": 0.048064,
     "end_time": "2025-08-19T19:05:55.949504",
     "exception": false,
     "start_time": "2025-08-19T19:05:55.901440",
     "status": "completed"
    },
    "tags": []
   },
   "outputs": [
    {
     "data": {
      "text/html": [
       "<div>\n",
       "<style scoped>\n",
       "    .dataframe tbody tr th:only-of-type {\n",
       "        vertical-align: middle;\n",
       "    }\n",
       "\n",
       "    .dataframe tbody tr th {\n",
       "        vertical-align: top;\n",
       "    }\n",
       "\n",
       "    .dataframe thead th {\n",
       "        text-align: right;\n",
       "    }\n",
       "</style>\n",
       "<table border=\"1\" class=\"dataframe\">\n",
       "  <thead>\n",
       "    <tr style=\"text-align: right;\">\n",
       "      <th></th>\n",
       "      <th>universe_id</th>\n",
       "      <th>universe_training_year</th>\n",
       "      <th>universe_training_size</th>\n",
       "      <th>universe_scale</th>\n",
       "      <th>universe_model</th>\n",
       "      <th>universe_exclude_features</th>\n",
       "      <th>universe_exclude_subgroups</th>\n",
       "      <th>q_hat</th>\n",
       "      <th>coverage</th>\n",
       "      <th>avg_size</th>\n",
       "      <th>cov_frau1</th>\n",
       "      <th>cov_nongerman</th>\n",
       "      <th>cov_nongerman_male</th>\n",
       "      <th>cov_nongerman_female</th>\n",
       "    </tr>\n",
       "  </thead>\n",
       "  <tbody>\n",
       "    <tr>\n",
       "      <th>0</th>\n",
       "      <td>5e6d09a2d94a76f6f5c24c8d811339d0</td>\n",
       "      <td>2010_14</td>\n",
       "      <td>1k</td>\n",
       "      <td>scale</td>\n",
       "      <td>penalized_logreg</td>\n",
       "      <td>sex</td>\n",
       "      <td>drop-non-german</td>\n",
       "      <td>0.733257</td>\n",
       "      <td>0.910512</td>\n",
       "      <td>1.180939</td>\n",
       "      <td>0.90953</td>\n",
       "      <td>0.91175</td>\n",
       "      <td>0.927227</td>\n",
       "      <td>0.88614</td>\n",
       "    </tr>\n",
       "  </tbody>\n",
       "</table>\n",
       "</div>"
      ],
      "text/plain": [
       "                        universe_id universe_training_year  \\\n",
       "0  5e6d09a2d94a76f6f5c24c8d811339d0                2010_14   \n",
       "\n",
       "  universe_training_size universe_scale    universe_model  \\\n",
       "0                     1k          scale  penalized_logreg   \n",
       "\n",
       "  universe_exclude_features universe_exclude_subgroups     q_hat  coverage  \\\n",
       "0                       sex            drop-non-german  0.733257  0.910512   \n",
       "\n",
       "   avg_size  cov_frau1  cov_nongerman  cov_nongerman_male  \\\n",
       "0  1.180939    0.90953        0.91175            0.927227   \n",
       "\n",
       "   cov_nongerman_female  \n",
       "0               0.88614  "
      ]
     },
     "execution_count": 56,
     "metadata": {},
     "output_type": "execute_result"
    }
   ],
   "source": [
    "cp_metrics_df"
   ]
  },
  {
   "cell_type": "markdown",
   "id": "3fc519cc",
   "metadata": {
    "papermill": {
     "duration": 0.0175,
     "end_time": "2025-08-19T19:05:55.990157",
     "exception": false,
     "start_time": "2025-08-19T19:05:55.972657",
     "status": "completed"
    },
    "tags": []
   },
   "source": [
    "# (Fairness) Metrics"
   ]
  },
  {
   "cell_type": "code",
   "execution_count": 57,
   "id": "a2e5e155",
   "metadata": {
    "execution": {
     "iopub.execute_input": "2025-08-19T19:05:56.019472Z",
     "iopub.status.busy": "2025-08-19T19:05:56.018404Z",
     "iopub.status.idle": "2025-08-19T19:05:56.047698Z",
     "shell.execute_reply": "2025-08-19T19:05:56.046201Z"
    },
    "papermill": {
     "duration": 0.046792,
     "end_time": "2025-08-19T19:05:56.050277",
     "exception": false,
     "start_time": "2025-08-19T19:05:56.003485",
     "status": "completed"
    },
    "tags": []
   },
   "outputs": [],
   "source": [
    "colname_to_bin = \"maxdeutsch1\"\n",
    "majority_value = org_train[colname_to_bin].mode()[0]\n",
    "\n",
    "org_test[\"majmin\"] = np.where(org_test[colname_to_bin] == majority_value, \"majority\", \"minority\")"
   ]
  },
  {
   "cell_type": "code",
   "execution_count": 58,
   "id": "17e3e4d5",
   "metadata": {
    "execution": {
     "iopub.execute_input": "2025-08-19T19:05:56.095478Z",
     "iopub.status.busy": "2025-08-19T19:05:56.094456Z",
     "iopub.status.idle": "2025-08-19T19:05:57.836216Z",
     "shell.execute_reply": "2025-08-19T19:05:57.834545Z"
    },
    "papermill": {
     "duration": 1.760036,
     "end_time": "2025-08-19T19:05:57.838011",
     "exception": false,
     "start_time": "2025-08-19T19:05:56.077975",
     "status": "completed"
    },
    "tags": []
   },
   "outputs": [],
   "source": [
    "example_universe = universe.copy()\n",
    "example_universe[\"cutoff\"] = example_universe[\"cutoff\"][0]\n",
    "example_universe[\"eval_fairness_grouping\"] = example_universe[\"eval_fairness_grouping\"][0]\n",
    "fairness_dict, metric_frame = universe_analysis.compute_metrics(\n",
    "    example_universe,\n",
    "    y_pred_prob=probs_test,\n",
    "    y_test=y_true,\n",
    "    org_test=org_test,\n",
    ")"
   ]
  },
  {
   "cell_type": "markdown",
   "id": "1fb7a0e9",
   "metadata": {
    "papermill": {
     "duration": 0.013314,
     "end_time": "2025-08-19T19:05:57.864587",
     "exception": false,
     "start_time": "2025-08-19T19:05:57.851273",
     "status": "completed"
    },
    "tags": []
   },
   "source": [
    "# Overall"
   ]
  },
  {
   "cell_type": "markdown",
   "id": "be1784b1",
   "metadata": {
    "papermill": {
     "duration": 0.012213,
     "end_time": "2025-08-19T19:05:57.889160",
     "exception": false,
     "start_time": "2025-08-19T19:05:57.876947",
     "status": "completed"
    },
    "tags": []
   },
   "source": [
    "Main fairness target: Equalized Odds. Seems to be a better fit than equal opportunity, since we're not only interested in Y = 1. Seems to be a better fit than demographic parity, since we also care about accuracy, not just equal distribution of preds.\n",
    "\n",
    "Pick column for computation of fairness metrics\n",
    "\n",
    "Performance\n",
    "Overall performance measures, most interesting in relation to the measures split by group below"
   ]
  },
  {
   "cell_type": "code",
   "execution_count": 59,
   "id": "b7672bee",
   "metadata": {
    "execution": {
     "iopub.execute_input": "2025-08-19T19:05:57.921097Z",
     "iopub.status.busy": "2025-08-19T19:05:57.916324Z",
     "iopub.status.idle": "2025-08-19T19:05:57.928680Z",
     "shell.execute_reply": "2025-08-19T19:05:57.927967Z"
    },
    "papermill": {
     "duration": 0.028605,
     "end_time": "2025-08-19T19:05:57.930069",
     "exception": false,
     "start_time": "2025-08-19T19:05:57.901464",
     "status": "completed"
    },
    "tags": []
   },
   "outputs": [
    {
     "data": {
      "text/plain": [
       "accuracy                   0.219808\n",
       "balanced accuracy          0.538418\n",
       "f1                         0.241265\n",
       "precision                  0.137827\n",
       "false positive rate        0.890143\n",
       "false negative rate        0.033021\n",
       "selection rate             0.900000\n",
       "count                  89710.000000\n",
       "dtype: float64"
      ]
     },
     "execution_count": 59,
     "metadata": {},
     "output_type": "execute_result"
    }
   ],
   "source": [
    "metric_frame.overall"
   ]
  },
  {
   "cell_type": "markdown",
   "id": "d93333c9",
   "metadata": {
    "papermill": {
     "duration": 0.012477,
     "end_time": "2025-08-19T19:05:57.958224",
     "exception": false,
     "start_time": "2025-08-19T19:05:57.945747",
     "status": "completed"
    },
    "tags": []
   },
   "source": [
    "By Group"
   ]
  },
  {
   "cell_type": "code",
   "execution_count": 60,
   "id": "52256966",
   "metadata": {
    "execution": {
     "iopub.execute_input": "2025-08-19T19:05:57.986436Z",
     "iopub.status.busy": "2025-08-19T19:05:57.985397Z",
     "iopub.status.idle": "2025-08-19T19:05:58.012337Z",
     "shell.execute_reply": "2025-08-19T19:05:58.011520Z"
    },
    "papermill": {
     "duration": 0.042947,
     "end_time": "2025-08-19T19:05:58.013912",
     "exception": false,
     "start_time": "2025-08-19T19:05:57.970965",
     "status": "completed"
    },
    "tags": []
   },
   "outputs": [
    {
     "data": {
      "text/html": [
       "<div>\n",
       "<style scoped>\n",
       "    .dataframe tbody tr th:only-of-type {\n",
       "        vertical-align: middle;\n",
       "    }\n",
       "\n",
       "    .dataframe tbody tr th {\n",
       "        vertical-align: top;\n",
       "    }\n",
       "\n",
       "    .dataframe thead th {\n",
       "        text-align: right;\n",
       "    }\n",
       "</style>\n",
       "<table border=\"1\" class=\"dataframe\">\n",
       "  <thead>\n",
       "    <tr style=\"text-align: right;\">\n",
       "      <th></th>\n",
       "      <th>accuracy</th>\n",
       "      <th>balanced accuracy</th>\n",
       "      <th>f1</th>\n",
       "      <th>precision</th>\n",
       "      <th>false positive rate</th>\n",
       "      <th>false negative rate</th>\n",
       "      <th>selection rate</th>\n",
       "      <th>count</th>\n",
       "    </tr>\n",
       "    <tr>\n",
       "      <th>majmin</th>\n",
       "      <th></th>\n",
       "      <th></th>\n",
       "      <th></th>\n",
       "      <th></th>\n",
       "      <th></th>\n",
       "      <th></th>\n",
       "      <th></th>\n",
       "      <th></th>\n",
       "    </tr>\n",
       "  </thead>\n",
       "  <tbody>\n",
       "    <tr>\n",
       "      <th>majority</th>\n",
       "      <td>0.234480</td>\n",
       "      <td>0.543705</td>\n",
       "      <td>0.249699</td>\n",
       "      <td>0.143425</td>\n",
       "      <td>0.876595</td>\n",
       "      <td>0.035996</td>\n",
       "      <td>0.888145</td>\n",
       "      <td>69170.0</td>\n",
       "    </tr>\n",
       "    <tr>\n",
       "      <th>minority</th>\n",
       "      <td>0.170399</td>\n",
       "      <td>0.521781</td>\n",
       "      <td>0.213805</td>\n",
       "      <td>0.120015</td>\n",
       "      <td>0.934900</td>\n",
       "      <td>0.021537</td>\n",
       "      <td>0.939922</td>\n",
       "      <td>20540.0</td>\n",
       "    </tr>\n",
       "  </tbody>\n",
       "</table>\n",
       "</div>"
      ],
      "text/plain": [
       "          accuracy  balanced accuracy        f1  precision  \\\n",
       "majmin                                                       \n",
       "majority  0.234480           0.543705  0.249699   0.143425   \n",
       "minority  0.170399           0.521781  0.213805   0.120015   \n",
       "\n",
       "          false positive rate  false negative rate  selection rate    count  \n",
       "majmin                                                                       \n",
       "majority             0.876595             0.035996        0.888145  69170.0  \n",
       "minority             0.934900             0.021537        0.939922  20540.0  "
      ]
     },
     "execution_count": 60,
     "metadata": {},
     "output_type": "execute_result"
    }
   ],
   "source": [
    "metric_frame.by_group"
   ]
  },
  {
   "cell_type": "code",
   "execution_count": 61,
   "id": "6e6c20ae",
   "metadata": {
    "execution": {
     "iopub.execute_input": "2025-08-19T19:05:58.059864Z",
     "iopub.status.busy": "2025-08-19T19:05:58.055773Z",
     "iopub.status.idle": "2025-08-19T19:06:00.012537Z",
     "shell.execute_reply": "2025-08-19T19:06:00.011425Z"
    },
    "papermill": {
     "duration": 1.975496,
     "end_time": "2025-08-19T19:06:00.013626",
     "exception": false,
     "start_time": "2025-08-19T19:05:58.038130",
     "status": "completed"
    },
    "tags": []
   },
   "outputs": [
    {
     "data": {
      "text/plain": [
       "array([[<Axes: title={'center': 'accuracy'}, xlabel='majmin'>,\n",
       "        <Axes: title={'center': 'balanced accuracy'}, xlabel='majmin'>,\n",
       "        <Axes: title={'center': 'f1'}, xlabel='majmin'>],\n",
       "       [<Axes: title={'center': 'precision'}, xlabel='majmin'>,\n",
       "        <Axes: title={'center': 'false positive rate'}, xlabel='majmin'>,\n",
       "        <Axes: title={'center': 'false negative rate'}, xlabel='majmin'>],\n",
       "       [<Axes: title={'center': 'selection rate'}, xlabel='majmin'>,\n",
       "        <Axes: title={'center': 'count'}, xlabel='majmin'>,\n",
       "        <Axes: xlabel='majmin'>]], dtype=object)"
      ]
     },
     "execution_count": 61,
     "metadata": {},
     "output_type": "execute_result"
    },
    {
     "data": {
      "image/png": "[encoded data removed]",
      "text/plain": [
       "<Figure size 1200x800 with 9 Axes>"
      ]
     },
     "metadata": {},
     "output_type": "display_data"
    }
   ],
   "source": [
    "# In a graphic\n",
    "metric_frame.by_group.plot.bar(\n",
    "    subplots=True,\n",
    "    layout=[3, 3],\n",
    "    legend=False,\n",
    "    figsize=[12, 8],\n",
    "    title=\"Show all metrics\",\n",
    ")"
   ]
  },
  {
   "cell_type": "markdown",
   "id": "b2e433ae",
   "metadata": {
    "papermill": {
     "duration": 0.013745,
     "end_time": "2025-08-19T19:06:00.044515",
     "exception": false,
     "start_time": "2025-08-19T19:06:00.030770",
     "status": "completed"
    },
    "tags": []
   },
   "source": [
    "# Final Output"
   ]
  },
  {
   "cell_type": "code",
   "execution_count": 62,
   "id": "3871301e",
   "metadata": {
    "execution": {
     "iopub.execute_input": "2025-08-19T19:06:00.075561Z",
     "iopub.status.busy": "2025-08-19T19:06:00.074053Z",
     "iopub.status.idle": "2025-08-19T19:06:00.086596Z",
     "shell.execute_reply": "2025-08-19T19:06:00.085595Z"
    },
    "papermill": {
     "duration": 0.02981,
     "end_time": "2025-08-19T19:06:00.087969",
     "exception": false,
     "start_time": "2025-08-19T19:06:00.058159",
     "status": "completed"
    },
    "tags": []
   },
   "outputs": [
    {
     "data": {
      "text/plain": [
       "4"
      ]
     },
     "execution_count": 62,
     "metadata": {},
     "output_type": "execute_result"
    }
   ],
   "source": [
    "sub_universes = universe_analysis.generate_sub_universes()\n",
    "len(sub_universes)"
   ]
  },
  {
   "cell_type": "code",
   "execution_count": 63,
   "id": "d9cfdaca",
   "metadata": {
    "execution": {
     "iopub.execute_input": "2025-08-19T19:06:00.119922Z",
     "iopub.status.busy": "2025-08-19T19:06:00.118930Z",
     "iopub.status.idle": "2025-08-19T19:06:00.128166Z",
     "shell.execute_reply": "2025-08-19T19:06:00.126786Z"
    },
    "papermill": {
     "duration": 0.026421,
     "end_time": "2025-08-19T19:06:00.129605",
     "exception": false,
     "start_time": "2025-08-19T19:06:00.103184",
     "status": "completed"
    },
    "tags": []
   },
   "outputs": [],
   "source": [
    "def filter_sub_universe_data(sub_universe, org_test):\n",
    "    # Keep all rows — no filtering\n",
    "    keep_rows_mask = np.ones(org_test.shape[0], dtype=bool)\n",
    "\n",
    "    print(f\"[INFO] Keeping all rows: {keep_rows_mask.sum()} rows retained.\")\n",
    "    return keep_rows_mask"
   ]
  },
  {
   "cell_type": "code",
   "execution_count": 64,
   "id": "2bc31ac1",
   "metadata": {
    "execution": {
     "iopub.execute_input": "2025-08-19T19:06:00.163409Z",
     "iopub.status.busy": "2025-08-19T19:06:00.162344Z",
     "iopub.status.idle": "2025-08-19T19:06:06.932983Z",
     "shell.execute_reply": "2025-08-19T19:06:06.931961Z"
    },
    "papermill": {
     "duration": 6.787144,
     "end_time": "2025-08-19T19:06:06.934295",
     "exception": false,
     "start_time": "2025-08-19T19:06:00.147151",
     "status": "completed"
    },
    "tags": []
   },
   "outputs": [
    {
     "name": "stdout",
     "output_type": "stream",
     "text": [
      "Stopping execution_time clock.\n",
      "[INFO] Keeping all rows: 89710 rows retained.\n"
     ]
    },
    {
     "name": "stdout",
     "output_type": "stream",
     "text": [
      "[INFO] Keeping all rows: 89710 rows retained.\n"
     ]
    },
    {
     "name": "stdout",
     "output_type": "stream",
     "text": [
      "[INFO] Keeping all rows: 89710 rows retained.\n"
     ]
    },
    {
     "name": "stdout",
     "output_type": "stream",
     "text": [
      "[INFO] Keeping all rows: 89710 rows retained.\n"
     ]
    },
    {
     "data": {
      "text/html": [
       "<div>\n",
       "<style scoped>\n",
       "    .dataframe tbody tr th:only-of-type {\n",
       "        vertical-align: middle;\n",
       "    }\n",
       "\n",
       "    .dataframe tbody tr th {\n",
       "        vertical-align: top;\n",
       "    }\n",
       "\n",
       "    .dataframe thead th {\n",
       "        text-align: right;\n",
       "    }\n",
       "</style>\n",
       "<table border=\"1\" class=\"dataframe\">\n",
       "  <thead>\n",
       "    <tr style=\"text-align: right;\">\n",
       "      <th></th>\n",
       "      <th>run_no</th>\n",
       "      <th>universe_id</th>\n",
       "      <th>universe_settings</th>\n",
       "      <th>execution_time</th>\n",
       "      <th>test_size_n</th>\n",
       "      <th>test_size_frac</th>\n",
       "      <th>fair_main_equalized_odds_difference</th>\n",
       "      <th>fair_main_equalized_odds_ratio</th>\n",
       "      <th>fair_main_demographic_parity_difference</th>\n",
       "      <th>fair_main_demographic_parity_ratio</th>\n",
       "      <th>...</th>\n",
       "      <th>perf_grp_precision_0</th>\n",
       "      <th>perf_grp_precision_1</th>\n",
       "      <th>perf_grp_false positive rate_0</th>\n",
       "      <th>perf_grp_false positive rate_1</th>\n",
       "      <th>perf_grp_false negative rate_0</th>\n",
       "      <th>perf_grp_false negative rate_1</th>\n",
       "      <th>perf_grp_selection rate_0</th>\n",
       "      <th>perf_grp_selection rate_1</th>\n",
       "      <th>perf_grp_count_0</th>\n",
       "      <th>perf_grp_count_1</th>\n",
       "    </tr>\n",
       "  </thead>\n",
       "  <tbody>\n",
       "    <tr>\n",
       "      <th>0</th>\n",
       "      <td>3</td>\n",
       "      <td>5e6d09a2d94a76f6f5c24c8d811339d0</td>\n",
       "      <td>{\"cutoff\": \"quantile_0.1\", \"eval_fairness_grou...</td>\n",
       "      <td>21.996597</td>\n",
       "      <td>89710</td>\n",
       "      <td>1.0</td>\n",
       "      <td>0.058305</td>\n",
       "      <td>0.937635</td>\n",
       "      <td>0.051777</td>\n",
       "      <td>0.944914</td>\n",
       "      <td>...</td>\n",
       "      <td>NaN</td>\n",
       "      <td>NaN</td>\n",
       "      <td>NaN</td>\n",
       "      <td>NaN</td>\n",
       "      <td>NaN</td>\n",
       "      <td>NaN</td>\n",
       "      <td>NaN</td>\n",
       "      <td>NaN</td>\n",
       "      <td>NaN</td>\n",
       "      <td>NaN</td>\n",
       "    </tr>\n",
       "    <tr>\n",
       "      <th>0</th>\n",
       "      <td>3</td>\n",
       "      <td>5e6d09a2d94a76f6f5c24c8d811339d0</td>\n",
       "      <td>{\"cutoff\": \"quantile_0.1\", \"eval_fairness_grou...</td>\n",
       "      <td>21.996597</td>\n",
       "      <td>89710</td>\n",
       "      <td>1.0</td>\n",
       "      <td>0.058305</td>\n",
       "      <td>0.937635</td>\n",
       "      <td>0.051777</td>\n",
       "      <td>0.944914</td>\n",
       "      <td>...</td>\n",
       "      <td>0.120015</td>\n",
       "      <td>0.143425</td>\n",
       "      <td>0.934900</td>\n",
       "      <td>0.876595</td>\n",
       "      <td>0.021537</td>\n",
       "      <td>0.035996</td>\n",
       "      <td>0.939922</td>\n",
       "      <td>0.888145</td>\n",
       "      <td>20540.0</td>\n",
       "      <td>69170.0</td>\n",
       "    </tr>\n",
       "    <tr>\n",
       "      <th>0</th>\n",
       "      <td>3</td>\n",
       "      <td>5e6d09a2d94a76f6f5c24c8d811339d0</td>\n",
       "      <td>{\"cutoff\": \"quantile_0.25\", \"eval_fairness_gro...</td>\n",
       "      <td>21.996597</td>\n",
       "      <td>89710</td>\n",
       "      <td>1.0</td>\n",
       "      <td>0.144258</td>\n",
       "      <td>0.827932</td>\n",
       "      <td>0.129197</td>\n",
       "      <td>0.847934</td>\n",
       "      <td>...</td>\n",
       "      <td>NaN</td>\n",
       "      <td>NaN</td>\n",
       "      <td>NaN</td>\n",
       "      <td>NaN</td>\n",
       "      <td>NaN</td>\n",
       "      <td>NaN</td>\n",
       "      <td>NaN</td>\n",
       "      <td>NaN</td>\n",
       "      <td>NaN</td>\n",
       "      <td>NaN</td>\n",
       "    </tr>\n",
       "    <tr>\n",
       "      <th>0</th>\n",
       "      <td>3</td>\n",
       "      <td>5e6d09a2d94a76f6f5c24c8d811339d0</td>\n",
       "      <td>{\"cutoff\": \"quantile_0.25\", \"eval_fairness_gro...</td>\n",
       "      <td>21.996597</td>\n",
       "      <td>89710</td>\n",
       "      <td>1.0</td>\n",
       "      <td>0.144258</td>\n",
       "      <td>0.827932</td>\n",
       "      <td>0.129197</td>\n",
       "      <td>0.847934</td>\n",
       "      <td>...</td>\n",
       "      <td>0.126984</td>\n",
       "      <td>0.163814</td>\n",
       "      <td>0.838378</td>\n",
       "      <td>0.694120</td>\n",
       "      <td>0.064189</td>\n",
       "      <td>0.106893</td>\n",
       "      <td>0.849611</td>\n",
       "      <td>0.720413</td>\n",
       "      <td>20540.0</td>\n",
       "      <td>69170.0</td>\n",
       "    </tr>\n",
       "  </tbody>\n",
       "</table>\n",
       "<p>4 rows × 50 columns</p>\n",
       "</div>"
      ],
      "text/plain": [
       "  run_no                       universe_id  \\\n",
       "0      3  5e6d09a2d94a76f6f5c24c8d811339d0   \n",
       "0      3  5e6d09a2d94a76f6f5c24c8d811339d0   \n",
       "0      3  5e6d09a2d94a76f6f5c24c8d811339d0   \n",
       "0      3  5e6d09a2d94a76f6f5c24c8d811339d0   \n",
       "\n",
       "                                   universe_settings  execution_time  \\\n",
       "0  {\"cutoff\": \"quantile_0.1\", \"eval_fairness_grou...       21.996597   \n",
       "0  {\"cutoff\": \"quantile_0.1\", \"eval_fairness_grou...       21.996597   \n",
       "0  {\"cutoff\": \"quantile_0.25\", \"eval_fairness_gro...       21.996597   \n",
       "0  {\"cutoff\": \"quantile_0.25\", \"eval_fairness_gro...       21.996597   \n",
       "\n",
       "   test_size_n  test_size_frac  fair_main_equalized_odds_difference  \\\n",
       "0        89710             1.0                             0.058305   \n",
       "0        89710             1.0                             0.058305   \n",
       "0        89710             1.0                             0.144258   \n",
       "0        89710             1.0                             0.144258   \n",
       "\n",
       "   fair_main_equalized_odds_ratio  fair_main_demographic_parity_difference  \\\n",
       "0                        0.937635                                 0.051777   \n",
       "0                        0.937635                                 0.051777   \n",
       "0                        0.827932                                 0.129197   \n",
       "0                        0.827932                                 0.129197   \n",
       "\n",
       "   fair_main_demographic_parity_ratio  ...  perf_grp_precision_0  \\\n",
       "0                            0.944914  ...                   NaN   \n",
       "0                            0.944914  ...              0.120015   \n",
       "0                            0.847934  ...                   NaN   \n",
       "0                            0.847934  ...              0.126984   \n",
       "\n",
       "   perf_grp_precision_1  perf_grp_false positive rate_0  \\\n",
       "0                   NaN                             NaN   \n",
       "0              0.143425                        0.934900   \n",
       "0                   NaN                             NaN   \n",
       "0              0.163814                        0.838378   \n",
       "\n",
       "   perf_grp_false positive rate_1  perf_grp_false negative rate_0  \\\n",
       "0                             NaN                             NaN   \n",
       "0                        0.876595                        0.021537   \n",
       "0                             NaN                             NaN   \n",
       "0                        0.694120                        0.064189   \n",
       "\n",
       "   perf_grp_false negative rate_1  perf_grp_selection rate_0  \\\n",
       "0                             NaN                        NaN   \n",
       "0                        0.035996                   0.939922   \n",
       "0                             NaN                        NaN   \n",
       "0                        0.106893                   0.849611   \n",
       "\n",
       "   perf_grp_selection rate_1  perf_grp_count_0  perf_grp_count_1  \n",
       "0                        NaN               NaN               NaN  \n",
       "0                   0.888145           20540.0           69170.0  \n",
       "0                        NaN               NaN               NaN  \n",
       "0                   0.720413           20540.0           69170.0  \n",
       "\n",
       "[4 rows x 50 columns]"
      ]
     },
     "execution_count": 64,
     "metadata": {},
     "output_type": "execute_result"
    }
   ],
   "source": [
    "final_output = universe_analysis.generate_final_output(\n",
    "    y_pred_prob=probs_test,\n",
    "    y_test=y_true,\n",
    "    org_test=org_test,\n",
    "    filter_data=filter_sub_universe_data,\n",
    "    cp_metrics_df=cp_metrics_df,\n",
    "    save=True,\n",
    ")\n",
    "final_output"
   ]
  },
  {
   "cell_type": "code",
   "execution_count": null,
   "id": "8b80a1ff",
   "metadata": {
    "papermill": {
     "duration": 0.023427,
     "end_time": "2025-08-19T19:06:06.979176",
     "exception": false,
     "start_time": "2025-08-19T19:06:06.955749",
     "status": "completed"
    },
    "tags": []
   },
   "outputs": [],
   "source": []
  },
  {
   "cell_type": "code",
   "execution_count": null,
   "id": "275c9fad",
   "metadata": {
    "papermill": {
     "duration": 0.014402,
     "end_time": "2025-08-19T19:06:07.008809",
     "exception": false,
     "start_time": "2025-08-19T19:06:06.994407",
     "status": "completed"
    },
    "tags": []
   },
   "outputs": [],
   "source": []
  }
 ],
 "metadata": {
  "celltoolbar": "Tags",
  "kernelspec": {
   "display_name": "Python (CMA Fairness)",
   "language": "python",
   "name": "cma_fair_env"
  },
  "language_info": {
   "codemirror_mode": {
    "name": "ipython",
    "version": 3
   },
   "file_extension": ".py",
   "mimetype": "text/x-python",
   "name": "python",
   "nbconvert_exporter": "python",
   "pygments_lexer": "ipython3",
   "version": "3.10.12"
  },
  "papermill": {
   "default_parameters": {},
   "duration": 32.552938,
   "end_time": "2025-08-19T19:06:07.858726",
   "environment_variables": {},
   "exception": null,
   "input_path": "universe_analysis.ipynb",
   "output_path": "output/runs/3/notebooks/m_3-5e6d09a2d94a76f6f5c24c8d811339d0.ipynb",
   "parameters": {
    "output_dir": "output",
    "run_no": "3",
    "seed": "2023",
    "universe": "{\"cutoff\": [\"quantile_0.1\", \"quantile_0.25\"], \"eval_fairness_grouping\": [\"majority-minority\", \"nationality-all\"], \"exclude_features\": \"sex\", \"exclude_subgroups\": \"drop-non-german\", \"model\": \"penalized_logreg\", \"scale\": \"scale\", \"training_size\": \"1k\", \"training_year\": \"2010_14\"}",
    "universe_id": "5e6d09a2d94a76f6f5c24c8d811339d0"
   },
   "start_time": "2025-08-19T19:05:35.305788",
   "version": "2.6.0"
  }
 },
 "nbformat": 4,
 "nbformat_minor": 5
}