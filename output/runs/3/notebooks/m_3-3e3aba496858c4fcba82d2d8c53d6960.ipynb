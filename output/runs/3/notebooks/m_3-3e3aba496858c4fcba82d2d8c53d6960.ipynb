{
 "cells": [
  {
   "cell_type": "markdown",
   "id": "ef23dbb3",
   "metadata": {
    "papermill": {
     "duration": 0.009501,
     "end_time": "2025-08-19T18:39:39.292918",
     "exception": false,
     "start_time": "2025-08-19T18:39:39.283417",
     "status": "completed"
    },
    "tags": []
   },
   "source": [
    "# Setup"
   ]
  },
  {
   "cell_type": "code",
   "execution_count": 1,
   "id": "0bc8e7dc",
   "metadata": {
    "execution": {
     "iopub.execute_input": "2025-08-19T18:39:39.334543Z",
     "iopub.status.busy": "2025-08-19T18:39:39.334241Z",
     "iopub.status.idle": "2025-08-19T18:39:39.343611Z",
     "shell.execute_reply": "2025-08-19T18:39:39.343019Z"
    },
    "papermill": {
     "duration": 0.029047,
     "end_time": "2025-08-19T18:39:39.344821",
     "exception": false,
     "start_time": "2025-08-19T18:39:39.315774",
     "status": "completed"
    },
    "tags": []
   },
   "outputs": [
    {
     "name": "stdout",
     "output_type": "stream",
     "text": [
      "/dss/dsshome1/0C/ra93lal2/cma/CMA_Fairness_v2\n"
     ]
    },
    {
     "name": "stderr",
     "output_type": "stream",
     "text": [
      "/dss/dsshome1/0C/ra93lal2/.local/share/virtualenvs/CMA_Fairness_v2-3j10GkSs/lib/python3.10/site-packages/IPython/core/magics/osm.py:393: UserWarning: This is now an optional IPython functionality, using bookmarks requires you to install the `pickleshare` library.\n",
      "  bkms = self.shell.db.get('bookmarks', {})\n",
      "/dss/dsshome1/0C/ra93lal2/.local/share/virtualenvs/CMA_Fairness_v2-3j10GkSs/lib/python3.10/site-packages/IPython/core/magics/osm.py:417: UserWarning: This is now an optional IPython functionality, setting dhist requires you to install the `pickleshare` library.\n",
      "  self.shell.db['dhist'] = compress_dhist(dhist)[-100:]\n"
     ]
    }
   ],
   "source": [
    "%cd ~/cma/CMA_Fairness_v2"
   ]
  },
  {
   "cell_type": "markdown",
   "id": "9d235661",
   "metadata": {
    "papermill": {
     "duration": 0.008897,
     "end_time": "2025-08-19T18:39:39.362800",
     "exception": false,
     "start_time": "2025-08-19T18:39:39.353903",
     "status": "completed"
    },
    "tags": []
   },
   "source": [
    "The following cell holds the definition of our parameters, these values can be overriden by rendering the with e.g. the following command:\n",
    "\n",
    "papermill -p alpha 0.2 -p ratio 0.3 universe_analysis.ipynb output/test_run.ipynb"
   ]
  },
  {
   "cell_type": "code",
   "execution_count": 2,
   "id": "4a789d8e",
   "metadata": {
    "execution": {
     "iopub.execute_input": "2025-08-19T18:39:39.382026Z",
     "iopub.status.busy": "2025-08-19T18:39:39.381732Z",
     "iopub.status.idle": "2025-08-19T18:39:39.385686Z",
     "shell.execute_reply": "2025-08-19T18:39:39.385091Z"
    },
    "papermill": {
     "duration": 0.014965,
     "end_time": "2025-08-19T18:39:39.386671",
     "exception": false,
     "start_time": "2025-08-19T18:39:39.371706",
     "status": "completed"
    },
    "tags": []
   },
   "outputs": [
    {
     "name": "stdout",
     "output_type": "stream",
     "text": [
      "Current working directory: /dss/dsshome1/0C/ra93lal2/cma/CMA_Fairness_v2\n"
     ]
    }
   ],
   "source": [
    "import os\n",
    "print(\"Current working directory:\", os.getcwd())"
   ]
  },
  {
   "cell_type": "code",
   "execution_count": 3,
   "id": "4132aaed",
   "metadata": {
    "execution": {
     "iopub.execute_input": "2025-08-19T18:39:39.406331Z",
     "iopub.status.busy": "2025-08-19T18:39:39.406034Z",
     "iopub.status.idle": "2025-08-19T18:39:39.410324Z",
     "shell.execute_reply": "2025-08-19T18:39:39.409710Z"
    },
    "papermill": {
     "duration": 0.015559,
     "end_time": "2025-08-19T18:39:39.411410",
     "exception": false,
     "start_time": "2025-08-19T18:39:39.395851",
     "status": "completed"
    },
    "tags": [
     "parameters"
    ]
   },
   "outputs": [],
   "source": [
    "run_no = 0\n",
    "universe_id = \"test\"\n",
    "universe = {\n",
    "    \"training_size\": \"5k\", # \"25k\", \"5k\", \"1k\"\n",
    "    \"training_year\": \"2012_14\", # \"2014\", \"2012_14\", \"2010_14\"\n",
    "    \"scale\": \"scale\", # \"scale\", \"do-not-scale\",\n",
    "    \"model\": \"elasticnet\", # \"logreg\", \"penalized_logreg\", \"rf\", \"gbm\", \"elasticnet\"\n",
    "    \"cutoff\": [\"quantile_0.15\", \"quantile_0.30\"],\n",
    "    \"exclude_features\": \"age\", # \"none\", \"nationality\", \"sex\", \"nationality-sex\", \"age\"\n",
    "    \"exclude_subgroups\": \"drop-non-german\", # \"keep-all\", \"drop-non-german\"\n",
    "    \"eval_fairness_grouping\": [\"majority-minority\", \"nationality-all\"]\n",
    "}\n",
    "\n",
    "output_dir=\"./output\"\n",
    "seed=0"
   ]
  },
  {
   "cell_type": "code",
   "execution_count": 4,
   "id": "3bacec59",
   "metadata": {
    "execution": {
     "iopub.execute_input": "2025-08-19T18:39:39.431867Z",
     "iopub.status.busy": "2025-08-19T18:39:39.431574Z",
     "iopub.status.idle": "2025-08-19T18:39:39.435698Z",
     "shell.execute_reply": "2025-08-19T18:39:39.434969Z"
    },
    "papermill": {
     "duration": 0.015672,
     "end_time": "2025-08-19T18:39:39.437033",
     "exception": false,
     "start_time": "2025-08-19T18:39:39.421361",
     "status": "completed"
    },
    "tags": [
     "injected-parameters"
    ]
   },
   "outputs": [],
   "source": [
    "# Parameters\n",
    "universe_id = \"3e3aba496858c4fcba82d2d8c53d6960\"\n",
    "run_no = \"3\"\n",
    "universe = \"{\\\"cutoff\\\": [\\\"quantile_0.1\\\", \\\"quantile_0.25\\\"], \\\"eval_fairness_grouping\\\": [\\\"majority-minority\\\", \\\"nationality-all\\\"], \\\"exclude_features\\\": \\\"age\\\", \\\"exclude_subgroups\\\": \\\"drop-non-german\\\", \\\"model\\\": \\\"elasticnet\\\", \\\"scale\\\": \\\"do-not-scale\\\", \\\"training_size\\\": \\\"5k\\\", \\\"training_year\\\": \\\"2012_14\\\"}\"\n",
    "output_dir = \"output\"\n",
    "seed = \"2023\"\n"
   ]
  },
  {
   "cell_type": "code",
   "execution_count": 5,
   "id": "a5d7941f",
   "metadata": {
    "execution": {
     "iopub.execute_input": "2025-08-19T18:39:39.457503Z",
     "iopub.status.busy": "2025-08-19T18:39:39.457092Z",
     "iopub.status.idle": "2025-08-19T18:39:39.486317Z",
     "shell.execute_reply": "2025-08-19T18:39:39.485556Z"
    },
    "papermill": {
     "duration": 0.051346,
     "end_time": "2025-08-19T18:39:39.498312",
     "exception": false,
     "start_time": "2025-08-19T18:39:39.446966",
     "status": "completed"
    },
    "tags": []
   },
   "outputs": [],
   "source": [
    "import json\n",
    "if isinstance(universe, str):\n",
    "    universe = json.loads(universe)"
   ]
  },
  {
   "cell_type": "code",
   "execution_count": 6,
   "id": "7076ccb1",
   "metadata": {
    "execution": {
     "iopub.execute_input": "2025-08-19T18:39:39.566265Z",
     "iopub.status.busy": "2025-08-19T18:39:39.565876Z",
     "iopub.status.idle": "2025-08-19T18:39:39.638945Z",
     "shell.execute_reply": "2025-08-19T18:39:39.638266Z"
    },
    "papermill": {
     "duration": 0.103586,
     "end_time": "2025-08-19T18:39:39.640280",
     "exception": false,
     "start_time": "2025-08-19T18:39:39.536694",
     "status": "completed"
    },
    "tags": []
   },
   "outputs": [],
   "source": [
    "# Auto-reload the custom package\n",
    "%load_ext autoreload\n",
    "%autoreload 1\n",
    "%aimport fairness_multiverse"
   ]
  },
  {
   "cell_type": "code",
   "execution_count": 7,
   "id": "94c8eb93",
   "metadata": {
    "execution": {
     "iopub.execute_input": "2025-08-19T18:39:39.662563Z",
     "iopub.status.busy": "2025-08-19T18:39:39.662092Z",
     "iopub.status.idle": "2025-08-19T18:39:42.288098Z",
     "shell.execute_reply": "2025-08-19T18:39:42.287132Z"
    },
    "papermill": {
     "duration": 2.638194,
     "end_time": "2025-08-19T18:39:42.289813",
     "exception": false,
     "start_time": "2025-08-19T18:39:39.651619",
     "status": "completed"
    },
    "tags": []
   },
   "outputs": [],
   "source": [
    "from fairness_multiverse.universe import UniverseAnalysis\n",
    "\n",
    "universe_analysis = UniverseAnalysis(\n",
    "    run_no = run_no,\n",
    "    universe_id = universe_id,\n",
    "    universe = universe,\n",
    "    output_dir=output_dir,\n",
    ")"
   ]
  },
  {
   "cell_type": "code",
   "execution_count": 8,
   "id": "2a6381cf",
   "metadata": {
    "execution": {
     "iopub.execute_input": "2025-08-19T18:39:42.316897Z",
     "iopub.status.busy": "2025-08-19T18:39:42.316347Z",
     "iopub.status.idle": "2025-08-19T18:39:42.322350Z",
     "shell.execute_reply": "2025-08-19T18:39:42.321560Z"
    },
    "papermill": {
     "duration": 0.022043,
     "end_time": "2025-08-19T18:39:42.323813",
     "exception": false,
     "start_time": "2025-08-19T18:39:42.301770",
     "status": "completed"
    },
    "tags": []
   },
   "outputs": [
    {
     "name": "stdout",
     "output_type": "stream",
     "text": [
      "Using Seed: 2023\n"
     ]
    }
   ],
   "source": [
    "import numpy as np\n",
    "parsed_seed = int(seed)\n",
    "np.random.seed(parsed_seed)\n",
    "print(f\"Using Seed: {parsed_seed}\")"
   ]
  },
  {
   "cell_type": "markdown",
   "id": "b6e958b4",
   "metadata": {
    "papermill": {
     "duration": 0.009392,
     "end_time": "2025-08-19T18:39:42.342855",
     "exception": false,
     "start_time": "2025-08-19T18:39:42.333463",
     "status": "completed"
    },
    "tags": []
   },
   "source": [
    "# Loading Data"
   ]
  },
  {
   "cell_type": "code",
   "execution_count": 9,
   "id": "98701482",
   "metadata": {
    "execution": {
     "iopub.execute_input": "2025-08-19T18:39:42.362972Z",
     "iopub.status.busy": "2025-08-19T18:39:42.362549Z",
     "iopub.status.idle": "2025-08-19T18:39:57.305548Z",
     "shell.execute_reply": "2025-08-19T18:39:57.304280Z"
    },
    "papermill": {
     "duration": 14.955117,
     "end_time": "2025-08-19T18:39:57.307256",
     "exception": false,
     "start_time": "2025-08-19T18:39:42.352139",
     "status": "completed"
    },
    "tags": []
   },
   "outputs": [
    {
     "name": "stdout",
     "output_type": "stream",
     "text": [
      "Loading SIAB data from cache: data/siab_cached.csv.gz\n"
     ]
    },
    {
     "name": "stdout",
     "output_type": "stream",
     "text": [
      "(643690, 164)\n"
     ]
    }
   ],
   "source": [
    "from pathlib import Path\n",
    "import pandas as pd\n",
    "\n",
    "# File paths\n",
    "raw_file = Path(\"data/raw/siab.csv\")\n",
    "cache_file = Path(\"data/siab_cached.csv.gz\")\n",
    "\n",
    "# Ensure cache directory exists\n",
    "cache_file.parent.mkdir(parents=True, exist_ok=True)\n",
    "\n",
    "# Load with simple caching\n",
    "if cache_file.exists():\n",
    "    print(f\"Loading SIAB data from cache: {cache_file}\")\n",
    "    siab = pd.read_csv(cache_file, compression='gzip')\n",
    "else:\n",
    "    print(f\"Cache not found. Reading raw SIAB data: {raw_file}\")\n",
    "    siab = pd.read_csv(raw_file)\n",
    "    siab.to_csv(cache_file, index=False, compression='gzip')\n",
    "    print(f\"Cached SIAB data to: {cache_file}\")\n",
    "\n",
    "print(siab.shape)"
   ]
  },
  {
   "cell_type": "code",
   "execution_count": 10,
   "id": "058d2abb",
   "metadata": {
    "execution": {
     "iopub.execute_input": "2025-08-19T18:39:57.375141Z",
     "iopub.status.busy": "2025-08-19T18:39:57.374665Z",
     "iopub.status.idle": "2025-08-19T18:39:57.712208Z",
     "shell.execute_reply": "2025-08-19T18:39:57.711553Z"
    },
    "papermill": {
     "duration": 0.364637,
     "end_time": "2025-08-19T18:39:57.713561",
     "exception": false,
     "start_time": "2025-08-19T18:39:57.348924",
     "status": "completed"
    },
    "tags": []
   },
   "outputs": [
    {
     "data": {
      "text/html": [
       "<div>\n",
       "<style scoped>\n",
       "    .dataframe tbody tr th:only-of-type {\n",
       "        vertical-align: middle;\n",
       "    }\n",
       "\n",
       "    .dataframe tbody tr th {\n",
       "        vertical-align: top;\n",
       "    }\n",
       "\n",
       "    .dataframe thead th {\n",
       "        text-align: right;\n",
       "    }\n",
       "</style>\n",
       "<table border=\"1\" class=\"dataframe\">\n",
       "  <thead>\n",
       "    <tr style=\"text-align: right;\">\n",
       "      <th></th>\n",
       "      <th>persnr</th>\n",
       "      <th>year</th>\n",
       "      <th>nrEntry</th>\n",
       "      <th>ltue</th>\n",
       "      <th>employed_before</th>\n",
       "      <th>receipt_leh_before</th>\n",
       "      <th>receipt_lhg_before</th>\n",
       "      <th>se_before</th>\n",
       "      <th>ASU_notue_seeking_before</th>\n",
       "      <th>ASU_other_before</th>\n",
       "      <th>...</th>\n",
       "      <th>minijob_tot_dur_byage</th>\n",
       "      <th>ft_tot_dur_byage</th>\n",
       "      <th>befrist_tot_dur_byage</th>\n",
       "      <th>leih_tot_dur_byage</th>\n",
       "      <th>LHG_tot_dur_byage</th>\n",
       "      <th>LEH_tot_dur_byage</th>\n",
       "      <th>almp_tot_dur_byage</th>\n",
       "      <th>almp_aw_tot_dur_byage</th>\n",
       "      <th>se_tot_dur_byage</th>\n",
       "      <th>seeking1_tot_dur_byage</th>\n",
       "    </tr>\n",
       "  </thead>\n",
       "  <tbody>\n",
       "    <tr>\n",
       "      <th>0</th>\n",
       "      <td>7</td>\n",
       "      <td>2015</td>\n",
       "      <td>1</td>\n",
       "      <td>0</td>\n",
       "      <td>1</td>\n",
       "      <td>0</td>\n",
       "      <td>0</td>\n",
       "      <td>0</td>\n",
       "      <td>1</td>\n",
       "      <td>0</td>\n",
       "      <td>...</td>\n",
       "      <td>0.000000</td>\n",
       "      <td>0.000000</td>\n",
       "      <td>15.043478</td>\n",
       "      <td>0.000000</td>\n",
       "      <td>0.000000</td>\n",
       "      <td>0.000000</td>\n",
       "      <td>0.000000</td>\n",
       "      <td>0.000000</td>\n",
       "      <td>0.000000</td>\n",
       "      <td>0.000000</td>\n",
       "    </tr>\n",
       "    <tr>\n",
       "      <th>1</th>\n",
       "      <td>18</td>\n",
       "      <td>2010</td>\n",
       "      <td>1</td>\n",
       "      <td>1</td>\n",
       "      <td>0</td>\n",
       "      <td>0</td>\n",
       "      <td>0</td>\n",
       "      <td>0</td>\n",
       "      <td>0</td>\n",
       "      <td>0</td>\n",
       "      <td>...</td>\n",
       "      <td>0.000000</td>\n",
       "      <td>0.000000</td>\n",
       "      <td>0.000000</td>\n",
       "      <td>0.000000</td>\n",
       "      <td>0.000000</td>\n",
       "      <td>0.000000</td>\n",
       "      <td>0.000000</td>\n",
       "      <td>0.000000</td>\n",
       "      <td>0.000000</td>\n",
       "      <td>0.000000</td>\n",
       "    </tr>\n",
       "    <tr>\n",
       "      <th>2</th>\n",
       "      <td>18</td>\n",
       "      <td>2011</td>\n",
       "      <td>2</td>\n",
       "      <td>0</td>\n",
       "      <td>1</td>\n",
       "      <td>0</td>\n",
       "      <td>1</td>\n",
       "      <td>0</td>\n",
       "      <td>1</td>\n",
       "      <td>0</td>\n",
       "      <td>...</td>\n",
       "      <td>2.714286</td>\n",
       "      <td>2.714286</td>\n",
       "      <td>0.000000</td>\n",
       "      <td>0.000000</td>\n",
       "      <td>10.775510</td>\n",
       "      <td>0.000000</td>\n",
       "      <td>8.367347</td>\n",
       "      <td>0.000000</td>\n",
       "      <td>0.000000</td>\n",
       "      <td>9.836735</td>\n",
       "    </tr>\n",
       "    <tr>\n",
       "      <th>3</th>\n",
       "      <td>18</td>\n",
       "      <td>2012</td>\n",
       "      <td>3</td>\n",
       "      <td>0</td>\n",
       "      <td>1</td>\n",
       "      <td>0</td>\n",
       "      <td>1</td>\n",
       "      <td>0</td>\n",
       "      <td>1</td>\n",
       "      <td>0</td>\n",
       "      <td>...</td>\n",
       "      <td>4.200000</td>\n",
       "      <td>4.200000</td>\n",
       "      <td>0.000000</td>\n",
       "      <td>0.000000</td>\n",
       "      <td>12.100000</td>\n",
       "      <td>0.000000</td>\n",
       "      <td>9.400000</td>\n",
       "      <td>0.000000</td>\n",
       "      <td>0.000000</td>\n",
       "      <td>9.960000</td>\n",
       "    </tr>\n",
       "    <tr>\n",
       "      <th>4</th>\n",
       "      <td>18</td>\n",
       "      <td>2012</td>\n",
       "      <td>4</td>\n",
       "      <td>0</td>\n",
       "      <td>1</td>\n",
       "      <td>0</td>\n",
       "      <td>1</td>\n",
       "      <td>0</td>\n",
       "      <td>1</td>\n",
       "      <td>0</td>\n",
       "      <td>...</td>\n",
       "      <td>5.460000</td>\n",
       "      <td>5.460000</td>\n",
       "      <td>0.000000</td>\n",
       "      <td>0.000000</td>\n",
       "      <td>13.360000</td>\n",
       "      <td>0.000000</td>\n",
       "      <td>10.320000</td>\n",
       "      <td>0.000000</td>\n",
       "      <td>0.000000</td>\n",
       "      <td>10.280000</td>\n",
       "    </tr>\n",
       "    <tr>\n",
       "      <th>...</th>\n",
       "      <td>...</td>\n",
       "      <td>...</td>\n",
       "      <td>...</td>\n",
       "      <td>...</td>\n",
       "      <td>...</td>\n",
       "      <td>...</td>\n",
       "      <td>...</td>\n",
       "      <td>...</td>\n",
       "      <td>...</td>\n",
       "      <td>...</td>\n",
       "      <td>...</td>\n",
       "      <td>...</td>\n",
       "      <td>...</td>\n",
       "      <td>...</td>\n",
       "      <td>...</td>\n",
       "      <td>...</td>\n",
       "      <td>...</td>\n",
       "      <td>...</td>\n",
       "      <td>...</td>\n",
       "      <td>...</td>\n",
       "      <td>...</td>\n",
       "    </tr>\n",
       "    <tr>\n",
       "      <th>643685</th>\n",
       "      <td>1827860</td>\n",
       "      <td>2013</td>\n",
       "      <td>1</td>\n",
       "      <td>0</td>\n",
       "      <td>0</td>\n",
       "      <td>0</td>\n",
       "      <td>1</td>\n",
       "      <td>0</td>\n",
       "      <td>0</td>\n",
       "      <td>1</td>\n",
       "      <td>...</td>\n",
       "      <td>0.000000</td>\n",
       "      <td>0.000000</td>\n",
       "      <td>0.000000</td>\n",
       "      <td>0.000000</td>\n",
       "      <td>0.612903</td>\n",
       "      <td>0.000000</td>\n",
       "      <td>0.000000</td>\n",
       "      <td>0.000000</td>\n",
       "      <td>0.000000</td>\n",
       "      <td>0.000000</td>\n",
       "    </tr>\n",
       "    <tr>\n",
       "      <th>643686</th>\n",
       "      <td>1827860</td>\n",
       "      <td>2015</td>\n",
       "      <td>2</td>\n",
       "      <td>1</td>\n",
       "      <td>0</td>\n",
       "      <td>0</td>\n",
       "      <td>1</td>\n",
       "      <td>0</td>\n",
       "      <td>1</td>\n",
       "      <td>0</td>\n",
       "      <td>...</td>\n",
       "      <td>0.000000</td>\n",
       "      <td>0.000000</td>\n",
       "      <td>0.212121</td>\n",
       "      <td>0.212121</td>\n",
       "      <td>17.363636</td>\n",
       "      <td>0.000000</td>\n",
       "      <td>8.909091</td>\n",
       "      <td>0.000000</td>\n",
       "      <td>0.000000</td>\n",
       "      <td>7.121212</td>\n",
       "    </tr>\n",
       "    <tr>\n",
       "      <th>643687</th>\n",
       "      <td>1827860</td>\n",
       "      <td>2016</td>\n",
       "      <td>3</td>\n",
       "      <td>1</td>\n",
       "      <td>0</td>\n",
       "      <td>0</td>\n",
       "      <td>1</td>\n",
       "      <td>1</td>\n",
       "      <td>0</td>\n",
       "      <td>1</td>\n",
       "      <td>...</td>\n",
       "      <td>0.000000</td>\n",
       "      <td>0.000000</td>\n",
       "      <td>0.294118</td>\n",
       "      <td>0.205882</td>\n",
       "      <td>34.705882</td>\n",
       "      <td>0.000000</td>\n",
       "      <td>10.352941</td>\n",
       "      <td>1.705882</td>\n",
       "      <td>1.705882</td>\n",
       "      <td>23.911765</td>\n",
       "    </tr>\n",
       "    <tr>\n",
       "      <th>643688</th>\n",
       "      <td>1827869</td>\n",
       "      <td>2013</td>\n",
       "      <td>1</td>\n",
       "      <td>1</td>\n",
       "      <td>1</td>\n",
       "      <td>0</td>\n",
       "      <td>0</td>\n",
       "      <td>0</td>\n",
       "      <td>1</td>\n",
       "      <td>0</td>\n",
       "      <td>...</td>\n",
       "      <td>0.000000</td>\n",
       "      <td>0.000000</td>\n",
       "      <td>0.000000</td>\n",
       "      <td>0.000000</td>\n",
       "      <td>0.000000</td>\n",
       "      <td>0.525424</td>\n",
       "      <td>0.000000</td>\n",
       "      <td>0.000000</td>\n",
       "      <td>0.000000</td>\n",
       "      <td>0.000000</td>\n",
       "    </tr>\n",
       "    <tr>\n",
       "      <th>643689</th>\n",
       "      <td>1827869</td>\n",
       "      <td>2014</td>\n",
       "      <td>2</td>\n",
       "      <td>0</td>\n",
       "      <td>0</td>\n",
       "      <td>1</td>\n",
       "      <td>0</td>\n",
       "      <td>0</td>\n",
       "      <td>1</td>\n",
       "      <td>0</td>\n",
       "      <td>...</td>\n",
       "      <td>0.000000</td>\n",
       "      <td>0.666667</td>\n",
       "      <td>0.666667</td>\n",
       "      <td>0.000000</td>\n",
       "      <td>0.000000</td>\n",
       "      <td>8.950000</td>\n",
       "      <td>1.033333</td>\n",
       "      <td>0.083333</td>\n",
       "      <td>0.083333</td>\n",
       "      <td>8.133333</td>\n",
       "    </tr>\n",
       "  </tbody>\n",
       "</table>\n",
       "<p>643690 rows × 164 columns</p>\n",
       "</div>"
      ],
      "text/plain": [
       "         persnr  year  nrEntry  ltue  employed_before  receipt_leh_before  \\\n",
       "0             7  2015        1     0                1                   0   \n",
       "1            18  2010        1     1                0                   0   \n",
       "2            18  2011        2     0                1                   0   \n",
       "3            18  2012        3     0                1                   0   \n",
       "4            18  2012        4     0                1                   0   \n",
       "...         ...   ...      ...   ...              ...                 ...   \n",
       "643685  1827860  2013        1     0                0                   0   \n",
       "643686  1827860  2015        2     1                0                   0   \n",
       "643687  1827860  2016        3     1                0                   0   \n",
       "643688  1827869  2013        1     1                1                   0   \n",
       "643689  1827869  2014        2     0                0                   1   \n",
       "\n",
       "        receipt_lhg_before  se_before  ASU_notue_seeking_before  \\\n",
       "0                        0          0                         1   \n",
       "1                        0          0                         0   \n",
       "2                        1          0                         1   \n",
       "3                        1          0                         1   \n",
       "4                        1          0                         1   \n",
       "...                    ...        ...                       ...   \n",
       "643685                   1          0                         0   \n",
       "643686                   1          0                         1   \n",
       "643687                   1          1                         0   \n",
       "643688                   0          0                         1   \n",
       "643689                   0          0                         1   \n",
       "\n",
       "        ASU_other_before  ...  minijob_tot_dur_byage  ft_tot_dur_byage  \\\n",
       "0                      0  ...               0.000000          0.000000   \n",
       "1                      0  ...               0.000000          0.000000   \n",
       "2                      0  ...               2.714286          2.714286   \n",
       "3                      0  ...               4.200000          4.200000   \n",
       "4                      0  ...               5.460000          5.460000   \n",
       "...                  ...  ...                    ...               ...   \n",
       "643685                 1  ...               0.000000          0.000000   \n",
       "643686                 0  ...               0.000000          0.000000   \n",
       "643687                 1  ...               0.000000          0.000000   \n",
       "643688                 0  ...               0.000000          0.000000   \n",
       "643689                 0  ...               0.000000          0.666667   \n",
       "\n",
       "        befrist_tot_dur_byage  leih_tot_dur_byage  LHG_tot_dur_byage  \\\n",
       "0                   15.043478            0.000000           0.000000   \n",
       "1                    0.000000            0.000000           0.000000   \n",
       "2                    0.000000            0.000000          10.775510   \n",
       "3                    0.000000            0.000000          12.100000   \n",
       "4                    0.000000            0.000000          13.360000   \n",
       "...                       ...                 ...                ...   \n",
       "643685               0.000000            0.000000           0.612903   \n",
       "643686               0.212121            0.212121          17.363636   \n",
       "643687               0.294118            0.205882          34.705882   \n",
       "643688               0.000000            0.000000           0.000000   \n",
       "643689               0.666667            0.000000           0.000000   \n",
       "\n",
       "        LEH_tot_dur_byage  almp_tot_dur_byage  almp_aw_tot_dur_byage  \\\n",
       "0                0.000000            0.000000               0.000000   \n",
       "1                0.000000            0.000000               0.000000   \n",
       "2                0.000000            8.367347               0.000000   \n",
       "3                0.000000            9.400000               0.000000   \n",
       "4                0.000000           10.320000               0.000000   \n",
       "...                   ...                 ...                    ...   \n",
       "643685           0.000000            0.000000               0.000000   \n",
       "643686           0.000000            8.909091               0.000000   \n",
       "643687           0.000000           10.352941               1.705882   \n",
       "643688           0.525424            0.000000               0.000000   \n",
       "643689           8.950000            1.033333               0.083333   \n",
       "\n",
       "        se_tot_dur_byage  seeking1_tot_dur_byage  \n",
       "0               0.000000                0.000000  \n",
       "1               0.000000                0.000000  \n",
       "2               0.000000                9.836735  \n",
       "3               0.000000                9.960000  \n",
       "4               0.000000               10.280000  \n",
       "...                  ...                     ...  \n",
       "643685          0.000000                0.000000  \n",
       "643686          0.000000                7.121212  \n",
       "643687          1.705882               23.911765  \n",
       "643688          0.000000                0.000000  \n",
       "643689          0.083333                8.133333  \n",
       "\n",
       "[643690 rows x 164 columns]"
      ]
     },
     "execution_count": 10,
     "metadata": {},
     "output_type": "execute_result"
    }
   ],
   "source": [
    "siab"
   ]
  },
  {
   "cell_type": "markdown",
   "id": "1f87e805",
   "metadata": {
    "papermill": {
     "duration": 0.019887,
     "end_time": "2025-08-19T18:39:57.757343",
     "exception": false,
     "start_time": "2025-08-19T18:39:57.737456",
     "status": "completed"
    },
    "tags": []
   },
   "source": [
    "# Splitting Data and Setting Training Data Size"
   ]
  },
  {
   "cell_type": "code",
   "execution_count": 11,
   "id": "910ae358",
   "metadata": {
    "execution": {
     "iopub.execute_input": "2025-08-19T18:39:57.803133Z",
     "iopub.status.busy": "2025-08-19T18:39:57.802730Z",
     "iopub.status.idle": "2025-08-19T18:39:58.703961Z",
     "shell.execute_reply": "2025-08-19T18:39:58.702745Z"
    },
    "papermill": {
     "duration": 0.925739,
     "end_time": "2025-08-19T18:39:58.706494",
     "exception": false,
     "start_time": "2025-08-19T18:39:57.780755",
     "status": "completed"
    },
    "tags": []
   },
   "outputs": [],
   "source": [
    "from fairness_multiverse.universe import sample_by_year_size\n",
    "\n",
    "siab_train = sample_by_year_size(siab,\n",
    "                               training_year=universe[\"training_year\"],\n",
    "                               training_size=universe[\"training_size\"])"
   ]
  },
  {
   "cell_type": "code",
   "execution_count": 12,
   "id": "919c8ff5",
   "metadata": {
    "execution": {
     "iopub.execute_input": "2025-08-19T18:39:58.736276Z",
     "iopub.status.busy": "2025-08-19T18:39:58.735756Z",
     "iopub.status.idle": "2025-08-19T18:39:58.742579Z",
     "shell.execute_reply": "2025-08-19T18:39:58.741814Z"
    },
    "papermill": {
     "duration": 0.020458,
     "end_time": "2025-08-19T18:39:58.744095",
     "exception": false,
     "start_time": "2025-08-19T18:39:58.723637",
     "status": "completed"
    },
    "tags": []
   },
   "outputs": [
    {
     "data": {
      "text/plain": [
       "(5000, 164)"
      ]
     },
     "execution_count": 12,
     "metadata": {},
     "output_type": "execute_result"
    }
   ],
   "source": [
    "siab_train.shape"
   ]
  },
  {
   "cell_type": "code",
   "execution_count": 13,
   "id": "feb13bf4",
   "metadata": {
    "execution": {
     "iopub.execute_input": "2025-08-19T18:39:58.767120Z",
     "iopub.status.busy": "2025-08-19T18:39:58.766678Z",
     "iopub.status.idle": "2025-08-19T18:39:58.776029Z",
     "shell.execute_reply": "2025-08-19T18:39:58.775283Z"
    },
    "papermill": {
     "duration": 0.022148,
     "end_time": "2025-08-19T18:39:58.777302",
     "exception": false,
     "start_time": "2025-08-19T18:39:58.755154",
     "status": "completed"
    },
    "tags": []
   },
   "outputs": [
    {
     "data": {
      "text/plain": [
       "year\n",
       "2012    1667\n",
       "2013    1667\n",
       "2014    1666\n",
       "dtype: int64"
      ]
     },
     "metadata": {},
     "output_type": "display_data"
    }
   ],
   "source": [
    "display(siab_train.groupby(\"year\").size())"
   ]
  },
  {
   "cell_type": "code",
   "execution_count": 14,
   "id": "0997782f",
   "metadata": {
    "execution": {
     "iopub.execute_input": "2025-08-19T18:39:58.866824Z",
     "iopub.status.busy": "2025-08-19T18:39:58.866407Z",
     "iopub.status.idle": "2025-08-19T18:39:59.315625Z",
     "shell.execute_reply": "2025-08-19T18:39:59.314443Z"
    },
    "papermill": {
     "duration": 0.483906,
     "end_time": "2025-08-19T18:39:59.317672",
     "exception": false,
     "start_time": "2025-08-19T18:39:58.833766",
     "status": "completed"
    },
    "tags": []
   },
   "outputs": [],
   "source": [
    "#siab_train = siab_s[siab_s.year < 2015]\n",
    "siab_calib = siab[siab.year == 2015]\n",
    "siab_test = siab[siab.year == 2016]"
   ]
  },
  {
   "cell_type": "code",
   "execution_count": 15,
   "id": "2c1e4012",
   "metadata": {
    "execution": {
     "iopub.execute_input": "2025-08-19T18:39:59.349824Z",
     "iopub.status.busy": "2025-08-19T18:39:59.349491Z",
     "iopub.status.idle": "2025-08-19T18:39:59.353645Z",
     "shell.execute_reply": "2025-08-19T18:39:59.353017Z"
    },
    "papermill": {
     "duration": 0.023098,
     "end_time": "2025-08-19T18:39:59.355209",
     "exception": false,
     "start_time": "2025-08-19T18:39:59.332111",
     "status": "completed"
    },
    "tags": []
   },
   "outputs": [],
   "source": [
    "#siab_calib.shape"
   ]
  },
  {
   "cell_type": "code",
   "execution_count": 16,
   "id": "f66b54ca",
   "metadata": {
    "execution": {
     "iopub.execute_input": "2025-08-19T18:39:59.418959Z",
     "iopub.status.busy": "2025-08-19T18:39:59.418555Z",
     "iopub.status.idle": "2025-08-19T18:39:59.423438Z",
     "shell.execute_reply": "2025-08-19T18:39:59.422746Z"
    },
    "papermill": {
     "duration": 0.027812,
     "end_time": "2025-08-19T18:39:59.424812",
     "exception": false,
     "start_time": "2025-08-19T18:39:59.397000",
     "status": "completed"
    },
    "tags": []
   },
   "outputs": [],
   "source": [
    "#siab_test.shape"
   ]
  },
  {
   "cell_type": "code",
   "execution_count": 17,
   "id": "27e4384d",
   "metadata": {
    "execution": {
     "iopub.execute_input": "2025-08-19T18:39:59.478697Z",
     "iopub.status.busy": "2025-08-19T18:39:59.478363Z",
     "iopub.status.idle": "2025-08-19T18:39:59.495977Z",
     "shell.execute_reply": "2025-08-19T18:39:59.494297Z"
    },
    "papermill": {
     "duration": 0.059826,
     "end_time": "2025-08-19T18:39:59.501492",
     "exception": false,
     "start_time": "2025-08-19T18:39:59.441666",
     "status": "completed"
    },
    "tags": []
   },
   "outputs": [],
   "source": [
    "X_train = siab_train.iloc[:,4:164]\n",
    "y_train = siab_train.iloc[:, [3]]"
   ]
  },
  {
   "cell_type": "code",
   "execution_count": 18,
   "id": "08ee8389",
   "metadata": {
    "execution": {
     "iopub.execute_input": "2025-08-19T18:39:59.531430Z",
     "iopub.status.busy": "2025-08-19T18:39:59.531105Z",
     "iopub.status.idle": "2025-08-19T18:39:59.720884Z",
     "shell.execute_reply": "2025-08-19T18:39:59.719937Z"
    },
    "papermill": {
     "duration": 0.210252,
     "end_time": "2025-08-19T18:39:59.722736",
     "exception": false,
     "start_time": "2025-08-19T18:39:59.512484",
     "status": "completed"
    },
    "tags": []
   },
   "outputs": [],
   "source": [
    "X_calib = siab_calib.iloc[:,4:164]\n",
    "y_calib = siab_calib.iloc[:, [3]]"
   ]
  },
  {
   "cell_type": "code",
   "execution_count": 19,
   "id": "b7ff42e0",
   "metadata": {
    "execution": {
     "iopub.execute_input": "2025-08-19T18:39:59.808519Z",
     "iopub.status.busy": "2025-08-19T18:39:59.808109Z",
     "iopub.status.idle": "2025-08-19T18:39:59.912073Z",
     "shell.execute_reply": "2025-08-19T18:39:59.911145Z"
    },
    "papermill": {
     "duration": 0.172473,
     "end_time": "2025-08-19T18:39:59.913618",
     "exception": false,
     "start_time": "2025-08-19T18:39:59.741145",
     "status": "completed"
    },
    "tags": []
   },
   "outputs": [],
   "source": [
    "X_test = siab_test.iloc[:,4:164]\n",
    "y_true = siab_test.iloc[:, [3]]"
   ]
  },
  {
   "cell_type": "code",
   "execution_count": 20,
   "id": "0275101e",
   "metadata": {
    "execution": {
     "iopub.execute_input": "2025-08-19T18:40:00.000569Z",
     "iopub.status.busy": "2025-08-19T18:40:00.000158Z",
     "iopub.status.idle": "2025-08-19T18:40:00.162261Z",
     "shell.execute_reply": "2025-08-19T18:40:00.161444Z"
    },
    "papermill": {
     "duration": 0.236516,
     "end_time": "2025-08-19T18:40:00.163789",
     "exception": false,
     "start_time": "2025-08-19T18:39:59.927273",
     "status": "completed"
    },
    "tags": []
   },
   "outputs": [],
   "source": [
    "# Auxiliary data needed downstream in the pipeline\n",
    "\n",
    "org_train = X_train.copy()\n",
    "org_test = X_test.copy()\n",
    "org_calib = X_calib.copy()"
   ]
  },
  {
   "cell_type": "markdown",
   "id": "b461e618",
   "metadata": {
    "papermill": {
     "duration": 0.046923,
     "end_time": "2025-08-19T18:40:00.221291",
     "exception": false,
     "start_time": "2025-08-19T18:40:00.174368",
     "status": "completed"
    },
    "tags": []
   },
   "source": [
    "# Preprocessing Data"
   ]
  },
  {
   "cell_type": "code",
   "execution_count": 21,
   "id": "78e74c4b",
   "metadata": {
    "execution": {
     "iopub.execute_input": "2025-08-19T18:40:00.303233Z",
     "iopub.status.busy": "2025-08-19T18:40:00.302769Z",
     "iopub.status.idle": "2025-08-19T18:40:00.307881Z",
     "shell.execute_reply": "2025-08-19T18:40:00.307107Z"
    },
    "papermill": {
     "duration": 0.025208,
     "end_time": "2025-08-19T18:40:00.309249",
     "exception": false,
     "start_time": "2025-08-19T18:40:00.284041",
     "status": "completed"
    },
    "tags": []
   },
   "outputs": [],
   "source": [
    "# EXCLUDE PROTECTED FEATURES\n",
    "# --------------------------\n",
    "\n",
    "excluded_features = universe[\"exclude_features\"].split(\"-\")\n",
    "excluded_features_dictionary = {\n",
    "    \"nationality\": [\"maxdeutsch1\", \"maxdeutsch.Missing.\"],\n",
    "    \"sex\": [\"frau1\"],\n",
    "    \"age\": [\"age\"],\n",
    "}"
   ]
  },
  {
   "cell_type": "code",
   "execution_count": 22,
   "id": "f8e63555",
   "metadata": {
    "execution": {
     "iopub.execute_input": "2025-08-19T18:40:00.388641Z",
     "iopub.status.busy": "2025-08-19T18:40:00.388200Z",
     "iopub.status.idle": "2025-08-19T18:40:00.393194Z",
     "shell.execute_reply": "2025-08-19T18:40:00.392517Z"
    },
    "papermill": {
     "duration": 0.049882,
     "end_time": "2025-08-19T18:40:00.394661",
     "exception": false,
     "start_time": "2025-08-19T18:40:00.344779",
     "status": "completed"
    },
    "tags": []
   },
   "outputs": [],
   "source": [
    "excluded_features_columns = [\n",
    "    excluded_features_dictionary[f] for f in excluded_features if len(f) > 0 and f != \"none\"\n",
    "]"
   ]
  },
  {
   "cell_type": "code",
   "execution_count": 23,
   "id": "da781f7c",
   "metadata": {
    "execution": {
     "iopub.execute_input": "2025-08-19T18:40:00.440304Z",
     "iopub.status.busy": "2025-08-19T18:40:00.439884Z",
     "iopub.status.idle": "2025-08-19T18:40:00.444121Z",
     "shell.execute_reply": "2025-08-19T18:40:00.443513Z"
    },
    "papermill": {
     "duration": 0.029255,
     "end_time": "2025-08-19T18:40:00.446747",
     "exception": false,
     "start_time": "2025-08-19T18:40:00.417492",
     "status": "completed"
    },
    "tags": []
   },
   "outputs": [],
   "source": [
    "from fairness_multiverse.universe import flatten_once\n",
    "\n",
    "excluded_features_columns = flatten_once(excluded_features_columns)"
   ]
  },
  {
   "cell_type": "code",
   "execution_count": 24,
   "id": "37fef0f0",
   "metadata": {
    "execution": {
     "iopub.execute_input": "2025-08-19T18:40:00.492727Z",
     "iopub.status.busy": "2025-08-19T18:40:00.492111Z",
     "iopub.status.idle": "2025-08-19T18:40:00.538912Z",
     "shell.execute_reply": "2025-08-19T18:40:00.538154Z"
    },
    "papermill": {
     "duration": 0.073214,
     "end_time": "2025-08-19T18:40:00.540697",
     "exception": false,
     "start_time": "2025-08-19T18:40:00.467483",
     "status": "completed"
    },
    "tags": []
   },
   "outputs": [
    {
     "name": "stdout",
     "output_type": "stream",
     "text": [
      "Dropping features: ['age']\n"
     ]
    }
   ],
   "source": [
    "if len(excluded_features_columns) > 0:\n",
    "    print(f\"Dropping features: {excluded_features_columns}\")\n",
    "    X_train.drop(excluded_features_columns, axis=1, inplace=True)"
   ]
  },
  {
   "cell_type": "code",
   "execution_count": 25,
   "id": "d029e3e9",
   "metadata": {
    "execution": {
     "iopub.execute_input": "2025-08-19T18:40:00.612909Z",
     "iopub.status.busy": "2025-08-19T18:40:00.612497Z",
     "iopub.status.idle": "2025-08-19T18:40:00.687082Z",
     "shell.execute_reply": "2025-08-19T18:40:00.685719Z"
    },
    "papermill": {
     "duration": 0.11283,
     "end_time": "2025-08-19T18:40:00.693912",
     "exception": false,
     "start_time": "2025-08-19T18:40:00.581082",
     "status": "completed"
    },
    "tags": []
   },
   "outputs": [
    {
     "name": "stdout",
     "output_type": "stream",
     "text": [
      "Dropping features: ['age']\n"
     ]
    }
   ],
   "source": [
    "if len(excluded_features_columns) > 0:\n",
    "    print(f\"Dropping features: {excluded_features_columns}\")\n",
    "    X_test.drop(excluded_features_columns, axis=1, inplace=True)"
   ]
  },
  {
   "cell_type": "code",
   "execution_count": 26,
   "id": "01d571f0",
   "metadata": {
    "execution": {
     "iopub.execute_input": "2025-08-19T18:40:00.717935Z",
     "iopub.status.busy": "2025-08-19T18:40:00.717510Z",
     "iopub.status.idle": "2025-08-19T18:40:00.854199Z",
     "shell.execute_reply": "2025-08-19T18:40:00.853441Z"
    },
    "papermill": {
     "duration": 0.14964,
     "end_time": "2025-08-19T18:40:00.855563",
     "exception": false,
     "start_time": "2025-08-19T18:40:00.705923",
     "status": "completed"
    },
    "tags": []
   },
   "outputs": [
    {
     "name": "stdout",
     "output_type": "stream",
     "text": [
      "Dropping features: ['age']\n"
     ]
    }
   ],
   "source": [
    "if len(excluded_features_columns) > 0:\n",
    "    print(f\"Dropping features: {excluded_features_columns}\")\n",
    "    X_calib.drop(excluded_features_columns, axis=1, inplace=True)"
   ]
  },
  {
   "cell_type": "code",
   "execution_count": 27,
   "id": "3037356e",
   "metadata": {
    "execution": {
     "iopub.execute_input": "2025-08-19T18:40:00.879570Z",
     "iopub.status.busy": "2025-08-19T18:40:00.879123Z",
     "iopub.status.idle": "2025-08-19T18:40:00.883623Z",
     "shell.execute_reply": "2025-08-19T18:40:00.882874Z"
    },
    "papermill": {
     "duration": 0.017414,
     "end_time": "2025-08-19T18:40:00.884805",
     "exception": false,
     "start_time": "2025-08-19T18:40:00.867391",
     "status": "completed"
    },
    "tags": []
   },
   "outputs": [],
   "source": [
    "# EXCLUDE CERTAIN SUBGROUPS\n",
    "# -------------------------\n",
    "\n",
    "mode = universe.get(\"exclude_subgroups\", \"keep-all\") # Defaults to \"keep-all\" if the key is missing."
   ]
  },
  {
   "cell_type": "code",
   "execution_count": 28,
   "id": "9d1e63fd",
   "metadata": {
    "execution": {
     "iopub.execute_input": "2025-08-19T18:40:00.934513Z",
     "iopub.status.busy": "2025-08-19T18:40:00.934105Z",
     "iopub.status.idle": "2025-08-19T18:40:00.939908Z",
     "shell.execute_reply": "2025-08-19T18:40:00.939238Z"
    },
    "papermill": {
     "duration": 0.04555,
     "end_time": "2025-08-19T18:40:00.941046",
     "exception": false,
     "start_time": "2025-08-19T18:40:00.895496",
     "status": "completed"
    },
    "tags": []
   },
   "outputs": [],
   "source": [
    "if mode == \"keep-all\":\n",
    "    keep_mask = pd.Series(True, index=org_train.index)\n",
    "\n",
    "elif mode == \"drop-non-german\":\n",
    "    keep_mask = (org_train[\"maxdeutsch1\"] == 1) & (org_train[\"maxdeutsch.Missing.\"] == 0)\n",
    "\n",
    "else:\n",
    "    raise ValueError(f\"Unsupported mode for exclude_subgroups: {mode}\")"
   ]
  },
  {
   "cell_type": "code",
   "execution_count": 29,
   "id": "d3b65474",
   "metadata": {
    "execution": {
     "iopub.execute_input": "2025-08-19T18:40:00.977060Z",
     "iopub.status.busy": "2025-08-19T18:40:00.976656Z",
     "iopub.status.idle": "2025-08-19T18:40:00.982459Z",
     "shell.execute_reply": "2025-08-19T18:40:00.981778Z"
    },
    "papermill": {
     "duration": 0.018756,
     "end_time": "2025-08-19T18:40:00.983623",
     "exception": false,
     "start_time": "2025-08-19T18:40:00.964867",
     "status": "completed"
    },
    "tags": []
   },
   "outputs": [
    {
     "name": "stdout",
     "output_type": "stream",
     "text": [
      "Dropping 665 rows (13.30%) where mode='drop-non-german'\n"
     ]
    }
   ],
   "source": [
    "n_drop = (~keep_mask).sum() # Calculates how many rows are set to be dropped\n",
    "if n_drop > 0:\n",
    "    pct = n_drop / len(keep_mask) * 100\n",
    "    print(f\"Dropping {n_drop} rows ({pct:.2f}%) where mode='{mode}'\")"
   ]
  },
  {
   "cell_type": "code",
   "execution_count": 30,
   "id": "f44389b3",
   "metadata": {
    "execution": {
     "iopub.execute_input": "2025-08-19T18:40:01.034640Z",
     "iopub.status.busy": "2025-08-19T18:40:01.034250Z",
     "iopub.status.idle": "2025-08-19T18:40:01.042495Z",
     "shell.execute_reply": "2025-08-19T18:40:01.041785Z"
    },
    "papermill": {
     "duration": 0.034848,
     "end_time": "2025-08-19T18:40:01.043782",
     "exception": false,
     "start_time": "2025-08-19T18:40:01.008934",
     "status": "completed"
    },
    "tags": []
   },
   "outputs": [],
   "source": [
    "X_train = X_train[keep_mask]"
   ]
  },
  {
   "cell_type": "code",
   "execution_count": 31,
   "id": "ceca8c2a",
   "metadata": {
    "execution": {
     "iopub.execute_input": "2025-08-19T18:40:01.081320Z",
     "iopub.status.busy": "2025-08-19T18:40:01.079930Z",
     "iopub.status.idle": "2025-08-19T18:40:01.088243Z",
     "shell.execute_reply": "2025-08-19T18:40:01.086838Z"
    },
    "papermill": {
     "duration": 0.034567,
     "end_time": "2025-08-19T18:40:01.090135",
     "exception": false,
     "start_time": "2025-08-19T18:40:01.055568",
     "status": "completed"
    },
    "tags": []
   },
   "outputs": [],
   "source": [
    "y_train = y_train[keep_mask]"
   ]
  },
  {
   "cell_type": "markdown",
   "id": "04d31e2f",
   "metadata": {
    "papermill": {
     "duration": 0.010777,
     "end_time": "2025-08-19T18:40:01.114451",
     "exception": false,
     "start_time": "2025-08-19T18:40:01.103674",
     "status": "completed"
    },
    "tags": []
   },
   "source": [
    "# Model Training"
   ]
  },
  {
   "cell_type": "code",
   "execution_count": 32,
   "id": "db991733",
   "metadata": {
    "execution": {
     "iopub.execute_input": "2025-08-19T18:40:01.198713Z",
     "iopub.status.busy": "2025-08-19T18:40:01.198305Z",
     "iopub.status.idle": "2025-08-19T18:40:01.394168Z",
     "shell.execute_reply": "2025-08-19T18:40:01.393464Z"
    },
    "papermill": {
     "duration": 0.230722,
     "end_time": "2025-08-19T18:40:01.395693",
     "exception": false,
     "start_time": "2025-08-19T18:40:01.164971",
     "status": "completed"
    },
    "tags": []
   },
   "outputs": [],
   "source": [
    "from sklearn.linear_model import LogisticRegression\n",
    "from sklearn.ensemble import GradientBoostingClassifier, RandomForestClassifier\n",
    "\n",
    "if (universe[\"model\"] == \"logreg\"):\n",
    "    model = LogisticRegression() #penalty=\"none\", solver=\"newton-cg\", max_iter=1)\n",
    "elif (universe[\"model\"] == \"penalized_logreg\"):\n",
    "    model = LogisticRegression(penalty=\"l2\", C=0.1) #, solver=\"newton-cg\", max_iter=1)\n",
    "elif (universe[\"model\"] == \"rf\"):\n",
    "    model = RandomForestClassifier() # n_estimators=100, n_jobs=-1\n",
    "elif (universe[\"model\"] == \"gbm\"):\n",
    "    model = GradientBoostingClassifier()\n",
    "elif (universe[\"model\"] == \"elasticnet\"):\n",
    "    model = LogisticRegression(penalty = 'elasticnet', solver = 'saga', l1_ratio = 0.5) # max_iter=5000\n",
    "else:\n",
    "    raise \"Unsupported universe.model\""
   ]
  },
  {
   "cell_type": "code",
   "execution_count": 33,
   "id": "a4b5cd25",
   "metadata": {
    "execution": {
     "iopub.execute_input": "2025-08-19T18:40:01.433242Z",
     "iopub.status.busy": "2025-08-19T18:40:01.432829Z",
     "iopub.status.idle": "2025-08-19T18:40:01.438554Z",
     "shell.execute_reply": "2025-08-19T18:40:01.437475Z"
    },
    "papermill": {
     "duration": 0.032993,
     "end_time": "2025-08-19T18:40:01.439868",
     "exception": false,
     "start_time": "2025-08-19T18:40:01.406875",
     "status": "completed"
    },
    "tags": []
   },
   "outputs": [],
   "source": [
    "from sklearn.pipeline import Pipeline\n",
    "from sklearn.preprocessing import StandardScaler\n",
    "\n",
    "model = Pipeline([\n",
    "    #(\"continuous_processor\", continuous_processor),\n",
    "    #(\"categorical_preprocessor\", categorical_preprocessor),\n",
    "    (\"scale\", StandardScaler() if universe[\"scale\"] == \"scale\" else None), \n",
    "    (\"model\", model),\n",
    "])"
   ]
  },
  {
   "cell_type": "code",
   "execution_count": 34,
   "id": "283a904d",
   "metadata": {
    "execution": {
     "iopub.execute_input": "2025-08-19T18:40:01.463815Z",
     "iopub.status.busy": "2025-08-19T18:40:01.463402Z",
     "iopub.status.idle": "2025-08-19T18:40:02.806452Z",
     "shell.execute_reply": "2025-08-19T18:40:02.805611Z"
    },
    "papermill": {
     "duration": 1.35651,
     "end_time": "2025-08-19T18:40:02.807635",
     "exception": false,
     "start_time": "2025-08-19T18:40:01.451125",
     "status": "completed"
    },
    "tags": []
   },
   "outputs": [
    {
     "name": "stderr",
     "output_type": "stream",
     "text": [
      "/dss/dsshome1/0C/ra93lal2/.local/share/virtualenvs/CMA_Fairness_v2-3j10GkSs/lib/python3.10/site-packages/sklearn/linear_model/_sag.py:350: ConvergenceWarning: The max_iter was reached which means the coef_ did not converge\n",
      "  warnings.warn(\n"
     ]
    },
    {
     "data": {
      "text/html": [
       "<style>#sk-container-id-1 {color: black;background-color: white;}#sk-container-id-1 pre{padding: 0;}#sk-container-id-1 div.sk-toggleable {background-color: white;}#sk-container-id-1 label.sk-toggleable__label {cursor: pointer;display: block;width: 100%;margin-bottom: 0;padding: 0.3em;box-sizing: border-box;text-align: center;}#sk-container-id-1 label.sk-toggleable__label-arrow:before {content: \"▸\";float: left;margin-right: 0.25em;color: #696969;}#sk-container-id-1 label.sk-toggleable__label-arrow:hover:before {color: black;}#sk-container-id-1 div.sk-estimator:hover label.sk-toggleable__label-arrow:before {color: black;}#sk-container-id-1 div.sk-toggleable__content {max-height: 0;max-width: 0;overflow: hidden;text-align: left;background-color: #f0f8ff;}#sk-container-id-1 div.sk-toggleable__content pre {margin: 0.2em;color: black;border-radius: 0.25em;background-color: #f0f8ff;}#sk-container-id-1 input.sk-toggleable__control:checked~div.sk-toggleable__content {max-height: 200px;max-width: 100%;overflow: auto;}#sk-container-id-1 input.sk-toggleable__control:checked~label.sk-toggleable__label-arrow:before {content: \"▾\";}#sk-container-id-1 div.sk-estimator input.sk-toggleable__control:checked~label.sk-toggleable__label {background-color: #d4ebff;}#sk-container-id-1 div.sk-label input.sk-toggleable__control:checked~label.sk-toggleable__label {background-color: #d4ebff;}#sk-container-id-1 input.sk-hidden--visually {border: 0;clip: rect(1px 1px 1px 1px);clip: rect(1px, 1px, 1px, 1px);height: 1px;margin: -1px;overflow: hidden;padding: 0;position: absolute;width: 1px;}#sk-container-id-1 div.sk-estimator {font-family: monospace;background-color: #f0f8ff;border: 1px dotted black;border-radius: 0.25em;box-sizing: border-box;margin-bottom: 0.5em;}#sk-container-id-1 div.sk-estimator:hover {background-color: #d4ebff;}#sk-container-id-1 div.sk-parallel-item::after {content: \"\";width: 100%;border-bottom: 1px solid gray;flex-grow: 1;}#sk-container-id-1 div.sk-label:hover label.sk-toggleable__label {background-color: #d4ebff;}#sk-container-id-1 div.sk-serial::before {content: \"\";position: absolute;border-left: 1px solid gray;box-sizing: border-box;top: 0;bottom: 0;left: 50%;z-index: 0;}#sk-container-id-1 div.sk-serial {display: flex;flex-direction: column;align-items: center;background-color: white;padding-right: 0.2em;padding-left: 0.2em;position: relative;}#sk-container-id-1 div.sk-item {position: relative;z-index: 1;}#sk-container-id-1 div.sk-parallel {display: flex;align-items: stretch;justify-content: center;background-color: white;position: relative;}#sk-container-id-1 div.sk-item::before, #sk-container-id-1 div.sk-parallel-item::before {content: \"\";position: absolute;border-left: 1px solid gray;box-sizing: border-box;top: 0;bottom: 0;left: 50%;z-index: -1;}#sk-container-id-1 div.sk-parallel-item {display: flex;flex-direction: column;z-index: 1;position: relative;background-color: white;}#sk-container-id-1 div.sk-parallel-item:first-child::after {align-self: flex-end;width: 50%;}#sk-container-id-1 div.sk-parallel-item:last-child::after {align-self: flex-start;width: 50%;}#sk-container-id-1 div.sk-parallel-item:only-child::after {width: 0;}#sk-container-id-1 div.sk-dashed-wrapped {border: 1px dashed gray;margin: 0 0.4em 0.5em 0.4em;box-sizing: border-box;padding-bottom: 0.4em;background-color: white;}#sk-container-id-1 div.sk-label label {font-family: monospace;font-weight: bold;display: inline-block;line-height: 1.2em;}#sk-container-id-1 div.sk-label-container {text-align: center;}#sk-container-id-1 div.sk-container {/* jupyter's `normalize.less` sets `[hidden] { display: none; }` but bootstrap.min.css set `[hidden] { display: none !important; }` so we also need the `!important` here to be able to override the default hidden behavior on the sphinx rendered scikit-learn.org. See: https://github.com/scikit-learn/scikit-learn/issues/21755 */display: inline-block !important;position: relative;}#sk-container-id-1 div.sk-text-repr-fallback {display: none;}</style><div id=\"sk-container-id-1\" class=\"sk-top-container\"><div class=\"sk-text-repr-fallback\"><pre>Pipeline(steps=[(&#x27;scale&#x27;, None),\n",
       "                (&#x27;model&#x27;,\n",
       "                 LogisticRegression(l1_ratio=0.5, penalty=&#x27;elasticnet&#x27;,\n",
       "                                    solver=&#x27;saga&#x27;))])</pre><b>In a Jupyter environment, please rerun this cell to show the HTML representation or trust the notebook. <br />On GitHub, the HTML representation is unable to render, please try loading this page with nbviewer.org.</b></div><div class=\"sk-container\" hidden><div class=\"sk-item sk-dashed-wrapped\"><div class=\"sk-label-container\"><div class=\"sk-label sk-toggleable\"><input class=\"sk-toggleable__control sk-hidden--visually\" id=\"sk-estimator-id-1\" type=\"checkbox\" ><label for=\"sk-estimator-id-1\" class=\"sk-toggleable__label sk-toggleable__label-arrow\">Pipeline</label><div class=\"sk-toggleable__content\"><pre>Pipeline(steps=[(&#x27;scale&#x27;, None),\n",
       "                (&#x27;model&#x27;,\n",
       "                 LogisticRegression(l1_ratio=0.5, penalty=&#x27;elasticnet&#x27;,\n",
       "                                    solver=&#x27;saga&#x27;))])</pre></div></div></div><div class=\"sk-serial\"><div class=\"sk-item\"><div class=\"sk-estimator sk-toggleable\"><input class=\"sk-toggleable__control sk-hidden--visually\" id=\"sk-estimator-id-2\" type=\"checkbox\" ><label for=\"sk-estimator-id-2\" class=\"sk-toggleable__label sk-toggleable__label-arrow\">None</label><div class=\"sk-toggleable__content\"><pre>None</pre></div></div></div><div class=\"sk-item\"><div class=\"sk-estimator sk-toggleable\"><input class=\"sk-toggleable__control sk-hidden--visually\" id=\"sk-estimator-id-3\" type=\"checkbox\" ><label for=\"sk-estimator-id-3\" class=\"sk-toggleable__label sk-toggleable__label-arrow\">LogisticRegression</label><div class=\"sk-toggleable__content\"><pre>LogisticRegression(l1_ratio=0.5, penalty=&#x27;elasticnet&#x27;, solver=&#x27;saga&#x27;)</pre></div></div></div></div></div></div></div>"
      ],
      "text/plain": [
       "Pipeline(steps=[('scale', None),\n",
       "                ('model',\n",
       "                 LogisticRegression(l1_ratio=0.5, penalty='elasticnet',\n",
       "                                    solver='saga'))])"
      ]
     },
     "execution_count": 34,
     "metadata": {},
     "output_type": "execute_result"
    }
   ],
   "source": [
    "model.fit(X_train, y_train.values.ravel())"
   ]
  },
  {
   "cell_type": "code",
   "execution_count": 35,
   "id": "6e15e313",
   "metadata": {
    "execution": {
     "iopub.execute_input": "2025-08-19T18:40:02.855489Z",
     "iopub.status.busy": "2025-08-19T18:40:02.855053Z",
     "iopub.status.idle": "2025-08-19T18:40:02.965931Z",
     "shell.execute_reply": "2025-08-19T18:40:02.965131Z"
    },
    "papermill": {
     "duration": 0.138538,
     "end_time": "2025-08-19T18:40:02.967185",
     "exception": false,
     "start_time": "2025-08-19T18:40:02.828647",
     "status": "completed"
    },
    "tags": []
   },
   "outputs": [
    {
     "data": {
      "text/plain": [
       "0.8661241779065879"
      ]
     },
     "execution_count": 35,
     "metadata": {},
     "output_type": "execute_result"
    }
   ],
   "source": [
    "from fairness_multiverse.universe import predict_w_threshold\n",
    "\n",
    "probs_test = model.predict_proba(X_test)\n",
    "\n",
    "'''\n",
    "Below code returns a boolean array (or binary 0/1 array depending on how it’s used) where each element \n",
    "is True if the probability of class 1 is greater than or equal to the threshold, and False otherwise.\n",
    "'''\n",
    "y_pred_default = predict_w_threshold(probs_test, 0.5)\n",
    "\n",
    "from sklearn.metrics import accuracy_score\n",
    "\n",
    "# Naive prediction\n",
    "accuracy_score(y_true = y_true, y_pred = y_pred_default)"
   ]
  },
  {
   "cell_type": "code",
   "execution_count": 36,
   "id": "6f14067c",
   "metadata": {
    "execution": {
     "iopub.execute_input": "2025-08-19T18:40:03.022731Z",
     "iopub.status.busy": "2025-08-19T18:40:03.022311Z",
     "iopub.status.idle": "2025-08-19T18:40:03.111422Z",
     "shell.execute_reply": "2025-08-19T18:40:03.110635Z"
    },
    "papermill": {
     "duration": 0.121223,
     "end_time": "2025-08-19T18:40:03.112773",
     "exception": false,
     "start_time": "2025-08-19T18:40:02.991550",
     "status": "completed"
    },
    "tags": []
   },
   "outputs": [
    {
     "data": {
      "text/plain": [
       "array([0, 0, 0, ..., 0, 0, 0])"
      ]
     },
     "execution_count": 36,
     "metadata": {},
     "output_type": "execute_result"
    }
   ],
   "source": [
    "model.predict(X_test)"
   ]
  },
  {
   "cell_type": "markdown",
   "id": "3759920c",
   "metadata": {
    "papermill": {
     "duration": 0.015116,
     "end_time": "2025-08-19T18:40:03.141318",
     "exception": false,
     "start_time": "2025-08-19T18:40:03.126202",
     "status": "completed"
    },
    "tags": []
   },
   "source": [
    "# Conformal Prediction"
   ]
  },
  {
   "cell_type": "code",
   "execution_count": 37,
   "id": "14b27f59",
   "metadata": {
    "execution": {
     "iopub.execute_input": "2025-08-19T18:40:03.180044Z",
     "iopub.status.busy": "2025-08-19T18:40:03.179619Z",
     "iopub.status.idle": "2025-08-19T18:40:03.184252Z",
     "shell.execute_reply": "2025-08-19T18:40:03.183421Z"
    },
    "papermill": {
     "duration": 0.021845,
     "end_time": "2025-08-19T18:40:03.185436",
     "exception": false,
     "start_time": "2025-08-19T18:40:03.163591",
     "status": "completed"
    },
    "tags": []
   },
   "outputs": [],
   "source": [
    "# Miscoverage level for conformal prediction (10% allowed error rate => 90% target coverage)\n",
    "alpha = 0.1"
   ]
  },
  {
   "cell_type": "code",
   "execution_count": 38,
   "id": "59102472",
   "metadata": {
    "execution": {
     "iopub.execute_input": "2025-08-19T18:40:03.322668Z",
     "iopub.status.busy": "2025-08-19T18:40:03.322260Z",
     "iopub.status.idle": "2025-08-19T18:40:03.424733Z",
     "shell.execute_reply": "2025-08-19T18:40:03.423953Z"
    },
    "papermill": {
     "duration": 0.22739,
     "end_time": "2025-08-19T18:40:03.426243",
     "exception": false,
     "start_time": "2025-08-19T18:40:03.198853",
     "status": "completed"
    },
    "tags": []
   },
   "outputs": [],
   "source": [
    "probs_calib = model.predict_proba(X_calib)"
   ]
  },
  {
   "cell_type": "code",
   "execution_count": 39,
   "id": "a792d4dd",
   "metadata": {
    "execution": {
     "iopub.execute_input": "2025-08-19T18:40:03.504418Z",
     "iopub.status.busy": "2025-08-19T18:40:03.504006Z",
     "iopub.status.idle": "2025-08-19T18:40:03.508553Z",
     "shell.execute_reply": "2025-08-19T18:40:03.507860Z"
    },
    "papermill": {
     "duration": 0.049973,
     "end_time": "2025-08-19T18:40:03.510091",
     "exception": false,
     "start_time": "2025-08-19T18:40:03.460118",
     "status": "completed"
    },
    "tags": []
   },
   "outputs": [],
   "source": [
    "y_calib = y_calib.values.ravel().astype(int)"
   ]
  },
  {
   "cell_type": "code",
   "execution_count": 40,
   "id": "650fd033",
   "metadata": {
    "execution": {
     "iopub.execute_input": "2025-08-19T18:40:03.541911Z",
     "iopub.status.busy": "2025-08-19T18:40:03.541288Z",
     "iopub.status.idle": "2025-08-19T18:40:03.551786Z",
     "shell.execute_reply": "2025-08-19T18:40:03.550628Z"
    },
    "papermill": {
     "duration": 0.030972,
     "end_time": "2025-08-19T18:40:03.553421",
     "exception": false,
     "start_time": "2025-08-19T18:40:03.522449",
     "status": "completed"
    },
    "tags": []
   },
   "outputs": [],
   "source": [
    "from fairness_multiverse.conformal import compute_nc_scores\n",
    "\n",
    "# Compute nonconformity scores on calibration set (1 - probability of true class)\n",
    "nc_scores = compute_nc_scores(probs_calib, y_calib)"
   ]
  },
  {
   "cell_type": "code",
   "execution_count": 41,
   "id": "28ada44c",
   "metadata": {
    "execution": {
     "iopub.execute_input": "2025-08-19T18:40:03.598000Z",
     "iopub.status.busy": "2025-08-19T18:40:03.593470Z",
     "iopub.status.idle": "2025-08-19T18:40:03.604446Z",
     "shell.execute_reply": "2025-08-19T18:40:03.603473Z"
    },
    "papermill": {
     "duration": 0.032487,
     "end_time": "2025-08-19T18:40:03.609400",
     "exception": false,
     "start_time": "2025-08-19T18:40:03.576913",
     "status": "completed"
    },
    "tags": []
   },
   "outputs": [],
   "source": [
    "from fairness_multiverse.conformal import find_threshold\n",
    "\n",
    "# Find conformal threshold q_hat for the given alpha (split conformal method)\n",
    "q_hat = find_threshold(nc_scores, alpha)"
   ]
  },
  {
   "cell_type": "code",
   "execution_count": 42,
   "id": "df56469e",
   "metadata": {
    "execution": {
     "iopub.execute_input": "2025-08-19T18:40:03.635134Z",
     "iopub.status.busy": "2025-08-19T18:40:03.634499Z",
     "iopub.status.idle": "2025-08-19T18:40:03.642128Z",
     "shell.execute_reply": "2025-08-19T18:40:03.641196Z"
    },
    "papermill": {
     "duration": 0.022801,
     "end_time": "2025-08-19T18:40:03.644226",
     "exception": false,
     "start_time": "2025-08-19T18:40:03.621425",
     "status": "completed"
    },
    "tags": []
   },
   "outputs": [
    {
     "data": {
      "text/plain": [
       "0.6709347942445743"
      ]
     },
     "execution_count": 42,
     "metadata": {},
     "output_type": "execute_result"
    }
   ],
   "source": [
    "q_hat"
   ]
  },
  {
   "cell_type": "code",
   "execution_count": 43,
   "id": "aa1f5faa",
   "metadata": {
    "execution": {
     "iopub.execute_input": "2025-08-19T18:40:03.679818Z",
     "iopub.status.busy": "2025-08-19T18:40:03.679387Z",
     "iopub.status.idle": "2025-08-19T18:40:04.649734Z",
     "shell.execute_reply": "2025-08-19T18:40:04.648447Z"
    },
    "papermill": {
     "duration": 0.992551,
     "end_time": "2025-08-19T18:40:04.651849",
     "exception": false,
     "start_time": "2025-08-19T18:40:03.659298",
     "status": "completed"
    },
    "tags": []
   },
   "outputs": [],
   "source": [
    "from fairness_multiverse.conformal import predict_conformal_sets\n",
    "\n",
    "# Generate prediction sets for each test example\n",
    "pred_sets = predict_conformal_sets(model, X_test, q_hat)"
   ]
  },
  {
   "cell_type": "code",
   "execution_count": 44,
   "id": "97f67a6b",
   "metadata": {
    "execution": {
     "iopub.execute_input": "2025-08-19T18:40:04.735493Z",
     "iopub.status.busy": "2025-08-19T18:40:04.735008Z",
     "iopub.status.idle": "2025-08-19T18:40:04.741562Z",
     "shell.execute_reply": "2025-08-19T18:40:04.740615Z"
    },
    "papermill": {
     "duration": 0.066689,
     "end_time": "2025-08-19T18:40:04.743057",
     "exception": false,
     "start_time": "2025-08-19T18:40:04.676368",
     "status": "completed"
    },
    "tags": []
   },
   "outputs": [],
   "source": [
    "y_true = y_true.squeeze()"
   ]
  },
  {
   "cell_type": "code",
   "execution_count": 45,
   "id": "e700e9a7",
   "metadata": {
    "execution": {
     "iopub.execute_input": "2025-08-19T18:40:04.774301Z",
     "iopub.status.busy": "2025-08-19T18:40:04.773876Z",
     "iopub.status.idle": "2025-08-19T18:40:05.638356Z",
     "shell.execute_reply": "2025-08-19T18:40:05.636712Z"
    },
    "papermill": {
     "duration": 0.879373,
     "end_time": "2025-08-19T18:40:05.640051",
     "exception": false,
     "start_time": "2025-08-19T18:40:04.760678",
     "status": "completed"
    },
    "tags": []
   },
   "outputs": [],
   "source": [
    "from fairness_multiverse.conformal import evaluate_sets\n",
    "\n",
    "# Evaluate coverage and average set size on test data\n",
    "metrics = evaluate_sets(pred_sets, y_true)"
   ]
  },
  {
   "cell_type": "markdown",
   "id": "efbacec0",
   "metadata": {
    "papermill": {
     "duration": 0.039206,
     "end_time": "2025-08-19T18:40:05.700314",
     "exception": false,
     "start_time": "2025-08-19T18:40:05.661108",
     "status": "completed"
    },
    "tags": []
   },
   "source": [
    "# CP Metrics"
   ]
  },
  {
   "cell_type": "code",
   "execution_count": 46,
   "id": "9de55fb1",
   "metadata": {
    "execution": {
     "iopub.execute_input": "2025-08-19T18:40:05.744019Z",
     "iopub.status.busy": "2025-08-19T18:40:05.743386Z",
     "iopub.status.idle": "2025-08-19T18:40:05.751234Z",
     "shell.execute_reply": "2025-08-19T18:40:05.750581Z"
    },
    "papermill": {
     "duration": 0.029795,
     "end_time": "2025-08-19T18:40:05.759060",
     "exception": false,
     "start_time": "2025-08-19T18:40:05.729265",
     "status": "completed"
    },
    "tags": []
   },
   "outputs": [
    {
     "data": {
      "text/plain": [
       "{'coverage': 0.9126407312451231, 'avg_size': 1.2800579645524468}"
      ]
     },
     "execution_count": 46,
     "metadata": {},
     "output_type": "execute_result"
    }
   ],
   "source": [
    "metrics"
   ]
  },
  {
   "cell_type": "code",
   "execution_count": 47,
   "id": "64c340a1",
   "metadata": {
    "execution": {
     "iopub.execute_input": "2025-08-19T18:40:05.794913Z",
     "iopub.status.busy": "2025-08-19T18:40:05.794503Z",
     "iopub.status.idle": "2025-08-19T18:40:05.800307Z",
     "shell.execute_reply": "2025-08-19T18:40:05.799325Z"
    },
    "papermill": {
     "duration": 0.030347,
     "end_time": "2025-08-19T18:40:05.801516",
     "exception": false,
     "start_time": "2025-08-19T18:40:05.771169",
     "status": "completed"
    },
    "tags": []
   },
   "outputs": [],
   "source": [
    "example_universe = universe.copy()\n",
    "universe_training_year = example_universe.get(\"training_year\")\n",
    "universe_training_size = example_universe.get(\"training_size\")\n",
    "universe_scale = example_universe.get(\"scale\")\n",
    "universe_model = example_universe.get(\"model\")\n",
    "universe_exclude_features = example_universe.get(\"exclude_features\")\n",
    "universe_exclude_subgroups = example_universe.get(\"exclude_subgroups\")"
   ]
  },
  {
   "cell_type": "code",
   "execution_count": 48,
   "id": "dbb53cb4",
   "metadata": {
    "execution": {
     "iopub.execute_input": "2025-08-19T18:40:05.872411Z",
     "iopub.status.busy": "2025-08-19T18:40:05.871961Z",
     "iopub.status.idle": "2025-08-19T18:40:05.878068Z",
     "shell.execute_reply": "2025-08-19T18:40:05.877125Z"
    },
    "papermill": {
     "duration": 0.065448,
     "end_time": "2025-08-19T18:40:05.879365",
     "exception": false,
     "start_time": "2025-08-19T18:40:05.813917",
     "status": "completed"
    },
    "tags": []
   },
   "outputs": [],
   "source": [
    "cp_metrics_dict = {\n",
    "    \"universe_id\": [universe_id],\n",
    "    \"universe_training_year\": [universe_training_year],\n",
    "    \"universe_training_size\": [universe_training_size],\n",
    "    \"universe_scale\": [universe_scale],\n",
    "    \"universe_model\": [universe_model],\n",
    "    \"universe_exclude_features\": [universe_exclude_features],\n",
    "    \"universe_exclude_subgroups\": [universe_exclude_subgroups],\n",
    "    \"q_hat\": [q_hat],\n",
    "    \"coverage\": [metrics[\"coverage\"]],\n",
    "    \"avg_size\": [metrics[\"avg_size\"]],\n",
    "}"
   ]
  },
  {
   "cell_type": "code",
   "execution_count": 49,
   "id": "0d70d4b2",
   "metadata": {
    "execution": {
     "iopub.execute_input": "2025-08-19T18:40:05.922648Z",
     "iopub.status.busy": "2025-08-19T18:40:05.922239Z",
     "iopub.status.idle": "2025-08-19T18:40:05.928198Z",
     "shell.execute_reply": "2025-08-19T18:40:05.927518Z"
    },
    "papermill": {
     "duration": 0.032678,
     "end_time": "2025-08-19T18:40:05.930014",
     "exception": false,
     "start_time": "2025-08-19T18:40:05.897336",
     "status": "completed"
    },
    "tags": []
   },
   "outputs": [],
   "source": [
    "cp_metrics_df = pd.DataFrame(cp_metrics_dict)"
   ]
  },
  {
   "cell_type": "code",
   "execution_count": 50,
   "id": "b494403c",
   "metadata": {
    "execution": {
     "iopub.execute_input": "2025-08-19T18:40:05.991160Z",
     "iopub.status.busy": "2025-08-19T18:40:05.990704Z",
     "iopub.status.idle": "2025-08-19T18:40:06.005409Z",
     "shell.execute_reply": "2025-08-19T18:40:06.004668Z"
    },
    "papermill": {
     "duration": 0.049666,
     "end_time": "2025-08-19T18:40:06.006735",
     "exception": false,
     "start_time": "2025-08-19T18:40:05.957069",
     "status": "completed"
    },
    "tags": []
   },
   "outputs": [
    {
     "data": {
      "text/html": [
       "<div>\n",
       "<style scoped>\n",
       "    .dataframe tbody tr th:only-of-type {\n",
       "        vertical-align: middle;\n",
       "    }\n",
       "\n",
       "    .dataframe tbody tr th {\n",
       "        vertical-align: top;\n",
       "    }\n",
       "\n",
       "    .dataframe thead th {\n",
       "        text-align: right;\n",
       "    }\n",
       "</style>\n",
       "<table border=\"1\" class=\"dataframe\">\n",
       "  <thead>\n",
       "    <tr style=\"text-align: right;\">\n",
       "      <th></th>\n",
       "      <th>universe_id</th>\n",
       "      <th>universe_training_year</th>\n",
       "      <th>universe_training_size</th>\n",
       "      <th>universe_scale</th>\n",
       "      <th>universe_model</th>\n",
       "      <th>universe_exclude_features</th>\n",
       "      <th>universe_exclude_subgroups</th>\n",
       "      <th>q_hat</th>\n",
       "      <th>coverage</th>\n",
       "      <th>avg_size</th>\n",
       "    </tr>\n",
       "  </thead>\n",
       "  <tbody>\n",
       "    <tr>\n",
       "      <th>0</th>\n",
       "      <td>3e3aba496858c4fcba82d2d8c53d6960</td>\n",
       "      <td>2012_14</td>\n",
       "      <td>5k</td>\n",
       "      <td>do-not-scale</td>\n",
       "      <td>elasticnet</td>\n",
       "      <td>age</td>\n",
       "      <td>drop-non-german</td>\n",
       "      <td>0.670935</td>\n",
       "      <td>0.912641</td>\n",
       "      <td>1.280058</td>\n",
       "    </tr>\n",
       "  </tbody>\n",
       "</table>\n",
       "</div>"
      ],
      "text/plain": [
       "                        universe_id universe_training_year  \\\n",
       "0  3e3aba496858c4fcba82d2d8c53d6960                2012_14   \n",
       "\n",
       "  universe_training_size universe_scale universe_model  \\\n",
       "0                     5k   do-not-scale     elasticnet   \n",
       "\n",
       "  universe_exclude_features universe_exclude_subgroups     q_hat  coverage  \\\n",
       "0                       age            drop-non-german  0.670935  0.912641   \n",
       "\n",
       "   avg_size  \n",
       "0  1.280058  "
      ]
     },
     "execution_count": 50,
     "metadata": {},
     "output_type": "execute_result"
    }
   ],
   "source": [
    "cp_metrics_df"
   ]
  },
  {
   "cell_type": "markdown",
   "id": "ed608b0b",
   "metadata": {
    "papermill": {
     "duration": 0.024286,
     "end_time": "2025-08-19T18:40:06.053506",
     "exception": false,
     "start_time": "2025-08-19T18:40:06.029220",
     "status": "completed"
    },
    "tags": []
   },
   "source": [
    "Conditional coverage & looking at subgroups"
   ]
  },
  {
   "cell_type": "code",
   "execution_count": 51,
   "id": "8968c366",
   "metadata": {
    "execution": {
     "iopub.execute_input": "2025-08-19T18:40:06.094682Z",
     "iopub.status.busy": "2025-08-19T18:40:06.094257Z",
     "iopub.status.idle": "2025-08-19T18:40:06.621798Z",
     "shell.execute_reply": "2025-08-19T18:40:06.620617Z"
    },
    "papermill": {
     "duration": 0.542845,
     "end_time": "2025-08-19T18:40:06.623422",
     "exception": false,
     "start_time": "2025-08-19T18:40:06.080577",
     "status": "completed"
    },
    "tags": []
   },
   "outputs": [],
   "source": [
    "from fairness_multiverse.conformal import build_cp_groups\n",
    "\n",
    "cp_groups_df = build_cp_groups(pred_sets, y_true, X_test.index, org_test)"
   ]
  },
  {
   "cell_type": "code",
   "execution_count": 52,
   "id": "292ddabf",
   "metadata": {
    "execution": {
     "iopub.execute_input": "2025-08-19T18:40:06.679405Z",
     "iopub.status.busy": "2025-08-19T18:40:06.678949Z",
     "iopub.status.idle": "2025-08-19T18:40:07.935577Z",
     "shell.execute_reply": "2025-08-19T18:40:07.934258Z"
    },
    "papermill": {
     "duration": 1.288345,
     "end_time": "2025-08-19T18:40:07.937459",
     "exception": false,
     "start_time": "2025-08-19T18:40:06.649114",
     "status": "completed"
    },
    "tags": []
   },
   "outputs": [],
   "source": [
    "# Define covered = 1 if true_label is in the predicted set\n",
    "cp_groups_df['covered'] = cp_groups_df.apply(\n",
    "    lambda r: int(r['true_label'] in r['pred_set']),\n",
    "    axis=1\n",
    ")"
   ]
  },
  {
   "cell_type": "code",
   "execution_count": 53,
   "id": "3a261692",
   "metadata": {
    "execution": {
     "iopub.execute_input": "2025-08-19T18:40:08.022602Z",
     "iopub.status.busy": "2025-08-19T18:40:08.022243Z",
     "iopub.status.idle": "2025-08-19T18:40:08.045874Z",
     "shell.execute_reply": "2025-08-19T18:40:08.045097Z"
    },
    "papermill": {
     "duration": 0.079641,
     "end_time": "2025-08-19T18:40:08.047870",
     "exception": false,
     "start_time": "2025-08-19T18:40:07.968229",
     "status": "completed"
    },
    "tags": []
   },
   "outputs": [],
   "source": [
    "subgroups = ['frau1','nongerman','nongerman_male','nongerman_female']\n",
    "\n",
    "# Conditional coverage for subgroup==1\n",
    "cond_coverage = {\n",
    "    g: cp_groups_df.loc[cp_groups_df[g]==1, 'covered'].mean()\n",
    "    for g in subgroups\n",
    "}"
   ]
  },
  {
   "cell_type": "code",
   "execution_count": 54,
   "id": "894fd600",
   "metadata": {
    "execution": {
     "iopub.execute_input": "2025-08-19T18:40:08.114407Z",
     "iopub.status.busy": "2025-08-19T18:40:08.114095Z",
     "iopub.status.idle": "2025-08-19T18:40:08.120387Z",
     "shell.execute_reply": "2025-08-19T18:40:08.119689Z"
    },
    "papermill": {
     "duration": 0.040555,
     "end_time": "2025-08-19T18:40:08.121611",
     "exception": false,
     "start_time": "2025-08-19T18:40:08.081056",
     "status": "completed"
    },
    "tags": []
   },
   "outputs": [
    {
     "data": {
      "text/plain": [
       "{'frau1': 0.9093139237093948,\n",
       " 'nongerman': 0.965530792118116,\n",
       " 'nongerman_male': 0.9740610645771414,\n",
       " 'nongerman_female': 0.9514157973174366}"
      ]
     },
     "execution_count": 54,
     "metadata": {},
     "output_type": "execute_result"
    }
   ],
   "source": [
    "cond_coverage"
   ]
  },
  {
   "cell_type": "code",
   "execution_count": 55,
   "id": "942895c7",
   "metadata": {
    "execution": {
     "iopub.execute_input": "2025-08-19T18:40:08.149148Z",
     "iopub.status.busy": "2025-08-19T18:40:08.148838Z",
     "iopub.status.idle": "2025-08-19T18:40:08.155219Z",
     "shell.execute_reply": "2025-08-19T18:40:08.154383Z"
    },
    "papermill": {
     "duration": 0.021603,
     "end_time": "2025-08-19T18:40:08.156581",
     "exception": false,
     "start_time": "2025-08-19T18:40:08.134978",
     "status": "completed"
    },
    "tags": []
   },
   "outputs": [],
   "source": [
    "for subgroup, cov in cond_coverage.items():\n",
    "    cp_metrics_df[f\"cov_{subgroup}\"] = cov"
   ]
  },
  {
   "cell_type": "code",
   "execution_count": 56,
   "id": "3970120f",
   "metadata": {
    "execution": {
     "iopub.execute_input": "2025-08-19T18:40:08.266147Z",
     "iopub.status.busy": "2025-08-19T18:40:08.265829Z",
     "iopub.status.idle": "2025-08-19T18:40:08.283645Z",
     "shell.execute_reply": "2025-08-19T18:40:08.282927Z"
    },
    "papermill": {
     "duration": 0.077938,
     "end_time": "2025-08-19T18:40:08.287589",
     "exception": false,
     "start_time": "2025-08-19T18:40:08.209651",
     "status": "completed"
    },
    "tags": []
   },
   "outputs": [
    {
     "data": {
      "text/html": [
       "<div>\n",
       "<style scoped>\n",
       "    .dataframe tbody tr th:only-of-type {\n",
       "        vertical-align: middle;\n",
       "    }\n",
       "\n",
       "    .dataframe tbody tr th {\n",
       "        vertical-align: top;\n",
       "    }\n",
       "\n",
       "    .dataframe thead th {\n",
       "        text-align: right;\n",
       "    }\n",
       "</style>\n",
       "<table border=\"1\" class=\"dataframe\">\n",
       "  <thead>\n",
       "    <tr style=\"text-align: right;\">\n",
       "      <th></th>\n",
       "      <th>universe_id</th>\n",
       "      <th>universe_training_year</th>\n",
       "      <th>universe_training_size</th>\n",
       "      <th>universe_scale</th>\n",
       "      <th>universe_model</th>\n",
       "      <th>universe_exclude_features</th>\n",
       "      <th>universe_exclude_subgroups</th>\n",
       "      <th>q_hat</th>\n",
       "      <th>coverage</th>\n",
       "      <th>avg_size</th>\n",
       "      <th>cov_frau1</th>\n",
       "      <th>cov_nongerman</th>\n",
       "      <th>cov_nongerman_male</th>\n",
       "      <th>cov_nongerman_female</th>\n",
       "    </tr>\n",
       "  </thead>\n",
       "  <tbody>\n",
       "    <tr>\n",
       "      <th>0</th>\n",
       "      <td>3e3aba496858c4fcba82d2d8c53d6960</td>\n",
       "      <td>2012_14</td>\n",
       "      <td>5k</td>\n",
       "      <td>do-not-scale</td>\n",
       "      <td>elasticnet</td>\n",
       "      <td>age</td>\n",
       "      <td>drop-non-german</td>\n",
       "      <td>0.670935</td>\n",
       "      <td>0.912641</td>\n",
       "      <td>1.280058</td>\n",
       "      <td>0.909314</td>\n",
       "      <td>0.965531</td>\n",
       "      <td>0.974061</td>\n",
       "      <td>0.951416</td>\n",
       "    </tr>\n",
       "  </tbody>\n",
       "</table>\n",
       "</div>"
      ],
      "text/plain": [
       "                        universe_id universe_training_year  \\\n",
       "0  3e3aba496858c4fcba82d2d8c53d6960                2012_14   \n",
       "\n",
       "  universe_training_size universe_scale universe_model  \\\n",
       "0                     5k   do-not-scale     elasticnet   \n",
       "\n",
       "  universe_exclude_features universe_exclude_subgroups     q_hat  coverage  \\\n",
       "0                       age            drop-non-german  0.670935  0.912641   \n",
       "\n",
       "   avg_size  cov_frau1  cov_nongerman  cov_nongerman_male  \\\n",
       "0  1.280058   0.909314       0.965531            0.974061   \n",
       "\n",
       "   cov_nongerman_female  \n",
       "0              0.951416  "
      ]
     },
     "execution_count": 56,
     "metadata": {},
     "output_type": "execute_result"
    }
   ],
   "source": [
    "cp_metrics_df"
   ]
  },
  {
   "cell_type": "markdown",
   "id": "3fc519cc",
   "metadata": {
    "papermill": {
     "duration": 0.013192,
     "end_time": "2025-08-19T18:40:08.315403",
     "exception": false,
     "start_time": "2025-08-19T18:40:08.302211",
     "status": "completed"
    },
    "tags": []
   },
   "source": [
    "# (Fairness) Metrics"
   ]
  },
  {
   "cell_type": "code",
   "execution_count": 57,
   "id": "a2e5e155",
   "metadata": {
    "execution": {
     "iopub.execute_input": "2025-08-19T18:40:08.343364Z",
     "iopub.status.busy": "2025-08-19T18:40:08.343052Z",
     "iopub.status.idle": "2025-08-19T18:40:08.368613Z",
     "shell.execute_reply": "2025-08-19T18:40:08.367920Z"
    },
    "papermill": {
     "duration": 0.042305,
     "end_time": "2025-08-19T18:40:08.370592",
     "exception": false,
     "start_time": "2025-08-19T18:40:08.328287",
     "status": "completed"
    },
    "tags": []
   },
   "outputs": [],
   "source": [
    "colname_to_bin = \"maxdeutsch1\"\n",
    "majority_value = org_train[colname_to_bin].mode()[0]\n",
    "\n",
    "org_test[\"majmin\"] = np.where(org_test[colname_to_bin] == majority_value, \"majority\", \"minority\")"
   ]
  },
  {
   "cell_type": "code",
   "execution_count": 58,
   "id": "17e3e4d5",
   "metadata": {
    "execution": {
     "iopub.execute_input": "2025-08-19T18:40:08.475097Z",
     "iopub.status.busy": "2025-08-19T18:40:08.474691Z",
     "iopub.status.idle": "2025-08-19T18:40:10.481417Z",
     "shell.execute_reply": "2025-08-19T18:40:10.479406Z"
    },
    "papermill": {
     "duration": 2.037409,
     "end_time": "2025-08-19T18:40:10.483248",
     "exception": false,
     "start_time": "2025-08-19T18:40:08.445839",
     "status": "completed"
    },
    "tags": []
   },
   "outputs": [],
   "source": [
    "example_universe = universe.copy()\n",
    "example_universe[\"cutoff\"] = example_universe[\"cutoff\"][0]\n",
    "example_universe[\"eval_fairness_grouping\"] = example_universe[\"eval_fairness_grouping\"][0]\n",
    "fairness_dict, metric_frame = universe_analysis.compute_metrics(\n",
    "    example_universe,\n",
    "    y_pred_prob=probs_test,\n",
    "    y_test=y_true,\n",
    "    org_test=org_test,\n",
    ")"
   ]
  },
  {
   "cell_type": "markdown",
   "id": "1fb7a0e9",
   "metadata": {
    "papermill": {
     "duration": 0.012903,
     "end_time": "2025-08-19T18:40:10.509966",
     "exception": false,
     "start_time": "2025-08-19T18:40:10.497063",
     "status": "completed"
    },
    "tags": []
   },
   "source": [
    "# Overall"
   ]
  },
  {
   "cell_type": "markdown",
   "id": "be1784b1",
   "metadata": {
    "papermill": {
     "duration": 0.054125,
     "end_time": "2025-08-19T18:40:10.576806",
     "exception": false,
     "start_time": "2025-08-19T18:40:10.522681",
     "status": "completed"
    },
    "tags": []
   },
   "source": [
    "Main fairness target: Equalized Odds. Seems to be a better fit than equal opportunity, since we're not only interested in Y = 1. Seems to be a better fit than demographic parity, since we also care about accuracy, not just equal distribution of preds.\n",
    "\n",
    "Pick column for computation of fairness metrics\n",
    "\n",
    "Performance\n",
    "Overall performance measures, most interesting in relation to the measures split by group below"
   ]
  },
  {
   "cell_type": "code",
   "execution_count": 59,
   "id": "b7672bee",
   "metadata": {
    "execution": {
     "iopub.execute_input": "2025-08-19T18:40:10.698542Z",
     "iopub.status.busy": "2025-08-19T18:40:10.698034Z",
     "iopub.status.idle": "2025-08-19T18:40:10.711267Z",
     "shell.execute_reply": "2025-08-19T18:40:10.709031Z"
    },
    "papermill": {
     "duration": 0.055944,
     "end_time": "2025-08-19T18:40:10.713070",
     "exception": false,
     "start_time": "2025-08-19T18:40:10.657126",
     "status": "completed"
    },
    "tags": []
   },
   "outputs": [
    {
     "data": {
      "text/plain": [
       "accuracy                   0.213967\n",
       "balanced accuracy          0.525359\n",
       "f1                         0.235585\n",
       "precision                  0.134582\n",
       "false positive rate        0.893494\n",
       "false negative rate        0.055787\n",
       "selection rate             0.900000\n",
       "count                  89710.000000\n",
       "dtype: float64"
      ]
     },
     "execution_count": 59,
     "metadata": {},
     "output_type": "execute_result"
    }
   ],
   "source": [
    "metric_frame.overall"
   ]
  },
  {
   "cell_type": "markdown",
   "id": "d93333c9",
   "metadata": {
    "papermill": {
     "duration": 0.028069,
     "end_time": "2025-08-19T18:40:10.781153",
     "exception": false,
     "start_time": "2025-08-19T18:40:10.753084",
     "status": "completed"
    },
    "tags": []
   },
   "source": [
    "By Group"
   ]
  },
  {
   "cell_type": "code",
   "execution_count": 60,
   "id": "52256966",
   "metadata": {
    "execution": {
     "iopub.execute_input": "2025-08-19T18:40:10.844176Z",
     "iopub.status.busy": "2025-08-19T18:40:10.843753Z",
     "iopub.status.idle": "2025-08-19T18:40:10.856773Z",
     "shell.execute_reply": "2025-08-19T18:40:10.855975Z"
    },
    "papermill": {
     "duration": 0.048923,
     "end_time": "2025-08-19T18:40:10.857998",
     "exception": false,
     "start_time": "2025-08-19T18:40:10.809075",
     "status": "completed"
    },
    "tags": []
   },
   "outputs": [
    {
     "data": {
      "text/html": [
       "<div>\n",
       "<style scoped>\n",
       "    .dataframe tbody tr th:only-of-type {\n",
       "        vertical-align: middle;\n",
       "    }\n",
       "\n",
       "    .dataframe tbody tr th {\n",
       "        vertical-align: top;\n",
       "    }\n",
       "\n",
       "    .dataframe thead th {\n",
       "        text-align: right;\n",
       "    }\n",
       "</style>\n",
       "<table border=\"1\" class=\"dataframe\">\n",
       "  <thead>\n",
       "    <tr style=\"text-align: right;\">\n",
       "      <th></th>\n",
       "      <th>accuracy</th>\n",
       "      <th>balanced accuracy</th>\n",
       "      <th>f1</th>\n",
       "      <th>precision</th>\n",
       "      <th>false positive rate</th>\n",
       "      <th>false negative rate</th>\n",
       "      <th>selection rate</th>\n",
       "      <th>count</th>\n",
       "    </tr>\n",
       "    <tr>\n",
       "      <th>majmin</th>\n",
       "      <th></th>\n",
       "      <th></th>\n",
       "      <th></th>\n",
       "      <th></th>\n",
       "      <th></th>\n",
       "      <th></th>\n",
       "      <th></th>\n",
       "      <th></th>\n",
       "    </tr>\n",
       "  </thead>\n",
       "  <tbody>\n",
       "    <tr>\n",
       "      <th>majority</th>\n",
       "      <td>0.234856</td>\n",
       "      <td>0.532235</td>\n",
       "      <td>0.244393</td>\n",
       "      <td>0.140535</td>\n",
       "      <td>0.871964</td>\n",
       "      <td>0.063567</td>\n",
       "      <td>0.880483</td>\n",
       "      <td>69170.0</td>\n",
       "    </tr>\n",
       "    <tr>\n",
       "      <th>minority</th>\n",
       "      <td>0.143622</td>\n",
       "      <td>0.504812</td>\n",
       "      <td>0.207800</td>\n",
       "      <td>0.116304</td>\n",
       "      <td>0.964616</td>\n",
       "      <td>0.025760</td>\n",
       "      <td>0.965725</td>\n",
       "      <td>20540.0</td>\n",
       "    </tr>\n",
       "  </tbody>\n",
       "</table>\n",
       "</div>"
      ],
      "text/plain": [
       "          accuracy  balanced accuracy        f1  precision  \\\n",
       "majmin                                                       \n",
       "majority  0.234856           0.532235  0.244393   0.140535   \n",
       "minority  0.143622           0.504812  0.207800   0.116304   \n",
       "\n",
       "          false positive rate  false negative rate  selection rate    count  \n",
       "majmin                                                                       \n",
       "majority             0.871964             0.063567        0.880483  69170.0  \n",
       "minority             0.964616             0.025760        0.965725  20540.0  "
      ]
     },
     "execution_count": 60,
     "metadata": {},
     "output_type": "execute_result"
    }
   ],
   "source": [
    "metric_frame.by_group"
   ]
  },
  {
   "cell_type": "code",
   "execution_count": 61,
   "id": "6e6c20ae",
   "metadata": {
    "execution": {
     "iopub.execute_input": "2025-08-19T18:40:10.892562Z",
     "iopub.status.busy": "2025-08-19T18:40:10.891788Z",
     "iopub.status.idle": "2025-08-19T18:40:13.805398Z",
     "shell.execute_reply": "2025-08-19T18:40:13.804527Z"
    },
    "papermill": {
     "duration": 2.929623,
     "end_time": "2025-08-19T18:40:13.807002",
     "exception": false,
     "start_time": "2025-08-19T18:40:10.877379",
     "status": "completed"
    },
    "tags": []
   },
   "outputs": [
    {
     "data": {
      "text/plain": [
       "array([[<Axes: title={'center': 'accuracy'}, xlabel='majmin'>,\n",
       "        <Axes: title={'center': 'balanced accuracy'}, xlabel='majmin'>,\n",
       "        <Axes: title={'center': 'f1'}, xlabel='majmin'>],\n",
       "       [<Axes: title={'center': 'precision'}, xlabel='majmin'>,\n",
       "        <Axes: title={'center': 'false positive rate'}, xlabel='majmin'>,\n",
       "        <Axes: title={'center': 'false negative rate'}, xlabel='majmin'>],\n",
       "       [<Axes: title={'center': 'selection rate'}, xlabel='majmin'>,\n",
       "        <Axes: title={'center': 'count'}, xlabel='majmin'>,\n",
       "        <Axes: xlabel='majmin'>]], dtype=object)"
      ]
     },
     "execution_count": 61,
     "metadata": {},
     "output_type": "execute_result"
    },
    {
     "data": {
      "image/png": "[encoded data removed]",
      "text/plain": [
       "<Figure size 1200x800 with 9 Axes>"
      ]
     },
     "metadata": {},
     "output_type": "display_data"
    }
   ],
   "source": [
    "# In a graphic\n",
    "metric_frame.by_group.plot.bar(\n",
    "    subplots=True,\n",
    "    layout=[3, 3],\n",
    "    legend=False,\n",
    "    figsize=[12, 8],\n",
    "    title=\"Show all metrics\",\n",
    ")"
   ]
  },
  {
   "cell_type": "markdown",
   "id": "b2e433ae",
   "metadata": {
    "papermill": {
     "duration": 0.049071,
     "end_time": "2025-08-19T18:40:13.904755",
     "exception": false,
     "start_time": "2025-08-19T18:40:13.855684",
     "status": "completed"
    },
    "tags": []
   },
   "source": [
    "# Final Output"
   ]
  },
  {
   "cell_type": "code",
   "execution_count": 62,
   "id": "3871301e",
   "metadata": {
    "execution": {
     "iopub.execute_input": "2025-08-19T18:40:13.960922Z",
     "iopub.status.busy": "2025-08-19T18:40:13.959999Z",
     "iopub.status.idle": "2025-08-19T18:40:13.971024Z",
     "shell.execute_reply": "2025-08-19T18:40:13.968920Z"
    },
    "papermill": {
     "duration": 0.037843,
     "end_time": "2025-08-19T18:40:13.972877",
     "exception": false,
     "start_time": "2025-08-19T18:40:13.935034",
     "status": "completed"
    },
    "tags": []
   },
   "outputs": [
    {
     "data": {
      "text/plain": [
       "4"
      ]
     },
     "execution_count": 62,
     "metadata": {},
     "output_type": "execute_result"
    }
   ],
   "source": [
    "sub_universes = universe_analysis.generate_sub_universes()\n",
    "len(sub_universes)"
   ]
  },
  {
   "cell_type": "code",
   "execution_count": 63,
   "id": "d9cfdaca",
   "metadata": {
    "execution": {
     "iopub.execute_input": "2025-08-19T18:40:14.026329Z",
     "iopub.status.busy": "2025-08-19T18:40:14.025892Z",
     "iopub.status.idle": "2025-08-19T18:40:14.031472Z",
     "shell.execute_reply": "2025-08-19T18:40:14.030565Z"
    },
    "papermill": {
     "duration": 0.043919,
     "end_time": "2025-08-19T18:40:14.032993",
     "exception": false,
     "start_time": "2025-08-19T18:40:13.989074",
     "status": "completed"
    },
    "tags": []
   },
   "outputs": [],
   "source": [
    "def filter_sub_universe_data(sub_universe, org_test):\n",
    "    # Keep all rows — no filtering\n",
    "    keep_rows_mask = np.ones(org_test.shape[0], dtype=bool)\n",
    "\n",
    "    print(f\"[INFO] Keeping all rows: {keep_rows_mask.sum()} rows retained.\")\n",
    "    return keep_rows_mask"
   ]
  },
  {
   "cell_type": "code",
   "execution_count": 64,
   "id": "2bc31ac1",
   "metadata": {
    "execution": {
     "iopub.execute_input": "2025-08-19T18:40:14.087614Z",
     "iopub.status.busy": "2025-08-19T18:40:14.087226Z",
     "iopub.status.idle": "2025-08-19T18:40:23.694865Z",
     "shell.execute_reply": "2025-08-19T18:40:23.693787Z"
    },
    "papermill": {
     "duration": 9.637559,
     "end_time": "2025-08-19T18:40:23.696309",
     "exception": false,
     "start_time": "2025-08-19T18:40:14.058750",
     "status": "completed"
    },
    "tags": []
   },
   "outputs": [
    {
     "name": "stdout",
     "output_type": "stream",
     "text": [
      "Stopping execution_time clock.\n",
      "[INFO] Keeping all rows: 89710 rows retained.\n"
     ]
    },
    {
     "name": "stdout",
     "output_type": "stream",
     "text": [
      "[INFO] Keeping all rows: 89710 rows retained.\n"
     ]
    },
    {
     "name": "stdout",
     "output_type": "stream",
     "text": [
      "[INFO] Keeping all rows: 89710 rows retained.\n"
     ]
    },
    {
     "name": "stdout",
     "output_type": "stream",
     "text": [
      "[INFO] Keeping all rows: 89710 rows retained.\n"
     ]
    },
    {
     "data": {
      "text/html": [
       "<div>\n",
       "<style scoped>\n",
       "    .dataframe tbody tr th:only-of-type {\n",
       "        vertical-align: middle;\n",
       "    }\n",
       "\n",
       "    .dataframe tbody tr th {\n",
       "        vertical-align: top;\n",
       "    }\n",
       "\n",
       "    .dataframe thead th {\n",
       "        text-align: right;\n",
       "    }\n",
       "</style>\n",
       "<table border=\"1\" class=\"dataframe\">\n",
       "  <thead>\n",
       "    <tr style=\"text-align: right;\">\n",
       "      <th></th>\n",
       "      <th>run_no</th>\n",
       "      <th>universe_id</th>\n",
       "      <th>universe_settings</th>\n",
       "      <th>execution_time</th>\n",
       "      <th>test_size_n</th>\n",
       "      <th>test_size_frac</th>\n",
       "      <th>fair_main_equalized_odds_difference</th>\n",
       "      <th>fair_main_equalized_odds_ratio</th>\n",
       "      <th>fair_main_demographic_parity_difference</th>\n",
       "      <th>fair_main_demographic_parity_ratio</th>\n",
       "      <th>...</th>\n",
       "      <th>perf_grp_precision_0</th>\n",
       "      <th>perf_grp_precision_1</th>\n",
       "      <th>perf_grp_false positive rate_0</th>\n",
       "      <th>perf_grp_false positive rate_1</th>\n",
       "      <th>perf_grp_false negative rate_0</th>\n",
       "      <th>perf_grp_false negative rate_1</th>\n",
       "      <th>perf_grp_selection rate_0</th>\n",
       "      <th>perf_grp_selection rate_1</th>\n",
       "      <th>perf_grp_count_0</th>\n",
       "      <th>perf_grp_count_1</th>\n",
       "    </tr>\n",
       "  </thead>\n",
       "  <tbody>\n",
       "    <tr>\n",
       "      <th>0</th>\n",
       "      <td>3</td>\n",
       "      <td>3e3aba496858c4fcba82d2d8c53d6960</td>\n",
       "      <td>{\"cutoff\": \"quantile_0.1\", \"eval_fairness_grou...</td>\n",
       "      <td>31.896758</td>\n",
       "      <td>89710</td>\n",
       "      <td>1.0</td>\n",
       "      <td>0.092652</td>\n",
       "      <td>0.903949</td>\n",
       "      <td>0.085243</td>\n",
       "      <td>0.911732</td>\n",
       "      <td>...</td>\n",
       "      <td>NaN</td>\n",
       "      <td>NaN</td>\n",
       "      <td>NaN</td>\n",
       "      <td>NaN</td>\n",
       "      <td>NaN</td>\n",
       "      <td>NaN</td>\n",
       "      <td>NaN</td>\n",
       "      <td>NaN</td>\n",
       "      <td>NaN</td>\n",
       "      <td>NaN</td>\n",
       "    </tr>\n",
       "    <tr>\n",
       "      <th>0</th>\n",
       "      <td>3</td>\n",
       "      <td>3e3aba496858c4fcba82d2d8c53d6960</td>\n",
       "      <td>{\"cutoff\": \"quantile_0.1\", \"eval_fairness_grou...</td>\n",
       "      <td>31.896758</td>\n",
       "      <td>89710</td>\n",
       "      <td>1.0</td>\n",
       "      <td>0.092652</td>\n",
       "      <td>0.903949</td>\n",
       "      <td>0.085243</td>\n",
       "      <td>0.911732</td>\n",
       "      <td>...</td>\n",
       "      <td>0.116304</td>\n",
       "      <td>0.140535</td>\n",
       "      <td>0.964616</td>\n",
       "      <td>0.871964</td>\n",
       "      <td>0.025760</td>\n",
       "      <td>0.063567</td>\n",
       "      <td>0.965725</td>\n",
       "      <td>0.880483</td>\n",
       "      <td>20540.0</td>\n",
       "      <td>69170.0</td>\n",
       "    </tr>\n",
       "    <tr>\n",
       "      <th>0</th>\n",
       "      <td>3</td>\n",
       "      <td>3e3aba496858c4fcba82d2d8c53d6960</td>\n",
       "      <td>{\"cutoff\": \"quantile_0.25\", \"eval_fairness_gro...</td>\n",
       "      <td>31.896758</td>\n",
       "      <td>89710</td>\n",
       "      <td>1.0</td>\n",
       "      <td>0.223757</td>\n",
       "      <td>0.753986</td>\n",
       "      <td>0.210020</td>\n",
       "      <td>0.769697</td>\n",
       "      <td>...</td>\n",
       "      <td>NaN</td>\n",
       "      <td>NaN</td>\n",
       "      <td>NaN</td>\n",
       "      <td>NaN</td>\n",
       "      <td>NaN</td>\n",
       "      <td>NaN</td>\n",
       "      <td>NaN</td>\n",
       "      <td>NaN</td>\n",
       "      <td>NaN</td>\n",
       "      <td>NaN</td>\n",
       "    </tr>\n",
       "    <tr>\n",
       "      <th>0</th>\n",
       "      <td>3</td>\n",
       "      <td>3e3aba496858c4fcba82d2d8c53d6960</td>\n",
       "      <td>{\"cutoff\": \"quantile_0.25\", \"eval_fairness_gro...</td>\n",
       "      <td>31.896758</td>\n",
       "      <td>89710</td>\n",
       "      <td>1.0</td>\n",
       "      <td>0.223757</td>\n",
       "      <td>0.753986</td>\n",
       "      <td>0.210020</td>\n",
       "      <td>0.769697</td>\n",
       "      <td>...</td>\n",
       "      <td>0.117613</td>\n",
       "      <td>0.152087</td>\n",
       "      <td>0.909531</td>\n",
       "      <td>0.685774</td>\n",
       "      <td>0.069679</td>\n",
       "      <td>0.192123</td>\n",
       "      <td>0.911928</td>\n",
       "      <td>0.701908</td>\n",
       "      <td>20540.0</td>\n",
       "      <td>69170.0</td>\n",
       "    </tr>\n",
       "  </tbody>\n",
       "</table>\n",
       "<p>4 rows × 50 columns</p>\n",
       "</div>"
      ],
      "text/plain": [
       "  run_no                       universe_id  \\\n",
       "0      3  3e3aba496858c4fcba82d2d8c53d6960   \n",
       "0      3  3e3aba496858c4fcba82d2d8c53d6960   \n",
       "0      3  3e3aba496858c4fcba82d2d8c53d6960   \n",
       "0      3  3e3aba496858c4fcba82d2d8c53d6960   \n",
       "\n",
       "                                   universe_settings  execution_time  \\\n",
       "0  {\"cutoff\": \"quantile_0.1\", \"eval_fairness_grou...       31.896758   \n",
       "0  {\"cutoff\": \"quantile_0.1\", \"eval_fairness_grou...       31.896758   \n",
       "0  {\"cutoff\": \"quantile_0.25\", \"eval_fairness_gro...       31.896758   \n",
       "0  {\"cutoff\": \"quantile_0.25\", \"eval_fairness_gro...       31.896758   \n",
       "\n",
       "   test_size_n  test_size_frac  fair_main_equalized_odds_difference  \\\n",
       "0        89710             1.0                             0.092652   \n",
       "0        89710             1.0                             0.092652   \n",
       "0        89710             1.0                             0.223757   \n",
       "0        89710             1.0                             0.223757   \n",
       "\n",
       "   fair_main_equalized_odds_ratio  fair_main_demographic_parity_difference  \\\n",
       "0                        0.903949                                 0.085243   \n",
       "0                        0.903949                                 0.085243   \n",
       "0                        0.753986                                 0.210020   \n",
       "0                        0.753986                                 0.210020   \n",
       "\n",
       "   fair_main_demographic_parity_ratio  ...  perf_grp_precision_0  \\\n",
       "0                            0.911732  ...                   NaN   \n",
       "0                            0.911732  ...              0.116304   \n",
       "0                            0.769697  ...                   NaN   \n",
       "0                            0.769697  ...              0.117613   \n",
       "\n",
       "   perf_grp_precision_1  perf_grp_false positive rate_0  \\\n",
       "0                   NaN                             NaN   \n",
       "0              0.140535                        0.964616   \n",
       "0                   NaN                             NaN   \n",
       "0              0.152087                        0.909531   \n",
       "\n",
       "   perf_grp_false positive rate_1  perf_grp_false negative rate_0  \\\n",
       "0                             NaN                             NaN   \n",
       "0                        0.871964                        0.025760   \n",
       "0                             NaN                             NaN   \n",
       "0                        0.685774                        0.069679   \n",
       "\n",
       "   perf_grp_false negative rate_1  perf_grp_selection rate_0  \\\n",
       "0                             NaN                        NaN   \n",
       "0                        0.063567                   0.965725   \n",
       "0                             NaN                        NaN   \n",
       "0                        0.192123                   0.911928   \n",
       "\n",
       "   perf_grp_selection rate_1  perf_grp_count_0  perf_grp_count_1  \n",
       "0                        NaN               NaN               NaN  \n",
       "0                   0.880483           20540.0           69170.0  \n",
       "0                        NaN               NaN               NaN  \n",
       "0                   0.701908           20540.0           69170.0  \n",
       "\n",
       "[4 rows x 50 columns]"
      ]
     },
     "execution_count": 64,
     "metadata": {},
     "output_type": "execute_result"
    }
   ],
   "source": [
    "final_output = universe_analysis.generate_final_output(\n",
    "    y_pred_prob=probs_test,\n",
    "    y_test=y_true,\n",
    "    org_test=org_test,\n",
    "    filter_data=filter_sub_universe_data,\n",
    "    cp_metrics_df=cp_metrics_df,\n",
    "    save=True,\n",
    ")\n",
    "final_output"
   ]
  },
  {
   "cell_type": "code",
   "execution_count": null,
   "id": "8b80a1ff",
   "metadata": {
    "papermill": {
     "duration": 0.031307,
     "end_time": "2025-08-19T18:40:23.762818",
     "exception": false,
     "start_time": "2025-08-19T18:40:23.731511",
     "status": "completed"
    },
    "tags": []
   },
   "outputs": [],
   "source": []
  },
  {
   "cell_type": "code",
   "execution_count": null,
   "id": "275c9fad",
   "metadata": {
    "papermill": {
     "duration": 0.02755,
     "end_time": "2025-08-19T18:40:23.821289",
     "exception": false,
     "start_time": "2025-08-19T18:40:23.793739",
     "status": "completed"
    },
    "tags": []
   },
   "outputs": [],
   "source": []
  }
 ],
 "metadata": {
  "celltoolbar": "Tags",
  "kernelspec": {
   "display_name": "Python (CMA Fairness)",
   "language": "python",
   "name": "cma_fair_env"
  },
  "language_info": {
   "codemirror_mode": {
    "name": "ipython",
    "version": 3
   },
   "file_extension": ".py",
   "mimetype": "text/x-python",
   "name": "python",
   "nbconvert_exporter": "python",
   "pygments_lexer": "ipython3",
   "version": "3.10.12"
  },
  "papermill": {
   "default_parameters": {},
   "duration": 47.368471,
   "end_time": "2025-08-19T18:40:24.971052",
   "environment_variables": {},
   "exception": null,
   "input_path": "universe_analysis.ipynb",
   "output_path": "output/runs/3/notebooks/m_3-3e3aba496858c4fcba82d2d8c53d6960.ipynb",
   "parameters": {
    "output_dir": "output",
    "run_no": "3",
    "seed": "2023",
    "universe": "{\"cutoff\": [\"quantile_0.1\", \"quantile_0.25\"], \"eval_fairness_grouping\": [\"majority-minority\", \"nationality-all\"], \"exclude_features\": \"age\", \"exclude_subgroups\": \"drop-non-german\", \"model\": \"elasticnet\", \"scale\": \"do-not-scale\", \"training_size\": \"5k\", \"training_year\": \"2012_14\"}",
    "universe_id": "3e3aba496858c4fcba82d2d8c53d6960"
   },
   "start_time": "2025-08-19T18:39:37.602581",
   "version": "2.6.0"
  }
 },
 "nbformat": 4,
 "nbformat_minor": 5
}