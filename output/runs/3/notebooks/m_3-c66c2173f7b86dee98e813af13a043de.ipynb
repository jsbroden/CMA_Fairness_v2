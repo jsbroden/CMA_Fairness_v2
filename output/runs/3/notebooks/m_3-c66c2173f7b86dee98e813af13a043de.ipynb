{
 "cells": [
  {
   "cell_type": "markdown",
   "id": "ef23dbb3",
   "metadata": {
    "papermill": {
     "duration": 0.023429,
     "end_time": "2025-08-19T19:07:31.197845",
     "exception": false,
     "start_time": "2025-08-19T19:07:31.174416",
     "status": "completed"
    },
    "tags": []
   },
   "source": [
    "# Setup"
   ]
  },
  {
   "cell_type": "code",
   "execution_count": 1,
   "id": "0bc8e7dc",
   "metadata": {
    "execution": {
     "iopub.execute_input": "2025-08-19T19:07:31.221251Z",
     "iopub.status.busy": "2025-08-19T19:07:31.220639Z",
     "iopub.status.idle": "2025-08-19T19:07:31.243004Z",
     "shell.execute_reply": "2025-08-19T19:07:31.241922Z"
    },
    "papermill": {
     "duration": 0.034976,
     "end_time": "2025-08-19T19:07:31.244889",
     "exception": false,
     "start_time": "2025-08-19T19:07:31.209913",
     "status": "completed"
    },
    "tags": []
   },
   "outputs": [
    {
     "name": "stdout",
     "output_type": "stream",
     "text": [
      "/dss/dsshome1/0C/ra93lal2/cma/CMA_Fairness_v2\n"
     ]
    },
    {
     "name": "stderr",
     "output_type": "stream",
     "text": [
      "/dss/dsshome1/0C/ra93lal2/.local/share/virtualenvs/CMA_Fairness_v2-3j10GkSs/lib/python3.10/site-packages/IPython/core/magics/osm.py:393: UserWarning: This is now an optional IPython functionality, using bookmarks requires you to install the `pickleshare` library.\n",
      "  bkms = self.shell.db.get('bookmarks', {})\n",
      "/dss/dsshome1/0C/ra93lal2/.local/share/virtualenvs/CMA_Fairness_v2-3j10GkSs/lib/python3.10/site-packages/IPython/core/magics/osm.py:417: UserWarning: This is now an optional IPython functionality, setting dhist requires you to install the `pickleshare` library.\n",
      "  self.shell.db['dhist'] = compress_dhist(dhist)[-100:]\n"
     ]
    }
   ],
   "source": [
    "%cd ~/cma/CMA_Fairness_v2"
   ]
  },
  {
   "cell_type": "markdown",
   "id": "9d235661",
   "metadata": {
    "papermill": {
     "duration": 0.009505,
     "end_time": "2025-08-19T19:07:31.269178",
     "exception": false,
     "start_time": "2025-08-19T19:07:31.259673",
     "status": "completed"
    },
    "tags": []
   },
   "source": [
    "The following cell holds the definition of our parameters, these values can be overriden by rendering the with e.g. the following command:\n",
    "\n",
    "papermill -p alpha 0.2 -p ratio 0.3 universe_analysis.ipynb output/test_run.ipynb"
   ]
  },
  {
   "cell_type": "code",
   "execution_count": 2,
   "id": "4a789d8e",
   "metadata": {
    "execution": {
     "iopub.execute_input": "2025-08-19T19:07:31.290697Z",
     "iopub.status.busy": "2025-08-19T19:07:31.290020Z",
     "iopub.status.idle": "2025-08-19T19:07:31.298635Z",
     "shell.execute_reply": "2025-08-19T19:07:31.297069Z"
    },
    "papermill": {
     "duration": 0.022296,
     "end_time": "2025-08-19T19:07:31.300339",
     "exception": false,
     "start_time": "2025-08-19T19:07:31.278043",
     "status": "completed"
    },
    "tags": []
   },
   "outputs": [
    {
     "name": "stdout",
     "output_type": "stream",
     "text": [
      "Current working directory: /dss/dsshome1/0C/ra93lal2/cma/CMA_Fairness_v2\n"
     ]
    }
   ],
   "source": [
    "import os\n",
    "print(\"Current working directory:\", os.getcwd())"
   ]
  },
  {
   "cell_type": "code",
   "execution_count": 3,
   "id": "4132aaed",
   "metadata": {
    "execution": {
     "iopub.execute_input": "2025-08-19T19:07:31.324685Z",
     "iopub.status.busy": "2025-08-19T19:07:31.322734Z",
     "iopub.status.idle": "2025-08-19T19:07:31.333538Z",
     "shell.execute_reply": "2025-08-19T19:07:31.332150Z"
    },
    "papermill": {
     "duration": 0.02386,
     "end_time": "2025-08-19T19:07:31.335852",
     "exception": false,
     "start_time": "2025-08-19T19:07:31.311992",
     "status": "completed"
    },
    "tags": [
     "parameters"
    ]
   },
   "outputs": [],
   "source": [
    "run_no = 0\n",
    "universe_id = \"test\"\n",
    "universe = {\n",
    "    \"training_size\": \"5k\", # \"25k\", \"5k\", \"1k\"\n",
    "    \"training_year\": \"2012_14\", # \"2014\", \"2012_14\", \"2010_14\"\n",
    "    \"scale\": \"scale\", # \"scale\", \"do-not-scale\",\n",
    "    \"model\": \"elasticnet\", # \"logreg\", \"penalized_logreg\", \"rf\", \"gbm\", \"elasticnet\"\n",
    "    \"cutoff\": [\"quantile_0.15\", \"quantile_0.30\"],\n",
    "    \"exclude_features\": \"age\", # \"none\", \"nationality\", \"sex\", \"nationality-sex\", \"age\"\n",
    "    \"exclude_subgroups\": \"drop-non-german\", # \"keep-all\", \"drop-non-german\"\n",
    "    \"eval_fairness_grouping\": [\"majority-minority\", \"nationality-all\"]\n",
    "}\n",
    "\n",
    "output_dir=\"./output\"\n",
    "seed=0"
   ]
  },
  {
   "cell_type": "code",
   "execution_count": 4,
   "id": "dc27dec9",
   "metadata": {
    "execution": {
     "iopub.execute_input": "2025-08-19T19:07:31.364763Z",
     "iopub.status.busy": "2025-08-19T19:07:31.362829Z",
     "iopub.status.idle": "2025-08-19T19:07:31.372343Z",
     "shell.execute_reply": "2025-08-19T19:07:31.370630Z"
    },
    "papermill": {
     "duration": 0.024206,
     "end_time": "2025-08-19T19:07:31.374254",
     "exception": false,
     "start_time": "2025-08-19T19:07:31.350048",
     "status": "completed"
    },
    "tags": [
     "injected-parameters"
    ]
   },
   "outputs": [],
   "source": [
    "# Parameters\n",
    "universe_id = \"c66c2173f7b86dee98e813af13a043de\"\n",
    "run_no = \"3\"\n",
    "universe = \"{\\\"cutoff\\\": [\\\"quantile_0.1\\\", \\\"quantile_0.25\\\"], \\\"eval_fairness_grouping\\\": [\\\"majority-minority\\\", \\\"nationality-all\\\"], \\\"exclude_features\\\": \\\"nationality-sex\\\", \\\"exclude_subgroups\\\": \\\"drop-non-german\\\", \\\"model\\\": \\\"gbm\\\", \\\"scale\\\": \\\"scale\\\", \\\"training_size\\\": \\\"1k\\\", \\\"training_year\\\": \\\"2010_14\\\"}\"\n",
    "output_dir = \"output\"\n",
    "seed = \"2023\"\n"
   ]
  },
  {
   "cell_type": "code",
   "execution_count": 5,
   "id": "a5d7941f",
   "metadata": {
    "execution": {
     "iopub.execute_input": "2025-08-19T19:07:31.400269Z",
     "iopub.status.busy": "2025-08-19T19:07:31.398370Z",
     "iopub.status.idle": "2025-08-19T19:07:31.407339Z",
     "shell.execute_reply": "2025-08-19T19:07:31.405625Z"
    },
    "papermill": {
     "duration": 0.025217,
     "end_time": "2025-08-19T19:07:31.411695",
     "exception": false,
     "start_time": "2025-08-19T19:07:31.386478",
     "status": "completed"
    },
    "tags": []
   },
   "outputs": [],
   "source": [
    "import json\n",
    "if isinstance(universe, str):\n",
    "    universe = json.loads(universe)"
   ]
  },
  {
   "cell_type": "code",
   "execution_count": 6,
   "id": "7076ccb1",
   "metadata": {
    "execution": {
     "iopub.execute_input": "2025-08-19T19:07:31.447734Z",
     "iopub.status.busy": "2025-08-19T19:07:31.446862Z",
     "iopub.status.idle": "2025-08-19T19:07:31.488967Z",
     "shell.execute_reply": "2025-08-19T19:07:31.488098Z"
    },
    "papermill": {
     "duration": 0.055044,
     "end_time": "2025-08-19T19:07:31.490550",
     "exception": false,
     "start_time": "2025-08-19T19:07:31.435506",
     "status": "completed"
    },
    "tags": []
   },
   "outputs": [],
   "source": [
    "# Auto-reload the custom package\n",
    "%load_ext autoreload\n",
    "%autoreload 1\n",
    "%aimport fairness_multiverse"
   ]
  },
  {
   "cell_type": "code",
   "execution_count": 7,
   "id": "94c8eb93",
   "metadata": {
    "execution": {
     "iopub.execute_input": "2025-08-19T19:07:31.510941Z",
     "iopub.status.busy": "2025-08-19T19:07:31.510517Z",
     "iopub.status.idle": "2025-08-19T19:07:33.040361Z",
     "shell.execute_reply": "2025-08-19T19:07:33.039126Z"
    },
    "papermill": {
     "duration": 1.542294,
     "end_time": "2025-08-19T19:07:33.042177",
     "exception": false,
     "start_time": "2025-08-19T19:07:31.499883",
     "status": "completed"
    },
    "tags": []
   },
   "outputs": [],
   "source": [
    "from fairness_multiverse.universe import UniverseAnalysis\n",
    "\n",
    "universe_analysis = UniverseAnalysis(\n",
    "    run_no = run_no,\n",
    "    universe_id = universe_id,\n",
    "    universe = universe,\n",
    "    output_dir=output_dir,\n",
    ")"
   ]
  },
  {
   "cell_type": "code",
   "execution_count": 8,
   "id": "2a6381cf",
   "metadata": {
    "execution": {
     "iopub.execute_input": "2025-08-19T19:07:33.062475Z",
     "iopub.status.busy": "2025-08-19T19:07:33.062147Z",
     "iopub.status.idle": "2025-08-19T19:07:33.070471Z",
     "shell.execute_reply": "2025-08-19T19:07:33.069576Z"
    },
    "papermill": {
     "duration": 0.020378,
     "end_time": "2025-08-19T19:07:33.071910",
     "exception": false,
     "start_time": "2025-08-19T19:07:33.051532",
     "status": "completed"
    },
    "tags": []
   },
   "outputs": [
    {
     "name": "stdout",
     "output_type": "stream",
     "text": [
      "Using Seed: 2023\n"
     ]
    }
   ],
   "source": [
    "import numpy as np\n",
    "parsed_seed = int(seed)\n",
    "np.random.seed(parsed_seed)\n",
    "print(f\"Using Seed: {parsed_seed}\")"
   ]
  },
  {
   "cell_type": "markdown",
   "id": "b6e958b4",
   "metadata": {
    "papermill": {
     "duration": 0.009169,
     "end_time": "2025-08-19T19:07:33.090639",
     "exception": false,
     "start_time": "2025-08-19T19:07:33.081470",
     "status": "completed"
    },
    "tags": []
   },
   "source": [
    "# Loading Data"
   ]
  },
  {
   "cell_type": "code",
   "execution_count": 9,
   "id": "98701482",
   "metadata": {
    "execution": {
     "iopub.execute_input": "2025-08-19T19:07:33.111842Z",
     "iopub.status.busy": "2025-08-19T19:07:33.111126Z",
     "iopub.status.idle": "2025-08-19T19:07:43.959292Z",
     "shell.execute_reply": "2025-08-19T19:07:43.958222Z"
    },
    "papermill": {
     "duration": 10.861681,
     "end_time": "2025-08-19T19:07:43.961462",
     "exception": false,
     "start_time": "2025-08-19T19:07:33.099781",
     "status": "completed"
    },
    "tags": []
   },
   "outputs": [
    {
     "name": "stdout",
     "output_type": "stream",
     "text": [
      "Loading SIAB data from cache: data/siab_cached.csv.gz\n"
     ]
    },
    {
     "name": "stdout",
     "output_type": "stream",
     "text": [
      "(643690, 164)\n"
     ]
    }
   ],
   "source": [
    "from pathlib import Path\n",
    "import pandas as pd\n",
    "\n",
    "# File paths\n",
    "raw_file = Path(\"data/raw/siab.csv\")\n",
    "cache_file = Path(\"data/siab_cached.csv.gz\")\n",
    "\n",
    "# Ensure cache directory exists\n",
    "cache_file.parent.mkdir(parents=True, exist_ok=True)\n",
    "\n",
    "# Load with simple caching\n",
    "if cache_file.exists():\n",
    "    print(f\"Loading SIAB data from cache: {cache_file}\")\n",
    "    siab = pd.read_csv(cache_file, compression='gzip')\n",
    "else:\n",
    "    print(f\"Cache not found. Reading raw SIAB data: {raw_file}\")\n",
    "    siab = pd.read_csv(raw_file)\n",
    "    siab.to_csv(cache_file, index=False, compression='gzip')\n",
    "    print(f\"Cached SIAB data to: {cache_file}\")\n",
    "\n",
    "print(siab.shape)"
   ]
  },
  {
   "cell_type": "code",
   "execution_count": 10,
   "id": "058d2abb",
   "metadata": {
    "execution": {
     "iopub.execute_input": "2025-08-19T19:07:44.001322Z",
     "iopub.status.busy": "2025-08-19T19:07:44.000411Z",
     "iopub.status.idle": "2025-08-19T19:07:44.292585Z",
     "shell.execute_reply": "2025-08-19T19:07:44.291083Z"
    },
    "papermill": {
     "duration": 0.319609,
     "end_time": "2025-08-19T19:07:44.294064",
     "exception": false,
     "start_time": "2025-08-19T19:07:43.974455",
     "status": "completed"
    },
    "tags": []
   },
   "outputs": [
    {
     "data": {
      "text/html": [
       "<div>\n",
       "<style scoped>\n",
       "    .dataframe tbody tr th:only-of-type {\n",
       "        vertical-align: middle;\n",
       "    }\n",
       "\n",
       "    .dataframe tbody tr th {\n",
       "        vertical-align: top;\n",
       "    }\n",
       "\n",
       "    .dataframe thead th {\n",
       "        text-align: right;\n",
       "    }\n",
       "</style>\n",
       "<table border=\"1\" class=\"dataframe\">\n",
       "  <thead>\n",
       "    <tr style=\"text-align: right;\">\n",
       "      <th></th>\n",
       "      <th>persnr</th>\n",
       "      <th>year</th>\n",
       "      <th>nrEntry</th>\n",
       "      <th>ltue</th>\n",
       "      <th>employed_before</th>\n",
       "      <th>receipt_leh_before</th>\n",
       "      <th>receipt_lhg_before</th>\n",
       "      <th>se_before</th>\n",
       "      <th>ASU_notue_seeking_before</th>\n",
       "      <th>ASU_other_before</th>\n",
       "      <th>...</th>\n",
       "      <th>minijob_tot_dur_byage</th>\n",
       "      <th>ft_tot_dur_byage</th>\n",
       "      <th>befrist_tot_dur_byage</th>\n",
       "      <th>leih_tot_dur_byage</th>\n",
       "      <th>LHG_tot_dur_byage</th>\n",
       "      <th>LEH_tot_dur_byage</th>\n",
       "      <th>almp_tot_dur_byage</th>\n",
       "      <th>almp_aw_tot_dur_byage</th>\n",
       "      <th>se_tot_dur_byage</th>\n",
       "      <th>seeking1_tot_dur_byage</th>\n",
       "    </tr>\n",
       "  </thead>\n",
       "  <tbody>\n",
       "    <tr>\n",
       "      <th>0</th>\n",
       "      <td>7</td>\n",
       "      <td>2015</td>\n",
       "      <td>1</td>\n",
       "      <td>0</td>\n",
       "      <td>1</td>\n",
       "      <td>0</td>\n",
       "      <td>0</td>\n",
       "      <td>0</td>\n",
       "      <td>1</td>\n",
       "      <td>0</td>\n",
       "      <td>...</td>\n",
       "      <td>0.000000</td>\n",
       "      <td>0.000000</td>\n",
       "      <td>15.043478</td>\n",
       "      <td>0.000000</td>\n",
       "      <td>0.000000</td>\n",
       "      <td>0.000000</td>\n",
       "      <td>0.000000</td>\n",
       "      <td>0.000000</td>\n",
       "      <td>0.000000</td>\n",
       "      <td>0.000000</td>\n",
       "    </tr>\n",
       "    <tr>\n",
       "      <th>1</th>\n",
       "      <td>18</td>\n",
       "      <td>2010</td>\n",
       "      <td>1</td>\n",
       "      <td>1</td>\n",
       "      <td>0</td>\n",
       "      <td>0</td>\n",
       "      <td>0</td>\n",
       "      <td>0</td>\n",
       "      <td>0</td>\n",
       "      <td>0</td>\n",
       "      <td>...</td>\n",
       "      <td>0.000000</td>\n",
       "      <td>0.000000</td>\n",
       "      <td>0.000000</td>\n",
       "      <td>0.000000</td>\n",
       "      <td>0.000000</td>\n",
       "      <td>0.000000</td>\n",
       "      <td>0.000000</td>\n",
       "      <td>0.000000</td>\n",
       "      <td>0.000000</td>\n",
       "      <td>0.000000</td>\n",
       "    </tr>\n",
       "    <tr>\n",
       "      <th>2</th>\n",
       "      <td>18</td>\n",
       "      <td>2011</td>\n",
       "      <td>2</td>\n",
       "      <td>0</td>\n",
       "      <td>1</td>\n",
       "      <td>0</td>\n",
       "      <td>1</td>\n",
       "      <td>0</td>\n",
       "      <td>1</td>\n",
       "      <td>0</td>\n",
       "      <td>...</td>\n",
       "      <td>2.714286</td>\n",
       "      <td>2.714286</td>\n",
       "      <td>0.000000</td>\n",
       "      <td>0.000000</td>\n",
       "      <td>10.775510</td>\n",
       "      <td>0.000000</td>\n",
       "      <td>8.367347</td>\n",
       "      <td>0.000000</td>\n",
       "      <td>0.000000</td>\n",
       "      <td>9.836735</td>\n",
       "    </tr>\n",
       "    <tr>\n",
       "      <th>3</th>\n",
       "      <td>18</td>\n",
       "      <td>2012</td>\n",
       "      <td>3</td>\n",
       "      <td>0</td>\n",
       "      <td>1</td>\n",
       "      <td>0</td>\n",
       "      <td>1</td>\n",
       "      <td>0</td>\n",
       "      <td>1</td>\n",
       "      <td>0</td>\n",
       "      <td>...</td>\n",
       "      <td>4.200000</td>\n",
       "      <td>4.200000</td>\n",
       "      <td>0.000000</td>\n",
       "      <td>0.000000</td>\n",
       "      <td>12.100000</td>\n",
       "      <td>0.000000</td>\n",
       "      <td>9.400000</td>\n",
       "      <td>0.000000</td>\n",
       "      <td>0.000000</td>\n",
       "      <td>9.960000</td>\n",
       "    </tr>\n",
       "    <tr>\n",
       "      <th>4</th>\n",
       "      <td>18</td>\n",
       "      <td>2012</td>\n",
       "      <td>4</td>\n",
       "      <td>0</td>\n",
       "      <td>1</td>\n",
       "      <td>0</td>\n",
       "      <td>1</td>\n",
       "      <td>0</td>\n",
       "      <td>1</td>\n",
       "      <td>0</td>\n",
       "      <td>...</td>\n",
       "      <td>5.460000</td>\n",
       "      <td>5.460000</td>\n",
       "      <td>0.000000</td>\n",
       "      <td>0.000000</td>\n",
       "      <td>13.360000</td>\n",
       "      <td>0.000000</td>\n",
       "      <td>10.320000</td>\n",
       "      <td>0.000000</td>\n",
       "      <td>0.000000</td>\n",
       "      <td>10.280000</td>\n",
       "    </tr>\n",
       "    <tr>\n",
       "      <th>...</th>\n",
       "      <td>...</td>\n",
       "      <td>...</td>\n",
       "      <td>...</td>\n",
       "      <td>...</td>\n",
       "      <td>...</td>\n",
       "      <td>...</td>\n",
       "      <td>...</td>\n",
       "      <td>...</td>\n",
       "      <td>...</td>\n",
       "      <td>...</td>\n",
       "      <td>...</td>\n",
       "      <td>...</td>\n",
       "      <td>...</td>\n",
       "      <td>...</td>\n",
       "      <td>...</td>\n",
       "      <td>...</td>\n",
       "      <td>...</td>\n",
       "      <td>...</td>\n",
       "      <td>...</td>\n",
       "      <td>...</td>\n",
       "      <td>...</td>\n",
       "    </tr>\n",
       "    <tr>\n",
       "      <th>643685</th>\n",
       "      <td>1827860</td>\n",
       "      <td>2013</td>\n",
       "      <td>1</td>\n",
       "      <td>0</td>\n",
       "      <td>0</td>\n",
       "      <td>0</td>\n",
       "      <td>1</td>\n",
       "      <td>0</td>\n",
       "      <td>0</td>\n",
       "      <td>1</td>\n",
       "      <td>...</td>\n",
       "      <td>0.000000</td>\n",
       "      <td>0.000000</td>\n",
       "      <td>0.000000</td>\n",
       "      <td>0.000000</td>\n",
       "      <td>0.612903</td>\n",
       "      <td>0.000000</td>\n",
       "      <td>0.000000</td>\n",
       "      <td>0.000000</td>\n",
       "      <td>0.000000</td>\n",
       "      <td>0.000000</td>\n",
       "    </tr>\n",
       "    <tr>\n",
       "      <th>643686</th>\n",
       "      <td>1827860</td>\n",
       "      <td>2015</td>\n",
       "      <td>2</td>\n",
       "      <td>1</td>\n",
       "      <td>0</td>\n",
       "      <td>0</td>\n",
       "      <td>1</td>\n",
       "      <td>0</td>\n",
       "      <td>1</td>\n",
       "      <td>0</td>\n",
       "      <td>...</td>\n",
       "      <td>0.000000</td>\n",
       "      <td>0.000000</td>\n",
       "      <td>0.212121</td>\n",
       "      <td>0.212121</td>\n",
       "      <td>17.363636</td>\n",
       "      <td>0.000000</td>\n",
       "      <td>8.909091</td>\n",
       "      <td>0.000000</td>\n",
       "      <td>0.000000</td>\n",
       "      <td>7.121212</td>\n",
       "    </tr>\n",
       "    <tr>\n",
       "      <th>643687</th>\n",
       "      <td>1827860</td>\n",
       "      <td>2016</td>\n",
       "      <td>3</td>\n",
       "      <td>1</td>\n",
       "      <td>0</td>\n",
       "      <td>0</td>\n",
       "      <td>1</td>\n",
       "      <td>1</td>\n",
       "      <td>0</td>\n",
       "      <td>1</td>\n",
       "      <td>...</td>\n",
       "      <td>0.000000</td>\n",
       "      <td>0.000000</td>\n",
       "      <td>0.294118</td>\n",
       "      <td>0.205882</td>\n",
       "      <td>34.705882</td>\n",
       "      <td>0.000000</td>\n",
       "      <td>10.352941</td>\n",
       "      <td>1.705882</td>\n",
       "      <td>1.705882</td>\n",
       "      <td>23.911765</td>\n",
       "    </tr>\n",
       "    <tr>\n",
       "      <th>643688</th>\n",
       "      <td>1827869</td>\n",
       "      <td>2013</td>\n",
       "      <td>1</td>\n",
       "      <td>1</td>\n",
       "      <td>1</td>\n",
       "      <td>0</td>\n",
       "      <td>0</td>\n",
       "      <td>0</td>\n",
       "      <td>1</td>\n",
       "      <td>0</td>\n",
       "      <td>...</td>\n",
       "      <td>0.000000</td>\n",
       "      <td>0.000000</td>\n",
       "      <td>0.000000</td>\n",
       "      <td>0.000000</td>\n",
       "      <td>0.000000</td>\n",
       "      <td>0.525424</td>\n",
       "      <td>0.000000</td>\n",
       "      <td>0.000000</td>\n",
       "      <td>0.000000</td>\n",
       "      <td>0.000000</td>\n",
       "    </tr>\n",
       "    <tr>\n",
       "      <th>643689</th>\n",
       "      <td>1827869</td>\n",
       "      <td>2014</td>\n",
       "      <td>2</td>\n",
       "      <td>0</td>\n",
       "      <td>0</td>\n",
       "      <td>1</td>\n",
       "      <td>0</td>\n",
       "      <td>0</td>\n",
       "      <td>1</td>\n",
       "      <td>0</td>\n",
       "      <td>...</td>\n",
       "      <td>0.000000</td>\n",
       "      <td>0.666667</td>\n",
       "      <td>0.666667</td>\n",
       "      <td>0.000000</td>\n",
       "      <td>0.000000</td>\n",
       "      <td>8.950000</td>\n",
       "      <td>1.033333</td>\n",
       "      <td>0.083333</td>\n",
       "      <td>0.083333</td>\n",
       "      <td>8.133333</td>\n",
       "    </tr>\n",
       "  </tbody>\n",
       "</table>\n",
       "<p>643690 rows × 164 columns</p>\n",
       "</div>"
      ],
      "text/plain": [
       "         persnr  year  nrEntry  ltue  employed_before  receipt_leh_before  \\\n",
       "0             7  2015        1     0                1                   0   \n",
       "1            18  2010        1     1                0                   0   \n",
       "2            18  2011        2     0                1                   0   \n",
       "3            18  2012        3     0                1                   0   \n",
       "4            18  2012        4     0                1                   0   \n",
       "...         ...   ...      ...   ...              ...                 ...   \n",
       "643685  1827860  2013        1     0                0                   0   \n",
       "643686  1827860  2015        2     1                0                   0   \n",
       "643687  1827860  2016        3     1                0                   0   \n",
       "643688  1827869  2013        1     1                1                   0   \n",
       "643689  1827869  2014        2     0                0                   1   \n",
       "\n",
       "        receipt_lhg_before  se_before  ASU_notue_seeking_before  \\\n",
       "0                        0          0                         1   \n",
       "1                        0          0                         0   \n",
       "2                        1          0                         1   \n",
       "3                        1          0                         1   \n",
       "4                        1          0                         1   \n",
       "...                    ...        ...                       ...   \n",
       "643685                   1          0                         0   \n",
       "643686                   1          0                         1   \n",
       "643687                   1          1                         0   \n",
       "643688                   0          0                         1   \n",
       "643689                   0          0                         1   \n",
       "\n",
       "        ASU_other_before  ...  minijob_tot_dur_byage  ft_tot_dur_byage  \\\n",
       "0                      0  ...               0.000000          0.000000   \n",
       "1                      0  ...               0.000000          0.000000   \n",
       "2                      0  ...               2.714286          2.714286   \n",
       "3                      0  ...               4.200000          4.200000   \n",
       "4                      0  ...               5.460000          5.460000   \n",
       "...                  ...  ...                    ...               ...   \n",
       "643685                 1  ...               0.000000          0.000000   \n",
       "643686                 0  ...               0.000000          0.000000   \n",
       "643687                 1  ...               0.000000          0.000000   \n",
       "643688                 0  ...               0.000000          0.000000   \n",
       "643689                 0  ...               0.000000          0.666667   \n",
       "\n",
       "        befrist_tot_dur_byage  leih_tot_dur_byage  LHG_tot_dur_byage  \\\n",
       "0                   15.043478            0.000000           0.000000   \n",
       "1                    0.000000            0.000000           0.000000   \n",
       "2                    0.000000            0.000000          10.775510   \n",
       "3                    0.000000            0.000000          12.100000   \n",
       "4                    0.000000            0.000000          13.360000   \n",
       "...                       ...                 ...                ...   \n",
       "643685               0.000000            0.000000           0.612903   \n",
       "643686               0.212121            0.212121          17.363636   \n",
       "643687               0.294118            0.205882          34.705882   \n",
       "643688               0.000000            0.000000           0.000000   \n",
       "643689               0.666667            0.000000           0.000000   \n",
       "\n",
       "        LEH_tot_dur_byage  almp_tot_dur_byage  almp_aw_tot_dur_byage  \\\n",
       "0                0.000000            0.000000               0.000000   \n",
       "1                0.000000            0.000000               0.000000   \n",
       "2                0.000000            8.367347               0.000000   \n",
       "3                0.000000            9.400000               0.000000   \n",
       "4                0.000000           10.320000               0.000000   \n",
       "...                   ...                 ...                    ...   \n",
       "643685           0.000000            0.000000               0.000000   \n",
       "643686           0.000000            8.909091               0.000000   \n",
       "643687           0.000000           10.352941               1.705882   \n",
       "643688           0.525424            0.000000               0.000000   \n",
       "643689           8.950000            1.033333               0.083333   \n",
       "\n",
       "        se_tot_dur_byage  seeking1_tot_dur_byage  \n",
       "0               0.000000                0.000000  \n",
       "1               0.000000                0.000000  \n",
       "2               0.000000                9.836735  \n",
       "3               0.000000                9.960000  \n",
       "4               0.000000               10.280000  \n",
       "...                  ...                     ...  \n",
       "643685          0.000000                0.000000  \n",
       "643686          0.000000                7.121212  \n",
       "643687          1.705882               23.911765  \n",
       "643688          0.000000                0.000000  \n",
       "643689          0.083333                8.133333  \n",
       "\n",
       "[643690 rows x 164 columns]"
      ]
     },
     "execution_count": 10,
     "metadata": {},
     "output_type": "execute_result"
    }
   ],
   "source": [
    "siab"
   ]
  },
  {
   "cell_type": "markdown",
   "id": "1f87e805",
   "metadata": {
    "papermill": {
     "duration": 0.037247,
     "end_time": "2025-08-19T19:07:44.346449",
     "exception": false,
     "start_time": "2025-08-19T19:07:44.309202",
     "status": "completed"
    },
    "tags": []
   },
   "source": [
    "# Splitting Data and Setting Training Data Size"
   ]
  },
  {
   "cell_type": "code",
   "execution_count": 11,
   "id": "910ae358",
   "metadata": {
    "execution": {
     "iopub.execute_input": "2025-08-19T19:07:44.375089Z",
     "iopub.status.busy": "2025-08-19T19:07:44.374517Z",
     "iopub.status.idle": "2025-08-19T19:07:45.506604Z",
     "shell.execute_reply": "2025-08-19T19:07:45.505770Z"
    },
    "papermill": {
     "duration": 1.147996,
     "end_time": "2025-08-19T19:07:45.508370",
     "exception": false,
     "start_time": "2025-08-19T19:07:44.360374",
     "status": "completed"
    },
    "tags": []
   },
   "outputs": [],
   "source": [
    "from fairness_multiverse.universe import sample_by_year_size\n",
    "\n",
    "siab_train = sample_by_year_size(siab,\n",
    "                               training_year=universe[\"training_year\"],\n",
    "                               training_size=universe[\"training_size\"])"
   ]
  },
  {
   "cell_type": "code",
   "execution_count": 12,
   "id": "919c8ff5",
   "metadata": {
    "execution": {
     "iopub.execute_input": "2025-08-19T19:07:45.533486Z",
     "iopub.status.busy": "2025-08-19T19:07:45.529849Z",
     "iopub.status.idle": "2025-08-19T19:07:45.541078Z",
     "shell.execute_reply": "2025-08-19T19:07:45.539842Z"
    },
    "papermill": {
     "duration": 0.023865,
     "end_time": "2025-08-19T19:07:45.542665",
     "exception": false,
     "start_time": "2025-08-19T19:07:45.518800",
     "status": "completed"
    },
    "tags": []
   },
   "outputs": [
    {
     "data": {
      "text/plain": [
       "(1000, 164)"
      ]
     },
     "execution_count": 12,
     "metadata": {},
     "output_type": "execute_result"
    }
   ],
   "source": [
    "siab_train.shape"
   ]
  },
  {
   "cell_type": "code",
   "execution_count": 13,
   "id": "feb13bf4",
   "metadata": {
    "execution": {
     "iopub.execute_input": "2025-08-19T19:07:45.572026Z",
     "iopub.status.busy": "2025-08-19T19:07:45.571490Z",
     "iopub.status.idle": "2025-08-19T19:07:45.581241Z",
     "shell.execute_reply": "2025-08-19T19:07:45.580451Z"
    },
    "papermill": {
     "duration": 0.025876,
     "end_time": "2025-08-19T19:07:45.582479",
     "exception": false,
     "start_time": "2025-08-19T19:07:45.556603",
     "status": "completed"
    },
    "tags": []
   },
   "outputs": [
    {
     "data": {
      "text/plain": [
       "year\n",
       "2010    200\n",
       "2011    200\n",
       "2012    200\n",
       "2013    200\n",
       "2014    200\n",
       "dtype: int64"
      ]
     },
     "metadata": {},
     "output_type": "display_data"
    }
   ],
   "source": [
    "display(siab_train.groupby(\"year\").size())"
   ]
  },
  {
   "cell_type": "code",
   "execution_count": 14,
   "id": "0997782f",
   "metadata": {
    "execution": {
     "iopub.execute_input": "2025-08-19T19:07:45.622352Z",
     "iopub.status.busy": "2025-08-19T19:07:45.621751Z",
     "iopub.status.idle": "2025-08-19T19:07:45.963885Z",
     "shell.execute_reply": "2025-08-19T19:07:45.962315Z"
    },
    "papermill": {
     "duration": 0.369698,
     "end_time": "2025-08-19T19:07:45.965589",
     "exception": false,
     "start_time": "2025-08-19T19:07:45.595891",
     "status": "completed"
    },
    "tags": []
   },
   "outputs": [],
   "source": [
    "#siab_train = siab_s[siab_s.year < 2015]\n",
    "siab_calib = siab[siab.year == 2015]\n",
    "siab_test = siab[siab.year == 2016]"
   ]
  },
  {
   "cell_type": "code",
   "execution_count": 15,
   "id": "2c1e4012",
   "metadata": {
    "execution": {
     "iopub.execute_input": "2025-08-19T19:07:46.004665Z",
     "iopub.status.busy": "2025-08-19T19:07:46.004037Z",
     "iopub.status.idle": "2025-08-19T19:07:46.010941Z",
     "shell.execute_reply": "2025-08-19T19:07:46.010141Z"
    },
    "papermill": {
     "duration": 0.035762,
     "end_time": "2025-08-19T19:07:46.017081",
     "exception": false,
     "start_time": "2025-08-19T19:07:45.981319",
     "status": "completed"
    },
    "tags": []
   },
   "outputs": [],
   "source": [
    "#siab_calib.shape"
   ]
  },
  {
   "cell_type": "code",
   "execution_count": 16,
   "id": "f66b54ca",
   "metadata": {
    "execution": {
     "iopub.execute_input": "2025-08-19T19:07:46.041788Z",
     "iopub.status.busy": "2025-08-19T19:07:46.041335Z",
     "iopub.status.idle": "2025-08-19T19:07:46.358390Z",
     "shell.execute_reply": "2025-08-19T19:07:46.357536Z"
    },
    "papermill": {
     "duration": 0.330522,
     "end_time": "2025-08-19T19:07:46.360385",
     "exception": false,
     "start_time": "2025-08-19T19:07:46.029863",
     "status": "completed"
    },
    "tags": []
   },
   "outputs": [],
   "source": [
    "#siab_test.shape"
   ]
  },
  {
   "cell_type": "code",
   "execution_count": 17,
   "id": "27e4384d",
   "metadata": {
    "execution": {
     "iopub.execute_input": "2025-08-19T19:07:46.388856Z",
     "iopub.status.busy": "2025-08-19T19:07:46.388342Z",
     "iopub.status.idle": "2025-08-19T19:07:46.395584Z",
     "shell.execute_reply": "2025-08-19T19:07:46.394910Z"
    },
    "papermill": {
     "duration": 0.021253,
     "end_time": "2025-08-19T19:07:46.397042",
     "exception": false,
     "start_time": "2025-08-19T19:07:46.375789",
     "status": "completed"
    },
    "tags": []
   },
   "outputs": [],
   "source": [
    "X_train = siab_train.iloc[:,4:164]\n",
    "y_train = siab_train.iloc[:, [3]]"
   ]
  },
  {
   "cell_type": "code",
   "execution_count": 18,
   "id": "08ee8389",
   "metadata": {
    "execution": {
     "iopub.execute_input": "2025-08-19T19:07:46.424255Z",
     "iopub.status.busy": "2025-08-19T19:07:46.422792Z",
     "iopub.status.idle": "2025-08-19T19:07:46.555758Z",
     "shell.execute_reply": "2025-08-19T19:07:46.554753Z"
    },
    "papermill": {
     "duration": 0.147239,
     "end_time": "2025-08-19T19:07:46.557749",
     "exception": false,
     "start_time": "2025-08-19T19:07:46.410510",
     "status": "completed"
    },
    "tags": []
   },
   "outputs": [],
   "source": [
    "X_calib = siab_calib.iloc[:,4:164]\n",
    "y_calib = siab_calib.iloc[:, [3]]"
   ]
  },
  {
   "cell_type": "code",
   "execution_count": 19,
   "id": "b7ff42e0",
   "metadata": {
    "execution": {
     "iopub.execute_input": "2025-08-19T19:07:46.586595Z",
     "iopub.status.busy": "2025-08-19T19:07:46.585226Z",
     "iopub.status.idle": "2025-08-19T19:07:46.664757Z",
     "shell.execute_reply": "2025-08-19T19:07:46.663682Z"
    },
    "papermill": {
     "duration": 0.094505,
     "end_time": "2025-08-19T19:07:46.666755",
     "exception": false,
     "start_time": "2025-08-19T19:07:46.572250",
     "status": "completed"
    },
    "tags": []
   },
   "outputs": [],
   "source": [
    "X_test = siab_test.iloc[:,4:164]\n",
    "y_true = siab_test.iloc[:, [3]]"
   ]
  },
  {
   "cell_type": "code",
   "execution_count": 20,
   "id": "0275101e",
   "metadata": {
    "execution": {
     "iopub.execute_input": "2025-08-19T19:07:46.692902Z",
     "iopub.status.busy": "2025-08-19T19:07:46.692226Z",
     "iopub.status.idle": "2025-08-19T19:07:46.866890Z",
     "shell.execute_reply": "2025-08-19T19:07:46.865929Z"
    },
    "papermill": {
     "duration": 0.189299,
     "end_time": "2025-08-19T19:07:46.868899",
     "exception": false,
     "start_time": "2025-08-19T19:07:46.679600",
     "status": "completed"
    },
    "tags": []
   },
   "outputs": [],
   "source": [
    "# Auxiliary data needed downstream in the pipeline\n",
    "\n",
    "org_train = X_train.copy()\n",
    "org_test = X_test.copy()\n",
    "org_calib = X_calib.copy()"
   ]
  },
  {
   "cell_type": "markdown",
   "id": "b461e618",
   "metadata": {
    "papermill": {
     "duration": 0.011173,
     "end_time": "2025-08-19T19:07:46.891155",
     "exception": false,
     "start_time": "2025-08-19T19:07:46.879982",
     "status": "completed"
    },
    "tags": []
   },
   "source": [
    "# Preprocessing Data"
   ]
  },
  {
   "cell_type": "code",
   "execution_count": 21,
   "id": "78e74c4b",
   "metadata": {
    "execution": {
     "iopub.execute_input": "2025-08-19T19:07:46.916932Z",
     "iopub.status.busy": "2025-08-19T19:07:46.914936Z",
     "iopub.status.idle": "2025-08-19T19:07:46.923202Z",
     "shell.execute_reply": "2025-08-19T19:07:46.922065Z"
    },
    "papermill": {
     "duration": 0.022557,
     "end_time": "2025-08-19T19:07:46.924895",
     "exception": false,
     "start_time": "2025-08-19T19:07:46.902338",
     "status": "completed"
    },
    "tags": []
   },
   "outputs": [],
   "source": [
    "# EXCLUDE PROTECTED FEATURES\n",
    "# --------------------------\n",
    "\n",
    "excluded_features = universe[\"exclude_features\"].split(\"-\")\n",
    "excluded_features_dictionary = {\n",
    "    \"nationality\": [\"maxdeutsch1\", \"maxdeutsch.Missing.\"],\n",
    "    \"sex\": [\"frau1\"],\n",
    "    \"age\": [\"age\"],\n",
    "}"
   ]
  },
  {
   "cell_type": "code",
   "execution_count": 22,
   "id": "f8e63555",
   "metadata": {
    "execution": {
     "iopub.execute_input": "2025-08-19T19:07:46.952825Z",
     "iopub.status.busy": "2025-08-19T19:07:46.951330Z",
     "iopub.status.idle": "2025-08-19T19:07:46.973921Z",
     "shell.execute_reply": "2025-08-19T19:07:46.972468Z"
    },
    "papermill": {
     "duration": 0.037842,
     "end_time": "2025-08-19T19:07:46.976550",
     "exception": false,
     "start_time": "2025-08-19T19:07:46.938708",
     "status": "completed"
    },
    "tags": []
   },
   "outputs": [],
   "source": [
    "excluded_features_columns = [\n",
    "    excluded_features_dictionary[f] for f in excluded_features if len(f) > 0 and f != \"none\"\n",
    "]"
   ]
  },
  {
   "cell_type": "code",
   "execution_count": 23,
   "id": "da781f7c",
   "metadata": {
    "execution": {
     "iopub.execute_input": "2025-08-19T19:07:47.009349Z",
     "iopub.status.busy": "2025-08-19T19:07:47.008024Z",
     "iopub.status.idle": "2025-08-19T19:07:47.016059Z",
     "shell.execute_reply": "2025-08-19T19:07:47.014750Z"
    },
    "papermill": {
     "duration": 0.022608,
     "end_time": "2025-08-19T19:07:47.017618",
     "exception": false,
     "start_time": "2025-08-19T19:07:46.995010",
     "status": "completed"
    },
    "tags": []
   },
   "outputs": [],
   "source": [
    "from fairness_multiverse.universe import flatten_once\n",
    "\n",
    "excluded_features_columns = flatten_once(excluded_features_columns)"
   ]
  },
  {
   "cell_type": "code",
   "execution_count": 24,
   "id": "37fef0f0",
   "metadata": {
    "execution": {
     "iopub.execute_input": "2025-08-19T19:07:47.045000Z",
     "iopub.status.busy": "2025-08-19T19:07:47.041768Z",
     "iopub.status.idle": "2025-08-19T19:07:47.056323Z",
     "shell.execute_reply": "2025-08-19T19:07:47.055472Z"
    },
    "papermill": {
     "duration": 0.028675,
     "end_time": "2025-08-19T19:07:47.057958",
     "exception": false,
     "start_time": "2025-08-19T19:07:47.029283",
     "status": "completed"
    },
    "tags": []
   },
   "outputs": [
    {
     "name": "stdout",
     "output_type": "stream",
     "text": [
      "Dropping features: ['maxdeutsch1', 'maxdeutsch.Missing.', 'frau1']\n"
     ]
    }
   ],
   "source": [
    "if len(excluded_features_columns) > 0:\n",
    "    print(f\"Dropping features: {excluded_features_columns}\")\n",
    "    X_train.drop(excluded_features_columns, axis=1, inplace=True)"
   ]
  },
  {
   "cell_type": "code",
   "execution_count": 25,
   "id": "d029e3e9",
   "metadata": {
    "execution": {
     "iopub.execute_input": "2025-08-19T19:07:47.086544Z",
     "iopub.status.busy": "2025-08-19T19:07:47.085690Z",
     "iopub.status.idle": "2025-08-19T19:07:47.162998Z",
     "shell.execute_reply": "2025-08-19T19:07:47.162316Z"
    },
    "papermill": {
     "duration": 0.09394,
     "end_time": "2025-08-19T19:07:47.166266",
     "exception": false,
     "start_time": "2025-08-19T19:07:47.072326",
     "status": "completed"
    },
    "tags": []
   },
   "outputs": [
    {
     "name": "stdout",
     "output_type": "stream",
     "text": [
      "Dropping features: ['maxdeutsch1', 'maxdeutsch.Missing.', 'frau1']\n"
     ]
    }
   ],
   "source": [
    "if len(excluded_features_columns) > 0:\n",
    "    print(f\"Dropping features: {excluded_features_columns}\")\n",
    "    X_test.drop(excluded_features_columns, axis=1, inplace=True)"
   ]
  },
  {
   "cell_type": "code",
   "execution_count": 26,
   "id": "01d571f0",
   "metadata": {
    "execution": {
     "iopub.execute_input": "2025-08-19T19:07:47.208314Z",
     "iopub.status.busy": "2025-08-19T19:07:47.207151Z",
     "iopub.status.idle": "2025-08-19T19:07:47.267196Z",
     "shell.execute_reply": "2025-08-19T19:07:47.266515Z"
    },
    "papermill": {
     "duration": 0.080324,
     "end_time": "2025-08-19T19:07:47.270405",
     "exception": false,
     "start_time": "2025-08-19T19:07:47.190081",
     "status": "completed"
    },
    "tags": []
   },
   "outputs": [
    {
     "name": "stdout",
     "output_type": "stream",
     "text": [
      "Dropping features: ['maxdeutsch1', 'maxdeutsch.Missing.', 'frau1']\n"
     ]
    }
   ],
   "source": [
    "if len(excluded_features_columns) > 0:\n",
    "    print(f\"Dropping features: {excluded_features_columns}\")\n",
    "    X_calib.drop(excluded_features_columns, axis=1, inplace=True)"
   ]
  },
  {
   "cell_type": "code",
   "execution_count": 27,
   "id": "3037356e",
   "metadata": {
    "execution": {
     "iopub.execute_input": "2025-08-19T19:07:47.322034Z",
     "iopub.status.busy": "2025-08-19T19:07:47.320718Z",
     "iopub.status.idle": "2025-08-19T19:07:47.328439Z",
     "shell.execute_reply": "2025-08-19T19:07:47.327231Z"
    },
    "papermill": {
     "duration": 0.031894,
     "end_time": "2025-08-19T19:07:47.329947",
     "exception": false,
     "start_time": "2025-08-19T19:07:47.298053",
     "status": "completed"
    },
    "tags": []
   },
   "outputs": [],
   "source": [
    "# EXCLUDE CERTAIN SUBGROUPS\n",
    "# -------------------------\n",
    "\n",
    "mode = universe.get(\"exclude_subgroups\", \"keep-all\") # Defaults to \"keep-all\" if the key is missing."
   ]
  },
  {
   "cell_type": "code",
   "execution_count": 28,
   "id": "9d1e63fd",
   "metadata": {
    "execution": {
     "iopub.execute_input": "2025-08-19T19:07:47.361364Z",
     "iopub.status.busy": "2025-08-19T19:07:47.355596Z",
     "iopub.status.idle": "2025-08-19T19:07:47.386475Z",
     "shell.execute_reply": "2025-08-19T19:07:47.385820Z"
    },
    "papermill": {
     "duration": 0.046149,
     "end_time": "2025-08-19T19:07:47.388851",
     "exception": false,
     "start_time": "2025-08-19T19:07:47.342702",
     "status": "completed"
    },
    "tags": []
   },
   "outputs": [],
   "source": [
    "if mode == \"keep-all\":\n",
    "    keep_mask = pd.Series(True, index=org_train.index)\n",
    "\n",
    "elif mode == \"drop-non-german\":\n",
    "    keep_mask = (org_train[\"maxdeutsch1\"] == 1) & (org_train[\"maxdeutsch.Missing.\"] == 0)\n",
    "\n",
    "else:\n",
    "    raise ValueError(f\"Unsupported mode for exclude_subgroups: {mode}\")"
   ]
  },
  {
   "cell_type": "code",
   "execution_count": 29,
   "id": "d3b65474",
   "metadata": {
    "execution": {
     "iopub.execute_input": "2025-08-19T19:07:47.425780Z",
     "iopub.status.busy": "2025-08-19T19:07:47.424395Z",
     "iopub.status.idle": "2025-08-19T19:07:47.435979Z",
     "shell.execute_reply": "2025-08-19T19:07:47.434687Z"
    },
    "papermill": {
     "duration": 0.029469,
     "end_time": "2025-08-19T19:07:47.439911",
     "exception": false,
     "start_time": "2025-08-19T19:07:47.410442",
     "status": "completed"
    },
    "tags": []
   },
   "outputs": [
    {
     "name": "stdout",
     "output_type": "stream",
     "text": [
      "Dropping 131 rows (13.10%) where mode='drop-non-german'\n"
     ]
    }
   ],
   "source": [
    "n_drop = (~keep_mask).sum() # Calculates how many rows are set to be dropped\n",
    "if n_drop > 0:\n",
    "    pct = n_drop / len(keep_mask) * 100\n",
    "    print(f\"Dropping {n_drop} rows ({pct:.2f}%) where mode='{mode}'\")"
   ]
  },
  {
   "cell_type": "code",
   "execution_count": 30,
   "id": "f44389b3",
   "metadata": {
    "execution": {
     "iopub.execute_input": "2025-08-19T19:07:47.485064Z",
     "iopub.status.busy": "2025-08-19T19:07:47.471174Z",
     "iopub.status.idle": "2025-08-19T19:07:47.490903Z",
     "shell.execute_reply": "2025-08-19T19:07:47.490089Z"
    },
    "papermill": {
     "duration": 0.039804,
     "end_time": "2025-08-19T19:07:47.493356",
     "exception": false,
     "start_time": "2025-08-19T19:07:47.453552",
     "status": "completed"
    },
    "tags": []
   },
   "outputs": [],
   "source": [
    "X_train = X_train[keep_mask]"
   ]
  },
  {
   "cell_type": "code",
   "execution_count": 31,
   "id": "ceca8c2a",
   "metadata": {
    "execution": {
     "iopub.execute_input": "2025-08-19T19:07:47.535848Z",
     "iopub.status.busy": "2025-08-19T19:07:47.534607Z",
     "iopub.status.idle": "2025-08-19T19:07:47.542042Z",
     "shell.execute_reply": "2025-08-19T19:07:47.541137Z"
    },
    "papermill": {
     "duration": 0.024879,
     "end_time": "2025-08-19T19:07:47.543474",
     "exception": false,
     "start_time": "2025-08-19T19:07:47.518595",
     "status": "completed"
    },
    "tags": []
   },
   "outputs": [],
   "source": [
    "y_train = y_train[keep_mask]"
   ]
  },
  {
   "cell_type": "markdown",
   "id": "04d31e2f",
   "metadata": {
    "papermill": {
     "duration": 0.010781,
     "end_time": "2025-08-19T19:07:47.565462",
     "exception": false,
     "start_time": "2025-08-19T19:07:47.554681",
     "status": "completed"
    },
    "tags": []
   },
   "source": [
    "# Model Training"
   ]
  },
  {
   "cell_type": "code",
   "execution_count": 32,
   "id": "db991733",
   "metadata": {
    "execution": {
     "iopub.execute_input": "2025-08-19T19:07:47.589903Z",
     "iopub.status.busy": "2025-08-19T19:07:47.589195Z",
     "iopub.status.idle": "2025-08-19T19:07:47.696015Z",
     "shell.execute_reply": "2025-08-19T19:07:47.695248Z"
    },
    "papermill": {
     "duration": 0.120739,
     "end_time": "2025-08-19T19:07:47.697730",
     "exception": false,
     "start_time": "2025-08-19T19:07:47.576991",
     "status": "completed"
    },
    "tags": []
   },
   "outputs": [],
   "source": [
    "from sklearn.linear_model import LogisticRegression\n",
    "from sklearn.ensemble import GradientBoostingClassifier, RandomForestClassifier\n",
    "\n",
    "if (universe[\"model\"] == \"logreg\"):\n",
    "    model = LogisticRegression() #penalty=\"none\", solver=\"newton-cg\", max_iter=1)\n",
    "elif (universe[\"model\"] == \"penalized_logreg\"):\n",
    "    model = LogisticRegression(penalty=\"l2\", C=0.1) #, solver=\"newton-cg\", max_iter=1)\n",
    "elif (universe[\"model\"] == \"rf\"):\n",
    "    model = RandomForestClassifier() # n_estimators=100, n_jobs=-1\n",
    "elif (universe[\"model\"] == \"gbm\"):\n",
    "    model = GradientBoostingClassifier()\n",
    "elif (universe[\"model\"] == \"elasticnet\"):\n",
    "    model = LogisticRegression(penalty = 'elasticnet', solver = 'saga', l1_ratio = 0.5) # max_iter=5000\n",
    "else:\n",
    "    raise \"Unsupported universe.model\""
   ]
  },
  {
   "cell_type": "code",
   "execution_count": 33,
   "id": "a4b5cd25",
   "metadata": {
    "execution": {
     "iopub.execute_input": "2025-08-19T19:07:47.723850Z",
     "iopub.status.busy": "2025-08-19T19:07:47.722785Z",
     "iopub.status.idle": "2025-08-19T19:07:47.730808Z",
     "shell.execute_reply": "2025-08-19T19:07:47.729937Z"
    },
    "papermill": {
     "duration": 0.028196,
     "end_time": "2025-08-19T19:07:47.737793",
     "exception": false,
     "start_time": "2025-08-19T19:07:47.709597",
     "status": "completed"
    },
    "tags": []
   },
   "outputs": [],
   "source": [
    "from sklearn.pipeline import Pipeline\n",
    "from sklearn.preprocessing import StandardScaler\n",
    "\n",
    "model = Pipeline([\n",
    "    #(\"continuous_processor\", continuous_processor),\n",
    "    #(\"categorical_preprocessor\", categorical_preprocessor),\n",
    "    (\"scale\", StandardScaler() if universe[\"scale\"] == \"scale\" else None), \n",
    "    (\"model\", model),\n",
    "])"
   ]
  },
  {
   "cell_type": "code",
   "execution_count": 34,
   "id": "283a904d",
   "metadata": {
    "execution": {
     "iopub.execute_input": "2025-08-19T19:07:47.802963Z",
     "iopub.status.busy": "2025-08-19T19:07:47.802500Z",
     "iopub.status.idle": "2025-08-19T19:07:48.624314Z",
     "shell.execute_reply": "2025-08-19T19:07:48.623455Z"
    },
    "papermill": {
     "duration": 0.868092,
     "end_time": "2025-08-19T19:07:48.627550",
     "exception": false,
     "start_time": "2025-08-19T19:07:47.759458",
     "status": "completed"
    },
    "tags": []
   },
   "outputs": [
    {
     "data": {
      "text/html": [
       "<style>#sk-container-id-1 {color: black;background-color: white;}#sk-container-id-1 pre{padding: 0;}#sk-container-id-1 div.sk-toggleable {background-color: white;}#sk-container-id-1 label.sk-toggleable__label {cursor: pointer;display: block;width: 100%;margin-bottom: 0;padding: 0.3em;box-sizing: border-box;text-align: center;}#sk-container-id-1 label.sk-toggleable__label-arrow:before {content: \"▸\";float: left;margin-right: 0.25em;color: #696969;}#sk-container-id-1 label.sk-toggleable__label-arrow:hover:before {color: black;}#sk-container-id-1 div.sk-estimator:hover label.sk-toggleable__label-arrow:before {color: black;}#sk-container-id-1 div.sk-toggleable__content {max-height: 0;max-width: 0;overflow: hidden;text-align: left;background-color: #f0f8ff;}#sk-container-id-1 div.sk-toggleable__content pre {margin: 0.2em;color: black;border-radius: 0.25em;background-color: #f0f8ff;}#sk-container-id-1 input.sk-toggleable__control:checked~div.sk-toggleable__content {max-height: 200px;max-width: 100%;overflow: auto;}#sk-container-id-1 input.sk-toggleable__control:checked~label.sk-toggleable__label-arrow:before {content: \"▾\";}#sk-container-id-1 div.sk-estimator input.sk-toggleable__control:checked~label.sk-toggleable__label {background-color: #d4ebff;}#sk-container-id-1 div.sk-label input.sk-toggleable__control:checked~label.sk-toggleable__label {background-color: #d4ebff;}#sk-container-id-1 input.sk-hidden--visually {border: 0;clip: rect(1px 1px 1px 1px);clip: rect(1px, 1px, 1px, 1px);height: 1px;margin: -1px;overflow: hidden;padding: 0;position: absolute;width: 1px;}#sk-container-id-1 div.sk-estimator {font-family: monospace;background-color: #f0f8ff;border: 1px dotted black;border-radius: 0.25em;box-sizing: border-box;margin-bottom: 0.5em;}#sk-container-id-1 div.sk-estimator:hover {background-color: #d4ebff;}#sk-container-id-1 div.sk-parallel-item::after {content: \"\";width: 100%;border-bottom: 1px solid gray;flex-grow: 1;}#sk-container-id-1 div.sk-label:hover label.sk-toggleable__label {background-color: #d4ebff;}#sk-container-id-1 div.sk-serial::before {content: \"\";position: absolute;border-left: 1px solid gray;box-sizing: border-box;top: 0;bottom: 0;left: 50%;z-index: 0;}#sk-container-id-1 div.sk-serial {display: flex;flex-direction: column;align-items: center;background-color: white;padding-right: 0.2em;padding-left: 0.2em;position: relative;}#sk-container-id-1 div.sk-item {position: relative;z-index: 1;}#sk-container-id-1 div.sk-parallel {display: flex;align-items: stretch;justify-content: center;background-color: white;position: relative;}#sk-container-id-1 div.sk-item::before, #sk-container-id-1 div.sk-parallel-item::before {content: \"\";position: absolute;border-left: 1px solid gray;box-sizing: border-box;top: 0;bottom: 0;left: 50%;z-index: -1;}#sk-container-id-1 div.sk-parallel-item {display: flex;flex-direction: column;z-index: 1;position: relative;background-color: white;}#sk-container-id-1 div.sk-parallel-item:first-child::after {align-self: flex-end;width: 50%;}#sk-container-id-1 div.sk-parallel-item:last-child::after {align-self: flex-start;width: 50%;}#sk-container-id-1 div.sk-parallel-item:only-child::after {width: 0;}#sk-container-id-1 div.sk-dashed-wrapped {border: 1px dashed gray;margin: 0 0.4em 0.5em 0.4em;box-sizing: border-box;padding-bottom: 0.4em;background-color: white;}#sk-container-id-1 div.sk-label label {font-family: monospace;font-weight: bold;display: inline-block;line-height: 1.2em;}#sk-container-id-1 div.sk-label-container {text-align: center;}#sk-container-id-1 div.sk-container {/* jupyter's `normalize.less` sets `[hidden] { display: none; }` but bootstrap.min.css set `[hidden] { display: none !important; }` so we also need the `!important` here to be able to override the default hidden behavior on the sphinx rendered scikit-learn.org. See: https://github.com/scikit-learn/scikit-learn/issues/21755 */display: inline-block !important;position: relative;}#sk-container-id-1 div.sk-text-repr-fallback {display: none;}</style><div id=\"sk-container-id-1\" class=\"sk-top-container\"><div class=\"sk-text-repr-fallback\"><pre>Pipeline(steps=[(&#x27;scale&#x27;, StandardScaler()),\n",
       "                (&#x27;model&#x27;, GradientBoostingClassifier())])</pre><b>In a Jupyter environment, please rerun this cell to show the HTML representation or trust the notebook. <br />On GitHub, the HTML representation is unable to render, please try loading this page with nbviewer.org.</b></div><div class=\"sk-container\" hidden><div class=\"sk-item sk-dashed-wrapped\"><div class=\"sk-label-container\"><div class=\"sk-label sk-toggleable\"><input class=\"sk-toggleable__control sk-hidden--visually\" id=\"sk-estimator-id-1\" type=\"checkbox\" ><label for=\"sk-estimator-id-1\" class=\"sk-toggleable__label sk-toggleable__label-arrow\">Pipeline</label><div class=\"sk-toggleable__content\"><pre>Pipeline(steps=[(&#x27;scale&#x27;, StandardScaler()),\n",
       "                (&#x27;model&#x27;, GradientBoostingClassifier())])</pre></div></div></div><div class=\"sk-serial\"><div class=\"sk-item\"><div class=\"sk-estimator sk-toggleable\"><input class=\"sk-toggleable__control sk-hidden--visually\" id=\"sk-estimator-id-2\" type=\"checkbox\" ><label for=\"sk-estimator-id-2\" class=\"sk-toggleable__label sk-toggleable__label-arrow\">StandardScaler</label><div class=\"sk-toggleable__content\"><pre>StandardScaler()</pre></div></div></div><div class=\"sk-item\"><div class=\"sk-estimator sk-toggleable\"><input class=\"sk-toggleable__control sk-hidden--visually\" id=\"sk-estimator-id-3\" type=\"checkbox\" ><label for=\"sk-estimator-id-3\" class=\"sk-toggleable__label sk-toggleable__label-arrow\">GradientBoostingClassifier</label><div class=\"sk-toggleable__content\"><pre>GradientBoostingClassifier()</pre></div></div></div></div></div></div></div>"
      ],
      "text/plain": [
       "Pipeline(steps=[('scale', StandardScaler()),\n",
       "                ('model', GradientBoostingClassifier())])"
      ]
     },
     "execution_count": 34,
     "metadata": {},
     "output_type": "execute_result"
    }
   ],
   "source": [
    "model.fit(X_train, y_train.values.ravel())"
   ]
  },
  {
   "cell_type": "code",
   "execution_count": 35,
   "id": "6e15e313",
   "metadata": {
    "execution": {
     "iopub.execute_input": "2025-08-19T19:07:48.669432Z",
     "iopub.status.busy": "2025-08-19T19:07:48.668042Z",
     "iopub.status.idle": "2025-08-19T19:07:49.326411Z",
     "shell.execute_reply": "2025-08-19T19:07:49.325386Z"
    },
    "papermill": {
     "duration": 0.674685,
     "end_time": "2025-08-19T19:07:49.327723",
     "exception": false,
     "start_time": "2025-08-19T19:07:48.653038",
     "status": "completed"
    },
    "tags": []
   },
   "outputs": [
    {
     "data": {
      "text/plain": [
       "0.8268866347118493"
      ]
     },
     "execution_count": 35,
     "metadata": {},
     "output_type": "execute_result"
    }
   ],
   "source": [
    "from fairness_multiverse.universe import predict_w_threshold\n",
    "\n",
    "probs_test = model.predict_proba(X_test)\n",
    "\n",
    "'''\n",
    "Below code returns a boolean array (or binary 0/1 array depending on how it’s used) where each element \n",
    "is True if the probability of class 1 is greater than or equal to the threshold, and False otherwise.\n",
    "'''\n",
    "y_pred_default = predict_w_threshold(probs_test, 0.5)\n",
    "\n",
    "from sklearn.metrics import accuracy_score\n",
    "\n",
    "# Naive prediction\n",
    "accuracy_score(y_true = y_true, y_pred = y_pred_default)"
   ]
  },
  {
   "cell_type": "code",
   "execution_count": 36,
   "id": "6f14067c",
   "metadata": {
    "execution": {
     "iopub.execute_input": "2025-08-19T19:07:49.353983Z",
     "iopub.status.busy": "2025-08-19T19:07:49.352453Z",
     "iopub.status.idle": "2025-08-19T19:07:49.963101Z",
     "shell.execute_reply": "2025-08-19T19:07:49.961909Z"
    },
    "papermill": {
     "duration": 0.626636,
     "end_time": "2025-08-19T19:07:49.966217",
     "exception": false,
     "start_time": "2025-08-19T19:07:49.339581",
     "status": "completed"
    },
    "tags": []
   },
   "outputs": [
    {
     "data": {
      "text/plain": [
       "array([0, 0, 0, ..., 1, 0, 0])"
      ]
     },
     "execution_count": 36,
     "metadata": {},
     "output_type": "execute_result"
    }
   ],
   "source": [
    "model.predict(X_test)"
   ]
  },
  {
   "cell_type": "markdown",
   "id": "3759920c",
   "metadata": {
    "papermill": {
     "duration": 0.013052,
     "end_time": "2025-08-19T19:07:50.005265",
     "exception": false,
     "start_time": "2025-08-19T19:07:49.992213",
     "status": "completed"
    },
    "tags": []
   },
   "source": [
    "# Conformal Prediction"
   ]
  },
  {
   "cell_type": "code",
   "execution_count": 37,
   "id": "14b27f59",
   "metadata": {
    "execution": {
     "iopub.execute_input": "2025-08-19T19:07:50.050855Z",
     "iopub.status.busy": "2025-08-19T19:07:50.050361Z",
     "iopub.status.idle": "2025-08-19T19:07:50.055228Z",
     "shell.execute_reply": "2025-08-19T19:07:50.054625Z"
    },
    "papermill": {
     "duration": 0.029706,
     "end_time": "2025-08-19T19:07:50.061857",
     "exception": false,
     "start_time": "2025-08-19T19:07:50.032151",
     "status": "completed"
    },
    "tags": []
   },
   "outputs": [],
   "source": [
    "# Miscoverage level for conformal prediction (10% allowed error rate => 90% target coverage)\n",
    "alpha = 0.1"
   ]
  },
  {
   "cell_type": "code",
   "execution_count": 38,
   "id": "59102472",
   "metadata": {
    "execution": {
     "iopub.execute_input": "2025-08-19T19:07:50.116345Z",
     "iopub.status.busy": "2025-08-19T19:07:50.115848Z",
     "iopub.status.idle": "2025-08-19T19:07:50.726408Z",
     "shell.execute_reply": "2025-08-19T19:07:50.724751Z"
    },
    "papermill": {
     "duration": 0.64302,
     "end_time": "2025-08-19T19:07:50.728713",
     "exception": false,
     "start_time": "2025-08-19T19:07:50.085693",
     "status": "completed"
    },
    "tags": []
   },
   "outputs": [],
   "source": [
    "probs_calib = model.predict_proba(X_calib)"
   ]
  },
  {
   "cell_type": "code",
   "execution_count": 39,
   "id": "a792d4dd",
   "metadata": {
    "execution": {
     "iopub.execute_input": "2025-08-19T19:07:50.757468Z",
     "iopub.status.busy": "2025-08-19T19:07:50.756638Z",
     "iopub.status.idle": "2025-08-19T19:07:50.767498Z",
     "shell.execute_reply": "2025-08-19T19:07:50.766254Z"
    },
    "papermill": {
     "duration": 0.026767,
     "end_time": "2025-08-19T19:07:50.769033",
     "exception": false,
     "start_time": "2025-08-19T19:07:50.742266",
     "status": "completed"
    },
    "tags": []
   },
   "outputs": [],
   "source": [
    "y_calib = y_calib.values.ravel().astype(int)"
   ]
  },
  {
   "cell_type": "code",
   "execution_count": 40,
   "id": "650fd033",
   "metadata": {
    "execution": {
     "iopub.execute_input": "2025-08-19T19:07:50.803402Z",
     "iopub.status.busy": "2025-08-19T19:07:50.802255Z",
     "iopub.status.idle": "2025-08-19T19:07:50.813867Z",
     "shell.execute_reply": "2025-08-19T19:07:50.812565Z"
    },
    "papermill": {
     "duration": 0.02763,
     "end_time": "2025-08-19T19:07:50.815542",
     "exception": false,
     "start_time": "2025-08-19T19:07:50.787912",
     "status": "completed"
    },
    "tags": []
   },
   "outputs": [],
   "source": [
    "from fairness_multiverse.conformal import compute_nc_scores\n",
    "\n",
    "# Compute nonconformity scores on calibration set (1 - probability of true class)\n",
    "nc_scores = compute_nc_scores(probs_calib, y_calib)"
   ]
  },
  {
   "cell_type": "code",
   "execution_count": 41,
   "id": "28ada44c",
   "metadata": {
    "execution": {
     "iopub.execute_input": "2025-08-19T19:07:50.863849Z",
     "iopub.status.busy": "2025-08-19T19:07:50.863438Z",
     "iopub.status.idle": "2025-08-19T19:07:50.870171Z",
     "shell.execute_reply": "2025-08-19T19:07:50.869472Z"
    },
    "papermill": {
     "duration": 0.034541,
     "end_time": "2025-08-19T19:07:50.871439",
     "exception": false,
     "start_time": "2025-08-19T19:07:50.836898",
     "status": "completed"
    },
    "tags": []
   },
   "outputs": [],
   "source": [
    "from fairness_multiverse.conformal import find_threshold\n",
    "\n",
    "# Find conformal threshold q_hat for the given alpha (split conformal method)\n",
    "q_hat = find_threshold(nc_scores, alpha)"
   ]
  },
  {
   "cell_type": "code",
   "execution_count": 42,
   "id": "df56469e",
   "metadata": {
    "execution": {
     "iopub.execute_input": "2025-08-19T19:07:50.901588Z",
     "iopub.status.busy": "2025-08-19T19:07:50.901301Z",
     "iopub.status.idle": "2025-08-19T19:07:50.906549Z",
     "shell.execute_reply": "2025-08-19T19:07:50.905901Z"
    },
    "papermill": {
     "duration": 0.020757,
     "end_time": "2025-08-19T19:07:50.909358",
     "exception": false,
     "start_time": "2025-08-19T19:07:50.888601",
     "status": "completed"
    },
    "tags": []
   },
   "outputs": [
    {
     "data": {
      "text/plain": [
       "0.778889001939021"
      ]
     },
     "execution_count": 42,
     "metadata": {},
     "output_type": "execute_result"
    }
   ],
   "source": [
    "q_hat"
   ]
  },
  {
   "cell_type": "code",
   "execution_count": 43,
   "id": "aa1f5faa",
   "metadata": {
    "execution": {
     "iopub.execute_input": "2025-08-19T19:07:50.933845Z",
     "iopub.status.busy": "2025-08-19T19:07:50.933558Z",
     "iopub.status.idle": "2025-08-19T19:07:52.177075Z",
     "shell.execute_reply": "2025-08-19T19:07:52.175279Z"
    },
    "papermill": {
     "duration": 1.257663,
     "end_time": "2025-08-19T19:07:52.178785",
     "exception": false,
     "start_time": "2025-08-19T19:07:50.921122",
     "status": "completed"
    },
    "tags": []
   },
   "outputs": [],
   "source": [
    "from fairness_multiverse.conformal import predict_conformal_sets\n",
    "\n",
    "# Generate prediction sets for each test example\n",
    "pred_sets = predict_conformal_sets(model, X_test, q_hat)"
   ]
  },
  {
   "cell_type": "code",
   "execution_count": 44,
   "id": "97f67a6b",
   "metadata": {
    "execution": {
     "iopub.execute_input": "2025-08-19T19:07:52.205357Z",
     "iopub.status.busy": "2025-08-19T19:07:52.204130Z",
     "iopub.status.idle": "2025-08-19T19:07:52.212854Z",
     "shell.execute_reply": "2025-08-19T19:07:52.211895Z"
    },
    "papermill": {
     "duration": 0.0236,
     "end_time": "2025-08-19T19:07:52.214496",
     "exception": false,
     "start_time": "2025-08-19T19:07:52.190896",
     "status": "completed"
    },
    "tags": []
   },
   "outputs": [],
   "source": [
    "y_true = y_true.squeeze()"
   ]
  },
  {
   "cell_type": "code",
   "execution_count": 45,
   "id": "e700e9a7",
   "metadata": {
    "execution": {
     "iopub.execute_input": "2025-08-19T19:07:52.245244Z",
     "iopub.status.busy": "2025-08-19T19:07:52.244010Z",
     "iopub.status.idle": "2025-08-19T19:07:52.763875Z",
     "shell.execute_reply": "2025-08-19T19:07:52.762594Z"
    },
    "papermill": {
     "duration": 0.535947,
     "end_time": "2025-08-19T19:07:52.765702",
     "exception": false,
     "start_time": "2025-08-19T19:07:52.229755",
     "status": "completed"
    },
    "tags": []
   },
   "outputs": [],
   "source": [
    "from fairness_multiverse.conformal import evaluate_sets\n",
    "\n",
    "# Evaluate coverage and average set size on test data\n",
    "metrics = evaluate_sets(pred_sets, y_true)"
   ]
  },
  {
   "cell_type": "markdown",
   "id": "efbacec0",
   "metadata": {
    "papermill": {
     "duration": 0.012074,
     "end_time": "2025-08-19T19:07:52.804701",
     "exception": false,
     "start_time": "2025-08-19T19:07:52.792627",
     "status": "completed"
    },
    "tags": []
   },
   "source": [
    "# CP Metrics"
   ]
  },
  {
   "cell_type": "code",
   "execution_count": 46,
   "id": "9de55fb1",
   "metadata": {
    "execution": {
     "iopub.execute_input": "2025-08-19T19:07:52.833322Z",
     "iopub.status.busy": "2025-08-19T19:07:52.832855Z",
     "iopub.status.idle": "2025-08-19T19:07:52.839474Z",
     "shell.execute_reply": "2025-08-19T19:07:52.838878Z"
    },
    "papermill": {
     "duration": 0.021071,
     "end_time": "2025-08-19T19:07:52.840532",
     "exception": false,
     "start_time": "2025-08-19T19:07:52.819461",
     "status": "completed"
    },
    "tags": []
   },
   "outputs": [
    {
     "data": {
      "text/plain": [
       "{'coverage': 0.9077917734923643, 'avg_size': 1.1968119496154275}"
      ]
     },
     "execution_count": 46,
     "metadata": {},
     "output_type": "execute_result"
    }
   ],
   "source": [
    "metrics"
   ]
  },
  {
   "cell_type": "code",
   "execution_count": 47,
   "id": "64c340a1",
   "metadata": {
    "execution": {
     "iopub.execute_input": "2025-08-19T19:07:52.870867Z",
     "iopub.status.busy": "2025-08-19T19:07:52.869587Z",
     "iopub.status.idle": "2025-08-19T19:07:52.875335Z",
     "shell.execute_reply": "2025-08-19T19:07:52.874323Z"
    },
    "papermill": {
     "duration": 0.020845,
     "end_time": "2025-08-19T19:07:52.876876",
     "exception": false,
     "start_time": "2025-08-19T19:07:52.856031",
     "status": "completed"
    },
    "tags": []
   },
   "outputs": [],
   "source": [
    "example_universe = universe.copy()\n",
    "universe_training_year = example_universe.get(\"training_year\")\n",
    "universe_training_size = example_universe.get(\"training_size\")\n",
    "universe_scale = example_universe.get(\"scale\")\n",
    "universe_model = example_universe.get(\"model\")\n",
    "universe_exclude_features = example_universe.get(\"exclude_features\")\n",
    "universe_exclude_subgroups = example_universe.get(\"exclude_subgroups\")"
   ]
  },
  {
   "cell_type": "code",
   "execution_count": 48,
   "id": "dbb53cb4",
   "metadata": {
    "execution": {
     "iopub.execute_input": "2025-08-19T19:07:52.906417Z",
     "iopub.status.busy": "2025-08-19T19:07:52.905986Z",
     "iopub.status.idle": "2025-08-19T19:07:52.911942Z",
     "shell.execute_reply": "2025-08-19T19:07:52.911112Z"
    },
    "papermill": {
     "duration": 0.02066,
     "end_time": "2025-08-19T19:07:52.913187",
     "exception": false,
     "start_time": "2025-08-19T19:07:52.892527",
     "status": "completed"
    },
    "tags": []
   },
   "outputs": [],
   "source": [
    "cp_metrics_dict = {\n",
    "    \"universe_id\": [universe_id],\n",
    "    \"universe_training_year\": [universe_training_year],\n",
    "    \"universe_training_size\": [universe_training_size],\n",
    "    \"universe_scale\": [universe_scale],\n",
    "    \"universe_model\": [universe_model],\n",
    "    \"universe_exclude_features\": [universe_exclude_features],\n",
    "    \"universe_exclude_subgroups\": [universe_exclude_subgroups],\n",
    "    \"q_hat\": [q_hat],\n",
    "    \"coverage\": [metrics[\"coverage\"]],\n",
    "    \"avg_size\": [metrics[\"avg_size\"]],\n",
    "}"
   ]
  },
  {
   "cell_type": "code",
   "execution_count": 49,
   "id": "0d70d4b2",
   "metadata": {
    "execution": {
     "iopub.execute_input": "2025-08-19T19:07:52.945594Z",
     "iopub.status.busy": "2025-08-19T19:07:52.944700Z",
     "iopub.status.idle": "2025-08-19T19:07:52.969873Z",
     "shell.execute_reply": "2025-08-19T19:07:52.968579Z"
    },
    "papermill": {
     "duration": 0.044535,
     "end_time": "2025-08-19T19:07:52.972095",
     "exception": false,
     "start_time": "2025-08-19T19:07:52.927560",
     "status": "completed"
    },
    "tags": []
   },
   "outputs": [],
   "source": [
    "cp_metrics_df = pd.DataFrame(cp_metrics_dict)"
   ]
  },
  {
   "cell_type": "code",
   "execution_count": 50,
   "id": "b494403c",
   "metadata": {
    "execution": {
     "iopub.execute_input": "2025-08-19T19:07:53.007584Z",
     "iopub.status.busy": "2025-08-19T19:07:53.007179Z",
     "iopub.status.idle": "2025-08-19T19:07:53.019910Z",
     "shell.execute_reply": "2025-08-19T19:07:53.019240Z"
    },
    "papermill": {
     "duration": 0.027906,
     "end_time": "2025-08-19T19:07:53.021054",
     "exception": false,
     "start_time": "2025-08-19T19:07:52.993148",
     "status": "completed"
    },
    "tags": []
   },
   "outputs": [
    {
     "data": {
      "text/html": [
       "<div>\n",
       "<style scoped>\n",
       "    .dataframe tbody tr th:only-of-type {\n",
       "        vertical-align: middle;\n",
       "    }\n",
       "\n",
       "    .dataframe tbody tr th {\n",
       "        vertical-align: top;\n",
       "    }\n",
       "\n",
       "    .dataframe thead th {\n",
       "        text-align: right;\n",
       "    }\n",
       "</style>\n",
       "<table border=\"1\" class=\"dataframe\">\n",
       "  <thead>\n",
       "    <tr style=\"text-align: right;\">\n",
       "      <th></th>\n",
       "      <th>universe_id</th>\n",
       "      <th>universe_training_year</th>\n",
       "      <th>universe_training_size</th>\n",
       "      <th>universe_scale</th>\n",
       "      <th>universe_model</th>\n",
       "      <th>universe_exclude_features</th>\n",
       "      <th>universe_exclude_subgroups</th>\n",
       "      <th>q_hat</th>\n",
       "      <th>coverage</th>\n",
       "      <th>avg_size</th>\n",
       "    </tr>\n",
       "  </thead>\n",
       "  <tbody>\n",
       "    <tr>\n",
       "      <th>0</th>\n",
       "      <td>c66c2173f7b86dee98e813af13a043de</td>\n",
       "      <td>2010_14</td>\n",
       "      <td>1k</td>\n",
       "      <td>scale</td>\n",
       "      <td>gbm</td>\n",
       "      <td>nationality-sex</td>\n",
       "      <td>drop-non-german</td>\n",
       "      <td>0.778889</td>\n",
       "      <td>0.907792</td>\n",
       "      <td>1.196812</td>\n",
       "    </tr>\n",
       "  </tbody>\n",
       "</table>\n",
       "</div>"
      ],
      "text/plain": [
       "                        universe_id universe_training_year  \\\n",
       "0  c66c2173f7b86dee98e813af13a043de                2010_14   \n",
       "\n",
       "  universe_training_size universe_scale universe_model  \\\n",
       "0                     1k          scale            gbm   \n",
       "\n",
       "  universe_exclude_features universe_exclude_subgroups     q_hat  coverage  \\\n",
       "0           nationality-sex            drop-non-german  0.778889  0.907792   \n",
       "\n",
       "   avg_size  \n",
       "0  1.196812  "
      ]
     },
     "execution_count": 50,
     "metadata": {},
     "output_type": "execute_result"
    }
   ],
   "source": [
    "cp_metrics_df"
   ]
  },
  {
   "cell_type": "markdown",
   "id": "ed608b0b",
   "metadata": {
    "papermill": {
     "duration": 0.013122,
     "end_time": "2025-08-19T19:07:53.050182",
     "exception": false,
     "start_time": "2025-08-19T19:07:53.037060",
     "status": "completed"
    },
    "tags": []
   },
   "source": [
    "Conditional coverage & looking at subgroups"
   ]
  },
  {
   "cell_type": "code",
   "execution_count": 51,
   "id": "8968c366",
   "metadata": {
    "execution": {
     "iopub.execute_input": "2025-08-19T19:07:53.076351Z",
     "iopub.status.busy": "2025-08-19T19:07:53.075936Z",
     "iopub.status.idle": "2025-08-19T19:07:53.367134Z",
     "shell.execute_reply": "2025-08-19T19:07:53.366328Z"
    },
    "papermill": {
     "duration": 0.305748,
     "end_time": "2025-08-19T19:07:53.368576",
     "exception": false,
     "start_time": "2025-08-19T19:07:53.062828",
     "status": "completed"
    },
    "tags": []
   },
   "outputs": [],
   "source": [
    "from fairness_multiverse.conformal import build_cp_groups\n",
    "\n",
    "cp_groups_df = build_cp_groups(pred_sets, y_true, X_test.index, org_test)"
   ]
  },
  {
   "cell_type": "code",
   "execution_count": 52,
   "id": "292ddabf",
   "metadata": {
    "execution": {
     "iopub.execute_input": "2025-08-19T19:07:53.395657Z",
     "iopub.status.busy": "2025-08-19T19:07:53.394746Z",
     "iopub.status.idle": "2025-08-19T19:07:54.252613Z",
     "shell.execute_reply": "2025-08-19T19:07:54.251390Z"
    },
    "papermill": {
     "duration": 0.872919,
     "end_time": "2025-08-19T19:07:54.254120",
     "exception": false,
     "start_time": "2025-08-19T19:07:53.381201",
     "status": "completed"
    },
    "tags": []
   },
   "outputs": [],
   "source": [
    "# Define covered = 1 if true_label is in the predicted set\n",
    "cp_groups_df['covered'] = cp_groups_df.apply(\n",
    "    lambda r: int(r['true_label'] in r['pred_set']),\n",
    "    axis=1\n",
    ")"
   ]
  },
  {
   "cell_type": "code",
   "execution_count": 53,
   "id": "3a261692",
   "metadata": {
    "execution": {
     "iopub.execute_input": "2025-08-19T19:07:54.284517Z",
     "iopub.status.busy": "2025-08-19T19:07:54.283152Z",
     "iopub.status.idle": "2025-08-19T19:07:54.307173Z",
     "shell.execute_reply": "2025-08-19T19:07:54.305975Z"
    },
    "papermill": {
     "duration": 0.042837,
     "end_time": "2025-08-19T19:07:54.309434",
     "exception": false,
     "start_time": "2025-08-19T19:07:54.266597",
     "status": "completed"
    },
    "tags": []
   },
   "outputs": [],
   "source": [
    "subgroups = ['frau1','nongerman','nongerman_male','nongerman_female']\n",
    "\n",
    "# Conditional coverage for subgroup==1\n",
    "cond_coverage = {\n",
    "    g: cp_groups_df.loc[cp_groups_df[g]==1, 'covered'].mean()\n",
    "    for g in subgroups\n",
    "}"
   ]
  },
  {
   "cell_type": "code",
   "execution_count": 54,
   "id": "894fd600",
   "metadata": {
    "execution": {
     "iopub.execute_input": "2025-08-19T19:07:54.343884Z",
     "iopub.status.busy": "2025-08-19T19:07:54.342973Z",
     "iopub.status.idle": "2025-08-19T19:07:54.357807Z",
     "shell.execute_reply": "2025-08-19T19:07:54.356642Z"
    },
    "papermill": {
     "duration": 0.032569,
     "end_time": "2025-08-19T19:07:54.359267",
     "exception": false,
     "start_time": "2025-08-19T19:07:54.326698",
     "status": "completed"
    },
    "tags": []
   },
   "outputs": [
    {
     "data": {
      "text/plain": [
       "{'frau1': 0.9063485644965629,\n",
       " 'nongerman': 0.90596755178802,\n",
       " 'nongerman_male': 0.9235341799513644,\n",
       " 'nongerman_female': 0.8769001490312965}"
      ]
     },
     "execution_count": 54,
     "metadata": {},
     "output_type": "execute_result"
    }
   ],
   "source": [
    "cond_coverage"
   ]
  },
  {
   "cell_type": "code",
   "execution_count": 55,
   "id": "942895c7",
   "metadata": {
    "execution": {
     "iopub.execute_input": "2025-08-19T19:07:54.394615Z",
     "iopub.status.busy": "2025-08-19T19:07:54.393074Z",
     "iopub.status.idle": "2025-08-19T19:07:54.408067Z",
     "shell.execute_reply": "2025-08-19T19:07:54.406977Z"
    },
    "papermill": {
     "duration": 0.033329,
     "end_time": "2025-08-19T19:07:54.409619",
     "exception": false,
     "start_time": "2025-08-19T19:07:54.376290",
     "status": "completed"
    },
    "tags": []
   },
   "outputs": [],
   "source": [
    "for subgroup, cov in cond_coverage.items():\n",
    "    cp_metrics_df[f\"cov_{subgroup}\"] = cov"
   ]
  },
  {
   "cell_type": "code",
   "execution_count": 56,
   "id": "3970120f",
   "metadata": {
    "execution": {
     "iopub.execute_input": "2025-08-19T19:07:54.444370Z",
     "iopub.status.busy": "2025-08-19T19:07:54.443383Z",
     "iopub.status.idle": "2025-08-19T19:07:54.497507Z",
     "shell.execute_reply": "2025-08-19T19:07:54.496753Z"
    },
    "papermill": {
     "duration": 0.071506,
     "end_time": "2025-08-19T19:07:54.499888",
     "exception": false,
     "start_time": "2025-08-19T19:07:54.428382",
     "status": "completed"
    },
    "tags": []
   },
   "outputs": [
    {
     "data": {
      "text/html": [
       "<div>\n",
       "<style scoped>\n",
       "    .dataframe tbody tr th:only-of-type {\n",
       "        vertical-align: middle;\n",
       "    }\n",
       "\n",
       "    .dataframe tbody tr th {\n",
       "        vertical-align: top;\n",
       "    }\n",
       "\n",
       "    .dataframe thead th {\n",
       "        text-align: right;\n",
       "    }\n",
       "</style>\n",
       "<table border=\"1\" class=\"dataframe\">\n",
       "  <thead>\n",
       "    <tr style=\"text-align: right;\">\n",
       "      <th></th>\n",
       "      <th>universe_id</th>\n",
       "      <th>universe_training_year</th>\n",
       "      <th>universe_training_size</th>\n",
       "      <th>universe_scale</th>\n",
       "      <th>universe_model</th>\n",
       "      <th>universe_exclude_features</th>\n",
       "      <th>universe_exclude_subgroups</th>\n",
       "      <th>q_hat</th>\n",
       "      <th>coverage</th>\n",
       "      <th>avg_size</th>\n",
       "      <th>cov_frau1</th>\n",
       "      <th>cov_nongerman</th>\n",
       "      <th>cov_nongerman_male</th>\n",
       "      <th>cov_nongerman_female</th>\n",
       "    </tr>\n",
       "  </thead>\n",
       "  <tbody>\n",
       "    <tr>\n",
       "      <th>0</th>\n",
       "      <td>c66c2173f7b86dee98e813af13a043de</td>\n",
       "      <td>2010_14</td>\n",
       "      <td>1k</td>\n",
       "      <td>scale</td>\n",
       "      <td>gbm</td>\n",
       "      <td>nationality-sex</td>\n",
       "      <td>drop-non-german</td>\n",
       "      <td>0.778889</td>\n",
       "      <td>0.907792</td>\n",
       "      <td>1.196812</td>\n",
       "      <td>0.906349</td>\n",
       "      <td>0.905968</td>\n",
       "      <td>0.923534</td>\n",
       "      <td>0.8769</td>\n",
       "    </tr>\n",
       "  </tbody>\n",
       "</table>\n",
       "</div>"
      ],
      "text/plain": [
       "                        universe_id universe_training_year  \\\n",
       "0  c66c2173f7b86dee98e813af13a043de                2010_14   \n",
       "\n",
       "  universe_training_size universe_scale universe_model  \\\n",
       "0                     1k          scale            gbm   \n",
       "\n",
       "  universe_exclude_features universe_exclude_subgroups     q_hat  coverage  \\\n",
       "0           nationality-sex            drop-non-german  0.778889  0.907792   \n",
       "\n",
       "   avg_size  cov_frau1  cov_nongerman  cov_nongerman_male  \\\n",
       "0  1.196812   0.906349       0.905968            0.923534   \n",
       "\n",
       "   cov_nongerman_female  \n",
       "0                0.8769  "
      ]
     },
     "execution_count": 56,
     "metadata": {},
     "output_type": "execute_result"
    }
   ],
   "source": [
    "cp_metrics_df"
   ]
  },
  {
   "cell_type": "markdown",
   "id": "3fc519cc",
   "metadata": {
    "papermill": {
     "duration": 0.01264,
     "end_time": "2025-08-19T19:07:54.538420",
     "exception": false,
     "start_time": "2025-08-19T19:07:54.525780",
     "status": "completed"
    },
    "tags": []
   },
   "source": [
    "# (Fairness) Metrics"
   ]
  },
  {
   "cell_type": "code",
   "execution_count": 57,
   "id": "a2e5e155",
   "metadata": {
    "execution": {
     "iopub.execute_input": "2025-08-19T19:07:54.565713Z",
     "iopub.status.busy": "2025-08-19T19:07:54.564686Z",
     "iopub.status.idle": "2025-08-19T19:07:54.594500Z",
     "shell.execute_reply": "2025-08-19T19:07:54.593689Z"
    },
    "papermill": {
     "duration": 0.045746,
     "end_time": "2025-08-19T19:07:54.596426",
     "exception": false,
     "start_time": "2025-08-19T19:07:54.550680",
     "status": "completed"
    },
    "tags": []
   },
   "outputs": [],
   "source": [
    "colname_to_bin = \"maxdeutsch1\"\n",
    "majority_value = org_train[colname_to_bin].mode()[0]\n",
    "\n",
    "org_test[\"majmin\"] = np.where(org_test[colname_to_bin] == majority_value, \"majority\", \"minority\")"
   ]
  },
  {
   "cell_type": "code",
   "execution_count": 58,
   "id": "17e3e4d5",
   "metadata": {
    "execution": {
     "iopub.execute_input": "2025-08-19T19:07:54.639682Z",
     "iopub.status.busy": "2025-08-19T19:07:54.638394Z",
     "iopub.status.idle": "2025-08-19T19:07:56.383148Z",
     "shell.execute_reply": "2025-08-19T19:07:56.381813Z"
    },
    "papermill": {
     "duration": 1.761026,
     "end_time": "2025-08-19T19:07:56.384665",
     "exception": false,
     "start_time": "2025-08-19T19:07:54.623639",
     "status": "completed"
    },
    "tags": []
   },
   "outputs": [],
   "source": [
    "example_universe = universe.copy()\n",
    "example_universe[\"cutoff\"] = example_universe[\"cutoff\"][0]\n",
    "example_universe[\"eval_fairness_grouping\"] = example_universe[\"eval_fairness_grouping\"][0]\n",
    "fairness_dict, metric_frame = universe_analysis.compute_metrics(\n",
    "    example_universe,\n",
    "    y_pred_prob=probs_test,\n",
    "    y_test=y_true,\n",
    "    org_test=org_test,\n",
    ")"
   ]
  },
  {
   "cell_type": "markdown",
   "id": "1fb7a0e9",
   "metadata": {
    "papermill": {
     "duration": 0.018843,
     "end_time": "2025-08-19T19:07:56.422717",
     "exception": false,
     "start_time": "2025-08-19T19:07:56.403874",
     "status": "completed"
    },
    "tags": []
   },
   "source": [
    "# Overall"
   ]
  },
  {
   "cell_type": "markdown",
   "id": "be1784b1",
   "metadata": {
    "papermill": {
     "duration": 0.012365,
     "end_time": "2025-08-19T19:07:56.448505",
     "exception": false,
     "start_time": "2025-08-19T19:07:56.436140",
     "status": "completed"
    },
    "tags": []
   },
   "source": [
    "Main fairness target: Equalized Odds. Seems to be a better fit than equal opportunity, since we're not only interested in Y = 1. Seems to be a better fit than demographic parity, since we also care about accuracy, not just equal distribution of preds.\n",
    "\n",
    "Pick column for computation of fairness metrics\n",
    "\n",
    "Performance\n",
    "Overall performance measures, most interesting in relation to the measures split by group below"
   ]
  },
  {
   "cell_type": "code",
   "execution_count": 59,
   "id": "b7672bee",
   "metadata": {
    "execution": {
     "iopub.execute_input": "2025-08-19T19:07:56.475075Z",
     "iopub.status.busy": "2025-08-19T19:07:56.474714Z",
     "iopub.status.idle": "2025-08-19T19:07:56.482867Z",
     "shell.execute_reply": "2025-08-19T19:07:56.482143Z"
    },
    "papermill": {
     "duration": 0.024515,
     "end_time": "2025-08-19T19:07:56.485453",
     "exception": false,
     "start_time": "2025-08-19T19:07:56.460938",
     "status": "completed"
    },
    "tags": []
   },
   "outputs": [
    {
     "data": {
      "text/plain": [
       "accuracy                   0.222640\n",
       "balanced accuracy          0.544748\n",
       "f1                         0.244019\n",
       "precision                  0.139400\n",
       "false positive rate        0.888519\n",
       "false negative rate        0.021985\n",
       "selection rate             0.900000\n",
       "count                  89710.000000\n",
       "dtype: float64"
      ]
     },
     "execution_count": 59,
     "metadata": {},
     "output_type": "execute_result"
    }
   ],
   "source": [
    "metric_frame.overall"
   ]
  },
  {
   "cell_type": "markdown",
   "id": "d93333c9",
   "metadata": {
    "papermill": {
     "duration": 0.012622,
     "end_time": "2025-08-19T19:07:56.512598",
     "exception": false,
     "start_time": "2025-08-19T19:07:56.499976",
     "status": "completed"
    },
    "tags": []
   },
   "source": [
    "By Group"
   ]
  },
  {
   "cell_type": "code",
   "execution_count": 60,
   "id": "52256966",
   "metadata": {
    "execution": {
     "iopub.execute_input": "2025-08-19T19:07:56.539257Z",
     "iopub.status.busy": "2025-08-19T19:07:56.538852Z",
     "iopub.status.idle": "2025-08-19T19:07:56.552727Z",
     "shell.execute_reply": "2025-08-19T19:07:56.551986Z"
    },
    "papermill": {
     "duration": 0.029083,
     "end_time": "2025-08-19T19:07:56.554454",
     "exception": false,
     "start_time": "2025-08-19T19:07:56.525371",
     "status": "completed"
    },
    "tags": []
   },
   "outputs": [
    {
     "data": {
      "text/html": [
       "<div>\n",
       "<style scoped>\n",
       "    .dataframe tbody tr th:only-of-type {\n",
       "        vertical-align: middle;\n",
       "    }\n",
       "\n",
       "    .dataframe tbody tr th {\n",
       "        vertical-align: top;\n",
       "    }\n",
       "\n",
       "    .dataframe thead th {\n",
       "        text-align: right;\n",
       "    }\n",
       "</style>\n",
       "<table border=\"1\" class=\"dataframe\">\n",
       "  <thead>\n",
       "    <tr style=\"text-align: right;\">\n",
       "      <th></th>\n",
       "      <th>accuracy</th>\n",
       "      <th>balanced accuracy</th>\n",
       "      <th>f1</th>\n",
       "      <th>precision</th>\n",
       "      <th>false positive rate</th>\n",
       "      <th>false negative rate</th>\n",
       "      <th>selection rate</th>\n",
       "      <th>count</th>\n",
       "    </tr>\n",
       "    <tr>\n",
       "      <th>majmin</th>\n",
       "      <th></th>\n",
       "      <th></th>\n",
       "      <th></th>\n",
       "      <th></th>\n",
       "      <th></th>\n",
       "      <th></th>\n",
       "      <th></th>\n",
       "      <th></th>\n",
       "    </tr>\n",
       "  </thead>\n",
       "  <tbody>\n",
       "    <tr>\n",
       "      <th>majority</th>\n",
       "      <td>0.239613</td>\n",
       "      <td>0.551577</td>\n",
       "      <td>0.253216</td>\n",
       "      <td>0.145489</td>\n",
       "      <td>0.872447</td>\n",
       "      <td>0.024398</td>\n",
       "      <td>0.886078</td>\n",
       "      <td>69170.0</td>\n",
       "    </tr>\n",
       "    <tr>\n",
       "      <th>minority</th>\n",
       "      <td>0.165482</td>\n",
       "      <td>0.522859</td>\n",
       "      <td>0.214328</td>\n",
       "      <td>0.120212</td>\n",
       "      <td>0.941613</td>\n",
       "      <td>0.012669</td>\n",
       "      <td>0.946884</td>\n",
       "      <td>20540.0</td>\n",
       "    </tr>\n",
       "  </tbody>\n",
       "</table>\n",
       "</div>"
      ],
      "text/plain": [
       "          accuracy  balanced accuracy        f1  precision  \\\n",
       "majmin                                                       \n",
       "majority  0.239613           0.551577  0.253216   0.145489   \n",
       "minority  0.165482           0.522859  0.214328   0.120212   \n",
       "\n",
       "          false positive rate  false negative rate  selection rate    count  \n",
       "majmin                                                                       \n",
       "majority             0.872447             0.024398        0.886078  69170.0  \n",
       "minority             0.941613             0.012669        0.946884  20540.0  "
      ]
     },
     "execution_count": 60,
     "metadata": {},
     "output_type": "execute_result"
    }
   ],
   "source": [
    "metric_frame.by_group"
   ]
  },
  {
   "cell_type": "code",
   "execution_count": 61,
   "id": "6e6c20ae",
   "metadata": {
    "execution": {
     "iopub.execute_input": "2025-08-19T19:07:56.583332Z",
     "iopub.status.busy": "2025-08-19T19:07:56.582925Z",
     "iopub.status.idle": "2025-08-19T19:07:58.447135Z",
     "shell.execute_reply": "2025-08-19T19:07:58.445778Z"
    },
    "papermill": {
     "duration": 1.879229,
     "end_time": "2025-08-19T19:07:58.448524",
     "exception": false,
     "start_time": "2025-08-19T19:07:56.569295",
     "status": "completed"
    },
    "tags": []
   },
   "outputs": [
    {
     "data": {
      "text/plain": [
       "array([[<Axes: title={'center': 'accuracy'}, xlabel='majmin'>,\n",
       "        <Axes: title={'center': 'balanced accuracy'}, xlabel='majmin'>,\n",
       "        <Axes: title={'center': 'f1'}, xlabel='majmin'>],\n",
       "       [<Axes: title={'center': 'precision'}, xlabel='majmin'>,\n",
       "        <Axes: title={'center': 'false positive rate'}, xlabel='majmin'>,\n",
       "        <Axes: title={'center': 'false negative rate'}, xlabel='majmin'>],\n",
       "       [<Axes: title={'center': 'selection rate'}, xlabel='majmin'>,\n",
       "        <Axes: title={'center': 'count'}, xlabel='majmin'>,\n",
       "        <Axes: xlabel='majmin'>]], dtype=object)"
      ]
     },
     "execution_count": 61,
     "metadata": {},
     "output_type": "execute_result"
    },
    {
     "data": {
      "image/png": "[encoded data removed]",
      "text/plain": [
       "<Figure size 1200x800 with 9 Axes>"
      ]
     },
     "metadata": {},
     "output_type": "display_data"
    }
   ],
   "source": [
    "# In a graphic\n",
    "metric_frame.by_group.plot.bar(\n",
    "    subplots=True,\n",
    "    layout=[3, 3],\n",
    "    legend=False,\n",
    "    figsize=[12, 8],\n",
    "    title=\"Show all metrics\",\n",
    ")"
   ]
  },
  {
   "cell_type": "markdown",
   "id": "b2e433ae",
   "metadata": {
    "papermill": {
     "duration": 0.0139,
     "end_time": "2025-08-19T19:07:58.477194",
     "exception": false,
     "start_time": "2025-08-19T19:07:58.463294",
     "status": "completed"
    },
    "tags": []
   },
   "source": [
    "# Final Output"
   ]
  },
  {
   "cell_type": "code",
   "execution_count": 62,
   "id": "3871301e",
   "metadata": {
    "execution": {
     "iopub.execute_input": "2025-08-19T19:07:58.513283Z",
     "iopub.status.busy": "2025-08-19T19:07:58.511437Z",
     "iopub.status.idle": "2025-08-19T19:07:58.536271Z",
     "shell.execute_reply": "2025-08-19T19:07:58.535105Z"
    },
    "papermill": {
     "duration": 0.047777,
     "end_time": "2025-08-19T19:07:58.538755",
     "exception": false,
     "start_time": "2025-08-19T19:07:58.490978",
     "status": "completed"
    },
    "tags": []
   },
   "outputs": [
    {
     "data": {
      "text/plain": [
       "4"
      ]
     },
     "execution_count": 62,
     "metadata": {},
     "output_type": "execute_result"
    }
   ],
   "source": [
    "sub_universes = universe_analysis.generate_sub_universes()\n",
    "len(sub_universes)"
   ]
  },
  {
   "cell_type": "code",
   "execution_count": 63,
   "id": "d9cfdaca",
   "metadata": {
    "execution": {
     "iopub.execute_input": "2025-08-19T19:07:58.573759Z",
     "iopub.status.busy": "2025-08-19T19:07:58.573187Z",
     "iopub.status.idle": "2025-08-19T19:07:58.588910Z",
     "shell.execute_reply": "2025-08-19T19:07:58.587955Z"
    },
    "papermill": {
     "duration": 0.033257,
     "end_time": "2025-08-19T19:07:58.590773",
     "exception": false,
     "start_time": "2025-08-19T19:07:58.557516",
     "status": "completed"
    },
    "tags": []
   },
   "outputs": [],
   "source": [
    "def filter_sub_universe_data(sub_universe, org_test):\n",
    "    # Keep all rows — no filtering\n",
    "    keep_rows_mask = np.ones(org_test.shape[0], dtype=bool)\n",
    "\n",
    "    print(f\"[INFO] Keeping all rows: {keep_rows_mask.sum()} rows retained.\")\n",
    "    return keep_rows_mask"
   ]
  },
  {
   "cell_type": "code",
   "execution_count": 64,
   "id": "2bc31ac1",
   "metadata": {
    "execution": {
     "iopub.execute_input": "2025-08-19T19:07:58.627244Z",
     "iopub.status.busy": "2025-08-19T19:07:58.626926Z",
     "iopub.status.idle": "2025-08-19T19:08:05.379230Z",
     "shell.execute_reply": "2025-08-19T19:08:05.378335Z"
    },
    "papermill": {
     "duration": 6.769168,
     "end_time": "2025-08-19T19:08:05.380843",
     "exception": false,
     "start_time": "2025-08-19T19:07:58.611675",
     "status": "completed"
    },
    "tags": []
   },
   "outputs": [
    {
     "name": "stdout",
     "output_type": "stream",
     "text": [
      "Stopping execution_time clock.\n",
      "[INFO] Keeping all rows: 89710 rows retained.\n"
     ]
    },
    {
     "name": "stdout",
     "output_type": "stream",
     "text": [
      "[INFO] Keeping all rows: 89710 rows retained.\n"
     ]
    },
    {
     "name": "stdout",
     "output_type": "stream",
     "text": [
      "[INFO] Keeping all rows: 89710 rows retained.\n"
     ]
    },
    {
     "name": "stdout",
     "output_type": "stream",
     "text": [
      "[INFO] Keeping all rows: 89710 rows retained.\n"
     ]
    },
    {
     "data": {
      "text/html": [
       "<div>\n",
       "<style scoped>\n",
       "    .dataframe tbody tr th:only-of-type {\n",
       "        vertical-align: middle;\n",
       "    }\n",
       "\n",
       "    .dataframe tbody tr th {\n",
       "        vertical-align: top;\n",
       "    }\n",
       "\n",
       "    .dataframe thead th {\n",
       "        text-align: right;\n",
       "    }\n",
       "</style>\n",
       "<table border=\"1\" class=\"dataframe\">\n",
       "  <thead>\n",
       "    <tr style=\"text-align: right;\">\n",
       "      <th></th>\n",
       "      <th>run_no</th>\n",
       "      <th>universe_id</th>\n",
       "      <th>universe_settings</th>\n",
       "      <th>execution_time</th>\n",
       "      <th>test_size_n</th>\n",
       "      <th>test_size_frac</th>\n",
       "      <th>fair_main_equalized_odds_difference</th>\n",
       "      <th>fair_main_equalized_odds_ratio</th>\n",
       "      <th>fair_main_demographic_parity_difference</th>\n",
       "      <th>fair_main_demographic_parity_ratio</th>\n",
       "      <th>...</th>\n",
       "      <th>perf_grp_precision_0</th>\n",
       "      <th>perf_grp_precision_1</th>\n",
       "      <th>perf_grp_false positive rate_0</th>\n",
       "      <th>perf_grp_false positive rate_1</th>\n",
       "      <th>perf_grp_false negative rate_0</th>\n",
       "      <th>perf_grp_false negative rate_1</th>\n",
       "      <th>perf_grp_selection rate_0</th>\n",
       "      <th>perf_grp_selection rate_1</th>\n",
       "      <th>perf_grp_count_0</th>\n",
       "      <th>perf_grp_count_1</th>\n",
       "    </tr>\n",
       "  </thead>\n",
       "  <tbody>\n",
       "    <tr>\n",
       "      <th>0</th>\n",
       "      <td>3</td>\n",
       "      <td>c66c2173f7b86dee98e813af13a043de</td>\n",
       "      <td>{\"cutoff\": \"quantile_0.1\", \"eval_fairness_grou...</td>\n",
       "      <td>25.647635</td>\n",
       "      <td>89710</td>\n",
       "      <td>1.0</td>\n",
       "      <td>0.069166</td>\n",
       "      <td>0.926545</td>\n",
       "      <td>0.060806</td>\n",
       "      <td>0.935783</td>\n",
       "      <td>...</td>\n",
       "      <td>NaN</td>\n",
       "      <td>NaN</td>\n",
       "      <td>NaN</td>\n",
       "      <td>NaN</td>\n",
       "      <td>NaN</td>\n",
       "      <td>NaN</td>\n",
       "      <td>NaN</td>\n",
       "      <td>NaN</td>\n",
       "      <td>NaN</td>\n",
       "      <td>NaN</td>\n",
       "    </tr>\n",
       "    <tr>\n",
       "      <th>0</th>\n",
       "      <td>3</td>\n",
       "      <td>c66c2173f7b86dee98e813af13a043de</td>\n",
       "      <td>{\"cutoff\": \"quantile_0.1\", \"eval_fairness_grou...</td>\n",
       "      <td>25.647635</td>\n",
       "      <td>89710</td>\n",
       "      <td>1.0</td>\n",
       "      <td>0.069166</td>\n",
       "      <td>0.926545</td>\n",
       "      <td>0.060806</td>\n",
       "      <td>0.935783</td>\n",
       "      <td>...</td>\n",
       "      <td>0.120212</td>\n",
       "      <td>0.145489</td>\n",
       "      <td>0.941613</td>\n",
       "      <td>0.872447</td>\n",
       "      <td>0.012669</td>\n",
       "      <td>0.024398</td>\n",
       "      <td>0.946884</td>\n",
       "      <td>0.886078</td>\n",
       "      <td>20540.0</td>\n",
       "      <td>69170.0</td>\n",
       "    </tr>\n",
       "    <tr>\n",
       "      <th>0</th>\n",
       "      <td>3</td>\n",
       "      <td>c66c2173f7b86dee98e813af13a043de</td>\n",
       "      <td>{\"cutoff\": \"quantile_0.25\", \"eval_fairness_gro...</td>\n",
       "      <td>25.647635</td>\n",
       "      <td>89710</td>\n",
       "      <td>1.0</td>\n",
       "      <td>0.150727</td>\n",
       "      <td>0.820616</td>\n",
       "      <td>0.134501</td>\n",
       "      <td>0.842449</td>\n",
       "      <td>...</td>\n",
       "      <td>NaN</td>\n",
       "      <td>NaN</td>\n",
       "      <td>NaN</td>\n",
       "      <td>NaN</td>\n",
       "      <td>NaN</td>\n",
       "      <td>NaN</td>\n",
       "      <td>NaN</td>\n",
       "      <td>NaN</td>\n",
       "      <td>NaN</td>\n",
       "      <td>NaN</td>\n",
       "    </tr>\n",
       "    <tr>\n",
       "      <th>0</th>\n",
       "      <td>3</td>\n",
       "      <td>c66c2173f7b86dee98e813af13a043de</td>\n",
       "      <td>{\"cutoff\": \"quantile_0.25\", \"eval_fairness_gro...</td>\n",
       "      <td>25.647635</td>\n",
       "      <td>89710</td>\n",
       "      <td>1.0</td>\n",
       "      <td>0.150727</td>\n",
       "      <td>0.820616</td>\n",
       "      <td>0.134501</td>\n",
       "      <td>0.842449</td>\n",
       "      <td>...</td>\n",
       "      <td>0.129227</td>\n",
       "      <td>0.167950</td>\n",
       "      <td>0.840249</td>\n",
       "      <td>0.689522</td>\n",
       "      <td>0.043074</td>\n",
       "      <td>0.085886</td>\n",
       "      <td>0.853700</td>\n",
       "      <td>0.719199</td>\n",
       "      <td>20540.0</td>\n",
       "      <td>69170.0</td>\n",
       "    </tr>\n",
       "  </tbody>\n",
       "</table>\n",
       "<p>4 rows × 50 columns</p>\n",
       "</div>"
      ],
      "text/plain": [
       "  run_no                       universe_id  \\\n",
       "0      3  c66c2173f7b86dee98e813af13a043de   \n",
       "0      3  c66c2173f7b86dee98e813af13a043de   \n",
       "0      3  c66c2173f7b86dee98e813af13a043de   \n",
       "0      3  c66c2173f7b86dee98e813af13a043de   \n",
       "\n",
       "                                   universe_settings  execution_time  \\\n",
       "0  {\"cutoff\": \"quantile_0.1\", \"eval_fairness_grou...       25.647635   \n",
       "0  {\"cutoff\": \"quantile_0.1\", \"eval_fairness_grou...       25.647635   \n",
       "0  {\"cutoff\": \"quantile_0.25\", \"eval_fairness_gro...       25.647635   \n",
       "0  {\"cutoff\": \"quantile_0.25\", \"eval_fairness_gro...       25.647635   \n",
       "\n",
       "   test_size_n  test_size_frac  fair_main_equalized_odds_difference  \\\n",
       "0        89710             1.0                             0.069166   \n",
       "0        89710             1.0                             0.069166   \n",
       "0        89710             1.0                             0.150727   \n",
       "0        89710             1.0                             0.150727   \n",
       "\n",
       "   fair_main_equalized_odds_ratio  fair_main_demographic_parity_difference  \\\n",
       "0                        0.926545                                 0.060806   \n",
       "0                        0.926545                                 0.060806   \n",
       "0                        0.820616                                 0.134501   \n",
       "0                        0.820616                                 0.134501   \n",
       "\n",
       "   fair_main_demographic_parity_ratio  ...  perf_grp_precision_0  \\\n",
       "0                            0.935783  ...                   NaN   \n",
       "0                            0.935783  ...              0.120212   \n",
       "0                            0.842449  ...                   NaN   \n",
       "0                            0.842449  ...              0.129227   \n",
       "\n",
       "   perf_grp_precision_1  perf_grp_false positive rate_0  \\\n",
       "0                   NaN                             NaN   \n",
       "0              0.145489                        0.941613   \n",
       "0                   NaN                             NaN   \n",
       "0              0.167950                        0.840249   \n",
       "\n",
       "   perf_grp_false positive rate_1  perf_grp_false negative rate_0  \\\n",
       "0                             NaN                             NaN   \n",
       "0                        0.872447                        0.012669   \n",
       "0                             NaN                             NaN   \n",
       "0                        0.689522                        0.043074   \n",
       "\n",
       "   perf_grp_false negative rate_1  perf_grp_selection rate_0  \\\n",
       "0                             NaN                        NaN   \n",
       "0                        0.024398                   0.946884   \n",
       "0                             NaN                        NaN   \n",
       "0                        0.085886                   0.853700   \n",
       "\n",
       "   perf_grp_selection rate_1  perf_grp_count_0  perf_grp_count_1  \n",
       "0                        NaN               NaN               NaN  \n",
       "0                   0.886078           20540.0           69170.0  \n",
       "0                        NaN               NaN               NaN  \n",
       "0                   0.719199           20540.0           69170.0  \n",
       "\n",
       "[4 rows x 50 columns]"
      ]
     },
     "execution_count": 64,
     "metadata": {},
     "output_type": "execute_result"
    }
   ],
   "source": [
    "final_output = universe_analysis.generate_final_output(\n",
    "    y_pred_prob=probs_test,\n",
    "    y_test=y_true,\n",
    "    org_test=org_test,\n",
    "    filter_data=filter_sub_universe_data,\n",
    "    cp_metrics_df=cp_metrics_df,\n",
    "    save=True,\n",
    ")\n",
    "final_output"
   ]
  },
  {
   "cell_type": "code",
   "execution_count": null,
   "id": "8b80a1ff",
   "metadata": {
    "papermill": {
     "duration": 0.014735,
     "end_time": "2025-08-19T19:08:05.414219",
     "exception": false,
     "start_time": "2025-08-19T19:08:05.399484",
     "status": "completed"
    },
    "tags": []
   },
   "outputs": [],
   "source": []
  },
  {
   "cell_type": "code",
   "execution_count": null,
   "id": "275c9fad",
   "metadata": {
    "papermill": {
     "duration": 0.144879,
     "end_time": "2025-08-19T19:08:05.573951",
     "exception": false,
     "start_time": "2025-08-19T19:08:05.429072",
     "status": "completed"
    },
    "tags": []
   },
   "outputs": [],
   "source": []
  }
 ],
 "metadata": {
  "celltoolbar": "Tags",
  "kernelspec": {
   "display_name": "Python (CMA Fairness)",
   "language": "python",
   "name": "cma_fair_env"
  },
  "language_info": {
   "codemirror_mode": {
    "name": "ipython",
    "version": 3
   },
   "file_extension": ".py",
   "mimetype": "text/x-python",
   "name": "python",
   "nbconvert_exporter": "python",
   "pygments_lexer": "ipython3",
   "version": "3.10.12"
  },
  "papermill": {
   "default_parameters": {},
   "duration": 36.440561,
   "end_time": "2025-08-19T19:08:06.622046",
   "environment_variables": {},
   "exception": null,
   "input_path": "universe_analysis.ipynb",
   "output_path": "output/runs/3/notebooks/m_3-c66c2173f7b86dee98e813af13a043de.ipynb",
   "parameters": {
    "output_dir": "output",
    "run_no": "3",
    "seed": "2023",
    "universe": "{\"cutoff\": [\"quantile_0.1\", \"quantile_0.25\"], \"eval_fairness_grouping\": [\"majority-minority\", \"nationality-all\"], \"exclude_features\": \"nationality-sex\", \"exclude_subgroups\": \"drop-non-german\", \"model\": \"gbm\", \"scale\": \"scale\", \"training_size\": \"1k\", \"training_year\": \"2010_14\"}",
    "universe_id": "c66c2173f7b86dee98e813af13a043de"
   },
   "start_time": "2025-08-19T19:07:30.181485",
   "version": "2.6.0"
  }
 },
 "nbformat": 4,
 "nbformat_minor": 5
}