{
 "cells": [
  {
   "cell_type": "markdown",
   "id": "ef23dbb3",
   "metadata": {
    "papermill": {
     "duration": 0.011976,
     "end_time": "2025-08-19T18:51:55.856338",
     "exception": false,
     "start_time": "2025-08-19T18:51:55.844362",
     "status": "completed"
    },
    "tags": []
   },
   "source": [
    "# Setup"
   ]
  },
  {
   "cell_type": "code",
   "execution_count": 1,
   "id": "0bc8e7dc",
   "metadata": {
    "execution": {
     "iopub.execute_input": "2025-08-19T18:51:55.894594Z",
     "iopub.status.busy": "2025-08-19T18:51:55.892840Z",
     "iopub.status.idle": "2025-08-19T18:51:55.917566Z",
     "shell.execute_reply": "2025-08-19T18:51:55.916558Z"
    },
    "papermill": {
     "duration": 0.040822,
     "end_time": "2025-08-19T18:51:55.919267",
     "exception": false,
     "start_time": "2025-08-19T18:51:55.878445",
     "status": "completed"
    },
    "tags": []
   },
   "outputs": [
    {
     "name": "stdout",
     "output_type": "stream",
     "text": [
      "/dss/dsshome1/0C/ra93lal2/cma/CMA_Fairness_v2\n"
     ]
    },
    {
     "name": "stderr",
     "output_type": "stream",
     "text": [
      "/dss/dsshome1/0C/ra93lal2/.local/share/virtualenvs/CMA_Fairness_v2-3j10GkSs/lib/python3.10/site-packages/IPython/core/magics/osm.py:393: UserWarning: This is now an optional IPython functionality, using bookmarks requires you to install the `pickleshare` library.\n",
      "  bkms = self.shell.db.get('bookmarks', {})\n",
      "/dss/dsshome1/0C/ra93lal2/.local/share/virtualenvs/CMA_Fairness_v2-3j10GkSs/lib/python3.10/site-packages/IPython/core/magics/osm.py:417: UserWarning: This is now an optional IPython functionality, setting dhist requires you to install the `pickleshare` library.\n",
      "  self.shell.db['dhist'] = compress_dhist(dhist)[-100:]\n"
     ]
    }
   ],
   "source": [
    "%cd ~/cma/CMA_Fairness_v2"
   ]
  },
  {
   "cell_type": "markdown",
   "id": "9d235661",
   "metadata": {
    "papermill": {
     "duration": 0.009862,
     "end_time": "2025-08-19T18:51:55.943417",
     "exception": false,
     "start_time": "2025-08-19T18:51:55.933555",
     "status": "completed"
    },
    "tags": []
   },
   "source": [
    "The following cell holds the definition of our parameters, these values can be overriden by rendering the with e.g. the following command:\n",
    "\n",
    "papermill -p alpha 0.2 -p ratio 0.3 universe_analysis.ipynb output/test_run.ipynb"
   ]
  },
  {
   "cell_type": "code",
   "execution_count": 2,
   "id": "4a789d8e",
   "metadata": {
    "execution": {
     "iopub.execute_input": "2025-08-19T18:51:55.964639Z",
     "iopub.status.busy": "2025-08-19T18:51:55.963199Z",
     "iopub.status.idle": "2025-08-19T18:51:55.973636Z",
     "shell.execute_reply": "2025-08-19T18:51:55.972730Z"
    },
    "papermill": {
     "duration": 0.023003,
     "end_time": "2025-08-19T18:51:55.975320",
     "exception": false,
     "start_time": "2025-08-19T18:51:55.952317",
     "status": "completed"
    },
    "tags": []
   },
   "outputs": [
    {
     "name": "stdout",
     "output_type": "stream",
     "text": [
      "Current working directory: /dss/dsshome1/0C/ra93lal2/cma/CMA_Fairness_v2\n"
     ]
    }
   ],
   "source": [
    "import os\n",
    "print(\"Current working directory:\", os.getcwd())"
   ]
  },
  {
   "cell_type": "code",
   "execution_count": 3,
   "id": "4132aaed",
   "metadata": {
    "execution": {
     "iopub.execute_input": "2025-08-19T18:51:55.996960Z",
     "iopub.status.busy": "2025-08-19T18:51:55.996566Z",
     "iopub.status.idle": "2025-08-19T18:51:56.001661Z",
     "shell.execute_reply": "2025-08-19T18:51:56.000899Z"
    },
    "papermill": {
     "duration": 0.01698,
     "end_time": "2025-08-19T18:51:56.003162",
     "exception": false,
     "start_time": "2025-08-19T18:51:55.986182",
     "status": "completed"
    },
    "tags": [
     "parameters"
    ]
   },
   "outputs": [],
   "source": [
    "run_no = 0\n",
    "universe_id = \"test\"\n",
    "universe = {\n",
    "    \"training_size\": \"5k\", # \"25k\", \"5k\", \"1k\"\n",
    "    \"training_year\": \"2012_14\", # \"2014\", \"2012_14\", \"2010_14\"\n",
    "    \"scale\": \"scale\", # \"scale\", \"do-not-scale\",\n",
    "    \"model\": \"elasticnet\", # \"logreg\", \"penalized_logreg\", \"rf\", \"gbm\", \"elasticnet\"\n",
    "    \"cutoff\": [\"quantile_0.15\", \"quantile_0.30\"],\n",
    "    \"exclude_features\": \"age\", # \"none\", \"nationality\", \"sex\", \"nationality-sex\", \"age\"\n",
    "    \"exclude_subgroups\": \"drop-non-german\", # \"keep-all\", \"drop-non-german\"\n",
    "    \"eval_fairness_grouping\": [\"majority-minority\", \"nationality-all\"]\n",
    "}\n",
    "\n",
    "output_dir=\"./output\"\n",
    "seed=0"
   ]
  },
  {
   "cell_type": "code",
   "execution_count": 4,
   "id": "9224fc37",
   "metadata": {
    "execution": {
     "iopub.execute_input": "2025-08-19T18:51:56.023055Z",
     "iopub.status.busy": "2025-08-19T18:51:56.022663Z",
     "iopub.status.idle": "2025-08-19T18:51:56.027077Z",
     "shell.execute_reply": "2025-08-19T18:51:56.026288Z"
    },
    "papermill": {
     "duration": 0.015916,
     "end_time": "2025-08-19T18:51:56.028454",
     "exception": false,
     "start_time": "2025-08-19T18:51:56.012538",
     "status": "completed"
    },
    "tags": [
     "injected-parameters"
    ]
   },
   "outputs": [],
   "source": [
    "# Parameters\n",
    "universe_id = \"5b1db7df375210c31947652f9cf20c6d\"\n",
    "run_no = \"3\"\n",
    "universe = \"{\\\"cutoff\\\": [\\\"quantile_0.1\\\", \\\"quantile_0.25\\\"], \\\"eval_fairness_grouping\\\": [\\\"majority-minority\\\", \\\"nationality-all\\\"], \\\"exclude_features\\\": \\\"none\\\", \\\"exclude_subgroups\\\": \\\"drop-non-german\\\", \\\"model\\\": \\\"elasticnet\\\", \\\"scale\\\": \\\"scale\\\", \\\"training_size\\\": \\\"1k\\\", \\\"training_year\\\": \\\"2014\\\"}\"\n",
    "output_dir = \"output\"\n",
    "seed = \"2023\"\n"
   ]
  },
  {
   "cell_type": "code",
   "execution_count": 5,
   "id": "a5d7941f",
   "metadata": {
    "execution": {
     "iopub.execute_input": "2025-08-19T18:51:56.049182Z",
     "iopub.status.busy": "2025-08-19T18:51:56.048760Z",
     "iopub.status.idle": "2025-08-19T18:51:56.059770Z",
     "shell.execute_reply": "2025-08-19T18:51:56.056542Z"
    },
    "papermill": {
     "duration": 0.027994,
     "end_time": "2025-08-19T18:51:56.066065",
     "exception": false,
     "start_time": "2025-08-19T18:51:56.038071",
     "status": "completed"
    },
    "tags": []
   },
   "outputs": [],
   "source": [
    "import json\n",
    "if isinstance(universe, str):\n",
    "    universe = json.loads(universe)"
   ]
  },
  {
   "cell_type": "code",
   "execution_count": 6,
   "id": "7076ccb1",
   "metadata": {
    "execution": {
     "iopub.execute_input": "2025-08-19T18:51:56.087089Z",
     "iopub.status.busy": "2025-08-19T18:51:56.086696Z",
     "iopub.status.idle": "2025-08-19T18:51:56.125313Z",
     "shell.execute_reply": "2025-08-19T18:51:56.124369Z"
    },
    "papermill": {
     "duration": 0.050487,
     "end_time": "2025-08-19T18:51:56.127094",
     "exception": false,
     "start_time": "2025-08-19T18:51:56.076607",
     "status": "completed"
    },
    "tags": []
   },
   "outputs": [],
   "source": [
    "# Auto-reload the custom package\n",
    "%load_ext autoreload\n",
    "%autoreload 1\n",
    "%aimport fairness_multiverse"
   ]
  },
  {
   "cell_type": "code",
   "execution_count": 7,
   "id": "94c8eb93",
   "metadata": {
    "execution": {
     "iopub.execute_input": "2025-08-19T18:51:56.147754Z",
     "iopub.status.busy": "2025-08-19T18:51:56.147416Z",
     "iopub.status.idle": "2025-08-19T18:51:57.796092Z",
     "shell.execute_reply": "2025-08-19T18:51:57.795248Z"
    },
    "papermill": {
     "duration": 1.661432,
     "end_time": "2025-08-19T18:51:57.798796",
     "exception": false,
     "start_time": "2025-08-19T18:51:56.137364",
     "status": "completed"
    },
    "tags": []
   },
   "outputs": [],
   "source": [
    "from fairness_multiverse.universe import UniverseAnalysis\n",
    "\n",
    "universe_analysis = UniverseAnalysis(\n",
    "    run_no = run_no,\n",
    "    universe_id = universe_id,\n",
    "    universe = universe,\n",
    "    output_dir=output_dir,\n",
    ")"
   ]
  },
  {
   "cell_type": "code",
   "execution_count": 8,
   "id": "2a6381cf",
   "metadata": {
    "execution": {
     "iopub.execute_input": "2025-08-19T18:51:57.841550Z",
     "iopub.status.busy": "2025-08-19T18:51:57.840838Z",
     "iopub.status.idle": "2025-08-19T18:51:57.850895Z",
     "shell.execute_reply": "2025-08-19T18:51:57.849578Z"
    },
    "papermill": {
     "duration": 0.026661,
     "end_time": "2025-08-19T18:51:57.852505",
     "exception": false,
     "start_time": "2025-08-19T18:51:57.825844",
     "status": "completed"
    },
    "tags": []
   },
   "outputs": [
    {
     "name": "stdout",
     "output_type": "stream",
     "text": [
      "Using Seed: 2023\n"
     ]
    }
   ],
   "source": [
    "import numpy as np\n",
    "parsed_seed = int(seed)\n",
    "np.random.seed(parsed_seed)\n",
    "print(f\"Using Seed: {parsed_seed}\")"
   ]
  },
  {
   "cell_type": "markdown",
   "id": "b6e958b4",
   "metadata": {
    "papermill": {
     "duration": 0.00957,
     "end_time": "2025-08-19T18:51:57.886822",
     "exception": false,
     "start_time": "2025-08-19T18:51:57.877252",
     "status": "completed"
    },
    "tags": []
   },
   "source": [
    "# Loading Data"
   ]
  },
  {
   "cell_type": "code",
   "execution_count": 9,
   "id": "98701482",
   "metadata": {
    "execution": {
     "iopub.execute_input": "2025-08-19T18:51:57.908358Z",
     "iopub.status.busy": "2025-08-19T18:51:57.907653Z",
     "iopub.status.idle": "2025-08-19T18:52:08.138324Z",
     "shell.execute_reply": "2025-08-19T18:52:08.137318Z"
    },
    "papermill": {
     "duration": 10.242945,
     "end_time": "2025-08-19T18:52:08.139569",
     "exception": false,
     "start_time": "2025-08-19T18:51:57.896624",
     "status": "completed"
    },
    "tags": []
   },
   "outputs": [
    {
     "name": "stdout",
     "output_type": "stream",
     "text": [
      "Loading SIAB data from cache: data/siab_cached.csv.gz\n"
     ]
    },
    {
     "name": "stdout",
     "output_type": "stream",
     "text": [
      "(643690, 164)\n"
     ]
    }
   ],
   "source": [
    "from pathlib import Path\n",
    "import pandas as pd\n",
    "\n",
    "# File paths\n",
    "raw_file = Path(\"data/raw/siab.csv\")\n",
    "cache_file = Path(\"data/siab_cached.csv.gz\")\n",
    "\n",
    "# Ensure cache directory exists\n",
    "cache_file.parent.mkdir(parents=True, exist_ok=True)\n",
    "\n",
    "# Load with simple caching\n",
    "if cache_file.exists():\n",
    "    print(f\"Loading SIAB data from cache: {cache_file}\")\n",
    "    siab = pd.read_csv(cache_file, compression='gzip')\n",
    "else:\n",
    "    print(f\"Cache not found. Reading raw SIAB data: {raw_file}\")\n",
    "    siab = pd.read_csv(raw_file)\n",
    "    siab.to_csv(cache_file, index=False, compression='gzip')\n",
    "    print(f\"Cached SIAB data to: {cache_file}\")\n",
    "\n",
    "print(siab.shape)"
   ]
  },
  {
   "cell_type": "code",
   "execution_count": 10,
   "id": "058d2abb",
   "metadata": {
    "execution": {
     "iopub.execute_input": "2025-08-19T18:52:08.169710Z",
     "iopub.status.busy": "2025-08-19T18:52:08.169027Z",
     "iopub.status.idle": "2025-08-19T18:52:08.302728Z",
     "shell.execute_reply": "2025-08-19T18:52:08.301941Z"
    },
    "papermill": {
     "duration": 0.152635,
     "end_time": "2025-08-19T18:52:08.303966",
     "exception": false,
     "start_time": "2025-08-19T18:52:08.151331",
     "status": "completed"
    },
    "tags": []
   },
   "outputs": [
    {
     "data": {
      "text/html": [
       "<div>\n",
       "<style scoped>\n",
       "    .dataframe tbody tr th:only-of-type {\n",
       "        vertical-align: middle;\n",
       "    }\n",
       "\n",
       "    .dataframe tbody tr th {\n",
       "        vertical-align: top;\n",
       "    }\n",
       "\n",
       "    .dataframe thead th {\n",
       "        text-align: right;\n",
       "    }\n",
       "</style>\n",
       "<table border=\"1\" class=\"dataframe\">\n",
       "  <thead>\n",
       "    <tr style=\"text-align: right;\">\n",
       "      <th></th>\n",
       "      <th>persnr</th>\n",
       "      <th>year</th>\n",
       "      <th>nrEntry</th>\n",
       "      <th>ltue</th>\n",
       "      <th>employed_before</th>\n",
       "      <th>receipt_leh_before</th>\n",
       "      <th>receipt_lhg_before</th>\n",
       "      <th>se_before</th>\n",
       "      <th>ASU_notue_seeking_before</th>\n",
       "      <th>ASU_other_before</th>\n",
       "      <th>...</th>\n",
       "      <th>minijob_tot_dur_byage</th>\n",
       "      <th>ft_tot_dur_byage</th>\n",
       "      <th>befrist_tot_dur_byage</th>\n",
       "      <th>leih_tot_dur_byage</th>\n",
       "      <th>LHG_tot_dur_byage</th>\n",
       "      <th>LEH_tot_dur_byage</th>\n",
       "      <th>almp_tot_dur_byage</th>\n",
       "      <th>almp_aw_tot_dur_byage</th>\n",
       "      <th>se_tot_dur_byage</th>\n",
       "      <th>seeking1_tot_dur_byage</th>\n",
       "    </tr>\n",
       "  </thead>\n",
       "  <tbody>\n",
       "    <tr>\n",
       "      <th>0</th>\n",
       "      <td>7</td>\n",
       "      <td>2015</td>\n",
       "      <td>1</td>\n",
       "      <td>0</td>\n",
       "      <td>1</td>\n",
       "      <td>0</td>\n",
       "      <td>0</td>\n",
       "      <td>0</td>\n",
       "      <td>1</td>\n",
       "      <td>0</td>\n",
       "      <td>...</td>\n",
       "      <td>0.000000</td>\n",
       "      <td>0.000000</td>\n",
       "      <td>15.043478</td>\n",
       "      <td>0.000000</td>\n",
       "      <td>0.000000</td>\n",
       "      <td>0.000000</td>\n",
       "      <td>0.000000</td>\n",
       "      <td>0.000000</td>\n",
       "      <td>0.000000</td>\n",
       "      <td>0.000000</td>\n",
       "    </tr>\n",
       "    <tr>\n",
       "      <th>1</th>\n",
       "      <td>18</td>\n",
       "      <td>2010</td>\n",
       "      <td>1</td>\n",
       "      <td>1</td>\n",
       "      <td>0</td>\n",
       "      <td>0</td>\n",
       "      <td>0</td>\n",
       "      <td>0</td>\n",
       "      <td>0</td>\n",
       "      <td>0</td>\n",
       "      <td>...</td>\n",
       "      <td>0.000000</td>\n",
       "      <td>0.000000</td>\n",
       "      <td>0.000000</td>\n",
       "      <td>0.000000</td>\n",
       "      <td>0.000000</td>\n",
       "      <td>0.000000</td>\n",
       "      <td>0.000000</td>\n",
       "      <td>0.000000</td>\n",
       "      <td>0.000000</td>\n",
       "      <td>0.000000</td>\n",
       "    </tr>\n",
       "    <tr>\n",
       "      <th>2</th>\n",
       "      <td>18</td>\n",
       "      <td>2011</td>\n",
       "      <td>2</td>\n",
       "      <td>0</td>\n",
       "      <td>1</td>\n",
       "      <td>0</td>\n",
       "      <td>1</td>\n",
       "      <td>0</td>\n",
       "      <td>1</td>\n",
       "      <td>0</td>\n",
       "      <td>...</td>\n",
       "      <td>2.714286</td>\n",
       "      <td>2.714286</td>\n",
       "      <td>0.000000</td>\n",
       "      <td>0.000000</td>\n",
       "      <td>10.775510</td>\n",
       "      <td>0.000000</td>\n",
       "      <td>8.367347</td>\n",
       "      <td>0.000000</td>\n",
       "      <td>0.000000</td>\n",
       "      <td>9.836735</td>\n",
       "    </tr>\n",
       "    <tr>\n",
       "      <th>3</th>\n",
       "      <td>18</td>\n",
       "      <td>2012</td>\n",
       "      <td>3</td>\n",
       "      <td>0</td>\n",
       "      <td>1</td>\n",
       "      <td>0</td>\n",
       "      <td>1</td>\n",
       "      <td>0</td>\n",
       "      <td>1</td>\n",
       "      <td>0</td>\n",
       "      <td>...</td>\n",
       "      <td>4.200000</td>\n",
       "      <td>4.200000</td>\n",
       "      <td>0.000000</td>\n",
       "      <td>0.000000</td>\n",
       "      <td>12.100000</td>\n",
       "      <td>0.000000</td>\n",
       "      <td>9.400000</td>\n",
       "      <td>0.000000</td>\n",
       "      <td>0.000000</td>\n",
       "      <td>9.960000</td>\n",
       "    </tr>\n",
       "    <tr>\n",
       "      <th>4</th>\n",
       "      <td>18</td>\n",
       "      <td>2012</td>\n",
       "      <td>4</td>\n",
       "      <td>0</td>\n",
       "      <td>1</td>\n",
       "      <td>0</td>\n",
       "      <td>1</td>\n",
       "      <td>0</td>\n",
       "      <td>1</td>\n",
       "      <td>0</td>\n",
       "      <td>...</td>\n",
       "      <td>5.460000</td>\n",
       "      <td>5.460000</td>\n",
       "      <td>0.000000</td>\n",
       "      <td>0.000000</td>\n",
       "      <td>13.360000</td>\n",
       "      <td>0.000000</td>\n",
       "      <td>10.320000</td>\n",
       "      <td>0.000000</td>\n",
       "      <td>0.000000</td>\n",
       "      <td>10.280000</td>\n",
       "    </tr>\n",
       "    <tr>\n",
       "      <th>...</th>\n",
       "      <td>...</td>\n",
       "      <td>...</td>\n",
       "      <td>...</td>\n",
       "      <td>...</td>\n",
       "      <td>...</td>\n",
       "      <td>...</td>\n",
       "      <td>...</td>\n",
       "      <td>...</td>\n",
       "      <td>...</td>\n",
       "      <td>...</td>\n",
       "      <td>...</td>\n",
       "      <td>...</td>\n",
       "      <td>...</td>\n",
       "      <td>...</td>\n",
       "      <td>...</td>\n",
       "      <td>...</td>\n",
       "      <td>...</td>\n",
       "      <td>...</td>\n",
       "      <td>...</td>\n",
       "      <td>...</td>\n",
       "      <td>...</td>\n",
       "    </tr>\n",
       "    <tr>\n",
       "      <th>643685</th>\n",
       "      <td>1827860</td>\n",
       "      <td>2013</td>\n",
       "      <td>1</td>\n",
       "      <td>0</td>\n",
       "      <td>0</td>\n",
       "      <td>0</td>\n",
       "      <td>1</td>\n",
       "      <td>0</td>\n",
       "      <td>0</td>\n",
       "      <td>1</td>\n",
       "      <td>...</td>\n",
       "      <td>0.000000</td>\n",
       "      <td>0.000000</td>\n",
       "      <td>0.000000</td>\n",
       "      <td>0.000000</td>\n",
       "      <td>0.612903</td>\n",
       "      <td>0.000000</td>\n",
       "      <td>0.000000</td>\n",
       "      <td>0.000000</td>\n",
       "      <td>0.000000</td>\n",
       "      <td>0.000000</td>\n",
       "    </tr>\n",
       "    <tr>\n",
       "      <th>643686</th>\n",
       "      <td>1827860</td>\n",
       "      <td>2015</td>\n",
       "      <td>2</td>\n",
       "      <td>1</td>\n",
       "      <td>0</td>\n",
       "      <td>0</td>\n",
       "      <td>1</td>\n",
       "      <td>0</td>\n",
       "      <td>1</td>\n",
       "      <td>0</td>\n",
       "      <td>...</td>\n",
       "      <td>0.000000</td>\n",
       "      <td>0.000000</td>\n",
       "      <td>0.212121</td>\n",
       "      <td>0.212121</td>\n",
       "      <td>17.363636</td>\n",
       "      <td>0.000000</td>\n",
       "      <td>8.909091</td>\n",
       "      <td>0.000000</td>\n",
       "      <td>0.000000</td>\n",
       "      <td>7.121212</td>\n",
       "    </tr>\n",
       "    <tr>\n",
       "      <th>643687</th>\n",
       "      <td>1827860</td>\n",
       "      <td>2016</td>\n",
       "      <td>3</td>\n",
       "      <td>1</td>\n",
       "      <td>0</td>\n",
       "      <td>0</td>\n",
       "      <td>1</td>\n",
       "      <td>1</td>\n",
       "      <td>0</td>\n",
       "      <td>1</td>\n",
       "      <td>...</td>\n",
       "      <td>0.000000</td>\n",
       "      <td>0.000000</td>\n",
       "      <td>0.294118</td>\n",
       "      <td>0.205882</td>\n",
       "      <td>34.705882</td>\n",
       "      <td>0.000000</td>\n",
       "      <td>10.352941</td>\n",
       "      <td>1.705882</td>\n",
       "      <td>1.705882</td>\n",
       "      <td>23.911765</td>\n",
       "    </tr>\n",
       "    <tr>\n",
       "      <th>643688</th>\n",
       "      <td>1827869</td>\n",
       "      <td>2013</td>\n",
       "      <td>1</td>\n",
       "      <td>1</td>\n",
       "      <td>1</td>\n",
       "      <td>0</td>\n",
       "      <td>0</td>\n",
       "      <td>0</td>\n",
       "      <td>1</td>\n",
       "      <td>0</td>\n",
       "      <td>...</td>\n",
       "      <td>0.000000</td>\n",
       "      <td>0.000000</td>\n",
       "      <td>0.000000</td>\n",
       "      <td>0.000000</td>\n",
       "      <td>0.000000</td>\n",
       "      <td>0.525424</td>\n",
       "      <td>0.000000</td>\n",
       "      <td>0.000000</td>\n",
       "      <td>0.000000</td>\n",
       "      <td>0.000000</td>\n",
       "    </tr>\n",
       "    <tr>\n",
       "      <th>643689</th>\n",
       "      <td>1827869</td>\n",
       "      <td>2014</td>\n",
       "      <td>2</td>\n",
       "      <td>0</td>\n",
       "      <td>0</td>\n",
       "      <td>1</td>\n",
       "      <td>0</td>\n",
       "      <td>0</td>\n",
       "      <td>1</td>\n",
       "      <td>0</td>\n",
       "      <td>...</td>\n",
       "      <td>0.000000</td>\n",
       "      <td>0.666667</td>\n",
       "      <td>0.666667</td>\n",
       "      <td>0.000000</td>\n",
       "      <td>0.000000</td>\n",
       "      <td>8.950000</td>\n",
       "      <td>1.033333</td>\n",
       "      <td>0.083333</td>\n",
       "      <td>0.083333</td>\n",
       "      <td>8.133333</td>\n",
       "    </tr>\n",
       "  </tbody>\n",
       "</table>\n",
       "<p>643690 rows × 164 columns</p>\n",
       "</div>"
      ],
      "text/plain": [
       "         persnr  year  nrEntry  ltue  employed_before  receipt_leh_before  \\\n",
       "0             7  2015        1     0                1                   0   \n",
       "1            18  2010        1     1                0                   0   \n",
       "2            18  2011        2     0                1                   0   \n",
       "3            18  2012        3     0                1                   0   \n",
       "4            18  2012        4     0                1                   0   \n",
       "...         ...   ...      ...   ...              ...                 ...   \n",
       "643685  1827860  2013        1     0                0                   0   \n",
       "643686  1827860  2015        2     1                0                   0   \n",
       "643687  1827860  2016        3     1                0                   0   \n",
       "643688  1827869  2013        1     1                1                   0   \n",
       "643689  1827869  2014        2     0                0                   1   \n",
       "\n",
       "        receipt_lhg_before  se_before  ASU_notue_seeking_before  \\\n",
       "0                        0          0                         1   \n",
       "1                        0          0                         0   \n",
       "2                        1          0                         1   \n",
       "3                        1          0                         1   \n",
       "4                        1          0                         1   \n",
       "...                    ...        ...                       ...   \n",
       "643685                   1          0                         0   \n",
       "643686                   1          0                         1   \n",
       "643687                   1          1                         0   \n",
       "643688                   0          0                         1   \n",
       "643689                   0          0                         1   \n",
       "\n",
       "        ASU_other_before  ...  minijob_tot_dur_byage  ft_tot_dur_byage  \\\n",
       "0                      0  ...               0.000000          0.000000   \n",
       "1                      0  ...               0.000000          0.000000   \n",
       "2                      0  ...               2.714286          2.714286   \n",
       "3                      0  ...               4.200000          4.200000   \n",
       "4                      0  ...               5.460000          5.460000   \n",
       "...                  ...  ...                    ...               ...   \n",
       "643685                 1  ...               0.000000          0.000000   \n",
       "643686                 0  ...               0.000000          0.000000   \n",
       "643687                 1  ...               0.000000          0.000000   \n",
       "643688                 0  ...               0.000000          0.000000   \n",
       "643689                 0  ...               0.000000          0.666667   \n",
       "\n",
       "        befrist_tot_dur_byage  leih_tot_dur_byage  LHG_tot_dur_byage  \\\n",
       "0                   15.043478            0.000000           0.000000   \n",
       "1                    0.000000            0.000000           0.000000   \n",
       "2                    0.000000            0.000000          10.775510   \n",
       "3                    0.000000            0.000000          12.100000   \n",
       "4                    0.000000            0.000000          13.360000   \n",
       "...                       ...                 ...                ...   \n",
       "643685               0.000000            0.000000           0.612903   \n",
       "643686               0.212121            0.212121          17.363636   \n",
       "643687               0.294118            0.205882          34.705882   \n",
       "643688               0.000000            0.000000           0.000000   \n",
       "643689               0.666667            0.000000           0.000000   \n",
       "\n",
       "        LEH_tot_dur_byage  almp_tot_dur_byage  almp_aw_tot_dur_byage  \\\n",
       "0                0.000000            0.000000               0.000000   \n",
       "1                0.000000            0.000000               0.000000   \n",
       "2                0.000000            8.367347               0.000000   \n",
       "3                0.000000            9.400000               0.000000   \n",
       "4                0.000000           10.320000               0.000000   \n",
       "...                   ...                 ...                    ...   \n",
       "643685           0.000000            0.000000               0.000000   \n",
       "643686           0.000000            8.909091               0.000000   \n",
       "643687           0.000000           10.352941               1.705882   \n",
       "643688           0.525424            0.000000               0.000000   \n",
       "643689           8.950000            1.033333               0.083333   \n",
       "\n",
       "        se_tot_dur_byage  seeking1_tot_dur_byage  \n",
       "0               0.000000                0.000000  \n",
       "1               0.000000                0.000000  \n",
       "2               0.000000                9.836735  \n",
       "3               0.000000                9.960000  \n",
       "4               0.000000               10.280000  \n",
       "...                  ...                     ...  \n",
       "643685          0.000000                0.000000  \n",
       "643686          0.000000                7.121212  \n",
       "643687          1.705882               23.911765  \n",
       "643688          0.000000                0.000000  \n",
       "643689          0.083333                8.133333  \n",
       "\n",
       "[643690 rows x 164 columns]"
      ]
     },
     "execution_count": 10,
     "metadata": {},
     "output_type": "execute_result"
    }
   ],
   "source": [
    "siab"
   ]
  },
  {
   "cell_type": "markdown",
   "id": "1f87e805",
   "metadata": {
    "papermill": {
     "duration": 0.009854,
     "end_time": "2025-08-19T18:52:08.323890",
     "exception": false,
     "start_time": "2025-08-19T18:52:08.314036",
     "status": "completed"
    },
    "tags": []
   },
   "source": [
    "# Splitting Data and Setting Training Data Size"
   ]
  },
  {
   "cell_type": "code",
   "execution_count": 11,
   "id": "910ae358",
   "metadata": {
    "execution": {
     "iopub.execute_input": "2025-08-19T18:52:08.345316Z",
     "iopub.status.busy": "2025-08-19T18:52:08.344637Z",
     "iopub.status.idle": "2025-08-19T18:52:08.530813Z",
     "shell.execute_reply": "2025-08-19T18:52:08.529749Z"
    },
    "papermill": {
     "duration": 0.199474,
     "end_time": "2025-08-19T18:52:08.533280",
     "exception": false,
     "start_time": "2025-08-19T18:52:08.333806",
     "status": "completed"
    },
    "tags": []
   },
   "outputs": [],
   "source": [
    "from fairness_multiverse.universe import sample_by_year_size\n",
    "\n",
    "siab_train = sample_by_year_size(siab,\n",
    "                               training_year=universe[\"training_year\"],\n",
    "                               training_size=universe[\"training_size\"])"
   ]
  },
  {
   "cell_type": "code",
   "execution_count": 12,
   "id": "919c8ff5",
   "metadata": {
    "execution": {
     "iopub.execute_input": "2025-08-19T18:52:08.581411Z",
     "iopub.status.busy": "2025-08-19T18:52:08.580697Z",
     "iopub.status.idle": "2025-08-19T18:52:08.607047Z",
     "shell.execute_reply": "2025-08-19T18:52:08.604600Z"
    },
    "papermill": {
     "duration": 0.056134,
     "end_time": "2025-08-19T18:52:08.609626",
     "exception": false,
     "start_time": "2025-08-19T18:52:08.553492",
     "status": "completed"
    },
    "tags": []
   },
   "outputs": [
    {
     "data": {
      "text/plain": [
       "(1000, 164)"
      ]
     },
     "execution_count": 12,
     "metadata": {},
     "output_type": "execute_result"
    }
   ],
   "source": [
    "siab_train.shape"
   ]
  },
  {
   "cell_type": "code",
   "execution_count": 13,
   "id": "feb13bf4",
   "metadata": {
    "execution": {
     "iopub.execute_input": "2025-08-19T18:52:08.646294Z",
     "iopub.status.busy": "2025-08-19T18:52:08.645792Z",
     "iopub.status.idle": "2025-08-19T18:52:08.660276Z",
     "shell.execute_reply": "2025-08-19T18:52:08.659385Z"
    },
    "papermill": {
     "duration": 0.030186,
     "end_time": "2025-08-19T18:52:08.662788",
     "exception": false,
     "start_time": "2025-08-19T18:52:08.632602",
     "status": "completed"
    },
    "tags": []
   },
   "outputs": [
    {
     "data": {
      "text/plain": [
       "year\n",
       "2014    1000\n",
       "dtype: int64"
      ]
     },
     "metadata": {},
     "output_type": "display_data"
    }
   ],
   "source": [
    "display(siab_train.groupby(\"year\").size())"
   ]
  },
  {
   "cell_type": "code",
   "execution_count": 14,
   "id": "0997782f",
   "metadata": {
    "execution": {
     "iopub.execute_input": "2025-08-19T18:52:08.700049Z",
     "iopub.status.busy": "2025-08-19T18:52:08.698705Z",
     "iopub.status.idle": "2025-08-19T18:52:08.939236Z",
     "shell.execute_reply": "2025-08-19T18:52:08.938410Z"
    },
    "papermill": {
     "duration": 0.25677,
     "end_time": "2025-08-19T18:52:08.941977",
     "exception": false,
     "start_time": "2025-08-19T18:52:08.685207",
     "status": "completed"
    },
    "tags": []
   },
   "outputs": [],
   "source": [
    "#siab_train = siab_s[siab_s.year < 2015]\n",
    "siab_calib = siab[siab.year == 2015]\n",
    "siab_test = siab[siab.year == 2016]"
   ]
  },
  {
   "cell_type": "code",
   "execution_count": 15,
   "id": "2c1e4012",
   "metadata": {
    "execution": {
     "iopub.execute_input": "2025-08-19T18:52:08.980909Z",
     "iopub.status.busy": "2025-08-19T18:52:08.979101Z",
     "iopub.status.idle": "2025-08-19T18:52:08.987882Z",
     "shell.execute_reply": "2025-08-19T18:52:08.986169Z"
    },
    "papermill": {
     "duration": 0.023757,
     "end_time": "2025-08-19T18:52:08.989364",
     "exception": false,
     "start_time": "2025-08-19T18:52:08.965607",
     "status": "completed"
    },
    "tags": []
   },
   "outputs": [],
   "source": [
    "#siab_calib.shape"
   ]
  },
  {
   "cell_type": "code",
   "execution_count": 16,
   "id": "f66b54ca",
   "metadata": {
    "execution": {
     "iopub.execute_input": "2025-08-19T18:52:09.011404Z",
     "iopub.status.busy": "2025-08-19T18:52:09.010518Z",
     "iopub.status.idle": "2025-08-19T18:52:09.018155Z",
     "shell.execute_reply": "2025-08-19T18:52:09.016562Z"
    },
    "papermill": {
     "duration": 0.020201,
     "end_time": "2025-08-19T18:52:09.019651",
     "exception": false,
     "start_time": "2025-08-19T18:52:08.999450",
     "status": "completed"
    },
    "tags": []
   },
   "outputs": [],
   "source": [
    "#siab_test.shape"
   ]
  },
  {
   "cell_type": "code",
   "execution_count": 17,
   "id": "27e4384d",
   "metadata": {
    "execution": {
     "iopub.execute_input": "2025-08-19T18:52:09.043044Z",
     "iopub.status.busy": "2025-08-19T18:52:09.041877Z",
     "iopub.status.idle": "2025-08-19T18:52:09.056334Z",
     "shell.execute_reply": "2025-08-19T18:52:09.054993Z"
    },
    "papermill": {
     "duration": 0.027846,
     "end_time": "2025-08-19T18:52:09.057879",
     "exception": false,
     "start_time": "2025-08-19T18:52:09.030033",
     "status": "completed"
    },
    "tags": []
   },
   "outputs": [],
   "source": [
    "X_train = siab_train.iloc[:,4:164]\n",
    "y_train = siab_train.iloc[:, [3]]"
   ]
  },
  {
   "cell_type": "code",
   "execution_count": 18,
   "id": "08ee8389",
   "metadata": {
    "execution": {
     "iopub.execute_input": "2025-08-19T18:52:09.087087Z",
     "iopub.status.busy": "2025-08-19T18:52:09.085649Z",
     "iopub.status.idle": "2025-08-19T18:52:09.150432Z",
     "shell.execute_reply": "2025-08-19T18:52:09.149738Z"
    },
    "papermill": {
     "duration": 0.082193,
     "end_time": "2025-08-19T18:52:09.153151",
     "exception": false,
     "start_time": "2025-08-19T18:52:09.070958",
     "status": "completed"
    },
    "tags": []
   },
   "outputs": [],
   "source": [
    "X_calib = siab_calib.iloc[:,4:164]\n",
    "y_calib = siab_calib.iloc[:, [3]]"
   ]
  },
  {
   "cell_type": "code",
   "execution_count": 19,
   "id": "b7ff42e0",
   "metadata": {
    "execution": {
     "iopub.execute_input": "2025-08-19T18:52:09.215912Z",
     "iopub.status.busy": "2025-08-19T18:52:09.215412Z",
     "iopub.status.idle": "2025-08-19T18:52:09.332768Z",
     "shell.execute_reply": "2025-08-19T18:52:09.332049Z"
    },
    "papermill": {
     "duration": 0.139742,
     "end_time": "2025-08-19T18:52:09.334034",
     "exception": false,
     "start_time": "2025-08-19T18:52:09.194292",
     "status": "completed"
    },
    "tags": []
   },
   "outputs": [],
   "source": [
    "X_test = siab_test.iloc[:,4:164]\n",
    "y_true = siab_test.iloc[:, [3]]"
   ]
  },
  {
   "cell_type": "code",
   "execution_count": 20,
   "id": "0275101e",
   "metadata": {
    "execution": {
     "iopub.execute_input": "2025-08-19T18:52:09.365565Z",
     "iopub.status.busy": "2025-08-19T18:52:09.364522Z",
     "iopub.status.idle": "2025-08-19T18:52:09.479339Z",
     "shell.execute_reply": "2025-08-19T18:52:09.478227Z"
    },
    "papermill": {
     "duration": 0.138507,
     "end_time": "2025-08-19T18:52:09.483623",
     "exception": false,
     "start_time": "2025-08-19T18:52:09.345116",
     "status": "completed"
    },
    "tags": []
   },
   "outputs": [],
   "source": [
    "# Auxiliary data needed downstream in the pipeline\n",
    "\n",
    "org_train = X_train.copy()\n",
    "org_test = X_test.copy()\n",
    "org_calib = X_calib.copy()"
   ]
  },
  {
   "cell_type": "markdown",
   "id": "b461e618",
   "metadata": {
    "papermill": {
     "duration": 0.010278,
     "end_time": "2025-08-19T18:52:09.521764",
     "exception": false,
     "start_time": "2025-08-19T18:52:09.511486",
     "status": "completed"
    },
    "tags": []
   },
   "source": [
    "# Preprocessing Data"
   ]
  },
  {
   "cell_type": "code",
   "execution_count": 21,
   "id": "78e74c4b",
   "metadata": {
    "execution": {
     "iopub.execute_input": "2025-08-19T18:52:09.546132Z",
     "iopub.status.busy": "2025-08-19T18:52:09.545424Z",
     "iopub.status.idle": "2025-08-19T18:52:09.566255Z",
     "shell.execute_reply": "2025-08-19T18:52:09.555263Z"
    },
    "papermill": {
     "duration": 0.037094,
     "end_time": "2025-08-19T18:52:09.570380",
     "exception": false,
     "start_time": "2025-08-19T18:52:09.533286",
     "status": "completed"
    },
    "tags": []
   },
   "outputs": [],
   "source": [
    "# EXCLUDE PROTECTED FEATURES\n",
    "# --------------------------\n",
    "\n",
    "excluded_features = universe[\"exclude_features\"].split(\"-\")\n",
    "excluded_features_dictionary = {\n",
    "    \"nationality\": [\"maxdeutsch1\", \"maxdeutsch.Missing.\"],\n",
    "    \"sex\": [\"frau1\"],\n",
    "    \"age\": [\"age\"],\n",
    "}"
   ]
  },
  {
   "cell_type": "code",
   "execution_count": 22,
   "id": "f8e63555",
   "metadata": {
    "execution": {
     "iopub.execute_input": "2025-08-19T18:52:09.611697Z",
     "iopub.status.busy": "2025-08-19T18:52:09.610489Z",
     "iopub.status.idle": "2025-08-19T18:52:09.620303Z",
     "shell.execute_reply": "2025-08-19T18:52:09.618538Z"
    },
    "papermill": {
     "duration": 0.029713,
     "end_time": "2025-08-19T18:52:09.622265",
     "exception": false,
     "start_time": "2025-08-19T18:52:09.592552",
     "status": "completed"
    },
    "tags": []
   },
   "outputs": [],
   "source": [
    "excluded_features_columns = [\n",
    "    excluded_features_dictionary[f] for f in excluded_features if len(f) > 0 and f != \"none\"\n",
    "]"
   ]
  },
  {
   "cell_type": "code",
   "execution_count": 23,
   "id": "da781f7c",
   "metadata": {
    "execution": {
     "iopub.execute_input": "2025-08-19T18:52:09.651084Z",
     "iopub.status.busy": "2025-08-19T18:52:09.649802Z",
     "iopub.status.idle": "2025-08-19T18:52:09.658956Z",
     "shell.execute_reply": "2025-08-19T18:52:09.657222Z"
    },
    "papermill": {
     "duration": 0.024007,
     "end_time": "2025-08-19T18:52:09.660789",
     "exception": false,
     "start_time": "2025-08-19T18:52:09.636782",
     "status": "completed"
    },
    "tags": []
   },
   "outputs": [],
   "source": [
    "from fairness_multiverse.universe import flatten_once\n",
    "\n",
    "excluded_features_columns = flatten_once(excluded_features_columns)"
   ]
  },
  {
   "cell_type": "code",
   "execution_count": 24,
   "id": "37fef0f0",
   "metadata": {
    "execution": {
     "iopub.execute_input": "2025-08-19T18:52:09.689831Z",
     "iopub.status.busy": "2025-08-19T18:52:09.688569Z",
     "iopub.status.idle": "2025-08-19T18:52:09.698593Z",
     "shell.execute_reply": "2025-08-19T18:52:09.696789Z"
    },
    "papermill": {
     "duration": 0.025691,
     "end_time": "2025-08-19T18:52:09.700333",
     "exception": false,
     "start_time": "2025-08-19T18:52:09.674642",
     "status": "completed"
    },
    "tags": []
   },
   "outputs": [],
   "source": [
    "if len(excluded_features_columns) > 0:\n",
    "    print(f\"Dropping features: {excluded_features_columns}\")\n",
    "    X_train.drop(excluded_features_columns, axis=1, inplace=True)"
   ]
  },
  {
   "cell_type": "code",
   "execution_count": 25,
   "id": "d029e3e9",
   "metadata": {
    "execution": {
     "iopub.execute_input": "2025-08-19T18:52:09.734519Z",
     "iopub.status.busy": "2025-08-19T18:52:09.726001Z",
     "iopub.status.idle": "2025-08-19T18:52:09.747926Z",
     "shell.execute_reply": "2025-08-19T18:52:09.742842Z"
    },
    "papermill": {
     "duration": 0.043031,
     "end_time": "2025-08-19T18:52:09.757157",
     "exception": false,
     "start_time": "2025-08-19T18:52:09.714126",
     "status": "completed"
    },
    "tags": []
   },
   "outputs": [],
   "source": [
    "if len(excluded_features_columns) > 0:\n",
    "    print(f\"Dropping features: {excluded_features_columns}\")\n",
    "    X_test.drop(excluded_features_columns, axis=1, inplace=True)"
   ]
  },
  {
   "cell_type": "code",
   "execution_count": 26,
   "id": "01d571f0",
   "metadata": {
    "execution": {
     "iopub.execute_input": "2025-08-19T18:52:09.782283Z",
     "iopub.status.busy": "2025-08-19T18:52:09.781895Z",
     "iopub.status.idle": "2025-08-19T18:52:09.790296Z",
     "shell.execute_reply": "2025-08-19T18:52:09.789167Z"
    },
    "papermill": {
     "duration": 0.022725,
     "end_time": "2025-08-19T18:52:09.792984",
     "exception": false,
     "start_time": "2025-08-19T18:52:09.770259",
     "status": "completed"
    },
    "tags": []
   },
   "outputs": [],
   "source": [
    "if len(excluded_features_columns) > 0:\n",
    "    print(f\"Dropping features: {excluded_features_columns}\")\n",
    "    X_calib.drop(excluded_features_columns, axis=1, inplace=True)"
   ]
  },
  {
   "cell_type": "code",
   "execution_count": 27,
   "id": "3037356e",
   "metadata": {
    "execution": {
     "iopub.execute_input": "2025-08-19T18:52:09.832358Z",
     "iopub.status.busy": "2025-08-19T18:52:09.831867Z",
     "iopub.status.idle": "2025-08-19T18:52:09.837258Z",
     "shell.execute_reply": "2025-08-19T18:52:09.836206Z"
    },
    "papermill": {
     "duration": 0.02135,
     "end_time": "2025-08-19T18:52:09.838487",
     "exception": false,
     "start_time": "2025-08-19T18:52:09.817137",
     "status": "completed"
    },
    "tags": []
   },
   "outputs": [],
   "source": [
    "# EXCLUDE CERTAIN SUBGROUPS\n",
    "# -------------------------\n",
    "\n",
    "mode = universe.get(\"exclude_subgroups\", \"keep-all\") # Defaults to \"keep-all\" if the key is missing."
   ]
  },
  {
   "cell_type": "code",
   "execution_count": 28,
   "id": "9d1e63fd",
   "metadata": {
    "execution": {
     "iopub.execute_input": "2025-08-19T18:52:09.861893Z",
     "iopub.status.busy": "2025-08-19T18:52:09.861631Z",
     "iopub.status.idle": "2025-08-19T18:52:09.868831Z",
     "shell.execute_reply": "2025-08-19T18:52:09.868002Z"
    },
    "papermill": {
     "duration": 0.020419,
     "end_time": "2025-08-19T18:52:09.870144",
     "exception": false,
     "start_time": "2025-08-19T18:52:09.849725",
     "status": "completed"
    },
    "tags": []
   },
   "outputs": [],
   "source": [
    "if mode == \"keep-all\":\n",
    "    keep_mask = pd.Series(True, index=org_train.index)\n",
    "\n",
    "elif mode == \"drop-non-german\":\n",
    "    keep_mask = (org_train[\"maxdeutsch1\"] == 1) & (org_train[\"maxdeutsch.Missing.\"] == 0)\n",
    "\n",
    "else:\n",
    "    raise ValueError(f\"Unsupported mode for exclude_subgroups: {mode}\")"
   ]
  },
  {
   "cell_type": "code",
   "execution_count": 29,
   "id": "d3b65474",
   "metadata": {
    "execution": {
     "iopub.execute_input": "2025-08-19T18:52:09.896068Z",
     "iopub.status.busy": "2025-08-19T18:52:09.895702Z",
     "iopub.status.idle": "2025-08-19T18:52:09.902998Z",
     "shell.execute_reply": "2025-08-19T18:52:09.901807Z"
    },
    "papermill": {
     "duration": 0.023038,
     "end_time": "2025-08-19T18:52:09.904909",
     "exception": false,
     "start_time": "2025-08-19T18:52:09.881871",
     "status": "completed"
    },
    "tags": []
   },
   "outputs": [
    {
     "name": "stdout",
     "output_type": "stream",
     "text": [
      "Dropping 147 rows (14.70%) where mode='drop-non-german'\n"
     ]
    }
   ],
   "source": [
    "n_drop = (~keep_mask).sum() # Calculates how many rows are set to be dropped\n",
    "if n_drop > 0:\n",
    "    pct = n_drop / len(keep_mask) * 100\n",
    "    print(f\"Dropping {n_drop} rows ({pct:.2f}%) where mode='{mode}'\")"
   ]
  },
  {
   "cell_type": "code",
   "execution_count": 30,
   "id": "f44389b3",
   "metadata": {
    "execution": {
     "iopub.execute_input": "2025-08-19T18:52:09.930156Z",
     "iopub.status.busy": "2025-08-19T18:52:09.929273Z",
     "iopub.status.idle": "2025-08-19T18:52:10.025977Z",
     "shell.execute_reply": "2025-08-19T18:52:10.024718Z"
    },
    "papermill": {
     "duration": 0.110079,
     "end_time": "2025-08-19T18:52:10.027932",
     "exception": false,
     "start_time": "2025-08-19T18:52:09.917853",
     "status": "completed"
    },
    "tags": []
   },
   "outputs": [],
   "source": [
    "X_train = X_train[keep_mask]"
   ]
  },
  {
   "cell_type": "code",
   "execution_count": 31,
   "id": "ceca8c2a",
   "metadata": {
    "execution": {
     "iopub.execute_input": "2025-08-19T18:52:10.081594Z",
     "iopub.status.busy": "2025-08-19T18:52:10.078397Z",
     "iopub.status.idle": "2025-08-19T18:52:10.088058Z",
     "shell.execute_reply": "2025-08-19T18:52:10.086465Z"
    },
    "papermill": {
     "duration": 0.04443,
     "end_time": "2025-08-19T18:52:10.089965",
     "exception": false,
     "start_time": "2025-08-19T18:52:10.045535",
     "status": "completed"
    },
    "tags": []
   },
   "outputs": [],
   "source": [
    "y_train = y_train[keep_mask]"
   ]
  },
  {
   "cell_type": "markdown",
   "id": "04d31e2f",
   "metadata": {
    "papermill": {
     "duration": 0.010597,
     "end_time": "2025-08-19T18:52:10.111697",
     "exception": false,
     "start_time": "2025-08-19T18:52:10.101100",
     "status": "completed"
    },
    "tags": []
   },
   "source": [
    "# Model Training"
   ]
  },
  {
   "cell_type": "code",
   "execution_count": 32,
   "id": "db991733",
   "metadata": {
    "execution": {
     "iopub.execute_input": "2025-08-19T18:52:10.135648Z",
     "iopub.status.busy": "2025-08-19T18:52:10.134397Z",
     "iopub.status.idle": "2025-08-19T18:52:10.285940Z",
     "shell.execute_reply": "2025-08-19T18:52:10.283782Z"
    },
    "papermill": {
     "duration": 0.168269,
     "end_time": "2025-08-19T18:52:10.290389",
     "exception": false,
     "start_time": "2025-08-19T18:52:10.122120",
     "status": "completed"
    },
    "tags": []
   },
   "outputs": [],
   "source": [
    "from sklearn.linear_model import LogisticRegression\n",
    "from sklearn.ensemble import GradientBoostingClassifier, RandomForestClassifier\n",
    "\n",
    "if (universe[\"model\"] == \"logreg\"):\n",
    "    model = LogisticRegression() #penalty=\"none\", solver=\"newton-cg\", max_iter=1)\n",
    "elif (universe[\"model\"] == \"penalized_logreg\"):\n",
    "    model = LogisticRegression(penalty=\"l2\", C=0.1) #, solver=\"newton-cg\", max_iter=1)\n",
    "elif (universe[\"model\"] == \"rf\"):\n",
    "    model = RandomForestClassifier() # n_estimators=100, n_jobs=-1\n",
    "elif (universe[\"model\"] == \"gbm\"):\n",
    "    model = GradientBoostingClassifier()\n",
    "elif (universe[\"model\"] == \"elasticnet\"):\n",
    "    model = LogisticRegression(penalty = 'elasticnet', solver = 'saga', l1_ratio = 0.5) # max_iter=5000\n",
    "else:\n",
    "    raise \"Unsupported universe.model\""
   ]
  },
  {
   "cell_type": "code",
   "execution_count": 33,
   "id": "a4b5cd25",
   "metadata": {
    "execution": {
     "iopub.execute_input": "2025-08-19T18:52:10.326478Z",
     "iopub.status.busy": "2025-08-19T18:52:10.326156Z",
     "iopub.status.idle": "2025-08-19T18:52:10.334424Z",
     "shell.execute_reply": "2025-08-19T18:52:10.332392Z"
    },
    "papermill": {
     "duration": 0.025784,
     "end_time": "2025-08-19T18:52:10.338561",
     "exception": false,
     "start_time": "2025-08-19T18:52:10.312777",
     "status": "completed"
    },
    "tags": []
   },
   "outputs": [],
   "source": [
    "from sklearn.pipeline import Pipeline\n",
    "from sklearn.preprocessing import StandardScaler\n",
    "\n",
    "model = Pipeline([\n",
    "    #(\"continuous_processor\", continuous_processor),\n",
    "    #(\"categorical_preprocessor\", categorical_preprocessor),\n",
    "    (\"scale\", StandardScaler() if universe[\"scale\"] == \"scale\" else None), \n",
    "    (\"model\", model),\n",
    "])"
   ]
  },
  {
   "cell_type": "code",
   "execution_count": 34,
   "id": "283a904d",
   "metadata": {
    "execution": {
     "iopub.execute_input": "2025-08-19T18:52:10.373298Z",
     "iopub.status.busy": "2025-08-19T18:52:10.372990Z",
     "iopub.status.idle": "2025-08-19T18:52:10.586726Z",
     "shell.execute_reply": "2025-08-19T18:52:10.585859Z"
    },
    "papermill": {
     "duration": 0.227941,
     "end_time": "2025-08-19T18:52:10.588030",
     "exception": false,
     "start_time": "2025-08-19T18:52:10.360089",
     "status": "completed"
    },
    "tags": []
   },
   "outputs": [
    {
     "name": "stderr",
     "output_type": "stream",
     "text": [
      "/dss/dsshome1/0C/ra93lal2/.local/share/virtualenvs/CMA_Fairness_v2-3j10GkSs/lib/python3.10/site-packages/sklearn/linear_model/_sag.py:350: ConvergenceWarning: The max_iter was reached which means the coef_ did not converge\n",
      "  warnings.warn(\n"
     ]
    },
    {
     "data": {
      "text/html": [
       "<style>#sk-container-id-1 {color: black;background-color: white;}#sk-container-id-1 pre{padding: 0;}#sk-container-id-1 div.sk-toggleable {background-color: white;}#sk-container-id-1 label.sk-toggleable__label {cursor: pointer;display: block;width: 100%;margin-bottom: 0;padding: 0.3em;box-sizing: border-box;text-align: center;}#sk-container-id-1 label.sk-toggleable__label-arrow:before {content: \"▸\";float: left;margin-right: 0.25em;color: #696969;}#sk-container-id-1 label.sk-toggleable__label-arrow:hover:before {color: black;}#sk-container-id-1 div.sk-estimator:hover label.sk-toggleable__label-arrow:before {color: black;}#sk-container-id-1 div.sk-toggleable__content {max-height: 0;max-width: 0;overflow: hidden;text-align: left;background-color: #f0f8ff;}#sk-container-id-1 div.sk-toggleable__content pre {margin: 0.2em;color: black;border-radius: 0.25em;background-color: #f0f8ff;}#sk-container-id-1 input.sk-toggleable__control:checked~div.sk-toggleable__content {max-height: 200px;max-width: 100%;overflow: auto;}#sk-container-id-1 input.sk-toggleable__control:checked~label.sk-toggleable__label-arrow:before {content: \"▾\";}#sk-container-id-1 div.sk-estimator input.sk-toggleable__control:checked~label.sk-toggleable__label {background-color: #d4ebff;}#sk-container-id-1 div.sk-label input.sk-toggleable__control:checked~label.sk-toggleable__label {background-color: #d4ebff;}#sk-container-id-1 input.sk-hidden--visually {border: 0;clip: rect(1px 1px 1px 1px);clip: rect(1px, 1px, 1px, 1px);height: 1px;margin: -1px;overflow: hidden;padding: 0;position: absolute;width: 1px;}#sk-container-id-1 div.sk-estimator {font-family: monospace;background-color: #f0f8ff;border: 1px dotted black;border-radius: 0.25em;box-sizing: border-box;margin-bottom: 0.5em;}#sk-container-id-1 div.sk-estimator:hover {background-color: #d4ebff;}#sk-container-id-1 div.sk-parallel-item::after {content: \"\";width: 100%;border-bottom: 1px solid gray;flex-grow: 1;}#sk-container-id-1 div.sk-label:hover label.sk-toggleable__label {background-color: #d4ebff;}#sk-container-id-1 div.sk-serial::before {content: \"\";position: absolute;border-left: 1px solid gray;box-sizing: border-box;top: 0;bottom: 0;left: 50%;z-index: 0;}#sk-container-id-1 div.sk-serial {display: flex;flex-direction: column;align-items: center;background-color: white;padding-right: 0.2em;padding-left: 0.2em;position: relative;}#sk-container-id-1 div.sk-item {position: relative;z-index: 1;}#sk-container-id-1 div.sk-parallel {display: flex;align-items: stretch;justify-content: center;background-color: white;position: relative;}#sk-container-id-1 div.sk-item::before, #sk-container-id-1 div.sk-parallel-item::before {content: \"\";position: absolute;border-left: 1px solid gray;box-sizing: border-box;top: 0;bottom: 0;left: 50%;z-index: -1;}#sk-container-id-1 div.sk-parallel-item {display: flex;flex-direction: column;z-index: 1;position: relative;background-color: white;}#sk-container-id-1 div.sk-parallel-item:first-child::after {align-self: flex-end;width: 50%;}#sk-container-id-1 div.sk-parallel-item:last-child::after {align-self: flex-start;width: 50%;}#sk-container-id-1 div.sk-parallel-item:only-child::after {width: 0;}#sk-container-id-1 div.sk-dashed-wrapped {border: 1px dashed gray;margin: 0 0.4em 0.5em 0.4em;box-sizing: border-box;padding-bottom: 0.4em;background-color: white;}#sk-container-id-1 div.sk-label label {font-family: monospace;font-weight: bold;display: inline-block;line-height: 1.2em;}#sk-container-id-1 div.sk-label-container {text-align: center;}#sk-container-id-1 div.sk-container {/* jupyter's `normalize.less` sets `[hidden] { display: none; }` but bootstrap.min.css set `[hidden] { display: none !important; }` so we also need the `!important` here to be able to override the default hidden behavior on the sphinx rendered scikit-learn.org. See: https://github.com/scikit-learn/scikit-learn/issues/21755 */display: inline-block !important;position: relative;}#sk-container-id-1 div.sk-text-repr-fallback {display: none;}</style><div id=\"sk-container-id-1\" class=\"sk-top-container\"><div class=\"sk-text-repr-fallback\"><pre>Pipeline(steps=[(&#x27;scale&#x27;, StandardScaler()),\n",
       "                (&#x27;model&#x27;,\n",
       "                 LogisticRegression(l1_ratio=0.5, penalty=&#x27;elasticnet&#x27;,\n",
       "                                    solver=&#x27;saga&#x27;))])</pre><b>In a Jupyter environment, please rerun this cell to show the HTML representation or trust the notebook. <br />On GitHub, the HTML representation is unable to render, please try loading this page with nbviewer.org.</b></div><div class=\"sk-container\" hidden><div class=\"sk-item sk-dashed-wrapped\"><div class=\"sk-label-container\"><div class=\"sk-label sk-toggleable\"><input class=\"sk-toggleable__control sk-hidden--visually\" id=\"sk-estimator-id-1\" type=\"checkbox\" ><label for=\"sk-estimator-id-1\" class=\"sk-toggleable__label sk-toggleable__label-arrow\">Pipeline</label><div class=\"sk-toggleable__content\"><pre>Pipeline(steps=[(&#x27;scale&#x27;, StandardScaler()),\n",
       "                (&#x27;model&#x27;,\n",
       "                 LogisticRegression(l1_ratio=0.5, penalty=&#x27;elasticnet&#x27;,\n",
       "                                    solver=&#x27;saga&#x27;))])</pre></div></div></div><div class=\"sk-serial\"><div class=\"sk-item\"><div class=\"sk-estimator sk-toggleable\"><input class=\"sk-toggleable__control sk-hidden--visually\" id=\"sk-estimator-id-2\" type=\"checkbox\" ><label for=\"sk-estimator-id-2\" class=\"sk-toggleable__label sk-toggleable__label-arrow\">StandardScaler</label><div class=\"sk-toggleable__content\"><pre>StandardScaler()</pre></div></div></div><div class=\"sk-item\"><div class=\"sk-estimator sk-toggleable\"><input class=\"sk-toggleable__control sk-hidden--visually\" id=\"sk-estimator-id-3\" type=\"checkbox\" ><label for=\"sk-estimator-id-3\" class=\"sk-toggleable__label sk-toggleable__label-arrow\">LogisticRegression</label><div class=\"sk-toggleable__content\"><pre>LogisticRegression(l1_ratio=0.5, penalty=&#x27;elasticnet&#x27;, solver=&#x27;saga&#x27;)</pre></div></div></div></div></div></div></div>"
      ],
      "text/plain": [
       "Pipeline(steps=[('scale', StandardScaler()),\n",
       "                ('model',\n",
       "                 LogisticRegression(l1_ratio=0.5, penalty='elasticnet',\n",
       "                                    solver='saga'))])"
      ]
     },
     "execution_count": 34,
     "metadata": {},
     "output_type": "execute_result"
    }
   ],
   "source": [
    "model.fit(X_train, y_train.values.ravel())"
   ]
  },
  {
   "cell_type": "code",
   "execution_count": 35,
   "id": "6e15e313",
   "metadata": {
    "execution": {
     "iopub.execute_input": "2025-08-19T18:52:10.614937Z",
     "iopub.status.busy": "2025-08-19T18:52:10.612945Z",
     "iopub.status.idle": "2025-08-19T18:52:10.831665Z",
     "shell.execute_reply": "2025-08-19T18:52:10.830698Z"
    },
    "papermill": {
     "duration": 0.233528,
     "end_time": "2025-08-19T18:52:10.833051",
     "exception": false,
     "start_time": "2025-08-19T18:52:10.599523",
     "status": "completed"
    },
    "tags": []
   },
   "outputs": [
    {
     "data": {
      "text/plain": [
       "0.8156281351019953"
      ]
     },
     "execution_count": 35,
     "metadata": {},
     "output_type": "execute_result"
    }
   ],
   "source": [
    "from fairness_multiverse.universe import predict_w_threshold\n",
    "\n",
    "probs_test = model.predict_proba(X_test)\n",
    "\n",
    "'''\n",
    "Below code returns a boolean array (or binary 0/1 array depending on how it’s used) where each element \n",
    "is True if the probability of class 1 is greater than or equal to the threshold, and False otherwise.\n",
    "'''\n",
    "y_pred_default = predict_w_threshold(probs_test, 0.5)\n",
    "\n",
    "from sklearn.metrics import accuracy_score\n",
    "\n",
    "# Naive prediction\n",
    "accuracy_score(y_true = y_true, y_pred = y_pred_default)"
   ]
  },
  {
   "cell_type": "code",
   "execution_count": 36,
   "id": "6f14067c",
   "metadata": {
    "execution": {
     "iopub.execute_input": "2025-08-19T18:52:10.857174Z",
     "iopub.status.busy": "2025-08-19T18:52:10.856885Z",
     "iopub.status.idle": "2025-08-19T18:52:11.037551Z",
     "shell.execute_reply": "2025-08-19T18:52:11.036362Z"
    },
    "papermill": {
     "duration": 0.196036,
     "end_time": "2025-08-19T18:52:11.040836",
     "exception": false,
     "start_time": "2025-08-19T18:52:10.844800",
     "status": "completed"
    },
    "tags": []
   },
   "outputs": [
    {
     "data": {
      "text/plain": [
       "array([0, 0, 0, ..., 0, 0, 0])"
      ]
     },
     "execution_count": 36,
     "metadata": {},
     "output_type": "execute_result"
    }
   ],
   "source": [
    "model.predict(X_test)"
   ]
  },
  {
   "cell_type": "markdown",
   "id": "3759920c",
   "metadata": {
    "papermill": {
     "duration": 0.011944,
     "end_time": "2025-08-19T18:52:11.076009",
     "exception": false,
     "start_time": "2025-08-19T18:52:11.064065",
     "status": "completed"
    },
    "tags": []
   },
   "source": [
    "# Conformal Prediction"
   ]
  },
  {
   "cell_type": "code",
   "execution_count": 37,
   "id": "14b27f59",
   "metadata": {
    "execution": {
     "iopub.execute_input": "2025-08-19T18:52:11.100711Z",
     "iopub.status.busy": "2025-08-19T18:52:11.099725Z",
     "iopub.status.idle": "2025-08-19T18:52:11.106428Z",
     "shell.execute_reply": "2025-08-19T18:52:11.105255Z"
    },
    "papermill": {
     "duration": 0.020829,
     "end_time": "2025-08-19T18:52:11.107956",
     "exception": false,
     "start_time": "2025-08-19T18:52:11.087127",
     "status": "completed"
    },
    "tags": []
   },
   "outputs": [],
   "source": [
    "# Miscoverage level for conformal prediction (10% allowed error rate => 90% target coverage)\n",
    "alpha = 0.1"
   ]
  },
  {
   "cell_type": "code",
   "execution_count": 38,
   "id": "59102472",
   "metadata": {
    "execution": {
     "iopub.execute_input": "2025-08-19T18:52:11.134304Z",
     "iopub.status.busy": "2025-08-19T18:52:11.132668Z",
     "iopub.status.idle": "2025-08-19T18:52:11.321949Z",
     "shell.execute_reply": "2025-08-19T18:52:11.320603Z"
    },
    "papermill": {
     "duration": 0.20389,
     "end_time": "2025-08-19T18:52:11.323663",
     "exception": false,
     "start_time": "2025-08-19T18:52:11.119773",
     "status": "completed"
    },
    "tags": []
   },
   "outputs": [],
   "source": [
    "probs_calib = model.predict_proba(X_calib)"
   ]
  },
  {
   "cell_type": "code",
   "execution_count": 39,
   "id": "a792d4dd",
   "metadata": {
    "execution": {
     "iopub.execute_input": "2025-08-19T18:52:11.349683Z",
     "iopub.status.busy": "2025-08-19T18:52:11.348827Z",
     "iopub.status.idle": "2025-08-19T18:52:11.357451Z",
     "shell.execute_reply": "2025-08-19T18:52:11.356289Z"
    },
    "papermill": {
     "duration": 0.02362,
     "end_time": "2025-08-19T18:52:11.359148",
     "exception": false,
     "start_time": "2025-08-19T18:52:11.335528",
     "status": "completed"
    },
    "tags": []
   },
   "outputs": [],
   "source": [
    "y_calib = y_calib.values.ravel().astype(int)"
   ]
  },
  {
   "cell_type": "code",
   "execution_count": 40,
   "id": "650fd033",
   "metadata": {
    "execution": {
     "iopub.execute_input": "2025-08-19T18:52:11.388149Z",
     "iopub.status.busy": "2025-08-19T18:52:11.386690Z",
     "iopub.status.idle": "2025-08-19T18:52:11.399323Z",
     "shell.execute_reply": "2025-08-19T18:52:11.398082Z"
    },
    "papermill": {
     "duration": 0.02803,
     "end_time": "2025-08-19T18:52:11.400973",
     "exception": false,
     "start_time": "2025-08-19T18:52:11.372943",
     "status": "completed"
    },
    "tags": []
   },
   "outputs": [],
   "source": [
    "from fairness_multiverse.conformal import compute_nc_scores\n",
    "\n",
    "# Compute nonconformity scores on calibration set (1 - probability of true class)\n",
    "nc_scores = compute_nc_scores(probs_calib, y_calib)"
   ]
  },
  {
   "cell_type": "code",
   "execution_count": 41,
   "id": "28ada44c",
   "metadata": {
    "execution": {
     "iopub.execute_input": "2025-08-19T18:52:11.428019Z",
     "iopub.status.busy": "2025-08-19T18:52:11.427034Z",
     "iopub.status.idle": "2025-08-19T18:52:11.438919Z",
     "shell.execute_reply": "2025-08-19T18:52:11.437302Z"
    },
    "papermill": {
     "duration": 0.026212,
     "end_time": "2025-08-19T18:52:11.440502",
     "exception": false,
     "start_time": "2025-08-19T18:52:11.414290",
     "status": "completed"
    },
    "tags": []
   },
   "outputs": [],
   "source": [
    "from fairness_multiverse.conformal import find_threshold\n",
    "\n",
    "# Find conformal threshold q_hat for the given alpha (split conformal method)\n",
    "q_hat = find_threshold(nc_scores, alpha)"
   ]
  },
  {
   "cell_type": "code",
   "execution_count": 42,
   "id": "df56469e",
   "metadata": {
    "execution": {
     "iopub.execute_input": "2025-08-19T18:52:11.468344Z",
     "iopub.status.busy": "2025-08-19T18:52:11.467375Z",
     "iopub.status.idle": "2025-08-19T18:52:11.479394Z",
     "shell.execute_reply": "2025-08-19T18:52:11.477808Z"
    },
    "papermill": {
     "duration": 0.026544,
     "end_time": "2025-08-19T18:52:11.481041",
     "exception": false,
     "start_time": "2025-08-19T18:52:11.454497",
     "status": "completed"
    },
    "tags": []
   },
   "outputs": [
    {
     "data": {
      "text/plain": [
       "0.8097912404712461"
      ]
     },
     "execution_count": 42,
     "metadata": {},
     "output_type": "execute_result"
    }
   ],
   "source": [
    "q_hat"
   ]
  },
  {
   "cell_type": "code",
   "execution_count": 43,
   "id": "aa1f5faa",
   "metadata": {
    "execution": {
     "iopub.execute_input": "2025-08-19T18:52:11.509185Z",
     "iopub.status.busy": "2025-08-19T18:52:11.508201Z",
     "iopub.status.idle": "2025-08-19T18:52:12.203326Z",
     "shell.execute_reply": "2025-08-19T18:52:12.202116Z"
    },
    "papermill": {
     "duration": 0.710779,
     "end_time": "2025-08-19T18:52:12.206042",
     "exception": false,
     "start_time": "2025-08-19T18:52:11.495263",
     "status": "completed"
    },
    "tags": []
   },
   "outputs": [],
   "source": [
    "from fairness_multiverse.conformal import predict_conformal_sets\n",
    "\n",
    "# Generate prediction sets for each test example\n",
    "pred_sets = predict_conformal_sets(model, X_test, q_hat)"
   ]
  },
  {
   "cell_type": "code",
   "execution_count": 44,
   "id": "97f67a6b",
   "metadata": {
    "execution": {
     "iopub.execute_input": "2025-08-19T18:52:12.254168Z",
     "iopub.status.busy": "2025-08-19T18:52:12.253148Z",
     "iopub.status.idle": "2025-08-19T18:52:12.262871Z",
     "shell.execute_reply": "2025-08-19T18:52:12.261729Z"
    },
    "papermill": {
     "duration": 0.025194,
     "end_time": "2025-08-19T18:52:12.264144",
     "exception": false,
     "start_time": "2025-08-19T18:52:12.238950",
     "status": "completed"
    },
    "tags": []
   },
   "outputs": [],
   "source": [
    "y_true = y_true.squeeze()"
   ]
  },
  {
   "cell_type": "code",
   "execution_count": 45,
   "id": "e700e9a7",
   "metadata": {
    "execution": {
     "iopub.execute_input": "2025-08-19T18:52:12.310880Z",
     "iopub.status.busy": "2025-08-19T18:52:12.310383Z",
     "iopub.status.idle": "2025-08-19T18:52:12.815608Z",
     "shell.execute_reply": "2025-08-19T18:52:12.814481Z"
    },
    "papermill": {
     "duration": 0.535683,
     "end_time": "2025-08-19T18:52:12.817110",
     "exception": false,
     "start_time": "2025-08-19T18:52:12.281427",
     "status": "completed"
    },
    "tags": []
   },
   "outputs": [],
   "source": [
    "from fairness_multiverse.conformal import evaluate_sets\n",
    "\n",
    "# Evaluate coverage and average set size on test data\n",
    "metrics = evaluate_sets(pred_sets, y_true)"
   ]
  },
  {
   "cell_type": "markdown",
   "id": "efbacec0",
   "metadata": {
    "papermill": {
     "duration": 0.011573,
     "end_time": "2025-08-19T18:52:12.840951",
     "exception": false,
     "start_time": "2025-08-19T18:52:12.829378",
     "status": "completed"
    },
    "tags": []
   },
   "source": [
    "# CP Metrics"
   ]
  },
  {
   "cell_type": "code",
   "execution_count": 46,
   "id": "9de55fb1",
   "metadata": {
    "execution": {
     "iopub.execute_input": "2025-08-19T18:52:12.865583Z",
     "iopub.status.busy": "2025-08-19T18:52:12.865114Z",
     "iopub.status.idle": "2025-08-19T18:52:12.871461Z",
     "shell.execute_reply": "2025-08-19T18:52:12.870893Z"
    },
    "papermill": {
     "duration": 0.023882,
     "end_time": "2025-08-19T18:52:12.876261",
     "exception": false,
     "start_time": "2025-08-19T18:52:12.852379",
     "status": "completed"
    },
    "tags": []
   },
   "outputs": [
    {
     "data": {
      "text/plain": [
       "{'coverage': 0.908761565042916, 'avg_size': 1.2456470850518337}"
      ]
     },
     "execution_count": 46,
     "metadata": {},
     "output_type": "execute_result"
    }
   ],
   "source": [
    "metrics"
   ]
  },
  {
   "cell_type": "code",
   "execution_count": 47,
   "id": "64c340a1",
   "metadata": {
    "execution": {
     "iopub.execute_input": "2025-08-19T18:52:12.915893Z",
     "iopub.status.busy": "2025-08-19T18:52:12.914900Z",
     "iopub.status.idle": "2025-08-19T18:52:12.928915Z",
     "shell.execute_reply": "2025-08-19T18:52:12.927470Z"
    },
    "papermill": {
     "duration": 0.032057,
     "end_time": "2025-08-19T18:52:12.932089",
     "exception": false,
     "start_time": "2025-08-19T18:52:12.900032",
     "status": "completed"
    },
    "tags": []
   },
   "outputs": [],
   "source": [
    "example_universe = universe.copy()\n",
    "universe_training_year = example_universe.get(\"training_year\")\n",
    "universe_training_size = example_universe.get(\"training_size\")\n",
    "universe_scale = example_universe.get(\"scale\")\n",
    "universe_model = example_universe.get(\"model\")\n",
    "universe_exclude_features = example_universe.get(\"exclude_features\")\n",
    "universe_exclude_subgroups = example_universe.get(\"exclude_subgroups\")"
   ]
  },
  {
   "cell_type": "code",
   "execution_count": 48,
   "id": "dbb53cb4",
   "metadata": {
    "execution": {
     "iopub.execute_input": "2025-08-19T18:52:12.976649Z",
     "iopub.status.busy": "2025-08-19T18:52:12.975566Z",
     "iopub.status.idle": "2025-08-19T18:52:12.988029Z",
     "shell.execute_reply": "2025-08-19T18:52:12.986237Z"
    },
    "papermill": {
     "duration": 0.028829,
     "end_time": "2025-08-19T18:52:12.989956",
     "exception": false,
     "start_time": "2025-08-19T18:52:12.961127",
     "status": "completed"
    },
    "tags": []
   },
   "outputs": [],
   "source": [
    "cp_metrics_dict = {\n",
    "    \"universe_id\": [universe_id],\n",
    "    \"universe_training_year\": [universe_training_year],\n",
    "    \"universe_training_size\": [universe_training_size],\n",
    "    \"universe_scale\": [universe_scale],\n",
    "    \"universe_model\": [universe_model],\n",
    "    \"universe_exclude_features\": [universe_exclude_features],\n",
    "    \"universe_exclude_subgroups\": [universe_exclude_subgroups],\n",
    "    \"q_hat\": [q_hat],\n",
    "    \"coverage\": [metrics[\"coverage\"]],\n",
    "    \"avg_size\": [metrics[\"avg_size\"]],\n",
    "}"
   ]
  },
  {
   "cell_type": "code",
   "execution_count": 49,
   "id": "0d70d4b2",
   "metadata": {
    "execution": {
     "iopub.execute_input": "2025-08-19T18:52:13.021660Z",
     "iopub.status.busy": "2025-08-19T18:52:13.020399Z",
     "iopub.status.idle": "2025-08-19T18:52:13.034320Z",
     "shell.execute_reply": "2025-08-19T18:52:13.032743Z"
    },
    "papermill": {
     "duration": 0.02916,
     "end_time": "2025-08-19T18:52:13.035890",
     "exception": false,
     "start_time": "2025-08-19T18:52:13.006730",
     "status": "completed"
    },
    "tags": []
   },
   "outputs": [],
   "source": [
    "cp_metrics_df = pd.DataFrame(cp_metrics_dict)"
   ]
  },
  {
   "cell_type": "code",
   "execution_count": 50,
   "id": "b494403c",
   "metadata": {
    "execution": {
     "iopub.execute_input": "2025-08-19T18:52:13.069558Z",
     "iopub.status.busy": "2025-08-19T18:52:13.068546Z",
     "iopub.status.idle": "2025-08-19T18:52:13.105112Z",
     "shell.execute_reply": "2025-08-19T18:52:13.103957Z"
    },
    "papermill": {
     "duration": 0.054334,
     "end_time": "2025-08-19T18:52:13.107740",
     "exception": false,
     "start_time": "2025-08-19T18:52:13.053406",
     "status": "completed"
    },
    "tags": []
   },
   "outputs": [
    {
     "data": {
      "text/html": [
       "<div>\n",
       "<style scoped>\n",
       "    .dataframe tbody tr th:only-of-type {\n",
       "        vertical-align: middle;\n",
       "    }\n",
       "\n",
       "    .dataframe tbody tr th {\n",
       "        vertical-align: top;\n",
       "    }\n",
       "\n",
       "    .dataframe thead th {\n",
       "        text-align: right;\n",
       "    }\n",
       "</style>\n",
       "<table border=\"1\" class=\"dataframe\">\n",
       "  <thead>\n",
       "    <tr style=\"text-align: right;\">\n",
       "      <th></th>\n",
       "      <th>universe_id</th>\n",
       "      <th>universe_training_year</th>\n",
       "      <th>universe_training_size</th>\n",
       "      <th>universe_scale</th>\n",
       "      <th>universe_model</th>\n",
       "      <th>universe_exclude_features</th>\n",
       "      <th>universe_exclude_subgroups</th>\n",
       "      <th>q_hat</th>\n",
       "      <th>coverage</th>\n",
       "      <th>avg_size</th>\n",
       "    </tr>\n",
       "  </thead>\n",
       "  <tbody>\n",
       "    <tr>\n",
       "      <th>0</th>\n",
       "      <td>5b1db7df375210c31947652f9cf20c6d</td>\n",
       "      <td>2014</td>\n",
       "      <td>1k</td>\n",
       "      <td>scale</td>\n",
       "      <td>elasticnet</td>\n",
       "      <td>none</td>\n",
       "      <td>drop-non-german</td>\n",
       "      <td>0.809791</td>\n",
       "      <td>0.908762</td>\n",
       "      <td>1.245647</td>\n",
       "    </tr>\n",
       "  </tbody>\n",
       "</table>\n",
       "</div>"
      ],
      "text/plain": [
       "                        universe_id universe_training_year  \\\n",
       "0  5b1db7df375210c31947652f9cf20c6d                   2014   \n",
       "\n",
       "  universe_training_size universe_scale universe_model  \\\n",
       "0                     1k          scale     elasticnet   \n",
       "\n",
       "  universe_exclude_features universe_exclude_subgroups     q_hat  coverage  \\\n",
       "0                      none            drop-non-german  0.809791  0.908762   \n",
       "\n",
       "   avg_size  \n",
       "0  1.245647  "
      ]
     },
     "execution_count": 50,
     "metadata": {},
     "output_type": "execute_result"
    }
   ],
   "source": [
    "cp_metrics_df"
   ]
  },
  {
   "cell_type": "markdown",
   "id": "ed608b0b",
   "metadata": {
    "papermill": {
     "duration": 0.012956,
     "end_time": "2025-08-19T18:52:13.145979",
     "exception": false,
     "start_time": "2025-08-19T18:52:13.133023",
     "status": "completed"
    },
    "tags": []
   },
   "source": [
    "Conditional coverage & looking at subgroups"
   ]
  },
  {
   "cell_type": "code",
   "execution_count": 51,
   "id": "8968c366",
   "metadata": {
    "execution": {
     "iopub.execute_input": "2025-08-19T18:52:13.172539Z",
     "iopub.status.busy": "2025-08-19T18:52:13.171186Z",
     "iopub.status.idle": "2025-08-19T18:52:13.463732Z",
     "shell.execute_reply": "2025-08-19T18:52:13.463026Z"
    },
    "papermill": {
     "duration": 0.308554,
     "end_time": "2025-08-19T18:52:13.466381",
     "exception": false,
     "start_time": "2025-08-19T18:52:13.157827",
     "status": "completed"
    },
    "tags": []
   },
   "outputs": [],
   "source": [
    "from fairness_multiverse.conformal import build_cp_groups\n",
    "\n",
    "cp_groups_df = build_cp_groups(pred_sets, y_true, X_test.index, org_test)"
   ]
  },
  {
   "cell_type": "code",
   "execution_count": 52,
   "id": "292ddabf",
   "metadata": {
    "execution": {
     "iopub.execute_input": "2025-08-19T18:52:13.515030Z",
     "iopub.status.busy": "2025-08-19T18:52:13.514521Z",
     "iopub.status.idle": "2025-08-19T18:52:14.388760Z",
     "shell.execute_reply": "2025-08-19T18:52:14.387543Z"
    },
    "papermill": {
     "duration": 0.896742,
     "end_time": "2025-08-19T18:52:14.391099",
     "exception": false,
     "start_time": "2025-08-19T18:52:13.494357",
     "status": "completed"
    },
    "tags": []
   },
   "outputs": [],
   "source": [
    "# Define covered = 1 if true_label is in the predicted set\n",
    "cp_groups_df['covered'] = cp_groups_df.apply(\n",
    "    lambda r: int(r['true_label'] in r['pred_set']),\n",
    "    axis=1\n",
    ")"
   ]
  },
  {
   "cell_type": "code",
   "execution_count": 53,
   "id": "3a261692",
   "metadata": {
    "execution": {
     "iopub.execute_input": "2025-08-19T18:52:14.437140Z",
     "iopub.status.busy": "2025-08-19T18:52:14.435439Z",
     "iopub.status.idle": "2025-08-19T18:52:14.454433Z",
     "shell.execute_reply": "2025-08-19T18:52:14.453698Z"
    },
    "papermill": {
     "duration": 0.035584,
     "end_time": "2025-08-19T18:52:14.456335",
     "exception": false,
     "start_time": "2025-08-19T18:52:14.420751",
     "status": "completed"
    },
    "tags": []
   },
   "outputs": [],
   "source": [
    "subgroups = ['frau1','nongerman','nongerman_male','nongerman_female']\n",
    "\n",
    "# Conditional coverage for subgroup==1\n",
    "cond_coverage = {\n",
    "    g: cp_groups_df.loc[cp_groups_df[g]==1, 'covered'].mean()\n",
    "    for g in subgroups\n",
    "}"
   ]
  },
  {
   "cell_type": "code",
   "execution_count": 54,
   "id": "894fd600",
   "metadata": {
    "execution": {
     "iopub.execute_input": "2025-08-19T18:52:14.495978Z",
     "iopub.status.busy": "2025-08-19T18:52:14.494774Z",
     "iopub.status.idle": "2025-08-19T18:52:14.507647Z",
     "shell.execute_reply": "2025-08-19T18:52:14.506154Z"
    },
    "papermill": {
     "duration": 0.028696,
     "end_time": "2025-08-19T18:52:14.509475",
     "exception": false,
     "start_time": "2025-08-19T18:52:14.480779",
     "status": "completed"
    },
    "tags": []
   },
   "outputs": [
    {
     "data": {
      "text/plain": [
       "{'frau1': 0.905593745787842,\n",
       " 'nongerman': 0.9060798293381238,\n",
       " 'nongerman_male': 0.924614968927317,\n",
       " 'nongerman_female': 0.8754098360655738}"
      ]
     },
     "execution_count": 54,
     "metadata": {},
     "output_type": "execute_result"
    }
   ],
   "source": [
    "cond_coverage"
   ]
  },
  {
   "cell_type": "code",
   "execution_count": 55,
   "id": "942895c7",
   "metadata": {
    "execution": {
     "iopub.execute_input": "2025-08-19T18:52:14.542957Z",
     "iopub.status.busy": "2025-08-19T18:52:14.541753Z",
     "iopub.status.idle": "2025-08-19T18:52:14.554045Z",
     "shell.execute_reply": "2025-08-19T18:52:14.552833Z"
    },
    "papermill": {
     "duration": 0.02936,
     "end_time": "2025-08-19T18:52:14.556669",
     "exception": false,
     "start_time": "2025-08-19T18:52:14.527309",
     "status": "completed"
    },
    "tags": []
   },
   "outputs": [],
   "source": [
    "for subgroup, cov in cond_coverage.items():\n",
    "    cp_metrics_df[f\"cov_{subgroup}\"] = cov"
   ]
  },
  {
   "cell_type": "code",
   "execution_count": 56,
   "id": "3970120f",
   "metadata": {
    "execution": {
     "iopub.execute_input": "2025-08-19T18:52:14.584873Z",
     "iopub.status.busy": "2025-08-19T18:52:14.584339Z",
     "iopub.status.idle": "2025-08-19T18:52:14.601015Z",
     "shell.execute_reply": "2025-08-19T18:52:14.600310Z"
    },
    "papermill": {
     "duration": 0.032257,
     "end_time": "2025-08-19T18:52:14.603058",
     "exception": false,
     "start_time": "2025-08-19T18:52:14.570801",
     "status": "completed"
    },
    "tags": []
   },
   "outputs": [
    {
     "data": {
      "text/html": [
       "<div>\n",
       "<style scoped>\n",
       "    .dataframe tbody tr th:only-of-type {\n",
       "        vertical-align: middle;\n",
       "    }\n",
       "\n",
       "    .dataframe tbody tr th {\n",
       "        vertical-align: top;\n",
       "    }\n",
       "\n",
       "    .dataframe thead th {\n",
       "        text-align: right;\n",
       "    }\n",
       "</style>\n",
       "<table border=\"1\" class=\"dataframe\">\n",
       "  <thead>\n",
       "    <tr style=\"text-align: right;\">\n",
       "      <th></th>\n",
       "      <th>universe_id</th>\n",
       "      <th>universe_training_year</th>\n",
       "      <th>universe_training_size</th>\n",
       "      <th>universe_scale</th>\n",
       "      <th>universe_model</th>\n",
       "      <th>universe_exclude_features</th>\n",
       "      <th>universe_exclude_subgroups</th>\n",
       "      <th>q_hat</th>\n",
       "      <th>coverage</th>\n",
       "      <th>avg_size</th>\n",
       "      <th>cov_frau1</th>\n",
       "      <th>cov_nongerman</th>\n",
       "      <th>cov_nongerman_male</th>\n",
       "      <th>cov_nongerman_female</th>\n",
       "    </tr>\n",
       "  </thead>\n",
       "  <tbody>\n",
       "    <tr>\n",
       "      <th>0</th>\n",
       "      <td>5b1db7df375210c31947652f9cf20c6d</td>\n",
       "      <td>2014</td>\n",
       "      <td>1k</td>\n",
       "      <td>scale</td>\n",
       "      <td>elasticnet</td>\n",
       "      <td>none</td>\n",
       "      <td>drop-non-german</td>\n",
       "      <td>0.809791</td>\n",
       "      <td>0.908762</td>\n",
       "      <td>1.245647</td>\n",
       "      <td>0.905594</td>\n",
       "      <td>0.90608</td>\n",
       "      <td>0.924615</td>\n",
       "      <td>0.87541</td>\n",
       "    </tr>\n",
       "  </tbody>\n",
       "</table>\n",
       "</div>"
      ],
      "text/plain": [
       "                        universe_id universe_training_year  \\\n",
       "0  5b1db7df375210c31947652f9cf20c6d                   2014   \n",
       "\n",
       "  universe_training_size universe_scale universe_model  \\\n",
       "0                     1k          scale     elasticnet   \n",
       "\n",
       "  universe_exclude_features universe_exclude_subgroups     q_hat  coverage  \\\n",
       "0                      none            drop-non-german  0.809791  0.908762   \n",
       "\n",
       "   avg_size  cov_frau1  cov_nongerman  cov_nongerman_male  \\\n",
       "0  1.245647   0.905594        0.90608            0.924615   \n",
       "\n",
       "   cov_nongerman_female  \n",
       "0               0.87541  "
      ]
     },
     "execution_count": 56,
     "metadata": {},
     "output_type": "execute_result"
    }
   ],
   "source": [
    "cp_metrics_df"
   ]
  },
  {
   "cell_type": "markdown",
   "id": "3fc519cc",
   "metadata": {
    "papermill": {
     "duration": 0.015663,
     "end_time": "2025-08-19T18:52:14.650187",
     "exception": false,
     "start_time": "2025-08-19T18:52:14.634524",
     "status": "completed"
    },
    "tags": []
   },
   "source": [
    "# (Fairness) Metrics"
   ]
  },
  {
   "cell_type": "code",
   "execution_count": 57,
   "id": "a2e5e155",
   "metadata": {
    "execution": {
     "iopub.execute_input": "2025-08-19T18:52:14.676531Z",
     "iopub.status.busy": "2025-08-19T18:52:14.676094Z",
     "iopub.status.idle": "2025-08-19T18:52:14.694746Z",
     "shell.execute_reply": "2025-08-19T18:52:14.693820Z"
    },
    "papermill": {
     "duration": 0.034178,
     "end_time": "2025-08-19T18:52:14.696770",
     "exception": false,
     "start_time": "2025-08-19T18:52:14.662592",
     "status": "completed"
    },
    "tags": []
   },
   "outputs": [],
   "source": [
    "colname_to_bin = \"maxdeutsch1\"\n",
    "majority_value = org_train[colname_to_bin].mode()[0]\n",
    "\n",
    "org_test[\"majmin\"] = np.where(org_test[colname_to_bin] == majority_value, \"majority\", \"minority\")"
   ]
  },
  {
   "cell_type": "code",
   "execution_count": 58,
   "id": "17e3e4d5",
   "metadata": {
    "execution": {
     "iopub.execute_input": "2025-08-19T18:52:14.727521Z",
     "iopub.status.busy": "2025-08-19T18:52:14.727109Z",
     "iopub.status.idle": "2025-08-19T18:52:16.527639Z",
     "shell.execute_reply": "2025-08-19T18:52:16.526377Z"
    },
    "papermill": {
     "duration": 1.815852,
     "end_time": "2025-08-19T18:52:16.529270",
     "exception": false,
     "start_time": "2025-08-19T18:52:14.713418",
     "status": "completed"
    },
    "tags": []
   },
   "outputs": [],
   "source": [
    "example_universe = universe.copy()\n",
    "example_universe[\"cutoff\"] = example_universe[\"cutoff\"][0]\n",
    "example_universe[\"eval_fairness_grouping\"] = example_universe[\"eval_fairness_grouping\"][0]\n",
    "fairness_dict, metric_frame = universe_analysis.compute_metrics(\n",
    "    example_universe,\n",
    "    y_pred_prob=probs_test,\n",
    "    y_test=y_true,\n",
    "    org_test=org_test,\n",
    ")"
   ]
  },
  {
   "cell_type": "markdown",
   "id": "1fb7a0e9",
   "metadata": {
    "papermill": {
     "duration": 0.017821,
     "end_time": "2025-08-19T18:52:16.563006",
     "exception": false,
     "start_time": "2025-08-19T18:52:16.545185",
     "status": "completed"
    },
    "tags": []
   },
   "source": [
    "# Overall"
   ]
  },
  {
   "cell_type": "markdown",
   "id": "be1784b1",
   "metadata": {
    "papermill": {
     "duration": 0.012428,
     "end_time": "2025-08-19T18:52:16.587993",
     "exception": false,
     "start_time": "2025-08-19T18:52:16.575565",
     "status": "completed"
    },
    "tags": []
   },
   "source": [
    "Main fairness target: Equalized Odds. Seems to be a better fit than equal opportunity, since we're not only interested in Y = 1. Seems to be a better fit than demographic parity, since we also care about accuracy, not just equal distribution of preds.\n",
    "\n",
    "Pick column for computation of fairness metrics\n",
    "\n",
    "Performance\n",
    "Overall performance measures, most interesting in relation to the measures split by group below"
   ]
  },
  {
   "cell_type": "code",
   "execution_count": 59,
   "id": "b7672bee",
   "metadata": {
    "execution": {
     "iopub.execute_input": "2025-08-19T18:52:16.615322Z",
     "iopub.status.busy": "2025-08-19T18:52:16.614974Z",
     "iopub.status.idle": "2025-08-19T18:52:16.623203Z",
     "shell.execute_reply": "2025-08-19T18:52:16.622357Z"
    },
    "papermill": {
     "duration": 0.023818,
     "end_time": "2025-08-19T18:52:16.625095",
     "exception": false,
     "start_time": "2025-08-19T18:52:16.601277",
     "status": "completed"
    },
    "tags": []
   },
   "outputs": [
    {
     "data": {
      "text/plain": [
       "accuracy                   0.218760\n",
       "balanced accuracy          0.536075\n",
       "f1                         0.240246\n",
       "precision                  0.137245\n",
       "false positive rate        0.890744\n",
       "false negative rate        0.037105\n",
       "selection rate             0.900000\n",
       "count                  89710.000000\n",
       "dtype: float64"
      ]
     },
     "execution_count": 59,
     "metadata": {},
     "output_type": "execute_result"
    }
   ],
   "source": [
    "metric_frame.overall"
   ]
  },
  {
   "cell_type": "markdown",
   "id": "d93333c9",
   "metadata": {
    "papermill": {
     "duration": 0.012547,
     "end_time": "2025-08-19T18:52:16.653152",
     "exception": false,
     "start_time": "2025-08-19T18:52:16.640605",
     "status": "completed"
    },
    "tags": []
   },
   "source": [
    "By Group"
   ]
  },
  {
   "cell_type": "code",
   "execution_count": 60,
   "id": "52256966",
   "metadata": {
    "execution": {
     "iopub.execute_input": "2025-08-19T18:52:16.679544Z",
     "iopub.status.busy": "2025-08-19T18:52:16.679230Z",
     "iopub.status.idle": "2025-08-19T18:52:16.693826Z",
     "shell.execute_reply": "2025-08-19T18:52:16.693007Z"
    },
    "papermill": {
     "duration": 0.029583,
     "end_time": "2025-08-19T18:52:16.695171",
     "exception": false,
     "start_time": "2025-08-19T18:52:16.665588",
     "status": "completed"
    },
    "tags": []
   },
   "outputs": [
    {
     "data": {
      "text/html": [
       "<div>\n",
       "<style scoped>\n",
       "    .dataframe tbody tr th:only-of-type {\n",
       "        vertical-align: middle;\n",
       "    }\n",
       "\n",
       "    .dataframe tbody tr th {\n",
       "        vertical-align: top;\n",
       "    }\n",
       "\n",
       "    .dataframe thead th {\n",
       "        text-align: right;\n",
       "    }\n",
       "</style>\n",
       "<table border=\"1\" class=\"dataframe\">\n",
       "  <thead>\n",
       "    <tr style=\"text-align: right;\">\n",
       "      <th></th>\n",
       "      <th>accuracy</th>\n",
       "      <th>balanced accuracy</th>\n",
       "      <th>f1</th>\n",
       "      <th>precision</th>\n",
       "      <th>false positive rate</th>\n",
       "      <th>false negative rate</th>\n",
       "      <th>selection rate</th>\n",
       "      <th>count</th>\n",
       "    </tr>\n",
       "    <tr>\n",
       "      <th>majmin</th>\n",
       "      <th></th>\n",
       "      <th></th>\n",
       "      <th></th>\n",
       "      <th></th>\n",
       "      <th></th>\n",
       "      <th></th>\n",
       "      <th></th>\n",
       "      <th></th>\n",
       "    </tr>\n",
       "  </thead>\n",
       "  <tbody>\n",
       "    <tr>\n",
       "      <th>majority</th>\n",
       "      <td>0.234610</td>\n",
       "      <td>0.541878</td>\n",
       "      <td>0.248858</td>\n",
       "      <td>0.142969</td>\n",
       "      <td>0.875762</td>\n",
       "      <td>0.040481</td>\n",
       "      <td>0.886830</td>\n",
       "      <td>69170.0</td>\n",
       "    </tr>\n",
       "    <tr>\n",
       "      <th>minority</th>\n",
       "      <td>0.165385</td>\n",
       "      <td>0.517846</td>\n",
       "      <td>0.212359</td>\n",
       "      <td>0.119142</td>\n",
       "      <td>0.940238</td>\n",
       "      <td>0.024071</td>\n",
       "      <td>0.944352</td>\n",
       "      <td>20540.0</td>\n",
       "    </tr>\n",
       "  </tbody>\n",
       "</table>\n",
       "</div>"
      ],
      "text/plain": [
       "          accuracy  balanced accuracy        f1  precision  \\\n",
       "majmin                                                       \n",
       "majority  0.234610           0.541878  0.248858   0.142969   \n",
       "minority  0.165385           0.517846  0.212359   0.119142   \n",
       "\n",
       "          false positive rate  false negative rate  selection rate    count  \n",
       "majmin                                                                       \n",
       "majority             0.875762             0.040481        0.886830  69170.0  \n",
       "minority             0.940238             0.024071        0.944352  20540.0  "
      ]
     },
     "execution_count": 60,
     "metadata": {},
     "output_type": "execute_result"
    }
   ],
   "source": [
    "metric_frame.by_group"
   ]
  },
  {
   "cell_type": "code",
   "execution_count": 61,
   "id": "6e6c20ae",
   "metadata": {
    "execution": {
     "iopub.execute_input": "2025-08-19T18:52:16.724992Z",
     "iopub.status.busy": "2025-08-19T18:52:16.724686Z",
     "iopub.status.idle": "2025-08-19T18:52:18.507506Z",
     "shell.execute_reply": "2025-08-19T18:52:18.506472Z"
    },
    "papermill": {
     "duration": 1.798012,
     "end_time": "2025-08-19T18:52:18.508883",
     "exception": false,
     "start_time": "2025-08-19T18:52:16.710871",
     "status": "completed"
    },
    "tags": []
   },
   "outputs": [
    {
     "data": {
      "text/plain": [
       "array([[<Axes: title={'center': 'accuracy'}, xlabel='majmin'>,\n",
       "        <Axes: title={'center': 'balanced accuracy'}, xlabel='majmin'>,\n",
       "        <Axes: title={'center': 'f1'}, xlabel='majmin'>],\n",
       "       [<Axes: title={'center': 'precision'}, xlabel='majmin'>,\n",
       "        <Axes: title={'center': 'false positive rate'}, xlabel='majmin'>,\n",
       "        <Axes: title={'center': 'false negative rate'}, xlabel='majmin'>],\n",
       "       [<Axes: title={'center': 'selection rate'}, xlabel='majmin'>,\n",
       "        <Axes: title={'center': 'count'}, xlabel='majmin'>,\n",
       "        <Axes: xlabel='majmin'>]], dtype=object)"
      ]
     },
     "execution_count": 61,
     "metadata": {},
     "output_type": "execute_result"
    },
    {
     "data": {
      "image/png": "[encoded data removed]",
      "text/plain": [
       "<Figure size 1200x800 with 9 Axes>"
      ]
     },
     "metadata": {},
     "output_type": "display_data"
    }
   ],
   "source": [
    "# In a graphic\n",
    "metric_frame.by_group.plot.bar(\n",
    "    subplots=True,\n",
    "    layout=[3, 3],\n",
    "    legend=False,\n",
    "    figsize=[12, 8],\n",
    "    title=\"Show all metrics\",\n",
    ")"
   ]
  },
  {
   "cell_type": "markdown",
   "id": "b2e433ae",
   "metadata": {
    "papermill": {
     "duration": 0.014989,
     "end_time": "2025-08-19T18:52:18.541266",
     "exception": false,
     "start_time": "2025-08-19T18:52:18.526277",
     "status": "completed"
    },
    "tags": []
   },
   "source": [
    "# Final Output"
   ]
  },
  {
   "cell_type": "code",
   "execution_count": 62,
   "id": "3871301e",
   "metadata": {
    "execution": {
     "iopub.execute_input": "2025-08-19T18:52:18.573718Z",
     "iopub.status.busy": "2025-08-19T18:52:18.571799Z",
     "iopub.status.idle": "2025-08-19T18:52:18.587813Z",
     "shell.execute_reply": "2025-08-19T18:52:18.586831Z"
    },
    "papermill": {
     "duration": 0.033692,
     "end_time": "2025-08-19T18:52:18.589297",
     "exception": false,
     "start_time": "2025-08-19T18:52:18.555605",
     "status": "completed"
    },
    "tags": []
   },
   "outputs": [
    {
     "data": {
      "text/plain": [
       "4"
      ]
     },
     "execution_count": 62,
     "metadata": {},
     "output_type": "execute_result"
    }
   ],
   "source": [
    "sub_universes = universe_analysis.generate_sub_universes()\n",
    "len(sub_universes)"
   ]
  },
  {
   "cell_type": "code",
   "execution_count": 63,
   "id": "d9cfdaca",
   "metadata": {
    "execution": {
     "iopub.execute_input": "2025-08-19T18:52:18.626249Z",
     "iopub.status.busy": "2025-08-19T18:52:18.624837Z",
     "iopub.status.idle": "2025-08-19T18:52:18.633611Z",
     "shell.execute_reply": "2025-08-19T18:52:18.632722Z"
    },
    "papermill": {
     "duration": 0.025979,
     "end_time": "2025-08-19T18:52:18.634796",
     "exception": false,
     "start_time": "2025-08-19T18:52:18.608817",
     "status": "completed"
    },
    "tags": []
   },
   "outputs": [],
   "source": [
    "def filter_sub_universe_data(sub_universe, org_test):\n",
    "    # Keep all rows — no filtering\n",
    "    keep_rows_mask = np.ones(org_test.shape[0], dtype=bool)\n",
    "\n",
    "    print(f\"[INFO] Keeping all rows: {keep_rows_mask.sum()} rows retained.\")\n",
    "    return keep_rows_mask"
   ]
  },
  {
   "cell_type": "code",
   "execution_count": 64,
   "id": "2bc31ac1",
   "metadata": {
    "execution": {
     "iopub.execute_input": "2025-08-19T18:52:18.669314Z",
     "iopub.status.busy": "2025-08-19T18:52:18.666541Z",
     "iopub.status.idle": "2025-08-19T18:52:25.470549Z",
     "shell.execute_reply": "2025-08-19T18:52:25.469304Z"
    },
    "papermill": {
     "duration": 6.821196,
     "end_time": "2025-08-19T18:52:25.472791",
     "exception": false,
     "start_time": "2025-08-19T18:52:18.651595",
     "status": "completed"
    },
    "tags": []
   },
   "outputs": [
    {
     "name": "stdout",
     "output_type": "stream",
     "text": [
      "Stopping execution_time clock.\n",
      "[INFO] Keeping all rows: 89710 rows retained.\n"
     ]
    },
    {
     "name": "stdout",
     "output_type": "stream",
     "text": [
      "[INFO] Keeping all rows: 89710 rows retained.\n"
     ]
    },
    {
     "name": "stdout",
     "output_type": "stream",
     "text": [
      "[INFO] Keeping all rows: 89710 rows retained.\n"
     ]
    },
    {
     "name": "stdout",
     "output_type": "stream",
     "text": [
      "[INFO] Keeping all rows: 89710 rows retained.\n"
     ]
    },
    {
     "data": {
      "text/html": [
       "<div>\n",
       "<style scoped>\n",
       "    .dataframe tbody tr th:only-of-type {\n",
       "        vertical-align: middle;\n",
       "    }\n",
       "\n",
       "    .dataframe tbody tr th {\n",
       "        vertical-align: top;\n",
       "    }\n",
       "\n",
       "    .dataframe thead th {\n",
       "        text-align: right;\n",
       "    }\n",
       "</style>\n",
       "<table border=\"1\" class=\"dataframe\">\n",
       "  <thead>\n",
       "    <tr style=\"text-align: right;\">\n",
       "      <th></th>\n",
       "      <th>run_no</th>\n",
       "      <th>universe_id</th>\n",
       "      <th>universe_settings</th>\n",
       "      <th>execution_time</th>\n",
       "      <th>test_size_n</th>\n",
       "      <th>test_size_frac</th>\n",
       "      <th>fair_main_equalized_odds_difference</th>\n",
       "      <th>fair_main_equalized_odds_ratio</th>\n",
       "      <th>fair_main_demographic_parity_difference</th>\n",
       "      <th>fair_main_demographic_parity_ratio</th>\n",
       "      <th>...</th>\n",
       "      <th>perf_grp_precision_0</th>\n",
       "      <th>perf_grp_precision_1</th>\n",
       "      <th>perf_grp_false positive rate_0</th>\n",
       "      <th>perf_grp_false positive rate_1</th>\n",
       "      <th>perf_grp_false negative rate_0</th>\n",
       "      <th>perf_grp_false negative rate_1</th>\n",
       "      <th>perf_grp_selection rate_0</th>\n",
       "      <th>perf_grp_selection rate_1</th>\n",
       "      <th>perf_grp_count_0</th>\n",
       "      <th>perf_grp_count_1</th>\n",
       "    </tr>\n",
       "  </thead>\n",
       "  <tbody>\n",
       "    <tr>\n",
       "      <th>0</th>\n",
       "      <td>3</td>\n",
       "      <td>5b1db7df375210c31947652f9cf20c6d</td>\n",
       "      <td>{\"cutoff\": \"quantile_0.1\", \"eval_fairness_grou...</td>\n",
       "      <td>20.931329</td>\n",
       "      <td>89710</td>\n",
       "      <td>1.0</td>\n",
       "      <td>0.064476</td>\n",
       "      <td>0.931426</td>\n",
       "      <td>0.057523</td>\n",
       "      <td>0.939087</td>\n",
       "      <td>...</td>\n",
       "      <td>NaN</td>\n",
       "      <td>NaN</td>\n",
       "      <td>NaN</td>\n",
       "      <td>NaN</td>\n",
       "      <td>NaN</td>\n",
       "      <td>NaN</td>\n",
       "      <td>NaN</td>\n",
       "      <td>NaN</td>\n",
       "      <td>NaN</td>\n",
       "      <td>NaN</td>\n",
       "    </tr>\n",
       "    <tr>\n",
       "      <th>0</th>\n",
       "      <td>3</td>\n",
       "      <td>5b1db7df375210c31947652f9cf20c6d</td>\n",
       "      <td>{\"cutoff\": \"quantile_0.1\", \"eval_fairness_grou...</td>\n",
       "      <td>20.931329</td>\n",
       "      <td>89710</td>\n",
       "      <td>1.0</td>\n",
       "      <td>0.064476</td>\n",
       "      <td>0.931426</td>\n",
       "      <td>0.057523</td>\n",
       "      <td>0.939087</td>\n",
       "      <td>...</td>\n",
       "      <td>0.119142</td>\n",
       "      <td>0.142969</td>\n",
       "      <td>0.940238</td>\n",
       "      <td>0.875762</td>\n",
       "      <td>0.024071</td>\n",
       "      <td>0.040481</td>\n",
       "      <td>0.944352</td>\n",
       "      <td>0.886830</td>\n",
       "      <td>20540.0</td>\n",
       "      <td>69170.0</td>\n",
       "    </tr>\n",
       "    <tr>\n",
       "      <th>0</th>\n",
       "      <td>3</td>\n",
       "      <td>5b1db7df375210c31947652f9cf20c6d</td>\n",
       "      <td>{\"cutoff\": \"quantile_0.25\", \"eval_fairness_gro...</td>\n",
       "      <td>20.931329</td>\n",
       "      <td>89710</td>\n",
       "      <td>1.0</td>\n",
       "      <td>0.060595</td>\n",
       "      <td>0.921889</td>\n",
       "      <td>0.050774</td>\n",
       "      <td>0.935659</td>\n",
       "      <td>...</td>\n",
       "      <td>NaN</td>\n",
       "      <td>NaN</td>\n",
       "      <td>NaN</td>\n",
       "      <td>NaN</td>\n",
       "      <td>NaN</td>\n",
       "      <td>NaN</td>\n",
       "      <td>NaN</td>\n",
       "      <td>NaN</td>\n",
       "      <td>NaN</td>\n",
       "      <td>NaN</td>\n",
       "    </tr>\n",
       "    <tr>\n",
       "      <th>0</th>\n",
       "      <td>3</td>\n",
       "      <td>5b1db7df375210c31947652f9cf20c6d</td>\n",
       "      <td>{\"cutoff\": \"quantile_0.25\", \"eval_fairness_gro...</td>\n",
       "      <td>20.931329</td>\n",
       "      <td>89710</td>\n",
       "      <td>1.0</td>\n",
       "      <td>0.060595</td>\n",
       "      <td>0.921889</td>\n",
       "      <td>0.050774</td>\n",
       "      <td>0.935659</td>\n",
       "      <td>...</td>\n",
       "      <td>0.130298</td>\n",
       "      <td>0.159419</td>\n",
       "      <td>0.775754</td>\n",
       "      <td>0.715159</td>\n",
       "      <td>0.108108</td>\n",
       "      <td>0.109190</td>\n",
       "      <td>0.789143</td>\n",
       "      <td>0.738369</td>\n",
       "      <td>20540.0</td>\n",
       "      <td>69170.0</td>\n",
       "    </tr>\n",
       "  </tbody>\n",
       "</table>\n",
       "<p>4 rows × 50 columns</p>\n",
       "</div>"
      ],
      "text/plain": [
       "  run_no                       universe_id  \\\n",
       "0      3  5b1db7df375210c31947652f9cf20c6d   \n",
       "0      3  5b1db7df375210c31947652f9cf20c6d   \n",
       "0      3  5b1db7df375210c31947652f9cf20c6d   \n",
       "0      3  5b1db7df375210c31947652f9cf20c6d   \n",
       "\n",
       "                                   universe_settings  execution_time  \\\n",
       "0  {\"cutoff\": \"quantile_0.1\", \"eval_fairness_grou...       20.931329   \n",
       "0  {\"cutoff\": \"quantile_0.1\", \"eval_fairness_grou...       20.931329   \n",
       "0  {\"cutoff\": \"quantile_0.25\", \"eval_fairness_gro...       20.931329   \n",
       "0  {\"cutoff\": \"quantile_0.25\", \"eval_fairness_gro...       20.931329   \n",
       "\n",
       "   test_size_n  test_size_frac  fair_main_equalized_odds_difference  \\\n",
       "0        89710             1.0                             0.064476   \n",
       "0        89710             1.0                             0.064476   \n",
       "0        89710             1.0                             0.060595   \n",
       "0        89710             1.0                             0.060595   \n",
       "\n",
       "   fair_main_equalized_odds_ratio  fair_main_demographic_parity_difference  \\\n",
       "0                        0.931426                                 0.057523   \n",
       "0                        0.931426                                 0.057523   \n",
       "0                        0.921889                                 0.050774   \n",
       "0                        0.921889                                 0.050774   \n",
       "\n",
       "   fair_main_demographic_parity_ratio  ...  perf_grp_precision_0  \\\n",
       "0                            0.939087  ...                   NaN   \n",
       "0                            0.939087  ...              0.119142   \n",
       "0                            0.935659  ...                   NaN   \n",
       "0                            0.935659  ...              0.130298   \n",
       "\n",
       "   perf_grp_precision_1  perf_grp_false positive rate_0  \\\n",
       "0                   NaN                             NaN   \n",
       "0              0.142969                        0.940238   \n",
       "0                   NaN                             NaN   \n",
       "0              0.159419                        0.775754   \n",
       "\n",
       "   perf_grp_false positive rate_1  perf_grp_false negative rate_0  \\\n",
       "0                             NaN                             NaN   \n",
       "0                        0.875762                        0.024071   \n",
       "0                             NaN                             NaN   \n",
       "0                        0.715159                        0.108108   \n",
       "\n",
       "   perf_grp_false negative rate_1  perf_grp_selection rate_0  \\\n",
       "0                             NaN                        NaN   \n",
       "0                        0.040481                   0.944352   \n",
       "0                             NaN                        NaN   \n",
       "0                        0.109190                   0.789143   \n",
       "\n",
       "   perf_grp_selection rate_1  perf_grp_count_0  perf_grp_count_1  \n",
       "0                        NaN               NaN               NaN  \n",
       "0                   0.886830           20540.0           69170.0  \n",
       "0                        NaN               NaN               NaN  \n",
       "0                   0.738369           20540.0           69170.0  \n",
       "\n",
       "[4 rows x 50 columns]"
      ]
     },
     "execution_count": 64,
     "metadata": {},
     "output_type": "execute_result"
    }
   ],
   "source": [
    "final_output = universe_analysis.generate_final_output(\n",
    "    y_pred_prob=probs_test,\n",
    "    y_test=y_true,\n",
    "    org_test=org_test,\n",
    "    filter_data=filter_sub_universe_data,\n",
    "    cp_metrics_df=cp_metrics_df,\n",
    "    save=True,\n",
    ")\n",
    "final_output"
   ]
  },
  {
   "cell_type": "code",
   "execution_count": null,
   "id": "8b80a1ff",
   "metadata": {
    "papermill": {
     "duration": 0.015557,
     "end_time": "2025-08-19T18:52:25.507093",
     "exception": false,
     "start_time": "2025-08-19T18:52:25.491536",
     "status": "completed"
    },
    "tags": []
   },
   "outputs": [],
   "source": []
  },
  {
   "cell_type": "code",
   "execution_count": null,
   "id": "275c9fad",
   "metadata": {
    "papermill": {
     "duration": 0.014896,
     "end_time": "2025-08-19T18:52:25.537238",
     "exception": false,
     "start_time": "2025-08-19T18:52:25.522342",
     "status": "completed"
    },
    "tags": []
   },
   "outputs": [],
   "source": []
  }
 ],
 "metadata": {
  "celltoolbar": "Tags",
  "kernelspec": {
   "display_name": "Python (CMA Fairness)",
   "language": "python",
   "name": "cma_fair_env"
  },
  "language_info": {
   "codemirror_mode": {
    "name": "ipython",
    "version": 3
   },
   "file_extension": ".py",
   "mimetype": "text/x-python",
   "name": "python",
   "nbconvert_exporter": "python",
   "pygments_lexer": "ipython3",
   "version": "3.10.12"
  },
  "papermill": {
   "default_parameters": {},
   "duration": 31.523737,
   "end_time": "2025-08-19T18:52:26.382971",
   "environment_variables": {},
   "exception": null,
   "input_path": "universe_analysis.ipynb",
   "output_path": "output/runs/3/notebooks/m_3-5b1db7df375210c31947652f9cf20c6d.ipynb",
   "parameters": {
    "output_dir": "output",
    "run_no": "3",
    "seed": "2023",
    "universe": "{\"cutoff\": [\"quantile_0.1\", \"quantile_0.25\"], \"eval_fairness_grouping\": [\"majority-minority\", \"nationality-all\"], \"exclude_features\": \"none\", \"exclude_subgroups\": \"drop-non-german\", \"model\": \"elasticnet\", \"scale\": \"scale\", \"training_size\": \"1k\", \"training_year\": \"2014\"}",
    "universe_id": "5b1db7df375210c31947652f9cf20c6d"
   },
   "start_time": "2025-08-19T18:51:54.859234",
   "version": "2.6.0"
  }
 },
 "nbformat": 4,
 "nbformat_minor": 5
}