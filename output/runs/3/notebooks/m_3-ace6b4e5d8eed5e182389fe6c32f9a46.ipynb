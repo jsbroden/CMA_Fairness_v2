{
 "cells": [
  {
   "cell_type": "markdown",
   "id": "ef23dbb3",
   "metadata": {
    "papermill": {
     "duration": 0.009263,
     "end_time": "2025-08-19T19:01:32.291946",
     "exception": false,
     "start_time": "2025-08-19T19:01:32.282683",
     "status": "completed"
    },
    "tags": []
   },
   "source": [
    "# Setup"
   ]
  },
  {
   "cell_type": "code",
   "execution_count": 1,
   "id": "0bc8e7dc",
   "metadata": {
    "execution": {
     "iopub.execute_input": "2025-08-19T19:01:32.312110Z",
     "iopub.status.busy": "2025-08-19T19:01:32.310600Z",
     "iopub.status.idle": "2025-08-19T19:01:32.342524Z",
     "shell.execute_reply": "2025-08-19T19:01:32.341432Z"
    },
    "papermill": {
     "duration": 0.044174,
     "end_time": "2025-08-19T19:01:32.344692",
     "exception": false,
     "start_time": "2025-08-19T19:01:32.300518",
     "status": "completed"
    },
    "tags": []
   },
   "outputs": [
    {
     "name": "stdout",
     "output_type": "stream",
     "text": [
      "/dss/dsshome1/0C/ra93lal2/cma/CMA_Fairness_v2\n"
     ]
    },
    {
     "name": "stderr",
     "output_type": "stream",
     "text": [
      "/dss/dsshome1/0C/ra93lal2/.local/share/virtualenvs/CMA_Fairness_v2-3j10GkSs/lib/python3.10/site-packages/IPython/core/magics/osm.py:393: UserWarning: This is now an optional IPython functionality, using bookmarks requires you to install the `pickleshare` library.\n",
      "  bkms = self.shell.db.get('bookmarks', {})\n",
      "/dss/dsshome1/0C/ra93lal2/.local/share/virtualenvs/CMA_Fairness_v2-3j10GkSs/lib/python3.10/site-packages/IPython/core/magics/osm.py:417: UserWarning: This is now an optional IPython functionality, setting dhist requires you to install the `pickleshare` library.\n",
      "  self.shell.db['dhist'] = compress_dhist(dhist)[-100:]\n"
     ]
    }
   ],
   "source": [
    "%cd ~/cma/CMA_Fairness_v2"
   ]
  },
  {
   "cell_type": "markdown",
   "id": "9d235661",
   "metadata": {
    "papermill": {
     "duration": 0.009611,
     "end_time": "2025-08-19T19:01:32.363305",
     "exception": false,
     "start_time": "2025-08-19T19:01:32.353694",
     "status": "completed"
    },
    "tags": []
   },
   "source": [
    "The following cell holds the definition of our parameters, these values can be overriden by rendering the with e.g. the following command:\n",
    "\n",
    "papermill -p alpha 0.2 -p ratio 0.3 universe_analysis.ipynb output/test_run.ipynb"
   ]
  },
  {
   "cell_type": "code",
   "execution_count": 2,
   "id": "4a789d8e",
   "metadata": {
    "execution": {
     "iopub.execute_input": "2025-08-19T19:01:32.392679Z",
     "iopub.status.busy": "2025-08-19T19:01:32.390639Z",
     "iopub.status.idle": "2025-08-19T19:01:32.398035Z",
     "shell.execute_reply": "2025-08-19T19:01:32.396977Z"
    },
    "papermill": {
     "duration": 0.029455,
     "end_time": "2025-08-19T19:01:32.402098",
     "exception": false,
     "start_time": "2025-08-19T19:01:32.372643",
     "status": "completed"
    },
    "tags": []
   },
   "outputs": [
    {
     "name": "stdout",
     "output_type": "stream",
     "text": [
      "Current working directory: /dss/dsshome1/0C/ra93lal2/cma/CMA_Fairness_v2\n"
     ]
    }
   ],
   "source": [
    "import os\n",
    "print(\"Current working directory:\", os.getcwd())"
   ]
  },
  {
   "cell_type": "code",
   "execution_count": 3,
   "id": "4132aaed",
   "metadata": {
    "execution": {
     "iopub.execute_input": "2025-08-19T19:01:32.426488Z",
     "iopub.status.busy": "2025-08-19T19:01:32.425333Z",
     "iopub.status.idle": "2025-08-19T19:01:32.441376Z",
     "shell.execute_reply": "2025-08-19T19:01:32.439977Z"
    },
    "papermill": {
     "duration": 0.028413,
     "end_time": "2025-08-19T19:01:32.442837",
     "exception": false,
     "start_time": "2025-08-19T19:01:32.414424",
     "status": "completed"
    },
    "tags": [
     "parameters"
    ]
   },
   "outputs": [],
   "source": [
    "run_no = 0\n",
    "universe_id = \"test\"\n",
    "universe = {\n",
    "    \"training_size\": \"5k\", # \"25k\", \"5k\", \"1k\"\n",
    "    \"training_year\": \"2012_14\", # \"2014\", \"2012_14\", \"2010_14\"\n",
    "    \"scale\": \"scale\", # \"scale\", \"do-not-scale\",\n",
    "    \"model\": \"elasticnet\", # \"logreg\", \"penalized_logreg\", \"rf\", \"gbm\", \"elasticnet\"\n",
    "    \"cutoff\": [\"quantile_0.15\", \"quantile_0.30\"],\n",
    "    \"exclude_features\": \"age\", # \"none\", \"nationality\", \"sex\", \"nationality-sex\", \"age\"\n",
    "    \"exclude_subgroups\": \"drop-non-german\", # \"keep-all\", \"drop-non-german\"\n",
    "    \"eval_fairness_grouping\": [\"majority-minority\", \"nationality-all\"]\n",
    "}\n",
    "\n",
    "output_dir=\"./output\"\n",
    "seed=0"
   ]
  },
  {
   "cell_type": "code",
   "execution_count": 4,
   "id": "d2c73838",
   "metadata": {
    "execution": {
     "iopub.execute_input": "2025-08-19T19:01:32.475255Z",
     "iopub.status.busy": "2025-08-19T19:01:32.469335Z",
     "iopub.status.idle": "2025-08-19T19:01:32.489235Z",
     "shell.execute_reply": "2025-08-19T19:01:32.487902Z"
    },
    "papermill": {
     "duration": 0.036566,
     "end_time": "2025-08-19T19:01:32.492503",
     "exception": false,
     "start_time": "2025-08-19T19:01:32.455937",
     "status": "completed"
    },
    "tags": [
     "injected-parameters"
    ]
   },
   "outputs": [],
   "source": [
    "# Parameters\n",
    "universe_id = \"ace6b4e5d8eed5e182389fe6c32f9a46\"\n",
    "run_no = \"3\"\n",
    "universe = \"{\\\"cutoff\\\": [\\\"quantile_0.1\\\", \\\"quantile_0.25\\\"], \\\"eval_fairness_grouping\\\": [\\\"majority-minority\\\", \\\"nationality-all\\\"], \\\"exclude_features\\\": \\\"sex\\\", \\\"exclude_subgroups\\\": \\\"keep-all\\\", \\\"model\\\": \\\"penalized_logreg\\\", \\\"scale\\\": \\\"do-not-scale\\\", \\\"training_size\\\": \\\"1k\\\", \\\"training_year\\\": \\\"2012_14\\\"}\"\n",
    "output_dir = \"output\"\n",
    "seed = \"2023\"\n"
   ]
  },
  {
   "cell_type": "code",
   "execution_count": 5,
   "id": "a5d7941f",
   "metadata": {
    "execution": {
     "iopub.execute_input": "2025-08-19T19:01:32.523732Z",
     "iopub.status.busy": "2025-08-19T19:01:32.523365Z",
     "iopub.status.idle": "2025-08-19T19:01:32.528064Z",
     "shell.execute_reply": "2025-08-19T19:01:32.527224Z"
    },
    "papermill": {
     "duration": 0.037527,
     "end_time": "2025-08-19T19:01:32.543636",
     "exception": false,
     "start_time": "2025-08-19T19:01:32.506109",
     "status": "completed"
    },
    "tags": []
   },
   "outputs": [],
   "source": [
    "import json\n",
    "if isinstance(universe, str):\n",
    "    universe = json.loads(universe)"
   ]
  },
  {
   "cell_type": "code",
   "execution_count": 6,
   "id": "7076ccb1",
   "metadata": {
    "execution": {
     "iopub.execute_input": "2025-08-19T19:01:32.578695Z",
     "iopub.status.busy": "2025-08-19T19:01:32.578336Z",
     "iopub.status.idle": "2025-08-19T19:01:32.615059Z",
     "shell.execute_reply": "2025-08-19T19:01:32.614168Z"
    },
    "papermill": {
     "duration": 0.0514,
     "end_time": "2025-08-19T19:01:32.616594",
     "exception": false,
     "start_time": "2025-08-19T19:01:32.565194",
     "status": "completed"
    },
    "tags": []
   },
   "outputs": [],
   "source": [
    "# Auto-reload the custom package\n",
    "%load_ext autoreload\n",
    "%autoreload 1\n",
    "%aimport fairness_multiverse"
   ]
  },
  {
   "cell_type": "code",
   "execution_count": 7,
   "id": "94c8eb93",
   "metadata": {
    "execution": {
     "iopub.execute_input": "2025-08-19T19:01:32.636664Z",
     "iopub.status.busy": "2025-08-19T19:01:32.636316Z",
     "iopub.status.idle": "2025-08-19T19:01:34.272798Z",
     "shell.execute_reply": "2025-08-19T19:01:34.271157Z"
    },
    "papermill": {
     "duration": 1.648517,
     "end_time": "2025-08-19T19:01:34.274861",
     "exception": false,
     "start_time": "2025-08-19T19:01:32.626344",
     "status": "completed"
    },
    "tags": []
   },
   "outputs": [],
   "source": [
    "from fairness_multiverse.universe import UniverseAnalysis\n",
    "\n",
    "universe_analysis = UniverseAnalysis(\n",
    "    run_no = run_no,\n",
    "    universe_id = universe_id,\n",
    "    universe = universe,\n",
    "    output_dir=output_dir,\n",
    ")"
   ]
  },
  {
   "cell_type": "code",
   "execution_count": 8,
   "id": "2a6381cf",
   "metadata": {
    "execution": {
     "iopub.execute_input": "2025-08-19T19:01:34.321392Z",
     "iopub.status.busy": "2025-08-19T19:01:34.319726Z",
     "iopub.status.idle": "2025-08-19T19:01:34.333934Z",
     "shell.execute_reply": "2025-08-19T19:01:34.332007Z"
    },
    "papermill": {
     "duration": 0.03876,
     "end_time": "2025-08-19T19:01:34.335681",
     "exception": false,
     "start_time": "2025-08-19T19:01:34.296921",
     "status": "completed"
    },
    "tags": []
   },
   "outputs": [
    {
     "name": "stdout",
     "output_type": "stream",
     "text": [
      "Using Seed: 2023\n"
     ]
    }
   ],
   "source": [
    "import numpy as np\n",
    "parsed_seed = int(seed)\n",
    "np.random.seed(parsed_seed)\n",
    "print(f\"Using Seed: {parsed_seed}\")"
   ]
  },
  {
   "cell_type": "markdown",
   "id": "b6e958b4",
   "metadata": {
    "papermill": {
     "duration": 0.019743,
     "end_time": "2025-08-19T19:01:34.372886",
     "exception": false,
     "start_time": "2025-08-19T19:01:34.353143",
     "status": "completed"
    },
    "tags": []
   },
   "source": [
    "# Loading Data"
   ]
  },
  {
   "cell_type": "code",
   "execution_count": 9,
   "id": "98701482",
   "metadata": {
    "execution": {
     "iopub.execute_input": "2025-08-19T19:01:34.397393Z",
     "iopub.status.busy": "2025-08-19T19:01:34.396196Z",
     "iopub.status.idle": "2025-08-19T19:01:45.140738Z",
     "shell.execute_reply": "2025-08-19T19:01:45.139241Z"
    },
    "papermill": {
     "duration": 10.757587,
     "end_time": "2025-08-19T19:01:45.142451",
     "exception": false,
     "start_time": "2025-08-19T19:01:34.384864",
     "status": "completed"
    },
    "tags": []
   },
   "outputs": [
    {
     "name": "stdout",
     "output_type": "stream",
     "text": [
      "Loading SIAB data from cache: data/siab_cached.csv.gz\n"
     ]
    },
    {
     "name": "stdout",
     "output_type": "stream",
     "text": [
      "(643690, 164)\n"
     ]
    }
   ],
   "source": [
    "from pathlib import Path\n",
    "import pandas as pd\n",
    "\n",
    "# File paths\n",
    "raw_file = Path(\"data/raw/siab.csv\")\n",
    "cache_file = Path(\"data/siab_cached.csv.gz\")\n",
    "\n",
    "# Ensure cache directory exists\n",
    "cache_file.parent.mkdir(parents=True, exist_ok=True)\n",
    "\n",
    "# Load with simple caching\n",
    "if cache_file.exists():\n",
    "    print(f\"Loading SIAB data from cache: {cache_file}\")\n",
    "    siab = pd.read_csv(cache_file, compression='gzip')\n",
    "else:\n",
    "    print(f\"Cache not found. Reading raw SIAB data: {raw_file}\")\n",
    "    siab = pd.read_csv(raw_file)\n",
    "    siab.to_csv(cache_file, index=False, compression='gzip')\n",
    "    print(f\"Cached SIAB data to: {cache_file}\")\n",
    "\n",
    "print(siab.shape)"
   ]
  },
  {
   "cell_type": "code",
   "execution_count": 10,
   "id": "058d2abb",
   "metadata": {
    "execution": {
     "iopub.execute_input": "2025-08-19T19:01:45.168591Z",
     "iopub.status.busy": "2025-08-19T19:01:45.168139Z",
     "iopub.status.idle": "2025-08-19T19:01:45.422738Z",
     "shell.execute_reply": "2025-08-19T19:01:45.421374Z"
    },
    "papermill": {
     "duration": 0.268513,
     "end_time": "2025-08-19T19:01:45.424529",
     "exception": false,
     "start_time": "2025-08-19T19:01:45.156016",
     "status": "completed"
    },
    "tags": []
   },
   "outputs": [
    {
     "data": {
      "text/html": [
       "<div>\n",
       "<style scoped>\n",
       "    .dataframe tbody tr th:only-of-type {\n",
       "        vertical-align: middle;\n",
       "    }\n",
       "\n",
       "    .dataframe tbody tr th {\n",
       "        vertical-align: top;\n",
       "    }\n",
       "\n",
       "    .dataframe thead th {\n",
       "        text-align: right;\n",
       "    }\n",
       "</style>\n",
       "<table border=\"1\" class=\"dataframe\">\n",
       "  <thead>\n",
       "    <tr style=\"text-align: right;\">\n",
       "      <th></th>\n",
       "      <th>persnr</th>\n",
       "      <th>year</th>\n",
       "      <th>nrEntry</th>\n",
       "      <th>ltue</th>\n",
       "      <th>employed_before</th>\n",
       "      <th>receipt_leh_before</th>\n",
       "      <th>receipt_lhg_before</th>\n",
       "      <th>se_before</th>\n",
       "      <th>ASU_notue_seeking_before</th>\n",
       "      <th>ASU_other_before</th>\n",
       "      <th>...</th>\n",
       "      <th>minijob_tot_dur_byage</th>\n",
       "      <th>ft_tot_dur_byage</th>\n",
       "      <th>befrist_tot_dur_byage</th>\n",
       "      <th>leih_tot_dur_byage</th>\n",
       "      <th>LHG_tot_dur_byage</th>\n",
       "      <th>LEH_tot_dur_byage</th>\n",
       "      <th>almp_tot_dur_byage</th>\n",
       "      <th>almp_aw_tot_dur_byage</th>\n",
       "      <th>se_tot_dur_byage</th>\n",
       "      <th>seeking1_tot_dur_byage</th>\n",
       "    </tr>\n",
       "  </thead>\n",
       "  <tbody>\n",
       "    <tr>\n",
       "      <th>0</th>\n",
       "      <td>7</td>\n",
       "      <td>2015</td>\n",
       "      <td>1</td>\n",
       "      <td>0</td>\n",
       "      <td>1</td>\n",
       "      <td>0</td>\n",
       "      <td>0</td>\n",
       "      <td>0</td>\n",
       "      <td>1</td>\n",
       "      <td>0</td>\n",
       "      <td>...</td>\n",
       "      <td>0.000000</td>\n",
       "      <td>0.000000</td>\n",
       "      <td>15.043478</td>\n",
       "      <td>0.000000</td>\n",
       "      <td>0.000000</td>\n",
       "      <td>0.000000</td>\n",
       "      <td>0.000000</td>\n",
       "      <td>0.000000</td>\n",
       "      <td>0.000000</td>\n",
       "      <td>0.000000</td>\n",
       "    </tr>\n",
       "    <tr>\n",
       "      <th>1</th>\n",
       "      <td>18</td>\n",
       "      <td>2010</td>\n",
       "      <td>1</td>\n",
       "      <td>1</td>\n",
       "      <td>0</td>\n",
       "      <td>0</td>\n",
       "      <td>0</td>\n",
       "      <td>0</td>\n",
       "      <td>0</td>\n",
       "      <td>0</td>\n",
       "      <td>...</td>\n",
       "      <td>0.000000</td>\n",
       "      <td>0.000000</td>\n",
       "      <td>0.000000</td>\n",
       "      <td>0.000000</td>\n",
       "      <td>0.000000</td>\n",
       "      <td>0.000000</td>\n",
       "      <td>0.000000</td>\n",
       "      <td>0.000000</td>\n",
       "      <td>0.000000</td>\n",
       "      <td>0.000000</td>\n",
       "    </tr>\n",
       "    <tr>\n",
       "      <th>2</th>\n",
       "      <td>18</td>\n",
       "      <td>2011</td>\n",
       "      <td>2</td>\n",
       "      <td>0</td>\n",
       "      <td>1</td>\n",
       "      <td>0</td>\n",
       "      <td>1</td>\n",
       "      <td>0</td>\n",
       "      <td>1</td>\n",
       "      <td>0</td>\n",
       "      <td>...</td>\n",
       "      <td>2.714286</td>\n",
       "      <td>2.714286</td>\n",
       "      <td>0.000000</td>\n",
       "      <td>0.000000</td>\n",
       "      <td>10.775510</td>\n",
       "      <td>0.000000</td>\n",
       "      <td>8.367347</td>\n",
       "      <td>0.000000</td>\n",
       "      <td>0.000000</td>\n",
       "      <td>9.836735</td>\n",
       "    </tr>\n",
       "    <tr>\n",
       "      <th>3</th>\n",
       "      <td>18</td>\n",
       "      <td>2012</td>\n",
       "      <td>3</td>\n",
       "      <td>0</td>\n",
       "      <td>1</td>\n",
       "      <td>0</td>\n",
       "      <td>1</td>\n",
       "      <td>0</td>\n",
       "      <td>1</td>\n",
       "      <td>0</td>\n",
       "      <td>...</td>\n",
       "      <td>4.200000</td>\n",
       "      <td>4.200000</td>\n",
       "      <td>0.000000</td>\n",
       "      <td>0.000000</td>\n",
       "      <td>12.100000</td>\n",
       "      <td>0.000000</td>\n",
       "      <td>9.400000</td>\n",
       "      <td>0.000000</td>\n",
       "      <td>0.000000</td>\n",
       "      <td>9.960000</td>\n",
       "    </tr>\n",
       "    <tr>\n",
       "      <th>4</th>\n",
       "      <td>18</td>\n",
       "      <td>2012</td>\n",
       "      <td>4</td>\n",
       "      <td>0</td>\n",
       "      <td>1</td>\n",
       "      <td>0</td>\n",
       "      <td>1</td>\n",
       "      <td>0</td>\n",
       "      <td>1</td>\n",
       "      <td>0</td>\n",
       "      <td>...</td>\n",
       "      <td>5.460000</td>\n",
       "      <td>5.460000</td>\n",
       "      <td>0.000000</td>\n",
       "      <td>0.000000</td>\n",
       "      <td>13.360000</td>\n",
       "      <td>0.000000</td>\n",
       "      <td>10.320000</td>\n",
       "      <td>0.000000</td>\n",
       "      <td>0.000000</td>\n",
       "      <td>10.280000</td>\n",
       "    </tr>\n",
       "    <tr>\n",
       "      <th>...</th>\n",
       "      <td>...</td>\n",
       "      <td>...</td>\n",
       "      <td>...</td>\n",
       "      <td>...</td>\n",
       "      <td>...</td>\n",
       "      <td>...</td>\n",
       "      <td>...</td>\n",
       "      <td>...</td>\n",
       "      <td>...</td>\n",
       "      <td>...</td>\n",
       "      <td>...</td>\n",
       "      <td>...</td>\n",
       "      <td>...</td>\n",
       "      <td>...</td>\n",
       "      <td>...</td>\n",
       "      <td>...</td>\n",
       "      <td>...</td>\n",
       "      <td>...</td>\n",
       "      <td>...</td>\n",
       "      <td>...</td>\n",
       "      <td>...</td>\n",
       "    </tr>\n",
       "    <tr>\n",
       "      <th>643685</th>\n",
       "      <td>1827860</td>\n",
       "      <td>2013</td>\n",
       "      <td>1</td>\n",
       "      <td>0</td>\n",
       "      <td>0</td>\n",
       "      <td>0</td>\n",
       "      <td>1</td>\n",
       "      <td>0</td>\n",
       "      <td>0</td>\n",
       "      <td>1</td>\n",
       "      <td>...</td>\n",
       "      <td>0.000000</td>\n",
       "      <td>0.000000</td>\n",
       "      <td>0.000000</td>\n",
       "      <td>0.000000</td>\n",
       "      <td>0.612903</td>\n",
       "      <td>0.000000</td>\n",
       "      <td>0.000000</td>\n",
       "      <td>0.000000</td>\n",
       "      <td>0.000000</td>\n",
       "      <td>0.000000</td>\n",
       "    </tr>\n",
       "    <tr>\n",
       "      <th>643686</th>\n",
       "      <td>1827860</td>\n",
       "      <td>2015</td>\n",
       "      <td>2</td>\n",
       "      <td>1</td>\n",
       "      <td>0</td>\n",
       "      <td>0</td>\n",
       "      <td>1</td>\n",
       "      <td>0</td>\n",
       "      <td>1</td>\n",
       "      <td>0</td>\n",
       "      <td>...</td>\n",
       "      <td>0.000000</td>\n",
       "      <td>0.000000</td>\n",
       "      <td>0.212121</td>\n",
       "      <td>0.212121</td>\n",
       "      <td>17.363636</td>\n",
       "      <td>0.000000</td>\n",
       "      <td>8.909091</td>\n",
       "      <td>0.000000</td>\n",
       "      <td>0.000000</td>\n",
       "      <td>7.121212</td>\n",
       "    </tr>\n",
       "    <tr>\n",
       "      <th>643687</th>\n",
       "      <td>1827860</td>\n",
       "      <td>2016</td>\n",
       "      <td>3</td>\n",
       "      <td>1</td>\n",
       "      <td>0</td>\n",
       "      <td>0</td>\n",
       "      <td>1</td>\n",
       "      <td>1</td>\n",
       "      <td>0</td>\n",
       "      <td>1</td>\n",
       "      <td>...</td>\n",
       "      <td>0.000000</td>\n",
       "      <td>0.000000</td>\n",
       "      <td>0.294118</td>\n",
       "      <td>0.205882</td>\n",
       "      <td>34.705882</td>\n",
       "      <td>0.000000</td>\n",
       "      <td>10.352941</td>\n",
       "      <td>1.705882</td>\n",
       "      <td>1.705882</td>\n",
       "      <td>23.911765</td>\n",
       "    </tr>\n",
       "    <tr>\n",
       "      <th>643688</th>\n",
       "      <td>1827869</td>\n",
       "      <td>2013</td>\n",
       "      <td>1</td>\n",
       "      <td>1</td>\n",
       "      <td>1</td>\n",
       "      <td>0</td>\n",
       "      <td>0</td>\n",
       "      <td>0</td>\n",
       "      <td>1</td>\n",
       "      <td>0</td>\n",
       "      <td>...</td>\n",
       "      <td>0.000000</td>\n",
       "      <td>0.000000</td>\n",
       "      <td>0.000000</td>\n",
       "      <td>0.000000</td>\n",
       "      <td>0.000000</td>\n",
       "      <td>0.525424</td>\n",
       "      <td>0.000000</td>\n",
       "      <td>0.000000</td>\n",
       "      <td>0.000000</td>\n",
       "      <td>0.000000</td>\n",
       "    </tr>\n",
       "    <tr>\n",
       "      <th>643689</th>\n",
       "      <td>1827869</td>\n",
       "      <td>2014</td>\n",
       "      <td>2</td>\n",
       "      <td>0</td>\n",
       "      <td>0</td>\n",
       "      <td>1</td>\n",
       "      <td>0</td>\n",
       "      <td>0</td>\n",
       "      <td>1</td>\n",
       "      <td>0</td>\n",
       "      <td>...</td>\n",
       "      <td>0.000000</td>\n",
       "      <td>0.666667</td>\n",
       "      <td>0.666667</td>\n",
       "      <td>0.000000</td>\n",
       "      <td>0.000000</td>\n",
       "      <td>8.950000</td>\n",
       "      <td>1.033333</td>\n",
       "      <td>0.083333</td>\n",
       "      <td>0.083333</td>\n",
       "      <td>8.133333</td>\n",
       "    </tr>\n",
       "  </tbody>\n",
       "</table>\n",
       "<p>643690 rows × 164 columns</p>\n",
       "</div>"
      ],
      "text/plain": [
       "         persnr  year  nrEntry  ltue  employed_before  receipt_leh_before  \\\n",
       "0             7  2015        1     0                1                   0   \n",
       "1            18  2010        1     1                0                   0   \n",
       "2            18  2011        2     0                1                   0   \n",
       "3            18  2012        3     0                1                   0   \n",
       "4            18  2012        4     0                1                   0   \n",
       "...         ...   ...      ...   ...              ...                 ...   \n",
       "643685  1827860  2013        1     0                0                   0   \n",
       "643686  1827860  2015        2     1                0                   0   \n",
       "643687  1827860  2016        3     1                0                   0   \n",
       "643688  1827869  2013        1     1                1                   0   \n",
       "643689  1827869  2014        2     0                0                   1   \n",
       "\n",
       "        receipt_lhg_before  se_before  ASU_notue_seeking_before  \\\n",
       "0                        0          0                         1   \n",
       "1                        0          0                         0   \n",
       "2                        1          0                         1   \n",
       "3                        1          0                         1   \n",
       "4                        1          0                         1   \n",
       "...                    ...        ...                       ...   \n",
       "643685                   1          0                         0   \n",
       "643686                   1          0                         1   \n",
       "643687                   1          1                         0   \n",
       "643688                   0          0                         1   \n",
       "643689                   0          0                         1   \n",
       "\n",
       "        ASU_other_before  ...  minijob_tot_dur_byage  ft_tot_dur_byage  \\\n",
       "0                      0  ...               0.000000          0.000000   \n",
       "1                      0  ...               0.000000          0.000000   \n",
       "2                      0  ...               2.714286          2.714286   \n",
       "3                      0  ...               4.200000          4.200000   \n",
       "4                      0  ...               5.460000          5.460000   \n",
       "...                  ...  ...                    ...               ...   \n",
       "643685                 1  ...               0.000000          0.000000   \n",
       "643686                 0  ...               0.000000          0.000000   \n",
       "643687                 1  ...               0.000000          0.000000   \n",
       "643688                 0  ...               0.000000          0.000000   \n",
       "643689                 0  ...               0.000000          0.666667   \n",
       "\n",
       "        befrist_tot_dur_byage  leih_tot_dur_byage  LHG_tot_dur_byage  \\\n",
       "0                   15.043478            0.000000           0.000000   \n",
       "1                    0.000000            0.000000           0.000000   \n",
       "2                    0.000000            0.000000          10.775510   \n",
       "3                    0.000000            0.000000          12.100000   \n",
       "4                    0.000000            0.000000          13.360000   \n",
       "...                       ...                 ...                ...   \n",
       "643685               0.000000            0.000000           0.612903   \n",
       "643686               0.212121            0.212121          17.363636   \n",
       "643687               0.294118            0.205882          34.705882   \n",
       "643688               0.000000            0.000000           0.000000   \n",
       "643689               0.666667            0.000000           0.000000   \n",
       "\n",
       "        LEH_tot_dur_byage  almp_tot_dur_byage  almp_aw_tot_dur_byage  \\\n",
       "0                0.000000            0.000000               0.000000   \n",
       "1                0.000000            0.000000               0.000000   \n",
       "2                0.000000            8.367347               0.000000   \n",
       "3                0.000000            9.400000               0.000000   \n",
       "4                0.000000           10.320000               0.000000   \n",
       "...                   ...                 ...                    ...   \n",
       "643685           0.000000            0.000000               0.000000   \n",
       "643686           0.000000            8.909091               0.000000   \n",
       "643687           0.000000           10.352941               1.705882   \n",
       "643688           0.525424            0.000000               0.000000   \n",
       "643689           8.950000            1.033333               0.083333   \n",
       "\n",
       "        se_tot_dur_byage  seeking1_tot_dur_byage  \n",
       "0               0.000000                0.000000  \n",
       "1               0.000000                0.000000  \n",
       "2               0.000000                9.836735  \n",
       "3               0.000000                9.960000  \n",
       "4               0.000000               10.280000  \n",
       "...                  ...                     ...  \n",
       "643685          0.000000                0.000000  \n",
       "643686          0.000000                7.121212  \n",
       "643687          1.705882               23.911765  \n",
       "643688          0.000000                0.000000  \n",
       "643689          0.083333                8.133333  \n",
       "\n",
       "[643690 rows x 164 columns]"
      ]
     },
     "execution_count": 10,
     "metadata": {},
     "output_type": "execute_result"
    }
   ],
   "source": [
    "siab"
   ]
  },
  {
   "cell_type": "markdown",
   "id": "1f87e805",
   "metadata": {
    "papermill": {
     "duration": 0.011809,
     "end_time": "2025-08-19T19:01:45.449249",
     "exception": false,
     "start_time": "2025-08-19T19:01:45.437440",
     "status": "completed"
    },
    "tags": []
   },
   "source": [
    "# Splitting Data and Setting Training Data Size"
   ]
  },
  {
   "cell_type": "code",
   "execution_count": 11,
   "id": "910ae358",
   "metadata": {
    "execution": {
     "iopub.execute_input": "2025-08-19T19:01:45.471370Z",
     "iopub.status.busy": "2025-08-19T19:01:45.470874Z",
     "iopub.status.idle": "2025-08-19T19:01:46.130084Z",
     "shell.execute_reply": "2025-08-19T19:01:46.129245Z"
    },
    "papermill": {
     "duration": 0.672375,
     "end_time": "2025-08-19T19:01:46.131710",
     "exception": false,
     "start_time": "2025-08-19T19:01:45.459335",
     "status": "completed"
    },
    "tags": []
   },
   "outputs": [],
   "source": [
    "from fairness_multiverse.universe import sample_by_year_size\n",
    "\n",
    "siab_train = sample_by_year_size(siab,\n",
    "                               training_year=universe[\"training_year\"],\n",
    "                               training_size=universe[\"training_size\"])"
   ]
  },
  {
   "cell_type": "code",
   "execution_count": 12,
   "id": "919c8ff5",
   "metadata": {
    "execution": {
     "iopub.execute_input": "2025-08-19T19:01:46.154708Z",
     "iopub.status.busy": "2025-08-19T19:01:46.154034Z",
     "iopub.status.idle": "2025-08-19T19:01:46.160012Z",
     "shell.execute_reply": "2025-08-19T19:01:46.159355Z"
    },
    "papermill": {
     "duration": 0.018845,
     "end_time": "2025-08-19T19:01:46.161307",
     "exception": false,
     "start_time": "2025-08-19T19:01:46.142462",
     "status": "completed"
    },
    "tags": []
   },
   "outputs": [
    {
     "data": {
      "text/plain": [
       "(1000, 164)"
      ]
     },
     "execution_count": 12,
     "metadata": {},
     "output_type": "execute_result"
    }
   ],
   "source": [
    "siab_train.shape"
   ]
  },
  {
   "cell_type": "code",
   "execution_count": 13,
   "id": "feb13bf4",
   "metadata": {
    "execution": {
     "iopub.execute_input": "2025-08-19T19:01:46.185301Z",
     "iopub.status.busy": "2025-08-19T19:01:46.184835Z",
     "iopub.status.idle": "2025-08-19T19:01:46.193325Z",
     "shell.execute_reply": "2025-08-19T19:01:46.192606Z"
    },
    "papermill": {
     "duration": 0.021712,
     "end_time": "2025-08-19T19:01:46.195135",
     "exception": false,
     "start_time": "2025-08-19T19:01:46.173423",
     "status": "completed"
    },
    "tags": []
   },
   "outputs": [
    {
     "data": {
      "text/plain": [
       "year\n",
       "2012    334\n",
       "2013    333\n",
       "2014    333\n",
       "dtype: int64"
      ]
     },
     "metadata": {},
     "output_type": "display_data"
    }
   ],
   "source": [
    "display(siab_train.groupby(\"year\").size())"
   ]
  },
  {
   "cell_type": "code",
   "execution_count": 14,
   "id": "0997782f",
   "metadata": {
    "execution": {
     "iopub.execute_input": "2025-08-19T19:01:46.220488Z",
     "iopub.status.busy": "2025-08-19T19:01:46.220034Z",
     "iopub.status.idle": "2025-08-19T19:01:46.501350Z",
     "shell.execute_reply": "2025-08-19T19:01:46.500231Z"
    },
    "papermill": {
     "duration": 0.296279,
     "end_time": "2025-08-19T19:01:46.503230",
     "exception": false,
     "start_time": "2025-08-19T19:01:46.206951",
     "status": "completed"
    },
    "tags": []
   },
   "outputs": [],
   "source": [
    "#siab_train = siab_s[siab_s.year < 2015]\n",
    "siab_calib = siab[siab.year == 2015]\n",
    "siab_test = siab[siab.year == 2016]"
   ]
  },
  {
   "cell_type": "code",
   "execution_count": 15,
   "id": "2c1e4012",
   "metadata": {
    "execution": {
     "iopub.execute_input": "2025-08-19T19:01:46.527464Z",
     "iopub.status.busy": "2025-08-19T19:01:46.526161Z",
     "iopub.status.idle": "2025-08-19T19:01:46.532564Z",
     "shell.execute_reply": "2025-08-19T19:01:46.531590Z"
    },
    "papermill": {
     "duration": 0.028249,
     "end_time": "2025-08-19T19:01:46.542421",
     "exception": false,
     "start_time": "2025-08-19T19:01:46.514172",
     "status": "completed"
    },
    "tags": []
   },
   "outputs": [],
   "source": [
    "#siab_calib.shape"
   ]
  },
  {
   "cell_type": "code",
   "execution_count": 16,
   "id": "f66b54ca",
   "metadata": {
    "execution": {
     "iopub.execute_input": "2025-08-19T19:01:46.568945Z",
     "iopub.status.busy": "2025-08-19T19:01:46.567175Z",
     "iopub.status.idle": "2025-08-19T19:01:46.575230Z",
     "shell.execute_reply": "2025-08-19T19:01:46.574010Z"
    },
    "papermill": {
     "duration": 0.022192,
     "end_time": "2025-08-19T19:01:46.576963",
     "exception": false,
     "start_time": "2025-08-19T19:01:46.554771",
     "status": "completed"
    },
    "tags": []
   },
   "outputs": [],
   "source": [
    "#siab_test.shape"
   ]
  },
  {
   "cell_type": "code",
   "execution_count": 17,
   "id": "27e4384d",
   "metadata": {
    "execution": {
     "iopub.execute_input": "2025-08-19T19:01:46.612829Z",
     "iopub.status.busy": "2025-08-19T19:01:46.603575Z",
     "iopub.status.idle": "2025-08-19T19:01:46.621955Z",
     "shell.execute_reply": "2025-08-19T19:01:46.620892Z"
    },
    "papermill": {
     "duration": 0.033465,
     "end_time": "2025-08-19T19:01:46.623738",
     "exception": false,
     "start_time": "2025-08-19T19:01:46.590273",
     "status": "completed"
    },
    "tags": []
   },
   "outputs": [],
   "source": [
    "X_train = siab_train.iloc[:,4:164]\n",
    "y_train = siab_train.iloc[:, [3]]"
   ]
  },
  {
   "cell_type": "code",
   "execution_count": 18,
   "id": "08ee8389",
   "metadata": {
    "execution": {
     "iopub.execute_input": "2025-08-19T19:01:46.773619Z",
     "iopub.status.busy": "2025-08-19T19:01:46.773055Z",
     "iopub.status.idle": "2025-08-19T19:01:46.860198Z",
     "shell.execute_reply": "2025-08-19T19:01:46.858721Z"
    },
    "papermill": {
     "duration": 0.220598,
     "end_time": "2025-08-19T19:01:46.862200",
     "exception": false,
     "start_time": "2025-08-19T19:01:46.641602",
     "status": "completed"
    },
    "tags": []
   },
   "outputs": [],
   "source": [
    "X_calib = siab_calib.iloc[:,4:164]\n",
    "y_calib = siab_calib.iloc[:, [3]]"
   ]
  },
  {
   "cell_type": "code",
   "execution_count": 19,
   "id": "b7ff42e0",
   "metadata": {
    "execution": {
     "iopub.execute_input": "2025-08-19T19:01:46.892432Z",
     "iopub.status.busy": "2025-08-19T19:01:46.890825Z",
     "iopub.status.idle": "2025-08-19T19:01:46.956048Z",
     "shell.execute_reply": "2025-08-19T19:01:46.954934Z"
    },
    "papermill": {
     "duration": 0.082503,
     "end_time": "2025-08-19T19:01:46.958793",
     "exception": false,
     "start_time": "2025-08-19T19:01:46.876290",
     "status": "completed"
    },
    "tags": []
   },
   "outputs": [],
   "source": [
    "X_test = siab_test.iloc[:,4:164]\n",
    "y_true = siab_test.iloc[:, [3]]"
   ]
  },
  {
   "cell_type": "code",
   "execution_count": 20,
   "id": "0275101e",
   "metadata": {
    "execution": {
     "iopub.execute_input": "2025-08-19T19:01:46.999453Z",
     "iopub.status.busy": "2025-08-19T19:01:46.998021Z",
     "iopub.status.idle": "2025-08-19T19:01:47.121897Z",
     "shell.execute_reply": "2025-08-19T19:01:47.120641Z"
    },
    "papermill": {
     "duration": 0.140499,
     "end_time": "2025-08-19T19:01:47.123656",
     "exception": false,
     "start_time": "2025-08-19T19:01:46.983157",
     "status": "completed"
    },
    "tags": []
   },
   "outputs": [],
   "source": [
    "# Auxiliary data needed downstream in the pipeline\n",
    "\n",
    "org_train = X_train.copy()\n",
    "org_test = X_test.copy()\n",
    "org_calib = X_calib.copy()"
   ]
  },
  {
   "cell_type": "markdown",
   "id": "b461e618",
   "metadata": {
    "papermill": {
     "duration": 0.0101,
     "end_time": "2025-08-19T19:01:47.144544",
     "exception": false,
     "start_time": "2025-08-19T19:01:47.134444",
     "status": "completed"
    },
    "tags": []
   },
   "source": [
    "# Preprocessing Data"
   ]
  },
  {
   "cell_type": "code",
   "execution_count": 21,
   "id": "78e74c4b",
   "metadata": {
    "execution": {
     "iopub.execute_input": "2025-08-19T19:01:47.168336Z",
     "iopub.status.busy": "2025-08-19T19:01:47.167699Z",
     "iopub.status.idle": "2025-08-19T19:01:47.175943Z",
     "shell.execute_reply": "2025-08-19T19:01:47.174677Z"
    },
    "papermill": {
     "duration": 0.022811,
     "end_time": "2025-08-19T19:01:47.177522",
     "exception": false,
     "start_time": "2025-08-19T19:01:47.154711",
     "status": "completed"
    },
    "tags": []
   },
   "outputs": [],
   "source": [
    "# EXCLUDE PROTECTED FEATURES\n",
    "# --------------------------\n",
    "\n",
    "excluded_features = universe[\"exclude_features\"].split(\"-\")\n",
    "excluded_features_dictionary = {\n",
    "    \"nationality\": [\"maxdeutsch1\", \"maxdeutsch.Missing.\"],\n",
    "    \"sex\": [\"frau1\"],\n",
    "    \"age\": [\"age\"],\n",
    "}"
   ]
  },
  {
   "cell_type": "code",
   "execution_count": 22,
   "id": "f8e63555",
   "metadata": {
    "execution": {
     "iopub.execute_input": "2025-08-19T19:01:47.201773Z",
     "iopub.status.busy": "2025-08-19T19:01:47.201318Z",
     "iopub.status.idle": "2025-08-19T19:01:47.206460Z",
     "shell.execute_reply": "2025-08-19T19:01:47.205657Z"
    },
    "papermill": {
     "duration": 0.018183,
     "end_time": "2025-08-19T19:01:47.207770",
     "exception": false,
     "start_time": "2025-08-19T19:01:47.189587",
     "status": "completed"
    },
    "tags": []
   },
   "outputs": [],
   "source": [
    "excluded_features_columns = [\n",
    "    excluded_features_dictionary[f] for f in excluded_features if len(f) > 0 and f != \"none\"\n",
    "]"
   ]
  },
  {
   "cell_type": "code",
   "execution_count": 23,
   "id": "da781f7c",
   "metadata": {
    "execution": {
     "iopub.execute_input": "2025-08-19T19:01:47.236022Z",
     "iopub.status.busy": "2025-08-19T19:01:47.234919Z",
     "iopub.status.idle": "2025-08-19T19:01:47.240901Z",
     "shell.execute_reply": "2025-08-19T19:01:47.239919Z"
    },
    "papermill": {
     "duration": 0.021004,
     "end_time": "2025-08-19T19:01:47.242487",
     "exception": false,
     "start_time": "2025-08-19T19:01:47.221483",
     "status": "completed"
    },
    "tags": []
   },
   "outputs": [],
   "source": [
    "from fairness_multiverse.universe import flatten_once\n",
    "\n",
    "excluded_features_columns = flatten_once(excluded_features_columns)"
   ]
  },
  {
   "cell_type": "code",
   "execution_count": 24,
   "id": "37fef0f0",
   "metadata": {
    "execution": {
     "iopub.execute_input": "2025-08-19T19:01:47.269196Z",
     "iopub.status.busy": "2025-08-19T19:01:47.267828Z",
     "iopub.status.idle": "2025-08-19T19:01:47.283055Z",
     "shell.execute_reply": "2025-08-19T19:01:47.282065Z"
    },
    "papermill": {
     "duration": 0.029005,
     "end_time": "2025-08-19T19:01:47.284594",
     "exception": false,
     "start_time": "2025-08-19T19:01:47.255589",
     "status": "completed"
    },
    "tags": []
   },
   "outputs": [
    {
     "name": "stdout",
     "output_type": "stream",
     "text": [
      "Dropping features: ['frau1']\n"
     ]
    }
   ],
   "source": [
    "if len(excluded_features_columns) > 0:\n",
    "    print(f\"Dropping features: {excluded_features_columns}\")\n",
    "    X_train.drop(excluded_features_columns, axis=1, inplace=True)"
   ]
  },
  {
   "cell_type": "code",
   "execution_count": 25,
   "id": "d029e3e9",
   "metadata": {
    "execution": {
     "iopub.execute_input": "2025-08-19T19:01:47.312348Z",
     "iopub.status.busy": "2025-08-19T19:01:47.310802Z",
     "iopub.status.idle": "2025-08-19T19:01:47.380146Z",
     "shell.execute_reply": "2025-08-19T19:01:47.379373Z"
    },
    "papermill": {
     "duration": 0.084684,
     "end_time": "2025-08-19T19:01:47.382696",
     "exception": false,
     "start_time": "2025-08-19T19:01:47.298012",
     "status": "completed"
    },
    "tags": []
   },
   "outputs": [
    {
     "name": "stdout",
     "output_type": "stream",
     "text": [
      "Dropping features: ['frau1']\n"
     ]
    }
   ],
   "source": [
    "if len(excluded_features_columns) > 0:\n",
    "    print(f\"Dropping features: {excluded_features_columns}\")\n",
    "    X_test.drop(excluded_features_columns, axis=1, inplace=True)"
   ]
  },
  {
   "cell_type": "code",
   "execution_count": 26,
   "id": "01d571f0",
   "metadata": {
    "execution": {
     "iopub.execute_input": "2025-08-19T19:01:47.422285Z",
     "iopub.status.busy": "2025-08-19T19:01:47.421037Z",
     "iopub.status.idle": "2025-08-19T19:01:47.481113Z",
     "shell.execute_reply": "2025-08-19T19:01:47.480378Z"
    },
    "papermill": {
     "duration": 0.077288,
     "end_time": "2025-08-19T19:01:47.483925",
     "exception": false,
     "start_time": "2025-08-19T19:01:47.406637",
     "status": "completed"
    },
    "tags": []
   },
   "outputs": [
    {
     "name": "stdout",
     "output_type": "stream",
     "text": [
      "Dropping features: ['frau1']\n"
     ]
    }
   ],
   "source": [
    "if len(excluded_features_columns) > 0:\n",
    "    print(f\"Dropping features: {excluded_features_columns}\")\n",
    "    X_calib.drop(excluded_features_columns, axis=1, inplace=True)"
   ]
  },
  {
   "cell_type": "code",
   "execution_count": 27,
   "id": "3037356e",
   "metadata": {
    "execution": {
     "iopub.execute_input": "2025-08-19T19:01:47.540240Z",
     "iopub.status.busy": "2025-08-19T19:01:47.539932Z",
     "iopub.status.idle": "2025-08-19T19:01:47.545099Z",
     "shell.execute_reply": "2025-08-19T19:01:47.544251Z"
    },
    "papermill": {
     "duration": 0.018024,
     "end_time": "2025-08-19T19:01:47.546257",
     "exception": false,
     "start_time": "2025-08-19T19:01:47.528233",
     "status": "completed"
    },
    "tags": []
   },
   "outputs": [],
   "source": [
    "# EXCLUDE CERTAIN SUBGROUPS\n",
    "# -------------------------\n",
    "\n",
    "mode = universe.get(\"exclude_subgroups\", \"keep-all\") # Defaults to \"keep-all\" if the key is missing."
   ]
  },
  {
   "cell_type": "code",
   "execution_count": 28,
   "id": "9d1e63fd",
   "metadata": {
    "execution": {
     "iopub.execute_input": "2025-08-19T19:01:47.580751Z",
     "iopub.status.busy": "2025-08-19T19:01:47.579626Z",
     "iopub.status.idle": "2025-08-19T19:01:47.617864Z",
     "shell.execute_reply": "2025-08-19T19:01:47.616101Z"
    },
    "papermill": {
     "duration": 0.063927,
     "end_time": "2025-08-19T19:01:47.620993",
     "exception": false,
     "start_time": "2025-08-19T19:01:47.557066",
     "status": "completed"
    },
    "tags": []
   },
   "outputs": [],
   "source": [
    "if mode == \"keep-all\":\n",
    "    keep_mask = pd.Series(True, index=org_train.index)\n",
    "\n",
    "elif mode == \"drop-non-german\":\n",
    "    keep_mask = (org_train[\"maxdeutsch1\"] == 1) & (org_train[\"maxdeutsch.Missing.\"] == 0)\n",
    "\n",
    "else:\n",
    "    raise ValueError(f\"Unsupported mode for exclude_subgroups: {mode}\")"
   ]
  },
  {
   "cell_type": "code",
   "execution_count": 29,
   "id": "d3b65474",
   "metadata": {
    "execution": {
     "iopub.execute_input": "2025-08-19T19:01:47.654958Z",
     "iopub.status.busy": "2025-08-19T19:01:47.653620Z",
     "iopub.status.idle": "2025-08-19T19:01:47.665156Z",
     "shell.execute_reply": "2025-08-19T19:01:47.663471Z"
    },
    "papermill": {
     "duration": 0.025151,
     "end_time": "2025-08-19T19:01:47.666665",
     "exception": false,
     "start_time": "2025-08-19T19:01:47.641514",
     "status": "completed"
    },
    "tags": []
   },
   "outputs": [],
   "source": [
    "n_drop = (~keep_mask).sum() # Calculates how many rows are set to be dropped\n",
    "if n_drop > 0:\n",
    "    pct = n_drop / len(keep_mask) * 100\n",
    "    print(f\"Dropping {n_drop} rows ({pct:.2f}%) where mode='{mode}'\")"
   ]
  },
  {
   "cell_type": "code",
   "execution_count": 30,
   "id": "f44389b3",
   "metadata": {
    "execution": {
     "iopub.execute_input": "2025-08-19T19:01:47.696245Z",
     "iopub.status.busy": "2025-08-19T19:01:47.693938Z",
     "iopub.status.idle": "2025-08-19T19:01:47.711026Z",
     "shell.execute_reply": "2025-08-19T19:01:47.709931Z"
    },
    "papermill": {
     "duration": 0.033214,
     "end_time": "2025-08-19T19:01:47.713082",
     "exception": false,
     "start_time": "2025-08-19T19:01:47.679868",
     "status": "completed"
    },
    "tags": []
   },
   "outputs": [],
   "source": [
    "X_train = X_train[keep_mask]"
   ]
  },
  {
   "cell_type": "code",
   "execution_count": 31,
   "id": "ceca8c2a",
   "metadata": {
    "execution": {
     "iopub.execute_input": "2025-08-19T19:01:47.742265Z",
     "iopub.status.busy": "2025-08-19T19:01:47.741847Z",
     "iopub.status.idle": "2025-08-19T19:01:47.746837Z",
     "shell.execute_reply": "2025-08-19T19:01:47.746176Z"
    },
    "papermill": {
     "duration": 0.019852,
     "end_time": "2025-08-19T19:01:47.748101",
     "exception": false,
     "start_time": "2025-08-19T19:01:47.728249",
     "status": "completed"
    },
    "tags": []
   },
   "outputs": [],
   "source": [
    "y_train = y_train[keep_mask]"
   ]
  },
  {
   "cell_type": "markdown",
   "id": "04d31e2f",
   "metadata": {
    "papermill": {
     "duration": 0.026385,
     "end_time": "2025-08-19T19:01:47.785071",
     "exception": false,
     "start_time": "2025-08-19T19:01:47.758686",
     "status": "completed"
    },
    "tags": []
   },
   "source": [
    "# Model Training"
   ]
  },
  {
   "cell_type": "code",
   "execution_count": 32,
   "id": "db991733",
   "metadata": {
    "execution": {
     "iopub.execute_input": "2025-08-19T19:01:47.808900Z",
     "iopub.status.busy": "2025-08-19T19:01:47.808367Z",
     "iopub.status.idle": "2025-08-19T19:01:47.917891Z",
     "shell.execute_reply": "2025-08-19T19:01:47.916783Z"
    },
    "papermill": {
     "duration": 0.123387,
     "end_time": "2025-08-19T19:01:47.919525",
     "exception": false,
     "start_time": "2025-08-19T19:01:47.796138",
     "status": "completed"
    },
    "tags": []
   },
   "outputs": [],
   "source": [
    "from sklearn.linear_model import LogisticRegression\n",
    "from sklearn.ensemble import GradientBoostingClassifier, RandomForestClassifier\n",
    "\n",
    "if (universe[\"model\"] == \"logreg\"):\n",
    "    model = LogisticRegression() #penalty=\"none\", solver=\"newton-cg\", max_iter=1)\n",
    "elif (universe[\"model\"] == \"penalized_logreg\"):\n",
    "    model = LogisticRegression(penalty=\"l2\", C=0.1) #, solver=\"newton-cg\", max_iter=1)\n",
    "elif (universe[\"model\"] == \"rf\"):\n",
    "    model = RandomForestClassifier() # n_estimators=100, n_jobs=-1\n",
    "elif (universe[\"model\"] == \"gbm\"):\n",
    "    model = GradientBoostingClassifier()\n",
    "elif (universe[\"model\"] == \"elasticnet\"):\n",
    "    model = LogisticRegression(penalty = 'elasticnet', solver = 'saga', l1_ratio = 0.5) # max_iter=5000\n",
    "else:\n",
    "    raise \"Unsupported universe.model\""
   ]
  },
  {
   "cell_type": "code",
   "execution_count": 33,
   "id": "a4b5cd25",
   "metadata": {
    "execution": {
     "iopub.execute_input": "2025-08-19T19:01:47.943643Z",
     "iopub.status.busy": "2025-08-19T19:01:47.942665Z",
     "iopub.status.idle": "2025-08-19T19:01:47.949465Z",
     "shell.execute_reply": "2025-08-19T19:01:47.948498Z"
    },
    "papermill": {
     "duration": 0.020133,
     "end_time": "2025-08-19T19:01:47.950986",
     "exception": false,
     "start_time": "2025-08-19T19:01:47.930853",
     "status": "completed"
    },
    "tags": []
   },
   "outputs": [],
   "source": [
    "from sklearn.pipeline import Pipeline\n",
    "from sklearn.preprocessing import StandardScaler\n",
    "\n",
    "model = Pipeline([\n",
    "    #(\"continuous_processor\", continuous_processor),\n",
    "    #(\"categorical_preprocessor\", categorical_preprocessor),\n",
    "    (\"scale\", StandardScaler() if universe[\"scale\"] == \"scale\" else None), \n",
    "    (\"model\", model),\n",
    "])"
   ]
  },
  {
   "cell_type": "code",
   "execution_count": 34,
   "id": "283a904d",
   "metadata": {
    "execution": {
     "iopub.execute_input": "2025-08-19T19:01:47.992777Z",
     "iopub.status.busy": "2025-08-19T19:01:47.992269Z",
     "iopub.status.idle": "2025-08-19T19:01:48.054091Z",
     "shell.execute_reply": "2025-08-19T19:01:48.052374Z"
    },
    "papermill": {
     "duration": 0.080907,
     "end_time": "2025-08-19T19:01:48.055490",
     "exception": false,
     "start_time": "2025-08-19T19:01:47.974583",
     "status": "completed"
    },
    "tags": []
   },
   "outputs": [
    {
     "name": "stderr",
     "output_type": "stream",
     "text": [
      "/dss/dsshome1/0C/ra93lal2/.local/share/virtualenvs/CMA_Fairness_v2-3j10GkSs/lib/python3.10/site-packages/sklearn/linear_model/_logistic.py:444: ConvergenceWarning: lbfgs failed to converge (status=1):\n",
      "STOP: TOTAL NO. of ITERATIONS REACHED LIMIT.\n",
      "\n",
      "Increase the number of iterations (max_iter) or scale the data as shown in:\n",
      "    https://scikit-learn.org/stable/modules/preprocessing.html\n",
      "Please also refer to the documentation for alternative solver options:\n",
      "    https://scikit-learn.org/stable/modules/linear_model.html#logistic-regression\n",
      "  n_iter_i = _check_optimize_result(\n"
     ]
    },
    {
     "data": {
      "text/html": [
       "<style>#sk-container-id-1 {color: black;background-color: white;}#sk-container-id-1 pre{padding: 0;}#sk-container-id-1 div.sk-toggleable {background-color: white;}#sk-container-id-1 label.sk-toggleable__label {cursor: pointer;display: block;width: 100%;margin-bottom: 0;padding: 0.3em;box-sizing: border-box;text-align: center;}#sk-container-id-1 label.sk-toggleable__label-arrow:before {content: \"▸\";float: left;margin-right: 0.25em;color: #696969;}#sk-container-id-1 label.sk-toggleable__label-arrow:hover:before {color: black;}#sk-container-id-1 div.sk-estimator:hover label.sk-toggleable__label-arrow:before {color: black;}#sk-container-id-1 div.sk-toggleable__content {max-height: 0;max-width: 0;overflow: hidden;text-align: left;background-color: #f0f8ff;}#sk-container-id-1 div.sk-toggleable__content pre {margin: 0.2em;color: black;border-radius: 0.25em;background-color: #f0f8ff;}#sk-container-id-1 input.sk-toggleable__control:checked~div.sk-toggleable__content {max-height: 200px;max-width: 100%;overflow: auto;}#sk-container-id-1 input.sk-toggleable__control:checked~label.sk-toggleable__label-arrow:before {content: \"▾\";}#sk-container-id-1 div.sk-estimator input.sk-toggleable__control:checked~label.sk-toggleable__label {background-color: #d4ebff;}#sk-container-id-1 div.sk-label input.sk-toggleable__control:checked~label.sk-toggleable__label {background-color: #d4ebff;}#sk-container-id-1 input.sk-hidden--visually {border: 0;clip: rect(1px 1px 1px 1px);clip: rect(1px, 1px, 1px, 1px);height: 1px;margin: -1px;overflow: hidden;padding: 0;position: absolute;width: 1px;}#sk-container-id-1 div.sk-estimator {font-family: monospace;background-color: #f0f8ff;border: 1px dotted black;border-radius: 0.25em;box-sizing: border-box;margin-bottom: 0.5em;}#sk-container-id-1 div.sk-estimator:hover {background-color: #d4ebff;}#sk-container-id-1 div.sk-parallel-item::after {content: \"\";width: 100%;border-bottom: 1px solid gray;flex-grow: 1;}#sk-container-id-1 div.sk-label:hover label.sk-toggleable__label {background-color: #d4ebff;}#sk-container-id-1 div.sk-serial::before {content: \"\";position: absolute;border-left: 1px solid gray;box-sizing: border-box;top: 0;bottom: 0;left: 50%;z-index: 0;}#sk-container-id-1 div.sk-serial {display: flex;flex-direction: column;align-items: center;background-color: white;padding-right: 0.2em;padding-left: 0.2em;position: relative;}#sk-container-id-1 div.sk-item {position: relative;z-index: 1;}#sk-container-id-1 div.sk-parallel {display: flex;align-items: stretch;justify-content: center;background-color: white;position: relative;}#sk-container-id-1 div.sk-item::before, #sk-container-id-1 div.sk-parallel-item::before {content: \"\";position: absolute;border-left: 1px solid gray;box-sizing: border-box;top: 0;bottom: 0;left: 50%;z-index: -1;}#sk-container-id-1 div.sk-parallel-item {display: flex;flex-direction: column;z-index: 1;position: relative;background-color: white;}#sk-container-id-1 div.sk-parallel-item:first-child::after {align-self: flex-end;width: 50%;}#sk-container-id-1 div.sk-parallel-item:last-child::after {align-self: flex-start;width: 50%;}#sk-container-id-1 div.sk-parallel-item:only-child::after {width: 0;}#sk-container-id-1 div.sk-dashed-wrapped {border: 1px dashed gray;margin: 0 0.4em 0.5em 0.4em;box-sizing: border-box;padding-bottom: 0.4em;background-color: white;}#sk-container-id-1 div.sk-label label {font-family: monospace;font-weight: bold;display: inline-block;line-height: 1.2em;}#sk-container-id-1 div.sk-label-container {text-align: center;}#sk-container-id-1 div.sk-container {/* jupyter's `normalize.less` sets `[hidden] { display: none; }` but bootstrap.min.css set `[hidden] { display: none !important; }` so we also need the `!important` here to be able to override the default hidden behavior on the sphinx rendered scikit-learn.org. See: https://github.com/scikit-learn/scikit-learn/issues/21755 */display: inline-block !important;position: relative;}#sk-container-id-1 div.sk-text-repr-fallback {display: none;}</style><div id=\"sk-container-id-1\" class=\"sk-top-container\"><div class=\"sk-text-repr-fallback\"><pre>Pipeline(steps=[(&#x27;scale&#x27;, None), (&#x27;model&#x27;, LogisticRegression(C=0.1))])</pre><b>In a Jupyter environment, please rerun this cell to show the HTML representation or trust the notebook. <br />On GitHub, the HTML representation is unable to render, please try loading this page with nbviewer.org.</b></div><div class=\"sk-container\" hidden><div class=\"sk-item sk-dashed-wrapped\"><div class=\"sk-label-container\"><div class=\"sk-label sk-toggleable\"><input class=\"sk-toggleable__control sk-hidden--visually\" id=\"sk-estimator-id-1\" type=\"checkbox\" ><label for=\"sk-estimator-id-1\" class=\"sk-toggleable__label sk-toggleable__label-arrow\">Pipeline</label><div class=\"sk-toggleable__content\"><pre>Pipeline(steps=[(&#x27;scale&#x27;, None), (&#x27;model&#x27;, LogisticRegression(C=0.1))])</pre></div></div></div><div class=\"sk-serial\"><div class=\"sk-item\"><div class=\"sk-estimator sk-toggleable\"><input class=\"sk-toggleable__control sk-hidden--visually\" id=\"sk-estimator-id-2\" type=\"checkbox\" ><label for=\"sk-estimator-id-2\" class=\"sk-toggleable__label sk-toggleable__label-arrow\">None</label><div class=\"sk-toggleable__content\"><pre>None</pre></div></div></div><div class=\"sk-item\"><div class=\"sk-estimator sk-toggleable\"><input class=\"sk-toggleable__control sk-hidden--visually\" id=\"sk-estimator-id-3\" type=\"checkbox\" ><label for=\"sk-estimator-id-3\" class=\"sk-toggleable__label sk-toggleable__label-arrow\">LogisticRegression</label><div class=\"sk-toggleable__content\"><pre>LogisticRegression(C=0.1)</pre></div></div></div></div></div></div></div>"
      ],
      "text/plain": [
       "Pipeline(steps=[('scale', None), ('model', LogisticRegression(C=0.1))])"
      ]
     },
     "execution_count": 34,
     "metadata": {},
     "output_type": "execute_result"
    }
   ],
   "source": [
    "model.fit(X_train, y_train.values.ravel())"
   ]
  },
  {
   "cell_type": "code",
   "execution_count": 35,
   "id": "6e15e313",
   "metadata": {
    "execution": {
     "iopub.execute_input": "2025-08-19T19:01:48.081224Z",
     "iopub.status.busy": "2025-08-19T19:01:48.080727Z",
     "iopub.status.idle": "2025-08-19T19:01:48.183247Z",
     "shell.execute_reply": "2025-08-19T19:01:48.182621Z"
    },
    "papermill": {
     "duration": 0.115873,
     "end_time": "2025-08-19T19:01:48.184418",
     "exception": false,
     "start_time": "2025-08-19T19:01:48.068545",
     "status": "completed"
    },
    "tags": []
   },
   "outputs": [
    {
     "data": {
      "text/plain": [
       "0.8611971909486122"
      ]
     },
     "execution_count": 35,
     "metadata": {},
     "output_type": "execute_result"
    }
   ],
   "source": [
    "from fairness_multiverse.universe import predict_w_threshold\n",
    "\n",
    "probs_test = model.predict_proba(X_test)\n",
    "\n",
    "'''\n",
    "Below code returns a boolean array (or binary 0/1 array depending on how it’s used) where each element \n",
    "is True if the probability of class 1 is greater than or equal to the threshold, and False otherwise.\n",
    "'''\n",
    "y_pred_default = predict_w_threshold(probs_test, 0.5)\n",
    "\n",
    "from sklearn.metrics import accuracy_score\n",
    "\n",
    "# Naive prediction\n",
    "accuracy_score(y_true = y_true, y_pred = y_pred_default)"
   ]
  },
  {
   "cell_type": "code",
   "execution_count": 36,
   "id": "6f14067c",
   "metadata": {
    "execution": {
     "iopub.execute_input": "2025-08-19T19:01:48.209092Z",
     "iopub.status.busy": "2025-08-19T19:01:48.208222Z",
     "iopub.status.idle": "2025-08-19T19:01:48.301194Z",
     "shell.execute_reply": "2025-08-19T19:01:48.300483Z"
    },
    "papermill": {
     "duration": 0.10653,
     "end_time": "2025-08-19T19:01:48.302531",
     "exception": false,
     "start_time": "2025-08-19T19:01:48.196001",
     "status": "completed"
    },
    "tags": []
   },
   "outputs": [
    {
     "data": {
      "text/plain": [
       "array([0, 0, 0, ..., 0, 0, 0])"
      ]
     },
     "execution_count": 36,
     "metadata": {},
     "output_type": "execute_result"
    }
   ],
   "source": [
    "model.predict(X_test)"
   ]
  },
  {
   "cell_type": "markdown",
   "id": "3759920c",
   "metadata": {
    "papermill": {
     "duration": 0.017912,
     "end_time": "2025-08-19T19:01:48.338038",
     "exception": false,
     "start_time": "2025-08-19T19:01:48.320126",
     "status": "completed"
    },
    "tags": []
   },
   "source": [
    "# Conformal Prediction"
   ]
  },
  {
   "cell_type": "code",
   "execution_count": 37,
   "id": "14b27f59",
   "metadata": {
    "execution": {
     "iopub.execute_input": "2025-08-19T19:01:48.379085Z",
     "iopub.status.busy": "2025-08-19T19:01:48.378593Z",
     "iopub.status.idle": "2025-08-19T19:01:48.382822Z",
     "shell.execute_reply": "2025-08-19T19:01:48.382190Z"
    },
    "papermill": {
     "duration": 0.02015,
     "end_time": "2025-08-19T19:01:48.384286",
     "exception": false,
     "start_time": "2025-08-19T19:01:48.364136",
     "status": "completed"
    },
    "tags": []
   },
   "outputs": [],
   "source": [
    "# Miscoverage level for conformal prediction (10% allowed error rate => 90% target coverage)\n",
    "alpha = 0.1"
   ]
  },
  {
   "cell_type": "code",
   "execution_count": 38,
   "id": "59102472",
   "metadata": {
    "execution": {
     "iopub.execute_input": "2025-08-19T19:01:48.409480Z",
     "iopub.status.busy": "2025-08-19T19:01:48.409047Z",
     "iopub.status.idle": "2025-08-19T19:01:48.601087Z",
     "shell.execute_reply": "2025-08-19T19:01:48.600176Z"
    },
    "papermill": {
     "duration": 0.206027,
     "end_time": "2025-08-19T19:01:48.602437",
     "exception": false,
     "start_time": "2025-08-19T19:01:48.396410",
     "status": "completed"
    },
    "tags": []
   },
   "outputs": [],
   "source": [
    "probs_calib = model.predict_proba(X_calib)"
   ]
  },
  {
   "cell_type": "code",
   "execution_count": 39,
   "id": "a792d4dd",
   "metadata": {
    "execution": {
     "iopub.execute_input": "2025-08-19T19:01:48.628131Z",
     "iopub.status.busy": "2025-08-19T19:01:48.627214Z",
     "iopub.status.idle": "2025-08-19T19:01:48.632990Z",
     "shell.execute_reply": "2025-08-19T19:01:48.632387Z"
    },
    "papermill": {
     "duration": 0.019969,
     "end_time": "2025-08-19T19:01:48.634151",
     "exception": false,
     "start_time": "2025-08-19T19:01:48.614182",
     "status": "completed"
    },
    "tags": []
   },
   "outputs": [],
   "source": [
    "y_calib = y_calib.values.ravel().astype(int)"
   ]
  },
  {
   "cell_type": "code",
   "execution_count": 40,
   "id": "650fd033",
   "metadata": {
    "execution": {
     "iopub.execute_input": "2025-08-19T19:01:48.659923Z",
     "iopub.status.busy": "2025-08-19T19:01:48.658950Z",
     "iopub.status.idle": "2025-08-19T19:01:48.670671Z",
     "shell.execute_reply": "2025-08-19T19:01:48.669431Z"
    },
    "papermill": {
     "duration": 0.027037,
     "end_time": "2025-08-19T19:01:48.672569",
     "exception": false,
     "start_time": "2025-08-19T19:01:48.645532",
     "status": "completed"
    },
    "tags": []
   },
   "outputs": [],
   "source": [
    "from fairness_multiverse.conformal import compute_nc_scores\n",
    "\n",
    "# Compute nonconformity scores on calibration set (1 - probability of true class)\n",
    "nc_scores = compute_nc_scores(probs_calib, y_calib)"
   ]
  },
  {
   "cell_type": "code",
   "execution_count": 41,
   "id": "28ada44c",
   "metadata": {
    "execution": {
     "iopub.execute_input": "2025-08-19T19:01:48.704632Z",
     "iopub.status.busy": "2025-08-19T19:01:48.703579Z",
     "iopub.status.idle": "2025-08-19T19:01:48.713877Z",
     "shell.execute_reply": "2025-08-19T19:01:48.712454Z"
    },
    "papermill": {
     "duration": 0.027839,
     "end_time": "2025-08-19T19:01:48.715733",
     "exception": false,
     "start_time": "2025-08-19T19:01:48.687894",
     "status": "completed"
    },
    "tags": []
   },
   "outputs": [],
   "source": [
    "from fairness_multiverse.conformal import find_threshold\n",
    "\n",
    "# Find conformal threshold q_hat for the given alpha (split conformal method)\n",
    "q_hat = find_threshold(nc_scores, alpha)"
   ]
  },
  {
   "cell_type": "code",
   "execution_count": 42,
   "id": "df56469e",
   "metadata": {
    "execution": {
     "iopub.execute_input": "2025-08-19T19:01:48.746726Z",
     "iopub.status.busy": "2025-08-19T19:01:48.745598Z",
     "iopub.status.idle": "2025-08-19T19:01:48.755301Z",
     "shell.execute_reply": "2025-08-19T19:01:48.754118Z"
    },
    "papermill": {
     "duration": 0.024809,
     "end_time": "2025-08-19T19:01:48.757020",
     "exception": false,
     "start_time": "2025-08-19T19:01:48.732211",
     "status": "completed"
    },
    "tags": []
   },
   "outputs": [
    {
     "data": {
      "text/plain": [
       "0.6972899618471341"
      ]
     },
     "execution_count": 42,
     "metadata": {},
     "output_type": "execute_result"
    }
   ],
   "source": [
    "q_hat"
   ]
  },
  {
   "cell_type": "code",
   "execution_count": 43,
   "id": "aa1f5faa",
   "metadata": {
    "execution": {
     "iopub.execute_input": "2025-08-19T19:01:48.784697Z",
     "iopub.status.busy": "2025-08-19T19:01:48.783468Z",
     "iopub.status.idle": "2025-08-19T19:01:49.356181Z",
     "shell.execute_reply": "2025-08-19T19:01:49.354986Z"
    },
    "papermill": {
     "duration": 0.58737,
     "end_time": "2025-08-19T19:01:49.357657",
     "exception": false,
     "start_time": "2025-08-19T19:01:48.770287",
     "status": "completed"
    },
    "tags": []
   },
   "outputs": [],
   "source": [
    "from fairness_multiverse.conformal import predict_conformal_sets\n",
    "\n",
    "# Generate prediction sets for each test example\n",
    "pred_sets = predict_conformal_sets(model, X_test, q_hat)"
   ]
  },
  {
   "cell_type": "code",
   "execution_count": 44,
   "id": "97f67a6b",
   "metadata": {
    "execution": {
     "iopub.execute_input": "2025-08-19T19:01:49.394093Z",
     "iopub.status.busy": "2025-08-19T19:01:49.393195Z",
     "iopub.status.idle": "2025-08-19T19:01:49.400604Z",
     "shell.execute_reply": "2025-08-19T19:01:49.399848Z"
    },
    "papermill": {
     "duration": 0.032399,
     "end_time": "2025-08-19T19:01:49.402145",
     "exception": false,
     "start_time": "2025-08-19T19:01:49.369746",
     "status": "completed"
    },
    "tags": []
   },
   "outputs": [],
   "source": [
    "y_true = y_true.squeeze()"
   ]
  },
  {
   "cell_type": "code",
   "execution_count": 45,
   "id": "e700e9a7",
   "metadata": {
    "execution": {
     "iopub.execute_input": "2025-08-19T19:01:49.427746Z",
     "iopub.status.busy": "2025-08-19T19:01:49.427368Z",
     "iopub.status.idle": "2025-08-19T19:01:49.915936Z",
     "shell.execute_reply": "2025-08-19T19:01:49.914681Z"
    },
    "papermill": {
     "duration": 0.502514,
     "end_time": "2025-08-19T19:01:49.917407",
     "exception": false,
     "start_time": "2025-08-19T19:01:49.414893",
     "status": "completed"
    },
    "tags": []
   },
   "outputs": [],
   "source": [
    "from fairness_multiverse.conformal import evaluate_sets\n",
    "\n",
    "# Evaluate coverage and average set size on test data\n",
    "metrics = evaluate_sets(pred_sets, y_true)"
   ]
  },
  {
   "cell_type": "markdown",
   "id": "efbacec0",
   "metadata": {
    "papermill": {
     "duration": 0.011452,
     "end_time": "2025-08-19T19:01:49.941214",
     "exception": false,
     "start_time": "2025-08-19T19:01:49.929762",
     "status": "completed"
    },
    "tags": []
   },
   "source": [
    "# CP Metrics"
   ]
  },
  {
   "cell_type": "code",
   "execution_count": 46,
   "id": "9de55fb1",
   "metadata": {
    "execution": {
     "iopub.execute_input": "2025-08-19T19:01:49.970018Z",
     "iopub.status.busy": "2025-08-19T19:01:49.968791Z",
     "iopub.status.idle": "2025-08-19T19:01:49.982553Z",
     "shell.execute_reply": "2025-08-19T19:01:49.981195Z"
    },
    "papermill": {
     "duration": 0.032134,
     "end_time": "2025-08-19T19:01:49.984658",
     "exception": false,
     "start_time": "2025-08-19T19:01:49.952524",
     "status": "completed"
    },
    "tags": []
   },
   "outputs": [
    {
     "data": {
      "text/plain": [
       "{'coverage': 0.911793557017055, 'avg_size': 1.2003121168208672}"
      ]
     },
     "execution_count": 46,
     "metadata": {},
     "output_type": "execute_result"
    }
   ],
   "source": [
    "metrics"
   ]
  },
  {
   "cell_type": "code",
   "execution_count": 47,
   "id": "64c340a1",
   "metadata": {
    "execution": {
     "iopub.execute_input": "2025-08-19T19:01:50.016215Z",
     "iopub.status.busy": "2025-08-19T19:01:50.015233Z",
     "iopub.status.idle": "2025-08-19T19:01:50.024956Z",
     "shell.execute_reply": "2025-08-19T19:01:50.023827Z"
    },
    "papermill": {
     "duration": 0.024721,
     "end_time": "2025-08-19T19:01:50.026881",
     "exception": false,
     "start_time": "2025-08-19T19:01:50.002160",
     "status": "completed"
    },
    "tags": []
   },
   "outputs": [],
   "source": [
    "example_universe = universe.copy()\n",
    "universe_training_year = example_universe.get(\"training_year\")\n",
    "universe_training_size = example_universe.get(\"training_size\")\n",
    "universe_scale = example_universe.get(\"scale\")\n",
    "universe_model = example_universe.get(\"model\")\n",
    "universe_exclude_features = example_universe.get(\"exclude_features\")\n",
    "universe_exclude_subgroups = example_universe.get(\"exclude_subgroups\")"
   ]
  },
  {
   "cell_type": "code",
   "execution_count": 48,
   "id": "dbb53cb4",
   "metadata": {
    "execution": {
     "iopub.execute_input": "2025-08-19T19:01:50.060319Z",
     "iopub.status.busy": "2025-08-19T19:01:50.059333Z",
     "iopub.status.idle": "2025-08-19T19:01:50.071134Z",
     "shell.execute_reply": "2025-08-19T19:01:50.068544Z"
    },
    "papermill": {
     "duration": 0.028069,
     "end_time": "2025-08-19T19:01:50.072564",
     "exception": false,
     "start_time": "2025-08-19T19:01:50.044495",
     "status": "completed"
    },
    "tags": []
   },
   "outputs": [],
   "source": [
    "cp_metrics_dict = {\n",
    "    \"universe_id\": [universe_id],\n",
    "    \"universe_training_year\": [universe_training_year],\n",
    "    \"universe_training_size\": [universe_training_size],\n",
    "    \"universe_scale\": [universe_scale],\n",
    "    \"universe_model\": [universe_model],\n",
    "    \"universe_exclude_features\": [universe_exclude_features],\n",
    "    \"universe_exclude_subgroups\": [universe_exclude_subgroups],\n",
    "    \"q_hat\": [q_hat],\n",
    "    \"coverage\": [metrics[\"coverage\"]],\n",
    "    \"avg_size\": [metrics[\"avg_size\"]],\n",
    "}"
   ]
  },
  {
   "cell_type": "code",
   "execution_count": 49,
   "id": "0d70d4b2",
   "metadata": {
    "execution": {
     "iopub.execute_input": "2025-08-19T19:01:50.100026Z",
     "iopub.status.busy": "2025-08-19T19:01:50.099375Z",
     "iopub.status.idle": "2025-08-19T19:01:50.105041Z",
     "shell.execute_reply": "2025-08-19T19:01:50.104349Z"
    },
    "papermill": {
     "duration": 0.019179,
     "end_time": "2025-08-19T19:01:50.106197",
     "exception": false,
     "start_time": "2025-08-19T19:01:50.087018",
     "status": "completed"
    },
    "tags": []
   },
   "outputs": [],
   "source": [
    "cp_metrics_df = pd.DataFrame(cp_metrics_dict)"
   ]
  },
  {
   "cell_type": "code",
   "execution_count": 50,
   "id": "b494403c",
   "metadata": {
    "execution": {
     "iopub.execute_input": "2025-08-19T19:01:50.131106Z",
     "iopub.status.busy": "2025-08-19T19:01:50.130659Z",
     "iopub.status.idle": "2025-08-19T19:01:50.155860Z",
     "shell.execute_reply": "2025-08-19T19:01:50.155023Z"
    },
    "papermill": {
     "duration": 0.041408,
     "end_time": "2025-08-19T19:01:50.159484",
     "exception": false,
     "start_time": "2025-08-19T19:01:50.118076",
     "status": "completed"
    },
    "tags": []
   },
   "outputs": [
    {
     "data": {
      "text/html": [
       "<div>\n",
       "<style scoped>\n",
       "    .dataframe tbody tr th:only-of-type {\n",
       "        vertical-align: middle;\n",
       "    }\n",
       "\n",
       "    .dataframe tbody tr th {\n",
       "        vertical-align: top;\n",
       "    }\n",
       "\n",
       "    .dataframe thead th {\n",
       "        text-align: right;\n",
       "    }\n",
       "</style>\n",
       "<table border=\"1\" class=\"dataframe\">\n",
       "  <thead>\n",
       "    <tr style=\"text-align: right;\">\n",
       "      <th></th>\n",
       "      <th>universe_id</th>\n",
       "      <th>universe_training_year</th>\n",
       "      <th>universe_training_size</th>\n",
       "      <th>universe_scale</th>\n",
       "      <th>universe_model</th>\n",
       "      <th>universe_exclude_features</th>\n",
       "      <th>universe_exclude_subgroups</th>\n",
       "      <th>q_hat</th>\n",
       "      <th>coverage</th>\n",
       "      <th>avg_size</th>\n",
       "    </tr>\n",
       "  </thead>\n",
       "  <tbody>\n",
       "    <tr>\n",
       "      <th>0</th>\n",
       "      <td>ace6b4e5d8eed5e182389fe6c32f9a46</td>\n",
       "      <td>2012_14</td>\n",
       "      <td>1k</td>\n",
       "      <td>do-not-scale</td>\n",
       "      <td>penalized_logreg</td>\n",
       "      <td>sex</td>\n",
       "      <td>keep-all</td>\n",
       "      <td>0.69729</td>\n",
       "      <td>0.911794</td>\n",
       "      <td>1.200312</td>\n",
       "    </tr>\n",
       "  </tbody>\n",
       "</table>\n",
       "</div>"
      ],
      "text/plain": [
       "                        universe_id universe_training_year  \\\n",
       "0  ace6b4e5d8eed5e182389fe6c32f9a46                2012_14   \n",
       "\n",
       "  universe_training_size universe_scale    universe_model  \\\n",
       "0                     1k   do-not-scale  penalized_logreg   \n",
       "\n",
       "  universe_exclude_features universe_exclude_subgroups    q_hat  coverage  \\\n",
       "0                       sex                   keep-all  0.69729  0.911794   \n",
       "\n",
       "   avg_size  \n",
       "0  1.200312  "
      ]
     },
     "execution_count": 50,
     "metadata": {},
     "output_type": "execute_result"
    }
   ],
   "source": [
    "cp_metrics_df"
   ]
  },
  {
   "cell_type": "markdown",
   "id": "ed608b0b",
   "metadata": {
    "papermill": {
     "duration": 0.011765,
     "end_time": "2025-08-19T19:01:50.188279",
     "exception": false,
     "start_time": "2025-08-19T19:01:50.176514",
     "status": "completed"
    },
    "tags": []
   },
   "source": [
    "Conditional coverage & looking at subgroups"
   ]
  },
  {
   "cell_type": "code",
   "execution_count": 51,
   "id": "8968c366",
   "metadata": {
    "execution": {
     "iopub.execute_input": "2025-08-19T19:01:50.213770Z",
     "iopub.status.busy": "2025-08-19T19:01:50.213389Z",
     "iopub.status.idle": "2025-08-19T19:01:50.491147Z",
     "shell.execute_reply": "2025-08-19T19:01:50.490217Z"
    },
    "papermill": {
     "duration": 0.292305,
     "end_time": "2025-08-19T19:01:50.492810",
     "exception": false,
     "start_time": "2025-08-19T19:01:50.200505",
     "status": "completed"
    },
    "tags": []
   },
   "outputs": [],
   "source": [
    "from fairness_multiverse.conformal import build_cp_groups\n",
    "\n",
    "cp_groups_df = build_cp_groups(pred_sets, y_true, X_test.index, org_test)"
   ]
  },
  {
   "cell_type": "code",
   "execution_count": 52,
   "id": "292ddabf",
   "metadata": {
    "execution": {
     "iopub.execute_input": "2025-08-19T19:01:50.519577Z",
     "iopub.status.busy": "2025-08-19T19:01:50.518680Z",
     "iopub.status.idle": "2025-08-19T19:01:51.393183Z",
     "shell.execute_reply": "2025-08-19T19:01:51.391978Z"
    },
    "papermill": {
     "duration": 0.889347,
     "end_time": "2025-08-19T19:01:51.394777",
     "exception": false,
     "start_time": "2025-08-19T19:01:50.505430",
     "status": "completed"
    },
    "tags": []
   },
   "outputs": [],
   "source": [
    "# Define covered = 1 if true_label is in the predicted set\n",
    "cp_groups_df['covered'] = cp_groups_df.apply(\n",
    "    lambda r: int(r['true_label'] in r['pred_set']),\n",
    "    axis=1\n",
    ")"
   ]
  },
  {
   "cell_type": "code",
   "execution_count": 53,
   "id": "3a261692",
   "metadata": {
    "execution": {
     "iopub.execute_input": "2025-08-19T19:01:51.426619Z",
     "iopub.status.busy": "2025-08-19T19:01:51.426103Z",
     "iopub.status.idle": "2025-08-19T19:01:51.438924Z",
     "shell.execute_reply": "2025-08-19T19:01:51.438195Z"
    },
    "papermill": {
     "duration": 0.03097,
     "end_time": "2025-08-19T19:01:51.440226",
     "exception": false,
     "start_time": "2025-08-19T19:01:51.409256",
     "status": "completed"
    },
    "tags": []
   },
   "outputs": [],
   "source": [
    "subgroups = ['frau1','nongerman','nongerman_male','nongerman_female']\n",
    "\n",
    "# Conditional coverage for subgroup==1\n",
    "cond_coverage = {\n",
    "    g: cp_groups_df.loc[cp_groups_df[g]==1, 'covered'].mean()\n",
    "    for g in subgroups\n",
    "}"
   ]
  },
  {
   "cell_type": "code",
   "execution_count": 54,
   "id": "894fd600",
   "metadata": {
    "execution": {
     "iopub.execute_input": "2025-08-19T19:01:51.466332Z",
     "iopub.status.busy": "2025-08-19T19:01:51.465936Z",
     "iopub.status.idle": "2025-08-19T19:01:51.473444Z",
     "shell.execute_reply": "2025-08-19T19:01:51.472672Z"
    },
    "papermill": {
     "duration": 0.022198,
     "end_time": "2025-08-19T19:01:51.474991",
     "exception": false,
     "start_time": "2025-08-19T19:01:51.452793",
     "status": "completed"
    },
    "tags": []
   },
   "outputs": [
    {
     "data": {
      "text/plain": [
       "{'frau1': 0.9092600080873433,\n",
       " 'nongerman': 0.9268511761073374,\n",
       " 'nongerman_male': 0.9410970008105918,\n",
       " 'nongerman_female': 0.9032786885245901}"
      ]
     },
     "execution_count": 54,
     "metadata": {},
     "output_type": "execute_result"
    }
   ],
   "source": [
    "cond_coverage"
   ]
  },
  {
   "cell_type": "code",
   "execution_count": 55,
   "id": "942895c7",
   "metadata": {
    "execution": {
     "iopub.execute_input": "2025-08-19T19:01:51.501054Z",
     "iopub.status.busy": "2025-08-19T19:01:51.500659Z",
     "iopub.status.idle": "2025-08-19T19:01:51.507046Z",
     "shell.execute_reply": "2025-08-19T19:01:51.506320Z"
    },
    "papermill": {
     "duration": 0.020997,
     "end_time": "2025-08-19T19:01:51.508409",
     "exception": false,
     "start_time": "2025-08-19T19:01:51.487412",
     "status": "completed"
    },
    "tags": []
   },
   "outputs": [],
   "source": [
    "for subgroup, cov in cond_coverage.items():\n",
    "    cp_metrics_df[f\"cov_{subgroup}\"] = cov"
   ]
  },
  {
   "cell_type": "code",
   "execution_count": 56,
   "id": "3970120f",
   "metadata": {
    "execution": {
     "iopub.execute_input": "2025-08-19T19:01:51.535597Z",
     "iopub.status.busy": "2025-08-19T19:01:51.535197Z",
     "iopub.status.idle": "2025-08-19T19:01:51.551108Z",
     "shell.execute_reply": "2025-08-19T19:01:51.550339Z"
    },
    "papermill": {
     "duration": 0.031627,
     "end_time": "2025-08-19T19:01:51.552565",
     "exception": false,
     "start_time": "2025-08-19T19:01:51.520938",
     "status": "completed"
    },
    "tags": []
   },
   "outputs": [
    {
     "data": {
      "text/html": [
       "<div>\n",
       "<style scoped>\n",
       "    .dataframe tbody tr th:only-of-type {\n",
       "        vertical-align: middle;\n",
       "    }\n",
       "\n",
       "    .dataframe tbody tr th {\n",
       "        vertical-align: top;\n",
       "    }\n",
       "\n",
       "    .dataframe thead th {\n",
       "        text-align: right;\n",
       "    }\n",
       "</style>\n",
       "<table border=\"1\" class=\"dataframe\">\n",
       "  <thead>\n",
       "    <tr style=\"text-align: right;\">\n",
       "      <th></th>\n",
       "      <th>universe_id</th>\n",
       "      <th>universe_training_year</th>\n",
       "      <th>universe_training_size</th>\n",
       "      <th>universe_scale</th>\n",
       "      <th>universe_model</th>\n",
       "      <th>universe_exclude_features</th>\n",
       "      <th>universe_exclude_subgroups</th>\n",
       "      <th>q_hat</th>\n",
       "      <th>coverage</th>\n",
       "      <th>avg_size</th>\n",
       "      <th>cov_frau1</th>\n",
       "      <th>cov_nongerman</th>\n",
       "      <th>cov_nongerman_male</th>\n",
       "      <th>cov_nongerman_female</th>\n",
       "    </tr>\n",
       "  </thead>\n",
       "  <tbody>\n",
       "    <tr>\n",
       "      <th>0</th>\n",
       "      <td>ace6b4e5d8eed5e182389fe6c32f9a46</td>\n",
       "      <td>2012_14</td>\n",
       "      <td>1k</td>\n",
       "      <td>do-not-scale</td>\n",
       "      <td>penalized_logreg</td>\n",
       "      <td>sex</td>\n",
       "      <td>keep-all</td>\n",
       "      <td>0.69729</td>\n",
       "      <td>0.911794</td>\n",
       "      <td>1.200312</td>\n",
       "      <td>0.90926</td>\n",
       "      <td>0.926851</td>\n",
       "      <td>0.941097</td>\n",
       "      <td>0.903279</td>\n",
       "    </tr>\n",
       "  </tbody>\n",
       "</table>\n",
       "</div>"
      ],
      "text/plain": [
       "                        universe_id universe_training_year  \\\n",
       "0  ace6b4e5d8eed5e182389fe6c32f9a46                2012_14   \n",
       "\n",
       "  universe_training_size universe_scale    universe_model  \\\n",
       "0                     1k   do-not-scale  penalized_logreg   \n",
       "\n",
       "  universe_exclude_features universe_exclude_subgroups    q_hat  coverage  \\\n",
       "0                       sex                   keep-all  0.69729  0.911794   \n",
       "\n",
       "   avg_size  cov_frau1  cov_nongerman  cov_nongerman_male  \\\n",
       "0  1.200312    0.90926       0.926851            0.941097   \n",
       "\n",
       "   cov_nongerman_female  \n",
       "0              0.903279  "
      ]
     },
     "execution_count": 56,
     "metadata": {},
     "output_type": "execute_result"
    }
   ],
   "source": [
    "cp_metrics_df"
   ]
  },
  {
   "cell_type": "markdown",
   "id": "3fc519cc",
   "metadata": {
    "papermill": {
     "duration": 0.012198,
     "end_time": "2025-08-19T19:01:51.579409",
     "exception": false,
     "start_time": "2025-08-19T19:01:51.567211",
     "status": "completed"
    },
    "tags": []
   },
   "source": [
    "# (Fairness) Metrics"
   ]
  },
  {
   "cell_type": "code",
   "execution_count": 57,
   "id": "a2e5e155",
   "metadata": {
    "execution": {
     "iopub.execute_input": "2025-08-19T19:01:51.605476Z",
     "iopub.status.busy": "2025-08-19T19:01:51.605133Z",
     "iopub.status.idle": "2025-08-19T19:01:51.621135Z",
     "shell.execute_reply": "2025-08-19T19:01:51.620394Z"
    },
    "papermill": {
     "duration": 0.032142,
     "end_time": "2025-08-19T19:01:51.623768",
     "exception": false,
     "start_time": "2025-08-19T19:01:51.591626",
     "status": "completed"
    },
    "tags": []
   },
   "outputs": [],
   "source": [
    "colname_to_bin = \"maxdeutsch1\"\n",
    "majority_value = org_train[colname_to_bin].mode()[0]\n",
    "\n",
    "org_test[\"majmin\"] = np.where(org_test[colname_to_bin] == majority_value, \"majority\", \"minority\")"
   ]
  },
  {
   "cell_type": "code",
   "execution_count": 58,
   "id": "17e3e4d5",
   "metadata": {
    "execution": {
     "iopub.execute_input": "2025-08-19T19:01:51.667894Z",
     "iopub.status.busy": "2025-08-19T19:01:51.666884Z",
     "iopub.status.idle": "2025-08-19T19:01:53.399834Z",
     "shell.execute_reply": "2025-08-19T19:01:53.398570Z"
    },
    "papermill": {
     "duration": 1.750044,
     "end_time": "2025-08-19T19:01:53.401457",
     "exception": false,
     "start_time": "2025-08-19T19:01:51.651413",
     "status": "completed"
    },
    "tags": []
   },
   "outputs": [],
   "source": [
    "example_universe = universe.copy()\n",
    "example_universe[\"cutoff\"] = example_universe[\"cutoff\"][0]\n",
    "example_universe[\"eval_fairness_grouping\"] = example_universe[\"eval_fairness_grouping\"][0]\n",
    "fairness_dict, metric_frame = universe_analysis.compute_metrics(\n",
    "    example_universe,\n",
    "    y_pred_prob=probs_test,\n",
    "    y_test=y_true,\n",
    "    org_test=org_test,\n",
    ")"
   ]
  },
  {
   "cell_type": "markdown",
   "id": "1fb7a0e9",
   "metadata": {
    "papermill": {
     "duration": 0.022104,
     "end_time": "2025-08-19T19:01:53.446214",
     "exception": false,
     "start_time": "2025-08-19T19:01:53.424110",
     "status": "completed"
    },
    "tags": []
   },
   "source": [
    "# Overall"
   ]
  },
  {
   "cell_type": "markdown",
   "id": "be1784b1",
   "metadata": {
    "papermill": {
     "duration": 0.012362,
     "end_time": "2025-08-19T19:01:53.472373",
     "exception": false,
     "start_time": "2025-08-19T19:01:53.460011",
     "status": "completed"
    },
    "tags": []
   },
   "source": [
    "Main fairness target: Equalized Odds. Seems to be a better fit than equal opportunity, since we're not only interested in Y = 1. Seems to be a better fit than demographic parity, since we also care about accuracy, not just equal distribution of preds.\n",
    "\n",
    "Pick column for computation of fairness metrics\n",
    "\n",
    "Performance\n",
    "Overall performance measures, most interesting in relation to the measures split by group below"
   ]
  },
  {
   "cell_type": "code",
   "execution_count": 59,
   "id": "b7672bee",
   "metadata": {
    "execution": {
     "iopub.execute_input": "2025-08-19T19:01:53.498826Z",
     "iopub.status.busy": "2025-08-19T19:01:53.498471Z",
     "iopub.status.idle": "2025-08-19T19:01:53.506645Z",
     "shell.execute_reply": "2025-08-19T19:01:53.505999Z"
    },
    "papermill": {
     "duration": 0.025366,
     "end_time": "2025-08-19T19:01:53.510123",
     "exception": false,
     "start_time": "2025-08-19T19:01:53.484757",
     "status": "completed"
    },
    "tags": []
   },
   "outputs": [
    {
     "data": {
      "text/plain": [
       "accuracy                   0.214859\n",
       "balanced accuracy          0.527353\n",
       "f1                         0.236452\n",
       "precision                  0.135077\n",
       "false positive rate        0.892982\n",
       "false negative rate        0.052311\n",
       "selection rate             0.900000\n",
       "count                  89710.000000\n",
       "dtype: float64"
      ]
     },
     "execution_count": 59,
     "metadata": {},
     "output_type": "execute_result"
    }
   ],
   "source": [
    "metric_frame.overall"
   ]
  },
  {
   "cell_type": "markdown",
   "id": "d93333c9",
   "metadata": {
    "papermill": {
     "duration": 0.013507,
     "end_time": "2025-08-19T19:01:53.549024",
     "exception": false,
     "start_time": "2025-08-19T19:01:53.535517",
     "status": "completed"
    },
    "tags": []
   },
   "source": [
    "By Group"
   ]
  },
  {
   "cell_type": "code",
   "execution_count": 60,
   "id": "52256966",
   "metadata": {
    "execution": {
     "iopub.execute_input": "2025-08-19T19:01:53.577090Z",
     "iopub.status.busy": "2025-08-19T19:01:53.575984Z",
     "iopub.status.idle": "2025-08-19T19:01:53.598877Z",
     "shell.execute_reply": "2025-08-19T19:01:53.597950Z"
    },
    "papermill": {
     "duration": 0.038935,
     "end_time": "2025-08-19T19:01:53.600552",
     "exception": false,
     "start_time": "2025-08-19T19:01:53.561617",
     "status": "completed"
    },
    "tags": []
   },
   "outputs": [
    {
     "data": {
      "text/html": [
       "<div>\n",
       "<style scoped>\n",
       "    .dataframe tbody tr th:only-of-type {\n",
       "        vertical-align: middle;\n",
       "    }\n",
       "\n",
       "    .dataframe tbody tr th {\n",
       "        vertical-align: top;\n",
       "    }\n",
       "\n",
       "    .dataframe thead th {\n",
       "        text-align: right;\n",
       "    }\n",
       "</style>\n",
       "<table border=\"1\" class=\"dataframe\">\n",
       "  <thead>\n",
       "    <tr style=\"text-align: right;\">\n",
       "      <th></th>\n",
       "      <th>accuracy</th>\n",
       "      <th>balanced accuracy</th>\n",
       "      <th>f1</th>\n",
       "      <th>precision</th>\n",
       "      <th>false positive rate</th>\n",
       "      <th>false negative rate</th>\n",
       "      <th>selection rate</th>\n",
       "      <th>count</th>\n",
       "    </tr>\n",
       "    <tr>\n",
       "      <th>majmin</th>\n",
       "      <th></th>\n",
       "      <th></th>\n",
       "      <th></th>\n",
       "      <th></th>\n",
       "      <th></th>\n",
       "      <th></th>\n",
       "      <th></th>\n",
       "      <th></th>\n",
       "    </tr>\n",
       "  </thead>\n",
       "  <tbody>\n",
       "    <tr>\n",
       "      <th>majority</th>\n",
       "      <td>0.236143</td>\n",
       "      <td>0.533672</td>\n",
       "      <td>0.245027</td>\n",
       "      <td>0.140918</td>\n",
       "      <td>0.870731</td>\n",
       "      <td>0.061926</td>\n",
       "      <td>0.879630</td>\n",
       "      <td>69170.0</td>\n",
       "    </tr>\n",
       "    <tr>\n",
       "      <th>minority</th>\n",
       "      <td>0.143184</td>\n",
       "      <td>0.509155</td>\n",
       "      <td>0.209496</td>\n",
       "      <td>0.117215</td>\n",
       "      <td>0.966487</td>\n",
       "      <td>0.015203</td>\n",
       "      <td>0.968598</td>\n",
       "      <td>20540.0</td>\n",
       "    </tr>\n",
       "  </tbody>\n",
       "</table>\n",
       "</div>"
      ],
      "text/plain": [
       "          accuracy  balanced accuracy        f1  precision  \\\n",
       "majmin                                                       \n",
       "majority  0.236143           0.533672  0.245027   0.140918   \n",
       "minority  0.143184           0.509155  0.209496   0.117215   \n",
       "\n",
       "          false positive rate  false negative rate  selection rate    count  \n",
       "majmin                                                                       \n",
       "majority             0.870731             0.061926        0.879630  69170.0  \n",
       "minority             0.966487             0.015203        0.968598  20540.0  "
      ]
     },
     "execution_count": 60,
     "metadata": {},
     "output_type": "execute_result"
    }
   ],
   "source": [
    "metric_frame.by_group"
   ]
  },
  {
   "cell_type": "code",
   "execution_count": 61,
   "id": "6e6c20ae",
   "metadata": {
    "execution": {
     "iopub.execute_input": "2025-08-19T19:01:53.638708Z",
     "iopub.status.busy": "2025-08-19T19:01:53.637636Z",
     "iopub.status.idle": "2025-08-19T19:01:55.495455Z",
     "shell.execute_reply": "2025-08-19T19:01:55.494432Z"
    },
    "papermill": {
     "duration": 1.874206,
     "end_time": "2025-08-19T19:01:55.496946",
     "exception": false,
     "start_time": "2025-08-19T19:01:53.622740",
     "status": "completed"
    },
    "tags": []
   },
   "outputs": [
    {
     "data": {
      "text/plain": [
       "array([[<Axes: title={'center': 'accuracy'}, xlabel='majmin'>,\n",
       "        <Axes: title={'center': 'balanced accuracy'}, xlabel='majmin'>,\n",
       "        <Axes: title={'center': 'f1'}, xlabel='majmin'>],\n",
       "       [<Axes: title={'center': 'precision'}, xlabel='majmin'>,\n",
       "        <Axes: title={'center': 'false positive rate'}, xlabel='majmin'>,\n",
       "        <Axes: title={'center': 'false negative rate'}, xlabel='majmin'>],\n",
       "       [<Axes: title={'center': 'selection rate'}, xlabel='majmin'>,\n",
       "        <Axes: title={'center': 'count'}, xlabel='majmin'>,\n",
       "        <Axes: xlabel='majmin'>]], dtype=object)"
      ]
     },
     "execution_count": 61,
     "metadata": {},
     "output_type": "execute_result"
    },
    {
     "data": {
      "image/png": "[encoded data removed]",
      "text/plain": [
       "<Figure size 1200x800 with 9 Axes>"
      ]
     },
     "metadata": {},
     "output_type": "display_data"
    }
   ],
   "source": [
    "# In a graphic\n",
    "metric_frame.by_group.plot.bar(\n",
    "    subplots=True,\n",
    "    layout=[3, 3],\n",
    "    legend=False,\n",
    "    figsize=[12, 8],\n",
    "    title=\"Show all metrics\",\n",
    ")"
   ]
  },
  {
   "cell_type": "markdown",
   "id": "b2e433ae",
   "metadata": {
    "papermill": {
     "duration": 0.013768,
     "end_time": "2025-08-19T19:01:55.528259",
     "exception": false,
     "start_time": "2025-08-19T19:01:55.514491",
     "status": "completed"
    },
    "tags": []
   },
   "source": [
    "# Final Output"
   ]
  },
  {
   "cell_type": "code",
   "execution_count": 62,
   "id": "3871301e",
   "metadata": {
    "execution": {
     "iopub.execute_input": "2025-08-19T19:01:55.558410Z",
     "iopub.status.busy": "2025-08-19T19:01:55.557724Z",
     "iopub.status.idle": "2025-08-19T19:01:55.567024Z",
     "shell.execute_reply": "2025-08-19T19:01:55.566104Z"
    },
    "papermill": {
     "duration": 0.026492,
     "end_time": "2025-08-19T19:01:55.569022",
     "exception": false,
     "start_time": "2025-08-19T19:01:55.542530",
     "status": "completed"
    },
    "tags": []
   },
   "outputs": [
    {
     "data": {
      "text/plain": [
       "4"
      ]
     },
     "execution_count": 62,
     "metadata": {},
     "output_type": "execute_result"
    }
   ],
   "source": [
    "sub_universes = universe_analysis.generate_sub_universes()\n",
    "len(sub_universes)"
   ]
  },
  {
   "cell_type": "code",
   "execution_count": 63,
   "id": "d9cfdaca",
   "metadata": {
    "execution": {
     "iopub.execute_input": "2025-08-19T19:01:55.611876Z",
     "iopub.status.busy": "2025-08-19T19:01:55.609419Z",
     "iopub.status.idle": "2025-08-19T19:01:55.631874Z",
     "shell.execute_reply": "2025-08-19T19:01:55.630152Z"
    },
    "papermill": {
     "duration": 0.041655,
     "end_time": "2025-08-19T19:01:55.633898",
     "exception": false,
     "start_time": "2025-08-19T19:01:55.592243",
     "status": "completed"
    },
    "tags": []
   },
   "outputs": [],
   "source": [
    "def filter_sub_universe_data(sub_universe, org_test):\n",
    "    # Keep all rows — no filtering\n",
    "    keep_rows_mask = np.ones(org_test.shape[0], dtype=bool)\n",
    "\n",
    "    print(f\"[INFO] Keeping all rows: {keep_rows_mask.sum()} rows retained.\")\n",
    "    return keep_rows_mask"
   ]
  },
  {
   "cell_type": "code",
   "execution_count": 64,
   "id": "2bc31ac1",
   "metadata": {
    "execution": {
     "iopub.execute_input": "2025-08-19T19:01:55.675819Z",
     "iopub.status.busy": "2025-08-19T19:01:55.674697Z",
     "iopub.status.idle": "2025-08-19T19:02:02.421555Z",
     "shell.execute_reply": "2025-08-19T19:02:02.420541Z"
    },
    "papermill": {
     "duration": 6.764664,
     "end_time": "2025-08-19T19:02:02.423136",
     "exception": false,
     "start_time": "2025-08-19T19:01:55.658472",
     "status": "completed"
    },
    "tags": []
   },
   "outputs": [
    {
     "name": "stdout",
     "output_type": "stream",
     "text": [
      "Stopping execution_time clock.\n",
      "[INFO] Keeping all rows: 89710 rows retained.\n"
     ]
    },
    {
     "name": "stdout",
     "output_type": "stream",
     "text": [
      "[INFO] Keeping all rows: 89710 rows retained.\n"
     ]
    },
    {
     "name": "stdout",
     "output_type": "stream",
     "text": [
      "[INFO] Keeping all rows: 89710 rows retained.\n"
     ]
    },
    {
     "name": "stdout",
     "output_type": "stream",
     "text": [
      "[INFO] Keeping all rows: 89710 rows retained.\n"
     ]
    },
    {
     "data": {
      "text/html": [
       "<div>\n",
       "<style scoped>\n",
       "    .dataframe tbody tr th:only-of-type {\n",
       "        vertical-align: middle;\n",
       "    }\n",
       "\n",
       "    .dataframe tbody tr th {\n",
       "        vertical-align: top;\n",
       "    }\n",
       "\n",
       "    .dataframe thead th {\n",
       "        text-align: right;\n",
       "    }\n",
       "</style>\n",
       "<table border=\"1\" class=\"dataframe\">\n",
       "  <thead>\n",
       "    <tr style=\"text-align: right;\">\n",
       "      <th></th>\n",
       "      <th>run_no</th>\n",
       "      <th>universe_id</th>\n",
       "      <th>universe_settings</th>\n",
       "      <th>execution_time</th>\n",
       "      <th>test_size_n</th>\n",
       "      <th>test_size_frac</th>\n",
       "      <th>fair_main_equalized_odds_difference</th>\n",
       "      <th>fair_main_equalized_odds_ratio</th>\n",
       "      <th>fair_main_demographic_parity_difference</th>\n",
       "      <th>fair_main_demographic_parity_ratio</th>\n",
       "      <th>...</th>\n",
       "      <th>perf_grp_precision_0</th>\n",
       "      <th>perf_grp_precision_1</th>\n",
       "      <th>perf_grp_false positive rate_0</th>\n",
       "      <th>perf_grp_false positive rate_1</th>\n",
       "      <th>perf_grp_false negative rate_0</th>\n",
       "      <th>perf_grp_false negative rate_1</th>\n",
       "      <th>perf_grp_selection rate_0</th>\n",
       "      <th>perf_grp_selection rate_1</th>\n",
       "      <th>perf_grp_count_0</th>\n",
       "      <th>perf_grp_count_1</th>\n",
       "    </tr>\n",
       "  </thead>\n",
       "  <tbody>\n",
       "    <tr>\n",
       "      <th>0</th>\n",
       "      <td>3</td>\n",
       "      <td>ace6b4e5d8eed5e182389fe6c32f9a46</td>\n",
       "      <td>{\"cutoff\": \"quantile_0.1\", \"eval_fairness_grou...</td>\n",
       "      <td>21.469831</td>\n",
       "      <td>89710</td>\n",
       "      <td>1.0</td>\n",
       "      <td>0.095756</td>\n",
       "      <td>0.900924</td>\n",
       "      <td>0.088968</td>\n",
       "      <td>0.908148</td>\n",
       "      <td>...</td>\n",
       "      <td>NaN</td>\n",
       "      <td>NaN</td>\n",
       "      <td>NaN</td>\n",
       "      <td>NaN</td>\n",
       "      <td>NaN</td>\n",
       "      <td>NaN</td>\n",
       "      <td>NaN</td>\n",
       "      <td>NaN</td>\n",
       "      <td>NaN</td>\n",
       "      <td>NaN</td>\n",
       "    </tr>\n",
       "    <tr>\n",
       "      <th>0</th>\n",
       "      <td>3</td>\n",
       "      <td>ace6b4e5d8eed5e182389fe6c32f9a46</td>\n",
       "      <td>{\"cutoff\": \"quantile_0.1\", \"eval_fairness_grou...</td>\n",
       "      <td>21.469831</td>\n",
       "      <td>89710</td>\n",
       "      <td>1.0</td>\n",
       "      <td>0.095756</td>\n",
       "      <td>0.900924</td>\n",
       "      <td>0.088968</td>\n",
       "      <td>0.908148</td>\n",
       "      <td>...</td>\n",
       "      <td>0.117215</td>\n",
       "      <td>0.140918</td>\n",
       "      <td>0.966487</td>\n",
       "      <td>0.870731</td>\n",
       "      <td>0.015203</td>\n",
       "      <td>0.061926</td>\n",
       "      <td>0.968598</td>\n",
       "      <td>0.879630</td>\n",
       "      <td>20540.0</td>\n",
       "      <td>69170.0</td>\n",
       "    </tr>\n",
       "    <tr>\n",
       "      <th>0</th>\n",
       "      <td>3</td>\n",
       "      <td>ace6b4e5d8eed5e182389fe6c32f9a46</td>\n",
       "      <td>{\"cutoff\": \"quantile_0.25\", \"eval_fairness_gro...</td>\n",
       "      <td>21.469831</td>\n",
       "      <td>89710</td>\n",
       "      <td>1.0</td>\n",
       "      <td>0.216505</td>\n",
       "      <td>0.759059</td>\n",
       "      <td>0.199917</td>\n",
       "      <td>0.778887</td>\n",
       "      <td>...</td>\n",
       "      <td>NaN</td>\n",
       "      <td>NaN</td>\n",
       "      <td>NaN</td>\n",
       "      <td>NaN</td>\n",
       "      <td>NaN</td>\n",
       "      <td>NaN</td>\n",
       "      <td>NaN</td>\n",
       "      <td>NaN</td>\n",
       "      <td>NaN</td>\n",
       "      <td>NaN</td>\n",
       "    </tr>\n",
       "    <tr>\n",
       "      <th>0</th>\n",
       "      <td>3</td>\n",
       "      <td>ace6b4e5d8eed5e182389fe6c32f9a46</td>\n",
       "      <td>{\"cutoff\": \"quantile_0.25\", \"eval_fairness_gro...</td>\n",
       "      <td>21.469831</td>\n",
       "      <td>89710</td>\n",
       "      <td>1.0</td>\n",
       "      <td>0.216505</td>\n",
       "      <td>0.759059</td>\n",
       "      <td>0.199917</td>\n",
       "      <td>0.778887</td>\n",
       "      <td>...</td>\n",
       "      <td>0.120726</td>\n",
       "      <td>0.159430</td>\n",
       "      <td>0.898580</td>\n",
       "      <td>0.682076</td>\n",
       "      <td>0.053209</td>\n",
       "      <td>0.150328</td>\n",
       "      <td>0.904138</td>\n",
       "      <td>0.704221</td>\n",
       "      <td>20540.0</td>\n",
       "      <td>69170.0</td>\n",
       "    </tr>\n",
       "  </tbody>\n",
       "</table>\n",
       "<p>4 rows × 50 columns</p>\n",
       "</div>"
      ],
      "text/plain": [
       "  run_no                       universe_id  \\\n",
       "0      3  ace6b4e5d8eed5e182389fe6c32f9a46   \n",
       "0      3  ace6b4e5d8eed5e182389fe6c32f9a46   \n",
       "0      3  ace6b4e5d8eed5e182389fe6c32f9a46   \n",
       "0      3  ace6b4e5d8eed5e182389fe6c32f9a46   \n",
       "\n",
       "                                   universe_settings  execution_time  \\\n",
       "0  {\"cutoff\": \"quantile_0.1\", \"eval_fairness_grou...       21.469831   \n",
       "0  {\"cutoff\": \"quantile_0.1\", \"eval_fairness_grou...       21.469831   \n",
       "0  {\"cutoff\": \"quantile_0.25\", \"eval_fairness_gro...       21.469831   \n",
       "0  {\"cutoff\": \"quantile_0.25\", \"eval_fairness_gro...       21.469831   \n",
       "\n",
       "   test_size_n  test_size_frac  fair_main_equalized_odds_difference  \\\n",
       "0        89710             1.0                             0.095756   \n",
       "0        89710             1.0                             0.095756   \n",
       "0        89710             1.0                             0.216505   \n",
       "0        89710             1.0                             0.216505   \n",
       "\n",
       "   fair_main_equalized_odds_ratio  fair_main_demographic_parity_difference  \\\n",
       "0                        0.900924                                 0.088968   \n",
       "0                        0.900924                                 0.088968   \n",
       "0                        0.759059                                 0.199917   \n",
       "0                        0.759059                                 0.199917   \n",
       "\n",
       "   fair_main_demographic_parity_ratio  ...  perf_grp_precision_0  \\\n",
       "0                            0.908148  ...                   NaN   \n",
       "0                            0.908148  ...              0.117215   \n",
       "0                            0.778887  ...                   NaN   \n",
       "0                            0.778887  ...              0.120726   \n",
       "\n",
       "   perf_grp_precision_1  perf_grp_false positive rate_0  \\\n",
       "0                   NaN                             NaN   \n",
       "0              0.140918                        0.966487   \n",
       "0                   NaN                             NaN   \n",
       "0              0.159430                        0.898580   \n",
       "\n",
       "   perf_grp_false positive rate_1  perf_grp_false negative rate_0  \\\n",
       "0                             NaN                             NaN   \n",
       "0                        0.870731                        0.015203   \n",
       "0                             NaN                             NaN   \n",
       "0                        0.682076                        0.053209   \n",
       "\n",
       "   perf_grp_false negative rate_1  perf_grp_selection rate_0  \\\n",
       "0                             NaN                        NaN   \n",
       "0                        0.061926                   0.968598   \n",
       "0                             NaN                        NaN   \n",
       "0                        0.150328                   0.904138   \n",
       "\n",
       "   perf_grp_selection rate_1  perf_grp_count_0  perf_grp_count_1  \n",
       "0                        NaN               NaN               NaN  \n",
       "0                   0.879630           20540.0           69170.0  \n",
       "0                        NaN               NaN               NaN  \n",
       "0                   0.704221           20540.0           69170.0  \n",
       "\n",
       "[4 rows x 50 columns]"
      ]
     },
     "execution_count": 64,
     "metadata": {},
     "output_type": "execute_result"
    }
   ],
   "source": [
    "final_output = universe_analysis.generate_final_output(\n",
    "    y_pred_prob=probs_test,\n",
    "    y_test=y_true,\n",
    "    org_test=org_test,\n",
    "    filter_data=filter_sub_universe_data,\n",
    "    cp_metrics_df=cp_metrics_df,\n",
    "    save=True,\n",
    ")\n",
    "final_output"
   ]
  },
  {
   "cell_type": "code",
   "execution_count": null,
   "id": "8b80a1ff",
   "metadata": {
    "papermill": {
     "duration": 0.014393,
     "end_time": "2025-08-19T19:02:02.456961",
     "exception": false,
     "start_time": "2025-08-19T19:02:02.442568",
     "status": "completed"
    },
    "tags": []
   },
   "outputs": [],
   "source": []
  },
  {
   "cell_type": "code",
   "execution_count": null,
   "id": "275c9fad",
   "metadata": {
    "papermill": {
     "duration": 0.015292,
     "end_time": "2025-08-19T19:02:02.486970",
     "exception": false,
     "start_time": "2025-08-19T19:02:02.471678",
     "status": "completed"
    },
    "tags": []
   },
   "outputs": [],
   "source": []
  }
 ],
 "metadata": {
  "celltoolbar": "Tags",
  "kernelspec": {
   "display_name": "Python (CMA Fairness)",
   "language": "python",
   "name": "cma_fair_env"
  },
  "language_info": {
   "codemirror_mode": {
    "name": "ipython",
    "version": 3
   },
   "file_extension": ".py",
   "mimetype": "text/x-python",
   "name": "python",
   "nbconvert_exporter": "python",
   "pygments_lexer": "ipython3",
   "version": "3.10.12"
  },
  "papermill": {
   "default_parameters": {},
   "duration": 32.112289,
   "end_time": "2025-08-19T19:02:03.433616",
   "environment_variables": {},
   "exception": null,
   "input_path": "universe_analysis.ipynb",
   "output_path": "output/runs/3/notebooks/m_3-ace6b4e5d8eed5e182389fe6c32f9a46.ipynb",
   "parameters": {
    "output_dir": "output",
    "run_no": "3",
    "seed": "2023",
    "universe": "{\"cutoff\": [\"quantile_0.1\", \"quantile_0.25\"], \"eval_fairness_grouping\": [\"majority-minority\", \"nationality-all\"], \"exclude_features\": \"sex\", \"exclude_subgroups\": \"keep-all\", \"model\": \"penalized_logreg\", \"scale\": \"do-not-scale\", \"training_size\": \"1k\", \"training_year\": \"2012_14\"}",
    "universe_id": "ace6b4e5d8eed5e182389fe6c32f9a46"
   },
   "start_time": "2025-08-19T19:01:31.321327",
   "version": "2.6.0"
  }
 },
 "nbformat": 4,
 "nbformat_minor": 5
}