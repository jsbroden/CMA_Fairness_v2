{
 "cells": [
  {
   "cell_type": "markdown",
   "id": "ef23dbb3",
   "metadata": {
    "papermill": {
     "duration": 0.014668,
     "end_time": "2025-08-19T19:07:54.141058",
     "exception": false,
     "start_time": "2025-08-19T19:07:54.126390",
     "status": "completed"
    },
    "tags": []
   },
   "source": [
    "# Setup"
   ]
  },
  {
   "cell_type": "code",
   "execution_count": 1,
   "id": "0bc8e7dc",
   "metadata": {
    "execution": {
     "iopub.execute_input": "2025-08-19T19:07:54.173928Z",
     "iopub.status.busy": "2025-08-19T19:07:54.173211Z",
     "iopub.status.idle": "2025-08-19T19:07:54.193610Z",
     "shell.execute_reply": "2025-08-19T19:07:54.192572Z"
    },
    "papermill": {
     "duration": 0.042871,
     "end_time": "2025-08-19T19:07:54.195609",
     "exception": false,
     "start_time": "2025-08-19T19:07:54.152738",
     "status": "completed"
    },
    "tags": []
   },
   "outputs": [
    {
     "name": "stdout",
     "output_type": "stream",
     "text": [
      "/dss/dsshome1/0C/ra93lal2/cma/CMA_Fairness_v2\n"
     ]
    },
    {
     "name": "stderr",
     "output_type": "stream",
     "text": [
      "/dss/dsshome1/0C/ra93lal2/.local/share/virtualenvs/CMA_Fairness_v2-3j10GkSs/lib/python3.10/site-packages/IPython/core/magics/osm.py:393: UserWarning: This is now an optional IPython functionality, using bookmarks requires you to install the `pickleshare` library.\n",
      "  bkms = self.shell.db.get('bookmarks', {})\n",
      "/dss/dsshome1/0C/ra93lal2/.local/share/virtualenvs/CMA_Fairness_v2-3j10GkSs/lib/python3.10/site-packages/IPython/core/magics/osm.py:417: UserWarning: This is now an optional IPython functionality, setting dhist requires you to install the `pickleshare` library.\n",
      "  self.shell.db['dhist'] = compress_dhist(dhist)[-100:]\n"
     ]
    }
   ],
   "source": [
    "%cd ~/cma/CMA_Fairness_v2"
   ]
  },
  {
   "cell_type": "markdown",
   "id": "9d235661",
   "metadata": {
    "papermill": {
     "duration": 0.011606,
     "end_time": "2025-08-19T19:07:54.227238",
     "exception": false,
     "start_time": "2025-08-19T19:07:54.215632",
     "status": "completed"
    },
    "tags": []
   },
   "source": [
    "The following cell holds the definition of our parameters, these values can be overriden by rendering the with e.g. the following command:\n",
    "\n",
    "papermill -p alpha 0.2 -p ratio 0.3 universe_analysis.ipynb output/test_run.ipynb"
   ]
  },
  {
   "cell_type": "code",
   "execution_count": 2,
   "id": "4a789d8e",
   "metadata": {
    "execution": {
     "iopub.execute_input": "2025-08-19T19:07:54.274966Z",
     "iopub.status.busy": "2025-08-19T19:07:54.274621Z",
     "iopub.status.idle": "2025-08-19T19:07:54.279739Z",
     "shell.execute_reply": "2025-08-19T19:07:54.278904Z"
    },
    "papermill": {
     "duration": 0.02673,
     "end_time": "2025-08-19T19:07:54.281052",
     "exception": false,
     "start_time": "2025-08-19T19:07:54.254322",
     "status": "completed"
    },
    "tags": []
   },
   "outputs": [
    {
     "name": "stdout",
     "output_type": "stream",
     "text": [
      "Current working directory: /dss/dsshome1/0C/ra93lal2/cma/CMA_Fairness_v2\n"
     ]
    }
   ],
   "source": [
    "import os\n",
    "print(\"Current working directory:\", os.getcwd())"
   ]
  },
  {
   "cell_type": "code",
   "execution_count": 3,
   "id": "4132aaed",
   "metadata": {
    "execution": {
     "iopub.execute_input": "2025-08-19T19:07:54.300858Z",
     "iopub.status.busy": "2025-08-19T19:07:54.300533Z",
     "iopub.status.idle": "2025-08-19T19:07:54.308399Z",
     "shell.execute_reply": "2025-08-19T19:07:54.307186Z"
    },
    "papermill": {
     "duration": 0.019996,
     "end_time": "2025-08-19T19:07:54.310510",
     "exception": false,
     "start_time": "2025-08-19T19:07:54.290514",
     "status": "completed"
    },
    "tags": [
     "parameters"
    ]
   },
   "outputs": [],
   "source": [
    "run_no = 0\n",
    "universe_id = \"test\"\n",
    "universe = {\n",
    "    \"training_size\": \"5k\", # \"25k\", \"5k\", \"1k\"\n",
    "    \"training_year\": \"2012_14\", # \"2014\", \"2012_14\", \"2010_14\"\n",
    "    \"scale\": \"scale\", # \"scale\", \"do-not-scale\",\n",
    "    \"model\": \"elasticnet\", # \"logreg\", \"penalized_logreg\", \"rf\", \"gbm\", \"elasticnet\"\n",
    "    \"cutoff\": [\"quantile_0.15\", \"quantile_0.30\"],\n",
    "    \"exclude_features\": \"age\", # \"none\", \"nationality\", \"sex\", \"nationality-sex\", \"age\"\n",
    "    \"exclude_subgroups\": \"drop-non-german\", # \"keep-all\", \"drop-non-german\"\n",
    "    \"eval_fairness_grouping\": [\"majority-minority\", \"nationality-all\"]\n",
    "}\n",
    "\n",
    "output_dir=\"./output\"\n",
    "seed=0"
   ]
  },
  {
   "cell_type": "code",
   "execution_count": 4,
   "id": "290a613f",
   "metadata": {
    "execution": {
     "iopub.execute_input": "2025-08-19T19:07:54.346102Z",
     "iopub.status.busy": "2025-08-19T19:07:54.345819Z",
     "iopub.status.idle": "2025-08-19T19:07:54.351870Z",
     "shell.execute_reply": "2025-08-19T19:07:54.350160Z"
    },
    "papermill": {
     "duration": 0.021724,
     "end_time": "2025-08-19T19:07:54.353533",
     "exception": false,
     "start_time": "2025-08-19T19:07:54.331809",
     "status": "completed"
    },
    "tags": [
     "injected-parameters"
    ]
   },
   "outputs": [],
   "source": [
    "# Parameters\n",
    "universe_id = \"ecaac092d3caf56aa3010576b3441167\"\n",
    "run_no = \"3\"\n",
    "universe = \"{\\\"cutoff\\\": [\\\"quantile_0.1\\\", \\\"quantile_0.25\\\"], \\\"eval_fairness_grouping\\\": [\\\"majority-minority\\\", \\\"nationality-all\\\"], \\\"exclude_features\\\": \\\"none\\\", \\\"exclude_subgroups\\\": \\\"drop-non-german\\\", \\\"model\\\": \\\"elasticnet\\\", \\\"scale\\\": \\\"scale\\\", \\\"training_size\\\": \\\"1k\\\", \\\"training_year\\\": \\\"2010_14\\\"}\"\n",
    "output_dir = \"output\"\n",
    "seed = \"2023\"\n"
   ]
  },
  {
   "cell_type": "code",
   "execution_count": 5,
   "id": "a5d7941f",
   "metadata": {
    "execution": {
     "iopub.execute_input": "2025-08-19T19:07:54.374104Z",
     "iopub.status.busy": "2025-08-19T19:07:54.373835Z",
     "iopub.status.idle": "2025-08-19T19:07:54.401076Z",
     "shell.execute_reply": "2025-08-19T19:07:54.399818Z"
    },
    "papermill": {
     "duration": 0.039413,
     "end_time": "2025-08-19T19:07:54.402936",
     "exception": false,
     "start_time": "2025-08-19T19:07:54.363523",
     "status": "completed"
    },
    "tags": []
   },
   "outputs": [],
   "source": [
    "import json\n",
    "if isinstance(universe, str):\n",
    "    universe = json.loads(universe)"
   ]
  },
  {
   "cell_type": "code",
   "execution_count": 6,
   "id": "7076ccb1",
   "metadata": {
    "execution": {
     "iopub.execute_input": "2025-08-19T19:07:54.424020Z",
     "iopub.status.busy": "2025-08-19T19:07:54.423735Z",
     "iopub.status.idle": "2025-08-19T19:07:54.460150Z",
     "shell.execute_reply": "2025-08-19T19:07:54.459029Z"
    },
    "papermill": {
     "duration": 0.04773,
     "end_time": "2025-08-19T19:07:54.461472",
     "exception": false,
     "start_time": "2025-08-19T19:07:54.413742",
     "status": "completed"
    },
    "tags": []
   },
   "outputs": [],
   "source": [
    "# Auto-reload the custom package\n",
    "%load_ext autoreload\n",
    "%autoreload 1\n",
    "%aimport fairness_multiverse"
   ]
  },
  {
   "cell_type": "code",
   "execution_count": 7,
   "id": "94c8eb93",
   "metadata": {
    "execution": {
     "iopub.execute_input": "2025-08-19T19:07:54.483966Z",
     "iopub.status.busy": "2025-08-19T19:07:54.482664Z",
     "iopub.status.idle": "2025-08-19T19:07:56.011434Z",
     "shell.execute_reply": "2025-08-19T19:07:56.010578Z"
    },
    "papermill": {
     "duration": 1.542161,
     "end_time": "2025-08-19T19:07:56.013111",
     "exception": false,
     "start_time": "2025-08-19T19:07:54.470950",
     "status": "completed"
    },
    "tags": []
   },
   "outputs": [],
   "source": [
    "from fairness_multiverse.universe import UniverseAnalysis\n",
    "\n",
    "universe_analysis = UniverseAnalysis(\n",
    "    run_no = run_no,\n",
    "    universe_id = universe_id,\n",
    "    universe = universe,\n",
    "    output_dir=output_dir,\n",
    ")"
   ]
  },
  {
   "cell_type": "code",
   "execution_count": 8,
   "id": "2a6381cf",
   "metadata": {
    "execution": {
     "iopub.execute_input": "2025-08-19T19:07:56.033606Z",
     "iopub.status.busy": "2025-08-19T19:07:56.033179Z",
     "iopub.status.idle": "2025-08-19T19:07:56.038194Z",
     "shell.execute_reply": "2025-08-19T19:07:56.037542Z"
    },
    "papermill": {
     "duration": 0.018293,
     "end_time": "2025-08-19T19:07:56.041204",
     "exception": false,
     "start_time": "2025-08-19T19:07:56.022911",
     "status": "completed"
    },
    "tags": []
   },
   "outputs": [
    {
     "name": "stdout",
     "output_type": "stream",
     "text": [
      "Using Seed: 2023\n"
     ]
    }
   ],
   "source": [
    "import numpy as np\n",
    "parsed_seed = int(seed)\n",
    "np.random.seed(parsed_seed)\n",
    "print(f\"Using Seed: {parsed_seed}\")"
   ]
  },
  {
   "cell_type": "markdown",
   "id": "b6e958b4",
   "metadata": {
    "papermill": {
     "duration": 0.0093,
     "end_time": "2025-08-19T19:07:56.059803",
     "exception": false,
     "start_time": "2025-08-19T19:07:56.050503",
     "status": "completed"
    },
    "tags": []
   },
   "source": [
    "# Loading Data"
   ]
  },
  {
   "cell_type": "code",
   "execution_count": 9,
   "id": "98701482",
   "metadata": {
    "execution": {
     "iopub.execute_input": "2025-08-19T19:07:56.079480Z",
     "iopub.status.busy": "2025-08-19T19:07:56.079082Z",
     "iopub.status.idle": "2025-08-19T19:08:05.978367Z",
     "shell.execute_reply": "2025-08-19T19:08:05.977712Z"
    },
    "papermill": {
     "duration": 9.910832,
     "end_time": "2025-08-19T19:08:05.979651",
     "exception": false,
     "start_time": "2025-08-19T19:07:56.068819",
     "status": "completed"
    },
    "tags": []
   },
   "outputs": [
    {
     "name": "stdout",
     "output_type": "stream",
     "text": [
      "Loading SIAB data from cache: data/siab_cached.csv.gz\n"
     ]
    },
    {
     "name": "stdout",
     "output_type": "stream",
     "text": [
      "(643690, 164)\n"
     ]
    }
   ],
   "source": [
    "from pathlib import Path\n",
    "import pandas as pd\n",
    "\n",
    "# File paths\n",
    "raw_file = Path(\"data/raw/siab.csv\")\n",
    "cache_file = Path(\"data/siab_cached.csv.gz\")\n",
    "\n",
    "# Ensure cache directory exists\n",
    "cache_file.parent.mkdir(parents=True, exist_ok=True)\n",
    "\n",
    "# Load with simple caching\n",
    "if cache_file.exists():\n",
    "    print(f\"Loading SIAB data from cache: {cache_file}\")\n",
    "    siab = pd.read_csv(cache_file, compression='gzip')\n",
    "else:\n",
    "    print(f\"Cache not found. Reading raw SIAB data: {raw_file}\")\n",
    "    siab = pd.read_csv(raw_file)\n",
    "    siab.to_csv(cache_file, index=False, compression='gzip')\n",
    "    print(f\"Cached SIAB data to: {cache_file}\")\n",
    "\n",
    "print(siab.shape)"
   ]
  },
  {
   "cell_type": "code",
   "execution_count": 10,
   "id": "058d2abb",
   "metadata": {
    "execution": {
     "iopub.execute_input": "2025-08-19T19:08:06.013012Z",
     "iopub.status.busy": "2025-08-19T19:08:06.012651Z",
     "iopub.status.idle": "2025-08-19T19:08:06.133438Z",
     "shell.execute_reply": "2025-08-19T19:08:06.132139Z"
    },
    "papermill": {
     "duration": 0.143587,
     "end_time": "2025-08-19T19:08:06.139400",
     "exception": false,
     "start_time": "2025-08-19T19:08:05.995813",
     "status": "completed"
    },
    "tags": []
   },
   "outputs": [
    {
     "data": {
      "text/html": [
       "<div>\n",
       "<style scoped>\n",
       "    .dataframe tbody tr th:only-of-type {\n",
       "        vertical-align: middle;\n",
       "    }\n",
       "\n",
       "    .dataframe tbody tr th {\n",
       "        vertical-align: top;\n",
       "    }\n",
       "\n",
       "    .dataframe thead th {\n",
       "        text-align: right;\n",
       "    }\n",
       "</style>\n",
       "<table border=\"1\" class=\"dataframe\">\n",
       "  <thead>\n",
       "    <tr style=\"text-align: right;\">\n",
       "      <th></th>\n",
       "      <th>persnr</th>\n",
       "      <th>year</th>\n",
       "      <th>nrEntry</th>\n",
       "      <th>ltue</th>\n",
       "      <th>employed_before</th>\n",
       "      <th>receipt_leh_before</th>\n",
       "      <th>receipt_lhg_before</th>\n",
       "      <th>se_before</th>\n",
       "      <th>ASU_notue_seeking_before</th>\n",
       "      <th>ASU_other_before</th>\n",
       "      <th>...</th>\n",
       "      <th>minijob_tot_dur_byage</th>\n",
       "      <th>ft_tot_dur_byage</th>\n",
       "      <th>befrist_tot_dur_byage</th>\n",
       "      <th>leih_tot_dur_byage</th>\n",
       "      <th>LHG_tot_dur_byage</th>\n",
       "      <th>LEH_tot_dur_byage</th>\n",
       "      <th>almp_tot_dur_byage</th>\n",
       "      <th>almp_aw_tot_dur_byage</th>\n",
       "      <th>se_tot_dur_byage</th>\n",
       "      <th>seeking1_tot_dur_byage</th>\n",
       "    </tr>\n",
       "  </thead>\n",
       "  <tbody>\n",
       "    <tr>\n",
       "      <th>0</th>\n",
       "      <td>7</td>\n",
       "      <td>2015</td>\n",
       "      <td>1</td>\n",
       "      <td>0</td>\n",
       "      <td>1</td>\n",
       "      <td>0</td>\n",
       "      <td>0</td>\n",
       "      <td>0</td>\n",
       "      <td>1</td>\n",
       "      <td>0</td>\n",
       "      <td>...</td>\n",
       "      <td>0.000000</td>\n",
       "      <td>0.000000</td>\n",
       "      <td>15.043478</td>\n",
       "      <td>0.000000</td>\n",
       "      <td>0.000000</td>\n",
       "      <td>0.000000</td>\n",
       "      <td>0.000000</td>\n",
       "      <td>0.000000</td>\n",
       "      <td>0.000000</td>\n",
       "      <td>0.000000</td>\n",
       "    </tr>\n",
       "    <tr>\n",
       "      <th>1</th>\n",
       "      <td>18</td>\n",
       "      <td>2010</td>\n",
       "      <td>1</td>\n",
       "      <td>1</td>\n",
       "      <td>0</td>\n",
       "      <td>0</td>\n",
       "      <td>0</td>\n",
       "      <td>0</td>\n",
       "      <td>0</td>\n",
       "      <td>0</td>\n",
       "      <td>...</td>\n",
       "      <td>0.000000</td>\n",
       "      <td>0.000000</td>\n",
       "      <td>0.000000</td>\n",
       "      <td>0.000000</td>\n",
       "      <td>0.000000</td>\n",
       "      <td>0.000000</td>\n",
       "      <td>0.000000</td>\n",
       "      <td>0.000000</td>\n",
       "      <td>0.000000</td>\n",
       "      <td>0.000000</td>\n",
       "    </tr>\n",
       "    <tr>\n",
       "      <th>2</th>\n",
       "      <td>18</td>\n",
       "      <td>2011</td>\n",
       "      <td>2</td>\n",
       "      <td>0</td>\n",
       "      <td>1</td>\n",
       "      <td>0</td>\n",
       "      <td>1</td>\n",
       "      <td>0</td>\n",
       "      <td>1</td>\n",
       "      <td>0</td>\n",
       "      <td>...</td>\n",
       "      <td>2.714286</td>\n",
       "      <td>2.714286</td>\n",
       "      <td>0.000000</td>\n",
       "      <td>0.000000</td>\n",
       "      <td>10.775510</td>\n",
       "      <td>0.000000</td>\n",
       "      <td>8.367347</td>\n",
       "      <td>0.000000</td>\n",
       "      <td>0.000000</td>\n",
       "      <td>9.836735</td>\n",
       "    </tr>\n",
       "    <tr>\n",
       "      <th>3</th>\n",
       "      <td>18</td>\n",
       "      <td>2012</td>\n",
       "      <td>3</td>\n",
       "      <td>0</td>\n",
       "      <td>1</td>\n",
       "      <td>0</td>\n",
       "      <td>1</td>\n",
       "      <td>0</td>\n",
       "      <td>1</td>\n",
       "      <td>0</td>\n",
       "      <td>...</td>\n",
       "      <td>4.200000</td>\n",
       "      <td>4.200000</td>\n",
       "      <td>0.000000</td>\n",
       "      <td>0.000000</td>\n",
       "      <td>12.100000</td>\n",
       "      <td>0.000000</td>\n",
       "      <td>9.400000</td>\n",
       "      <td>0.000000</td>\n",
       "      <td>0.000000</td>\n",
       "      <td>9.960000</td>\n",
       "    </tr>\n",
       "    <tr>\n",
       "      <th>4</th>\n",
       "      <td>18</td>\n",
       "      <td>2012</td>\n",
       "      <td>4</td>\n",
       "      <td>0</td>\n",
       "      <td>1</td>\n",
       "      <td>0</td>\n",
       "      <td>1</td>\n",
       "      <td>0</td>\n",
       "      <td>1</td>\n",
       "      <td>0</td>\n",
       "      <td>...</td>\n",
       "      <td>5.460000</td>\n",
       "      <td>5.460000</td>\n",
       "      <td>0.000000</td>\n",
       "      <td>0.000000</td>\n",
       "      <td>13.360000</td>\n",
       "      <td>0.000000</td>\n",
       "      <td>10.320000</td>\n",
       "      <td>0.000000</td>\n",
       "      <td>0.000000</td>\n",
       "      <td>10.280000</td>\n",
       "    </tr>\n",
       "    <tr>\n",
       "      <th>...</th>\n",
       "      <td>...</td>\n",
       "      <td>...</td>\n",
       "      <td>...</td>\n",
       "      <td>...</td>\n",
       "      <td>...</td>\n",
       "      <td>...</td>\n",
       "      <td>...</td>\n",
       "      <td>...</td>\n",
       "      <td>...</td>\n",
       "      <td>...</td>\n",
       "      <td>...</td>\n",
       "      <td>...</td>\n",
       "      <td>...</td>\n",
       "      <td>...</td>\n",
       "      <td>...</td>\n",
       "      <td>...</td>\n",
       "      <td>...</td>\n",
       "      <td>...</td>\n",
       "      <td>...</td>\n",
       "      <td>...</td>\n",
       "      <td>...</td>\n",
       "    </tr>\n",
       "    <tr>\n",
       "      <th>643685</th>\n",
       "      <td>1827860</td>\n",
       "      <td>2013</td>\n",
       "      <td>1</td>\n",
       "      <td>0</td>\n",
       "      <td>0</td>\n",
       "      <td>0</td>\n",
       "      <td>1</td>\n",
       "      <td>0</td>\n",
       "      <td>0</td>\n",
       "      <td>1</td>\n",
       "      <td>...</td>\n",
       "      <td>0.000000</td>\n",
       "      <td>0.000000</td>\n",
       "      <td>0.000000</td>\n",
       "      <td>0.000000</td>\n",
       "      <td>0.612903</td>\n",
       "      <td>0.000000</td>\n",
       "      <td>0.000000</td>\n",
       "      <td>0.000000</td>\n",
       "      <td>0.000000</td>\n",
       "      <td>0.000000</td>\n",
       "    </tr>\n",
       "    <tr>\n",
       "      <th>643686</th>\n",
       "      <td>1827860</td>\n",
       "      <td>2015</td>\n",
       "      <td>2</td>\n",
       "      <td>1</td>\n",
       "      <td>0</td>\n",
       "      <td>0</td>\n",
       "      <td>1</td>\n",
       "      <td>0</td>\n",
       "      <td>1</td>\n",
       "      <td>0</td>\n",
       "      <td>...</td>\n",
       "      <td>0.000000</td>\n",
       "      <td>0.000000</td>\n",
       "      <td>0.212121</td>\n",
       "      <td>0.212121</td>\n",
       "      <td>17.363636</td>\n",
       "      <td>0.000000</td>\n",
       "      <td>8.909091</td>\n",
       "      <td>0.000000</td>\n",
       "      <td>0.000000</td>\n",
       "      <td>7.121212</td>\n",
       "    </tr>\n",
       "    <tr>\n",
       "      <th>643687</th>\n",
       "      <td>1827860</td>\n",
       "      <td>2016</td>\n",
       "      <td>3</td>\n",
       "      <td>1</td>\n",
       "      <td>0</td>\n",
       "      <td>0</td>\n",
       "      <td>1</td>\n",
       "      <td>1</td>\n",
       "      <td>0</td>\n",
       "      <td>1</td>\n",
       "      <td>...</td>\n",
       "      <td>0.000000</td>\n",
       "      <td>0.000000</td>\n",
       "      <td>0.294118</td>\n",
       "      <td>0.205882</td>\n",
       "      <td>34.705882</td>\n",
       "      <td>0.000000</td>\n",
       "      <td>10.352941</td>\n",
       "      <td>1.705882</td>\n",
       "      <td>1.705882</td>\n",
       "      <td>23.911765</td>\n",
       "    </tr>\n",
       "    <tr>\n",
       "      <th>643688</th>\n",
       "      <td>1827869</td>\n",
       "      <td>2013</td>\n",
       "      <td>1</td>\n",
       "      <td>1</td>\n",
       "      <td>1</td>\n",
       "      <td>0</td>\n",
       "      <td>0</td>\n",
       "      <td>0</td>\n",
       "      <td>1</td>\n",
       "      <td>0</td>\n",
       "      <td>...</td>\n",
       "      <td>0.000000</td>\n",
       "      <td>0.000000</td>\n",
       "      <td>0.000000</td>\n",
       "      <td>0.000000</td>\n",
       "      <td>0.000000</td>\n",
       "      <td>0.525424</td>\n",
       "      <td>0.000000</td>\n",
       "      <td>0.000000</td>\n",
       "      <td>0.000000</td>\n",
       "      <td>0.000000</td>\n",
       "    </tr>\n",
       "    <tr>\n",
       "      <th>643689</th>\n",
       "      <td>1827869</td>\n",
       "      <td>2014</td>\n",
       "      <td>2</td>\n",
       "      <td>0</td>\n",
       "      <td>0</td>\n",
       "      <td>1</td>\n",
       "      <td>0</td>\n",
       "      <td>0</td>\n",
       "      <td>1</td>\n",
       "      <td>0</td>\n",
       "      <td>...</td>\n",
       "      <td>0.000000</td>\n",
       "      <td>0.666667</td>\n",
       "      <td>0.666667</td>\n",
       "      <td>0.000000</td>\n",
       "      <td>0.000000</td>\n",
       "      <td>8.950000</td>\n",
       "      <td>1.033333</td>\n",
       "      <td>0.083333</td>\n",
       "      <td>0.083333</td>\n",
       "      <td>8.133333</td>\n",
       "    </tr>\n",
       "  </tbody>\n",
       "</table>\n",
       "<p>643690 rows × 164 columns</p>\n",
       "</div>"
      ],
      "text/plain": [
       "         persnr  year  nrEntry  ltue  employed_before  receipt_leh_before  \\\n",
       "0             7  2015        1     0                1                   0   \n",
       "1            18  2010        1     1                0                   0   \n",
       "2            18  2011        2     0                1                   0   \n",
       "3            18  2012        3     0                1                   0   \n",
       "4            18  2012        4     0                1                   0   \n",
       "...         ...   ...      ...   ...              ...                 ...   \n",
       "643685  1827860  2013        1     0                0                   0   \n",
       "643686  1827860  2015        2     1                0                   0   \n",
       "643687  1827860  2016        3     1                0                   0   \n",
       "643688  1827869  2013        1     1                1                   0   \n",
       "643689  1827869  2014        2     0                0                   1   \n",
       "\n",
       "        receipt_lhg_before  se_before  ASU_notue_seeking_before  \\\n",
       "0                        0          0                         1   \n",
       "1                        0          0                         0   \n",
       "2                        1          0                         1   \n",
       "3                        1          0                         1   \n",
       "4                        1          0                         1   \n",
       "...                    ...        ...                       ...   \n",
       "643685                   1          0                         0   \n",
       "643686                   1          0                         1   \n",
       "643687                   1          1                         0   \n",
       "643688                   0          0                         1   \n",
       "643689                   0          0                         1   \n",
       "\n",
       "        ASU_other_before  ...  minijob_tot_dur_byage  ft_tot_dur_byage  \\\n",
       "0                      0  ...               0.000000          0.000000   \n",
       "1                      0  ...               0.000000          0.000000   \n",
       "2                      0  ...               2.714286          2.714286   \n",
       "3                      0  ...               4.200000          4.200000   \n",
       "4                      0  ...               5.460000          5.460000   \n",
       "...                  ...  ...                    ...               ...   \n",
       "643685                 1  ...               0.000000          0.000000   \n",
       "643686                 0  ...               0.000000          0.000000   \n",
       "643687                 1  ...               0.000000          0.000000   \n",
       "643688                 0  ...               0.000000          0.000000   \n",
       "643689                 0  ...               0.000000          0.666667   \n",
       "\n",
       "        befrist_tot_dur_byage  leih_tot_dur_byage  LHG_tot_dur_byage  \\\n",
       "0                   15.043478            0.000000           0.000000   \n",
       "1                    0.000000            0.000000           0.000000   \n",
       "2                    0.000000            0.000000          10.775510   \n",
       "3                    0.000000            0.000000          12.100000   \n",
       "4                    0.000000            0.000000          13.360000   \n",
       "...                       ...                 ...                ...   \n",
       "643685               0.000000            0.000000           0.612903   \n",
       "643686               0.212121            0.212121          17.363636   \n",
       "643687               0.294118            0.205882          34.705882   \n",
       "643688               0.000000            0.000000           0.000000   \n",
       "643689               0.666667            0.000000           0.000000   \n",
       "\n",
       "        LEH_tot_dur_byage  almp_tot_dur_byage  almp_aw_tot_dur_byage  \\\n",
       "0                0.000000            0.000000               0.000000   \n",
       "1                0.000000            0.000000               0.000000   \n",
       "2                0.000000            8.367347               0.000000   \n",
       "3                0.000000            9.400000               0.000000   \n",
       "4                0.000000           10.320000               0.000000   \n",
       "...                   ...                 ...                    ...   \n",
       "643685           0.000000            0.000000               0.000000   \n",
       "643686           0.000000            8.909091               0.000000   \n",
       "643687           0.000000           10.352941               1.705882   \n",
       "643688           0.525424            0.000000               0.000000   \n",
       "643689           8.950000            1.033333               0.083333   \n",
       "\n",
       "        se_tot_dur_byage  seeking1_tot_dur_byage  \n",
       "0               0.000000                0.000000  \n",
       "1               0.000000                0.000000  \n",
       "2               0.000000                9.836735  \n",
       "3               0.000000                9.960000  \n",
       "4               0.000000               10.280000  \n",
       "...                  ...                     ...  \n",
       "643685          0.000000                0.000000  \n",
       "643686          0.000000                7.121212  \n",
       "643687          1.705882               23.911765  \n",
       "643688          0.000000                0.000000  \n",
       "643689          0.083333                8.133333  \n",
       "\n",
       "[643690 rows x 164 columns]"
      ]
     },
     "execution_count": 10,
     "metadata": {},
     "output_type": "execute_result"
    }
   ],
   "source": [
    "siab"
   ]
  },
  {
   "cell_type": "markdown",
   "id": "1f87e805",
   "metadata": {
    "papermill": {
     "duration": 0.01143,
     "end_time": "2025-08-19T19:08:06.170364",
     "exception": false,
     "start_time": "2025-08-19T19:08:06.158934",
     "status": "completed"
    },
    "tags": []
   },
   "source": [
    "# Splitting Data and Setting Training Data Size"
   ]
  },
  {
   "cell_type": "code",
   "execution_count": 11,
   "id": "910ae358",
   "metadata": {
    "execution": {
     "iopub.execute_input": "2025-08-19T19:08:06.193692Z",
     "iopub.status.busy": "2025-08-19T19:08:06.192419Z",
     "iopub.status.idle": "2025-08-19T19:08:07.256502Z",
     "shell.execute_reply": "2025-08-19T19:08:07.255840Z"
    },
    "papermill": {
     "duration": 1.077521,
     "end_time": "2025-08-19T19:08:07.258119",
     "exception": false,
     "start_time": "2025-08-19T19:08:06.180598",
     "status": "completed"
    },
    "tags": []
   },
   "outputs": [],
   "source": [
    "from fairness_multiverse.universe import sample_by_year_size\n",
    "\n",
    "siab_train = sample_by_year_size(siab,\n",
    "                               training_year=universe[\"training_year\"],\n",
    "                               training_size=universe[\"training_size\"])"
   ]
  },
  {
   "cell_type": "code",
   "execution_count": 12,
   "id": "919c8ff5",
   "metadata": {
    "execution": {
     "iopub.execute_input": "2025-08-19T19:08:07.283973Z",
     "iopub.status.busy": "2025-08-19T19:08:07.283066Z",
     "iopub.status.idle": "2025-08-19T19:08:07.292793Z",
     "shell.execute_reply": "2025-08-19T19:08:07.291578Z"
    },
    "papermill": {
     "duration": 0.022813,
     "end_time": "2025-08-19T19:08:07.294254",
     "exception": false,
     "start_time": "2025-08-19T19:08:07.271441",
     "status": "completed"
    },
    "tags": []
   },
   "outputs": [
    {
     "data": {
      "text/plain": [
       "(1000, 164)"
      ]
     },
     "execution_count": 12,
     "metadata": {},
     "output_type": "execute_result"
    }
   ],
   "source": [
    "siab_train.shape"
   ]
  },
  {
   "cell_type": "code",
   "execution_count": 13,
   "id": "feb13bf4",
   "metadata": {
    "execution": {
     "iopub.execute_input": "2025-08-19T19:08:07.320114Z",
     "iopub.status.busy": "2025-08-19T19:08:07.318970Z",
     "iopub.status.idle": "2025-08-19T19:08:07.334046Z",
     "shell.execute_reply": "2025-08-19T19:08:07.332940Z"
    },
    "papermill": {
     "duration": 0.028946,
     "end_time": "2025-08-19T19:08:07.335794",
     "exception": false,
     "start_time": "2025-08-19T19:08:07.306848",
     "status": "completed"
    },
    "tags": []
   },
   "outputs": [
    {
     "data": {
      "text/plain": [
       "year\n",
       "2010    200\n",
       "2011    200\n",
       "2012    200\n",
       "2013    200\n",
       "2014    200\n",
       "dtype: int64"
      ]
     },
     "metadata": {},
     "output_type": "display_data"
    }
   ],
   "source": [
    "display(siab_train.groupby(\"year\").size())"
   ]
  },
  {
   "cell_type": "code",
   "execution_count": 14,
   "id": "0997782f",
   "metadata": {
    "execution": {
     "iopub.execute_input": "2025-08-19T19:08:07.365867Z",
     "iopub.status.busy": "2025-08-19T19:08:07.364683Z",
     "iopub.status.idle": "2025-08-19T19:08:07.636419Z",
     "shell.execute_reply": "2025-08-19T19:08:07.635165Z"
    },
    "papermill": {
     "duration": 0.286567,
     "end_time": "2025-08-19T19:08:07.638770",
     "exception": false,
     "start_time": "2025-08-19T19:08:07.352203",
     "status": "completed"
    },
    "tags": []
   },
   "outputs": [],
   "source": [
    "#siab_train = siab_s[siab_s.year < 2015]\n",
    "siab_calib = siab[siab.year == 2015]\n",
    "siab_test = siab[siab.year == 2016]"
   ]
  },
  {
   "cell_type": "code",
   "execution_count": 15,
   "id": "2c1e4012",
   "metadata": {
    "execution": {
     "iopub.execute_input": "2025-08-19T19:08:07.666354Z",
     "iopub.status.busy": "2025-08-19T19:08:07.665348Z",
     "iopub.status.idle": "2025-08-19T19:08:07.671550Z",
     "shell.execute_reply": "2025-08-19T19:08:07.670603Z"
    },
    "papermill": {
     "duration": 0.020026,
     "end_time": "2025-08-19T19:08:07.673117",
     "exception": false,
     "start_time": "2025-08-19T19:08:07.653091",
     "status": "completed"
    },
    "tags": []
   },
   "outputs": [],
   "source": [
    "#siab_calib.shape"
   ]
  },
  {
   "cell_type": "code",
   "execution_count": 16,
   "id": "f66b54ca",
   "metadata": {
    "execution": {
     "iopub.execute_input": "2025-08-19T19:08:07.701131Z",
     "iopub.status.busy": "2025-08-19T19:08:07.700238Z",
     "iopub.status.idle": "2025-08-19T19:08:07.707668Z",
     "shell.execute_reply": "2025-08-19T19:08:07.705192Z"
    },
    "papermill": {
     "duration": 0.028369,
     "end_time": "2025-08-19T19:08:07.712044",
     "exception": false,
     "start_time": "2025-08-19T19:08:07.683675",
     "status": "completed"
    },
    "tags": []
   },
   "outputs": [],
   "source": [
    "#siab_test.shape"
   ]
  },
  {
   "cell_type": "code",
   "execution_count": 17,
   "id": "27e4384d",
   "metadata": {
    "execution": {
     "iopub.execute_input": "2025-08-19T19:08:07.748060Z",
     "iopub.status.busy": "2025-08-19T19:08:07.747224Z",
     "iopub.status.idle": "2025-08-19T19:08:07.758474Z",
     "shell.execute_reply": "2025-08-19T19:08:07.757403Z"
    },
    "papermill": {
     "duration": 0.041135,
     "end_time": "2025-08-19T19:08:07.766155",
     "exception": false,
     "start_time": "2025-08-19T19:08:07.725020",
     "status": "completed"
    },
    "tags": []
   },
   "outputs": [],
   "source": [
    "X_train = siab_train.iloc[:,4:164]\n",
    "y_train = siab_train.iloc[:, [3]]"
   ]
  },
  {
   "cell_type": "code",
   "execution_count": 18,
   "id": "08ee8389",
   "metadata": {
    "execution": {
     "iopub.execute_input": "2025-08-19T19:08:07.808031Z",
     "iopub.status.busy": "2025-08-19T19:08:07.806765Z",
     "iopub.status.idle": "2025-08-19T19:08:07.922617Z",
     "shell.execute_reply": "2025-08-19T19:08:07.921041Z"
    },
    "papermill": {
     "duration": 0.145784,
     "end_time": "2025-08-19T19:08:07.926495",
     "exception": false,
     "start_time": "2025-08-19T19:08:07.780711",
     "status": "completed"
    },
    "tags": []
   },
   "outputs": [],
   "source": [
    "X_calib = siab_calib.iloc[:,4:164]\n",
    "y_calib = siab_calib.iloc[:, [3]]"
   ]
  },
  {
   "cell_type": "code",
   "execution_count": 19,
   "id": "b7ff42e0",
   "metadata": {
    "execution": {
     "iopub.execute_input": "2025-08-19T19:08:07.963999Z",
     "iopub.status.busy": "2025-08-19T19:08:07.962452Z",
     "iopub.status.idle": "2025-08-19T19:08:08.036991Z",
     "shell.execute_reply": "2025-08-19T19:08:08.035950Z"
    },
    "papermill": {
     "duration": 0.090991,
     "end_time": "2025-08-19T19:08:08.040439",
     "exception": false,
     "start_time": "2025-08-19T19:08:07.949448",
     "status": "completed"
    },
    "tags": []
   },
   "outputs": [],
   "source": [
    "X_test = siab_test.iloc[:,4:164]\n",
    "y_true = siab_test.iloc[:, [3]]"
   ]
  },
  {
   "cell_type": "code",
   "execution_count": 20,
   "id": "0275101e",
   "metadata": {
    "execution": {
     "iopub.execute_input": "2025-08-19T19:08:08.080712Z",
     "iopub.status.busy": "2025-08-19T19:08:08.079019Z",
     "iopub.status.idle": "2025-08-19T19:08:08.215300Z",
     "shell.execute_reply": "2025-08-19T19:08:08.214277Z"
    },
    "papermill": {
     "duration": 0.152568,
     "end_time": "2025-08-19T19:08:08.217645",
     "exception": false,
     "start_time": "2025-08-19T19:08:08.065077",
     "status": "completed"
    },
    "tags": []
   },
   "outputs": [],
   "source": [
    "# Auxiliary data needed downstream in the pipeline\n",
    "\n",
    "org_train = X_train.copy()\n",
    "org_test = X_test.copy()\n",
    "org_calib = X_calib.copy()"
   ]
  },
  {
   "cell_type": "markdown",
   "id": "b461e618",
   "metadata": {
    "papermill": {
     "duration": 0.010739,
     "end_time": "2025-08-19T19:08:08.242439",
     "exception": false,
     "start_time": "2025-08-19T19:08:08.231700",
     "status": "completed"
    },
    "tags": []
   },
   "source": [
    "# Preprocessing Data"
   ]
  },
  {
   "cell_type": "code",
   "execution_count": 21,
   "id": "78e74c4b",
   "metadata": {
    "execution": {
     "iopub.execute_input": "2025-08-19T19:08:08.265571Z",
     "iopub.status.busy": "2025-08-19T19:08:08.264552Z",
     "iopub.status.idle": "2025-08-19T19:08:08.290109Z",
     "shell.execute_reply": "2025-08-19T19:08:08.288584Z"
    },
    "papermill": {
     "duration": 0.040198,
     "end_time": "2025-08-19T19:08:08.292841",
     "exception": false,
     "start_time": "2025-08-19T19:08:08.252643",
     "status": "completed"
    },
    "tags": []
   },
   "outputs": [],
   "source": [
    "# EXCLUDE PROTECTED FEATURES\n",
    "# --------------------------\n",
    "\n",
    "excluded_features = universe[\"exclude_features\"].split(\"-\")\n",
    "excluded_features_dictionary = {\n",
    "    \"nationality\": [\"maxdeutsch1\", \"maxdeutsch.Missing.\"],\n",
    "    \"sex\": [\"frau1\"],\n",
    "    \"age\": [\"age\"],\n",
    "}"
   ]
  },
  {
   "cell_type": "code",
   "execution_count": 22,
   "id": "f8e63555",
   "metadata": {
    "execution": {
     "iopub.execute_input": "2025-08-19T19:08:08.328114Z",
     "iopub.status.busy": "2025-08-19T19:08:08.327632Z",
     "iopub.status.idle": "2025-08-19T19:08:08.332687Z",
     "shell.execute_reply": "2025-08-19T19:08:08.331764Z"
    },
    "papermill": {
     "duration": 0.020351,
     "end_time": "2025-08-19T19:08:08.334274",
     "exception": false,
     "start_time": "2025-08-19T19:08:08.313923",
     "status": "completed"
    },
    "tags": []
   },
   "outputs": [],
   "source": [
    "excluded_features_columns = [\n",
    "    excluded_features_dictionary[f] for f in excluded_features if len(f) > 0 and f != \"none\"\n",
    "]"
   ]
  },
  {
   "cell_type": "code",
   "execution_count": 23,
   "id": "da781f7c",
   "metadata": {
    "execution": {
     "iopub.execute_input": "2025-08-19T19:08:08.356426Z",
     "iopub.status.busy": "2025-08-19T19:08:08.355978Z",
     "iopub.status.idle": "2025-08-19T19:08:08.360729Z",
     "shell.execute_reply": "2025-08-19T19:08:08.359819Z"
    },
    "papermill": {
     "duration": 0.017164,
     "end_time": "2025-08-19T19:08:08.361926",
     "exception": false,
     "start_time": "2025-08-19T19:08:08.344762",
     "status": "completed"
    },
    "tags": []
   },
   "outputs": [],
   "source": [
    "from fairness_multiverse.universe import flatten_once\n",
    "\n",
    "excluded_features_columns = flatten_once(excluded_features_columns)"
   ]
  },
  {
   "cell_type": "code",
   "execution_count": 24,
   "id": "37fef0f0",
   "metadata": {
    "execution": {
     "iopub.execute_input": "2025-08-19T19:08:08.383813Z",
     "iopub.status.busy": "2025-08-19T19:08:08.383369Z",
     "iopub.status.idle": "2025-08-19T19:08:08.388283Z",
     "shell.execute_reply": "2025-08-19T19:08:08.387384Z"
    },
    "papermill": {
     "duration": 0.017701,
     "end_time": "2025-08-19T19:08:08.389886",
     "exception": false,
     "start_time": "2025-08-19T19:08:08.372185",
     "status": "completed"
    },
    "tags": []
   },
   "outputs": [],
   "source": [
    "if len(excluded_features_columns) > 0:\n",
    "    print(f\"Dropping features: {excluded_features_columns}\")\n",
    "    X_train.drop(excluded_features_columns, axis=1, inplace=True)"
   ]
  },
  {
   "cell_type": "code",
   "execution_count": 25,
   "id": "d029e3e9",
   "metadata": {
    "execution": {
     "iopub.execute_input": "2025-08-19T19:08:08.411712Z",
     "iopub.status.busy": "2025-08-19T19:08:08.411272Z",
     "iopub.status.idle": "2025-08-19T19:08:08.416178Z",
     "shell.execute_reply": "2025-08-19T19:08:08.415282Z"
    },
    "papermill": {
     "duration": 0.017497,
     "end_time": "2025-08-19T19:08:08.417553",
     "exception": false,
     "start_time": "2025-08-19T19:08:08.400056",
     "status": "completed"
    },
    "tags": []
   },
   "outputs": [],
   "source": [
    "if len(excluded_features_columns) > 0:\n",
    "    print(f\"Dropping features: {excluded_features_columns}\")\n",
    "    X_test.drop(excluded_features_columns, axis=1, inplace=True)"
   ]
  },
  {
   "cell_type": "code",
   "execution_count": 26,
   "id": "01d571f0",
   "metadata": {
    "execution": {
     "iopub.execute_input": "2025-08-19T19:08:08.439762Z",
     "iopub.status.busy": "2025-08-19T19:08:08.439294Z",
     "iopub.status.idle": "2025-08-19T19:08:08.444213Z",
     "shell.execute_reply": "2025-08-19T19:08:08.443334Z"
    },
    "papermill": {
     "duration": 0.017615,
     "end_time": "2025-08-19T19:08:08.445540",
     "exception": false,
     "start_time": "2025-08-19T19:08:08.427925",
     "status": "completed"
    },
    "tags": []
   },
   "outputs": [],
   "source": [
    "if len(excluded_features_columns) > 0:\n",
    "    print(f\"Dropping features: {excluded_features_columns}\")\n",
    "    X_calib.drop(excluded_features_columns, axis=1, inplace=True)"
   ]
  },
  {
   "cell_type": "code",
   "execution_count": 27,
   "id": "3037356e",
   "metadata": {
    "execution": {
     "iopub.execute_input": "2025-08-19T19:08:08.467983Z",
     "iopub.status.busy": "2025-08-19T19:08:08.467529Z",
     "iopub.status.idle": "2025-08-19T19:08:08.472213Z",
     "shell.execute_reply": "2025-08-19T19:08:08.471331Z"
    },
    "papermill": {
     "duration": 0.017329,
     "end_time": "2025-08-19T19:08:08.473516",
     "exception": false,
     "start_time": "2025-08-19T19:08:08.456187",
     "status": "completed"
    },
    "tags": []
   },
   "outputs": [],
   "source": [
    "# EXCLUDE CERTAIN SUBGROUPS\n",
    "# -------------------------\n",
    "\n",
    "mode = universe.get(\"exclude_subgroups\", \"keep-all\") # Defaults to \"keep-all\" if the key is missing."
   ]
  },
  {
   "cell_type": "code",
   "execution_count": 28,
   "id": "9d1e63fd",
   "metadata": {
    "execution": {
     "iopub.execute_input": "2025-08-19T19:08:08.495901Z",
     "iopub.status.busy": "2025-08-19T19:08:08.495423Z",
     "iopub.status.idle": "2025-08-19T19:08:08.502237Z",
     "shell.execute_reply": "2025-08-19T19:08:08.501347Z"
    },
    "papermill": {
     "duration": 0.019684,
     "end_time": "2025-08-19T19:08:08.503574",
     "exception": false,
     "start_time": "2025-08-19T19:08:08.483890",
     "status": "completed"
    },
    "tags": []
   },
   "outputs": [],
   "source": [
    "if mode == \"keep-all\":\n",
    "    keep_mask = pd.Series(True, index=org_train.index)\n",
    "\n",
    "elif mode == \"drop-non-german\":\n",
    "    keep_mask = (org_train[\"maxdeutsch1\"] == 1) & (org_train[\"maxdeutsch.Missing.\"] == 0)\n",
    "\n",
    "else:\n",
    "    raise ValueError(f\"Unsupported mode for exclude_subgroups: {mode}\")"
   ]
  },
  {
   "cell_type": "code",
   "execution_count": 29,
   "id": "d3b65474",
   "metadata": {
    "execution": {
     "iopub.execute_input": "2025-08-19T19:08:08.526442Z",
     "iopub.status.busy": "2025-08-19T19:08:08.525985Z",
     "iopub.status.idle": "2025-08-19T19:08:08.532492Z",
     "shell.execute_reply": "2025-08-19T19:08:08.531576Z"
    },
    "papermill": {
     "duration": 0.022313,
     "end_time": "2025-08-19T19:08:08.536761",
     "exception": false,
     "start_time": "2025-08-19T19:08:08.514448",
     "status": "completed"
    },
    "tags": []
   },
   "outputs": [
    {
     "name": "stdout",
     "output_type": "stream",
     "text": [
      "Dropping 131 rows (13.10%) where mode='drop-non-german'\n"
     ]
    }
   ],
   "source": [
    "n_drop = (~keep_mask).sum() # Calculates how many rows are set to be dropped\n",
    "if n_drop > 0:\n",
    "    pct = n_drop / len(keep_mask) * 100\n",
    "    print(f\"Dropping {n_drop} rows ({pct:.2f}%) where mode='{mode}'\")"
   ]
  },
  {
   "cell_type": "code",
   "execution_count": 30,
   "id": "f44389b3",
   "metadata": {
    "execution": {
     "iopub.execute_input": "2025-08-19T19:08:08.572567Z",
     "iopub.status.busy": "2025-08-19T19:08:08.572086Z",
     "iopub.status.idle": "2025-08-19T19:08:08.579438Z",
     "shell.execute_reply": "2025-08-19T19:08:08.578246Z"
    },
    "papermill": {
     "duration": 0.02167,
     "end_time": "2025-08-19T19:08:08.580836",
     "exception": false,
     "start_time": "2025-08-19T19:08:08.559166",
     "status": "completed"
    },
    "tags": []
   },
   "outputs": [],
   "source": [
    "X_train = X_train[keep_mask]"
   ]
  },
  {
   "cell_type": "code",
   "execution_count": 31,
   "id": "ceca8c2a",
   "metadata": {
    "execution": {
     "iopub.execute_input": "2025-08-19T19:08:08.603570Z",
     "iopub.status.busy": "2025-08-19T19:08:08.602935Z",
     "iopub.status.idle": "2025-08-19T19:08:08.608868Z",
     "shell.execute_reply": "2025-08-19T19:08:08.607846Z"
    },
    "papermill": {
     "duration": 0.018601,
     "end_time": "2025-08-19T19:08:08.610296",
     "exception": false,
     "start_time": "2025-08-19T19:08:08.591695",
     "status": "completed"
    },
    "tags": []
   },
   "outputs": [],
   "source": [
    "y_train = y_train[keep_mask]"
   ]
  },
  {
   "cell_type": "markdown",
   "id": "04d31e2f",
   "metadata": {
    "papermill": {
     "duration": 0.010171,
     "end_time": "2025-08-19T19:08:08.631447",
     "exception": false,
     "start_time": "2025-08-19T19:08:08.621276",
     "status": "completed"
    },
    "tags": []
   },
   "source": [
    "# Model Training"
   ]
  },
  {
   "cell_type": "code",
   "execution_count": 32,
   "id": "db991733",
   "metadata": {
    "execution": {
     "iopub.execute_input": "2025-08-19T19:08:08.653436Z",
     "iopub.status.busy": "2025-08-19T19:08:08.652965Z",
     "iopub.status.idle": "2025-08-19T19:08:08.774881Z",
     "shell.execute_reply": "2025-08-19T19:08:08.773709Z"
    },
    "papermill": {
     "duration": 0.135018,
     "end_time": "2025-08-19T19:08:08.776633",
     "exception": false,
     "start_time": "2025-08-19T19:08:08.641615",
     "status": "completed"
    },
    "tags": []
   },
   "outputs": [],
   "source": [
    "from sklearn.linear_model import LogisticRegression\n",
    "from sklearn.ensemble import GradientBoostingClassifier, RandomForestClassifier\n",
    "\n",
    "if (universe[\"model\"] == \"logreg\"):\n",
    "    model = LogisticRegression() #penalty=\"none\", solver=\"newton-cg\", max_iter=1)\n",
    "elif (universe[\"model\"] == \"penalized_logreg\"):\n",
    "    model = LogisticRegression(penalty=\"l2\", C=0.1) #, solver=\"newton-cg\", max_iter=1)\n",
    "elif (universe[\"model\"] == \"rf\"):\n",
    "    model = RandomForestClassifier() # n_estimators=100, n_jobs=-1\n",
    "elif (universe[\"model\"] == \"gbm\"):\n",
    "    model = GradientBoostingClassifier()\n",
    "elif (universe[\"model\"] == \"elasticnet\"):\n",
    "    model = LogisticRegression(penalty = 'elasticnet', solver = 'saga', l1_ratio = 0.5) # max_iter=5000\n",
    "else:\n",
    "    raise \"Unsupported universe.model\""
   ]
  },
  {
   "cell_type": "code",
   "execution_count": 33,
   "id": "a4b5cd25",
   "metadata": {
    "execution": {
     "iopub.execute_input": "2025-08-19T19:08:08.801220Z",
     "iopub.status.busy": "2025-08-19T19:08:08.799549Z",
     "iopub.status.idle": "2025-08-19T19:08:08.811457Z",
     "shell.execute_reply": "2025-08-19T19:08:08.809308Z"
    },
    "papermill": {
     "duration": 0.02552,
     "end_time": "2025-08-19T19:08:08.813214",
     "exception": false,
     "start_time": "2025-08-19T19:08:08.787694",
     "status": "completed"
    },
    "tags": []
   },
   "outputs": [],
   "source": [
    "from sklearn.pipeline import Pipeline\n",
    "from sklearn.preprocessing import StandardScaler\n",
    "\n",
    "model = Pipeline([\n",
    "    #(\"continuous_processor\", continuous_processor),\n",
    "    #(\"categorical_preprocessor\", categorical_preprocessor),\n",
    "    (\"scale\", StandardScaler() if universe[\"scale\"] == \"scale\" else None), \n",
    "    (\"model\", model),\n",
    "])"
   ]
  },
  {
   "cell_type": "code",
   "execution_count": 34,
   "id": "283a904d",
   "metadata": {
    "execution": {
     "iopub.execute_input": "2025-08-19T19:08:08.839169Z",
     "iopub.status.busy": "2025-08-19T19:08:08.838709Z",
     "iopub.status.idle": "2025-08-19T19:08:09.131446Z",
     "shell.execute_reply": "2025-08-19T19:08:09.130688Z"
    },
    "papermill": {
     "duration": 0.306287,
     "end_time": "2025-08-19T19:08:09.132865",
     "exception": false,
     "start_time": "2025-08-19T19:08:08.826578",
     "status": "completed"
    },
    "tags": []
   },
   "outputs": [
    {
     "name": "stderr",
     "output_type": "stream",
     "text": [
      "/dss/dsshome1/0C/ra93lal2/.local/share/virtualenvs/CMA_Fairness_v2-3j10GkSs/lib/python3.10/site-packages/sklearn/linear_model/_sag.py:350: ConvergenceWarning: The max_iter was reached which means the coef_ did not converge\n",
      "  warnings.warn(\n"
     ]
    },
    {
     "data": {
      "text/html": [
       "<style>#sk-container-id-1 {color: black;background-color: white;}#sk-container-id-1 pre{padding: 0;}#sk-container-id-1 div.sk-toggleable {background-color: white;}#sk-container-id-1 label.sk-toggleable__label {cursor: pointer;display: block;width: 100%;margin-bottom: 0;padding: 0.3em;box-sizing: border-box;text-align: center;}#sk-container-id-1 label.sk-toggleable__label-arrow:before {content: \"▸\";float: left;margin-right: 0.25em;color: #696969;}#sk-container-id-1 label.sk-toggleable__label-arrow:hover:before {color: black;}#sk-container-id-1 div.sk-estimator:hover label.sk-toggleable__label-arrow:before {color: black;}#sk-container-id-1 div.sk-toggleable__content {max-height: 0;max-width: 0;overflow: hidden;text-align: left;background-color: #f0f8ff;}#sk-container-id-1 div.sk-toggleable__content pre {margin: 0.2em;color: black;border-radius: 0.25em;background-color: #f0f8ff;}#sk-container-id-1 input.sk-toggleable__control:checked~div.sk-toggleable__content {max-height: 200px;max-width: 100%;overflow: auto;}#sk-container-id-1 input.sk-toggleable__control:checked~label.sk-toggleable__label-arrow:before {content: \"▾\";}#sk-container-id-1 div.sk-estimator input.sk-toggleable__control:checked~label.sk-toggleable__label {background-color: #d4ebff;}#sk-container-id-1 div.sk-label input.sk-toggleable__control:checked~label.sk-toggleable__label {background-color: #d4ebff;}#sk-container-id-1 input.sk-hidden--visually {border: 0;clip: rect(1px 1px 1px 1px);clip: rect(1px, 1px, 1px, 1px);height: 1px;margin: -1px;overflow: hidden;padding: 0;position: absolute;width: 1px;}#sk-container-id-1 div.sk-estimator {font-family: monospace;background-color: #f0f8ff;border: 1px dotted black;border-radius: 0.25em;box-sizing: border-box;margin-bottom: 0.5em;}#sk-container-id-1 div.sk-estimator:hover {background-color: #d4ebff;}#sk-container-id-1 div.sk-parallel-item::after {content: \"\";width: 100%;border-bottom: 1px solid gray;flex-grow: 1;}#sk-container-id-1 div.sk-label:hover label.sk-toggleable__label {background-color: #d4ebff;}#sk-container-id-1 div.sk-serial::before {content: \"\";position: absolute;border-left: 1px solid gray;box-sizing: border-box;top: 0;bottom: 0;left: 50%;z-index: 0;}#sk-container-id-1 div.sk-serial {display: flex;flex-direction: column;align-items: center;background-color: white;padding-right: 0.2em;padding-left: 0.2em;position: relative;}#sk-container-id-1 div.sk-item {position: relative;z-index: 1;}#sk-container-id-1 div.sk-parallel {display: flex;align-items: stretch;justify-content: center;background-color: white;position: relative;}#sk-container-id-1 div.sk-item::before, #sk-container-id-1 div.sk-parallel-item::before {content: \"\";position: absolute;border-left: 1px solid gray;box-sizing: border-box;top: 0;bottom: 0;left: 50%;z-index: -1;}#sk-container-id-1 div.sk-parallel-item {display: flex;flex-direction: column;z-index: 1;position: relative;background-color: white;}#sk-container-id-1 div.sk-parallel-item:first-child::after {align-self: flex-end;width: 50%;}#sk-container-id-1 div.sk-parallel-item:last-child::after {align-self: flex-start;width: 50%;}#sk-container-id-1 div.sk-parallel-item:only-child::after {width: 0;}#sk-container-id-1 div.sk-dashed-wrapped {border: 1px dashed gray;margin: 0 0.4em 0.5em 0.4em;box-sizing: border-box;padding-bottom: 0.4em;background-color: white;}#sk-container-id-1 div.sk-label label {font-family: monospace;font-weight: bold;display: inline-block;line-height: 1.2em;}#sk-container-id-1 div.sk-label-container {text-align: center;}#sk-container-id-1 div.sk-container {/* jupyter's `normalize.less` sets `[hidden] { display: none; }` but bootstrap.min.css set `[hidden] { display: none !important; }` so we also need the `!important` here to be able to override the default hidden behavior on the sphinx rendered scikit-learn.org. See: https://github.com/scikit-learn/scikit-learn/issues/21755 */display: inline-block !important;position: relative;}#sk-container-id-1 div.sk-text-repr-fallback {display: none;}</style><div id=\"sk-container-id-1\" class=\"sk-top-container\"><div class=\"sk-text-repr-fallback\"><pre>Pipeline(steps=[(&#x27;scale&#x27;, StandardScaler()),\n",
       "                (&#x27;model&#x27;,\n",
       "                 LogisticRegression(l1_ratio=0.5, penalty=&#x27;elasticnet&#x27;,\n",
       "                                    solver=&#x27;saga&#x27;))])</pre><b>In a Jupyter environment, please rerun this cell to show the HTML representation or trust the notebook. <br />On GitHub, the HTML representation is unable to render, please try loading this page with nbviewer.org.</b></div><div class=\"sk-container\" hidden><div class=\"sk-item sk-dashed-wrapped\"><div class=\"sk-label-container\"><div class=\"sk-label sk-toggleable\"><input class=\"sk-toggleable__control sk-hidden--visually\" id=\"sk-estimator-id-1\" type=\"checkbox\" ><label for=\"sk-estimator-id-1\" class=\"sk-toggleable__label sk-toggleable__label-arrow\">Pipeline</label><div class=\"sk-toggleable__content\"><pre>Pipeline(steps=[(&#x27;scale&#x27;, StandardScaler()),\n",
       "                (&#x27;model&#x27;,\n",
       "                 LogisticRegression(l1_ratio=0.5, penalty=&#x27;elasticnet&#x27;,\n",
       "                                    solver=&#x27;saga&#x27;))])</pre></div></div></div><div class=\"sk-serial\"><div class=\"sk-item\"><div class=\"sk-estimator sk-toggleable\"><input class=\"sk-toggleable__control sk-hidden--visually\" id=\"sk-estimator-id-2\" type=\"checkbox\" ><label for=\"sk-estimator-id-2\" class=\"sk-toggleable__label sk-toggleable__label-arrow\">StandardScaler</label><div class=\"sk-toggleable__content\"><pre>StandardScaler()</pre></div></div></div><div class=\"sk-item\"><div class=\"sk-estimator sk-toggleable\"><input class=\"sk-toggleable__control sk-hidden--visually\" id=\"sk-estimator-id-3\" type=\"checkbox\" ><label for=\"sk-estimator-id-3\" class=\"sk-toggleable__label sk-toggleable__label-arrow\">LogisticRegression</label><div class=\"sk-toggleable__content\"><pre>LogisticRegression(l1_ratio=0.5, penalty=&#x27;elasticnet&#x27;, solver=&#x27;saga&#x27;)</pre></div></div></div></div></div></div></div>"
      ],
      "text/plain": [
       "Pipeline(steps=[('scale', StandardScaler()),\n",
       "                ('model',\n",
       "                 LogisticRegression(l1_ratio=0.5, penalty='elasticnet',\n",
       "                                    solver='saga'))])"
      ]
     },
     "execution_count": 34,
     "metadata": {},
     "output_type": "execute_result"
    }
   ],
   "source": [
    "model.fit(X_train, y_train.values.ravel())"
   ]
  },
  {
   "cell_type": "code",
   "execution_count": 35,
   "id": "6e15e313",
   "metadata": {
    "execution": {
     "iopub.execute_input": "2025-08-19T19:08:09.163192Z",
     "iopub.status.busy": "2025-08-19T19:08:09.157788Z",
     "iopub.status.idle": "2025-08-19T19:08:09.359971Z",
     "shell.execute_reply": "2025-08-19T19:08:09.359016Z"
    },
    "papermill": {
     "duration": 0.216661,
     "end_time": "2025-08-19T19:08:09.362491",
     "exception": false,
     "start_time": "2025-08-19T19:08:09.145830",
     "status": "completed"
    },
    "tags": []
   },
   "outputs": [
    {
     "data": {
      "text/plain": [
       "0.8337532047709285"
      ]
     },
     "execution_count": 35,
     "metadata": {},
     "output_type": "execute_result"
    }
   ],
   "source": [
    "from fairness_multiverse.universe import predict_w_threshold\n",
    "\n",
    "probs_test = model.predict_proba(X_test)\n",
    "\n",
    "'''\n",
    "Below code returns a boolean array (or binary 0/1 array depending on how it’s used) where each element \n",
    "is True if the probability of class 1 is greater than or equal to the threshold, and False otherwise.\n",
    "'''\n",
    "y_pred_default = predict_w_threshold(probs_test, 0.5)\n",
    "\n",
    "from sklearn.metrics import accuracy_score\n",
    "\n",
    "# Naive prediction\n",
    "accuracy_score(y_true = y_true, y_pred = y_pred_default)"
   ]
  },
  {
   "cell_type": "code",
   "execution_count": 36,
   "id": "6f14067c",
   "metadata": {
    "execution": {
     "iopub.execute_input": "2025-08-19T19:08:09.406589Z",
     "iopub.status.busy": "2025-08-19T19:08:09.405488Z",
     "iopub.status.idle": "2025-08-19T19:08:09.593566Z",
     "shell.execute_reply": "2025-08-19T19:08:09.592407Z"
    },
    "papermill": {
     "duration": 0.206845,
     "end_time": "2025-08-19T19:08:09.594931",
     "exception": false,
     "start_time": "2025-08-19T19:08:09.388086",
     "status": "completed"
    },
    "tags": []
   },
   "outputs": [
    {
     "data": {
      "text/plain": [
       "array([0, 0, 0, ..., 0, 0, 0])"
      ]
     },
     "execution_count": 36,
     "metadata": {},
     "output_type": "execute_result"
    }
   ],
   "source": [
    "model.predict(X_test)"
   ]
  },
  {
   "cell_type": "markdown",
   "id": "3759920c",
   "metadata": {
    "papermill": {
     "duration": 0.011208,
     "end_time": "2025-08-19T19:08:09.617940",
     "exception": false,
     "start_time": "2025-08-19T19:08:09.606732",
     "status": "completed"
    },
    "tags": []
   },
   "source": [
    "# Conformal Prediction"
   ]
  },
  {
   "cell_type": "code",
   "execution_count": 37,
   "id": "14b27f59",
   "metadata": {
    "execution": {
     "iopub.execute_input": "2025-08-19T19:08:09.652740Z",
     "iopub.status.busy": "2025-08-19T19:08:09.651208Z",
     "iopub.status.idle": "2025-08-19T19:08:09.658698Z",
     "shell.execute_reply": "2025-08-19T19:08:09.657381Z"
    },
    "papermill": {
     "duration": 0.031183,
     "end_time": "2025-08-19T19:08:09.660378",
     "exception": false,
     "start_time": "2025-08-19T19:08:09.629195",
     "status": "completed"
    },
    "tags": []
   },
   "outputs": [],
   "source": [
    "# Miscoverage level for conformal prediction (10% allowed error rate => 90% target coverage)\n",
    "alpha = 0.1"
   ]
  },
  {
   "cell_type": "code",
   "execution_count": 38,
   "id": "59102472",
   "metadata": {
    "execution": {
     "iopub.execute_input": "2025-08-19T19:08:09.689413Z",
     "iopub.status.busy": "2025-08-19T19:08:09.688225Z",
     "iopub.status.idle": "2025-08-19T19:08:09.895244Z",
     "shell.execute_reply": "2025-08-19T19:08:09.894289Z"
    },
    "papermill": {
     "duration": 0.221519,
     "end_time": "2025-08-19T19:08:09.896998",
     "exception": false,
     "start_time": "2025-08-19T19:08:09.675479",
     "status": "completed"
    },
    "tags": []
   },
   "outputs": [],
   "source": [
    "probs_calib = model.predict_proba(X_calib)"
   ]
  },
  {
   "cell_type": "code",
   "execution_count": 39,
   "id": "a792d4dd",
   "metadata": {
    "execution": {
     "iopub.execute_input": "2025-08-19T19:08:09.941662Z",
     "iopub.status.busy": "2025-08-19T19:08:09.928047Z",
     "iopub.status.idle": "2025-08-19T19:08:09.948586Z",
     "shell.execute_reply": "2025-08-19T19:08:09.946991Z"
    },
    "papermill": {
     "duration": 0.034571,
     "end_time": "2025-08-19T19:08:09.949794",
     "exception": false,
     "start_time": "2025-08-19T19:08:09.915223",
     "status": "completed"
    },
    "tags": []
   },
   "outputs": [],
   "source": [
    "y_calib = y_calib.values.ravel().astype(int)"
   ]
  },
  {
   "cell_type": "code",
   "execution_count": 40,
   "id": "650fd033",
   "metadata": {
    "execution": {
     "iopub.execute_input": "2025-08-19T19:08:09.975627Z",
     "iopub.status.busy": "2025-08-19T19:08:09.975137Z",
     "iopub.status.idle": "2025-08-19T19:08:09.983207Z",
     "shell.execute_reply": "2025-08-19T19:08:09.982227Z"
    },
    "papermill": {
     "duration": 0.022037,
     "end_time": "2025-08-19T19:08:09.984786",
     "exception": false,
     "start_time": "2025-08-19T19:08:09.962749",
     "status": "completed"
    },
    "tags": []
   },
   "outputs": [],
   "source": [
    "from fairness_multiverse.conformal import compute_nc_scores\n",
    "\n",
    "# Compute nonconformity scores on calibration set (1 - probability of true class)\n",
    "nc_scores = compute_nc_scores(probs_calib, y_calib)"
   ]
  },
  {
   "cell_type": "code",
   "execution_count": 41,
   "id": "28ada44c",
   "metadata": {
    "execution": {
     "iopub.execute_input": "2025-08-19T19:08:10.013290Z",
     "iopub.status.busy": "2025-08-19T19:08:10.012845Z",
     "iopub.status.idle": "2025-08-19T19:08:10.020532Z",
     "shell.execute_reply": "2025-08-19T19:08:10.019405Z"
    },
    "papermill": {
     "duration": 0.021706,
     "end_time": "2025-08-19T19:08:10.021938",
     "exception": false,
     "start_time": "2025-08-19T19:08:10.000232",
     "status": "completed"
    },
    "tags": []
   },
   "outputs": [],
   "source": [
    "from fairness_multiverse.conformal import find_threshold\n",
    "\n",
    "# Find conformal threshold q_hat for the given alpha (split conformal method)\n",
    "q_hat = find_threshold(nc_scores, alpha)"
   ]
  },
  {
   "cell_type": "code",
   "execution_count": 42,
   "id": "df56469e",
   "metadata": {
    "execution": {
     "iopub.execute_input": "2025-08-19T19:08:10.052243Z",
     "iopub.status.busy": "2025-08-19T19:08:10.051933Z",
     "iopub.status.idle": "2025-08-19T19:08:10.058411Z",
     "shell.execute_reply": "2025-08-19T19:08:10.057595Z"
    },
    "papermill": {
     "duration": 0.021811,
     "end_time": "2025-08-19T19:08:10.060559",
     "exception": false,
     "start_time": "2025-08-19T19:08:10.038748",
     "status": "completed"
    },
    "tags": []
   },
   "outputs": [
    {
     "data": {
      "text/plain": [
       "0.7531482790302152"
      ]
     },
     "execution_count": 42,
     "metadata": {},
     "output_type": "execute_result"
    }
   ],
   "source": [
    "q_hat"
   ]
  },
  {
   "cell_type": "code",
   "execution_count": 43,
   "id": "aa1f5faa",
   "metadata": {
    "execution": {
     "iopub.execute_input": "2025-08-19T19:08:10.087890Z",
     "iopub.status.busy": "2025-08-19T19:08:10.087579Z",
     "iopub.status.idle": "2025-08-19T19:08:10.718151Z",
     "shell.execute_reply": "2025-08-19T19:08:10.716926Z"
    },
    "papermill": {
     "duration": 0.645475,
     "end_time": "2025-08-19T19:08:10.719998",
     "exception": false,
     "start_time": "2025-08-19T19:08:10.074523",
     "status": "completed"
    },
    "tags": []
   },
   "outputs": [],
   "source": [
    "from fairness_multiverse.conformal import predict_conformal_sets\n",
    "\n",
    "# Generate prediction sets for each test example\n",
    "pred_sets = predict_conformal_sets(model, X_test, q_hat)"
   ]
  },
  {
   "cell_type": "code",
   "execution_count": 44,
   "id": "97f67a6b",
   "metadata": {
    "execution": {
     "iopub.execute_input": "2025-08-19T19:08:10.746870Z",
     "iopub.status.busy": "2025-08-19T19:08:10.746172Z",
     "iopub.status.idle": "2025-08-19T19:08:10.752843Z",
     "shell.execute_reply": "2025-08-19T19:08:10.752115Z"
    },
    "papermill": {
     "duration": 0.021419,
     "end_time": "2025-08-19T19:08:10.754299",
     "exception": false,
     "start_time": "2025-08-19T19:08:10.732880",
     "status": "completed"
    },
    "tags": []
   },
   "outputs": [],
   "source": [
    "y_true = y_true.squeeze()"
   ]
  },
  {
   "cell_type": "code",
   "execution_count": 45,
   "id": "e700e9a7",
   "metadata": {
    "execution": {
     "iopub.execute_input": "2025-08-19T19:08:10.779394Z",
     "iopub.status.busy": "2025-08-19T19:08:10.779069Z",
     "iopub.status.idle": "2025-08-19T19:08:11.294878Z",
     "shell.execute_reply": "2025-08-19T19:08:11.293610Z"
    },
    "papermill": {
     "duration": 0.530282,
     "end_time": "2025-08-19T19:08:11.296575",
     "exception": false,
     "start_time": "2025-08-19T19:08:10.766293",
     "status": "completed"
    },
    "tags": []
   },
   "outputs": [],
   "source": [
    "from fairness_multiverse.conformal import evaluate_sets\n",
    "\n",
    "# Evaluate coverage and average set size on test data\n",
    "metrics = evaluate_sets(pred_sets, y_true)"
   ]
  },
  {
   "cell_type": "markdown",
   "id": "efbacec0",
   "metadata": {
    "papermill": {
     "duration": 0.013906,
     "end_time": "2025-08-19T19:08:11.322433",
     "exception": false,
     "start_time": "2025-08-19T19:08:11.308527",
     "status": "completed"
    },
    "tags": []
   },
   "source": [
    "# CP Metrics"
   ]
  },
  {
   "cell_type": "code",
   "execution_count": 46,
   "id": "9de55fb1",
   "metadata": {
    "execution": {
     "iopub.execute_input": "2025-08-19T19:08:11.347357Z",
     "iopub.status.busy": "2025-08-19T19:08:11.346737Z",
     "iopub.status.idle": "2025-08-19T19:08:11.354073Z",
     "shell.execute_reply": "2025-08-19T19:08:11.353354Z"
    },
    "papermill": {
     "duration": 0.021479,
     "end_time": "2025-08-19T19:08:11.355603",
     "exception": false,
     "start_time": "2025-08-19T19:08:11.334124",
     "status": "completed"
    },
    "tags": []
   },
   "outputs": [
    {
     "data": {
      "text/plain": [
       "{'coverage': 0.9106454129974362, 'avg_size': 1.2056515438635604}"
      ]
     },
     "execution_count": 46,
     "metadata": {},
     "output_type": "execute_result"
    }
   ],
   "source": [
    "metrics"
   ]
  },
  {
   "cell_type": "code",
   "execution_count": 47,
   "id": "64c340a1",
   "metadata": {
    "execution": {
     "iopub.execute_input": "2025-08-19T19:08:11.388760Z",
     "iopub.status.busy": "2025-08-19T19:08:11.386948Z",
     "iopub.status.idle": "2025-08-19T19:08:11.398294Z",
     "shell.execute_reply": "2025-08-19T19:08:11.397035Z"
    },
    "papermill": {
     "duration": 0.026245,
     "end_time": "2025-08-19T19:08:11.399990",
     "exception": false,
     "start_time": "2025-08-19T19:08:11.373745",
     "status": "completed"
    },
    "tags": []
   },
   "outputs": [],
   "source": [
    "example_universe = universe.copy()\n",
    "universe_training_year = example_universe.get(\"training_year\")\n",
    "universe_training_size = example_universe.get(\"training_size\")\n",
    "universe_scale = example_universe.get(\"scale\")\n",
    "universe_model = example_universe.get(\"model\")\n",
    "universe_exclude_features = example_universe.get(\"exclude_features\")\n",
    "universe_exclude_subgroups = example_universe.get(\"exclude_subgroups\")"
   ]
  },
  {
   "cell_type": "code",
   "execution_count": 48,
   "id": "dbb53cb4",
   "metadata": {
    "execution": {
     "iopub.execute_input": "2025-08-19T19:08:11.430012Z",
     "iopub.status.busy": "2025-08-19T19:08:11.428689Z",
     "iopub.status.idle": "2025-08-19T19:08:11.439281Z",
     "shell.execute_reply": "2025-08-19T19:08:11.437928Z"
    },
    "papermill": {
     "duration": 0.026439,
     "end_time": "2025-08-19T19:08:11.441051",
     "exception": false,
     "start_time": "2025-08-19T19:08:11.414612",
     "status": "completed"
    },
    "tags": []
   },
   "outputs": [],
   "source": [
    "cp_metrics_dict = {\n",
    "    \"universe_id\": [universe_id],\n",
    "    \"universe_training_year\": [universe_training_year],\n",
    "    \"universe_training_size\": [universe_training_size],\n",
    "    \"universe_scale\": [universe_scale],\n",
    "    \"universe_model\": [universe_model],\n",
    "    \"universe_exclude_features\": [universe_exclude_features],\n",
    "    \"universe_exclude_subgroups\": [universe_exclude_subgroups],\n",
    "    \"q_hat\": [q_hat],\n",
    "    \"coverage\": [metrics[\"coverage\"]],\n",
    "    \"avg_size\": [metrics[\"avg_size\"]],\n",
    "}"
   ]
  },
  {
   "cell_type": "code",
   "execution_count": 49,
   "id": "0d70d4b2",
   "metadata": {
    "execution": {
     "iopub.execute_input": "2025-08-19T19:08:11.471612Z",
     "iopub.status.busy": "2025-08-19T19:08:11.470021Z",
     "iopub.status.idle": "2025-08-19T19:08:11.482519Z",
     "shell.execute_reply": "2025-08-19T19:08:11.481191Z"
    },
    "papermill": {
     "duration": 0.027942,
     "end_time": "2025-08-19T19:08:11.484320",
     "exception": false,
     "start_time": "2025-08-19T19:08:11.456378",
     "status": "completed"
    },
    "tags": []
   },
   "outputs": [],
   "source": [
    "cp_metrics_df = pd.DataFrame(cp_metrics_dict)"
   ]
  },
  {
   "cell_type": "code",
   "execution_count": 50,
   "id": "b494403c",
   "metadata": {
    "execution": {
     "iopub.execute_input": "2025-08-19T19:08:11.518308Z",
     "iopub.status.busy": "2025-08-19T19:08:11.516729Z",
     "iopub.status.idle": "2025-08-19T19:08:11.542337Z",
     "shell.execute_reply": "2025-08-19T19:08:11.541338Z"
    },
    "papermill": {
     "duration": 0.041845,
     "end_time": "2025-08-19T19:08:11.544161",
     "exception": false,
     "start_time": "2025-08-19T19:08:11.502316",
     "status": "completed"
    },
    "tags": []
   },
   "outputs": [
    {
     "data": {
      "text/html": [
       "<div>\n",
       "<style scoped>\n",
       "    .dataframe tbody tr th:only-of-type {\n",
       "        vertical-align: middle;\n",
       "    }\n",
       "\n",
       "    .dataframe tbody tr th {\n",
       "        vertical-align: top;\n",
       "    }\n",
       "\n",
       "    .dataframe thead th {\n",
       "        text-align: right;\n",
       "    }\n",
       "</style>\n",
       "<table border=\"1\" class=\"dataframe\">\n",
       "  <thead>\n",
       "    <tr style=\"text-align: right;\">\n",
       "      <th></th>\n",
       "      <th>universe_id</th>\n",
       "      <th>universe_training_year</th>\n",
       "      <th>universe_training_size</th>\n",
       "      <th>universe_scale</th>\n",
       "      <th>universe_model</th>\n",
       "      <th>universe_exclude_features</th>\n",
       "      <th>universe_exclude_subgroups</th>\n",
       "      <th>q_hat</th>\n",
       "      <th>coverage</th>\n",
       "      <th>avg_size</th>\n",
       "    </tr>\n",
       "  </thead>\n",
       "  <tbody>\n",
       "    <tr>\n",
       "      <th>0</th>\n",
       "      <td>ecaac092d3caf56aa3010576b3441167</td>\n",
       "      <td>2010_14</td>\n",
       "      <td>1k</td>\n",
       "      <td>scale</td>\n",
       "      <td>elasticnet</td>\n",
       "      <td>none</td>\n",
       "      <td>drop-non-german</td>\n",
       "      <td>0.753148</td>\n",
       "      <td>0.910645</td>\n",
       "      <td>1.205652</td>\n",
       "    </tr>\n",
       "  </tbody>\n",
       "</table>\n",
       "</div>"
      ],
      "text/plain": [
       "                        universe_id universe_training_year  \\\n",
       "0  ecaac092d3caf56aa3010576b3441167                2010_14   \n",
       "\n",
       "  universe_training_size universe_scale universe_model  \\\n",
       "0                     1k          scale     elasticnet   \n",
       "\n",
       "  universe_exclude_features universe_exclude_subgroups     q_hat  coverage  \\\n",
       "0                      none            drop-non-german  0.753148  0.910645   \n",
       "\n",
       "   avg_size  \n",
       "0  1.205652  "
      ]
     },
     "execution_count": 50,
     "metadata": {},
     "output_type": "execute_result"
    }
   ],
   "source": [
    "cp_metrics_df"
   ]
  },
  {
   "cell_type": "markdown",
   "id": "ed608b0b",
   "metadata": {
    "papermill": {
     "duration": 0.01256,
     "end_time": "2025-08-19T19:08:11.575565",
     "exception": false,
     "start_time": "2025-08-19T19:08:11.563005",
     "status": "completed"
    },
    "tags": []
   },
   "source": [
    "Conditional coverage & looking at subgroups"
   ]
  },
  {
   "cell_type": "code",
   "execution_count": 51,
   "id": "8968c366",
   "metadata": {
    "execution": {
     "iopub.execute_input": "2025-08-19T19:08:11.604323Z",
     "iopub.status.busy": "2025-08-19T19:08:11.603266Z",
     "iopub.status.idle": "2025-08-19T19:08:11.885937Z",
     "shell.execute_reply": "2025-08-19T19:08:11.884946Z"
    },
    "papermill": {
     "duration": 0.299206,
     "end_time": "2025-08-19T19:08:11.888803",
     "exception": false,
     "start_time": "2025-08-19T19:08:11.589597",
     "status": "completed"
    },
    "tags": []
   },
   "outputs": [],
   "source": [
    "from fairness_multiverse.conformal import build_cp_groups\n",
    "\n",
    "cp_groups_df = build_cp_groups(pred_sets, y_true, X_test.index, org_test)"
   ]
  },
  {
   "cell_type": "code",
   "execution_count": 52,
   "id": "292ddabf",
   "metadata": {
    "execution": {
     "iopub.execute_input": "2025-08-19T19:08:11.933639Z",
     "iopub.status.busy": "2025-08-19T19:08:11.932312Z",
     "iopub.status.idle": "2025-08-19T19:08:12.801534Z",
     "shell.execute_reply": "2025-08-19T19:08:12.800294Z"
    },
    "papermill": {
     "duration": 0.887901,
     "end_time": "2025-08-19T19:08:12.804536",
     "exception": false,
     "start_time": "2025-08-19T19:08:11.916635",
     "status": "completed"
    },
    "tags": []
   },
   "outputs": [],
   "source": [
    "# Define covered = 1 if true_label is in the predicted set\n",
    "cp_groups_df['covered'] = cp_groups_df.apply(\n",
    "    lambda r: int(r['true_label'] in r['pred_set']),\n",
    "    axis=1\n",
    ")"
   ]
  },
  {
   "cell_type": "code",
   "execution_count": 53,
   "id": "3a261692",
   "metadata": {
    "execution": {
     "iopub.execute_input": "2025-08-19T19:08:12.847830Z",
     "iopub.status.busy": "2025-08-19T19:08:12.846400Z",
     "iopub.status.idle": "2025-08-19T19:08:12.870089Z",
     "shell.execute_reply": "2025-08-19T19:08:12.869230Z"
    },
    "papermill": {
     "duration": 0.04128,
     "end_time": "2025-08-19T19:08:12.871842",
     "exception": false,
     "start_time": "2025-08-19T19:08:12.830562",
     "status": "completed"
    },
    "tags": []
   },
   "outputs": [],
   "source": [
    "subgroups = ['frau1','nongerman','nongerman_male','nongerman_female']\n",
    "\n",
    "# Conditional coverage for subgroup==1\n",
    "cond_coverage = {\n",
    "    g: cp_groups_df.loc[cp_groups_df[g]==1, 'covered'].mean()\n",
    "    for g in subgroups\n",
    "}"
   ]
  },
  {
   "cell_type": "code",
   "execution_count": 54,
   "id": "894fd600",
   "metadata": {
    "execution": {
     "iopub.execute_input": "2025-08-19T19:08:12.899571Z",
     "iopub.status.busy": "2025-08-19T19:08:12.898226Z",
     "iopub.status.idle": "2025-08-19T19:08:12.909837Z",
     "shell.execute_reply": "2025-08-19T19:08:12.908805Z"
    },
    "papermill": {
     "duration": 0.026796,
     "end_time": "2025-08-19T19:08:12.911302",
     "exception": false,
     "start_time": "2025-08-19T19:08:12.884506",
     "status": "completed"
    },
    "tags": []
   },
   "outputs": [
    {
     "data": {
      "text/plain": [
       "{'frau1': 0.9100687424181156,\n",
       " 'nongerman': 0.9137147027451861,\n",
       " 'nongerman_male': 0.9281275330991624,\n",
       " 'nongerman_female': 0.889865871833085}"
      ]
     },
     "execution_count": 54,
     "metadata": {},
     "output_type": "execute_result"
    }
   ],
   "source": [
    "cond_coverage"
   ]
  },
  {
   "cell_type": "code",
   "execution_count": 55,
   "id": "942895c7",
   "metadata": {
    "execution": {
     "iopub.execute_input": "2025-08-19T19:08:12.944897Z",
     "iopub.status.busy": "2025-08-19T19:08:12.943467Z",
     "iopub.status.idle": "2025-08-19T19:08:12.956416Z",
     "shell.execute_reply": "2025-08-19T19:08:12.955060Z"
    },
    "papermill": {
     "duration": 0.029126,
     "end_time": "2025-08-19T19:08:12.958004",
     "exception": false,
     "start_time": "2025-08-19T19:08:12.928878",
     "status": "completed"
    },
    "tags": []
   },
   "outputs": [],
   "source": [
    "for subgroup, cov in cond_coverage.items():\n",
    "    cp_metrics_df[f\"cov_{subgroup}\"] = cov"
   ]
  },
  {
   "cell_type": "code",
   "execution_count": 56,
   "id": "3970120f",
   "metadata": {
    "execution": {
     "iopub.execute_input": "2025-08-19T19:08:12.985781Z",
     "iopub.status.busy": "2025-08-19T19:08:12.984385Z",
     "iopub.status.idle": "2025-08-19T19:08:13.017104Z",
     "shell.execute_reply": "2025-08-19T19:08:13.015808Z"
    },
    "papermill": {
     "duration": 0.047584,
     "end_time": "2025-08-19T19:08:13.018311",
     "exception": false,
     "start_time": "2025-08-19T19:08:12.970727",
     "status": "completed"
    },
    "tags": []
   },
   "outputs": [
    {
     "data": {
      "text/html": [
       "<div>\n",
       "<style scoped>\n",
       "    .dataframe tbody tr th:only-of-type {\n",
       "        vertical-align: middle;\n",
       "    }\n",
       "\n",
       "    .dataframe tbody tr th {\n",
       "        vertical-align: top;\n",
       "    }\n",
       "\n",
       "    .dataframe thead th {\n",
       "        text-align: right;\n",
       "    }\n",
       "</style>\n",
       "<table border=\"1\" class=\"dataframe\">\n",
       "  <thead>\n",
       "    <tr style=\"text-align: right;\">\n",
       "      <th></th>\n",
       "      <th>universe_id</th>\n",
       "      <th>universe_training_year</th>\n",
       "      <th>universe_training_size</th>\n",
       "      <th>universe_scale</th>\n",
       "      <th>universe_model</th>\n",
       "      <th>universe_exclude_features</th>\n",
       "      <th>universe_exclude_subgroups</th>\n",
       "      <th>q_hat</th>\n",
       "      <th>coverage</th>\n",
       "      <th>avg_size</th>\n",
       "      <th>cov_frau1</th>\n",
       "      <th>cov_nongerman</th>\n",
       "      <th>cov_nongerman_male</th>\n",
       "      <th>cov_nongerman_female</th>\n",
       "    </tr>\n",
       "  </thead>\n",
       "  <tbody>\n",
       "    <tr>\n",
       "      <th>0</th>\n",
       "      <td>ecaac092d3caf56aa3010576b3441167</td>\n",
       "      <td>2010_14</td>\n",
       "      <td>1k</td>\n",
       "      <td>scale</td>\n",
       "      <td>elasticnet</td>\n",
       "      <td>none</td>\n",
       "      <td>drop-non-german</td>\n",
       "      <td>0.753148</td>\n",
       "      <td>0.910645</td>\n",
       "      <td>1.205652</td>\n",
       "      <td>0.910069</td>\n",
       "      <td>0.913715</td>\n",
       "      <td>0.928128</td>\n",
       "      <td>0.889866</td>\n",
       "    </tr>\n",
       "  </tbody>\n",
       "</table>\n",
       "</div>"
      ],
      "text/plain": [
       "                        universe_id universe_training_year  \\\n",
       "0  ecaac092d3caf56aa3010576b3441167                2010_14   \n",
       "\n",
       "  universe_training_size universe_scale universe_model  \\\n",
       "0                     1k          scale     elasticnet   \n",
       "\n",
       "  universe_exclude_features universe_exclude_subgroups     q_hat  coverage  \\\n",
       "0                      none            drop-non-german  0.753148  0.910645   \n",
       "\n",
       "   avg_size  cov_frau1  cov_nongerman  cov_nongerman_male  \\\n",
       "0  1.205652   0.910069       0.913715            0.928128   \n",
       "\n",
       "   cov_nongerman_female  \n",
       "0              0.889866  "
      ]
     },
     "execution_count": 56,
     "metadata": {},
     "output_type": "execute_result"
    }
   ],
   "source": [
    "cp_metrics_df"
   ]
  },
  {
   "cell_type": "markdown",
   "id": "3fc519cc",
   "metadata": {
    "papermill": {
     "duration": 0.012309,
     "end_time": "2025-08-19T19:08:13.043076",
     "exception": false,
     "start_time": "2025-08-19T19:08:13.030767",
     "status": "completed"
    },
    "tags": []
   },
   "source": [
    "# (Fairness) Metrics"
   ]
  },
  {
   "cell_type": "code",
   "execution_count": 57,
   "id": "a2e5e155",
   "metadata": {
    "execution": {
     "iopub.execute_input": "2025-08-19T19:08:13.073049Z",
     "iopub.status.busy": "2025-08-19T19:08:13.071643Z",
     "iopub.status.idle": "2025-08-19T19:08:13.091865Z",
     "shell.execute_reply": "2025-08-19T19:08:13.091105Z"
    },
    "papermill": {
     "duration": 0.038161,
     "end_time": "2025-08-19T19:08:13.093368",
     "exception": false,
     "start_time": "2025-08-19T19:08:13.055207",
     "status": "completed"
    },
    "tags": []
   },
   "outputs": [],
   "source": [
    "colname_to_bin = \"maxdeutsch1\"\n",
    "majority_value = org_train[colname_to_bin].mode()[0]\n",
    "\n",
    "org_test[\"majmin\"] = np.where(org_test[colname_to_bin] == majority_value, \"majority\", \"minority\")"
   ]
  },
  {
   "cell_type": "code",
   "execution_count": 58,
   "id": "17e3e4d5",
   "metadata": {
    "execution": {
     "iopub.execute_input": "2025-08-19T19:08:13.121045Z",
     "iopub.status.busy": "2025-08-19T19:08:13.119762Z",
     "iopub.status.idle": "2025-08-19T19:08:14.847651Z",
     "shell.execute_reply": "2025-08-19T19:08:14.846464Z"
    },
    "papermill": {
     "duration": 1.743403,
     "end_time": "2025-08-19T19:08:14.849327",
     "exception": false,
     "start_time": "2025-08-19T19:08:13.105924",
     "status": "completed"
    },
    "tags": []
   },
   "outputs": [],
   "source": [
    "example_universe = universe.copy()\n",
    "example_universe[\"cutoff\"] = example_universe[\"cutoff\"][0]\n",
    "example_universe[\"eval_fairness_grouping\"] = example_universe[\"eval_fairness_grouping\"][0]\n",
    "fairness_dict, metric_frame = universe_analysis.compute_metrics(\n",
    "    example_universe,\n",
    "    y_pred_prob=probs_test,\n",
    "    y_test=y_true,\n",
    "    org_test=org_test,\n",
    ")"
   ]
  },
  {
   "cell_type": "markdown",
   "id": "1fb7a0e9",
   "metadata": {
    "papermill": {
     "duration": 0.012905,
     "end_time": "2025-08-19T19:08:14.875116",
     "exception": false,
     "start_time": "2025-08-19T19:08:14.862211",
     "status": "completed"
    },
    "tags": []
   },
   "source": [
    "# Overall"
   ]
  },
  {
   "cell_type": "markdown",
   "id": "be1784b1",
   "metadata": {
    "papermill": {
     "duration": 0.012887,
     "end_time": "2025-08-19T19:08:14.900951",
     "exception": false,
     "start_time": "2025-08-19T19:08:14.888064",
     "status": "completed"
    },
    "tags": []
   },
   "source": [
    "Main fairness target: Equalized Odds. Seems to be a better fit than equal opportunity, since we're not only interested in Y = 1. Seems to be a better fit than demographic parity, since we also care about accuracy, not just equal distribution of preds.\n",
    "\n",
    "Pick column for computation of fairness metrics\n",
    "\n",
    "Performance\n",
    "Overall performance measures, most interesting in relation to the measures split by group below"
   ]
  },
  {
   "cell_type": "code",
   "execution_count": 59,
   "id": "b7672bee",
   "metadata": {
    "execution": {
     "iopub.execute_input": "2025-08-19T19:08:14.928850Z",
     "iopub.status.busy": "2025-08-19T19:08:14.928182Z",
     "iopub.status.idle": "2025-08-19T19:08:14.937540Z",
     "shell.execute_reply": "2025-08-19T19:08:14.936762Z"
    },
    "papermill": {
     "duration": 0.025202,
     "end_time": "2025-08-19T19:08:14.938965",
     "exception": false,
     "start_time": "2025-08-19T19:08:14.913763",
     "status": "completed"
    },
    "tags": []
   },
   "outputs": [
    {
     "data": {
      "text/plain": [
       "accuracy                   0.218917\n",
       "balanced accuracy          0.536424\n",
       "f1                         0.240398\n",
       "precision                  0.137331\n",
       "false positive rate        0.890655\n",
       "false negative rate        0.036496\n",
       "selection rate             0.900000\n",
       "count                  89710.000000\n",
       "dtype: float64"
      ]
     },
     "execution_count": 59,
     "metadata": {},
     "output_type": "execute_result"
    }
   ],
   "source": [
    "metric_frame.overall"
   ]
  },
  {
   "cell_type": "markdown",
   "id": "d93333c9",
   "metadata": {
    "papermill": {
     "duration": 0.013161,
     "end_time": "2025-08-19T19:08:14.967329",
     "exception": false,
     "start_time": "2025-08-19T19:08:14.954168",
     "status": "completed"
    },
    "tags": []
   },
   "source": [
    "By Group"
   ]
  },
  {
   "cell_type": "code",
   "execution_count": 60,
   "id": "52256966",
   "metadata": {
    "execution": {
     "iopub.execute_input": "2025-08-19T19:08:14.994595Z",
     "iopub.status.busy": "2025-08-19T19:08:14.994263Z",
     "iopub.status.idle": "2025-08-19T19:08:15.021538Z",
     "shell.execute_reply": "2025-08-19T19:08:15.020755Z"
    },
    "papermill": {
     "duration": 0.042945,
     "end_time": "2025-08-19T19:08:15.023255",
     "exception": false,
     "start_time": "2025-08-19T19:08:14.980310",
     "status": "completed"
    },
    "tags": []
   },
   "outputs": [
    {
     "data": {
      "text/html": [
       "<div>\n",
       "<style scoped>\n",
       "    .dataframe tbody tr th:only-of-type {\n",
       "        vertical-align: middle;\n",
       "    }\n",
       "\n",
       "    .dataframe tbody tr th {\n",
       "        vertical-align: top;\n",
       "    }\n",
       "\n",
       "    .dataframe thead th {\n",
       "        text-align: right;\n",
       "    }\n",
       "</style>\n",
       "<table border=\"1\" class=\"dataframe\">\n",
       "  <thead>\n",
       "    <tr style=\"text-align: right;\">\n",
       "      <th></th>\n",
       "      <th>accuracy</th>\n",
       "      <th>balanced accuracy</th>\n",
       "      <th>f1</th>\n",
       "      <th>precision</th>\n",
       "      <th>false positive rate</th>\n",
       "      <th>false negative rate</th>\n",
       "      <th>selection rate</th>\n",
       "      <th>count</th>\n",
       "    </tr>\n",
       "    <tr>\n",
       "      <th>majmin</th>\n",
       "      <th></th>\n",
       "      <th></th>\n",
       "      <th></th>\n",
       "      <th></th>\n",
       "      <th></th>\n",
       "      <th></th>\n",
       "      <th></th>\n",
       "      <th></th>\n",
       "    </tr>\n",
       "  </thead>\n",
       "  <tbody>\n",
       "    <tr>\n",
       "      <th>majority</th>\n",
       "      <td>0.233049</td>\n",
       "      <td>0.541211</td>\n",
       "      <td>0.248584</td>\n",
       "      <td>0.142776</td>\n",
       "      <td>0.877645</td>\n",
       "      <td>0.039934</td>\n",
       "      <td>0.888535</td>\n",
       "      <td>69170.0</td>\n",
       "    </tr>\n",
       "    <tr>\n",
       "      <th>minority</th>\n",
       "      <td>0.171324</td>\n",
       "      <td>0.521570</td>\n",
       "      <td>0.213702</td>\n",
       "      <td>0.119975</td>\n",
       "      <td>0.933634</td>\n",
       "      <td>0.023226</td>\n",
       "      <td>0.938608</td>\n",
       "      <td>20540.0</td>\n",
       "    </tr>\n",
       "  </tbody>\n",
       "</table>\n",
       "</div>"
      ],
      "text/plain": [
       "          accuracy  balanced accuracy        f1  precision  \\\n",
       "majmin                                                       \n",
       "majority  0.233049           0.541211  0.248584   0.142776   \n",
       "minority  0.171324           0.521570  0.213702   0.119975   \n",
       "\n",
       "          false positive rate  false negative rate  selection rate    count  \n",
       "majmin                                                                       \n",
       "majority             0.877645             0.039934        0.888535  69170.0  \n",
       "minority             0.933634             0.023226        0.938608  20540.0  "
      ]
     },
     "execution_count": 60,
     "metadata": {},
     "output_type": "execute_result"
    }
   ],
   "source": [
    "metric_frame.by_group"
   ]
  },
  {
   "cell_type": "code",
   "execution_count": 61,
   "id": "6e6c20ae",
   "metadata": {
    "execution": {
     "iopub.execute_input": "2025-08-19T19:08:15.058881Z",
     "iopub.status.busy": "2025-08-19T19:08:15.058391Z",
     "iopub.status.idle": "2025-08-19T19:08:16.924784Z",
     "shell.execute_reply": "2025-08-19T19:08:16.923924Z"
    },
    "papermill": {
     "duration": 1.885792,
     "end_time": "2025-08-19T19:08:16.929214",
     "exception": false,
     "start_time": "2025-08-19T19:08:15.043422",
     "status": "completed"
    },
    "tags": []
   },
   "outputs": [
    {
     "data": {
      "text/plain": [
       "array([[<Axes: title={'center': 'accuracy'}, xlabel='majmin'>,\n",
       "        <Axes: title={'center': 'balanced accuracy'}, xlabel='majmin'>,\n",
       "        <Axes: title={'center': 'f1'}, xlabel='majmin'>],\n",
       "       [<Axes: title={'center': 'precision'}, xlabel='majmin'>,\n",
       "        <Axes: title={'center': 'false positive rate'}, xlabel='majmin'>,\n",
       "        <Axes: title={'center': 'false negative rate'}, xlabel='majmin'>],\n",
       "       [<Axes: title={'center': 'selection rate'}, xlabel='majmin'>,\n",
       "        <Axes: title={'center': 'count'}, xlabel='majmin'>,\n",
       "        <Axes: xlabel='majmin'>]], dtype=object)"
      ]
     },
     "execution_count": 61,
     "metadata": {},
     "output_type": "execute_result"
    },
    {
     "data": {
      "image/png": "[encoded data removed]",
      "text/plain": [
       "<Figure size 1200x800 with 9 Axes>"
      ]
     },
     "metadata": {},
     "output_type": "display_data"
    }
   ],
   "source": [
    "# In a graphic\n",
    "metric_frame.by_group.plot.bar(\n",
    "    subplots=True,\n",
    "    layout=[3, 3],\n",
    "    legend=False,\n",
    "    figsize=[12, 8],\n",
    "    title=\"Show all metrics\",\n",
    ")"
   ]
  },
  {
   "cell_type": "markdown",
   "id": "b2e433ae",
   "metadata": {
    "papermill": {
     "duration": 0.01366,
     "end_time": "2025-08-19T19:08:16.969617",
     "exception": false,
     "start_time": "2025-08-19T19:08:16.955957",
     "status": "completed"
    },
    "tags": []
   },
   "source": [
    "# Final Output"
   ]
  },
  {
   "cell_type": "code",
   "execution_count": 62,
   "id": "3871301e",
   "metadata": {
    "execution": {
     "iopub.execute_input": "2025-08-19T19:08:16.999627Z",
     "iopub.status.busy": "2025-08-19T19:08:16.998853Z",
     "iopub.status.idle": "2025-08-19T19:08:17.006127Z",
     "shell.execute_reply": "2025-08-19T19:08:17.005461Z"
    },
    "papermill": {
     "duration": 0.023469,
     "end_time": "2025-08-19T19:08:17.007385",
     "exception": false,
     "start_time": "2025-08-19T19:08:16.983916",
     "status": "completed"
    },
    "tags": []
   },
   "outputs": [
    {
     "data": {
      "text/plain": [
       "4"
      ]
     },
     "execution_count": 62,
     "metadata": {},
     "output_type": "execute_result"
    }
   ],
   "source": [
    "sub_universes = universe_analysis.generate_sub_universes()\n",
    "len(sub_universes)"
   ]
  },
  {
   "cell_type": "code",
   "execution_count": 63,
   "id": "d9cfdaca",
   "metadata": {
    "execution": {
     "iopub.execute_input": "2025-08-19T19:08:17.038923Z",
     "iopub.status.busy": "2025-08-19T19:08:17.038423Z",
     "iopub.status.idle": "2025-08-19T19:08:17.044272Z",
     "shell.execute_reply": "2025-08-19T19:08:17.043580Z"
    },
    "papermill": {
     "duration": 0.021778,
     "end_time": "2025-08-19T19:08:17.045450",
     "exception": false,
     "start_time": "2025-08-19T19:08:17.023672",
     "status": "completed"
    },
    "tags": []
   },
   "outputs": [],
   "source": [
    "def filter_sub_universe_data(sub_universe, org_test):\n",
    "    # Keep all rows — no filtering\n",
    "    keep_rows_mask = np.ones(org_test.shape[0], dtype=bool)\n",
    "\n",
    "    print(f\"[INFO] Keeping all rows: {keep_rows_mask.sum()} rows retained.\")\n",
    "    return keep_rows_mask"
   ]
  },
  {
   "cell_type": "code",
   "execution_count": 64,
   "id": "2bc31ac1",
   "metadata": {
    "execution": {
     "iopub.execute_input": "2025-08-19T19:08:17.081531Z",
     "iopub.status.busy": "2025-08-19T19:08:17.081064Z",
     "iopub.status.idle": "2025-08-19T19:08:24.225744Z",
     "shell.execute_reply": "2025-08-19T19:08:24.223827Z"
    },
    "papermill": {
     "duration": 7.165837,
     "end_time": "2025-08-19T19:08:24.227613",
     "exception": false,
     "start_time": "2025-08-19T19:08:17.061776",
     "status": "completed"
    },
    "tags": []
   },
   "outputs": [
    {
     "name": "stdout",
     "output_type": "stream",
     "text": [
      "Stopping execution_time clock.\n",
      "[INFO] Keeping all rows: 89710 rows retained.\n"
     ]
    },
    {
     "name": "stdout",
     "output_type": "stream",
     "text": [
      "[INFO] Keeping all rows: 89710 rows retained.\n"
     ]
    },
    {
     "name": "stdout",
     "output_type": "stream",
     "text": [
      "[INFO] Keeping all rows: 89710 rows retained.\n"
     ]
    },
    {
     "name": "stdout",
     "output_type": "stream",
     "text": [
      "[INFO] Keeping all rows: 89710 rows retained.\n"
     ]
    },
    {
     "data": {
      "text/html": [
       "<div>\n",
       "<style scoped>\n",
       "    .dataframe tbody tr th:only-of-type {\n",
       "        vertical-align: middle;\n",
       "    }\n",
       "\n",
       "    .dataframe tbody tr th {\n",
       "        vertical-align: top;\n",
       "    }\n",
       "\n",
       "    .dataframe thead th {\n",
       "        text-align: right;\n",
       "    }\n",
       "</style>\n",
       "<table border=\"1\" class=\"dataframe\">\n",
       "  <thead>\n",
       "    <tr style=\"text-align: right;\">\n",
       "      <th></th>\n",
       "      <th>run_no</th>\n",
       "      <th>universe_id</th>\n",
       "      <th>universe_settings</th>\n",
       "      <th>execution_time</th>\n",
       "      <th>test_size_n</th>\n",
       "      <th>test_size_frac</th>\n",
       "      <th>fair_main_equalized_odds_difference</th>\n",
       "      <th>fair_main_equalized_odds_ratio</th>\n",
       "      <th>fair_main_demographic_parity_difference</th>\n",
       "      <th>fair_main_demographic_parity_ratio</th>\n",
       "      <th>...</th>\n",
       "      <th>perf_grp_precision_0</th>\n",
       "      <th>perf_grp_precision_1</th>\n",
       "      <th>perf_grp_false positive rate_0</th>\n",
       "      <th>perf_grp_false positive rate_1</th>\n",
       "      <th>perf_grp_false negative rate_0</th>\n",
       "      <th>perf_grp_false negative rate_1</th>\n",
       "      <th>perf_grp_selection rate_0</th>\n",
       "      <th>perf_grp_selection rate_1</th>\n",
       "      <th>perf_grp_count_0</th>\n",
       "      <th>perf_grp_count_1</th>\n",
       "    </tr>\n",
       "  </thead>\n",
       "  <tbody>\n",
       "    <tr>\n",
       "      <th>0</th>\n",
       "      <td>3</td>\n",
       "      <td>ecaac092d3caf56aa3010576b3441167</td>\n",
       "      <td>{\"cutoff\": \"quantile_0.1\", \"eval_fairness_grou...</td>\n",
       "      <td>21.117649</td>\n",
       "      <td>89710</td>\n",
       "      <td>1.0</td>\n",
       "      <td>0.055990</td>\n",
       "      <td>0.940030</td>\n",
       "      <td>0.050072</td>\n",
       "      <td>0.946653</td>\n",
       "      <td>...</td>\n",
       "      <td>NaN</td>\n",
       "      <td>NaN</td>\n",
       "      <td>NaN</td>\n",
       "      <td>NaN</td>\n",
       "      <td>NaN</td>\n",
       "      <td>NaN</td>\n",
       "      <td>NaN</td>\n",
       "      <td>NaN</td>\n",
       "      <td>NaN</td>\n",
       "      <td>NaN</td>\n",
       "    </tr>\n",
       "    <tr>\n",
       "      <th>0</th>\n",
       "      <td>3</td>\n",
       "      <td>ecaac092d3caf56aa3010576b3441167</td>\n",
       "      <td>{\"cutoff\": \"quantile_0.1\", \"eval_fairness_grou...</td>\n",
       "      <td>21.117649</td>\n",
       "      <td>89710</td>\n",
       "      <td>1.0</td>\n",
       "      <td>0.055990</td>\n",
       "      <td>0.940030</td>\n",
       "      <td>0.050072</td>\n",
       "      <td>0.946653</td>\n",
       "      <td>...</td>\n",
       "      <td>0.119975</td>\n",
       "      <td>0.142776</td>\n",
       "      <td>0.933634</td>\n",
       "      <td>0.877645</td>\n",
       "      <td>0.023226</td>\n",
       "      <td>0.039934</td>\n",
       "      <td>0.938608</td>\n",
       "      <td>0.888535</td>\n",
       "      <td>20540.0</td>\n",
       "      <td>69170.0</td>\n",
       "    </tr>\n",
       "    <tr>\n",
       "      <th>0</th>\n",
       "      <td>3</td>\n",
       "      <td>ecaac092d3caf56aa3010576b3441167</td>\n",
       "      <td>{\"cutoff\": \"quantile_0.25\", \"eval_fairness_gro...</td>\n",
       "      <td>21.117649</td>\n",
       "      <td>89710</td>\n",
       "      <td>1.0</td>\n",
       "      <td>0.144296</td>\n",
       "      <td>0.828157</td>\n",
       "      <td>0.130018</td>\n",
       "      <td>0.847082</td>\n",
       "      <td>...</td>\n",
       "      <td>NaN</td>\n",
       "      <td>NaN</td>\n",
       "      <td>NaN</td>\n",
       "      <td>NaN</td>\n",
       "      <td>NaN</td>\n",
       "      <td>NaN</td>\n",
       "      <td>NaN</td>\n",
       "      <td>NaN</td>\n",
       "      <td>NaN</td>\n",
       "      <td>NaN</td>\n",
       "    </tr>\n",
       "    <tr>\n",
       "      <th>0</th>\n",
       "      <td>3</td>\n",
       "      <td>ecaac092d3caf56aa3010576b3441167</td>\n",
       "      <td>{\"cutoff\": \"quantile_0.25\", \"eval_fairness_gro...</td>\n",
       "      <td>21.117649</td>\n",
       "      <td>89710</td>\n",
       "      <td>1.0</td>\n",
       "      <td>0.144296</td>\n",
       "      <td>0.828157</td>\n",
       "      <td>0.130018</td>\n",
       "      <td>0.847082</td>\n",
       "      <td>...</td>\n",
       "      <td>0.126260</td>\n",
       "      <td>0.162050</td>\n",
       "      <td>0.839698</td>\n",
       "      <td>0.695402</td>\n",
       "      <td>0.068834</td>\n",
       "      <td>0.116740</td>\n",
       "      <td>0.850243</td>\n",
       "      <td>0.720226</td>\n",
       "      <td>20540.0</td>\n",
       "      <td>69170.0</td>\n",
       "    </tr>\n",
       "  </tbody>\n",
       "</table>\n",
       "<p>4 rows × 50 columns</p>\n",
       "</div>"
      ],
      "text/plain": [
       "  run_no                       universe_id  \\\n",
       "0      3  ecaac092d3caf56aa3010576b3441167   \n",
       "0      3  ecaac092d3caf56aa3010576b3441167   \n",
       "0      3  ecaac092d3caf56aa3010576b3441167   \n",
       "0      3  ecaac092d3caf56aa3010576b3441167   \n",
       "\n",
       "                                   universe_settings  execution_time  \\\n",
       "0  {\"cutoff\": \"quantile_0.1\", \"eval_fairness_grou...       21.117649   \n",
       "0  {\"cutoff\": \"quantile_0.1\", \"eval_fairness_grou...       21.117649   \n",
       "0  {\"cutoff\": \"quantile_0.25\", \"eval_fairness_gro...       21.117649   \n",
       "0  {\"cutoff\": \"quantile_0.25\", \"eval_fairness_gro...       21.117649   \n",
       "\n",
       "   test_size_n  test_size_frac  fair_main_equalized_odds_difference  \\\n",
       "0        89710             1.0                             0.055990   \n",
       "0        89710             1.0                             0.055990   \n",
       "0        89710             1.0                             0.144296   \n",
       "0        89710             1.0                             0.144296   \n",
       "\n",
       "   fair_main_equalized_odds_ratio  fair_main_demographic_parity_difference  \\\n",
       "0                        0.940030                                 0.050072   \n",
       "0                        0.940030                                 0.050072   \n",
       "0                        0.828157                                 0.130018   \n",
       "0                        0.828157                                 0.130018   \n",
       "\n",
       "   fair_main_demographic_parity_ratio  ...  perf_grp_precision_0  \\\n",
       "0                            0.946653  ...                   NaN   \n",
       "0                            0.946653  ...              0.119975   \n",
       "0                            0.847082  ...                   NaN   \n",
       "0                            0.847082  ...              0.126260   \n",
       "\n",
       "   perf_grp_precision_1  perf_grp_false positive rate_0  \\\n",
       "0                   NaN                             NaN   \n",
       "0              0.142776                        0.933634   \n",
       "0                   NaN                             NaN   \n",
       "0              0.162050                        0.839698   \n",
       "\n",
       "   perf_grp_false positive rate_1  perf_grp_false negative rate_0  \\\n",
       "0                             NaN                             NaN   \n",
       "0                        0.877645                        0.023226   \n",
       "0                             NaN                             NaN   \n",
       "0                        0.695402                        0.068834   \n",
       "\n",
       "   perf_grp_false negative rate_1  perf_grp_selection rate_0  \\\n",
       "0                             NaN                        NaN   \n",
       "0                        0.039934                   0.938608   \n",
       "0                             NaN                        NaN   \n",
       "0                        0.116740                   0.850243   \n",
       "\n",
       "   perf_grp_selection rate_1  perf_grp_count_0  perf_grp_count_1  \n",
       "0                        NaN               NaN               NaN  \n",
       "0                   0.888535           20540.0           69170.0  \n",
       "0                        NaN               NaN               NaN  \n",
       "0                   0.720226           20540.0           69170.0  \n",
       "\n",
       "[4 rows x 50 columns]"
      ]
     },
     "execution_count": 64,
     "metadata": {},
     "output_type": "execute_result"
    }
   ],
   "source": [
    "final_output = universe_analysis.generate_final_output(\n",
    "    y_pred_prob=probs_test,\n",
    "    y_test=y_true,\n",
    "    org_test=org_test,\n",
    "    filter_data=filter_sub_universe_data,\n",
    "    cp_metrics_df=cp_metrics_df,\n",
    "    save=True,\n",
    ")\n",
    "final_output"
   ]
  },
  {
   "cell_type": "code",
   "execution_count": null,
   "id": "8b80a1ff",
   "metadata": {
    "papermill": {
     "duration": 0.014857,
     "end_time": "2025-08-19T19:08:24.260448",
     "exception": false,
     "start_time": "2025-08-19T19:08:24.245591",
     "status": "completed"
    },
    "tags": []
   },
   "outputs": [],
   "source": []
  },
  {
   "cell_type": "code",
   "execution_count": null,
   "id": "275c9fad",
   "metadata": {
    "papermill": {
     "duration": 0.014994,
     "end_time": "2025-08-19T19:08:24.290571",
     "exception": false,
     "start_time": "2025-08-19T19:08:24.275577",
     "status": "completed"
    },
    "tags": []
   },
   "outputs": [],
   "source": []
  }
 ],
 "metadata": {
  "celltoolbar": "Tags",
  "kernelspec": {
   "display_name": "Python (CMA Fairness)",
   "language": "python",
   "name": "cma_fair_env"
  },
  "language_info": {
   "codemirror_mode": {
    "name": "ipython",
    "version": 3
   },
   "file_extension": ".py",
   "mimetype": "text/x-python",
   "name": "python",
   "nbconvert_exporter": "python",
   "pygments_lexer": "ipython3",
   "version": "3.10.12"
  },
  "papermill": {
   "default_parameters": {},
   "duration": 32.45826,
   "end_time": "2025-08-19T19:08:25.453476",
   "environment_variables": {},
   "exception": null,
   "input_path": "universe_analysis.ipynb",
   "output_path": "output/runs/3/notebooks/m_3-ecaac092d3caf56aa3010576b3441167.ipynb",
   "parameters": {
    "output_dir": "output",
    "run_no": "3",
    "seed": "2023",
    "universe": "{\"cutoff\": [\"quantile_0.1\", \"quantile_0.25\"], \"eval_fairness_grouping\": [\"majority-minority\", \"nationality-all\"], \"exclude_features\": \"none\", \"exclude_subgroups\": \"drop-non-german\", \"model\": \"elasticnet\", \"scale\": \"scale\", \"training_size\": \"1k\", \"training_year\": \"2010_14\"}",
    "universe_id": "ecaac092d3caf56aa3010576b3441167"
   },
   "start_time": "2025-08-19T19:07:52.995216",
   "version": "2.6.0"
  }
 },
 "nbformat": 4,
 "nbformat_minor": 5
}