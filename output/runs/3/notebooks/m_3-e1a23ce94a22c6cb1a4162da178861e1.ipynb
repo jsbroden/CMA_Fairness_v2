{
 "cells": [
  {
   "cell_type": "markdown",
   "id": "ef23dbb3",
   "metadata": {
    "papermill": {
     "duration": 0.009327,
     "end_time": "2025-08-19T17:57:26.656859",
     "exception": false,
     "start_time": "2025-08-19T17:57:26.647532",
     "status": "completed"
    },
    "tags": []
   },
   "source": [
    "# Setup"
   ]
  },
  {
   "cell_type": "code",
   "execution_count": 1,
   "id": "0bc8e7dc",
   "metadata": {
    "execution": {
     "iopub.execute_input": "2025-08-19T17:57:26.677267Z",
     "iopub.status.busy": "2025-08-19T17:57:26.676034Z",
     "iopub.status.idle": "2025-08-19T17:57:26.696343Z",
     "shell.execute_reply": "2025-08-19T17:57:26.695290Z"
    },
    "papermill": {
     "duration": 0.036847,
     "end_time": "2025-08-19T17:57:26.702428",
     "exception": false,
     "start_time": "2025-08-19T17:57:26.665581",
     "status": "completed"
    },
    "tags": []
   },
   "outputs": [
    {
     "name": "stdout",
     "output_type": "stream",
     "text": [
      "/dss/dsshome1/0C/ra93lal2/cma/CMA_Fairness_v2\n"
     ]
    },
    {
     "name": "stderr",
     "output_type": "stream",
     "text": [
      "/dss/dsshome1/0C/ra93lal2/.local/share/virtualenvs/CMA_Fairness_v2-3j10GkSs/lib/python3.10/site-packages/IPython/core/magics/osm.py:393: UserWarning: This is now an optional IPython functionality, using bookmarks requires you to install the `pickleshare` library.\n",
      "  bkms = self.shell.db.get('bookmarks', {})\n",
      "/dss/dsshome1/0C/ra93lal2/.local/share/virtualenvs/CMA_Fairness_v2-3j10GkSs/lib/python3.10/site-packages/IPython/core/magics/osm.py:417: UserWarning: This is now an optional IPython functionality, setting dhist requires you to install the `pickleshare` library.\n",
      "  self.shell.db['dhist'] = compress_dhist(dhist)[-100:]\n"
     ]
    }
   ],
   "source": [
    "%cd ~/cma/CMA_Fairness_v2"
   ]
  },
  {
   "cell_type": "markdown",
   "id": "9d235661",
   "metadata": {
    "papermill": {
     "duration": 0.010174,
     "end_time": "2025-08-19T17:57:26.728408",
     "exception": false,
     "start_time": "2025-08-19T17:57:26.718234",
     "status": "completed"
    },
    "tags": []
   },
   "source": [
    "The following cell holds the definition of our parameters, these values can be overriden by rendering the with e.g. the following command:\n",
    "\n",
    "papermill -p alpha 0.2 -p ratio 0.3 universe_analysis.ipynb output/test_run.ipynb"
   ]
  },
  {
   "cell_type": "code",
   "execution_count": 2,
   "id": "4a789d8e",
   "metadata": {
    "execution": {
     "iopub.execute_input": "2025-08-19T17:57:26.751124Z",
     "iopub.status.busy": "2025-08-19T17:57:26.749990Z",
     "iopub.status.idle": "2025-08-19T17:57:26.759769Z",
     "shell.execute_reply": "2025-08-19T17:57:26.757931Z"
    },
    "papermill": {
     "duration": 0.024682,
     "end_time": "2025-08-19T17:57:26.761827",
     "exception": false,
     "start_time": "2025-08-19T17:57:26.737145",
     "status": "completed"
    },
    "tags": []
   },
   "outputs": [
    {
     "name": "stdout",
     "output_type": "stream",
     "text": [
      "Current working directory: /dss/dsshome1/0C/ra93lal2/cma/CMA_Fairness_v2\n"
     ]
    }
   ],
   "source": [
    "import os\n",
    "print(\"Current working directory:\", os.getcwd())"
   ]
  },
  {
   "cell_type": "code",
   "execution_count": 3,
   "id": "4132aaed",
   "metadata": {
    "execution": {
     "iopub.execute_input": "2025-08-19T17:57:26.785178Z",
     "iopub.status.busy": "2025-08-19T17:57:26.784294Z",
     "iopub.status.idle": "2025-08-19T17:57:26.795327Z",
     "shell.execute_reply": "2025-08-19T17:57:26.793027Z"
    },
    "papermill": {
     "duration": 0.024169,
     "end_time": "2025-08-19T17:57:26.797146",
     "exception": false,
     "start_time": "2025-08-19T17:57:26.772977",
     "status": "completed"
    },
    "tags": [
     "parameters"
    ]
   },
   "outputs": [],
   "source": [
    "run_no = 0\n",
    "universe_id = \"test\"\n",
    "universe = {\n",
    "    \"training_size\": \"5k\", # \"25k\", \"5k\", \"1k\"\n",
    "    \"training_year\": \"2012_14\", # \"2014\", \"2012_14\", \"2010_14\"\n",
    "    \"scale\": \"scale\", # \"scale\", \"do-not-scale\",\n",
    "    \"model\": \"elasticnet\", # \"logreg\", \"penalized_logreg\", \"rf\", \"gbm\", \"elasticnet\"\n",
    "    \"cutoff\": [\"quantile_0.15\", \"quantile_0.30\"],\n",
    "    \"exclude_features\": \"age\", # \"none\", \"nationality\", \"sex\", \"nationality-sex\", \"age\"\n",
    "    \"exclude_subgroups\": \"drop-non-german\", # \"keep-all\", \"drop-non-german\"\n",
    "    \"eval_fairness_grouping\": [\"majority-minority\", \"nationality-all\"]\n",
    "}\n",
    "\n",
    "output_dir=\"./output\"\n",
    "seed=0"
   ]
  },
  {
   "cell_type": "code",
   "execution_count": 4,
   "id": "80b9f132",
   "metadata": {
    "execution": {
     "iopub.execute_input": "2025-08-19T17:57:26.824065Z",
     "iopub.status.busy": "2025-08-19T17:57:26.823548Z",
     "iopub.status.idle": "2025-08-19T17:57:26.830645Z",
     "shell.execute_reply": "2025-08-19T17:57:26.829600Z"
    },
    "papermill": {
     "duration": 0.021231,
     "end_time": "2025-08-19T17:57:26.832470",
     "exception": false,
     "start_time": "2025-08-19T17:57:26.811239",
     "status": "completed"
    },
    "tags": [
     "injected-parameters"
    ]
   },
   "outputs": [],
   "source": [
    "# Parameters\n",
    "universe_id = \"e1a23ce94a22c6cb1a4162da178861e1\"\n",
    "run_no = \"3\"\n",
    "universe = \"{\\\"cutoff\\\": [\\\"quantile_0.1\\\", \\\"quantile_0.25\\\"], \\\"eval_fairness_grouping\\\": [\\\"majority-minority\\\", \\\"nationality-all\\\"], \\\"exclude_features\\\": \\\"nationality-sex\\\", \\\"exclude_subgroups\\\": \\\"keep-all\\\", \\\"model\\\": \\\"elasticnet\\\", \\\"scale\\\": \\\"scale\\\", \\\"training_size\\\": \\\"25k\\\", \\\"training_year\\\": \\\"2014\\\"}\"\n",
    "output_dir = \"output\"\n",
    "seed = \"2023\"\n"
   ]
  },
  {
   "cell_type": "code",
   "execution_count": 5,
   "id": "a5d7941f",
   "metadata": {
    "execution": {
     "iopub.execute_input": "2025-08-19T17:57:26.867337Z",
     "iopub.status.busy": "2025-08-19T17:57:26.866771Z",
     "iopub.status.idle": "2025-08-19T17:57:26.882945Z",
     "shell.execute_reply": "2025-08-19T17:57:26.881584Z"
    },
    "papermill": {
     "duration": 0.029786,
     "end_time": "2025-08-19T17:57:26.884881",
     "exception": false,
     "start_time": "2025-08-19T17:57:26.855095",
     "status": "completed"
    },
    "tags": []
   },
   "outputs": [],
   "source": [
    "import json\n",
    "if isinstance(universe, str):\n",
    "    universe = json.loads(universe)"
   ]
  },
  {
   "cell_type": "code",
   "execution_count": 6,
   "id": "7076ccb1",
   "metadata": {
    "execution": {
     "iopub.execute_input": "2025-08-19T17:57:26.914008Z",
     "iopub.status.busy": "2025-08-19T17:57:26.912977Z",
     "iopub.status.idle": "2025-08-19T17:57:26.967407Z",
     "shell.execute_reply": "2025-08-19T17:57:26.966457Z"
    },
    "papermill": {
     "duration": 0.071933,
     "end_time": "2025-08-19T17:57:26.970556",
     "exception": false,
     "start_time": "2025-08-19T17:57:26.898623",
     "status": "completed"
    },
    "tags": []
   },
   "outputs": [],
   "source": [
    "# Auto-reload the custom package\n",
    "%load_ext autoreload\n",
    "%autoreload 1\n",
    "%aimport fairness_multiverse"
   ]
  },
  {
   "cell_type": "code",
   "execution_count": 7,
   "id": "94c8eb93",
   "metadata": {
    "execution": {
     "iopub.execute_input": "2025-08-19T17:57:27.010373Z",
     "iopub.status.busy": "2025-08-19T17:57:27.010020Z",
     "iopub.status.idle": "2025-08-19T17:57:28.674590Z",
     "shell.execute_reply": "2025-08-19T17:57:28.673683Z"
    },
    "papermill": {
     "duration": 1.678246,
     "end_time": "2025-08-19T17:57:28.676218",
     "exception": false,
     "start_time": "2025-08-19T17:57:26.997972",
     "status": "completed"
    },
    "tags": []
   },
   "outputs": [],
   "source": [
    "from fairness_multiverse.universe import UniverseAnalysis\n",
    "\n",
    "universe_analysis = UniverseAnalysis(\n",
    "    run_no = run_no,\n",
    "    universe_id = universe_id,\n",
    "    universe = universe,\n",
    "    output_dir=output_dir,\n",
    ")"
   ]
  },
  {
   "cell_type": "code",
   "execution_count": 8,
   "id": "2a6381cf",
   "metadata": {
    "execution": {
     "iopub.execute_input": "2025-08-19T17:57:28.699487Z",
     "iopub.status.busy": "2025-08-19T17:57:28.698968Z",
     "iopub.status.idle": "2025-08-19T17:57:28.704822Z",
     "shell.execute_reply": "2025-08-19T17:57:28.704156Z"
    },
    "papermill": {
     "duration": 0.020712,
     "end_time": "2025-08-19T17:57:28.707109",
     "exception": false,
     "start_time": "2025-08-19T17:57:28.686397",
     "status": "completed"
    },
    "tags": []
   },
   "outputs": [
    {
     "name": "stdout",
     "output_type": "stream",
     "text": [
      "Using Seed: 2023\n"
     ]
    }
   ],
   "source": [
    "import numpy as np\n",
    "parsed_seed = int(seed)\n",
    "np.random.seed(parsed_seed)\n",
    "print(f\"Using Seed: {parsed_seed}\")"
   ]
  },
  {
   "cell_type": "markdown",
   "id": "b6e958b4",
   "metadata": {
    "papermill": {
     "duration": 0.009556,
     "end_time": "2025-08-19T17:57:28.730464",
     "exception": false,
     "start_time": "2025-08-19T17:57:28.720908",
     "status": "completed"
    },
    "tags": []
   },
   "source": [
    "# Loading Data"
   ]
  },
  {
   "cell_type": "code",
   "execution_count": 9,
   "id": "98701482",
   "metadata": {
    "execution": {
     "iopub.execute_input": "2025-08-19T17:57:28.750105Z",
     "iopub.status.busy": "2025-08-19T17:57:28.749569Z",
     "iopub.status.idle": "2025-08-19T17:57:38.422372Z",
     "shell.execute_reply": "2025-08-19T17:57:38.421534Z"
    },
    "papermill": {
     "duration": 9.683988,
     "end_time": "2025-08-19T17:57:38.423473",
     "exception": false,
     "start_time": "2025-08-19T17:57:28.739485",
     "status": "completed"
    },
    "tags": []
   },
   "outputs": [
    {
     "name": "stdout",
     "output_type": "stream",
     "text": [
      "Loading SIAB data from cache: data/siab_cached.csv.gz\n"
     ]
    },
    {
     "name": "stdout",
     "output_type": "stream",
     "text": [
      "(643690, 164)\n"
     ]
    }
   ],
   "source": [
    "from pathlib import Path\n",
    "import pandas as pd\n",
    "\n",
    "# File paths\n",
    "raw_file = Path(\"data/raw/siab.csv\")\n",
    "cache_file = Path(\"data/siab_cached.csv.gz\")\n",
    "\n",
    "# Ensure cache directory exists\n",
    "cache_file.parent.mkdir(parents=True, exist_ok=True)\n",
    "\n",
    "# Load with simple caching\n",
    "if cache_file.exists():\n",
    "    print(f\"Loading SIAB data from cache: {cache_file}\")\n",
    "    siab = pd.read_csv(cache_file, compression='gzip')\n",
    "else:\n",
    "    print(f\"Cache not found. Reading raw SIAB data: {raw_file}\")\n",
    "    siab = pd.read_csv(raw_file)\n",
    "    siab.to_csv(cache_file, index=False, compression='gzip')\n",
    "    print(f\"Cached SIAB data to: {cache_file}\")\n",
    "\n",
    "print(siab.shape)"
   ]
  },
  {
   "cell_type": "code",
   "execution_count": 10,
   "id": "058d2abb",
   "metadata": {
    "execution": {
     "iopub.execute_input": "2025-08-19T17:57:38.453557Z",
     "iopub.status.busy": "2025-08-19T17:57:38.452370Z",
     "iopub.status.idle": "2025-08-19T17:57:38.630976Z",
     "shell.execute_reply": "2025-08-19T17:57:38.630263Z"
    },
    "papermill": {
     "duration": 0.192821,
     "end_time": "2025-08-19T17:57:38.632115",
     "exception": false,
     "start_time": "2025-08-19T17:57:38.439294",
     "status": "completed"
    },
    "tags": []
   },
   "outputs": [
    {
     "data": {
      "text/html": [
       "<div>\n",
       "<style scoped>\n",
       "    .dataframe tbody tr th:only-of-type {\n",
       "        vertical-align: middle;\n",
       "    }\n",
       "\n",
       "    .dataframe tbody tr th {\n",
       "        vertical-align: top;\n",
       "    }\n",
       "\n",
       "    .dataframe thead th {\n",
       "        text-align: right;\n",
       "    }\n",
       "</style>\n",
       "<table border=\"1\" class=\"dataframe\">\n",
       "  <thead>\n",
       "    <tr style=\"text-align: right;\">\n",
       "      <th></th>\n",
       "      <th>persnr</th>\n",
       "      <th>year</th>\n",
       "      <th>nrEntry</th>\n",
       "      <th>ltue</th>\n",
       "      <th>employed_before</th>\n",
       "      <th>receipt_leh_before</th>\n",
       "      <th>receipt_lhg_before</th>\n",
       "      <th>se_before</th>\n",
       "      <th>ASU_notue_seeking_before</th>\n",
       "      <th>ASU_other_before</th>\n",
       "      <th>...</th>\n",
       "      <th>minijob_tot_dur_byage</th>\n",
       "      <th>ft_tot_dur_byage</th>\n",
       "      <th>befrist_tot_dur_byage</th>\n",
       "      <th>leih_tot_dur_byage</th>\n",
       "      <th>LHG_tot_dur_byage</th>\n",
       "      <th>LEH_tot_dur_byage</th>\n",
       "      <th>almp_tot_dur_byage</th>\n",
       "      <th>almp_aw_tot_dur_byage</th>\n",
       "      <th>se_tot_dur_byage</th>\n",
       "      <th>seeking1_tot_dur_byage</th>\n",
       "    </tr>\n",
       "  </thead>\n",
       "  <tbody>\n",
       "    <tr>\n",
       "      <th>0</th>\n",
       "      <td>7</td>\n",
       "      <td>2015</td>\n",
       "      <td>1</td>\n",
       "      <td>0</td>\n",
       "      <td>1</td>\n",
       "      <td>0</td>\n",
       "      <td>0</td>\n",
       "      <td>0</td>\n",
       "      <td>1</td>\n",
       "      <td>0</td>\n",
       "      <td>...</td>\n",
       "      <td>0.000000</td>\n",
       "      <td>0.000000</td>\n",
       "      <td>15.043478</td>\n",
       "      <td>0.000000</td>\n",
       "      <td>0.000000</td>\n",
       "      <td>0.000000</td>\n",
       "      <td>0.000000</td>\n",
       "      <td>0.000000</td>\n",
       "      <td>0.000000</td>\n",
       "      <td>0.000000</td>\n",
       "    </tr>\n",
       "    <tr>\n",
       "      <th>1</th>\n",
       "      <td>18</td>\n",
       "      <td>2010</td>\n",
       "      <td>1</td>\n",
       "      <td>1</td>\n",
       "      <td>0</td>\n",
       "      <td>0</td>\n",
       "      <td>0</td>\n",
       "      <td>0</td>\n",
       "      <td>0</td>\n",
       "      <td>0</td>\n",
       "      <td>...</td>\n",
       "      <td>0.000000</td>\n",
       "      <td>0.000000</td>\n",
       "      <td>0.000000</td>\n",
       "      <td>0.000000</td>\n",
       "      <td>0.000000</td>\n",
       "      <td>0.000000</td>\n",
       "      <td>0.000000</td>\n",
       "      <td>0.000000</td>\n",
       "      <td>0.000000</td>\n",
       "      <td>0.000000</td>\n",
       "    </tr>\n",
       "    <tr>\n",
       "      <th>2</th>\n",
       "      <td>18</td>\n",
       "      <td>2011</td>\n",
       "      <td>2</td>\n",
       "      <td>0</td>\n",
       "      <td>1</td>\n",
       "      <td>0</td>\n",
       "      <td>1</td>\n",
       "      <td>0</td>\n",
       "      <td>1</td>\n",
       "      <td>0</td>\n",
       "      <td>...</td>\n",
       "      <td>2.714286</td>\n",
       "      <td>2.714286</td>\n",
       "      <td>0.000000</td>\n",
       "      <td>0.000000</td>\n",
       "      <td>10.775510</td>\n",
       "      <td>0.000000</td>\n",
       "      <td>8.367347</td>\n",
       "      <td>0.000000</td>\n",
       "      <td>0.000000</td>\n",
       "      <td>9.836735</td>\n",
       "    </tr>\n",
       "    <tr>\n",
       "      <th>3</th>\n",
       "      <td>18</td>\n",
       "      <td>2012</td>\n",
       "      <td>3</td>\n",
       "      <td>0</td>\n",
       "      <td>1</td>\n",
       "      <td>0</td>\n",
       "      <td>1</td>\n",
       "      <td>0</td>\n",
       "      <td>1</td>\n",
       "      <td>0</td>\n",
       "      <td>...</td>\n",
       "      <td>4.200000</td>\n",
       "      <td>4.200000</td>\n",
       "      <td>0.000000</td>\n",
       "      <td>0.000000</td>\n",
       "      <td>12.100000</td>\n",
       "      <td>0.000000</td>\n",
       "      <td>9.400000</td>\n",
       "      <td>0.000000</td>\n",
       "      <td>0.000000</td>\n",
       "      <td>9.960000</td>\n",
       "    </tr>\n",
       "    <tr>\n",
       "      <th>4</th>\n",
       "      <td>18</td>\n",
       "      <td>2012</td>\n",
       "      <td>4</td>\n",
       "      <td>0</td>\n",
       "      <td>1</td>\n",
       "      <td>0</td>\n",
       "      <td>1</td>\n",
       "      <td>0</td>\n",
       "      <td>1</td>\n",
       "      <td>0</td>\n",
       "      <td>...</td>\n",
       "      <td>5.460000</td>\n",
       "      <td>5.460000</td>\n",
       "      <td>0.000000</td>\n",
       "      <td>0.000000</td>\n",
       "      <td>13.360000</td>\n",
       "      <td>0.000000</td>\n",
       "      <td>10.320000</td>\n",
       "      <td>0.000000</td>\n",
       "      <td>0.000000</td>\n",
       "      <td>10.280000</td>\n",
       "    </tr>\n",
       "    <tr>\n",
       "      <th>...</th>\n",
       "      <td>...</td>\n",
       "      <td>...</td>\n",
       "      <td>...</td>\n",
       "      <td>...</td>\n",
       "      <td>...</td>\n",
       "      <td>...</td>\n",
       "      <td>...</td>\n",
       "      <td>...</td>\n",
       "      <td>...</td>\n",
       "      <td>...</td>\n",
       "      <td>...</td>\n",
       "      <td>...</td>\n",
       "      <td>...</td>\n",
       "      <td>...</td>\n",
       "      <td>...</td>\n",
       "      <td>...</td>\n",
       "      <td>...</td>\n",
       "      <td>...</td>\n",
       "      <td>...</td>\n",
       "      <td>...</td>\n",
       "      <td>...</td>\n",
       "    </tr>\n",
       "    <tr>\n",
       "      <th>643685</th>\n",
       "      <td>1827860</td>\n",
       "      <td>2013</td>\n",
       "      <td>1</td>\n",
       "      <td>0</td>\n",
       "      <td>0</td>\n",
       "      <td>0</td>\n",
       "      <td>1</td>\n",
       "      <td>0</td>\n",
       "      <td>0</td>\n",
       "      <td>1</td>\n",
       "      <td>...</td>\n",
       "      <td>0.000000</td>\n",
       "      <td>0.000000</td>\n",
       "      <td>0.000000</td>\n",
       "      <td>0.000000</td>\n",
       "      <td>0.612903</td>\n",
       "      <td>0.000000</td>\n",
       "      <td>0.000000</td>\n",
       "      <td>0.000000</td>\n",
       "      <td>0.000000</td>\n",
       "      <td>0.000000</td>\n",
       "    </tr>\n",
       "    <tr>\n",
       "      <th>643686</th>\n",
       "      <td>1827860</td>\n",
       "      <td>2015</td>\n",
       "      <td>2</td>\n",
       "      <td>1</td>\n",
       "      <td>0</td>\n",
       "      <td>0</td>\n",
       "      <td>1</td>\n",
       "      <td>0</td>\n",
       "      <td>1</td>\n",
       "      <td>0</td>\n",
       "      <td>...</td>\n",
       "      <td>0.000000</td>\n",
       "      <td>0.000000</td>\n",
       "      <td>0.212121</td>\n",
       "      <td>0.212121</td>\n",
       "      <td>17.363636</td>\n",
       "      <td>0.000000</td>\n",
       "      <td>8.909091</td>\n",
       "      <td>0.000000</td>\n",
       "      <td>0.000000</td>\n",
       "      <td>7.121212</td>\n",
       "    </tr>\n",
       "    <tr>\n",
       "      <th>643687</th>\n",
       "      <td>1827860</td>\n",
       "      <td>2016</td>\n",
       "      <td>3</td>\n",
       "      <td>1</td>\n",
       "      <td>0</td>\n",
       "      <td>0</td>\n",
       "      <td>1</td>\n",
       "      <td>1</td>\n",
       "      <td>0</td>\n",
       "      <td>1</td>\n",
       "      <td>...</td>\n",
       "      <td>0.000000</td>\n",
       "      <td>0.000000</td>\n",
       "      <td>0.294118</td>\n",
       "      <td>0.205882</td>\n",
       "      <td>34.705882</td>\n",
       "      <td>0.000000</td>\n",
       "      <td>10.352941</td>\n",
       "      <td>1.705882</td>\n",
       "      <td>1.705882</td>\n",
       "      <td>23.911765</td>\n",
       "    </tr>\n",
       "    <tr>\n",
       "      <th>643688</th>\n",
       "      <td>1827869</td>\n",
       "      <td>2013</td>\n",
       "      <td>1</td>\n",
       "      <td>1</td>\n",
       "      <td>1</td>\n",
       "      <td>0</td>\n",
       "      <td>0</td>\n",
       "      <td>0</td>\n",
       "      <td>1</td>\n",
       "      <td>0</td>\n",
       "      <td>...</td>\n",
       "      <td>0.000000</td>\n",
       "      <td>0.000000</td>\n",
       "      <td>0.000000</td>\n",
       "      <td>0.000000</td>\n",
       "      <td>0.000000</td>\n",
       "      <td>0.525424</td>\n",
       "      <td>0.000000</td>\n",
       "      <td>0.000000</td>\n",
       "      <td>0.000000</td>\n",
       "      <td>0.000000</td>\n",
       "    </tr>\n",
       "    <tr>\n",
       "      <th>643689</th>\n",
       "      <td>1827869</td>\n",
       "      <td>2014</td>\n",
       "      <td>2</td>\n",
       "      <td>0</td>\n",
       "      <td>0</td>\n",
       "      <td>1</td>\n",
       "      <td>0</td>\n",
       "      <td>0</td>\n",
       "      <td>1</td>\n",
       "      <td>0</td>\n",
       "      <td>...</td>\n",
       "      <td>0.000000</td>\n",
       "      <td>0.666667</td>\n",
       "      <td>0.666667</td>\n",
       "      <td>0.000000</td>\n",
       "      <td>0.000000</td>\n",
       "      <td>8.950000</td>\n",
       "      <td>1.033333</td>\n",
       "      <td>0.083333</td>\n",
       "      <td>0.083333</td>\n",
       "      <td>8.133333</td>\n",
       "    </tr>\n",
       "  </tbody>\n",
       "</table>\n",
       "<p>643690 rows × 164 columns</p>\n",
       "</div>"
      ],
      "text/plain": [
       "         persnr  year  nrEntry  ltue  employed_before  receipt_leh_before  \\\n",
       "0             7  2015        1     0                1                   0   \n",
       "1            18  2010        1     1                0                   0   \n",
       "2            18  2011        2     0                1                   0   \n",
       "3            18  2012        3     0                1                   0   \n",
       "4            18  2012        4     0                1                   0   \n",
       "...         ...   ...      ...   ...              ...                 ...   \n",
       "643685  1827860  2013        1     0                0                   0   \n",
       "643686  1827860  2015        2     1                0                   0   \n",
       "643687  1827860  2016        3     1                0                   0   \n",
       "643688  1827869  2013        1     1                1                   0   \n",
       "643689  1827869  2014        2     0                0                   1   \n",
       "\n",
       "        receipt_lhg_before  se_before  ASU_notue_seeking_before  \\\n",
       "0                        0          0                         1   \n",
       "1                        0          0                         0   \n",
       "2                        1          0                         1   \n",
       "3                        1          0                         1   \n",
       "4                        1          0                         1   \n",
       "...                    ...        ...                       ...   \n",
       "643685                   1          0                         0   \n",
       "643686                   1          0                         1   \n",
       "643687                   1          1                         0   \n",
       "643688                   0          0                         1   \n",
       "643689                   0          0                         1   \n",
       "\n",
       "        ASU_other_before  ...  minijob_tot_dur_byage  ft_tot_dur_byage  \\\n",
       "0                      0  ...               0.000000          0.000000   \n",
       "1                      0  ...               0.000000          0.000000   \n",
       "2                      0  ...               2.714286          2.714286   \n",
       "3                      0  ...               4.200000          4.200000   \n",
       "4                      0  ...               5.460000          5.460000   \n",
       "...                  ...  ...                    ...               ...   \n",
       "643685                 1  ...               0.000000          0.000000   \n",
       "643686                 0  ...               0.000000          0.000000   \n",
       "643687                 1  ...               0.000000          0.000000   \n",
       "643688                 0  ...               0.000000          0.000000   \n",
       "643689                 0  ...               0.000000          0.666667   \n",
       "\n",
       "        befrist_tot_dur_byage  leih_tot_dur_byage  LHG_tot_dur_byage  \\\n",
       "0                   15.043478            0.000000           0.000000   \n",
       "1                    0.000000            0.000000           0.000000   \n",
       "2                    0.000000            0.000000          10.775510   \n",
       "3                    0.000000            0.000000          12.100000   \n",
       "4                    0.000000            0.000000          13.360000   \n",
       "...                       ...                 ...                ...   \n",
       "643685               0.000000            0.000000           0.612903   \n",
       "643686               0.212121            0.212121          17.363636   \n",
       "643687               0.294118            0.205882          34.705882   \n",
       "643688               0.000000            0.000000           0.000000   \n",
       "643689               0.666667            0.000000           0.000000   \n",
       "\n",
       "        LEH_tot_dur_byage  almp_tot_dur_byage  almp_aw_tot_dur_byage  \\\n",
       "0                0.000000            0.000000               0.000000   \n",
       "1                0.000000            0.000000               0.000000   \n",
       "2                0.000000            8.367347               0.000000   \n",
       "3                0.000000            9.400000               0.000000   \n",
       "4                0.000000           10.320000               0.000000   \n",
       "...                   ...                 ...                    ...   \n",
       "643685           0.000000            0.000000               0.000000   \n",
       "643686           0.000000            8.909091               0.000000   \n",
       "643687           0.000000           10.352941               1.705882   \n",
       "643688           0.525424            0.000000               0.000000   \n",
       "643689           8.950000            1.033333               0.083333   \n",
       "\n",
       "        se_tot_dur_byage  seeking1_tot_dur_byage  \n",
       "0               0.000000                0.000000  \n",
       "1               0.000000                0.000000  \n",
       "2               0.000000                9.836735  \n",
       "3               0.000000                9.960000  \n",
       "4               0.000000               10.280000  \n",
       "...                  ...                     ...  \n",
       "643685          0.000000                0.000000  \n",
       "643686          0.000000                7.121212  \n",
       "643687          1.705882               23.911765  \n",
       "643688          0.000000                0.000000  \n",
       "643689          0.083333                8.133333  \n",
       "\n",
       "[643690 rows x 164 columns]"
      ]
     },
     "execution_count": 10,
     "metadata": {},
     "output_type": "execute_result"
    }
   ],
   "source": [
    "siab"
   ]
  },
  {
   "cell_type": "markdown",
   "id": "1f87e805",
   "metadata": {
    "papermill": {
     "duration": 0.009309,
     "end_time": "2025-08-19T17:57:38.651139",
     "exception": false,
     "start_time": "2025-08-19T17:57:38.641830",
     "status": "completed"
    },
    "tags": []
   },
   "source": [
    "# Splitting Data and Setting Training Data Size"
   ]
  },
  {
   "cell_type": "code",
   "execution_count": 11,
   "id": "910ae358",
   "metadata": {
    "execution": {
     "iopub.execute_input": "2025-08-19T17:57:38.673155Z",
     "iopub.status.busy": "2025-08-19T17:57:38.672210Z",
     "iopub.status.idle": "2025-08-19T17:57:38.975594Z",
     "shell.execute_reply": "2025-08-19T17:57:38.974876Z"
    },
    "papermill": {
     "duration": 0.316468,
     "end_time": "2025-08-19T17:57:38.977598",
     "exception": false,
     "start_time": "2025-08-19T17:57:38.661130",
     "status": "completed"
    },
    "tags": []
   },
   "outputs": [],
   "source": [
    "from fairness_multiverse.universe import sample_by_year_size\n",
    "\n",
    "siab_train = sample_by_year_size(siab,\n",
    "                               training_year=universe[\"training_year\"],\n",
    "                               training_size=universe[\"training_size\"])"
   ]
  },
  {
   "cell_type": "code",
   "execution_count": 12,
   "id": "919c8ff5",
   "metadata": {
    "execution": {
     "iopub.execute_input": "2025-08-19T17:57:39.020832Z",
     "iopub.status.busy": "2025-08-19T17:57:39.014662Z",
     "iopub.status.idle": "2025-08-19T17:57:39.027228Z",
     "shell.execute_reply": "2025-08-19T17:57:39.026266Z"
    },
    "papermill": {
     "duration": 0.028975,
     "end_time": "2025-08-19T17:57:39.028859",
     "exception": false,
     "start_time": "2025-08-19T17:57:38.999884",
     "status": "completed"
    },
    "tags": []
   },
   "outputs": [
    {
     "data": {
      "text/plain": [
       "(25000, 164)"
      ]
     },
     "execution_count": 12,
     "metadata": {},
     "output_type": "execute_result"
    }
   ],
   "source": [
    "siab_train.shape"
   ]
  },
  {
   "cell_type": "code",
   "execution_count": 13,
   "id": "feb13bf4",
   "metadata": {
    "execution": {
     "iopub.execute_input": "2025-08-19T17:57:39.055690Z",
     "iopub.status.busy": "2025-08-19T17:57:39.054862Z",
     "iopub.status.idle": "2025-08-19T17:57:39.071884Z",
     "shell.execute_reply": "2025-08-19T17:57:39.071128Z"
    },
    "papermill": {
     "duration": 0.029803,
     "end_time": "2025-08-19T17:57:39.073870",
     "exception": false,
     "start_time": "2025-08-19T17:57:39.044067",
     "status": "completed"
    },
    "tags": []
   },
   "outputs": [
    {
     "data": {
      "text/plain": [
       "year\n",
       "2014    25000\n",
       "dtype: int64"
      ]
     },
     "metadata": {},
     "output_type": "display_data"
    }
   ],
   "source": [
    "display(siab_train.groupby(\"year\").size())"
   ]
  },
  {
   "cell_type": "code",
   "execution_count": 14,
   "id": "0997782f",
   "metadata": {
    "execution": {
     "iopub.execute_input": "2025-08-19T17:57:39.109224Z",
     "iopub.status.busy": "2025-08-19T17:57:39.108315Z",
     "iopub.status.idle": "2025-08-19T17:57:39.399033Z",
     "shell.execute_reply": "2025-08-19T17:57:39.398154Z"
    },
    "papermill": {
     "duration": 0.313425,
     "end_time": "2025-08-19T17:57:39.401817",
     "exception": false,
     "start_time": "2025-08-19T17:57:39.088392",
     "status": "completed"
    },
    "tags": []
   },
   "outputs": [],
   "source": [
    "#siab_train = siab_s[siab_s.year < 2015]\n",
    "siab_calib = siab[siab.year == 2015]\n",
    "siab_test = siab[siab.year == 2016]"
   ]
  },
  {
   "cell_type": "code",
   "execution_count": 15,
   "id": "2c1e4012",
   "metadata": {
    "execution": {
     "iopub.execute_input": "2025-08-19T17:57:39.440366Z",
     "iopub.status.busy": "2025-08-19T17:57:39.439026Z",
     "iopub.status.idle": "2025-08-19T17:57:39.447278Z",
     "shell.execute_reply": "2025-08-19T17:57:39.444753Z"
    },
    "papermill": {
     "duration": 0.031017,
     "end_time": "2025-08-19T17:57:39.456425",
     "exception": false,
     "start_time": "2025-08-19T17:57:39.425408",
     "status": "completed"
    },
    "tags": []
   },
   "outputs": [],
   "source": [
    "#siab_calib.shape"
   ]
  },
  {
   "cell_type": "code",
   "execution_count": 16,
   "id": "f66b54ca",
   "metadata": {
    "execution": {
     "iopub.execute_input": "2025-08-19T17:57:39.479662Z",
     "iopub.status.busy": "2025-08-19T17:57:39.478785Z",
     "iopub.status.idle": "2025-08-19T17:57:39.487980Z",
     "shell.execute_reply": "2025-08-19T17:57:39.485945Z"
    },
    "papermill": {
     "duration": 0.022649,
     "end_time": "2025-08-19T17:57:39.490269",
     "exception": false,
     "start_time": "2025-08-19T17:57:39.467620",
     "status": "completed"
    },
    "tags": []
   },
   "outputs": [],
   "source": [
    "#siab_test.shape"
   ]
  },
  {
   "cell_type": "code",
   "execution_count": 17,
   "id": "27e4384d",
   "metadata": {
    "execution": {
     "iopub.execute_input": "2025-08-19T17:57:39.518960Z",
     "iopub.status.busy": "2025-08-19T17:57:39.517645Z",
     "iopub.status.idle": "2025-08-19T17:57:39.540756Z",
     "shell.execute_reply": "2025-08-19T17:57:39.539477Z"
    },
    "papermill": {
     "duration": 0.037322,
     "end_time": "2025-08-19T17:57:39.542414",
     "exception": false,
     "start_time": "2025-08-19T17:57:39.505092",
     "status": "completed"
    },
    "tags": []
   },
   "outputs": [],
   "source": [
    "X_train = siab_train.iloc[:,4:164]\n",
    "y_train = siab_train.iloc[:, [3]]"
   ]
  },
  {
   "cell_type": "code",
   "execution_count": 18,
   "id": "08ee8389",
   "metadata": {
    "execution": {
     "iopub.execute_input": "2025-08-19T17:57:39.578157Z",
     "iopub.status.busy": "2025-08-19T17:57:39.577168Z",
     "iopub.status.idle": "2025-08-19T17:57:39.632535Z",
     "shell.execute_reply": "2025-08-19T17:57:39.631485Z"
    },
    "papermill": {
     "duration": 0.071612,
     "end_time": "2025-08-19T17:57:39.634944",
     "exception": false,
     "start_time": "2025-08-19T17:57:39.563332",
     "status": "completed"
    },
    "tags": []
   },
   "outputs": [],
   "source": [
    "X_calib = siab_calib.iloc[:,4:164]\n",
    "y_calib = siab_calib.iloc[:, [3]]"
   ]
  },
  {
   "cell_type": "code",
   "execution_count": 19,
   "id": "b7ff42e0",
   "metadata": {
    "execution": {
     "iopub.execute_input": "2025-08-19T17:57:39.672738Z",
     "iopub.status.busy": "2025-08-19T17:57:39.671518Z",
     "iopub.status.idle": "2025-08-19T17:57:39.736169Z",
     "shell.execute_reply": "2025-08-19T17:57:39.735170Z"
    },
    "papermill": {
     "duration": 0.080592,
     "end_time": "2025-08-19T17:57:39.738667",
     "exception": false,
     "start_time": "2025-08-19T17:57:39.658075",
     "status": "completed"
    },
    "tags": []
   },
   "outputs": [],
   "source": [
    "X_test = siab_test.iloc[:,4:164]\n",
    "y_true = siab_test.iloc[:, [3]]"
   ]
  },
  {
   "cell_type": "code",
   "execution_count": 20,
   "id": "0275101e",
   "metadata": {
    "execution": {
     "iopub.execute_input": "2025-08-19T17:57:39.783518Z",
     "iopub.status.busy": "2025-08-19T17:57:39.783047Z",
     "iopub.status.idle": "2025-08-19T17:57:39.890667Z",
     "shell.execute_reply": "2025-08-19T17:57:39.889930Z"
    },
    "papermill": {
     "duration": 0.128879,
     "end_time": "2025-08-19T17:57:39.892845",
     "exception": false,
     "start_time": "2025-08-19T17:57:39.763966",
     "status": "completed"
    },
    "tags": []
   },
   "outputs": [],
   "source": [
    "# Auxiliary data needed downstream in the pipeline\n",
    "\n",
    "org_train = X_train.copy()\n",
    "org_test = X_test.copy()\n",
    "org_calib = X_calib.copy()"
   ]
  },
  {
   "cell_type": "markdown",
   "id": "b461e618",
   "metadata": {
    "papermill": {
     "duration": 0.011878,
     "end_time": "2025-08-19T17:57:39.919538",
     "exception": false,
     "start_time": "2025-08-19T17:57:39.907660",
     "status": "completed"
    },
    "tags": []
   },
   "source": [
    "# Preprocessing Data"
   ]
  },
  {
   "cell_type": "code",
   "execution_count": 21,
   "id": "78e74c4b",
   "metadata": {
    "execution": {
     "iopub.execute_input": "2025-08-19T17:57:39.941900Z",
     "iopub.status.busy": "2025-08-19T17:57:39.941440Z",
     "iopub.status.idle": "2025-08-19T17:57:39.946686Z",
     "shell.execute_reply": "2025-08-19T17:57:39.945932Z"
    },
    "papermill": {
     "duration": 0.018256,
     "end_time": "2025-08-19T17:57:39.947823",
     "exception": false,
     "start_time": "2025-08-19T17:57:39.929567",
     "status": "completed"
    },
    "tags": []
   },
   "outputs": [],
   "source": [
    "# EXCLUDE PROTECTED FEATURES\n",
    "# --------------------------\n",
    "\n",
    "excluded_features = universe[\"exclude_features\"].split(\"-\")\n",
    "excluded_features_dictionary = {\n",
    "    \"nationality\": [\"maxdeutsch1\", \"maxdeutsch.Missing.\"],\n",
    "    \"sex\": [\"frau1\"],\n",
    "    \"age\": [\"age\"],\n",
    "}"
   ]
  },
  {
   "cell_type": "code",
   "execution_count": 22,
   "id": "f8e63555",
   "metadata": {
    "execution": {
     "iopub.execute_input": "2025-08-19T17:57:39.974492Z",
     "iopub.status.busy": "2025-08-19T17:57:39.973900Z",
     "iopub.status.idle": "2025-08-19T17:57:40.017716Z",
     "shell.execute_reply": "2025-08-19T17:57:40.016726Z"
    },
    "papermill": {
     "duration": 0.060808,
     "end_time": "2025-08-19T17:57:40.021069",
     "exception": false,
     "start_time": "2025-08-19T17:57:39.960261",
     "status": "completed"
    },
    "tags": []
   },
   "outputs": [],
   "source": [
    "excluded_features_columns = [\n",
    "    excluded_features_dictionary[f] for f in excluded_features if len(f) > 0 and f != \"none\"\n",
    "]"
   ]
  },
  {
   "cell_type": "code",
   "execution_count": 23,
   "id": "da781f7c",
   "metadata": {
    "execution": {
     "iopub.execute_input": "2025-08-19T17:57:40.058521Z",
     "iopub.status.busy": "2025-08-19T17:57:40.057587Z",
     "iopub.status.idle": "2025-08-19T17:57:40.064596Z",
     "shell.execute_reply": "2025-08-19T17:57:40.063449Z"
    },
    "papermill": {
     "duration": 0.021584,
     "end_time": "2025-08-19T17:57:40.065978",
     "exception": false,
     "start_time": "2025-08-19T17:57:40.044394",
     "status": "completed"
    },
    "tags": []
   },
   "outputs": [],
   "source": [
    "from fairness_multiverse.universe import flatten_once\n",
    "\n",
    "excluded_features_columns = flatten_once(excluded_features_columns)"
   ]
  },
  {
   "cell_type": "code",
   "execution_count": 24,
   "id": "37fef0f0",
   "metadata": {
    "execution": {
     "iopub.execute_input": "2025-08-19T17:57:40.089984Z",
     "iopub.status.busy": "2025-08-19T17:57:40.087338Z",
     "iopub.status.idle": "2025-08-19T17:57:40.133000Z",
     "shell.execute_reply": "2025-08-19T17:57:40.131700Z"
    },
    "papermill": {
     "duration": 0.062405,
     "end_time": "2025-08-19T17:57:40.138357",
     "exception": false,
     "start_time": "2025-08-19T17:57:40.075952",
     "status": "completed"
    },
    "tags": []
   },
   "outputs": [
    {
     "name": "stdout",
     "output_type": "stream",
     "text": [
      "Dropping features: ['maxdeutsch1', 'maxdeutsch.Missing.', 'frau1']\n"
     ]
    }
   ],
   "source": [
    "if len(excluded_features_columns) > 0:\n",
    "    print(f\"Dropping features: {excluded_features_columns}\")\n",
    "    X_train.drop(excluded_features_columns, axis=1, inplace=True)"
   ]
  },
  {
   "cell_type": "code",
   "execution_count": 25,
   "id": "d029e3e9",
   "metadata": {
    "execution": {
     "iopub.execute_input": "2025-08-19T17:57:40.175547Z",
     "iopub.status.busy": "2025-08-19T17:57:40.174971Z",
     "iopub.status.idle": "2025-08-19T17:57:40.230455Z",
     "shell.execute_reply": "2025-08-19T17:57:40.229394Z"
    },
    "papermill": {
     "duration": 0.073766,
     "end_time": "2025-08-19T17:57:40.232117",
     "exception": false,
     "start_time": "2025-08-19T17:57:40.158351",
     "status": "completed"
    },
    "tags": []
   },
   "outputs": [
    {
     "name": "stdout",
     "output_type": "stream",
     "text": [
      "Dropping features: ['maxdeutsch1', 'maxdeutsch.Missing.', 'frau1']\n"
     ]
    }
   ],
   "source": [
    "if len(excluded_features_columns) > 0:\n",
    "    print(f\"Dropping features: {excluded_features_columns}\")\n",
    "    X_test.drop(excluded_features_columns, axis=1, inplace=True)"
   ]
  },
  {
   "cell_type": "code",
   "execution_count": 26,
   "id": "01d571f0",
   "metadata": {
    "execution": {
     "iopub.execute_input": "2025-08-19T17:57:40.254875Z",
     "iopub.status.busy": "2025-08-19T17:57:40.254455Z",
     "iopub.status.idle": "2025-08-19T17:57:40.306072Z",
     "shell.execute_reply": "2025-08-19T17:57:40.304928Z"
    },
    "papermill": {
     "duration": 0.067129,
     "end_time": "2025-08-19T17:57:40.309992",
     "exception": false,
     "start_time": "2025-08-19T17:57:40.242863",
     "status": "completed"
    },
    "tags": []
   },
   "outputs": [
    {
     "name": "stdout",
     "output_type": "stream",
     "text": [
      "Dropping features: ['maxdeutsch1', 'maxdeutsch.Missing.', 'frau1']\n"
     ]
    }
   ],
   "source": [
    "if len(excluded_features_columns) > 0:\n",
    "    print(f\"Dropping features: {excluded_features_columns}\")\n",
    "    X_calib.drop(excluded_features_columns, axis=1, inplace=True)"
   ]
  },
  {
   "cell_type": "code",
   "execution_count": 27,
   "id": "3037356e",
   "metadata": {
    "execution": {
     "iopub.execute_input": "2025-08-19T17:57:40.343723Z",
     "iopub.status.busy": "2025-08-19T17:57:40.343096Z",
     "iopub.status.idle": "2025-08-19T17:57:40.349907Z",
     "shell.execute_reply": "2025-08-19T17:57:40.348770Z"
    },
    "papermill": {
     "duration": 0.02168,
     "end_time": "2025-08-19T17:57:40.351216",
     "exception": false,
     "start_time": "2025-08-19T17:57:40.329536",
     "status": "completed"
    },
    "tags": []
   },
   "outputs": [],
   "source": [
    "# EXCLUDE CERTAIN SUBGROUPS\n",
    "# -------------------------\n",
    "\n",
    "mode = universe.get(\"exclude_subgroups\", \"keep-all\") # Defaults to \"keep-all\" if the key is missing."
   ]
  },
  {
   "cell_type": "code",
   "execution_count": 28,
   "id": "9d1e63fd",
   "metadata": {
    "execution": {
     "iopub.execute_input": "2025-08-19T17:57:40.379122Z",
     "iopub.status.busy": "2025-08-19T17:57:40.378415Z",
     "iopub.status.idle": "2025-08-19T17:57:40.388934Z",
     "shell.execute_reply": "2025-08-19T17:57:40.387312Z"
    },
    "papermill": {
     "duration": 0.029911,
     "end_time": "2025-08-19T17:57:40.392418",
     "exception": false,
     "start_time": "2025-08-19T17:57:40.362507",
     "status": "completed"
    },
    "tags": []
   },
   "outputs": [],
   "source": [
    "if mode == \"keep-all\":\n",
    "    keep_mask = pd.Series(True, index=org_train.index)\n",
    "\n",
    "elif mode == \"drop-non-german\":\n",
    "    keep_mask = (org_train[\"maxdeutsch1\"] == 1) & (org_train[\"maxdeutsch.Missing.\"] == 0)\n",
    "\n",
    "else:\n",
    "    raise ValueError(f\"Unsupported mode for exclude_subgroups: {mode}\")"
   ]
  },
  {
   "cell_type": "code",
   "execution_count": 29,
   "id": "d3b65474",
   "metadata": {
    "execution": {
     "iopub.execute_input": "2025-08-19T17:57:40.441987Z",
     "iopub.status.busy": "2025-08-19T17:57:40.441183Z",
     "iopub.status.idle": "2025-08-19T17:57:40.451292Z",
     "shell.execute_reply": "2025-08-19T17:57:40.449972Z"
    },
    "papermill": {
     "duration": 0.038373,
     "end_time": "2025-08-19T17:57:40.453317",
     "exception": false,
     "start_time": "2025-08-19T17:57:40.414944",
     "status": "completed"
    },
    "tags": []
   },
   "outputs": [],
   "source": [
    "n_drop = (~keep_mask).sum() # Calculates how many rows are set to be dropped\n",
    "if n_drop > 0:\n",
    "    pct = n_drop / len(keep_mask) * 100\n",
    "    print(f\"Dropping {n_drop} rows ({pct:.2f}%) where mode='{mode}'\")"
   ]
  },
  {
   "cell_type": "code",
   "execution_count": 30,
   "id": "f44389b3",
   "metadata": {
    "execution": {
     "iopub.execute_input": "2025-08-19T17:57:40.485935Z",
     "iopub.status.busy": "2025-08-19T17:57:40.485632Z",
     "iopub.status.idle": "2025-08-19T17:57:40.504315Z",
     "shell.execute_reply": "2025-08-19T17:57:40.502587Z"
    },
    "papermill": {
     "duration": 0.033362,
     "end_time": "2025-08-19T17:57:40.506374",
     "exception": false,
     "start_time": "2025-08-19T17:57:40.473012",
     "status": "completed"
    },
    "tags": []
   },
   "outputs": [],
   "source": [
    "X_train = X_train[keep_mask]"
   ]
  },
  {
   "cell_type": "code",
   "execution_count": 31,
   "id": "ceca8c2a",
   "metadata": {
    "execution": {
     "iopub.execute_input": "2025-08-19T17:57:40.535131Z",
     "iopub.status.busy": "2025-08-19T17:57:40.534739Z",
     "iopub.status.idle": "2025-08-19T17:57:40.540397Z",
     "shell.execute_reply": "2025-08-19T17:57:40.539641Z"
    },
    "papermill": {
     "duration": 0.019254,
     "end_time": "2025-08-19T17:57:40.541855",
     "exception": false,
     "start_time": "2025-08-19T17:57:40.522601",
     "status": "completed"
    },
    "tags": []
   },
   "outputs": [],
   "source": [
    "y_train = y_train[keep_mask]"
   ]
  },
  {
   "cell_type": "markdown",
   "id": "04d31e2f",
   "metadata": {
    "papermill": {
     "duration": 0.010411,
     "end_time": "2025-08-19T17:57:40.562839",
     "exception": false,
     "start_time": "2025-08-19T17:57:40.552428",
     "status": "completed"
    },
    "tags": []
   },
   "source": [
    "# Model Training"
   ]
  },
  {
   "cell_type": "code",
   "execution_count": 32,
   "id": "db991733",
   "metadata": {
    "execution": {
     "iopub.execute_input": "2025-08-19T17:57:40.584886Z",
     "iopub.status.busy": "2025-08-19T17:57:40.584501Z",
     "iopub.status.idle": "2025-08-19T17:57:40.683755Z",
     "shell.execute_reply": "2025-08-19T17:57:40.682737Z"
    },
    "papermill": {
     "duration": 0.113116,
     "end_time": "2025-08-19T17:57:40.686296",
     "exception": false,
     "start_time": "2025-08-19T17:57:40.573180",
     "status": "completed"
    },
    "tags": []
   },
   "outputs": [],
   "source": [
    "from sklearn.linear_model import LogisticRegression\n",
    "from sklearn.ensemble import GradientBoostingClassifier, RandomForestClassifier\n",
    "\n",
    "if (universe[\"model\"] == \"logreg\"):\n",
    "    model = LogisticRegression() #penalty=\"none\", solver=\"newton-cg\", max_iter=1)\n",
    "elif (universe[\"model\"] == \"penalized_logreg\"):\n",
    "    model = LogisticRegression(penalty=\"l2\", C=0.1) #, solver=\"newton-cg\", max_iter=1)\n",
    "elif (universe[\"model\"] == \"rf\"):\n",
    "    model = RandomForestClassifier() # n_estimators=100, n_jobs=-1\n",
    "elif (universe[\"model\"] == \"gbm\"):\n",
    "    model = GradientBoostingClassifier()\n",
    "elif (universe[\"model\"] == \"elasticnet\"):\n",
    "    model = LogisticRegression(penalty = 'elasticnet', solver = 'saga', l1_ratio = 0.5) # max_iter=5000\n",
    "else:\n",
    "    raise \"Unsupported universe.model\""
   ]
  },
  {
   "cell_type": "code",
   "execution_count": 33,
   "id": "a4b5cd25",
   "metadata": {
    "execution": {
     "iopub.execute_input": "2025-08-19T17:57:40.710263Z",
     "iopub.status.busy": "2025-08-19T17:57:40.709604Z",
     "iopub.status.idle": "2025-08-19T17:57:40.714532Z",
     "shell.execute_reply": "2025-08-19T17:57:40.713831Z"
    },
    "papermill": {
     "duration": 0.019687,
     "end_time": "2025-08-19T17:57:40.717312",
     "exception": false,
     "start_time": "2025-08-19T17:57:40.697625",
     "status": "completed"
    },
    "tags": []
   },
   "outputs": [],
   "source": [
    "from sklearn.pipeline import Pipeline\n",
    "from sklearn.preprocessing import StandardScaler\n",
    "\n",
    "model = Pipeline([\n",
    "    #(\"continuous_processor\", continuous_processor),\n",
    "    #(\"categorical_preprocessor\", categorical_preprocessor),\n",
    "    (\"scale\", StandardScaler() if universe[\"scale\"] == \"scale\" else None), \n",
    "    (\"model\", model),\n",
    "])"
   ]
  },
  {
   "cell_type": "code",
   "execution_count": 34,
   "id": "283a904d",
   "metadata": {
    "execution": {
     "iopub.execute_input": "2025-08-19T17:57:40.781992Z",
     "iopub.status.busy": "2025-08-19T17:57:40.781500Z",
     "iopub.status.idle": "2025-08-19T17:57:47.429118Z",
     "shell.execute_reply": "2025-08-19T17:57:47.428143Z"
    },
    "papermill": {
     "duration": 6.674916,
     "end_time": "2025-08-19T17:57:47.430380",
     "exception": false,
     "start_time": "2025-08-19T17:57:40.755464",
     "status": "completed"
    },
    "tags": []
   },
   "outputs": [
    {
     "name": "stderr",
     "output_type": "stream",
     "text": [
      "/dss/dsshome1/0C/ra93lal2/.local/share/virtualenvs/CMA_Fairness_v2-3j10GkSs/lib/python3.10/site-packages/sklearn/linear_model/_sag.py:350: ConvergenceWarning: The max_iter was reached which means the coef_ did not converge\n",
      "  warnings.warn(\n"
     ]
    },
    {
     "data": {
      "text/html": [
       "<style>#sk-container-id-1 {color: black;background-color: white;}#sk-container-id-1 pre{padding: 0;}#sk-container-id-1 div.sk-toggleable {background-color: white;}#sk-container-id-1 label.sk-toggleable__label {cursor: pointer;display: block;width: 100%;margin-bottom: 0;padding: 0.3em;box-sizing: border-box;text-align: center;}#sk-container-id-1 label.sk-toggleable__label-arrow:before {content: \"▸\";float: left;margin-right: 0.25em;color: #696969;}#sk-container-id-1 label.sk-toggleable__label-arrow:hover:before {color: black;}#sk-container-id-1 div.sk-estimator:hover label.sk-toggleable__label-arrow:before {color: black;}#sk-container-id-1 div.sk-toggleable__content {max-height: 0;max-width: 0;overflow: hidden;text-align: left;background-color: #f0f8ff;}#sk-container-id-1 div.sk-toggleable__content pre {margin: 0.2em;color: black;border-radius: 0.25em;background-color: #f0f8ff;}#sk-container-id-1 input.sk-toggleable__control:checked~div.sk-toggleable__content {max-height: 200px;max-width: 100%;overflow: auto;}#sk-container-id-1 input.sk-toggleable__control:checked~label.sk-toggleable__label-arrow:before {content: \"▾\";}#sk-container-id-1 div.sk-estimator input.sk-toggleable__control:checked~label.sk-toggleable__label {background-color: #d4ebff;}#sk-container-id-1 div.sk-label input.sk-toggleable__control:checked~label.sk-toggleable__label {background-color: #d4ebff;}#sk-container-id-1 input.sk-hidden--visually {border: 0;clip: rect(1px 1px 1px 1px);clip: rect(1px, 1px, 1px, 1px);height: 1px;margin: -1px;overflow: hidden;padding: 0;position: absolute;width: 1px;}#sk-container-id-1 div.sk-estimator {font-family: monospace;background-color: #f0f8ff;border: 1px dotted black;border-radius: 0.25em;box-sizing: border-box;margin-bottom: 0.5em;}#sk-container-id-1 div.sk-estimator:hover {background-color: #d4ebff;}#sk-container-id-1 div.sk-parallel-item::after {content: \"\";width: 100%;border-bottom: 1px solid gray;flex-grow: 1;}#sk-container-id-1 div.sk-label:hover label.sk-toggleable__label {background-color: #d4ebff;}#sk-container-id-1 div.sk-serial::before {content: \"\";position: absolute;border-left: 1px solid gray;box-sizing: border-box;top: 0;bottom: 0;left: 50%;z-index: 0;}#sk-container-id-1 div.sk-serial {display: flex;flex-direction: column;align-items: center;background-color: white;padding-right: 0.2em;padding-left: 0.2em;position: relative;}#sk-container-id-1 div.sk-item {position: relative;z-index: 1;}#sk-container-id-1 div.sk-parallel {display: flex;align-items: stretch;justify-content: center;background-color: white;position: relative;}#sk-container-id-1 div.sk-item::before, #sk-container-id-1 div.sk-parallel-item::before {content: \"\";position: absolute;border-left: 1px solid gray;box-sizing: border-box;top: 0;bottom: 0;left: 50%;z-index: -1;}#sk-container-id-1 div.sk-parallel-item {display: flex;flex-direction: column;z-index: 1;position: relative;background-color: white;}#sk-container-id-1 div.sk-parallel-item:first-child::after {align-self: flex-end;width: 50%;}#sk-container-id-1 div.sk-parallel-item:last-child::after {align-self: flex-start;width: 50%;}#sk-container-id-1 div.sk-parallel-item:only-child::after {width: 0;}#sk-container-id-1 div.sk-dashed-wrapped {border: 1px dashed gray;margin: 0 0.4em 0.5em 0.4em;box-sizing: border-box;padding-bottom: 0.4em;background-color: white;}#sk-container-id-1 div.sk-label label {font-family: monospace;font-weight: bold;display: inline-block;line-height: 1.2em;}#sk-container-id-1 div.sk-label-container {text-align: center;}#sk-container-id-1 div.sk-container {/* jupyter's `normalize.less` sets `[hidden] { display: none; }` but bootstrap.min.css set `[hidden] { display: none !important; }` so we also need the `!important` here to be able to override the default hidden behavior on the sphinx rendered scikit-learn.org. See: https://github.com/scikit-learn/scikit-learn/issues/21755 */display: inline-block !important;position: relative;}#sk-container-id-1 div.sk-text-repr-fallback {display: none;}</style><div id=\"sk-container-id-1\" class=\"sk-top-container\"><div class=\"sk-text-repr-fallback\"><pre>Pipeline(steps=[(&#x27;scale&#x27;, StandardScaler()),\n",
       "                (&#x27;model&#x27;,\n",
       "                 LogisticRegression(l1_ratio=0.5, penalty=&#x27;elasticnet&#x27;,\n",
       "                                    solver=&#x27;saga&#x27;))])</pre><b>In a Jupyter environment, please rerun this cell to show the HTML representation or trust the notebook. <br />On GitHub, the HTML representation is unable to render, please try loading this page with nbviewer.org.</b></div><div class=\"sk-container\" hidden><div class=\"sk-item sk-dashed-wrapped\"><div class=\"sk-label-container\"><div class=\"sk-label sk-toggleable\"><input class=\"sk-toggleable__control sk-hidden--visually\" id=\"sk-estimator-id-1\" type=\"checkbox\" ><label for=\"sk-estimator-id-1\" class=\"sk-toggleable__label sk-toggleable__label-arrow\">Pipeline</label><div class=\"sk-toggleable__content\"><pre>Pipeline(steps=[(&#x27;scale&#x27;, StandardScaler()),\n",
       "                (&#x27;model&#x27;,\n",
       "                 LogisticRegression(l1_ratio=0.5, penalty=&#x27;elasticnet&#x27;,\n",
       "                                    solver=&#x27;saga&#x27;))])</pre></div></div></div><div class=\"sk-serial\"><div class=\"sk-item\"><div class=\"sk-estimator sk-toggleable\"><input class=\"sk-toggleable__control sk-hidden--visually\" id=\"sk-estimator-id-2\" type=\"checkbox\" ><label for=\"sk-estimator-id-2\" class=\"sk-toggleable__label sk-toggleable__label-arrow\">StandardScaler</label><div class=\"sk-toggleable__content\"><pre>StandardScaler()</pre></div></div></div><div class=\"sk-item\"><div class=\"sk-estimator sk-toggleable\"><input class=\"sk-toggleable__control sk-hidden--visually\" id=\"sk-estimator-id-3\" type=\"checkbox\" ><label for=\"sk-estimator-id-3\" class=\"sk-toggleable__label sk-toggleable__label-arrow\">LogisticRegression</label><div class=\"sk-toggleable__content\"><pre>LogisticRegression(l1_ratio=0.5, penalty=&#x27;elasticnet&#x27;, solver=&#x27;saga&#x27;)</pre></div></div></div></div></div></div></div>"
      ],
      "text/plain": [
       "Pipeline(steps=[('scale', StandardScaler()),\n",
       "                ('model',\n",
       "                 LogisticRegression(l1_ratio=0.5, penalty='elasticnet',\n",
       "                                    solver='saga'))])"
      ]
     },
     "execution_count": 34,
     "metadata": {},
     "output_type": "execute_result"
    }
   ],
   "source": [
    "model.fit(X_train, y_train.values.ravel())"
   ]
  },
  {
   "cell_type": "code",
   "execution_count": 35,
   "id": "6e15e313",
   "metadata": {
    "execution": {
     "iopub.execute_input": "2025-08-19T17:57:47.459505Z",
     "iopub.status.busy": "2025-08-19T17:57:47.458848Z",
     "iopub.status.idle": "2025-08-19T17:57:47.675557Z",
     "shell.execute_reply": "2025-08-19T17:57:47.674433Z"
    },
    "papermill": {
     "duration": 0.23247,
     "end_time": "2025-08-19T17:57:47.676904",
     "exception": false,
     "start_time": "2025-08-19T17:57:47.444434",
     "status": "completed"
    },
    "tags": []
   },
   "outputs": [
    {
     "data": {
      "text/plain": [
       "0.8655333853528034"
      ]
     },
     "execution_count": 35,
     "metadata": {},
     "output_type": "execute_result"
    }
   ],
   "source": [
    "from fairness_multiverse.universe import predict_w_threshold\n",
    "\n",
    "probs_test = model.predict_proba(X_test)\n",
    "\n",
    "'''\n",
    "Below code returns a boolean array (or binary 0/1 array depending on how it’s used) where each element \n",
    "is True if the probability of class 1 is greater than or equal to the threshold, and False otherwise.\n",
    "'''\n",
    "y_pred_default = predict_w_threshold(probs_test, 0.5)\n",
    "\n",
    "from sklearn.metrics import accuracy_score\n",
    "\n",
    "# Naive prediction\n",
    "accuracy_score(y_true = y_true, y_pred = y_pred_default)"
   ]
  },
  {
   "cell_type": "code",
   "execution_count": 36,
   "id": "6f14067c",
   "metadata": {
    "execution": {
     "iopub.execute_input": "2025-08-19T17:57:47.701434Z",
     "iopub.status.busy": "2025-08-19T17:57:47.700943Z",
     "iopub.status.idle": "2025-08-19T17:57:47.889381Z",
     "shell.execute_reply": "2025-08-19T17:57:47.888314Z"
    },
    "papermill": {
     "duration": 0.203813,
     "end_time": "2025-08-19T17:57:47.892016",
     "exception": false,
     "start_time": "2025-08-19T17:57:47.688203",
     "status": "completed"
    },
    "tags": []
   },
   "outputs": [
    {
     "data": {
      "text/plain": [
       "array([0, 0, 0, ..., 0, 0, 0])"
      ]
     },
     "execution_count": 36,
     "metadata": {},
     "output_type": "execute_result"
    }
   ],
   "source": [
    "model.predict(X_test)"
   ]
  },
  {
   "cell_type": "markdown",
   "id": "3759920c",
   "metadata": {
    "papermill": {
     "duration": 0.011663,
     "end_time": "2025-08-19T17:57:47.923548",
     "exception": false,
     "start_time": "2025-08-19T17:57:47.911885",
     "status": "completed"
    },
    "tags": []
   },
   "source": [
    "# Conformal Prediction"
   ]
  },
  {
   "cell_type": "code",
   "execution_count": 37,
   "id": "14b27f59",
   "metadata": {
    "execution": {
     "iopub.execute_input": "2025-08-19T17:57:47.949162Z",
     "iopub.status.busy": "2025-08-19T17:57:47.948384Z",
     "iopub.status.idle": "2025-08-19T17:57:47.962161Z",
     "shell.execute_reply": "2025-08-19T17:57:47.956219Z"
    },
    "papermill": {
     "duration": 0.028717,
     "end_time": "2025-08-19T17:57:47.964047",
     "exception": false,
     "start_time": "2025-08-19T17:57:47.935330",
     "status": "completed"
    },
    "tags": []
   },
   "outputs": [],
   "source": [
    "# Miscoverage level for conformal prediction (10% allowed error rate => 90% target coverage)\n",
    "alpha = 0.1"
   ]
  },
  {
   "cell_type": "code",
   "execution_count": 38,
   "id": "59102472",
   "metadata": {
    "execution": {
     "iopub.execute_input": "2025-08-19T17:57:47.996173Z",
     "iopub.status.busy": "2025-08-19T17:57:47.995057Z",
     "iopub.status.idle": "2025-08-19T17:57:48.175429Z",
     "shell.execute_reply": "2025-08-19T17:57:48.174722Z"
    },
    "papermill": {
     "duration": 0.197444,
     "end_time": "2025-08-19T17:57:48.179029",
     "exception": false,
     "start_time": "2025-08-19T17:57:47.981585",
     "status": "completed"
    },
    "tags": []
   },
   "outputs": [],
   "source": [
    "probs_calib = model.predict_proba(X_calib)"
   ]
  },
  {
   "cell_type": "code",
   "execution_count": 39,
   "id": "a792d4dd",
   "metadata": {
    "execution": {
     "iopub.execute_input": "2025-08-19T17:57:48.216217Z",
     "iopub.status.busy": "2025-08-19T17:57:48.215925Z",
     "iopub.status.idle": "2025-08-19T17:57:48.221404Z",
     "shell.execute_reply": "2025-08-19T17:57:48.220692Z"
    },
    "papermill": {
     "duration": 0.02045,
     "end_time": "2025-08-19T17:57:48.222741",
     "exception": false,
     "start_time": "2025-08-19T17:57:48.202291",
     "status": "completed"
    },
    "tags": []
   },
   "outputs": [],
   "source": [
    "y_calib = y_calib.values.ravel().astype(int)"
   ]
  },
  {
   "cell_type": "code",
   "execution_count": 40,
   "id": "650fd033",
   "metadata": {
    "execution": {
     "iopub.execute_input": "2025-08-19T17:57:48.247462Z",
     "iopub.status.busy": "2025-08-19T17:57:48.247164Z",
     "iopub.status.idle": "2025-08-19T17:57:48.254855Z",
     "shell.execute_reply": "2025-08-19T17:57:48.254240Z"
    },
    "papermill": {
     "duration": 0.02297,
     "end_time": "2025-08-19T17:57:48.257224",
     "exception": false,
     "start_time": "2025-08-19T17:57:48.234254",
     "status": "completed"
    },
    "tags": []
   },
   "outputs": [],
   "source": [
    "from fairness_multiverse.conformal import compute_nc_scores\n",
    "\n",
    "# Compute nonconformity scores on calibration set (1 - probability of true class)\n",
    "nc_scores = compute_nc_scores(probs_calib, y_calib)"
   ]
  },
  {
   "cell_type": "code",
   "execution_count": 41,
   "id": "28ada44c",
   "metadata": {
    "execution": {
     "iopub.execute_input": "2025-08-19T17:57:48.283366Z",
     "iopub.status.busy": "2025-08-19T17:57:48.282590Z",
     "iopub.status.idle": "2025-08-19T17:57:48.289771Z",
     "shell.execute_reply": "2025-08-19T17:57:48.288866Z"
    },
    "papermill": {
     "duration": 0.020929,
     "end_time": "2025-08-19T17:57:48.291135",
     "exception": false,
     "start_time": "2025-08-19T17:57:48.270206",
     "status": "completed"
    },
    "tags": []
   },
   "outputs": [],
   "source": [
    "from fairness_multiverse.conformal import find_threshold\n",
    "\n",
    "# Find conformal threshold q_hat for the given alpha (split conformal method)\n",
    "q_hat = find_threshold(nc_scores, alpha)"
   ]
  },
  {
   "cell_type": "code",
   "execution_count": 42,
   "id": "df56469e",
   "metadata": {
    "execution": {
     "iopub.execute_input": "2025-08-19T17:57:48.316940Z",
     "iopub.status.busy": "2025-08-19T17:57:48.315951Z",
     "iopub.status.idle": "2025-08-19T17:57:48.325506Z",
     "shell.execute_reply": "2025-08-19T17:57:48.324214Z"
    },
    "papermill": {
     "duration": 0.023351,
     "end_time": "2025-08-19T17:57:48.326969",
     "exception": false,
     "start_time": "2025-08-19T17:57:48.303618",
     "status": "completed"
    },
    "tags": []
   },
   "outputs": [
    {
     "data": {
      "text/plain": [
       "0.6761140542512882"
      ]
     },
     "execution_count": 42,
     "metadata": {},
     "output_type": "execute_result"
    }
   ],
   "source": [
    "q_hat"
   ]
  },
  {
   "cell_type": "code",
   "execution_count": 43,
   "id": "aa1f5faa",
   "metadata": {
    "execution": {
     "iopub.execute_input": "2025-08-19T17:57:48.352232Z",
     "iopub.status.busy": "2025-08-19T17:57:48.351354Z",
     "iopub.status.idle": "2025-08-19T17:57:49.001780Z",
     "shell.execute_reply": "2025-08-19T17:57:49.000377Z"
    },
    "papermill": {
     "duration": 0.665917,
     "end_time": "2025-08-19T17:57:49.004753",
     "exception": false,
     "start_time": "2025-08-19T17:57:48.338836",
     "status": "completed"
    },
    "tags": []
   },
   "outputs": [],
   "source": [
    "from fairness_multiverse.conformal import predict_conformal_sets\n",
    "\n",
    "# Generate prediction sets for each test example\n",
    "pred_sets = predict_conformal_sets(model, X_test, q_hat)"
   ]
  },
  {
   "cell_type": "code",
   "execution_count": 44,
   "id": "97f67a6b",
   "metadata": {
    "execution": {
     "iopub.execute_input": "2025-08-19T17:57:49.035778Z",
     "iopub.status.busy": "2025-08-19T17:57:49.035343Z",
     "iopub.status.idle": "2025-08-19T17:57:49.040342Z",
     "shell.execute_reply": "2025-08-19T17:57:49.039691Z"
    },
    "papermill": {
     "duration": 0.020258,
     "end_time": "2025-08-19T17:57:49.042899",
     "exception": false,
     "start_time": "2025-08-19T17:57:49.022641",
     "status": "completed"
    },
    "tags": []
   },
   "outputs": [],
   "source": [
    "y_true = y_true.squeeze()"
   ]
  },
  {
   "cell_type": "code",
   "execution_count": 45,
   "id": "e700e9a7",
   "metadata": {
    "execution": {
     "iopub.execute_input": "2025-08-19T17:57:49.073351Z",
     "iopub.status.busy": "2025-08-19T17:57:49.072942Z",
     "iopub.status.idle": "2025-08-19T17:57:49.561191Z",
     "shell.execute_reply": "2025-08-19T17:57:49.560228Z"
    },
    "papermill": {
     "duration": 0.50244,
     "end_time": "2025-08-19T17:57:49.562681",
     "exception": false,
     "start_time": "2025-08-19T17:57:49.060241",
     "status": "completed"
    },
    "tags": []
   },
   "outputs": [],
   "source": [
    "from fairness_multiverse.conformal import evaluate_sets\n",
    "\n",
    "# Evaluate coverage and average set size on test data\n",
    "metrics = evaluate_sets(pred_sets, y_true)"
   ]
  },
  {
   "cell_type": "markdown",
   "id": "efbacec0",
   "metadata": {
    "papermill": {
     "duration": 0.011164,
     "end_time": "2025-08-19T17:57:49.585491",
     "exception": false,
     "start_time": "2025-08-19T17:57:49.574327",
     "status": "completed"
    },
    "tags": []
   },
   "source": [
    "# CP Metrics"
   ]
  },
  {
   "cell_type": "code",
   "execution_count": 46,
   "id": "9de55fb1",
   "metadata": {
    "execution": {
     "iopub.execute_input": "2025-08-19T17:57:49.610629Z",
     "iopub.status.busy": "2025-08-19T17:57:49.609919Z",
     "iopub.status.idle": "2025-08-19T17:57:49.621518Z",
     "shell.execute_reply": "2025-08-19T17:57:49.620238Z"
    },
    "papermill": {
     "duration": 0.026652,
     "end_time": "2025-08-19T17:57:49.623173",
     "exception": false,
     "start_time": "2025-08-19T17:57:49.596521",
     "status": "completed"
    },
    "tags": []
   },
   "outputs": [
    {
     "data": {
      "text/plain": [
       "{'coverage': 0.9126184371864898, 'avg_size': 1.1259168431612976}"
      ]
     },
     "execution_count": 46,
     "metadata": {},
     "output_type": "execute_result"
    }
   ],
   "source": [
    "metrics"
   ]
  },
  {
   "cell_type": "code",
   "execution_count": 47,
   "id": "64c340a1",
   "metadata": {
    "execution": {
     "iopub.execute_input": "2025-08-19T17:57:49.661271Z",
     "iopub.status.busy": "2025-08-19T17:57:49.659226Z",
     "iopub.status.idle": "2025-08-19T17:57:49.674312Z",
     "shell.execute_reply": "2025-08-19T17:57:49.673266Z"
    },
    "papermill": {
     "duration": 0.039262,
     "end_time": "2025-08-19T17:57:49.676099",
     "exception": false,
     "start_time": "2025-08-19T17:57:49.636837",
     "status": "completed"
    },
    "tags": []
   },
   "outputs": [],
   "source": [
    "example_universe = universe.copy()\n",
    "universe_training_year = example_universe.get(\"training_year\")\n",
    "universe_training_size = example_universe.get(\"training_size\")\n",
    "universe_scale = example_universe.get(\"scale\")\n",
    "universe_model = example_universe.get(\"model\")\n",
    "universe_exclude_features = example_universe.get(\"exclude_features\")\n",
    "universe_exclude_subgroups = example_universe.get(\"exclude_subgroups\")"
   ]
  },
  {
   "cell_type": "code",
   "execution_count": 48,
   "id": "dbb53cb4",
   "metadata": {
    "execution": {
     "iopub.execute_input": "2025-08-19T17:57:49.707418Z",
     "iopub.status.busy": "2025-08-19T17:57:49.706738Z",
     "iopub.status.idle": "2025-08-19T17:57:49.717420Z",
     "shell.execute_reply": "2025-08-19T17:57:49.715666Z"
    },
    "papermill": {
     "duration": 0.025339,
     "end_time": "2025-08-19T17:57:49.719108",
     "exception": false,
     "start_time": "2025-08-19T17:57:49.693769",
     "status": "completed"
    },
    "tags": []
   },
   "outputs": [],
   "source": [
    "cp_metrics_dict = {\n",
    "    \"universe_id\": [universe_id],\n",
    "    \"universe_training_year\": [universe_training_year],\n",
    "    \"universe_training_size\": [universe_training_size],\n",
    "    \"universe_scale\": [universe_scale],\n",
    "    \"universe_model\": [universe_model],\n",
    "    \"universe_exclude_features\": [universe_exclude_features],\n",
    "    \"universe_exclude_subgroups\": [universe_exclude_subgroups],\n",
    "    \"q_hat\": [q_hat],\n",
    "    \"coverage\": [metrics[\"coverage\"]],\n",
    "    \"avg_size\": [metrics[\"avg_size\"]],\n",
    "}"
   ]
  },
  {
   "cell_type": "code",
   "execution_count": 49,
   "id": "0d70d4b2",
   "metadata": {
    "execution": {
     "iopub.execute_input": "2025-08-19T17:57:49.748445Z",
     "iopub.status.busy": "2025-08-19T17:57:49.747808Z",
     "iopub.status.idle": "2025-08-19T17:57:49.760525Z",
     "shell.execute_reply": "2025-08-19T17:57:49.759279Z"
    },
    "papermill": {
     "duration": 0.027176,
     "end_time": "2025-08-19T17:57:49.762116",
     "exception": false,
     "start_time": "2025-08-19T17:57:49.734940",
     "status": "completed"
    },
    "tags": []
   },
   "outputs": [],
   "source": [
    "cp_metrics_df = pd.DataFrame(cp_metrics_dict)"
   ]
  },
  {
   "cell_type": "code",
   "execution_count": 50,
   "id": "b494403c",
   "metadata": {
    "execution": {
     "iopub.execute_input": "2025-08-19T17:57:49.792753Z",
     "iopub.status.busy": "2025-08-19T17:57:49.792065Z",
     "iopub.status.idle": "2025-08-19T17:57:49.817088Z",
     "shell.execute_reply": "2025-08-19T17:57:49.816071Z"
    },
    "papermill": {
     "duration": 0.040854,
     "end_time": "2025-08-19T17:57:49.819332",
     "exception": false,
     "start_time": "2025-08-19T17:57:49.778478",
     "status": "completed"
    },
    "tags": []
   },
   "outputs": [
    {
     "data": {
      "text/html": [
       "<div>\n",
       "<style scoped>\n",
       "    .dataframe tbody tr th:only-of-type {\n",
       "        vertical-align: middle;\n",
       "    }\n",
       "\n",
       "    .dataframe tbody tr th {\n",
       "        vertical-align: top;\n",
       "    }\n",
       "\n",
       "    .dataframe thead th {\n",
       "        text-align: right;\n",
       "    }\n",
       "</style>\n",
       "<table border=\"1\" class=\"dataframe\">\n",
       "  <thead>\n",
       "    <tr style=\"text-align: right;\">\n",
       "      <th></th>\n",
       "      <th>universe_id</th>\n",
       "      <th>universe_training_year</th>\n",
       "      <th>universe_training_size</th>\n",
       "      <th>universe_scale</th>\n",
       "      <th>universe_model</th>\n",
       "      <th>universe_exclude_features</th>\n",
       "      <th>universe_exclude_subgroups</th>\n",
       "      <th>q_hat</th>\n",
       "      <th>coverage</th>\n",
       "      <th>avg_size</th>\n",
       "    </tr>\n",
       "  </thead>\n",
       "  <tbody>\n",
       "    <tr>\n",
       "      <th>0</th>\n",
       "      <td>e1a23ce94a22c6cb1a4162da178861e1</td>\n",
       "      <td>2014</td>\n",
       "      <td>25k</td>\n",
       "      <td>scale</td>\n",
       "      <td>elasticnet</td>\n",
       "      <td>nationality-sex</td>\n",
       "      <td>keep-all</td>\n",
       "      <td>0.676114</td>\n",
       "      <td>0.912618</td>\n",
       "      <td>1.125917</td>\n",
       "    </tr>\n",
       "  </tbody>\n",
       "</table>\n",
       "</div>"
      ],
      "text/plain": [
       "                        universe_id universe_training_year  \\\n",
       "0  e1a23ce94a22c6cb1a4162da178861e1                   2014   \n",
       "\n",
       "  universe_training_size universe_scale universe_model  \\\n",
       "0                    25k          scale     elasticnet   \n",
       "\n",
       "  universe_exclude_features universe_exclude_subgroups     q_hat  coverage  \\\n",
       "0           nationality-sex                   keep-all  0.676114  0.912618   \n",
       "\n",
       "   avg_size  \n",
       "0  1.125917  "
      ]
     },
     "execution_count": 50,
     "metadata": {},
     "output_type": "execute_result"
    }
   ],
   "source": [
    "cp_metrics_df"
   ]
  },
  {
   "cell_type": "markdown",
   "id": "ed608b0b",
   "metadata": {
    "papermill": {
     "duration": 0.011451,
     "end_time": "2025-08-19T17:57:49.847550",
     "exception": false,
     "start_time": "2025-08-19T17:57:49.836099",
     "status": "completed"
    },
    "tags": []
   },
   "source": [
    "Conditional coverage & looking at subgroups"
   ]
  },
  {
   "cell_type": "code",
   "execution_count": 51,
   "id": "8968c366",
   "metadata": {
    "execution": {
     "iopub.execute_input": "2025-08-19T17:57:49.873036Z",
     "iopub.status.busy": "2025-08-19T17:57:49.872334Z",
     "iopub.status.idle": "2025-08-19T17:57:50.131756Z",
     "shell.execute_reply": "2025-08-19T17:57:50.130647Z"
    },
    "papermill": {
     "duration": 0.275892,
     "end_time": "2025-08-19T17:57:50.134859",
     "exception": false,
     "start_time": "2025-08-19T17:57:49.858967",
     "status": "completed"
    },
    "tags": []
   },
   "outputs": [],
   "source": [
    "from fairness_multiverse.conformal import build_cp_groups\n",
    "\n",
    "cp_groups_df = build_cp_groups(pred_sets, y_true, X_test.index, org_test)"
   ]
  },
  {
   "cell_type": "code",
   "execution_count": 52,
   "id": "292ddabf",
   "metadata": {
    "execution": {
     "iopub.execute_input": "2025-08-19T17:57:50.181155Z",
     "iopub.status.busy": "2025-08-19T17:57:50.180427Z",
     "iopub.status.idle": "2025-08-19T17:57:51.046730Z",
     "shell.execute_reply": "2025-08-19T17:57:51.045649Z"
    },
    "papermill": {
     "duration": 0.885272,
     "end_time": "2025-08-19T17:57:51.049406",
     "exception": false,
     "start_time": "2025-08-19T17:57:50.164134",
     "status": "completed"
    },
    "tags": []
   },
   "outputs": [],
   "source": [
    "# Define covered = 1 if true_label is in the predicted set\n",
    "cp_groups_df['covered'] = cp_groups_df.apply(\n",
    "    lambda r: int(r['true_label'] in r['pred_set']),\n",
    "    axis=1\n",
    ")"
   ]
  },
  {
   "cell_type": "code",
   "execution_count": 53,
   "id": "3a261692",
   "metadata": {
    "execution": {
     "iopub.execute_input": "2025-08-19T17:57:51.088632Z",
     "iopub.status.busy": "2025-08-19T17:57:51.087121Z",
     "iopub.status.idle": "2025-08-19T17:57:51.114792Z",
     "shell.execute_reply": "2025-08-19T17:57:51.113719Z"
    },
    "papermill": {
     "duration": 0.045754,
     "end_time": "2025-08-19T17:57:51.116195",
     "exception": false,
     "start_time": "2025-08-19T17:57:51.070441",
     "status": "completed"
    },
    "tags": []
   },
   "outputs": [],
   "source": [
    "subgroups = ['frau1','nongerman','nongerman_male','nongerman_female']\n",
    "\n",
    "# Conditional coverage for subgroup==1\n",
    "cond_coverage = {\n",
    "    g: cp_groups_df.loc[cp_groups_df[g]==1, 'covered'].mean()\n",
    "    for g in subgroups\n",
    "}"
   ]
  },
  {
   "cell_type": "code",
   "execution_count": 54,
   "id": "894fd600",
   "metadata": {
    "execution": {
     "iopub.execute_input": "2025-08-19T17:57:51.143772Z",
     "iopub.status.busy": "2025-08-19T17:57:51.142823Z",
     "iopub.status.idle": "2025-08-19T17:57:51.155037Z",
     "shell.execute_reply": "2025-08-19T17:57:51.153488Z"
    },
    "papermill": {
     "duration": 0.028331,
     "end_time": "2025-08-19T17:57:51.157317",
     "exception": false,
     "start_time": "2025-08-19T17:57:51.128986",
     "status": "completed"
    },
    "tags": []
   },
   "outputs": [
    {
     "data": {
      "text/plain": [
       "{'frau1': 0.9127106078986387,\n",
       " 'nongerman': 0.9127042047942514,\n",
       " 'nongerman_male': 0.9274970728631902,\n",
       " 'nongerman_female': 0.8882265275707899}"
      ]
     },
     "execution_count": 54,
     "metadata": {},
     "output_type": "execute_result"
    }
   ],
   "source": [
    "cond_coverage"
   ]
  },
  {
   "cell_type": "code",
   "execution_count": 55,
   "id": "942895c7",
   "metadata": {
    "execution": {
     "iopub.execute_input": "2025-08-19T17:57:51.205266Z",
     "iopub.status.busy": "2025-08-19T17:57:51.204900Z",
     "iopub.status.idle": "2025-08-19T17:57:51.213373Z",
     "shell.execute_reply": "2025-08-19T17:57:51.212370Z"
    },
    "papermill": {
     "duration": 0.037257,
     "end_time": "2025-08-19T17:57:51.214864",
     "exception": false,
     "start_time": "2025-08-19T17:57:51.177607",
     "status": "completed"
    },
    "tags": []
   },
   "outputs": [],
   "source": [
    "for subgroup, cov in cond_coverage.items():\n",
    "    cp_metrics_df[f\"cov_{subgroup}\"] = cov"
   ]
  },
  {
   "cell_type": "code",
   "execution_count": 56,
   "id": "3970120f",
   "metadata": {
    "execution": {
     "iopub.execute_input": "2025-08-19T17:57:51.241128Z",
     "iopub.status.busy": "2025-08-19T17:57:51.240854Z",
     "iopub.status.idle": "2025-08-19T17:57:51.260167Z",
     "shell.execute_reply": "2025-08-19T17:57:51.258070Z"
    },
    "papermill": {
     "duration": 0.033725,
     "end_time": "2025-08-19T17:57:51.261995",
     "exception": false,
     "start_time": "2025-08-19T17:57:51.228270",
     "status": "completed"
    },
    "tags": []
   },
   "outputs": [
    {
     "data": {
      "text/html": [
       "<div>\n",
       "<style scoped>\n",
       "    .dataframe tbody tr th:only-of-type {\n",
       "        vertical-align: middle;\n",
       "    }\n",
       "\n",
       "    .dataframe tbody tr th {\n",
       "        vertical-align: top;\n",
       "    }\n",
       "\n",
       "    .dataframe thead th {\n",
       "        text-align: right;\n",
       "    }\n",
       "</style>\n",
       "<table border=\"1\" class=\"dataframe\">\n",
       "  <thead>\n",
       "    <tr style=\"text-align: right;\">\n",
       "      <th></th>\n",
       "      <th>universe_id</th>\n",
       "      <th>universe_training_year</th>\n",
       "      <th>universe_training_size</th>\n",
       "      <th>universe_scale</th>\n",
       "      <th>universe_model</th>\n",
       "      <th>universe_exclude_features</th>\n",
       "      <th>universe_exclude_subgroups</th>\n",
       "      <th>q_hat</th>\n",
       "      <th>coverage</th>\n",
       "      <th>avg_size</th>\n",
       "      <th>cov_frau1</th>\n",
       "      <th>cov_nongerman</th>\n",
       "      <th>cov_nongerman_male</th>\n",
       "      <th>cov_nongerman_female</th>\n",
       "    </tr>\n",
       "  </thead>\n",
       "  <tbody>\n",
       "    <tr>\n",
       "      <th>0</th>\n",
       "      <td>e1a23ce94a22c6cb1a4162da178861e1</td>\n",
       "      <td>2014</td>\n",
       "      <td>25k</td>\n",
       "      <td>scale</td>\n",
       "      <td>elasticnet</td>\n",
       "      <td>nationality-sex</td>\n",
       "      <td>keep-all</td>\n",
       "      <td>0.676114</td>\n",
       "      <td>0.912618</td>\n",
       "      <td>1.125917</td>\n",
       "      <td>0.912711</td>\n",
       "      <td>0.912704</td>\n",
       "      <td>0.927497</td>\n",
       "      <td>0.888227</td>\n",
       "    </tr>\n",
       "  </tbody>\n",
       "</table>\n",
       "</div>"
      ],
      "text/plain": [
       "                        universe_id universe_training_year  \\\n",
       "0  e1a23ce94a22c6cb1a4162da178861e1                   2014   \n",
       "\n",
       "  universe_training_size universe_scale universe_model  \\\n",
       "0                    25k          scale     elasticnet   \n",
       "\n",
       "  universe_exclude_features universe_exclude_subgroups     q_hat  coverage  \\\n",
       "0           nationality-sex                   keep-all  0.676114  0.912618   \n",
       "\n",
       "   avg_size  cov_frau1  cov_nongerman  cov_nongerman_male  \\\n",
       "0  1.125917   0.912711       0.912704            0.927497   \n",
       "\n",
       "   cov_nongerman_female  \n",
       "0              0.888227  "
      ]
     },
     "execution_count": 56,
     "metadata": {},
     "output_type": "execute_result"
    }
   ],
   "source": [
    "cp_metrics_df"
   ]
  },
  {
   "cell_type": "markdown",
   "id": "3fc519cc",
   "metadata": {
    "papermill": {
     "duration": 0.011858,
     "end_time": "2025-08-19T17:57:51.288437",
     "exception": false,
     "start_time": "2025-08-19T17:57:51.276579",
     "status": "completed"
    },
    "tags": []
   },
   "source": [
    "# (Fairness) Metrics"
   ]
  },
  {
   "cell_type": "code",
   "execution_count": 57,
   "id": "a2e5e155",
   "metadata": {
    "execution": {
     "iopub.execute_input": "2025-08-19T17:57:51.315395Z",
     "iopub.status.busy": "2025-08-19T17:57:51.314253Z",
     "iopub.status.idle": "2025-08-19T17:57:51.346667Z",
     "shell.execute_reply": "2025-08-19T17:57:51.345864Z"
    },
    "papermill": {
     "duration": 0.048715,
     "end_time": "2025-08-19T17:57:51.348991",
     "exception": false,
     "start_time": "2025-08-19T17:57:51.300276",
     "status": "completed"
    },
    "tags": []
   },
   "outputs": [],
   "source": [
    "colname_to_bin = \"maxdeutsch1\"\n",
    "majority_value = org_train[colname_to_bin].mode()[0]\n",
    "\n",
    "org_test[\"majmin\"] = np.where(org_test[colname_to_bin] == majority_value, \"majority\", \"minority\")"
   ]
  },
  {
   "cell_type": "code",
   "execution_count": 58,
   "id": "17e3e4d5",
   "metadata": {
    "execution": {
     "iopub.execute_input": "2025-08-19T17:57:51.392155Z",
     "iopub.status.busy": "2025-08-19T17:57:51.391001Z",
     "iopub.status.idle": "2025-08-19T17:57:53.202276Z",
     "shell.execute_reply": "2025-08-19T17:57:53.200704Z"
    },
    "papermill": {
     "duration": 1.828605,
     "end_time": "2025-08-19T17:57:53.203905",
     "exception": false,
     "start_time": "2025-08-19T17:57:51.375300",
     "status": "completed"
    },
    "tags": []
   },
   "outputs": [],
   "source": [
    "example_universe = universe.copy()\n",
    "example_universe[\"cutoff\"] = example_universe[\"cutoff\"][0]\n",
    "example_universe[\"eval_fairness_grouping\"] = example_universe[\"eval_fairness_grouping\"][0]\n",
    "fairness_dict, metric_frame = universe_analysis.compute_metrics(\n",
    "    example_universe,\n",
    "    y_pred_prob=probs_test,\n",
    "    y_test=y_true,\n",
    "    org_test=org_test,\n",
    ")"
   ]
  },
  {
   "cell_type": "markdown",
   "id": "1fb7a0e9",
   "metadata": {
    "papermill": {
     "duration": 0.011957,
     "end_time": "2025-08-19T17:57:53.228541",
     "exception": false,
     "start_time": "2025-08-19T17:57:53.216584",
     "status": "completed"
    },
    "tags": []
   },
   "source": [
    "# Overall"
   ]
  },
  {
   "cell_type": "markdown",
   "id": "be1784b1",
   "metadata": {
    "papermill": {
     "duration": 0.01183,
     "end_time": "2025-08-19T17:57:53.252242",
     "exception": false,
     "start_time": "2025-08-19T17:57:53.240412",
     "status": "completed"
    },
    "tags": []
   },
   "source": [
    "Main fairness target: Equalized Odds. Seems to be a better fit than equal opportunity, since we're not only interested in Y = 1. Seems to be a better fit than demographic parity, since we also care about accuracy, not just equal distribution of preds.\n",
    "\n",
    "Pick column for computation of fairness metrics\n",
    "\n",
    "Performance\n",
    "Overall performance measures, most interesting in relation to the measures split by group below"
   ]
  },
  {
   "cell_type": "code",
   "execution_count": 59,
   "id": "b7672bee",
   "metadata": {
    "execution": {
     "iopub.execute_input": "2025-08-19T17:57:53.279393Z",
     "iopub.status.busy": "2025-08-19T17:57:53.278565Z",
     "iopub.status.idle": "2025-08-19T17:57:53.296961Z",
     "shell.execute_reply": "2025-08-19T17:57:53.295726Z"
    },
    "papermill": {
     "duration": 0.034453,
     "end_time": "2025-08-19T17:57:53.298667",
     "exception": false,
     "start_time": "2025-08-19T17:57:53.264214",
     "status": "completed"
    },
    "tags": []
   },
   "outputs": [
    {
     "data": {
      "text/plain": [
       "accuracy                   0.225493\n",
       "balanced accuracy          0.551128\n",
       "f1                         0.246794\n",
       "precision                  0.140985\n",
       "false positive rate        0.886883\n",
       "false negative rate        0.010862\n",
       "selection rate             0.900000\n",
       "count                  89710.000000\n",
       "dtype: float64"
      ]
     },
     "execution_count": 59,
     "metadata": {},
     "output_type": "execute_result"
    }
   ],
   "source": [
    "metric_frame.overall"
   ]
  },
  {
   "cell_type": "markdown",
   "id": "d93333c9",
   "metadata": {
    "papermill": {
     "duration": 0.012296,
     "end_time": "2025-08-19T17:57:53.326328",
     "exception": false,
     "start_time": "2025-08-19T17:57:53.314032",
     "status": "completed"
    },
    "tags": []
   },
   "source": [
    "By Group"
   ]
  },
  {
   "cell_type": "code",
   "execution_count": 60,
   "id": "52256966",
   "metadata": {
    "execution": {
     "iopub.execute_input": "2025-08-19T17:57:53.351798Z",
     "iopub.status.busy": "2025-08-19T17:57:53.351350Z",
     "iopub.status.idle": "2025-08-19T17:57:53.367847Z",
     "shell.execute_reply": "2025-08-19T17:57:53.366965Z"
    },
    "papermill": {
     "duration": 0.031218,
     "end_time": "2025-08-19T17:57:53.369531",
     "exception": false,
     "start_time": "2025-08-19T17:57:53.338313",
     "status": "completed"
    },
    "tags": []
   },
   "outputs": [
    {
     "data": {
      "text/html": [
       "<div>\n",
       "<style scoped>\n",
       "    .dataframe tbody tr th:only-of-type {\n",
       "        vertical-align: middle;\n",
       "    }\n",
       "\n",
       "    .dataframe tbody tr th {\n",
       "        vertical-align: top;\n",
       "    }\n",
       "\n",
       "    .dataframe thead th {\n",
       "        text-align: right;\n",
       "    }\n",
       "</style>\n",
       "<table border=\"1\" class=\"dataframe\">\n",
       "  <thead>\n",
       "    <tr style=\"text-align: right;\">\n",
       "      <th></th>\n",
       "      <th>accuracy</th>\n",
       "      <th>balanced accuracy</th>\n",
       "      <th>f1</th>\n",
       "      <th>precision</th>\n",
       "      <th>false positive rate</th>\n",
       "      <th>false negative rate</th>\n",
       "      <th>selection rate</th>\n",
       "      <th>count</th>\n",
       "    </tr>\n",
       "    <tr>\n",
       "      <th>majmin</th>\n",
       "      <th></th>\n",
       "      <th></th>\n",
       "      <th></th>\n",
       "      <th></th>\n",
       "      <th></th>\n",
       "      <th></th>\n",
       "      <th></th>\n",
       "      <th></th>\n",
       "    </tr>\n",
       "  </thead>\n",
       "  <tbody>\n",
       "    <tr>\n",
       "      <th>majority</th>\n",
       "      <td>0.247203</td>\n",
       "      <td>0.561144</td>\n",
       "      <td>0.257497</td>\n",
       "      <td>0.148043</td>\n",
       "      <td>0.865567</td>\n",
       "      <td>0.012144</td>\n",
       "      <td>0.881726</td>\n",
       "      <td>69170.0</td>\n",
       "    </tr>\n",
       "    <tr>\n",
       "      <th>minority</th>\n",
       "      <td>0.152386</td>\n",
       "      <td>0.518395</td>\n",
       "      <td>0.212858</td>\n",
       "      <td>0.119190</td>\n",
       "      <td>0.957297</td>\n",
       "      <td>0.005912</td>\n",
       "      <td>0.961538</td>\n",
       "      <td>20540.0</td>\n",
       "    </tr>\n",
       "  </tbody>\n",
       "</table>\n",
       "</div>"
      ],
      "text/plain": [
       "          accuracy  balanced accuracy        f1  precision  \\\n",
       "majmin                                                       \n",
       "majority  0.247203           0.561144  0.257497   0.148043   \n",
       "minority  0.152386           0.518395  0.212858   0.119190   \n",
       "\n",
       "          false positive rate  false negative rate  selection rate    count  \n",
       "majmin                                                                       \n",
       "majority             0.865567             0.012144        0.881726  69170.0  \n",
       "minority             0.957297             0.005912        0.961538  20540.0  "
      ]
     },
     "execution_count": 60,
     "metadata": {},
     "output_type": "execute_result"
    }
   ],
   "source": [
    "metric_frame.by_group"
   ]
  },
  {
   "cell_type": "code",
   "execution_count": 61,
   "id": "6e6c20ae",
   "metadata": {
    "execution": {
     "iopub.execute_input": "2025-08-19T17:57:53.399353Z",
     "iopub.status.busy": "2025-08-19T17:57:53.398980Z",
     "iopub.status.idle": "2025-08-19T17:57:55.391118Z",
     "shell.execute_reply": "2025-08-19T17:57:55.389812Z"
    },
    "papermill": {
     "duration": 2.0083,
     "end_time": "2025-08-19T17:57:55.394098",
     "exception": false,
     "start_time": "2025-08-19T17:57:53.385798",
     "status": "completed"
    },
    "tags": []
   },
   "outputs": [
    {
     "data": {
      "text/plain": [
       "array([[<Axes: title={'center': 'accuracy'}, xlabel='majmin'>,\n",
       "        <Axes: title={'center': 'balanced accuracy'}, xlabel='majmin'>,\n",
       "        <Axes: title={'center': 'f1'}, xlabel='majmin'>],\n",
       "       [<Axes: title={'center': 'precision'}, xlabel='majmin'>,\n",
       "        <Axes: title={'center': 'false positive rate'}, xlabel='majmin'>,\n",
       "        <Axes: title={'center': 'false negative rate'}, xlabel='majmin'>],\n",
       "       [<Axes: title={'center': 'selection rate'}, xlabel='majmin'>,\n",
       "        <Axes: title={'center': 'count'}, xlabel='majmin'>,\n",
       "        <Axes: xlabel='majmin'>]], dtype=object)"
      ]
     },
     "execution_count": 61,
     "metadata": {},
     "output_type": "execute_result"
    },
    {
     "data": {
      "image/png": "[encoded data removed]",
      "text/plain": [
       "<Figure size 1200x800 with 9 Axes>"
      ]
     },
     "metadata": {},
     "output_type": "display_data"
    }
   ],
   "source": [
    "# In a graphic\n",
    "metric_frame.by_group.plot.bar(\n",
    "    subplots=True,\n",
    "    layout=[3, 3],\n",
    "    legend=False,\n",
    "    figsize=[12, 8],\n",
    "    title=\"Show all metrics\",\n",
    ")"
   ]
  },
  {
   "cell_type": "markdown",
   "id": "b2e433ae",
   "metadata": {
    "papermill": {
     "duration": 0.013932,
     "end_time": "2025-08-19T17:57:55.431315",
     "exception": false,
     "start_time": "2025-08-19T17:57:55.417383",
     "status": "completed"
    },
    "tags": []
   },
   "source": [
    "# Final Output"
   ]
  },
  {
   "cell_type": "code",
   "execution_count": 62,
   "id": "3871301e",
   "metadata": {
    "execution": {
     "iopub.execute_input": "2025-08-19T17:57:55.462099Z",
     "iopub.status.busy": "2025-08-19T17:57:55.460198Z",
     "iopub.status.idle": "2025-08-19T17:57:55.480094Z",
     "shell.execute_reply": "2025-08-19T17:57:55.478962Z"
    },
    "papermill": {
     "duration": 0.03687,
     "end_time": "2025-08-19T17:57:55.481516",
     "exception": false,
     "start_time": "2025-08-19T17:57:55.444646",
     "status": "completed"
    },
    "tags": []
   },
   "outputs": [
    {
     "data": {
      "text/plain": [
       "4"
      ]
     },
     "execution_count": 62,
     "metadata": {},
     "output_type": "execute_result"
    }
   ],
   "source": [
    "sub_universes = universe_analysis.generate_sub_universes()\n",
    "len(sub_universes)"
   ]
  },
  {
   "cell_type": "code",
   "execution_count": 63,
   "id": "d9cfdaca",
   "metadata": {
    "execution": {
     "iopub.execute_input": "2025-08-19T17:57:55.520154Z",
     "iopub.status.busy": "2025-08-19T17:57:55.518662Z",
     "iopub.status.idle": "2025-08-19T17:57:55.529000Z",
     "shell.execute_reply": "2025-08-19T17:57:55.527325Z"
    },
    "papermill": {
     "duration": 0.027574,
     "end_time": "2025-08-19T17:57:55.530327",
     "exception": false,
     "start_time": "2025-08-19T17:57:55.502753",
     "status": "completed"
    },
    "tags": []
   },
   "outputs": [],
   "source": [
    "def filter_sub_universe_data(sub_universe, org_test):\n",
    "    # Keep all rows — no filtering\n",
    "    keep_rows_mask = np.ones(org_test.shape[0], dtype=bool)\n",
    "\n",
    "    print(f\"[INFO] Keeping all rows: {keep_rows_mask.sum()} rows retained.\")\n",
    "    return keep_rows_mask"
   ]
  },
  {
   "cell_type": "code",
   "execution_count": 64,
   "id": "2bc31ac1",
   "metadata": {
    "execution": {
     "iopub.execute_input": "2025-08-19T17:57:55.563367Z",
     "iopub.status.busy": "2025-08-19T17:57:55.562355Z",
     "iopub.status.idle": "2025-08-19T17:58:02.229583Z",
     "shell.execute_reply": "2025-08-19T17:58:02.228548Z"
    },
    "papermill": {
     "duration": 6.683505,
     "end_time": "2025-08-19T17:58:02.230773",
     "exception": false,
     "start_time": "2025-08-19T17:57:55.547268",
     "status": "completed"
    },
    "tags": []
   },
   "outputs": [
    {
     "name": "stdout",
     "output_type": "stream",
     "text": [
      "Stopping execution_time clock.\n",
      "[INFO] Keeping all rows: 89710 rows retained.\n"
     ]
    },
    {
     "name": "stdout",
     "output_type": "stream",
     "text": [
      "[INFO] Keeping all rows: 89710 rows retained.\n"
     ]
    },
    {
     "name": "stdout",
     "output_type": "stream",
     "text": [
      "[INFO] Keeping all rows: 89710 rows retained.\n"
     ]
    },
    {
     "name": "stdout",
     "output_type": "stream",
     "text": [
      "[INFO] Keeping all rows: 89710 rows retained.\n"
     ]
    },
    {
     "data": {
      "text/html": [
       "<div>\n",
       "<style scoped>\n",
       "    .dataframe tbody tr th:only-of-type {\n",
       "        vertical-align: middle;\n",
       "    }\n",
       "\n",
       "    .dataframe tbody tr th {\n",
       "        vertical-align: top;\n",
       "    }\n",
       "\n",
       "    .dataframe thead th {\n",
       "        text-align: right;\n",
       "    }\n",
       "</style>\n",
       "<table border=\"1\" class=\"dataframe\">\n",
       "  <thead>\n",
       "    <tr style=\"text-align: right;\">\n",
       "      <th></th>\n",
       "      <th>run_no</th>\n",
       "      <th>universe_id</th>\n",
       "      <th>universe_settings</th>\n",
       "      <th>execution_time</th>\n",
       "      <th>test_size_n</th>\n",
       "      <th>test_size_frac</th>\n",
       "      <th>fair_main_equalized_odds_difference</th>\n",
       "      <th>fair_main_equalized_odds_ratio</th>\n",
       "      <th>fair_main_demographic_parity_difference</th>\n",
       "      <th>fair_main_demographic_parity_ratio</th>\n",
       "      <th>...</th>\n",
       "      <th>perf_grp_precision_0</th>\n",
       "      <th>perf_grp_precision_1</th>\n",
       "      <th>perf_grp_false positive rate_0</th>\n",
       "      <th>perf_grp_false positive rate_1</th>\n",
       "      <th>perf_grp_false negative rate_0</th>\n",
       "      <th>perf_grp_false negative rate_1</th>\n",
       "      <th>perf_grp_selection rate_0</th>\n",
       "      <th>perf_grp_selection rate_1</th>\n",
       "      <th>perf_grp_count_0</th>\n",
       "      <th>perf_grp_count_1</th>\n",
       "    </tr>\n",
       "  </thead>\n",
       "  <tbody>\n",
       "    <tr>\n",
       "      <th>0</th>\n",
       "      <td>3</td>\n",
       "      <td>e1a23ce94a22c6cb1a4162da178861e1</td>\n",
       "      <td>{\"cutoff\": \"quantile_0.1\", \"eval_fairness_grou...</td>\n",
       "      <td>26.943879</td>\n",
       "      <td>89710</td>\n",
       "      <td>1.0</td>\n",
       "      <td>0.091730</td>\n",
       "      <td>0.904178</td>\n",
       "      <td>0.079812</td>\n",
       "      <td>0.916995</td>\n",
       "      <td>...</td>\n",
       "      <td>NaN</td>\n",
       "      <td>NaN</td>\n",
       "      <td>NaN</td>\n",
       "      <td>NaN</td>\n",
       "      <td>NaN</td>\n",
       "      <td>NaN</td>\n",
       "      <td>NaN</td>\n",
       "      <td>NaN</td>\n",
       "      <td>NaN</td>\n",
       "      <td>NaN</td>\n",
       "    </tr>\n",
       "    <tr>\n",
       "      <th>0</th>\n",
       "      <td>3</td>\n",
       "      <td>e1a23ce94a22c6cb1a4162da178861e1</td>\n",
       "      <td>{\"cutoff\": \"quantile_0.1\", \"eval_fairness_grou...</td>\n",
       "      <td>26.943879</td>\n",
       "      <td>89710</td>\n",
       "      <td>1.0</td>\n",
       "      <td>0.091730</td>\n",
       "      <td>0.904178</td>\n",
       "      <td>0.079812</td>\n",
       "      <td>0.916995</td>\n",
       "      <td>...</td>\n",
       "      <td>0.119190</td>\n",
       "      <td>0.148043</td>\n",
       "      <td>0.957297</td>\n",
       "      <td>0.865567</td>\n",
       "      <td>0.005912</td>\n",
       "      <td>0.012144</td>\n",
       "      <td>0.961538</td>\n",
       "      <td>0.881726</td>\n",
       "      <td>20540.0</td>\n",
       "      <td>69170.0</td>\n",
       "    </tr>\n",
       "    <tr>\n",
       "      <th>0</th>\n",
       "      <td>3</td>\n",
       "      <td>e1a23ce94a22c6cb1a4162da178861e1</td>\n",
       "      <td>{\"cutoff\": \"quantile_0.25\", \"eval_fairness_gro...</td>\n",
       "      <td>26.943879</td>\n",
       "      <td>89710</td>\n",
       "      <td>1.0</td>\n",
       "      <td>0.168803</td>\n",
       "      <td>0.801380</td>\n",
       "      <td>0.146624</td>\n",
       "      <td>0.830109</td>\n",
       "      <td>...</td>\n",
       "      <td>NaN</td>\n",
       "      <td>NaN</td>\n",
       "      <td>NaN</td>\n",
       "      <td>NaN</td>\n",
       "      <td>NaN</td>\n",
       "      <td>NaN</td>\n",
       "      <td>NaN</td>\n",
       "      <td>NaN</td>\n",
       "      <td>NaN</td>\n",
       "      <td>NaN</td>\n",
       "    </tr>\n",
       "    <tr>\n",
       "      <th>0</th>\n",
       "      <td>3</td>\n",
       "      <td>e1a23ce94a22c6cb1a4162da178861e1</td>\n",
       "      <td>{\"cutoff\": \"quantile_0.25\", \"eval_fairness_gro...</td>\n",
       "      <td>26.943879</td>\n",
       "      <td>89710</td>\n",
       "      <td>1.0</td>\n",
       "      <td>0.168803</td>\n",
       "      <td>0.801380</td>\n",
       "      <td>0.146624</td>\n",
       "      <td>0.830109</td>\n",
       "      <td>...</td>\n",
       "      <td>0.128787</td>\n",
       "      <td>0.174957</td>\n",
       "      <td>0.849879</td>\n",
       "      <td>0.681076</td>\n",
       "      <td>0.035895</td>\n",
       "      <td>0.051422</td>\n",
       "      <td>0.863048</td>\n",
       "      <td>0.716423</td>\n",
       "      <td>20540.0</td>\n",
       "      <td>69170.0</td>\n",
       "    </tr>\n",
       "  </tbody>\n",
       "</table>\n",
       "<p>4 rows × 50 columns</p>\n",
       "</div>"
      ],
      "text/plain": [
       "  run_no                       universe_id  \\\n",
       "0      3  e1a23ce94a22c6cb1a4162da178861e1   \n",
       "0      3  e1a23ce94a22c6cb1a4162da178861e1   \n",
       "0      3  e1a23ce94a22c6cb1a4162da178861e1   \n",
       "0      3  e1a23ce94a22c6cb1a4162da178861e1   \n",
       "\n",
       "                                   universe_settings  execution_time  \\\n",
       "0  {\"cutoff\": \"quantile_0.1\", \"eval_fairness_grou...       26.943879   \n",
       "0  {\"cutoff\": \"quantile_0.1\", \"eval_fairness_grou...       26.943879   \n",
       "0  {\"cutoff\": \"quantile_0.25\", \"eval_fairness_gro...       26.943879   \n",
       "0  {\"cutoff\": \"quantile_0.25\", \"eval_fairness_gro...       26.943879   \n",
       "\n",
       "   test_size_n  test_size_frac  fair_main_equalized_odds_difference  \\\n",
       "0        89710             1.0                             0.091730   \n",
       "0        89710             1.0                             0.091730   \n",
       "0        89710             1.0                             0.168803   \n",
       "0        89710             1.0                             0.168803   \n",
       "\n",
       "   fair_main_equalized_odds_ratio  fair_main_demographic_parity_difference  \\\n",
       "0                        0.904178                                 0.079812   \n",
       "0                        0.904178                                 0.079812   \n",
       "0                        0.801380                                 0.146624   \n",
       "0                        0.801380                                 0.146624   \n",
       "\n",
       "   fair_main_demographic_parity_ratio  ...  perf_grp_precision_0  \\\n",
       "0                            0.916995  ...                   NaN   \n",
       "0                            0.916995  ...              0.119190   \n",
       "0                            0.830109  ...                   NaN   \n",
       "0                            0.830109  ...              0.128787   \n",
       "\n",
       "   perf_grp_precision_1  perf_grp_false positive rate_0  \\\n",
       "0                   NaN                             NaN   \n",
       "0              0.148043                        0.957297   \n",
       "0                   NaN                             NaN   \n",
       "0              0.174957                        0.849879   \n",
       "\n",
       "   perf_grp_false positive rate_1  perf_grp_false negative rate_0  \\\n",
       "0                             NaN                             NaN   \n",
       "0                        0.865567                        0.005912   \n",
       "0                             NaN                             NaN   \n",
       "0                        0.681076                        0.035895   \n",
       "\n",
       "   perf_grp_false negative rate_1  perf_grp_selection rate_0  \\\n",
       "0                             NaN                        NaN   \n",
       "0                        0.012144                   0.961538   \n",
       "0                             NaN                        NaN   \n",
       "0                        0.051422                   0.863048   \n",
       "\n",
       "   perf_grp_selection rate_1  perf_grp_count_0  perf_grp_count_1  \n",
       "0                        NaN               NaN               NaN  \n",
       "0                   0.881726           20540.0           69170.0  \n",
       "0                        NaN               NaN               NaN  \n",
       "0                   0.716423           20540.0           69170.0  \n",
       "\n",
       "[4 rows x 50 columns]"
      ]
     },
     "execution_count": 64,
     "metadata": {},
     "output_type": "execute_result"
    }
   ],
   "source": [
    "final_output = universe_analysis.generate_final_output(\n",
    "    y_pred_prob=probs_test,\n",
    "    y_test=y_true,\n",
    "    org_test=org_test,\n",
    "    filter_data=filter_sub_universe_data,\n",
    "    cp_metrics_df=cp_metrics_df,\n",
    "    save=True,\n",
    ")\n",
    "final_output"
   ]
  },
  {
   "cell_type": "code",
   "execution_count": null,
   "id": "8b80a1ff",
   "metadata": {
    "papermill": {
     "duration": 0.014229,
     "end_time": "2025-08-19T17:58:02.262952",
     "exception": false,
     "start_time": "2025-08-19T17:58:02.248723",
     "status": "completed"
    },
    "tags": []
   },
   "outputs": [],
   "source": []
  },
  {
   "cell_type": "code",
   "execution_count": null,
   "id": "275c9fad",
   "metadata": {
    "papermill": {
     "duration": 0.015184,
     "end_time": "2025-08-19T17:58:02.292510",
     "exception": false,
     "start_time": "2025-08-19T17:58:02.277326",
     "status": "completed"
    },
    "tags": []
   },
   "outputs": [],
   "source": []
  }
 ],
 "metadata": {
  "celltoolbar": "Tags",
  "kernelspec": {
   "display_name": "Python (CMA Fairness)",
   "language": "python",
   "name": "cma_fair_env"
  },
  "language_info": {
   "codemirror_mode": {
    "name": "ipython",
    "version": 3
   },
   "file_extension": ".py",
   "mimetype": "text/x-python",
   "name": "python",
   "nbconvert_exporter": "python",
   "pygments_lexer": "ipython3",
   "version": "3.10.12"
  },
  "papermill": {
   "default_parameters": {},
   "duration": 37.519809,
   "end_time": "2025-08-19T17:58:03.166402",
   "environment_variables": {},
   "exception": null,
   "input_path": "universe_analysis.ipynb",
   "output_path": "output/runs/3/notebooks/m_3-e1a23ce94a22c6cb1a4162da178861e1.ipynb",
   "parameters": {
    "output_dir": "output",
    "run_no": "3",
    "seed": "2023",
    "universe": "{\"cutoff\": [\"quantile_0.1\", \"quantile_0.25\"], \"eval_fairness_grouping\": [\"majority-minority\", \"nationality-all\"], \"exclude_features\": \"nationality-sex\", \"exclude_subgroups\": \"keep-all\", \"model\": \"elasticnet\", \"scale\": \"scale\", \"training_size\": \"25k\", \"training_year\": \"2014\"}",
    "universe_id": "e1a23ce94a22c6cb1a4162da178861e1"
   },
   "start_time": "2025-08-19T17:57:25.646593",
   "version": "2.6.0"
  }
 },
 "nbformat": 4,
 "nbformat_minor": 5
}