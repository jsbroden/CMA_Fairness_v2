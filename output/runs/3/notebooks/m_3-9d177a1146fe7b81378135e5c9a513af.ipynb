{
 "cells": [
  {
   "cell_type": "markdown",
   "id": "ef23dbb3",
   "metadata": {
    "papermill": {
     "duration": 0.009507,
     "end_time": "2025-08-19T18:30:52.605171",
     "exception": false,
     "start_time": "2025-08-19T18:30:52.595664",
     "status": "completed"
    },
    "tags": []
   },
   "source": [
    "# Setup"
   ]
  },
  {
   "cell_type": "code",
   "execution_count": 1,
   "id": "0bc8e7dc",
   "metadata": {
    "execution": {
     "iopub.execute_input": "2025-08-19T18:30:52.625234Z",
     "iopub.status.busy": "2025-08-19T18:30:52.624096Z",
     "iopub.status.idle": "2025-08-19T18:30:52.646297Z",
     "shell.execute_reply": "2025-08-19T18:30:52.645192Z"
    },
    "papermill": {
     "duration": 0.03791,
     "end_time": "2025-08-19T18:30:52.652010",
     "exception": false,
     "start_time": "2025-08-19T18:30:52.614100",
     "status": "completed"
    },
    "tags": []
   },
   "outputs": [
    {
     "name": "stdout",
     "output_type": "stream",
     "text": [
      "/dss/dsshome1/0C/ra93lal2/cma/CMA_Fairness_v2\n"
     ]
    },
    {
     "name": "stderr",
     "output_type": "stream",
     "text": [
      "/dss/dsshome1/0C/ra93lal2/.local/share/virtualenvs/CMA_Fairness_v2-3j10GkSs/lib/python3.10/site-packages/IPython/core/magics/osm.py:393: UserWarning: This is now an optional IPython functionality, using bookmarks requires you to install the `pickleshare` library.\n",
      "  bkms = self.shell.db.get('bookmarks', {})\n",
      "/dss/dsshome1/0C/ra93lal2/.local/share/virtualenvs/CMA_Fairness_v2-3j10GkSs/lib/python3.10/site-packages/IPython/core/magics/osm.py:417: UserWarning: This is now an optional IPython functionality, setting dhist requires you to install the `pickleshare` library.\n",
      "  self.shell.db['dhist'] = compress_dhist(dhist)[-100:]\n"
     ]
    }
   ],
   "source": [
    "%cd ~/cma/CMA_Fairness_v2"
   ]
  },
  {
   "cell_type": "markdown",
   "id": "9d235661",
   "metadata": {
    "papermill": {
     "duration": 0.009156,
     "end_time": "2025-08-19T18:30:52.673781",
     "exception": false,
     "start_time": "2025-08-19T18:30:52.664625",
     "status": "completed"
    },
    "tags": []
   },
   "source": [
    "The following cell holds the definition of our parameters, these values can be overriden by rendering the with e.g. the following command:\n",
    "\n",
    "papermill -p alpha 0.2 -p ratio 0.3 universe_analysis.ipynb output/test_run.ipynb"
   ]
  },
  {
   "cell_type": "code",
   "execution_count": 2,
   "id": "4a789d8e",
   "metadata": {
    "execution": {
     "iopub.execute_input": "2025-08-19T18:30:52.692362Z",
     "iopub.status.busy": "2025-08-19T18:30:52.691928Z",
     "iopub.status.idle": "2025-08-19T18:30:52.696241Z",
     "shell.execute_reply": "2025-08-19T18:30:52.695563Z"
    },
    "papermill": {
     "duration": 0.015587,
     "end_time": "2025-08-19T18:30:52.698038",
     "exception": false,
     "start_time": "2025-08-19T18:30:52.682451",
     "status": "completed"
    },
    "tags": []
   },
   "outputs": [
    {
     "name": "stdout",
     "output_type": "stream",
     "text": [
      "Current working directory: /dss/dsshome1/0C/ra93lal2/cma/CMA_Fairness_v2\n"
     ]
    }
   ],
   "source": [
    "import os\n",
    "print(\"Current working directory:\", os.getcwd())"
   ]
  },
  {
   "cell_type": "code",
   "execution_count": 3,
   "id": "4132aaed",
   "metadata": {
    "execution": {
     "iopub.execute_input": "2025-08-19T18:30:52.717348Z",
     "iopub.status.busy": "2025-08-19T18:30:52.716981Z",
     "iopub.status.idle": "2025-08-19T18:30:52.721576Z",
     "shell.execute_reply": "2025-08-19T18:30:52.720850Z"
    },
    "papermill": {
     "duration": 0.015589,
     "end_time": "2025-08-19T18:30:52.723087",
     "exception": false,
     "start_time": "2025-08-19T18:30:52.707498",
     "status": "completed"
    },
    "tags": [
     "parameters"
    ]
   },
   "outputs": [],
   "source": [
    "run_no = 0\n",
    "universe_id = \"test\"\n",
    "universe = {\n",
    "    \"training_size\": \"5k\", # \"25k\", \"5k\", \"1k\"\n",
    "    \"training_year\": \"2012_14\", # \"2014\", \"2012_14\", \"2010_14\"\n",
    "    \"scale\": \"scale\", # \"scale\", \"do-not-scale\",\n",
    "    \"model\": \"elasticnet\", # \"logreg\", \"penalized_logreg\", \"rf\", \"gbm\", \"elasticnet\"\n",
    "    \"cutoff\": [\"quantile_0.15\", \"quantile_0.30\"],\n",
    "    \"exclude_features\": \"age\", # \"none\", \"nationality\", \"sex\", \"nationality-sex\", \"age\"\n",
    "    \"exclude_subgroups\": \"drop-non-german\", # \"keep-all\", \"drop-non-german\"\n",
    "    \"eval_fairness_grouping\": [\"majority-minority\", \"nationality-all\"]\n",
    "}\n",
    "\n",
    "output_dir=\"./output\"\n",
    "seed=0"
   ]
  },
  {
   "cell_type": "code",
   "execution_count": 4,
   "id": "2972e9a7",
   "metadata": {
    "execution": {
     "iopub.execute_input": "2025-08-19T18:30:52.742453Z",
     "iopub.status.busy": "2025-08-19T18:30:52.742106Z",
     "iopub.status.idle": "2025-08-19T18:30:52.746237Z",
     "shell.execute_reply": "2025-08-19T18:30:52.745531Z"
    },
    "papermill": {
     "duration": 0.01489,
     "end_time": "2025-08-19T18:30:52.747551",
     "exception": false,
     "start_time": "2025-08-19T18:30:52.732661",
     "status": "completed"
    },
    "tags": [
     "injected-parameters"
    ]
   },
   "outputs": [],
   "source": [
    "# Parameters\n",
    "universe_id = \"9d177a1146fe7b81378135e5c9a513af\"\n",
    "run_no = \"3\"\n",
    "universe = \"{\\\"cutoff\\\": [\\\"quantile_0.1\\\", \\\"quantile_0.25\\\"], \\\"eval_fairness_grouping\\\": [\\\"majority-minority\\\", \\\"nationality-all\\\"], \\\"exclude_features\\\": \\\"none\\\", \\\"exclude_subgroups\\\": \\\"drop-non-german\\\", \\\"model\\\": \\\"logreg\\\", \\\"scale\\\": \\\"scale\\\", \\\"training_size\\\": \\\"5k\\\", \\\"training_year\\\": \\\"2012_14\\\"}\"\n",
    "output_dir = \"output\"\n",
    "seed = \"2023\"\n"
   ]
  },
  {
   "cell_type": "code",
   "execution_count": 5,
   "id": "a5d7941f",
   "metadata": {
    "execution": {
     "iopub.execute_input": "2025-08-19T18:30:52.767302Z",
     "iopub.status.busy": "2025-08-19T18:30:52.766468Z",
     "iopub.status.idle": "2025-08-19T18:30:52.770797Z",
     "shell.execute_reply": "2025-08-19T18:30:52.770009Z"
    },
    "papermill": {
     "duration": 0.015365,
     "end_time": "2025-08-19T18:30:52.772101",
     "exception": false,
     "start_time": "2025-08-19T18:30:52.756736",
     "status": "completed"
    },
    "tags": []
   },
   "outputs": [],
   "source": [
    "import json\n",
    "if isinstance(universe, str):\n",
    "    universe = json.loads(universe)"
   ]
  },
  {
   "cell_type": "code",
   "execution_count": 6,
   "id": "7076ccb1",
   "metadata": {
    "execution": {
     "iopub.execute_input": "2025-08-19T18:30:52.792533Z",
     "iopub.status.busy": "2025-08-19T18:30:52.791356Z",
     "iopub.status.idle": "2025-08-19T18:30:52.850099Z",
     "shell.execute_reply": "2025-08-19T18:30:52.849422Z"
    },
    "papermill": {
     "duration": 0.072057,
     "end_time": "2025-08-19T18:30:52.853435",
     "exception": false,
     "start_time": "2025-08-19T18:30:52.781378",
     "status": "completed"
    },
    "tags": []
   },
   "outputs": [],
   "source": [
    "# Auto-reload the custom package\n",
    "%load_ext autoreload\n",
    "%autoreload 1\n",
    "%aimport fairness_multiverse"
   ]
  },
  {
   "cell_type": "code",
   "execution_count": 7,
   "id": "94c8eb93",
   "metadata": {
    "execution": {
     "iopub.execute_input": "2025-08-19T18:30:52.893398Z",
     "iopub.status.busy": "2025-08-19T18:30:52.891329Z",
     "iopub.status.idle": "2025-08-19T18:30:54.383157Z",
     "shell.execute_reply": "2025-08-19T18:30:54.382177Z"
    },
    "papermill": {
     "duration": 1.510271,
     "end_time": "2025-08-19T18:30:54.384929",
     "exception": false,
     "start_time": "2025-08-19T18:30:52.874658",
     "status": "completed"
    },
    "tags": []
   },
   "outputs": [],
   "source": [
    "from fairness_multiverse.universe import UniverseAnalysis\n",
    "\n",
    "universe_analysis = UniverseAnalysis(\n",
    "    run_no = run_no,\n",
    "    universe_id = universe_id,\n",
    "    universe = universe,\n",
    "    output_dir=output_dir,\n",
    ")"
   ]
  },
  {
   "cell_type": "code",
   "execution_count": 8,
   "id": "2a6381cf",
   "metadata": {
    "execution": {
     "iopub.execute_input": "2025-08-19T18:30:54.405710Z",
     "iopub.status.busy": "2025-08-19T18:30:54.405393Z",
     "iopub.status.idle": "2025-08-19T18:30:54.411778Z",
     "shell.execute_reply": "2025-08-19T18:30:54.411049Z"
    },
    "papermill": {
     "duration": 0.01841,
     "end_time": "2025-08-19T18:30:54.413225",
     "exception": false,
     "start_time": "2025-08-19T18:30:54.394815",
     "status": "completed"
    },
    "tags": []
   },
   "outputs": [
    {
     "name": "stdout",
     "output_type": "stream",
     "text": [
      "Using Seed: 2023\n"
     ]
    }
   ],
   "source": [
    "import numpy as np\n",
    "parsed_seed = int(seed)\n",
    "np.random.seed(parsed_seed)\n",
    "print(f\"Using Seed: {parsed_seed}\")"
   ]
  },
  {
   "cell_type": "markdown",
   "id": "b6e958b4",
   "metadata": {
    "papermill": {
     "duration": 0.009078,
     "end_time": "2025-08-19T18:30:54.432333",
     "exception": false,
     "start_time": "2025-08-19T18:30:54.423255",
     "status": "completed"
    },
    "tags": []
   },
   "source": [
    "# Loading Data"
   ]
  },
  {
   "cell_type": "code",
   "execution_count": 9,
   "id": "98701482",
   "metadata": {
    "execution": {
     "iopub.execute_input": "2025-08-19T18:30:54.451547Z",
     "iopub.status.busy": "2025-08-19T18:30:54.451087Z",
     "iopub.status.idle": "2025-08-19T18:31:04.413551Z",
     "shell.execute_reply": "2025-08-19T18:31:04.412709Z"
    },
    "papermill": {
     "duration": 9.973669,
     "end_time": "2025-08-19T18:31:04.414948",
     "exception": false,
     "start_time": "2025-08-19T18:30:54.441279",
     "status": "completed"
    },
    "tags": []
   },
   "outputs": [
    {
     "name": "stdout",
     "output_type": "stream",
     "text": [
      "Loading SIAB data from cache: data/siab_cached.csv.gz\n"
     ]
    },
    {
     "name": "stdout",
     "output_type": "stream",
     "text": [
      "(643690, 164)\n"
     ]
    }
   ],
   "source": [
    "from pathlib import Path\n",
    "import pandas as pd\n",
    "\n",
    "# File paths\n",
    "raw_file = Path(\"data/raw/siab.csv\")\n",
    "cache_file = Path(\"data/siab_cached.csv.gz\")\n",
    "\n",
    "# Ensure cache directory exists\n",
    "cache_file.parent.mkdir(parents=True, exist_ok=True)\n",
    "\n",
    "# Load with simple caching\n",
    "if cache_file.exists():\n",
    "    print(f\"Loading SIAB data from cache: {cache_file}\")\n",
    "    siab = pd.read_csv(cache_file, compression='gzip')\n",
    "else:\n",
    "    print(f\"Cache not found. Reading raw SIAB data: {raw_file}\")\n",
    "    siab = pd.read_csv(raw_file)\n",
    "    siab.to_csv(cache_file, index=False, compression='gzip')\n",
    "    print(f\"Cached SIAB data to: {cache_file}\")\n",
    "\n",
    "print(siab.shape)"
   ]
  },
  {
   "cell_type": "code",
   "execution_count": 10,
   "id": "058d2abb",
   "metadata": {
    "execution": {
     "iopub.execute_input": "2025-08-19T18:31:04.458276Z",
     "iopub.status.busy": "2025-08-19T18:31:04.456971Z",
     "iopub.status.idle": "2025-08-19T18:31:04.615636Z",
     "shell.execute_reply": "2025-08-19T18:31:04.614597Z"
    },
    "papermill": {
     "duration": 0.180014,
     "end_time": "2025-08-19T18:31:04.617442",
     "exception": false,
     "start_time": "2025-08-19T18:31:04.437428",
     "status": "completed"
    },
    "tags": []
   },
   "outputs": [
    {
     "data": {
      "text/html": [
       "<div>\n",
       "<style scoped>\n",
       "    .dataframe tbody tr th:only-of-type {\n",
       "        vertical-align: middle;\n",
       "    }\n",
       "\n",
       "    .dataframe tbody tr th {\n",
       "        vertical-align: top;\n",
       "    }\n",
       "\n",
       "    .dataframe thead th {\n",
       "        text-align: right;\n",
       "    }\n",
       "</style>\n",
       "<table border=\"1\" class=\"dataframe\">\n",
       "  <thead>\n",
       "    <tr style=\"text-align: right;\">\n",
       "      <th></th>\n",
       "      <th>persnr</th>\n",
       "      <th>year</th>\n",
       "      <th>nrEntry</th>\n",
       "      <th>ltue</th>\n",
       "      <th>employed_before</th>\n",
       "      <th>receipt_leh_before</th>\n",
       "      <th>receipt_lhg_before</th>\n",
       "      <th>se_before</th>\n",
       "      <th>ASU_notue_seeking_before</th>\n",
       "      <th>ASU_other_before</th>\n",
       "      <th>...</th>\n",
       "      <th>minijob_tot_dur_byage</th>\n",
       "      <th>ft_tot_dur_byage</th>\n",
       "      <th>befrist_tot_dur_byage</th>\n",
       "      <th>leih_tot_dur_byage</th>\n",
       "      <th>LHG_tot_dur_byage</th>\n",
       "      <th>LEH_tot_dur_byage</th>\n",
       "      <th>almp_tot_dur_byage</th>\n",
       "      <th>almp_aw_tot_dur_byage</th>\n",
       "      <th>se_tot_dur_byage</th>\n",
       "      <th>seeking1_tot_dur_byage</th>\n",
       "    </tr>\n",
       "  </thead>\n",
       "  <tbody>\n",
       "    <tr>\n",
       "      <th>0</th>\n",
       "      <td>7</td>\n",
       "      <td>2015</td>\n",
       "      <td>1</td>\n",
       "      <td>0</td>\n",
       "      <td>1</td>\n",
       "      <td>0</td>\n",
       "      <td>0</td>\n",
       "      <td>0</td>\n",
       "      <td>1</td>\n",
       "      <td>0</td>\n",
       "      <td>...</td>\n",
       "      <td>0.000000</td>\n",
       "      <td>0.000000</td>\n",
       "      <td>15.043478</td>\n",
       "      <td>0.000000</td>\n",
       "      <td>0.000000</td>\n",
       "      <td>0.000000</td>\n",
       "      <td>0.000000</td>\n",
       "      <td>0.000000</td>\n",
       "      <td>0.000000</td>\n",
       "      <td>0.000000</td>\n",
       "    </tr>\n",
       "    <tr>\n",
       "      <th>1</th>\n",
       "      <td>18</td>\n",
       "      <td>2010</td>\n",
       "      <td>1</td>\n",
       "      <td>1</td>\n",
       "      <td>0</td>\n",
       "      <td>0</td>\n",
       "      <td>0</td>\n",
       "      <td>0</td>\n",
       "      <td>0</td>\n",
       "      <td>0</td>\n",
       "      <td>...</td>\n",
       "      <td>0.000000</td>\n",
       "      <td>0.000000</td>\n",
       "      <td>0.000000</td>\n",
       "      <td>0.000000</td>\n",
       "      <td>0.000000</td>\n",
       "      <td>0.000000</td>\n",
       "      <td>0.000000</td>\n",
       "      <td>0.000000</td>\n",
       "      <td>0.000000</td>\n",
       "      <td>0.000000</td>\n",
       "    </tr>\n",
       "    <tr>\n",
       "      <th>2</th>\n",
       "      <td>18</td>\n",
       "      <td>2011</td>\n",
       "      <td>2</td>\n",
       "      <td>0</td>\n",
       "      <td>1</td>\n",
       "      <td>0</td>\n",
       "      <td>1</td>\n",
       "      <td>0</td>\n",
       "      <td>1</td>\n",
       "      <td>0</td>\n",
       "      <td>...</td>\n",
       "      <td>2.714286</td>\n",
       "      <td>2.714286</td>\n",
       "      <td>0.000000</td>\n",
       "      <td>0.000000</td>\n",
       "      <td>10.775510</td>\n",
       "      <td>0.000000</td>\n",
       "      <td>8.367347</td>\n",
       "      <td>0.000000</td>\n",
       "      <td>0.000000</td>\n",
       "      <td>9.836735</td>\n",
       "    </tr>\n",
       "    <tr>\n",
       "      <th>3</th>\n",
       "      <td>18</td>\n",
       "      <td>2012</td>\n",
       "      <td>3</td>\n",
       "      <td>0</td>\n",
       "      <td>1</td>\n",
       "      <td>0</td>\n",
       "      <td>1</td>\n",
       "      <td>0</td>\n",
       "      <td>1</td>\n",
       "      <td>0</td>\n",
       "      <td>...</td>\n",
       "      <td>4.200000</td>\n",
       "      <td>4.200000</td>\n",
       "      <td>0.000000</td>\n",
       "      <td>0.000000</td>\n",
       "      <td>12.100000</td>\n",
       "      <td>0.000000</td>\n",
       "      <td>9.400000</td>\n",
       "      <td>0.000000</td>\n",
       "      <td>0.000000</td>\n",
       "      <td>9.960000</td>\n",
       "    </tr>\n",
       "    <tr>\n",
       "      <th>4</th>\n",
       "      <td>18</td>\n",
       "      <td>2012</td>\n",
       "      <td>4</td>\n",
       "      <td>0</td>\n",
       "      <td>1</td>\n",
       "      <td>0</td>\n",
       "      <td>1</td>\n",
       "      <td>0</td>\n",
       "      <td>1</td>\n",
       "      <td>0</td>\n",
       "      <td>...</td>\n",
       "      <td>5.460000</td>\n",
       "      <td>5.460000</td>\n",
       "      <td>0.000000</td>\n",
       "      <td>0.000000</td>\n",
       "      <td>13.360000</td>\n",
       "      <td>0.000000</td>\n",
       "      <td>10.320000</td>\n",
       "      <td>0.000000</td>\n",
       "      <td>0.000000</td>\n",
       "      <td>10.280000</td>\n",
       "    </tr>\n",
       "    <tr>\n",
       "      <th>...</th>\n",
       "      <td>...</td>\n",
       "      <td>...</td>\n",
       "      <td>...</td>\n",
       "      <td>...</td>\n",
       "      <td>...</td>\n",
       "      <td>...</td>\n",
       "      <td>...</td>\n",
       "      <td>...</td>\n",
       "      <td>...</td>\n",
       "      <td>...</td>\n",
       "      <td>...</td>\n",
       "      <td>...</td>\n",
       "      <td>...</td>\n",
       "      <td>...</td>\n",
       "      <td>...</td>\n",
       "      <td>...</td>\n",
       "      <td>...</td>\n",
       "      <td>...</td>\n",
       "      <td>...</td>\n",
       "      <td>...</td>\n",
       "      <td>...</td>\n",
       "    </tr>\n",
       "    <tr>\n",
       "      <th>643685</th>\n",
       "      <td>1827860</td>\n",
       "      <td>2013</td>\n",
       "      <td>1</td>\n",
       "      <td>0</td>\n",
       "      <td>0</td>\n",
       "      <td>0</td>\n",
       "      <td>1</td>\n",
       "      <td>0</td>\n",
       "      <td>0</td>\n",
       "      <td>1</td>\n",
       "      <td>...</td>\n",
       "      <td>0.000000</td>\n",
       "      <td>0.000000</td>\n",
       "      <td>0.000000</td>\n",
       "      <td>0.000000</td>\n",
       "      <td>0.612903</td>\n",
       "      <td>0.000000</td>\n",
       "      <td>0.000000</td>\n",
       "      <td>0.000000</td>\n",
       "      <td>0.000000</td>\n",
       "      <td>0.000000</td>\n",
       "    </tr>\n",
       "    <tr>\n",
       "      <th>643686</th>\n",
       "      <td>1827860</td>\n",
       "      <td>2015</td>\n",
       "      <td>2</td>\n",
       "      <td>1</td>\n",
       "      <td>0</td>\n",
       "      <td>0</td>\n",
       "      <td>1</td>\n",
       "      <td>0</td>\n",
       "      <td>1</td>\n",
       "      <td>0</td>\n",
       "      <td>...</td>\n",
       "      <td>0.000000</td>\n",
       "      <td>0.000000</td>\n",
       "      <td>0.212121</td>\n",
       "      <td>0.212121</td>\n",
       "      <td>17.363636</td>\n",
       "      <td>0.000000</td>\n",
       "      <td>8.909091</td>\n",
       "      <td>0.000000</td>\n",
       "      <td>0.000000</td>\n",
       "      <td>7.121212</td>\n",
       "    </tr>\n",
       "    <tr>\n",
       "      <th>643687</th>\n",
       "      <td>1827860</td>\n",
       "      <td>2016</td>\n",
       "      <td>3</td>\n",
       "      <td>1</td>\n",
       "      <td>0</td>\n",
       "      <td>0</td>\n",
       "      <td>1</td>\n",
       "      <td>1</td>\n",
       "      <td>0</td>\n",
       "      <td>1</td>\n",
       "      <td>...</td>\n",
       "      <td>0.000000</td>\n",
       "      <td>0.000000</td>\n",
       "      <td>0.294118</td>\n",
       "      <td>0.205882</td>\n",
       "      <td>34.705882</td>\n",
       "      <td>0.000000</td>\n",
       "      <td>10.352941</td>\n",
       "      <td>1.705882</td>\n",
       "      <td>1.705882</td>\n",
       "      <td>23.911765</td>\n",
       "    </tr>\n",
       "    <tr>\n",
       "      <th>643688</th>\n",
       "      <td>1827869</td>\n",
       "      <td>2013</td>\n",
       "      <td>1</td>\n",
       "      <td>1</td>\n",
       "      <td>1</td>\n",
       "      <td>0</td>\n",
       "      <td>0</td>\n",
       "      <td>0</td>\n",
       "      <td>1</td>\n",
       "      <td>0</td>\n",
       "      <td>...</td>\n",
       "      <td>0.000000</td>\n",
       "      <td>0.000000</td>\n",
       "      <td>0.000000</td>\n",
       "      <td>0.000000</td>\n",
       "      <td>0.000000</td>\n",
       "      <td>0.525424</td>\n",
       "      <td>0.000000</td>\n",
       "      <td>0.000000</td>\n",
       "      <td>0.000000</td>\n",
       "      <td>0.000000</td>\n",
       "    </tr>\n",
       "    <tr>\n",
       "      <th>643689</th>\n",
       "      <td>1827869</td>\n",
       "      <td>2014</td>\n",
       "      <td>2</td>\n",
       "      <td>0</td>\n",
       "      <td>0</td>\n",
       "      <td>1</td>\n",
       "      <td>0</td>\n",
       "      <td>0</td>\n",
       "      <td>1</td>\n",
       "      <td>0</td>\n",
       "      <td>...</td>\n",
       "      <td>0.000000</td>\n",
       "      <td>0.666667</td>\n",
       "      <td>0.666667</td>\n",
       "      <td>0.000000</td>\n",
       "      <td>0.000000</td>\n",
       "      <td>8.950000</td>\n",
       "      <td>1.033333</td>\n",
       "      <td>0.083333</td>\n",
       "      <td>0.083333</td>\n",
       "      <td>8.133333</td>\n",
       "    </tr>\n",
       "  </tbody>\n",
       "</table>\n",
       "<p>643690 rows × 164 columns</p>\n",
       "</div>"
      ],
      "text/plain": [
       "         persnr  year  nrEntry  ltue  employed_before  receipt_leh_before  \\\n",
       "0             7  2015        1     0                1                   0   \n",
       "1            18  2010        1     1                0                   0   \n",
       "2            18  2011        2     0                1                   0   \n",
       "3            18  2012        3     0                1                   0   \n",
       "4            18  2012        4     0                1                   0   \n",
       "...         ...   ...      ...   ...              ...                 ...   \n",
       "643685  1827860  2013        1     0                0                   0   \n",
       "643686  1827860  2015        2     1                0                   0   \n",
       "643687  1827860  2016        3     1                0                   0   \n",
       "643688  1827869  2013        1     1                1                   0   \n",
       "643689  1827869  2014        2     0                0                   1   \n",
       "\n",
       "        receipt_lhg_before  se_before  ASU_notue_seeking_before  \\\n",
       "0                        0          0                         1   \n",
       "1                        0          0                         0   \n",
       "2                        1          0                         1   \n",
       "3                        1          0                         1   \n",
       "4                        1          0                         1   \n",
       "...                    ...        ...                       ...   \n",
       "643685                   1          0                         0   \n",
       "643686                   1          0                         1   \n",
       "643687                   1          1                         0   \n",
       "643688                   0          0                         1   \n",
       "643689                   0          0                         1   \n",
       "\n",
       "        ASU_other_before  ...  minijob_tot_dur_byage  ft_tot_dur_byage  \\\n",
       "0                      0  ...               0.000000          0.000000   \n",
       "1                      0  ...               0.000000          0.000000   \n",
       "2                      0  ...               2.714286          2.714286   \n",
       "3                      0  ...               4.200000          4.200000   \n",
       "4                      0  ...               5.460000          5.460000   \n",
       "...                  ...  ...                    ...               ...   \n",
       "643685                 1  ...               0.000000          0.000000   \n",
       "643686                 0  ...               0.000000          0.000000   \n",
       "643687                 1  ...               0.000000          0.000000   \n",
       "643688                 0  ...               0.000000          0.000000   \n",
       "643689                 0  ...               0.000000          0.666667   \n",
       "\n",
       "        befrist_tot_dur_byage  leih_tot_dur_byage  LHG_tot_dur_byage  \\\n",
       "0                   15.043478            0.000000           0.000000   \n",
       "1                    0.000000            0.000000           0.000000   \n",
       "2                    0.000000            0.000000          10.775510   \n",
       "3                    0.000000            0.000000          12.100000   \n",
       "4                    0.000000            0.000000          13.360000   \n",
       "...                       ...                 ...                ...   \n",
       "643685               0.000000            0.000000           0.612903   \n",
       "643686               0.212121            0.212121          17.363636   \n",
       "643687               0.294118            0.205882          34.705882   \n",
       "643688               0.000000            0.000000           0.000000   \n",
       "643689               0.666667            0.000000           0.000000   \n",
       "\n",
       "        LEH_tot_dur_byage  almp_tot_dur_byage  almp_aw_tot_dur_byage  \\\n",
       "0                0.000000            0.000000               0.000000   \n",
       "1                0.000000            0.000000               0.000000   \n",
       "2                0.000000            8.367347               0.000000   \n",
       "3                0.000000            9.400000               0.000000   \n",
       "4                0.000000           10.320000               0.000000   \n",
       "...                   ...                 ...                    ...   \n",
       "643685           0.000000            0.000000               0.000000   \n",
       "643686           0.000000            8.909091               0.000000   \n",
       "643687           0.000000           10.352941               1.705882   \n",
       "643688           0.525424            0.000000               0.000000   \n",
       "643689           8.950000            1.033333               0.083333   \n",
       "\n",
       "        se_tot_dur_byage  seeking1_tot_dur_byage  \n",
       "0               0.000000                0.000000  \n",
       "1               0.000000                0.000000  \n",
       "2               0.000000                9.836735  \n",
       "3               0.000000                9.960000  \n",
       "4               0.000000               10.280000  \n",
       "...                  ...                     ...  \n",
       "643685          0.000000                0.000000  \n",
       "643686          0.000000                7.121212  \n",
       "643687          1.705882               23.911765  \n",
       "643688          0.000000                0.000000  \n",
       "643689          0.083333                8.133333  \n",
       "\n",
       "[643690 rows x 164 columns]"
      ]
     },
     "execution_count": 10,
     "metadata": {},
     "output_type": "execute_result"
    }
   ],
   "source": [
    "siab"
   ]
  },
  {
   "cell_type": "markdown",
   "id": "1f87e805",
   "metadata": {
    "papermill": {
     "duration": 0.010514,
     "end_time": "2025-08-19T18:31:04.638686",
     "exception": false,
     "start_time": "2025-08-19T18:31:04.628172",
     "status": "completed"
    },
    "tags": []
   },
   "source": [
    "# Splitting Data and Setting Training Data Size"
   ]
  },
  {
   "cell_type": "code",
   "execution_count": 11,
   "id": "910ae358",
   "metadata": {
    "execution": {
     "iopub.execute_input": "2025-08-19T18:31:04.660702Z",
     "iopub.status.busy": "2025-08-19T18:31:04.660152Z",
     "iopub.status.idle": "2025-08-19T18:31:05.302479Z",
     "shell.execute_reply": "2025-08-19T18:31:05.301708Z"
    },
    "papermill": {
     "duration": 0.655769,
     "end_time": "2025-08-19T18:31:05.304704",
     "exception": false,
     "start_time": "2025-08-19T18:31:04.648935",
     "status": "completed"
    },
    "tags": []
   },
   "outputs": [],
   "source": [
    "from fairness_multiverse.universe import sample_by_year_size\n",
    "\n",
    "siab_train = sample_by_year_size(siab,\n",
    "                               training_year=universe[\"training_year\"],\n",
    "                               training_size=universe[\"training_size\"])"
   ]
  },
  {
   "cell_type": "code",
   "execution_count": 12,
   "id": "919c8ff5",
   "metadata": {
    "execution": {
     "iopub.execute_input": "2025-08-19T18:31:05.326852Z",
     "iopub.status.busy": "2025-08-19T18:31:05.326282Z",
     "iopub.status.idle": "2025-08-19T18:31:05.336600Z",
     "shell.execute_reply": "2025-08-19T18:31:05.334807Z"
    },
    "papermill": {
     "duration": 0.023284,
     "end_time": "2025-08-19T18:31:05.338193",
     "exception": false,
     "start_time": "2025-08-19T18:31:05.314909",
     "status": "completed"
    },
    "tags": []
   },
   "outputs": [
    {
     "data": {
      "text/plain": [
       "(5000, 164)"
      ]
     },
     "execution_count": 12,
     "metadata": {},
     "output_type": "execute_result"
    }
   ],
   "source": [
    "siab_train.shape"
   ]
  },
  {
   "cell_type": "code",
   "execution_count": 13,
   "id": "feb13bf4",
   "metadata": {
    "execution": {
     "iopub.execute_input": "2025-08-19T18:31:05.362472Z",
     "iopub.status.busy": "2025-08-19T18:31:05.361997Z",
     "iopub.status.idle": "2025-08-19T18:31:05.370812Z",
     "shell.execute_reply": "2025-08-19T18:31:05.369916Z"
    },
    "papermill": {
     "duration": 0.021227,
     "end_time": "2025-08-19T18:31:05.372120",
     "exception": false,
     "start_time": "2025-08-19T18:31:05.350893",
     "status": "completed"
    },
    "tags": []
   },
   "outputs": [
    {
     "data": {
      "text/plain": [
       "year\n",
       "2012    1667\n",
       "2013    1667\n",
       "2014    1666\n",
       "dtype: int64"
      ]
     },
     "metadata": {},
     "output_type": "display_data"
    }
   ],
   "source": [
    "display(siab_train.groupby(\"year\").size())"
   ]
  },
  {
   "cell_type": "code",
   "execution_count": 14,
   "id": "0997782f",
   "metadata": {
    "execution": {
     "iopub.execute_input": "2025-08-19T18:31:05.397114Z",
     "iopub.status.busy": "2025-08-19T18:31:05.396036Z",
     "iopub.status.idle": "2025-08-19T18:31:05.660861Z",
     "shell.execute_reply": "2025-08-19T18:31:05.660110Z"
    },
    "papermill": {
     "duration": 0.278111,
     "end_time": "2025-08-19T18:31:05.662804",
     "exception": false,
     "start_time": "2025-08-19T18:31:05.384693",
     "status": "completed"
    },
    "tags": []
   },
   "outputs": [],
   "source": [
    "#siab_train = siab_s[siab_s.year < 2015]\n",
    "siab_calib = siab[siab.year == 2015]\n",
    "siab_test = siab[siab.year == 2016]"
   ]
  },
  {
   "cell_type": "code",
   "execution_count": 15,
   "id": "2c1e4012",
   "metadata": {
    "execution": {
     "iopub.execute_input": "2025-08-19T18:31:05.686261Z",
     "iopub.status.busy": "2025-08-19T18:31:05.684845Z",
     "iopub.status.idle": "2025-08-19T18:31:05.690800Z",
     "shell.execute_reply": "2025-08-19T18:31:05.689819Z"
    },
    "papermill": {
     "duration": 0.018756,
     "end_time": "2025-08-19T18:31:05.692192",
     "exception": false,
     "start_time": "2025-08-19T18:31:05.673436",
     "status": "completed"
    },
    "tags": []
   },
   "outputs": [],
   "source": [
    "#siab_calib.shape"
   ]
  },
  {
   "cell_type": "code",
   "execution_count": 16,
   "id": "f66b54ca",
   "metadata": {
    "execution": {
     "iopub.execute_input": "2025-08-19T18:31:05.717552Z",
     "iopub.status.busy": "2025-08-19T18:31:05.716922Z",
     "iopub.status.idle": "2025-08-19T18:31:05.722413Z",
     "shell.execute_reply": "2025-08-19T18:31:05.721478Z"
    },
    "papermill": {
     "duration": 0.018467,
     "end_time": "2025-08-19T18:31:05.723737",
     "exception": false,
     "start_time": "2025-08-19T18:31:05.705270",
     "status": "completed"
    },
    "tags": []
   },
   "outputs": [],
   "source": [
    "#siab_test.shape"
   ]
  },
  {
   "cell_type": "code",
   "execution_count": 17,
   "id": "27e4384d",
   "metadata": {
    "execution": {
     "iopub.execute_input": "2025-08-19T18:31:05.749216Z",
     "iopub.status.busy": "2025-08-19T18:31:05.748534Z",
     "iopub.status.idle": "2025-08-19T18:31:05.756437Z",
     "shell.execute_reply": "2025-08-19T18:31:05.755574Z"
    },
    "papermill": {
     "duration": 0.021097,
     "end_time": "2025-08-19T18:31:05.757805",
     "exception": false,
     "start_time": "2025-08-19T18:31:05.736708",
     "status": "completed"
    },
    "tags": []
   },
   "outputs": [],
   "source": [
    "X_train = siab_train.iloc[:,4:164]\n",
    "y_train = siab_train.iloc[:, [3]]"
   ]
  },
  {
   "cell_type": "code",
   "execution_count": 18,
   "id": "08ee8389",
   "metadata": {
    "execution": {
     "iopub.execute_input": "2025-08-19T18:31:05.781962Z",
     "iopub.status.busy": "2025-08-19T18:31:05.780391Z",
     "iopub.status.idle": "2025-08-19T18:31:05.853931Z",
     "shell.execute_reply": "2025-08-19T18:31:05.852703Z"
    },
    "papermill": {
     "duration": 0.087684,
     "end_time": "2025-08-19T18:31:05.856270",
     "exception": false,
     "start_time": "2025-08-19T18:31:05.768586",
     "status": "completed"
    },
    "tags": []
   },
   "outputs": [],
   "source": [
    "X_calib = siab_calib.iloc[:,4:164]\n",
    "y_calib = siab_calib.iloc[:, [3]]"
   ]
  },
  {
   "cell_type": "code",
   "execution_count": 19,
   "id": "b7ff42e0",
   "metadata": {
    "execution": {
     "iopub.execute_input": "2025-08-19T18:31:05.892361Z",
     "iopub.status.busy": "2025-08-19T18:31:05.891912Z",
     "iopub.status.idle": "2025-08-19T18:31:05.948063Z",
     "shell.execute_reply": "2025-08-19T18:31:05.947332Z"
    },
    "papermill": {
     "duration": 0.070563,
     "end_time": "2025-08-19T18:31:05.949568",
     "exception": false,
     "start_time": "2025-08-19T18:31:05.879005",
     "status": "completed"
    },
    "tags": []
   },
   "outputs": [],
   "source": [
    "X_test = siab_test.iloc[:,4:164]\n",
    "y_true = siab_test.iloc[:, [3]]"
   ]
  },
  {
   "cell_type": "code",
   "execution_count": 20,
   "id": "0275101e",
   "metadata": {
    "execution": {
     "iopub.execute_input": "2025-08-19T18:31:05.979484Z",
     "iopub.status.busy": "2025-08-19T18:31:05.975510Z",
     "iopub.status.idle": "2025-08-19T18:31:06.097980Z",
     "shell.execute_reply": "2025-08-19T18:31:06.097239Z"
    },
    "papermill": {
     "duration": 0.136138,
     "end_time": "2025-08-19T18:31:06.099539",
     "exception": false,
     "start_time": "2025-08-19T18:31:05.963401",
     "status": "completed"
    },
    "tags": []
   },
   "outputs": [],
   "source": [
    "# Auxiliary data needed downstream in the pipeline\n",
    "\n",
    "org_train = X_train.copy()\n",
    "org_test = X_test.copy()\n",
    "org_calib = X_calib.copy()"
   ]
  },
  {
   "cell_type": "markdown",
   "id": "b461e618",
   "metadata": {
    "papermill": {
     "duration": 0.009924,
     "end_time": "2025-08-19T18:31:06.120141",
     "exception": false,
     "start_time": "2025-08-19T18:31:06.110217",
     "status": "completed"
    },
    "tags": []
   },
   "source": [
    "# Preprocessing Data"
   ]
  },
  {
   "cell_type": "code",
   "execution_count": 21,
   "id": "78e74c4b",
   "metadata": {
    "execution": {
     "iopub.execute_input": "2025-08-19T18:31:06.142636Z",
     "iopub.status.busy": "2025-08-19T18:31:06.141536Z",
     "iopub.status.idle": "2025-08-19T18:31:06.150255Z",
     "shell.execute_reply": "2025-08-19T18:31:06.149042Z"
    },
    "papermill": {
     "duration": 0.040332,
     "end_time": "2025-08-19T18:31:06.170376",
     "exception": false,
     "start_time": "2025-08-19T18:31:06.130044",
     "status": "completed"
    },
    "tags": []
   },
   "outputs": [],
   "source": [
    "# EXCLUDE PROTECTED FEATURES\n",
    "# --------------------------\n",
    "\n",
    "excluded_features = universe[\"exclude_features\"].split(\"-\")\n",
    "excluded_features_dictionary = {\n",
    "    \"nationality\": [\"maxdeutsch1\", \"maxdeutsch.Missing.\"],\n",
    "    \"sex\": [\"frau1\"],\n",
    "    \"age\": [\"age\"],\n",
    "}"
   ]
  },
  {
   "cell_type": "code",
   "execution_count": 22,
   "id": "f8e63555",
   "metadata": {
    "execution": {
     "iopub.execute_input": "2025-08-19T18:31:06.204261Z",
     "iopub.status.busy": "2025-08-19T18:31:06.203963Z",
     "iopub.status.idle": "2025-08-19T18:31:06.208892Z",
     "shell.execute_reply": "2025-08-19T18:31:06.208082Z"
    },
    "papermill": {
     "duration": 0.017948,
     "end_time": "2025-08-19T18:31:06.210224",
     "exception": false,
     "start_time": "2025-08-19T18:31:06.192276",
     "status": "completed"
    },
    "tags": []
   },
   "outputs": [],
   "source": [
    "excluded_features_columns = [\n",
    "    excluded_features_dictionary[f] for f in excluded_features if len(f) > 0 and f != \"none\"\n",
    "]"
   ]
  },
  {
   "cell_type": "code",
   "execution_count": 23,
   "id": "da781f7c",
   "metadata": {
    "execution": {
     "iopub.execute_input": "2025-08-19T18:31:06.231782Z",
     "iopub.status.busy": "2025-08-19T18:31:06.231490Z",
     "iopub.status.idle": "2025-08-19T18:31:06.235975Z",
     "shell.execute_reply": "2025-08-19T18:31:06.235236Z"
    },
    "papermill": {
     "duration": 0.016754,
     "end_time": "2025-08-19T18:31:06.237268",
     "exception": false,
     "start_time": "2025-08-19T18:31:06.220514",
     "status": "completed"
    },
    "tags": []
   },
   "outputs": [],
   "source": [
    "from fairness_multiverse.universe import flatten_once\n",
    "\n",
    "excluded_features_columns = flatten_once(excluded_features_columns)"
   ]
  },
  {
   "cell_type": "code",
   "execution_count": 24,
   "id": "37fef0f0",
   "metadata": {
    "execution": {
     "iopub.execute_input": "2025-08-19T18:31:06.259016Z",
     "iopub.status.busy": "2025-08-19T18:31:06.258705Z",
     "iopub.status.idle": "2025-08-19T18:31:06.263653Z",
     "shell.execute_reply": "2025-08-19T18:31:06.262939Z"
    },
    "papermill": {
     "duration": 0.021145,
     "end_time": "2025-08-19T18:31:06.268609",
     "exception": false,
     "start_time": "2025-08-19T18:31:06.247464",
     "status": "completed"
    },
    "tags": []
   },
   "outputs": [],
   "source": [
    "if len(excluded_features_columns) > 0:\n",
    "    print(f\"Dropping features: {excluded_features_columns}\")\n",
    "    X_train.drop(excluded_features_columns, axis=1, inplace=True)"
   ]
  },
  {
   "cell_type": "code",
   "execution_count": 25,
   "id": "d029e3e9",
   "metadata": {
    "execution": {
     "iopub.execute_input": "2025-08-19T18:31:06.307991Z",
     "iopub.status.busy": "2025-08-19T18:31:06.306657Z",
     "iopub.status.idle": "2025-08-19T18:31:06.314930Z",
     "shell.execute_reply": "2025-08-19T18:31:06.313664Z"
    },
    "papermill": {
     "duration": 0.026318,
     "end_time": "2025-08-19T18:31:06.316733",
     "exception": false,
     "start_time": "2025-08-19T18:31:06.290415",
     "status": "completed"
    },
    "tags": []
   },
   "outputs": [],
   "source": [
    "if len(excluded_features_columns) > 0:\n",
    "    print(f\"Dropping features: {excluded_features_columns}\")\n",
    "    X_test.drop(excluded_features_columns, axis=1, inplace=True)"
   ]
  },
  {
   "cell_type": "code",
   "execution_count": 26,
   "id": "01d571f0",
   "metadata": {
    "execution": {
     "iopub.execute_input": "2025-08-19T18:31:06.343553Z",
     "iopub.status.busy": "2025-08-19T18:31:06.342597Z",
     "iopub.status.idle": "2025-08-19T18:31:06.349446Z",
     "shell.execute_reply": "2025-08-19T18:31:06.348363Z"
    },
    "papermill": {
     "duration": 0.020591,
     "end_time": "2025-08-19T18:31:06.351105",
     "exception": false,
     "start_time": "2025-08-19T18:31:06.330514",
     "status": "completed"
    },
    "tags": []
   },
   "outputs": [],
   "source": [
    "if len(excluded_features_columns) > 0:\n",
    "    print(f\"Dropping features: {excluded_features_columns}\")\n",
    "    X_calib.drop(excluded_features_columns, axis=1, inplace=True)"
   ]
  },
  {
   "cell_type": "code",
   "execution_count": 27,
   "id": "3037356e",
   "metadata": {
    "execution": {
     "iopub.execute_input": "2025-08-19T18:31:06.376985Z",
     "iopub.status.busy": "2025-08-19T18:31:06.376250Z",
     "iopub.status.idle": "2025-08-19T18:31:06.382436Z",
     "shell.execute_reply": "2025-08-19T18:31:06.381088Z"
    },
    "papermill": {
     "duration": 0.019802,
     "end_time": "2025-08-19T18:31:06.383805",
     "exception": false,
     "start_time": "2025-08-19T18:31:06.364003",
     "status": "completed"
    },
    "tags": []
   },
   "outputs": [],
   "source": [
    "# EXCLUDE CERTAIN SUBGROUPS\n",
    "# -------------------------\n",
    "\n",
    "mode = universe.get(\"exclude_subgroups\", \"keep-all\") # Defaults to \"keep-all\" if the key is missing."
   ]
  },
  {
   "cell_type": "code",
   "execution_count": 28,
   "id": "9d1e63fd",
   "metadata": {
    "execution": {
     "iopub.execute_input": "2025-08-19T18:31:06.408197Z",
     "iopub.status.busy": "2025-08-19T18:31:06.407410Z",
     "iopub.status.idle": "2025-08-19T18:31:06.415033Z",
     "shell.execute_reply": "2025-08-19T18:31:06.413934Z"
    },
    "papermill": {
     "duration": 0.020899,
     "end_time": "2025-08-19T18:31:06.416871",
     "exception": false,
     "start_time": "2025-08-19T18:31:06.395972",
     "status": "completed"
    },
    "tags": []
   },
   "outputs": [],
   "source": [
    "if mode == \"keep-all\":\n",
    "    keep_mask = pd.Series(True, index=org_train.index)\n",
    "\n",
    "elif mode == \"drop-non-german\":\n",
    "    keep_mask = (org_train[\"maxdeutsch1\"] == 1) & (org_train[\"maxdeutsch.Missing.\"] == 0)\n",
    "\n",
    "else:\n",
    "    raise ValueError(f\"Unsupported mode for exclude_subgroups: {mode}\")"
   ]
  },
  {
   "cell_type": "code",
   "execution_count": 29,
   "id": "d3b65474",
   "metadata": {
    "execution": {
     "iopub.execute_input": "2025-08-19T18:31:06.444249Z",
     "iopub.status.busy": "2025-08-19T18:31:06.442836Z",
     "iopub.status.idle": "2025-08-19T18:31:06.453375Z",
     "shell.execute_reply": "2025-08-19T18:31:06.452183Z"
    },
    "papermill": {
     "duration": 0.024393,
     "end_time": "2025-08-19T18:31:06.455008",
     "exception": false,
     "start_time": "2025-08-19T18:31:06.430615",
     "status": "completed"
    },
    "tags": []
   },
   "outputs": [
    {
     "name": "stdout",
     "output_type": "stream",
     "text": [
      "Dropping 665 rows (13.30%) where mode='drop-non-german'\n"
     ]
    }
   ],
   "source": [
    "n_drop = (~keep_mask).sum() # Calculates how many rows are set to be dropped\n",
    "if n_drop > 0:\n",
    "    pct = n_drop / len(keep_mask) * 100\n",
    "    print(f\"Dropping {n_drop} rows ({pct:.2f}%) where mode='{mode}'\")"
   ]
  },
  {
   "cell_type": "code",
   "execution_count": 30,
   "id": "f44389b3",
   "metadata": {
    "execution": {
     "iopub.execute_input": "2025-08-19T18:31:06.483475Z",
     "iopub.status.busy": "2025-08-19T18:31:06.482228Z",
     "iopub.status.idle": "2025-08-19T18:31:06.499369Z",
     "shell.execute_reply": "2025-08-19T18:31:06.498068Z"
    },
    "papermill": {
     "duration": 0.031977,
     "end_time": "2025-08-19T18:31:06.501288",
     "exception": false,
     "start_time": "2025-08-19T18:31:06.469311",
     "status": "completed"
    },
    "tags": []
   },
   "outputs": [],
   "source": [
    "X_train = X_train[keep_mask]"
   ]
  },
  {
   "cell_type": "code",
   "execution_count": 31,
   "id": "ceca8c2a",
   "metadata": {
    "execution": {
     "iopub.execute_input": "2025-08-19T18:31:06.531849Z",
     "iopub.status.busy": "2025-08-19T18:31:06.530500Z",
     "iopub.status.idle": "2025-08-19T18:31:06.540031Z",
     "shell.execute_reply": "2025-08-19T18:31:06.538638Z"
    },
    "papermill": {
     "duration": 0.024371,
     "end_time": "2025-08-19T18:31:06.541613",
     "exception": false,
     "start_time": "2025-08-19T18:31:06.517242",
     "status": "completed"
    },
    "tags": []
   },
   "outputs": [],
   "source": [
    "y_train = y_train[keep_mask]"
   ]
  },
  {
   "cell_type": "markdown",
   "id": "04d31e2f",
   "metadata": {
    "papermill": {
     "duration": 0.01075,
     "end_time": "2025-08-19T18:31:06.567031",
     "exception": false,
     "start_time": "2025-08-19T18:31:06.556281",
     "status": "completed"
    },
    "tags": []
   },
   "source": [
    "# Model Training"
   ]
  },
  {
   "cell_type": "code",
   "execution_count": 32,
   "id": "db991733",
   "metadata": {
    "execution": {
     "iopub.execute_input": "2025-08-19T18:31:06.590977Z",
     "iopub.status.busy": "2025-08-19T18:31:06.590492Z",
     "iopub.status.idle": "2025-08-19T18:31:06.705421Z",
     "shell.execute_reply": "2025-08-19T18:31:06.704742Z"
    },
    "papermill": {
     "duration": 0.132312,
     "end_time": "2025-08-19T18:31:06.710281",
     "exception": false,
     "start_time": "2025-08-19T18:31:06.577969",
     "status": "completed"
    },
    "tags": []
   },
   "outputs": [],
   "source": [
    "from sklearn.linear_model import LogisticRegression\n",
    "from sklearn.ensemble import GradientBoostingClassifier, RandomForestClassifier\n",
    "\n",
    "if (universe[\"model\"] == \"logreg\"):\n",
    "    model = LogisticRegression() #penalty=\"none\", solver=\"newton-cg\", max_iter=1)\n",
    "elif (universe[\"model\"] == \"penalized_logreg\"):\n",
    "    model = LogisticRegression(penalty=\"l2\", C=0.1) #, solver=\"newton-cg\", max_iter=1)\n",
    "elif (universe[\"model\"] == \"rf\"):\n",
    "    model = RandomForestClassifier() # n_estimators=100, n_jobs=-1\n",
    "elif (universe[\"model\"] == \"gbm\"):\n",
    "    model = GradientBoostingClassifier()\n",
    "elif (universe[\"model\"] == \"elasticnet\"):\n",
    "    model = LogisticRegression(penalty = 'elasticnet', solver = 'saga', l1_ratio = 0.5) # max_iter=5000\n",
    "else:\n",
    "    raise \"Unsupported universe.model\""
   ]
  },
  {
   "cell_type": "code",
   "execution_count": 33,
   "id": "a4b5cd25",
   "metadata": {
    "execution": {
     "iopub.execute_input": "2025-08-19T18:31:06.753646Z",
     "iopub.status.busy": "2025-08-19T18:31:06.752332Z",
     "iopub.status.idle": "2025-08-19T18:31:06.763451Z",
     "shell.execute_reply": "2025-08-19T18:31:06.761630Z"
    },
    "papermill": {
     "duration": 0.025773,
     "end_time": "2025-08-19T18:31:06.765195",
     "exception": false,
     "start_time": "2025-08-19T18:31:06.739422",
     "status": "completed"
    },
    "tags": []
   },
   "outputs": [],
   "source": [
    "from sklearn.pipeline import Pipeline\n",
    "from sklearn.preprocessing import StandardScaler\n",
    "\n",
    "model = Pipeline([\n",
    "    #(\"continuous_processor\", continuous_processor),\n",
    "    #(\"categorical_preprocessor\", categorical_preprocessor),\n",
    "    (\"scale\", StandardScaler() if universe[\"scale\"] == \"scale\" else None), \n",
    "    (\"model\", model),\n",
    "])"
   ]
  },
  {
   "cell_type": "code",
   "execution_count": 34,
   "id": "283a904d",
   "metadata": {
    "execution": {
     "iopub.execute_input": "2025-08-19T18:31:06.802963Z",
     "iopub.status.busy": "2025-08-19T18:31:06.801562Z",
     "iopub.status.idle": "2025-08-19T18:31:06.956673Z",
     "shell.execute_reply": "2025-08-19T18:31:06.955943Z"
    },
    "papermill": {
     "duration": 0.177084,
     "end_time": "2025-08-19T18:31:06.959532",
     "exception": false,
     "start_time": "2025-08-19T18:31:06.782448",
     "status": "completed"
    },
    "tags": []
   },
   "outputs": [
    {
     "name": "stderr",
     "output_type": "stream",
     "text": [
      "/dss/dsshome1/0C/ra93lal2/.local/share/virtualenvs/CMA_Fairness_v2-3j10GkSs/lib/python3.10/site-packages/sklearn/linear_model/_logistic.py:444: ConvergenceWarning: lbfgs failed to converge (status=1):\n",
      "STOP: TOTAL NO. of ITERATIONS REACHED LIMIT.\n",
      "\n",
      "Increase the number of iterations (max_iter) or scale the data as shown in:\n",
      "    https://scikit-learn.org/stable/modules/preprocessing.html\n",
      "Please also refer to the documentation for alternative solver options:\n",
      "    https://scikit-learn.org/stable/modules/linear_model.html#logistic-regression\n",
      "  n_iter_i = _check_optimize_result(\n"
     ]
    },
    {
     "data": {
      "text/html": [
       "<style>#sk-container-id-1 {color: black;background-color: white;}#sk-container-id-1 pre{padding: 0;}#sk-container-id-1 div.sk-toggleable {background-color: white;}#sk-container-id-1 label.sk-toggleable__label {cursor: pointer;display: block;width: 100%;margin-bottom: 0;padding: 0.3em;box-sizing: border-box;text-align: center;}#sk-container-id-1 label.sk-toggleable__label-arrow:before {content: \"▸\";float: left;margin-right: 0.25em;color: #696969;}#sk-container-id-1 label.sk-toggleable__label-arrow:hover:before {color: black;}#sk-container-id-1 div.sk-estimator:hover label.sk-toggleable__label-arrow:before {color: black;}#sk-container-id-1 div.sk-toggleable__content {max-height: 0;max-width: 0;overflow: hidden;text-align: left;background-color: #f0f8ff;}#sk-container-id-1 div.sk-toggleable__content pre {margin: 0.2em;color: black;border-radius: 0.25em;background-color: #f0f8ff;}#sk-container-id-1 input.sk-toggleable__control:checked~div.sk-toggleable__content {max-height: 200px;max-width: 100%;overflow: auto;}#sk-container-id-1 input.sk-toggleable__control:checked~label.sk-toggleable__label-arrow:before {content: \"▾\";}#sk-container-id-1 div.sk-estimator input.sk-toggleable__control:checked~label.sk-toggleable__label {background-color: #d4ebff;}#sk-container-id-1 div.sk-label input.sk-toggleable__control:checked~label.sk-toggleable__label {background-color: #d4ebff;}#sk-container-id-1 input.sk-hidden--visually {border: 0;clip: rect(1px 1px 1px 1px);clip: rect(1px, 1px, 1px, 1px);height: 1px;margin: -1px;overflow: hidden;padding: 0;position: absolute;width: 1px;}#sk-container-id-1 div.sk-estimator {font-family: monospace;background-color: #f0f8ff;border: 1px dotted black;border-radius: 0.25em;box-sizing: border-box;margin-bottom: 0.5em;}#sk-container-id-1 div.sk-estimator:hover {background-color: #d4ebff;}#sk-container-id-1 div.sk-parallel-item::after {content: \"\";width: 100%;border-bottom: 1px solid gray;flex-grow: 1;}#sk-container-id-1 div.sk-label:hover label.sk-toggleable__label {background-color: #d4ebff;}#sk-container-id-1 div.sk-serial::before {content: \"\";position: absolute;border-left: 1px solid gray;box-sizing: border-box;top: 0;bottom: 0;left: 50%;z-index: 0;}#sk-container-id-1 div.sk-serial {display: flex;flex-direction: column;align-items: center;background-color: white;padding-right: 0.2em;padding-left: 0.2em;position: relative;}#sk-container-id-1 div.sk-item {position: relative;z-index: 1;}#sk-container-id-1 div.sk-parallel {display: flex;align-items: stretch;justify-content: center;background-color: white;position: relative;}#sk-container-id-1 div.sk-item::before, #sk-container-id-1 div.sk-parallel-item::before {content: \"\";position: absolute;border-left: 1px solid gray;box-sizing: border-box;top: 0;bottom: 0;left: 50%;z-index: -1;}#sk-container-id-1 div.sk-parallel-item {display: flex;flex-direction: column;z-index: 1;position: relative;background-color: white;}#sk-container-id-1 div.sk-parallel-item:first-child::after {align-self: flex-end;width: 50%;}#sk-container-id-1 div.sk-parallel-item:last-child::after {align-self: flex-start;width: 50%;}#sk-container-id-1 div.sk-parallel-item:only-child::after {width: 0;}#sk-container-id-1 div.sk-dashed-wrapped {border: 1px dashed gray;margin: 0 0.4em 0.5em 0.4em;box-sizing: border-box;padding-bottom: 0.4em;background-color: white;}#sk-container-id-1 div.sk-label label {font-family: monospace;font-weight: bold;display: inline-block;line-height: 1.2em;}#sk-container-id-1 div.sk-label-container {text-align: center;}#sk-container-id-1 div.sk-container {/* jupyter's `normalize.less` sets `[hidden] { display: none; }` but bootstrap.min.css set `[hidden] { display: none !important; }` so we also need the `!important` here to be able to override the default hidden behavior on the sphinx rendered scikit-learn.org. See: https://github.com/scikit-learn/scikit-learn/issues/21755 */display: inline-block !important;position: relative;}#sk-container-id-1 div.sk-text-repr-fallback {display: none;}</style><div id=\"sk-container-id-1\" class=\"sk-top-container\"><div class=\"sk-text-repr-fallback\"><pre>Pipeline(steps=[(&#x27;scale&#x27;, StandardScaler()), (&#x27;model&#x27;, LogisticRegression())])</pre><b>In a Jupyter environment, please rerun this cell to show the HTML representation or trust the notebook. <br />On GitHub, the HTML representation is unable to render, please try loading this page with nbviewer.org.</b></div><div class=\"sk-container\" hidden><div class=\"sk-item sk-dashed-wrapped\"><div class=\"sk-label-container\"><div class=\"sk-label sk-toggleable\"><input class=\"sk-toggleable__control sk-hidden--visually\" id=\"sk-estimator-id-1\" type=\"checkbox\" ><label for=\"sk-estimator-id-1\" class=\"sk-toggleable__label sk-toggleable__label-arrow\">Pipeline</label><div class=\"sk-toggleable__content\"><pre>Pipeline(steps=[(&#x27;scale&#x27;, StandardScaler()), (&#x27;model&#x27;, LogisticRegression())])</pre></div></div></div><div class=\"sk-serial\"><div class=\"sk-item\"><div class=\"sk-estimator sk-toggleable\"><input class=\"sk-toggleable__control sk-hidden--visually\" id=\"sk-estimator-id-2\" type=\"checkbox\" ><label for=\"sk-estimator-id-2\" class=\"sk-toggleable__label sk-toggleable__label-arrow\">StandardScaler</label><div class=\"sk-toggleable__content\"><pre>StandardScaler()</pre></div></div></div><div class=\"sk-item\"><div class=\"sk-estimator sk-toggleable\"><input class=\"sk-toggleable__control sk-hidden--visually\" id=\"sk-estimator-id-3\" type=\"checkbox\" ><label for=\"sk-estimator-id-3\" class=\"sk-toggleable__label sk-toggleable__label-arrow\">LogisticRegression</label><div class=\"sk-toggleable__content\"><pre>LogisticRegression()</pre></div></div></div></div></div></div></div>"
      ],
      "text/plain": [
       "Pipeline(steps=[('scale', StandardScaler()), ('model', LogisticRegression())])"
      ]
     },
     "execution_count": 34,
     "metadata": {},
     "output_type": "execute_result"
    }
   ],
   "source": [
    "model.fit(X_train, y_train.values.ravel())"
   ]
  },
  {
   "cell_type": "code",
   "execution_count": 35,
   "id": "6e15e313",
   "metadata": {
    "execution": {
     "iopub.execute_input": "2025-08-19T18:31:07.002982Z",
     "iopub.status.busy": "2025-08-19T18:31:07.001360Z",
     "iopub.status.idle": "2025-08-19T18:31:07.205082Z",
     "shell.execute_reply": "2025-08-19T18:31:07.204409Z"
    },
    "papermill": {
     "duration": 0.225053,
     "end_time": "2025-08-19T18:31:07.206243",
     "exception": false,
     "start_time": "2025-08-19T18:31:06.981190",
     "status": "completed"
    },
    "tags": []
   },
   "outputs": [
    {
     "data": {
      "text/plain": [
       "0.857462936127522"
      ]
     },
     "execution_count": 35,
     "metadata": {},
     "output_type": "execute_result"
    }
   ],
   "source": [
    "from fairness_multiverse.universe import predict_w_threshold\n",
    "\n",
    "probs_test = model.predict_proba(X_test)\n",
    "\n",
    "'''\n",
    "Below code returns a boolean array (or binary 0/1 array depending on how it’s used) where each element \n",
    "is True if the probability of class 1 is greater than or equal to the threshold, and False otherwise.\n",
    "'''\n",
    "y_pred_default = predict_w_threshold(probs_test, 0.5)\n",
    "\n",
    "from sklearn.metrics import accuracy_score\n",
    "\n",
    "# Naive prediction\n",
    "accuracy_score(y_true = y_true, y_pred = y_pred_default)"
   ]
  },
  {
   "cell_type": "code",
   "execution_count": 36,
   "id": "6f14067c",
   "metadata": {
    "execution": {
     "iopub.execute_input": "2025-08-19T18:31:07.230804Z",
     "iopub.status.busy": "2025-08-19T18:31:07.230283Z",
     "iopub.status.idle": "2025-08-19T18:31:07.415058Z",
     "shell.execute_reply": "2025-08-19T18:31:07.414315Z"
    },
    "papermill": {
     "duration": 0.200982,
     "end_time": "2025-08-19T18:31:07.418953",
     "exception": false,
     "start_time": "2025-08-19T18:31:07.217971",
     "status": "completed"
    },
    "tags": []
   },
   "outputs": [
    {
     "data": {
      "text/plain": [
       "array([0, 0, 0, ..., 0, 0, 0])"
      ]
     },
     "execution_count": 36,
     "metadata": {},
     "output_type": "execute_result"
    }
   ],
   "source": [
    "model.predict(X_test)"
   ]
  },
  {
   "cell_type": "markdown",
   "id": "3759920c",
   "metadata": {
    "papermill": {
     "duration": 0.014953,
     "end_time": "2025-08-19T18:31:07.466385",
     "exception": false,
     "start_time": "2025-08-19T18:31:07.451432",
     "status": "completed"
    },
    "tags": []
   },
   "source": [
    "# Conformal Prediction"
   ]
  },
  {
   "cell_type": "code",
   "execution_count": 37,
   "id": "14b27f59",
   "metadata": {
    "execution": {
     "iopub.execute_input": "2025-08-19T18:31:07.504003Z",
     "iopub.status.busy": "2025-08-19T18:31:07.502756Z",
     "iopub.status.idle": "2025-08-19T18:31:07.509895Z",
     "shell.execute_reply": "2025-08-19T18:31:07.508661Z"
    },
    "papermill": {
     "duration": 0.03381,
     "end_time": "2025-08-19T18:31:07.511287",
     "exception": false,
     "start_time": "2025-08-19T18:31:07.477477",
     "status": "completed"
    },
    "tags": []
   },
   "outputs": [],
   "source": [
    "# Miscoverage level for conformal prediction (10% allowed error rate => 90% target coverage)\n",
    "alpha = 0.1"
   ]
  },
  {
   "cell_type": "code",
   "execution_count": 38,
   "id": "59102472",
   "metadata": {
    "execution": {
     "iopub.execute_input": "2025-08-19T18:31:07.542371Z",
     "iopub.status.busy": "2025-08-19T18:31:07.540832Z",
     "iopub.status.idle": "2025-08-19T18:31:07.730071Z",
     "shell.execute_reply": "2025-08-19T18:31:07.729295Z"
    },
    "papermill": {
     "duration": 0.206486,
     "end_time": "2025-08-19T18:31:07.733533",
     "exception": false,
     "start_time": "2025-08-19T18:31:07.527047",
     "status": "completed"
    },
    "tags": []
   },
   "outputs": [],
   "source": [
    "probs_calib = model.predict_proba(X_calib)"
   ]
  },
  {
   "cell_type": "code",
   "execution_count": 39,
   "id": "a792d4dd",
   "metadata": {
    "execution": {
     "iopub.execute_input": "2025-08-19T18:31:07.768369Z",
     "iopub.status.busy": "2025-08-19T18:31:07.767926Z",
     "iopub.status.idle": "2025-08-19T18:31:07.772532Z",
     "shell.execute_reply": "2025-08-19T18:31:07.771830Z"
    },
    "papermill": {
     "duration": 0.020476,
     "end_time": "2025-08-19T18:31:07.774065",
     "exception": false,
     "start_time": "2025-08-19T18:31:07.753589",
     "status": "completed"
    },
    "tags": []
   },
   "outputs": [],
   "source": [
    "y_calib = y_calib.values.ravel().astype(int)"
   ]
  },
  {
   "cell_type": "code",
   "execution_count": 40,
   "id": "650fd033",
   "metadata": {
    "execution": {
     "iopub.execute_input": "2025-08-19T18:31:07.799334Z",
     "iopub.status.busy": "2025-08-19T18:31:07.798878Z",
     "iopub.status.idle": "2025-08-19T18:31:07.804834Z",
     "shell.execute_reply": "2025-08-19T18:31:07.804130Z"
    },
    "papermill": {
     "duration": 0.019548,
     "end_time": "2025-08-19T18:31:07.806111",
     "exception": false,
     "start_time": "2025-08-19T18:31:07.786563",
     "status": "completed"
    },
    "tags": []
   },
   "outputs": [],
   "source": [
    "from fairness_multiverse.conformal import compute_nc_scores\n",
    "\n",
    "# Compute nonconformity scores on calibration set (1 - probability of true class)\n",
    "nc_scores = compute_nc_scores(probs_calib, y_calib)"
   ]
  },
  {
   "cell_type": "code",
   "execution_count": 41,
   "id": "28ada44c",
   "metadata": {
    "execution": {
     "iopub.execute_input": "2025-08-19T18:31:07.830197Z",
     "iopub.status.busy": "2025-08-19T18:31:07.829754Z",
     "iopub.status.idle": "2025-08-19T18:31:07.835358Z",
     "shell.execute_reply": "2025-08-19T18:31:07.834494Z"
    },
    "papermill": {
     "duration": 0.018891,
     "end_time": "2025-08-19T18:31:07.836728",
     "exception": false,
     "start_time": "2025-08-19T18:31:07.817837",
     "status": "completed"
    },
    "tags": []
   },
   "outputs": [],
   "source": [
    "from fairness_multiverse.conformal import find_threshold\n",
    "\n",
    "# Find conformal threshold q_hat for the given alpha (split conformal method)\n",
    "q_hat = find_threshold(nc_scores, alpha)"
   ]
  },
  {
   "cell_type": "code",
   "execution_count": 42,
   "id": "df56469e",
   "metadata": {
    "execution": {
     "iopub.execute_input": "2025-08-19T18:31:07.860928Z",
     "iopub.status.busy": "2025-08-19T18:31:07.860460Z",
     "iopub.status.idle": "2025-08-19T18:31:07.866283Z",
     "shell.execute_reply": "2025-08-19T18:31:07.865580Z"
    },
    "papermill": {
     "duration": 0.01938,
     "end_time": "2025-08-19T18:31:07.867767",
     "exception": false,
     "start_time": "2025-08-19T18:31:07.848387",
     "status": "completed"
    },
    "tags": []
   },
   "outputs": [
    {
     "data": {
      "text/plain": [
       "0.6940107788551335"
      ]
     },
     "execution_count": 42,
     "metadata": {},
     "output_type": "execute_result"
    }
   ],
   "source": [
    "q_hat"
   ]
  },
  {
   "cell_type": "code",
   "execution_count": 43,
   "id": "aa1f5faa",
   "metadata": {
    "execution": {
     "iopub.execute_input": "2025-08-19T18:31:07.892387Z",
     "iopub.status.busy": "2025-08-19T18:31:07.891947Z",
     "iopub.status.idle": "2025-08-19T18:31:08.490230Z",
     "shell.execute_reply": "2025-08-19T18:31:08.489404Z"
    },
    "papermill": {
     "duration": 0.611838,
     "end_time": "2025-08-19T18:31:08.491678",
     "exception": false,
     "start_time": "2025-08-19T18:31:07.879840",
     "status": "completed"
    },
    "tags": []
   },
   "outputs": [],
   "source": [
    "from fairness_multiverse.conformal import predict_conformal_sets\n",
    "\n",
    "# Generate prediction sets for each test example\n",
    "pred_sets = predict_conformal_sets(model, X_test, q_hat)"
   ]
  },
  {
   "cell_type": "code",
   "execution_count": 44,
   "id": "97f67a6b",
   "metadata": {
    "execution": {
     "iopub.execute_input": "2025-08-19T18:31:08.532639Z",
     "iopub.status.busy": "2025-08-19T18:31:08.532339Z",
     "iopub.status.idle": "2025-08-19T18:31:08.537248Z",
     "shell.execute_reply": "2025-08-19T18:31:08.536651Z"
    },
    "papermill": {
     "duration": 0.025604,
     "end_time": "2025-08-19T18:31:08.538653",
     "exception": false,
     "start_time": "2025-08-19T18:31:08.513049",
     "status": "completed"
    },
    "tags": []
   },
   "outputs": [],
   "source": [
    "y_true = y_true.squeeze()"
   ]
  },
  {
   "cell_type": "code",
   "execution_count": 45,
   "id": "e700e9a7",
   "metadata": {
    "execution": {
     "iopub.execute_input": "2025-08-19T18:31:08.561879Z",
     "iopub.status.busy": "2025-08-19T18:31:08.561632Z",
     "iopub.status.idle": "2025-08-19T18:31:09.052614Z",
     "shell.execute_reply": "2025-08-19T18:31:09.051075Z"
    },
    "papermill": {
     "duration": 0.50453,
     "end_time": "2025-08-19T18:31:09.054387",
     "exception": false,
     "start_time": "2025-08-19T18:31:08.549857",
     "status": "completed"
    },
    "tags": []
   },
   "outputs": [],
   "source": [
    "from fairness_multiverse.conformal import evaluate_sets\n",
    "\n",
    "# Evaluate coverage and average set size on test data\n",
    "metrics = evaluate_sets(pred_sets, y_true)"
   ]
  },
  {
   "cell_type": "markdown",
   "id": "efbacec0",
   "metadata": {
    "papermill": {
     "duration": 0.011694,
     "end_time": "2025-08-19T18:31:09.078251",
     "exception": false,
     "start_time": "2025-08-19T18:31:09.066557",
     "status": "completed"
    },
    "tags": []
   },
   "source": [
    "# CP Metrics"
   ]
  },
  {
   "cell_type": "code",
   "execution_count": 46,
   "id": "9de55fb1",
   "metadata": {
    "execution": {
     "iopub.execute_input": "2025-08-19T18:31:09.103447Z",
     "iopub.status.busy": "2025-08-19T18:31:09.102808Z",
     "iopub.status.idle": "2025-08-19T18:31:09.110545Z",
     "shell.execute_reply": "2025-08-19T18:31:09.109867Z"
    },
    "papermill": {
     "duration": 0.021919,
     "end_time": "2025-08-19T18:31:09.111889",
     "exception": false,
     "start_time": "2025-08-19T18:31:09.089970",
     "status": "completed"
    },
    "tags": []
   },
   "outputs": [
    {
     "data": {
      "text/plain": [
       "{'coverage': 0.9107457362612864, 'avg_size': 1.1363950507189835}"
      ]
     },
     "execution_count": 46,
     "metadata": {},
     "output_type": "execute_result"
    }
   ],
   "source": [
    "metrics"
   ]
  },
  {
   "cell_type": "code",
   "execution_count": 47,
   "id": "64c340a1",
   "metadata": {
    "execution": {
     "iopub.execute_input": "2025-08-19T18:31:09.137167Z",
     "iopub.status.busy": "2025-08-19T18:31:09.136673Z",
     "iopub.status.idle": "2025-08-19T18:31:09.142627Z",
     "shell.execute_reply": "2025-08-19T18:31:09.141881Z"
    },
    "papermill": {
     "duration": 0.020443,
     "end_time": "2025-08-19T18:31:09.144158",
     "exception": false,
     "start_time": "2025-08-19T18:31:09.123715",
     "status": "completed"
    },
    "tags": []
   },
   "outputs": [],
   "source": [
    "example_universe = universe.copy()\n",
    "universe_training_year = example_universe.get(\"training_year\")\n",
    "universe_training_size = example_universe.get(\"training_size\")\n",
    "universe_scale = example_universe.get(\"scale\")\n",
    "universe_model = example_universe.get(\"model\")\n",
    "universe_exclude_features = example_universe.get(\"exclude_features\")\n",
    "universe_exclude_subgroups = example_universe.get(\"exclude_subgroups\")"
   ]
  },
  {
   "cell_type": "code",
   "execution_count": 48,
   "id": "dbb53cb4",
   "metadata": {
    "execution": {
     "iopub.execute_input": "2025-08-19T18:31:09.169862Z",
     "iopub.status.busy": "2025-08-19T18:31:09.169374Z",
     "iopub.status.idle": "2025-08-19T18:31:09.175128Z",
     "shell.execute_reply": "2025-08-19T18:31:09.174340Z"
    },
    "papermill": {
     "duration": 0.020185,
     "end_time": "2025-08-19T18:31:09.176526",
     "exception": false,
     "start_time": "2025-08-19T18:31:09.156341",
     "status": "completed"
    },
    "tags": []
   },
   "outputs": [],
   "source": [
    "cp_metrics_dict = {\n",
    "    \"universe_id\": [universe_id],\n",
    "    \"universe_training_year\": [universe_training_year],\n",
    "    \"universe_training_size\": [universe_training_size],\n",
    "    \"universe_scale\": [universe_scale],\n",
    "    \"universe_model\": [universe_model],\n",
    "    \"universe_exclude_features\": [universe_exclude_features],\n",
    "    \"universe_exclude_subgroups\": [universe_exclude_subgroups],\n",
    "    \"q_hat\": [q_hat],\n",
    "    \"coverage\": [metrics[\"coverage\"]],\n",
    "    \"avg_size\": [metrics[\"avg_size\"]],\n",
    "}"
   ]
  },
  {
   "cell_type": "code",
   "execution_count": 49,
   "id": "0d70d4b2",
   "metadata": {
    "execution": {
     "iopub.execute_input": "2025-08-19T18:31:09.205385Z",
     "iopub.status.busy": "2025-08-19T18:31:09.204925Z",
     "iopub.status.idle": "2025-08-19T18:31:09.211189Z",
     "shell.execute_reply": "2025-08-19T18:31:09.210402Z"
    },
    "papermill": {
     "duration": 0.02192,
     "end_time": "2025-08-19T18:31:09.212663",
     "exception": false,
     "start_time": "2025-08-19T18:31:09.190743",
     "status": "completed"
    },
    "tags": []
   },
   "outputs": [],
   "source": [
    "cp_metrics_df = pd.DataFrame(cp_metrics_dict)"
   ]
  },
  {
   "cell_type": "code",
   "execution_count": 50,
   "id": "b494403c",
   "metadata": {
    "execution": {
     "iopub.execute_input": "2025-08-19T18:31:09.237519Z",
     "iopub.status.busy": "2025-08-19T18:31:09.237052Z",
     "iopub.status.idle": "2025-08-19T18:31:09.254367Z",
     "shell.execute_reply": "2025-08-19T18:31:09.253609Z"
    },
    "papermill": {
     "duration": 0.031513,
     "end_time": "2025-08-19T18:31:09.255892",
     "exception": false,
     "start_time": "2025-08-19T18:31:09.224379",
     "status": "completed"
    },
    "tags": []
   },
   "outputs": [
    {
     "data": {
      "text/html": [
       "<div>\n",
       "<style scoped>\n",
       "    .dataframe tbody tr th:only-of-type {\n",
       "        vertical-align: middle;\n",
       "    }\n",
       "\n",
       "    .dataframe tbody tr th {\n",
       "        vertical-align: top;\n",
       "    }\n",
       "\n",
       "    .dataframe thead th {\n",
       "        text-align: right;\n",
       "    }\n",
       "</style>\n",
       "<table border=\"1\" class=\"dataframe\">\n",
       "  <thead>\n",
       "    <tr style=\"text-align: right;\">\n",
       "      <th></th>\n",
       "      <th>universe_id</th>\n",
       "      <th>universe_training_year</th>\n",
       "      <th>universe_training_size</th>\n",
       "      <th>universe_scale</th>\n",
       "      <th>universe_model</th>\n",
       "      <th>universe_exclude_features</th>\n",
       "      <th>universe_exclude_subgroups</th>\n",
       "      <th>q_hat</th>\n",
       "      <th>coverage</th>\n",
       "      <th>avg_size</th>\n",
       "    </tr>\n",
       "  </thead>\n",
       "  <tbody>\n",
       "    <tr>\n",
       "      <th>0</th>\n",
       "      <td>9d177a1146fe7b81378135e5c9a513af</td>\n",
       "      <td>2012_14</td>\n",
       "      <td>5k</td>\n",
       "      <td>scale</td>\n",
       "      <td>logreg</td>\n",
       "      <td>none</td>\n",
       "      <td>drop-non-german</td>\n",
       "      <td>0.694011</td>\n",
       "      <td>0.910746</td>\n",
       "      <td>1.136395</td>\n",
       "    </tr>\n",
       "  </tbody>\n",
       "</table>\n",
       "</div>"
      ],
      "text/plain": [
       "                        universe_id universe_training_year  \\\n",
       "0  9d177a1146fe7b81378135e5c9a513af                2012_14   \n",
       "\n",
       "  universe_training_size universe_scale universe_model  \\\n",
       "0                     5k          scale         logreg   \n",
       "\n",
       "  universe_exclude_features universe_exclude_subgroups     q_hat  coverage  \\\n",
       "0                      none            drop-non-german  0.694011  0.910746   \n",
       "\n",
       "   avg_size  \n",
       "0  1.136395  "
      ]
     },
     "execution_count": 50,
     "metadata": {},
     "output_type": "execute_result"
    }
   ],
   "source": [
    "cp_metrics_df"
   ]
  },
  {
   "cell_type": "markdown",
   "id": "ed608b0b",
   "metadata": {
    "papermill": {
     "duration": 0.012149,
     "end_time": "2025-08-19T18:31:09.281681",
     "exception": false,
     "start_time": "2025-08-19T18:31:09.269532",
     "status": "completed"
    },
    "tags": []
   },
   "source": [
    "Conditional coverage & looking at subgroups"
   ]
  },
  {
   "cell_type": "code",
   "execution_count": 51,
   "id": "8968c366",
   "metadata": {
    "execution": {
     "iopub.execute_input": "2025-08-19T18:31:09.307455Z",
     "iopub.status.busy": "2025-08-19T18:31:09.306941Z",
     "iopub.status.idle": "2025-08-19T18:31:09.559438Z",
     "shell.execute_reply": "2025-08-19T18:31:09.558567Z"
    },
    "papermill": {
     "duration": 0.268356,
     "end_time": "2025-08-19T18:31:09.562109",
     "exception": false,
     "start_time": "2025-08-19T18:31:09.293753",
     "status": "completed"
    },
    "tags": []
   },
   "outputs": [],
   "source": [
    "from fairness_multiverse.conformal import build_cp_groups\n",
    "\n",
    "cp_groups_df = build_cp_groups(pred_sets, y_true, X_test.index, org_test)"
   ]
  },
  {
   "cell_type": "code",
   "execution_count": 52,
   "id": "292ddabf",
   "metadata": {
    "execution": {
     "iopub.execute_input": "2025-08-19T18:31:09.590609Z",
     "iopub.status.busy": "2025-08-19T18:31:09.588987Z",
     "iopub.status.idle": "2025-08-19T18:31:10.463734Z",
     "shell.execute_reply": "2025-08-19T18:31:10.461844Z"
    },
    "papermill": {
     "duration": 0.890681,
     "end_time": "2025-08-19T18:31:10.465477",
     "exception": false,
     "start_time": "2025-08-19T18:31:09.574796",
     "status": "completed"
    },
    "tags": []
   },
   "outputs": [],
   "source": [
    "# Define covered = 1 if true_label is in the predicted set\n",
    "cp_groups_df['covered'] = cp_groups_df.apply(\n",
    "    lambda r: int(r['true_label'] in r['pred_set']),\n",
    "    axis=1\n",
    ")"
   ]
  },
  {
   "cell_type": "code",
   "execution_count": 53,
   "id": "3a261692",
   "metadata": {
    "execution": {
     "iopub.execute_input": "2025-08-19T18:31:10.502409Z",
     "iopub.status.busy": "2025-08-19T18:31:10.500953Z",
     "iopub.status.idle": "2025-08-19T18:31:10.524234Z",
     "shell.execute_reply": "2025-08-19T18:31:10.523360Z"
    },
    "papermill": {
     "duration": 0.046139,
     "end_time": "2025-08-19T18:31:10.525882",
     "exception": false,
     "start_time": "2025-08-19T18:31:10.479743",
     "status": "completed"
    },
    "tags": []
   },
   "outputs": [],
   "source": [
    "subgroups = ['frau1','nongerman','nongerman_male','nongerman_female']\n",
    "\n",
    "# Conditional coverage for subgroup==1\n",
    "cond_coverage = {\n",
    "    g: cp_groups_df.loc[cp_groups_df[g]==1, 'covered'].mean()\n",
    "    for g in subgroups\n",
    "}"
   ]
  },
  {
   "cell_type": "code",
   "execution_count": 54,
   "id": "894fd600",
   "metadata": {
    "execution": {
     "iopub.execute_input": "2025-08-19T18:31:10.556943Z",
     "iopub.status.busy": "2025-08-19T18:31:10.555848Z",
     "iopub.status.idle": "2025-08-19T18:31:10.567427Z",
     "shell.execute_reply": "2025-08-19T18:31:10.566037Z"
    },
    "papermill": {
     "duration": 0.026607,
     "end_time": "2025-08-19T18:31:10.569166",
     "exception": false,
     "start_time": "2025-08-19T18:31:10.542559",
     "status": "completed"
    },
    "tags": []
   },
   "outputs": [
    {
     "data": {
      "text/plain": [
       "{'frau1': 0.9039223615042459,\n",
       " 'nongerman': 0.907539437489474,\n",
       " 'nongerman_male': 0.927226875619202,\n",
       " 'nongerman_female': 0.8749627421758569}"
      ]
     },
     "execution_count": 54,
     "metadata": {},
     "output_type": "execute_result"
    }
   ],
   "source": [
    "cond_coverage"
   ]
  },
  {
   "cell_type": "code",
   "execution_count": 55,
   "id": "942895c7",
   "metadata": {
    "execution": {
     "iopub.execute_input": "2025-08-19T18:31:10.604920Z",
     "iopub.status.busy": "2025-08-19T18:31:10.603516Z",
     "iopub.status.idle": "2025-08-19T18:31:10.620150Z",
     "shell.execute_reply": "2025-08-19T18:31:10.619210Z"
    },
    "papermill": {
     "duration": 0.040063,
     "end_time": "2025-08-19T18:31:10.622878",
     "exception": false,
     "start_time": "2025-08-19T18:31:10.582815",
     "status": "completed"
    },
    "tags": []
   },
   "outputs": [],
   "source": [
    "for subgroup, cov in cond_coverage.items():\n",
    "    cp_metrics_df[f\"cov_{subgroup}\"] = cov"
   ]
  },
  {
   "cell_type": "code",
   "execution_count": 56,
   "id": "3970120f",
   "metadata": {
    "execution": {
     "iopub.execute_input": "2025-08-19T18:31:10.654635Z",
     "iopub.status.busy": "2025-08-19T18:31:10.651898Z",
     "iopub.status.idle": "2025-08-19T18:31:10.678740Z",
     "shell.execute_reply": "2025-08-19T18:31:10.677025Z"
    },
    "papermill": {
     "duration": 0.041654,
     "end_time": "2025-08-19T18:31:10.680140",
     "exception": false,
     "start_time": "2025-08-19T18:31:10.638486",
     "status": "completed"
    },
    "tags": []
   },
   "outputs": [
    {
     "data": {
      "text/html": [
       "<div>\n",
       "<style scoped>\n",
       "    .dataframe tbody tr th:only-of-type {\n",
       "        vertical-align: middle;\n",
       "    }\n",
       "\n",
       "    .dataframe tbody tr th {\n",
       "        vertical-align: top;\n",
       "    }\n",
       "\n",
       "    .dataframe thead th {\n",
       "        text-align: right;\n",
       "    }\n",
       "</style>\n",
       "<table border=\"1\" class=\"dataframe\">\n",
       "  <thead>\n",
       "    <tr style=\"text-align: right;\">\n",
       "      <th></th>\n",
       "      <th>universe_id</th>\n",
       "      <th>universe_training_year</th>\n",
       "      <th>universe_training_size</th>\n",
       "      <th>universe_scale</th>\n",
       "      <th>universe_model</th>\n",
       "      <th>universe_exclude_features</th>\n",
       "      <th>universe_exclude_subgroups</th>\n",
       "      <th>q_hat</th>\n",
       "      <th>coverage</th>\n",
       "      <th>avg_size</th>\n",
       "      <th>cov_frau1</th>\n",
       "      <th>cov_nongerman</th>\n",
       "      <th>cov_nongerman_male</th>\n",
       "      <th>cov_nongerman_female</th>\n",
       "    </tr>\n",
       "  </thead>\n",
       "  <tbody>\n",
       "    <tr>\n",
       "      <th>0</th>\n",
       "      <td>9d177a1146fe7b81378135e5c9a513af</td>\n",
       "      <td>2012_14</td>\n",
       "      <td>5k</td>\n",
       "      <td>scale</td>\n",
       "      <td>logreg</td>\n",
       "      <td>none</td>\n",
       "      <td>drop-non-german</td>\n",
       "      <td>0.694011</td>\n",
       "      <td>0.910746</td>\n",
       "      <td>1.136395</td>\n",
       "      <td>0.903922</td>\n",
       "      <td>0.907539</td>\n",
       "      <td>0.927227</td>\n",
       "      <td>0.874963</td>\n",
       "    </tr>\n",
       "  </tbody>\n",
       "</table>\n",
       "</div>"
      ],
      "text/plain": [
       "                        universe_id universe_training_year  \\\n",
       "0  9d177a1146fe7b81378135e5c9a513af                2012_14   \n",
       "\n",
       "  universe_training_size universe_scale universe_model  \\\n",
       "0                     5k          scale         logreg   \n",
       "\n",
       "  universe_exclude_features universe_exclude_subgroups     q_hat  coverage  \\\n",
       "0                      none            drop-non-german  0.694011  0.910746   \n",
       "\n",
       "   avg_size  cov_frau1  cov_nongerman  cov_nongerman_male  \\\n",
       "0  1.136395   0.903922       0.907539            0.927227   \n",
       "\n",
       "   cov_nongerman_female  \n",
       "0              0.874963  "
      ]
     },
     "execution_count": 56,
     "metadata": {},
     "output_type": "execute_result"
    }
   ],
   "source": [
    "cp_metrics_df"
   ]
  },
  {
   "cell_type": "markdown",
   "id": "3fc519cc",
   "metadata": {
    "papermill": {
     "duration": 0.012257,
     "end_time": "2025-08-19T18:31:10.704916",
     "exception": false,
     "start_time": "2025-08-19T18:31:10.692659",
     "status": "completed"
    },
    "tags": []
   },
   "source": [
    "# (Fairness) Metrics"
   ]
  },
  {
   "cell_type": "code",
   "execution_count": 57,
   "id": "a2e5e155",
   "metadata": {
    "execution": {
     "iopub.execute_input": "2025-08-19T18:31:10.741881Z",
     "iopub.status.busy": "2025-08-19T18:31:10.736176Z",
     "iopub.status.idle": "2025-08-19T18:31:10.773243Z",
     "shell.execute_reply": "2025-08-19T18:31:10.772579Z"
    },
    "papermill": {
     "duration": 0.057791,
     "end_time": "2025-08-19T18:31:10.774549",
     "exception": false,
     "start_time": "2025-08-19T18:31:10.716758",
     "status": "completed"
    },
    "tags": []
   },
   "outputs": [],
   "source": [
    "colname_to_bin = \"maxdeutsch1\"\n",
    "majority_value = org_train[colname_to_bin].mode()[0]\n",
    "\n",
    "org_test[\"majmin\"] = np.where(org_test[colname_to_bin] == majority_value, \"majority\", \"minority\")"
   ]
  },
  {
   "cell_type": "code",
   "execution_count": 58,
   "id": "17e3e4d5",
   "metadata": {
    "execution": {
     "iopub.execute_input": "2025-08-19T18:31:10.805400Z",
     "iopub.status.busy": "2025-08-19T18:31:10.802247Z",
     "iopub.status.idle": "2025-08-19T18:31:12.603029Z",
     "shell.execute_reply": "2025-08-19T18:31:12.601818Z"
    },
    "papermill": {
     "duration": 1.817555,
     "end_time": "2025-08-19T18:31:12.604527",
     "exception": false,
     "start_time": "2025-08-19T18:31:10.786972",
     "status": "completed"
    },
    "tags": []
   },
   "outputs": [],
   "source": [
    "example_universe = universe.copy()\n",
    "example_universe[\"cutoff\"] = example_universe[\"cutoff\"][0]\n",
    "example_universe[\"eval_fairness_grouping\"] = example_universe[\"eval_fairness_grouping\"][0]\n",
    "fairness_dict, metric_frame = universe_analysis.compute_metrics(\n",
    "    example_universe,\n",
    "    y_pred_prob=probs_test,\n",
    "    y_test=y_true,\n",
    "    org_test=org_test,\n",
    ")"
   ]
  },
  {
   "cell_type": "markdown",
   "id": "1fb7a0e9",
   "metadata": {
    "papermill": {
     "duration": 0.011884,
     "end_time": "2025-08-19T18:31:12.630946",
     "exception": false,
     "start_time": "2025-08-19T18:31:12.619062",
     "status": "completed"
    },
    "tags": []
   },
   "source": [
    "# Overall"
   ]
  },
  {
   "cell_type": "markdown",
   "id": "be1784b1",
   "metadata": {
    "papermill": {
     "duration": 0.014856,
     "end_time": "2025-08-19T18:31:12.658040",
     "exception": false,
     "start_time": "2025-08-19T18:31:12.643184",
     "status": "completed"
    },
    "tags": []
   },
   "source": [
    "Main fairness target: Equalized Odds. Seems to be a better fit than equal opportunity, since we're not only interested in Y = 1. Seems to be a better fit than demographic parity, since we also care about accuracy, not just equal distribution of preds.\n",
    "\n",
    "Pick column for computation of fairness metrics\n",
    "\n",
    "Performance\n",
    "Overall performance measures, most interesting in relation to the measures split by group below"
   ]
  },
  {
   "cell_type": "code",
   "execution_count": 59,
   "id": "b7672bee",
   "metadata": {
    "execution": {
     "iopub.execute_input": "2025-08-19T18:31:12.683719Z",
     "iopub.status.busy": "2025-08-19T18:31:12.683194Z",
     "iopub.status.idle": "2025-08-19T18:31:12.691934Z",
     "shell.execute_reply": "2025-08-19T18:31:12.691145Z"
    },
    "papermill": {
     "duration": 0.023233,
     "end_time": "2025-08-19T18:31:12.693384",
     "exception": false,
     "start_time": "2025-08-19T18:31:12.670151",
     "status": "completed"
    },
    "tags": []
   },
   "outputs": [
    {
     "data": {
      "text/plain": [
       "accuracy                   0.223621\n",
       "balanced accuracy          0.546941\n",
       "f1                         0.244973\n",
       "precision                  0.139945\n",
       "false positive rate        0.887957\n",
       "false negative rate        0.018161\n",
       "selection rate             0.900000\n",
       "count                  89710.000000\n",
       "dtype: float64"
      ]
     },
     "execution_count": 59,
     "metadata": {},
     "output_type": "execute_result"
    }
   ],
   "source": [
    "metric_frame.overall"
   ]
  },
  {
   "cell_type": "markdown",
   "id": "d93333c9",
   "metadata": {
    "papermill": {
     "duration": 0.01225,
     "end_time": "2025-08-19T18:31:12.719153",
     "exception": false,
     "start_time": "2025-08-19T18:31:12.706903",
     "status": "completed"
    },
    "tags": []
   },
   "source": [
    "By Group"
   ]
  },
  {
   "cell_type": "code",
   "execution_count": 60,
   "id": "52256966",
   "metadata": {
    "execution": {
     "iopub.execute_input": "2025-08-19T18:31:12.744400Z",
     "iopub.status.busy": "2025-08-19T18:31:12.743956Z",
     "iopub.status.idle": "2025-08-19T18:31:12.763314Z",
     "shell.execute_reply": "2025-08-19T18:31:12.761966Z"
    },
    "papermill": {
     "duration": 0.033796,
     "end_time": "2025-08-19T18:31:12.765044",
     "exception": false,
     "start_time": "2025-08-19T18:31:12.731248",
     "status": "completed"
    },
    "tags": []
   },
   "outputs": [
    {
     "data": {
      "text/html": [
       "<div>\n",
       "<style scoped>\n",
       "    .dataframe tbody tr th:only-of-type {\n",
       "        vertical-align: middle;\n",
       "    }\n",
       "\n",
       "    .dataframe tbody tr th {\n",
       "        vertical-align: top;\n",
       "    }\n",
       "\n",
       "    .dataframe thead th {\n",
       "        text-align: right;\n",
       "    }\n",
       "</style>\n",
       "<table border=\"1\" class=\"dataframe\">\n",
       "  <thead>\n",
       "    <tr style=\"text-align: right;\">\n",
       "      <th></th>\n",
       "      <th>accuracy</th>\n",
       "      <th>balanced accuracy</th>\n",
       "      <th>f1</th>\n",
       "      <th>precision</th>\n",
       "      <th>false positive rate</th>\n",
       "      <th>false negative rate</th>\n",
       "      <th>selection rate</th>\n",
       "      <th>count</th>\n",
       "    </tr>\n",
       "    <tr>\n",
       "      <th>majmin</th>\n",
       "      <th></th>\n",
       "      <th></th>\n",
       "      <th></th>\n",
       "      <th></th>\n",
       "      <th></th>\n",
       "      <th></th>\n",
       "      <th></th>\n",
       "      <th></th>\n",
       "    </tr>\n",
       "  </thead>\n",
       "  <tbody>\n",
       "    <tr>\n",
       "      <th>majority</th>\n",
       "      <td>0.239873</td>\n",
       "      <td>0.554139</td>\n",
       "      <td>0.254382</td>\n",
       "      <td>0.146132</td>\n",
       "      <td>0.873013</td>\n",
       "      <td>0.018709</td>\n",
       "      <td>0.887321</td>\n",
       "      <td>69170.0</td>\n",
       "    </tr>\n",
       "    <tr>\n",
       "      <th>minority</th>\n",
       "      <td>0.168890</td>\n",
       "      <td>0.523316</td>\n",
       "      <td>0.214440</td>\n",
       "      <td>0.120333</td>\n",
       "      <td>0.937321</td>\n",
       "      <td>0.016047</td>\n",
       "      <td>0.942697</td>\n",
       "      <td>20540.0</td>\n",
       "    </tr>\n",
       "  </tbody>\n",
       "</table>\n",
       "</div>"
      ],
      "text/plain": [
       "          accuracy  balanced accuracy        f1  precision  \\\n",
       "majmin                                                       \n",
       "majority  0.239873           0.554139  0.254382   0.146132   \n",
       "minority  0.168890           0.523316  0.214440   0.120333   \n",
       "\n",
       "          false positive rate  false negative rate  selection rate    count  \n",
       "majmin                                                                       \n",
       "majority             0.873013             0.018709        0.887321  69170.0  \n",
       "minority             0.937321             0.016047        0.942697  20540.0  "
      ]
     },
     "execution_count": 60,
     "metadata": {},
     "output_type": "execute_result"
    }
   ],
   "source": [
    "metric_frame.by_group"
   ]
  },
  {
   "cell_type": "code",
   "execution_count": 61,
   "id": "6e6c20ae",
   "metadata": {
    "execution": {
     "iopub.execute_input": "2025-08-19T18:31:12.791772Z",
     "iopub.status.busy": "2025-08-19T18:31:12.791351Z",
     "iopub.status.idle": "2025-08-19T18:31:14.604415Z",
     "shell.execute_reply": "2025-08-19T18:31:14.603479Z"
    },
    "papermill": {
     "duration": 1.827626,
     "end_time": "2025-08-19T18:31:14.606108",
     "exception": false,
     "start_time": "2025-08-19T18:31:12.778482",
     "status": "completed"
    },
    "tags": []
   },
   "outputs": [
    {
     "data": {
      "text/plain": [
       "array([[<Axes: title={'center': 'accuracy'}, xlabel='majmin'>,\n",
       "        <Axes: title={'center': 'balanced accuracy'}, xlabel='majmin'>,\n",
       "        <Axes: title={'center': 'f1'}, xlabel='majmin'>],\n",
       "       [<Axes: title={'center': 'precision'}, xlabel='majmin'>,\n",
       "        <Axes: title={'center': 'false positive rate'}, xlabel='majmin'>,\n",
       "        <Axes: title={'center': 'false negative rate'}, xlabel='majmin'>],\n",
       "       [<Axes: title={'center': 'selection rate'}, xlabel='majmin'>,\n",
       "        <Axes: title={'center': 'count'}, xlabel='majmin'>,\n",
       "        <Axes: xlabel='majmin'>]], dtype=object)"
      ]
     },
     "execution_count": 61,
     "metadata": {},
     "output_type": "execute_result"
    },
    {
     "data": {
      "image/png": "[encoded data removed]",
      "text/plain": [
       "<Figure size 1200x800 with 9 Axes>"
      ]
     },
     "metadata": {},
     "output_type": "display_data"
    }
   ],
   "source": [
    "# In a graphic\n",
    "metric_frame.by_group.plot.bar(\n",
    "    subplots=True,\n",
    "    layout=[3, 3],\n",
    "    legend=False,\n",
    "    figsize=[12, 8],\n",
    "    title=\"Show all metrics\",\n",
    ")"
   ]
  },
  {
   "cell_type": "markdown",
   "id": "b2e433ae",
   "metadata": {
    "papermill": {
     "duration": 0.013707,
     "end_time": "2025-08-19T18:31:14.634690",
     "exception": false,
     "start_time": "2025-08-19T18:31:14.620983",
     "status": "completed"
    },
    "tags": []
   },
   "source": [
    "# Final Output"
   ]
  },
  {
   "cell_type": "code",
   "execution_count": 62,
   "id": "3871301e",
   "metadata": {
    "execution": {
     "iopub.execute_input": "2025-08-19T18:31:14.664173Z",
     "iopub.status.busy": "2025-08-19T18:31:14.663400Z",
     "iopub.status.idle": "2025-08-19T18:31:14.673982Z",
     "shell.execute_reply": "2025-08-19T18:31:14.673354Z"
    },
    "papermill": {
     "duration": 0.028754,
     "end_time": "2025-08-19T18:31:14.677055",
     "exception": false,
     "start_time": "2025-08-19T18:31:14.648301",
     "status": "completed"
    },
    "tags": []
   },
   "outputs": [
    {
     "data": {
      "text/plain": [
       "4"
      ]
     },
     "execution_count": 62,
     "metadata": {},
     "output_type": "execute_result"
    }
   ],
   "source": [
    "sub_universes = universe_analysis.generate_sub_universes()\n",
    "len(sub_universes)"
   ]
  },
  {
   "cell_type": "code",
   "execution_count": 63,
   "id": "d9cfdaca",
   "metadata": {
    "execution": {
     "iopub.execute_input": "2025-08-19T18:31:14.716003Z",
     "iopub.status.busy": "2025-08-19T18:31:14.712557Z",
     "iopub.status.idle": "2025-08-19T18:31:14.788716Z",
     "shell.execute_reply": "2025-08-19T18:31:14.787358Z"
    },
    "papermill": {
     "duration": 0.096976,
     "end_time": "2025-08-19T18:31:14.792660",
     "exception": false,
     "start_time": "2025-08-19T18:31:14.695684",
     "status": "completed"
    },
    "tags": []
   },
   "outputs": [],
   "source": [
    "def filter_sub_universe_data(sub_universe, org_test):\n",
    "    # Keep all rows — no filtering\n",
    "    keep_rows_mask = np.ones(org_test.shape[0], dtype=bool)\n",
    "\n",
    "    print(f\"[INFO] Keeping all rows: {keep_rows_mask.sum()} rows retained.\")\n",
    "    return keep_rows_mask"
   ]
  },
  {
   "cell_type": "code",
   "execution_count": 64,
   "id": "2bc31ac1",
   "metadata": {
    "execution": {
     "iopub.execute_input": "2025-08-19T18:31:14.835370Z",
     "iopub.status.busy": "2025-08-19T18:31:14.834433Z",
     "iopub.status.idle": "2025-08-19T18:31:21.514480Z",
     "shell.execute_reply": "2025-08-19T18:31:21.513525Z"
    },
    "papermill": {
     "duration": 6.69623,
     "end_time": "2025-08-19T18:31:21.515858",
     "exception": false,
     "start_time": "2025-08-19T18:31:14.819628",
     "status": "completed"
    },
    "tags": []
   },
   "outputs": [
    {
     "name": "stdout",
     "output_type": "stream",
     "text": [
      "Stopping execution_time clock.\n",
      "[INFO] Keeping all rows: 89710 rows retained.\n"
     ]
    },
    {
     "name": "stdout",
     "output_type": "stream",
     "text": [
      "[INFO] Keeping all rows: 89710 rows retained.\n"
     ]
    },
    {
     "name": "stdout",
     "output_type": "stream",
     "text": [
      "[INFO] Keeping all rows: 89710 rows retained.\n"
     ]
    },
    {
     "name": "stdout",
     "output_type": "stream",
     "text": [
      "[INFO] Keeping all rows: 89710 rows retained.\n"
     ]
    },
    {
     "data": {
      "text/html": [
       "<div>\n",
       "<style scoped>\n",
       "    .dataframe tbody tr th:only-of-type {\n",
       "        vertical-align: middle;\n",
       "    }\n",
       "\n",
       "    .dataframe tbody tr th {\n",
       "        vertical-align: top;\n",
       "    }\n",
       "\n",
       "    .dataframe thead th {\n",
       "        text-align: right;\n",
       "    }\n",
       "</style>\n",
       "<table border=\"1\" class=\"dataframe\">\n",
       "  <thead>\n",
       "    <tr style=\"text-align: right;\">\n",
       "      <th></th>\n",
       "      <th>run_no</th>\n",
       "      <th>universe_id</th>\n",
       "      <th>universe_settings</th>\n",
       "      <th>execution_time</th>\n",
       "      <th>test_size_n</th>\n",
       "      <th>test_size_frac</th>\n",
       "      <th>fair_main_equalized_odds_difference</th>\n",
       "      <th>fair_main_equalized_odds_ratio</th>\n",
       "      <th>fair_main_demographic_parity_difference</th>\n",
       "      <th>fair_main_demographic_parity_ratio</th>\n",
       "      <th>...</th>\n",
       "      <th>perf_grp_precision_0</th>\n",
       "      <th>perf_grp_precision_1</th>\n",
       "      <th>perf_grp_false positive rate_0</th>\n",
       "      <th>perf_grp_false positive rate_1</th>\n",
       "      <th>perf_grp_false negative rate_0</th>\n",
       "      <th>perf_grp_false negative rate_1</th>\n",
       "      <th>perf_grp_selection rate_0</th>\n",
       "      <th>perf_grp_selection rate_1</th>\n",
       "      <th>perf_grp_count_0</th>\n",
       "      <th>perf_grp_count_1</th>\n",
       "    </tr>\n",
       "  </thead>\n",
       "  <tbody>\n",
       "    <tr>\n",
       "      <th>0</th>\n",
       "      <td>3</td>\n",
       "      <td>9d177a1146fe7b81378135e5c9a513af</td>\n",
       "      <td>{\"cutoff\": \"quantile_0.1\", \"eval_fairness_grou...</td>\n",
       "      <td>20.507985</td>\n",
       "      <td>89710</td>\n",
       "      <td>1.0</td>\n",
       "      <td>0.064308</td>\n",
       "      <td>0.931392</td>\n",
       "      <td>0.055376</td>\n",
       "      <td>0.941258</td>\n",
       "      <td>...</td>\n",
       "      <td>NaN</td>\n",
       "      <td>NaN</td>\n",
       "      <td>NaN</td>\n",
       "      <td>NaN</td>\n",
       "      <td>NaN</td>\n",
       "      <td>NaN</td>\n",
       "      <td>NaN</td>\n",
       "      <td>NaN</td>\n",
       "      <td>NaN</td>\n",
       "      <td>NaN</td>\n",
       "    </tr>\n",
       "    <tr>\n",
       "      <th>0</th>\n",
       "      <td>3</td>\n",
       "      <td>9d177a1146fe7b81378135e5c9a513af</td>\n",
       "      <td>{\"cutoff\": \"quantile_0.1\", \"eval_fairness_grou...</td>\n",
       "      <td>20.507985</td>\n",
       "      <td>89710</td>\n",
       "      <td>1.0</td>\n",
       "      <td>0.064308</td>\n",
       "      <td>0.931392</td>\n",
       "      <td>0.055376</td>\n",
       "      <td>0.941258</td>\n",
       "      <td>...</td>\n",
       "      <td>0.120333</td>\n",
       "      <td>0.146132</td>\n",
       "      <td>0.937321</td>\n",
       "      <td>0.873013</td>\n",
       "      <td>0.016047</td>\n",
       "      <td>0.018709</td>\n",
       "      <td>0.942697</td>\n",
       "      <td>0.887321</td>\n",
       "      <td>20540.0</td>\n",
       "      <td>69170.0</td>\n",
       "    </tr>\n",
       "    <tr>\n",
       "      <th>0</th>\n",
       "      <td>3</td>\n",
       "      <td>9d177a1146fe7b81378135e5c9a513af</td>\n",
       "      <td>{\"cutoff\": \"quantile_0.25\", \"eval_fairness_gro...</td>\n",
       "      <td>20.507985</td>\n",
       "      <td>89710</td>\n",
       "      <td>1.0</td>\n",
       "      <td>0.127143</td>\n",
       "      <td>0.844979</td>\n",
       "      <td>0.108549</td>\n",
       "      <td>0.869796</td>\n",
       "      <td>...</td>\n",
       "      <td>NaN</td>\n",
       "      <td>NaN</td>\n",
       "      <td>NaN</td>\n",
       "      <td>NaN</td>\n",
       "      <td>NaN</td>\n",
       "      <td>NaN</td>\n",
       "      <td>NaN</td>\n",
       "      <td>NaN</td>\n",
       "      <td>NaN</td>\n",
       "      <td>NaN</td>\n",
       "    </tr>\n",
       "    <tr>\n",
       "      <th>0</th>\n",
       "      <td>3</td>\n",
       "      <td>9d177a1146fe7b81378135e5c9a513af</td>\n",
       "      <td>{\"cutoff\": \"quantile_0.25\", \"eval_fairness_gro...</td>\n",
       "      <td>20.507985</td>\n",
       "      <td>89710</td>\n",
       "      <td>1.0</td>\n",
       "      <td>0.127143</td>\n",
       "      <td>0.844979</td>\n",
       "      <td>0.108549</td>\n",
       "      <td>0.869796</td>\n",
       "      <td>...</td>\n",
       "      <td>0.129643</td>\n",
       "      <td>0.170581</td>\n",
       "      <td>0.820163</td>\n",
       "      <td>0.693020</td>\n",
       "      <td>0.062500</td>\n",
       "      <td>0.063895</td>\n",
       "      <td>0.833690</td>\n",
       "      <td>0.725141</td>\n",
       "      <td>20540.0</td>\n",
       "      <td>69170.0</td>\n",
       "    </tr>\n",
       "  </tbody>\n",
       "</table>\n",
       "<p>4 rows × 50 columns</p>\n",
       "</div>"
      ],
      "text/plain": [
       "  run_no                       universe_id  \\\n",
       "0      3  9d177a1146fe7b81378135e5c9a513af   \n",
       "0      3  9d177a1146fe7b81378135e5c9a513af   \n",
       "0      3  9d177a1146fe7b81378135e5c9a513af   \n",
       "0      3  9d177a1146fe7b81378135e5c9a513af   \n",
       "\n",
       "                                   universe_settings  execution_time  \\\n",
       "0  {\"cutoff\": \"quantile_0.1\", \"eval_fairness_grou...       20.507985   \n",
       "0  {\"cutoff\": \"quantile_0.1\", \"eval_fairness_grou...       20.507985   \n",
       "0  {\"cutoff\": \"quantile_0.25\", \"eval_fairness_gro...       20.507985   \n",
       "0  {\"cutoff\": \"quantile_0.25\", \"eval_fairness_gro...       20.507985   \n",
       "\n",
       "   test_size_n  test_size_frac  fair_main_equalized_odds_difference  \\\n",
       "0        89710             1.0                             0.064308   \n",
       "0        89710             1.0                             0.064308   \n",
       "0        89710             1.0                             0.127143   \n",
       "0        89710             1.0                             0.127143   \n",
       "\n",
       "   fair_main_equalized_odds_ratio  fair_main_demographic_parity_difference  \\\n",
       "0                        0.931392                                 0.055376   \n",
       "0                        0.931392                                 0.055376   \n",
       "0                        0.844979                                 0.108549   \n",
       "0                        0.844979                                 0.108549   \n",
       "\n",
       "   fair_main_demographic_parity_ratio  ...  perf_grp_precision_0  \\\n",
       "0                            0.941258  ...                   NaN   \n",
       "0                            0.941258  ...              0.120333   \n",
       "0                            0.869796  ...                   NaN   \n",
       "0                            0.869796  ...              0.129643   \n",
       "\n",
       "   perf_grp_precision_1  perf_grp_false positive rate_0  \\\n",
       "0                   NaN                             NaN   \n",
       "0              0.146132                        0.937321   \n",
       "0                   NaN                             NaN   \n",
       "0              0.170581                        0.820163   \n",
       "\n",
       "   perf_grp_false positive rate_1  perf_grp_false negative rate_0  \\\n",
       "0                             NaN                             NaN   \n",
       "0                        0.873013                        0.016047   \n",
       "0                             NaN                             NaN   \n",
       "0                        0.693020                        0.062500   \n",
       "\n",
       "   perf_grp_false negative rate_1  perf_grp_selection rate_0  \\\n",
       "0                             NaN                        NaN   \n",
       "0                        0.018709                   0.942697   \n",
       "0                             NaN                        NaN   \n",
       "0                        0.063895                   0.833690   \n",
       "\n",
       "   perf_grp_selection rate_1  perf_grp_count_0  perf_grp_count_1  \n",
       "0                        NaN               NaN               NaN  \n",
       "0                   0.887321           20540.0           69170.0  \n",
       "0                        NaN               NaN               NaN  \n",
       "0                   0.725141           20540.0           69170.0  \n",
       "\n",
       "[4 rows x 50 columns]"
      ]
     },
     "execution_count": 64,
     "metadata": {},
     "output_type": "execute_result"
    }
   ],
   "source": [
    "final_output = universe_analysis.generate_final_output(\n",
    "    y_pred_prob=probs_test,\n",
    "    y_test=y_true,\n",
    "    org_test=org_test,\n",
    "    filter_data=filter_sub_universe_data,\n",
    "    cp_metrics_df=cp_metrics_df,\n",
    "    save=True,\n",
    ")\n",
    "final_output"
   ]
  },
  {
   "cell_type": "code",
   "execution_count": null,
   "id": "8b80a1ff",
   "metadata": {
    "papermill": {
     "duration": 0.026529,
     "end_time": "2025-08-19T18:31:21.567606",
     "exception": false,
     "start_time": "2025-08-19T18:31:21.541077",
     "status": "completed"
    },
    "tags": []
   },
   "outputs": [],
   "source": []
  },
  {
   "cell_type": "code",
   "execution_count": null,
   "id": "275c9fad",
   "metadata": {
    "papermill": {
     "duration": 0.014338,
     "end_time": "2025-08-19T18:31:21.596434",
     "exception": false,
     "start_time": "2025-08-19T18:31:21.582096",
     "status": "completed"
    },
    "tags": []
   },
   "outputs": [],
   "source": []
  }
 ],
 "metadata": {
  "celltoolbar": "Tags",
  "kernelspec": {
   "display_name": "Python (CMA Fairness)",
   "language": "python",
   "name": "cma_fair_env"
  },
  "language_info": {
   "codemirror_mode": {
    "name": "ipython",
    "version": 3
   },
   "file_extension": ".py",
   "mimetype": "text/x-python",
   "name": "python",
   "nbconvert_exporter": "python",
   "pygments_lexer": "ipython3",
   "version": "3.10.12"
  },
  "papermill": {
   "default_parameters": {},
   "duration": 30.892306,
   "end_time": "2025-08-19T18:31:22.438462",
   "environment_variables": {},
   "exception": null,
   "input_path": "universe_analysis.ipynb",
   "output_path": "output/runs/3/notebooks/m_3-9d177a1146fe7b81378135e5c9a513af.ipynb",
   "parameters": {
    "output_dir": "output",
    "run_no": "3",
    "seed": "2023",
    "universe": "{\"cutoff\": [\"quantile_0.1\", \"quantile_0.25\"], \"eval_fairness_grouping\": [\"majority-minority\", \"nationality-all\"], \"exclude_features\": \"none\", \"exclude_subgroups\": \"drop-non-german\", \"model\": \"logreg\", \"scale\": \"scale\", \"training_size\": \"5k\", \"training_year\": \"2012_14\"}",
    "universe_id": "9d177a1146fe7b81378135e5c9a513af"
   },
   "start_time": "2025-08-19T18:30:51.546156",
   "version": "2.6.0"
  }
 },
 "nbformat": 4,
 "nbformat_minor": 5
}