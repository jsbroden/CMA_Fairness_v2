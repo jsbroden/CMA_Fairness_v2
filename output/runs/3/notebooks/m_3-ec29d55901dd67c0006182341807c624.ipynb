{
 "cells": [
  {
   "cell_type": "markdown",
   "id": "ef23dbb3",
   "metadata": {
    "papermill": {
     "duration": 0.011367,
     "end_time": "2025-08-19T18:27:49.777124",
     "exception": false,
     "start_time": "2025-08-19T18:27:49.765757",
     "status": "completed"
    },
    "tags": []
   },
   "source": [
    "# Setup"
   ]
  },
  {
   "cell_type": "code",
   "execution_count": 1,
   "id": "0bc8e7dc",
   "metadata": {
    "execution": {
     "iopub.execute_input": "2025-08-19T18:27:49.796722Z",
     "iopub.status.busy": "2025-08-19T18:27:49.796160Z",
     "iopub.status.idle": "2025-08-19T18:27:49.807817Z",
     "shell.execute_reply": "2025-08-19T18:27:49.807163Z"
    },
    "papermill": {
     "duration": 0.0231,
     "end_time": "2025-08-19T18:27:49.809123",
     "exception": false,
     "start_time": "2025-08-19T18:27:49.786023",
     "status": "completed"
    },
    "tags": []
   },
   "outputs": [
    {
     "name": "stdout",
     "output_type": "stream",
     "text": [
      "/dss/dsshome1/0C/ra93lal2/cma/CMA_Fairness_v2\n"
     ]
    },
    {
     "name": "stderr",
     "output_type": "stream",
     "text": [
      "/dss/dsshome1/0C/ra93lal2/.local/share/virtualenvs/CMA_Fairness_v2-3j10GkSs/lib/python3.10/site-packages/IPython/core/magics/osm.py:393: UserWarning: This is now an optional IPython functionality, using bookmarks requires you to install the `pickleshare` library.\n",
      "  bkms = self.shell.db.get('bookmarks', {})\n",
      "/dss/dsshome1/0C/ra93lal2/.local/share/virtualenvs/CMA_Fairness_v2-3j10GkSs/lib/python3.10/site-packages/IPython/core/magics/osm.py:417: UserWarning: This is now an optional IPython functionality, setting dhist requires you to install the `pickleshare` library.\n",
      "  self.shell.db['dhist'] = compress_dhist(dhist)[-100:]\n"
     ]
    }
   ],
   "source": [
    "%cd ~/cma/CMA_Fairness_v2"
   ]
  },
  {
   "cell_type": "markdown",
   "id": "9d235661",
   "metadata": {
    "papermill": {
     "duration": 0.009604,
     "end_time": "2025-08-19T18:27:49.830501",
     "exception": false,
     "start_time": "2025-08-19T18:27:49.820897",
     "status": "completed"
    },
    "tags": []
   },
   "source": [
    "The following cell holds the definition of our parameters, these values can be overriden by rendering the with e.g. the following command:\n",
    "\n",
    "papermill -p alpha 0.2 -p ratio 0.3 universe_analysis.ipynb output/test_run.ipynb"
   ]
  },
  {
   "cell_type": "code",
   "execution_count": 2,
   "id": "4a789d8e",
   "metadata": {
    "execution": {
     "iopub.execute_input": "2025-08-19T18:27:49.850609Z",
     "iopub.status.busy": "2025-08-19T18:27:49.849551Z",
     "iopub.status.idle": "2025-08-19T18:27:49.858768Z",
     "shell.execute_reply": "2025-08-19T18:27:49.857246Z"
    },
    "papermill": {
     "duration": 0.021196,
     "end_time": "2025-08-19T18:27:49.860409",
     "exception": false,
     "start_time": "2025-08-19T18:27:49.839213",
     "status": "completed"
    },
    "tags": []
   },
   "outputs": [
    {
     "name": "stdout",
     "output_type": "stream",
     "text": [
      "Current working directory: /dss/dsshome1/0C/ra93lal2/cma/CMA_Fairness_v2\n"
     ]
    }
   ],
   "source": [
    "import os\n",
    "print(\"Current working directory:\", os.getcwd())"
   ]
  },
  {
   "cell_type": "code",
   "execution_count": 3,
   "id": "4132aaed",
   "metadata": {
    "execution": {
     "iopub.execute_input": "2025-08-19T18:27:49.884865Z",
     "iopub.status.busy": "2025-08-19T18:27:49.883724Z",
     "iopub.status.idle": "2025-08-19T18:27:49.894182Z",
     "shell.execute_reply": "2025-08-19T18:27:49.892597Z"
    },
    "papermill": {
     "duration": 0.023771,
     "end_time": "2025-08-19T18:27:49.895827",
     "exception": false,
     "start_time": "2025-08-19T18:27:49.872056",
     "status": "completed"
    },
    "tags": [
     "parameters"
    ]
   },
   "outputs": [],
   "source": [
    "run_no = 0\n",
    "universe_id = \"test\"\n",
    "universe = {\n",
    "    \"training_size\": \"5k\", # \"25k\", \"5k\", \"1k\"\n",
    "    \"training_year\": \"2012_14\", # \"2014\", \"2012_14\", \"2010_14\"\n",
    "    \"scale\": \"scale\", # \"scale\", \"do-not-scale\",\n",
    "    \"model\": \"elasticnet\", # \"logreg\", \"penalized_logreg\", \"rf\", \"gbm\", \"elasticnet\"\n",
    "    \"cutoff\": [\"quantile_0.15\", \"quantile_0.30\"],\n",
    "    \"exclude_features\": \"age\", # \"none\", \"nationality\", \"sex\", \"nationality-sex\", \"age\"\n",
    "    \"exclude_subgroups\": \"drop-non-german\", # \"keep-all\", \"drop-non-german\"\n",
    "    \"eval_fairness_grouping\": [\"majority-minority\", \"nationality-all\"]\n",
    "}\n",
    "\n",
    "output_dir=\"./output\"\n",
    "seed=0"
   ]
  },
  {
   "cell_type": "code",
   "execution_count": 4,
   "id": "4bb102bc",
   "metadata": {
    "execution": {
     "iopub.execute_input": "2025-08-19T18:27:49.919483Z",
     "iopub.status.busy": "2025-08-19T18:27:49.918137Z",
     "iopub.status.idle": "2025-08-19T18:27:49.927228Z",
     "shell.execute_reply": "2025-08-19T18:27:49.925915Z"
    },
    "papermill": {
     "duration": 0.021336,
     "end_time": "2025-08-19T18:27:49.928763",
     "exception": false,
     "start_time": "2025-08-19T18:27:49.907427",
     "status": "completed"
    },
    "tags": [
     "injected-parameters"
    ]
   },
   "outputs": [],
   "source": [
    "# Parameters\n",
    "universe_id = \"ec29d55901dd67c0006182341807c624\"\n",
    "run_no = \"3\"\n",
    "universe = \"{\\\"cutoff\\\": [\\\"quantile_0.1\\\", \\\"quantile_0.25\\\"], \\\"eval_fairness_grouping\\\": [\\\"majority-minority\\\", \\\"nationality-all\\\"], \\\"exclude_features\\\": \\\"sex\\\", \\\"exclude_subgroups\\\": \\\"keep-all\\\", \\\"model\\\": \\\"penalized_logreg\\\", \\\"scale\\\": \\\"do-not-scale\\\", \\\"training_size\\\": \\\"5k\\\", \\\"training_year\\\": \\\"2014\\\"}\"\n",
    "output_dir = \"output\"\n",
    "seed = \"2023\"\n"
   ]
  },
  {
   "cell_type": "code",
   "execution_count": 5,
   "id": "a5d7941f",
   "metadata": {
    "execution": {
     "iopub.execute_input": "2025-08-19T18:27:49.956779Z",
     "iopub.status.busy": "2025-08-19T18:27:49.955137Z",
     "iopub.status.idle": "2025-08-19T18:27:49.967289Z",
     "shell.execute_reply": "2025-08-19T18:27:49.966135Z"
    },
    "papermill": {
     "duration": 0.028401,
     "end_time": "2025-08-19T18:27:49.968680",
     "exception": false,
     "start_time": "2025-08-19T18:27:49.940279",
     "status": "completed"
    },
    "tags": []
   },
   "outputs": [],
   "source": [
    "import json\n",
    "if isinstance(universe, str):\n",
    "    universe = json.loads(universe)"
   ]
  },
  {
   "cell_type": "code",
   "execution_count": 6,
   "id": "7076ccb1",
   "metadata": {
    "execution": {
     "iopub.execute_input": "2025-08-19T18:27:49.989774Z",
     "iopub.status.busy": "2025-08-19T18:27:49.988712Z",
     "iopub.status.idle": "2025-08-19T18:27:50.044300Z",
     "shell.execute_reply": "2025-08-19T18:27:50.043660Z"
    },
    "papermill": {
     "duration": 0.068766,
     "end_time": "2025-08-19T18:27:50.046876",
     "exception": false,
     "start_time": "2025-08-19T18:27:49.978110",
     "status": "completed"
    },
    "tags": []
   },
   "outputs": [],
   "source": [
    "# Auto-reload the custom package\n",
    "%load_ext autoreload\n",
    "%autoreload 1\n",
    "%aimport fairness_multiverse"
   ]
  },
  {
   "cell_type": "code",
   "execution_count": 7,
   "id": "94c8eb93",
   "metadata": {
    "execution": {
     "iopub.execute_input": "2025-08-19T18:27:50.091460Z",
     "iopub.status.busy": "2025-08-19T18:27:50.090679Z",
     "iopub.status.idle": "2025-08-19T18:27:51.584259Z",
     "shell.execute_reply": "2025-08-19T18:27:51.582910Z"
    },
    "papermill": {
     "duration": 1.51704,
     "end_time": "2025-08-19T18:27:51.585962",
     "exception": false,
     "start_time": "2025-08-19T18:27:50.068922",
     "status": "completed"
    },
    "tags": []
   },
   "outputs": [],
   "source": [
    "from fairness_multiverse.universe import UniverseAnalysis\n",
    "\n",
    "universe_analysis = UniverseAnalysis(\n",
    "    run_no = run_no,\n",
    "    universe_id = universe_id,\n",
    "    universe = universe,\n",
    "    output_dir=output_dir,\n",
    ")"
   ]
  },
  {
   "cell_type": "code",
   "execution_count": 8,
   "id": "2a6381cf",
   "metadata": {
    "execution": {
     "iopub.execute_input": "2025-08-19T18:27:51.606454Z",
     "iopub.status.busy": "2025-08-19T18:27:51.605759Z",
     "iopub.status.idle": "2025-08-19T18:27:51.614383Z",
     "shell.execute_reply": "2025-08-19T18:27:51.613333Z"
    },
    "papermill": {
     "duration": 0.020597,
     "end_time": "2025-08-19T18:27:51.615894",
     "exception": false,
     "start_time": "2025-08-19T18:27:51.595297",
     "status": "completed"
    },
    "tags": []
   },
   "outputs": [
    {
     "name": "stdout",
     "output_type": "stream",
     "text": [
      "Using Seed: 2023\n"
     ]
    }
   ],
   "source": [
    "import numpy as np\n",
    "parsed_seed = int(seed)\n",
    "np.random.seed(parsed_seed)\n",
    "print(f\"Using Seed: {parsed_seed}\")"
   ]
  },
  {
   "cell_type": "markdown",
   "id": "b6e958b4",
   "metadata": {
    "papermill": {
     "duration": 0.009481,
     "end_time": "2025-08-19T18:27:51.636793",
     "exception": false,
     "start_time": "2025-08-19T18:27:51.627312",
     "status": "completed"
    },
    "tags": []
   },
   "source": [
    "# Loading Data"
   ]
  },
  {
   "cell_type": "code",
   "execution_count": 9,
   "id": "98701482",
   "metadata": {
    "execution": {
     "iopub.execute_input": "2025-08-19T18:27:51.657831Z",
     "iopub.status.busy": "2025-08-19T18:27:51.656454Z",
     "iopub.status.idle": "2025-08-19T18:28:02.910482Z",
     "shell.execute_reply": "2025-08-19T18:28:02.893658Z"
    },
    "papermill": {
     "duration": 11.267456,
     "end_time": "2025-08-19T18:28:02.913363",
     "exception": false,
     "start_time": "2025-08-19T18:27:51.645907",
     "status": "completed"
    },
    "tags": []
   },
   "outputs": [
    {
     "name": "stdout",
     "output_type": "stream",
     "text": [
      "Loading SIAB data from cache: data/siab_cached.csv.gz\n"
     ]
    },
    {
     "name": "stdout",
     "output_type": "stream",
     "text": [
      "(643690, 164)\n"
     ]
    }
   ],
   "source": [
    "from pathlib import Path\n",
    "import pandas as pd\n",
    "\n",
    "# File paths\n",
    "raw_file = Path(\"data/raw/siab.csv\")\n",
    "cache_file = Path(\"data/siab_cached.csv.gz\")\n",
    "\n",
    "# Ensure cache directory exists\n",
    "cache_file.parent.mkdir(parents=True, exist_ok=True)\n",
    "\n",
    "# Load with simple caching\n",
    "if cache_file.exists():\n",
    "    print(f\"Loading SIAB data from cache: {cache_file}\")\n",
    "    siab = pd.read_csv(cache_file, compression='gzip')\n",
    "else:\n",
    "    print(f\"Cache not found. Reading raw SIAB data: {raw_file}\")\n",
    "    siab = pd.read_csv(raw_file)\n",
    "    siab.to_csv(cache_file, index=False, compression='gzip')\n",
    "    print(f\"Cached SIAB data to: {cache_file}\")\n",
    "\n",
    "print(siab.shape)"
   ]
  },
  {
   "cell_type": "code",
   "execution_count": 10,
   "id": "058d2abb",
   "metadata": {
    "execution": {
     "iopub.execute_input": "2025-08-19T18:28:02.966260Z",
     "iopub.status.busy": "2025-08-19T18:28:02.965437Z",
     "iopub.status.idle": "2025-08-19T18:28:03.230009Z",
     "shell.execute_reply": "2025-08-19T18:28:03.229258Z"
    },
    "papermill": {
     "duration": 0.291778,
     "end_time": "2025-08-19T18:28:03.231264",
     "exception": false,
     "start_time": "2025-08-19T18:28:02.939486",
     "status": "completed"
    },
    "tags": []
   },
   "outputs": [
    {
     "data": {
      "text/html": [
       "<div>\n",
       "<style scoped>\n",
       "    .dataframe tbody tr th:only-of-type {\n",
       "        vertical-align: middle;\n",
       "    }\n",
       "\n",
       "    .dataframe tbody tr th {\n",
       "        vertical-align: top;\n",
       "    }\n",
       "\n",
       "    .dataframe thead th {\n",
       "        text-align: right;\n",
       "    }\n",
       "</style>\n",
       "<table border=\"1\" class=\"dataframe\">\n",
       "  <thead>\n",
       "    <tr style=\"text-align: right;\">\n",
       "      <th></th>\n",
       "      <th>persnr</th>\n",
       "      <th>year</th>\n",
       "      <th>nrEntry</th>\n",
       "      <th>ltue</th>\n",
       "      <th>employed_before</th>\n",
       "      <th>receipt_leh_before</th>\n",
       "      <th>receipt_lhg_before</th>\n",
       "      <th>se_before</th>\n",
       "      <th>ASU_notue_seeking_before</th>\n",
       "      <th>ASU_other_before</th>\n",
       "      <th>...</th>\n",
       "      <th>minijob_tot_dur_byage</th>\n",
       "      <th>ft_tot_dur_byage</th>\n",
       "      <th>befrist_tot_dur_byage</th>\n",
       "      <th>leih_tot_dur_byage</th>\n",
       "      <th>LHG_tot_dur_byage</th>\n",
       "      <th>LEH_tot_dur_byage</th>\n",
       "      <th>almp_tot_dur_byage</th>\n",
       "      <th>almp_aw_tot_dur_byage</th>\n",
       "      <th>se_tot_dur_byage</th>\n",
       "      <th>seeking1_tot_dur_byage</th>\n",
       "    </tr>\n",
       "  </thead>\n",
       "  <tbody>\n",
       "    <tr>\n",
       "      <th>0</th>\n",
       "      <td>7</td>\n",
       "      <td>2015</td>\n",
       "      <td>1</td>\n",
       "      <td>0</td>\n",
       "      <td>1</td>\n",
       "      <td>0</td>\n",
       "      <td>0</td>\n",
       "      <td>0</td>\n",
       "      <td>1</td>\n",
       "      <td>0</td>\n",
       "      <td>...</td>\n",
       "      <td>0.000000</td>\n",
       "      <td>0.000000</td>\n",
       "      <td>15.043478</td>\n",
       "      <td>0.000000</td>\n",
       "      <td>0.000000</td>\n",
       "      <td>0.000000</td>\n",
       "      <td>0.000000</td>\n",
       "      <td>0.000000</td>\n",
       "      <td>0.000000</td>\n",
       "      <td>0.000000</td>\n",
       "    </tr>\n",
       "    <tr>\n",
       "      <th>1</th>\n",
       "      <td>18</td>\n",
       "      <td>2010</td>\n",
       "      <td>1</td>\n",
       "      <td>1</td>\n",
       "      <td>0</td>\n",
       "      <td>0</td>\n",
       "      <td>0</td>\n",
       "      <td>0</td>\n",
       "      <td>0</td>\n",
       "      <td>0</td>\n",
       "      <td>...</td>\n",
       "      <td>0.000000</td>\n",
       "      <td>0.000000</td>\n",
       "      <td>0.000000</td>\n",
       "      <td>0.000000</td>\n",
       "      <td>0.000000</td>\n",
       "      <td>0.000000</td>\n",
       "      <td>0.000000</td>\n",
       "      <td>0.000000</td>\n",
       "      <td>0.000000</td>\n",
       "      <td>0.000000</td>\n",
       "    </tr>\n",
       "    <tr>\n",
       "      <th>2</th>\n",
       "      <td>18</td>\n",
       "      <td>2011</td>\n",
       "      <td>2</td>\n",
       "      <td>0</td>\n",
       "      <td>1</td>\n",
       "      <td>0</td>\n",
       "      <td>1</td>\n",
       "      <td>0</td>\n",
       "      <td>1</td>\n",
       "      <td>0</td>\n",
       "      <td>...</td>\n",
       "      <td>2.714286</td>\n",
       "      <td>2.714286</td>\n",
       "      <td>0.000000</td>\n",
       "      <td>0.000000</td>\n",
       "      <td>10.775510</td>\n",
       "      <td>0.000000</td>\n",
       "      <td>8.367347</td>\n",
       "      <td>0.000000</td>\n",
       "      <td>0.000000</td>\n",
       "      <td>9.836735</td>\n",
       "    </tr>\n",
       "    <tr>\n",
       "      <th>3</th>\n",
       "      <td>18</td>\n",
       "      <td>2012</td>\n",
       "      <td>3</td>\n",
       "      <td>0</td>\n",
       "      <td>1</td>\n",
       "      <td>0</td>\n",
       "      <td>1</td>\n",
       "      <td>0</td>\n",
       "      <td>1</td>\n",
       "      <td>0</td>\n",
       "      <td>...</td>\n",
       "      <td>4.200000</td>\n",
       "      <td>4.200000</td>\n",
       "      <td>0.000000</td>\n",
       "      <td>0.000000</td>\n",
       "      <td>12.100000</td>\n",
       "      <td>0.000000</td>\n",
       "      <td>9.400000</td>\n",
       "      <td>0.000000</td>\n",
       "      <td>0.000000</td>\n",
       "      <td>9.960000</td>\n",
       "    </tr>\n",
       "    <tr>\n",
       "      <th>4</th>\n",
       "      <td>18</td>\n",
       "      <td>2012</td>\n",
       "      <td>4</td>\n",
       "      <td>0</td>\n",
       "      <td>1</td>\n",
       "      <td>0</td>\n",
       "      <td>1</td>\n",
       "      <td>0</td>\n",
       "      <td>1</td>\n",
       "      <td>0</td>\n",
       "      <td>...</td>\n",
       "      <td>5.460000</td>\n",
       "      <td>5.460000</td>\n",
       "      <td>0.000000</td>\n",
       "      <td>0.000000</td>\n",
       "      <td>13.360000</td>\n",
       "      <td>0.000000</td>\n",
       "      <td>10.320000</td>\n",
       "      <td>0.000000</td>\n",
       "      <td>0.000000</td>\n",
       "      <td>10.280000</td>\n",
       "    </tr>\n",
       "    <tr>\n",
       "      <th>...</th>\n",
       "      <td>...</td>\n",
       "      <td>...</td>\n",
       "      <td>...</td>\n",
       "      <td>...</td>\n",
       "      <td>...</td>\n",
       "      <td>...</td>\n",
       "      <td>...</td>\n",
       "      <td>...</td>\n",
       "      <td>...</td>\n",
       "      <td>...</td>\n",
       "      <td>...</td>\n",
       "      <td>...</td>\n",
       "      <td>...</td>\n",
       "      <td>...</td>\n",
       "      <td>...</td>\n",
       "      <td>...</td>\n",
       "      <td>...</td>\n",
       "      <td>...</td>\n",
       "      <td>...</td>\n",
       "      <td>...</td>\n",
       "      <td>...</td>\n",
       "    </tr>\n",
       "    <tr>\n",
       "      <th>643685</th>\n",
       "      <td>1827860</td>\n",
       "      <td>2013</td>\n",
       "      <td>1</td>\n",
       "      <td>0</td>\n",
       "      <td>0</td>\n",
       "      <td>0</td>\n",
       "      <td>1</td>\n",
       "      <td>0</td>\n",
       "      <td>0</td>\n",
       "      <td>1</td>\n",
       "      <td>...</td>\n",
       "      <td>0.000000</td>\n",
       "      <td>0.000000</td>\n",
       "      <td>0.000000</td>\n",
       "      <td>0.000000</td>\n",
       "      <td>0.612903</td>\n",
       "      <td>0.000000</td>\n",
       "      <td>0.000000</td>\n",
       "      <td>0.000000</td>\n",
       "      <td>0.000000</td>\n",
       "      <td>0.000000</td>\n",
       "    </tr>\n",
       "    <tr>\n",
       "      <th>643686</th>\n",
       "      <td>1827860</td>\n",
       "      <td>2015</td>\n",
       "      <td>2</td>\n",
       "      <td>1</td>\n",
       "      <td>0</td>\n",
       "      <td>0</td>\n",
       "      <td>1</td>\n",
       "      <td>0</td>\n",
       "      <td>1</td>\n",
       "      <td>0</td>\n",
       "      <td>...</td>\n",
       "      <td>0.000000</td>\n",
       "      <td>0.000000</td>\n",
       "      <td>0.212121</td>\n",
       "      <td>0.212121</td>\n",
       "      <td>17.363636</td>\n",
       "      <td>0.000000</td>\n",
       "      <td>8.909091</td>\n",
       "      <td>0.000000</td>\n",
       "      <td>0.000000</td>\n",
       "      <td>7.121212</td>\n",
       "    </tr>\n",
       "    <tr>\n",
       "      <th>643687</th>\n",
       "      <td>1827860</td>\n",
       "      <td>2016</td>\n",
       "      <td>3</td>\n",
       "      <td>1</td>\n",
       "      <td>0</td>\n",
       "      <td>0</td>\n",
       "      <td>1</td>\n",
       "      <td>1</td>\n",
       "      <td>0</td>\n",
       "      <td>1</td>\n",
       "      <td>...</td>\n",
       "      <td>0.000000</td>\n",
       "      <td>0.000000</td>\n",
       "      <td>0.294118</td>\n",
       "      <td>0.205882</td>\n",
       "      <td>34.705882</td>\n",
       "      <td>0.000000</td>\n",
       "      <td>10.352941</td>\n",
       "      <td>1.705882</td>\n",
       "      <td>1.705882</td>\n",
       "      <td>23.911765</td>\n",
       "    </tr>\n",
       "    <tr>\n",
       "      <th>643688</th>\n",
       "      <td>1827869</td>\n",
       "      <td>2013</td>\n",
       "      <td>1</td>\n",
       "      <td>1</td>\n",
       "      <td>1</td>\n",
       "      <td>0</td>\n",
       "      <td>0</td>\n",
       "      <td>0</td>\n",
       "      <td>1</td>\n",
       "      <td>0</td>\n",
       "      <td>...</td>\n",
       "      <td>0.000000</td>\n",
       "      <td>0.000000</td>\n",
       "      <td>0.000000</td>\n",
       "      <td>0.000000</td>\n",
       "      <td>0.000000</td>\n",
       "      <td>0.525424</td>\n",
       "      <td>0.000000</td>\n",
       "      <td>0.000000</td>\n",
       "      <td>0.000000</td>\n",
       "      <td>0.000000</td>\n",
       "    </tr>\n",
       "    <tr>\n",
       "      <th>643689</th>\n",
       "      <td>1827869</td>\n",
       "      <td>2014</td>\n",
       "      <td>2</td>\n",
       "      <td>0</td>\n",
       "      <td>0</td>\n",
       "      <td>1</td>\n",
       "      <td>0</td>\n",
       "      <td>0</td>\n",
       "      <td>1</td>\n",
       "      <td>0</td>\n",
       "      <td>...</td>\n",
       "      <td>0.000000</td>\n",
       "      <td>0.666667</td>\n",
       "      <td>0.666667</td>\n",
       "      <td>0.000000</td>\n",
       "      <td>0.000000</td>\n",
       "      <td>8.950000</td>\n",
       "      <td>1.033333</td>\n",
       "      <td>0.083333</td>\n",
       "      <td>0.083333</td>\n",
       "      <td>8.133333</td>\n",
       "    </tr>\n",
       "  </tbody>\n",
       "</table>\n",
       "<p>643690 rows × 164 columns</p>\n",
       "</div>"
      ],
      "text/plain": [
       "         persnr  year  nrEntry  ltue  employed_before  receipt_leh_before  \\\n",
       "0             7  2015        1     0                1                   0   \n",
       "1            18  2010        1     1                0                   0   \n",
       "2            18  2011        2     0                1                   0   \n",
       "3            18  2012        3     0                1                   0   \n",
       "4            18  2012        4     0                1                   0   \n",
       "...         ...   ...      ...   ...              ...                 ...   \n",
       "643685  1827860  2013        1     0                0                   0   \n",
       "643686  1827860  2015        2     1                0                   0   \n",
       "643687  1827860  2016        3     1                0                   0   \n",
       "643688  1827869  2013        1     1                1                   0   \n",
       "643689  1827869  2014        2     0                0                   1   \n",
       "\n",
       "        receipt_lhg_before  se_before  ASU_notue_seeking_before  \\\n",
       "0                        0          0                         1   \n",
       "1                        0          0                         0   \n",
       "2                        1          0                         1   \n",
       "3                        1          0                         1   \n",
       "4                        1          0                         1   \n",
       "...                    ...        ...                       ...   \n",
       "643685                   1          0                         0   \n",
       "643686                   1          0                         1   \n",
       "643687                   1          1                         0   \n",
       "643688                   0          0                         1   \n",
       "643689                   0          0                         1   \n",
       "\n",
       "        ASU_other_before  ...  minijob_tot_dur_byage  ft_tot_dur_byage  \\\n",
       "0                      0  ...               0.000000          0.000000   \n",
       "1                      0  ...               0.000000          0.000000   \n",
       "2                      0  ...               2.714286          2.714286   \n",
       "3                      0  ...               4.200000          4.200000   \n",
       "4                      0  ...               5.460000          5.460000   \n",
       "...                  ...  ...                    ...               ...   \n",
       "643685                 1  ...               0.000000          0.000000   \n",
       "643686                 0  ...               0.000000          0.000000   \n",
       "643687                 1  ...               0.000000          0.000000   \n",
       "643688                 0  ...               0.000000          0.000000   \n",
       "643689                 0  ...               0.000000          0.666667   \n",
       "\n",
       "        befrist_tot_dur_byage  leih_tot_dur_byage  LHG_tot_dur_byage  \\\n",
       "0                   15.043478            0.000000           0.000000   \n",
       "1                    0.000000            0.000000           0.000000   \n",
       "2                    0.000000            0.000000          10.775510   \n",
       "3                    0.000000            0.000000          12.100000   \n",
       "4                    0.000000            0.000000          13.360000   \n",
       "...                       ...                 ...                ...   \n",
       "643685               0.000000            0.000000           0.612903   \n",
       "643686               0.212121            0.212121          17.363636   \n",
       "643687               0.294118            0.205882          34.705882   \n",
       "643688               0.000000            0.000000           0.000000   \n",
       "643689               0.666667            0.000000           0.000000   \n",
       "\n",
       "        LEH_tot_dur_byage  almp_tot_dur_byage  almp_aw_tot_dur_byage  \\\n",
       "0                0.000000            0.000000               0.000000   \n",
       "1                0.000000            0.000000               0.000000   \n",
       "2                0.000000            8.367347               0.000000   \n",
       "3                0.000000            9.400000               0.000000   \n",
       "4                0.000000           10.320000               0.000000   \n",
       "...                   ...                 ...                    ...   \n",
       "643685           0.000000            0.000000               0.000000   \n",
       "643686           0.000000            8.909091               0.000000   \n",
       "643687           0.000000           10.352941               1.705882   \n",
       "643688           0.525424            0.000000               0.000000   \n",
       "643689           8.950000            1.033333               0.083333   \n",
       "\n",
       "        se_tot_dur_byage  seeking1_tot_dur_byage  \n",
       "0               0.000000                0.000000  \n",
       "1               0.000000                0.000000  \n",
       "2               0.000000                9.836735  \n",
       "3               0.000000                9.960000  \n",
       "4               0.000000               10.280000  \n",
       "...                  ...                     ...  \n",
       "643685          0.000000                0.000000  \n",
       "643686          0.000000                7.121212  \n",
       "643687          1.705882               23.911765  \n",
       "643688          0.000000                0.000000  \n",
       "643689          0.083333                8.133333  \n",
       "\n",
       "[643690 rows x 164 columns]"
      ]
     },
     "execution_count": 10,
     "metadata": {},
     "output_type": "execute_result"
    }
   ],
   "source": [
    "siab"
   ]
  },
  {
   "cell_type": "markdown",
   "id": "1f87e805",
   "metadata": {
    "papermill": {
     "duration": 0.010131,
     "end_time": "2025-08-19T18:28:03.251758",
     "exception": false,
     "start_time": "2025-08-19T18:28:03.241627",
     "status": "completed"
    },
    "tags": []
   },
   "source": [
    "# Splitting Data and Setting Training Data Size"
   ]
  },
  {
   "cell_type": "code",
   "execution_count": 11,
   "id": "910ae358",
   "metadata": {
    "execution": {
     "iopub.execute_input": "2025-08-19T18:28:03.273728Z",
     "iopub.status.busy": "2025-08-19T18:28:03.272678Z",
     "iopub.status.idle": "2025-08-19T18:28:03.635110Z",
     "shell.execute_reply": "2025-08-19T18:28:03.633490Z"
    },
    "papermill": {
     "duration": 0.376496,
     "end_time": "2025-08-19T18:28:03.637996",
     "exception": false,
     "start_time": "2025-08-19T18:28:03.261500",
     "status": "completed"
    },
    "tags": []
   },
   "outputs": [],
   "source": [
    "from fairness_multiverse.universe import sample_by_year_size\n",
    "\n",
    "siab_train = sample_by_year_size(siab,\n",
    "                               training_year=universe[\"training_year\"],\n",
    "                               training_size=universe[\"training_size\"])"
   ]
  },
  {
   "cell_type": "code",
   "execution_count": 12,
   "id": "919c8ff5",
   "metadata": {
    "execution": {
     "iopub.execute_input": "2025-08-19T18:28:03.675127Z",
     "iopub.status.busy": "2025-08-19T18:28:03.673023Z",
     "iopub.status.idle": "2025-08-19T18:28:03.689849Z",
     "shell.execute_reply": "2025-08-19T18:28:03.688163Z"
    },
    "papermill": {
     "duration": 0.033115,
     "end_time": "2025-08-19T18:28:03.691839",
     "exception": false,
     "start_time": "2025-08-19T18:28:03.658724",
     "status": "completed"
    },
    "tags": []
   },
   "outputs": [
    {
     "data": {
      "text/plain": [
       "(5000, 164)"
      ]
     },
     "execution_count": 12,
     "metadata": {},
     "output_type": "execute_result"
    }
   ],
   "source": [
    "siab_train.shape"
   ]
  },
  {
   "cell_type": "code",
   "execution_count": 13,
   "id": "feb13bf4",
   "metadata": {
    "execution": {
     "iopub.execute_input": "2025-08-19T18:28:03.726427Z",
     "iopub.status.busy": "2025-08-19T18:28:03.725229Z",
     "iopub.status.idle": "2025-08-19T18:28:03.745712Z",
     "shell.execute_reply": "2025-08-19T18:28:03.744634Z"
    },
    "papermill": {
     "duration": 0.042262,
     "end_time": "2025-08-19T18:28:03.754952",
     "exception": false,
     "start_time": "2025-08-19T18:28:03.712690",
     "status": "completed"
    },
    "tags": []
   },
   "outputs": [
    {
     "data": {
      "text/plain": [
       "year\n",
       "2014    5000\n",
       "dtype: int64"
      ]
     },
     "metadata": {},
     "output_type": "display_data"
    }
   ],
   "source": [
    "display(siab_train.groupby(\"year\").size())"
   ]
  },
  {
   "cell_type": "code",
   "execution_count": 14,
   "id": "0997782f",
   "metadata": {
    "execution": {
     "iopub.execute_input": "2025-08-19T18:28:03.779777Z",
     "iopub.status.busy": "2025-08-19T18:28:03.779272Z",
     "iopub.status.idle": "2025-08-19T18:28:04.129647Z",
     "shell.execute_reply": "2025-08-19T18:28:04.128534Z"
    },
    "papermill": {
     "duration": 0.363332,
     "end_time": "2025-08-19T18:28:04.131348",
     "exception": false,
     "start_time": "2025-08-19T18:28:03.768016",
     "status": "completed"
    },
    "tags": []
   },
   "outputs": [],
   "source": [
    "#siab_train = siab_s[siab_s.year < 2015]\n",
    "siab_calib = siab[siab.year == 2015]\n",
    "siab_test = siab[siab.year == 2016]"
   ]
  },
  {
   "cell_type": "code",
   "execution_count": 15,
   "id": "2c1e4012",
   "metadata": {
    "execution": {
     "iopub.execute_input": "2025-08-19T18:28:04.176002Z",
     "iopub.status.busy": "2025-08-19T18:28:04.174531Z",
     "iopub.status.idle": "2025-08-19T18:28:04.182379Z",
     "shell.execute_reply": "2025-08-19T18:28:04.180994Z"
    },
    "papermill": {
     "duration": 0.041685,
     "end_time": "2025-08-19T18:28:04.184002",
     "exception": false,
     "start_time": "2025-08-19T18:28:04.142317",
     "status": "completed"
    },
    "tags": []
   },
   "outputs": [],
   "source": [
    "#siab_calib.shape"
   ]
  },
  {
   "cell_type": "code",
   "execution_count": 16,
   "id": "f66b54ca",
   "metadata": {
    "execution": {
     "iopub.execute_input": "2025-08-19T18:28:04.231101Z",
     "iopub.status.busy": "2025-08-19T18:28:04.230450Z",
     "iopub.status.idle": "2025-08-19T18:28:04.238714Z",
     "shell.execute_reply": "2025-08-19T18:28:04.237629Z"
    },
    "papermill": {
     "duration": 0.026097,
     "end_time": "2025-08-19T18:28:04.240162",
     "exception": false,
     "start_time": "2025-08-19T18:28:04.214065",
     "status": "completed"
    },
    "tags": []
   },
   "outputs": [],
   "source": [
    "#siab_test.shape"
   ]
  },
  {
   "cell_type": "code",
   "execution_count": 17,
   "id": "27e4384d",
   "metadata": {
    "execution": {
     "iopub.execute_input": "2025-08-19T18:28:04.266433Z",
     "iopub.status.busy": "2025-08-19T18:28:04.265440Z",
     "iopub.status.idle": "2025-08-19T18:28:04.295465Z",
     "shell.execute_reply": "2025-08-19T18:28:04.293861Z"
    },
    "papermill": {
     "duration": 0.043772,
     "end_time": "2025-08-19T18:28:04.297744",
     "exception": false,
     "start_time": "2025-08-19T18:28:04.253972",
     "status": "completed"
    },
    "tags": []
   },
   "outputs": [],
   "source": [
    "X_train = siab_train.iloc[:,4:164]\n",
    "y_train = siab_train.iloc[:, [3]]"
   ]
  },
  {
   "cell_type": "code",
   "execution_count": 18,
   "id": "08ee8389",
   "metadata": {
    "execution": {
     "iopub.execute_input": "2025-08-19T18:28:04.334512Z",
     "iopub.status.busy": "2025-08-19T18:28:04.333966Z",
     "iopub.status.idle": "2025-08-19T18:28:04.424586Z",
     "shell.execute_reply": "2025-08-19T18:28:04.423480Z"
    },
    "papermill": {
     "duration": 0.118621,
     "end_time": "2025-08-19T18:28:04.427723",
     "exception": false,
     "start_time": "2025-08-19T18:28:04.309102",
     "status": "completed"
    },
    "tags": []
   },
   "outputs": [],
   "source": [
    "X_calib = siab_calib.iloc[:,4:164]\n",
    "y_calib = siab_calib.iloc[:, [3]]"
   ]
  },
  {
   "cell_type": "code",
   "execution_count": 19,
   "id": "b7ff42e0",
   "metadata": {
    "execution": {
     "iopub.execute_input": "2025-08-19T18:28:04.468331Z",
     "iopub.status.busy": "2025-08-19T18:28:04.466994Z",
     "iopub.status.idle": "2025-08-19T18:28:04.531476Z",
     "shell.execute_reply": "2025-08-19T18:28:04.530397Z"
    },
    "papermill": {
     "duration": 0.084335,
     "end_time": "2025-08-19T18:28:04.537313",
     "exception": false,
     "start_time": "2025-08-19T18:28:04.452978",
     "status": "completed"
    },
    "tags": []
   },
   "outputs": [],
   "source": [
    "X_test = siab_test.iloc[:,4:164]\n",
    "y_true = siab_test.iloc[:, [3]]"
   ]
  },
  {
   "cell_type": "code",
   "execution_count": 20,
   "id": "0275101e",
   "metadata": {
    "execution": {
     "iopub.execute_input": "2025-08-19T18:28:04.569314Z",
     "iopub.status.busy": "2025-08-19T18:28:04.568761Z",
     "iopub.status.idle": "2025-08-19T18:28:04.684985Z",
     "shell.execute_reply": "2025-08-19T18:28:04.684058Z"
    },
    "papermill": {
     "duration": 0.136744,
     "end_time": "2025-08-19T18:28:04.687364",
     "exception": false,
     "start_time": "2025-08-19T18:28:04.550620",
     "status": "completed"
    },
    "tags": []
   },
   "outputs": [],
   "source": [
    "# Auxiliary data needed downstream in the pipeline\n",
    "\n",
    "org_train = X_train.copy()\n",
    "org_test = X_test.copy()\n",
    "org_calib = X_calib.copy()"
   ]
  },
  {
   "cell_type": "markdown",
   "id": "b461e618",
   "metadata": {
    "papermill": {
     "duration": 0.02035,
     "end_time": "2025-08-19T18:28:04.732088",
     "exception": false,
     "start_time": "2025-08-19T18:28:04.711738",
     "status": "completed"
    },
    "tags": []
   },
   "source": [
    "# Preprocessing Data"
   ]
  },
  {
   "cell_type": "code",
   "execution_count": 21,
   "id": "78e74c4b",
   "metadata": {
    "execution": {
     "iopub.execute_input": "2025-08-19T18:28:04.757146Z",
     "iopub.status.busy": "2025-08-19T18:28:04.755644Z",
     "iopub.status.idle": "2025-08-19T18:28:04.768055Z",
     "shell.execute_reply": "2025-08-19T18:28:04.766883Z"
    },
    "papermill": {
     "duration": 0.028047,
     "end_time": "2025-08-19T18:28:04.770506",
     "exception": false,
     "start_time": "2025-08-19T18:28:04.742459",
     "status": "completed"
    },
    "tags": []
   },
   "outputs": [],
   "source": [
    "# EXCLUDE PROTECTED FEATURES\n",
    "# --------------------------\n",
    "\n",
    "excluded_features = universe[\"exclude_features\"].split(\"-\")\n",
    "excluded_features_dictionary = {\n",
    "    \"nationality\": [\"maxdeutsch1\", \"maxdeutsch.Missing.\"],\n",
    "    \"sex\": [\"frau1\"],\n",
    "    \"age\": [\"age\"],\n",
    "}"
   ]
  },
  {
   "cell_type": "code",
   "execution_count": 22,
   "id": "f8e63555",
   "metadata": {
    "execution": {
     "iopub.execute_input": "2025-08-19T18:28:04.801600Z",
     "iopub.status.busy": "2025-08-19T18:28:04.799877Z",
     "iopub.status.idle": "2025-08-19T18:28:04.887796Z",
     "shell.execute_reply": "2025-08-19T18:28:04.886350Z"
    },
    "papermill": {
     "duration": 0.102977,
     "end_time": "2025-08-19T18:28:04.890840",
     "exception": false,
     "start_time": "2025-08-19T18:28:04.787863",
     "status": "completed"
    },
    "tags": []
   },
   "outputs": [],
   "source": [
    "excluded_features_columns = [\n",
    "    excluded_features_dictionary[f] for f in excluded_features if len(f) > 0 and f != \"none\"\n",
    "]"
   ]
  },
  {
   "cell_type": "code",
   "execution_count": 23,
   "id": "da781f7c",
   "metadata": {
    "execution": {
     "iopub.execute_input": "2025-08-19T18:28:04.929822Z",
     "iopub.status.busy": "2025-08-19T18:28:04.928540Z",
     "iopub.status.idle": "2025-08-19T18:28:04.938379Z",
     "shell.execute_reply": "2025-08-19T18:28:04.937157Z"
    },
    "papermill": {
     "duration": 0.029188,
     "end_time": "2025-08-19T18:28:04.943510",
     "exception": false,
     "start_time": "2025-08-19T18:28:04.914322",
     "status": "completed"
    },
    "tags": []
   },
   "outputs": [],
   "source": [
    "from fairness_multiverse.universe import flatten_once\n",
    "\n",
    "excluded_features_columns = flatten_once(excluded_features_columns)"
   ]
  },
  {
   "cell_type": "code",
   "execution_count": 24,
   "id": "37fef0f0",
   "metadata": {
    "execution": {
     "iopub.execute_input": "2025-08-19T18:28:04.972206Z",
     "iopub.status.busy": "2025-08-19T18:28:04.971757Z",
     "iopub.status.idle": "2025-08-19T18:28:04.985201Z",
     "shell.execute_reply": "2025-08-19T18:28:04.984317Z"
    },
    "papermill": {
     "duration": 0.027975,
     "end_time": "2025-08-19T18:28:04.987159",
     "exception": false,
     "start_time": "2025-08-19T18:28:04.959184",
     "status": "completed"
    },
    "tags": []
   },
   "outputs": [
    {
     "name": "stdout",
     "output_type": "stream",
     "text": [
      "Dropping features: ['frau1']\n"
     ]
    }
   ],
   "source": [
    "if len(excluded_features_columns) > 0:\n",
    "    print(f\"Dropping features: {excluded_features_columns}\")\n",
    "    X_train.drop(excluded_features_columns, axis=1, inplace=True)"
   ]
  },
  {
   "cell_type": "code",
   "execution_count": 25,
   "id": "d029e3e9",
   "metadata": {
    "execution": {
     "iopub.execute_input": "2025-08-19T18:28:05.017797Z",
     "iopub.status.busy": "2025-08-19T18:28:05.016786Z",
     "iopub.status.idle": "2025-08-19T18:28:05.079271Z",
     "shell.execute_reply": "2025-08-19T18:28:05.078288Z"
    },
    "papermill": {
     "duration": 0.078484,
     "end_time": "2025-08-19T18:28:05.081818",
     "exception": false,
     "start_time": "2025-08-19T18:28:05.003334",
     "status": "completed"
    },
    "tags": []
   },
   "outputs": [
    {
     "name": "stdout",
     "output_type": "stream",
     "text": [
      "Dropping features: ['frau1']\n"
     ]
    }
   ],
   "source": [
    "if len(excluded_features_columns) > 0:\n",
    "    print(f\"Dropping features: {excluded_features_columns}\")\n",
    "    X_test.drop(excluded_features_columns, axis=1, inplace=True)"
   ]
  },
  {
   "cell_type": "code",
   "execution_count": 26,
   "id": "01d571f0",
   "metadata": {
    "execution": {
     "iopub.execute_input": "2025-08-19T18:28:05.120037Z",
     "iopub.status.busy": "2025-08-19T18:28:05.118889Z",
     "iopub.status.idle": "2025-08-19T18:28:05.174676Z",
     "shell.execute_reply": "2025-08-19T18:28:05.173811Z"
    },
    "papermill": {
     "duration": 0.071783,
     "end_time": "2025-08-19T18:28:05.176873",
     "exception": false,
     "start_time": "2025-08-19T18:28:05.105090",
     "status": "completed"
    },
    "tags": []
   },
   "outputs": [
    {
     "name": "stdout",
     "output_type": "stream",
     "text": [
      "Dropping features: ['frau1']\n"
     ]
    }
   ],
   "source": [
    "if len(excluded_features_columns) > 0:\n",
    "    print(f\"Dropping features: {excluded_features_columns}\")\n",
    "    X_calib.drop(excluded_features_columns, axis=1, inplace=True)"
   ]
  },
  {
   "cell_type": "code",
   "execution_count": 27,
   "id": "3037356e",
   "metadata": {
    "execution": {
     "iopub.execute_input": "2025-08-19T18:28:05.221307Z",
     "iopub.status.busy": "2025-08-19T18:28:05.220085Z",
     "iopub.status.idle": "2025-08-19T18:28:05.229762Z",
     "shell.execute_reply": "2025-08-19T18:28:05.228286Z"
    },
    "papermill": {
     "duration": 0.03593,
     "end_time": "2025-08-19T18:28:05.231265",
     "exception": false,
     "start_time": "2025-08-19T18:28:05.195335",
     "status": "completed"
    },
    "tags": []
   },
   "outputs": [],
   "source": [
    "# EXCLUDE CERTAIN SUBGROUPS\n",
    "# -------------------------\n",
    "\n",
    "mode = universe.get(\"exclude_subgroups\", \"keep-all\") # Defaults to \"keep-all\" if the key is missing."
   ]
  },
  {
   "cell_type": "code",
   "execution_count": 28,
   "id": "9d1e63fd",
   "metadata": {
    "execution": {
     "iopub.execute_input": "2025-08-19T18:28:05.274606Z",
     "iopub.status.busy": "2025-08-19T18:28:05.273467Z",
     "iopub.status.idle": "2025-08-19T18:28:05.285423Z",
     "shell.execute_reply": "2025-08-19T18:28:05.284382Z"
    },
    "papermill": {
     "duration": 0.026287,
     "end_time": "2025-08-19T18:28:05.287457",
     "exception": false,
     "start_time": "2025-08-19T18:28:05.261170",
     "status": "completed"
    },
    "tags": []
   },
   "outputs": [],
   "source": [
    "if mode == \"keep-all\":\n",
    "    keep_mask = pd.Series(True, index=org_train.index)\n",
    "\n",
    "elif mode == \"drop-non-german\":\n",
    "    keep_mask = (org_train[\"maxdeutsch1\"] == 1) & (org_train[\"maxdeutsch.Missing.\"] == 0)\n",
    "\n",
    "else:\n",
    "    raise ValueError(f\"Unsupported mode for exclude_subgroups: {mode}\")"
   ]
  },
  {
   "cell_type": "code",
   "execution_count": 29,
   "id": "d3b65474",
   "metadata": {
    "execution": {
     "iopub.execute_input": "2025-08-19T18:28:05.314158Z",
     "iopub.status.busy": "2025-08-19T18:28:05.313590Z",
     "iopub.status.idle": "2025-08-19T18:28:05.319788Z",
     "shell.execute_reply": "2025-08-19T18:28:05.318989Z"
    },
    "papermill": {
     "duration": 0.021045,
     "end_time": "2025-08-19T18:28:05.321276",
     "exception": false,
     "start_time": "2025-08-19T18:28:05.300231",
     "status": "completed"
    },
    "tags": []
   },
   "outputs": [],
   "source": [
    "n_drop = (~keep_mask).sum() # Calculates how many rows are set to be dropped\n",
    "if n_drop > 0:\n",
    "    pct = n_drop / len(keep_mask) * 100\n",
    "    print(f\"Dropping {n_drop} rows ({pct:.2f}%) where mode='{mode}'\")"
   ]
  },
  {
   "cell_type": "code",
   "execution_count": 30,
   "id": "f44389b3",
   "metadata": {
    "execution": {
     "iopub.execute_input": "2025-08-19T18:28:05.356045Z",
     "iopub.status.busy": "2025-08-19T18:28:05.354799Z",
     "iopub.status.idle": "2025-08-19T18:28:05.370836Z",
     "shell.execute_reply": "2025-08-19T18:28:05.369499Z"
    },
    "papermill": {
     "duration": 0.039369,
     "end_time": "2025-08-19T18:28:05.373537",
     "exception": false,
     "start_time": "2025-08-19T18:28:05.334168",
     "status": "completed"
    },
    "tags": []
   },
   "outputs": [],
   "source": [
    "X_train = X_train[keep_mask]"
   ]
  },
  {
   "cell_type": "code",
   "execution_count": 31,
   "id": "ceca8c2a",
   "metadata": {
    "execution": {
     "iopub.execute_input": "2025-08-19T18:28:05.411673Z",
     "iopub.status.busy": "2025-08-19T18:28:05.410185Z",
     "iopub.status.idle": "2025-08-19T18:28:05.419851Z",
     "shell.execute_reply": "2025-08-19T18:28:05.418413Z"
    },
    "papermill": {
     "duration": 0.030445,
     "end_time": "2025-08-19T18:28:05.423133",
     "exception": false,
     "start_time": "2025-08-19T18:28:05.392688",
     "status": "completed"
    },
    "tags": []
   },
   "outputs": [],
   "source": [
    "y_train = y_train[keep_mask]"
   ]
  },
  {
   "cell_type": "markdown",
   "id": "04d31e2f",
   "metadata": {
    "papermill": {
     "duration": 0.01036,
     "end_time": "2025-08-19T18:28:05.447342",
     "exception": false,
     "start_time": "2025-08-19T18:28:05.436982",
     "status": "completed"
    },
    "tags": []
   },
   "source": [
    "# Model Training"
   ]
  },
  {
   "cell_type": "code",
   "execution_count": 32,
   "id": "db991733",
   "metadata": {
    "execution": {
     "iopub.execute_input": "2025-08-19T18:28:05.471112Z",
     "iopub.status.busy": "2025-08-19T18:28:05.469921Z",
     "iopub.status.idle": "2025-08-19T18:28:05.594276Z",
     "shell.execute_reply": "2025-08-19T18:28:05.593331Z"
    },
    "papermill": {
     "duration": 0.138384,
     "end_time": "2025-08-19T18:28:05.596070",
     "exception": false,
     "start_time": "2025-08-19T18:28:05.457686",
     "status": "completed"
    },
    "tags": []
   },
   "outputs": [],
   "source": [
    "from sklearn.linear_model import LogisticRegression\n",
    "from sklearn.ensemble import GradientBoostingClassifier, RandomForestClassifier\n",
    "\n",
    "if (universe[\"model\"] == \"logreg\"):\n",
    "    model = LogisticRegression() #penalty=\"none\", solver=\"newton-cg\", max_iter=1)\n",
    "elif (universe[\"model\"] == \"penalized_logreg\"):\n",
    "    model = LogisticRegression(penalty=\"l2\", C=0.1) #, solver=\"newton-cg\", max_iter=1)\n",
    "elif (universe[\"model\"] == \"rf\"):\n",
    "    model = RandomForestClassifier() # n_estimators=100, n_jobs=-1\n",
    "elif (universe[\"model\"] == \"gbm\"):\n",
    "    model = GradientBoostingClassifier()\n",
    "elif (universe[\"model\"] == \"elasticnet\"):\n",
    "    model = LogisticRegression(penalty = 'elasticnet', solver = 'saga', l1_ratio = 0.5) # max_iter=5000\n",
    "else:\n",
    "    raise \"Unsupported universe.model\""
   ]
  },
  {
   "cell_type": "code",
   "execution_count": 33,
   "id": "a4b5cd25",
   "metadata": {
    "execution": {
     "iopub.execute_input": "2025-08-19T18:28:05.642301Z",
     "iopub.status.busy": "2025-08-19T18:28:05.641726Z",
     "iopub.status.idle": "2025-08-19T18:28:05.649154Z",
     "shell.execute_reply": "2025-08-19T18:28:05.648151Z"
    },
    "papermill": {
     "duration": 0.032338,
     "end_time": "2025-08-19T18:28:05.650826",
     "exception": false,
     "start_time": "2025-08-19T18:28:05.618488",
     "status": "completed"
    },
    "tags": []
   },
   "outputs": [],
   "source": [
    "from sklearn.pipeline import Pipeline\n",
    "from sklearn.preprocessing import StandardScaler\n",
    "\n",
    "model = Pipeline([\n",
    "    #(\"continuous_processor\", continuous_processor),\n",
    "    #(\"categorical_preprocessor\", categorical_preprocessor),\n",
    "    (\"scale\", StandardScaler() if universe[\"scale\"] == \"scale\" else None), \n",
    "    (\"model\", model),\n",
    "])"
   ]
  },
  {
   "cell_type": "code",
   "execution_count": 34,
   "id": "283a904d",
   "metadata": {
    "execution": {
     "iopub.execute_input": "2025-08-19T18:28:05.675677Z",
     "iopub.status.busy": "2025-08-19T18:28:05.674587Z",
     "iopub.status.idle": "2025-08-19T18:28:05.865715Z",
     "shell.execute_reply": "2025-08-19T18:28:05.864984Z"
    },
    "papermill": {
     "duration": 0.205583,
     "end_time": "2025-08-19T18:28:05.867347",
     "exception": false,
     "start_time": "2025-08-19T18:28:05.661764",
     "status": "completed"
    },
    "tags": []
   },
   "outputs": [
    {
     "name": "stderr",
     "output_type": "stream",
     "text": [
      "/dss/dsshome1/0C/ra93lal2/.local/share/virtualenvs/CMA_Fairness_v2-3j10GkSs/lib/python3.10/site-packages/sklearn/linear_model/_logistic.py:444: ConvergenceWarning: lbfgs failed to converge (status=1):\n",
      "STOP: TOTAL NO. of ITERATIONS REACHED LIMIT.\n",
      "\n",
      "Increase the number of iterations (max_iter) or scale the data as shown in:\n",
      "    https://scikit-learn.org/stable/modules/preprocessing.html\n",
      "Please also refer to the documentation for alternative solver options:\n",
      "    https://scikit-learn.org/stable/modules/linear_model.html#logistic-regression\n",
      "  n_iter_i = _check_optimize_result(\n"
     ]
    },
    {
     "data": {
      "text/html": [
       "<style>#sk-container-id-1 {color: black;background-color: white;}#sk-container-id-1 pre{padding: 0;}#sk-container-id-1 div.sk-toggleable {background-color: white;}#sk-container-id-1 label.sk-toggleable__label {cursor: pointer;display: block;width: 100%;margin-bottom: 0;padding: 0.3em;box-sizing: border-box;text-align: center;}#sk-container-id-1 label.sk-toggleable__label-arrow:before {content: \"▸\";float: left;margin-right: 0.25em;color: #696969;}#sk-container-id-1 label.sk-toggleable__label-arrow:hover:before {color: black;}#sk-container-id-1 div.sk-estimator:hover label.sk-toggleable__label-arrow:before {color: black;}#sk-container-id-1 div.sk-toggleable__content {max-height: 0;max-width: 0;overflow: hidden;text-align: left;background-color: #f0f8ff;}#sk-container-id-1 div.sk-toggleable__content pre {margin: 0.2em;color: black;border-radius: 0.25em;background-color: #f0f8ff;}#sk-container-id-1 input.sk-toggleable__control:checked~div.sk-toggleable__content {max-height: 200px;max-width: 100%;overflow: auto;}#sk-container-id-1 input.sk-toggleable__control:checked~label.sk-toggleable__label-arrow:before {content: \"▾\";}#sk-container-id-1 div.sk-estimator input.sk-toggleable__control:checked~label.sk-toggleable__label {background-color: #d4ebff;}#sk-container-id-1 div.sk-label input.sk-toggleable__control:checked~label.sk-toggleable__label {background-color: #d4ebff;}#sk-container-id-1 input.sk-hidden--visually {border: 0;clip: rect(1px 1px 1px 1px);clip: rect(1px, 1px, 1px, 1px);height: 1px;margin: -1px;overflow: hidden;padding: 0;position: absolute;width: 1px;}#sk-container-id-1 div.sk-estimator {font-family: monospace;background-color: #f0f8ff;border: 1px dotted black;border-radius: 0.25em;box-sizing: border-box;margin-bottom: 0.5em;}#sk-container-id-1 div.sk-estimator:hover {background-color: #d4ebff;}#sk-container-id-1 div.sk-parallel-item::after {content: \"\";width: 100%;border-bottom: 1px solid gray;flex-grow: 1;}#sk-container-id-1 div.sk-label:hover label.sk-toggleable__label {background-color: #d4ebff;}#sk-container-id-1 div.sk-serial::before {content: \"\";position: absolute;border-left: 1px solid gray;box-sizing: border-box;top: 0;bottom: 0;left: 50%;z-index: 0;}#sk-container-id-1 div.sk-serial {display: flex;flex-direction: column;align-items: center;background-color: white;padding-right: 0.2em;padding-left: 0.2em;position: relative;}#sk-container-id-1 div.sk-item {position: relative;z-index: 1;}#sk-container-id-1 div.sk-parallel {display: flex;align-items: stretch;justify-content: center;background-color: white;position: relative;}#sk-container-id-1 div.sk-item::before, #sk-container-id-1 div.sk-parallel-item::before {content: \"\";position: absolute;border-left: 1px solid gray;box-sizing: border-box;top: 0;bottom: 0;left: 50%;z-index: -1;}#sk-container-id-1 div.sk-parallel-item {display: flex;flex-direction: column;z-index: 1;position: relative;background-color: white;}#sk-container-id-1 div.sk-parallel-item:first-child::after {align-self: flex-end;width: 50%;}#sk-container-id-1 div.sk-parallel-item:last-child::after {align-self: flex-start;width: 50%;}#sk-container-id-1 div.sk-parallel-item:only-child::after {width: 0;}#sk-container-id-1 div.sk-dashed-wrapped {border: 1px dashed gray;margin: 0 0.4em 0.5em 0.4em;box-sizing: border-box;padding-bottom: 0.4em;background-color: white;}#sk-container-id-1 div.sk-label label {font-family: monospace;font-weight: bold;display: inline-block;line-height: 1.2em;}#sk-container-id-1 div.sk-label-container {text-align: center;}#sk-container-id-1 div.sk-container {/* jupyter's `normalize.less` sets `[hidden] { display: none; }` but bootstrap.min.css set `[hidden] { display: none !important; }` so we also need the `!important` here to be able to override the default hidden behavior on the sphinx rendered scikit-learn.org. See: https://github.com/scikit-learn/scikit-learn/issues/21755 */display: inline-block !important;position: relative;}#sk-container-id-1 div.sk-text-repr-fallback {display: none;}</style><div id=\"sk-container-id-1\" class=\"sk-top-container\"><div class=\"sk-text-repr-fallback\"><pre>Pipeline(steps=[(&#x27;scale&#x27;, None), (&#x27;model&#x27;, LogisticRegression(C=0.1))])</pre><b>In a Jupyter environment, please rerun this cell to show the HTML representation or trust the notebook. <br />On GitHub, the HTML representation is unable to render, please try loading this page with nbviewer.org.</b></div><div class=\"sk-container\" hidden><div class=\"sk-item sk-dashed-wrapped\"><div class=\"sk-label-container\"><div class=\"sk-label sk-toggleable\"><input class=\"sk-toggleable__control sk-hidden--visually\" id=\"sk-estimator-id-1\" type=\"checkbox\" ><label for=\"sk-estimator-id-1\" class=\"sk-toggleable__label sk-toggleable__label-arrow\">Pipeline</label><div class=\"sk-toggleable__content\"><pre>Pipeline(steps=[(&#x27;scale&#x27;, None), (&#x27;model&#x27;, LogisticRegression(C=0.1))])</pre></div></div></div><div class=\"sk-serial\"><div class=\"sk-item\"><div class=\"sk-estimator sk-toggleable\"><input class=\"sk-toggleable__control sk-hidden--visually\" id=\"sk-estimator-id-2\" type=\"checkbox\" ><label for=\"sk-estimator-id-2\" class=\"sk-toggleable__label sk-toggleable__label-arrow\">None</label><div class=\"sk-toggleable__content\"><pre>None</pre></div></div></div><div class=\"sk-item\"><div class=\"sk-estimator sk-toggleable\"><input class=\"sk-toggleable__control sk-hidden--visually\" id=\"sk-estimator-id-3\" type=\"checkbox\" ><label for=\"sk-estimator-id-3\" class=\"sk-toggleable__label sk-toggleable__label-arrow\">LogisticRegression</label><div class=\"sk-toggleable__content\"><pre>LogisticRegression(C=0.1)</pre></div></div></div></div></div></div></div>"
      ],
      "text/plain": [
       "Pipeline(steps=[('scale', None), ('model', LogisticRegression(C=0.1))])"
      ]
     },
     "execution_count": 34,
     "metadata": {},
     "output_type": "execute_result"
    }
   ],
   "source": [
    "model.fit(X_train, y_train.values.ravel())"
   ]
  },
  {
   "cell_type": "code",
   "execution_count": 35,
   "id": "6e15e313",
   "metadata": {
    "execution": {
     "iopub.execute_input": "2025-08-19T18:28:05.893564Z",
     "iopub.status.busy": "2025-08-19T18:28:05.892622Z",
     "iopub.status.idle": "2025-08-19T18:28:06.066544Z",
     "shell.execute_reply": "2025-08-19T18:28:06.065495Z"
    },
    "papermill": {
     "duration": 0.188776,
     "end_time": "2025-08-19T18:28:06.069154",
     "exception": false,
     "start_time": "2025-08-19T18:28:05.880378",
     "status": "completed"
    },
    "tags": []
   },
   "outputs": [
    {
     "data": {
      "text/plain": [
       "0.8598595474306098"
      ]
     },
     "execution_count": 35,
     "metadata": {},
     "output_type": "execute_result"
    }
   ],
   "source": [
    "from fairness_multiverse.universe import predict_w_threshold\n",
    "\n",
    "probs_test = model.predict_proba(X_test)\n",
    "\n",
    "'''\n",
    "Below code returns a boolean array (or binary 0/1 array depending on how it’s used) where each element \n",
    "is True if the probability of class 1 is greater than or equal to the threshold, and False otherwise.\n",
    "'''\n",
    "y_pred_default = predict_w_threshold(probs_test, 0.5)\n",
    "\n",
    "from sklearn.metrics import accuracy_score\n",
    "\n",
    "# Naive prediction\n",
    "accuracy_score(y_true = y_true, y_pred = y_pred_default)"
   ]
  },
  {
   "cell_type": "code",
   "execution_count": 36,
   "id": "6f14067c",
   "metadata": {
    "execution": {
     "iopub.execute_input": "2025-08-19T18:28:06.106661Z",
     "iopub.status.busy": "2025-08-19T18:28:06.105808Z",
     "iopub.status.idle": "2025-08-19T18:28:06.231893Z",
     "shell.execute_reply": "2025-08-19T18:28:06.230556Z"
    },
    "papermill": {
     "duration": 0.146066,
     "end_time": "2025-08-19T18:28:06.234976",
     "exception": false,
     "start_time": "2025-08-19T18:28:06.088910",
     "status": "completed"
    },
    "tags": []
   },
   "outputs": [
    {
     "data": {
      "text/plain": [
       "array([0, 0, 0, ..., 0, 0, 0])"
      ]
     },
     "execution_count": 36,
     "metadata": {},
     "output_type": "execute_result"
    }
   ],
   "source": [
    "model.predict(X_test)"
   ]
  },
  {
   "cell_type": "markdown",
   "id": "3759920c",
   "metadata": {
    "papermill": {
     "duration": 0.014724,
     "end_time": "2025-08-19T18:28:06.272553",
     "exception": false,
     "start_time": "2025-08-19T18:28:06.257829",
     "status": "completed"
    },
    "tags": []
   },
   "source": [
    "# Conformal Prediction"
   ]
  },
  {
   "cell_type": "code",
   "execution_count": 37,
   "id": "14b27f59",
   "metadata": {
    "execution": {
     "iopub.execute_input": "2025-08-19T18:28:06.310969Z",
     "iopub.status.busy": "2025-08-19T18:28:06.309912Z",
     "iopub.status.idle": "2025-08-19T18:28:06.315058Z",
     "shell.execute_reply": "2025-08-19T18:28:06.314259Z"
    },
    "papermill": {
     "duration": 0.029113,
     "end_time": "2025-08-19T18:28:06.316582",
     "exception": false,
     "start_time": "2025-08-19T18:28:06.287469",
     "status": "completed"
    },
    "tags": []
   },
   "outputs": [],
   "source": [
    "# Miscoverage level for conformal prediction (10% allowed error rate => 90% target coverage)\n",
    "alpha = 0.1"
   ]
  },
  {
   "cell_type": "code",
   "execution_count": 38,
   "id": "59102472",
   "metadata": {
    "execution": {
     "iopub.execute_input": "2025-08-19T18:28:06.346186Z",
     "iopub.status.busy": "2025-08-19T18:28:06.345211Z",
     "iopub.status.idle": "2025-08-19T18:28:06.446276Z",
     "shell.execute_reply": "2025-08-19T18:28:06.445351Z"
    },
    "papermill": {
     "duration": 0.118504,
     "end_time": "2025-08-19T18:28:06.448049",
     "exception": false,
     "start_time": "2025-08-19T18:28:06.329545",
     "status": "completed"
    },
    "tags": []
   },
   "outputs": [],
   "source": [
    "probs_calib = model.predict_proba(X_calib)"
   ]
  },
  {
   "cell_type": "code",
   "execution_count": 39,
   "id": "a792d4dd",
   "metadata": {
    "execution": {
     "iopub.execute_input": "2025-08-19T18:28:06.478107Z",
     "iopub.status.busy": "2025-08-19T18:28:06.476879Z",
     "iopub.status.idle": "2025-08-19T18:28:06.484144Z",
     "shell.execute_reply": "2025-08-19T18:28:06.483318Z"
    },
    "papermill": {
     "duration": 0.023334,
     "end_time": "2025-08-19T18:28:06.485616",
     "exception": false,
     "start_time": "2025-08-19T18:28:06.462282",
     "status": "completed"
    },
    "tags": []
   },
   "outputs": [],
   "source": [
    "y_calib = y_calib.values.ravel().astype(int)"
   ]
  },
  {
   "cell_type": "code",
   "execution_count": 40,
   "id": "650fd033",
   "metadata": {
    "execution": {
     "iopub.execute_input": "2025-08-19T18:28:06.524608Z",
     "iopub.status.busy": "2025-08-19T18:28:06.524177Z",
     "iopub.status.idle": "2025-08-19T18:28:06.531075Z",
     "shell.execute_reply": "2025-08-19T18:28:06.530304Z"
    },
    "papermill": {
     "duration": 0.042092,
     "end_time": "2025-08-19T18:28:06.539425",
     "exception": false,
     "start_time": "2025-08-19T18:28:06.497333",
     "status": "completed"
    },
    "tags": []
   },
   "outputs": [],
   "source": [
    "from fairness_multiverse.conformal import compute_nc_scores\n",
    "\n",
    "# Compute nonconformity scores on calibration set (1 - probability of true class)\n",
    "nc_scores = compute_nc_scores(probs_calib, y_calib)"
   ]
  },
  {
   "cell_type": "code",
   "execution_count": 41,
   "id": "28ada44c",
   "metadata": {
    "execution": {
     "iopub.execute_input": "2025-08-19T18:28:06.571800Z",
     "iopub.status.busy": "2025-08-19T18:28:06.570831Z",
     "iopub.status.idle": "2025-08-19T18:28:06.577051Z",
     "shell.execute_reply": "2025-08-19T18:28:06.576390Z"
    },
    "papermill": {
     "duration": 0.025888,
     "end_time": "2025-08-19T18:28:06.584196",
     "exception": false,
     "start_time": "2025-08-19T18:28:06.558308",
     "status": "completed"
    },
    "tags": []
   },
   "outputs": [],
   "source": [
    "from fairness_multiverse.conformal import find_threshold\n",
    "\n",
    "# Find conformal threshold q_hat for the given alpha (split conformal method)\n",
    "q_hat = find_threshold(nc_scores, alpha)"
   ]
  },
  {
   "cell_type": "code",
   "execution_count": 42,
   "id": "df56469e",
   "metadata": {
    "execution": {
     "iopub.execute_input": "2025-08-19T18:28:06.644866Z",
     "iopub.status.busy": "2025-08-19T18:28:06.643768Z",
     "iopub.status.idle": "2025-08-19T18:28:06.653973Z",
     "shell.execute_reply": "2025-08-19T18:28:06.653042Z"
    },
    "papermill": {
     "duration": 0.042231,
     "end_time": "2025-08-19T18:28:06.655633",
     "exception": false,
     "start_time": "2025-08-19T18:28:06.613402",
     "status": "completed"
    },
    "tags": []
   },
   "outputs": [
    {
     "data": {
      "text/plain": [
       "0.6780862830759682"
      ]
     },
     "execution_count": 42,
     "metadata": {},
     "output_type": "execute_result"
    }
   ],
   "source": [
    "q_hat"
   ]
  },
  {
   "cell_type": "code",
   "execution_count": 43,
   "id": "aa1f5faa",
   "metadata": {
    "execution": {
     "iopub.execute_input": "2025-08-19T18:28:06.687745Z",
     "iopub.status.busy": "2025-08-19T18:28:06.686902Z",
     "iopub.status.idle": "2025-08-19T18:28:07.353798Z",
     "shell.execute_reply": "2025-08-19T18:28:07.352295Z"
    },
    "papermill": {
     "duration": 0.682584,
     "end_time": "2025-08-19T18:28:07.355845",
     "exception": false,
     "start_time": "2025-08-19T18:28:06.673261",
     "status": "completed"
    },
    "tags": []
   },
   "outputs": [],
   "source": [
    "from fairness_multiverse.conformal import predict_conformal_sets\n",
    "\n",
    "# Generate prediction sets for each test example\n",
    "pred_sets = predict_conformal_sets(model, X_test, q_hat)"
   ]
  },
  {
   "cell_type": "code",
   "execution_count": 44,
   "id": "97f67a6b",
   "metadata": {
    "execution": {
     "iopub.execute_input": "2025-08-19T18:28:07.394213Z",
     "iopub.status.busy": "2025-08-19T18:28:07.392948Z",
     "iopub.status.idle": "2025-08-19T18:28:07.404866Z",
     "shell.execute_reply": "2025-08-19T18:28:07.403301Z"
    },
    "papermill": {
     "duration": 0.032696,
     "end_time": "2025-08-19T18:28:07.409728",
     "exception": false,
     "start_time": "2025-08-19T18:28:07.377032",
     "status": "completed"
    },
    "tags": []
   },
   "outputs": [],
   "source": [
    "y_true = y_true.squeeze()"
   ]
  },
  {
   "cell_type": "code",
   "execution_count": 45,
   "id": "e700e9a7",
   "metadata": {
    "execution": {
     "iopub.execute_input": "2025-08-19T18:28:07.446752Z",
     "iopub.status.busy": "2025-08-19T18:28:07.445455Z",
     "iopub.status.idle": "2025-08-19T18:28:07.981913Z",
     "shell.execute_reply": "2025-08-19T18:28:07.966774Z"
    },
    "papermill": {
     "duration": 0.553199,
     "end_time": "2025-08-19T18:28:07.984223",
     "exception": false,
     "start_time": "2025-08-19T18:28:07.431024",
     "status": "completed"
    },
    "tags": []
   },
   "outputs": [],
   "source": [
    "from fairness_multiverse.conformal import evaluate_sets\n",
    "\n",
    "# Evaluate coverage and average set size on test data\n",
    "metrics = evaluate_sets(pred_sets, y_true)"
   ]
  },
  {
   "cell_type": "markdown",
   "id": "efbacec0",
   "metadata": {
    "papermill": {
     "duration": 0.013377,
     "end_time": "2025-08-19T18:28:08.018518",
     "exception": false,
     "start_time": "2025-08-19T18:28:08.005141",
     "status": "completed"
    },
    "tags": []
   },
   "source": [
    "# CP Metrics"
   ]
  },
  {
   "cell_type": "code",
   "execution_count": 46,
   "id": "9de55fb1",
   "metadata": {
    "execution": {
     "iopub.execute_input": "2025-08-19T18:28:08.078156Z",
     "iopub.status.busy": "2025-08-19T18:28:08.077623Z",
     "iopub.status.idle": "2025-08-19T18:28:08.086042Z",
     "shell.execute_reply": "2025-08-19T18:28:08.085246Z"
    },
    "papermill": {
     "duration": 0.04072,
     "end_time": "2025-08-19T18:28:08.087528",
     "exception": false,
     "start_time": "2025-08-19T18:28:08.046808",
     "status": "completed"
    },
    "tags": []
   },
   "outputs": [
    {
     "data": {
      "text/plain": [
       "{'coverage': 0.9119050273102218, 'avg_size': 1.1954631590681084}"
      ]
     },
     "execution_count": 46,
     "metadata": {},
     "output_type": "execute_result"
    }
   ],
   "source": [
    "metrics"
   ]
  },
  {
   "cell_type": "code",
   "execution_count": 47,
   "id": "64c340a1",
   "metadata": {
    "execution": {
     "iopub.execute_input": "2025-08-19T18:28:08.115239Z",
     "iopub.status.busy": "2025-08-19T18:28:08.114859Z",
     "iopub.status.idle": "2025-08-19T18:28:08.120386Z",
     "shell.execute_reply": "2025-08-19T18:28:08.119738Z"
    },
    "papermill": {
     "duration": 0.020828,
     "end_time": "2025-08-19T18:28:08.122588",
     "exception": false,
     "start_time": "2025-08-19T18:28:08.101760",
     "status": "completed"
    },
    "tags": []
   },
   "outputs": [],
   "source": [
    "example_universe = universe.copy()\n",
    "universe_training_year = example_universe.get(\"training_year\")\n",
    "universe_training_size = example_universe.get(\"training_size\")\n",
    "universe_scale = example_universe.get(\"scale\")\n",
    "universe_model = example_universe.get(\"model\")\n",
    "universe_exclude_features = example_universe.get(\"exclude_features\")\n",
    "universe_exclude_subgroups = example_universe.get(\"exclude_subgroups\")"
   ]
  },
  {
   "cell_type": "code",
   "execution_count": 48,
   "id": "dbb53cb4",
   "metadata": {
    "execution": {
     "iopub.execute_input": "2025-08-19T18:28:08.162765Z",
     "iopub.status.busy": "2025-08-19T18:28:08.162376Z",
     "iopub.status.idle": "2025-08-19T18:28:08.167557Z",
     "shell.execute_reply": "2025-08-19T18:28:08.166843Z"
    },
    "papermill": {
     "duration": 0.025852,
     "end_time": "2025-08-19T18:28:08.174568",
     "exception": false,
     "start_time": "2025-08-19T18:28:08.148716",
     "status": "completed"
    },
    "tags": []
   },
   "outputs": [],
   "source": [
    "cp_metrics_dict = {\n",
    "    \"universe_id\": [universe_id],\n",
    "    \"universe_training_year\": [universe_training_year],\n",
    "    \"universe_training_size\": [universe_training_size],\n",
    "    \"universe_scale\": [universe_scale],\n",
    "    \"universe_model\": [universe_model],\n",
    "    \"universe_exclude_features\": [universe_exclude_features],\n",
    "    \"universe_exclude_subgroups\": [universe_exclude_subgroups],\n",
    "    \"q_hat\": [q_hat],\n",
    "    \"coverage\": [metrics[\"coverage\"]],\n",
    "    \"avg_size\": [metrics[\"avg_size\"]],\n",
    "}"
   ]
  },
  {
   "cell_type": "code",
   "execution_count": 49,
   "id": "0d70d4b2",
   "metadata": {
    "execution": {
     "iopub.execute_input": "2025-08-19T18:28:08.245884Z",
     "iopub.status.busy": "2025-08-19T18:28:08.245477Z",
     "iopub.status.idle": "2025-08-19T18:28:08.251869Z",
     "shell.execute_reply": "2025-08-19T18:28:08.251054Z"
    },
    "papermill": {
     "duration": 0.023175,
     "end_time": "2025-08-19T18:28:08.253216",
     "exception": false,
     "start_time": "2025-08-19T18:28:08.230041",
     "status": "completed"
    },
    "tags": []
   },
   "outputs": [],
   "source": [
    "cp_metrics_df = pd.DataFrame(cp_metrics_dict)"
   ]
  },
  {
   "cell_type": "code",
   "execution_count": 50,
   "id": "b494403c",
   "metadata": {
    "execution": {
     "iopub.execute_input": "2025-08-19T18:28:08.280852Z",
     "iopub.status.busy": "2025-08-19T18:28:08.280466Z",
     "iopub.status.idle": "2025-08-19T18:28:08.509729Z",
     "shell.execute_reply": "2025-08-19T18:28:08.508010Z"
    },
    "papermill": {
     "duration": 0.244354,
     "end_time": "2025-08-19T18:28:08.511345",
     "exception": false,
     "start_time": "2025-08-19T18:28:08.266991",
     "status": "completed"
    },
    "tags": []
   },
   "outputs": [
    {
     "data": {
      "text/html": [
       "<div>\n",
       "<style scoped>\n",
       "    .dataframe tbody tr th:only-of-type {\n",
       "        vertical-align: middle;\n",
       "    }\n",
       "\n",
       "    .dataframe tbody tr th {\n",
       "        vertical-align: top;\n",
       "    }\n",
       "\n",
       "    .dataframe thead th {\n",
       "        text-align: right;\n",
       "    }\n",
       "</style>\n",
       "<table border=\"1\" class=\"dataframe\">\n",
       "  <thead>\n",
       "    <tr style=\"text-align: right;\">\n",
       "      <th></th>\n",
       "      <th>universe_id</th>\n",
       "      <th>universe_training_year</th>\n",
       "      <th>universe_training_size</th>\n",
       "      <th>universe_scale</th>\n",
       "      <th>universe_model</th>\n",
       "      <th>universe_exclude_features</th>\n",
       "      <th>universe_exclude_subgroups</th>\n",
       "      <th>q_hat</th>\n",
       "      <th>coverage</th>\n",
       "      <th>avg_size</th>\n",
       "    </tr>\n",
       "  </thead>\n",
       "  <tbody>\n",
       "    <tr>\n",
       "      <th>0</th>\n",
       "      <td>ec29d55901dd67c0006182341807c624</td>\n",
       "      <td>2014</td>\n",
       "      <td>5k</td>\n",
       "      <td>do-not-scale</td>\n",
       "      <td>penalized_logreg</td>\n",
       "      <td>sex</td>\n",
       "      <td>keep-all</td>\n",
       "      <td>0.678086</td>\n",
       "      <td>0.911905</td>\n",
       "      <td>1.195463</td>\n",
       "    </tr>\n",
       "  </tbody>\n",
       "</table>\n",
       "</div>"
      ],
      "text/plain": [
       "                        universe_id universe_training_year  \\\n",
       "0  ec29d55901dd67c0006182341807c624                   2014   \n",
       "\n",
       "  universe_training_size universe_scale    universe_model  \\\n",
       "0                     5k   do-not-scale  penalized_logreg   \n",
       "\n",
       "  universe_exclude_features universe_exclude_subgroups     q_hat  coverage  \\\n",
       "0                       sex                   keep-all  0.678086  0.911905   \n",
       "\n",
       "   avg_size  \n",
       "0  1.195463  "
      ]
     },
     "execution_count": 50,
     "metadata": {},
     "output_type": "execute_result"
    }
   ],
   "source": [
    "cp_metrics_df"
   ]
  },
  {
   "cell_type": "markdown",
   "id": "ed608b0b",
   "metadata": {
    "papermill": {
     "duration": 0.012287,
     "end_time": "2025-08-19T18:28:08.536498",
     "exception": false,
     "start_time": "2025-08-19T18:28:08.524211",
     "status": "completed"
    },
    "tags": []
   },
   "source": [
    "Conditional coverage & looking at subgroups"
   ]
  },
  {
   "cell_type": "code",
   "execution_count": 51,
   "id": "8968c366",
   "metadata": {
    "execution": {
     "iopub.execute_input": "2025-08-19T18:28:08.562557Z",
     "iopub.status.busy": "2025-08-19T18:28:08.562149Z",
     "iopub.status.idle": "2025-08-19T18:28:08.851498Z",
     "shell.execute_reply": "2025-08-19T18:28:08.850659Z"
    },
    "papermill": {
     "duration": 0.304225,
     "end_time": "2025-08-19T18:28:08.852956",
     "exception": false,
     "start_time": "2025-08-19T18:28:08.548731",
     "status": "completed"
    },
    "tags": []
   },
   "outputs": [],
   "source": [
    "from fairness_multiverse.conformal import build_cp_groups\n",
    "\n",
    "cp_groups_df = build_cp_groups(pred_sets, y_true, X_test.index, org_test)"
   ]
  },
  {
   "cell_type": "code",
   "execution_count": 52,
   "id": "292ddabf",
   "metadata": {
    "execution": {
     "iopub.execute_input": "2025-08-19T18:28:08.879797Z",
     "iopub.status.busy": "2025-08-19T18:28:08.879415Z",
     "iopub.status.idle": "2025-08-19T18:28:09.810013Z",
     "shell.execute_reply": "2025-08-19T18:28:09.808826Z"
    },
    "papermill": {
     "duration": 0.945916,
     "end_time": "2025-08-19T18:28:09.812044",
     "exception": false,
     "start_time": "2025-08-19T18:28:08.866128",
     "status": "completed"
    },
    "tags": []
   },
   "outputs": [],
   "source": [
    "# Define covered = 1 if true_label is in the predicted set\n",
    "cp_groups_df['covered'] = cp_groups_df.apply(\n",
    "    lambda r: int(r['true_label'] in r['pred_set']),\n",
    "    axis=1\n",
    ")"
   ]
  },
  {
   "cell_type": "code",
   "execution_count": 53,
   "id": "3a261692",
   "metadata": {
    "execution": {
     "iopub.execute_input": "2025-08-19T18:28:09.838647Z",
     "iopub.status.busy": "2025-08-19T18:28:09.838103Z",
     "iopub.status.idle": "2025-08-19T18:28:09.856985Z",
     "shell.execute_reply": "2025-08-19T18:28:09.855295Z"
    },
    "papermill": {
     "duration": 0.034336,
     "end_time": "2025-08-19T18:28:09.858872",
     "exception": false,
     "start_time": "2025-08-19T18:28:09.824536",
     "status": "completed"
    },
    "tags": []
   },
   "outputs": [],
   "source": [
    "subgroups = ['frau1','nongerman','nongerman_male','nongerman_female']\n",
    "\n",
    "# Conditional coverage for subgroup==1\n",
    "cond_coverage = {\n",
    "    g: cp_groups_df.loc[cp_groups_df[g]==1, 'covered'].mean()\n",
    "    for g in subgroups\n",
    "}"
   ]
  },
  {
   "cell_type": "code",
   "execution_count": 54,
   "id": "894fd600",
   "metadata": {
    "execution": {
     "iopub.execute_input": "2025-08-19T18:28:09.896552Z",
     "iopub.status.busy": "2025-08-19T18:28:09.893166Z",
     "iopub.status.idle": "2025-08-19T18:28:09.911757Z",
     "shell.execute_reply": "2025-08-19T18:28:09.910660Z"
    },
    "papermill": {
     "duration": 0.039442,
     "end_time": "2025-08-19T18:28:09.918171",
     "exception": false,
     "start_time": "2025-08-19T18:28:09.878729",
     "status": "completed"
    },
    "tags": []
   },
   "outputs": [
    {
     "data": {
      "text/plain": [
       "{'frau1': 0.9100957002291414,\n",
       " 'nongerman': 0.9244933475551563,\n",
       " 'nongerman_male': 0.9402864090786274,\n",
       " 'nongerman_female': 0.898360655737705}"
      ]
     },
     "execution_count": 54,
     "metadata": {},
     "output_type": "execute_result"
    }
   ],
   "source": [
    "cond_coverage"
   ]
  },
  {
   "cell_type": "code",
   "execution_count": 55,
   "id": "942895c7",
   "metadata": {
    "execution": {
     "iopub.execute_input": "2025-08-19T18:28:09.962948Z",
     "iopub.status.busy": "2025-08-19T18:28:09.959186Z",
     "iopub.status.idle": "2025-08-19T18:28:09.976395Z",
     "shell.execute_reply": "2025-08-19T18:28:09.975327Z"
    },
    "papermill": {
     "duration": 0.038752,
     "end_time": "2025-08-19T18:28:09.979107",
     "exception": false,
     "start_time": "2025-08-19T18:28:09.940355",
     "status": "completed"
    },
    "tags": []
   },
   "outputs": [],
   "source": [
    "for subgroup, cov in cond_coverage.items():\n",
    "    cp_metrics_df[f\"cov_{subgroup}\"] = cov"
   ]
  },
  {
   "cell_type": "code",
   "execution_count": 56,
   "id": "3970120f",
   "metadata": {
    "execution": {
     "iopub.execute_input": "2025-08-19T18:28:10.029819Z",
     "iopub.status.busy": "2025-08-19T18:28:10.028649Z",
     "iopub.status.idle": "2025-08-19T18:28:10.053665Z",
     "shell.execute_reply": "2025-08-19T18:28:10.052849Z"
    },
    "papermill": {
     "duration": 0.0424,
     "end_time": "2025-08-19T18:28:10.056247",
     "exception": false,
     "start_time": "2025-08-19T18:28:10.013847",
     "status": "completed"
    },
    "tags": []
   },
   "outputs": [
    {
     "data": {
      "text/html": [
       "<div>\n",
       "<style scoped>\n",
       "    .dataframe tbody tr th:only-of-type {\n",
       "        vertical-align: middle;\n",
       "    }\n",
       "\n",
       "    .dataframe tbody tr th {\n",
       "        vertical-align: top;\n",
       "    }\n",
       "\n",
       "    .dataframe thead th {\n",
       "        text-align: right;\n",
       "    }\n",
       "</style>\n",
       "<table border=\"1\" class=\"dataframe\">\n",
       "  <thead>\n",
       "    <tr style=\"text-align: right;\">\n",
       "      <th></th>\n",
       "      <th>universe_id</th>\n",
       "      <th>universe_training_year</th>\n",
       "      <th>universe_training_size</th>\n",
       "      <th>universe_scale</th>\n",
       "      <th>universe_model</th>\n",
       "      <th>universe_exclude_features</th>\n",
       "      <th>universe_exclude_subgroups</th>\n",
       "      <th>q_hat</th>\n",
       "      <th>coverage</th>\n",
       "      <th>avg_size</th>\n",
       "      <th>cov_frau1</th>\n",
       "      <th>cov_nongerman</th>\n",
       "      <th>cov_nongerman_male</th>\n",
       "      <th>cov_nongerman_female</th>\n",
       "    </tr>\n",
       "  </thead>\n",
       "  <tbody>\n",
       "    <tr>\n",
       "      <th>0</th>\n",
       "      <td>ec29d55901dd67c0006182341807c624</td>\n",
       "      <td>2014</td>\n",
       "      <td>5k</td>\n",
       "      <td>do-not-scale</td>\n",
       "      <td>penalized_logreg</td>\n",
       "      <td>sex</td>\n",
       "      <td>keep-all</td>\n",
       "      <td>0.678086</td>\n",
       "      <td>0.911905</td>\n",
       "      <td>1.195463</td>\n",
       "      <td>0.910096</td>\n",
       "      <td>0.924493</td>\n",
       "      <td>0.940286</td>\n",
       "      <td>0.898361</td>\n",
       "    </tr>\n",
       "  </tbody>\n",
       "</table>\n",
       "</div>"
      ],
      "text/plain": [
       "                        universe_id universe_training_year  \\\n",
       "0  ec29d55901dd67c0006182341807c624                   2014   \n",
       "\n",
       "  universe_training_size universe_scale    universe_model  \\\n",
       "0                     5k   do-not-scale  penalized_logreg   \n",
       "\n",
       "  universe_exclude_features universe_exclude_subgroups     q_hat  coverage  \\\n",
       "0                       sex                   keep-all  0.678086  0.911905   \n",
       "\n",
       "   avg_size  cov_frau1  cov_nongerman  cov_nongerman_male  \\\n",
       "0  1.195463   0.910096       0.924493            0.940286   \n",
       "\n",
       "   cov_nongerman_female  \n",
       "0              0.898361  "
      ]
     },
     "execution_count": 56,
     "metadata": {},
     "output_type": "execute_result"
    }
   ],
   "source": [
    "cp_metrics_df"
   ]
  },
  {
   "cell_type": "markdown",
   "id": "3fc519cc",
   "metadata": {
    "papermill": {
     "duration": 0.012781,
     "end_time": "2025-08-19T18:28:10.094747",
     "exception": false,
     "start_time": "2025-08-19T18:28:10.081966",
     "status": "completed"
    },
    "tags": []
   },
   "source": [
    "# (Fairness) Metrics"
   ]
  },
  {
   "cell_type": "code",
   "execution_count": 57,
   "id": "a2e5e155",
   "metadata": {
    "execution": {
     "iopub.execute_input": "2025-08-19T18:28:10.127497Z",
     "iopub.status.busy": "2025-08-19T18:28:10.126279Z",
     "iopub.status.idle": "2025-08-19T18:28:10.154988Z",
     "shell.execute_reply": "2025-08-19T18:28:10.154154Z"
    },
    "papermill": {
     "duration": 0.049823,
     "end_time": "2025-08-19T18:28:10.157346",
     "exception": false,
     "start_time": "2025-08-19T18:28:10.107523",
     "status": "completed"
    },
    "tags": []
   },
   "outputs": [],
   "source": [
    "colname_to_bin = \"maxdeutsch1\"\n",
    "majority_value = org_train[colname_to_bin].mode()[0]\n",
    "\n",
    "org_test[\"majmin\"] = np.where(org_test[colname_to_bin] == majority_value, \"majority\", \"minority\")"
   ]
  },
  {
   "cell_type": "code",
   "execution_count": 58,
   "id": "17e3e4d5",
   "metadata": {
    "execution": {
     "iopub.execute_input": "2025-08-19T18:28:10.205062Z",
     "iopub.status.busy": "2025-08-19T18:28:10.203775Z",
     "iopub.status.idle": "2025-08-19T18:28:12.051292Z",
     "shell.execute_reply": "2025-08-19T18:28:12.049804Z"
    },
    "papermill": {
     "duration": 1.863799,
     "end_time": "2025-08-19T18:28:12.052861",
     "exception": false,
     "start_time": "2025-08-19T18:28:10.189062",
     "status": "completed"
    },
    "tags": []
   },
   "outputs": [],
   "source": [
    "example_universe = universe.copy()\n",
    "example_universe[\"cutoff\"] = example_universe[\"cutoff\"][0]\n",
    "example_universe[\"eval_fairness_grouping\"] = example_universe[\"eval_fairness_grouping\"][0]\n",
    "fairness_dict, metric_frame = universe_analysis.compute_metrics(\n",
    "    example_universe,\n",
    "    y_pred_prob=probs_test,\n",
    "    y_test=y_true,\n",
    "    org_test=org_test,\n",
    ")"
   ]
  },
  {
   "cell_type": "markdown",
   "id": "1fb7a0e9",
   "metadata": {
    "papermill": {
     "duration": 0.012092,
     "end_time": "2025-08-19T18:28:12.079890",
     "exception": false,
     "start_time": "2025-08-19T18:28:12.067798",
     "status": "completed"
    },
    "tags": []
   },
   "source": [
    "# Overall"
   ]
  },
  {
   "cell_type": "markdown",
   "id": "be1784b1",
   "metadata": {
    "papermill": {
     "duration": 0.012706,
     "end_time": "2025-08-19T18:28:12.106100",
     "exception": false,
     "start_time": "2025-08-19T18:28:12.093394",
     "status": "completed"
    },
    "tags": []
   },
   "source": [
    "Main fairness target: Equalized Odds. Seems to be a better fit than equal opportunity, since we're not only interested in Y = 1. Seems to be a better fit than demographic parity, since we also care about accuracy, not just equal distribution of preds.\n",
    "\n",
    "Pick column for computation of fairness metrics\n",
    "\n",
    "Performance\n",
    "Overall performance measures, most interesting in relation to the measures split by group below"
   ]
  },
  {
   "cell_type": "code",
   "execution_count": 59,
   "id": "b7672bee",
   "metadata": {
    "execution": {
     "iopub.execute_input": "2025-08-19T18:28:12.133799Z",
     "iopub.status.busy": "2025-08-19T18:28:12.132618Z",
     "iopub.status.idle": "2025-08-19T18:28:12.148670Z",
     "shell.execute_reply": "2025-08-19T18:28:12.147350Z"
    },
    "papermill": {
     "duration": 0.032084,
     "end_time": "2025-08-19T18:28:12.150191",
     "exception": false,
     "start_time": "2025-08-19T18:28:12.118107",
     "status": "completed"
    },
    "tags": []
   },
   "outputs": [
    {
     "data": {
      "text/plain": [
       "accuracy                   0.216776\n",
       "balanced accuracy          0.531640\n",
       "f1                         0.238317\n",
       "precision                  0.136142\n",
       "false positive rate        0.891883\n",
       "false negative rate        0.044838\n",
       "selection rate             0.900000\n",
       "count                  89710.000000\n",
       "dtype: float64"
      ]
     },
     "execution_count": 59,
     "metadata": {},
     "output_type": "execute_result"
    }
   ],
   "source": [
    "metric_frame.overall"
   ]
  },
  {
   "cell_type": "markdown",
   "id": "d93333c9",
   "metadata": {
    "papermill": {
     "duration": 0.012143,
     "end_time": "2025-08-19T18:28:12.178709",
     "exception": false,
     "start_time": "2025-08-19T18:28:12.166566",
     "status": "completed"
    },
    "tags": []
   },
   "source": [
    "By Group"
   ]
  },
  {
   "cell_type": "code",
   "execution_count": 60,
   "id": "52256966",
   "metadata": {
    "execution": {
     "iopub.execute_input": "2025-08-19T18:28:12.206146Z",
     "iopub.status.busy": "2025-08-19T18:28:12.204704Z",
     "iopub.status.idle": "2025-08-19T18:28:12.237222Z",
     "shell.execute_reply": "2025-08-19T18:28:12.235920Z"
    },
    "papermill": {
     "duration": 0.048414,
     "end_time": "2025-08-19T18:28:12.239230",
     "exception": false,
     "start_time": "2025-08-19T18:28:12.190816",
     "status": "completed"
    },
    "tags": []
   },
   "outputs": [
    {
     "data": {
      "text/html": [
       "<div>\n",
       "<style scoped>\n",
       "    .dataframe tbody tr th:only-of-type {\n",
       "        vertical-align: middle;\n",
       "    }\n",
       "\n",
       "    .dataframe tbody tr th {\n",
       "        vertical-align: top;\n",
       "    }\n",
       "\n",
       "    .dataframe thead th {\n",
       "        text-align: right;\n",
       "    }\n",
       "</style>\n",
       "<table border=\"1\" class=\"dataframe\">\n",
       "  <thead>\n",
       "    <tr style=\"text-align: right;\">\n",
       "      <th></th>\n",
       "      <th>accuracy</th>\n",
       "      <th>balanced accuracy</th>\n",
       "      <th>f1</th>\n",
       "      <th>precision</th>\n",
       "      <th>false positive rate</th>\n",
       "      <th>false negative rate</th>\n",
       "      <th>selection rate</th>\n",
       "      <th>count</th>\n",
       "    </tr>\n",
       "    <tr>\n",
       "      <th>majmin</th>\n",
       "      <th></th>\n",
       "      <th></th>\n",
       "      <th></th>\n",
       "      <th></th>\n",
       "      <th></th>\n",
       "      <th></th>\n",
       "      <th></th>\n",
       "      <th></th>\n",
       "    </tr>\n",
       "  </thead>\n",
       "  <tbody>\n",
       "    <tr>\n",
       "      <th>majority</th>\n",
       "      <td>0.238181</td>\n",
       "      <td>0.538788</td>\n",
       "      <td>0.247354</td>\n",
       "      <td>0.142247</td>\n",
       "      <td>0.869798</td>\n",
       "      <td>0.052626</td>\n",
       "      <td>0.880049</td>\n",
       "      <td>69170.0</td>\n",
       "    </tr>\n",
       "    <tr>\n",
       "      <th>minority</th>\n",
       "      <td>0.144693</td>\n",
       "      <td>0.510192</td>\n",
       "      <td>0.209859</td>\n",
       "      <td>0.117437</td>\n",
       "      <td>0.964836</td>\n",
       "      <td>0.014780</td>\n",
       "      <td>0.967186</td>\n",
       "      <td>20540.0</td>\n",
       "    </tr>\n",
       "  </tbody>\n",
       "</table>\n",
       "</div>"
      ],
      "text/plain": [
       "          accuracy  balanced accuracy        f1  precision  \\\n",
       "majmin                                                       \n",
       "majority  0.238181           0.538788  0.247354   0.142247   \n",
       "minority  0.144693           0.510192  0.209859   0.117437   \n",
       "\n",
       "          false positive rate  false negative rate  selection rate    count  \n",
       "majmin                                                                       \n",
       "majority             0.869798             0.052626        0.880049  69170.0  \n",
       "minority             0.964836             0.014780        0.967186  20540.0  "
      ]
     },
     "execution_count": 60,
     "metadata": {},
     "output_type": "execute_result"
    }
   ],
   "source": [
    "metric_frame.by_group"
   ]
  },
  {
   "cell_type": "code",
   "execution_count": 61,
   "id": "6e6c20ae",
   "metadata": {
    "execution": {
     "iopub.execute_input": "2025-08-19T18:28:12.298679Z",
     "iopub.status.busy": "2025-08-19T18:28:12.298141Z",
     "iopub.status.idle": "2025-08-19T18:28:14.318710Z",
     "shell.execute_reply": "2025-08-19T18:28:14.317089Z"
    },
    "papermill": {
     "duration": 2.052342,
     "end_time": "2025-08-19T18:28:14.321135",
     "exception": false,
     "start_time": "2025-08-19T18:28:12.268793",
     "status": "completed"
    },
    "tags": []
   },
   "outputs": [
    {
     "data": {
      "text/plain": [
       "array([[<Axes: title={'center': 'accuracy'}, xlabel='majmin'>,\n",
       "        <Axes: title={'center': 'balanced accuracy'}, xlabel='majmin'>,\n",
       "        <Axes: title={'center': 'f1'}, xlabel='majmin'>],\n",
       "       [<Axes: title={'center': 'precision'}, xlabel='majmin'>,\n",
       "        <Axes: title={'center': 'false positive rate'}, xlabel='majmin'>,\n",
       "        <Axes: title={'center': 'false negative rate'}, xlabel='majmin'>],\n",
       "       [<Axes: title={'center': 'selection rate'}, xlabel='majmin'>,\n",
       "        <Axes: title={'center': 'count'}, xlabel='majmin'>,\n",
       "        <Axes: xlabel='majmin'>]], dtype=object)"
      ]
     },
     "execution_count": 61,
     "metadata": {},
     "output_type": "execute_result"
    },
    {
     "data": {
      "image/png": "[encoded data removed]",
      "text/plain": [
       "<Figure size 1200x800 with 9 Axes>"
      ]
     },
     "metadata": {},
     "output_type": "display_data"
    }
   ],
   "source": [
    "# In a graphic\n",
    "metric_frame.by_group.plot.bar(\n",
    "    subplots=True,\n",
    "    layout=[3, 3],\n",
    "    legend=False,\n",
    "    figsize=[12, 8],\n",
    "    title=\"Show all metrics\",\n",
    ")"
   ]
  },
  {
   "cell_type": "markdown",
   "id": "b2e433ae",
   "metadata": {
    "papermill": {
     "duration": 0.015378,
     "end_time": "2025-08-19T18:28:14.359462",
     "exception": false,
     "start_time": "2025-08-19T18:28:14.344084",
     "status": "completed"
    },
    "tags": []
   },
   "source": [
    "# Final Output"
   ]
  },
  {
   "cell_type": "code",
   "execution_count": 62,
   "id": "3871301e",
   "metadata": {
    "execution": {
     "iopub.execute_input": "2025-08-19T18:28:14.389828Z",
     "iopub.status.busy": "2025-08-19T18:28:14.388964Z",
     "iopub.status.idle": "2025-08-19T18:28:14.398331Z",
     "shell.execute_reply": "2025-08-19T18:28:14.397680Z"
    },
    "papermill": {
     "duration": 0.028397,
     "end_time": "2025-08-19T18:28:14.401876",
     "exception": false,
     "start_time": "2025-08-19T18:28:14.373479",
     "status": "completed"
    },
    "tags": []
   },
   "outputs": [
    {
     "data": {
      "text/plain": [
       "4"
      ]
     },
     "execution_count": 62,
     "metadata": {},
     "output_type": "execute_result"
    }
   ],
   "source": [
    "sub_universes = universe_analysis.generate_sub_universes()\n",
    "len(sub_universes)"
   ]
  },
  {
   "cell_type": "code",
   "execution_count": 63,
   "id": "d9cfdaca",
   "metadata": {
    "execution": {
     "iopub.execute_input": "2025-08-19T18:28:14.467696Z",
     "iopub.status.busy": "2025-08-19T18:28:14.467185Z",
     "iopub.status.idle": "2025-08-19T18:28:14.476121Z",
     "shell.execute_reply": "2025-08-19T18:28:14.474986Z"
    },
    "papermill": {
     "duration": 0.028771,
     "end_time": "2025-08-19T18:28:14.477569",
     "exception": false,
     "start_time": "2025-08-19T18:28:14.448798",
     "status": "completed"
    },
    "tags": []
   },
   "outputs": [],
   "source": [
    "def filter_sub_universe_data(sub_universe, org_test):\n",
    "    # Keep all rows — no filtering\n",
    "    keep_rows_mask = np.ones(org_test.shape[0], dtype=bool)\n",
    "\n",
    "    print(f\"[INFO] Keeping all rows: {keep_rows_mask.sum()} rows retained.\")\n",
    "    return keep_rows_mask"
   ]
  },
  {
   "cell_type": "code",
   "execution_count": 64,
   "id": "2bc31ac1",
   "metadata": {
    "execution": {
     "iopub.execute_input": "2025-08-19T18:28:14.512095Z",
     "iopub.status.busy": "2025-08-19T18:28:14.510518Z",
     "iopub.status.idle": "2025-08-19T18:28:21.397257Z",
     "shell.execute_reply": "2025-08-19T18:28:21.396196Z"
    },
    "papermill": {
     "duration": 6.904144,
     "end_time": "2025-08-19T18:28:21.398520",
     "exception": false,
     "start_time": "2025-08-19T18:28:14.494376",
     "status": "completed"
    },
    "tags": []
   },
   "outputs": [
    {
     "name": "stdout",
     "output_type": "stream",
     "text": [
      "Stopping execution_time clock.\n",
      "[INFO] Keeping all rows: 89710 rows retained.\n"
     ]
    },
    {
     "name": "stdout",
     "output_type": "stream",
     "text": [
      "[INFO] Keeping all rows: 89710 rows retained.\n"
     ]
    },
    {
     "name": "stdout",
     "output_type": "stream",
     "text": [
      "[INFO] Keeping all rows: 89710 rows retained.\n"
     ]
    },
    {
     "name": "stdout",
     "output_type": "stream",
     "text": [
      "[INFO] Keeping all rows: 89710 rows retained.\n"
     ]
    },
    {
     "data": {
      "text/html": [
       "<div>\n",
       "<style scoped>\n",
       "    .dataframe tbody tr th:only-of-type {\n",
       "        vertical-align: middle;\n",
       "    }\n",
       "\n",
       "    .dataframe tbody tr th {\n",
       "        vertical-align: top;\n",
       "    }\n",
       "\n",
       "    .dataframe thead th {\n",
       "        text-align: right;\n",
       "    }\n",
       "</style>\n",
       "<table border=\"1\" class=\"dataframe\">\n",
       "  <thead>\n",
       "    <tr style=\"text-align: right;\">\n",
       "      <th></th>\n",
       "      <th>run_no</th>\n",
       "      <th>universe_id</th>\n",
       "      <th>universe_settings</th>\n",
       "      <th>execution_time</th>\n",
       "      <th>test_size_n</th>\n",
       "      <th>test_size_frac</th>\n",
       "      <th>fair_main_equalized_odds_difference</th>\n",
       "      <th>fair_main_equalized_odds_ratio</th>\n",
       "      <th>fair_main_demographic_parity_difference</th>\n",
       "      <th>fair_main_demographic_parity_ratio</th>\n",
       "      <th>...</th>\n",
       "      <th>perf_grp_precision_0</th>\n",
       "      <th>perf_grp_precision_1</th>\n",
       "      <th>perf_grp_false positive rate_0</th>\n",
       "      <th>perf_grp_false positive rate_1</th>\n",
       "      <th>perf_grp_false negative rate_0</th>\n",
       "      <th>perf_grp_false negative rate_1</th>\n",
       "      <th>perf_grp_selection rate_0</th>\n",
       "      <th>perf_grp_selection rate_1</th>\n",
       "      <th>perf_grp_count_0</th>\n",
       "      <th>perf_grp_count_1</th>\n",
       "    </tr>\n",
       "  </thead>\n",
       "  <tbody>\n",
       "    <tr>\n",
       "      <th>0</th>\n",
       "      <td>3</td>\n",
       "      <td>ec29d55901dd67c0006182341807c624</td>\n",
       "      <td>{\"cutoff\": \"quantile_0.1\", \"eval_fairness_grou...</td>\n",
       "      <td>22.995183</td>\n",
       "      <td>89710</td>\n",
       "      <td>1.0</td>\n",
       "      <td>0.095038</td>\n",
       "      <td>0.901499</td>\n",
       "      <td>0.087137</td>\n",
       "      <td>0.909907</td>\n",
       "      <td>...</td>\n",
       "      <td>NaN</td>\n",
       "      <td>NaN</td>\n",
       "      <td>NaN</td>\n",
       "      <td>NaN</td>\n",
       "      <td>NaN</td>\n",
       "      <td>NaN</td>\n",
       "      <td>NaN</td>\n",
       "      <td>NaN</td>\n",
       "      <td>NaN</td>\n",
       "      <td>NaN</td>\n",
       "    </tr>\n",
       "    <tr>\n",
       "      <th>0</th>\n",
       "      <td>3</td>\n",
       "      <td>ec29d55901dd67c0006182341807c624</td>\n",
       "      <td>{\"cutoff\": \"quantile_0.1\", \"eval_fairness_grou...</td>\n",
       "      <td>22.995183</td>\n",
       "      <td>89710</td>\n",
       "      <td>1.0</td>\n",
       "      <td>0.095038</td>\n",
       "      <td>0.901499</td>\n",
       "      <td>0.087137</td>\n",
       "      <td>0.909907</td>\n",
       "      <td>...</td>\n",
       "      <td>0.117437</td>\n",
       "      <td>0.142247</td>\n",
       "      <td>0.964836</td>\n",
       "      <td>0.869798</td>\n",
       "      <td>0.014780</td>\n",
       "      <td>0.052626</td>\n",
       "      <td>0.967186</td>\n",
       "      <td>0.880049</td>\n",
       "      <td>20540.0</td>\n",
       "      <td>69170.0</td>\n",
       "    </tr>\n",
       "    <tr>\n",
       "      <th>0</th>\n",
       "      <td>3</td>\n",
       "      <td>ec29d55901dd67c0006182341807c624</td>\n",
       "      <td>{\"cutoff\": \"quantile_0.25\", \"eval_fairness_gro...</td>\n",
       "      <td>22.995183</td>\n",
       "      <td>89710</td>\n",
       "      <td>1.0</td>\n",
       "      <td>0.207411</td>\n",
       "      <td>0.766736</td>\n",
       "      <td>0.190130</td>\n",
       "      <td>0.787942</td>\n",
       "      <td>...</td>\n",
       "      <td>NaN</td>\n",
       "      <td>NaN</td>\n",
       "      <td>NaN</td>\n",
       "      <td>NaN</td>\n",
       "      <td>NaN</td>\n",
       "      <td>NaN</td>\n",
       "      <td>NaN</td>\n",
       "      <td>NaN</td>\n",
       "      <td>NaN</td>\n",
       "      <td>NaN</td>\n",
       "    </tr>\n",
       "    <tr>\n",
       "      <th>0</th>\n",
       "      <td>3</td>\n",
       "      <td>ec29d55901dd67c0006182341807c624</td>\n",
       "      <td>{\"cutoff\": \"quantile_0.25\", \"eval_fairness_gro...</td>\n",
       "      <td>22.995183</td>\n",
       "      <td>89710</td>\n",
       "      <td>1.0</td>\n",
       "      <td>0.207411</td>\n",
       "      <td>0.766736</td>\n",
       "      <td>0.190130</td>\n",
       "      <td>0.787942</td>\n",
       "      <td>...</td>\n",
       "      <td>0.122611</td>\n",
       "      <td>0.162485</td>\n",
       "      <td>0.889170</td>\n",
       "      <td>0.681759</td>\n",
       "      <td>0.046453</td>\n",
       "      <td>0.131291</td>\n",
       "      <td>0.896592</td>\n",
       "      <td>0.706462</td>\n",
       "      <td>20540.0</td>\n",
       "      <td>69170.0</td>\n",
       "    </tr>\n",
       "  </tbody>\n",
       "</table>\n",
       "<p>4 rows × 50 columns</p>\n",
       "</div>"
      ],
      "text/plain": [
       "  run_no                       universe_id  \\\n",
       "0      3  ec29d55901dd67c0006182341807c624   \n",
       "0      3  ec29d55901dd67c0006182341807c624   \n",
       "0      3  ec29d55901dd67c0006182341807c624   \n",
       "0      3  ec29d55901dd67c0006182341807c624   \n",
       "\n",
       "                                   universe_settings  execution_time  \\\n",
       "0  {\"cutoff\": \"quantile_0.1\", \"eval_fairness_grou...       22.995183   \n",
       "0  {\"cutoff\": \"quantile_0.1\", \"eval_fairness_grou...       22.995183   \n",
       "0  {\"cutoff\": \"quantile_0.25\", \"eval_fairness_gro...       22.995183   \n",
       "0  {\"cutoff\": \"quantile_0.25\", \"eval_fairness_gro...       22.995183   \n",
       "\n",
       "   test_size_n  test_size_frac  fair_main_equalized_odds_difference  \\\n",
       "0        89710             1.0                             0.095038   \n",
       "0        89710             1.0                             0.095038   \n",
       "0        89710             1.0                             0.207411   \n",
       "0        89710             1.0                             0.207411   \n",
       "\n",
       "   fair_main_equalized_odds_ratio  fair_main_demographic_parity_difference  \\\n",
       "0                        0.901499                                 0.087137   \n",
       "0                        0.901499                                 0.087137   \n",
       "0                        0.766736                                 0.190130   \n",
       "0                        0.766736                                 0.190130   \n",
       "\n",
       "   fair_main_demographic_parity_ratio  ...  perf_grp_precision_0  \\\n",
       "0                            0.909907  ...                   NaN   \n",
       "0                            0.909907  ...              0.117437   \n",
       "0                            0.787942  ...                   NaN   \n",
       "0                            0.787942  ...              0.122611   \n",
       "\n",
       "   perf_grp_precision_1  perf_grp_false positive rate_0  \\\n",
       "0                   NaN                             NaN   \n",
       "0              0.142247                        0.964836   \n",
       "0                   NaN                             NaN   \n",
       "0              0.162485                        0.889170   \n",
       "\n",
       "   perf_grp_false positive rate_1  perf_grp_false negative rate_0  \\\n",
       "0                             NaN                             NaN   \n",
       "0                        0.869798                        0.014780   \n",
       "0                             NaN                             NaN   \n",
       "0                        0.681759                        0.046453   \n",
       "\n",
       "   perf_grp_false negative rate_1  perf_grp_selection rate_0  \\\n",
       "0                             NaN                        NaN   \n",
       "0                        0.052626                   0.967186   \n",
       "0                             NaN                        NaN   \n",
       "0                        0.131291                   0.896592   \n",
       "\n",
       "   perf_grp_selection rate_1  perf_grp_count_0  perf_grp_count_1  \n",
       "0                        NaN               NaN               NaN  \n",
       "0                   0.880049           20540.0           69170.0  \n",
       "0                        NaN               NaN               NaN  \n",
       "0                   0.706462           20540.0           69170.0  \n",
       "\n",
       "[4 rows x 50 columns]"
      ]
     },
     "execution_count": 64,
     "metadata": {},
     "output_type": "execute_result"
    }
   ],
   "source": [
    "final_output = universe_analysis.generate_final_output(\n",
    "    y_pred_prob=probs_test,\n",
    "    y_test=y_true,\n",
    "    org_test=org_test,\n",
    "    filter_data=filter_sub_universe_data,\n",
    "    cp_metrics_df=cp_metrics_df,\n",
    "    save=True,\n",
    ")\n",
    "final_output"
   ]
  },
  {
   "cell_type": "code",
   "execution_count": null,
   "id": "8b80a1ff",
   "metadata": {
    "papermill": {
     "duration": 0.016645,
     "end_time": "2025-08-19T18:28:21.434456",
     "exception": false,
     "start_time": "2025-08-19T18:28:21.417811",
     "status": "completed"
    },
    "tags": []
   },
   "outputs": [],
   "source": []
  },
  {
   "cell_type": "code",
   "execution_count": null,
   "id": "275c9fad",
   "metadata": {
    "papermill": {
     "duration": 0.014636,
     "end_time": "2025-08-19T18:28:21.465091",
     "exception": false,
     "start_time": "2025-08-19T18:28:21.450455",
     "status": "completed"
    },
    "tags": []
   },
   "outputs": [],
   "source": []
  }
 ],
 "metadata": {
  "celltoolbar": "Tags",
  "kernelspec": {
   "display_name": "Python (CMA Fairness)",
   "language": "python",
   "name": "cma_fair_env"
  },
  "language_info": {
   "codemirror_mode": {
    "name": "ipython",
    "version": 3
   },
   "file_extension": ".py",
   "mimetype": "text/x-python",
   "name": "python",
   "nbconvert_exporter": "python",
   "pygments_lexer": "ipython3",
   "version": "3.10.12"
  },
  "papermill": {
   "default_parameters": {},
   "duration": 33.487526,
   "end_time": "2025-08-19T18:28:22.304764",
   "environment_variables": {},
   "exception": null,
   "input_path": "universe_analysis.ipynb",
   "output_path": "output/runs/3/notebooks/m_3-ec29d55901dd67c0006182341807c624.ipynb",
   "parameters": {
    "output_dir": "output",
    "run_no": "3",
    "seed": "2023",
    "universe": "{\"cutoff\": [\"quantile_0.1\", \"quantile_0.25\"], \"eval_fairness_grouping\": [\"majority-minority\", \"nationality-all\"], \"exclude_features\": \"sex\", \"exclude_subgroups\": \"keep-all\", \"model\": \"penalized_logreg\", \"scale\": \"do-not-scale\", \"training_size\": \"5k\", \"training_year\": \"2014\"}",
    "universe_id": "ec29d55901dd67c0006182341807c624"
   },
   "start_time": "2025-08-19T18:27:48.817238",
   "version": "2.6.0"
  }
 },
 "nbformat": 4,
 "nbformat_minor": 5
}