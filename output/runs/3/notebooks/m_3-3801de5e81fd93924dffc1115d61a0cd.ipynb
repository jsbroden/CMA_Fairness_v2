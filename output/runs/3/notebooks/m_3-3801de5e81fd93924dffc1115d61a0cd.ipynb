{
 "cells": [
  {
   "cell_type": "markdown",
   "id": "ef23dbb3",
   "metadata": {
    "papermill": {
     "duration": 0.023405,
     "end_time": "2025-08-19T19:06:04.079846",
     "exception": false,
     "start_time": "2025-08-19T19:06:04.056441",
     "status": "completed"
    },
    "tags": []
   },
   "source": [
    "# Setup"
   ]
  },
  {
   "cell_type": "code",
   "execution_count": 1,
   "id": "0bc8e7dc",
   "metadata": {
    "execution": {
     "iopub.execute_input": "2025-08-19T19:06:04.101771Z",
     "iopub.status.busy": "2025-08-19T19:06:04.101450Z",
     "iopub.status.idle": "2025-08-19T19:06:04.111271Z",
     "shell.execute_reply": "2025-08-19T19:06:04.110548Z"
    },
    "papermill": {
     "duration": 0.026985,
     "end_time": "2025-08-19T19:06:04.118817",
     "exception": false,
     "start_time": "2025-08-19T19:06:04.091832",
     "status": "completed"
    },
    "tags": []
   },
   "outputs": [
    {
     "name": "stdout",
     "output_type": "stream",
     "text": [
      "/dss/dsshome1/0C/ra93lal2/cma/CMA_Fairness_v2\n"
     ]
    },
    {
     "name": "stderr",
     "output_type": "stream",
     "text": [
      "/dss/dsshome1/0C/ra93lal2/.local/share/virtualenvs/CMA_Fairness_v2-3j10GkSs/lib/python3.10/site-packages/IPython/core/magics/osm.py:393: UserWarning: This is now an optional IPython functionality, using bookmarks requires you to install the `pickleshare` library.\n",
      "  bkms = self.shell.db.get('bookmarks', {})\n",
      "/dss/dsshome1/0C/ra93lal2/.local/share/virtualenvs/CMA_Fairness_v2-3j10GkSs/lib/python3.10/site-packages/IPython/core/magics/osm.py:417: UserWarning: This is now an optional IPython functionality, setting dhist requires you to install the `pickleshare` library.\n",
      "  self.shell.db['dhist'] = compress_dhist(dhist)[-100:]\n"
     ]
    }
   ],
   "source": [
    "%cd ~/cma/CMA_Fairness_v2"
   ]
  },
  {
   "cell_type": "markdown",
   "id": "9d235661",
   "metadata": {
    "papermill": {
     "duration": 0.011971,
     "end_time": "2025-08-19T19:06:04.153232",
     "exception": false,
     "start_time": "2025-08-19T19:06:04.141261",
     "status": "completed"
    },
    "tags": []
   },
   "source": [
    "The following cell holds the definition of our parameters, these values can be overriden by rendering the with e.g. the following command:\n",
    "\n",
    "papermill -p alpha 0.2 -p ratio 0.3 universe_analysis.ipynb output/test_run.ipynb"
   ]
  },
  {
   "cell_type": "code",
   "execution_count": 2,
   "id": "4a789d8e",
   "metadata": {
    "execution": {
     "iopub.execute_input": "2025-08-19T19:06:04.180096Z",
     "iopub.status.busy": "2025-08-19T19:06:04.179000Z",
     "iopub.status.idle": "2025-08-19T19:06:04.186932Z",
     "shell.execute_reply": "2025-08-19T19:06:04.185453Z"
    },
    "papermill": {
     "duration": 0.020519,
     "end_time": "2025-08-19T19:06:04.188409",
     "exception": false,
     "start_time": "2025-08-19T19:06:04.167890",
     "status": "completed"
    },
    "tags": []
   },
   "outputs": [
    {
     "name": "stdout",
     "output_type": "stream",
     "text": [
      "Current working directory: /dss/dsshome1/0C/ra93lal2/cma/CMA_Fairness_v2\n"
     ]
    }
   ],
   "source": [
    "import os\n",
    "print(\"Current working directory:\", os.getcwd())"
   ]
  },
  {
   "cell_type": "code",
   "execution_count": 3,
   "id": "4132aaed",
   "metadata": {
    "execution": {
     "iopub.execute_input": "2025-08-19T19:06:04.210013Z",
     "iopub.status.busy": "2025-08-19T19:06:04.209140Z",
     "iopub.status.idle": "2025-08-19T19:06:04.219318Z",
     "shell.execute_reply": "2025-08-19T19:06:04.217656Z"
    },
    "papermill": {
     "duration": 0.022155,
     "end_time": "2025-08-19T19:06:04.220964",
     "exception": false,
     "start_time": "2025-08-19T19:06:04.198809",
     "status": "completed"
    },
    "tags": [
     "parameters"
    ]
   },
   "outputs": [],
   "source": [
    "run_no = 0\n",
    "universe_id = \"test\"\n",
    "universe = {\n",
    "    \"training_size\": \"5k\", # \"25k\", \"5k\", \"1k\"\n",
    "    \"training_year\": \"2012_14\", # \"2014\", \"2012_14\", \"2010_14\"\n",
    "    \"scale\": \"scale\", # \"scale\", \"do-not-scale\",\n",
    "    \"model\": \"elasticnet\", # \"logreg\", \"penalized_logreg\", \"rf\", \"gbm\", \"elasticnet\"\n",
    "    \"cutoff\": [\"quantile_0.15\", \"quantile_0.30\"],\n",
    "    \"exclude_features\": \"age\", # \"none\", \"nationality\", \"sex\", \"nationality-sex\", \"age\"\n",
    "    \"exclude_subgroups\": \"drop-non-german\", # \"keep-all\", \"drop-non-german\"\n",
    "    \"eval_fairness_grouping\": [\"majority-minority\", \"nationality-all\"]\n",
    "}\n",
    "\n",
    "output_dir=\"./output\"\n",
    "seed=0"
   ]
  },
  {
   "cell_type": "code",
   "execution_count": 4,
   "id": "8e4f1dad",
   "metadata": {
    "execution": {
     "iopub.execute_input": "2025-08-19T19:06:04.243534Z",
     "iopub.status.busy": "2025-08-19T19:06:04.242874Z",
     "iopub.status.idle": "2025-08-19T19:06:04.249468Z",
     "shell.execute_reply": "2025-08-19T19:06:04.248173Z"
    },
    "papermill": {
     "duration": 0.018331,
     "end_time": "2025-08-19T19:06:04.250942",
     "exception": false,
     "start_time": "2025-08-19T19:06:04.232611",
     "status": "completed"
    },
    "tags": [
     "injected-parameters"
    ]
   },
   "outputs": [],
   "source": [
    "# Parameters\n",
    "universe_id = \"3801de5e81fd93924dffc1115d61a0cd\"\n",
    "run_no = \"3\"\n",
    "universe = \"{\\\"cutoff\\\": [\\\"quantile_0.1\\\", \\\"quantile_0.25\\\"], \\\"eval_fairness_grouping\\\": [\\\"majority-minority\\\", \\\"nationality-all\\\"], \\\"exclude_features\\\": \\\"none\\\", \\\"exclude_subgroups\\\": \\\"drop-non-german\\\", \\\"model\\\": \\\"rf\\\", \\\"scale\\\": \\\"scale\\\", \\\"training_size\\\": \\\"1k\\\", \\\"training_year\\\": \\\"2010_14\\\"}\"\n",
    "output_dir = \"output\"\n",
    "seed = \"2023\"\n"
   ]
  },
  {
   "cell_type": "code",
   "execution_count": 5,
   "id": "a5d7941f",
   "metadata": {
    "execution": {
     "iopub.execute_input": "2025-08-19T19:06:04.271804Z",
     "iopub.status.busy": "2025-08-19T19:06:04.271070Z",
     "iopub.status.idle": "2025-08-19T19:06:04.277309Z",
     "shell.execute_reply": "2025-08-19T19:06:04.276094Z"
    },
    "papermill": {
     "duration": 0.018062,
     "end_time": "2025-08-19T19:06:04.278920",
     "exception": false,
     "start_time": "2025-08-19T19:06:04.260858",
     "status": "completed"
    },
    "tags": []
   },
   "outputs": [],
   "source": [
    "import json\n",
    "if isinstance(universe, str):\n",
    "    universe = json.loads(universe)"
   ]
  },
  {
   "cell_type": "code",
   "execution_count": 6,
   "id": "7076ccb1",
   "metadata": {
    "execution": {
     "iopub.execute_input": "2025-08-19T19:06:04.299672Z",
     "iopub.status.busy": "2025-08-19T19:06:04.298681Z",
     "iopub.status.idle": "2025-08-19T19:06:04.358253Z",
     "shell.execute_reply": "2025-08-19T19:06:04.357383Z"
    },
    "papermill": {
     "duration": 0.071815,
     "end_time": "2025-08-19T19:06:04.360159",
     "exception": false,
     "start_time": "2025-08-19T19:06:04.288344",
     "status": "completed"
    },
    "tags": []
   },
   "outputs": [],
   "source": [
    "# Auto-reload the custom package\n",
    "%load_ext autoreload\n",
    "%autoreload 1\n",
    "%aimport fairness_multiverse"
   ]
  },
  {
   "cell_type": "code",
   "execution_count": 7,
   "id": "94c8eb93",
   "metadata": {
    "execution": {
     "iopub.execute_input": "2025-08-19T19:06:04.393500Z",
     "iopub.status.busy": "2025-08-19T19:06:04.383692Z",
     "iopub.status.idle": "2025-08-19T19:06:05.843149Z",
     "shell.execute_reply": "2025-08-19T19:06:05.841444Z"
    },
    "papermill": {
     "duration": 1.471752,
     "end_time": "2025-08-19T19:06:05.844810",
     "exception": false,
     "start_time": "2025-08-19T19:06:04.373058",
     "status": "completed"
    },
    "tags": []
   },
   "outputs": [],
   "source": [
    "from fairness_multiverse.universe import UniverseAnalysis\n",
    "\n",
    "universe_analysis = UniverseAnalysis(\n",
    "    run_no = run_no,\n",
    "    universe_id = universe_id,\n",
    "    universe = universe,\n",
    "    output_dir=output_dir,\n",
    ")"
   ]
  },
  {
   "cell_type": "code",
   "execution_count": 8,
   "id": "2a6381cf",
   "metadata": {
    "execution": {
     "iopub.execute_input": "2025-08-19T19:06:05.868221Z",
     "iopub.status.busy": "2025-08-19T19:06:05.866775Z",
     "iopub.status.idle": "2025-08-19T19:06:05.882131Z",
     "shell.execute_reply": "2025-08-19T19:06:05.880235Z"
    },
    "papermill": {
     "duration": 0.029384,
     "end_time": "2025-08-19T19:06:05.883789",
     "exception": false,
     "start_time": "2025-08-19T19:06:05.854405",
     "status": "completed"
    },
    "tags": []
   },
   "outputs": [
    {
     "name": "stdout",
     "output_type": "stream",
     "text": [
      "Using Seed: 2023\n"
     ]
    }
   ],
   "source": [
    "import numpy as np\n",
    "parsed_seed = int(seed)\n",
    "np.random.seed(parsed_seed)\n",
    "print(f\"Using Seed: {parsed_seed}\")"
   ]
  },
  {
   "cell_type": "markdown",
   "id": "b6e958b4",
   "metadata": {
    "papermill": {
     "duration": 0.009484,
     "end_time": "2025-08-19T19:06:05.905674",
     "exception": false,
     "start_time": "2025-08-19T19:06:05.896190",
     "status": "completed"
    },
    "tags": []
   },
   "source": [
    "# Loading Data"
   ]
  },
  {
   "cell_type": "code",
   "execution_count": 9,
   "id": "98701482",
   "metadata": {
    "execution": {
     "iopub.execute_input": "2025-08-19T19:06:05.925687Z",
     "iopub.status.busy": "2025-08-19T19:06:05.925360Z",
     "iopub.status.idle": "2025-08-19T19:06:16.623159Z",
     "shell.execute_reply": "2025-08-19T19:06:16.621775Z"
    },
    "papermill": {
     "duration": 10.710102,
     "end_time": "2025-08-19T19:06:16.624999",
     "exception": false,
     "start_time": "2025-08-19T19:06:05.914897",
     "status": "completed"
    },
    "tags": []
   },
   "outputs": [
    {
     "name": "stdout",
     "output_type": "stream",
     "text": [
      "Loading SIAB data from cache: data/siab_cached.csv.gz\n"
     ]
    },
    {
     "name": "stdout",
     "output_type": "stream",
     "text": [
      "(643690, 164)\n"
     ]
    }
   ],
   "source": [
    "from pathlib import Path\n",
    "import pandas as pd\n",
    "\n",
    "# File paths\n",
    "raw_file = Path(\"data/raw/siab.csv\")\n",
    "cache_file = Path(\"data/siab_cached.csv.gz\")\n",
    "\n",
    "# Ensure cache directory exists\n",
    "cache_file.parent.mkdir(parents=True, exist_ok=True)\n",
    "\n",
    "# Load with simple caching\n",
    "if cache_file.exists():\n",
    "    print(f\"Loading SIAB data from cache: {cache_file}\")\n",
    "    siab = pd.read_csv(cache_file, compression='gzip')\n",
    "else:\n",
    "    print(f\"Cache not found. Reading raw SIAB data: {raw_file}\")\n",
    "    siab = pd.read_csv(raw_file)\n",
    "    siab.to_csv(cache_file, index=False, compression='gzip')\n",
    "    print(f\"Cached SIAB data to: {cache_file}\")\n",
    "\n",
    "print(siab.shape)"
   ]
  },
  {
   "cell_type": "code",
   "execution_count": 10,
   "id": "058d2abb",
   "metadata": {
    "execution": {
     "iopub.execute_input": "2025-08-19T19:06:16.651732Z",
     "iopub.status.busy": "2025-08-19T19:06:16.650753Z",
     "iopub.status.idle": "2025-08-19T19:06:16.967062Z",
     "shell.execute_reply": "2025-08-19T19:06:16.965885Z"
    },
    "papermill": {
     "duration": 0.329317,
     "end_time": "2025-08-19T19:06:16.968606",
     "exception": false,
     "start_time": "2025-08-19T19:06:16.639289",
     "status": "completed"
    },
    "tags": []
   },
   "outputs": [
    {
     "data": {
      "text/html": [
       "<div>\n",
       "<style scoped>\n",
       "    .dataframe tbody tr th:only-of-type {\n",
       "        vertical-align: middle;\n",
       "    }\n",
       "\n",
       "    .dataframe tbody tr th {\n",
       "        vertical-align: top;\n",
       "    }\n",
       "\n",
       "    .dataframe thead th {\n",
       "        text-align: right;\n",
       "    }\n",
       "</style>\n",
       "<table border=\"1\" class=\"dataframe\">\n",
       "  <thead>\n",
       "    <tr style=\"text-align: right;\">\n",
       "      <th></th>\n",
       "      <th>persnr</th>\n",
       "      <th>year</th>\n",
       "      <th>nrEntry</th>\n",
       "      <th>ltue</th>\n",
       "      <th>employed_before</th>\n",
       "      <th>receipt_leh_before</th>\n",
       "      <th>receipt_lhg_before</th>\n",
       "      <th>se_before</th>\n",
       "      <th>ASU_notue_seeking_before</th>\n",
       "      <th>ASU_other_before</th>\n",
       "      <th>...</th>\n",
       "      <th>minijob_tot_dur_byage</th>\n",
       "      <th>ft_tot_dur_byage</th>\n",
       "      <th>befrist_tot_dur_byage</th>\n",
       "      <th>leih_tot_dur_byage</th>\n",
       "      <th>LHG_tot_dur_byage</th>\n",
       "      <th>LEH_tot_dur_byage</th>\n",
       "      <th>almp_tot_dur_byage</th>\n",
       "      <th>almp_aw_tot_dur_byage</th>\n",
       "      <th>se_tot_dur_byage</th>\n",
       "      <th>seeking1_tot_dur_byage</th>\n",
       "    </tr>\n",
       "  </thead>\n",
       "  <tbody>\n",
       "    <tr>\n",
       "      <th>0</th>\n",
       "      <td>7</td>\n",
       "      <td>2015</td>\n",
       "      <td>1</td>\n",
       "      <td>0</td>\n",
       "      <td>1</td>\n",
       "      <td>0</td>\n",
       "      <td>0</td>\n",
       "      <td>0</td>\n",
       "      <td>1</td>\n",
       "      <td>0</td>\n",
       "      <td>...</td>\n",
       "      <td>0.000000</td>\n",
       "      <td>0.000000</td>\n",
       "      <td>15.043478</td>\n",
       "      <td>0.000000</td>\n",
       "      <td>0.000000</td>\n",
       "      <td>0.000000</td>\n",
       "      <td>0.000000</td>\n",
       "      <td>0.000000</td>\n",
       "      <td>0.000000</td>\n",
       "      <td>0.000000</td>\n",
       "    </tr>\n",
       "    <tr>\n",
       "      <th>1</th>\n",
       "      <td>18</td>\n",
       "      <td>2010</td>\n",
       "      <td>1</td>\n",
       "      <td>1</td>\n",
       "      <td>0</td>\n",
       "      <td>0</td>\n",
       "      <td>0</td>\n",
       "      <td>0</td>\n",
       "      <td>0</td>\n",
       "      <td>0</td>\n",
       "      <td>...</td>\n",
       "      <td>0.000000</td>\n",
       "      <td>0.000000</td>\n",
       "      <td>0.000000</td>\n",
       "      <td>0.000000</td>\n",
       "      <td>0.000000</td>\n",
       "      <td>0.000000</td>\n",
       "      <td>0.000000</td>\n",
       "      <td>0.000000</td>\n",
       "      <td>0.000000</td>\n",
       "      <td>0.000000</td>\n",
       "    </tr>\n",
       "    <tr>\n",
       "      <th>2</th>\n",
       "      <td>18</td>\n",
       "      <td>2011</td>\n",
       "      <td>2</td>\n",
       "      <td>0</td>\n",
       "      <td>1</td>\n",
       "      <td>0</td>\n",
       "      <td>1</td>\n",
       "      <td>0</td>\n",
       "      <td>1</td>\n",
       "      <td>0</td>\n",
       "      <td>...</td>\n",
       "      <td>2.714286</td>\n",
       "      <td>2.714286</td>\n",
       "      <td>0.000000</td>\n",
       "      <td>0.000000</td>\n",
       "      <td>10.775510</td>\n",
       "      <td>0.000000</td>\n",
       "      <td>8.367347</td>\n",
       "      <td>0.000000</td>\n",
       "      <td>0.000000</td>\n",
       "      <td>9.836735</td>\n",
       "    </tr>\n",
       "    <tr>\n",
       "      <th>3</th>\n",
       "      <td>18</td>\n",
       "      <td>2012</td>\n",
       "      <td>3</td>\n",
       "      <td>0</td>\n",
       "      <td>1</td>\n",
       "      <td>0</td>\n",
       "      <td>1</td>\n",
       "      <td>0</td>\n",
       "      <td>1</td>\n",
       "      <td>0</td>\n",
       "      <td>...</td>\n",
       "      <td>4.200000</td>\n",
       "      <td>4.200000</td>\n",
       "      <td>0.000000</td>\n",
       "      <td>0.000000</td>\n",
       "      <td>12.100000</td>\n",
       "      <td>0.000000</td>\n",
       "      <td>9.400000</td>\n",
       "      <td>0.000000</td>\n",
       "      <td>0.000000</td>\n",
       "      <td>9.960000</td>\n",
       "    </tr>\n",
       "    <tr>\n",
       "      <th>4</th>\n",
       "      <td>18</td>\n",
       "      <td>2012</td>\n",
       "      <td>4</td>\n",
       "      <td>0</td>\n",
       "      <td>1</td>\n",
       "      <td>0</td>\n",
       "      <td>1</td>\n",
       "      <td>0</td>\n",
       "      <td>1</td>\n",
       "      <td>0</td>\n",
       "      <td>...</td>\n",
       "      <td>5.460000</td>\n",
       "      <td>5.460000</td>\n",
       "      <td>0.000000</td>\n",
       "      <td>0.000000</td>\n",
       "      <td>13.360000</td>\n",
       "      <td>0.000000</td>\n",
       "      <td>10.320000</td>\n",
       "      <td>0.000000</td>\n",
       "      <td>0.000000</td>\n",
       "      <td>10.280000</td>\n",
       "    </tr>\n",
       "    <tr>\n",
       "      <th>...</th>\n",
       "      <td>...</td>\n",
       "      <td>...</td>\n",
       "      <td>...</td>\n",
       "      <td>...</td>\n",
       "      <td>...</td>\n",
       "      <td>...</td>\n",
       "      <td>...</td>\n",
       "      <td>...</td>\n",
       "      <td>...</td>\n",
       "      <td>...</td>\n",
       "      <td>...</td>\n",
       "      <td>...</td>\n",
       "      <td>...</td>\n",
       "      <td>...</td>\n",
       "      <td>...</td>\n",
       "      <td>...</td>\n",
       "      <td>...</td>\n",
       "      <td>...</td>\n",
       "      <td>...</td>\n",
       "      <td>...</td>\n",
       "      <td>...</td>\n",
       "    </tr>\n",
       "    <tr>\n",
       "      <th>643685</th>\n",
       "      <td>1827860</td>\n",
       "      <td>2013</td>\n",
       "      <td>1</td>\n",
       "      <td>0</td>\n",
       "      <td>0</td>\n",
       "      <td>0</td>\n",
       "      <td>1</td>\n",
       "      <td>0</td>\n",
       "      <td>0</td>\n",
       "      <td>1</td>\n",
       "      <td>...</td>\n",
       "      <td>0.000000</td>\n",
       "      <td>0.000000</td>\n",
       "      <td>0.000000</td>\n",
       "      <td>0.000000</td>\n",
       "      <td>0.612903</td>\n",
       "      <td>0.000000</td>\n",
       "      <td>0.000000</td>\n",
       "      <td>0.000000</td>\n",
       "      <td>0.000000</td>\n",
       "      <td>0.000000</td>\n",
       "    </tr>\n",
       "    <tr>\n",
       "      <th>643686</th>\n",
       "      <td>1827860</td>\n",
       "      <td>2015</td>\n",
       "      <td>2</td>\n",
       "      <td>1</td>\n",
       "      <td>0</td>\n",
       "      <td>0</td>\n",
       "      <td>1</td>\n",
       "      <td>0</td>\n",
       "      <td>1</td>\n",
       "      <td>0</td>\n",
       "      <td>...</td>\n",
       "      <td>0.000000</td>\n",
       "      <td>0.000000</td>\n",
       "      <td>0.212121</td>\n",
       "      <td>0.212121</td>\n",
       "      <td>17.363636</td>\n",
       "      <td>0.000000</td>\n",
       "      <td>8.909091</td>\n",
       "      <td>0.000000</td>\n",
       "      <td>0.000000</td>\n",
       "      <td>7.121212</td>\n",
       "    </tr>\n",
       "    <tr>\n",
       "      <th>643687</th>\n",
       "      <td>1827860</td>\n",
       "      <td>2016</td>\n",
       "      <td>3</td>\n",
       "      <td>1</td>\n",
       "      <td>0</td>\n",
       "      <td>0</td>\n",
       "      <td>1</td>\n",
       "      <td>1</td>\n",
       "      <td>0</td>\n",
       "      <td>1</td>\n",
       "      <td>...</td>\n",
       "      <td>0.000000</td>\n",
       "      <td>0.000000</td>\n",
       "      <td>0.294118</td>\n",
       "      <td>0.205882</td>\n",
       "      <td>34.705882</td>\n",
       "      <td>0.000000</td>\n",
       "      <td>10.352941</td>\n",
       "      <td>1.705882</td>\n",
       "      <td>1.705882</td>\n",
       "      <td>23.911765</td>\n",
       "    </tr>\n",
       "    <tr>\n",
       "      <th>643688</th>\n",
       "      <td>1827869</td>\n",
       "      <td>2013</td>\n",
       "      <td>1</td>\n",
       "      <td>1</td>\n",
       "      <td>1</td>\n",
       "      <td>0</td>\n",
       "      <td>0</td>\n",
       "      <td>0</td>\n",
       "      <td>1</td>\n",
       "      <td>0</td>\n",
       "      <td>...</td>\n",
       "      <td>0.000000</td>\n",
       "      <td>0.000000</td>\n",
       "      <td>0.000000</td>\n",
       "      <td>0.000000</td>\n",
       "      <td>0.000000</td>\n",
       "      <td>0.525424</td>\n",
       "      <td>0.000000</td>\n",
       "      <td>0.000000</td>\n",
       "      <td>0.000000</td>\n",
       "      <td>0.000000</td>\n",
       "    </tr>\n",
       "    <tr>\n",
       "      <th>643689</th>\n",
       "      <td>1827869</td>\n",
       "      <td>2014</td>\n",
       "      <td>2</td>\n",
       "      <td>0</td>\n",
       "      <td>0</td>\n",
       "      <td>1</td>\n",
       "      <td>0</td>\n",
       "      <td>0</td>\n",
       "      <td>1</td>\n",
       "      <td>0</td>\n",
       "      <td>...</td>\n",
       "      <td>0.000000</td>\n",
       "      <td>0.666667</td>\n",
       "      <td>0.666667</td>\n",
       "      <td>0.000000</td>\n",
       "      <td>0.000000</td>\n",
       "      <td>8.950000</td>\n",
       "      <td>1.033333</td>\n",
       "      <td>0.083333</td>\n",
       "      <td>0.083333</td>\n",
       "      <td>8.133333</td>\n",
       "    </tr>\n",
       "  </tbody>\n",
       "</table>\n",
       "<p>643690 rows × 164 columns</p>\n",
       "</div>"
      ],
      "text/plain": [
       "         persnr  year  nrEntry  ltue  employed_before  receipt_leh_before  \\\n",
       "0             7  2015        1     0                1                   0   \n",
       "1            18  2010        1     1                0                   0   \n",
       "2            18  2011        2     0                1                   0   \n",
       "3            18  2012        3     0                1                   0   \n",
       "4            18  2012        4     0                1                   0   \n",
       "...         ...   ...      ...   ...              ...                 ...   \n",
       "643685  1827860  2013        1     0                0                   0   \n",
       "643686  1827860  2015        2     1                0                   0   \n",
       "643687  1827860  2016        3     1                0                   0   \n",
       "643688  1827869  2013        1     1                1                   0   \n",
       "643689  1827869  2014        2     0                0                   1   \n",
       "\n",
       "        receipt_lhg_before  se_before  ASU_notue_seeking_before  \\\n",
       "0                        0          0                         1   \n",
       "1                        0          0                         0   \n",
       "2                        1          0                         1   \n",
       "3                        1          0                         1   \n",
       "4                        1          0                         1   \n",
       "...                    ...        ...                       ...   \n",
       "643685                   1          0                         0   \n",
       "643686                   1          0                         1   \n",
       "643687                   1          1                         0   \n",
       "643688                   0          0                         1   \n",
       "643689                   0          0                         1   \n",
       "\n",
       "        ASU_other_before  ...  minijob_tot_dur_byage  ft_tot_dur_byage  \\\n",
       "0                      0  ...               0.000000          0.000000   \n",
       "1                      0  ...               0.000000          0.000000   \n",
       "2                      0  ...               2.714286          2.714286   \n",
       "3                      0  ...               4.200000          4.200000   \n",
       "4                      0  ...               5.460000          5.460000   \n",
       "...                  ...  ...                    ...               ...   \n",
       "643685                 1  ...               0.000000          0.000000   \n",
       "643686                 0  ...               0.000000          0.000000   \n",
       "643687                 1  ...               0.000000          0.000000   \n",
       "643688                 0  ...               0.000000          0.000000   \n",
       "643689                 0  ...               0.000000          0.666667   \n",
       "\n",
       "        befrist_tot_dur_byage  leih_tot_dur_byage  LHG_tot_dur_byage  \\\n",
       "0                   15.043478            0.000000           0.000000   \n",
       "1                    0.000000            0.000000           0.000000   \n",
       "2                    0.000000            0.000000          10.775510   \n",
       "3                    0.000000            0.000000          12.100000   \n",
       "4                    0.000000            0.000000          13.360000   \n",
       "...                       ...                 ...                ...   \n",
       "643685               0.000000            0.000000           0.612903   \n",
       "643686               0.212121            0.212121          17.363636   \n",
       "643687               0.294118            0.205882          34.705882   \n",
       "643688               0.000000            0.000000           0.000000   \n",
       "643689               0.666667            0.000000           0.000000   \n",
       "\n",
       "        LEH_tot_dur_byage  almp_tot_dur_byage  almp_aw_tot_dur_byage  \\\n",
       "0                0.000000            0.000000               0.000000   \n",
       "1                0.000000            0.000000               0.000000   \n",
       "2                0.000000            8.367347               0.000000   \n",
       "3                0.000000            9.400000               0.000000   \n",
       "4                0.000000           10.320000               0.000000   \n",
       "...                   ...                 ...                    ...   \n",
       "643685           0.000000            0.000000               0.000000   \n",
       "643686           0.000000            8.909091               0.000000   \n",
       "643687           0.000000           10.352941               1.705882   \n",
       "643688           0.525424            0.000000               0.000000   \n",
       "643689           8.950000            1.033333               0.083333   \n",
       "\n",
       "        se_tot_dur_byage  seeking1_tot_dur_byage  \n",
       "0               0.000000                0.000000  \n",
       "1               0.000000                0.000000  \n",
       "2               0.000000                9.836735  \n",
       "3               0.000000                9.960000  \n",
       "4               0.000000               10.280000  \n",
       "...                  ...                     ...  \n",
       "643685          0.000000                0.000000  \n",
       "643686          0.000000                7.121212  \n",
       "643687          1.705882               23.911765  \n",
       "643688          0.000000                0.000000  \n",
       "643689          0.083333                8.133333  \n",
       "\n",
       "[643690 rows x 164 columns]"
      ]
     },
     "execution_count": 10,
     "metadata": {},
     "output_type": "execute_result"
    }
   ],
   "source": [
    "siab"
   ]
  },
  {
   "cell_type": "markdown",
   "id": "1f87e805",
   "metadata": {
    "papermill": {
     "duration": 0.035637,
     "end_time": "2025-08-19T19:06:17.024527",
     "exception": false,
     "start_time": "2025-08-19T19:06:16.988890",
     "status": "completed"
    },
    "tags": []
   },
   "source": [
    "# Splitting Data and Setting Training Data Size"
   ]
  },
  {
   "cell_type": "code",
   "execution_count": 11,
   "id": "910ae358",
   "metadata": {
    "execution": {
     "iopub.execute_input": "2025-08-19T19:06:17.054654Z",
     "iopub.status.busy": "2025-08-19T19:06:17.053917Z",
     "iopub.status.idle": "2025-08-19T19:06:18.410780Z",
     "shell.execute_reply": "2025-08-19T19:06:18.409643Z"
    },
    "papermill": {
     "duration": 1.375286,
     "end_time": "2025-08-19T19:06:18.414180",
     "exception": false,
     "start_time": "2025-08-19T19:06:17.038894",
     "status": "completed"
    },
    "tags": []
   },
   "outputs": [],
   "source": [
    "from fairness_multiverse.universe import sample_by_year_size\n",
    "\n",
    "siab_train = sample_by_year_size(siab,\n",
    "                               training_year=universe[\"training_year\"],\n",
    "                               training_size=universe[\"training_size\"])"
   ]
  },
  {
   "cell_type": "code",
   "execution_count": 12,
   "id": "919c8ff5",
   "metadata": {
    "execution": {
     "iopub.execute_input": "2025-08-19T19:06:18.459281Z",
     "iopub.status.busy": "2025-08-19T19:06:18.457345Z",
     "iopub.status.idle": "2025-08-19T19:06:18.471758Z",
     "shell.execute_reply": "2025-08-19T19:06:18.470505Z"
    },
    "papermill": {
     "duration": 0.030328,
     "end_time": "2025-08-19T19:06:18.473341",
     "exception": false,
     "start_time": "2025-08-19T19:06:18.443013",
     "status": "completed"
    },
    "tags": []
   },
   "outputs": [
    {
     "data": {
      "text/plain": [
       "(1000, 164)"
      ]
     },
     "execution_count": 12,
     "metadata": {},
     "output_type": "execute_result"
    }
   ],
   "source": [
    "siab_train.shape"
   ]
  },
  {
   "cell_type": "code",
   "execution_count": 13,
   "id": "feb13bf4",
   "metadata": {
    "execution": {
     "iopub.execute_input": "2025-08-19T19:06:18.500677Z",
     "iopub.status.busy": "2025-08-19T19:06:18.499238Z",
     "iopub.status.idle": "2025-08-19T19:06:18.515974Z",
     "shell.execute_reply": "2025-08-19T19:06:18.514659Z"
    },
    "papermill": {
     "duration": 0.030086,
     "end_time": "2025-08-19T19:06:18.517602",
     "exception": false,
     "start_time": "2025-08-19T19:06:18.487516",
     "status": "completed"
    },
    "tags": []
   },
   "outputs": [
    {
     "data": {
      "text/plain": [
       "year\n",
       "2010    200\n",
       "2011    200\n",
       "2012    200\n",
       "2013    200\n",
       "2014    200\n",
       "dtype: int64"
      ]
     },
     "metadata": {},
     "output_type": "display_data"
    }
   ],
   "source": [
    "display(siab_train.groupby(\"year\").size())"
   ]
  },
  {
   "cell_type": "code",
   "execution_count": 14,
   "id": "0997782f",
   "metadata": {
    "execution": {
     "iopub.execute_input": "2025-08-19T19:06:18.547811Z",
     "iopub.status.busy": "2025-08-19T19:06:18.546561Z",
     "iopub.status.idle": "2025-08-19T19:06:18.859690Z",
     "shell.execute_reply": "2025-08-19T19:06:18.858867Z"
    },
    "papermill": {
     "duration": 0.328736,
     "end_time": "2025-08-19T19:06:18.862468",
     "exception": false,
     "start_time": "2025-08-19T19:06:18.533732",
     "status": "completed"
    },
    "tags": []
   },
   "outputs": [],
   "source": [
    "#siab_train = siab_s[siab_s.year < 2015]\n",
    "siab_calib = siab[siab.year == 2015]\n",
    "siab_test = siab[siab.year == 2016]"
   ]
  },
  {
   "cell_type": "code",
   "execution_count": 15,
   "id": "2c1e4012",
   "metadata": {
    "execution": {
     "iopub.execute_input": "2025-08-19T19:06:18.897288Z",
     "iopub.status.busy": "2025-08-19T19:06:18.896235Z",
     "iopub.status.idle": "2025-08-19T19:06:18.909653Z",
     "shell.execute_reply": "2025-08-19T19:06:18.907944Z"
    },
    "papermill": {
     "duration": 0.028222,
     "end_time": "2025-08-19T19:06:18.911305",
     "exception": false,
     "start_time": "2025-08-19T19:06:18.883083",
     "status": "completed"
    },
    "tags": []
   },
   "outputs": [],
   "source": [
    "#siab_calib.shape"
   ]
  },
  {
   "cell_type": "code",
   "execution_count": 16,
   "id": "f66b54ca",
   "metadata": {
    "execution": {
     "iopub.execute_input": "2025-08-19T19:06:18.937738Z",
     "iopub.status.busy": "2025-08-19T19:06:18.936596Z",
     "iopub.status.idle": "2025-08-19T19:06:18.944739Z",
     "shell.execute_reply": "2025-08-19T19:06:18.943007Z"
    },
    "papermill": {
     "duration": 0.021858,
     "end_time": "2025-08-19T19:06:18.946292",
     "exception": false,
     "start_time": "2025-08-19T19:06:18.924434",
     "status": "completed"
    },
    "tags": []
   },
   "outputs": [],
   "source": [
    "#siab_test.shape"
   ]
  },
  {
   "cell_type": "code",
   "execution_count": 17,
   "id": "27e4384d",
   "metadata": {
    "execution": {
     "iopub.execute_input": "2025-08-19T19:06:18.971385Z",
     "iopub.status.busy": "2025-08-19T19:06:18.969891Z",
     "iopub.status.idle": "2025-08-19T19:06:18.981652Z",
     "shell.execute_reply": "2025-08-19T19:06:18.980407Z"
    },
    "papermill": {
     "duration": 0.0255,
     "end_time": "2025-08-19T19:06:18.983185",
     "exception": false,
     "start_time": "2025-08-19T19:06:18.957685",
     "status": "completed"
    },
    "tags": []
   },
   "outputs": [],
   "source": [
    "X_train = siab_train.iloc[:,4:164]\n",
    "y_train = siab_train.iloc[:, [3]]"
   ]
  },
  {
   "cell_type": "code",
   "execution_count": 18,
   "id": "08ee8389",
   "metadata": {
    "execution": {
     "iopub.execute_input": "2025-08-19T19:06:19.008725Z",
     "iopub.status.busy": "2025-08-19T19:06:19.007653Z",
     "iopub.status.idle": "2025-08-19T19:06:19.139887Z",
     "shell.execute_reply": "2025-08-19T19:06:19.139085Z"
    },
    "papermill": {
     "duration": 0.145886,
     "end_time": "2025-08-19T19:06:19.141674",
     "exception": false,
     "start_time": "2025-08-19T19:06:18.995788",
     "status": "completed"
    },
    "tags": []
   },
   "outputs": [],
   "source": [
    "X_calib = siab_calib.iloc[:,4:164]\n",
    "y_calib = siab_calib.iloc[:, [3]]"
   ]
  },
  {
   "cell_type": "code",
   "execution_count": 19,
   "id": "b7ff42e0",
   "metadata": {
    "execution": {
     "iopub.execute_input": "2025-08-19T19:06:19.165991Z",
     "iopub.status.busy": "2025-08-19T19:06:19.163793Z",
     "iopub.status.idle": "2025-08-19T19:06:19.272425Z",
     "shell.execute_reply": "2025-08-19T19:06:19.271707Z"
    },
    "papermill": {
     "duration": 0.12258,
     "end_time": "2025-08-19T19:06:19.275111",
     "exception": false,
     "start_time": "2025-08-19T19:06:19.152531",
     "status": "completed"
    },
    "tags": []
   },
   "outputs": [],
   "source": [
    "X_test = siab_test.iloc[:,4:164]\n",
    "y_true = siab_test.iloc[:, [3]]"
   ]
  },
  {
   "cell_type": "code",
   "execution_count": 20,
   "id": "0275101e",
   "metadata": {
    "execution": {
     "iopub.execute_input": "2025-08-19T19:06:19.314589Z",
     "iopub.status.busy": "2025-08-19T19:06:19.313518Z",
     "iopub.status.idle": "2025-08-19T19:06:19.460190Z",
     "shell.execute_reply": "2025-08-19T19:06:19.459457Z"
    },
    "papermill": {
     "duration": 0.170834,
     "end_time": "2025-08-19T19:06:19.470033",
     "exception": false,
     "start_time": "2025-08-19T19:06:19.299199",
     "status": "completed"
    },
    "tags": []
   },
   "outputs": [],
   "source": [
    "# Auxiliary data needed downstream in the pipeline\n",
    "\n",
    "org_train = X_train.copy()\n",
    "org_test = X_test.copy()\n",
    "org_calib = X_calib.copy()"
   ]
  },
  {
   "cell_type": "markdown",
   "id": "b461e618",
   "metadata": {
    "papermill": {
     "duration": 0.010692,
     "end_time": "2025-08-19T19:06:19.512173",
     "exception": false,
     "start_time": "2025-08-19T19:06:19.501481",
     "status": "completed"
    },
    "tags": []
   },
   "source": [
    "# Preprocessing Data"
   ]
  },
  {
   "cell_type": "code",
   "execution_count": 21,
   "id": "78e74c4b",
   "metadata": {
    "execution": {
     "iopub.execute_input": "2025-08-19T19:06:19.535599Z",
     "iopub.status.busy": "2025-08-19T19:06:19.534409Z",
     "iopub.status.idle": "2025-08-19T19:06:19.544742Z",
     "shell.execute_reply": "2025-08-19T19:06:19.543029Z"
    },
    "papermill": {
     "duration": 0.02391,
     "end_time": "2025-08-19T19:06:19.546455",
     "exception": false,
     "start_time": "2025-08-19T19:06:19.522545",
     "status": "completed"
    },
    "tags": []
   },
   "outputs": [],
   "source": [
    "# EXCLUDE PROTECTED FEATURES\n",
    "# --------------------------\n",
    "\n",
    "excluded_features = universe[\"exclude_features\"].split(\"-\")\n",
    "excluded_features_dictionary = {\n",
    "    \"nationality\": [\"maxdeutsch1\", \"maxdeutsch.Missing.\"],\n",
    "    \"sex\": [\"frau1\"],\n",
    "    \"age\": [\"age\"],\n",
    "}"
   ]
  },
  {
   "cell_type": "code",
   "execution_count": 22,
   "id": "f8e63555",
   "metadata": {
    "execution": {
     "iopub.execute_input": "2025-08-19T19:06:19.573297Z",
     "iopub.status.busy": "2025-08-19T19:06:19.571510Z",
     "iopub.status.idle": "2025-08-19T19:06:19.581358Z",
     "shell.execute_reply": "2025-08-19T19:06:19.579719Z"
    },
    "papermill": {
     "duration": 0.023428,
     "end_time": "2025-08-19T19:06:19.583066",
     "exception": false,
     "start_time": "2025-08-19T19:06:19.559638",
     "status": "completed"
    },
    "tags": []
   },
   "outputs": [],
   "source": [
    "excluded_features_columns = [\n",
    "    excluded_features_dictionary[f] for f in excluded_features if len(f) > 0 and f != \"none\"\n",
    "]"
   ]
  },
  {
   "cell_type": "code",
   "execution_count": 23,
   "id": "da781f7c",
   "metadata": {
    "execution": {
     "iopub.execute_input": "2025-08-19T19:06:19.608413Z",
     "iopub.status.busy": "2025-08-19T19:06:19.607287Z",
     "iopub.status.idle": "2025-08-19T19:06:19.616318Z",
     "shell.execute_reply": "2025-08-19T19:06:19.614700Z"
    },
    "papermill": {
     "duration": 0.023319,
     "end_time": "2025-08-19T19:06:19.618100",
     "exception": false,
     "start_time": "2025-08-19T19:06:19.594781",
     "status": "completed"
    },
    "tags": []
   },
   "outputs": [],
   "source": [
    "from fairness_multiverse.universe import flatten_once\n",
    "\n",
    "excluded_features_columns = flatten_once(excluded_features_columns)"
   ]
  },
  {
   "cell_type": "code",
   "execution_count": 24,
   "id": "37fef0f0",
   "metadata": {
    "execution": {
     "iopub.execute_input": "2025-08-19T19:06:19.656964Z",
     "iopub.status.busy": "2025-08-19T19:06:19.655801Z",
     "iopub.status.idle": "2025-08-19T19:06:19.667986Z",
     "shell.execute_reply": "2025-08-19T19:06:19.666299Z"
    },
    "papermill": {
     "duration": 0.039851,
     "end_time": "2025-08-19T19:06:19.671001",
     "exception": false,
     "start_time": "2025-08-19T19:06:19.631150",
     "status": "completed"
    },
    "tags": []
   },
   "outputs": [],
   "source": [
    "if len(excluded_features_columns) > 0:\n",
    "    print(f\"Dropping features: {excluded_features_columns}\")\n",
    "    X_train.drop(excluded_features_columns, axis=1, inplace=True)"
   ]
  },
  {
   "cell_type": "code",
   "execution_count": 25,
   "id": "d029e3e9",
   "metadata": {
    "execution": {
     "iopub.execute_input": "2025-08-19T19:06:19.701888Z",
     "iopub.status.busy": "2025-08-19T19:06:19.701403Z",
     "iopub.status.idle": "2025-08-19T19:06:19.706069Z",
     "shell.execute_reply": "2025-08-19T19:06:19.705465Z"
    },
    "papermill": {
     "duration": 0.017854,
     "end_time": "2025-08-19T19:06:19.707685",
     "exception": false,
     "start_time": "2025-08-19T19:06:19.689831",
     "status": "completed"
    },
    "tags": []
   },
   "outputs": [],
   "source": [
    "if len(excluded_features_columns) > 0:\n",
    "    print(f\"Dropping features: {excluded_features_columns}\")\n",
    "    X_test.drop(excluded_features_columns, axis=1, inplace=True)"
   ]
  },
  {
   "cell_type": "code",
   "execution_count": 26,
   "id": "01d571f0",
   "metadata": {
    "execution": {
     "iopub.execute_input": "2025-08-19T19:06:19.730253Z",
     "iopub.status.busy": "2025-08-19T19:06:19.729808Z",
     "iopub.status.idle": "2025-08-19T19:06:19.734403Z",
     "shell.execute_reply": "2025-08-19T19:06:19.733798Z"
    },
    "papermill": {
     "duration": 0.017457,
     "end_time": "2025-08-19T19:06:19.735904",
     "exception": false,
     "start_time": "2025-08-19T19:06:19.718447",
     "status": "completed"
    },
    "tags": []
   },
   "outputs": [],
   "source": [
    "if len(excluded_features_columns) > 0:\n",
    "    print(f\"Dropping features: {excluded_features_columns}\")\n",
    "    X_calib.drop(excluded_features_columns, axis=1, inplace=True)"
   ]
  },
  {
   "cell_type": "code",
   "execution_count": 27,
   "id": "3037356e",
   "metadata": {
    "execution": {
     "iopub.execute_input": "2025-08-19T19:06:19.758131Z",
     "iopub.status.busy": "2025-08-19T19:06:19.757685Z",
     "iopub.status.idle": "2025-08-19T19:06:19.762026Z",
     "shell.execute_reply": "2025-08-19T19:06:19.761425Z"
    },
    "papermill": {
     "duration": 0.017086,
     "end_time": "2025-08-19T19:06:19.763535",
     "exception": false,
     "start_time": "2025-08-19T19:06:19.746449",
     "status": "completed"
    },
    "tags": []
   },
   "outputs": [],
   "source": [
    "# EXCLUDE CERTAIN SUBGROUPS\n",
    "# -------------------------\n",
    "\n",
    "mode = universe.get(\"exclude_subgroups\", \"keep-all\") # Defaults to \"keep-all\" if the key is missing."
   ]
  },
  {
   "cell_type": "code",
   "execution_count": 28,
   "id": "9d1e63fd",
   "metadata": {
    "execution": {
     "iopub.execute_input": "2025-08-19T19:06:19.786088Z",
     "iopub.status.busy": "2025-08-19T19:06:19.785596Z",
     "iopub.status.idle": "2025-08-19T19:06:19.791926Z",
     "shell.execute_reply": "2025-08-19T19:06:19.791290Z"
    },
    "papermill": {
     "duration": 0.019109,
     "end_time": "2025-08-19T19:06:19.793264",
     "exception": false,
     "start_time": "2025-08-19T19:06:19.774155",
     "status": "completed"
    },
    "tags": []
   },
   "outputs": [],
   "source": [
    "if mode == \"keep-all\":\n",
    "    keep_mask = pd.Series(True, index=org_train.index)\n",
    "\n",
    "elif mode == \"drop-non-german\":\n",
    "    keep_mask = (org_train[\"maxdeutsch1\"] == 1) & (org_train[\"maxdeutsch.Missing.\"] == 0)\n",
    "\n",
    "else:\n",
    "    raise ValueError(f\"Unsupported mode for exclude_subgroups: {mode}\")"
   ]
  },
  {
   "cell_type": "code",
   "execution_count": 29,
   "id": "d3b65474",
   "metadata": {
    "execution": {
     "iopub.execute_input": "2025-08-19T19:06:19.815671Z",
     "iopub.status.busy": "2025-08-19T19:06:19.815221Z",
     "iopub.status.idle": "2025-08-19T19:06:19.821384Z",
     "shell.execute_reply": "2025-08-19T19:06:19.820595Z"
    },
    "papermill": {
     "duration": 0.018742,
     "end_time": "2025-08-19T19:06:19.822674",
     "exception": false,
     "start_time": "2025-08-19T19:06:19.803932",
     "status": "completed"
    },
    "tags": []
   },
   "outputs": [
    {
     "name": "stdout",
     "output_type": "stream",
     "text": [
      "Dropping 131 rows (13.10%) where mode='drop-non-german'\n"
     ]
    }
   ],
   "source": [
    "n_drop = (~keep_mask).sum() # Calculates how many rows are set to be dropped\n",
    "if n_drop > 0:\n",
    "    pct = n_drop / len(keep_mask) * 100\n",
    "    print(f\"Dropping {n_drop} rows ({pct:.2f}%) where mode='{mode}'\")"
   ]
  },
  {
   "cell_type": "code",
   "execution_count": 30,
   "id": "f44389b3",
   "metadata": {
    "execution": {
     "iopub.execute_input": "2025-08-19T19:06:19.845367Z",
     "iopub.status.busy": "2025-08-19T19:06:19.844905Z",
     "iopub.status.idle": "2025-08-19T19:06:19.850778Z",
     "shell.execute_reply": "2025-08-19T19:06:19.850107Z"
    },
    "papermill": {
     "duration": 0.01852,
     "end_time": "2025-08-19T19:06:19.852009",
     "exception": false,
     "start_time": "2025-08-19T19:06:19.833489",
     "status": "completed"
    },
    "tags": []
   },
   "outputs": [],
   "source": [
    "X_train = X_train[keep_mask]"
   ]
  },
  {
   "cell_type": "code",
   "execution_count": 31,
   "id": "ceca8c2a",
   "metadata": {
    "execution": {
     "iopub.execute_input": "2025-08-19T19:06:19.874874Z",
     "iopub.status.busy": "2025-08-19T19:06:19.874029Z",
     "iopub.status.idle": "2025-08-19T19:06:19.879958Z",
     "shell.execute_reply": "2025-08-19T19:06:19.879139Z"
    },
    "papermill": {
     "duration": 0.018595,
     "end_time": "2025-08-19T19:06:19.881242",
     "exception": false,
     "start_time": "2025-08-19T19:06:19.862647",
     "status": "completed"
    },
    "tags": []
   },
   "outputs": [],
   "source": [
    "y_train = y_train[keep_mask]"
   ]
  },
  {
   "cell_type": "markdown",
   "id": "04d31e2f",
   "metadata": {
    "papermill": {
     "duration": 0.010475,
     "end_time": "2025-08-19T19:06:19.902402",
     "exception": false,
     "start_time": "2025-08-19T19:06:19.891927",
     "status": "completed"
    },
    "tags": []
   },
   "source": [
    "# Model Training"
   ]
  },
  {
   "cell_type": "code",
   "execution_count": 32,
   "id": "db991733",
   "metadata": {
    "execution": {
     "iopub.execute_input": "2025-08-19T19:06:19.925874Z",
     "iopub.status.busy": "2025-08-19T19:06:19.924757Z",
     "iopub.status.idle": "2025-08-19T19:06:20.040230Z",
     "shell.execute_reply": "2025-08-19T19:06:20.039072Z"
    },
    "papermill": {
     "duration": 0.13108,
     "end_time": "2025-08-19T19:06:20.043842",
     "exception": false,
     "start_time": "2025-08-19T19:06:19.912762",
     "status": "completed"
    },
    "tags": []
   },
   "outputs": [],
   "source": [
    "from sklearn.linear_model import LogisticRegression\n",
    "from sklearn.ensemble import GradientBoostingClassifier, RandomForestClassifier\n",
    "\n",
    "if (universe[\"model\"] == \"logreg\"):\n",
    "    model = LogisticRegression() #penalty=\"none\", solver=\"newton-cg\", max_iter=1)\n",
    "elif (universe[\"model\"] == \"penalized_logreg\"):\n",
    "    model = LogisticRegression(penalty=\"l2\", C=0.1) #, solver=\"newton-cg\", max_iter=1)\n",
    "elif (universe[\"model\"] == \"rf\"):\n",
    "    model = RandomForestClassifier() # n_estimators=100, n_jobs=-1\n",
    "elif (universe[\"model\"] == \"gbm\"):\n",
    "    model = GradientBoostingClassifier()\n",
    "elif (universe[\"model\"] == \"elasticnet\"):\n",
    "    model = LogisticRegression(penalty = 'elasticnet', solver = 'saga', l1_ratio = 0.5) # max_iter=5000\n",
    "else:\n",
    "    raise \"Unsupported universe.model\""
   ]
  },
  {
   "cell_type": "code",
   "execution_count": 33,
   "id": "a4b5cd25",
   "metadata": {
    "execution": {
     "iopub.execute_input": "2025-08-19T19:06:20.082022Z",
     "iopub.status.busy": "2025-08-19T19:06:20.081049Z",
     "iopub.status.idle": "2025-08-19T19:06:20.088907Z",
     "shell.execute_reply": "2025-08-19T19:06:20.087390Z"
    },
    "papermill": {
     "duration": 0.023419,
     "end_time": "2025-08-19T19:06:20.090335",
     "exception": false,
     "start_time": "2025-08-19T19:06:20.066916",
     "status": "completed"
    },
    "tags": []
   },
   "outputs": [],
   "source": [
    "from sklearn.pipeline import Pipeline\n",
    "from sklearn.preprocessing import StandardScaler\n",
    "\n",
    "model = Pipeline([\n",
    "    #(\"continuous_processor\", continuous_processor),\n",
    "    #(\"categorical_preprocessor\", categorical_preprocessor),\n",
    "    (\"scale\", StandardScaler() if universe[\"scale\"] == \"scale\" else None), \n",
    "    (\"model\", model),\n",
    "])"
   ]
  },
  {
   "cell_type": "code",
   "execution_count": 34,
   "id": "283a904d",
   "metadata": {
    "execution": {
     "iopub.execute_input": "2025-08-19T19:06:20.113685Z",
     "iopub.status.busy": "2025-08-19T19:06:20.113229Z",
     "iopub.status.idle": "2025-08-19T19:06:20.427379Z",
     "shell.execute_reply": "2025-08-19T19:06:20.426738Z"
    },
    "papermill": {
     "duration": 0.32747,
     "end_time": "2025-08-19T19:06:20.428929",
     "exception": false,
     "start_time": "2025-08-19T19:06:20.101459",
     "status": "completed"
    },
    "tags": []
   },
   "outputs": [
    {
     "data": {
      "text/html": [
       "<style>#sk-container-id-1 {color: black;background-color: white;}#sk-container-id-1 pre{padding: 0;}#sk-container-id-1 div.sk-toggleable {background-color: white;}#sk-container-id-1 label.sk-toggleable__label {cursor: pointer;display: block;width: 100%;margin-bottom: 0;padding: 0.3em;box-sizing: border-box;text-align: center;}#sk-container-id-1 label.sk-toggleable__label-arrow:before {content: \"▸\";float: left;margin-right: 0.25em;color: #696969;}#sk-container-id-1 label.sk-toggleable__label-arrow:hover:before {color: black;}#sk-container-id-1 div.sk-estimator:hover label.sk-toggleable__label-arrow:before {color: black;}#sk-container-id-1 div.sk-toggleable__content {max-height: 0;max-width: 0;overflow: hidden;text-align: left;background-color: #f0f8ff;}#sk-container-id-1 div.sk-toggleable__content pre {margin: 0.2em;color: black;border-radius: 0.25em;background-color: #f0f8ff;}#sk-container-id-1 input.sk-toggleable__control:checked~div.sk-toggleable__content {max-height: 200px;max-width: 100%;overflow: auto;}#sk-container-id-1 input.sk-toggleable__control:checked~label.sk-toggleable__label-arrow:before {content: \"▾\";}#sk-container-id-1 div.sk-estimator input.sk-toggleable__control:checked~label.sk-toggleable__label {background-color: #d4ebff;}#sk-container-id-1 div.sk-label input.sk-toggleable__control:checked~label.sk-toggleable__label {background-color: #d4ebff;}#sk-container-id-1 input.sk-hidden--visually {border: 0;clip: rect(1px 1px 1px 1px);clip: rect(1px, 1px, 1px, 1px);height: 1px;margin: -1px;overflow: hidden;padding: 0;position: absolute;width: 1px;}#sk-container-id-1 div.sk-estimator {font-family: monospace;background-color: #f0f8ff;border: 1px dotted black;border-radius: 0.25em;box-sizing: border-box;margin-bottom: 0.5em;}#sk-container-id-1 div.sk-estimator:hover {background-color: #d4ebff;}#sk-container-id-1 div.sk-parallel-item::after {content: \"\";width: 100%;border-bottom: 1px solid gray;flex-grow: 1;}#sk-container-id-1 div.sk-label:hover label.sk-toggleable__label {background-color: #d4ebff;}#sk-container-id-1 div.sk-serial::before {content: \"\";position: absolute;border-left: 1px solid gray;box-sizing: border-box;top: 0;bottom: 0;left: 50%;z-index: 0;}#sk-container-id-1 div.sk-serial {display: flex;flex-direction: column;align-items: center;background-color: white;padding-right: 0.2em;padding-left: 0.2em;position: relative;}#sk-container-id-1 div.sk-item {position: relative;z-index: 1;}#sk-container-id-1 div.sk-parallel {display: flex;align-items: stretch;justify-content: center;background-color: white;position: relative;}#sk-container-id-1 div.sk-item::before, #sk-container-id-1 div.sk-parallel-item::before {content: \"\";position: absolute;border-left: 1px solid gray;box-sizing: border-box;top: 0;bottom: 0;left: 50%;z-index: -1;}#sk-container-id-1 div.sk-parallel-item {display: flex;flex-direction: column;z-index: 1;position: relative;background-color: white;}#sk-container-id-1 div.sk-parallel-item:first-child::after {align-self: flex-end;width: 50%;}#sk-container-id-1 div.sk-parallel-item:last-child::after {align-self: flex-start;width: 50%;}#sk-container-id-1 div.sk-parallel-item:only-child::after {width: 0;}#sk-container-id-1 div.sk-dashed-wrapped {border: 1px dashed gray;margin: 0 0.4em 0.5em 0.4em;box-sizing: border-box;padding-bottom: 0.4em;background-color: white;}#sk-container-id-1 div.sk-label label {font-family: monospace;font-weight: bold;display: inline-block;line-height: 1.2em;}#sk-container-id-1 div.sk-label-container {text-align: center;}#sk-container-id-1 div.sk-container {/* jupyter's `normalize.less` sets `[hidden] { display: none; }` but bootstrap.min.css set `[hidden] { display: none !important; }` so we also need the `!important` here to be able to override the default hidden behavior on the sphinx rendered scikit-learn.org. See: https://github.com/scikit-learn/scikit-learn/issues/21755 */display: inline-block !important;position: relative;}#sk-container-id-1 div.sk-text-repr-fallback {display: none;}</style><div id=\"sk-container-id-1\" class=\"sk-top-container\"><div class=\"sk-text-repr-fallback\"><pre>Pipeline(steps=[(&#x27;scale&#x27;, StandardScaler()),\n",
       "                (&#x27;model&#x27;, RandomForestClassifier())])</pre><b>In a Jupyter environment, please rerun this cell to show the HTML representation or trust the notebook. <br />On GitHub, the HTML representation is unable to render, please try loading this page with nbviewer.org.</b></div><div class=\"sk-container\" hidden><div class=\"sk-item sk-dashed-wrapped\"><div class=\"sk-label-container\"><div class=\"sk-label sk-toggleable\"><input class=\"sk-toggleable__control sk-hidden--visually\" id=\"sk-estimator-id-1\" type=\"checkbox\" ><label for=\"sk-estimator-id-1\" class=\"sk-toggleable__label sk-toggleable__label-arrow\">Pipeline</label><div class=\"sk-toggleable__content\"><pre>Pipeline(steps=[(&#x27;scale&#x27;, StandardScaler()),\n",
       "                (&#x27;model&#x27;, RandomForestClassifier())])</pre></div></div></div><div class=\"sk-serial\"><div class=\"sk-item\"><div class=\"sk-estimator sk-toggleable\"><input class=\"sk-toggleable__control sk-hidden--visually\" id=\"sk-estimator-id-2\" type=\"checkbox\" ><label for=\"sk-estimator-id-2\" class=\"sk-toggleable__label sk-toggleable__label-arrow\">StandardScaler</label><div class=\"sk-toggleable__content\"><pre>StandardScaler()</pre></div></div></div><div class=\"sk-item\"><div class=\"sk-estimator sk-toggleable\"><input class=\"sk-toggleable__control sk-hidden--visually\" id=\"sk-estimator-id-3\" type=\"checkbox\" ><label for=\"sk-estimator-id-3\" class=\"sk-toggleable__label sk-toggleable__label-arrow\">RandomForestClassifier</label><div class=\"sk-toggleable__content\"><pre>RandomForestClassifier()</pre></div></div></div></div></div></div></div>"
      ],
      "text/plain": [
       "Pipeline(steps=[('scale', StandardScaler()),\n",
       "                ('model', RandomForestClassifier())])"
      ]
     },
     "execution_count": 34,
     "metadata": {},
     "output_type": "execute_result"
    }
   ],
   "source": [
    "model.fit(X_train, y_train.values.ravel())"
   ]
  },
  {
   "cell_type": "code",
   "execution_count": 35,
   "id": "6e15e313",
   "metadata": {
    "execution": {
     "iopub.execute_input": "2025-08-19T19:06:20.454622Z",
     "iopub.status.busy": "2025-08-19T19:06:20.453333Z",
     "iopub.status.idle": "2025-08-19T19:06:21.880545Z",
     "shell.execute_reply": "2025-08-19T19:06:21.879342Z"
    },
    "papermill": {
     "duration": 1.443287,
     "end_time": "2025-08-19T19:06:21.883974",
     "exception": false,
     "start_time": "2025-08-19T19:06:20.440687",
     "status": "completed"
    },
    "tags": []
   },
   "outputs": [
    {
     "data": {
      "text/plain": [
       "0.8608627800691115"
      ]
     },
     "execution_count": 35,
     "metadata": {},
     "output_type": "execute_result"
    }
   ],
   "source": [
    "from fairness_multiverse.universe import predict_w_threshold\n",
    "\n",
    "probs_test = model.predict_proba(X_test)\n",
    "\n",
    "'''\n",
    "Below code returns a boolean array (or binary 0/1 array depending on how it’s used) where each element \n",
    "is True if the probability of class 1 is greater than or equal to the threshold, and False otherwise.\n",
    "'''\n",
    "y_pred_default = predict_w_threshold(probs_test, 0.5)\n",
    "\n",
    "from sklearn.metrics import accuracy_score\n",
    "\n",
    "# Naive prediction\n",
    "accuracy_score(y_true = y_true, y_pred = y_pred_default)"
   ]
  },
  {
   "cell_type": "code",
   "execution_count": 36,
   "id": "6f14067c",
   "metadata": {
    "execution": {
     "iopub.execute_input": "2025-08-19T19:06:21.923528Z",
     "iopub.status.busy": "2025-08-19T19:06:21.922299Z",
     "iopub.status.idle": "2025-08-19T19:06:23.291829Z",
     "shell.execute_reply": "2025-08-19T19:06:23.290671Z"
    },
    "papermill": {
     "duration": 1.39607,
     "end_time": "2025-08-19T19:06:23.293238",
     "exception": false,
     "start_time": "2025-08-19T19:06:21.897168",
     "status": "completed"
    },
    "tags": []
   },
   "outputs": [
    {
     "data": {
      "text/plain": [
       "array([0, 0, 0, ..., 0, 0, 0])"
      ]
     },
     "execution_count": 36,
     "metadata": {},
     "output_type": "execute_result"
    }
   ],
   "source": [
    "model.predict(X_test)"
   ]
  },
  {
   "cell_type": "markdown",
   "id": "3759920c",
   "metadata": {
    "papermill": {
     "duration": 0.01121,
     "end_time": "2025-08-19T19:06:23.316364",
     "exception": false,
     "start_time": "2025-08-19T19:06:23.305154",
     "status": "completed"
    },
    "tags": []
   },
   "source": [
    "# Conformal Prediction"
   ]
  },
  {
   "cell_type": "code",
   "execution_count": 37,
   "id": "14b27f59",
   "metadata": {
    "execution": {
     "iopub.execute_input": "2025-08-19T19:06:23.358330Z",
     "iopub.status.busy": "2025-08-19T19:06:23.357308Z",
     "iopub.status.idle": "2025-08-19T19:06:23.363479Z",
     "shell.execute_reply": "2025-08-19T19:06:23.362744Z"
    },
    "papermill": {
     "duration": 0.039958,
     "end_time": "2025-08-19T19:06:23.367388",
     "exception": false,
     "start_time": "2025-08-19T19:06:23.327430",
     "status": "completed"
    },
    "tags": []
   },
   "outputs": [],
   "source": [
    "# Miscoverage level for conformal prediction (10% allowed error rate => 90% target coverage)\n",
    "alpha = 0.1"
   ]
  },
  {
   "cell_type": "code",
   "execution_count": 38,
   "id": "59102472",
   "metadata": {
    "execution": {
     "iopub.execute_input": "2025-08-19T19:06:23.405601Z",
     "iopub.status.busy": "2025-08-19T19:06:23.405121Z",
     "iopub.status.idle": "2025-08-19T19:06:24.712205Z",
     "shell.execute_reply": "2025-08-19T19:06:24.710932Z"
    },
    "papermill": {
     "duration": 1.324735,
     "end_time": "2025-08-19T19:06:24.714709",
     "exception": false,
     "start_time": "2025-08-19T19:06:23.389974",
     "status": "completed"
    },
    "tags": []
   },
   "outputs": [],
   "source": [
    "probs_calib = model.predict_proba(X_calib)"
   ]
  },
  {
   "cell_type": "code",
   "execution_count": 39,
   "id": "a792d4dd",
   "metadata": {
    "execution": {
     "iopub.execute_input": "2025-08-19T19:06:24.758800Z",
     "iopub.status.busy": "2025-08-19T19:06:24.757235Z",
     "iopub.status.idle": "2025-08-19T19:06:24.772159Z",
     "shell.execute_reply": "2025-08-19T19:06:24.770868Z"
    },
    "papermill": {
     "duration": 0.034593,
     "end_time": "2025-08-19T19:06:24.775759",
     "exception": false,
     "start_time": "2025-08-19T19:06:24.741166",
     "status": "completed"
    },
    "tags": []
   },
   "outputs": [],
   "source": [
    "y_calib = y_calib.values.ravel().astype(int)"
   ]
  },
  {
   "cell_type": "code",
   "execution_count": 40,
   "id": "650fd033",
   "metadata": {
    "execution": {
     "iopub.execute_input": "2025-08-19T19:06:24.806547Z",
     "iopub.status.busy": "2025-08-19T19:06:24.803763Z",
     "iopub.status.idle": "2025-08-19T19:06:24.820348Z",
     "shell.execute_reply": "2025-08-19T19:06:24.819260Z"
    },
    "papermill": {
     "duration": 0.035328,
     "end_time": "2025-08-19T19:06:24.822876",
     "exception": false,
     "start_time": "2025-08-19T19:06:24.787548",
     "status": "completed"
    },
    "tags": []
   },
   "outputs": [],
   "source": [
    "from fairness_multiverse.conformal import compute_nc_scores\n",
    "\n",
    "# Compute nonconformity scores on calibration set (1 - probability of true class)\n",
    "nc_scores = compute_nc_scores(probs_calib, y_calib)"
   ]
  },
  {
   "cell_type": "code",
   "execution_count": 41,
   "id": "28ada44c",
   "metadata": {
    "execution": {
     "iopub.execute_input": "2025-08-19T19:06:24.851792Z",
     "iopub.status.busy": "2025-08-19T19:06:24.851302Z",
     "iopub.status.idle": "2025-08-19T19:06:24.857328Z",
     "shell.execute_reply": "2025-08-19T19:06:24.856534Z"
    },
    "papermill": {
     "duration": 0.020071,
     "end_time": "2025-08-19T19:06:24.858880",
     "exception": false,
     "start_time": "2025-08-19T19:06:24.838809",
     "status": "completed"
    },
    "tags": []
   },
   "outputs": [],
   "source": [
    "from fairness_multiverse.conformal import find_threshold\n",
    "\n",
    "# Find conformal threshold q_hat for the given alpha (split conformal method)\n",
    "q_hat = find_threshold(nc_scores, alpha)"
   ]
  },
  {
   "cell_type": "code",
   "execution_count": 42,
   "id": "df56469e",
   "metadata": {
    "execution": {
     "iopub.execute_input": "2025-08-19T19:06:24.885581Z",
     "iopub.status.busy": "2025-08-19T19:06:24.885117Z",
     "iopub.status.idle": "2025-08-19T19:06:24.891137Z",
     "shell.execute_reply": "2025-08-19T19:06:24.890423Z"
    },
    "papermill": {
     "duration": 0.020259,
     "end_time": "2025-08-19T19:06:24.892851",
     "exception": false,
     "start_time": "2025-08-19T19:06:24.872592",
     "status": "completed"
    },
    "tags": []
   },
   "outputs": [
    {
     "data": {
      "text/plain": [
       "0.6599999999999999"
      ]
     },
     "execution_count": 42,
     "metadata": {},
     "output_type": "execute_result"
    }
   ],
   "source": [
    "q_hat"
   ]
  },
  {
   "cell_type": "code",
   "execution_count": 43,
   "id": "aa1f5faa",
   "metadata": {
    "execution": {
     "iopub.execute_input": "2025-08-19T19:06:24.950338Z",
     "iopub.status.busy": "2025-08-19T19:06:24.949855Z",
     "iopub.status.idle": "2025-08-19T19:06:26.880330Z",
     "shell.execute_reply": "2025-08-19T19:06:26.877979Z"
    },
    "papermill": {
     "duration": 1.977513,
     "end_time": "2025-08-19T19:06:26.882519",
     "exception": false,
     "start_time": "2025-08-19T19:06:24.905006",
     "status": "completed"
    },
    "tags": []
   },
   "outputs": [],
   "source": [
    "from fairness_multiverse.conformal import predict_conformal_sets\n",
    "\n",
    "# Generate prediction sets for each test example\n",
    "pred_sets = predict_conformal_sets(model, X_test, q_hat)"
   ]
  },
  {
   "cell_type": "code",
   "execution_count": 44,
   "id": "97f67a6b",
   "metadata": {
    "execution": {
     "iopub.execute_input": "2025-08-19T19:06:26.910221Z",
     "iopub.status.busy": "2025-08-19T19:06:26.909664Z",
     "iopub.status.idle": "2025-08-19T19:06:26.916450Z",
     "shell.execute_reply": "2025-08-19T19:06:26.915393Z"
    },
    "papermill": {
     "duration": 0.021492,
     "end_time": "2025-08-19T19:06:26.917670",
     "exception": false,
     "start_time": "2025-08-19T19:06:26.896178",
     "status": "completed"
    },
    "tags": []
   },
   "outputs": [],
   "source": [
    "y_true = y_true.squeeze()"
   ]
  },
  {
   "cell_type": "code",
   "execution_count": 45,
   "id": "e700e9a7",
   "metadata": {
    "execution": {
     "iopub.execute_input": "2025-08-19T19:06:26.944010Z",
     "iopub.status.busy": "2025-08-19T19:06:26.942817Z",
     "iopub.status.idle": "2025-08-19T19:06:27.451604Z",
     "shell.execute_reply": "2025-08-19T19:06:27.450689Z"
    },
    "papermill": {
     "duration": 0.523947,
     "end_time": "2025-08-19T19:06:27.453287",
     "exception": false,
     "start_time": "2025-08-19T19:06:26.929340",
     "status": "completed"
    },
    "tags": []
   },
   "outputs": [],
   "source": [
    "from fairness_multiverse.conformal import evaluate_sets\n",
    "\n",
    "# Evaluate coverage and average set size on test data\n",
    "metrics = evaluate_sets(pred_sets, y_true)"
   ]
  },
  {
   "cell_type": "markdown",
   "id": "efbacec0",
   "metadata": {
    "papermill": {
     "duration": 0.024584,
     "end_time": "2025-08-19T19:06:27.498274",
     "exception": false,
     "start_time": "2025-08-19T19:06:27.473690",
     "status": "completed"
    },
    "tags": []
   },
   "source": [
    "# CP Metrics"
   ]
  },
  {
   "cell_type": "code",
   "execution_count": 46,
   "id": "9de55fb1",
   "metadata": {
    "execution": {
     "iopub.execute_input": "2025-08-19T19:06:27.539009Z",
     "iopub.status.busy": "2025-08-19T19:06:27.538466Z",
     "iopub.status.idle": "2025-08-19T19:06:27.544979Z",
     "shell.execute_reply": "2025-08-19T19:06:27.544218Z"
    },
    "papermill": {
     "duration": 0.023291,
     "end_time": "2025-08-19T19:06:27.547287",
     "exception": false,
     "start_time": "2025-08-19T19:06:27.523996",
     "status": "completed"
    },
    "tags": []
   },
   "outputs": [
    {
     "data": {
      "text/plain": [
       "{'coverage': 0.91450228514101, 'avg_size': 1.1604503399843942}"
      ]
     },
     "execution_count": 46,
     "metadata": {},
     "output_type": "execute_result"
    }
   ],
   "source": [
    "metrics"
   ]
  },
  {
   "cell_type": "code",
   "execution_count": 47,
   "id": "64c340a1",
   "metadata": {
    "execution": {
     "iopub.execute_input": "2025-08-19T19:06:27.572031Z",
     "iopub.status.busy": "2025-08-19T19:06:27.571560Z",
     "iopub.status.idle": "2025-08-19T19:06:27.576973Z",
     "shell.execute_reply": "2025-08-19T19:06:27.576200Z"
    },
    "papermill": {
     "duration": 0.02066,
     "end_time": "2025-08-19T19:06:27.579654",
     "exception": false,
     "start_time": "2025-08-19T19:06:27.558994",
     "status": "completed"
    },
    "tags": []
   },
   "outputs": [],
   "source": [
    "example_universe = universe.copy()\n",
    "universe_training_year = example_universe.get(\"training_year\")\n",
    "universe_training_size = example_universe.get(\"training_size\")\n",
    "universe_scale = example_universe.get(\"scale\")\n",
    "universe_model = example_universe.get(\"model\")\n",
    "universe_exclude_features = example_universe.get(\"exclude_features\")\n",
    "universe_exclude_subgroups = example_universe.get(\"exclude_subgroups\")"
   ]
  },
  {
   "cell_type": "code",
   "execution_count": 48,
   "id": "dbb53cb4",
   "metadata": {
    "execution": {
     "iopub.execute_input": "2025-08-19T19:06:27.621513Z",
     "iopub.status.busy": "2025-08-19T19:06:27.620291Z",
     "iopub.status.idle": "2025-08-19T19:06:27.629893Z",
     "shell.execute_reply": "2025-08-19T19:06:27.628669Z"
    },
    "papermill": {
     "duration": 0.025719,
     "end_time": "2025-08-19T19:06:27.631365",
     "exception": false,
     "start_time": "2025-08-19T19:06:27.605646",
     "status": "completed"
    },
    "tags": []
   },
   "outputs": [],
   "source": [
    "cp_metrics_dict = {\n",
    "    \"universe_id\": [universe_id],\n",
    "    \"universe_training_year\": [universe_training_year],\n",
    "    \"universe_training_size\": [universe_training_size],\n",
    "    \"universe_scale\": [universe_scale],\n",
    "    \"universe_model\": [universe_model],\n",
    "    \"universe_exclude_features\": [universe_exclude_features],\n",
    "    \"universe_exclude_subgroups\": [universe_exclude_subgroups],\n",
    "    \"q_hat\": [q_hat],\n",
    "    \"coverage\": [metrics[\"coverage\"]],\n",
    "    \"avg_size\": [metrics[\"avg_size\"]],\n",
    "}"
   ]
  },
  {
   "cell_type": "code",
   "execution_count": 49,
   "id": "0d70d4b2",
   "metadata": {
    "execution": {
     "iopub.execute_input": "2025-08-19T19:06:27.660273Z",
     "iopub.status.busy": "2025-08-19T19:06:27.658758Z",
     "iopub.status.idle": "2025-08-19T19:06:27.670115Z",
     "shell.execute_reply": "2025-08-19T19:06:27.668903Z"
    },
    "papermill": {
     "duration": 0.025788,
     "end_time": "2025-08-19T19:06:27.671619",
     "exception": false,
     "start_time": "2025-08-19T19:06:27.645831",
     "status": "completed"
    },
    "tags": []
   },
   "outputs": [],
   "source": [
    "cp_metrics_df = pd.DataFrame(cp_metrics_dict)"
   ]
  },
  {
   "cell_type": "code",
   "execution_count": 50,
   "id": "b494403c",
   "metadata": {
    "execution": {
     "iopub.execute_input": "2025-08-19T19:06:27.700337Z",
     "iopub.status.busy": "2025-08-19T19:06:27.699182Z",
     "iopub.status.idle": "2025-08-19T19:06:27.722667Z",
     "shell.execute_reply": "2025-08-19T19:06:27.721688Z"
    },
    "papermill": {
     "duration": 0.038299,
     "end_time": "2025-08-19T19:06:27.724538",
     "exception": false,
     "start_time": "2025-08-19T19:06:27.686239",
     "status": "completed"
    },
    "tags": []
   },
   "outputs": [
    {
     "data": {
      "text/html": [
       "<div>\n",
       "<style scoped>\n",
       "    .dataframe tbody tr th:only-of-type {\n",
       "        vertical-align: middle;\n",
       "    }\n",
       "\n",
       "    .dataframe tbody tr th {\n",
       "        vertical-align: top;\n",
       "    }\n",
       "\n",
       "    .dataframe thead th {\n",
       "        text-align: right;\n",
       "    }\n",
       "</style>\n",
       "<table border=\"1\" class=\"dataframe\">\n",
       "  <thead>\n",
       "    <tr style=\"text-align: right;\">\n",
       "      <th></th>\n",
       "      <th>universe_id</th>\n",
       "      <th>universe_training_year</th>\n",
       "      <th>universe_training_size</th>\n",
       "      <th>universe_scale</th>\n",
       "      <th>universe_model</th>\n",
       "      <th>universe_exclude_features</th>\n",
       "      <th>universe_exclude_subgroups</th>\n",
       "      <th>q_hat</th>\n",
       "      <th>coverage</th>\n",
       "      <th>avg_size</th>\n",
       "    </tr>\n",
       "  </thead>\n",
       "  <tbody>\n",
       "    <tr>\n",
       "      <th>0</th>\n",
       "      <td>3801de5e81fd93924dffc1115d61a0cd</td>\n",
       "      <td>2010_14</td>\n",
       "      <td>1k</td>\n",
       "      <td>scale</td>\n",
       "      <td>rf</td>\n",
       "      <td>none</td>\n",
       "      <td>drop-non-german</td>\n",
       "      <td>0.66</td>\n",
       "      <td>0.914502</td>\n",
       "      <td>1.16045</td>\n",
       "    </tr>\n",
       "  </tbody>\n",
       "</table>\n",
       "</div>"
      ],
      "text/plain": [
       "                        universe_id universe_training_year  \\\n",
       "0  3801de5e81fd93924dffc1115d61a0cd                2010_14   \n",
       "\n",
       "  universe_training_size universe_scale universe_model  \\\n",
       "0                     1k          scale             rf   \n",
       "\n",
       "  universe_exclude_features universe_exclude_subgroups  q_hat  coverage  \\\n",
       "0                      none            drop-non-german   0.66  0.914502   \n",
       "\n",
       "   avg_size  \n",
       "0   1.16045  "
      ]
     },
     "execution_count": 50,
     "metadata": {},
     "output_type": "execute_result"
    }
   ],
   "source": [
    "cp_metrics_df"
   ]
  },
  {
   "cell_type": "markdown",
   "id": "ed608b0b",
   "metadata": {
    "papermill": {
     "duration": 0.0116,
     "end_time": "2025-08-19T19:06:27.754560",
     "exception": false,
     "start_time": "2025-08-19T19:06:27.742960",
     "status": "completed"
    },
    "tags": []
   },
   "source": [
    "Conditional coverage & looking at subgroups"
   ]
  },
  {
   "cell_type": "code",
   "execution_count": 51,
   "id": "8968c366",
   "metadata": {
    "execution": {
     "iopub.execute_input": "2025-08-19T19:06:27.780713Z",
     "iopub.status.busy": "2025-08-19T19:06:27.779377Z",
     "iopub.status.idle": "2025-08-19T19:06:28.090749Z",
     "shell.execute_reply": "2025-08-19T19:06:28.089802Z"
    },
    "papermill": {
     "duration": 0.326687,
     "end_time": "2025-08-19T19:06:28.092819",
     "exception": false,
     "start_time": "2025-08-19T19:06:27.766132",
     "status": "completed"
    },
    "tags": []
   },
   "outputs": [],
   "source": [
    "from fairness_multiverse.conformal import build_cp_groups\n",
    "\n",
    "cp_groups_df = build_cp_groups(pred_sets, y_true, X_test.index, org_test)"
   ]
  },
  {
   "cell_type": "code",
   "execution_count": 52,
   "id": "292ddabf",
   "metadata": {
    "execution": {
     "iopub.execute_input": "2025-08-19T19:06:28.119148Z",
     "iopub.status.busy": "2025-08-19T19:06:28.118028Z",
     "iopub.status.idle": "2025-08-19T19:06:28.996809Z",
     "shell.execute_reply": "2025-08-19T19:06:28.994816Z"
    },
    "papermill": {
     "duration": 0.893509,
     "end_time": "2025-08-19T19:06:28.998593",
     "exception": false,
     "start_time": "2025-08-19T19:06:28.105084",
     "status": "completed"
    },
    "tags": []
   },
   "outputs": [],
   "source": [
    "# Define covered = 1 if true_label is in the predicted set\n",
    "cp_groups_df['covered'] = cp_groups_df.apply(\n",
    "    lambda r: int(r['true_label'] in r['pred_set']),\n",
    "    axis=1\n",
    ")"
   ]
  },
  {
   "cell_type": "code",
   "execution_count": 53,
   "id": "3a261692",
   "metadata": {
    "execution": {
     "iopub.execute_input": "2025-08-19T19:06:29.047396Z",
     "iopub.status.busy": "2025-08-19T19:06:29.045811Z",
     "iopub.status.idle": "2025-08-19T19:06:29.072259Z",
     "shell.execute_reply": "2025-08-19T19:06:29.071230Z"
    },
    "papermill": {
     "duration": 0.056733,
     "end_time": "2025-08-19T19:06:29.074371",
     "exception": false,
     "start_time": "2025-08-19T19:06:29.017638",
     "status": "completed"
    },
    "tags": []
   },
   "outputs": [],
   "source": [
    "subgroups = ['frau1','nongerman','nongerman_male','nongerman_female']\n",
    "\n",
    "# Conditional coverage for subgroup==1\n",
    "cond_coverage = {\n",
    "    g: cp_groups_df.loc[cp_groups_df[g]==1, 'covered'].mean()\n",
    "    for g in subgroups\n",
    "}"
   ]
  },
  {
   "cell_type": "code",
   "execution_count": 54,
   "id": "894fd600",
   "metadata": {
    "execution": {
     "iopub.execute_input": "2025-08-19T19:06:29.118145Z",
     "iopub.status.busy": "2025-08-19T19:06:29.116864Z",
     "iopub.status.idle": "2025-08-19T19:06:29.130430Z",
     "shell.execute_reply": "2025-08-19T19:06:29.129264Z"
    },
    "papermill": {
     "duration": 0.03037,
     "end_time": "2025-08-19T19:06:29.131878",
     "exception": false,
     "start_time": "2025-08-19T19:06:29.101508",
     "status": "completed"
    },
    "tags": []
   },
   "outputs": [
    {
     "data": {
      "text/plain": [
       "{'frau1': 0.913088017252999,\n",
       " 'nongerman': 0.904395666086566,\n",
       " 'nongerman_male': 0.9240745744393407,\n",
       " 'nongerman_female': 0.8718330849478391}"
      ]
     },
     "execution_count": 54,
     "metadata": {},
     "output_type": "execute_result"
    }
   ],
   "source": [
    "cond_coverage"
   ]
  },
  {
   "cell_type": "code",
   "execution_count": 55,
   "id": "942895c7",
   "metadata": {
    "execution": {
     "iopub.execute_input": "2025-08-19T19:06:29.161923Z",
     "iopub.status.busy": "2025-08-19T19:06:29.161493Z",
     "iopub.status.idle": "2025-08-19T19:06:29.167272Z",
     "shell.execute_reply": "2025-08-19T19:06:29.166630Z"
    },
    "papermill": {
     "duration": 0.019968,
     "end_time": "2025-08-19T19:06:29.168302",
     "exception": false,
     "start_time": "2025-08-19T19:06:29.148334",
     "status": "completed"
    },
    "tags": []
   },
   "outputs": [],
   "source": [
    "for subgroup, cov in cond_coverage.items():\n",
    "    cp_metrics_df[f\"cov_{subgroup}\"] = cov"
   ]
  },
  {
   "cell_type": "code",
   "execution_count": 56,
   "id": "3970120f",
   "metadata": {
    "execution": {
     "iopub.execute_input": "2025-08-19T19:06:29.195444Z",
     "iopub.status.busy": "2025-08-19T19:06:29.195042Z",
     "iopub.status.idle": "2025-08-19T19:06:29.209143Z",
     "shell.execute_reply": "2025-08-19T19:06:29.208436Z"
    },
    "papermill": {
     "duration": 0.028289,
     "end_time": "2025-08-19T19:06:29.210341",
     "exception": false,
     "start_time": "2025-08-19T19:06:29.182052",
     "status": "completed"
    },
    "tags": []
   },
   "outputs": [
    {
     "data": {
      "text/html": [
       "<div>\n",
       "<style scoped>\n",
       "    .dataframe tbody tr th:only-of-type {\n",
       "        vertical-align: middle;\n",
       "    }\n",
       "\n",
       "    .dataframe tbody tr th {\n",
       "        vertical-align: top;\n",
       "    }\n",
       "\n",
       "    .dataframe thead th {\n",
       "        text-align: right;\n",
       "    }\n",
       "</style>\n",
       "<table border=\"1\" class=\"dataframe\">\n",
       "  <thead>\n",
       "    <tr style=\"text-align: right;\">\n",
       "      <th></th>\n",
       "      <th>universe_id</th>\n",
       "      <th>universe_training_year</th>\n",
       "      <th>universe_training_size</th>\n",
       "      <th>universe_scale</th>\n",
       "      <th>universe_model</th>\n",
       "      <th>universe_exclude_features</th>\n",
       "      <th>universe_exclude_subgroups</th>\n",
       "      <th>q_hat</th>\n",
       "      <th>coverage</th>\n",
       "      <th>avg_size</th>\n",
       "      <th>cov_frau1</th>\n",
       "      <th>cov_nongerman</th>\n",
       "      <th>cov_nongerman_male</th>\n",
       "      <th>cov_nongerman_female</th>\n",
       "    </tr>\n",
       "  </thead>\n",
       "  <tbody>\n",
       "    <tr>\n",
       "      <th>0</th>\n",
       "      <td>3801de5e81fd93924dffc1115d61a0cd</td>\n",
       "      <td>2010_14</td>\n",
       "      <td>1k</td>\n",
       "      <td>scale</td>\n",
       "      <td>rf</td>\n",
       "      <td>none</td>\n",
       "      <td>drop-non-german</td>\n",
       "      <td>0.66</td>\n",
       "      <td>0.914502</td>\n",
       "      <td>1.16045</td>\n",
       "      <td>0.913088</td>\n",
       "      <td>0.904396</td>\n",
       "      <td>0.924075</td>\n",
       "      <td>0.871833</td>\n",
       "    </tr>\n",
       "  </tbody>\n",
       "</table>\n",
       "</div>"
      ],
      "text/plain": [
       "                        universe_id universe_training_year  \\\n",
       "0  3801de5e81fd93924dffc1115d61a0cd                2010_14   \n",
       "\n",
       "  universe_training_size universe_scale universe_model  \\\n",
       "0                     1k          scale             rf   \n",
       "\n",
       "  universe_exclude_features universe_exclude_subgroups  q_hat  coverage  \\\n",
       "0                      none            drop-non-german   0.66  0.914502   \n",
       "\n",
       "   avg_size  cov_frau1  cov_nongerman  cov_nongerman_male  \\\n",
       "0   1.16045   0.913088       0.904396            0.924075   \n",
       "\n",
       "   cov_nongerman_female  \n",
       "0              0.871833  "
      ]
     },
     "execution_count": 56,
     "metadata": {},
     "output_type": "execute_result"
    }
   ],
   "source": [
    "cp_metrics_df"
   ]
  },
  {
   "cell_type": "markdown",
   "id": "3fc519cc",
   "metadata": {
    "papermill": {
     "duration": 0.012249,
     "end_time": "2025-08-19T19:06:29.237784",
     "exception": false,
     "start_time": "2025-08-19T19:06:29.225535",
     "status": "completed"
    },
    "tags": []
   },
   "source": [
    "# (Fairness) Metrics"
   ]
  },
  {
   "cell_type": "code",
   "execution_count": 57,
   "id": "a2e5e155",
   "metadata": {
    "execution": {
     "iopub.execute_input": "2025-08-19T19:06:29.265243Z",
     "iopub.status.busy": "2025-08-19T19:06:29.264194Z",
     "iopub.status.idle": "2025-08-19T19:06:29.297676Z",
     "shell.execute_reply": "2025-08-19T19:06:29.296315Z"
    },
    "papermill": {
     "duration": 0.049766,
     "end_time": "2025-08-19T19:06:29.299715",
     "exception": false,
     "start_time": "2025-08-19T19:06:29.249949",
     "status": "completed"
    },
    "tags": []
   },
   "outputs": [],
   "source": [
    "colname_to_bin = \"maxdeutsch1\"\n",
    "majority_value = org_train[colname_to_bin].mode()[0]\n",
    "\n",
    "org_test[\"majmin\"] = np.where(org_test[colname_to_bin] == majority_value, \"majority\", \"minority\")"
   ]
  },
  {
   "cell_type": "code",
   "execution_count": 58,
   "id": "17e3e4d5",
   "metadata": {
    "execution": {
     "iopub.execute_input": "2025-08-19T19:06:29.343191Z",
     "iopub.status.busy": "2025-08-19T19:06:29.341705Z",
     "iopub.status.idle": "2025-08-19T19:06:31.112624Z",
     "shell.execute_reply": "2025-08-19T19:06:31.109994Z"
    },
    "papermill": {
     "duration": 1.79002,
     "end_time": "2025-08-19T19:06:31.114707",
     "exception": false,
     "start_time": "2025-08-19T19:06:29.324687",
     "status": "completed"
    },
    "tags": []
   },
   "outputs": [],
   "source": [
    "example_universe = universe.copy()\n",
    "example_universe[\"cutoff\"] = example_universe[\"cutoff\"][0]\n",
    "example_universe[\"eval_fairness_grouping\"] = example_universe[\"eval_fairness_grouping\"][0]\n",
    "fairness_dict, metric_frame = universe_analysis.compute_metrics(\n",
    "    example_universe,\n",
    "    y_pred_prob=probs_test,\n",
    "    y_test=y_true,\n",
    "    org_test=org_test,\n",
    ")"
   ]
  },
  {
   "cell_type": "markdown",
   "id": "1fb7a0e9",
   "metadata": {
    "papermill": {
     "duration": 0.012492,
     "end_time": "2025-08-19T19:06:31.142991",
     "exception": false,
     "start_time": "2025-08-19T19:06:31.130499",
     "status": "completed"
    },
    "tags": []
   },
   "source": [
    "# Overall"
   ]
  },
  {
   "cell_type": "markdown",
   "id": "be1784b1",
   "metadata": {
    "papermill": {
     "duration": 0.012355,
     "end_time": "2025-08-19T19:06:31.167641",
     "exception": false,
     "start_time": "2025-08-19T19:06:31.155286",
     "status": "completed"
    },
    "tags": []
   },
   "source": [
    "Main fairness target: Equalized Odds. Seems to be a better fit than equal opportunity, since we're not only interested in Y = 1. Seems to be a better fit than demographic parity, since we also care about accuracy, not just equal distribution of preds.\n",
    "\n",
    "Pick column for computation of fairness metrics\n",
    "\n",
    "Performance\n",
    "Overall performance measures, most interesting in relation to the measures split by group below"
   ]
  },
  {
   "cell_type": "code",
   "execution_count": 59,
   "id": "b7672bee",
   "metadata": {
    "execution": {
     "iopub.execute_input": "2025-08-19T19:06:31.195380Z",
     "iopub.status.busy": "2025-08-19T19:06:31.194452Z",
     "iopub.status.idle": "2025-08-19T19:06:31.210301Z",
     "shell.execute_reply": "2025-08-19T19:06:31.209054Z"
    },
    "papermill": {
     "duration": 0.03201,
     "end_time": "2025-08-19T19:06:31.211844",
     "exception": false,
     "start_time": "2025-08-19T19:06:31.179834",
     "status": "completed"
    },
    "tags": []
   },
   "outputs": [
    {
     "data": {
      "text/plain": [
       "accuracy                   0.218025\n",
       "balanced accuracy          0.542471\n",
       "f1                         0.243092\n",
       "precision                  0.138778\n",
       "false positive rate        0.893941\n",
       "false negative rate        0.021116\n",
       "selection rate             0.904838\n",
       "count                  89710.000000\n",
       "dtype: float64"
      ]
     },
     "execution_count": 59,
     "metadata": {},
     "output_type": "execute_result"
    }
   ],
   "source": [
    "metric_frame.overall"
   ]
  },
  {
   "cell_type": "markdown",
   "id": "d93333c9",
   "metadata": {
    "papermill": {
     "duration": 0.012497,
     "end_time": "2025-08-19T19:06:31.244686",
     "exception": false,
     "start_time": "2025-08-19T19:06:31.232189",
     "status": "completed"
    },
    "tags": []
   },
   "source": [
    "By Group"
   ]
  },
  {
   "cell_type": "code",
   "execution_count": 60,
   "id": "52256966",
   "metadata": {
    "execution": {
     "iopub.execute_input": "2025-08-19T19:06:31.272521Z",
     "iopub.status.busy": "2025-08-19T19:06:31.271531Z",
     "iopub.status.idle": "2025-08-19T19:06:31.295149Z",
     "shell.execute_reply": "2025-08-19T19:06:31.294153Z"
    },
    "papermill": {
     "duration": 0.039907,
     "end_time": "2025-08-19T19:06:31.296916",
     "exception": false,
     "start_time": "2025-08-19T19:06:31.257009",
     "status": "completed"
    },
    "tags": []
   },
   "outputs": [
    {
     "data": {
      "text/html": [
       "<div>\n",
       "<style scoped>\n",
       "    .dataframe tbody tr th:only-of-type {\n",
       "        vertical-align: middle;\n",
       "    }\n",
       "\n",
       "    .dataframe tbody tr th {\n",
       "        vertical-align: top;\n",
       "    }\n",
       "\n",
       "    .dataframe thead th {\n",
       "        text-align: right;\n",
       "    }\n",
       "</style>\n",
       "<table border=\"1\" class=\"dataframe\">\n",
       "  <thead>\n",
       "    <tr style=\"text-align: right;\">\n",
       "      <th></th>\n",
       "      <th>accuracy</th>\n",
       "      <th>balanced accuracy</th>\n",
       "      <th>f1</th>\n",
       "      <th>precision</th>\n",
       "      <th>false positive rate</th>\n",
       "      <th>false negative rate</th>\n",
       "      <th>selection rate</th>\n",
       "      <th>count</th>\n",
       "    </tr>\n",
       "    <tr>\n",
       "      <th>majmin</th>\n",
       "      <th></th>\n",
       "      <th></th>\n",
       "      <th></th>\n",
       "      <th></th>\n",
       "      <th></th>\n",
       "      <th></th>\n",
       "      <th></th>\n",
       "      <th></th>\n",
       "    </tr>\n",
       "  </thead>\n",
       "  <tbody>\n",
       "    <tr>\n",
       "      <th>majority</th>\n",
       "      <td>0.223825</td>\n",
       "      <td>0.544893</td>\n",
       "      <td>0.250440</td>\n",
       "      <td>0.143536</td>\n",
       "      <td>0.891504</td>\n",
       "      <td>0.018709</td>\n",
       "      <td>0.903369</td>\n",
       "      <td>69170.0</td>\n",
       "    </tr>\n",
       "    <tr>\n",
       "      <th>minority</th>\n",
       "      <td>0.198491</td>\n",
       "      <td>0.533801</td>\n",
       "      <td>0.218095</td>\n",
       "      <td>0.122866</td>\n",
       "      <td>0.901992</td>\n",
       "      <td>0.030405</td>\n",
       "      <td>0.909786</td>\n",
       "      <td>20540.0</td>\n",
       "    </tr>\n",
       "  </tbody>\n",
       "</table>\n",
       "</div>"
      ],
      "text/plain": [
       "          accuracy  balanced accuracy        f1  precision  \\\n",
       "majmin                                                       \n",
       "majority  0.223825           0.544893  0.250440   0.143536   \n",
       "minority  0.198491           0.533801  0.218095   0.122866   \n",
       "\n",
       "          false positive rate  false negative rate  selection rate    count  \n",
       "majmin                                                                       \n",
       "majority             0.891504             0.018709        0.903369  69170.0  \n",
       "minority             0.901992             0.030405        0.909786  20540.0  "
      ]
     },
     "execution_count": 60,
     "metadata": {},
     "output_type": "execute_result"
    }
   ],
   "source": [
    "metric_frame.by_group"
   ]
  },
  {
   "cell_type": "code",
   "execution_count": 61,
   "id": "6e6c20ae",
   "metadata": {
    "execution": {
     "iopub.execute_input": "2025-08-19T19:06:31.338012Z",
     "iopub.status.busy": "2025-08-19T19:06:31.337293Z",
     "iopub.status.idle": "2025-08-19T19:06:33.209482Z",
     "shell.execute_reply": "2025-08-19T19:06:33.208504Z"
    },
    "papermill": {
     "duration": 1.88855,
     "end_time": "2025-08-19T19:06:33.210866",
     "exception": false,
     "start_time": "2025-08-19T19:06:31.322316",
     "status": "completed"
    },
    "tags": []
   },
   "outputs": [
    {
     "data": {
      "text/plain": [
       "array([[<Axes: title={'center': 'accuracy'}, xlabel='majmin'>,\n",
       "        <Axes: title={'center': 'balanced accuracy'}, xlabel='majmin'>,\n",
       "        <Axes: title={'center': 'f1'}, xlabel='majmin'>],\n",
       "       [<Axes: title={'center': 'precision'}, xlabel='majmin'>,\n",
       "        <Axes: title={'center': 'false positive rate'}, xlabel='majmin'>,\n",
       "        <Axes: title={'center': 'false negative rate'}, xlabel='majmin'>],\n",
       "       [<Axes: title={'center': 'selection rate'}, xlabel='majmin'>,\n",
       "        <Axes: title={'center': 'count'}, xlabel='majmin'>,\n",
       "        <Axes: xlabel='majmin'>]], dtype=object)"
      ]
     },
     "execution_count": 61,
     "metadata": {},
     "output_type": "execute_result"
    },
    {
     "data": {
      "image/png": "[encoded data removed]",
      "text/plain": [
       "<Figure size 1200x800 with 9 Axes>"
      ]
     },
     "metadata": {},
     "output_type": "display_data"
    }
   ],
   "source": [
    "# In a graphic\n",
    "metric_frame.by_group.plot.bar(\n",
    "    subplots=True,\n",
    "    layout=[3, 3],\n",
    "    legend=False,\n",
    "    figsize=[12, 8],\n",
    "    title=\"Show all metrics\",\n",
    ")"
   ]
  },
  {
   "cell_type": "markdown",
   "id": "b2e433ae",
   "metadata": {
    "papermill": {
     "duration": 0.027214,
     "end_time": "2025-08-19T19:06:33.257155",
     "exception": false,
     "start_time": "2025-08-19T19:06:33.229941",
     "status": "completed"
    },
    "tags": []
   },
   "source": [
    "# Final Output"
   ]
  },
  {
   "cell_type": "code",
   "execution_count": 62,
   "id": "3871301e",
   "metadata": {
    "execution": {
     "iopub.execute_input": "2025-08-19T19:06:33.288139Z",
     "iopub.status.busy": "2025-08-19T19:06:33.287137Z",
     "iopub.status.idle": "2025-08-19T19:06:33.297522Z",
     "shell.execute_reply": "2025-08-19T19:06:33.296783Z"
    },
    "papermill": {
     "duration": 0.027056,
     "end_time": "2025-08-19T19:06:33.298906",
     "exception": false,
     "start_time": "2025-08-19T19:06:33.271850",
     "status": "completed"
    },
    "tags": []
   },
   "outputs": [
    {
     "data": {
      "text/plain": [
       "4"
      ]
     },
     "execution_count": 62,
     "metadata": {},
     "output_type": "execute_result"
    }
   ],
   "source": [
    "sub_universes = universe_analysis.generate_sub_universes()\n",
    "len(sub_universes)"
   ]
  },
  {
   "cell_type": "code",
   "execution_count": 63,
   "id": "d9cfdaca",
   "metadata": {
    "execution": {
     "iopub.execute_input": "2025-08-19T19:06:33.331241Z",
     "iopub.status.busy": "2025-08-19T19:06:33.330828Z",
     "iopub.status.idle": "2025-08-19T19:06:33.335786Z",
     "shell.execute_reply": "2025-08-19T19:06:33.335070Z"
    },
    "papermill": {
     "duration": 0.021074,
     "end_time": "2025-08-19T19:06:33.337262",
     "exception": false,
     "start_time": "2025-08-19T19:06:33.316188",
     "status": "completed"
    },
    "tags": []
   },
   "outputs": [],
   "source": [
    "def filter_sub_universe_data(sub_universe, org_test):\n",
    "    # Keep all rows — no filtering\n",
    "    keep_rows_mask = np.ones(org_test.shape[0], dtype=bool)\n",
    "\n",
    "    print(f\"[INFO] Keeping all rows: {keep_rows_mask.sum()} rows retained.\")\n",
    "    return keep_rows_mask"
   ]
  },
  {
   "cell_type": "code",
   "execution_count": 64,
   "id": "2bc31ac1",
   "metadata": {
    "execution": {
     "iopub.execute_input": "2025-08-19T19:06:33.367826Z",
     "iopub.status.busy": "2025-08-19T19:06:33.367235Z",
     "iopub.status.idle": "2025-08-19T19:06:40.341773Z",
     "shell.execute_reply": "2025-08-19T19:06:40.339857Z"
    },
    "papermill": {
     "duration": 6.99126,
     "end_time": "2025-08-19T19:06:40.343726",
     "exception": false,
     "start_time": "2025-08-19T19:06:33.352466",
     "status": "completed"
    },
    "tags": []
   },
   "outputs": [
    {
     "name": "stdout",
     "output_type": "stream",
     "text": [
      "Stopping execution_time clock.\n",
      "[INFO] Keeping all rows: 89710 rows retained.\n"
     ]
    },
    {
     "name": "stdout",
     "output_type": "stream",
     "text": [
      "[INFO] Keeping all rows: 89710 rows retained.\n"
     ]
    },
    {
     "name": "stdout",
     "output_type": "stream",
     "text": [
      "[INFO] Keeping all rows: 89710 rows retained.\n"
     ]
    },
    {
     "name": "stdout",
     "output_type": "stream",
     "text": [
      "[INFO] Keeping all rows: 89710 rows retained.\n"
     ]
    },
    {
     "data": {
      "text/html": [
       "<div>\n",
       "<style scoped>\n",
       "    .dataframe tbody tr th:only-of-type {\n",
       "        vertical-align: middle;\n",
       "    }\n",
       "\n",
       "    .dataframe tbody tr th {\n",
       "        vertical-align: top;\n",
       "    }\n",
       "\n",
       "    .dataframe thead th {\n",
       "        text-align: right;\n",
       "    }\n",
       "</style>\n",
       "<table border=\"1\" class=\"dataframe\">\n",
       "  <thead>\n",
       "    <tr style=\"text-align: right;\">\n",
       "      <th></th>\n",
       "      <th>run_no</th>\n",
       "      <th>universe_id</th>\n",
       "      <th>universe_settings</th>\n",
       "      <th>execution_time</th>\n",
       "      <th>test_size_n</th>\n",
       "      <th>test_size_frac</th>\n",
       "      <th>fair_main_equalized_odds_difference</th>\n",
       "      <th>fair_main_equalized_odds_ratio</th>\n",
       "      <th>fair_main_demographic_parity_difference</th>\n",
       "      <th>fair_main_demographic_parity_ratio</th>\n",
       "      <th>...</th>\n",
       "      <th>perf_grp_precision_0</th>\n",
       "      <th>perf_grp_precision_1</th>\n",
       "      <th>perf_grp_false positive rate_0</th>\n",
       "      <th>perf_grp_false positive rate_1</th>\n",
       "      <th>perf_grp_false negative rate_0</th>\n",
       "      <th>perf_grp_false negative rate_1</th>\n",
       "      <th>perf_grp_selection rate_0</th>\n",
       "      <th>perf_grp_selection rate_1</th>\n",
       "      <th>perf_grp_count_0</th>\n",
       "      <th>perf_grp_count_1</th>\n",
       "    </tr>\n",
       "  </thead>\n",
       "  <tbody>\n",
       "    <tr>\n",
       "      <th>0</th>\n",
       "      <td>3</td>\n",
       "      <td>3801de5e81fd93924dffc1115d61a0cd</td>\n",
       "      <td>{\"cutoff\": \"quantile_0.1\", \"eval_fairness_grou...</td>\n",
       "      <td>27.58152</td>\n",
       "      <td>89710</td>\n",
       "      <td>1.0</td>\n",
       "      <td>0.011696</td>\n",
       "      <td>0.988081</td>\n",
       "      <td>0.006417</td>\n",
       "      <td>0.992946</td>\n",
       "      <td>...</td>\n",
       "      <td>NaN</td>\n",
       "      <td>NaN</td>\n",
       "      <td>NaN</td>\n",
       "      <td>NaN</td>\n",
       "      <td>NaN</td>\n",
       "      <td>NaN</td>\n",
       "      <td>NaN</td>\n",
       "      <td>NaN</td>\n",
       "      <td>NaN</td>\n",
       "      <td>NaN</td>\n",
       "    </tr>\n",
       "    <tr>\n",
       "      <th>0</th>\n",
       "      <td>3</td>\n",
       "      <td>3801de5e81fd93924dffc1115d61a0cd</td>\n",
       "      <td>{\"cutoff\": \"quantile_0.1\", \"eval_fairness_grou...</td>\n",
       "      <td>27.58152</td>\n",
       "      <td>89710</td>\n",
       "      <td>1.0</td>\n",
       "      <td>0.011696</td>\n",
       "      <td>0.988081</td>\n",
       "      <td>0.006417</td>\n",
       "      <td>0.992946</td>\n",
       "      <td>...</td>\n",
       "      <td>0.122866</td>\n",
       "      <td>0.143536</td>\n",
       "      <td>0.901992</td>\n",
       "      <td>0.891504</td>\n",
       "      <td>0.030405</td>\n",
       "      <td>0.018709</td>\n",
       "      <td>0.909786</td>\n",
       "      <td>0.903369</td>\n",
       "      <td>20540.0</td>\n",
       "      <td>69170.0</td>\n",
       "    </tr>\n",
       "    <tr>\n",
       "      <th>0</th>\n",
       "      <td>3</td>\n",
       "      <td>3801de5e81fd93924dffc1115d61a0cd</td>\n",
       "      <td>{\"cutoff\": \"quantile_0.25\", \"eval_fairness_gro...</td>\n",
       "      <td>27.58152</td>\n",
       "      <td>89710</td>\n",
       "      <td>1.0</td>\n",
       "      <td>0.063838</td>\n",
       "      <td>0.932216</td>\n",
       "      <td>0.008613</td>\n",
       "      <td>0.988900</td>\n",
       "      <td>...</td>\n",
       "      <td>NaN</td>\n",
       "      <td>NaN</td>\n",
       "      <td>NaN</td>\n",
       "      <td>NaN</td>\n",
       "      <td>NaN</td>\n",
       "      <td>NaN</td>\n",
       "      <td>NaN</td>\n",
       "      <td>NaN</td>\n",
       "      <td>NaN</td>\n",
       "      <td>NaN</td>\n",
       "    </tr>\n",
       "    <tr>\n",
       "      <th>0</th>\n",
       "      <td>3</td>\n",
       "      <td>3801de5e81fd93924dffc1115d61a0cd</td>\n",
       "      <td>{\"cutoff\": \"quantile_0.25\", \"eval_fairness_gro...</td>\n",
       "      <td>27.58152</td>\n",
       "      <td>89710</td>\n",
       "      <td>1.0</td>\n",
       "      <td>0.063838</td>\n",
       "      <td>0.932216</td>\n",
       "      <td>0.008613</td>\n",
       "      <td>0.988900</td>\n",
       "      <td>...</td>\n",
       "      <td>0.130435</td>\n",
       "      <td>0.162170</td>\n",
       "      <td>0.762712</td>\n",
       "      <td>0.740830</td>\n",
       "      <td>0.122044</td>\n",
       "      <td>0.058206</td>\n",
       "      <td>0.775998</td>\n",
       "      <td>0.767385</td>\n",
       "      <td>20540.0</td>\n",
       "      <td>69170.0</td>\n",
       "    </tr>\n",
       "  </tbody>\n",
       "</table>\n",
       "<p>4 rows × 50 columns</p>\n",
       "</div>"
      ],
      "text/plain": [
       "  run_no                       universe_id  \\\n",
       "0      3  3801de5e81fd93924dffc1115d61a0cd   \n",
       "0      3  3801de5e81fd93924dffc1115d61a0cd   \n",
       "0      3  3801de5e81fd93924dffc1115d61a0cd   \n",
       "0      3  3801de5e81fd93924dffc1115d61a0cd   \n",
       "\n",
       "                                   universe_settings  execution_time  \\\n",
       "0  {\"cutoff\": \"quantile_0.1\", \"eval_fairness_grou...        27.58152   \n",
       "0  {\"cutoff\": \"quantile_0.1\", \"eval_fairness_grou...        27.58152   \n",
       "0  {\"cutoff\": \"quantile_0.25\", \"eval_fairness_gro...        27.58152   \n",
       "0  {\"cutoff\": \"quantile_0.25\", \"eval_fairness_gro...        27.58152   \n",
       "\n",
       "   test_size_n  test_size_frac  fair_main_equalized_odds_difference  \\\n",
       "0        89710             1.0                             0.011696   \n",
       "0        89710             1.0                             0.011696   \n",
       "0        89710             1.0                             0.063838   \n",
       "0        89710             1.0                             0.063838   \n",
       "\n",
       "   fair_main_equalized_odds_ratio  fair_main_demographic_parity_difference  \\\n",
       "0                        0.988081                                 0.006417   \n",
       "0                        0.988081                                 0.006417   \n",
       "0                        0.932216                                 0.008613   \n",
       "0                        0.932216                                 0.008613   \n",
       "\n",
       "   fair_main_demographic_parity_ratio  ...  perf_grp_precision_0  \\\n",
       "0                            0.992946  ...                   NaN   \n",
       "0                            0.992946  ...              0.122866   \n",
       "0                            0.988900  ...                   NaN   \n",
       "0                            0.988900  ...              0.130435   \n",
       "\n",
       "   perf_grp_precision_1  perf_grp_false positive rate_0  \\\n",
       "0                   NaN                             NaN   \n",
       "0              0.143536                        0.901992   \n",
       "0                   NaN                             NaN   \n",
       "0              0.162170                        0.762712   \n",
       "\n",
       "   perf_grp_false positive rate_1  perf_grp_false negative rate_0  \\\n",
       "0                             NaN                             NaN   \n",
       "0                        0.891504                        0.030405   \n",
       "0                             NaN                             NaN   \n",
       "0                        0.740830                        0.122044   \n",
       "\n",
       "   perf_grp_false negative rate_1  perf_grp_selection rate_0  \\\n",
       "0                             NaN                        NaN   \n",
       "0                        0.018709                   0.909786   \n",
       "0                             NaN                        NaN   \n",
       "0                        0.058206                   0.775998   \n",
       "\n",
       "   perf_grp_selection rate_1  perf_grp_count_0  perf_grp_count_1  \n",
       "0                        NaN               NaN               NaN  \n",
       "0                   0.903369           20540.0           69170.0  \n",
       "0                        NaN               NaN               NaN  \n",
       "0                   0.767385           20540.0           69170.0  \n",
       "\n",
       "[4 rows x 50 columns]"
      ]
     },
     "execution_count": 64,
     "metadata": {},
     "output_type": "execute_result"
    }
   ],
   "source": [
    "final_output = universe_analysis.generate_final_output(\n",
    "    y_pred_prob=probs_test,\n",
    "    y_test=y_true,\n",
    "    org_test=org_test,\n",
    "    filter_data=filter_sub_universe_data,\n",
    "    cp_metrics_df=cp_metrics_df,\n",
    "    save=True,\n",
    ")\n",
    "final_output"
   ]
  },
  {
   "cell_type": "code",
   "execution_count": null,
   "id": "8b80a1ff",
   "metadata": {
    "papermill": {
     "duration": 0.016108,
     "end_time": "2025-08-19T19:06:40.392024",
     "exception": false,
     "start_time": "2025-08-19T19:06:40.375916",
     "status": "completed"
    },
    "tags": []
   },
   "outputs": [],
   "source": []
  },
  {
   "cell_type": "code",
   "execution_count": null,
   "id": "275c9fad",
   "metadata": {
    "papermill": {
     "duration": 0.014499,
     "end_time": "2025-08-19T19:06:40.420930",
     "exception": false,
     "start_time": "2025-08-19T19:06:40.406431",
     "status": "completed"
    },
    "tags": []
   },
   "outputs": [],
   "source": []
  }
 ],
 "metadata": {
  "celltoolbar": "Tags",
  "kernelspec": {
   "display_name": "Python (CMA Fairness)",
   "language": "python",
   "name": "cma_fair_env"
  },
  "language_info": {
   "codemirror_mode": {
    "name": "ipython",
    "version": 3
   },
   "file_extension": ".py",
   "mimetype": "text/x-python",
   "name": "python",
   "nbconvert_exporter": "python",
   "pygments_lexer": "ipython3",
   "version": "3.10.12"
  },
  "papermill": {
   "default_parameters": {},
   "duration": 38.317827,
   "end_time": "2025-08-19T19:06:41.359410",
   "environment_variables": {},
   "exception": null,
   "input_path": "universe_analysis.ipynb",
   "output_path": "output/runs/3/notebooks/m_3-3801de5e81fd93924dffc1115d61a0cd.ipynb",
   "parameters": {
    "output_dir": "output",
    "run_no": "3",
    "seed": "2023",
    "universe": "{\"cutoff\": [\"quantile_0.1\", \"quantile_0.25\"], \"eval_fairness_grouping\": [\"majority-minority\", \"nationality-all\"], \"exclude_features\": \"none\", \"exclude_subgroups\": \"drop-non-german\", \"model\": \"rf\", \"scale\": \"scale\", \"training_size\": \"1k\", \"training_year\": \"2010_14\"}",
    "universe_id": "3801de5e81fd93924dffc1115d61a0cd"
   },
   "start_time": "2025-08-19T19:06:03.041583",
   "version": "2.6.0"
  }
 },
 "nbformat": 4,
 "nbformat_minor": 5
}