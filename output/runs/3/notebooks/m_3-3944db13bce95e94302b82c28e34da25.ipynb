{
 "cells": [
  {
   "cell_type": "markdown",
   "id": "ef23dbb3",
   "metadata": {
    "papermill": {
     "duration": 0.013773,
     "end_time": "2025-08-19T18:45:59.145781",
     "exception": false,
     "start_time": "2025-08-19T18:45:59.132008",
     "status": "completed"
    },
    "tags": []
   },
   "source": [
    "# Setup"
   ]
  },
  {
   "cell_type": "code",
   "execution_count": 1,
   "id": "0bc8e7dc",
   "metadata": {
    "execution": {
     "iopub.execute_input": "2025-08-19T18:45:59.182377Z",
     "iopub.status.busy": "2025-08-19T18:45:59.180734Z",
     "iopub.status.idle": "2025-08-19T18:45:59.194987Z",
     "shell.execute_reply": "2025-08-19T18:45:59.193743Z"
    },
    "papermill": {
     "duration": 0.029617,
     "end_time": "2025-08-19T18:45:59.198052",
     "exception": false,
     "start_time": "2025-08-19T18:45:59.168435",
     "status": "completed"
    },
    "tags": []
   },
   "outputs": [
    {
     "name": "stdout",
     "output_type": "stream",
     "text": [
      "/dss/dsshome1/0C/ra93lal2/cma/CMA_Fairness_v2\n"
     ]
    },
    {
     "name": "stderr",
     "output_type": "stream",
     "text": [
      "/dss/dsshome1/0C/ra93lal2/.local/share/virtualenvs/CMA_Fairness_v2-3j10GkSs/lib/python3.10/site-packages/IPython/core/magics/osm.py:393: UserWarning: This is now an optional IPython functionality, using bookmarks requires you to install the `pickleshare` library.\n",
      "  bkms = self.shell.db.get('bookmarks', {})\n",
      "/dss/dsshome1/0C/ra93lal2/.local/share/virtualenvs/CMA_Fairness_v2-3j10GkSs/lib/python3.10/site-packages/IPython/core/magics/osm.py:417: UserWarning: This is now an optional IPython functionality, setting dhist requires you to install the `pickleshare` library.\n",
      "  self.shell.db['dhist'] = compress_dhist(dhist)[-100:]\n"
     ]
    }
   ],
   "source": [
    "%cd ~/cma/CMA_Fairness_v2"
   ]
  },
  {
   "cell_type": "markdown",
   "id": "9d235661",
   "metadata": {
    "papermill": {
     "duration": 0.013117,
     "end_time": "2025-08-19T18:45:59.232032",
     "exception": false,
     "start_time": "2025-08-19T18:45:59.218915",
     "status": "completed"
    },
    "tags": []
   },
   "source": [
    "The following cell holds the definition of our parameters, these values can be overriden by rendering the with e.g. the following command:\n",
    "\n",
    "papermill -p alpha 0.2 -p ratio 0.3 universe_analysis.ipynb output/test_run.ipynb"
   ]
  },
  {
   "cell_type": "code",
   "execution_count": 2,
   "id": "4a789d8e",
   "metadata": {
    "execution": {
     "iopub.execute_input": "2025-08-19T18:45:59.251973Z",
     "iopub.status.busy": "2025-08-19T18:45:59.251511Z",
     "iopub.status.idle": "2025-08-19T18:45:59.256639Z",
     "shell.execute_reply": "2025-08-19T18:45:59.255817Z"
    },
    "papermill": {
     "duration": 0.018395,
     "end_time": "2025-08-19T18:45:59.260059",
     "exception": false,
     "start_time": "2025-08-19T18:45:59.241664",
     "status": "completed"
    },
    "tags": []
   },
   "outputs": [
    {
     "name": "stdout",
     "output_type": "stream",
     "text": [
      "Current working directory: /dss/dsshome1/0C/ra93lal2/cma/CMA_Fairness_v2\n"
     ]
    }
   ],
   "source": [
    "import os\n",
    "print(\"Current working directory:\", os.getcwd())"
   ]
  },
  {
   "cell_type": "code",
   "execution_count": 3,
   "id": "4132aaed",
   "metadata": {
    "execution": {
     "iopub.execute_input": "2025-08-19T18:45:59.292811Z",
     "iopub.status.busy": "2025-08-19T18:45:59.292230Z",
     "iopub.status.idle": "2025-08-19T18:45:59.298515Z",
     "shell.execute_reply": "2025-08-19T18:45:59.297591Z"
    },
    "papermill": {
     "duration": 0.019796,
     "end_time": "2025-08-19T18:45:59.299696",
     "exception": false,
     "start_time": "2025-08-19T18:45:59.279900",
     "status": "completed"
    },
    "tags": [
     "parameters"
    ]
   },
   "outputs": [],
   "source": [
    "run_no = 0\n",
    "universe_id = \"test\"\n",
    "universe = {\n",
    "    \"training_size\": \"5k\", # \"25k\", \"5k\", \"1k\"\n",
    "    \"training_year\": \"2012_14\", # \"2014\", \"2012_14\", \"2010_14\"\n",
    "    \"scale\": \"scale\", # \"scale\", \"do-not-scale\",\n",
    "    \"model\": \"elasticnet\", # \"logreg\", \"penalized_logreg\", \"rf\", \"gbm\", \"elasticnet\"\n",
    "    \"cutoff\": [\"quantile_0.15\", \"quantile_0.30\"],\n",
    "    \"exclude_features\": \"age\", # \"none\", \"nationality\", \"sex\", \"nationality-sex\", \"age\"\n",
    "    \"exclude_subgroups\": \"drop-non-german\", # \"keep-all\", \"drop-non-german\"\n",
    "    \"eval_fairness_grouping\": [\"majority-minority\", \"nationality-all\"]\n",
    "}\n",
    "\n",
    "output_dir=\"./output\"\n",
    "seed=0"
   ]
  },
  {
   "cell_type": "code",
   "execution_count": 4,
   "id": "07ddbce7",
   "metadata": {
    "execution": {
     "iopub.execute_input": "2025-08-19T18:45:59.319950Z",
     "iopub.status.busy": "2025-08-19T18:45:59.319500Z",
     "iopub.status.idle": "2025-08-19T18:45:59.325109Z",
     "shell.execute_reply": "2025-08-19T18:45:59.324151Z"
    },
    "papermill": {
     "duration": 0.017692,
     "end_time": "2025-08-19T18:45:59.326733",
     "exception": false,
     "start_time": "2025-08-19T18:45:59.309041",
     "status": "completed"
    },
    "tags": [
     "injected-parameters"
    ]
   },
   "outputs": [],
   "source": [
    "# Parameters\n",
    "universe_id = \"3944db13bce95e94302b82c28e34da25\"\n",
    "run_no = \"3\"\n",
    "universe = \"{\\\"cutoff\\\": [\\\"quantile_0.1\\\", \\\"quantile_0.25\\\"], \\\"eval_fairness_grouping\\\": [\\\"majority-minority\\\", \\\"nationality-all\\\"], \\\"exclude_features\\\": \\\"none\\\", \\\"exclude_subgroups\\\": \\\"keep-all\\\", \\\"model\\\": \\\"rf\\\", \\\"scale\\\": \\\"do-not-scale\\\", \\\"training_size\\\": \\\"5k\\\", \\\"training_year\\\": \\\"2010_14\\\"}\"\n",
    "output_dir = \"output\"\n",
    "seed = \"2023\"\n"
   ]
  },
  {
   "cell_type": "code",
   "execution_count": 5,
   "id": "a5d7941f",
   "metadata": {
    "execution": {
     "iopub.execute_input": "2025-08-19T18:45:59.381514Z",
     "iopub.status.busy": "2025-08-19T18:45:59.381022Z",
     "iopub.status.idle": "2025-08-19T18:45:59.386208Z",
     "shell.execute_reply": "2025-08-19T18:45:59.385276Z"
    },
    "papermill": {
     "duration": 0.026901,
     "end_time": "2025-08-19T18:45:59.387972",
     "exception": false,
     "start_time": "2025-08-19T18:45:59.361071",
     "status": "completed"
    },
    "tags": []
   },
   "outputs": [],
   "source": [
    "import json\n",
    "if isinstance(universe, str):\n",
    "    universe = json.loads(universe)"
   ]
  },
  {
   "cell_type": "code",
   "execution_count": 6,
   "id": "7076ccb1",
   "metadata": {
    "execution": {
     "iopub.execute_input": "2025-08-19T18:45:59.413939Z",
     "iopub.status.busy": "2025-08-19T18:45:59.413467Z",
     "iopub.status.idle": "2025-08-19T18:45:59.463892Z",
     "shell.execute_reply": "2025-08-19T18:45:59.461680Z"
    },
    "papermill": {
     "duration": 0.064429,
     "end_time": "2025-08-19T18:45:59.465483",
     "exception": false,
     "start_time": "2025-08-19T18:45:59.401054",
     "status": "completed"
    },
    "tags": []
   },
   "outputs": [],
   "source": [
    "# Auto-reload the custom package\n",
    "%load_ext autoreload\n",
    "%autoreload 1\n",
    "%aimport fairness_multiverse"
   ]
  },
  {
   "cell_type": "code",
   "execution_count": 7,
   "id": "94c8eb93",
   "metadata": {
    "execution": {
     "iopub.execute_input": "2025-08-19T18:45:59.485942Z",
     "iopub.status.busy": "2025-08-19T18:45:59.485613Z",
     "iopub.status.idle": "2025-08-19T18:46:01.195605Z",
     "shell.execute_reply": "2025-08-19T18:46:01.194804Z"
    },
    "papermill": {
     "duration": 1.72339,
     "end_time": "2025-08-19T18:46:01.198373",
     "exception": false,
     "start_time": "2025-08-19T18:45:59.474983",
     "status": "completed"
    },
    "tags": []
   },
   "outputs": [],
   "source": [
    "from fairness_multiverse.universe import UniverseAnalysis\n",
    "\n",
    "universe_analysis = UniverseAnalysis(\n",
    "    run_no = run_no,\n",
    "    universe_id = universe_id,\n",
    "    universe = universe,\n",
    "    output_dir=output_dir,\n",
    ")"
   ]
  },
  {
   "cell_type": "code",
   "execution_count": 8,
   "id": "2a6381cf",
   "metadata": {
    "execution": {
     "iopub.execute_input": "2025-08-19T18:46:01.231995Z",
     "iopub.status.busy": "2025-08-19T18:46:01.230836Z",
     "iopub.status.idle": "2025-08-19T18:46:01.242879Z",
     "shell.execute_reply": "2025-08-19T18:46:01.241419Z"
    },
    "papermill": {
     "duration": 0.026493,
     "end_time": "2025-08-19T18:46:01.244684",
     "exception": false,
     "start_time": "2025-08-19T18:46:01.218191",
     "status": "completed"
    },
    "tags": []
   },
   "outputs": [
    {
     "name": "stdout",
     "output_type": "stream",
     "text": [
      "Using Seed: 2023\n"
     ]
    }
   ],
   "source": [
    "import numpy as np\n",
    "parsed_seed = int(seed)\n",
    "np.random.seed(parsed_seed)\n",
    "print(f\"Using Seed: {parsed_seed}\")"
   ]
  },
  {
   "cell_type": "markdown",
   "id": "b6e958b4",
   "metadata": {
    "papermill": {
     "duration": 0.00915,
     "end_time": "2025-08-19T18:46:01.265898",
     "exception": false,
     "start_time": "2025-08-19T18:46:01.256748",
     "status": "completed"
    },
    "tags": []
   },
   "source": [
    "# Loading Data"
   ]
  },
  {
   "cell_type": "code",
   "execution_count": 9,
   "id": "98701482",
   "metadata": {
    "execution": {
     "iopub.execute_input": "2025-08-19T18:46:01.285494Z",
     "iopub.status.busy": "2025-08-19T18:46:01.285153Z",
     "iopub.status.idle": "2025-08-19T18:46:10.761101Z",
     "shell.execute_reply": "2025-08-19T18:46:10.759389Z"
    },
    "papermill": {
     "duration": 9.487808,
     "end_time": "2025-08-19T18:46:10.762736",
     "exception": false,
     "start_time": "2025-08-19T18:46:01.274928",
     "status": "completed"
    },
    "tags": []
   },
   "outputs": [
    {
     "name": "stdout",
     "output_type": "stream",
     "text": [
      "Loading SIAB data from cache: data/siab_cached.csv.gz\n"
     ]
    },
    {
     "name": "stdout",
     "output_type": "stream",
     "text": [
      "(643690, 164)\n"
     ]
    }
   ],
   "source": [
    "from pathlib import Path\n",
    "import pandas as pd\n",
    "\n",
    "# File paths\n",
    "raw_file = Path(\"data/raw/siab.csv\")\n",
    "cache_file = Path(\"data/siab_cached.csv.gz\")\n",
    "\n",
    "# Ensure cache directory exists\n",
    "cache_file.parent.mkdir(parents=True, exist_ok=True)\n",
    "\n",
    "# Load with simple caching\n",
    "if cache_file.exists():\n",
    "    print(f\"Loading SIAB data from cache: {cache_file}\")\n",
    "    siab = pd.read_csv(cache_file, compression='gzip')\n",
    "else:\n",
    "    print(f\"Cache not found. Reading raw SIAB data: {raw_file}\")\n",
    "    siab = pd.read_csv(raw_file)\n",
    "    siab.to_csv(cache_file, index=False, compression='gzip')\n",
    "    print(f\"Cached SIAB data to: {cache_file}\")\n",
    "\n",
    "print(siab.shape)"
   ]
  },
  {
   "cell_type": "code",
   "execution_count": 10,
   "id": "058d2abb",
   "metadata": {
    "execution": {
     "iopub.execute_input": "2025-08-19T18:46:10.814212Z",
     "iopub.status.busy": "2025-08-19T18:46:10.812562Z",
     "iopub.status.idle": "2025-08-19T18:46:10.963029Z",
     "shell.execute_reply": "2025-08-19T18:46:10.962160Z"
    },
    "papermill": {
     "duration": 0.186053,
     "end_time": "2025-08-19T18:46:10.966278",
     "exception": false,
     "start_time": "2025-08-19T18:46:10.780225",
     "status": "completed"
    },
    "tags": []
   },
   "outputs": [
    {
     "data": {
      "text/html": [
       "<div>\n",
       "<style scoped>\n",
       "    .dataframe tbody tr th:only-of-type {\n",
       "        vertical-align: middle;\n",
       "    }\n",
       "\n",
       "    .dataframe tbody tr th {\n",
       "        vertical-align: top;\n",
       "    }\n",
       "\n",
       "    .dataframe thead th {\n",
       "        text-align: right;\n",
       "    }\n",
       "</style>\n",
       "<table border=\"1\" class=\"dataframe\">\n",
       "  <thead>\n",
       "    <tr style=\"text-align: right;\">\n",
       "      <th></th>\n",
       "      <th>persnr</th>\n",
       "      <th>year</th>\n",
       "      <th>nrEntry</th>\n",
       "      <th>ltue</th>\n",
       "      <th>employed_before</th>\n",
       "      <th>receipt_leh_before</th>\n",
       "      <th>receipt_lhg_before</th>\n",
       "      <th>se_before</th>\n",
       "      <th>ASU_notue_seeking_before</th>\n",
       "      <th>ASU_other_before</th>\n",
       "      <th>...</th>\n",
       "      <th>minijob_tot_dur_byage</th>\n",
       "      <th>ft_tot_dur_byage</th>\n",
       "      <th>befrist_tot_dur_byage</th>\n",
       "      <th>leih_tot_dur_byage</th>\n",
       "      <th>LHG_tot_dur_byage</th>\n",
       "      <th>LEH_tot_dur_byage</th>\n",
       "      <th>almp_tot_dur_byage</th>\n",
       "      <th>almp_aw_tot_dur_byage</th>\n",
       "      <th>se_tot_dur_byage</th>\n",
       "      <th>seeking1_tot_dur_byage</th>\n",
       "    </tr>\n",
       "  </thead>\n",
       "  <tbody>\n",
       "    <tr>\n",
       "      <th>0</th>\n",
       "      <td>7</td>\n",
       "      <td>2015</td>\n",
       "      <td>1</td>\n",
       "      <td>0</td>\n",
       "      <td>1</td>\n",
       "      <td>0</td>\n",
       "      <td>0</td>\n",
       "      <td>0</td>\n",
       "      <td>1</td>\n",
       "      <td>0</td>\n",
       "      <td>...</td>\n",
       "      <td>0.000000</td>\n",
       "      <td>0.000000</td>\n",
       "      <td>15.043478</td>\n",
       "      <td>0.000000</td>\n",
       "      <td>0.000000</td>\n",
       "      <td>0.000000</td>\n",
       "      <td>0.000000</td>\n",
       "      <td>0.000000</td>\n",
       "      <td>0.000000</td>\n",
       "      <td>0.000000</td>\n",
       "    </tr>\n",
       "    <tr>\n",
       "      <th>1</th>\n",
       "      <td>18</td>\n",
       "      <td>2010</td>\n",
       "      <td>1</td>\n",
       "      <td>1</td>\n",
       "      <td>0</td>\n",
       "      <td>0</td>\n",
       "      <td>0</td>\n",
       "      <td>0</td>\n",
       "      <td>0</td>\n",
       "      <td>0</td>\n",
       "      <td>...</td>\n",
       "      <td>0.000000</td>\n",
       "      <td>0.000000</td>\n",
       "      <td>0.000000</td>\n",
       "      <td>0.000000</td>\n",
       "      <td>0.000000</td>\n",
       "      <td>0.000000</td>\n",
       "      <td>0.000000</td>\n",
       "      <td>0.000000</td>\n",
       "      <td>0.000000</td>\n",
       "      <td>0.000000</td>\n",
       "    </tr>\n",
       "    <tr>\n",
       "      <th>2</th>\n",
       "      <td>18</td>\n",
       "      <td>2011</td>\n",
       "      <td>2</td>\n",
       "      <td>0</td>\n",
       "      <td>1</td>\n",
       "      <td>0</td>\n",
       "      <td>1</td>\n",
       "      <td>0</td>\n",
       "      <td>1</td>\n",
       "      <td>0</td>\n",
       "      <td>...</td>\n",
       "      <td>2.714286</td>\n",
       "      <td>2.714286</td>\n",
       "      <td>0.000000</td>\n",
       "      <td>0.000000</td>\n",
       "      <td>10.775510</td>\n",
       "      <td>0.000000</td>\n",
       "      <td>8.367347</td>\n",
       "      <td>0.000000</td>\n",
       "      <td>0.000000</td>\n",
       "      <td>9.836735</td>\n",
       "    </tr>\n",
       "    <tr>\n",
       "      <th>3</th>\n",
       "      <td>18</td>\n",
       "      <td>2012</td>\n",
       "      <td>3</td>\n",
       "      <td>0</td>\n",
       "      <td>1</td>\n",
       "      <td>0</td>\n",
       "      <td>1</td>\n",
       "      <td>0</td>\n",
       "      <td>1</td>\n",
       "      <td>0</td>\n",
       "      <td>...</td>\n",
       "      <td>4.200000</td>\n",
       "      <td>4.200000</td>\n",
       "      <td>0.000000</td>\n",
       "      <td>0.000000</td>\n",
       "      <td>12.100000</td>\n",
       "      <td>0.000000</td>\n",
       "      <td>9.400000</td>\n",
       "      <td>0.000000</td>\n",
       "      <td>0.000000</td>\n",
       "      <td>9.960000</td>\n",
       "    </tr>\n",
       "    <tr>\n",
       "      <th>4</th>\n",
       "      <td>18</td>\n",
       "      <td>2012</td>\n",
       "      <td>4</td>\n",
       "      <td>0</td>\n",
       "      <td>1</td>\n",
       "      <td>0</td>\n",
       "      <td>1</td>\n",
       "      <td>0</td>\n",
       "      <td>1</td>\n",
       "      <td>0</td>\n",
       "      <td>...</td>\n",
       "      <td>5.460000</td>\n",
       "      <td>5.460000</td>\n",
       "      <td>0.000000</td>\n",
       "      <td>0.000000</td>\n",
       "      <td>13.360000</td>\n",
       "      <td>0.000000</td>\n",
       "      <td>10.320000</td>\n",
       "      <td>0.000000</td>\n",
       "      <td>0.000000</td>\n",
       "      <td>10.280000</td>\n",
       "    </tr>\n",
       "    <tr>\n",
       "      <th>...</th>\n",
       "      <td>...</td>\n",
       "      <td>...</td>\n",
       "      <td>...</td>\n",
       "      <td>...</td>\n",
       "      <td>...</td>\n",
       "      <td>...</td>\n",
       "      <td>...</td>\n",
       "      <td>...</td>\n",
       "      <td>...</td>\n",
       "      <td>...</td>\n",
       "      <td>...</td>\n",
       "      <td>...</td>\n",
       "      <td>...</td>\n",
       "      <td>...</td>\n",
       "      <td>...</td>\n",
       "      <td>...</td>\n",
       "      <td>...</td>\n",
       "      <td>...</td>\n",
       "      <td>...</td>\n",
       "      <td>...</td>\n",
       "      <td>...</td>\n",
       "    </tr>\n",
       "    <tr>\n",
       "      <th>643685</th>\n",
       "      <td>1827860</td>\n",
       "      <td>2013</td>\n",
       "      <td>1</td>\n",
       "      <td>0</td>\n",
       "      <td>0</td>\n",
       "      <td>0</td>\n",
       "      <td>1</td>\n",
       "      <td>0</td>\n",
       "      <td>0</td>\n",
       "      <td>1</td>\n",
       "      <td>...</td>\n",
       "      <td>0.000000</td>\n",
       "      <td>0.000000</td>\n",
       "      <td>0.000000</td>\n",
       "      <td>0.000000</td>\n",
       "      <td>0.612903</td>\n",
       "      <td>0.000000</td>\n",
       "      <td>0.000000</td>\n",
       "      <td>0.000000</td>\n",
       "      <td>0.000000</td>\n",
       "      <td>0.000000</td>\n",
       "    </tr>\n",
       "    <tr>\n",
       "      <th>643686</th>\n",
       "      <td>1827860</td>\n",
       "      <td>2015</td>\n",
       "      <td>2</td>\n",
       "      <td>1</td>\n",
       "      <td>0</td>\n",
       "      <td>0</td>\n",
       "      <td>1</td>\n",
       "      <td>0</td>\n",
       "      <td>1</td>\n",
       "      <td>0</td>\n",
       "      <td>...</td>\n",
       "      <td>0.000000</td>\n",
       "      <td>0.000000</td>\n",
       "      <td>0.212121</td>\n",
       "      <td>0.212121</td>\n",
       "      <td>17.363636</td>\n",
       "      <td>0.000000</td>\n",
       "      <td>8.909091</td>\n",
       "      <td>0.000000</td>\n",
       "      <td>0.000000</td>\n",
       "      <td>7.121212</td>\n",
       "    </tr>\n",
       "    <tr>\n",
       "      <th>643687</th>\n",
       "      <td>1827860</td>\n",
       "      <td>2016</td>\n",
       "      <td>3</td>\n",
       "      <td>1</td>\n",
       "      <td>0</td>\n",
       "      <td>0</td>\n",
       "      <td>1</td>\n",
       "      <td>1</td>\n",
       "      <td>0</td>\n",
       "      <td>1</td>\n",
       "      <td>...</td>\n",
       "      <td>0.000000</td>\n",
       "      <td>0.000000</td>\n",
       "      <td>0.294118</td>\n",
       "      <td>0.205882</td>\n",
       "      <td>34.705882</td>\n",
       "      <td>0.000000</td>\n",
       "      <td>10.352941</td>\n",
       "      <td>1.705882</td>\n",
       "      <td>1.705882</td>\n",
       "      <td>23.911765</td>\n",
       "    </tr>\n",
       "    <tr>\n",
       "      <th>643688</th>\n",
       "      <td>1827869</td>\n",
       "      <td>2013</td>\n",
       "      <td>1</td>\n",
       "      <td>1</td>\n",
       "      <td>1</td>\n",
       "      <td>0</td>\n",
       "      <td>0</td>\n",
       "      <td>0</td>\n",
       "      <td>1</td>\n",
       "      <td>0</td>\n",
       "      <td>...</td>\n",
       "      <td>0.000000</td>\n",
       "      <td>0.000000</td>\n",
       "      <td>0.000000</td>\n",
       "      <td>0.000000</td>\n",
       "      <td>0.000000</td>\n",
       "      <td>0.525424</td>\n",
       "      <td>0.000000</td>\n",
       "      <td>0.000000</td>\n",
       "      <td>0.000000</td>\n",
       "      <td>0.000000</td>\n",
       "    </tr>\n",
       "    <tr>\n",
       "      <th>643689</th>\n",
       "      <td>1827869</td>\n",
       "      <td>2014</td>\n",
       "      <td>2</td>\n",
       "      <td>0</td>\n",
       "      <td>0</td>\n",
       "      <td>1</td>\n",
       "      <td>0</td>\n",
       "      <td>0</td>\n",
       "      <td>1</td>\n",
       "      <td>0</td>\n",
       "      <td>...</td>\n",
       "      <td>0.000000</td>\n",
       "      <td>0.666667</td>\n",
       "      <td>0.666667</td>\n",
       "      <td>0.000000</td>\n",
       "      <td>0.000000</td>\n",
       "      <td>8.950000</td>\n",
       "      <td>1.033333</td>\n",
       "      <td>0.083333</td>\n",
       "      <td>0.083333</td>\n",
       "      <td>8.133333</td>\n",
       "    </tr>\n",
       "  </tbody>\n",
       "</table>\n",
       "<p>643690 rows × 164 columns</p>\n",
       "</div>"
      ],
      "text/plain": [
       "         persnr  year  nrEntry  ltue  employed_before  receipt_leh_before  \\\n",
       "0             7  2015        1     0                1                   0   \n",
       "1            18  2010        1     1                0                   0   \n",
       "2            18  2011        2     0                1                   0   \n",
       "3            18  2012        3     0                1                   0   \n",
       "4            18  2012        4     0                1                   0   \n",
       "...         ...   ...      ...   ...              ...                 ...   \n",
       "643685  1827860  2013        1     0                0                   0   \n",
       "643686  1827860  2015        2     1                0                   0   \n",
       "643687  1827860  2016        3     1                0                   0   \n",
       "643688  1827869  2013        1     1                1                   0   \n",
       "643689  1827869  2014        2     0                0                   1   \n",
       "\n",
       "        receipt_lhg_before  se_before  ASU_notue_seeking_before  \\\n",
       "0                        0          0                         1   \n",
       "1                        0          0                         0   \n",
       "2                        1          0                         1   \n",
       "3                        1          0                         1   \n",
       "4                        1          0                         1   \n",
       "...                    ...        ...                       ...   \n",
       "643685                   1          0                         0   \n",
       "643686                   1          0                         1   \n",
       "643687                   1          1                         0   \n",
       "643688                   0          0                         1   \n",
       "643689                   0          0                         1   \n",
       "\n",
       "        ASU_other_before  ...  minijob_tot_dur_byage  ft_tot_dur_byage  \\\n",
       "0                      0  ...               0.000000          0.000000   \n",
       "1                      0  ...               0.000000          0.000000   \n",
       "2                      0  ...               2.714286          2.714286   \n",
       "3                      0  ...               4.200000          4.200000   \n",
       "4                      0  ...               5.460000          5.460000   \n",
       "...                  ...  ...                    ...               ...   \n",
       "643685                 1  ...               0.000000          0.000000   \n",
       "643686                 0  ...               0.000000          0.000000   \n",
       "643687                 1  ...               0.000000          0.000000   \n",
       "643688                 0  ...               0.000000          0.000000   \n",
       "643689                 0  ...               0.000000          0.666667   \n",
       "\n",
       "        befrist_tot_dur_byage  leih_tot_dur_byage  LHG_tot_dur_byage  \\\n",
       "0                   15.043478            0.000000           0.000000   \n",
       "1                    0.000000            0.000000           0.000000   \n",
       "2                    0.000000            0.000000          10.775510   \n",
       "3                    0.000000            0.000000          12.100000   \n",
       "4                    0.000000            0.000000          13.360000   \n",
       "...                       ...                 ...                ...   \n",
       "643685               0.000000            0.000000           0.612903   \n",
       "643686               0.212121            0.212121          17.363636   \n",
       "643687               0.294118            0.205882          34.705882   \n",
       "643688               0.000000            0.000000           0.000000   \n",
       "643689               0.666667            0.000000           0.000000   \n",
       "\n",
       "        LEH_tot_dur_byage  almp_tot_dur_byage  almp_aw_tot_dur_byage  \\\n",
       "0                0.000000            0.000000               0.000000   \n",
       "1                0.000000            0.000000               0.000000   \n",
       "2                0.000000            8.367347               0.000000   \n",
       "3                0.000000            9.400000               0.000000   \n",
       "4                0.000000           10.320000               0.000000   \n",
       "...                   ...                 ...                    ...   \n",
       "643685           0.000000            0.000000               0.000000   \n",
       "643686           0.000000            8.909091               0.000000   \n",
       "643687           0.000000           10.352941               1.705882   \n",
       "643688           0.525424            0.000000               0.000000   \n",
       "643689           8.950000            1.033333               0.083333   \n",
       "\n",
       "        se_tot_dur_byage  seeking1_tot_dur_byage  \n",
       "0               0.000000                0.000000  \n",
       "1               0.000000                0.000000  \n",
       "2               0.000000                9.836735  \n",
       "3               0.000000                9.960000  \n",
       "4               0.000000               10.280000  \n",
       "...                  ...                     ...  \n",
       "643685          0.000000                0.000000  \n",
       "643686          0.000000                7.121212  \n",
       "643687          1.705882               23.911765  \n",
       "643688          0.000000                0.000000  \n",
       "643689          0.083333                8.133333  \n",
       "\n",
       "[643690 rows x 164 columns]"
      ]
     },
     "execution_count": 10,
     "metadata": {},
     "output_type": "execute_result"
    }
   ],
   "source": [
    "siab"
   ]
  },
  {
   "cell_type": "markdown",
   "id": "1f87e805",
   "metadata": {
    "papermill": {
     "duration": 0.01419,
     "end_time": "2025-08-19T18:46:11.004734",
     "exception": false,
     "start_time": "2025-08-19T18:46:10.990544",
     "status": "completed"
    },
    "tags": []
   },
   "source": [
    "# Splitting Data and Setting Training Data Size"
   ]
  },
  {
   "cell_type": "code",
   "execution_count": 11,
   "id": "910ae358",
   "metadata": {
    "execution": {
     "iopub.execute_input": "2025-08-19T18:46:11.028974Z",
     "iopub.status.busy": "2025-08-19T18:46:11.027710Z",
     "iopub.status.idle": "2025-08-19T18:46:12.071829Z",
     "shell.execute_reply": "2025-08-19T18:46:12.070967Z"
    },
    "papermill": {
     "duration": 1.058161,
     "end_time": "2025-08-19T18:46:12.073859",
     "exception": false,
     "start_time": "2025-08-19T18:46:11.015698",
     "status": "completed"
    },
    "tags": []
   },
   "outputs": [],
   "source": [
    "from fairness_multiverse.universe import sample_by_year_size\n",
    "\n",
    "siab_train = sample_by_year_size(siab,\n",
    "                               training_year=universe[\"training_year\"],\n",
    "                               training_size=universe[\"training_size\"])"
   ]
  },
  {
   "cell_type": "code",
   "execution_count": 12,
   "id": "919c8ff5",
   "metadata": {
    "execution": {
     "iopub.execute_input": "2025-08-19T18:46:12.099635Z",
     "iopub.status.busy": "2025-08-19T18:46:12.098760Z",
     "iopub.status.idle": "2025-08-19T18:46:12.107244Z",
     "shell.execute_reply": "2025-08-19T18:46:12.106079Z"
    },
    "papermill": {
     "duration": 0.022156,
     "end_time": "2025-08-19T18:46:12.108906",
     "exception": false,
     "start_time": "2025-08-19T18:46:12.086750",
     "status": "completed"
    },
    "tags": []
   },
   "outputs": [
    {
     "data": {
      "text/plain": [
       "(5000, 164)"
      ]
     },
     "execution_count": 12,
     "metadata": {},
     "output_type": "execute_result"
    }
   ],
   "source": [
    "siab_train.shape"
   ]
  },
  {
   "cell_type": "code",
   "execution_count": 13,
   "id": "feb13bf4",
   "metadata": {
    "execution": {
     "iopub.execute_input": "2025-08-19T18:46:12.131471Z",
     "iopub.status.busy": "2025-08-19T18:46:12.130419Z",
     "iopub.status.idle": "2025-08-19T18:46:12.146852Z",
     "shell.execute_reply": "2025-08-19T18:46:12.145636Z"
    },
    "papermill": {
     "duration": 0.029916,
     "end_time": "2025-08-19T18:46:12.148942",
     "exception": false,
     "start_time": "2025-08-19T18:46:12.119026",
     "status": "completed"
    },
    "tags": []
   },
   "outputs": [
    {
     "data": {
      "text/plain": [
       "year\n",
       "2010    1000\n",
       "2011    1000\n",
       "2012    1000\n",
       "2013    1000\n",
       "2014    1000\n",
       "dtype: int64"
      ]
     },
     "metadata": {},
     "output_type": "display_data"
    }
   ],
   "source": [
    "display(siab_train.groupby(\"year\").size())"
   ]
  },
  {
   "cell_type": "code",
   "execution_count": 14,
   "id": "0997782f",
   "metadata": {
    "execution": {
     "iopub.execute_input": "2025-08-19T18:46:12.174116Z",
     "iopub.status.busy": "2025-08-19T18:46:12.172907Z",
     "iopub.status.idle": "2025-08-19T18:46:12.460584Z",
     "shell.execute_reply": "2025-08-19T18:46:12.459288Z"
    },
    "papermill": {
     "duration": 0.302972,
     "end_time": "2025-08-19T18:46:12.464118",
     "exception": false,
     "start_time": "2025-08-19T18:46:12.161146",
     "status": "completed"
    },
    "tags": []
   },
   "outputs": [],
   "source": [
    "#siab_train = siab_s[siab_s.year < 2015]\n",
    "siab_calib = siab[siab.year == 2015]\n",
    "siab_test = siab[siab.year == 2016]"
   ]
  },
  {
   "cell_type": "code",
   "execution_count": 15,
   "id": "2c1e4012",
   "metadata": {
    "execution": {
     "iopub.execute_input": "2025-08-19T18:46:12.501756Z",
     "iopub.status.busy": "2025-08-19T18:46:12.500428Z",
     "iopub.status.idle": "2025-08-19T18:46:12.508841Z",
     "shell.execute_reply": "2025-08-19T18:46:12.507006Z"
    },
    "papermill": {
     "duration": 0.024287,
     "end_time": "2025-08-19T18:46:12.511009",
     "exception": false,
     "start_time": "2025-08-19T18:46:12.486722",
     "status": "completed"
    },
    "tags": []
   },
   "outputs": [],
   "source": [
    "#siab_calib.shape"
   ]
  },
  {
   "cell_type": "code",
   "execution_count": 16,
   "id": "f66b54ca",
   "metadata": {
    "execution": {
     "iopub.execute_input": "2025-08-19T18:46:12.536161Z",
     "iopub.status.busy": "2025-08-19T18:46:12.535120Z",
     "iopub.status.idle": "2025-08-19T18:46:12.543115Z",
     "shell.execute_reply": "2025-08-19T18:46:12.541295Z"
    },
    "papermill": {
     "duration": 0.021372,
     "end_time": "2025-08-19T18:46:12.544720",
     "exception": false,
     "start_time": "2025-08-19T18:46:12.523348",
     "status": "completed"
    },
    "tags": []
   },
   "outputs": [],
   "source": [
    "#siab_test.shape"
   ]
  },
  {
   "cell_type": "code",
   "execution_count": 17,
   "id": "27e4384d",
   "metadata": {
    "execution": {
     "iopub.execute_input": "2025-08-19T18:46:12.585836Z",
     "iopub.status.busy": "2025-08-19T18:46:12.584541Z",
     "iopub.status.idle": "2025-08-19T18:46:12.597819Z",
     "shell.execute_reply": "2025-08-19T18:46:12.596425Z"
    },
    "papermill": {
     "duration": 0.030756,
     "end_time": "2025-08-19T18:46:12.599835",
     "exception": false,
     "start_time": "2025-08-19T18:46:12.569079",
     "status": "completed"
    },
    "tags": []
   },
   "outputs": [],
   "source": [
    "X_train = siab_train.iloc[:,4:164]\n",
    "y_train = siab_train.iloc[:, [3]]"
   ]
  },
  {
   "cell_type": "code",
   "execution_count": 18,
   "id": "08ee8389",
   "metadata": {
    "execution": {
     "iopub.execute_input": "2025-08-19T18:46:12.655435Z",
     "iopub.status.busy": "2025-08-19T18:46:12.654170Z",
     "iopub.status.idle": "2025-08-19T18:46:12.709251Z",
     "shell.execute_reply": "2025-08-19T18:46:12.708280Z"
    },
    "papermill": {
     "duration": 0.088416,
     "end_time": "2025-08-19T18:46:12.717263",
     "exception": false,
     "start_time": "2025-08-19T18:46:12.628847",
     "status": "completed"
    },
    "tags": []
   },
   "outputs": [],
   "source": [
    "X_calib = siab_calib.iloc[:,4:164]\n",
    "y_calib = siab_calib.iloc[:, [3]]"
   ]
  },
  {
   "cell_type": "code",
   "execution_count": 19,
   "id": "b7ff42e0",
   "metadata": {
    "execution": {
     "iopub.execute_input": "2025-08-19T18:46:12.748043Z",
     "iopub.status.busy": "2025-08-19T18:46:12.746621Z",
     "iopub.status.idle": "2025-08-19T18:46:12.809268Z",
     "shell.execute_reply": "2025-08-19T18:46:12.808352Z"
    },
    "papermill": {
     "duration": 0.078208,
     "end_time": "2025-08-19T18:46:12.811963",
     "exception": false,
     "start_time": "2025-08-19T18:46:12.733755",
     "status": "completed"
    },
    "tags": []
   },
   "outputs": [],
   "source": [
    "X_test = siab_test.iloc[:,4:164]\n",
    "y_true = siab_test.iloc[:, [3]]"
   ]
  },
  {
   "cell_type": "code",
   "execution_count": 20,
   "id": "0275101e",
   "metadata": {
    "execution": {
     "iopub.execute_input": "2025-08-19T18:46:12.850819Z",
     "iopub.status.busy": "2025-08-19T18:46:12.849291Z",
     "iopub.status.idle": "2025-08-19T18:46:12.976566Z",
     "shell.execute_reply": "2025-08-19T18:46:12.968703Z"
    },
    "papermill": {
     "duration": 0.144444,
     "end_time": "2025-08-19T18:46:12.979426",
     "exception": false,
     "start_time": "2025-08-19T18:46:12.834982",
     "status": "completed"
    },
    "tags": []
   },
   "outputs": [],
   "source": [
    "# Auxiliary data needed downstream in the pipeline\n",
    "\n",
    "org_train = X_train.copy()\n",
    "org_test = X_test.copy()\n",
    "org_calib = X_calib.copy()"
   ]
  },
  {
   "cell_type": "markdown",
   "id": "b461e618",
   "metadata": {
    "papermill": {
     "duration": 0.012582,
     "end_time": "2025-08-19T18:46:13.016817",
     "exception": false,
     "start_time": "2025-08-19T18:46:13.004235",
     "status": "completed"
    },
    "tags": []
   },
   "source": [
    "# Preprocessing Data"
   ]
  },
  {
   "cell_type": "code",
   "execution_count": 21,
   "id": "78e74c4b",
   "metadata": {
    "execution": {
     "iopub.execute_input": "2025-08-19T18:46:13.040221Z",
     "iopub.status.busy": "2025-08-19T18:46:13.039039Z",
     "iopub.status.idle": "2025-08-19T18:46:13.050555Z",
     "shell.execute_reply": "2025-08-19T18:46:13.048536Z"
    },
    "papermill": {
     "duration": 0.025111,
     "end_time": "2025-08-19T18:46:13.052210",
     "exception": false,
     "start_time": "2025-08-19T18:46:13.027099",
     "status": "completed"
    },
    "tags": []
   },
   "outputs": [],
   "source": [
    "# EXCLUDE PROTECTED FEATURES\n",
    "# --------------------------\n",
    "\n",
    "excluded_features = universe[\"exclude_features\"].split(\"-\")\n",
    "excluded_features_dictionary = {\n",
    "    \"nationality\": [\"maxdeutsch1\", \"maxdeutsch.Missing.\"],\n",
    "    \"sex\": [\"frau1\"],\n",
    "    \"age\": [\"age\"],\n",
    "}"
   ]
  },
  {
   "cell_type": "code",
   "execution_count": 22,
   "id": "f8e63555",
   "metadata": {
    "execution": {
     "iopub.execute_input": "2025-08-19T18:46:13.083160Z",
     "iopub.status.busy": "2025-08-19T18:46:13.081882Z",
     "iopub.status.idle": "2025-08-19T18:46:13.093075Z",
     "shell.execute_reply": "2025-08-19T18:46:13.090998Z"
    },
    "papermill": {
     "duration": 0.029568,
     "end_time": "2025-08-19T18:46:13.095283",
     "exception": false,
     "start_time": "2025-08-19T18:46:13.065715",
     "status": "completed"
    },
    "tags": []
   },
   "outputs": [],
   "source": [
    "excluded_features_columns = [\n",
    "    excluded_features_dictionary[f] for f in excluded_features if len(f) > 0 and f != \"none\"\n",
    "]"
   ]
  },
  {
   "cell_type": "code",
   "execution_count": 23,
   "id": "da781f7c",
   "metadata": {
    "execution": {
     "iopub.execute_input": "2025-08-19T18:46:13.137340Z",
     "iopub.status.busy": "2025-08-19T18:46:13.136146Z",
     "iopub.status.idle": "2025-08-19T18:46:13.145168Z",
     "shell.execute_reply": "2025-08-19T18:46:13.143917Z"
    },
    "papermill": {
     "duration": 0.02684,
     "end_time": "2025-08-19T18:46:13.147049",
     "exception": false,
     "start_time": "2025-08-19T18:46:13.120209",
     "status": "completed"
    },
    "tags": []
   },
   "outputs": [],
   "source": [
    "from fairness_multiverse.universe import flatten_once\n",
    "\n",
    "excluded_features_columns = flatten_once(excluded_features_columns)"
   ]
  },
  {
   "cell_type": "code",
   "execution_count": 24,
   "id": "37fef0f0",
   "metadata": {
    "execution": {
     "iopub.execute_input": "2025-08-19T18:46:13.182094Z",
     "iopub.status.busy": "2025-08-19T18:46:13.181098Z",
     "iopub.status.idle": "2025-08-19T18:46:13.191145Z",
     "shell.execute_reply": "2025-08-19T18:46:13.189345Z"
    },
    "papermill": {
     "duration": 0.031933,
     "end_time": "2025-08-19T18:46:13.193217",
     "exception": false,
     "start_time": "2025-08-19T18:46:13.161284",
     "status": "completed"
    },
    "tags": []
   },
   "outputs": [],
   "source": [
    "if len(excluded_features_columns) > 0:\n",
    "    print(f\"Dropping features: {excluded_features_columns}\")\n",
    "    X_train.drop(excluded_features_columns, axis=1, inplace=True)"
   ]
  },
  {
   "cell_type": "code",
   "execution_count": 25,
   "id": "d029e3e9",
   "metadata": {
    "execution": {
     "iopub.execute_input": "2025-08-19T18:46:13.222629Z",
     "iopub.status.busy": "2025-08-19T18:46:13.221167Z",
     "iopub.status.idle": "2025-08-19T18:46:13.230522Z",
     "shell.execute_reply": "2025-08-19T18:46:13.229267Z"
    },
    "papermill": {
     "duration": 0.024142,
     "end_time": "2025-08-19T18:46:13.232513",
     "exception": false,
     "start_time": "2025-08-19T18:46:13.208371",
     "status": "completed"
    },
    "tags": []
   },
   "outputs": [],
   "source": [
    "if len(excluded_features_columns) > 0:\n",
    "    print(f\"Dropping features: {excluded_features_columns}\")\n",
    "    X_test.drop(excluded_features_columns, axis=1, inplace=True)"
   ]
  },
  {
   "cell_type": "code",
   "execution_count": 26,
   "id": "01d571f0",
   "metadata": {
    "execution": {
     "iopub.execute_input": "2025-08-19T18:46:13.258933Z",
     "iopub.status.busy": "2025-08-19T18:46:13.257625Z",
     "iopub.status.idle": "2025-08-19T18:46:13.266726Z",
     "shell.execute_reply": "2025-08-19T18:46:13.265370Z"
    },
    "papermill": {
     "duration": 0.02369,
     "end_time": "2025-08-19T18:46:13.269170",
     "exception": false,
     "start_time": "2025-08-19T18:46:13.245480",
     "status": "completed"
    },
    "tags": []
   },
   "outputs": [],
   "source": [
    "if len(excluded_features_columns) > 0:\n",
    "    print(f\"Dropping features: {excluded_features_columns}\")\n",
    "    X_calib.drop(excluded_features_columns, axis=1, inplace=True)"
   ]
  },
  {
   "cell_type": "code",
   "execution_count": 27,
   "id": "3037356e",
   "metadata": {
    "execution": {
     "iopub.execute_input": "2025-08-19T18:46:13.296362Z",
     "iopub.status.busy": "2025-08-19T18:46:13.295162Z",
     "iopub.status.idle": "2025-08-19T18:46:13.303807Z",
     "shell.execute_reply": "2025-08-19T18:46:13.302565Z"
    },
    "papermill": {
     "duration": 0.023056,
     "end_time": "2025-08-19T18:46:13.305444",
     "exception": false,
     "start_time": "2025-08-19T18:46:13.282388",
     "status": "completed"
    },
    "tags": []
   },
   "outputs": [],
   "source": [
    "# EXCLUDE CERTAIN SUBGROUPS\n",
    "# -------------------------\n",
    "\n",
    "mode = universe.get(\"exclude_subgroups\", \"keep-all\") # Defaults to \"keep-all\" if the key is missing."
   ]
  },
  {
   "cell_type": "code",
   "execution_count": 28,
   "id": "9d1e63fd",
   "metadata": {
    "execution": {
     "iopub.execute_input": "2025-08-19T18:46:13.332389Z",
     "iopub.status.busy": "2025-08-19T18:46:13.331152Z",
     "iopub.status.idle": "2025-08-19T18:46:13.342221Z",
     "shell.execute_reply": "2025-08-19T18:46:13.341055Z"
    },
    "papermill": {
     "duration": 0.024927,
     "end_time": "2025-08-19T18:46:13.343781",
     "exception": false,
     "start_time": "2025-08-19T18:46:13.318854",
     "status": "completed"
    },
    "tags": []
   },
   "outputs": [],
   "source": [
    "if mode == \"keep-all\":\n",
    "    keep_mask = pd.Series(True, index=org_train.index)\n",
    "\n",
    "elif mode == \"drop-non-german\":\n",
    "    keep_mask = (org_train[\"maxdeutsch1\"] == 1) & (org_train[\"maxdeutsch.Missing.\"] == 0)\n",
    "\n",
    "else:\n",
    "    raise ValueError(f\"Unsupported mode for exclude_subgroups: {mode}\")"
   ]
  },
  {
   "cell_type": "code",
   "execution_count": 29,
   "id": "d3b65474",
   "metadata": {
    "execution": {
     "iopub.execute_input": "2025-08-19T18:46:13.370853Z",
     "iopub.status.busy": "2025-08-19T18:46:13.369787Z",
     "iopub.status.idle": "2025-08-19T18:46:13.380601Z",
     "shell.execute_reply": "2025-08-19T18:46:13.379405Z"
    },
    "papermill": {
     "duration": 0.02517,
     "end_time": "2025-08-19T18:46:13.382465",
     "exception": false,
     "start_time": "2025-08-19T18:46:13.357295",
     "status": "completed"
    },
    "tags": []
   },
   "outputs": [],
   "source": [
    "n_drop = (~keep_mask).sum() # Calculates how many rows are set to be dropped\n",
    "if n_drop > 0:\n",
    "    pct = n_drop / len(keep_mask) * 100\n",
    "    print(f\"Dropping {n_drop} rows ({pct:.2f}%) where mode='{mode}'\")"
   ]
  },
  {
   "cell_type": "code",
   "execution_count": 30,
   "id": "f44389b3",
   "metadata": {
    "execution": {
     "iopub.execute_input": "2025-08-19T18:46:13.423169Z",
     "iopub.status.busy": "2025-08-19T18:46:13.422065Z",
     "iopub.status.idle": "2025-08-19T18:46:13.439986Z",
     "shell.execute_reply": "2025-08-19T18:46:13.438655Z"
    },
    "papermill": {
     "duration": 0.042189,
     "end_time": "2025-08-19T18:46:13.442137",
     "exception": false,
     "start_time": "2025-08-19T18:46:13.399948",
     "status": "completed"
    },
    "tags": []
   },
   "outputs": [],
   "source": [
    "X_train = X_train[keep_mask]"
   ]
  },
  {
   "cell_type": "code",
   "execution_count": 31,
   "id": "ceca8c2a",
   "metadata": {
    "execution": {
     "iopub.execute_input": "2025-08-19T18:46:13.469944Z",
     "iopub.status.busy": "2025-08-19T18:46:13.468781Z",
     "iopub.status.idle": "2025-08-19T18:46:13.478524Z",
     "shell.execute_reply": "2025-08-19T18:46:13.477043Z"
    },
    "papermill": {
     "duration": 0.023897,
     "end_time": "2025-08-19T18:46:13.480358",
     "exception": false,
     "start_time": "2025-08-19T18:46:13.456461",
     "status": "completed"
    },
    "tags": []
   },
   "outputs": [],
   "source": [
    "y_train = y_train[keep_mask]"
   ]
  },
  {
   "cell_type": "markdown",
   "id": "04d31e2f",
   "metadata": {
    "papermill": {
     "duration": 0.010769,
     "end_time": "2025-08-19T18:46:13.504062",
     "exception": false,
     "start_time": "2025-08-19T18:46:13.493293",
     "status": "completed"
    },
    "tags": []
   },
   "source": [
    "# Model Training"
   ]
  },
  {
   "cell_type": "code",
   "execution_count": 32,
   "id": "db991733",
   "metadata": {
    "execution": {
     "iopub.execute_input": "2025-08-19T18:46:13.528343Z",
     "iopub.status.busy": "2025-08-19T18:46:13.526781Z",
     "iopub.status.idle": "2025-08-19T18:46:13.634834Z",
     "shell.execute_reply": "2025-08-19T18:46:13.633667Z"
    },
    "papermill": {
     "duration": 0.123615,
     "end_time": "2025-08-19T18:46:13.638158",
     "exception": false,
     "start_time": "2025-08-19T18:46:13.514543",
     "status": "completed"
    },
    "tags": []
   },
   "outputs": [],
   "source": [
    "from sklearn.linear_model import LogisticRegression\n",
    "from sklearn.ensemble import GradientBoostingClassifier, RandomForestClassifier\n",
    "\n",
    "if (universe[\"model\"] == \"logreg\"):\n",
    "    model = LogisticRegression() #penalty=\"none\", solver=\"newton-cg\", max_iter=1)\n",
    "elif (universe[\"model\"] == \"penalized_logreg\"):\n",
    "    model = LogisticRegression(penalty=\"l2\", C=0.1) #, solver=\"newton-cg\", max_iter=1)\n",
    "elif (universe[\"model\"] == \"rf\"):\n",
    "    model = RandomForestClassifier() # n_estimators=100, n_jobs=-1\n",
    "elif (universe[\"model\"] == \"gbm\"):\n",
    "    model = GradientBoostingClassifier()\n",
    "elif (universe[\"model\"] == \"elasticnet\"):\n",
    "    model = LogisticRegression(penalty = 'elasticnet', solver = 'saga', l1_ratio = 0.5) # max_iter=5000\n",
    "else:\n",
    "    raise \"Unsupported universe.model\""
   ]
  },
  {
   "cell_type": "code",
   "execution_count": 33,
   "id": "a4b5cd25",
   "metadata": {
    "execution": {
     "iopub.execute_input": "2025-08-19T18:46:13.678117Z",
     "iopub.status.busy": "2025-08-19T18:46:13.676671Z",
     "iopub.status.idle": "2025-08-19T18:46:13.687008Z",
     "shell.execute_reply": "2025-08-19T18:46:13.685731Z"
    },
    "papermill": {
     "duration": 0.026577,
     "end_time": "2025-08-19T18:46:13.688799",
     "exception": false,
     "start_time": "2025-08-19T18:46:13.662222",
     "status": "completed"
    },
    "tags": []
   },
   "outputs": [],
   "source": [
    "from sklearn.pipeline import Pipeline\n",
    "from sklearn.preprocessing import StandardScaler\n",
    "\n",
    "model = Pipeline([\n",
    "    #(\"continuous_processor\", continuous_processor),\n",
    "    #(\"categorical_preprocessor\", categorical_preprocessor),\n",
    "    (\"scale\", StandardScaler() if universe[\"scale\"] == \"scale\" else None), \n",
    "    (\"model\", model),\n",
    "])"
   ]
  },
  {
   "cell_type": "code",
   "execution_count": 34,
   "id": "283a904d",
   "metadata": {
    "execution": {
     "iopub.execute_input": "2025-08-19T18:46:13.716267Z",
     "iopub.status.busy": "2025-08-19T18:46:13.714928Z",
     "iopub.status.idle": "2025-08-19T18:46:15.061625Z",
     "shell.execute_reply": "2025-08-19T18:46:15.060515Z"
    },
    "papermill": {
     "duration": 1.360772,
     "end_time": "2025-08-19T18:46:15.063191",
     "exception": false,
     "start_time": "2025-08-19T18:46:13.702419",
     "status": "completed"
    },
    "tags": []
   },
   "outputs": [
    {
     "data": {
      "text/html": [
       "<style>#sk-container-id-1 {color: black;background-color: white;}#sk-container-id-1 pre{padding: 0;}#sk-container-id-1 div.sk-toggleable {background-color: white;}#sk-container-id-1 label.sk-toggleable__label {cursor: pointer;display: block;width: 100%;margin-bottom: 0;padding: 0.3em;box-sizing: border-box;text-align: center;}#sk-container-id-1 label.sk-toggleable__label-arrow:before {content: \"▸\";float: left;margin-right: 0.25em;color: #696969;}#sk-container-id-1 label.sk-toggleable__label-arrow:hover:before {color: black;}#sk-container-id-1 div.sk-estimator:hover label.sk-toggleable__label-arrow:before {color: black;}#sk-container-id-1 div.sk-toggleable__content {max-height: 0;max-width: 0;overflow: hidden;text-align: left;background-color: #f0f8ff;}#sk-container-id-1 div.sk-toggleable__content pre {margin: 0.2em;color: black;border-radius: 0.25em;background-color: #f0f8ff;}#sk-container-id-1 input.sk-toggleable__control:checked~div.sk-toggleable__content {max-height: 200px;max-width: 100%;overflow: auto;}#sk-container-id-1 input.sk-toggleable__control:checked~label.sk-toggleable__label-arrow:before {content: \"▾\";}#sk-container-id-1 div.sk-estimator input.sk-toggleable__control:checked~label.sk-toggleable__label {background-color: #d4ebff;}#sk-container-id-1 div.sk-label input.sk-toggleable__control:checked~label.sk-toggleable__label {background-color: #d4ebff;}#sk-container-id-1 input.sk-hidden--visually {border: 0;clip: rect(1px 1px 1px 1px);clip: rect(1px, 1px, 1px, 1px);height: 1px;margin: -1px;overflow: hidden;padding: 0;position: absolute;width: 1px;}#sk-container-id-1 div.sk-estimator {font-family: monospace;background-color: #f0f8ff;border: 1px dotted black;border-radius: 0.25em;box-sizing: border-box;margin-bottom: 0.5em;}#sk-container-id-1 div.sk-estimator:hover {background-color: #d4ebff;}#sk-container-id-1 div.sk-parallel-item::after {content: \"\";width: 100%;border-bottom: 1px solid gray;flex-grow: 1;}#sk-container-id-1 div.sk-label:hover label.sk-toggleable__label {background-color: #d4ebff;}#sk-container-id-1 div.sk-serial::before {content: \"\";position: absolute;border-left: 1px solid gray;box-sizing: border-box;top: 0;bottom: 0;left: 50%;z-index: 0;}#sk-container-id-1 div.sk-serial {display: flex;flex-direction: column;align-items: center;background-color: white;padding-right: 0.2em;padding-left: 0.2em;position: relative;}#sk-container-id-1 div.sk-item {position: relative;z-index: 1;}#sk-container-id-1 div.sk-parallel {display: flex;align-items: stretch;justify-content: center;background-color: white;position: relative;}#sk-container-id-1 div.sk-item::before, #sk-container-id-1 div.sk-parallel-item::before {content: \"\";position: absolute;border-left: 1px solid gray;box-sizing: border-box;top: 0;bottom: 0;left: 50%;z-index: -1;}#sk-container-id-1 div.sk-parallel-item {display: flex;flex-direction: column;z-index: 1;position: relative;background-color: white;}#sk-container-id-1 div.sk-parallel-item:first-child::after {align-self: flex-end;width: 50%;}#sk-container-id-1 div.sk-parallel-item:last-child::after {align-self: flex-start;width: 50%;}#sk-container-id-1 div.sk-parallel-item:only-child::after {width: 0;}#sk-container-id-1 div.sk-dashed-wrapped {border: 1px dashed gray;margin: 0 0.4em 0.5em 0.4em;box-sizing: border-box;padding-bottom: 0.4em;background-color: white;}#sk-container-id-1 div.sk-label label {font-family: monospace;font-weight: bold;display: inline-block;line-height: 1.2em;}#sk-container-id-1 div.sk-label-container {text-align: center;}#sk-container-id-1 div.sk-container {/* jupyter's `normalize.less` sets `[hidden] { display: none; }` but bootstrap.min.css set `[hidden] { display: none !important; }` so we also need the `!important` here to be able to override the default hidden behavior on the sphinx rendered scikit-learn.org. See: https://github.com/scikit-learn/scikit-learn/issues/21755 */display: inline-block !important;position: relative;}#sk-container-id-1 div.sk-text-repr-fallback {display: none;}</style><div id=\"sk-container-id-1\" class=\"sk-top-container\"><div class=\"sk-text-repr-fallback\"><pre>Pipeline(steps=[(&#x27;scale&#x27;, None), (&#x27;model&#x27;, RandomForestClassifier())])</pre><b>In a Jupyter environment, please rerun this cell to show the HTML representation or trust the notebook. <br />On GitHub, the HTML representation is unable to render, please try loading this page with nbviewer.org.</b></div><div class=\"sk-container\" hidden><div class=\"sk-item sk-dashed-wrapped\"><div class=\"sk-label-container\"><div class=\"sk-label sk-toggleable\"><input class=\"sk-toggleable__control sk-hidden--visually\" id=\"sk-estimator-id-1\" type=\"checkbox\" ><label for=\"sk-estimator-id-1\" class=\"sk-toggleable__label sk-toggleable__label-arrow\">Pipeline</label><div class=\"sk-toggleable__content\"><pre>Pipeline(steps=[(&#x27;scale&#x27;, None), (&#x27;model&#x27;, RandomForestClassifier())])</pre></div></div></div><div class=\"sk-serial\"><div class=\"sk-item\"><div class=\"sk-estimator sk-toggleable\"><input class=\"sk-toggleable__control sk-hidden--visually\" id=\"sk-estimator-id-2\" type=\"checkbox\" ><label for=\"sk-estimator-id-2\" class=\"sk-toggleable__label sk-toggleable__label-arrow\">None</label><div class=\"sk-toggleable__content\"><pre>None</pre></div></div></div><div class=\"sk-item\"><div class=\"sk-estimator sk-toggleable\"><input class=\"sk-toggleable__control sk-hidden--visually\" id=\"sk-estimator-id-3\" type=\"checkbox\" ><label for=\"sk-estimator-id-3\" class=\"sk-toggleable__label sk-toggleable__label-arrow\">RandomForestClassifier</label><div class=\"sk-toggleable__content\"><pre>RandomForestClassifier()</pre></div></div></div></div></div></div></div>"
      ],
      "text/plain": [
       "Pipeline(steps=[('scale', None), ('model', RandomForestClassifier())])"
      ]
     },
     "execution_count": 34,
     "metadata": {},
     "output_type": "execute_result"
    }
   ],
   "source": [
    "model.fit(X_train, y_train.values.ravel())"
   ]
  },
  {
   "cell_type": "code",
   "execution_count": 35,
   "id": "6e15e313",
   "metadata": {
    "execution": {
     "iopub.execute_input": "2025-08-19T18:46:15.102572Z",
     "iopub.status.busy": "2025-08-19T18:46:15.100733Z",
     "iopub.status.idle": "2025-08-19T18:46:17.027249Z",
     "shell.execute_reply": "2025-08-19T18:46:17.025358Z"
    },
    "papermill": {
     "duration": 1.955879,
     "end_time": "2025-08-19T18:46:17.030753",
     "exception": false,
     "start_time": "2025-08-19T18:46:15.074874",
     "status": "completed"
    },
    "tags": []
   },
   "outputs": [
    {
     "data": {
      "text/plain": [
       "0.867439527365957"
      ]
     },
     "execution_count": 35,
     "metadata": {},
     "output_type": "execute_result"
    }
   ],
   "source": [
    "from fairness_multiverse.universe import predict_w_threshold\n",
    "\n",
    "probs_test = model.predict_proba(X_test)\n",
    "\n",
    "'''\n",
    "Below code returns a boolean array (or binary 0/1 array depending on how it’s used) where each element \n",
    "is True if the probability of class 1 is greater than or equal to the threshold, and False otherwise.\n",
    "'''\n",
    "y_pred_default = predict_w_threshold(probs_test, 0.5)\n",
    "\n",
    "from sklearn.metrics import accuracy_score\n",
    "\n",
    "# Naive prediction\n",
    "accuracy_score(y_true = y_true, y_pred = y_pred_default)"
   ]
  },
  {
   "cell_type": "code",
   "execution_count": 36,
   "id": "6f14067c",
   "metadata": {
    "execution": {
     "iopub.execute_input": "2025-08-19T18:46:17.074369Z",
     "iopub.status.busy": "2025-08-19T18:46:17.065176Z",
     "iopub.status.idle": "2025-08-19T18:46:19.029095Z",
     "shell.execute_reply": "2025-08-19T18:46:19.027964Z"
    },
    "papermill": {
     "duration": 1.986788,
     "end_time": "2025-08-19T18:46:19.031618",
     "exception": false,
     "start_time": "2025-08-19T18:46:17.044830",
     "status": "completed"
    },
    "tags": []
   },
   "outputs": [
    {
     "data": {
      "text/plain": [
       "array([0, 0, 0, ..., 0, 0, 0])"
      ]
     },
     "execution_count": 36,
     "metadata": {},
     "output_type": "execute_result"
    }
   ],
   "source": [
    "model.predict(X_test)"
   ]
  },
  {
   "cell_type": "markdown",
   "id": "3759920c",
   "metadata": {
    "papermill": {
     "duration": 0.012199,
     "end_time": "2025-08-19T18:46:19.188556",
     "exception": false,
     "start_time": "2025-08-19T18:46:19.176357",
     "status": "completed"
    },
    "tags": []
   },
   "source": [
    "# Conformal Prediction"
   ]
  },
  {
   "cell_type": "code",
   "execution_count": 37,
   "id": "14b27f59",
   "metadata": {
    "execution": {
     "iopub.execute_input": "2025-08-19T18:46:19.212907Z",
     "iopub.status.busy": "2025-08-19T18:46:19.212367Z",
     "iopub.status.idle": "2025-08-19T18:46:19.217877Z",
     "shell.execute_reply": "2025-08-19T18:46:19.216978Z"
    },
    "papermill": {
     "duration": 0.0213,
     "end_time": "2025-08-19T18:46:19.220991",
     "exception": false,
     "start_time": "2025-08-19T18:46:19.199691",
     "status": "completed"
    },
    "tags": []
   },
   "outputs": [],
   "source": [
    "# Miscoverage level for conformal prediction (10% allowed error rate => 90% target coverage)\n",
    "alpha = 0.1"
   ]
  },
  {
   "cell_type": "code",
   "execution_count": 38,
   "id": "59102472",
   "metadata": {
    "execution": {
     "iopub.execute_input": "2025-08-19T18:46:19.270487Z",
     "iopub.status.busy": "2025-08-19T18:46:19.269949Z",
     "iopub.status.idle": "2025-08-19T18:46:21.181032Z",
     "shell.execute_reply": "2025-08-19T18:46:21.179661Z"
    },
    "papermill": {
     "duration": 1.937172,
     "end_time": "2025-08-19T18:46:21.182592",
     "exception": false,
     "start_time": "2025-08-19T18:46:19.245420",
     "status": "completed"
    },
    "tags": []
   },
   "outputs": [],
   "source": [
    "probs_calib = model.predict_proba(X_calib)"
   ]
  },
  {
   "cell_type": "code",
   "execution_count": 39,
   "id": "a792d4dd",
   "metadata": {
    "execution": {
     "iopub.execute_input": "2025-08-19T18:46:21.217865Z",
     "iopub.status.busy": "2025-08-19T18:46:21.217351Z",
     "iopub.status.idle": "2025-08-19T18:46:21.223820Z",
     "shell.execute_reply": "2025-08-19T18:46:21.223195Z"
    },
    "papermill": {
     "duration": 0.027894,
     "end_time": "2025-08-19T18:46:21.225511",
     "exception": false,
     "start_time": "2025-08-19T18:46:21.197617",
     "status": "completed"
    },
    "tags": []
   },
   "outputs": [],
   "source": [
    "y_calib = y_calib.values.ravel().astype(int)"
   ]
  },
  {
   "cell_type": "code",
   "execution_count": 40,
   "id": "650fd033",
   "metadata": {
    "execution": {
     "iopub.execute_input": "2025-08-19T18:46:21.250293Z",
     "iopub.status.busy": "2025-08-19T18:46:21.249899Z",
     "iopub.status.idle": "2025-08-19T18:46:21.256698Z",
     "shell.execute_reply": "2025-08-19T18:46:21.256056Z"
    },
    "papermill": {
     "duration": 0.021071,
     "end_time": "2025-08-19T18:46:21.258404",
     "exception": false,
     "start_time": "2025-08-19T18:46:21.237333",
     "status": "completed"
    },
    "tags": []
   },
   "outputs": [],
   "source": [
    "from fairness_multiverse.conformal import compute_nc_scores\n",
    "\n",
    "# Compute nonconformity scores on calibration set (1 - probability of true class)\n",
    "nc_scores = compute_nc_scores(probs_calib, y_calib)"
   ]
  },
  {
   "cell_type": "code",
   "execution_count": 41,
   "id": "28ada44c",
   "metadata": {
    "execution": {
     "iopub.execute_input": "2025-08-19T18:46:21.283022Z",
     "iopub.status.busy": "2025-08-19T18:46:21.282623Z",
     "iopub.status.idle": "2025-08-19T18:46:21.288156Z",
     "shell.execute_reply": "2025-08-19T18:46:21.287485Z"
    },
    "papermill": {
     "duration": 0.020452,
     "end_time": "2025-08-19T18:46:21.290634",
     "exception": false,
     "start_time": "2025-08-19T18:46:21.270182",
     "status": "completed"
    },
    "tags": []
   },
   "outputs": [],
   "source": [
    "from fairness_multiverse.conformal import find_threshold\n",
    "\n",
    "# Find conformal threshold q_hat for the given alpha (split conformal method)\n",
    "q_hat = find_threshold(nc_scores, alpha)"
   ]
  },
  {
   "cell_type": "code",
   "execution_count": 42,
   "id": "df56469e",
   "metadata": {
    "execution": {
     "iopub.execute_input": "2025-08-19T18:46:21.326453Z",
     "iopub.status.busy": "2025-08-19T18:46:21.326050Z",
     "iopub.status.idle": "2025-08-19T18:46:21.331913Z",
     "shell.execute_reply": "2025-08-19T18:46:21.331328Z"
    },
    "papermill": {
     "duration": 0.022226,
     "end_time": "2025-08-19T18:46:21.335386",
     "exception": false,
     "start_time": "2025-08-19T18:46:21.313160",
     "status": "completed"
    },
    "tags": []
   },
   "outputs": [
    {
     "data": {
      "text/plain": [
       "0.6699999999999999"
      ]
     },
     "execution_count": 42,
     "metadata": {},
     "output_type": "execute_result"
    }
   ],
   "source": [
    "q_hat"
   ]
  },
  {
   "cell_type": "code",
   "execution_count": 43,
   "id": "aa1f5faa",
   "metadata": {
    "execution": {
     "iopub.execute_input": "2025-08-19T18:46:21.374982Z",
     "iopub.status.busy": "2025-08-19T18:46:21.373905Z",
     "iopub.status.idle": "2025-08-19T18:46:23.776730Z",
     "shell.execute_reply": "2025-08-19T18:46:23.775384Z"
    },
    "papermill": {
     "duration": 2.419345,
     "end_time": "2025-08-19T18:46:23.778674",
     "exception": false,
     "start_time": "2025-08-19T18:46:21.359329",
     "status": "completed"
    },
    "tags": []
   },
   "outputs": [],
   "source": [
    "from fairness_multiverse.conformal import predict_conformal_sets\n",
    "\n",
    "# Generate prediction sets for each test example\n",
    "pred_sets = predict_conformal_sets(model, X_test, q_hat)"
   ]
  },
  {
   "cell_type": "code",
   "execution_count": 44,
   "id": "97f67a6b",
   "metadata": {
    "execution": {
     "iopub.execute_input": "2025-08-19T18:46:23.815607Z",
     "iopub.status.busy": "2025-08-19T18:46:23.813930Z",
     "iopub.status.idle": "2025-08-19T18:46:23.826327Z",
     "shell.execute_reply": "2025-08-19T18:46:23.824705Z"
    },
    "papermill": {
     "duration": 0.027921,
     "end_time": "2025-08-19T18:46:23.828068",
     "exception": false,
     "start_time": "2025-08-19T18:46:23.800147",
     "status": "completed"
    },
    "tags": []
   },
   "outputs": [],
   "source": [
    "y_true = y_true.squeeze()"
   ]
  },
  {
   "cell_type": "code",
   "execution_count": 45,
   "id": "e700e9a7",
   "metadata": {
    "execution": {
     "iopub.execute_input": "2025-08-19T18:46:23.859604Z",
     "iopub.status.busy": "2025-08-19T18:46:23.858521Z",
     "iopub.status.idle": "2025-08-19T18:46:24.393731Z",
     "shell.execute_reply": "2025-08-19T18:46:24.392441Z"
    },
    "papermill": {
     "duration": 0.550804,
     "end_time": "2025-08-19T18:46:24.395176",
     "exception": false,
     "start_time": "2025-08-19T18:46:23.844372",
     "status": "completed"
    },
    "tags": []
   },
   "outputs": [],
   "source": [
    "from fairness_multiverse.conformal import evaluate_sets\n",
    "\n",
    "# Evaluate coverage and average set size on test data\n",
    "metrics = evaluate_sets(pred_sets, y_true)"
   ]
  },
  {
   "cell_type": "markdown",
   "id": "efbacec0",
   "metadata": {
    "papermill": {
     "duration": 0.020315,
     "end_time": "2025-08-19T18:46:24.429935",
     "exception": false,
     "start_time": "2025-08-19T18:46:24.409620",
     "status": "completed"
    },
    "tags": []
   },
   "source": [
    "# CP Metrics"
   ]
  },
  {
   "cell_type": "code",
   "execution_count": 46,
   "id": "9de55fb1",
   "metadata": {
    "execution": {
     "iopub.execute_input": "2025-08-19T18:46:24.474416Z",
     "iopub.status.busy": "2025-08-19T18:46:24.473939Z",
     "iopub.status.idle": "2025-08-19T18:46:24.480578Z",
     "shell.execute_reply": "2025-08-19T18:46:24.479989Z"
    },
    "papermill": {
     "duration": 0.023545,
     "end_time": "2025-08-19T18:46:24.482225",
     "exception": false,
     "start_time": "2025-08-19T18:46:24.458680",
     "status": "completed"
    },
    "tags": []
   },
   "outputs": [
    {
     "data": {
      "text/plain": [
       "{'coverage': 0.9160628692453461, 'avg_size': 1.1492810166090737}"
      ]
     },
     "execution_count": 46,
     "metadata": {},
     "output_type": "execute_result"
    }
   ],
   "source": [
    "metrics"
   ]
  },
  {
   "cell_type": "code",
   "execution_count": 47,
   "id": "64c340a1",
   "metadata": {
    "execution": {
     "iopub.execute_input": "2025-08-19T18:46:24.513119Z",
     "iopub.status.busy": "2025-08-19T18:46:24.512317Z",
     "iopub.status.idle": "2025-08-19T18:46:24.521506Z",
     "shell.execute_reply": "2025-08-19T18:46:24.520154Z"
    },
    "papermill": {
     "duration": 0.024103,
     "end_time": "2025-08-19T18:46:24.523013",
     "exception": false,
     "start_time": "2025-08-19T18:46:24.498910",
     "status": "completed"
    },
    "tags": []
   },
   "outputs": [],
   "source": [
    "example_universe = universe.copy()\n",
    "universe_training_year = example_universe.get(\"training_year\")\n",
    "universe_training_size = example_universe.get(\"training_size\")\n",
    "universe_scale = example_universe.get(\"scale\")\n",
    "universe_model = example_universe.get(\"model\")\n",
    "universe_exclude_features = example_universe.get(\"exclude_features\")\n",
    "universe_exclude_subgroups = example_universe.get(\"exclude_subgroups\")"
   ]
  },
  {
   "cell_type": "code",
   "execution_count": 48,
   "id": "dbb53cb4",
   "metadata": {
    "execution": {
     "iopub.execute_input": "2025-08-19T18:46:24.552427Z",
     "iopub.status.busy": "2025-08-19T18:46:24.551255Z",
     "iopub.status.idle": "2025-08-19T18:46:24.562174Z",
     "shell.execute_reply": "2025-08-19T18:46:24.560602Z"
    },
    "papermill": {
     "duration": 0.026088,
     "end_time": "2025-08-19T18:46:24.563928",
     "exception": false,
     "start_time": "2025-08-19T18:46:24.537840",
     "status": "completed"
    },
    "tags": []
   },
   "outputs": [],
   "source": [
    "cp_metrics_dict = {\n",
    "    \"universe_id\": [universe_id],\n",
    "    \"universe_training_year\": [universe_training_year],\n",
    "    \"universe_training_size\": [universe_training_size],\n",
    "    \"universe_scale\": [universe_scale],\n",
    "    \"universe_model\": [universe_model],\n",
    "    \"universe_exclude_features\": [universe_exclude_features],\n",
    "    \"universe_exclude_subgroups\": [universe_exclude_subgroups],\n",
    "    \"q_hat\": [q_hat],\n",
    "    \"coverage\": [metrics[\"coverage\"]],\n",
    "    \"avg_size\": [metrics[\"avg_size\"]],\n",
    "}"
   ]
  },
  {
   "cell_type": "code",
   "execution_count": 49,
   "id": "0d70d4b2",
   "metadata": {
    "execution": {
     "iopub.execute_input": "2025-08-19T18:46:24.596219Z",
     "iopub.status.busy": "2025-08-19T18:46:24.595191Z",
     "iopub.status.idle": "2025-08-19T18:46:24.607766Z",
     "shell.execute_reply": "2025-08-19T18:46:24.606491Z"
    },
    "papermill": {
     "duration": 0.028264,
     "end_time": "2025-08-19T18:46:24.609306",
     "exception": false,
     "start_time": "2025-08-19T18:46:24.581042",
     "status": "completed"
    },
    "tags": []
   },
   "outputs": [],
   "source": [
    "cp_metrics_df = pd.DataFrame(cp_metrics_dict)"
   ]
  },
  {
   "cell_type": "code",
   "execution_count": 50,
   "id": "b494403c",
   "metadata": {
    "execution": {
     "iopub.execute_input": "2025-08-19T18:46:24.639275Z",
     "iopub.status.busy": "2025-08-19T18:46:24.638000Z",
     "iopub.status.idle": "2025-08-19T18:46:24.661260Z",
     "shell.execute_reply": "2025-08-19T18:46:24.660426Z"
    },
    "papermill": {
     "duration": 0.039047,
     "end_time": "2025-08-19T18:46:24.662890",
     "exception": false,
     "start_time": "2025-08-19T18:46:24.623843",
     "status": "completed"
    },
    "tags": []
   },
   "outputs": [
    {
     "data": {
      "text/html": [
       "<div>\n",
       "<style scoped>\n",
       "    .dataframe tbody tr th:only-of-type {\n",
       "        vertical-align: middle;\n",
       "    }\n",
       "\n",
       "    .dataframe tbody tr th {\n",
       "        vertical-align: top;\n",
       "    }\n",
       "\n",
       "    .dataframe thead th {\n",
       "        text-align: right;\n",
       "    }\n",
       "</style>\n",
       "<table border=\"1\" class=\"dataframe\">\n",
       "  <thead>\n",
       "    <tr style=\"text-align: right;\">\n",
       "      <th></th>\n",
       "      <th>universe_id</th>\n",
       "      <th>universe_training_year</th>\n",
       "      <th>universe_training_size</th>\n",
       "      <th>universe_scale</th>\n",
       "      <th>universe_model</th>\n",
       "      <th>universe_exclude_features</th>\n",
       "      <th>universe_exclude_subgroups</th>\n",
       "      <th>q_hat</th>\n",
       "      <th>coverage</th>\n",
       "      <th>avg_size</th>\n",
       "    </tr>\n",
       "  </thead>\n",
       "  <tbody>\n",
       "    <tr>\n",
       "      <th>0</th>\n",
       "      <td>3944db13bce95e94302b82c28e34da25</td>\n",
       "      <td>2010_14</td>\n",
       "      <td>5k</td>\n",
       "      <td>do-not-scale</td>\n",
       "      <td>rf</td>\n",
       "      <td>none</td>\n",
       "      <td>keep-all</td>\n",
       "      <td>0.67</td>\n",
       "      <td>0.916063</td>\n",
       "      <td>1.149281</td>\n",
       "    </tr>\n",
       "  </tbody>\n",
       "</table>\n",
       "</div>"
      ],
      "text/plain": [
       "                        universe_id universe_training_year  \\\n",
       "0  3944db13bce95e94302b82c28e34da25                2010_14   \n",
       "\n",
       "  universe_training_size universe_scale universe_model  \\\n",
       "0                     5k   do-not-scale             rf   \n",
       "\n",
       "  universe_exclude_features universe_exclude_subgroups  q_hat  coverage  \\\n",
       "0                      none                   keep-all   0.67  0.916063   \n",
       "\n",
       "   avg_size  \n",
       "0  1.149281  "
      ]
     },
     "execution_count": 50,
     "metadata": {},
     "output_type": "execute_result"
    }
   ],
   "source": [
    "cp_metrics_df"
   ]
  },
  {
   "cell_type": "markdown",
   "id": "ed608b0b",
   "metadata": {
    "papermill": {
     "duration": 0.012688,
     "end_time": "2025-08-19T18:46:24.694550",
     "exception": false,
     "start_time": "2025-08-19T18:46:24.681862",
     "status": "completed"
    },
    "tags": []
   },
   "source": [
    "Conditional coverage & looking at subgroups"
   ]
  },
  {
   "cell_type": "code",
   "execution_count": 51,
   "id": "8968c366",
   "metadata": {
    "execution": {
     "iopub.execute_input": "2025-08-19T18:46:24.721062Z",
     "iopub.status.busy": "2025-08-19T18:46:24.719763Z",
     "iopub.status.idle": "2025-08-19T18:46:25.017562Z",
     "shell.execute_reply": "2025-08-19T18:46:25.016865Z"
    },
    "papermill": {
     "duration": 0.313104,
     "end_time": "2025-08-19T18:46:25.019348",
     "exception": false,
     "start_time": "2025-08-19T18:46:24.706244",
     "status": "completed"
    },
    "tags": []
   },
   "outputs": [],
   "source": [
    "from fairness_multiverse.conformal import build_cp_groups\n",
    "\n",
    "cp_groups_df = build_cp_groups(pred_sets, y_true, X_test.index, org_test)"
   ]
  },
  {
   "cell_type": "code",
   "execution_count": 52,
   "id": "292ddabf",
   "metadata": {
    "execution": {
     "iopub.execute_input": "2025-08-19T18:46:25.055961Z",
     "iopub.status.busy": "2025-08-19T18:46:25.054765Z",
     "iopub.status.idle": "2025-08-19T18:46:25.952834Z",
     "shell.execute_reply": "2025-08-19T18:46:25.951615Z"
    },
    "papermill": {
     "duration": 0.913757,
     "end_time": "2025-08-19T18:46:25.954354",
     "exception": false,
     "start_time": "2025-08-19T18:46:25.040597",
     "status": "completed"
    },
    "tags": []
   },
   "outputs": [],
   "source": [
    "# Define covered = 1 if true_label is in the predicted set\n",
    "cp_groups_df['covered'] = cp_groups_df.apply(\n",
    "    lambda r: int(r['true_label'] in r['pred_set']),\n",
    "    axis=1\n",
    ")"
   ]
  },
  {
   "cell_type": "code",
   "execution_count": 53,
   "id": "3a261692",
   "metadata": {
    "execution": {
     "iopub.execute_input": "2025-08-19T18:46:25.992336Z",
     "iopub.status.busy": "2025-08-19T18:46:25.991006Z",
     "iopub.status.idle": "2025-08-19T18:46:26.019637Z",
     "shell.execute_reply": "2025-08-19T18:46:26.018438Z"
    },
    "papermill": {
     "duration": 0.049089,
     "end_time": "2025-08-19T18:46:26.021495",
     "exception": false,
     "start_time": "2025-08-19T18:46:25.972406",
     "status": "completed"
    },
    "tags": []
   },
   "outputs": [],
   "source": [
    "subgroups = ['frau1','nongerman','nongerman_male','nongerman_female']\n",
    "\n",
    "# Conditional coverage for subgroup==1\n",
    "cond_coverage = {\n",
    "    g: cp_groups_df.loc[cp_groups_df[g]==1, 'covered'].mean()\n",
    "    for g in subgroups\n",
    "}"
   ]
  },
  {
   "cell_type": "code",
   "execution_count": 54,
   "id": "894fd600",
   "metadata": {
    "execution": {
     "iopub.execute_input": "2025-08-19T18:46:26.060723Z",
     "iopub.status.busy": "2025-08-19T18:46:26.060290Z",
     "iopub.status.idle": "2025-08-19T18:46:26.066305Z",
     "shell.execute_reply": "2025-08-19T18:46:26.065545Z"
    },
    "papermill": {
     "duration": 0.03719,
     "end_time": "2025-08-19T18:46:26.072072",
     "exception": false,
     "start_time": "2025-08-19T18:46:26.034882",
     "status": "completed"
    },
    "tags": []
   },
   "outputs": [
    {
     "data": {
      "text/plain": [
       "{'frau1': 0.9145167812373636,\n",
       " 'nongerman': 0.9111323190927973,\n",
       " 'nongerman_male': 0.9250652976672972,\n",
       " 'nongerman_female': 0.8880774962742176}"
      ]
     },
     "execution_count": 54,
     "metadata": {},
     "output_type": "execute_result"
    }
   ],
   "source": [
    "cond_coverage"
   ]
  },
  {
   "cell_type": "code",
   "execution_count": 55,
   "id": "942895c7",
   "metadata": {
    "execution": {
     "iopub.execute_input": "2025-08-19T18:46:26.099575Z",
     "iopub.status.busy": "2025-08-19T18:46:26.099178Z",
     "iopub.status.idle": "2025-08-19T18:46:26.104979Z",
     "shell.execute_reply": "2025-08-19T18:46:26.104258Z"
    },
    "papermill": {
     "duration": 0.020489,
     "end_time": "2025-08-19T18:46:26.106531",
     "exception": false,
     "start_time": "2025-08-19T18:46:26.086042",
     "status": "completed"
    },
    "tags": []
   },
   "outputs": [],
   "source": [
    "for subgroup, cov in cond_coverage.items():\n",
    "    cp_metrics_df[f\"cov_{subgroup}\"] = cov"
   ]
  },
  {
   "cell_type": "code",
   "execution_count": 56,
   "id": "3970120f",
   "metadata": {
    "execution": {
     "iopub.execute_input": "2025-08-19T18:46:26.132737Z",
     "iopub.status.busy": "2025-08-19T18:46:26.132351Z",
     "iopub.status.idle": "2025-08-19T18:46:26.149080Z",
     "shell.execute_reply": "2025-08-19T18:46:26.148234Z"
    },
    "papermill": {
     "duration": 0.030908,
     "end_time": "2025-08-19T18:46:26.150425",
     "exception": false,
     "start_time": "2025-08-19T18:46:26.119517",
     "status": "completed"
    },
    "tags": []
   },
   "outputs": [
    {
     "data": {
      "text/html": [
       "<div>\n",
       "<style scoped>\n",
       "    .dataframe tbody tr th:only-of-type {\n",
       "        vertical-align: middle;\n",
       "    }\n",
       "\n",
       "    .dataframe tbody tr th {\n",
       "        vertical-align: top;\n",
       "    }\n",
       "\n",
       "    .dataframe thead th {\n",
       "        text-align: right;\n",
       "    }\n",
       "</style>\n",
       "<table border=\"1\" class=\"dataframe\">\n",
       "  <thead>\n",
       "    <tr style=\"text-align: right;\">\n",
       "      <th></th>\n",
       "      <th>universe_id</th>\n",
       "      <th>universe_training_year</th>\n",
       "      <th>universe_training_size</th>\n",
       "      <th>universe_scale</th>\n",
       "      <th>universe_model</th>\n",
       "      <th>universe_exclude_features</th>\n",
       "      <th>universe_exclude_subgroups</th>\n",
       "      <th>q_hat</th>\n",
       "      <th>coverage</th>\n",
       "      <th>avg_size</th>\n",
       "      <th>cov_frau1</th>\n",
       "      <th>cov_nongerman</th>\n",
       "      <th>cov_nongerman_male</th>\n",
       "      <th>cov_nongerman_female</th>\n",
       "    </tr>\n",
       "  </thead>\n",
       "  <tbody>\n",
       "    <tr>\n",
       "      <th>0</th>\n",
       "      <td>3944db13bce95e94302b82c28e34da25</td>\n",
       "      <td>2010_14</td>\n",
       "      <td>5k</td>\n",
       "      <td>do-not-scale</td>\n",
       "      <td>rf</td>\n",
       "      <td>none</td>\n",
       "      <td>keep-all</td>\n",
       "      <td>0.67</td>\n",
       "      <td>0.916063</td>\n",
       "      <td>1.149281</td>\n",
       "      <td>0.914517</td>\n",
       "      <td>0.911132</td>\n",
       "      <td>0.925065</td>\n",
       "      <td>0.888077</td>\n",
       "    </tr>\n",
       "  </tbody>\n",
       "</table>\n",
       "</div>"
      ],
      "text/plain": [
       "                        universe_id universe_training_year  \\\n",
       "0  3944db13bce95e94302b82c28e34da25                2010_14   \n",
       "\n",
       "  universe_training_size universe_scale universe_model  \\\n",
       "0                     5k   do-not-scale             rf   \n",
       "\n",
       "  universe_exclude_features universe_exclude_subgroups  q_hat  coverage  \\\n",
       "0                      none                   keep-all   0.67  0.916063   \n",
       "\n",
       "   avg_size  cov_frau1  cov_nongerman  cov_nongerman_male  \\\n",
       "0  1.149281   0.914517       0.911132            0.925065   \n",
       "\n",
       "   cov_nongerman_female  \n",
       "0              0.888077  "
      ]
     },
     "execution_count": 56,
     "metadata": {},
     "output_type": "execute_result"
    }
   ],
   "source": [
    "cp_metrics_df"
   ]
  },
  {
   "cell_type": "markdown",
   "id": "3fc519cc",
   "metadata": {
    "papermill": {
     "duration": 0.012189,
     "end_time": "2025-08-19T18:46:26.177797",
     "exception": false,
     "start_time": "2025-08-19T18:46:26.165608",
     "status": "completed"
    },
    "tags": []
   },
   "source": [
    "# (Fairness) Metrics"
   ]
  },
  {
   "cell_type": "code",
   "execution_count": 57,
   "id": "a2e5e155",
   "metadata": {
    "execution": {
     "iopub.execute_input": "2025-08-19T18:46:26.203535Z",
     "iopub.status.busy": "2025-08-19T18:46:26.203128Z",
     "iopub.status.idle": "2025-08-19T18:46:26.221470Z",
     "shell.execute_reply": "2025-08-19T18:46:26.220527Z"
    },
    "papermill": {
     "duration": 0.03286,
     "end_time": "2025-08-19T18:46:26.222886",
     "exception": false,
     "start_time": "2025-08-19T18:46:26.190026",
     "status": "completed"
    },
    "tags": []
   },
   "outputs": [],
   "source": [
    "colname_to_bin = \"maxdeutsch1\"\n",
    "majority_value = org_train[colname_to_bin].mode()[0]\n",
    "\n",
    "org_test[\"majmin\"] = np.where(org_test[colname_to_bin] == majority_value, \"majority\", \"minority\")"
   ]
  },
  {
   "cell_type": "code",
   "execution_count": 58,
   "id": "17e3e4d5",
   "metadata": {
    "execution": {
     "iopub.execute_input": "2025-08-19T18:46:26.249752Z",
     "iopub.status.busy": "2025-08-19T18:46:26.249370Z",
     "iopub.status.idle": "2025-08-19T18:46:27.961890Z",
     "shell.execute_reply": "2025-08-19T18:46:27.960717Z"
    },
    "papermill": {
     "duration": 1.72732,
     "end_time": "2025-08-19T18:46:27.963548",
     "exception": false,
     "start_time": "2025-08-19T18:46:26.236228",
     "status": "completed"
    },
    "tags": []
   },
   "outputs": [],
   "source": [
    "example_universe = universe.copy()\n",
    "example_universe[\"cutoff\"] = example_universe[\"cutoff\"][0]\n",
    "example_universe[\"eval_fairness_grouping\"] = example_universe[\"eval_fairness_grouping\"][0]\n",
    "fairness_dict, metric_frame = universe_analysis.compute_metrics(\n",
    "    example_universe,\n",
    "    y_pred_prob=probs_test,\n",
    "    y_test=y_true,\n",
    "    org_test=org_test,\n",
    ")"
   ]
  },
  {
   "cell_type": "markdown",
   "id": "1fb7a0e9",
   "metadata": {
    "papermill": {
     "duration": 0.012721,
     "end_time": "2025-08-19T18:46:27.989479",
     "exception": false,
     "start_time": "2025-08-19T18:46:27.976758",
     "status": "completed"
    },
    "tags": []
   },
   "source": [
    "# Overall"
   ]
  },
  {
   "cell_type": "markdown",
   "id": "be1784b1",
   "metadata": {
    "papermill": {
     "duration": 0.012653,
     "end_time": "2025-08-19T18:46:28.014955",
     "exception": false,
     "start_time": "2025-08-19T18:46:28.002302",
     "status": "completed"
    },
    "tags": []
   },
   "source": [
    "Main fairness target: Equalized Odds. Seems to be a better fit than equal opportunity, since we're not only interested in Y = 1. Seems to be a better fit than demographic parity, since we also care about accuracy, not just equal distribution of preds.\n",
    "\n",
    "Pick column for computation of fairness metrics\n",
    "\n",
    "Performance\n",
    "Overall performance measures, most interesting in relation to the measures split by group below"
   ]
  },
  {
   "cell_type": "code",
   "execution_count": 59,
   "id": "b7672bee",
   "metadata": {
    "execution": {
     "iopub.execute_input": "2025-08-19T18:46:28.044132Z",
     "iopub.status.busy": "2025-08-19T18:46:28.043694Z",
     "iopub.status.idle": "2025-08-19T18:46:28.055617Z",
     "shell.execute_reply": "2025-08-19T18:46:28.054765Z"
    },
    "papermill": {
     "duration": 0.029096,
     "end_time": "2025-08-19T18:46:28.057214",
     "exception": false,
     "start_time": "2025-08-19T18:46:28.028118",
     "status": "completed"
    },
    "tags": []
   },
   "outputs": [
    {
     "data": {
      "text/plain": [
       "accuracy                   0.198094\n",
       "balanced accuracy          0.530076\n",
       "f1                         0.238072\n",
       "precision                  0.135558\n",
       "false positive rate        0.916473\n",
       "false negative rate        0.023375\n",
       "selection rate             0.924189\n",
       "count                  89710.000000\n",
       "dtype: float64"
      ]
     },
     "execution_count": 59,
     "metadata": {},
     "output_type": "execute_result"
    }
   ],
   "source": [
    "metric_frame.overall"
   ]
  },
  {
   "cell_type": "markdown",
   "id": "d93333c9",
   "metadata": {
    "papermill": {
     "duration": 0.015243,
     "end_time": "2025-08-19T18:46:28.089801",
     "exception": false,
     "start_time": "2025-08-19T18:46:28.074558",
     "status": "completed"
    },
    "tags": []
   },
   "source": [
    "By Group"
   ]
  },
  {
   "cell_type": "code",
   "execution_count": 60,
   "id": "52256966",
   "metadata": {
    "execution": {
     "iopub.execute_input": "2025-08-19T18:46:28.118370Z",
     "iopub.status.busy": "2025-08-19T18:46:28.117545Z",
     "iopub.status.idle": "2025-08-19T18:46:28.146040Z",
     "shell.execute_reply": "2025-08-19T18:46:28.144567Z"
    },
    "papermill": {
     "duration": 0.045889,
     "end_time": "2025-08-19T18:46:28.148419",
     "exception": false,
     "start_time": "2025-08-19T18:46:28.102530",
     "status": "completed"
    },
    "tags": []
   },
   "outputs": [
    {
     "data": {
      "text/html": [
       "<div>\n",
       "<style scoped>\n",
       "    .dataframe tbody tr th:only-of-type {\n",
       "        vertical-align: middle;\n",
       "    }\n",
       "\n",
       "    .dataframe tbody tr th {\n",
       "        vertical-align: top;\n",
       "    }\n",
       "\n",
       "    .dataframe thead th {\n",
       "        text-align: right;\n",
       "    }\n",
       "</style>\n",
       "<table border=\"1\" class=\"dataframe\">\n",
       "  <thead>\n",
       "    <tr style=\"text-align: right;\">\n",
       "      <th></th>\n",
       "      <th>accuracy</th>\n",
       "      <th>balanced accuracy</th>\n",
       "      <th>f1</th>\n",
       "      <th>precision</th>\n",
       "      <th>false positive rate</th>\n",
       "      <th>false negative rate</th>\n",
       "      <th>selection rate</th>\n",
       "      <th>count</th>\n",
       "    </tr>\n",
       "    <tr>\n",
       "      <th>majmin</th>\n",
       "      <th></th>\n",
       "      <th></th>\n",
       "      <th></th>\n",
       "      <th></th>\n",
       "      <th></th>\n",
       "      <th></th>\n",
       "      <th></th>\n",
       "      <th></th>\n",
       "    </tr>\n",
       "  </thead>\n",
       "  <tbody>\n",
       "    <tr>\n",
       "      <th>majority</th>\n",
       "      <td>0.189490</td>\n",
       "      <td>0.529703</td>\n",
       "      <td>0.244424</td>\n",
       "      <td>0.139381</td>\n",
       "      <td>0.932717</td>\n",
       "      <td>0.007877</td>\n",
       "      <td>0.940567</td>\n",
       "      <td>69170.0</td>\n",
       "    </tr>\n",
       "    <tr>\n",
       "      <th>minority</th>\n",
       "      <td>0.227069</td>\n",
       "      <td>0.526998</td>\n",
       "      <td>0.214759</td>\n",
       "      <td>0.121625</td>\n",
       "      <td>0.862811</td>\n",
       "      <td>0.083193</td>\n",
       "      <td>0.869036</td>\n",
       "      <td>20540.0</td>\n",
       "    </tr>\n",
       "  </tbody>\n",
       "</table>\n",
       "</div>"
      ],
      "text/plain": [
       "          accuracy  balanced accuracy        f1  precision  \\\n",
       "majmin                                                       \n",
       "majority  0.189490           0.529703  0.244424   0.139381   \n",
       "minority  0.227069           0.526998  0.214759   0.121625   \n",
       "\n",
       "          false positive rate  false negative rate  selection rate    count  \n",
       "majmin                                                                       \n",
       "majority             0.932717             0.007877        0.940567  69170.0  \n",
       "minority             0.862811             0.083193        0.869036  20540.0  "
      ]
     },
     "execution_count": 60,
     "metadata": {},
     "output_type": "execute_result"
    }
   ],
   "source": [
    "metric_frame.by_group"
   ]
  },
  {
   "cell_type": "code",
   "execution_count": 61,
   "id": "6e6c20ae",
   "metadata": {
    "execution": {
     "iopub.execute_input": "2025-08-19T18:46:28.181693Z",
     "iopub.status.busy": "2025-08-19T18:46:28.181236Z",
     "iopub.status.idle": "2025-08-19T18:46:30.154755Z",
     "shell.execute_reply": "2025-08-19T18:46:30.151632Z"
    },
    "papermill": {
     "duration": 1.990048,
     "end_time": "2025-08-19T18:46:30.156687",
     "exception": false,
     "start_time": "2025-08-19T18:46:28.166639",
     "status": "completed"
    },
    "tags": []
   },
   "outputs": [
    {
     "data": {
      "text/plain": [
       "array([[<Axes: title={'center': 'accuracy'}, xlabel='majmin'>,\n",
       "        <Axes: title={'center': 'balanced accuracy'}, xlabel='majmin'>,\n",
       "        <Axes: title={'center': 'f1'}, xlabel='majmin'>],\n",
       "       [<Axes: title={'center': 'precision'}, xlabel='majmin'>,\n",
       "        <Axes: title={'center': 'false positive rate'}, xlabel='majmin'>,\n",
       "        <Axes: title={'center': 'false negative rate'}, xlabel='majmin'>],\n",
       "       [<Axes: title={'center': 'selection rate'}, xlabel='majmin'>,\n",
       "        <Axes: title={'center': 'count'}, xlabel='majmin'>,\n",
       "        <Axes: xlabel='majmin'>]], dtype=object)"
      ]
     },
     "execution_count": 61,
     "metadata": {},
     "output_type": "execute_result"
    },
    {
     "data": {
      "image/png": "[encoded data removed]",
      "text/plain": [
       "<Figure size 1200x800 with 9 Axes>"
      ]
     },
     "metadata": {},
     "output_type": "display_data"
    }
   ],
   "source": [
    "# In a graphic\n",
    "metric_frame.by_group.plot.bar(\n",
    "    subplots=True,\n",
    "    layout=[3, 3],\n",
    "    legend=False,\n",
    "    figsize=[12, 8],\n",
    "    title=\"Show all metrics\",\n",
    ")"
   ]
  },
  {
   "cell_type": "markdown",
   "id": "b2e433ae",
   "metadata": {
    "papermill": {
     "duration": 0.014543,
     "end_time": "2025-08-19T18:46:30.190749",
     "exception": false,
     "start_time": "2025-08-19T18:46:30.176206",
     "status": "completed"
    },
    "tags": []
   },
   "source": [
    "# Final Output"
   ]
  },
  {
   "cell_type": "code",
   "execution_count": 62,
   "id": "3871301e",
   "metadata": {
    "execution": {
     "iopub.execute_input": "2025-08-19T18:46:30.242556Z",
     "iopub.status.busy": "2025-08-19T18:46:30.240866Z",
     "iopub.status.idle": "2025-08-19T18:46:30.253890Z",
     "shell.execute_reply": "2025-08-19T18:46:30.253111Z"
    },
    "papermill": {
     "duration": 0.05065,
     "end_time": "2025-08-19T18:46:30.255457",
     "exception": false,
     "start_time": "2025-08-19T18:46:30.204807",
     "status": "completed"
    },
    "tags": []
   },
   "outputs": [
    {
     "data": {
      "text/plain": [
       "4"
      ]
     },
     "execution_count": 62,
     "metadata": {},
     "output_type": "execute_result"
    }
   ],
   "source": [
    "sub_universes = universe_analysis.generate_sub_universes()\n",
    "len(sub_universes)"
   ]
  },
  {
   "cell_type": "code",
   "execution_count": 63,
   "id": "d9cfdaca",
   "metadata": {
    "execution": {
     "iopub.execute_input": "2025-08-19T18:46:30.304637Z",
     "iopub.status.busy": "2025-08-19T18:46:30.303727Z",
     "iopub.status.idle": "2025-08-19T18:46:30.329139Z",
     "shell.execute_reply": "2025-08-19T18:46:30.327915Z"
    },
    "papermill": {
     "duration": 0.059136,
     "end_time": "2025-08-19T18:46:30.331525",
     "exception": false,
     "start_time": "2025-08-19T18:46:30.272389",
     "status": "completed"
    },
    "tags": []
   },
   "outputs": [],
   "source": [
    "def filter_sub_universe_data(sub_universe, org_test):\n",
    "    # Keep all rows — no filtering\n",
    "    keep_rows_mask = np.ones(org_test.shape[0], dtype=bool)\n",
    "\n",
    "    print(f\"[INFO] Keeping all rows: {keep_rows_mask.sum()} rows retained.\")\n",
    "    return keep_rows_mask"
   ]
  },
  {
   "cell_type": "code",
   "execution_count": 64,
   "id": "2bc31ac1",
   "metadata": {
    "execution": {
     "iopub.execute_input": "2025-08-19T18:46:30.380069Z",
     "iopub.status.busy": "2025-08-19T18:46:30.379474Z",
     "iopub.status.idle": "2025-08-19T18:46:37.286446Z",
     "shell.execute_reply": "2025-08-19T18:46:37.285442Z"
    },
    "papermill": {
     "duration": 6.926815,
     "end_time": "2025-08-19T18:46:37.289537",
     "exception": false,
     "start_time": "2025-08-19T18:46:30.362722",
     "status": "completed"
    },
    "tags": []
   },
   "outputs": [
    {
     "name": "stdout",
     "output_type": "stream",
     "text": [
      "Stopping execution_time clock.\n",
      "[INFO] Keeping all rows: 89710 rows retained.\n"
     ]
    },
    {
     "name": "stdout",
     "output_type": "stream",
     "text": [
      "[INFO] Keeping all rows: 89710 rows retained.\n"
     ]
    },
    {
     "name": "stdout",
     "output_type": "stream",
     "text": [
      "[INFO] Keeping all rows: 89710 rows retained.\n"
     ]
    },
    {
     "name": "stdout",
     "output_type": "stream",
     "text": [
      "[INFO] Keeping all rows: 89710 rows retained.\n"
     ]
    },
    {
     "data": {
      "text/html": [
       "<div>\n",
       "<style scoped>\n",
       "    .dataframe tbody tr th:only-of-type {\n",
       "        vertical-align: middle;\n",
       "    }\n",
       "\n",
       "    .dataframe tbody tr th {\n",
       "        vertical-align: top;\n",
       "    }\n",
       "\n",
       "    .dataframe thead th {\n",
       "        text-align: right;\n",
       "    }\n",
       "</style>\n",
       "<table border=\"1\" class=\"dataframe\">\n",
       "  <thead>\n",
       "    <tr style=\"text-align: right;\">\n",
       "      <th></th>\n",
       "      <th>run_no</th>\n",
       "      <th>universe_id</th>\n",
       "      <th>universe_settings</th>\n",
       "      <th>execution_time</th>\n",
       "      <th>test_size_n</th>\n",
       "      <th>test_size_frac</th>\n",
       "      <th>fair_main_equalized_odds_difference</th>\n",
       "      <th>fair_main_equalized_odds_ratio</th>\n",
       "      <th>fair_main_demographic_parity_difference</th>\n",
       "      <th>fair_main_demographic_parity_ratio</th>\n",
       "      <th>...</th>\n",
       "      <th>perf_grp_precision_0</th>\n",
       "      <th>perf_grp_precision_1</th>\n",
       "      <th>perf_grp_false positive rate_0</th>\n",
       "      <th>perf_grp_false positive rate_1</th>\n",
       "      <th>perf_grp_false negative rate_0</th>\n",
       "      <th>perf_grp_false negative rate_1</th>\n",
       "      <th>perf_grp_selection rate_0</th>\n",
       "      <th>perf_grp_selection rate_1</th>\n",
       "      <th>perf_grp_count_0</th>\n",
       "      <th>perf_grp_count_1</th>\n",
       "    </tr>\n",
       "  </thead>\n",
       "  <tbody>\n",
       "    <tr>\n",
       "      <th>0</th>\n",
       "      <td>3</td>\n",
       "      <td>3944db13bce95e94302b82c28e34da25</td>\n",
       "      <td>{\"cutoff\": \"quantile_0.1\", \"eval_fairness_grou...</td>\n",
       "      <td>29.25846</td>\n",
       "      <td>89710</td>\n",
       "      <td>1.0</td>\n",
       "      <td>0.075315</td>\n",
       "      <td>0.924087</td>\n",
       "      <td>0.071531</td>\n",
       "      <td>0.923949</td>\n",
       "      <td>...</td>\n",
       "      <td>NaN</td>\n",
       "      <td>NaN</td>\n",
       "      <td>NaN</td>\n",
       "      <td>NaN</td>\n",
       "      <td>NaN</td>\n",
       "      <td>NaN</td>\n",
       "      <td>NaN</td>\n",
       "      <td>NaN</td>\n",
       "      <td>NaN</td>\n",
       "      <td>NaN</td>\n",
       "    </tr>\n",
       "    <tr>\n",
       "      <th>0</th>\n",
       "      <td>3</td>\n",
       "      <td>3944db13bce95e94302b82c28e34da25</td>\n",
       "      <td>{\"cutoff\": \"quantile_0.1\", \"eval_fairness_grou...</td>\n",
       "      <td>29.25846</td>\n",
       "      <td>89710</td>\n",
       "      <td>1.0</td>\n",
       "      <td>0.075315</td>\n",
       "      <td>0.924087</td>\n",
       "      <td>0.071531</td>\n",
       "      <td>0.923949</td>\n",
       "      <td>...</td>\n",
       "      <td>0.121625</td>\n",
       "      <td>0.139381</td>\n",
       "      <td>0.862811</td>\n",
       "      <td>0.932717</td>\n",
       "      <td>0.083193</td>\n",
       "      <td>0.007877</td>\n",
       "      <td>0.869036</td>\n",
       "      <td>0.940567</td>\n",
       "      <td>20540.0</td>\n",
       "      <td>69170.0</td>\n",
       "    </tr>\n",
       "    <tr>\n",
       "      <th>0</th>\n",
       "      <td>3</td>\n",
       "      <td>3944db13bce95e94302b82c28e34da25</td>\n",
       "      <td>{\"cutoff\": \"quantile_0.25\", \"eval_fairness_gro...</td>\n",
       "      <td>29.25846</td>\n",
       "      <td>89710</td>\n",
       "      <td>1.0</td>\n",
       "      <td>0.128750</td>\n",
       "      <td>0.865802</td>\n",
       "      <td>0.083388</td>\n",
       "      <td>0.895777</td>\n",
       "      <td>...</td>\n",
       "      <td>NaN</td>\n",
       "      <td>NaN</td>\n",
       "      <td>NaN</td>\n",
       "      <td>NaN</td>\n",
       "      <td>NaN</td>\n",
       "      <td>NaN</td>\n",
       "      <td>NaN</td>\n",
       "      <td>NaN</td>\n",
       "      <td>NaN</td>\n",
       "      <td>NaN</td>\n",
       "    </tr>\n",
       "    <tr>\n",
       "      <th>0</th>\n",
       "      <td>3</td>\n",
       "      <td>3944db13bce95e94302b82c28e34da25</td>\n",
       "      <td>{\"cutoff\": \"quantile_0.25\", \"eval_fairness_gro...</td>\n",
       "      <td>29.25846</td>\n",
       "      <td>89710</td>\n",
       "      <td>1.0</td>\n",
       "      <td>0.128750</td>\n",
       "      <td>0.865802</td>\n",
       "      <td>0.083388</td>\n",
       "      <td>0.895777</td>\n",
       "      <td>...</td>\n",
       "      <td>0.133619</td>\n",
       "      <td>0.158451</td>\n",
       "      <td>0.701849</td>\n",
       "      <td>0.775829</td>\n",
       "      <td>0.169341</td>\n",
       "      <td>0.040591</td>\n",
       "      <td>0.716699</td>\n",
       "      <td>0.800087</td>\n",
       "      <td>20540.0</td>\n",
       "      <td>69170.0</td>\n",
       "    </tr>\n",
       "  </tbody>\n",
       "</table>\n",
       "<p>4 rows × 50 columns</p>\n",
       "</div>"
      ],
      "text/plain": [
       "  run_no                       universe_id  \\\n",
       "0      3  3944db13bce95e94302b82c28e34da25   \n",
       "0      3  3944db13bce95e94302b82c28e34da25   \n",
       "0      3  3944db13bce95e94302b82c28e34da25   \n",
       "0      3  3944db13bce95e94302b82c28e34da25   \n",
       "\n",
       "                                   universe_settings  execution_time  \\\n",
       "0  {\"cutoff\": \"quantile_0.1\", \"eval_fairness_grou...        29.25846   \n",
       "0  {\"cutoff\": \"quantile_0.1\", \"eval_fairness_grou...        29.25846   \n",
       "0  {\"cutoff\": \"quantile_0.25\", \"eval_fairness_gro...        29.25846   \n",
       "0  {\"cutoff\": \"quantile_0.25\", \"eval_fairness_gro...        29.25846   \n",
       "\n",
       "   test_size_n  test_size_frac  fair_main_equalized_odds_difference  \\\n",
       "0        89710             1.0                             0.075315   \n",
       "0        89710             1.0                             0.075315   \n",
       "0        89710             1.0                             0.128750   \n",
       "0        89710             1.0                             0.128750   \n",
       "\n",
       "   fair_main_equalized_odds_ratio  fair_main_demographic_parity_difference  \\\n",
       "0                        0.924087                                 0.071531   \n",
       "0                        0.924087                                 0.071531   \n",
       "0                        0.865802                                 0.083388   \n",
       "0                        0.865802                                 0.083388   \n",
       "\n",
       "   fair_main_demographic_parity_ratio  ...  perf_grp_precision_0  \\\n",
       "0                            0.923949  ...                   NaN   \n",
       "0                            0.923949  ...              0.121625   \n",
       "0                            0.895777  ...                   NaN   \n",
       "0                            0.895777  ...              0.133619   \n",
       "\n",
       "   perf_grp_precision_1  perf_grp_false positive rate_0  \\\n",
       "0                   NaN                             NaN   \n",
       "0              0.139381                        0.862811   \n",
       "0                   NaN                             NaN   \n",
       "0              0.158451                        0.701849   \n",
       "\n",
       "   perf_grp_false positive rate_1  perf_grp_false negative rate_0  \\\n",
       "0                             NaN                             NaN   \n",
       "0                        0.932717                        0.083193   \n",
       "0                             NaN                             NaN   \n",
       "0                        0.775829                        0.169341   \n",
       "\n",
       "   perf_grp_false negative rate_1  perf_grp_selection rate_0  \\\n",
       "0                             NaN                        NaN   \n",
       "0                        0.007877                   0.869036   \n",
       "0                             NaN                        NaN   \n",
       "0                        0.040591                   0.716699   \n",
       "\n",
       "   perf_grp_selection rate_1  perf_grp_count_0  perf_grp_count_1  \n",
       "0                        NaN               NaN               NaN  \n",
       "0                   0.940567           20540.0           69170.0  \n",
       "0                        NaN               NaN               NaN  \n",
       "0                   0.800087           20540.0           69170.0  \n",
       "\n",
       "[4 rows x 50 columns]"
      ]
     },
     "execution_count": 64,
     "metadata": {},
     "output_type": "execute_result"
    }
   ],
   "source": [
    "final_output = universe_analysis.generate_final_output(\n",
    "    y_pred_prob=probs_test,\n",
    "    y_test=y_true,\n",
    "    org_test=org_test,\n",
    "    filter_data=filter_sub_universe_data,\n",
    "    cp_metrics_df=cp_metrics_df,\n",
    "    save=True,\n",
    ")\n",
    "final_output"
   ]
  },
  {
   "cell_type": "code",
   "execution_count": null,
   "id": "8b80a1ff",
   "metadata": {
    "papermill": {
     "duration": 0.014498,
     "end_time": "2025-08-19T18:46:37.335965",
     "exception": false,
     "start_time": "2025-08-19T18:46:37.321467",
     "status": "completed"
    },
    "tags": []
   },
   "outputs": [],
   "source": []
  },
  {
   "cell_type": "code",
   "execution_count": null,
   "id": "275c9fad",
   "metadata": {
    "papermill": {
     "duration": 0.01411,
     "end_time": "2025-08-19T18:46:37.364260",
     "exception": false,
     "start_time": "2025-08-19T18:46:37.350150",
     "status": "completed"
    },
    "tags": []
   },
   "outputs": [],
   "source": []
  }
 ],
 "metadata": {
  "celltoolbar": "Tags",
  "kernelspec": {
   "display_name": "Python (CMA Fairness)",
   "language": "python",
   "name": "cma_fair_env"
  },
  "language_info": {
   "codemirror_mode": {
    "name": "ipython",
    "version": 3
   },
   "file_extension": ".py",
   "mimetype": "text/x-python",
   "name": "python",
   "nbconvert_exporter": "python",
   "pygments_lexer": "ipython3",
   "version": "3.10.12"
  },
  "papermill": {
   "default_parameters": {},
   "duration": 39.897639,
   "end_time": "2025-08-19T18:46:38.116964",
   "environment_variables": {},
   "exception": null,
   "input_path": "universe_analysis.ipynb",
   "output_path": "output/runs/3/notebooks/m_3-3944db13bce95e94302b82c28e34da25.ipynb",
   "parameters": {
    "output_dir": "output",
    "run_no": "3",
    "seed": "2023",
    "universe": "{\"cutoff\": [\"quantile_0.1\", \"quantile_0.25\"], \"eval_fairness_grouping\": [\"majority-minority\", \"nationality-all\"], \"exclude_features\": \"none\", \"exclude_subgroups\": \"keep-all\", \"model\": \"rf\", \"scale\": \"do-not-scale\", \"training_size\": \"5k\", \"training_year\": \"2010_14\"}",
    "universe_id": "3944db13bce95e94302b82c28e34da25"
   },
   "start_time": "2025-08-19T18:45:58.219325",
   "version": "2.6.0"
  }
 },
 "nbformat": 4,
 "nbformat_minor": 5
}