{
 "cells": [
  {
   "cell_type": "markdown",
   "id": "ef23dbb3",
   "metadata": {
    "papermill": {
     "duration": 0.009553,
     "end_time": "2025-08-19T18:18:22.782380",
     "exception": false,
     "start_time": "2025-08-19T18:18:22.772827",
     "status": "completed"
    },
    "tags": []
   },
   "source": [
    "# Setup"
   ]
  },
  {
   "cell_type": "code",
   "execution_count": 1,
   "id": "0bc8e7dc",
   "metadata": {
    "execution": {
     "iopub.execute_input": "2025-08-19T18:18:22.803560Z",
     "iopub.status.busy": "2025-08-19T18:18:22.802814Z",
     "iopub.status.idle": "2025-08-19T18:18:22.833985Z",
     "shell.execute_reply": "2025-08-19T18:18:22.833177Z"
    },
    "papermill": {
     "duration": 0.04411,
     "end_time": "2025-08-19T18:18:22.836335",
     "exception": false,
     "start_time": "2025-08-19T18:18:22.792225",
     "status": "completed"
    },
    "tags": []
   },
   "outputs": [
    {
     "name": "stdout",
     "output_type": "stream",
     "text": [
      "/dss/dsshome1/0C/ra93lal2/cma/CMA_Fairness_v2\n"
     ]
    },
    {
     "name": "stderr",
     "output_type": "stream",
     "text": [
      "/dss/dsshome1/0C/ra93lal2/.local/share/virtualenvs/CMA_Fairness_v2-3j10GkSs/lib/python3.10/site-packages/IPython/core/magics/osm.py:393: UserWarning: This is now an optional IPython functionality, using bookmarks requires you to install the `pickleshare` library.\n",
      "  bkms = self.shell.db.get('bookmarks', {})\n",
      "/dss/dsshome1/0C/ra93lal2/.local/share/virtualenvs/CMA_Fairness_v2-3j10GkSs/lib/python3.10/site-packages/IPython/core/magics/osm.py:417: UserWarning: This is now an optional IPython functionality, setting dhist requires you to install the `pickleshare` library.\n",
      "  self.shell.db['dhist'] = compress_dhist(dhist)[-100:]\n"
     ]
    }
   ],
   "source": [
    "%cd ~/cma/CMA_Fairness_v2"
   ]
  },
  {
   "cell_type": "markdown",
   "id": "9d235661",
   "metadata": {
    "papermill": {
     "duration": 0.01243,
     "end_time": "2025-08-19T18:18:22.870210",
     "exception": false,
     "start_time": "2025-08-19T18:18:22.857780",
     "status": "completed"
    },
    "tags": []
   },
   "source": [
    "The following cell holds the definition of our parameters, these values can be overriden by rendering the with e.g. the following command:\n",
    "\n",
    "papermill -p alpha 0.2 -p ratio 0.3 universe_analysis.ipynb output/test_run.ipynb"
   ]
  },
  {
   "cell_type": "code",
   "execution_count": 2,
   "id": "4a789d8e",
   "metadata": {
    "execution": {
     "iopub.execute_input": "2025-08-19T18:18:22.889510Z",
     "iopub.status.busy": "2025-08-19T18:18:22.888935Z",
     "iopub.status.idle": "2025-08-19T18:18:22.893330Z",
     "shell.execute_reply": "2025-08-19T18:18:22.892662Z"
    },
    "papermill": {
     "duration": 0.015434,
     "end_time": "2025-08-19T18:18:22.894564",
     "exception": false,
     "start_time": "2025-08-19T18:18:22.879130",
     "status": "completed"
    },
    "tags": []
   },
   "outputs": [
    {
     "name": "stdout",
     "output_type": "stream",
     "text": [
      "Current working directory: /dss/dsshome1/0C/ra93lal2/cma/CMA_Fairness_v2\n"
     ]
    }
   ],
   "source": [
    "import os\n",
    "print(\"Current working directory:\", os.getcwd())"
   ]
  },
  {
   "cell_type": "code",
   "execution_count": 3,
   "id": "4132aaed",
   "metadata": {
    "execution": {
     "iopub.execute_input": "2025-08-19T18:18:22.914711Z",
     "iopub.status.busy": "2025-08-19T18:18:22.914213Z",
     "iopub.status.idle": "2025-08-19T18:18:22.920693Z",
     "shell.execute_reply": "2025-08-19T18:18:22.919191Z"
    },
    "papermill": {
     "duration": 0.018281,
     "end_time": "2025-08-19T18:18:22.922110",
     "exception": false,
     "start_time": "2025-08-19T18:18:22.903829",
     "status": "completed"
    },
    "tags": [
     "parameters"
    ]
   },
   "outputs": [],
   "source": [
    "run_no = 0\n",
    "universe_id = \"test\"\n",
    "universe = {\n",
    "    \"training_size\": \"5k\", # \"25k\", \"5k\", \"1k\"\n",
    "    \"training_year\": \"2012_14\", # \"2014\", \"2012_14\", \"2010_14\"\n",
    "    \"scale\": \"scale\", # \"scale\", \"do-not-scale\",\n",
    "    \"model\": \"elasticnet\", # \"logreg\", \"penalized_logreg\", \"rf\", \"gbm\", \"elasticnet\"\n",
    "    \"cutoff\": [\"quantile_0.15\", \"quantile_0.30\"],\n",
    "    \"exclude_features\": \"age\", # \"none\", \"nationality\", \"sex\", \"nationality-sex\", \"age\"\n",
    "    \"exclude_subgroups\": \"drop-non-german\", # \"keep-all\", \"drop-non-german\"\n",
    "    \"eval_fairness_grouping\": [\"majority-minority\", \"nationality-all\"]\n",
    "}\n",
    "\n",
    "output_dir=\"./output\"\n",
    "seed=0"
   ]
  },
  {
   "cell_type": "code",
   "execution_count": 4,
   "id": "be04178d",
   "metadata": {
    "execution": {
     "iopub.execute_input": "2025-08-19T18:18:22.946122Z",
     "iopub.status.busy": "2025-08-19T18:18:22.945898Z",
     "iopub.status.idle": "2025-08-19T18:18:23.113525Z",
     "shell.execute_reply": "2025-08-19T18:18:23.111989Z"
    },
    "papermill": {
     "duration": 0.180893,
     "end_time": "2025-08-19T18:18:23.116931",
     "exception": false,
     "start_time": "2025-08-19T18:18:22.936038",
     "status": "completed"
    },
    "tags": [
     "injected-parameters"
    ]
   },
   "outputs": [],
   "source": [
    "# Parameters\n",
    "universe_id = \"9c5f0190991d64c8c16023a7a46c5d00\"\n",
    "run_no = \"3\"\n",
    "universe = \"{\\\"cutoff\\\": [\\\"quantile_0.1\\\", \\\"quantile_0.25\\\"], \\\"eval_fairness_grouping\\\": [\\\"majority-minority\\\", \\\"nationality-all\\\"], \\\"exclude_features\\\": \\\"none\\\", \\\"exclude_subgroups\\\": \\\"keep-all\\\", \\\"model\\\": \\\"penalized_logreg\\\", \\\"scale\\\": \\\"do-not-scale\\\", \\\"training_size\\\": \\\"25k\\\", \\\"training_year\\\": \\\"2010_14\\\"}\"\n",
    "output_dir = \"output\"\n",
    "seed = \"2023\"\n"
   ]
  },
  {
   "cell_type": "code",
   "execution_count": 5,
   "id": "a5d7941f",
   "metadata": {
    "execution": {
     "iopub.execute_input": "2025-08-19T18:18:23.153062Z",
     "iopub.status.busy": "2025-08-19T18:18:23.152603Z",
     "iopub.status.idle": "2025-08-19T18:18:23.157128Z",
     "shell.execute_reply": "2025-08-19T18:18:23.156309Z"
    },
    "papermill": {
     "duration": 0.018878,
     "end_time": "2025-08-19T18:18:23.158353",
     "exception": false,
     "start_time": "2025-08-19T18:18:23.139475",
     "status": "completed"
    },
    "tags": []
   },
   "outputs": [],
   "source": [
    "import json\n",
    "if isinstance(universe, str):\n",
    "    universe = json.loads(universe)"
   ]
  },
  {
   "cell_type": "code",
   "execution_count": 6,
   "id": "7076ccb1",
   "metadata": {
    "execution": {
     "iopub.execute_input": "2025-08-19T18:18:23.178138Z",
     "iopub.status.busy": "2025-08-19T18:18:23.177768Z",
     "iopub.status.idle": "2025-08-19T18:18:23.292238Z",
     "shell.execute_reply": "2025-08-19T18:18:23.282852Z"
    },
    "papermill": {
     "duration": 0.1263,
     "end_time": "2025-08-19T18:18:23.293935",
     "exception": false,
     "start_time": "2025-08-19T18:18:23.167635",
     "status": "completed"
    },
    "tags": []
   },
   "outputs": [],
   "source": [
    "# Auto-reload the custom package\n",
    "%load_ext autoreload\n",
    "%autoreload 1\n",
    "%aimport fairness_multiverse"
   ]
  },
  {
   "cell_type": "code",
   "execution_count": 7,
   "id": "94c8eb93",
   "metadata": {
    "execution": {
     "iopub.execute_input": "2025-08-19T18:18:23.319051Z",
     "iopub.status.busy": "2025-08-19T18:18:23.318590Z",
     "iopub.status.idle": "2025-08-19T18:18:24.919936Z",
     "shell.execute_reply": "2025-08-19T18:18:24.919044Z"
    },
    "papermill": {
     "duration": 1.614734,
     "end_time": "2025-08-19T18:18:24.921577",
     "exception": false,
     "start_time": "2025-08-19T18:18:23.306843",
     "status": "completed"
    },
    "tags": []
   },
   "outputs": [],
   "source": [
    "from fairness_multiverse.universe import UniverseAnalysis\n",
    "\n",
    "universe_analysis = UniverseAnalysis(\n",
    "    run_no = run_no,\n",
    "    universe_id = universe_id,\n",
    "    universe = universe,\n",
    "    output_dir=output_dir,\n",
    ")"
   ]
  },
  {
   "cell_type": "code",
   "execution_count": 8,
   "id": "2a6381cf",
   "metadata": {
    "execution": {
     "iopub.execute_input": "2025-08-19T18:18:24.945271Z",
     "iopub.status.busy": "2025-08-19T18:18:24.944099Z",
     "iopub.status.idle": "2025-08-19T18:18:24.953325Z",
     "shell.execute_reply": "2025-08-19T18:18:24.951913Z"
    },
    "papermill": {
     "duration": 0.023133,
     "end_time": "2025-08-19T18:18:24.954947",
     "exception": false,
     "start_time": "2025-08-19T18:18:24.931814",
     "status": "completed"
    },
    "tags": []
   },
   "outputs": [
    {
     "name": "stdout",
     "output_type": "stream",
     "text": [
      "Using Seed: 2023\n"
     ]
    }
   ],
   "source": [
    "import numpy as np\n",
    "parsed_seed = int(seed)\n",
    "np.random.seed(parsed_seed)\n",
    "print(f\"Using Seed: {parsed_seed}\")"
   ]
  },
  {
   "cell_type": "markdown",
   "id": "b6e958b4",
   "metadata": {
    "papermill": {
     "duration": 0.009324,
     "end_time": "2025-08-19T18:18:24.974884",
     "exception": false,
     "start_time": "2025-08-19T18:18:24.965560",
     "status": "completed"
    },
    "tags": []
   },
   "source": [
    "# Loading Data"
   ]
  },
  {
   "cell_type": "code",
   "execution_count": 9,
   "id": "98701482",
   "metadata": {
    "execution": {
     "iopub.execute_input": "2025-08-19T18:18:24.995243Z",
     "iopub.status.busy": "2025-08-19T18:18:24.994833Z",
     "iopub.status.idle": "2025-08-19T18:18:35.315322Z",
     "shell.execute_reply": "2025-08-19T18:18:35.314221Z"
    },
    "papermill": {
     "duration": 10.334095,
     "end_time": "2025-08-19T18:18:35.318330",
     "exception": false,
     "start_time": "2025-08-19T18:18:24.984235",
     "status": "completed"
    },
    "tags": []
   },
   "outputs": [
    {
     "name": "stdout",
     "output_type": "stream",
     "text": [
      "Loading SIAB data from cache: data/siab_cached.csv.gz\n"
     ]
    },
    {
     "name": "stdout",
     "output_type": "stream",
     "text": [
      "(643690, 164)\n"
     ]
    }
   ],
   "source": [
    "from pathlib import Path\n",
    "import pandas as pd\n",
    "\n",
    "# File paths\n",
    "raw_file = Path(\"data/raw/siab.csv\")\n",
    "cache_file = Path(\"data/siab_cached.csv.gz\")\n",
    "\n",
    "# Ensure cache directory exists\n",
    "cache_file.parent.mkdir(parents=True, exist_ok=True)\n",
    "\n",
    "# Load with simple caching\n",
    "if cache_file.exists():\n",
    "    print(f\"Loading SIAB data from cache: {cache_file}\")\n",
    "    siab = pd.read_csv(cache_file, compression='gzip')\n",
    "else:\n",
    "    print(f\"Cache not found. Reading raw SIAB data: {raw_file}\")\n",
    "    siab = pd.read_csv(raw_file)\n",
    "    siab.to_csv(cache_file, index=False, compression='gzip')\n",
    "    print(f\"Cached SIAB data to: {cache_file}\")\n",
    "\n",
    "print(siab.shape)"
   ]
  },
  {
   "cell_type": "code",
   "execution_count": 10,
   "id": "058d2abb",
   "metadata": {
    "execution": {
     "iopub.execute_input": "2025-08-19T18:18:35.361709Z",
     "iopub.status.busy": "2025-08-19T18:18:35.359791Z",
     "iopub.status.idle": "2025-08-19T18:18:35.496016Z",
     "shell.execute_reply": "2025-08-19T18:18:35.494843Z"
    },
    "papermill": {
     "duration": 0.156187,
     "end_time": "2025-08-19T18:18:35.499391",
     "exception": false,
     "start_time": "2025-08-19T18:18:35.343204",
     "status": "completed"
    },
    "tags": []
   },
   "outputs": [
    {
     "data": {
      "text/html": [
       "<div>\n",
       "<style scoped>\n",
       "    .dataframe tbody tr th:only-of-type {\n",
       "        vertical-align: middle;\n",
       "    }\n",
       "\n",
       "    .dataframe tbody tr th {\n",
       "        vertical-align: top;\n",
       "    }\n",
       "\n",
       "    .dataframe thead th {\n",
       "        text-align: right;\n",
       "    }\n",
       "</style>\n",
       "<table border=\"1\" class=\"dataframe\">\n",
       "  <thead>\n",
       "    <tr style=\"text-align: right;\">\n",
       "      <th></th>\n",
       "      <th>persnr</th>\n",
       "      <th>year</th>\n",
       "      <th>nrEntry</th>\n",
       "      <th>ltue</th>\n",
       "      <th>employed_before</th>\n",
       "      <th>receipt_leh_before</th>\n",
       "      <th>receipt_lhg_before</th>\n",
       "      <th>se_before</th>\n",
       "      <th>ASU_notue_seeking_before</th>\n",
       "      <th>ASU_other_before</th>\n",
       "      <th>...</th>\n",
       "      <th>minijob_tot_dur_byage</th>\n",
       "      <th>ft_tot_dur_byage</th>\n",
       "      <th>befrist_tot_dur_byage</th>\n",
       "      <th>leih_tot_dur_byage</th>\n",
       "      <th>LHG_tot_dur_byage</th>\n",
       "      <th>LEH_tot_dur_byage</th>\n",
       "      <th>almp_tot_dur_byage</th>\n",
       "      <th>almp_aw_tot_dur_byage</th>\n",
       "      <th>se_tot_dur_byage</th>\n",
       "      <th>seeking1_tot_dur_byage</th>\n",
       "    </tr>\n",
       "  </thead>\n",
       "  <tbody>\n",
       "    <tr>\n",
       "      <th>0</th>\n",
       "      <td>7</td>\n",
       "      <td>2015</td>\n",
       "      <td>1</td>\n",
       "      <td>0</td>\n",
       "      <td>1</td>\n",
       "      <td>0</td>\n",
       "      <td>0</td>\n",
       "      <td>0</td>\n",
       "      <td>1</td>\n",
       "      <td>0</td>\n",
       "      <td>...</td>\n",
       "      <td>0.000000</td>\n",
       "      <td>0.000000</td>\n",
       "      <td>15.043478</td>\n",
       "      <td>0.000000</td>\n",
       "      <td>0.000000</td>\n",
       "      <td>0.000000</td>\n",
       "      <td>0.000000</td>\n",
       "      <td>0.000000</td>\n",
       "      <td>0.000000</td>\n",
       "      <td>0.000000</td>\n",
       "    </tr>\n",
       "    <tr>\n",
       "      <th>1</th>\n",
       "      <td>18</td>\n",
       "      <td>2010</td>\n",
       "      <td>1</td>\n",
       "      <td>1</td>\n",
       "      <td>0</td>\n",
       "      <td>0</td>\n",
       "      <td>0</td>\n",
       "      <td>0</td>\n",
       "      <td>0</td>\n",
       "      <td>0</td>\n",
       "      <td>...</td>\n",
       "      <td>0.000000</td>\n",
       "      <td>0.000000</td>\n",
       "      <td>0.000000</td>\n",
       "      <td>0.000000</td>\n",
       "      <td>0.000000</td>\n",
       "      <td>0.000000</td>\n",
       "      <td>0.000000</td>\n",
       "      <td>0.000000</td>\n",
       "      <td>0.000000</td>\n",
       "      <td>0.000000</td>\n",
       "    </tr>\n",
       "    <tr>\n",
       "      <th>2</th>\n",
       "      <td>18</td>\n",
       "      <td>2011</td>\n",
       "      <td>2</td>\n",
       "      <td>0</td>\n",
       "      <td>1</td>\n",
       "      <td>0</td>\n",
       "      <td>1</td>\n",
       "      <td>0</td>\n",
       "      <td>1</td>\n",
       "      <td>0</td>\n",
       "      <td>...</td>\n",
       "      <td>2.714286</td>\n",
       "      <td>2.714286</td>\n",
       "      <td>0.000000</td>\n",
       "      <td>0.000000</td>\n",
       "      <td>10.775510</td>\n",
       "      <td>0.000000</td>\n",
       "      <td>8.367347</td>\n",
       "      <td>0.000000</td>\n",
       "      <td>0.000000</td>\n",
       "      <td>9.836735</td>\n",
       "    </tr>\n",
       "    <tr>\n",
       "      <th>3</th>\n",
       "      <td>18</td>\n",
       "      <td>2012</td>\n",
       "      <td>3</td>\n",
       "      <td>0</td>\n",
       "      <td>1</td>\n",
       "      <td>0</td>\n",
       "      <td>1</td>\n",
       "      <td>0</td>\n",
       "      <td>1</td>\n",
       "      <td>0</td>\n",
       "      <td>...</td>\n",
       "      <td>4.200000</td>\n",
       "      <td>4.200000</td>\n",
       "      <td>0.000000</td>\n",
       "      <td>0.000000</td>\n",
       "      <td>12.100000</td>\n",
       "      <td>0.000000</td>\n",
       "      <td>9.400000</td>\n",
       "      <td>0.000000</td>\n",
       "      <td>0.000000</td>\n",
       "      <td>9.960000</td>\n",
       "    </tr>\n",
       "    <tr>\n",
       "      <th>4</th>\n",
       "      <td>18</td>\n",
       "      <td>2012</td>\n",
       "      <td>4</td>\n",
       "      <td>0</td>\n",
       "      <td>1</td>\n",
       "      <td>0</td>\n",
       "      <td>1</td>\n",
       "      <td>0</td>\n",
       "      <td>1</td>\n",
       "      <td>0</td>\n",
       "      <td>...</td>\n",
       "      <td>5.460000</td>\n",
       "      <td>5.460000</td>\n",
       "      <td>0.000000</td>\n",
       "      <td>0.000000</td>\n",
       "      <td>13.360000</td>\n",
       "      <td>0.000000</td>\n",
       "      <td>10.320000</td>\n",
       "      <td>0.000000</td>\n",
       "      <td>0.000000</td>\n",
       "      <td>10.280000</td>\n",
       "    </tr>\n",
       "    <tr>\n",
       "      <th>...</th>\n",
       "      <td>...</td>\n",
       "      <td>...</td>\n",
       "      <td>...</td>\n",
       "      <td>...</td>\n",
       "      <td>...</td>\n",
       "      <td>...</td>\n",
       "      <td>...</td>\n",
       "      <td>...</td>\n",
       "      <td>...</td>\n",
       "      <td>...</td>\n",
       "      <td>...</td>\n",
       "      <td>...</td>\n",
       "      <td>...</td>\n",
       "      <td>...</td>\n",
       "      <td>...</td>\n",
       "      <td>...</td>\n",
       "      <td>...</td>\n",
       "      <td>...</td>\n",
       "      <td>...</td>\n",
       "      <td>...</td>\n",
       "      <td>...</td>\n",
       "    </tr>\n",
       "    <tr>\n",
       "      <th>643685</th>\n",
       "      <td>1827860</td>\n",
       "      <td>2013</td>\n",
       "      <td>1</td>\n",
       "      <td>0</td>\n",
       "      <td>0</td>\n",
       "      <td>0</td>\n",
       "      <td>1</td>\n",
       "      <td>0</td>\n",
       "      <td>0</td>\n",
       "      <td>1</td>\n",
       "      <td>...</td>\n",
       "      <td>0.000000</td>\n",
       "      <td>0.000000</td>\n",
       "      <td>0.000000</td>\n",
       "      <td>0.000000</td>\n",
       "      <td>0.612903</td>\n",
       "      <td>0.000000</td>\n",
       "      <td>0.000000</td>\n",
       "      <td>0.000000</td>\n",
       "      <td>0.000000</td>\n",
       "      <td>0.000000</td>\n",
       "    </tr>\n",
       "    <tr>\n",
       "      <th>643686</th>\n",
       "      <td>1827860</td>\n",
       "      <td>2015</td>\n",
       "      <td>2</td>\n",
       "      <td>1</td>\n",
       "      <td>0</td>\n",
       "      <td>0</td>\n",
       "      <td>1</td>\n",
       "      <td>0</td>\n",
       "      <td>1</td>\n",
       "      <td>0</td>\n",
       "      <td>...</td>\n",
       "      <td>0.000000</td>\n",
       "      <td>0.000000</td>\n",
       "      <td>0.212121</td>\n",
       "      <td>0.212121</td>\n",
       "      <td>17.363636</td>\n",
       "      <td>0.000000</td>\n",
       "      <td>8.909091</td>\n",
       "      <td>0.000000</td>\n",
       "      <td>0.000000</td>\n",
       "      <td>7.121212</td>\n",
       "    </tr>\n",
       "    <tr>\n",
       "      <th>643687</th>\n",
       "      <td>1827860</td>\n",
       "      <td>2016</td>\n",
       "      <td>3</td>\n",
       "      <td>1</td>\n",
       "      <td>0</td>\n",
       "      <td>0</td>\n",
       "      <td>1</td>\n",
       "      <td>1</td>\n",
       "      <td>0</td>\n",
       "      <td>1</td>\n",
       "      <td>...</td>\n",
       "      <td>0.000000</td>\n",
       "      <td>0.000000</td>\n",
       "      <td>0.294118</td>\n",
       "      <td>0.205882</td>\n",
       "      <td>34.705882</td>\n",
       "      <td>0.000000</td>\n",
       "      <td>10.352941</td>\n",
       "      <td>1.705882</td>\n",
       "      <td>1.705882</td>\n",
       "      <td>23.911765</td>\n",
       "    </tr>\n",
       "    <tr>\n",
       "      <th>643688</th>\n",
       "      <td>1827869</td>\n",
       "      <td>2013</td>\n",
       "      <td>1</td>\n",
       "      <td>1</td>\n",
       "      <td>1</td>\n",
       "      <td>0</td>\n",
       "      <td>0</td>\n",
       "      <td>0</td>\n",
       "      <td>1</td>\n",
       "      <td>0</td>\n",
       "      <td>...</td>\n",
       "      <td>0.000000</td>\n",
       "      <td>0.000000</td>\n",
       "      <td>0.000000</td>\n",
       "      <td>0.000000</td>\n",
       "      <td>0.000000</td>\n",
       "      <td>0.525424</td>\n",
       "      <td>0.000000</td>\n",
       "      <td>0.000000</td>\n",
       "      <td>0.000000</td>\n",
       "      <td>0.000000</td>\n",
       "    </tr>\n",
       "    <tr>\n",
       "      <th>643689</th>\n",
       "      <td>1827869</td>\n",
       "      <td>2014</td>\n",
       "      <td>2</td>\n",
       "      <td>0</td>\n",
       "      <td>0</td>\n",
       "      <td>1</td>\n",
       "      <td>0</td>\n",
       "      <td>0</td>\n",
       "      <td>1</td>\n",
       "      <td>0</td>\n",
       "      <td>...</td>\n",
       "      <td>0.000000</td>\n",
       "      <td>0.666667</td>\n",
       "      <td>0.666667</td>\n",
       "      <td>0.000000</td>\n",
       "      <td>0.000000</td>\n",
       "      <td>8.950000</td>\n",
       "      <td>1.033333</td>\n",
       "      <td>0.083333</td>\n",
       "      <td>0.083333</td>\n",
       "      <td>8.133333</td>\n",
       "    </tr>\n",
       "  </tbody>\n",
       "</table>\n",
       "<p>643690 rows × 164 columns</p>\n",
       "</div>"
      ],
      "text/plain": [
       "         persnr  year  nrEntry  ltue  employed_before  receipt_leh_before  \\\n",
       "0             7  2015        1     0                1                   0   \n",
       "1            18  2010        1     1                0                   0   \n",
       "2            18  2011        2     0                1                   0   \n",
       "3            18  2012        3     0                1                   0   \n",
       "4            18  2012        4     0                1                   0   \n",
       "...         ...   ...      ...   ...              ...                 ...   \n",
       "643685  1827860  2013        1     0                0                   0   \n",
       "643686  1827860  2015        2     1                0                   0   \n",
       "643687  1827860  2016        3     1                0                   0   \n",
       "643688  1827869  2013        1     1                1                   0   \n",
       "643689  1827869  2014        2     0                0                   1   \n",
       "\n",
       "        receipt_lhg_before  se_before  ASU_notue_seeking_before  \\\n",
       "0                        0          0                         1   \n",
       "1                        0          0                         0   \n",
       "2                        1          0                         1   \n",
       "3                        1          0                         1   \n",
       "4                        1          0                         1   \n",
       "...                    ...        ...                       ...   \n",
       "643685                   1          0                         0   \n",
       "643686                   1          0                         1   \n",
       "643687                   1          1                         0   \n",
       "643688                   0          0                         1   \n",
       "643689                   0          0                         1   \n",
       "\n",
       "        ASU_other_before  ...  minijob_tot_dur_byage  ft_tot_dur_byage  \\\n",
       "0                      0  ...               0.000000          0.000000   \n",
       "1                      0  ...               0.000000          0.000000   \n",
       "2                      0  ...               2.714286          2.714286   \n",
       "3                      0  ...               4.200000          4.200000   \n",
       "4                      0  ...               5.460000          5.460000   \n",
       "...                  ...  ...                    ...               ...   \n",
       "643685                 1  ...               0.000000          0.000000   \n",
       "643686                 0  ...               0.000000          0.000000   \n",
       "643687                 1  ...               0.000000          0.000000   \n",
       "643688                 0  ...               0.000000          0.000000   \n",
       "643689                 0  ...               0.000000          0.666667   \n",
       "\n",
       "        befrist_tot_dur_byage  leih_tot_dur_byage  LHG_tot_dur_byage  \\\n",
       "0                   15.043478            0.000000           0.000000   \n",
       "1                    0.000000            0.000000           0.000000   \n",
       "2                    0.000000            0.000000          10.775510   \n",
       "3                    0.000000            0.000000          12.100000   \n",
       "4                    0.000000            0.000000          13.360000   \n",
       "...                       ...                 ...                ...   \n",
       "643685               0.000000            0.000000           0.612903   \n",
       "643686               0.212121            0.212121          17.363636   \n",
       "643687               0.294118            0.205882          34.705882   \n",
       "643688               0.000000            0.000000           0.000000   \n",
       "643689               0.666667            0.000000           0.000000   \n",
       "\n",
       "        LEH_tot_dur_byage  almp_tot_dur_byage  almp_aw_tot_dur_byage  \\\n",
       "0                0.000000            0.000000               0.000000   \n",
       "1                0.000000            0.000000               0.000000   \n",
       "2                0.000000            8.367347               0.000000   \n",
       "3                0.000000            9.400000               0.000000   \n",
       "4                0.000000           10.320000               0.000000   \n",
       "...                   ...                 ...                    ...   \n",
       "643685           0.000000            0.000000               0.000000   \n",
       "643686           0.000000            8.909091               0.000000   \n",
       "643687           0.000000           10.352941               1.705882   \n",
       "643688           0.525424            0.000000               0.000000   \n",
       "643689           8.950000            1.033333               0.083333   \n",
       "\n",
       "        se_tot_dur_byage  seeking1_tot_dur_byage  \n",
       "0               0.000000                0.000000  \n",
       "1               0.000000                0.000000  \n",
       "2               0.000000                9.836735  \n",
       "3               0.000000                9.960000  \n",
       "4               0.000000               10.280000  \n",
       "...                  ...                     ...  \n",
       "643685          0.000000                0.000000  \n",
       "643686          0.000000                7.121212  \n",
       "643687          1.705882               23.911765  \n",
       "643688          0.000000                0.000000  \n",
       "643689          0.083333                8.133333  \n",
       "\n",
       "[643690 rows x 164 columns]"
      ]
     },
     "execution_count": 10,
     "metadata": {},
     "output_type": "execute_result"
    }
   ],
   "source": [
    "siab"
   ]
  },
  {
   "cell_type": "markdown",
   "id": "1f87e805",
   "metadata": {
    "papermill": {
     "duration": 0.019196,
     "end_time": "2025-08-19T18:18:35.540370",
     "exception": false,
     "start_time": "2025-08-19T18:18:35.521174",
     "status": "completed"
    },
    "tags": []
   },
   "source": [
    "# Splitting Data and Setting Training Data Size"
   ]
  },
  {
   "cell_type": "code",
   "execution_count": 11,
   "id": "910ae358",
   "metadata": {
    "execution": {
     "iopub.execute_input": "2025-08-19T18:18:35.573596Z",
     "iopub.status.busy": "2025-08-19T18:18:35.572451Z",
     "iopub.status.idle": "2025-08-19T18:18:36.732307Z",
     "shell.execute_reply": "2025-08-19T18:18:36.731495Z"
    },
    "papermill": {
     "duration": 1.176289,
     "end_time": "2025-08-19T18:18:36.734131",
     "exception": false,
     "start_time": "2025-08-19T18:18:35.557842",
     "status": "completed"
    },
    "tags": []
   },
   "outputs": [],
   "source": [
    "from fairness_multiverse.universe import sample_by_year_size\n",
    "\n",
    "siab_train = sample_by_year_size(siab,\n",
    "                               training_year=universe[\"training_year\"],\n",
    "                               training_size=universe[\"training_size\"])"
   ]
  },
  {
   "cell_type": "code",
   "execution_count": 12,
   "id": "919c8ff5",
   "metadata": {
    "execution": {
     "iopub.execute_input": "2025-08-19T18:18:36.784071Z",
     "iopub.status.busy": "2025-08-19T18:18:36.782886Z",
     "iopub.status.idle": "2025-08-19T18:18:36.793662Z",
     "shell.execute_reply": "2025-08-19T18:18:36.792501Z"
    },
    "papermill": {
     "duration": 0.037063,
     "end_time": "2025-08-19T18:18:36.796309",
     "exception": false,
     "start_time": "2025-08-19T18:18:36.759246",
     "status": "completed"
    },
    "tags": []
   },
   "outputs": [
    {
     "data": {
      "text/plain": [
       "(25000, 164)"
      ]
     },
     "execution_count": 12,
     "metadata": {},
     "output_type": "execute_result"
    }
   ],
   "source": [
    "siab_train.shape"
   ]
  },
  {
   "cell_type": "code",
   "execution_count": 13,
   "id": "feb13bf4",
   "metadata": {
    "execution": {
     "iopub.execute_input": "2025-08-19T18:18:36.844679Z",
     "iopub.status.busy": "2025-08-19T18:18:36.843590Z",
     "iopub.status.idle": "2025-08-19T18:18:36.859668Z",
     "shell.execute_reply": "2025-08-19T18:18:36.858309Z"
    },
    "papermill": {
     "duration": 0.036638,
     "end_time": "2025-08-19T18:18:36.862122",
     "exception": false,
     "start_time": "2025-08-19T18:18:36.825484",
     "status": "completed"
    },
    "tags": []
   },
   "outputs": [
    {
     "data": {
      "text/plain": [
       "year\n",
       "2010    5000\n",
       "2011    5000\n",
       "2012    5000\n",
       "2013    5000\n",
       "2014    5000\n",
       "dtype: int64"
      ]
     },
     "metadata": {},
     "output_type": "display_data"
    }
   ],
   "source": [
    "display(siab_train.groupby(\"year\").size())"
   ]
  },
  {
   "cell_type": "code",
   "execution_count": 14,
   "id": "0997782f",
   "metadata": {
    "execution": {
     "iopub.execute_input": "2025-08-19T18:18:36.897793Z",
     "iopub.status.busy": "2025-08-19T18:18:36.896127Z",
     "iopub.status.idle": "2025-08-19T18:18:37.199188Z",
     "shell.execute_reply": "2025-08-19T18:18:37.198482Z"
    },
    "papermill": {
     "duration": 0.319047,
     "end_time": "2025-08-19T18:18:37.201013",
     "exception": false,
     "start_time": "2025-08-19T18:18:36.881966",
     "status": "completed"
    },
    "tags": []
   },
   "outputs": [],
   "source": [
    "#siab_train = siab_s[siab_s.year < 2015]\n",
    "siab_calib = siab[siab.year == 2015]\n",
    "siab_test = siab[siab.year == 2016]"
   ]
  },
  {
   "cell_type": "code",
   "execution_count": 15,
   "id": "2c1e4012",
   "metadata": {
    "execution": {
     "iopub.execute_input": "2025-08-19T18:18:37.236523Z",
     "iopub.status.busy": "2025-08-19T18:18:37.235384Z",
     "iopub.status.idle": "2025-08-19T18:18:37.240952Z",
     "shell.execute_reply": "2025-08-19T18:18:37.239979Z"
    },
    "papermill": {
     "duration": 0.035961,
     "end_time": "2025-08-19T18:18:37.247889",
     "exception": false,
     "start_time": "2025-08-19T18:18:37.211928",
     "status": "completed"
    },
    "tags": []
   },
   "outputs": [],
   "source": [
    "#siab_calib.shape"
   ]
  },
  {
   "cell_type": "code",
   "execution_count": 16,
   "id": "f66b54ca",
   "metadata": {
    "execution": {
     "iopub.execute_input": "2025-08-19T18:18:37.276516Z",
     "iopub.status.busy": "2025-08-19T18:18:37.275567Z",
     "iopub.status.idle": "2025-08-19T18:18:37.283456Z",
     "shell.execute_reply": "2025-08-19T18:18:37.281822Z"
    },
    "papermill": {
     "duration": 0.023228,
     "end_time": "2025-08-19T18:18:37.286198",
     "exception": false,
     "start_time": "2025-08-19T18:18:37.262970",
     "status": "completed"
    },
    "tags": []
   },
   "outputs": [],
   "source": [
    "#siab_test.shape"
   ]
  },
  {
   "cell_type": "code",
   "execution_count": 17,
   "id": "27e4384d",
   "metadata": {
    "execution": {
     "iopub.execute_input": "2025-08-19T18:18:37.332924Z",
     "iopub.status.busy": "2025-08-19T18:18:37.331752Z",
     "iopub.status.idle": "2025-08-19T18:18:37.541813Z",
     "shell.execute_reply": "2025-08-19T18:18:37.540568Z"
    },
    "papermill": {
     "duration": 0.237038,
     "end_time": "2025-08-19T18:18:37.543513",
     "exception": false,
     "start_time": "2025-08-19T18:18:37.306475",
     "status": "completed"
    },
    "tags": []
   },
   "outputs": [],
   "source": [
    "X_train = siab_train.iloc[:,4:164]\n",
    "y_train = siab_train.iloc[:, [3]]"
   ]
  },
  {
   "cell_type": "code",
   "execution_count": 18,
   "id": "08ee8389",
   "metadata": {
    "execution": {
     "iopub.execute_input": "2025-08-19T18:18:37.588275Z",
     "iopub.status.busy": "2025-08-19T18:18:37.587199Z",
     "iopub.status.idle": "2025-08-19T18:18:37.935062Z",
     "shell.execute_reply": "2025-08-19T18:18:37.934250Z"
    },
    "papermill": {
     "duration": 0.366395,
     "end_time": "2025-08-19T18:18:37.938088",
     "exception": false,
     "start_time": "2025-08-19T18:18:37.571693",
     "status": "completed"
    },
    "tags": []
   },
   "outputs": [],
   "source": [
    "X_calib = siab_calib.iloc[:,4:164]\n",
    "y_calib = siab_calib.iloc[:, [3]]"
   ]
  },
  {
   "cell_type": "code",
   "execution_count": 19,
   "id": "b7ff42e0",
   "metadata": {
    "execution": {
     "iopub.execute_input": "2025-08-19T18:18:37.984894Z",
     "iopub.status.busy": "2025-08-19T18:18:37.984451Z",
     "iopub.status.idle": "2025-08-19T18:18:38.035972Z",
     "shell.execute_reply": "2025-08-19T18:18:38.035230Z"
    },
    "papermill": {
     "duration": 0.076235,
     "end_time": "2025-08-19T18:18:38.037479",
     "exception": false,
     "start_time": "2025-08-19T18:18:37.961244",
     "status": "completed"
    },
    "tags": []
   },
   "outputs": [],
   "source": [
    "X_test = siab_test.iloc[:,4:164]\n",
    "y_true = siab_test.iloc[:, [3]]"
   ]
  },
  {
   "cell_type": "code",
   "execution_count": 20,
   "id": "0275101e",
   "metadata": {
    "execution": {
     "iopub.execute_input": "2025-08-19T18:18:38.085241Z",
     "iopub.status.busy": "2025-08-19T18:18:38.084178Z",
     "iopub.status.idle": "2025-08-19T18:18:38.205749Z",
     "shell.execute_reply": "2025-08-19T18:18:38.204488Z"
    },
    "papermill": {
     "duration": 0.15133,
     "end_time": "2025-08-19T18:18:38.208898",
     "exception": false,
     "start_time": "2025-08-19T18:18:38.057568",
     "status": "completed"
    },
    "tags": []
   },
   "outputs": [],
   "source": [
    "# Auxiliary data needed downstream in the pipeline\n",
    "\n",
    "org_train = X_train.copy()\n",
    "org_test = X_test.copy()\n",
    "org_calib = X_calib.copy()"
   ]
  },
  {
   "cell_type": "markdown",
   "id": "b461e618",
   "metadata": {
    "papermill": {
     "duration": 0.01225,
     "end_time": "2025-08-19T18:18:38.243570",
     "exception": false,
     "start_time": "2025-08-19T18:18:38.231320",
     "status": "completed"
    },
    "tags": []
   },
   "source": [
    "# Preprocessing Data"
   ]
  },
  {
   "cell_type": "code",
   "execution_count": 21,
   "id": "78e74c4b",
   "metadata": {
    "execution": {
     "iopub.execute_input": "2025-08-19T18:18:38.267927Z",
     "iopub.status.busy": "2025-08-19T18:18:38.266552Z",
     "iopub.status.idle": "2025-08-19T18:18:38.277222Z",
     "shell.execute_reply": "2025-08-19T18:18:38.275629Z"
    },
    "papermill": {
     "duration": 0.025021,
     "end_time": "2025-08-19T18:18:38.279161",
     "exception": false,
     "start_time": "2025-08-19T18:18:38.254140",
     "status": "completed"
    },
    "tags": []
   },
   "outputs": [],
   "source": [
    "# EXCLUDE PROTECTED FEATURES\n",
    "# --------------------------\n",
    "\n",
    "excluded_features = universe[\"exclude_features\"].split(\"-\")\n",
    "excluded_features_dictionary = {\n",
    "    \"nationality\": [\"maxdeutsch1\", \"maxdeutsch.Missing.\"],\n",
    "    \"sex\": [\"frau1\"],\n",
    "    \"age\": [\"age\"],\n",
    "}"
   ]
  },
  {
   "cell_type": "code",
   "execution_count": 22,
   "id": "f8e63555",
   "metadata": {
    "execution": {
     "iopub.execute_input": "2025-08-19T18:18:38.306859Z",
     "iopub.status.busy": "2025-08-19T18:18:38.305479Z",
     "iopub.status.idle": "2025-08-19T18:18:38.315167Z",
     "shell.execute_reply": "2025-08-19T18:18:38.313657Z"
    },
    "papermill": {
     "duration": 0.024441,
     "end_time": "2025-08-19T18:18:38.317074",
     "exception": false,
     "start_time": "2025-08-19T18:18:38.292633",
     "status": "completed"
    },
    "tags": []
   },
   "outputs": [],
   "source": [
    "excluded_features_columns = [\n",
    "    excluded_features_dictionary[f] for f in excluded_features if len(f) > 0 and f != \"none\"\n",
    "]"
   ]
  },
  {
   "cell_type": "code",
   "execution_count": 23,
   "id": "da781f7c",
   "metadata": {
    "execution": {
     "iopub.execute_input": "2025-08-19T18:18:38.345175Z",
     "iopub.status.busy": "2025-08-19T18:18:38.343859Z",
     "iopub.status.idle": "2025-08-19T18:18:38.357583Z",
     "shell.execute_reply": "2025-08-19T18:18:38.351537Z"
    },
    "papermill": {
     "duration": 0.030606,
     "end_time": "2025-08-19T18:18:38.361655",
     "exception": false,
     "start_time": "2025-08-19T18:18:38.331049",
     "status": "completed"
    },
    "tags": []
   },
   "outputs": [],
   "source": [
    "from fairness_multiverse.universe import flatten_once\n",
    "\n",
    "excluded_features_columns = flatten_once(excluded_features_columns)"
   ]
  },
  {
   "cell_type": "code",
   "execution_count": 24,
   "id": "37fef0f0",
   "metadata": {
    "execution": {
     "iopub.execute_input": "2025-08-19T18:18:38.400781Z",
     "iopub.status.busy": "2025-08-19T18:18:38.399626Z",
     "iopub.status.idle": "2025-08-19T18:18:38.408271Z",
     "shell.execute_reply": "2025-08-19T18:18:38.407528Z"
    },
    "papermill": {
     "duration": 0.024791,
     "end_time": "2025-08-19T18:18:38.409705",
     "exception": false,
     "start_time": "2025-08-19T18:18:38.384914",
     "status": "completed"
    },
    "tags": []
   },
   "outputs": [],
   "source": [
    "if len(excluded_features_columns) > 0:\n",
    "    print(f\"Dropping features: {excluded_features_columns}\")\n",
    "    X_train.drop(excluded_features_columns, axis=1, inplace=True)"
   ]
  },
  {
   "cell_type": "code",
   "execution_count": 25,
   "id": "d029e3e9",
   "metadata": {
    "execution": {
     "iopub.execute_input": "2025-08-19T18:18:38.436619Z",
     "iopub.status.busy": "2025-08-19T18:18:38.435476Z",
     "iopub.status.idle": "2025-08-19T18:18:38.445102Z",
     "shell.execute_reply": "2025-08-19T18:18:38.443748Z"
    },
    "papermill": {
     "duration": 0.024303,
     "end_time": "2025-08-19T18:18:38.446856",
     "exception": false,
     "start_time": "2025-08-19T18:18:38.422553",
     "status": "completed"
    },
    "tags": []
   },
   "outputs": [],
   "source": [
    "if len(excluded_features_columns) > 0:\n",
    "    print(f\"Dropping features: {excluded_features_columns}\")\n",
    "    X_test.drop(excluded_features_columns, axis=1, inplace=True)"
   ]
  },
  {
   "cell_type": "code",
   "execution_count": 26,
   "id": "01d571f0",
   "metadata": {
    "execution": {
     "iopub.execute_input": "2025-08-19T18:18:38.473676Z",
     "iopub.status.busy": "2025-08-19T18:18:38.472625Z",
     "iopub.status.idle": "2025-08-19T18:18:38.482697Z",
     "shell.execute_reply": "2025-08-19T18:18:38.480871Z"
    },
    "papermill": {
     "duration": 0.025508,
     "end_time": "2025-08-19T18:18:38.485027",
     "exception": false,
     "start_time": "2025-08-19T18:18:38.459519",
     "status": "completed"
    },
    "tags": []
   },
   "outputs": [],
   "source": [
    "if len(excluded_features_columns) > 0:\n",
    "    print(f\"Dropping features: {excluded_features_columns}\")\n",
    "    X_calib.drop(excluded_features_columns, axis=1, inplace=True)"
   ]
  },
  {
   "cell_type": "code",
   "execution_count": 27,
   "id": "3037356e",
   "metadata": {
    "execution": {
     "iopub.execute_input": "2025-08-19T18:18:38.513328Z",
     "iopub.status.busy": "2025-08-19T18:18:38.512515Z",
     "iopub.status.idle": "2025-08-19T18:18:38.520643Z",
     "shell.execute_reply": "2025-08-19T18:18:38.519131Z"
    },
    "papermill": {
     "duration": 0.023942,
     "end_time": "2025-08-19T18:18:38.522865",
     "exception": false,
     "start_time": "2025-08-19T18:18:38.498923",
     "status": "completed"
    },
    "tags": []
   },
   "outputs": [],
   "source": [
    "# EXCLUDE CERTAIN SUBGROUPS\n",
    "# -------------------------\n",
    "\n",
    "mode = universe.get(\"exclude_subgroups\", \"keep-all\") # Defaults to \"keep-all\" if the key is missing."
   ]
  },
  {
   "cell_type": "code",
   "execution_count": 28,
   "id": "9d1e63fd",
   "metadata": {
    "execution": {
     "iopub.execute_input": "2025-08-19T18:18:38.550792Z",
     "iopub.status.busy": "2025-08-19T18:18:38.549698Z",
     "iopub.status.idle": "2025-08-19T18:18:38.561440Z",
     "shell.execute_reply": "2025-08-19T18:18:38.559909Z"
    },
    "papermill": {
     "duration": 0.026865,
     "end_time": "2025-08-19T18:18:38.563505",
     "exception": false,
     "start_time": "2025-08-19T18:18:38.536640",
     "status": "completed"
    },
    "tags": []
   },
   "outputs": [],
   "source": [
    "if mode == \"keep-all\":\n",
    "    keep_mask = pd.Series(True, index=org_train.index)\n",
    "\n",
    "elif mode == \"drop-non-german\":\n",
    "    keep_mask = (org_train[\"maxdeutsch1\"] == 1) & (org_train[\"maxdeutsch.Missing.\"] == 0)\n",
    "\n",
    "else:\n",
    "    raise ValueError(f\"Unsupported mode for exclude_subgroups: {mode}\")"
   ]
  },
  {
   "cell_type": "code",
   "execution_count": 29,
   "id": "d3b65474",
   "metadata": {
    "execution": {
     "iopub.execute_input": "2025-08-19T18:18:38.591323Z",
     "iopub.status.busy": "2025-08-19T18:18:38.590239Z",
     "iopub.status.idle": "2025-08-19T18:18:38.602203Z",
     "shell.execute_reply": "2025-08-19T18:18:38.600878Z"
    },
    "papermill": {
     "duration": 0.027303,
     "end_time": "2025-08-19T18:18:38.604641",
     "exception": false,
     "start_time": "2025-08-19T18:18:38.577338",
     "status": "completed"
    },
    "tags": []
   },
   "outputs": [],
   "source": [
    "n_drop = (~keep_mask).sum() # Calculates how many rows are set to be dropped\n",
    "if n_drop > 0:\n",
    "    pct = n_drop / len(keep_mask) * 100\n",
    "    print(f\"Dropping {n_drop} rows ({pct:.2f}%) where mode='{mode}'\")"
   ]
  },
  {
   "cell_type": "code",
   "execution_count": 30,
   "id": "f44389b3",
   "metadata": {
    "execution": {
     "iopub.execute_input": "2025-08-19T18:18:38.632648Z",
     "iopub.status.busy": "2025-08-19T18:18:38.631531Z",
     "iopub.status.idle": "2025-08-19T18:18:38.654123Z",
     "shell.execute_reply": "2025-08-19T18:18:38.652874Z"
    },
    "papermill": {
     "duration": 0.038613,
     "end_time": "2025-08-19T18:18:38.656841",
     "exception": false,
     "start_time": "2025-08-19T18:18:38.618228",
     "status": "completed"
    },
    "tags": []
   },
   "outputs": [],
   "source": [
    "X_train = X_train[keep_mask]"
   ]
  },
  {
   "cell_type": "code",
   "execution_count": 31,
   "id": "ceca8c2a",
   "metadata": {
    "execution": {
     "iopub.execute_input": "2025-08-19T18:18:38.704782Z",
     "iopub.status.busy": "2025-08-19T18:18:38.703595Z",
     "iopub.status.idle": "2025-08-19T18:18:38.718010Z",
     "shell.execute_reply": "2025-08-19T18:18:38.716918Z"
    },
    "papermill": {
     "duration": 0.038734,
     "end_time": "2025-08-19T18:18:38.720691",
     "exception": false,
     "start_time": "2025-08-19T18:18:38.681957",
     "status": "completed"
    },
    "tags": []
   },
   "outputs": [],
   "source": [
    "y_train = y_train[keep_mask]"
   ]
  },
  {
   "cell_type": "markdown",
   "id": "04d31e2f",
   "metadata": {
    "papermill": {
     "duration": 0.013645,
     "end_time": "2025-08-19T18:18:38.755760",
     "exception": false,
     "start_time": "2025-08-19T18:18:38.742115",
     "status": "completed"
    },
    "tags": []
   },
   "source": [
    "# Model Training"
   ]
  },
  {
   "cell_type": "code",
   "execution_count": 32,
   "id": "db991733",
   "metadata": {
    "execution": {
     "iopub.execute_input": "2025-08-19T18:18:38.781627Z",
     "iopub.status.busy": "2025-08-19T18:18:38.780279Z",
     "iopub.status.idle": "2025-08-19T18:18:38.905565Z",
     "shell.execute_reply": "2025-08-19T18:18:38.904692Z"
    },
    "papermill": {
     "duration": 0.139395,
     "end_time": "2025-08-19T18:18:38.907017",
     "exception": false,
     "start_time": "2025-08-19T18:18:38.767622",
     "status": "completed"
    },
    "tags": []
   },
   "outputs": [],
   "source": [
    "from sklearn.linear_model import LogisticRegression\n",
    "from sklearn.ensemble import GradientBoostingClassifier, RandomForestClassifier\n",
    "\n",
    "if (universe[\"model\"] == \"logreg\"):\n",
    "    model = LogisticRegression() #penalty=\"none\", solver=\"newton-cg\", max_iter=1)\n",
    "elif (universe[\"model\"] == \"penalized_logreg\"):\n",
    "    model = LogisticRegression(penalty=\"l2\", C=0.1) #, solver=\"newton-cg\", max_iter=1)\n",
    "elif (universe[\"model\"] == \"rf\"):\n",
    "    model = RandomForestClassifier() # n_estimators=100, n_jobs=-1\n",
    "elif (universe[\"model\"] == \"gbm\"):\n",
    "    model = GradientBoostingClassifier()\n",
    "elif (universe[\"model\"] == \"elasticnet\"):\n",
    "    model = LogisticRegression(penalty = 'elasticnet', solver = 'saga', l1_ratio = 0.5) # max_iter=5000\n",
    "else:\n",
    "    raise \"Unsupported universe.model\""
   ]
  },
  {
   "cell_type": "code",
   "execution_count": 33,
   "id": "a4b5cd25",
   "metadata": {
    "execution": {
     "iopub.execute_input": "2025-08-19T18:18:38.950492Z",
     "iopub.status.busy": "2025-08-19T18:18:38.950035Z",
     "iopub.status.idle": "2025-08-19T18:18:38.969123Z",
     "shell.execute_reply": "2025-08-19T18:18:38.968208Z"
    },
    "papermill": {
     "duration": 0.043606,
     "end_time": "2025-08-19T18:18:38.970904",
     "exception": false,
     "start_time": "2025-08-19T18:18:38.927298",
     "status": "completed"
    },
    "tags": []
   },
   "outputs": [],
   "source": [
    "from sklearn.pipeline import Pipeline\n",
    "from sklearn.preprocessing import StandardScaler\n",
    "\n",
    "model = Pipeline([\n",
    "    #(\"continuous_processor\", continuous_processor),\n",
    "    #(\"categorical_preprocessor\", categorical_preprocessor),\n",
    "    (\"scale\", StandardScaler() if universe[\"scale\"] == \"scale\" else None), \n",
    "    (\"model\", model),\n",
    "])"
   ]
  },
  {
   "cell_type": "code",
   "execution_count": 34,
   "id": "283a904d",
   "metadata": {
    "execution": {
     "iopub.execute_input": "2025-08-19T18:18:39.003559Z",
     "iopub.status.busy": "2025-08-19T18:18:39.002821Z",
     "iopub.status.idle": "2025-08-19T18:18:39.958291Z",
     "shell.execute_reply": "2025-08-19T18:18:39.957200Z"
    },
    "papermill": {
     "duration": 0.972408,
     "end_time": "2025-08-19T18:18:39.960100",
     "exception": false,
     "start_time": "2025-08-19T18:18:38.987692",
     "status": "completed"
    },
    "tags": []
   },
   "outputs": [
    {
     "name": "stderr",
     "output_type": "stream",
     "text": [
      "/dss/dsshome1/0C/ra93lal2/.local/share/virtualenvs/CMA_Fairness_v2-3j10GkSs/lib/python3.10/site-packages/sklearn/linear_model/_logistic.py:444: ConvergenceWarning: lbfgs failed to converge (status=1):\n",
      "STOP: TOTAL NO. of ITERATIONS REACHED LIMIT.\n",
      "\n",
      "Increase the number of iterations (max_iter) or scale the data as shown in:\n",
      "    https://scikit-learn.org/stable/modules/preprocessing.html\n",
      "Please also refer to the documentation for alternative solver options:\n",
      "    https://scikit-learn.org/stable/modules/linear_model.html#logistic-regression\n",
      "  n_iter_i = _check_optimize_result(\n"
     ]
    },
    {
     "data": {
      "text/html": [
       "<style>#sk-container-id-1 {color: black;background-color: white;}#sk-container-id-1 pre{padding: 0;}#sk-container-id-1 div.sk-toggleable {background-color: white;}#sk-container-id-1 label.sk-toggleable__label {cursor: pointer;display: block;width: 100%;margin-bottom: 0;padding: 0.3em;box-sizing: border-box;text-align: center;}#sk-container-id-1 label.sk-toggleable__label-arrow:before {content: \"▸\";float: left;margin-right: 0.25em;color: #696969;}#sk-container-id-1 label.sk-toggleable__label-arrow:hover:before {color: black;}#sk-container-id-1 div.sk-estimator:hover label.sk-toggleable__label-arrow:before {color: black;}#sk-container-id-1 div.sk-toggleable__content {max-height: 0;max-width: 0;overflow: hidden;text-align: left;background-color: #f0f8ff;}#sk-container-id-1 div.sk-toggleable__content pre {margin: 0.2em;color: black;border-radius: 0.25em;background-color: #f0f8ff;}#sk-container-id-1 input.sk-toggleable__control:checked~div.sk-toggleable__content {max-height: 200px;max-width: 100%;overflow: auto;}#sk-container-id-1 input.sk-toggleable__control:checked~label.sk-toggleable__label-arrow:before {content: \"▾\";}#sk-container-id-1 div.sk-estimator input.sk-toggleable__control:checked~label.sk-toggleable__label {background-color: #d4ebff;}#sk-container-id-1 div.sk-label input.sk-toggleable__control:checked~label.sk-toggleable__label {background-color: #d4ebff;}#sk-container-id-1 input.sk-hidden--visually {border: 0;clip: rect(1px 1px 1px 1px);clip: rect(1px, 1px, 1px, 1px);height: 1px;margin: -1px;overflow: hidden;padding: 0;position: absolute;width: 1px;}#sk-container-id-1 div.sk-estimator {font-family: monospace;background-color: #f0f8ff;border: 1px dotted black;border-radius: 0.25em;box-sizing: border-box;margin-bottom: 0.5em;}#sk-container-id-1 div.sk-estimator:hover {background-color: #d4ebff;}#sk-container-id-1 div.sk-parallel-item::after {content: \"\";width: 100%;border-bottom: 1px solid gray;flex-grow: 1;}#sk-container-id-1 div.sk-label:hover label.sk-toggleable__label {background-color: #d4ebff;}#sk-container-id-1 div.sk-serial::before {content: \"\";position: absolute;border-left: 1px solid gray;box-sizing: border-box;top: 0;bottom: 0;left: 50%;z-index: 0;}#sk-container-id-1 div.sk-serial {display: flex;flex-direction: column;align-items: center;background-color: white;padding-right: 0.2em;padding-left: 0.2em;position: relative;}#sk-container-id-1 div.sk-item {position: relative;z-index: 1;}#sk-container-id-1 div.sk-parallel {display: flex;align-items: stretch;justify-content: center;background-color: white;position: relative;}#sk-container-id-1 div.sk-item::before, #sk-container-id-1 div.sk-parallel-item::before {content: \"\";position: absolute;border-left: 1px solid gray;box-sizing: border-box;top: 0;bottom: 0;left: 50%;z-index: -1;}#sk-container-id-1 div.sk-parallel-item {display: flex;flex-direction: column;z-index: 1;position: relative;background-color: white;}#sk-container-id-1 div.sk-parallel-item:first-child::after {align-self: flex-end;width: 50%;}#sk-container-id-1 div.sk-parallel-item:last-child::after {align-self: flex-start;width: 50%;}#sk-container-id-1 div.sk-parallel-item:only-child::after {width: 0;}#sk-container-id-1 div.sk-dashed-wrapped {border: 1px dashed gray;margin: 0 0.4em 0.5em 0.4em;box-sizing: border-box;padding-bottom: 0.4em;background-color: white;}#sk-container-id-1 div.sk-label label {font-family: monospace;font-weight: bold;display: inline-block;line-height: 1.2em;}#sk-container-id-1 div.sk-label-container {text-align: center;}#sk-container-id-1 div.sk-container {/* jupyter's `normalize.less` sets `[hidden] { display: none; }` but bootstrap.min.css set `[hidden] { display: none !important; }` so we also need the `!important` here to be able to override the default hidden behavior on the sphinx rendered scikit-learn.org. See: https://github.com/scikit-learn/scikit-learn/issues/21755 */display: inline-block !important;position: relative;}#sk-container-id-1 div.sk-text-repr-fallback {display: none;}</style><div id=\"sk-container-id-1\" class=\"sk-top-container\"><div class=\"sk-text-repr-fallback\"><pre>Pipeline(steps=[(&#x27;scale&#x27;, None), (&#x27;model&#x27;, LogisticRegression(C=0.1))])</pre><b>In a Jupyter environment, please rerun this cell to show the HTML representation or trust the notebook. <br />On GitHub, the HTML representation is unable to render, please try loading this page with nbviewer.org.</b></div><div class=\"sk-container\" hidden><div class=\"sk-item sk-dashed-wrapped\"><div class=\"sk-label-container\"><div class=\"sk-label sk-toggleable\"><input class=\"sk-toggleable__control sk-hidden--visually\" id=\"sk-estimator-id-1\" type=\"checkbox\" ><label for=\"sk-estimator-id-1\" class=\"sk-toggleable__label sk-toggleable__label-arrow\">Pipeline</label><div class=\"sk-toggleable__content\"><pre>Pipeline(steps=[(&#x27;scale&#x27;, None), (&#x27;model&#x27;, LogisticRegression(C=0.1))])</pre></div></div></div><div class=\"sk-serial\"><div class=\"sk-item\"><div class=\"sk-estimator sk-toggleable\"><input class=\"sk-toggleable__control sk-hidden--visually\" id=\"sk-estimator-id-2\" type=\"checkbox\" ><label for=\"sk-estimator-id-2\" class=\"sk-toggleable__label sk-toggleable__label-arrow\">None</label><div class=\"sk-toggleable__content\"><pre>None</pre></div></div></div><div class=\"sk-item\"><div class=\"sk-estimator sk-toggleable\"><input class=\"sk-toggleable__control sk-hidden--visually\" id=\"sk-estimator-id-3\" type=\"checkbox\" ><label for=\"sk-estimator-id-3\" class=\"sk-toggleable__label sk-toggleable__label-arrow\">LogisticRegression</label><div class=\"sk-toggleable__content\"><pre>LogisticRegression(C=0.1)</pre></div></div></div></div></div></div></div>"
      ],
      "text/plain": [
       "Pipeline(steps=[('scale', None), ('model', LogisticRegression(C=0.1))])"
      ]
     },
     "execution_count": 34,
     "metadata": {},
     "output_type": "execute_result"
    }
   ],
   "source": [
    "model.fit(X_train, y_train.values.ravel())"
   ]
  },
  {
   "cell_type": "code",
   "execution_count": 35,
   "id": "6e15e313",
   "metadata": {
    "execution": {
     "iopub.execute_input": "2025-08-19T18:18:39.992752Z",
     "iopub.status.busy": "2025-08-19T18:18:39.991469Z",
     "iopub.status.idle": "2025-08-19T18:18:40.122736Z",
     "shell.execute_reply": "2025-08-19T18:18:40.122101Z"
    },
    "papermill": {
     "duration": 0.147673,
     "end_time": "2025-08-19T18:18:40.125324",
     "exception": false,
     "start_time": "2025-08-19T18:18:39.977651",
     "status": "completed"
    },
    "tags": []
   },
   "outputs": [
    {
     "data": {
      "text/plain": [
       "0.8612194850072455"
      ]
     },
     "execution_count": 35,
     "metadata": {},
     "output_type": "execute_result"
    }
   ],
   "source": [
    "from fairness_multiverse.universe import predict_w_threshold\n",
    "\n",
    "probs_test = model.predict_proba(X_test)\n",
    "\n",
    "'''\n",
    "Below code returns a boolean array (or binary 0/1 array depending on how it’s used) where each element \n",
    "is True if the probability of class 1 is greater than or equal to the threshold, and False otherwise.\n",
    "'''\n",
    "y_pred_default = predict_w_threshold(probs_test, 0.5)\n",
    "\n",
    "from sklearn.metrics import accuracy_score\n",
    "\n",
    "# Naive prediction\n",
    "accuracy_score(y_true = y_true, y_pred = y_pred_default)"
   ]
  },
  {
   "cell_type": "code",
   "execution_count": 36,
   "id": "6f14067c",
   "metadata": {
    "execution": {
     "iopub.execute_input": "2025-08-19T18:18:40.149766Z",
     "iopub.status.busy": "2025-08-19T18:18:40.149379Z",
     "iopub.status.idle": "2025-08-19T18:18:40.234181Z",
     "shell.execute_reply": "2025-08-19T18:18:40.233452Z"
    },
    "papermill": {
     "duration": 0.098247,
     "end_time": "2025-08-19T18:18:40.235520",
     "exception": false,
     "start_time": "2025-08-19T18:18:40.137273",
     "status": "completed"
    },
    "tags": []
   },
   "outputs": [
    {
     "data": {
      "text/plain": [
       "array([0, 0, 0, ..., 0, 0, 0])"
      ]
     },
     "execution_count": 36,
     "metadata": {},
     "output_type": "execute_result"
    }
   ],
   "source": [
    "model.predict(X_test)"
   ]
  },
  {
   "cell_type": "markdown",
   "id": "3759920c",
   "metadata": {
    "papermill": {
     "duration": 0.011044,
     "end_time": "2025-08-19T18:18:40.258940",
     "exception": false,
     "start_time": "2025-08-19T18:18:40.247896",
     "status": "completed"
    },
    "tags": []
   },
   "source": [
    "# Conformal Prediction"
   ]
  },
  {
   "cell_type": "code",
   "execution_count": 37,
   "id": "14b27f59",
   "metadata": {
    "execution": {
     "iopub.execute_input": "2025-08-19T18:18:40.284818Z",
     "iopub.status.busy": "2025-08-19T18:18:40.283742Z",
     "iopub.status.idle": "2025-08-19T18:18:40.289849Z",
     "shell.execute_reply": "2025-08-19T18:18:40.288370Z"
    },
    "papermill": {
     "duration": 0.019863,
     "end_time": "2025-08-19T18:18:40.291428",
     "exception": false,
     "start_time": "2025-08-19T18:18:40.271565",
     "status": "completed"
    },
    "tags": []
   },
   "outputs": [],
   "source": [
    "# Miscoverage level for conformal prediction (10% allowed error rate => 90% target coverage)\n",
    "alpha = 0.1"
   ]
  },
  {
   "cell_type": "code",
   "execution_count": 38,
   "id": "59102472",
   "metadata": {
    "execution": {
     "iopub.execute_input": "2025-08-19T18:18:40.319454Z",
     "iopub.status.busy": "2025-08-19T18:18:40.318976Z",
     "iopub.status.idle": "2025-08-19T18:18:40.413940Z",
     "shell.execute_reply": "2025-08-19T18:18:40.413141Z"
    },
    "papermill": {
     "duration": 0.111328,
     "end_time": "2025-08-19T18:18:40.416878",
     "exception": false,
     "start_time": "2025-08-19T18:18:40.305550",
     "status": "completed"
    },
    "tags": []
   },
   "outputs": [],
   "source": [
    "probs_calib = model.predict_proba(X_calib)"
   ]
  },
  {
   "cell_type": "code",
   "execution_count": 39,
   "id": "a792d4dd",
   "metadata": {
    "execution": {
     "iopub.execute_input": "2025-08-19T18:18:40.460799Z",
     "iopub.status.busy": "2025-08-19T18:18:40.459570Z",
     "iopub.status.idle": "2025-08-19T18:18:40.469702Z",
     "shell.execute_reply": "2025-08-19T18:18:40.468047Z"
    },
    "papermill": {
     "duration": 0.025847,
     "end_time": "2025-08-19T18:18:40.471094",
     "exception": false,
     "start_time": "2025-08-19T18:18:40.445247",
     "status": "completed"
    },
    "tags": []
   },
   "outputs": [],
   "source": [
    "y_calib = y_calib.values.ravel().astype(int)"
   ]
  },
  {
   "cell_type": "code",
   "execution_count": 40,
   "id": "650fd033",
   "metadata": {
    "execution": {
     "iopub.execute_input": "2025-08-19T18:18:40.512065Z",
     "iopub.status.busy": "2025-08-19T18:18:40.510776Z",
     "iopub.status.idle": "2025-08-19T18:18:40.525322Z",
     "shell.execute_reply": "2025-08-19T18:18:40.521831Z"
    },
    "papermill": {
     "duration": 0.046116,
     "end_time": "2025-08-19T18:18:40.539868",
     "exception": false,
     "start_time": "2025-08-19T18:18:40.493752",
     "status": "completed"
    },
    "tags": []
   },
   "outputs": [],
   "source": [
    "from fairness_multiverse.conformal import compute_nc_scores\n",
    "\n",
    "# Compute nonconformity scores on calibration set (1 - probability of true class)\n",
    "nc_scores = compute_nc_scores(probs_calib, y_calib)"
   ]
  },
  {
   "cell_type": "code",
   "execution_count": 41,
   "id": "28ada44c",
   "metadata": {
    "execution": {
     "iopub.execute_input": "2025-08-19T18:18:40.581899Z",
     "iopub.status.busy": "2025-08-19T18:18:40.581451Z",
     "iopub.status.idle": "2025-08-19T18:18:40.586824Z",
     "shell.execute_reply": "2025-08-19T18:18:40.586164Z"
    },
    "papermill": {
     "duration": 0.035487,
     "end_time": "2025-08-19T18:18:40.588512",
     "exception": false,
     "start_time": "2025-08-19T18:18:40.553025",
     "status": "completed"
    },
    "tags": []
   },
   "outputs": [],
   "source": [
    "from fairness_multiverse.conformal import find_threshold\n",
    "\n",
    "# Find conformal threshold q_hat for the given alpha (split conformal method)\n",
    "q_hat = find_threshold(nc_scores, alpha)"
   ]
  },
  {
   "cell_type": "code",
   "execution_count": 42,
   "id": "df56469e",
   "metadata": {
    "execution": {
     "iopub.execute_input": "2025-08-19T18:18:40.613491Z",
     "iopub.status.busy": "2025-08-19T18:18:40.612682Z",
     "iopub.status.idle": "2025-08-19T18:18:40.621230Z",
     "shell.execute_reply": "2025-08-19T18:18:40.619944Z"
    },
    "papermill": {
     "duration": 0.022111,
     "end_time": "2025-08-19T18:18:40.622452",
     "exception": false,
     "start_time": "2025-08-19T18:18:40.600341",
     "status": "completed"
    },
    "tags": []
   },
   "outputs": [
    {
     "data": {
      "text/plain": [
       "0.6703145205827556"
      ]
     },
     "execution_count": 42,
     "metadata": {},
     "output_type": "execute_result"
    }
   ],
   "source": [
    "q_hat"
   ]
  },
  {
   "cell_type": "code",
   "execution_count": 43,
   "id": "aa1f5faa",
   "metadata": {
    "execution": {
     "iopub.execute_input": "2025-08-19T18:18:40.673188Z",
     "iopub.status.busy": "2025-08-19T18:18:40.672173Z",
     "iopub.status.idle": "2025-08-19T18:18:41.206475Z",
     "shell.execute_reply": "2025-08-19T18:18:41.204637Z"
    },
    "papermill": {
     "duration": 0.571858,
     "end_time": "2025-08-19T18:18:41.209926",
     "exception": false,
     "start_time": "2025-08-19T18:18:40.638068",
     "status": "completed"
    },
    "tags": []
   },
   "outputs": [],
   "source": [
    "from fairness_multiverse.conformal import predict_conformal_sets\n",
    "\n",
    "# Generate prediction sets for each test example\n",
    "pred_sets = predict_conformal_sets(model, X_test, q_hat)"
   ]
  },
  {
   "cell_type": "code",
   "execution_count": 44,
   "id": "97f67a6b",
   "metadata": {
    "execution": {
     "iopub.execute_input": "2025-08-19T18:18:41.253145Z",
     "iopub.status.busy": "2025-08-19T18:18:41.251827Z",
     "iopub.status.idle": "2025-08-19T18:18:41.265380Z",
     "shell.execute_reply": "2025-08-19T18:18:41.263509Z"
    },
    "papermill": {
     "duration": 0.031654,
     "end_time": "2025-08-19T18:18:41.267459",
     "exception": false,
     "start_time": "2025-08-19T18:18:41.235805",
     "status": "completed"
    },
    "tags": []
   },
   "outputs": [],
   "source": [
    "y_true = y_true.squeeze()"
   ]
  },
  {
   "cell_type": "code",
   "execution_count": 45,
   "id": "e700e9a7",
   "metadata": {
    "execution": {
     "iopub.execute_input": "2025-08-19T18:18:41.306960Z",
     "iopub.status.busy": "2025-08-19T18:18:41.305777Z",
     "iopub.status.idle": "2025-08-19T18:18:41.836016Z",
     "shell.execute_reply": "2025-08-19T18:18:41.834398Z"
    },
    "papermill": {
     "duration": 0.551898,
     "end_time": "2025-08-19T18:18:41.837741",
     "exception": false,
     "start_time": "2025-08-19T18:18:41.285843",
     "status": "completed"
    },
    "tags": []
   },
   "outputs": [],
   "source": [
    "from fairness_multiverse.conformal import evaluate_sets\n",
    "\n",
    "# Evaluate coverage and average set size on test data\n",
    "metrics = evaluate_sets(pred_sets, y_true)"
   ]
  },
  {
   "cell_type": "markdown",
   "id": "efbacec0",
   "metadata": {
    "papermill": {
     "duration": 0.012531,
     "end_time": "2025-08-19T18:18:41.868729",
     "exception": false,
     "start_time": "2025-08-19T18:18:41.856198",
     "status": "completed"
    },
    "tags": []
   },
   "source": [
    "# CP Metrics"
   ]
  },
  {
   "cell_type": "code",
   "execution_count": 46,
   "id": "9de55fb1",
   "metadata": {
    "execution": {
     "iopub.execute_input": "2025-08-19T18:18:41.898860Z",
     "iopub.status.busy": "2025-08-19T18:18:41.898389Z",
     "iopub.status.idle": "2025-08-19T18:18:41.905785Z",
     "shell.execute_reply": "2025-08-19T18:18:41.904934Z"
    },
    "papermill": {
     "duration": 0.024167,
     "end_time": "2025-08-19T18:18:41.907050",
     "exception": false,
     "start_time": "2025-08-19T18:18:41.882883",
     "status": "completed"
    },
    "tags": []
   },
   "outputs": [
    {
     "data": {
      "text/plain": [
       "{'coverage': 0.9118158510756883, 'avg_size': 1.200144911381117}"
      ]
     },
     "execution_count": 46,
     "metadata": {},
     "output_type": "execute_result"
    }
   ],
   "source": [
    "metrics"
   ]
  },
  {
   "cell_type": "code",
   "execution_count": 47,
   "id": "64c340a1",
   "metadata": {
    "execution": {
     "iopub.execute_input": "2025-08-19T18:18:41.936103Z",
     "iopub.status.busy": "2025-08-19T18:18:41.935833Z",
     "iopub.status.idle": "2025-08-19T18:18:41.942345Z",
     "shell.execute_reply": "2025-08-19T18:18:41.941312Z"
    },
    "papermill": {
     "duration": 0.022814,
     "end_time": "2025-08-19T18:18:41.943584",
     "exception": false,
     "start_time": "2025-08-19T18:18:41.920770",
     "status": "completed"
    },
    "tags": []
   },
   "outputs": [],
   "source": [
    "example_universe = universe.copy()\n",
    "universe_training_year = example_universe.get(\"training_year\")\n",
    "universe_training_size = example_universe.get(\"training_size\")\n",
    "universe_scale = example_universe.get(\"scale\")\n",
    "universe_model = example_universe.get(\"model\")\n",
    "universe_exclude_features = example_universe.get(\"exclude_features\")\n",
    "universe_exclude_subgroups = example_universe.get(\"exclude_subgroups\")"
   ]
  },
  {
   "cell_type": "code",
   "execution_count": 48,
   "id": "dbb53cb4",
   "metadata": {
    "execution": {
     "iopub.execute_input": "2025-08-19T18:18:41.970859Z",
     "iopub.status.busy": "2025-08-19T18:18:41.970441Z",
     "iopub.status.idle": "2025-08-19T18:18:41.978741Z",
     "shell.execute_reply": "2025-08-19T18:18:41.977465Z"
    },
    "papermill": {
     "duration": 0.022206,
     "end_time": "2025-08-19T18:18:41.980288",
     "exception": false,
     "start_time": "2025-08-19T18:18:41.958082",
     "status": "completed"
    },
    "tags": []
   },
   "outputs": [],
   "source": [
    "cp_metrics_dict = {\n",
    "    \"universe_id\": [universe_id],\n",
    "    \"universe_training_year\": [universe_training_year],\n",
    "    \"universe_training_size\": [universe_training_size],\n",
    "    \"universe_scale\": [universe_scale],\n",
    "    \"universe_model\": [universe_model],\n",
    "    \"universe_exclude_features\": [universe_exclude_features],\n",
    "    \"universe_exclude_subgroups\": [universe_exclude_subgroups],\n",
    "    \"q_hat\": [q_hat],\n",
    "    \"coverage\": [metrics[\"coverage\"]],\n",
    "    \"avg_size\": [metrics[\"avg_size\"]],\n",
    "}"
   ]
  },
  {
   "cell_type": "code",
   "execution_count": 49,
   "id": "0d70d4b2",
   "metadata": {
    "execution": {
     "iopub.execute_input": "2025-08-19T18:18:42.011221Z",
     "iopub.status.busy": "2025-08-19T18:18:42.009623Z",
     "iopub.status.idle": "2025-08-19T18:18:42.021444Z",
     "shell.execute_reply": "2025-08-19T18:18:42.020254Z"
    },
    "papermill": {
     "duration": 0.026823,
     "end_time": "2025-08-19T18:18:42.022978",
     "exception": false,
     "start_time": "2025-08-19T18:18:41.996155",
     "status": "completed"
    },
    "tags": []
   },
   "outputs": [],
   "source": [
    "cp_metrics_df = pd.DataFrame(cp_metrics_dict)"
   ]
  },
  {
   "cell_type": "code",
   "execution_count": 50,
   "id": "b494403c",
   "metadata": {
    "execution": {
     "iopub.execute_input": "2025-08-19T18:18:42.057584Z",
     "iopub.status.busy": "2025-08-19T18:18:42.056725Z",
     "iopub.status.idle": "2025-08-19T18:18:42.080496Z",
     "shell.execute_reply": "2025-08-19T18:18:42.079642Z"
    },
    "papermill": {
     "duration": 0.041054,
     "end_time": "2025-08-19T18:18:42.082259",
     "exception": false,
     "start_time": "2025-08-19T18:18:42.041205",
     "status": "completed"
    },
    "tags": []
   },
   "outputs": [
    {
     "data": {
      "text/html": [
       "<div>\n",
       "<style scoped>\n",
       "    .dataframe tbody tr th:only-of-type {\n",
       "        vertical-align: middle;\n",
       "    }\n",
       "\n",
       "    .dataframe tbody tr th {\n",
       "        vertical-align: top;\n",
       "    }\n",
       "\n",
       "    .dataframe thead th {\n",
       "        text-align: right;\n",
       "    }\n",
       "</style>\n",
       "<table border=\"1\" class=\"dataframe\">\n",
       "  <thead>\n",
       "    <tr style=\"text-align: right;\">\n",
       "      <th></th>\n",
       "      <th>universe_id</th>\n",
       "      <th>universe_training_year</th>\n",
       "      <th>universe_training_size</th>\n",
       "      <th>universe_scale</th>\n",
       "      <th>universe_model</th>\n",
       "      <th>universe_exclude_features</th>\n",
       "      <th>universe_exclude_subgroups</th>\n",
       "      <th>q_hat</th>\n",
       "      <th>coverage</th>\n",
       "      <th>avg_size</th>\n",
       "    </tr>\n",
       "  </thead>\n",
       "  <tbody>\n",
       "    <tr>\n",
       "      <th>0</th>\n",
       "      <td>9c5f0190991d64c8c16023a7a46c5d00</td>\n",
       "      <td>2010_14</td>\n",
       "      <td>25k</td>\n",
       "      <td>do-not-scale</td>\n",
       "      <td>penalized_logreg</td>\n",
       "      <td>none</td>\n",
       "      <td>keep-all</td>\n",
       "      <td>0.670315</td>\n",
       "      <td>0.911816</td>\n",
       "      <td>1.200145</td>\n",
       "    </tr>\n",
       "  </tbody>\n",
       "</table>\n",
       "</div>"
      ],
      "text/plain": [
       "                        universe_id universe_training_year  \\\n",
       "0  9c5f0190991d64c8c16023a7a46c5d00                2010_14   \n",
       "\n",
       "  universe_training_size universe_scale    universe_model  \\\n",
       "0                    25k   do-not-scale  penalized_logreg   \n",
       "\n",
       "  universe_exclude_features universe_exclude_subgroups     q_hat  coverage  \\\n",
       "0                      none                   keep-all  0.670315  0.911816   \n",
       "\n",
       "   avg_size  \n",
       "0  1.200145  "
      ]
     },
     "execution_count": 50,
     "metadata": {},
     "output_type": "execute_result"
    }
   ],
   "source": [
    "cp_metrics_df"
   ]
  },
  {
   "cell_type": "markdown",
   "id": "ed608b0b",
   "metadata": {
    "papermill": {
     "duration": 0.012027,
     "end_time": "2025-08-19T18:18:42.113043",
     "exception": false,
     "start_time": "2025-08-19T18:18:42.101016",
     "status": "completed"
    },
    "tags": []
   },
   "source": [
    "Conditional coverage & looking at subgroups"
   ]
  },
  {
   "cell_type": "code",
   "execution_count": 51,
   "id": "8968c366",
   "metadata": {
    "execution": {
     "iopub.execute_input": "2025-08-19T18:18:42.139148Z",
     "iopub.status.busy": "2025-08-19T18:18:42.137933Z",
     "iopub.status.idle": "2025-08-19T18:18:42.412670Z",
     "shell.execute_reply": "2025-08-19T18:18:42.411645Z"
    },
    "papermill": {
     "duration": 0.290305,
     "end_time": "2025-08-19T18:18:42.415080",
     "exception": false,
     "start_time": "2025-08-19T18:18:42.124775",
     "status": "completed"
    },
    "tags": []
   },
   "outputs": [],
   "source": [
    "from fairness_multiverse.conformal import build_cp_groups\n",
    "\n",
    "cp_groups_df = build_cp_groups(pred_sets, y_true, X_test.index, org_test)"
   ]
  },
  {
   "cell_type": "code",
   "execution_count": 52,
   "id": "292ddabf",
   "metadata": {
    "execution": {
     "iopub.execute_input": "2025-08-19T18:18:42.450853Z",
     "iopub.status.busy": "2025-08-19T18:18:42.449280Z",
     "iopub.status.idle": "2025-08-19T18:18:43.340863Z",
     "shell.execute_reply": "2025-08-19T18:18:43.339562Z"
    },
    "papermill": {
     "duration": 0.909492,
     "end_time": "2025-08-19T18:18:43.343123",
     "exception": false,
     "start_time": "2025-08-19T18:18:42.433631",
     "status": "completed"
    },
    "tags": []
   },
   "outputs": [],
   "source": [
    "# Define covered = 1 if true_label is in the predicted set\n",
    "cp_groups_df['covered'] = cp_groups_df.apply(\n",
    "    lambda r: int(r['true_label'] in r['pred_set']),\n",
    "    axis=1\n",
    ")"
   ]
  },
  {
   "cell_type": "code",
   "execution_count": 53,
   "id": "3a261692",
   "metadata": {
    "execution": {
     "iopub.execute_input": "2025-08-19T18:18:43.371602Z",
     "iopub.status.busy": "2025-08-19T18:18:43.371114Z",
     "iopub.status.idle": "2025-08-19T18:18:43.384092Z",
     "shell.execute_reply": "2025-08-19T18:18:43.383039Z"
    },
    "papermill": {
     "duration": 0.027422,
     "end_time": "2025-08-19T18:18:43.385525",
     "exception": false,
     "start_time": "2025-08-19T18:18:43.358103",
     "status": "completed"
    },
    "tags": []
   },
   "outputs": [],
   "source": [
    "subgroups = ['frau1','nongerman','nongerman_male','nongerman_female']\n",
    "\n",
    "# Conditional coverage for subgroup==1\n",
    "cond_coverage = {\n",
    "    g: cp_groups_df.loc[cp_groups_df[g]==1, 'covered'].mean()\n",
    "    for g in subgroups\n",
    "}"
   ]
  },
  {
   "cell_type": "code",
   "execution_count": 54,
   "id": "894fd600",
   "metadata": {
    "execution": {
     "iopub.execute_input": "2025-08-19T18:18:43.417534Z",
     "iopub.status.busy": "2025-08-19T18:18:43.416199Z",
     "iopub.status.idle": "2025-08-19T18:18:43.480387Z",
     "shell.execute_reply": "2025-08-19T18:18:43.478259Z"
    },
    "papermill": {
     "duration": 0.08175,
     "end_time": "2025-08-19T18:18:43.484255",
     "exception": false,
     "start_time": "2025-08-19T18:18:43.402505",
     "status": "completed"
    },
    "tags": []
   },
   "outputs": [
    {
     "data": {
      "text/plain": [
       "{'frau1': 0.9113088017252999,\n",
       " 'nongerman': 0.9294335597597261,\n",
       " 'nongerman_male': 0.9428082500225164,\n",
       " 'nongerman_female': 0.9073025335320417}"
      ]
     },
     "execution_count": 54,
     "metadata": {},
     "output_type": "execute_result"
    }
   ],
   "source": [
    "cond_coverage"
   ]
  },
  {
   "cell_type": "code",
   "execution_count": 55,
   "id": "942895c7",
   "metadata": {
    "execution": {
     "iopub.execute_input": "2025-08-19T18:18:43.524693Z",
     "iopub.status.busy": "2025-08-19T18:18:43.523606Z",
     "iopub.status.idle": "2025-08-19T18:18:43.535043Z",
     "shell.execute_reply": "2025-08-19T18:18:43.533772Z"
    },
    "papermill": {
     "duration": 0.027384,
     "end_time": "2025-08-19T18:18:43.536841",
     "exception": false,
     "start_time": "2025-08-19T18:18:43.509457",
     "status": "completed"
    },
    "tags": []
   },
   "outputs": [],
   "source": [
    "for subgroup, cov in cond_coverage.items():\n",
    "    cp_metrics_df[f\"cov_{subgroup}\"] = cov"
   ]
  },
  {
   "cell_type": "code",
   "execution_count": 56,
   "id": "3970120f",
   "metadata": {
    "execution": {
     "iopub.execute_input": "2025-08-19T18:18:43.565534Z",
     "iopub.status.busy": "2025-08-19T18:18:43.564260Z",
     "iopub.status.idle": "2025-08-19T18:18:43.591775Z",
     "shell.execute_reply": "2025-08-19T18:18:43.590535Z"
    },
    "papermill": {
     "duration": 0.044381,
     "end_time": "2025-08-19T18:18:43.595057",
     "exception": false,
     "start_time": "2025-08-19T18:18:43.550676",
     "status": "completed"
    },
    "tags": []
   },
   "outputs": [
    {
     "data": {
      "text/html": [
       "<div>\n",
       "<style scoped>\n",
       "    .dataframe tbody tr th:only-of-type {\n",
       "        vertical-align: middle;\n",
       "    }\n",
       "\n",
       "    .dataframe tbody tr th {\n",
       "        vertical-align: top;\n",
       "    }\n",
       "\n",
       "    .dataframe thead th {\n",
       "        text-align: right;\n",
       "    }\n",
       "</style>\n",
       "<table border=\"1\" class=\"dataframe\">\n",
       "  <thead>\n",
       "    <tr style=\"text-align: right;\">\n",
       "      <th></th>\n",
       "      <th>universe_id</th>\n",
       "      <th>universe_training_year</th>\n",
       "      <th>universe_training_size</th>\n",
       "      <th>universe_scale</th>\n",
       "      <th>universe_model</th>\n",
       "      <th>universe_exclude_features</th>\n",
       "      <th>universe_exclude_subgroups</th>\n",
       "      <th>q_hat</th>\n",
       "      <th>coverage</th>\n",
       "      <th>avg_size</th>\n",
       "      <th>cov_frau1</th>\n",
       "      <th>cov_nongerman</th>\n",
       "      <th>cov_nongerman_male</th>\n",
       "      <th>cov_nongerman_female</th>\n",
       "    </tr>\n",
       "  </thead>\n",
       "  <tbody>\n",
       "    <tr>\n",
       "      <th>0</th>\n",
       "      <td>9c5f0190991d64c8c16023a7a46c5d00</td>\n",
       "      <td>2010_14</td>\n",
       "      <td>25k</td>\n",
       "      <td>do-not-scale</td>\n",
       "      <td>penalized_logreg</td>\n",
       "      <td>none</td>\n",
       "      <td>keep-all</td>\n",
       "      <td>0.670315</td>\n",
       "      <td>0.911816</td>\n",
       "      <td>1.200145</td>\n",
       "      <td>0.911309</td>\n",
       "      <td>0.929434</td>\n",
       "      <td>0.942808</td>\n",
       "      <td>0.907303</td>\n",
       "    </tr>\n",
       "  </tbody>\n",
       "</table>\n",
       "</div>"
      ],
      "text/plain": [
       "                        universe_id universe_training_year  \\\n",
       "0  9c5f0190991d64c8c16023a7a46c5d00                2010_14   \n",
       "\n",
       "  universe_training_size universe_scale    universe_model  \\\n",
       "0                    25k   do-not-scale  penalized_logreg   \n",
       "\n",
       "  universe_exclude_features universe_exclude_subgroups     q_hat  coverage  \\\n",
       "0                      none                   keep-all  0.670315  0.911816   \n",
       "\n",
       "   avg_size  cov_frau1  cov_nongerman  cov_nongerman_male  \\\n",
       "0  1.200145   0.911309       0.929434            0.942808   \n",
       "\n",
       "   cov_nongerman_female  \n",
       "0              0.907303  "
      ]
     },
     "execution_count": 56,
     "metadata": {},
     "output_type": "execute_result"
    }
   ],
   "source": [
    "cp_metrics_df"
   ]
  },
  {
   "cell_type": "markdown",
   "id": "3fc519cc",
   "metadata": {
    "papermill": {
     "duration": 0.012785,
     "end_time": "2025-08-19T18:18:43.629508",
     "exception": false,
     "start_time": "2025-08-19T18:18:43.616723",
     "status": "completed"
    },
    "tags": []
   },
   "source": [
    "# (Fairness) Metrics"
   ]
  },
  {
   "cell_type": "code",
   "execution_count": 57,
   "id": "a2e5e155",
   "metadata": {
    "execution": {
     "iopub.execute_input": "2025-08-19T18:18:43.656128Z",
     "iopub.status.busy": "2025-08-19T18:18:43.655055Z",
     "iopub.status.idle": "2025-08-19T18:18:43.681306Z",
     "shell.execute_reply": "2025-08-19T18:18:43.680148Z"
    },
    "papermill": {
     "duration": 0.042372,
     "end_time": "2025-08-19T18:18:43.683888",
     "exception": false,
     "start_time": "2025-08-19T18:18:43.641516",
     "status": "completed"
    },
    "tags": []
   },
   "outputs": [],
   "source": [
    "colname_to_bin = \"maxdeutsch1\"\n",
    "majority_value = org_train[colname_to_bin].mode()[0]\n",
    "\n",
    "org_test[\"majmin\"] = np.where(org_test[colname_to_bin] == majority_value, \"majority\", \"minority\")"
   ]
  },
  {
   "cell_type": "code",
   "execution_count": 58,
   "id": "17e3e4d5",
   "metadata": {
    "execution": {
     "iopub.execute_input": "2025-08-19T18:18:43.722253Z",
     "iopub.status.busy": "2025-08-19T18:18:43.721839Z",
     "iopub.status.idle": "2025-08-19T18:18:45.602391Z",
     "shell.execute_reply": "2025-08-19T18:18:45.600989Z"
    },
    "papermill": {
     "duration": 1.896568,
     "end_time": "2025-08-19T18:18:45.604105",
     "exception": false,
     "start_time": "2025-08-19T18:18:43.707537",
     "status": "completed"
    },
    "tags": []
   },
   "outputs": [],
   "source": [
    "example_universe = universe.copy()\n",
    "example_universe[\"cutoff\"] = example_universe[\"cutoff\"][0]\n",
    "example_universe[\"eval_fairness_grouping\"] = example_universe[\"eval_fairness_grouping\"][0]\n",
    "fairness_dict, metric_frame = universe_analysis.compute_metrics(\n",
    "    example_universe,\n",
    "    y_pred_prob=probs_test,\n",
    "    y_test=y_true,\n",
    "    org_test=org_test,\n",
    ")"
   ]
  },
  {
   "cell_type": "markdown",
   "id": "1fb7a0e9",
   "metadata": {
    "papermill": {
     "duration": 0.011955,
     "end_time": "2025-08-19T18:18:45.631056",
     "exception": false,
     "start_time": "2025-08-19T18:18:45.619101",
     "status": "completed"
    },
    "tags": []
   },
   "source": [
    "# Overall"
   ]
  },
  {
   "cell_type": "markdown",
   "id": "be1784b1",
   "metadata": {
    "papermill": {
     "duration": 0.011789,
     "end_time": "2025-08-19T18:18:45.654753",
     "exception": false,
     "start_time": "2025-08-19T18:18:45.642964",
     "status": "completed"
    },
    "tags": []
   },
   "source": [
    "Main fairness target: Equalized Odds. Seems to be a better fit than equal opportunity, since we're not only interested in Y = 1. Seems to be a better fit than demographic parity, since we also care about accuracy, not just equal distribution of preds.\n",
    "\n",
    "Pick column for computation of fairness metrics\n",
    "\n",
    "Performance\n",
    "Overall performance measures, most interesting in relation to the measures split by group below"
   ]
  },
  {
   "cell_type": "code",
   "execution_count": 59,
   "id": "b7672bee",
   "metadata": {
    "execution": {
     "iopub.execute_input": "2025-08-19T18:18:45.683079Z",
     "iopub.status.busy": "2025-08-19T18:18:45.681919Z",
     "iopub.status.idle": "2025-08-19T18:18:45.697749Z",
     "shell.execute_reply": "2025-08-19T18:18:45.696460Z"
    },
    "papermill": {
     "duration": 0.032992,
     "end_time": "2025-08-19T18:18:45.699659",
     "exception": false,
     "start_time": "2025-08-19T18:18:45.666667",
     "status": "completed"
    },
    "tags": []
   },
   "outputs": [
    {
     "data": {
      "text/plain": [
       "accuracy                   0.217780\n",
       "balanced accuracy          0.533882\n",
       "f1                         0.239292\n",
       "precision                  0.136700\n",
       "false positive rate        0.891307\n",
       "false negative rate        0.040928\n",
       "selection rate             0.900000\n",
       "count                  89710.000000\n",
       "dtype: float64"
      ]
     },
     "execution_count": 59,
     "metadata": {},
     "output_type": "execute_result"
    }
   ],
   "source": [
    "metric_frame.overall"
   ]
  },
  {
   "cell_type": "markdown",
   "id": "d93333c9",
   "metadata": {
    "papermill": {
     "duration": 0.012109,
     "end_time": "2025-08-19T18:18:45.726837",
     "exception": false,
     "start_time": "2025-08-19T18:18:45.714728",
     "status": "completed"
    },
    "tags": []
   },
   "source": [
    "By Group"
   ]
  },
  {
   "cell_type": "code",
   "execution_count": 60,
   "id": "52256966",
   "metadata": {
    "execution": {
     "iopub.execute_input": "2025-08-19T18:18:45.753934Z",
     "iopub.status.busy": "2025-08-19T18:18:45.752406Z",
     "iopub.status.idle": "2025-08-19T18:18:45.776068Z",
     "shell.execute_reply": "2025-08-19T18:18:45.774713Z"
    },
    "papermill": {
     "duration": 0.039845,
     "end_time": "2025-08-19T18:18:45.778646",
     "exception": false,
     "start_time": "2025-08-19T18:18:45.738801",
     "status": "completed"
    },
    "tags": []
   },
   "outputs": [
    {
     "data": {
      "text/html": [
       "<div>\n",
       "<style scoped>\n",
       "    .dataframe tbody tr th:only-of-type {\n",
       "        vertical-align: middle;\n",
       "    }\n",
       "\n",
       "    .dataframe tbody tr th {\n",
       "        vertical-align: top;\n",
       "    }\n",
       "\n",
       "    .dataframe thead th {\n",
       "        text-align: right;\n",
       "    }\n",
       "</style>\n",
       "<table border=\"1\" class=\"dataframe\">\n",
       "  <thead>\n",
       "    <tr style=\"text-align: right;\">\n",
       "      <th></th>\n",
       "      <th>accuracy</th>\n",
       "      <th>balanced accuracy</th>\n",
       "      <th>f1</th>\n",
       "      <th>precision</th>\n",
       "      <th>false positive rate</th>\n",
       "      <th>false negative rate</th>\n",
       "      <th>selection rate</th>\n",
       "      <th>count</th>\n",
       "    </tr>\n",
       "    <tr>\n",
       "      <th>majmin</th>\n",
       "      <th></th>\n",
       "      <th></th>\n",
       "      <th></th>\n",
       "      <th></th>\n",
       "      <th></th>\n",
       "      <th></th>\n",
       "      <th></th>\n",
       "      <th></th>\n",
       "    </tr>\n",
       "  </thead>\n",
       "  <tbody>\n",
       "    <tr>\n",
       "      <th>majority</th>\n",
       "      <td>0.239974</td>\n",
       "      <td>0.541583</td>\n",
       "      <td>0.248610</td>\n",
       "      <td>0.142984</td>\n",
       "      <td>0.868366</td>\n",
       "      <td>0.048468</td>\n",
       "      <td>0.879355</td>\n",
       "      <td>69170.0</td>\n",
       "    </tr>\n",
       "    <tr>\n",
       "      <th>minority</th>\n",
       "      <td>0.143038</td>\n",
       "      <td>0.510542</td>\n",
       "      <td>0.210035</td>\n",
       "      <td>0.117505</td>\n",
       "      <td>0.967092</td>\n",
       "      <td>0.011824</td>\n",
       "      <td>0.969523</td>\n",
       "      <td>20540.0</td>\n",
       "    </tr>\n",
       "  </tbody>\n",
       "</table>\n",
       "</div>"
      ],
      "text/plain": [
       "          accuracy  balanced accuracy        f1  precision  \\\n",
       "majmin                                                       \n",
       "majority  0.239974           0.541583  0.248610   0.142984   \n",
       "minority  0.143038           0.510542  0.210035   0.117505   \n",
       "\n",
       "          false positive rate  false negative rate  selection rate    count  \n",
       "majmin                                                                       \n",
       "majority             0.868366             0.048468        0.879355  69170.0  \n",
       "minority             0.967092             0.011824        0.969523  20540.0  "
      ]
     },
     "execution_count": 60,
     "metadata": {},
     "output_type": "execute_result"
    }
   ],
   "source": [
    "metric_frame.by_group"
   ]
  },
  {
   "cell_type": "code",
   "execution_count": 61,
   "id": "6e6c20ae",
   "metadata": {
    "execution": {
     "iopub.execute_input": "2025-08-19T18:18:45.813380Z",
     "iopub.status.busy": "2025-08-19T18:18:45.812303Z",
     "iopub.status.idle": "2025-08-19T18:18:47.645970Z",
     "shell.execute_reply": "2025-08-19T18:18:47.645039Z"
    },
    "papermill": {
     "duration": 1.852725,
     "end_time": "2025-08-19T18:18:47.651139",
     "exception": false,
     "start_time": "2025-08-19T18:18:45.798414",
     "status": "completed"
    },
    "tags": []
   },
   "outputs": [
    {
     "data": {
      "text/plain": [
       "array([[<Axes: title={'center': 'accuracy'}, xlabel='majmin'>,\n",
       "        <Axes: title={'center': 'balanced accuracy'}, xlabel='majmin'>,\n",
       "        <Axes: title={'center': 'f1'}, xlabel='majmin'>],\n",
       "       [<Axes: title={'center': 'precision'}, xlabel='majmin'>,\n",
       "        <Axes: title={'center': 'false positive rate'}, xlabel='majmin'>,\n",
       "        <Axes: title={'center': 'false negative rate'}, xlabel='majmin'>],\n",
       "       [<Axes: title={'center': 'selection rate'}, xlabel='majmin'>,\n",
       "        <Axes: title={'center': 'count'}, xlabel='majmin'>,\n",
       "        <Axes: xlabel='majmin'>]], dtype=object)"
      ]
     },
     "execution_count": 61,
     "metadata": {},
     "output_type": "execute_result"
    },
    {
     "data": {
      "image/png": "[encoded data removed]",
      "text/plain": [
       "<Figure size 1200x800 with 9 Axes>"
      ]
     },
     "metadata": {},
     "output_type": "display_data"
    }
   ],
   "source": [
    "# In a graphic\n",
    "metric_frame.by_group.plot.bar(\n",
    "    subplots=True,\n",
    "    layout=[3, 3],\n",
    "    legend=False,\n",
    "    figsize=[12, 8],\n",
    "    title=\"Show all metrics\",\n",
    ")"
   ]
  },
  {
   "cell_type": "markdown",
   "id": "b2e433ae",
   "metadata": {
    "papermill": {
     "duration": 0.013264,
     "end_time": "2025-08-19T18:18:47.690605",
     "exception": false,
     "start_time": "2025-08-19T18:18:47.677341",
     "status": "completed"
    },
    "tags": []
   },
   "source": [
    "# Final Output"
   ]
  },
  {
   "cell_type": "code",
   "execution_count": 62,
   "id": "3871301e",
   "metadata": {
    "execution": {
     "iopub.execute_input": "2025-08-19T18:18:47.721820Z",
     "iopub.status.busy": "2025-08-19T18:18:47.719489Z",
     "iopub.status.idle": "2025-08-19T18:18:47.737541Z",
     "shell.execute_reply": "2025-08-19T18:18:47.736631Z"
    },
    "papermill": {
     "duration": 0.035462,
     "end_time": "2025-08-19T18:18:47.739363",
     "exception": false,
     "start_time": "2025-08-19T18:18:47.703901",
     "status": "completed"
    },
    "tags": []
   },
   "outputs": [
    {
     "data": {
      "text/plain": [
       "4"
      ]
     },
     "execution_count": 62,
     "metadata": {},
     "output_type": "execute_result"
    }
   ],
   "source": [
    "sub_universes = universe_analysis.generate_sub_universes()\n",
    "len(sub_universes)"
   ]
  },
  {
   "cell_type": "code",
   "execution_count": 63,
   "id": "d9cfdaca",
   "metadata": {
    "execution": {
     "iopub.execute_input": "2025-08-19T18:18:47.776065Z",
     "iopub.status.busy": "2025-08-19T18:18:47.774936Z",
     "iopub.status.idle": "2025-08-19T18:18:47.783683Z",
     "shell.execute_reply": "2025-08-19T18:18:47.782431Z"
    },
    "papermill": {
     "duration": 0.025402,
     "end_time": "2025-08-19T18:18:47.785287",
     "exception": false,
     "start_time": "2025-08-19T18:18:47.759885",
     "status": "completed"
    },
    "tags": []
   },
   "outputs": [],
   "source": [
    "def filter_sub_universe_data(sub_universe, org_test):\n",
    "    # Keep all rows — no filtering\n",
    "    keep_rows_mask = np.ones(org_test.shape[0], dtype=bool)\n",
    "\n",
    "    print(f\"[INFO] Keeping all rows: {keep_rows_mask.sum()} rows retained.\")\n",
    "    return keep_rows_mask"
   ]
  },
  {
   "cell_type": "code",
   "execution_count": 64,
   "id": "2bc31ac1",
   "metadata": {
    "execution": {
     "iopub.execute_input": "2025-08-19T18:18:47.818082Z",
     "iopub.status.busy": "2025-08-19T18:18:47.816963Z",
     "iopub.status.idle": "2025-08-19T18:18:54.545618Z",
     "shell.execute_reply": "2025-08-19T18:18:54.544368Z"
    },
    "papermill": {
     "duration": 6.745318,
     "end_time": "2025-08-19T18:18:54.547240",
     "exception": false,
     "start_time": "2025-08-19T18:18:47.801922",
     "status": "completed"
    },
    "tags": []
   },
   "outputs": [
    {
     "name": "stdout",
     "output_type": "stream",
     "text": [
      "Stopping execution_time clock.\n",
      "[INFO] Keeping all rows: 89710 rows retained.\n"
     ]
    },
    {
     "name": "stdout",
     "output_type": "stream",
     "text": [
      "[INFO] Keeping all rows: 89710 rows retained.\n"
     ]
    },
    {
     "name": "stdout",
     "output_type": "stream",
     "text": [
      "[INFO] Keeping all rows: 89710 rows retained.\n"
     ]
    },
    {
     "name": "stdout",
     "output_type": "stream",
     "text": [
      "[INFO] Keeping all rows: 89710 rows retained.\n"
     ]
    },
    {
     "data": {
      "text/html": [
       "<div>\n",
       "<style scoped>\n",
       "    .dataframe tbody tr th:only-of-type {\n",
       "        vertical-align: middle;\n",
       "    }\n",
       "\n",
       "    .dataframe tbody tr th {\n",
       "        vertical-align: top;\n",
       "    }\n",
       "\n",
       "    .dataframe thead th {\n",
       "        text-align: right;\n",
       "    }\n",
       "</style>\n",
       "<table border=\"1\" class=\"dataframe\">\n",
       "  <thead>\n",
       "    <tr style=\"text-align: right;\">\n",
       "      <th></th>\n",
       "      <th>run_no</th>\n",
       "      <th>universe_id</th>\n",
       "      <th>universe_settings</th>\n",
       "      <th>execution_time</th>\n",
       "      <th>test_size_n</th>\n",
       "      <th>test_size_frac</th>\n",
       "      <th>fair_main_equalized_odds_difference</th>\n",
       "      <th>fair_main_equalized_odds_ratio</th>\n",
       "      <th>fair_main_demographic_parity_difference</th>\n",
       "      <th>fair_main_demographic_parity_ratio</th>\n",
       "      <th>...</th>\n",
       "      <th>perf_grp_precision_0</th>\n",
       "      <th>perf_grp_precision_1</th>\n",
       "      <th>perf_grp_false positive rate_0</th>\n",
       "      <th>perf_grp_false positive rate_1</th>\n",
       "      <th>perf_grp_false negative rate_0</th>\n",
       "      <th>perf_grp_false negative rate_1</th>\n",
       "      <th>perf_grp_selection rate_0</th>\n",
       "      <th>perf_grp_selection rate_1</th>\n",
       "      <th>perf_grp_count_0</th>\n",
       "      <th>perf_grp_count_1</th>\n",
       "    </tr>\n",
       "  </thead>\n",
       "  <tbody>\n",
       "    <tr>\n",
       "      <th>0</th>\n",
       "      <td>3</td>\n",
       "      <td>9c5f0190991d64c8c16023a7a46c5d00</td>\n",
       "      <td>{\"cutoff\": \"quantile_0.1\", \"eval_fairness_grou...</td>\n",
       "      <td>22.953407</td>\n",
       "      <td>89710</td>\n",
       "      <td>1.0</td>\n",
       "      <td>0.098726</td>\n",
       "      <td>0.897914</td>\n",
       "      <td>0.090168</td>\n",
       "      <td>0.906998</td>\n",
       "      <td>...</td>\n",
       "      <td>NaN</td>\n",
       "      <td>NaN</td>\n",
       "      <td>NaN</td>\n",
       "      <td>NaN</td>\n",
       "      <td>NaN</td>\n",
       "      <td>NaN</td>\n",
       "      <td>NaN</td>\n",
       "      <td>NaN</td>\n",
       "      <td>NaN</td>\n",
       "      <td>NaN</td>\n",
       "    </tr>\n",
       "    <tr>\n",
       "      <th>0</th>\n",
       "      <td>3</td>\n",
       "      <td>9c5f0190991d64c8c16023a7a46c5d00</td>\n",
       "      <td>{\"cutoff\": \"quantile_0.1\", \"eval_fairness_grou...</td>\n",
       "      <td>22.953407</td>\n",
       "      <td>89710</td>\n",
       "      <td>1.0</td>\n",
       "      <td>0.098726</td>\n",
       "      <td>0.897914</td>\n",
       "      <td>0.090168</td>\n",
       "      <td>0.906998</td>\n",
       "      <td>...</td>\n",
       "      <td>0.117505</td>\n",
       "      <td>0.142984</td>\n",
       "      <td>0.967092</td>\n",
       "      <td>0.868366</td>\n",
       "      <td>0.011824</td>\n",
       "      <td>0.048468</td>\n",
       "      <td>0.969523</td>\n",
       "      <td>0.879355</td>\n",
       "      <td>20540.0</td>\n",
       "      <td>69170.0</td>\n",
       "    </tr>\n",
       "    <tr>\n",
       "      <th>0</th>\n",
       "      <td>3</td>\n",
       "      <td>9c5f0190991d64c8c16023a7a46c5d00</td>\n",
       "      <td>{\"cutoff\": \"quantile_0.25\", \"eval_fairness_gro...</td>\n",
       "      <td>22.953407</td>\n",
       "      <td>89710</td>\n",
       "      <td>1.0</td>\n",
       "      <td>0.217656</td>\n",
       "      <td>0.757392</td>\n",
       "      <td>0.199285</td>\n",
       "      <td>0.779467</td>\n",
       "      <td>...</td>\n",
       "      <td>NaN</td>\n",
       "      <td>NaN</td>\n",
       "      <td>NaN</td>\n",
       "      <td>NaN</td>\n",
       "      <td>NaN</td>\n",
       "      <td>NaN</td>\n",
       "      <td>NaN</td>\n",
       "      <td>NaN</td>\n",
       "      <td>NaN</td>\n",
       "      <td>NaN</td>\n",
       "    </tr>\n",
       "    <tr>\n",
       "      <th>0</th>\n",
       "      <td>3</td>\n",
       "      <td>9c5f0190991d64c8c16023a7a46c5d00</td>\n",
       "      <td>{\"cutoff\": \"quantile_0.25\", \"eval_fairness_gro...</td>\n",
       "      <td>22.953407</td>\n",
       "      <td>89710</td>\n",
       "      <td>1.0</td>\n",
       "      <td>0.217656</td>\n",
       "      <td>0.757392</td>\n",
       "      <td>0.199285</td>\n",
       "      <td>0.779467</td>\n",
       "      <td>...</td>\n",
       "      <td>0.121653</td>\n",
       "      <td>0.162784</td>\n",
       "      <td>0.897149</td>\n",
       "      <td>0.679494</td>\n",
       "      <td>0.046453</td>\n",
       "      <td>0.132276</td>\n",
       "      <td>0.903651</td>\n",
       "      <td>0.704366</td>\n",
       "      <td>20540.0</td>\n",
       "      <td>69170.0</td>\n",
       "    </tr>\n",
       "  </tbody>\n",
       "</table>\n",
       "<p>4 rows × 50 columns</p>\n",
       "</div>"
      ],
      "text/plain": [
       "  run_no                       universe_id  \\\n",
       "0      3  9c5f0190991d64c8c16023a7a46c5d00   \n",
       "0      3  9c5f0190991d64c8c16023a7a46c5d00   \n",
       "0      3  9c5f0190991d64c8c16023a7a46c5d00   \n",
       "0      3  9c5f0190991d64c8c16023a7a46c5d00   \n",
       "\n",
       "                                   universe_settings  execution_time  \\\n",
       "0  {\"cutoff\": \"quantile_0.1\", \"eval_fairness_grou...       22.953407   \n",
       "0  {\"cutoff\": \"quantile_0.1\", \"eval_fairness_grou...       22.953407   \n",
       "0  {\"cutoff\": \"quantile_0.25\", \"eval_fairness_gro...       22.953407   \n",
       "0  {\"cutoff\": \"quantile_0.25\", \"eval_fairness_gro...       22.953407   \n",
       "\n",
       "   test_size_n  test_size_frac  fair_main_equalized_odds_difference  \\\n",
       "0        89710             1.0                             0.098726   \n",
       "0        89710             1.0                             0.098726   \n",
       "0        89710             1.0                             0.217656   \n",
       "0        89710             1.0                             0.217656   \n",
       "\n",
       "   fair_main_equalized_odds_ratio  fair_main_demographic_parity_difference  \\\n",
       "0                        0.897914                                 0.090168   \n",
       "0                        0.897914                                 0.090168   \n",
       "0                        0.757392                                 0.199285   \n",
       "0                        0.757392                                 0.199285   \n",
       "\n",
       "   fair_main_demographic_parity_ratio  ...  perf_grp_precision_0  \\\n",
       "0                            0.906998  ...                   NaN   \n",
       "0                            0.906998  ...              0.117505   \n",
       "0                            0.779467  ...                   NaN   \n",
       "0                            0.779467  ...              0.121653   \n",
       "\n",
       "   perf_grp_precision_1  perf_grp_false positive rate_0  \\\n",
       "0                   NaN                             NaN   \n",
       "0              0.142984                        0.967092   \n",
       "0                   NaN                             NaN   \n",
       "0              0.162784                        0.897149   \n",
       "\n",
       "   perf_grp_false positive rate_1  perf_grp_false negative rate_0  \\\n",
       "0                             NaN                             NaN   \n",
       "0                        0.868366                        0.011824   \n",
       "0                             NaN                             NaN   \n",
       "0                        0.679494                        0.046453   \n",
       "\n",
       "   perf_grp_false negative rate_1  perf_grp_selection rate_0  \\\n",
       "0                             NaN                        NaN   \n",
       "0                        0.048468                   0.969523   \n",
       "0                             NaN                        NaN   \n",
       "0                        0.132276                   0.903651   \n",
       "\n",
       "   perf_grp_selection rate_1  perf_grp_count_0  perf_grp_count_1  \n",
       "0                        NaN               NaN               NaN  \n",
       "0                   0.879355           20540.0           69170.0  \n",
       "0                        NaN               NaN               NaN  \n",
       "0                   0.704366           20540.0           69170.0  \n",
       "\n",
       "[4 rows x 50 columns]"
      ]
     },
     "execution_count": 64,
     "metadata": {},
     "output_type": "execute_result"
    }
   ],
   "source": [
    "final_output = universe_analysis.generate_final_output(\n",
    "    y_pred_prob=probs_test,\n",
    "    y_test=y_true,\n",
    "    org_test=org_test,\n",
    "    filter_data=filter_sub_universe_data,\n",
    "    cp_metrics_df=cp_metrics_df,\n",
    "    save=True,\n",
    ")\n",
    "final_output"
   ]
  },
  {
   "cell_type": "code",
   "execution_count": null,
   "id": "8b80a1ff",
   "metadata": {
    "papermill": {
     "duration": 0.014031,
     "end_time": "2025-08-19T18:18:54.580208",
     "exception": false,
     "start_time": "2025-08-19T18:18:54.566177",
     "status": "completed"
    },
    "tags": []
   },
   "outputs": [],
   "source": []
  },
  {
   "cell_type": "code",
   "execution_count": null,
   "id": "275c9fad",
   "metadata": {
    "papermill": {
     "duration": 0.014032,
     "end_time": "2025-08-19T18:18:54.609644",
     "exception": false,
     "start_time": "2025-08-19T18:18:54.595612",
     "status": "completed"
    },
    "tags": []
   },
   "outputs": [],
   "source": []
  }
 ],
 "metadata": {
  "celltoolbar": "Tags",
  "kernelspec": {
   "display_name": "Python (CMA Fairness)",
   "language": "python",
   "name": "cma_fair_env"
  },
  "language_info": {
   "codemirror_mode": {
    "name": "ipython",
    "version": 3
   },
   "file_extension": ".py",
   "mimetype": "text/x-python",
   "name": "python",
   "nbconvert_exporter": "python",
   "pygments_lexer": "ipython3",
   "version": "3.10.12"
  },
  "papermill": {
   "default_parameters": {},
   "duration": 33.756566,
   "end_time": "2025-08-19T18:18:55.553678",
   "environment_variables": {},
   "exception": null,
   "input_path": "universe_analysis.ipynb",
   "output_path": "output/runs/3/notebooks/m_3-9c5f0190991d64c8c16023a7a46c5d00.ipynb",
   "parameters": {
    "output_dir": "output",
    "run_no": "3",
    "seed": "2023",
    "universe": "{\"cutoff\": [\"quantile_0.1\", \"quantile_0.25\"], \"eval_fairness_grouping\": [\"majority-minority\", \"nationality-all\"], \"exclude_features\": \"none\", \"exclude_subgroups\": \"keep-all\", \"model\": \"penalized_logreg\", \"scale\": \"do-not-scale\", \"training_size\": \"25k\", \"training_year\": \"2010_14\"}",
    "universe_id": "9c5f0190991d64c8c16023a7a46c5d00"
   },
   "start_time": "2025-08-19T18:18:21.797112",
   "version": "2.6.0"
  }
 },
 "nbformat": 4,
 "nbformat_minor": 5
}