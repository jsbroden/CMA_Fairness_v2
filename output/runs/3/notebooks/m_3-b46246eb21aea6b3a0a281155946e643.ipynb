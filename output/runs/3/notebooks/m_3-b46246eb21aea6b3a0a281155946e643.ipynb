{
 "cells": [
  {
   "cell_type": "markdown",
   "id": "ef23dbb3",
   "metadata": {
    "papermill": {
     "duration": 0.009247,
     "end_time": "2025-08-19T18:33:09.548289",
     "exception": false,
     "start_time": "2025-08-19T18:33:09.539042",
     "status": "completed"
    },
    "tags": []
   },
   "source": [
    "# Setup"
   ]
  },
  {
   "cell_type": "code",
   "execution_count": 1,
   "id": "0bc8e7dc",
   "metadata": {
    "execution": {
     "iopub.execute_input": "2025-08-19T18:33:09.579822Z",
     "iopub.status.busy": "2025-08-19T18:33:09.579310Z",
     "iopub.status.idle": "2025-08-19T18:33:09.589432Z",
     "shell.execute_reply": "2025-08-19T18:33:09.588663Z"
    },
    "papermill": {
     "duration": 0.033441,
     "end_time": "2025-08-19T18:33:09.590636",
     "exception": false,
     "start_time": "2025-08-19T18:33:09.557195",
     "status": "completed"
    },
    "tags": []
   },
   "outputs": [
    {
     "name": "stdout",
     "output_type": "stream",
     "text": [
      "/dss/dsshome1/0C/ra93lal2/cma/CMA_Fairness_v2\n"
     ]
    },
    {
     "name": "stderr",
     "output_type": "stream",
     "text": [
      "/dss/dsshome1/0C/ra93lal2/.local/share/virtualenvs/CMA_Fairness_v2-3j10GkSs/lib/python3.10/site-packages/IPython/core/magics/osm.py:393: UserWarning: This is now an optional IPython functionality, using bookmarks requires you to install the `pickleshare` library.\n",
      "  bkms = self.shell.db.get('bookmarks', {})\n",
      "/dss/dsshome1/0C/ra93lal2/.local/share/virtualenvs/CMA_Fairness_v2-3j10GkSs/lib/python3.10/site-packages/IPython/core/magics/osm.py:417: UserWarning: This is now an optional IPython functionality, setting dhist requires you to install the `pickleshare` library.\n",
      "  self.shell.db['dhist'] = compress_dhist(dhist)[-100:]\n"
     ]
    }
   ],
   "source": [
    "%cd ~/cma/CMA_Fairness_v2"
   ]
  },
  {
   "cell_type": "markdown",
   "id": "9d235661",
   "metadata": {
    "papermill": {
     "duration": 0.009306,
     "end_time": "2025-08-19T18:33:09.609685",
     "exception": false,
     "start_time": "2025-08-19T18:33:09.600379",
     "status": "completed"
    },
    "tags": []
   },
   "source": [
    "The following cell holds the definition of our parameters, these values can be overriden by rendering the with e.g. the following command:\n",
    "\n",
    "papermill -p alpha 0.2 -p ratio 0.3 universe_analysis.ipynb output/test_run.ipynb"
   ]
  },
  {
   "cell_type": "code",
   "execution_count": 2,
   "id": "4a789d8e",
   "metadata": {
    "execution": {
     "iopub.execute_input": "2025-08-19T18:33:09.630839Z",
     "iopub.status.busy": "2025-08-19T18:33:09.629467Z",
     "iopub.status.idle": "2025-08-19T18:33:09.638268Z",
     "shell.execute_reply": "2025-08-19T18:33:09.636817Z"
    },
    "papermill": {
     "duration": 0.021486,
     "end_time": "2025-08-19T18:33:09.639835",
     "exception": false,
     "start_time": "2025-08-19T18:33:09.618349",
     "status": "completed"
    },
    "tags": []
   },
   "outputs": [
    {
     "name": "stdout",
     "output_type": "stream",
     "text": [
      "Current working directory: /dss/dsshome1/0C/ra93lal2/cma/CMA_Fairness_v2\n"
     ]
    }
   ],
   "source": [
    "import os\n",
    "print(\"Current working directory:\", os.getcwd())"
   ]
  },
  {
   "cell_type": "code",
   "execution_count": 3,
   "id": "4132aaed",
   "metadata": {
    "execution": {
     "iopub.execute_input": "2025-08-19T18:33:09.664322Z",
     "iopub.status.busy": "2025-08-19T18:33:09.663204Z",
     "iopub.status.idle": "2025-08-19T18:33:09.685320Z",
     "shell.execute_reply": "2025-08-19T18:33:09.683661Z"
    },
    "papermill": {
     "duration": 0.035485,
     "end_time": "2025-08-19T18:33:09.687462",
     "exception": false,
     "start_time": "2025-08-19T18:33:09.651977",
     "status": "completed"
    },
    "tags": [
     "parameters"
    ]
   },
   "outputs": [],
   "source": [
    "run_no = 0\n",
    "universe_id = \"test\"\n",
    "universe = {\n",
    "    \"training_size\": \"5k\", # \"25k\", \"5k\", \"1k\"\n",
    "    \"training_year\": \"2012_14\", # \"2014\", \"2012_14\", \"2010_14\"\n",
    "    \"scale\": \"scale\", # \"scale\", \"do-not-scale\",\n",
    "    \"model\": \"elasticnet\", # \"logreg\", \"penalized_logreg\", \"rf\", \"gbm\", \"elasticnet\"\n",
    "    \"cutoff\": [\"quantile_0.15\", \"quantile_0.30\"],\n",
    "    \"exclude_features\": \"age\", # \"none\", \"nationality\", \"sex\", \"nationality-sex\", \"age\"\n",
    "    \"exclude_subgroups\": \"drop-non-german\", # \"keep-all\", \"drop-non-german\"\n",
    "    \"eval_fairness_grouping\": [\"majority-minority\", \"nationality-all\"]\n",
    "}\n",
    "\n",
    "output_dir=\"./output\"\n",
    "seed=0"
   ]
  },
  {
   "cell_type": "code",
   "execution_count": 4,
   "id": "02fe7a69",
   "metadata": {
    "execution": {
     "iopub.execute_input": "2025-08-19T18:33:09.715741Z",
     "iopub.status.busy": "2025-08-19T18:33:09.714547Z",
     "iopub.status.idle": "2025-08-19T18:33:09.723520Z",
     "shell.execute_reply": "2025-08-19T18:33:09.721973Z"
    },
    "papermill": {
     "duration": 0.022444,
     "end_time": "2025-08-19T18:33:09.724996",
     "exception": false,
     "start_time": "2025-08-19T18:33:09.702552",
     "status": "completed"
    },
    "tags": [
     "injected-parameters"
    ]
   },
   "outputs": [],
   "source": [
    "# Parameters\n",
    "universe_id = \"b46246eb21aea6b3a0a281155946e643\"\n",
    "run_no = \"3\"\n",
    "universe = \"{\\\"cutoff\\\": [\\\"quantile_0.1\\\", \\\"quantile_0.25\\\"], \\\"eval_fairness_grouping\\\": [\\\"majority-minority\\\", \\\"nationality-all\\\"], \\\"exclude_features\\\": \\\"nationality-sex\\\", \\\"exclude_subgroups\\\": \\\"drop-non-german\\\", \\\"model\\\": \\\"rf\\\", \\\"scale\\\": \\\"scale\\\", \\\"training_size\\\": \\\"5k\\\", \\\"training_year\\\": \\\"2012_14\\\"}\"\n",
    "output_dir = \"output\"\n",
    "seed = \"2023\"\n"
   ]
  },
  {
   "cell_type": "code",
   "execution_count": 5,
   "id": "a5d7941f",
   "metadata": {
    "execution": {
     "iopub.execute_input": "2025-08-19T18:33:09.751701Z",
     "iopub.status.busy": "2025-08-19T18:33:09.750523Z",
     "iopub.status.idle": "2025-08-19T18:33:09.758382Z",
     "shell.execute_reply": "2025-08-19T18:33:09.757300Z"
    },
    "papermill": {
     "duration": 0.02363,
     "end_time": "2025-08-19T18:33:09.763232",
     "exception": false,
     "start_time": "2025-08-19T18:33:09.739602",
     "status": "completed"
    },
    "tags": []
   },
   "outputs": [],
   "source": [
    "import json\n",
    "if isinstance(universe, str):\n",
    "    universe = json.loads(universe)"
   ]
  },
  {
   "cell_type": "code",
   "execution_count": 6,
   "id": "7076ccb1",
   "metadata": {
    "execution": {
     "iopub.execute_input": "2025-08-19T18:33:09.789133Z",
     "iopub.status.busy": "2025-08-19T18:33:09.788112Z",
     "iopub.status.idle": "2025-08-19T18:33:09.913274Z",
     "shell.execute_reply": "2025-08-19T18:33:09.912493Z"
    },
    "papermill": {
     "duration": 0.139478,
     "end_time": "2025-08-19T18:33:09.916093",
     "exception": false,
     "start_time": "2025-08-19T18:33:09.776615",
     "status": "completed"
    },
    "tags": []
   },
   "outputs": [],
   "source": [
    "# Auto-reload the custom package\n",
    "%load_ext autoreload\n",
    "%autoreload 1\n",
    "%aimport fairness_multiverse"
   ]
  },
  {
   "cell_type": "code",
   "execution_count": 7,
   "id": "94c8eb93",
   "metadata": {
    "execution": {
     "iopub.execute_input": "2025-08-19T18:33:09.955521Z",
     "iopub.status.busy": "2025-08-19T18:33:09.954202Z",
     "iopub.status.idle": "2025-08-19T18:33:11.622142Z",
     "shell.execute_reply": "2025-08-19T18:33:11.621047Z"
    },
    "papermill": {
     "duration": 1.682994,
     "end_time": "2025-08-19T18:33:11.623822",
     "exception": false,
     "start_time": "2025-08-19T18:33:09.940828",
     "status": "completed"
    },
    "tags": []
   },
   "outputs": [],
   "source": [
    "from fairness_multiverse.universe import UniverseAnalysis\n",
    "\n",
    "universe_analysis = UniverseAnalysis(\n",
    "    run_no = run_no,\n",
    "    universe_id = universe_id,\n",
    "    universe = universe,\n",
    "    output_dir=output_dir,\n",
    ")"
   ]
  },
  {
   "cell_type": "code",
   "execution_count": 8,
   "id": "2a6381cf",
   "metadata": {
    "execution": {
     "iopub.execute_input": "2025-08-19T18:33:11.647293Z",
     "iopub.status.busy": "2025-08-19T18:33:11.646282Z",
     "iopub.status.idle": "2025-08-19T18:33:11.653488Z",
     "shell.execute_reply": "2025-08-19T18:33:11.652409Z"
    },
    "papermill": {
     "duration": 0.019119,
     "end_time": "2025-08-19T18:33:11.654761",
     "exception": false,
     "start_time": "2025-08-19T18:33:11.635642",
     "status": "completed"
    },
    "tags": []
   },
   "outputs": [
    {
     "name": "stdout",
     "output_type": "stream",
     "text": [
      "Using Seed: 2023\n"
     ]
    }
   ],
   "source": [
    "import numpy as np\n",
    "parsed_seed = int(seed)\n",
    "np.random.seed(parsed_seed)\n",
    "print(f\"Using Seed: {parsed_seed}\")"
   ]
  },
  {
   "cell_type": "markdown",
   "id": "b6e958b4",
   "metadata": {
    "papermill": {
     "duration": 0.009473,
     "end_time": "2025-08-19T18:33:11.675852",
     "exception": false,
     "start_time": "2025-08-19T18:33:11.666379",
     "status": "completed"
    },
    "tags": []
   },
   "source": [
    "# Loading Data"
   ]
  },
  {
   "cell_type": "code",
   "execution_count": 9,
   "id": "98701482",
   "metadata": {
    "execution": {
     "iopub.execute_input": "2025-08-19T18:33:11.697292Z",
     "iopub.status.busy": "2025-08-19T18:33:11.696013Z",
     "iopub.status.idle": "2025-08-19T18:33:21.466246Z",
     "shell.execute_reply": "2025-08-19T18:33:21.464706Z"
    },
    "papermill": {
     "duration": 9.782859,
     "end_time": "2025-08-19T18:33:21.467777",
     "exception": false,
     "start_time": "2025-08-19T18:33:11.684918",
     "status": "completed"
    },
    "tags": []
   },
   "outputs": [
    {
     "name": "stdout",
     "output_type": "stream",
     "text": [
      "Loading SIAB data from cache: data/siab_cached.csv.gz\n"
     ]
    },
    {
     "name": "stdout",
     "output_type": "stream",
     "text": [
      "(643690, 164)\n"
     ]
    }
   ],
   "source": [
    "from pathlib import Path\n",
    "import pandas as pd\n",
    "\n",
    "# File paths\n",
    "raw_file = Path(\"data/raw/siab.csv\")\n",
    "cache_file = Path(\"data/siab_cached.csv.gz\")\n",
    "\n",
    "# Ensure cache directory exists\n",
    "cache_file.parent.mkdir(parents=True, exist_ok=True)\n",
    "\n",
    "# Load with simple caching\n",
    "if cache_file.exists():\n",
    "    print(f\"Loading SIAB data from cache: {cache_file}\")\n",
    "    siab = pd.read_csv(cache_file, compression='gzip')\n",
    "else:\n",
    "    print(f\"Cache not found. Reading raw SIAB data: {raw_file}\")\n",
    "    siab = pd.read_csv(raw_file)\n",
    "    siab.to_csv(cache_file, index=False, compression='gzip')\n",
    "    print(f\"Cached SIAB data to: {cache_file}\")\n",
    "\n",
    "print(siab.shape)"
   ]
  },
  {
   "cell_type": "code",
   "execution_count": 10,
   "id": "058d2abb",
   "metadata": {
    "execution": {
     "iopub.execute_input": "2025-08-19T18:33:21.514982Z",
     "iopub.status.busy": "2025-08-19T18:33:21.514141Z",
     "iopub.status.idle": "2025-08-19T18:33:21.717684Z",
     "shell.execute_reply": "2025-08-19T18:33:21.716505Z"
    },
    "papermill": {
     "duration": 0.23266,
     "end_time": "2025-08-19T18:33:21.719319",
     "exception": false,
     "start_time": "2025-08-19T18:33:21.486659",
     "status": "completed"
    },
    "tags": []
   },
   "outputs": [
    {
     "data": {
      "text/html": [
       "<div>\n",
       "<style scoped>\n",
       "    .dataframe tbody tr th:only-of-type {\n",
       "        vertical-align: middle;\n",
       "    }\n",
       "\n",
       "    .dataframe tbody tr th {\n",
       "        vertical-align: top;\n",
       "    }\n",
       "\n",
       "    .dataframe thead th {\n",
       "        text-align: right;\n",
       "    }\n",
       "</style>\n",
       "<table border=\"1\" class=\"dataframe\">\n",
       "  <thead>\n",
       "    <tr style=\"text-align: right;\">\n",
       "      <th></th>\n",
       "      <th>persnr</th>\n",
       "      <th>year</th>\n",
       "      <th>nrEntry</th>\n",
       "      <th>ltue</th>\n",
       "      <th>employed_before</th>\n",
       "      <th>receipt_leh_before</th>\n",
       "      <th>receipt_lhg_before</th>\n",
       "      <th>se_before</th>\n",
       "      <th>ASU_notue_seeking_before</th>\n",
       "      <th>ASU_other_before</th>\n",
       "      <th>...</th>\n",
       "      <th>minijob_tot_dur_byage</th>\n",
       "      <th>ft_tot_dur_byage</th>\n",
       "      <th>befrist_tot_dur_byage</th>\n",
       "      <th>leih_tot_dur_byage</th>\n",
       "      <th>LHG_tot_dur_byage</th>\n",
       "      <th>LEH_tot_dur_byage</th>\n",
       "      <th>almp_tot_dur_byage</th>\n",
       "      <th>almp_aw_tot_dur_byage</th>\n",
       "      <th>se_tot_dur_byage</th>\n",
       "      <th>seeking1_tot_dur_byage</th>\n",
       "    </tr>\n",
       "  </thead>\n",
       "  <tbody>\n",
       "    <tr>\n",
       "      <th>0</th>\n",
       "      <td>7</td>\n",
       "      <td>2015</td>\n",
       "      <td>1</td>\n",
       "      <td>0</td>\n",
       "      <td>1</td>\n",
       "      <td>0</td>\n",
       "      <td>0</td>\n",
       "      <td>0</td>\n",
       "      <td>1</td>\n",
       "      <td>0</td>\n",
       "      <td>...</td>\n",
       "      <td>0.000000</td>\n",
       "      <td>0.000000</td>\n",
       "      <td>15.043478</td>\n",
       "      <td>0.000000</td>\n",
       "      <td>0.000000</td>\n",
       "      <td>0.000000</td>\n",
       "      <td>0.000000</td>\n",
       "      <td>0.000000</td>\n",
       "      <td>0.000000</td>\n",
       "      <td>0.000000</td>\n",
       "    </tr>\n",
       "    <tr>\n",
       "      <th>1</th>\n",
       "      <td>18</td>\n",
       "      <td>2010</td>\n",
       "      <td>1</td>\n",
       "      <td>1</td>\n",
       "      <td>0</td>\n",
       "      <td>0</td>\n",
       "      <td>0</td>\n",
       "      <td>0</td>\n",
       "      <td>0</td>\n",
       "      <td>0</td>\n",
       "      <td>...</td>\n",
       "      <td>0.000000</td>\n",
       "      <td>0.000000</td>\n",
       "      <td>0.000000</td>\n",
       "      <td>0.000000</td>\n",
       "      <td>0.000000</td>\n",
       "      <td>0.000000</td>\n",
       "      <td>0.000000</td>\n",
       "      <td>0.000000</td>\n",
       "      <td>0.000000</td>\n",
       "      <td>0.000000</td>\n",
       "    </tr>\n",
       "    <tr>\n",
       "      <th>2</th>\n",
       "      <td>18</td>\n",
       "      <td>2011</td>\n",
       "      <td>2</td>\n",
       "      <td>0</td>\n",
       "      <td>1</td>\n",
       "      <td>0</td>\n",
       "      <td>1</td>\n",
       "      <td>0</td>\n",
       "      <td>1</td>\n",
       "      <td>0</td>\n",
       "      <td>...</td>\n",
       "      <td>2.714286</td>\n",
       "      <td>2.714286</td>\n",
       "      <td>0.000000</td>\n",
       "      <td>0.000000</td>\n",
       "      <td>10.775510</td>\n",
       "      <td>0.000000</td>\n",
       "      <td>8.367347</td>\n",
       "      <td>0.000000</td>\n",
       "      <td>0.000000</td>\n",
       "      <td>9.836735</td>\n",
       "    </tr>\n",
       "    <tr>\n",
       "      <th>3</th>\n",
       "      <td>18</td>\n",
       "      <td>2012</td>\n",
       "      <td>3</td>\n",
       "      <td>0</td>\n",
       "      <td>1</td>\n",
       "      <td>0</td>\n",
       "      <td>1</td>\n",
       "      <td>0</td>\n",
       "      <td>1</td>\n",
       "      <td>0</td>\n",
       "      <td>...</td>\n",
       "      <td>4.200000</td>\n",
       "      <td>4.200000</td>\n",
       "      <td>0.000000</td>\n",
       "      <td>0.000000</td>\n",
       "      <td>12.100000</td>\n",
       "      <td>0.000000</td>\n",
       "      <td>9.400000</td>\n",
       "      <td>0.000000</td>\n",
       "      <td>0.000000</td>\n",
       "      <td>9.960000</td>\n",
       "    </tr>\n",
       "    <tr>\n",
       "      <th>4</th>\n",
       "      <td>18</td>\n",
       "      <td>2012</td>\n",
       "      <td>4</td>\n",
       "      <td>0</td>\n",
       "      <td>1</td>\n",
       "      <td>0</td>\n",
       "      <td>1</td>\n",
       "      <td>0</td>\n",
       "      <td>1</td>\n",
       "      <td>0</td>\n",
       "      <td>...</td>\n",
       "      <td>5.460000</td>\n",
       "      <td>5.460000</td>\n",
       "      <td>0.000000</td>\n",
       "      <td>0.000000</td>\n",
       "      <td>13.360000</td>\n",
       "      <td>0.000000</td>\n",
       "      <td>10.320000</td>\n",
       "      <td>0.000000</td>\n",
       "      <td>0.000000</td>\n",
       "      <td>10.280000</td>\n",
       "    </tr>\n",
       "    <tr>\n",
       "      <th>...</th>\n",
       "      <td>...</td>\n",
       "      <td>...</td>\n",
       "      <td>...</td>\n",
       "      <td>...</td>\n",
       "      <td>...</td>\n",
       "      <td>...</td>\n",
       "      <td>...</td>\n",
       "      <td>...</td>\n",
       "      <td>...</td>\n",
       "      <td>...</td>\n",
       "      <td>...</td>\n",
       "      <td>...</td>\n",
       "      <td>...</td>\n",
       "      <td>...</td>\n",
       "      <td>...</td>\n",
       "      <td>...</td>\n",
       "      <td>...</td>\n",
       "      <td>...</td>\n",
       "      <td>...</td>\n",
       "      <td>...</td>\n",
       "      <td>...</td>\n",
       "    </tr>\n",
       "    <tr>\n",
       "      <th>643685</th>\n",
       "      <td>1827860</td>\n",
       "      <td>2013</td>\n",
       "      <td>1</td>\n",
       "      <td>0</td>\n",
       "      <td>0</td>\n",
       "      <td>0</td>\n",
       "      <td>1</td>\n",
       "      <td>0</td>\n",
       "      <td>0</td>\n",
       "      <td>1</td>\n",
       "      <td>...</td>\n",
       "      <td>0.000000</td>\n",
       "      <td>0.000000</td>\n",
       "      <td>0.000000</td>\n",
       "      <td>0.000000</td>\n",
       "      <td>0.612903</td>\n",
       "      <td>0.000000</td>\n",
       "      <td>0.000000</td>\n",
       "      <td>0.000000</td>\n",
       "      <td>0.000000</td>\n",
       "      <td>0.000000</td>\n",
       "    </tr>\n",
       "    <tr>\n",
       "      <th>643686</th>\n",
       "      <td>1827860</td>\n",
       "      <td>2015</td>\n",
       "      <td>2</td>\n",
       "      <td>1</td>\n",
       "      <td>0</td>\n",
       "      <td>0</td>\n",
       "      <td>1</td>\n",
       "      <td>0</td>\n",
       "      <td>1</td>\n",
       "      <td>0</td>\n",
       "      <td>...</td>\n",
       "      <td>0.000000</td>\n",
       "      <td>0.000000</td>\n",
       "      <td>0.212121</td>\n",
       "      <td>0.212121</td>\n",
       "      <td>17.363636</td>\n",
       "      <td>0.000000</td>\n",
       "      <td>8.909091</td>\n",
       "      <td>0.000000</td>\n",
       "      <td>0.000000</td>\n",
       "      <td>7.121212</td>\n",
       "    </tr>\n",
       "    <tr>\n",
       "      <th>643687</th>\n",
       "      <td>1827860</td>\n",
       "      <td>2016</td>\n",
       "      <td>3</td>\n",
       "      <td>1</td>\n",
       "      <td>0</td>\n",
       "      <td>0</td>\n",
       "      <td>1</td>\n",
       "      <td>1</td>\n",
       "      <td>0</td>\n",
       "      <td>1</td>\n",
       "      <td>...</td>\n",
       "      <td>0.000000</td>\n",
       "      <td>0.000000</td>\n",
       "      <td>0.294118</td>\n",
       "      <td>0.205882</td>\n",
       "      <td>34.705882</td>\n",
       "      <td>0.000000</td>\n",
       "      <td>10.352941</td>\n",
       "      <td>1.705882</td>\n",
       "      <td>1.705882</td>\n",
       "      <td>23.911765</td>\n",
       "    </tr>\n",
       "    <tr>\n",
       "      <th>643688</th>\n",
       "      <td>1827869</td>\n",
       "      <td>2013</td>\n",
       "      <td>1</td>\n",
       "      <td>1</td>\n",
       "      <td>1</td>\n",
       "      <td>0</td>\n",
       "      <td>0</td>\n",
       "      <td>0</td>\n",
       "      <td>1</td>\n",
       "      <td>0</td>\n",
       "      <td>...</td>\n",
       "      <td>0.000000</td>\n",
       "      <td>0.000000</td>\n",
       "      <td>0.000000</td>\n",
       "      <td>0.000000</td>\n",
       "      <td>0.000000</td>\n",
       "      <td>0.525424</td>\n",
       "      <td>0.000000</td>\n",
       "      <td>0.000000</td>\n",
       "      <td>0.000000</td>\n",
       "      <td>0.000000</td>\n",
       "    </tr>\n",
       "    <tr>\n",
       "      <th>643689</th>\n",
       "      <td>1827869</td>\n",
       "      <td>2014</td>\n",
       "      <td>2</td>\n",
       "      <td>0</td>\n",
       "      <td>0</td>\n",
       "      <td>1</td>\n",
       "      <td>0</td>\n",
       "      <td>0</td>\n",
       "      <td>1</td>\n",
       "      <td>0</td>\n",
       "      <td>...</td>\n",
       "      <td>0.000000</td>\n",
       "      <td>0.666667</td>\n",
       "      <td>0.666667</td>\n",
       "      <td>0.000000</td>\n",
       "      <td>0.000000</td>\n",
       "      <td>8.950000</td>\n",
       "      <td>1.033333</td>\n",
       "      <td>0.083333</td>\n",
       "      <td>0.083333</td>\n",
       "      <td>8.133333</td>\n",
       "    </tr>\n",
       "  </tbody>\n",
       "</table>\n",
       "<p>643690 rows × 164 columns</p>\n",
       "</div>"
      ],
      "text/plain": [
       "         persnr  year  nrEntry  ltue  employed_before  receipt_leh_before  \\\n",
       "0             7  2015        1     0                1                   0   \n",
       "1            18  2010        1     1                0                   0   \n",
       "2            18  2011        2     0                1                   0   \n",
       "3            18  2012        3     0                1                   0   \n",
       "4            18  2012        4     0                1                   0   \n",
       "...         ...   ...      ...   ...              ...                 ...   \n",
       "643685  1827860  2013        1     0                0                   0   \n",
       "643686  1827860  2015        2     1                0                   0   \n",
       "643687  1827860  2016        3     1                0                   0   \n",
       "643688  1827869  2013        1     1                1                   0   \n",
       "643689  1827869  2014        2     0                0                   1   \n",
       "\n",
       "        receipt_lhg_before  se_before  ASU_notue_seeking_before  \\\n",
       "0                        0          0                         1   \n",
       "1                        0          0                         0   \n",
       "2                        1          0                         1   \n",
       "3                        1          0                         1   \n",
       "4                        1          0                         1   \n",
       "...                    ...        ...                       ...   \n",
       "643685                   1          0                         0   \n",
       "643686                   1          0                         1   \n",
       "643687                   1          1                         0   \n",
       "643688                   0          0                         1   \n",
       "643689                   0          0                         1   \n",
       "\n",
       "        ASU_other_before  ...  minijob_tot_dur_byage  ft_tot_dur_byage  \\\n",
       "0                      0  ...               0.000000          0.000000   \n",
       "1                      0  ...               0.000000          0.000000   \n",
       "2                      0  ...               2.714286          2.714286   \n",
       "3                      0  ...               4.200000          4.200000   \n",
       "4                      0  ...               5.460000          5.460000   \n",
       "...                  ...  ...                    ...               ...   \n",
       "643685                 1  ...               0.000000          0.000000   \n",
       "643686                 0  ...               0.000000          0.000000   \n",
       "643687                 1  ...               0.000000          0.000000   \n",
       "643688                 0  ...               0.000000          0.000000   \n",
       "643689                 0  ...               0.000000          0.666667   \n",
       "\n",
       "        befrist_tot_dur_byage  leih_tot_dur_byage  LHG_tot_dur_byage  \\\n",
       "0                   15.043478            0.000000           0.000000   \n",
       "1                    0.000000            0.000000           0.000000   \n",
       "2                    0.000000            0.000000          10.775510   \n",
       "3                    0.000000            0.000000          12.100000   \n",
       "4                    0.000000            0.000000          13.360000   \n",
       "...                       ...                 ...                ...   \n",
       "643685               0.000000            0.000000           0.612903   \n",
       "643686               0.212121            0.212121          17.363636   \n",
       "643687               0.294118            0.205882          34.705882   \n",
       "643688               0.000000            0.000000           0.000000   \n",
       "643689               0.666667            0.000000           0.000000   \n",
       "\n",
       "        LEH_tot_dur_byage  almp_tot_dur_byage  almp_aw_tot_dur_byage  \\\n",
       "0                0.000000            0.000000               0.000000   \n",
       "1                0.000000            0.000000               0.000000   \n",
       "2                0.000000            8.367347               0.000000   \n",
       "3                0.000000            9.400000               0.000000   \n",
       "4                0.000000           10.320000               0.000000   \n",
       "...                   ...                 ...                    ...   \n",
       "643685           0.000000            0.000000               0.000000   \n",
       "643686           0.000000            8.909091               0.000000   \n",
       "643687           0.000000           10.352941               1.705882   \n",
       "643688           0.525424            0.000000               0.000000   \n",
       "643689           8.950000            1.033333               0.083333   \n",
       "\n",
       "        se_tot_dur_byage  seeking1_tot_dur_byage  \n",
       "0               0.000000                0.000000  \n",
       "1               0.000000                0.000000  \n",
       "2               0.000000                9.836735  \n",
       "3               0.000000                9.960000  \n",
       "4               0.000000               10.280000  \n",
       "...                  ...                     ...  \n",
       "643685          0.000000                0.000000  \n",
       "643686          0.000000                7.121212  \n",
       "643687          1.705882               23.911765  \n",
       "643688          0.000000                0.000000  \n",
       "643689          0.083333                8.133333  \n",
       "\n",
       "[643690 rows x 164 columns]"
      ]
     },
     "execution_count": 10,
     "metadata": {},
     "output_type": "execute_result"
    }
   ],
   "source": [
    "siab"
   ]
  },
  {
   "cell_type": "markdown",
   "id": "1f87e805",
   "metadata": {
    "papermill": {
     "duration": 0.009914,
     "end_time": "2025-08-19T18:33:21.741077",
     "exception": false,
     "start_time": "2025-08-19T18:33:21.731163",
     "status": "completed"
    },
    "tags": []
   },
   "source": [
    "# Splitting Data and Setting Training Data Size"
   ]
  },
  {
   "cell_type": "code",
   "execution_count": 11,
   "id": "910ae358",
   "metadata": {
    "execution": {
     "iopub.execute_input": "2025-08-19T18:33:21.762931Z",
     "iopub.status.busy": "2025-08-19T18:33:21.762300Z",
     "iopub.status.idle": "2025-08-19T18:33:22.405841Z",
     "shell.execute_reply": "2025-08-19T18:33:22.404850Z"
    },
    "papermill": {
     "duration": 0.656808,
     "end_time": "2025-08-19T18:33:22.407640",
     "exception": false,
     "start_time": "2025-08-19T18:33:21.750832",
     "status": "completed"
    },
    "tags": []
   },
   "outputs": [],
   "source": [
    "from fairness_multiverse.universe import sample_by_year_size\n",
    "\n",
    "siab_train = sample_by_year_size(siab,\n",
    "                               training_year=universe[\"training_year\"],\n",
    "                               training_size=universe[\"training_size\"])"
   ]
  },
  {
   "cell_type": "code",
   "execution_count": 12,
   "id": "919c8ff5",
   "metadata": {
    "execution": {
     "iopub.execute_input": "2025-08-19T18:33:22.452872Z",
     "iopub.status.busy": "2025-08-19T18:33:22.452070Z",
     "iopub.status.idle": "2025-08-19T18:33:22.460816Z",
     "shell.execute_reply": "2025-08-19T18:33:22.459559Z"
    },
    "papermill": {
     "duration": 0.033252,
     "end_time": "2025-08-19T18:33:22.462585",
     "exception": false,
     "start_time": "2025-08-19T18:33:22.429333",
     "status": "completed"
    },
    "tags": []
   },
   "outputs": [
    {
     "data": {
      "text/plain": [
       "(5000, 164)"
      ]
     },
     "execution_count": 12,
     "metadata": {},
     "output_type": "execute_result"
    }
   ],
   "source": [
    "siab_train.shape"
   ]
  },
  {
   "cell_type": "code",
   "execution_count": 13,
   "id": "feb13bf4",
   "metadata": {
    "execution": {
     "iopub.execute_input": "2025-08-19T18:33:22.485569Z",
     "iopub.status.busy": "2025-08-19T18:33:22.485232Z",
     "iopub.status.idle": "2025-08-19T18:33:22.495337Z",
     "shell.execute_reply": "2025-08-19T18:33:22.494394Z"
    },
    "papermill": {
     "duration": 0.023596,
     "end_time": "2025-08-19T18:33:22.496905",
     "exception": false,
     "start_time": "2025-08-19T18:33:22.473309",
     "status": "completed"
    },
    "tags": []
   },
   "outputs": [
    {
     "data": {
      "text/plain": [
       "year\n",
       "2012    1667\n",
       "2013    1667\n",
       "2014    1666\n",
       "dtype: int64"
      ]
     },
     "metadata": {},
     "output_type": "display_data"
    }
   ],
   "source": [
    "display(siab_train.groupby(\"year\").size())"
   ]
  },
  {
   "cell_type": "code",
   "execution_count": 14,
   "id": "0997782f",
   "metadata": {
    "execution": {
     "iopub.execute_input": "2025-08-19T18:33:22.520320Z",
     "iopub.status.busy": "2025-08-19T18:33:22.519980Z",
     "iopub.status.idle": "2025-08-19T18:33:22.813864Z",
     "shell.execute_reply": "2025-08-19T18:33:22.812341Z"
    },
    "papermill": {
     "duration": 0.308048,
     "end_time": "2025-08-19T18:33:22.815929",
     "exception": false,
     "start_time": "2025-08-19T18:33:22.507881",
     "status": "completed"
    },
    "tags": []
   },
   "outputs": [],
   "source": [
    "#siab_train = siab_s[siab_s.year < 2015]\n",
    "siab_calib = siab[siab.year == 2015]\n",
    "siab_test = siab[siab.year == 2016]"
   ]
  },
  {
   "cell_type": "code",
   "execution_count": 15,
   "id": "2c1e4012",
   "metadata": {
    "execution": {
     "iopub.execute_input": "2025-08-19T18:33:22.861129Z",
     "iopub.status.busy": "2025-08-19T18:33:22.858899Z",
     "iopub.status.idle": "2025-08-19T18:33:22.868911Z",
     "shell.execute_reply": "2025-08-19T18:33:22.867461Z"
    },
    "papermill": {
     "duration": 0.026563,
     "end_time": "2025-08-19T18:33:22.870498",
     "exception": false,
     "start_time": "2025-08-19T18:33:22.843935",
     "status": "completed"
    },
    "tags": []
   },
   "outputs": [],
   "source": [
    "#siab_calib.shape"
   ]
  },
  {
   "cell_type": "code",
   "execution_count": 16,
   "id": "f66b54ca",
   "metadata": {
    "execution": {
     "iopub.execute_input": "2025-08-19T18:33:22.914589Z",
     "iopub.status.busy": "2025-08-19T18:33:22.913497Z",
     "iopub.status.idle": "2025-08-19T18:33:22.921642Z",
     "shell.execute_reply": "2025-08-19T18:33:22.920235Z"
    },
    "papermill": {
     "duration": 0.041188,
     "end_time": "2025-08-19T18:33:22.926189",
     "exception": false,
     "start_time": "2025-08-19T18:33:22.885001",
     "status": "completed"
    },
    "tags": []
   },
   "outputs": [],
   "source": [
    "#siab_test.shape"
   ]
  },
  {
   "cell_type": "code",
   "execution_count": 17,
   "id": "27e4384d",
   "metadata": {
    "execution": {
     "iopub.execute_input": "2025-08-19T18:33:22.957019Z",
     "iopub.status.busy": "2025-08-19T18:33:22.956347Z",
     "iopub.status.idle": "2025-08-19T18:33:22.965123Z",
     "shell.execute_reply": "2025-08-19T18:33:22.964179Z"
    },
    "papermill": {
     "duration": 0.024411,
     "end_time": "2025-08-19T18:33:22.967682",
     "exception": false,
     "start_time": "2025-08-19T18:33:22.943271",
     "status": "completed"
    },
    "tags": []
   },
   "outputs": [],
   "source": [
    "X_train = siab_train.iloc[:,4:164]\n",
    "y_train = siab_train.iloc[:, [3]]"
   ]
  },
  {
   "cell_type": "code",
   "execution_count": 18,
   "id": "08ee8389",
   "metadata": {
    "execution": {
     "iopub.execute_input": "2025-08-19T18:33:23.042276Z",
     "iopub.status.busy": "2025-08-19T18:33:23.041941Z",
     "iopub.status.idle": "2025-08-19T18:33:23.101593Z",
     "shell.execute_reply": "2025-08-19T18:33:23.100448Z"
    },
    "papermill": {
     "duration": 0.081519,
     "end_time": "2025-08-19T18:33:23.105320",
     "exception": false,
     "start_time": "2025-08-19T18:33:23.023801",
     "status": "completed"
    },
    "tags": []
   },
   "outputs": [],
   "source": [
    "X_calib = siab_calib.iloc[:,4:164]\n",
    "y_calib = siab_calib.iloc[:, [3]]"
   ]
  },
  {
   "cell_type": "code",
   "execution_count": 19,
   "id": "b7ff42e0",
   "metadata": {
    "execution": {
     "iopub.execute_input": "2025-08-19T18:33:23.150920Z",
     "iopub.status.busy": "2025-08-19T18:33:23.149363Z",
     "iopub.status.idle": "2025-08-19T18:33:23.246077Z",
     "shell.execute_reply": "2025-08-19T18:33:23.244548Z"
    },
    "papermill": {
     "duration": 0.117208,
     "end_time": "2025-08-19T18:33:23.247733",
     "exception": false,
     "start_time": "2025-08-19T18:33:23.130525",
     "status": "completed"
    },
    "tags": []
   },
   "outputs": [],
   "source": [
    "X_test = siab_test.iloc[:,4:164]\n",
    "y_true = siab_test.iloc[:, [3]]"
   ]
  },
  {
   "cell_type": "code",
   "execution_count": 20,
   "id": "0275101e",
   "metadata": {
    "execution": {
     "iopub.execute_input": "2025-08-19T18:33:23.271356Z",
     "iopub.status.busy": "2025-08-19T18:33:23.270903Z",
     "iopub.status.idle": "2025-08-19T18:33:23.432691Z",
     "shell.execute_reply": "2025-08-19T18:33:23.431716Z"
    },
    "papermill": {
     "duration": 0.175365,
     "end_time": "2025-08-19T18:33:23.434441",
     "exception": false,
     "start_time": "2025-08-19T18:33:23.259076",
     "status": "completed"
    },
    "tags": []
   },
   "outputs": [],
   "source": [
    "# Auxiliary data needed downstream in the pipeline\n",
    "\n",
    "org_train = X_train.copy()\n",
    "org_test = X_test.copy()\n",
    "org_calib = X_calib.copy()"
   ]
  },
  {
   "cell_type": "markdown",
   "id": "b461e618",
   "metadata": {
    "papermill": {
     "duration": 0.010395,
     "end_time": "2025-08-19T18:33:23.455669",
     "exception": false,
     "start_time": "2025-08-19T18:33:23.445274",
     "status": "completed"
    },
    "tags": []
   },
   "source": [
    "# Preprocessing Data"
   ]
  },
  {
   "cell_type": "code",
   "execution_count": 21,
   "id": "78e74c4b",
   "metadata": {
    "execution": {
     "iopub.execute_input": "2025-08-19T18:33:23.480834Z",
     "iopub.status.busy": "2025-08-19T18:33:23.479698Z",
     "iopub.status.idle": "2025-08-19T18:33:23.492982Z",
     "shell.execute_reply": "2025-08-19T18:33:23.491637Z"
    },
    "papermill": {
     "duration": 0.028895,
     "end_time": "2025-08-19T18:33:23.494795",
     "exception": false,
     "start_time": "2025-08-19T18:33:23.465900",
     "status": "completed"
    },
    "tags": []
   },
   "outputs": [],
   "source": [
    "# EXCLUDE PROTECTED FEATURES\n",
    "# --------------------------\n",
    "\n",
    "excluded_features = universe[\"exclude_features\"].split(\"-\")\n",
    "excluded_features_dictionary = {\n",
    "    \"nationality\": [\"maxdeutsch1\", \"maxdeutsch.Missing.\"],\n",
    "    \"sex\": [\"frau1\"],\n",
    "    \"age\": [\"age\"],\n",
    "}"
   ]
  },
  {
   "cell_type": "code",
   "execution_count": 22,
   "id": "f8e63555",
   "metadata": {
    "execution": {
     "iopub.execute_input": "2025-08-19T18:33:23.532988Z",
     "iopub.status.busy": "2025-08-19T18:33:23.532459Z",
     "iopub.status.idle": "2025-08-19T18:33:23.540018Z",
     "shell.execute_reply": "2025-08-19T18:33:23.539061Z"
    },
    "papermill": {
     "duration": 0.030729,
     "end_time": "2025-08-19T18:33:23.541642",
     "exception": false,
     "start_time": "2025-08-19T18:33:23.510913",
     "status": "completed"
    },
    "tags": []
   },
   "outputs": [],
   "source": [
    "excluded_features_columns = [\n",
    "    excluded_features_dictionary[f] for f in excluded_features if len(f) > 0 and f != \"none\"\n",
    "]"
   ]
  },
  {
   "cell_type": "code",
   "execution_count": 23,
   "id": "da781f7c",
   "metadata": {
    "execution": {
     "iopub.execute_input": "2025-08-19T18:33:23.606709Z",
     "iopub.status.busy": "2025-08-19T18:33:23.606010Z",
     "iopub.status.idle": "2025-08-19T18:33:23.613638Z",
     "shell.execute_reply": "2025-08-19T18:33:23.612351Z"
    },
    "papermill": {
     "duration": 0.05827,
     "end_time": "2025-08-19T18:33:23.616393",
     "exception": false,
     "start_time": "2025-08-19T18:33:23.558123",
     "status": "completed"
    },
    "tags": []
   },
   "outputs": [],
   "source": [
    "from fairness_multiverse.universe import flatten_once\n",
    "\n",
    "excluded_features_columns = flatten_once(excluded_features_columns)"
   ]
  },
  {
   "cell_type": "code",
   "execution_count": 24,
   "id": "37fef0f0",
   "metadata": {
    "execution": {
     "iopub.execute_input": "2025-08-19T18:33:23.680380Z",
     "iopub.status.busy": "2025-08-19T18:33:23.679948Z",
     "iopub.status.idle": "2025-08-19T18:33:23.703816Z",
     "shell.execute_reply": "2025-08-19T18:33:23.702726Z"
    },
    "papermill": {
     "duration": 0.053146,
     "end_time": "2025-08-19T18:33:23.706191",
     "exception": false,
     "start_time": "2025-08-19T18:33:23.653045",
     "status": "completed"
    },
    "tags": []
   },
   "outputs": [
    {
     "name": "stdout",
     "output_type": "stream",
     "text": [
      "Dropping features: ['maxdeutsch1', 'maxdeutsch.Missing.', 'frau1']\n"
     ]
    }
   ],
   "source": [
    "if len(excluded_features_columns) > 0:\n",
    "    print(f\"Dropping features: {excluded_features_columns}\")\n",
    "    X_train.drop(excluded_features_columns, axis=1, inplace=True)"
   ]
  },
  {
   "cell_type": "code",
   "execution_count": 25,
   "id": "d029e3e9",
   "metadata": {
    "execution": {
     "iopub.execute_input": "2025-08-19T18:33:23.746473Z",
     "iopub.status.busy": "2025-08-19T18:33:23.745928Z",
     "iopub.status.idle": "2025-08-19T18:33:23.839037Z",
     "shell.execute_reply": "2025-08-19T18:33:23.837695Z"
    },
    "papermill": {
     "duration": 0.112495,
     "end_time": "2025-08-19T18:33:23.840351",
     "exception": false,
     "start_time": "2025-08-19T18:33:23.727856",
     "status": "completed"
    },
    "tags": []
   },
   "outputs": [
    {
     "name": "stdout",
     "output_type": "stream",
     "text": [
      "Dropping features: ['maxdeutsch1', 'maxdeutsch.Missing.', 'frau1']\n"
     ]
    }
   ],
   "source": [
    "if len(excluded_features_columns) > 0:\n",
    "    print(f\"Dropping features: {excluded_features_columns}\")\n",
    "    X_test.drop(excluded_features_columns, axis=1, inplace=True)"
   ]
  },
  {
   "cell_type": "code",
   "execution_count": 26,
   "id": "01d571f0",
   "metadata": {
    "execution": {
     "iopub.execute_input": "2025-08-19T18:33:23.873613Z",
     "iopub.status.busy": "2025-08-19T18:33:23.873025Z",
     "iopub.status.idle": "2025-08-19T18:33:24.141973Z",
     "shell.execute_reply": "2025-08-19T18:33:24.141379Z"
    },
    "papermill": {
     "duration": 0.293929,
     "end_time": "2025-08-19T18:33:24.147278",
     "exception": false,
     "start_time": "2025-08-19T18:33:23.853349",
     "status": "completed"
    },
    "tags": []
   },
   "outputs": [
    {
     "name": "stdout",
     "output_type": "stream",
     "text": [
      "Dropping features: ['maxdeutsch1', 'maxdeutsch.Missing.', 'frau1']\n"
     ]
    }
   ],
   "source": [
    "if len(excluded_features_columns) > 0:\n",
    "    print(f\"Dropping features: {excluded_features_columns}\")\n",
    "    X_calib.drop(excluded_features_columns, axis=1, inplace=True)"
   ]
  },
  {
   "cell_type": "code",
   "execution_count": 27,
   "id": "3037356e",
   "metadata": {
    "execution": {
     "iopub.execute_input": "2025-08-19T18:33:24.182304Z",
     "iopub.status.busy": "2025-08-19T18:33:24.181198Z",
     "iopub.status.idle": "2025-08-19T18:33:24.189717Z",
     "shell.execute_reply": "2025-08-19T18:33:24.188129Z"
    },
    "papermill": {
     "duration": 0.022736,
     "end_time": "2025-08-19T18:33:24.191169",
     "exception": false,
     "start_time": "2025-08-19T18:33:24.168433",
     "status": "completed"
    },
    "tags": []
   },
   "outputs": [],
   "source": [
    "# EXCLUDE CERTAIN SUBGROUPS\n",
    "# -------------------------\n",
    "\n",
    "mode = universe.get(\"exclude_subgroups\", \"keep-all\") # Defaults to \"keep-all\" if the key is missing."
   ]
  },
  {
   "cell_type": "code",
   "execution_count": 28,
   "id": "9d1e63fd",
   "metadata": {
    "execution": {
     "iopub.execute_input": "2025-08-19T18:33:24.231863Z",
     "iopub.status.busy": "2025-08-19T18:33:24.230841Z",
     "iopub.status.idle": "2025-08-19T18:33:24.245712Z",
     "shell.execute_reply": "2025-08-19T18:33:24.244380Z"
    },
    "papermill": {
     "duration": 0.037617,
     "end_time": "2025-08-19T18:33:24.248210",
     "exception": false,
     "start_time": "2025-08-19T18:33:24.210593",
     "status": "completed"
    },
    "tags": []
   },
   "outputs": [],
   "source": [
    "if mode == \"keep-all\":\n",
    "    keep_mask = pd.Series(True, index=org_train.index)\n",
    "\n",
    "elif mode == \"drop-non-german\":\n",
    "    keep_mask = (org_train[\"maxdeutsch1\"] == 1) & (org_train[\"maxdeutsch.Missing.\"] == 0)\n",
    "\n",
    "else:\n",
    "    raise ValueError(f\"Unsupported mode for exclude_subgroups: {mode}\")"
   ]
  },
  {
   "cell_type": "code",
   "execution_count": 29,
   "id": "d3b65474",
   "metadata": {
    "execution": {
     "iopub.execute_input": "2025-08-19T18:33:24.279269Z",
     "iopub.status.busy": "2025-08-19T18:33:24.278520Z",
     "iopub.status.idle": "2025-08-19T18:33:24.292820Z",
     "shell.execute_reply": "2025-08-19T18:33:24.291551Z"
    },
    "papermill": {
     "duration": 0.029481,
     "end_time": "2025-08-19T18:33:24.294444",
     "exception": false,
     "start_time": "2025-08-19T18:33:24.264963",
     "status": "completed"
    },
    "tags": []
   },
   "outputs": [
    {
     "name": "stdout",
     "output_type": "stream",
     "text": [
      "Dropping 665 rows (13.30%) where mode='drop-non-german'\n"
     ]
    }
   ],
   "source": [
    "n_drop = (~keep_mask).sum() # Calculates how many rows are set to be dropped\n",
    "if n_drop > 0:\n",
    "    pct = n_drop / len(keep_mask) * 100\n",
    "    print(f\"Dropping {n_drop} rows ({pct:.2f}%) where mode='{mode}'\")"
   ]
  },
  {
   "cell_type": "code",
   "execution_count": 30,
   "id": "f44389b3",
   "metadata": {
    "execution": {
     "iopub.execute_input": "2025-08-19T18:33:24.320678Z",
     "iopub.status.busy": "2025-08-19T18:33:24.320320Z",
     "iopub.status.idle": "2025-08-19T18:33:24.337041Z",
     "shell.execute_reply": "2025-08-19T18:33:24.336343Z"
    },
    "papermill": {
     "duration": 0.029845,
     "end_time": "2025-08-19T18:33:24.338553",
     "exception": false,
     "start_time": "2025-08-19T18:33:24.308708",
     "status": "completed"
    },
    "tags": []
   },
   "outputs": [],
   "source": [
    "X_train = X_train[keep_mask]"
   ]
  },
  {
   "cell_type": "code",
   "execution_count": 31,
   "id": "ceca8c2a",
   "metadata": {
    "execution": {
     "iopub.execute_input": "2025-08-19T18:33:24.366676Z",
     "iopub.status.busy": "2025-08-19T18:33:24.366078Z",
     "iopub.status.idle": "2025-08-19T18:33:24.373703Z",
     "shell.execute_reply": "2025-08-19T18:33:24.372651Z"
    },
    "papermill": {
     "duration": 0.022835,
     "end_time": "2025-08-19T18:33:24.375745",
     "exception": false,
     "start_time": "2025-08-19T18:33:24.352910",
     "status": "completed"
    },
    "tags": []
   },
   "outputs": [],
   "source": [
    "y_train = y_train[keep_mask]"
   ]
  },
  {
   "cell_type": "markdown",
   "id": "04d31e2f",
   "metadata": {
    "papermill": {
     "duration": 0.026458,
     "end_time": "2025-08-19T18:33:24.416782",
     "exception": false,
     "start_time": "2025-08-19T18:33:24.390324",
     "status": "completed"
    },
    "tags": []
   },
   "source": [
    "# Model Training"
   ]
  },
  {
   "cell_type": "code",
   "execution_count": 32,
   "id": "db991733",
   "metadata": {
    "execution": {
     "iopub.execute_input": "2025-08-19T18:33:24.443427Z",
     "iopub.status.busy": "2025-08-19T18:33:24.443108Z",
     "iopub.status.idle": "2025-08-19T18:33:24.542012Z",
     "shell.execute_reply": "2025-08-19T18:33:24.540942Z"
    },
    "papermill": {
     "duration": 0.116669,
     "end_time": "2025-08-19T18:33:24.546494",
     "exception": false,
     "start_time": "2025-08-19T18:33:24.429825",
     "status": "completed"
    },
    "tags": []
   },
   "outputs": [],
   "source": [
    "from sklearn.linear_model import LogisticRegression\n",
    "from sklearn.ensemble import GradientBoostingClassifier, RandomForestClassifier\n",
    "\n",
    "if (universe[\"model\"] == \"logreg\"):\n",
    "    model = LogisticRegression() #penalty=\"none\", solver=\"newton-cg\", max_iter=1)\n",
    "elif (universe[\"model\"] == \"penalized_logreg\"):\n",
    "    model = LogisticRegression(penalty=\"l2\", C=0.1) #, solver=\"newton-cg\", max_iter=1)\n",
    "elif (universe[\"model\"] == \"rf\"):\n",
    "    model = RandomForestClassifier() # n_estimators=100, n_jobs=-1\n",
    "elif (universe[\"model\"] == \"gbm\"):\n",
    "    model = GradientBoostingClassifier()\n",
    "elif (universe[\"model\"] == \"elasticnet\"):\n",
    "    model = LogisticRegression(penalty = 'elasticnet', solver = 'saga', l1_ratio = 0.5) # max_iter=5000\n",
    "else:\n",
    "    raise \"Unsupported universe.model\""
   ]
  },
  {
   "cell_type": "code",
   "execution_count": 33,
   "id": "a4b5cd25",
   "metadata": {
    "execution": {
     "iopub.execute_input": "2025-08-19T18:33:24.586289Z",
     "iopub.status.busy": "2025-08-19T18:33:24.585446Z",
     "iopub.status.idle": "2025-08-19T18:33:24.599684Z",
     "shell.execute_reply": "2025-08-19T18:33:24.598450Z"
    },
    "papermill": {
     "duration": 0.036251,
     "end_time": "2025-08-19T18:33:24.606788",
     "exception": false,
     "start_time": "2025-08-19T18:33:24.570537",
     "status": "completed"
    },
    "tags": []
   },
   "outputs": [],
   "source": [
    "from sklearn.pipeline import Pipeline\n",
    "from sklearn.preprocessing import StandardScaler\n",
    "\n",
    "model = Pipeline([\n",
    "    #(\"continuous_processor\", continuous_processor),\n",
    "    #(\"categorical_preprocessor\", categorical_preprocessor),\n",
    "    (\"scale\", StandardScaler() if universe[\"scale\"] == \"scale\" else None), \n",
    "    (\"model\", model),\n",
    "])"
   ]
  },
  {
   "cell_type": "code",
   "execution_count": 34,
   "id": "283a904d",
   "metadata": {
    "execution": {
     "iopub.execute_input": "2025-08-19T18:33:24.632993Z",
     "iopub.status.busy": "2025-08-19T18:33:24.632041Z",
     "iopub.status.idle": "2025-08-19T18:33:25.830131Z",
     "shell.execute_reply": "2025-08-19T18:33:25.829301Z"
    },
    "papermill": {
     "duration": 1.213112,
     "end_time": "2025-08-19T18:33:25.831332",
     "exception": false,
     "start_time": "2025-08-19T18:33:24.618220",
     "status": "completed"
    },
    "tags": []
   },
   "outputs": [
    {
     "data": {
      "text/html": [
       "<style>#sk-container-id-1 {color: black;background-color: white;}#sk-container-id-1 pre{padding: 0;}#sk-container-id-1 div.sk-toggleable {background-color: white;}#sk-container-id-1 label.sk-toggleable__label {cursor: pointer;display: block;width: 100%;margin-bottom: 0;padding: 0.3em;box-sizing: border-box;text-align: center;}#sk-container-id-1 label.sk-toggleable__label-arrow:before {content: \"▸\";float: left;margin-right: 0.25em;color: #696969;}#sk-container-id-1 label.sk-toggleable__label-arrow:hover:before {color: black;}#sk-container-id-1 div.sk-estimator:hover label.sk-toggleable__label-arrow:before {color: black;}#sk-container-id-1 div.sk-toggleable__content {max-height: 0;max-width: 0;overflow: hidden;text-align: left;background-color: #f0f8ff;}#sk-container-id-1 div.sk-toggleable__content pre {margin: 0.2em;color: black;border-radius: 0.25em;background-color: #f0f8ff;}#sk-container-id-1 input.sk-toggleable__control:checked~div.sk-toggleable__content {max-height: 200px;max-width: 100%;overflow: auto;}#sk-container-id-1 input.sk-toggleable__control:checked~label.sk-toggleable__label-arrow:before {content: \"▾\";}#sk-container-id-1 div.sk-estimator input.sk-toggleable__control:checked~label.sk-toggleable__label {background-color: #d4ebff;}#sk-container-id-1 div.sk-label input.sk-toggleable__control:checked~label.sk-toggleable__label {background-color: #d4ebff;}#sk-container-id-1 input.sk-hidden--visually {border: 0;clip: rect(1px 1px 1px 1px);clip: rect(1px, 1px, 1px, 1px);height: 1px;margin: -1px;overflow: hidden;padding: 0;position: absolute;width: 1px;}#sk-container-id-1 div.sk-estimator {font-family: monospace;background-color: #f0f8ff;border: 1px dotted black;border-radius: 0.25em;box-sizing: border-box;margin-bottom: 0.5em;}#sk-container-id-1 div.sk-estimator:hover {background-color: #d4ebff;}#sk-container-id-1 div.sk-parallel-item::after {content: \"\";width: 100%;border-bottom: 1px solid gray;flex-grow: 1;}#sk-container-id-1 div.sk-label:hover label.sk-toggleable__label {background-color: #d4ebff;}#sk-container-id-1 div.sk-serial::before {content: \"\";position: absolute;border-left: 1px solid gray;box-sizing: border-box;top: 0;bottom: 0;left: 50%;z-index: 0;}#sk-container-id-1 div.sk-serial {display: flex;flex-direction: column;align-items: center;background-color: white;padding-right: 0.2em;padding-left: 0.2em;position: relative;}#sk-container-id-1 div.sk-item {position: relative;z-index: 1;}#sk-container-id-1 div.sk-parallel {display: flex;align-items: stretch;justify-content: center;background-color: white;position: relative;}#sk-container-id-1 div.sk-item::before, #sk-container-id-1 div.sk-parallel-item::before {content: \"\";position: absolute;border-left: 1px solid gray;box-sizing: border-box;top: 0;bottom: 0;left: 50%;z-index: -1;}#sk-container-id-1 div.sk-parallel-item {display: flex;flex-direction: column;z-index: 1;position: relative;background-color: white;}#sk-container-id-1 div.sk-parallel-item:first-child::after {align-self: flex-end;width: 50%;}#sk-container-id-1 div.sk-parallel-item:last-child::after {align-self: flex-start;width: 50%;}#sk-container-id-1 div.sk-parallel-item:only-child::after {width: 0;}#sk-container-id-1 div.sk-dashed-wrapped {border: 1px dashed gray;margin: 0 0.4em 0.5em 0.4em;box-sizing: border-box;padding-bottom: 0.4em;background-color: white;}#sk-container-id-1 div.sk-label label {font-family: monospace;font-weight: bold;display: inline-block;line-height: 1.2em;}#sk-container-id-1 div.sk-label-container {text-align: center;}#sk-container-id-1 div.sk-container {/* jupyter's `normalize.less` sets `[hidden] { display: none; }` but bootstrap.min.css set `[hidden] { display: none !important; }` so we also need the `!important` here to be able to override the default hidden behavior on the sphinx rendered scikit-learn.org. See: https://github.com/scikit-learn/scikit-learn/issues/21755 */display: inline-block !important;position: relative;}#sk-container-id-1 div.sk-text-repr-fallback {display: none;}</style><div id=\"sk-container-id-1\" class=\"sk-top-container\"><div class=\"sk-text-repr-fallback\"><pre>Pipeline(steps=[(&#x27;scale&#x27;, StandardScaler()),\n",
       "                (&#x27;model&#x27;, RandomForestClassifier())])</pre><b>In a Jupyter environment, please rerun this cell to show the HTML representation or trust the notebook. <br />On GitHub, the HTML representation is unable to render, please try loading this page with nbviewer.org.</b></div><div class=\"sk-container\" hidden><div class=\"sk-item sk-dashed-wrapped\"><div class=\"sk-label-container\"><div class=\"sk-label sk-toggleable\"><input class=\"sk-toggleable__control sk-hidden--visually\" id=\"sk-estimator-id-1\" type=\"checkbox\" ><label for=\"sk-estimator-id-1\" class=\"sk-toggleable__label sk-toggleable__label-arrow\">Pipeline</label><div class=\"sk-toggleable__content\"><pre>Pipeline(steps=[(&#x27;scale&#x27;, StandardScaler()),\n",
       "                (&#x27;model&#x27;, RandomForestClassifier())])</pre></div></div></div><div class=\"sk-serial\"><div class=\"sk-item\"><div class=\"sk-estimator sk-toggleable\"><input class=\"sk-toggleable__control sk-hidden--visually\" id=\"sk-estimator-id-2\" type=\"checkbox\" ><label for=\"sk-estimator-id-2\" class=\"sk-toggleable__label sk-toggleable__label-arrow\">StandardScaler</label><div class=\"sk-toggleable__content\"><pre>StandardScaler()</pre></div></div></div><div class=\"sk-item\"><div class=\"sk-estimator sk-toggleable\"><input class=\"sk-toggleable__control sk-hidden--visually\" id=\"sk-estimator-id-3\" type=\"checkbox\" ><label for=\"sk-estimator-id-3\" class=\"sk-toggleable__label sk-toggleable__label-arrow\">RandomForestClassifier</label><div class=\"sk-toggleable__content\"><pre>RandomForestClassifier()</pre></div></div></div></div></div></div></div>"
      ],
      "text/plain": [
       "Pipeline(steps=[('scale', StandardScaler()),\n",
       "                ('model', RandomForestClassifier())])"
      ]
     },
     "execution_count": 34,
     "metadata": {},
     "output_type": "execute_result"
    }
   ],
   "source": [
    "model.fit(X_train, y_train.values.ravel())"
   ]
  },
  {
   "cell_type": "code",
   "execution_count": 35,
   "id": "6e15e313",
   "metadata": {
    "execution": {
     "iopub.execute_input": "2025-08-19T18:33:25.875082Z",
     "iopub.status.busy": "2025-08-19T18:33:25.871291Z",
     "iopub.status.idle": "2025-08-19T18:33:27.912794Z",
     "shell.execute_reply": "2025-08-19T18:33:27.911396Z"
    },
    "papermill": {
     "duration": 2.058687,
     "end_time": "2025-08-19T18:33:27.915184",
     "exception": false,
     "start_time": "2025-08-19T18:33:25.856497",
     "status": "completed"
    },
    "tags": []
   },
   "outputs": [
    {
     "data": {
      "text/plain": [
       "0.8663471184929217"
      ]
     },
     "execution_count": 35,
     "metadata": {},
     "output_type": "execute_result"
    }
   ],
   "source": [
    "from fairness_multiverse.universe import predict_w_threshold\n",
    "\n",
    "probs_test = model.predict_proba(X_test)\n",
    "\n",
    "'''\n",
    "Below code returns a boolean array (or binary 0/1 array depending on how it’s used) where each element \n",
    "is True if the probability of class 1 is greater than or equal to the threshold, and False otherwise.\n",
    "'''\n",
    "y_pred_default = predict_w_threshold(probs_test, 0.5)\n",
    "\n",
    "from sklearn.metrics import accuracy_score\n",
    "\n",
    "# Naive prediction\n",
    "accuracy_score(y_true = y_true, y_pred = y_pred_default)"
   ]
  },
  {
   "cell_type": "code",
   "execution_count": 36,
   "id": "6f14067c",
   "metadata": {
    "execution": {
     "iopub.execute_input": "2025-08-19T18:33:27.944631Z",
     "iopub.status.busy": "2025-08-19T18:33:27.944241Z",
     "iopub.status.idle": "2025-08-19T18:33:29.757538Z",
     "shell.execute_reply": "2025-08-19T18:33:29.756532Z"
    },
    "papermill": {
     "duration": 1.829364,
     "end_time": "2025-08-19T18:33:29.760233",
     "exception": false,
     "start_time": "2025-08-19T18:33:27.930869",
     "status": "completed"
    },
    "tags": []
   },
   "outputs": [
    {
     "data": {
      "text/plain": [
       "array([0, 0, 0, ..., 0, 0, 0])"
      ]
     },
     "execution_count": 36,
     "metadata": {},
     "output_type": "execute_result"
    }
   ],
   "source": [
    "model.predict(X_test)"
   ]
  },
  {
   "cell_type": "markdown",
   "id": "3759920c",
   "metadata": {
    "papermill": {
     "duration": 0.014465,
     "end_time": "2025-08-19T18:33:29.787231",
     "exception": false,
     "start_time": "2025-08-19T18:33:29.772766",
     "status": "completed"
    },
    "tags": []
   },
   "source": [
    "# Conformal Prediction"
   ]
  },
  {
   "cell_type": "code",
   "execution_count": 37,
   "id": "14b27f59",
   "metadata": {
    "execution": {
     "iopub.execute_input": "2025-08-19T18:33:29.811823Z",
     "iopub.status.busy": "2025-08-19T18:33:29.811469Z",
     "iopub.status.idle": "2025-08-19T18:33:29.817375Z",
     "shell.execute_reply": "2025-08-19T18:33:29.816525Z"
    },
    "papermill": {
     "duration": 0.020057,
     "end_time": "2025-08-19T18:33:29.818792",
     "exception": false,
     "start_time": "2025-08-19T18:33:29.798735",
     "status": "completed"
    },
    "tags": []
   },
   "outputs": [],
   "source": [
    "# Miscoverage level for conformal prediction (10% allowed error rate => 90% target coverage)\n",
    "alpha = 0.1"
   ]
  },
  {
   "cell_type": "code",
   "execution_count": 38,
   "id": "59102472",
   "metadata": {
    "execution": {
     "iopub.execute_input": "2025-08-19T18:33:29.843883Z",
     "iopub.status.busy": "2025-08-19T18:33:29.843318Z",
     "iopub.status.idle": "2025-08-19T18:33:31.643663Z",
     "shell.execute_reply": "2025-08-19T18:33:31.642408Z"
    },
    "papermill": {
     "duration": 1.816142,
     "end_time": "2025-08-19T18:33:31.646742",
     "exception": false,
     "start_time": "2025-08-19T18:33:29.830600",
     "status": "completed"
    },
    "tags": []
   },
   "outputs": [],
   "source": [
    "probs_calib = model.predict_proba(X_calib)"
   ]
  },
  {
   "cell_type": "code",
   "execution_count": 39,
   "id": "a792d4dd",
   "metadata": {
    "execution": {
     "iopub.execute_input": "2025-08-19T18:33:31.694558Z",
     "iopub.status.busy": "2025-08-19T18:33:31.692987Z",
     "iopub.status.idle": "2025-08-19T18:33:31.704225Z",
     "shell.execute_reply": "2025-08-19T18:33:31.703158Z"
    },
    "papermill": {
     "duration": 0.030645,
     "end_time": "2025-08-19T18:33:31.705915",
     "exception": false,
     "start_time": "2025-08-19T18:33:31.675270",
     "status": "completed"
    },
    "tags": []
   },
   "outputs": [],
   "source": [
    "y_calib = y_calib.values.ravel().astype(int)"
   ]
  },
  {
   "cell_type": "code",
   "execution_count": 40,
   "id": "650fd033",
   "metadata": {
    "execution": {
     "iopub.execute_input": "2025-08-19T18:33:31.734156Z",
     "iopub.status.busy": "2025-08-19T18:33:31.732666Z",
     "iopub.status.idle": "2025-08-19T18:33:31.747320Z",
     "shell.execute_reply": "2025-08-19T18:33:31.745196Z"
    },
    "papermill": {
     "duration": 0.03087,
     "end_time": "2025-08-19T18:33:31.749115",
     "exception": false,
     "start_time": "2025-08-19T18:33:31.718245",
     "status": "completed"
    },
    "tags": []
   },
   "outputs": [],
   "source": [
    "from fairness_multiverse.conformal import compute_nc_scores\n",
    "\n",
    "# Compute nonconformity scores on calibration set (1 - probability of true class)\n",
    "nc_scores = compute_nc_scores(probs_calib, y_calib)"
   ]
  },
  {
   "cell_type": "code",
   "execution_count": 41,
   "id": "28ada44c",
   "metadata": {
    "execution": {
     "iopub.execute_input": "2025-08-19T18:33:31.790681Z",
     "iopub.status.busy": "2025-08-19T18:33:31.789428Z",
     "iopub.status.idle": "2025-08-19T18:33:31.798013Z",
     "shell.execute_reply": "2025-08-19T18:33:31.797048Z"
    },
    "papermill": {
     "duration": 0.036041,
     "end_time": "2025-08-19T18:33:31.800561",
     "exception": false,
     "start_time": "2025-08-19T18:33:31.764520",
     "status": "completed"
    },
    "tags": []
   },
   "outputs": [],
   "source": [
    "from fairness_multiverse.conformal import find_threshold\n",
    "\n",
    "# Find conformal threshold q_hat for the given alpha (split conformal method)\n",
    "q_hat = find_threshold(nc_scores, alpha)"
   ]
  },
  {
   "cell_type": "code",
   "execution_count": 42,
   "id": "df56469e",
   "metadata": {
    "execution": {
     "iopub.execute_input": "2025-08-19T18:33:31.828226Z",
     "iopub.status.busy": "2025-08-19T18:33:31.827739Z",
     "iopub.status.idle": "2025-08-19T18:33:31.834145Z",
     "shell.execute_reply": "2025-08-19T18:33:31.833337Z"
    },
    "papermill": {
     "duration": 0.020712,
     "end_time": "2025-08-19T18:33:31.835588",
     "exception": false,
     "start_time": "2025-08-19T18:33:31.814876",
     "status": "completed"
    },
    "tags": []
   },
   "outputs": [
    {
     "data": {
      "text/plain": [
       "0.6699999999999999"
      ]
     },
     "execution_count": 42,
     "metadata": {},
     "output_type": "execute_result"
    }
   ],
   "source": [
    "q_hat"
   ]
  },
  {
   "cell_type": "code",
   "execution_count": 43,
   "id": "aa1f5faa",
   "metadata": {
    "execution": {
     "iopub.execute_input": "2025-08-19T18:33:31.860394Z",
     "iopub.status.busy": "2025-08-19T18:33:31.859926Z",
     "iopub.status.idle": "2025-08-19T18:33:34.082999Z",
     "shell.execute_reply": "2025-08-19T18:33:34.082143Z"
    },
    "papermill": {
     "duration": 2.237578,
     "end_time": "2025-08-19T18:33:34.084802",
     "exception": false,
     "start_time": "2025-08-19T18:33:31.847224",
     "status": "completed"
    },
    "tags": []
   },
   "outputs": [],
   "source": [
    "from fairness_multiverse.conformal import predict_conformal_sets\n",
    "\n",
    "# Generate prediction sets for each test example\n",
    "pred_sets = predict_conformal_sets(model, X_test, q_hat)"
   ]
  },
  {
   "cell_type": "code",
   "execution_count": 44,
   "id": "97f67a6b",
   "metadata": {
    "execution": {
     "iopub.execute_input": "2025-08-19T18:33:34.123488Z",
     "iopub.status.busy": "2025-08-19T18:33:34.121919Z",
     "iopub.status.idle": "2025-08-19T18:33:34.131822Z",
     "shell.execute_reply": "2025-08-19T18:33:34.130192Z"
    },
    "papermill": {
     "duration": 0.030007,
     "end_time": "2025-08-19T18:33:34.133318",
     "exception": false,
     "start_time": "2025-08-19T18:33:34.103311",
     "status": "completed"
    },
    "tags": []
   },
   "outputs": [],
   "source": [
    "y_true = y_true.squeeze()"
   ]
  },
  {
   "cell_type": "code",
   "execution_count": 45,
   "id": "e700e9a7",
   "metadata": {
    "execution": {
     "iopub.execute_input": "2025-08-19T18:33:34.158229Z",
     "iopub.status.busy": "2025-08-19T18:33:34.157638Z",
     "iopub.status.idle": "2025-08-19T18:33:34.650109Z",
     "shell.execute_reply": "2025-08-19T18:33:34.649398Z"
    },
    "papermill": {
     "duration": 0.507863,
     "end_time": "2025-08-19T18:33:34.652775",
     "exception": false,
     "start_time": "2025-08-19T18:33:34.144912",
     "status": "completed"
    },
    "tags": []
   },
   "outputs": [],
   "source": [
    "from fairness_multiverse.conformal import evaluate_sets\n",
    "\n",
    "# Evaluate coverage and average set size on test data\n",
    "metrics = evaluate_sets(pred_sets, y_true)"
   ]
  },
  {
   "cell_type": "markdown",
   "id": "efbacec0",
   "metadata": {
    "papermill": {
     "duration": 0.014591,
     "end_time": "2025-08-19T18:33:34.697127",
     "exception": false,
     "start_time": "2025-08-19T18:33:34.682536",
     "status": "completed"
    },
    "tags": []
   },
   "source": [
    "# CP Metrics"
   ]
  },
  {
   "cell_type": "code",
   "execution_count": 46,
   "id": "9de55fb1",
   "metadata": {
    "execution": {
     "iopub.execute_input": "2025-08-19T18:33:34.741048Z",
     "iopub.status.busy": "2025-08-19T18:33:34.740561Z",
     "iopub.status.idle": "2025-08-19T18:33:34.746107Z",
     "shell.execute_reply": "2025-08-19T18:33:34.745507Z"
    },
    "papermill": {
     "duration": 0.022313,
     "end_time": "2025-08-19T18:33:34.748844",
     "exception": false,
     "start_time": "2025-08-19T18:33:34.726531",
     "status": "completed"
    },
    "tags": []
   },
   "outputs": [
    {
     "data": {
      "text/plain": [
       "{'coverage': 0.9122728792776725, 'avg_size': 1.1418348010255266}"
      ]
     },
     "execution_count": 46,
     "metadata": {},
     "output_type": "execute_result"
    }
   ],
   "source": [
    "metrics"
   ]
  },
  {
   "cell_type": "code",
   "execution_count": 47,
   "id": "64c340a1",
   "metadata": {
    "execution": {
     "iopub.execute_input": "2025-08-19T18:33:34.846482Z",
     "iopub.status.busy": "2025-08-19T18:33:34.846011Z",
     "iopub.status.idle": "2025-08-19T18:33:34.851186Z",
     "shell.execute_reply": "2025-08-19T18:33:34.850558Z"
    },
    "papermill": {
     "duration": 0.019236,
     "end_time": "2025-08-19T18:33:34.852696",
     "exception": false,
     "start_time": "2025-08-19T18:33:34.833460",
     "status": "completed"
    },
    "tags": []
   },
   "outputs": [],
   "source": [
    "example_universe = universe.copy()\n",
    "universe_training_year = example_universe.get(\"training_year\")\n",
    "universe_training_size = example_universe.get(\"training_size\")\n",
    "universe_scale = example_universe.get(\"scale\")\n",
    "universe_model = example_universe.get(\"model\")\n",
    "universe_exclude_features = example_universe.get(\"exclude_features\")\n",
    "universe_exclude_subgroups = example_universe.get(\"exclude_subgroups\")"
   ]
  },
  {
   "cell_type": "code",
   "execution_count": 48,
   "id": "dbb53cb4",
   "metadata": {
    "execution": {
     "iopub.execute_input": "2025-08-19T18:33:34.877761Z",
     "iopub.status.busy": "2025-08-19T18:33:34.877370Z",
     "iopub.status.idle": "2025-08-19T18:33:34.882449Z",
     "shell.execute_reply": "2025-08-19T18:33:34.881684Z"
    },
    "papermill": {
     "duration": 0.019059,
     "end_time": "2025-08-19T18:33:34.883762",
     "exception": false,
     "start_time": "2025-08-19T18:33:34.864703",
     "status": "completed"
    },
    "tags": []
   },
   "outputs": [],
   "source": [
    "cp_metrics_dict = {\n",
    "    \"universe_id\": [universe_id],\n",
    "    \"universe_training_year\": [universe_training_year],\n",
    "    \"universe_training_size\": [universe_training_size],\n",
    "    \"universe_scale\": [universe_scale],\n",
    "    \"universe_model\": [universe_model],\n",
    "    \"universe_exclude_features\": [universe_exclude_features],\n",
    "    \"universe_exclude_subgroups\": [universe_exclude_subgroups],\n",
    "    \"q_hat\": [q_hat],\n",
    "    \"coverage\": [metrics[\"coverage\"]],\n",
    "    \"avg_size\": [metrics[\"avg_size\"]],\n",
    "}"
   ]
  },
  {
   "cell_type": "code",
   "execution_count": 49,
   "id": "0d70d4b2",
   "metadata": {
    "execution": {
     "iopub.execute_input": "2025-08-19T18:33:34.908674Z",
     "iopub.status.busy": "2025-08-19T18:33:34.908207Z",
     "iopub.status.idle": "2025-08-19T18:33:34.914104Z",
     "shell.execute_reply": "2025-08-19T18:33:34.913332Z"
    },
    "papermill": {
     "duration": 0.019983,
     "end_time": "2025-08-19T18:33:34.915295",
     "exception": false,
     "start_time": "2025-08-19T18:33:34.895312",
     "status": "completed"
    },
    "tags": []
   },
   "outputs": [],
   "source": [
    "cp_metrics_df = pd.DataFrame(cp_metrics_dict)"
   ]
  },
  {
   "cell_type": "code",
   "execution_count": 50,
   "id": "b494403c",
   "metadata": {
    "execution": {
     "iopub.execute_input": "2025-08-19T18:33:34.939514Z",
     "iopub.status.busy": "2025-08-19T18:33:34.939108Z",
     "iopub.status.idle": "2025-08-19T18:33:34.953260Z",
     "shell.execute_reply": "2025-08-19T18:33:34.951287Z"
    },
    "papermill": {
     "duration": 0.027777,
     "end_time": "2025-08-19T18:33:34.954571",
     "exception": false,
     "start_time": "2025-08-19T18:33:34.926794",
     "status": "completed"
    },
    "tags": []
   },
   "outputs": [
    {
     "data": {
      "text/html": [
       "<div>\n",
       "<style scoped>\n",
       "    .dataframe tbody tr th:only-of-type {\n",
       "        vertical-align: middle;\n",
       "    }\n",
       "\n",
       "    .dataframe tbody tr th {\n",
       "        vertical-align: top;\n",
       "    }\n",
       "\n",
       "    .dataframe thead th {\n",
       "        text-align: right;\n",
       "    }\n",
       "</style>\n",
       "<table border=\"1\" class=\"dataframe\">\n",
       "  <thead>\n",
       "    <tr style=\"text-align: right;\">\n",
       "      <th></th>\n",
       "      <th>universe_id</th>\n",
       "      <th>universe_training_year</th>\n",
       "      <th>universe_training_size</th>\n",
       "      <th>universe_scale</th>\n",
       "      <th>universe_model</th>\n",
       "      <th>universe_exclude_features</th>\n",
       "      <th>universe_exclude_subgroups</th>\n",
       "      <th>q_hat</th>\n",
       "      <th>coverage</th>\n",
       "      <th>avg_size</th>\n",
       "    </tr>\n",
       "  </thead>\n",
       "  <tbody>\n",
       "    <tr>\n",
       "      <th>0</th>\n",
       "      <td>b46246eb21aea6b3a0a281155946e643</td>\n",
       "      <td>2012_14</td>\n",
       "      <td>5k</td>\n",
       "      <td>scale</td>\n",
       "      <td>rf</td>\n",
       "      <td>nationality-sex</td>\n",
       "      <td>drop-non-german</td>\n",
       "      <td>0.67</td>\n",
       "      <td>0.912273</td>\n",
       "      <td>1.141835</td>\n",
       "    </tr>\n",
       "  </tbody>\n",
       "</table>\n",
       "</div>"
      ],
      "text/plain": [
       "                        universe_id universe_training_year  \\\n",
       "0  b46246eb21aea6b3a0a281155946e643                2012_14   \n",
       "\n",
       "  universe_training_size universe_scale universe_model  \\\n",
       "0                     5k          scale             rf   \n",
       "\n",
       "  universe_exclude_features universe_exclude_subgroups  q_hat  coverage  \\\n",
       "0           nationality-sex            drop-non-german   0.67  0.912273   \n",
       "\n",
       "   avg_size  \n",
       "0  1.141835  "
      ]
     },
     "execution_count": 50,
     "metadata": {},
     "output_type": "execute_result"
    }
   ],
   "source": [
    "cp_metrics_df"
   ]
  },
  {
   "cell_type": "markdown",
   "id": "ed608b0b",
   "metadata": {
    "papermill": {
     "duration": 0.011744,
     "end_time": "2025-08-19T18:33:34.978717",
     "exception": false,
     "start_time": "2025-08-19T18:33:34.966973",
     "status": "completed"
    },
    "tags": []
   },
   "source": [
    "Conditional coverage & looking at subgroups"
   ]
  },
  {
   "cell_type": "code",
   "execution_count": 51,
   "id": "8968c366",
   "metadata": {
    "execution": {
     "iopub.execute_input": "2025-08-19T18:33:35.003770Z",
     "iopub.status.busy": "2025-08-19T18:33:35.003316Z",
     "iopub.status.idle": "2025-08-19T18:33:35.290078Z",
     "shell.execute_reply": "2025-08-19T18:33:35.289301Z"
    },
    "papermill": {
     "duration": 0.301158,
     "end_time": "2025-08-19T18:33:35.291535",
     "exception": false,
     "start_time": "2025-08-19T18:33:34.990377",
     "status": "completed"
    },
    "tags": []
   },
   "outputs": [],
   "source": [
    "from fairness_multiverse.conformal import build_cp_groups\n",
    "\n",
    "cp_groups_df = build_cp_groups(pred_sets, y_true, X_test.index, org_test)"
   ]
  },
  {
   "cell_type": "code",
   "execution_count": 52,
   "id": "292ddabf",
   "metadata": {
    "execution": {
     "iopub.execute_input": "2025-08-19T18:33:35.317894Z",
     "iopub.status.busy": "2025-08-19T18:33:35.317423Z",
     "iopub.status.idle": "2025-08-19T18:33:36.147783Z",
     "shell.execute_reply": "2025-08-19T18:33:36.146644Z"
    },
    "papermill": {
     "duration": 0.845498,
     "end_time": "2025-08-19T18:33:36.149843",
     "exception": false,
     "start_time": "2025-08-19T18:33:35.304345",
     "status": "completed"
    },
    "tags": []
   },
   "outputs": [],
   "source": [
    "# Define covered = 1 if true_label is in the predicted set\n",
    "cp_groups_df['covered'] = cp_groups_df.apply(\n",
    "    lambda r: int(r['true_label'] in r['pred_set']),\n",
    "    axis=1\n",
    ")"
   ]
  },
  {
   "cell_type": "code",
   "execution_count": 53,
   "id": "3a261692",
   "metadata": {
    "execution": {
     "iopub.execute_input": "2025-08-19T18:33:36.206588Z",
     "iopub.status.busy": "2025-08-19T18:33:36.205595Z",
     "iopub.status.idle": "2025-08-19T18:33:36.229449Z",
     "shell.execute_reply": "2025-08-19T18:33:36.228666Z"
    },
    "papermill": {
     "duration": 0.052804,
     "end_time": "2025-08-19T18:33:36.232452",
     "exception": false,
     "start_time": "2025-08-19T18:33:36.179648",
     "status": "completed"
    },
    "tags": []
   },
   "outputs": [],
   "source": [
    "subgroups = ['frau1','nongerman','nongerman_male','nongerman_female']\n",
    "\n",
    "# Conditional coverage for subgroup==1\n",
    "cond_coverage = {\n",
    "    g: cp_groups_df.loc[cp_groups_df[g]==1, 'covered'].mean()\n",
    "    for g in subgroups\n",
    "}"
   ]
  },
  {
   "cell_type": "code",
   "execution_count": 54,
   "id": "894fd600",
   "metadata": {
    "execution": {
     "iopub.execute_input": "2025-08-19T18:33:36.277412Z",
     "iopub.status.busy": "2025-08-19T18:33:36.276469Z",
     "iopub.status.idle": "2025-08-19T18:33:36.287274Z",
     "shell.execute_reply": "2025-08-19T18:33:36.285950Z"
    },
    "papermill": {
     "duration": 0.027053,
     "end_time": "2025-08-19T18:33:36.288924",
     "exception": false,
     "start_time": "2025-08-19T18:33:36.261871",
     "status": "completed"
    },
    "tags": []
   },
   "outputs": [
    {
     "data": {
      "text/plain": [
       "{'frau1': 0.9075347081816957,\n",
       " 'nongerman': 0.907539437489474,\n",
       " 'nongerman_male': 0.9258758893992615,\n",
       " 'nongerman_female': 0.8771982116244411}"
      ]
     },
     "execution_count": 54,
     "metadata": {},
     "output_type": "execute_result"
    }
   ],
   "source": [
    "cond_coverage"
   ]
  },
  {
   "cell_type": "code",
   "execution_count": 55,
   "id": "942895c7",
   "metadata": {
    "execution": {
     "iopub.execute_input": "2025-08-19T18:33:36.317896Z",
     "iopub.status.busy": "2025-08-19T18:33:36.317011Z",
     "iopub.status.idle": "2025-08-19T18:33:36.328313Z",
     "shell.execute_reply": "2025-08-19T18:33:36.327127Z"
    },
    "papermill": {
     "duration": 0.029625,
     "end_time": "2025-08-19T18:33:36.333150",
     "exception": false,
     "start_time": "2025-08-19T18:33:36.303525",
     "status": "completed"
    },
    "tags": []
   },
   "outputs": [],
   "source": [
    "for subgroup, cov in cond_coverage.items():\n",
    "    cp_metrics_df[f\"cov_{subgroup}\"] = cov"
   ]
  },
  {
   "cell_type": "code",
   "execution_count": 56,
   "id": "3970120f",
   "metadata": {
    "execution": {
     "iopub.execute_input": "2025-08-19T18:33:36.359112Z",
     "iopub.status.busy": "2025-08-19T18:33:36.358356Z",
     "iopub.status.idle": "2025-08-19T18:33:36.377442Z",
     "shell.execute_reply": "2025-08-19T18:33:36.376411Z"
    },
    "papermill": {
     "duration": 0.033502,
     "end_time": "2025-08-19T18:33:36.378810",
     "exception": false,
     "start_time": "2025-08-19T18:33:36.345308",
     "status": "completed"
    },
    "tags": []
   },
   "outputs": [
    {
     "data": {
      "text/html": [
       "<div>\n",
       "<style scoped>\n",
       "    .dataframe tbody tr th:only-of-type {\n",
       "        vertical-align: middle;\n",
       "    }\n",
       "\n",
       "    .dataframe tbody tr th {\n",
       "        vertical-align: top;\n",
       "    }\n",
       "\n",
       "    .dataframe thead th {\n",
       "        text-align: right;\n",
       "    }\n",
       "</style>\n",
       "<table border=\"1\" class=\"dataframe\">\n",
       "  <thead>\n",
       "    <tr style=\"text-align: right;\">\n",
       "      <th></th>\n",
       "      <th>universe_id</th>\n",
       "      <th>universe_training_year</th>\n",
       "      <th>universe_training_size</th>\n",
       "      <th>universe_scale</th>\n",
       "      <th>universe_model</th>\n",
       "      <th>universe_exclude_features</th>\n",
       "      <th>universe_exclude_subgroups</th>\n",
       "      <th>q_hat</th>\n",
       "      <th>coverage</th>\n",
       "      <th>avg_size</th>\n",
       "      <th>cov_frau1</th>\n",
       "      <th>cov_nongerman</th>\n",
       "      <th>cov_nongerman_male</th>\n",
       "      <th>cov_nongerman_female</th>\n",
       "    </tr>\n",
       "  </thead>\n",
       "  <tbody>\n",
       "    <tr>\n",
       "      <th>0</th>\n",
       "      <td>b46246eb21aea6b3a0a281155946e643</td>\n",
       "      <td>2012_14</td>\n",
       "      <td>5k</td>\n",
       "      <td>scale</td>\n",
       "      <td>rf</td>\n",
       "      <td>nationality-sex</td>\n",
       "      <td>drop-non-german</td>\n",
       "      <td>0.67</td>\n",
       "      <td>0.912273</td>\n",
       "      <td>1.141835</td>\n",
       "      <td>0.907535</td>\n",
       "      <td>0.907539</td>\n",
       "      <td>0.925876</td>\n",
       "      <td>0.877198</td>\n",
       "    </tr>\n",
       "  </tbody>\n",
       "</table>\n",
       "</div>"
      ],
      "text/plain": [
       "                        universe_id universe_training_year  \\\n",
       "0  b46246eb21aea6b3a0a281155946e643                2012_14   \n",
       "\n",
       "  universe_training_size universe_scale universe_model  \\\n",
       "0                     5k          scale             rf   \n",
       "\n",
       "  universe_exclude_features universe_exclude_subgroups  q_hat  coverage  \\\n",
       "0           nationality-sex            drop-non-german   0.67  0.912273   \n",
       "\n",
       "   avg_size  cov_frau1  cov_nongerman  cov_nongerman_male  \\\n",
       "0  1.141835   0.907535       0.907539            0.925876   \n",
       "\n",
       "   cov_nongerman_female  \n",
       "0              0.877198  "
      ]
     },
     "execution_count": 56,
     "metadata": {},
     "output_type": "execute_result"
    }
   ],
   "source": [
    "cp_metrics_df"
   ]
  },
  {
   "cell_type": "markdown",
   "id": "3fc519cc",
   "metadata": {
    "papermill": {
     "duration": 0.012965,
     "end_time": "2025-08-19T18:33:36.410552",
     "exception": false,
     "start_time": "2025-08-19T18:33:36.397587",
     "status": "completed"
    },
    "tags": []
   },
   "source": [
    "# (Fairness) Metrics"
   ]
  },
  {
   "cell_type": "code",
   "execution_count": 57,
   "id": "a2e5e155",
   "metadata": {
    "execution": {
     "iopub.execute_input": "2025-08-19T18:33:36.436646Z",
     "iopub.status.busy": "2025-08-19T18:33:36.436053Z",
     "iopub.status.idle": "2025-08-19T18:33:36.457112Z",
     "shell.execute_reply": "2025-08-19T18:33:36.456235Z"
    },
    "papermill": {
     "duration": 0.035616,
     "end_time": "2025-08-19T18:33:36.458569",
     "exception": false,
     "start_time": "2025-08-19T18:33:36.422953",
     "status": "completed"
    },
    "tags": []
   },
   "outputs": [],
   "source": [
    "colname_to_bin = \"maxdeutsch1\"\n",
    "majority_value = org_train[colname_to_bin].mode()[0]\n",
    "\n",
    "org_test[\"majmin\"] = np.where(org_test[colname_to_bin] == majority_value, \"majority\", \"minority\")"
   ]
  },
  {
   "cell_type": "code",
   "execution_count": 58,
   "id": "17e3e4d5",
   "metadata": {
    "execution": {
     "iopub.execute_input": "2025-08-19T18:33:36.491667Z",
     "iopub.status.busy": "2025-08-19T18:33:36.491136Z",
     "iopub.status.idle": "2025-08-19T18:33:38.165190Z",
     "shell.execute_reply": "2025-08-19T18:33:38.164112Z"
    },
    "papermill": {
     "duration": 1.689446,
     "end_time": "2025-08-19T18:33:38.166864",
     "exception": false,
     "start_time": "2025-08-19T18:33:36.477418",
     "status": "completed"
    },
    "tags": []
   },
   "outputs": [],
   "source": [
    "example_universe = universe.copy()\n",
    "example_universe[\"cutoff\"] = example_universe[\"cutoff\"][0]\n",
    "example_universe[\"eval_fairness_grouping\"] = example_universe[\"eval_fairness_grouping\"][0]\n",
    "fairness_dict, metric_frame = universe_analysis.compute_metrics(\n",
    "    example_universe,\n",
    "    y_pred_prob=probs_test,\n",
    "    y_test=y_true,\n",
    "    org_test=org_test,\n",
    ")"
   ]
  },
  {
   "cell_type": "markdown",
   "id": "1fb7a0e9",
   "metadata": {
    "papermill": {
     "duration": 0.0143,
     "end_time": "2025-08-19T18:33:38.200193",
     "exception": false,
     "start_time": "2025-08-19T18:33:38.185893",
     "status": "completed"
    },
    "tags": []
   },
   "source": [
    "# Overall"
   ]
  },
  {
   "cell_type": "markdown",
   "id": "be1784b1",
   "metadata": {
    "papermill": {
     "duration": 0.012835,
     "end_time": "2025-08-19T18:33:38.225509",
     "exception": false,
     "start_time": "2025-08-19T18:33:38.212674",
     "status": "completed"
    },
    "tags": []
   },
   "source": [
    "Main fairness target: Equalized Odds. Seems to be a better fit than equal opportunity, since we're not only interested in Y = 1. Seems to be a better fit than demographic parity, since we also care about accuracy, not just equal distribution of preds.\n",
    "\n",
    "Pick column for computation of fairness metrics\n",
    "\n",
    "Performance\n",
    "Overall performance measures, most interesting in relation to the measures split by group below"
   ]
  },
  {
   "cell_type": "code",
   "execution_count": 59,
   "id": "b7672bee",
   "metadata": {
    "execution": {
     "iopub.execute_input": "2025-08-19T18:33:38.251502Z",
     "iopub.status.busy": "2025-08-19T18:33:38.251063Z",
     "iopub.status.idle": "2025-08-19T18:33:38.258892Z",
     "shell.execute_reply": "2025-08-19T18:33:38.258218Z"
    },
    "papermill": {
     "duration": 0.022432,
     "end_time": "2025-08-19T18:33:38.260162",
     "exception": false,
     "start_time": "2025-08-19T18:33:38.237730",
     "status": "completed"
    },
    "tags": []
   },
   "outputs": [
    {
     "data": {
      "text/plain": [
       "accuracy                   0.203623\n",
       "balanced accuracy          0.536693\n",
       "f1                         0.240832\n",
       "precision                  0.137193\n",
       "false positive rate        0.911319\n",
       "false negative rate        0.015294\n",
       "selection rate             0.920733\n",
       "count                  89710.000000\n",
       "dtype: float64"
      ]
     },
     "execution_count": 59,
     "metadata": {},
     "output_type": "execute_result"
    }
   ],
   "source": [
    "metric_frame.overall"
   ]
  },
  {
   "cell_type": "markdown",
   "id": "d93333c9",
   "metadata": {
    "papermill": {
     "duration": 0.012409,
     "end_time": "2025-08-19T18:33:38.286196",
     "exception": false,
     "start_time": "2025-08-19T18:33:38.273787",
     "status": "completed"
    },
    "tags": []
   },
   "source": [
    "By Group"
   ]
  },
  {
   "cell_type": "code",
   "execution_count": 60,
   "id": "52256966",
   "metadata": {
    "execution": {
     "iopub.execute_input": "2025-08-19T18:33:38.315033Z",
     "iopub.status.busy": "2025-08-19T18:33:38.314207Z",
     "iopub.status.idle": "2025-08-19T18:33:38.334304Z",
     "shell.execute_reply": "2025-08-19T18:33:38.333507Z"
    },
    "papermill": {
     "duration": 0.035422,
     "end_time": "2025-08-19T18:33:38.335755",
     "exception": false,
     "start_time": "2025-08-19T18:33:38.300333",
     "status": "completed"
    },
    "tags": []
   },
   "outputs": [
    {
     "data": {
      "text/html": [
       "<div>\n",
       "<style scoped>\n",
       "    .dataframe tbody tr th:only-of-type {\n",
       "        vertical-align: middle;\n",
       "    }\n",
       "\n",
       "    .dataframe tbody tr th {\n",
       "        vertical-align: top;\n",
       "    }\n",
       "\n",
       "    .dataframe thead th {\n",
       "        text-align: right;\n",
       "    }\n",
       "</style>\n",
       "<table border=\"1\" class=\"dataframe\">\n",
       "  <thead>\n",
       "    <tr style=\"text-align: right;\">\n",
       "      <th></th>\n",
       "      <th>accuracy</th>\n",
       "      <th>balanced accuracy</th>\n",
       "      <th>f1</th>\n",
       "      <th>precision</th>\n",
       "      <th>false positive rate</th>\n",
       "      <th>false negative rate</th>\n",
       "      <th>selection rate</th>\n",
       "      <th>count</th>\n",
       "    </tr>\n",
       "    <tr>\n",
       "      <th>majmin</th>\n",
       "      <th></th>\n",
       "      <th></th>\n",
       "      <th></th>\n",
       "      <th></th>\n",
       "      <th></th>\n",
       "      <th></th>\n",
       "      <th></th>\n",
       "      <th></th>\n",
       "    </tr>\n",
       "  </thead>\n",
       "  <tbody>\n",
       "    <tr>\n",
       "      <th>majority</th>\n",
       "      <td>0.210843</td>\n",
       "      <td>0.540104</td>\n",
       "      <td>0.248541</td>\n",
       "      <td>0.142157</td>\n",
       "      <td>0.907430</td>\n",
       "      <td>0.012363</td>\n",
       "      <td>0.918028</td>\n",
       "      <td>69170.0</td>\n",
       "    </tr>\n",
       "    <tr>\n",
       "      <th>minority</th>\n",
       "      <td>0.179309</td>\n",
       "      <td>0.524613</td>\n",
       "      <td>0.214748</td>\n",
       "      <td>0.120687</td>\n",
       "      <td>0.924169</td>\n",
       "      <td>0.026605</td>\n",
       "      <td>0.929844</td>\n",
       "      <td>20540.0</td>\n",
       "    </tr>\n",
       "  </tbody>\n",
       "</table>\n",
       "</div>"
      ],
      "text/plain": [
       "          accuracy  balanced accuracy        f1  precision  \\\n",
       "majmin                                                       \n",
       "majority  0.210843           0.540104  0.248541   0.142157   \n",
       "minority  0.179309           0.524613  0.214748   0.120687   \n",
       "\n",
       "          false positive rate  false negative rate  selection rate    count  \n",
       "majmin                                                                       \n",
       "majority             0.907430             0.012363        0.918028  69170.0  \n",
       "minority             0.924169             0.026605        0.929844  20540.0  "
      ]
     },
     "execution_count": 60,
     "metadata": {},
     "output_type": "execute_result"
    }
   ],
   "source": [
    "metric_frame.by_group"
   ]
  },
  {
   "cell_type": "code",
   "execution_count": 61,
   "id": "6e6c20ae",
   "metadata": {
    "execution": {
     "iopub.execute_input": "2025-08-19T18:33:38.377253Z",
     "iopub.status.busy": "2025-08-19T18:33:38.369348Z",
     "iopub.status.idle": "2025-08-19T18:33:40.271231Z",
     "shell.execute_reply": "2025-08-19T18:33:40.270074Z"
    },
    "papermill": {
     "duration": 1.918846,
     "end_time": "2025-08-19T18:33:40.273068",
     "exception": false,
     "start_time": "2025-08-19T18:33:38.354222",
     "status": "completed"
    },
    "tags": []
   },
   "outputs": [
    {
     "data": {
      "text/plain": [
       "array([[<Axes: title={'center': 'accuracy'}, xlabel='majmin'>,\n",
       "        <Axes: title={'center': 'balanced accuracy'}, xlabel='majmin'>,\n",
       "        <Axes: title={'center': 'f1'}, xlabel='majmin'>],\n",
       "       [<Axes: title={'center': 'precision'}, xlabel='majmin'>,\n",
       "        <Axes: title={'center': 'false positive rate'}, xlabel='majmin'>,\n",
       "        <Axes: title={'center': 'false negative rate'}, xlabel='majmin'>],\n",
       "       [<Axes: title={'center': 'selection rate'}, xlabel='majmin'>,\n",
       "        <Axes: title={'center': 'count'}, xlabel='majmin'>,\n",
       "        <Axes: xlabel='majmin'>]], dtype=object)"
      ]
     },
     "execution_count": 61,
     "metadata": {},
     "output_type": "execute_result"
    },
    {
     "data": {
      "image/png": "[encoded data removed]",
      "text/plain": [
       "<Figure size 1200x800 with 9 Axes>"
      ]
     },
     "metadata": {},
     "output_type": "display_data"
    }
   ],
   "source": [
    "# In a graphic\n",
    "metric_frame.by_group.plot.bar(\n",
    "    subplots=True,\n",
    "    layout=[3, 3],\n",
    "    legend=False,\n",
    "    figsize=[12, 8],\n",
    "    title=\"Show all metrics\",\n",
    ")"
   ]
  },
  {
   "cell_type": "markdown",
   "id": "b2e433ae",
   "metadata": {
    "papermill": {
     "duration": 0.02018,
     "end_time": "2025-08-19T18:33:40.318488",
     "exception": false,
     "start_time": "2025-08-19T18:33:40.298308",
     "status": "completed"
    },
    "tags": []
   },
   "source": [
    "# Final Output"
   ]
  },
  {
   "cell_type": "code",
   "execution_count": 62,
   "id": "3871301e",
   "metadata": {
    "execution": {
     "iopub.execute_input": "2025-08-19T18:33:40.348137Z",
     "iopub.status.busy": "2025-08-19T18:33:40.347381Z",
     "iopub.status.idle": "2025-08-19T18:33:40.356075Z",
     "shell.execute_reply": "2025-08-19T18:33:40.355316Z"
    },
    "papermill": {
     "duration": 0.02514,
     "end_time": "2025-08-19T18:33:40.357373",
     "exception": false,
     "start_time": "2025-08-19T18:33:40.332233",
     "status": "completed"
    },
    "tags": []
   },
   "outputs": [
    {
     "data": {
      "text/plain": [
       "4"
      ]
     },
     "execution_count": 62,
     "metadata": {},
     "output_type": "execute_result"
    }
   ],
   "source": [
    "sub_universes = universe_analysis.generate_sub_universes()\n",
    "len(sub_universes)"
   ]
  },
  {
   "cell_type": "code",
   "execution_count": 63,
   "id": "d9cfdaca",
   "metadata": {
    "execution": {
     "iopub.execute_input": "2025-08-19T18:33:40.387182Z",
     "iopub.status.busy": "2025-08-19T18:33:40.386769Z",
     "iopub.status.idle": "2025-08-19T18:33:40.397697Z",
     "shell.execute_reply": "2025-08-19T18:33:40.396991Z"
    },
    "papermill": {
     "duration": 0.027475,
     "end_time": "2025-08-19T18:33:40.399111",
     "exception": false,
     "start_time": "2025-08-19T18:33:40.371636",
     "status": "completed"
    },
    "tags": []
   },
   "outputs": [],
   "source": [
    "def filter_sub_universe_data(sub_universe, org_test):\n",
    "    # Keep all rows — no filtering\n",
    "    keep_rows_mask = np.ones(org_test.shape[0], dtype=bool)\n",
    "\n",
    "    print(f\"[INFO] Keeping all rows: {keep_rows_mask.sum()} rows retained.\")\n",
    "    return keep_rows_mask"
   ]
  },
  {
   "cell_type": "code",
   "execution_count": 64,
   "id": "2bc31ac1",
   "metadata": {
    "execution": {
     "iopub.execute_input": "2025-08-19T18:33:40.431056Z",
     "iopub.status.busy": "2025-08-19T18:33:40.430779Z",
     "iopub.status.idle": "2025-08-19T18:33:46.978095Z",
     "shell.execute_reply": "2025-08-19T18:33:46.977286Z"
    },
    "papermill": {
     "duration": 6.563101,
     "end_time": "2025-08-19T18:33:46.979209",
     "exception": false,
     "start_time": "2025-08-19T18:33:40.416108",
     "status": "completed"
    },
    "tags": []
   },
   "outputs": [
    {
     "name": "stdout",
     "output_type": "stream",
     "text": [
      "Stopping execution_time clock.\n",
      "[INFO] Keeping all rows: 89710 rows retained.\n"
     ]
    },
    {
     "name": "stdout",
     "output_type": "stream",
     "text": [
      "[INFO] Keeping all rows: 89710 rows retained.\n"
     ]
    },
    {
     "name": "stdout",
     "output_type": "stream",
     "text": [
      "[INFO] Keeping all rows: 89710 rows retained.\n"
     ]
    },
    {
     "name": "stdout",
     "output_type": "stream",
     "text": [
      "[INFO] Keeping all rows: 89710 rows retained.\n"
     ]
    },
    {
     "data": {
      "text/html": [
       "<div>\n",
       "<style scoped>\n",
       "    .dataframe tbody tr th:only-of-type {\n",
       "        vertical-align: middle;\n",
       "    }\n",
       "\n",
       "    .dataframe tbody tr th {\n",
       "        vertical-align: top;\n",
       "    }\n",
       "\n",
       "    .dataframe thead th {\n",
       "        text-align: right;\n",
       "    }\n",
       "</style>\n",
       "<table border=\"1\" class=\"dataframe\">\n",
       "  <thead>\n",
       "    <tr style=\"text-align: right;\">\n",
       "      <th></th>\n",
       "      <th>run_no</th>\n",
       "      <th>universe_id</th>\n",
       "      <th>universe_settings</th>\n",
       "      <th>execution_time</th>\n",
       "      <th>test_size_n</th>\n",
       "      <th>test_size_frac</th>\n",
       "      <th>fair_main_equalized_odds_difference</th>\n",
       "      <th>fair_main_equalized_odds_ratio</th>\n",
       "      <th>fair_main_demographic_parity_difference</th>\n",
       "      <th>fair_main_demographic_parity_ratio</th>\n",
       "      <th>...</th>\n",
       "      <th>perf_grp_precision_0</th>\n",
       "      <th>perf_grp_precision_1</th>\n",
       "      <th>perf_grp_false positive rate_0</th>\n",
       "      <th>perf_grp_false positive rate_1</th>\n",
       "      <th>perf_grp_false negative rate_0</th>\n",
       "      <th>perf_grp_false negative rate_1</th>\n",
       "      <th>perf_grp_selection rate_0</th>\n",
       "      <th>perf_grp_selection rate_1</th>\n",
       "      <th>perf_grp_count_0</th>\n",
       "      <th>perf_grp_count_1</th>\n",
       "    </tr>\n",
       "  </thead>\n",
       "  <tbody>\n",
       "    <tr>\n",
       "      <th>0</th>\n",
       "      <td>3</td>\n",
       "      <td>b46246eb21aea6b3a0a281155946e643</td>\n",
       "      <td>{\"cutoff\": \"quantile_0.1\", \"eval_fairness_grou...</td>\n",
       "      <td>28.858795</td>\n",
       "      <td>89710</td>\n",
       "      <td>1.0</td>\n",
       "      <td>0.016739</td>\n",
       "      <td>0.981887</td>\n",
       "      <td>0.011816</td>\n",
       "      <td>0.987292</td>\n",
       "      <td>...</td>\n",
       "      <td>NaN</td>\n",
       "      <td>NaN</td>\n",
       "      <td>NaN</td>\n",
       "      <td>NaN</td>\n",
       "      <td>NaN</td>\n",
       "      <td>NaN</td>\n",
       "      <td>NaN</td>\n",
       "      <td>NaN</td>\n",
       "      <td>NaN</td>\n",
       "      <td>NaN</td>\n",
       "    </tr>\n",
       "    <tr>\n",
       "      <th>0</th>\n",
       "      <td>3</td>\n",
       "      <td>b46246eb21aea6b3a0a281155946e643</td>\n",
       "      <td>{\"cutoff\": \"quantile_0.1\", \"eval_fairness_grou...</td>\n",
       "      <td>28.858795</td>\n",
       "      <td>89710</td>\n",
       "      <td>1.0</td>\n",
       "      <td>0.016739</td>\n",
       "      <td>0.981887</td>\n",
       "      <td>0.011816</td>\n",
       "      <td>0.987292</td>\n",
       "      <td>...</td>\n",
       "      <td>0.120687</td>\n",
       "      <td>0.142157</td>\n",
       "      <td>0.924169</td>\n",
       "      <td>0.907430</td>\n",
       "      <td>0.026605</td>\n",
       "      <td>0.012363</td>\n",
       "      <td>0.929844</td>\n",
       "      <td>0.918028</td>\n",
       "      <td>20540.0</td>\n",
       "      <td>69170.0</td>\n",
       "    </tr>\n",
       "    <tr>\n",
       "      <th>0</th>\n",
       "      <td>3</td>\n",
       "      <td>b46246eb21aea6b3a0a281155946e643</td>\n",
       "      <td>{\"cutoff\": \"quantile_0.25\", \"eval_fairness_gro...</td>\n",
       "      <td>28.858795</td>\n",
       "      <td>89710</td>\n",
       "      <td>1.0</td>\n",
       "      <td>0.039625</td>\n",
       "      <td>0.958014</td>\n",
       "      <td>0.017938</td>\n",
       "      <td>0.976939</td>\n",
       "      <td>...</td>\n",
       "      <td>NaN</td>\n",
       "      <td>NaN</td>\n",
       "      <td>NaN</td>\n",
       "      <td>NaN</td>\n",
       "      <td>NaN</td>\n",
       "      <td>NaN</td>\n",
       "      <td>NaN</td>\n",
       "      <td>NaN</td>\n",
       "      <td>NaN</td>\n",
       "      <td>NaN</td>\n",
       "    </tr>\n",
       "    <tr>\n",
       "      <th>0</th>\n",
       "      <td>3</td>\n",
       "      <td>b46246eb21aea6b3a0a281155946e643</td>\n",
       "      <td>{\"cutoff\": \"quantile_0.25\", \"eval_fairness_gro...</td>\n",
       "      <td>28.858795</td>\n",
       "      <td>89710</td>\n",
       "      <td>1.0</td>\n",
       "      <td>0.039625</td>\n",
       "      <td>0.958014</td>\n",
       "      <td>0.017938</td>\n",
       "      <td>0.976939</td>\n",
       "      <td>...</td>\n",
       "      <td>0.134005</td>\n",
       "      <td>0.164108</td>\n",
       "      <td>0.761391</td>\n",
       "      <td>0.731917</td>\n",
       "      <td>0.095861</td>\n",
       "      <td>0.056236</td>\n",
       "      <td>0.777848</td>\n",
       "      <td>0.759910</td>\n",
       "      <td>20540.0</td>\n",
       "      <td>69170.0</td>\n",
       "    </tr>\n",
       "  </tbody>\n",
       "</table>\n",
       "<p>4 rows × 50 columns</p>\n",
       "</div>"
      ],
      "text/plain": [
       "  run_no                       universe_id  \\\n",
       "0      3  b46246eb21aea6b3a0a281155946e643   \n",
       "0      3  b46246eb21aea6b3a0a281155946e643   \n",
       "0      3  b46246eb21aea6b3a0a281155946e643   \n",
       "0      3  b46246eb21aea6b3a0a281155946e643   \n",
       "\n",
       "                                   universe_settings  execution_time  \\\n",
       "0  {\"cutoff\": \"quantile_0.1\", \"eval_fairness_grou...       28.858795   \n",
       "0  {\"cutoff\": \"quantile_0.1\", \"eval_fairness_grou...       28.858795   \n",
       "0  {\"cutoff\": \"quantile_0.25\", \"eval_fairness_gro...       28.858795   \n",
       "0  {\"cutoff\": \"quantile_0.25\", \"eval_fairness_gro...       28.858795   \n",
       "\n",
       "   test_size_n  test_size_frac  fair_main_equalized_odds_difference  \\\n",
       "0        89710             1.0                             0.016739   \n",
       "0        89710             1.0                             0.016739   \n",
       "0        89710             1.0                             0.039625   \n",
       "0        89710             1.0                             0.039625   \n",
       "\n",
       "   fair_main_equalized_odds_ratio  fair_main_demographic_parity_difference  \\\n",
       "0                        0.981887                                 0.011816   \n",
       "0                        0.981887                                 0.011816   \n",
       "0                        0.958014                                 0.017938   \n",
       "0                        0.958014                                 0.017938   \n",
       "\n",
       "   fair_main_demographic_parity_ratio  ...  perf_grp_precision_0  \\\n",
       "0                            0.987292  ...                   NaN   \n",
       "0                            0.987292  ...              0.120687   \n",
       "0                            0.976939  ...                   NaN   \n",
       "0                            0.976939  ...              0.134005   \n",
       "\n",
       "   perf_grp_precision_1  perf_grp_false positive rate_0  \\\n",
       "0                   NaN                             NaN   \n",
       "0              0.142157                        0.924169   \n",
       "0                   NaN                             NaN   \n",
       "0              0.164108                        0.761391   \n",
       "\n",
       "   perf_grp_false positive rate_1  perf_grp_false negative rate_0  \\\n",
       "0                             NaN                             NaN   \n",
       "0                        0.907430                        0.026605   \n",
       "0                             NaN                             NaN   \n",
       "0                        0.731917                        0.095861   \n",
       "\n",
       "   perf_grp_false negative rate_1  perf_grp_selection rate_0  \\\n",
       "0                             NaN                        NaN   \n",
       "0                        0.012363                   0.929844   \n",
       "0                             NaN                        NaN   \n",
       "0                        0.056236                   0.777848   \n",
       "\n",
       "   perf_grp_selection rate_1  perf_grp_count_0  perf_grp_count_1  \n",
       "0                        NaN               NaN               NaN  \n",
       "0                   0.918028           20540.0           69170.0  \n",
       "0                        NaN               NaN               NaN  \n",
       "0                   0.759910           20540.0           69170.0  \n",
       "\n",
       "[4 rows x 50 columns]"
      ]
     },
     "execution_count": 64,
     "metadata": {},
     "output_type": "execute_result"
    }
   ],
   "source": [
    "final_output = universe_analysis.generate_final_output(\n",
    "    y_pred_prob=probs_test,\n",
    "    y_test=y_true,\n",
    "    org_test=org_test,\n",
    "    filter_data=filter_sub_universe_data,\n",
    "    cp_metrics_df=cp_metrics_df,\n",
    "    save=True,\n",
    ")\n",
    "final_output"
   ]
  },
  {
   "cell_type": "code",
   "execution_count": null,
   "id": "8b80a1ff",
   "metadata": {
    "papermill": {
     "duration": 0.014183,
     "end_time": "2025-08-19T18:33:47.011081",
     "exception": false,
     "start_time": "2025-08-19T18:33:46.996898",
     "status": "completed"
    },
    "tags": []
   },
   "outputs": [],
   "source": []
  },
  {
   "cell_type": "code",
   "execution_count": null,
   "id": "275c9fad",
   "metadata": {
    "papermill": {
     "duration": 0.014367,
     "end_time": "2025-08-19T18:33:47.039740",
     "exception": false,
     "start_time": "2025-08-19T18:33:47.025373",
     "status": "completed"
    },
    "tags": []
   },
   "outputs": [],
   "source": []
  }
 ],
 "metadata": {
  "celltoolbar": "Tags",
  "kernelspec": {
   "display_name": "Python (CMA Fairness)",
   "language": "python",
   "name": "cma_fair_env"
  },
  "language_info": {
   "codemirror_mode": {
    "name": "ipython",
    "version": 3
   },
   "file_extension": ".py",
   "mimetype": "text/x-python",
   "name": "python",
   "nbconvert_exporter": "python",
   "pygments_lexer": "ipython3",
   "version": "3.10.12"
  },
  "papermill": {
   "default_parameters": {},
   "duration": 39.34533,
   "end_time": "2025-08-19T18:33:47.875312",
   "environment_variables": {},
   "exception": null,
   "input_path": "universe_analysis.ipynb",
   "output_path": "output/runs/3/notebooks/m_3-b46246eb21aea6b3a0a281155946e643.ipynb",
   "parameters": {
    "output_dir": "output",
    "run_no": "3",
    "seed": "2023",
    "universe": "{\"cutoff\": [\"quantile_0.1\", \"quantile_0.25\"], \"eval_fairness_grouping\": [\"majority-minority\", \"nationality-all\"], \"exclude_features\": \"nationality-sex\", \"exclude_subgroups\": \"drop-non-german\", \"model\": \"rf\", \"scale\": \"scale\", \"training_size\": \"5k\", \"training_year\": \"2012_14\"}",
    "universe_id": "b46246eb21aea6b3a0a281155946e643"
   },
   "start_time": "2025-08-19T18:33:08.529982",
   "version": "2.6.0"
  }
 },
 "nbformat": 4,
 "nbformat_minor": 5
}