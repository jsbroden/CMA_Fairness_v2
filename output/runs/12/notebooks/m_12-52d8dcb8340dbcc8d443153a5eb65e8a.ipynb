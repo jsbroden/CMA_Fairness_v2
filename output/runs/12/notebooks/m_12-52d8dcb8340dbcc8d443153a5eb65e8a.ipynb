{
 "cells": [
  {
   "cell_type": "code",
   "execution_count": 1,
   "id": "f159f837-637b-42ba-96b5-ec9a68c44524",
   "metadata": {
    "execution": {
     "iopub.execute_input": "2025-07-30T14:16:01.353572Z",
     "iopub.status.busy": "2025-07-30T14:16:01.353084Z",
     "iopub.status.idle": "2025-07-30T14:16:01.367638Z",
     "shell.execute_reply": "2025-07-30T14:16:01.366484Z"
    },
    "papermill": {
     "duration": 0.039915,
     "end_time": "2025-07-30T14:16:01.369878",
     "exception": false,
     "start_time": "2025-07-30T14:16:01.329963",
     "status": "completed"
    },
    "tags": []
   },
   "outputs": [
    {
     "name": "stdout",
     "output_type": "stream",
     "text": [
      "/dss/dsshome1/0C/ra93lal2/cma/CMA_Fairness_v2\n"
     ]
    },
    {
     "name": "stderr",
     "output_type": "stream",
     "text": [
      "/dss/dsshome1/0C/ra93lal2/.local/share/virtualenvs/CMA_Fairness_v2-3j10GkSs/lib/python3.10/site-packages/IPython/core/magics/osm.py:393: UserWarning: This is now an optional IPython functionality, using bookmarks requires you to install the `pickleshare` library.\n",
      "  bkms = self.shell.db.get('bookmarks', {})\n",
      "/dss/dsshome1/0C/ra93lal2/.local/share/virtualenvs/CMA_Fairness_v2-3j10GkSs/lib/python3.10/site-packages/IPython/core/magics/osm.py:417: UserWarning: This is now an optional IPython functionality, setting dhist requires you to install the `pickleshare` library.\n",
      "  self.shell.db['dhist'] = compress_dhist(dhist)[-100:]\n"
     ]
    }
   ],
   "source": [
    "%cd ~/cma/CMA_Fairness_v2"
   ]
  },
  {
   "cell_type": "markdown",
   "id": "de2603b9",
   "metadata": {
    "papermill": {
     "duration": 0.019139,
     "end_time": "2025-07-30T14:16:01.410374",
     "exception": false,
     "start_time": "2025-07-30T14:16:01.391235",
     "status": "completed"
    },
    "tags": []
   },
   "source": [
    "The following cell holds the definition of our parameters, these values can be overriden by rendering the with e.g. the following command:\n",
    "\n",
    "papermill -p alpha 0.2 -p ratio 0.3 universe_analysis.ipynb output/test_run.ipynb"
   ]
  },
  {
   "cell_type": "code",
   "execution_count": 2,
   "id": "a80968a0-40bb-4fa9-85ef-2d5eefb01975",
   "metadata": {
    "execution": {
     "iopub.execute_input": "2025-07-30T14:16:01.454002Z",
     "iopub.status.busy": "2025-07-30T14:16:01.453259Z",
     "iopub.status.idle": "2025-07-30T14:16:01.458092Z",
     "shell.execute_reply": "2025-07-30T14:16:01.457197Z"
    },
    "papermill": {
     "duration": 0.029559,
     "end_time": "2025-07-30T14:16:01.459952",
     "exception": false,
     "start_time": "2025-07-30T14:16:01.430393",
     "status": "completed"
    },
    "tags": []
   },
   "outputs": [
    {
     "name": "stdout",
     "output_type": "stream",
     "text": [
      "Current working directory: /dss/dsshome1/0C/ra93lal2/cma/CMA_Fairness_v2\n"
     ]
    }
   ],
   "source": [
    "import os\n",
    "print(\"Current working directory:\", os.getcwd())"
   ]
  },
  {
   "cell_type": "code",
   "execution_count": 3,
   "id": "2dce4c03",
   "metadata": {
    "execution": {
     "iopub.execute_input": "2025-07-30T14:16:01.487810Z",
     "iopub.status.busy": "2025-07-30T14:16:01.487421Z",
     "iopub.status.idle": "2025-07-30T14:16:01.492397Z",
     "shell.execute_reply": "2025-07-30T14:16:01.491503Z"
    },
    "papermill": {
     "duration": 0.020356,
     "end_time": "2025-07-30T14:16:01.493782",
     "exception": false,
     "start_time": "2025-07-30T14:16:01.473426",
     "status": "completed"
    },
    "tags": [
     "parameters"
    ]
   },
   "outputs": [],
   "source": [
    "run_no = 0\n",
    "universe_id = \"test\"\n",
    "universe = {\n",
    "    \"training_size\": \"25k\", # \"25k\", \"5k\", \"1k\"\n",
    "    \"training_year\": \"2014\", # \"2014\", \"2012_14\", \"2010_14\"\n",
    "    \"scale\": \"scale\", # \"scale\", \"do-not-scale\",\n",
    "    #\"stratify_split\": \"target\", # \"none\", \"target\", \"protected-attribute\", \"both\",\n",
    "    \"model\": \"elasticnet\", # \"logreg\", \"penalized_logreg\", \"rf\", \"gbm\", \"elasticnet\"\n",
    "    \"cutoff\": [\"quantile_0.15\", \"quantile_0.30\"],\n",
    "    \"exclude_features\": \"age\", # \"none\", \"nationality\", \"sex\", \"nationality-sex\", \"age\"\n",
    "    \"exclude_subgroups\": \"keep-all\", # \"keep-all\", \"drop-non-german\"\n",
    "    \"eval_fairness_grouping\": [\"majority-minority\", \"nationality-all\"]\n",
    "}\n",
    "\n",
    "output_dir=\"./output\"\n",
    "seed=0"
   ]
  },
  {
   "cell_type": "code",
   "execution_count": 4,
   "id": "0568cda5",
   "metadata": {
    "execution": {
     "iopub.execute_input": "2025-07-30T14:16:01.517717Z",
     "iopub.status.busy": "2025-07-30T14:16:01.517212Z",
     "iopub.status.idle": "2025-07-30T14:16:01.521610Z",
     "shell.execute_reply": "2025-07-30T14:16:01.520816Z"
    },
    "papermill": {
     "duration": 0.017675,
     "end_time": "2025-07-30T14:16:01.523003",
     "exception": false,
     "start_time": "2025-07-30T14:16:01.505328",
     "status": "completed"
    },
    "tags": [
     "injected-parameters"
    ]
   },
   "outputs": [],
   "source": [
    "# Parameters\n",
    "universe_id = \"52d8dcb8340dbcc8d443153a5eb65e8a\"\n",
    "run_no = \"12\"\n",
    "universe = \"{\\\"cutoff\\\": [\\\"quantile_0.1\\\", \\\"quantile_0.25\\\"], \\\"eval_fairness_grouping\\\": [\\\"majority-minority\\\", \\\"nationality-all\\\"], \\\"exclude_features\\\": \\\"nationality\\\", \\\"exclude_subgroups\\\": \\\"keep-all\\\", \\\"model\\\": \\\"elasticnet\\\", \\\"scale\\\": \\\"do-not-scale\\\", \\\"training_size\\\": \\\"5k\\\", \\\"training_year\\\": \\\"2010_14\\\"}\"\n",
    "output_dir = \"output\"\n",
    "seed = \"2023\"\n"
   ]
  },
  {
   "cell_type": "code",
   "execution_count": 5,
   "id": "1650acaf",
   "metadata": {
    "execution": {
     "iopub.execute_input": "2025-07-30T14:16:01.568059Z",
     "iopub.status.busy": "2025-07-30T14:16:01.567610Z",
     "iopub.status.idle": "2025-07-30T14:16:01.574020Z",
     "shell.execute_reply": "2025-07-30T14:16:01.572761Z"
    },
    "papermill": {
     "duration": 0.041596,
     "end_time": "2025-07-30T14:16:01.576642",
     "exception": false,
     "start_time": "2025-07-30T14:16:01.535046",
     "status": "completed"
    },
    "tags": []
   },
   "outputs": [],
   "source": [
    "import json\n",
    "# Parse universe into dict if it is passed as a string\n",
    "if isinstance(universe, str):\n",
    "    universe = json.loads(universe)"
   ]
  },
  {
   "cell_type": "code",
   "execution_count": 6,
   "id": "16620c48",
   "metadata": {
    "execution": {
     "iopub.execute_input": "2025-07-30T14:16:01.612386Z",
     "iopub.status.busy": "2025-07-30T14:16:01.611939Z",
     "iopub.status.idle": "2025-07-30T14:16:01.640694Z",
     "shell.execute_reply": "2025-07-30T14:16:01.639977Z"
    },
    "papermill": {
     "duration": 0.041863,
     "end_time": "2025-07-30T14:16:01.642168",
     "exception": false,
     "start_time": "2025-07-30T14:16:01.600305",
     "status": "completed"
    },
    "tags": []
   },
   "outputs": [],
   "source": [
    "# Auto-reload the custom package\n",
    "%load_ext autoreload\n",
    "%autoreload 1\n",
    "%aimport fairness_multiverse"
   ]
  },
  {
   "cell_type": "code",
   "execution_count": 7,
   "id": "01c5c9f3",
   "metadata": {
    "execution": {
     "iopub.execute_input": "2025-07-30T14:16:01.665810Z",
     "iopub.status.busy": "2025-07-30T14:16:01.665323Z",
     "iopub.status.idle": "2025-07-30T14:16:03.367908Z",
     "shell.execute_reply": "2025-07-30T14:16:03.367130Z"
    },
    "papermill": {
     "duration": 1.715846,
     "end_time": "2025-07-30T14:16:03.369459",
     "exception": false,
     "start_time": "2025-07-30T14:16:01.653613",
     "status": "completed"
    },
    "tags": []
   },
   "outputs": [],
   "source": [
    "from fairness_multiverse.universe import UniverseAnalysis\n",
    "\n",
    "universe_analysis = UniverseAnalysis(\n",
    "    run_no = run_no,\n",
    "    universe_id = universe_id,\n",
    "    universe = universe,\n",
    "    output_dir=output_dir,\n",
    ")"
   ]
  },
  {
   "cell_type": "code",
   "execution_count": 8,
   "id": "106241f5",
   "metadata": {
    "execution": {
     "iopub.execute_input": "2025-07-30T14:16:03.395492Z",
     "iopub.status.busy": "2025-07-30T14:16:03.394975Z",
     "iopub.status.idle": "2025-07-30T14:16:03.400794Z",
     "shell.execute_reply": "2025-07-30T14:16:03.399843Z"
    },
    "papermill": {
     "duration": 0.019273,
     "end_time": "2025-07-30T14:16:03.402208",
     "exception": false,
     "start_time": "2025-07-30T14:16:03.382935",
     "status": "completed"
    },
    "tags": []
   },
   "outputs": [
    {
     "name": "stdout",
     "output_type": "stream",
     "text": [
      "Using Seed: 2023\n"
     ]
    }
   ],
   "source": [
    "import numpy as np\n",
    "parsed_seed = int(seed)\n",
    "np.random.seed(parsed_seed)\n",
    "print(f\"Using Seed: {parsed_seed}\")"
   ]
  },
  {
   "cell_type": "markdown",
   "id": "e0ebdc57",
   "metadata": {
    "papermill": {
     "duration": 0.011319,
     "end_time": "2025-07-30T14:16:03.429113",
     "exception": false,
     "start_time": "2025-07-30T14:16:03.417794",
     "status": "completed"
    },
    "tags": []
   },
   "source": [
    "# Loading Data"
   ]
  },
  {
   "cell_type": "markdown",
   "id": "681925a3",
   "metadata": {
    "papermill": {
     "duration": 0.011094,
     "end_time": "2025-07-30T14:16:03.451069",
     "exception": false,
     "start_time": "2025-07-30T14:16:03.439975",
     "status": "completed"
    },
    "tags": []
   },
   "source": [
    "Load siab_train, siab_test, siab_calib and/or \n",
    "load siab_train_features, siab_train_labels"
   ]
  },
  {
   "cell_type": "code",
   "execution_count": 9,
   "id": "f0496b8a",
   "metadata": {
    "execution": {
     "iopub.execute_input": "2025-07-30T14:16:03.474586Z",
     "iopub.status.busy": "2025-07-30T14:16:03.474083Z",
     "iopub.status.idle": "2025-07-30T14:16:14.258802Z",
     "shell.execute_reply": "2025-07-30T14:16:14.257710Z"
    },
    "papermill": {
     "duration": 10.798611,
     "end_time": "2025-07-30T14:16:14.260745",
     "exception": false,
     "start_time": "2025-07-30T14:16:03.462134",
     "status": "completed"
    },
    "tags": []
   },
   "outputs": [
    {
     "name": "stdout",
     "output_type": "stream",
     "text": [
      "Loading SIAB data from cache: data/siab_cached.csv.gz\n"
     ]
    },
    {
     "name": "stdout",
     "output_type": "stream",
     "text": [
      "(643690, 164)\n"
     ]
    }
   ],
   "source": [
    "from pathlib import Path\n",
    "import pandas as pd\n",
    "\n",
    "# File paths\n",
    "raw_file = Path(\"data/raw/siab.csv\")\n",
    "cache_file = Path(\"data/siab_cached.csv.gz\")\n",
    "\n",
    "# Ensure cache directory exists\n",
    "cache_file.parent.mkdir(parents=True, exist_ok=True)\n",
    "\n",
    "# Load with simple caching\n",
    "if cache_file.exists():\n",
    "    print(f\"Loading SIAB data from cache: {cache_file}\")\n",
    "    siab = pd.read_csv(cache_file, compression='gzip')\n",
    "else:\n",
    "    print(f\"Cache not found. Reading raw SIAB data: {raw_file}\")\n",
    "    siab = pd.read_csv(raw_file)\n",
    "    siab.to_csv(cache_file, index=False, compression='gzip')\n",
    "    print(f\"Cached SIAB data to: {cache_file}\")\n",
    "\n",
    "# Now use `siab` DataFrame as needed\n",
    "print(siab.shape)"
   ]
  },
  {
   "cell_type": "code",
   "execution_count": 10,
   "id": "db0ca512-5f53-4dba-abdb-a2888bca41ba",
   "metadata": {
    "execution": {
     "iopub.execute_input": "2025-07-30T14:16:14.312787Z",
     "iopub.status.busy": "2025-07-30T14:16:14.312156Z",
     "iopub.status.idle": "2025-07-30T14:16:14.319161Z",
     "shell.execute_reply": "2025-07-30T14:16:14.317794Z"
    },
    "papermill": {
     "duration": 0.0343,
     "end_time": "2025-07-30T14:16:14.321337",
     "exception": false,
     "start_time": "2025-07-30T14:16:14.287037",
     "status": "completed"
    },
    "tags": []
   },
   "outputs": [],
   "source": [
    "#siab"
   ]
  },
  {
   "cell_type": "code",
   "execution_count": 11,
   "id": "a0edb063",
   "metadata": {
    "execution": {
     "iopub.execute_input": "2025-07-30T14:16:14.371787Z",
     "iopub.status.busy": "2025-07-30T14:16:14.370996Z",
     "iopub.status.idle": "2025-07-30T14:16:14.377668Z",
     "shell.execute_reply": "2025-07-30T14:16:14.376443Z"
    },
    "papermill": {
     "duration": 0.03401,
     "end_time": "2025-07-30T14:16:14.379595",
     "exception": false,
     "start_time": "2025-07-30T14:16:14.345585",
     "status": "completed"
    },
    "tags": []
   },
   "outputs": [],
   "source": [
    "#import pandas as pd\n",
    "#\n",
    "#X_train = pd.read_csv(\"./data/X_train.csv\")\n",
    "#y_train = pd.read_csv(\"./data/y_train.csv\")"
   ]
  },
  {
   "cell_type": "code",
   "execution_count": 12,
   "id": "63d08085",
   "metadata": {
    "execution": {
     "iopub.execute_input": "2025-07-30T14:16:14.429880Z",
     "iopub.status.busy": "2025-07-30T14:16:14.429190Z",
     "iopub.status.idle": "2025-07-30T14:16:14.435150Z",
     "shell.execute_reply": "2025-07-30T14:16:14.433795Z"
    },
    "papermill": {
     "duration": 0.032736,
     "end_time": "2025-07-30T14:16:14.437030",
     "exception": false,
     "start_time": "2025-07-30T14:16:14.404294",
     "status": "completed"
    },
    "tags": []
   },
   "outputs": [],
   "source": [
    "#X_test = pd.read_csv(\"./data/X_test.csv\")\n",
    "#y_true = pd.read_csv(\"./data/y_test.csv\")"
   ]
  },
  {
   "cell_type": "code",
   "execution_count": 13,
   "id": "98a8d0fa-1d3d-4ed8-bb2c-281470e24add",
   "metadata": {
    "execution": {
     "iopub.execute_input": "2025-07-30T14:16:14.487125Z",
     "iopub.status.busy": "2025-07-30T14:16:14.486167Z",
     "iopub.status.idle": "2025-07-30T14:16:14.491904Z",
     "shell.execute_reply": "2025-07-30T14:16:14.490753Z"
    },
    "papermill": {
     "duration": 0.03319,
     "end_time": "2025-07-30T14:16:14.494233",
     "exception": false,
     "start_time": "2025-07-30T14:16:14.461043",
     "status": "completed"
    },
    "tags": []
   },
   "outputs": [],
   "source": [
    "# Calibration data for conformal\n",
    "#X_calib = pd.read_csv(\"./data/X_calib.csv\")\n",
    "#y_calib = pd.read_csv(\"./data/y_calib.csv\")"
   ]
  },
  {
   "cell_type": "markdown",
   "id": "997051c5-15bd-4b69-9786-c3001a3ce484",
   "metadata": {
    "papermill": {
     "duration": 0.028365,
     "end_time": "2025-07-30T14:16:14.551574",
     "exception": false,
     "start_time": "2025-07-30T14:16:14.523209",
     "status": "completed"
    },
    "tags": []
   },
   "source": [
    "# Splitting Data and Setting Training Data Size"
   ]
  },
  {
   "cell_type": "code",
   "execution_count": 14,
   "id": "e993b61f-042d-41a6-8c81-f55681f86335",
   "metadata": {
    "execution": {
     "iopub.execute_input": "2025-07-30T14:16:14.610446Z",
     "iopub.status.busy": "2025-07-30T14:16:14.609331Z",
     "iopub.status.idle": "2025-07-30T14:16:14.625193Z",
     "shell.execute_reply": "2025-07-30T14:16:14.623993Z"
    },
    "papermill": {
     "duration": 0.047668,
     "end_time": "2025-07-30T14:16:14.627491",
     "exception": false,
     "start_time": "2025-07-30T14:16:14.579823",
     "status": "completed"
    },
    "tags": []
   },
   "outputs": [],
   "source": [
    "def sample_by_year_size(df,\n",
    "                        training_year: str,\n",
    "                        training_size: str,\n",
    "                        random_state: int = 42):\n",
    "    # --- parse training_year into a list of int years ---\n",
    "    if \"_\" in training_year:\n",
    "        start_str, end_str = training_year.split(\"_\", 1)\n",
    "        start = int(start_str)\n",
    "        end   = int(end_str) if len(end_str) == 4 else (int(end_str) + (start // 100)*100)\n",
    "        years = list(range(start, end + 1))\n",
    "    else:\n",
    "        years = [int(training_year)]\n",
    "\n",
    "    df = df[df[\"year\"].isin(years)].reset_index(drop=True)\n",
    "\n",
    "    # --- map training_size to total number of samples ---\n",
    "    total_map = {\"25k\": 25_000, \"5k\": 5_000, \"1k\": 1_000}\n",
    "    if training_size not in total_map:\n",
    "        return df  # e.g. \"all\"\n",
    "\n",
    "    total_samples = total_map[training_size]\n",
    "    n_years       = len(years)\n",
    "    base          = total_samples // n_years\n",
    "    remainder     = total_samples % n_years\n",
    "\n",
    "    # --- build a dict: year -> how many to sample ---\n",
    "    # give +1 to the first `remainder` years in ascending order\n",
    "    quotas = {\n",
    "        year: base + (1 if idx < remainder else 0)\n",
    "        for idx, year in enumerate(sorted(years))\n",
    "    }\n",
    "\n",
    "    # --- sample per‐year according to the quota dict ---\n",
    "    sampled = (\n",
    "        df\n",
    "        .groupby(\"year\", group_keys=False)\n",
    "        .apply(lambda grp: grp.sample(\n",
    "            n=min(len(grp), quotas[grp.name]),\n",
    "            random_state=random_state))\n",
    "        .reset_index(drop=True)\n",
    "    )\n",
    "\n",
    "    return sampled"
   ]
  },
  {
   "cell_type": "code",
   "execution_count": 15,
   "id": "c0ccd338-0e02-41f3-a09d-f56f9266e3fb",
   "metadata": {
    "execution": {
     "iopub.execute_input": "2025-07-30T14:16:14.675747Z",
     "iopub.status.busy": "2025-07-30T14:16:14.674686Z",
     "iopub.status.idle": "2025-07-30T14:16:14.687855Z",
     "shell.execute_reply": "2025-07-30T14:16:14.686590Z"
    },
    "papermill": {
     "duration": 0.045722,
     "end_time": "2025-07-30T14:16:14.697179",
     "exception": false,
     "start_time": "2025-07-30T14:16:14.651457",
     "status": "completed"
    },
    "tags": []
   },
   "outputs": [
    {
     "data": {
      "text/plain": [
       "'5k'"
      ]
     },
     "execution_count": 15,
     "metadata": {},
     "output_type": "execute_result"
    }
   ],
   "source": [
    "universe[\"training_size\"]"
   ]
  },
  {
   "cell_type": "code",
   "execution_count": 16,
   "id": "ca707fd7-8047-4acd-bfa5-66248fbbf8e6",
   "metadata": {
    "execution": {
     "iopub.execute_input": "2025-07-30T14:16:14.744163Z",
     "iopub.status.busy": "2025-07-30T14:16:14.743371Z",
     "iopub.status.idle": "2025-07-30T14:16:14.751365Z",
     "shell.execute_reply": "2025-07-30T14:16:14.750278Z"
    },
    "papermill": {
     "duration": 0.033751,
     "end_time": "2025-07-30T14:16:14.753179",
     "exception": false,
     "start_time": "2025-07-30T14:16:14.719428",
     "status": "completed"
    },
    "tags": []
   },
   "outputs": [
    {
     "data": {
      "text/plain": [
       "'2010_14'"
      ]
     },
     "execution_count": 16,
     "metadata": {},
     "output_type": "execute_result"
    }
   ],
   "source": [
    "universe[\"training_year\"]"
   ]
  },
  {
   "cell_type": "code",
   "execution_count": 17,
   "id": "aea9c6ef-6f46-42c8-85eb-5a62025c1508",
   "metadata": {
    "execution": {
     "iopub.execute_input": "2025-07-30T14:16:14.793073Z",
     "iopub.status.busy": "2025-07-30T14:16:14.792379Z",
     "iopub.status.idle": "2025-07-30T14:16:15.823214Z",
     "shell.execute_reply": "2025-07-30T14:16:15.822273Z"
    },
    "papermill": {
     "duration": 1.049244,
     "end_time": "2025-07-30T14:16:15.825257",
     "exception": false,
     "start_time": "2025-07-30T14:16:14.776013",
     "status": "completed"
    },
    "tags": []
   },
   "outputs": [],
   "source": [
    "siab_train = sample_by_year_size(siab,\n",
    "                               training_year=universe[\"training_year\"],\n",
    "                               training_size=universe[\"training_size\"])"
   ]
  },
  {
   "cell_type": "code",
   "execution_count": 18,
   "id": "8d3afb32-789d-442c-8d5d-9f5aa8dd2eed",
   "metadata": {
    "execution": {
     "iopub.execute_input": "2025-07-30T14:16:15.872734Z",
     "iopub.status.busy": "2025-07-30T14:16:15.872056Z",
     "iopub.status.idle": "2025-07-30T14:16:15.879709Z",
     "shell.execute_reply": "2025-07-30T14:16:15.878706Z"
    },
    "papermill": {
     "duration": 0.03346,
     "end_time": "2025-07-30T14:16:15.881422",
     "exception": false,
     "start_time": "2025-07-30T14:16:15.847962",
     "status": "completed"
    },
    "tags": []
   },
   "outputs": [
    {
     "data": {
      "text/plain": [
       "(5000, 164)"
      ]
     },
     "execution_count": 18,
     "metadata": {},
     "output_type": "execute_result"
    }
   ],
   "source": [
    "siab_train.shape"
   ]
  },
  {
   "cell_type": "code",
   "execution_count": 19,
   "id": "d582db68-1a4c-47fb-84fc-08518dc1975a",
   "metadata": {
    "execution": {
     "iopub.execute_input": "2025-07-30T14:16:15.927478Z",
     "iopub.status.busy": "2025-07-30T14:16:15.926826Z",
     "iopub.status.idle": "2025-07-30T14:16:15.937011Z",
     "shell.execute_reply": "2025-07-30T14:16:15.935949Z"
    },
    "papermill": {
     "duration": 0.036906,
     "end_time": "2025-07-30T14:16:15.938866",
     "exception": false,
     "start_time": "2025-07-30T14:16:15.901960",
     "status": "completed"
    },
    "tags": []
   },
   "outputs": [
    {
     "data": {
      "text/plain": [
       "year\n",
       "2010    1000\n",
       "2011    1000\n",
       "2012    1000\n",
       "2013    1000\n",
       "2014    1000\n",
       "dtype: int64"
      ]
     },
     "metadata": {},
     "output_type": "display_data"
    }
   ],
   "source": [
    "display(siab_train.groupby(\"year\").size())"
   ]
  },
  {
   "cell_type": "code",
   "execution_count": 20,
   "id": "a561edb4-d032-42cb-8256-22eac1111c64",
   "metadata": {
    "execution": {
     "iopub.execute_input": "2025-07-30T14:16:15.982031Z",
     "iopub.status.busy": "2025-07-30T14:16:15.981205Z",
     "iopub.status.idle": "2025-07-30T14:16:16.250655Z",
     "shell.execute_reply": "2025-07-30T14:16:16.249757Z"
    },
    "papermill": {
     "duration": 0.295105,
     "end_time": "2025-07-30T14:16:16.252565",
     "exception": false,
     "start_time": "2025-07-30T14:16:15.957460",
     "status": "completed"
    },
    "tags": []
   },
   "outputs": [],
   "source": [
    "#siab_train = siab_s[siab_s.year < 2015]\n",
    "siab_calib = siab[siab.year == 2015]\n",
    "siab_test = siab[siab.year == 2016]"
   ]
  },
  {
   "cell_type": "code",
   "execution_count": 21,
   "id": "472de16f-c3db-4916-846b-1f0de9cf1746",
   "metadata": {
    "execution": {
     "iopub.execute_input": "2025-07-30T14:16:16.294719Z",
     "iopub.status.busy": "2025-07-30T14:16:16.294218Z",
     "iopub.status.idle": "2025-07-30T14:16:16.302582Z",
     "shell.execute_reply": "2025-07-30T14:16:16.301484Z"
    },
    "papermill": {
     "duration": 0.03105,
     "end_time": "2025-07-30T14:16:16.304284",
     "exception": false,
     "start_time": "2025-07-30T14:16:16.273234",
     "status": "completed"
    },
    "tags": []
   },
   "outputs": [],
   "source": [
    "X_train = siab_train.iloc[:,4:164]\n",
    "y_train = siab_train.iloc[:, [3]]"
   ]
  },
  {
   "cell_type": "code",
   "execution_count": 22,
   "id": "828c96af-f43a-4ed6-ba47-8ac73a47d56c",
   "metadata": {
    "execution": {
     "iopub.execute_input": "2025-07-30T14:16:16.348141Z",
     "iopub.status.busy": "2025-07-30T14:16:16.347602Z",
     "iopub.status.idle": "2025-07-30T14:16:16.405686Z",
     "shell.execute_reply": "2025-07-30T14:16:16.404669Z"
    },
    "papermill": {
     "duration": 0.082003,
     "end_time": "2025-07-30T14:16:16.407475",
     "exception": false,
     "start_time": "2025-07-30T14:16:16.325472",
     "status": "completed"
    },
    "tags": []
   },
   "outputs": [],
   "source": [
    "X_calib = siab_calib.iloc[:,4:164]\n",
    "y_calib = siab_calib.iloc[:, [3]]"
   ]
  },
  {
   "cell_type": "code",
   "execution_count": 23,
   "id": "c34be9c3-6bd6-476e-acd3-845840e303be",
   "metadata": {
    "execution": {
     "iopub.execute_input": "2025-07-30T14:16:16.452310Z",
     "iopub.status.busy": "2025-07-30T14:16:16.451836Z",
     "iopub.status.idle": "2025-07-30T14:16:16.505644Z",
     "shell.execute_reply": "2025-07-30T14:16:16.504601Z"
    },
    "papermill": {
     "duration": 0.078291,
     "end_time": "2025-07-30T14:16:16.507277",
     "exception": false,
     "start_time": "2025-07-30T14:16:16.428986",
     "status": "completed"
    },
    "tags": []
   },
   "outputs": [],
   "source": [
    "X_test = siab_test.iloc[:,4:164]\n",
    "y_true = siab_test.iloc[:, [3]]"
   ]
  },
  {
   "cell_type": "markdown",
   "id": "9901737e-04df-44f0-9100-f5ad144ed040",
   "metadata": {
    "papermill": {
     "duration": 0.019962,
     "end_time": "2025-07-30T14:16:16.548862",
     "exception": false,
     "start_time": "2025-07-30T14:16:16.528900",
     "status": "completed"
    },
    "tags": []
   },
   "source": [
    "# Splitting Data and Setting Training Data Size OLD VERSION"
   ]
  },
  {
   "cell_type": "code",
   "execution_count": 24,
   "id": "acbc8f7d-8fc8-4e86-8c59-5dcb0f58384b",
   "metadata": {
    "execution": {
     "iopub.execute_input": "2025-07-30T14:16:16.591258Z",
     "iopub.status.busy": "2025-07-30T14:16:16.590607Z",
     "iopub.status.idle": "2025-07-30T14:16:16.596131Z",
     "shell.execute_reply": "2025-07-30T14:16:16.595257Z"
    },
    "papermill": {
     "duration": 0.028695,
     "end_time": "2025-07-30T14:16:16.597679",
     "exception": false,
     "start_time": "2025-07-30T14:16:16.568984",
     "status": "completed"
    },
    "tags": []
   },
   "outputs": [],
   "source": [
    "#def sample_by_year(df, training_size, random_state=42):\n",
    "#    if training_size == \"2014\":\n",
    "#        return df[df[\"year\"] == 2014].reset_index(drop=True)\n",
    "#    \n",
    "#    size_map = {\n",
    "#        \"25k\": 5000,\n",
    "#        \"5k\": 1000,\n",
    "#        \"1k\": 200\n",
    "#    }\n",
    "#\n",
    "#    if training_size not in size_map:\n",
    "#        return df.reset_index(drop=True)  # use all data\n",
    "#\n",
    "#    n_per_year = size_map[training_size]\n",
    "#    grouped = df.groupby(\"year\")\n",
    "#    sampled = grouped.apply(lambda x: x.sample(n=min(n_per_year, len(x)), random_state=random_state))\n",
    "#    return sampled.reset_index(drop=True)"
   ]
  },
  {
   "cell_type": "code",
   "execution_count": 25,
   "id": "6d931f52-beaf-43ff-9e78-9d44a448d54e",
   "metadata": {
    "execution": {
     "iopub.execute_input": "2025-07-30T14:16:16.641325Z",
     "iopub.status.busy": "2025-07-30T14:16:16.640645Z",
     "iopub.status.idle": "2025-07-30T14:16:16.645597Z",
     "shell.execute_reply": "2025-07-30T14:16:16.644761Z"
    },
    "papermill": {
     "duration": 0.028596,
     "end_time": "2025-07-30T14:16:16.647475",
     "exception": false,
     "start_time": "2025-07-30T14:16:16.618879",
     "status": "completed"
    },
    "tags": []
   },
   "outputs": [],
   "source": [
    "#siab_s = sample_by_year(siab, universe[\"training_size\"])"
   ]
  },
  {
   "cell_type": "code",
   "execution_count": 26,
   "id": "5db0a40e-a4e2-4920-be85-b12ae061d70d",
   "metadata": {
    "execution": {
     "iopub.execute_input": "2025-07-30T14:16:16.691321Z",
     "iopub.status.busy": "2025-07-30T14:16:16.690864Z",
     "iopub.status.idle": "2025-07-30T14:16:16.695621Z",
     "shell.execute_reply": "2025-07-30T14:16:16.694750Z"
    },
    "papermill": {
     "duration": 0.02817,
     "end_time": "2025-07-30T14:16:16.697217",
     "exception": false,
     "start_time": "2025-07-30T14:16:16.669047",
     "status": "completed"
    },
    "tags": []
   },
   "outputs": [],
   "source": [
    "#display(siab_s.groupby(\"year\").size())"
   ]
  },
  {
   "cell_type": "code",
   "execution_count": 27,
   "id": "e6c733c5",
   "metadata": {
    "execution": {
     "iopub.execute_input": "2025-07-30T14:16:16.740720Z",
     "iopub.status.busy": "2025-07-30T14:16:16.740307Z",
     "iopub.status.idle": "2025-07-30T14:16:16.835062Z",
     "shell.execute_reply": "2025-07-30T14:16:16.834145Z"
    },
    "papermill": {
     "duration": 0.117679,
     "end_time": "2025-07-30T14:16:16.837072",
     "exception": false,
     "start_time": "2025-07-30T14:16:16.719393",
     "status": "completed"
    },
    "tags": []
   },
   "outputs": [],
   "source": [
    "# Auxiliary data needed downstream in the pipeline\n",
    "\n",
    "org_train = X_train.copy()\n",
    "org_test = X_test.copy()\n",
    "org_calib = X_calib.copy()"
   ]
  },
  {
   "cell_type": "code",
   "execution_count": 28,
   "id": "1466abac-c6da-4492-a62f-4240ae3783af",
   "metadata": {
    "execution": {
     "iopub.execute_input": "2025-07-30T14:16:16.880473Z",
     "iopub.status.busy": "2025-07-30T14:16:16.879843Z",
     "iopub.status.idle": "2025-07-30T14:16:16.885645Z",
     "shell.execute_reply": "2025-07-30T14:16:16.884723Z"
    },
    "papermill": {
     "duration": 0.028405,
     "end_time": "2025-07-30T14:16:16.887235",
     "exception": false,
     "start_time": "2025-07-30T14:16:16.858830",
     "status": "completed"
    },
    "tags": []
   },
   "outputs": [],
   "source": [
    "# put in other script?\n",
    "# Group sizes\n",
    "\n",
    "#def calculate_percentages(df, df_name):\n",
    "#    total_entries = len(df)\n",
    "#\n",
    "#    female_pct = (df['frau1'] == 1).mean() * 100\n",
    "#    non_german_pct = ((df['maxdeutsch1'] == 0) & (df['maxdeutsch.Missing.'] == 0)).mean() * 100\n",
    "#    non_german_male_pct = ((df['frau1'] == 0) & (df['maxdeutsch1'] == 0) & (df['maxdeutsch.Missing.'] == 0)).mean() * 100\n",
    "#    non_german_female_pct = ((df['frau1'] == 1) & (df['maxdeutsch1'] == 0) & (df['maxdeutsch.Missing.'] == 0)).mean() * 100\n",
    "#\n",
    "#    print(f\"--- {df_name} ---\")\n",
    "#    print(f\"Female: {female_pct:.2f}%\")\n",
    "#    print(f\"Non-German: {non_german_pct:.2f}%\")\n",
    "#    print(f\"Non-German Male: {non_german_male_pct:.2f}%\")\n",
    "#    print(f\"Non-German Female: {non_german_female_pct:.2f}%\\n\")\n",
    "#\n",
    "## Calculate for each DataFrame\n",
    "#calculate_percentages(siab_calib, \"siab_calib\")\n",
    "#calculate_percentages(siab_test, \"siab_test\")\n",
    "#calculate_percentages(siab_train, \"siab_train\")"
   ]
  },
  {
   "cell_type": "markdown",
   "id": "0a4a1b33",
   "metadata": {
    "papermill": {
     "duration": 0.020102,
     "end_time": "2025-07-30T14:16:16.928382",
     "exception": false,
     "start_time": "2025-07-30T14:16:16.908280",
     "status": "completed"
    },
    "tags": []
   },
   "source": [
    "# Preprocessing Data"
   ]
  },
  {
   "cell_type": "code",
   "execution_count": 29,
   "id": "ca879031",
   "metadata": {
    "execution": {
     "iopub.execute_input": "2025-07-30T14:16:16.972502Z",
     "iopub.status.busy": "2025-07-30T14:16:16.971810Z",
     "iopub.status.idle": "2025-07-30T14:16:16.977888Z",
     "shell.execute_reply": "2025-07-30T14:16:16.976854Z"
    },
    "papermill": {
     "duration": 0.030829,
     "end_time": "2025-07-30T14:16:16.979499",
     "exception": false,
     "start_time": "2025-07-30T14:16:16.948670",
     "status": "completed"
    },
    "tags": []
   },
   "outputs": [],
   "source": [
    "# EXCLUDE PROTECTED FEATURES\n",
    "# ----------------------\n",
    "# \"exclude_features\": \"none\", # \"nationality\", \"sex\", \"nationality-sex\"\n",
    "\n",
    "excluded_features = universe[\"exclude_features\"].split(\"-\") # split, e.g.: \"nationality-sex\" -> [\"nationality\", \"sex\"]\n",
    "excluded_features_dictionary = {\n",
    "    \"nationality\": [\"maxdeutsch1\", \"maxdeutsch.Missing.\"],\n",
    "    \"sex\": [\"frau1\"],\n",
    "    \"age\": [\"age\"],\n",
    "}\n"
   ]
  },
  {
   "cell_type": "code",
   "execution_count": 30,
   "id": "b745ac60",
   "metadata": {
    "execution": {
     "iopub.execute_input": "2025-07-30T14:16:17.023664Z",
     "iopub.status.busy": "2025-07-30T14:16:17.022907Z",
     "iopub.status.idle": "2025-07-30T14:16:17.028579Z",
     "shell.execute_reply": "2025-07-30T14:16:17.027692Z"
    },
    "papermill": {
     "duration": 0.029266,
     "end_time": "2025-07-30T14:16:17.030146",
     "exception": false,
     "start_time": "2025-07-30T14:16:17.000880",
     "status": "completed"
    },
    "tags": []
   },
   "outputs": [],
   "source": [
    "# Code nice names to column names\n",
    "\n",
    "excluded_features_columns = [\n",
    "    excluded_features_dictionary[f] for f in excluded_features if len(f) > 0 and f != \"none\"\n",
    "]"
   ]
  },
  {
   "cell_type": "code",
   "execution_count": 31,
   "id": "f84f73a2",
   "metadata": {
    "execution": {
     "iopub.execute_input": "2025-07-30T14:16:17.072814Z",
     "iopub.status.busy": "2025-07-30T14:16:17.072324Z",
     "iopub.status.idle": "2025-07-30T14:16:17.079563Z",
     "shell.execute_reply": "2025-07-30T14:16:17.078701Z"
    },
    "papermill": {
     "duration": 0.03039,
     "end_time": "2025-07-30T14:16:17.081478",
     "exception": false,
     "start_time": "2025-07-30T14:16:17.051088",
     "status": "completed"
    },
    "tags": []
   },
   "outputs": [],
   "source": [
    "from utils import flatten_once\n",
    "\n",
    "excluded_features_columns = flatten_once(excluded_features_columns)"
   ]
  },
  {
   "cell_type": "code",
   "execution_count": 32,
   "id": "884dea22",
   "metadata": {
    "execution": {
     "iopub.execute_input": "2025-07-30T14:16:17.125160Z",
     "iopub.status.busy": "2025-07-30T14:16:17.124685Z",
     "iopub.status.idle": "2025-07-30T14:16:17.135145Z",
     "shell.execute_reply": "2025-07-30T14:16:17.134201Z"
    },
    "papermill": {
     "duration": 0.033508,
     "end_time": "2025-07-30T14:16:17.136750",
     "exception": false,
     "start_time": "2025-07-30T14:16:17.103242",
     "status": "completed"
    },
    "tags": []
   },
   "outputs": [
    {
     "name": "stdout",
     "output_type": "stream",
     "text": [
      "Dropping features: ['maxdeutsch1', 'maxdeutsch.Missing.']\n"
     ]
    }
   ],
   "source": [
    "if len(excluded_features_columns) > 0:\n",
    "    print(f\"Dropping features: {excluded_features_columns}\")\n",
    "    X_train.drop(excluded_features_columns, axis=1, inplace=True)"
   ]
  },
  {
   "cell_type": "code",
   "execution_count": 33,
   "id": "95ab8b16",
   "metadata": {
    "execution": {
     "iopub.execute_input": "2025-07-30T14:16:17.180553Z",
     "iopub.status.busy": "2025-07-30T14:16:17.179820Z",
     "iopub.status.idle": "2025-07-30T14:16:17.234902Z",
     "shell.execute_reply": "2025-07-30T14:16:17.233886Z"
    },
    "papermill": {
     "duration": 0.078259,
     "end_time": "2025-07-30T14:16:17.236766",
     "exception": false,
     "start_time": "2025-07-30T14:16:17.158507",
     "status": "completed"
    },
    "tags": []
   },
   "outputs": [
    {
     "name": "stdout",
     "output_type": "stream",
     "text": [
      "Dropping features: ['maxdeutsch1', 'maxdeutsch.Missing.']\n"
     ]
    }
   ],
   "source": [
    "if len(excluded_features_columns) > 0:\n",
    "    print(f\"Dropping features: {excluded_features_columns}\")\n",
    "    X_test.drop(excluded_features_columns, axis=1, inplace=True)"
   ]
  },
  {
   "cell_type": "code",
   "execution_count": 34,
   "id": "1853aaf5-fb9f-46cb-a2b5-8ea4ae2237e4",
   "metadata": {
    "execution": {
     "iopub.execute_input": "2025-07-30T14:16:17.281698Z",
     "iopub.status.busy": "2025-07-30T14:16:17.280946Z",
     "iopub.status.idle": "2025-07-30T14:16:17.331455Z",
     "shell.execute_reply": "2025-07-30T14:16:17.330249Z"
    },
    "papermill": {
     "duration": 0.075085,
     "end_time": "2025-07-30T14:16:17.333377",
     "exception": false,
     "start_time": "2025-07-30T14:16:17.258292",
     "status": "completed"
    },
    "tags": []
   },
   "outputs": [
    {
     "name": "stdout",
     "output_type": "stream",
     "text": [
      "Dropping features: ['maxdeutsch1', 'maxdeutsch.Missing.']\n"
     ]
    }
   ],
   "source": [
    "if len(excluded_features_columns) > 0:\n",
    "    print(f\"Dropping features: {excluded_features_columns}\")\n",
    "    X_calib.drop(excluded_features_columns, axis=1, inplace=True)"
   ]
  },
  {
   "cell_type": "code",
   "execution_count": 35,
   "id": "6727d079-03e5-481e-9d38-292a90b7a0a8",
   "metadata": {
    "execution": {
     "iopub.execute_input": "2025-07-30T14:16:17.378478Z",
     "iopub.status.busy": "2025-07-30T14:16:17.377775Z",
     "iopub.status.idle": "2025-07-30T14:16:17.382454Z",
     "shell.execute_reply": "2025-07-30T14:16:17.381535Z"
    },
    "papermill": {
     "duration": 0.028257,
     "end_time": "2025-07-30T14:16:17.384210",
     "exception": false,
     "start_time": "2025-07-30T14:16:17.355953",
     "status": "completed"
    },
    "tags": []
   },
   "outputs": [],
   "source": [
    "# SPLIT & STRATIFY DATA\n",
    "# ----------------------"
   ]
  },
  {
   "cell_type": "code",
   "execution_count": 36,
   "id": "76c4dc6d",
   "metadata": {
    "execution": {
     "iopub.execute_input": "2025-07-30T14:16:17.429374Z",
     "iopub.status.busy": "2025-07-30T14:16:17.428683Z",
     "iopub.status.idle": "2025-07-30T14:16:17.434012Z",
     "shell.execute_reply": "2025-07-30T14:16:17.433076Z"
    },
    "papermill": {
     "duration": 0.029123,
     "end_time": "2025-07-30T14:16:17.435513",
     "exception": false,
     "start_time": "2025-07-30T14:16:17.406390",
     "status": "completed"
    },
    "tags": []
   },
   "outputs": [],
   "source": [
    "# EXCLUDE CERTAIN SUBGROUPS\n",
    "# ----------------------\n",
    "\n",
    "mode = universe.get(\"exclude_subgroups\", \"keep-all\") \n",
    "# Fetches the exclude_subgroups setting from the universe dict.\n",
    "# Defaults to \"keep-all\" if the key is missing."
   ]
  },
  {
   "cell_type": "code",
   "execution_count": 37,
   "id": "21994072",
   "metadata": {
    "execution": {
     "iopub.execute_input": "2025-07-30T14:16:17.480578Z",
     "iopub.status.busy": "2025-07-30T14:16:17.479779Z",
     "iopub.status.idle": "2025-07-30T14:16:17.486458Z",
     "shell.execute_reply": "2025-07-30T14:16:17.485568Z"
    },
    "papermill": {
     "duration": 0.03109,
     "end_time": "2025-07-30T14:16:17.488132",
     "exception": false,
     "start_time": "2025-07-30T14:16:17.457042",
     "status": "completed"
    },
    "tags": []
   },
   "outputs": [],
   "source": [
    "if mode == \"keep-all\":\n",
    "    keep_mask = pd.Series(True, index=org_train.index)\n",
    "\n",
    "# org_train contains the original feature columns from features_org (in Simson)\n",
    "# features_org contains unprocessed features, for me X_train at beginning ???\n",
    "# For keep-all, creates a boolean Series (keep_mask) of all True, so no rows are removed.\n",
    "\n",
    "elif mode == \"drop-non-german\":\n",
    "    keep_mask = org_train[\"maxdeutsch1\"] == 1 # ??? what about missing values?\n",
    "\n",
    "else:\n",
    "    raise ValueError(f\"Unsupported mode for exclude_subgroups: {mode}\")\n"
   ]
  },
  {
   "cell_type": "code",
   "execution_count": 38,
   "id": "71651440",
   "metadata": {
    "execution": {
     "iopub.execute_input": "2025-07-30T14:16:17.533762Z",
     "iopub.status.busy": "2025-07-30T14:16:17.533035Z",
     "iopub.status.idle": "2025-07-30T14:16:17.540333Z",
     "shell.execute_reply": "2025-07-30T14:16:17.539395Z"
    },
    "papermill": {
     "duration": 0.031996,
     "end_time": "2025-07-30T14:16:17.541859",
     "exception": false,
     "start_time": "2025-07-30T14:16:17.509863",
     "status": "completed"
    },
    "tags": []
   },
   "outputs": [],
   "source": [
    "n_drop = (~keep_mask).sum() # Calculates how many rows are set to be dropped\n",
    "if n_drop > 0:\n",
    "    pct = n_drop / len(keep_mask) * 100\n",
    "    print(f\"Dropping {n_drop} rows ({pct:.2f}%) where mode='{mode}'\")"
   ]
  },
  {
   "cell_type": "code",
   "execution_count": 39,
   "id": "5fb8eee5",
   "metadata": {
    "execution": {
     "iopub.execute_input": "2025-07-30T14:16:17.588633Z",
     "iopub.status.busy": "2025-07-30T14:16:17.587803Z",
     "iopub.status.idle": "2025-07-30T14:16:17.596700Z",
     "shell.execute_reply": "2025-07-30T14:16:17.595511Z"
    },
    "papermill": {
     "duration": 0.034199,
     "end_time": "2025-07-30T14:16:17.598785",
     "exception": false,
     "start_time": "2025-07-30T14:16:17.564586",
     "status": "completed"
    },
    "tags": []
   },
   "outputs": [],
   "source": [
    "X_train = X_train[keep_mask]"
   ]
  },
  {
   "cell_type": "code",
   "execution_count": 40,
   "id": "b202bb3a",
   "metadata": {
    "execution": {
     "iopub.execute_input": "2025-07-30T14:16:17.645464Z",
     "iopub.status.busy": "2025-07-30T14:16:17.644829Z",
     "iopub.status.idle": "2025-07-30T14:16:17.650969Z",
     "shell.execute_reply": "2025-07-30T14:16:17.650151Z"
    },
    "papermill": {
     "duration": 0.029812,
     "end_time": "2025-07-30T14:16:17.652628",
     "exception": false,
     "start_time": "2025-07-30T14:16:17.622816",
     "status": "completed"
    },
    "tags": []
   },
   "outputs": [],
   "source": [
    "y_train = y_train[keep_mask]"
   ]
  },
  {
   "cell_type": "markdown",
   "id": "493e2ac3",
   "metadata": {
    "papermill": {
     "duration": 0.020981,
     "end_time": "2025-07-30T14:16:17.695879",
     "exception": false,
     "start_time": "2025-07-30T14:16:17.674898",
     "status": "completed"
    },
    "tags": []
   },
   "source": [
    "# Model Training"
   ]
  },
  {
   "cell_type": "code",
   "execution_count": 41,
   "id": "679e1268",
   "metadata": {
    "execution": {
     "iopub.execute_input": "2025-07-30T14:16:17.739994Z",
     "iopub.status.busy": "2025-07-30T14:16:17.739177Z",
     "iopub.status.idle": "2025-07-30T14:16:17.839274Z",
     "shell.execute_reply": "2025-07-30T14:16:17.838414Z"
    },
    "papermill": {
     "duration": 0.123554,
     "end_time": "2025-07-30T14:16:17.841054",
     "exception": false,
     "start_time": "2025-07-30T14:16:17.717500",
     "status": "completed"
    },
    "tags": []
   },
   "outputs": [],
   "source": [
    "from sklearn.linear_model import LogisticRegression\n",
    "from sklearn.ensemble import GradientBoostingClassifier, RandomForestClassifier\n",
    "\n",
    "if (universe[\"model\"] == \"logreg\"):\n",
    "    model = LogisticRegression() #penalty=\"none\") #, solver=\"newton-cg\", max_iter=1) # include random_state=19 ?\n",
    "elif (universe[\"model\"] == \"penalized_logreg\"):\n",
    "    model = LogisticRegression(penalty=\"l2\", C=1.0) #, solver=\"newton-cg\", max_iter=1)\n",
    "elif (universe[\"model\"] == \"rf\"):\n",
    "    model = RandomForestClassifier(n_estimators=100, n_jobs=-1)\n",
    "elif (universe[\"model\"] == \"gbm\"):\n",
    "    model = GradientBoostingClassifier()\n",
    "elif (universe[\"model\"] == \"elasticnet\"):\n",
    "    model = LogisticRegression(penalty = 'elasticnet', solver = 'saga', l1_ratio = 0.5, max_iter=5000) # which solver to use?\n",
    "else:\n",
    "    raise \"Unsupported universe.model\""
   ]
  },
  {
   "cell_type": "code",
   "execution_count": 42,
   "id": "0cc8f744",
   "metadata": {
    "execution": {
     "iopub.execute_input": "2025-07-30T14:16:17.886340Z",
     "iopub.status.busy": "2025-07-30T14:16:17.885542Z",
     "iopub.status.idle": "2025-07-30T14:16:17.891901Z",
     "shell.execute_reply": "2025-07-30T14:16:17.890968Z"
    },
    "papermill": {
     "duration": 0.030345,
     "end_time": "2025-07-30T14:16:17.893550",
     "exception": false,
     "start_time": "2025-07-30T14:16:17.863205",
     "status": "completed"
    },
    "tags": []
   },
   "outputs": [],
   "source": [
    "import numpy as np\n",
    "from sklearn.pipeline import Pipeline\n",
    "from sklearn.preprocessing import StandardScaler\n",
    "\n",
    "model = Pipeline([\n",
    "    #(\"continuous_processor\", continuous_processor),\n",
    "    #(\"categorical_preprocessor\", categorical_preprocessor),\n",
    "    (\"scale\", StandardScaler() if universe[\"scale\"] == \"scale\" else None), \n",
    "    (\"model\", model),\n",
    "])"
   ]
  },
  {
   "cell_type": "code",
   "execution_count": 43,
   "id": "9442c04d",
   "metadata": {
    "execution": {
     "iopub.execute_input": "2025-07-30T14:16:17.935534Z",
     "iopub.status.busy": "2025-07-30T14:16:17.935206Z",
     "iopub.status.idle": "2025-07-30T14:17:15.534151Z",
     "shell.execute_reply": "2025-07-30T14:17:15.533007Z"
    },
    "papermill": {
     "duration": 57.626458,
     "end_time": "2025-07-30T14:17:15.546251",
     "exception": false,
     "start_time": "2025-07-30T14:16:17.919793",
     "status": "completed"
    },
    "tags": []
   },
   "outputs": [
    {
     "data": {
      "text/html": [
       "<style>#sk-container-id-1 {color: black;background-color: white;}#sk-container-id-1 pre{padding: 0;}#sk-container-id-1 div.sk-toggleable {background-color: white;}#sk-container-id-1 label.sk-toggleable__label {cursor: pointer;display: block;width: 100%;margin-bottom: 0;padding: 0.3em;box-sizing: border-box;text-align: center;}#sk-container-id-1 label.sk-toggleable__label-arrow:before {content: \"▸\";float: left;margin-right: 0.25em;color: #696969;}#sk-container-id-1 label.sk-toggleable__label-arrow:hover:before {color: black;}#sk-container-id-1 div.sk-estimator:hover label.sk-toggleable__label-arrow:before {color: black;}#sk-container-id-1 div.sk-toggleable__content {max-height: 0;max-width: 0;overflow: hidden;text-align: left;background-color: #f0f8ff;}#sk-container-id-1 div.sk-toggleable__content pre {margin: 0.2em;color: black;border-radius: 0.25em;background-color: #f0f8ff;}#sk-container-id-1 input.sk-toggleable__control:checked~div.sk-toggleable__content {max-height: 200px;max-width: 100%;overflow: auto;}#sk-container-id-1 input.sk-toggleable__control:checked~label.sk-toggleable__label-arrow:before {content: \"▾\";}#sk-container-id-1 div.sk-estimator input.sk-toggleable__control:checked~label.sk-toggleable__label {background-color: #d4ebff;}#sk-container-id-1 div.sk-label input.sk-toggleable__control:checked~label.sk-toggleable__label {background-color: #d4ebff;}#sk-container-id-1 input.sk-hidden--visually {border: 0;clip: rect(1px 1px 1px 1px);clip: rect(1px, 1px, 1px, 1px);height: 1px;margin: -1px;overflow: hidden;padding: 0;position: absolute;width: 1px;}#sk-container-id-1 div.sk-estimator {font-family: monospace;background-color: #f0f8ff;border: 1px dotted black;border-radius: 0.25em;box-sizing: border-box;margin-bottom: 0.5em;}#sk-container-id-1 div.sk-estimator:hover {background-color: #d4ebff;}#sk-container-id-1 div.sk-parallel-item::after {content: \"\";width: 100%;border-bottom: 1px solid gray;flex-grow: 1;}#sk-container-id-1 div.sk-label:hover label.sk-toggleable__label {background-color: #d4ebff;}#sk-container-id-1 div.sk-serial::before {content: \"\";position: absolute;border-left: 1px solid gray;box-sizing: border-box;top: 0;bottom: 0;left: 50%;z-index: 0;}#sk-container-id-1 div.sk-serial {display: flex;flex-direction: column;align-items: center;background-color: white;padding-right: 0.2em;padding-left: 0.2em;position: relative;}#sk-container-id-1 div.sk-item {position: relative;z-index: 1;}#sk-container-id-1 div.sk-parallel {display: flex;align-items: stretch;justify-content: center;background-color: white;position: relative;}#sk-container-id-1 div.sk-item::before, #sk-container-id-1 div.sk-parallel-item::before {content: \"\";position: absolute;border-left: 1px solid gray;box-sizing: border-box;top: 0;bottom: 0;left: 50%;z-index: -1;}#sk-container-id-1 div.sk-parallel-item {display: flex;flex-direction: column;z-index: 1;position: relative;background-color: white;}#sk-container-id-1 div.sk-parallel-item:first-child::after {align-self: flex-end;width: 50%;}#sk-container-id-1 div.sk-parallel-item:last-child::after {align-self: flex-start;width: 50%;}#sk-container-id-1 div.sk-parallel-item:only-child::after {width: 0;}#sk-container-id-1 div.sk-dashed-wrapped {border: 1px dashed gray;margin: 0 0.4em 0.5em 0.4em;box-sizing: border-box;padding-bottom: 0.4em;background-color: white;}#sk-container-id-1 div.sk-label label {font-family: monospace;font-weight: bold;display: inline-block;line-height: 1.2em;}#sk-container-id-1 div.sk-label-container {text-align: center;}#sk-container-id-1 div.sk-container {/* jupyter's `normalize.less` sets `[hidden] { display: none; }` but bootstrap.min.css set `[hidden] { display: none !important; }` so we also need the `!important` here to be able to override the default hidden behavior on the sphinx rendered scikit-learn.org. See: https://github.com/scikit-learn/scikit-learn/issues/21755 */display: inline-block !important;position: relative;}#sk-container-id-1 div.sk-text-repr-fallback {display: none;}</style><div id=\"sk-container-id-1\" class=\"sk-top-container\"><div class=\"sk-text-repr-fallback\"><pre>Pipeline(steps=[(&#x27;scale&#x27;, None),\n",
       "                (&#x27;model&#x27;,\n",
       "                 LogisticRegression(l1_ratio=0.5, max_iter=5000,\n",
       "                                    penalty=&#x27;elasticnet&#x27;, solver=&#x27;saga&#x27;))])</pre><b>In a Jupyter environment, please rerun this cell to show the HTML representation or trust the notebook. <br />On GitHub, the HTML representation is unable to render, please try loading this page with nbviewer.org.</b></div><div class=\"sk-container\" hidden><div class=\"sk-item sk-dashed-wrapped\"><div class=\"sk-label-container\"><div class=\"sk-label sk-toggleable\"><input class=\"sk-toggleable__control sk-hidden--visually\" id=\"sk-estimator-id-1\" type=\"checkbox\" ><label for=\"sk-estimator-id-1\" class=\"sk-toggleable__label sk-toggleable__label-arrow\">Pipeline</label><div class=\"sk-toggleable__content\"><pre>Pipeline(steps=[(&#x27;scale&#x27;, None),\n",
       "                (&#x27;model&#x27;,\n",
       "                 LogisticRegression(l1_ratio=0.5, max_iter=5000,\n",
       "                                    penalty=&#x27;elasticnet&#x27;, solver=&#x27;saga&#x27;))])</pre></div></div></div><div class=\"sk-serial\"><div class=\"sk-item\"><div class=\"sk-estimator sk-toggleable\"><input class=\"sk-toggleable__control sk-hidden--visually\" id=\"sk-estimator-id-2\" type=\"checkbox\" ><label for=\"sk-estimator-id-2\" class=\"sk-toggleable__label sk-toggleable__label-arrow\">None</label><div class=\"sk-toggleable__content\"><pre>None</pre></div></div></div><div class=\"sk-item\"><div class=\"sk-estimator sk-toggleable\"><input class=\"sk-toggleable__control sk-hidden--visually\" id=\"sk-estimator-id-3\" type=\"checkbox\" ><label for=\"sk-estimator-id-3\" class=\"sk-toggleable__label sk-toggleable__label-arrow\">LogisticRegression</label><div class=\"sk-toggleable__content\"><pre>LogisticRegression(l1_ratio=0.5, max_iter=5000, penalty=&#x27;elasticnet&#x27;,\n",
       "                   solver=&#x27;saga&#x27;)</pre></div></div></div></div></div></div></div>"
      ],
      "text/plain": [
       "Pipeline(steps=[('scale', None),\n",
       "                ('model',\n",
       "                 LogisticRegression(l1_ratio=0.5, max_iter=5000,\n",
       "                                    penalty='elasticnet', solver='saga'))])"
      ]
     },
     "execution_count": 43,
     "metadata": {},
     "output_type": "execute_result"
    }
   ],
   "source": [
    "model.fit(X_train, y_train.values.ravel())"
   ]
  },
  {
   "cell_type": "code",
   "execution_count": 44,
   "id": "af59f8c0",
   "metadata": {
    "execution": {
     "iopub.execute_input": "2025-07-30T14:17:15.571303Z",
     "iopub.status.busy": "2025-07-30T14:17:15.570622Z",
     "iopub.status.idle": "2025-07-30T14:17:15.575499Z",
     "shell.execute_reply": "2025-07-30T14:17:15.574756Z"
    },
    "papermill": {
     "duration": 0.019112,
     "end_time": "2025-07-30T14:17:15.576956",
     "exception": false,
     "start_time": "2025-07-30T14:17:15.557844",
     "status": "completed"
    },
    "tags": []
   },
   "outputs": [],
   "source": [
    "from fairness_multiverse.universe import predict_w_threshold"
   ]
  },
  {
   "cell_type": "code",
   "execution_count": 45,
   "id": "a7cf2e16",
   "metadata": {
    "execution": {
     "iopub.execute_input": "2025-07-30T14:17:15.603097Z",
     "iopub.status.busy": "2025-07-30T14:17:15.602443Z",
     "iopub.status.idle": "2025-07-30T14:17:15.690361Z",
     "shell.execute_reply": "2025-07-30T14:17:15.689674Z"
    },
    "papermill": {
     "duration": 0.101726,
     "end_time": "2025-07-30T14:17:15.691622",
     "exception": false,
     "start_time": "2025-07-30T14:17:15.589896",
     "status": "completed"
    },
    "tags": []
   },
   "outputs": [
    {
     "data": {
      "text/plain": [
       "0.8573068777170884"
      ]
     },
     "execution_count": 45,
     "metadata": {},
     "output_type": "execute_result"
    }
   ],
   "source": [
    "probs_test = model.predict_proba(X_test)\n",
    "\n",
    "'''\n",
    "Below code returns a boolean array (or binary 0/1 array depending on how it’s used) where each element \n",
    "is True if the probability of class 1 is greater than or equal to the threshold, and False otherwise.\n",
    "'''\n",
    "y_pred_default = predict_w_threshold(probs_test, 0.5)\n",
    "\n",
    "from sklearn.metrics import accuracy_score\n",
    "\n",
    "# Naive prediction\n",
    "accuracy_score(y_true = y_true, y_pred = y_pred_default)"
   ]
  },
  {
   "cell_type": "code",
   "execution_count": 46,
   "id": "081964c3",
   "metadata": {
    "execution": {
     "iopub.execute_input": "2025-07-30T14:17:15.718341Z",
     "iopub.status.busy": "2025-07-30T14:17:15.717575Z",
     "iopub.status.idle": "2025-07-30T14:17:15.791615Z",
     "shell.execute_reply": "2025-07-30T14:17:15.790766Z"
    },
    "papermill": {
     "duration": 0.088182,
     "end_time": "2025-07-30T14:17:15.792995",
     "exception": false,
     "start_time": "2025-07-30T14:17:15.704813",
     "status": "completed"
    },
    "tags": []
   },
   "outputs": [
    {
     "data": {
      "text/plain": [
       "array([0, 0, 0, ..., 0, 0, 0])"
      ]
     },
     "execution_count": 46,
     "metadata": {},
     "output_type": "execute_result"
    }
   ],
   "source": [
    "model.predict(X_test)"
   ]
  },
  {
   "cell_type": "markdown",
   "id": "56c9705b",
   "metadata": {
    "papermill": {
     "duration": 0.012223,
     "end_time": "2025-07-30T14:17:15.818039",
     "exception": false,
     "start_time": "2025-07-30T14:17:15.805816",
     "status": "completed"
    },
    "tags": []
   },
   "source": [
    "# Conformal Prediction"
   ]
  },
  {
   "cell_type": "code",
   "execution_count": 47,
   "id": "160ec6ff",
   "metadata": {
    "execution": {
     "iopub.execute_input": "2025-07-30T14:17:15.843387Z",
     "iopub.status.busy": "2025-07-30T14:17:15.842742Z",
     "iopub.status.idle": "2025-07-30T14:17:15.846932Z",
     "shell.execute_reply": "2025-07-30T14:17:15.846275Z"
    },
    "papermill": {
     "duration": 0.018348,
     "end_time": "2025-07-30T14:17:15.848275",
     "exception": false,
     "start_time": "2025-07-30T14:17:15.829927",
     "status": "completed"
    },
    "tags": []
   },
   "outputs": [],
   "source": [
    "# Miscoverage level for conformal prediction (10% allowed error rate => 90% target coverage)\n",
    "alpha = 0.1"
   ]
  },
  {
   "cell_type": "code",
   "execution_count": 48,
   "id": "eadf4555-3dd3-440e-8e35-f82a4ad9f855",
   "metadata": {
    "execution": {
     "iopub.execute_input": "2025-07-30T14:17:15.875149Z",
     "iopub.status.busy": "2025-07-30T14:17:15.874665Z",
     "iopub.status.idle": "2025-07-30T14:17:15.949345Z",
     "shell.execute_reply": "2025-07-30T14:17:15.948584Z"
    },
    "papermill": {
     "duration": 0.08924,
     "end_time": "2025-07-30T14:17:15.950743",
     "exception": false,
     "start_time": "2025-07-30T14:17:15.861503",
     "status": "completed"
    },
    "tags": []
   },
   "outputs": [],
   "source": [
    "probs_calib = model.predict_proba(X_calib)"
   ]
  },
  {
   "cell_type": "code",
   "execution_count": 49,
   "id": "2ed93547-6d5d-4983-9b36-1ecb300da49a",
   "metadata": {
    "execution": {
     "iopub.execute_input": "2025-07-30T14:17:15.977483Z",
     "iopub.status.busy": "2025-07-30T14:17:15.976847Z",
     "iopub.status.idle": "2025-07-30T14:17:15.981734Z",
     "shell.execute_reply": "2025-07-30T14:17:15.980940Z"
    },
    "papermill": {
     "duration": 0.019473,
     "end_time": "2025-07-30T14:17:15.983136",
     "exception": false,
     "start_time": "2025-07-30T14:17:15.963663",
     "status": "completed"
    },
    "tags": []
   },
   "outputs": [],
   "source": [
    "y_calib = y_calib.values.ravel().astype(int)"
   ]
  },
  {
   "cell_type": "code",
   "execution_count": 50,
   "id": "65d1320d-f588-4b38-9072-62af1ae97f7d",
   "metadata": {
    "execution": {
     "iopub.execute_input": "2025-07-30T14:17:16.010030Z",
     "iopub.status.busy": "2025-07-30T14:17:16.009367Z",
     "iopub.status.idle": "2025-07-30T14:17:16.015845Z",
     "shell.execute_reply": "2025-07-30T14:17:16.015090Z"
    },
    "papermill": {
     "duration": 0.020659,
     "end_time": "2025-07-30T14:17:16.017214",
     "exception": false,
     "start_time": "2025-07-30T14:17:15.996555",
     "status": "completed"
    },
    "tags": []
   },
   "outputs": [],
   "source": [
    "from fairness_multiverse.conformal import compute_nc_scores\n",
    "\n",
    "# Compute nonconformity scores on calibration set (1 - probability of true class)\n",
    "nc_scores = compute_nc_scores(probs_calib, y_calib)"
   ]
  },
  {
   "cell_type": "code",
   "execution_count": 51,
   "id": "df3b8ca3-53b7-43d5-9667-7c85da7aeda2",
   "metadata": {
    "execution": {
     "iopub.execute_input": "2025-07-30T14:17:16.043704Z",
     "iopub.status.busy": "2025-07-30T14:17:16.043107Z",
     "iopub.status.idle": "2025-07-30T14:17:16.048721Z",
     "shell.execute_reply": "2025-07-30T14:17:16.047961Z"
    },
    "papermill": {
     "duration": 0.019691,
     "end_time": "2025-07-30T14:17:16.050015",
     "exception": false,
     "start_time": "2025-07-30T14:17:16.030324",
     "status": "completed"
    },
    "tags": []
   },
   "outputs": [],
   "source": [
    "from fairness_multiverse.conformal import find_threshold\n",
    "\n",
    "# Find conformal threshold q_hat for the given alpha (split conformal method)\n",
    "q_hat = find_threshold(nc_scores, alpha)"
   ]
  },
  {
   "cell_type": "code",
   "execution_count": 52,
   "id": "4d29e6c1-0ef6-4aa4-b8fe-4fe79b0d033a",
   "metadata": {
    "execution": {
     "iopub.execute_input": "2025-07-30T14:17:16.077236Z",
     "iopub.status.busy": "2025-07-30T14:17:16.076654Z",
     "iopub.status.idle": "2025-07-30T14:17:16.082515Z",
     "shell.execute_reply": "2025-07-30T14:17:16.081783Z"
    },
    "papermill": {
     "duration": 0.020286,
     "end_time": "2025-07-30T14:17:16.083854",
     "exception": false,
     "start_time": "2025-07-30T14:17:16.063568",
     "status": "completed"
    },
    "tags": []
   },
   "outputs": [
    {
     "data": {
      "text/plain": [
       "0.6861217451914869"
      ]
     },
     "execution_count": 52,
     "metadata": {},
     "output_type": "execute_result"
    }
   ],
   "source": [
    "q_hat"
   ]
  },
  {
   "cell_type": "code",
   "execution_count": 53,
   "id": "92460794-cdac-4be2-ba28-f28c0515a6fb",
   "metadata": {
    "execution": {
     "iopub.execute_input": "2025-07-30T14:17:16.110600Z",
     "iopub.status.busy": "2025-07-30T14:17:16.109998Z",
     "iopub.status.idle": "2025-07-30T14:17:16.583496Z",
     "shell.execute_reply": "2025-07-30T14:17:16.582728Z"
    },
    "papermill": {
     "duration": 0.487886,
     "end_time": "2025-07-30T14:17:16.584993",
     "exception": false,
     "start_time": "2025-07-30T14:17:16.097107",
     "status": "completed"
    },
    "tags": []
   },
   "outputs": [],
   "source": [
    "from fairness_multiverse.conformal import predict_conformal_sets\n",
    "\n",
    "# Generate prediction sets for each test example\n",
    "pred_sets = predict_conformal_sets(model, X_test, q_hat)"
   ]
  },
  {
   "cell_type": "code",
   "execution_count": 54,
   "id": "d90c9a65-e6db-4f5d-80cd-e68fb7e46829",
   "metadata": {
    "execution": {
     "iopub.execute_input": "2025-07-30T14:17:16.611504Z",
     "iopub.status.busy": "2025-07-30T14:17:16.611213Z",
     "iopub.status.idle": "2025-07-30T14:17:16.615606Z",
     "shell.execute_reply": "2025-07-30T14:17:16.614763Z"
    },
    "papermill": {
     "duration": 0.018726,
     "end_time": "2025-07-30T14:17:16.616900",
     "exception": false,
     "start_time": "2025-07-30T14:17:16.598174",
     "status": "completed"
    },
    "tags": []
   },
   "outputs": [],
   "source": [
    "y_true = y_true.squeeze()"
   ]
  },
  {
   "cell_type": "code",
   "execution_count": 55,
   "id": "3a58a54a-1e68-46b9-927a-df01f18aebc8",
   "metadata": {
    "execution": {
     "iopub.execute_input": "2025-07-30T14:17:16.644192Z",
     "iopub.status.busy": "2025-07-30T14:17:16.643577Z",
     "iopub.status.idle": "2025-07-30T14:17:17.110326Z",
     "shell.execute_reply": "2025-07-30T14:17:17.109590Z"
    },
    "papermill": {
     "duration": 0.48109,
     "end_time": "2025-07-30T14:17:17.111761",
     "exception": false,
     "start_time": "2025-07-30T14:17:16.630671",
     "status": "completed"
    },
    "tags": []
   },
   "outputs": [],
   "source": [
    "from fairness_multiverse.conformal import evaluate_sets\n",
    "\n",
    "# Evaluate coverage and average set size on test data\n",
    "metrics = evaluate_sets(pred_sets, y_true)"
   ]
  },
  {
   "cell_type": "markdown",
   "id": "2b569c12-9aaa-4c88-98c9-bbcd0cf3ebb8",
   "metadata": {
    "papermill": {
     "duration": 0.012387,
     "end_time": "2025-07-30T14:17:17.137298",
     "exception": false,
     "start_time": "2025-07-30T14:17:17.124911",
     "status": "completed"
    },
    "tags": []
   },
   "source": [
    "# CP Metrics"
   ]
  },
  {
   "cell_type": "code",
   "execution_count": 56,
   "id": "5ce0a5cb-201f-45a0-ade5-94c7f0bd6095",
   "metadata": {
    "execution": {
     "iopub.execute_input": "2025-07-30T14:17:17.163098Z",
     "iopub.status.busy": "2025-07-30T14:17:17.162475Z",
     "iopub.status.idle": "2025-07-30T14:17:17.168703Z",
     "shell.execute_reply": "2025-07-30T14:17:17.167957Z"
    },
    "papermill": {
     "duration": 0.020572,
     "end_time": "2025-07-30T14:17:17.170045",
     "exception": false,
     "start_time": "2025-07-30T14:17:17.149473",
     "status": "completed"
    },
    "tags": []
   },
   "outputs": [
    {
     "data": {
      "text/plain": [
       "{'coverage': 0.9099431501504849, 'avg_size': 1.147809608739271}"
      ]
     },
     "execution_count": 56,
     "metadata": {},
     "output_type": "execute_result"
    }
   ],
   "source": [
    "metrics"
   ]
  },
  {
   "cell_type": "code",
   "execution_count": 57,
   "id": "9b9a838d-31c9-430b-ae14-12baee460d17",
   "metadata": {
    "execution": {
     "iopub.execute_input": "2025-07-30T14:17:17.197667Z",
     "iopub.status.busy": "2025-07-30T14:17:17.197178Z",
     "iopub.status.idle": "2025-07-30T14:17:17.202090Z",
     "shell.execute_reply": "2025-07-30T14:17:17.201345Z"
    },
    "papermill": {
     "duration": 0.019459,
     "end_time": "2025-07-30T14:17:17.203427",
     "exception": false,
     "start_time": "2025-07-30T14:17:17.183968",
     "status": "completed"
    },
    "tags": []
   },
   "outputs": [],
   "source": [
    "example_universe = universe.copy()\n",
    "universe_training_size = example_universe.get(\"training_size\")\n",
    "universe_scale = example_universe.get(\"scale\")\n",
    "universe_model = example_universe.get(\"model\")\n",
    "universe_exclude_features = example_universe.get(\"exclude_features\")\n",
    "universe_exclude_subgroups = example_universe.get(\"exclude_subgroups\")"
   ]
  },
  {
   "cell_type": "code",
   "execution_count": 58,
   "id": "f4b6a8ac-9dc0-4245-8a91-5b3b5999c4f9",
   "metadata": {
    "execution": {
     "iopub.execute_input": "2025-07-30T14:17:17.231130Z",
     "iopub.status.busy": "2025-07-30T14:17:17.230425Z",
     "iopub.status.idle": "2025-07-30T14:17:17.235513Z",
     "shell.execute_reply": "2025-07-30T14:17:17.234780Z"
    },
    "papermill": {
     "duration": 0.019581,
     "end_time": "2025-07-30T14:17:17.236808",
     "exception": false,
     "start_time": "2025-07-30T14:17:17.217227",
     "status": "completed"
    },
    "tags": []
   },
   "outputs": [],
   "source": [
    "cp_metrics_dict = {\n",
    "    \"universe_id\": [universe_id],\n",
    "    \"universe_training_size\": [universe_training_size],\n",
    "    \"universe_scale\": [universe_scale],\n",
    "    \"universe_model\": [universe_model],\n",
    "    \"universe_exclude_features\": [universe_exclude_features],\n",
    "    \"universe_exclude_subgroups\": [universe_exclude_subgroups],\n",
    "    \"q_hat\": [q_hat],\n",
    "    \"coverage\": [metrics[\"coverage\"]],\n",
    "    \"avg_size\": [metrics[\"avg_size\"]],\n",
    "}"
   ]
  },
  {
   "cell_type": "code",
   "execution_count": 59,
   "id": "908acbb1-0371-4915-85ca-3fa520d2efe2",
   "metadata": {
    "execution": {
     "iopub.execute_input": "2025-07-30T14:17:17.264932Z",
     "iopub.status.busy": "2025-07-30T14:17:17.264149Z",
     "iopub.status.idle": "2025-07-30T14:17:17.270351Z",
     "shell.execute_reply": "2025-07-30T14:17:17.269433Z"
    },
    "papermill": {
     "duration": 0.020747,
     "end_time": "2025-07-30T14:17:17.271674",
     "exception": false,
     "start_time": "2025-07-30T14:17:17.250927",
     "status": "completed"
    },
    "tags": []
   },
   "outputs": [
    {
     "data": {
      "text/plain": [
       "{'universe_id': ['52d8dcb8340dbcc8d443153a5eb65e8a'],\n",
       " 'universe_training_size': ['5k'],\n",
       " 'universe_scale': ['do-not-scale'],\n",
       " 'universe_model': ['elasticnet'],\n",
       " 'universe_exclude_features': ['nationality'],\n",
       " 'universe_exclude_subgroups': ['keep-all'],\n",
       " 'q_hat': [0.6861217451914869],\n",
       " 'coverage': [0.9099431501504849],\n",
       " 'avg_size': [1.147809608739271]}"
      ]
     },
     "execution_count": 59,
     "metadata": {},
     "output_type": "execute_result"
    }
   ],
   "source": [
    "cp_metrics_dict"
   ]
  },
  {
   "cell_type": "code",
   "execution_count": 60,
   "id": "33007efc-14e9-4ec6-97ac-56a455c82265",
   "metadata": {
    "execution": {
     "iopub.execute_input": "2025-07-30T14:17:17.299963Z",
     "iopub.status.busy": "2025-07-30T14:17:17.299232Z",
     "iopub.status.idle": "2025-07-30T14:17:17.304232Z",
     "shell.execute_reply": "2025-07-30T14:17:17.303488Z"
    },
    "papermill": {
     "duration": 0.019719,
     "end_time": "2025-07-30T14:17:17.305520",
     "exception": false,
     "start_time": "2025-07-30T14:17:17.285801",
     "status": "completed"
    },
    "tags": []
   },
   "outputs": [],
   "source": [
    "cp_metrics_df = pd.DataFrame(cp_metrics_dict)"
   ]
  },
  {
   "cell_type": "code",
   "execution_count": 61,
   "id": "db12611b-57b2-4910-b9d0-355adfd6e7bf",
   "metadata": {
    "execution": {
     "iopub.execute_input": "2025-07-30T14:17:17.333431Z",
     "iopub.status.busy": "2025-07-30T14:17:17.332919Z",
     "iopub.status.idle": "2025-07-30T14:17:17.346616Z",
     "shell.execute_reply": "2025-07-30T14:17:17.345789Z"
    },
    "papermill": {
     "duration": 0.028439,
     "end_time": "2025-07-30T14:17:17.347964",
     "exception": false,
     "start_time": "2025-07-30T14:17:17.319525",
     "status": "completed"
    },
    "tags": []
   },
   "outputs": [
    {
     "data": {
      "text/html": [
       "<div>\n",
       "<style scoped>\n",
       "    .dataframe tbody tr th:only-of-type {\n",
       "        vertical-align: middle;\n",
       "    }\n",
       "\n",
       "    .dataframe tbody tr th {\n",
       "        vertical-align: top;\n",
       "    }\n",
       "\n",
       "    .dataframe thead th {\n",
       "        text-align: right;\n",
       "    }\n",
       "</style>\n",
       "<table border=\"1\" class=\"dataframe\">\n",
       "  <thead>\n",
       "    <tr style=\"text-align: right;\">\n",
       "      <th></th>\n",
       "      <th>universe_id</th>\n",
       "      <th>universe_training_size</th>\n",
       "      <th>universe_scale</th>\n",
       "      <th>universe_model</th>\n",
       "      <th>universe_exclude_features</th>\n",
       "      <th>universe_exclude_subgroups</th>\n",
       "      <th>q_hat</th>\n",
       "      <th>coverage</th>\n",
       "      <th>avg_size</th>\n",
       "    </tr>\n",
       "  </thead>\n",
       "  <tbody>\n",
       "    <tr>\n",
       "      <th>0</th>\n",
       "      <td>52d8dcb8340dbcc8d443153a5eb65e8a</td>\n",
       "      <td>5k</td>\n",
       "      <td>do-not-scale</td>\n",
       "      <td>elasticnet</td>\n",
       "      <td>nationality</td>\n",
       "      <td>keep-all</td>\n",
       "      <td>0.686122</td>\n",
       "      <td>0.909943</td>\n",
       "      <td>1.14781</td>\n",
       "    </tr>\n",
       "  </tbody>\n",
       "</table>\n",
       "</div>"
      ],
      "text/plain": [
       "                        universe_id universe_training_size universe_scale  \\\n",
       "0  52d8dcb8340dbcc8d443153a5eb65e8a                     5k   do-not-scale   \n",
       "\n",
       "  universe_model universe_exclude_features universe_exclude_subgroups  \\\n",
       "0     elasticnet               nationality                   keep-all   \n",
       "\n",
       "      q_hat  coverage  avg_size  \n",
       "0  0.686122  0.909943   1.14781  "
      ]
     },
     "execution_count": 61,
     "metadata": {},
     "output_type": "execute_result"
    }
   ],
   "source": [
    "cp_metrics_df"
   ]
  },
  {
   "cell_type": "code",
   "execution_count": 62,
   "id": "b7fbde55-a0a1-47e4-9af6-fe4a17fa8c61",
   "metadata": {
    "execution": {
     "iopub.execute_input": "2025-07-30T14:17:17.375815Z",
     "iopub.status.busy": "2025-07-30T14:17:17.375081Z",
     "iopub.status.idle": "2025-07-30T14:17:17.379303Z",
     "shell.execute_reply": "2025-07-30T14:17:17.378539Z"
    },
    "papermill": {
     "duration": 0.019311,
     "end_time": "2025-07-30T14:17:17.380633",
     "exception": false,
     "start_time": "2025-07-30T14:17:17.361322",
     "status": "completed"
    },
    "tags": []
   },
   "outputs": [],
   "source": [
    "# Conditional Coverage & looking at subgroups"
   ]
  },
  {
   "cell_type": "code",
   "execution_count": 63,
   "id": "027ae886-68dd-4141-96c7-805a5450e1ef",
   "metadata": {
    "execution": {
     "iopub.execute_input": "2025-07-30T14:17:17.408812Z",
     "iopub.status.busy": "2025-07-30T14:17:17.408196Z",
     "iopub.status.idle": "2025-07-30T14:17:17.576682Z",
     "shell.execute_reply": "2025-07-30T14:17:17.575929Z"
    },
    "papermill": {
     "duration": 0.183393,
     "end_time": "2025-07-30T14:17:17.578149",
     "exception": false,
     "start_time": "2025-07-30T14:17:17.394756",
     "status": "completed"
    },
    "tags": []
   },
   "outputs": [],
   "source": [
    "from fairness_multiverse.conformal import build_cp_groups\n",
    "\n",
    "cp_groups_df = build_cp_groups(pred_sets, y_true, X_test.index, org_test)\n",
    "#needs universe_id and setting"
   ]
  },
  {
   "cell_type": "code",
   "execution_count": 64,
   "id": "01d5802c-663a-4d1f-9d69-e036faaffbf7",
   "metadata": {
    "execution": {
     "iopub.execute_input": "2025-07-30T14:17:17.606266Z",
     "iopub.status.busy": "2025-07-30T14:17:17.605966Z",
     "iopub.status.idle": "2025-07-30T14:17:17.609878Z",
     "shell.execute_reply": "2025-07-30T14:17:17.609098Z"
    },
    "papermill": {
     "duration": 0.01889,
     "end_time": "2025-07-30T14:17:17.611108",
     "exception": false,
     "start_time": "2025-07-30T14:17:17.592218",
     "status": "completed"
    },
    "tags": []
   },
   "outputs": [],
   "source": [
    "#delete\n",
    "#cp_groups_df"
   ]
  },
  {
   "cell_type": "code",
   "execution_count": 65,
   "id": "fa424af1-d1eb-443d-b717-2d279ada8408",
   "metadata": {
    "execution": {
     "iopub.execute_input": "2025-07-30T14:17:17.640127Z",
     "iopub.status.busy": "2025-07-30T14:17:17.639340Z",
     "iopub.status.idle": "2025-07-30T14:17:17.643646Z",
     "shell.execute_reply": "2025-07-30T14:17:17.642877Z"
    },
    "papermill": {
     "duration": 0.019635,
     "end_time": "2025-07-30T14:17:17.645097",
     "exception": false,
     "start_time": "2025-07-30T14:17:17.625462",
     "status": "completed"
    },
    "tags": []
   },
   "outputs": [],
   "source": [
    "#delete\n",
    "#percentage = (cp_groups_df['nongerman_female'] == 1).mean() * 100\n",
    "#print(percentage)\n"
   ]
  },
  {
   "cell_type": "code",
   "execution_count": 66,
   "id": "6cbdab96-b2b2-45af-ad54-d0516db2e28d",
   "metadata": {
    "execution": {
     "iopub.execute_input": "2025-07-30T14:17:17.673799Z",
     "iopub.status.busy": "2025-07-30T14:17:17.673048Z",
     "iopub.status.idle": "2025-07-30T14:17:18.513838Z",
     "shell.execute_reply": "2025-07-30T14:17:18.513095Z"
    },
    "papermill": {
     "duration": 0.855827,
     "end_time": "2025-07-30T14:17:18.515196",
     "exception": false,
     "start_time": "2025-07-30T14:17:17.659369",
     "status": "completed"
    },
    "tags": []
   },
   "outputs": [],
   "source": [
    "# Define covered = 1 if true_label is in the predicted set\n",
    "cp_groups_df['covered'] = cp_groups_df.apply(\n",
    "    lambda r: int(r['true_label'] in r['pred_set']),\n",
    "    axis=1\n",
    ")"
   ]
  },
  {
   "cell_type": "code",
   "execution_count": 67,
   "id": "338ff529-1a6b-4b87-a931-8e4788d52aad",
   "metadata": {
    "execution": {
     "iopub.execute_input": "2025-07-30T14:17:18.543731Z",
     "iopub.status.busy": "2025-07-30T14:17:18.543497Z",
     "iopub.status.idle": "2025-07-30T14:17:18.547341Z",
     "shell.execute_reply": "2025-07-30T14:17:18.546634Z"
    },
    "papermill": {
     "duration": 0.019371,
     "end_time": "2025-07-30T14:17:18.548743",
     "exception": false,
     "start_time": "2025-07-30T14:17:18.529372",
     "status": "completed"
    },
    "tags": []
   },
   "outputs": [],
   "source": [
    "#cp_groups_df"
   ]
  },
  {
   "cell_type": "code",
   "execution_count": 68,
   "id": "90032e27-66df-4540-9169-4e89cfbaa758",
   "metadata": {
    "execution": {
     "iopub.execute_input": "2025-07-30T14:17:18.577336Z",
     "iopub.status.busy": "2025-07-30T14:17:18.577052Z",
     "iopub.status.idle": "2025-07-30T14:17:18.585703Z",
     "shell.execute_reply": "2025-07-30T14:17:18.584988Z"
    },
    "papermill": {
     "duration": 0.023802,
     "end_time": "2025-07-30T14:17:18.587111",
     "exception": false,
     "start_time": "2025-07-30T14:17:18.563309",
     "status": "completed"
    },
    "tags": []
   },
   "outputs": [],
   "source": [
    "subgroups = ['frau1','nongerman','nongerman_male','nongerman_female']\n",
    "\n",
    "# Conditional coverage for subgroup==1\n",
    "cond_coverage = {\n",
    "    g: cp_groups_df.loc[cp_groups_df[g]==1, 'covered'].mean()\n",
    "    for g in subgroups\n",
    "}"
   ]
  },
  {
   "cell_type": "code",
   "execution_count": 69,
   "id": "1e348fb1-b9c3-45bc-ba23-f016827a7e0d",
   "metadata": {
    "execution": {
     "iopub.execute_input": "2025-07-30T14:17:18.615766Z",
     "iopub.status.busy": "2025-07-30T14:17:18.615166Z",
     "iopub.status.idle": "2025-07-30T14:17:18.621534Z",
     "shell.execute_reply": "2025-07-30T14:17:18.620759Z"
    },
    "papermill": {
     "duration": 0.021639,
     "end_time": "2025-07-30T14:17:18.622879",
     "exception": false,
     "start_time": "2025-07-30T14:17:18.601240",
     "status": "completed"
    },
    "tags": []
   },
   "outputs": [
    {
     "data": {
      "text/plain": [
       "{'frau1': 0.9096913330637553,\n",
       " 'nongerman': 0.9115252905181609,\n",
       " 'nongerman_male': 0.9251553634152931,\n",
       " 'nongerman_female': 0.8889716840536512}"
      ]
     },
     "execution_count": 69,
     "metadata": {},
     "output_type": "execute_result"
    }
   ],
   "source": [
    "cond_coverage"
   ]
  },
  {
   "cell_type": "code",
   "execution_count": 70,
   "id": "f5093324-c3dd-4d63-bc4c-8d945e5c8bbb",
   "metadata": {
    "execution": {
     "iopub.execute_input": "2025-07-30T14:17:18.651737Z",
     "iopub.status.busy": "2025-07-30T14:17:18.651143Z",
     "iopub.status.idle": "2025-07-30T14:17:18.656850Z",
     "shell.execute_reply": "2025-07-30T14:17:18.656108Z"
    },
    "papermill": {
     "duration": 0.021066,
     "end_time": "2025-07-30T14:17:18.658202",
     "exception": false,
     "start_time": "2025-07-30T14:17:18.637136",
     "status": "completed"
    },
    "tags": []
   },
   "outputs": [],
   "source": [
    "for subgroup, cov in cond_coverage.items():\n",
    "    cp_metrics_df[f\"cov_{subgroup}\"] = cov"
   ]
  },
  {
   "cell_type": "code",
   "execution_count": 71,
   "id": "6e872e10-dbe5-49e8-b554-5030c98ff75d",
   "metadata": {
    "execution": {
     "iopub.execute_input": "2025-07-30T14:17:18.687426Z",
     "iopub.status.busy": "2025-07-30T14:17:18.686777Z",
     "iopub.status.idle": "2025-07-30T14:17:18.700027Z",
     "shell.execute_reply": "2025-07-30T14:17:18.699161Z"
    },
    "papermill": {
     "duration": 0.028643,
     "end_time": "2025-07-30T14:17:18.701578",
     "exception": false,
     "start_time": "2025-07-30T14:17:18.672935",
     "status": "completed"
    },
    "tags": []
   },
   "outputs": [
    {
     "data": {
      "text/html": [
       "<div>\n",
       "<style scoped>\n",
       "    .dataframe tbody tr th:only-of-type {\n",
       "        vertical-align: middle;\n",
       "    }\n",
       "\n",
       "    .dataframe tbody tr th {\n",
       "        vertical-align: top;\n",
       "    }\n",
       "\n",
       "    .dataframe thead th {\n",
       "        text-align: right;\n",
       "    }\n",
       "</style>\n",
       "<table border=\"1\" class=\"dataframe\">\n",
       "  <thead>\n",
       "    <tr style=\"text-align: right;\">\n",
       "      <th></th>\n",
       "      <th>universe_id</th>\n",
       "      <th>universe_training_size</th>\n",
       "      <th>universe_scale</th>\n",
       "      <th>universe_model</th>\n",
       "      <th>universe_exclude_features</th>\n",
       "      <th>universe_exclude_subgroups</th>\n",
       "      <th>q_hat</th>\n",
       "      <th>coverage</th>\n",
       "      <th>avg_size</th>\n",
       "      <th>cov_frau1</th>\n",
       "      <th>cov_nongerman</th>\n",
       "      <th>cov_nongerman_male</th>\n",
       "      <th>cov_nongerman_female</th>\n",
       "    </tr>\n",
       "  </thead>\n",
       "  <tbody>\n",
       "    <tr>\n",
       "      <th>0</th>\n",
       "      <td>52d8dcb8340dbcc8d443153a5eb65e8a</td>\n",
       "      <td>5k</td>\n",
       "      <td>do-not-scale</td>\n",
       "      <td>elasticnet</td>\n",
       "      <td>nationality</td>\n",
       "      <td>keep-all</td>\n",
       "      <td>0.686122</td>\n",
       "      <td>0.909943</td>\n",
       "      <td>1.14781</td>\n",
       "      <td>0.909691</td>\n",
       "      <td>0.911525</td>\n",
       "      <td>0.925155</td>\n",
       "      <td>0.888972</td>\n",
       "    </tr>\n",
       "  </tbody>\n",
       "</table>\n",
       "</div>"
      ],
      "text/plain": [
       "                        universe_id universe_training_size universe_scale  \\\n",
       "0  52d8dcb8340dbcc8d443153a5eb65e8a                     5k   do-not-scale   \n",
       "\n",
       "  universe_model universe_exclude_features universe_exclude_subgroups  \\\n",
       "0     elasticnet               nationality                   keep-all   \n",
       "\n",
       "      q_hat  coverage  avg_size  cov_frau1  cov_nongerman  cov_nongerman_male  \\\n",
       "0  0.686122  0.909943   1.14781   0.909691       0.911525            0.925155   \n",
       "\n",
       "   cov_nongerman_female  \n",
       "0              0.888972  "
      ]
     },
     "execution_count": 71,
     "metadata": {},
     "output_type": "execute_result"
    }
   ],
   "source": [
    "cp_metrics_df"
   ]
  },
  {
   "cell_type": "markdown",
   "id": "33774451",
   "metadata": {
    "papermill": {
     "duration": 0.013395,
     "end_time": "2025-07-30T14:17:18.729537",
     "exception": false,
     "start_time": "2025-07-30T14:17:18.716142",
     "status": "completed"
    },
    "tags": []
   },
   "source": [
    "# (Fairness) Metrics"
   ]
  },
  {
   "cell_type": "code",
   "execution_count": 72,
   "id": "debc5d62",
   "metadata": {
    "execution": {
     "iopub.execute_input": "2025-07-30T14:17:18.757704Z",
     "iopub.status.busy": "2025-07-30T14:17:18.757085Z",
     "iopub.status.idle": "2025-07-30T14:17:18.771446Z",
     "shell.execute_reply": "2025-07-30T14:17:18.770597Z"
    },
    "papermill": {
     "duration": 0.030136,
     "end_time": "2025-07-30T14:17:18.772765",
     "exception": false,
     "start_time": "2025-07-30T14:17:18.742629",
     "status": "completed"
    },
    "tags": []
   },
   "outputs": [],
   "source": [
    "# do I need to include maxdeutsch1.missing?\n",
    "\n",
    "import numpy as np\n",
    "\n",
    "colname_to_bin = \"maxdeutsch1\"\n",
    "majority_value = org_train[colname_to_bin].mode()[0]\n",
    "\n",
    "org_test[\"majmin\"] = np.where(org_test[colname_to_bin] == majority_value, \"majority\", \"minority\")"
   ]
  },
  {
   "cell_type": "code",
   "execution_count": 73,
   "id": "06a50de5",
   "metadata": {
    "execution": {
     "iopub.execute_input": "2025-07-30T14:17:18.801536Z",
     "iopub.status.busy": "2025-07-30T14:17:18.800943Z",
     "iopub.status.idle": "2025-07-30T14:17:20.209035Z",
     "shell.execute_reply": "2025-07-30T14:17:20.208262Z"
    },
    "papermill": {
     "duration": 1.423619,
     "end_time": "2025-07-30T14:17:20.210410",
     "exception": false,
     "start_time": "2025-07-30T14:17:18.786791",
     "status": "completed"
    },
    "tags": []
   },
   "outputs": [],
   "source": [
    "example_universe = universe.copy()\n",
    "example_universe[\"cutoff\"] = example_universe[\"cutoff\"][0]\n",
    "example_universe[\"eval_fairness_grouping\"] = example_universe[\"eval_fairness_grouping\"][0]\n",
    "fairness_dict, metric_frame = universe_analysis.compute_metrics(\n",
    "    example_universe,\n",
    "    y_pred_prob=probs_test,\n",
    "    y_test=y_true,\n",
    "    org_test=org_test,\n",
    ")"
   ]
  },
  {
   "cell_type": "markdown",
   "id": "f95d4e02",
   "metadata": {
    "papermill": {
     "duration": 0.013429,
     "end_time": "2025-07-30T14:17:20.238412",
     "exception": false,
     "start_time": "2025-07-30T14:17:20.224983",
     "status": "completed"
    },
    "tags": []
   },
   "source": [
    "# Overall"
   ]
  },
  {
   "cell_type": "markdown",
   "id": "bdee4871",
   "metadata": {
    "papermill": {
     "duration": 0.013535,
     "end_time": "2025-07-30T14:17:20.265454",
     "exception": false,
     "start_time": "2025-07-30T14:17:20.251919",
     "status": "completed"
    },
    "tags": []
   },
   "source": [
    "Fairness\n",
    "Main fairness target: Equalized Odds. Seems to be a better fit than equal opportunity, since we're not only interested in Y = 1. Seems to be a better fit than demographic parity, since we also care about accuracy, not just equal distribution of preds.\n",
    "\n",
    "Pick column for computation of fairness metrics\n",
    "\n",
    "Performance\n",
    "Overall performance measures, most interesting in relation to the measures split by group below"
   ]
  },
  {
   "cell_type": "code",
   "execution_count": 74,
   "id": "c4e067c6",
   "metadata": {
    "execution": {
     "iopub.execute_input": "2025-07-30T14:17:20.334861Z",
     "iopub.status.busy": "2025-07-30T14:17:20.334368Z",
     "iopub.status.idle": "2025-07-30T14:17:20.341441Z",
     "shell.execute_reply": "2025-07-30T14:17:20.340768Z"
    },
    "papermill": {
     "duration": 0.023099,
     "end_time": "2025-07-30T14:17:20.342761",
     "exception": false,
     "start_time": "2025-07-30T14:17:20.319662",
     "status": "completed"
    },
    "tags": []
   },
   "outputs": [
    {
     "data": {
      "text/plain": [
       "accuracy                   0.219987\n",
       "balanced accuracy          0.538817\n",
       "f1                         0.241439\n",
       "precision                  0.137926\n",
       "false positive rate        0.890041\n",
       "false negative rate        0.032325\n",
       "selection rate             0.900000\n",
       "count                  89710.000000\n",
       "dtype: float64"
      ]
     },
     "execution_count": 74,
     "metadata": {},
     "output_type": "execute_result"
    }
   ],
   "source": [
    "metric_frame.overall"
   ]
  },
  {
   "cell_type": "markdown",
   "id": "e968fe9d",
   "metadata": {
    "papermill": {
     "duration": 0.013744,
     "end_time": "2025-07-30T14:17:20.371642",
     "exception": false,
     "start_time": "2025-07-30T14:17:20.357898",
     "status": "completed"
    },
    "tags": []
   },
   "source": [
    "By Group"
   ]
  },
  {
   "cell_type": "code",
   "execution_count": 75,
   "id": "ec325bce",
   "metadata": {
    "execution": {
     "iopub.execute_input": "2025-07-30T14:17:20.400227Z",
     "iopub.status.busy": "2025-07-30T14:17:20.399579Z",
     "iopub.status.idle": "2025-07-30T14:17:20.411183Z",
     "shell.execute_reply": "2025-07-30T14:17:20.410405Z"
    },
    "papermill": {
     "duration": 0.027286,
     "end_time": "2025-07-30T14:17:20.412605",
     "exception": false,
     "start_time": "2025-07-30T14:17:20.385319",
     "status": "completed"
    },
    "tags": []
   },
   "outputs": [
    {
     "data": {
      "text/html": [
       "<div>\n",
       "<style scoped>\n",
       "    .dataframe tbody tr th:only-of-type {\n",
       "        vertical-align: middle;\n",
       "    }\n",
       "\n",
       "    .dataframe tbody tr th {\n",
       "        vertical-align: top;\n",
       "    }\n",
       "\n",
       "    .dataframe thead th {\n",
       "        text-align: right;\n",
       "    }\n",
       "</style>\n",
       "<table border=\"1\" class=\"dataframe\">\n",
       "  <thead>\n",
       "    <tr style=\"text-align: right;\">\n",
       "      <th></th>\n",
       "      <th>accuracy</th>\n",
       "      <th>balanced accuracy</th>\n",
       "      <th>f1</th>\n",
       "      <th>precision</th>\n",
       "      <th>false positive rate</th>\n",
       "      <th>false negative rate</th>\n",
       "      <th>selection rate</th>\n",
       "      <th>count</th>\n",
       "    </tr>\n",
       "    <tr>\n",
       "      <th>majmin</th>\n",
       "      <th></th>\n",
       "      <th></th>\n",
       "      <th></th>\n",
       "      <th></th>\n",
       "      <th></th>\n",
       "      <th></th>\n",
       "      <th></th>\n",
       "      <th></th>\n",
       "    </tr>\n",
       "  </thead>\n",
       "  <tbody>\n",
       "    <tr>\n",
       "      <th>majority</th>\n",
       "      <td>0.241767</td>\n",
       "      <td>0.547485</td>\n",
       "      <td>0.251303</td>\n",
       "      <td>0.144506</td>\n",
       "      <td>0.868049</td>\n",
       "      <td>0.036980</td>\n",
       "      <td>0.880599</td>\n",
       "      <td>69170.0</td>\n",
       "    </tr>\n",
       "    <tr>\n",
       "      <th>minority</th>\n",
       "      <td>0.146641</td>\n",
       "      <td>0.511476</td>\n",
       "      <td>0.210308</td>\n",
       "      <td>0.117712</td>\n",
       "      <td>0.962690</td>\n",
       "      <td>0.014358</td>\n",
       "      <td>0.965336</td>\n",
       "      <td>20540.0</td>\n",
       "    </tr>\n",
       "  </tbody>\n",
       "</table>\n",
       "</div>"
      ],
      "text/plain": [
       "          accuracy  balanced accuracy        f1  precision  \\\n",
       "majmin                                                       \n",
       "majority  0.241767           0.547485  0.251303   0.144506   \n",
       "minority  0.146641           0.511476  0.210308   0.117712   \n",
       "\n",
       "          false positive rate  false negative rate  selection rate    count  \n",
       "majmin                                                                       \n",
       "majority             0.868049             0.036980        0.880599  69170.0  \n",
       "minority             0.962690             0.014358        0.965336  20540.0  "
      ]
     },
     "execution_count": 75,
     "metadata": {},
     "output_type": "execute_result"
    }
   ],
   "source": [
    "metric_frame.by_group"
   ]
  },
  {
   "cell_type": "code",
   "execution_count": 76,
   "id": "a9ddbe63",
   "metadata": {
    "execution": {
     "iopub.execute_input": "2025-07-30T14:17:20.443102Z",
     "iopub.status.busy": "2025-07-30T14:17:20.442496Z",
     "iopub.status.idle": "2025-07-30T14:17:21.941100Z",
     "shell.execute_reply": "2025-07-30T14:17:21.940418Z"
    },
    "papermill": {
     "duration": 1.514328,
     "end_time": "2025-07-30T14:17:21.942285",
     "exception": false,
     "start_time": "2025-07-30T14:17:20.427957",
     "status": "completed"
    },
    "tags": []
   },
   "outputs": [
    {
     "data": {
      "text/plain": [
       "array([[<Axes: title={'center': 'accuracy'}, xlabel='majmin'>,\n",
       "        <Axes: title={'center': 'balanced accuracy'}, xlabel='majmin'>,\n",
       "        <Axes: title={'center': 'f1'}, xlabel='majmin'>],\n",
       "       [<Axes: title={'center': 'precision'}, xlabel='majmin'>,\n",
       "        <Axes: title={'center': 'false positive rate'}, xlabel='majmin'>,\n",
       "        <Axes: title={'center': 'false negative rate'}, xlabel='majmin'>],\n",
       "       [<Axes: title={'center': 'selection rate'}, xlabel='majmin'>,\n",
       "        <Axes: title={'center': 'count'}, xlabel='majmin'>,\n",
       "        <Axes: xlabel='majmin'>]], dtype=object)"
      ]
     },
     "execution_count": 76,
     "metadata": {},
     "output_type": "execute_result"
    },
    {
     "data": {
      "image/png": "[encoded data removed]",
      "text/plain": [
       "<Figure size 1200x800 with 9 Axes>"
      ]
     },
     "metadata": {},
     "output_type": "display_data"
    }
   ],
   "source": [
    "# In a graphic\n",
    "metric_frame.by_group.plot.bar(\n",
    "    subplots=True,\n",
    "    layout=[3, 3],\n",
    "    legend=False,\n",
    "    figsize=[12, 8],\n",
    "    title=\"Show all metrics\",\n",
    ")"
   ]
  },
  {
   "cell_type": "markdown",
   "id": "f57a0bac",
   "metadata": {
    "papermill": {
     "duration": 0.014803,
     "end_time": "2025-07-30T14:17:21.973116",
     "exception": false,
     "start_time": "2025-07-30T14:17:21.958313",
     "status": "completed"
    },
    "tags": []
   },
   "source": [
    "# Final Output"
   ]
  },
  {
   "cell_type": "code",
   "execution_count": 77,
   "id": "96d280a3",
   "metadata": {
    "execution": {
     "iopub.execute_input": "2025-07-30T14:17:22.004145Z",
     "iopub.status.busy": "2025-07-30T14:17:22.003287Z",
     "iopub.status.idle": "2025-07-30T14:17:22.010183Z",
     "shell.execute_reply": "2025-07-30T14:17:22.009433Z"
    },
    "papermill": {
     "duration": 0.023865,
     "end_time": "2025-07-30T14:17:22.011522",
     "exception": false,
     "start_time": "2025-07-30T14:17:21.987657",
     "status": "completed"
    },
    "tags": []
   },
   "outputs": [
    {
     "data": {
      "text/plain": [
       "4"
      ]
     },
     "execution_count": 77,
     "metadata": {},
     "output_type": "execute_result"
    }
   ],
   "source": [
    "sub_universes = universe_analysis.generate_sub_universes()\n",
    "len(sub_universes)"
   ]
  },
  {
   "cell_type": "code",
   "execution_count": 78,
   "id": "92adf7ba",
   "metadata": {
    "execution": {
     "iopub.execute_input": "2025-07-30T14:17:22.043877Z",
     "iopub.status.busy": "2025-07-30T14:17:22.043262Z",
     "iopub.status.idle": "2025-07-30T14:17:22.048305Z",
     "shell.execute_reply": "2025-07-30T14:17:22.047620Z"
    },
    "papermill": {
     "duration": 0.021999,
     "end_time": "2025-07-30T14:17:22.049617",
     "exception": false,
     "start_time": "2025-07-30T14:17:22.027618",
     "status": "completed"
    },
    "tags": []
   },
   "outputs": [],
   "source": [
    "def filter_sub_universe_data(sub_universe, org_test):\n",
    "    # Keep all rows — no filtering\n",
    "    keep_rows_mask = np.ones(org_test.shape[0], dtype=bool)\n",
    "\n",
    "    print(f\"[INFO] Keeping all rows: {keep_rows_mask.sum()} rows retained.\")\n",
    "    return keep_rows_mask"
   ]
  },
  {
   "cell_type": "code",
   "execution_count": 79,
   "id": "4a759155",
   "metadata": {
    "execution": {
     "iopub.execute_input": "2025-07-30T14:17:22.081729Z",
     "iopub.status.busy": "2025-07-30T14:17:22.081105Z",
     "iopub.status.idle": "2025-07-30T14:17:27.603204Z",
     "shell.execute_reply": "2025-07-30T14:17:27.602220Z"
    },
    "papermill": {
     "duration": 5.53909,
     "end_time": "2025-07-30T14:17:27.604680",
     "exception": false,
     "start_time": "2025-07-30T14:17:22.065590",
     "status": "completed"
    },
    "tags": []
   },
   "outputs": [
    {
     "name": "stdout",
     "output_type": "stream",
     "text": [
      "Stopping execution_time clock.\n",
      "[INFO] Keeping all rows: 89710 rows retained.\n"
     ]
    },
    {
     "name": "stdout",
     "output_type": "stream",
     "text": [
      "[INFO] Keeping all rows: 89710 rows retained.\n"
     ]
    },
    {
     "name": "stdout",
     "output_type": "stream",
     "text": [
      "[INFO] Keeping all rows: 89710 rows retained.\n"
     ]
    },
    {
     "name": "stdout",
     "output_type": "stream",
     "text": [
      "[INFO] Keeping all rows: 89710 rows retained.\n"
     ]
    },
    {
     "data": {
      "text/html": [
       "<div>\n",
       "<style scoped>\n",
       "    .dataframe tbody tr th:only-of-type {\n",
       "        vertical-align: middle;\n",
       "    }\n",
       "\n",
       "    .dataframe tbody tr th {\n",
       "        vertical-align: top;\n",
       "    }\n",
       "\n",
       "    .dataframe thead th {\n",
       "        text-align: right;\n",
       "    }\n",
       "</style>\n",
       "<table border=\"1\" class=\"dataframe\">\n",
       "  <thead>\n",
       "    <tr style=\"text-align: right;\">\n",
       "      <th></th>\n",
       "      <th>run_no</th>\n",
       "      <th>universe_id</th>\n",
       "      <th>universe_settings</th>\n",
       "      <th>execution_time</th>\n",
       "      <th>test_size_n</th>\n",
       "      <th>test_size_frac</th>\n",
       "      <th>fair_main_equalized_odds_difference</th>\n",
       "      <th>fair_main_equalized_odds_ratio</th>\n",
       "      <th>fair_main_demographic_parity_difference</th>\n",
       "      <th>fair_main_demographic_parity_ratio</th>\n",
       "      <th>...</th>\n",
       "      <th>perf_grp_precision_0</th>\n",
       "      <th>perf_grp_precision_1</th>\n",
       "      <th>perf_grp_false positive rate_0</th>\n",
       "      <th>perf_grp_false positive rate_1</th>\n",
       "      <th>perf_grp_false negative rate_0</th>\n",
       "      <th>perf_grp_false negative rate_1</th>\n",
       "      <th>perf_grp_selection rate_0</th>\n",
       "      <th>perf_grp_selection rate_1</th>\n",
       "      <th>perf_grp_count_0</th>\n",
       "      <th>perf_grp_count_1</th>\n",
       "    </tr>\n",
       "  </thead>\n",
       "  <tbody>\n",
       "    <tr>\n",
       "      <th>0</th>\n",
       "      <td>12</td>\n",
       "      <td>52d8dcb8340dbcc8d443153a5eb65e8a</td>\n",
       "      <td>{\"cutoff\": \"quantile_0.1\", \"eval_fairness_grou...</td>\n",
       "      <td>78.750345</td>\n",
       "      <td>89710</td>\n",
       "      <td>1.0</td>\n",
       "      <td>0.094641</td>\n",
       "      <td>0.901692</td>\n",
       "      <td>0.084737</td>\n",
       "      <td>0.912220</td>\n",
       "      <td>...</td>\n",
       "      <td>NaN</td>\n",
       "      <td>NaN</td>\n",
       "      <td>NaN</td>\n",
       "      <td>NaN</td>\n",
       "      <td>NaN</td>\n",
       "      <td>NaN</td>\n",
       "      <td>NaN</td>\n",
       "      <td>NaN</td>\n",
       "      <td>NaN</td>\n",
       "      <td>NaN</td>\n",
       "    </tr>\n",
       "    <tr>\n",
       "      <th>0</th>\n",
       "      <td>12</td>\n",
       "      <td>52d8dcb8340dbcc8d443153a5eb65e8a</td>\n",
       "      <td>{\"cutoff\": \"quantile_0.1\", \"eval_fairness_grou...</td>\n",
       "      <td>78.750345</td>\n",
       "      <td>89710</td>\n",
       "      <td>1.0</td>\n",
       "      <td>0.094641</td>\n",
       "      <td>0.901692</td>\n",
       "      <td>0.084737</td>\n",
       "      <td>0.912220</td>\n",
       "      <td>...</td>\n",
       "      <td>0.117712</td>\n",
       "      <td>0.144506</td>\n",
       "      <td>0.962690</td>\n",
       "      <td>0.868049</td>\n",
       "      <td>0.014358</td>\n",
       "      <td>0.036980</td>\n",
       "      <td>0.965336</td>\n",
       "      <td>0.880599</td>\n",
       "      <td>20540.0</td>\n",
       "      <td>69170.0</td>\n",
       "    </tr>\n",
       "    <tr>\n",
       "      <th>0</th>\n",
       "      <td>12</td>\n",
       "      <td>52d8dcb8340dbcc8d443153a5eb65e8a</td>\n",
       "      <td>{\"cutoff\": \"quantile_0.25\", \"eval_fairness_gro...</td>\n",
       "      <td>78.750345</td>\n",
       "      <td>89710</td>\n",
       "      <td>1.0</td>\n",
       "      <td>0.219838</td>\n",
       "      <td>0.754810</td>\n",
       "      <td>0.197896</td>\n",
       "      <td>0.780744</td>\n",
       "      <td>...</td>\n",
       "      <td>NaN</td>\n",
       "      <td>NaN</td>\n",
       "      <td>NaN</td>\n",
       "      <td>NaN</td>\n",
       "      <td>NaN</td>\n",
       "      <td>NaN</td>\n",
       "      <td>NaN</td>\n",
       "      <td>NaN</td>\n",
       "      <td>NaN</td>\n",
       "      <td>NaN</td>\n",
       "    </tr>\n",
       "    <tr>\n",
       "      <th>0</th>\n",
       "      <td>12</td>\n",
       "      <td>52d8dcb8340dbcc8d443153a5eb65e8a</td>\n",
       "      <td>{\"cutoff\": \"quantile_0.25\", \"eval_fairness_gro...</td>\n",
       "      <td>78.750345</td>\n",
       "      <td>89710</td>\n",
       "      <td>1.0</td>\n",
       "      <td>0.219838</td>\n",
       "      <td>0.754810</td>\n",
       "      <td>0.197896</td>\n",
       "      <td>0.780744</td>\n",
       "      <td>...</td>\n",
       "      <td>0.121150</td>\n",
       "      <td>0.166526</td>\n",
       "      <td>0.896599</td>\n",
       "      <td>0.676762</td>\n",
       "      <td>0.051520</td>\n",
       "      <td>0.111926</td>\n",
       "      <td>0.902580</td>\n",
       "      <td>0.704684</td>\n",
       "      <td>20540.0</td>\n",
       "      <td>69170.0</td>\n",
       "    </tr>\n",
       "  </tbody>\n",
       "</table>\n",
       "<p>4 rows × 50 columns</p>\n",
       "</div>"
      ],
      "text/plain": [
       "  run_no                       universe_id  \\\n",
       "0     12  52d8dcb8340dbcc8d443153a5eb65e8a   \n",
       "0     12  52d8dcb8340dbcc8d443153a5eb65e8a   \n",
       "0     12  52d8dcb8340dbcc8d443153a5eb65e8a   \n",
       "0     12  52d8dcb8340dbcc8d443153a5eb65e8a   \n",
       "\n",
       "                                   universe_settings  execution_time  \\\n",
       "0  {\"cutoff\": \"quantile_0.1\", \"eval_fairness_grou...       78.750345   \n",
       "0  {\"cutoff\": \"quantile_0.1\", \"eval_fairness_grou...       78.750345   \n",
       "0  {\"cutoff\": \"quantile_0.25\", \"eval_fairness_gro...       78.750345   \n",
       "0  {\"cutoff\": \"quantile_0.25\", \"eval_fairness_gro...       78.750345   \n",
       "\n",
       "   test_size_n  test_size_frac  fair_main_equalized_odds_difference  \\\n",
       "0        89710             1.0                             0.094641   \n",
       "0        89710             1.0                             0.094641   \n",
       "0        89710             1.0                             0.219838   \n",
       "0        89710             1.0                             0.219838   \n",
       "\n",
       "   fair_main_equalized_odds_ratio  fair_main_demographic_parity_difference  \\\n",
       "0                        0.901692                                 0.084737   \n",
       "0                        0.901692                                 0.084737   \n",
       "0                        0.754810                                 0.197896   \n",
       "0                        0.754810                                 0.197896   \n",
       "\n",
       "   fair_main_demographic_parity_ratio  ...  perf_grp_precision_0  \\\n",
       "0                            0.912220  ...                   NaN   \n",
       "0                            0.912220  ...              0.117712   \n",
       "0                            0.780744  ...                   NaN   \n",
       "0                            0.780744  ...              0.121150   \n",
       "\n",
       "   perf_grp_precision_1  perf_grp_false positive rate_0  \\\n",
       "0                   NaN                             NaN   \n",
       "0              0.144506                        0.962690   \n",
       "0                   NaN                             NaN   \n",
       "0              0.166526                        0.896599   \n",
       "\n",
       "   perf_grp_false positive rate_1  perf_grp_false negative rate_0  \\\n",
       "0                             NaN                             NaN   \n",
       "0                        0.868049                        0.014358   \n",
       "0                             NaN                             NaN   \n",
       "0                        0.676762                        0.051520   \n",
       "\n",
       "   perf_grp_false negative rate_1  perf_grp_selection rate_0  \\\n",
       "0                             NaN                        NaN   \n",
       "0                        0.036980                   0.965336   \n",
       "0                             NaN                        NaN   \n",
       "0                        0.111926                   0.902580   \n",
       "\n",
       "   perf_grp_selection rate_1  perf_grp_count_0  perf_grp_count_1  \n",
       "0                        NaN               NaN               NaN  \n",
       "0                   0.880599           20540.0           69170.0  \n",
       "0                        NaN               NaN               NaN  \n",
       "0                   0.704684           20540.0           69170.0  \n",
       "\n",
       "[4 rows x 50 columns]"
      ]
     },
     "execution_count": 79,
     "metadata": {},
     "output_type": "execute_result"
    }
   ],
   "source": [
    "final_output = universe_analysis.generate_final_output(\n",
    "    y_pred_prob=probs_test,\n",
    "    y_test=y_true,\n",
    "    org_test=org_test,\n",
    "    filter_data=filter_sub_universe_data,\n",
    "    cp_metrics_df=cp_metrics_df,\n",
    "    save=True,\n",
    ")\n",
    "final_output"
   ]
  },
  {
   "cell_type": "code",
   "execution_count": null,
   "id": "721ff514-cb11-46f8-b6fc-50392f74b5cb",
   "metadata": {
    "papermill": {
     "duration": 0.015409,
     "end_time": "2025-07-30T14:17:27.638968",
     "exception": false,
     "start_time": "2025-07-30T14:17:27.623559",
     "status": "completed"
    },
    "tags": []
   },
   "outputs": [],
   "source": []
  }
 ],
 "metadata": {
  "celltoolbar": "Tags",
  "kernelspec": {
   "display_name": "Python (CMA Fairness)",
   "language": "python",
   "name": "cma_fair_env"
  },
  "language_info": {
   "codemirror_mode": {
    "name": "ipython",
    "version": 3
   },
   "file_extension": ".py",
   "mimetype": "text/x-python",
   "name": "python",
   "nbconvert_exporter": "python",
   "pygments_lexer": "ipython3",
   "version": "3.10.12"
  },
  "papermill": {
   "default_parameters": {},
   "duration": 88.10214,
   "end_time": "2025-07-30T14:17:28.171406",
   "environment_variables": {},
   "exception": null,
   "input_path": "universe_analysis.ipynb",
   "output_path": "output/runs/12/notebooks/m_12-52d8dcb8340dbcc8d443153a5eb65e8a.ipynb",
   "parameters": {
    "output_dir": "output",
    "run_no": "12",
    "seed": "2023",
    "universe": "{\"cutoff\": [\"quantile_0.1\", \"quantile_0.25\"], \"eval_fairness_grouping\": [\"majority-minority\", \"nationality-all\"], \"exclude_features\": \"nationality\", \"exclude_subgroups\": \"keep-all\", \"model\": \"elasticnet\", \"scale\": \"do-not-scale\", \"training_size\": \"5k\", \"training_year\": \"2010_14\"}",
    "universe_id": "52d8dcb8340dbcc8d443153a5eb65e8a"
   },
   "start_time": "2025-07-30T14:16:00.069266",
   "version": "2.6.0"
  }
 },
 "nbformat": 4,
 "nbformat_minor": 5
}