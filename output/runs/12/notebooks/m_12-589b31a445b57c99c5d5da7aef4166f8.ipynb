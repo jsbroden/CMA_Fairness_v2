{
 "cells": [
  {
   "cell_type": "code",
   "execution_count": 1,
   "id": "f159f837-637b-42ba-96b5-ec9a68c44524",
   "metadata": {
    "execution": {
     "iopub.execute_input": "2025-07-30T13:30:22.425240Z",
     "iopub.status.busy": "2025-07-30T13:30:22.424670Z",
     "iopub.status.idle": "2025-07-30T13:30:22.435905Z",
     "shell.execute_reply": "2025-07-30T13:30:22.435061Z"
    },
    "papermill": {
     "duration": 0.033507,
     "end_time": "2025-07-30T13:30:22.437579",
     "exception": false,
     "start_time": "2025-07-30T13:30:22.404072",
     "status": "completed"
    },
    "tags": []
   },
   "outputs": [
    {
     "name": "stdout",
     "output_type": "stream",
     "text": [
      "/dss/dsshome1/0C/ra93lal2/cma/CMA_Fairness_v2\n"
     ]
    },
    {
     "name": "stderr",
     "output_type": "stream",
     "text": [
      "/dss/dsshome1/0C/ra93lal2/.local/share/virtualenvs/CMA_Fairness_v2-3j10GkSs/lib/python3.10/site-packages/IPython/core/magics/osm.py:393: UserWarning: This is now an optional IPython functionality, using bookmarks requires you to install the `pickleshare` library.\n",
      "  bkms = self.shell.db.get('bookmarks', {})\n",
      "/dss/dsshome1/0C/ra93lal2/.local/share/virtualenvs/CMA_Fairness_v2-3j10GkSs/lib/python3.10/site-packages/IPython/core/magics/osm.py:417: UserWarning: This is now an optional IPython functionality, setting dhist requires you to install the `pickleshare` library.\n",
      "  self.shell.db['dhist'] = compress_dhist(dhist)[-100:]\n"
     ]
    }
   ],
   "source": [
    "%cd ~/cma/CMA_Fairness_v2"
   ]
  },
  {
   "cell_type": "markdown",
   "id": "de2603b9",
   "metadata": {
    "papermill": {
     "duration": 0.020513,
     "end_time": "2025-07-30T13:30:22.479557",
     "exception": false,
     "start_time": "2025-07-30T13:30:22.459044",
     "status": "completed"
    },
    "tags": []
   },
   "source": [
    "The following cell holds the definition of our parameters, these values can be overriden by rendering the with e.g. the following command:\n",
    "\n",
    "papermill -p alpha 0.2 -p ratio 0.3 universe_analysis.ipynb output/test_run.ipynb"
   ]
  },
  {
   "cell_type": "code",
   "execution_count": 2,
   "id": "a80968a0-40bb-4fa9-85ef-2d5eefb01975",
   "metadata": {
    "execution": {
     "iopub.execute_input": "2025-07-30T13:30:22.522713Z",
     "iopub.status.busy": "2025-07-30T13:30:22.522328Z",
     "iopub.status.idle": "2025-07-30T13:30:22.528928Z",
     "shell.execute_reply": "2025-07-30T13:30:22.527858Z"
    },
    "papermill": {
     "duration": 0.03,
     "end_time": "2025-07-30T13:30:22.530904",
     "exception": false,
     "start_time": "2025-07-30T13:30:22.500904",
     "status": "completed"
    },
    "tags": []
   },
   "outputs": [
    {
     "name": "stdout",
     "output_type": "stream",
     "text": [
      "Current working directory: /dss/dsshome1/0C/ra93lal2/cma/CMA_Fairness_v2\n"
     ]
    }
   ],
   "source": [
    "import os\n",
    "print(\"Current working directory:\", os.getcwd())"
   ]
  },
  {
   "cell_type": "code",
   "execution_count": 3,
   "id": "2dce4c03",
   "metadata": {
    "execution": {
     "iopub.execute_input": "2025-07-30T13:30:22.575450Z",
     "iopub.status.busy": "2025-07-30T13:30:22.575083Z",
     "iopub.status.idle": "2025-07-30T13:30:22.581601Z",
     "shell.execute_reply": "2025-07-30T13:30:22.580283Z"
    },
    "papermill": {
     "duration": 0.030679,
     "end_time": "2025-07-30T13:30:22.583545",
     "exception": false,
     "start_time": "2025-07-30T13:30:22.552866",
     "status": "completed"
    },
    "tags": [
     "parameters"
    ]
   },
   "outputs": [],
   "source": [
    "run_no = 0\n",
    "universe_id = \"test\"\n",
    "universe = {\n",
    "    \"training_size\": \"25k\", # \"25k\", \"5k\", \"1k\"\n",
    "    \"training_year\": \"2014\", # \"2014\", \"2012_14\", \"2010_14\"\n",
    "    \"scale\": \"scale\", # \"scale\", \"do-not-scale\",\n",
    "    #\"stratify_split\": \"target\", # \"none\", \"target\", \"protected-attribute\", \"both\",\n",
    "    \"model\": \"elasticnet\", # \"logreg\", \"penalized_logreg\", \"rf\", \"gbm\", \"elasticnet\"\n",
    "    \"cutoff\": [\"quantile_0.15\", \"quantile_0.30\"],\n",
    "    \"exclude_features\": \"age\", # \"none\", \"nationality\", \"sex\", \"nationality-sex\", \"age\"\n",
    "    \"exclude_subgroups\": \"keep-all\", # \"keep-all\", \"drop-non-german\"\n",
    "    \"eval_fairness_grouping\": [\"majority-minority\", \"nationality-all\"]\n",
    "}\n",
    "\n",
    "output_dir=\"./output\"\n",
    "seed=0"
   ]
  },
  {
   "cell_type": "code",
   "execution_count": 4,
   "id": "2d40aff8",
   "metadata": {
    "execution": {
     "iopub.execute_input": "2025-07-30T13:30:22.626782Z",
     "iopub.status.busy": "2025-07-30T13:30:22.626364Z",
     "iopub.status.idle": "2025-07-30T13:30:22.632128Z",
     "shell.execute_reply": "2025-07-30T13:30:22.630808Z"
    },
    "papermill": {
     "duration": 0.029615,
     "end_time": "2025-07-30T13:30:22.634037",
     "exception": false,
     "start_time": "2025-07-30T13:30:22.604422",
     "status": "completed"
    },
    "tags": [
     "injected-parameters"
    ]
   },
   "outputs": [],
   "source": [
    "# Parameters\n",
    "universe_id = \"589b31a445b57c99c5d5da7aef4166f8\"\n",
    "run_no = \"12\"\n",
    "universe = \"{\\\"cutoff\\\": [\\\"quantile_0.1\\\", \\\"quantile_0.25\\\"], \\\"eval_fairness_grouping\\\": [\\\"majority-minority\\\", \\\"nationality-all\\\"], \\\"exclude_features\\\": \\\"age\\\", \\\"exclude_subgroups\\\": \\\"drop-non-german\\\", \\\"model\\\": \\\"logreg\\\", \\\"scale\\\": \\\"do-not-scale\\\", \\\"training_size\\\": \\\"25k\\\", \\\"training_year\\\": \\\"2010_14\\\"}\"\n",
    "output_dir = \"output\"\n",
    "seed = \"2023\"\n"
   ]
  },
  {
   "cell_type": "code",
   "execution_count": 5,
   "id": "1650acaf",
   "metadata": {
    "execution": {
     "iopub.execute_input": "2025-07-30T13:30:22.676158Z",
     "iopub.status.busy": "2025-07-30T13:30:22.675678Z",
     "iopub.status.idle": "2025-07-30T13:30:22.680728Z",
     "shell.execute_reply": "2025-07-30T13:30:22.679842Z"
    },
    "papermill": {
     "duration": 0.027366,
     "end_time": "2025-07-30T13:30:22.682345",
     "exception": false,
     "start_time": "2025-07-30T13:30:22.654979",
     "status": "completed"
    },
    "tags": []
   },
   "outputs": [],
   "source": [
    "import json\n",
    "# Parse universe into dict if it is passed as a string\n",
    "if isinstance(universe, str):\n",
    "    universe = json.loads(universe)"
   ]
  },
  {
   "cell_type": "code",
   "execution_count": 6,
   "id": "16620c48",
   "metadata": {
    "execution": {
     "iopub.execute_input": "2025-07-30T13:30:22.725339Z",
     "iopub.status.busy": "2025-07-30T13:30:22.724828Z",
     "iopub.status.idle": "2025-07-30T13:30:22.777561Z",
     "shell.execute_reply": "2025-07-30T13:30:22.776391Z"
    },
    "papermill": {
     "duration": 0.076919,
     "end_time": "2025-07-30T13:30:22.779812",
     "exception": false,
     "start_time": "2025-07-30T13:30:22.702893",
     "status": "completed"
    },
    "tags": []
   },
   "outputs": [],
   "source": [
    "# Auto-reload the custom package\n",
    "%load_ext autoreload\n",
    "%autoreload 1\n",
    "%aimport fairness_multiverse"
   ]
  },
  {
   "cell_type": "code",
   "execution_count": 7,
   "id": "01c5c9f3",
   "metadata": {
    "execution": {
     "iopub.execute_input": "2025-07-30T13:30:22.829814Z",
     "iopub.status.busy": "2025-07-30T13:30:22.828999Z",
     "iopub.status.idle": "2025-07-30T13:30:24.756857Z",
     "shell.execute_reply": "2025-07-30T13:30:24.755767Z"
    },
    "papermill": {
     "duration": 1.955897,
     "end_time": "2025-07-30T13:30:24.759027",
     "exception": false,
     "start_time": "2025-07-30T13:30:22.803130",
     "status": "completed"
    },
    "tags": []
   },
   "outputs": [],
   "source": [
    "from fairness_multiverse.universe import UniverseAnalysis\n",
    "\n",
    "universe_analysis = UniverseAnalysis(\n",
    "    run_no = run_no,\n",
    "    universe_id = universe_id,\n",
    "    universe = universe,\n",
    "    output_dir=output_dir,\n",
    ")"
   ]
  },
  {
   "cell_type": "code",
   "execution_count": 8,
   "id": "106241f5",
   "metadata": {
    "execution": {
     "iopub.execute_input": "2025-07-30T13:30:24.805351Z",
     "iopub.status.busy": "2025-07-30T13:30:24.804633Z",
     "iopub.status.idle": "2025-07-30T13:30:24.811446Z",
     "shell.execute_reply": "2025-07-30T13:30:24.810355Z"
    },
    "papermill": {
     "duration": 0.032412,
     "end_time": "2025-07-30T13:30:24.814051",
     "exception": false,
     "start_time": "2025-07-30T13:30:24.781639",
     "status": "completed"
    },
    "tags": []
   },
   "outputs": [
    {
     "name": "stdout",
     "output_type": "stream",
     "text": [
      "Using Seed: 2023\n"
     ]
    }
   ],
   "source": [
    "import numpy as np\n",
    "parsed_seed = int(seed)\n",
    "np.random.seed(parsed_seed)\n",
    "print(f\"Using Seed: {parsed_seed}\")"
   ]
  },
  {
   "cell_type": "markdown",
   "id": "e0ebdc57",
   "metadata": {
    "papermill": {
     "duration": 0.020984,
     "end_time": "2025-07-30T13:30:24.857903",
     "exception": false,
     "start_time": "2025-07-30T13:30:24.836919",
     "status": "completed"
    },
    "tags": []
   },
   "source": [
    "# Loading Data"
   ]
  },
  {
   "cell_type": "markdown",
   "id": "681925a3",
   "metadata": {
    "papermill": {
     "duration": 0.020203,
     "end_time": "2025-07-30T13:30:24.897819",
     "exception": false,
     "start_time": "2025-07-30T13:30:24.877616",
     "status": "completed"
    },
    "tags": []
   },
   "source": [
    "Load siab_train, siab_test, siab_calib and/or \n",
    "load siab_train_features, siab_train_labels"
   ]
  },
  {
   "cell_type": "code",
   "execution_count": 9,
   "id": "f0496b8a",
   "metadata": {
    "execution": {
     "iopub.execute_input": "2025-07-30T13:30:24.945897Z",
     "iopub.status.busy": "2025-07-30T13:30:24.944953Z",
     "iopub.status.idle": "2025-07-30T13:30:36.611221Z",
     "shell.execute_reply": "2025-07-30T13:30:36.610085Z"
    },
    "papermill": {
     "duration": 11.691981,
     "end_time": "2025-07-30T13:30:36.613416",
     "exception": false,
     "start_time": "2025-07-30T13:30:24.921435",
     "status": "completed"
    },
    "tags": []
   },
   "outputs": [
    {
     "name": "stdout",
     "output_type": "stream",
     "text": [
      "Loading SIAB data from cache: data/siab_cached.csv.gz\n"
     ]
    },
    {
     "name": "stdout",
     "output_type": "stream",
     "text": [
      "(643690, 164)\n"
     ]
    }
   ],
   "source": [
    "from pathlib import Path\n",
    "import pandas as pd\n",
    "\n",
    "# File paths\n",
    "raw_file = Path(\"data/raw/siab.csv\")\n",
    "cache_file = Path(\"data/siab_cached.csv.gz\")\n",
    "\n",
    "# Ensure cache directory exists\n",
    "cache_file.parent.mkdir(parents=True, exist_ok=True)\n",
    "\n",
    "# Load with simple caching\n",
    "if cache_file.exists():\n",
    "    print(f\"Loading SIAB data from cache: {cache_file}\")\n",
    "    siab = pd.read_csv(cache_file, compression='gzip')\n",
    "else:\n",
    "    print(f\"Cache not found. Reading raw SIAB data: {raw_file}\")\n",
    "    siab = pd.read_csv(raw_file)\n",
    "    siab.to_csv(cache_file, index=False, compression='gzip')\n",
    "    print(f\"Cached SIAB data to: {cache_file}\")\n",
    "\n",
    "# Now use `siab` DataFrame as needed\n",
    "print(siab.shape)"
   ]
  },
  {
   "cell_type": "code",
   "execution_count": 10,
   "id": "db0ca512-5f53-4dba-abdb-a2888bca41ba",
   "metadata": {
    "execution": {
     "iopub.execute_input": "2025-07-30T13:30:36.665103Z",
     "iopub.status.busy": "2025-07-30T13:30:36.664614Z",
     "iopub.status.idle": "2025-07-30T13:30:36.669545Z",
     "shell.execute_reply": "2025-07-30T13:30:36.668715Z"
    },
    "papermill": {
     "duration": 0.031499,
     "end_time": "2025-07-30T13:30:36.671021",
     "exception": false,
     "start_time": "2025-07-30T13:30:36.639522",
     "status": "completed"
    },
    "tags": []
   },
   "outputs": [],
   "source": [
    "#siab"
   ]
  },
  {
   "cell_type": "code",
   "execution_count": 11,
   "id": "a0edb063",
   "metadata": {
    "execution": {
     "iopub.execute_input": "2025-07-30T13:30:36.717979Z",
     "iopub.status.busy": "2025-07-30T13:30:36.717409Z",
     "iopub.status.idle": "2025-07-30T13:30:36.722874Z",
     "shell.execute_reply": "2025-07-30T13:30:36.721870Z"
    },
    "papermill": {
     "duration": 0.031905,
     "end_time": "2025-07-30T13:30:36.724723",
     "exception": false,
     "start_time": "2025-07-30T13:30:36.692818",
     "status": "completed"
    },
    "tags": []
   },
   "outputs": [],
   "source": [
    "#import pandas as pd\n",
    "#\n",
    "#X_train = pd.read_csv(\"./data/X_train.csv\")\n",
    "#y_train = pd.read_csv(\"./data/y_train.csv\")"
   ]
  },
  {
   "cell_type": "code",
   "execution_count": 12,
   "id": "63d08085",
   "metadata": {
    "execution": {
     "iopub.execute_input": "2025-07-30T13:30:36.776346Z",
     "iopub.status.busy": "2025-07-30T13:30:36.775173Z",
     "iopub.status.idle": "2025-07-30T13:30:36.781142Z",
     "shell.execute_reply": "2025-07-30T13:30:36.780058Z"
    },
    "papermill": {
     "duration": 0.03427,
     "end_time": "2025-07-30T13:30:36.783209",
     "exception": false,
     "start_time": "2025-07-30T13:30:36.748939",
     "status": "completed"
    },
    "tags": []
   },
   "outputs": [],
   "source": [
    "#X_test = pd.read_csv(\"./data/X_test.csv\")\n",
    "#y_true = pd.read_csv(\"./data/y_test.csv\")"
   ]
  },
  {
   "cell_type": "code",
   "execution_count": 13,
   "id": "98a8d0fa-1d3d-4ed8-bb2c-281470e24add",
   "metadata": {
    "execution": {
     "iopub.execute_input": "2025-07-30T13:30:36.831467Z",
     "iopub.status.busy": "2025-07-30T13:30:36.830930Z",
     "iopub.status.idle": "2025-07-30T13:30:36.836508Z",
     "shell.execute_reply": "2025-07-30T13:30:36.835462Z"
    },
    "papermill": {
     "duration": 0.03217,
     "end_time": "2025-07-30T13:30:36.838608",
     "exception": false,
     "start_time": "2025-07-30T13:30:36.806438",
     "status": "completed"
    },
    "tags": []
   },
   "outputs": [],
   "source": [
    "# Calibration data for conformal\n",
    "#X_calib = pd.read_csv(\"./data/X_calib.csv\")\n",
    "#y_calib = pd.read_csv(\"./data/y_calib.csv\")"
   ]
  },
  {
   "cell_type": "markdown",
   "id": "997051c5-15bd-4b69-9786-c3001a3ce484",
   "metadata": {
    "papermill": {
     "duration": 0.022739,
     "end_time": "2025-07-30T13:30:36.884122",
     "exception": false,
     "start_time": "2025-07-30T13:30:36.861383",
     "status": "completed"
    },
    "tags": []
   },
   "source": [
    "# Splitting Data and Setting Training Data Size"
   ]
  },
  {
   "cell_type": "code",
   "execution_count": 14,
   "id": "e993b61f-042d-41a6-8c81-f55681f86335",
   "metadata": {
    "execution": {
     "iopub.execute_input": "2025-07-30T13:30:36.934482Z",
     "iopub.status.busy": "2025-07-30T13:30:36.933846Z",
     "iopub.status.idle": "2025-07-30T13:30:36.950564Z",
     "shell.execute_reply": "2025-07-30T13:30:36.949232Z"
    },
    "papermill": {
     "duration": 0.044712,
     "end_time": "2025-07-30T13:30:36.952627",
     "exception": false,
     "start_time": "2025-07-30T13:30:36.907915",
     "status": "completed"
    },
    "tags": []
   },
   "outputs": [],
   "source": [
    "def sample_by_year_size(df,\n",
    "                        training_year: str,\n",
    "                        training_size: str,\n",
    "                        random_state: int = 42):\n",
    "    # --- parse training_year into a list of int years ---\n",
    "    if \"_\" in training_year:\n",
    "        start_str, end_str = training_year.split(\"_\", 1)\n",
    "        start = int(start_str)\n",
    "        end   = int(end_str) if len(end_str) == 4 else (int(end_str) + (start // 100)*100)\n",
    "        years = list(range(start, end + 1))\n",
    "    else:\n",
    "        years = [int(training_year)]\n",
    "\n",
    "    df = df[df[\"year\"].isin(years)].reset_index(drop=True)\n",
    "\n",
    "    # --- map training_size to total number of samples ---\n",
    "    total_map = {\"25k\": 25_000, \"5k\": 5_000, \"1k\": 1_000}\n",
    "    if training_size not in total_map:\n",
    "        return df  # e.g. \"all\"\n",
    "\n",
    "    total_samples = total_map[training_size]\n",
    "    n_years       = len(years)\n",
    "    base          = total_samples // n_years\n",
    "    remainder     = total_samples % n_years\n",
    "\n",
    "    # --- build a dict: year -> how many to sample ---\n",
    "    # give +1 to the first `remainder` years in ascending order\n",
    "    quotas = {\n",
    "        year: base + (1 if idx < remainder else 0)\n",
    "        for idx, year in enumerate(sorted(years))\n",
    "    }\n",
    "\n",
    "    # --- sample per‐year according to the quota dict ---\n",
    "    sampled = (\n",
    "        df\n",
    "        .groupby(\"year\", group_keys=False)\n",
    "        .apply(lambda grp: grp.sample(\n",
    "            n=min(len(grp), quotas[grp.name]),\n",
    "            random_state=random_state))\n",
    "        .reset_index(drop=True)\n",
    "    )\n",
    "\n",
    "    return sampled"
   ]
  },
  {
   "cell_type": "code",
   "execution_count": 15,
   "id": "c0ccd338-0e02-41f3-a09d-f56f9266e3fb",
   "metadata": {
    "execution": {
     "iopub.execute_input": "2025-07-30T13:30:37.001169Z",
     "iopub.status.busy": "2025-07-30T13:30:37.000422Z",
     "iopub.status.idle": "2025-07-30T13:30:37.018691Z",
     "shell.execute_reply": "2025-07-30T13:30:37.017722Z"
    },
    "papermill": {
     "duration": 0.043906,
     "end_time": "2025-07-30T13:30:37.020360",
     "exception": false,
     "start_time": "2025-07-30T13:30:36.976454",
     "status": "completed"
    },
    "tags": []
   },
   "outputs": [
    {
     "data": {
      "text/plain": [
       "'25k'"
      ]
     },
     "execution_count": 15,
     "metadata": {},
     "output_type": "execute_result"
    }
   ],
   "source": [
    "universe[\"training_size\"]"
   ]
  },
  {
   "cell_type": "code",
   "execution_count": 16,
   "id": "ca707fd7-8047-4acd-bfa5-66248fbbf8e6",
   "metadata": {
    "execution": {
     "iopub.execute_input": "2025-07-30T13:30:37.069952Z",
     "iopub.status.busy": "2025-07-30T13:30:37.069355Z",
     "iopub.status.idle": "2025-07-30T13:30:37.077615Z",
     "shell.execute_reply": "2025-07-30T13:30:37.076005Z"
    },
    "papermill": {
     "duration": 0.035517,
     "end_time": "2025-07-30T13:30:37.079899",
     "exception": false,
     "start_time": "2025-07-30T13:30:37.044382",
     "status": "completed"
    },
    "tags": []
   },
   "outputs": [
    {
     "data": {
      "text/plain": [
       "'2010_14'"
      ]
     },
     "execution_count": 16,
     "metadata": {},
     "output_type": "execute_result"
    }
   ],
   "source": [
    "universe[\"training_year\"]"
   ]
  },
  {
   "cell_type": "code",
   "execution_count": 17,
   "id": "aea9c6ef-6f46-42c8-85eb-5a62025c1508",
   "metadata": {
    "execution": {
     "iopub.execute_input": "2025-07-30T13:30:37.145927Z",
     "iopub.status.busy": "2025-07-30T13:30:37.145338Z",
     "iopub.status.idle": "2025-07-30T13:30:38.322486Z",
     "shell.execute_reply": "2025-07-30T13:30:38.321369Z"
    },
    "papermill": {
     "duration": 1.212971,
     "end_time": "2025-07-30T13:30:38.324782",
     "exception": false,
     "start_time": "2025-07-30T13:30:37.111811",
     "status": "completed"
    },
    "tags": []
   },
   "outputs": [],
   "source": [
    "siab_train = sample_by_year_size(siab,\n",
    "                               training_year=universe[\"training_year\"],\n",
    "                               training_size=universe[\"training_size\"])"
   ]
  },
  {
   "cell_type": "code",
   "execution_count": 18,
   "id": "8d3afb32-789d-442c-8d5d-9f5aa8dd2eed",
   "metadata": {
    "execution": {
     "iopub.execute_input": "2025-07-30T13:30:38.386142Z",
     "iopub.status.busy": "2025-07-30T13:30:38.385569Z",
     "iopub.status.idle": "2025-07-30T13:30:38.395563Z",
     "shell.execute_reply": "2025-07-30T13:30:38.394459Z"
    },
    "papermill": {
     "duration": 0.045663,
     "end_time": "2025-07-30T13:30:38.397878",
     "exception": false,
     "start_time": "2025-07-30T13:30:38.352215",
     "status": "completed"
    },
    "tags": []
   },
   "outputs": [
    {
     "data": {
      "text/plain": [
       "(25000, 164)"
      ]
     },
     "execution_count": 18,
     "metadata": {},
     "output_type": "execute_result"
    }
   ],
   "source": [
    "siab_train.shape"
   ]
  },
  {
   "cell_type": "code",
   "execution_count": 19,
   "id": "d582db68-1a4c-47fb-84fc-08518dc1975a",
   "metadata": {
    "execution": {
     "iopub.execute_input": "2025-07-30T13:30:38.464666Z",
     "iopub.status.busy": "2025-07-30T13:30:38.463882Z",
     "iopub.status.idle": "2025-07-30T13:30:38.475164Z",
     "shell.execute_reply": "2025-07-30T13:30:38.474209Z"
    },
    "papermill": {
     "duration": 0.04843,
     "end_time": "2025-07-30T13:30:38.479196",
     "exception": false,
     "start_time": "2025-07-30T13:30:38.430766",
     "status": "completed"
    },
    "tags": []
   },
   "outputs": [
    {
     "data": {
      "text/plain": [
       "year\n",
       "2010    5000\n",
       "2011    5000\n",
       "2012    5000\n",
       "2013    5000\n",
       "2014    5000\n",
       "dtype: int64"
      ]
     },
     "metadata": {},
     "output_type": "display_data"
    }
   ],
   "source": [
    "display(siab_train.groupby(\"year\").size())"
   ]
  },
  {
   "cell_type": "code",
   "execution_count": 20,
   "id": "a561edb4-d032-42cb-8256-22eac1111c64",
   "metadata": {
    "execution": {
     "iopub.execute_input": "2025-07-30T13:30:38.548080Z",
     "iopub.status.busy": "2025-07-30T13:30:38.547306Z",
     "iopub.status.idle": "2025-07-30T13:30:38.880648Z",
     "shell.execute_reply": "2025-07-30T13:30:38.879638Z"
    },
    "papermill": {
     "duration": 0.370379,
     "end_time": "2025-07-30T13:30:38.883412",
     "exception": false,
     "start_time": "2025-07-30T13:30:38.513033",
     "status": "completed"
    },
    "tags": []
   },
   "outputs": [],
   "source": [
    "#siab_train = siab_s[siab_s.year < 2015]\n",
    "siab_calib = siab[siab.year == 2015]\n",
    "siab_test = siab[siab.year == 2016]"
   ]
  },
  {
   "cell_type": "code",
   "execution_count": 21,
   "id": "472de16f-c3db-4916-846b-1f0de9cf1746",
   "metadata": {
    "execution": {
     "iopub.execute_input": "2025-07-30T13:30:38.946043Z",
     "iopub.status.busy": "2025-07-30T13:30:38.945051Z",
     "iopub.status.idle": "2025-07-30T13:30:38.961423Z",
     "shell.execute_reply": "2025-07-30T13:30:38.960390Z"
    },
    "papermill": {
     "duration": 0.049984,
     "end_time": "2025-07-30T13:30:38.963287",
     "exception": false,
     "start_time": "2025-07-30T13:30:38.913303",
     "status": "completed"
    },
    "tags": []
   },
   "outputs": [],
   "source": [
    "X_train = siab_train.iloc[:,4:164]\n",
    "y_train = siab_train.iloc[:, [3]]"
   ]
  },
  {
   "cell_type": "code",
   "execution_count": 22,
   "id": "828c96af-f43a-4ed6-ba47-8ac73a47d56c",
   "metadata": {
    "execution": {
     "iopub.execute_input": "2025-07-30T13:30:38.996474Z",
     "iopub.status.busy": "2025-07-30T13:30:38.996088Z",
     "iopub.status.idle": "2025-07-30T13:30:39.048852Z",
     "shell.execute_reply": "2025-07-30T13:30:39.047747Z"
    },
    "papermill": {
     "duration": 0.069095,
     "end_time": "2025-07-30T13:30:39.051120",
     "exception": false,
     "start_time": "2025-07-30T13:30:38.982025",
     "status": "completed"
    },
    "tags": []
   },
   "outputs": [],
   "source": [
    "X_calib = siab_calib.iloc[:,4:164]\n",
    "y_calib = siab_calib.iloc[:, [3]]"
   ]
  },
  {
   "cell_type": "code",
   "execution_count": 23,
   "id": "c34be9c3-6bd6-476e-acd3-845840e303be",
   "metadata": {
    "execution": {
     "iopub.execute_input": "2025-07-30T13:30:39.090181Z",
     "iopub.status.busy": "2025-07-30T13:30:39.089802Z",
     "iopub.status.idle": "2025-07-30T13:30:39.139143Z",
     "shell.execute_reply": "2025-07-30T13:30:39.138282Z"
    },
    "papermill": {
     "duration": 0.066103,
     "end_time": "2025-07-30T13:30:39.140568",
     "exception": false,
     "start_time": "2025-07-30T13:30:39.074465",
     "status": "completed"
    },
    "tags": []
   },
   "outputs": [],
   "source": [
    "X_test = siab_test.iloc[:,4:164]\n",
    "y_true = siab_test.iloc[:, [3]]"
   ]
  },
  {
   "cell_type": "markdown",
   "id": "9901737e-04df-44f0-9100-f5ad144ed040",
   "metadata": {
    "papermill": {
     "duration": 0.011618,
     "end_time": "2025-07-30T13:30:39.167106",
     "exception": false,
     "start_time": "2025-07-30T13:30:39.155488",
     "status": "completed"
    },
    "tags": []
   },
   "source": [
    "# Splitting Data and Setting Training Data Size OLD VERSION"
   ]
  },
  {
   "cell_type": "code",
   "execution_count": 24,
   "id": "acbc8f7d-8fc8-4e86-8c59-5dcb0f58384b",
   "metadata": {
    "execution": {
     "iopub.execute_input": "2025-07-30T13:30:39.191074Z",
     "iopub.status.busy": "2025-07-30T13:30:39.190573Z",
     "iopub.status.idle": "2025-07-30T13:30:39.195513Z",
     "shell.execute_reply": "2025-07-30T13:30:39.194708Z"
    },
    "papermill": {
     "duration": 0.018605,
     "end_time": "2025-07-30T13:30:39.196961",
     "exception": false,
     "start_time": "2025-07-30T13:30:39.178356",
     "status": "completed"
    },
    "tags": []
   },
   "outputs": [],
   "source": [
    "#def sample_by_year(df, training_size, random_state=42):\n",
    "#    if training_size == \"2014\":\n",
    "#        return df[df[\"year\"] == 2014].reset_index(drop=True)\n",
    "#    \n",
    "#    size_map = {\n",
    "#        \"25k\": 5000,\n",
    "#        \"5k\": 1000,\n",
    "#        \"1k\": 200\n",
    "#    }\n",
    "#\n",
    "#    if training_size not in size_map:\n",
    "#        return df.reset_index(drop=True)  # use all data\n",
    "#\n",
    "#    n_per_year = size_map[training_size]\n",
    "#    grouped = df.groupby(\"year\")\n",
    "#    sampled = grouped.apply(lambda x: x.sample(n=min(n_per_year, len(x)), random_state=random_state))\n",
    "#    return sampled.reset_index(drop=True)"
   ]
  },
  {
   "cell_type": "code",
   "execution_count": 25,
   "id": "6d931f52-beaf-43ff-9e78-9d44a448d54e",
   "metadata": {
    "execution": {
     "iopub.execute_input": "2025-07-30T13:30:39.223393Z",
     "iopub.status.busy": "2025-07-30T13:30:39.222420Z",
     "iopub.status.idle": "2025-07-30T13:30:39.229531Z",
     "shell.execute_reply": "2025-07-30T13:30:39.227376Z"
    },
    "papermill": {
     "duration": 0.022354,
     "end_time": "2025-07-30T13:30:39.231845",
     "exception": false,
     "start_time": "2025-07-30T13:30:39.209491",
     "status": "completed"
    },
    "tags": []
   },
   "outputs": [],
   "source": [
    "#siab_s = sample_by_year(siab, universe[\"training_size\"])"
   ]
  },
  {
   "cell_type": "code",
   "execution_count": 26,
   "id": "5db0a40e-a4e2-4920-be85-b12ae061d70d",
   "metadata": {
    "execution": {
     "iopub.execute_input": "2025-07-30T13:30:39.278424Z",
     "iopub.status.busy": "2025-07-30T13:30:39.277968Z",
     "iopub.status.idle": "2025-07-30T13:30:39.282090Z",
     "shell.execute_reply": "2025-07-30T13:30:39.281367Z"
    },
    "papermill": {
     "duration": 0.028862,
     "end_time": "2025-07-30T13:30:39.283665",
     "exception": false,
     "start_time": "2025-07-30T13:30:39.254803",
     "status": "completed"
    },
    "tags": []
   },
   "outputs": [],
   "source": [
    "#display(siab_s.groupby(\"year\").size())"
   ]
  },
  {
   "cell_type": "code",
   "execution_count": 27,
   "id": "e6c733c5",
   "metadata": {
    "execution": {
     "iopub.execute_input": "2025-07-30T13:30:39.330972Z",
     "iopub.status.busy": "2025-07-30T13:30:39.330378Z",
     "iopub.status.idle": "2025-07-30T13:30:39.438687Z",
     "shell.execute_reply": "2025-07-30T13:30:39.437933Z"
    },
    "papermill": {
     "duration": 0.133426,
     "end_time": "2025-07-30T13:30:39.440167",
     "exception": false,
     "start_time": "2025-07-30T13:30:39.306741",
     "status": "completed"
    },
    "tags": []
   },
   "outputs": [],
   "source": [
    "# Auxiliary data needed downstream in the pipeline\n",
    "\n",
    "org_train = X_train.copy()\n",
    "org_test = X_test.copy()\n",
    "org_calib = X_calib.copy()"
   ]
  },
  {
   "cell_type": "code",
   "execution_count": 28,
   "id": "1466abac-c6da-4492-a62f-4240ae3783af",
   "metadata": {
    "execution": {
     "iopub.execute_input": "2025-07-30T13:30:39.465813Z",
     "iopub.status.busy": "2025-07-30T13:30:39.465462Z",
     "iopub.status.idle": "2025-07-30T13:30:39.470483Z",
     "shell.execute_reply": "2025-07-30T13:30:39.469718Z"
    },
    "papermill": {
     "duration": 0.019446,
     "end_time": "2025-07-30T13:30:39.471874",
     "exception": false,
     "start_time": "2025-07-30T13:30:39.452428",
     "status": "completed"
    },
    "tags": []
   },
   "outputs": [],
   "source": [
    "# put in other script?\n",
    "# Group sizes\n",
    "\n",
    "#def calculate_percentages(df, df_name):\n",
    "#    total_entries = len(df)\n",
    "#\n",
    "#    female_pct = (df['frau1'] == 1).mean() * 100\n",
    "#    non_german_pct = ((df['maxdeutsch1'] == 0) & (df['maxdeutsch.Missing.'] == 0)).mean() * 100\n",
    "#    non_german_male_pct = ((df['frau1'] == 0) & (df['maxdeutsch1'] == 0) & (df['maxdeutsch.Missing.'] == 0)).mean() * 100\n",
    "#    non_german_female_pct = ((df['frau1'] == 1) & (df['maxdeutsch1'] == 0) & (df['maxdeutsch.Missing.'] == 0)).mean() * 100\n",
    "#\n",
    "#    print(f\"--- {df_name} ---\")\n",
    "#    print(f\"Female: {female_pct:.2f}%\")\n",
    "#    print(f\"Non-German: {non_german_pct:.2f}%\")\n",
    "#    print(f\"Non-German Male: {non_german_male_pct:.2f}%\")\n",
    "#    print(f\"Non-German Female: {non_german_female_pct:.2f}%\\n\")\n",
    "#\n",
    "## Calculate for each DataFrame\n",
    "#calculate_percentages(siab_calib, \"siab_calib\")\n",
    "#calculate_percentages(siab_test, \"siab_test\")\n",
    "#calculate_percentages(siab_train, \"siab_train\")"
   ]
  },
  {
   "cell_type": "markdown",
   "id": "0a4a1b33",
   "metadata": {
    "papermill": {
     "duration": 0.014604,
     "end_time": "2025-07-30T13:30:39.499233",
     "exception": false,
     "start_time": "2025-07-30T13:30:39.484629",
     "status": "completed"
    },
    "tags": []
   },
   "source": [
    "# Preprocessing Data"
   ]
  },
  {
   "cell_type": "code",
   "execution_count": 29,
   "id": "ca879031",
   "metadata": {
    "execution": {
     "iopub.execute_input": "2025-07-30T13:30:39.529762Z",
     "iopub.status.busy": "2025-07-30T13:30:39.529401Z",
     "iopub.status.idle": "2025-07-30T13:30:39.534201Z",
     "shell.execute_reply": "2025-07-30T13:30:39.533504Z"
    },
    "papermill": {
     "duration": 0.021949,
     "end_time": "2025-07-30T13:30:39.535635",
     "exception": false,
     "start_time": "2025-07-30T13:30:39.513686",
     "status": "completed"
    },
    "tags": []
   },
   "outputs": [],
   "source": [
    "# EXCLUDE PROTECTED FEATURES\n",
    "# ----------------------\n",
    "# \"exclude_features\": \"none\", # \"nationality\", \"sex\", \"nationality-sex\"\n",
    "\n",
    "excluded_features = universe[\"exclude_features\"].split(\"-\") # split, e.g.: \"nationality-sex\" -> [\"nationality\", \"sex\"]\n",
    "excluded_features_dictionary = {\n",
    "    \"nationality\": [\"maxdeutsch1\", \"maxdeutsch.Missing.\"],\n",
    "    \"sex\": [\"frau1\"],\n",
    "    \"age\": [\"age\"],\n",
    "}\n"
   ]
  },
  {
   "cell_type": "code",
   "execution_count": 30,
   "id": "b745ac60",
   "metadata": {
    "execution": {
     "iopub.execute_input": "2025-07-30T13:30:39.563770Z",
     "iopub.status.busy": "2025-07-30T13:30:39.562942Z",
     "iopub.status.idle": "2025-07-30T13:30:39.568554Z",
     "shell.execute_reply": "2025-07-30T13:30:39.567749Z"
    },
    "papermill": {
     "duration": 0.02155,
     "end_time": "2025-07-30T13:30:39.570062",
     "exception": false,
     "start_time": "2025-07-30T13:30:39.548512",
     "status": "completed"
    },
    "tags": []
   },
   "outputs": [],
   "source": [
    "# Code nice names to column names\n",
    "\n",
    "excluded_features_columns = [\n",
    "    excluded_features_dictionary[f] for f in excluded_features if len(f) > 0 and f != \"none\"\n",
    "]"
   ]
  },
  {
   "cell_type": "code",
   "execution_count": 31,
   "id": "f84f73a2",
   "metadata": {
    "execution": {
     "iopub.execute_input": "2025-07-30T13:30:39.597926Z",
     "iopub.status.busy": "2025-07-30T13:30:39.597426Z",
     "iopub.status.idle": "2025-07-30T13:30:39.603039Z",
     "shell.execute_reply": "2025-07-30T13:30:39.602292Z"
    },
    "papermill": {
     "duration": 0.021109,
     "end_time": "2025-07-30T13:30:39.604403",
     "exception": false,
     "start_time": "2025-07-30T13:30:39.583294",
     "status": "completed"
    },
    "tags": []
   },
   "outputs": [],
   "source": [
    "from utils import flatten_once\n",
    "\n",
    "excluded_features_columns = flatten_once(excluded_features_columns)"
   ]
  },
  {
   "cell_type": "code",
   "execution_count": 32,
   "id": "884dea22",
   "metadata": {
    "execution": {
     "iopub.execute_input": "2025-07-30T13:30:39.635900Z",
     "iopub.status.busy": "2025-07-30T13:30:39.635153Z",
     "iopub.status.idle": "2025-07-30T13:30:39.650398Z",
     "shell.execute_reply": "2025-07-30T13:30:39.649363Z"
    },
    "papermill": {
     "duration": 0.037879,
     "end_time": "2025-07-30T13:30:39.654835",
     "exception": false,
     "start_time": "2025-07-30T13:30:39.616956",
     "status": "completed"
    },
    "tags": []
   },
   "outputs": [
    {
     "name": "stdout",
     "output_type": "stream",
     "text": [
      "Dropping features: ['age']\n"
     ]
    }
   ],
   "source": [
    "if len(excluded_features_columns) > 0:\n",
    "    print(f\"Dropping features: {excluded_features_columns}\")\n",
    "    X_train.drop(excluded_features_columns, axis=1, inplace=True)"
   ]
  },
  {
   "cell_type": "code",
   "execution_count": 33,
   "id": "95ab8b16",
   "metadata": {
    "execution": {
     "iopub.execute_input": "2025-07-30T13:30:39.699832Z",
     "iopub.status.busy": "2025-07-30T13:30:39.699494Z",
     "iopub.status.idle": "2025-07-30T13:30:39.749847Z",
     "shell.execute_reply": "2025-07-30T13:30:39.748512Z"
    },
    "papermill": {
     "duration": 0.07279,
     "end_time": "2025-07-30T13:30:39.751570",
     "exception": false,
     "start_time": "2025-07-30T13:30:39.678780",
     "status": "completed"
    },
    "tags": []
   },
   "outputs": [
    {
     "name": "stdout",
     "output_type": "stream",
     "text": [
      "Dropping features: ['age']\n"
     ]
    }
   ],
   "source": [
    "if len(excluded_features_columns) > 0:\n",
    "    print(f\"Dropping features: {excluded_features_columns}\")\n",
    "    X_test.drop(excluded_features_columns, axis=1, inplace=True)"
   ]
  },
  {
   "cell_type": "code",
   "execution_count": 34,
   "id": "1853aaf5-fb9f-46cb-a2b5-8ea4ae2237e4",
   "metadata": {
    "execution": {
     "iopub.execute_input": "2025-07-30T13:30:39.803708Z",
     "iopub.status.busy": "2025-07-30T13:30:39.803182Z",
     "iopub.status.idle": "2025-07-30T13:30:39.854666Z",
     "shell.execute_reply": "2025-07-30T13:30:39.853793Z"
    },
    "papermill": {
     "duration": 0.078915,
     "end_time": "2025-07-30T13:30:39.856379",
     "exception": false,
     "start_time": "2025-07-30T13:30:39.777464",
     "status": "completed"
    },
    "tags": []
   },
   "outputs": [
    {
     "name": "stdout",
     "output_type": "stream",
     "text": [
      "Dropping features: ['age']\n"
     ]
    }
   ],
   "source": [
    "if len(excluded_features_columns) > 0:\n",
    "    print(f\"Dropping features: {excluded_features_columns}\")\n",
    "    X_calib.drop(excluded_features_columns, axis=1, inplace=True)"
   ]
  },
  {
   "cell_type": "code",
   "execution_count": 35,
   "id": "6727d079-03e5-481e-9d38-292a90b7a0a8",
   "metadata": {
    "execution": {
     "iopub.execute_input": "2025-07-30T13:30:39.906527Z",
     "iopub.status.busy": "2025-07-30T13:30:39.905982Z",
     "iopub.status.idle": "2025-07-30T13:30:39.911270Z",
     "shell.execute_reply": "2025-07-30T13:30:39.910196Z"
    },
    "papermill": {
     "duration": 0.032935,
     "end_time": "2025-07-30T13:30:39.913211",
     "exception": false,
     "start_time": "2025-07-30T13:30:39.880276",
     "status": "completed"
    },
    "tags": []
   },
   "outputs": [],
   "source": [
    "# SPLIT & STRATIFY DATA\n",
    "# ----------------------"
   ]
  },
  {
   "cell_type": "code",
   "execution_count": 36,
   "id": "76c4dc6d",
   "metadata": {
    "execution": {
     "iopub.execute_input": "2025-07-30T13:30:39.945426Z",
     "iopub.status.busy": "2025-07-30T13:30:39.944974Z",
     "iopub.status.idle": "2025-07-30T13:30:39.950100Z",
     "shell.execute_reply": "2025-07-30T13:30:39.949207Z"
    },
    "papermill": {
     "duration": 0.020134,
     "end_time": "2025-07-30T13:30:39.951520",
     "exception": false,
     "start_time": "2025-07-30T13:30:39.931386",
     "status": "completed"
    },
    "tags": []
   },
   "outputs": [],
   "source": [
    "# EXCLUDE CERTAIN SUBGROUPS\n",
    "# ----------------------\n",
    "\n",
    "mode = universe.get(\"exclude_subgroups\", \"keep-all\") \n",
    "# Fetches the exclude_subgroups setting from the universe dict.\n",
    "# Defaults to \"keep-all\" if the key is missing."
   ]
  },
  {
   "cell_type": "code",
   "execution_count": 37,
   "id": "21994072",
   "metadata": {
    "execution": {
     "iopub.execute_input": "2025-07-30T13:30:39.977519Z",
     "iopub.status.busy": "2025-07-30T13:30:39.976852Z",
     "iopub.status.idle": "2025-07-30T13:30:39.982262Z",
     "shell.execute_reply": "2025-07-30T13:30:39.981622Z"
    },
    "papermill": {
     "duration": 0.019361,
     "end_time": "2025-07-30T13:30:39.983664",
     "exception": false,
     "start_time": "2025-07-30T13:30:39.964303",
     "status": "completed"
    },
    "tags": []
   },
   "outputs": [],
   "source": [
    "if mode == \"keep-all\":\n",
    "    keep_mask = pd.Series(True, index=org_train.index)\n",
    "\n",
    "# org_train contains the original feature columns from features_org (in Simson)\n",
    "# features_org contains unprocessed features, for me X_train at beginning ???\n",
    "# For keep-all, creates a boolean Series (keep_mask) of all True, so no rows are removed.\n",
    "\n",
    "elif mode == \"drop-non-german\":\n",
    "    keep_mask = org_train[\"maxdeutsch1\"] == 1 # ??? what about missing values?\n",
    "\n",
    "else:\n",
    "    raise ValueError(f\"Unsupported mode for exclude_subgroups: {mode}\")\n"
   ]
  },
  {
   "cell_type": "code",
   "execution_count": 38,
   "id": "71651440",
   "metadata": {
    "execution": {
     "iopub.execute_input": "2025-07-30T13:30:40.009828Z",
     "iopub.status.busy": "2025-07-30T13:30:40.009337Z",
     "iopub.status.idle": "2025-07-30T13:30:40.015438Z",
     "shell.execute_reply": "2025-07-30T13:30:40.014707Z"
    },
    "papermill": {
     "duration": 0.02,
     "end_time": "2025-07-30T13:30:40.016730",
     "exception": false,
     "start_time": "2025-07-30T13:30:39.996730",
     "status": "completed"
    },
    "tags": []
   },
   "outputs": [
    {
     "name": "stdout",
     "output_type": "stream",
     "text": [
      "Dropping 3312 rows (13.25%) where mode='drop-non-german'\n"
     ]
    }
   ],
   "source": [
    "n_drop = (~keep_mask).sum() # Calculates how many rows are set to be dropped\n",
    "if n_drop > 0:\n",
    "    pct = n_drop / len(keep_mask) * 100\n",
    "    print(f\"Dropping {n_drop} rows ({pct:.2f}%) where mode='{mode}'\")"
   ]
  },
  {
   "cell_type": "code",
   "execution_count": 39,
   "id": "5fb8eee5",
   "metadata": {
    "execution": {
     "iopub.execute_input": "2025-07-30T13:30:40.046404Z",
     "iopub.status.busy": "2025-07-30T13:30:40.045913Z",
     "iopub.status.idle": "2025-07-30T13:30:40.063369Z",
     "shell.execute_reply": "2025-07-30T13:30:40.062586Z"
    },
    "papermill": {
     "duration": 0.032329,
     "end_time": "2025-07-30T13:30:40.064995",
     "exception": false,
     "start_time": "2025-07-30T13:30:40.032666",
     "status": "completed"
    },
    "tags": []
   },
   "outputs": [],
   "source": [
    "X_train = X_train[keep_mask]"
   ]
  },
  {
   "cell_type": "code",
   "execution_count": 40,
   "id": "b202bb3a",
   "metadata": {
    "execution": {
     "iopub.execute_input": "2025-07-30T13:30:40.096264Z",
     "iopub.status.busy": "2025-07-30T13:30:40.095254Z",
     "iopub.status.idle": "2025-07-30T13:30:40.102020Z",
     "shell.execute_reply": "2025-07-30T13:30:40.101043Z"
    },
    "papermill": {
     "duration": 0.025796,
     "end_time": "2025-07-30T13:30:40.103614",
     "exception": false,
     "start_time": "2025-07-30T13:30:40.077818",
     "status": "completed"
    },
    "tags": []
   },
   "outputs": [],
   "source": [
    "y_train = y_train[keep_mask]"
   ]
  },
  {
   "cell_type": "markdown",
   "id": "493e2ac3",
   "metadata": {
    "papermill": {
     "duration": 0.022323,
     "end_time": "2025-07-30T13:30:40.150552",
     "exception": false,
     "start_time": "2025-07-30T13:30:40.128229",
     "status": "completed"
    },
    "tags": []
   },
   "source": [
    "# Model Training"
   ]
  },
  {
   "cell_type": "code",
   "execution_count": 41,
   "id": "679e1268",
   "metadata": {
    "execution": {
     "iopub.execute_input": "2025-07-30T13:30:40.197903Z",
     "iopub.status.busy": "2025-07-30T13:30:40.197468Z",
     "iopub.status.idle": "2025-07-30T13:30:40.288760Z",
     "shell.execute_reply": "2025-07-30T13:30:40.287698Z"
    },
    "papermill": {
     "duration": 0.115176,
     "end_time": "2025-07-30T13:30:40.290312",
     "exception": false,
     "start_time": "2025-07-30T13:30:40.175136",
     "status": "completed"
    },
    "tags": []
   },
   "outputs": [],
   "source": [
    "from sklearn.linear_model import LogisticRegression\n",
    "from sklearn.ensemble import GradientBoostingClassifier, RandomForestClassifier\n",
    "\n",
    "if (universe[\"model\"] == \"logreg\"):\n",
    "    model = LogisticRegression() #penalty=\"none\") #, solver=\"newton-cg\", max_iter=1) # include random_state=19 ?\n",
    "elif (universe[\"model\"] == \"penalized_logreg\"):\n",
    "    model = LogisticRegression(penalty=\"l2\", C=1.0) #, solver=\"newton-cg\", max_iter=1)\n",
    "elif (universe[\"model\"] == \"rf\"):\n",
    "    model = RandomForestClassifier(n_estimators=100, n_jobs=-1)\n",
    "elif (universe[\"model\"] == \"gbm\"):\n",
    "    model = GradientBoostingClassifier()\n",
    "elif (universe[\"model\"] == \"elasticnet\"):\n",
    "    model = LogisticRegression(penalty = 'elasticnet', solver = 'saga', l1_ratio = 0.5, max_iter=5000) # which solver to use?\n",
    "else:\n",
    "    raise \"Unsupported universe.model\""
   ]
  },
  {
   "cell_type": "code",
   "execution_count": 42,
   "id": "0cc8f744",
   "metadata": {
    "execution": {
     "iopub.execute_input": "2025-07-30T13:30:40.330348Z",
     "iopub.status.busy": "2025-07-30T13:30:40.329589Z",
     "iopub.status.idle": "2025-07-30T13:30:40.336179Z",
     "shell.execute_reply": "2025-07-30T13:30:40.335236Z"
    },
    "papermill": {
     "duration": 0.027114,
     "end_time": "2025-07-30T13:30:40.337809",
     "exception": false,
     "start_time": "2025-07-30T13:30:40.310695",
     "status": "completed"
    },
    "tags": []
   },
   "outputs": [],
   "source": [
    "import numpy as np\n",
    "from sklearn.pipeline import Pipeline\n",
    "from sklearn.preprocessing import StandardScaler\n",
    "\n",
    "model = Pipeline([\n",
    "    #(\"continuous_processor\", continuous_processor),\n",
    "    #(\"categorical_preprocessor\", categorical_preprocessor),\n",
    "    (\"scale\", StandardScaler() if universe[\"scale\"] == \"scale\" else None), \n",
    "    (\"model\", model),\n",
    "])"
   ]
  },
  {
   "cell_type": "code",
   "execution_count": 43,
   "id": "9442c04d",
   "metadata": {
    "execution": {
     "iopub.execute_input": "2025-07-30T13:30:40.391414Z",
     "iopub.status.busy": "2025-07-30T13:30:40.390965Z",
     "iopub.status.idle": "2025-07-30T13:30:40.938394Z",
     "shell.execute_reply": "2025-07-30T13:30:40.937625Z"
    },
    "papermill": {
     "duration": 0.57572,
     "end_time": "2025-07-30T13:30:40.939577",
     "exception": false,
     "start_time": "2025-07-30T13:30:40.363857",
     "status": "completed"
    },
    "tags": []
   },
   "outputs": [
    {
     "name": "stderr",
     "output_type": "stream",
     "text": [
      "/dss/dsshome1/0C/ra93lal2/.local/share/virtualenvs/CMA_Fairness_v2-3j10GkSs/lib/python3.10/site-packages/sklearn/linear_model/_logistic.py:444: ConvergenceWarning: lbfgs failed to converge (status=1):\n",
      "STOP: TOTAL NO. of ITERATIONS REACHED LIMIT.\n",
      "\n",
      "Increase the number of iterations (max_iter) or scale the data as shown in:\n",
      "    https://scikit-learn.org/stable/modules/preprocessing.html\n",
      "Please also refer to the documentation for alternative solver options:\n",
      "    https://scikit-learn.org/stable/modules/linear_model.html#logistic-regression\n",
      "  n_iter_i = _check_optimize_result(\n"
     ]
    },
    {
     "data": {
      "text/html": [
       "<style>#sk-container-id-1 {color: black;background-color: white;}#sk-container-id-1 pre{padding: 0;}#sk-container-id-1 div.sk-toggleable {background-color: white;}#sk-container-id-1 label.sk-toggleable__label {cursor: pointer;display: block;width: 100%;margin-bottom: 0;padding: 0.3em;box-sizing: border-box;text-align: center;}#sk-container-id-1 label.sk-toggleable__label-arrow:before {content: \"▸\";float: left;margin-right: 0.25em;color: #696969;}#sk-container-id-1 label.sk-toggleable__label-arrow:hover:before {color: black;}#sk-container-id-1 div.sk-estimator:hover label.sk-toggleable__label-arrow:before {color: black;}#sk-container-id-1 div.sk-toggleable__content {max-height: 0;max-width: 0;overflow: hidden;text-align: left;background-color: #f0f8ff;}#sk-container-id-1 div.sk-toggleable__content pre {margin: 0.2em;color: black;border-radius: 0.25em;background-color: #f0f8ff;}#sk-container-id-1 input.sk-toggleable__control:checked~div.sk-toggleable__content {max-height: 200px;max-width: 100%;overflow: auto;}#sk-container-id-1 input.sk-toggleable__control:checked~label.sk-toggleable__label-arrow:before {content: \"▾\";}#sk-container-id-1 div.sk-estimator input.sk-toggleable__control:checked~label.sk-toggleable__label {background-color: #d4ebff;}#sk-container-id-1 div.sk-label input.sk-toggleable__control:checked~label.sk-toggleable__label {background-color: #d4ebff;}#sk-container-id-1 input.sk-hidden--visually {border: 0;clip: rect(1px 1px 1px 1px);clip: rect(1px, 1px, 1px, 1px);height: 1px;margin: -1px;overflow: hidden;padding: 0;position: absolute;width: 1px;}#sk-container-id-1 div.sk-estimator {font-family: monospace;background-color: #f0f8ff;border: 1px dotted black;border-radius: 0.25em;box-sizing: border-box;margin-bottom: 0.5em;}#sk-container-id-1 div.sk-estimator:hover {background-color: #d4ebff;}#sk-container-id-1 div.sk-parallel-item::after {content: \"\";width: 100%;border-bottom: 1px solid gray;flex-grow: 1;}#sk-container-id-1 div.sk-label:hover label.sk-toggleable__label {background-color: #d4ebff;}#sk-container-id-1 div.sk-serial::before {content: \"\";position: absolute;border-left: 1px solid gray;box-sizing: border-box;top: 0;bottom: 0;left: 50%;z-index: 0;}#sk-container-id-1 div.sk-serial {display: flex;flex-direction: column;align-items: center;background-color: white;padding-right: 0.2em;padding-left: 0.2em;position: relative;}#sk-container-id-1 div.sk-item {position: relative;z-index: 1;}#sk-container-id-1 div.sk-parallel {display: flex;align-items: stretch;justify-content: center;background-color: white;position: relative;}#sk-container-id-1 div.sk-item::before, #sk-container-id-1 div.sk-parallel-item::before {content: \"\";position: absolute;border-left: 1px solid gray;box-sizing: border-box;top: 0;bottom: 0;left: 50%;z-index: -1;}#sk-container-id-1 div.sk-parallel-item {display: flex;flex-direction: column;z-index: 1;position: relative;background-color: white;}#sk-container-id-1 div.sk-parallel-item:first-child::after {align-self: flex-end;width: 50%;}#sk-container-id-1 div.sk-parallel-item:last-child::after {align-self: flex-start;width: 50%;}#sk-container-id-1 div.sk-parallel-item:only-child::after {width: 0;}#sk-container-id-1 div.sk-dashed-wrapped {border: 1px dashed gray;margin: 0 0.4em 0.5em 0.4em;box-sizing: border-box;padding-bottom: 0.4em;background-color: white;}#sk-container-id-1 div.sk-label label {font-family: monospace;font-weight: bold;display: inline-block;line-height: 1.2em;}#sk-container-id-1 div.sk-label-container {text-align: center;}#sk-container-id-1 div.sk-container {/* jupyter's `normalize.less` sets `[hidden] { display: none; }` but bootstrap.min.css set `[hidden] { display: none !important; }` so we also need the `!important` here to be able to override the default hidden behavior on the sphinx rendered scikit-learn.org. See: https://github.com/scikit-learn/scikit-learn/issues/21755 */display: inline-block !important;position: relative;}#sk-container-id-1 div.sk-text-repr-fallback {display: none;}</style><div id=\"sk-container-id-1\" class=\"sk-top-container\"><div class=\"sk-text-repr-fallback\"><pre>Pipeline(steps=[(&#x27;scale&#x27;, None), (&#x27;model&#x27;, LogisticRegression())])</pre><b>In a Jupyter environment, please rerun this cell to show the HTML representation or trust the notebook. <br />On GitHub, the HTML representation is unable to render, please try loading this page with nbviewer.org.</b></div><div class=\"sk-container\" hidden><div class=\"sk-item sk-dashed-wrapped\"><div class=\"sk-label-container\"><div class=\"sk-label sk-toggleable\"><input class=\"sk-toggleable__control sk-hidden--visually\" id=\"sk-estimator-id-1\" type=\"checkbox\" ><label for=\"sk-estimator-id-1\" class=\"sk-toggleable__label sk-toggleable__label-arrow\">Pipeline</label><div class=\"sk-toggleable__content\"><pre>Pipeline(steps=[(&#x27;scale&#x27;, None), (&#x27;model&#x27;, LogisticRegression())])</pre></div></div></div><div class=\"sk-serial\"><div class=\"sk-item\"><div class=\"sk-estimator sk-toggleable\"><input class=\"sk-toggleable__control sk-hidden--visually\" id=\"sk-estimator-id-2\" type=\"checkbox\" ><label for=\"sk-estimator-id-2\" class=\"sk-toggleable__label sk-toggleable__label-arrow\">None</label><div class=\"sk-toggleable__content\"><pre>None</pre></div></div></div><div class=\"sk-item\"><div class=\"sk-estimator sk-toggleable\"><input class=\"sk-toggleable__control sk-hidden--visually\" id=\"sk-estimator-id-3\" type=\"checkbox\" ><label for=\"sk-estimator-id-3\" class=\"sk-toggleable__label sk-toggleable__label-arrow\">LogisticRegression</label><div class=\"sk-toggleable__content\"><pre>LogisticRegression()</pre></div></div></div></div></div></div></div>"
      ],
      "text/plain": [
       "Pipeline(steps=[('scale', None), ('model', LogisticRegression())])"
      ]
     },
     "execution_count": 43,
     "metadata": {},
     "output_type": "execute_result"
    }
   ],
   "source": [
    "model.fit(X_train, y_train.values.ravel())"
   ]
  },
  {
   "cell_type": "code",
   "execution_count": 44,
   "id": "af59f8c0",
   "metadata": {
    "execution": {
     "iopub.execute_input": "2025-07-30T13:30:40.969054Z",
     "iopub.status.busy": "2025-07-30T13:30:40.968556Z",
     "iopub.status.idle": "2025-07-30T13:30:40.972956Z",
     "shell.execute_reply": "2025-07-30T13:30:40.971995Z"
    },
    "papermill": {
     "duration": 0.018936,
     "end_time": "2025-07-30T13:30:40.974249",
     "exception": false,
     "start_time": "2025-07-30T13:30:40.955313",
     "status": "completed"
    },
    "tags": []
   },
   "outputs": [],
   "source": [
    "from fairness_multiverse.universe import predict_w_threshold"
   ]
  },
  {
   "cell_type": "code",
   "execution_count": 45,
   "id": "a7cf2e16",
   "metadata": {
    "execution": {
     "iopub.execute_input": "2025-07-30T13:30:41.002687Z",
     "iopub.status.busy": "2025-07-30T13:30:41.002263Z",
     "iopub.status.idle": "2025-07-30T13:30:41.095236Z",
     "shell.execute_reply": "2025-07-30T13:30:41.094269Z"
    },
    "papermill": {
     "duration": 0.108314,
     "end_time": "2025-07-30T13:30:41.097220",
     "exception": false,
     "start_time": "2025-07-30T13:30:40.988906",
     "status": "completed"
    },
    "tags": []
   },
   "outputs": [
    {
     "data": {
      "text/plain": [
       "0.8590012261732248"
      ]
     },
     "execution_count": 45,
     "metadata": {},
     "output_type": "execute_result"
    }
   ],
   "source": [
    "probs_test = model.predict_proba(X_test)\n",
    "\n",
    "'''\n",
    "Below code returns a boolean array (or binary 0/1 array depending on how it’s used) where each element \n",
    "is True if the probability of class 1 is greater than or equal to the threshold, and False otherwise.\n",
    "'''\n",
    "y_pred_default = predict_w_threshold(probs_test, 0.5)\n",
    "\n",
    "from sklearn.metrics import accuracy_score\n",
    "\n",
    "# Naive prediction\n",
    "accuracy_score(y_true = y_true, y_pred = y_pred_default)"
   ]
  },
  {
   "cell_type": "code",
   "execution_count": 46,
   "id": "081964c3",
   "metadata": {
    "execution": {
     "iopub.execute_input": "2025-07-30T13:30:41.154806Z",
     "iopub.status.busy": "2025-07-30T13:30:41.153892Z",
     "iopub.status.idle": "2025-07-30T13:30:41.244176Z",
     "shell.execute_reply": "2025-07-30T13:30:41.243006Z"
    },
    "papermill": {
     "duration": 0.120321,
     "end_time": "2025-07-30T13:30:41.246450",
     "exception": false,
     "start_time": "2025-07-30T13:30:41.126129",
     "status": "completed"
    },
    "tags": []
   },
   "outputs": [
    {
     "data": {
      "text/plain": [
       "array([0, 0, 0, ..., 0, 0, 0])"
      ]
     },
     "execution_count": 46,
     "metadata": {},
     "output_type": "execute_result"
    }
   ],
   "source": [
    "model.predict(X_test)"
   ]
  },
  {
   "cell_type": "markdown",
   "id": "56c9705b",
   "metadata": {
    "papermill": {
     "duration": 0.02691,
     "end_time": "2025-07-30T13:30:41.298509",
     "exception": false,
     "start_time": "2025-07-30T13:30:41.271599",
     "status": "completed"
    },
    "tags": []
   },
   "source": [
    "# Conformal Prediction"
   ]
  },
  {
   "cell_type": "code",
   "execution_count": 47,
   "id": "160ec6ff",
   "metadata": {
    "execution": {
     "iopub.execute_input": "2025-07-30T13:30:41.330691Z",
     "iopub.status.busy": "2025-07-30T13:30:41.329708Z",
     "iopub.status.idle": "2025-07-30T13:30:41.335455Z",
     "shell.execute_reply": "2025-07-30T13:30:41.334486Z"
    },
    "papermill": {
     "duration": 0.023915,
     "end_time": "2025-07-30T13:30:41.337184",
     "exception": false,
     "start_time": "2025-07-30T13:30:41.313269",
     "status": "completed"
    },
    "tags": []
   },
   "outputs": [],
   "source": [
    "# Miscoverage level for conformal prediction (10% allowed error rate => 90% target coverage)\n",
    "alpha = 0.1"
   ]
  },
  {
   "cell_type": "code",
   "execution_count": 48,
   "id": "eadf4555-3dd3-440e-8e35-f82a4ad9f855",
   "metadata": {
    "execution": {
     "iopub.execute_input": "2025-07-30T13:30:41.392697Z",
     "iopub.status.busy": "2025-07-30T13:30:41.391015Z",
     "iopub.status.idle": "2025-07-30T13:30:41.476670Z",
     "shell.execute_reply": "2025-07-30T13:30:41.475648Z"
    },
    "papermill": {
     "duration": 0.114134,
     "end_time": "2025-07-30T13:30:41.478626",
     "exception": false,
     "start_time": "2025-07-30T13:30:41.364492",
     "status": "completed"
    },
    "tags": []
   },
   "outputs": [],
   "source": [
    "probs_calib = model.predict_proba(X_calib)"
   ]
  },
  {
   "cell_type": "code",
   "execution_count": 49,
   "id": "2ed93547-6d5d-4983-9b36-1ecb300da49a",
   "metadata": {
    "execution": {
     "iopub.execute_input": "2025-07-30T13:30:41.534031Z",
     "iopub.status.busy": "2025-07-30T13:30:41.533004Z",
     "iopub.status.idle": "2025-07-30T13:30:41.538994Z",
     "shell.execute_reply": "2025-07-30T13:30:41.537986Z"
    },
    "papermill": {
     "duration": 0.036095,
     "end_time": "2025-07-30T13:30:41.540651",
     "exception": false,
     "start_time": "2025-07-30T13:30:41.504556",
     "status": "completed"
    },
    "tags": []
   },
   "outputs": [],
   "source": [
    "y_calib = y_calib.values.ravel().astype(int)"
   ]
  },
  {
   "cell_type": "code",
   "execution_count": 50,
   "id": "65d1320d-f588-4b38-9072-62af1ae97f7d",
   "metadata": {
    "execution": {
     "iopub.execute_input": "2025-07-30T13:30:41.599868Z",
     "iopub.status.busy": "2025-07-30T13:30:41.598975Z",
     "iopub.status.idle": "2025-07-30T13:30:41.607674Z",
     "shell.execute_reply": "2025-07-30T13:30:41.606706Z"
    },
    "papermill": {
     "duration": 0.045014,
     "end_time": "2025-07-30T13:30:41.614344",
     "exception": false,
     "start_time": "2025-07-30T13:30:41.569330",
     "status": "completed"
    },
    "tags": []
   },
   "outputs": [],
   "source": [
    "from fairness_multiverse.conformal import compute_nc_scores\n",
    "\n",
    "# Compute nonconformity scores on calibration set (1 - probability of true class)\n",
    "nc_scores = compute_nc_scores(probs_calib, y_calib)"
   ]
  },
  {
   "cell_type": "code",
   "execution_count": 51,
   "id": "df3b8ca3-53b7-43d5-9667-7c85da7aeda2",
   "metadata": {
    "execution": {
     "iopub.execute_input": "2025-07-30T13:30:41.670465Z",
     "iopub.status.busy": "2025-07-30T13:30:41.669463Z",
     "iopub.status.idle": "2025-07-30T13:30:41.676664Z",
     "shell.execute_reply": "2025-07-30T13:30:41.675679Z"
    },
    "papermill": {
     "duration": 0.037144,
     "end_time": "2025-07-30T13:30:41.678544",
     "exception": false,
     "start_time": "2025-07-30T13:30:41.641400",
     "status": "completed"
    },
    "tags": []
   },
   "outputs": [],
   "source": [
    "from fairness_multiverse.conformal import find_threshold\n",
    "\n",
    "# Find conformal threshold q_hat for the given alpha (split conformal method)\n",
    "q_hat = find_threshold(nc_scores, alpha)"
   ]
  },
  {
   "cell_type": "code",
   "execution_count": 52,
   "id": "4d29e6c1-0ef6-4aa4-b8fe-4fe79b0d033a",
   "metadata": {
    "execution": {
     "iopub.execute_input": "2025-07-30T13:30:41.736221Z",
     "iopub.status.busy": "2025-07-30T13:30:41.735300Z",
     "iopub.status.idle": "2025-07-30T13:30:41.744680Z",
     "shell.execute_reply": "2025-07-30T13:30:41.743622Z"
    },
    "papermill": {
     "duration": 0.04291,
     "end_time": "2025-07-30T13:30:41.749297",
     "exception": false,
     "start_time": "2025-07-30T13:30:41.706387",
     "status": "completed"
    },
    "tags": []
   },
   "outputs": [
    {
     "data": {
      "text/plain": [
       "0.6527541979700762"
      ]
     },
     "execution_count": 52,
     "metadata": {},
     "output_type": "execute_result"
    }
   ],
   "source": [
    "q_hat"
   ]
  },
  {
   "cell_type": "code",
   "execution_count": 53,
   "id": "92460794-cdac-4be2-ba28-f28c0515a6fb",
   "metadata": {
    "execution": {
     "iopub.execute_input": "2025-07-30T13:30:41.805888Z",
     "iopub.status.busy": "2025-07-30T13:30:41.804199Z",
     "iopub.status.idle": "2025-07-30T13:30:42.573027Z",
     "shell.execute_reply": "2025-07-30T13:30:42.572258Z"
    },
    "papermill": {
     "duration": 0.797858,
     "end_time": "2025-07-30T13:30:42.574584",
     "exception": false,
     "start_time": "2025-07-30T13:30:41.776726",
     "status": "completed"
    },
    "tags": []
   },
   "outputs": [],
   "source": [
    "from fairness_multiverse.conformal import predict_conformal_sets\n",
    "\n",
    "# Generate prediction sets for each test example\n",
    "pred_sets = predict_conformal_sets(model, X_test, q_hat)"
   ]
  },
  {
   "cell_type": "code",
   "execution_count": 54,
   "id": "d90c9a65-e6db-4f5d-80cd-e68fb7e46829",
   "metadata": {
    "execution": {
     "iopub.execute_input": "2025-07-30T13:30:42.603569Z",
     "iopub.status.busy": "2025-07-30T13:30:42.603074Z",
     "iopub.status.idle": "2025-07-30T13:30:42.608854Z",
     "shell.execute_reply": "2025-07-30T13:30:42.607880Z"
    },
    "papermill": {
     "duration": 0.02273,
     "end_time": "2025-07-30T13:30:42.611108",
     "exception": false,
     "start_time": "2025-07-30T13:30:42.588378",
     "status": "completed"
    },
    "tags": []
   },
   "outputs": [],
   "source": [
    "y_true = y_true.squeeze()"
   ]
  },
  {
   "cell_type": "code",
   "execution_count": 55,
   "id": "3a58a54a-1e68-46b9-927a-df01f18aebc8",
   "metadata": {
    "execution": {
     "iopub.execute_input": "2025-07-30T13:30:42.664539Z",
     "iopub.status.busy": "2025-07-30T13:30:42.663741Z",
     "iopub.status.idle": "2025-07-30T13:30:43.716349Z",
     "shell.execute_reply": "2025-07-30T13:30:43.715452Z"
    },
    "papermill": {
     "duration": 1.081039,
     "end_time": "2025-07-30T13:30:43.718067",
     "exception": false,
     "start_time": "2025-07-30T13:30:42.637028",
     "status": "completed"
    },
    "tags": []
   },
   "outputs": [],
   "source": [
    "from fairness_multiverse.conformal import evaluate_sets\n",
    "\n",
    "# Evaluate coverage and average set size on test data\n",
    "metrics = evaluate_sets(pred_sets, y_true)"
   ]
  },
  {
   "cell_type": "markdown",
   "id": "2b569c12-9aaa-4c88-98c9-bbcd0cf3ebb8",
   "metadata": {
    "papermill": {
     "duration": 0.01416,
     "end_time": "2025-07-30T13:30:43.781877",
     "exception": false,
     "start_time": "2025-07-30T13:30:43.767717",
     "status": "completed"
    },
    "tags": []
   },
   "source": [
    "# CP Metrics"
   ]
  },
  {
   "cell_type": "code",
   "execution_count": 56,
   "id": "5ce0a5cb-201f-45a0-ade5-94c7f0bd6095",
   "metadata": {
    "execution": {
     "iopub.execute_input": "2025-07-30T13:30:43.811866Z",
     "iopub.status.busy": "2025-07-30T13:30:43.810996Z",
     "iopub.status.idle": "2025-07-30T13:30:43.817429Z",
     "shell.execute_reply": "2025-07-30T13:30:43.816613Z"
    },
    "papermill": {
     "duration": 0.024417,
     "end_time": "2025-07-30T13:30:43.818775",
     "exception": false,
     "start_time": "2025-07-30T13:30:43.794358",
     "status": "completed"
    },
    "tags": []
   },
   "outputs": [
    {
     "data": {
      "text/plain": [
       "{'coverage': 0.9131646416230075, 'avg_size': 1.2509307769479434}"
      ]
     },
     "execution_count": 56,
     "metadata": {},
     "output_type": "execute_result"
    }
   ],
   "source": [
    "metrics"
   ]
  },
  {
   "cell_type": "code",
   "execution_count": 57,
   "id": "9b9a838d-31c9-430b-ae14-12baee460d17",
   "metadata": {
    "execution": {
     "iopub.execute_input": "2025-07-30T13:30:43.849939Z",
     "iopub.status.busy": "2025-07-30T13:30:43.849455Z",
     "iopub.status.idle": "2025-07-30T13:30:43.854357Z",
     "shell.execute_reply": "2025-07-30T13:30:43.853609Z"
    },
    "papermill": {
     "duration": 0.019927,
     "end_time": "2025-07-30T13:30:43.855785",
     "exception": false,
     "start_time": "2025-07-30T13:30:43.835858",
     "status": "completed"
    },
    "tags": []
   },
   "outputs": [],
   "source": [
    "example_universe = universe.copy()\n",
    "universe_training_size = example_universe.get(\"training_size\")\n",
    "universe_scale = example_universe.get(\"scale\")\n",
    "universe_model = example_universe.get(\"model\")\n",
    "universe_exclude_features = example_universe.get(\"exclude_features\")\n",
    "universe_exclude_subgroups = example_universe.get(\"exclude_subgroups\")"
   ]
  },
  {
   "cell_type": "code",
   "execution_count": 58,
   "id": "f4b6a8ac-9dc0-4245-8a91-5b3b5999c4f9",
   "metadata": {
    "execution": {
     "iopub.execute_input": "2025-07-30T13:30:43.894204Z",
     "iopub.status.busy": "2025-07-30T13:30:43.893806Z",
     "iopub.status.idle": "2025-07-30T13:30:43.899735Z",
     "shell.execute_reply": "2025-07-30T13:30:43.898832Z"
    },
    "papermill": {
     "duration": 0.031944,
     "end_time": "2025-07-30T13:30:43.901264",
     "exception": false,
     "start_time": "2025-07-30T13:30:43.869320",
     "status": "completed"
    },
    "tags": []
   },
   "outputs": [],
   "source": [
    "cp_metrics_dict = {\n",
    "    \"universe_id\": [universe_id],\n",
    "    \"universe_training_size\": [universe_training_size],\n",
    "    \"universe_scale\": [universe_scale],\n",
    "    \"universe_model\": [universe_model],\n",
    "    \"universe_exclude_features\": [universe_exclude_features],\n",
    "    \"universe_exclude_subgroups\": [universe_exclude_subgroups],\n",
    "    \"q_hat\": [q_hat],\n",
    "    \"coverage\": [metrics[\"coverage\"]],\n",
    "    \"avg_size\": [metrics[\"avg_size\"]],\n",
    "}"
   ]
  },
  {
   "cell_type": "code",
   "execution_count": 59,
   "id": "908acbb1-0371-4915-85ca-3fa520d2efe2",
   "metadata": {
    "execution": {
     "iopub.execute_input": "2025-07-30T13:30:43.955680Z",
     "iopub.status.busy": "2025-07-30T13:30:43.955113Z",
     "iopub.status.idle": "2025-07-30T13:30:43.962638Z",
     "shell.execute_reply": "2025-07-30T13:30:43.961594Z"
    },
    "papermill": {
     "duration": 0.043245,
     "end_time": "2025-07-30T13:30:43.971113",
     "exception": false,
     "start_time": "2025-07-30T13:30:43.927868",
     "status": "completed"
    },
    "tags": []
   },
   "outputs": [
    {
     "data": {
      "text/plain": [
       "{'universe_id': ['589b31a445b57c99c5d5da7aef4166f8'],\n",
       " 'universe_training_size': ['25k'],\n",
       " 'universe_scale': ['do-not-scale'],\n",
       " 'universe_model': ['logreg'],\n",
       " 'universe_exclude_features': ['age'],\n",
       " 'universe_exclude_subgroups': ['drop-non-german'],\n",
       " 'q_hat': [0.6527541979700762],\n",
       " 'coverage': [0.9131646416230075],\n",
       " 'avg_size': [1.2509307769479434]}"
      ]
     },
     "execution_count": 59,
     "metadata": {},
     "output_type": "execute_result"
    }
   ],
   "source": [
    "cp_metrics_dict"
   ]
  },
  {
   "cell_type": "code",
   "execution_count": 60,
   "id": "33007efc-14e9-4ec6-97ac-56a455c82265",
   "metadata": {
    "execution": {
     "iopub.execute_input": "2025-07-30T13:30:44.042705Z",
     "iopub.status.busy": "2025-07-30T13:30:44.041950Z",
     "iopub.status.idle": "2025-07-30T13:30:44.048855Z",
     "shell.execute_reply": "2025-07-30T13:30:44.047835Z"
    },
    "papermill": {
     "duration": 0.036577,
     "end_time": "2025-07-30T13:30:44.050412",
     "exception": false,
     "start_time": "2025-07-30T13:30:44.013835",
     "status": "completed"
    },
    "tags": []
   },
   "outputs": [],
   "source": [
    "cp_metrics_df = pd.DataFrame(cp_metrics_dict)"
   ]
  },
  {
   "cell_type": "code",
   "execution_count": 61,
   "id": "db12611b-57b2-4910-b9d0-355adfd6e7bf",
   "metadata": {
    "execution": {
     "iopub.execute_input": "2025-07-30T13:30:44.105636Z",
     "iopub.status.busy": "2025-07-30T13:30:44.105258Z",
     "iopub.status.idle": "2025-07-30T13:30:44.123073Z",
     "shell.execute_reply": "2025-07-30T13:30:44.121970Z"
    },
    "papermill": {
     "duration": 0.047822,
     "end_time": "2025-07-30T13:30:44.124822",
     "exception": false,
     "start_time": "2025-07-30T13:30:44.077000",
     "status": "completed"
    },
    "tags": []
   },
   "outputs": [
    {
     "data": {
      "text/html": [
       "<div>\n",
       "<style scoped>\n",
       "    .dataframe tbody tr th:only-of-type {\n",
       "        vertical-align: middle;\n",
       "    }\n",
       "\n",
       "    .dataframe tbody tr th {\n",
       "        vertical-align: top;\n",
       "    }\n",
       "\n",
       "    .dataframe thead th {\n",
       "        text-align: right;\n",
       "    }\n",
       "</style>\n",
       "<table border=\"1\" class=\"dataframe\">\n",
       "  <thead>\n",
       "    <tr style=\"text-align: right;\">\n",
       "      <th></th>\n",
       "      <th>universe_id</th>\n",
       "      <th>universe_training_size</th>\n",
       "      <th>universe_scale</th>\n",
       "      <th>universe_model</th>\n",
       "      <th>universe_exclude_features</th>\n",
       "      <th>universe_exclude_subgroups</th>\n",
       "      <th>q_hat</th>\n",
       "      <th>coverage</th>\n",
       "      <th>avg_size</th>\n",
       "    </tr>\n",
       "  </thead>\n",
       "  <tbody>\n",
       "    <tr>\n",
       "      <th>0</th>\n",
       "      <td>589b31a445b57c99c5d5da7aef4166f8</td>\n",
       "      <td>25k</td>\n",
       "      <td>do-not-scale</td>\n",
       "      <td>logreg</td>\n",
       "      <td>age</td>\n",
       "      <td>drop-non-german</td>\n",
       "      <td>0.652754</td>\n",
       "      <td>0.913165</td>\n",
       "      <td>1.250931</td>\n",
       "    </tr>\n",
       "  </tbody>\n",
       "</table>\n",
       "</div>"
      ],
      "text/plain": [
       "                        universe_id universe_training_size universe_scale  \\\n",
       "0  589b31a445b57c99c5d5da7aef4166f8                    25k   do-not-scale   \n",
       "\n",
       "  universe_model universe_exclude_features universe_exclude_subgroups  \\\n",
       "0         logreg                       age            drop-non-german   \n",
       "\n",
       "      q_hat  coverage  avg_size  \n",
       "0  0.652754  0.913165  1.250931  "
      ]
     },
     "execution_count": 61,
     "metadata": {},
     "output_type": "execute_result"
    }
   ],
   "source": [
    "cp_metrics_df"
   ]
  },
  {
   "cell_type": "code",
   "execution_count": 62,
   "id": "b7fbde55-a0a1-47e4-9af6-fe4a17fa8c61",
   "metadata": {
    "execution": {
     "iopub.execute_input": "2025-07-30T13:30:44.183772Z",
     "iopub.status.busy": "2025-07-30T13:30:44.183118Z",
     "iopub.status.idle": "2025-07-30T13:30:44.188889Z",
     "shell.execute_reply": "2025-07-30T13:30:44.187869Z"
    },
    "papermill": {
     "duration": 0.036452,
     "end_time": "2025-07-30T13:30:44.190492",
     "exception": false,
     "start_time": "2025-07-30T13:30:44.154040",
     "status": "completed"
    },
    "tags": []
   },
   "outputs": [],
   "source": [
    "# Conditional Coverage & looking at subgroups"
   ]
  },
  {
   "cell_type": "code",
   "execution_count": 63,
   "id": "027ae886-68dd-4141-96c7-805a5450e1ef",
   "metadata": {
    "execution": {
     "iopub.execute_input": "2025-07-30T13:30:44.257699Z",
     "iopub.status.busy": "2025-07-30T13:30:44.256523Z",
     "iopub.status.idle": "2025-07-30T13:30:44.530473Z",
     "shell.execute_reply": "2025-07-30T13:30:44.529494Z"
    },
    "papermill": {
     "duration": 0.31799,
     "end_time": "2025-07-30T13:30:44.532436",
     "exception": false,
     "start_time": "2025-07-30T13:30:44.214446",
     "status": "completed"
    },
    "tags": []
   },
   "outputs": [],
   "source": [
    "from fairness_multiverse.conformal import build_cp_groups\n",
    "\n",
    "cp_groups_df = build_cp_groups(pred_sets, y_true, X_test.index, org_test)\n",
    "#needs universe_id and setting"
   ]
  },
  {
   "cell_type": "code",
   "execution_count": 64,
   "id": "01d5802c-663a-4d1f-9d69-e036faaffbf7",
   "metadata": {
    "execution": {
     "iopub.execute_input": "2025-07-30T13:30:44.591036Z",
     "iopub.status.busy": "2025-07-30T13:30:44.590430Z",
     "iopub.status.idle": "2025-07-30T13:30:44.596313Z",
     "shell.execute_reply": "2025-07-30T13:30:44.595042Z"
    },
    "papermill": {
     "duration": 0.035362,
     "end_time": "2025-07-30T13:30:44.597998",
     "exception": false,
     "start_time": "2025-07-30T13:30:44.562636",
     "status": "completed"
    },
    "tags": []
   },
   "outputs": [],
   "source": [
    "#delete\n",
    "#cp_groups_df"
   ]
  },
  {
   "cell_type": "code",
   "execution_count": 65,
   "id": "fa424af1-d1eb-443d-b717-2d279ada8408",
   "metadata": {
    "execution": {
     "iopub.execute_input": "2025-07-30T13:30:44.653420Z",
     "iopub.status.busy": "2025-07-30T13:30:44.652865Z",
     "iopub.status.idle": "2025-07-30T13:30:44.657936Z",
     "shell.execute_reply": "2025-07-30T13:30:44.657031Z"
    },
    "papermill": {
     "duration": 0.034826,
     "end_time": "2025-07-30T13:30:44.659597",
     "exception": false,
     "start_time": "2025-07-30T13:30:44.624771",
     "status": "completed"
    },
    "tags": []
   },
   "outputs": [],
   "source": [
    "#delete\n",
    "#percentage = (cp_groups_df['nongerman_female'] == 1).mean() * 100\n",
    "#print(percentage)\n"
   ]
  },
  {
   "cell_type": "code",
   "execution_count": 66,
   "id": "6cbdab96-b2b2-45af-ad54-d0516db2e28d",
   "metadata": {
    "execution": {
     "iopub.execute_input": "2025-07-30T13:30:44.715589Z",
     "iopub.status.busy": "2025-07-30T13:30:44.714987Z",
     "iopub.status.idle": "2025-07-30T13:30:46.296043Z",
     "shell.execute_reply": "2025-07-30T13:30:46.295008Z"
    },
    "papermill": {
     "duration": 1.611444,
     "end_time": "2025-07-30T13:30:46.298081",
     "exception": false,
     "start_time": "2025-07-30T13:30:44.686637",
     "status": "completed"
    },
    "tags": []
   },
   "outputs": [],
   "source": [
    "# Define covered = 1 if true_label is in the predicted set\n",
    "cp_groups_df['covered'] = cp_groups_df.apply(\n",
    "    lambda r: int(r['true_label'] in r['pred_set']),\n",
    "    axis=1\n",
    ")"
   ]
  },
  {
   "cell_type": "code",
   "execution_count": 67,
   "id": "338ff529-1a6b-4b87-a931-8e4788d52aad",
   "metadata": {
    "execution": {
     "iopub.execute_input": "2025-07-30T13:30:46.354975Z",
     "iopub.status.busy": "2025-07-30T13:30:46.354517Z",
     "iopub.status.idle": "2025-07-30T13:30:46.359694Z",
     "shell.execute_reply": "2025-07-30T13:30:46.358592Z"
    },
    "papermill": {
     "duration": 0.03518,
     "end_time": "2025-07-30T13:30:46.361532",
     "exception": false,
     "start_time": "2025-07-30T13:30:46.326352",
     "status": "completed"
    },
    "tags": []
   },
   "outputs": [],
   "source": [
    "#cp_groups_df"
   ]
  },
  {
   "cell_type": "code",
   "execution_count": 68,
   "id": "90032e27-66df-4540-9169-4e89cfbaa758",
   "metadata": {
    "execution": {
     "iopub.execute_input": "2025-07-30T13:30:46.418948Z",
     "iopub.status.busy": "2025-07-30T13:30:46.418468Z",
     "iopub.status.idle": "2025-07-30T13:30:46.430342Z",
     "shell.execute_reply": "2025-07-30T13:30:46.429429Z"
    },
    "papermill": {
     "duration": 0.041629,
     "end_time": "2025-07-30T13:30:46.431855",
     "exception": false,
     "start_time": "2025-07-30T13:30:46.390226",
     "status": "completed"
    },
    "tags": []
   },
   "outputs": [],
   "source": [
    "subgroups = ['frau1','nongerman','nongerman_male','nongerman_female']\n",
    "\n",
    "# Conditional coverage for subgroup==1\n",
    "cond_coverage = {\n",
    "    g: cp_groups_df.loc[cp_groups_df[g]==1, 'covered'].mean()\n",
    "    for g in subgroups\n",
    "}"
   ]
  },
  {
   "cell_type": "code",
   "execution_count": 69,
   "id": "1e348fb1-b9c3-45bc-ba23-f016827a7e0d",
   "metadata": {
    "execution": {
     "iopub.execute_input": "2025-07-30T13:30:46.473966Z",
     "iopub.status.busy": "2025-07-30T13:30:46.473561Z",
     "iopub.status.idle": "2025-07-30T13:30:46.480962Z",
     "shell.execute_reply": "2025-07-30T13:30:46.479961Z"
    },
    "papermill": {
     "duration": 0.023065,
     "end_time": "2025-07-30T13:30:46.482580",
     "exception": false,
     "start_time": "2025-07-30T13:30:46.459515",
     "status": "completed"
    },
    "tags": []
   },
   "outputs": [
    {
     "data": {
      "text/plain": [
       "{'frau1': 0.9131419328750505,\n",
       " 'nongerman': 0.9622186043900522,\n",
       " 'nongerman_male': 0.9682067909573989,\n",
       " 'nongerman_female': 0.9523099850968704}"
      ]
     },
     "execution_count": 69,
     "metadata": {},
     "output_type": "execute_result"
    }
   ],
   "source": [
    "cond_coverage"
   ]
  },
  {
   "cell_type": "code",
   "execution_count": 70,
   "id": "f5093324-c3dd-4d63-bc4c-8d945e5c8bbb",
   "metadata": {
    "execution": {
     "iopub.execute_input": "2025-07-30T13:30:46.538510Z",
     "iopub.status.busy": "2025-07-30T13:30:46.537830Z",
     "iopub.status.idle": "2025-07-30T13:30:46.545426Z",
     "shell.execute_reply": "2025-07-30T13:30:46.544326Z"
    },
    "papermill": {
     "duration": 0.037259,
     "end_time": "2025-07-30T13:30:46.547205",
     "exception": false,
     "start_time": "2025-07-30T13:30:46.509946",
     "status": "completed"
    },
    "tags": []
   },
   "outputs": [],
   "source": [
    "for subgroup, cov in cond_coverage.items():\n",
    "    cp_metrics_df[f\"cov_{subgroup}\"] = cov"
   ]
  },
  {
   "cell_type": "code",
   "execution_count": 71,
   "id": "6e872e10-dbe5-49e8-b554-5030c98ff75d",
   "metadata": {
    "execution": {
     "iopub.execute_input": "2025-07-30T13:30:46.605801Z",
     "iopub.status.busy": "2025-07-30T13:30:46.605084Z",
     "iopub.status.idle": "2025-07-30T13:30:46.625132Z",
     "shell.execute_reply": "2025-07-30T13:30:46.624062Z"
    },
    "papermill": {
     "duration": 0.051712,
     "end_time": "2025-07-30T13:30:46.626869",
     "exception": false,
     "start_time": "2025-07-30T13:30:46.575157",
     "status": "completed"
    },
    "tags": []
   },
   "outputs": [
    {
     "data": {
      "text/html": [
       "<div>\n",
       "<style scoped>\n",
       "    .dataframe tbody tr th:only-of-type {\n",
       "        vertical-align: middle;\n",
       "    }\n",
       "\n",
       "    .dataframe tbody tr th {\n",
       "        vertical-align: top;\n",
       "    }\n",
       "\n",
       "    .dataframe thead th {\n",
       "        text-align: right;\n",
       "    }\n",
       "</style>\n",
       "<table border=\"1\" class=\"dataframe\">\n",
       "  <thead>\n",
       "    <tr style=\"text-align: right;\">\n",
       "      <th></th>\n",
       "      <th>universe_id</th>\n",
       "      <th>universe_training_size</th>\n",
       "      <th>universe_scale</th>\n",
       "      <th>universe_model</th>\n",
       "      <th>universe_exclude_features</th>\n",
       "      <th>universe_exclude_subgroups</th>\n",
       "      <th>q_hat</th>\n",
       "      <th>coverage</th>\n",
       "      <th>avg_size</th>\n",
       "      <th>cov_frau1</th>\n",
       "      <th>cov_nongerman</th>\n",
       "      <th>cov_nongerman_male</th>\n",
       "      <th>cov_nongerman_female</th>\n",
       "    </tr>\n",
       "  </thead>\n",
       "  <tbody>\n",
       "    <tr>\n",
       "      <th>0</th>\n",
       "      <td>589b31a445b57c99c5d5da7aef4166f8</td>\n",
       "      <td>25k</td>\n",
       "      <td>do-not-scale</td>\n",
       "      <td>logreg</td>\n",
       "      <td>age</td>\n",
       "      <td>drop-non-german</td>\n",
       "      <td>0.652754</td>\n",
       "      <td>0.913165</td>\n",
       "      <td>1.250931</td>\n",
       "      <td>0.913142</td>\n",
       "      <td>0.962219</td>\n",
       "      <td>0.968207</td>\n",
       "      <td>0.95231</td>\n",
       "    </tr>\n",
       "  </tbody>\n",
       "</table>\n",
       "</div>"
      ],
      "text/plain": [
       "                        universe_id universe_training_size universe_scale  \\\n",
       "0  589b31a445b57c99c5d5da7aef4166f8                    25k   do-not-scale   \n",
       "\n",
       "  universe_model universe_exclude_features universe_exclude_subgroups  \\\n",
       "0         logreg                       age            drop-non-german   \n",
       "\n",
       "      q_hat  coverage  avg_size  cov_frau1  cov_nongerman  cov_nongerman_male  \\\n",
       "0  0.652754  0.913165  1.250931   0.913142       0.962219            0.968207   \n",
       "\n",
       "   cov_nongerman_female  \n",
       "0               0.95231  "
      ]
     },
     "execution_count": 71,
     "metadata": {},
     "output_type": "execute_result"
    }
   ],
   "source": [
    "cp_metrics_df"
   ]
  },
  {
   "cell_type": "markdown",
   "id": "33774451",
   "metadata": {
    "papermill": {
     "duration": 0.029035,
     "end_time": "2025-07-30T13:30:46.686211",
     "exception": false,
     "start_time": "2025-07-30T13:30:46.657176",
     "status": "completed"
    },
    "tags": []
   },
   "source": [
    "# (Fairness) Metrics"
   ]
  },
  {
   "cell_type": "code",
   "execution_count": 72,
   "id": "debc5d62",
   "metadata": {
    "execution": {
     "iopub.execute_input": "2025-07-30T13:30:46.753897Z",
     "iopub.status.busy": "2025-07-30T13:30:46.751943Z",
     "iopub.status.idle": "2025-07-30T13:30:46.777570Z",
     "shell.execute_reply": "2025-07-30T13:30:46.776525Z"
    },
    "papermill": {
     "duration": 0.064039,
     "end_time": "2025-07-30T13:30:46.779659",
     "exception": false,
     "start_time": "2025-07-30T13:30:46.715620",
     "status": "completed"
    },
    "tags": []
   },
   "outputs": [],
   "source": [
    "# do I need to include maxdeutsch1.missing?\n",
    "\n",
    "import numpy as np\n",
    "\n",
    "colname_to_bin = \"maxdeutsch1\"\n",
    "majority_value = org_train[colname_to_bin].mode()[0]\n",
    "\n",
    "org_test[\"majmin\"] = np.where(org_test[colname_to_bin] == majority_value, \"majority\", \"minority\")"
   ]
  },
  {
   "cell_type": "code",
   "execution_count": 73,
   "id": "06a50de5",
   "metadata": {
    "execution": {
     "iopub.execute_input": "2025-07-30T13:30:46.847643Z",
     "iopub.status.busy": "2025-07-30T13:30:46.846902Z",
     "iopub.status.idle": "2025-07-30T13:30:49.619464Z",
     "shell.execute_reply": "2025-07-30T13:30:49.618328Z"
    },
    "papermill": {
     "duration": 2.809485,
     "end_time": "2025-07-30T13:30:49.622122",
     "exception": false,
     "start_time": "2025-07-30T13:30:46.812637",
     "status": "completed"
    },
    "tags": []
   },
   "outputs": [],
   "source": [
    "example_universe = universe.copy()\n",
    "example_universe[\"cutoff\"] = example_universe[\"cutoff\"][0]\n",
    "example_universe[\"eval_fairness_grouping\"] = example_universe[\"eval_fairness_grouping\"][0]\n",
    "fairness_dict, metric_frame = universe_analysis.compute_metrics(\n",
    "    example_universe,\n",
    "    y_pred_prob=probs_test,\n",
    "    y_test=y_true,\n",
    "    org_test=org_test,\n",
    ")"
   ]
  },
  {
   "cell_type": "markdown",
   "id": "f95d4e02",
   "metadata": {
    "papermill": {
     "duration": 0.026155,
     "end_time": "2025-07-30T13:30:49.689295",
     "exception": false,
     "start_time": "2025-07-30T13:30:49.663140",
     "status": "completed"
    },
    "tags": []
   },
   "source": [
    "# Overall"
   ]
  },
  {
   "cell_type": "markdown",
   "id": "bdee4871",
   "metadata": {
    "papermill": {
     "duration": 0.026729,
     "end_time": "2025-07-30T13:30:49.742483",
     "exception": false,
     "start_time": "2025-07-30T13:30:49.715754",
     "status": "completed"
    },
    "tags": []
   },
   "source": [
    "Fairness\n",
    "Main fairness target: Equalized Odds. Seems to be a better fit than equal opportunity, since we're not only interested in Y = 1. Seems to be a better fit than demographic parity, since we also care about accuracy, not just equal distribution of preds.\n",
    "\n",
    "Pick column for computation of fairness metrics\n",
    "\n",
    "Performance\n",
    "Overall performance measures, most interesting in relation to the measures split by group below"
   ]
  },
  {
   "cell_type": "code",
   "execution_count": 74,
   "id": "c4e067c6",
   "metadata": {
    "execution": {
     "iopub.execute_input": "2025-07-30T13:30:49.797032Z",
     "iopub.status.busy": "2025-07-30T13:30:49.796516Z",
     "iopub.status.idle": "2025-07-30T13:30:49.805270Z",
     "shell.execute_reply": "2025-07-30T13:30:49.804344Z"
    },
    "papermill": {
     "duration": 0.037739,
     "end_time": "2025-07-30T13:30:49.806727",
     "exception": false,
     "start_time": "2025-07-30T13:30:49.768988",
     "status": "completed"
    },
    "tags": []
   },
   "outputs": [
    {
     "data": {
      "text/plain": [
       "accuracy                   0.216776\n",
       "balanced accuracy          0.531640\n",
       "f1                         0.238317\n",
       "precision                  0.136142\n",
       "false positive rate        0.891883\n",
       "false negative rate        0.044838\n",
       "selection rate             0.900000\n",
       "count                  89710.000000\n",
       "dtype: float64"
      ]
     },
     "execution_count": 74,
     "metadata": {},
     "output_type": "execute_result"
    }
   ],
   "source": [
    "metric_frame.overall"
   ]
  },
  {
   "cell_type": "markdown",
   "id": "e968fe9d",
   "metadata": {
    "papermill": {
     "duration": 0.025649,
     "end_time": "2025-07-30T13:30:49.857982",
     "exception": false,
     "start_time": "2025-07-30T13:30:49.832333",
     "status": "completed"
    },
    "tags": []
   },
   "source": [
    "By Group"
   ]
  },
  {
   "cell_type": "code",
   "execution_count": 75,
   "id": "ec325bce",
   "metadata": {
    "execution": {
     "iopub.execute_input": "2025-07-30T13:30:49.897430Z",
     "iopub.status.busy": "2025-07-30T13:30:49.897060Z",
     "iopub.status.idle": "2025-07-30T13:30:49.909413Z",
     "shell.execute_reply": "2025-07-30T13:30:49.908443Z"
    },
    "papermill": {
     "duration": 0.0297,
     "end_time": "2025-07-30T13:30:49.910711",
     "exception": false,
     "start_time": "2025-07-30T13:30:49.881011",
     "status": "completed"
    },
    "tags": []
   },
   "outputs": [
    {
     "data": {
      "text/html": [
       "<div>\n",
       "<style scoped>\n",
       "    .dataframe tbody tr th:only-of-type {\n",
       "        vertical-align: middle;\n",
       "    }\n",
       "\n",
       "    .dataframe tbody tr th {\n",
       "        vertical-align: top;\n",
       "    }\n",
       "\n",
       "    .dataframe thead th {\n",
       "        text-align: right;\n",
       "    }\n",
       "</style>\n",
       "<table border=\"1\" class=\"dataframe\">\n",
       "  <thead>\n",
       "    <tr style=\"text-align: right;\">\n",
       "      <th></th>\n",
       "      <th>accuracy</th>\n",
       "      <th>balanced accuracy</th>\n",
       "      <th>f1</th>\n",
       "      <th>precision</th>\n",
       "      <th>false positive rate</th>\n",
       "      <th>false negative rate</th>\n",
       "      <th>selection rate</th>\n",
       "      <th>count</th>\n",
       "    </tr>\n",
       "    <tr>\n",
       "      <th>majmin</th>\n",
       "      <th></th>\n",
       "      <th></th>\n",
       "      <th></th>\n",
       "      <th></th>\n",
       "      <th></th>\n",
       "      <th></th>\n",
       "      <th></th>\n",
       "      <th></th>\n",
       "    </tr>\n",
       "  </thead>\n",
       "  <tbody>\n",
       "    <tr>\n",
       "      <th>majority</th>\n",
       "      <td>0.239208</td>\n",
       "      <td>0.539518</td>\n",
       "      <td>0.247670</td>\n",
       "      <td>0.142448</td>\n",
       "      <td>0.868666</td>\n",
       "      <td>0.052298</td>\n",
       "      <td>0.879109</td>\n",
       "      <td>69170.0</td>\n",
       "    </tr>\n",
       "    <tr>\n",
       "      <th>minority</th>\n",
       "      <td>0.141237</td>\n",
       "      <td>0.507687</td>\n",
       "      <td>0.208978</td>\n",
       "      <td>0.116903</td>\n",
       "      <td>0.968578</td>\n",
       "      <td>0.016047</td>\n",
       "      <td>0.970351</td>\n",
       "      <td>20540.0</td>\n",
       "    </tr>\n",
       "  </tbody>\n",
       "</table>\n",
       "</div>"
      ],
      "text/plain": [
       "          accuracy  balanced accuracy        f1  precision  \\\n",
       "majmin                                                       \n",
       "majority  0.239208           0.539518  0.247670   0.142448   \n",
       "minority  0.141237           0.507687  0.208978   0.116903   \n",
       "\n",
       "          false positive rate  false negative rate  selection rate    count  \n",
       "majmin                                                                       \n",
       "majority             0.868666             0.052298        0.879109  69170.0  \n",
       "minority             0.968578             0.016047        0.970351  20540.0  "
      ]
     },
     "execution_count": 75,
     "metadata": {},
     "output_type": "execute_result"
    }
   ],
   "source": [
    "metric_frame.by_group"
   ]
  },
  {
   "cell_type": "code",
   "execution_count": 76,
   "id": "a9ddbe63",
   "metadata": {
    "execution": {
     "iopub.execute_input": "2025-07-30T13:30:49.941945Z",
     "iopub.status.busy": "2025-07-30T13:30:49.941433Z",
     "iopub.status.idle": "2025-07-30T13:30:52.266567Z",
     "shell.execute_reply": "2025-07-30T13:30:52.265700Z"
    },
    "papermill": {
     "duration": 2.342274,
     "end_time": "2025-07-30T13:30:52.268167",
     "exception": false,
     "start_time": "2025-07-30T13:30:49.925893",
     "status": "completed"
    },
    "tags": []
   },
   "outputs": [
    {
     "data": {
      "text/plain": [
       "array([[<Axes: title={'center': 'accuracy'}, xlabel='majmin'>,\n",
       "        <Axes: title={'center': 'balanced accuracy'}, xlabel='majmin'>,\n",
       "        <Axes: title={'center': 'f1'}, xlabel='majmin'>],\n",
       "       [<Axes: title={'center': 'precision'}, xlabel='majmin'>,\n",
       "        <Axes: title={'center': 'false positive rate'}, xlabel='majmin'>,\n",
       "        <Axes: title={'center': 'false negative rate'}, xlabel='majmin'>],\n",
       "       [<Axes: title={'center': 'selection rate'}, xlabel='majmin'>,\n",
       "        <Axes: title={'center': 'count'}, xlabel='majmin'>,\n",
       "        <Axes: xlabel='majmin'>]], dtype=object)"
      ]
     },
     "execution_count": 76,
     "metadata": {},
     "output_type": "execute_result"
    },
    {
     "data": {
      "image/png": "[encoded data removed]",
      "text/plain": [
       "<Figure size 1200x800 with 9 Axes>"
      ]
     },
     "metadata": {},
     "output_type": "display_data"
    }
   ],
   "source": [
    "# In a graphic\n",
    "metric_frame.by_group.plot.bar(\n",
    "    subplots=True,\n",
    "    layout=[3, 3],\n",
    "    legend=False,\n",
    "    figsize=[12, 8],\n",
    "    title=\"Show all metrics\",\n",
    ")"
   ]
  },
  {
   "cell_type": "markdown",
   "id": "f57a0bac",
   "metadata": {
    "papermill": {
     "duration": 0.027228,
     "end_time": "2025-07-30T13:30:52.323470",
     "exception": false,
     "start_time": "2025-07-30T13:30:52.296242",
     "status": "completed"
    },
    "tags": []
   },
   "source": [
    "# Final Output"
   ]
  },
  {
   "cell_type": "code",
   "execution_count": 77,
   "id": "96d280a3",
   "metadata": {
    "execution": {
     "iopub.execute_input": "2025-07-30T13:30:52.380943Z",
     "iopub.status.busy": "2025-07-30T13:30:52.380313Z",
     "iopub.status.idle": "2025-07-30T13:30:52.388595Z",
     "shell.execute_reply": "2025-07-30T13:30:52.387590Z"
    },
    "papermill": {
     "duration": 0.038968,
     "end_time": "2025-07-30T13:30:52.390023",
     "exception": false,
     "start_time": "2025-07-30T13:30:52.351055",
     "status": "completed"
    },
    "tags": []
   },
   "outputs": [
    {
     "data": {
      "text/plain": [
       "4"
      ]
     },
     "execution_count": 77,
     "metadata": {},
     "output_type": "execute_result"
    }
   ],
   "source": [
    "sub_universes = universe_analysis.generate_sub_universes()\n",
    "len(sub_universes)"
   ]
  },
  {
   "cell_type": "code",
   "execution_count": 78,
   "id": "92adf7ba",
   "metadata": {
    "execution": {
     "iopub.execute_input": "2025-07-30T13:30:52.448655Z",
     "iopub.status.busy": "2025-07-30T13:30:52.447753Z",
     "iopub.status.idle": "2025-07-30T13:30:52.454258Z",
     "shell.execute_reply": "2025-07-30T13:30:52.453172Z"
    },
    "papermill": {
     "duration": 0.038769,
     "end_time": "2025-07-30T13:30:52.456425",
     "exception": false,
     "start_time": "2025-07-30T13:30:52.417656",
     "status": "completed"
    },
    "tags": []
   },
   "outputs": [],
   "source": [
    "def filter_sub_universe_data(sub_universe, org_test):\n",
    "    # Keep all rows — no filtering\n",
    "    keep_rows_mask = np.ones(org_test.shape[0], dtype=bool)\n",
    "\n",
    "    print(f\"[INFO] Keeping all rows: {keep_rows_mask.sum()} rows retained.\")\n",
    "    return keep_rows_mask"
   ]
  },
  {
   "cell_type": "code",
   "execution_count": 79,
   "id": "4a759155",
   "metadata": {
    "execution": {
     "iopub.execute_input": "2025-07-30T13:30:52.522010Z",
     "iopub.status.busy": "2025-07-30T13:30:52.521358Z",
     "iopub.status.idle": "2025-07-30T13:31:03.280969Z",
     "shell.execute_reply": "2025-07-30T13:31:03.280161Z"
    },
    "papermill": {
     "duration": 10.78959,
     "end_time": "2025-07-30T13:31:03.282378",
     "exception": false,
     "start_time": "2025-07-30T13:30:52.492788",
     "status": "completed"
    },
    "tags": []
   },
   "outputs": [
    {
     "name": "stdout",
     "output_type": "stream",
     "text": [
      "Stopping execution_time clock.\n",
      "[INFO] Keeping all rows: 89710 rows retained.\n"
     ]
    },
    {
     "name": "stdout",
     "output_type": "stream",
     "text": [
      "[INFO] Keeping all rows: 89710 rows retained.\n"
     ]
    },
    {
     "name": "stdout",
     "output_type": "stream",
     "text": [
      "[INFO] Keeping all rows: 89710 rows retained.\n"
     ]
    },
    {
     "name": "stdout",
     "output_type": "stream",
     "text": [
      "[INFO] Keeping all rows: 89710 rows retained.\n"
     ]
    },
    {
     "data": {
      "text/html": [
       "<div>\n",
       "<style scoped>\n",
       "    .dataframe tbody tr th:only-of-type {\n",
       "        vertical-align: middle;\n",
       "    }\n",
       "\n",
       "    .dataframe tbody tr th {\n",
       "        vertical-align: top;\n",
       "    }\n",
       "\n",
       "    .dataframe thead th {\n",
       "        text-align: right;\n",
       "    }\n",
       "</style>\n",
       "<table border=\"1\" class=\"dataframe\">\n",
       "  <thead>\n",
       "    <tr style=\"text-align: right;\">\n",
       "      <th></th>\n",
       "      <th>run_no</th>\n",
       "      <th>universe_id</th>\n",
       "      <th>universe_settings</th>\n",
       "      <th>execution_time</th>\n",
       "      <th>test_size_n</th>\n",
       "      <th>test_size_frac</th>\n",
       "      <th>fair_main_equalized_odds_difference</th>\n",
       "      <th>fair_main_equalized_odds_ratio</th>\n",
       "      <th>fair_main_demographic_parity_difference</th>\n",
       "      <th>fair_main_demographic_parity_ratio</th>\n",
       "      <th>...</th>\n",
       "      <th>perf_grp_precision_0</th>\n",
       "      <th>perf_grp_precision_1</th>\n",
       "      <th>perf_grp_false positive rate_0</th>\n",
       "      <th>perf_grp_false positive rate_1</th>\n",
       "      <th>perf_grp_false negative rate_0</th>\n",
       "      <th>perf_grp_false negative rate_1</th>\n",
       "      <th>perf_grp_selection rate_0</th>\n",
       "      <th>perf_grp_selection rate_1</th>\n",
       "      <th>perf_grp_count_0</th>\n",
       "      <th>perf_grp_count_1</th>\n",
       "    </tr>\n",
       "  </thead>\n",
       "  <tbody>\n",
       "    <tr>\n",
       "      <th>0</th>\n",
       "      <td>12</td>\n",
       "      <td>589b31a445b57c99c5d5da7aef4166f8</td>\n",
       "      <td>{\"cutoff\": \"quantile_0.1\", \"eval_fairness_grou...</td>\n",
       "      <td>27.833832</td>\n",
       "      <td>89710</td>\n",
       "      <td>1.0</td>\n",
       "      <td>0.099912</td>\n",
       "      <td>0.896846</td>\n",
       "      <td>0.091241</td>\n",
       "      <td>0.905971</td>\n",
       "      <td>...</td>\n",
       "      <td>NaN</td>\n",
       "      <td>NaN</td>\n",
       "      <td>NaN</td>\n",
       "      <td>NaN</td>\n",
       "      <td>NaN</td>\n",
       "      <td>NaN</td>\n",
       "      <td>NaN</td>\n",
       "      <td>NaN</td>\n",
       "      <td>NaN</td>\n",
       "      <td>NaN</td>\n",
       "    </tr>\n",
       "    <tr>\n",
       "      <th>0</th>\n",
       "      <td>12</td>\n",
       "      <td>589b31a445b57c99c5d5da7aef4166f8</td>\n",
       "      <td>{\"cutoff\": \"quantile_0.1\", \"eval_fairness_grou...</td>\n",
       "      <td>27.833832</td>\n",
       "      <td>89710</td>\n",
       "      <td>1.0</td>\n",
       "      <td>0.099912</td>\n",
       "      <td>0.896846</td>\n",
       "      <td>0.091241</td>\n",
       "      <td>0.905971</td>\n",
       "      <td>...</td>\n",
       "      <td>0.116903</td>\n",
       "      <td>0.142448</td>\n",
       "      <td>0.968578</td>\n",
       "      <td>0.868666</td>\n",
       "      <td>0.016047</td>\n",
       "      <td>0.052298</td>\n",
       "      <td>0.970351</td>\n",
       "      <td>0.879109</td>\n",
       "      <td>20540.0</td>\n",
       "      <td>69170.0</td>\n",
       "    </tr>\n",
       "    <tr>\n",
       "      <th>0</th>\n",
       "      <td>12</td>\n",
       "      <td>589b31a445b57c99c5d5da7aef4166f8</td>\n",
       "      <td>{\"cutoff\": \"quantile_0.25\", \"eval_fairness_gro...</td>\n",
       "      <td>27.833832</td>\n",
       "      <td>89710</td>\n",
       "      <td>1.0</td>\n",
       "      <td>0.236876</td>\n",
       "      <td>0.740880</td>\n",
       "      <td>0.218860</td>\n",
       "      <td>0.761784</td>\n",
       "      <td>...</td>\n",
       "      <td>NaN</td>\n",
       "      <td>NaN</td>\n",
       "      <td>NaN</td>\n",
       "      <td>NaN</td>\n",
       "      <td>NaN</td>\n",
       "      <td>NaN</td>\n",
       "      <td>NaN</td>\n",
       "      <td>NaN</td>\n",
       "      <td>NaN</td>\n",
       "      <td>NaN</td>\n",
       "    </tr>\n",
       "    <tr>\n",
       "      <th>0</th>\n",
       "      <td>12</td>\n",
       "      <td>589b31a445b57c99c5d5da7aef4166f8</td>\n",
       "      <td>{\"cutoff\": \"quantile_0.25\", \"eval_fairness_gro...</td>\n",
       "      <td>27.833832</td>\n",
       "      <td>89710</td>\n",
       "      <td>1.0</td>\n",
       "      <td>0.236876</td>\n",
       "      <td>0.740880</td>\n",
       "      <td>0.218860</td>\n",
       "      <td>0.761784</td>\n",
       "      <td>...</td>\n",
       "      <td>0.119707</td>\n",
       "      <td>0.160170</td>\n",
       "      <td>0.914154</td>\n",
       "      <td>0.677278</td>\n",
       "      <td>0.046030</td>\n",
       "      <td>0.151641</td>\n",
       "      <td>0.918744</td>\n",
       "      <td>0.699884</td>\n",
       "      <td>20540.0</td>\n",
       "      <td>69170.0</td>\n",
       "    </tr>\n",
       "  </tbody>\n",
       "</table>\n",
       "<p>4 rows × 50 columns</p>\n",
       "</div>"
      ],
      "text/plain": [
       "  run_no                       universe_id  \\\n",
       "0     12  589b31a445b57c99c5d5da7aef4166f8   \n",
       "0     12  589b31a445b57c99c5d5da7aef4166f8   \n",
       "0     12  589b31a445b57c99c5d5da7aef4166f8   \n",
       "0     12  589b31a445b57c99c5d5da7aef4166f8   \n",
       "\n",
       "                                   universe_settings  execution_time  \\\n",
       "0  {\"cutoff\": \"quantile_0.1\", \"eval_fairness_grou...       27.833832   \n",
       "0  {\"cutoff\": \"quantile_0.1\", \"eval_fairness_grou...       27.833832   \n",
       "0  {\"cutoff\": \"quantile_0.25\", \"eval_fairness_gro...       27.833832   \n",
       "0  {\"cutoff\": \"quantile_0.25\", \"eval_fairness_gro...       27.833832   \n",
       "\n",
       "   test_size_n  test_size_frac  fair_main_equalized_odds_difference  \\\n",
       "0        89710             1.0                             0.099912   \n",
       "0        89710             1.0                             0.099912   \n",
       "0        89710             1.0                             0.236876   \n",
       "0        89710             1.0                             0.236876   \n",
       "\n",
       "   fair_main_equalized_odds_ratio  fair_main_demographic_parity_difference  \\\n",
       "0                        0.896846                                 0.091241   \n",
       "0                        0.896846                                 0.091241   \n",
       "0                        0.740880                                 0.218860   \n",
       "0                        0.740880                                 0.218860   \n",
       "\n",
       "   fair_main_demographic_parity_ratio  ...  perf_grp_precision_0  \\\n",
       "0                            0.905971  ...                   NaN   \n",
       "0                            0.905971  ...              0.116903   \n",
       "0                            0.761784  ...                   NaN   \n",
       "0                            0.761784  ...              0.119707   \n",
       "\n",
       "   perf_grp_precision_1  perf_grp_false positive rate_0  \\\n",
       "0                   NaN                             NaN   \n",
       "0              0.142448                        0.968578   \n",
       "0                   NaN                             NaN   \n",
       "0              0.160170                        0.914154   \n",
       "\n",
       "   perf_grp_false positive rate_1  perf_grp_false negative rate_0  \\\n",
       "0                             NaN                             NaN   \n",
       "0                        0.868666                        0.016047   \n",
       "0                             NaN                             NaN   \n",
       "0                        0.677278                        0.046030   \n",
       "\n",
       "   perf_grp_false negative rate_1  perf_grp_selection rate_0  \\\n",
       "0                             NaN                        NaN   \n",
       "0                        0.052298                   0.970351   \n",
       "0                             NaN                        NaN   \n",
       "0                        0.151641                   0.918744   \n",
       "\n",
       "   perf_grp_selection rate_1  perf_grp_count_0  perf_grp_count_1  \n",
       "0                        NaN               NaN               NaN  \n",
       "0                   0.879109           20540.0           69170.0  \n",
       "0                        NaN               NaN               NaN  \n",
       "0                   0.699884           20540.0           69170.0  \n",
       "\n",
       "[4 rows x 50 columns]"
      ]
     },
     "execution_count": 79,
     "metadata": {},
     "output_type": "execute_result"
    }
   ],
   "source": [
    "final_output = universe_analysis.generate_final_output(\n",
    "    y_pred_prob=probs_test,\n",
    "    y_test=y_true,\n",
    "    org_test=org_test,\n",
    "    filter_data=filter_sub_universe_data,\n",
    "    cp_metrics_df=cp_metrics_df,\n",
    "    save=True,\n",
    ")\n",
    "final_output"
   ]
  },
  {
   "cell_type": "code",
   "execution_count": null,
   "id": "721ff514-cb11-46f8-b6fc-50392f74b5cb",
   "metadata": {
    "papermill": {
     "duration": 0.018461,
     "end_time": "2025-07-30T13:31:03.322015",
     "exception": false,
     "start_time": "2025-07-30T13:31:03.303554",
     "status": "completed"
    },
    "tags": []
   },
   "outputs": [],
   "source": []
  }
 ],
 "metadata": {
  "celltoolbar": "Tags",
  "kernelspec": {
   "display_name": "Python (CMA Fairness)",
   "language": "python",
   "name": "cma_fair_env"
  },
  "language_info": {
   "codemirror_mode": {
    "name": "ipython",
    "version": 3
   },
   "file_extension": ".py",
   "mimetype": "text/x-python",
   "name": "python",
   "nbconvert_exporter": "python",
   "pygments_lexer": "ipython3",
   "version": "3.10.12"
  },
  "papermill": {
   "default_parameters": {},
   "duration": 42.880166,
   "end_time": "2025-07-30T13:31:04.164674",
   "environment_variables": {},
   "exception": null,
   "input_path": "universe_analysis.ipynb",
   "output_path": "output/runs/12/notebooks/m_12-589b31a445b57c99c5d5da7aef4166f8.ipynb",
   "parameters": {
    "output_dir": "output",
    "run_no": "12",
    "seed": "2023",
    "universe": "{\"cutoff\": [\"quantile_0.1\", \"quantile_0.25\"], \"eval_fairness_grouping\": [\"majority-minority\", \"nationality-all\"], \"exclude_features\": \"age\", \"exclude_subgroups\": \"drop-non-german\", \"model\": \"logreg\", \"scale\": \"do-not-scale\", \"training_size\": \"25k\", \"training_year\": \"2010_14\"}",
    "universe_id": "589b31a445b57c99c5d5da7aef4166f8"
   },
   "start_time": "2025-07-30T13:30:21.284508",
   "version": "2.6.0"
  }
 },
 "nbformat": 4,
 "nbformat_minor": 5
}