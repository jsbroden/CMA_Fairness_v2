{
 "cells": [
  {
   "cell_type": "code",
   "execution_count": 1,
   "id": "f159f837-637b-42ba-96b5-ec9a68c44524",
   "metadata": {
    "execution": {
     "iopub.execute_input": "2025-07-30T13:28:13.067622Z",
     "iopub.status.busy": "2025-07-30T13:28:13.067278Z",
     "iopub.status.idle": "2025-07-30T13:28:13.077015Z",
     "shell.execute_reply": "2025-07-30T13:28:13.076073Z"
    },
    "papermill": {
     "duration": 0.03068,
     "end_time": "2025-07-30T13:28:13.078494",
     "exception": false,
     "start_time": "2025-07-30T13:28:13.047814",
     "status": "completed"
    },
    "tags": []
   },
   "outputs": [
    {
     "name": "stdout",
     "output_type": "stream",
     "text": [
      "/dss/dsshome1/0C/ra93lal2/cma/CMA_Fairness_v2\n"
     ]
    },
    {
     "name": "stderr",
     "output_type": "stream",
     "text": [
      "/dss/dsshome1/0C/ra93lal2/.local/share/virtualenvs/CMA_Fairness_v2-3j10GkSs/lib/python3.10/site-packages/IPython/core/magics/osm.py:393: UserWarning: This is now an optional IPython functionality, using bookmarks requires you to install the `pickleshare` library.\n",
      "  bkms = self.shell.db.get('bookmarks', {})\n",
      "/dss/dsshome1/0C/ra93lal2/.local/share/virtualenvs/CMA_Fairness_v2-3j10GkSs/lib/python3.10/site-packages/IPython/core/magics/osm.py:417: UserWarning: This is now an optional IPython functionality, setting dhist requires you to install the `pickleshare` library.\n",
      "  self.shell.db['dhist'] = compress_dhist(dhist)[-100:]\n"
     ]
    }
   ],
   "source": [
    "%cd ~/cma/CMA_Fairness_v2"
   ]
  },
  {
   "cell_type": "markdown",
   "id": "de2603b9",
   "metadata": {
    "papermill": {
     "duration": 0.010013,
     "end_time": "2025-07-30T13:28:13.099492",
     "exception": false,
     "start_time": "2025-07-30T13:28:13.089479",
     "status": "completed"
    },
    "tags": []
   },
   "source": [
    "The following cell holds the definition of our parameters, these values can be overriden by rendering the with e.g. the following command:\n",
    "\n",
    "papermill -p alpha 0.2 -p ratio 0.3 universe_analysis.ipynb output/test_run.ipynb"
   ]
  },
  {
   "cell_type": "code",
   "execution_count": 2,
   "id": "a80968a0-40bb-4fa9-85ef-2d5eefb01975",
   "metadata": {
    "execution": {
     "iopub.execute_input": "2025-07-30T13:28:13.121088Z",
     "iopub.status.busy": "2025-07-30T13:28:13.120746Z",
     "iopub.status.idle": "2025-07-30T13:28:13.125063Z",
     "shell.execute_reply": "2025-07-30T13:28:13.124398Z"
    },
    "papermill": {
     "duration": 0.016801,
     "end_time": "2025-07-30T13:28:13.126467",
     "exception": false,
     "start_time": "2025-07-30T13:28:13.109666",
     "status": "completed"
    },
    "tags": []
   },
   "outputs": [
    {
     "name": "stdout",
     "output_type": "stream",
     "text": [
      "Current working directory: /dss/dsshome1/0C/ra93lal2/cma/CMA_Fairness_v2\n"
     ]
    }
   ],
   "source": [
    "import os\n",
    "print(\"Current working directory:\", os.getcwd())"
   ]
  },
  {
   "cell_type": "code",
   "execution_count": 3,
   "id": "2dce4c03",
   "metadata": {
    "execution": {
     "iopub.execute_input": "2025-07-30T13:28:13.163452Z",
     "iopub.status.busy": "2025-07-30T13:28:13.163140Z",
     "iopub.status.idle": "2025-07-30T13:28:13.167630Z",
     "shell.execute_reply": "2025-07-30T13:28:13.166776Z"
    },
    "papermill": {
     "duration": 0.023774,
     "end_time": "2025-07-30T13:28:13.168976",
     "exception": false,
     "start_time": "2025-07-30T13:28:13.145202",
     "status": "completed"
    },
    "tags": [
     "parameters"
    ]
   },
   "outputs": [],
   "source": [
    "run_no = 0\n",
    "universe_id = \"test\"\n",
    "universe = {\n",
    "    \"training_size\": \"25k\", # \"25k\", \"5k\", \"1k\"\n",
    "    \"training_year\": \"2014\", # \"2014\", \"2012_14\", \"2010_14\"\n",
    "    \"scale\": \"scale\", # \"scale\", \"do-not-scale\",\n",
    "    #\"stratify_split\": \"target\", # \"none\", \"target\", \"protected-attribute\", \"both\",\n",
    "    \"model\": \"elasticnet\", # \"logreg\", \"penalized_logreg\", \"rf\", \"gbm\", \"elasticnet\"\n",
    "    \"cutoff\": [\"quantile_0.15\", \"quantile_0.30\"],\n",
    "    \"exclude_features\": \"age\", # \"none\", \"nationality\", \"sex\", \"nationality-sex\", \"age\"\n",
    "    \"exclude_subgroups\": \"keep-all\", # \"keep-all\", \"drop-non-german\"\n",
    "    \"eval_fairness_grouping\": [\"majority-minority\", \"nationality-all\"]\n",
    "}\n",
    "\n",
    "output_dir=\"./output\"\n",
    "seed=0"
   ]
  },
  {
   "cell_type": "code",
   "execution_count": 4,
   "id": "98d475d3",
   "metadata": {
    "execution": {
     "iopub.execute_input": "2025-07-30T13:28:13.190887Z",
     "iopub.status.busy": "2025-07-30T13:28:13.190510Z",
     "iopub.status.idle": "2025-07-30T13:28:13.195497Z",
     "shell.execute_reply": "2025-07-30T13:28:13.194629Z"
    },
    "papermill": {
     "duration": 0.018525,
     "end_time": "2025-07-30T13:28:13.198384",
     "exception": false,
     "start_time": "2025-07-30T13:28:13.179859",
     "status": "completed"
    },
    "tags": [
     "injected-parameters"
    ]
   },
   "outputs": [],
   "source": [
    "# Parameters\n",
    "universe_id = \"1ea6288425370dde7fef0a29257557cd\"\n",
    "run_no = \"12\"\n",
    "universe = \"{\\\"cutoff\\\": [\\\"quantile_0.1\\\", \\\"quantile_0.25\\\"], \\\"eval_fairness_grouping\\\": [\\\"majority-minority\\\", \\\"nationality-all\\\"], \\\"exclude_features\\\": \\\"none\\\", \\\"exclude_subgroups\\\": \\\"keep-all\\\", \\\"model\\\": \\\"elasticnet\\\", \\\"scale\\\": \\\"scale\\\", \\\"training_size\\\": \\\"25k\\\", \\\"training_year\\\": \\\"2010_14\\\"}\"\n",
    "output_dir = \"output\"\n",
    "seed = \"2023\"\n"
   ]
  },
  {
   "cell_type": "code",
   "execution_count": 5,
   "id": "1650acaf",
   "metadata": {
    "execution": {
     "iopub.execute_input": "2025-07-30T13:28:13.235451Z",
     "iopub.status.busy": "2025-07-30T13:28:13.235043Z",
     "iopub.status.idle": "2025-07-30T13:28:13.239953Z",
     "shell.execute_reply": "2025-07-30T13:28:13.238998Z"
    },
    "papermill": {
     "duration": 0.026982,
     "end_time": "2025-07-30T13:28:13.241577",
     "exception": false,
     "start_time": "2025-07-30T13:28:13.214595",
     "status": "completed"
    },
    "tags": []
   },
   "outputs": [],
   "source": [
    "import json\n",
    "# Parse universe into dict if it is passed as a string\n",
    "if isinstance(universe, str):\n",
    "    universe = json.loads(universe)"
   ]
  },
  {
   "cell_type": "code",
   "execution_count": 6,
   "id": "16620c48",
   "metadata": {
    "execution": {
     "iopub.execute_input": "2025-07-30T13:28:13.285054Z",
     "iopub.status.busy": "2025-07-30T13:28:13.284613Z",
     "iopub.status.idle": "2025-07-30T13:28:13.330234Z",
     "shell.execute_reply": "2025-07-30T13:28:13.329337Z"
    },
    "papermill": {
     "duration": 0.06943,
     "end_time": "2025-07-30T13:28:13.332560",
     "exception": false,
     "start_time": "2025-07-30T13:28:13.263130",
     "status": "completed"
    },
    "tags": []
   },
   "outputs": [],
   "source": [
    "# Auto-reload the custom package\n",
    "%load_ext autoreload\n",
    "%autoreload 1\n",
    "%aimport fairness_multiverse"
   ]
  },
  {
   "cell_type": "code",
   "execution_count": 7,
   "id": "01c5c9f3",
   "metadata": {
    "execution": {
     "iopub.execute_input": "2025-07-30T13:28:13.376487Z",
     "iopub.status.busy": "2025-07-30T13:28:13.375668Z",
     "iopub.status.idle": "2025-07-30T13:28:15.043854Z",
     "shell.execute_reply": "2025-07-30T13:28:15.043094Z"
    },
    "papermill": {
     "duration": 1.691546,
     "end_time": "2025-07-30T13:28:15.045657",
     "exception": false,
     "start_time": "2025-07-30T13:28:13.354111",
     "status": "completed"
    },
    "tags": []
   },
   "outputs": [],
   "source": [
    "from fairness_multiverse.universe import UniverseAnalysis\n",
    "\n",
    "universe_analysis = UniverseAnalysis(\n",
    "    run_no = run_no,\n",
    "    universe_id = universe_id,\n",
    "    universe = universe,\n",
    "    output_dir=output_dir,\n",
    ")"
   ]
  },
  {
   "cell_type": "code",
   "execution_count": 8,
   "id": "106241f5",
   "metadata": {
    "execution": {
     "iopub.execute_input": "2025-07-30T13:28:15.083754Z",
     "iopub.status.busy": "2025-07-30T13:28:15.083283Z",
     "iopub.status.idle": "2025-07-30T13:28:15.090084Z",
     "shell.execute_reply": "2025-07-30T13:28:15.089094Z"
    },
    "papermill": {
     "duration": 0.027007,
     "end_time": "2025-07-30T13:28:15.091510",
     "exception": false,
     "start_time": "2025-07-30T13:28:15.064503",
     "status": "completed"
    },
    "tags": []
   },
   "outputs": [
    {
     "name": "stdout",
     "output_type": "stream",
     "text": [
      "Using Seed: 2023\n"
     ]
    }
   ],
   "source": [
    "import numpy as np\n",
    "parsed_seed = int(seed)\n",
    "np.random.seed(parsed_seed)\n",
    "print(f\"Using Seed: {parsed_seed}\")"
   ]
  },
  {
   "cell_type": "markdown",
   "id": "e0ebdc57",
   "metadata": {
    "papermill": {
     "duration": 0.009895,
     "end_time": "2025-07-30T13:28:15.112584",
     "exception": false,
     "start_time": "2025-07-30T13:28:15.102689",
     "status": "completed"
    },
    "tags": []
   },
   "source": [
    "# Loading Data"
   ]
  },
  {
   "cell_type": "markdown",
   "id": "681925a3",
   "metadata": {
    "papermill": {
     "duration": 0.009894,
     "end_time": "2025-07-30T13:28:15.133324",
     "exception": false,
     "start_time": "2025-07-30T13:28:15.123430",
     "status": "completed"
    },
    "tags": []
   },
   "source": [
    "Load siab_train, siab_test, siab_calib and/or \n",
    "load siab_train_features, siab_train_labels"
   ]
  },
  {
   "cell_type": "code",
   "execution_count": 9,
   "id": "f0496b8a",
   "metadata": {
    "execution": {
     "iopub.execute_input": "2025-07-30T13:28:15.164940Z",
     "iopub.status.busy": "2025-07-30T13:28:15.164564Z",
     "iopub.status.idle": "2025-07-30T13:28:26.938788Z",
     "shell.execute_reply": "2025-07-30T13:28:26.937799Z"
    },
    "papermill": {
     "duration": 11.796418,
     "end_time": "2025-07-30T13:28:26.940251",
     "exception": false,
     "start_time": "2025-07-30T13:28:15.143833",
     "status": "completed"
    },
    "tags": []
   },
   "outputs": [
    {
     "name": "stdout",
     "output_type": "stream",
     "text": [
      "Loading SIAB data from cache: data/siab_cached.csv.gz\n"
     ]
    },
    {
     "name": "stdout",
     "output_type": "stream",
     "text": [
      "(643690, 164)\n"
     ]
    }
   ],
   "source": [
    "from pathlib import Path\n",
    "import pandas as pd\n",
    "\n",
    "# File paths\n",
    "raw_file = Path(\"data/raw/siab.csv\")\n",
    "cache_file = Path(\"data/siab_cached.csv.gz\")\n",
    "\n",
    "# Ensure cache directory exists\n",
    "cache_file.parent.mkdir(parents=True, exist_ok=True)\n",
    "\n",
    "# Load with simple caching\n",
    "if cache_file.exists():\n",
    "    print(f\"Loading SIAB data from cache: {cache_file}\")\n",
    "    siab = pd.read_csv(cache_file, compression='gzip')\n",
    "else:\n",
    "    print(f\"Cache not found. Reading raw SIAB data: {raw_file}\")\n",
    "    siab = pd.read_csv(raw_file)\n",
    "    siab.to_csv(cache_file, index=False, compression='gzip')\n",
    "    print(f\"Cached SIAB data to: {cache_file}\")\n",
    "\n",
    "# Now use `siab` DataFrame as needed\n",
    "print(siab.shape)"
   ]
  },
  {
   "cell_type": "code",
   "execution_count": 10,
   "id": "db0ca512-5f53-4dba-abdb-a2888bca41ba",
   "metadata": {
    "execution": {
     "iopub.execute_input": "2025-07-30T13:28:26.965943Z",
     "iopub.status.busy": "2025-07-30T13:28:26.965558Z",
     "iopub.status.idle": "2025-07-30T13:28:26.970312Z",
     "shell.execute_reply": "2025-07-30T13:28:26.969330Z"
    },
    "papermill": {
     "duration": 0.018183,
     "end_time": "2025-07-30T13:28:26.971700",
     "exception": false,
     "start_time": "2025-07-30T13:28:26.953517",
     "status": "completed"
    },
    "tags": []
   },
   "outputs": [],
   "source": [
    "#siab"
   ]
  },
  {
   "cell_type": "code",
   "execution_count": 11,
   "id": "a0edb063",
   "metadata": {
    "execution": {
     "iopub.execute_input": "2025-07-30T13:28:26.995670Z",
     "iopub.status.busy": "2025-07-30T13:28:26.995158Z",
     "iopub.status.idle": "2025-07-30T13:28:26.999875Z",
     "shell.execute_reply": "2025-07-30T13:28:26.999084Z"
    },
    "papermill": {
     "duration": 0.017655,
     "end_time": "2025-07-30T13:28:27.001275",
     "exception": false,
     "start_time": "2025-07-30T13:28:26.983620",
     "status": "completed"
    },
    "tags": []
   },
   "outputs": [],
   "source": [
    "#import pandas as pd\n",
    "#\n",
    "#X_train = pd.read_csv(\"./data/X_train.csv\")\n",
    "#y_train = pd.read_csv(\"./data/y_train.csv\")"
   ]
  },
  {
   "cell_type": "code",
   "execution_count": 12,
   "id": "63d08085",
   "metadata": {
    "execution": {
     "iopub.execute_input": "2025-07-30T13:28:27.025740Z",
     "iopub.status.busy": "2025-07-30T13:28:27.024909Z",
     "iopub.status.idle": "2025-07-30T13:28:27.029307Z",
     "shell.execute_reply": "2025-07-30T13:28:27.028619Z"
    },
    "papermill": {
     "duration": 0.017575,
     "end_time": "2025-07-30T13:28:27.030767",
     "exception": false,
     "start_time": "2025-07-30T13:28:27.013192",
     "status": "completed"
    },
    "tags": []
   },
   "outputs": [],
   "source": [
    "#X_test = pd.read_csv(\"./data/X_test.csv\")\n",
    "#y_true = pd.read_csv(\"./data/y_test.csv\")"
   ]
  },
  {
   "cell_type": "code",
   "execution_count": 13,
   "id": "98a8d0fa-1d3d-4ed8-bb2c-281470e24add",
   "metadata": {
    "execution": {
     "iopub.execute_input": "2025-07-30T13:28:27.054856Z",
     "iopub.status.busy": "2025-07-30T13:28:27.054147Z",
     "iopub.status.idle": "2025-07-30T13:28:27.058597Z",
     "shell.execute_reply": "2025-07-30T13:28:27.057852Z"
    },
    "papermill": {
     "duration": 0.017379,
     "end_time": "2025-07-30T13:28:27.059975",
     "exception": false,
     "start_time": "2025-07-30T13:28:27.042596",
     "status": "completed"
    },
    "tags": []
   },
   "outputs": [],
   "source": [
    "# Calibration data for conformal\n",
    "#X_calib = pd.read_csv(\"./data/X_calib.csv\")\n",
    "#y_calib = pd.read_csv(\"./data/y_calib.csv\")"
   ]
  },
  {
   "cell_type": "markdown",
   "id": "997051c5-15bd-4b69-9786-c3001a3ce484",
   "metadata": {
    "papermill": {
     "duration": 0.01071,
     "end_time": "2025-07-30T13:28:27.082538",
     "exception": false,
     "start_time": "2025-07-30T13:28:27.071828",
     "status": "completed"
    },
    "tags": []
   },
   "source": [
    "# Splitting Data and Setting Training Data Size"
   ]
  },
  {
   "cell_type": "code",
   "execution_count": 14,
   "id": "e993b61f-042d-41a6-8c81-f55681f86335",
   "metadata": {
    "execution": {
     "iopub.execute_input": "2025-07-30T13:28:27.105051Z",
     "iopub.status.busy": "2025-07-30T13:28:27.104639Z",
     "iopub.status.idle": "2025-07-30T13:28:27.114583Z",
     "shell.execute_reply": "2025-07-30T13:28:27.113760Z"
    },
    "papermill": {
     "duration": 0.022906,
     "end_time": "2025-07-30T13:28:27.115969",
     "exception": false,
     "start_time": "2025-07-30T13:28:27.093063",
     "status": "completed"
    },
    "tags": []
   },
   "outputs": [],
   "source": [
    "def sample_by_year_size(df,\n",
    "                        training_year: str,\n",
    "                        training_size: str,\n",
    "                        random_state: int = 42):\n",
    "    # --- parse training_year into a list of int years ---\n",
    "    if \"_\" in training_year:\n",
    "        start_str, end_str = training_year.split(\"_\", 1)\n",
    "        start = int(start_str)\n",
    "        end   = int(end_str) if len(end_str) == 4 else (int(end_str) + (start // 100)*100)\n",
    "        years = list(range(start, end + 1))\n",
    "    else:\n",
    "        years = [int(training_year)]\n",
    "\n",
    "    df = df[df[\"year\"].isin(years)].reset_index(drop=True)\n",
    "\n",
    "    # --- map training_size to total number of samples ---\n",
    "    total_map = {\"25k\": 25_000, \"5k\": 5_000, \"1k\": 1_000}\n",
    "    if training_size not in total_map:\n",
    "        return df  # e.g. \"all\"\n",
    "\n",
    "    total_samples = total_map[training_size]\n",
    "    n_years       = len(years)\n",
    "    base          = total_samples // n_years\n",
    "    remainder     = total_samples % n_years\n",
    "\n",
    "    # --- build a dict: year -> how many to sample ---\n",
    "    # give +1 to the first `remainder` years in ascending order\n",
    "    quotas = {\n",
    "        year: base + (1 if idx < remainder else 0)\n",
    "        for idx, year in enumerate(sorted(years))\n",
    "    }\n",
    "\n",
    "    # --- sample per‐year according to the quota dict ---\n",
    "    sampled = (\n",
    "        df\n",
    "        .groupby(\"year\", group_keys=False)\n",
    "        .apply(lambda grp: grp.sample(\n",
    "            n=min(len(grp), quotas[grp.name]),\n",
    "            random_state=random_state))\n",
    "        .reset_index(drop=True)\n",
    "    )\n",
    "\n",
    "    return sampled"
   ]
  },
  {
   "cell_type": "code",
   "execution_count": 15,
   "id": "c0ccd338-0e02-41f3-a09d-f56f9266e3fb",
   "metadata": {
    "execution": {
     "iopub.execute_input": "2025-07-30T13:28:27.142343Z",
     "iopub.status.busy": "2025-07-30T13:28:27.141844Z",
     "iopub.status.idle": "2025-07-30T13:28:27.150838Z",
     "shell.execute_reply": "2025-07-30T13:28:27.150000Z"
    },
    "papermill": {
     "duration": 0.022218,
     "end_time": "2025-07-30T13:28:27.152231",
     "exception": false,
     "start_time": "2025-07-30T13:28:27.130013",
     "status": "completed"
    },
    "tags": []
   },
   "outputs": [
    {
     "data": {
      "text/plain": [
       "'25k'"
      ]
     },
     "execution_count": 15,
     "metadata": {},
     "output_type": "execute_result"
    }
   ],
   "source": [
    "universe[\"training_size\"]"
   ]
  },
  {
   "cell_type": "code",
   "execution_count": 16,
   "id": "ca707fd7-8047-4acd-bfa5-66248fbbf8e6",
   "metadata": {
    "execution": {
     "iopub.execute_input": "2025-07-30T13:28:27.176572Z",
     "iopub.status.busy": "2025-07-30T13:28:27.176013Z",
     "iopub.status.idle": "2025-07-30T13:28:27.183541Z",
     "shell.execute_reply": "2025-07-30T13:28:27.182749Z"
    },
    "papermill": {
     "duration": 0.020744,
     "end_time": "2025-07-30T13:28:27.184975",
     "exception": false,
     "start_time": "2025-07-30T13:28:27.164231",
     "status": "completed"
    },
    "tags": []
   },
   "outputs": [
    {
     "data": {
      "text/plain": [
       "'2010_14'"
      ]
     },
     "execution_count": 16,
     "metadata": {},
     "output_type": "execute_result"
    }
   ],
   "source": [
    "universe[\"training_year\"]"
   ]
  },
  {
   "cell_type": "code",
   "execution_count": 17,
   "id": "aea9c6ef-6f46-42c8-85eb-5a62025c1508",
   "metadata": {
    "execution": {
     "iopub.execute_input": "2025-07-30T13:28:27.210381Z",
     "iopub.status.busy": "2025-07-30T13:28:27.209496Z",
     "iopub.status.idle": "2025-07-30T13:28:28.139735Z",
     "shell.execute_reply": "2025-07-30T13:28:28.138980Z"
    },
    "papermill": {
     "duration": 0.943523,
     "end_time": "2025-07-30T13:28:28.141247",
     "exception": false,
     "start_time": "2025-07-30T13:28:27.197724",
     "status": "completed"
    },
    "tags": []
   },
   "outputs": [],
   "source": [
    "siab_train = sample_by_year_size(siab,\n",
    "                               training_year=universe[\"training_year\"],\n",
    "                               training_size=universe[\"training_size\"])"
   ]
  },
  {
   "cell_type": "code",
   "execution_count": 18,
   "id": "8d3afb32-789d-442c-8d5d-9f5aa8dd2eed",
   "metadata": {
    "execution": {
     "iopub.execute_input": "2025-07-30T13:28:28.165311Z",
     "iopub.status.busy": "2025-07-30T13:28:28.164901Z",
     "iopub.status.idle": "2025-07-30T13:28:28.171307Z",
     "shell.execute_reply": "2025-07-30T13:28:28.170495Z"
    },
    "papermill": {
     "duration": 0.019715,
     "end_time": "2025-07-30T13:28:28.172810",
     "exception": false,
     "start_time": "2025-07-30T13:28:28.153095",
     "status": "completed"
    },
    "tags": []
   },
   "outputs": [
    {
     "data": {
      "text/plain": [
       "(25000, 164)"
      ]
     },
     "execution_count": 18,
     "metadata": {},
     "output_type": "execute_result"
    }
   ],
   "source": [
    "siab_train.shape"
   ]
  },
  {
   "cell_type": "code",
   "execution_count": 19,
   "id": "d582db68-1a4c-47fb-84fc-08518dc1975a",
   "metadata": {
    "execution": {
     "iopub.execute_input": "2025-07-30T13:28:28.198180Z",
     "iopub.status.busy": "2025-07-30T13:28:28.197595Z",
     "iopub.status.idle": "2025-07-30T13:28:28.206090Z",
     "shell.execute_reply": "2025-07-30T13:28:28.205292Z"
    },
    "papermill": {
     "duration": 0.022273,
     "end_time": "2025-07-30T13:28:28.207592",
     "exception": false,
     "start_time": "2025-07-30T13:28:28.185319",
     "status": "completed"
    },
    "tags": []
   },
   "outputs": [
    {
     "data": {
      "text/plain": [
       "year\n",
       "2010    5000\n",
       "2011    5000\n",
       "2012    5000\n",
       "2013    5000\n",
       "2014    5000\n",
       "dtype: int64"
      ]
     },
     "metadata": {},
     "output_type": "display_data"
    }
   ],
   "source": [
    "display(siab_train.groupby(\"year\").size())"
   ]
  },
  {
   "cell_type": "code",
   "execution_count": 20,
   "id": "a561edb4-d032-42cb-8256-22eac1111c64",
   "metadata": {
    "execution": {
     "iopub.execute_input": "2025-07-30T13:28:28.232340Z",
     "iopub.status.busy": "2025-07-30T13:28:28.231825Z",
     "iopub.status.idle": "2025-07-30T13:28:28.416542Z",
     "shell.execute_reply": "2025-07-30T13:28:28.415763Z"
    },
    "papermill": {
     "duration": 0.198333,
     "end_time": "2025-07-30T13:28:28.418067",
     "exception": false,
     "start_time": "2025-07-30T13:28:28.219734",
     "status": "completed"
    },
    "tags": []
   },
   "outputs": [],
   "source": [
    "#siab_train = siab_s[siab_s.year < 2015]\n",
    "siab_calib = siab[siab.year == 2015]\n",
    "siab_test = siab[siab.year == 2016]"
   ]
  },
  {
   "cell_type": "code",
   "execution_count": 21,
   "id": "472de16f-c3db-4916-846b-1f0de9cf1746",
   "metadata": {
    "execution": {
     "iopub.execute_input": "2025-07-30T13:28:28.442196Z",
     "iopub.status.busy": "2025-07-30T13:28:28.441849Z",
     "iopub.status.idle": "2025-07-30T13:28:28.456762Z",
     "shell.execute_reply": "2025-07-30T13:28:28.455521Z"
    },
    "papermill": {
     "duration": 0.031615,
     "end_time": "2025-07-30T13:28:28.461472",
     "exception": false,
     "start_time": "2025-07-30T13:28:28.429857",
     "status": "completed"
    },
    "tags": []
   },
   "outputs": [],
   "source": [
    "X_train = siab_train.iloc[:,4:164]\n",
    "y_train = siab_train.iloc[:, [3]]"
   ]
  },
  {
   "cell_type": "code",
   "execution_count": 22,
   "id": "828c96af-f43a-4ed6-ba47-8ac73a47d56c",
   "metadata": {
    "execution": {
     "iopub.execute_input": "2025-07-30T13:28:28.509474Z",
     "iopub.status.busy": "2025-07-30T13:28:28.508530Z",
     "iopub.status.idle": "2025-07-30T13:28:28.562977Z",
     "shell.execute_reply": "2025-07-30T13:28:28.561900Z"
    },
    "papermill": {
     "duration": 0.080288,
     "end_time": "2025-07-30T13:28:28.564873",
     "exception": false,
     "start_time": "2025-07-30T13:28:28.484585",
     "status": "completed"
    },
    "tags": []
   },
   "outputs": [],
   "source": [
    "X_calib = siab_calib.iloc[:,4:164]\n",
    "y_calib = siab_calib.iloc[:, [3]]"
   ]
  },
  {
   "cell_type": "code",
   "execution_count": 23,
   "id": "c34be9c3-6bd6-476e-acd3-845840e303be",
   "metadata": {
    "execution": {
     "iopub.execute_input": "2025-07-30T13:28:28.611017Z",
     "iopub.status.busy": "2025-07-30T13:28:28.610595Z",
     "iopub.status.idle": "2025-07-30T13:28:28.664509Z",
     "shell.execute_reply": "2025-07-30T13:28:28.663641Z"
    },
    "papermill": {
     "duration": 0.079899,
     "end_time": "2025-07-30T13:28:28.669029",
     "exception": false,
     "start_time": "2025-07-30T13:28:28.589130",
     "status": "completed"
    },
    "tags": []
   },
   "outputs": [],
   "source": [
    "X_test = siab_test.iloc[:,4:164]\n",
    "y_true = siab_test.iloc[:, [3]]"
   ]
  },
  {
   "cell_type": "markdown",
   "id": "9901737e-04df-44f0-9100-f5ad144ed040",
   "metadata": {
    "papermill": {
     "duration": 0.022566,
     "end_time": "2025-07-30T13:28:28.714043",
     "exception": false,
     "start_time": "2025-07-30T13:28:28.691477",
     "status": "completed"
    },
    "tags": []
   },
   "source": [
    "# Splitting Data and Setting Training Data Size OLD VERSION"
   ]
  },
  {
   "cell_type": "code",
   "execution_count": 24,
   "id": "acbc8f7d-8fc8-4e86-8c59-5dcb0f58384b",
   "metadata": {
    "execution": {
     "iopub.execute_input": "2025-07-30T13:28:28.758891Z",
     "iopub.status.busy": "2025-07-30T13:28:28.758319Z",
     "iopub.status.idle": "2025-07-30T13:28:28.763903Z",
     "shell.execute_reply": "2025-07-30T13:28:28.762907Z"
    },
    "papermill": {
     "duration": 0.029552,
     "end_time": "2025-07-30T13:28:28.765739",
     "exception": false,
     "start_time": "2025-07-30T13:28:28.736187",
     "status": "completed"
    },
    "tags": []
   },
   "outputs": [],
   "source": [
    "#def sample_by_year(df, training_size, random_state=42):\n",
    "#    if training_size == \"2014\":\n",
    "#        return df[df[\"year\"] == 2014].reset_index(drop=True)\n",
    "#    \n",
    "#    size_map = {\n",
    "#        \"25k\": 5000,\n",
    "#        \"5k\": 1000,\n",
    "#        \"1k\": 200\n",
    "#    }\n",
    "#\n",
    "#    if training_size not in size_map:\n",
    "#        return df.reset_index(drop=True)  # use all data\n",
    "#\n",
    "#    n_per_year = size_map[training_size]\n",
    "#    grouped = df.groupby(\"year\")\n",
    "#    sampled = grouped.apply(lambda x: x.sample(n=min(n_per_year, len(x)), random_state=random_state))\n",
    "#    return sampled.reset_index(drop=True)"
   ]
  },
  {
   "cell_type": "code",
   "execution_count": 25,
   "id": "6d931f52-beaf-43ff-9e78-9d44a448d54e",
   "metadata": {
    "execution": {
     "iopub.execute_input": "2025-07-30T13:28:28.815012Z",
     "iopub.status.busy": "2025-07-30T13:28:28.814346Z",
     "iopub.status.idle": "2025-07-30T13:28:28.820396Z",
     "shell.execute_reply": "2025-07-30T13:28:28.819224Z"
    },
    "papermill": {
     "duration": 0.032216,
     "end_time": "2025-07-30T13:28:28.822190",
     "exception": false,
     "start_time": "2025-07-30T13:28:28.789974",
     "status": "completed"
    },
    "tags": []
   },
   "outputs": [],
   "source": [
    "#siab_s = sample_by_year(siab, universe[\"training_size\"])"
   ]
  },
  {
   "cell_type": "code",
   "execution_count": 26,
   "id": "5db0a40e-a4e2-4920-be85-b12ae061d70d",
   "metadata": {
    "execution": {
     "iopub.execute_input": "2025-07-30T13:28:28.871104Z",
     "iopub.status.busy": "2025-07-30T13:28:28.870403Z",
     "iopub.status.idle": "2025-07-30T13:28:28.883088Z",
     "shell.execute_reply": "2025-07-30T13:28:28.881906Z"
    },
    "papermill": {
     "duration": 0.039676,
     "end_time": "2025-07-30T13:28:28.885038",
     "exception": false,
     "start_time": "2025-07-30T13:28:28.845362",
     "status": "completed"
    },
    "tags": []
   },
   "outputs": [],
   "source": [
    "#display(siab_s.groupby(\"year\").size())"
   ]
  },
  {
   "cell_type": "code",
   "execution_count": 27,
   "id": "e6c733c5",
   "metadata": {
    "execution": {
     "iopub.execute_input": "2025-07-30T13:28:28.933827Z",
     "iopub.status.busy": "2025-07-30T13:28:28.933141Z",
     "iopub.status.idle": "2025-07-30T13:28:29.065056Z",
     "shell.execute_reply": "2025-07-30T13:28:29.063869Z"
    },
    "papermill": {
     "duration": 0.158993,
     "end_time": "2025-07-30T13:28:29.067220",
     "exception": false,
     "start_time": "2025-07-30T13:28:28.908227",
     "status": "completed"
    },
    "tags": []
   },
   "outputs": [],
   "source": [
    "# Auxiliary data needed downstream in the pipeline\n",
    "\n",
    "org_train = X_train.copy()\n",
    "org_test = X_test.copy()\n",
    "org_calib = X_calib.copy()"
   ]
  },
  {
   "cell_type": "code",
   "execution_count": 28,
   "id": "1466abac-c6da-4492-a62f-4240ae3783af",
   "metadata": {
    "execution": {
     "iopub.execute_input": "2025-07-30T13:28:29.114887Z",
     "iopub.status.busy": "2025-07-30T13:28:29.113957Z",
     "iopub.status.idle": "2025-07-30T13:28:29.120699Z",
     "shell.execute_reply": "2025-07-30T13:28:29.119618Z"
    },
    "papermill": {
     "duration": 0.03233,
     "end_time": "2025-07-30T13:28:29.122672",
     "exception": false,
     "start_time": "2025-07-30T13:28:29.090342",
     "status": "completed"
    },
    "tags": []
   },
   "outputs": [],
   "source": [
    "# put in other script?\n",
    "# Group sizes\n",
    "\n",
    "#def calculate_percentages(df, df_name):\n",
    "#    total_entries = len(df)\n",
    "#\n",
    "#    female_pct = (df['frau1'] == 1).mean() * 100\n",
    "#    non_german_pct = ((df['maxdeutsch1'] == 0) & (df['maxdeutsch.Missing.'] == 0)).mean() * 100\n",
    "#    non_german_male_pct = ((df['frau1'] == 0) & (df['maxdeutsch1'] == 0) & (df['maxdeutsch.Missing.'] == 0)).mean() * 100\n",
    "#    non_german_female_pct = ((df['frau1'] == 1) & (df['maxdeutsch1'] == 0) & (df['maxdeutsch.Missing.'] == 0)).mean() * 100\n",
    "#\n",
    "#    print(f\"--- {df_name} ---\")\n",
    "#    print(f\"Female: {female_pct:.2f}%\")\n",
    "#    print(f\"Non-German: {non_german_pct:.2f}%\")\n",
    "#    print(f\"Non-German Male: {non_german_male_pct:.2f}%\")\n",
    "#    print(f\"Non-German Female: {non_german_female_pct:.2f}%\\n\")\n",
    "#\n",
    "## Calculate for each DataFrame\n",
    "#calculate_percentages(siab_calib, \"siab_calib\")\n",
    "#calculate_percentages(siab_test, \"siab_test\")\n",
    "#calculate_percentages(siab_train, \"siab_train\")"
   ]
  },
  {
   "cell_type": "markdown",
   "id": "0a4a1b33",
   "metadata": {
    "papermill": {
     "duration": 0.031961,
     "end_time": "2025-07-30T13:28:29.182644",
     "exception": false,
     "start_time": "2025-07-30T13:28:29.150683",
     "status": "completed"
    },
    "tags": []
   },
   "source": [
    "# Preprocessing Data"
   ]
  },
  {
   "cell_type": "code",
   "execution_count": 29,
   "id": "ca879031",
   "metadata": {
    "execution": {
     "iopub.execute_input": "2025-07-30T13:28:29.249154Z",
     "iopub.status.busy": "2025-07-30T13:28:29.248350Z",
     "iopub.status.idle": "2025-07-30T13:28:29.255926Z",
     "shell.execute_reply": "2025-07-30T13:28:29.254660Z"
    },
    "papermill": {
     "duration": 0.043076,
     "end_time": "2025-07-30T13:28:29.257845",
     "exception": false,
     "start_time": "2025-07-30T13:28:29.214769",
     "status": "completed"
    },
    "tags": []
   },
   "outputs": [],
   "source": [
    "# EXCLUDE PROTECTED FEATURES\n",
    "# ----------------------\n",
    "# \"exclude_features\": \"none\", # \"nationality\", \"sex\", \"nationality-sex\"\n",
    "\n",
    "excluded_features = universe[\"exclude_features\"].split(\"-\") # split, e.g.: \"nationality-sex\" -> [\"nationality\", \"sex\"]\n",
    "excluded_features_dictionary = {\n",
    "    \"nationality\": [\"maxdeutsch1\", \"maxdeutsch.Missing.\"],\n",
    "    \"sex\": [\"frau1\"],\n",
    "    \"age\": [\"age\"],\n",
    "}\n"
   ]
  },
  {
   "cell_type": "code",
   "execution_count": 30,
   "id": "b745ac60",
   "metadata": {
    "execution": {
     "iopub.execute_input": "2025-07-30T13:28:29.307389Z",
     "iopub.status.busy": "2025-07-30T13:28:29.306692Z",
     "iopub.status.idle": "2025-07-30T13:28:29.314058Z",
     "shell.execute_reply": "2025-07-30T13:28:29.312957Z"
    },
    "papermill": {
     "duration": 0.033378,
     "end_time": "2025-07-30T13:28:29.316078",
     "exception": false,
     "start_time": "2025-07-30T13:28:29.282700",
     "status": "completed"
    },
    "tags": []
   },
   "outputs": [],
   "source": [
    "# Code nice names to column names\n",
    "\n",
    "excluded_features_columns = [\n",
    "    excluded_features_dictionary[f] for f in excluded_features if len(f) > 0 and f != \"none\"\n",
    "]"
   ]
  },
  {
   "cell_type": "code",
   "execution_count": 31,
   "id": "f84f73a2",
   "metadata": {
    "execution": {
     "iopub.execute_input": "2025-07-30T13:28:29.369354Z",
     "iopub.status.busy": "2025-07-30T13:28:29.368420Z",
     "iopub.status.idle": "2025-07-30T13:28:29.375348Z",
     "shell.execute_reply": "2025-07-30T13:28:29.374300Z"
    },
    "papermill": {
     "duration": 0.03303,
     "end_time": "2025-07-30T13:28:29.377116",
     "exception": false,
     "start_time": "2025-07-30T13:28:29.344086",
     "status": "completed"
    },
    "tags": []
   },
   "outputs": [],
   "source": [
    "from utils import flatten_once\n",
    "\n",
    "excluded_features_columns = flatten_once(excluded_features_columns)"
   ]
  },
  {
   "cell_type": "code",
   "execution_count": 32,
   "id": "884dea22",
   "metadata": {
    "execution": {
     "iopub.execute_input": "2025-07-30T13:28:29.501991Z",
     "iopub.status.busy": "2025-07-30T13:28:29.501315Z",
     "iopub.status.idle": "2025-07-30T13:28:29.508299Z",
     "shell.execute_reply": "2025-07-30T13:28:29.507110Z"
    },
    "papermill": {
     "duration": 0.03446,
     "end_time": "2025-07-30T13:28:29.510265",
     "exception": false,
     "start_time": "2025-07-30T13:28:29.475805",
     "status": "completed"
    },
    "tags": []
   },
   "outputs": [],
   "source": [
    "if len(excluded_features_columns) > 0:\n",
    "    print(f\"Dropping features: {excluded_features_columns}\")\n",
    "    X_train.drop(excluded_features_columns, axis=1, inplace=True)"
   ]
  },
  {
   "cell_type": "code",
   "execution_count": 33,
   "id": "95ab8b16",
   "metadata": {
    "execution": {
     "iopub.execute_input": "2025-07-30T13:28:29.559918Z",
     "iopub.status.busy": "2025-07-30T13:28:29.559258Z",
     "iopub.status.idle": "2025-07-30T13:28:29.566275Z",
     "shell.execute_reply": "2025-07-30T13:28:29.564888Z"
    },
    "papermill": {
     "duration": 0.034401,
     "end_time": "2025-07-30T13:28:29.568266",
     "exception": false,
     "start_time": "2025-07-30T13:28:29.533865",
     "status": "completed"
    },
    "tags": []
   },
   "outputs": [],
   "source": [
    "if len(excluded_features_columns) > 0:\n",
    "    print(f\"Dropping features: {excluded_features_columns}\")\n",
    "    X_test.drop(excluded_features_columns, axis=1, inplace=True)"
   ]
  },
  {
   "cell_type": "code",
   "execution_count": 34,
   "id": "1853aaf5-fb9f-46cb-a2b5-8ea4ae2237e4",
   "metadata": {
    "execution": {
     "iopub.execute_input": "2025-07-30T13:28:29.618170Z",
     "iopub.status.busy": "2025-07-30T13:28:29.617516Z",
     "iopub.status.idle": "2025-07-30T13:28:29.624594Z",
     "shell.execute_reply": "2025-07-30T13:28:29.623292Z"
    },
    "papermill": {
     "duration": 0.033716,
     "end_time": "2025-07-30T13:28:29.626489",
     "exception": false,
     "start_time": "2025-07-30T13:28:29.592773",
     "status": "completed"
    },
    "tags": []
   },
   "outputs": [],
   "source": [
    "if len(excluded_features_columns) > 0:\n",
    "    print(f\"Dropping features: {excluded_features_columns}\")\n",
    "    X_calib.drop(excluded_features_columns, axis=1, inplace=True)"
   ]
  },
  {
   "cell_type": "code",
   "execution_count": 35,
   "id": "6727d079-03e5-481e-9d38-292a90b7a0a8",
   "metadata": {
    "execution": {
     "iopub.execute_input": "2025-07-30T13:28:29.676881Z",
     "iopub.status.busy": "2025-07-30T13:28:29.675871Z",
     "iopub.status.idle": "2025-07-30T13:28:29.681609Z",
     "shell.execute_reply": "2025-07-30T13:28:29.680461Z"
    },
    "papermill": {
     "duration": 0.032983,
     "end_time": "2025-07-30T13:28:29.684286",
     "exception": false,
     "start_time": "2025-07-30T13:28:29.651303",
     "status": "completed"
    },
    "tags": []
   },
   "outputs": [],
   "source": [
    "# SPLIT & STRATIFY DATA\n",
    "# ----------------------"
   ]
  },
  {
   "cell_type": "code",
   "execution_count": 36,
   "id": "76c4dc6d",
   "metadata": {
    "execution": {
     "iopub.execute_input": "2025-07-30T13:28:29.740417Z",
     "iopub.status.busy": "2025-07-30T13:28:29.739981Z",
     "iopub.status.idle": "2025-07-30T13:28:29.745812Z",
     "shell.execute_reply": "2025-07-30T13:28:29.744749Z"
    },
    "papermill": {
     "duration": 0.034224,
     "end_time": "2025-07-30T13:28:29.747630",
     "exception": false,
     "start_time": "2025-07-30T13:28:29.713406",
     "status": "completed"
    },
    "tags": []
   },
   "outputs": [],
   "source": [
    "# EXCLUDE CERTAIN SUBGROUPS\n",
    "# ----------------------\n",
    "\n",
    "mode = universe.get(\"exclude_subgroups\", \"keep-all\") \n",
    "# Fetches the exclude_subgroups setting from the universe dict.\n",
    "# Defaults to \"keep-all\" if the key is missing."
   ]
  },
  {
   "cell_type": "code",
   "execution_count": 37,
   "id": "21994072",
   "metadata": {
    "execution": {
     "iopub.execute_input": "2025-07-30T13:28:29.802906Z",
     "iopub.status.busy": "2025-07-30T13:28:29.802494Z",
     "iopub.status.idle": "2025-07-30T13:28:29.809595Z",
     "shell.execute_reply": "2025-07-30T13:28:29.808387Z"
    },
    "papermill": {
     "duration": 0.038839,
     "end_time": "2025-07-30T13:28:29.812110",
     "exception": false,
     "start_time": "2025-07-30T13:28:29.773271",
     "status": "completed"
    },
    "tags": []
   },
   "outputs": [],
   "source": [
    "if mode == \"keep-all\":\n",
    "    keep_mask = pd.Series(True, index=org_train.index)\n",
    "\n",
    "# org_train contains the original feature columns from features_org (in Simson)\n",
    "# features_org contains unprocessed features, for me X_train at beginning ???\n",
    "# For keep-all, creates a boolean Series (keep_mask) of all True, so no rows are removed.\n",
    "\n",
    "elif mode == \"drop-non-german\":\n",
    "    keep_mask = org_train[\"maxdeutsch1\"] == 1 # ??? what about missing values?\n",
    "\n",
    "else:\n",
    "    raise ValueError(f\"Unsupported mode for exclude_subgroups: {mode}\")\n"
   ]
  },
  {
   "cell_type": "code",
   "execution_count": 38,
   "id": "71651440",
   "metadata": {
    "execution": {
     "iopub.execute_input": "2025-07-30T13:28:29.854708Z",
     "iopub.status.busy": "2025-07-30T13:28:29.854247Z",
     "iopub.status.idle": "2025-07-30T13:28:29.859728Z",
     "shell.execute_reply": "2025-07-30T13:28:29.859032Z"
    },
    "papermill": {
     "duration": 0.019394,
     "end_time": "2025-07-30T13:28:29.861122",
     "exception": false,
     "start_time": "2025-07-30T13:28:29.841728",
     "status": "completed"
    },
    "tags": []
   },
   "outputs": [],
   "source": [
    "n_drop = (~keep_mask).sum() # Calculates how many rows are set to be dropped\n",
    "if n_drop > 0:\n",
    "    pct = n_drop / len(keep_mask) * 100\n",
    "    print(f\"Dropping {n_drop} rows ({pct:.2f}%) where mode='{mode}'\")"
   ]
  },
  {
   "cell_type": "code",
   "execution_count": 39,
   "id": "5fb8eee5",
   "metadata": {
    "execution": {
     "iopub.execute_input": "2025-07-30T13:28:29.887932Z",
     "iopub.status.busy": "2025-07-30T13:28:29.886293Z",
     "iopub.status.idle": "2025-07-30T13:28:29.903107Z",
     "shell.execute_reply": "2025-07-30T13:28:29.901937Z"
    },
    "papermill": {
     "duration": 0.031531,
     "end_time": "2025-07-30T13:28:29.905643",
     "exception": false,
     "start_time": "2025-07-30T13:28:29.874112",
     "status": "completed"
    },
    "tags": []
   },
   "outputs": [],
   "source": [
    "X_train = X_train[keep_mask]"
   ]
  },
  {
   "cell_type": "code",
   "execution_count": 40,
   "id": "b202bb3a",
   "metadata": {
    "execution": {
     "iopub.execute_input": "2025-07-30T13:28:29.954818Z",
     "iopub.status.busy": "2025-07-30T13:28:29.954031Z",
     "iopub.status.idle": "2025-07-30T13:28:29.961119Z",
     "shell.execute_reply": "2025-07-30T13:28:29.960001Z"
    },
    "papermill": {
     "duration": 0.032839,
     "end_time": "2025-07-30T13:28:29.962892",
     "exception": false,
     "start_time": "2025-07-30T13:28:29.930053",
     "status": "completed"
    },
    "tags": []
   },
   "outputs": [],
   "source": [
    "y_train = y_train[keep_mask]"
   ]
  },
  {
   "cell_type": "markdown",
   "id": "493e2ac3",
   "metadata": {
    "papermill": {
     "duration": 0.023597,
     "end_time": "2025-07-30T13:28:30.012609",
     "exception": false,
     "start_time": "2025-07-30T13:28:29.989012",
     "status": "completed"
    },
    "tags": []
   },
   "source": [
    "# Model Training"
   ]
  },
  {
   "cell_type": "code",
   "execution_count": 41,
   "id": "679e1268",
   "metadata": {
    "execution": {
     "iopub.execute_input": "2025-07-30T13:28:30.063766Z",
     "iopub.status.busy": "2025-07-30T13:28:30.063189Z",
     "iopub.status.idle": "2025-07-30T13:28:30.186223Z",
     "shell.execute_reply": "2025-07-30T13:28:30.185089Z"
    },
    "papermill": {
     "duration": 0.154177,
     "end_time": "2025-07-30T13:28:30.191600",
     "exception": false,
     "start_time": "2025-07-30T13:28:30.037423",
     "status": "completed"
    },
    "tags": []
   },
   "outputs": [],
   "source": [
    "from sklearn.linear_model import LogisticRegression\n",
    "from sklearn.ensemble import GradientBoostingClassifier, RandomForestClassifier\n",
    "\n",
    "if (universe[\"model\"] == \"logreg\"):\n",
    "    model = LogisticRegression() #penalty=\"none\") #, solver=\"newton-cg\", max_iter=1) # include random_state=19 ?\n",
    "elif (universe[\"model\"] == \"penalized_logreg\"):\n",
    "    model = LogisticRegression(penalty=\"l2\", C=1.0) #, solver=\"newton-cg\", max_iter=1)\n",
    "elif (universe[\"model\"] == \"rf\"):\n",
    "    model = RandomForestClassifier(n_estimators=100, n_jobs=-1)\n",
    "elif (universe[\"model\"] == \"gbm\"):\n",
    "    model = GradientBoostingClassifier()\n",
    "elif (universe[\"model\"] == \"elasticnet\"):\n",
    "    model = LogisticRegression(penalty = 'elasticnet', solver = 'saga', l1_ratio = 0.5, max_iter=5000) # which solver to use?\n",
    "else:\n",
    "    raise \"Unsupported universe.model\""
   ]
  },
  {
   "cell_type": "code",
   "execution_count": 42,
   "id": "0cc8f744",
   "metadata": {
    "execution": {
     "iopub.execute_input": "2025-07-30T13:28:30.244388Z",
     "iopub.status.busy": "2025-07-30T13:28:30.243964Z",
     "iopub.status.idle": "2025-07-30T13:28:30.251706Z",
     "shell.execute_reply": "2025-07-30T13:28:30.250690Z"
    },
    "papermill": {
     "duration": 0.034802,
     "end_time": "2025-07-30T13:28:30.253167",
     "exception": false,
     "start_time": "2025-07-30T13:28:30.218365",
     "status": "completed"
    },
    "tags": []
   },
   "outputs": [],
   "source": [
    "import numpy as np\n",
    "from sklearn.pipeline import Pipeline\n",
    "from sklearn.preprocessing import StandardScaler\n",
    "\n",
    "model = Pipeline([\n",
    "    #(\"continuous_processor\", continuous_processor),\n",
    "    #(\"categorical_preprocessor\", categorical_preprocessor),\n",
    "    (\"scale\", StandardScaler() if universe[\"scale\"] == \"scale\" else None), \n",
    "    (\"model\", model),\n",
    "])"
   ]
  },
  {
   "cell_type": "code",
   "execution_count": 43,
   "id": "9442c04d",
   "metadata": {
    "execution": {
     "iopub.execute_input": "2025-07-30T13:28:30.296332Z",
     "iopub.status.busy": "2025-07-30T13:28:30.295365Z",
     "iopub.status.idle": "2025-07-30T13:28:49.119912Z",
     "shell.execute_reply": "2025-07-30T13:28:49.119094Z"
    },
    "papermill": {
     "duration": 18.851771,
     "end_time": "2025-07-30T13:28:49.121387",
     "exception": false,
     "start_time": "2025-07-30T13:28:30.269616",
     "status": "completed"
    },
    "tags": []
   },
   "outputs": [
    {
     "data": {
      "text/html": [
       "<style>#sk-container-id-1 {color: black;background-color: white;}#sk-container-id-1 pre{padding: 0;}#sk-container-id-1 div.sk-toggleable {background-color: white;}#sk-container-id-1 label.sk-toggleable__label {cursor: pointer;display: block;width: 100%;margin-bottom: 0;padding: 0.3em;box-sizing: border-box;text-align: center;}#sk-container-id-1 label.sk-toggleable__label-arrow:before {content: \"▸\";float: left;margin-right: 0.25em;color: #696969;}#sk-container-id-1 label.sk-toggleable__label-arrow:hover:before {color: black;}#sk-container-id-1 div.sk-estimator:hover label.sk-toggleable__label-arrow:before {color: black;}#sk-container-id-1 div.sk-toggleable__content {max-height: 0;max-width: 0;overflow: hidden;text-align: left;background-color: #f0f8ff;}#sk-container-id-1 div.sk-toggleable__content pre {margin: 0.2em;color: black;border-radius: 0.25em;background-color: #f0f8ff;}#sk-container-id-1 input.sk-toggleable__control:checked~div.sk-toggleable__content {max-height: 200px;max-width: 100%;overflow: auto;}#sk-container-id-1 input.sk-toggleable__control:checked~label.sk-toggleable__label-arrow:before {content: \"▾\";}#sk-container-id-1 div.sk-estimator input.sk-toggleable__control:checked~label.sk-toggleable__label {background-color: #d4ebff;}#sk-container-id-1 div.sk-label input.sk-toggleable__control:checked~label.sk-toggleable__label {background-color: #d4ebff;}#sk-container-id-1 input.sk-hidden--visually {border: 0;clip: rect(1px 1px 1px 1px);clip: rect(1px, 1px, 1px, 1px);height: 1px;margin: -1px;overflow: hidden;padding: 0;position: absolute;width: 1px;}#sk-container-id-1 div.sk-estimator {font-family: monospace;background-color: #f0f8ff;border: 1px dotted black;border-radius: 0.25em;box-sizing: border-box;margin-bottom: 0.5em;}#sk-container-id-1 div.sk-estimator:hover {background-color: #d4ebff;}#sk-container-id-1 div.sk-parallel-item::after {content: \"\";width: 100%;border-bottom: 1px solid gray;flex-grow: 1;}#sk-container-id-1 div.sk-label:hover label.sk-toggleable__label {background-color: #d4ebff;}#sk-container-id-1 div.sk-serial::before {content: \"\";position: absolute;border-left: 1px solid gray;box-sizing: border-box;top: 0;bottom: 0;left: 50%;z-index: 0;}#sk-container-id-1 div.sk-serial {display: flex;flex-direction: column;align-items: center;background-color: white;padding-right: 0.2em;padding-left: 0.2em;position: relative;}#sk-container-id-1 div.sk-item {position: relative;z-index: 1;}#sk-container-id-1 div.sk-parallel {display: flex;align-items: stretch;justify-content: center;background-color: white;position: relative;}#sk-container-id-1 div.sk-item::before, #sk-container-id-1 div.sk-parallel-item::before {content: \"\";position: absolute;border-left: 1px solid gray;box-sizing: border-box;top: 0;bottom: 0;left: 50%;z-index: -1;}#sk-container-id-1 div.sk-parallel-item {display: flex;flex-direction: column;z-index: 1;position: relative;background-color: white;}#sk-container-id-1 div.sk-parallel-item:first-child::after {align-self: flex-end;width: 50%;}#sk-container-id-1 div.sk-parallel-item:last-child::after {align-self: flex-start;width: 50%;}#sk-container-id-1 div.sk-parallel-item:only-child::after {width: 0;}#sk-container-id-1 div.sk-dashed-wrapped {border: 1px dashed gray;margin: 0 0.4em 0.5em 0.4em;box-sizing: border-box;padding-bottom: 0.4em;background-color: white;}#sk-container-id-1 div.sk-label label {font-family: monospace;font-weight: bold;display: inline-block;line-height: 1.2em;}#sk-container-id-1 div.sk-label-container {text-align: center;}#sk-container-id-1 div.sk-container {/* jupyter's `normalize.less` sets `[hidden] { display: none; }` but bootstrap.min.css set `[hidden] { display: none !important; }` so we also need the `!important` here to be able to override the default hidden behavior on the sphinx rendered scikit-learn.org. See: https://github.com/scikit-learn/scikit-learn/issues/21755 */display: inline-block !important;position: relative;}#sk-container-id-1 div.sk-text-repr-fallback {display: none;}</style><div id=\"sk-container-id-1\" class=\"sk-top-container\"><div class=\"sk-text-repr-fallback\"><pre>Pipeline(steps=[(&#x27;scale&#x27;, StandardScaler()),\n",
       "                (&#x27;model&#x27;,\n",
       "                 LogisticRegression(l1_ratio=0.5, max_iter=5000,\n",
       "                                    penalty=&#x27;elasticnet&#x27;, solver=&#x27;saga&#x27;))])</pre><b>In a Jupyter environment, please rerun this cell to show the HTML representation or trust the notebook. <br />On GitHub, the HTML representation is unable to render, please try loading this page with nbviewer.org.</b></div><div class=\"sk-container\" hidden><div class=\"sk-item sk-dashed-wrapped\"><div class=\"sk-label-container\"><div class=\"sk-label sk-toggleable\"><input class=\"sk-toggleable__control sk-hidden--visually\" id=\"sk-estimator-id-1\" type=\"checkbox\" ><label for=\"sk-estimator-id-1\" class=\"sk-toggleable__label sk-toggleable__label-arrow\">Pipeline</label><div class=\"sk-toggleable__content\"><pre>Pipeline(steps=[(&#x27;scale&#x27;, StandardScaler()),\n",
       "                (&#x27;model&#x27;,\n",
       "                 LogisticRegression(l1_ratio=0.5, max_iter=5000,\n",
       "                                    penalty=&#x27;elasticnet&#x27;, solver=&#x27;saga&#x27;))])</pre></div></div></div><div class=\"sk-serial\"><div class=\"sk-item\"><div class=\"sk-estimator sk-toggleable\"><input class=\"sk-toggleable__control sk-hidden--visually\" id=\"sk-estimator-id-2\" type=\"checkbox\" ><label for=\"sk-estimator-id-2\" class=\"sk-toggleable__label sk-toggleable__label-arrow\">StandardScaler</label><div class=\"sk-toggleable__content\"><pre>StandardScaler()</pre></div></div></div><div class=\"sk-item\"><div class=\"sk-estimator sk-toggleable\"><input class=\"sk-toggleable__control sk-hidden--visually\" id=\"sk-estimator-id-3\" type=\"checkbox\" ><label for=\"sk-estimator-id-3\" class=\"sk-toggleable__label sk-toggleable__label-arrow\">LogisticRegression</label><div class=\"sk-toggleable__content\"><pre>LogisticRegression(l1_ratio=0.5, max_iter=5000, penalty=&#x27;elasticnet&#x27;,\n",
       "                   solver=&#x27;saga&#x27;)</pre></div></div></div></div></div></div></div>"
      ],
      "text/plain": [
       "Pipeline(steps=[('scale', StandardScaler()),\n",
       "                ('model',\n",
       "                 LogisticRegression(l1_ratio=0.5, max_iter=5000,\n",
       "                                    penalty='elasticnet', solver='saga'))])"
      ]
     },
     "execution_count": 43,
     "metadata": {},
     "output_type": "execute_result"
    }
   ],
   "source": [
    "model.fit(X_train, y_train.values.ravel())"
   ]
  },
  {
   "cell_type": "code",
   "execution_count": 44,
   "id": "af59f8c0",
   "metadata": {
    "execution": {
     "iopub.execute_input": "2025-07-30T13:28:49.150068Z",
     "iopub.status.busy": "2025-07-30T13:28:49.149694Z",
     "iopub.status.idle": "2025-07-30T13:28:49.154437Z",
     "shell.execute_reply": "2025-07-30T13:28:49.153547Z"
    },
    "papermill": {
     "duration": 0.019216,
     "end_time": "2025-07-30T13:28:49.155793",
     "exception": false,
     "start_time": "2025-07-30T13:28:49.136577",
     "status": "completed"
    },
    "tags": []
   },
   "outputs": [],
   "source": [
    "from fairness_multiverse.universe import predict_w_threshold"
   ]
  },
  {
   "cell_type": "code",
   "execution_count": 45,
   "id": "a7cf2e16",
   "metadata": {
    "execution": {
     "iopub.execute_input": "2025-07-30T13:28:49.182894Z",
     "iopub.status.busy": "2025-07-30T13:28:49.182169Z",
     "iopub.status.idle": "2025-07-30T13:28:49.364978Z",
     "shell.execute_reply": "2025-07-30T13:28:49.364085Z"
    },
    "papermill": {
     "duration": 0.197296,
     "end_time": "2025-07-30T13:28:49.366358",
     "exception": false,
     "start_time": "2025-07-30T13:28:49.169062",
     "status": "completed"
    },
    "tags": []
   },
   "outputs": [
    {
     "data": {
      "text/plain": [
       "0.8603165756325939"
      ]
     },
     "execution_count": 45,
     "metadata": {},
     "output_type": "execute_result"
    }
   ],
   "source": [
    "probs_test = model.predict_proba(X_test)\n",
    "\n",
    "'''\n",
    "Below code returns a boolean array (or binary 0/1 array depending on how it’s used) where each element \n",
    "is True if the probability of class 1 is greater than or equal to the threshold, and False otherwise.\n",
    "'''\n",
    "y_pred_default = predict_w_threshold(probs_test, 0.5)\n",
    "\n",
    "from sklearn.metrics import accuracy_score\n",
    "\n",
    "# Naive prediction\n",
    "accuracy_score(y_true = y_true, y_pred = y_pred_default)"
   ]
  },
  {
   "cell_type": "code",
   "execution_count": 46,
   "id": "081964c3",
   "metadata": {
    "execution": {
     "iopub.execute_input": "2025-07-30T13:28:49.392948Z",
     "iopub.status.busy": "2025-07-30T13:28:49.392625Z",
     "iopub.status.idle": "2025-07-30T13:28:49.565371Z",
     "shell.execute_reply": "2025-07-30T13:28:49.564295Z"
    },
    "papermill": {
     "duration": 0.187701,
     "end_time": "2025-07-30T13:28:49.567080",
     "exception": false,
     "start_time": "2025-07-30T13:28:49.379379",
     "status": "completed"
    },
    "tags": []
   },
   "outputs": [
    {
     "data": {
      "text/plain": [
       "array([0, 0, 0, ..., 0, 0, 0])"
      ]
     },
     "execution_count": 46,
     "metadata": {},
     "output_type": "execute_result"
    }
   ],
   "source": [
    "model.predict(X_test)"
   ]
  },
  {
   "cell_type": "markdown",
   "id": "56c9705b",
   "metadata": {
    "papermill": {
     "duration": 0.022683,
     "end_time": "2025-07-30T13:28:49.613353",
     "exception": false,
     "start_time": "2025-07-30T13:28:49.590670",
     "status": "completed"
    },
    "tags": []
   },
   "source": [
    "# Conformal Prediction"
   ]
  },
  {
   "cell_type": "code",
   "execution_count": 47,
   "id": "160ec6ff",
   "metadata": {
    "execution": {
     "iopub.execute_input": "2025-07-30T13:28:49.661366Z",
     "iopub.status.busy": "2025-07-30T13:28:49.660553Z",
     "iopub.status.idle": "2025-07-30T13:28:49.667000Z",
     "shell.execute_reply": "2025-07-30T13:28:49.665861Z"
    },
    "papermill": {
     "duration": 0.03302,
     "end_time": "2025-07-30T13:28:49.669177",
     "exception": false,
     "start_time": "2025-07-30T13:28:49.636157",
     "status": "completed"
    },
    "tags": []
   },
   "outputs": [],
   "source": [
    "# Miscoverage level for conformal prediction (10% allowed error rate => 90% target coverage)\n",
    "alpha = 0.1"
   ]
  },
  {
   "cell_type": "code",
   "execution_count": 48,
   "id": "eadf4555-3dd3-440e-8e35-f82a4ad9f855",
   "metadata": {
    "execution": {
     "iopub.execute_input": "2025-07-30T13:28:49.738786Z",
     "iopub.status.busy": "2025-07-30T13:28:49.738289Z",
     "iopub.status.idle": "2025-07-30T13:28:49.914231Z",
     "shell.execute_reply": "2025-07-30T13:28:49.913145Z"
    },
    "papermill": {
     "duration": 0.212892,
     "end_time": "2025-07-30T13:28:49.915872",
     "exception": false,
     "start_time": "2025-07-30T13:28:49.702980",
     "status": "completed"
    },
    "tags": []
   },
   "outputs": [],
   "source": [
    "probs_calib = model.predict_proba(X_calib)"
   ]
  },
  {
   "cell_type": "code",
   "execution_count": 49,
   "id": "2ed93547-6d5d-4983-9b36-1ecb300da49a",
   "metadata": {
    "execution": {
     "iopub.execute_input": "2025-07-30T13:28:49.987974Z",
     "iopub.status.busy": "2025-07-30T13:28:49.987304Z",
     "iopub.status.idle": "2025-07-30T13:28:49.993879Z",
     "shell.execute_reply": "2025-07-30T13:28:49.992497Z"
    },
    "papermill": {
     "duration": 0.045481,
     "end_time": "2025-07-30T13:28:49.996107",
     "exception": false,
     "start_time": "2025-07-30T13:28:49.950626",
     "status": "completed"
    },
    "tags": []
   },
   "outputs": [],
   "source": [
    "y_calib = y_calib.values.ravel().astype(int)"
   ]
  },
  {
   "cell_type": "code",
   "execution_count": 50,
   "id": "65d1320d-f588-4b38-9072-62af1ae97f7d",
   "metadata": {
    "execution": {
     "iopub.execute_input": "2025-07-30T13:28:50.045315Z",
     "iopub.status.busy": "2025-07-30T13:28:50.044923Z",
     "iopub.status.idle": "2025-07-30T13:28:50.052457Z",
     "shell.execute_reply": "2025-07-30T13:28:50.051656Z"
    },
    "papermill": {
     "duration": 0.026388,
     "end_time": "2025-07-30T13:28:50.053775",
     "exception": false,
     "start_time": "2025-07-30T13:28:50.027387",
     "status": "completed"
    },
    "tags": []
   },
   "outputs": [],
   "source": [
    "from fairness_multiverse.conformal import compute_nc_scores\n",
    "\n",
    "# Compute nonconformity scores on calibration set (1 - probability of true class)\n",
    "nc_scores = compute_nc_scores(probs_calib, y_calib)"
   ]
  },
  {
   "cell_type": "code",
   "execution_count": 51,
   "id": "df3b8ca3-53b7-43d5-9667-7c85da7aeda2",
   "metadata": {
    "execution": {
     "iopub.execute_input": "2025-07-30T13:28:50.081588Z",
     "iopub.status.busy": "2025-07-30T13:28:50.080936Z",
     "iopub.status.idle": "2025-07-30T13:28:50.086836Z",
     "shell.execute_reply": "2025-07-30T13:28:50.086093Z"
    },
    "papermill": {
     "duration": 0.020599,
     "end_time": "2025-07-30T13:28:50.088239",
     "exception": false,
     "start_time": "2025-07-30T13:28:50.067640",
     "status": "completed"
    },
    "tags": []
   },
   "outputs": [],
   "source": [
    "from fairness_multiverse.conformal import find_threshold\n",
    "\n",
    "# Find conformal threshold q_hat for the given alpha (split conformal method)\n",
    "q_hat = find_threshold(nc_scores, alpha)"
   ]
  },
  {
   "cell_type": "code",
   "execution_count": 52,
   "id": "4d29e6c1-0ef6-4aa4-b8fe-4fe79b0d033a",
   "metadata": {
    "execution": {
     "iopub.execute_input": "2025-07-30T13:28:50.115411Z",
     "iopub.status.busy": "2025-07-30T13:28:50.114877Z",
     "iopub.status.idle": "2025-07-30T13:28:50.121186Z",
     "shell.execute_reply": "2025-07-30T13:28:50.120415Z"
    },
    "papermill": {
     "duration": 0.022854,
     "end_time": "2025-07-30T13:28:50.124604",
     "exception": false,
     "start_time": "2025-07-30T13:28:50.101750",
     "status": "completed"
    },
    "tags": []
   },
   "outputs": [
    {
     "data": {
      "text/plain": [
       "0.6598398601852777"
      ]
     },
     "execution_count": 52,
     "metadata": {},
     "output_type": "execute_result"
    }
   ],
   "source": [
    "q_hat"
   ]
  },
  {
   "cell_type": "code",
   "execution_count": 53,
   "id": "92460794-cdac-4be2-ba28-f28c0515a6fb",
   "metadata": {
    "execution": {
     "iopub.execute_input": "2025-07-30T13:28:50.153780Z",
     "iopub.status.busy": "2025-07-30T13:28:50.153341Z",
     "iopub.status.idle": "2025-07-30T13:28:50.902805Z",
     "shell.execute_reply": "2025-07-30T13:28:50.902034Z"
    },
    "papermill": {
     "duration": 0.764774,
     "end_time": "2025-07-30T13:28:50.904381",
     "exception": false,
     "start_time": "2025-07-30T13:28:50.139607",
     "status": "completed"
    },
    "tags": []
   },
   "outputs": [],
   "source": [
    "from fairness_multiverse.conformal import predict_conformal_sets\n",
    "\n",
    "# Generate prediction sets for each test example\n",
    "pred_sets = predict_conformal_sets(model, X_test, q_hat)"
   ]
  },
  {
   "cell_type": "code",
   "execution_count": 54,
   "id": "d90c9a65-e6db-4f5d-80cd-e68fb7e46829",
   "metadata": {
    "execution": {
     "iopub.execute_input": "2025-07-30T13:28:50.933310Z",
     "iopub.status.busy": "2025-07-30T13:28:50.932962Z",
     "iopub.status.idle": "2025-07-30T13:28:50.937658Z",
     "shell.execute_reply": "2025-07-30T13:28:50.936951Z"
    },
    "papermill": {
     "duration": 0.020662,
     "end_time": "2025-07-30T13:28:50.938985",
     "exception": false,
     "start_time": "2025-07-30T13:28:50.918323",
     "status": "completed"
    },
    "tags": []
   },
   "outputs": [],
   "source": [
    "y_true = y_true.squeeze()"
   ]
  },
  {
   "cell_type": "code",
   "execution_count": 55,
   "id": "3a58a54a-1e68-46b9-927a-df01f18aebc8",
   "metadata": {
    "execution": {
     "iopub.execute_input": "2025-07-30T13:28:50.966353Z",
     "iopub.status.busy": "2025-07-30T13:28:50.965842Z",
     "iopub.status.idle": "2025-07-30T13:28:51.470786Z",
     "shell.execute_reply": "2025-07-30T13:28:51.470010Z"
    },
    "papermill": {
     "duration": 0.519772,
     "end_time": "2025-07-30T13:28:51.472294",
     "exception": false,
     "start_time": "2025-07-30T13:28:50.952522",
     "status": "completed"
    },
    "tags": []
   },
   "outputs": [],
   "source": [
    "from fairness_multiverse.conformal import evaluate_sets\n",
    "\n",
    "# Evaluate coverage and average set size on test data\n",
    "metrics = evaluate_sets(pred_sets, y_true)"
   ]
  },
  {
   "cell_type": "markdown",
   "id": "2b569c12-9aaa-4c88-98c9-bbcd0cf3ebb8",
   "metadata": {
    "papermill": {
     "duration": 0.012523,
     "end_time": "2025-07-30T13:28:51.498571",
     "exception": false,
     "start_time": "2025-07-30T13:28:51.486048",
     "status": "completed"
    },
    "tags": []
   },
   "source": [
    "# CP Metrics"
   ]
  },
  {
   "cell_type": "code",
   "execution_count": 56,
   "id": "5ce0a5cb-201f-45a0-ade5-94c7f0bd6095",
   "metadata": {
    "execution": {
     "iopub.execute_input": "2025-07-30T13:28:51.525342Z",
     "iopub.status.busy": "2025-07-30T13:28:51.524838Z",
     "iopub.status.idle": "2025-07-30T13:28:51.531291Z",
     "shell.execute_reply": "2025-07-30T13:28:51.530613Z"
    },
    "papermill": {
     "duration": 0.021507,
     "end_time": "2025-07-30T13:28:51.532596",
     "exception": false,
     "start_time": "2025-07-30T13:28:51.511089",
     "status": "completed"
    },
    "tags": []
   },
   "outputs": [
    {
     "data": {
      "text/plain": [
       "{'coverage': 0.9105005016163192, 'avg_size': 1.1255266971352134}"
      ]
     },
     "execution_count": 56,
     "metadata": {},
     "output_type": "execute_result"
    }
   ],
   "source": [
    "metrics"
   ]
  },
  {
   "cell_type": "code",
   "execution_count": 57,
   "id": "9b9a838d-31c9-430b-ae14-12baee460d17",
   "metadata": {
    "execution": {
     "iopub.execute_input": "2025-07-30T13:28:51.559903Z",
     "iopub.status.busy": "2025-07-30T13:28:51.559371Z",
     "iopub.status.idle": "2025-07-30T13:28:51.564232Z",
     "shell.execute_reply": "2025-07-30T13:28:51.563484Z"
    },
    "papermill": {
     "duration": 0.019686,
     "end_time": "2025-07-30T13:28:51.565607",
     "exception": false,
     "start_time": "2025-07-30T13:28:51.545921",
     "status": "completed"
    },
    "tags": []
   },
   "outputs": [],
   "source": [
    "example_universe = universe.copy()\n",
    "universe_training_size = example_universe.get(\"training_size\")\n",
    "universe_scale = example_universe.get(\"scale\")\n",
    "universe_model = example_universe.get(\"model\")\n",
    "universe_exclude_features = example_universe.get(\"exclude_features\")\n",
    "universe_exclude_subgroups = example_universe.get(\"exclude_subgroups\")"
   ]
  },
  {
   "cell_type": "code",
   "execution_count": 58,
   "id": "f4b6a8ac-9dc0-4245-8a91-5b3b5999c4f9",
   "metadata": {
    "execution": {
     "iopub.execute_input": "2025-07-30T13:28:51.599923Z",
     "iopub.status.busy": "2025-07-30T13:28:51.599472Z",
     "iopub.status.idle": "2025-07-30T13:28:51.605940Z",
     "shell.execute_reply": "2025-07-30T13:28:51.605042Z"
    },
    "papermill": {
     "duration": 0.028474,
     "end_time": "2025-07-30T13:28:51.607537",
     "exception": false,
     "start_time": "2025-07-30T13:28:51.579063",
     "status": "completed"
    },
    "tags": []
   },
   "outputs": [],
   "source": [
    "cp_metrics_dict = {\n",
    "    \"universe_id\": [universe_id],\n",
    "    \"universe_training_size\": [universe_training_size],\n",
    "    \"universe_scale\": [universe_scale],\n",
    "    \"universe_model\": [universe_model],\n",
    "    \"universe_exclude_features\": [universe_exclude_features],\n",
    "    \"universe_exclude_subgroups\": [universe_exclude_subgroups],\n",
    "    \"q_hat\": [q_hat],\n",
    "    \"coverage\": [metrics[\"coverage\"]],\n",
    "    \"avg_size\": [metrics[\"avg_size\"]],\n",
    "}"
   ]
  },
  {
   "cell_type": "code",
   "execution_count": 59,
   "id": "908acbb1-0371-4915-85ca-3fa520d2efe2",
   "metadata": {
    "execution": {
     "iopub.execute_input": "2025-07-30T13:28:51.660994Z",
     "iopub.status.busy": "2025-07-30T13:28:51.659265Z",
     "iopub.status.idle": "2025-07-30T13:28:51.667788Z",
     "shell.execute_reply": "2025-07-30T13:28:51.666818Z"
    },
    "papermill": {
     "duration": 0.034679,
     "end_time": "2025-07-30T13:28:51.669379",
     "exception": false,
     "start_time": "2025-07-30T13:28:51.634700",
     "status": "completed"
    },
    "tags": []
   },
   "outputs": [
    {
     "data": {
      "text/plain": [
       "{'universe_id': ['1ea6288425370dde7fef0a29257557cd'],\n",
       " 'universe_training_size': ['25k'],\n",
       " 'universe_scale': ['scale'],\n",
       " 'universe_model': ['elasticnet'],\n",
       " 'universe_exclude_features': ['none'],\n",
       " 'universe_exclude_subgroups': ['keep-all'],\n",
       " 'q_hat': [0.6598398601852777],\n",
       " 'coverage': [0.9105005016163192],\n",
       " 'avg_size': [1.1255266971352134]}"
      ]
     },
     "execution_count": 59,
     "metadata": {},
     "output_type": "execute_result"
    }
   ],
   "source": [
    "cp_metrics_dict"
   ]
  },
  {
   "cell_type": "code",
   "execution_count": 60,
   "id": "33007efc-14e9-4ec6-97ac-56a455c82265",
   "metadata": {
    "execution": {
     "iopub.execute_input": "2025-07-30T13:28:51.714283Z",
     "iopub.status.busy": "2025-07-30T13:28:51.713898Z",
     "iopub.status.idle": "2025-07-30T13:28:51.719539Z",
     "shell.execute_reply": "2025-07-30T13:28:51.718795Z"
    },
    "papermill": {
     "duration": 0.024078,
     "end_time": "2025-07-30T13:28:51.720846",
     "exception": false,
     "start_time": "2025-07-30T13:28:51.696768",
     "status": "completed"
    },
    "tags": []
   },
   "outputs": [],
   "source": [
    "cp_metrics_df = pd.DataFrame(cp_metrics_dict)"
   ]
  },
  {
   "cell_type": "code",
   "execution_count": 61,
   "id": "db12611b-57b2-4910-b9d0-355adfd6e7bf",
   "metadata": {
    "execution": {
     "iopub.execute_input": "2025-07-30T13:28:51.750618Z",
     "iopub.status.busy": "2025-07-30T13:28:51.749807Z",
     "iopub.status.idle": "2025-07-30T13:28:51.763117Z",
     "shell.execute_reply": "2025-07-30T13:28:51.762413Z"
    },
    "papermill": {
     "duration": 0.029709,
     "end_time": "2025-07-30T13:28:51.764369",
     "exception": false,
     "start_time": "2025-07-30T13:28:51.734660",
     "status": "completed"
    },
    "tags": []
   },
   "outputs": [
    {
     "data": {
      "text/html": [
       "<div>\n",
       "<style scoped>\n",
       "    .dataframe tbody tr th:only-of-type {\n",
       "        vertical-align: middle;\n",
       "    }\n",
       "\n",
       "    .dataframe tbody tr th {\n",
       "        vertical-align: top;\n",
       "    }\n",
       "\n",
       "    .dataframe thead th {\n",
       "        text-align: right;\n",
       "    }\n",
       "</style>\n",
       "<table border=\"1\" class=\"dataframe\">\n",
       "  <thead>\n",
       "    <tr style=\"text-align: right;\">\n",
       "      <th></th>\n",
       "      <th>universe_id</th>\n",
       "      <th>universe_training_size</th>\n",
       "      <th>universe_scale</th>\n",
       "      <th>universe_model</th>\n",
       "      <th>universe_exclude_features</th>\n",
       "      <th>universe_exclude_subgroups</th>\n",
       "      <th>q_hat</th>\n",
       "      <th>coverage</th>\n",
       "      <th>avg_size</th>\n",
       "    </tr>\n",
       "  </thead>\n",
       "  <tbody>\n",
       "    <tr>\n",
       "      <th>0</th>\n",
       "      <td>1ea6288425370dde7fef0a29257557cd</td>\n",
       "      <td>25k</td>\n",
       "      <td>scale</td>\n",
       "      <td>elasticnet</td>\n",
       "      <td>none</td>\n",
       "      <td>keep-all</td>\n",
       "      <td>0.65984</td>\n",
       "      <td>0.910501</td>\n",
       "      <td>1.125527</td>\n",
       "    </tr>\n",
       "  </tbody>\n",
       "</table>\n",
       "</div>"
      ],
      "text/plain": [
       "                        universe_id universe_training_size universe_scale  \\\n",
       "0  1ea6288425370dde7fef0a29257557cd                    25k          scale   \n",
       "\n",
       "  universe_model universe_exclude_features universe_exclude_subgroups  \\\n",
       "0     elasticnet                      none                   keep-all   \n",
       "\n",
       "     q_hat  coverage  avg_size  \n",
       "0  0.65984  0.910501  1.125527  "
      ]
     },
     "execution_count": 61,
     "metadata": {},
     "output_type": "execute_result"
    }
   ],
   "source": [
    "cp_metrics_df"
   ]
  },
  {
   "cell_type": "code",
   "execution_count": 62,
   "id": "b7fbde55-a0a1-47e4-9af6-fe4a17fa8c61",
   "metadata": {
    "execution": {
     "iopub.execute_input": "2025-07-30T13:28:51.792338Z",
     "iopub.status.busy": "2025-07-30T13:28:51.791958Z",
     "iopub.status.idle": "2025-07-30T13:28:51.796002Z",
     "shell.execute_reply": "2025-07-30T13:28:51.795315Z"
    },
    "papermill": {
     "duration": 0.019206,
     "end_time": "2025-07-30T13:28:51.797263",
     "exception": false,
     "start_time": "2025-07-30T13:28:51.778057",
     "status": "completed"
    },
    "tags": []
   },
   "outputs": [],
   "source": [
    "# Conditional Coverage & looking at subgroups"
   ]
  },
  {
   "cell_type": "code",
   "execution_count": 63,
   "id": "027ae886-68dd-4141-96c7-805a5450e1ef",
   "metadata": {
    "execution": {
     "iopub.execute_input": "2025-07-30T13:28:51.825538Z",
     "iopub.status.busy": "2025-07-30T13:28:51.824951Z",
     "iopub.status.idle": "2025-07-30T13:28:51.998275Z",
     "shell.execute_reply": "2025-07-30T13:28:51.997441Z"
    },
    "papermill": {
     "duration": 0.188797,
     "end_time": "2025-07-30T13:28:51.999739",
     "exception": false,
     "start_time": "2025-07-30T13:28:51.810942",
     "status": "completed"
    },
    "tags": []
   },
   "outputs": [],
   "source": [
    "from fairness_multiverse.conformal import build_cp_groups\n",
    "\n",
    "cp_groups_df = build_cp_groups(pred_sets, y_true, X_test.index, org_test)\n",
    "#needs universe_id and setting"
   ]
  },
  {
   "cell_type": "code",
   "execution_count": 64,
   "id": "01d5802c-663a-4d1f-9d69-e036faaffbf7",
   "metadata": {
    "execution": {
     "iopub.execute_input": "2025-07-30T13:28:52.030564Z",
     "iopub.status.busy": "2025-07-30T13:28:52.029768Z",
     "iopub.status.idle": "2025-07-30T13:28:52.034027Z",
     "shell.execute_reply": "2025-07-30T13:28:52.033347Z"
    },
    "papermill": {
     "duration": 0.021223,
     "end_time": "2025-07-30T13:28:52.035266",
     "exception": false,
     "start_time": "2025-07-30T13:28:52.014043",
     "status": "completed"
    },
    "tags": []
   },
   "outputs": [],
   "source": [
    "#delete\n",
    "#cp_groups_df"
   ]
  },
  {
   "cell_type": "code",
   "execution_count": 65,
   "id": "fa424af1-d1eb-443d-b717-2d279ada8408",
   "metadata": {
    "execution": {
     "iopub.execute_input": "2025-07-30T13:28:52.064025Z",
     "iopub.status.busy": "2025-07-30T13:28:52.063283Z",
     "iopub.status.idle": "2025-07-30T13:28:52.067676Z",
     "shell.execute_reply": "2025-07-30T13:28:52.066931Z"
    },
    "papermill": {
     "duration": 0.019911,
     "end_time": "2025-07-30T13:28:52.069082",
     "exception": false,
     "start_time": "2025-07-30T13:28:52.049171",
     "status": "completed"
    },
    "tags": []
   },
   "outputs": [],
   "source": [
    "#delete\n",
    "#percentage = (cp_groups_df['nongerman_female'] == 1).mean() * 100\n",
    "#print(percentage)\n"
   ]
  },
  {
   "cell_type": "code",
   "execution_count": 66,
   "id": "6cbdab96-b2b2-45af-ad54-d0516db2e28d",
   "metadata": {
    "execution": {
     "iopub.execute_input": "2025-07-30T13:28:52.098835Z",
     "iopub.status.busy": "2025-07-30T13:28:52.098181Z",
     "iopub.status.idle": "2025-07-30T13:28:53.129405Z",
     "shell.execute_reply": "2025-07-30T13:28:53.128553Z"
    },
    "papermill": {
     "duration": 1.047942,
     "end_time": "2025-07-30T13:28:53.130898",
     "exception": false,
     "start_time": "2025-07-30T13:28:52.082956",
     "status": "completed"
    },
    "tags": []
   },
   "outputs": [],
   "source": [
    "# Define covered = 1 if true_label is in the predicted set\n",
    "cp_groups_df['covered'] = cp_groups_df.apply(\n",
    "    lambda r: int(r['true_label'] in r['pred_set']),\n",
    "    axis=1\n",
    ")"
   ]
  },
  {
   "cell_type": "code",
   "execution_count": 67,
   "id": "338ff529-1a6b-4b87-a931-8e4788d52aad",
   "metadata": {
    "execution": {
     "iopub.execute_input": "2025-07-30T13:28:53.184236Z",
     "iopub.status.busy": "2025-07-30T13:28:53.183779Z",
     "iopub.status.idle": "2025-07-30T13:28:53.189268Z",
     "shell.execute_reply": "2025-07-30T13:28:53.188367Z"
    },
    "papermill": {
     "duration": 0.036338,
     "end_time": "2025-07-30T13:28:53.190937",
     "exception": false,
     "start_time": "2025-07-30T13:28:53.154599",
     "status": "completed"
    },
    "tags": []
   },
   "outputs": [],
   "source": [
    "#cp_groups_df"
   ]
  },
  {
   "cell_type": "code",
   "execution_count": 68,
   "id": "90032e27-66df-4540-9169-4e89cfbaa758",
   "metadata": {
    "execution": {
     "iopub.execute_input": "2025-07-30T13:28:53.242940Z",
     "iopub.status.busy": "2025-07-30T13:28:53.242069Z",
     "iopub.status.idle": "2025-07-30T13:28:53.254176Z",
     "shell.execute_reply": "2025-07-30T13:28:53.253253Z"
    },
    "papermill": {
     "duration": 0.040268,
     "end_time": "2025-07-30T13:28:53.256123",
     "exception": false,
     "start_time": "2025-07-30T13:28:53.215855",
     "status": "completed"
    },
    "tags": []
   },
   "outputs": [],
   "source": [
    "subgroups = ['frau1','nongerman','nongerman_male','nongerman_female']\n",
    "\n",
    "# Conditional coverage for subgroup==1\n",
    "cond_coverage = {\n",
    "    g: cp_groups_df.loc[cp_groups_df[g]==1, 'covered'].mean()\n",
    "    for g in subgroups\n",
    "}"
   ]
  },
  {
   "cell_type": "code",
   "execution_count": 69,
   "id": "1e348fb1-b9c3-45bc-ba23-f016827a7e0d",
   "metadata": {
    "execution": {
     "iopub.execute_input": "2025-07-30T13:28:53.317791Z",
     "iopub.status.busy": "2025-07-30T13:28:53.317126Z",
     "iopub.status.idle": "2025-07-30T13:28:53.324448Z",
     "shell.execute_reply": "2025-07-30T13:28:53.323403Z"
    },
    "papermill": {
     "duration": 0.037647,
     "end_time": "2025-07-30T13:28:53.326008",
     "exception": false,
     "start_time": "2025-07-30T13:28:53.288361",
     "status": "completed"
    },
    "tags": []
   },
   "outputs": [
    {
     "data": {
      "text/plain": [
       "{'frau1': 0.9092600080873433,\n",
       " 'nongerman': 0.912984898669511,\n",
       " 'nongerman_male': 0.9290281905791228,\n",
       " 'nongerman_female': 0.8864381520119226}"
      ]
     },
     "execution_count": 69,
     "metadata": {},
     "output_type": "execute_result"
    }
   ],
   "source": [
    "cond_coverage"
   ]
  },
  {
   "cell_type": "code",
   "execution_count": 70,
   "id": "f5093324-c3dd-4d63-bc4c-8d945e5c8bbb",
   "metadata": {
    "execution": {
     "iopub.execute_input": "2025-07-30T13:28:53.386117Z",
     "iopub.status.busy": "2025-07-30T13:28:53.385452Z",
     "iopub.status.idle": "2025-07-30T13:28:53.393359Z",
     "shell.execute_reply": "2025-07-30T13:28:53.392612Z"
    },
    "papermill": {
     "duration": 0.05072,
     "end_time": "2025-07-30T13:28:53.405082",
     "exception": false,
     "start_time": "2025-07-30T13:28:53.354362",
     "status": "completed"
    },
    "tags": []
   },
   "outputs": [],
   "source": [
    "for subgroup, cov in cond_coverage.items():\n",
    "    cp_metrics_df[f\"cov_{subgroup}\"] = cov"
   ]
  },
  {
   "cell_type": "code",
   "execution_count": 71,
   "id": "6e872e10-dbe5-49e8-b554-5030c98ff75d",
   "metadata": {
    "execution": {
     "iopub.execute_input": "2025-07-30T13:28:53.453635Z",
     "iopub.status.busy": "2025-07-30T13:28:53.453131Z",
     "iopub.status.idle": "2025-07-30T13:28:53.468795Z",
     "shell.execute_reply": "2025-07-30T13:28:53.467849Z"
    },
    "papermill": {
     "duration": 0.031807,
     "end_time": "2025-07-30T13:28:53.470028",
     "exception": false,
     "start_time": "2025-07-30T13:28:53.438221",
     "status": "completed"
    },
    "tags": []
   },
   "outputs": [
    {
     "data": {
      "text/html": [
       "<div>\n",
       "<style scoped>\n",
       "    .dataframe tbody tr th:only-of-type {\n",
       "        vertical-align: middle;\n",
       "    }\n",
       "\n",
       "    .dataframe tbody tr th {\n",
       "        vertical-align: top;\n",
       "    }\n",
       "\n",
       "    .dataframe thead th {\n",
       "        text-align: right;\n",
       "    }\n",
       "</style>\n",
       "<table border=\"1\" class=\"dataframe\">\n",
       "  <thead>\n",
       "    <tr style=\"text-align: right;\">\n",
       "      <th></th>\n",
       "      <th>universe_id</th>\n",
       "      <th>universe_training_size</th>\n",
       "      <th>universe_scale</th>\n",
       "      <th>universe_model</th>\n",
       "      <th>universe_exclude_features</th>\n",
       "      <th>universe_exclude_subgroups</th>\n",
       "      <th>q_hat</th>\n",
       "      <th>coverage</th>\n",
       "      <th>avg_size</th>\n",
       "      <th>cov_frau1</th>\n",
       "      <th>cov_nongerman</th>\n",
       "      <th>cov_nongerman_male</th>\n",
       "      <th>cov_nongerman_female</th>\n",
       "    </tr>\n",
       "  </thead>\n",
       "  <tbody>\n",
       "    <tr>\n",
       "      <th>0</th>\n",
       "      <td>1ea6288425370dde7fef0a29257557cd</td>\n",
       "      <td>25k</td>\n",
       "      <td>scale</td>\n",
       "      <td>elasticnet</td>\n",
       "      <td>none</td>\n",
       "      <td>keep-all</td>\n",
       "      <td>0.65984</td>\n",
       "      <td>0.910501</td>\n",
       "      <td>1.125527</td>\n",
       "      <td>0.90926</td>\n",
       "      <td>0.912985</td>\n",
       "      <td>0.929028</td>\n",
       "      <td>0.886438</td>\n",
       "    </tr>\n",
       "  </tbody>\n",
       "</table>\n",
       "</div>"
      ],
      "text/plain": [
       "                        universe_id universe_training_size universe_scale  \\\n",
       "0  1ea6288425370dde7fef0a29257557cd                    25k          scale   \n",
       "\n",
       "  universe_model universe_exclude_features universe_exclude_subgroups  \\\n",
       "0     elasticnet                      none                   keep-all   \n",
       "\n",
       "     q_hat  coverage  avg_size  cov_frau1  cov_nongerman  cov_nongerman_male  \\\n",
       "0  0.65984  0.910501  1.125527    0.90926       0.912985            0.929028   \n",
       "\n",
       "   cov_nongerman_female  \n",
       "0              0.886438  "
      ]
     },
     "execution_count": 71,
     "metadata": {},
     "output_type": "execute_result"
    }
   ],
   "source": [
    "cp_metrics_df"
   ]
  },
  {
   "cell_type": "markdown",
   "id": "33774451",
   "metadata": {
    "papermill": {
     "duration": 0.013639,
     "end_time": "2025-07-30T13:28:53.498591",
     "exception": false,
     "start_time": "2025-07-30T13:28:53.484952",
     "status": "completed"
    },
    "tags": []
   },
   "source": [
    "# (Fairness) Metrics"
   ]
  },
  {
   "cell_type": "code",
   "execution_count": 72,
   "id": "debc5d62",
   "metadata": {
    "execution": {
     "iopub.execute_input": "2025-07-30T13:28:53.531111Z",
     "iopub.status.busy": "2025-07-30T13:28:53.530421Z",
     "iopub.status.idle": "2025-07-30T13:28:53.545583Z",
     "shell.execute_reply": "2025-07-30T13:28:53.544841Z"
    },
    "papermill": {
     "duration": 0.034653,
     "end_time": "2025-07-30T13:28:53.546902",
     "exception": false,
     "start_time": "2025-07-30T13:28:53.512249",
     "status": "completed"
    },
    "tags": []
   },
   "outputs": [],
   "source": [
    "# do I need to include maxdeutsch1.missing?\n",
    "\n",
    "import numpy as np\n",
    "\n",
    "colname_to_bin = \"maxdeutsch1\"\n",
    "majority_value = org_train[colname_to_bin].mode()[0]\n",
    "\n",
    "org_test[\"majmin\"] = np.where(org_test[colname_to_bin] == majority_value, \"majority\", \"minority\")"
   ]
  },
  {
   "cell_type": "code",
   "execution_count": 73,
   "id": "06a50de5",
   "metadata": {
    "execution": {
     "iopub.execute_input": "2025-07-30T13:28:53.586015Z",
     "iopub.status.busy": "2025-07-30T13:28:53.585083Z",
     "iopub.status.idle": "2025-07-30T13:28:56.302820Z",
     "shell.execute_reply": "2025-07-30T13:28:56.301937Z"
    },
    "papermill": {
     "duration": 2.743595,
     "end_time": "2025-07-30T13:28:56.304809",
     "exception": false,
     "start_time": "2025-07-30T13:28:53.561214",
     "status": "completed"
    },
    "tags": []
   },
   "outputs": [],
   "source": [
    "example_universe = universe.copy()\n",
    "example_universe[\"cutoff\"] = example_universe[\"cutoff\"][0]\n",
    "example_universe[\"eval_fairness_grouping\"] = example_universe[\"eval_fairness_grouping\"][0]\n",
    "fairness_dict, metric_frame = universe_analysis.compute_metrics(\n",
    "    example_universe,\n",
    "    y_pred_prob=probs_test,\n",
    "    y_test=y_true,\n",
    "    org_test=org_test,\n",
    ")"
   ]
  },
  {
   "cell_type": "markdown",
   "id": "f95d4e02",
   "metadata": {
    "papermill": {
     "duration": 0.02645,
     "end_time": "2025-07-30T13:28:56.356625",
     "exception": false,
     "start_time": "2025-07-30T13:28:56.330175",
     "status": "completed"
    },
    "tags": []
   },
   "source": [
    "# Overall"
   ]
  },
  {
   "cell_type": "markdown",
   "id": "bdee4871",
   "metadata": {
    "papermill": {
     "duration": 0.024839,
     "end_time": "2025-07-30T13:28:56.406320",
     "exception": false,
     "start_time": "2025-07-30T13:28:56.381481",
     "status": "completed"
    },
    "tags": []
   },
   "source": [
    "Fairness\n",
    "Main fairness target: Equalized Odds. Seems to be a better fit than equal opportunity, since we're not only interested in Y = 1. Seems to be a better fit than demographic parity, since we also care about accuracy, not just equal distribution of preds.\n",
    "\n",
    "Pick column for computation of fairness metrics\n",
    "\n",
    "Performance\n",
    "Overall performance measures, most interesting in relation to the measures split by group below"
   ]
  },
  {
   "cell_type": "code",
   "execution_count": 74,
   "id": "c4e067c6",
   "metadata": {
    "execution": {
     "iopub.execute_input": "2025-07-30T13:28:56.459185Z",
     "iopub.status.busy": "2025-07-30T13:28:56.458198Z",
     "iopub.status.idle": "2025-07-30T13:28:56.466977Z",
     "shell.execute_reply": "2025-07-30T13:28:56.465916Z"
    },
    "papermill": {
     "duration": 0.036822,
     "end_time": "2025-07-30T13:28:56.468624",
     "exception": false,
     "start_time": "2025-07-30T13:28:56.431802",
     "status": "completed"
    },
    "tags": []
   },
   "outputs": [
    {
     "data": {
      "text/plain": [
       "accuracy                   0.225605\n",
       "balanced accuracy          0.551377\n",
       "f1                         0.246902\n",
       "precision                  0.141047\n",
       "false positive rate        0.886819\n",
       "false negative rate        0.010428\n",
       "selection rate             0.900000\n",
       "count                  89710.000000\n",
       "dtype: float64"
      ]
     },
     "execution_count": 74,
     "metadata": {},
     "output_type": "execute_result"
    }
   ],
   "source": [
    "metric_frame.overall"
   ]
  },
  {
   "cell_type": "markdown",
   "id": "e968fe9d",
   "metadata": {
    "papermill": {
     "duration": 0.025002,
     "end_time": "2025-07-30T13:28:56.520241",
     "exception": false,
     "start_time": "2025-07-30T13:28:56.495239",
     "status": "completed"
    },
    "tags": []
   },
   "source": [
    "By Group"
   ]
  },
  {
   "cell_type": "code",
   "execution_count": 75,
   "id": "ec325bce",
   "metadata": {
    "execution": {
     "iopub.execute_input": "2025-07-30T13:28:56.573399Z",
     "iopub.status.busy": "2025-07-30T13:28:56.572736Z",
     "iopub.status.idle": "2025-07-30T13:28:56.590511Z",
     "shell.execute_reply": "2025-07-30T13:28:56.589696Z"
    },
    "papermill": {
     "duration": 0.047969,
     "end_time": "2025-07-30T13:28:56.594349",
     "exception": false,
     "start_time": "2025-07-30T13:28:56.546380",
     "status": "completed"
    },
    "tags": []
   },
   "outputs": [
    {
     "data": {
      "text/html": [
       "<div>\n",
       "<style scoped>\n",
       "    .dataframe tbody tr th:only-of-type {\n",
       "        vertical-align: middle;\n",
       "    }\n",
       "\n",
       "    .dataframe tbody tr th {\n",
       "        vertical-align: top;\n",
       "    }\n",
       "\n",
       "    .dataframe thead th {\n",
       "        text-align: right;\n",
       "    }\n",
       "</style>\n",
       "<table border=\"1\" class=\"dataframe\">\n",
       "  <thead>\n",
       "    <tr style=\"text-align: right;\">\n",
       "      <th></th>\n",
       "      <th>accuracy</th>\n",
       "      <th>balanced accuracy</th>\n",
       "      <th>f1</th>\n",
       "      <th>precision</th>\n",
       "      <th>false positive rate</th>\n",
       "      <th>false negative rate</th>\n",
       "      <th>selection rate</th>\n",
       "      <th>count</th>\n",
       "    </tr>\n",
       "    <tr>\n",
       "      <th>majmin</th>\n",
       "      <th></th>\n",
       "      <th></th>\n",
       "      <th></th>\n",
       "      <th></th>\n",
       "      <th></th>\n",
       "      <th></th>\n",
       "      <th></th>\n",
       "      <th></th>\n",
       "    </tr>\n",
       "  </thead>\n",
       "  <tbody>\n",
       "    <tr>\n",
       "      <th>majority</th>\n",
       "      <td>0.247810</td>\n",
       "      <td>0.561911</td>\n",
       "      <td>0.257842</td>\n",
       "      <td>0.148249</td>\n",
       "      <td>0.865017</td>\n",
       "      <td>0.011160</td>\n",
       "      <td>0.881379</td>\n",
       "      <td>69170.0</td>\n",
       "    </tr>\n",
       "    <tr>\n",
       "      <th>minority</th>\n",
       "      <td>0.150828</td>\n",
       "      <td>0.516780</td>\n",
       "      <td>0.212266</td>\n",
       "      <td>0.118843</td>\n",
       "      <td>0.958838</td>\n",
       "      <td>0.007601</td>\n",
       "      <td>0.962707</td>\n",
       "      <td>20540.0</td>\n",
       "    </tr>\n",
       "  </tbody>\n",
       "</table>\n",
       "</div>"
      ],
      "text/plain": [
       "          accuracy  balanced accuracy        f1  precision  \\\n",
       "majmin                                                       \n",
       "majority  0.247810           0.561911  0.257842   0.148249   \n",
       "minority  0.150828           0.516780  0.212266   0.118843   \n",
       "\n",
       "          false positive rate  false negative rate  selection rate    count  \n",
       "majmin                                                                       \n",
       "majority             0.865017             0.011160        0.881379  69170.0  \n",
       "minority             0.958838             0.007601        0.962707  20540.0  "
      ]
     },
     "execution_count": 75,
     "metadata": {},
     "output_type": "execute_result"
    }
   ],
   "source": [
    "metric_frame.by_group"
   ]
  },
  {
   "cell_type": "code",
   "execution_count": 76,
   "id": "a9ddbe63",
   "metadata": {
    "execution": {
     "iopub.execute_input": "2025-07-30T13:28:56.649490Z",
     "iopub.status.busy": "2025-07-30T13:28:56.649035Z",
     "iopub.status.idle": "2025-07-30T13:28:58.959634Z",
     "shell.execute_reply": "2025-07-30T13:28:58.958660Z"
    },
    "papermill": {
     "duration": 2.340274,
     "end_time": "2025-07-30T13:28:58.961497",
     "exception": false,
     "start_time": "2025-07-30T13:28:56.621223",
     "status": "completed"
    },
    "tags": []
   },
   "outputs": [
    {
     "data": {
      "text/plain": [
       "array([[<Axes: title={'center': 'accuracy'}, xlabel='majmin'>,\n",
       "        <Axes: title={'center': 'balanced accuracy'}, xlabel='majmin'>,\n",
       "        <Axes: title={'center': 'f1'}, xlabel='majmin'>],\n",
       "       [<Axes: title={'center': 'precision'}, xlabel='majmin'>,\n",
       "        <Axes: title={'center': 'false positive rate'}, xlabel='majmin'>,\n",
       "        <Axes: title={'center': 'false negative rate'}, xlabel='majmin'>],\n",
       "       [<Axes: title={'center': 'selection rate'}, xlabel='majmin'>,\n",
       "        <Axes: title={'center': 'count'}, xlabel='majmin'>,\n",
       "        <Axes: xlabel='majmin'>]], dtype=object)"
      ]
     },
     "execution_count": 76,
     "metadata": {},
     "output_type": "execute_result"
    },
    {
     "data": {
      "image/png": "[encoded data removed]",
      "text/plain": [
       "<Figure size 1200x800 with 9 Axes>"
      ]
     },
     "metadata": {},
     "output_type": "display_data"
    }
   ],
   "source": [
    "# In a graphic\n",
    "metric_frame.by_group.plot.bar(\n",
    "    subplots=True,\n",
    "    layout=[3, 3],\n",
    "    legend=False,\n",
    "    figsize=[12, 8],\n",
    "    title=\"Show all metrics\",\n",
    ")"
   ]
  },
  {
   "cell_type": "markdown",
   "id": "f57a0bac",
   "metadata": {
    "papermill": {
     "duration": 0.026832,
     "end_time": "2025-07-30T13:28:59.016962",
     "exception": false,
     "start_time": "2025-07-30T13:28:58.990130",
     "status": "completed"
    },
    "tags": []
   },
   "source": [
    "# Final Output"
   ]
  },
  {
   "cell_type": "code",
   "execution_count": 77,
   "id": "96d280a3",
   "metadata": {
    "execution": {
     "iopub.execute_input": "2025-07-30T13:28:59.072508Z",
     "iopub.status.busy": "2025-07-30T13:28:59.071820Z",
     "iopub.status.idle": "2025-07-30T13:28:59.080373Z",
     "shell.execute_reply": "2025-07-30T13:28:59.079406Z"
    },
    "papermill": {
     "duration": 0.038052,
     "end_time": "2025-07-30T13:28:59.081887",
     "exception": false,
     "start_time": "2025-07-30T13:28:59.043835",
     "status": "completed"
    },
    "tags": []
   },
   "outputs": [
    {
     "data": {
      "text/plain": [
       "4"
      ]
     },
     "execution_count": 77,
     "metadata": {},
     "output_type": "execute_result"
    }
   ],
   "source": [
    "sub_universes = universe_analysis.generate_sub_universes()\n",
    "len(sub_universes)"
   ]
  },
  {
   "cell_type": "code",
   "execution_count": 78,
   "id": "92adf7ba",
   "metadata": {
    "execution": {
     "iopub.execute_input": "2025-07-30T13:28:59.138028Z",
     "iopub.status.busy": "2025-07-30T13:28:59.137125Z",
     "iopub.status.idle": "2025-07-30T13:28:59.143845Z",
     "shell.execute_reply": "2025-07-30T13:28:59.142988Z"
    },
    "papermill": {
     "duration": 0.036364,
     "end_time": "2025-07-30T13:28:59.145424",
     "exception": false,
     "start_time": "2025-07-30T13:28:59.109060",
     "status": "completed"
    },
    "tags": []
   },
   "outputs": [],
   "source": [
    "def filter_sub_universe_data(sub_universe, org_test):\n",
    "    # Keep all rows — no filtering\n",
    "    keep_rows_mask = np.ones(org_test.shape[0], dtype=bool)\n",
    "\n",
    "    print(f\"[INFO] Keeping all rows: {keep_rows_mask.sum()} rows retained.\")\n",
    "    return keep_rows_mask"
   ]
  },
  {
   "cell_type": "code",
   "execution_count": 79,
   "id": "4a759155",
   "metadata": {
    "execution": {
     "iopub.execute_input": "2025-07-30T13:28:59.202097Z",
     "iopub.status.busy": "2025-07-30T13:28:59.201257Z",
     "iopub.status.idle": "2025-07-30T13:29:08.261033Z",
     "shell.execute_reply": "2025-07-30T13:29:08.260256Z"
    },
    "papermill": {
     "duration": 9.089072,
     "end_time": "2025-07-30T13:29:08.262309",
     "exception": false,
     "start_time": "2025-07-30T13:28:59.173237",
     "status": "completed"
    },
    "tags": []
   },
   "outputs": [
    {
     "name": "stdout",
     "output_type": "stream",
     "text": [
      "Stopping execution_time clock.\n",
      "[INFO] Keeping all rows: 89710 rows retained.\n"
     ]
    },
    {
     "name": "stdout",
     "output_type": "stream",
     "text": [
      "[INFO] Keeping all rows: 89710 rows retained.\n"
     ]
    },
    {
     "name": "stdout",
     "output_type": "stream",
     "text": [
      "[INFO] Keeping all rows: 89710 rows retained.\n"
     ]
    },
    {
     "name": "stdout",
     "output_type": "stream",
     "text": [
      "[INFO] Keeping all rows: 89710 rows retained.\n"
     ]
    },
    {
     "data": {
      "text/html": [
       "<div>\n",
       "<style scoped>\n",
       "    .dataframe tbody tr th:only-of-type {\n",
       "        vertical-align: middle;\n",
       "    }\n",
       "\n",
       "    .dataframe tbody tr th {\n",
       "        vertical-align: top;\n",
       "    }\n",
       "\n",
       "    .dataframe thead th {\n",
       "        text-align: right;\n",
       "    }\n",
       "</style>\n",
       "<table border=\"1\" class=\"dataframe\">\n",
       "  <thead>\n",
       "    <tr style=\"text-align: right;\">\n",
       "      <th></th>\n",
       "      <th>run_no</th>\n",
       "      <th>universe_id</th>\n",
       "      <th>universe_settings</th>\n",
       "      <th>execution_time</th>\n",
       "      <th>test_size_n</th>\n",
       "      <th>test_size_frac</th>\n",
       "      <th>fair_main_equalized_odds_difference</th>\n",
       "      <th>fair_main_equalized_odds_ratio</th>\n",
       "      <th>fair_main_demographic_parity_difference</th>\n",
       "      <th>fair_main_demographic_parity_ratio</th>\n",
       "      <th>...</th>\n",
       "      <th>perf_grp_precision_0</th>\n",
       "      <th>perf_grp_precision_1</th>\n",
       "      <th>perf_grp_false positive rate_0</th>\n",
       "      <th>perf_grp_false positive rate_1</th>\n",
       "      <th>perf_grp_false negative rate_0</th>\n",
       "      <th>perf_grp_false negative rate_1</th>\n",
       "      <th>perf_grp_selection rate_0</th>\n",
       "      <th>perf_grp_selection rate_1</th>\n",
       "      <th>perf_grp_count_0</th>\n",
       "      <th>perf_grp_count_1</th>\n",
       "    </tr>\n",
       "  </thead>\n",
       "  <tbody>\n",
       "    <tr>\n",
       "      <th>0</th>\n",
       "      <td>12</td>\n",
       "      <td>1ea6288425370dde7fef0a29257557cd</td>\n",
       "      <td>{\"cutoff\": \"quantile_0.1\", \"eval_fairness_grou...</td>\n",
       "      <td>44.19803</td>\n",
       "      <td>89710</td>\n",
       "      <td>1.0</td>\n",
       "      <td>0.093820</td>\n",
       "      <td>0.902152</td>\n",
       "      <td>0.081328</td>\n",
       "      <td>0.915522</td>\n",
       "      <td>...</td>\n",
       "      <td>NaN</td>\n",
       "      <td>NaN</td>\n",
       "      <td>NaN</td>\n",
       "      <td>NaN</td>\n",
       "      <td>NaN</td>\n",
       "      <td>NaN</td>\n",
       "      <td>NaN</td>\n",
       "      <td>NaN</td>\n",
       "      <td>NaN</td>\n",
       "      <td>NaN</td>\n",
       "    </tr>\n",
       "    <tr>\n",
       "      <th>0</th>\n",
       "      <td>12</td>\n",
       "      <td>1ea6288425370dde7fef0a29257557cd</td>\n",
       "      <td>{\"cutoff\": \"quantile_0.1\", \"eval_fairness_grou...</td>\n",
       "      <td>44.19803</td>\n",
       "      <td>89710</td>\n",
       "      <td>1.0</td>\n",
       "      <td>0.093820</td>\n",
       "      <td>0.902152</td>\n",
       "      <td>0.081328</td>\n",
       "      <td>0.915522</td>\n",
       "      <td>...</td>\n",
       "      <td>0.118843</td>\n",
       "      <td>0.148249</td>\n",
       "      <td>0.958838</td>\n",
       "      <td>0.865017</td>\n",
       "      <td>0.007601</td>\n",
       "      <td>0.011160</td>\n",
       "      <td>0.962707</td>\n",
       "      <td>0.881379</td>\n",
       "      <td>20540.0</td>\n",
       "      <td>69170.0</td>\n",
       "    </tr>\n",
       "    <tr>\n",
       "      <th>0</th>\n",
       "      <td>12</td>\n",
       "      <td>1ea6288425370dde7fef0a29257557cd</td>\n",
       "      <td>{\"cutoff\": \"quantile_0.25\", \"eval_fairness_gro...</td>\n",
       "      <td>44.19803</td>\n",
       "      <td>89710</td>\n",
       "      <td>1.0</td>\n",
       "      <td>0.171659</td>\n",
       "      <td>0.798555</td>\n",
       "      <td>0.149340</td>\n",
       "      <td>0.827381</td>\n",
       "      <td>...</td>\n",
       "      <td>NaN</td>\n",
       "      <td>NaN</td>\n",
       "      <td>NaN</td>\n",
       "      <td>NaN</td>\n",
       "      <td>NaN</td>\n",
       "      <td>NaN</td>\n",
       "      <td>NaN</td>\n",
       "      <td>NaN</td>\n",
       "      <td>NaN</td>\n",
       "      <td>NaN</td>\n",
       "    </tr>\n",
       "    <tr>\n",
       "      <th>0</th>\n",
       "      <td>12</td>\n",
       "      <td>1ea6288425370dde7fef0a29257557cd</td>\n",
       "      <td>{\"cutoff\": \"quantile_0.25\", \"eval_fairness_gro...</td>\n",
       "      <td>44.19803</td>\n",
       "      <td>89710</td>\n",
       "      <td>1.0</td>\n",
       "      <td>0.171659</td>\n",
       "      <td>0.798555</td>\n",
       "      <td>0.149340</td>\n",
       "      <td>0.827381</td>\n",
       "      <td>...</td>\n",
       "      <td>0.128588</td>\n",
       "      <td>0.174968</td>\n",
       "      <td>0.852135</td>\n",
       "      <td>0.680476</td>\n",
       "      <td>0.035051</td>\n",
       "      <td>0.052188</td>\n",
       "      <td>0.865141</td>\n",
       "      <td>0.715802</td>\n",
       "      <td>20540.0</td>\n",
       "      <td>69170.0</td>\n",
       "    </tr>\n",
       "  </tbody>\n",
       "</table>\n",
       "<p>4 rows × 50 columns</p>\n",
       "</div>"
      ],
      "text/plain": [
       "  run_no                       universe_id  \\\n",
       "0     12  1ea6288425370dde7fef0a29257557cd   \n",
       "0     12  1ea6288425370dde7fef0a29257557cd   \n",
       "0     12  1ea6288425370dde7fef0a29257557cd   \n",
       "0     12  1ea6288425370dde7fef0a29257557cd   \n",
       "\n",
       "                                   universe_settings  execution_time  \\\n",
       "0  {\"cutoff\": \"quantile_0.1\", \"eval_fairness_grou...        44.19803   \n",
       "0  {\"cutoff\": \"quantile_0.1\", \"eval_fairness_grou...        44.19803   \n",
       "0  {\"cutoff\": \"quantile_0.25\", \"eval_fairness_gro...        44.19803   \n",
       "0  {\"cutoff\": \"quantile_0.25\", \"eval_fairness_gro...        44.19803   \n",
       "\n",
       "   test_size_n  test_size_frac  fair_main_equalized_odds_difference  \\\n",
       "0        89710             1.0                             0.093820   \n",
       "0        89710             1.0                             0.093820   \n",
       "0        89710             1.0                             0.171659   \n",
       "0        89710             1.0                             0.171659   \n",
       "\n",
       "   fair_main_equalized_odds_ratio  fair_main_demographic_parity_difference  \\\n",
       "0                        0.902152                                 0.081328   \n",
       "0                        0.902152                                 0.081328   \n",
       "0                        0.798555                                 0.149340   \n",
       "0                        0.798555                                 0.149340   \n",
       "\n",
       "   fair_main_demographic_parity_ratio  ...  perf_grp_precision_0  \\\n",
       "0                            0.915522  ...                   NaN   \n",
       "0                            0.915522  ...              0.118843   \n",
       "0                            0.827381  ...                   NaN   \n",
       "0                            0.827381  ...              0.128588   \n",
       "\n",
       "   perf_grp_precision_1  perf_grp_false positive rate_0  \\\n",
       "0                   NaN                             NaN   \n",
       "0              0.148249                        0.958838   \n",
       "0                   NaN                             NaN   \n",
       "0              0.174968                        0.852135   \n",
       "\n",
       "   perf_grp_false positive rate_1  perf_grp_false negative rate_0  \\\n",
       "0                             NaN                             NaN   \n",
       "0                        0.865017                        0.007601   \n",
       "0                             NaN                             NaN   \n",
       "0                        0.680476                        0.035051   \n",
       "\n",
       "   perf_grp_false negative rate_1  perf_grp_selection rate_0  \\\n",
       "0                             NaN                        NaN   \n",
       "0                        0.011160                   0.962707   \n",
       "0                             NaN                        NaN   \n",
       "0                        0.052188                   0.865141   \n",
       "\n",
       "   perf_grp_selection rate_1  perf_grp_count_0  perf_grp_count_1  \n",
       "0                        NaN               NaN               NaN  \n",
       "0                   0.881379           20540.0           69170.0  \n",
       "0                        NaN               NaN               NaN  \n",
       "0                   0.715802           20540.0           69170.0  \n",
       "\n",
       "[4 rows x 50 columns]"
      ]
     },
     "execution_count": 79,
     "metadata": {},
     "output_type": "execute_result"
    }
   ],
   "source": [
    "final_output = universe_analysis.generate_final_output(\n",
    "    y_pred_prob=probs_test,\n",
    "    y_test=y_true,\n",
    "    org_test=org_test,\n",
    "    filter_data=filter_sub_universe_data,\n",
    "    cp_metrics_df=cp_metrics_df,\n",
    "    save=True,\n",
    ")\n",
    "final_output"
   ]
  },
  {
   "cell_type": "code",
   "execution_count": null,
   "id": "721ff514-cb11-46f8-b6fc-50392f74b5cb",
   "metadata": {
    "papermill": {
     "duration": 0.015777,
     "end_time": "2025-07-30T13:29:08.296907",
     "exception": false,
     "start_time": "2025-07-30T13:29:08.281130",
     "status": "completed"
    },
    "tags": []
   },
   "outputs": [],
   "source": []
  }
 ],
 "metadata": {
  "celltoolbar": "Tags",
  "kernelspec": {
   "display_name": "Python (CMA Fairness)",
   "language": "python",
   "name": "cma_fair_env"
  },
  "language_info": {
   "codemirror_mode": {
    "name": "ipython",
    "version": 3
   },
   "file_extension": ".py",
   "mimetype": "text/x-python",
   "name": "python",
   "nbconvert_exporter": "python",
   "pygments_lexer": "ipython3",
   "version": "3.10.12"
  },
  "papermill": {
   "default_parameters": {},
   "duration": 57.120151,
   "end_time": "2025-07-30T13:29:09.029828",
   "environment_variables": {},
   "exception": null,
   "input_path": "universe_analysis.ipynb",
   "output_path": "output/runs/12/notebooks/m_12-1ea6288425370dde7fef0a29257557cd.ipynb",
   "parameters": {
    "output_dir": "output",
    "run_no": "12",
    "seed": "2023",
    "universe": "{\"cutoff\": [\"quantile_0.1\", \"quantile_0.25\"], \"eval_fairness_grouping\": [\"majority-minority\", \"nationality-all\"], \"exclude_features\": \"none\", \"exclude_subgroups\": \"keep-all\", \"model\": \"elasticnet\", \"scale\": \"scale\", \"training_size\": \"25k\", \"training_year\": \"2010_14\"}",
    "universe_id": "1ea6288425370dde7fef0a29257557cd"
   },
   "start_time": "2025-07-30T13:28:11.909677",
   "version": "2.6.0"
  }
 },
 "nbformat": 4,
 "nbformat_minor": 5
}