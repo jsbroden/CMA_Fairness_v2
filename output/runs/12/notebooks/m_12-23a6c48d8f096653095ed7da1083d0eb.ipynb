{
 "cells": [
  {
   "cell_type": "code",
   "execution_count": 1,
   "id": "f159f837-637b-42ba-96b5-ec9a68c44524",
   "metadata": {
    "execution": {
     "iopub.execute_input": "2025-07-30T12:48:17.846852Z",
     "iopub.status.busy": "2025-07-30T12:48:17.845923Z",
     "iopub.status.idle": "2025-07-30T12:48:17.859797Z",
     "shell.execute_reply": "2025-07-30T12:48:17.858769Z"
    },
    "papermill": {
     "duration": 0.038873,
     "end_time": "2025-07-30T12:48:17.861517",
     "exception": false,
     "start_time": "2025-07-30T12:48:17.822644",
     "status": "completed"
    },
    "tags": []
   },
   "outputs": [
    {
     "name": "stdout",
     "output_type": "stream",
     "text": [
      "/dss/dsshome1/0C/ra93lal2/cma/CMA_Fairness_v2\n"
     ]
    },
    {
     "name": "stderr",
     "output_type": "stream",
     "text": [
      "/dss/dsshome1/0C/ra93lal2/.local/share/virtualenvs/CMA_Fairness_v2-3j10GkSs/lib/python3.10/site-packages/IPython/core/magics/osm.py:393: UserWarning: This is now an optional IPython functionality, using bookmarks requires you to install the `pickleshare` library.\n",
      "  bkms = self.shell.db.get('bookmarks', {})\n",
      "/dss/dsshome1/0C/ra93lal2/.local/share/virtualenvs/CMA_Fairness_v2-3j10GkSs/lib/python3.10/site-packages/IPython/core/magics/osm.py:417: UserWarning: This is now an optional IPython functionality, setting dhist requires you to install the `pickleshare` library.\n",
      "  self.shell.db['dhist'] = compress_dhist(dhist)[-100:]\n"
     ]
    }
   ],
   "source": [
    "%cd ~/cma/CMA_Fairness_v2"
   ]
  },
  {
   "cell_type": "markdown",
   "id": "de2603b9",
   "metadata": {
    "papermill": {
     "duration": 0.021292,
     "end_time": "2025-07-30T12:48:17.904017",
     "exception": false,
     "start_time": "2025-07-30T12:48:17.882725",
     "status": "completed"
    },
    "tags": []
   },
   "source": [
    "The following cell holds the definition of our parameters, these values can be overriden by rendering the with e.g. the following command:\n",
    "\n",
    "papermill -p alpha 0.2 -p ratio 0.3 universe_analysis.ipynb output/test_run.ipynb"
   ]
  },
  {
   "cell_type": "code",
   "execution_count": 2,
   "id": "a80968a0-40bb-4fa9-85ef-2d5eefb01975",
   "metadata": {
    "execution": {
     "iopub.execute_input": "2025-07-30T12:48:18.017682Z",
     "iopub.status.busy": "2025-07-30T12:48:18.016802Z",
     "iopub.status.idle": "2025-07-30T12:48:18.022711Z",
     "shell.execute_reply": "2025-07-30T12:48:18.021782Z"
    },
    "papermill": {
     "duration": 0.028708,
     "end_time": "2025-07-30T12:48:18.024259",
     "exception": false,
     "start_time": "2025-07-30T12:48:17.995551",
     "status": "completed"
    },
    "tags": []
   },
   "outputs": [
    {
     "name": "stdout",
     "output_type": "stream",
     "text": [
      "Current working directory: /dss/dsshome1/0C/ra93lal2/cma/CMA_Fairness_v2\n"
     ]
    }
   ],
   "source": [
    "import os\n",
    "print(\"Current working directory:\", os.getcwd())"
   ]
  },
  {
   "cell_type": "code",
   "execution_count": 3,
   "id": "2dce4c03",
   "metadata": {
    "execution": {
     "iopub.execute_input": "2025-07-30T12:48:18.068230Z",
     "iopub.status.busy": "2025-07-30T12:48:18.067652Z",
     "iopub.status.idle": "2025-07-30T12:48:18.074315Z",
     "shell.execute_reply": "2025-07-30T12:48:18.073416Z"
    },
    "papermill": {
     "duration": 0.029849,
     "end_time": "2025-07-30T12:48:18.075772",
     "exception": false,
     "start_time": "2025-07-30T12:48:18.045923",
     "status": "completed"
    },
    "tags": [
     "parameters"
    ]
   },
   "outputs": [],
   "source": [
    "run_no = 0\n",
    "universe_id = \"test\"\n",
    "universe = {\n",
    "    \"training_size\": \"25k\", # \"25k\", \"5k\", \"1k\"\n",
    "    \"training_year\": \"2014\", # \"2014\", \"2012_14\", \"2010_14\"\n",
    "    \"scale\": \"scale\", # \"scale\", \"do-not-scale\",\n",
    "    #\"stratify_split\": \"target\", # \"none\", \"target\", \"protected-attribute\", \"both\",\n",
    "    \"model\": \"elasticnet\", # \"logreg\", \"penalized_logreg\", \"rf\", \"gbm\", \"elasticnet\"\n",
    "    \"cutoff\": [\"quantile_0.15\", \"quantile_0.30\"],\n",
    "    \"exclude_features\": \"age\", # \"none\", \"nationality\", \"sex\", \"nationality-sex\", \"age\"\n",
    "    \"exclude_subgroups\": \"keep-all\", # \"keep-all\", \"drop-non-german\"\n",
    "    \"eval_fairness_grouping\": [\"majority-minority\", \"nationality-all\"]\n",
    "}\n",
    "\n",
    "output_dir=\"./output\"\n",
    "seed=0"
   ]
  },
  {
   "cell_type": "code",
   "execution_count": 4,
   "id": "a7716bd5",
   "metadata": {
    "execution": {
     "iopub.execute_input": "2025-07-30T12:48:18.099528Z",
     "iopub.status.busy": "2025-07-30T12:48:18.099069Z",
     "iopub.status.idle": "2025-07-30T12:48:18.103839Z",
     "shell.execute_reply": "2025-07-30T12:48:18.103138Z"
    },
    "papermill": {
     "duration": 0.01756,
     "end_time": "2025-07-30T12:48:18.105166",
     "exception": false,
     "start_time": "2025-07-30T12:48:18.087606",
     "status": "completed"
    },
    "tags": [
     "injected-parameters"
    ]
   },
   "outputs": [],
   "source": [
    "# Parameters\n",
    "universe_id = \"23a6c48d8f096653095ed7da1083d0eb\"\n",
    "run_no = \"12\"\n",
    "universe = \"{\\\"cutoff\\\": [\\\"quantile_0.1\\\", \\\"quantile_0.25\\\"], \\\"eval_fairness_grouping\\\": [\\\"majority-minority\\\", \\\"nationality-all\\\"], \\\"exclude_features\\\": \\\"nationality-sex\\\", \\\"exclude_subgroups\\\": \\\"keep-all\\\", \\\"model\\\": \\\"rf\\\", \\\"scale\\\": \\\"scale\\\", \\\"training_size\\\": \\\"25k\\\", \\\"training_year\\\": \\\"2014\\\"}\"\n",
    "output_dir = \"output\"\n",
    "seed = \"2023\"\n"
   ]
  },
  {
   "cell_type": "code",
   "execution_count": 5,
   "id": "1650acaf",
   "metadata": {
    "execution": {
     "iopub.execute_input": "2025-07-30T12:48:18.129366Z",
     "iopub.status.busy": "2025-07-30T12:48:18.128481Z",
     "iopub.status.idle": "2025-07-30T12:48:18.133319Z",
     "shell.execute_reply": "2025-07-30T12:48:18.132403Z"
    },
    "papermill": {
     "duration": 0.017714,
     "end_time": "2025-07-30T12:48:18.134708",
     "exception": false,
     "start_time": "2025-07-30T12:48:18.116994",
     "status": "completed"
    },
    "tags": []
   },
   "outputs": [],
   "source": [
    "import json\n",
    "# Parse universe into dict if it is passed as a string\n",
    "if isinstance(universe, str):\n",
    "    universe = json.loads(universe)"
   ]
  },
  {
   "cell_type": "code",
   "execution_count": 6,
   "id": "16620c48",
   "metadata": {
    "execution": {
     "iopub.execute_input": "2025-07-30T12:48:18.158734Z",
     "iopub.status.busy": "2025-07-30T12:48:18.158253Z",
     "iopub.status.idle": "2025-07-30T12:48:18.189911Z",
     "shell.execute_reply": "2025-07-30T12:48:18.189121Z"
    },
    "papermill": {
     "duration": 0.044812,
     "end_time": "2025-07-30T12:48:18.191325",
     "exception": false,
     "start_time": "2025-07-30T12:48:18.146513",
     "status": "completed"
    },
    "tags": []
   },
   "outputs": [],
   "source": [
    "# Auto-reload the custom package\n",
    "%load_ext autoreload\n",
    "%autoreload 1\n",
    "%aimport fairness_multiverse"
   ]
  },
  {
   "cell_type": "code",
   "execution_count": 7,
   "id": "01c5c9f3",
   "metadata": {
    "execution": {
     "iopub.execute_input": "2025-07-30T12:48:18.214719Z",
     "iopub.status.busy": "2025-07-30T12:48:18.213946Z",
     "iopub.status.idle": "2025-07-30T12:48:19.980330Z",
     "shell.execute_reply": "2025-07-30T12:48:19.979234Z"
    },
    "papermill": {
     "duration": 1.779619,
     "end_time": "2025-07-30T12:48:19.982324",
     "exception": false,
     "start_time": "2025-07-30T12:48:18.202705",
     "status": "completed"
    },
    "tags": []
   },
   "outputs": [],
   "source": [
    "from fairness_multiverse.universe import UniverseAnalysis\n",
    "\n",
    "universe_analysis = UniverseAnalysis(\n",
    "    run_no = run_no,\n",
    "    universe_id = universe_id,\n",
    "    universe = universe,\n",
    "    output_dir=output_dir,\n",
    ")"
   ]
  },
  {
   "cell_type": "code",
   "execution_count": 8,
   "id": "106241f5",
   "metadata": {
    "execution": {
     "iopub.execute_input": "2025-07-30T12:48:20.027946Z",
     "iopub.status.busy": "2025-07-30T12:48:20.027270Z",
     "iopub.status.idle": "2025-07-30T12:48:20.034332Z",
     "shell.execute_reply": "2025-07-30T12:48:20.033317Z"
    },
    "papermill": {
     "duration": 0.030197,
     "end_time": "2025-07-30T12:48:20.035971",
     "exception": false,
     "start_time": "2025-07-30T12:48:20.005774",
     "status": "completed"
    },
    "tags": []
   },
   "outputs": [
    {
     "name": "stdout",
     "output_type": "stream",
     "text": [
      "Using Seed: 2023\n"
     ]
    }
   ],
   "source": [
    "import numpy as np\n",
    "parsed_seed = int(seed)\n",
    "np.random.seed(parsed_seed)\n",
    "print(f\"Using Seed: {parsed_seed}\")"
   ]
  },
  {
   "cell_type": "markdown",
   "id": "e0ebdc57",
   "metadata": {
    "papermill": {
     "duration": 0.020455,
     "end_time": "2025-07-30T12:48:20.077807",
     "exception": false,
     "start_time": "2025-07-30T12:48:20.057352",
     "status": "completed"
    },
    "tags": []
   },
   "source": [
    "# Loading Data"
   ]
  },
  {
   "cell_type": "markdown",
   "id": "681925a3",
   "metadata": {
    "papermill": {
     "duration": 0.020302,
     "end_time": "2025-07-30T12:48:20.117814",
     "exception": false,
     "start_time": "2025-07-30T12:48:20.097512",
     "status": "completed"
    },
    "tags": []
   },
   "source": [
    "Load siab_train, siab_test, siab_calib and/or \n",
    "load siab_train_features, siab_train_labels"
   ]
  },
  {
   "cell_type": "code",
   "execution_count": 9,
   "id": "f0496b8a",
   "metadata": {
    "execution": {
     "iopub.execute_input": "2025-07-30T12:48:20.160477Z",
     "iopub.status.busy": "2025-07-30T12:48:20.159705Z",
     "iopub.status.idle": "2025-07-30T12:48:36.861582Z",
     "shell.execute_reply": "2025-07-30T12:48:36.860137Z"
    },
    "papermill": {
     "duration": 16.725311,
     "end_time": "2025-07-30T12:48:36.863663",
     "exception": false,
     "start_time": "2025-07-30T12:48:20.138352",
     "status": "completed"
    },
    "tags": []
   },
   "outputs": [
    {
     "name": "stdout",
     "output_type": "stream",
     "text": [
      "Loading SIAB data from cache: data/siab_cached.csv.gz\n"
     ]
    },
    {
     "name": "stdout",
     "output_type": "stream",
     "text": [
      "(643690, 164)\n"
     ]
    }
   ],
   "source": [
    "from pathlib import Path\n",
    "import pandas as pd\n",
    "\n",
    "# File paths\n",
    "raw_file = Path(\"data/raw/siab.csv\")\n",
    "cache_file = Path(\"data/siab_cached.csv.gz\")\n",
    "\n",
    "# Ensure cache directory exists\n",
    "cache_file.parent.mkdir(parents=True, exist_ok=True)\n",
    "\n",
    "# Load with simple caching\n",
    "if cache_file.exists():\n",
    "    print(f\"Loading SIAB data from cache: {cache_file}\")\n",
    "    siab = pd.read_csv(cache_file, compression='gzip')\n",
    "else:\n",
    "    print(f\"Cache not found. Reading raw SIAB data: {raw_file}\")\n",
    "    siab = pd.read_csv(raw_file)\n",
    "    siab.to_csv(cache_file, index=False, compression='gzip')\n",
    "    print(f\"Cached SIAB data to: {cache_file}\")\n",
    "\n",
    "# Now use `siab` DataFrame as needed\n",
    "print(siab.shape)"
   ]
  },
  {
   "cell_type": "code",
   "execution_count": 10,
   "id": "db0ca512-5f53-4dba-abdb-a2888bca41ba",
   "metadata": {
    "execution": {
     "iopub.execute_input": "2025-07-30T12:48:36.989232Z",
     "iopub.status.busy": "2025-07-30T12:48:36.988781Z",
     "iopub.status.idle": "2025-07-30T12:48:36.995315Z",
     "shell.execute_reply": "2025-07-30T12:48:36.994411Z"
    },
    "papermill": {
     "duration": 0.078047,
     "end_time": "2025-07-30T12:48:36.998524",
     "exception": false,
     "start_time": "2025-07-30T12:48:36.920477",
     "status": "completed"
    },
    "tags": []
   },
   "outputs": [],
   "source": [
    "#siab"
   ]
  },
  {
   "cell_type": "code",
   "execution_count": 11,
   "id": "a0edb063",
   "metadata": {
    "execution": {
     "iopub.execute_input": "2025-07-30T12:48:37.092650Z",
     "iopub.status.busy": "2025-07-30T12:48:37.092228Z",
     "iopub.status.idle": "2025-07-30T12:48:37.097673Z",
     "shell.execute_reply": "2025-07-30T12:48:37.096792Z"
    },
    "papermill": {
     "duration": 0.069026,
     "end_time": "2025-07-30T12:48:37.101371",
     "exception": false,
     "start_time": "2025-07-30T12:48:37.032345",
     "status": "completed"
    },
    "tags": []
   },
   "outputs": [],
   "source": [
    "#import pandas as pd\n",
    "#\n",
    "#X_train = pd.read_csv(\"./data/X_train.csv\")\n",
    "#y_train = pd.read_csv(\"./data/y_train.csv\")"
   ]
  },
  {
   "cell_type": "code",
   "execution_count": 12,
   "id": "63d08085",
   "metadata": {
    "execution": {
     "iopub.execute_input": "2025-07-30T12:48:37.184717Z",
     "iopub.status.busy": "2025-07-30T12:48:37.184184Z",
     "iopub.status.idle": "2025-07-30T12:48:37.189590Z",
     "shell.execute_reply": "2025-07-30T12:48:37.188595Z"
    },
    "papermill": {
     "duration": 0.067656,
     "end_time": "2025-07-30T12:48:37.192313",
     "exception": false,
     "start_time": "2025-07-30T12:48:37.124657",
     "status": "completed"
    },
    "tags": []
   },
   "outputs": [],
   "source": [
    "#X_test = pd.read_csv(\"./data/X_test.csv\")\n",
    "#y_true = pd.read_csv(\"./data/y_test.csv\")"
   ]
  },
  {
   "cell_type": "code",
   "execution_count": 13,
   "id": "98a8d0fa-1d3d-4ed8-bb2c-281470e24add",
   "metadata": {
    "execution": {
     "iopub.execute_input": "2025-07-30T12:48:37.414308Z",
     "iopub.status.busy": "2025-07-30T12:48:37.413870Z",
     "iopub.status.idle": "2025-07-30T12:48:37.419736Z",
     "shell.execute_reply": "2025-07-30T12:48:37.418715Z"
    },
    "papermill": {
     "duration": 0.123041,
     "end_time": "2025-07-30T12:48:37.423229",
     "exception": false,
     "start_time": "2025-07-30T12:48:37.300188",
     "status": "completed"
    },
    "tags": []
   },
   "outputs": [],
   "source": [
    "# Calibration data for conformal\n",
    "#X_calib = pd.read_csv(\"./data/X_calib.csv\")\n",
    "#y_calib = pd.read_csv(\"./data/y_calib.csv\")"
   ]
  },
  {
   "cell_type": "markdown",
   "id": "997051c5-15bd-4b69-9786-c3001a3ce484",
   "metadata": {
    "papermill": {
     "duration": 0.08817,
     "end_time": "2025-07-30T12:48:37.640334",
     "exception": false,
     "start_time": "2025-07-30T12:48:37.552164",
     "status": "completed"
    },
    "tags": []
   },
   "source": [
    "# Splitting Data and Setting Training Data Size"
   ]
  },
  {
   "cell_type": "code",
   "execution_count": 14,
   "id": "e993b61f-042d-41a6-8c81-f55681f86335",
   "metadata": {
    "execution": {
     "iopub.execute_input": "2025-07-30T12:48:37.870363Z",
     "iopub.status.busy": "2025-07-30T12:48:37.869944Z",
     "iopub.status.idle": "2025-07-30T12:48:37.887871Z",
     "shell.execute_reply": "2025-07-30T12:48:37.886510Z"
    },
    "papermill": {
     "duration": 0.133618,
     "end_time": "2025-07-30T12:48:37.889785",
     "exception": false,
     "start_time": "2025-07-30T12:48:37.756167",
     "status": "completed"
    },
    "tags": []
   },
   "outputs": [],
   "source": [
    "def sample_by_year_size(df,\n",
    "                        training_year: str,\n",
    "                        training_size: str,\n",
    "                        random_state: int = 42):\n",
    "    # --- parse training_year into a list of int years ---\n",
    "    if \"_\" in training_year:\n",
    "        start_str, end_str = training_year.split(\"_\", 1)\n",
    "        start = int(start_str)\n",
    "        end   = int(end_str) if len(end_str) == 4 else (int(end_str) + (start // 100)*100)\n",
    "        years = list(range(start, end + 1))\n",
    "    else:\n",
    "        years = [int(training_year)]\n",
    "\n",
    "    df = df[df[\"year\"].isin(years)].reset_index(drop=True)\n",
    "\n",
    "    # --- map training_size to total number of samples ---\n",
    "    total_map = {\"25k\": 25_000, \"5k\": 5_000, \"1k\": 1_000}\n",
    "    if training_size not in total_map:\n",
    "        return df  # e.g. \"all\"\n",
    "\n",
    "    total_samples = total_map[training_size]\n",
    "    n_years       = len(years)\n",
    "    base          = total_samples // n_years\n",
    "    remainder     = total_samples % n_years\n",
    "\n",
    "    # --- build a dict: year -> how many to sample ---\n",
    "    # give +1 to the first `remainder` years in ascending order\n",
    "    quotas = {\n",
    "        year: base + (1 if idx < remainder else 0)\n",
    "        for idx, year in enumerate(sorted(years))\n",
    "    }\n",
    "\n",
    "    # --- sample per‐year according to the quota dict ---\n",
    "    sampled = (\n",
    "        df\n",
    "        .groupby(\"year\", group_keys=False)\n",
    "        .apply(lambda grp: grp.sample(\n",
    "            n=min(len(grp), quotas[grp.name]),\n",
    "            random_state=random_state))\n",
    "        .reset_index(drop=True)\n",
    "    )\n",
    "\n",
    "    return sampled"
   ]
  },
  {
   "cell_type": "code",
   "execution_count": 15,
   "id": "c0ccd338-0e02-41f3-a09d-f56f9266e3fb",
   "metadata": {
    "execution": {
     "iopub.execute_input": "2025-07-30T12:48:38.074154Z",
     "iopub.status.busy": "2025-07-30T12:48:38.073732Z",
     "iopub.status.idle": "2025-07-30T12:48:38.086120Z",
     "shell.execute_reply": "2025-07-30T12:48:38.085105Z"
    },
    "papermill": {
     "duration": 0.107922,
     "end_time": "2025-07-30T12:48:38.088204",
     "exception": false,
     "start_time": "2025-07-30T12:48:37.980282",
     "status": "completed"
    },
    "tags": []
   },
   "outputs": [
    {
     "data": {
      "text/plain": [
       "'25k'"
      ]
     },
     "execution_count": 15,
     "metadata": {},
     "output_type": "execute_result"
    }
   ],
   "source": [
    "universe[\"training_size\"]"
   ]
  },
  {
   "cell_type": "code",
   "execution_count": 16,
   "id": "ca707fd7-8047-4acd-bfa5-66248fbbf8e6",
   "metadata": {
    "execution": {
     "iopub.execute_input": "2025-07-30T12:48:38.176856Z",
     "iopub.status.busy": "2025-07-30T12:48:38.176442Z",
     "iopub.status.idle": "2025-07-30T12:48:38.186905Z",
     "shell.execute_reply": "2025-07-30T12:48:38.185873Z"
    },
    "papermill": {
     "duration": 0.036723,
     "end_time": "2025-07-30T12:48:38.188736",
     "exception": false,
     "start_time": "2025-07-30T12:48:38.152013",
     "status": "completed"
    },
    "tags": []
   },
   "outputs": [
    {
     "data": {
      "text/plain": [
       "'2014'"
      ]
     },
     "execution_count": 16,
     "metadata": {},
     "output_type": "execute_result"
    }
   ],
   "source": [
    "universe[\"training_year\"]"
   ]
  },
  {
   "cell_type": "code",
   "execution_count": 17,
   "id": "aea9c6ef-6f46-42c8-85eb-5a62025c1508",
   "metadata": {
    "execution": {
     "iopub.execute_input": "2025-07-30T12:48:38.301620Z",
     "iopub.status.busy": "2025-07-30T12:48:38.301218Z",
     "iopub.status.idle": "2025-07-30T12:48:38.843199Z",
     "shell.execute_reply": "2025-07-30T12:48:38.842133Z"
    },
    "papermill": {
     "duration": 0.604541,
     "end_time": "2025-07-30T12:48:38.845205",
     "exception": false,
     "start_time": "2025-07-30T12:48:38.240664",
     "status": "completed"
    },
    "tags": []
   },
   "outputs": [],
   "source": [
    "siab_train = sample_by_year_size(siab,\n",
    "                               training_year=universe[\"training_year\"],\n",
    "                               training_size=universe[\"training_size\"])"
   ]
  },
  {
   "cell_type": "code",
   "execution_count": 18,
   "id": "8d3afb32-789d-442c-8d5d-9f5aa8dd2eed",
   "metadata": {
    "execution": {
     "iopub.execute_input": "2025-07-30T12:48:38.947473Z",
     "iopub.status.busy": "2025-07-30T12:48:38.947069Z",
     "iopub.status.idle": "2025-07-30T12:48:38.956389Z",
     "shell.execute_reply": "2025-07-30T12:48:38.955238Z"
    },
    "papermill": {
     "duration": 0.064509,
     "end_time": "2025-07-30T12:48:38.957927",
     "exception": false,
     "start_time": "2025-07-30T12:48:38.893418",
     "status": "completed"
    },
    "tags": []
   },
   "outputs": [
    {
     "data": {
      "text/plain": [
       "(25000, 164)"
      ]
     },
     "execution_count": 18,
     "metadata": {},
     "output_type": "execute_result"
    }
   ],
   "source": [
    "siab_train.shape"
   ]
  },
  {
   "cell_type": "code",
   "execution_count": 19,
   "id": "d582db68-1a4c-47fb-84fc-08518dc1975a",
   "metadata": {
    "execution": {
     "iopub.execute_input": "2025-07-30T12:48:39.153966Z",
     "iopub.status.busy": "2025-07-30T12:48:39.153401Z",
     "iopub.status.idle": "2025-07-30T12:48:39.193479Z",
     "shell.execute_reply": "2025-07-30T12:48:39.182988Z"
    },
    "papermill": {
     "duration": 0.136251,
     "end_time": "2025-07-30T12:48:39.205101",
     "exception": false,
     "start_time": "2025-07-30T12:48:39.068850",
     "status": "completed"
    },
    "tags": []
   },
   "outputs": [
    {
     "data": {
      "text/plain": [
       "year\n",
       "2014    25000\n",
       "dtype: int64"
      ]
     },
     "metadata": {},
     "output_type": "display_data"
    }
   ],
   "source": [
    "display(siab_train.groupby(\"year\").size())"
   ]
  },
  {
   "cell_type": "code",
   "execution_count": 20,
   "id": "a561edb4-d032-42cb-8256-22eac1111c64",
   "metadata": {
    "execution": {
     "iopub.execute_input": "2025-07-30T12:48:39.359202Z",
     "iopub.status.busy": "2025-07-30T12:48:39.358801Z",
     "iopub.status.idle": "2025-07-30T12:48:40.057902Z",
     "shell.execute_reply": "2025-07-30T12:48:40.055093Z"
    },
    "papermill": {
     "duration": 0.787564,
     "end_time": "2025-07-30T12:48:40.059744",
     "exception": false,
     "start_time": "2025-07-30T12:48:39.272180",
     "status": "completed"
    },
    "tags": []
   },
   "outputs": [],
   "source": [
    "#siab_train = siab_s[siab_s.year < 2015]\n",
    "siab_calib = siab[siab.year == 2015]\n",
    "siab_test = siab[siab.year == 2016]"
   ]
  },
  {
   "cell_type": "code",
   "execution_count": 21,
   "id": "472de16f-c3db-4916-846b-1f0de9cf1746",
   "metadata": {
    "execution": {
     "iopub.execute_input": "2025-07-30T12:48:40.163083Z",
     "iopub.status.busy": "2025-07-30T12:48:40.162656Z",
     "iopub.status.idle": "2025-07-30T12:48:40.180969Z",
     "shell.execute_reply": "2025-07-30T12:48:40.179947Z"
    },
    "papermill": {
     "duration": 0.060565,
     "end_time": "2025-07-30T12:48:40.197404",
     "exception": false,
     "start_time": "2025-07-30T12:48:40.136839",
     "status": "completed"
    },
    "tags": []
   },
   "outputs": [],
   "source": [
    "X_train = siab_train.iloc[:,4:164]\n",
    "y_train = siab_train.iloc[:, [3]]"
   ]
  },
  {
   "cell_type": "code",
   "execution_count": 22,
   "id": "828c96af-f43a-4ed6-ba47-8ac73a47d56c",
   "metadata": {
    "execution": {
     "iopub.execute_input": "2025-07-30T12:48:40.334343Z",
     "iopub.status.busy": "2025-07-30T12:48:40.333911Z",
     "iopub.status.idle": "2025-07-30T12:48:40.493717Z",
     "shell.execute_reply": "2025-07-30T12:48:40.491757Z"
    },
    "papermill": {
     "duration": 0.25199,
     "end_time": "2025-07-30T12:48:40.495863",
     "exception": false,
     "start_time": "2025-07-30T12:48:40.243873",
     "status": "completed"
    },
    "tags": []
   },
   "outputs": [],
   "source": [
    "X_calib = siab_calib.iloc[:,4:164]\n",
    "y_calib = siab_calib.iloc[:, [3]]"
   ]
  },
  {
   "cell_type": "code",
   "execution_count": 23,
   "id": "c34be9c3-6bd6-476e-acd3-845840e303be",
   "metadata": {
    "execution": {
     "iopub.execute_input": "2025-07-30T12:48:40.598759Z",
     "iopub.status.busy": "2025-07-30T12:48:40.598336Z",
     "iopub.status.idle": "2025-07-30T12:48:40.698843Z",
     "shell.execute_reply": "2025-07-30T12:48:40.697752Z"
    },
    "papermill": {
     "duration": 0.157001,
     "end_time": "2025-07-30T12:48:40.701214",
     "exception": false,
     "start_time": "2025-07-30T12:48:40.544213",
     "status": "completed"
    },
    "tags": []
   },
   "outputs": [],
   "source": [
    "X_test = siab_test.iloc[:,4:164]\n",
    "y_true = siab_test.iloc[:, [3]]"
   ]
  },
  {
   "cell_type": "markdown",
   "id": "9901737e-04df-44f0-9100-f5ad144ed040",
   "metadata": {
    "papermill": {
     "duration": 0.048214,
     "end_time": "2025-07-30T12:48:40.788841",
     "exception": false,
     "start_time": "2025-07-30T12:48:40.740627",
     "status": "completed"
    },
    "tags": []
   },
   "source": [
    "# Splitting Data and Setting Training Data Size OLD VERSION"
   ]
  },
  {
   "cell_type": "code",
   "execution_count": 24,
   "id": "acbc8f7d-8fc8-4e86-8c59-5dcb0f58384b",
   "metadata": {
    "execution": {
     "iopub.execute_input": "2025-07-30T12:48:40.926966Z",
     "iopub.status.busy": "2025-07-30T12:48:40.926540Z",
     "iopub.status.idle": "2025-07-30T12:48:40.933542Z",
     "shell.execute_reply": "2025-07-30T12:48:40.932562Z"
    },
    "papermill": {
     "duration": 0.088586,
     "end_time": "2025-07-30T12:48:40.935894",
     "exception": false,
     "start_time": "2025-07-30T12:48:40.847308",
     "status": "completed"
    },
    "tags": []
   },
   "outputs": [],
   "source": [
    "#def sample_by_year(df, training_size, random_state=42):\n",
    "#    if training_size == \"2014\":\n",
    "#        return df[df[\"year\"] == 2014].reset_index(drop=True)\n",
    "#    \n",
    "#    size_map = {\n",
    "#        \"25k\": 5000,\n",
    "#        \"5k\": 1000,\n",
    "#        \"1k\": 200\n",
    "#    }\n",
    "#\n",
    "#    if training_size not in size_map:\n",
    "#        return df.reset_index(drop=True)  # use all data\n",
    "#\n",
    "#    n_per_year = size_map[training_size]\n",
    "#    grouped = df.groupby(\"year\")\n",
    "#    sampled = grouped.apply(lambda x: x.sample(n=min(n_per_year, len(x)), random_state=random_state))\n",
    "#    return sampled.reset_index(drop=True)"
   ]
  },
  {
   "cell_type": "code",
   "execution_count": 25,
   "id": "6d931f52-beaf-43ff-9e78-9d44a448d54e",
   "metadata": {
    "execution": {
     "iopub.execute_input": "2025-07-30T12:48:41.046624Z",
     "iopub.status.busy": "2025-07-30T12:48:41.046199Z",
     "iopub.status.idle": "2025-07-30T12:48:41.053453Z",
     "shell.execute_reply": "2025-07-30T12:48:41.052126Z"
    },
    "papermill": {
     "duration": 0.063244,
     "end_time": "2025-07-30T12:48:41.055862",
     "exception": false,
     "start_time": "2025-07-30T12:48:40.992618",
     "status": "completed"
    },
    "tags": []
   },
   "outputs": [],
   "source": [
    "#siab_s = sample_by_year(siab, universe[\"training_size\"])"
   ]
  },
  {
   "cell_type": "code",
   "execution_count": 26,
   "id": "5db0a40e-a4e2-4920-be85-b12ae061d70d",
   "metadata": {
    "execution": {
     "iopub.execute_input": "2025-07-30T12:48:41.161949Z",
     "iopub.status.busy": "2025-07-30T12:48:41.161521Z",
     "iopub.status.idle": "2025-07-30T12:48:41.167114Z",
     "shell.execute_reply": "2025-07-30T12:48:41.166210Z"
    },
    "papermill": {
     "duration": 0.052049,
     "end_time": "2025-07-30T12:48:41.170583",
     "exception": false,
     "start_time": "2025-07-30T12:48:41.118534",
     "status": "completed"
    },
    "tags": []
   },
   "outputs": [],
   "source": [
    "#display(siab_s.groupby(\"year\").size())"
   ]
  },
  {
   "cell_type": "code",
   "execution_count": 27,
   "id": "e6c733c5",
   "metadata": {
    "execution": {
     "iopub.execute_input": "2025-07-30T12:48:41.256348Z",
     "iopub.status.busy": "2025-07-30T12:48:41.255830Z",
     "iopub.status.idle": "2025-07-30T12:48:41.370712Z",
     "shell.execute_reply": "2025-07-30T12:48:41.369634Z"
    },
    "papermill": {
     "duration": 0.156627,
     "end_time": "2025-07-30T12:48:41.373057",
     "exception": false,
     "start_time": "2025-07-30T12:48:41.216430",
     "status": "completed"
    },
    "tags": []
   },
   "outputs": [],
   "source": [
    "# Auxiliary data needed downstream in the pipeline\n",
    "\n",
    "org_train = X_train.copy()\n",
    "org_test = X_test.copy()\n",
    "org_calib = X_calib.copy()"
   ]
  },
  {
   "cell_type": "code",
   "execution_count": 28,
   "id": "1466abac-c6da-4492-a62f-4240ae3783af",
   "metadata": {
    "execution": {
     "iopub.execute_input": "2025-07-30T12:48:41.434720Z",
     "iopub.status.busy": "2025-07-30T12:48:41.434296Z",
     "iopub.status.idle": "2025-07-30T12:48:41.440100Z",
     "shell.execute_reply": "2025-07-30T12:48:41.439222Z"
    },
    "papermill": {
     "duration": 0.03953,
     "end_time": "2025-07-30T12:48:41.441457",
     "exception": false,
     "start_time": "2025-07-30T12:48:41.401927",
     "status": "completed"
    },
    "tags": []
   },
   "outputs": [],
   "source": [
    "# put in other script?\n",
    "# Group sizes\n",
    "\n",
    "#def calculate_percentages(df, df_name):\n",
    "#    total_entries = len(df)\n",
    "#\n",
    "#    female_pct = (df['frau1'] == 1).mean() * 100\n",
    "#    non_german_pct = ((df['maxdeutsch1'] == 0) & (df['maxdeutsch.Missing.'] == 0)).mean() * 100\n",
    "#    non_german_male_pct = ((df['frau1'] == 0) & (df['maxdeutsch1'] == 0) & (df['maxdeutsch.Missing.'] == 0)).mean() * 100\n",
    "#    non_german_female_pct = ((df['frau1'] == 1) & (df['maxdeutsch1'] == 0) & (df['maxdeutsch.Missing.'] == 0)).mean() * 100\n",
    "#\n",
    "#    print(f\"--- {df_name} ---\")\n",
    "#    print(f\"Female: {female_pct:.2f}%\")\n",
    "#    print(f\"Non-German: {non_german_pct:.2f}%\")\n",
    "#    print(f\"Non-German Male: {non_german_male_pct:.2f}%\")\n",
    "#    print(f\"Non-German Female: {non_german_female_pct:.2f}%\\n\")\n",
    "#\n",
    "## Calculate for each DataFrame\n",
    "#calculate_percentages(siab_calib, \"siab_calib\")\n",
    "#calculate_percentages(siab_test, \"siab_test\")\n",
    "#calculate_percentages(siab_train, \"siab_train\")"
   ]
  },
  {
   "cell_type": "markdown",
   "id": "0a4a1b33",
   "metadata": {
    "papermill": {
     "duration": 0.013467,
     "end_time": "2025-07-30T12:48:41.475697",
     "exception": false,
     "start_time": "2025-07-30T12:48:41.462230",
     "status": "completed"
    },
    "tags": []
   },
   "source": [
    "# Preprocessing Data"
   ]
  },
  {
   "cell_type": "code",
   "execution_count": 29,
   "id": "ca879031",
   "metadata": {
    "execution": {
     "iopub.execute_input": "2025-07-30T12:48:41.510042Z",
     "iopub.status.busy": "2025-07-30T12:48:41.509463Z",
     "iopub.status.idle": "2025-07-30T12:48:41.518009Z",
     "shell.execute_reply": "2025-07-30T12:48:41.516311Z"
    },
    "papermill": {
     "duration": 0.031975,
     "end_time": "2025-07-30T12:48:41.520429",
     "exception": false,
     "start_time": "2025-07-30T12:48:41.488454",
     "status": "completed"
    },
    "tags": []
   },
   "outputs": [],
   "source": [
    "# EXCLUDE PROTECTED FEATURES\n",
    "# ----------------------\n",
    "# \"exclude_features\": \"none\", # \"nationality\", \"sex\", \"nationality-sex\"\n",
    "\n",
    "excluded_features = universe[\"exclude_features\"].split(\"-\") # split, e.g.: \"nationality-sex\" -> [\"nationality\", \"sex\"]\n",
    "excluded_features_dictionary = {\n",
    "    \"nationality\": [\"maxdeutsch1\", \"maxdeutsch.Missing.\"],\n",
    "    \"sex\": [\"frau1\"],\n",
    "    \"age\": [\"age\"],\n",
    "}\n"
   ]
  },
  {
   "cell_type": "code",
   "execution_count": 30,
   "id": "b745ac60",
   "metadata": {
    "execution": {
     "iopub.execute_input": "2025-07-30T12:48:41.587138Z",
     "iopub.status.busy": "2025-07-30T12:48:41.586584Z",
     "iopub.status.idle": "2025-07-30T12:48:41.594290Z",
     "shell.execute_reply": "2025-07-30T12:48:41.592950Z"
    },
    "papermill": {
     "duration": 0.045885,
     "end_time": "2025-07-30T12:48:41.598954",
     "exception": false,
     "start_time": "2025-07-30T12:48:41.553069",
     "status": "completed"
    },
    "tags": []
   },
   "outputs": [],
   "source": [
    "# Code nice names to column names\n",
    "\n",
    "excluded_features_columns = [\n",
    "    excluded_features_dictionary[f] for f in excluded_features if len(f) > 0 and f != \"none\"\n",
    "]"
   ]
  },
  {
   "cell_type": "code",
   "execution_count": 31,
   "id": "f84f73a2",
   "metadata": {
    "execution": {
     "iopub.execute_input": "2025-07-30T12:48:41.666315Z",
     "iopub.status.busy": "2025-07-30T12:48:41.665857Z",
     "iopub.status.idle": "2025-07-30T12:48:41.674135Z",
     "shell.execute_reply": "2025-07-30T12:48:41.672852Z"
    },
    "papermill": {
     "duration": 0.042097,
     "end_time": "2025-07-30T12:48:41.678758",
     "exception": false,
     "start_time": "2025-07-30T12:48:41.636661",
     "status": "completed"
    },
    "tags": []
   },
   "outputs": [],
   "source": [
    "from utils import flatten_once\n",
    "\n",
    "excluded_features_columns = flatten_once(excluded_features_columns)"
   ]
  },
  {
   "cell_type": "code",
   "execution_count": 32,
   "id": "884dea22",
   "metadata": {
    "execution": {
     "iopub.execute_input": "2025-07-30T12:48:41.737060Z",
     "iopub.status.busy": "2025-07-30T12:48:41.736661Z",
     "iopub.status.idle": "2025-07-30T12:48:41.754533Z",
     "shell.execute_reply": "2025-07-30T12:48:41.753685Z"
    },
    "papermill": {
     "duration": 0.045425,
     "end_time": "2025-07-30T12:48:41.755867",
     "exception": false,
     "start_time": "2025-07-30T12:48:41.710442",
     "status": "completed"
    },
    "tags": []
   },
   "outputs": [
    {
     "name": "stdout",
     "output_type": "stream",
     "text": [
      "Dropping features: ['maxdeutsch1', 'maxdeutsch.Missing.', 'frau1']\n"
     ]
    }
   ],
   "source": [
    "if len(excluded_features_columns) > 0:\n",
    "    print(f\"Dropping features: {excluded_features_columns}\")\n",
    "    X_train.drop(excluded_features_columns, axis=1, inplace=True)"
   ]
  },
  {
   "cell_type": "code",
   "execution_count": 33,
   "id": "95ab8b16",
   "metadata": {
    "execution": {
     "iopub.execute_input": "2025-07-30T12:48:41.958152Z",
     "iopub.status.busy": "2025-07-30T12:48:41.957735Z",
     "iopub.status.idle": "2025-07-30T12:48:42.174194Z",
     "shell.execute_reply": "2025-07-30T12:48:42.172914Z"
    },
    "papermill": {
     "duration": 0.397898,
     "end_time": "2025-07-30T12:48:42.177362",
     "exception": false,
     "start_time": "2025-07-30T12:48:41.779464",
     "status": "completed"
    },
    "tags": []
   },
   "outputs": [
    {
     "name": "stdout",
     "output_type": "stream",
     "text": [
      "Dropping features: ['maxdeutsch1', 'maxdeutsch.Missing.', 'frau1']\n"
     ]
    }
   ],
   "source": [
    "if len(excluded_features_columns) > 0:\n",
    "    print(f\"Dropping features: {excluded_features_columns}\")\n",
    "    X_test.drop(excluded_features_columns, axis=1, inplace=True)"
   ]
  },
  {
   "cell_type": "code",
   "execution_count": 34,
   "id": "1853aaf5-fb9f-46cb-a2b5-8ea4ae2237e4",
   "metadata": {
    "execution": {
     "iopub.execute_input": "2025-07-30T12:48:42.330048Z",
     "iopub.status.busy": "2025-07-30T12:48:42.329619Z",
     "iopub.status.idle": "2025-07-30T12:48:42.478902Z",
     "shell.execute_reply": "2025-07-30T12:48:42.477671Z"
    },
    "papermill": {
     "duration": 0.252385,
     "end_time": "2025-07-30T12:48:42.481290",
     "exception": false,
     "start_time": "2025-07-30T12:48:42.228905",
     "status": "completed"
    },
    "tags": []
   },
   "outputs": [
    {
     "name": "stdout",
     "output_type": "stream",
     "text": [
      "Dropping features: ['maxdeutsch1', 'maxdeutsch.Missing.', 'frau1']\n"
     ]
    }
   ],
   "source": [
    "if len(excluded_features_columns) > 0:\n",
    "    print(f\"Dropping features: {excluded_features_columns}\")\n",
    "    X_calib.drop(excluded_features_columns, axis=1, inplace=True)"
   ]
  },
  {
   "cell_type": "code",
   "execution_count": 35,
   "id": "6727d079-03e5-481e-9d38-292a90b7a0a8",
   "metadata": {
    "execution": {
     "iopub.execute_input": "2025-07-30T12:48:42.666080Z",
     "iopub.status.busy": "2025-07-30T12:48:42.665685Z",
     "iopub.status.idle": "2025-07-30T12:48:42.671097Z",
     "shell.execute_reply": "2025-07-30T12:48:42.670165Z"
    },
    "papermill": {
     "duration": 0.107182,
     "end_time": "2025-07-30T12:48:42.679494",
     "exception": false,
     "start_time": "2025-07-30T12:48:42.572312",
     "status": "completed"
    },
    "tags": []
   },
   "outputs": [],
   "source": [
    "# SPLIT & STRATIFY DATA\n",
    "# ----------------------"
   ]
  },
  {
   "cell_type": "code",
   "execution_count": 36,
   "id": "76c4dc6d",
   "metadata": {
    "execution": {
     "iopub.execute_input": "2025-07-30T12:48:42.854400Z",
     "iopub.status.busy": "2025-07-30T12:48:42.853995Z",
     "iopub.status.idle": "2025-07-30T12:48:42.859908Z",
     "shell.execute_reply": "2025-07-30T12:48:42.858966Z"
    },
    "papermill": {
     "duration": 0.13264,
     "end_time": "2025-07-30T12:48:42.883493",
     "exception": false,
     "start_time": "2025-07-30T12:48:42.750853",
     "status": "completed"
    },
    "tags": []
   },
   "outputs": [],
   "source": [
    "# EXCLUDE CERTAIN SUBGROUPS\n",
    "# ----------------------\n",
    "\n",
    "mode = universe.get(\"exclude_subgroups\", \"keep-all\") \n",
    "# Fetches the exclude_subgroups setting from the universe dict.\n",
    "# Defaults to \"keep-all\" if the key is missing."
   ]
  },
  {
   "cell_type": "code",
   "execution_count": 37,
   "id": "21994072",
   "metadata": {
    "execution": {
     "iopub.execute_input": "2025-07-30T12:48:43.006238Z",
     "iopub.status.busy": "2025-07-30T12:48:43.005819Z",
     "iopub.status.idle": "2025-07-30T12:48:43.014661Z",
     "shell.execute_reply": "2025-07-30T12:48:43.013611Z"
    },
    "papermill": {
     "duration": 0.104403,
     "end_time": "2025-07-30T12:48:43.017001",
     "exception": false,
     "start_time": "2025-07-30T12:48:42.912598",
     "status": "completed"
    },
    "tags": []
   },
   "outputs": [],
   "source": [
    "if mode == \"keep-all\":\n",
    "    keep_mask = pd.Series(True, index=org_train.index)\n",
    "\n",
    "# org_train contains the original feature columns from features_org (in Simson)\n",
    "# features_org contains unprocessed features, for me X_train at beginning ???\n",
    "# For keep-all, creates a boolean Series (keep_mask) of all True, so no rows are removed.\n",
    "\n",
    "elif mode == \"drop-non-german\":\n",
    "    keep_mask = org_train[\"maxdeutsch1\"] == 1 # ??? what about missing values?\n",
    "\n",
    "else:\n",
    "    raise ValueError(f\"Unsupported mode for exclude_subgroups: {mode}\")\n"
   ]
  },
  {
   "cell_type": "code",
   "execution_count": 38,
   "id": "71651440",
   "metadata": {
    "execution": {
     "iopub.execute_input": "2025-07-30T12:48:43.260464Z",
     "iopub.status.busy": "2025-07-30T12:48:43.259977Z",
     "iopub.status.idle": "2025-07-30T12:48:43.267414Z",
     "shell.execute_reply": "2025-07-30T12:48:43.266201Z"
    },
    "papermill": {
     "duration": 0.098518,
     "end_time": "2025-07-30T12:48:43.270661",
     "exception": false,
     "start_time": "2025-07-30T12:48:43.172143",
     "status": "completed"
    },
    "tags": []
   },
   "outputs": [],
   "source": [
    "n_drop = (~keep_mask).sum() # Calculates how many rows are set to be dropped\n",
    "if n_drop > 0:\n",
    "    pct = n_drop / len(keep_mask) * 100\n",
    "    print(f\"Dropping {n_drop} rows ({pct:.2f}%) where mode='{mode}'\")"
   ]
  },
  {
   "cell_type": "code",
   "execution_count": 39,
   "id": "5fb8eee5",
   "metadata": {
    "execution": {
     "iopub.execute_input": "2025-07-30T12:48:43.359267Z",
     "iopub.status.busy": "2025-07-30T12:48:43.358791Z",
     "iopub.status.idle": "2025-07-30T12:48:43.444625Z",
     "shell.execute_reply": "2025-07-30T12:48:43.443524Z"
    },
    "papermill": {
     "duration": 0.119171,
     "end_time": "2025-07-30T12:48:43.446721",
     "exception": false,
     "start_time": "2025-07-30T12:48:43.327550",
     "status": "completed"
    },
    "tags": []
   },
   "outputs": [],
   "source": [
    "X_train = X_train[keep_mask]"
   ]
  },
  {
   "cell_type": "code",
   "execution_count": 40,
   "id": "b202bb3a",
   "metadata": {
    "execution": {
     "iopub.execute_input": "2025-07-30T12:48:43.565073Z",
     "iopub.status.busy": "2025-07-30T12:48:43.564646Z",
     "iopub.status.idle": "2025-07-30T12:48:43.571501Z",
     "shell.execute_reply": "2025-07-30T12:48:43.570302Z"
    },
    "papermill": {
     "duration": 0.0505,
     "end_time": "2025-07-30T12:48:43.573309",
     "exception": false,
     "start_time": "2025-07-30T12:48:43.522809",
     "status": "completed"
    },
    "tags": []
   },
   "outputs": [],
   "source": [
    "y_train = y_train[keep_mask]"
   ]
  },
  {
   "cell_type": "markdown",
   "id": "493e2ac3",
   "metadata": {
    "papermill": {
     "duration": 0.041897,
     "end_time": "2025-07-30T12:48:43.640686",
     "exception": false,
     "start_time": "2025-07-30T12:48:43.598789",
     "status": "completed"
    },
    "tags": []
   },
   "source": [
    "# Model Training"
   ]
  },
  {
   "cell_type": "code",
   "execution_count": 41,
   "id": "679e1268",
   "metadata": {
    "execution": {
     "iopub.execute_input": "2025-07-30T12:48:43.725355Z",
     "iopub.status.busy": "2025-07-30T12:48:43.724933Z",
     "iopub.status.idle": "2025-07-30T12:48:43.963609Z",
     "shell.execute_reply": "2025-07-30T12:48:43.962602Z"
    },
    "papermill": {
     "duration": 0.276937,
     "end_time": "2025-07-30T12:48:43.965651",
     "exception": false,
     "start_time": "2025-07-30T12:48:43.688714",
     "status": "completed"
    },
    "tags": []
   },
   "outputs": [],
   "source": [
    "from sklearn.linear_model import LogisticRegression\n",
    "from sklearn.ensemble import GradientBoostingClassifier, RandomForestClassifier\n",
    "\n",
    "if (universe[\"model\"] == \"logreg\"):\n",
    "    model = LogisticRegression() #penalty=\"none\") #, solver=\"newton-cg\", max_iter=1) # include random_state=19 ?\n",
    "elif (universe[\"model\"] == \"penalized_logreg\"):\n",
    "    model = LogisticRegression(penalty=\"l2\", C=1.0) #, solver=\"newton-cg\", max_iter=1)\n",
    "elif (universe[\"model\"] == \"rf\"):\n",
    "    model = RandomForestClassifier(n_estimators=100, n_jobs=-1)\n",
    "elif (universe[\"model\"] == \"gbm\"):\n",
    "    model = GradientBoostingClassifier()\n",
    "elif (universe[\"model\"] == \"elasticnet\"):\n",
    "    model = LogisticRegression(penalty = 'elasticnet', solver = 'saga', l1_ratio = 0.5, max_iter=5000) # which solver to use?\n",
    "else:\n",
    "    raise \"Unsupported universe.model\""
   ]
  },
  {
   "cell_type": "code",
   "execution_count": 42,
   "id": "0cc8f744",
   "metadata": {
    "execution": {
     "iopub.execute_input": "2025-07-30T12:48:44.122338Z",
     "iopub.status.busy": "2025-07-30T12:48:44.121924Z",
     "iopub.status.idle": "2025-07-30T12:48:44.128992Z",
     "shell.execute_reply": "2025-07-30T12:48:44.127904Z"
    },
    "papermill": {
     "duration": 0.086518,
     "end_time": "2025-07-30T12:48:44.130501",
     "exception": false,
     "start_time": "2025-07-30T12:48:44.043983",
     "status": "completed"
    },
    "tags": []
   },
   "outputs": [],
   "source": [
    "import numpy as np\n",
    "from sklearn.pipeline import Pipeline\n",
    "from sklearn.preprocessing import StandardScaler\n",
    "\n",
    "model = Pipeline([\n",
    "    #(\"continuous_processor\", continuous_processor),\n",
    "    #(\"categorical_preprocessor\", categorical_preprocessor),\n",
    "    (\"scale\", StandardScaler() if universe[\"scale\"] == \"scale\" else None), \n",
    "    (\"model\", model),\n",
    "])"
   ]
  },
  {
   "cell_type": "code",
   "execution_count": 43,
   "id": "9442c04d",
   "metadata": {
    "execution": {
     "iopub.execute_input": "2025-07-30T12:48:44.250078Z",
     "iopub.status.busy": "2025-07-30T12:48:44.249665Z",
     "iopub.status.idle": "2025-07-30T12:48:49.105504Z",
     "shell.execute_reply": "2025-07-30T12:48:49.104338Z"
    },
    "papermill": {
     "duration": 4.922748,
     "end_time": "2025-07-30T12:48:49.107650",
     "exception": false,
     "start_time": "2025-07-30T12:48:44.184902",
     "status": "completed"
    },
    "tags": []
   },
   "outputs": [
    {
     "data": {
      "text/html": [
       "<style>#sk-container-id-1 {color: black;background-color: white;}#sk-container-id-1 pre{padding: 0;}#sk-container-id-1 div.sk-toggleable {background-color: white;}#sk-container-id-1 label.sk-toggleable__label {cursor: pointer;display: block;width: 100%;margin-bottom: 0;padding: 0.3em;box-sizing: border-box;text-align: center;}#sk-container-id-1 label.sk-toggleable__label-arrow:before {content: \"▸\";float: left;margin-right: 0.25em;color: #696969;}#sk-container-id-1 label.sk-toggleable__label-arrow:hover:before {color: black;}#sk-container-id-1 div.sk-estimator:hover label.sk-toggleable__label-arrow:before {color: black;}#sk-container-id-1 div.sk-toggleable__content {max-height: 0;max-width: 0;overflow: hidden;text-align: left;background-color: #f0f8ff;}#sk-container-id-1 div.sk-toggleable__content pre {margin: 0.2em;color: black;border-radius: 0.25em;background-color: #f0f8ff;}#sk-container-id-1 input.sk-toggleable__control:checked~div.sk-toggleable__content {max-height: 200px;max-width: 100%;overflow: auto;}#sk-container-id-1 input.sk-toggleable__control:checked~label.sk-toggleable__label-arrow:before {content: \"▾\";}#sk-container-id-1 div.sk-estimator input.sk-toggleable__control:checked~label.sk-toggleable__label {background-color: #d4ebff;}#sk-container-id-1 div.sk-label input.sk-toggleable__control:checked~label.sk-toggleable__label {background-color: #d4ebff;}#sk-container-id-1 input.sk-hidden--visually {border: 0;clip: rect(1px 1px 1px 1px);clip: rect(1px, 1px, 1px, 1px);height: 1px;margin: -1px;overflow: hidden;padding: 0;position: absolute;width: 1px;}#sk-container-id-1 div.sk-estimator {font-family: monospace;background-color: #f0f8ff;border: 1px dotted black;border-radius: 0.25em;box-sizing: border-box;margin-bottom: 0.5em;}#sk-container-id-1 div.sk-estimator:hover {background-color: #d4ebff;}#sk-container-id-1 div.sk-parallel-item::after {content: \"\";width: 100%;border-bottom: 1px solid gray;flex-grow: 1;}#sk-container-id-1 div.sk-label:hover label.sk-toggleable__label {background-color: #d4ebff;}#sk-container-id-1 div.sk-serial::before {content: \"\";position: absolute;border-left: 1px solid gray;box-sizing: border-box;top: 0;bottom: 0;left: 50%;z-index: 0;}#sk-container-id-1 div.sk-serial {display: flex;flex-direction: column;align-items: center;background-color: white;padding-right: 0.2em;padding-left: 0.2em;position: relative;}#sk-container-id-1 div.sk-item {position: relative;z-index: 1;}#sk-container-id-1 div.sk-parallel {display: flex;align-items: stretch;justify-content: center;background-color: white;position: relative;}#sk-container-id-1 div.sk-item::before, #sk-container-id-1 div.sk-parallel-item::before {content: \"\";position: absolute;border-left: 1px solid gray;box-sizing: border-box;top: 0;bottom: 0;left: 50%;z-index: -1;}#sk-container-id-1 div.sk-parallel-item {display: flex;flex-direction: column;z-index: 1;position: relative;background-color: white;}#sk-container-id-1 div.sk-parallel-item:first-child::after {align-self: flex-end;width: 50%;}#sk-container-id-1 div.sk-parallel-item:last-child::after {align-self: flex-start;width: 50%;}#sk-container-id-1 div.sk-parallel-item:only-child::after {width: 0;}#sk-container-id-1 div.sk-dashed-wrapped {border: 1px dashed gray;margin: 0 0.4em 0.5em 0.4em;box-sizing: border-box;padding-bottom: 0.4em;background-color: white;}#sk-container-id-1 div.sk-label label {font-family: monospace;font-weight: bold;display: inline-block;line-height: 1.2em;}#sk-container-id-1 div.sk-label-container {text-align: center;}#sk-container-id-1 div.sk-container {/* jupyter's `normalize.less` sets `[hidden] { display: none; }` but bootstrap.min.css set `[hidden] { display: none !important; }` so we also need the `!important` here to be able to override the default hidden behavior on the sphinx rendered scikit-learn.org. See: https://github.com/scikit-learn/scikit-learn/issues/21755 */display: inline-block !important;position: relative;}#sk-container-id-1 div.sk-text-repr-fallback {display: none;}</style><div id=\"sk-container-id-1\" class=\"sk-top-container\"><div class=\"sk-text-repr-fallback\"><pre>Pipeline(steps=[(&#x27;scale&#x27;, StandardScaler()),\n",
       "                (&#x27;model&#x27;, RandomForestClassifier(n_jobs=-1))])</pre><b>In a Jupyter environment, please rerun this cell to show the HTML representation or trust the notebook. <br />On GitHub, the HTML representation is unable to render, please try loading this page with nbviewer.org.</b></div><div class=\"sk-container\" hidden><div class=\"sk-item sk-dashed-wrapped\"><div class=\"sk-label-container\"><div class=\"sk-label sk-toggleable\"><input class=\"sk-toggleable__control sk-hidden--visually\" id=\"sk-estimator-id-1\" type=\"checkbox\" ><label for=\"sk-estimator-id-1\" class=\"sk-toggleable__label sk-toggleable__label-arrow\">Pipeline</label><div class=\"sk-toggleable__content\"><pre>Pipeline(steps=[(&#x27;scale&#x27;, StandardScaler()),\n",
       "                (&#x27;model&#x27;, RandomForestClassifier(n_jobs=-1))])</pre></div></div></div><div class=\"sk-serial\"><div class=\"sk-item\"><div class=\"sk-estimator sk-toggleable\"><input class=\"sk-toggleable__control sk-hidden--visually\" id=\"sk-estimator-id-2\" type=\"checkbox\" ><label for=\"sk-estimator-id-2\" class=\"sk-toggleable__label sk-toggleable__label-arrow\">StandardScaler</label><div class=\"sk-toggleable__content\"><pre>StandardScaler()</pre></div></div></div><div class=\"sk-item\"><div class=\"sk-estimator sk-toggleable\"><input class=\"sk-toggleable__control sk-hidden--visually\" id=\"sk-estimator-id-3\" type=\"checkbox\" ><label for=\"sk-estimator-id-3\" class=\"sk-toggleable__label sk-toggleable__label-arrow\">RandomForestClassifier</label><div class=\"sk-toggleable__content\"><pre>RandomForestClassifier(n_jobs=-1)</pre></div></div></div></div></div></div></div>"
      ],
      "text/plain": [
       "Pipeline(steps=[('scale', StandardScaler()),\n",
       "                ('model', RandomForestClassifier(n_jobs=-1))])"
      ]
     },
     "execution_count": 43,
     "metadata": {},
     "output_type": "execute_result"
    }
   ],
   "source": [
    "model.fit(X_train, y_train.values.ravel())"
   ]
  },
  {
   "cell_type": "code",
   "execution_count": 44,
   "id": "af59f8c0",
   "metadata": {
    "execution": {
     "iopub.execute_input": "2025-07-30T12:48:49.221312Z",
     "iopub.status.busy": "2025-07-30T12:48:49.220302Z",
     "iopub.status.idle": "2025-07-30T12:48:49.226386Z",
     "shell.execute_reply": "2025-07-30T12:48:49.225262Z"
    },
    "papermill": {
     "duration": 0.064874,
     "end_time": "2025-07-30T12:48:49.228467",
     "exception": false,
     "start_time": "2025-07-30T12:48:49.163593",
     "status": "completed"
    },
    "tags": []
   },
   "outputs": [],
   "source": [
    "from fairness_multiverse.universe import predict_w_threshold"
   ]
  },
  {
   "cell_type": "code",
   "execution_count": 45,
   "id": "a7cf2e16",
   "metadata": {
    "execution": {
     "iopub.execute_input": "2025-07-30T12:48:49.319154Z",
     "iopub.status.busy": "2025-07-30T12:48:49.318701Z",
     "iopub.status.idle": "2025-07-30T12:48:51.094236Z",
     "shell.execute_reply": "2025-07-30T12:48:51.091567Z"
    },
    "papermill": {
     "duration": 1.819148,
     "end_time": "2025-07-30T12:48:51.096156",
     "exception": false,
     "start_time": "2025-07-30T12:48:49.277008",
     "status": "completed"
    },
    "tags": []
   },
   "outputs": [
    {
     "data": {
      "text/plain": [
       "0.8667484115483224"
      ]
     },
     "execution_count": 45,
     "metadata": {},
     "output_type": "execute_result"
    }
   ],
   "source": [
    "probs_test = model.predict_proba(X_test)\n",
    "\n",
    "'''\n",
    "Below code returns a boolean array (or binary 0/1 array depending on how it’s used) where each element \n",
    "is True if the probability of class 1 is greater than or equal to the threshold, and False otherwise.\n",
    "'''\n",
    "y_pred_default = predict_w_threshold(probs_test, 0.5)\n",
    "\n",
    "from sklearn.metrics import accuracy_score\n",
    "\n",
    "# Naive prediction\n",
    "accuracy_score(y_true = y_true, y_pred = y_pred_default)"
   ]
  },
  {
   "cell_type": "code",
   "execution_count": 46,
   "id": "081964c3",
   "metadata": {
    "execution": {
     "iopub.execute_input": "2025-07-30T12:48:51.199076Z",
     "iopub.status.busy": "2025-07-30T12:48:51.198672Z",
     "iopub.status.idle": "2025-07-30T12:48:52.677662Z",
     "shell.execute_reply": "2025-07-30T12:48:52.676551Z"
    },
    "papermill": {
     "duration": 1.546582,
     "end_time": "2025-07-30T12:48:52.679475",
     "exception": false,
     "start_time": "2025-07-30T12:48:51.132893",
     "status": "completed"
    },
    "tags": []
   },
   "outputs": [
    {
     "data": {
      "text/plain": [
       "array([0, 0, 0, ..., 0, 0, 0])"
      ]
     },
     "execution_count": 46,
     "metadata": {},
     "output_type": "execute_result"
    }
   ],
   "source": [
    "model.predict(X_test)"
   ]
  },
  {
   "cell_type": "markdown",
   "id": "56c9705b",
   "metadata": {
    "papermill": {
     "duration": 0.076349,
     "end_time": "2025-07-30T12:48:52.824888",
     "exception": false,
     "start_time": "2025-07-30T12:48:52.748539",
     "status": "completed"
    },
    "tags": []
   },
   "source": [
    "# Conformal Prediction"
   ]
  },
  {
   "cell_type": "code",
   "execution_count": 47,
   "id": "160ec6ff",
   "metadata": {
    "execution": {
     "iopub.execute_input": "2025-07-30T12:48:52.927863Z",
     "iopub.status.busy": "2025-07-30T12:48:52.927332Z",
     "iopub.status.idle": "2025-07-30T12:48:52.935441Z",
     "shell.execute_reply": "2025-07-30T12:48:52.933946Z"
    },
    "papermill": {
     "duration": 0.054643,
     "end_time": "2025-07-30T12:48:52.939363",
     "exception": false,
     "start_time": "2025-07-30T12:48:52.884720",
     "status": "completed"
    },
    "tags": []
   },
   "outputs": [],
   "source": [
    "# Miscoverage level for conformal prediction (10% allowed error rate => 90% target coverage)\n",
    "alpha = 0.1"
   ]
  },
  {
   "cell_type": "code",
   "execution_count": 48,
   "id": "eadf4555-3dd3-440e-8e35-f82a4ad9f855",
   "metadata": {
    "execution": {
     "iopub.execute_input": "2025-07-30T12:48:53.078249Z",
     "iopub.status.busy": "2025-07-30T12:48:53.077799Z",
     "iopub.status.idle": "2025-07-30T12:48:54.413851Z",
     "shell.execute_reply": "2025-07-30T12:48:54.412714Z"
    },
    "papermill": {
     "duration": 1.399624,
     "end_time": "2025-07-30T12:48:54.415932",
     "exception": false,
     "start_time": "2025-07-30T12:48:53.016308",
     "status": "completed"
    },
    "tags": []
   },
   "outputs": [],
   "source": [
    "probs_calib = model.predict_proba(X_calib)"
   ]
  },
  {
   "cell_type": "code",
   "execution_count": 49,
   "id": "2ed93547-6d5d-4983-9b36-1ecb300da49a",
   "metadata": {
    "execution": {
     "iopub.execute_input": "2025-07-30T12:48:54.476590Z",
     "iopub.status.busy": "2025-07-30T12:48:54.475968Z",
     "iopub.status.idle": "2025-07-30T12:48:54.482560Z",
     "shell.execute_reply": "2025-07-30T12:48:54.481599Z"
    },
    "papermill": {
     "duration": 0.038335,
     "end_time": "2025-07-30T12:48:54.484406",
     "exception": false,
     "start_time": "2025-07-30T12:48:54.446071",
     "status": "completed"
    },
    "tags": []
   },
   "outputs": [],
   "source": [
    "y_calib = y_calib.values.ravel().astype(int)"
   ]
  },
  {
   "cell_type": "code",
   "execution_count": 50,
   "id": "65d1320d-f588-4b38-9072-62af1ae97f7d",
   "metadata": {
    "execution": {
     "iopub.execute_input": "2025-07-30T12:48:54.537321Z",
     "iopub.status.busy": "2025-07-30T12:48:54.536772Z",
     "iopub.status.idle": "2025-07-30T12:48:54.546523Z",
     "shell.execute_reply": "2025-07-30T12:48:54.545385Z"
    },
    "papermill": {
     "duration": 0.039599,
     "end_time": "2025-07-30T12:48:54.548480",
     "exception": false,
     "start_time": "2025-07-30T12:48:54.508881",
     "status": "completed"
    },
    "tags": []
   },
   "outputs": [],
   "source": [
    "from fairness_multiverse.conformal import compute_nc_scores\n",
    "\n",
    "# Compute nonconformity scores on calibration set (1 - probability of true class)\n",
    "nc_scores = compute_nc_scores(probs_calib, y_calib)"
   ]
  },
  {
   "cell_type": "code",
   "execution_count": 51,
   "id": "df3b8ca3-53b7-43d5-9667-7c85da7aeda2",
   "metadata": {
    "execution": {
     "iopub.execute_input": "2025-07-30T12:48:54.612552Z",
     "iopub.status.busy": "2025-07-30T12:48:54.612116Z",
     "iopub.status.idle": "2025-07-30T12:48:54.617717Z",
     "shell.execute_reply": "2025-07-30T12:48:54.616966Z"
    },
    "papermill": {
     "duration": 0.047643,
     "end_time": "2025-07-30T12:48:54.626686",
     "exception": false,
     "start_time": "2025-07-30T12:48:54.579043",
     "status": "completed"
    },
    "tags": []
   },
   "outputs": [],
   "source": [
    "from fairness_multiverse.conformal import find_threshold\n",
    "\n",
    "# Find conformal threshold q_hat for the given alpha (split conformal method)\n",
    "q_hat = find_threshold(nc_scores, alpha)"
   ]
  },
  {
   "cell_type": "code",
   "execution_count": 52,
   "id": "4d29e6c1-0ef6-4aa4-b8fe-4fe79b0d033a",
   "metadata": {
    "execution": {
     "iopub.execute_input": "2025-07-30T12:48:54.673605Z",
     "iopub.status.busy": "2025-07-30T12:48:54.673045Z",
     "iopub.status.idle": "2025-07-30T12:48:54.679860Z",
     "shell.execute_reply": "2025-07-30T12:48:54.678927Z"
    },
    "papermill": {
     "duration": 0.027101,
     "end_time": "2025-07-30T12:48:54.681428",
     "exception": false,
     "start_time": "2025-07-30T12:48:54.654327",
     "status": "completed"
    },
    "tags": []
   },
   "outputs": [
    {
     "data": {
      "text/plain": [
       "0.6699999999999999"
      ]
     },
     "execution_count": 52,
     "metadata": {},
     "output_type": "execute_result"
    }
   ],
   "source": [
    "q_hat"
   ]
  },
  {
   "cell_type": "code",
   "execution_count": 53,
   "id": "92460794-cdac-4be2-ba28-f28c0515a6fb",
   "metadata": {
    "execution": {
     "iopub.execute_input": "2025-07-30T12:48:54.711953Z",
     "iopub.status.busy": "2025-07-30T12:48:54.711605Z",
     "iopub.status.idle": "2025-07-30T12:48:56.801921Z",
     "shell.execute_reply": "2025-07-30T12:48:56.800930Z"
    },
    "papermill": {
     "duration": 2.10828,
     "end_time": "2025-07-30T12:48:56.804125",
     "exception": false,
     "start_time": "2025-07-30T12:48:54.695845",
     "status": "completed"
    },
    "tags": []
   },
   "outputs": [],
   "source": [
    "from fairness_multiverse.conformal import predict_conformal_sets\n",
    "\n",
    "# Generate prediction sets for each test example\n",
    "pred_sets = predict_conformal_sets(model, X_test, q_hat)"
   ]
  },
  {
   "cell_type": "code",
   "execution_count": 54,
   "id": "d90c9a65-e6db-4f5d-80cd-e68fb7e46829",
   "metadata": {
    "execution": {
     "iopub.execute_input": "2025-07-30T12:48:56.907204Z",
     "iopub.status.busy": "2025-07-30T12:48:56.906650Z",
     "iopub.status.idle": "2025-07-30T12:48:56.914090Z",
     "shell.execute_reply": "2025-07-30T12:48:56.913181Z"
    },
    "papermill": {
     "duration": 0.078439,
     "end_time": "2025-07-30T12:48:56.915835",
     "exception": false,
     "start_time": "2025-07-30T12:48:56.837396",
     "status": "completed"
    },
    "tags": []
   },
   "outputs": [],
   "source": [
    "y_true = y_true.squeeze()"
   ]
  },
  {
   "cell_type": "code",
   "execution_count": 55,
   "id": "3a58a54a-1e68-46b9-927a-df01f18aebc8",
   "metadata": {
    "execution": {
     "iopub.execute_input": "2025-07-30T12:48:57.033070Z",
     "iopub.status.busy": "2025-07-30T12:48:57.032644Z",
     "iopub.status.idle": "2025-07-30T12:48:58.362824Z",
     "shell.execute_reply": "2025-07-30T12:48:58.361723Z"
    },
    "papermill": {
     "duration": 1.418463,
     "end_time": "2025-07-30T12:48:58.364970",
     "exception": false,
     "start_time": "2025-07-30T12:48:56.946507",
     "status": "completed"
    },
    "tags": []
   },
   "outputs": [],
   "source": [
    "from fairness_multiverse.conformal import evaluate_sets\n",
    "\n",
    "# Evaluate coverage and average set size on test data\n",
    "metrics = evaluate_sets(pred_sets, y_true)"
   ]
  },
  {
   "cell_type": "markdown",
   "id": "2b569c12-9aaa-4c88-98c9-bbcd0cf3ebb8",
   "metadata": {
    "papermill": {
     "duration": 0.027503,
     "end_time": "2025-07-30T12:48:58.420444",
     "exception": false,
     "start_time": "2025-07-30T12:48:58.392941",
     "status": "completed"
    },
    "tags": []
   },
   "source": [
    "# CP Metrics"
   ]
  },
  {
   "cell_type": "code",
   "execution_count": 56,
   "id": "5ce0a5cb-201f-45a0-ade5-94c7f0bd6095",
   "metadata": {
    "execution": {
     "iopub.execute_input": "2025-07-30T12:48:58.476640Z",
     "iopub.status.busy": "2025-07-30T12:48:58.475582Z",
     "iopub.status.idle": "2025-07-30T12:48:58.483729Z",
     "shell.execute_reply": "2025-07-30T12:48:58.482617Z"
    },
    "papermill": {
     "duration": 0.040833,
     "end_time": "2025-07-30T12:48:58.488322",
     "exception": false,
     "start_time": "2025-07-30T12:48:58.447489",
     "status": "completed"
    },
    "tags": []
   },
   "outputs": [
    {
     "data": {
      "text/plain": [
       "{'coverage': 0.9162412217144131, 'avg_size': 1.1485230186155388}"
      ]
     },
     "execution_count": 56,
     "metadata": {},
     "output_type": "execute_result"
    }
   ],
   "source": [
    "metrics"
   ]
  },
  {
   "cell_type": "code",
   "execution_count": 57,
   "id": "9b9a838d-31c9-430b-ae14-12baee460d17",
   "metadata": {
    "execution": {
     "iopub.execute_input": "2025-07-30T12:48:58.562118Z",
     "iopub.status.busy": "2025-07-30T12:48:58.561684Z",
     "iopub.status.idle": "2025-07-30T12:48:58.569045Z",
     "shell.execute_reply": "2025-07-30T12:48:58.567790Z"
    },
    "papermill": {
     "duration": 0.055638,
     "end_time": "2025-07-30T12:48:58.572614",
     "exception": false,
     "start_time": "2025-07-30T12:48:58.516976",
     "status": "completed"
    },
    "tags": []
   },
   "outputs": [],
   "source": [
    "example_universe = universe.copy()\n",
    "universe_training_size = example_universe.get(\"training_size\")\n",
    "universe_scale = example_universe.get(\"scale\")\n",
    "universe_model = example_universe.get(\"model\")\n",
    "universe_exclude_features = example_universe.get(\"exclude_features\")\n",
    "universe_exclude_subgroups = example_universe.get(\"exclude_subgroups\")"
   ]
  },
  {
   "cell_type": "code",
   "execution_count": 58,
   "id": "f4b6a8ac-9dc0-4245-8a91-5b3b5999c4f9",
   "metadata": {
    "execution": {
     "iopub.execute_input": "2025-07-30T12:48:58.643631Z",
     "iopub.status.busy": "2025-07-30T12:48:58.643172Z",
     "iopub.status.idle": "2025-07-30T12:48:58.650445Z",
     "shell.execute_reply": "2025-07-30T12:48:58.649412Z"
    },
    "papermill": {
     "duration": 0.04131,
     "end_time": "2025-07-30T12:48:58.652985",
     "exception": false,
     "start_time": "2025-07-30T12:48:58.611675",
     "status": "completed"
    },
    "tags": []
   },
   "outputs": [],
   "source": [
    "cp_metrics_dict = {\n",
    "    \"universe_id\": [universe_id],\n",
    "    \"universe_training_size\": [universe_training_size],\n",
    "    \"universe_scale\": [universe_scale],\n",
    "    \"universe_model\": [universe_model],\n",
    "    \"universe_exclude_features\": [universe_exclude_features],\n",
    "    \"universe_exclude_subgroups\": [universe_exclude_subgroups],\n",
    "    \"q_hat\": [q_hat],\n",
    "    \"coverage\": [metrics[\"coverage\"]],\n",
    "    \"avg_size\": [metrics[\"avg_size\"]],\n",
    "}"
   ]
  },
  {
   "cell_type": "code",
   "execution_count": 59,
   "id": "908acbb1-0371-4915-85ca-3fa520d2efe2",
   "metadata": {
    "execution": {
     "iopub.execute_input": "2025-07-30T12:48:58.715687Z",
     "iopub.status.busy": "2025-07-30T12:48:58.714754Z",
     "iopub.status.idle": "2025-07-30T12:48:58.723628Z",
     "shell.execute_reply": "2025-07-30T12:48:58.722592Z"
    },
    "papermill": {
     "duration": 0.041854,
     "end_time": "2025-07-30T12:48:58.725437",
     "exception": false,
     "start_time": "2025-07-30T12:48:58.683583",
     "status": "completed"
    },
    "tags": []
   },
   "outputs": [
    {
     "data": {
      "text/plain": [
       "{'universe_id': ['23a6c48d8f096653095ed7da1083d0eb'],\n",
       " 'universe_training_size': ['25k'],\n",
       " 'universe_scale': ['scale'],\n",
       " 'universe_model': ['rf'],\n",
       " 'universe_exclude_features': ['nationality-sex'],\n",
       " 'universe_exclude_subgroups': ['keep-all'],\n",
       " 'q_hat': [0.6699999999999999],\n",
       " 'coverage': [0.9162412217144131],\n",
       " 'avg_size': [1.1485230186155388]}"
      ]
     },
     "execution_count": 59,
     "metadata": {},
     "output_type": "execute_result"
    }
   ],
   "source": [
    "cp_metrics_dict"
   ]
  },
  {
   "cell_type": "code",
   "execution_count": 60,
   "id": "33007efc-14e9-4ec6-97ac-56a455c82265",
   "metadata": {
    "execution": {
     "iopub.execute_input": "2025-07-30T12:48:58.858401Z",
     "iopub.status.busy": "2025-07-30T12:48:58.857975Z",
     "iopub.status.idle": "2025-07-30T12:48:58.865313Z",
     "shell.execute_reply": "2025-07-30T12:48:58.864106Z"
    },
    "papermill": {
     "duration": 0.069961,
     "end_time": "2025-07-30T12:48:58.868553",
     "exception": false,
     "start_time": "2025-07-30T12:48:58.798592",
     "status": "completed"
    },
    "tags": []
   },
   "outputs": [],
   "source": [
    "cp_metrics_df = pd.DataFrame(cp_metrics_dict)"
   ]
  },
  {
   "cell_type": "code",
   "execution_count": 61,
   "id": "db12611b-57b2-4910-b9d0-355adfd6e7bf",
   "metadata": {
    "execution": {
     "iopub.execute_input": "2025-07-30T12:48:58.976892Z",
     "iopub.status.busy": "2025-07-30T12:48:58.976444Z",
     "iopub.status.idle": "2025-07-30T12:48:59.000712Z",
     "shell.execute_reply": "2025-07-30T12:48:58.999679Z"
    },
    "papermill": {
     "duration": 0.077967,
     "end_time": "2025-07-30T12:48:59.002540",
     "exception": false,
     "start_time": "2025-07-30T12:48:58.924573",
     "status": "completed"
    },
    "tags": []
   },
   "outputs": [
    {
     "data": {
      "text/html": [
       "<div>\n",
       "<style scoped>\n",
       "    .dataframe tbody tr th:only-of-type {\n",
       "        vertical-align: middle;\n",
       "    }\n",
       "\n",
       "    .dataframe tbody tr th {\n",
       "        vertical-align: top;\n",
       "    }\n",
       "\n",
       "    .dataframe thead th {\n",
       "        text-align: right;\n",
       "    }\n",
       "</style>\n",
       "<table border=\"1\" class=\"dataframe\">\n",
       "  <thead>\n",
       "    <tr style=\"text-align: right;\">\n",
       "      <th></th>\n",
       "      <th>universe_id</th>\n",
       "      <th>universe_training_size</th>\n",
       "      <th>universe_scale</th>\n",
       "      <th>universe_model</th>\n",
       "      <th>universe_exclude_features</th>\n",
       "      <th>universe_exclude_subgroups</th>\n",
       "      <th>q_hat</th>\n",
       "      <th>coverage</th>\n",
       "      <th>avg_size</th>\n",
       "    </tr>\n",
       "  </thead>\n",
       "  <tbody>\n",
       "    <tr>\n",
       "      <th>0</th>\n",
       "      <td>23a6c48d8f096653095ed7da1083d0eb</td>\n",
       "      <td>25k</td>\n",
       "      <td>scale</td>\n",
       "      <td>rf</td>\n",
       "      <td>nationality-sex</td>\n",
       "      <td>keep-all</td>\n",
       "      <td>0.67</td>\n",
       "      <td>0.916241</td>\n",
       "      <td>1.148523</td>\n",
       "    </tr>\n",
       "  </tbody>\n",
       "</table>\n",
       "</div>"
      ],
      "text/plain": [
       "                        universe_id universe_training_size universe_scale  \\\n",
       "0  23a6c48d8f096653095ed7da1083d0eb                    25k          scale   \n",
       "\n",
       "  universe_model universe_exclude_features universe_exclude_subgroups  q_hat  \\\n",
       "0             rf           nationality-sex                   keep-all   0.67   \n",
       "\n",
       "   coverage  avg_size  \n",
       "0  0.916241  1.148523  "
      ]
     },
     "execution_count": 61,
     "metadata": {},
     "output_type": "execute_result"
    }
   ],
   "source": [
    "cp_metrics_df"
   ]
  },
  {
   "cell_type": "code",
   "execution_count": 62,
   "id": "b7fbde55-a0a1-47e4-9af6-fe4a17fa8c61",
   "metadata": {
    "execution": {
     "iopub.execute_input": "2025-07-30T12:48:59.063695Z",
     "iopub.status.busy": "2025-07-30T12:48:59.063261Z",
     "iopub.status.idle": "2025-07-30T12:48:59.068831Z",
     "shell.execute_reply": "2025-07-30T12:48:59.067723Z"
    },
    "papermill": {
     "duration": 0.038883,
     "end_time": "2025-07-30T12:48:59.071675",
     "exception": false,
     "start_time": "2025-07-30T12:48:59.032792",
     "status": "completed"
    },
    "tags": []
   },
   "outputs": [],
   "source": [
    "# Conditional Coverage & looking at subgroups"
   ]
  },
  {
   "cell_type": "code",
   "execution_count": 63,
   "id": "027ae886-68dd-4141-96c7-805a5450e1ef",
   "metadata": {
    "execution": {
     "iopub.execute_input": "2025-07-30T12:48:59.156724Z",
     "iopub.status.busy": "2025-07-30T12:48:59.156180Z",
     "iopub.status.idle": "2025-07-30T12:48:59.446664Z",
     "shell.execute_reply": "2025-07-30T12:48:59.445721Z"
    },
    "papermill": {
     "duration": 0.330623,
     "end_time": "2025-07-30T12:48:59.448742",
     "exception": false,
     "start_time": "2025-07-30T12:48:59.118119",
     "status": "completed"
    },
    "tags": []
   },
   "outputs": [],
   "source": [
    "from fairness_multiverse.conformal import build_cp_groups\n",
    "\n",
    "cp_groups_df = build_cp_groups(pred_sets, y_true, X_test.index, org_test)\n",
    "#needs universe_id and setting"
   ]
  },
  {
   "cell_type": "code",
   "execution_count": 64,
   "id": "01d5802c-663a-4d1f-9d69-e036faaffbf7",
   "metadata": {
    "execution": {
     "iopub.execute_input": "2025-07-30T12:48:59.564923Z",
     "iopub.status.busy": "2025-07-30T12:48:59.564336Z",
     "iopub.status.idle": "2025-07-30T12:48:59.569739Z",
     "shell.execute_reply": "2025-07-30T12:48:59.568739Z"
    },
    "papermill": {
     "duration": 0.05203,
     "end_time": "2025-07-30T12:48:59.571347",
     "exception": false,
     "start_time": "2025-07-30T12:48:59.519317",
     "status": "completed"
    },
    "tags": []
   },
   "outputs": [],
   "source": [
    "#delete\n",
    "#cp_groups_df"
   ]
  },
  {
   "cell_type": "code",
   "execution_count": 65,
   "id": "fa424af1-d1eb-443d-b717-2d279ada8408",
   "metadata": {
    "execution": {
     "iopub.execute_input": "2025-07-30T12:48:59.672750Z",
     "iopub.status.busy": "2025-07-30T12:48:59.672348Z",
     "iopub.status.idle": "2025-07-30T12:48:59.677829Z",
     "shell.execute_reply": "2025-07-30T12:48:59.676821Z"
    },
    "papermill": {
     "duration": 0.051645,
     "end_time": "2025-07-30T12:48:59.680666",
     "exception": false,
     "start_time": "2025-07-30T12:48:59.629021",
     "status": "completed"
    },
    "tags": []
   },
   "outputs": [],
   "source": [
    "#delete\n",
    "#percentage = (cp_groups_df['nongerman_female'] == 1).mean() * 100\n",
    "#print(percentage)\n"
   ]
  },
  {
   "cell_type": "code",
   "execution_count": 66,
   "id": "6cbdab96-b2b2-45af-ad54-d0516db2e28d",
   "metadata": {
    "execution": {
     "iopub.execute_input": "2025-07-30T12:48:59.758123Z",
     "iopub.status.busy": "2025-07-30T12:48:59.757628Z",
     "iopub.status.idle": "2025-07-30T12:49:01.749140Z",
     "shell.execute_reply": "2025-07-30T12:49:01.747981Z"
    },
    "papermill": {
     "duration": 2.020564,
     "end_time": "2025-07-30T12:49:01.750763",
     "exception": false,
     "start_time": "2025-07-30T12:48:59.730199",
     "status": "completed"
    },
    "tags": []
   },
   "outputs": [],
   "source": [
    "# Define covered = 1 if true_label is in the predicted set\n",
    "cp_groups_df['covered'] = cp_groups_df.apply(\n",
    "    lambda r: int(r['true_label'] in r['pred_set']),\n",
    "    axis=1\n",
    ")"
   ]
  },
  {
   "cell_type": "code",
   "execution_count": 67,
   "id": "338ff529-1a6b-4b87-a931-8e4788d52aad",
   "metadata": {
    "execution": {
     "iopub.execute_input": "2025-07-30T12:49:01.803776Z",
     "iopub.status.busy": "2025-07-30T12:49:01.803368Z",
     "iopub.status.idle": "2025-07-30T12:49:01.807792Z",
     "shell.execute_reply": "2025-07-30T12:49:01.806933Z"
    },
    "papermill": {
     "duration": 0.026618,
     "end_time": "2025-07-30T12:49:01.809201",
     "exception": false,
     "start_time": "2025-07-30T12:49:01.782583",
     "status": "completed"
    },
    "tags": []
   },
   "outputs": [],
   "source": [
    "#cp_groups_df"
   ]
  },
  {
   "cell_type": "code",
   "execution_count": 68,
   "id": "90032e27-66df-4540-9169-4e89cfbaa758",
   "metadata": {
    "execution": {
     "iopub.execute_input": "2025-07-30T12:49:01.843208Z",
     "iopub.status.busy": "2025-07-30T12:49:01.842272Z",
     "iopub.status.idle": "2025-07-30T12:49:01.852415Z",
     "shell.execute_reply": "2025-07-30T12:49:01.851506Z"
    },
    "papermill": {
     "duration": 0.028283,
     "end_time": "2025-07-30T12:49:01.854040",
     "exception": false,
     "start_time": "2025-07-30T12:49:01.825757",
     "status": "completed"
    },
    "tags": []
   },
   "outputs": [],
   "source": [
    "subgroups = ['frau1','nongerman','nongerman_male','nongerman_female']\n",
    "\n",
    "# Conditional coverage for subgroup==1\n",
    "cond_coverage = {\n",
    "    g: cp_groups_df.loc[cp_groups_df[g]==1, 'covered'].mean()\n",
    "    for g in subgroups\n",
    "}"
   ]
  },
  {
   "cell_type": "code",
   "execution_count": 69,
   "id": "1e348fb1-b9c3-45bc-ba23-f016827a7e0d",
   "metadata": {
    "execution": {
     "iopub.execute_input": "2025-07-30T12:49:01.887174Z",
     "iopub.status.busy": "2025-07-30T12:49:01.886673Z",
     "iopub.status.idle": "2025-07-30T12:49:01.893960Z",
     "shell.execute_reply": "2025-07-30T12:49:01.893108Z"
    },
    "papermill": {
     "duration": 0.025085,
     "end_time": "2025-07-30T12:49:01.895386",
     "exception": false,
     "start_time": "2025-07-30T12:49:01.870301",
     "status": "completed"
    },
    "tags": []
   },
   "outputs": [
    {
     "data": {
      "text/plain": [
       "{'frau1': 0.9161881655209597,\n",
       " 'nongerman': 0.9138831190703419,\n",
       " 'nongerman_male': 0.9265063496352337,\n",
       " 'nongerman_female': 0.8929955290611028}"
      ]
     },
     "execution_count": 69,
     "metadata": {},
     "output_type": "execute_result"
    }
   ],
   "source": [
    "cond_coverage"
   ]
  },
  {
   "cell_type": "code",
   "execution_count": 70,
   "id": "f5093324-c3dd-4d63-bc4c-8d945e5c8bbb",
   "metadata": {
    "execution": {
     "iopub.execute_input": "2025-07-30T12:49:01.941998Z",
     "iopub.status.busy": "2025-07-30T12:49:01.941606Z",
     "iopub.status.idle": "2025-07-30T12:49:01.949237Z",
     "shell.execute_reply": "2025-07-30T12:49:01.948147Z"
    },
    "papermill": {
     "duration": 0.040866,
     "end_time": "2025-07-30T12:49:01.952711",
     "exception": false,
     "start_time": "2025-07-30T12:49:01.911845",
     "status": "completed"
    },
    "tags": []
   },
   "outputs": [],
   "source": [
    "for subgroup, cov in cond_coverage.items():\n",
    "    cp_metrics_df[f\"cov_{subgroup}\"] = cov"
   ]
  },
  {
   "cell_type": "code",
   "execution_count": 71,
   "id": "6e872e10-dbe5-49e8-b554-5030c98ff75d",
   "metadata": {
    "execution": {
     "iopub.execute_input": "2025-07-30T12:49:02.120290Z",
     "iopub.status.busy": "2025-07-30T12:49:02.119855Z",
     "iopub.status.idle": "2025-07-30T12:49:02.159449Z",
     "shell.execute_reply": "2025-07-30T12:49:02.158396Z"
    },
    "papermill": {
     "duration": 0.121106,
     "end_time": "2025-07-30T12:49:02.161260",
     "exception": false,
     "start_time": "2025-07-30T12:49:02.040154",
     "status": "completed"
    },
    "tags": []
   },
   "outputs": [
    {
     "data": {
      "text/html": [
       "<div>\n",
       "<style scoped>\n",
       "    .dataframe tbody tr th:only-of-type {\n",
       "        vertical-align: middle;\n",
       "    }\n",
       "\n",
       "    .dataframe tbody tr th {\n",
       "        vertical-align: top;\n",
       "    }\n",
       "\n",
       "    .dataframe thead th {\n",
       "        text-align: right;\n",
       "    }\n",
       "</style>\n",
       "<table border=\"1\" class=\"dataframe\">\n",
       "  <thead>\n",
       "    <tr style=\"text-align: right;\">\n",
       "      <th></th>\n",
       "      <th>universe_id</th>\n",
       "      <th>universe_training_size</th>\n",
       "      <th>universe_scale</th>\n",
       "      <th>universe_model</th>\n",
       "      <th>universe_exclude_features</th>\n",
       "      <th>universe_exclude_subgroups</th>\n",
       "      <th>q_hat</th>\n",
       "      <th>coverage</th>\n",
       "      <th>avg_size</th>\n",
       "      <th>cov_frau1</th>\n",
       "      <th>cov_nongerman</th>\n",
       "      <th>cov_nongerman_male</th>\n",
       "      <th>cov_nongerman_female</th>\n",
       "    </tr>\n",
       "  </thead>\n",
       "  <tbody>\n",
       "    <tr>\n",
       "      <th>0</th>\n",
       "      <td>23a6c48d8f096653095ed7da1083d0eb</td>\n",
       "      <td>25k</td>\n",
       "      <td>scale</td>\n",
       "      <td>rf</td>\n",
       "      <td>nationality-sex</td>\n",
       "      <td>keep-all</td>\n",
       "      <td>0.67</td>\n",
       "      <td>0.916241</td>\n",
       "      <td>1.148523</td>\n",
       "      <td>0.916188</td>\n",
       "      <td>0.913883</td>\n",
       "      <td>0.926506</td>\n",
       "      <td>0.892996</td>\n",
       "    </tr>\n",
       "  </tbody>\n",
       "</table>\n",
       "</div>"
      ],
      "text/plain": [
       "                        universe_id universe_training_size universe_scale  \\\n",
       "0  23a6c48d8f096653095ed7da1083d0eb                    25k          scale   \n",
       "\n",
       "  universe_model universe_exclude_features universe_exclude_subgroups  q_hat  \\\n",
       "0             rf           nationality-sex                   keep-all   0.67   \n",
       "\n",
       "   coverage  avg_size  cov_frau1  cov_nongerman  cov_nongerman_male  \\\n",
       "0  0.916241  1.148523   0.916188       0.913883            0.926506   \n",
       "\n",
       "   cov_nongerman_female  \n",
       "0              0.892996  "
      ]
     },
     "execution_count": 71,
     "metadata": {},
     "output_type": "execute_result"
    }
   ],
   "source": [
    "cp_metrics_df"
   ]
  },
  {
   "cell_type": "markdown",
   "id": "33774451",
   "metadata": {
    "papermill": {
     "duration": 0.047704,
     "end_time": "2025-07-30T12:49:02.250521",
     "exception": false,
     "start_time": "2025-07-30T12:49:02.202817",
     "status": "completed"
    },
    "tags": []
   },
   "source": [
    "# (Fairness) Metrics"
   ]
  },
  {
   "cell_type": "code",
   "execution_count": 72,
   "id": "debc5d62",
   "metadata": {
    "execution": {
     "iopub.execute_input": "2025-07-30T12:49:02.308076Z",
     "iopub.status.busy": "2025-07-30T12:49:02.307692Z",
     "iopub.status.idle": "2025-07-30T12:49:02.338961Z",
     "shell.execute_reply": "2025-07-30T12:49:02.337875Z"
    },
    "papermill": {
     "duration": 0.063026,
     "end_time": "2025-07-30T12:49:02.341378",
     "exception": false,
     "start_time": "2025-07-30T12:49:02.278352",
     "status": "completed"
    },
    "tags": []
   },
   "outputs": [],
   "source": [
    "# do I need to include maxdeutsch1.missing?\n",
    "\n",
    "import numpy as np\n",
    "\n",
    "colname_to_bin = \"maxdeutsch1\"\n",
    "majority_value = org_train[colname_to_bin].mode()[0]\n",
    "\n",
    "org_test[\"majmin\"] = np.where(org_test[colname_to_bin] == majority_value, \"majority\", \"minority\")"
   ]
  },
  {
   "cell_type": "code",
   "execution_count": 73,
   "id": "06a50de5",
   "metadata": {
    "execution": {
     "iopub.execute_input": "2025-07-30T12:49:02.400441Z",
     "iopub.status.busy": "2025-07-30T12:49:02.399971Z",
     "iopub.status.idle": "2025-07-30T12:49:05.525653Z",
     "shell.execute_reply": "2025-07-30T12:49:05.524563Z"
    },
    "papermill": {
     "duration": 3.156539,
     "end_time": "2025-07-30T12:49:05.527806",
     "exception": false,
     "start_time": "2025-07-30T12:49:02.371267",
     "status": "completed"
    },
    "tags": []
   },
   "outputs": [],
   "source": [
    "example_universe = universe.copy()\n",
    "example_universe[\"cutoff\"] = example_universe[\"cutoff\"][0]\n",
    "example_universe[\"eval_fairness_grouping\"] = example_universe[\"eval_fairness_grouping\"][0]\n",
    "fairness_dict, metric_frame = universe_analysis.compute_metrics(\n",
    "    example_universe,\n",
    "    y_pred_prob=probs_test,\n",
    "    y_test=y_true,\n",
    "    org_test=org_test,\n",
    ")"
   ]
  },
  {
   "cell_type": "markdown",
   "id": "f95d4e02",
   "metadata": {
    "papermill": {
     "duration": 0.027324,
     "end_time": "2025-07-30T12:49:05.587282",
     "exception": false,
     "start_time": "2025-07-30T12:49:05.559958",
     "status": "completed"
    },
    "tags": []
   },
   "source": [
    "# Overall"
   ]
  },
  {
   "cell_type": "markdown",
   "id": "bdee4871",
   "metadata": {
    "papermill": {
     "duration": 0.026624,
     "end_time": "2025-07-30T12:49:05.641651",
     "exception": false,
     "start_time": "2025-07-30T12:49:05.615027",
     "status": "completed"
    },
    "tags": []
   },
   "source": [
    "Fairness\n",
    "Main fairness target: Equalized Odds. Seems to be a better fit than equal opportunity, since we're not only interested in Y = 1. Seems to be a better fit than demographic parity, since we also care about accuracy, not just equal distribution of preds.\n",
    "\n",
    "Pick column for computation of fairness metrics\n",
    "\n",
    "Performance\n",
    "Overall performance measures, most interesting in relation to the measures split by group below"
   ]
  },
  {
   "cell_type": "code",
   "execution_count": 74,
   "id": "c4e067c6",
   "metadata": {
    "execution": {
     "iopub.execute_input": "2025-07-30T12:49:05.695860Z",
     "iopub.status.busy": "2025-07-30T12:49:05.694901Z",
     "iopub.status.idle": "2025-07-30T12:49:05.704234Z",
     "shell.execute_reply": "2025-07-30T12:49:05.702964Z"
    },
    "papermill": {
     "duration": 0.037279,
     "end_time": "2025-07-30T12:49:05.705853",
     "exception": false,
     "start_time": "2025-07-30T12:49:05.668574",
     "status": "completed"
    },
    "tags": []
   },
   "outputs": [
    {
     "data": {
      "text/plain": [
       "accuracy                   0.212875\n",
       "balanced accuracy          0.537368\n",
       "f1                         0.240941\n",
       "precision                  0.137477\n",
       "false positive rate        0.899107\n",
       "false negative rate        0.026156\n",
       "selection rate             0.908695\n",
       "count                  89710.000000\n",
       "dtype: float64"
      ]
     },
     "execution_count": 74,
     "metadata": {},
     "output_type": "execute_result"
    }
   ],
   "source": [
    "metric_frame.overall"
   ]
  },
  {
   "cell_type": "markdown",
   "id": "e968fe9d",
   "metadata": {
    "papermill": {
     "duration": 0.027306,
     "end_time": "2025-07-30T12:49:05.760403",
     "exception": false,
     "start_time": "2025-07-30T12:49:05.733097",
     "status": "completed"
    },
    "tags": []
   },
   "source": [
    "By Group"
   ]
  },
  {
   "cell_type": "code",
   "execution_count": 75,
   "id": "ec325bce",
   "metadata": {
    "execution": {
     "iopub.execute_input": "2025-07-30T12:49:05.816156Z",
     "iopub.status.busy": "2025-07-30T12:49:05.815402Z",
     "iopub.status.idle": "2025-07-30T12:49:05.832327Z",
     "shell.execute_reply": "2025-07-30T12:49:05.831359Z"
    },
    "papermill": {
     "duration": 0.045967,
     "end_time": "2025-07-30T12:49:05.834158",
     "exception": false,
     "start_time": "2025-07-30T12:49:05.788191",
     "status": "completed"
    },
    "tags": []
   },
   "outputs": [
    {
     "data": {
      "text/html": [
       "<div>\n",
       "<style scoped>\n",
       "    .dataframe tbody tr th:only-of-type {\n",
       "        vertical-align: middle;\n",
       "    }\n",
       "\n",
       "    .dataframe tbody tr th {\n",
       "        vertical-align: top;\n",
       "    }\n",
       "\n",
       "    .dataframe thead th {\n",
       "        text-align: right;\n",
       "    }\n",
       "</style>\n",
       "<table border=\"1\" class=\"dataframe\">\n",
       "  <thead>\n",
       "    <tr style=\"text-align: right;\">\n",
       "      <th></th>\n",
       "      <th>accuracy</th>\n",
       "      <th>balanced accuracy</th>\n",
       "      <th>f1</th>\n",
       "      <th>precision</th>\n",
       "      <th>false positive rate</th>\n",
       "      <th>false negative rate</th>\n",
       "      <th>selection rate</th>\n",
       "      <th>count</th>\n",
       "    </tr>\n",
       "    <tr>\n",
       "      <th>majmin</th>\n",
       "      <th></th>\n",
       "      <th></th>\n",
       "      <th></th>\n",
       "      <th></th>\n",
       "      <th></th>\n",
       "      <th></th>\n",
       "      <th></th>\n",
       "      <th></th>\n",
       "    </tr>\n",
       "  </thead>\n",
       "  <tbody>\n",
       "    <tr>\n",
       "      <th>majority</th>\n",
       "      <td>0.198178</td>\n",
       "      <td>0.533827</td>\n",
       "      <td>0.246030</td>\n",
       "      <td>0.140469</td>\n",
       "      <td>0.922389</td>\n",
       "      <td>0.009956</td>\n",
       "      <td>0.931329</td>\n",
       "      <td>69170.0</td>\n",
       "    </tr>\n",
       "    <tr>\n",
       "      <th>minority</th>\n",
       "      <td>0.262366</td>\n",
       "      <td>0.544559</td>\n",
       "      <td>0.221709</td>\n",
       "      <td>0.126206</td>\n",
       "      <td>0.822199</td>\n",
       "      <td>0.088682</td>\n",
       "      <td>0.832473</td>\n",
       "      <td>20540.0</td>\n",
       "    </tr>\n",
       "  </tbody>\n",
       "</table>\n",
       "</div>"
      ],
      "text/plain": [
       "          accuracy  balanced accuracy        f1  precision  \\\n",
       "majmin                                                       \n",
       "majority  0.198178           0.533827  0.246030   0.140469   \n",
       "minority  0.262366           0.544559  0.221709   0.126206   \n",
       "\n",
       "          false positive rate  false negative rate  selection rate    count  \n",
       "majmin                                                                       \n",
       "majority             0.922389             0.009956        0.931329  69170.0  \n",
       "minority             0.822199             0.088682        0.832473  20540.0  "
      ]
     },
     "execution_count": 75,
     "metadata": {},
     "output_type": "execute_result"
    }
   ],
   "source": [
    "metric_frame.by_group"
   ]
  },
  {
   "cell_type": "code",
   "execution_count": 76,
   "id": "a9ddbe63",
   "metadata": {
    "execution": {
     "iopub.execute_input": "2025-07-30T12:49:05.892870Z",
     "iopub.status.busy": "2025-07-30T12:49:05.892431Z",
     "iopub.status.idle": "2025-07-30T12:49:08.261460Z",
     "shell.execute_reply": "2025-07-30T12:49:08.260382Z"
    },
    "papermill": {
     "duration": 2.398903,
     "end_time": "2025-07-30T12:49:08.263291",
     "exception": false,
     "start_time": "2025-07-30T12:49:05.864388",
     "status": "completed"
    },
    "tags": []
   },
   "outputs": [
    {
     "data": {
      "text/plain": [
       "array([[<Axes: title={'center': 'accuracy'}, xlabel='majmin'>,\n",
       "        <Axes: title={'center': 'balanced accuracy'}, xlabel='majmin'>,\n",
       "        <Axes: title={'center': 'f1'}, xlabel='majmin'>],\n",
       "       [<Axes: title={'center': 'precision'}, xlabel='majmin'>,\n",
       "        <Axes: title={'center': 'false positive rate'}, xlabel='majmin'>,\n",
       "        <Axes: title={'center': 'false negative rate'}, xlabel='majmin'>],\n",
       "       [<Axes: title={'center': 'selection rate'}, xlabel='majmin'>,\n",
       "        <Axes: title={'center': 'count'}, xlabel='majmin'>,\n",
       "        <Axes: xlabel='majmin'>]], dtype=object)"
      ]
     },
     "execution_count": 76,
     "metadata": {},
     "output_type": "execute_result"
    },
    {
     "data": {
      "image/png": "[encoded data removed]",
      "text/plain": [
       "<Figure size 1200x800 with 9 Axes>"
      ]
     },
     "metadata": {},
     "output_type": "display_data"
    }
   ],
   "source": [
    "# In a graphic\n",
    "metric_frame.by_group.plot.bar(\n",
    "    subplots=True,\n",
    "    layout=[3, 3],\n",
    "    legend=False,\n",
    "    figsize=[12, 8],\n",
    "    title=\"Show all metrics\",\n",
    ")"
   ]
  },
  {
   "cell_type": "markdown",
   "id": "f57a0bac",
   "metadata": {
    "papermill": {
     "duration": 0.038942,
     "end_time": "2025-07-30T12:49:08.340658",
     "exception": false,
     "start_time": "2025-07-30T12:49:08.301716",
     "status": "completed"
    },
    "tags": []
   },
   "source": [
    "# Final Output"
   ]
  },
  {
   "cell_type": "code",
   "execution_count": 77,
   "id": "96d280a3",
   "metadata": {
    "execution": {
     "iopub.execute_input": "2025-07-30T12:49:08.400766Z",
     "iopub.status.busy": "2025-07-30T12:49:08.400050Z",
     "iopub.status.idle": "2025-07-30T12:49:08.407781Z",
     "shell.execute_reply": "2025-07-30T12:49:08.406986Z"
    },
    "papermill": {
     "duration": 0.038756,
     "end_time": "2025-07-30T12:49:08.409285",
     "exception": false,
     "start_time": "2025-07-30T12:49:08.370529",
     "status": "completed"
    },
    "tags": []
   },
   "outputs": [
    {
     "data": {
      "text/plain": [
       "4"
      ]
     },
     "execution_count": 77,
     "metadata": {},
     "output_type": "execute_result"
    }
   ],
   "source": [
    "sub_universes = universe_analysis.generate_sub_universes()\n",
    "len(sub_universes)"
   ]
  },
  {
   "cell_type": "code",
   "execution_count": 78,
   "id": "92adf7ba",
   "metadata": {
    "execution": {
     "iopub.execute_input": "2025-07-30T12:49:08.469191Z",
     "iopub.status.busy": "2025-07-30T12:49:08.468309Z",
     "iopub.status.idle": "2025-07-30T12:49:08.595045Z",
     "shell.execute_reply": "2025-07-30T12:49:08.593953Z"
    },
    "papermill": {
     "duration": 0.158524,
     "end_time": "2025-07-30T12:49:08.597005",
     "exception": false,
     "start_time": "2025-07-30T12:49:08.438481",
     "status": "completed"
    },
    "tags": []
   },
   "outputs": [],
   "source": [
    "def filter_sub_universe_data(sub_universe, org_test):\n",
    "    # Keep all rows — no filtering\n",
    "    keep_rows_mask = np.ones(org_test.shape[0], dtype=bool)\n",
    "\n",
    "    print(f\"[INFO] Keeping all rows: {keep_rows_mask.sum()} rows retained.\")\n",
    "    return keep_rows_mask"
   ]
  },
  {
   "cell_type": "code",
   "execution_count": 79,
   "id": "4a759155",
   "metadata": {
    "execution": {
     "iopub.execute_input": "2025-07-30T12:49:08.656613Z",
     "iopub.status.busy": "2025-07-30T12:49:08.656098Z",
     "iopub.status.idle": "2025-07-30T12:49:18.045586Z",
     "shell.execute_reply": "2025-07-30T12:49:18.044465Z"
    },
    "papermill": {
     "duration": 9.42121,
     "end_time": "2025-07-30T12:49:18.047467",
     "exception": false,
     "start_time": "2025-07-30T12:49:08.626257",
     "status": "completed"
    },
    "tags": []
   },
   "outputs": [
    {
     "name": "stdout",
     "output_type": "stream",
     "text": [
      "Stopping execution_time clock.\n",
      "[INFO] Keeping all rows: 89710 rows retained.\n"
     ]
    },
    {
     "name": "stdout",
     "output_type": "stream",
     "text": [
      "[INFO] Keeping all rows: 89710 rows retained.\n"
     ]
    },
    {
     "name": "stdout",
     "output_type": "stream",
     "text": [
      "[INFO] Keeping all rows: 89710 rows retained.\n"
     ]
    },
    {
     "name": "stdout",
     "output_type": "stream",
     "text": [
      "[INFO] Keeping all rows: 89710 rows retained.\n"
     ]
    },
    {
     "data": {
      "text/html": [
       "<div>\n",
       "<style scoped>\n",
       "    .dataframe tbody tr th:only-of-type {\n",
       "        vertical-align: middle;\n",
       "    }\n",
       "\n",
       "    .dataframe tbody tr th {\n",
       "        vertical-align: top;\n",
       "    }\n",
       "\n",
       "    .dataframe thead th {\n",
       "        text-align: right;\n",
       "    }\n",
       "</style>\n",
       "<table border=\"1\" class=\"dataframe\">\n",
       "  <thead>\n",
       "    <tr style=\"text-align: right;\">\n",
       "      <th></th>\n",
       "      <th>run_no</th>\n",
       "      <th>universe_id</th>\n",
       "      <th>universe_settings</th>\n",
       "      <th>execution_time</th>\n",
       "      <th>test_size_n</th>\n",
       "      <th>test_size_frac</th>\n",
       "      <th>fair_main_equalized_odds_difference</th>\n",
       "      <th>fair_main_equalized_odds_ratio</th>\n",
       "      <th>fair_main_demographic_parity_difference</th>\n",
       "      <th>fair_main_demographic_parity_ratio</th>\n",
       "      <th>...</th>\n",
       "      <th>perf_grp_precision_0</th>\n",
       "      <th>perf_grp_precision_1</th>\n",
       "      <th>perf_grp_false positive rate_0</th>\n",
       "      <th>perf_grp_false positive rate_1</th>\n",
       "      <th>perf_grp_false negative rate_0</th>\n",
       "      <th>perf_grp_false negative rate_1</th>\n",
       "      <th>perf_grp_selection rate_0</th>\n",
       "      <th>perf_grp_selection rate_1</th>\n",
       "      <th>perf_grp_count_0</th>\n",
       "      <th>perf_grp_count_1</th>\n",
       "    </tr>\n",
       "  </thead>\n",
       "  <tbody>\n",
       "    <tr>\n",
       "      <th>0</th>\n",
       "      <td>12</td>\n",
       "      <td>23a6c48d8f096653095ed7da1083d0eb</td>\n",
       "      <td>{\"cutoff\": \"quantile_0.1\", \"eval_fairness_grou...</td>\n",
       "      <td>48.740986</td>\n",
       "      <td>89710</td>\n",
       "      <td>1.0</td>\n",
       "      <td>0.100190</td>\n",
       "      <td>0.891380</td>\n",
       "      <td>0.098855</td>\n",
       "      <td>0.893856</td>\n",
       "      <td>...</td>\n",
       "      <td>NaN</td>\n",
       "      <td>NaN</td>\n",
       "      <td>NaN</td>\n",
       "      <td>NaN</td>\n",
       "      <td>NaN</td>\n",
       "      <td>NaN</td>\n",
       "      <td>NaN</td>\n",
       "      <td>NaN</td>\n",
       "      <td>NaN</td>\n",
       "      <td>NaN</td>\n",
       "    </tr>\n",
       "    <tr>\n",
       "      <th>0</th>\n",
       "      <td>12</td>\n",
       "      <td>23a6c48d8f096653095ed7da1083d0eb</td>\n",
       "      <td>{\"cutoff\": \"quantile_0.1\", \"eval_fairness_grou...</td>\n",
       "      <td>48.740986</td>\n",
       "      <td>89710</td>\n",
       "      <td>1.0</td>\n",
       "      <td>0.100190</td>\n",
       "      <td>0.891380</td>\n",
       "      <td>0.098855</td>\n",
       "      <td>0.893856</td>\n",
       "      <td>...</td>\n",
       "      <td>0.126206</td>\n",
       "      <td>0.140469</td>\n",
       "      <td>0.822199</td>\n",
       "      <td>0.922389</td>\n",
       "      <td>0.088682</td>\n",
       "      <td>0.009956</td>\n",
       "      <td>0.832473</td>\n",
       "      <td>0.931329</td>\n",
       "      <td>20540.0</td>\n",
       "      <td>69170.0</td>\n",
       "    </tr>\n",
       "    <tr>\n",
       "      <th>0</th>\n",
       "      <td>12</td>\n",
       "      <td>23a6c48d8f096653095ed7da1083d0eb</td>\n",
       "      <td>{\"cutoff\": \"quantile_0.25\", \"eval_fairness_gro...</td>\n",
       "      <td>48.740986</td>\n",
       "      <td>89710</td>\n",
       "      <td>1.0</td>\n",
       "      <td>0.103393</td>\n",
       "      <td>0.889122</td>\n",
       "      <td>0.091959</td>\n",
       "      <td>0.886302</td>\n",
       "      <td>...</td>\n",
       "      <td>NaN</td>\n",
       "      <td>NaN</td>\n",
       "      <td>NaN</td>\n",
       "      <td>NaN</td>\n",
       "      <td>NaN</td>\n",
       "      <td>NaN</td>\n",
       "      <td>NaN</td>\n",
       "      <td>NaN</td>\n",
       "      <td>NaN</td>\n",
       "      <td>NaN</td>\n",
       "    </tr>\n",
       "    <tr>\n",
       "      <th>0</th>\n",
       "      <td>12</td>\n",
       "      <td>23a6c48d8f096653095ed7da1083d0eb</td>\n",
       "      <td>{\"cutoff\": \"quantile_0.25\", \"eval_fairness_gro...</td>\n",
       "      <td>48.740986</td>\n",
       "      <td>89710</td>\n",
       "      <td>1.0</td>\n",
       "      <td>0.103393</td>\n",
       "      <td>0.889122</td>\n",
       "      <td>0.091959</td>\n",
       "      <td>0.886302</td>\n",
       "      <td>...</td>\n",
       "      <td>0.138549</td>\n",
       "      <td>0.157637</td>\n",
       "      <td>0.697997</td>\n",
       "      <td>0.785041</td>\n",
       "      <td>0.138514</td>\n",
       "      <td>0.035120</td>\n",
       "      <td>0.716845</td>\n",
       "      <td>0.808804</td>\n",
       "      <td>20540.0</td>\n",
       "      <td>69170.0</td>\n",
       "    </tr>\n",
       "  </tbody>\n",
       "</table>\n",
       "<p>4 rows × 50 columns</p>\n",
       "</div>"
      ],
      "text/plain": [
       "  run_no                       universe_id  \\\n",
       "0     12  23a6c48d8f096653095ed7da1083d0eb   \n",
       "0     12  23a6c48d8f096653095ed7da1083d0eb   \n",
       "0     12  23a6c48d8f096653095ed7da1083d0eb   \n",
       "0     12  23a6c48d8f096653095ed7da1083d0eb   \n",
       "\n",
       "                                   universe_settings  execution_time  \\\n",
       "0  {\"cutoff\": \"quantile_0.1\", \"eval_fairness_grou...       48.740986   \n",
       "0  {\"cutoff\": \"quantile_0.1\", \"eval_fairness_grou...       48.740986   \n",
       "0  {\"cutoff\": \"quantile_0.25\", \"eval_fairness_gro...       48.740986   \n",
       "0  {\"cutoff\": \"quantile_0.25\", \"eval_fairness_gro...       48.740986   \n",
       "\n",
       "   test_size_n  test_size_frac  fair_main_equalized_odds_difference  \\\n",
       "0        89710             1.0                             0.100190   \n",
       "0        89710             1.0                             0.100190   \n",
       "0        89710             1.0                             0.103393   \n",
       "0        89710             1.0                             0.103393   \n",
       "\n",
       "   fair_main_equalized_odds_ratio  fair_main_demographic_parity_difference  \\\n",
       "0                        0.891380                                 0.098855   \n",
       "0                        0.891380                                 0.098855   \n",
       "0                        0.889122                                 0.091959   \n",
       "0                        0.889122                                 0.091959   \n",
       "\n",
       "   fair_main_demographic_parity_ratio  ...  perf_grp_precision_0  \\\n",
       "0                            0.893856  ...                   NaN   \n",
       "0                            0.893856  ...              0.126206   \n",
       "0                            0.886302  ...                   NaN   \n",
       "0                            0.886302  ...              0.138549   \n",
       "\n",
       "   perf_grp_precision_1  perf_grp_false positive rate_0  \\\n",
       "0                   NaN                             NaN   \n",
       "0              0.140469                        0.822199   \n",
       "0                   NaN                             NaN   \n",
       "0              0.157637                        0.697997   \n",
       "\n",
       "   perf_grp_false positive rate_1  perf_grp_false negative rate_0  \\\n",
       "0                             NaN                             NaN   \n",
       "0                        0.922389                        0.088682   \n",
       "0                             NaN                             NaN   \n",
       "0                        0.785041                        0.138514   \n",
       "\n",
       "   perf_grp_false negative rate_1  perf_grp_selection rate_0  \\\n",
       "0                             NaN                        NaN   \n",
       "0                        0.009956                   0.832473   \n",
       "0                             NaN                        NaN   \n",
       "0                        0.035120                   0.716845   \n",
       "\n",
       "   perf_grp_selection rate_1  perf_grp_count_0  perf_grp_count_1  \n",
       "0                        NaN               NaN               NaN  \n",
       "0                   0.931329           20540.0           69170.0  \n",
       "0                        NaN               NaN               NaN  \n",
       "0                   0.808804           20540.0           69170.0  \n",
       "\n",
       "[4 rows x 50 columns]"
      ]
     },
     "execution_count": 79,
     "metadata": {},
     "output_type": "execute_result"
    }
   ],
   "source": [
    "final_output = universe_analysis.generate_final_output(\n",
    "    y_pred_prob=probs_test,\n",
    "    y_test=y_true,\n",
    "    org_test=org_test,\n",
    "    filter_data=filter_sub_universe_data,\n",
    "    cp_metrics_df=cp_metrics_df,\n",
    "    save=True,\n",
    ")\n",
    "final_output"
   ]
  },
  {
   "cell_type": "code",
   "execution_count": null,
   "id": "721ff514-cb11-46f8-b6fc-50392f74b5cb",
   "metadata": {
    "papermill": {
     "duration": 0.030444,
     "end_time": "2025-07-30T12:49:18.112772",
     "exception": false,
     "start_time": "2025-07-30T12:49:18.082328",
     "status": "completed"
    },
    "tags": []
   },
   "outputs": [],
   "source": []
  }
 ],
 "metadata": {
  "celltoolbar": "Tags",
  "kernelspec": {
   "display_name": "Python (CMA Fairness)",
   "language": "python",
   "name": "cma_fair_env"
  },
  "language_info": {
   "codemirror_mode": {
    "name": "ipython",
    "version": 3
   },
   "file_extension": ".py",
   "mimetype": "text/x-python",
   "name": "python",
   "nbconvert_exporter": "python",
   "pygments_lexer": "ipython3",
   "version": "3.10.12"
  },
  "papermill": {
   "default_parameters": {},
   "duration": 62.330726,
   "end_time": "2025-07-30T12:49:18.963665",
   "environment_variables": {},
   "exception": null,
   "input_path": "universe_analysis.ipynb",
   "output_path": "output/runs/12/notebooks/m_12-23a6c48d8f096653095ed7da1083d0eb.ipynb",
   "parameters": {
    "output_dir": "output",
    "run_no": "12",
    "seed": "2023",
    "universe": "{\"cutoff\": [\"quantile_0.1\", \"quantile_0.25\"], \"eval_fairness_grouping\": [\"majority-minority\", \"nationality-all\"], \"exclude_features\": \"nationality-sex\", \"exclude_subgroups\": \"keep-all\", \"model\": \"rf\", \"scale\": \"scale\", \"training_size\": \"25k\", \"training_year\": \"2014\"}",
    "universe_id": "23a6c48d8f096653095ed7da1083d0eb"
   },
   "start_time": "2025-07-30T12:48:16.632939",
   "version": "2.6.0"
  }
 },
 "nbformat": 4,
 "nbformat_minor": 5
}