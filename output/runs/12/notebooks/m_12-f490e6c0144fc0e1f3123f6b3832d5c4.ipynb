{
 "cells": [
  {
   "cell_type": "code",
   "execution_count": 1,
   "id": "f159f837-637b-42ba-96b5-ec9a68c44524",
   "metadata": {
    "execution": {
     "iopub.execute_input": "2025-07-30T13:11:55.660628Z",
     "iopub.status.busy": "2025-07-30T13:11:55.659730Z",
     "iopub.status.idle": "2025-07-30T13:11:55.672960Z",
     "shell.execute_reply": "2025-07-30T13:11:55.672023Z"
    },
    "papermill": {
     "duration": 0.034434,
     "end_time": "2025-07-30T13:11:55.674657",
     "exception": false,
     "start_time": "2025-07-30T13:11:55.640223",
     "status": "completed"
    },
    "tags": []
   },
   "outputs": [
    {
     "name": "stdout",
     "output_type": "stream",
     "text": [
      "/dss/dsshome1/0C/ra93lal2/cma/CMA_Fairness_v2\n"
     ]
    },
    {
     "name": "stderr",
     "output_type": "stream",
     "text": [
      "/dss/dsshome1/0C/ra93lal2/.local/share/virtualenvs/CMA_Fairness_v2-3j10GkSs/lib/python3.10/site-packages/IPython/core/magics/osm.py:393: UserWarning: This is now an optional IPython functionality, using bookmarks requires you to install the `pickleshare` library.\n",
      "  bkms = self.shell.db.get('bookmarks', {})\n",
      "/dss/dsshome1/0C/ra93lal2/.local/share/virtualenvs/CMA_Fairness_v2-3j10GkSs/lib/python3.10/site-packages/IPython/core/magics/osm.py:417: UserWarning: This is now an optional IPython functionality, setting dhist requires you to install the `pickleshare` library.\n",
      "  self.shell.db['dhist'] = compress_dhist(dhist)[-100:]\n"
     ]
    }
   ],
   "source": [
    "%cd ~/cma/CMA_Fairness_v2"
   ]
  },
  {
   "cell_type": "markdown",
   "id": "de2603b9",
   "metadata": {
    "papermill": {
     "duration": 0.018976,
     "end_time": "2025-07-30T13:11:55.714058",
     "exception": false,
     "start_time": "2025-07-30T13:11:55.695082",
     "status": "completed"
    },
    "tags": []
   },
   "source": [
    "The following cell holds the definition of our parameters, these values can be overriden by rendering the with e.g. the following command:\n",
    "\n",
    "papermill -p alpha 0.2 -p ratio 0.3 universe_analysis.ipynb output/test_run.ipynb"
   ]
  },
  {
   "cell_type": "code",
   "execution_count": 2,
   "id": "a80968a0-40bb-4fa9-85ef-2d5eefb01975",
   "metadata": {
    "execution": {
     "iopub.execute_input": "2025-07-30T13:11:55.756326Z",
     "iopub.status.busy": "2025-07-30T13:11:55.755652Z",
     "iopub.status.idle": "2025-07-30T13:11:55.761339Z",
     "shell.execute_reply": "2025-07-30T13:11:55.760475Z"
    },
    "papermill": {
     "duration": 0.028684,
     "end_time": "2025-07-30T13:11:55.762879",
     "exception": false,
     "start_time": "2025-07-30T13:11:55.734195",
     "status": "completed"
    },
    "tags": []
   },
   "outputs": [
    {
     "name": "stdout",
     "output_type": "stream",
     "text": [
      "Current working directory: /dss/dsshome1/0C/ra93lal2/cma/CMA_Fairness_v2\n"
     ]
    }
   ],
   "source": [
    "import os\n",
    "print(\"Current working directory:\", os.getcwd())"
   ]
  },
  {
   "cell_type": "code",
   "execution_count": 3,
   "id": "2dce4c03",
   "metadata": {
    "execution": {
     "iopub.execute_input": "2025-07-30T13:11:55.804711Z",
     "iopub.status.busy": "2025-07-30T13:11:55.804022Z",
     "iopub.status.idle": "2025-07-30T13:11:55.810104Z",
     "shell.execute_reply": "2025-07-30T13:11:55.809251Z"
    },
    "papermill": {
     "duration": 0.029097,
     "end_time": "2025-07-30T13:11:55.811792",
     "exception": false,
     "start_time": "2025-07-30T13:11:55.782695",
     "status": "completed"
    },
    "tags": [
     "parameters"
    ]
   },
   "outputs": [],
   "source": [
    "run_no = 0\n",
    "universe_id = \"test\"\n",
    "universe = {\n",
    "    \"training_size\": \"25k\", # \"25k\", \"5k\", \"1k\"\n",
    "    \"training_year\": \"2014\", # \"2014\", \"2012_14\", \"2010_14\"\n",
    "    \"scale\": \"scale\", # \"scale\", \"do-not-scale\",\n",
    "    #\"stratify_split\": \"target\", # \"none\", \"target\", \"protected-attribute\", \"both\",\n",
    "    \"model\": \"elasticnet\", # \"logreg\", \"penalized_logreg\", \"rf\", \"gbm\", \"elasticnet\"\n",
    "    \"cutoff\": [\"quantile_0.15\", \"quantile_0.30\"],\n",
    "    \"exclude_features\": \"age\", # \"none\", \"nationality\", \"sex\", \"nationality-sex\", \"age\"\n",
    "    \"exclude_subgroups\": \"keep-all\", # \"keep-all\", \"drop-non-german\"\n",
    "    \"eval_fairness_grouping\": [\"majority-minority\", \"nationality-all\"]\n",
    "}\n",
    "\n",
    "output_dir=\"./output\"\n",
    "seed=0"
   ]
  },
  {
   "cell_type": "code",
   "execution_count": 4,
   "id": "abfe76a0",
   "metadata": {
    "execution": {
     "iopub.execute_input": "2025-07-30T13:11:55.853333Z",
     "iopub.status.busy": "2025-07-30T13:11:55.852469Z",
     "iopub.status.idle": "2025-07-30T13:11:55.858616Z",
     "shell.execute_reply": "2025-07-30T13:11:55.857602Z"
    },
    "papermill": {
     "duration": 0.028319,
     "end_time": "2025-07-30T13:11:55.860481",
     "exception": false,
     "start_time": "2025-07-30T13:11:55.832162",
     "status": "completed"
    },
    "tags": [
     "injected-parameters"
    ]
   },
   "outputs": [],
   "source": [
    "# Parameters\n",
    "universe_id = \"f490e6c0144fc0e1f3123f6b3832d5c4\"\n",
    "run_no = \"12\"\n",
    "universe = \"{\\\"cutoff\\\": [\\\"quantile_0.1\\\", \\\"quantile_0.25\\\"], \\\"eval_fairness_grouping\\\": [\\\"majority-minority\\\", \\\"nationality-all\\\"], \\\"exclude_features\\\": \\\"nationality-sex\\\", \\\"exclude_subgroups\\\": \\\"keep-all\\\", \\\"model\\\": \\\"logreg\\\", \\\"scale\\\": \\\"do-not-scale\\\", \\\"training_size\\\": \\\"25k\\\", \\\"training_year\\\": \\\"2012_14\\\"}\"\n",
    "output_dir = \"output\"\n",
    "seed = \"2023\"\n"
   ]
  },
  {
   "cell_type": "code",
   "execution_count": 5,
   "id": "1650acaf",
   "metadata": {
    "execution": {
     "iopub.execute_input": "2025-07-30T13:11:55.900398Z",
     "iopub.status.busy": "2025-07-30T13:11:55.899656Z",
     "iopub.status.idle": "2025-07-30T13:11:55.905443Z",
     "shell.execute_reply": "2025-07-30T13:11:55.904531Z"
    },
    "papermill": {
     "duration": 0.026903,
     "end_time": "2025-07-30T13:11:55.906916",
     "exception": false,
     "start_time": "2025-07-30T13:11:55.880013",
     "status": "completed"
    },
    "tags": []
   },
   "outputs": [],
   "source": [
    "import json\n",
    "# Parse universe into dict if it is passed as a string\n",
    "if isinstance(universe, str):\n",
    "    universe = json.loads(universe)"
   ]
  },
  {
   "cell_type": "code",
   "execution_count": 6,
   "id": "16620c48",
   "metadata": {
    "execution": {
     "iopub.execute_input": "2025-07-30T13:11:55.945855Z",
     "iopub.status.busy": "2025-07-30T13:11:55.945014Z",
     "iopub.status.idle": "2025-07-30T13:11:55.988996Z",
     "shell.execute_reply": "2025-07-30T13:11:55.988054Z"
    },
    "papermill": {
     "duration": 0.065166,
     "end_time": "2025-07-30T13:11:55.990818",
     "exception": false,
     "start_time": "2025-07-30T13:11:55.925652",
     "status": "completed"
    },
    "tags": []
   },
   "outputs": [],
   "source": [
    "# Auto-reload the custom package\n",
    "%load_ext autoreload\n",
    "%autoreload 1\n",
    "%aimport fairness_multiverse"
   ]
  },
  {
   "cell_type": "code",
   "execution_count": 7,
   "id": "01c5c9f3",
   "metadata": {
    "execution": {
     "iopub.execute_input": "2025-07-30T13:11:56.035774Z",
     "iopub.status.busy": "2025-07-30T13:11:56.035117Z",
     "iopub.status.idle": "2025-07-30T13:11:57.899646Z",
     "shell.execute_reply": "2025-07-30T13:11:57.898614Z"
    },
    "papermill": {
     "duration": 1.887541,
     "end_time": "2025-07-30T13:11:57.901225",
     "exception": false,
     "start_time": "2025-07-30T13:11:56.013684",
     "status": "completed"
    },
    "tags": []
   },
   "outputs": [],
   "source": [
    "from fairness_multiverse.universe import UniverseAnalysis\n",
    "\n",
    "universe_analysis = UniverseAnalysis(\n",
    "    run_no = run_no,\n",
    "    universe_id = universe_id,\n",
    "    universe = universe,\n",
    "    output_dir=output_dir,\n",
    ")"
   ]
  },
  {
   "cell_type": "code",
   "execution_count": 8,
   "id": "106241f5",
   "metadata": {
    "execution": {
     "iopub.execute_input": "2025-07-30T13:11:57.939428Z",
     "iopub.status.busy": "2025-07-30T13:11:57.938976Z",
     "iopub.status.idle": "2025-07-30T13:11:57.945565Z",
     "shell.execute_reply": "2025-07-30T13:11:57.944593Z"
    },
    "papermill": {
     "duration": 0.030793,
     "end_time": "2025-07-30T13:11:57.947461",
     "exception": false,
     "start_time": "2025-07-30T13:11:57.916668",
     "status": "completed"
    },
    "tags": []
   },
   "outputs": [
    {
     "name": "stdout",
     "output_type": "stream",
     "text": [
      "Using Seed: 2023\n"
     ]
    }
   ],
   "source": [
    "import numpy as np\n",
    "parsed_seed = int(seed)\n",
    "np.random.seed(parsed_seed)\n",
    "print(f\"Using Seed: {parsed_seed}\")"
   ]
  },
  {
   "cell_type": "markdown",
   "id": "e0ebdc57",
   "metadata": {
    "papermill": {
     "duration": 0.022666,
     "end_time": "2025-07-30T13:11:57.991890",
     "exception": false,
     "start_time": "2025-07-30T13:11:57.969224",
     "status": "completed"
    },
    "tags": []
   },
   "source": [
    "# Loading Data"
   ]
  },
  {
   "cell_type": "markdown",
   "id": "681925a3",
   "metadata": {
    "papermill": {
     "duration": 0.014059,
     "end_time": "2025-07-30T13:11:58.026781",
     "exception": false,
     "start_time": "2025-07-30T13:11:58.012722",
     "status": "completed"
    },
    "tags": []
   },
   "source": [
    "Load siab_train, siab_test, siab_calib and/or \n",
    "load siab_train_features, siab_train_labels"
   ]
  },
  {
   "cell_type": "code",
   "execution_count": 9,
   "id": "f0496b8a",
   "metadata": {
    "execution": {
     "iopub.execute_input": "2025-07-30T13:11:58.068222Z",
     "iopub.status.busy": "2025-07-30T13:11:58.067686Z",
     "iopub.status.idle": "2025-07-30T13:12:11.421414Z",
     "shell.execute_reply": "2025-07-30T13:12:11.420157Z"
    },
    "papermill": {
     "duration": 13.377981,
     "end_time": "2025-07-30T13:12:11.423088",
     "exception": false,
     "start_time": "2025-07-30T13:11:58.045107",
     "status": "completed"
    },
    "tags": []
   },
   "outputs": [
    {
     "name": "stdout",
     "output_type": "stream",
     "text": [
      "Loading SIAB data from cache: data/siab_cached.csv.gz\n"
     ]
    },
    {
     "name": "stdout",
     "output_type": "stream",
     "text": [
      "(643690, 164)\n"
     ]
    }
   ],
   "source": [
    "from pathlib import Path\n",
    "import pandas as pd\n",
    "\n",
    "# File paths\n",
    "raw_file = Path(\"data/raw/siab.csv\")\n",
    "cache_file = Path(\"data/siab_cached.csv.gz\")\n",
    "\n",
    "# Ensure cache directory exists\n",
    "cache_file.parent.mkdir(parents=True, exist_ok=True)\n",
    "\n",
    "# Load with simple caching\n",
    "if cache_file.exists():\n",
    "    print(f\"Loading SIAB data from cache: {cache_file}\")\n",
    "    siab = pd.read_csv(cache_file, compression='gzip')\n",
    "else:\n",
    "    print(f\"Cache not found. Reading raw SIAB data: {raw_file}\")\n",
    "    siab = pd.read_csv(raw_file)\n",
    "    siab.to_csv(cache_file, index=False, compression='gzip')\n",
    "    print(f\"Cached SIAB data to: {cache_file}\")\n",
    "\n",
    "# Now use `siab` DataFrame as needed\n",
    "print(siab.shape)"
   ]
  },
  {
   "cell_type": "code",
   "execution_count": 10,
   "id": "db0ca512-5f53-4dba-abdb-a2888bca41ba",
   "metadata": {
    "execution": {
     "iopub.execute_input": "2025-07-30T13:12:11.465479Z",
     "iopub.status.busy": "2025-07-30T13:12:11.464481Z",
     "iopub.status.idle": "2025-07-30T13:12:11.470750Z",
     "shell.execute_reply": "2025-07-30T13:12:11.469791Z"
    },
    "papermill": {
     "duration": 0.027788,
     "end_time": "2025-07-30T13:12:11.472322",
     "exception": false,
     "start_time": "2025-07-30T13:12:11.444534",
     "status": "completed"
    },
    "tags": []
   },
   "outputs": [],
   "source": [
    "#siab"
   ]
  },
  {
   "cell_type": "code",
   "execution_count": 11,
   "id": "a0edb063",
   "metadata": {
    "execution": {
     "iopub.execute_input": "2025-07-30T13:12:11.518423Z",
     "iopub.status.busy": "2025-07-30T13:12:11.517945Z",
     "iopub.status.idle": "2025-07-30T13:12:11.523046Z",
     "shell.execute_reply": "2025-07-30T13:12:11.522006Z"
    },
    "papermill": {
     "duration": 0.030191,
     "end_time": "2025-07-30T13:12:11.524855",
     "exception": false,
     "start_time": "2025-07-30T13:12:11.494664",
     "status": "completed"
    },
    "tags": []
   },
   "outputs": [],
   "source": [
    "#import pandas as pd\n",
    "#\n",
    "#X_train = pd.read_csv(\"./data/X_train.csv\")\n",
    "#y_train = pd.read_csv(\"./data/y_train.csv\")"
   ]
  },
  {
   "cell_type": "code",
   "execution_count": 12,
   "id": "63d08085",
   "metadata": {
    "execution": {
     "iopub.execute_input": "2025-07-30T13:12:11.570842Z",
     "iopub.status.busy": "2025-07-30T13:12:11.570383Z",
     "iopub.status.idle": "2025-07-30T13:12:11.575234Z",
     "shell.execute_reply": "2025-07-30T13:12:11.574221Z"
    },
    "papermill": {
     "duration": 0.029754,
     "end_time": "2025-07-30T13:12:11.577238",
     "exception": false,
     "start_time": "2025-07-30T13:12:11.547484",
     "status": "completed"
    },
    "tags": []
   },
   "outputs": [],
   "source": [
    "#X_test = pd.read_csv(\"./data/X_test.csv\")\n",
    "#y_true = pd.read_csv(\"./data/y_test.csv\")"
   ]
  },
  {
   "cell_type": "code",
   "execution_count": 13,
   "id": "98a8d0fa-1d3d-4ed8-bb2c-281470e24add",
   "metadata": {
    "execution": {
     "iopub.execute_input": "2025-07-30T13:12:11.624125Z",
     "iopub.status.busy": "2025-07-30T13:12:11.623632Z",
     "iopub.status.idle": "2025-07-30T13:12:11.628704Z",
     "shell.execute_reply": "2025-07-30T13:12:11.627573Z"
    },
    "papermill": {
     "duration": 0.030447,
     "end_time": "2025-07-30T13:12:11.630753",
     "exception": false,
     "start_time": "2025-07-30T13:12:11.600306",
     "status": "completed"
    },
    "tags": []
   },
   "outputs": [],
   "source": [
    "# Calibration data for conformal\n",
    "#X_calib = pd.read_csv(\"./data/X_calib.csv\")\n",
    "#y_calib = pd.read_csv(\"./data/y_calib.csv\")"
   ]
  },
  {
   "cell_type": "markdown",
   "id": "997051c5-15bd-4b69-9786-c3001a3ce484",
   "metadata": {
    "papermill": {
     "duration": 0.023475,
     "end_time": "2025-07-30T13:12:11.677395",
     "exception": false,
     "start_time": "2025-07-30T13:12:11.653920",
     "status": "completed"
    },
    "tags": []
   },
   "source": [
    "# Splitting Data and Setting Training Data Size"
   ]
  },
  {
   "cell_type": "code",
   "execution_count": 14,
   "id": "e993b61f-042d-41a6-8c81-f55681f86335",
   "metadata": {
    "execution": {
     "iopub.execute_input": "2025-07-30T13:12:11.724075Z",
     "iopub.status.busy": "2025-07-30T13:12:11.723041Z",
     "iopub.status.idle": "2025-07-30T13:12:11.736882Z",
     "shell.execute_reply": "2025-07-30T13:12:11.735899Z"
    },
    "papermill": {
     "duration": 0.038892,
     "end_time": "2025-07-30T13:12:11.738534",
     "exception": false,
     "start_time": "2025-07-30T13:12:11.699642",
     "status": "completed"
    },
    "tags": []
   },
   "outputs": [],
   "source": [
    "def sample_by_year_size(df,\n",
    "                        training_year: str,\n",
    "                        training_size: str,\n",
    "                        random_state: int = 42):\n",
    "    # --- parse training_year into a list of int years ---\n",
    "    if \"_\" in training_year:\n",
    "        start_str, end_str = training_year.split(\"_\", 1)\n",
    "        start = int(start_str)\n",
    "        end   = int(end_str) if len(end_str) == 4 else (int(end_str) + (start // 100)*100)\n",
    "        years = list(range(start, end + 1))\n",
    "    else:\n",
    "        years = [int(training_year)]\n",
    "\n",
    "    df = df[df[\"year\"].isin(years)].reset_index(drop=True)\n",
    "\n",
    "    # --- map training_size to total number of samples ---\n",
    "    total_map = {\"25k\": 25_000, \"5k\": 5_000, \"1k\": 1_000}\n",
    "    if training_size not in total_map:\n",
    "        return df  # e.g. \"all\"\n",
    "\n",
    "    total_samples = total_map[training_size]\n",
    "    n_years       = len(years)\n",
    "    base          = total_samples // n_years\n",
    "    remainder     = total_samples % n_years\n",
    "\n",
    "    # --- build a dict: year -> how many to sample ---\n",
    "    # give +1 to the first `remainder` years in ascending order\n",
    "    quotas = {\n",
    "        year: base + (1 if idx < remainder else 0)\n",
    "        for idx, year in enumerate(sorted(years))\n",
    "    }\n",
    "\n",
    "    # --- sample per‐year according to the quota dict ---\n",
    "    sampled = (\n",
    "        df\n",
    "        .groupby(\"year\", group_keys=False)\n",
    "        .apply(lambda grp: grp.sample(\n",
    "            n=min(len(grp), quotas[grp.name]),\n",
    "            random_state=random_state))\n",
    "        .reset_index(drop=True)\n",
    "    )\n",
    "\n",
    "    return sampled"
   ]
  },
  {
   "cell_type": "code",
   "execution_count": 15,
   "id": "c0ccd338-0e02-41f3-a09d-f56f9266e3fb",
   "metadata": {
    "execution": {
     "iopub.execute_input": "2025-07-30T13:12:11.784218Z",
     "iopub.status.busy": "2025-07-30T13:12:11.783205Z",
     "iopub.status.idle": "2025-07-30T13:12:11.795680Z",
     "shell.execute_reply": "2025-07-30T13:12:11.794639Z"
    },
    "papermill": {
     "duration": 0.035622,
     "end_time": "2025-07-30T13:12:11.797386",
     "exception": false,
     "start_time": "2025-07-30T13:12:11.761764",
     "status": "completed"
    },
    "tags": []
   },
   "outputs": [
    {
     "data": {
      "text/plain": [
       "'25k'"
      ]
     },
     "execution_count": 15,
     "metadata": {},
     "output_type": "execute_result"
    }
   ],
   "source": [
    "universe[\"training_size\"]"
   ]
  },
  {
   "cell_type": "code",
   "execution_count": 16,
   "id": "ca707fd7-8047-4acd-bfa5-66248fbbf8e6",
   "metadata": {
    "execution": {
     "iopub.execute_input": "2025-07-30T13:12:11.840225Z",
     "iopub.status.busy": "2025-07-30T13:12:11.839592Z",
     "iopub.status.idle": "2025-07-30T13:12:11.847371Z",
     "shell.execute_reply": "2025-07-30T13:12:11.846359Z"
    },
    "papermill": {
     "duration": 0.030822,
     "end_time": "2025-07-30T13:12:11.849128",
     "exception": false,
     "start_time": "2025-07-30T13:12:11.818306",
     "status": "completed"
    },
    "tags": []
   },
   "outputs": [
    {
     "data": {
      "text/plain": [
       "'2012_14'"
      ]
     },
     "execution_count": 16,
     "metadata": {},
     "output_type": "execute_result"
    }
   ],
   "source": [
    "universe[\"training_year\"]"
   ]
  },
  {
   "cell_type": "code",
   "execution_count": 17,
   "id": "aea9c6ef-6f46-42c8-85eb-5a62025c1508",
   "metadata": {
    "execution": {
     "iopub.execute_input": "2025-07-30T13:12:11.892826Z",
     "iopub.status.busy": "2025-07-30T13:12:11.892267Z",
     "iopub.status.idle": "2025-07-30T13:12:12.515595Z",
     "shell.execute_reply": "2025-07-30T13:12:12.514839Z"
    },
    "papermill": {
     "duration": 0.64644,
     "end_time": "2025-07-30T13:12:12.517389",
     "exception": false,
     "start_time": "2025-07-30T13:12:11.870949",
     "status": "completed"
    },
    "tags": []
   },
   "outputs": [],
   "source": [
    "siab_train = sample_by_year_size(siab,\n",
    "                               training_year=universe[\"training_year\"],\n",
    "                               training_size=universe[\"training_size\"])"
   ]
  },
  {
   "cell_type": "code",
   "execution_count": 18,
   "id": "8d3afb32-789d-442c-8d5d-9f5aa8dd2eed",
   "metadata": {
    "execution": {
     "iopub.execute_input": "2025-07-30T13:12:12.561932Z",
     "iopub.status.busy": "2025-07-30T13:12:12.561258Z",
     "iopub.status.idle": "2025-07-30T13:12:12.568479Z",
     "shell.execute_reply": "2025-07-30T13:12:12.567569Z"
    },
    "papermill": {
     "duration": 0.03123,
     "end_time": "2025-07-30T13:12:12.569730",
     "exception": false,
     "start_time": "2025-07-30T13:12:12.538500",
     "status": "completed"
    },
    "tags": []
   },
   "outputs": [
    {
     "data": {
      "text/plain": [
       "(25000, 164)"
      ]
     },
     "execution_count": 18,
     "metadata": {},
     "output_type": "execute_result"
    }
   ],
   "source": [
    "siab_train.shape"
   ]
  },
  {
   "cell_type": "code",
   "execution_count": 19,
   "id": "d582db68-1a4c-47fb-84fc-08518dc1975a",
   "metadata": {
    "execution": {
     "iopub.execute_input": "2025-07-30T13:12:12.593428Z",
     "iopub.status.busy": "2025-07-30T13:12:12.592703Z",
     "iopub.status.idle": "2025-07-30T13:12:12.602009Z",
     "shell.execute_reply": "2025-07-30T13:12:12.601276Z"
    },
    "papermill": {
     "duration": 0.022378,
     "end_time": "2025-07-30T13:12:12.603533",
     "exception": false,
     "start_time": "2025-07-30T13:12:12.581155",
     "status": "completed"
    },
    "tags": []
   },
   "outputs": [
    {
     "data": {
      "text/plain": [
       "year\n",
       "2012    8334\n",
       "2013    8333\n",
       "2014    8333\n",
       "dtype: int64"
      ]
     },
     "metadata": {},
     "output_type": "display_data"
    }
   ],
   "source": [
    "display(siab_train.groupby(\"year\").size())"
   ]
  },
  {
   "cell_type": "code",
   "execution_count": 20,
   "id": "a561edb4-d032-42cb-8256-22eac1111c64",
   "metadata": {
    "execution": {
     "iopub.execute_input": "2025-07-30T13:12:12.628167Z",
     "iopub.status.busy": "2025-07-30T13:12:12.627873Z",
     "iopub.status.idle": "2025-07-30T13:12:12.850720Z",
     "shell.execute_reply": "2025-07-30T13:12:12.849545Z"
    },
    "papermill": {
     "duration": 0.241463,
     "end_time": "2025-07-30T13:12:12.857355",
     "exception": false,
     "start_time": "2025-07-30T13:12:12.615892",
     "status": "completed"
    },
    "tags": []
   },
   "outputs": [],
   "source": [
    "#siab_train = siab_s[siab_s.year < 2015]\n",
    "siab_calib = siab[siab.year == 2015]\n",
    "siab_test = siab[siab.year == 2016]"
   ]
  },
  {
   "cell_type": "code",
   "execution_count": 21,
   "id": "472de16f-c3db-4916-846b-1f0de9cf1746",
   "metadata": {
    "execution": {
     "iopub.execute_input": "2025-07-30T13:12:12.904729Z",
     "iopub.status.busy": "2025-07-30T13:12:12.904242Z",
     "iopub.status.idle": "2025-07-30T13:12:12.919165Z",
     "shell.execute_reply": "2025-07-30T13:12:12.918083Z"
    },
    "papermill": {
     "duration": 0.040858,
     "end_time": "2025-07-30T13:12:12.920914",
     "exception": false,
     "start_time": "2025-07-30T13:12:12.880056",
     "status": "completed"
    },
    "tags": []
   },
   "outputs": [],
   "source": [
    "X_train = siab_train.iloc[:,4:164]\n",
    "y_train = siab_train.iloc[:, [3]]"
   ]
  },
  {
   "cell_type": "code",
   "execution_count": 22,
   "id": "828c96af-f43a-4ed6-ba47-8ac73a47d56c",
   "metadata": {
    "execution": {
     "iopub.execute_input": "2025-07-30T13:12:12.968954Z",
     "iopub.status.busy": "2025-07-30T13:12:12.967937Z",
     "iopub.status.idle": "2025-07-30T13:12:13.022891Z",
     "shell.execute_reply": "2025-07-30T13:12:13.021762Z"
    },
    "papermill": {
     "duration": 0.081039,
     "end_time": "2025-07-30T13:12:13.025162",
     "exception": false,
     "start_time": "2025-07-30T13:12:12.944123",
     "status": "completed"
    },
    "tags": []
   },
   "outputs": [],
   "source": [
    "X_calib = siab_calib.iloc[:,4:164]\n",
    "y_calib = siab_calib.iloc[:, [3]]"
   ]
  },
  {
   "cell_type": "code",
   "execution_count": 23,
   "id": "c34be9c3-6bd6-476e-acd3-845840e303be",
   "metadata": {
    "execution": {
     "iopub.execute_input": "2025-07-30T13:12:13.077189Z",
     "iopub.status.busy": "2025-07-30T13:12:13.076339Z",
     "iopub.status.idle": "2025-07-30T13:12:13.134377Z",
     "shell.execute_reply": "2025-07-30T13:12:13.133246Z"
    },
    "papermill": {
     "duration": 0.085777,
     "end_time": "2025-07-30T13:12:13.136233",
     "exception": false,
     "start_time": "2025-07-30T13:12:13.050456",
     "status": "completed"
    },
    "tags": []
   },
   "outputs": [],
   "source": [
    "X_test = siab_test.iloc[:,4:164]\n",
    "y_true = siab_test.iloc[:, [3]]"
   ]
  },
  {
   "cell_type": "markdown",
   "id": "9901737e-04df-44f0-9100-f5ad144ed040",
   "metadata": {
    "papermill": {
     "duration": 0.025167,
     "end_time": "2025-07-30T13:12:13.187835",
     "exception": false,
     "start_time": "2025-07-30T13:12:13.162668",
     "status": "completed"
    },
    "tags": []
   },
   "source": [
    "# Splitting Data and Setting Training Data Size OLD VERSION"
   ]
  },
  {
   "cell_type": "code",
   "execution_count": 24,
   "id": "acbc8f7d-8fc8-4e86-8c59-5dcb0f58384b",
   "metadata": {
    "execution": {
     "iopub.execute_input": "2025-07-30T13:12:13.239366Z",
     "iopub.status.busy": "2025-07-30T13:12:13.238853Z",
     "iopub.status.idle": "2025-07-30T13:12:13.244636Z",
     "shell.execute_reply": "2025-07-30T13:12:13.243760Z"
    },
    "papermill": {
     "duration": 0.033645,
     "end_time": "2025-07-30T13:12:13.246353",
     "exception": false,
     "start_time": "2025-07-30T13:12:13.212708",
     "status": "completed"
    },
    "tags": []
   },
   "outputs": [],
   "source": [
    "#def sample_by_year(df, training_size, random_state=42):\n",
    "#    if training_size == \"2014\":\n",
    "#        return df[df[\"year\"] == 2014].reset_index(drop=True)\n",
    "#    \n",
    "#    size_map = {\n",
    "#        \"25k\": 5000,\n",
    "#        \"5k\": 1000,\n",
    "#        \"1k\": 200\n",
    "#    }\n",
    "#\n",
    "#    if training_size not in size_map:\n",
    "#        return df.reset_index(drop=True)  # use all data\n",
    "#\n",
    "#    n_per_year = size_map[training_size]\n",
    "#    grouped = df.groupby(\"year\")\n",
    "#    sampled = grouped.apply(lambda x: x.sample(n=min(n_per_year, len(x)), random_state=random_state))\n",
    "#    return sampled.reset_index(drop=True)"
   ]
  },
  {
   "cell_type": "code",
   "execution_count": 25,
   "id": "6d931f52-beaf-43ff-9e78-9d44a448d54e",
   "metadata": {
    "execution": {
     "iopub.execute_input": "2025-07-30T13:12:13.299395Z",
     "iopub.status.busy": "2025-07-30T13:12:13.299025Z",
     "iopub.status.idle": "2025-07-30T13:12:13.303923Z",
     "shell.execute_reply": "2025-07-30T13:12:13.302920Z"
    },
    "papermill": {
     "duration": 0.033668,
     "end_time": "2025-07-30T13:12:13.305798",
     "exception": false,
     "start_time": "2025-07-30T13:12:13.272130",
     "status": "completed"
    },
    "tags": []
   },
   "outputs": [],
   "source": [
    "#siab_s = sample_by_year(siab, universe[\"training_size\"])"
   ]
  },
  {
   "cell_type": "code",
   "execution_count": 26,
   "id": "5db0a40e-a4e2-4920-be85-b12ae061d70d",
   "metadata": {
    "execution": {
     "iopub.execute_input": "2025-07-30T13:12:13.359448Z",
     "iopub.status.busy": "2025-07-30T13:12:13.358435Z",
     "iopub.status.idle": "2025-07-30T13:12:13.363992Z",
     "shell.execute_reply": "2025-07-30T13:12:13.362971Z"
    },
    "papermill": {
     "duration": 0.034121,
     "end_time": "2025-07-30T13:12:13.365741",
     "exception": false,
     "start_time": "2025-07-30T13:12:13.331620",
     "status": "completed"
    },
    "tags": []
   },
   "outputs": [],
   "source": [
    "#display(siab_s.groupby(\"year\").size())"
   ]
  },
  {
   "cell_type": "code",
   "execution_count": 27,
   "id": "e6c733c5",
   "metadata": {
    "execution": {
     "iopub.execute_input": "2025-07-30T13:12:13.419576Z",
     "iopub.status.busy": "2025-07-30T13:12:13.418575Z",
     "iopub.status.idle": "2025-07-30T13:12:13.518408Z",
     "shell.execute_reply": "2025-07-30T13:12:13.517392Z"
    },
    "papermill": {
     "duration": 0.128555,
     "end_time": "2025-07-30T13:12:13.520536",
     "exception": false,
     "start_time": "2025-07-30T13:12:13.391981",
     "status": "completed"
    },
    "tags": []
   },
   "outputs": [],
   "source": [
    "# Auxiliary data needed downstream in the pipeline\n",
    "\n",
    "org_train = X_train.copy()\n",
    "org_test = X_test.copy()\n",
    "org_calib = X_calib.copy()"
   ]
  },
  {
   "cell_type": "code",
   "execution_count": 28,
   "id": "1466abac-c6da-4492-a62f-4240ae3783af",
   "metadata": {
    "execution": {
     "iopub.execute_input": "2025-07-30T13:12:13.571952Z",
     "iopub.status.busy": "2025-07-30T13:12:13.571227Z",
     "iopub.status.idle": "2025-07-30T13:12:13.577190Z",
     "shell.execute_reply": "2025-07-30T13:12:13.576232Z"
    },
    "papermill": {
     "duration": 0.033563,
     "end_time": "2025-07-30T13:12:13.578917",
     "exception": false,
     "start_time": "2025-07-30T13:12:13.545354",
     "status": "completed"
    },
    "tags": []
   },
   "outputs": [],
   "source": [
    "# put in other script?\n",
    "# Group sizes\n",
    "\n",
    "#def calculate_percentages(df, df_name):\n",
    "#    total_entries = len(df)\n",
    "#\n",
    "#    female_pct = (df['frau1'] == 1).mean() * 100\n",
    "#    non_german_pct = ((df['maxdeutsch1'] == 0) & (df['maxdeutsch.Missing.'] == 0)).mean() * 100\n",
    "#    non_german_male_pct = ((df['frau1'] == 0) & (df['maxdeutsch1'] == 0) & (df['maxdeutsch.Missing.'] == 0)).mean() * 100\n",
    "#    non_german_female_pct = ((df['frau1'] == 1) & (df['maxdeutsch1'] == 0) & (df['maxdeutsch.Missing.'] == 0)).mean() * 100\n",
    "#\n",
    "#    print(f\"--- {df_name} ---\")\n",
    "#    print(f\"Female: {female_pct:.2f}%\")\n",
    "#    print(f\"Non-German: {non_german_pct:.2f}%\")\n",
    "#    print(f\"Non-German Male: {non_german_male_pct:.2f}%\")\n",
    "#    print(f\"Non-German Female: {non_german_female_pct:.2f}%\\n\")\n",
    "#\n",
    "## Calculate for each DataFrame\n",
    "#calculate_percentages(siab_calib, \"siab_calib\")\n",
    "#calculate_percentages(siab_test, \"siab_test\")\n",
    "#calculate_percentages(siab_train, \"siab_train\")"
   ]
  },
  {
   "cell_type": "markdown",
   "id": "0a4a1b33",
   "metadata": {
    "papermill": {
     "duration": 0.024878,
     "end_time": "2025-07-30T13:12:13.629084",
     "exception": false,
     "start_time": "2025-07-30T13:12:13.604206",
     "status": "completed"
    },
    "tags": []
   },
   "source": [
    "# Preprocessing Data"
   ]
  },
  {
   "cell_type": "code",
   "execution_count": 29,
   "id": "ca879031",
   "metadata": {
    "execution": {
     "iopub.execute_input": "2025-07-30T13:12:13.681065Z",
     "iopub.status.busy": "2025-07-30T13:12:13.680330Z",
     "iopub.status.idle": "2025-07-30T13:12:13.687027Z",
     "shell.execute_reply": "2025-07-30T13:12:13.686023Z"
    },
    "papermill": {
     "duration": 0.034477,
     "end_time": "2025-07-30T13:12:13.688647",
     "exception": false,
     "start_time": "2025-07-30T13:12:13.654170",
     "status": "completed"
    },
    "tags": []
   },
   "outputs": [],
   "source": [
    "# EXCLUDE PROTECTED FEATURES\n",
    "# ----------------------\n",
    "# \"exclude_features\": \"none\", # \"nationality\", \"sex\", \"nationality-sex\"\n",
    "\n",
    "excluded_features = universe[\"exclude_features\"].split(\"-\") # split, e.g.: \"nationality-sex\" -> [\"nationality\", \"sex\"]\n",
    "excluded_features_dictionary = {\n",
    "    \"nationality\": [\"maxdeutsch1\", \"maxdeutsch.Missing.\"],\n",
    "    \"sex\": [\"frau1\"],\n",
    "    \"age\": [\"age\"],\n",
    "}\n"
   ]
  },
  {
   "cell_type": "code",
   "execution_count": 30,
   "id": "b745ac60",
   "metadata": {
    "execution": {
     "iopub.execute_input": "2025-07-30T13:12:13.736478Z",
     "iopub.status.busy": "2025-07-30T13:12:13.735537Z",
     "iopub.status.idle": "2025-07-30T13:12:13.742008Z",
     "shell.execute_reply": "2025-07-30T13:12:13.741012Z"
    },
    "papermill": {
     "duration": 0.031663,
     "end_time": "2025-07-30T13:12:13.743730",
     "exception": false,
     "start_time": "2025-07-30T13:12:13.712067",
     "status": "completed"
    },
    "tags": []
   },
   "outputs": [],
   "source": [
    "# Code nice names to column names\n",
    "\n",
    "excluded_features_columns = [\n",
    "    excluded_features_dictionary[f] for f in excluded_features if len(f) > 0 and f != \"none\"\n",
    "]"
   ]
  },
  {
   "cell_type": "code",
   "execution_count": 31,
   "id": "f84f73a2",
   "metadata": {
    "execution": {
     "iopub.execute_input": "2025-07-30T13:12:13.791461Z",
     "iopub.status.busy": "2025-07-30T13:12:13.790557Z",
     "iopub.status.idle": "2025-07-30T13:12:13.797327Z",
     "shell.execute_reply": "2025-07-30T13:12:13.796277Z"
    },
    "papermill": {
     "duration": 0.031915,
     "end_time": "2025-07-30T13:12:13.799214",
     "exception": false,
     "start_time": "2025-07-30T13:12:13.767299",
     "status": "completed"
    },
    "tags": []
   },
   "outputs": [],
   "source": [
    "from utils import flatten_once\n",
    "\n",
    "excluded_features_columns = flatten_once(excluded_features_columns)"
   ]
  },
  {
   "cell_type": "code",
   "execution_count": 32,
   "id": "884dea22",
   "metadata": {
    "execution": {
     "iopub.execute_input": "2025-07-30T13:12:13.852392Z",
     "iopub.status.busy": "2025-07-30T13:12:13.851610Z",
     "iopub.status.idle": "2025-07-30T13:12:13.868012Z",
     "shell.execute_reply": "2025-07-30T13:12:13.866743Z"
    },
    "papermill": {
     "duration": 0.044684,
     "end_time": "2025-07-30T13:12:13.869607",
     "exception": false,
     "start_time": "2025-07-30T13:12:13.824923",
     "status": "completed"
    },
    "tags": []
   },
   "outputs": [
    {
     "name": "stdout",
     "output_type": "stream",
     "text": [
      "Dropping features: ['maxdeutsch1', 'maxdeutsch.Missing.', 'frau1']\n"
     ]
    }
   ],
   "source": [
    "if len(excluded_features_columns) > 0:\n",
    "    print(f\"Dropping features: {excluded_features_columns}\")\n",
    "    X_train.drop(excluded_features_columns, axis=1, inplace=True)"
   ]
  },
  {
   "cell_type": "code",
   "execution_count": 33,
   "id": "95ab8b16",
   "metadata": {
    "execution": {
     "iopub.execute_input": "2025-07-30T13:12:13.916747Z",
     "iopub.status.busy": "2025-07-30T13:12:13.915897Z",
     "iopub.status.idle": "2025-07-30T13:12:13.973650Z",
     "shell.execute_reply": "2025-07-30T13:12:13.972428Z"
    },
    "papermill": {
     "duration": 0.082943,
     "end_time": "2025-07-30T13:12:13.975487",
     "exception": false,
     "start_time": "2025-07-30T13:12:13.892544",
     "status": "completed"
    },
    "tags": []
   },
   "outputs": [
    {
     "name": "stdout",
     "output_type": "stream",
     "text": [
      "Dropping features: ['maxdeutsch1', 'maxdeutsch.Missing.', 'frau1']\n"
     ]
    }
   ],
   "source": [
    "if len(excluded_features_columns) > 0:\n",
    "    print(f\"Dropping features: {excluded_features_columns}\")\n",
    "    X_test.drop(excluded_features_columns, axis=1, inplace=True)"
   ]
  },
  {
   "cell_type": "code",
   "execution_count": 34,
   "id": "1853aaf5-fb9f-46cb-a2b5-8ea4ae2237e4",
   "metadata": {
    "execution": {
     "iopub.execute_input": "2025-07-30T13:12:14.024589Z",
     "iopub.status.busy": "2025-07-30T13:12:14.023598Z",
     "iopub.status.idle": "2025-07-30T13:12:14.076061Z",
     "shell.execute_reply": "2025-07-30T13:12:14.074959Z"
    },
    "papermill": {
     "duration": 0.078883,
     "end_time": "2025-07-30T13:12:14.078111",
     "exception": false,
     "start_time": "2025-07-30T13:12:13.999228",
     "status": "completed"
    },
    "tags": []
   },
   "outputs": [
    {
     "name": "stdout",
     "output_type": "stream",
     "text": [
      "Dropping features: ['maxdeutsch1', 'maxdeutsch.Missing.', 'frau1']\n"
     ]
    }
   ],
   "source": [
    "if len(excluded_features_columns) > 0:\n",
    "    print(f\"Dropping features: {excluded_features_columns}\")\n",
    "    X_calib.drop(excluded_features_columns, axis=1, inplace=True)"
   ]
  },
  {
   "cell_type": "code",
   "execution_count": 35,
   "id": "6727d079-03e5-481e-9d38-292a90b7a0a8",
   "metadata": {
    "execution": {
     "iopub.execute_input": "2025-07-30T13:12:14.122692Z",
     "iopub.status.busy": "2025-07-30T13:12:14.122028Z",
     "iopub.status.idle": "2025-07-30T13:12:14.126720Z",
     "shell.execute_reply": "2025-07-30T13:12:14.125832Z"
    },
    "papermill": {
     "duration": 0.028834,
     "end_time": "2025-07-30T13:12:14.128367",
     "exception": false,
     "start_time": "2025-07-30T13:12:14.099533",
     "status": "completed"
    },
    "tags": []
   },
   "outputs": [],
   "source": [
    "# SPLIT & STRATIFY DATA\n",
    "# ----------------------"
   ]
  },
  {
   "cell_type": "code",
   "execution_count": 36,
   "id": "76c4dc6d",
   "metadata": {
    "execution": {
     "iopub.execute_input": "2025-07-30T13:12:14.176802Z",
     "iopub.status.busy": "2025-07-30T13:12:14.175919Z",
     "iopub.status.idle": "2025-07-30T13:12:14.181627Z",
     "shell.execute_reply": "2025-07-30T13:12:14.180691Z"
    },
    "papermill": {
     "duration": 0.03223,
     "end_time": "2025-07-30T13:12:14.183357",
     "exception": false,
     "start_time": "2025-07-30T13:12:14.151127",
     "status": "completed"
    },
    "tags": []
   },
   "outputs": [],
   "source": [
    "# EXCLUDE CERTAIN SUBGROUPS\n",
    "# ----------------------\n",
    "\n",
    "mode = universe.get(\"exclude_subgroups\", \"keep-all\") \n",
    "# Fetches the exclude_subgroups setting from the universe dict.\n",
    "# Defaults to \"keep-all\" if the key is missing."
   ]
  },
  {
   "cell_type": "code",
   "execution_count": 37,
   "id": "21994072",
   "metadata": {
    "execution": {
     "iopub.execute_input": "2025-07-30T13:12:14.234124Z",
     "iopub.status.busy": "2025-07-30T13:12:14.233190Z",
     "iopub.status.idle": "2025-07-30T13:12:14.241619Z",
     "shell.execute_reply": "2025-07-30T13:12:14.240449Z"
    },
    "papermill": {
     "duration": 0.035883,
     "end_time": "2025-07-30T13:12:14.243667",
     "exception": false,
     "start_time": "2025-07-30T13:12:14.207784",
     "status": "completed"
    },
    "tags": []
   },
   "outputs": [],
   "source": [
    "if mode == \"keep-all\":\n",
    "    keep_mask = pd.Series(True, index=org_train.index)\n",
    "\n",
    "# org_train contains the original feature columns from features_org (in Simson)\n",
    "# features_org contains unprocessed features, for me X_train at beginning ???\n",
    "# For keep-all, creates a boolean Series (keep_mask) of all True, so no rows are removed.\n",
    "\n",
    "elif mode == \"drop-non-german\":\n",
    "    keep_mask = org_train[\"maxdeutsch1\"] == 1 # ??? what about missing values?\n",
    "\n",
    "else:\n",
    "    raise ValueError(f\"Unsupported mode for exclude_subgroups: {mode}\")\n"
   ]
  },
  {
   "cell_type": "code",
   "execution_count": 38,
   "id": "71651440",
   "metadata": {
    "execution": {
     "iopub.execute_input": "2025-07-30T13:12:14.270211Z",
     "iopub.status.busy": "2025-07-30T13:12:14.269870Z",
     "iopub.status.idle": "2025-07-30T13:12:14.275377Z",
     "shell.execute_reply": "2025-07-30T13:12:14.274708Z"
    },
    "papermill": {
     "duration": 0.020228,
     "end_time": "2025-07-30T13:12:14.276711",
     "exception": false,
     "start_time": "2025-07-30T13:12:14.256483",
     "status": "completed"
    },
    "tags": []
   },
   "outputs": [],
   "source": [
    "n_drop = (~keep_mask).sum() # Calculates how many rows are set to be dropped\n",
    "if n_drop > 0:\n",
    "    pct = n_drop / len(keep_mask) * 100\n",
    "    print(f\"Dropping {n_drop} rows ({pct:.2f}%) where mode='{mode}'\")"
   ]
  },
  {
   "cell_type": "code",
   "execution_count": 39,
   "id": "5fb8eee5",
   "metadata": {
    "execution": {
     "iopub.execute_input": "2025-07-30T13:12:14.302249Z",
     "iopub.status.busy": "2025-07-30T13:12:14.301894Z",
     "iopub.status.idle": "2025-07-30T13:12:14.316962Z",
     "shell.execute_reply": "2025-07-30T13:12:14.316089Z"
    },
    "papermill": {
     "duration": 0.029183,
     "end_time": "2025-07-30T13:12:14.318465",
     "exception": false,
     "start_time": "2025-07-30T13:12:14.289282",
     "status": "completed"
    },
    "tags": []
   },
   "outputs": [],
   "source": [
    "X_train = X_train[keep_mask]"
   ]
  },
  {
   "cell_type": "code",
   "execution_count": 40,
   "id": "b202bb3a",
   "metadata": {
    "execution": {
     "iopub.execute_input": "2025-07-30T13:12:14.344641Z",
     "iopub.status.busy": "2025-07-30T13:12:14.344142Z",
     "iopub.status.idle": "2025-07-30T13:12:14.349740Z",
     "shell.execute_reply": "2025-07-30T13:12:14.349005Z"
    },
    "papermill": {
     "duration": 0.019612,
     "end_time": "2025-07-30T13:12:14.351030",
     "exception": false,
     "start_time": "2025-07-30T13:12:14.331418",
     "status": "completed"
    },
    "tags": []
   },
   "outputs": [],
   "source": [
    "y_train = y_train[keep_mask]"
   ]
  },
  {
   "cell_type": "markdown",
   "id": "493e2ac3",
   "metadata": {
    "papermill": {
     "duration": 0.011685,
     "end_time": "2025-07-30T13:12:14.375523",
     "exception": false,
     "start_time": "2025-07-30T13:12:14.363838",
     "status": "completed"
    },
    "tags": []
   },
   "source": [
    "# Model Training"
   ]
  },
  {
   "cell_type": "code",
   "execution_count": 41,
   "id": "679e1268",
   "metadata": {
    "execution": {
     "iopub.execute_input": "2025-07-30T13:12:14.429269Z",
     "iopub.status.busy": "2025-07-30T13:12:14.428780Z",
     "iopub.status.idle": "2025-07-30T13:12:14.534917Z",
     "shell.execute_reply": "2025-07-30T13:12:14.533943Z"
    },
    "papermill": {
     "duration": 0.141174,
     "end_time": "2025-07-30T13:12:14.536938",
     "exception": false,
     "start_time": "2025-07-30T13:12:14.395764",
     "status": "completed"
    },
    "tags": []
   },
   "outputs": [],
   "source": [
    "from sklearn.linear_model import LogisticRegression\n",
    "from sklearn.ensemble import GradientBoostingClassifier, RandomForestClassifier\n",
    "\n",
    "if (universe[\"model\"] == \"logreg\"):\n",
    "    model = LogisticRegression() #penalty=\"none\") #, solver=\"newton-cg\", max_iter=1) # include random_state=19 ?\n",
    "elif (universe[\"model\"] == \"penalized_logreg\"):\n",
    "    model = LogisticRegression(penalty=\"l2\", C=1.0) #, solver=\"newton-cg\", max_iter=1)\n",
    "elif (universe[\"model\"] == \"rf\"):\n",
    "    model = RandomForestClassifier(n_estimators=100, n_jobs=-1)\n",
    "elif (universe[\"model\"] == \"gbm\"):\n",
    "    model = GradientBoostingClassifier()\n",
    "elif (universe[\"model\"] == \"elasticnet\"):\n",
    "    model = LogisticRegression(penalty = 'elasticnet', solver = 'saga', l1_ratio = 0.5, max_iter=5000) # which solver to use?\n",
    "else:\n",
    "    raise \"Unsupported universe.model\""
   ]
  },
  {
   "cell_type": "code",
   "execution_count": 42,
   "id": "0cc8f744",
   "metadata": {
    "execution": {
     "iopub.execute_input": "2025-07-30T13:12:14.587663Z",
     "iopub.status.busy": "2025-07-30T13:12:14.586999Z",
     "iopub.status.idle": "2025-07-30T13:12:14.593052Z",
     "shell.execute_reply": "2025-07-30T13:12:14.592228Z"
    },
    "papermill": {
     "duration": 0.032674,
     "end_time": "2025-07-30T13:12:14.594507",
     "exception": false,
     "start_time": "2025-07-30T13:12:14.561833",
     "status": "completed"
    },
    "tags": []
   },
   "outputs": [],
   "source": [
    "import numpy as np\n",
    "from sklearn.pipeline import Pipeline\n",
    "from sklearn.preprocessing import StandardScaler\n",
    "\n",
    "model = Pipeline([\n",
    "    #(\"continuous_processor\", continuous_processor),\n",
    "    #(\"categorical_preprocessor\", categorical_preprocessor),\n",
    "    (\"scale\", StandardScaler() if universe[\"scale\"] == \"scale\" else None), \n",
    "    (\"model\", model),\n",
    "])"
   ]
  },
  {
   "cell_type": "code",
   "execution_count": 43,
   "id": "9442c04d",
   "metadata": {
    "execution": {
     "iopub.execute_input": "2025-07-30T13:12:14.645652Z",
     "iopub.status.busy": "2025-07-30T13:12:14.645193Z",
     "iopub.status.idle": "2025-07-30T13:12:15.350639Z",
     "shell.execute_reply": "2025-07-30T13:12:15.349782Z"
    },
    "papermill": {
     "duration": 0.732193,
     "end_time": "2025-07-30T13:12:15.352361",
     "exception": false,
     "start_time": "2025-07-30T13:12:14.620168",
     "status": "completed"
    },
    "tags": []
   },
   "outputs": [
    {
     "name": "stderr",
     "output_type": "stream",
     "text": [
      "/dss/dsshome1/0C/ra93lal2/.local/share/virtualenvs/CMA_Fairness_v2-3j10GkSs/lib/python3.10/site-packages/sklearn/linear_model/_logistic.py:444: ConvergenceWarning: lbfgs failed to converge (status=1):\n",
      "STOP: TOTAL NO. of ITERATIONS REACHED LIMIT.\n",
      "\n",
      "Increase the number of iterations (max_iter) or scale the data as shown in:\n",
      "    https://scikit-learn.org/stable/modules/preprocessing.html\n",
      "Please also refer to the documentation for alternative solver options:\n",
      "    https://scikit-learn.org/stable/modules/linear_model.html#logistic-regression\n",
      "  n_iter_i = _check_optimize_result(\n"
     ]
    },
    {
     "data": {
      "text/html": [
       "<style>#sk-container-id-1 {color: black;background-color: white;}#sk-container-id-1 pre{padding: 0;}#sk-container-id-1 div.sk-toggleable {background-color: white;}#sk-container-id-1 label.sk-toggleable__label {cursor: pointer;display: block;width: 100%;margin-bottom: 0;padding: 0.3em;box-sizing: border-box;text-align: center;}#sk-container-id-1 label.sk-toggleable__label-arrow:before {content: \"▸\";float: left;margin-right: 0.25em;color: #696969;}#sk-container-id-1 label.sk-toggleable__label-arrow:hover:before {color: black;}#sk-container-id-1 div.sk-estimator:hover label.sk-toggleable__label-arrow:before {color: black;}#sk-container-id-1 div.sk-toggleable__content {max-height: 0;max-width: 0;overflow: hidden;text-align: left;background-color: #f0f8ff;}#sk-container-id-1 div.sk-toggleable__content pre {margin: 0.2em;color: black;border-radius: 0.25em;background-color: #f0f8ff;}#sk-container-id-1 input.sk-toggleable__control:checked~div.sk-toggleable__content {max-height: 200px;max-width: 100%;overflow: auto;}#sk-container-id-1 input.sk-toggleable__control:checked~label.sk-toggleable__label-arrow:before {content: \"▾\";}#sk-container-id-1 div.sk-estimator input.sk-toggleable__control:checked~label.sk-toggleable__label {background-color: #d4ebff;}#sk-container-id-1 div.sk-label input.sk-toggleable__control:checked~label.sk-toggleable__label {background-color: #d4ebff;}#sk-container-id-1 input.sk-hidden--visually {border: 0;clip: rect(1px 1px 1px 1px);clip: rect(1px, 1px, 1px, 1px);height: 1px;margin: -1px;overflow: hidden;padding: 0;position: absolute;width: 1px;}#sk-container-id-1 div.sk-estimator {font-family: monospace;background-color: #f0f8ff;border: 1px dotted black;border-radius: 0.25em;box-sizing: border-box;margin-bottom: 0.5em;}#sk-container-id-1 div.sk-estimator:hover {background-color: #d4ebff;}#sk-container-id-1 div.sk-parallel-item::after {content: \"\";width: 100%;border-bottom: 1px solid gray;flex-grow: 1;}#sk-container-id-1 div.sk-label:hover label.sk-toggleable__label {background-color: #d4ebff;}#sk-container-id-1 div.sk-serial::before {content: \"\";position: absolute;border-left: 1px solid gray;box-sizing: border-box;top: 0;bottom: 0;left: 50%;z-index: 0;}#sk-container-id-1 div.sk-serial {display: flex;flex-direction: column;align-items: center;background-color: white;padding-right: 0.2em;padding-left: 0.2em;position: relative;}#sk-container-id-1 div.sk-item {position: relative;z-index: 1;}#sk-container-id-1 div.sk-parallel {display: flex;align-items: stretch;justify-content: center;background-color: white;position: relative;}#sk-container-id-1 div.sk-item::before, #sk-container-id-1 div.sk-parallel-item::before {content: \"\";position: absolute;border-left: 1px solid gray;box-sizing: border-box;top: 0;bottom: 0;left: 50%;z-index: -1;}#sk-container-id-1 div.sk-parallel-item {display: flex;flex-direction: column;z-index: 1;position: relative;background-color: white;}#sk-container-id-1 div.sk-parallel-item:first-child::after {align-self: flex-end;width: 50%;}#sk-container-id-1 div.sk-parallel-item:last-child::after {align-self: flex-start;width: 50%;}#sk-container-id-1 div.sk-parallel-item:only-child::after {width: 0;}#sk-container-id-1 div.sk-dashed-wrapped {border: 1px dashed gray;margin: 0 0.4em 0.5em 0.4em;box-sizing: border-box;padding-bottom: 0.4em;background-color: white;}#sk-container-id-1 div.sk-label label {font-family: monospace;font-weight: bold;display: inline-block;line-height: 1.2em;}#sk-container-id-1 div.sk-label-container {text-align: center;}#sk-container-id-1 div.sk-container {/* jupyter's `normalize.less` sets `[hidden] { display: none; }` but bootstrap.min.css set `[hidden] { display: none !important; }` so we also need the `!important` here to be able to override the default hidden behavior on the sphinx rendered scikit-learn.org. See: https://github.com/scikit-learn/scikit-learn/issues/21755 */display: inline-block !important;position: relative;}#sk-container-id-1 div.sk-text-repr-fallback {display: none;}</style><div id=\"sk-container-id-1\" class=\"sk-top-container\"><div class=\"sk-text-repr-fallback\"><pre>Pipeline(steps=[(&#x27;scale&#x27;, None), (&#x27;model&#x27;, LogisticRegression())])</pre><b>In a Jupyter environment, please rerun this cell to show the HTML representation or trust the notebook. <br />On GitHub, the HTML representation is unable to render, please try loading this page with nbviewer.org.</b></div><div class=\"sk-container\" hidden><div class=\"sk-item sk-dashed-wrapped\"><div class=\"sk-label-container\"><div class=\"sk-label sk-toggleable\"><input class=\"sk-toggleable__control sk-hidden--visually\" id=\"sk-estimator-id-1\" type=\"checkbox\" ><label for=\"sk-estimator-id-1\" class=\"sk-toggleable__label sk-toggleable__label-arrow\">Pipeline</label><div class=\"sk-toggleable__content\"><pre>Pipeline(steps=[(&#x27;scale&#x27;, None), (&#x27;model&#x27;, LogisticRegression())])</pre></div></div></div><div class=\"sk-serial\"><div class=\"sk-item\"><div class=\"sk-estimator sk-toggleable\"><input class=\"sk-toggleable__control sk-hidden--visually\" id=\"sk-estimator-id-2\" type=\"checkbox\" ><label for=\"sk-estimator-id-2\" class=\"sk-toggleable__label sk-toggleable__label-arrow\">None</label><div class=\"sk-toggleable__content\"><pre>None</pre></div></div></div><div class=\"sk-item\"><div class=\"sk-estimator sk-toggleable\"><input class=\"sk-toggleable__control sk-hidden--visually\" id=\"sk-estimator-id-3\" type=\"checkbox\" ><label for=\"sk-estimator-id-3\" class=\"sk-toggleable__label sk-toggleable__label-arrow\">LogisticRegression</label><div class=\"sk-toggleable__content\"><pre>LogisticRegression()</pre></div></div></div></div></div></div></div>"
      ],
      "text/plain": [
       "Pipeline(steps=[('scale', None), ('model', LogisticRegression())])"
      ]
     },
     "execution_count": 43,
     "metadata": {},
     "output_type": "execute_result"
    }
   ],
   "source": [
    "model.fit(X_train, y_train.values.ravel())"
   ]
  },
  {
   "cell_type": "code",
   "execution_count": 44,
   "id": "af59f8c0",
   "metadata": {
    "execution": {
     "iopub.execute_input": "2025-07-30T13:12:15.403300Z",
     "iopub.status.busy": "2025-07-30T13:12:15.402659Z",
     "iopub.status.idle": "2025-07-30T13:12:15.407798Z",
     "shell.execute_reply": "2025-07-30T13:12:15.406958Z"
    },
    "papermill": {
     "duration": 0.032821,
     "end_time": "2025-07-30T13:12:15.409466",
     "exception": false,
     "start_time": "2025-07-30T13:12:15.376645",
     "status": "completed"
    },
    "tags": []
   },
   "outputs": [],
   "source": [
    "from fairness_multiverse.universe import predict_w_threshold"
   ]
  },
  {
   "cell_type": "code",
   "execution_count": 45,
   "id": "a7cf2e16",
   "metadata": {
    "execution": {
     "iopub.execute_input": "2025-07-30T13:12:15.460909Z",
     "iopub.status.busy": "2025-07-30T13:12:15.460064Z",
     "iopub.status.idle": "2025-07-30T13:12:15.564003Z",
     "shell.execute_reply": "2025-07-30T13:12:15.563100Z"
    },
    "papermill": {
     "duration": 0.131683,
     "end_time": "2025-07-30T13:12:15.565588",
     "exception": false,
     "start_time": "2025-07-30T13:12:15.433905",
     "status": "completed"
    },
    "tags": []
   },
   "outputs": [
    {
     "data": {
      "text/plain": [
       "0.8617322483558132"
      ]
     },
     "execution_count": 45,
     "metadata": {},
     "output_type": "execute_result"
    }
   ],
   "source": [
    "probs_test = model.predict_proba(X_test)\n",
    "\n",
    "'''\n",
    "Below code returns a boolean array (or binary 0/1 array depending on how it’s used) where each element \n",
    "is True if the probability of class 1 is greater than or equal to the threshold, and False otherwise.\n",
    "'''\n",
    "y_pred_default = predict_w_threshold(probs_test, 0.5)\n",
    "\n",
    "from sklearn.metrics import accuracy_score\n",
    "\n",
    "# Naive prediction\n",
    "accuracy_score(y_true = y_true, y_pred = y_pred_default)"
   ]
  },
  {
   "cell_type": "code",
   "execution_count": 46,
   "id": "081964c3",
   "metadata": {
    "execution": {
     "iopub.execute_input": "2025-07-30T13:12:15.613919Z",
     "iopub.status.busy": "2025-07-30T13:12:15.612984Z",
     "iopub.status.idle": "2025-07-30T13:12:15.699255Z",
     "shell.execute_reply": "2025-07-30T13:12:15.698282Z"
    },
    "papermill": {
     "duration": 0.111763,
     "end_time": "2025-07-30T13:12:15.701078",
     "exception": false,
     "start_time": "2025-07-30T13:12:15.589315",
     "status": "completed"
    },
    "tags": []
   },
   "outputs": [
    {
     "data": {
      "text/plain": [
       "array([0, 0, 0, ..., 0, 0, 0])"
      ]
     },
     "execution_count": 46,
     "metadata": {},
     "output_type": "execute_result"
    }
   ],
   "source": [
    "model.predict(X_test)"
   ]
  },
  {
   "cell_type": "markdown",
   "id": "56c9705b",
   "metadata": {
    "papermill": {
     "duration": 0.024381,
     "end_time": "2025-07-30T13:12:15.750588",
     "exception": false,
     "start_time": "2025-07-30T13:12:15.726207",
     "status": "completed"
    },
    "tags": []
   },
   "source": [
    "# Conformal Prediction"
   ]
  },
  {
   "cell_type": "code",
   "execution_count": 47,
   "id": "160ec6ff",
   "metadata": {
    "execution": {
     "iopub.execute_input": "2025-07-30T13:12:15.799536Z",
     "iopub.status.busy": "2025-07-30T13:12:15.798608Z",
     "iopub.status.idle": "2025-07-30T13:12:15.803969Z",
     "shell.execute_reply": "2025-07-30T13:12:15.802992Z"
    },
    "papermill": {
     "duration": 0.031289,
     "end_time": "2025-07-30T13:12:15.805524",
     "exception": false,
     "start_time": "2025-07-30T13:12:15.774235",
     "status": "completed"
    },
    "tags": []
   },
   "outputs": [],
   "source": [
    "# Miscoverage level for conformal prediction (10% allowed error rate => 90% target coverage)\n",
    "alpha = 0.1"
   ]
  },
  {
   "cell_type": "code",
   "execution_count": 48,
   "id": "eadf4555-3dd3-440e-8e35-f82a4ad9f855",
   "metadata": {
    "execution": {
     "iopub.execute_input": "2025-07-30T13:12:15.855990Z",
     "iopub.status.busy": "2025-07-30T13:12:15.855130Z",
     "iopub.status.idle": "2025-07-30T13:12:15.935247Z",
     "shell.execute_reply": "2025-07-30T13:12:15.934309Z"
    },
    "papermill": {
     "duration": 0.107824,
     "end_time": "2025-07-30T13:12:15.937236",
     "exception": false,
     "start_time": "2025-07-30T13:12:15.829412",
     "status": "completed"
    },
    "tags": []
   },
   "outputs": [],
   "source": [
    "probs_calib = model.predict_proba(X_calib)"
   ]
  },
  {
   "cell_type": "code",
   "execution_count": 49,
   "id": "2ed93547-6d5d-4983-9b36-1ecb300da49a",
   "metadata": {
    "execution": {
     "iopub.execute_input": "2025-07-30T13:12:15.988639Z",
     "iopub.status.busy": "2025-07-30T13:12:15.987974Z",
     "iopub.status.idle": "2025-07-30T13:12:15.994476Z",
     "shell.execute_reply": "2025-07-30T13:12:15.993585Z"
    },
    "papermill": {
     "duration": 0.033885,
     "end_time": "2025-07-30T13:12:15.996256",
     "exception": false,
     "start_time": "2025-07-30T13:12:15.962371",
     "status": "completed"
    },
    "tags": []
   },
   "outputs": [],
   "source": [
    "y_calib = y_calib.values.ravel().astype(int)"
   ]
  },
  {
   "cell_type": "code",
   "execution_count": 50,
   "id": "65d1320d-f588-4b38-9072-62af1ae97f7d",
   "metadata": {
    "execution": {
     "iopub.execute_input": "2025-07-30T13:12:16.046681Z",
     "iopub.status.busy": "2025-07-30T13:12:16.045827Z",
     "iopub.status.idle": "2025-07-30T13:12:16.054121Z",
     "shell.execute_reply": "2025-07-30T13:12:16.053348Z"
    },
    "papermill": {
     "duration": 0.037122,
     "end_time": "2025-07-30T13:12:16.056548",
     "exception": false,
     "start_time": "2025-07-30T13:12:16.019426",
     "status": "completed"
    },
    "tags": []
   },
   "outputs": [],
   "source": [
    "from fairness_multiverse.conformal import compute_nc_scores\n",
    "\n",
    "# Compute nonconformity scores on calibration set (1 - probability of true class)\n",
    "nc_scores = compute_nc_scores(probs_calib, y_calib)"
   ]
  },
  {
   "cell_type": "code",
   "execution_count": 51,
   "id": "df3b8ca3-53b7-43d5-9667-7c85da7aeda2",
   "metadata": {
    "execution": {
     "iopub.execute_input": "2025-07-30T13:12:16.106533Z",
     "iopub.status.busy": "2025-07-30T13:12:16.106061Z",
     "iopub.status.idle": "2025-07-30T13:12:16.112335Z",
     "shell.execute_reply": "2025-07-30T13:12:16.111428Z"
    },
    "papermill": {
     "duration": 0.033735,
     "end_time": "2025-07-30T13:12:16.113617",
     "exception": false,
     "start_time": "2025-07-30T13:12:16.079882",
     "status": "completed"
    },
    "tags": []
   },
   "outputs": [],
   "source": [
    "from fairness_multiverse.conformal import find_threshold\n",
    "\n",
    "# Find conformal threshold q_hat for the given alpha (split conformal method)\n",
    "q_hat = find_threshold(nc_scores, alpha)"
   ]
  },
  {
   "cell_type": "code",
   "execution_count": 52,
   "id": "4d29e6c1-0ef6-4aa4-b8fe-4fe79b0d033a",
   "metadata": {
    "execution": {
     "iopub.execute_input": "2025-07-30T13:12:16.143498Z",
     "iopub.status.busy": "2025-07-30T13:12:16.142999Z",
     "iopub.status.idle": "2025-07-30T13:12:16.149910Z",
     "shell.execute_reply": "2025-07-30T13:12:16.149160Z"
    },
    "papermill": {
     "duration": 0.023386,
     "end_time": "2025-07-30T13:12:16.151240",
     "exception": false,
     "start_time": "2025-07-30T13:12:16.127854",
     "status": "completed"
    },
    "tags": []
   },
   "outputs": [
    {
     "data": {
      "text/plain": [
       "0.6807656536836497"
      ]
     },
     "execution_count": 52,
     "metadata": {},
     "output_type": "execute_result"
    }
   ],
   "source": [
    "q_hat"
   ]
  },
  {
   "cell_type": "code",
   "execution_count": 53,
   "id": "92460794-cdac-4be2-ba28-f28c0515a6fb",
   "metadata": {
    "execution": {
     "iopub.execute_input": "2025-07-30T13:12:16.180880Z",
     "iopub.status.busy": "2025-07-30T13:12:16.179957Z",
     "iopub.status.idle": "2025-07-30T13:12:16.755853Z",
     "shell.execute_reply": "2025-07-30T13:12:16.755112Z"
    },
    "papermill": {
     "duration": 0.591918,
     "end_time": "2025-07-30T13:12:16.757298",
     "exception": false,
     "start_time": "2025-07-30T13:12:16.165380",
     "status": "completed"
    },
    "tags": []
   },
   "outputs": [],
   "source": [
    "from fairness_multiverse.conformal import predict_conformal_sets\n",
    "\n",
    "# Generate prediction sets for each test example\n",
    "pred_sets = predict_conformal_sets(model, X_test, q_hat)"
   ]
  },
  {
   "cell_type": "code",
   "execution_count": 54,
   "id": "d90c9a65-e6db-4f5d-80cd-e68fb7e46829",
   "metadata": {
    "execution": {
     "iopub.execute_input": "2025-07-30T13:12:16.789797Z",
     "iopub.status.busy": "2025-07-30T13:12:16.789297Z",
     "iopub.status.idle": "2025-07-30T13:12:16.794970Z",
     "shell.execute_reply": "2025-07-30T13:12:16.794030Z"
    },
    "papermill": {
     "duration": 0.025724,
     "end_time": "2025-07-30T13:12:16.796787",
     "exception": false,
     "start_time": "2025-07-30T13:12:16.771063",
     "status": "completed"
    },
    "tags": []
   },
   "outputs": [],
   "source": [
    "y_true = y_true.squeeze()"
   ]
  },
  {
   "cell_type": "code",
   "execution_count": 55,
   "id": "3a58a54a-1e68-46b9-927a-df01f18aebc8",
   "metadata": {
    "execution": {
     "iopub.execute_input": "2025-07-30T13:12:16.847209Z",
     "iopub.status.busy": "2025-07-30T13:12:16.846496Z",
     "iopub.status.idle": "2025-07-30T13:12:17.795155Z",
     "shell.execute_reply": "2025-07-30T13:12:17.794151Z"
    },
    "papermill": {
     "duration": 0.974327,
     "end_time": "2025-07-30T13:12:17.797285",
     "exception": false,
     "start_time": "2025-07-30T13:12:16.822958",
     "status": "completed"
    },
    "tags": []
   },
   "outputs": [],
   "source": [
    "from fairness_multiverse.conformal import evaluate_sets\n",
    "\n",
    "# Evaluate coverage and average set size on test data\n",
    "metrics = evaluate_sets(pred_sets, y_true)"
   ]
  },
  {
   "cell_type": "markdown",
   "id": "2b569c12-9aaa-4c88-98c9-bbcd0cf3ebb8",
   "metadata": {
    "papermill": {
     "duration": 0.029037,
     "end_time": "2025-07-30T13:12:17.856239",
     "exception": false,
     "start_time": "2025-07-30T13:12:17.827202",
     "status": "completed"
    },
    "tags": []
   },
   "source": [
    "# CP Metrics"
   ]
  },
  {
   "cell_type": "code",
   "execution_count": 56,
   "id": "5ce0a5cb-201f-45a0-ade5-94c7f0bd6095",
   "metadata": {
    "execution": {
     "iopub.execute_input": "2025-07-30T13:12:17.916501Z",
     "iopub.status.busy": "2025-07-30T13:12:17.915833Z",
     "iopub.status.idle": "2025-07-30T13:12:17.923231Z",
     "shell.execute_reply": "2025-07-30T13:12:17.922258Z"
    },
    "papermill": {
     "duration": 0.039919,
     "end_time": "2025-07-30T13:12:17.925050",
     "exception": false,
     "start_time": "2025-07-30T13:12:17.885131",
     "status": "completed"
    },
    "tags": []
   },
   "outputs": [
    {
     "data": {
      "text/plain": [
       "{'coverage': 0.9111916174339538, 'avg_size': 1.1999331178241}"
      ]
     },
     "execution_count": 56,
     "metadata": {},
     "output_type": "execute_result"
    }
   ],
   "source": [
    "metrics"
   ]
  },
  {
   "cell_type": "code",
   "execution_count": 57,
   "id": "9b9a838d-31c9-430b-ae14-12baee460d17",
   "metadata": {
    "execution": {
     "iopub.execute_input": "2025-07-30T13:12:17.986969Z",
     "iopub.status.busy": "2025-07-30T13:12:17.986226Z",
     "iopub.status.idle": "2025-07-30T13:12:17.993093Z",
     "shell.execute_reply": "2025-07-30T13:12:17.992077Z"
    },
    "papermill": {
     "duration": 0.03947,
     "end_time": "2025-07-30T13:12:17.994802",
     "exception": false,
     "start_time": "2025-07-30T13:12:17.955332",
     "status": "completed"
    },
    "tags": []
   },
   "outputs": [],
   "source": [
    "example_universe = universe.copy()\n",
    "universe_training_size = example_universe.get(\"training_size\")\n",
    "universe_scale = example_universe.get(\"scale\")\n",
    "universe_model = example_universe.get(\"model\")\n",
    "universe_exclude_features = example_universe.get(\"exclude_features\")\n",
    "universe_exclude_subgroups = example_universe.get(\"exclude_subgroups\")"
   ]
  },
  {
   "cell_type": "code",
   "execution_count": 58,
   "id": "f4b6a8ac-9dc0-4245-8a91-5b3b5999c4f9",
   "metadata": {
    "execution": {
     "iopub.execute_input": "2025-07-30T13:12:18.058228Z",
     "iopub.status.busy": "2025-07-30T13:12:18.057491Z",
     "iopub.status.idle": "2025-07-30T13:12:18.064447Z",
     "shell.execute_reply": "2025-07-30T13:12:18.063316Z"
    },
    "papermill": {
     "duration": 0.039638,
     "end_time": "2025-07-30T13:12:18.066259",
     "exception": false,
     "start_time": "2025-07-30T13:12:18.026621",
     "status": "completed"
    },
    "tags": []
   },
   "outputs": [],
   "source": [
    "cp_metrics_dict = {\n",
    "    \"universe_id\": [universe_id],\n",
    "    \"universe_training_size\": [universe_training_size],\n",
    "    \"universe_scale\": [universe_scale],\n",
    "    \"universe_model\": [universe_model],\n",
    "    \"universe_exclude_features\": [universe_exclude_features],\n",
    "    \"universe_exclude_subgroups\": [universe_exclude_subgroups],\n",
    "    \"q_hat\": [q_hat],\n",
    "    \"coverage\": [metrics[\"coverage\"]],\n",
    "    \"avg_size\": [metrics[\"avg_size\"]],\n",
    "}"
   ]
  },
  {
   "cell_type": "code",
   "execution_count": 59,
   "id": "908acbb1-0371-4915-85ca-3fa520d2efe2",
   "metadata": {
    "execution": {
     "iopub.execute_input": "2025-07-30T13:12:18.120639Z",
     "iopub.status.busy": "2025-07-30T13:12:18.120006Z",
     "iopub.status.idle": "2025-07-30T13:12:18.127707Z",
     "shell.execute_reply": "2025-07-30T13:12:18.126776Z"
    },
    "papermill": {
     "duration": 0.037371,
     "end_time": "2025-07-30T13:12:18.130334",
     "exception": false,
     "start_time": "2025-07-30T13:12:18.092963",
     "status": "completed"
    },
    "tags": []
   },
   "outputs": [
    {
     "data": {
      "text/plain": [
       "{'universe_id': ['f490e6c0144fc0e1f3123f6b3832d5c4'],\n",
       " 'universe_training_size': ['25k'],\n",
       " 'universe_scale': ['do-not-scale'],\n",
       " 'universe_model': ['logreg'],\n",
       " 'universe_exclude_features': ['nationality-sex'],\n",
       " 'universe_exclude_subgroups': ['keep-all'],\n",
       " 'q_hat': [0.6807656536836497],\n",
       " 'coverage': [0.9111916174339538],\n",
       " 'avg_size': [1.1999331178241]}"
      ]
     },
     "execution_count": 59,
     "metadata": {},
     "output_type": "execute_result"
    }
   ],
   "source": [
    "cp_metrics_dict"
   ]
  },
  {
   "cell_type": "code",
   "execution_count": 60,
   "id": "33007efc-14e9-4ec6-97ac-56a455c82265",
   "metadata": {
    "execution": {
     "iopub.execute_input": "2025-07-30T13:12:18.184590Z",
     "iopub.status.busy": "2025-07-30T13:12:18.184098Z",
     "iopub.status.idle": "2025-07-30T13:12:18.190536Z",
     "shell.execute_reply": "2025-07-30T13:12:18.189507Z"
    },
    "papermill": {
     "duration": 0.035101,
     "end_time": "2025-07-30T13:12:18.192131",
     "exception": false,
     "start_time": "2025-07-30T13:12:18.157030",
     "status": "completed"
    },
    "tags": []
   },
   "outputs": [],
   "source": [
    "cp_metrics_df = pd.DataFrame(cp_metrics_dict)"
   ]
  },
  {
   "cell_type": "code",
   "execution_count": 61,
   "id": "db12611b-57b2-4910-b9d0-355adfd6e7bf",
   "metadata": {
    "execution": {
     "iopub.execute_input": "2025-07-30T13:12:18.249168Z",
     "iopub.status.busy": "2025-07-30T13:12:18.248155Z",
     "iopub.status.idle": "2025-07-30T13:12:18.267657Z",
     "shell.execute_reply": "2025-07-30T13:12:18.266498Z"
    },
    "papermill": {
     "duration": 0.049974,
     "end_time": "2025-07-30T13:12:18.269458",
     "exception": false,
     "start_time": "2025-07-30T13:12:18.219484",
     "status": "completed"
    },
    "tags": []
   },
   "outputs": [
    {
     "data": {
      "text/html": [
       "<div>\n",
       "<style scoped>\n",
       "    .dataframe tbody tr th:only-of-type {\n",
       "        vertical-align: middle;\n",
       "    }\n",
       "\n",
       "    .dataframe tbody tr th {\n",
       "        vertical-align: top;\n",
       "    }\n",
       "\n",
       "    .dataframe thead th {\n",
       "        text-align: right;\n",
       "    }\n",
       "</style>\n",
       "<table border=\"1\" class=\"dataframe\">\n",
       "  <thead>\n",
       "    <tr style=\"text-align: right;\">\n",
       "      <th></th>\n",
       "      <th>universe_id</th>\n",
       "      <th>universe_training_size</th>\n",
       "      <th>universe_scale</th>\n",
       "      <th>universe_model</th>\n",
       "      <th>universe_exclude_features</th>\n",
       "      <th>universe_exclude_subgroups</th>\n",
       "      <th>q_hat</th>\n",
       "      <th>coverage</th>\n",
       "      <th>avg_size</th>\n",
       "    </tr>\n",
       "  </thead>\n",
       "  <tbody>\n",
       "    <tr>\n",
       "      <th>0</th>\n",
       "      <td>f490e6c0144fc0e1f3123f6b3832d5c4</td>\n",
       "      <td>25k</td>\n",
       "      <td>do-not-scale</td>\n",
       "      <td>logreg</td>\n",
       "      <td>nationality-sex</td>\n",
       "      <td>keep-all</td>\n",
       "      <td>0.680766</td>\n",
       "      <td>0.911192</td>\n",
       "      <td>1.199933</td>\n",
       "    </tr>\n",
       "  </tbody>\n",
       "</table>\n",
       "</div>"
      ],
      "text/plain": [
       "                        universe_id universe_training_size universe_scale  \\\n",
       "0  f490e6c0144fc0e1f3123f6b3832d5c4                    25k   do-not-scale   \n",
       "\n",
       "  universe_model universe_exclude_features universe_exclude_subgroups  \\\n",
       "0         logreg           nationality-sex                   keep-all   \n",
       "\n",
       "      q_hat  coverage  avg_size  \n",
       "0  0.680766  0.911192  1.199933  "
      ]
     },
     "execution_count": 61,
     "metadata": {},
     "output_type": "execute_result"
    }
   ],
   "source": [
    "cp_metrics_df"
   ]
  },
  {
   "cell_type": "code",
   "execution_count": 62,
   "id": "b7fbde55-a0a1-47e4-9af6-fe4a17fa8c61",
   "metadata": {
    "execution": {
     "iopub.execute_input": "2025-07-30T13:12:18.325481Z",
     "iopub.status.busy": "2025-07-30T13:12:18.324876Z",
     "iopub.status.idle": "2025-07-30T13:12:18.330336Z",
     "shell.execute_reply": "2025-07-30T13:12:18.329476Z"
    },
    "papermill": {
     "duration": 0.035891,
     "end_time": "2025-07-30T13:12:18.332323",
     "exception": false,
     "start_time": "2025-07-30T13:12:18.296432",
     "status": "completed"
    },
    "tags": []
   },
   "outputs": [],
   "source": [
    "# Conditional Coverage & looking at subgroups"
   ]
  },
  {
   "cell_type": "code",
   "execution_count": 63,
   "id": "027ae886-68dd-4141-96c7-805a5450e1ef",
   "metadata": {
    "execution": {
     "iopub.execute_input": "2025-07-30T13:12:18.409337Z",
     "iopub.status.busy": "2025-07-30T13:12:18.408873Z",
     "iopub.status.idle": "2025-07-30T13:12:18.607497Z",
     "shell.execute_reply": "2025-07-30T13:12:18.606334Z"
    },
    "papermill": {
     "duration": 0.239901,
     "end_time": "2025-07-30T13:12:18.609358",
     "exception": false,
     "start_time": "2025-07-30T13:12:18.369457",
     "status": "completed"
    },
    "tags": []
   },
   "outputs": [],
   "source": [
    "from fairness_multiverse.conformal import build_cp_groups\n",
    "\n",
    "cp_groups_df = build_cp_groups(pred_sets, y_true, X_test.index, org_test)\n",
    "#needs universe_id and setting"
   ]
  },
  {
   "cell_type": "code",
   "execution_count": 64,
   "id": "01d5802c-663a-4d1f-9d69-e036faaffbf7",
   "metadata": {
    "execution": {
     "iopub.execute_input": "2025-07-30T13:12:18.660272Z",
     "iopub.status.busy": "2025-07-30T13:12:18.659919Z",
     "iopub.status.idle": "2025-07-30T13:12:18.663945Z",
     "shell.execute_reply": "2025-07-30T13:12:18.663093Z"
    },
    "papermill": {
     "duration": 0.023703,
     "end_time": "2025-07-30T13:12:18.665334",
     "exception": false,
     "start_time": "2025-07-30T13:12:18.641631",
     "status": "completed"
    },
    "tags": []
   },
   "outputs": [],
   "source": [
    "#delete\n",
    "#cp_groups_df"
   ]
  },
  {
   "cell_type": "code",
   "execution_count": 65,
   "id": "fa424af1-d1eb-443d-b717-2d279ada8408",
   "metadata": {
    "execution": {
     "iopub.execute_input": "2025-07-30T13:12:18.693513Z",
     "iopub.status.busy": "2025-07-30T13:12:18.693127Z",
     "iopub.status.idle": "2025-07-30T13:12:18.696972Z",
     "shell.execute_reply": "2025-07-30T13:12:18.696295Z"
    },
    "papermill": {
     "duration": 0.01914,
     "end_time": "2025-07-30T13:12:18.698276",
     "exception": false,
     "start_time": "2025-07-30T13:12:18.679136",
     "status": "completed"
    },
    "tags": []
   },
   "outputs": [],
   "source": [
    "#delete\n",
    "#percentage = (cp_groups_df['nongerman_female'] == 1).mean() * 100\n",
    "#print(percentage)\n"
   ]
  },
  {
   "cell_type": "code",
   "execution_count": 66,
   "id": "6cbdab96-b2b2-45af-ad54-d0516db2e28d",
   "metadata": {
    "execution": {
     "iopub.execute_input": "2025-07-30T13:12:18.732286Z",
     "iopub.status.busy": "2025-07-30T13:12:18.731922Z",
     "iopub.status.idle": "2025-07-30T13:12:20.142204Z",
     "shell.execute_reply": "2025-07-30T13:12:20.141452Z"
    },
    "papermill": {
     "duration": 1.426741,
     "end_time": "2025-07-30T13:12:20.143710",
     "exception": false,
     "start_time": "2025-07-30T13:12:18.716969",
     "status": "completed"
    },
    "tags": []
   },
   "outputs": [],
   "source": [
    "# Define covered = 1 if true_label is in the predicted set\n",
    "cp_groups_df['covered'] = cp_groups_df.apply(\n",
    "    lambda r: int(r['true_label'] in r['pred_set']),\n",
    "    axis=1\n",
    ")"
   ]
  },
  {
   "cell_type": "code",
   "execution_count": 67,
   "id": "338ff529-1a6b-4b87-a931-8e4788d52aad",
   "metadata": {
    "execution": {
     "iopub.execute_input": "2025-07-30T13:12:20.172113Z",
     "iopub.status.busy": "2025-07-30T13:12:20.171440Z",
     "iopub.status.idle": "2025-07-30T13:12:20.176020Z",
     "shell.execute_reply": "2025-07-30T13:12:20.175273Z"
    },
    "papermill": {
     "duration": 0.019816,
     "end_time": "2025-07-30T13:12:20.177379",
     "exception": false,
     "start_time": "2025-07-30T13:12:20.157563",
     "status": "completed"
    },
    "tags": []
   },
   "outputs": [],
   "source": [
    "#cp_groups_df"
   ]
  },
  {
   "cell_type": "code",
   "execution_count": 68,
   "id": "90032e27-66df-4540-9169-4e89cfbaa758",
   "metadata": {
    "execution": {
     "iopub.execute_input": "2025-07-30T13:12:20.206016Z",
     "iopub.status.busy": "2025-07-30T13:12:20.205537Z",
     "iopub.status.idle": "2025-07-30T13:12:20.214035Z",
     "shell.execute_reply": "2025-07-30T13:12:20.213346Z"
    },
    "papermill": {
     "duration": 0.0237,
     "end_time": "2025-07-30T13:12:20.215393",
     "exception": false,
     "start_time": "2025-07-30T13:12:20.191693",
     "status": "completed"
    },
    "tags": []
   },
   "outputs": [],
   "source": [
    "subgroups = ['frau1','nongerman','nongerman_male','nongerman_female']\n",
    "\n",
    "# Conditional coverage for subgroup==1\n",
    "cond_coverage = {\n",
    "    g: cp_groups_df.loc[cp_groups_df[g]==1, 'covered'].mean()\n",
    "    for g in subgroups\n",
    "}"
   ]
  },
  {
   "cell_type": "code",
   "execution_count": 69,
   "id": "1e348fb1-b9c3-45bc-ba23-f016827a7e0d",
   "metadata": {
    "execution": {
     "iopub.execute_input": "2025-07-30T13:12:20.243602Z",
     "iopub.status.busy": "2025-07-30T13:12:20.242984Z",
     "iopub.status.idle": "2025-07-30T13:12:20.248989Z",
     "shell.execute_reply": "2025-07-30T13:12:20.248254Z"
    },
    "papermill": {
     "duration": 0.021294,
     "end_time": "2025-07-30T13:12:20.250358",
     "exception": false,
     "start_time": "2025-07-30T13:12:20.229064",
     "status": "completed"
    },
    "tags": []
   },
   "outputs": [
    {
     "data": {
      "text/plain": [
       "{'frau1': 0.9101496158511929,\n",
       " 'nongerman': 0.9288721720092068,\n",
       " 'nongerman_male': 0.9419976582905522,\n",
       " 'nongerman_female': 0.9071535022354694}"
      ]
     },
     "execution_count": 69,
     "metadata": {},
     "output_type": "execute_result"
    }
   ],
   "source": [
    "cond_coverage"
   ]
  },
  {
   "cell_type": "code",
   "execution_count": 70,
   "id": "f5093324-c3dd-4d63-bc4c-8d945e5c8bbb",
   "metadata": {
    "execution": {
     "iopub.execute_input": "2025-07-30T13:12:20.279094Z",
     "iopub.status.busy": "2025-07-30T13:12:20.278592Z",
     "iopub.status.idle": "2025-07-30T13:12:20.283878Z",
     "shell.execute_reply": "2025-07-30T13:12:20.283207Z"
    },
    "papermill": {
     "duration": 0.020784,
     "end_time": "2025-07-30T13:12:20.285195",
     "exception": false,
     "start_time": "2025-07-30T13:12:20.264411",
     "status": "completed"
    },
    "tags": []
   },
   "outputs": [],
   "source": [
    "for subgroup, cov in cond_coverage.items():\n",
    "    cp_metrics_df[f\"cov_{subgroup}\"] = cov"
   ]
  },
  {
   "cell_type": "code",
   "execution_count": 71,
   "id": "6e872e10-dbe5-49e8-b554-5030c98ff75d",
   "metadata": {
    "execution": {
     "iopub.execute_input": "2025-07-30T13:12:20.313827Z",
     "iopub.status.busy": "2025-07-30T13:12:20.313309Z",
     "iopub.status.idle": "2025-07-30T13:12:20.326569Z",
     "shell.execute_reply": "2025-07-30T13:12:20.325787Z"
    },
    "papermill": {
     "duration": 0.028716,
     "end_time": "2025-07-30T13:12:20.327907",
     "exception": false,
     "start_time": "2025-07-30T13:12:20.299191",
     "status": "completed"
    },
    "tags": []
   },
   "outputs": [
    {
     "data": {
      "text/html": [
       "<div>\n",
       "<style scoped>\n",
       "    .dataframe tbody tr th:only-of-type {\n",
       "        vertical-align: middle;\n",
       "    }\n",
       "\n",
       "    .dataframe tbody tr th {\n",
       "        vertical-align: top;\n",
       "    }\n",
       "\n",
       "    .dataframe thead th {\n",
       "        text-align: right;\n",
       "    }\n",
       "</style>\n",
       "<table border=\"1\" class=\"dataframe\">\n",
       "  <thead>\n",
       "    <tr style=\"text-align: right;\">\n",
       "      <th></th>\n",
       "      <th>universe_id</th>\n",
       "      <th>universe_training_size</th>\n",
       "      <th>universe_scale</th>\n",
       "      <th>universe_model</th>\n",
       "      <th>universe_exclude_features</th>\n",
       "      <th>universe_exclude_subgroups</th>\n",
       "      <th>q_hat</th>\n",
       "      <th>coverage</th>\n",
       "      <th>avg_size</th>\n",
       "      <th>cov_frau1</th>\n",
       "      <th>cov_nongerman</th>\n",
       "      <th>cov_nongerman_male</th>\n",
       "      <th>cov_nongerman_female</th>\n",
       "    </tr>\n",
       "  </thead>\n",
       "  <tbody>\n",
       "    <tr>\n",
       "      <th>0</th>\n",
       "      <td>f490e6c0144fc0e1f3123f6b3832d5c4</td>\n",
       "      <td>25k</td>\n",
       "      <td>do-not-scale</td>\n",
       "      <td>logreg</td>\n",
       "      <td>nationality-sex</td>\n",
       "      <td>keep-all</td>\n",
       "      <td>0.680766</td>\n",
       "      <td>0.911192</td>\n",
       "      <td>1.199933</td>\n",
       "      <td>0.91015</td>\n",
       "      <td>0.928872</td>\n",
       "      <td>0.941998</td>\n",
       "      <td>0.907154</td>\n",
       "    </tr>\n",
       "  </tbody>\n",
       "</table>\n",
       "</div>"
      ],
      "text/plain": [
       "                        universe_id universe_training_size universe_scale  \\\n",
       "0  f490e6c0144fc0e1f3123f6b3832d5c4                    25k   do-not-scale   \n",
       "\n",
       "  universe_model universe_exclude_features universe_exclude_subgroups  \\\n",
       "0         logreg           nationality-sex                   keep-all   \n",
       "\n",
       "      q_hat  coverage  avg_size  cov_frau1  cov_nongerman  cov_nongerman_male  \\\n",
       "0  0.680766  0.911192  1.199933    0.91015       0.928872            0.941998   \n",
       "\n",
       "   cov_nongerman_female  \n",
       "0              0.907154  "
      ]
     },
     "execution_count": 71,
     "metadata": {},
     "output_type": "execute_result"
    }
   ],
   "source": [
    "cp_metrics_df"
   ]
  },
  {
   "cell_type": "markdown",
   "id": "33774451",
   "metadata": {
    "papermill": {
     "duration": 0.013446,
     "end_time": "2025-07-30T13:12:20.356078",
     "exception": false,
     "start_time": "2025-07-30T13:12:20.342632",
     "status": "completed"
    },
    "tags": []
   },
   "source": [
    "# (Fairness) Metrics"
   ]
  },
  {
   "cell_type": "code",
   "execution_count": 72,
   "id": "debc5d62",
   "metadata": {
    "execution": {
     "iopub.execute_input": "2025-07-30T13:12:20.384506Z",
     "iopub.status.busy": "2025-07-30T13:12:20.383822Z",
     "iopub.status.idle": "2025-07-30T13:12:20.397665Z",
     "shell.execute_reply": "2025-07-30T13:12:20.396993Z"
    },
    "papermill": {
     "duration": 0.029538,
     "end_time": "2025-07-30T13:12:20.399004",
     "exception": false,
     "start_time": "2025-07-30T13:12:20.369466",
     "status": "completed"
    },
    "tags": []
   },
   "outputs": [],
   "source": [
    "# do I need to include maxdeutsch1.missing?\n",
    "\n",
    "import numpy as np\n",
    "\n",
    "colname_to_bin = \"maxdeutsch1\"\n",
    "majority_value = org_train[colname_to_bin].mode()[0]\n",
    "\n",
    "org_test[\"majmin\"] = np.where(org_test[colname_to_bin] == majority_value, \"majority\", \"minority\")"
   ]
  },
  {
   "cell_type": "code",
   "execution_count": 73,
   "id": "06a50de5",
   "metadata": {
    "execution": {
     "iopub.execute_input": "2025-07-30T13:12:20.428210Z",
     "iopub.status.busy": "2025-07-30T13:12:20.427567Z",
     "iopub.status.idle": "2025-07-30T13:12:22.426596Z",
     "shell.execute_reply": "2025-07-30T13:12:22.425469Z"
    },
    "papermill": {
     "duration": 2.015803,
     "end_time": "2025-07-30T13:12:22.429091",
     "exception": false,
     "start_time": "2025-07-30T13:12:20.413288",
     "status": "completed"
    },
    "tags": []
   },
   "outputs": [],
   "source": [
    "example_universe = universe.copy()\n",
    "example_universe[\"cutoff\"] = example_universe[\"cutoff\"][0]\n",
    "example_universe[\"eval_fairness_grouping\"] = example_universe[\"eval_fairness_grouping\"][0]\n",
    "fairness_dict, metric_frame = universe_analysis.compute_metrics(\n",
    "    example_universe,\n",
    "    y_pred_prob=probs_test,\n",
    "    y_test=y_true,\n",
    "    org_test=org_test,\n",
    ")"
   ]
  },
  {
   "cell_type": "markdown",
   "id": "f95d4e02",
   "metadata": {
    "papermill": {
     "duration": 0.038914,
     "end_time": "2025-07-30T13:12:22.510251",
     "exception": false,
     "start_time": "2025-07-30T13:12:22.471337",
     "status": "completed"
    },
    "tags": []
   },
   "source": [
    "# Overall"
   ]
  },
  {
   "cell_type": "markdown",
   "id": "bdee4871",
   "metadata": {
    "papermill": {
     "duration": 0.039583,
     "end_time": "2025-07-30T13:12:22.588630",
     "exception": false,
     "start_time": "2025-07-30T13:12:22.549047",
     "status": "completed"
    },
    "tags": []
   },
   "source": [
    "Fairness\n",
    "Main fairness target: Equalized Odds. Seems to be a better fit than equal opportunity, since we're not only interested in Y = 1. Seems to be a better fit than demographic parity, since we also care about accuracy, not just equal distribution of preds.\n",
    "\n",
    "Pick column for computation of fairness metrics\n",
    "\n",
    "Performance\n",
    "Overall performance measures, most interesting in relation to the measures split by group below"
   ]
  },
  {
   "cell_type": "code",
   "execution_count": 74,
   "id": "c4e067c6",
   "metadata": {
    "execution": {
     "iopub.execute_input": "2025-07-30T13:12:22.669540Z",
     "iopub.status.busy": "2025-07-30T13:12:22.668687Z",
     "iopub.status.idle": "2025-07-30T13:12:22.679919Z",
     "shell.execute_reply": "2025-07-30T13:12:22.678696Z"
    },
    "papermill": {
     "duration": 0.053465,
     "end_time": "2025-07-30T13:12:22.682172",
     "exception": false,
     "start_time": "2025-07-30T13:12:22.628707",
     "status": "completed"
    },
    "tags": []
   },
   "outputs": [
    {
     "data": {
      "text/plain": [
       "accuracy                   0.218292\n",
       "balanced accuracy          0.535029\n",
       "f1                         0.239791\n",
       "precision                  0.136985\n",
       "false positive rate        0.891013\n",
       "false negative rate        0.038929\n",
       "selection rate             0.900000\n",
       "count                  89710.000000\n",
       "dtype: float64"
      ]
     },
     "execution_count": 74,
     "metadata": {},
     "output_type": "execute_result"
    }
   ],
   "source": [
    "metric_frame.overall"
   ]
  },
  {
   "cell_type": "markdown",
   "id": "e968fe9d",
   "metadata": {
    "papermill": {
     "duration": 0.038566,
     "end_time": "2025-07-30T13:12:22.759963",
     "exception": false,
     "start_time": "2025-07-30T13:12:22.721397",
     "status": "completed"
    },
    "tags": []
   },
   "source": [
    "By Group"
   ]
  },
  {
   "cell_type": "code",
   "execution_count": 75,
   "id": "ec325bce",
   "metadata": {
    "execution": {
     "iopub.execute_input": "2025-07-30T13:12:22.840088Z",
     "iopub.status.busy": "2025-07-30T13:12:22.838904Z",
     "iopub.status.idle": "2025-07-30T13:12:22.860627Z",
     "shell.execute_reply": "2025-07-30T13:12:22.859252Z"
    },
    "papermill": {
     "duration": 0.063476,
     "end_time": "2025-07-30T13:12:22.862530",
     "exception": false,
     "start_time": "2025-07-30T13:12:22.799054",
     "status": "completed"
    },
    "tags": []
   },
   "outputs": [
    {
     "data": {
      "text/html": [
       "<div>\n",
       "<style scoped>\n",
       "    .dataframe tbody tr th:only-of-type {\n",
       "        vertical-align: middle;\n",
       "    }\n",
       "\n",
       "    .dataframe tbody tr th {\n",
       "        vertical-align: top;\n",
       "    }\n",
       "\n",
       "    .dataframe thead th {\n",
       "        text-align: right;\n",
       "    }\n",
       "</style>\n",
       "<table border=\"1\" class=\"dataframe\">\n",
       "  <thead>\n",
       "    <tr style=\"text-align: right;\">\n",
       "      <th></th>\n",
       "      <th>accuracy</th>\n",
       "      <th>balanced accuracy</th>\n",
       "      <th>f1</th>\n",
       "      <th>precision</th>\n",
       "      <th>false positive rate</th>\n",
       "      <th>false negative rate</th>\n",
       "      <th>selection rate</th>\n",
       "      <th>count</th>\n",
       "    </tr>\n",
       "    <tr>\n",
       "      <th>majmin</th>\n",
       "      <th></th>\n",
       "      <th></th>\n",
       "      <th></th>\n",
       "      <th></th>\n",
       "      <th></th>\n",
       "      <th></th>\n",
       "      <th></th>\n",
       "      <th></th>\n",
       "    </tr>\n",
       "  </thead>\n",
       "  <tbody>\n",
       "    <tr>\n",
       "      <th>majority</th>\n",
       "      <td>0.240885</td>\n",
       "      <td>0.543592</td>\n",
       "      <td>0.249521</td>\n",
       "      <td>0.143508</td>\n",
       "      <td>0.867849</td>\n",
       "      <td>0.044967</td>\n",
       "      <td>0.879370</td>\n",
       "      <td>69170.0</td>\n",
       "    </tr>\n",
       "    <tr>\n",
       "      <th>minority</th>\n",
       "      <td>0.142210</td>\n",
       "      <td>0.508421</td>\n",
       "      <td>0.209237</td>\n",
       "      <td>0.117059</td>\n",
       "      <td>0.967532</td>\n",
       "      <td>0.015625</td>\n",
       "      <td>0.969474</td>\n",
       "      <td>20540.0</td>\n",
       "    </tr>\n",
       "  </tbody>\n",
       "</table>\n",
       "</div>"
      ],
      "text/plain": [
       "          accuracy  balanced accuracy        f1  precision  \\\n",
       "majmin                                                       \n",
       "majority  0.240885           0.543592  0.249521   0.143508   \n",
       "minority  0.142210           0.508421  0.209237   0.117059   \n",
       "\n",
       "          false positive rate  false negative rate  selection rate    count  \n",
       "majmin                                                                       \n",
       "majority             0.867849             0.044967        0.879370  69170.0  \n",
       "minority             0.967532             0.015625        0.969474  20540.0  "
      ]
     },
     "execution_count": 75,
     "metadata": {},
     "output_type": "execute_result"
    }
   ],
   "source": [
    "metric_frame.by_group"
   ]
  },
  {
   "cell_type": "code",
   "execution_count": 76,
   "id": "a9ddbe63",
   "metadata": {
    "execution": {
     "iopub.execute_input": "2025-07-30T13:12:22.927024Z",
     "iopub.status.busy": "2025-07-30T13:12:22.926023Z",
     "iopub.status.idle": "2025-07-30T13:12:25.137909Z",
     "shell.execute_reply": "2025-07-30T13:12:25.136975Z"
    },
    "papermill": {
     "duration": 2.245832,
     "end_time": "2025-07-30T13:12:25.139541",
     "exception": false,
     "start_time": "2025-07-30T13:12:22.893709",
     "status": "completed"
    },
    "tags": []
   },
   "outputs": [
    {
     "data": {
      "text/plain": [
       "array([[<Axes: title={'center': 'accuracy'}, xlabel='majmin'>,\n",
       "        <Axes: title={'center': 'balanced accuracy'}, xlabel='majmin'>,\n",
       "        <Axes: title={'center': 'f1'}, xlabel='majmin'>],\n",
       "       [<Axes: title={'center': 'precision'}, xlabel='majmin'>,\n",
       "        <Axes: title={'center': 'false positive rate'}, xlabel='majmin'>,\n",
       "        <Axes: title={'center': 'false negative rate'}, xlabel='majmin'>],\n",
       "       [<Axes: title={'center': 'selection rate'}, xlabel='majmin'>,\n",
       "        <Axes: title={'center': 'count'}, xlabel='majmin'>,\n",
       "        <Axes: xlabel='majmin'>]], dtype=object)"
      ]
     },
     "execution_count": 76,
     "metadata": {},
     "output_type": "execute_result"
    },
    {
     "data": {
      "image/png": "[encoded data removed]",
      "text/plain": [
       "<Figure size 1200x800 with 9 Axes>"
      ]
     },
     "metadata": {},
     "output_type": "display_data"
    }
   ],
   "source": [
    "# In a graphic\n",
    "metric_frame.by_group.plot.bar(\n",
    "    subplots=True,\n",
    "    layout=[3, 3],\n",
    "    legend=False,\n",
    "    figsize=[12, 8],\n",
    "    title=\"Show all metrics\",\n",
    ")"
   ]
  },
  {
   "cell_type": "markdown",
   "id": "f57a0bac",
   "metadata": {
    "papermill": {
     "duration": 0.027619,
     "end_time": "2025-07-30T13:12:25.197256",
     "exception": false,
     "start_time": "2025-07-30T13:12:25.169637",
     "status": "completed"
    },
    "tags": []
   },
   "source": [
    "# Final Output"
   ]
  },
  {
   "cell_type": "code",
   "execution_count": 77,
   "id": "96d280a3",
   "metadata": {
    "execution": {
     "iopub.execute_input": "2025-07-30T13:12:25.256645Z",
     "iopub.status.busy": "2025-07-30T13:12:25.255919Z",
     "iopub.status.idle": "2025-07-30T13:12:25.263744Z",
     "shell.execute_reply": "2025-07-30T13:12:25.262796Z"
    },
    "papermill": {
     "duration": 0.040412,
     "end_time": "2025-07-30T13:12:25.265574",
     "exception": false,
     "start_time": "2025-07-30T13:12:25.225162",
     "status": "completed"
    },
    "tags": []
   },
   "outputs": [
    {
     "data": {
      "text/plain": [
       "4"
      ]
     },
     "execution_count": 77,
     "metadata": {},
     "output_type": "execute_result"
    }
   ],
   "source": [
    "sub_universes = universe_analysis.generate_sub_universes()\n",
    "len(sub_universes)"
   ]
  },
  {
   "cell_type": "code",
   "execution_count": 78,
   "id": "92adf7ba",
   "metadata": {
    "execution": {
     "iopub.execute_input": "2025-07-30T13:12:25.326897Z",
     "iopub.status.busy": "2025-07-30T13:12:25.326351Z",
     "iopub.status.idle": "2025-07-30T13:12:25.332806Z",
     "shell.execute_reply": "2025-07-30T13:12:25.331894Z"
    },
    "papermill": {
     "duration": 0.040444,
     "end_time": "2025-07-30T13:12:25.334614",
     "exception": false,
     "start_time": "2025-07-30T13:12:25.294170",
     "status": "completed"
    },
    "tags": []
   },
   "outputs": [],
   "source": [
    "def filter_sub_universe_data(sub_universe, org_test):\n",
    "    # Keep all rows — no filtering\n",
    "    keep_rows_mask = np.ones(org_test.shape[0], dtype=bool)\n",
    "\n",
    "    print(f\"[INFO] Keeping all rows: {keep_rows_mask.sum()} rows retained.\")\n",
    "    return keep_rows_mask"
   ]
  },
  {
   "cell_type": "code",
   "execution_count": 79,
   "id": "4a759155",
   "metadata": {
    "execution": {
     "iopub.execute_input": "2025-07-30T13:12:25.401067Z",
     "iopub.status.busy": "2025-07-30T13:12:25.400572Z",
     "iopub.status.idle": "2025-07-30T13:12:33.497101Z",
     "shell.execute_reply": "2025-07-30T13:12:33.496333Z"
    },
    "papermill": {
     "duration": 8.13036,
     "end_time": "2025-07-30T13:12:33.498365",
     "exception": false,
     "start_time": "2025-07-30T13:12:25.368005",
     "status": "completed"
    },
    "tags": []
   },
   "outputs": [
    {
     "name": "stdout",
     "output_type": "stream",
     "text": [
      "Stopping execution_time clock.\n",
      "[INFO] Keeping all rows: 89710 rows retained.\n"
     ]
    },
    {
     "name": "stdout",
     "output_type": "stream",
     "text": [
      "[INFO] Keeping all rows: 89710 rows retained.\n"
     ]
    },
    {
     "name": "stdout",
     "output_type": "stream",
     "text": [
      "[INFO] Keeping all rows: 89710 rows retained.\n"
     ]
    },
    {
     "name": "stdout",
     "output_type": "stream",
     "text": [
      "[INFO] Keeping all rows: 89710 rows retained.\n"
     ]
    },
    {
     "data": {
      "text/html": [
       "<div>\n",
       "<style scoped>\n",
       "    .dataframe tbody tr th:only-of-type {\n",
       "        vertical-align: middle;\n",
       "    }\n",
       "\n",
       "    .dataframe tbody tr th {\n",
       "        vertical-align: top;\n",
       "    }\n",
       "\n",
       "    .dataframe thead th {\n",
       "        text-align: right;\n",
       "    }\n",
       "</style>\n",
       "<table border=\"1\" class=\"dataframe\">\n",
       "  <thead>\n",
       "    <tr style=\"text-align: right;\">\n",
       "      <th></th>\n",
       "      <th>run_no</th>\n",
       "      <th>universe_id</th>\n",
       "      <th>universe_settings</th>\n",
       "      <th>execution_time</th>\n",
       "      <th>test_size_n</th>\n",
       "      <th>test_size_frac</th>\n",
       "      <th>fair_main_equalized_odds_difference</th>\n",
       "      <th>fair_main_equalized_odds_ratio</th>\n",
       "      <th>fair_main_demographic_parity_difference</th>\n",
       "      <th>fair_main_demographic_parity_ratio</th>\n",
       "      <th>...</th>\n",
       "      <th>perf_grp_precision_0</th>\n",
       "      <th>perf_grp_precision_1</th>\n",
       "      <th>perf_grp_false positive rate_0</th>\n",
       "      <th>perf_grp_false positive rate_1</th>\n",
       "      <th>perf_grp_false negative rate_0</th>\n",
       "      <th>perf_grp_false negative rate_1</th>\n",
       "      <th>perf_grp_selection rate_0</th>\n",
       "      <th>perf_grp_selection rate_1</th>\n",
       "      <th>perf_grp_count_0</th>\n",
       "      <th>perf_grp_count_1</th>\n",
       "    </tr>\n",
       "  </thead>\n",
       "  <tbody>\n",
       "    <tr>\n",
       "      <th>0</th>\n",
       "      <td>12</td>\n",
       "      <td>f490e6c0144fc0e1f3123f6b3832d5c4</td>\n",
       "      <td>{\"cutoff\": \"quantile_0.1\", \"eval_fairness_grou...</td>\n",
       "      <td>27.540984</td>\n",
       "      <td>89710</td>\n",
       "      <td>1.0</td>\n",
       "      <td>0.099683</td>\n",
       "      <td>0.896972</td>\n",
       "      <td>0.090105</td>\n",
       "      <td>0.907058</td>\n",
       "      <td>...</td>\n",
       "      <td>NaN</td>\n",
       "      <td>NaN</td>\n",
       "      <td>NaN</td>\n",
       "      <td>NaN</td>\n",
       "      <td>NaN</td>\n",
       "      <td>NaN</td>\n",
       "      <td>NaN</td>\n",
       "      <td>NaN</td>\n",
       "      <td>NaN</td>\n",
       "      <td>NaN</td>\n",
       "    </tr>\n",
       "    <tr>\n",
       "      <th>0</th>\n",
       "      <td>12</td>\n",
       "      <td>f490e6c0144fc0e1f3123f6b3832d5c4</td>\n",
       "      <td>{\"cutoff\": \"quantile_0.1\", \"eval_fairness_grou...</td>\n",
       "      <td>27.540984</td>\n",
       "      <td>89710</td>\n",
       "      <td>1.0</td>\n",
       "      <td>0.099683</td>\n",
       "      <td>0.896972</td>\n",
       "      <td>0.090105</td>\n",
       "      <td>0.907058</td>\n",
       "      <td>...</td>\n",
       "      <td>0.117059</td>\n",
       "      <td>0.143508</td>\n",
       "      <td>0.967532</td>\n",
       "      <td>0.867849</td>\n",
       "      <td>0.015625</td>\n",
       "      <td>0.044967</td>\n",
       "      <td>0.969474</td>\n",
       "      <td>0.87937</td>\n",
       "      <td>20540.0</td>\n",
       "      <td>69170.0</td>\n",
       "    </tr>\n",
       "    <tr>\n",
       "      <th>0</th>\n",
       "      <td>12</td>\n",
       "      <td>f490e6c0144fc0e1f3123f6b3832d5c4</td>\n",
       "      <td>{\"cutoff\": \"quantile_0.25\", \"eval_fairness_gro...</td>\n",
       "      <td>27.540984</td>\n",
       "      <td>89710</td>\n",
       "      <td>1.0</td>\n",
       "      <td>0.220268</td>\n",
       "      <td>0.755066</td>\n",
       "      <td>0.201495</td>\n",
       "      <td>0.777441</td>\n",
       "      <td>...</td>\n",
       "      <td>NaN</td>\n",
       "      <td>NaN</td>\n",
       "      <td>NaN</td>\n",
       "      <td>NaN</td>\n",
       "      <td>NaN</td>\n",
       "      <td>NaN</td>\n",
       "      <td>NaN</td>\n",
       "      <td>NaN</td>\n",
       "      <td>NaN</td>\n",
       "      <td>NaN</td>\n",
       "    </tr>\n",
       "    <tr>\n",
       "      <th>0</th>\n",
       "      <td>12</td>\n",
       "      <td>f490e6c0144fc0e1f3123f6b3832d5c4</td>\n",
       "      <td>{\"cutoff\": \"quantile_0.25\", \"eval_fairness_gro...</td>\n",
       "      <td>27.540984</td>\n",
       "      <td>89710</td>\n",
       "      <td>1.0</td>\n",
       "      <td>0.220268</td>\n",
       "      <td>0.755066</td>\n",
       "      <td>0.201495</td>\n",
       "      <td>0.777441</td>\n",
       "      <td>...</td>\n",
       "      <td>0.121209</td>\n",
       "      <td>0.162757</td>\n",
       "      <td>0.899296</td>\n",
       "      <td>0.679027</td>\n",
       "      <td>0.048142</td>\n",
       "      <td>0.133042</td>\n",
       "      <td>0.905355</td>\n",
       "      <td>0.70386</td>\n",
       "      <td>20540.0</td>\n",
       "      <td>69170.0</td>\n",
       "    </tr>\n",
       "  </tbody>\n",
       "</table>\n",
       "<p>4 rows × 50 columns</p>\n",
       "</div>"
      ],
      "text/plain": [
       "  run_no                       universe_id  \\\n",
       "0     12  f490e6c0144fc0e1f3123f6b3832d5c4   \n",
       "0     12  f490e6c0144fc0e1f3123f6b3832d5c4   \n",
       "0     12  f490e6c0144fc0e1f3123f6b3832d5c4   \n",
       "0     12  f490e6c0144fc0e1f3123f6b3832d5c4   \n",
       "\n",
       "                                   universe_settings  execution_time  \\\n",
       "0  {\"cutoff\": \"quantile_0.1\", \"eval_fairness_grou...       27.540984   \n",
       "0  {\"cutoff\": \"quantile_0.1\", \"eval_fairness_grou...       27.540984   \n",
       "0  {\"cutoff\": \"quantile_0.25\", \"eval_fairness_gro...       27.540984   \n",
       "0  {\"cutoff\": \"quantile_0.25\", \"eval_fairness_gro...       27.540984   \n",
       "\n",
       "   test_size_n  test_size_frac  fair_main_equalized_odds_difference  \\\n",
       "0        89710             1.0                             0.099683   \n",
       "0        89710             1.0                             0.099683   \n",
       "0        89710             1.0                             0.220268   \n",
       "0        89710             1.0                             0.220268   \n",
       "\n",
       "   fair_main_equalized_odds_ratio  fair_main_demographic_parity_difference  \\\n",
       "0                        0.896972                                 0.090105   \n",
       "0                        0.896972                                 0.090105   \n",
       "0                        0.755066                                 0.201495   \n",
       "0                        0.755066                                 0.201495   \n",
       "\n",
       "   fair_main_demographic_parity_ratio  ...  perf_grp_precision_0  \\\n",
       "0                            0.907058  ...                   NaN   \n",
       "0                            0.907058  ...              0.117059   \n",
       "0                            0.777441  ...                   NaN   \n",
       "0                            0.777441  ...              0.121209   \n",
       "\n",
       "   perf_grp_precision_1  perf_grp_false positive rate_0  \\\n",
       "0                   NaN                             NaN   \n",
       "0              0.143508                        0.967532   \n",
       "0                   NaN                             NaN   \n",
       "0              0.162757                        0.899296   \n",
       "\n",
       "   perf_grp_false positive rate_1  perf_grp_false negative rate_0  \\\n",
       "0                             NaN                             NaN   \n",
       "0                        0.867849                        0.015625   \n",
       "0                             NaN                             NaN   \n",
       "0                        0.679027                        0.048142   \n",
       "\n",
       "   perf_grp_false negative rate_1  perf_grp_selection rate_0  \\\n",
       "0                             NaN                        NaN   \n",
       "0                        0.044967                   0.969474   \n",
       "0                             NaN                        NaN   \n",
       "0                        0.133042                   0.905355   \n",
       "\n",
       "   perf_grp_selection rate_1  perf_grp_count_0  perf_grp_count_1  \n",
       "0                        NaN               NaN               NaN  \n",
       "0                    0.87937           20540.0           69170.0  \n",
       "0                        NaN               NaN               NaN  \n",
       "0                    0.70386           20540.0           69170.0  \n",
       "\n",
       "[4 rows x 50 columns]"
      ]
     },
     "execution_count": 79,
     "metadata": {},
     "output_type": "execute_result"
    }
   ],
   "source": [
    "final_output = universe_analysis.generate_final_output(\n",
    "    y_pred_prob=probs_test,\n",
    "    y_test=y_true,\n",
    "    org_test=org_test,\n",
    "    filter_data=filter_sub_universe_data,\n",
    "    cp_metrics_df=cp_metrics_df,\n",
    "    save=True,\n",
    ")\n",
    "final_output"
   ]
  },
  {
   "cell_type": "code",
   "execution_count": null,
   "id": "721ff514-cb11-46f8-b6fc-50392f74b5cb",
   "metadata": {
    "papermill": {
     "duration": 0.016064,
     "end_time": "2025-07-30T13:12:33.533572",
     "exception": false,
     "start_time": "2025-07-30T13:12:33.517508",
     "status": "completed"
    },
    "tags": []
   },
   "outputs": [],
   "source": []
  }
 ],
 "metadata": {
  "celltoolbar": "Tags",
  "kernelspec": {
   "display_name": "Python (CMA Fairness)",
   "language": "python",
   "name": "cma_fair_env"
  },
  "language_info": {
   "codemirror_mode": {
    "name": "ipython",
    "version": 3
   },
   "file_extension": ".py",
   "mimetype": "text/x-python",
   "name": "python",
   "nbconvert_exporter": "python",
   "pygments_lexer": "ipython3",
   "version": "3.10.12"
  },
  "papermill": {
   "default_parameters": {},
   "duration": 39.55225,
   "end_time": "2025-07-30T13:12:34.167797",
   "environment_variables": {},
   "exception": null,
   "input_path": "universe_analysis.ipynb",
   "output_path": "output/runs/12/notebooks/m_12-f490e6c0144fc0e1f3123f6b3832d5c4.ipynb",
   "parameters": {
    "output_dir": "output",
    "run_no": "12",
    "seed": "2023",
    "universe": "{\"cutoff\": [\"quantile_0.1\", \"quantile_0.25\"], \"eval_fairness_grouping\": [\"majority-minority\", \"nationality-all\"], \"exclude_features\": \"nationality-sex\", \"exclude_subgroups\": \"keep-all\", \"model\": \"logreg\", \"scale\": \"do-not-scale\", \"training_size\": \"25k\", \"training_year\": \"2012_14\"}",
    "universe_id": "f490e6c0144fc0e1f3123f6b3832d5c4"
   },
   "start_time": "2025-07-30T13:11:54.615547",
   "version": "2.6.0"
  }
 },
 "nbformat": 4,
 "nbformat_minor": 5
}