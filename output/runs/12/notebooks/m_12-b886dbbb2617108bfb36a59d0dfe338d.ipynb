{
 "cells": [
  {
   "cell_type": "code",
   "execution_count": 1,
   "id": "f159f837-637b-42ba-96b5-ec9a68c44524",
   "metadata": {
    "execution": {
     "iopub.execute_input": "2025-07-30T14:12:34.275332Z",
     "iopub.status.busy": "2025-07-30T14:12:34.274902Z",
     "iopub.status.idle": "2025-07-30T14:12:34.290137Z",
     "shell.execute_reply": "2025-07-30T14:12:34.288829Z"
    },
    "papermill": {
     "duration": 0.030249,
     "end_time": "2025-07-30T14:12:34.293439",
     "exception": false,
     "start_time": "2025-07-30T14:12:34.263190",
     "status": "completed"
    },
    "tags": []
   },
   "outputs": [
    {
     "name": "stdout",
     "output_type": "stream",
     "text": [
      "/dss/dsshome1/0C/ra93lal2/cma/CMA_Fairness_v2\n"
     ]
    },
    {
     "name": "stderr",
     "output_type": "stream",
     "text": [
      "/dss/dsshome1/0C/ra93lal2/.local/share/virtualenvs/CMA_Fairness_v2-3j10GkSs/lib/python3.10/site-packages/IPython/core/magics/osm.py:393: UserWarning: This is now an optional IPython functionality, using bookmarks requires you to install the `pickleshare` library.\n",
      "  bkms = self.shell.db.get('bookmarks', {})\n",
      "/dss/dsshome1/0C/ra93lal2/.local/share/virtualenvs/CMA_Fairness_v2-3j10GkSs/lib/python3.10/site-packages/IPython/core/magics/osm.py:417: UserWarning: This is now an optional IPython functionality, setting dhist requires you to install the `pickleshare` library.\n",
      "  self.shell.db['dhist'] = compress_dhist(dhist)[-100:]\n"
     ]
    }
   ],
   "source": [
    "%cd ~/cma/CMA_Fairness_v2"
   ]
  },
  {
   "cell_type": "markdown",
   "id": "de2603b9",
   "metadata": {
    "papermill": {
     "duration": 0.021406,
     "end_time": "2025-07-30T14:12:34.338042",
     "exception": false,
     "start_time": "2025-07-30T14:12:34.316636",
     "status": "completed"
    },
    "tags": []
   },
   "source": [
    "The following cell holds the definition of our parameters, these values can be overriden by rendering the with e.g. the following command:\n",
    "\n",
    "papermill -p alpha 0.2 -p ratio 0.3 universe_analysis.ipynb output/test_run.ipynb"
   ]
  },
  {
   "cell_type": "code",
   "execution_count": 2,
   "id": "a80968a0-40bb-4fa9-85ef-2d5eefb01975",
   "metadata": {
    "execution": {
     "iopub.execute_input": "2025-07-30T14:12:34.384238Z",
     "iopub.status.busy": "2025-07-30T14:12:34.383197Z",
     "iopub.status.idle": "2025-07-30T14:12:34.388987Z",
     "shell.execute_reply": "2025-07-30T14:12:34.388013Z"
    },
    "papermill": {
     "duration": 0.031067,
     "end_time": "2025-07-30T14:12:34.390669",
     "exception": false,
     "start_time": "2025-07-30T14:12:34.359602",
     "status": "completed"
    },
    "tags": []
   },
   "outputs": [
    {
     "name": "stdout",
     "output_type": "stream",
     "text": [
      "Current working directory: /dss/dsshome1/0C/ra93lal2/cma/CMA_Fairness_v2\n"
     ]
    }
   ],
   "source": [
    "import os\n",
    "print(\"Current working directory:\", os.getcwd())"
   ]
  },
  {
   "cell_type": "code",
   "execution_count": 3,
   "id": "2dce4c03",
   "metadata": {
    "execution": {
     "iopub.execute_input": "2025-07-30T14:12:34.435768Z",
     "iopub.status.busy": "2025-07-30T14:12:34.435273Z",
     "iopub.status.idle": "2025-07-30T14:12:34.442257Z",
     "shell.execute_reply": "2025-07-30T14:12:34.441224Z"
    },
    "papermill": {
     "duration": 0.031357,
     "end_time": "2025-07-30T14:12:34.443995",
     "exception": false,
     "start_time": "2025-07-30T14:12:34.412638",
     "status": "completed"
    },
    "tags": [
     "parameters"
    ]
   },
   "outputs": [],
   "source": [
    "run_no = 0\n",
    "universe_id = \"test\"\n",
    "universe = {\n",
    "    \"training_size\": \"25k\", # \"25k\", \"5k\", \"1k\"\n",
    "    \"training_year\": \"2014\", # \"2014\", \"2012_14\", \"2010_14\"\n",
    "    \"scale\": \"scale\", # \"scale\", \"do-not-scale\",\n",
    "    #\"stratify_split\": \"target\", # \"none\", \"target\", \"protected-attribute\", \"both\",\n",
    "    \"model\": \"elasticnet\", # \"logreg\", \"penalized_logreg\", \"rf\", \"gbm\", \"elasticnet\"\n",
    "    \"cutoff\": [\"quantile_0.15\", \"quantile_0.30\"],\n",
    "    \"exclude_features\": \"age\", # \"none\", \"nationality\", \"sex\", \"nationality-sex\", \"age\"\n",
    "    \"exclude_subgroups\": \"keep-all\", # \"keep-all\", \"drop-non-german\"\n",
    "    \"eval_fairness_grouping\": [\"majority-minority\", \"nationality-all\"]\n",
    "}\n",
    "\n",
    "output_dir=\"./output\"\n",
    "seed=0"
   ]
  },
  {
   "cell_type": "code",
   "execution_count": 4,
   "id": "ebbf0e9c",
   "metadata": {
    "execution": {
     "iopub.execute_input": "2025-07-30T14:12:34.487593Z",
     "iopub.status.busy": "2025-07-30T14:12:34.486798Z",
     "iopub.status.idle": "2025-07-30T14:12:34.492913Z",
     "shell.execute_reply": "2025-07-30T14:12:34.491906Z"
    },
    "papermill": {
     "duration": 0.028928,
     "end_time": "2025-07-30T14:12:34.494879",
     "exception": false,
     "start_time": "2025-07-30T14:12:34.465951",
     "status": "completed"
    },
    "tags": [
     "injected-parameters"
    ]
   },
   "outputs": [],
   "source": [
    "# Parameters\n",
    "universe_id = \"b886dbbb2617108bfb36a59d0dfe338d\"\n",
    "run_no = \"12\"\n",
    "universe = \"{\\\"cutoff\\\": [\\\"quantile_0.1\\\", \\\"quantile_0.25\\\"], \\\"eval_fairness_grouping\\\": [\\\"majority-minority\\\", \\\"nationality-all\\\"], \\\"exclude_features\\\": \\\"age\\\", \\\"exclude_subgroups\\\": \\\"keep-all\\\", \\\"model\\\": \\\"logreg\\\", \\\"scale\\\": \\\"do-not-scale\\\", \\\"training_size\\\": \\\"5k\\\", \\\"training_year\\\": \\\"2010_14\\\"}\"\n",
    "output_dir = \"output\"\n",
    "seed = \"2023\"\n"
   ]
  },
  {
   "cell_type": "code",
   "execution_count": 5,
   "id": "1650acaf",
   "metadata": {
    "execution": {
     "iopub.execute_input": "2025-07-30T14:12:34.542904Z",
     "iopub.status.busy": "2025-07-30T14:12:34.542217Z",
     "iopub.status.idle": "2025-07-30T14:12:34.547721Z",
     "shell.execute_reply": "2025-07-30T14:12:34.546656Z"
    },
    "papermill": {
     "duration": 0.030393,
     "end_time": "2025-07-30T14:12:34.549465",
     "exception": false,
     "start_time": "2025-07-30T14:12:34.519072",
     "status": "completed"
    },
    "tags": []
   },
   "outputs": [],
   "source": [
    "import json\n",
    "# Parse universe into dict if it is passed as a string\n",
    "if isinstance(universe, str):\n",
    "    universe = json.loads(universe)"
   ]
  },
  {
   "cell_type": "code",
   "execution_count": 6,
   "id": "16620c48",
   "metadata": {
    "execution": {
     "iopub.execute_input": "2025-07-30T14:12:34.592257Z",
     "iopub.status.busy": "2025-07-30T14:12:34.591585Z",
     "iopub.status.idle": "2025-07-30T14:12:34.633874Z",
     "shell.execute_reply": "2025-07-30T14:12:34.633025Z"
    },
    "papermill": {
     "duration": 0.064416,
     "end_time": "2025-07-30T14:12:34.635258",
     "exception": false,
     "start_time": "2025-07-30T14:12:34.570842",
     "status": "completed"
    },
    "tags": []
   },
   "outputs": [],
   "source": [
    "# Auto-reload the custom package\n",
    "%load_ext autoreload\n",
    "%autoreload 1\n",
    "%aimport fairness_multiverse"
   ]
  },
  {
   "cell_type": "code",
   "execution_count": 7,
   "id": "01c5c9f3",
   "metadata": {
    "execution": {
     "iopub.execute_input": "2025-07-30T14:12:34.656879Z",
     "iopub.status.busy": "2025-07-30T14:12:34.656586Z",
     "iopub.status.idle": "2025-07-30T14:12:36.509216Z",
     "shell.execute_reply": "2025-07-30T14:12:36.508003Z"
    },
    "papermill": {
     "duration": 1.865149,
     "end_time": "2025-07-30T14:12:36.511103",
     "exception": false,
     "start_time": "2025-07-30T14:12:34.645954",
     "status": "completed"
    },
    "tags": []
   },
   "outputs": [],
   "source": [
    "from fairness_multiverse.universe import UniverseAnalysis\n",
    "\n",
    "universe_analysis = UniverseAnalysis(\n",
    "    run_no = run_no,\n",
    "    universe_id = universe_id,\n",
    "    universe = universe,\n",
    "    output_dir=output_dir,\n",
    ")"
   ]
  },
  {
   "cell_type": "code",
   "execution_count": 8,
   "id": "106241f5",
   "metadata": {
    "execution": {
     "iopub.execute_input": "2025-07-30T14:12:36.557768Z",
     "iopub.status.busy": "2025-07-30T14:12:36.557215Z",
     "iopub.status.idle": "2025-07-30T14:12:36.564358Z",
     "shell.execute_reply": "2025-07-30T14:12:36.563356Z"
    },
    "papermill": {
     "duration": 0.032644,
     "end_time": "2025-07-30T14:12:36.566195",
     "exception": false,
     "start_time": "2025-07-30T14:12:36.533551",
     "status": "completed"
    },
    "tags": []
   },
   "outputs": [
    {
     "name": "stdout",
     "output_type": "stream",
     "text": [
      "Using Seed: 2023\n"
     ]
    }
   ],
   "source": [
    "import numpy as np\n",
    "parsed_seed = int(seed)\n",
    "np.random.seed(parsed_seed)\n",
    "print(f\"Using Seed: {parsed_seed}\")"
   ]
  },
  {
   "cell_type": "markdown",
   "id": "e0ebdc57",
   "metadata": {
    "papermill": {
     "duration": 0.022008,
     "end_time": "2025-07-30T14:12:36.609213",
     "exception": false,
     "start_time": "2025-07-30T14:12:36.587205",
     "status": "completed"
    },
    "tags": []
   },
   "source": [
    "# Loading Data"
   ]
  },
  {
   "cell_type": "markdown",
   "id": "681925a3",
   "metadata": {
    "papermill": {
     "duration": 0.020254,
     "end_time": "2025-07-30T14:12:36.651738",
     "exception": false,
     "start_time": "2025-07-30T14:12:36.631484",
     "status": "completed"
    },
    "tags": []
   },
   "source": [
    "Load siab_train, siab_test, siab_calib and/or \n",
    "load siab_train_features, siab_train_labels"
   ]
  },
  {
   "cell_type": "code",
   "execution_count": 9,
   "id": "f0496b8a",
   "metadata": {
    "execution": {
     "iopub.execute_input": "2025-07-30T14:12:36.690442Z",
     "iopub.status.busy": "2025-07-30T14:12:36.689934Z",
     "iopub.status.idle": "2025-07-30T14:12:48.817516Z",
     "shell.execute_reply": "2025-07-30T14:12:48.816302Z"
    },
    "papermill": {
     "duration": 12.148939,
     "end_time": "2025-07-30T14:12:48.819143",
     "exception": false,
     "start_time": "2025-07-30T14:12:36.670204",
     "status": "completed"
    },
    "tags": []
   },
   "outputs": [
    {
     "name": "stdout",
     "output_type": "stream",
     "text": [
      "Loading SIAB data from cache: data/siab_cached.csv.gz\n"
     ]
    },
    {
     "name": "stdout",
     "output_type": "stream",
     "text": [
      "(643690, 164)\n"
     ]
    }
   ],
   "source": [
    "from pathlib import Path\n",
    "import pandas as pd\n",
    "\n",
    "# File paths\n",
    "raw_file = Path(\"data/raw/siab.csv\")\n",
    "cache_file = Path(\"data/siab_cached.csv.gz\")\n",
    "\n",
    "# Ensure cache directory exists\n",
    "cache_file.parent.mkdir(parents=True, exist_ok=True)\n",
    "\n",
    "# Load with simple caching\n",
    "if cache_file.exists():\n",
    "    print(f\"Loading SIAB data from cache: {cache_file}\")\n",
    "    siab = pd.read_csv(cache_file, compression='gzip')\n",
    "else:\n",
    "    print(f\"Cache not found. Reading raw SIAB data: {raw_file}\")\n",
    "    siab = pd.read_csv(raw_file)\n",
    "    siab.to_csv(cache_file, index=False, compression='gzip')\n",
    "    print(f\"Cached SIAB data to: {cache_file}\")\n",
    "\n",
    "# Now use `siab` DataFrame as needed\n",
    "print(siab.shape)"
   ]
  },
  {
   "cell_type": "code",
   "execution_count": 10,
   "id": "db0ca512-5f53-4dba-abdb-a2888bca41ba",
   "metadata": {
    "execution": {
     "iopub.execute_input": "2025-07-30T14:12:48.865438Z",
     "iopub.status.busy": "2025-07-30T14:12:48.864929Z",
     "iopub.status.idle": "2025-07-30T14:12:48.870871Z",
     "shell.execute_reply": "2025-07-30T14:12:48.869772Z"
    },
    "papermill": {
     "duration": 0.030875,
     "end_time": "2025-07-30T14:12:48.872633",
     "exception": false,
     "start_time": "2025-07-30T14:12:48.841758",
     "status": "completed"
    },
    "tags": []
   },
   "outputs": [],
   "source": [
    "#siab"
   ]
  },
  {
   "cell_type": "code",
   "execution_count": 11,
   "id": "a0edb063",
   "metadata": {
    "execution": {
     "iopub.execute_input": "2025-07-30T14:12:48.915562Z",
     "iopub.status.busy": "2025-07-30T14:12:48.914812Z",
     "iopub.status.idle": "2025-07-30T14:12:48.919899Z",
     "shell.execute_reply": "2025-07-30T14:12:48.918889Z"
    },
    "papermill": {
     "duration": 0.028653,
     "end_time": "2025-07-30T14:12:48.921648",
     "exception": false,
     "start_time": "2025-07-30T14:12:48.892995",
     "status": "completed"
    },
    "tags": []
   },
   "outputs": [],
   "source": [
    "#import pandas as pd\n",
    "#\n",
    "#X_train = pd.read_csv(\"./data/X_train.csv\")\n",
    "#y_train = pd.read_csv(\"./data/y_train.csv\")"
   ]
  },
  {
   "cell_type": "code",
   "execution_count": 12,
   "id": "63d08085",
   "metadata": {
    "execution": {
     "iopub.execute_input": "2025-07-30T14:12:48.976257Z",
     "iopub.status.busy": "2025-07-30T14:12:48.975536Z",
     "iopub.status.idle": "2025-07-30T14:12:48.980598Z",
     "shell.execute_reply": "2025-07-30T14:12:48.979517Z"
    },
    "papermill": {
     "duration": 0.04007,
     "end_time": "2025-07-30T14:12:48.982305",
     "exception": false,
     "start_time": "2025-07-30T14:12:48.942235",
     "status": "completed"
    },
    "tags": []
   },
   "outputs": [],
   "source": [
    "#X_test = pd.read_csv(\"./data/X_test.csv\")\n",
    "#y_true = pd.read_csv(\"./data/y_test.csv\")"
   ]
  },
  {
   "cell_type": "code",
   "execution_count": 13,
   "id": "98a8d0fa-1d3d-4ed8-bb2c-281470e24add",
   "metadata": {
    "execution": {
     "iopub.execute_input": "2025-07-30T14:12:49.025899Z",
     "iopub.status.busy": "2025-07-30T14:12:49.024883Z",
     "iopub.status.idle": "2025-07-30T14:12:49.030261Z",
     "shell.execute_reply": "2025-07-30T14:12:49.029339Z"
    },
    "papermill": {
     "duration": 0.028955,
     "end_time": "2025-07-30T14:12:49.031821",
     "exception": false,
     "start_time": "2025-07-30T14:12:49.002866",
     "status": "completed"
    },
    "tags": []
   },
   "outputs": [],
   "source": [
    "# Calibration data for conformal\n",
    "#X_calib = pd.read_csv(\"./data/X_calib.csv\")\n",
    "#y_calib = pd.read_csv(\"./data/y_calib.csv\")"
   ]
  },
  {
   "cell_type": "markdown",
   "id": "997051c5-15bd-4b69-9786-c3001a3ce484",
   "metadata": {
    "papermill": {
     "duration": 0.019967,
     "end_time": "2025-07-30T14:12:49.073631",
     "exception": false,
     "start_time": "2025-07-30T14:12:49.053664",
     "status": "completed"
    },
    "tags": []
   },
   "source": [
    "# Splitting Data and Setting Training Data Size"
   ]
  },
  {
   "cell_type": "code",
   "execution_count": 14,
   "id": "e993b61f-042d-41a6-8c81-f55681f86335",
   "metadata": {
    "execution": {
     "iopub.execute_input": "2025-07-30T14:12:49.115152Z",
     "iopub.status.busy": "2025-07-30T14:12:49.114647Z",
     "iopub.status.idle": "2025-07-30T14:12:49.127884Z",
     "shell.execute_reply": "2025-07-30T14:12:49.126975Z"
    },
    "papermill": {
     "duration": 0.036522,
     "end_time": "2025-07-30T14:12:49.130031",
     "exception": false,
     "start_time": "2025-07-30T14:12:49.093509",
     "status": "completed"
    },
    "tags": []
   },
   "outputs": [],
   "source": [
    "def sample_by_year_size(df,\n",
    "                        training_year: str,\n",
    "                        training_size: str,\n",
    "                        random_state: int = 42):\n",
    "    # --- parse training_year into a list of int years ---\n",
    "    if \"_\" in training_year:\n",
    "        start_str, end_str = training_year.split(\"_\", 1)\n",
    "        start = int(start_str)\n",
    "        end   = int(end_str) if len(end_str) == 4 else (int(end_str) + (start // 100)*100)\n",
    "        years = list(range(start, end + 1))\n",
    "    else:\n",
    "        years = [int(training_year)]\n",
    "\n",
    "    df = df[df[\"year\"].isin(years)].reset_index(drop=True)\n",
    "\n",
    "    # --- map training_size to total number of samples ---\n",
    "    total_map = {\"25k\": 25_000, \"5k\": 5_000, \"1k\": 1_000}\n",
    "    if training_size not in total_map:\n",
    "        return df  # e.g. \"all\"\n",
    "\n",
    "    total_samples = total_map[training_size]\n",
    "    n_years       = len(years)\n",
    "    base          = total_samples // n_years\n",
    "    remainder     = total_samples % n_years\n",
    "\n",
    "    # --- build a dict: year -> how many to sample ---\n",
    "    # give +1 to the first `remainder` years in ascending order\n",
    "    quotas = {\n",
    "        year: base + (1 if idx < remainder else 0)\n",
    "        for idx, year in enumerate(sorted(years))\n",
    "    }\n",
    "\n",
    "    # --- sample per‐year according to the quota dict ---\n",
    "    sampled = (\n",
    "        df\n",
    "        .groupby(\"year\", group_keys=False)\n",
    "        .apply(lambda grp: grp.sample(\n",
    "            n=min(len(grp), quotas[grp.name]),\n",
    "            random_state=random_state))\n",
    "        .reset_index(drop=True)\n",
    "    )\n",
    "\n",
    "    return sampled"
   ]
  },
  {
   "cell_type": "code",
   "execution_count": 15,
   "id": "c0ccd338-0e02-41f3-a09d-f56f9266e3fb",
   "metadata": {
    "execution": {
     "iopub.execute_input": "2025-07-30T14:12:49.176551Z",
     "iopub.status.busy": "2025-07-30T14:12:49.176092Z",
     "iopub.status.idle": "2025-07-30T14:12:49.187808Z",
     "shell.execute_reply": "2025-07-30T14:12:49.186559Z"
    },
    "papermill": {
     "duration": 0.038586,
     "end_time": "2025-07-30T14:12:49.191448",
     "exception": false,
     "start_time": "2025-07-30T14:12:49.152862",
     "status": "completed"
    },
    "tags": []
   },
   "outputs": [
    {
     "data": {
      "text/plain": [
       "'5k'"
      ]
     },
     "execution_count": 15,
     "metadata": {},
     "output_type": "execute_result"
    }
   ],
   "source": [
    "universe[\"training_size\"]"
   ]
  },
  {
   "cell_type": "code",
   "execution_count": 16,
   "id": "ca707fd7-8047-4acd-bfa5-66248fbbf8e6",
   "metadata": {
    "execution": {
     "iopub.execute_input": "2025-07-30T14:12:49.241033Z",
     "iopub.status.busy": "2025-07-30T14:12:49.240007Z",
     "iopub.status.idle": "2025-07-30T14:12:49.248976Z",
     "shell.execute_reply": "2025-07-30T14:12:49.247825Z"
    },
    "papermill": {
     "duration": 0.034895,
     "end_time": "2025-07-30T14:12:49.250740",
     "exception": false,
     "start_time": "2025-07-30T14:12:49.215845",
     "status": "completed"
    },
    "tags": []
   },
   "outputs": [
    {
     "data": {
      "text/plain": [
       "'2010_14'"
      ]
     },
     "execution_count": 16,
     "metadata": {},
     "output_type": "execute_result"
    }
   ],
   "source": [
    "universe[\"training_year\"]"
   ]
  },
  {
   "cell_type": "code",
   "execution_count": 17,
   "id": "aea9c6ef-6f46-42c8-85eb-5a62025c1508",
   "metadata": {
    "execution": {
     "iopub.execute_input": "2025-07-30T14:12:49.296925Z",
     "iopub.status.busy": "2025-07-30T14:12:49.296270Z",
     "iopub.status.idle": "2025-07-30T14:12:50.292288Z",
     "shell.execute_reply": "2025-07-30T14:12:50.291317Z"
    },
    "papermill": {
     "duration": 1.020314,
     "end_time": "2025-07-30T14:12:50.294232",
     "exception": false,
     "start_time": "2025-07-30T14:12:49.273918",
     "status": "completed"
    },
    "tags": []
   },
   "outputs": [],
   "source": [
    "siab_train = sample_by_year_size(siab,\n",
    "                               training_year=universe[\"training_year\"],\n",
    "                               training_size=universe[\"training_size\"])"
   ]
  },
  {
   "cell_type": "code",
   "execution_count": 18,
   "id": "8d3afb32-789d-442c-8d5d-9f5aa8dd2eed",
   "metadata": {
    "execution": {
     "iopub.execute_input": "2025-07-30T14:12:50.342046Z",
     "iopub.status.busy": "2025-07-30T14:12:50.341518Z",
     "iopub.status.idle": "2025-07-30T14:12:50.350668Z",
     "shell.execute_reply": "2025-07-30T14:12:50.349245Z"
    },
    "papermill": {
     "duration": 0.036433,
     "end_time": "2025-07-30T14:12:50.352605",
     "exception": false,
     "start_time": "2025-07-30T14:12:50.316172",
     "status": "completed"
    },
    "tags": []
   },
   "outputs": [
    {
     "data": {
      "text/plain": [
       "(5000, 164)"
      ]
     },
     "execution_count": 18,
     "metadata": {},
     "output_type": "execute_result"
    }
   ],
   "source": [
    "siab_train.shape"
   ]
  },
  {
   "cell_type": "code",
   "execution_count": 19,
   "id": "d582db68-1a4c-47fb-84fc-08518dc1975a",
   "metadata": {
    "execution": {
     "iopub.execute_input": "2025-07-30T14:12:50.400471Z",
     "iopub.status.busy": "2025-07-30T14:12:50.399493Z",
     "iopub.status.idle": "2025-07-30T14:12:50.413161Z",
     "shell.execute_reply": "2025-07-30T14:12:50.411616Z"
    },
    "papermill": {
     "duration": 0.039484,
     "end_time": "2025-07-30T14:12:50.415094",
     "exception": false,
     "start_time": "2025-07-30T14:12:50.375610",
     "status": "completed"
    },
    "tags": []
   },
   "outputs": [
    {
     "data": {
      "text/plain": [
       "year\n",
       "2010    1000\n",
       "2011    1000\n",
       "2012    1000\n",
       "2013    1000\n",
       "2014    1000\n",
       "dtype: int64"
      ]
     },
     "metadata": {},
     "output_type": "display_data"
    }
   ],
   "source": [
    "display(siab_train.groupby(\"year\").size())"
   ]
  },
  {
   "cell_type": "code",
   "execution_count": 20,
   "id": "a561edb4-d032-42cb-8256-22eac1111c64",
   "metadata": {
    "execution": {
     "iopub.execute_input": "2025-07-30T14:12:50.462813Z",
     "iopub.status.busy": "2025-07-30T14:12:50.462096Z",
     "iopub.status.idle": "2025-07-30T14:12:50.765075Z",
     "shell.execute_reply": "2025-07-30T14:12:50.764142Z"
    },
    "papermill": {
     "duration": 0.328462,
     "end_time": "2025-07-30T14:12:50.767016",
     "exception": false,
     "start_time": "2025-07-30T14:12:50.438554",
     "status": "completed"
    },
    "tags": []
   },
   "outputs": [],
   "source": [
    "#siab_train = siab_s[siab_s.year < 2015]\n",
    "siab_calib = siab[siab.year == 2015]\n",
    "siab_test = siab[siab.year == 2016]"
   ]
  },
  {
   "cell_type": "code",
   "execution_count": 21,
   "id": "472de16f-c3db-4916-846b-1f0de9cf1746",
   "metadata": {
    "execution": {
     "iopub.execute_input": "2025-07-30T14:12:50.814604Z",
     "iopub.status.busy": "2025-07-30T14:12:50.814018Z",
     "iopub.status.idle": "2025-07-30T14:12:50.825187Z",
     "shell.execute_reply": "2025-07-30T14:12:50.823767Z"
    },
    "papermill": {
     "duration": 0.037615,
     "end_time": "2025-07-30T14:12:50.827570",
     "exception": false,
     "start_time": "2025-07-30T14:12:50.789955",
     "status": "completed"
    },
    "tags": []
   },
   "outputs": [],
   "source": [
    "X_train = siab_train.iloc[:,4:164]\n",
    "y_train = siab_train.iloc[:, [3]]"
   ]
  },
  {
   "cell_type": "code",
   "execution_count": 22,
   "id": "828c96af-f43a-4ed6-ba47-8ac73a47d56c",
   "metadata": {
    "execution": {
     "iopub.execute_input": "2025-07-30T14:12:50.895018Z",
     "iopub.status.busy": "2025-07-30T14:12:50.894544Z",
     "iopub.status.idle": "2025-07-30T14:12:50.946746Z",
     "shell.execute_reply": "2025-07-30T14:12:50.945800Z"
    },
    "papermill": {
     "duration": 0.086933,
     "end_time": "2025-07-30T14:12:50.948405",
     "exception": false,
     "start_time": "2025-07-30T14:12:50.861472",
     "status": "completed"
    },
    "tags": []
   },
   "outputs": [],
   "source": [
    "X_calib = siab_calib.iloc[:,4:164]\n",
    "y_calib = siab_calib.iloc[:, [3]]"
   ]
  },
  {
   "cell_type": "code",
   "execution_count": 23,
   "id": "c34be9c3-6bd6-476e-acd3-845840e303be",
   "metadata": {
    "execution": {
     "iopub.execute_input": "2025-07-30T14:12:50.992956Z",
     "iopub.status.busy": "2025-07-30T14:12:50.992112Z",
     "iopub.status.idle": "2025-07-30T14:12:51.044531Z",
     "shell.execute_reply": "2025-07-30T14:12:51.043473Z"
    },
    "papermill": {
     "duration": 0.076868,
     "end_time": "2025-07-30T14:12:51.046666",
     "exception": false,
     "start_time": "2025-07-30T14:12:50.969798",
     "status": "completed"
    },
    "tags": []
   },
   "outputs": [],
   "source": [
    "X_test = siab_test.iloc[:,4:164]\n",
    "y_true = siab_test.iloc[:, [3]]"
   ]
  },
  {
   "cell_type": "markdown",
   "id": "9901737e-04df-44f0-9100-f5ad144ed040",
   "metadata": {
    "papermill": {
     "duration": 0.020479,
     "end_time": "2025-07-30T14:12:51.090308",
     "exception": false,
     "start_time": "2025-07-30T14:12:51.069829",
     "status": "completed"
    },
    "tags": []
   },
   "source": [
    "# Splitting Data and Setting Training Data Size OLD VERSION"
   ]
  },
  {
   "cell_type": "code",
   "execution_count": 24,
   "id": "acbc8f7d-8fc8-4e86-8c59-5dcb0f58384b",
   "metadata": {
    "execution": {
     "iopub.execute_input": "2025-07-30T14:12:51.145561Z",
     "iopub.status.busy": "2025-07-30T14:12:51.144724Z",
     "iopub.status.idle": "2025-07-30T14:12:51.149993Z",
     "shell.execute_reply": "2025-07-30T14:12:51.149072Z"
    },
    "papermill": {
     "duration": 0.039655,
     "end_time": "2025-07-30T14:12:51.151596",
     "exception": false,
     "start_time": "2025-07-30T14:12:51.111941",
     "status": "completed"
    },
    "tags": []
   },
   "outputs": [],
   "source": [
    "#def sample_by_year(df, training_size, random_state=42):\n",
    "#    if training_size == \"2014\":\n",
    "#        return df[df[\"year\"] == 2014].reset_index(drop=True)\n",
    "#    \n",
    "#    size_map = {\n",
    "#        \"25k\": 5000,\n",
    "#        \"5k\": 1000,\n",
    "#        \"1k\": 200\n",
    "#    }\n",
    "#\n",
    "#    if training_size not in size_map:\n",
    "#        return df.reset_index(drop=True)  # use all data\n",
    "#\n",
    "#    n_per_year = size_map[training_size]\n",
    "#    grouped = df.groupby(\"year\")\n",
    "#    sampled = grouped.apply(lambda x: x.sample(n=min(n_per_year, len(x)), random_state=random_state))\n",
    "#    return sampled.reset_index(drop=True)"
   ]
  },
  {
   "cell_type": "code",
   "execution_count": 25,
   "id": "6d931f52-beaf-43ff-9e78-9d44a448d54e",
   "metadata": {
    "execution": {
     "iopub.execute_input": "2025-07-30T14:12:51.199137Z",
     "iopub.status.busy": "2025-07-30T14:12:51.198059Z",
     "iopub.status.idle": "2025-07-30T14:12:51.204738Z",
     "shell.execute_reply": "2025-07-30T14:12:51.203421Z"
    },
    "papermill": {
     "duration": 0.032471,
     "end_time": "2025-07-30T14:12:51.206878",
     "exception": false,
     "start_time": "2025-07-30T14:12:51.174407",
     "status": "completed"
    },
    "tags": []
   },
   "outputs": [],
   "source": [
    "#siab_s = sample_by_year(siab, universe[\"training_size\"])"
   ]
  },
  {
   "cell_type": "code",
   "execution_count": 26,
   "id": "5db0a40e-a4e2-4920-be85-b12ae061d70d",
   "metadata": {
    "execution": {
     "iopub.execute_input": "2025-07-30T14:12:51.254209Z",
     "iopub.status.busy": "2025-07-30T14:12:51.253763Z",
     "iopub.status.idle": "2025-07-30T14:12:51.263735Z",
     "shell.execute_reply": "2025-07-30T14:12:51.262616Z"
    },
    "papermill": {
     "duration": 0.034115,
     "end_time": "2025-07-30T14:12:51.265545",
     "exception": false,
     "start_time": "2025-07-30T14:12:51.231430",
     "status": "completed"
    },
    "tags": []
   },
   "outputs": [],
   "source": [
    "#display(siab_s.groupby(\"year\").size())"
   ]
  },
  {
   "cell_type": "code",
   "execution_count": 27,
   "id": "e6c733c5",
   "metadata": {
    "execution": {
     "iopub.execute_input": "2025-07-30T14:12:51.312817Z",
     "iopub.status.busy": "2025-07-30T14:12:51.311877Z",
     "iopub.status.idle": "2025-07-30T14:12:51.421045Z",
     "shell.execute_reply": "2025-07-30T14:12:51.419873Z"
    },
    "papermill": {
     "duration": 0.13488,
     "end_time": "2025-07-30T14:12:51.422638",
     "exception": false,
     "start_time": "2025-07-30T14:12:51.287758",
     "status": "completed"
    },
    "tags": []
   },
   "outputs": [],
   "source": [
    "# Auxiliary data needed downstream in the pipeline\n",
    "\n",
    "org_train = X_train.copy()\n",
    "org_test = X_test.copy()\n",
    "org_calib = X_calib.copy()"
   ]
  },
  {
   "cell_type": "code",
   "execution_count": 28,
   "id": "1466abac-c6da-4492-a62f-4240ae3783af",
   "metadata": {
    "execution": {
     "iopub.execute_input": "2025-07-30T14:12:51.466744Z",
     "iopub.status.busy": "2025-07-30T14:12:51.466276Z",
     "iopub.status.idle": "2025-07-30T14:12:51.472504Z",
     "shell.execute_reply": "2025-07-30T14:12:51.471435Z"
    },
    "papermill": {
     "duration": 0.032164,
     "end_time": "2025-07-30T14:12:51.474550",
     "exception": false,
     "start_time": "2025-07-30T14:12:51.442386",
     "status": "completed"
    },
    "tags": []
   },
   "outputs": [],
   "source": [
    "# put in other script?\n",
    "# Group sizes\n",
    "\n",
    "#def calculate_percentages(df, df_name):\n",
    "#    total_entries = len(df)\n",
    "#\n",
    "#    female_pct = (df['frau1'] == 1).mean() * 100\n",
    "#    non_german_pct = ((df['maxdeutsch1'] == 0) & (df['maxdeutsch.Missing.'] == 0)).mean() * 100\n",
    "#    non_german_male_pct = ((df['frau1'] == 0) & (df['maxdeutsch1'] == 0) & (df['maxdeutsch.Missing.'] == 0)).mean() * 100\n",
    "#    non_german_female_pct = ((df['frau1'] == 1) & (df['maxdeutsch1'] == 0) & (df['maxdeutsch.Missing.'] == 0)).mean() * 100\n",
    "#\n",
    "#    print(f\"--- {df_name} ---\")\n",
    "#    print(f\"Female: {female_pct:.2f}%\")\n",
    "#    print(f\"Non-German: {non_german_pct:.2f}%\")\n",
    "#    print(f\"Non-German Male: {non_german_male_pct:.2f}%\")\n",
    "#    print(f\"Non-German Female: {non_german_female_pct:.2f}%\\n\")\n",
    "#\n",
    "## Calculate for each DataFrame\n",
    "#calculate_percentages(siab_calib, \"siab_calib\")\n",
    "#calculate_percentages(siab_test, \"siab_test\")\n",
    "#calculate_percentages(siab_train, \"siab_train\")"
   ]
  },
  {
   "cell_type": "markdown",
   "id": "0a4a1b33",
   "metadata": {
    "papermill": {
     "duration": 0.026838,
     "end_time": "2025-07-30T14:12:51.527949",
     "exception": false,
     "start_time": "2025-07-30T14:12:51.501111",
     "status": "completed"
    },
    "tags": []
   },
   "source": [
    "# Preprocessing Data"
   ]
  },
  {
   "cell_type": "code",
   "execution_count": 29,
   "id": "ca879031",
   "metadata": {
    "execution": {
     "iopub.execute_input": "2025-07-30T14:12:51.564814Z",
     "iopub.status.busy": "2025-07-30T14:12:51.564223Z",
     "iopub.status.idle": "2025-07-30T14:12:51.570584Z",
     "shell.execute_reply": "2025-07-30T14:12:51.569802Z"
    },
    "papermill": {
     "duration": 0.032547,
     "end_time": "2025-07-30T14:12:51.572539",
     "exception": false,
     "start_time": "2025-07-30T14:12:51.539992",
     "status": "completed"
    },
    "tags": []
   },
   "outputs": [],
   "source": [
    "# EXCLUDE PROTECTED FEATURES\n",
    "# ----------------------\n",
    "# \"exclude_features\": \"none\", # \"nationality\", \"sex\", \"nationality-sex\"\n",
    "\n",
    "excluded_features = universe[\"exclude_features\"].split(\"-\") # split, e.g.: \"nationality-sex\" -> [\"nationality\", \"sex\"]\n",
    "excluded_features_dictionary = {\n",
    "    \"nationality\": [\"maxdeutsch1\", \"maxdeutsch.Missing.\"],\n",
    "    \"sex\": [\"frau1\"],\n",
    "    \"age\": [\"age\"],\n",
    "}\n"
   ]
  },
  {
   "cell_type": "code",
   "execution_count": 30,
   "id": "b745ac60",
   "metadata": {
    "execution": {
     "iopub.execute_input": "2025-07-30T14:12:51.621851Z",
     "iopub.status.busy": "2025-07-30T14:12:51.621420Z",
     "iopub.status.idle": "2025-07-30T14:12:51.627353Z",
     "shell.execute_reply": "2025-07-30T14:12:51.626352Z"
    },
    "papermill": {
     "duration": 0.031468,
     "end_time": "2025-07-30T14:12:51.629041",
     "exception": false,
     "start_time": "2025-07-30T14:12:51.597573",
     "status": "completed"
    },
    "tags": []
   },
   "outputs": [],
   "source": [
    "# Code nice names to column names\n",
    "\n",
    "excluded_features_columns = [\n",
    "    excluded_features_dictionary[f] for f in excluded_features if len(f) > 0 and f != \"none\"\n",
    "]"
   ]
  },
  {
   "cell_type": "code",
   "execution_count": 31,
   "id": "f84f73a2",
   "metadata": {
    "execution": {
     "iopub.execute_input": "2025-07-30T14:12:51.679654Z",
     "iopub.status.busy": "2025-07-30T14:12:51.678690Z",
     "iopub.status.idle": "2025-07-30T14:12:51.685668Z",
     "shell.execute_reply": "2025-07-30T14:12:51.684693Z"
    },
    "papermill": {
     "duration": 0.033985,
     "end_time": "2025-07-30T14:12:51.687567",
     "exception": false,
     "start_time": "2025-07-30T14:12:51.653582",
     "status": "completed"
    },
    "tags": []
   },
   "outputs": [],
   "source": [
    "from utils import flatten_once\n",
    "\n",
    "excluded_features_columns = flatten_once(excluded_features_columns)"
   ]
  },
  {
   "cell_type": "code",
   "execution_count": 32,
   "id": "884dea22",
   "metadata": {
    "execution": {
     "iopub.execute_input": "2025-07-30T14:12:51.737023Z",
     "iopub.status.busy": "2025-07-30T14:12:51.736093Z",
     "iopub.status.idle": "2025-07-30T14:12:51.745173Z",
     "shell.execute_reply": "2025-07-30T14:12:51.744346Z"
    },
    "papermill": {
     "duration": 0.046231,
     "end_time": "2025-07-30T14:12:51.757782",
     "exception": false,
     "start_time": "2025-07-30T14:12:51.711551",
     "status": "completed"
    },
    "tags": []
   },
   "outputs": [
    {
     "name": "stdout",
     "output_type": "stream",
     "text": [
      "Dropping features: ['age']\n"
     ]
    }
   ],
   "source": [
    "if len(excluded_features_columns) > 0:\n",
    "    print(f\"Dropping features: {excluded_features_columns}\")\n",
    "    X_train.drop(excluded_features_columns, axis=1, inplace=True)"
   ]
  },
  {
   "cell_type": "code",
   "execution_count": 33,
   "id": "95ab8b16",
   "metadata": {
    "execution": {
     "iopub.execute_input": "2025-07-30T14:12:51.811677Z",
     "iopub.status.busy": "2025-07-30T14:12:51.810770Z",
     "iopub.status.idle": "2025-07-30T14:12:51.863819Z",
     "shell.execute_reply": "2025-07-30T14:12:51.863042Z"
    },
    "papermill": {
     "duration": 0.068164,
     "end_time": "2025-07-30T14:12:51.865250",
     "exception": false,
     "start_time": "2025-07-30T14:12:51.797086",
     "status": "completed"
    },
    "tags": []
   },
   "outputs": [
    {
     "name": "stdout",
     "output_type": "stream",
     "text": [
      "Dropping features: ['age']\n"
     ]
    }
   ],
   "source": [
    "if len(excluded_features_columns) > 0:\n",
    "    print(f\"Dropping features: {excluded_features_columns}\")\n",
    "    X_test.drop(excluded_features_columns, axis=1, inplace=True)"
   ]
  },
  {
   "cell_type": "code",
   "execution_count": 34,
   "id": "1853aaf5-fb9f-46cb-a2b5-8ea4ae2237e4",
   "metadata": {
    "execution": {
     "iopub.execute_input": "2025-07-30T14:12:51.909485Z",
     "iopub.status.busy": "2025-07-30T14:12:51.908986Z",
     "iopub.status.idle": "2025-07-30T14:12:51.963144Z",
     "shell.execute_reply": "2025-07-30T14:12:51.962382Z"
    },
    "papermill": {
     "duration": 0.085093,
     "end_time": "2025-07-30T14:12:51.964705",
     "exception": false,
     "start_time": "2025-07-30T14:12:51.879612",
     "status": "completed"
    },
    "tags": []
   },
   "outputs": [
    {
     "name": "stdout",
     "output_type": "stream",
     "text": [
      "Dropping features: ['age']\n"
     ]
    }
   ],
   "source": [
    "if len(excluded_features_columns) > 0:\n",
    "    print(f\"Dropping features: {excluded_features_columns}\")\n",
    "    X_calib.drop(excluded_features_columns, axis=1, inplace=True)"
   ]
  },
  {
   "cell_type": "code",
   "execution_count": 35,
   "id": "6727d079-03e5-481e-9d38-292a90b7a0a8",
   "metadata": {
    "execution": {
     "iopub.execute_input": "2025-07-30T14:12:52.014465Z",
     "iopub.status.busy": "2025-07-30T14:12:52.013965Z",
     "iopub.status.idle": "2025-07-30T14:12:52.018844Z",
     "shell.execute_reply": "2025-07-30T14:12:52.017923Z"
    },
    "papermill": {
     "duration": 0.030878,
     "end_time": "2025-07-30T14:12:52.020751",
     "exception": false,
     "start_time": "2025-07-30T14:12:51.989873",
     "status": "completed"
    },
    "tags": []
   },
   "outputs": [],
   "source": [
    "# SPLIT & STRATIFY DATA\n",
    "# ----------------------"
   ]
  },
  {
   "cell_type": "code",
   "execution_count": 36,
   "id": "76c4dc6d",
   "metadata": {
    "execution": {
     "iopub.execute_input": "2025-07-30T14:12:52.072291Z",
     "iopub.status.busy": "2025-07-30T14:12:52.071757Z",
     "iopub.status.idle": "2025-07-30T14:12:52.077500Z",
     "shell.execute_reply": "2025-07-30T14:12:52.076384Z"
    },
    "papermill": {
     "duration": 0.033799,
     "end_time": "2025-07-30T14:12:52.079574",
     "exception": false,
     "start_time": "2025-07-30T14:12:52.045775",
     "status": "completed"
    },
    "tags": []
   },
   "outputs": [],
   "source": [
    "# EXCLUDE CERTAIN SUBGROUPS\n",
    "# ----------------------\n",
    "\n",
    "mode = universe.get(\"exclude_subgroups\", \"keep-all\") \n",
    "# Fetches the exclude_subgroups setting from the universe dict.\n",
    "# Defaults to \"keep-all\" if the key is missing."
   ]
  },
  {
   "cell_type": "code",
   "execution_count": 37,
   "id": "21994072",
   "metadata": {
    "execution": {
     "iopub.execute_input": "2025-07-30T14:12:52.145139Z",
     "iopub.status.busy": "2025-07-30T14:12:52.144598Z",
     "iopub.status.idle": "2025-07-30T14:12:52.152739Z",
     "shell.execute_reply": "2025-07-30T14:12:52.151399Z"
    },
    "papermill": {
     "duration": 0.043056,
     "end_time": "2025-07-30T14:12:52.155268",
     "exception": false,
     "start_time": "2025-07-30T14:12:52.112212",
     "status": "completed"
    },
    "tags": []
   },
   "outputs": [],
   "source": [
    "if mode == \"keep-all\":\n",
    "    keep_mask = pd.Series(True, index=org_train.index)\n",
    "\n",
    "# org_train contains the original feature columns from features_org (in Simson)\n",
    "# features_org contains unprocessed features, for me X_train at beginning ???\n",
    "# For keep-all, creates a boolean Series (keep_mask) of all True, so no rows are removed.\n",
    "\n",
    "elif mode == \"drop-non-german\":\n",
    "    keep_mask = org_train[\"maxdeutsch1\"] == 1 # ??? what about missing values?\n",
    "\n",
    "else:\n",
    "    raise ValueError(f\"Unsupported mode for exclude_subgroups: {mode}\")\n"
   ]
  },
  {
   "cell_type": "code",
   "execution_count": 38,
   "id": "71651440",
   "metadata": {
    "execution": {
     "iopub.execute_input": "2025-07-30T14:12:52.221491Z",
     "iopub.status.busy": "2025-07-30T14:12:52.221007Z",
     "iopub.status.idle": "2025-07-30T14:12:52.228058Z",
     "shell.execute_reply": "2025-07-30T14:12:52.227009Z"
    },
    "papermill": {
     "duration": 0.042168,
     "end_time": "2025-07-30T14:12:52.230166",
     "exception": false,
     "start_time": "2025-07-30T14:12:52.187998",
     "status": "completed"
    },
    "tags": []
   },
   "outputs": [],
   "source": [
    "n_drop = (~keep_mask).sum() # Calculates how many rows are set to be dropped\n",
    "if n_drop > 0:\n",
    "    pct = n_drop / len(keep_mask) * 100\n",
    "    print(f\"Dropping {n_drop} rows ({pct:.2f}%) where mode='{mode}'\")"
   ]
  },
  {
   "cell_type": "code",
   "execution_count": 39,
   "id": "5fb8eee5",
   "metadata": {
    "execution": {
     "iopub.execute_input": "2025-07-30T14:12:52.294989Z",
     "iopub.status.busy": "2025-07-30T14:12:52.294447Z",
     "iopub.status.idle": "2025-07-30T14:12:52.304528Z",
     "shell.execute_reply": "2025-07-30T14:12:52.303225Z"
    },
    "papermill": {
     "duration": 0.045048,
     "end_time": "2025-07-30T14:12:52.306484",
     "exception": false,
     "start_time": "2025-07-30T14:12:52.261436",
     "status": "completed"
    },
    "tags": []
   },
   "outputs": [],
   "source": [
    "X_train = X_train[keep_mask]"
   ]
  },
  {
   "cell_type": "code",
   "execution_count": 40,
   "id": "b202bb3a",
   "metadata": {
    "execution": {
     "iopub.execute_input": "2025-07-30T14:12:52.358466Z",
     "iopub.status.busy": "2025-07-30T14:12:52.357473Z",
     "iopub.status.idle": "2025-07-30T14:12:52.365028Z",
     "shell.execute_reply": "2025-07-30T14:12:52.363705Z"
    },
    "papermill": {
     "duration": 0.035953,
     "end_time": "2025-07-30T14:12:52.367405",
     "exception": false,
     "start_time": "2025-07-30T14:12:52.331452",
     "status": "completed"
    },
    "tags": []
   },
   "outputs": [],
   "source": [
    "y_train = y_train[keep_mask]"
   ]
  },
  {
   "cell_type": "markdown",
   "id": "493e2ac3",
   "metadata": {
    "papermill": {
     "duration": 0.033776,
     "end_time": "2025-07-30T14:12:52.435886",
     "exception": false,
     "start_time": "2025-07-30T14:12:52.402110",
     "status": "completed"
    },
    "tags": []
   },
   "source": [
    "# Model Training"
   ]
  },
  {
   "cell_type": "code",
   "execution_count": 41,
   "id": "679e1268",
   "metadata": {
    "execution": {
     "iopub.execute_input": "2025-07-30T14:12:52.506252Z",
     "iopub.status.busy": "2025-07-30T14:12:52.505784Z",
     "iopub.status.idle": "2025-07-30T14:12:52.615863Z",
     "shell.execute_reply": "2025-07-30T14:12:52.614757Z"
    },
    "papermill": {
     "duration": 0.147647,
     "end_time": "2025-07-30T14:12:52.618426",
     "exception": false,
     "start_time": "2025-07-30T14:12:52.470779",
     "status": "completed"
    },
    "tags": []
   },
   "outputs": [],
   "source": [
    "from sklearn.linear_model import LogisticRegression\n",
    "from sklearn.ensemble import GradientBoostingClassifier, RandomForestClassifier\n",
    "\n",
    "if (universe[\"model\"] == \"logreg\"):\n",
    "    model = LogisticRegression() #penalty=\"none\") #, solver=\"newton-cg\", max_iter=1) # include random_state=19 ?\n",
    "elif (universe[\"model\"] == \"penalized_logreg\"):\n",
    "    model = LogisticRegression(penalty=\"l2\", C=1.0) #, solver=\"newton-cg\", max_iter=1)\n",
    "elif (universe[\"model\"] == \"rf\"):\n",
    "    model = RandomForestClassifier(n_estimators=100, n_jobs=-1)\n",
    "elif (universe[\"model\"] == \"gbm\"):\n",
    "    model = GradientBoostingClassifier()\n",
    "elif (universe[\"model\"] == \"elasticnet\"):\n",
    "    model = LogisticRegression(penalty = 'elasticnet', solver = 'saga', l1_ratio = 0.5, max_iter=5000) # which solver to use?\n",
    "else:\n",
    "    raise \"Unsupported universe.model\""
   ]
  },
  {
   "cell_type": "code",
   "execution_count": 42,
   "id": "0cc8f744",
   "metadata": {
    "execution": {
     "iopub.execute_input": "2025-07-30T14:12:52.686824Z",
     "iopub.status.busy": "2025-07-30T14:12:52.686234Z",
     "iopub.status.idle": "2025-07-30T14:12:52.693576Z",
     "shell.execute_reply": "2025-07-30T14:12:52.692229Z"
    },
    "papermill": {
     "duration": 0.044037,
     "end_time": "2025-07-30T14:12:52.695791",
     "exception": false,
     "start_time": "2025-07-30T14:12:52.651754",
     "status": "completed"
    },
    "tags": []
   },
   "outputs": [],
   "source": [
    "import numpy as np\n",
    "from sklearn.pipeline import Pipeline\n",
    "from sklearn.preprocessing import StandardScaler\n",
    "\n",
    "model = Pipeline([\n",
    "    #(\"continuous_processor\", continuous_processor),\n",
    "    #(\"categorical_preprocessor\", categorical_preprocessor),\n",
    "    (\"scale\", StandardScaler() if universe[\"scale\"] == \"scale\" else None), \n",
    "    (\"model\", model),\n",
    "])"
   ]
  },
  {
   "cell_type": "code",
   "execution_count": 43,
   "id": "9442c04d",
   "metadata": {
    "execution": {
     "iopub.execute_input": "2025-07-30T14:12:52.767559Z",
     "iopub.status.busy": "2025-07-30T14:12:52.767055Z",
     "iopub.status.idle": "2025-07-30T14:12:52.977001Z",
     "shell.execute_reply": "2025-07-30T14:12:52.975902Z"
    },
    "papermill": {
     "duration": 0.248506,
     "end_time": "2025-07-30T14:12:52.978879",
     "exception": false,
     "start_time": "2025-07-30T14:12:52.730373",
     "status": "completed"
    },
    "tags": []
   },
   "outputs": [
    {
     "name": "stderr",
     "output_type": "stream",
     "text": [
      "/dss/dsshome1/0C/ra93lal2/.local/share/virtualenvs/CMA_Fairness_v2-3j10GkSs/lib/python3.10/site-packages/sklearn/linear_model/_logistic.py:444: ConvergenceWarning: lbfgs failed to converge (status=1):\n",
      "STOP: TOTAL NO. of ITERATIONS REACHED LIMIT.\n",
      "\n",
      "Increase the number of iterations (max_iter) or scale the data as shown in:\n",
      "    https://scikit-learn.org/stable/modules/preprocessing.html\n",
      "Please also refer to the documentation for alternative solver options:\n",
      "    https://scikit-learn.org/stable/modules/linear_model.html#logistic-regression\n",
      "  n_iter_i = _check_optimize_result(\n"
     ]
    },
    {
     "data": {
      "text/html": [
       "<style>#sk-container-id-1 {color: black;background-color: white;}#sk-container-id-1 pre{padding: 0;}#sk-container-id-1 div.sk-toggleable {background-color: white;}#sk-container-id-1 label.sk-toggleable__label {cursor: pointer;display: block;width: 100%;margin-bottom: 0;padding: 0.3em;box-sizing: border-box;text-align: center;}#sk-container-id-1 label.sk-toggleable__label-arrow:before {content: \"▸\";float: left;margin-right: 0.25em;color: #696969;}#sk-container-id-1 label.sk-toggleable__label-arrow:hover:before {color: black;}#sk-container-id-1 div.sk-estimator:hover label.sk-toggleable__label-arrow:before {color: black;}#sk-container-id-1 div.sk-toggleable__content {max-height: 0;max-width: 0;overflow: hidden;text-align: left;background-color: #f0f8ff;}#sk-container-id-1 div.sk-toggleable__content pre {margin: 0.2em;color: black;border-radius: 0.25em;background-color: #f0f8ff;}#sk-container-id-1 input.sk-toggleable__control:checked~div.sk-toggleable__content {max-height: 200px;max-width: 100%;overflow: auto;}#sk-container-id-1 input.sk-toggleable__control:checked~label.sk-toggleable__label-arrow:before {content: \"▾\";}#sk-container-id-1 div.sk-estimator input.sk-toggleable__control:checked~label.sk-toggleable__label {background-color: #d4ebff;}#sk-container-id-1 div.sk-label input.sk-toggleable__control:checked~label.sk-toggleable__label {background-color: #d4ebff;}#sk-container-id-1 input.sk-hidden--visually {border: 0;clip: rect(1px 1px 1px 1px);clip: rect(1px, 1px, 1px, 1px);height: 1px;margin: -1px;overflow: hidden;padding: 0;position: absolute;width: 1px;}#sk-container-id-1 div.sk-estimator {font-family: monospace;background-color: #f0f8ff;border: 1px dotted black;border-radius: 0.25em;box-sizing: border-box;margin-bottom: 0.5em;}#sk-container-id-1 div.sk-estimator:hover {background-color: #d4ebff;}#sk-container-id-1 div.sk-parallel-item::after {content: \"\";width: 100%;border-bottom: 1px solid gray;flex-grow: 1;}#sk-container-id-1 div.sk-label:hover label.sk-toggleable__label {background-color: #d4ebff;}#sk-container-id-1 div.sk-serial::before {content: \"\";position: absolute;border-left: 1px solid gray;box-sizing: border-box;top: 0;bottom: 0;left: 50%;z-index: 0;}#sk-container-id-1 div.sk-serial {display: flex;flex-direction: column;align-items: center;background-color: white;padding-right: 0.2em;padding-left: 0.2em;position: relative;}#sk-container-id-1 div.sk-item {position: relative;z-index: 1;}#sk-container-id-1 div.sk-parallel {display: flex;align-items: stretch;justify-content: center;background-color: white;position: relative;}#sk-container-id-1 div.sk-item::before, #sk-container-id-1 div.sk-parallel-item::before {content: \"\";position: absolute;border-left: 1px solid gray;box-sizing: border-box;top: 0;bottom: 0;left: 50%;z-index: -1;}#sk-container-id-1 div.sk-parallel-item {display: flex;flex-direction: column;z-index: 1;position: relative;background-color: white;}#sk-container-id-1 div.sk-parallel-item:first-child::after {align-self: flex-end;width: 50%;}#sk-container-id-1 div.sk-parallel-item:last-child::after {align-self: flex-start;width: 50%;}#sk-container-id-1 div.sk-parallel-item:only-child::after {width: 0;}#sk-container-id-1 div.sk-dashed-wrapped {border: 1px dashed gray;margin: 0 0.4em 0.5em 0.4em;box-sizing: border-box;padding-bottom: 0.4em;background-color: white;}#sk-container-id-1 div.sk-label label {font-family: monospace;font-weight: bold;display: inline-block;line-height: 1.2em;}#sk-container-id-1 div.sk-label-container {text-align: center;}#sk-container-id-1 div.sk-container {/* jupyter's `normalize.less` sets `[hidden] { display: none; }` but bootstrap.min.css set `[hidden] { display: none !important; }` so we also need the `!important` here to be able to override the default hidden behavior on the sphinx rendered scikit-learn.org. See: https://github.com/scikit-learn/scikit-learn/issues/21755 */display: inline-block !important;position: relative;}#sk-container-id-1 div.sk-text-repr-fallback {display: none;}</style><div id=\"sk-container-id-1\" class=\"sk-top-container\"><div class=\"sk-text-repr-fallback\"><pre>Pipeline(steps=[(&#x27;scale&#x27;, None), (&#x27;model&#x27;, LogisticRegression())])</pre><b>In a Jupyter environment, please rerun this cell to show the HTML representation or trust the notebook. <br />On GitHub, the HTML representation is unable to render, please try loading this page with nbviewer.org.</b></div><div class=\"sk-container\" hidden><div class=\"sk-item sk-dashed-wrapped\"><div class=\"sk-label-container\"><div class=\"sk-label sk-toggleable\"><input class=\"sk-toggleable__control sk-hidden--visually\" id=\"sk-estimator-id-1\" type=\"checkbox\" ><label for=\"sk-estimator-id-1\" class=\"sk-toggleable__label sk-toggleable__label-arrow\">Pipeline</label><div class=\"sk-toggleable__content\"><pre>Pipeline(steps=[(&#x27;scale&#x27;, None), (&#x27;model&#x27;, LogisticRegression())])</pre></div></div></div><div class=\"sk-serial\"><div class=\"sk-item\"><div class=\"sk-estimator sk-toggleable\"><input class=\"sk-toggleable__control sk-hidden--visually\" id=\"sk-estimator-id-2\" type=\"checkbox\" ><label for=\"sk-estimator-id-2\" class=\"sk-toggleable__label sk-toggleable__label-arrow\">None</label><div class=\"sk-toggleable__content\"><pre>None</pre></div></div></div><div class=\"sk-item\"><div class=\"sk-estimator sk-toggleable\"><input class=\"sk-toggleable__control sk-hidden--visually\" id=\"sk-estimator-id-3\" type=\"checkbox\" ><label for=\"sk-estimator-id-3\" class=\"sk-toggleable__label sk-toggleable__label-arrow\">LogisticRegression</label><div class=\"sk-toggleable__content\"><pre>LogisticRegression()</pre></div></div></div></div></div></div></div>"
      ],
      "text/plain": [
       "Pipeline(steps=[('scale', None), ('model', LogisticRegression())])"
      ]
     },
     "execution_count": 43,
     "metadata": {},
     "output_type": "execute_result"
    }
   ],
   "source": [
    "model.fit(X_train, y_train.values.ravel())"
   ]
  },
  {
   "cell_type": "code",
   "execution_count": 44,
   "id": "af59f8c0",
   "metadata": {
    "execution": {
     "iopub.execute_input": "2025-07-30T14:12:53.034738Z",
     "iopub.status.busy": "2025-07-30T14:12:53.034222Z",
     "iopub.status.idle": "2025-07-30T14:12:53.040265Z",
     "shell.execute_reply": "2025-07-30T14:12:53.039128Z"
    },
    "papermill": {
     "duration": 0.037505,
     "end_time": "2025-07-30T14:12:53.042287",
     "exception": false,
     "start_time": "2025-07-30T14:12:53.004782",
     "status": "completed"
    },
    "tags": []
   },
   "outputs": [],
   "source": [
    "from fairness_multiverse.universe import predict_w_threshold"
   ]
  },
  {
   "cell_type": "code",
   "execution_count": 45,
   "id": "a7cf2e16",
   "metadata": {
    "execution": {
     "iopub.execute_input": "2025-07-30T14:12:53.096885Z",
     "iopub.status.busy": "2025-07-30T14:12:53.096446Z",
     "iopub.status.idle": "2025-07-30T14:12:53.207330Z",
     "shell.execute_reply": "2025-07-30T14:12:53.206515Z"
    },
    "papermill": {
     "duration": 0.138513,
     "end_time": "2025-07-30T14:12:53.208694",
     "exception": false,
     "start_time": "2025-07-30T14:12:53.070181",
     "status": "completed"
    },
    "tags": []
   },
   "outputs": [
    {
     "data": {
      "text/plain": [
       "0.8610857206554453"
      ]
     },
     "execution_count": 45,
     "metadata": {},
     "output_type": "execute_result"
    }
   ],
   "source": [
    "probs_test = model.predict_proba(X_test)\n",
    "\n",
    "'''\n",
    "Below code returns a boolean array (or binary 0/1 array depending on how it’s used) where each element \n",
    "is True if the probability of class 1 is greater than or equal to the threshold, and False otherwise.\n",
    "'''\n",
    "y_pred_default = predict_w_threshold(probs_test, 0.5)\n",
    "\n",
    "from sklearn.metrics import accuracy_score\n",
    "\n",
    "# Naive prediction\n",
    "accuracy_score(y_true = y_true, y_pred = y_pred_default)"
   ]
  },
  {
   "cell_type": "code",
   "execution_count": 46,
   "id": "081964c3",
   "metadata": {
    "execution": {
     "iopub.execute_input": "2025-07-30T14:12:53.268293Z",
     "iopub.status.busy": "2025-07-30T14:12:53.267712Z",
     "iopub.status.idle": "2025-07-30T14:12:53.357255Z",
     "shell.execute_reply": "2025-07-30T14:12:53.356081Z"
    },
    "papermill": {
     "duration": 0.125188,
     "end_time": "2025-07-30T14:12:53.359111",
     "exception": false,
     "start_time": "2025-07-30T14:12:53.233923",
     "status": "completed"
    },
    "tags": []
   },
   "outputs": [
    {
     "data": {
      "text/plain": [
       "array([0, 0, 0, ..., 0, 0, 0])"
      ]
     },
     "execution_count": 46,
     "metadata": {},
     "output_type": "execute_result"
    }
   ],
   "source": [
    "model.predict(X_test)"
   ]
  },
  {
   "cell_type": "markdown",
   "id": "56c9705b",
   "metadata": {
    "papermill": {
     "duration": 0.024587,
     "end_time": "2025-07-30T14:12:53.410834",
     "exception": false,
     "start_time": "2025-07-30T14:12:53.386247",
     "status": "completed"
    },
    "tags": []
   },
   "source": [
    "# Conformal Prediction"
   ]
  },
  {
   "cell_type": "code",
   "execution_count": 47,
   "id": "160ec6ff",
   "metadata": {
    "execution": {
     "iopub.execute_input": "2025-07-30T14:12:53.468717Z",
     "iopub.status.busy": "2025-07-30T14:12:53.468271Z",
     "iopub.status.idle": "2025-07-30T14:12:53.473969Z",
     "shell.execute_reply": "2025-07-30T14:12:53.472895Z"
    },
    "papermill": {
     "duration": 0.040917,
     "end_time": "2025-07-30T14:12:53.476223",
     "exception": false,
     "start_time": "2025-07-30T14:12:53.435306",
     "status": "completed"
    },
    "tags": []
   },
   "outputs": [],
   "source": [
    "# Miscoverage level for conformal prediction (10% allowed error rate => 90% target coverage)\n",
    "alpha = 0.1"
   ]
  },
  {
   "cell_type": "code",
   "execution_count": 48,
   "id": "eadf4555-3dd3-440e-8e35-f82a4ad9f855",
   "metadata": {
    "execution": {
     "iopub.execute_input": "2025-07-30T14:12:53.517840Z",
     "iopub.status.busy": "2025-07-30T14:12:53.517498Z",
     "iopub.status.idle": "2025-07-30T14:12:53.602421Z",
     "shell.execute_reply": "2025-07-30T14:12:53.601275Z"
    },
    "papermill": {
     "duration": 0.101164,
     "end_time": "2025-07-30T14:12:53.603864",
     "exception": false,
     "start_time": "2025-07-30T14:12:53.502700",
     "status": "completed"
    },
    "tags": []
   },
   "outputs": [],
   "source": [
    "probs_calib = model.predict_proba(X_calib)"
   ]
  },
  {
   "cell_type": "code",
   "execution_count": 49,
   "id": "2ed93547-6d5d-4983-9b36-1ecb300da49a",
   "metadata": {
    "execution": {
     "iopub.execute_input": "2025-07-30T14:12:53.651824Z",
     "iopub.status.busy": "2025-07-30T14:12:53.651369Z",
     "iopub.status.idle": "2025-07-30T14:12:53.657005Z",
     "shell.execute_reply": "2025-07-30T14:12:53.655960Z"
    },
    "papermill": {
     "duration": 0.033929,
     "end_time": "2025-07-30T14:12:53.658569",
     "exception": false,
     "start_time": "2025-07-30T14:12:53.624640",
     "status": "completed"
    },
    "tags": []
   },
   "outputs": [],
   "source": [
    "y_calib = y_calib.values.ravel().astype(int)"
   ]
  },
  {
   "cell_type": "code",
   "execution_count": 50,
   "id": "65d1320d-f588-4b38-9072-62af1ae97f7d",
   "metadata": {
    "execution": {
     "iopub.execute_input": "2025-07-30T14:12:53.711179Z",
     "iopub.status.busy": "2025-07-30T14:12:53.710133Z",
     "iopub.status.idle": "2025-07-30T14:12:53.719136Z",
     "shell.execute_reply": "2025-07-30T14:12:53.718161Z"
    },
    "papermill": {
     "duration": 0.036615,
     "end_time": "2025-07-30T14:12:53.720811",
     "exception": false,
     "start_time": "2025-07-30T14:12:53.684196",
     "status": "completed"
    },
    "tags": []
   },
   "outputs": [],
   "source": [
    "from fairness_multiverse.conformal import compute_nc_scores\n",
    "\n",
    "# Compute nonconformity scores on calibration set (1 - probability of true class)\n",
    "nc_scores = compute_nc_scores(probs_calib, y_calib)"
   ]
  },
  {
   "cell_type": "code",
   "execution_count": 51,
   "id": "df3b8ca3-53b7-43d5-9667-7c85da7aeda2",
   "metadata": {
    "execution": {
     "iopub.execute_input": "2025-07-30T14:12:53.770990Z",
     "iopub.status.busy": "2025-07-30T14:12:53.770644Z",
     "iopub.status.idle": "2025-07-30T14:12:53.775908Z",
     "shell.execute_reply": "2025-07-30T14:12:53.775086Z"
    },
    "papermill": {
     "duration": 0.029708,
     "end_time": "2025-07-30T14:12:53.777202",
     "exception": false,
     "start_time": "2025-07-30T14:12:53.747494",
     "status": "completed"
    },
    "tags": []
   },
   "outputs": [],
   "source": [
    "from fairness_multiverse.conformal import find_threshold\n",
    "\n",
    "# Find conformal threshold q_hat for the given alpha (split conformal method)\n",
    "q_hat = find_threshold(nc_scores, alpha)"
   ]
  },
  {
   "cell_type": "code",
   "execution_count": 52,
   "id": "4d29e6c1-0ef6-4aa4-b8fe-4fe79b0d033a",
   "metadata": {
    "execution": {
     "iopub.execute_input": "2025-07-30T14:12:53.813520Z",
     "iopub.status.busy": "2025-07-30T14:12:53.812929Z",
     "iopub.status.idle": "2025-07-30T14:12:53.819285Z",
     "shell.execute_reply": "2025-07-30T14:12:53.818439Z"
    },
    "papermill": {
     "duration": 0.029696,
     "end_time": "2025-07-30T14:12:53.820524",
     "exception": false,
     "start_time": "2025-07-30T14:12:53.790828",
     "status": "completed"
    },
    "tags": []
   },
   "outputs": [
    {
     "data": {
      "text/plain": [
       "0.6751138120294"
      ]
     },
     "execution_count": 52,
     "metadata": {},
     "output_type": "execute_result"
    }
   ],
   "source": [
    "q_hat"
   ]
  },
  {
   "cell_type": "code",
   "execution_count": 53,
   "id": "92460794-cdac-4be2-ba28-f28c0515a6fb",
   "metadata": {
    "execution": {
     "iopub.execute_input": "2025-07-30T14:12:53.848467Z",
     "iopub.status.busy": "2025-07-30T14:12:53.847972Z",
     "iopub.status.idle": "2025-07-30T14:12:54.681571Z",
     "shell.execute_reply": "2025-07-30T14:12:54.680336Z"
    },
    "papermill": {
     "duration": 0.848887,
     "end_time": "2025-07-30T14:12:54.683061",
     "exception": false,
     "start_time": "2025-07-30T14:12:53.834174",
     "status": "completed"
    },
    "tags": []
   },
   "outputs": [],
   "source": [
    "from fairness_multiverse.conformal import predict_conformal_sets\n",
    "\n",
    "# Generate prediction sets for each test example\n",
    "pred_sets = predict_conformal_sets(model, X_test, q_hat)"
   ]
  },
  {
   "cell_type": "code",
   "execution_count": 54,
   "id": "d90c9a65-e6db-4f5d-80cd-e68fb7e46829",
   "metadata": {
    "execution": {
     "iopub.execute_input": "2025-07-30T14:12:54.739445Z",
     "iopub.status.busy": "2025-07-30T14:12:54.738946Z",
     "iopub.status.idle": "2025-07-30T14:12:54.744833Z",
     "shell.execute_reply": "2025-07-30T14:12:54.743647Z"
    },
    "papermill": {
     "duration": 0.035933,
     "end_time": "2025-07-30T14:12:54.746816",
     "exception": false,
     "start_time": "2025-07-30T14:12:54.710883",
     "status": "completed"
    },
    "tags": []
   },
   "outputs": [],
   "source": [
    "y_true = y_true.squeeze()"
   ]
  },
  {
   "cell_type": "code",
   "execution_count": 55,
   "id": "3a58a54a-1e68-46b9-927a-df01f18aebc8",
   "metadata": {
    "execution": {
     "iopub.execute_input": "2025-07-30T14:12:54.796700Z",
     "iopub.status.busy": "2025-07-30T14:12:54.795819Z",
     "iopub.status.idle": "2025-07-30T14:12:55.760854Z",
     "shell.execute_reply": "2025-07-30T14:12:55.760061Z"
    },
    "papermill": {
     "duration": 0.992157,
     "end_time": "2025-07-30T14:12:55.762732",
     "exception": false,
     "start_time": "2025-07-30T14:12:54.770575",
     "status": "completed"
    },
    "tags": []
   },
   "outputs": [],
   "source": [
    "from fairness_multiverse.conformal import evaluate_sets\n",
    "\n",
    "# Evaluate coverage and average set size on test data\n",
    "metrics = evaluate_sets(pred_sets, y_true)"
   ]
  },
  {
   "cell_type": "markdown",
   "id": "2b569c12-9aaa-4c88-98c9-bbcd0cf3ebb8",
   "metadata": {
    "papermill": {
     "duration": 0.029646,
     "end_time": "2025-07-30T14:12:55.824137",
     "exception": false,
     "start_time": "2025-07-30T14:12:55.794491",
     "status": "completed"
    },
    "tags": []
   },
   "source": [
    "# CP Metrics"
   ]
  },
  {
   "cell_type": "code",
   "execution_count": 56,
   "id": "5ce0a5cb-201f-45a0-ade5-94c7f0bd6095",
   "metadata": {
    "execution": {
     "iopub.execute_input": "2025-07-30T14:12:55.883229Z",
     "iopub.status.busy": "2025-07-30T14:12:55.882738Z",
     "iopub.status.idle": "2025-07-30T14:12:55.889752Z",
     "shell.execute_reply": "2025-07-30T14:12:55.888820Z"
    },
    "papermill": {
     "duration": 0.038229,
     "end_time": "2025-07-30T14:12:55.891525",
     "exception": false,
     "start_time": "2025-07-30T14:12:55.853296",
     "status": "completed"
    },
    "tags": []
   },
   "outputs": [
    {
     "data": {
      "text/plain": [
       "{'coverage': 0.9137665812061085, 'avg_size': 1.2558354698472858}"
      ]
     },
     "execution_count": 56,
     "metadata": {},
     "output_type": "execute_result"
    }
   ],
   "source": [
    "metrics"
   ]
  },
  {
   "cell_type": "code",
   "execution_count": 57,
   "id": "9b9a838d-31c9-430b-ae14-12baee460d17",
   "metadata": {
    "execution": {
     "iopub.execute_input": "2025-07-30T14:12:55.949200Z",
     "iopub.status.busy": "2025-07-30T14:12:55.948777Z",
     "iopub.status.idle": "2025-07-30T14:12:55.953703Z",
     "shell.execute_reply": "2025-07-30T14:12:55.952872Z"
    },
    "papermill": {
     "duration": 0.0362,
     "end_time": "2025-07-30T14:12:55.955187",
     "exception": false,
     "start_time": "2025-07-30T14:12:55.918987",
     "status": "completed"
    },
    "tags": []
   },
   "outputs": [],
   "source": [
    "example_universe = universe.copy()\n",
    "universe_training_size = example_universe.get(\"training_size\")\n",
    "universe_scale = example_universe.get(\"scale\")\n",
    "universe_model = example_universe.get(\"model\")\n",
    "universe_exclude_features = example_universe.get(\"exclude_features\")\n",
    "universe_exclude_subgroups = example_universe.get(\"exclude_subgroups\")"
   ]
  },
  {
   "cell_type": "code",
   "execution_count": 58,
   "id": "f4b6a8ac-9dc0-4245-8a91-5b3b5999c4f9",
   "metadata": {
    "execution": {
     "iopub.execute_input": "2025-07-30T14:12:55.994673Z",
     "iopub.status.busy": "2025-07-30T14:12:55.994149Z",
     "iopub.status.idle": "2025-07-30T14:12:56.002085Z",
     "shell.execute_reply": "2025-07-30T14:12:56.000629Z"
    },
    "papermill": {
     "duration": 0.0332,
     "end_time": "2025-07-30T14:12:56.003525",
     "exception": false,
     "start_time": "2025-07-30T14:12:55.970325",
     "status": "completed"
    },
    "tags": []
   },
   "outputs": [],
   "source": [
    "cp_metrics_dict = {\n",
    "    \"universe_id\": [universe_id],\n",
    "    \"universe_training_size\": [universe_training_size],\n",
    "    \"universe_scale\": [universe_scale],\n",
    "    \"universe_model\": [universe_model],\n",
    "    \"universe_exclude_features\": [universe_exclude_features],\n",
    "    \"universe_exclude_subgroups\": [universe_exclude_subgroups],\n",
    "    \"q_hat\": [q_hat],\n",
    "    \"coverage\": [metrics[\"coverage\"]],\n",
    "    \"avg_size\": [metrics[\"avg_size\"]],\n",
    "}"
   ]
  },
  {
   "cell_type": "code",
   "execution_count": 59,
   "id": "908acbb1-0371-4915-85ca-3fa520d2efe2",
   "metadata": {
    "execution": {
     "iopub.execute_input": "2025-07-30T14:12:56.061398Z",
     "iopub.status.busy": "2025-07-30T14:12:56.060914Z",
     "iopub.status.idle": "2025-07-30T14:12:56.068539Z",
     "shell.execute_reply": "2025-07-30T14:12:56.067579Z"
    },
    "papermill": {
     "duration": 0.048058,
     "end_time": "2025-07-30T14:12:56.079605",
     "exception": false,
     "start_time": "2025-07-30T14:12:56.031547",
     "status": "completed"
    },
    "tags": []
   },
   "outputs": [
    {
     "data": {
      "text/plain": [
       "{'universe_id': ['b886dbbb2617108bfb36a59d0dfe338d'],\n",
       " 'universe_training_size': ['5k'],\n",
       " 'universe_scale': ['do-not-scale'],\n",
       " 'universe_model': ['logreg'],\n",
       " 'universe_exclude_features': ['age'],\n",
       " 'universe_exclude_subgroups': ['keep-all'],\n",
       " 'q_hat': [0.6751138120294],\n",
       " 'coverage': [0.9137665812061085],\n",
       " 'avg_size': [1.2558354698472858]}"
      ]
     },
     "execution_count": 59,
     "metadata": {},
     "output_type": "execute_result"
    }
   ],
   "source": [
    "cp_metrics_dict"
   ]
  },
  {
   "cell_type": "code",
   "execution_count": 60,
   "id": "33007efc-14e9-4ec6-97ac-56a455c82265",
   "metadata": {
    "execution": {
     "iopub.execute_input": "2025-07-30T14:12:56.138882Z",
     "iopub.status.busy": "2025-07-30T14:12:56.138371Z",
     "iopub.status.idle": "2025-07-30T14:12:56.146232Z",
     "shell.execute_reply": "2025-07-30T14:12:56.145067Z"
    },
    "papermill": {
     "duration": 0.039397,
     "end_time": "2025-07-30T14:12:56.148166",
     "exception": false,
     "start_time": "2025-07-30T14:12:56.108769",
     "status": "completed"
    },
    "tags": []
   },
   "outputs": [],
   "source": [
    "cp_metrics_df = pd.DataFrame(cp_metrics_dict)"
   ]
  },
  {
   "cell_type": "code",
   "execution_count": 61,
   "id": "db12611b-57b2-4910-b9d0-355adfd6e7bf",
   "metadata": {
    "execution": {
     "iopub.execute_input": "2025-07-30T14:12:56.207924Z",
     "iopub.status.busy": "2025-07-30T14:12:56.207209Z",
     "iopub.status.idle": "2025-07-30T14:12:56.227521Z",
     "shell.execute_reply": "2025-07-30T14:12:56.226337Z"
    },
    "papermill": {
     "duration": 0.052114,
     "end_time": "2025-07-30T14:12:56.229514",
     "exception": false,
     "start_time": "2025-07-30T14:12:56.177400",
     "status": "completed"
    },
    "tags": []
   },
   "outputs": [
    {
     "data": {
      "text/html": [
       "<div>\n",
       "<style scoped>\n",
       "    .dataframe tbody tr th:only-of-type {\n",
       "        vertical-align: middle;\n",
       "    }\n",
       "\n",
       "    .dataframe tbody tr th {\n",
       "        vertical-align: top;\n",
       "    }\n",
       "\n",
       "    .dataframe thead th {\n",
       "        text-align: right;\n",
       "    }\n",
       "</style>\n",
       "<table border=\"1\" class=\"dataframe\">\n",
       "  <thead>\n",
       "    <tr style=\"text-align: right;\">\n",
       "      <th></th>\n",
       "      <th>universe_id</th>\n",
       "      <th>universe_training_size</th>\n",
       "      <th>universe_scale</th>\n",
       "      <th>universe_model</th>\n",
       "      <th>universe_exclude_features</th>\n",
       "      <th>universe_exclude_subgroups</th>\n",
       "      <th>q_hat</th>\n",
       "      <th>coverage</th>\n",
       "      <th>avg_size</th>\n",
       "    </tr>\n",
       "  </thead>\n",
       "  <tbody>\n",
       "    <tr>\n",
       "      <th>0</th>\n",
       "      <td>b886dbbb2617108bfb36a59d0dfe338d</td>\n",
       "      <td>5k</td>\n",
       "      <td>do-not-scale</td>\n",
       "      <td>logreg</td>\n",
       "      <td>age</td>\n",
       "      <td>keep-all</td>\n",
       "      <td>0.675114</td>\n",
       "      <td>0.913767</td>\n",
       "      <td>1.255835</td>\n",
       "    </tr>\n",
       "  </tbody>\n",
       "</table>\n",
       "</div>"
      ],
      "text/plain": [
       "                        universe_id universe_training_size universe_scale  \\\n",
       "0  b886dbbb2617108bfb36a59d0dfe338d                     5k   do-not-scale   \n",
       "\n",
       "  universe_model universe_exclude_features universe_exclude_subgroups  \\\n",
       "0         logreg                       age                   keep-all   \n",
       "\n",
       "      q_hat  coverage  avg_size  \n",
       "0  0.675114  0.913767  1.255835  "
      ]
     },
     "execution_count": 61,
     "metadata": {},
     "output_type": "execute_result"
    }
   ],
   "source": [
    "cp_metrics_df"
   ]
  },
  {
   "cell_type": "code",
   "execution_count": 62,
   "id": "b7fbde55-a0a1-47e4-9af6-fe4a17fa8c61",
   "metadata": {
    "execution": {
     "iopub.execute_input": "2025-07-30T14:12:56.287343Z",
     "iopub.status.busy": "2025-07-30T14:12:56.286865Z",
     "iopub.status.idle": "2025-07-30T14:12:56.292536Z",
     "shell.execute_reply": "2025-07-30T14:12:56.291393Z"
    },
    "papermill": {
     "duration": 0.036232,
     "end_time": "2025-07-30T14:12:56.294479",
     "exception": false,
     "start_time": "2025-07-30T14:12:56.258247",
     "status": "completed"
    },
    "tags": []
   },
   "outputs": [],
   "source": [
    "# Conditional Coverage & looking at subgroups"
   ]
  },
  {
   "cell_type": "code",
   "execution_count": 63,
   "id": "027ae886-68dd-4141-96c7-805a5450e1ef",
   "metadata": {
    "execution": {
     "iopub.execute_input": "2025-07-30T14:12:56.353077Z",
     "iopub.status.busy": "2025-07-30T14:12:56.352579Z",
     "iopub.status.idle": "2025-07-30T14:12:56.559104Z",
     "shell.execute_reply": "2025-07-30T14:12:56.558029Z"
    },
    "papermill": {
     "duration": 0.237435,
     "end_time": "2025-07-30T14:12:56.561263",
     "exception": false,
     "start_time": "2025-07-30T14:12:56.323828",
     "status": "completed"
    },
    "tags": []
   },
   "outputs": [],
   "source": [
    "from fairness_multiverse.conformal import build_cp_groups\n",
    "\n",
    "cp_groups_df = build_cp_groups(pred_sets, y_true, X_test.index, org_test)\n",
    "#needs universe_id and setting"
   ]
  },
  {
   "cell_type": "code",
   "execution_count": 64,
   "id": "01d5802c-663a-4d1f-9d69-e036faaffbf7",
   "metadata": {
    "execution": {
     "iopub.execute_input": "2025-07-30T14:12:56.623011Z",
     "iopub.status.busy": "2025-07-30T14:12:56.622549Z",
     "iopub.status.idle": "2025-07-30T14:12:56.627950Z",
     "shell.execute_reply": "2025-07-30T14:12:56.626873Z"
    },
    "papermill": {
     "duration": 0.038004,
     "end_time": "2025-07-30T14:12:56.629855",
     "exception": false,
     "start_time": "2025-07-30T14:12:56.591851",
     "status": "completed"
    },
    "tags": []
   },
   "outputs": [],
   "source": [
    "#delete\n",
    "#cp_groups_df"
   ]
  },
  {
   "cell_type": "code",
   "execution_count": 65,
   "id": "fa424af1-d1eb-443d-b717-2d279ada8408",
   "metadata": {
    "execution": {
     "iopub.execute_input": "2025-07-30T14:12:56.698200Z",
     "iopub.status.busy": "2025-07-30T14:12:56.697346Z",
     "iopub.status.idle": "2025-07-30T14:12:56.703157Z",
     "shell.execute_reply": "2025-07-30T14:12:56.702113Z"
    },
    "papermill": {
     "duration": 0.04234,
     "end_time": "2025-07-30T14:12:56.705181",
     "exception": false,
     "start_time": "2025-07-30T14:12:56.662841",
     "status": "completed"
    },
    "tags": []
   },
   "outputs": [],
   "source": [
    "#delete\n",
    "#percentage = (cp_groups_df['nongerman_female'] == 1).mean() * 100\n",
    "#print(percentage)\n"
   ]
  },
  {
   "cell_type": "code",
   "execution_count": 66,
   "id": "6cbdab96-b2b2-45af-ad54-d0516db2e28d",
   "metadata": {
    "execution": {
     "iopub.execute_input": "2025-07-30T14:12:56.774750Z",
     "iopub.status.busy": "2025-07-30T14:12:56.773784Z",
     "iopub.status.idle": "2025-07-30T14:12:58.566445Z",
     "shell.execute_reply": "2025-07-30T14:12:58.565518Z"
    },
    "papermill": {
     "duration": 1.829393,
     "end_time": "2025-07-30T14:12:58.568433",
     "exception": false,
     "start_time": "2025-07-30T14:12:56.739040",
     "status": "completed"
    },
    "tags": []
   },
   "outputs": [],
   "source": [
    "# Define covered = 1 if true_label is in the predicted set\n",
    "cp_groups_df['covered'] = cp_groups_df.apply(\n",
    "    lambda r: int(r['true_label'] in r['pred_set']),\n",
    "    axis=1\n",
    ")"
   ]
  },
  {
   "cell_type": "code",
   "execution_count": 67,
   "id": "338ff529-1a6b-4b87-a931-8e4788d52aad",
   "metadata": {
    "execution": {
     "iopub.execute_input": "2025-07-30T14:12:58.627504Z",
     "iopub.status.busy": "2025-07-30T14:12:58.626564Z",
     "iopub.status.idle": "2025-07-30T14:12:58.632197Z",
     "shell.execute_reply": "2025-07-30T14:12:58.631122Z"
    },
    "papermill": {
     "duration": 0.0367,
     "end_time": "2025-07-30T14:12:58.633877",
     "exception": false,
     "start_time": "2025-07-30T14:12:58.597177",
     "status": "completed"
    },
    "tags": []
   },
   "outputs": [],
   "source": [
    "#cp_groups_df"
   ]
  },
  {
   "cell_type": "code",
   "execution_count": 68,
   "id": "90032e27-66df-4540-9169-4e89cfbaa758",
   "metadata": {
    "execution": {
     "iopub.execute_input": "2025-07-30T14:12:58.690663Z",
     "iopub.status.busy": "2025-07-30T14:12:58.690165Z",
     "iopub.status.idle": "2025-07-30T14:12:58.703007Z",
     "shell.execute_reply": "2025-07-30T14:12:58.701994Z"
    },
    "papermill": {
     "duration": 0.043787,
     "end_time": "2025-07-30T14:12:58.704900",
     "exception": false,
     "start_time": "2025-07-30T14:12:58.661113",
     "status": "completed"
    },
    "tags": []
   },
   "outputs": [],
   "source": [
    "subgroups = ['frau1','nongerman','nongerman_male','nongerman_female']\n",
    "\n",
    "# Conditional coverage for subgroup==1\n",
    "cond_coverage = {\n",
    "    g: cp_groups_df.loc[cp_groups_df[g]==1, 'covered'].mean()\n",
    "    for g in subgroups\n",
    "}"
   ]
  },
  {
   "cell_type": "code",
   "execution_count": 69,
   "id": "1e348fb1-b9c3-45bc-ba23-f016827a7e0d",
   "metadata": {
    "execution": {
     "iopub.execute_input": "2025-07-30T14:12:58.760469Z",
     "iopub.status.busy": "2025-07-30T14:12:58.759585Z",
     "iopub.status.idle": "2025-07-30T14:12:58.767600Z",
     "shell.execute_reply": "2025-07-30T14:12:58.766570Z"
    },
    "papermill": {
     "duration": 0.038398,
     "end_time": "2025-07-30T14:12:58.769514",
     "exception": false,
     "start_time": "2025-07-30T14:12:58.731116",
     "status": "completed"
    },
    "tags": []
   },
   "outputs": [
    {
     "data": {
      "text/plain": [
       "{'frau1': 0.914355034371209,\n",
       " 'nongerman': 0.9656430696682199,\n",
       " 'nongerman_male': 0.9700981716653156,\n",
       " 'nongerman_female': 0.9582712369597616}"
      ]
     },
     "execution_count": 69,
     "metadata": {},
     "output_type": "execute_result"
    }
   ],
   "source": [
    "cond_coverage"
   ]
  },
  {
   "cell_type": "code",
   "execution_count": 70,
   "id": "f5093324-c3dd-4d63-bc4c-8d945e5c8bbb",
   "metadata": {
    "execution": {
     "iopub.execute_input": "2025-07-30T14:12:58.832588Z",
     "iopub.status.busy": "2025-07-30T14:12:58.831723Z",
     "iopub.status.idle": "2025-07-30T14:12:58.839136Z",
     "shell.execute_reply": "2025-07-30T14:12:58.838073Z"
    },
    "papermill": {
     "duration": 0.040962,
     "end_time": "2025-07-30T14:12:58.840890",
     "exception": false,
     "start_time": "2025-07-30T14:12:58.799928",
     "status": "completed"
    },
    "tags": []
   },
   "outputs": [],
   "source": [
    "for subgroup, cov in cond_coverage.items():\n",
    "    cp_metrics_df[f\"cov_{subgroup}\"] = cov"
   ]
  },
  {
   "cell_type": "code",
   "execution_count": 71,
   "id": "6e872e10-dbe5-49e8-b554-5030c98ff75d",
   "metadata": {
    "execution": {
     "iopub.execute_input": "2025-07-30T14:12:58.903693Z",
     "iopub.status.busy": "2025-07-30T14:12:58.903147Z",
     "iopub.status.idle": "2025-07-30T14:12:58.921074Z",
     "shell.execute_reply": "2025-07-30T14:12:58.920087Z"
    },
    "papermill": {
     "duration": 0.05126,
     "end_time": "2025-07-30T14:12:58.922721",
     "exception": false,
     "start_time": "2025-07-30T14:12:58.871461",
     "status": "completed"
    },
    "tags": []
   },
   "outputs": [
    {
     "data": {
      "text/html": [
       "<div>\n",
       "<style scoped>\n",
       "    .dataframe tbody tr th:only-of-type {\n",
       "        vertical-align: middle;\n",
       "    }\n",
       "\n",
       "    .dataframe tbody tr th {\n",
       "        vertical-align: top;\n",
       "    }\n",
       "\n",
       "    .dataframe thead th {\n",
       "        text-align: right;\n",
       "    }\n",
       "</style>\n",
       "<table border=\"1\" class=\"dataframe\">\n",
       "  <thead>\n",
       "    <tr style=\"text-align: right;\">\n",
       "      <th></th>\n",
       "      <th>universe_id</th>\n",
       "      <th>universe_training_size</th>\n",
       "      <th>universe_scale</th>\n",
       "      <th>universe_model</th>\n",
       "      <th>universe_exclude_features</th>\n",
       "      <th>universe_exclude_subgroups</th>\n",
       "      <th>q_hat</th>\n",
       "      <th>coverage</th>\n",
       "      <th>avg_size</th>\n",
       "      <th>cov_frau1</th>\n",
       "      <th>cov_nongerman</th>\n",
       "      <th>cov_nongerman_male</th>\n",
       "      <th>cov_nongerman_female</th>\n",
       "    </tr>\n",
       "  </thead>\n",
       "  <tbody>\n",
       "    <tr>\n",
       "      <th>0</th>\n",
       "      <td>b886dbbb2617108bfb36a59d0dfe338d</td>\n",
       "      <td>5k</td>\n",
       "      <td>do-not-scale</td>\n",
       "      <td>logreg</td>\n",
       "      <td>age</td>\n",
       "      <td>keep-all</td>\n",
       "      <td>0.675114</td>\n",
       "      <td>0.913767</td>\n",
       "      <td>1.255835</td>\n",
       "      <td>0.914355</td>\n",
       "      <td>0.965643</td>\n",
       "      <td>0.970098</td>\n",
       "      <td>0.958271</td>\n",
       "    </tr>\n",
       "  </tbody>\n",
       "</table>\n",
       "</div>"
      ],
      "text/plain": [
       "                        universe_id universe_training_size universe_scale  \\\n",
       "0  b886dbbb2617108bfb36a59d0dfe338d                     5k   do-not-scale   \n",
       "\n",
       "  universe_model universe_exclude_features universe_exclude_subgroups  \\\n",
       "0         logreg                       age                   keep-all   \n",
       "\n",
       "      q_hat  coverage  avg_size  cov_frau1  cov_nongerman  cov_nongerman_male  \\\n",
       "0  0.675114  0.913767  1.255835   0.914355       0.965643            0.970098   \n",
       "\n",
       "   cov_nongerman_female  \n",
       "0              0.958271  "
      ]
     },
     "execution_count": 71,
     "metadata": {},
     "output_type": "execute_result"
    }
   ],
   "source": [
    "cp_metrics_df"
   ]
  },
  {
   "cell_type": "markdown",
   "id": "33774451",
   "metadata": {
    "papermill": {
     "duration": 0.02953,
     "end_time": "2025-07-30T14:12:58.983124",
     "exception": false,
     "start_time": "2025-07-30T14:12:58.953594",
     "status": "completed"
    },
    "tags": []
   },
   "source": [
    "# (Fairness) Metrics"
   ]
  },
  {
   "cell_type": "code",
   "execution_count": 72,
   "id": "debc5d62",
   "metadata": {
    "execution": {
     "iopub.execute_input": "2025-07-30T14:12:59.045254Z",
     "iopub.status.busy": "2025-07-30T14:12:59.044565Z",
     "iopub.status.idle": "2025-07-30T14:12:59.066869Z",
     "shell.execute_reply": "2025-07-30T14:12:59.065852Z"
    },
    "papermill": {
     "duration": 0.05564,
     "end_time": "2025-07-30T14:12:59.068971",
     "exception": false,
     "start_time": "2025-07-30T14:12:59.013331",
     "status": "completed"
    },
    "tags": []
   },
   "outputs": [],
   "source": [
    "# do I need to include maxdeutsch1.missing?\n",
    "\n",
    "import numpy as np\n",
    "\n",
    "colname_to_bin = \"maxdeutsch1\"\n",
    "majority_value = org_train[colname_to_bin].mode()[0]\n",
    "\n",
    "org_test[\"majmin\"] = np.where(org_test[colname_to_bin] == majority_value, \"majority\", \"minority\")"
   ]
  },
  {
   "cell_type": "code",
   "execution_count": 73,
   "id": "06a50de5",
   "metadata": {
    "execution": {
     "iopub.execute_input": "2025-07-30T14:12:59.131255Z",
     "iopub.status.busy": "2025-07-30T14:12:59.130737Z",
     "iopub.status.idle": "2025-07-30T14:13:01.073523Z",
     "shell.execute_reply": "2025-07-30T14:13:01.072771Z"
    },
    "papermill": {
     "duration": 1.975521,
     "end_time": "2025-07-30T14:13:01.074930",
     "exception": false,
     "start_time": "2025-07-30T14:12:59.099409",
     "status": "completed"
    },
    "tags": []
   },
   "outputs": [],
   "source": [
    "example_universe = universe.copy()\n",
    "example_universe[\"cutoff\"] = example_universe[\"cutoff\"][0]\n",
    "example_universe[\"eval_fairness_grouping\"] = example_universe[\"eval_fairness_grouping\"][0]\n",
    "fairness_dict, metric_frame = universe_analysis.compute_metrics(\n",
    "    example_universe,\n",
    "    y_pred_prob=probs_test,\n",
    "    y_test=y_true,\n",
    "    org_test=org_test,\n",
    ")"
   ]
  },
  {
   "cell_type": "markdown",
   "id": "f95d4e02",
   "metadata": {
    "papermill": {
     "duration": 0.013909,
     "end_time": "2025-07-30T14:13:01.103805",
     "exception": false,
     "start_time": "2025-07-30T14:13:01.089896",
     "status": "completed"
    },
    "tags": []
   },
   "source": [
    "# Overall"
   ]
  },
  {
   "cell_type": "markdown",
   "id": "bdee4871",
   "metadata": {
    "papermill": {
     "duration": 0.014207,
     "end_time": "2025-07-30T14:13:01.131997",
     "exception": false,
     "start_time": "2025-07-30T14:13:01.117790",
     "status": "completed"
    },
    "tags": []
   },
   "source": [
    "Fairness\n",
    "Main fairness target: Equalized Odds. Seems to be a better fit than equal opportunity, since we're not only interested in Y = 1. Seems to be a better fit than demographic parity, since we also care about accuracy, not just equal distribution of preds.\n",
    "\n",
    "Pick column for computation of fairness metrics\n",
    "\n",
    "Performance\n",
    "Overall performance measures, most interesting in relation to the measures split by group below"
   ]
  },
  {
   "cell_type": "code",
   "execution_count": 74,
   "id": "c4e067c6",
   "metadata": {
    "execution": {
     "iopub.execute_input": "2025-07-30T14:13:01.161475Z",
     "iopub.status.busy": "2025-07-30T14:13:01.160976Z",
     "iopub.status.idle": "2025-07-30T14:13:01.168154Z",
     "shell.execute_reply": "2025-07-30T14:13:01.167311Z"
    },
    "papermill": {
     "duration": 0.023559,
     "end_time": "2025-07-30T14:13:01.169483",
     "exception": false,
     "start_time": "2025-07-30T14:13:01.145924",
     "status": "completed"
    },
    "tags": []
   },
   "outputs": [
    {
     "data": {
      "text/plain": [
       "accuracy                   0.216932\n",
       "balanced accuracy          0.531988\n",
       "f1                         0.238468\n",
       "precision                  0.136229\n",
       "false positive rate        0.891793\n",
       "false negative rate        0.044230\n",
       "selection rate             0.900000\n",
       "count                  89710.000000\n",
       "dtype: float64"
      ]
     },
     "execution_count": 74,
     "metadata": {},
     "output_type": "execute_result"
    }
   ],
   "source": [
    "metric_frame.overall"
   ]
  },
  {
   "cell_type": "markdown",
   "id": "e968fe9d",
   "metadata": {
    "papermill": {
     "duration": 0.014273,
     "end_time": "2025-07-30T14:13:01.199696",
     "exception": false,
     "start_time": "2025-07-30T14:13:01.185423",
     "status": "completed"
    },
    "tags": []
   },
   "source": [
    "By Group"
   ]
  },
  {
   "cell_type": "code",
   "execution_count": 75,
   "id": "ec325bce",
   "metadata": {
    "execution": {
     "iopub.execute_input": "2025-07-30T14:13:01.230530Z",
     "iopub.status.busy": "2025-07-30T14:13:01.229990Z",
     "iopub.status.idle": "2025-07-30T14:13:01.242593Z",
     "shell.execute_reply": "2025-07-30T14:13:01.241813Z"
    },
    "papermill": {
     "duration": 0.029637,
     "end_time": "2025-07-30T14:13:01.244091",
     "exception": false,
     "start_time": "2025-07-30T14:13:01.214454",
     "status": "completed"
    },
    "tags": []
   },
   "outputs": [
    {
     "data": {
      "text/html": [
       "<div>\n",
       "<style scoped>\n",
       "    .dataframe tbody tr th:only-of-type {\n",
       "        vertical-align: middle;\n",
       "    }\n",
       "\n",
       "    .dataframe tbody tr th {\n",
       "        vertical-align: top;\n",
       "    }\n",
       "\n",
       "    .dataframe thead th {\n",
       "        text-align: right;\n",
       "    }\n",
       "</style>\n",
       "<table border=\"1\" class=\"dataframe\">\n",
       "  <thead>\n",
       "    <tr style=\"text-align: right;\">\n",
       "      <th></th>\n",
       "      <th>accuracy</th>\n",
       "      <th>balanced accuracy</th>\n",
       "      <th>f1</th>\n",
       "      <th>precision</th>\n",
       "      <th>false positive rate</th>\n",
       "      <th>false negative rate</th>\n",
       "      <th>selection rate</th>\n",
       "      <th>count</th>\n",
       "    </tr>\n",
       "    <tr>\n",
       "      <th>majmin</th>\n",
       "      <th></th>\n",
       "      <th></th>\n",
       "      <th></th>\n",
       "      <th></th>\n",
       "      <th></th>\n",
       "      <th></th>\n",
       "      <th></th>\n",
       "      <th></th>\n",
       "    </tr>\n",
       "  </thead>\n",
       "  <tbody>\n",
       "    <tr>\n",
       "      <th>majority</th>\n",
       "      <td>0.239425</td>\n",
       "      <td>0.539643</td>\n",
       "      <td>0.247723</td>\n",
       "      <td>0.142484</td>\n",
       "      <td>0.868416</td>\n",
       "      <td>0.052298</td>\n",
       "      <td>0.878893</td>\n",
       "      <td>69170.0</td>\n",
       "    </tr>\n",
       "    <tr>\n",
       "      <th>minority</th>\n",
       "      <td>0.141188</td>\n",
       "      <td>0.508945</td>\n",
       "      <td>0.209465</td>\n",
       "      <td>0.117166</td>\n",
       "      <td>0.969018</td>\n",
       "      <td>0.013091</td>\n",
       "      <td>0.971081</td>\n",
       "      <td>20540.0</td>\n",
       "    </tr>\n",
       "  </tbody>\n",
       "</table>\n",
       "</div>"
      ],
      "text/plain": [
       "          accuracy  balanced accuracy        f1  precision  \\\n",
       "majmin                                                       \n",
       "majority  0.239425           0.539643  0.247723   0.142484   \n",
       "minority  0.141188           0.508945  0.209465   0.117166   \n",
       "\n",
       "          false positive rate  false negative rate  selection rate    count  \n",
       "majmin                                                                       \n",
       "majority             0.868416             0.052298        0.878893  69170.0  \n",
       "minority             0.969018             0.013091        0.971081  20540.0  "
      ]
     },
     "execution_count": 75,
     "metadata": {},
     "output_type": "execute_result"
    }
   ],
   "source": [
    "metric_frame.by_group"
   ]
  },
  {
   "cell_type": "code",
   "execution_count": 76,
   "id": "a9ddbe63",
   "metadata": {
    "execution": {
     "iopub.execute_input": "2025-07-30T14:13:01.276090Z",
     "iopub.status.busy": "2025-07-30T14:13:01.275556Z",
     "iopub.status.idle": "2025-07-30T14:13:03.769571Z",
     "shell.execute_reply": "2025-07-30T14:13:03.768711Z"
    },
    "papermill": {
     "duration": 2.51122,
     "end_time": "2025-07-30T14:13:03.771130",
     "exception": false,
     "start_time": "2025-07-30T14:13:01.259910",
     "status": "completed"
    },
    "tags": []
   },
   "outputs": [
    {
     "data": {
      "text/plain": [
       "array([[<Axes: title={'center': 'accuracy'}, xlabel='majmin'>,\n",
       "        <Axes: title={'center': 'balanced accuracy'}, xlabel='majmin'>,\n",
       "        <Axes: title={'center': 'f1'}, xlabel='majmin'>],\n",
       "       [<Axes: title={'center': 'precision'}, xlabel='majmin'>,\n",
       "        <Axes: title={'center': 'false positive rate'}, xlabel='majmin'>,\n",
       "        <Axes: title={'center': 'false negative rate'}, xlabel='majmin'>],\n",
       "       [<Axes: title={'center': 'selection rate'}, xlabel='majmin'>,\n",
       "        <Axes: title={'center': 'count'}, xlabel='majmin'>,\n",
       "        <Axes: xlabel='majmin'>]], dtype=object)"
      ]
     },
     "execution_count": 76,
     "metadata": {},
     "output_type": "execute_result"
    },
    {
     "data": {
      "image/png": "[encoded data removed]",
      "text/plain": [
       "<Figure size 1200x800 with 9 Axes>"
      ]
     },
     "metadata": {},
     "output_type": "display_data"
    }
   ],
   "source": [
    "# In a graphic\n",
    "metric_frame.by_group.plot.bar(\n",
    "    subplots=True,\n",
    "    layout=[3, 3],\n",
    "    legend=False,\n",
    "    figsize=[12, 8],\n",
    "    title=\"Show all metrics\",\n",
    ")"
   ]
  },
  {
   "cell_type": "markdown",
   "id": "f57a0bac",
   "metadata": {
    "papermill": {
     "duration": 0.031994,
     "end_time": "2025-07-30T14:13:03.835851",
     "exception": false,
     "start_time": "2025-07-30T14:13:03.803857",
     "status": "completed"
    },
    "tags": []
   },
   "source": [
    "# Final Output"
   ]
  },
  {
   "cell_type": "code",
   "execution_count": 77,
   "id": "96d280a3",
   "metadata": {
    "execution": {
     "iopub.execute_input": "2025-07-30T14:13:03.898473Z",
     "iopub.status.busy": "2025-07-30T14:13:03.897829Z",
     "iopub.status.idle": "2025-07-30T14:13:03.906418Z",
     "shell.execute_reply": "2025-07-30T14:13:03.905468Z"
    },
    "papermill": {
     "duration": 0.042374,
     "end_time": "2025-07-30T14:13:03.907908",
     "exception": false,
     "start_time": "2025-07-30T14:13:03.865534",
     "status": "completed"
    },
    "tags": []
   },
   "outputs": [
    {
     "data": {
      "text/plain": [
       "4"
      ]
     },
     "execution_count": 77,
     "metadata": {},
     "output_type": "execute_result"
    }
   ],
   "source": [
    "sub_universes = universe_analysis.generate_sub_universes()\n",
    "len(sub_universes)"
   ]
  },
  {
   "cell_type": "code",
   "execution_count": 78,
   "id": "92adf7ba",
   "metadata": {
    "execution": {
     "iopub.execute_input": "2025-07-30T14:13:03.970875Z",
     "iopub.status.busy": "2025-07-30T14:13:03.970014Z",
     "iopub.status.idle": "2025-07-30T14:13:03.977051Z",
     "shell.execute_reply": "2025-07-30T14:13:03.975787Z"
    },
    "papermill": {
     "duration": 0.047705,
     "end_time": "2025-07-30T14:13:03.985250",
     "exception": false,
     "start_time": "2025-07-30T14:13:03.937545",
     "status": "completed"
    },
    "tags": []
   },
   "outputs": [],
   "source": [
    "def filter_sub_universe_data(sub_universe, org_test):\n",
    "    # Keep all rows — no filtering\n",
    "    keep_rows_mask = np.ones(org_test.shape[0], dtype=bool)\n",
    "\n",
    "    print(f\"[INFO] Keeping all rows: {keep_rows_mask.sum()} rows retained.\")\n",
    "    return keep_rows_mask"
   ]
  },
  {
   "cell_type": "code",
   "execution_count": 79,
   "id": "4a759155",
   "metadata": {
    "execution": {
     "iopub.execute_input": "2025-07-30T14:13:04.049257Z",
     "iopub.status.busy": "2025-07-30T14:13:04.048649Z",
     "iopub.status.idle": "2025-07-30T14:13:14.365630Z",
     "shell.execute_reply": "2025-07-30T14:13:14.364489Z"
    },
    "papermill": {
     "duration": 10.35034,
     "end_time": "2025-07-30T14:13:14.367198",
     "exception": false,
     "start_time": "2025-07-30T14:13:04.016858",
     "status": "completed"
    },
    "tags": []
   },
   "outputs": [
    {
     "name": "stdout",
     "output_type": "stream",
     "text": [
      "Stopping execution_time clock.\n",
      "[INFO] Keeping all rows: 89710 rows retained.\n"
     ]
    },
    {
     "name": "stdout",
     "output_type": "stream",
     "text": [
      "[INFO] Keeping all rows: 89710 rows retained.\n"
     ]
    },
    {
     "name": "stdout",
     "output_type": "stream",
     "text": [
      "[INFO] Keeping all rows: 89710 rows retained.\n"
     ]
    },
    {
     "name": "stdout",
     "output_type": "stream",
     "text": [
      "[INFO] Keeping all rows: 89710 rows retained.\n"
     ]
    },
    {
     "data": {
      "text/html": [
       "<div>\n",
       "<style scoped>\n",
       "    .dataframe tbody tr th:only-of-type {\n",
       "        vertical-align: middle;\n",
       "    }\n",
       "\n",
       "    .dataframe tbody tr th {\n",
       "        vertical-align: top;\n",
       "    }\n",
       "\n",
       "    .dataframe thead th {\n",
       "        text-align: right;\n",
       "    }\n",
       "</style>\n",
       "<table border=\"1\" class=\"dataframe\">\n",
       "  <thead>\n",
       "    <tr style=\"text-align: right;\">\n",
       "      <th></th>\n",
       "      <th>run_no</th>\n",
       "      <th>universe_id</th>\n",
       "      <th>universe_settings</th>\n",
       "      <th>execution_time</th>\n",
       "      <th>test_size_n</th>\n",
       "      <th>test_size_frac</th>\n",
       "      <th>fair_main_equalized_odds_difference</th>\n",
       "      <th>fair_main_equalized_odds_ratio</th>\n",
       "      <th>fair_main_demographic_parity_difference</th>\n",
       "      <th>fair_main_demographic_parity_ratio</th>\n",
       "      <th>...</th>\n",
       "      <th>perf_grp_precision_0</th>\n",
       "      <th>perf_grp_precision_1</th>\n",
       "      <th>perf_grp_false positive rate_0</th>\n",
       "      <th>perf_grp_false positive rate_1</th>\n",
       "      <th>perf_grp_false negative rate_0</th>\n",
       "      <th>perf_grp_false negative rate_1</th>\n",
       "      <th>perf_grp_selection rate_0</th>\n",
       "      <th>perf_grp_selection rate_1</th>\n",
       "      <th>perf_grp_count_0</th>\n",
       "      <th>perf_grp_count_1</th>\n",
       "    </tr>\n",
       "  </thead>\n",
       "  <tbody>\n",
       "    <tr>\n",
       "      <th>0</th>\n",
       "      <td>12</td>\n",
       "      <td>b886dbbb2617108bfb36a59d0dfe338d</td>\n",
       "      <td>{\"cutoff\": \"quantile_0.1\", \"eval_fairness_grou...</td>\n",
       "      <td>27.602628</td>\n",
       "      <td>89710</td>\n",
       "      <td>1.0</td>\n",
       "      <td>0.100602</td>\n",
       "      <td>0.896181</td>\n",
       "      <td>0.092188</td>\n",
       "      <td>0.905066</td>\n",
       "      <td>...</td>\n",
       "      <td>NaN</td>\n",
       "      <td>NaN</td>\n",
       "      <td>NaN</td>\n",
       "      <td>NaN</td>\n",
       "      <td>NaN</td>\n",
       "      <td>NaN</td>\n",
       "      <td>NaN</td>\n",
       "      <td>NaN</td>\n",
       "      <td>NaN</td>\n",
       "      <td>NaN</td>\n",
       "    </tr>\n",
       "    <tr>\n",
       "      <th>0</th>\n",
       "      <td>12</td>\n",
       "      <td>b886dbbb2617108bfb36a59d0dfe338d</td>\n",
       "      <td>{\"cutoff\": \"quantile_0.1\", \"eval_fairness_grou...</td>\n",
       "      <td>27.602628</td>\n",
       "      <td>89710</td>\n",
       "      <td>1.0</td>\n",
       "      <td>0.100602</td>\n",
       "      <td>0.896181</td>\n",
       "      <td>0.092188</td>\n",
       "      <td>0.905066</td>\n",
       "      <td>...</td>\n",
       "      <td>0.117166</td>\n",
       "      <td>0.142484</td>\n",
       "      <td>0.969018</td>\n",
       "      <td>0.868416</td>\n",
       "      <td>0.013091</td>\n",
       "      <td>0.052298</td>\n",
       "      <td>0.971081</td>\n",
       "      <td>0.878893</td>\n",
       "      <td>20540.0</td>\n",
       "      <td>69170.0</td>\n",
       "    </tr>\n",
       "    <tr>\n",
       "      <th>0</th>\n",
       "      <td>12</td>\n",
       "      <td>b886dbbb2617108bfb36a59d0dfe338d</td>\n",
       "      <td>{\"cutoff\": \"quantile_0.25\", \"eval_fairness_gro...</td>\n",
       "      <td>27.602628</td>\n",
       "      <td>89710</td>\n",
       "      <td>1.0</td>\n",
       "      <td>0.237421</td>\n",
       "      <td>0.740424</td>\n",
       "      <td>0.218796</td>\n",
       "      <td>0.761840</td>\n",
       "      <td>...</td>\n",
       "      <td>NaN</td>\n",
       "      <td>NaN</td>\n",
       "      <td>NaN</td>\n",
       "      <td>NaN</td>\n",
       "      <td>NaN</td>\n",
       "      <td>NaN</td>\n",
       "      <td>NaN</td>\n",
       "      <td>NaN</td>\n",
       "      <td>NaN</td>\n",
       "      <td>NaN</td>\n",
       "    </tr>\n",
       "    <tr>\n",
       "      <th>0</th>\n",
       "      <td>12</td>\n",
       "      <td>b886dbbb2617108bfb36a59d0dfe338d</td>\n",
       "      <td>{\"cutoff\": \"quantile_0.25\", \"eval_fairness_gro...</td>\n",
       "      <td>27.602628</td>\n",
       "      <td>89710</td>\n",
       "      <td>1.0</td>\n",
       "      <td>0.237421</td>\n",
       "      <td>0.740424</td>\n",
       "      <td>0.218796</td>\n",
       "      <td>0.761840</td>\n",
       "      <td>...</td>\n",
       "      <td>0.119184</td>\n",
       "      <td>0.160250</td>\n",
       "      <td>0.914649</td>\n",
       "      <td>0.677228</td>\n",
       "      <td>0.050253</td>\n",
       "      <td>0.151204</td>\n",
       "      <td>0.918695</td>\n",
       "      <td>0.699899</td>\n",
       "      <td>20540.0</td>\n",
       "      <td>69170.0</td>\n",
       "    </tr>\n",
       "  </tbody>\n",
       "</table>\n",
       "<p>4 rows × 50 columns</p>\n",
       "</div>"
      ],
      "text/plain": [
       "  run_no                       universe_id  \\\n",
       "0     12  b886dbbb2617108bfb36a59d0dfe338d   \n",
       "0     12  b886dbbb2617108bfb36a59d0dfe338d   \n",
       "0     12  b886dbbb2617108bfb36a59d0dfe338d   \n",
       "0     12  b886dbbb2617108bfb36a59d0dfe338d   \n",
       "\n",
       "                                   universe_settings  execution_time  \\\n",
       "0  {\"cutoff\": \"quantile_0.1\", \"eval_fairness_grou...       27.602628   \n",
       "0  {\"cutoff\": \"quantile_0.1\", \"eval_fairness_grou...       27.602628   \n",
       "0  {\"cutoff\": \"quantile_0.25\", \"eval_fairness_gro...       27.602628   \n",
       "0  {\"cutoff\": \"quantile_0.25\", \"eval_fairness_gro...       27.602628   \n",
       "\n",
       "   test_size_n  test_size_frac  fair_main_equalized_odds_difference  \\\n",
       "0        89710             1.0                             0.100602   \n",
       "0        89710             1.0                             0.100602   \n",
       "0        89710             1.0                             0.237421   \n",
       "0        89710             1.0                             0.237421   \n",
       "\n",
       "   fair_main_equalized_odds_ratio  fair_main_demographic_parity_difference  \\\n",
       "0                        0.896181                                 0.092188   \n",
       "0                        0.896181                                 0.092188   \n",
       "0                        0.740424                                 0.218796   \n",
       "0                        0.740424                                 0.218796   \n",
       "\n",
       "   fair_main_demographic_parity_ratio  ...  perf_grp_precision_0  \\\n",
       "0                            0.905066  ...                   NaN   \n",
       "0                            0.905066  ...              0.117166   \n",
       "0                            0.761840  ...                   NaN   \n",
       "0                            0.761840  ...              0.119184   \n",
       "\n",
       "   perf_grp_precision_1  perf_grp_false positive rate_0  \\\n",
       "0                   NaN                             NaN   \n",
       "0              0.142484                        0.969018   \n",
       "0                   NaN                             NaN   \n",
       "0              0.160250                        0.914649   \n",
       "\n",
       "   perf_grp_false positive rate_1  perf_grp_false negative rate_0  \\\n",
       "0                             NaN                             NaN   \n",
       "0                        0.868416                        0.013091   \n",
       "0                             NaN                             NaN   \n",
       "0                        0.677228                        0.050253   \n",
       "\n",
       "   perf_grp_false negative rate_1  perf_grp_selection rate_0  \\\n",
       "0                             NaN                        NaN   \n",
       "0                        0.052298                   0.971081   \n",
       "0                             NaN                        NaN   \n",
       "0                        0.151204                   0.918695   \n",
       "\n",
       "   perf_grp_selection rate_1  perf_grp_count_0  perf_grp_count_1  \n",
       "0                        NaN               NaN               NaN  \n",
       "0                   0.878893           20540.0           69170.0  \n",
       "0                        NaN               NaN               NaN  \n",
       "0                   0.699899           20540.0           69170.0  \n",
       "\n",
       "[4 rows x 50 columns]"
      ]
     },
     "execution_count": 79,
     "metadata": {},
     "output_type": "execute_result"
    }
   ],
   "source": [
    "final_output = universe_analysis.generate_final_output(\n",
    "    y_pred_prob=probs_test,\n",
    "    y_test=y_true,\n",
    "    org_test=org_test,\n",
    "    filter_data=filter_sub_universe_data,\n",
    "    cp_metrics_df=cp_metrics_df,\n",
    "    save=True,\n",
    ")\n",
    "final_output"
   ]
  },
  {
   "cell_type": "code",
   "execution_count": null,
   "id": "721ff514-cb11-46f8-b6fc-50392f74b5cb",
   "metadata": {
    "papermill": {
     "duration": 0.030274,
     "end_time": "2025-07-30T14:13:14.432909",
     "exception": false,
     "start_time": "2025-07-30T14:13:14.402635",
     "status": "completed"
    },
    "tags": []
   },
   "outputs": [],
   "source": []
  }
 ],
 "metadata": {
  "celltoolbar": "Tags",
  "kernelspec": {
   "display_name": "Python (CMA Fairness)",
   "language": "python",
   "name": "cma_fair_env"
  },
  "language_info": {
   "codemirror_mode": {
    "name": "ipython",
    "version": 3
   },
   "file_extension": ".py",
   "mimetype": "text/x-python",
   "name": "python",
   "nbconvert_exporter": "python",
   "pygments_lexer": "ipython3",
   "version": "3.10.12"
  },
  "papermill": {
   "default_parameters": {},
   "duration": 41.839746,
   "end_time": "2025-07-30T14:13:15.186177",
   "environment_variables": {},
   "exception": null,
   "input_path": "universe_analysis.ipynb",
   "output_path": "output/runs/12/notebooks/m_12-b886dbbb2617108bfb36a59d0dfe338d.ipynb",
   "parameters": {
    "output_dir": "output",
    "run_no": "12",
    "seed": "2023",
    "universe": "{\"cutoff\": [\"quantile_0.1\", \"quantile_0.25\"], \"eval_fairness_grouping\": [\"majority-minority\", \"nationality-all\"], \"exclude_features\": \"age\", \"exclude_subgroups\": \"keep-all\", \"model\": \"logreg\", \"scale\": \"do-not-scale\", \"training_size\": \"5k\", \"training_year\": \"2010_14\"}",
    "universe_id": "b886dbbb2617108bfb36a59d0dfe338d"
   },
   "start_time": "2025-07-30T14:12:33.346431",
   "version": "2.6.0"
  }
 },
 "nbformat": 4,
 "nbformat_minor": 5
}