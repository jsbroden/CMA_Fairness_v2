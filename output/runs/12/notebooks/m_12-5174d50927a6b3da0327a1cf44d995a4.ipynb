{
 "cells": [
  {
   "cell_type": "code",
   "execution_count": 1,
   "id": "f159f837-637b-42ba-96b5-ec9a68c44524",
   "metadata": {
    "execution": {
     "iopub.execute_input": "2025-07-30T13:06:11.116202Z",
     "iopub.status.busy": "2025-07-30T13:06:11.115712Z",
     "iopub.status.idle": "2025-07-30T13:06:11.128378Z",
     "shell.execute_reply": "2025-07-30T13:06:11.127449Z"
    },
    "papermill": {
     "duration": 0.040619,
     "end_time": "2025-07-30T13:06:11.135834",
     "exception": false,
     "start_time": "2025-07-30T13:06:11.095215",
     "status": "completed"
    },
    "tags": []
   },
   "outputs": [
    {
     "name": "stdout",
     "output_type": "stream",
     "text": [
      "/dss/dsshome1/0C/ra93lal2/cma/CMA_Fairness_v2\n"
     ]
    },
    {
     "name": "stderr",
     "output_type": "stream",
     "text": [
      "/dss/dsshome1/0C/ra93lal2/.local/share/virtualenvs/CMA_Fairness_v2-3j10GkSs/lib/python3.10/site-packages/IPython/core/magics/osm.py:393: UserWarning: This is now an optional IPython functionality, using bookmarks requires you to install the `pickleshare` library.\n",
      "  bkms = self.shell.db.get('bookmarks', {})\n",
      "/dss/dsshome1/0C/ra93lal2/.local/share/virtualenvs/CMA_Fairness_v2-3j10GkSs/lib/python3.10/site-packages/IPython/core/magics/osm.py:417: UserWarning: This is now an optional IPython functionality, setting dhist requires you to install the `pickleshare` library.\n",
      "  self.shell.db['dhist'] = compress_dhist(dhist)[-100:]\n"
     ]
    }
   ],
   "source": [
    "%cd ~/cma/CMA_Fairness_v2"
   ]
  },
  {
   "cell_type": "markdown",
   "id": "de2603b9",
   "metadata": {
    "papermill": {
     "duration": 0.018155,
     "end_time": "2025-07-30T13:06:11.182421",
     "exception": false,
     "start_time": "2025-07-30T13:06:11.164266",
     "status": "completed"
    },
    "tags": []
   },
   "source": [
    "The following cell holds the definition of our parameters, these values can be overriden by rendering the with e.g. the following command:\n",
    "\n",
    "papermill -p alpha 0.2 -p ratio 0.3 universe_analysis.ipynb output/test_run.ipynb"
   ]
  },
  {
   "cell_type": "code",
   "execution_count": 2,
   "id": "a80968a0-40bb-4fa9-85ef-2d5eefb01975",
   "metadata": {
    "execution": {
     "iopub.execute_input": "2025-07-30T13:06:11.221081Z",
     "iopub.status.busy": "2025-07-30T13:06:11.220449Z",
     "iopub.status.idle": "2025-07-30T13:06:11.226186Z",
     "shell.execute_reply": "2025-07-30T13:06:11.225263Z"
    },
    "papermill": {
     "duration": 0.026995,
     "end_time": "2025-07-30T13:06:11.227890",
     "exception": false,
     "start_time": "2025-07-30T13:06:11.200895",
     "status": "completed"
    },
    "tags": []
   },
   "outputs": [
    {
     "name": "stdout",
     "output_type": "stream",
     "text": [
      "Current working directory: /dss/dsshome1/0C/ra93lal2/cma/CMA_Fairness_v2\n"
     ]
    }
   ],
   "source": [
    "import os\n",
    "print(\"Current working directory:\", os.getcwd())"
   ]
  },
  {
   "cell_type": "code",
   "execution_count": 3,
   "id": "2dce4c03",
   "metadata": {
    "execution": {
     "iopub.execute_input": "2025-07-30T13:06:11.269232Z",
     "iopub.status.busy": "2025-07-30T13:06:11.268601Z",
     "iopub.status.idle": "2025-07-30T13:06:11.275004Z",
     "shell.execute_reply": "2025-07-30T13:06:11.274175Z"
    },
    "papermill": {
     "duration": 0.027534,
     "end_time": "2025-07-30T13:06:11.276406",
     "exception": false,
     "start_time": "2025-07-30T13:06:11.248872",
     "status": "completed"
    },
    "tags": [
     "parameters"
    ]
   },
   "outputs": [],
   "source": [
    "run_no = 0\n",
    "universe_id = \"test\"\n",
    "universe = {\n",
    "    \"training_size\": \"25k\", # \"25k\", \"5k\", \"1k\"\n",
    "    \"training_year\": \"2014\", # \"2014\", \"2012_14\", \"2010_14\"\n",
    "    \"scale\": \"scale\", # \"scale\", \"do-not-scale\",\n",
    "    #\"stratify_split\": \"target\", # \"none\", \"target\", \"protected-attribute\", \"both\",\n",
    "    \"model\": \"elasticnet\", # \"logreg\", \"penalized_logreg\", \"rf\", \"gbm\", \"elasticnet\"\n",
    "    \"cutoff\": [\"quantile_0.15\", \"quantile_0.30\"],\n",
    "    \"exclude_features\": \"age\", # \"none\", \"nationality\", \"sex\", \"nationality-sex\", \"age\"\n",
    "    \"exclude_subgroups\": \"keep-all\", # \"keep-all\", \"drop-non-german\"\n",
    "    \"eval_fairness_grouping\": [\"majority-minority\", \"nationality-all\"]\n",
    "}\n",
    "\n",
    "output_dir=\"./output\"\n",
    "seed=0"
   ]
  },
  {
   "cell_type": "code",
   "execution_count": 4,
   "id": "036c4c1d",
   "metadata": {
    "execution": {
     "iopub.execute_input": "2025-07-30T13:06:11.316290Z",
     "iopub.status.busy": "2025-07-30T13:06:11.315610Z",
     "iopub.status.idle": "2025-07-30T13:06:11.321027Z",
     "shell.execute_reply": "2025-07-30T13:06:11.319936Z"
    },
    "papermill": {
     "duration": 0.026851,
     "end_time": "2025-07-30T13:06:11.322728",
     "exception": false,
     "start_time": "2025-07-30T13:06:11.295877",
     "status": "completed"
    },
    "tags": [
     "injected-parameters"
    ]
   },
   "outputs": [],
   "source": [
    "# Parameters\n",
    "universe_id = \"5174d50927a6b3da0327a1cf44d995a4\"\n",
    "run_no = \"12\"\n",
    "universe = \"{\\\"cutoff\\\": [\\\"quantile_0.1\\\", \\\"quantile_0.25\\\"], \\\"eval_fairness_grouping\\\": [\\\"majority-minority\\\", \\\"nationality-all\\\"], \\\"exclude_features\\\": \\\"nationality-sex\\\", \\\"exclude_subgroups\\\": \\\"keep-all\\\", \\\"model\\\": \\\"penalized_logreg\\\", \\\"scale\\\": \\\"scale\\\", \\\"training_size\\\": \\\"25k\\\", \\\"training_year\\\": \\\"2012_14\\\"}\"\n",
    "output_dir = \"output\"\n",
    "seed = \"2023\"\n"
   ]
  },
  {
   "cell_type": "code",
   "execution_count": 5,
   "id": "1650acaf",
   "metadata": {
    "execution": {
     "iopub.execute_input": "2025-07-30T13:06:11.362866Z",
     "iopub.status.busy": "2025-07-30T13:06:11.362222Z",
     "iopub.status.idle": "2025-07-30T13:06:11.367620Z",
     "shell.execute_reply": "2025-07-30T13:06:11.366559Z"
    },
    "papermill": {
     "duration": 0.02692,
     "end_time": "2025-07-30T13:06:11.369167",
     "exception": false,
     "start_time": "2025-07-30T13:06:11.342247",
     "status": "completed"
    },
    "tags": []
   },
   "outputs": [],
   "source": [
    "import json\n",
    "# Parse universe into dict if it is passed as a string\n",
    "if isinstance(universe, str):\n",
    "    universe = json.loads(universe)"
   ]
  },
  {
   "cell_type": "code",
   "execution_count": 6,
   "id": "16620c48",
   "metadata": {
    "execution": {
     "iopub.execute_input": "2025-07-30T13:06:11.409724Z",
     "iopub.status.busy": "2025-07-30T13:06:11.408934Z",
     "iopub.status.idle": "2025-07-30T13:06:11.452371Z",
     "shell.execute_reply": "2025-07-30T13:06:11.451515Z"
    },
    "papermill": {
     "duration": 0.06571,
     "end_time": "2025-07-30T13:06:11.454248",
     "exception": false,
     "start_time": "2025-07-30T13:06:11.388538",
     "status": "completed"
    },
    "tags": []
   },
   "outputs": [],
   "source": [
    "# Auto-reload the custom package\n",
    "%load_ext autoreload\n",
    "%autoreload 1\n",
    "%aimport fairness_multiverse"
   ]
  },
  {
   "cell_type": "code",
   "execution_count": 7,
   "id": "01c5c9f3",
   "metadata": {
    "execution": {
     "iopub.execute_input": "2025-07-30T13:06:11.493497Z",
     "iopub.status.busy": "2025-07-30T13:06:11.492860Z",
     "iopub.status.idle": "2025-07-30T13:06:13.399433Z",
     "shell.execute_reply": "2025-07-30T13:06:13.398383Z"
    },
    "papermill": {
     "duration": 1.928327,
     "end_time": "2025-07-30T13:06:13.401553",
     "exception": false,
     "start_time": "2025-07-30T13:06:11.473226",
     "status": "completed"
    },
    "tags": []
   },
   "outputs": [],
   "source": [
    "from fairness_multiverse.universe import UniverseAnalysis\n",
    "\n",
    "universe_analysis = UniverseAnalysis(\n",
    "    run_no = run_no,\n",
    "    universe_id = universe_id,\n",
    "    universe = universe,\n",
    "    output_dir=output_dir,\n",
    ")"
   ]
  },
  {
   "cell_type": "code",
   "execution_count": 8,
   "id": "106241f5",
   "metadata": {
    "execution": {
     "iopub.execute_input": "2025-07-30T13:06:13.448799Z",
     "iopub.status.busy": "2025-07-30T13:06:13.448362Z",
     "iopub.status.idle": "2025-07-30T13:06:13.454173Z",
     "shell.execute_reply": "2025-07-30T13:06:13.453194Z"
    },
    "papermill": {
     "duration": 0.029911,
     "end_time": "2025-07-30T13:06:13.455651",
     "exception": false,
     "start_time": "2025-07-30T13:06:13.425740",
     "status": "completed"
    },
    "tags": []
   },
   "outputs": [
    {
     "name": "stdout",
     "output_type": "stream",
     "text": [
      "Using Seed: 2023\n"
     ]
    }
   ],
   "source": [
    "import numpy as np\n",
    "parsed_seed = int(seed)\n",
    "np.random.seed(parsed_seed)\n",
    "print(f\"Using Seed: {parsed_seed}\")"
   ]
  },
  {
   "cell_type": "markdown",
   "id": "e0ebdc57",
   "metadata": {
    "papermill": {
     "duration": 0.010349,
     "end_time": "2025-07-30T13:06:13.477878",
     "exception": false,
     "start_time": "2025-07-30T13:06:13.467529",
     "status": "completed"
    },
    "tags": []
   },
   "source": [
    "# Loading Data"
   ]
  },
  {
   "cell_type": "markdown",
   "id": "681925a3",
   "metadata": {
    "papermill": {
     "duration": 0.01009,
     "end_time": "2025-07-30T13:06:13.498469",
     "exception": false,
     "start_time": "2025-07-30T13:06:13.488379",
     "status": "completed"
    },
    "tags": []
   },
   "source": [
    "Load siab_train, siab_test, siab_calib and/or \n",
    "load siab_train_features, siab_train_labels"
   ]
  },
  {
   "cell_type": "code",
   "execution_count": 9,
   "id": "f0496b8a",
   "metadata": {
    "execution": {
     "iopub.execute_input": "2025-07-30T13:06:13.521352Z",
     "iopub.status.busy": "2025-07-30T13:06:13.520856Z",
     "iopub.status.idle": "2025-07-30T13:06:24.433915Z",
     "shell.execute_reply": "2025-07-30T13:06:24.433059Z"
    },
    "papermill": {
     "duration": 10.926764,
     "end_time": "2025-07-30T13:06:24.435540",
     "exception": false,
     "start_time": "2025-07-30T13:06:13.508776",
     "status": "completed"
    },
    "tags": []
   },
   "outputs": [
    {
     "name": "stdout",
     "output_type": "stream",
     "text": [
      "Loading SIAB data from cache: data/siab_cached.csv.gz\n"
     ]
    },
    {
     "name": "stdout",
     "output_type": "stream",
     "text": [
      "(643690, 164)\n"
     ]
    }
   ],
   "source": [
    "from pathlib import Path\n",
    "import pandas as pd\n",
    "\n",
    "# File paths\n",
    "raw_file = Path(\"data/raw/siab.csv\")\n",
    "cache_file = Path(\"data/siab_cached.csv.gz\")\n",
    "\n",
    "# Ensure cache directory exists\n",
    "cache_file.parent.mkdir(parents=True, exist_ok=True)\n",
    "\n",
    "# Load with simple caching\n",
    "if cache_file.exists():\n",
    "    print(f\"Loading SIAB data from cache: {cache_file}\")\n",
    "    siab = pd.read_csv(cache_file, compression='gzip')\n",
    "else:\n",
    "    print(f\"Cache not found. Reading raw SIAB data: {raw_file}\")\n",
    "    siab = pd.read_csv(raw_file)\n",
    "    siab.to_csv(cache_file, index=False, compression='gzip')\n",
    "    print(f\"Cached SIAB data to: {cache_file}\")\n",
    "\n",
    "# Now use `siab` DataFrame as needed\n",
    "print(siab.shape)"
   ]
  },
  {
   "cell_type": "code",
   "execution_count": 10,
   "id": "db0ca512-5f53-4dba-abdb-a2888bca41ba",
   "metadata": {
    "execution": {
     "iopub.execute_input": "2025-07-30T13:06:24.484537Z",
     "iopub.status.busy": "2025-07-30T13:06:24.483930Z",
     "iopub.status.idle": "2025-07-30T13:06:24.489884Z",
     "shell.execute_reply": "2025-07-30T13:06:24.488942Z"
    },
    "papermill": {
     "duration": 0.028305,
     "end_time": "2025-07-30T13:06:24.491797",
     "exception": false,
     "start_time": "2025-07-30T13:06:24.463492",
     "status": "completed"
    },
    "tags": []
   },
   "outputs": [],
   "source": [
    "#siab"
   ]
  },
  {
   "cell_type": "code",
   "execution_count": 11,
   "id": "a0edb063",
   "metadata": {
    "execution": {
     "iopub.execute_input": "2025-07-30T13:06:24.532769Z",
     "iopub.status.busy": "2025-07-30T13:06:24.532240Z",
     "iopub.status.idle": "2025-07-30T13:06:24.537326Z",
     "shell.execute_reply": "2025-07-30T13:06:24.536289Z"
    },
    "papermill": {
     "duration": 0.026863,
     "end_time": "2025-07-30T13:06:24.538999",
     "exception": false,
     "start_time": "2025-07-30T13:06:24.512136",
     "status": "completed"
    },
    "tags": []
   },
   "outputs": [],
   "source": [
    "#import pandas as pd\n",
    "#\n",
    "#X_train = pd.read_csv(\"./data/X_train.csv\")\n",
    "#y_train = pd.read_csv(\"./data/y_train.csv\")"
   ]
  },
  {
   "cell_type": "code",
   "execution_count": 12,
   "id": "63d08085",
   "metadata": {
    "execution": {
     "iopub.execute_input": "2025-07-30T13:06:24.580177Z",
     "iopub.status.busy": "2025-07-30T13:06:24.579393Z",
     "iopub.status.idle": "2025-07-30T13:06:24.584426Z",
     "shell.execute_reply": "2025-07-30T13:06:24.583484Z"
    },
    "papermill": {
     "duration": 0.030417,
     "end_time": "2025-07-30T13:06:24.589788",
     "exception": false,
     "start_time": "2025-07-30T13:06:24.559371",
     "status": "completed"
    },
    "tags": []
   },
   "outputs": [],
   "source": [
    "#X_test = pd.read_csv(\"./data/X_test.csv\")\n",
    "#y_true = pd.read_csv(\"./data/y_test.csv\")"
   ]
  },
  {
   "cell_type": "code",
   "execution_count": 13,
   "id": "98a8d0fa-1d3d-4ed8-bb2c-281470e24add",
   "metadata": {
    "execution": {
     "iopub.execute_input": "2025-07-30T13:06:24.634550Z",
     "iopub.status.busy": "2025-07-30T13:06:24.633991Z",
     "iopub.status.idle": "2025-07-30T13:06:24.639168Z",
     "shell.execute_reply": "2025-07-30T13:06:24.638247Z"
    },
    "papermill": {
     "duration": 0.030564,
     "end_time": "2025-07-30T13:06:24.640994",
     "exception": false,
     "start_time": "2025-07-30T13:06:24.610430",
     "status": "completed"
    },
    "tags": []
   },
   "outputs": [],
   "source": [
    "# Calibration data for conformal\n",
    "#X_calib = pd.read_csv(\"./data/X_calib.csv\")\n",
    "#y_calib = pd.read_csv(\"./data/y_calib.csv\")"
   ]
  },
  {
   "cell_type": "markdown",
   "id": "997051c5-15bd-4b69-9786-c3001a3ce484",
   "metadata": {
    "papermill": {
     "duration": 0.020921,
     "end_time": "2025-07-30T13:06:24.682769",
     "exception": false,
     "start_time": "2025-07-30T13:06:24.661848",
     "status": "completed"
    },
    "tags": []
   },
   "source": [
    "# Splitting Data and Setting Training Data Size"
   ]
  },
  {
   "cell_type": "code",
   "execution_count": 14,
   "id": "e993b61f-042d-41a6-8c81-f55681f86335",
   "metadata": {
    "execution": {
     "iopub.execute_input": "2025-07-30T13:06:24.726529Z",
     "iopub.status.busy": "2025-07-30T13:06:24.726031Z",
     "iopub.status.idle": "2025-07-30T13:06:24.740262Z",
     "shell.execute_reply": "2025-07-30T13:06:24.739292Z"
    },
    "papermill": {
     "duration": 0.038162,
     "end_time": "2025-07-30T13:06:24.742000",
     "exception": false,
     "start_time": "2025-07-30T13:06:24.703838",
     "status": "completed"
    },
    "tags": []
   },
   "outputs": [],
   "source": [
    "def sample_by_year_size(df,\n",
    "                        training_year: str,\n",
    "                        training_size: str,\n",
    "                        random_state: int = 42):\n",
    "    # --- parse training_year into a list of int years ---\n",
    "    if \"_\" in training_year:\n",
    "        start_str, end_str = training_year.split(\"_\", 1)\n",
    "        start = int(start_str)\n",
    "        end   = int(end_str) if len(end_str) == 4 else (int(end_str) + (start // 100)*100)\n",
    "        years = list(range(start, end + 1))\n",
    "    else:\n",
    "        years = [int(training_year)]\n",
    "\n",
    "    df = df[df[\"year\"].isin(years)].reset_index(drop=True)\n",
    "\n",
    "    # --- map training_size to total number of samples ---\n",
    "    total_map = {\"25k\": 25_000, \"5k\": 5_000, \"1k\": 1_000}\n",
    "    if training_size not in total_map:\n",
    "        return df  # e.g. \"all\"\n",
    "\n",
    "    total_samples = total_map[training_size]\n",
    "    n_years       = len(years)\n",
    "    base          = total_samples // n_years\n",
    "    remainder     = total_samples % n_years\n",
    "\n",
    "    # --- build a dict: year -> how many to sample ---\n",
    "    # give +1 to the first `remainder` years in ascending order\n",
    "    quotas = {\n",
    "        year: base + (1 if idx < remainder else 0)\n",
    "        for idx, year in enumerate(sorted(years))\n",
    "    }\n",
    "\n",
    "    # --- sample per‐year according to the quota dict ---\n",
    "    sampled = (\n",
    "        df\n",
    "        .groupby(\"year\", group_keys=False)\n",
    "        .apply(lambda grp: grp.sample(\n",
    "            n=min(len(grp), quotas[grp.name]),\n",
    "            random_state=random_state))\n",
    "        .reset_index(drop=True)\n",
    "    )\n",
    "\n",
    "    return sampled"
   ]
  },
  {
   "cell_type": "code",
   "execution_count": 15,
   "id": "c0ccd338-0e02-41f3-a09d-f56f9266e3fb",
   "metadata": {
    "execution": {
     "iopub.execute_input": "2025-07-30T13:06:24.787435Z",
     "iopub.status.busy": "2025-07-30T13:06:24.786518Z",
     "iopub.status.idle": "2025-07-30T13:06:24.798103Z",
     "shell.execute_reply": "2025-07-30T13:06:24.796944Z"
    },
    "papermill": {
     "duration": 0.035525,
     "end_time": "2025-07-30T13:06:24.799936",
     "exception": false,
     "start_time": "2025-07-30T13:06:24.764411",
     "status": "completed"
    },
    "tags": []
   },
   "outputs": [
    {
     "data": {
      "text/plain": [
       "'25k'"
      ]
     },
     "execution_count": 15,
     "metadata": {},
     "output_type": "execute_result"
    }
   ],
   "source": [
    "universe[\"training_size\"]"
   ]
  },
  {
   "cell_type": "code",
   "execution_count": 16,
   "id": "ca707fd7-8047-4acd-bfa5-66248fbbf8e6",
   "metadata": {
    "execution": {
     "iopub.execute_input": "2025-07-30T13:06:24.844869Z",
     "iopub.status.busy": "2025-07-30T13:06:24.844382Z",
     "iopub.status.idle": "2025-07-30T13:06:24.851627Z",
     "shell.execute_reply": "2025-07-30T13:06:24.850703Z"
    },
    "papermill": {
     "duration": 0.032195,
     "end_time": "2025-07-30T13:06:24.853842",
     "exception": false,
     "start_time": "2025-07-30T13:06:24.821647",
     "status": "completed"
    },
    "tags": []
   },
   "outputs": [
    {
     "data": {
      "text/plain": [
       "'2012_14'"
      ]
     },
     "execution_count": 16,
     "metadata": {},
     "output_type": "execute_result"
    }
   ],
   "source": [
    "universe[\"training_year\"]"
   ]
  },
  {
   "cell_type": "code",
   "execution_count": 17,
   "id": "aea9c6ef-6f46-42c8-85eb-5a62025c1508",
   "metadata": {
    "execution": {
     "iopub.execute_input": "2025-07-30T13:06:24.899445Z",
     "iopub.status.busy": "2025-07-30T13:06:24.898723Z",
     "iopub.status.idle": "2025-07-30T13:06:25.596485Z",
     "shell.execute_reply": "2025-07-30T13:06:25.595525Z"
    },
    "papermill": {
     "duration": 0.722515,
     "end_time": "2025-07-30T13:06:25.598431",
     "exception": false,
     "start_time": "2025-07-30T13:06:24.875916",
     "status": "completed"
    },
    "tags": []
   },
   "outputs": [],
   "source": [
    "siab_train = sample_by_year_size(siab,\n",
    "                               training_year=universe[\"training_year\"],\n",
    "                               training_size=universe[\"training_size\"])"
   ]
  },
  {
   "cell_type": "code",
   "execution_count": 18,
   "id": "8d3afb32-789d-442c-8d5d-9f5aa8dd2eed",
   "metadata": {
    "execution": {
     "iopub.execute_input": "2025-07-30T13:06:25.652404Z",
     "iopub.status.busy": "2025-07-30T13:06:25.651458Z",
     "iopub.status.idle": "2025-07-30T13:06:25.658808Z",
     "shell.execute_reply": "2025-07-30T13:06:25.657628Z"
    },
    "papermill": {
     "duration": 0.032034,
     "end_time": "2025-07-30T13:06:25.660633",
     "exception": false,
     "start_time": "2025-07-30T13:06:25.628599",
     "status": "completed"
    },
    "tags": []
   },
   "outputs": [
    {
     "data": {
      "text/plain": [
       "(25000, 164)"
      ]
     },
     "execution_count": 18,
     "metadata": {},
     "output_type": "execute_result"
    }
   ],
   "source": [
    "siab_train.shape"
   ]
  },
  {
   "cell_type": "code",
   "execution_count": 19,
   "id": "d582db68-1a4c-47fb-84fc-08518dc1975a",
   "metadata": {
    "execution": {
     "iopub.execute_input": "2025-07-30T13:06:25.712413Z",
     "iopub.status.busy": "2025-07-30T13:06:25.711684Z",
     "iopub.status.idle": "2025-07-30T13:06:25.721899Z",
     "shell.execute_reply": "2025-07-30T13:06:25.720973Z"
    },
    "papermill": {
     "duration": 0.037872,
     "end_time": "2025-07-30T13:06:25.723675",
     "exception": false,
     "start_time": "2025-07-30T13:06:25.685803",
     "status": "completed"
    },
    "tags": []
   },
   "outputs": [
    {
     "data": {
      "text/plain": [
       "year\n",
       "2012    8334\n",
       "2013    8333\n",
       "2014    8333\n",
       "dtype: int64"
      ]
     },
     "metadata": {},
     "output_type": "display_data"
    }
   ],
   "source": [
    "display(siab_train.groupby(\"year\").size())"
   ]
  },
  {
   "cell_type": "code",
   "execution_count": 20,
   "id": "a561edb4-d032-42cb-8256-22eac1111c64",
   "metadata": {
    "execution": {
     "iopub.execute_input": "2025-07-30T13:06:25.766283Z",
     "iopub.status.busy": "2025-07-30T13:06:25.765441Z",
     "iopub.status.idle": "2025-07-30T13:06:25.996173Z",
     "shell.execute_reply": "2025-07-30T13:06:25.995217Z"
    },
    "papermill": {
     "duration": 0.253669,
     "end_time": "2025-07-30T13:06:25.998209",
     "exception": false,
     "start_time": "2025-07-30T13:06:25.744540",
     "status": "completed"
    },
    "tags": []
   },
   "outputs": [],
   "source": [
    "#siab_train = siab_s[siab_s.year < 2015]\n",
    "siab_calib = siab[siab.year == 2015]\n",
    "siab_test = siab[siab.year == 2016]"
   ]
  },
  {
   "cell_type": "code",
   "execution_count": 21,
   "id": "472de16f-c3db-4916-846b-1f0de9cf1746",
   "metadata": {
    "execution": {
     "iopub.execute_input": "2025-07-30T13:06:26.051169Z",
     "iopub.status.busy": "2025-07-30T13:06:26.050512Z",
     "iopub.status.idle": "2025-07-30T13:06:26.065680Z",
     "shell.execute_reply": "2025-07-30T13:06:26.064700Z"
    },
    "papermill": {
     "duration": 0.043628,
     "end_time": "2025-07-30T13:06:26.067546",
     "exception": false,
     "start_time": "2025-07-30T13:06:26.023918",
     "status": "completed"
    },
    "tags": []
   },
   "outputs": [],
   "source": [
    "X_train = siab_train.iloc[:,4:164]\n",
    "y_train = siab_train.iloc[:, [3]]"
   ]
  },
  {
   "cell_type": "code",
   "execution_count": 22,
   "id": "828c96af-f43a-4ed6-ba47-8ac73a47d56c",
   "metadata": {
    "execution": {
     "iopub.execute_input": "2025-07-30T13:06:26.121344Z",
     "iopub.status.busy": "2025-07-30T13:06:26.120690Z",
     "iopub.status.idle": "2025-07-30T13:06:26.169960Z",
     "shell.execute_reply": "2025-07-30T13:06:26.168887Z"
    },
    "papermill": {
     "duration": 0.07802,
     "end_time": "2025-07-30T13:06:26.171661",
     "exception": false,
     "start_time": "2025-07-30T13:06:26.093641",
     "status": "completed"
    },
    "tags": []
   },
   "outputs": [],
   "source": [
    "X_calib = siab_calib.iloc[:,4:164]\n",
    "y_calib = siab_calib.iloc[:, [3]]"
   ]
  },
  {
   "cell_type": "code",
   "execution_count": 23,
   "id": "c34be9c3-6bd6-476e-acd3-845840e303be",
   "metadata": {
    "execution": {
     "iopub.execute_input": "2025-07-30T13:06:26.225300Z",
     "iopub.status.busy": "2025-07-30T13:06:26.224849Z",
     "iopub.status.idle": "2025-07-30T13:06:26.278140Z",
     "shell.execute_reply": "2025-07-30T13:06:26.277127Z"
    },
    "papermill": {
     "duration": 0.082268,
     "end_time": "2025-07-30T13:06:26.280400",
     "exception": false,
     "start_time": "2025-07-30T13:06:26.198132",
     "status": "completed"
    },
    "tags": []
   },
   "outputs": [],
   "source": [
    "X_test = siab_test.iloc[:,4:164]\n",
    "y_true = siab_test.iloc[:, [3]]"
   ]
  },
  {
   "cell_type": "markdown",
   "id": "9901737e-04df-44f0-9100-f5ad144ed040",
   "metadata": {
    "papermill": {
     "duration": 0.025814,
     "end_time": "2025-07-30T13:06:26.348867",
     "exception": false,
     "start_time": "2025-07-30T13:06:26.323053",
     "status": "completed"
    },
    "tags": []
   },
   "source": [
    "# Splitting Data and Setting Training Data Size OLD VERSION"
   ]
  },
  {
   "cell_type": "code",
   "execution_count": 24,
   "id": "acbc8f7d-8fc8-4e86-8c59-5dcb0f58384b",
   "metadata": {
    "execution": {
     "iopub.execute_input": "2025-07-30T13:06:26.400901Z",
     "iopub.status.busy": "2025-07-30T13:06:26.400389Z",
     "iopub.status.idle": "2025-07-30T13:06:26.406441Z",
     "shell.execute_reply": "2025-07-30T13:06:26.405391Z"
    },
    "papermill": {
     "duration": 0.034195,
     "end_time": "2025-07-30T13:06:26.408199",
     "exception": false,
     "start_time": "2025-07-30T13:06:26.374004",
     "status": "completed"
    },
    "tags": []
   },
   "outputs": [],
   "source": [
    "#def sample_by_year(df, training_size, random_state=42):\n",
    "#    if training_size == \"2014\":\n",
    "#        return df[df[\"year\"] == 2014].reset_index(drop=True)\n",
    "#    \n",
    "#    size_map = {\n",
    "#        \"25k\": 5000,\n",
    "#        \"5k\": 1000,\n",
    "#        \"1k\": 200\n",
    "#    }\n",
    "#\n",
    "#    if training_size not in size_map:\n",
    "#        return df.reset_index(drop=True)  # use all data\n",
    "#\n",
    "#    n_per_year = size_map[training_size]\n",
    "#    grouped = df.groupby(\"year\")\n",
    "#    sampled = grouped.apply(lambda x: x.sample(n=min(n_per_year, len(x)), random_state=random_state))\n",
    "#    return sampled.reset_index(drop=True)"
   ]
  },
  {
   "cell_type": "code",
   "execution_count": 25,
   "id": "6d931f52-beaf-43ff-9e78-9d44a448d54e",
   "metadata": {
    "execution": {
     "iopub.execute_input": "2025-07-30T13:06:26.461624Z",
     "iopub.status.busy": "2025-07-30T13:06:26.461169Z",
     "iopub.status.idle": "2025-07-30T13:06:26.466543Z",
     "shell.execute_reply": "2025-07-30T13:06:26.465620Z"
    },
    "papermill": {
     "duration": 0.03349,
     "end_time": "2025-07-30T13:06:26.468561",
     "exception": false,
     "start_time": "2025-07-30T13:06:26.435071",
     "status": "completed"
    },
    "tags": []
   },
   "outputs": [],
   "source": [
    "#siab_s = sample_by_year(siab, universe[\"training_size\"])"
   ]
  },
  {
   "cell_type": "code",
   "execution_count": 26,
   "id": "5db0a40e-a4e2-4920-be85-b12ae061d70d",
   "metadata": {
    "execution": {
     "iopub.execute_input": "2025-07-30T13:06:26.521228Z",
     "iopub.status.busy": "2025-07-30T13:06:26.520580Z",
     "iopub.status.idle": "2025-07-30T13:06:26.526308Z",
     "shell.execute_reply": "2025-07-30T13:06:26.525319Z"
    },
    "papermill": {
     "duration": 0.034639,
     "end_time": "2025-07-30T13:06:26.528894",
     "exception": false,
     "start_time": "2025-07-30T13:06:26.494255",
     "status": "completed"
    },
    "tags": []
   },
   "outputs": [],
   "source": [
    "#display(siab_s.groupby(\"year\").size())"
   ]
  },
  {
   "cell_type": "code",
   "execution_count": 27,
   "id": "e6c733c5",
   "metadata": {
    "execution": {
     "iopub.execute_input": "2025-07-30T13:06:26.582342Z",
     "iopub.status.busy": "2025-07-30T13:06:26.581931Z",
     "iopub.status.idle": "2025-07-30T13:06:26.684823Z",
     "shell.execute_reply": "2025-07-30T13:06:26.683804Z"
    },
    "papermill": {
     "duration": 0.131864,
     "end_time": "2025-07-30T13:06:26.686918",
     "exception": false,
     "start_time": "2025-07-30T13:06:26.555054",
     "status": "completed"
    },
    "tags": []
   },
   "outputs": [],
   "source": [
    "# Auxiliary data needed downstream in the pipeline\n",
    "\n",
    "org_train = X_train.copy()\n",
    "org_test = X_test.copy()\n",
    "org_calib = X_calib.copy()"
   ]
  },
  {
   "cell_type": "code",
   "execution_count": 28,
   "id": "1466abac-c6da-4492-a62f-4240ae3783af",
   "metadata": {
    "execution": {
     "iopub.execute_input": "2025-07-30T13:06:26.741277Z",
     "iopub.status.busy": "2025-07-30T13:06:26.740769Z",
     "iopub.status.idle": "2025-07-30T13:06:26.746731Z",
     "shell.execute_reply": "2025-07-30T13:06:26.745836Z"
    },
    "papermill": {
     "duration": 0.034764,
     "end_time": "2025-07-30T13:06:26.748484",
     "exception": false,
     "start_time": "2025-07-30T13:06:26.713720",
     "status": "completed"
    },
    "tags": []
   },
   "outputs": [],
   "source": [
    "# put in other script?\n",
    "# Group sizes\n",
    "\n",
    "#def calculate_percentages(df, df_name):\n",
    "#    total_entries = len(df)\n",
    "#\n",
    "#    female_pct = (df['frau1'] == 1).mean() * 100\n",
    "#    non_german_pct = ((df['maxdeutsch1'] == 0) & (df['maxdeutsch.Missing.'] == 0)).mean() * 100\n",
    "#    non_german_male_pct = ((df['frau1'] == 0) & (df['maxdeutsch1'] == 0) & (df['maxdeutsch.Missing.'] == 0)).mean() * 100\n",
    "#    non_german_female_pct = ((df['frau1'] == 1) & (df['maxdeutsch1'] == 0) & (df['maxdeutsch.Missing.'] == 0)).mean() * 100\n",
    "#\n",
    "#    print(f\"--- {df_name} ---\")\n",
    "#    print(f\"Female: {female_pct:.2f}%\")\n",
    "#    print(f\"Non-German: {non_german_pct:.2f}%\")\n",
    "#    print(f\"Non-German Male: {non_german_male_pct:.2f}%\")\n",
    "#    print(f\"Non-German Female: {non_german_female_pct:.2f}%\\n\")\n",
    "#\n",
    "## Calculate for each DataFrame\n",
    "#calculate_percentages(siab_calib, \"siab_calib\")\n",
    "#calculate_percentages(siab_test, \"siab_test\")\n",
    "#calculate_percentages(siab_train, \"siab_train\")"
   ]
  },
  {
   "cell_type": "markdown",
   "id": "0a4a1b33",
   "metadata": {
    "papermill": {
     "duration": 0.025572,
     "end_time": "2025-07-30T13:06:26.800832",
     "exception": false,
     "start_time": "2025-07-30T13:06:26.775260",
     "status": "completed"
    },
    "tags": []
   },
   "source": [
    "# Preprocessing Data"
   ]
  },
  {
   "cell_type": "code",
   "execution_count": 29,
   "id": "ca879031",
   "metadata": {
    "execution": {
     "iopub.execute_input": "2025-07-30T13:06:26.855092Z",
     "iopub.status.busy": "2025-07-30T13:06:26.854626Z",
     "iopub.status.idle": "2025-07-30T13:06:26.860568Z",
     "shell.execute_reply": "2025-07-30T13:06:26.859646Z"
    },
    "papermill": {
     "duration": 0.035598,
     "end_time": "2025-07-30T13:06:26.862037",
     "exception": false,
     "start_time": "2025-07-30T13:06:26.826439",
     "status": "completed"
    },
    "tags": []
   },
   "outputs": [],
   "source": [
    "# EXCLUDE PROTECTED FEATURES\n",
    "# ----------------------\n",
    "# \"exclude_features\": \"none\", # \"nationality\", \"sex\", \"nationality-sex\"\n",
    "\n",
    "excluded_features = universe[\"exclude_features\"].split(\"-\") # split, e.g.: \"nationality-sex\" -> [\"nationality\", \"sex\"]\n",
    "excluded_features_dictionary = {\n",
    "    \"nationality\": [\"maxdeutsch1\", \"maxdeutsch.Missing.\"],\n",
    "    \"sex\": [\"frau1\"],\n",
    "    \"age\": [\"age\"],\n",
    "}\n"
   ]
  },
  {
   "cell_type": "code",
   "execution_count": 30,
   "id": "b745ac60",
   "metadata": {
    "execution": {
     "iopub.execute_input": "2025-07-30T13:06:26.906672Z",
     "iopub.status.busy": "2025-07-30T13:06:26.905981Z",
     "iopub.status.idle": "2025-07-30T13:06:26.911766Z",
     "shell.execute_reply": "2025-07-30T13:06:26.910779Z"
    },
    "papermill": {
     "duration": 0.029796,
     "end_time": "2025-07-30T13:06:26.913574",
     "exception": false,
     "start_time": "2025-07-30T13:06:26.883778",
     "status": "completed"
    },
    "tags": []
   },
   "outputs": [],
   "source": [
    "# Code nice names to column names\n",
    "\n",
    "excluded_features_columns = [\n",
    "    excluded_features_dictionary[f] for f in excluded_features if len(f) > 0 and f != \"none\"\n",
    "]"
   ]
  },
  {
   "cell_type": "code",
   "execution_count": 31,
   "id": "f84f73a2",
   "metadata": {
    "execution": {
     "iopub.execute_input": "2025-07-30T13:06:26.958335Z",
     "iopub.status.busy": "2025-07-30T13:06:26.957837Z",
     "iopub.status.idle": "2025-07-30T13:06:26.963576Z",
     "shell.execute_reply": "2025-07-30T13:06:26.962832Z"
    },
    "papermill": {
     "duration": 0.028879,
     "end_time": "2025-07-30T13:06:26.964950",
     "exception": false,
     "start_time": "2025-07-30T13:06:26.936071",
     "status": "completed"
    },
    "tags": []
   },
   "outputs": [],
   "source": [
    "from utils import flatten_once\n",
    "\n",
    "excluded_features_columns = flatten_once(excluded_features_columns)"
   ]
  },
  {
   "cell_type": "code",
   "execution_count": 32,
   "id": "884dea22",
   "metadata": {
    "execution": {
     "iopub.execute_input": "2025-07-30T13:06:26.990980Z",
     "iopub.status.busy": "2025-07-30T13:06:26.990094Z",
     "iopub.status.idle": "2025-07-30T13:06:27.022744Z",
     "shell.execute_reply": "2025-07-30T13:06:27.021438Z"
    },
    "papermill": {
     "duration": 0.046836,
     "end_time": "2025-07-30T13:06:27.024558",
     "exception": false,
     "start_time": "2025-07-30T13:06:26.977722",
     "status": "completed"
    },
    "tags": []
   },
   "outputs": [
    {
     "name": "stdout",
     "output_type": "stream",
     "text": [
      "Dropping features: ['maxdeutsch1', 'maxdeutsch.Missing.', 'frau1']\n"
     ]
    }
   ],
   "source": [
    "if len(excluded_features_columns) > 0:\n",
    "    print(f\"Dropping features: {excluded_features_columns}\")\n",
    "    X_train.drop(excluded_features_columns, axis=1, inplace=True)"
   ]
  },
  {
   "cell_type": "code",
   "execution_count": 33,
   "id": "95ab8b16",
   "metadata": {
    "execution": {
     "iopub.execute_input": "2025-07-30T13:06:27.072857Z",
     "iopub.status.busy": "2025-07-30T13:06:27.071881Z",
     "iopub.status.idle": "2025-07-30T13:06:27.126876Z",
     "shell.execute_reply": "2025-07-30T13:06:27.125802Z"
    },
    "papermill": {
     "duration": 0.078997,
     "end_time": "2025-07-30T13:06:27.128721",
     "exception": false,
     "start_time": "2025-07-30T13:06:27.049724",
     "status": "completed"
    },
    "tags": []
   },
   "outputs": [
    {
     "name": "stdout",
     "output_type": "stream",
     "text": [
      "Dropping features: ['maxdeutsch1', 'maxdeutsch.Missing.', 'frau1']\n"
     ]
    }
   ],
   "source": [
    "if len(excluded_features_columns) > 0:\n",
    "    print(f\"Dropping features: {excluded_features_columns}\")\n",
    "    X_test.drop(excluded_features_columns, axis=1, inplace=True)"
   ]
  },
  {
   "cell_type": "code",
   "execution_count": 34,
   "id": "1853aaf5-fb9f-46cb-a2b5-8ea4ae2237e4",
   "metadata": {
    "execution": {
     "iopub.execute_input": "2025-07-30T13:06:27.172010Z",
     "iopub.status.busy": "2025-07-30T13:06:27.171016Z",
     "iopub.status.idle": "2025-07-30T13:06:27.229419Z",
     "shell.execute_reply": "2025-07-30T13:06:27.228149Z"
    },
    "papermill": {
     "duration": 0.086304,
     "end_time": "2025-07-30T13:06:27.231334",
     "exception": false,
     "start_time": "2025-07-30T13:06:27.145030",
     "status": "completed"
    },
    "tags": []
   },
   "outputs": [
    {
     "name": "stdout",
     "output_type": "stream",
     "text": [
      "Dropping features: ['maxdeutsch1', 'maxdeutsch.Missing.', 'frau1']\n"
     ]
    }
   ],
   "source": [
    "if len(excluded_features_columns) > 0:\n",
    "    print(f\"Dropping features: {excluded_features_columns}\")\n",
    "    X_calib.drop(excluded_features_columns, axis=1, inplace=True)"
   ]
  },
  {
   "cell_type": "code",
   "execution_count": 35,
   "id": "6727d079-03e5-481e-9d38-292a90b7a0a8",
   "metadata": {
    "execution": {
     "iopub.execute_input": "2025-07-30T13:06:27.281253Z",
     "iopub.status.busy": "2025-07-30T13:06:27.280815Z",
     "iopub.status.idle": "2025-07-30T13:06:27.285909Z",
     "shell.execute_reply": "2025-07-30T13:06:27.285099Z"
    },
    "papermill": {
     "duration": 0.031556,
     "end_time": "2025-07-30T13:06:27.287554",
     "exception": false,
     "start_time": "2025-07-30T13:06:27.255998",
     "status": "completed"
    },
    "tags": []
   },
   "outputs": [],
   "source": [
    "# SPLIT & STRATIFY DATA\n",
    "# ----------------------"
   ]
  },
  {
   "cell_type": "code",
   "execution_count": 36,
   "id": "76c4dc6d",
   "metadata": {
    "execution": {
     "iopub.execute_input": "2025-07-30T13:06:27.338679Z",
     "iopub.status.busy": "2025-07-30T13:06:27.338190Z",
     "iopub.status.idle": "2025-07-30T13:06:27.343608Z",
     "shell.execute_reply": "2025-07-30T13:06:27.342696Z"
    },
    "papermill": {
     "duration": 0.03307,
     "end_time": "2025-07-30T13:06:27.345344",
     "exception": false,
     "start_time": "2025-07-30T13:06:27.312274",
     "status": "completed"
    },
    "tags": []
   },
   "outputs": [],
   "source": [
    "# EXCLUDE CERTAIN SUBGROUPS\n",
    "# ----------------------\n",
    "\n",
    "mode = universe.get(\"exclude_subgroups\", \"keep-all\") \n",
    "# Fetches the exclude_subgroups setting from the universe dict.\n",
    "# Defaults to \"keep-all\" if the key is missing."
   ]
  },
  {
   "cell_type": "code",
   "execution_count": 37,
   "id": "21994072",
   "metadata": {
    "execution": {
     "iopub.execute_input": "2025-07-30T13:06:27.395083Z",
     "iopub.status.busy": "2025-07-30T13:06:27.394570Z",
     "iopub.status.idle": "2025-07-30T13:06:27.401825Z",
     "shell.execute_reply": "2025-07-30T13:06:27.400805Z"
    },
    "papermill": {
     "duration": 0.034331,
     "end_time": "2025-07-30T13:06:27.403590",
     "exception": false,
     "start_time": "2025-07-30T13:06:27.369259",
     "status": "completed"
    },
    "tags": []
   },
   "outputs": [],
   "source": [
    "if mode == \"keep-all\":\n",
    "    keep_mask = pd.Series(True, index=org_train.index)\n",
    "\n",
    "# org_train contains the original feature columns from features_org (in Simson)\n",
    "# features_org contains unprocessed features, for me X_train at beginning ???\n",
    "# For keep-all, creates a boolean Series (keep_mask) of all True, so no rows are removed.\n",
    "\n",
    "elif mode == \"drop-non-german\":\n",
    "    keep_mask = org_train[\"maxdeutsch1\"] == 1 # ??? what about missing values?\n",
    "\n",
    "else:\n",
    "    raise ValueError(f\"Unsupported mode for exclude_subgroups: {mode}\")\n"
   ]
  },
  {
   "cell_type": "code",
   "execution_count": 38,
   "id": "71651440",
   "metadata": {
    "execution": {
     "iopub.execute_input": "2025-07-30T13:06:27.454591Z",
     "iopub.status.busy": "2025-07-30T13:06:27.453962Z",
     "iopub.status.idle": "2025-07-30T13:06:27.460637Z",
     "shell.execute_reply": "2025-07-30T13:06:27.459684Z"
    },
    "papermill": {
     "duration": 0.034071,
     "end_time": "2025-07-30T13:06:27.462683",
     "exception": false,
     "start_time": "2025-07-30T13:06:27.428612",
     "status": "completed"
    },
    "tags": []
   },
   "outputs": [],
   "source": [
    "n_drop = (~keep_mask).sum() # Calculates how many rows are set to be dropped\n",
    "if n_drop > 0:\n",
    "    pct = n_drop / len(keep_mask) * 100\n",
    "    print(f\"Dropping {n_drop} rows ({pct:.2f}%) where mode='{mode}'\")"
   ]
  },
  {
   "cell_type": "code",
   "execution_count": 39,
   "id": "5fb8eee5",
   "metadata": {
    "execution": {
     "iopub.execute_input": "2025-07-30T13:06:27.513439Z",
     "iopub.status.busy": "2025-07-30T13:06:27.512724Z",
     "iopub.status.idle": "2025-07-30T13:06:27.530063Z",
     "shell.execute_reply": "2025-07-30T13:06:27.528732Z"
    },
    "papermill": {
     "duration": 0.043905,
     "end_time": "2025-07-30T13:06:27.532403",
     "exception": false,
     "start_time": "2025-07-30T13:06:27.488498",
     "status": "completed"
    },
    "tags": []
   },
   "outputs": [],
   "source": [
    "X_train = X_train[keep_mask]"
   ]
  },
  {
   "cell_type": "code",
   "execution_count": 40,
   "id": "b202bb3a",
   "metadata": {
    "execution": {
     "iopub.execute_input": "2025-07-30T13:06:27.585476Z",
     "iopub.status.busy": "2025-07-30T13:06:27.584993Z",
     "iopub.status.idle": "2025-07-30T13:06:27.591483Z",
     "shell.execute_reply": "2025-07-30T13:06:27.590578Z"
    },
    "papermill": {
     "duration": 0.033406,
     "end_time": "2025-07-30T13:06:27.593259",
     "exception": false,
     "start_time": "2025-07-30T13:06:27.559853",
     "status": "completed"
    },
    "tags": []
   },
   "outputs": [],
   "source": [
    "y_train = y_train[keep_mask]"
   ]
  },
  {
   "cell_type": "markdown",
   "id": "493e2ac3",
   "metadata": {
    "papermill": {
     "duration": 0.022686,
     "end_time": "2025-07-30T13:06:27.640697",
     "exception": false,
     "start_time": "2025-07-30T13:06:27.618011",
     "status": "completed"
    },
    "tags": []
   },
   "source": [
    "# Model Training"
   ]
  },
  {
   "cell_type": "code",
   "execution_count": 41,
   "id": "679e1268",
   "metadata": {
    "execution": {
     "iopub.execute_input": "2025-07-30T13:06:27.690282Z",
     "iopub.status.busy": "2025-07-30T13:06:27.689796Z",
     "iopub.status.idle": "2025-07-30T13:06:27.801214Z",
     "shell.execute_reply": "2025-07-30T13:06:27.800249Z"
    },
    "papermill": {
     "duration": 0.139303,
     "end_time": "2025-07-30T13:06:27.803117",
     "exception": false,
     "start_time": "2025-07-30T13:06:27.663814",
     "status": "completed"
    },
    "tags": []
   },
   "outputs": [],
   "source": [
    "from sklearn.linear_model import LogisticRegression\n",
    "from sklearn.ensemble import GradientBoostingClassifier, RandomForestClassifier\n",
    "\n",
    "if (universe[\"model\"] == \"logreg\"):\n",
    "    model = LogisticRegression() #penalty=\"none\") #, solver=\"newton-cg\", max_iter=1) # include random_state=19 ?\n",
    "elif (universe[\"model\"] == \"penalized_logreg\"):\n",
    "    model = LogisticRegression(penalty=\"l2\", C=1.0) #, solver=\"newton-cg\", max_iter=1)\n",
    "elif (universe[\"model\"] == \"rf\"):\n",
    "    model = RandomForestClassifier(n_estimators=100, n_jobs=-1)\n",
    "elif (universe[\"model\"] == \"gbm\"):\n",
    "    model = GradientBoostingClassifier()\n",
    "elif (universe[\"model\"] == \"elasticnet\"):\n",
    "    model = LogisticRegression(penalty = 'elasticnet', solver = 'saga', l1_ratio = 0.5, max_iter=5000) # which solver to use?\n",
    "else:\n",
    "    raise \"Unsupported universe.model\""
   ]
  },
  {
   "cell_type": "code",
   "execution_count": 42,
   "id": "0cc8f744",
   "metadata": {
    "execution": {
     "iopub.execute_input": "2025-07-30T13:06:27.854379Z",
     "iopub.status.busy": "2025-07-30T13:06:27.853412Z",
     "iopub.status.idle": "2025-07-30T13:06:27.860969Z",
     "shell.execute_reply": "2025-07-30T13:06:27.859904Z"
    },
    "papermill": {
     "duration": 0.035173,
     "end_time": "2025-07-30T13:06:27.862805",
     "exception": false,
     "start_time": "2025-07-30T13:06:27.827632",
     "status": "completed"
    },
    "tags": []
   },
   "outputs": [],
   "source": [
    "import numpy as np\n",
    "from sklearn.pipeline import Pipeline\n",
    "from sklearn.preprocessing import StandardScaler\n",
    "\n",
    "model = Pipeline([\n",
    "    #(\"continuous_processor\", continuous_processor),\n",
    "    #(\"categorical_preprocessor\", categorical_preprocessor),\n",
    "    (\"scale\", StandardScaler() if universe[\"scale\"] == \"scale\" else None), \n",
    "    (\"model\", model),\n",
    "])"
   ]
  },
  {
   "cell_type": "code",
   "execution_count": 43,
   "id": "9442c04d",
   "metadata": {
    "execution": {
     "iopub.execute_input": "2025-07-30T13:06:27.914491Z",
     "iopub.status.busy": "2025-07-30T13:06:27.914037Z",
     "iopub.status.idle": "2025-07-30T13:06:29.029938Z",
     "shell.execute_reply": "2025-07-30T13:06:29.028880Z"
    },
    "papermill": {
     "duration": 1.144287,
     "end_time": "2025-07-30T13:06:29.032333",
     "exception": false,
     "start_time": "2025-07-30T13:06:27.888046",
     "status": "completed"
    },
    "tags": []
   },
   "outputs": [
    {
     "name": "stderr",
     "output_type": "stream",
     "text": [
      "/dss/dsshome1/0C/ra93lal2/.local/share/virtualenvs/CMA_Fairness_v2-3j10GkSs/lib/python3.10/site-packages/sklearn/linear_model/_logistic.py:444: ConvergenceWarning: lbfgs failed to converge (status=1):\n",
      "STOP: TOTAL NO. of ITERATIONS REACHED LIMIT.\n",
      "\n",
      "Increase the number of iterations (max_iter) or scale the data as shown in:\n",
      "    https://scikit-learn.org/stable/modules/preprocessing.html\n",
      "Please also refer to the documentation for alternative solver options:\n",
      "    https://scikit-learn.org/stable/modules/linear_model.html#logistic-regression\n",
      "  n_iter_i = _check_optimize_result(\n"
     ]
    },
    {
     "data": {
      "text/html": [
       "<style>#sk-container-id-1 {color: black;background-color: white;}#sk-container-id-1 pre{padding: 0;}#sk-container-id-1 div.sk-toggleable {background-color: white;}#sk-container-id-1 label.sk-toggleable__label {cursor: pointer;display: block;width: 100%;margin-bottom: 0;padding: 0.3em;box-sizing: border-box;text-align: center;}#sk-container-id-1 label.sk-toggleable__label-arrow:before {content: \"▸\";float: left;margin-right: 0.25em;color: #696969;}#sk-container-id-1 label.sk-toggleable__label-arrow:hover:before {color: black;}#sk-container-id-1 div.sk-estimator:hover label.sk-toggleable__label-arrow:before {color: black;}#sk-container-id-1 div.sk-toggleable__content {max-height: 0;max-width: 0;overflow: hidden;text-align: left;background-color: #f0f8ff;}#sk-container-id-1 div.sk-toggleable__content pre {margin: 0.2em;color: black;border-radius: 0.25em;background-color: #f0f8ff;}#sk-container-id-1 input.sk-toggleable__control:checked~div.sk-toggleable__content {max-height: 200px;max-width: 100%;overflow: auto;}#sk-container-id-1 input.sk-toggleable__control:checked~label.sk-toggleable__label-arrow:before {content: \"▾\";}#sk-container-id-1 div.sk-estimator input.sk-toggleable__control:checked~label.sk-toggleable__label {background-color: #d4ebff;}#sk-container-id-1 div.sk-label input.sk-toggleable__control:checked~label.sk-toggleable__label {background-color: #d4ebff;}#sk-container-id-1 input.sk-hidden--visually {border: 0;clip: rect(1px 1px 1px 1px);clip: rect(1px, 1px, 1px, 1px);height: 1px;margin: -1px;overflow: hidden;padding: 0;position: absolute;width: 1px;}#sk-container-id-1 div.sk-estimator {font-family: monospace;background-color: #f0f8ff;border: 1px dotted black;border-radius: 0.25em;box-sizing: border-box;margin-bottom: 0.5em;}#sk-container-id-1 div.sk-estimator:hover {background-color: #d4ebff;}#sk-container-id-1 div.sk-parallel-item::after {content: \"\";width: 100%;border-bottom: 1px solid gray;flex-grow: 1;}#sk-container-id-1 div.sk-label:hover label.sk-toggleable__label {background-color: #d4ebff;}#sk-container-id-1 div.sk-serial::before {content: \"\";position: absolute;border-left: 1px solid gray;box-sizing: border-box;top: 0;bottom: 0;left: 50%;z-index: 0;}#sk-container-id-1 div.sk-serial {display: flex;flex-direction: column;align-items: center;background-color: white;padding-right: 0.2em;padding-left: 0.2em;position: relative;}#sk-container-id-1 div.sk-item {position: relative;z-index: 1;}#sk-container-id-1 div.sk-parallel {display: flex;align-items: stretch;justify-content: center;background-color: white;position: relative;}#sk-container-id-1 div.sk-item::before, #sk-container-id-1 div.sk-parallel-item::before {content: \"\";position: absolute;border-left: 1px solid gray;box-sizing: border-box;top: 0;bottom: 0;left: 50%;z-index: -1;}#sk-container-id-1 div.sk-parallel-item {display: flex;flex-direction: column;z-index: 1;position: relative;background-color: white;}#sk-container-id-1 div.sk-parallel-item:first-child::after {align-self: flex-end;width: 50%;}#sk-container-id-1 div.sk-parallel-item:last-child::after {align-self: flex-start;width: 50%;}#sk-container-id-1 div.sk-parallel-item:only-child::after {width: 0;}#sk-container-id-1 div.sk-dashed-wrapped {border: 1px dashed gray;margin: 0 0.4em 0.5em 0.4em;box-sizing: border-box;padding-bottom: 0.4em;background-color: white;}#sk-container-id-1 div.sk-label label {font-family: monospace;font-weight: bold;display: inline-block;line-height: 1.2em;}#sk-container-id-1 div.sk-label-container {text-align: center;}#sk-container-id-1 div.sk-container {/* jupyter's `normalize.less` sets `[hidden] { display: none; }` but bootstrap.min.css set `[hidden] { display: none !important; }` so we also need the `!important` here to be able to override the default hidden behavior on the sphinx rendered scikit-learn.org. See: https://github.com/scikit-learn/scikit-learn/issues/21755 */display: inline-block !important;position: relative;}#sk-container-id-1 div.sk-text-repr-fallback {display: none;}</style><div id=\"sk-container-id-1\" class=\"sk-top-container\"><div class=\"sk-text-repr-fallback\"><pre>Pipeline(steps=[(&#x27;scale&#x27;, StandardScaler()), (&#x27;model&#x27;, LogisticRegression())])</pre><b>In a Jupyter environment, please rerun this cell to show the HTML representation or trust the notebook. <br />On GitHub, the HTML representation is unable to render, please try loading this page with nbviewer.org.</b></div><div class=\"sk-container\" hidden><div class=\"sk-item sk-dashed-wrapped\"><div class=\"sk-label-container\"><div class=\"sk-label sk-toggleable\"><input class=\"sk-toggleable__control sk-hidden--visually\" id=\"sk-estimator-id-1\" type=\"checkbox\" ><label for=\"sk-estimator-id-1\" class=\"sk-toggleable__label sk-toggleable__label-arrow\">Pipeline</label><div class=\"sk-toggleable__content\"><pre>Pipeline(steps=[(&#x27;scale&#x27;, StandardScaler()), (&#x27;model&#x27;, LogisticRegression())])</pre></div></div></div><div class=\"sk-serial\"><div class=\"sk-item\"><div class=\"sk-estimator sk-toggleable\"><input class=\"sk-toggleable__control sk-hidden--visually\" id=\"sk-estimator-id-2\" type=\"checkbox\" ><label for=\"sk-estimator-id-2\" class=\"sk-toggleable__label sk-toggleable__label-arrow\">StandardScaler</label><div class=\"sk-toggleable__content\"><pre>StandardScaler()</pre></div></div></div><div class=\"sk-item\"><div class=\"sk-estimator sk-toggleable\"><input class=\"sk-toggleable__control sk-hidden--visually\" id=\"sk-estimator-id-3\" type=\"checkbox\" ><label for=\"sk-estimator-id-3\" class=\"sk-toggleable__label sk-toggleable__label-arrow\">LogisticRegression</label><div class=\"sk-toggleable__content\"><pre>LogisticRegression()</pre></div></div></div></div></div></div></div>"
      ],
      "text/plain": [
       "Pipeline(steps=[('scale', StandardScaler()), ('model', LogisticRegression())])"
      ]
     },
     "execution_count": 43,
     "metadata": {},
     "output_type": "execute_result"
    }
   ],
   "source": [
    "model.fit(X_train, y_train.values.ravel())"
   ]
  },
  {
   "cell_type": "code",
   "execution_count": 44,
   "id": "af59f8c0",
   "metadata": {
    "execution": {
     "iopub.execute_input": "2025-07-30T13:06:29.091785Z",
     "iopub.status.busy": "2025-07-30T13:06:29.091307Z",
     "iopub.status.idle": "2025-07-30T13:06:29.098139Z",
     "shell.execute_reply": "2025-07-30T13:06:29.096824Z"
    },
    "papermill": {
     "duration": 0.036111,
     "end_time": "2025-07-30T13:06:29.100853",
     "exception": false,
     "start_time": "2025-07-30T13:06:29.064742",
     "status": "completed"
    },
    "tags": []
   },
   "outputs": [],
   "source": [
    "from fairness_multiverse.universe import predict_w_threshold"
   ]
  },
  {
   "cell_type": "code",
   "execution_count": 45,
   "id": "a7cf2e16",
   "metadata": {
    "execution": {
     "iopub.execute_input": "2025-07-30T13:06:29.135016Z",
     "iopub.status.busy": "2025-07-30T13:06:29.134045Z",
     "iopub.status.idle": "2025-07-30T13:06:29.416260Z",
     "shell.execute_reply": "2025-07-30T13:06:29.414822Z"
    },
    "papermill": {
     "duration": 0.303651,
     "end_time": "2025-07-30T13:06:29.418612",
     "exception": false,
     "start_time": "2025-07-30T13:06:29.114961",
     "status": "completed"
    },
    "tags": []
   },
   "outputs": [
    {
     "data": {
      "text/plain": [
       "0.8621446884405306"
      ]
     },
     "execution_count": 45,
     "metadata": {},
     "output_type": "execute_result"
    }
   ],
   "source": [
    "probs_test = model.predict_proba(X_test)\n",
    "\n",
    "'''\n",
    "Below code returns a boolean array (or binary 0/1 array depending on how it’s used) where each element \n",
    "is True if the probability of class 1 is greater than or equal to the threshold, and False otherwise.\n",
    "'''\n",
    "y_pred_default = predict_w_threshold(probs_test, 0.5)\n",
    "\n",
    "from sklearn.metrics import accuracy_score\n",
    "\n",
    "# Naive prediction\n",
    "accuracy_score(y_true = y_true, y_pred = y_pred_default)"
   ]
  },
  {
   "cell_type": "code",
   "execution_count": 46,
   "id": "081964c3",
   "metadata": {
    "execution": {
     "iopub.execute_input": "2025-07-30T13:06:29.456213Z",
     "iopub.status.busy": "2025-07-30T13:06:29.455619Z",
     "iopub.status.idle": "2025-07-30T13:06:29.692156Z",
     "shell.execute_reply": "2025-07-30T13:06:29.690858Z"
    },
    "papermill": {
     "duration": 0.25395,
     "end_time": "2025-07-30T13:06:29.694430",
     "exception": false,
     "start_time": "2025-07-30T13:06:29.440480",
     "status": "completed"
    },
    "tags": []
   },
   "outputs": [
    {
     "data": {
      "text/plain": [
       "array([0, 0, 0, ..., 0, 0, 0])"
      ]
     },
     "execution_count": 46,
     "metadata": {},
     "output_type": "execute_result"
    }
   ],
   "source": [
    "model.predict(X_test)"
   ]
  },
  {
   "cell_type": "markdown",
   "id": "56c9705b",
   "metadata": {
    "papermill": {
     "duration": 0.026654,
     "end_time": "2025-07-30T13:06:29.756307",
     "exception": false,
     "start_time": "2025-07-30T13:06:29.729653",
     "status": "completed"
    },
    "tags": []
   },
   "source": [
    "# Conformal Prediction"
   ]
  },
  {
   "cell_type": "code",
   "execution_count": 47,
   "id": "160ec6ff",
   "metadata": {
    "execution": {
     "iopub.execute_input": "2025-07-30T13:06:29.790232Z",
     "iopub.status.busy": "2025-07-30T13:06:29.789638Z",
     "iopub.status.idle": "2025-07-30T13:06:29.795344Z",
     "shell.execute_reply": "2025-07-30T13:06:29.794537Z"
    },
    "papermill": {
     "duration": 0.023748,
     "end_time": "2025-07-30T13:06:29.796759",
     "exception": false,
     "start_time": "2025-07-30T13:06:29.773011",
     "status": "completed"
    },
    "tags": []
   },
   "outputs": [],
   "source": [
    "# Miscoverage level for conformal prediction (10% allowed error rate => 90% target coverage)\n",
    "alpha = 0.1"
   ]
  },
  {
   "cell_type": "code",
   "execution_count": 48,
   "id": "eadf4555-3dd3-440e-8e35-f82a4ad9f855",
   "metadata": {
    "execution": {
     "iopub.execute_input": "2025-07-30T13:06:29.841723Z",
     "iopub.status.busy": "2025-07-30T13:06:29.841272Z",
     "iopub.status.idle": "2025-07-30T13:06:30.014986Z",
     "shell.execute_reply": "2025-07-30T13:06:30.014043Z"
    },
    "papermill": {
     "duration": 0.203539,
     "end_time": "2025-07-30T13:06:30.016744",
     "exception": false,
     "start_time": "2025-07-30T13:06:29.813205",
     "status": "completed"
    },
    "tags": []
   },
   "outputs": [],
   "source": [
    "probs_calib = model.predict_proba(X_calib)"
   ]
  },
  {
   "cell_type": "code",
   "execution_count": 49,
   "id": "2ed93547-6d5d-4983-9b36-1ecb300da49a",
   "metadata": {
    "execution": {
     "iopub.execute_input": "2025-07-30T13:06:30.073731Z",
     "iopub.status.busy": "2025-07-30T13:06:30.073085Z",
     "iopub.status.idle": "2025-07-30T13:06:30.081990Z",
     "shell.execute_reply": "2025-07-30T13:06:30.080859Z"
    },
    "papermill": {
     "duration": 0.048036,
     "end_time": "2025-07-30T13:06:30.084649",
     "exception": false,
     "start_time": "2025-07-30T13:06:30.036613",
     "status": "completed"
    },
    "tags": []
   },
   "outputs": [],
   "source": [
    "y_calib = y_calib.values.ravel().astype(int)"
   ]
  },
  {
   "cell_type": "code",
   "execution_count": 50,
   "id": "65d1320d-f588-4b38-9072-62af1ae97f7d",
   "metadata": {
    "execution": {
     "iopub.execute_input": "2025-07-30T13:06:30.139400Z",
     "iopub.status.busy": "2025-07-30T13:06:30.138974Z",
     "iopub.status.idle": "2025-07-30T13:06:30.147561Z",
     "shell.execute_reply": "2025-07-30T13:06:30.146639Z"
    },
    "papermill": {
     "duration": 0.037713,
     "end_time": "2025-07-30T13:06:30.149575",
     "exception": false,
     "start_time": "2025-07-30T13:06:30.111862",
     "status": "completed"
    },
    "tags": []
   },
   "outputs": [],
   "source": [
    "from fairness_multiverse.conformal import compute_nc_scores\n",
    "\n",
    "# Compute nonconformity scores on calibration set (1 - probability of true class)\n",
    "nc_scores = compute_nc_scores(probs_calib, y_calib)"
   ]
  },
  {
   "cell_type": "code",
   "execution_count": 51,
   "id": "df3b8ca3-53b7-43d5-9667-7c85da7aeda2",
   "metadata": {
    "execution": {
     "iopub.execute_input": "2025-07-30T13:06:30.196470Z",
     "iopub.status.busy": "2025-07-30T13:06:30.196116Z",
     "iopub.status.idle": "2025-07-30T13:06:30.201566Z",
     "shell.execute_reply": "2025-07-30T13:06:30.200843Z"
    },
    "papermill": {
     "duration": 0.030283,
     "end_time": "2025-07-30T13:06:30.203018",
     "exception": false,
     "start_time": "2025-07-30T13:06:30.172735",
     "status": "completed"
    },
    "tags": []
   },
   "outputs": [],
   "source": [
    "from fairness_multiverse.conformal import find_threshold\n",
    "\n",
    "# Find conformal threshold q_hat for the given alpha (split conformal method)\n",
    "q_hat = find_threshold(nc_scores, alpha)"
   ]
  },
  {
   "cell_type": "code",
   "execution_count": 52,
   "id": "4d29e6c1-0ef6-4aa4-b8fe-4fe79b0d033a",
   "metadata": {
    "execution": {
     "iopub.execute_input": "2025-07-30T13:06:30.253739Z",
     "iopub.status.busy": "2025-07-30T13:06:30.252776Z",
     "iopub.status.idle": "2025-07-30T13:06:30.261016Z",
     "shell.execute_reply": "2025-07-30T13:06:30.259921Z"
    },
    "papermill": {
     "duration": 0.035172,
     "end_time": "2025-07-30T13:06:30.262736",
     "exception": false,
     "start_time": "2025-07-30T13:06:30.227564",
     "status": "completed"
    },
    "tags": []
   },
   "outputs": [
    {
     "data": {
      "text/plain": [
       "0.664171445530851"
      ]
     },
     "execution_count": 52,
     "metadata": {},
     "output_type": "execute_result"
    }
   ],
   "source": [
    "q_hat"
   ]
  },
  {
   "cell_type": "code",
   "execution_count": 53,
   "id": "92460794-cdac-4be2-ba28-f28c0515a6fb",
   "metadata": {
    "execution": {
     "iopub.execute_input": "2025-07-30T13:06:30.318445Z",
     "iopub.status.busy": "2025-07-30T13:06:30.317893Z",
     "iopub.status.idle": "2025-07-30T13:06:31.214237Z",
     "shell.execute_reply": "2025-07-30T13:06:31.213131Z"
    },
    "papermill": {
     "duration": 0.925286,
     "end_time": "2025-07-30T13:06:31.216105",
     "exception": false,
     "start_time": "2025-07-30T13:06:30.290819",
     "status": "completed"
    },
    "tags": []
   },
   "outputs": [],
   "source": [
    "from fairness_multiverse.conformal import predict_conformal_sets\n",
    "\n",
    "# Generate prediction sets for each test example\n",
    "pred_sets = predict_conformal_sets(model, X_test, q_hat)"
   ]
  },
  {
   "cell_type": "code",
   "execution_count": 54,
   "id": "d90c9a65-e6db-4f5d-80cd-e68fb7e46829",
   "metadata": {
    "execution": {
     "iopub.execute_input": "2025-07-30T13:06:31.270770Z",
     "iopub.status.busy": "2025-07-30T13:06:31.270256Z",
     "iopub.status.idle": "2025-07-30T13:06:31.276555Z",
     "shell.execute_reply": "2025-07-30T13:06:31.275479Z"
    },
    "papermill": {
     "duration": 0.035029,
     "end_time": "2025-07-30T13:06:31.277961",
     "exception": false,
     "start_time": "2025-07-30T13:06:31.242932",
     "status": "completed"
    },
    "tags": []
   },
   "outputs": [],
   "source": [
    "y_true = y_true.squeeze()"
   ]
  },
  {
   "cell_type": "code",
   "execution_count": 55,
   "id": "3a58a54a-1e68-46b9-927a-df01f18aebc8",
   "metadata": {
    "execution": {
     "iopub.execute_input": "2025-07-30T13:06:31.328171Z",
     "iopub.status.busy": "2025-07-30T13:06:31.327681Z",
     "iopub.status.idle": "2025-07-30T13:06:32.339322Z",
     "shell.execute_reply": "2025-07-30T13:06:32.338573Z"
    },
    "papermill": {
     "duration": 1.040056,
     "end_time": "2025-07-30T13:06:32.341023",
     "exception": false,
     "start_time": "2025-07-30T13:06:31.300967",
     "status": "completed"
    },
    "tags": []
   },
   "outputs": [],
   "source": [
    "from fairness_multiverse.conformal import evaluate_sets\n",
    "\n",
    "# Evaluate coverage and average set size on test data\n",
    "metrics = evaluate_sets(pred_sets, y_true)"
   ]
  },
  {
   "cell_type": "markdown",
   "id": "2b569c12-9aaa-4c88-98c9-bbcd0cf3ebb8",
   "metadata": {
    "papermill": {
     "duration": 0.023911,
     "end_time": "2025-07-30T13:06:32.392931",
     "exception": false,
     "start_time": "2025-07-30T13:06:32.369020",
     "status": "completed"
    },
    "tags": []
   },
   "source": [
    "# CP Metrics"
   ]
  },
  {
   "cell_type": "code",
   "execution_count": 56,
   "id": "5ce0a5cb-201f-45a0-ade5-94c7f0bd6095",
   "metadata": {
    "execution": {
     "iopub.execute_input": "2025-07-30T13:06:32.442718Z",
     "iopub.status.busy": "2025-07-30T13:06:32.442164Z",
     "iopub.status.idle": "2025-07-30T13:06:32.450546Z",
     "shell.execute_reply": "2025-07-30T13:06:32.449469Z"
    },
    "papermill": {
     "duration": 0.035617,
     "end_time": "2025-07-30T13:06:32.452188",
     "exception": false,
     "start_time": "2025-07-30T13:06:32.416571",
     "status": "completed"
    },
    "tags": []
   },
   "outputs": [
    {
     "data": {
      "text/plain": [
       "{'coverage': 0.9115929104893545, 'avg_size': 1.1246906699364618}"
      ]
     },
     "execution_count": 56,
     "metadata": {},
     "output_type": "execute_result"
    }
   ],
   "source": [
    "metrics"
   ]
  },
  {
   "cell_type": "code",
   "execution_count": 57,
   "id": "9b9a838d-31c9-430b-ae14-12baee460d17",
   "metadata": {
    "execution": {
     "iopub.execute_input": "2025-07-30T13:06:32.505296Z",
     "iopub.status.busy": "2025-07-30T13:06:32.504839Z",
     "iopub.status.idle": "2025-07-30T13:06:32.511191Z",
     "shell.execute_reply": "2025-07-30T13:06:32.510212Z"
    },
    "papermill": {
     "duration": 0.035093,
     "end_time": "2025-07-30T13:06:32.512816",
     "exception": false,
     "start_time": "2025-07-30T13:06:32.477723",
     "status": "completed"
    },
    "tags": []
   },
   "outputs": [],
   "source": [
    "example_universe = universe.copy()\n",
    "universe_training_size = example_universe.get(\"training_size\")\n",
    "universe_scale = example_universe.get(\"scale\")\n",
    "universe_model = example_universe.get(\"model\")\n",
    "universe_exclude_features = example_universe.get(\"exclude_features\")\n",
    "universe_exclude_subgroups = example_universe.get(\"exclude_subgroups\")"
   ]
  },
  {
   "cell_type": "code",
   "execution_count": 58,
   "id": "f4b6a8ac-9dc0-4245-8a91-5b3b5999c4f9",
   "metadata": {
    "execution": {
     "iopub.execute_input": "2025-07-30T13:06:32.567381Z",
     "iopub.status.busy": "2025-07-30T13:06:32.566948Z",
     "iopub.status.idle": "2025-07-30T13:06:32.571750Z",
     "shell.execute_reply": "2025-07-30T13:06:32.571046Z"
    },
    "papermill": {
     "duration": 0.036598,
     "end_time": "2025-07-30T13:06:32.577517",
     "exception": false,
     "start_time": "2025-07-30T13:06:32.540919",
     "status": "completed"
    },
    "tags": []
   },
   "outputs": [],
   "source": [
    "cp_metrics_dict = {\n",
    "    \"universe_id\": [universe_id],\n",
    "    \"universe_training_size\": [universe_training_size],\n",
    "    \"universe_scale\": [universe_scale],\n",
    "    \"universe_model\": [universe_model],\n",
    "    \"universe_exclude_features\": [universe_exclude_features],\n",
    "    \"universe_exclude_subgroups\": [universe_exclude_subgroups],\n",
    "    \"q_hat\": [q_hat],\n",
    "    \"coverage\": [metrics[\"coverage\"]],\n",
    "    \"avg_size\": [metrics[\"avg_size\"]],\n",
    "}"
   ]
  },
  {
   "cell_type": "code",
   "execution_count": 59,
   "id": "908acbb1-0371-4915-85ca-3fa520d2efe2",
   "metadata": {
    "execution": {
     "iopub.execute_input": "2025-07-30T13:06:32.610499Z",
     "iopub.status.busy": "2025-07-30T13:06:32.609987Z",
     "iopub.status.idle": "2025-07-30T13:06:32.616895Z",
     "shell.execute_reply": "2025-07-30T13:06:32.616118Z"
    },
    "papermill": {
     "duration": 0.025154,
     "end_time": "2025-07-30T13:06:32.618255",
     "exception": false,
     "start_time": "2025-07-30T13:06:32.593101",
     "status": "completed"
    },
    "tags": []
   },
   "outputs": [
    {
     "data": {
      "text/plain": [
       "{'universe_id': ['5174d50927a6b3da0327a1cf44d995a4'],\n",
       " 'universe_training_size': ['25k'],\n",
       " 'universe_scale': ['scale'],\n",
       " 'universe_model': ['penalized_logreg'],\n",
       " 'universe_exclude_features': ['nationality-sex'],\n",
       " 'universe_exclude_subgroups': ['keep-all'],\n",
       " 'q_hat': [0.664171445530851],\n",
       " 'coverage': [0.9115929104893545],\n",
       " 'avg_size': [1.1246906699364618]}"
      ]
     },
     "execution_count": 59,
     "metadata": {},
     "output_type": "execute_result"
    }
   ],
   "source": [
    "cp_metrics_dict"
   ]
  },
  {
   "cell_type": "code",
   "execution_count": 60,
   "id": "33007efc-14e9-4ec6-97ac-56a455c82265",
   "metadata": {
    "execution": {
     "iopub.execute_input": "2025-07-30T13:06:32.661011Z",
     "iopub.status.busy": "2025-07-30T13:06:32.660556Z",
     "iopub.status.idle": "2025-07-30T13:06:32.667184Z",
     "shell.execute_reply": "2025-07-30T13:06:32.666067Z"
    },
    "papermill": {
     "duration": 0.036889,
     "end_time": "2025-07-30T13:06:32.668937",
     "exception": false,
     "start_time": "2025-07-30T13:06:32.632048",
     "status": "completed"
    },
    "tags": []
   },
   "outputs": [],
   "source": [
    "cp_metrics_df = pd.DataFrame(cp_metrics_dict)"
   ]
  },
  {
   "cell_type": "code",
   "execution_count": 61,
   "id": "db12611b-57b2-4910-b9d0-355adfd6e7bf",
   "metadata": {
    "execution": {
     "iopub.execute_input": "2025-07-30T13:06:32.728495Z",
     "iopub.status.busy": "2025-07-30T13:06:32.727399Z",
     "iopub.status.idle": "2025-07-30T13:06:32.751249Z",
     "shell.execute_reply": "2025-07-30T13:06:32.749759Z"
    },
    "papermill": {
     "duration": 0.055515,
     "end_time": "2025-07-30T13:06:32.753681",
     "exception": false,
     "start_time": "2025-07-30T13:06:32.698166",
     "status": "completed"
    },
    "tags": []
   },
   "outputs": [
    {
     "data": {
      "text/html": [
       "<div>\n",
       "<style scoped>\n",
       "    .dataframe tbody tr th:only-of-type {\n",
       "        vertical-align: middle;\n",
       "    }\n",
       "\n",
       "    .dataframe tbody tr th {\n",
       "        vertical-align: top;\n",
       "    }\n",
       "\n",
       "    .dataframe thead th {\n",
       "        text-align: right;\n",
       "    }\n",
       "</style>\n",
       "<table border=\"1\" class=\"dataframe\">\n",
       "  <thead>\n",
       "    <tr style=\"text-align: right;\">\n",
       "      <th></th>\n",
       "      <th>universe_id</th>\n",
       "      <th>universe_training_size</th>\n",
       "      <th>universe_scale</th>\n",
       "      <th>universe_model</th>\n",
       "      <th>universe_exclude_features</th>\n",
       "      <th>universe_exclude_subgroups</th>\n",
       "      <th>q_hat</th>\n",
       "      <th>coverage</th>\n",
       "      <th>avg_size</th>\n",
       "    </tr>\n",
       "  </thead>\n",
       "  <tbody>\n",
       "    <tr>\n",
       "      <th>0</th>\n",
       "      <td>5174d50927a6b3da0327a1cf44d995a4</td>\n",
       "      <td>25k</td>\n",
       "      <td>scale</td>\n",
       "      <td>penalized_logreg</td>\n",
       "      <td>nationality-sex</td>\n",
       "      <td>keep-all</td>\n",
       "      <td>0.664171</td>\n",
       "      <td>0.911593</td>\n",
       "      <td>1.124691</td>\n",
       "    </tr>\n",
       "  </tbody>\n",
       "</table>\n",
       "</div>"
      ],
      "text/plain": [
       "                        universe_id universe_training_size universe_scale  \\\n",
       "0  5174d50927a6b3da0327a1cf44d995a4                    25k          scale   \n",
       "\n",
       "     universe_model universe_exclude_features universe_exclude_subgroups  \\\n",
       "0  penalized_logreg           nationality-sex                   keep-all   \n",
       "\n",
       "      q_hat  coverage  avg_size  \n",
       "0  0.664171  0.911593  1.124691  "
      ]
     },
     "execution_count": 61,
     "metadata": {},
     "output_type": "execute_result"
    }
   ],
   "source": [
    "cp_metrics_df"
   ]
  },
  {
   "cell_type": "code",
   "execution_count": 62,
   "id": "b7fbde55-a0a1-47e4-9af6-fe4a17fa8c61",
   "metadata": {
    "execution": {
     "iopub.execute_input": "2025-07-30T13:06:32.813272Z",
     "iopub.status.busy": "2025-07-30T13:06:32.812827Z",
     "iopub.status.idle": "2025-07-30T13:06:32.818263Z",
     "shell.execute_reply": "2025-07-30T13:06:32.817423Z"
    },
    "papermill": {
     "duration": 0.038566,
     "end_time": "2025-07-30T13:06:32.820099",
     "exception": false,
     "start_time": "2025-07-30T13:06:32.781533",
     "status": "completed"
    },
    "tags": []
   },
   "outputs": [],
   "source": [
    "# Conditional Coverage & looking at subgroups"
   ]
  },
  {
   "cell_type": "code",
   "execution_count": 63,
   "id": "027ae886-68dd-4141-96c7-805a5450e1ef",
   "metadata": {
    "execution": {
     "iopub.execute_input": "2025-07-30T13:06:32.878645Z",
     "iopub.status.busy": "2025-07-30T13:06:32.878159Z",
     "iopub.status.idle": "2025-07-30T13:06:33.140619Z",
     "shell.execute_reply": "2025-07-30T13:06:33.139422Z"
    },
    "papermill": {
     "duration": 0.29323,
     "end_time": "2025-07-30T13:06:33.142741",
     "exception": false,
     "start_time": "2025-07-30T13:06:32.849511",
     "status": "completed"
    },
    "tags": []
   },
   "outputs": [],
   "source": [
    "from fairness_multiverse.conformal import build_cp_groups\n",
    "\n",
    "cp_groups_df = build_cp_groups(pred_sets, y_true, X_test.index, org_test)\n",
    "#needs universe_id and setting"
   ]
  },
  {
   "cell_type": "code",
   "execution_count": 64,
   "id": "01d5802c-663a-4d1f-9d69-e036faaffbf7",
   "metadata": {
    "execution": {
     "iopub.execute_input": "2025-07-30T13:06:33.193317Z",
     "iopub.status.busy": "2025-07-30T13:06:33.192939Z",
     "iopub.status.idle": "2025-07-30T13:06:33.197311Z",
     "shell.execute_reply": "2025-07-30T13:06:33.196493Z"
    },
    "papermill": {
     "duration": 0.026608,
     "end_time": "2025-07-30T13:06:33.198859",
     "exception": false,
     "start_time": "2025-07-30T13:06:33.172251",
     "status": "completed"
    },
    "tags": []
   },
   "outputs": [],
   "source": [
    "#delete\n",
    "#cp_groups_df"
   ]
  },
  {
   "cell_type": "code",
   "execution_count": 65,
   "id": "fa424af1-d1eb-443d-b717-2d279ada8408",
   "metadata": {
    "execution": {
     "iopub.execute_input": "2025-07-30T13:06:33.231529Z",
     "iopub.status.busy": "2025-07-30T13:06:33.230741Z",
     "iopub.status.idle": "2025-07-30T13:06:33.235522Z",
     "shell.execute_reply": "2025-07-30T13:06:33.234752Z"
    },
    "papermill": {
     "duration": 0.021986,
     "end_time": "2025-07-30T13:06:33.236888",
     "exception": false,
     "start_time": "2025-07-30T13:06:33.214902",
     "status": "completed"
    },
    "tags": []
   },
   "outputs": [],
   "source": [
    "#delete\n",
    "#percentage = (cp_groups_df['nongerman_female'] == 1).mean() * 100\n",
    "#print(percentage)\n"
   ]
  },
  {
   "cell_type": "code",
   "execution_count": 66,
   "id": "6cbdab96-b2b2-45af-ad54-d0516db2e28d",
   "metadata": {
    "execution": {
     "iopub.execute_input": "2025-07-30T13:06:33.269464Z",
     "iopub.status.busy": "2025-07-30T13:06:33.268943Z",
     "iopub.status.idle": "2025-07-30T13:06:34.457284Z",
     "shell.execute_reply": "2025-07-30T13:06:34.456330Z"
    },
    "papermill": {
     "duration": 1.206442,
     "end_time": "2025-07-30T13:06:34.459280",
     "exception": false,
     "start_time": "2025-07-30T13:06:33.252838",
     "status": "completed"
    },
    "tags": []
   },
   "outputs": [],
   "source": [
    "# Define covered = 1 if true_label is in the predicted set\n",
    "cp_groups_df['covered'] = cp_groups_df.apply(\n",
    "    lambda r: int(r['true_label'] in r['pred_set']),\n",
    "    axis=1\n",
    ")"
   ]
  },
  {
   "cell_type": "code",
   "execution_count": 67,
   "id": "338ff529-1a6b-4b87-a931-8e4788d52aad",
   "metadata": {
    "execution": {
     "iopub.execute_input": "2025-07-30T13:06:34.520667Z",
     "iopub.status.busy": "2025-07-30T13:06:34.519770Z",
     "iopub.status.idle": "2025-07-30T13:06:34.525228Z",
     "shell.execute_reply": "2025-07-30T13:06:34.524150Z"
    },
    "papermill": {
     "duration": 0.036592,
     "end_time": "2025-07-30T13:06:34.526792",
     "exception": false,
     "start_time": "2025-07-30T13:06:34.490200",
     "status": "completed"
    },
    "tags": []
   },
   "outputs": [],
   "source": [
    "#cp_groups_df"
   ]
  },
  {
   "cell_type": "code",
   "execution_count": 68,
   "id": "90032e27-66df-4540-9169-4e89cfbaa758",
   "metadata": {
    "execution": {
     "iopub.execute_input": "2025-07-30T13:06:34.580696Z",
     "iopub.status.busy": "2025-07-30T13:06:34.580002Z",
     "iopub.status.idle": "2025-07-30T13:06:34.591688Z",
     "shell.execute_reply": "2025-07-30T13:06:34.590693Z"
    },
    "papermill": {
     "duration": 0.040253,
     "end_time": "2025-07-30T13:06:34.593483",
     "exception": false,
     "start_time": "2025-07-30T13:06:34.553230",
     "status": "completed"
    },
    "tags": []
   },
   "outputs": [],
   "source": [
    "subgroups = ['frau1','nongerman','nongerman_male','nongerman_female']\n",
    "\n",
    "# Conditional coverage for subgroup==1\n",
    "cond_coverage = {\n",
    "    g: cp_groups_df.loc[cp_groups_df[g]==1, 'covered'].mean()\n",
    "    for g in subgroups\n",
    "}"
   ]
  },
  {
   "cell_type": "code",
   "execution_count": 69,
   "id": "1e348fb1-b9c3-45bc-ba23-f016827a7e0d",
   "metadata": {
    "execution": {
     "iopub.execute_input": "2025-07-30T13:06:34.646115Z",
     "iopub.status.busy": "2025-07-30T13:06:34.645445Z",
     "iopub.status.idle": "2025-07-30T13:06:34.653193Z",
     "shell.execute_reply": "2025-07-30T13:06:34.652209Z"
    },
    "papermill": {
     "duration": 0.035839,
     "end_time": "2025-07-30T13:06:34.654793",
     "exception": false,
     "start_time": "2025-07-30T13:06:34.618954",
     "status": "completed"
    },
    "tags": []
   },
   "outputs": [
    {
     "data": {
      "text/plain": [
       "{'frau1': 0.9108235611268365,\n",
       " 'nongerman': 0.9102340986919666,\n",
       " 'nongerman_male': 0.9259659551472575,\n",
       " 'nongerman_female': 0.8842026825633383}"
      ]
     },
     "execution_count": 69,
     "metadata": {},
     "output_type": "execute_result"
    }
   ],
   "source": [
    "cond_coverage"
   ]
  },
  {
   "cell_type": "code",
   "execution_count": 70,
   "id": "f5093324-c3dd-4d63-bc4c-8d945e5c8bbb",
   "metadata": {
    "execution": {
     "iopub.execute_input": "2025-07-30T13:06:34.712798Z",
     "iopub.status.busy": "2025-07-30T13:06:34.711817Z",
     "iopub.status.idle": "2025-07-30T13:06:34.719156Z",
     "shell.execute_reply": "2025-07-30T13:06:34.718225Z"
    },
    "papermill": {
     "duration": 0.040278,
     "end_time": "2025-07-30T13:06:34.721212",
     "exception": false,
     "start_time": "2025-07-30T13:06:34.680934",
     "status": "completed"
    },
    "tags": []
   },
   "outputs": [],
   "source": [
    "for subgroup, cov in cond_coverage.items():\n",
    "    cp_metrics_df[f\"cov_{subgroup}\"] = cov"
   ]
  },
  {
   "cell_type": "code",
   "execution_count": 71,
   "id": "6e872e10-dbe5-49e8-b554-5030c98ff75d",
   "metadata": {
    "execution": {
     "iopub.execute_input": "2025-07-30T13:06:34.784889Z",
     "iopub.status.busy": "2025-07-30T13:06:34.784050Z",
     "iopub.status.idle": "2025-07-30T13:06:34.801360Z",
     "shell.execute_reply": "2025-07-30T13:06:34.800246Z"
    },
    "papermill": {
     "duration": 0.050744,
     "end_time": "2025-07-30T13:06:34.803042",
     "exception": false,
     "start_time": "2025-07-30T13:06:34.752298",
     "status": "completed"
    },
    "tags": []
   },
   "outputs": [
    {
     "data": {
      "text/html": [
       "<div>\n",
       "<style scoped>\n",
       "    .dataframe tbody tr th:only-of-type {\n",
       "        vertical-align: middle;\n",
       "    }\n",
       "\n",
       "    .dataframe tbody tr th {\n",
       "        vertical-align: top;\n",
       "    }\n",
       "\n",
       "    .dataframe thead th {\n",
       "        text-align: right;\n",
       "    }\n",
       "</style>\n",
       "<table border=\"1\" class=\"dataframe\">\n",
       "  <thead>\n",
       "    <tr style=\"text-align: right;\">\n",
       "      <th></th>\n",
       "      <th>universe_id</th>\n",
       "      <th>universe_training_size</th>\n",
       "      <th>universe_scale</th>\n",
       "      <th>universe_model</th>\n",
       "      <th>universe_exclude_features</th>\n",
       "      <th>universe_exclude_subgroups</th>\n",
       "      <th>q_hat</th>\n",
       "      <th>coverage</th>\n",
       "      <th>avg_size</th>\n",
       "      <th>cov_frau1</th>\n",
       "      <th>cov_nongerman</th>\n",
       "      <th>cov_nongerman_male</th>\n",
       "      <th>cov_nongerman_female</th>\n",
       "    </tr>\n",
       "  </thead>\n",
       "  <tbody>\n",
       "    <tr>\n",
       "      <th>0</th>\n",
       "      <td>5174d50927a6b3da0327a1cf44d995a4</td>\n",
       "      <td>25k</td>\n",
       "      <td>scale</td>\n",
       "      <td>penalized_logreg</td>\n",
       "      <td>nationality-sex</td>\n",
       "      <td>keep-all</td>\n",
       "      <td>0.664171</td>\n",
       "      <td>0.911593</td>\n",
       "      <td>1.124691</td>\n",
       "      <td>0.910824</td>\n",
       "      <td>0.910234</td>\n",
       "      <td>0.925966</td>\n",
       "      <td>0.884203</td>\n",
       "    </tr>\n",
       "  </tbody>\n",
       "</table>\n",
       "</div>"
      ],
      "text/plain": [
       "                        universe_id universe_training_size universe_scale  \\\n",
       "0  5174d50927a6b3da0327a1cf44d995a4                    25k          scale   \n",
       "\n",
       "     universe_model universe_exclude_features universe_exclude_subgroups  \\\n",
       "0  penalized_logreg           nationality-sex                   keep-all   \n",
       "\n",
       "      q_hat  coverage  avg_size  cov_frau1  cov_nongerman  cov_nongerman_male  \\\n",
       "0  0.664171  0.911593  1.124691   0.910824       0.910234            0.925966   \n",
       "\n",
       "   cov_nongerman_female  \n",
       "0              0.884203  "
      ]
     },
     "execution_count": 71,
     "metadata": {},
     "output_type": "execute_result"
    }
   ],
   "source": [
    "cp_metrics_df"
   ]
  },
  {
   "cell_type": "markdown",
   "id": "33774451",
   "metadata": {
    "papermill": {
     "duration": 0.029191,
     "end_time": "2025-07-30T13:06:34.864344",
     "exception": false,
     "start_time": "2025-07-30T13:06:34.835153",
     "status": "completed"
    },
    "tags": []
   },
   "source": [
    "# (Fairness) Metrics"
   ]
  },
  {
   "cell_type": "code",
   "execution_count": 72,
   "id": "debc5d62",
   "metadata": {
    "execution": {
     "iopub.execute_input": "2025-07-30T13:06:34.916324Z",
     "iopub.status.busy": "2025-07-30T13:06:34.915433Z",
     "iopub.status.idle": "2025-07-30T13:06:34.939194Z",
     "shell.execute_reply": "2025-07-30T13:06:34.938229Z"
    },
    "papermill": {
     "duration": 0.050877,
     "end_time": "2025-07-30T13:06:34.941056",
     "exception": false,
     "start_time": "2025-07-30T13:06:34.890179",
     "status": "completed"
    },
    "tags": []
   },
   "outputs": [],
   "source": [
    "# do I need to include maxdeutsch1.missing?\n",
    "\n",
    "import numpy as np\n",
    "\n",
    "colname_to_bin = \"maxdeutsch1\"\n",
    "majority_value = org_train[colname_to_bin].mode()[0]\n",
    "\n",
    "org_test[\"majmin\"] = np.where(org_test[colname_to_bin] == majority_value, \"majority\", \"minority\")"
   ]
  },
  {
   "cell_type": "code",
   "execution_count": 73,
   "id": "06a50de5",
   "metadata": {
    "execution": {
     "iopub.execute_input": "2025-07-30T13:06:34.993309Z",
     "iopub.status.busy": "2025-07-30T13:06:34.992797Z",
     "iopub.status.idle": "2025-07-30T13:06:38.119864Z",
     "shell.execute_reply": "2025-07-30T13:06:38.118836Z"
    },
    "papermill": {
     "duration": 3.155203,
     "end_time": "2025-07-30T13:06:38.121878",
     "exception": false,
     "start_time": "2025-07-30T13:06:34.966675",
     "status": "completed"
    },
    "tags": []
   },
   "outputs": [],
   "source": [
    "example_universe = universe.copy()\n",
    "example_universe[\"cutoff\"] = example_universe[\"cutoff\"][0]\n",
    "example_universe[\"eval_fairness_grouping\"] = example_universe[\"eval_fairness_grouping\"][0]\n",
    "fairness_dict, metric_frame = universe_analysis.compute_metrics(\n",
    "    example_universe,\n",
    "    y_pred_prob=probs_test,\n",
    "    y_test=y_true,\n",
    "    org_test=org_test,\n",
    ")"
   ]
  },
  {
   "cell_type": "markdown",
   "id": "f95d4e02",
   "metadata": {
    "papermill": {
     "duration": 0.028831,
     "end_time": "2025-07-30T13:06:38.182876",
     "exception": false,
     "start_time": "2025-07-30T13:06:38.154045",
     "status": "completed"
    },
    "tags": []
   },
   "source": [
    "# Overall"
   ]
  },
  {
   "cell_type": "markdown",
   "id": "bdee4871",
   "metadata": {
    "papermill": {
     "duration": 0.02796,
     "end_time": "2025-07-30T13:06:38.239175",
     "exception": false,
     "start_time": "2025-07-30T13:06:38.211215",
     "status": "completed"
    },
    "tags": []
   },
   "source": [
    "Fairness\n",
    "Main fairness target: Equalized Odds. Seems to be a better fit than equal opportunity, since we're not only interested in Y = 1. Seems to be a better fit than demographic parity, since we also care about accuracy, not just equal distribution of preds.\n",
    "\n",
    "Pick column for computation of fairness metrics\n",
    "\n",
    "Performance\n",
    "Overall performance measures, most interesting in relation to the measures split by group below"
   ]
  },
  {
   "cell_type": "code",
   "execution_count": 74,
   "id": "c4e067c6",
   "metadata": {
    "execution": {
     "iopub.execute_input": "2025-07-30T13:06:38.297954Z",
     "iopub.status.busy": "2025-07-30T13:06:38.297275Z",
     "iopub.status.idle": "2025-07-30T13:06:38.305591Z",
     "shell.execute_reply": "2025-07-30T13:06:38.304626Z"
    },
    "papermill": {
     "duration": 0.040151,
     "end_time": "2025-07-30T13:06:38.307250",
     "exception": false,
     "start_time": "2025-07-30T13:06:38.267099",
     "status": "completed"
    },
    "tags": []
   },
   "outputs": [
    {
     "data": {
      "text/plain": [
       "accuracy                   0.225449\n",
       "balanced accuracy          0.551028\n",
       "f1                         0.246751\n",
       "precision                  0.140960\n",
       "false positive rate        0.886908\n",
       "false negative rate        0.011036\n",
       "selection rate             0.900000\n",
       "count                  89710.000000\n",
       "dtype: float64"
      ]
     },
     "execution_count": 74,
     "metadata": {},
     "output_type": "execute_result"
    }
   ],
   "source": [
    "metric_frame.overall"
   ]
  },
  {
   "cell_type": "markdown",
   "id": "e968fe9d",
   "metadata": {
    "papermill": {
     "duration": 0.02874,
     "end_time": "2025-07-30T13:06:38.365219",
     "exception": false,
     "start_time": "2025-07-30T13:06:38.336479",
     "status": "completed"
    },
    "tags": []
   },
   "source": [
    "By Group"
   ]
  },
  {
   "cell_type": "code",
   "execution_count": 75,
   "id": "ec325bce",
   "metadata": {
    "execution": {
     "iopub.execute_input": "2025-07-30T13:06:38.427415Z",
     "iopub.status.busy": "2025-07-30T13:06:38.426723Z",
     "iopub.status.idle": "2025-07-30T13:06:38.443768Z",
     "shell.execute_reply": "2025-07-30T13:06:38.442733Z"
    },
    "papermill": {
     "duration": 0.050069,
     "end_time": "2025-07-30T13:06:38.445518",
     "exception": false,
     "start_time": "2025-07-30T13:06:38.395449",
     "status": "completed"
    },
    "tags": []
   },
   "outputs": [
    {
     "data": {
      "text/html": [
       "<div>\n",
       "<style scoped>\n",
       "    .dataframe tbody tr th:only-of-type {\n",
       "        vertical-align: middle;\n",
       "    }\n",
       "\n",
       "    .dataframe tbody tr th {\n",
       "        vertical-align: top;\n",
       "    }\n",
       "\n",
       "    .dataframe thead th {\n",
       "        text-align: right;\n",
       "    }\n",
       "</style>\n",
       "<table border=\"1\" class=\"dataframe\">\n",
       "  <thead>\n",
       "    <tr style=\"text-align: right;\">\n",
       "      <th></th>\n",
       "      <th>accuracy</th>\n",
       "      <th>balanced accuracy</th>\n",
       "      <th>f1</th>\n",
       "      <th>precision</th>\n",
       "      <th>false positive rate</th>\n",
       "      <th>false negative rate</th>\n",
       "      <th>selection rate</th>\n",
       "      <th>count</th>\n",
       "    </tr>\n",
       "    <tr>\n",
       "      <th>majmin</th>\n",
       "      <th></th>\n",
       "      <th></th>\n",
       "      <th></th>\n",
       "      <th></th>\n",
       "      <th></th>\n",
       "      <th></th>\n",
       "      <th></th>\n",
       "      <th></th>\n",
       "    </tr>\n",
       "  </thead>\n",
       "  <tbody>\n",
       "    <tr>\n",
       "      <th>majority</th>\n",
       "      <td>0.247550</td>\n",
       "      <td>0.561344</td>\n",
       "      <td>0.257585</td>\n",
       "      <td>0.148101</td>\n",
       "      <td>0.865167</td>\n",
       "      <td>0.012144</td>\n",
       "      <td>0.881379</td>\n",
       "      <td>69170.0</td>\n",
       "    </tr>\n",
       "    <tr>\n",
       "      <th>minority</th>\n",
       "      <td>0.151022</td>\n",
       "      <td>0.517258</td>\n",
       "      <td>0.212447</td>\n",
       "      <td>0.118944</td>\n",
       "      <td>0.958728</td>\n",
       "      <td>0.006757</td>\n",
       "      <td>0.962707</td>\n",
       "      <td>20540.0</td>\n",
       "    </tr>\n",
       "  </tbody>\n",
       "</table>\n",
       "</div>"
      ],
      "text/plain": [
       "          accuracy  balanced accuracy        f1  precision  \\\n",
       "majmin                                                       \n",
       "majority  0.247550           0.561344  0.257585   0.148101   \n",
       "minority  0.151022           0.517258  0.212447   0.118944   \n",
       "\n",
       "          false positive rate  false negative rate  selection rate    count  \n",
       "majmin                                                                       \n",
       "majority             0.865167             0.012144        0.881379  69170.0  \n",
       "minority             0.958728             0.006757        0.962707  20540.0  "
      ]
     },
     "execution_count": 75,
     "metadata": {},
     "output_type": "execute_result"
    }
   ],
   "source": [
    "metric_frame.by_group"
   ]
  },
  {
   "cell_type": "code",
   "execution_count": 76,
   "id": "a9ddbe63",
   "metadata": {
    "execution": {
     "iopub.execute_input": "2025-07-30T13:06:38.509723Z",
     "iopub.status.busy": "2025-07-30T13:06:38.509078Z",
     "iopub.status.idle": "2025-07-30T13:06:41.047377Z",
     "shell.execute_reply": "2025-07-30T13:06:41.046516Z"
    },
    "papermill": {
     "duration": 2.571711,
     "end_time": "2025-07-30T13:06:41.048980",
     "exception": false,
     "start_time": "2025-07-30T13:06:38.477269",
     "status": "completed"
    },
    "tags": []
   },
   "outputs": [
    {
     "data": {
      "text/plain": [
       "array([[<Axes: title={'center': 'accuracy'}, xlabel='majmin'>,\n",
       "        <Axes: title={'center': 'balanced accuracy'}, xlabel='majmin'>,\n",
       "        <Axes: title={'center': 'f1'}, xlabel='majmin'>],\n",
       "       [<Axes: title={'center': 'precision'}, xlabel='majmin'>,\n",
       "        <Axes: title={'center': 'false positive rate'}, xlabel='majmin'>,\n",
       "        <Axes: title={'center': 'false negative rate'}, xlabel='majmin'>],\n",
       "       [<Axes: title={'center': 'selection rate'}, xlabel='majmin'>,\n",
       "        <Axes: title={'center': 'count'}, xlabel='majmin'>,\n",
       "        <Axes: xlabel='majmin'>]], dtype=object)"
      ]
     },
     "execution_count": 76,
     "metadata": {},
     "output_type": "execute_result"
    },
    {
     "data": {
      "image/png": "[encoded data removed]",
      "text/plain": [
       "<Figure size 1200x800 with 9 Axes>"
      ]
     },
     "metadata": {},
     "output_type": "display_data"
    }
   ],
   "source": [
    "# In a graphic\n",
    "metric_frame.by_group.plot.bar(\n",
    "    subplots=True,\n",
    "    layout=[3, 3],\n",
    "    legend=False,\n",
    "    figsize=[12, 8],\n",
    "    title=\"Show all metrics\",\n",
    ")"
   ]
  },
  {
   "cell_type": "markdown",
   "id": "f57a0bac",
   "metadata": {
    "papermill": {
     "duration": 0.030535,
     "end_time": "2025-07-30T13:06:41.110449",
     "exception": false,
     "start_time": "2025-07-30T13:06:41.079914",
     "status": "completed"
    },
    "tags": []
   },
   "source": [
    "# Final Output"
   ]
  },
  {
   "cell_type": "code",
   "execution_count": 77,
   "id": "96d280a3",
   "metadata": {
    "execution": {
     "iopub.execute_input": "2025-07-30T13:06:41.173622Z",
     "iopub.status.busy": "2025-07-30T13:06:41.172975Z",
     "iopub.status.idle": "2025-07-30T13:06:41.181212Z",
     "shell.execute_reply": "2025-07-30T13:06:41.180113Z"
    },
    "papermill": {
     "duration": 0.041724,
     "end_time": "2025-07-30T13:06:41.182809",
     "exception": false,
     "start_time": "2025-07-30T13:06:41.141085",
     "status": "completed"
    },
    "tags": []
   },
   "outputs": [
    {
     "data": {
      "text/plain": [
       "4"
      ]
     },
     "execution_count": 77,
     "metadata": {},
     "output_type": "execute_result"
    }
   ],
   "source": [
    "sub_universes = universe_analysis.generate_sub_universes()\n",
    "len(sub_universes)"
   ]
  },
  {
   "cell_type": "code",
   "execution_count": 78,
   "id": "92adf7ba",
   "metadata": {
    "execution": {
     "iopub.execute_input": "2025-07-30T13:06:41.229186Z",
     "iopub.status.busy": "2025-07-30T13:06:41.228728Z",
     "iopub.status.idle": "2025-07-30T13:06:41.233578Z",
     "shell.execute_reply": "2025-07-30T13:06:41.232808Z"
    },
    "papermill": {
     "duration": 0.023518,
     "end_time": "2025-07-30T13:06:41.234917",
     "exception": false,
     "start_time": "2025-07-30T13:06:41.211399",
     "status": "completed"
    },
    "tags": []
   },
   "outputs": [],
   "source": [
    "def filter_sub_universe_data(sub_universe, org_test):\n",
    "    # Keep all rows — no filtering\n",
    "    keep_rows_mask = np.ones(org_test.shape[0], dtype=bool)\n",
    "\n",
    "    print(f\"[INFO] Keeping all rows: {keep_rows_mask.sum()} rows retained.\")\n",
    "    return keep_rows_mask"
   ]
  },
  {
   "cell_type": "code",
   "execution_count": 79,
   "id": "4a759155",
   "metadata": {
    "execution": {
     "iopub.execute_input": "2025-07-30T13:06:41.267999Z",
     "iopub.status.busy": "2025-07-30T13:06:41.267341Z",
     "iopub.status.idle": "2025-07-30T13:06:52.372917Z",
     "shell.execute_reply": "2025-07-30T13:06:52.371923Z"
    },
    "papermill": {
     "duration": 11.123221,
     "end_time": "2025-07-30T13:06:52.374670",
     "exception": false,
     "start_time": "2025-07-30T13:06:41.251449",
     "status": "completed"
    },
    "tags": []
   },
   "outputs": [
    {
     "name": "stdout",
     "output_type": "stream",
     "text": [
      "Stopping execution_time clock.\n",
      "[INFO] Keeping all rows: 89710 rows retained.\n"
     ]
    },
    {
     "name": "stdout",
     "output_type": "stream",
     "text": [
      "[INFO] Keeping all rows: 89710 rows retained.\n"
     ]
    },
    {
     "name": "stdout",
     "output_type": "stream",
     "text": [
      "[INFO] Keeping all rows: 89710 rows retained.\n"
     ]
    },
    {
     "name": "stdout",
     "output_type": "stream",
     "text": [
      "[INFO] Keeping all rows: 89710 rows retained.\n"
     ]
    },
    {
     "data": {
      "text/html": [
       "<div>\n",
       "<style scoped>\n",
       "    .dataframe tbody tr th:only-of-type {\n",
       "        vertical-align: middle;\n",
       "    }\n",
       "\n",
       "    .dataframe tbody tr th {\n",
       "        vertical-align: top;\n",
       "    }\n",
       "\n",
       "    .dataframe thead th {\n",
       "        text-align: right;\n",
       "    }\n",
       "</style>\n",
       "<table border=\"1\" class=\"dataframe\">\n",
       "  <thead>\n",
       "    <tr style=\"text-align: right;\">\n",
       "      <th></th>\n",
       "      <th>run_no</th>\n",
       "      <th>universe_id</th>\n",
       "      <th>universe_settings</th>\n",
       "      <th>execution_time</th>\n",
       "      <th>test_size_n</th>\n",
       "      <th>test_size_frac</th>\n",
       "      <th>fair_main_equalized_odds_difference</th>\n",
       "      <th>fair_main_equalized_odds_ratio</th>\n",
       "      <th>fair_main_demographic_parity_difference</th>\n",
       "      <th>fair_main_demographic_parity_ratio</th>\n",
       "      <th>...</th>\n",
       "      <th>perf_grp_precision_0</th>\n",
       "      <th>perf_grp_precision_1</th>\n",
       "      <th>perf_grp_false positive rate_0</th>\n",
       "      <th>perf_grp_false positive rate_1</th>\n",
       "      <th>perf_grp_false negative rate_0</th>\n",
       "      <th>perf_grp_false negative rate_1</th>\n",
       "      <th>perf_grp_selection rate_0</th>\n",
       "      <th>perf_grp_selection rate_1</th>\n",
       "      <th>perf_grp_count_0</th>\n",
       "      <th>perf_grp_count_1</th>\n",
       "    </tr>\n",
       "  </thead>\n",
       "  <tbody>\n",
       "    <tr>\n",
       "      <th>0</th>\n",
       "      <td>12</td>\n",
       "      <td>5174d50927a6b3da0327a1cf44d995a4</td>\n",
       "      <td>{\"cutoff\": \"quantile_0.1\", \"eval_fairness_grou...</td>\n",
       "      <td>27.930385</td>\n",
       "      <td>89710</td>\n",
       "      <td>1.0</td>\n",
       "      <td>0.093560</td>\n",
       "      <td>0.902412</td>\n",
       "      <td>0.081328</td>\n",
       "      <td>0.915522</td>\n",
       "      <td>...</td>\n",
       "      <td>NaN</td>\n",
       "      <td>NaN</td>\n",
       "      <td>NaN</td>\n",
       "      <td>NaN</td>\n",
       "      <td>NaN</td>\n",
       "      <td>NaN</td>\n",
       "      <td>NaN</td>\n",
       "      <td>NaN</td>\n",
       "      <td>NaN</td>\n",
       "      <td>NaN</td>\n",
       "    </tr>\n",
       "    <tr>\n",
       "      <th>0</th>\n",
       "      <td>12</td>\n",
       "      <td>5174d50927a6b3da0327a1cf44d995a4</td>\n",
       "      <td>{\"cutoff\": \"quantile_0.1\", \"eval_fairness_grou...</td>\n",
       "      <td>27.930385</td>\n",
       "      <td>89710</td>\n",
       "      <td>1.0</td>\n",
       "      <td>0.093560</td>\n",
       "      <td>0.902412</td>\n",
       "      <td>0.081328</td>\n",
       "      <td>0.915522</td>\n",
       "      <td>...</td>\n",
       "      <td>0.118944</td>\n",
       "      <td>0.148101</td>\n",
       "      <td>0.958728</td>\n",
       "      <td>0.865167</td>\n",
       "      <td>0.006757</td>\n",
       "      <td>0.012144</td>\n",
       "      <td>0.962707</td>\n",
       "      <td>0.881379</td>\n",
       "      <td>20540.0</td>\n",
       "      <td>69170.0</td>\n",
       "    </tr>\n",
       "    <tr>\n",
       "      <th>0</th>\n",
       "      <td>12</td>\n",
       "      <td>5174d50927a6b3da0327a1cf44d995a4</td>\n",
       "      <td>{\"cutoff\": \"quantile_0.25\", \"eval_fairness_gro...</td>\n",
       "      <td>27.930385</td>\n",
       "      <td>89710</td>\n",
       "      <td>1.0</td>\n",
       "      <td>0.160579</td>\n",
       "      <td>0.809689</td>\n",
       "      <td>0.139471</td>\n",
       "      <td>0.837379</td>\n",
       "      <td>...</td>\n",
       "      <td>NaN</td>\n",
       "      <td>NaN</td>\n",
       "      <td>NaN</td>\n",
       "      <td>NaN</td>\n",
       "      <td>NaN</td>\n",
       "      <td>NaN</td>\n",
       "      <td>NaN</td>\n",
       "      <td>NaN</td>\n",
       "      <td>NaN</td>\n",
       "      <td>NaN</td>\n",
       "    </tr>\n",
       "    <tr>\n",
       "      <th>0</th>\n",
       "      <td>12</td>\n",
       "      <td>5174d50927a6b3da0327a1cf44d995a4</td>\n",
       "      <td>{\"cutoff\": \"quantile_0.25\", \"eval_fairness_gro...</td>\n",
       "      <td>27.930385</td>\n",
       "      <td>89710</td>\n",
       "      <td>1.0</td>\n",
       "      <td>0.160579</td>\n",
       "      <td>0.809689</td>\n",
       "      <td>0.139471</td>\n",
       "      <td>0.837379</td>\n",
       "      <td>...</td>\n",
       "      <td>0.129598</td>\n",
       "      <td>0.174410</td>\n",
       "      <td>0.843771</td>\n",
       "      <td>0.683192</td>\n",
       "      <td>0.035895</td>\n",
       "      <td>0.052079</td>\n",
       "      <td>0.857644</td>\n",
       "      <td>0.718173</td>\n",
       "      <td>20540.0</td>\n",
       "      <td>69170.0</td>\n",
       "    </tr>\n",
       "  </tbody>\n",
       "</table>\n",
       "<p>4 rows × 50 columns</p>\n",
       "</div>"
      ],
      "text/plain": [
       "  run_no                       universe_id  \\\n",
       "0     12  5174d50927a6b3da0327a1cf44d995a4   \n",
       "0     12  5174d50927a6b3da0327a1cf44d995a4   \n",
       "0     12  5174d50927a6b3da0327a1cf44d995a4   \n",
       "0     12  5174d50927a6b3da0327a1cf44d995a4   \n",
       "\n",
       "                                   universe_settings  execution_time  \\\n",
       "0  {\"cutoff\": \"quantile_0.1\", \"eval_fairness_grou...       27.930385   \n",
       "0  {\"cutoff\": \"quantile_0.1\", \"eval_fairness_grou...       27.930385   \n",
       "0  {\"cutoff\": \"quantile_0.25\", \"eval_fairness_gro...       27.930385   \n",
       "0  {\"cutoff\": \"quantile_0.25\", \"eval_fairness_gro...       27.930385   \n",
       "\n",
       "   test_size_n  test_size_frac  fair_main_equalized_odds_difference  \\\n",
       "0        89710             1.0                             0.093560   \n",
       "0        89710             1.0                             0.093560   \n",
       "0        89710             1.0                             0.160579   \n",
       "0        89710             1.0                             0.160579   \n",
       "\n",
       "   fair_main_equalized_odds_ratio  fair_main_demographic_parity_difference  \\\n",
       "0                        0.902412                                 0.081328   \n",
       "0                        0.902412                                 0.081328   \n",
       "0                        0.809689                                 0.139471   \n",
       "0                        0.809689                                 0.139471   \n",
       "\n",
       "   fair_main_demographic_parity_ratio  ...  perf_grp_precision_0  \\\n",
       "0                            0.915522  ...                   NaN   \n",
       "0                            0.915522  ...              0.118944   \n",
       "0                            0.837379  ...                   NaN   \n",
       "0                            0.837379  ...              0.129598   \n",
       "\n",
       "   perf_grp_precision_1  perf_grp_false positive rate_0  \\\n",
       "0                   NaN                             NaN   \n",
       "0              0.148101                        0.958728   \n",
       "0                   NaN                             NaN   \n",
       "0              0.174410                        0.843771   \n",
       "\n",
       "   perf_grp_false positive rate_1  perf_grp_false negative rate_0  \\\n",
       "0                             NaN                             NaN   \n",
       "0                        0.865167                        0.006757   \n",
       "0                             NaN                             NaN   \n",
       "0                        0.683192                        0.035895   \n",
       "\n",
       "   perf_grp_false negative rate_1  perf_grp_selection rate_0  \\\n",
       "0                             NaN                        NaN   \n",
       "0                        0.012144                   0.962707   \n",
       "0                             NaN                        NaN   \n",
       "0                        0.052079                   0.857644   \n",
       "\n",
       "   perf_grp_selection rate_1  perf_grp_count_0  perf_grp_count_1  \n",
       "0                        NaN               NaN               NaN  \n",
       "0                   0.881379           20540.0           69170.0  \n",
       "0                        NaN               NaN               NaN  \n",
       "0                   0.718173           20540.0           69170.0  \n",
       "\n",
       "[4 rows x 50 columns]"
      ]
     },
     "execution_count": 79,
     "metadata": {},
     "output_type": "execute_result"
    }
   ],
   "source": [
    "final_output = universe_analysis.generate_final_output(\n",
    "    y_pred_prob=probs_test,\n",
    "    y_test=y_true,\n",
    "    org_test=org_test,\n",
    "    filter_data=filter_sub_universe_data,\n",
    "    cp_metrics_df=cp_metrics_df,\n",
    "    save=True,\n",
    ")\n",
    "final_output"
   ]
  },
  {
   "cell_type": "code",
   "execution_count": null,
   "id": "721ff514-cb11-46f8-b6fc-50392f74b5cb",
   "metadata": {
    "papermill": {
     "duration": 0.030166,
     "end_time": "2025-07-30T13:06:52.437591",
     "exception": false,
     "start_time": "2025-07-30T13:06:52.407425",
     "status": "completed"
    },
    "tags": []
   },
   "outputs": [],
   "source": []
  }
 ],
 "metadata": {
  "celltoolbar": "Tags",
  "kernelspec": {
   "display_name": "Python (CMA Fairness)",
   "language": "python",
   "name": "cma_fair_env"
  },
  "language_info": {
   "codemirror_mode": {
    "name": "ipython",
    "version": 3
   },
   "file_extension": ".py",
   "mimetype": "text/x-python",
   "name": "python",
   "nbconvert_exporter": "python",
   "pygments_lexer": "ipython3",
   "version": "3.10.12"
  },
  "papermill": {
   "default_parameters": {},
   "duration": 43.236838,
   "end_time": "2025-07-30T13:06:53.187059",
   "environment_variables": {},
   "exception": null,
   "input_path": "universe_analysis.ipynb",
   "output_path": "output/runs/12/notebooks/m_12-5174d50927a6b3da0327a1cf44d995a4.ipynb",
   "parameters": {
    "output_dir": "output",
    "run_no": "12",
    "seed": "2023",
    "universe": "{\"cutoff\": [\"quantile_0.1\", \"quantile_0.25\"], \"eval_fairness_grouping\": [\"majority-minority\", \"nationality-all\"], \"exclude_features\": \"nationality-sex\", \"exclude_subgroups\": \"keep-all\", \"model\": \"penalized_logreg\", \"scale\": \"scale\", \"training_size\": \"25k\", \"training_year\": \"2012_14\"}",
    "universe_id": "5174d50927a6b3da0327a1cf44d995a4"
   },
   "start_time": "2025-07-30T13:06:09.950221",
   "version": "2.6.0"
  }
 },
 "nbformat": 4,
 "nbformat_minor": 5
}