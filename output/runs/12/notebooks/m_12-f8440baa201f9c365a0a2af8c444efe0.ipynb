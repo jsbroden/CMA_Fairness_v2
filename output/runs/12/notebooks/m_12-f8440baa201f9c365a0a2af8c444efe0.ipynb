{
 "cells": [
  {
   "cell_type": "code",
   "execution_count": 1,
   "id": "f159f837-637b-42ba-96b5-ec9a68c44524",
   "metadata": {
    "execution": {
     "iopub.execute_input": "2025-07-30T13:47:37.213678Z",
     "iopub.status.busy": "2025-07-30T13:47:37.213236Z",
     "iopub.status.idle": "2025-07-30T13:47:37.223408Z",
     "shell.execute_reply": "2025-07-30T13:47:37.222498Z"
    },
    "papermill": {
     "duration": 0.023353,
     "end_time": "2025-07-30T13:47:37.225073",
     "exception": false,
     "start_time": "2025-07-30T13:47:37.201720",
     "status": "completed"
    },
    "tags": []
   },
   "outputs": [
    {
     "name": "stdout",
     "output_type": "stream",
     "text": [
      "/dss/dsshome1/0C/ra93lal2/cma/CMA_Fairness_v2\n"
     ]
    },
    {
     "name": "stderr",
     "output_type": "stream",
     "text": [
      "/dss/dsshome1/0C/ra93lal2/.local/share/virtualenvs/CMA_Fairness_v2-3j10GkSs/lib/python3.10/site-packages/IPython/core/magics/osm.py:393: UserWarning: This is now an optional IPython functionality, using bookmarks requires you to install the `pickleshare` library.\n",
      "  bkms = self.shell.db.get('bookmarks', {})\n",
      "/dss/dsshome1/0C/ra93lal2/.local/share/virtualenvs/CMA_Fairness_v2-3j10GkSs/lib/python3.10/site-packages/IPython/core/magics/osm.py:417: UserWarning: This is now an optional IPython functionality, setting dhist requires you to install the `pickleshare` library.\n",
      "  self.shell.db['dhist'] = compress_dhist(dhist)[-100:]\n"
     ]
    }
   ],
   "source": [
    "%cd ~/cma/CMA_Fairness_v2"
   ]
  },
  {
   "cell_type": "markdown",
   "id": "de2603b9",
   "metadata": {
    "papermill": {
     "duration": 0.01919,
     "end_time": "2025-07-30T13:47:37.262583",
     "exception": false,
     "start_time": "2025-07-30T13:47:37.243393",
     "status": "completed"
    },
    "tags": []
   },
   "source": [
    "The following cell holds the definition of our parameters, these values can be overriden by rendering the with e.g. the following command:\n",
    "\n",
    "papermill -p alpha 0.2 -p ratio 0.3 universe_analysis.ipynb output/test_run.ipynb"
   ]
  },
  {
   "cell_type": "code",
   "execution_count": 2,
   "id": "a80968a0-40bb-4fa9-85ef-2d5eefb01975",
   "metadata": {
    "execution": {
     "iopub.execute_input": "2025-07-30T13:47:37.301714Z",
     "iopub.status.busy": "2025-07-30T13:47:37.301217Z",
     "iopub.status.idle": "2025-07-30T13:47:37.306935Z",
     "shell.execute_reply": "2025-07-30T13:47:37.305840Z"
    },
    "papermill": {
     "duration": 0.027562,
     "end_time": "2025-07-30T13:47:37.309199",
     "exception": false,
     "start_time": "2025-07-30T13:47:37.281637",
     "status": "completed"
    },
    "tags": []
   },
   "outputs": [
    {
     "name": "stdout",
     "output_type": "stream",
     "text": [
      "Current working directory: /dss/dsshome1/0C/ra93lal2/cma/CMA_Fairness_v2\n"
     ]
    }
   ],
   "source": [
    "import os\n",
    "print(\"Current working directory:\", os.getcwd())"
   ]
  },
  {
   "cell_type": "code",
   "execution_count": 3,
   "id": "2dce4c03",
   "metadata": {
    "execution": {
     "iopub.execute_input": "2025-07-30T13:47:37.371081Z",
     "iopub.status.busy": "2025-07-30T13:47:37.370643Z",
     "iopub.status.idle": "2025-07-30T13:47:37.376862Z",
     "shell.execute_reply": "2025-07-30T13:47:37.375730Z"
    },
    "papermill": {
     "duration": 0.03846,
     "end_time": "2025-07-30T13:47:37.378686",
     "exception": false,
     "start_time": "2025-07-30T13:47:37.340226",
     "status": "completed"
    },
    "tags": [
     "parameters"
    ]
   },
   "outputs": [],
   "source": [
    "run_no = 0\n",
    "universe_id = \"test\"\n",
    "universe = {\n",
    "    \"training_size\": \"25k\", # \"25k\", \"5k\", \"1k\"\n",
    "    \"training_year\": \"2014\", # \"2014\", \"2012_14\", \"2010_14\"\n",
    "    \"scale\": \"scale\", # \"scale\", \"do-not-scale\",\n",
    "    #\"stratify_split\": \"target\", # \"none\", \"target\", \"protected-attribute\", \"both\",\n",
    "    \"model\": \"elasticnet\", # \"logreg\", \"penalized_logreg\", \"rf\", \"gbm\", \"elasticnet\"\n",
    "    \"cutoff\": [\"quantile_0.15\", \"quantile_0.30\"],\n",
    "    \"exclude_features\": \"age\", # \"none\", \"nationality\", \"sex\", \"nationality-sex\", \"age\"\n",
    "    \"exclude_subgroups\": \"keep-all\", # \"keep-all\", \"drop-non-german\"\n",
    "    \"eval_fairness_grouping\": [\"majority-minority\", \"nationality-all\"]\n",
    "}\n",
    "\n",
    "output_dir=\"./output\"\n",
    "seed=0"
   ]
  },
  {
   "cell_type": "code",
   "execution_count": 4,
   "id": "0a0dd2d0",
   "metadata": {
    "execution": {
     "iopub.execute_input": "2025-07-30T13:47:37.423320Z",
     "iopub.status.busy": "2025-07-30T13:47:37.422712Z",
     "iopub.status.idle": "2025-07-30T13:47:37.428857Z",
     "shell.execute_reply": "2025-07-30T13:47:37.428019Z"
    },
    "papermill": {
     "duration": 0.030122,
     "end_time": "2025-07-30T13:47:37.430498",
     "exception": false,
     "start_time": "2025-07-30T13:47:37.400376",
     "status": "completed"
    },
    "tags": [
     "injected-parameters"
    ]
   },
   "outputs": [],
   "source": [
    "# Parameters\n",
    "universe_id = \"f8440baa201f9c365a0a2af8c444efe0\"\n",
    "run_no = \"12\"\n",
    "universe = \"{\\\"cutoff\\\": [\\\"quantile_0.1\\\", \\\"quantile_0.25\\\"], \\\"eval_fairness_grouping\\\": [\\\"majority-minority\\\", \\\"nationality-all\\\"], \\\"exclude_features\\\": \\\"nationality-sex\\\", \\\"exclude_subgroups\\\": \\\"drop-non-german\\\", \\\"model\\\": \\\"logreg\\\", \\\"scale\\\": \\\"do-not-scale\\\", \\\"training_size\\\": \\\"5k\\\", \\\"training_year\\\": \\\"2014\\\"}\"\n",
    "output_dir = \"output\"\n",
    "seed = \"2023\"\n"
   ]
  },
  {
   "cell_type": "code",
   "execution_count": 5,
   "id": "1650acaf",
   "metadata": {
    "execution": {
     "iopub.execute_input": "2025-07-30T13:47:37.474530Z",
     "iopub.status.busy": "2025-07-30T13:47:37.474112Z",
     "iopub.status.idle": "2025-07-30T13:47:37.479164Z",
     "shell.execute_reply": "2025-07-30T13:47:37.478210Z"
    },
    "papermill": {
     "duration": 0.029281,
     "end_time": "2025-07-30T13:47:37.480858",
     "exception": false,
     "start_time": "2025-07-30T13:47:37.451577",
     "status": "completed"
    },
    "tags": []
   },
   "outputs": [],
   "source": [
    "import json\n",
    "# Parse universe into dict if it is passed as a string\n",
    "if isinstance(universe, str):\n",
    "    universe = json.loads(universe)"
   ]
  },
  {
   "cell_type": "code",
   "execution_count": 6,
   "id": "16620c48",
   "metadata": {
    "execution": {
     "iopub.execute_input": "2025-07-30T13:47:37.524980Z",
     "iopub.status.busy": "2025-07-30T13:47:37.524532Z",
     "iopub.status.idle": "2025-07-30T13:47:37.560859Z",
     "shell.execute_reply": "2025-07-30T13:47:37.559992Z"
    },
    "papermill": {
     "duration": 0.060438,
     "end_time": "2025-07-30T13:47:37.562514",
     "exception": false,
     "start_time": "2025-07-30T13:47:37.502076",
     "status": "completed"
    },
    "tags": []
   },
   "outputs": [],
   "source": [
    "# Auto-reload the custom package\n",
    "%load_ext autoreload\n",
    "%autoreload 1\n",
    "%aimport fairness_multiverse"
   ]
  },
  {
   "cell_type": "code",
   "execution_count": 7,
   "id": "01c5c9f3",
   "metadata": {
    "execution": {
     "iopub.execute_input": "2025-07-30T13:47:37.587199Z",
     "iopub.status.busy": "2025-07-30T13:47:37.586755Z",
     "iopub.status.idle": "2025-07-30T13:47:39.582779Z",
     "shell.execute_reply": "2025-07-30T13:47:39.581917Z"
    },
    "papermill": {
     "duration": 2.010967,
     "end_time": "2025-07-30T13:47:39.584608",
     "exception": false,
     "start_time": "2025-07-30T13:47:37.573641",
     "status": "completed"
    },
    "tags": []
   },
   "outputs": [],
   "source": [
    "from fairness_multiverse.universe import UniverseAnalysis\n",
    "\n",
    "universe_analysis = UniverseAnalysis(\n",
    "    run_no = run_no,\n",
    "    universe_id = universe_id,\n",
    "    universe = universe,\n",
    "    output_dir=output_dir,\n",
    ")"
   ]
  },
  {
   "cell_type": "code",
   "execution_count": 8,
   "id": "106241f5",
   "metadata": {
    "execution": {
     "iopub.execute_input": "2025-07-30T13:47:39.628720Z",
     "iopub.status.busy": "2025-07-30T13:47:39.628167Z",
     "iopub.status.idle": "2025-07-30T13:47:39.635201Z",
     "shell.execute_reply": "2025-07-30T13:47:39.634141Z"
    },
    "papermill": {
     "duration": 0.029714,
     "end_time": "2025-07-30T13:47:39.637350",
     "exception": false,
     "start_time": "2025-07-30T13:47:39.607636",
     "status": "completed"
    },
    "tags": []
   },
   "outputs": [
    {
     "name": "stdout",
     "output_type": "stream",
     "text": [
      "Using Seed: 2023\n"
     ]
    }
   ],
   "source": [
    "import numpy as np\n",
    "parsed_seed = int(seed)\n",
    "np.random.seed(parsed_seed)\n",
    "print(f\"Using Seed: {parsed_seed}\")"
   ]
  },
  {
   "cell_type": "markdown",
   "id": "e0ebdc57",
   "metadata": {
    "papermill": {
     "duration": 0.023678,
     "end_time": "2025-07-30T13:47:39.684785",
     "exception": false,
     "start_time": "2025-07-30T13:47:39.661107",
     "status": "completed"
    },
    "tags": []
   },
   "source": [
    "# Loading Data"
   ]
  },
  {
   "cell_type": "markdown",
   "id": "681925a3",
   "metadata": {
    "papermill": {
     "duration": 0.018762,
     "end_time": "2025-07-30T13:47:39.724591",
     "exception": false,
     "start_time": "2025-07-30T13:47:39.705829",
     "status": "completed"
    },
    "tags": []
   },
   "source": [
    "Load siab_train, siab_test, siab_calib and/or \n",
    "load siab_train_features, siab_train_labels"
   ]
  },
  {
   "cell_type": "code",
   "execution_count": 9,
   "id": "f0496b8a",
   "metadata": {
    "execution": {
     "iopub.execute_input": "2025-07-30T13:47:39.752146Z",
     "iopub.status.busy": "2025-07-30T13:47:39.751225Z",
     "iopub.status.idle": "2025-07-30T13:47:51.058184Z",
     "shell.execute_reply": "2025-07-30T13:47:51.056954Z"
    },
    "papermill": {
     "duration": 11.324743,
     "end_time": "2025-07-30T13:47:51.059795",
     "exception": false,
     "start_time": "2025-07-30T13:47:39.735052",
     "status": "completed"
    },
    "tags": []
   },
   "outputs": [
    {
     "name": "stdout",
     "output_type": "stream",
     "text": [
      "Loading SIAB data from cache: data/siab_cached.csv.gz\n"
     ]
    },
    {
     "name": "stdout",
     "output_type": "stream",
     "text": [
      "(643690, 164)\n"
     ]
    }
   ],
   "source": [
    "from pathlib import Path\n",
    "import pandas as pd\n",
    "\n",
    "# File paths\n",
    "raw_file = Path(\"data/raw/siab.csv\")\n",
    "cache_file = Path(\"data/siab_cached.csv.gz\")\n",
    "\n",
    "# Ensure cache directory exists\n",
    "cache_file.parent.mkdir(parents=True, exist_ok=True)\n",
    "\n",
    "# Load with simple caching\n",
    "if cache_file.exists():\n",
    "    print(f\"Loading SIAB data from cache: {cache_file}\")\n",
    "    siab = pd.read_csv(cache_file, compression='gzip')\n",
    "else:\n",
    "    print(f\"Cache not found. Reading raw SIAB data: {raw_file}\")\n",
    "    siab = pd.read_csv(raw_file)\n",
    "    siab.to_csv(cache_file, index=False, compression='gzip')\n",
    "    print(f\"Cached SIAB data to: {cache_file}\")\n",
    "\n",
    "# Now use `siab` DataFrame as needed\n",
    "print(siab.shape)"
   ]
  },
  {
   "cell_type": "code",
   "execution_count": 10,
   "id": "db0ca512-5f53-4dba-abdb-a2888bca41ba",
   "metadata": {
    "execution": {
     "iopub.execute_input": "2025-07-30T13:47:51.103940Z",
     "iopub.status.busy": "2025-07-30T13:47:51.103060Z",
     "iopub.status.idle": "2025-07-30T13:47:51.109289Z",
     "shell.execute_reply": "2025-07-30T13:47:51.108373Z"
    },
    "papermill": {
     "duration": 0.029113,
     "end_time": "2025-07-30T13:47:51.111164",
     "exception": false,
     "start_time": "2025-07-30T13:47:51.082051",
     "status": "completed"
    },
    "tags": []
   },
   "outputs": [],
   "source": [
    "#siab"
   ]
  },
  {
   "cell_type": "code",
   "execution_count": 11,
   "id": "a0edb063",
   "metadata": {
    "execution": {
     "iopub.execute_input": "2025-07-30T13:47:51.153524Z",
     "iopub.status.busy": "2025-07-30T13:47:51.153058Z",
     "iopub.status.idle": "2025-07-30T13:47:51.158300Z",
     "shell.execute_reply": "2025-07-30T13:47:51.157416Z"
    },
    "papermill": {
     "duration": 0.027549,
     "end_time": "2025-07-30T13:47:51.160150",
     "exception": false,
     "start_time": "2025-07-30T13:47:51.132601",
     "status": "completed"
    },
    "tags": []
   },
   "outputs": [],
   "source": [
    "#import pandas as pd\n",
    "#\n",
    "#X_train = pd.read_csv(\"./data/X_train.csv\")\n",
    "#y_train = pd.read_csv(\"./data/y_train.csv\")"
   ]
  },
  {
   "cell_type": "code",
   "execution_count": 12,
   "id": "63d08085",
   "metadata": {
    "execution": {
     "iopub.execute_input": "2025-07-30T13:47:51.203295Z",
     "iopub.status.busy": "2025-07-30T13:47:51.202828Z",
     "iopub.status.idle": "2025-07-30T13:47:51.208263Z",
     "shell.execute_reply": "2025-07-30T13:47:51.207250Z"
    },
    "papermill": {
     "duration": 0.027709,
     "end_time": "2025-07-30T13:47:51.209811",
     "exception": false,
     "start_time": "2025-07-30T13:47:51.182102",
     "status": "completed"
    },
    "tags": []
   },
   "outputs": [],
   "source": [
    "#X_test = pd.read_csv(\"./data/X_test.csv\")\n",
    "#y_true = pd.read_csv(\"./data/y_test.csv\")"
   ]
  },
  {
   "cell_type": "code",
   "execution_count": 13,
   "id": "98a8d0fa-1d3d-4ed8-bb2c-281470e24add",
   "metadata": {
    "execution": {
     "iopub.execute_input": "2025-07-30T13:47:51.252328Z",
     "iopub.status.busy": "2025-07-30T13:47:51.251632Z",
     "iopub.status.idle": "2025-07-30T13:47:51.257079Z",
     "shell.execute_reply": "2025-07-30T13:47:51.255929Z"
    },
    "papermill": {
     "duration": 0.027536,
     "end_time": "2025-07-30T13:47:51.258770",
     "exception": false,
     "start_time": "2025-07-30T13:47:51.231234",
     "status": "completed"
    },
    "tags": []
   },
   "outputs": [],
   "source": [
    "# Calibration data for conformal\n",
    "#X_calib = pd.read_csv(\"./data/X_calib.csv\")\n",
    "#y_calib = pd.read_csv(\"./data/y_calib.csv\")"
   ]
  },
  {
   "cell_type": "markdown",
   "id": "997051c5-15bd-4b69-9786-c3001a3ce484",
   "metadata": {
    "papermill": {
     "duration": 0.019631,
     "end_time": "2025-07-30T13:47:51.299519",
     "exception": false,
     "start_time": "2025-07-30T13:47:51.279888",
     "status": "completed"
    },
    "tags": []
   },
   "source": [
    "# Splitting Data and Setting Training Data Size"
   ]
  },
  {
   "cell_type": "code",
   "execution_count": 14,
   "id": "e993b61f-042d-41a6-8c81-f55681f86335",
   "metadata": {
    "execution": {
     "iopub.execute_input": "2025-07-30T13:47:51.341135Z",
     "iopub.status.busy": "2025-07-30T13:47:51.340467Z",
     "iopub.status.idle": "2025-07-30T13:47:51.356408Z",
     "shell.execute_reply": "2025-07-30T13:47:51.355315Z"
    },
    "papermill": {
     "duration": 0.039143,
     "end_time": "2025-07-30T13:47:51.358187",
     "exception": false,
     "start_time": "2025-07-30T13:47:51.319044",
     "status": "completed"
    },
    "tags": []
   },
   "outputs": [],
   "source": [
    "def sample_by_year_size(df,\n",
    "                        training_year: str,\n",
    "                        training_size: str,\n",
    "                        random_state: int = 42):\n",
    "    # --- parse training_year into a list of int years ---\n",
    "    if \"_\" in training_year:\n",
    "        start_str, end_str = training_year.split(\"_\", 1)\n",
    "        start = int(start_str)\n",
    "        end   = int(end_str) if len(end_str) == 4 else (int(end_str) + (start // 100)*100)\n",
    "        years = list(range(start, end + 1))\n",
    "    else:\n",
    "        years = [int(training_year)]\n",
    "\n",
    "    df = df[df[\"year\"].isin(years)].reset_index(drop=True)\n",
    "\n",
    "    # --- map training_size to total number of samples ---\n",
    "    total_map = {\"25k\": 25_000, \"5k\": 5_000, \"1k\": 1_000}\n",
    "    if training_size not in total_map:\n",
    "        return df  # e.g. \"all\"\n",
    "\n",
    "    total_samples = total_map[training_size]\n",
    "    n_years       = len(years)\n",
    "    base          = total_samples // n_years\n",
    "    remainder     = total_samples % n_years\n",
    "\n",
    "    # --- build a dict: year -> how many to sample ---\n",
    "    # give +1 to the first `remainder` years in ascending order\n",
    "    quotas = {\n",
    "        year: base + (1 if idx < remainder else 0)\n",
    "        for idx, year in enumerate(sorted(years))\n",
    "    }\n",
    "\n",
    "    # --- sample per‐year according to the quota dict ---\n",
    "    sampled = (\n",
    "        df\n",
    "        .groupby(\"year\", group_keys=False)\n",
    "        .apply(lambda grp: grp.sample(\n",
    "            n=min(len(grp), quotas[grp.name]),\n",
    "            random_state=random_state))\n",
    "        .reset_index(drop=True)\n",
    "    )\n",
    "\n",
    "    return sampled"
   ]
  },
  {
   "cell_type": "code",
   "execution_count": 15,
   "id": "c0ccd338-0e02-41f3-a09d-f56f9266e3fb",
   "metadata": {
    "execution": {
     "iopub.execute_input": "2025-07-30T13:47:51.402319Z",
     "iopub.status.busy": "2025-07-30T13:47:51.401664Z",
     "iopub.status.idle": "2025-07-30T13:47:51.412903Z",
     "shell.execute_reply": "2025-07-30T13:47:51.411640Z"
    },
    "papermill": {
     "duration": 0.034858,
     "end_time": "2025-07-30T13:47:51.415186",
     "exception": false,
     "start_time": "2025-07-30T13:47:51.380328",
     "status": "completed"
    },
    "tags": []
   },
   "outputs": [
    {
     "data": {
      "text/plain": [
       "'5k'"
      ]
     },
     "execution_count": 15,
     "metadata": {},
     "output_type": "execute_result"
    }
   ],
   "source": [
    "universe[\"training_size\"]"
   ]
  },
  {
   "cell_type": "code",
   "execution_count": 16,
   "id": "ca707fd7-8047-4acd-bfa5-66248fbbf8e6",
   "metadata": {
    "execution": {
     "iopub.execute_input": "2025-07-30T13:47:51.459210Z",
     "iopub.status.busy": "2025-07-30T13:47:51.458708Z",
     "iopub.status.idle": "2025-07-30T13:47:51.465816Z",
     "shell.execute_reply": "2025-07-30T13:47:51.464908Z"
    },
    "papermill": {
     "duration": 0.030479,
     "end_time": "2025-07-30T13:47:51.467665",
     "exception": false,
     "start_time": "2025-07-30T13:47:51.437186",
     "status": "completed"
    },
    "tags": []
   },
   "outputs": [
    {
     "data": {
      "text/plain": [
       "'2014'"
      ]
     },
     "execution_count": 16,
     "metadata": {},
     "output_type": "execute_result"
    }
   ],
   "source": [
    "universe[\"training_year\"]"
   ]
  },
  {
   "cell_type": "code",
   "execution_count": 17,
   "id": "aea9c6ef-6f46-42c8-85eb-5a62025c1508",
   "metadata": {
    "execution": {
     "iopub.execute_input": "2025-07-30T13:47:51.514834Z",
     "iopub.status.busy": "2025-07-30T13:47:51.514333Z",
     "iopub.status.idle": "2025-07-30T13:47:51.739368Z",
     "shell.execute_reply": "2025-07-30T13:47:51.738410Z"
    },
    "papermill": {
     "duration": 0.249279,
     "end_time": "2025-07-30T13:47:51.741187",
     "exception": false,
     "start_time": "2025-07-30T13:47:51.491908",
     "status": "completed"
    },
    "tags": []
   },
   "outputs": [],
   "source": [
    "siab_train = sample_by_year_size(siab,\n",
    "                               training_year=universe[\"training_year\"],\n",
    "                               training_size=universe[\"training_size\"])"
   ]
  },
  {
   "cell_type": "code",
   "execution_count": 18,
   "id": "8d3afb32-789d-442c-8d5d-9f5aa8dd2eed",
   "metadata": {
    "execution": {
     "iopub.execute_input": "2025-07-30T13:47:51.801459Z",
     "iopub.status.busy": "2025-07-30T13:47:51.800703Z",
     "iopub.status.idle": "2025-07-30T13:47:51.808150Z",
     "shell.execute_reply": "2025-07-30T13:47:51.807186Z"
    },
    "papermill": {
     "duration": 0.030185,
     "end_time": "2025-07-30T13:47:51.810109",
     "exception": false,
     "start_time": "2025-07-30T13:47:51.779924",
     "status": "completed"
    },
    "tags": []
   },
   "outputs": [
    {
     "data": {
      "text/plain": [
       "(5000, 164)"
      ]
     },
     "execution_count": 18,
     "metadata": {},
     "output_type": "execute_result"
    }
   ],
   "source": [
    "siab_train.shape"
   ]
  },
  {
   "cell_type": "code",
   "execution_count": 19,
   "id": "d582db68-1a4c-47fb-84fc-08518dc1975a",
   "metadata": {
    "execution": {
     "iopub.execute_input": "2025-07-30T13:47:51.854196Z",
     "iopub.status.busy": "2025-07-30T13:47:51.853741Z",
     "iopub.status.idle": "2025-07-30T13:47:51.862819Z",
     "shell.execute_reply": "2025-07-30T13:47:51.861872Z"
    },
    "papermill": {
     "duration": 0.031559,
     "end_time": "2025-07-30T13:47:51.864499",
     "exception": false,
     "start_time": "2025-07-30T13:47:51.832940",
     "status": "completed"
    },
    "tags": []
   },
   "outputs": [
    {
     "data": {
      "text/plain": [
       "year\n",
       "2014    5000\n",
       "dtype: int64"
      ]
     },
     "metadata": {},
     "output_type": "display_data"
    }
   ],
   "source": [
    "display(siab_train.groupby(\"year\").size())"
   ]
  },
  {
   "cell_type": "code",
   "execution_count": 20,
   "id": "a561edb4-d032-42cb-8256-22eac1111c64",
   "metadata": {
    "execution": {
     "iopub.execute_input": "2025-07-30T13:47:51.910874Z",
     "iopub.status.busy": "2025-07-30T13:47:51.910415Z",
     "iopub.status.idle": "2025-07-30T13:47:52.146750Z",
     "shell.execute_reply": "2025-07-30T13:47:52.145846Z"
    },
    "papermill": {
     "duration": 0.26014,
     "end_time": "2025-07-30T13:47:52.148721",
     "exception": false,
     "start_time": "2025-07-30T13:47:51.888581",
     "status": "completed"
    },
    "tags": []
   },
   "outputs": [],
   "source": [
    "#siab_train = siab_s[siab_s.year < 2015]\n",
    "siab_calib = siab[siab.year == 2015]\n",
    "siab_test = siab[siab.year == 2016]"
   ]
  },
  {
   "cell_type": "code",
   "execution_count": 21,
   "id": "472de16f-c3db-4916-846b-1f0de9cf1746",
   "metadata": {
    "execution": {
     "iopub.execute_input": "2025-07-30T13:47:52.192461Z",
     "iopub.status.busy": "2025-07-30T13:47:52.191760Z",
     "iopub.status.idle": "2025-07-30T13:47:52.203704Z",
     "shell.execute_reply": "2025-07-30T13:47:52.202669Z"
    },
    "papermill": {
     "duration": 0.05812,
     "end_time": "2025-07-30T13:47:52.228252",
     "exception": false,
     "start_time": "2025-07-30T13:47:52.170132",
     "status": "completed"
    },
    "tags": []
   },
   "outputs": [],
   "source": [
    "X_train = siab_train.iloc[:,4:164]\n",
    "y_train = siab_train.iloc[:, [3]]"
   ]
  },
  {
   "cell_type": "code",
   "execution_count": 22,
   "id": "828c96af-f43a-4ed6-ba47-8ac73a47d56c",
   "metadata": {
    "execution": {
     "iopub.execute_input": "2025-07-30T13:47:52.273837Z",
     "iopub.status.busy": "2025-07-30T13:47:52.272846Z",
     "iopub.status.idle": "2025-07-30T13:47:52.324794Z",
     "shell.execute_reply": "2025-07-30T13:47:52.323770Z"
    },
    "papermill": {
     "duration": 0.077807,
     "end_time": "2025-07-30T13:47:52.326840",
     "exception": false,
     "start_time": "2025-07-30T13:47:52.249033",
     "status": "completed"
    },
    "tags": []
   },
   "outputs": [],
   "source": [
    "X_calib = siab_calib.iloc[:,4:164]\n",
    "y_calib = siab_calib.iloc[:, [3]]"
   ]
  },
  {
   "cell_type": "code",
   "execution_count": 23,
   "id": "c34be9c3-6bd6-476e-acd3-845840e303be",
   "metadata": {
    "execution": {
     "iopub.execute_input": "2025-07-30T13:47:52.371138Z",
     "iopub.status.busy": "2025-07-30T13:47:52.370672Z",
     "iopub.status.idle": "2025-07-30T13:47:52.422273Z",
     "shell.execute_reply": "2025-07-30T13:47:52.421336Z"
    },
    "papermill": {
     "duration": 0.075086,
     "end_time": "2025-07-30T13:47:52.423900",
     "exception": false,
     "start_time": "2025-07-30T13:47:52.348814",
     "status": "completed"
    },
    "tags": []
   },
   "outputs": [],
   "source": [
    "X_test = siab_test.iloc[:,4:164]\n",
    "y_true = siab_test.iloc[:, [3]]"
   ]
  },
  {
   "cell_type": "markdown",
   "id": "9901737e-04df-44f0-9100-f5ad144ed040",
   "metadata": {
    "papermill": {
     "duration": 0.021341,
     "end_time": "2025-07-30T13:47:52.467314",
     "exception": false,
     "start_time": "2025-07-30T13:47:52.445973",
     "status": "completed"
    },
    "tags": []
   },
   "source": [
    "# Splitting Data and Setting Training Data Size OLD VERSION"
   ]
  },
  {
   "cell_type": "code",
   "execution_count": 24,
   "id": "acbc8f7d-8fc8-4e86-8c59-5dcb0f58384b",
   "metadata": {
    "execution": {
     "iopub.execute_input": "2025-07-30T13:47:52.513053Z",
     "iopub.status.busy": "2025-07-30T13:47:52.512395Z",
     "iopub.status.idle": "2025-07-30T13:47:52.540026Z",
     "shell.execute_reply": "2025-07-30T13:47:52.538960Z"
    },
    "papermill": {
     "duration": 0.05372,
     "end_time": "2025-07-30T13:47:52.542053",
     "exception": false,
     "start_time": "2025-07-30T13:47:52.488333",
     "status": "completed"
    },
    "tags": []
   },
   "outputs": [],
   "source": [
    "#def sample_by_year(df, training_size, random_state=42):\n",
    "#    if training_size == \"2014\":\n",
    "#        return df[df[\"year\"] == 2014].reset_index(drop=True)\n",
    "#    \n",
    "#    size_map = {\n",
    "#        \"25k\": 5000,\n",
    "#        \"5k\": 1000,\n",
    "#        \"1k\": 200\n",
    "#    }\n",
    "#\n",
    "#    if training_size not in size_map:\n",
    "#        return df.reset_index(drop=True)  # use all data\n",
    "#\n",
    "#    n_per_year = size_map[training_size]\n",
    "#    grouped = df.groupby(\"year\")\n",
    "#    sampled = grouped.apply(lambda x: x.sample(n=min(n_per_year, len(x)), random_state=random_state))\n",
    "#    return sampled.reset_index(drop=True)"
   ]
  },
  {
   "cell_type": "code",
   "execution_count": 25,
   "id": "6d931f52-beaf-43ff-9e78-9d44a448d54e",
   "metadata": {
    "execution": {
     "iopub.execute_input": "2025-07-30T13:47:52.589330Z",
     "iopub.status.busy": "2025-07-30T13:47:52.588641Z",
     "iopub.status.idle": "2025-07-30T13:47:52.594187Z",
     "shell.execute_reply": "2025-07-30T13:47:52.593151Z"
    },
    "papermill": {
     "duration": 0.030769,
     "end_time": "2025-07-30T13:47:52.595880",
     "exception": false,
     "start_time": "2025-07-30T13:47:52.565111",
     "status": "completed"
    },
    "tags": []
   },
   "outputs": [],
   "source": [
    "#siab_s = sample_by_year(siab, universe[\"training_size\"])"
   ]
  },
  {
   "cell_type": "code",
   "execution_count": 26,
   "id": "5db0a40e-a4e2-4920-be85-b12ae061d70d",
   "metadata": {
    "execution": {
     "iopub.execute_input": "2025-07-30T13:47:52.642639Z",
     "iopub.status.busy": "2025-07-30T13:47:52.641834Z",
     "iopub.status.idle": "2025-07-30T13:47:52.646795Z",
     "shell.execute_reply": "2025-07-30T13:47:52.645968Z"
    },
    "papermill": {
     "duration": 0.030806,
     "end_time": "2025-07-30T13:47:52.648666",
     "exception": false,
     "start_time": "2025-07-30T13:47:52.617860",
     "status": "completed"
    },
    "tags": []
   },
   "outputs": [],
   "source": [
    "#display(siab_s.groupby(\"year\").size())"
   ]
  },
  {
   "cell_type": "code",
   "execution_count": 27,
   "id": "e6c733c5",
   "metadata": {
    "execution": {
     "iopub.execute_input": "2025-07-30T13:47:52.694910Z",
     "iopub.status.busy": "2025-07-30T13:47:52.694135Z",
     "iopub.status.idle": "2025-07-30T13:47:52.794654Z",
     "shell.execute_reply": "2025-07-30T13:47:52.793536Z"
    },
    "papermill": {
     "duration": 0.126494,
     "end_time": "2025-07-30T13:47:52.796805",
     "exception": false,
     "start_time": "2025-07-30T13:47:52.670311",
     "status": "completed"
    },
    "tags": []
   },
   "outputs": [],
   "source": [
    "# Auxiliary data needed downstream in the pipeline\n",
    "\n",
    "org_train = X_train.copy()\n",
    "org_test = X_test.copy()\n",
    "org_calib = X_calib.copy()"
   ]
  },
  {
   "cell_type": "code",
   "execution_count": 28,
   "id": "1466abac-c6da-4492-a62f-4240ae3783af",
   "metadata": {
    "execution": {
     "iopub.execute_input": "2025-07-30T13:47:52.861387Z",
     "iopub.status.busy": "2025-07-30T13:47:52.860918Z",
     "iopub.status.idle": "2025-07-30T13:47:52.866918Z",
     "shell.execute_reply": "2025-07-30T13:47:52.866074Z"
    },
    "papermill": {
     "duration": 0.048847,
     "end_time": "2025-07-30T13:47:52.868482",
     "exception": false,
     "start_time": "2025-07-30T13:47:52.819635",
     "status": "completed"
    },
    "tags": []
   },
   "outputs": [],
   "source": [
    "# put in other script?\n",
    "# Group sizes\n",
    "\n",
    "#def calculate_percentages(df, df_name):\n",
    "#    total_entries = len(df)\n",
    "#\n",
    "#    female_pct = (df['frau1'] == 1).mean() * 100\n",
    "#    non_german_pct = ((df['maxdeutsch1'] == 0) & (df['maxdeutsch.Missing.'] == 0)).mean() * 100\n",
    "#    non_german_male_pct = ((df['frau1'] == 0) & (df['maxdeutsch1'] == 0) & (df['maxdeutsch.Missing.'] == 0)).mean() * 100\n",
    "#    non_german_female_pct = ((df['frau1'] == 1) & (df['maxdeutsch1'] == 0) & (df['maxdeutsch.Missing.'] == 0)).mean() * 100\n",
    "#\n",
    "#    print(f\"--- {df_name} ---\")\n",
    "#    print(f\"Female: {female_pct:.2f}%\")\n",
    "#    print(f\"Non-German: {non_german_pct:.2f}%\")\n",
    "#    print(f\"Non-German Male: {non_german_male_pct:.2f}%\")\n",
    "#    print(f\"Non-German Female: {non_german_female_pct:.2f}%\\n\")\n",
    "#\n",
    "## Calculate for each DataFrame\n",
    "#calculate_percentages(siab_calib, \"siab_calib\")\n",
    "#calculate_percentages(siab_test, \"siab_test\")\n",
    "#calculate_percentages(siab_train, \"siab_train\")"
   ]
  },
  {
   "cell_type": "markdown",
   "id": "0a4a1b33",
   "metadata": {
    "papermill": {
     "duration": 0.021513,
     "end_time": "2025-07-30T13:47:52.914903",
     "exception": false,
     "start_time": "2025-07-30T13:47:52.893390",
     "status": "completed"
    },
    "tags": []
   },
   "source": [
    "# Preprocessing Data"
   ]
  },
  {
   "cell_type": "code",
   "execution_count": 29,
   "id": "ca879031",
   "metadata": {
    "execution": {
     "iopub.execute_input": "2025-07-30T13:47:52.966739Z",
     "iopub.status.busy": "2025-07-30T13:47:52.965508Z",
     "iopub.status.idle": "2025-07-30T13:47:52.972776Z",
     "shell.execute_reply": "2025-07-30T13:47:52.971705Z"
    },
    "papermill": {
     "duration": 0.03937,
     "end_time": "2025-07-30T13:47:52.974389",
     "exception": false,
     "start_time": "2025-07-30T13:47:52.935019",
     "status": "completed"
    },
    "tags": []
   },
   "outputs": [],
   "source": [
    "# EXCLUDE PROTECTED FEATURES\n",
    "# ----------------------\n",
    "# \"exclude_features\": \"none\", # \"nationality\", \"sex\", \"nationality-sex\"\n",
    "\n",
    "excluded_features = universe[\"exclude_features\"].split(\"-\") # split, e.g.: \"nationality-sex\" -> [\"nationality\", \"sex\"]\n",
    "excluded_features_dictionary = {\n",
    "    \"nationality\": [\"maxdeutsch1\", \"maxdeutsch.Missing.\"],\n",
    "    \"sex\": [\"frau1\"],\n",
    "    \"age\": [\"age\"],\n",
    "}\n"
   ]
  },
  {
   "cell_type": "code",
   "execution_count": 30,
   "id": "b745ac60",
   "metadata": {
    "execution": {
     "iopub.execute_input": "2025-07-30T13:47:53.031071Z",
     "iopub.status.busy": "2025-07-30T13:47:53.030651Z",
     "iopub.status.idle": "2025-07-30T13:47:53.036593Z",
     "shell.execute_reply": "2025-07-30T13:47:53.035562Z"
    },
    "papermill": {
     "duration": 0.0337,
     "end_time": "2025-07-30T13:47:53.038438",
     "exception": false,
     "start_time": "2025-07-30T13:47:53.004738",
     "status": "completed"
    },
    "tags": []
   },
   "outputs": [],
   "source": [
    "# Code nice names to column names\n",
    "\n",
    "excluded_features_columns = [\n",
    "    excluded_features_dictionary[f] for f in excluded_features if len(f) > 0 and f != \"none\"\n",
    "]"
   ]
  },
  {
   "cell_type": "code",
   "execution_count": 31,
   "id": "f84f73a2",
   "metadata": {
    "execution": {
     "iopub.execute_input": "2025-07-30T13:47:53.084505Z",
     "iopub.status.busy": "2025-07-30T13:47:53.084017Z",
     "iopub.status.idle": "2025-07-30T13:47:53.090942Z",
     "shell.execute_reply": "2025-07-30T13:47:53.089904Z"
    },
    "papermill": {
     "duration": 0.031187,
     "end_time": "2025-07-30T13:47:53.092831",
     "exception": false,
     "start_time": "2025-07-30T13:47:53.061644",
     "status": "completed"
    },
    "tags": []
   },
   "outputs": [],
   "source": [
    "from utils import flatten_once\n",
    "\n",
    "excluded_features_columns = flatten_once(excluded_features_columns)"
   ]
  },
  {
   "cell_type": "code",
   "execution_count": 32,
   "id": "884dea22",
   "metadata": {
    "execution": {
     "iopub.execute_input": "2025-07-30T13:47:53.140967Z",
     "iopub.status.busy": "2025-07-30T13:47:53.140040Z",
     "iopub.status.idle": "2025-07-30T13:47:53.149879Z",
     "shell.execute_reply": "2025-07-30T13:47:53.148787Z"
    },
    "papermill": {
     "duration": 0.034657,
     "end_time": "2025-07-30T13:47:53.151476",
     "exception": false,
     "start_time": "2025-07-30T13:47:53.116819",
     "status": "completed"
    },
    "tags": []
   },
   "outputs": [
    {
     "name": "stdout",
     "output_type": "stream",
     "text": [
      "Dropping features: ['maxdeutsch1', 'maxdeutsch.Missing.', 'frau1']\n"
     ]
    }
   ],
   "source": [
    "if len(excluded_features_columns) > 0:\n",
    "    print(f\"Dropping features: {excluded_features_columns}\")\n",
    "    X_train.drop(excluded_features_columns, axis=1, inplace=True)"
   ]
  },
  {
   "cell_type": "code",
   "execution_count": 33,
   "id": "95ab8b16",
   "metadata": {
    "execution": {
     "iopub.execute_input": "2025-07-30T13:47:53.201406Z",
     "iopub.status.busy": "2025-07-30T13:47:53.200742Z",
     "iopub.status.idle": "2025-07-30T13:47:53.258201Z",
     "shell.execute_reply": "2025-07-30T13:47:53.257060Z"
    },
    "papermill": {
     "duration": 0.084314,
     "end_time": "2025-07-30T13:47:53.260270",
     "exception": false,
     "start_time": "2025-07-30T13:47:53.175956",
     "status": "completed"
    },
    "tags": []
   },
   "outputs": [
    {
     "name": "stdout",
     "output_type": "stream",
     "text": [
      "Dropping features: ['maxdeutsch1', 'maxdeutsch.Missing.', 'frau1']\n"
     ]
    }
   ],
   "source": [
    "if len(excluded_features_columns) > 0:\n",
    "    print(f\"Dropping features: {excluded_features_columns}\")\n",
    "    X_test.drop(excluded_features_columns, axis=1, inplace=True)"
   ]
  },
  {
   "cell_type": "code",
   "execution_count": 34,
   "id": "1853aaf5-fb9f-46cb-a2b5-8ea4ae2237e4",
   "metadata": {
    "execution": {
     "iopub.execute_input": "2025-07-30T13:47:53.309587Z",
     "iopub.status.busy": "2025-07-30T13:47:53.309055Z",
     "iopub.status.idle": "2025-07-30T13:47:53.361705Z",
     "shell.execute_reply": "2025-07-30T13:47:53.360323Z"
    },
    "papermill": {
     "duration": 0.078628,
     "end_time": "2025-07-30T13:47:53.363289",
     "exception": false,
     "start_time": "2025-07-30T13:47:53.284661",
     "status": "completed"
    },
    "tags": []
   },
   "outputs": [
    {
     "name": "stdout",
     "output_type": "stream",
     "text": [
      "Dropping features: ['maxdeutsch1', 'maxdeutsch.Missing.', 'frau1']\n"
     ]
    }
   ],
   "source": [
    "if len(excluded_features_columns) > 0:\n",
    "    print(f\"Dropping features: {excluded_features_columns}\")\n",
    "    X_calib.drop(excluded_features_columns, axis=1, inplace=True)"
   ]
  },
  {
   "cell_type": "code",
   "execution_count": 35,
   "id": "6727d079-03e5-481e-9d38-292a90b7a0a8",
   "metadata": {
    "execution": {
     "iopub.execute_input": "2025-07-30T13:47:53.412144Z",
     "iopub.status.busy": "2025-07-30T13:47:53.411487Z",
     "iopub.status.idle": "2025-07-30T13:47:53.416401Z",
     "shell.execute_reply": "2025-07-30T13:47:53.415403Z"
    },
    "papermill": {
     "duration": 0.030471,
     "end_time": "2025-07-30T13:47:53.417990",
     "exception": false,
     "start_time": "2025-07-30T13:47:53.387519",
     "status": "completed"
    },
    "tags": []
   },
   "outputs": [],
   "source": [
    "# SPLIT & STRATIFY DATA\n",
    "# ----------------------"
   ]
  },
  {
   "cell_type": "code",
   "execution_count": 36,
   "id": "76c4dc6d",
   "metadata": {
    "execution": {
     "iopub.execute_input": "2025-07-30T13:47:53.467008Z",
     "iopub.status.busy": "2025-07-30T13:47:53.466079Z",
     "iopub.status.idle": "2025-07-30T13:47:53.471969Z",
     "shell.execute_reply": "2025-07-30T13:47:53.470902Z"
    },
    "papermill": {
     "duration": 0.032887,
     "end_time": "2025-07-30T13:47:53.473783",
     "exception": false,
     "start_time": "2025-07-30T13:47:53.440896",
     "status": "completed"
    },
    "tags": []
   },
   "outputs": [],
   "source": [
    "# EXCLUDE CERTAIN SUBGROUPS\n",
    "# ----------------------\n",
    "\n",
    "mode = universe.get(\"exclude_subgroups\", \"keep-all\") \n",
    "# Fetches the exclude_subgroups setting from the universe dict.\n",
    "# Defaults to \"keep-all\" if the key is missing."
   ]
  },
  {
   "cell_type": "code",
   "execution_count": 37,
   "id": "21994072",
   "metadata": {
    "execution": {
     "iopub.execute_input": "2025-07-30T13:47:53.523358Z",
     "iopub.status.busy": "2025-07-30T13:47:53.522432Z",
     "iopub.status.idle": "2025-07-30T13:47:53.529615Z",
     "shell.execute_reply": "2025-07-30T13:47:53.528520Z"
    },
    "papermill": {
     "duration": 0.03378,
     "end_time": "2025-07-30T13:47:53.531763",
     "exception": false,
     "start_time": "2025-07-30T13:47:53.497983",
     "status": "completed"
    },
    "tags": []
   },
   "outputs": [],
   "source": [
    "if mode == \"keep-all\":\n",
    "    keep_mask = pd.Series(True, index=org_train.index)\n",
    "\n",
    "# org_train contains the original feature columns from features_org (in Simson)\n",
    "# features_org contains unprocessed features, for me X_train at beginning ???\n",
    "# For keep-all, creates a boolean Series (keep_mask) of all True, so no rows are removed.\n",
    "\n",
    "elif mode == \"drop-non-german\":\n",
    "    keep_mask = org_train[\"maxdeutsch1\"] == 1 # ??? what about missing values?\n",
    "\n",
    "else:\n",
    "    raise ValueError(f\"Unsupported mode for exclude_subgroups: {mode}\")\n"
   ]
  },
  {
   "cell_type": "code",
   "execution_count": 38,
   "id": "71651440",
   "metadata": {
    "execution": {
     "iopub.execute_input": "2025-07-30T13:47:53.582511Z",
     "iopub.status.busy": "2025-07-30T13:47:53.581700Z",
     "iopub.status.idle": "2025-07-30T13:47:53.589417Z",
     "shell.execute_reply": "2025-07-30T13:47:53.588361Z"
    },
    "papermill": {
     "duration": 0.033811,
     "end_time": "2025-07-30T13:47:53.591267",
     "exception": false,
     "start_time": "2025-07-30T13:47:53.557456",
     "status": "completed"
    },
    "tags": []
   },
   "outputs": [
    {
     "name": "stdout",
     "output_type": "stream",
     "text": [
      "Dropping 741 rows (14.82%) where mode='drop-non-german'\n"
     ]
    }
   ],
   "source": [
    "n_drop = (~keep_mask).sum() # Calculates how many rows are set to be dropped\n",
    "if n_drop > 0:\n",
    "    pct = n_drop / len(keep_mask) * 100\n",
    "    print(f\"Dropping {n_drop} rows ({pct:.2f}%) where mode='{mode}'\")"
   ]
  },
  {
   "cell_type": "code",
   "execution_count": 39,
   "id": "5fb8eee5",
   "metadata": {
    "execution": {
     "iopub.execute_input": "2025-07-30T13:47:53.641553Z",
     "iopub.status.busy": "2025-07-30T13:47:53.640914Z",
     "iopub.status.idle": "2025-07-30T13:47:53.648687Z",
     "shell.execute_reply": "2025-07-30T13:47:53.647674Z"
    },
    "papermill": {
     "duration": 0.033349,
     "end_time": "2025-07-30T13:47:53.650336",
     "exception": false,
     "start_time": "2025-07-30T13:47:53.616987",
     "status": "completed"
    },
    "tags": []
   },
   "outputs": [],
   "source": [
    "X_train = X_train[keep_mask]"
   ]
  },
  {
   "cell_type": "code",
   "execution_count": 40,
   "id": "b202bb3a",
   "metadata": {
    "execution": {
     "iopub.execute_input": "2025-07-30T13:47:53.701758Z",
     "iopub.status.busy": "2025-07-30T13:47:53.701302Z",
     "iopub.status.idle": "2025-07-30T13:47:53.707284Z",
     "shell.execute_reply": "2025-07-30T13:47:53.706405Z"
    },
    "papermill": {
     "duration": 0.033356,
     "end_time": "2025-07-30T13:47:53.708905",
     "exception": false,
     "start_time": "2025-07-30T13:47:53.675549",
     "status": "completed"
    },
    "tags": []
   },
   "outputs": [],
   "source": [
    "y_train = y_train[keep_mask]"
   ]
  },
  {
   "cell_type": "markdown",
   "id": "493e2ac3",
   "metadata": {
    "papermill": {
     "duration": 0.024403,
     "end_time": "2025-07-30T13:47:53.758147",
     "exception": false,
     "start_time": "2025-07-30T13:47:53.733744",
     "status": "completed"
    },
    "tags": []
   },
   "source": [
    "# Model Training"
   ]
  },
  {
   "cell_type": "code",
   "execution_count": 41,
   "id": "679e1268",
   "metadata": {
    "execution": {
     "iopub.execute_input": "2025-07-30T13:47:53.807284Z",
     "iopub.status.busy": "2025-07-30T13:47:53.806805Z",
     "iopub.status.idle": "2025-07-30T13:47:53.912675Z",
     "shell.execute_reply": "2025-07-30T13:47:53.911646Z"
    },
    "papermill": {
     "duration": 0.132665,
     "end_time": "2025-07-30T13:47:53.914683",
     "exception": false,
     "start_time": "2025-07-30T13:47:53.782018",
     "status": "completed"
    },
    "tags": []
   },
   "outputs": [],
   "source": [
    "from sklearn.linear_model import LogisticRegression\n",
    "from sklearn.ensemble import GradientBoostingClassifier, RandomForestClassifier\n",
    "\n",
    "if (universe[\"model\"] == \"logreg\"):\n",
    "    model = LogisticRegression() #penalty=\"none\") #, solver=\"newton-cg\", max_iter=1) # include random_state=19 ?\n",
    "elif (universe[\"model\"] == \"penalized_logreg\"):\n",
    "    model = LogisticRegression(penalty=\"l2\", C=1.0) #, solver=\"newton-cg\", max_iter=1)\n",
    "elif (universe[\"model\"] == \"rf\"):\n",
    "    model = RandomForestClassifier(n_estimators=100, n_jobs=-1)\n",
    "elif (universe[\"model\"] == \"gbm\"):\n",
    "    model = GradientBoostingClassifier()\n",
    "elif (universe[\"model\"] == \"elasticnet\"):\n",
    "    model = LogisticRegression(penalty = 'elasticnet', solver = 'saga', l1_ratio = 0.5, max_iter=5000) # which solver to use?\n",
    "else:\n",
    "    raise \"Unsupported universe.model\""
   ]
  },
  {
   "cell_type": "code",
   "execution_count": 42,
   "id": "0cc8f744",
   "metadata": {
    "execution": {
     "iopub.execute_input": "2025-07-30T13:47:53.965016Z",
     "iopub.status.busy": "2025-07-30T13:47:53.964330Z",
     "iopub.status.idle": "2025-07-30T13:47:53.971108Z",
     "shell.execute_reply": "2025-07-30T13:47:53.970087Z"
    },
    "papermill": {
     "duration": 0.032411,
     "end_time": "2025-07-30T13:47:53.973029",
     "exception": false,
     "start_time": "2025-07-30T13:47:53.940618",
     "status": "completed"
    },
    "tags": []
   },
   "outputs": [],
   "source": [
    "import numpy as np\n",
    "from sklearn.pipeline import Pipeline\n",
    "from sklearn.preprocessing import StandardScaler\n",
    "\n",
    "model = Pipeline([\n",
    "    #(\"continuous_processor\", continuous_processor),\n",
    "    #(\"categorical_preprocessor\", categorical_preprocessor),\n",
    "    (\"scale\", StandardScaler() if universe[\"scale\"] == \"scale\" else None), \n",
    "    (\"model\", model),\n",
    "])"
   ]
  },
  {
   "cell_type": "code",
   "execution_count": 43,
   "id": "9442c04d",
   "metadata": {
    "execution": {
     "iopub.execute_input": "2025-07-30T13:47:54.023528Z",
     "iopub.status.busy": "2025-07-30T13:47:54.022868Z",
     "iopub.status.idle": "2025-07-30T13:47:54.150806Z",
     "shell.execute_reply": "2025-07-30T13:47:54.149964Z"
    },
    "papermill": {
     "duration": 0.153976,
     "end_time": "2025-07-30T13:47:54.152719",
     "exception": false,
     "start_time": "2025-07-30T13:47:53.998743",
     "status": "completed"
    },
    "tags": []
   },
   "outputs": [
    {
     "name": "stderr",
     "output_type": "stream",
     "text": [
      "/dss/dsshome1/0C/ra93lal2/.local/share/virtualenvs/CMA_Fairness_v2-3j10GkSs/lib/python3.10/site-packages/sklearn/linear_model/_logistic.py:444: ConvergenceWarning: lbfgs failed to converge (status=1):\n",
      "STOP: TOTAL NO. of ITERATIONS REACHED LIMIT.\n",
      "\n",
      "Increase the number of iterations (max_iter) or scale the data as shown in:\n",
      "    https://scikit-learn.org/stable/modules/preprocessing.html\n",
      "Please also refer to the documentation for alternative solver options:\n",
      "    https://scikit-learn.org/stable/modules/linear_model.html#logistic-regression\n",
      "  n_iter_i = _check_optimize_result(\n"
     ]
    },
    {
     "data": {
      "text/html": [
       "<style>#sk-container-id-1 {color: black;background-color: white;}#sk-container-id-1 pre{padding: 0;}#sk-container-id-1 div.sk-toggleable {background-color: white;}#sk-container-id-1 label.sk-toggleable__label {cursor: pointer;display: block;width: 100%;margin-bottom: 0;padding: 0.3em;box-sizing: border-box;text-align: center;}#sk-container-id-1 label.sk-toggleable__label-arrow:before {content: \"▸\";float: left;margin-right: 0.25em;color: #696969;}#sk-container-id-1 label.sk-toggleable__label-arrow:hover:before {color: black;}#sk-container-id-1 div.sk-estimator:hover label.sk-toggleable__label-arrow:before {color: black;}#sk-container-id-1 div.sk-toggleable__content {max-height: 0;max-width: 0;overflow: hidden;text-align: left;background-color: #f0f8ff;}#sk-container-id-1 div.sk-toggleable__content pre {margin: 0.2em;color: black;border-radius: 0.25em;background-color: #f0f8ff;}#sk-container-id-1 input.sk-toggleable__control:checked~div.sk-toggleable__content {max-height: 200px;max-width: 100%;overflow: auto;}#sk-container-id-1 input.sk-toggleable__control:checked~label.sk-toggleable__label-arrow:before {content: \"▾\";}#sk-container-id-1 div.sk-estimator input.sk-toggleable__control:checked~label.sk-toggleable__label {background-color: #d4ebff;}#sk-container-id-1 div.sk-label input.sk-toggleable__control:checked~label.sk-toggleable__label {background-color: #d4ebff;}#sk-container-id-1 input.sk-hidden--visually {border: 0;clip: rect(1px 1px 1px 1px);clip: rect(1px, 1px, 1px, 1px);height: 1px;margin: -1px;overflow: hidden;padding: 0;position: absolute;width: 1px;}#sk-container-id-1 div.sk-estimator {font-family: monospace;background-color: #f0f8ff;border: 1px dotted black;border-radius: 0.25em;box-sizing: border-box;margin-bottom: 0.5em;}#sk-container-id-1 div.sk-estimator:hover {background-color: #d4ebff;}#sk-container-id-1 div.sk-parallel-item::after {content: \"\";width: 100%;border-bottom: 1px solid gray;flex-grow: 1;}#sk-container-id-1 div.sk-label:hover label.sk-toggleable__label {background-color: #d4ebff;}#sk-container-id-1 div.sk-serial::before {content: \"\";position: absolute;border-left: 1px solid gray;box-sizing: border-box;top: 0;bottom: 0;left: 50%;z-index: 0;}#sk-container-id-1 div.sk-serial {display: flex;flex-direction: column;align-items: center;background-color: white;padding-right: 0.2em;padding-left: 0.2em;position: relative;}#sk-container-id-1 div.sk-item {position: relative;z-index: 1;}#sk-container-id-1 div.sk-parallel {display: flex;align-items: stretch;justify-content: center;background-color: white;position: relative;}#sk-container-id-1 div.sk-item::before, #sk-container-id-1 div.sk-parallel-item::before {content: \"\";position: absolute;border-left: 1px solid gray;box-sizing: border-box;top: 0;bottom: 0;left: 50%;z-index: -1;}#sk-container-id-1 div.sk-parallel-item {display: flex;flex-direction: column;z-index: 1;position: relative;background-color: white;}#sk-container-id-1 div.sk-parallel-item:first-child::after {align-self: flex-end;width: 50%;}#sk-container-id-1 div.sk-parallel-item:last-child::after {align-self: flex-start;width: 50%;}#sk-container-id-1 div.sk-parallel-item:only-child::after {width: 0;}#sk-container-id-1 div.sk-dashed-wrapped {border: 1px dashed gray;margin: 0 0.4em 0.5em 0.4em;box-sizing: border-box;padding-bottom: 0.4em;background-color: white;}#sk-container-id-1 div.sk-label label {font-family: monospace;font-weight: bold;display: inline-block;line-height: 1.2em;}#sk-container-id-1 div.sk-label-container {text-align: center;}#sk-container-id-1 div.sk-container {/* jupyter's `normalize.less` sets `[hidden] { display: none; }` but bootstrap.min.css set `[hidden] { display: none !important; }` so we also need the `!important` here to be able to override the default hidden behavior on the sphinx rendered scikit-learn.org. See: https://github.com/scikit-learn/scikit-learn/issues/21755 */display: inline-block !important;position: relative;}#sk-container-id-1 div.sk-text-repr-fallback {display: none;}</style><div id=\"sk-container-id-1\" class=\"sk-top-container\"><div class=\"sk-text-repr-fallback\"><pre>Pipeline(steps=[(&#x27;scale&#x27;, None), (&#x27;model&#x27;, LogisticRegression())])</pre><b>In a Jupyter environment, please rerun this cell to show the HTML representation or trust the notebook. <br />On GitHub, the HTML representation is unable to render, please try loading this page with nbviewer.org.</b></div><div class=\"sk-container\" hidden><div class=\"sk-item sk-dashed-wrapped\"><div class=\"sk-label-container\"><div class=\"sk-label sk-toggleable\"><input class=\"sk-toggleable__control sk-hidden--visually\" id=\"sk-estimator-id-1\" type=\"checkbox\" ><label for=\"sk-estimator-id-1\" class=\"sk-toggleable__label sk-toggleable__label-arrow\">Pipeline</label><div class=\"sk-toggleable__content\"><pre>Pipeline(steps=[(&#x27;scale&#x27;, None), (&#x27;model&#x27;, LogisticRegression())])</pre></div></div></div><div class=\"sk-serial\"><div class=\"sk-item\"><div class=\"sk-estimator sk-toggleable\"><input class=\"sk-toggleable__control sk-hidden--visually\" id=\"sk-estimator-id-2\" type=\"checkbox\" ><label for=\"sk-estimator-id-2\" class=\"sk-toggleable__label sk-toggleable__label-arrow\">None</label><div class=\"sk-toggleable__content\"><pre>None</pre></div></div></div><div class=\"sk-item\"><div class=\"sk-estimator sk-toggleable\"><input class=\"sk-toggleable__control sk-hidden--visually\" id=\"sk-estimator-id-3\" type=\"checkbox\" ><label for=\"sk-estimator-id-3\" class=\"sk-toggleable__label sk-toggleable__label-arrow\">LogisticRegression</label><div class=\"sk-toggleable__content\"><pre>LogisticRegression()</pre></div></div></div></div></div></div></div>"
      ],
      "text/plain": [
       "Pipeline(steps=[('scale', None), ('model', LogisticRegression())])"
      ]
     },
     "execution_count": 43,
     "metadata": {},
     "output_type": "execute_result"
    }
   ],
   "source": [
    "model.fit(X_train, y_train.values.ravel())"
   ]
  },
  {
   "cell_type": "code",
   "execution_count": 44,
   "id": "af59f8c0",
   "metadata": {
    "execution": {
     "iopub.execute_input": "2025-07-30T13:47:54.200272Z",
     "iopub.status.busy": "2025-07-30T13:47:54.199719Z",
     "iopub.status.idle": "2025-07-30T13:47:54.205250Z",
     "shell.execute_reply": "2025-07-30T13:47:54.204369Z"
    },
    "papermill": {
     "duration": 0.030251,
     "end_time": "2025-07-30T13:47:54.206876",
     "exception": false,
     "start_time": "2025-07-30T13:47:54.176625",
     "status": "completed"
    },
    "tags": []
   },
   "outputs": [],
   "source": [
    "from fairness_multiverse.universe import predict_w_threshold"
   ]
  },
  {
   "cell_type": "code",
   "execution_count": 45,
   "id": "a7cf2e16",
   "metadata": {
    "execution": {
     "iopub.execute_input": "2025-07-30T13:47:54.254553Z",
     "iopub.status.busy": "2025-07-30T13:47:54.254034Z",
     "iopub.status.idle": "2025-07-30T13:47:54.352773Z",
     "shell.execute_reply": "2025-07-30T13:47:54.351735Z"
    },
    "papermill": {
     "duration": 0.124213,
     "end_time": "2025-07-30T13:47:54.354945",
     "exception": false,
     "start_time": "2025-07-30T13:47:54.230732",
     "status": "completed"
    },
    "tags": []
   },
   "outputs": [
    {
     "data": {
      "text/plain": [
       "0.8573737598929885"
      ]
     },
     "execution_count": 45,
     "metadata": {},
     "output_type": "execute_result"
    }
   ],
   "source": [
    "probs_test = model.predict_proba(X_test)\n",
    "\n",
    "'''\n",
    "Below code returns a boolean array (or binary 0/1 array depending on how it’s used) where each element \n",
    "is True if the probability of class 1 is greater than or equal to the threshold, and False otherwise.\n",
    "'''\n",
    "y_pred_default = predict_w_threshold(probs_test, 0.5)\n",
    "\n",
    "from sklearn.metrics import accuracy_score\n",
    "\n",
    "# Naive prediction\n",
    "accuracy_score(y_true = y_true, y_pred = y_pred_default)"
   ]
  },
  {
   "cell_type": "code",
   "execution_count": 46,
   "id": "081964c3",
   "metadata": {
    "execution": {
     "iopub.execute_input": "2025-07-30T13:47:54.404742Z",
     "iopub.status.busy": "2025-07-30T13:47:54.403820Z",
     "iopub.status.idle": "2025-07-30T13:47:54.487570Z",
     "shell.execute_reply": "2025-07-30T13:47:54.486754Z"
    },
    "papermill": {
     "duration": 0.108758,
     "end_time": "2025-07-30T13:47:54.489091",
     "exception": false,
     "start_time": "2025-07-30T13:47:54.380333",
     "status": "completed"
    },
    "tags": []
   },
   "outputs": [
    {
     "data": {
      "text/plain": [
       "array([0, 0, 0, ..., 0, 0, 0])"
      ]
     },
     "execution_count": 46,
     "metadata": {},
     "output_type": "execute_result"
    }
   ],
   "source": [
    "model.predict(X_test)"
   ]
  },
  {
   "cell_type": "markdown",
   "id": "56c9705b",
   "metadata": {
    "papermill": {
     "duration": 0.022977,
     "end_time": "2025-07-30T13:47:54.553315",
     "exception": false,
     "start_time": "2025-07-30T13:47:54.530338",
     "status": "completed"
    },
    "tags": []
   },
   "source": [
    "# Conformal Prediction"
   ]
  },
  {
   "cell_type": "code",
   "execution_count": 47,
   "id": "160ec6ff",
   "metadata": {
    "execution": {
     "iopub.execute_input": "2025-07-30T13:47:54.603238Z",
     "iopub.status.busy": "2025-07-30T13:47:54.602576Z",
     "iopub.status.idle": "2025-07-30T13:47:54.607821Z",
     "shell.execute_reply": "2025-07-30T13:47:54.606872Z"
    },
    "papermill": {
     "duration": 0.031166,
     "end_time": "2025-07-30T13:47:54.609697",
     "exception": false,
     "start_time": "2025-07-30T13:47:54.578531",
     "status": "completed"
    },
    "tags": []
   },
   "outputs": [],
   "source": [
    "# Miscoverage level for conformal prediction (10% allowed error rate => 90% target coverage)\n",
    "alpha = 0.1"
   ]
  },
  {
   "cell_type": "code",
   "execution_count": 48,
   "id": "eadf4555-3dd3-440e-8e35-f82a4ad9f855",
   "metadata": {
    "execution": {
     "iopub.execute_input": "2025-07-30T13:47:54.661757Z",
     "iopub.status.busy": "2025-07-30T13:47:54.661250Z",
     "iopub.status.idle": "2025-07-30T13:47:54.742053Z",
     "shell.execute_reply": "2025-07-30T13:47:54.741089Z"
    },
    "papermill": {
     "duration": 0.106874,
     "end_time": "2025-07-30T13:47:54.743864",
     "exception": false,
     "start_time": "2025-07-30T13:47:54.636990",
     "status": "completed"
    },
    "tags": []
   },
   "outputs": [],
   "source": [
    "probs_calib = model.predict_proba(X_calib)"
   ]
  },
  {
   "cell_type": "code",
   "execution_count": 49,
   "id": "2ed93547-6d5d-4983-9b36-1ecb300da49a",
   "metadata": {
    "execution": {
     "iopub.execute_input": "2025-07-30T13:47:54.794309Z",
     "iopub.status.busy": "2025-07-30T13:47:54.793789Z",
     "iopub.status.idle": "2025-07-30T13:47:54.799775Z",
     "shell.execute_reply": "2025-07-30T13:47:54.798829Z"
    },
    "papermill": {
     "duration": 0.032578,
     "end_time": "2025-07-30T13:47:54.801434",
     "exception": false,
     "start_time": "2025-07-30T13:47:54.768856",
     "status": "completed"
    },
    "tags": []
   },
   "outputs": [],
   "source": [
    "y_calib = y_calib.values.ravel().astype(int)"
   ]
  },
  {
   "cell_type": "code",
   "execution_count": 50,
   "id": "65d1320d-f588-4b38-9072-62af1ae97f7d",
   "metadata": {
    "execution": {
     "iopub.execute_input": "2025-07-30T13:47:54.865299Z",
     "iopub.status.busy": "2025-07-30T13:47:54.864819Z",
     "iopub.status.idle": "2025-07-30T13:47:54.873930Z",
     "shell.execute_reply": "2025-07-30T13:47:54.872916Z"
    },
    "papermill": {
     "duration": 0.044108,
     "end_time": "2025-07-30T13:47:54.875681",
     "exception": false,
     "start_time": "2025-07-30T13:47:54.831573",
     "status": "completed"
    },
    "tags": []
   },
   "outputs": [],
   "source": [
    "from fairness_multiverse.conformal import compute_nc_scores\n",
    "\n",
    "# Compute nonconformity scores on calibration set (1 - probability of true class)\n",
    "nc_scores = compute_nc_scores(probs_calib, y_calib)"
   ]
  },
  {
   "cell_type": "code",
   "execution_count": 51,
   "id": "df3b8ca3-53b7-43d5-9667-7c85da7aeda2",
   "metadata": {
    "execution": {
     "iopub.execute_input": "2025-07-30T13:47:54.927146Z",
     "iopub.status.busy": "2025-07-30T13:47:54.926253Z",
     "iopub.status.idle": "2025-07-30T13:47:54.933312Z",
     "shell.execute_reply": "2025-07-30T13:47:54.932369Z"
    },
    "papermill": {
     "duration": 0.034739,
     "end_time": "2025-07-30T13:47:54.934943",
     "exception": false,
     "start_time": "2025-07-30T13:47:54.900204",
     "status": "completed"
    },
    "tags": []
   },
   "outputs": [],
   "source": [
    "from fairness_multiverse.conformal import find_threshold\n",
    "\n",
    "# Find conformal threshold q_hat for the given alpha (split conformal method)\n",
    "q_hat = find_threshold(nc_scores, alpha)"
   ]
  },
  {
   "cell_type": "code",
   "execution_count": 52,
   "id": "4d29e6c1-0ef6-4aa4-b8fe-4fe79b0d033a",
   "metadata": {
    "execution": {
     "iopub.execute_input": "2025-07-30T13:47:54.987639Z",
     "iopub.status.busy": "2025-07-30T13:47:54.987144Z",
     "iopub.status.idle": "2025-07-30T13:47:54.994923Z",
     "shell.execute_reply": "2025-07-30T13:47:54.993899Z"
    },
    "papermill": {
     "duration": 0.037613,
     "end_time": "2025-07-30T13:47:54.996769",
     "exception": false,
     "start_time": "2025-07-30T13:47:54.959156",
     "status": "completed"
    },
    "tags": []
   },
   "outputs": [
    {
     "data": {
      "text/plain": [
       "0.6676771736720664"
      ]
     },
     "execution_count": 52,
     "metadata": {},
     "output_type": "execute_result"
    }
   ],
   "source": [
    "q_hat"
   ]
  },
  {
   "cell_type": "code",
   "execution_count": 53,
   "id": "92460794-cdac-4be2-ba28-f28c0515a6fb",
   "metadata": {
    "execution": {
     "iopub.execute_input": "2025-07-30T13:47:55.047417Z",
     "iopub.status.busy": "2025-07-30T13:47:55.046945Z",
     "iopub.status.idle": "2025-07-30T13:47:55.841614Z",
     "shell.execute_reply": "2025-07-30T13:47:55.840652Z"
    },
    "papermill": {
     "duration": 0.82177,
     "end_time": "2025-07-30T13:47:55.843388",
     "exception": false,
     "start_time": "2025-07-30T13:47:55.021618",
     "status": "completed"
    },
    "tags": []
   },
   "outputs": [],
   "source": [
    "from fairness_multiverse.conformal import predict_conformal_sets\n",
    "\n",
    "# Generate prediction sets for each test example\n",
    "pred_sets = predict_conformal_sets(model, X_test, q_hat)"
   ]
  },
  {
   "cell_type": "code",
   "execution_count": 54,
   "id": "d90c9a65-e6db-4f5d-80cd-e68fb7e46829",
   "metadata": {
    "execution": {
     "iopub.execute_input": "2025-07-30T13:47:55.892840Z",
     "iopub.status.busy": "2025-07-30T13:47:55.892155Z",
     "iopub.status.idle": "2025-07-30T13:47:55.897536Z",
     "shell.execute_reply": "2025-07-30T13:47:55.896646Z"
    },
    "papermill": {
     "duration": 0.031735,
     "end_time": "2025-07-30T13:47:55.899126",
     "exception": false,
     "start_time": "2025-07-30T13:47:55.867391",
     "status": "completed"
    },
    "tags": []
   },
   "outputs": [],
   "source": [
    "y_true = y_true.squeeze()"
   ]
  },
  {
   "cell_type": "code",
   "execution_count": 55,
   "id": "3a58a54a-1e68-46b9-927a-df01f18aebc8",
   "metadata": {
    "execution": {
     "iopub.execute_input": "2025-07-30T13:47:55.954162Z",
     "iopub.status.busy": "2025-07-30T13:47:55.953516Z",
     "iopub.status.idle": "2025-07-30T13:47:56.862807Z",
     "shell.execute_reply": "2025-07-30T13:47:56.861870Z"
    },
    "papermill": {
     "duration": 0.940571,
     "end_time": "2025-07-30T13:47:56.864643",
     "exception": false,
     "start_time": "2025-07-30T13:47:55.924072",
     "status": "completed"
    },
    "tags": []
   },
   "outputs": [],
   "source": [
    "from fairness_multiverse.conformal import evaluate_sets\n",
    "\n",
    "# Evaluate coverage and average set size on test data\n",
    "metrics = evaluate_sets(pred_sets, y_true)"
   ]
  },
  {
   "cell_type": "markdown",
   "id": "2b569c12-9aaa-4c88-98c9-bbcd0cf3ebb8",
   "metadata": {
    "papermill": {
     "duration": 0.023326,
     "end_time": "2025-07-30T13:47:56.912095",
     "exception": false,
     "start_time": "2025-07-30T13:47:56.888769",
     "status": "completed"
    },
    "tags": []
   },
   "source": [
    "# CP Metrics"
   ]
  },
  {
   "cell_type": "code",
   "execution_count": 56,
   "id": "5ce0a5cb-201f-45a0-ade5-94c7f0bd6095",
   "metadata": {
    "execution": {
     "iopub.execute_input": "2025-07-30T13:47:57.021954Z",
     "iopub.status.busy": "2025-07-30T13:47:57.021461Z",
     "iopub.status.idle": "2025-07-30T13:47:57.028833Z",
     "shell.execute_reply": "2025-07-30T13:47:57.027778Z"
    },
    "papermill": {
     "duration": 0.095266,
     "end_time": "2025-07-30T13:47:57.030263",
     "exception": false,
     "start_time": "2025-07-30T13:47:56.934997",
     "status": "completed"
    },
    "tags": []
   },
   "outputs": [
    {
     "data": {
      "text/plain": [
       "{'coverage': 0.9107011481440196, 'avg_size': 1.2147029316687104}"
      ]
     },
     "execution_count": 56,
     "metadata": {},
     "output_type": "execute_result"
    }
   ],
   "source": [
    "metrics"
   ]
  },
  {
   "cell_type": "code",
   "execution_count": 57,
   "id": "9b9a838d-31c9-430b-ae14-12baee460d17",
   "metadata": {
    "execution": {
     "iopub.execute_input": "2025-07-30T13:47:57.082049Z",
     "iopub.status.busy": "2025-07-30T13:47:57.081563Z",
     "iopub.status.idle": "2025-07-30T13:47:57.087867Z",
     "shell.execute_reply": "2025-07-30T13:47:57.086885Z"
    },
    "papermill": {
     "duration": 0.034807,
     "end_time": "2025-07-30T13:47:57.089632",
     "exception": false,
     "start_time": "2025-07-30T13:47:57.054825",
     "status": "completed"
    },
    "tags": []
   },
   "outputs": [],
   "source": [
    "example_universe = universe.copy()\n",
    "universe_training_size = example_universe.get(\"training_size\")\n",
    "universe_scale = example_universe.get(\"scale\")\n",
    "universe_model = example_universe.get(\"model\")\n",
    "universe_exclude_features = example_universe.get(\"exclude_features\")\n",
    "universe_exclude_subgroups = example_universe.get(\"exclude_subgroups\")"
   ]
  },
  {
   "cell_type": "code",
   "execution_count": 58,
   "id": "f4b6a8ac-9dc0-4245-8a91-5b3b5999c4f9",
   "metadata": {
    "execution": {
     "iopub.execute_input": "2025-07-30T13:47:57.142397Z",
     "iopub.status.busy": "2025-07-30T13:47:57.141682Z",
     "iopub.status.idle": "2025-07-30T13:47:57.148696Z",
     "shell.execute_reply": "2025-07-30T13:47:57.147528Z"
    },
    "papermill": {
     "duration": 0.035054,
     "end_time": "2025-07-30T13:47:57.150251",
     "exception": false,
     "start_time": "2025-07-30T13:47:57.115197",
     "status": "completed"
    },
    "tags": []
   },
   "outputs": [],
   "source": [
    "cp_metrics_dict = {\n",
    "    \"universe_id\": [universe_id],\n",
    "    \"universe_training_size\": [universe_training_size],\n",
    "    \"universe_scale\": [universe_scale],\n",
    "    \"universe_model\": [universe_model],\n",
    "    \"universe_exclude_features\": [universe_exclude_features],\n",
    "    \"universe_exclude_subgroups\": [universe_exclude_subgroups],\n",
    "    \"q_hat\": [q_hat],\n",
    "    \"coverage\": [metrics[\"coverage\"]],\n",
    "    \"avg_size\": [metrics[\"avg_size\"]],\n",
    "}"
   ]
  },
  {
   "cell_type": "code",
   "execution_count": 59,
   "id": "908acbb1-0371-4915-85ca-3fa520d2efe2",
   "metadata": {
    "execution": {
     "iopub.execute_input": "2025-07-30T13:47:57.203659Z",
     "iopub.status.busy": "2025-07-30T13:47:57.202788Z",
     "iopub.status.idle": "2025-07-30T13:47:57.210636Z",
     "shell.execute_reply": "2025-07-30T13:47:57.209685Z"
    },
    "papermill": {
     "duration": 0.036472,
     "end_time": "2025-07-30T13:47:57.212224",
     "exception": false,
     "start_time": "2025-07-30T13:47:57.175752",
     "status": "completed"
    },
    "tags": []
   },
   "outputs": [
    {
     "data": {
      "text/plain": [
       "{'universe_id': ['f8440baa201f9c365a0a2af8c444efe0'],\n",
       " 'universe_training_size': ['5k'],\n",
       " 'universe_scale': ['do-not-scale'],\n",
       " 'universe_model': ['logreg'],\n",
       " 'universe_exclude_features': ['nationality-sex'],\n",
       " 'universe_exclude_subgroups': ['drop-non-german'],\n",
       " 'q_hat': [0.6676771736720664],\n",
       " 'coverage': [0.9107011481440196],\n",
       " 'avg_size': [1.2147029316687104]}"
      ]
     },
     "execution_count": 59,
     "metadata": {},
     "output_type": "execute_result"
    }
   ],
   "source": [
    "cp_metrics_dict"
   ]
  },
  {
   "cell_type": "code",
   "execution_count": 60,
   "id": "33007efc-14e9-4ec6-97ac-56a455c82265",
   "metadata": {
    "execution": {
     "iopub.execute_input": "2025-07-30T13:47:57.266822Z",
     "iopub.status.busy": "2025-07-30T13:47:57.266352Z",
     "iopub.status.idle": "2025-07-30T13:47:57.273263Z",
     "shell.execute_reply": "2025-07-30T13:47:57.272250Z"
    },
    "papermill": {
     "duration": 0.037383,
     "end_time": "2025-07-30T13:47:57.274867",
     "exception": false,
     "start_time": "2025-07-30T13:47:57.237484",
     "status": "completed"
    },
    "tags": []
   },
   "outputs": [],
   "source": [
    "cp_metrics_df = pd.DataFrame(cp_metrics_dict)"
   ]
  },
  {
   "cell_type": "code",
   "execution_count": 61,
   "id": "db12611b-57b2-4910-b9d0-355adfd6e7bf",
   "metadata": {
    "execution": {
     "iopub.execute_input": "2025-07-30T13:47:57.332810Z",
     "iopub.status.busy": "2025-07-30T13:47:57.332142Z",
     "iopub.status.idle": "2025-07-30T13:47:57.350699Z",
     "shell.execute_reply": "2025-07-30T13:47:57.349606Z"
    },
    "papermill": {
     "duration": 0.050317,
     "end_time": "2025-07-30T13:47:57.352249",
     "exception": false,
     "start_time": "2025-07-30T13:47:57.301932",
     "status": "completed"
    },
    "tags": []
   },
   "outputs": [
    {
     "data": {
      "text/html": [
       "<div>\n",
       "<style scoped>\n",
       "    .dataframe tbody tr th:only-of-type {\n",
       "        vertical-align: middle;\n",
       "    }\n",
       "\n",
       "    .dataframe tbody tr th {\n",
       "        vertical-align: top;\n",
       "    }\n",
       "\n",
       "    .dataframe thead th {\n",
       "        text-align: right;\n",
       "    }\n",
       "</style>\n",
       "<table border=\"1\" class=\"dataframe\">\n",
       "  <thead>\n",
       "    <tr style=\"text-align: right;\">\n",
       "      <th></th>\n",
       "      <th>universe_id</th>\n",
       "      <th>universe_training_size</th>\n",
       "      <th>universe_scale</th>\n",
       "      <th>universe_model</th>\n",
       "      <th>universe_exclude_features</th>\n",
       "      <th>universe_exclude_subgroups</th>\n",
       "      <th>q_hat</th>\n",
       "      <th>coverage</th>\n",
       "      <th>avg_size</th>\n",
       "    </tr>\n",
       "  </thead>\n",
       "  <tbody>\n",
       "    <tr>\n",
       "      <th>0</th>\n",
       "      <td>f8440baa201f9c365a0a2af8c444efe0</td>\n",
       "      <td>5k</td>\n",
       "      <td>do-not-scale</td>\n",
       "      <td>logreg</td>\n",
       "      <td>nationality-sex</td>\n",
       "      <td>drop-non-german</td>\n",
       "      <td>0.667677</td>\n",
       "      <td>0.910701</td>\n",
       "      <td>1.214703</td>\n",
       "    </tr>\n",
       "  </tbody>\n",
       "</table>\n",
       "</div>"
      ],
      "text/plain": [
       "                        universe_id universe_training_size universe_scale  \\\n",
       "0  f8440baa201f9c365a0a2af8c444efe0                     5k   do-not-scale   \n",
       "\n",
       "  universe_model universe_exclude_features universe_exclude_subgroups  \\\n",
       "0         logreg           nationality-sex            drop-non-german   \n",
       "\n",
       "      q_hat  coverage  avg_size  \n",
       "0  0.667677  0.910701  1.214703  "
      ]
     },
     "execution_count": 61,
     "metadata": {},
     "output_type": "execute_result"
    }
   ],
   "source": [
    "cp_metrics_df"
   ]
  },
  {
   "cell_type": "code",
   "execution_count": 62,
   "id": "b7fbde55-a0a1-47e4-9af6-fe4a17fa8c61",
   "metadata": {
    "execution": {
     "iopub.execute_input": "2025-07-30T13:47:57.404789Z",
     "iopub.status.busy": "2025-07-30T13:47:57.404120Z",
     "iopub.status.idle": "2025-07-30T13:47:57.409049Z",
     "shell.execute_reply": "2025-07-30T13:47:57.408124Z"
    },
    "papermill": {
     "duration": 0.03337,
     "end_time": "2025-07-30T13:47:57.410653",
     "exception": false,
     "start_time": "2025-07-30T13:47:57.377283",
     "status": "completed"
    },
    "tags": []
   },
   "outputs": [],
   "source": [
    "# Conditional Coverage & looking at subgroups"
   ]
  },
  {
   "cell_type": "code",
   "execution_count": 63,
   "id": "027ae886-68dd-4141-96c7-805a5450e1ef",
   "metadata": {
    "execution": {
     "iopub.execute_input": "2025-07-30T13:47:57.464830Z",
     "iopub.status.busy": "2025-07-30T13:47:57.463822Z",
     "iopub.status.idle": "2025-07-30T13:47:57.737255Z",
     "shell.execute_reply": "2025-07-30T13:47:57.736108Z"
    },
    "papermill": {
     "duration": 0.302159,
     "end_time": "2025-07-30T13:47:57.739073",
     "exception": false,
     "start_time": "2025-07-30T13:47:57.436914",
     "status": "completed"
    },
    "tags": []
   },
   "outputs": [],
   "source": [
    "from fairness_multiverse.conformal import build_cp_groups\n",
    "\n",
    "cp_groups_df = build_cp_groups(pred_sets, y_true, X_test.index, org_test)\n",
    "#needs universe_id and setting"
   ]
  },
  {
   "cell_type": "code",
   "execution_count": 64,
   "id": "01d5802c-663a-4d1f-9d69-e036faaffbf7",
   "metadata": {
    "execution": {
     "iopub.execute_input": "2025-07-30T13:47:57.776795Z",
     "iopub.status.busy": "2025-07-30T13:47:57.776103Z",
     "iopub.status.idle": "2025-07-30T13:47:57.780597Z",
     "shell.execute_reply": "2025-07-30T13:47:57.779779Z"
    },
    "papermill": {
     "duration": 0.022352,
     "end_time": "2025-07-30T13:47:57.782184",
     "exception": false,
     "start_time": "2025-07-30T13:47:57.759832",
     "status": "completed"
    },
    "tags": []
   },
   "outputs": [],
   "source": [
    "#delete\n",
    "#cp_groups_df"
   ]
  },
  {
   "cell_type": "code",
   "execution_count": 65,
   "id": "fa424af1-d1eb-443d-b717-2d279ada8408",
   "metadata": {
    "execution": {
     "iopub.execute_input": "2025-07-30T13:47:57.836451Z",
     "iopub.status.busy": "2025-07-30T13:47:57.835836Z",
     "iopub.status.idle": "2025-07-30T13:47:57.841119Z",
     "shell.execute_reply": "2025-07-30T13:47:57.840083Z"
    },
    "papermill": {
     "duration": 0.030985,
     "end_time": "2025-07-30T13:47:57.842913",
     "exception": false,
     "start_time": "2025-07-30T13:47:57.811928",
     "status": "completed"
    },
    "tags": []
   },
   "outputs": [],
   "source": [
    "#delete\n",
    "#percentage = (cp_groups_df['nongerman_female'] == 1).mean() * 100\n",
    "#print(percentage)\n"
   ]
  },
  {
   "cell_type": "code",
   "execution_count": 66,
   "id": "6cbdab96-b2b2-45af-ad54-d0516db2e28d",
   "metadata": {
    "execution": {
     "iopub.execute_input": "2025-07-30T13:47:57.894714Z",
     "iopub.status.busy": "2025-07-30T13:47:57.894278Z",
     "iopub.status.idle": "2025-07-30T13:47:59.461549Z",
     "shell.execute_reply": "2025-07-30T13:47:59.460477Z"
    },
    "papermill": {
     "duration": 1.58974,
     "end_time": "2025-07-30T13:47:59.463602",
     "exception": false,
     "start_time": "2025-07-30T13:47:57.873862",
     "status": "completed"
    },
    "tags": []
   },
   "outputs": [],
   "source": [
    "# Define covered = 1 if true_label is in the predicted set\n",
    "cp_groups_df['covered'] = cp_groups_df.apply(\n",
    "    lambda r: int(r['true_label'] in r['pred_set']),\n",
    "    axis=1\n",
    ")"
   ]
  },
  {
   "cell_type": "code",
   "execution_count": 67,
   "id": "338ff529-1a6b-4b87-a931-8e4788d52aad",
   "metadata": {
    "execution": {
     "iopub.execute_input": "2025-07-30T13:47:59.504594Z",
     "iopub.status.busy": "2025-07-30T13:47:59.504226Z",
     "iopub.status.idle": "2025-07-30T13:47:59.508990Z",
     "shell.execute_reply": "2025-07-30T13:47:59.508104Z"
    },
    "papermill": {
     "duration": 0.022712,
     "end_time": "2025-07-30T13:47:59.510404",
     "exception": false,
     "start_time": "2025-07-30T13:47:59.487692",
     "status": "completed"
    },
    "tags": []
   },
   "outputs": [],
   "source": [
    "#cp_groups_df"
   ]
  },
  {
   "cell_type": "code",
   "execution_count": 68,
   "id": "90032e27-66df-4540-9169-4e89cfbaa758",
   "metadata": {
    "execution": {
     "iopub.execute_input": "2025-07-30T13:47:59.569670Z",
     "iopub.status.busy": "2025-07-30T13:47:59.569098Z",
     "iopub.status.idle": "2025-07-30T13:47:59.583727Z",
     "shell.execute_reply": "2025-07-30T13:47:59.582535Z"
    },
    "papermill": {
     "duration": 0.048579,
     "end_time": "2025-07-30T13:47:59.585831",
     "exception": false,
     "start_time": "2025-07-30T13:47:59.537252",
     "status": "completed"
    },
    "tags": []
   },
   "outputs": [],
   "source": [
    "subgroups = ['frau1','nongerman','nongerman_male','nongerman_female']\n",
    "\n",
    "# Conditional coverage for subgroup==1\n",
    "cond_coverage = {\n",
    "    g: cp_groups_df.loc[cp_groups_df[g]==1, 'covered'].mean()\n",
    "    for g in subgroups\n",
    "}"
   ]
  },
  {
   "cell_type": "code",
   "execution_count": 69,
   "id": "1e348fb1-b9c3-45bc-ba23-f016827a7e0d",
   "metadata": {
    "execution": {
     "iopub.execute_input": "2025-07-30T13:47:59.659540Z",
     "iopub.status.busy": "2025-07-30T13:47:59.659091Z",
     "iopub.status.idle": "2025-07-30T13:47:59.666822Z",
     "shell.execute_reply": "2025-07-30T13:47:59.665860Z"
    },
    "papermill": {
     "duration": 0.0373,
     "end_time": "2025-07-30T13:47:59.668694",
     "exception": false,
     "start_time": "2025-07-30T13:47:59.631394",
     "status": "completed"
    },
    "tags": []
   },
   "outputs": [
    {
     "data": {
      "text/plain": [
       "{'frau1': 0.9085321471896483,\n",
       " 'nongerman': 0.9335878291135687,\n",
       " 'nongerman_male': 0.9470413401783302,\n",
       " 'nongerman_female': 0.9113263785394933}"
      ]
     },
     "execution_count": 69,
     "metadata": {},
     "output_type": "execute_result"
    }
   ],
   "source": [
    "cond_coverage"
   ]
  },
  {
   "cell_type": "code",
   "execution_count": 70,
   "id": "f5093324-c3dd-4d63-bc4c-8d945e5c8bbb",
   "metadata": {
    "execution": {
     "iopub.execute_input": "2025-07-30T13:47:59.732911Z",
     "iopub.status.busy": "2025-07-30T13:47:59.732439Z",
     "iopub.status.idle": "2025-07-30T13:47:59.738566Z",
     "shell.execute_reply": "2025-07-30T13:47:59.737767Z"
    },
    "papermill": {
     "duration": 0.039127,
     "end_time": "2025-07-30T13:47:59.740401",
     "exception": false,
     "start_time": "2025-07-30T13:47:59.701274",
     "status": "completed"
    },
    "tags": []
   },
   "outputs": [],
   "source": [
    "for subgroup, cov in cond_coverage.items():\n",
    "    cp_metrics_df[f\"cov_{subgroup}\"] = cov"
   ]
  },
  {
   "cell_type": "code",
   "execution_count": 71,
   "id": "6e872e10-dbe5-49e8-b554-5030c98ff75d",
   "metadata": {
    "execution": {
     "iopub.execute_input": "2025-07-30T13:47:59.797415Z",
     "iopub.status.busy": "2025-07-30T13:47:59.797140Z",
     "iopub.status.idle": "2025-07-30T13:47:59.816780Z",
     "shell.execute_reply": "2025-07-30T13:47:59.815589Z"
    },
    "papermill": {
     "duration": 0.049652,
     "end_time": "2025-07-30T13:47:59.818684",
     "exception": false,
     "start_time": "2025-07-30T13:47:59.769032",
     "status": "completed"
    },
    "tags": []
   },
   "outputs": [
    {
     "data": {
      "text/html": [
       "<div>\n",
       "<style scoped>\n",
       "    .dataframe tbody tr th:only-of-type {\n",
       "        vertical-align: middle;\n",
       "    }\n",
       "\n",
       "    .dataframe tbody tr th {\n",
       "        vertical-align: top;\n",
       "    }\n",
       "\n",
       "    .dataframe thead th {\n",
       "        text-align: right;\n",
       "    }\n",
       "</style>\n",
       "<table border=\"1\" class=\"dataframe\">\n",
       "  <thead>\n",
       "    <tr style=\"text-align: right;\">\n",
       "      <th></th>\n",
       "      <th>universe_id</th>\n",
       "      <th>universe_training_size</th>\n",
       "      <th>universe_scale</th>\n",
       "      <th>universe_model</th>\n",
       "      <th>universe_exclude_features</th>\n",
       "      <th>universe_exclude_subgroups</th>\n",
       "      <th>q_hat</th>\n",
       "      <th>coverage</th>\n",
       "      <th>avg_size</th>\n",
       "      <th>cov_frau1</th>\n",
       "      <th>cov_nongerman</th>\n",
       "      <th>cov_nongerman_male</th>\n",
       "      <th>cov_nongerman_female</th>\n",
       "    </tr>\n",
       "  </thead>\n",
       "  <tbody>\n",
       "    <tr>\n",
       "      <th>0</th>\n",
       "      <td>f8440baa201f9c365a0a2af8c444efe0</td>\n",
       "      <td>5k</td>\n",
       "      <td>do-not-scale</td>\n",
       "      <td>logreg</td>\n",
       "      <td>nationality-sex</td>\n",
       "      <td>drop-non-german</td>\n",
       "      <td>0.667677</td>\n",
       "      <td>0.910701</td>\n",
       "      <td>1.214703</td>\n",
       "      <td>0.908532</td>\n",
       "      <td>0.933588</td>\n",
       "      <td>0.947041</td>\n",
       "      <td>0.911326</td>\n",
       "    </tr>\n",
       "  </tbody>\n",
       "</table>\n",
       "</div>"
      ],
      "text/plain": [
       "                        universe_id universe_training_size universe_scale  \\\n",
       "0  f8440baa201f9c365a0a2af8c444efe0                     5k   do-not-scale   \n",
       "\n",
       "  universe_model universe_exclude_features universe_exclude_subgroups  \\\n",
       "0         logreg           nationality-sex            drop-non-german   \n",
       "\n",
       "      q_hat  coverage  avg_size  cov_frau1  cov_nongerman  cov_nongerman_male  \\\n",
       "0  0.667677  0.910701  1.214703   0.908532       0.933588            0.947041   \n",
       "\n",
       "   cov_nongerman_female  \n",
       "0              0.911326  "
      ]
     },
     "execution_count": 71,
     "metadata": {},
     "output_type": "execute_result"
    }
   ],
   "source": [
    "cp_metrics_df"
   ]
  },
  {
   "cell_type": "markdown",
   "id": "33774451",
   "metadata": {
    "papermill": {
     "duration": 0.027538,
     "end_time": "2025-07-30T13:47:59.878359",
     "exception": false,
     "start_time": "2025-07-30T13:47:59.850821",
     "status": "completed"
    },
    "tags": []
   },
   "source": [
    "# (Fairness) Metrics"
   ]
  },
  {
   "cell_type": "code",
   "execution_count": 72,
   "id": "debc5d62",
   "metadata": {
    "execution": {
     "iopub.execute_input": "2025-07-30T13:47:59.937666Z",
     "iopub.status.busy": "2025-07-30T13:47:59.936768Z",
     "iopub.status.idle": "2025-07-30T13:47:59.963905Z",
     "shell.execute_reply": "2025-07-30T13:47:59.962746Z"
    },
    "papermill": {
     "duration": 0.060005,
     "end_time": "2025-07-30T13:47:59.965901",
     "exception": false,
     "start_time": "2025-07-30T13:47:59.905896",
     "status": "completed"
    },
    "tags": []
   },
   "outputs": [],
   "source": [
    "# do I need to include maxdeutsch1.missing?\n",
    "\n",
    "import numpy as np\n",
    "\n",
    "colname_to_bin = \"maxdeutsch1\"\n",
    "majority_value = org_train[colname_to_bin].mode()[0]\n",
    "\n",
    "org_test[\"majmin\"] = np.where(org_test[colname_to_bin] == majority_value, \"majority\", \"minority\")"
   ]
  },
  {
   "cell_type": "code",
   "execution_count": 73,
   "id": "06a50de5",
   "metadata": {
    "execution": {
     "iopub.execute_input": "2025-07-30T13:48:00.026659Z",
     "iopub.status.busy": "2025-07-30T13:48:00.026121Z",
     "iopub.status.idle": "2025-07-30T13:48:03.037992Z",
     "shell.execute_reply": "2025-07-30T13:48:03.036903Z"
    },
    "papermill": {
     "duration": 3.043281,
     "end_time": "2025-07-30T13:48:03.039963",
     "exception": false,
     "start_time": "2025-07-30T13:47:59.996682",
     "status": "completed"
    },
    "tags": []
   },
   "outputs": [],
   "source": [
    "example_universe = universe.copy()\n",
    "example_universe[\"cutoff\"] = example_universe[\"cutoff\"][0]\n",
    "example_universe[\"eval_fairness_grouping\"] = example_universe[\"eval_fairness_grouping\"][0]\n",
    "fairness_dict, metric_frame = universe_analysis.compute_metrics(\n",
    "    example_universe,\n",
    "    y_pred_prob=probs_test,\n",
    "    y_test=y_true,\n",
    "    org_test=org_test,\n",
    ")"
   ]
  },
  {
   "cell_type": "markdown",
   "id": "f95d4e02",
   "metadata": {
    "papermill": {
     "duration": 0.02859,
     "end_time": "2025-07-30T13:48:03.103348",
     "exception": false,
     "start_time": "2025-07-30T13:48:03.074758",
     "status": "completed"
    },
    "tags": []
   },
   "source": [
    "# Overall"
   ]
  },
  {
   "cell_type": "markdown",
   "id": "bdee4871",
   "metadata": {
    "papermill": {
     "duration": 0.029397,
     "end_time": "2025-07-30T13:48:03.160453",
     "exception": false,
     "start_time": "2025-07-30T13:48:03.131056",
     "status": "completed"
    },
    "tags": []
   },
   "source": [
    "Fairness\n",
    "Main fairness target: Equalized Odds. Seems to be a better fit than equal opportunity, since we're not only interested in Y = 1. Seems to be a better fit than demographic parity, since we also care about accuracy, not just equal distribution of preds.\n",
    "\n",
    "Pick column for computation of fairness metrics\n",
    "\n",
    "Performance\n",
    "Overall performance measures, most interesting in relation to the measures split by group below"
   ]
  },
  {
   "cell_type": "code",
   "execution_count": 74,
   "id": "c4e067c6",
   "metadata": {
    "execution": {
     "iopub.execute_input": "2025-07-30T13:48:03.218053Z",
     "iopub.status.busy": "2025-07-30T13:48:03.217596Z",
     "iopub.status.idle": "2025-07-30T13:48:03.226131Z",
     "shell.execute_reply": "2025-07-30T13:48:03.225190Z"
    },
    "papermill": {
     "duration": 0.039339,
     "end_time": "2025-07-30T13:48:03.227986",
     "exception": false,
     "start_time": "2025-07-30T13:48:03.188647",
     "status": "completed"
    },
    "tags": []
   },
   "outputs": [
    {
     "data": {
      "text/plain": [
       "accuracy                   0.216977\n",
       "balanced accuracy          0.532088\n",
       "f1                         0.238512\n",
       "precision                  0.136254\n",
       "false positive rate        0.891767\n",
       "false negative rate        0.044056\n",
       "selection rate             0.900000\n",
       "count                  89710.000000\n",
       "dtype: float64"
      ]
     },
     "execution_count": 74,
     "metadata": {},
     "output_type": "execute_result"
    }
   ],
   "source": [
    "metric_frame.overall"
   ]
  },
  {
   "cell_type": "markdown",
   "id": "e968fe9d",
   "metadata": {
    "papermill": {
     "duration": 0.027761,
     "end_time": "2025-07-30T13:48:03.284244",
     "exception": false,
     "start_time": "2025-07-30T13:48:03.256483",
     "status": "completed"
    },
    "tags": []
   },
   "source": [
    "By Group"
   ]
  },
  {
   "cell_type": "code",
   "execution_count": 75,
   "id": "ec325bce",
   "metadata": {
    "execution": {
     "iopub.execute_input": "2025-07-30T13:48:03.342738Z",
     "iopub.status.busy": "2025-07-30T13:48:03.342197Z",
     "iopub.status.idle": "2025-07-30T13:48:03.359278Z",
     "shell.execute_reply": "2025-07-30T13:48:03.358274Z"
    },
    "papermill": {
     "duration": 0.050588,
     "end_time": "2025-07-30T13:48:03.363651",
     "exception": false,
     "start_time": "2025-07-30T13:48:03.313063",
     "status": "completed"
    },
    "tags": []
   },
   "outputs": [
    {
     "data": {
      "text/html": [
       "<div>\n",
       "<style scoped>\n",
       "    .dataframe tbody tr th:only-of-type {\n",
       "        vertical-align: middle;\n",
       "    }\n",
       "\n",
       "    .dataframe tbody tr th {\n",
       "        vertical-align: top;\n",
       "    }\n",
       "\n",
       "    .dataframe thead th {\n",
       "        text-align: right;\n",
       "    }\n",
       "</style>\n",
       "<table border=\"1\" class=\"dataframe\">\n",
       "  <thead>\n",
       "    <tr style=\"text-align: right;\">\n",
       "      <th></th>\n",
       "      <th>accuracy</th>\n",
       "      <th>balanced accuracy</th>\n",
       "      <th>f1</th>\n",
       "      <th>precision</th>\n",
       "      <th>false positive rate</th>\n",
       "      <th>false negative rate</th>\n",
       "      <th>selection rate</th>\n",
       "      <th>count</th>\n",
       "    </tr>\n",
       "    <tr>\n",
       "      <th>majmin</th>\n",
       "      <th></th>\n",
       "      <th></th>\n",
       "      <th></th>\n",
       "      <th></th>\n",
       "      <th></th>\n",
       "      <th></th>\n",
       "      <th></th>\n",
       "      <th></th>\n",
       "    </tr>\n",
       "  </thead>\n",
       "  <tbody>\n",
       "    <tr>\n",
       "      <th>majority</th>\n",
       "      <td>0.238702</td>\n",
       "      <td>0.539551</td>\n",
       "      <td>0.247696</td>\n",
       "      <td>0.142449</td>\n",
       "      <td>0.869365</td>\n",
       "      <td>0.051532</td>\n",
       "      <td>0.879818</td>\n",
       "      <td>69170.0</td>\n",
       "    </tr>\n",
       "    <tr>\n",
       "      <th>minority</th>\n",
       "      <td>0.143817</td>\n",
       "      <td>0.509513</td>\n",
       "      <td>0.209618</td>\n",
       "      <td>0.117292</td>\n",
       "      <td>0.965772</td>\n",
       "      <td>0.015203</td>\n",
       "      <td>0.967965</td>\n",
       "      <td>20540.0</td>\n",
       "    </tr>\n",
       "  </tbody>\n",
       "</table>\n",
       "</div>"
      ],
      "text/plain": [
       "          accuracy  balanced accuracy        f1  precision  \\\n",
       "majmin                                                       \n",
       "majority  0.238702           0.539551  0.247696   0.142449   \n",
       "minority  0.143817           0.509513  0.209618   0.117292   \n",
       "\n",
       "          false positive rate  false negative rate  selection rate    count  \n",
       "majmin                                                                       \n",
       "majority             0.869365             0.051532        0.879818  69170.0  \n",
       "minority             0.965772             0.015203        0.967965  20540.0  "
      ]
     },
     "execution_count": 75,
     "metadata": {},
     "output_type": "execute_result"
    }
   ],
   "source": [
    "metric_frame.by_group"
   ]
  },
  {
   "cell_type": "code",
   "execution_count": 76,
   "id": "a9ddbe63",
   "metadata": {
    "execution": {
     "iopub.execute_input": "2025-07-30T13:48:03.441865Z",
     "iopub.status.busy": "2025-07-30T13:48:03.440922Z",
     "iopub.status.idle": "2025-07-30T13:48:05.925565Z",
     "shell.execute_reply": "2025-07-30T13:48:05.924561Z"
    },
    "papermill": {
     "duration": 2.517966,
     "end_time": "2025-07-30T13:48:05.927403",
     "exception": false,
     "start_time": "2025-07-30T13:48:03.409437",
     "status": "completed"
    },
    "tags": []
   },
   "outputs": [
    {
     "data": {
      "text/plain": [
       "array([[<Axes: title={'center': 'accuracy'}, xlabel='majmin'>,\n",
       "        <Axes: title={'center': 'balanced accuracy'}, xlabel='majmin'>,\n",
       "        <Axes: title={'center': 'f1'}, xlabel='majmin'>],\n",
       "       [<Axes: title={'center': 'precision'}, xlabel='majmin'>,\n",
       "        <Axes: title={'center': 'false positive rate'}, xlabel='majmin'>,\n",
       "        <Axes: title={'center': 'false negative rate'}, xlabel='majmin'>],\n",
       "       [<Axes: title={'center': 'selection rate'}, xlabel='majmin'>,\n",
       "        <Axes: title={'center': 'count'}, xlabel='majmin'>,\n",
       "        <Axes: xlabel='majmin'>]], dtype=object)"
      ]
     },
     "execution_count": 76,
     "metadata": {},
     "output_type": "execute_result"
    },
    {
     "data": {
      "image/png": "[encoded data removed]",
      "text/plain": [
       "<Figure size 1200x800 with 9 Axes>"
      ]
     },
     "metadata": {},
     "output_type": "display_data"
    }
   ],
   "source": [
    "# In a graphic\n",
    "metric_frame.by_group.plot.bar(\n",
    "    subplots=True,\n",
    "    layout=[3, 3],\n",
    "    legend=False,\n",
    "    figsize=[12, 8],\n",
    "    title=\"Show all metrics\",\n",
    ")"
   ]
  },
  {
   "cell_type": "markdown",
   "id": "f57a0bac",
   "metadata": {
    "papermill": {
     "duration": 0.03436,
     "end_time": "2025-07-30T13:48:05.998453",
     "exception": false,
     "start_time": "2025-07-30T13:48:05.964093",
     "status": "completed"
    },
    "tags": []
   },
   "source": [
    "# Final Output"
   ]
  },
  {
   "cell_type": "code",
   "execution_count": 77,
   "id": "96d280a3",
   "metadata": {
    "execution": {
     "iopub.execute_input": "2025-07-30T13:48:06.069242Z",
     "iopub.status.busy": "2025-07-30T13:48:06.068538Z",
     "iopub.status.idle": "2025-07-30T13:48:06.076884Z",
     "shell.execute_reply": "2025-07-30T13:48:06.075880Z"
    },
    "papermill": {
     "duration": 0.053803,
     "end_time": "2025-07-30T13:48:06.087268",
     "exception": false,
     "start_time": "2025-07-30T13:48:06.033465",
     "status": "completed"
    },
    "tags": []
   },
   "outputs": [
    {
     "data": {
      "text/plain": [
       "4"
      ]
     },
     "execution_count": 77,
     "metadata": {},
     "output_type": "execute_result"
    }
   ],
   "source": [
    "sub_universes = universe_analysis.generate_sub_universes()\n",
    "len(sub_universes)"
   ]
  },
  {
   "cell_type": "code",
   "execution_count": 78,
   "id": "92adf7ba",
   "metadata": {
    "execution": {
     "iopub.execute_input": "2025-07-30T13:48:06.152137Z",
     "iopub.status.busy": "2025-07-30T13:48:06.151732Z",
     "iopub.status.idle": "2025-07-30T13:48:06.158201Z",
     "shell.execute_reply": "2025-07-30T13:48:06.157284Z"
    },
    "papermill": {
     "duration": 0.041268,
     "end_time": "2025-07-30T13:48:06.159910",
     "exception": false,
     "start_time": "2025-07-30T13:48:06.118642",
     "status": "completed"
    },
    "tags": []
   },
   "outputs": [],
   "source": [
    "def filter_sub_universe_data(sub_universe, org_test):\n",
    "    # Keep all rows — no filtering\n",
    "    keep_rows_mask = np.ones(org_test.shape[0], dtype=bool)\n",
    "\n",
    "    print(f\"[INFO] Keeping all rows: {keep_rows_mask.sum()} rows retained.\")\n",
    "    return keep_rows_mask"
   ]
  },
  {
   "cell_type": "code",
   "execution_count": 79,
   "id": "4a759155",
   "metadata": {
    "execution": {
     "iopub.execute_input": "2025-07-30T13:48:06.229682Z",
     "iopub.status.busy": "2025-07-30T13:48:06.229214Z",
     "iopub.status.idle": "2025-07-30T13:48:15.836810Z",
     "shell.execute_reply": "2025-07-30T13:48:15.835581Z"
    },
    "papermill": {
     "duration": 9.64151,
     "end_time": "2025-07-30T13:48:15.838791",
     "exception": false,
     "start_time": "2025-07-30T13:48:06.197281",
     "status": "completed"
    },
    "tags": []
   },
   "outputs": [
    {
     "name": "stdout",
     "output_type": "stream",
     "text": [
      "Stopping execution_time clock.\n",
      "[INFO] Keeping all rows: 89710 rows retained.\n"
     ]
    },
    {
     "name": "stdout",
     "output_type": "stream",
     "text": [
      "[INFO] Keeping all rows: 89710 rows retained.\n"
     ]
    },
    {
     "name": "stdout",
     "output_type": "stream",
     "text": [
      "[INFO] Keeping all rows: 89710 rows retained.\n"
     ]
    },
    {
     "name": "stdout",
     "output_type": "stream",
     "text": [
      "[INFO] Keeping all rows: 89710 rows retained.\n"
     ]
    },
    {
     "data": {
      "text/html": [
       "<div>\n",
       "<style scoped>\n",
       "    .dataframe tbody tr th:only-of-type {\n",
       "        vertical-align: middle;\n",
       "    }\n",
       "\n",
       "    .dataframe tbody tr th {\n",
       "        vertical-align: top;\n",
       "    }\n",
       "\n",
       "    .dataframe thead th {\n",
       "        text-align: right;\n",
       "    }\n",
       "</style>\n",
       "<table border=\"1\" class=\"dataframe\">\n",
       "  <thead>\n",
       "    <tr style=\"text-align: right;\">\n",
       "      <th></th>\n",
       "      <th>run_no</th>\n",
       "      <th>universe_id</th>\n",
       "      <th>universe_settings</th>\n",
       "      <th>execution_time</th>\n",
       "      <th>test_size_n</th>\n",
       "      <th>test_size_frac</th>\n",
       "      <th>fair_main_equalized_odds_difference</th>\n",
       "      <th>fair_main_equalized_odds_ratio</th>\n",
       "      <th>fair_main_demographic_parity_difference</th>\n",
       "      <th>fair_main_demographic_parity_ratio</th>\n",
       "      <th>...</th>\n",
       "      <th>perf_grp_precision_0</th>\n",
       "      <th>perf_grp_precision_1</th>\n",
       "      <th>perf_grp_false positive rate_0</th>\n",
       "      <th>perf_grp_false positive rate_1</th>\n",
       "      <th>perf_grp_false negative rate_0</th>\n",
       "      <th>perf_grp_false negative rate_1</th>\n",
       "      <th>perf_grp_selection rate_0</th>\n",
       "      <th>perf_grp_selection rate_1</th>\n",
       "      <th>perf_grp_count_0</th>\n",
       "      <th>perf_grp_count_1</th>\n",
       "    </tr>\n",
       "  </thead>\n",
       "  <tbody>\n",
       "    <tr>\n",
       "      <th>0</th>\n",
       "      <td>12</td>\n",
       "      <td>f8440baa201f9c365a0a2af8c444efe0</td>\n",
       "      <td>{\"cutoff\": \"quantile_0.1\", \"eval_fairness_grou...</td>\n",
       "      <td>26.706124</td>\n",
       "      <td>89710</td>\n",
       "      <td>1.0</td>\n",
       "      <td>0.096406</td>\n",
       "      <td>0.900177</td>\n",
       "      <td>0.088147</td>\n",
       "      <td>0.908936</td>\n",
       "      <td>...</td>\n",
       "      <td>NaN</td>\n",
       "      <td>NaN</td>\n",
       "      <td>NaN</td>\n",
       "      <td>NaN</td>\n",
       "      <td>NaN</td>\n",
       "      <td>NaN</td>\n",
       "      <td>NaN</td>\n",
       "      <td>NaN</td>\n",
       "      <td>NaN</td>\n",
       "      <td>NaN</td>\n",
       "    </tr>\n",
       "    <tr>\n",
       "      <th>0</th>\n",
       "      <td>12</td>\n",
       "      <td>f8440baa201f9c365a0a2af8c444efe0</td>\n",
       "      <td>{\"cutoff\": \"quantile_0.1\", \"eval_fairness_grou...</td>\n",
       "      <td>26.706124</td>\n",
       "      <td>89710</td>\n",
       "      <td>1.0</td>\n",
       "      <td>0.096406</td>\n",
       "      <td>0.900177</td>\n",
       "      <td>0.088147</td>\n",
       "      <td>0.908936</td>\n",
       "      <td>...</td>\n",
       "      <td>0.117292</td>\n",
       "      <td>0.142449</td>\n",
       "      <td>0.965772</td>\n",
       "      <td>0.869365</td>\n",
       "      <td>0.015203</td>\n",
       "      <td>0.051532</td>\n",
       "      <td>0.967965</td>\n",
       "      <td>0.879818</td>\n",
       "      <td>20540.0</td>\n",
       "      <td>69170.0</td>\n",
       "    </tr>\n",
       "    <tr>\n",
       "      <th>0</th>\n",
       "      <td>12</td>\n",
       "      <td>f8440baa201f9c365a0a2af8c444efe0</td>\n",
       "      <td>{\"cutoff\": \"quantile_0.25\", \"eval_fairness_gro...</td>\n",
       "      <td>26.706124</td>\n",
       "      <td>89710</td>\n",
       "      <td>1.0</td>\n",
       "      <td>0.219643</td>\n",
       "      <td>0.755686</td>\n",
       "      <td>0.201369</td>\n",
       "      <td>0.777556</td>\n",
       "      <td>...</td>\n",
       "      <td>NaN</td>\n",
       "      <td>NaN</td>\n",
       "      <td>NaN</td>\n",
       "      <td>NaN</td>\n",
       "      <td>NaN</td>\n",
       "      <td>NaN</td>\n",
       "      <td>NaN</td>\n",
       "      <td>NaN</td>\n",
       "      <td>NaN</td>\n",
       "      <td>NaN</td>\n",
       "    </tr>\n",
       "    <tr>\n",
       "      <th>0</th>\n",
       "      <td>12</td>\n",
       "      <td>f8440baa201f9c365a0a2af8c444efe0</td>\n",
       "      <td>{\"cutoff\": \"quantile_0.25\", \"eval_fairness_gro...</td>\n",
       "      <td>26.706124</td>\n",
       "      <td>89710</td>\n",
       "      <td>1.0</td>\n",
       "      <td>0.219643</td>\n",
       "      <td>0.755686</td>\n",
       "      <td>0.201369</td>\n",
       "      <td>0.777556</td>\n",
       "      <td>...</td>\n",
       "      <td>0.121383</td>\n",
       "      <td>0.162360</td>\n",
       "      <td>0.899020</td>\n",
       "      <td>0.679377</td>\n",
       "      <td>0.046875</td>\n",
       "      <td>0.135120</td>\n",
       "      <td>0.905258</td>\n",
       "      <td>0.703889</td>\n",
       "      <td>20540.0</td>\n",
       "      <td>69170.0</td>\n",
       "    </tr>\n",
       "  </tbody>\n",
       "</table>\n",
       "<p>4 rows × 50 columns</p>\n",
       "</div>"
      ],
      "text/plain": [
       "  run_no                       universe_id  \\\n",
       "0     12  f8440baa201f9c365a0a2af8c444efe0   \n",
       "0     12  f8440baa201f9c365a0a2af8c444efe0   \n",
       "0     12  f8440baa201f9c365a0a2af8c444efe0   \n",
       "0     12  f8440baa201f9c365a0a2af8c444efe0   \n",
       "\n",
       "                                   universe_settings  execution_time  \\\n",
       "0  {\"cutoff\": \"quantile_0.1\", \"eval_fairness_grou...       26.706124   \n",
       "0  {\"cutoff\": \"quantile_0.1\", \"eval_fairness_grou...       26.706124   \n",
       "0  {\"cutoff\": \"quantile_0.25\", \"eval_fairness_gro...       26.706124   \n",
       "0  {\"cutoff\": \"quantile_0.25\", \"eval_fairness_gro...       26.706124   \n",
       "\n",
       "   test_size_n  test_size_frac  fair_main_equalized_odds_difference  \\\n",
       "0        89710             1.0                             0.096406   \n",
       "0        89710             1.0                             0.096406   \n",
       "0        89710             1.0                             0.219643   \n",
       "0        89710             1.0                             0.219643   \n",
       "\n",
       "   fair_main_equalized_odds_ratio  fair_main_demographic_parity_difference  \\\n",
       "0                        0.900177                                 0.088147   \n",
       "0                        0.900177                                 0.088147   \n",
       "0                        0.755686                                 0.201369   \n",
       "0                        0.755686                                 0.201369   \n",
       "\n",
       "   fair_main_demographic_parity_ratio  ...  perf_grp_precision_0  \\\n",
       "0                            0.908936  ...                   NaN   \n",
       "0                            0.908936  ...              0.117292   \n",
       "0                            0.777556  ...                   NaN   \n",
       "0                            0.777556  ...              0.121383   \n",
       "\n",
       "   perf_grp_precision_1  perf_grp_false positive rate_0  \\\n",
       "0                   NaN                             NaN   \n",
       "0              0.142449                        0.965772   \n",
       "0                   NaN                             NaN   \n",
       "0              0.162360                        0.899020   \n",
       "\n",
       "   perf_grp_false positive rate_1  perf_grp_false negative rate_0  \\\n",
       "0                             NaN                             NaN   \n",
       "0                        0.869365                        0.015203   \n",
       "0                             NaN                             NaN   \n",
       "0                        0.679377                        0.046875   \n",
       "\n",
       "   perf_grp_false negative rate_1  perf_grp_selection rate_0  \\\n",
       "0                             NaN                        NaN   \n",
       "0                        0.051532                   0.967965   \n",
       "0                             NaN                        NaN   \n",
       "0                        0.135120                   0.905258   \n",
       "\n",
       "   perf_grp_selection rate_1  perf_grp_count_0  perf_grp_count_1  \n",
       "0                        NaN               NaN               NaN  \n",
       "0                   0.879818           20540.0           69170.0  \n",
       "0                        NaN               NaN               NaN  \n",
       "0                   0.703889           20540.0           69170.0  \n",
       "\n",
       "[4 rows x 50 columns]"
      ]
     },
     "execution_count": 79,
     "metadata": {},
     "output_type": "execute_result"
    }
   ],
   "source": [
    "final_output = universe_analysis.generate_final_output(\n",
    "    y_pred_prob=probs_test,\n",
    "    y_test=y_true,\n",
    "    org_test=org_test,\n",
    "    filter_data=filter_sub_universe_data,\n",
    "    cp_metrics_df=cp_metrics_df,\n",
    "    save=True,\n",
    ")\n",
    "final_output"
   ]
  },
  {
   "cell_type": "code",
   "execution_count": null,
   "id": "721ff514-cb11-46f8-b6fc-50392f74b5cb",
   "metadata": {
    "papermill": {
     "duration": 0.016944,
     "end_time": "2025-07-30T13:48:15.889723",
     "exception": false,
     "start_time": "2025-07-30T13:48:15.872779",
     "status": "completed"
    },
    "tags": []
   },
   "outputs": [],
   "source": []
  }
 ],
 "metadata": {
  "celltoolbar": "Tags",
  "kernelspec": {
   "display_name": "Python (CMA Fairness)",
   "language": "python",
   "name": "cma_fair_env"
  },
  "language_info": {
   "codemirror_mode": {
    "name": "ipython",
    "version": 3
   },
   "file_extension": ".py",
   "mimetype": "text/x-python",
   "name": "python",
   "nbconvert_exporter": "python",
   "pygments_lexer": "ipython3",
   "version": "3.10.12"
  },
  "papermill": {
   "default_parameters": {},
   "duration": 40.559564,
   "end_time": "2025-07-30T13:48:16.624671",
   "environment_variables": {},
   "exception": null,
   "input_path": "universe_analysis.ipynb",
   "output_path": "output/runs/12/notebooks/m_12-f8440baa201f9c365a0a2af8c444efe0.ipynb",
   "parameters": {
    "output_dir": "output",
    "run_no": "12",
    "seed": "2023",
    "universe": "{\"cutoff\": [\"quantile_0.1\", \"quantile_0.25\"], \"eval_fairness_grouping\": [\"majority-minority\", \"nationality-all\"], \"exclude_features\": \"nationality-sex\", \"exclude_subgroups\": \"drop-non-german\", \"model\": \"logreg\", \"scale\": \"do-not-scale\", \"training_size\": \"5k\", \"training_year\": \"2014\"}",
    "universe_id": "f8440baa201f9c365a0a2af8c444efe0"
   },
   "start_time": "2025-07-30T13:47:36.065107",
   "version": "2.6.0"
  }
 },
 "nbformat": 4,
 "nbformat_minor": 5
}