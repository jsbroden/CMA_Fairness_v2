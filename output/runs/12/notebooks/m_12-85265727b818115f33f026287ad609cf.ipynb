{
 "cells": [
  {
   "cell_type": "code",
   "execution_count": 1,
   "id": "f159f837-637b-42ba-96b5-ec9a68c44524",
   "metadata": {
    "execution": {
     "iopub.execute_input": "2025-07-30T13:56:06.612758Z",
     "iopub.status.busy": "2025-07-30T13:56:06.612276Z",
     "iopub.status.idle": "2025-07-30T13:56:06.627761Z",
     "shell.execute_reply": "2025-07-30T13:56:06.626315Z"
    },
    "papermill": {
     "duration": 0.037632,
     "end_time": "2025-07-30T13:56:06.630021",
     "exception": false,
     "start_time": "2025-07-30T13:56:06.592389",
     "status": "completed"
    },
    "tags": []
   },
   "outputs": [
    {
     "name": "stdout",
     "output_type": "stream",
     "text": [
      "/dss/dsshome1/0C/ra93lal2/cma/CMA_Fairness_v2\n"
     ]
    },
    {
     "name": "stderr",
     "output_type": "stream",
     "text": [
      "/dss/dsshome1/0C/ra93lal2/.local/share/virtualenvs/CMA_Fairness_v2-3j10GkSs/lib/python3.10/site-packages/IPython/core/magics/osm.py:393: UserWarning: This is now an optional IPython functionality, using bookmarks requires you to install the `pickleshare` library.\n",
      "  bkms = self.shell.db.get('bookmarks', {})\n",
      "/dss/dsshome1/0C/ra93lal2/.local/share/virtualenvs/CMA_Fairness_v2-3j10GkSs/lib/python3.10/site-packages/IPython/core/magics/osm.py:417: UserWarning: This is now an optional IPython functionality, setting dhist requires you to install the `pickleshare` library.\n",
      "  self.shell.db['dhist'] = compress_dhist(dhist)[-100:]\n"
     ]
    }
   ],
   "source": [
    "%cd ~/cma/CMA_Fairness_v2"
   ]
  },
  {
   "cell_type": "markdown",
   "id": "de2603b9",
   "metadata": {
    "papermill": {
     "duration": 0.019723,
     "end_time": "2025-07-30T13:56:06.671820",
     "exception": false,
     "start_time": "2025-07-30T13:56:06.652097",
     "status": "completed"
    },
    "tags": []
   },
   "source": [
    "The following cell holds the definition of our parameters, these values can be overriden by rendering the with e.g. the following command:\n",
    "\n",
    "papermill -p alpha 0.2 -p ratio 0.3 universe_analysis.ipynb output/test_run.ipynb"
   ]
  },
  {
   "cell_type": "code",
   "execution_count": 2,
   "id": "a80968a0-40bb-4fa9-85ef-2d5eefb01975",
   "metadata": {
    "execution": {
     "iopub.execute_input": "2025-07-30T13:56:06.713413Z",
     "iopub.status.busy": "2025-07-30T13:56:06.712914Z",
     "iopub.status.idle": "2025-07-30T13:56:06.718681Z",
     "shell.execute_reply": "2025-07-30T13:56:06.717647Z"
    },
    "papermill": {
     "duration": 0.027765,
     "end_time": "2025-07-30T13:56:06.720524",
     "exception": false,
     "start_time": "2025-07-30T13:56:06.692759",
     "status": "completed"
    },
    "tags": []
   },
   "outputs": [
    {
     "name": "stdout",
     "output_type": "stream",
     "text": [
      "Current working directory: /dss/dsshome1/0C/ra93lal2/cma/CMA_Fairness_v2\n"
     ]
    }
   ],
   "source": [
    "import os\n",
    "print(\"Current working directory:\", os.getcwd())"
   ]
  },
  {
   "cell_type": "code",
   "execution_count": 3,
   "id": "2dce4c03",
   "metadata": {
    "execution": {
     "iopub.execute_input": "2025-07-30T13:56:06.762050Z",
     "iopub.status.busy": "2025-07-30T13:56:06.761410Z",
     "iopub.status.idle": "2025-07-30T13:56:06.767828Z",
     "shell.execute_reply": "2025-07-30T13:56:06.766675Z"
    },
    "papermill": {
     "duration": 0.029108,
     "end_time": "2025-07-30T13:56:06.769616",
     "exception": false,
     "start_time": "2025-07-30T13:56:06.740508",
     "status": "completed"
    },
    "tags": [
     "parameters"
    ]
   },
   "outputs": [],
   "source": [
    "run_no = 0\n",
    "universe_id = \"test\"\n",
    "universe = {\n",
    "    \"training_size\": \"25k\", # \"25k\", \"5k\", \"1k\"\n",
    "    \"training_year\": \"2014\", # \"2014\", \"2012_14\", \"2010_14\"\n",
    "    \"scale\": \"scale\", # \"scale\", \"do-not-scale\",\n",
    "    #\"stratify_split\": \"target\", # \"none\", \"target\", \"protected-attribute\", \"both\",\n",
    "    \"model\": \"elasticnet\", # \"logreg\", \"penalized_logreg\", \"rf\", \"gbm\", \"elasticnet\"\n",
    "    \"cutoff\": [\"quantile_0.15\", \"quantile_0.30\"],\n",
    "    \"exclude_features\": \"age\", # \"none\", \"nationality\", \"sex\", \"nationality-sex\", \"age\"\n",
    "    \"exclude_subgroups\": \"keep-all\", # \"keep-all\", \"drop-non-german\"\n",
    "    \"eval_fairness_grouping\": [\"majority-minority\", \"nationality-all\"]\n",
    "}\n",
    "\n",
    "output_dir=\"./output\"\n",
    "seed=0"
   ]
  },
  {
   "cell_type": "code",
   "execution_count": 4,
   "id": "008c870a",
   "metadata": {
    "execution": {
     "iopub.execute_input": "2025-07-30T13:56:06.810519Z",
     "iopub.status.busy": "2025-07-30T13:56:06.809912Z",
     "iopub.status.idle": "2025-07-30T13:56:06.815215Z",
     "shell.execute_reply": "2025-07-30T13:56:06.814231Z"
    },
    "papermill": {
     "duration": 0.027496,
     "end_time": "2025-07-30T13:56:06.817003",
     "exception": false,
     "start_time": "2025-07-30T13:56:06.789507",
     "status": "completed"
    },
    "tags": [
     "injected-parameters"
    ]
   },
   "outputs": [],
   "source": [
    "# Parameters\n",
    "universe_id = \"85265727b818115f33f026287ad609cf\"\n",
    "run_no = \"12\"\n",
    "universe = \"{\\\"cutoff\\\": [\\\"quantile_0.1\\\", \\\"quantile_0.25\\\"], \\\"eval_fairness_grouping\\\": [\\\"majority-minority\\\", \\\"nationality-all\\\"], \\\"exclude_features\\\": \\\"sex\\\", \\\"exclude_subgroups\\\": \\\"keep-all\\\", \\\"model\\\": \\\"rf\\\", \\\"scale\\\": \\\"scale\\\", \\\"training_size\\\": \\\"5k\\\", \\\"training_year\\\": \\\"2012_14\\\"}\"\n",
    "output_dir = \"output\"\n",
    "seed = \"2023\"\n"
   ]
  },
  {
   "cell_type": "code",
   "execution_count": 5,
   "id": "1650acaf",
   "metadata": {
    "execution": {
     "iopub.execute_input": "2025-07-30T13:56:06.859968Z",
     "iopub.status.busy": "2025-07-30T13:56:06.859102Z",
     "iopub.status.idle": "2025-07-30T13:56:06.864873Z",
     "shell.execute_reply": "2025-07-30T13:56:06.863888Z"
    },
    "papermill": {
     "duration": 0.028499,
     "end_time": "2025-07-30T13:56:06.866702",
     "exception": false,
     "start_time": "2025-07-30T13:56:06.838203",
     "status": "completed"
    },
    "tags": []
   },
   "outputs": [],
   "source": [
    "import json\n",
    "# Parse universe into dict if it is passed as a string\n",
    "if isinstance(universe, str):\n",
    "    universe = json.loads(universe)"
   ]
  },
  {
   "cell_type": "code",
   "execution_count": 6,
   "id": "16620c48",
   "metadata": {
    "execution": {
     "iopub.execute_input": "2025-07-30T13:56:06.910153Z",
     "iopub.status.busy": "2025-07-30T13:56:06.909135Z",
     "iopub.status.idle": "2025-07-30T13:56:06.955259Z",
     "shell.execute_reply": "2025-07-30T13:56:06.954269Z"
    },
    "papermill": {
     "duration": 0.069879,
     "end_time": "2025-07-30T13:56:06.957520",
     "exception": false,
     "start_time": "2025-07-30T13:56:06.887641",
     "status": "completed"
    },
    "tags": []
   },
   "outputs": [],
   "source": [
    "# Auto-reload the custom package\n",
    "%load_ext autoreload\n",
    "%autoreload 1\n",
    "%aimport fairness_multiverse"
   ]
  },
  {
   "cell_type": "code",
   "execution_count": 7,
   "id": "01c5c9f3",
   "metadata": {
    "execution": {
     "iopub.execute_input": "2025-07-30T13:56:06.995394Z",
     "iopub.status.busy": "2025-07-30T13:56:06.995027Z",
     "iopub.status.idle": "2025-07-30T13:56:08.794147Z",
     "shell.execute_reply": "2025-07-30T13:56:08.793143Z"
    },
    "papermill": {
     "duration": 1.81596,
     "end_time": "2025-07-30T13:56:08.796164",
     "exception": false,
     "start_time": "2025-07-30T13:56:06.980204",
     "status": "completed"
    },
    "tags": []
   },
   "outputs": [],
   "source": [
    "from fairness_multiverse.universe import UniverseAnalysis\n",
    "\n",
    "universe_analysis = UniverseAnalysis(\n",
    "    run_no = run_no,\n",
    "    universe_id = universe_id,\n",
    "    universe = universe,\n",
    "    output_dir=output_dir,\n",
    ")"
   ]
  },
  {
   "cell_type": "code",
   "execution_count": 8,
   "id": "106241f5",
   "metadata": {
    "execution": {
     "iopub.execute_input": "2025-07-30T13:56:08.839126Z",
     "iopub.status.busy": "2025-07-30T13:56:08.838608Z",
     "iopub.status.idle": "2025-07-30T13:56:08.845224Z",
     "shell.execute_reply": "2025-07-30T13:56:08.844247Z"
    },
    "papermill": {
     "duration": 0.028902,
     "end_time": "2025-07-30T13:56:08.847106",
     "exception": false,
     "start_time": "2025-07-30T13:56:08.818204",
     "status": "completed"
    },
    "tags": []
   },
   "outputs": [
    {
     "name": "stdout",
     "output_type": "stream",
     "text": [
      "Using Seed: 2023\n"
     ]
    }
   ],
   "source": [
    "import numpy as np\n",
    "parsed_seed = int(seed)\n",
    "np.random.seed(parsed_seed)\n",
    "print(f\"Using Seed: {parsed_seed}\")"
   ]
  },
  {
   "cell_type": "markdown",
   "id": "e0ebdc57",
   "metadata": {
    "papermill": {
     "duration": 0.010312,
     "end_time": "2025-07-30T13:56:08.871169",
     "exception": false,
     "start_time": "2025-07-30T13:56:08.860857",
     "status": "completed"
    },
    "tags": []
   },
   "source": [
    "# Loading Data"
   ]
  },
  {
   "cell_type": "markdown",
   "id": "681925a3",
   "metadata": {
    "papermill": {
     "duration": 0.009967,
     "end_time": "2025-07-30T13:56:08.891176",
     "exception": false,
     "start_time": "2025-07-30T13:56:08.881209",
     "status": "completed"
    },
    "tags": []
   },
   "source": [
    "Load siab_train, siab_test, siab_calib and/or \n",
    "load siab_train_features, siab_train_labels"
   ]
  },
  {
   "cell_type": "code",
   "execution_count": 9,
   "id": "f0496b8a",
   "metadata": {
    "execution": {
     "iopub.execute_input": "2025-07-30T13:56:08.916553Z",
     "iopub.status.busy": "2025-07-30T13:56:08.915960Z",
     "iopub.status.idle": "2025-07-30T13:56:21.605405Z",
     "shell.execute_reply": "2025-07-30T13:56:21.604107Z"
    },
    "papermill": {
     "duration": 12.702627,
     "end_time": "2025-07-30T13:56:21.607307",
     "exception": false,
     "start_time": "2025-07-30T13:56:08.904680",
     "status": "completed"
    },
    "tags": []
   },
   "outputs": [
    {
     "name": "stdout",
     "output_type": "stream",
     "text": [
      "Loading SIAB data from cache: data/siab_cached.csv.gz\n"
     ]
    },
    {
     "name": "stdout",
     "output_type": "stream",
     "text": [
      "(643690, 164)\n"
     ]
    }
   ],
   "source": [
    "from pathlib import Path\n",
    "import pandas as pd\n",
    "\n",
    "# File paths\n",
    "raw_file = Path(\"data/raw/siab.csv\")\n",
    "cache_file = Path(\"data/siab_cached.csv.gz\")\n",
    "\n",
    "# Ensure cache directory exists\n",
    "cache_file.parent.mkdir(parents=True, exist_ok=True)\n",
    "\n",
    "# Load with simple caching\n",
    "if cache_file.exists():\n",
    "    print(f\"Loading SIAB data from cache: {cache_file}\")\n",
    "    siab = pd.read_csv(cache_file, compression='gzip')\n",
    "else:\n",
    "    print(f\"Cache not found. Reading raw SIAB data: {raw_file}\")\n",
    "    siab = pd.read_csv(raw_file)\n",
    "    siab.to_csv(cache_file, index=False, compression='gzip')\n",
    "    print(f\"Cached SIAB data to: {cache_file}\")\n",
    "\n",
    "# Now use `siab` DataFrame as needed\n",
    "print(siab.shape)"
   ]
  },
  {
   "cell_type": "code",
   "execution_count": 10,
   "id": "db0ca512-5f53-4dba-abdb-a2888bca41ba",
   "metadata": {
    "execution": {
     "iopub.execute_input": "2025-07-30T13:56:21.698454Z",
     "iopub.status.busy": "2025-07-30T13:56:21.697993Z",
     "iopub.status.idle": "2025-07-30T13:56:21.704717Z",
     "shell.execute_reply": "2025-07-30T13:56:21.703694Z"
    },
    "papermill": {
     "duration": 0.057198,
     "end_time": "2025-07-30T13:56:21.706330",
     "exception": false,
     "start_time": "2025-07-30T13:56:21.649132",
     "status": "completed"
    },
    "tags": []
   },
   "outputs": [],
   "source": [
    "#siab"
   ]
  },
  {
   "cell_type": "code",
   "execution_count": 11,
   "id": "a0edb063",
   "metadata": {
    "execution": {
     "iopub.execute_input": "2025-07-30T13:56:21.752212Z",
     "iopub.status.busy": "2025-07-30T13:56:21.751663Z",
     "iopub.status.idle": "2025-07-30T13:56:21.757010Z",
     "shell.execute_reply": "2025-07-30T13:56:21.755990Z"
    },
    "papermill": {
     "duration": 0.027802,
     "end_time": "2025-07-30T13:56:21.758722",
     "exception": false,
     "start_time": "2025-07-30T13:56:21.730920",
     "status": "completed"
    },
    "tags": []
   },
   "outputs": [],
   "source": [
    "#import pandas as pd\n",
    "#\n",
    "#X_train = pd.read_csv(\"./data/X_train.csv\")\n",
    "#y_train = pd.read_csv(\"./data/y_train.csv\")"
   ]
  },
  {
   "cell_type": "code",
   "execution_count": 12,
   "id": "63d08085",
   "metadata": {
    "execution": {
     "iopub.execute_input": "2025-07-30T13:56:21.817905Z",
     "iopub.status.busy": "2025-07-30T13:56:21.817419Z",
     "iopub.status.idle": "2025-07-30T13:56:21.822389Z",
     "shell.execute_reply": "2025-07-30T13:56:21.821512Z"
    },
    "papermill": {
     "duration": 0.025946,
     "end_time": "2025-07-30T13:56:21.824352",
     "exception": false,
     "start_time": "2025-07-30T13:56:21.798406",
     "status": "completed"
    },
    "tags": []
   },
   "outputs": [],
   "source": [
    "#X_test = pd.read_csv(\"./data/X_test.csv\")\n",
    "#y_true = pd.read_csv(\"./data/y_test.csv\")"
   ]
  },
  {
   "cell_type": "code",
   "execution_count": 13,
   "id": "98a8d0fa-1d3d-4ed8-bb2c-281470e24add",
   "metadata": {
    "execution": {
     "iopub.execute_input": "2025-07-30T13:56:21.870214Z",
     "iopub.status.busy": "2025-07-30T13:56:21.869870Z",
     "iopub.status.idle": "2025-07-30T13:56:21.874529Z",
     "shell.execute_reply": "2025-07-30T13:56:21.873823Z"
    },
    "papermill": {
     "duration": 0.025174,
     "end_time": "2025-07-30T13:56:21.875914",
     "exception": false,
     "start_time": "2025-07-30T13:56:21.850740",
     "status": "completed"
    },
    "tags": []
   },
   "outputs": [],
   "source": [
    "# Calibration data for conformal\n",
    "#X_calib = pd.read_csv(\"./data/X_calib.csv\")\n",
    "#y_calib = pd.read_csv(\"./data/y_calib.csv\")"
   ]
  },
  {
   "cell_type": "markdown",
   "id": "997051c5-15bd-4b69-9786-c3001a3ce484",
   "metadata": {
    "papermill": {
     "duration": 0.021819,
     "end_time": "2025-07-30T13:56:21.914430",
     "exception": false,
     "start_time": "2025-07-30T13:56:21.892611",
     "status": "completed"
    },
    "tags": []
   },
   "source": [
    "# Splitting Data and Setting Training Data Size"
   ]
  },
  {
   "cell_type": "code",
   "execution_count": 14,
   "id": "e993b61f-042d-41a6-8c81-f55681f86335",
   "metadata": {
    "execution": {
     "iopub.execute_input": "2025-07-30T13:56:21.958362Z",
     "iopub.status.busy": "2025-07-30T13:56:21.957866Z",
     "iopub.status.idle": "2025-07-30T13:56:21.971335Z",
     "shell.execute_reply": "2025-07-30T13:56:21.970264Z"
    },
    "papermill": {
     "duration": 0.038457,
     "end_time": "2025-07-30T13:56:21.973048",
     "exception": false,
     "start_time": "2025-07-30T13:56:21.934591",
     "status": "completed"
    },
    "tags": []
   },
   "outputs": [],
   "source": [
    "def sample_by_year_size(df,\n",
    "                        training_year: str,\n",
    "                        training_size: str,\n",
    "                        random_state: int = 42):\n",
    "    # --- parse training_year into a list of int years ---\n",
    "    if \"_\" in training_year:\n",
    "        start_str, end_str = training_year.split(\"_\", 1)\n",
    "        start = int(start_str)\n",
    "        end   = int(end_str) if len(end_str) == 4 else (int(end_str) + (start // 100)*100)\n",
    "        years = list(range(start, end + 1))\n",
    "    else:\n",
    "        years = [int(training_year)]\n",
    "\n",
    "    df = df[df[\"year\"].isin(years)].reset_index(drop=True)\n",
    "\n",
    "    # --- map training_size to total number of samples ---\n",
    "    total_map = {\"25k\": 25_000, \"5k\": 5_000, \"1k\": 1_000}\n",
    "    if training_size not in total_map:\n",
    "        return df  # e.g. \"all\"\n",
    "\n",
    "    total_samples = total_map[training_size]\n",
    "    n_years       = len(years)\n",
    "    base          = total_samples // n_years\n",
    "    remainder     = total_samples % n_years\n",
    "\n",
    "    # --- build a dict: year -> how many to sample ---\n",
    "    # give +1 to the first `remainder` years in ascending order\n",
    "    quotas = {\n",
    "        year: base + (1 if idx < remainder else 0)\n",
    "        for idx, year in enumerate(sorted(years))\n",
    "    }\n",
    "\n",
    "    # --- sample per‐year according to the quota dict ---\n",
    "    sampled = (\n",
    "        df\n",
    "        .groupby(\"year\", group_keys=False)\n",
    "        .apply(lambda grp: grp.sample(\n",
    "            n=min(len(grp), quotas[grp.name]),\n",
    "            random_state=random_state))\n",
    "        .reset_index(drop=True)\n",
    "    )\n",
    "\n",
    "    return sampled"
   ]
  },
  {
   "cell_type": "code",
   "execution_count": 15,
   "id": "c0ccd338-0e02-41f3-a09d-f56f9266e3fb",
   "metadata": {
    "execution": {
     "iopub.execute_input": "2025-07-30T13:56:22.020806Z",
     "iopub.status.busy": "2025-07-30T13:56:22.019818Z",
     "iopub.status.idle": "2025-07-30T13:56:22.031198Z",
     "shell.execute_reply": "2025-07-30T13:56:22.030238Z"
    },
    "papermill": {
     "duration": 0.036564,
     "end_time": "2025-07-30T13:56:22.032886",
     "exception": false,
     "start_time": "2025-07-30T13:56:21.996322",
     "status": "completed"
    },
    "tags": []
   },
   "outputs": [
    {
     "data": {
      "text/plain": [
       "'5k'"
      ]
     },
     "execution_count": 15,
     "metadata": {},
     "output_type": "execute_result"
    }
   ],
   "source": [
    "universe[\"training_size\"]"
   ]
  },
  {
   "cell_type": "code",
   "execution_count": 16,
   "id": "ca707fd7-8047-4acd-bfa5-66248fbbf8e6",
   "metadata": {
    "execution": {
     "iopub.execute_input": "2025-07-30T13:56:22.084571Z",
     "iopub.status.busy": "2025-07-30T13:56:22.083792Z",
     "iopub.status.idle": "2025-07-30T13:56:22.091573Z",
     "shell.execute_reply": "2025-07-30T13:56:22.090564Z"
    },
    "papermill": {
     "duration": 0.039242,
     "end_time": "2025-07-30T13:56:22.093736",
     "exception": false,
     "start_time": "2025-07-30T13:56:22.054494",
     "status": "completed"
    },
    "tags": []
   },
   "outputs": [
    {
     "data": {
      "text/plain": [
       "'2012_14'"
      ]
     },
     "execution_count": 16,
     "metadata": {},
     "output_type": "execute_result"
    }
   ],
   "source": [
    "universe[\"training_year\"]"
   ]
  },
  {
   "cell_type": "code",
   "execution_count": 17,
   "id": "aea9c6ef-6f46-42c8-85eb-5a62025c1508",
   "metadata": {
    "execution": {
     "iopub.execute_input": "2025-07-30T13:56:22.153645Z",
     "iopub.status.busy": "2025-07-30T13:56:22.153217Z",
     "iopub.status.idle": "2025-07-30T13:56:22.769257Z",
     "shell.execute_reply": "2025-07-30T13:56:22.768102Z"
    },
    "papermill": {
     "duration": 0.648568,
     "end_time": "2025-07-30T13:56:22.771112",
     "exception": false,
     "start_time": "2025-07-30T13:56:22.122544",
     "status": "completed"
    },
    "tags": []
   },
   "outputs": [],
   "source": [
    "siab_train = sample_by_year_size(siab,\n",
    "                               training_year=universe[\"training_year\"],\n",
    "                               training_size=universe[\"training_size\"])"
   ]
  },
  {
   "cell_type": "code",
   "execution_count": 18,
   "id": "8d3afb32-789d-442c-8d5d-9f5aa8dd2eed",
   "metadata": {
    "execution": {
     "iopub.execute_input": "2025-07-30T13:56:22.871766Z",
     "iopub.status.busy": "2025-07-30T13:56:22.871370Z",
     "iopub.status.idle": "2025-07-30T13:56:22.879872Z",
     "shell.execute_reply": "2025-07-30T13:56:22.878919Z"
    },
    "papermill": {
     "duration": 0.062347,
     "end_time": "2025-07-30T13:56:22.896205",
     "exception": false,
     "start_time": "2025-07-30T13:56:22.833858",
     "status": "completed"
    },
    "tags": []
   },
   "outputs": [
    {
     "data": {
      "text/plain": [
       "(5000, 164)"
      ]
     },
     "execution_count": 18,
     "metadata": {},
     "output_type": "execute_result"
    }
   ],
   "source": [
    "siab_train.shape"
   ]
  },
  {
   "cell_type": "code",
   "execution_count": 19,
   "id": "d582db68-1a4c-47fb-84fc-08518dc1975a",
   "metadata": {
    "execution": {
     "iopub.execute_input": "2025-07-30T13:56:22.980540Z",
     "iopub.status.busy": "2025-07-30T13:56:22.980080Z",
     "iopub.status.idle": "2025-07-30T13:56:23.001814Z",
     "shell.execute_reply": "2025-07-30T13:56:23.000424Z"
    },
    "papermill": {
     "duration": 0.056895,
     "end_time": "2025-07-30T13:56:23.004057",
     "exception": false,
     "start_time": "2025-07-30T13:56:22.947162",
     "status": "completed"
    },
    "tags": []
   },
   "outputs": [
    {
     "data": {
      "text/plain": [
       "year\n",
       "2012    1667\n",
       "2013    1667\n",
       "2014    1666\n",
       "dtype: int64"
      ]
     },
     "metadata": {},
     "output_type": "display_data"
    }
   ],
   "source": [
    "display(siab_train.groupby(\"year\").size())"
   ]
  },
  {
   "cell_type": "code",
   "execution_count": 20,
   "id": "a561edb4-d032-42cb-8256-22eac1111c64",
   "metadata": {
    "execution": {
     "iopub.execute_input": "2025-07-30T13:56:23.053600Z",
     "iopub.status.busy": "2025-07-30T13:56:23.053196Z",
     "iopub.status.idle": "2025-07-30T13:56:23.322292Z",
     "shell.execute_reply": "2025-07-30T13:56:23.321556Z"
    },
    "papermill": {
     "duration": 0.286379,
     "end_time": "2025-07-30T13:56:23.323737",
     "exception": false,
     "start_time": "2025-07-30T13:56:23.037358",
     "status": "completed"
    },
    "tags": []
   },
   "outputs": [],
   "source": [
    "#siab_train = siab_s[siab_s.year < 2015]\n",
    "siab_calib = siab[siab.year == 2015]\n",
    "siab_test = siab[siab.year == 2016]"
   ]
  },
  {
   "cell_type": "code",
   "execution_count": 21,
   "id": "472de16f-c3db-4916-846b-1f0de9cf1746",
   "metadata": {
    "execution": {
     "iopub.execute_input": "2025-07-30T13:56:23.348533Z",
     "iopub.status.busy": "2025-07-30T13:56:23.348014Z",
     "iopub.status.idle": "2025-07-30T13:56:23.354975Z",
     "shell.execute_reply": "2025-07-30T13:56:23.354195Z"
    },
    "papermill": {
     "duration": 0.020463,
     "end_time": "2025-07-30T13:56:23.356291",
     "exception": false,
     "start_time": "2025-07-30T13:56:23.335828",
     "status": "completed"
    },
    "tags": []
   },
   "outputs": [],
   "source": [
    "X_train = siab_train.iloc[:,4:164]\n",
    "y_train = siab_train.iloc[:, [3]]"
   ]
  },
  {
   "cell_type": "code",
   "execution_count": 22,
   "id": "828c96af-f43a-4ed6-ba47-8ac73a47d56c",
   "metadata": {
    "execution": {
     "iopub.execute_input": "2025-07-30T13:56:23.393617Z",
     "iopub.status.busy": "2025-07-30T13:56:23.393188Z",
     "iopub.status.idle": "2025-07-30T13:56:23.448081Z",
     "shell.execute_reply": "2025-07-30T13:56:23.446977Z"
    },
    "papermill": {
     "duration": 0.078384,
     "end_time": "2025-07-30T13:56:23.449949",
     "exception": false,
     "start_time": "2025-07-30T13:56:23.371565",
     "status": "completed"
    },
    "tags": []
   },
   "outputs": [],
   "source": [
    "X_calib = siab_calib.iloc[:,4:164]\n",
    "y_calib = siab_calib.iloc[:, [3]]"
   ]
  },
  {
   "cell_type": "code",
   "execution_count": 23,
   "id": "c34be9c3-6bd6-476e-acd3-845840e303be",
   "metadata": {
    "execution": {
     "iopub.execute_input": "2025-07-30T13:56:23.497631Z",
     "iopub.status.busy": "2025-07-30T13:56:23.497027Z",
     "iopub.status.idle": "2025-07-30T13:56:23.552552Z",
     "shell.execute_reply": "2025-07-30T13:56:23.551480Z"
    },
    "papermill": {
     "duration": 0.081087,
     "end_time": "2025-07-30T13:56:23.554535",
     "exception": false,
     "start_time": "2025-07-30T13:56:23.473448",
     "status": "completed"
    },
    "tags": []
   },
   "outputs": [],
   "source": [
    "X_test = siab_test.iloc[:,4:164]\n",
    "y_true = siab_test.iloc[:, [3]]"
   ]
  },
  {
   "cell_type": "markdown",
   "id": "9901737e-04df-44f0-9100-f5ad144ed040",
   "metadata": {
    "papermill": {
     "duration": 0.022143,
     "end_time": "2025-07-30T13:56:23.600026",
     "exception": false,
     "start_time": "2025-07-30T13:56:23.577883",
     "status": "completed"
    },
    "tags": []
   },
   "source": [
    "# Splitting Data and Setting Training Data Size OLD VERSION"
   ]
  },
  {
   "cell_type": "code",
   "execution_count": 24,
   "id": "acbc8f7d-8fc8-4e86-8c59-5dcb0f58384b",
   "metadata": {
    "execution": {
     "iopub.execute_input": "2025-07-30T13:56:23.649034Z",
     "iopub.status.busy": "2025-07-30T13:56:23.648530Z",
     "iopub.status.idle": "2025-07-30T13:56:23.654532Z",
     "shell.execute_reply": "2025-07-30T13:56:23.653631Z"
    },
    "papermill": {
     "duration": 0.033329,
     "end_time": "2025-07-30T13:56:23.656633",
     "exception": false,
     "start_time": "2025-07-30T13:56:23.623304",
     "status": "completed"
    },
    "tags": []
   },
   "outputs": [],
   "source": [
    "#def sample_by_year(df, training_size, random_state=42):\n",
    "#    if training_size == \"2014\":\n",
    "#        return df[df[\"year\"] == 2014].reset_index(drop=True)\n",
    "#    \n",
    "#    size_map = {\n",
    "#        \"25k\": 5000,\n",
    "#        \"5k\": 1000,\n",
    "#        \"1k\": 200\n",
    "#    }\n",
    "#\n",
    "#    if training_size not in size_map:\n",
    "#        return df.reset_index(drop=True)  # use all data\n",
    "#\n",
    "#    n_per_year = size_map[training_size]\n",
    "#    grouped = df.groupby(\"year\")\n",
    "#    sampled = grouped.apply(lambda x: x.sample(n=min(n_per_year, len(x)), random_state=random_state))\n",
    "#    return sampled.reset_index(drop=True)"
   ]
  },
  {
   "cell_type": "code",
   "execution_count": 25,
   "id": "6d931f52-beaf-43ff-9e78-9d44a448d54e",
   "metadata": {
    "execution": {
     "iopub.execute_input": "2025-07-30T13:56:23.704092Z",
     "iopub.status.busy": "2025-07-30T13:56:23.703639Z",
     "iopub.status.idle": "2025-07-30T13:56:23.709507Z",
     "shell.execute_reply": "2025-07-30T13:56:23.708202Z"
    },
    "papermill": {
     "duration": 0.033176,
     "end_time": "2025-07-30T13:56:23.712712",
     "exception": false,
     "start_time": "2025-07-30T13:56:23.679536",
     "status": "completed"
    },
    "tags": []
   },
   "outputs": [],
   "source": [
    "#siab_s = sample_by_year(siab, universe[\"training_size\"])"
   ]
  },
  {
   "cell_type": "code",
   "execution_count": 26,
   "id": "5db0a40e-a4e2-4920-be85-b12ae061d70d",
   "metadata": {
    "execution": {
     "iopub.execute_input": "2025-07-30T13:56:23.760171Z",
     "iopub.status.busy": "2025-07-30T13:56:23.759664Z",
     "iopub.status.idle": "2025-07-30T13:56:23.764895Z",
     "shell.execute_reply": "2025-07-30T13:56:23.763964Z"
    },
    "papermill": {
     "duration": 0.031724,
     "end_time": "2025-07-30T13:56:23.767786",
     "exception": false,
     "start_time": "2025-07-30T13:56:23.736062",
     "status": "completed"
    },
    "tags": []
   },
   "outputs": [],
   "source": [
    "#display(siab_s.groupby(\"year\").size())"
   ]
  },
  {
   "cell_type": "code",
   "execution_count": 27,
   "id": "e6c733c5",
   "metadata": {
    "execution": {
     "iopub.execute_input": "2025-07-30T13:56:23.815804Z",
     "iopub.status.busy": "2025-07-30T13:56:23.815362Z",
     "iopub.status.idle": "2025-07-30T13:56:23.912153Z",
     "shell.execute_reply": "2025-07-30T13:56:23.911073Z"
    },
    "papermill": {
     "duration": 0.122492,
     "end_time": "2025-07-30T13:56:23.914168",
     "exception": false,
     "start_time": "2025-07-30T13:56:23.791676",
     "status": "completed"
    },
    "tags": []
   },
   "outputs": [],
   "source": [
    "# Auxiliary data needed downstream in the pipeline\n",
    "\n",
    "org_train = X_train.copy()\n",
    "org_test = X_test.copy()\n",
    "org_calib = X_calib.copy()"
   ]
  },
  {
   "cell_type": "code",
   "execution_count": 28,
   "id": "1466abac-c6da-4492-a62f-4240ae3783af",
   "metadata": {
    "execution": {
     "iopub.execute_input": "2025-07-30T13:56:23.961174Z",
     "iopub.status.busy": "2025-07-30T13:56:23.960735Z",
     "iopub.status.idle": "2025-07-30T13:56:23.967060Z",
     "shell.execute_reply": "2025-07-30T13:56:23.966244Z"
    },
    "papermill": {
     "duration": 0.033597,
     "end_time": "2025-07-30T13:56:23.969966",
     "exception": false,
     "start_time": "2025-07-30T13:56:23.936369",
     "status": "completed"
    },
    "tags": []
   },
   "outputs": [],
   "source": [
    "# put in other script?\n",
    "# Group sizes\n",
    "\n",
    "#def calculate_percentages(df, df_name):\n",
    "#    total_entries = len(df)\n",
    "#\n",
    "#    female_pct = (df['frau1'] == 1).mean() * 100\n",
    "#    non_german_pct = ((df['maxdeutsch1'] == 0) & (df['maxdeutsch.Missing.'] == 0)).mean() * 100\n",
    "#    non_german_male_pct = ((df['frau1'] == 0) & (df['maxdeutsch1'] == 0) & (df['maxdeutsch.Missing.'] == 0)).mean() * 100\n",
    "#    non_german_female_pct = ((df['frau1'] == 1) & (df['maxdeutsch1'] == 0) & (df['maxdeutsch.Missing.'] == 0)).mean() * 100\n",
    "#\n",
    "#    print(f\"--- {df_name} ---\")\n",
    "#    print(f\"Female: {female_pct:.2f}%\")\n",
    "#    print(f\"Non-German: {non_german_pct:.2f}%\")\n",
    "#    print(f\"Non-German Male: {non_german_male_pct:.2f}%\")\n",
    "#    print(f\"Non-German Female: {non_german_female_pct:.2f}%\\n\")\n",
    "#\n",
    "## Calculate for each DataFrame\n",
    "#calculate_percentages(siab_calib, \"siab_calib\")\n",
    "#calculate_percentages(siab_test, \"siab_test\")\n",
    "#calculate_percentages(siab_train, \"siab_train\")"
   ]
  },
  {
   "cell_type": "markdown",
   "id": "0a4a1b33",
   "metadata": {
    "papermill": {
     "duration": 0.022954,
     "end_time": "2025-07-30T13:56:24.015784",
     "exception": false,
     "start_time": "2025-07-30T13:56:23.992830",
     "status": "completed"
    },
    "tags": []
   },
   "source": [
    "# Preprocessing Data"
   ]
  },
  {
   "cell_type": "code",
   "execution_count": 29,
   "id": "ca879031",
   "metadata": {
    "execution": {
     "iopub.execute_input": "2025-07-30T13:56:24.063143Z",
     "iopub.status.busy": "2025-07-30T13:56:24.062773Z",
     "iopub.status.idle": "2025-07-30T13:56:24.069324Z",
     "shell.execute_reply": "2025-07-30T13:56:24.068402Z"
    },
    "papermill": {
     "duration": 0.033906,
     "end_time": "2025-07-30T13:56:24.072811",
     "exception": false,
     "start_time": "2025-07-30T13:56:24.038905",
     "status": "completed"
    },
    "tags": []
   },
   "outputs": [],
   "source": [
    "# EXCLUDE PROTECTED FEATURES\n",
    "# ----------------------\n",
    "# \"exclude_features\": \"none\", # \"nationality\", \"sex\", \"nationality-sex\"\n",
    "\n",
    "excluded_features = universe[\"exclude_features\"].split(\"-\") # split, e.g.: \"nationality-sex\" -> [\"nationality\", \"sex\"]\n",
    "excluded_features_dictionary = {\n",
    "    \"nationality\": [\"maxdeutsch1\", \"maxdeutsch.Missing.\"],\n",
    "    \"sex\": [\"frau1\"],\n",
    "    \"age\": [\"age\"],\n",
    "}\n"
   ]
  },
  {
   "cell_type": "code",
   "execution_count": 30,
   "id": "b745ac60",
   "metadata": {
    "execution": {
     "iopub.execute_input": "2025-07-30T13:56:24.141200Z",
     "iopub.status.busy": "2025-07-30T13:56:24.140790Z",
     "iopub.status.idle": "2025-07-30T13:56:24.148768Z",
     "shell.execute_reply": "2025-07-30T13:56:24.147770Z"
    },
    "papermill": {
     "duration": 0.046205,
     "end_time": "2025-07-30T13:56:24.161398",
     "exception": false,
     "start_time": "2025-07-30T13:56:24.115193",
     "status": "completed"
    },
    "tags": []
   },
   "outputs": [],
   "source": [
    "# Code nice names to column names\n",
    "\n",
    "excluded_features_columns = [\n",
    "    excluded_features_dictionary[f] for f in excluded_features if len(f) > 0 and f != \"none\"\n",
    "]"
   ]
  },
  {
   "cell_type": "code",
   "execution_count": 31,
   "id": "f84f73a2",
   "metadata": {
    "execution": {
     "iopub.execute_input": "2025-07-30T13:56:24.231267Z",
     "iopub.status.busy": "2025-07-30T13:56:24.230761Z",
     "iopub.status.idle": "2025-07-30T13:56:24.237985Z",
     "shell.execute_reply": "2025-07-30T13:56:24.237015Z"
    },
    "papermill": {
     "duration": 0.039079,
     "end_time": "2025-07-30T13:56:24.240669",
     "exception": false,
     "start_time": "2025-07-30T13:56:24.201590",
     "status": "completed"
    },
    "tags": []
   },
   "outputs": [],
   "source": [
    "from utils import flatten_once\n",
    "\n",
    "excluded_features_columns = flatten_once(excluded_features_columns)"
   ]
  },
  {
   "cell_type": "code",
   "execution_count": 32,
   "id": "884dea22",
   "metadata": {
    "execution": {
     "iopub.execute_input": "2025-07-30T13:56:24.294827Z",
     "iopub.status.busy": "2025-07-30T13:56:24.293874Z",
     "iopub.status.idle": "2025-07-30T13:56:24.304018Z",
     "shell.execute_reply": "2025-07-30T13:56:24.302999Z"
    },
    "papermill": {
     "duration": 0.037537,
     "end_time": "2025-07-30T13:56:24.307610",
     "exception": false,
     "start_time": "2025-07-30T13:56:24.270073",
     "status": "completed"
    },
    "tags": []
   },
   "outputs": [
    {
     "name": "stdout",
     "output_type": "stream",
     "text": [
      "Dropping features: ['frau1']\n"
     ]
    }
   ],
   "source": [
    "if len(excluded_features_columns) > 0:\n",
    "    print(f\"Dropping features: {excluded_features_columns}\")\n",
    "    X_train.drop(excluded_features_columns, axis=1, inplace=True)"
   ]
  },
  {
   "cell_type": "code",
   "execution_count": 33,
   "id": "95ab8b16",
   "metadata": {
    "execution": {
     "iopub.execute_input": "2025-07-30T13:56:24.356263Z",
     "iopub.status.busy": "2025-07-30T13:56:24.355852Z",
     "iopub.status.idle": "2025-07-30T13:56:24.416562Z",
     "shell.execute_reply": "2025-07-30T13:56:24.415527Z"
    },
    "papermill": {
     "duration": 0.086887,
     "end_time": "2025-07-30T13:56:24.418392",
     "exception": false,
     "start_time": "2025-07-30T13:56:24.331505",
     "status": "completed"
    },
    "tags": []
   },
   "outputs": [
    {
     "name": "stdout",
     "output_type": "stream",
     "text": [
      "Dropping features: ['frau1']\n"
     ]
    }
   ],
   "source": [
    "if len(excluded_features_columns) > 0:\n",
    "    print(f\"Dropping features: {excluded_features_columns}\")\n",
    "    X_test.drop(excluded_features_columns, axis=1, inplace=True)"
   ]
  },
  {
   "cell_type": "code",
   "execution_count": 34,
   "id": "1853aaf5-fb9f-46cb-a2b5-8ea4ae2237e4",
   "metadata": {
    "execution": {
     "iopub.execute_input": "2025-07-30T13:56:24.467983Z",
     "iopub.status.busy": "2025-07-30T13:56:24.467533Z",
     "iopub.status.idle": "2025-07-30T13:56:24.543138Z",
     "shell.execute_reply": "2025-07-30T13:56:24.542152Z"
    },
    "papermill": {
     "duration": 0.101469,
     "end_time": "2025-07-30T13:56:24.544957",
     "exception": false,
     "start_time": "2025-07-30T13:56:24.443488",
     "status": "completed"
    },
    "tags": []
   },
   "outputs": [
    {
     "name": "stdout",
     "output_type": "stream",
     "text": [
      "Dropping features: ['frau1']\n"
     ]
    }
   ],
   "source": [
    "if len(excluded_features_columns) > 0:\n",
    "    print(f\"Dropping features: {excluded_features_columns}\")\n",
    "    X_calib.drop(excluded_features_columns, axis=1, inplace=True)"
   ]
  },
  {
   "cell_type": "code",
   "execution_count": 35,
   "id": "6727d079-03e5-481e-9d38-292a90b7a0a8",
   "metadata": {
    "execution": {
     "iopub.execute_input": "2025-07-30T13:56:24.598974Z",
     "iopub.status.busy": "2025-07-30T13:56:24.598267Z",
     "iopub.status.idle": "2025-07-30T13:56:24.603578Z",
     "shell.execute_reply": "2025-07-30T13:56:24.602613Z"
    },
    "papermill": {
     "duration": 0.034446,
     "end_time": "2025-07-30T13:56:24.605316",
     "exception": false,
     "start_time": "2025-07-30T13:56:24.570870",
     "status": "completed"
    },
    "tags": []
   },
   "outputs": [],
   "source": [
    "# SPLIT & STRATIFY DATA\n",
    "# ----------------------"
   ]
  },
  {
   "cell_type": "code",
   "execution_count": 36,
   "id": "76c4dc6d",
   "metadata": {
    "execution": {
     "iopub.execute_input": "2025-07-30T13:56:24.654484Z",
     "iopub.status.busy": "2025-07-30T13:56:24.653733Z",
     "iopub.status.idle": "2025-07-30T13:56:24.659522Z",
     "shell.execute_reply": "2025-07-30T13:56:24.658556Z"
    },
    "papermill": {
     "duration": 0.03178,
     "end_time": "2025-07-30T13:56:24.661327",
     "exception": false,
     "start_time": "2025-07-30T13:56:24.629547",
     "status": "completed"
    },
    "tags": []
   },
   "outputs": [],
   "source": [
    "# EXCLUDE CERTAIN SUBGROUPS\n",
    "# ----------------------\n",
    "\n",
    "mode = universe.get(\"exclude_subgroups\", \"keep-all\") \n",
    "# Fetches the exclude_subgroups setting from the universe dict.\n",
    "# Defaults to \"keep-all\" if the key is missing."
   ]
  },
  {
   "cell_type": "code",
   "execution_count": 37,
   "id": "21994072",
   "metadata": {
    "execution": {
     "iopub.execute_input": "2025-07-30T13:56:24.711659Z",
     "iopub.status.busy": "2025-07-30T13:56:24.710766Z",
     "iopub.status.idle": "2025-07-30T13:56:24.717496Z",
     "shell.execute_reply": "2025-07-30T13:56:24.716550Z"
    },
    "papermill": {
     "duration": 0.033347,
     "end_time": "2025-07-30T13:56:24.719153",
     "exception": false,
     "start_time": "2025-07-30T13:56:24.685806",
     "status": "completed"
    },
    "tags": []
   },
   "outputs": [],
   "source": [
    "if mode == \"keep-all\":\n",
    "    keep_mask = pd.Series(True, index=org_train.index)\n",
    "\n",
    "# org_train contains the original feature columns from features_org (in Simson)\n",
    "# features_org contains unprocessed features, for me X_train at beginning ???\n",
    "# For keep-all, creates a boolean Series (keep_mask) of all True, so no rows are removed.\n",
    "\n",
    "elif mode == \"drop-non-german\":\n",
    "    keep_mask = org_train[\"maxdeutsch1\"] == 1 # ??? what about missing values?\n",
    "\n",
    "else:\n",
    "    raise ValueError(f\"Unsupported mode for exclude_subgroups: {mode}\")\n"
   ]
  },
  {
   "cell_type": "code",
   "execution_count": 38,
   "id": "71651440",
   "metadata": {
    "execution": {
     "iopub.execute_input": "2025-07-30T13:56:24.769619Z",
     "iopub.status.busy": "2025-07-30T13:56:24.768721Z",
     "iopub.status.idle": "2025-07-30T13:56:24.775546Z",
     "shell.execute_reply": "2025-07-30T13:56:24.774617Z"
    },
    "papermill": {
     "duration": 0.033817,
     "end_time": "2025-07-30T13:56:24.777295",
     "exception": false,
     "start_time": "2025-07-30T13:56:24.743478",
     "status": "completed"
    },
    "tags": []
   },
   "outputs": [],
   "source": [
    "n_drop = (~keep_mask).sum() # Calculates how many rows are set to be dropped\n",
    "if n_drop > 0:\n",
    "    pct = n_drop / len(keep_mask) * 100\n",
    "    print(f\"Dropping {n_drop} rows ({pct:.2f}%) where mode='{mode}'\")"
   ]
  },
  {
   "cell_type": "code",
   "execution_count": 39,
   "id": "5fb8eee5",
   "metadata": {
    "execution": {
     "iopub.execute_input": "2025-07-30T13:56:24.826748Z",
     "iopub.status.busy": "2025-07-30T13:56:24.826009Z",
     "iopub.status.idle": "2025-07-30T13:56:24.834827Z",
     "shell.execute_reply": "2025-07-30T13:56:24.833723Z"
    },
    "papermill": {
     "duration": 0.036147,
     "end_time": "2025-07-30T13:56:24.836681",
     "exception": false,
     "start_time": "2025-07-30T13:56:24.800534",
     "status": "completed"
    },
    "tags": []
   },
   "outputs": [],
   "source": [
    "X_train = X_train[keep_mask]"
   ]
  },
  {
   "cell_type": "code",
   "execution_count": 40,
   "id": "b202bb3a",
   "metadata": {
    "execution": {
     "iopub.execute_input": "2025-07-30T13:56:24.886043Z",
     "iopub.status.busy": "2025-07-30T13:56:24.885319Z",
     "iopub.status.idle": "2025-07-30T13:56:24.892273Z",
     "shell.execute_reply": "2025-07-30T13:56:24.891253Z"
    },
    "papermill": {
     "duration": 0.03384,
     "end_time": "2025-07-30T13:56:24.893932",
     "exception": false,
     "start_time": "2025-07-30T13:56:24.860092",
     "status": "completed"
    },
    "tags": []
   },
   "outputs": [],
   "source": [
    "y_train = y_train[keep_mask]"
   ]
  },
  {
   "cell_type": "markdown",
   "id": "493e2ac3",
   "metadata": {
    "papermill": {
     "duration": 0.02315,
     "end_time": "2025-07-30T13:56:24.941047",
     "exception": false,
     "start_time": "2025-07-30T13:56:24.917897",
     "status": "completed"
    },
    "tags": []
   },
   "source": [
    "# Model Training"
   ]
  },
  {
   "cell_type": "code",
   "execution_count": 41,
   "id": "679e1268",
   "metadata": {
    "execution": {
     "iopub.execute_input": "2025-07-30T13:56:24.990376Z",
     "iopub.status.busy": "2025-07-30T13:56:24.989664Z",
     "iopub.status.idle": "2025-07-30T13:56:25.071986Z",
     "shell.execute_reply": "2025-07-30T13:56:25.071229Z"
    },
    "papermill": {
     "duration": 0.10857,
     "end_time": "2025-07-30T13:56:25.073492",
     "exception": false,
     "start_time": "2025-07-30T13:56:24.964922",
     "status": "completed"
    },
    "tags": []
   },
   "outputs": [],
   "source": [
    "from sklearn.linear_model import LogisticRegression\n",
    "from sklearn.ensemble import GradientBoostingClassifier, RandomForestClassifier\n",
    "\n",
    "if (universe[\"model\"] == \"logreg\"):\n",
    "    model = LogisticRegression() #penalty=\"none\") #, solver=\"newton-cg\", max_iter=1) # include random_state=19 ?\n",
    "elif (universe[\"model\"] == \"penalized_logreg\"):\n",
    "    model = LogisticRegression(penalty=\"l2\", C=1.0) #, solver=\"newton-cg\", max_iter=1)\n",
    "elif (universe[\"model\"] == \"rf\"):\n",
    "    model = RandomForestClassifier(n_estimators=100, n_jobs=-1)\n",
    "elif (universe[\"model\"] == \"gbm\"):\n",
    "    model = GradientBoostingClassifier()\n",
    "elif (universe[\"model\"] == \"elasticnet\"):\n",
    "    model = LogisticRegression(penalty = 'elasticnet', solver = 'saga', l1_ratio = 0.5, max_iter=5000) # which solver to use?\n",
    "else:\n",
    "    raise \"Unsupported universe.model\""
   ]
  },
  {
   "cell_type": "code",
   "execution_count": 42,
   "id": "0cc8f744",
   "metadata": {
    "execution": {
     "iopub.execute_input": "2025-07-30T13:56:25.103396Z",
     "iopub.status.busy": "2025-07-30T13:56:25.102891Z",
     "iopub.status.idle": "2025-07-30T13:56:25.108421Z",
     "shell.execute_reply": "2025-07-30T13:56:25.107723Z"
    },
    "papermill": {
     "duration": 0.020077,
     "end_time": "2025-07-30T13:56:25.109687",
     "exception": false,
     "start_time": "2025-07-30T13:56:25.089610",
     "status": "completed"
    },
    "tags": []
   },
   "outputs": [],
   "source": [
    "import numpy as np\n",
    "from sklearn.pipeline import Pipeline\n",
    "from sklearn.preprocessing import StandardScaler\n",
    "\n",
    "model = Pipeline([\n",
    "    #(\"continuous_processor\", continuous_processor),\n",
    "    #(\"categorical_preprocessor\", categorical_preprocessor),\n",
    "    (\"scale\", StandardScaler() if universe[\"scale\"] == \"scale\" else None), \n",
    "    (\"model\", model),\n",
    "])"
   ]
  },
  {
   "cell_type": "code",
   "execution_count": 43,
   "id": "9442c04d",
   "metadata": {
    "execution": {
     "iopub.execute_input": "2025-07-30T13:56:25.136267Z",
     "iopub.status.busy": "2025-07-30T13:56:25.135467Z",
     "iopub.status.idle": "2025-07-30T13:56:26.117606Z",
     "shell.execute_reply": "2025-07-30T13:56:26.116606Z"
    },
    "papermill": {
     "duration": 0.996786,
     "end_time": "2025-07-30T13:56:26.119309",
     "exception": false,
     "start_time": "2025-07-30T13:56:25.122523",
     "status": "completed"
    },
    "tags": []
   },
   "outputs": [
    {
     "data": {
      "text/html": [
       "<style>#sk-container-id-1 {color: black;background-color: white;}#sk-container-id-1 pre{padding: 0;}#sk-container-id-1 div.sk-toggleable {background-color: white;}#sk-container-id-1 label.sk-toggleable__label {cursor: pointer;display: block;width: 100%;margin-bottom: 0;padding: 0.3em;box-sizing: border-box;text-align: center;}#sk-container-id-1 label.sk-toggleable__label-arrow:before {content: \"▸\";float: left;margin-right: 0.25em;color: #696969;}#sk-container-id-1 label.sk-toggleable__label-arrow:hover:before {color: black;}#sk-container-id-1 div.sk-estimator:hover label.sk-toggleable__label-arrow:before {color: black;}#sk-container-id-1 div.sk-toggleable__content {max-height: 0;max-width: 0;overflow: hidden;text-align: left;background-color: #f0f8ff;}#sk-container-id-1 div.sk-toggleable__content pre {margin: 0.2em;color: black;border-radius: 0.25em;background-color: #f0f8ff;}#sk-container-id-1 input.sk-toggleable__control:checked~div.sk-toggleable__content {max-height: 200px;max-width: 100%;overflow: auto;}#sk-container-id-1 input.sk-toggleable__control:checked~label.sk-toggleable__label-arrow:before {content: \"▾\";}#sk-container-id-1 div.sk-estimator input.sk-toggleable__control:checked~label.sk-toggleable__label {background-color: #d4ebff;}#sk-container-id-1 div.sk-label input.sk-toggleable__control:checked~label.sk-toggleable__label {background-color: #d4ebff;}#sk-container-id-1 input.sk-hidden--visually {border: 0;clip: rect(1px 1px 1px 1px);clip: rect(1px, 1px, 1px, 1px);height: 1px;margin: -1px;overflow: hidden;padding: 0;position: absolute;width: 1px;}#sk-container-id-1 div.sk-estimator {font-family: monospace;background-color: #f0f8ff;border: 1px dotted black;border-radius: 0.25em;box-sizing: border-box;margin-bottom: 0.5em;}#sk-container-id-1 div.sk-estimator:hover {background-color: #d4ebff;}#sk-container-id-1 div.sk-parallel-item::after {content: \"\";width: 100%;border-bottom: 1px solid gray;flex-grow: 1;}#sk-container-id-1 div.sk-label:hover label.sk-toggleable__label {background-color: #d4ebff;}#sk-container-id-1 div.sk-serial::before {content: \"\";position: absolute;border-left: 1px solid gray;box-sizing: border-box;top: 0;bottom: 0;left: 50%;z-index: 0;}#sk-container-id-1 div.sk-serial {display: flex;flex-direction: column;align-items: center;background-color: white;padding-right: 0.2em;padding-left: 0.2em;position: relative;}#sk-container-id-1 div.sk-item {position: relative;z-index: 1;}#sk-container-id-1 div.sk-parallel {display: flex;align-items: stretch;justify-content: center;background-color: white;position: relative;}#sk-container-id-1 div.sk-item::before, #sk-container-id-1 div.sk-parallel-item::before {content: \"\";position: absolute;border-left: 1px solid gray;box-sizing: border-box;top: 0;bottom: 0;left: 50%;z-index: -1;}#sk-container-id-1 div.sk-parallel-item {display: flex;flex-direction: column;z-index: 1;position: relative;background-color: white;}#sk-container-id-1 div.sk-parallel-item:first-child::after {align-self: flex-end;width: 50%;}#sk-container-id-1 div.sk-parallel-item:last-child::after {align-self: flex-start;width: 50%;}#sk-container-id-1 div.sk-parallel-item:only-child::after {width: 0;}#sk-container-id-1 div.sk-dashed-wrapped {border: 1px dashed gray;margin: 0 0.4em 0.5em 0.4em;box-sizing: border-box;padding-bottom: 0.4em;background-color: white;}#sk-container-id-1 div.sk-label label {font-family: monospace;font-weight: bold;display: inline-block;line-height: 1.2em;}#sk-container-id-1 div.sk-label-container {text-align: center;}#sk-container-id-1 div.sk-container {/* jupyter's `normalize.less` sets `[hidden] { display: none; }` but bootstrap.min.css set `[hidden] { display: none !important; }` so we also need the `!important` here to be able to override the default hidden behavior on the sphinx rendered scikit-learn.org. See: https://github.com/scikit-learn/scikit-learn/issues/21755 */display: inline-block !important;position: relative;}#sk-container-id-1 div.sk-text-repr-fallback {display: none;}</style><div id=\"sk-container-id-1\" class=\"sk-top-container\"><div class=\"sk-text-repr-fallback\"><pre>Pipeline(steps=[(&#x27;scale&#x27;, StandardScaler()),\n",
       "                (&#x27;model&#x27;, RandomForestClassifier(n_jobs=-1))])</pre><b>In a Jupyter environment, please rerun this cell to show the HTML representation or trust the notebook. <br />On GitHub, the HTML representation is unable to render, please try loading this page with nbviewer.org.</b></div><div class=\"sk-container\" hidden><div class=\"sk-item sk-dashed-wrapped\"><div class=\"sk-label-container\"><div class=\"sk-label sk-toggleable\"><input class=\"sk-toggleable__control sk-hidden--visually\" id=\"sk-estimator-id-1\" type=\"checkbox\" ><label for=\"sk-estimator-id-1\" class=\"sk-toggleable__label sk-toggleable__label-arrow\">Pipeline</label><div class=\"sk-toggleable__content\"><pre>Pipeline(steps=[(&#x27;scale&#x27;, StandardScaler()),\n",
       "                (&#x27;model&#x27;, RandomForestClassifier(n_jobs=-1))])</pre></div></div></div><div class=\"sk-serial\"><div class=\"sk-item\"><div class=\"sk-estimator sk-toggleable\"><input class=\"sk-toggleable__control sk-hidden--visually\" id=\"sk-estimator-id-2\" type=\"checkbox\" ><label for=\"sk-estimator-id-2\" class=\"sk-toggleable__label sk-toggleable__label-arrow\">StandardScaler</label><div class=\"sk-toggleable__content\"><pre>StandardScaler()</pre></div></div></div><div class=\"sk-item\"><div class=\"sk-estimator sk-toggleable\"><input class=\"sk-toggleable__control sk-hidden--visually\" id=\"sk-estimator-id-3\" type=\"checkbox\" ><label for=\"sk-estimator-id-3\" class=\"sk-toggleable__label sk-toggleable__label-arrow\">RandomForestClassifier</label><div class=\"sk-toggleable__content\"><pre>RandomForestClassifier(n_jobs=-1)</pre></div></div></div></div></div></div></div>"
      ],
      "text/plain": [
       "Pipeline(steps=[('scale', StandardScaler()),\n",
       "                ('model', RandomForestClassifier(n_jobs=-1))])"
      ]
     },
     "execution_count": 43,
     "metadata": {},
     "output_type": "execute_result"
    }
   ],
   "source": [
    "model.fit(X_train, y_train.values.ravel())"
   ]
  },
  {
   "cell_type": "code",
   "execution_count": 44,
   "id": "af59f8c0",
   "metadata": {
    "execution": {
     "iopub.execute_input": "2025-07-30T13:56:26.177792Z",
     "iopub.status.busy": "2025-07-30T13:56:26.177031Z",
     "iopub.status.idle": "2025-07-30T13:56:26.183944Z",
     "shell.execute_reply": "2025-07-30T13:56:26.182868Z"
    },
    "papermill": {
     "duration": 0.044956,
     "end_time": "2025-07-30T13:56:26.185549",
     "exception": false,
     "start_time": "2025-07-30T13:56:26.140593",
     "status": "completed"
    },
    "tags": []
   },
   "outputs": [],
   "source": [
    "from fairness_multiverse.universe import predict_w_threshold"
   ]
  },
  {
   "cell_type": "code",
   "execution_count": 45,
   "id": "a7cf2e16",
   "metadata": {
    "execution": {
     "iopub.execute_input": "2025-07-30T13:56:26.232859Z",
     "iopub.status.busy": "2025-07-30T13:56:26.232422Z",
     "iopub.status.idle": "2025-07-30T13:56:27.168609Z",
     "shell.execute_reply": "2025-07-30T13:56:27.167573Z"
    },
    "papermill": {
     "duration": 0.966604,
     "end_time": "2025-07-30T13:56:27.170418",
     "exception": false,
     "start_time": "2025-07-30T13:56:26.203814",
     "status": "completed"
    },
    "tags": []
   },
   "outputs": [
    {
     "data": {
      "text/plain": [
       "0.8662802363170216"
      ]
     },
     "execution_count": 45,
     "metadata": {},
     "output_type": "execute_result"
    }
   ],
   "source": [
    "probs_test = model.predict_proba(X_test)\n",
    "\n",
    "'''\n",
    "Below code returns a boolean array (or binary 0/1 array depending on how it’s used) where each element \n",
    "is True if the probability of class 1 is greater than or equal to the threshold, and False otherwise.\n",
    "'''\n",
    "y_pred_default = predict_w_threshold(probs_test, 0.5)\n",
    "\n",
    "from sklearn.metrics import accuracy_score\n",
    "\n",
    "# Naive prediction\n",
    "accuracy_score(y_true = y_true, y_pred = y_pred_default)"
   ]
  },
  {
   "cell_type": "code",
   "execution_count": 46,
   "id": "081964c3",
   "metadata": {
    "execution": {
     "iopub.execute_input": "2025-07-30T13:56:27.216246Z",
     "iopub.status.busy": "2025-07-30T13:56:27.215804Z",
     "iopub.status.idle": "2025-07-30T13:56:28.215305Z",
     "shell.execute_reply": "2025-07-30T13:56:28.214342Z"
    },
    "papermill": {
     "duration": 1.01701,
     "end_time": "2025-07-30T13:56:28.216934",
     "exception": false,
     "start_time": "2025-07-30T13:56:27.199924",
     "status": "completed"
    },
    "tags": []
   },
   "outputs": [
    {
     "data": {
      "text/plain": [
       "array([0, 0, 0, ..., 0, 0, 0])"
      ]
     },
     "execution_count": 46,
     "metadata": {},
     "output_type": "execute_result"
    }
   ],
   "source": [
    "model.predict(X_test)"
   ]
  },
  {
   "cell_type": "markdown",
   "id": "56c9705b",
   "metadata": {
    "papermill": {
     "duration": 0.024283,
     "end_time": "2025-07-30T13:56:28.266798",
     "exception": false,
     "start_time": "2025-07-30T13:56:28.242515",
     "status": "completed"
    },
    "tags": []
   },
   "source": [
    "# Conformal Prediction"
   ]
  },
  {
   "cell_type": "code",
   "execution_count": 47,
   "id": "160ec6ff",
   "metadata": {
    "execution": {
     "iopub.execute_input": "2025-07-30T13:56:28.317639Z",
     "iopub.status.busy": "2025-07-30T13:56:28.316948Z",
     "iopub.status.idle": "2025-07-30T13:56:28.322616Z",
     "shell.execute_reply": "2025-07-30T13:56:28.321656Z"
    },
    "papermill": {
     "duration": 0.033548,
     "end_time": "2025-07-30T13:56:28.324176",
     "exception": false,
     "start_time": "2025-07-30T13:56:28.290628",
     "status": "completed"
    },
    "tags": []
   },
   "outputs": [],
   "source": [
    "# Miscoverage level for conformal prediction (10% allowed error rate => 90% target coverage)\n",
    "alpha = 0.1"
   ]
  },
  {
   "cell_type": "code",
   "execution_count": 48,
   "id": "eadf4555-3dd3-440e-8e35-f82a4ad9f855",
   "metadata": {
    "execution": {
     "iopub.execute_input": "2025-07-30T13:56:28.374057Z",
     "iopub.status.busy": "2025-07-30T13:56:28.373638Z",
     "iopub.status.idle": "2025-07-30T13:56:29.397144Z",
     "shell.execute_reply": "2025-07-30T13:56:29.396075Z"
    },
    "papermill": {
     "duration": 1.050639,
     "end_time": "2025-07-30T13:56:29.399002",
     "exception": false,
     "start_time": "2025-07-30T13:56:28.348363",
     "status": "completed"
    },
    "tags": []
   },
   "outputs": [],
   "source": [
    "probs_calib = model.predict_proba(X_calib)"
   ]
  },
  {
   "cell_type": "code",
   "execution_count": 49,
   "id": "2ed93547-6d5d-4983-9b36-1ecb300da49a",
   "metadata": {
    "execution": {
     "iopub.execute_input": "2025-07-30T13:56:29.457671Z",
     "iopub.status.busy": "2025-07-30T13:56:29.457174Z",
     "iopub.status.idle": "2025-07-30T13:56:29.463199Z",
     "shell.execute_reply": "2025-07-30T13:56:29.462228Z"
    },
    "papermill": {
     "duration": 0.037458,
     "end_time": "2025-07-30T13:56:29.464984",
     "exception": false,
     "start_time": "2025-07-30T13:56:29.427526",
     "status": "completed"
    },
    "tags": []
   },
   "outputs": [],
   "source": [
    "y_calib = y_calib.values.ravel().astype(int)"
   ]
  },
  {
   "cell_type": "code",
   "execution_count": 50,
   "id": "65d1320d-f588-4b38-9072-62af1ae97f7d",
   "metadata": {
    "execution": {
     "iopub.execute_input": "2025-07-30T13:56:29.518110Z",
     "iopub.status.busy": "2025-07-30T13:56:29.517109Z",
     "iopub.status.idle": "2025-07-30T13:56:29.527191Z",
     "shell.execute_reply": "2025-07-30T13:56:29.526022Z"
    },
    "papermill": {
     "duration": 0.039854,
     "end_time": "2025-07-30T13:56:29.529269",
     "exception": false,
     "start_time": "2025-07-30T13:56:29.489415",
     "status": "completed"
    },
    "tags": []
   },
   "outputs": [],
   "source": [
    "from fairness_multiverse.conformal import compute_nc_scores\n",
    "\n",
    "# Compute nonconformity scores on calibration set (1 - probability of true class)\n",
    "nc_scores = compute_nc_scores(probs_calib, y_calib)"
   ]
  },
  {
   "cell_type": "code",
   "execution_count": 51,
   "id": "df3b8ca3-53b7-43d5-9667-7c85da7aeda2",
   "metadata": {
    "execution": {
     "iopub.execute_input": "2025-07-30T13:56:29.581620Z",
     "iopub.status.busy": "2025-07-30T13:56:29.581174Z",
     "iopub.status.idle": "2025-07-30T13:56:29.587096Z",
     "shell.execute_reply": "2025-07-30T13:56:29.586237Z"
    },
    "papermill": {
     "duration": 0.033875,
     "end_time": "2025-07-30T13:56:29.588790",
     "exception": false,
     "start_time": "2025-07-30T13:56:29.554915",
     "status": "completed"
    },
    "tags": []
   },
   "outputs": [],
   "source": [
    "from fairness_multiverse.conformal import find_threshold\n",
    "\n",
    "# Find conformal threshold q_hat for the given alpha (split conformal method)\n",
    "q_hat = find_threshold(nc_scores, alpha)"
   ]
  },
  {
   "cell_type": "code",
   "execution_count": 52,
   "id": "4d29e6c1-0ef6-4aa4-b8fe-4fe79b0d033a",
   "metadata": {
    "execution": {
     "iopub.execute_input": "2025-07-30T13:56:29.652634Z",
     "iopub.status.busy": "2025-07-30T13:56:29.651586Z",
     "iopub.status.idle": "2025-07-30T13:56:29.659569Z",
     "shell.execute_reply": "2025-07-30T13:56:29.658611Z"
    },
    "papermill": {
     "duration": 0.05045,
     "end_time": "2025-07-30T13:56:29.663610",
     "exception": false,
     "start_time": "2025-07-30T13:56:29.613160",
     "status": "completed"
    },
    "tags": []
   },
   "outputs": [
    {
     "data": {
      "text/plain": [
       "0.6799999999999999"
      ]
     },
     "execution_count": 52,
     "metadata": {},
     "output_type": "execute_result"
    }
   ],
   "source": [
    "q_hat"
   ]
  },
  {
   "cell_type": "code",
   "execution_count": 53,
   "id": "92460794-cdac-4be2-ba28-f28c0515a6fb",
   "metadata": {
    "execution": {
     "iopub.execute_input": "2025-07-30T13:56:29.728225Z",
     "iopub.status.busy": "2025-07-30T13:56:29.727777Z",
     "iopub.status.idle": "2025-07-30T13:56:31.603850Z",
     "shell.execute_reply": "2025-07-30T13:56:31.602950Z"
    },
    "papermill": {
     "duration": 1.905453,
     "end_time": "2025-07-30T13:56:31.606149",
     "exception": false,
     "start_time": "2025-07-30T13:56:29.700696",
     "status": "completed"
    },
    "tags": []
   },
   "outputs": [],
   "source": [
    "from fairness_multiverse.conformal import predict_conformal_sets\n",
    "\n",
    "# Generate prediction sets for each test example\n",
    "pred_sets = predict_conformal_sets(model, X_test, q_hat)"
   ]
  },
  {
   "cell_type": "code",
   "execution_count": 54,
   "id": "d90c9a65-e6db-4f5d-80cd-e68fb7e46829",
   "metadata": {
    "execution": {
     "iopub.execute_input": "2025-07-30T13:56:31.694850Z",
     "iopub.status.busy": "2025-07-30T13:56:31.694454Z",
     "iopub.status.idle": "2025-07-30T13:56:31.700490Z",
     "shell.execute_reply": "2025-07-30T13:56:31.699429Z"
    },
    "papermill": {
     "duration": 0.03432,
     "end_time": "2025-07-30T13:56:31.703175",
     "exception": false,
     "start_time": "2025-07-30T13:56:31.668855",
     "status": "completed"
    },
    "tags": []
   },
   "outputs": [],
   "source": [
    "y_true = y_true.squeeze()"
   ]
  },
  {
   "cell_type": "code",
   "execution_count": 55,
   "id": "3a58a54a-1e68-46b9-927a-df01f18aebc8",
   "metadata": {
    "execution": {
     "iopub.execute_input": "2025-07-30T13:56:31.754950Z",
     "iopub.status.busy": "2025-07-30T13:56:31.754560Z",
     "iopub.status.idle": "2025-07-30T13:56:32.816225Z",
     "shell.execute_reply": "2025-07-30T13:56:32.814908Z"
    },
    "papermill": {
     "duration": 1.089136,
     "end_time": "2025-07-30T13:56:32.818358",
     "exception": false,
     "start_time": "2025-07-30T13:56:31.729222",
     "status": "completed"
    },
    "tags": []
   },
   "outputs": [],
   "source": [
    "from fairness_multiverse.conformal import evaluate_sets\n",
    "\n",
    "# Evaluate coverage and average set size on test data\n",
    "metrics = evaluate_sets(pred_sets, y_true)"
   ]
  },
  {
   "cell_type": "markdown",
   "id": "2b569c12-9aaa-4c88-98c9-bbcd0cf3ebb8",
   "metadata": {
    "papermill": {
     "duration": 0.060614,
     "end_time": "2025-07-30T13:56:32.932908",
     "exception": false,
     "start_time": "2025-07-30T13:56:32.872294",
     "status": "completed"
    },
    "tags": []
   },
   "source": [
    "# CP Metrics"
   ]
  },
  {
   "cell_type": "code",
   "execution_count": 56,
   "id": "5ce0a5cb-201f-45a0-ade5-94c7f0bd6095",
   "metadata": {
    "execution": {
     "iopub.execute_input": "2025-07-30T13:56:33.077361Z",
     "iopub.status.busy": "2025-07-30T13:56:33.076967Z",
     "iopub.status.idle": "2025-07-30T13:56:33.084281Z",
     "shell.execute_reply": "2025-07-30T13:56:33.083281Z"
    },
    "papermill": {
     "duration": 0.100438,
     "end_time": "2025-07-30T13:56:33.088618",
     "exception": false,
     "start_time": "2025-07-30T13:56:32.988180",
     "status": "completed"
    },
    "tags": []
   },
   "outputs": [
    {
     "data": {
      "text/plain": [
       "{'coverage': 0.914390814847843, 'avg_size': 1.1483223720878386}"
      ]
     },
     "execution_count": 56,
     "metadata": {},
     "output_type": "execute_result"
    }
   ],
   "source": [
    "metrics"
   ]
  },
  {
   "cell_type": "code",
   "execution_count": 57,
   "id": "9b9a838d-31c9-430b-ae14-12baee460d17",
   "metadata": {
    "execution": {
     "iopub.execute_input": "2025-07-30T13:56:33.257395Z",
     "iopub.status.busy": "2025-07-30T13:56:33.256969Z",
     "iopub.status.idle": "2025-07-30T13:56:33.263886Z",
     "shell.execute_reply": "2025-07-30T13:56:33.262928Z"
    },
    "papermill": {
     "duration": 0.085296,
     "end_time": "2025-07-30T13:56:33.265422",
     "exception": false,
     "start_time": "2025-07-30T13:56:33.180126",
     "status": "completed"
    },
    "tags": []
   },
   "outputs": [],
   "source": [
    "example_universe = universe.copy()\n",
    "universe_training_size = example_universe.get(\"training_size\")\n",
    "universe_scale = example_universe.get(\"scale\")\n",
    "universe_model = example_universe.get(\"model\")\n",
    "universe_exclude_features = example_universe.get(\"exclude_features\")\n",
    "universe_exclude_subgroups = example_universe.get(\"exclude_subgroups\")"
   ]
  },
  {
   "cell_type": "code",
   "execution_count": 58,
   "id": "f4b6a8ac-9dc0-4245-8a91-5b3b5999c4f9",
   "metadata": {
    "execution": {
     "iopub.execute_input": "2025-07-30T13:56:33.320617Z",
     "iopub.status.busy": "2025-07-30T13:56:33.320181Z",
     "iopub.status.idle": "2025-07-30T13:56:33.327282Z",
     "shell.execute_reply": "2025-07-30T13:56:33.325655Z"
    },
    "papermill": {
     "duration": 0.040743,
     "end_time": "2025-07-30T13:56:33.334159",
     "exception": false,
     "start_time": "2025-07-30T13:56:33.293416",
     "status": "completed"
    },
    "tags": []
   },
   "outputs": [],
   "source": [
    "cp_metrics_dict = {\n",
    "    \"universe_id\": [universe_id],\n",
    "    \"universe_training_size\": [universe_training_size],\n",
    "    \"universe_scale\": [universe_scale],\n",
    "    \"universe_model\": [universe_model],\n",
    "    \"universe_exclude_features\": [universe_exclude_features],\n",
    "    \"universe_exclude_subgroups\": [universe_exclude_subgroups],\n",
    "    \"q_hat\": [q_hat],\n",
    "    \"coverage\": [metrics[\"coverage\"]],\n",
    "    \"avg_size\": [metrics[\"avg_size\"]],\n",
    "}"
   ]
  },
  {
   "cell_type": "code",
   "execution_count": 59,
   "id": "908acbb1-0371-4915-85ca-3fa520d2efe2",
   "metadata": {
    "execution": {
     "iopub.execute_input": "2025-07-30T13:56:33.407162Z",
     "iopub.status.busy": "2025-07-30T13:56:33.406645Z",
     "iopub.status.idle": "2025-07-30T13:56:33.413976Z",
     "shell.execute_reply": "2025-07-30T13:56:33.412922Z"
    },
    "papermill": {
     "duration": 0.04475,
     "end_time": "2025-07-30T13:56:33.421069",
     "exception": false,
     "start_time": "2025-07-30T13:56:33.376319",
     "status": "completed"
    },
    "tags": []
   },
   "outputs": [
    {
     "data": {
      "text/plain": [
       "{'universe_id': ['85265727b818115f33f026287ad609cf'],\n",
       " 'universe_training_size': ['5k'],\n",
       " 'universe_scale': ['scale'],\n",
       " 'universe_model': ['rf'],\n",
       " 'universe_exclude_features': ['sex'],\n",
       " 'universe_exclude_subgroups': ['keep-all'],\n",
       " 'q_hat': [0.6799999999999999],\n",
       " 'coverage': [0.914390814847843],\n",
       " 'avg_size': [1.1483223720878386]}"
      ]
     },
     "execution_count": 59,
     "metadata": {},
     "output_type": "execute_result"
    }
   ],
   "source": [
    "cp_metrics_dict"
   ]
  },
  {
   "cell_type": "code",
   "execution_count": 60,
   "id": "33007efc-14e9-4ec6-97ac-56a455c82265",
   "metadata": {
    "execution": {
     "iopub.execute_input": "2025-07-30T13:56:33.479201Z",
     "iopub.status.busy": "2025-07-30T13:56:33.478594Z",
     "iopub.status.idle": "2025-07-30T13:56:33.484738Z",
     "shell.execute_reply": "2025-07-30T13:56:33.483609Z"
    },
    "papermill": {
     "duration": 0.03705,
     "end_time": "2025-07-30T13:56:33.486356",
     "exception": false,
     "start_time": "2025-07-30T13:56:33.449306",
     "status": "completed"
    },
    "tags": []
   },
   "outputs": [],
   "source": [
    "cp_metrics_df = pd.DataFrame(cp_metrics_dict)"
   ]
  },
  {
   "cell_type": "code",
   "execution_count": 61,
   "id": "db12611b-57b2-4910-b9d0-355adfd6e7bf",
   "metadata": {
    "execution": {
     "iopub.execute_input": "2025-07-30T13:56:33.531035Z",
     "iopub.status.busy": "2025-07-30T13:56:33.530533Z",
     "iopub.status.idle": "2025-07-30T13:56:33.549304Z",
     "shell.execute_reply": "2025-07-30T13:56:33.548155Z"
    },
    "papermill": {
     "duration": 0.041964,
     "end_time": "2025-07-30T13:56:33.550977",
     "exception": false,
     "start_time": "2025-07-30T13:56:33.509013",
     "status": "completed"
    },
    "tags": []
   },
   "outputs": [
    {
     "data": {
      "text/html": [
       "<div>\n",
       "<style scoped>\n",
       "    .dataframe tbody tr th:only-of-type {\n",
       "        vertical-align: middle;\n",
       "    }\n",
       "\n",
       "    .dataframe tbody tr th {\n",
       "        vertical-align: top;\n",
       "    }\n",
       "\n",
       "    .dataframe thead th {\n",
       "        text-align: right;\n",
       "    }\n",
       "</style>\n",
       "<table border=\"1\" class=\"dataframe\">\n",
       "  <thead>\n",
       "    <tr style=\"text-align: right;\">\n",
       "      <th></th>\n",
       "      <th>universe_id</th>\n",
       "      <th>universe_training_size</th>\n",
       "      <th>universe_scale</th>\n",
       "      <th>universe_model</th>\n",
       "      <th>universe_exclude_features</th>\n",
       "      <th>universe_exclude_subgroups</th>\n",
       "      <th>q_hat</th>\n",
       "      <th>coverage</th>\n",
       "      <th>avg_size</th>\n",
       "    </tr>\n",
       "  </thead>\n",
       "  <tbody>\n",
       "    <tr>\n",
       "      <th>0</th>\n",
       "      <td>85265727b818115f33f026287ad609cf</td>\n",
       "      <td>5k</td>\n",
       "      <td>scale</td>\n",
       "      <td>rf</td>\n",
       "      <td>sex</td>\n",
       "      <td>keep-all</td>\n",
       "      <td>0.68</td>\n",
       "      <td>0.914391</td>\n",
       "      <td>1.148322</td>\n",
       "    </tr>\n",
       "  </tbody>\n",
       "</table>\n",
       "</div>"
      ],
      "text/plain": [
       "                        universe_id universe_training_size universe_scale  \\\n",
       "0  85265727b818115f33f026287ad609cf                     5k          scale   \n",
       "\n",
       "  universe_model universe_exclude_features universe_exclude_subgroups  q_hat  \\\n",
       "0             rf                       sex                   keep-all   0.68   \n",
       "\n",
       "   coverage  avg_size  \n",
       "0  0.914391  1.148322  "
      ]
     },
     "execution_count": 61,
     "metadata": {},
     "output_type": "execute_result"
    }
   ],
   "source": [
    "cp_metrics_df"
   ]
  },
  {
   "cell_type": "code",
   "execution_count": 62,
   "id": "b7fbde55-a0a1-47e4-9af6-fe4a17fa8c61",
   "metadata": {
    "execution": {
     "iopub.execute_input": "2025-07-30T13:56:33.604580Z",
     "iopub.status.busy": "2025-07-30T13:56:33.603839Z",
     "iopub.status.idle": "2025-07-30T13:56:33.610229Z",
     "shell.execute_reply": "2025-07-30T13:56:33.608998Z"
    },
    "papermill": {
     "duration": 0.038542,
     "end_time": "2025-07-30T13:56:33.612301",
     "exception": false,
     "start_time": "2025-07-30T13:56:33.573759",
     "status": "completed"
    },
    "tags": []
   },
   "outputs": [],
   "source": [
    "# Conditional Coverage & looking at subgroups"
   ]
  },
  {
   "cell_type": "code",
   "execution_count": 63,
   "id": "027ae886-68dd-4141-96c7-805a5450e1ef",
   "metadata": {
    "execution": {
     "iopub.execute_input": "2025-07-30T13:56:33.668236Z",
     "iopub.status.busy": "2025-07-30T13:56:33.667535Z",
     "iopub.status.idle": "2025-07-30T13:56:33.958332Z",
     "shell.execute_reply": "2025-07-30T13:56:33.957377Z"
    },
    "papermill": {
     "duration": 0.323115,
     "end_time": "2025-07-30T13:56:33.960201",
     "exception": false,
     "start_time": "2025-07-30T13:56:33.637086",
     "status": "completed"
    },
    "tags": []
   },
   "outputs": [],
   "source": [
    "from fairness_multiverse.conformal import build_cp_groups\n",
    "\n",
    "cp_groups_df = build_cp_groups(pred_sets, y_true, X_test.index, org_test)\n",
    "#needs universe_id and setting"
   ]
  },
  {
   "cell_type": "code",
   "execution_count": 64,
   "id": "01d5802c-663a-4d1f-9d69-e036faaffbf7",
   "metadata": {
    "execution": {
     "iopub.execute_input": "2025-07-30T13:56:34.059527Z",
     "iopub.status.busy": "2025-07-30T13:56:34.059123Z",
     "iopub.status.idle": "2025-07-30T13:56:34.064647Z",
     "shell.execute_reply": "2025-07-30T13:56:34.063557Z"
    },
    "papermill": {
     "duration": 0.046587,
     "end_time": "2025-07-30T13:56:34.066536",
     "exception": false,
     "start_time": "2025-07-30T13:56:34.019949",
     "status": "completed"
    },
    "tags": []
   },
   "outputs": [],
   "source": [
    "#delete\n",
    "#cp_groups_df"
   ]
  },
  {
   "cell_type": "code",
   "execution_count": 65,
   "id": "fa424af1-d1eb-443d-b717-2d279ada8408",
   "metadata": {
    "execution": {
     "iopub.execute_input": "2025-07-30T13:56:34.120693Z",
     "iopub.status.busy": "2025-07-30T13:56:34.120267Z",
     "iopub.status.idle": "2025-07-30T13:56:34.125767Z",
     "shell.execute_reply": "2025-07-30T13:56:34.124590Z"
    },
    "papermill": {
     "duration": 0.035051,
     "end_time": "2025-07-30T13:56:34.128190",
     "exception": false,
     "start_time": "2025-07-30T13:56:34.093139",
     "status": "completed"
    },
    "tags": []
   },
   "outputs": [],
   "source": [
    "#delete\n",
    "#percentage = (cp_groups_df['nongerman_female'] == 1).mean() * 100\n",
    "#print(percentage)\n"
   ]
  },
  {
   "cell_type": "code",
   "execution_count": 66,
   "id": "6cbdab96-b2b2-45af-ad54-d0516db2e28d",
   "metadata": {
    "execution": {
     "iopub.execute_input": "2025-07-30T13:56:34.195831Z",
     "iopub.status.busy": "2025-07-30T13:56:34.195442Z",
     "iopub.status.idle": "2025-07-30T13:56:36.151069Z",
     "shell.execute_reply": "2025-07-30T13:56:36.150001Z"
    },
    "papermill": {
     "duration": 1.998142,
     "end_time": "2025-07-30T13:56:36.153001",
     "exception": false,
     "start_time": "2025-07-30T13:56:34.154859",
     "status": "completed"
    },
    "tags": []
   },
   "outputs": [],
   "source": [
    "# Define covered = 1 if true_label is in the predicted set\n",
    "cp_groups_df['covered'] = cp_groups_df.apply(\n",
    "    lambda r: int(r['true_label'] in r['pred_set']),\n",
    "    axis=1\n",
    ")"
   ]
  },
  {
   "cell_type": "code",
   "execution_count": 67,
   "id": "338ff529-1a6b-4b87-a931-8e4788d52aad",
   "metadata": {
    "execution": {
     "iopub.execute_input": "2025-07-30T13:56:36.213302Z",
     "iopub.status.busy": "2025-07-30T13:56:36.212430Z",
     "iopub.status.idle": "2025-07-30T13:56:36.217728Z",
     "shell.execute_reply": "2025-07-30T13:56:36.216819Z"
    },
    "papermill": {
     "duration": 0.036906,
     "end_time": "2025-07-30T13:56:36.219475",
     "exception": false,
     "start_time": "2025-07-30T13:56:36.182569",
     "status": "completed"
    },
    "tags": []
   },
   "outputs": [],
   "source": [
    "#cp_groups_df"
   ]
  },
  {
   "cell_type": "code",
   "execution_count": 68,
   "id": "90032e27-66df-4540-9169-4e89cfbaa758",
   "metadata": {
    "execution": {
     "iopub.execute_input": "2025-07-30T13:56:36.278419Z",
     "iopub.status.busy": "2025-07-30T13:56:36.278033Z",
     "iopub.status.idle": "2025-07-30T13:56:36.289893Z",
     "shell.execute_reply": "2025-07-30T13:56:36.288945Z"
    },
    "papermill": {
     "duration": 0.043672,
     "end_time": "2025-07-30T13:56:36.291561",
     "exception": false,
     "start_time": "2025-07-30T13:56:36.247889",
     "status": "completed"
    },
    "tags": []
   },
   "outputs": [],
   "source": [
    "subgroups = ['frau1','nongerman','nongerman_male','nongerman_female']\n",
    "\n",
    "# Conditional coverage for subgroup==1\n",
    "cond_coverage = {\n",
    "    g: cp_groups_df.loc[cp_groups_df[g]==1, 'covered'].mean()\n",
    "    for g in subgroups\n",
    "}"
   ]
  },
  {
   "cell_type": "code",
   "execution_count": 69,
   "id": "1e348fb1-b9c3-45bc-ba23-f016827a7e0d",
   "metadata": {
    "execution": {
     "iopub.execute_input": "2025-07-30T13:56:36.350538Z",
     "iopub.status.busy": "2025-07-30T13:56:36.350026Z",
     "iopub.status.idle": "2025-07-30T13:56:36.358067Z",
     "shell.execute_reply": "2025-07-30T13:56:36.357149Z"
    },
    "papermill": {
     "duration": 0.039831,
     "end_time": "2025-07-30T13:56:36.359719",
     "exception": false,
     "start_time": "2025-07-30T13:56:36.319888",
     "status": "completed"
    },
    "tags": []
   },
   "outputs": [
    {
     "data": {
      "text/plain": [
       "{'frau1': 0.9093678393314463,\n",
       " 'nongerman': 0.9077078538146298,\n",
       " 'nongerman_male': 0.9252454291632892,\n",
       " 'nongerman_female': 0.8786885245901639}"
      ]
     },
     "execution_count": 69,
     "metadata": {},
     "output_type": "execute_result"
    }
   ],
   "source": [
    "cond_coverage"
   ]
  },
  {
   "cell_type": "code",
   "execution_count": 70,
   "id": "f5093324-c3dd-4d63-bc4c-8d945e5c8bbb",
   "metadata": {
    "execution": {
     "iopub.execute_input": "2025-07-30T13:56:36.467405Z",
     "iopub.status.busy": "2025-07-30T13:56:36.466950Z",
     "iopub.status.idle": "2025-07-30T13:56:36.474970Z",
     "shell.execute_reply": "2025-07-30T13:56:36.473903Z"
    },
    "papermill": {
     "duration": 0.048128,
     "end_time": "2025-07-30T13:56:36.486447",
     "exception": false,
     "start_time": "2025-07-30T13:56:36.438319",
     "status": "completed"
    },
    "tags": []
   },
   "outputs": [],
   "source": [
    "for subgroup, cov in cond_coverage.items():\n",
    "    cp_metrics_df[f\"cov_{subgroup}\"] = cov"
   ]
  },
  {
   "cell_type": "code",
   "execution_count": 71,
   "id": "6e872e10-dbe5-49e8-b554-5030c98ff75d",
   "metadata": {
    "execution": {
     "iopub.execute_input": "2025-07-30T13:56:36.549150Z",
     "iopub.status.busy": "2025-07-30T13:56:36.548584Z",
     "iopub.status.idle": "2025-07-30T13:56:36.564909Z",
     "shell.execute_reply": "2025-07-30T13:56:36.564090Z"
    },
    "papermill": {
     "duration": 0.050775,
     "end_time": "2025-07-30T13:56:36.566664",
     "exception": false,
     "start_time": "2025-07-30T13:56:36.515889",
     "status": "completed"
    },
    "tags": []
   },
   "outputs": [
    {
     "data": {
      "text/html": [
       "<div>\n",
       "<style scoped>\n",
       "    .dataframe tbody tr th:only-of-type {\n",
       "        vertical-align: middle;\n",
       "    }\n",
       "\n",
       "    .dataframe tbody tr th {\n",
       "        vertical-align: top;\n",
       "    }\n",
       "\n",
       "    .dataframe thead th {\n",
       "        text-align: right;\n",
       "    }\n",
       "</style>\n",
       "<table border=\"1\" class=\"dataframe\">\n",
       "  <thead>\n",
       "    <tr style=\"text-align: right;\">\n",
       "      <th></th>\n",
       "      <th>universe_id</th>\n",
       "      <th>universe_training_size</th>\n",
       "      <th>universe_scale</th>\n",
       "      <th>universe_model</th>\n",
       "      <th>universe_exclude_features</th>\n",
       "      <th>universe_exclude_subgroups</th>\n",
       "      <th>q_hat</th>\n",
       "      <th>coverage</th>\n",
       "      <th>avg_size</th>\n",
       "      <th>cov_frau1</th>\n",
       "      <th>cov_nongerman</th>\n",
       "      <th>cov_nongerman_male</th>\n",
       "      <th>cov_nongerman_female</th>\n",
       "    </tr>\n",
       "  </thead>\n",
       "  <tbody>\n",
       "    <tr>\n",
       "      <th>0</th>\n",
       "      <td>85265727b818115f33f026287ad609cf</td>\n",
       "      <td>5k</td>\n",
       "      <td>scale</td>\n",
       "      <td>rf</td>\n",
       "      <td>sex</td>\n",
       "      <td>keep-all</td>\n",
       "      <td>0.68</td>\n",
       "      <td>0.914391</td>\n",
       "      <td>1.148322</td>\n",
       "      <td>0.909368</td>\n",
       "      <td>0.907708</td>\n",
       "      <td>0.925245</td>\n",
       "      <td>0.878689</td>\n",
       "    </tr>\n",
       "  </tbody>\n",
       "</table>\n",
       "</div>"
      ],
      "text/plain": [
       "                        universe_id universe_training_size universe_scale  \\\n",
       "0  85265727b818115f33f026287ad609cf                     5k          scale   \n",
       "\n",
       "  universe_model universe_exclude_features universe_exclude_subgroups  q_hat  \\\n",
       "0             rf                       sex                   keep-all   0.68   \n",
       "\n",
       "   coverage  avg_size  cov_frau1  cov_nongerman  cov_nongerman_male  \\\n",
       "0  0.914391  1.148322   0.909368       0.907708            0.925245   \n",
       "\n",
       "   cov_nongerman_female  \n",
       "0              0.878689  "
      ]
     },
     "execution_count": 71,
     "metadata": {},
     "output_type": "execute_result"
    }
   ],
   "source": [
    "cp_metrics_df"
   ]
  },
  {
   "cell_type": "markdown",
   "id": "33774451",
   "metadata": {
    "papermill": {
     "duration": 0.042709,
     "end_time": "2025-07-30T13:56:36.640656",
     "exception": false,
     "start_time": "2025-07-30T13:56:36.597947",
     "status": "completed"
    },
    "tags": []
   },
   "source": [
    "# (Fairness) Metrics"
   ]
  },
  {
   "cell_type": "code",
   "execution_count": 72,
   "id": "debc5d62",
   "metadata": {
    "execution": {
     "iopub.execute_input": "2025-07-30T13:56:36.692858Z",
     "iopub.status.busy": "2025-07-30T13:56:36.691733Z",
     "iopub.status.idle": "2025-07-30T13:56:36.714205Z",
     "shell.execute_reply": "2025-07-30T13:56:36.713287Z"
    },
    "papermill": {
     "duration": 0.05873,
     "end_time": "2025-07-30T13:56:36.716027",
     "exception": false,
     "start_time": "2025-07-30T13:56:36.657297",
     "status": "completed"
    },
    "tags": []
   },
   "outputs": [],
   "source": [
    "# do I need to include maxdeutsch1.missing?\n",
    "\n",
    "import numpy as np\n",
    "\n",
    "colname_to_bin = \"maxdeutsch1\"\n",
    "majority_value = org_train[colname_to_bin].mode()[0]\n",
    "\n",
    "org_test[\"majmin\"] = np.where(org_test[colname_to_bin] == majority_value, \"majority\", \"minority\")"
   ]
  },
  {
   "cell_type": "code",
   "execution_count": 73,
   "id": "06a50de5",
   "metadata": {
    "execution": {
     "iopub.execute_input": "2025-07-30T13:56:36.774486Z",
     "iopub.status.busy": "2025-07-30T13:56:36.774117Z",
     "iopub.status.idle": "2025-07-30T13:56:40.049229Z",
     "shell.execute_reply": "2025-07-30T13:56:40.048117Z"
    },
    "papermill": {
     "duration": 3.305075,
     "end_time": "2025-07-30T13:56:40.051218",
     "exception": false,
     "start_time": "2025-07-30T13:56:36.746143",
     "status": "completed"
    },
    "tags": []
   },
   "outputs": [],
   "source": [
    "example_universe = universe.copy()\n",
    "example_universe[\"cutoff\"] = example_universe[\"cutoff\"][0]\n",
    "example_universe[\"eval_fairness_grouping\"] = example_universe[\"eval_fairness_grouping\"][0]\n",
    "fairness_dict, metric_frame = universe_analysis.compute_metrics(\n",
    "    example_universe,\n",
    "    y_pred_prob=probs_test,\n",
    "    y_test=y_true,\n",
    "    org_test=org_test,\n",
    ")"
   ]
  },
  {
   "cell_type": "markdown",
   "id": "f95d4e02",
   "metadata": {
    "papermill": {
     "duration": 0.024822,
     "end_time": "2025-07-30T13:56:40.105336",
     "exception": false,
     "start_time": "2025-07-30T13:56:40.080514",
     "status": "completed"
    },
    "tags": []
   },
   "source": [
    "# Overall"
   ]
  },
  {
   "cell_type": "markdown",
   "id": "bdee4871",
   "metadata": {
    "papermill": {
     "duration": 0.07609,
     "end_time": "2025-07-30T13:56:40.247895",
     "exception": false,
     "start_time": "2025-07-30T13:56:40.171805",
     "status": "completed"
    },
    "tags": []
   },
   "source": [
    "Fairness\n",
    "Main fairness target: Equalized Odds. Seems to be a better fit than equal opportunity, since we're not only interested in Y = 1. Seems to be a better fit than demographic parity, since we also care about accuracy, not just equal distribution of preds.\n",
    "\n",
    "Pick column for computation of fairness metrics\n",
    "\n",
    "Performance\n",
    "Overall performance measures, most interesting in relation to the measures split by group below"
   ]
  },
  {
   "cell_type": "code",
   "execution_count": 74,
   "id": "c4e067c6",
   "metadata": {
    "execution": {
     "iopub.execute_input": "2025-07-30T13:56:40.374055Z",
     "iopub.status.busy": "2025-07-30T13:56:40.373583Z",
     "iopub.status.idle": "2025-07-30T13:56:40.385179Z",
     "shell.execute_reply": "2025-07-30T13:56:40.384196Z"
    },
    "papermill": {
     "duration": 0.059267,
     "end_time": "2025-07-30T13:56:40.387632",
     "exception": false,
     "start_time": "2025-07-30T13:56:40.328365",
     "status": "completed"
    },
    "tags": []
   },
   "outputs": [
    {
     "data": {
      "text/plain": [
       "accuracy                   0.211102\n",
       "balanced accuracy          0.538093\n",
       "f1                         0.241295\n",
       "precision                  0.137627\n",
       "false positive rate        0.901742\n",
       "false negative rate        0.022072\n",
       "selection rate             0.911515\n",
       "count                  89710.000000\n",
       "dtype: float64"
      ]
     },
     "execution_count": 74,
     "metadata": {},
     "output_type": "execute_result"
    }
   ],
   "source": [
    "metric_frame.overall"
   ]
  },
  {
   "cell_type": "markdown",
   "id": "e968fe9d",
   "metadata": {
    "papermill": {
     "duration": 0.044536,
     "end_time": "2025-07-30T13:56:40.508913",
     "exception": false,
     "start_time": "2025-07-30T13:56:40.464377",
     "status": "completed"
    },
    "tags": []
   },
   "source": [
    "By Group"
   ]
  },
  {
   "cell_type": "code",
   "execution_count": 75,
   "id": "ec325bce",
   "metadata": {
    "execution": {
     "iopub.execute_input": "2025-07-30T13:56:40.616686Z",
     "iopub.status.busy": "2025-07-30T13:56:40.616274Z",
     "iopub.status.idle": "2025-07-30T13:56:40.636655Z",
     "shell.execute_reply": "2025-07-30T13:56:40.635715Z"
    },
    "papermill": {
     "duration": 0.07812,
     "end_time": "2025-07-30T13:56:40.638434",
     "exception": false,
     "start_time": "2025-07-30T13:56:40.560314",
     "status": "completed"
    },
    "tags": []
   },
   "outputs": [
    {
     "data": {
      "text/html": [
       "<div>\n",
       "<style scoped>\n",
       "    .dataframe tbody tr th:only-of-type {\n",
       "        vertical-align: middle;\n",
       "    }\n",
       "\n",
       "    .dataframe tbody tr th {\n",
       "        vertical-align: top;\n",
       "    }\n",
       "\n",
       "    .dataframe thead th {\n",
       "        text-align: right;\n",
       "    }\n",
       "</style>\n",
       "<table border=\"1\" class=\"dataframe\">\n",
       "  <thead>\n",
       "    <tr style=\"text-align: right;\">\n",
       "      <th></th>\n",
       "      <th>accuracy</th>\n",
       "      <th>balanced accuracy</th>\n",
       "      <th>f1</th>\n",
       "      <th>precision</th>\n",
       "      <th>false positive rate</th>\n",
       "      <th>false negative rate</th>\n",
       "      <th>selection rate</th>\n",
       "      <th>count</th>\n",
       "    </tr>\n",
       "    <tr>\n",
       "      <th>majmin</th>\n",
       "      <th></th>\n",
       "      <th></th>\n",
       "      <th></th>\n",
       "      <th></th>\n",
       "      <th></th>\n",
       "      <th></th>\n",
       "      <th></th>\n",
       "      <th></th>\n",
       "    </tr>\n",
       "  </thead>\n",
       "  <tbody>\n",
       "    <tr>\n",
       "      <th>majority</th>\n",
       "      <td>0.203036</td>\n",
       "      <td>0.536487</td>\n",
       "      <td>0.247098</td>\n",
       "      <td>0.141172</td>\n",
       "      <td>0.916742</td>\n",
       "      <td>0.010284</td>\n",
       "      <td>0.926384</td>\n",
       "      <td>69170.0</td>\n",
       "    </tr>\n",
       "    <tr>\n",
       "      <th>minority</th>\n",
       "      <td>0.238267</td>\n",
       "      <td>0.540121</td>\n",
       "      <td>0.220118</td>\n",
       "      <td>0.124788</td>\n",
       "      <td>0.852190</td>\n",
       "      <td>0.067568</td>\n",
       "      <td>0.861441</td>\n",
       "      <td>20540.0</td>\n",
       "    </tr>\n",
       "  </tbody>\n",
       "</table>\n",
       "</div>"
      ],
      "text/plain": [
       "          accuracy  balanced accuracy        f1  precision  \\\n",
       "majmin                                                       \n",
       "majority  0.203036           0.536487  0.247098   0.141172   \n",
       "minority  0.238267           0.540121  0.220118   0.124788   \n",
       "\n",
       "          false positive rate  false negative rate  selection rate    count  \n",
       "majmin                                                                       \n",
       "majority             0.916742             0.010284        0.926384  69170.0  \n",
       "minority             0.852190             0.067568        0.861441  20540.0  "
      ]
     },
     "execution_count": 75,
     "metadata": {},
     "output_type": "execute_result"
    }
   ],
   "source": [
    "metric_frame.by_group"
   ]
  },
  {
   "cell_type": "code",
   "execution_count": 76,
   "id": "a9ddbe63",
   "metadata": {
    "execution": {
     "iopub.execute_input": "2025-07-30T13:56:40.735961Z",
     "iopub.status.busy": "2025-07-30T13:56:40.735557Z",
     "iopub.status.idle": "2025-07-30T13:56:43.481414Z",
     "shell.execute_reply": "2025-07-30T13:56:43.480419Z"
    },
    "papermill": {
     "duration": 2.796174,
     "end_time": "2025-07-30T13:56:43.483144",
     "exception": false,
     "start_time": "2025-07-30T13:56:40.686970",
     "status": "completed"
    },
    "tags": []
   },
   "outputs": [
    {
     "data": {
      "text/plain": [
       "array([[<Axes: title={'center': 'accuracy'}, xlabel='majmin'>,\n",
       "        <Axes: title={'center': 'balanced accuracy'}, xlabel='majmin'>,\n",
       "        <Axes: title={'center': 'f1'}, xlabel='majmin'>],\n",
       "       [<Axes: title={'center': 'precision'}, xlabel='majmin'>,\n",
       "        <Axes: title={'center': 'false positive rate'}, xlabel='majmin'>,\n",
       "        <Axes: title={'center': 'false negative rate'}, xlabel='majmin'>],\n",
       "       [<Axes: title={'center': 'selection rate'}, xlabel='majmin'>,\n",
       "        <Axes: title={'center': 'count'}, xlabel='majmin'>,\n",
       "        <Axes: xlabel='majmin'>]], dtype=object)"
      ]
     },
     "execution_count": 76,
     "metadata": {},
     "output_type": "execute_result"
    },
    {
     "data": {
      "image/png": "[encoded data removed]",
      "text/plain": [
       "<Figure size 1200x800 with 9 Axes>"
      ]
     },
     "metadata": {},
     "output_type": "display_data"
    }
   ],
   "source": [
    "# In a graphic\n",
    "metric_frame.by_group.plot.bar(\n",
    "    subplots=True,\n",
    "    layout=[3, 3],\n",
    "    legend=False,\n",
    "    figsize=[12, 8],\n",
    "    title=\"Show all metrics\",\n",
    ")"
   ]
  },
  {
   "cell_type": "markdown",
   "id": "f57a0bac",
   "metadata": {
    "papermill": {
     "duration": 0.028092,
     "end_time": "2025-07-30T13:56:43.542427",
     "exception": false,
     "start_time": "2025-07-30T13:56:43.514335",
     "status": "completed"
    },
    "tags": []
   },
   "source": [
    "# Final Output"
   ]
  },
  {
   "cell_type": "code",
   "execution_count": 77,
   "id": "96d280a3",
   "metadata": {
    "execution": {
     "iopub.execute_input": "2025-07-30T13:56:43.605352Z",
     "iopub.status.busy": "2025-07-30T13:56:43.604700Z",
     "iopub.status.idle": "2025-07-30T13:56:43.612650Z",
     "shell.execute_reply": "2025-07-30T13:56:43.611656Z"
    },
    "papermill": {
     "duration": 0.039785,
     "end_time": "2025-07-30T13:56:43.614254",
     "exception": false,
     "start_time": "2025-07-30T13:56:43.574469",
     "status": "completed"
    },
    "tags": []
   },
   "outputs": [
    {
     "data": {
      "text/plain": [
       "4"
      ]
     },
     "execution_count": 77,
     "metadata": {},
     "output_type": "execute_result"
    }
   ],
   "source": [
    "sub_universes = universe_analysis.generate_sub_universes()\n",
    "len(sub_universes)"
   ]
  },
  {
   "cell_type": "code",
   "execution_count": 78,
   "id": "92adf7ba",
   "metadata": {
    "execution": {
     "iopub.execute_input": "2025-07-30T13:56:43.677655Z",
     "iopub.status.busy": "2025-07-30T13:56:43.677151Z",
     "iopub.status.idle": "2025-07-30T13:56:43.683594Z",
     "shell.execute_reply": "2025-07-30T13:56:43.682337Z"
    },
    "papermill": {
     "duration": 0.041387,
     "end_time": "2025-07-30T13:56:43.685392",
     "exception": false,
     "start_time": "2025-07-30T13:56:43.644005",
     "status": "completed"
    },
    "tags": []
   },
   "outputs": [],
   "source": [
    "def filter_sub_universe_data(sub_universe, org_test):\n",
    "    # Keep all rows — no filtering\n",
    "    keep_rows_mask = np.ones(org_test.shape[0], dtype=bool)\n",
    "\n",
    "    print(f\"[INFO] Keeping all rows: {keep_rows_mask.sum()} rows retained.\")\n",
    "    return keep_rows_mask"
   ]
  },
  {
   "cell_type": "code",
   "execution_count": 79,
   "id": "4a759155",
   "metadata": {
    "execution": {
     "iopub.execute_input": "2025-07-30T13:56:43.749954Z",
     "iopub.status.busy": "2025-07-30T13:56:43.749289Z",
     "iopub.status.idle": "2025-07-30T13:56:53.499731Z",
     "shell.execute_reply": "2025-07-30T13:56:53.498794Z"
    },
    "papermill": {
     "duration": 9.784762,
     "end_time": "2025-07-30T13:56:53.501313",
     "exception": false,
     "start_time": "2025-07-30T13:56:43.716551",
     "status": "completed"
    },
    "tags": []
   },
   "outputs": [
    {
     "name": "stdout",
     "output_type": "stream",
     "text": [
      "Stopping execution_time clock.\n",
      "[INFO] Keeping all rows: 89710 rows retained.\n"
     ]
    },
    {
     "name": "stdout",
     "output_type": "stream",
     "text": [
      "[INFO] Keeping all rows: 89710 rows retained.\n"
     ]
    },
    {
     "name": "stdout",
     "output_type": "stream",
     "text": [
      "[INFO] Keeping all rows: 89710 rows retained.\n"
     ]
    },
    {
     "name": "stdout",
     "output_type": "stream",
     "text": [
      "[INFO] Keeping all rows: 89710 rows retained.\n"
     ]
    },
    {
     "data": {
      "text/html": [
       "<div>\n",
       "<style scoped>\n",
       "    .dataframe tbody tr th:only-of-type {\n",
       "        vertical-align: middle;\n",
       "    }\n",
       "\n",
       "    .dataframe tbody tr th {\n",
       "        vertical-align: top;\n",
       "    }\n",
       "\n",
       "    .dataframe thead th {\n",
       "        text-align: right;\n",
       "    }\n",
       "</style>\n",
       "<table border=\"1\" class=\"dataframe\">\n",
       "  <thead>\n",
       "    <tr style=\"text-align: right;\">\n",
       "      <th></th>\n",
       "      <th>run_no</th>\n",
       "      <th>universe_id</th>\n",
       "      <th>universe_settings</th>\n",
       "      <th>execution_time</th>\n",
       "      <th>test_size_n</th>\n",
       "      <th>test_size_frac</th>\n",
       "      <th>fair_main_equalized_odds_difference</th>\n",
       "      <th>fair_main_equalized_odds_ratio</th>\n",
       "      <th>fair_main_demographic_parity_difference</th>\n",
       "      <th>fair_main_demographic_parity_ratio</th>\n",
       "      <th>...</th>\n",
       "      <th>perf_grp_precision_0</th>\n",
       "      <th>perf_grp_precision_1</th>\n",
       "      <th>perf_grp_false positive rate_0</th>\n",
       "      <th>perf_grp_false positive rate_1</th>\n",
       "      <th>perf_grp_false negative rate_0</th>\n",
       "      <th>perf_grp_false negative rate_1</th>\n",
       "      <th>perf_grp_selection rate_0</th>\n",
       "      <th>perf_grp_selection rate_1</th>\n",
       "      <th>perf_grp_count_0</th>\n",
       "      <th>perf_grp_count_1</th>\n",
       "    </tr>\n",
       "  </thead>\n",
       "  <tbody>\n",
       "    <tr>\n",
       "      <th>0</th>\n",
       "      <td>12</td>\n",
       "      <td>85265727b818115f33f026287ad609cf</td>\n",
       "      <td>{\"cutoff\": \"quantile_0.1\", \"eval_fairness_grou...</td>\n",
       "      <td>35.012933</td>\n",
       "      <td>89710</td>\n",
       "      <td>1.0</td>\n",
       "      <td>0.064551</td>\n",
       "      <td>0.929586</td>\n",
       "      <td>0.064943</td>\n",
       "      <td>0.929896</td>\n",
       "      <td>...</td>\n",
       "      <td>NaN</td>\n",
       "      <td>NaN</td>\n",
       "      <td>NaN</td>\n",
       "      <td>NaN</td>\n",
       "      <td>NaN</td>\n",
       "      <td>NaN</td>\n",
       "      <td>NaN</td>\n",
       "      <td>NaN</td>\n",
       "      <td>NaN</td>\n",
       "      <td>NaN</td>\n",
       "    </tr>\n",
       "    <tr>\n",
       "      <th>0</th>\n",
       "      <td>12</td>\n",
       "      <td>85265727b818115f33f026287ad609cf</td>\n",
       "      <td>{\"cutoff\": \"quantile_0.1\", \"eval_fairness_grou...</td>\n",
       "      <td>35.012933</td>\n",
       "      <td>89710</td>\n",
       "      <td>1.0</td>\n",
       "      <td>0.064551</td>\n",
       "      <td>0.929586</td>\n",
       "      <td>0.064943</td>\n",
       "      <td>0.929896</td>\n",
       "      <td>...</td>\n",
       "      <td>0.124788</td>\n",
       "      <td>0.141172</td>\n",
       "      <td>0.852190</td>\n",
       "      <td>0.916742</td>\n",
       "      <td>0.067568</td>\n",
       "      <td>0.010284</td>\n",
       "      <td>0.861441</td>\n",
       "      <td>0.926384</td>\n",
       "      <td>20540.0</td>\n",
       "      <td>69170.0</td>\n",
       "    </tr>\n",
       "    <tr>\n",
       "      <th>0</th>\n",
       "      <td>12</td>\n",
       "      <td>85265727b818115f33f026287ad609cf</td>\n",
       "      <td>{\"cutoff\": \"quantile_0.25\", \"eval_fairness_gro...</td>\n",
       "      <td>35.012933</td>\n",
       "      <td>89710</td>\n",
       "      <td>1.0</td>\n",
       "      <td>0.113993</td>\n",
       "      <td>0.879758</td>\n",
       "      <td>0.081981</td>\n",
       "      <td>0.893363</td>\n",
       "      <td>...</td>\n",
       "      <td>NaN</td>\n",
       "      <td>NaN</td>\n",
       "      <td>NaN</td>\n",
       "      <td>NaN</td>\n",
       "      <td>NaN</td>\n",
       "      <td>NaN</td>\n",
       "      <td>NaN</td>\n",
       "      <td>NaN</td>\n",
       "      <td>NaN</td>\n",
       "      <td>NaN</td>\n",
       "    </tr>\n",
       "    <tr>\n",
       "      <th>0</th>\n",
       "      <td>12</td>\n",
       "      <td>85265727b818115f33f026287ad609cf</td>\n",
       "      <td>{\"cutoff\": \"quantile_0.25\", \"eval_fairness_gro...</td>\n",
       "      <td>35.012933</td>\n",
       "      <td>89710</td>\n",
       "      <td>1.0</td>\n",
       "      <td>0.113993</td>\n",
       "      <td>0.879758</td>\n",
       "      <td>0.081981</td>\n",
       "      <td>0.893363</td>\n",
       "      <td>...</td>\n",
       "      <td>0.140001</td>\n",
       "      <td>0.162946</td>\n",
       "      <td>0.667621</td>\n",
       "      <td>0.741496</td>\n",
       "      <td>0.165963</td>\n",
       "      <td>0.051969</td>\n",
       "      <td>0.686806</td>\n",
       "      <td>0.768787</td>\n",
       "      <td>20540.0</td>\n",
       "      <td>69170.0</td>\n",
       "    </tr>\n",
       "  </tbody>\n",
       "</table>\n",
       "<p>4 rows × 50 columns</p>\n",
       "</div>"
      ],
      "text/plain": [
       "  run_no                       universe_id  \\\n",
       "0     12  85265727b818115f33f026287ad609cf   \n",
       "0     12  85265727b818115f33f026287ad609cf   \n",
       "0     12  85265727b818115f33f026287ad609cf   \n",
       "0     12  85265727b818115f33f026287ad609cf   \n",
       "\n",
       "                                   universe_settings  execution_time  \\\n",
       "0  {\"cutoff\": \"quantile_0.1\", \"eval_fairness_grou...       35.012933   \n",
       "0  {\"cutoff\": \"quantile_0.1\", \"eval_fairness_grou...       35.012933   \n",
       "0  {\"cutoff\": \"quantile_0.25\", \"eval_fairness_gro...       35.012933   \n",
       "0  {\"cutoff\": \"quantile_0.25\", \"eval_fairness_gro...       35.012933   \n",
       "\n",
       "   test_size_n  test_size_frac  fair_main_equalized_odds_difference  \\\n",
       "0        89710             1.0                             0.064551   \n",
       "0        89710             1.0                             0.064551   \n",
       "0        89710             1.0                             0.113993   \n",
       "0        89710             1.0                             0.113993   \n",
       "\n",
       "   fair_main_equalized_odds_ratio  fair_main_demographic_parity_difference  \\\n",
       "0                        0.929586                                 0.064943   \n",
       "0                        0.929586                                 0.064943   \n",
       "0                        0.879758                                 0.081981   \n",
       "0                        0.879758                                 0.081981   \n",
       "\n",
       "   fair_main_demographic_parity_ratio  ...  perf_grp_precision_0  \\\n",
       "0                            0.929896  ...                   NaN   \n",
       "0                            0.929896  ...              0.124788   \n",
       "0                            0.893363  ...                   NaN   \n",
       "0                            0.893363  ...              0.140001   \n",
       "\n",
       "   perf_grp_precision_1  perf_grp_false positive rate_0  \\\n",
       "0                   NaN                             NaN   \n",
       "0              0.141172                        0.852190   \n",
       "0                   NaN                             NaN   \n",
       "0              0.162946                        0.667621   \n",
       "\n",
       "   perf_grp_false positive rate_1  perf_grp_false negative rate_0  \\\n",
       "0                             NaN                             NaN   \n",
       "0                        0.916742                        0.067568   \n",
       "0                             NaN                             NaN   \n",
       "0                        0.741496                        0.165963   \n",
       "\n",
       "   perf_grp_false negative rate_1  perf_grp_selection rate_0  \\\n",
       "0                             NaN                        NaN   \n",
       "0                        0.010284                   0.861441   \n",
       "0                             NaN                        NaN   \n",
       "0                        0.051969                   0.686806   \n",
       "\n",
       "   perf_grp_selection rate_1  perf_grp_count_0  perf_grp_count_1  \n",
       "0                        NaN               NaN               NaN  \n",
       "0                   0.926384           20540.0           69170.0  \n",
       "0                        NaN               NaN               NaN  \n",
       "0                   0.768787           20540.0           69170.0  \n",
       "\n",
       "[4 rows x 50 columns]"
      ]
     },
     "execution_count": 79,
     "metadata": {},
     "output_type": "execute_result"
    }
   ],
   "source": [
    "final_output = universe_analysis.generate_final_output(\n",
    "    y_pred_prob=probs_test,\n",
    "    y_test=y_true,\n",
    "    org_test=org_test,\n",
    "    filter_data=filter_sub_universe_data,\n",
    "    cp_metrics_df=cp_metrics_df,\n",
    "    save=True,\n",
    ")\n",
    "final_output"
   ]
  },
  {
   "cell_type": "code",
   "execution_count": null,
   "id": "721ff514-cb11-46f8-b6fc-50392f74b5cb",
   "metadata": {
    "papermill": {
     "duration": 0.02839,
     "end_time": "2025-07-30T13:56:53.560995",
     "exception": false,
     "start_time": "2025-07-30T13:56:53.532605",
     "status": "completed"
    },
    "tags": []
   },
   "outputs": [],
   "source": []
  }
 ],
 "metadata": {
  "celltoolbar": "Tags",
  "kernelspec": {
   "display_name": "Python (CMA Fairness)",
   "language": "python",
   "name": "cma_fair_env"
  },
  "language_info": {
   "codemirror_mode": {
    "name": "ipython",
    "version": 3
   },
   "file_extension": ".py",
   "mimetype": "text/x-python",
   "name": "python",
   "nbconvert_exporter": "python",
   "pygments_lexer": "ipython3",
   "version": "3.10.12"
  },
  "papermill": {
   "default_parameters": {},
   "duration": 48.734167,
   "end_time": "2025-07-30T13:56:54.209003",
   "environment_variables": {},
   "exception": null,
   "input_path": "universe_analysis.ipynb",
   "output_path": "output/runs/12/notebooks/m_12-85265727b818115f33f026287ad609cf.ipynb",
   "parameters": {
    "output_dir": "output",
    "run_no": "12",
    "seed": "2023",
    "universe": "{\"cutoff\": [\"quantile_0.1\", \"quantile_0.25\"], \"eval_fairness_grouping\": [\"majority-minority\", \"nationality-all\"], \"exclude_features\": \"sex\", \"exclude_subgroups\": \"keep-all\", \"model\": \"rf\", \"scale\": \"scale\", \"training_size\": \"5k\", \"training_year\": \"2012_14\"}",
    "universe_id": "85265727b818115f33f026287ad609cf"
   },
   "start_time": "2025-07-30T13:56:05.474836",
   "version": "2.6.0"
  }
 },
 "nbformat": 4,
 "nbformat_minor": 5
}