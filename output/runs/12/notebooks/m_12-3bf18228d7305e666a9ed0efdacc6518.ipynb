{
 "cells": [
  {
   "cell_type": "code",
   "execution_count": 1,
   "id": "f159f837-637b-42ba-96b5-ec9a68c44524",
   "metadata": {
    "execution": {
     "iopub.execute_input": "2025-07-30T13:13:23.490532Z",
     "iopub.status.busy": "2025-07-30T13:13:23.489785Z",
     "iopub.status.idle": "2025-07-30T13:13:23.506427Z",
     "shell.execute_reply": "2025-07-30T13:13:23.505220Z"
    },
    "papermill": {
     "duration": 0.047133,
     "end_time": "2025-07-30T13:13:23.508313",
     "exception": false,
     "start_time": "2025-07-30T13:13:23.461180",
     "status": "completed"
    },
    "tags": []
   },
   "outputs": [
    {
     "name": "stdout",
     "output_type": "stream",
     "text": [
      "/dss/dsshome1/0C/ra93lal2/cma/CMA_Fairness_v2\n"
     ]
    },
    {
     "name": "stderr",
     "output_type": "stream",
     "text": [
      "/dss/dsshome1/0C/ra93lal2/.local/share/virtualenvs/CMA_Fairness_v2-3j10GkSs/lib/python3.10/site-packages/IPython/core/magics/osm.py:393: UserWarning: This is now an optional IPython functionality, using bookmarks requires you to install the `pickleshare` library.\n",
      "  bkms = self.shell.db.get('bookmarks', {})\n",
      "/dss/dsshome1/0C/ra93lal2/.local/share/virtualenvs/CMA_Fairness_v2-3j10GkSs/lib/python3.10/site-packages/IPython/core/magics/osm.py:417: UserWarning: This is now an optional IPython functionality, setting dhist requires you to install the `pickleshare` library.\n",
      "  self.shell.db['dhist'] = compress_dhist(dhist)[-100:]\n"
     ]
    }
   ],
   "source": [
    "%cd ~/cma/CMA_Fairness_v2"
   ]
  },
  {
   "cell_type": "markdown",
   "id": "de2603b9",
   "metadata": {
    "papermill": {
     "duration": 0.021292,
     "end_time": "2025-07-30T13:13:23.550802",
     "exception": false,
     "start_time": "2025-07-30T13:13:23.529510",
     "status": "completed"
    },
    "tags": []
   },
   "source": [
    "The following cell holds the definition of our parameters, these values can be overriden by rendering the with e.g. the following command:\n",
    "\n",
    "papermill -p alpha 0.2 -p ratio 0.3 universe_analysis.ipynb output/test_run.ipynb"
   ]
  },
  {
   "cell_type": "code",
   "execution_count": 2,
   "id": "a80968a0-40bb-4fa9-85ef-2d5eefb01975",
   "metadata": {
    "execution": {
     "iopub.execute_input": "2025-07-30T13:13:23.594081Z",
     "iopub.status.busy": "2025-07-30T13:13:23.593127Z",
     "iopub.status.idle": "2025-07-30T13:13:23.600636Z",
     "shell.execute_reply": "2025-07-30T13:13:23.599283Z"
    },
    "papermill": {
     "duration": 0.031413,
     "end_time": "2025-07-30T13:13:23.602424",
     "exception": false,
     "start_time": "2025-07-30T13:13:23.571011",
     "status": "completed"
    },
    "tags": []
   },
   "outputs": [
    {
     "name": "stdout",
     "output_type": "stream",
     "text": [
      "Current working directory: /dss/dsshome1/0C/ra93lal2/cma/CMA_Fairness_v2\n"
     ]
    }
   ],
   "source": [
    "import os\n",
    "print(\"Current working directory:\", os.getcwd())"
   ]
  },
  {
   "cell_type": "code",
   "execution_count": 3,
   "id": "2dce4c03",
   "metadata": {
    "execution": {
     "iopub.execute_input": "2025-07-30T13:13:23.646832Z",
     "iopub.status.busy": "2025-07-30T13:13:23.645874Z",
     "iopub.status.idle": "2025-07-30T13:13:23.653989Z",
     "shell.execute_reply": "2025-07-30T13:13:23.652910Z"
    },
    "papermill": {
     "duration": 0.032079,
     "end_time": "2025-07-30T13:13:23.655718",
     "exception": false,
     "start_time": "2025-07-30T13:13:23.623639",
     "status": "completed"
    },
    "tags": [
     "parameters"
    ]
   },
   "outputs": [],
   "source": [
    "run_no = 0\n",
    "universe_id = \"test\"\n",
    "universe = {\n",
    "    \"training_size\": \"25k\", # \"25k\", \"5k\", \"1k\"\n",
    "    \"training_year\": \"2014\", # \"2014\", \"2012_14\", \"2010_14\"\n",
    "    \"scale\": \"scale\", # \"scale\", \"do-not-scale\",\n",
    "    #\"stratify_split\": \"target\", # \"none\", \"target\", \"protected-attribute\", \"both\",\n",
    "    \"model\": \"elasticnet\", # \"logreg\", \"penalized_logreg\", \"rf\", \"gbm\", \"elasticnet\"\n",
    "    \"cutoff\": [\"quantile_0.15\", \"quantile_0.30\"],\n",
    "    \"exclude_features\": \"age\", # \"none\", \"nationality\", \"sex\", \"nationality-sex\", \"age\"\n",
    "    \"exclude_subgroups\": \"keep-all\", # \"keep-all\", \"drop-non-german\"\n",
    "    \"eval_fairness_grouping\": [\"majority-minority\", \"nationality-all\"]\n",
    "}\n",
    "\n",
    "output_dir=\"./output\"\n",
    "seed=0"
   ]
  },
  {
   "cell_type": "code",
   "execution_count": 4,
   "id": "7eb45fbd",
   "metadata": {
    "execution": {
     "iopub.execute_input": "2025-07-30T13:13:23.699142Z",
     "iopub.status.busy": "2025-07-30T13:13:23.698101Z",
     "iopub.status.idle": "2025-07-30T13:13:23.703999Z",
     "shell.execute_reply": "2025-07-30T13:13:23.702947Z"
    },
    "papermill": {
     "duration": 0.030007,
     "end_time": "2025-07-30T13:13:23.706213",
     "exception": false,
     "start_time": "2025-07-30T13:13:23.676206",
     "status": "completed"
    },
    "tags": [
     "injected-parameters"
    ]
   },
   "outputs": [],
   "source": [
    "# Parameters\n",
    "universe_id = \"3bf18228d7305e666a9ed0efdacc6518\"\n",
    "run_no = \"12\"\n",
    "universe = \"{\\\"cutoff\\\": [\\\"quantile_0.1\\\", \\\"quantile_0.25\\\"], \\\"eval_fairness_grouping\\\": [\\\"majority-minority\\\", \\\"nationality-all\\\"], \\\"exclude_features\\\": \\\"none\\\", \\\"exclude_subgroups\\\": \\\"drop-non-german\\\", \\\"model\\\": \\\"rf\\\", \\\"scale\\\": \\\"do-not-scale\\\", \\\"training_size\\\": \\\"25k\\\", \\\"training_year\\\": \\\"2012_14\\\"}\"\n",
    "output_dir = \"output\"\n",
    "seed = \"2023\"\n"
   ]
  },
  {
   "cell_type": "code",
   "execution_count": 5,
   "id": "1650acaf",
   "metadata": {
    "execution": {
     "iopub.execute_input": "2025-07-30T13:13:23.766954Z",
     "iopub.status.busy": "2025-07-30T13:13:23.766545Z",
     "iopub.status.idle": "2025-07-30T13:13:23.771895Z",
     "shell.execute_reply": "2025-07-30T13:13:23.770866Z"
    },
    "papermill": {
     "duration": 0.038355,
     "end_time": "2025-07-30T13:13:23.774033",
     "exception": false,
     "start_time": "2025-07-30T13:13:23.735678",
     "status": "completed"
    },
    "tags": []
   },
   "outputs": [],
   "source": [
    "import json\n",
    "# Parse universe into dict if it is passed as a string\n",
    "if isinstance(universe, str):\n",
    "    universe = json.loads(universe)"
   ]
  },
  {
   "cell_type": "code",
   "execution_count": 6,
   "id": "16620c48",
   "metadata": {
    "execution": {
     "iopub.execute_input": "2025-07-30T13:13:23.834301Z",
     "iopub.status.busy": "2025-07-30T13:13:23.833933Z",
     "iopub.status.idle": "2025-07-30T13:13:23.884911Z",
     "shell.execute_reply": "2025-07-30T13:13:23.883707Z"
    },
    "papermill": {
     "duration": 0.083324,
     "end_time": "2025-07-30T13:13:23.886875",
     "exception": false,
     "start_time": "2025-07-30T13:13:23.803551",
     "status": "completed"
    },
    "tags": []
   },
   "outputs": [],
   "source": [
    "# Auto-reload the custom package\n",
    "%load_ext autoreload\n",
    "%autoreload 1\n",
    "%aimport fairness_multiverse"
   ]
  },
  {
   "cell_type": "code",
   "execution_count": 7,
   "id": "01c5c9f3",
   "metadata": {
    "execution": {
     "iopub.execute_input": "2025-07-30T13:13:23.930660Z",
     "iopub.status.busy": "2025-07-30T13:13:23.929963Z",
     "iopub.status.idle": "2025-07-30T13:13:25.789113Z",
     "shell.execute_reply": "2025-07-30T13:13:25.788340Z"
    },
    "papermill": {
     "duration": 1.883043,
     "end_time": "2025-07-30T13:13:25.790621",
     "exception": false,
     "start_time": "2025-07-30T13:13:23.907578",
     "status": "completed"
    },
    "tags": []
   },
   "outputs": [],
   "source": [
    "from fairness_multiverse.universe import UniverseAnalysis\n",
    "\n",
    "universe_analysis = UniverseAnalysis(\n",
    "    run_no = run_no,\n",
    "    universe_id = universe_id,\n",
    "    universe = universe,\n",
    "    output_dir=output_dir,\n",
    ")"
   ]
  },
  {
   "cell_type": "code",
   "execution_count": 8,
   "id": "106241f5",
   "metadata": {
    "execution": {
     "iopub.execute_input": "2025-07-30T13:13:25.814355Z",
     "iopub.status.busy": "2025-07-30T13:13:25.813826Z",
     "iopub.status.idle": "2025-07-30T13:13:25.819487Z",
     "shell.execute_reply": "2025-07-30T13:13:25.818816Z"
    },
    "papermill": {
     "duration": 0.01912,
     "end_time": "2025-07-30T13:13:25.820982",
     "exception": false,
     "start_time": "2025-07-30T13:13:25.801862",
     "status": "completed"
    },
    "tags": []
   },
   "outputs": [
    {
     "name": "stdout",
     "output_type": "stream",
     "text": [
      "Using Seed: 2023\n"
     ]
    }
   ],
   "source": [
    "import numpy as np\n",
    "parsed_seed = int(seed)\n",
    "np.random.seed(parsed_seed)\n",
    "print(f\"Using Seed: {parsed_seed}\")"
   ]
  },
  {
   "cell_type": "markdown",
   "id": "e0ebdc57",
   "metadata": {
    "papermill": {
     "duration": 0.018203,
     "end_time": "2025-07-30T13:13:25.851112",
     "exception": false,
     "start_time": "2025-07-30T13:13:25.832909",
     "status": "completed"
    },
    "tags": []
   },
   "source": [
    "# Loading Data"
   ]
  },
  {
   "cell_type": "markdown",
   "id": "681925a3",
   "metadata": {
    "papermill": {
     "duration": 0.010935,
     "end_time": "2025-07-30T13:13:25.874040",
     "exception": false,
     "start_time": "2025-07-30T13:13:25.863105",
     "status": "completed"
    },
    "tags": []
   },
   "source": [
    "Load siab_train, siab_test, siab_calib and/or \n",
    "load siab_train_features, siab_train_labels"
   ]
  },
  {
   "cell_type": "code",
   "execution_count": 9,
   "id": "f0496b8a",
   "metadata": {
    "execution": {
     "iopub.execute_input": "2025-07-30T13:13:25.897838Z",
     "iopub.status.busy": "2025-07-30T13:13:25.897484Z",
     "iopub.status.idle": "2025-07-30T13:13:38.400256Z",
     "shell.execute_reply": "2025-07-30T13:13:38.399091Z"
    },
    "papermill": {
     "duration": 12.516935,
     "end_time": "2025-07-30T13:13:38.402228",
     "exception": false,
     "start_time": "2025-07-30T13:13:25.885293",
     "status": "completed"
    },
    "tags": []
   },
   "outputs": [
    {
     "name": "stdout",
     "output_type": "stream",
     "text": [
      "Loading SIAB data from cache: data/siab_cached.csv.gz\n"
     ]
    },
    {
     "name": "stdout",
     "output_type": "stream",
     "text": [
      "(643690, 164)\n"
     ]
    }
   ],
   "source": [
    "from pathlib import Path\n",
    "import pandas as pd\n",
    "\n",
    "# File paths\n",
    "raw_file = Path(\"data/raw/siab.csv\")\n",
    "cache_file = Path(\"data/siab_cached.csv.gz\")\n",
    "\n",
    "# Ensure cache directory exists\n",
    "cache_file.parent.mkdir(parents=True, exist_ok=True)\n",
    "\n",
    "# Load with simple caching\n",
    "if cache_file.exists():\n",
    "    print(f\"Loading SIAB data from cache: {cache_file}\")\n",
    "    siab = pd.read_csv(cache_file, compression='gzip')\n",
    "else:\n",
    "    print(f\"Cache not found. Reading raw SIAB data: {raw_file}\")\n",
    "    siab = pd.read_csv(raw_file)\n",
    "    siab.to_csv(cache_file, index=False, compression='gzip')\n",
    "    print(f\"Cached SIAB data to: {cache_file}\")\n",
    "\n",
    "# Now use `siab` DataFrame as needed\n",
    "print(siab.shape)"
   ]
  },
  {
   "cell_type": "code",
   "execution_count": 10,
   "id": "db0ca512-5f53-4dba-abdb-a2888bca41ba",
   "metadata": {
    "execution": {
     "iopub.execute_input": "2025-07-30T13:13:38.492116Z",
     "iopub.status.busy": "2025-07-30T13:13:38.491655Z",
     "iopub.status.idle": "2025-07-30T13:13:38.497988Z",
     "shell.execute_reply": "2025-07-30T13:13:38.497082Z"
    },
    "papermill": {
     "duration": 0.056546,
     "end_time": "2025-07-30T13:13:38.500722",
     "exception": false,
     "start_time": "2025-07-30T13:13:38.444176",
     "status": "completed"
    },
    "tags": []
   },
   "outputs": [],
   "source": [
    "#siab"
   ]
  },
  {
   "cell_type": "code",
   "execution_count": 11,
   "id": "a0edb063",
   "metadata": {
    "execution": {
     "iopub.execute_input": "2025-07-30T13:13:38.578896Z",
     "iopub.status.busy": "2025-07-30T13:13:38.578451Z",
     "iopub.status.idle": "2025-07-30T13:13:38.583633Z",
     "shell.execute_reply": "2025-07-30T13:13:38.582664Z"
    },
    "papermill": {
     "duration": 0.052605,
     "end_time": "2025-07-30T13:13:38.585365",
     "exception": false,
     "start_time": "2025-07-30T13:13:38.532760",
     "status": "completed"
    },
    "tags": []
   },
   "outputs": [],
   "source": [
    "#import pandas as pd\n",
    "#\n",
    "#X_train = pd.read_csv(\"./data/X_train.csv\")\n",
    "#y_train = pd.read_csv(\"./data/y_train.csv\")"
   ]
  },
  {
   "cell_type": "code",
   "execution_count": 12,
   "id": "63d08085",
   "metadata": {
    "execution": {
     "iopub.execute_input": "2025-07-30T13:13:38.682323Z",
     "iopub.status.busy": "2025-07-30T13:13:38.681876Z",
     "iopub.status.idle": "2025-07-30T13:13:38.689066Z",
     "shell.execute_reply": "2025-07-30T13:13:38.688103Z"
    },
    "papermill": {
     "duration": 0.046551,
     "end_time": "2025-07-30T13:13:38.691282",
     "exception": false,
     "start_time": "2025-07-30T13:13:38.644731",
     "status": "completed"
    },
    "tags": []
   },
   "outputs": [],
   "source": [
    "#X_test = pd.read_csv(\"./data/X_test.csv\")\n",
    "#y_true = pd.read_csv(\"./data/y_test.csv\")"
   ]
  },
  {
   "cell_type": "code",
   "execution_count": 13,
   "id": "98a8d0fa-1d3d-4ed8-bb2c-281470e24add",
   "metadata": {
    "execution": {
     "iopub.execute_input": "2025-07-30T13:13:38.834812Z",
     "iopub.status.busy": "2025-07-30T13:13:38.833835Z",
     "iopub.status.idle": "2025-07-30T13:13:38.839297Z",
     "shell.execute_reply": "2025-07-30T13:13:38.838377Z"
    },
    "papermill": {
     "duration": 0.076852,
     "end_time": "2025-07-30T13:13:38.841095",
     "exception": false,
     "start_time": "2025-07-30T13:13:38.764243",
     "status": "completed"
    },
    "tags": []
   },
   "outputs": [],
   "source": [
    "# Calibration data for conformal\n",
    "#X_calib = pd.read_csv(\"./data/X_calib.csv\")\n",
    "#y_calib = pd.read_csv(\"./data/y_calib.csv\")"
   ]
  },
  {
   "cell_type": "markdown",
   "id": "997051c5-15bd-4b69-9786-c3001a3ce484",
   "metadata": {
    "papermill": {
     "duration": 0.035876,
     "end_time": "2025-07-30T13:13:38.947947",
     "exception": false,
     "start_time": "2025-07-30T13:13:38.912071",
     "status": "completed"
    },
    "tags": []
   },
   "source": [
    "# Splitting Data and Setting Training Data Size"
   ]
  },
  {
   "cell_type": "code",
   "execution_count": 14,
   "id": "e993b61f-042d-41a6-8c81-f55681f86335",
   "metadata": {
    "execution": {
     "iopub.execute_input": "2025-07-30T13:13:39.025298Z",
     "iopub.status.busy": "2025-07-30T13:13:39.024900Z",
     "iopub.status.idle": "2025-07-30T13:13:39.039804Z",
     "shell.execute_reply": "2025-07-30T13:13:39.038646Z"
    },
    "papermill": {
     "duration": 0.068652,
     "end_time": "2025-07-30T13:13:39.041356",
     "exception": false,
     "start_time": "2025-07-30T13:13:38.972704",
     "status": "completed"
    },
    "tags": []
   },
   "outputs": [],
   "source": [
    "def sample_by_year_size(df,\n",
    "                        training_year: str,\n",
    "                        training_size: str,\n",
    "                        random_state: int = 42):\n",
    "    # --- parse training_year into a list of int years ---\n",
    "    if \"_\" in training_year:\n",
    "        start_str, end_str = training_year.split(\"_\", 1)\n",
    "        start = int(start_str)\n",
    "        end   = int(end_str) if len(end_str) == 4 else (int(end_str) + (start // 100)*100)\n",
    "        years = list(range(start, end + 1))\n",
    "    else:\n",
    "        years = [int(training_year)]\n",
    "\n",
    "    df = df[df[\"year\"].isin(years)].reset_index(drop=True)\n",
    "\n",
    "    # --- map training_size to total number of samples ---\n",
    "    total_map = {\"25k\": 25_000, \"5k\": 5_000, \"1k\": 1_000}\n",
    "    if training_size not in total_map:\n",
    "        return df  # e.g. \"all\"\n",
    "\n",
    "    total_samples = total_map[training_size]\n",
    "    n_years       = len(years)\n",
    "    base          = total_samples // n_years\n",
    "    remainder     = total_samples % n_years\n",
    "\n",
    "    # --- build a dict: year -> how many to sample ---\n",
    "    # give +1 to the first `remainder` years in ascending order\n",
    "    quotas = {\n",
    "        year: base + (1 if idx < remainder else 0)\n",
    "        for idx, year in enumerate(sorted(years))\n",
    "    }\n",
    "\n",
    "    # --- sample per‐year according to the quota dict ---\n",
    "    sampled = (\n",
    "        df\n",
    "        .groupby(\"year\", group_keys=False)\n",
    "        .apply(lambda grp: grp.sample(\n",
    "            n=min(len(grp), quotas[grp.name]),\n",
    "            random_state=random_state))\n",
    "        .reset_index(drop=True)\n",
    "    )\n",
    "\n",
    "    return sampled"
   ]
  },
  {
   "cell_type": "code",
   "execution_count": 15,
   "id": "c0ccd338-0e02-41f3-a09d-f56f9266e3fb",
   "metadata": {
    "execution": {
     "iopub.execute_input": "2025-07-30T13:13:39.118141Z",
     "iopub.status.busy": "2025-07-30T13:13:39.117148Z",
     "iopub.status.idle": "2025-07-30T13:13:39.132329Z",
     "shell.execute_reply": "2025-07-30T13:13:39.131409Z"
    },
    "papermill": {
     "duration": 0.061674,
     "end_time": "2025-07-30T13:13:39.135437",
     "exception": false,
     "start_time": "2025-07-30T13:13:39.073763",
     "status": "completed"
    },
    "tags": []
   },
   "outputs": [
    {
     "data": {
      "text/plain": [
       "'25k'"
      ]
     },
     "execution_count": 15,
     "metadata": {},
     "output_type": "execute_result"
    }
   ],
   "source": [
    "universe[\"training_size\"]"
   ]
  },
  {
   "cell_type": "code",
   "execution_count": 16,
   "id": "ca707fd7-8047-4acd-bfa5-66248fbbf8e6",
   "metadata": {
    "execution": {
     "iopub.execute_input": "2025-07-30T13:13:39.215397Z",
     "iopub.status.busy": "2025-07-30T13:13:39.214350Z",
     "iopub.status.idle": "2025-07-30T13:13:39.221977Z",
     "shell.execute_reply": "2025-07-30T13:13:39.221124Z"
    },
    "papermill": {
     "duration": 0.061773,
     "end_time": "2025-07-30T13:13:39.223542",
     "exception": false,
     "start_time": "2025-07-30T13:13:39.161769",
     "status": "completed"
    },
    "tags": []
   },
   "outputs": [
    {
     "data": {
      "text/plain": [
       "'2012_14'"
      ]
     },
     "execution_count": 16,
     "metadata": {},
     "output_type": "execute_result"
    }
   ],
   "source": [
    "universe[\"training_year\"]"
   ]
  },
  {
   "cell_type": "code",
   "execution_count": 17,
   "id": "aea9c6ef-6f46-42c8-85eb-5a62025c1508",
   "metadata": {
    "execution": {
     "iopub.execute_input": "2025-07-30T13:13:39.310250Z",
     "iopub.status.busy": "2025-07-30T13:13:39.309844Z",
     "iopub.status.idle": "2025-07-30T13:13:40.004615Z",
     "shell.execute_reply": "2025-07-30T13:13:40.003715Z"
    },
    "papermill": {
     "duration": 0.734362,
     "end_time": "2025-07-30T13:13:40.006958",
     "exception": false,
     "start_time": "2025-07-30T13:13:39.272596",
     "status": "completed"
    },
    "tags": []
   },
   "outputs": [],
   "source": [
    "siab_train = sample_by_year_size(siab,\n",
    "                               training_year=universe[\"training_year\"],\n",
    "                               training_size=universe[\"training_size\"])"
   ]
  },
  {
   "cell_type": "code",
   "execution_count": 18,
   "id": "8d3afb32-789d-442c-8d5d-9f5aa8dd2eed",
   "metadata": {
    "execution": {
     "iopub.execute_input": "2025-07-30T13:13:40.068065Z",
     "iopub.status.busy": "2025-07-30T13:13:40.067426Z",
     "iopub.status.idle": "2025-07-30T13:13:40.076946Z",
     "shell.execute_reply": "2025-07-30T13:13:40.075997Z"
    },
    "papermill": {
     "duration": 0.048796,
     "end_time": "2025-07-30T13:13:40.081383",
     "exception": false,
     "start_time": "2025-07-30T13:13:40.032587",
     "status": "completed"
    },
    "tags": []
   },
   "outputs": [
    {
     "data": {
      "text/plain": [
       "(25000, 164)"
      ]
     },
     "execution_count": 18,
     "metadata": {},
     "output_type": "execute_result"
    }
   ],
   "source": [
    "siab_train.shape"
   ]
  },
  {
   "cell_type": "code",
   "execution_count": 19,
   "id": "d582db68-1a4c-47fb-84fc-08518dc1975a",
   "metadata": {
    "execution": {
     "iopub.execute_input": "2025-07-30T13:13:40.142241Z",
     "iopub.status.busy": "2025-07-30T13:13:40.141737Z",
     "iopub.status.idle": "2025-07-30T13:13:40.155869Z",
     "shell.execute_reply": "2025-07-30T13:13:40.154563Z"
    },
    "papermill": {
     "duration": 0.050188,
     "end_time": "2025-07-30T13:13:40.160669",
     "exception": false,
     "start_time": "2025-07-30T13:13:40.110481",
     "status": "completed"
    },
    "tags": []
   },
   "outputs": [
    {
     "data": {
      "text/plain": [
       "year\n",
       "2012    8334\n",
       "2013    8333\n",
       "2014    8333\n",
       "dtype: int64"
      ]
     },
     "metadata": {},
     "output_type": "display_data"
    }
   ],
   "source": [
    "display(siab_train.groupby(\"year\").size())"
   ]
  },
  {
   "cell_type": "code",
   "execution_count": 20,
   "id": "a561edb4-d032-42cb-8256-22eac1111c64",
   "metadata": {
    "execution": {
     "iopub.execute_input": "2025-07-30T13:13:40.222321Z",
     "iopub.status.busy": "2025-07-30T13:13:40.221828Z",
     "iopub.status.idle": "2025-07-30T13:13:40.558625Z",
     "shell.execute_reply": "2025-07-30T13:13:40.557525Z"
    },
    "papermill": {
     "duration": 0.370323,
     "end_time": "2025-07-30T13:13:40.560897",
     "exception": false,
     "start_time": "2025-07-30T13:13:40.190574",
     "status": "completed"
    },
    "tags": []
   },
   "outputs": [],
   "source": [
    "#siab_train = siab_s[siab_s.year < 2015]\n",
    "siab_calib = siab[siab.year == 2015]\n",
    "siab_test = siab[siab.year == 2016]"
   ]
  },
  {
   "cell_type": "code",
   "execution_count": 21,
   "id": "472de16f-c3db-4916-846b-1f0de9cf1746",
   "metadata": {
    "execution": {
     "iopub.execute_input": "2025-07-30T13:13:40.612153Z",
     "iopub.status.busy": "2025-07-30T13:13:40.611387Z",
     "iopub.status.idle": "2025-07-30T13:13:40.642414Z",
     "shell.execute_reply": "2025-07-30T13:13:40.641343Z"
    },
    "papermill": {
     "duration": 0.058191,
     "end_time": "2025-07-30T13:13:40.644504",
     "exception": false,
     "start_time": "2025-07-30T13:13:40.586313",
     "status": "completed"
    },
    "tags": []
   },
   "outputs": [],
   "source": [
    "X_train = siab_train.iloc[:,4:164]\n",
    "y_train = siab_train.iloc[:, [3]]"
   ]
  },
  {
   "cell_type": "code",
   "execution_count": 22,
   "id": "828c96af-f43a-4ed6-ba47-8ac73a47d56c",
   "metadata": {
    "execution": {
     "iopub.execute_input": "2025-07-30T13:13:40.699742Z",
     "iopub.status.busy": "2025-07-30T13:13:40.698794Z",
     "iopub.status.idle": "2025-07-30T13:13:40.762211Z",
     "shell.execute_reply": "2025-07-30T13:13:40.760898Z"
    },
    "papermill": {
     "duration": 0.094231,
     "end_time": "2025-07-30T13:13:40.764823",
     "exception": false,
     "start_time": "2025-07-30T13:13:40.670592",
     "status": "completed"
    },
    "tags": []
   },
   "outputs": [],
   "source": [
    "X_calib = siab_calib.iloc[:,4:164]\n",
    "y_calib = siab_calib.iloc[:, [3]]"
   ]
  },
  {
   "cell_type": "code",
   "execution_count": 23,
   "id": "c34be9c3-6bd6-476e-acd3-845840e303be",
   "metadata": {
    "execution": {
     "iopub.execute_input": "2025-07-30T13:13:40.826135Z",
     "iopub.status.busy": "2025-07-30T13:13:40.825653Z",
     "iopub.status.idle": "2025-07-30T13:13:40.899908Z",
     "shell.execute_reply": "2025-07-30T13:13:40.898476Z"
    },
    "papermill": {
     "duration": 0.10849,
     "end_time": "2025-07-30T13:13:40.902577",
     "exception": false,
     "start_time": "2025-07-30T13:13:40.794087",
     "status": "completed"
    },
    "tags": []
   },
   "outputs": [],
   "source": [
    "X_test = siab_test.iloc[:,4:164]\n",
    "y_true = siab_test.iloc[:, [3]]"
   ]
  },
  {
   "cell_type": "markdown",
   "id": "9901737e-04df-44f0-9100-f5ad144ed040",
   "metadata": {
    "papermill": {
     "duration": 0.031996,
     "end_time": "2025-07-30T13:13:40.963144",
     "exception": false,
     "start_time": "2025-07-30T13:13:40.931148",
     "status": "completed"
    },
    "tags": []
   },
   "source": [
    "# Splitting Data and Setting Training Data Size OLD VERSION"
   ]
  },
  {
   "cell_type": "code",
   "execution_count": 24,
   "id": "acbc8f7d-8fc8-4e86-8c59-5dcb0f58384b",
   "metadata": {
    "execution": {
     "iopub.execute_input": "2025-07-30T13:13:41.039743Z",
     "iopub.status.busy": "2025-07-30T13:13:41.038935Z",
     "iopub.status.idle": "2025-07-30T13:13:41.044921Z",
     "shell.execute_reply": "2025-07-30T13:13:41.043827Z"
    },
    "papermill": {
     "duration": 0.058015,
     "end_time": "2025-07-30T13:13:41.050524",
     "exception": false,
     "start_time": "2025-07-30T13:13:40.992509",
     "status": "completed"
    },
    "tags": []
   },
   "outputs": [],
   "source": [
    "#def sample_by_year(df, training_size, random_state=42):\n",
    "#    if training_size == \"2014\":\n",
    "#        return df[df[\"year\"] == 2014].reset_index(drop=True)\n",
    "#    \n",
    "#    size_map = {\n",
    "#        \"25k\": 5000,\n",
    "#        \"5k\": 1000,\n",
    "#        \"1k\": 200\n",
    "#    }\n",
    "#\n",
    "#    if training_size not in size_map:\n",
    "#        return df.reset_index(drop=True)  # use all data\n",
    "#\n",
    "#    n_per_year = size_map[training_size]\n",
    "#    grouped = df.groupby(\"year\")\n",
    "#    sampled = grouped.apply(lambda x: x.sample(n=min(n_per_year, len(x)), random_state=random_state))\n",
    "#    return sampled.reset_index(drop=True)"
   ]
  },
  {
   "cell_type": "code",
   "execution_count": 25,
   "id": "6d931f52-beaf-43ff-9e78-9d44a448d54e",
   "metadata": {
    "execution": {
     "iopub.execute_input": "2025-07-30T13:13:41.117204Z",
     "iopub.status.busy": "2025-07-30T13:13:41.116803Z",
     "iopub.status.idle": "2025-07-30T13:13:41.122092Z",
     "shell.execute_reply": "2025-07-30T13:13:41.121070Z"
    },
    "papermill": {
     "duration": 0.032548,
     "end_time": "2025-07-30T13:13:41.125121",
     "exception": false,
     "start_time": "2025-07-30T13:13:41.092573",
     "status": "completed"
    },
    "tags": []
   },
   "outputs": [],
   "source": [
    "#siab_s = sample_by_year(siab, universe[\"training_size\"])"
   ]
  },
  {
   "cell_type": "code",
   "execution_count": 26,
   "id": "5db0a40e-a4e2-4920-be85-b12ae061d70d",
   "metadata": {
    "execution": {
     "iopub.execute_input": "2025-07-30T13:13:41.230541Z",
     "iopub.status.busy": "2025-07-30T13:13:41.230134Z",
     "iopub.status.idle": "2025-07-30T13:13:41.234978Z",
     "shell.execute_reply": "2025-07-30T13:13:41.234065Z"
    },
    "papermill": {
     "duration": 0.054157,
     "end_time": "2025-07-30T13:13:41.238278",
     "exception": false,
     "start_time": "2025-07-30T13:13:41.184121",
     "status": "completed"
    },
    "tags": []
   },
   "outputs": [],
   "source": [
    "#display(siab_s.groupby(\"year\").size())"
   ]
  },
  {
   "cell_type": "code",
   "execution_count": 27,
   "id": "e6c733c5",
   "metadata": {
    "execution": {
     "iopub.execute_input": "2025-07-30T13:13:41.346709Z",
     "iopub.status.busy": "2025-07-30T13:13:41.346308Z",
     "iopub.status.idle": "2025-07-30T13:13:41.509839Z",
     "shell.execute_reply": "2025-07-30T13:13:41.508860Z"
    },
    "papermill": {
     "duration": 0.219231,
     "end_time": "2025-07-30T13:13:41.511936",
     "exception": false,
     "start_time": "2025-07-30T13:13:41.292705",
     "status": "completed"
    },
    "tags": []
   },
   "outputs": [],
   "source": [
    "# Auxiliary data needed downstream in the pipeline\n",
    "\n",
    "org_train = X_train.copy()\n",
    "org_test = X_test.copy()\n",
    "org_calib = X_calib.copy()"
   ]
  },
  {
   "cell_type": "code",
   "execution_count": 28,
   "id": "1466abac-c6da-4492-a62f-4240ae3783af",
   "metadata": {
    "execution": {
     "iopub.execute_input": "2025-07-30T13:13:41.560801Z",
     "iopub.status.busy": "2025-07-30T13:13:41.560379Z",
     "iopub.status.idle": "2025-07-30T13:13:41.566724Z",
     "shell.execute_reply": "2025-07-30T13:13:41.565639Z"
    },
    "papermill": {
     "duration": 0.032542,
     "end_time": "2025-07-30T13:13:41.568954",
     "exception": false,
     "start_time": "2025-07-30T13:13:41.536412",
     "status": "completed"
    },
    "tags": []
   },
   "outputs": [],
   "source": [
    "# put in other script?\n",
    "# Group sizes\n",
    "\n",
    "#def calculate_percentages(df, df_name):\n",
    "#    total_entries = len(df)\n",
    "#\n",
    "#    female_pct = (df['frau1'] == 1).mean() * 100\n",
    "#    non_german_pct = ((df['maxdeutsch1'] == 0) & (df['maxdeutsch.Missing.'] == 0)).mean() * 100\n",
    "#    non_german_male_pct = ((df['frau1'] == 0) & (df['maxdeutsch1'] == 0) & (df['maxdeutsch.Missing.'] == 0)).mean() * 100\n",
    "#    non_german_female_pct = ((df['frau1'] == 1) & (df['maxdeutsch1'] == 0) & (df['maxdeutsch.Missing.'] == 0)).mean() * 100\n",
    "#\n",
    "#    print(f\"--- {df_name} ---\")\n",
    "#    print(f\"Female: {female_pct:.2f}%\")\n",
    "#    print(f\"Non-German: {non_german_pct:.2f}%\")\n",
    "#    print(f\"Non-German Male: {non_german_male_pct:.2f}%\")\n",
    "#    print(f\"Non-German Female: {non_german_female_pct:.2f}%\\n\")\n",
    "#\n",
    "## Calculate for each DataFrame\n",
    "#calculate_percentages(siab_calib, \"siab_calib\")\n",
    "#calculate_percentages(siab_test, \"siab_test\")\n",
    "#calculate_percentages(siab_train, \"siab_train\")"
   ]
  },
  {
   "cell_type": "markdown",
   "id": "0a4a1b33",
   "metadata": {
    "papermill": {
     "duration": 0.014869,
     "end_time": "2025-07-30T13:13:41.606854",
     "exception": false,
     "start_time": "2025-07-30T13:13:41.591985",
     "status": "completed"
    },
    "tags": []
   },
   "source": [
    "# Preprocessing Data"
   ]
  },
  {
   "cell_type": "code",
   "execution_count": 29,
   "id": "ca879031",
   "metadata": {
    "execution": {
     "iopub.execute_input": "2025-07-30T13:13:41.655121Z",
     "iopub.status.busy": "2025-07-30T13:13:41.654002Z",
     "iopub.status.idle": "2025-07-30T13:13:41.666729Z",
     "shell.execute_reply": "2025-07-30T13:13:41.665684Z"
    },
    "papermill": {
     "duration": 0.039295,
     "end_time": "2025-07-30T13:13:41.669133",
     "exception": false,
     "start_time": "2025-07-30T13:13:41.629838",
     "status": "completed"
    },
    "tags": []
   },
   "outputs": [],
   "source": [
    "# EXCLUDE PROTECTED FEATURES\n",
    "# ----------------------\n",
    "# \"exclude_features\": \"none\", # \"nationality\", \"sex\", \"nationality-sex\"\n",
    "\n",
    "excluded_features = universe[\"exclude_features\"].split(\"-\") # split, e.g.: \"nationality-sex\" -> [\"nationality\", \"sex\"]\n",
    "excluded_features_dictionary = {\n",
    "    \"nationality\": [\"maxdeutsch1\", \"maxdeutsch.Missing.\"],\n",
    "    \"sex\": [\"frau1\"],\n",
    "    \"age\": [\"age\"],\n",
    "}\n"
   ]
  },
  {
   "cell_type": "code",
   "execution_count": 30,
   "id": "b745ac60",
   "metadata": {
    "execution": {
     "iopub.execute_input": "2025-07-30T13:13:41.719066Z",
     "iopub.status.busy": "2025-07-30T13:13:41.718541Z",
     "iopub.status.idle": "2025-07-30T13:13:41.724267Z",
     "shell.execute_reply": "2025-07-30T13:13:41.723365Z"
    },
    "papermill": {
     "duration": 0.032375,
     "end_time": "2025-07-30T13:13:41.726003",
     "exception": false,
     "start_time": "2025-07-30T13:13:41.693628",
     "status": "completed"
    },
    "tags": []
   },
   "outputs": [],
   "source": [
    "# Code nice names to column names\n",
    "\n",
    "excluded_features_columns = [\n",
    "    excluded_features_dictionary[f] for f in excluded_features if len(f) > 0 and f != \"none\"\n",
    "]"
   ]
  },
  {
   "cell_type": "code",
   "execution_count": 31,
   "id": "f84f73a2",
   "metadata": {
    "execution": {
     "iopub.execute_input": "2025-07-30T13:13:41.782838Z",
     "iopub.status.busy": "2025-07-30T13:13:41.782224Z",
     "iopub.status.idle": "2025-07-30T13:13:41.789825Z",
     "shell.execute_reply": "2025-07-30T13:13:41.788565Z"
    },
    "papermill": {
     "duration": 0.041071,
     "end_time": "2025-07-30T13:13:41.791694",
     "exception": false,
     "start_time": "2025-07-30T13:13:41.750623",
     "status": "completed"
    },
    "tags": []
   },
   "outputs": [],
   "source": [
    "from utils import flatten_once\n",
    "\n",
    "excluded_features_columns = flatten_once(excluded_features_columns)"
   ]
  },
  {
   "cell_type": "code",
   "execution_count": 32,
   "id": "884dea22",
   "metadata": {
    "execution": {
     "iopub.execute_input": "2025-07-30T13:13:41.845272Z",
     "iopub.status.busy": "2025-07-30T13:13:41.844793Z",
     "iopub.status.idle": "2025-07-30T13:13:41.851350Z",
     "shell.execute_reply": "2025-07-30T13:13:41.850362Z"
    },
    "papermill": {
     "duration": 0.035507,
     "end_time": "2025-07-30T13:13:41.854026",
     "exception": false,
     "start_time": "2025-07-30T13:13:41.818519",
     "status": "completed"
    },
    "tags": []
   },
   "outputs": [],
   "source": [
    "if len(excluded_features_columns) > 0:\n",
    "    print(f\"Dropping features: {excluded_features_columns}\")\n",
    "    X_train.drop(excluded_features_columns, axis=1, inplace=True)"
   ]
  },
  {
   "cell_type": "code",
   "execution_count": 33,
   "id": "95ab8b16",
   "metadata": {
    "execution": {
     "iopub.execute_input": "2025-07-30T13:13:41.906103Z",
     "iopub.status.busy": "2025-07-30T13:13:41.905664Z",
     "iopub.status.idle": "2025-07-30T13:13:41.912008Z",
     "shell.execute_reply": "2025-07-30T13:13:41.911068Z"
    },
    "papermill": {
     "duration": 0.034426,
     "end_time": "2025-07-30T13:13:41.913967",
     "exception": false,
     "start_time": "2025-07-30T13:13:41.879541",
     "status": "completed"
    },
    "tags": []
   },
   "outputs": [],
   "source": [
    "if len(excluded_features_columns) > 0:\n",
    "    print(f\"Dropping features: {excluded_features_columns}\")\n",
    "    X_test.drop(excluded_features_columns, axis=1, inplace=True)"
   ]
  },
  {
   "cell_type": "code",
   "execution_count": 34,
   "id": "1853aaf5-fb9f-46cb-a2b5-8ea4ae2237e4",
   "metadata": {
    "execution": {
     "iopub.execute_input": "2025-07-30T13:13:41.966876Z",
     "iopub.status.busy": "2025-07-30T13:13:41.966442Z",
     "iopub.status.idle": "2025-07-30T13:13:41.972794Z",
     "shell.execute_reply": "2025-07-30T13:13:41.971771Z"
    },
    "papermill": {
     "duration": 0.035527,
     "end_time": "2025-07-30T13:13:41.975588",
     "exception": false,
     "start_time": "2025-07-30T13:13:41.940061",
     "status": "completed"
    },
    "tags": []
   },
   "outputs": [],
   "source": [
    "if len(excluded_features_columns) > 0:\n",
    "    print(f\"Dropping features: {excluded_features_columns}\")\n",
    "    X_calib.drop(excluded_features_columns, axis=1, inplace=True)"
   ]
  },
  {
   "cell_type": "code",
   "execution_count": 35,
   "id": "6727d079-03e5-481e-9d38-292a90b7a0a8",
   "metadata": {
    "execution": {
     "iopub.execute_input": "2025-07-30T13:13:42.050869Z",
     "iopub.status.busy": "2025-07-30T13:13:42.050346Z",
     "iopub.status.idle": "2025-07-30T13:13:42.055850Z",
     "shell.execute_reply": "2025-07-30T13:13:42.054911Z"
    },
    "papermill": {
     "duration": 0.050411,
     "end_time": "2025-07-30T13:13:42.058900",
     "exception": false,
     "start_time": "2025-07-30T13:13:42.008489",
     "status": "completed"
    },
    "tags": []
   },
   "outputs": [],
   "source": [
    "# SPLIT & STRATIFY DATA\n",
    "# ----------------------"
   ]
  },
  {
   "cell_type": "code",
   "execution_count": 36,
   "id": "76c4dc6d",
   "metadata": {
    "execution": {
     "iopub.execute_input": "2025-07-30T13:13:42.143924Z",
     "iopub.status.busy": "2025-07-30T13:13:42.143489Z",
     "iopub.status.idle": "2025-07-30T13:13:42.149091Z",
     "shell.execute_reply": "2025-07-30T13:13:42.148126Z"
    },
    "papermill": {
     "duration": 0.065116,
     "end_time": "2025-07-30T13:13:42.150945",
     "exception": false,
     "start_time": "2025-07-30T13:13:42.085829",
     "status": "completed"
    },
    "tags": []
   },
   "outputs": [],
   "source": [
    "# EXCLUDE CERTAIN SUBGROUPS\n",
    "# ----------------------\n",
    "\n",
    "mode = universe.get(\"exclude_subgroups\", \"keep-all\") \n",
    "# Fetches the exclude_subgroups setting from the universe dict.\n",
    "# Defaults to \"keep-all\" if the key is missing."
   ]
  },
  {
   "cell_type": "code",
   "execution_count": 37,
   "id": "21994072",
   "metadata": {
    "execution": {
     "iopub.execute_input": "2025-07-30T13:13:42.246801Z",
     "iopub.status.busy": "2025-07-30T13:13:42.246331Z",
     "iopub.status.idle": "2025-07-30T13:13:42.253964Z",
     "shell.execute_reply": "2025-07-30T13:13:42.252894Z"
    },
    "papermill": {
     "duration": 0.063535,
     "end_time": "2025-07-30T13:13:42.255527",
     "exception": false,
     "start_time": "2025-07-30T13:13:42.191992",
     "status": "completed"
    },
    "tags": []
   },
   "outputs": [],
   "source": [
    "if mode == \"keep-all\":\n",
    "    keep_mask = pd.Series(True, index=org_train.index)\n",
    "\n",
    "# org_train contains the original feature columns from features_org (in Simson)\n",
    "# features_org contains unprocessed features, for me X_train at beginning ???\n",
    "# For keep-all, creates a boolean Series (keep_mask) of all True, so no rows are removed.\n",
    "\n",
    "elif mode == \"drop-non-german\":\n",
    "    keep_mask = org_train[\"maxdeutsch1\"] == 1 # ??? what about missing values?\n",
    "\n",
    "else:\n",
    "    raise ValueError(f\"Unsupported mode for exclude_subgroups: {mode}\")\n"
   ]
  },
  {
   "cell_type": "code",
   "execution_count": 38,
   "id": "71651440",
   "metadata": {
    "execution": {
     "iopub.execute_input": "2025-07-30T13:13:42.323444Z",
     "iopub.status.busy": "2025-07-30T13:13:42.322662Z",
     "iopub.status.idle": "2025-07-30T13:13:42.331008Z",
     "shell.execute_reply": "2025-07-30T13:13:42.329867Z"
    },
    "papermill": {
     "duration": 0.038658,
     "end_time": "2025-07-30T13:13:42.333765",
     "exception": false,
     "start_time": "2025-07-30T13:13:42.295107",
     "status": "completed"
    },
    "tags": []
   },
   "outputs": [
    {
     "name": "stdout",
     "output_type": "stream",
     "text": [
      "Dropping 3481 rows (13.92%) where mode='drop-non-german'\n"
     ]
    }
   ],
   "source": [
    "n_drop = (~keep_mask).sum() # Calculates how many rows are set to be dropped\n",
    "if n_drop > 0:\n",
    "    pct = n_drop / len(keep_mask) * 100\n",
    "    print(f\"Dropping {n_drop} rows ({pct:.2f}%) where mode='{mode}'\")"
   ]
  },
  {
   "cell_type": "code",
   "execution_count": 39,
   "id": "5fb8eee5",
   "metadata": {
    "execution": {
     "iopub.execute_input": "2025-07-30T13:13:42.389891Z",
     "iopub.status.busy": "2025-07-30T13:13:42.389489Z",
     "iopub.status.idle": "2025-07-30T13:13:42.406664Z",
     "shell.execute_reply": "2025-07-30T13:13:42.405527Z"
    },
    "papermill": {
     "duration": 0.047146,
     "end_time": "2025-07-30T13:13:42.408503",
     "exception": false,
     "start_time": "2025-07-30T13:13:42.361357",
     "status": "completed"
    },
    "tags": []
   },
   "outputs": [],
   "source": [
    "X_train = X_train[keep_mask]"
   ]
  },
  {
   "cell_type": "code",
   "execution_count": 40,
   "id": "b202bb3a",
   "metadata": {
    "execution": {
     "iopub.execute_input": "2025-07-30T13:13:42.467023Z",
     "iopub.status.busy": "2025-07-30T13:13:42.466618Z",
     "iopub.status.idle": "2025-07-30T13:13:42.473212Z",
     "shell.execute_reply": "2025-07-30T13:13:42.472090Z"
    },
    "papermill": {
     "duration": 0.033179,
     "end_time": "2025-07-30T13:13:42.474972",
     "exception": false,
     "start_time": "2025-07-30T13:13:42.441793",
     "status": "completed"
    },
    "tags": []
   },
   "outputs": [],
   "source": [
    "y_train = y_train[keep_mask]"
   ]
  },
  {
   "cell_type": "markdown",
   "id": "493e2ac3",
   "metadata": {
    "papermill": {
     "duration": 0.048859,
     "end_time": "2025-07-30T13:13:42.572527",
     "exception": false,
     "start_time": "2025-07-30T13:13:42.523668",
     "status": "completed"
    },
    "tags": []
   },
   "source": [
    "# Model Training"
   ]
  },
  {
   "cell_type": "code",
   "execution_count": 41,
   "id": "679e1268",
   "metadata": {
    "execution": {
     "iopub.execute_input": "2025-07-30T13:13:42.662693Z",
     "iopub.status.busy": "2025-07-30T13:13:42.662140Z",
     "iopub.status.idle": "2025-07-30T13:13:42.800442Z",
     "shell.execute_reply": "2025-07-30T13:13:42.799622Z"
    },
    "papermill": {
     "duration": 0.180133,
     "end_time": "2025-07-30T13:13:42.801830",
     "exception": false,
     "start_time": "2025-07-30T13:13:42.621697",
     "status": "completed"
    },
    "tags": []
   },
   "outputs": [],
   "source": [
    "from sklearn.linear_model import LogisticRegression\n",
    "from sklearn.ensemble import GradientBoostingClassifier, RandomForestClassifier\n",
    "\n",
    "if (universe[\"model\"] == \"logreg\"):\n",
    "    model = LogisticRegression() #penalty=\"none\") #, solver=\"newton-cg\", max_iter=1) # include random_state=19 ?\n",
    "elif (universe[\"model\"] == \"penalized_logreg\"):\n",
    "    model = LogisticRegression(penalty=\"l2\", C=1.0) #, solver=\"newton-cg\", max_iter=1)\n",
    "elif (universe[\"model\"] == \"rf\"):\n",
    "    model = RandomForestClassifier(n_estimators=100, n_jobs=-1)\n",
    "elif (universe[\"model\"] == \"gbm\"):\n",
    "    model = GradientBoostingClassifier()\n",
    "elif (universe[\"model\"] == \"elasticnet\"):\n",
    "    model = LogisticRegression(penalty = 'elasticnet', solver = 'saga', l1_ratio = 0.5, max_iter=5000) # which solver to use?\n",
    "else:\n",
    "    raise \"Unsupported universe.model\""
   ]
  },
  {
   "cell_type": "code",
   "execution_count": 42,
   "id": "0cc8f744",
   "metadata": {
    "execution": {
     "iopub.execute_input": "2025-07-30T13:13:42.833028Z",
     "iopub.status.busy": "2025-07-30T13:13:42.832471Z",
     "iopub.status.idle": "2025-07-30T13:13:42.837702Z",
     "shell.execute_reply": "2025-07-30T13:13:42.837000Z"
    },
    "papermill": {
     "duration": 0.021184,
     "end_time": "2025-07-30T13:13:42.839100",
     "exception": false,
     "start_time": "2025-07-30T13:13:42.817916",
     "status": "completed"
    },
    "tags": []
   },
   "outputs": [],
   "source": [
    "import numpy as np\n",
    "from sklearn.pipeline import Pipeline\n",
    "from sklearn.preprocessing import StandardScaler\n",
    "\n",
    "model = Pipeline([\n",
    "    #(\"continuous_processor\", continuous_processor),\n",
    "    #(\"categorical_preprocessor\", categorical_preprocessor),\n",
    "    (\"scale\", StandardScaler() if universe[\"scale\"] == \"scale\" else None), \n",
    "    (\"model\", model),\n",
    "])"
   ]
  },
  {
   "cell_type": "code",
   "execution_count": 43,
   "id": "9442c04d",
   "metadata": {
    "execution": {
     "iopub.execute_input": "2025-07-30T13:13:42.867866Z",
     "iopub.status.busy": "2025-07-30T13:13:42.867308Z",
     "iopub.status.idle": "2025-07-30T13:13:46.388518Z",
     "shell.execute_reply": "2025-07-30T13:13:46.387456Z"
    },
    "papermill": {
     "duration": 3.537537,
     "end_time": "2025-07-30T13:13:46.390289",
     "exception": false,
     "start_time": "2025-07-30T13:13:42.852752",
     "status": "completed"
    },
    "tags": []
   },
   "outputs": [
    {
     "data": {
      "text/html": [
       "<style>#sk-container-id-1 {color: black;background-color: white;}#sk-container-id-1 pre{padding: 0;}#sk-container-id-1 div.sk-toggleable {background-color: white;}#sk-container-id-1 label.sk-toggleable__label {cursor: pointer;display: block;width: 100%;margin-bottom: 0;padding: 0.3em;box-sizing: border-box;text-align: center;}#sk-container-id-1 label.sk-toggleable__label-arrow:before {content: \"▸\";float: left;margin-right: 0.25em;color: #696969;}#sk-container-id-1 label.sk-toggleable__label-arrow:hover:before {color: black;}#sk-container-id-1 div.sk-estimator:hover label.sk-toggleable__label-arrow:before {color: black;}#sk-container-id-1 div.sk-toggleable__content {max-height: 0;max-width: 0;overflow: hidden;text-align: left;background-color: #f0f8ff;}#sk-container-id-1 div.sk-toggleable__content pre {margin: 0.2em;color: black;border-radius: 0.25em;background-color: #f0f8ff;}#sk-container-id-1 input.sk-toggleable__control:checked~div.sk-toggleable__content {max-height: 200px;max-width: 100%;overflow: auto;}#sk-container-id-1 input.sk-toggleable__control:checked~label.sk-toggleable__label-arrow:before {content: \"▾\";}#sk-container-id-1 div.sk-estimator input.sk-toggleable__control:checked~label.sk-toggleable__label {background-color: #d4ebff;}#sk-container-id-1 div.sk-label input.sk-toggleable__control:checked~label.sk-toggleable__label {background-color: #d4ebff;}#sk-container-id-1 input.sk-hidden--visually {border: 0;clip: rect(1px 1px 1px 1px);clip: rect(1px, 1px, 1px, 1px);height: 1px;margin: -1px;overflow: hidden;padding: 0;position: absolute;width: 1px;}#sk-container-id-1 div.sk-estimator {font-family: monospace;background-color: #f0f8ff;border: 1px dotted black;border-radius: 0.25em;box-sizing: border-box;margin-bottom: 0.5em;}#sk-container-id-1 div.sk-estimator:hover {background-color: #d4ebff;}#sk-container-id-1 div.sk-parallel-item::after {content: \"\";width: 100%;border-bottom: 1px solid gray;flex-grow: 1;}#sk-container-id-1 div.sk-label:hover label.sk-toggleable__label {background-color: #d4ebff;}#sk-container-id-1 div.sk-serial::before {content: \"\";position: absolute;border-left: 1px solid gray;box-sizing: border-box;top: 0;bottom: 0;left: 50%;z-index: 0;}#sk-container-id-1 div.sk-serial {display: flex;flex-direction: column;align-items: center;background-color: white;padding-right: 0.2em;padding-left: 0.2em;position: relative;}#sk-container-id-1 div.sk-item {position: relative;z-index: 1;}#sk-container-id-1 div.sk-parallel {display: flex;align-items: stretch;justify-content: center;background-color: white;position: relative;}#sk-container-id-1 div.sk-item::before, #sk-container-id-1 div.sk-parallel-item::before {content: \"\";position: absolute;border-left: 1px solid gray;box-sizing: border-box;top: 0;bottom: 0;left: 50%;z-index: -1;}#sk-container-id-1 div.sk-parallel-item {display: flex;flex-direction: column;z-index: 1;position: relative;background-color: white;}#sk-container-id-1 div.sk-parallel-item:first-child::after {align-self: flex-end;width: 50%;}#sk-container-id-1 div.sk-parallel-item:last-child::after {align-self: flex-start;width: 50%;}#sk-container-id-1 div.sk-parallel-item:only-child::after {width: 0;}#sk-container-id-1 div.sk-dashed-wrapped {border: 1px dashed gray;margin: 0 0.4em 0.5em 0.4em;box-sizing: border-box;padding-bottom: 0.4em;background-color: white;}#sk-container-id-1 div.sk-label label {font-family: monospace;font-weight: bold;display: inline-block;line-height: 1.2em;}#sk-container-id-1 div.sk-label-container {text-align: center;}#sk-container-id-1 div.sk-container {/* jupyter's `normalize.less` sets `[hidden] { display: none; }` but bootstrap.min.css set `[hidden] { display: none !important; }` so we also need the `!important` here to be able to override the default hidden behavior on the sphinx rendered scikit-learn.org. See: https://github.com/scikit-learn/scikit-learn/issues/21755 */display: inline-block !important;position: relative;}#sk-container-id-1 div.sk-text-repr-fallback {display: none;}</style><div id=\"sk-container-id-1\" class=\"sk-top-container\"><div class=\"sk-text-repr-fallback\"><pre>Pipeline(steps=[(&#x27;scale&#x27;, None), (&#x27;model&#x27;, RandomForestClassifier(n_jobs=-1))])</pre><b>In a Jupyter environment, please rerun this cell to show the HTML representation or trust the notebook. <br />On GitHub, the HTML representation is unable to render, please try loading this page with nbviewer.org.</b></div><div class=\"sk-container\" hidden><div class=\"sk-item sk-dashed-wrapped\"><div class=\"sk-label-container\"><div class=\"sk-label sk-toggleable\"><input class=\"sk-toggleable__control sk-hidden--visually\" id=\"sk-estimator-id-1\" type=\"checkbox\" ><label for=\"sk-estimator-id-1\" class=\"sk-toggleable__label sk-toggleable__label-arrow\">Pipeline</label><div class=\"sk-toggleable__content\"><pre>Pipeline(steps=[(&#x27;scale&#x27;, None), (&#x27;model&#x27;, RandomForestClassifier(n_jobs=-1))])</pre></div></div></div><div class=\"sk-serial\"><div class=\"sk-item\"><div class=\"sk-estimator sk-toggleable\"><input class=\"sk-toggleable__control sk-hidden--visually\" id=\"sk-estimator-id-2\" type=\"checkbox\" ><label for=\"sk-estimator-id-2\" class=\"sk-toggleable__label sk-toggleable__label-arrow\">None</label><div class=\"sk-toggleable__content\"><pre>None</pre></div></div></div><div class=\"sk-item\"><div class=\"sk-estimator sk-toggleable\"><input class=\"sk-toggleable__control sk-hidden--visually\" id=\"sk-estimator-id-3\" type=\"checkbox\" ><label for=\"sk-estimator-id-3\" class=\"sk-toggleable__label sk-toggleable__label-arrow\">RandomForestClassifier</label><div class=\"sk-toggleable__content\"><pre>RandomForestClassifier(n_jobs=-1)</pre></div></div></div></div></div></div></div>"
      ],
      "text/plain": [
       "Pipeline(steps=[('scale', None), ('model', RandomForestClassifier(n_jobs=-1))])"
      ]
     },
     "execution_count": 43,
     "metadata": {},
     "output_type": "execute_result"
    }
   ],
   "source": [
    "model.fit(X_train, y_train.values.ravel())"
   ]
  },
  {
   "cell_type": "code",
   "execution_count": 44,
   "id": "af59f8c0",
   "metadata": {
    "execution": {
     "iopub.execute_input": "2025-07-30T13:13:46.510935Z",
     "iopub.status.busy": "2025-07-30T13:13:46.510488Z",
     "iopub.status.idle": "2025-07-30T13:13:46.516082Z",
     "shell.execute_reply": "2025-07-30T13:13:46.515051Z"
    },
    "papermill": {
     "duration": 0.073181,
     "end_time": "2025-07-30T13:13:46.517779",
     "exception": false,
     "start_time": "2025-07-30T13:13:46.444598",
     "status": "completed"
    },
    "tags": []
   },
   "outputs": [],
   "source": [
    "from fairness_multiverse.universe import predict_w_threshold"
   ]
  },
  {
   "cell_type": "code",
   "execution_count": 45,
   "id": "a7cf2e16",
   "metadata": {
    "execution": {
     "iopub.execute_input": "2025-07-30T13:13:46.609736Z",
     "iopub.status.busy": "2025-07-30T13:13:46.609349Z",
     "iopub.status.idle": "2025-07-30T13:13:47.846491Z",
     "shell.execute_reply": "2025-07-30T13:13:47.845547Z"
    },
    "papermill": {
     "duration": 1.294174,
     "end_time": "2025-07-30T13:13:47.848684",
     "exception": false,
     "start_time": "2025-07-30T13:13:46.554510",
     "status": "completed"
    },
    "tags": []
   },
   "outputs": [
    {
     "data": {
      "text/plain": [
       "0.8655222383234867"
      ]
     },
     "execution_count": 45,
     "metadata": {},
     "output_type": "execute_result"
    }
   ],
   "source": [
    "probs_test = model.predict_proba(X_test)\n",
    "\n",
    "'''\n",
    "Below code returns a boolean array (or binary 0/1 array depending on how it’s used) where each element \n",
    "is True if the probability of class 1 is greater than or equal to the threshold, and False otherwise.\n",
    "'''\n",
    "y_pred_default = predict_w_threshold(probs_test, 0.5)\n",
    "\n",
    "from sklearn.metrics import accuracy_score\n",
    "\n",
    "# Naive prediction\n",
    "accuracy_score(y_true = y_true, y_pred = y_pred_default)"
   ]
  },
  {
   "cell_type": "code",
   "execution_count": 46,
   "id": "081964c3",
   "metadata": {
    "execution": {
     "iopub.execute_input": "2025-07-30T13:13:47.942685Z",
     "iopub.status.busy": "2025-07-30T13:13:47.941733Z",
     "iopub.status.idle": "2025-07-30T13:13:49.116675Z",
     "shell.execute_reply": "2025-07-30T13:13:49.115818Z"
    },
    "papermill": {
     "duration": 1.218717,
     "end_time": "2025-07-30T13:13:49.118381",
     "exception": false,
     "start_time": "2025-07-30T13:13:47.899664",
     "status": "completed"
    },
    "tags": []
   },
   "outputs": [
    {
     "data": {
      "text/plain": [
       "array([0, 0, 0, ..., 0, 0, 0])"
      ]
     },
     "execution_count": 46,
     "metadata": {},
     "output_type": "execute_result"
    }
   ],
   "source": [
    "model.predict(X_test)"
   ]
  },
  {
   "cell_type": "markdown",
   "id": "56c9705b",
   "metadata": {
    "papermill": {
     "duration": 0.051772,
     "end_time": "2025-07-30T13:13:49.212887",
     "exception": false,
     "start_time": "2025-07-30T13:13:49.161115",
     "status": "completed"
    },
    "tags": []
   },
   "source": [
    "# Conformal Prediction"
   ]
  },
  {
   "cell_type": "code",
   "execution_count": 47,
   "id": "160ec6ff",
   "metadata": {
    "execution": {
     "iopub.execute_input": "2025-07-30T13:13:49.278820Z",
     "iopub.status.busy": "2025-07-30T13:13:49.278139Z",
     "iopub.status.idle": "2025-07-30T13:13:49.283722Z",
     "shell.execute_reply": "2025-07-30T13:13:49.282908Z"
    },
    "papermill": {
     "duration": 0.040165,
     "end_time": "2025-07-30T13:13:49.294157",
     "exception": false,
     "start_time": "2025-07-30T13:13:49.253992",
     "status": "completed"
    },
    "tags": []
   },
   "outputs": [],
   "source": [
    "# Miscoverage level for conformal prediction (10% allowed error rate => 90% target coverage)\n",
    "alpha = 0.1"
   ]
  },
  {
   "cell_type": "code",
   "execution_count": 48,
   "id": "eadf4555-3dd3-440e-8e35-f82a4ad9f855",
   "metadata": {
    "execution": {
     "iopub.execute_input": "2025-07-30T13:13:49.375297Z",
     "iopub.status.busy": "2025-07-30T13:13:49.374861Z",
     "iopub.status.idle": "2025-07-30T13:13:50.639319Z",
     "shell.execute_reply": "2025-07-30T13:13:50.638456Z"
    },
    "papermill": {
     "duration": 1.292513,
     "end_time": "2025-07-30T13:13:50.641182",
     "exception": false,
     "start_time": "2025-07-30T13:13:49.348669",
     "status": "completed"
    },
    "tags": []
   },
   "outputs": [],
   "source": [
    "probs_calib = model.predict_proba(X_calib)"
   ]
  },
  {
   "cell_type": "code",
   "execution_count": 49,
   "id": "2ed93547-6d5d-4983-9b36-1ecb300da49a",
   "metadata": {
    "execution": {
     "iopub.execute_input": "2025-07-30T13:13:50.722790Z",
     "iopub.status.busy": "2025-07-30T13:13:50.721793Z",
     "iopub.status.idle": "2025-07-30T13:13:50.727284Z",
     "shell.execute_reply": "2025-07-30T13:13:50.726430Z"
    },
    "papermill": {
     "duration": 0.033052,
     "end_time": "2025-07-30T13:13:50.729739",
     "exception": false,
     "start_time": "2025-07-30T13:13:50.696687",
     "status": "completed"
    },
    "tags": []
   },
   "outputs": [],
   "source": [
    "y_calib = y_calib.values.ravel().astype(int)"
   ]
  },
  {
   "cell_type": "code",
   "execution_count": 50,
   "id": "65d1320d-f588-4b38-9072-62af1ae97f7d",
   "metadata": {
    "execution": {
     "iopub.execute_input": "2025-07-30T13:13:50.778697Z",
     "iopub.status.busy": "2025-07-30T13:13:50.778295Z",
     "iopub.status.idle": "2025-07-30T13:13:50.786341Z",
     "shell.execute_reply": "2025-07-30T13:13:50.785317Z"
    },
    "papermill": {
     "duration": 0.034907,
     "end_time": "2025-07-30T13:13:50.788272",
     "exception": false,
     "start_time": "2025-07-30T13:13:50.753365",
     "status": "completed"
    },
    "tags": []
   },
   "outputs": [],
   "source": [
    "from fairness_multiverse.conformal import compute_nc_scores\n",
    "\n",
    "# Compute nonconformity scores on calibration set (1 - probability of true class)\n",
    "nc_scores = compute_nc_scores(probs_calib, y_calib)"
   ]
  },
  {
   "cell_type": "code",
   "execution_count": 51,
   "id": "df3b8ca3-53b7-43d5-9667-7c85da7aeda2",
   "metadata": {
    "execution": {
     "iopub.execute_input": "2025-07-30T13:13:50.866905Z",
     "iopub.status.busy": "2025-07-30T13:13:50.866495Z",
     "iopub.status.idle": "2025-07-30T13:13:50.873434Z",
     "shell.execute_reply": "2025-07-30T13:13:50.872557Z"
    },
    "papermill": {
     "duration": 0.050387,
     "end_time": "2025-07-30T13:13:50.874988",
     "exception": false,
     "start_time": "2025-07-30T13:13:50.824601",
     "status": "completed"
    },
    "tags": []
   },
   "outputs": [],
   "source": [
    "from fairness_multiverse.conformal import find_threshold\n",
    "\n",
    "# Find conformal threshold q_hat for the given alpha (split conformal method)\n",
    "q_hat = find_threshold(nc_scores, alpha)"
   ]
  },
  {
   "cell_type": "code",
   "execution_count": 52,
   "id": "4d29e6c1-0ef6-4aa4-b8fe-4fe79b0d033a",
   "metadata": {
    "execution": {
     "iopub.execute_input": "2025-07-30T13:13:50.954176Z",
     "iopub.status.busy": "2025-07-30T13:13:50.953696Z",
     "iopub.status.idle": "2025-07-30T13:13:50.961146Z",
     "shell.execute_reply": "2025-07-30T13:13:50.960237Z"
    },
    "papermill": {
     "duration": 0.064484,
     "end_time": "2025-07-30T13:13:50.963715",
     "exception": false,
     "start_time": "2025-07-30T13:13:50.899231",
     "status": "completed"
    },
    "tags": []
   },
   "outputs": [
    {
     "data": {
      "text/plain": [
       "0.6599999999999999"
      ]
     },
     "execution_count": 52,
     "metadata": {},
     "output_type": "execute_result"
    }
   ],
   "source": [
    "q_hat"
   ]
  },
  {
   "cell_type": "code",
   "execution_count": 53,
   "id": "92460794-cdac-4be2-ba28-f28c0515a6fb",
   "metadata": {
    "execution": {
     "iopub.execute_input": "2025-07-30T13:13:51.082957Z",
     "iopub.status.busy": "2025-07-30T13:13:51.082570Z",
     "iopub.status.idle": "2025-07-30T13:13:52.991045Z",
     "shell.execute_reply": "2025-07-30T13:13:52.989797Z"
    },
    "papermill": {
     "duration": 1.960609,
     "end_time": "2025-07-30T13:13:52.992898",
     "exception": false,
     "start_time": "2025-07-30T13:13:51.032289",
     "status": "completed"
    },
    "tags": []
   },
   "outputs": [],
   "source": [
    "from fairness_multiverse.conformal import predict_conformal_sets\n",
    "\n",
    "# Generate prediction sets for each test example\n",
    "pred_sets = predict_conformal_sets(model, X_test, q_hat)"
   ]
  },
  {
   "cell_type": "code",
   "execution_count": 54,
   "id": "d90c9a65-e6db-4f5d-80cd-e68fb7e46829",
   "metadata": {
    "execution": {
     "iopub.execute_input": "2025-07-30T13:13:53.050580Z",
     "iopub.status.busy": "2025-07-30T13:13:53.050181Z",
     "iopub.status.idle": "2025-07-30T13:13:53.056121Z",
     "shell.execute_reply": "2025-07-30T13:13:53.055156Z"
    },
    "papermill": {
     "duration": 0.033446,
     "end_time": "2025-07-30T13:13:53.058989",
     "exception": false,
     "start_time": "2025-07-30T13:13:53.025543",
     "status": "completed"
    },
    "tags": []
   },
   "outputs": [],
   "source": [
    "y_true = y_true.squeeze()"
   ]
  },
  {
   "cell_type": "code",
   "execution_count": 55,
   "id": "3a58a54a-1e68-46b9-927a-df01f18aebc8",
   "metadata": {
    "execution": {
     "iopub.execute_input": "2025-07-30T13:13:53.108973Z",
     "iopub.status.busy": "2025-07-30T13:13:53.108581Z",
     "iopub.status.idle": "2025-07-30T13:13:54.023880Z",
     "shell.execute_reply": "2025-07-30T13:13:54.022918Z"
    },
    "papermill": {
     "duration": 0.94218,
     "end_time": "2025-07-30T13:13:54.025721",
     "exception": false,
     "start_time": "2025-07-30T13:13:53.083541",
     "status": "completed"
    },
    "tags": []
   },
   "outputs": [],
   "source": [
    "from fairness_multiverse.conformal import evaluate_sets\n",
    "\n",
    "# Evaluate coverage and average set size on test data\n",
    "metrics = evaluate_sets(pred_sets, y_true)"
   ]
  },
  {
   "cell_type": "markdown",
   "id": "2b569c12-9aaa-4c88-98c9-bbcd0cf3ebb8",
   "metadata": {
    "papermill": {
     "duration": 0.023611,
     "end_time": "2025-07-30T13:13:54.079868",
     "exception": false,
     "start_time": "2025-07-30T13:13:54.056257",
     "status": "completed"
    },
    "tags": []
   },
   "source": [
    "# CP Metrics"
   ]
  },
  {
   "cell_type": "code",
   "execution_count": 56,
   "id": "5ce0a5cb-201f-45a0-ade5-94c7f0bd6095",
   "metadata": {
    "execution": {
     "iopub.execute_input": "2025-07-30T13:13:54.128686Z",
     "iopub.status.busy": "2025-07-30T13:13:54.128230Z",
     "iopub.status.idle": "2025-07-30T13:13:54.135337Z",
     "shell.execute_reply": "2025-07-30T13:13:54.134302Z"
    },
    "papermill": {
     "duration": 0.033748,
     "end_time": "2025-07-30T13:13:54.137529",
     "exception": false,
     "start_time": "2025-07-30T13:13:54.103781",
     "status": "completed"
    },
    "tags": []
   },
   "outputs": [
    {
     "data": {
      "text/plain": [
       "{'coverage': 0.915639282131312, 'avg_size': 1.1480548433842381}"
      ]
     },
     "execution_count": 56,
     "metadata": {},
     "output_type": "execute_result"
    }
   ],
   "source": [
    "metrics"
   ]
  },
  {
   "cell_type": "code",
   "execution_count": 57,
   "id": "9b9a838d-31c9-430b-ae14-12baee460d17",
   "metadata": {
    "execution": {
     "iopub.execute_input": "2025-07-30T13:13:54.187102Z",
     "iopub.status.busy": "2025-07-30T13:13:54.186595Z",
     "iopub.status.idle": "2025-07-30T13:13:54.192583Z",
     "shell.execute_reply": "2025-07-30T13:13:54.191496Z"
    },
    "papermill": {
     "duration": 0.032002,
     "end_time": "2025-07-30T13:13:54.194471",
     "exception": false,
     "start_time": "2025-07-30T13:13:54.162469",
     "status": "completed"
    },
    "tags": []
   },
   "outputs": [],
   "source": [
    "example_universe = universe.copy()\n",
    "universe_training_size = example_universe.get(\"training_size\")\n",
    "universe_scale = example_universe.get(\"scale\")\n",
    "universe_model = example_universe.get(\"model\")\n",
    "universe_exclude_features = example_universe.get(\"exclude_features\")\n",
    "universe_exclude_subgroups = example_universe.get(\"exclude_subgroups\")"
   ]
  },
  {
   "cell_type": "code",
   "execution_count": 58,
   "id": "f4b6a8ac-9dc0-4245-8a91-5b3b5999c4f9",
   "metadata": {
    "execution": {
     "iopub.execute_input": "2025-07-30T13:13:54.289236Z",
     "iopub.status.busy": "2025-07-30T13:13:54.288806Z",
     "iopub.status.idle": "2025-07-30T13:13:54.296511Z",
     "shell.execute_reply": "2025-07-30T13:13:54.295504Z"
    },
    "papermill": {
     "duration": 0.076668,
     "end_time": "2025-07-30T13:13:54.297972",
     "exception": false,
     "start_time": "2025-07-30T13:13:54.221304",
     "status": "completed"
    },
    "tags": []
   },
   "outputs": [],
   "source": [
    "cp_metrics_dict = {\n",
    "    \"universe_id\": [universe_id],\n",
    "    \"universe_training_size\": [universe_training_size],\n",
    "    \"universe_scale\": [universe_scale],\n",
    "    \"universe_model\": [universe_model],\n",
    "    \"universe_exclude_features\": [universe_exclude_features],\n",
    "    \"universe_exclude_subgroups\": [universe_exclude_subgroups],\n",
    "    \"q_hat\": [q_hat],\n",
    "    \"coverage\": [metrics[\"coverage\"]],\n",
    "    \"avg_size\": [metrics[\"avg_size\"]],\n",
    "}"
   ]
  },
  {
   "cell_type": "code",
   "execution_count": 59,
   "id": "908acbb1-0371-4915-85ca-3fa520d2efe2",
   "metadata": {
    "execution": {
     "iopub.execute_input": "2025-07-30T13:13:54.326821Z",
     "iopub.status.busy": "2025-07-30T13:13:54.326181Z",
     "iopub.status.idle": "2025-07-30T13:13:54.332324Z",
     "shell.execute_reply": "2025-07-30T13:13:54.331534Z"
    },
    "papermill": {
     "duration": 0.021911,
     "end_time": "2025-07-30T13:13:54.333672",
     "exception": false,
     "start_time": "2025-07-30T13:13:54.311761",
     "status": "completed"
    },
    "tags": []
   },
   "outputs": [
    {
     "data": {
      "text/plain": [
       "{'universe_id': ['3bf18228d7305e666a9ed0efdacc6518'],\n",
       " 'universe_training_size': ['25k'],\n",
       " 'universe_scale': ['do-not-scale'],\n",
       " 'universe_model': ['rf'],\n",
       " 'universe_exclude_features': ['none'],\n",
       " 'universe_exclude_subgroups': ['drop-non-german'],\n",
       " 'q_hat': [0.6599999999999999],\n",
       " 'coverage': [0.915639282131312],\n",
       " 'avg_size': [1.1480548433842381]}"
      ]
     },
     "execution_count": 59,
     "metadata": {},
     "output_type": "execute_result"
    }
   ],
   "source": [
    "cp_metrics_dict"
   ]
  },
  {
   "cell_type": "code",
   "execution_count": 60,
   "id": "33007efc-14e9-4ec6-97ac-56a455c82265",
   "metadata": {
    "execution": {
     "iopub.execute_input": "2025-07-30T13:13:54.365705Z",
     "iopub.status.busy": "2025-07-30T13:13:54.365131Z",
     "iopub.status.idle": "2025-07-30T13:13:54.370461Z",
     "shell.execute_reply": "2025-07-30T13:13:54.369683Z"
    },
    "papermill": {
     "duration": 0.025124,
     "end_time": "2025-07-30T13:13:54.371893",
     "exception": false,
     "start_time": "2025-07-30T13:13:54.346769",
     "status": "completed"
    },
    "tags": []
   },
   "outputs": [],
   "source": [
    "cp_metrics_df = pd.DataFrame(cp_metrics_dict)"
   ]
  },
  {
   "cell_type": "code",
   "execution_count": 61,
   "id": "db12611b-57b2-4910-b9d0-355adfd6e7bf",
   "metadata": {
    "execution": {
     "iopub.execute_input": "2025-07-30T13:13:54.399594Z",
     "iopub.status.busy": "2025-07-30T13:13:54.399090Z",
     "iopub.status.idle": "2025-07-30T13:13:54.416934Z",
     "shell.execute_reply": "2025-07-30T13:13:54.415868Z"
    },
    "papermill": {
     "duration": 0.032958,
     "end_time": "2025-07-30T13:13:54.418564",
     "exception": false,
     "start_time": "2025-07-30T13:13:54.385606",
     "status": "completed"
    },
    "tags": []
   },
   "outputs": [
    {
     "data": {
      "text/html": [
       "<div>\n",
       "<style scoped>\n",
       "    .dataframe tbody tr th:only-of-type {\n",
       "        vertical-align: middle;\n",
       "    }\n",
       "\n",
       "    .dataframe tbody tr th {\n",
       "        vertical-align: top;\n",
       "    }\n",
       "\n",
       "    .dataframe thead th {\n",
       "        text-align: right;\n",
       "    }\n",
       "</style>\n",
       "<table border=\"1\" class=\"dataframe\">\n",
       "  <thead>\n",
       "    <tr style=\"text-align: right;\">\n",
       "      <th></th>\n",
       "      <th>universe_id</th>\n",
       "      <th>universe_training_size</th>\n",
       "      <th>universe_scale</th>\n",
       "      <th>universe_model</th>\n",
       "      <th>universe_exclude_features</th>\n",
       "      <th>universe_exclude_subgroups</th>\n",
       "      <th>q_hat</th>\n",
       "      <th>coverage</th>\n",
       "      <th>avg_size</th>\n",
       "    </tr>\n",
       "  </thead>\n",
       "  <tbody>\n",
       "    <tr>\n",
       "      <th>0</th>\n",
       "      <td>3bf18228d7305e666a9ed0efdacc6518</td>\n",
       "      <td>25k</td>\n",
       "      <td>do-not-scale</td>\n",
       "      <td>rf</td>\n",
       "      <td>none</td>\n",
       "      <td>drop-non-german</td>\n",
       "      <td>0.66</td>\n",
       "      <td>0.915639</td>\n",
       "      <td>1.148055</td>\n",
       "    </tr>\n",
       "  </tbody>\n",
       "</table>\n",
       "</div>"
      ],
      "text/plain": [
       "                        universe_id universe_training_size universe_scale  \\\n",
       "0  3bf18228d7305e666a9ed0efdacc6518                    25k   do-not-scale   \n",
       "\n",
       "  universe_model universe_exclude_features universe_exclude_subgroups  q_hat  \\\n",
       "0             rf                      none            drop-non-german   0.66   \n",
       "\n",
       "   coverage  avg_size  \n",
       "0  0.915639  1.148055  "
      ]
     },
     "execution_count": 61,
     "metadata": {},
     "output_type": "execute_result"
    }
   ],
   "source": [
    "cp_metrics_df"
   ]
  },
  {
   "cell_type": "code",
   "execution_count": 62,
   "id": "b7fbde55-a0a1-47e4-9af6-fe4a17fa8c61",
   "metadata": {
    "execution": {
     "iopub.execute_input": "2025-07-30T13:13:54.471826Z",
     "iopub.status.busy": "2025-07-30T13:13:54.471055Z",
     "iopub.status.idle": "2025-07-30T13:13:54.475669Z",
     "shell.execute_reply": "2025-07-30T13:13:54.474888Z"
    },
    "papermill": {
     "duration": 0.02009,
     "end_time": "2025-07-30T13:13:54.476939",
     "exception": false,
     "start_time": "2025-07-30T13:13:54.456849",
     "status": "completed"
    },
    "tags": []
   },
   "outputs": [],
   "source": [
    "# Conditional Coverage & looking at subgroups"
   ]
  },
  {
   "cell_type": "code",
   "execution_count": 63,
   "id": "027ae886-68dd-4141-96c7-805a5450e1ef",
   "metadata": {
    "execution": {
     "iopub.execute_input": "2025-07-30T13:13:54.508440Z",
     "iopub.status.busy": "2025-07-30T13:13:54.507692Z",
     "iopub.status.idle": "2025-07-30T13:13:54.759756Z",
     "shell.execute_reply": "2025-07-30T13:13:54.758852Z"
    },
    "papermill": {
     "duration": 0.268473,
     "end_time": "2025-07-30T13:13:54.761773",
     "exception": false,
     "start_time": "2025-07-30T13:13:54.493300",
     "status": "completed"
    },
    "tags": []
   },
   "outputs": [],
   "source": [
    "from fairness_multiverse.conformal import build_cp_groups\n",
    "\n",
    "cp_groups_df = build_cp_groups(pred_sets, y_true, X_test.index, org_test)\n",
    "#needs universe_id and setting"
   ]
  },
  {
   "cell_type": "code",
   "execution_count": 64,
   "id": "01d5802c-663a-4d1f-9d69-e036faaffbf7",
   "metadata": {
    "execution": {
     "iopub.execute_input": "2025-07-30T13:13:54.822618Z",
     "iopub.status.busy": "2025-07-30T13:13:54.821446Z",
     "iopub.status.idle": "2025-07-30T13:13:54.826079Z",
     "shell.execute_reply": "2025-07-30T13:13:54.825371Z"
    },
    "papermill": {
     "duration": 0.036981,
     "end_time": "2025-07-30T13:13:54.827403",
     "exception": false,
     "start_time": "2025-07-30T13:13:54.790422",
     "status": "completed"
    },
    "tags": []
   },
   "outputs": [],
   "source": [
    "#delete\n",
    "#cp_groups_df"
   ]
  },
  {
   "cell_type": "code",
   "execution_count": 65,
   "id": "fa424af1-d1eb-443d-b717-2d279ada8408",
   "metadata": {
    "execution": {
     "iopub.execute_input": "2025-07-30T13:13:54.857417Z",
     "iopub.status.busy": "2025-07-30T13:13:54.856921Z",
     "iopub.status.idle": "2025-07-30T13:13:54.861564Z",
     "shell.execute_reply": "2025-07-30T13:13:54.860893Z"
    },
    "papermill": {
     "duration": 0.020225,
     "end_time": "2025-07-30T13:13:54.862897",
     "exception": false,
     "start_time": "2025-07-30T13:13:54.842672",
     "status": "completed"
    },
    "tags": []
   },
   "outputs": [],
   "source": [
    "#delete\n",
    "#percentage = (cp_groups_df['nongerman_female'] == 1).mean() * 100\n",
    "#print(percentage)\n"
   ]
  },
  {
   "cell_type": "code",
   "execution_count": 66,
   "id": "6cbdab96-b2b2-45af-ad54-d0516db2e28d",
   "metadata": {
    "execution": {
     "iopub.execute_input": "2025-07-30T13:13:54.894625Z",
     "iopub.status.busy": "2025-07-30T13:13:54.894220Z",
     "iopub.status.idle": "2025-07-30T13:13:56.663135Z",
     "shell.execute_reply": "2025-07-30T13:13:56.662180Z"
    },
    "papermill": {
     "duration": 1.788013,
     "end_time": "2025-07-30T13:13:56.665232",
     "exception": false,
     "start_time": "2025-07-30T13:13:54.877219",
     "status": "completed"
    },
    "tags": []
   },
   "outputs": [],
   "source": [
    "# Define covered = 1 if true_label is in the predicted set\n",
    "cp_groups_df['covered'] = cp_groups_df.apply(\n",
    "    lambda r: int(r['true_label'] in r['pred_set']),\n",
    "    axis=1\n",
    ")"
   ]
  },
  {
   "cell_type": "code",
   "execution_count": 67,
   "id": "338ff529-1a6b-4b87-a931-8e4788d52aad",
   "metadata": {
    "execution": {
     "iopub.execute_input": "2025-07-30T13:13:56.723960Z",
     "iopub.status.busy": "2025-07-30T13:13:56.723310Z",
     "iopub.status.idle": "2025-07-30T13:13:56.728209Z",
     "shell.execute_reply": "2025-07-30T13:13:56.727333Z"
    },
    "papermill": {
     "duration": 0.035773,
     "end_time": "2025-07-30T13:13:56.729773",
     "exception": false,
     "start_time": "2025-07-30T13:13:56.694000",
     "status": "completed"
    },
    "tags": []
   },
   "outputs": [],
   "source": [
    "#cp_groups_df"
   ]
  },
  {
   "cell_type": "code",
   "execution_count": 68,
   "id": "90032e27-66df-4540-9169-4e89cfbaa758",
   "metadata": {
    "execution": {
     "iopub.execute_input": "2025-07-30T13:13:56.786314Z",
     "iopub.status.busy": "2025-07-30T13:13:56.785886Z",
     "iopub.status.idle": "2025-07-30T13:13:56.796123Z",
     "shell.execute_reply": "2025-07-30T13:13:56.795379Z"
    },
    "papermill": {
     "duration": 0.040636,
     "end_time": "2025-07-30T13:13:56.797477",
     "exception": false,
     "start_time": "2025-07-30T13:13:56.756841",
     "status": "completed"
    },
    "tags": []
   },
   "outputs": [],
   "source": [
    "subgroups = ['frau1','nongerman','nongerman_male','nongerman_female']\n",
    "\n",
    "# Conditional coverage for subgroup==1\n",
    "cond_coverage = {\n",
    "    g: cp_groups_df.loc[cp_groups_df[g]==1, 'covered'].mean()\n",
    "    for g in subgroups\n",
    "}"
   ]
  },
  {
   "cell_type": "code",
   "execution_count": 69,
   "id": "1e348fb1-b9c3-45bc-ba23-f016827a7e0d",
   "metadata": {
    "execution": {
     "iopub.execute_input": "2025-07-30T13:13:56.830029Z",
     "iopub.status.busy": "2025-07-30T13:13:56.829512Z",
     "iopub.status.idle": "2025-07-30T13:13:56.836495Z",
     "shell.execute_reply": "2025-07-30T13:13:56.835668Z"
    },
    "papermill": {
     "duration": 0.023639,
     "end_time": "2025-07-30T13:13:56.837676",
     "exception": false,
     "start_time": "2025-07-30T13:13:56.814037",
     "status": "completed"
    },
    "tags": []
   },
   "outputs": [
    {
     "data": {
      "text/plain": [
       "{'frau1': 0.9156490093004448,\n",
       " 'nongerman': 0.9086622129905125,\n",
       " 'nongerman_male': 0.9238944429433487,\n",
       " 'nongerman_female': 0.8834575260804769}"
      ]
     },
     "execution_count": 69,
     "metadata": {},
     "output_type": "execute_result"
    }
   ],
   "source": [
    "cond_coverage"
   ]
  },
  {
   "cell_type": "code",
   "execution_count": 70,
   "id": "f5093324-c3dd-4d63-bc4c-8d945e5c8bbb",
   "metadata": {
    "execution": {
     "iopub.execute_input": "2025-07-30T13:13:56.873339Z",
     "iopub.status.busy": "2025-07-30T13:13:56.872971Z",
     "iopub.status.idle": "2025-07-30T13:13:56.881086Z",
     "shell.execute_reply": "2025-07-30T13:13:56.879682Z"
    },
    "papermill": {
     "duration": 0.027888,
     "end_time": "2025-07-30T13:13:56.885267",
     "exception": false,
     "start_time": "2025-07-30T13:13:56.857379",
     "status": "completed"
    },
    "tags": []
   },
   "outputs": [],
   "source": [
    "for subgroup, cov in cond_coverage.items():\n",
    "    cp_metrics_df[f\"cov_{subgroup}\"] = cov"
   ]
  },
  {
   "cell_type": "code",
   "execution_count": 71,
   "id": "6e872e10-dbe5-49e8-b554-5030c98ff75d",
   "metadata": {
    "execution": {
     "iopub.execute_input": "2025-07-30T13:13:56.940426Z",
     "iopub.status.busy": "2025-07-30T13:13:56.939784Z",
     "iopub.status.idle": "2025-07-30T13:13:56.959378Z",
     "shell.execute_reply": "2025-07-30T13:13:56.958411Z"
    },
    "papermill": {
     "duration": 0.047455,
     "end_time": "2025-07-30T13:13:56.961017",
     "exception": false,
     "start_time": "2025-07-30T13:13:56.913562",
     "status": "completed"
    },
    "tags": []
   },
   "outputs": [
    {
     "data": {
      "text/html": [
       "<div>\n",
       "<style scoped>\n",
       "    .dataframe tbody tr th:only-of-type {\n",
       "        vertical-align: middle;\n",
       "    }\n",
       "\n",
       "    .dataframe tbody tr th {\n",
       "        vertical-align: top;\n",
       "    }\n",
       "\n",
       "    .dataframe thead th {\n",
       "        text-align: right;\n",
       "    }\n",
       "</style>\n",
       "<table border=\"1\" class=\"dataframe\">\n",
       "  <thead>\n",
       "    <tr style=\"text-align: right;\">\n",
       "      <th></th>\n",
       "      <th>universe_id</th>\n",
       "      <th>universe_training_size</th>\n",
       "      <th>universe_scale</th>\n",
       "      <th>universe_model</th>\n",
       "      <th>universe_exclude_features</th>\n",
       "      <th>universe_exclude_subgroups</th>\n",
       "      <th>q_hat</th>\n",
       "      <th>coverage</th>\n",
       "      <th>avg_size</th>\n",
       "      <th>cov_frau1</th>\n",
       "      <th>cov_nongerman</th>\n",
       "      <th>cov_nongerman_male</th>\n",
       "      <th>cov_nongerman_female</th>\n",
       "    </tr>\n",
       "  </thead>\n",
       "  <tbody>\n",
       "    <tr>\n",
       "      <th>0</th>\n",
       "      <td>3bf18228d7305e666a9ed0efdacc6518</td>\n",
       "      <td>25k</td>\n",
       "      <td>do-not-scale</td>\n",
       "      <td>rf</td>\n",
       "      <td>none</td>\n",
       "      <td>drop-non-german</td>\n",
       "      <td>0.66</td>\n",
       "      <td>0.915639</td>\n",
       "      <td>1.148055</td>\n",
       "      <td>0.915649</td>\n",
       "      <td>0.908662</td>\n",
       "      <td>0.923894</td>\n",
       "      <td>0.883458</td>\n",
       "    </tr>\n",
       "  </tbody>\n",
       "</table>\n",
       "</div>"
      ],
      "text/plain": [
       "                        universe_id universe_training_size universe_scale  \\\n",
       "0  3bf18228d7305e666a9ed0efdacc6518                    25k   do-not-scale   \n",
       "\n",
       "  universe_model universe_exclude_features universe_exclude_subgroups  q_hat  \\\n",
       "0             rf                      none            drop-non-german   0.66   \n",
       "\n",
       "   coverage  avg_size  cov_frau1  cov_nongerman  cov_nongerman_male  \\\n",
       "0  0.915639  1.148055   0.915649       0.908662            0.923894   \n",
       "\n",
       "   cov_nongerman_female  \n",
       "0              0.883458  "
      ]
     },
     "execution_count": 71,
     "metadata": {},
     "output_type": "execute_result"
    }
   ],
   "source": [
    "cp_metrics_df"
   ]
  },
  {
   "cell_type": "markdown",
   "id": "33774451",
   "metadata": {
    "papermill": {
     "duration": 0.029691,
     "end_time": "2025-07-30T13:13:57.020911",
     "exception": false,
     "start_time": "2025-07-30T13:13:56.991220",
     "status": "completed"
    },
    "tags": []
   },
   "source": [
    "# (Fairness) Metrics"
   ]
  },
  {
   "cell_type": "code",
   "execution_count": 72,
   "id": "debc5d62",
   "metadata": {
    "execution": {
     "iopub.execute_input": "2025-07-30T13:13:57.079317Z",
     "iopub.status.busy": "2025-07-30T13:13:57.078817Z",
     "iopub.status.idle": "2025-07-30T13:13:57.102870Z",
     "shell.execute_reply": "2025-07-30T13:13:57.101741Z"
    },
    "papermill": {
     "duration": 0.055795,
     "end_time": "2025-07-30T13:13:57.104886",
     "exception": false,
     "start_time": "2025-07-30T13:13:57.049091",
     "status": "completed"
    },
    "tags": []
   },
   "outputs": [],
   "source": [
    "# do I need to include maxdeutsch1.missing?\n",
    "\n",
    "import numpy as np\n",
    "\n",
    "colname_to_bin = \"maxdeutsch1\"\n",
    "majority_value = org_train[colname_to_bin].mode()[0]\n",
    "\n",
    "org_test[\"majmin\"] = np.where(org_test[colname_to_bin] == majority_value, \"majority\", \"minority\")"
   ]
  },
  {
   "cell_type": "code",
   "execution_count": 73,
   "id": "06a50de5",
   "metadata": {
    "execution": {
     "iopub.execute_input": "2025-07-30T13:13:57.167521Z",
     "iopub.status.busy": "2025-07-30T13:13:57.166707Z",
     "iopub.status.idle": "2025-07-30T13:13:59.574861Z",
     "shell.execute_reply": "2025-07-30T13:13:59.574136Z"
    },
    "papermill": {
     "duration": 2.439768,
     "end_time": "2025-07-30T13:13:59.576290",
     "exception": false,
     "start_time": "2025-07-30T13:13:57.136522",
     "status": "completed"
    },
    "tags": []
   },
   "outputs": [],
   "source": [
    "example_universe = universe.copy()\n",
    "example_universe[\"cutoff\"] = example_universe[\"cutoff\"][0]\n",
    "example_universe[\"eval_fairness_grouping\"] = example_universe[\"eval_fairness_grouping\"][0]\n",
    "fairness_dict, metric_frame = universe_analysis.compute_metrics(\n",
    "    example_universe,\n",
    "    y_pred_prob=probs_test,\n",
    "    y_test=y_true,\n",
    "    org_test=org_test,\n",
    ")"
   ]
  },
  {
   "cell_type": "markdown",
   "id": "f95d4e02",
   "metadata": {
    "papermill": {
     "duration": 0.027493,
     "end_time": "2025-07-30T13:13:59.631142",
     "exception": false,
     "start_time": "2025-07-30T13:13:59.603649",
     "status": "completed"
    },
    "tags": []
   },
   "source": [
    "# Overall"
   ]
  },
  {
   "cell_type": "markdown",
   "id": "bdee4871",
   "metadata": {
    "papermill": {
     "duration": 0.025928,
     "end_time": "2025-07-30T13:13:59.685908",
     "exception": false,
     "start_time": "2025-07-30T13:13:59.659980",
     "status": "completed"
    },
    "tags": []
   },
   "source": [
    "Fairness\n",
    "Main fairness target: Equalized Odds. Seems to be a better fit than equal opportunity, since we're not only interested in Y = 1. Seems to be a better fit than demographic parity, since we also care about accuracy, not just equal distribution of preds.\n",
    "\n",
    "Pick column for computation of fairness metrics\n",
    "\n",
    "Performance\n",
    "Overall performance measures, most interesting in relation to the measures split by group below"
   ]
  },
  {
   "cell_type": "code",
   "execution_count": 74,
   "id": "c4e067c6",
   "metadata": {
    "execution": {
     "iopub.execute_input": "2025-07-30T13:13:59.743908Z",
     "iopub.status.busy": "2025-07-30T13:13:59.743384Z",
     "iopub.status.idle": "2025-07-30T13:13:59.751971Z",
     "shell.execute_reply": "2025-07-30T13:13:59.751127Z"
    },
    "papermill": {
     "duration": 0.039018,
     "end_time": "2025-07-30T13:13:59.753529",
     "exception": false,
     "start_time": "2025-07-30T13:13:59.714511",
     "status": "completed"
    },
    "tags": []
   },
   "outputs": [
    {
     "data": {
      "text/plain": [
       "accuracy                   0.191562\n",
       "balanced accuracy          0.528812\n",
       "f1                         0.237678\n",
       "precision                  0.135192\n",
       "false positive rate        0.924823\n",
       "false negative rate        0.017553\n",
       "selection rate             0.932215\n",
       "count                  89710.000000\n",
       "dtype: float64"
      ]
     },
     "execution_count": 74,
     "metadata": {},
     "output_type": "execute_result"
    }
   ],
   "source": [
    "metric_frame.overall"
   ]
  },
  {
   "cell_type": "markdown",
   "id": "e968fe9d",
   "metadata": {
    "papermill": {
     "duration": 0.025284,
     "end_time": "2025-07-30T13:13:59.804528",
     "exception": false,
     "start_time": "2025-07-30T13:13:59.779244",
     "status": "completed"
    },
    "tags": []
   },
   "source": [
    "By Group"
   ]
  },
  {
   "cell_type": "code",
   "execution_count": 75,
   "id": "ec325bce",
   "metadata": {
    "execution": {
     "iopub.execute_input": "2025-07-30T13:13:59.860399Z",
     "iopub.status.busy": "2025-07-30T13:13:59.859726Z",
     "iopub.status.idle": "2025-07-30T13:13:59.876141Z",
     "shell.execute_reply": "2025-07-30T13:13:59.875091Z"
    },
    "papermill": {
     "duration": 0.046535,
     "end_time": "2025-07-30T13:13:59.877778",
     "exception": false,
     "start_time": "2025-07-30T13:13:59.831243",
     "status": "completed"
    },
    "tags": []
   },
   "outputs": [
    {
     "data": {
      "text/html": [
       "<div>\n",
       "<style scoped>\n",
       "    .dataframe tbody tr th:only-of-type {\n",
       "        vertical-align: middle;\n",
       "    }\n",
       "\n",
       "    .dataframe tbody tr th {\n",
       "        vertical-align: top;\n",
       "    }\n",
       "\n",
       "    .dataframe thead th {\n",
       "        text-align: right;\n",
       "    }\n",
       "</style>\n",
       "<table border=\"1\" class=\"dataframe\">\n",
       "  <thead>\n",
       "    <tr style=\"text-align: right;\">\n",
       "      <th></th>\n",
       "      <th>accuracy</th>\n",
       "      <th>balanced accuracy</th>\n",
       "      <th>f1</th>\n",
       "      <th>precision</th>\n",
       "      <th>false positive rate</th>\n",
       "      <th>false negative rate</th>\n",
       "      <th>selection rate</th>\n",
       "      <th>count</th>\n",
       "    </tr>\n",
       "    <tr>\n",
       "      <th>majmin</th>\n",
       "      <th></th>\n",
       "      <th></th>\n",
       "      <th></th>\n",
       "      <th></th>\n",
       "      <th></th>\n",
       "      <th></th>\n",
       "      <th></th>\n",
       "      <th></th>\n",
       "    </tr>\n",
       "  </thead>\n",
       "  <tbody>\n",
       "    <tr>\n",
       "      <th>majority</th>\n",
       "      <td>0.190386</td>\n",
       "      <td>0.529709</td>\n",
       "      <td>0.244404</td>\n",
       "      <td>0.139392</td>\n",
       "      <td>0.931501</td>\n",
       "      <td>0.009081</td>\n",
       "      <td>0.939352</td>\n",
       "      <td>69170.0</td>\n",
       "    </tr>\n",
       "    <tr>\n",
       "      <th>minority</th>\n",
       "      <td>0.195521</td>\n",
       "      <td>0.523492</td>\n",
       "      <td>0.213966</td>\n",
       "      <td>0.120564</td>\n",
       "      <td>0.902762</td>\n",
       "      <td>0.050253</td>\n",
       "      <td>0.908179</td>\n",
       "      <td>20540.0</td>\n",
       "    </tr>\n",
       "  </tbody>\n",
       "</table>\n",
       "</div>"
      ],
      "text/plain": [
       "          accuracy  balanced accuracy        f1  precision  \\\n",
       "majmin                                                       \n",
       "majority  0.190386           0.529709  0.244404   0.139392   \n",
       "minority  0.195521           0.523492  0.213966   0.120564   \n",
       "\n",
       "          false positive rate  false negative rate  selection rate    count  \n",
       "majmin                                                                       \n",
       "majority             0.931501             0.009081        0.939352  69170.0  \n",
       "minority             0.902762             0.050253        0.908179  20540.0  "
      ]
     },
     "execution_count": 75,
     "metadata": {},
     "output_type": "execute_result"
    }
   ],
   "source": [
    "metric_frame.by_group"
   ]
  },
  {
   "cell_type": "code",
   "execution_count": 76,
   "id": "a9ddbe63",
   "metadata": {
    "execution": {
     "iopub.execute_input": "2025-07-30T13:13:59.937890Z",
     "iopub.status.busy": "2025-07-30T13:13:59.937466Z",
     "iopub.status.idle": "2025-07-30T13:14:02.320188Z",
     "shell.execute_reply": "2025-07-30T13:14:02.319236Z"
    },
    "papermill": {
     "duration": 2.41372,
     "end_time": "2025-07-30T13:14:02.321787",
     "exception": false,
     "start_time": "2025-07-30T13:13:59.908067",
     "status": "completed"
    },
    "tags": []
   },
   "outputs": [
    {
     "data": {
      "text/plain": [
       "array([[<Axes: title={'center': 'accuracy'}, xlabel='majmin'>,\n",
       "        <Axes: title={'center': 'balanced accuracy'}, xlabel='majmin'>,\n",
       "        <Axes: title={'center': 'f1'}, xlabel='majmin'>],\n",
       "       [<Axes: title={'center': 'precision'}, xlabel='majmin'>,\n",
       "        <Axes: title={'center': 'false positive rate'}, xlabel='majmin'>,\n",
       "        <Axes: title={'center': 'false negative rate'}, xlabel='majmin'>],\n",
       "       [<Axes: title={'center': 'selection rate'}, xlabel='majmin'>,\n",
       "        <Axes: title={'center': 'count'}, xlabel='majmin'>,\n",
       "        <Axes: xlabel='majmin'>]], dtype=object)"
      ]
     },
     "execution_count": 76,
     "metadata": {},
     "output_type": "execute_result"
    },
    {
     "data": {
      "image/png": "[encoded data removed]",
      "text/plain": [
       "<Figure size 1200x800 with 9 Axes>"
      ]
     },
     "metadata": {},
     "output_type": "display_data"
    }
   ],
   "source": [
    "# In a graphic\n",
    "metric_frame.by_group.plot.bar(\n",
    "    subplots=True,\n",
    "    layout=[3, 3],\n",
    "    legend=False,\n",
    "    figsize=[12, 8],\n",
    "    title=\"Show all metrics\",\n",
    ")"
   ]
  },
  {
   "cell_type": "markdown",
   "id": "f57a0bac",
   "metadata": {
    "papermill": {
     "duration": 0.030034,
     "end_time": "2025-07-30T13:14:02.382625",
     "exception": false,
     "start_time": "2025-07-30T13:14:02.352591",
     "status": "completed"
    },
    "tags": []
   },
   "source": [
    "# Final Output"
   ]
  },
  {
   "cell_type": "code",
   "execution_count": 77,
   "id": "96d280a3",
   "metadata": {
    "execution": {
     "iopub.execute_input": "2025-07-30T13:14:02.442868Z",
     "iopub.status.busy": "2025-07-30T13:14:02.442251Z",
     "iopub.status.idle": "2025-07-30T13:14:02.450067Z",
     "shell.execute_reply": "2025-07-30T13:14:02.449194Z"
    },
    "papermill": {
     "duration": 0.040438,
     "end_time": "2025-07-30T13:14:02.451593",
     "exception": false,
     "start_time": "2025-07-30T13:14:02.411155",
     "status": "completed"
    },
    "tags": []
   },
   "outputs": [
    {
     "data": {
      "text/plain": [
       "4"
      ]
     },
     "execution_count": 77,
     "metadata": {},
     "output_type": "execute_result"
    }
   ],
   "source": [
    "sub_universes = universe_analysis.generate_sub_universes()\n",
    "len(sub_universes)"
   ]
  },
  {
   "cell_type": "code",
   "execution_count": 78,
   "id": "92adf7ba",
   "metadata": {
    "execution": {
     "iopub.execute_input": "2025-07-30T13:14:02.514325Z",
     "iopub.status.busy": "2025-07-30T13:14:02.513760Z",
     "iopub.status.idle": "2025-07-30T13:14:02.519857Z",
     "shell.execute_reply": "2025-07-30T13:14:02.519035Z"
    },
    "papermill": {
     "duration": 0.04004,
     "end_time": "2025-07-30T13:14:02.521280",
     "exception": false,
     "start_time": "2025-07-30T13:14:02.481240",
     "status": "completed"
    },
    "tags": []
   },
   "outputs": [],
   "source": [
    "def filter_sub_universe_data(sub_universe, org_test):\n",
    "    # Keep all rows — no filtering\n",
    "    keep_rows_mask = np.ones(org_test.shape[0], dtype=bool)\n",
    "\n",
    "    print(f\"[INFO] Keeping all rows: {keep_rows_mask.sum()} rows retained.\")\n",
    "    return keep_rows_mask"
   ]
  },
  {
   "cell_type": "code",
   "execution_count": 79,
   "id": "4a759155",
   "metadata": {
    "execution": {
     "iopub.execute_input": "2025-07-30T13:14:02.584573Z",
     "iopub.status.busy": "2025-07-30T13:14:02.583570Z",
     "iopub.status.idle": "2025-07-30T13:14:13.076067Z",
     "shell.execute_reply": "2025-07-30T13:14:13.074916Z"
    },
    "papermill": {
     "duration": 10.52637,
     "end_time": "2025-07-30T13:14:13.077794",
     "exception": false,
     "start_time": "2025-07-30T13:14:02.551424",
     "status": "completed"
    },
    "tags": []
   },
   "outputs": [
    {
     "name": "stdout",
     "output_type": "stream",
     "text": [
      "Stopping execution_time clock.\n",
      "[INFO] Keeping all rows: 89710 rows retained.\n"
     ]
    },
    {
     "name": "stdout",
     "output_type": "stream",
     "text": [
      "[INFO] Keeping all rows: 89710 rows retained.\n"
     ]
    },
    {
     "name": "stdout",
     "output_type": "stream",
     "text": [
      "[INFO] Keeping all rows: 89710 rows retained.\n"
     ]
    },
    {
     "name": "stdout",
     "output_type": "stream",
     "text": [
      "[INFO] Keeping all rows: 89710 rows retained.\n"
     ]
    },
    {
     "data": {
      "text/html": [
       "<div>\n",
       "<style scoped>\n",
       "    .dataframe tbody tr th:only-of-type {\n",
       "        vertical-align: middle;\n",
       "    }\n",
       "\n",
       "    .dataframe tbody tr th {\n",
       "        vertical-align: top;\n",
       "    }\n",
       "\n",
       "    .dataframe thead th {\n",
       "        text-align: right;\n",
       "    }\n",
       "</style>\n",
       "<table border=\"1\" class=\"dataframe\">\n",
       "  <thead>\n",
       "    <tr style=\"text-align: right;\">\n",
       "      <th></th>\n",
       "      <th>run_no</th>\n",
       "      <th>universe_id</th>\n",
       "      <th>universe_settings</th>\n",
       "      <th>execution_time</th>\n",
       "      <th>test_size_n</th>\n",
       "      <th>test_size_frac</th>\n",
       "      <th>fair_main_equalized_odds_difference</th>\n",
       "      <th>fair_main_equalized_odds_ratio</th>\n",
       "      <th>fair_main_demographic_parity_difference</th>\n",
       "      <th>fair_main_demographic_parity_ratio</th>\n",
       "      <th>...</th>\n",
       "      <th>perf_grp_precision_0</th>\n",
       "      <th>perf_grp_precision_1</th>\n",
       "      <th>perf_grp_false positive rate_0</th>\n",
       "      <th>perf_grp_false positive rate_1</th>\n",
       "      <th>perf_grp_false negative rate_0</th>\n",
       "      <th>perf_grp_false negative rate_1</th>\n",
       "      <th>perf_grp_selection rate_0</th>\n",
       "      <th>perf_grp_selection rate_1</th>\n",
       "      <th>perf_grp_count_0</th>\n",
       "      <th>perf_grp_count_1</th>\n",
       "    </tr>\n",
       "  </thead>\n",
       "  <tbody>\n",
       "    <tr>\n",
       "      <th>0</th>\n",
       "      <td>12</td>\n",
       "      <td>3bf18228d7305e666a9ed0efdacc6518</td>\n",
       "      <td>{\"cutoff\": \"quantile_0.1\", \"eval_fairness_grou...</td>\n",
       "      <td>36.833808</td>\n",
       "      <td>89710</td>\n",
       "      <td>1.0</td>\n",
       "      <td>0.041172</td>\n",
       "      <td>0.958450</td>\n",
       "      <td>0.031173</td>\n",
       "      <td>0.966814</td>\n",
       "      <td>...</td>\n",
       "      <td>NaN</td>\n",
       "      <td>NaN</td>\n",
       "      <td>NaN</td>\n",
       "      <td>NaN</td>\n",
       "      <td>NaN</td>\n",
       "      <td>NaN</td>\n",
       "      <td>NaN</td>\n",
       "      <td>NaN</td>\n",
       "      <td>NaN</td>\n",
       "      <td>NaN</td>\n",
       "    </tr>\n",
       "    <tr>\n",
       "      <th>0</th>\n",
       "      <td>12</td>\n",
       "      <td>3bf18228d7305e666a9ed0efdacc6518</td>\n",
       "      <td>{\"cutoff\": \"quantile_0.1\", \"eval_fairness_grou...</td>\n",
       "      <td>36.833808</td>\n",
       "      <td>89710</td>\n",
       "      <td>1.0</td>\n",
       "      <td>0.041172</td>\n",
       "      <td>0.958450</td>\n",
       "      <td>0.031173</td>\n",
       "      <td>0.966814</td>\n",
       "      <td>...</td>\n",
       "      <td>0.120564</td>\n",
       "      <td>0.139392</td>\n",
       "      <td>0.902762</td>\n",
       "      <td>0.931501</td>\n",
       "      <td>0.050253</td>\n",
       "      <td>0.009081</td>\n",
       "      <td>0.908179</td>\n",
       "      <td>0.939352</td>\n",
       "      <td>20540.0</td>\n",
       "      <td>69170.0</td>\n",
       "    </tr>\n",
       "    <tr>\n",
       "      <th>0</th>\n",
       "      <td>12</td>\n",
       "      <td>3bf18228d7305e666a9ed0efdacc6518</td>\n",
       "      <td>{\"cutoff\": \"quantile_0.25\", \"eval_fairness_gro...</td>\n",
       "      <td>36.833808</td>\n",
       "      <td>89710</td>\n",
       "      <td>1.0</td>\n",
       "      <td>0.083549</td>\n",
       "      <td>0.912876</td>\n",
       "      <td>0.040317</td>\n",
       "      <td>0.949146</td>\n",
       "      <td>...</td>\n",
       "      <td>NaN</td>\n",
       "      <td>NaN</td>\n",
       "      <td>NaN</td>\n",
       "      <td>NaN</td>\n",
       "      <td>NaN</td>\n",
       "      <td>NaN</td>\n",
       "      <td>NaN</td>\n",
       "      <td>NaN</td>\n",
       "      <td>NaN</td>\n",
       "      <td>NaN</td>\n",
       "    </tr>\n",
       "    <tr>\n",
       "      <th>0</th>\n",
       "      <td>12</td>\n",
       "      <td>3bf18228d7305e666a9ed0efdacc6518</td>\n",
       "      <td>{\"cutoff\": \"quantile_0.25\", \"eval_fairness_gro...</td>\n",
       "      <td>36.833808</td>\n",
       "      <td>89710</td>\n",
       "      <td>1.0</td>\n",
       "      <td>0.083549</td>\n",
       "      <td>0.912876</td>\n",
       "      <td>0.040317</td>\n",
       "      <td>0.949146</td>\n",
       "      <td>...</td>\n",
       "      <td>0.134123</td>\n",
       "      <td>0.159834</td>\n",
       "      <td>0.736463</td>\n",
       "      <td>0.767500</td>\n",
       "      <td>0.124578</td>\n",
       "      <td>0.041028</td>\n",
       "      <td>0.752483</td>\n",
       "      <td>0.792800</td>\n",
       "      <td>20540.0</td>\n",
       "      <td>69170.0</td>\n",
       "    </tr>\n",
       "  </tbody>\n",
       "</table>\n",
       "<p>4 rows × 50 columns</p>\n",
       "</div>"
      ],
      "text/plain": [
       "  run_no                       universe_id  \\\n",
       "0     12  3bf18228d7305e666a9ed0efdacc6518   \n",
       "0     12  3bf18228d7305e666a9ed0efdacc6518   \n",
       "0     12  3bf18228d7305e666a9ed0efdacc6518   \n",
       "0     12  3bf18228d7305e666a9ed0efdacc6518   \n",
       "\n",
       "                                   universe_settings  execution_time  \\\n",
       "0  {\"cutoff\": \"quantile_0.1\", \"eval_fairness_grou...       36.833808   \n",
       "0  {\"cutoff\": \"quantile_0.1\", \"eval_fairness_grou...       36.833808   \n",
       "0  {\"cutoff\": \"quantile_0.25\", \"eval_fairness_gro...       36.833808   \n",
       "0  {\"cutoff\": \"quantile_0.25\", \"eval_fairness_gro...       36.833808   \n",
       "\n",
       "   test_size_n  test_size_frac  fair_main_equalized_odds_difference  \\\n",
       "0        89710             1.0                             0.041172   \n",
       "0        89710             1.0                             0.041172   \n",
       "0        89710             1.0                             0.083549   \n",
       "0        89710             1.0                             0.083549   \n",
       "\n",
       "   fair_main_equalized_odds_ratio  fair_main_demographic_parity_difference  \\\n",
       "0                        0.958450                                 0.031173   \n",
       "0                        0.958450                                 0.031173   \n",
       "0                        0.912876                                 0.040317   \n",
       "0                        0.912876                                 0.040317   \n",
       "\n",
       "   fair_main_demographic_parity_ratio  ...  perf_grp_precision_0  \\\n",
       "0                            0.966814  ...                   NaN   \n",
       "0                            0.966814  ...              0.120564   \n",
       "0                            0.949146  ...                   NaN   \n",
       "0                            0.949146  ...              0.134123   \n",
       "\n",
       "   perf_grp_precision_1  perf_grp_false positive rate_0  \\\n",
       "0                   NaN                             NaN   \n",
       "0              0.139392                        0.902762   \n",
       "0                   NaN                             NaN   \n",
       "0              0.159834                        0.736463   \n",
       "\n",
       "   perf_grp_false positive rate_1  perf_grp_false negative rate_0  \\\n",
       "0                             NaN                             NaN   \n",
       "0                        0.931501                        0.050253   \n",
       "0                             NaN                             NaN   \n",
       "0                        0.767500                        0.124578   \n",
       "\n",
       "   perf_grp_false negative rate_1  perf_grp_selection rate_0  \\\n",
       "0                             NaN                        NaN   \n",
       "0                        0.009081                   0.908179   \n",
       "0                             NaN                        NaN   \n",
       "0                        0.041028                   0.752483   \n",
       "\n",
       "   perf_grp_selection rate_1  perf_grp_count_0  perf_grp_count_1  \n",
       "0                        NaN               NaN               NaN  \n",
       "0                   0.939352           20540.0           69170.0  \n",
       "0                        NaN               NaN               NaN  \n",
       "0                   0.792800           20540.0           69170.0  \n",
       "\n",
       "[4 rows x 50 columns]"
      ]
     },
     "execution_count": 79,
     "metadata": {},
     "output_type": "execute_result"
    }
   ],
   "source": [
    "final_output = universe_analysis.generate_final_output(\n",
    "    y_pred_prob=probs_test,\n",
    "    y_test=y_true,\n",
    "    org_test=org_test,\n",
    "    filter_data=filter_sub_universe_data,\n",
    "    cp_metrics_df=cp_metrics_df,\n",
    "    save=True,\n",
    ")\n",
    "final_output"
   ]
  },
  {
   "cell_type": "code",
   "execution_count": null,
   "id": "721ff514-cb11-46f8-b6fc-50392f74b5cb",
   "metadata": {
    "papermill": {
     "duration": 0.032445,
     "end_time": "2025-07-30T13:14:13.144233",
     "exception": false,
     "start_time": "2025-07-30T13:14:13.111788",
     "status": "completed"
    },
    "tags": []
   },
   "outputs": [],
   "source": []
  }
 ],
 "metadata": {
  "celltoolbar": "Tags",
  "kernelspec": {
   "display_name": "Python (CMA Fairness)",
   "language": "python",
   "name": "cma_fair_env"
  },
  "language_info": {
   "codemirror_mode": {
    "name": "ipython",
    "version": 3
   },
   "file_extension": ".py",
   "mimetype": "text/x-python",
   "name": "python",
   "nbconvert_exporter": "python",
   "pygments_lexer": "ipython3",
   "version": "3.10.12"
  },
  "papermill": {
   "default_parameters": {},
   "duration": 51.813988,
   "end_time": "2025-07-30T13:14:14.199169",
   "environment_variables": {},
   "exception": null,
   "input_path": "universe_analysis.ipynb",
   "output_path": "output/runs/12/notebooks/m_12-3bf18228d7305e666a9ed0efdacc6518.ipynb",
   "parameters": {
    "output_dir": "output",
    "run_no": "12",
    "seed": "2023",
    "universe": "{\"cutoff\": [\"quantile_0.1\", \"quantile_0.25\"], \"eval_fairness_grouping\": [\"majority-minority\", \"nationality-all\"], \"exclude_features\": \"none\", \"exclude_subgroups\": \"drop-non-german\", \"model\": \"rf\", \"scale\": \"do-not-scale\", \"training_size\": \"25k\", \"training_year\": \"2012_14\"}",
    "universe_id": "3bf18228d7305e666a9ed0efdacc6518"
   },
   "start_time": "2025-07-30T13:13:22.385181",
   "version": "2.6.0"
  }
 },
 "nbformat": 4,
 "nbformat_minor": 5
}