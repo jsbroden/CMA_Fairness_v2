{
 "cells": [
  {
   "cell_type": "code",
   "execution_count": 1,
   "id": "f159f837-637b-42ba-96b5-ec9a68c44524",
   "metadata": {
    "execution": {
     "iopub.execute_input": "2025-07-30T13:58:45.772359Z",
     "iopub.status.busy": "2025-07-30T13:58:45.771892Z",
     "iopub.status.idle": "2025-07-30T13:58:45.787123Z",
     "shell.execute_reply": "2025-07-30T13:58:45.786109Z"
    },
    "papermill": {
     "duration": 0.040326,
     "end_time": "2025-07-30T13:58:45.789222",
     "exception": false,
     "start_time": "2025-07-30T13:58:45.748896",
     "status": "completed"
    },
    "tags": []
   },
   "outputs": [
    {
     "name": "stdout",
     "output_type": "stream",
     "text": [
      "/dss/dsshome1/0C/ra93lal2/cma/CMA_Fairness_v2\n"
     ]
    },
    {
     "name": "stderr",
     "output_type": "stream",
     "text": [
      "/dss/dsshome1/0C/ra93lal2/.local/share/virtualenvs/CMA_Fairness_v2-3j10GkSs/lib/python3.10/site-packages/IPython/core/magics/osm.py:393: UserWarning: This is now an optional IPython functionality, using bookmarks requires you to install the `pickleshare` library.\n",
      "  bkms = self.shell.db.get('bookmarks', {})\n",
      "/dss/dsshome1/0C/ra93lal2/.local/share/virtualenvs/CMA_Fairness_v2-3j10GkSs/lib/python3.10/site-packages/IPython/core/magics/osm.py:417: UserWarning: This is now an optional IPython functionality, setting dhist requires you to install the `pickleshare` library.\n",
      "  self.shell.db['dhist'] = compress_dhist(dhist)[-100:]\n"
     ]
    }
   ],
   "source": [
    "%cd ~/cma/CMA_Fairness_v2"
   ]
  },
  {
   "cell_type": "markdown",
   "id": "de2603b9",
   "metadata": {
    "papermill": {
     "duration": 0.020269,
     "end_time": "2025-07-30T13:58:45.830095",
     "exception": false,
     "start_time": "2025-07-30T13:58:45.809826",
     "status": "completed"
    },
    "tags": []
   },
   "source": [
    "The following cell holds the definition of our parameters, these values can be overriden by rendering the with e.g. the following command:\n",
    "\n",
    "papermill -p alpha 0.2 -p ratio 0.3 universe_analysis.ipynb output/test_run.ipynb"
   ]
  },
  {
   "cell_type": "code",
   "execution_count": 2,
   "id": "a80968a0-40bb-4fa9-85ef-2d5eefb01975",
   "metadata": {
    "execution": {
     "iopub.execute_input": "2025-07-30T13:58:45.873764Z",
     "iopub.status.busy": "2025-07-30T13:58:45.873103Z",
     "iopub.status.idle": "2025-07-30T13:58:45.881178Z",
     "shell.execute_reply": "2025-07-30T13:58:45.878484Z"
    },
    "papermill": {
     "duration": 0.031071,
     "end_time": "2025-07-30T13:58:45.882676",
     "exception": false,
     "start_time": "2025-07-30T13:58:45.851605",
     "status": "completed"
    },
    "tags": []
   },
   "outputs": [
    {
     "name": "stdout",
     "output_type": "stream",
     "text": [
      "Current working directory: /dss/dsshome1/0C/ra93lal2/cma/CMA_Fairness_v2\n"
     ]
    }
   ],
   "source": [
    "import os\n",
    "print(\"Current working directory:\", os.getcwd())"
   ]
  },
  {
   "cell_type": "code",
   "execution_count": 3,
   "id": "2dce4c03",
   "metadata": {
    "execution": {
     "iopub.execute_input": "2025-07-30T13:58:45.908754Z",
     "iopub.status.busy": "2025-07-30T13:58:45.907792Z",
     "iopub.status.idle": "2025-07-30T13:58:45.913691Z",
     "shell.execute_reply": "2025-07-30T13:58:45.912745Z"
    },
    "papermill": {
     "duration": 0.01934,
     "end_time": "2025-07-30T13:58:45.915741",
     "exception": false,
     "start_time": "2025-07-30T13:58:45.896401",
     "status": "completed"
    },
    "tags": [
     "parameters"
    ]
   },
   "outputs": [],
   "source": [
    "run_no = 0\n",
    "universe_id = \"test\"\n",
    "universe = {\n",
    "    \"training_size\": \"25k\", # \"25k\", \"5k\", \"1k\"\n",
    "    \"training_year\": \"2014\", # \"2014\", \"2012_14\", \"2010_14\"\n",
    "    \"scale\": \"scale\", # \"scale\", \"do-not-scale\",\n",
    "    #\"stratify_split\": \"target\", # \"none\", \"target\", \"protected-attribute\", \"both\",\n",
    "    \"model\": \"elasticnet\", # \"logreg\", \"penalized_logreg\", \"rf\", \"gbm\", \"elasticnet\"\n",
    "    \"cutoff\": [\"quantile_0.15\", \"quantile_0.30\"],\n",
    "    \"exclude_features\": \"age\", # \"none\", \"nationality\", \"sex\", \"nationality-sex\", \"age\"\n",
    "    \"exclude_subgroups\": \"keep-all\", # \"keep-all\", \"drop-non-german\"\n",
    "    \"eval_fairness_grouping\": [\"majority-minority\", \"nationality-all\"]\n",
    "}\n",
    "\n",
    "output_dir=\"./output\"\n",
    "seed=0"
   ]
  },
  {
   "cell_type": "code",
   "execution_count": 4,
   "id": "f269e4c0",
   "metadata": {
    "execution": {
     "iopub.execute_input": "2025-07-30T13:58:45.953341Z",
     "iopub.status.busy": "2025-07-30T13:58:45.952837Z",
     "iopub.status.idle": "2025-07-30T13:58:45.958203Z",
     "shell.execute_reply": "2025-07-30T13:58:45.957269Z"
    },
    "papermill": {
     "duration": 0.022625,
     "end_time": "2025-07-30T13:58:45.959847",
     "exception": false,
     "start_time": "2025-07-30T13:58:45.937222",
     "status": "completed"
    },
    "tags": [
     "injected-parameters"
    ]
   },
   "outputs": [],
   "source": [
    "# Parameters\n",
    "universe_id = \"3dc49f795517d0959d7f441c87b53566\"\n",
    "run_no = \"12\"\n",
    "universe = \"{\\\"cutoff\\\": [\\\"quantile_0.1\\\", \\\"quantile_0.25\\\"], \\\"eval_fairness_grouping\\\": [\\\"majority-minority\\\", \\\"nationality-all\\\"], \\\"exclude_features\\\": \\\"age\\\", \\\"exclude_subgroups\\\": \\\"keep-all\\\", \\\"model\\\": \\\"elasticnet\\\", \\\"scale\\\": \\\"scale\\\", \\\"training_size\\\": \\\"5k\\\", \\\"training_year\\\": \\\"2012_14\\\"}\"\n",
    "output_dir = \"output\"\n",
    "seed = \"2023\"\n"
   ]
  },
  {
   "cell_type": "code",
   "execution_count": 5,
   "id": "1650acaf",
   "metadata": {
    "execution": {
     "iopub.execute_input": "2025-07-30T13:58:46.004026Z",
     "iopub.status.busy": "2025-07-30T13:58:46.003629Z",
     "iopub.status.idle": "2025-07-30T13:58:46.011949Z",
     "shell.execute_reply": "2025-07-30T13:58:46.010637Z"
    },
    "papermill": {
     "duration": 0.032887,
     "end_time": "2025-07-30T13:58:46.014116",
     "exception": false,
     "start_time": "2025-07-30T13:58:45.981229",
     "status": "completed"
    },
    "tags": []
   },
   "outputs": [],
   "source": [
    "import json\n",
    "# Parse universe into dict if it is passed as a string\n",
    "if isinstance(universe, str):\n",
    "    universe = json.loads(universe)"
   ]
  },
  {
   "cell_type": "code",
   "execution_count": 6,
   "id": "16620c48",
   "metadata": {
    "execution": {
     "iopub.execute_input": "2025-07-30T13:58:46.058329Z",
     "iopub.status.busy": "2025-07-30T13:58:46.057857Z",
     "iopub.status.idle": "2025-07-30T13:58:46.103889Z",
     "shell.execute_reply": "2025-07-30T13:58:46.102867Z"
    },
    "papermill": {
     "duration": 0.069502,
     "end_time": "2025-07-30T13:58:46.105511",
     "exception": false,
     "start_time": "2025-07-30T13:58:46.036009",
     "status": "completed"
    },
    "tags": []
   },
   "outputs": [],
   "source": [
    "# Auto-reload the custom package\n",
    "%load_ext autoreload\n",
    "%autoreload 1\n",
    "%aimport fairness_multiverse"
   ]
  },
  {
   "cell_type": "code",
   "execution_count": 7,
   "id": "01c5c9f3",
   "metadata": {
    "execution": {
     "iopub.execute_input": "2025-07-30T13:58:46.141212Z",
     "iopub.status.busy": "2025-07-30T13:58:46.140246Z",
     "iopub.status.idle": "2025-07-30T13:58:48.111837Z",
     "shell.execute_reply": "2025-07-30T13:58:48.110839Z"
    },
    "papermill": {
     "duration": 1.989191,
     "end_time": "2025-07-30T13:58:48.113825",
     "exception": false,
     "start_time": "2025-07-30T13:58:46.124634",
     "status": "completed"
    },
    "tags": []
   },
   "outputs": [],
   "source": [
    "from fairness_multiverse.universe import UniverseAnalysis\n",
    "\n",
    "universe_analysis = UniverseAnalysis(\n",
    "    run_no = run_no,\n",
    "    universe_id = universe_id,\n",
    "    universe = universe,\n",
    "    output_dir=output_dir,\n",
    ")"
   ]
  },
  {
   "cell_type": "code",
   "execution_count": 8,
   "id": "106241f5",
   "metadata": {
    "execution": {
     "iopub.execute_input": "2025-07-30T13:58:48.159038Z",
     "iopub.status.busy": "2025-07-30T13:58:48.158520Z",
     "iopub.status.idle": "2025-07-30T13:58:48.165033Z",
     "shell.execute_reply": "2025-07-30T13:58:48.164001Z"
    },
    "papermill": {
     "duration": 0.032715,
     "end_time": "2025-07-30T13:58:48.167852",
     "exception": false,
     "start_time": "2025-07-30T13:58:48.135137",
     "status": "completed"
    },
    "tags": []
   },
   "outputs": [
    {
     "name": "stdout",
     "output_type": "stream",
     "text": [
      "Using Seed: 2023\n"
     ]
    }
   ],
   "source": [
    "import numpy as np\n",
    "parsed_seed = int(seed)\n",
    "np.random.seed(parsed_seed)\n",
    "print(f\"Using Seed: {parsed_seed}\")"
   ]
  },
  {
   "cell_type": "markdown",
   "id": "e0ebdc57",
   "metadata": {
    "papermill": {
     "duration": 0.022263,
     "end_time": "2025-07-30T13:58:48.212660",
     "exception": false,
     "start_time": "2025-07-30T13:58:48.190397",
     "status": "completed"
    },
    "tags": []
   },
   "source": [
    "# Loading Data"
   ]
  },
  {
   "cell_type": "markdown",
   "id": "681925a3",
   "metadata": {
    "papermill": {
     "duration": 0.021035,
     "end_time": "2025-07-30T13:58:48.254459",
     "exception": false,
     "start_time": "2025-07-30T13:58:48.233424",
     "status": "completed"
    },
    "tags": []
   },
   "source": [
    "Load siab_train, siab_test, siab_calib and/or \n",
    "load siab_train_features, siab_train_labels"
   ]
  },
  {
   "cell_type": "code",
   "execution_count": 9,
   "id": "f0496b8a",
   "metadata": {
    "execution": {
     "iopub.execute_input": "2025-07-30T13:58:48.299307Z",
     "iopub.status.busy": "2025-07-30T13:58:48.298657Z",
     "iopub.status.idle": "2025-07-30T13:59:00.432581Z",
     "shell.execute_reply": "2025-07-30T13:59:00.431283Z"
    },
    "papermill": {
     "duration": 12.158352,
     "end_time": "2025-07-30T13:59:00.434393",
     "exception": false,
     "start_time": "2025-07-30T13:58:48.276041",
     "status": "completed"
    },
    "tags": []
   },
   "outputs": [
    {
     "name": "stdout",
     "output_type": "stream",
     "text": [
      "Loading SIAB data from cache: data/siab_cached.csv.gz\n"
     ]
    },
    {
     "name": "stdout",
     "output_type": "stream",
     "text": [
      "(643690, 164)\n"
     ]
    }
   ],
   "source": [
    "from pathlib import Path\n",
    "import pandas as pd\n",
    "\n",
    "# File paths\n",
    "raw_file = Path(\"data/raw/siab.csv\")\n",
    "cache_file = Path(\"data/siab_cached.csv.gz\")\n",
    "\n",
    "# Ensure cache directory exists\n",
    "cache_file.parent.mkdir(parents=True, exist_ok=True)\n",
    "\n",
    "# Load with simple caching\n",
    "if cache_file.exists():\n",
    "    print(f\"Loading SIAB data from cache: {cache_file}\")\n",
    "    siab = pd.read_csv(cache_file, compression='gzip')\n",
    "else:\n",
    "    print(f\"Cache not found. Reading raw SIAB data: {raw_file}\")\n",
    "    siab = pd.read_csv(raw_file)\n",
    "    siab.to_csv(cache_file, index=False, compression='gzip')\n",
    "    print(f\"Cached SIAB data to: {cache_file}\")\n",
    "\n",
    "# Now use `siab` DataFrame as needed\n",
    "print(siab.shape)"
   ]
  },
  {
   "cell_type": "code",
   "execution_count": 10,
   "id": "db0ca512-5f53-4dba-abdb-a2888bca41ba",
   "metadata": {
    "execution": {
     "iopub.execute_input": "2025-07-30T13:59:00.480721Z",
     "iopub.status.busy": "2025-07-30T13:59:00.479427Z",
     "iopub.status.idle": "2025-07-30T13:59:00.485381Z",
     "shell.execute_reply": "2025-07-30T13:59:00.484274Z"
    },
    "papermill": {
     "duration": 0.035298,
     "end_time": "2025-07-30T13:59:00.494302",
     "exception": false,
     "start_time": "2025-07-30T13:59:00.459004",
     "status": "completed"
    },
    "tags": []
   },
   "outputs": [],
   "source": [
    "#siab"
   ]
  },
  {
   "cell_type": "code",
   "execution_count": 11,
   "id": "a0edb063",
   "metadata": {
    "execution": {
     "iopub.execute_input": "2025-07-30T13:59:00.534705Z",
     "iopub.status.busy": "2025-07-30T13:59:00.534012Z",
     "iopub.status.idle": "2025-07-30T13:59:00.539688Z",
     "shell.execute_reply": "2025-07-30T13:59:00.538623Z"
    },
    "papermill": {
     "duration": 0.031414,
     "end_time": "2025-07-30T13:59:00.541618",
     "exception": false,
     "start_time": "2025-07-30T13:59:00.510204",
     "status": "completed"
    },
    "tags": []
   },
   "outputs": [],
   "source": [
    "#import pandas as pd\n",
    "#\n",
    "#X_train = pd.read_csv(\"./data/X_train.csv\")\n",
    "#y_train = pd.read_csv(\"./data/y_train.csv\")"
   ]
  },
  {
   "cell_type": "code",
   "execution_count": 12,
   "id": "63d08085",
   "metadata": {
    "execution": {
     "iopub.execute_input": "2025-07-30T13:59:00.572301Z",
     "iopub.status.busy": "2025-07-30T13:59:00.571873Z",
     "iopub.status.idle": "2025-07-30T13:59:00.576844Z",
     "shell.execute_reply": "2025-07-30T13:59:00.576044Z"
    },
    "papermill": {
     "duration": 0.018962,
     "end_time": "2025-07-30T13:59:00.578187",
     "exception": false,
     "start_time": "2025-07-30T13:59:00.559225",
     "status": "completed"
    },
    "tags": []
   },
   "outputs": [],
   "source": [
    "#X_test = pd.read_csv(\"./data/X_test.csv\")\n",
    "#y_true = pd.read_csv(\"./data/y_test.csv\")"
   ]
  },
  {
   "cell_type": "code",
   "execution_count": 13,
   "id": "98a8d0fa-1d3d-4ed8-bb2c-281470e24add",
   "metadata": {
    "execution": {
     "iopub.execute_input": "2025-07-30T13:59:00.605932Z",
     "iopub.status.busy": "2025-07-30T13:59:00.605526Z",
     "iopub.status.idle": "2025-07-30T13:59:00.611007Z",
     "shell.execute_reply": "2025-07-30T13:59:00.610093Z"
    },
    "papermill": {
     "duration": 0.022363,
     "end_time": "2025-07-30T13:59:00.612789",
     "exception": false,
     "start_time": "2025-07-30T13:59:00.590426",
     "status": "completed"
    },
    "tags": []
   },
   "outputs": [],
   "source": [
    "# Calibration data for conformal\n",
    "#X_calib = pd.read_csv(\"./data/X_calib.csv\")\n",
    "#y_calib = pd.read_csv(\"./data/y_calib.csv\")"
   ]
  },
  {
   "cell_type": "markdown",
   "id": "997051c5-15bd-4b69-9786-c3001a3ce484",
   "metadata": {
    "papermill": {
     "duration": 0.012432,
     "end_time": "2025-07-30T13:59:00.637328",
     "exception": false,
     "start_time": "2025-07-30T13:59:00.624896",
     "status": "completed"
    },
    "tags": []
   },
   "source": [
    "# Splitting Data and Setting Training Data Size"
   ]
  },
  {
   "cell_type": "code",
   "execution_count": 14,
   "id": "e993b61f-042d-41a6-8c81-f55681f86335",
   "metadata": {
    "execution": {
     "iopub.execute_input": "2025-07-30T13:59:00.661086Z",
     "iopub.status.busy": "2025-07-30T13:59:00.660661Z",
     "iopub.status.idle": "2025-07-30T13:59:00.672384Z",
     "shell.execute_reply": "2025-07-30T13:59:00.671328Z"
    },
    "papermill": {
     "duration": 0.026192,
     "end_time": "2025-07-30T13:59:00.674816",
     "exception": false,
     "start_time": "2025-07-30T13:59:00.648624",
     "status": "completed"
    },
    "tags": []
   },
   "outputs": [],
   "source": [
    "def sample_by_year_size(df,\n",
    "                        training_year: str,\n",
    "                        training_size: str,\n",
    "                        random_state: int = 42):\n",
    "    # --- parse training_year into a list of int years ---\n",
    "    if \"_\" in training_year:\n",
    "        start_str, end_str = training_year.split(\"_\", 1)\n",
    "        start = int(start_str)\n",
    "        end   = int(end_str) if len(end_str) == 4 else (int(end_str) + (start // 100)*100)\n",
    "        years = list(range(start, end + 1))\n",
    "    else:\n",
    "        years = [int(training_year)]\n",
    "\n",
    "    df = df[df[\"year\"].isin(years)].reset_index(drop=True)\n",
    "\n",
    "    # --- map training_size to total number of samples ---\n",
    "    total_map = {\"25k\": 25_000, \"5k\": 5_000, \"1k\": 1_000}\n",
    "    if training_size not in total_map:\n",
    "        return df  # e.g. \"all\"\n",
    "\n",
    "    total_samples = total_map[training_size]\n",
    "    n_years       = len(years)\n",
    "    base          = total_samples // n_years\n",
    "    remainder     = total_samples % n_years\n",
    "\n",
    "    # --- build a dict: year -> how many to sample ---\n",
    "    # give +1 to the first `remainder` years in ascending order\n",
    "    quotas = {\n",
    "        year: base + (1 if idx < remainder else 0)\n",
    "        for idx, year in enumerate(sorted(years))\n",
    "    }\n",
    "\n",
    "    # --- sample per‐year according to the quota dict ---\n",
    "    sampled = (\n",
    "        df\n",
    "        .groupby(\"year\", group_keys=False)\n",
    "        .apply(lambda grp: grp.sample(\n",
    "            n=min(len(grp), quotas[grp.name]),\n",
    "            random_state=random_state))\n",
    "        .reset_index(drop=True)\n",
    "    )\n",
    "\n",
    "    return sampled"
   ]
  },
  {
   "cell_type": "code",
   "execution_count": 15,
   "id": "c0ccd338-0e02-41f3-a09d-f56f9266e3fb",
   "metadata": {
    "execution": {
     "iopub.execute_input": "2025-07-30T13:59:00.729153Z",
     "iopub.status.busy": "2025-07-30T13:59:00.728096Z",
     "iopub.status.idle": "2025-07-30T13:59:00.793821Z",
     "shell.execute_reply": "2025-07-30T13:59:00.792609Z"
    },
    "papermill": {
     "duration": 0.095099,
     "end_time": "2025-07-30T13:59:00.795515",
     "exception": false,
     "start_time": "2025-07-30T13:59:00.700416",
     "status": "completed"
    },
    "tags": []
   },
   "outputs": [
    {
     "data": {
      "text/plain": [
       "'5k'"
      ]
     },
     "execution_count": 15,
     "metadata": {},
     "output_type": "execute_result"
    }
   ],
   "source": [
    "universe[\"training_size\"]"
   ]
  },
  {
   "cell_type": "code",
   "execution_count": 16,
   "id": "ca707fd7-8047-4acd-bfa5-66248fbbf8e6",
   "metadata": {
    "execution": {
     "iopub.execute_input": "2025-07-30T13:59:00.841903Z",
     "iopub.status.busy": "2025-07-30T13:59:00.841195Z",
     "iopub.status.idle": "2025-07-30T13:59:00.850859Z",
     "shell.execute_reply": "2025-07-30T13:59:00.849728Z"
    },
    "papermill": {
     "duration": 0.034408,
     "end_time": "2025-07-30T13:59:00.852722",
     "exception": false,
     "start_time": "2025-07-30T13:59:00.818314",
     "status": "completed"
    },
    "tags": []
   },
   "outputs": [
    {
     "data": {
      "text/plain": [
       "'2012_14'"
      ]
     },
     "execution_count": 16,
     "metadata": {},
     "output_type": "execute_result"
    }
   ],
   "source": [
    "universe[\"training_year\"]"
   ]
  },
  {
   "cell_type": "code",
   "execution_count": 17,
   "id": "aea9c6ef-6f46-42c8-85eb-5a62025c1508",
   "metadata": {
    "execution": {
     "iopub.execute_input": "2025-07-30T13:59:00.899365Z",
     "iopub.status.busy": "2025-07-30T13:59:00.897986Z",
     "iopub.status.idle": "2025-07-30T13:59:01.598412Z",
     "shell.execute_reply": "2025-07-30T13:59:01.597436Z"
    },
    "papermill": {
     "duration": 0.725026,
     "end_time": "2025-07-30T13:59:01.600255",
     "exception": false,
     "start_time": "2025-07-30T13:59:00.875229",
     "status": "completed"
    },
    "tags": []
   },
   "outputs": [],
   "source": [
    "siab_train = sample_by_year_size(siab,\n",
    "                               training_year=universe[\"training_year\"],\n",
    "                               training_size=universe[\"training_size\"])"
   ]
  },
  {
   "cell_type": "code",
   "execution_count": 18,
   "id": "8d3afb32-789d-442c-8d5d-9f5aa8dd2eed",
   "metadata": {
    "execution": {
     "iopub.execute_input": "2025-07-30T13:59:01.655539Z",
     "iopub.status.busy": "2025-07-30T13:59:01.654870Z",
     "iopub.status.idle": "2025-07-30T13:59:01.665334Z",
     "shell.execute_reply": "2025-07-30T13:59:01.664086Z"
    },
    "papermill": {
     "duration": 0.043028,
     "end_time": "2025-07-30T13:59:01.669296",
     "exception": false,
     "start_time": "2025-07-30T13:59:01.626268",
     "status": "completed"
    },
    "tags": []
   },
   "outputs": [
    {
     "data": {
      "text/plain": [
       "(5000, 164)"
      ]
     },
     "execution_count": 18,
     "metadata": {},
     "output_type": "execute_result"
    }
   ],
   "source": [
    "siab_train.shape"
   ]
  },
  {
   "cell_type": "code",
   "execution_count": 19,
   "id": "d582db68-1a4c-47fb-84fc-08518dc1975a",
   "metadata": {
    "execution": {
     "iopub.execute_input": "2025-07-30T13:59:01.719145Z",
     "iopub.status.busy": "2025-07-30T13:59:01.718606Z",
     "iopub.status.idle": "2025-07-30T13:59:01.729240Z",
     "shell.execute_reply": "2025-07-30T13:59:01.728070Z"
    },
    "papermill": {
     "duration": 0.037927,
     "end_time": "2025-07-30T13:59:01.731077",
     "exception": false,
     "start_time": "2025-07-30T13:59:01.693150",
     "status": "completed"
    },
    "tags": []
   },
   "outputs": [
    {
     "data": {
      "text/plain": [
       "year\n",
       "2012    1667\n",
       "2013    1667\n",
       "2014    1666\n",
       "dtype: int64"
      ]
     },
     "metadata": {},
     "output_type": "display_data"
    }
   ],
   "source": [
    "display(siab_train.groupby(\"year\").size())"
   ]
  },
  {
   "cell_type": "code",
   "execution_count": 20,
   "id": "a561edb4-d032-42cb-8256-22eac1111c64",
   "metadata": {
    "execution": {
     "iopub.execute_input": "2025-07-30T13:59:01.780774Z",
     "iopub.status.busy": "2025-07-30T13:59:01.780088Z",
     "iopub.status.idle": "2025-07-30T13:59:02.025388Z",
     "shell.execute_reply": "2025-07-30T13:59:02.024635Z"
    },
    "papermill": {
     "duration": 0.272018,
     "end_time": "2025-07-30T13:59:02.026786",
     "exception": false,
     "start_time": "2025-07-30T13:59:01.754768",
     "status": "completed"
    },
    "tags": []
   },
   "outputs": [],
   "source": [
    "#siab_train = siab_s[siab_s.year < 2015]\n",
    "siab_calib = siab[siab.year == 2015]\n",
    "siab_test = siab[siab.year == 2016]"
   ]
  },
  {
   "cell_type": "code",
   "execution_count": 21,
   "id": "472de16f-c3db-4916-846b-1f0de9cf1746",
   "metadata": {
    "execution": {
     "iopub.execute_input": "2025-07-30T13:59:02.054756Z",
     "iopub.status.busy": "2025-07-30T13:59:02.054076Z",
     "iopub.status.idle": "2025-07-30T13:59:02.063387Z",
     "shell.execute_reply": "2025-07-30T13:59:02.062353Z"
    },
    "papermill": {
     "duration": 0.026535,
     "end_time": "2025-07-30T13:59:02.065126",
     "exception": false,
     "start_time": "2025-07-30T13:59:02.038591",
     "status": "completed"
    },
    "tags": []
   },
   "outputs": [],
   "source": [
    "X_train = siab_train.iloc[:,4:164]\n",
    "y_train = siab_train.iloc[:, [3]]"
   ]
  },
  {
   "cell_type": "code",
   "execution_count": 22,
   "id": "828c96af-f43a-4ed6-ba47-8ac73a47d56c",
   "metadata": {
    "execution": {
     "iopub.execute_input": "2025-07-30T13:59:02.109128Z",
     "iopub.status.busy": "2025-07-30T13:59:02.108492Z",
     "iopub.status.idle": "2025-07-30T13:59:02.157629Z",
     "shell.execute_reply": "2025-07-30T13:59:02.156710Z"
    },
    "papermill": {
     "duration": 0.072149,
     "end_time": "2025-07-30T13:59:02.159436",
     "exception": false,
     "start_time": "2025-07-30T13:59:02.087287",
     "status": "completed"
    },
    "tags": []
   },
   "outputs": [],
   "source": [
    "X_calib = siab_calib.iloc[:,4:164]\n",
    "y_calib = siab_calib.iloc[:, [3]]"
   ]
  },
  {
   "cell_type": "code",
   "execution_count": 23,
   "id": "c34be9c3-6bd6-476e-acd3-845840e303be",
   "metadata": {
    "execution": {
     "iopub.execute_input": "2025-07-30T13:59:02.202620Z",
     "iopub.status.busy": "2025-07-30T13:59:02.201974Z",
     "iopub.status.idle": "2025-07-30T13:59:02.253171Z",
     "shell.execute_reply": "2025-07-30T13:59:02.251928Z"
    },
    "papermill": {
     "duration": 0.074428,
     "end_time": "2025-07-30T13:59:02.254904",
     "exception": false,
     "start_time": "2025-07-30T13:59:02.180476",
     "status": "completed"
    },
    "tags": []
   },
   "outputs": [],
   "source": [
    "X_test = siab_test.iloc[:,4:164]\n",
    "y_true = siab_test.iloc[:, [3]]"
   ]
  },
  {
   "cell_type": "markdown",
   "id": "9901737e-04df-44f0-9100-f5ad144ed040",
   "metadata": {
    "papermill": {
     "duration": 0.020948,
     "end_time": "2025-07-30T13:59:02.297331",
     "exception": false,
     "start_time": "2025-07-30T13:59:02.276383",
     "status": "completed"
    },
    "tags": []
   },
   "source": [
    "# Splitting Data and Setting Training Data Size OLD VERSION"
   ]
  },
  {
   "cell_type": "code",
   "execution_count": 24,
   "id": "acbc8f7d-8fc8-4e86-8c59-5dcb0f58384b",
   "metadata": {
    "execution": {
     "iopub.execute_input": "2025-07-30T13:59:02.341048Z",
     "iopub.status.busy": "2025-07-30T13:59:02.340403Z",
     "iopub.status.idle": "2025-07-30T13:59:02.345809Z",
     "shell.execute_reply": "2025-07-30T13:59:02.344893Z"
    },
    "papermill": {
     "duration": 0.029094,
     "end_time": "2025-07-30T13:59:02.347367",
     "exception": false,
     "start_time": "2025-07-30T13:59:02.318273",
     "status": "completed"
    },
    "tags": []
   },
   "outputs": [],
   "source": [
    "#def sample_by_year(df, training_size, random_state=42):\n",
    "#    if training_size == \"2014\":\n",
    "#        return df[df[\"year\"] == 2014].reset_index(drop=True)\n",
    "#    \n",
    "#    size_map = {\n",
    "#        \"25k\": 5000,\n",
    "#        \"5k\": 1000,\n",
    "#        \"1k\": 200\n",
    "#    }\n",
    "#\n",
    "#    if training_size not in size_map:\n",
    "#        return df.reset_index(drop=True)  # use all data\n",
    "#\n",
    "#    n_per_year = size_map[training_size]\n",
    "#    grouped = df.groupby(\"year\")\n",
    "#    sampled = grouped.apply(lambda x: x.sample(n=min(n_per_year, len(x)), random_state=random_state))\n",
    "#    return sampled.reset_index(drop=True)"
   ]
  },
  {
   "cell_type": "code",
   "execution_count": 25,
   "id": "6d931f52-beaf-43ff-9e78-9d44a448d54e",
   "metadata": {
    "execution": {
     "iopub.execute_input": "2025-07-30T13:59:02.390490Z",
     "iopub.status.busy": "2025-07-30T13:59:02.389830Z",
     "iopub.status.idle": "2025-07-30T13:59:02.394775Z",
     "shell.execute_reply": "2025-07-30T13:59:02.393854Z"
    },
    "papermill": {
     "duration": 0.028192,
     "end_time": "2025-07-30T13:59:02.396559",
     "exception": false,
     "start_time": "2025-07-30T13:59:02.368367",
     "status": "completed"
    },
    "tags": []
   },
   "outputs": [],
   "source": [
    "#siab_s = sample_by_year(siab, universe[\"training_size\"])"
   ]
  },
  {
   "cell_type": "code",
   "execution_count": 26,
   "id": "5db0a40e-a4e2-4920-be85-b12ae061d70d",
   "metadata": {
    "execution": {
     "iopub.execute_input": "2025-07-30T13:59:02.440202Z",
     "iopub.status.busy": "2025-07-30T13:59:02.439539Z",
     "iopub.status.idle": "2025-07-30T13:59:02.444464Z",
     "shell.execute_reply": "2025-07-30T13:59:02.443554Z"
    },
    "papermill": {
     "duration": 0.028172,
     "end_time": "2025-07-30T13:59:02.446044",
     "exception": false,
     "start_time": "2025-07-30T13:59:02.417872",
     "status": "completed"
    },
    "tags": []
   },
   "outputs": [],
   "source": [
    "#display(siab_s.groupby(\"year\").size())"
   ]
  },
  {
   "cell_type": "code",
   "execution_count": 27,
   "id": "e6c733c5",
   "metadata": {
    "execution": {
     "iopub.execute_input": "2025-07-30T13:59:02.490337Z",
     "iopub.status.busy": "2025-07-30T13:59:02.489642Z",
     "iopub.status.idle": "2025-07-30T13:59:02.584677Z",
     "shell.execute_reply": "2025-07-30T13:59:02.583745Z"
    },
    "papermill": {
     "duration": 0.118962,
     "end_time": "2025-07-30T13:59:02.586508",
     "exception": false,
     "start_time": "2025-07-30T13:59:02.467546",
     "status": "completed"
    },
    "tags": []
   },
   "outputs": [],
   "source": [
    "# Auxiliary data needed downstream in the pipeline\n",
    "\n",
    "org_train = X_train.copy()\n",
    "org_test = X_test.copy()\n",
    "org_calib = X_calib.copy()"
   ]
  },
  {
   "cell_type": "code",
   "execution_count": 28,
   "id": "1466abac-c6da-4492-a62f-4240ae3783af",
   "metadata": {
    "execution": {
     "iopub.execute_input": "2025-07-30T13:59:02.630196Z",
     "iopub.status.busy": "2025-07-30T13:59:02.629544Z",
     "iopub.status.idle": "2025-07-30T13:59:02.635373Z",
     "shell.execute_reply": "2025-07-30T13:59:02.634431Z"
    },
    "papermill": {
     "duration": 0.02943,
     "end_time": "2025-07-30T13:59:02.637114",
     "exception": false,
     "start_time": "2025-07-30T13:59:02.607684",
     "status": "completed"
    },
    "tags": []
   },
   "outputs": [],
   "source": [
    "# put in other script?\n",
    "# Group sizes\n",
    "\n",
    "#def calculate_percentages(df, df_name):\n",
    "#    total_entries = len(df)\n",
    "#\n",
    "#    female_pct = (df['frau1'] == 1).mean() * 100\n",
    "#    non_german_pct = ((df['maxdeutsch1'] == 0) & (df['maxdeutsch.Missing.'] == 0)).mean() * 100\n",
    "#    non_german_male_pct = ((df['frau1'] == 0) & (df['maxdeutsch1'] == 0) & (df['maxdeutsch.Missing.'] == 0)).mean() * 100\n",
    "#    non_german_female_pct = ((df['frau1'] == 1) & (df['maxdeutsch1'] == 0) & (df['maxdeutsch.Missing.'] == 0)).mean() * 100\n",
    "#\n",
    "#    print(f\"--- {df_name} ---\")\n",
    "#    print(f\"Female: {female_pct:.2f}%\")\n",
    "#    print(f\"Non-German: {non_german_pct:.2f}%\")\n",
    "#    print(f\"Non-German Male: {non_german_male_pct:.2f}%\")\n",
    "#    print(f\"Non-German Female: {non_german_female_pct:.2f}%\\n\")\n",
    "#\n",
    "## Calculate for each DataFrame\n",
    "#calculate_percentages(siab_calib, \"siab_calib\")\n",
    "#calculate_percentages(siab_test, \"siab_test\")\n",
    "#calculate_percentages(siab_train, \"siab_train\")"
   ]
  },
  {
   "cell_type": "markdown",
   "id": "0a4a1b33",
   "metadata": {
    "papermill": {
     "duration": 0.020572,
     "end_time": "2025-07-30T13:59:02.679291",
     "exception": false,
     "start_time": "2025-07-30T13:59:02.658719",
     "status": "completed"
    },
    "tags": []
   },
   "source": [
    "# Preprocessing Data"
   ]
  },
  {
   "cell_type": "code",
   "execution_count": 29,
   "id": "ca879031",
   "metadata": {
    "execution": {
     "iopub.execute_input": "2025-07-30T13:59:02.721955Z",
     "iopub.status.busy": "2025-07-30T13:59:02.721093Z",
     "iopub.status.idle": "2025-07-30T13:59:02.727432Z",
     "shell.execute_reply": "2025-07-30T13:59:02.726483Z"
    },
    "papermill": {
     "duration": 0.02935,
     "end_time": "2025-07-30T13:59:02.729122",
     "exception": false,
     "start_time": "2025-07-30T13:59:02.699772",
     "status": "completed"
    },
    "tags": []
   },
   "outputs": [],
   "source": [
    "# EXCLUDE PROTECTED FEATURES\n",
    "# ----------------------\n",
    "# \"exclude_features\": \"none\", # \"nationality\", \"sex\", \"nationality-sex\"\n",
    "\n",
    "excluded_features = universe[\"exclude_features\"].split(\"-\") # split, e.g.: \"nationality-sex\" -> [\"nationality\", \"sex\"]\n",
    "excluded_features_dictionary = {\n",
    "    \"nationality\": [\"maxdeutsch1\", \"maxdeutsch.Missing.\"],\n",
    "    \"sex\": [\"frau1\"],\n",
    "    \"age\": [\"age\"],\n",
    "}\n"
   ]
  },
  {
   "cell_type": "code",
   "execution_count": 30,
   "id": "b745ac60",
   "metadata": {
    "execution": {
     "iopub.execute_input": "2025-07-30T13:59:02.774382Z",
     "iopub.status.busy": "2025-07-30T13:59:02.773917Z",
     "iopub.status.idle": "2025-07-30T13:59:02.779494Z",
     "shell.execute_reply": "2025-07-30T13:59:02.778544Z"
    },
    "papermill": {
     "duration": 0.029169,
     "end_time": "2025-07-30T13:59:02.781211",
     "exception": false,
     "start_time": "2025-07-30T13:59:02.752042",
     "status": "completed"
    },
    "tags": []
   },
   "outputs": [],
   "source": [
    "# Code nice names to column names\n",
    "\n",
    "excluded_features_columns = [\n",
    "    excluded_features_dictionary[f] for f in excluded_features if len(f) > 0 and f != \"none\"\n",
    "]"
   ]
  },
  {
   "cell_type": "code",
   "execution_count": 31,
   "id": "f84f73a2",
   "metadata": {
    "execution": {
     "iopub.execute_input": "2025-07-30T13:59:02.827283Z",
     "iopub.status.busy": "2025-07-30T13:59:02.826484Z",
     "iopub.status.idle": "2025-07-30T13:59:02.833543Z",
     "shell.execute_reply": "2025-07-30T13:59:02.832661Z"
    },
    "papermill": {
     "duration": 0.031891,
     "end_time": "2025-07-30T13:59:02.835141",
     "exception": false,
     "start_time": "2025-07-30T13:59:02.803250",
     "status": "completed"
    },
    "tags": []
   },
   "outputs": [],
   "source": [
    "from utils import flatten_once\n",
    "\n",
    "excluded_features_columns = flatten_once(excluded_features_columns)"
   ]
  },
  {
   "cell_type": "code",
   "execution_count": 32,
   "id": "884dea22",
   "metadata": {
    "execution": {
     "iopub.execute_input": "2025-07-30T13:59:02.879448Z",
     "iopub.status.busy": "2025-07-30T13:59:02.878951Z",
     "iopub.status.idle": "2025-07-30T13:59:02.890298Z",
     "shell.execute_reply": "2025-07-30T13:59:02.889280Z"
    },
    "papermill": {
     "duration": 0.035251,
     "end_time": "2025-07-30T13:59:02.891917",
     "exception": false,
     "start_time": "2025-07-30T13:59:02.856666",
     "status": "completed"
    },
    "tags": []
   },
   "outputs": [
    {
     "name": "stdout",
     "output_type": "stream",
     "text": [
      "Dropping features: ['age']\n"
     ]
    }
   ],
   "source": [
    "if len(excluded_features_columns) > 0:\n",
    "    print(f\"Dropping features: {excluded_features_columns}\")\n",
    "    X_train.drop(excluded_features_columns, axis=1, inplace=True)"
   ]
  },
  {
   "cell_type": "code",
   "execution_count": 33,
   "id": "95ab8b16",
   "metadata": {
    "execution": {
     "iopub.execute_input": "2025-07-30T13:59:02.937776Z",
     "iopub.status.busy": "2025-07-30T13:59:02.937114Z",
     "iopub.status.idle": "2025-07-30T13:59:02.988832Z",
     "shell.execute_reply": "2025-07-30T13:59:02.987723Z"
    },
    "papermill": {
     "duration": 0.076066,
     "end_time": "2025-07-30T13:59:02.990436",
     "exception": false,
     "start_time": "2025-07-30T13:59:02.914370",
     "status": "completed"
    },
    "tags": []
   },
   "outputs": [
    {
     "name": "stdout",
     "output_type": "stream",
     "text": [
      "Dropping features: ['age']\n"
     ]
    }
   ],
   "source": [
    "if len(excluded_features_columns) > 0:\n",
    "    print(f\"Dropping features: {excluded_features_columns}\")\n",
    "    X_test.drop(excluded_features_columns, axis=1, inplace=True)"
   ]
  },
  {
   "cell_type": "code",
   "execution_count": 34,
   "id": "1853aaf5-fb9f-46cb-a2b5-8ea4ae2237e4",
   "metadata": {
    "execution": {
     "iopub.execute_input": "2025-07-30T13:59:03.036161Z",
     "iopub.status.busy": "2025-07-30T13:59:03.035503Z",
     "iopub.status.idle": "2025-07-30T13:59:03.085250Z",
     "shell.execute_reply": "2025-07-30T13:59:03.083988Z"
    },
    "papermill": {
     "duration": 0.07513,
     "end_time": "2025-07-30T13:59:03.087912",
     "exception": false,
     "start_time": "2025-07-30T13:59:03.012782",
     "status": "completed"
    },
    "tags": []
   },
   "outputs": [
    {
     "name": "stdout",
     "output_type": "stream",
     "text": [
      "Dropping features: ['age']\n"
     ]
    }
   ],
   "source": [
    "if len(excluded_features_columns) > 0:\n",
    "    print(f\"Dropping features: {excluded_features_columns}\")\n",
    "    X_calib.drop(excluded_features_columns, axis=1, inplace=True)"
   ]
  },
  {
   "cell_type": "code",
   "execution_count": 35,
   "id": "6727d079-03e5-481e-9d38-292a90b7a0a8",
   "metadata": {
    "execution": {
     "iopub.execute_input": "2025-07-30T13:59:03.134627Z",
     "iopub.status.busy": "2025-07-30T13:59:03.133977Z",
     "iopub.status.idle": "2025-07-30T13:59:03.140904Z",
     "shell.execute_reply": "2025-07-30T13:59:03.139657Z"
    },
    "papermill": {
     "duration": 0.036263,
     "end_time": "2025-07-30T13:59:03.146740",
     "exception": false,
     "start_time": "2025-07-30T13:59:03.110477",
     "status": "completed"
    },
    "tags": []
   },
   "outputs": [],
   "source": [
    "# SPLIT & STRATIFY DATA\n",
    "# ----------------------"
   ]
  },
  {
   "cell_type": "code",
   "execution_count": 36,
   "id": "76c4dc6d",
   "metadata": {
    "execution": {
     "iopub.execute_input": "2025-07-30T13:59:03.192785Z",
     "iopub.status.busy": "2025-07-30T13:59:03.192302Z",
     "iopub.status.idle": "2025-07-30T13:59:03.198520Z",
     "shell.execute_reply": "2025-07-30T13:59:03.197491Z"
    },
    "papermill": {
     "duration": 0.031182,
     "end_time": "2025-07-30T13:59:03.200325",
     "exception": false,
     "start_time": "2025-07-30T13:59:03.169143",
     "status": "completed"
    },
    "tags": []
   },
   "outputs": [],
   "source": [
    "# EXCLUDE CERTAIN SUBGROUPS\n",
    "# ----------------------\n",
    "\n",
    "mode = universe.get(\"exclude_subgroups\", \"keep-all\") \n",
    "# Fetches the exclude_subgroups setting from the universe dict.\n",
    "# Defaults to \"keep-all\" if the key is missing."
   ]
  },
  {
   "cell_type": "code",
   "execution_count": 37,
   "id": "21994072",
   "metadata": {
    "execution": {
     "iopub.execute_input": "2025-07-30T13:59:03.251906Z",
     "iopub.status.busy": "2025-07-30T13:59:03.251438Z",
     "iopub.status.idle": "2025-07-30T13:59:03.258052Z",
     "shell.execute_reply": "2025-07-30T13:59:03.257165Z"
    },
    "papermill": {
     "duration": 0.031476,
     "end_time": "2025-07-30T13:59:03.259662",
     "exception": false,
     "start_time": "2025-07-30T13:59:03.228186",
     "status": "completed"
    },
    "tags": []
   },
   "outputs": [],
   "source": [
    "if mode == \"keep-all\":\n",
    "    keep_mask = pd.Series(True, index=org_train.index)\n",
    "\n",
    "# org_train contains the original feature columns from features_org (in Simson)\n",
    "# features_org contains unprocessed features, for me X_train at beginning ???\n",
    "# For keep-all, creates a boolean Series (keep_mask) of all True, so no rows are removed.\n",
    "\n",
    "elif mode == \"drop-non-german\":\n",
    "    keep_mask = org_train[\"maxdeutsch1\"] == 1 # ??? what about missing values?\n",
    "\n",
    "else:\n",
    "    raise ValueError(f\"Unsupported mode for exclude_subgroups: {mode}\")\n"
   ]
  },
  {
   "cell_type": "code",
   "execution_count": 38,
   "id": "71651440",
   "metadata": {
    "execution": {
     "iopub.execute_input": "2025-07-30T13:59:03.305702Z",
     "iopub.status.busy": "2025-07-30T13:59:03.305233Z",
     "iopub.status.idle": "2025-07-30T13:59:03.311689Z",
     "shell.execute_reply": "2025-07-30T13:59:03.310838Z"
    },
    "papermill": {
     "duration": 0.031031,
     "end_time": "2025-07-30T13:59:03.313228",
     "exception": false,
     "start_time": "2025-07-30T13:59:03.282197",
     "status": "completed"
    },
    "tags": []
   },
   "outputs": [],
   "source": [
    "n_drop = (~keep_mask).sum() # Calculates how many rows are set to be dropped\n",
    "if n_drop > 0:\n",
    "    pct = n_drop / len(keep_mask) * 100\n",
    "    print(f\"Dropping {n_drop} rows ({pct:.2f}%) where mode='{mode}'\")"
   ]
  },
  {
   "cell_type": "code",
   "execution_count": 39,
   "id": "5fb8eee5",
   "metadata": {
    "execution": {
     "iopub.execute_input": "2025-07-30T13:59:03.358944Z",
     "iopub.status.busy": "2025-07-30T13:59:03.358336Z",
     "iopub.status.idle": "2025-07-30T13:59:03.365930Z",
     "shell.execute_reply": "2025-07-30T13:59:03.365113Z"
    },
    "papermill": {
     "duration": 0.032001,
     "end_time": "2025-07-30T13:59:03.367432",
     "exception": false,
     "start_time": "2025-07-30T13:59:03.335431",
     "status": "completed"
    },
    "tags": []
   },
   "outputs": [],
   "source": [
    "X_train = X_train[keep_mask]"
   ]
  },
  {
   "cell_type": "code",
   "execution_count": 40,
   "id": "b202bb3a",
   "metadata": {
    "execution": {
     "iopub.execute_input": "2025-07-30T13:59:03.412917Z",
     "iopub.status.busy": "2025-07-30T13:59:03.412214Z",
     "iopub.status.idle": "2025-07-30T13:59:03.418519Z",
     "shell.execute_reply": "2025-07-30T13:59:03.417645Z"
    },
    "papermill": {
     "duration": 0.030766,
     "end_time": "2025-07-30T13:59:03.420109",
     "exception": false,
     "start_time": "2025-07-30T13:59:03.389343",
     "status": "completed"
    },
    "tags": []
   },
   "outputs": [],
   "source": [
    "y_train = y_train[keep_mask]"
   ]
  },
  {
   "cell_type": "markdown",
   "id": "493e2ac3",
   "metadata": {
    "papermill": {
     "duration": 0.021929,
     "end_time": "2025-07-30T13:59:03.464951",
     "exception": false,
     "start_time": "2025-07-30T13:59:03.443022",
     "status": "completed"
    },
    "tags": []
   },
   "source": [
    "# Model Training"
   ]
  },
  {
   "cell_type": "code",
   "execution_count": 41,
   "id": "679e1268",
   "metadata": {
    "execution": {
     "iopub.execute_input": "2025-07-30T13:59:03.512313Z",
     "iopub.status.busy": "2025-07-30T13:59:03.511788Z",
     "iopub.status.idle": "2025-07-30T13:59:03.610689Z",
     "shell.execute_reply": "2025-07-30T13:59:03.609540Z"
    },
    "papermill": {
     "duration": 0.123141,
     "end_time": "2025-07-30T13:59:03.612395",
     "exception": false,
     "start_time": "2025-07-30T13:59:03.489254",
     "status": "completed"
    },
    "tags": []
   },
   "outputs": [],
   "source": [
    "from sklearn.linear_model import LogisticRegression\n",
    "from sklearn.ensemble import GradientBoostingClassifier, RandomForestClassifier\n",
    "\n",
    "if (universe[\"model\"] == \"logreg\"):\n",
    "    model = LogisticRegression() #penalty=\"none\") #, solver=\"newton-cg\", max_iter=1) # include random_state=19 ?\n",
    "elif (universe[\"model\"] == \"penalized_logreg\"):\n",
    "    model = LogisticRegression(penalty=\"l2\", C=1.0) #, solver=\"newton-cg\", max_iter=1)\n",
    "elif (universe[\"model\"] == \"rf\"):\n",
    "    model = RandomForestClassifier(n_estimators=100, n_jobs=-1)\n",
    "elif (universe[\"model\"] == \"gbm\"):\n",
    "    model = GradientBoostingClassifier()\n",
    "elif (universe[\"model\"] == \"elasticnet\"):\n",
    "    model = LogisticRegression(penalty = 'elasticnet', solver = 'saga', l1_ratio = 0.5, max_iter=5000) # which solver to use?\n",
    "else:\n",
    "    raise \"Unsupported universe.model\""
   ]
  },
  {
   "cell_type": "code",
   "execution_count": 42,
   "id": "0cc8f744",
   "metadata": {
    "execution": {
     "iopub.execute_input": "2025-07-30T13:59:03.656625Z",
     "iopub.status.busy": "2025-07-30T13:59:03.656116Z",
     "iopub.status.idle": "2025-07-30T13:59:03.662230Z",
     "shell.execute_reply": "2025-07-30T13:59:03.661315Z"
    },
    "papermill": {
     "duration": 0.030025,
     "end_time": "2025-07-30T13:59:03.664023",
     "exception": false,
     "start_time": "2025-07-30T13:59:03.633998",
     "status": "completed"
    },
    "tags": []
   },
   "outputs": [],
   "source": [
    "import numpy as np\n",
    "from sklearn.pipeline import Pipeline\n",
    "from sklearn.preprocessing import StandardScaler\n",
    "\n",
    "model = Pipeline([\n",
    "    #(\"continuous_processor\", continuous_processor),\n",
    "    #(\"categorical_preprocessor\", categorical_preprocessor),\n",
    "    (\"scale\", StandardScaler() if universe[\"scale\"] == \"scale\" else None), \n",
    "    (\"model\", model),\n",
    "])"
   ]
  },
  {
   "cell_type": "code",
   "execution_count": 43,
   "id": "9442c04d",
   "metadata": {
    "execution": {
     "iopub.execute_input": "2025-07-30T13:59:03.708724Z",
     "iopub.status.busy": "2025-07-30T13:59:03.708371Z",
     "iopub.status.idle": "2025-07-30T13:59:13.966745Z",
     "shell.execute_reply": "2025-07-30T13:59:13.965788Z"
    },
    "papermill": {
     "duration": 10.282584,
     "end_time": "2025-07-30T13:59:13.968412",
     "exception": false,
     "start_time": "2025-07-30T13:59:03.685828",
     "status": "completed"
    },
    "tags": []
   },
   "outputs": [
    {
     "data": {
      "text/html": [
       "<style>#sk-container-id-1 {color: black;background-color: white;}#sk-container-id-1 pre{padding: 0;}#sk-container-id-1 div.sk-toggleable {background-color: white;}#sk-container-id-1 label.sk-toggleable__label {cursor: pointer;display: block;width: 100%;margin-bottom: 0;padding: 0.3em;box-sizing: border-box;text-align: center;}#sk-container-id-1 label.sk-toggleable__label-arrow:before {content: \"▸\";float: left;margin-right: 0.25em;color: #696969;}#sk-container-id-1 label.sk-toggleable__label-arrow:hover:before {color: black;}#sk-container-id-1 div.sk-estimator:hover label.sk-toggleable__label-arrow:before {color: black;}#sk-container-id-1 div.sk-toggleable__content {max-height: 0;max-width: 0;overflow: hidden;text-align: left;background-color: #f0f8ff;}#sk-container-id-1 div.sk-toggleable__content pre {margin: 0.2em;color: black;border-radius: 0.25em;background-color: #f0f8ff;}#sk-container-id-1 input.sk-toggleable__control:checked~div.sk-toggleable__content {max-height: 200px;max-width: 100%;overflow: auto;}#sk-container-id-1 input.sk-toggleable__control:checked~label.sk-toggleable__label-arrow:before {content: \"▾\";}#sk-container-id-1 div.sk-estimator input.sk-toggleable__control:checked~label.sk-toggleable__label {background-color: #d4ebff;}#sk-container-id-1 div.sk-label input.sk-toggleable__control:checked~label.sk-toggleable__label {background-color: #d4ebff;}#sk-container-id-1 input.sk-hidden--visually {border: 0;clip: rect(1px 1px 1px 1px);clip: rect(1px, 1px, 1px, 1px);height: 1px;margin: -1px;overflow: hidden;padding: 0;position: absolute;width: 1px;}#sk-container-id-1 div.sk-estimator {font-family: monospace;background-color: #f0f8ff;border: 1px dotted black;border-radius: 0.25em;box-sizing: border-box;margin-bottom: 0.5em;}#sk-container-id-1 div.sk-estimator:hover {background-color: #d4ebff;}#sk-container-id-1 div.sk-parallel-item::after {content: \"\";width: 100%;border-bottom: 1px solid gray;flex-grow: 1;}#sk-container-id-1 div.sk-label:hover label.sk-toggleable__label {background-color: #d4ebff;}#sk-container-id-1 div.sk-serial::before {content: \"\";position: absolute;border-left: 1px solid gray;box-sizing: border-box;top: 0;bottom: 0;left: 50%;z-index: 0;}#sk-container-id-1 div.sk-serial {display: flex;flex-direction: column;align-items: center;background-color: white;padding-right: 0.2em;padding-left: 0.2em;position: relative;}#sk-container-id-1 div.sk-item {position: relative;z-index: 1;}#sk-container-id-1 div.sk-parallel {display: flex;align-items: stretch;justify-content: center;background-color: white;position: relative;}#sk-container-id-1 div.sk-item::before, #sk-container-id-1 div.sk-parallel-item::before {content: \"\";position: absolute;border-left: 1px solid gray;box-sizing: border-box;top: 0;bottom: 0;left: 50%;z-index: -1;}#sk-container-id-1 div.sk-parallel-item {display: flex;flex-direction: column;z-index: 1;position: relative;background-color: white;}#sk-container-id-1 div.sk-parallel-item:first-child::after {align-self: flex-end;width: 50%;}#sk-container-id-1 div.sk-parallel-item:last-child::after {align-self: flex-start;width: 50%;}#sk-container-id-1 div.sk-parallel-item:only-child::after {width: 0;}#sk-container-id-1 div.sk-dashed-wrapped {border: 1px dashed gray;margin: 0 0.4em 0.5em 0.4em;box-sizing: border-box;padding-bottom: 0.4em;background-color: white;}#sk-container-id-1 div.sk-label label {font-family: monospace;font-weight: bold;display: inline-block;line-height: 1.2em;}#sk-container-id-1 div.sk-label-container {text-align: center;}#sk-container-id-1 div.sk-container {/* jupyter's `normalize.less` sets `[hidden] { display: none; }` but bootstrap.min.css set `[hidden] { display: none !important; }` so we also need the `!important` here to be able to override the default hidden behavior on the sphinx rendered scikit-learn.org. See: https://github.com/scikit-learn/scikit-learn/issues/21755 */display: inline-block !important;position: relative;}#sk-container-id-1 div.sk-text-repr-fallback {display: none;}</style><div id=\"sk-container-id-1\" class=\"sk-top-container\"><div class=\"sk-text-repr-fallback\"><pre>Pipeline(steps=[(&#x27;scale&#x27;, StandardScaler()),\n",
       "                (&#x27;model&#x27;,\n",
       "                 LogisticRegression(l1_ratio=0.5, max_iter=5000,\n",
       "                                    penalty=&#x27;elasticnet&#x27;, solver=&#x27;saga&#x27;))])</pre><b>In a Jupyter environment, please rerun this cell to show the HTML representation or trust the notebook. <br />On GitHub, the HTML representation is unable to render, please try loading this page with nbviewer.org.</b></div><div class=\"sk-container\" hidden><div class=\"sk-item sk-dashed-wrapped\"><div class=\"sk-label-container\"><div class=\"sk-label sk-toggleable\"><input class=\"sk-toggleable__control sk-hidden--visually\" id=\"sk-estimator-id-1\" type=\"checkbox\" ><label for=\"sk-estimator-id-1\" class=\"sk-toggleable__label sk-toggleable__label-arrow\">Pipeline</label><div class=\"sk-toggleable__content\"><pre>Pipeline(steps=[(&#x27;scale&#x27;, StandardScaler()),\n",
       "                (&#x27;model&#x27;,\n",
       "                 LogisticRegression(l1_ratio=0.5, max_iter=5000,\n",
       "                                    penalty=&#x27;elasticnet&#x27;, solver=&#x27;saga&#x27;))])</pre></div></div></div><div class=\"sk-serial\"><div class=\"sk-item\"><div class=\"sk-estimator sk-toggleable\"><input class=\"sk-toggleable__control sk-hidden--visually\" id=\"sk-estimator-id-2\" type=\"checkbox\" ><label for=\"sk-estimator-id-2\" class=\"sk-toggleable__label sk-toggleable__label-arrow\">StandardScaler</label><div class=\"sk-toggleable__content\"><pre>StandardScaler()</pre></div></div></div><div class=\"sk-item\"><div class=\"sk-estimator sk-toggleable\"><input class=\"sk-toggleable__control sk-hidden--visually\" id=\"sk-estimator-id-3\" type=\"checkbox\" ><label for=\"sk-estimator-id-3\" class=\"sk-toggleable__label sk-toggleable__label-arrow\">LogisticRegression</label><div class=\"sk-toggleable__content\"><pre>LogisticRegression(l1_ratio=0.5, max_iter=5000, penalty=&#x27;elasticnet&#x27;,\n",
       "                   solver=&#x27;saga&#x27;)</pre></div></div></div></div></div></div></div>"
      ],
      "text/plain": [
       "Pipeline(steps=[('scale', StandardScaler()),\n",
       "                ('model',\n",
       "                 LogisticRegression(l1_ratio=0.5, max_iter=5000,\n",
       "                                    penalty='elasticnet', solver='saga'))])"
      ]
     },
     "execution_count": 43,
     "metadata": {},
     "output_type": "execute_result"
    }
   ],
   "source": [
    "model.fit(X_train, y_train.values.ravel())"
   ]
  },
  {
   "cell_type": "code",
   "execution_count": 44,
   "id": "af59f8c0",
   "metadata": {
    "execution": {
     "iopub.execute_input": "2025-07-30T13:59:14.026274Z",
     "iopub.status.busy": "2025-07-30T13:59:14.025618Z",
     "iopub.status.idle": "2025-07-30T13:59:14.031037Z",
     "shell.execute_reply": "2025-07-30T13:59:14.030087Z"
    },
    "papermill": {
     "duration": 0.034942,
     "end_time": "2025-07-30T13:59:14.032630",
     "exception": false,
     "start_time": "2025-07-30T13:59:13.997688",
     "status": "completed"
    },
    "tags": []
   },
   "outputs": [],
   "source": [
    "from fairness_multiverse.universe import predict_w_threshold"
   ]
  },
  {
   "cell_type": "code",
   "execution_count": 45,
   "id": "a7cf2e16",
   "metadata": {
    "execution": {
     "iopub.execute_input": "2025-07-30T13:59:14.086848Z",
     "iopub.status.busy": "2025-07-30T13:59:14.085918Z",
     "iopub.status.idle": "2025-07-30T13:59:14.277892Z",
     "shell.execute_reply": "2025-07-30T13:59:14.276919Z"
    },
    "papermill": {
     "duration": 0.221167,
     "end_time": "2025-07-30T13:59:14.279824",
     "exception": false,
     "start_time": "2025-07-30T13:59:14.058657",
     "status": "completed"
    },
    "tags": []
   },
   "outputs": [
    {
     "data": {
      "text/plain": [
       "0.8557239995541188"
      ]
     },
     "execution_count": 45,
     "metadata": {},
     "output_type": "execute_result"
    }
   ],
   "source": [
    "probs_test = model.predict_proba(X_test)\n",
    "\n",
    "'''\n",
    "Below code returns a boolean array (or binary 0/1 array depending on how it’s used) where each element \n",
    "is True if the probability of class 1 is greater than or equal to the threshold, and False otherwise.\n",
    "'''\n",
    "y_pred_default = predict_w_threshold(probs_test, 0.5)\n",
    "\n",
    "from sklearn.metrics import accuracy_score\n",
    "\n",
    "# Naive prediction\n",
    "accuracy_score(y_true = y_true, y_pred = y_pred_default)"
   ]
  },
  {
   "cell_type": "code",
   "execution_count": 46,
   "id": "081964c3",
   "metadata": {
    "execution": {
     "iopub.execute_input": "2025-07-30T13:59:14.334625Z",
     "iopub.status.busy": "2025-07-30T13:59:14.333927Z",
     "iopub.status.idle": "2025-07-30T13:59:14.513961Z",
     "shell.execute_reply": "2025-07-30T13:59:14.512968Z"
    },
    "papermill": {
     "duration": 0.208933,
     "end_time": "2025-07-30T13:59:14.515872",
     "exception": false,
     "start_time": "2025-07-30T13:59:14.306939",
     "status": "completed"
    },
    "tags": []
   },
   "outputs": [
    {
     "data": {
      "text/plain": [
       "array([0, 0, 0, ..., 0, 0, 0])"
      ]
     },
     "execution_count": 46,
     "metadata": {},
     "output_type": "execute_result"
    }
   ],
   "source": [
    "model.predict(X_test)"
   ]
  },
  {
   "cell_type": "markdown",
   "id": "56c9705b",
   "metadata": {
    "papermill": {
     "duration": 0.026131,
     "end_time": "2025-07-30T13:59:14.568903",
     "exception": false,
     "start_time": "2025-07-30T13:59:14.542772",
     "status": "completed"
    },
    "tags": []
   },
   "source": [
    "# Conformal Prediction"
   ]
  },
  {
   "cell_type": "code",
   "execution_count": 47,
   "id": "160ec6ff",
   "metadata": {
    "execution": {
     "iopub.execute_input": "2025-07-30T13:59:14.622976Z",
     "iopub.status.busy": "2025-07-30T13:59:14.622047Z",
     "iopub.status.idle": "2025-07-30T13:59:14.627468Z",
     "shell.execute_reply": "2025-07-30T13:59:14.626531Z"
    },
    "papermill": {
     "duration": 0.034487,
     "end_time": "2025-07-30T13:59:14.629238",
     "exception": false,
     "start_time": "2025-07-30T13:59:14.594751",
     "status": "completed"
    },
    "tags": []
   },
   "outputs": [],
   "source": [
    "# Miscoverage level for conformal prediction (10% allowed error rate => 90% target coverage)\n",
    "alpha = 0.1"
   ]
  },
  {
   "cell_type": "code",
   "execution_count": 48,
   "id": "eadf4555-3dd3-440e-8e35-f82a4ad9f855",
   "metadata": {
    "execution": {
     "iopub.execute_input": "2025-07-30T13:59:14.684695Z",
     "iopub.status.busy": "2025-07-30T13:59:14.683692Z",
     "iopub.status.idle": "2025-07-30T13:59:14.864882Z",
     "shell.execute_reply": "2025-07-30T13:59:14.863878Z"
    },
    "papermill": {
     "duration": 0.210462,
     "end_time": "2025-07-30T13:59:14.866430",
     "exception": false,
     "start_time": "2025-07-30T13:59:14.655968",
     "status": "completed"
    },
    "tags": []
   },
   "outputs": [],
   "source": [
    "probs_calib = model.predict_proba(X_calib)"
   ]
  },
  {
   "cell_type": "code",
   "execution_count": 49,
   "id": "2ed93547-6d5d-4983-9b36-1ecb300da49a",
   "metadata": {
    "execution": {
     "iopub.execute_input": "2025-07-30T13:59:14.911209Z",
     "iopub.status.busy": "2025-07-30T13:59:14.910424Z",
     "iopub.status.idle": "2025-07-30T13:59:14.915955Z",
     "shell.execute_reply": "2025-07-30T13:59:14.914975Z"
    },
    "papermill": {
     "duration": 0.033447,
     "end_time": "2025-07-30T13:59:14.917798",
     "exception": false,
     "start_time": "2025-07-30T13:59:14.884351",
     "status": "completed"
    },
    "tags": []
   },
   "outputs": [],
   "source": [
    "y_calib = y_calib.values.ravel().astype(int)"
   ]
  },
  {
   "cell_type": "code",
   "execution_count": 50,
   "id": "65d1320d-f588-4b38-9072-62af1ae97f7d",
   "metadata": {
    "execution": {
     "iopub.execute_input": "2025-07-30T13:59:14.966386Z",
     "iopub.status.busy": "2025-07-30T13:59:14.965903Z",
     "iopub.status.idle": "2025-07-30T13:59:14.974390Z",
     "shell.execute_reply": "2025-07-30T13:59:14.973457Z"
    },
    "papermill": {
     "duration": 0.033785,
     "end_time": "2025-07-30T13:59:14.975884",
     "exception": false,
     "start_time": "2025-07-30T13:59:14.942099",
     "status": "completed"
    },
    "tags": []
   },
   "outputs": [],
   "source": [
    "from fairness_multiverse.conformal import compute_nc_scores\n",
    "\n",
    "# Compute nonconformity scores on calibration set (1 - probability of true class)\n",
    "nc_scores = compute_nc_scores(probs_calib, y_calib)"
   ]
  },
  {
   "cell_type": "code",
   "execution_count": 51,
   "id": "df3b8ca3-53b7-43d5-9667-7c85da7aeda2",
   "metadata": {
    "execution": {
     "iopub.execute_input": "2025-07-30T13:59:15.022994Z",
     "iopub.status.busy": "2025-07-30T13:59:15.022557Z",
     "iopub.status.idle": "2025-07-30T13:59:15.028926Z",
     "shell.execute_reply": "2025-07-30T13:59:15.027894Z"
    },
    "papermill": {
     "duration": 0.029638,
     "end_time": "2025-07-30T13:59:15.030580",
     "exception": false,
     "start_time": "2025-07-30T13:59:15.000942",
     "status": "completed"
    },
    "tags": []
   },
   "outputs": [],
   "source": [
    "from fairness_multiverse.conformal import find_threshold\n",
    "\n",
    "# Find conformal threshold q_hat for the given alpha (split conformal method)\n",
    "q_hat = find_threshold(nc_scores, alpha)"
   ]
  },
  {
   "cell_type": "code",
   "execution_count": 52,
   "id": "4d29e6c1-0ef6-4aa4-b8fe-4fe79b0d033a",
   "metadata": {
    "execution": {
     "iopub.execute_input": "2025-07-30T13:59:15.073238Z",
     "iopub.status.busy": "2025-07-30T13:59:15.072829Z",
     "iopub.status.idle": "2025-07-30T13:59:15.079374Z",
     "shell.execute_reply": "2025-07-30T13:59:15.078296Z"
    },
    "papermill": {
     "duration": 0.024779,
     "end_time": "2025-07-30T13:59:15.080720",
     "exception": false,
     "start_time": "2025-07-30T13:59:15.055941",
     "status": "completed"
    },
    "tags": []
   },
   "outputs": [
    {
     "data": {
      "text/plain": [
       "0.6896802330328337"
      ]
     },
     "execution_count": 52,
     "metadata": {},
     "output_type": "execute_result"
    }
   ],
   "source": [
    "q_hat"
   ]
  },
  {
   "cell_type": "code",
   "execution_count": 53,
   "id": "92460794-cdac-4be2-ba28-f28c0515a6fb",
   "metadata": {
    "execution": {
     "iopub.execute_input": "2025-07-30T13:59:15.133516Z",
     "iopub.status.busy": "2025-07-30T13:59:15.133008Z",
     "iopub.status.idle": "2025-07-30T13:59:16.027455Z",
     "shell.execute_reply": "2025-07-30T13:59:16.026524Z"
    },
    "papermill": {
     "duration": 0.922794,
     "end_time": "2025-07-30T13:59:16.029228",
     "exception": false,
     "start_time": "2025-07-30T13:59:15.106434",
     "status": "completed"
    },
    "tags": []
   },
   "outputs": [],
   "source": [
    "from fairness_multiverse.conformal import predict_conformal_sets\n",
    "\n",
    "# Generate prediction sets for each test example\n",
    "pred_sets = predict_conformal_sets(model, X_test, q_hat)"
   ]
  },
  {
   "cell_type": "code",
   "execution_count": 54,
   "id": "d90c9a65-e6db-4f5d-80cd-e68fb7e46829",
   "metadata": {
    "execution": {
     "iopub.execute_input": "2025-07-30T13:59:16.080575Z",
     "iopub.status.busy": "2025-07-30T13:59:16.079912Z",
     "iopub.status.idle": "2025-07-30T13:59:16.085343Z",
     "shell.execute_reply": "2025-07-30T13:59:16.084400Z"
    },
    "papermill": {
     "duration": 0.033106,
     "end_time": "2025-07-30T13:59:16.086819",
     "exception": false,
     "start_time": "2025-07-30T13:59:16.053713",
     "status": "completed"
    },
    "tags": []
   },
   "outputs": [],
   "source": [
    "y_true = y_true.squeeze()"
   ]
  },
  {
   "cell_type": "code",
   "execution_count": 55,
   "id": "3a58a54a-1e68-46b9-927a-df01f18aebc8",
   "metadata": {
    "execution": {
     "iopub.execute_input": "2025-07-30T13:59:16.138124Z",
     "iopub.status.busy": "2025-07-30T13:59:16.137393Z",
     "iopub.status.idle": "2025-07-30T13:59:17.060550Z",
     "shell.execute_reply": "2025-07-30T13:59:17.059472Z"
    },
    "papermill": {
     "duration": 0.950128,
     "end_time": "2025-07-30T13:59:17.062189",
     "exception": false,
     "start_time": "2025-07-30T13:59:16.112061",
     "status": "completed"
    },
    "tags": []
   },
   "outputs": [],
   "source": [
    "from fairness_multiverse.conformal import evaluate_sets\n",
    "\n",
    "# Evaluate coverage and average set size on test data\n",
    "metrics = evaluate_sets(pred_sets, y_true)"
   ]
  },
  {
   "cell_type": "markdown",
   "id": "2b569c12-9aaa-4c88-98c9-bbcd0cf3ebb8",
   "metadata": {
    "papermill": {
     "duration": 0.035836,
     "end_time": "2025-07-30T13:59:17.131137",
     "exception": false,
     "start_time": "2025-07-30T13:59:17.095301",
     "status": "completed"
    },
    "tags": []
   },
   "source": [
    "# CP Metrics"
   ]
  },
  {
   "cell_type": "code",
   "execution_count": 56,
   "id": "5ce0a5cb-201f-45a0-ade5-94c7f0bd6095",
   "metadata": {
    "execution": {
     "iopub.execute_input": "2025-07-30T13:59:17.183649Z",
     "iopub.status.busy": "2025-07-30T13:59:17.183256Z",
     "iopub.status.idle": "2025-07-30T13:59:17.190604Z",
     "shell.execute_reply": "2025-07-30T13:59:17.189702Z"
    },
    "papermill": {
     "duration": 0.029545,
     "end_time": "2025-07-30T13:59:17.192217",
     "exception": false,
     "start_time": "2025-07-30T13:59:17.162672",
     "status": "completed"
    },
    "tags": []
   },
   "outputs": [
    {
     "data": {
      "text/plain": [
       "{'coverage': 0.9102664140006688, 'avg_size': 1.1372199308884183}"
      ]
     },
     "execution_count": 56,
     "metadata": {},
     "output_type": "execute_result"
    }
   ],
   "source": [
    "metrics"
   ]
  },
  {
   "cell_type": "code",
   "execution_count": 57,
   "id": "9b9a838d-31c9-430b-ae14-12baee460d17",
   "metadata": {
    "execution": {
     "iopub.execute_input": "2025-07-30T13:59:17.245700Z",
     "iopub.status.busy": "2025-07-30T13:59:17.244861Z",
     "iopub.status.idle": "2025-07-30T13:59:17.251178Z",
     "shell.execute_reply": "2025-07-30T13:59:17.250220Z"
    },
    "papermill": {
     "duration": 0.0349,
     "end_time": "2025-07-30T13:59:17.252812",
     "exception": false,
     "start_time": "2025-07-30T13:59:17.217912",
     "status": "completed"
    },
    "tags": []
   },
   "outputs": [],
   "source": [
    "example_universe = universe.copy()\n",
    "universe_training_size = example_universe.get(\"training_size\")\n",
    "universe_scale = example_universe.get(\"scale\")\n",
    "universe_model = example_universe.get(\"model\")\n",
    "universe_exclude_features = example_universe.get(\"exclude_features\")\n",
    "universe_exclude_subgroups = example_universe.get(\"exclude_subgroups\")"
   ]
  },
  {
   "cell_type": "code",
   "execution_count": 58,
   "id": "f4b6a8ac-9dc0-4245-8a91-5b3b5999c4f9",
   "metadata": {
    "execution": {
     "iopub.execute_input": "2025-07-30T13:59:17.304909Z",
     "iopub.status.busy": "2025-07-30T13:59:17.303975Z",
     "iopub.status.idle": "2025-07-30T13:59:17.310865Z",
     "shell.execute_reply": "2025-07-30T13:59:17.309906Z"
    },
    "papermill": {
     "duration": 0.033554,
     "end_time": "2025-07-30T13:59:17.312646",
     "exception": false,
     "start_time": "2025-07-30T13:59:17.279092",
     "status": "completed"
    },
    "tags": []
   },
   "outputs": [],
   "source": [
    "cp_metrics_dict = {\n",
    "    \"universe_id\": [universe_id],\n",
    "    \"universe_training_size\": [universe_training_size],\n",
    "    \"universe_scale\": [universe_scale],\n",
    "    \"universe_model\": [universe_model],\n",
    "    \"universe_exclude_features\": [universe_exclude_features],\n",
    "    \"universe_exclude_subgroups\": [universe_exclude_subgroups],\n",
    "    \"q_hat\": [q_hat],\n",
    "    \"coverage\": [metrics[\"coverage\"]],\n",
    "    \"avg_size\": [metrics[\"avg_size\"]],\n",
    "}"
   ]
  },
  {
   "cell_type": "code",
   "execution_count": 59,
   "id": "908acbb1-0371-4915-85ca-3fa520d2efe2",
   "metadata": {
    "execution": {
     "iopub.execute_input": "2025-07-30T13:59:17.366281Z",
     "iopub.status.busy": "2025-07-30T13:59:17.364539Z",
     "iopub.status.idle": "2025-07-30T13:59:17.373322Z",
     "shell.execute_reply": "2025-07-30T13:59:17.372324Z"
    },
    "papermill": {
     "duration": 0.036388,
     "end_time": "2025-07-30T13:59:17.375020",
     "exception": false,
     "start_time": "2025-07-30T13:59:17.338632",
     "status": "completed"
    },
    "tags": []
   },
   "outputs": [
    {
     "data": {
      "text/plain": [
       "{'universe_id': ['3dc49f795517d0959d7f441c87b53566'],\n",
       " 'universe_training_size': ['5k'],\n",
       " 'universe_scale': ['scale'],\n",
       " 'universe_model': ['elasticnet'],\n",
       " 'universe_exclude_features': ['age'],\n",
       " 'universe_exclude_subgroups': ['keep-all'],\n",
       " 'q_hat': [0.6896802330328337],\n",
       " 'coverage': [0.9102664140006688],\n",
       " 'avg_size': [1.1372199308884183]}"
      ]
     },
     "execution_count": 59,
     "metadata": {},
     "output_type": "execute_result"
    }
   ],
   "source": [
    "cp_metrics_dict"
   ]
  },
  {
   "cell_type": "code",
   "execution_count": 60,
   "id": "33007efc-14e9-4ec6-97ac-56a455c82265",
   "metadata": {
    "execution": {
     "iopub.execute_input": "2025-07-30T13:59:17.430268Z",
     "iopub.status.busy": "2025-07-30T13:59:17.429311Z",
     "iopub.status.idle": "2025-07-30T13:59:17.436021Z",
     "shell.execute_reply": "2025-07-30T13:59:17.434992Z"
    },
    "papermill": {
     "duration": 0.035829,
     "end_time": "2025-07-30T13:59:17.437797",
     "exception": false,
     "start_time": "2025-07-30T13:59:17.401968",
     "status": "completed"
    },
    "tags": []
   },
   "outputs": [],
   "source": [
    "cp_metrics_df = pd.DataFrame(cp_metrics_dict)"
   ]
  },
  {
   "cell_type": "code",
   "execution_count": 61,
   "id": "db12611b-57b2-4910-b9d0-355adfd6e7bf",
   "metadata": {
    "execution": {
     "iopub.execute_input": "2025-07-30T13:59:17.491247Z",
     "iopub.status.busy": "2025-07-30T13:59:17.490489Z",
     "iopub.status.idle": "2025-07-30T13:59:17.509463Z",
     "shell.execute_reply": "2025-07-30T13:59:17.508470Z"
    },
    "papermill": {
     "duration": 0.046685,
     "end_time": "2025-07-30T13:59:17.511109",
     "exception": false,
     "start_time": "2025-07-30T13:59:17.464424",
     "status": "completed"
    },
    "tags": []
   },
   "outputs": [
    {
     "data": {
      "text/html": [
       "<div>\n",
       "<style scoped>\n",
       "    .dataframe tbody tr th:only-of-type {\n",
       "        vertical-align: middle;\n",
       "    }\n",
       "\n",
       "    .dataframe tbody tr th {\n",
       "        vertical-align: top;\n",
       "    }\n",
       "\n",
       "    .dataframe thead th {\n",
       "        text-align: right;\n",
       "    }\n",
       "</style>\n",
       "<table border=\"1\" class=\"dataframe\">\n",
       "  <thead>\n",
       "    <tr style=\"text-align: right;\">\n",
       "      <th></th>\n",
       "      <th>universe_id</th>\n",
       "      <th>universe_training_size</th>\n",
       "      <th>universe_scale</th>\n",
       "      <th>universe_model</th>\n",
       "      <th>universe_exclude_features</th>\n",
       "      <th>universe_exclude_subgroups</th>\n",
       "      <th>q_hat</th>\n",
       "      <th>coverage</th>\n",
       "      <th>avg_size</th>\n",
       "    </tr>\n",
       "  </thead>\n",
       "  <tbody>\n",
       "    <tr>\n",
       "      <th>0</th>\n",
       "      <td>3dc49f795517d0959d7f441c87b53566</td>\n",
       "      <td>5k</td>\n",
       "      <td>scale</td>\n",
       "      <td>elasticnet</td>\n",
       "      <td>age</td>\n",
       "      <td>keep-all</td>\n",
       "      <td>0.68968</td>\n",
       "      <td>0.910266</td>\n",
       "      <td>1.13722</td>\n",
       "    </tr>\n",
       "  </tbody>\n",
       "</table>\n",
       "</div>"
      ],
      "text/plain": [
       "                        universe_id universe_training_size universe_scale  \\\n",
       "0  3dc49f795517d0959d7f441c87b53566                     5k          scale   \n",
       "\n",
       "  universe_model universe_exclude_features universe_exclude_subgroups  \\\n",
       "0     elasticnet                       age                   keep-all   \n",
       "\n",
       "     q_hat  coverage  avg_size  \n",
       "0  0.68968  0.910266   1.13722  "
      ]
     },
     "execution_count": 61,
     "metadata": {},
     "output_type": "execute_result"
    }
   ],
   "source": [
    "cp_metrics_df"
   ]
  },
  {
   "cell_type": "code",
   "execution_count": 62,
   "id": "b7fbde55-a0a1-47e4-9af6-fe4a17fa8c61",
   "metadata": {
    "execution": {
     "iopub.execute_input": "2025-07-30T13:59:17.565827Z",
     "iopub.status.busy": "2025-07-30T13:59:17.565132Z",
     "iopub.status.idle": "2025-07-30T13:59:17.570539Z",
     "shell.execute_reply": "2025-07-30T13:59:17.569551Z"
    },
    "papermill": {
     "duration": 0.034313,
     "end_time": "2025-07-30T13:59:17.572307",
     "exception": false,
     "start_time": "2025-07-30T13:59:17.537994",
     "status": "completed"
    },
    "tags": []
   },
   "outputs": [],
   "source": [
    "# Conditional Coverage & looking at subgroups"
   ]
  },
  {
   "cell_type": "code",
   "execution_count": 63,
   "id": "027ae886-68dd-4141-96c7-805a5450e1ef",
   "metadata": {
    "execution": {
     "iopub.execute_input": "2025-07-30T13:59:17.626693Z",
     "iopub.status.busy": "2025-07-30T13:59:17.625950Z",
     "iopub.status.idle": "2025-07-30T13:59:17.888624Z",
     "shell.execute_reply": "2025-07-30T13:59:17.887607Z"
    },
    "papermill": {
     "duration": 0.290967,
     "end_time": "2025-07-30T13:59:17.890410",
     "exception": false,
     "start_time": "2025-07-30T13:59:17.599443",
     "status": "completed"
    },
    "tags": []
   },
   "outputs": [],
   "source": [
    "from fairness_multiverse.conformal import build_cp_groups\n",
    "\n",
    "cp_groups_df = build_cp_groups(pred_sets, y_true, X_test.index, org_test)\n",
    "#needs universe_id and setting"
   ]
  },
  {
   "cell_type": "code",
   "execution_count": 64,
   "id": "01d5802c-663a-4d1f-9d69-e036faaffbf7",
   "metadata": {
    "execution": {
     "iopub.execute_input": "2025-07-30T13:59:17.946239Z",
     "iopub.status.busy": "2025-07-30T13:59:17.945738Z",
     "iopub.status.idle": "2025-07-30T13:59:17.950764Z",
     "shell.execute_reply": "2025-07-30T13:59:17.949841Z"
    },
    "papermill": {
     "duration": 0.035227,
     "end_time": "2025-07-30T13:59:17.952505",
     "exception": false,
     "start_time": "2025-07-30T13:59:17.917278",
     "status": "completed"
    },
    "tags": []
   },
   "outputs": [],
   "source": [
    "#delete\n",
    "#cp_groups_df"
   ]
  },
  {
   "cell_type": "code",
   "execution_count": 65,
   "id": "fa424af1-d1eb-443d-b717-2d279ada8408",
   "metadata": {
    "execution": {
     "iopub.execute_input": "2025-07-30T13:59:18.007113Z",
     "iopub.status.busy": "2025-07-30T13:59:18.006616Z",
     "iopub.status.idle": "2025-07-30T13:59:18.011902Z",
     "shell.execute_reply": "2025-07-30T13:59:18.010893Z"
    },
    "papermill": {
     "duration": 0.034964,
     "end_time": "2025-07-30T13:59:18.013634",
     "exception": false,
     "start_time": "2025-07-30T13:59:17.978670",
     "status": "completed"
    },
    "tags": []
   },
   "outputs": [],
   "source": [
    "#delete\n",
    "#percentage = (cp_groups_df['nongerman_female'] == 1).mean() * 100\n",
    "#print(percentage)\n"
   ]
  },
  {
   "cell_type": "code",
   "execution_count": 66,
   "id": "6cbdab96-b2b2-45af-ad54-d0516db2e28d",
   "metadata": {
    "execution": {
     "iopub.execute_input": "2025-07-30T13:59:18.068445Z",
     "iopub.status.busy": "2025-07-30T13:59:18.067731Z",
     "iopub.status.idle": "2025-07-30T13:59:19.675683Z",
     "shell.execute_reply": "2025-07-30T13:59:19.674812Z"
    },
    "papermill": {
     "duration": 1.637835,
     "end_time": "2025-07-30T13:59:19.677591",
     "exception": false,
     "start_time": "2025-07-30T13:59:18.039756",
     "status": "completed"
    },
    "tags": []
   },
   "outputs": [],
   "source": [
    "# Define covered = 1 if true_label is in the predicted set\n",
    "cp_groups_df['covered'] = cp_groups_df.apply(\n",
    "    lambda r: int(r['true_label'] in r['pred_set']),\n",
    "    axis=1\n",
    ")"
   ]
  },
  {
   "cell_type": "code",
   "execution_count": 67,
   "id": "338ff529-1a6b-4b87-a931-8e4788d52aad",
   "metadata": {
    "execution": {
     "iopub.execute_input": "2025-07-30T13:59:19.730881Z",
     "iopub.status.busy": "2025-07-30T13:59:19.730272Z",
     "iopub.status.idle": "2025-07-30T13:59:19.734298Z",
     "shell.execute_reply": "2025-07-30T13:59:19.733592Z"
    },
    "papermill": {
     "duration": 0.034156,
     "end_time": "2025-07-30T13:59:19.735825",
     "exception": false,
     "start_time": "2025-07-30T13:59:19.701669",
     "status": "completed"
    },
    "tags": []
   },
   "outputs": [],
   "source": [
    "#cp_groups_df"
   ]
  },
  {
   "cell_type": "code",
   "execution_count": 68,
   "id": "90032e27-66df-4540-9169-4e89cfbaa758",
   "metadata": {
    "execution": {
     "iopub.execute_input": "2025-07-30T13:59:19.778575Z",
     "iopub.status.busy": "2025-07-30T13:59:19.778174Z",
     "iopub.status.idle": "2025-07-30T13:59:19.787310Z",
     "shell.execute_reply": "2025-07-30T13:59:19.786538Z"
    },
    "papermill": {
     "duration": 0.027545,
     "end_time": "2025-07-30T13:59:19.789142",
     "exception": false,
     "start_time": "2025-07-30T13:59:19.761597",
     "status": "completed"
    },
    "tags": []
   },
   "outputs": [],
   "source": [
    "subgroups = ['frau1','nongerman','nongerman_male','nongerman_female']\n",
    "\n",
    "# Conditional coverage for subgroup==1\n",
    "cond_coverage = {\n",
    "    g: cp_groups_df.loc[cp_groups_df[g]==1, 'covered'].mean()\n",
    "    for g in subgroups\n",
    "}"
   ]
  },
  {
   "cell_type": "code",
   "execution_count": 69,
   "id": "1e348fb1-b9c3-45bc-ba23-f016827a7e0d",
   "metadata": {
    "execution": {
     "iopub.execute_input": "2025-07-30T13:59:19.852583Z",
     "iopub.status.busy": "2025-07-30T13:59:19.852138Z",
     "iopub.status.idle": "2025-07-30T13:59:19.859616Z",
     "shell.execute_reply": "2025-07-30T13:59:19.858693Z"
    },
    "papermill": {
     "duration": 0.03615,
     "end_time": "2025-07-30T13:59:19.861311",
     "exception": false,
     "start_time": "2025-07-30T13:59:19.825161",
     "status": "completed"
    },
    "tags": []
   },
   "outputs": [
    {
     "data": {
      "text/plain": [
       "{'frau1': 0.9053511254886103,\n",
       " 'nongerman': 0.9104586537921743,\n",
       " 'nongerman_male': 0.9279474016031704,\n",
       " 'nongerman_female': 0.8815201192250373}"
      ]
     },
     "execution_count": 69,
     "metadata": {},
     "output_type": "execute_result"
    }
   ],
   "source": [
    "cond_coverage"
   ]
  },
  {
   "cell_type": "code",
   "execution_count": 70,
   "id": "f5093324-c3dd-4d63-bc4c-8d945e5c8bbb",
   "metadata": {
    "execution": {
     "iopub.execute_input": "2025-07-30T13:59:19.913549Z",
     "iopub.status.busy": "2025-07-30T13:59:19.913103Z",
     "iopub.status.idle": "2025-07-30T13:59:19.920004Z",
     "shell.execute_reply": "2025-07-30T13:59:19.919120Z"
    },
    "papermill": {
     "duration": 0.036695,
     "end_time": "2025-07-30T13:59:19.921587",
     "exception": false,
     "start_time": "2025-07-30T13:59:19.884892",
     "status": "completed"
    },
    "tags": []
   },
   "outputs": [],
   "source": [
    "for subgroup, cov in cond_coverage.items():\n",
    "    cp_metrics_df[f\"cov_{subgroup}\"] = cov"
   ]
  },
  {
   "cell_type": "code",
   "execution_count": 71,
   "id": "6e872e10-dbe5-49e8-b554-5030c98ff75d",
   "metadata": {
    "execution": {
     "iopub.execute_input": "2025-07-30T13:59:19.965868Z",
     "iopub.status.busy": "2025-07-30T13:59:19.965364Z",
     "iopub.status.idle": "2025-07-30T13:59:19.985431Z",
     "shell.execute_reply": "2025-07-30T13:59:19.984326Z"
    },
    "papermill": {
     "duration": 0.049889,
     "end_time": "2025-07-30T13:59:19.987053",
     "exception": false,
     "start_time": "2025-07-30T13:59:19.937164",
     "status": "completed"
    },
    "tags": []
   },
   "outputs": [
    {
     "data": {
      "text/html": [
       "<div>\n",
       "<style scoped>\n",
       "    .dataframe tbody tr th:only-of-type {\n",
       "        vertical-align: middle;\n",
       "    }\n",
       "\n",
       "    .dataframe tbody tr th {\n",
       "        vertical-align: top;\n",
       "    }\n",
       "\n",
       "    .dataframe thead th {\n",
       "        text-align: right;\n",
       "    }\n",
       "</style>\n",
       "<table border=\"1\" class=\"dataframe\">\n",
       "  <thead>\n",
       "    <tr style=\"text-align: right;\">\n",
       "      <th></th>\n",
       "      <th>universe_id</th>\n",
       "      <th>universe_training_size</th>\n",
       "      <th>universe_scale</th>\n",
       "      <th>universe_model</th>\n",
       "      <th>universe_exclude_features</th>\n",
       "      <th>universe_exclude_subgroups</th>\n",
       "      <th>q_hat</th>\n",
       "      <th>coverage</th>\n",
       "      <th>avg_size</th>\n",
       "      <th>cov_frau1</th>\n",
       "      <th>cov_nongerman</th>\n",
       "      <th>cov_nongerman_male</th>\n",
       "      <th>cov_nongerman_female</th>\n",
       "    </tr>\n",
       "  </thead>\n",
       "  <tbody>\n",
       "    <tr>\n",
       "      <th>0</th>\n",
       "      <td>3dc49f795517d0959d7f441c87b53566</td>\n",
       "      <td>5k</td>\n",
       "      <td>scale</td>\n",
       "      <td>elasticnet</td>\n",
       "      <td>age</td>\n",
       "      <td>keep-all</td>\n",
       "      <td>0.68968</td>\n",
       "      <td>0.910266</td>\n",
       "      <td>1.13722</td>\n",
       "      <td>0.905351</td>\n",
       "      <td>0.910459</td>\n",
       "      <td>0.927947</td>\n",
       "      <td>0.88152</td>\n",
       "    </tr>\n",
       "  </tbody>\n",
       "</table>\n",
       "</div>"
      ],
      "text/plain": [
       "                        universe_id universe_training_size universe_scale  \\\n",
       "0  3dc49f795517d0959d7f441c87b53566                     5k          scale   \n",
       "\n",
       "  universe_model universe_exclude_features universe_exclude_subgroups  \\\n",
       "0     elasticnet                       age                   keep-all   \n",
       "\n",
       "     q_hat  coverage  avg_size  cov_frau1  cov_nongerman  cov_nongerman_male  \\\n",
       "0  0.68968  0.910266   1.13722   0.905351       0.910459            0.927947   \n",
       "\n",
       "   cov_nongerman_female  \n",
       "0               0.88152  "
      ]
     },
     "execution_count": 71,
     "metadata": {},
     "output_type": "execute_result"
    }
   ],
   "source": [
    "cp_metrics_df"
   ]
  },
  {
   "cell_type": "markdown",
   "id": "33774451",
   "metadata": {
    "papermill": {
     "duration": 0.025861,
     "end_time": "2025-07-30T13:59:20.041255",
     "exception": false,
     "start_time": "2025-07-30T13:59:20.015394",
     "status": "completed"
    },
    "tags": []
   },
   "source": [
    "# (Fairness) Metrics"
   ]
  },
  {
   "cell_type": "code",
   "execution_count": 72,
   "id": "debc5d62",
   "metadata": {
    "execution": {
     "iopub.execute_input": "2025-07-30T13:59:20.094432Z",
     "iopub.status.busy": "2025-07-30T13:59:20.094036Z",
     "iopub.status.idle": "2025-07-30T13:59:20.108406Z",
     "shell.execute_reply": "2025-07-30T13:59:20.107596Z"
    },
    "papermill": {
     "duration": 0.041084,
     "end_time": "2025-07-30T13:59:20.109727",
     "exception": false,
     "start_time": "2025-07-30T13:59:20.068643",
     "status": "completed"
    },
    "tags": []
   },
   "outputs": [],
   "source": [
    "# do I need to include maxdeutsch1.missing?\n",
    "\n",
    "import numpy as np\n",
    "\n",
    "colname_to_bin = \"maxdeutsch1\"\n",
    "majority_value = org_train[colname_to_bin].mode()[0]\n",
    "\n",
    "org_test[\"majmin\"] = np.where(org_test[colname_to_bin] == majority_value, \"majority\", \"minority\")"
   ]
  },
  {
   "cell_type": "code",
   "execution_count": 73,
   "id": "06a50de5",
   "metadata": {
    "execution": {
     "iopub.execute_input": "2025-07-30T13:59:20.148566Z",
     "iopub.status.busy": "2025-07-30T13:59:20.148108Z",
     "iopub.status.idle": "2025-07-30T13:59:22.623888Z",
     "shell.execute_reply": "2025-07-30T13:59:22.623148Z"
    },
    "papermill": {
     "duration": 2.499876,
     "end_time": "2025-07-30T13:59:22.625421",
     "exception": false,
     "start_time": "2025-07-30T13:59:20.125545",
     "status": "completed"
    },
    "tags": []
   },
   "outputs": [],
   "source": [
    "example_universe = universe.copy()\n",
    "example_universe[\"cutoff\"] = example_universe[\"cutoff\"][0]\n",
    "example_universe[\"eval_fairness_grouping\"] = example_universe[\"eval_fairness_grouping\"][0]\n",
    "fairness_dict, metric_frame = universe_analysis.compute_metrics(\n",
    "    example_universe,\n",
    "    y_pred_prob=probs_test,\n",
    "    y_test=y_true,\n",
    "    org_test=org_test,\n",
    ")"
   ]
  },
  {
   "cell_type": "markdown",
   "id": "f95d4e02",
   "metadata": {
    "papermill": {
     "duration": 0.013917,
     "end_time": "2025-07-30T13:59:22.656136",
     "exception": false,
     "start_time": "2025-07-30T13:59:22.642219",
     "status": "completed"
    },
    "tags": []
   },
   "source": [
    "# Overall"
   ]
  },
  {
   "cell_type": "markdown",
   "id": "bdee4871",
   "metadata": {
    "papermill": {
     "duration": 0.015251,
     "end_time": "2025-07-30T13:59:22.685634",
     "exception": false,
     "start_time": "2025-07-30T13:59:22.670383",
     "status": "completed"
    },
    "tags": []
   },
   "source": [
    "Fairness\n",
    "Main fairness target: Equalized Odds. Seems to be a better fit than equal opportunity, since we're not only interested in Y = 1. Seems to be a better fit than demographic parity, since we also care about accuracy, not just equal distribution of preds.\n",
    "\n",
    "Pick column for computation of fairness metrics\n",
    "\n",
    "Performance\n",
    "Overall performance measures, most interesting in relation to the measures split by group below"
   ]
  },
  {
   "cell_type": "code",
   "execution_count": 74,
   "id": "c4e067c6",
   "metadata": {
    "execution": {
     "iopub.execute_input": "2025-07-30T13:59:22.733099Z",
     "iopub.status.busy": "2025-07-30T13:59:22.732568Z",
     "iopub.status.idle": "2025-07-30T13:59:22.741459Z",
     "shell.execute_reply": "2025-07-30T13:59:22.740495Z"
    },
    "papermill": {
     "duration": 0.041122,
     "end_time": "2025-07-30T13:59:22.742720",
     "exception": false,
     "start_time": "2025-07-30T13:59:22.701598",
     "status": "completed"
    },
    "tags": []
   },
   "outputs": [
    {
     "data": {
      "text/plain": [
       "accuracy                   0.224044\n",
       "balanced accuracy          0.547888\n",
       "f1                         0.245385\n",
       "precision                  0.140180\n",
       "false positive rate        0.887714\n",
       "false negative rate        0.016510\n",
       "selection rate             0.900000\n",
       "count                  89710.000000\n",
       "dtype: float64"
      ]
     },
     "execution_count": 74,
     "metadata": {},
     "output_type": "execute_result"
    }
   ],
   "source": [
    "metric_frame.overall"
   ]
  },
  {
   "cell_type": "markdown",
   "id": "e968fe9d",
   "metadata": {
    "papermill": {
     "duration": 0.026577,
     "end_time": "2025-07-30T13:59:22.798788",
     "exception": false,
     "start_time": "2025-07-30T13:59:22.772211",
     "status": "completed"
    },
    "tags": []
   },
   "source": [
    "By Group"
   ]
  },
  {
   "cell_type": "code",
   "execution_count": 75,
   "id": "ec325bce",
   "metadata": {
    "execution": {
     "iopub.execute_input": "2025-07-30T13:59:22.848093Z",
     "iopub.status.busy": "2025-07-30T13:59:22.847671Z",
     "iopub.status.idle": "2025-07-30T13:59:22.860138Z",
     "shell.execute_reply": "2025-07-30T13:59:22.859379Z"
    },
    "papermill": {
     "duration": 0.034128,
     "end_time": "2025-07-30T13:59:22.861311",
     "exception": false,
     "start_time": "2025-07-30T13:59:22.827183",
     "status": "completed"
    },
    "tags": []
   },
   "outputs": [
    {
     "data": {
      "text/html": [
       "<div>\n",
       "<style scoped>\n",
       "    .dataframe tbody tr th:only-of-type {\n",
       "        vertical-align: middle;\n",
       "    }\n",
       "\n",
       "    .dataframe tbody tr th {\n",
       "        vertical-align: top;\n",
       "    }\n",
       "\n",
       "    .dataframe thead th {\n",
       "        text-align: right;\n",
       "    }\n",
       "</style>\n",
       "<table border=\"1\" class=\"dataframe\">\n",
       "  <thead>\n",
       "    <tr style=\"text-align: right;\">\n",
       "      <th></th>\n",
       "      <th>accuracy</th>\n",
       "      <th>balanced accuracy</th>\n",
       "      <th>f1</th>\n",
       "      <th>precision</th>\n",
       "      <th>false positive rate</th>\n",
       "      <th>false negative rate</th>\n",
       "      <th>selection rate</th>\n",
       "      <th>count</th>\n",
       "    </tr>\n",
       "    <tr>\n",
       "      <th>majmin</th>\n",
       "      <th></th>\n",
       "      <th></th>\n",
       "      <th></th>\n",
       "      <th></th>\n",
       "      <th></th>\n",
       "      <th></th>\n",
       "      <th></th>\n",
       "      <th></th>\n",
       "    </tr>\n",
       "  </thead>\n",
       "  <tbody>\n",
       "    <tr>\n",
       "      <th>majority</th>\n",
       "      <td>0.24768</td>\n",
       "      <td>0.558497</td>\n",
       "      <td>0.256281</td>\n",
       "      <td>0.147394</td>\n",
       "      <td>0.863968</td>\n",
       "      <td>0.019037</td>\n",
       "      <td>0.879427</td>\n",
       "      <td>69170.0</td>\n",
       "    </tr>\n",
       "    <tr>\n",
       "      <th>minority</th>\n",
       "      <td>0.14445</td>\n",
       "      <td>0.513543</td>\n",
       "      <td>0.211159</td>\n",
       "      <td>0.118138</td>\n",
       "      <td>0.966157</td>\n",
       "      <td>0.006757</td>\n",
       "      <td>0.969279</td>\n",
       "      <td>20540.0</td>\n",
       "    </tr>\n",
       "  </tbody>\n",
       "</table>\n",
       "</div>"
      ],
      "text/plain": [
       "          accuracy  balanced accuracy        f1  precision  \\\n",
       "majmin                                                       \n",
       "majority   0.24768           0.558497  0.256281   0.147394   \n",
       "minority   0.14445           0.513543  0.211159   0.118138   \n",
       "\n",
       "          false positive rate  false negative rate  selection rate    count  \n",
       "majmin                                                                       \n",
       "majority             0.863968             0.019037        0.879427  69170.0  \n",
       "minority             0.966157             0.006757        0.969279  20540.0  "
      ]
     },
     "execution_count": 75,
     "metadata": {},
     "output_type": "execute_result"
    }
   ],
   "source": [
    "metric_frame.by_group"
   ]
  },
  {
   "cell_type": "code",
   "execution_count": 76,
   "id": "a9ddbe63",
   "metadata": {
    "execution": {
     "iopub.execute_input": "2025-07-30T13:59:22.890571Z",
     "iopub.status.busy": "2025-07-30T13:59:22.890241Z",
     "iopub.status.idle": "2025-07-30T13:59:25.186623Z",
     "shell.execute_reply": "2025-07-30T13:59:25.185783Z"
    },
    "papermill": {
     "duration": 2.312801,
     "end_time": "2025-07-30T13:59:25.188452",
     "exception": false,
     "start_time": "2025-07-30T13:59:22.875651",
     "status": "completed"
    },
    "tags": []
   },
   "outputs": [
    {
     "data": {
      "text/plain": [
       "array([[<Axes: title={'center': 'accuracy'}, xlabel='majmin'>,\n",
       "        <Axes: title={'center': 'balanced accuracy'}, xlabel='majmin'>,\n",
       "        <Axes: title={'center': 'f1'}, xlabel='majmin'>],\n",
       "       [<Axes: title={'center': 'precision'}, xlabel='majmin'>,\n",
       "        <Axes: title={'center': 'false positive rate'}, xlabel='majmin'>,\n",
       "        <Axes: title={'center': 'false negative rate'}, xlabel='majmin'>],\n",
       "       [<Axes: title={'center': 'selection rate'}, xlabel='majmin'>,\n",
       "        <Axes: title={'center': 'count'}, xlabel='majmin'>,\n",
       "        <Axes: xlabel='majmin'>]], dtype=object)"
      ]
     },
     "execution_count": 76,
     "metadata": {},
     "output_type": "execute_result"
    },
    {
     "data": {
      "image/png": "[encoded data removed]",
      "text/plain": [
       "<Figure size 1200x800 with 9 Axes>"
      ]
     },
     "metadata": {},
     "output_type": "display_data"
    }
   ],
   "source": [
    "# In a graphic\n",
    "metric_frame.by_group.plot.bar(\n",
    "    subplots=True,\n",
    "    layout=[3, 3],\n",
    "    legend=False,\n",
    "    figsize=[12, 8],\n",
    "    title=\"Show all metrics\",\n",
    ")"
   ]
  },
  {
   "cell_type": "markdown",
   "id": "f57a0bac",
   "metadata": {
    "papermill": {
     "duration": 0.033758,
     "end_time": "2025-07-30T13:59:25.257299",
     "exception": false,
     "start_time": "2025-07-30T13:59:25.223541",
     "status": "completed"
    },
    "tags": []
   },
   "source": [
    "# Final Output"
   ]
  },
  {
   "cell_type": "code",
   "execution_count": 77,
   "id": "96d280a3",
   "metadata": {
    "execution": {
     "iopub.execute_input": "2025-07-30T13:59:25.324444Z",
     "iopub.status.busy": "2025-07-30T13:59:25.323652Z",
     "iopub.status.idle": "2025-07-30T13:59:25.332734Z",
     "shell.execute_reply": "2025-07-30T13:59:25.331617Z"
    },
    "papermill": {
     "duration": 0.044851,
     "end_time": "2025-07-30T13:59:25.334196",
     "exception": false,
     "start_time": "2025-07-30T13:59:25.289345",
     "status": "completed"
    },
    "tags": []
   },
   "outputs": [
    {
     "data": {
      "text/plain": [
       "4"
      ]
     },
     "execution_count": 77,
     "metadata": {},
     "output_type": "execute_result"
    }
   ],
   "source": [
    "sub_universes = universe_analysis.generate_sub_universes()\n",
    "len(sub_universes)"
   ]
  },
  {
   "cell_type": "code",
   "execution_count": 78,
   "id": "92adf7ba",
   "metadata": {
    "execution": {
     "iopub.execute_input": "2025-07-30T13:59:25.398240Z",
     "iopub.status.busy": "2025-07-30T13:59:25.397372Z",
     "iopub.status.idle": "2025-07-30T13:59:25.404083Z",
     "shell.execute_reply": "2025-07-30T13:59:25.403068Z"
    },
    "papermill": {
     "duration": 0.041552,
     "end_time": "2025-07-30T13:59:25.405686",
     "exception": false,
     "start_time": "2025-07-30T13:59:25.364134",
     "status": "completed"
    },
    "tags": []
   },
   "outputs": [],
   "source": [
    "def filter_sub_universe_data(sub_universe, org_test):\n",
    "    # Keep all rows — no filtering\n",
    "    keep_rows_mask = np.ones(org_test.shape[0], dtype=bool)\n",
    "\n",
    "    print(f\"[INFO] Keeping all rows: {keep_rows_mask.sum()} rows retained.\")\n",
    "    return keep_rows_mask"
   ]
  },
  {
   "cell_type": "code",
   "execution_count": 79,
   "id": "4a759155",
   "metadata": {
    "execution": {
     "iopub.execute_input": "2025-07-30T13:59:25.468951Z",
     "iopub.status.busy": "2025-07-30T13:59:25.468420Z",
     "iopub.status.idle": "2025-07-30T13:59:32.744404Z",
     "shell.execute_reply": "2025-07-30T13:59:32.743683Z"
    },
    "papermill": {
     "duration": 7.309305,
     "end_time": "2025-07-30T13:59:32.745605",
     "exception": false,
     "start_time": "2025-07-30T13:59:25.436300",
     "status": "completed"
    },
    "tags": []
   },
   "outputs": [
    {
     "name": "stdout",
     "output_type": "stream",
     "text": [
      "Stopping execution_time clock.\n",
      "[INFO] Keeping all rows: 89710 rows retained.\n"
     ]
    },
    {
     "name": "stdout",
     "output_type": "stream",
     "text": [
      "[INFO] Keeping all rows: 89710 rows retained.\n"
     ]
    },
    {
     "name": "stdout",
     "output_type": "stream",
     "text": [
      "[INFO] Keeping all rows: 89710 rows retained.\n"
     ]
    },
    {
     "name": "stdout",
     "output_type": "stream",
     "text": [
      "[INFO] Keeping all rows: 89710 rows retained.\n"
     ]
    },
    {
     "data": {
      "text/html": [
       "<div>\n",
       "<style scoped>\n",
       "    .dataframe tbody tr th:only-of-type {\n",
       "        vertical-align: middle;\n",
       "    }\n",
       "\n",
       "    .dataframe tbody tr th {\n",
       "        vertical-align: top;\n",
       "    }\n",
       "\n",
       "    .dataframe thead th {\n",
       "        text-align: right;\n",
       "    }\n",
       "</style>\n",
       "<table border=\"1\" class=\"dataframe\">\n",
       "  <thead>\n",
       "    <tr style=\"text-align: right;\">\n",
       "      <th></th>\n",
       "      <th>run_no</th>\n",
       "      <th>universe_id</th>\n",
       "      <th>universe_settings</th>\n",
       "      <th>execution_time</th>\n",
       "      <th>test_size_n</th>\n",
       "      <th>test_size_frac</th>\n",
       "      <th>fair_main_equalized_odds_difference</th>\n",
       "      <th>fair_main_equalized_odds_ratio</th>\n",
       "      <th>fair_main_demographic_parity_difference</th>\n",
       "      <th>fair_main_demographic_parity_ratio</th>\n",
       "      <th>...</th>\n",
       "      <th>perf_grp_precision_0</th>\n",
       "      <th>perf_grp_precision_1</th>\n",
       "      <th>perf_grp_false positive rate_0</th>\n",
       "      <th>perf_grp_false positive rate_1</th>\n",
       "      <th>perf_grp_false negative rate_0</th>\n",
       "      <th>perf_grp_false negative rate_1</th>\n",
       "      <th>perf_grp_selection rate_0</th>\n",
       "      <th>perf_grp_selection rate_1</th>\n",
       "      <th>perf_grp_count_0</th>\n",
       "      <th>perf_grp_count_1</th>\n",
       "    </tr>\n",
       "  </thead>\n",
       "  <tbody>\n",
       "    <tr>\n",
       "      <th>0</th>\n",
       "      <td>12</td>\n",
       "      <td>3dc49f795517d0959d7f441c87b53566</td>\n",
       "      <td>{\"cutoff\": \"quantile_0.1\", \"eval_fairness_grou...</td>\n",
       "      <td>37.422267</td>\n",
       "      <td>89710</td>\n",
       "      <td>1.0</td>\n",
       "      <td>0.102189</td>\n",
       "      <td>0.894232</td>\n",
       "      <td>0.089852</td>\n",
       "      <td>0.90730</td>\n",
       "      <td>...</td>\n",
       "      <td>NaN</td>\n",
       "      <td>NaN</td>\n",
       "      <td>NaN</td>\n",
       "      <td>NaN</td>\n",
       "      <td>NaN</td>\n",
       "      <td>NaN</td>\n",
       "      <td>NaN</td>\n",
       "      <td>NaN</td>\n",
       "      <td>NaN</td>\n",
       "      <td>NaN</td>\n",
       "    </tr>\n",
       "    <tr>\n",
       "      <th>0</th>\n",
       "      <td>12</td>\n",
       "      <td>3dc49f795517d0959d7f441c87b53566</td>\n",
       "      <td>{\"cutoff\": \"quantile_0.1\", \"eval_fairness_grou...</td>\n",
       "      <td>37.422267</td>\n",
       "      <td>89710</td>\n",
       "      <td>1.0</td>\n",
       "      <td>0.102189</td>\n",
       "      <td>0.894232</td>\n",
       "      <td>0.089852</td>\n",
       "      <td>0.90730</td>\n",
       "      <td>...</td>\n",
       "      <td>0.118138</td>\n",
       "      <td>0.147394</td>\n",
       "      <td>0.966157</td>\n",
       "      <td>0.863968</td>\n",
       "      <td>0.006757</td>\n",
       "      <td>0.019037</td>\n",
       "      <td>0.969279</td>\n",
       "      <td>0.879427</td>\n",
       "      <td>20540.0</td>\n",
       "      <td>69170.0</td>\n",
       "    </tr>\n",
       "    <tr>\n",
       "      <th>0</th>\n",
       "      <td>12</td>\n",
       "      <td>3dc49f795517d0959d7f441c87b53566</td>\n",
       "      <td>{\"cutoff\": \"quantile_0.25\", \"eval_fairness_gro...</td>\n",
       "      <td>37.422267</td>\n",
       "      <td>89710</td>\n",
       "      <td>1.0</td>\n",
       "      <td>0.198673</td>\n",
       "      <td>0.773067</td>\n",
       "      <td>0.176049</td>\n",
       "      <td>0.80124</td>\n",
       "      <td>...</td>\n",
       "      <td>NaN</td>\n",
       "      <td>NaN</td>\n",
       "      <td>NaN</td>\n",
       "      <td>NaN</td>\n",
       "      <td>NaN</td>\n",
       "      <td>NaN</td>\n",
       "      <td>NaN</td>\n",
       "      <td>NaN</td>\n",
       "      <td>NaN</td>\n",
       "      <td>NaN</td>\n",
       "    </tr>\n",
       "    <tr>\n",
       "      <th>0</th>\n",
       "      <td>12</td>\n",
       "      <td>3dc49f795517d0959d7f441c87b53566</td>\n",
       "      <td>{\"cutoff\": \"quantile_0.25\", \"eval_fairness_gro...</td>\n",
       "      <td>37.422267</td>\n",
       "      <td>89710</td>\n",
       "      <td>1.0</td>\n",
       "      <td>0.198673</td>\n",
       "      <td>0.773067</td>\n",
       "      <td>0.176049</td>\n",
       "      <td>0.80124</td>\n",
       "      <td>...</td>\n",
       "      <td>0.125543</td>\n",
       "      <td>0.172360</td>\n",
       "      <td>0.875468</td>\n",
       "      <td>0.676795</td>\n",
       "      <td>0.035473</td>\n",
       "      <td>0.074289</td>\n",
       "      <td>0.885735</td>\n",
       "      <td>0.709686</td>\n",
       "      <td>20540.0</td>\n",
       "      <td>69170.0</td>\n",
       "    </tr>\n",
       "  </tbody>\n",
       "</table>\n",
       "<p>4 rows × 50 columns</p>\n",
       "</div>"
      ],
      "text/plain": [
       "  run_no                       universe_id  \\\n",
       "0     12  3dc49f795517d0959d7f441c87b53566   \n",
       "0     12  3dc49f795517d0959d7f441c87b53566   \n",
       "0     12  3dc49f795517d0959d7f441c87b53566   \n",
       "0     12  3dc49f795517d0959d7f441c87b53566   \n",
       "\n",
       "                                   universe_settings  execution_time  \\\n",
       "0  {\"cutoff\": \"quantile_0.1\", \"eval_fairness_grou...       37.422267   \n",
       "0  {\"cutoff\": \"quantile_0.1\", \"eval_fairness_grou...       37.422267   \n",
       "0  {\"cutoff\": \"quantile_0.25\", \"eval_fairness_gro...       37.422267   \n",
       "0  {\"cutoff\": \"quantile_0.25\", \"eval_fairness_gro...       37.422267   \n",
       "\n",
       "   test_size_n  test_size_frac  fair_main_equalized_odds_difference  \\\n",
       "0        89710             1.0                             0.102189   \n",
       "0        89710             1.0                             0.102189   \n",
       "0        89710             1.0                             0.198673   \n",
       "0        89710             1.0                             0.198673   \n",
       "\n",
       "   fair_main_equalized_odds_ratio  fair_main_demographic_parity_difference  \\\n",
       "0                        0.894232                                 0.089852   \n",
       "0                        0.894232                                 0.089852   \n",
       "0                        0.773067                                 0.176049   \n",
       "0                        0.773067                                 0.176049   \n",
       "\n",
       "   fair_main_demographic_parity_ratio  ...  perf_grp_precision_0  \\\n",
       "0                             0.90730  ...                   NaN   \n",
       "0                             0.90730  ...              0.118138   \n",
       "0                             0.80124  ...                   NaN   \n",
       "0                             0.80124  ...              0.125543   \n",
       "\n",
       "   perf_grp_precision_1  perf_grp_false positive rate_0  \\\n",
       "0                   NaN                             NaN   \n",
       "0              0.147394                        0.966157   \n",
       "0                   NaN                             NaN   \n",
       "0              0.172360                        0.875468   \n",
       "\n",
       "   perf_grp_false positive rate_1  perf_grp_false negative rate_0  \\\n",
       "0                             NaN                             NaN   \n",
       "0                        0.863968                        0.006757   \n",
       "0                             NaN                             NaN   \n",
       "0                        0.676795                        0.035473   \n",
       "\n",
       "   perf_grp_false negative rate_1  perf_grp_selection rate_0  \\\n",
       "0                             NaN                        NaN   \n",
       "0                        0.019037                   0.969279   \n",
       "0                             NaN                        NaN   \n",
       "0                        0.074289                   0.885735   \n",
       "\n",
       "   perf_grp_selection rate_1  perf_grp_count_0  perf_grp_count_1  \n",
       "0                        NaN               NaN               NaN  \n",
       "0                   0.879427           20540.0           69170.0  \n",
       "0                        NaN               NaN               NaN  \n",
       "0                   0.709686           20540.0           69170.0  \n",
       "\n",
       "[4 rows x 50 columns]"
      ]
     },
     "execution_count": 79,
     "metadata": {},
     "output_type": "execute_result"
    }
   ],
   "source": [
    "final_output = universe_analysis.generate_final_output(\n",
    "    y_pred_prob=probs_test,\n",
    "    y_test=y_true,\n",
    "    org_test=org_test,\n",
    "    filter_data=filter_sub_universe_data,\n",
    "    cp_metrics_df=cp_metrics_df,\n",
    "    save=True,\n",
    ")\n",
    "final_output"
   ]
  },
  {
   "cell_type": "code",
   "execution_count": null,
   "id": "721ff514-cb11-46f8-b6fc-50392f74b5cb",
   "metadata": {
    "papermill": {
     "duration": 0.016202,
     "end_time": "2025-07-30T13:59:32.781052",
     "exception": false,
     "start_time": "2025-07-30T13:59:32.764850",
     "status": "completed"
    },
    "tags": []
   },
   "outputs": [],
   "source": []
  }
 ],
 "metadata": {
  "celltoolbar": "Tags",
  "kernelspec": {
   "display_name": "Python (CMA Fairness)",
   "language": "python",
   "name": "cma_fair_env"
  },
  "language_info": {
   "codemirror_mode": {
    "name": "ipython",
    "version": 3
   },
   "file_extension": ".py",
   "mimetype": "text/x-python",
   "name": "python",
   "nbconvert_exporter": "python",
   "pygments_lexer": "ipython3",
   "version": "3.10.12"
  },
  "papermill": {
   "default_parameters": {},
   "duration": 48.804515,
   "end_time": "2025-07-30T13:59:33.416076",
   "environment_variables": {},
   "exception": null,
   "input_path": "universe_analysis.ipynb",
   "output_path": "output/runs/12/notebooks/m_12-3dc49f795517d0959d7f441c87b53566.ipynb",
   "parameters": {
    "output_dir": "output",
    "run_no": "12",
    "seed": "2023",
    "universe": "{\"cutoff\": [\"quantile_0.1\", \"quantile_0.25\"], \"eval_fairness_grouping\": [\"majority-minority\", \"nationality-all\"], \"exclude_features\": \"age\", \"exclude_subgroups\": \"keep-all\", \"model\": \"elasticnet\", \"scale\": \"scale\", \"training_size\": \"5k\", \"training_year\": \"2012_14\"}",
    "universe_id": "3dc49f795517d0959d7f441c87b53566"
   },
   "start_time": "2025-07-30T13:58:44.611561",
   "version": "2.6.0"
  }
 },
 "nbformat": 4,
 "nbformat_minor": 5
}