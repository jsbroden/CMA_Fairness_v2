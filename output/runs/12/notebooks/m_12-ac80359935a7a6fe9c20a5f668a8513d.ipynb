{
 "cells": [
  {
   "cell_type": "code",
   "execution_count": 1,
   "id": "f159f837-637b-42ba-96b5-ec9a68c44524",
   "metadata": {
    "execution": {
     "iopub.execute_input": "2025-07-30T13:20:19.034307Z",
     "iopub.status.busy": "2025-07-30T13:20:19.033841Z",
     "iopub.status.idle": "2025-07-30T13:20:19.047429Z",
     "shell.execute_reply": "2025-07-30T13:20:19.046497Z"
    },
    "papermill": {
     "duration": 0.035083,
     "end_time": "2025-07-30T13:20:19.049090",
     "exception": false,
     "start_time": "2025-07-30T13:20:19.014007",
     "status": "completed"
    },
    "tags": []
   },
   "outputs": [
    {
     "name": "stdout",
     "output_type": "stream",
     "text": [
      "/dss/dsshome1/0C/ra93lal2/cma/CMA_Fairness_v2\n"
     ]
    },
    {
     "name": "stderr",
     "output_type": "stream",
     "text": [
      "/dss/dsshome1/0C/ra93lal2/.local/share/virtualenvs/CMA_Fairness_v2-3j10GkSs/lib/python3.10/site-packages/IPython/core/magics/osm.py:393: UserWarning: This is now an optional IPython functionality, using bookmarks requires you to install the `pickleshare` library.\n",
      "  bkms = self.shell.db.get('bookmarks', {})\n",
      "/dss/dsshome1/0C/ra93lal2/.local/share/virtualenvs/CMA_Fairness_v2-3j10GkSs/lib/python3.10/site-packages/IPython/core/magics/osm.py:417: UserWarning: This is now an optional IPython functionality, setting dhist requires you to install the `pickleshare` library.\n",
      "  self.shell.db['dhist'] = compress_dhist(dhist)[-100:]\n"
     ]
    }
   ],
   "source": [
    "%cd ~/cma/CMA_Fairness_v2"
   ]
  },
  {
   "cell_type": "markdown",
   "id": "de2603b9",
   "metadata": {
    "papermill": {
     "duration": 0.018304,
     "end_time": "2025-07-30T13:20:19.086161",
     "exception": false,
     "start_time": "2025-07-30T13:20:19.067857",
     "status": "completed"
    },
    "tags": []
   },
   "source": [
    "The following cell holds the definition of our parameters, these values can be overriden by rendering the with e.g. the following command:\n",
    "\n",
    "papermill -p alpha 0.2 -p ratio 0.3 universe_analysis.ipynb output/test_run.ipynb"
   ]
  },
  {
   "cell_type": "code",
   "execution_count": 2,
   "id": "a80968a0-40bb-4fa9-85ef-2d5eefb01975",
   "metadata": {
    "execution": {
     "iopub.execute_input": "2025-07-30T13:20:19.124007Z",
     "iopub.status.busy": "2025-07-30T13:20:19.123384Z",
     "iopub.status.idle": "2025-07-30T13:20:19.128967Z",
     "shell.execute_reply": "2025-07-30T13:20:19.128065Z"
    },
    "papermill": {
     "duration": 0.026213,
     "end_time": "2025-07-30T13:20:19.130500",
     "exception": false,
     "start_time": "2025-07-30T13:20:19.104287",
     "status": "completed"
    },
    "tags": []
   },
   "outputs": [
    {
     "name": "stdout",
     "output_type": "stream",
     "text": [
      "Current working directory: /dss/dsshome1/0C/ra93lal2/cma/CMA_Fairness_v2\n"
     ]
    }
   ],
   "source": [
    "import os\n",
    "print(\"Current working directory:\", os.getcwd())"
   ]
  },
  {
   "cell_type": "code",
   "execution_count": 3,
   "id": "2dce4c03",
   "metadata": {
    "execution": {
     "iopub.execute_input": "2025-07-30T13:20:19.169865Z",
     "iopub.status.busy": "2025-07-30T13:20:19.169225Z",
     "iopub.status.idle": "2025-07-30T13:20:19.175102Z",
     "shell.execute_reply": "2025-07-30T13:20:19.174288Z"
    },
    "papermill": {
     "duration": 0.027014,
     "end_time": "2025-07-30T13:20:19.176726",
     "exception": false,
     "start_time": "2025-07-30T13:20:19.149712",
     "status": "completed"
    },
    "tags": [
     "parameters"
    ]
   },
   "outputs": [],
   "source": [
    "run_no = 0\n",
    "universe_id = \"test\"\n",
    "universe = {\n",
    "    \"training_size\": \"25k\", # \"25k\", \"5k\", \"1k\"\n",
    "    \"training_year\": \"2014\", # \"2014\", \"2012_14\", \"2010_14\"\n",
    "    \"scale\": \"scale\", # \"scale\", \"do-not-scale\",\n",
    "    #\"stratify_split\": \"target\", # \"none\", \"target\", \"protected-attribute\", \"both\",\n",
    "    \"model\": \"elasticnet\", # \"logreg\", \"penalized_logreg\", \"rf\", \"gbm\", \"elasticnet\"\n",
    "    \"cutoff\": [\"quantile_0.15\", \"quantile_0.30\"],\n",
    "    \"exclude_features\": \"age\", # \"none\", \"nationality\", \"sex\", \"nationality-sex\", \"age\"\n",
    "    \"exclude_subgroups\": \"keep-all\", # \"keep-all\", \"drop-non-german\"\n",
    "    \"eval_fairness_grouping\": [\"majority-minority\", \"nationality-all\"]\n",
    "}\n",
    "\n",
    "output_dir=\"./output\"\n",
    "seed=0"
   ]
  },
  {
   "cell_type": "code",
   "execution_count": 4,
   "id": "9403d1cf",
   "metadata": {
    "execution": {
     "iopub.execute_input": "2025-07-30T13:20:19.217477Z",
     "iopub.status.busy": "2025-07-30T13:20:19.216854Z",
     "iopub.status.idle": "2025-07-30T13:20:19.222092Z",
     "shell.execute_reply": "2025-07-30T13:20:19.221189Z"
    },
    "papermill": {
     "duration": 0.027523,
     "end_time": "2025-07-30T13:20:19.223838",
     "exception": false,
     "start_time": "2025-07-30T13:20:19.196315",
     "status": "completed"
    },
    "tags": [
     "injected-parameters"
    ]
   },
   "outputs": [],
   "source": [
    "# Parameters\n",
    "universe_id = \"ac80359935a7a6fe9c20a5f668a8513d\"\n",
    "run_no = \"12\"\n",
    "universe = \"{\\\"cutoff\\\": [\\\"quantile_0.1\\\", \\\"quantile_0.25\\\"], \\\"eval_fairness_grouping\\\": [\\\"majority-minority\\\", \\\"nationality-all\\\"], \\\"exclude_features\\\": \\\"age\\\", \\\"exclude_subgroups\\\": \\\"drop-non-german\\\", \\\"model\\\": \\\"elasticnet\\\", \\\"scale\\\": \\\"do-not-scale\\\", \\\"training_size\\\": \\\"25k\\\", \\\"training_year\\\": \\\"2012_14\\\"}\"\n",
    "output_dir = \"output\"\n",
    "seed = \"2023\"\n"
   ]
  },
  {
   "cell_type": "code",
   "execution_count": 5,
   "id": "1650acaf",
   "metadata": {
    "execution": {
     "iopub.execute_input": "2025-07-30T13:20:19.264091Z",
     "iopub.status.busy": "2025-07-30T13:20:19.263442Z",
     "iopub.status.idle": "2025-07-30T13:20:19.268507Z",
     "shell.execute_reply": "2025-07-30T13:20:19.267420Z"
    },
    "papermill": {
     "duration": 0.026723,
     "end_time": "2025-07-30T13:20:19.270042",
     "exception": false,
     "start_time": "2025-07-30T13:20:19.243319",
     "status": "completed"
    },
    "tags": []
   },
   "outputs": [],
   "source": [
    "import json\n",
    "# Parse universe into dict if it is passed as a string\n",
    "if isinstance(universe, str):\n",
    "    universe = json.loads(universe)"
   ]
  },
  {
   "cell_type": "code",
   "execution_count": 6,
   "id": "16620c48",
   "metadata": {
    "execution": {
     "iopub.execute_input": "2025-07-30T13:20:19.310441Z",
     "iopub.status.busy": "2025-07-30T13:20:19.309815Z",
     "iopub.status.idle": "2025-07-30T13:20:19.352392Z",
     "shell.execute_reply": "2025-07-30T13:20:19.351535Z"
    },
    "papermill": {
     "duration": 0.06471,
     "end_time": "2025-07-30T13:20:19.354294",
     "exception": false,
     "start_time": "2025-07-30T13:20:19.289584",
     "status": "completed"
    },
    "tags": []
   },
   "outputs": [],
   "source": [
    "# Auto-reload the custom package\n",
    "%load_ext autoreload\n",
    "%autoreload 1\n",
    "%aimport fairness_multiverse"
   ]
  },
  {
   "cell_type": "code",
   "execution_count": 7,
   "id": "01c5c9f3",
   "metadata": {
    "execution": {
     "iopub.execute_input": "2025-07-30T13:20:19.394016Z",
     "iopub.status.busy": "2025-07-30T13:20:19.393379Z",
     "iopub.status.idle": "2025-07-30T13:20:21.286786Z",
     "shell.execute_reply": "2025-07-30T13:20:21.285902Z"
    },
    "papermill": {
     "duration": 1.915077,
     "end_time": "2025-07-30T13:20:21.288524",
     "exception": false,
     "start_time": "2025-07-30T13:20:19.373447",
     "status": "completed"
    },
    "tags": []
   },
   "outputs": [],
   "source": [
    "from fairness_multiverse.universe import UniverseAnalysis\n",
    "\n",
    "universe_analysis = UniverseAnalysis(\n",
    "    run_no = run_no,\n",
    "    universe_id = universe_id,\n",
    "    universe = universe,\n",
    "    output_dir=output_dir,\n",
    ")"
   ]
  },
  {
   "cell_type": "code",
   "execution_count": 8,
   "id": "106241f5",
   "metadata": {
    "execution": {
     "iopub.execute_input": "2025-07-30T13:20:21.330153Z",
     "iopub.status.busy": "2025-07-30T13:20:21.329517Z",
     "iopub.status.idle": "2025-07-30T13:20:21.336008Z",
     "shell.execute_reply": "2025-07-30T13:20:21.335042Z"
    },
    "papermill": {
     "duration": 0.027702,
     "end_time": "2025-07-30T13:20:21.337602",
     "exception": false,
     "start_time": "2025-07-30T13:20:21.309900",
     "status": "completed"
    },
    "tags": []
   },
   "outputs": [
    {
     "name": "stdout",
     "output_type": "stream",
     "text": [
      "Using Seed: 2023\n"
     ]
    }
   ],
   "source": [
    "import numpy as np\n",
    "parsed_seed = int(seed)\n",
    "np.random.seed(parsed_seed)\n",
    "print(f\"Using Seed: {parsed_seed}\")"
   ]
  },
  {
   "cell_type": "markdown",
   "id": "e0ebdc57",
   "metadata": {
    "papermill": {
     "duration": 0.01964,
     "end_time": "2025-07-30T13:20:21.376458",
     "exception": false,
     "start_time": "2025-07-30T13:20:21.356818",
     "status": "completed"
    },
    "tags": []
   },
   "source": [
    "# Loading Data"
   ]
  },
  {
   "cell_type": "markdown",
   "id": "681925a3",
   "metadata": {
    "papermill": {
     "duration": 0.018443,
     "end_time": "2025-07-30T13:20:21.417870",
     "exception": false,
     "start_time": "2025-07-30T13:20:21.399427",
     "status": "completed"
    },
    "tags": []
   },
   "source": [
    "Load siab_train, siab_test, siab_calib and/or \n",
    "load siab_train_features, siab_train_labels"
   ]
  },
  {
   "cell_type": "code",
   "execution_count": 9,
   "id": "f0496b8a",
   "metadata": {
    "execution": {
     "iopub.execute_input": "2025-07-30T13:20:21.457391Z",
     "iopub.status.busy": "2025-07-30T13:20:21.456936Z",
     "iopub.status.idle": "2025-07-30T13:20:33.449053Z",
     "shell.execute_reply": "2025-07-30T13:20:33.447656Z"
    },
    "papermill": {
     "duration": 12.013914,
     "end_time": "2025-07-30T13:20:33.450737",
     "exception": false,
     "start_time": "2025-07-30T13:20:21.436823",
     "status": "completed"
    },
    "tags": []
   },
   "outputs": [
    {
     "name": "stdout",
     "output_type": "stream",
     "text": [
      "Loading SIAB data from cache: data/siab_cached.csv.gz\n"
     ]
    },
    {
     "name": "stdout",
     "output_type": "stream",
     "text": [
      "(643690, 164)\n"
     ]
    }
   ],
   "source": [
    "from pathlib import Path\n",
    "import pandas as pd\n",
    "\n",
    "# File paths\n",
    "raw_file = Path(\"data/raw/siab.csv\")\n",
    "cache_file = Path(\"data/siab_cached.csv.gz\")\n",
    "\n",
    "# Ensure cache directory exists\n",
    "cache_file.parent.mkdir(parents=True, exist_ok=True)\n",
    "\n",
    "# Load with simple caching\n",
    "if cache_file.exists():\n",
    "    print(f\"Loading SIAB data from cache: {cache_file}\")\n",
    "    siab = pd.read_csv(cache_file, compression='gzip')\n",
    "else:\n",
    "    print(f\"Cache not found. Reading raw SIAB data: {raw_file}\")\n",
    "    siab = pd.read_csv(raw_file)\n",
    "    siab.to_csv(cache_file, index=False, compression='gzip')\n",
    "    print(f\"Cached SIAB data to: {cache_file}\")\n",
    "\n",
    "# Now use `siab` DataFrame as needed\n",
    "print(siab.shape)"
   ]
  },
  {
   "cell_type": "code",
   "execution_count": 10,
   "id": "db0ca512-5f53-4dba-abdb-a2888bca41ba",
   "metadata": {
    "execution": {
     "iopub.execute_input": "2025-07-30T13:20:33.502606Z",
     "iopub.status.busy": "2025-07-30T13:20:33.501946Z",
     "iopub.status.idle": "2025-07-30T13:20:33.507337Z",
     "shell.execute_reply": "2025-07-30T13:20:33.506305Z"
    },
    "papermill": {
     "duration": 0.036677,
     "end_time": "2025-07-30T13:20:33.509222",
     "exception": false,
     "start_time": "2025-07-30T13:20:33.472545",
     "status": "completed"
    },
    "tags": []
   },
   "outputs": [],
   "source": [
    "#siab"
   ]
  },
  {
   "cell_type": "code",
   "execution_count": 11,
   "id": "a0edb063",
   "metadata": {
    "execution": {
     "iopub.execute_input": "2025-07-30T13:20:33.550226Z",
     "iopub.status.busy": "2025-07-30T13:20:33.549790Z",
     "iopub.status.idle": "2025-07-30T13:20:33.554665Z",
     "shell.execute_reply": "2025-07-30T13:20:33.553655Z"
    },
    "papermill": {
     "duration": 0.027048,
     "end_time": "2025-07-30T13:20:33.556192",
     "exception": false,
     "start_time": "2025-07-30T13:20:33.529144",
     "status": "completed"
    },
    "tags": []
   },
   "outputs": [],
   "source": [
    "#import pandas as pd\n",
    "#\n",
    "#X_train = pd.read_csv(\"./data/X_train.csv\")\n",
    "#y_train = pd.read_csv(\"./data/y_train.csv\")"
   ]
  },
  {
   "cell_type": "code",
   "execution_count": 12,
   "id": "63d08085",
   "metadata": {
    "execution": {
     "iopub.execute_input": "2025-07-30T13:20:33.595839Z",
     "iopub.status.busy": "2025-07-30T13:20:33.595381Z",
     "iopub.status.idle": "2025-07-30T13:20:33.599982Z",
     "shell.execute_reply": "2025-07-30T13:20:33.599017Z"
    },
    "papermill": {
     "duration": 0.025754,
     "end_time": "2025-07-30T13:20:33.601527",
     "exception": false,
     "start_time": "2025-07-30T13:20:33.575773",
     "status": "completed"
    },
    "tags": []
   },
   "outputs": [],
   "source": [
    "#X_test = pd.read_csv(\"./data/X_test.csv\")\n",
    "#y_true = pd.read_csv(\"./data/y_test.csv\")"
   ]
  },
  {
   "cell_type": "code",
   "execution_count": 13,
   "id": "98a8d0fa-1d3d-4ed8-bb2c-281470e24add",
   "metadata": {
    "execution": {
     "iopub.execute_input": "2025-07-30T13:20:33.642246Z",
     "iopub.status.busy": "2025-07-30T13:20:33.641282Z",
     "iopub.status.idle": "2025-07-30T13:20:33.646460Z",
     "shell.execute_reply": "2025-07-30T13:20:33.645579Z"
    },
    "papermill": {
     "duration": 0.026992,
     "end_time": "2025-07-30T13:20:33.648042",
     "exception": false,
     "start_time": "2025-07-30T13:20:33.621050",
     "status": "completed"
    },
    "tags": []
   },
   "outputs": [],
   "source": [
    "# Calibration data for conformal\n",
    "#X_calib = pd.read_csv(\"./data/X_calib.csv\")\n",
    "#y_calib = pd.read_csv(\"./data/y_calib.csv\")"
   ]
  },
  {
   "cell_type": "markdown",
   "id": "997051c5-15bd-4b69-9786-c3001a3ce484",
   "metadata": {
    "papermill": {
     "duration": 0.019327,
     "end_time": "2025-07-30T13:20:33.690866",
     "exception": false,
     "start_time": "2025-07-30T13:20:33.671539",
     "status": "completed"
    },
    "tags": []
   },
   "source": [
    "# Splitting Data and Setting Training Data Size"
   ]
  },
  {
   "cell_type": "code",
   "execution_count": 14,
   "id": "e993b61f-042d-41a6-8c81-f55681f86335",
   "metadata": {
    "execution": {
     "iopub.execute_input": "2025-07-30T13:20:33.730744Z",
     "iopub.status.busy": "2025-07-30T13:20:33.730246Z",
     "iopub.status.idle": "2025-07-30T13:20:33.743807Z",
     "shell.execute_reply": "2025-07-30T13:20:33.742682Z"
    },
    "papermill": {
     "duration": 0.034971,
     "end_time": "2025-07-30T13:20:33.745374",
     "exception": false,
     "start_time": "2025-07-30T13:20:33.710403",
     "status": "completed"
    },
    "tags": []
   },
   "outputs": [],
   "source": [
    "def sample_by_year_size(df,\n",
    "                        training_year: str,\n",
    "                        training_size: str,\n",
    "                        random_state: int = 42):\n",
    "    # --- parse training_year into a list of int years ---\n",
    "    if \"_\" in training_year:\n",
    "        start_str, end_str = training_year.split(\"_\", 1)\n",
    "        start = int(start_str)\n",
    "        end   = int(end_str) if len(end_str) == 4 else (int(end_str) + (start // 100)*100)\n",
    "        years = list(range(start, end + 1))\n",
    "    else:\n",
    "        years = [int(training_year)]\n",
    "\n",
    "    df = df[df[\"year\"].isin(years)].reset_index(drop=True)\n",
    "\n",
    "    # --- map training_size to total number of samples ---\n",
    "    total_map = {\"25k\": 25_000, \"5k\": 5_000, \"1k\": 1_000}\n",
    "    if training_size not in total_map:\n",
    "        return df  # e.g. \"all\"\n",
    "\n",
    "    total_samples = total_map[training_size]\n",
    "    n_years       = len(years)\n",
    "    base          = total_samples // n_years\n",
    "    remainder     = total_samples % n_years\n",
    "\n",
    "    # --- build a dict: year -> how many to sample ---\n",
    "    # give +1 to the first `remainder` years in ascending order\n",
    "    quotas = {\n",
    "        year: base + (1 if idx < remainder else 0)\n",
    "        for idx, year in enumerate(sorted(years))\n",
    "    }\n",
    "\n",
    "    # --- sample per‐year according to the quota dict ---\n",
    "    sampled = (\n",
    "        df\n",
    "        .groupby(\"year\", group_keys=False)\n",
    "        .apply(lambda grp: grp.sample(\n",
    "            n=min(len(grp), quotas[grp.name]),\n",
    "            random_state=random_state))\n",
    "        .reset_index(drop=True)\n",
    "    )\n",
    "\n",
    "    return sampled"
   ]
  },
  {
   "cell_type": "code",
   "execution_count": 15,
   "id": "c0ccd338-0e02-41f3-a09d-f56f9266e3fb",
   "metadata": {
    "execution": {
     "iopub.execute_input": "2025-07-30T13:20:33.786646Z",
     "iopub.status.busy": "2025-07-30T13:20:33.785906Z",
     "iopub.status.idle": "2025-07-30T13:20:33.797789Z",
     "shell.execute_reply": "2025-07-30T13:20:33.796882Z"
    },
    "papermill": {
     "duration": 0.033926,
     "end_time": "2025-07-30T13:20:33.799379",
     "exception": false,
     "start_time": "2025-07-30T13:20:33.765453",
     "status": "completed"
    },
    "tags": []
   },
   "outputs": [
    {
     "data": {
      "text/plain": [
       "'25k'"
      ]
     },
     "execution_count": 15,
     "metadata": {},
     "output_type": "execute_result"
    }
   ],
   "source": [
    "universe[\"training_size\"]"
   ]
  },
  {
   "cell_type": "code",
   "execution_count": 16,
   "id": "ca707fd7-8047-4acd-bfa5-66248fbbf8e6",
   "metadata": {
    "execution": {
     "iopub.execute_input": "2025-07-30T13:20:33.839585Z",
     "iopub.status.busy": "2025-07-30T13:20:33.839129Z",
     "iopub.status.idle": "2025-07-30T13:20:33.846542Z",
     "shell.execute_reply": "2025-07-30T13:20:33.845554Z"
    },
    "papermill": {
     "duration": 0.029017,
     "end_time": "2025-07-30T13:20:33.848131",
     "exception": false,
     "start_time": "2025-07-30T13:20:33.819114",
     "status": "completed"
    },
    "tags": []
   },
   "outputs": [
    {
     "data": {
      "text/plain": [
       "'2012_14'"
      ]
     },
     "execution_count": 16,
     "metadata": {},
     "output_type": "execute_result"
    }
   ],
   "source": [
    "universe[\"training_year\"]"
   ]
  },
  {
   "cell_type": "code",
   "execution_count": 17,
   "id": "aea9c6ef-6f46-42c8-85eb-5a62025c1508",
   "metadata": {
    "execution": {
     "iopub.execute_input": "2025-07-30T13:20:33.890562Z",
     "iopub.status.busy": "2025-07-30T13:20:33.889918Z",
     "iopub.status.idle": "2025-07-30T13:20:34.540068Z",
     "shell.execute_reply": "2025-07-30T13:20:34.539134Z"
    },
    "papermill": {
     "duration": 0.673316,
     "end_time": "2025-07-30T13:20:34.541917",
     "exception": false,
     "start_time": "2025-07-30T13:20:33.868601",
     "status": "completed"
    },
    "tags": []
   },
   "outputs": [],
   "source": [
    "siab_train = sample_by_year_size(siab,\n",
    "                               training_year=universe[\"training_year\"],\n",
    "                               training_size=universe[\"training_size\"])"
   ]
  },
  {
   "cell_type": "code",
   "execution_count": 18,
   "id": "8d3afb32-789d-442c-8d5d-9f5aa8dd2eed",
   "metadata": {
    "execution": {
     "iopub.execute_input": "2025-07-30T13:20:34.583660Z",
     "iopub.status.busy": "2025-07-30T13:20:34.583019Z",
     "iopub.status.idle": "2025-07-30T13:20:34.589842Z",
     "shell.execute_reply": "2025-07-30T13:20:34.588936Z"
    },
    "papermill": {
     "duration": 0.029077,
     "end_time": "2025-07-30T13:20:34.591509",
     "exception": false,
     "start_time": "2025-07-30T13:20:34.562432",
     "status": "completed"
    },
    "tags": []
   },
   "outputs": [
    {
     "data": {
      "text/plain": [
       "(25000, 164)"
      ]
     },
     "execution_count": 18,
     "metadata": {},
     "output_type": "execute_result"
    }
   ],
   "source": [
    "siab_train.shape"
   ]
  },
  {
   "cell_type": "code",
   "execution_count": 19,
   "id": "d582db68-1a4c-47fb-84fc-08518dc1975a",
   "metadata": {
    "execution": {
     "iopub.execute_input": "2025-07-30T13:20:34.635860Z",
     "iopub.status.busy": "2025-07-30T13:20:34.635166Z",
     "iopub.status.idle": "2025-07-30T13:20:34.645341Z",
     "shell.execute_reply": "2025-07-30T13:20:34.644386Z"
    },
    "papermill": {
     "duration": 0.033503,
     "end_time": "2025-07-30T13:20:34.647054",
     "exception": false,
     "start_time": "2025-07-30T13:20:34.613551",
     "status": "completed"
    },
    "tags": []
   },
   "outputs": [
    {
     "data": {
      "text/plain": [
       "year\n",
       "2012    8334\n",
       "2013    8333\n",
       "2014    8333\n",
       "dtype: int64"
      ]
     },
     "metadata": {},
     "output_type": "display_data"
    }
   ],
   "source": [
    "display(siab_train.groupby(\"year\").size())"
   ]
  },
  {
   "cell_type": "code",
   "execution_count": 20,
   "id": "a561edb4-d032-42cb-8256-22eac1111c64",
   "metadata": {
    "execution": {
     "iopub.execute_input": "2025-07-30T13:20:34.692822Z",
     "iopub.status.busy": "2025-07-30T13:20:34.692124Z",
     "iopub.status.idle": "2025-07-30T13:20:34.897068Z",
     "shell.execute_reply": "2025-07-30T13:20:34.896159Z"
    },
    "papermill": {
     "duration": 0.227968,
     "end_time": "2025-07-30T13:20:34.898570",
     "exception": false,
     "start_time": "2025-07-30T13:20:34.670602",
     "status": "completed"
    },
    "tags": []
   },
   "outputs": [],
   "source": [
    "#siab_train = siab_s[siab_s.year < 2015]\n",
    "siab_calib = siab[siab.year == 2015]\n",
    "siab_test = siab[siab.year == 2016]"
   ]
  },
  {
   "cell_type": "code",
   "execution_count": 21,
   "id": "472de16f-c3db-4916-846b-1f0de9cf1746",
   "metadata": {
    "execution": {
     "iopub.execute_input": "2025-07-30T13:20:34.941533Z",
     "iopub.status.busy": "2025-07-30T13:20:34.941002Z",
     "iopub.status.idle": "2025-07-30T13:20:34.965919Z",
     "shell.execute_reply": "2025-07-30T13:20:34.964934Z"
    },
    "papermill": {
     "duration": 0.04803,
     "end_time": "2025-07-30T13:20:34.967522",
     "exception": false,
     "start_time": "2025-07-30T13:20:34.919492",
     "status": "completed"
    },
    "tags": []
   },
   "outputs": [],
   "source": [
    "X_train = siab_train.iloc[:,4:164]\n",
    "y_train = siab_train.iloc[:, [3]]"
   ]
  },
  {
   "cell_type": "code",
   "execution_count": 22,
   "id": "828c96af-f43a-4ed6-ba47-8ac73a47d56c",
   "metadata": {
    "execution": {
     "iopub.execute_input": "2025-07-30T13:20:35.010955Z",
     "iopub.status.busy": "2025-07-30T13:20:35.010057Z",
     "iopub.status.idle": "2025-07-30T13:20:35.098243Z",
     "shell.execute_reply": "2025-07-30T13:20:35.097237Z"
    },
    "papermill": {
     "duration": 0.110813,
     "end_time": "2025-07-30T13:20:35.099951",
     "exception": false,
     "start_time": "2025-07-30T13:20:34.989138",
     "status": "completed"
    },
    "tags": []
   },
   "outputs": [],
   "source": [
    "X_calib = siab_calib.iloc[:,4:164]\n",
    "y_calib = siab_calib.iloc[:, [3]]"
   ]
  },
  {
   "cell_type": "code",
   "execution_count": 23,
   "id": "c34be9c3-6bd6-476e-acd3-845840e303be",
   "metadata": {
    "execution": {
     "iopub.execute_input": "2025-07-30T13:20:35.143250Z",
     "iopub.status.busy": "2025-07-30T13:20:35.142433Z",
     "iopub.status.idle": "2025-07-30T13:20:35.192444Z",
     "shell.execute_reply": "2025-07-30T13:20:35.191360Z"
    },
    "papermill": {
     "duration": 0.073157,
     "end_time": "2025-07-30T13:20:35.194627",
     "exception": false,
     "start_time": "2025-07-30T13:20:35.121470",
     "status": "completed"
    },
    "tags": []
   },
   "outputs": [],
   "source": [
    "X_test = siab_test.iloc[:,4:164]\n",
    "y_true = siab_test.iloc[:, [3]]"
   ]
  },
  {
   "cell_type": "markdown",
   "id": "9901737e-04df-44f0-9100-f5ad144ed040",
   "metadata": {
    "papermill": {
     "duration": 0.020216,
     "end_time": "2025-07-30T13:20:35.236786",
     "exception": false,
     "start_time": "2025-07-30T13:20:35.216570",
     "status": "completed"
    },
    "tags": []
   },
   "source": [
    "# Splitting Data and Setting Training Data Size OLD VERSION"
   ]
  },
  {
   "cell_type": "code",
   "execution_count": 24,
   "id": "acbc8f7d-8fc8-4e86-8c59-5dcb0f58384b",
   "metadata": {
    "execution": {
     "iopub.execute_input": "2025-07-30T13:20:35.280399Z",
     "iopub.status.busy": "2025-07-30T13:20:35.279755Z",
     "iopub.status.idle": "2025-07-30T13:20:35.284991Z",
     "shell.execute_reply": "2025-07-30T13:20:35.283986Z"
    },
    "papermill": {
     "duration": 0.028775,
     "end_time": "2025-07-30T13:20:35.286839",
     "exception": false,
     "start_time": "2025-07-30T13:20:35.258064",
     "status": "completed"
    },
    "tags": []
   },
   "outputs": [],
   "source": [
    "#def sample_by_year(df, training_size, random_state=42):\n",
    "#    if training_size == \"2014\":\n",
    "#        return df[df[\"year\"] == 2014].reset_index(drop=True)\n",
    "#    \n",
    "#    size_map = {\n",
    "#        \"25k\": 5000,\n",
    "#        \"5k\": 1000,\n",
    "#        \"1k\": 200\n",
    "#    }\n",
    "#\n",
    "#    if training_size not in size_map:\n",
    "#        return df.reset_index(drop=True)  # use all data\n",
    "#\n",
    "#    n_per_year = size_map[training_size]\n",
    "#    grouped = df.groupby(\"year\")\n",
    "#    sampled = grouped.apply(lambda x: x.sample(n=min(n_per_year, len(x)), random_state=random_state))\n",
    "#    return sampled.reset_index(drop=True)"
   ]
  },
  {
   "cell_type": "code",
   "execution_count": 25,
   "id": "6d931f52-beaf-43ff-9e78-9d44a448d54e",
   "metadata": {
    "execution": {
     "iopub.execute_input": "2025-07-30T13:20:35.332563Z",
     "iopub.status.busy": "2025-07-30T13:20:35.331710Z",
     "iopub.status.idle": "2025-07-30T13:20:35.336556Z",
     "shell.execute_reply": "2025-07-30T13:20:35.335764Z"
    },
    "papermill": {
     "duration": 0.028928,
     "end_time": "2025-07-30T13:20:35.337966",
     "exception": false,
     "start_time": "2025-07-30T13:20:35.309038",
     "status": "completed"
    },
    "tags": []
   },
   "outputs": [],
   "source": [
    "#siab_s = sample_by_year(siab, universe[\"training_size\"])"
   ]
  },
  {
   "cell_type": "code",
   "execution_count": 26,
   "id": "5db0a40e-a4e2-4920-be85-b12ae061d70d",
   "metadata": {
    "execution": {
     "iopub.execute_input": "2025-07-30T13:20:35.382558Z",
     "iopub.status.busy": "2025-07-30T13:20:35.381926Z",
     "iopub.status.idle": "2025-07-30T13:20:35.387000Z",
     "shell.execute_reply": "2025-07-30T13:20:35.385924Z"
    },
    "papermill": {
     "duration": 0.029393,
     "end_time": "2025-07-30T13:20:35.388836",
     "exception": false,
     "start_time": "2025-07-30T13:20:35.359443",
     "status": "completed"
    },
    "tags": []
   },
   "outputs": [],
   "source": [
    "#display(siab_s.groupby(\"year\").size())"
   ]
  },
  {
   "cell_type": "code",
   "execution_count": 27,
   "id": "e6c733c5",
   "metadata": {
    "execution": {
     "iopub.execute_input": "2025-07-30T13:20:35.433362Z",
     "iopub.status.busy": "2025-07-30T13:20:35.432740Z",
     "iopub.status.idle": "2025-07-30T13:20:35.527557Z",
     "shell.execute_reply": "2025-07-30T13:20:35.526712Z"
    },
    "papermill": {
     "duration": 0.118405,
     "end_time": "2025-07-30T13:20:35.529418",
     "exception": false,
     "start_time": "2025-07-30T13:20:35.411013",
     "status": "completed"
    },
    "tags": []
   },
   "outputs": [],
   "source": [
    "# Auxiliary data needed downstream in the pipeline\n",
    "\n",
    "org_train = X_train.copy()\n",
    "org_test = X_test.copy()\n",
    "org_calib = X_calib.copy()"
   ]
  },
  {
   "cell_type": "code",
   "execution_count": 28,
   "id": "1466abac-c6da-4492-a62f-4240ae3783af",
   "metadata": {
    "execution": {
     "iopub.execute_input": "2025-07-30T13:20:35.573458Z",
     "iopub.status.busy": "2025-07-30T13:20:35.572827Z",
     "iopub.status.idle": "2025-07-30T13:20:35.578606Z",
     "shell.execute_reply": "2025-07-30T13:20:35.577740Z"
    },
    "papermill": {
     "duration": 0.029784,
     "end_time": "2025-07-30T13:20:35.580341",
     "exception": false,
     "start_time": "2025-07-30T13:20:35.550557",
     "status": "completed"
    },
    "tags": []
   },
   "outputs": [],
   "source": [
    "# put in other script?\n",
    "# Group sizes\n",
    "\n",
    "#def calculate_percentages(df, df_name):\n",
    "#    total_entries = len(df)\n",
    "#\n",
    "#    female_pct = (df['frau1'] == 1).mean() * 100\n",
    "#    non_german_pct = ((df['maxdeutsch1'] == 0) & (df['maxdeutsch.Missing.'] == 0)).mean() * 100\n",
    "#    non_german_male_pct = ((df['frau1'] == 0) & (df['maxdeutsch1'] == 0) & (df['maxdeutsch.Missing.'] == 0)).mean() * 100\n",
    "#    non_german_female_pct = ((df['frau1'] == 1) & (df['maxdeutsch1'] == 0) & (df['maxdeutsch.Missing.'] == 0)).mean() * 100\n",
    "#\n",
    "#    print(f\"--- {df_name} ---\")\n",
    "#    print(f\"Female: {female_pct:.2f}%\")\n",
    "#    print(f\"Non-German: {non_german_pct:.2f}%\")\n",
    "#    print(f\"Non-German Male: {non_german_male_pct:.2f}%\")\n",
    "#    print(f\"Non-German Female: {non_german_female_pct:.2f}%\\n\")\n",
    "#\n",
    "## Calculate for each DataFrame\n",
    "#calculate_percentages(siab_calib, \"siab_calib\")\n",
    "#calculate_percentages(siab_test, \"siab_test\")\n",
    "#calculate_percentages(siab_train, \"siab_train\")"
   ]
  },
  {
   "cell_type": "markdown",
   "id": "0a4a1b33",
   "metadata": {
    "papermill": {
     "duration": 0.0206,
     "end_time": "2025-07-30T13:20:35.623358",
     "exception": false,
     "start_time": "2025-07-30T13:20:35.602758",
     "status": "completed"
    },
    "tags": []
   },
   "source": [
    "# Preprocessing Data"
   ]
  },
  {
   "cell_type": "code",
   "execution_count": 29,
   "id": "ca879031",
   "metadata": {
    "execution": {
     "iopub.execute_input": "2025-07-30T13:20:35.667795Z",
     "iopub.status.busy": "2025-07-30T13:20:35.667158Z",
     "iopub.status.idle": "2025-07-30T13:20:35.673209Z",
     "shell.execute_reply": "2025-07-30T13:20:35.672282Z"
    },
    "papermill": {
     "duration": 0.03032,
     "end_time": "2025-07-30T13:20:35.674810",
     "exception": false,
     "start_time": "2025-07-30T13:20:35.644490",
     "status": "completed"
    },
    "tags": []
   },
   "outputs": [],
   "source": [
    "# EXCLUDE PROTECTED FEATURES\n",
    "# ----------------------\n",
    "# \"exclude_features\": \"none\", # \"nationality\", \"sex\", \"nationality-sex\"\n",
    "\n",
    "excluded_features = universe[\"exclude_features\"].split(\"-\") # split, e.g.: \"nationality-sex\" -> [\"nationality\", \"sex\"]\n",
    "excluded_features_dictionary = {\n",
    "    \"nationality\": [\"maxdeutsch1\", \"maxdeutsch.Missing.\"],\n",
    "    \"sex\": [\"frau1\"],\n",
    "    \"age\": [\"age\"],\n",
    "}\n"
   ]
  },
  {
   "cell_type": "code",
   "execution_count": 30,
   "id": "b745ac60",
   "metadata": {
    "execution": {
     "iopub.execute_input": "2025-07-30T13:20:35.720566Z",
     "iopub.status.busy": "2025-07-30T13:20:35.719924Z",
     "iopub.status.idle": "2025-07-30T13:20:35.725608Z",
     "shell.execute_reply": "2025-07-30T13:20:35.724665Z"
    },
    "papermill": {
     "duration": 0.030246,
     "end_time": "2025-07-30T13:20:35.727258",
     "exception": false,
     "start_time": "2025-07-30T13:20:35.697012",
     "status": "completed"
    },
    "tags": []
   },
   "outputs": [],
   "source": [
    "# Code nice names to column names\n",
    "\n",
    "excluded_features_columns = [\n",
    "    excluded_features_dictionary[f] for f in excluded_features if len(f) > 0 and f != \"none\"\n",
    "]"
   ]
  },
  {
   "cell_type": "code",
   "execution_count": 31,
   "id": "f84f73a2",
   "metadata": {
    "execution": {
     "iopub.execute_input": "2025-07-30T13:20:35.772059Z",
     "iopub.status.busy": "2025-07-30T13:20:35.771360Z",
     "iopub.status.idle": "2025-07-30T13:20:35.778764Z",
     "shell.execute_reply": "2025-07-30T13:20:35.777888Z"
    },
    "papermill": {
     "duration": 0.031189,
     "end_time": "2025-07-30T13:20:35.780796",
     "exception": false,
     "start_time": "2025-07-30T13:20:35.749607",
     "status": "completed"
    },
    "tags": []
   },
   "outputs": [],
   "source": [
    "from utils import flatten_once\n",
    "\n",
    "excluded_features_columns = flatten_once(excluded_features_columns)"
   ]
  },
  {
   "cell_type": "code",
   "execution_count": 32,
   "id": "884dea22",
   "metadata": {
    "execution": {
     "iopub.execute_input": "2025-07-30T13:20:35.826181Z",
     "iopub.status.busy": "2025-07-30T13:20:35.825733Z",
     "iopub.status.idle": "2025-07-30T13:20:35.850224Z",
     "shell.execute_reply": "2025-07-30T13:20:35.849261Z"
    },
    "papermill": {
     "duration": 0.048409,
     "end_time": "2025-07-30T13:20:35.851880",
     "exception": false,
     "start_time": "2025-07-30T13:20:35.803471",
     "status": "completed"
    },
    "tags": []
   },
   "outputs": [
    {
     "name": "stdout",
     "output_type": "stream",
     "text": [
      "Dropping features: ['age']\n"
     ]
    }
   ],
   "source": [
    "if len(excluded_features_columns) > 0:\n",
    "    print(f\"Dropping features: {excluded_features_columns}\")\n",
    "    X_train.drop(excluded_features_columns, axis=1, inplace=True)"
   ]
  },
  {
   "cell_type": "code",
   "execution_count": 33,
   "id": "95ab8b16",
   "metadata": {
    "execution": {
     "iopub.execute_input": "2025-07-30T13:20:35.898579Z",
     "iopub.status.busy": "2025-07-30T13:20:35.897941Z",
     "iopub.status.idle": "2025-07-30T13:20:35.951741Z",
     "shell.execute_reply": "2025-07-30T13:20:35.950747Z"
    },
    "papermill": {
     "duration": 0.084897,
     "end_time": "2025-07-30T13:20:35.959654",
     "exception": false,
     "start_time": "2025-07-30T13:20:35.874757",
     "status": "completed"
    },
    "tags": []
   },
   "outputs": [
    {
     "name": "stdout",
     "output_type": "stream",
     "text": [
      "Dropping features: ['age']\n"
     ]
    }
   ],
   "source": [
    "if len(excluded_features_columns) > 0:\n",
    "    print(f\"Dropping features: {excluded_features_columns}\")\n",
    "    X_test.drop(excluded_features_columns, axis=1, inplace=True)"
   ]
  },
  {
   "cell_type": "code",
   "execution_count": 34,
   "id": "1853aaf5-fb9f-46cb-a2b5-8ea4ae2237e4",
   "metadata": {
    "execution": {
     "iopub.execute_input": "2025-07-30T13:20:36.010161Z",
     "iopub.status.busy": "2025-07-30T13:20:36.009524Z",
     "iopub.status.idle": "2025-07-30T13:20:36.059792Z",
     "shell.execute_reply": "2025-07-30T13:20:36.058818Z"
    },
    "papermill": {
     "duration": 0.077203,
     "end_time": "2025-07-30T13:20:36.061747",
     "exception": false,
     "start_time": "2025-07-30T13:20:35.984544",
     "status": "completed"
    },
    "tags": []
   },
   "outputs": [
    {
     "name": "stdout",
     "output_type": "stream",
     "text": [
      "Dropping features: ['age']\n"
     ]
    }
   ],
   "source": [
    "if len(excluded_features_columns) > 0:\n",
    "    print(f\"Dropping features: {excluded_features_columns}\")\n",
    "    X_calib.drop(excluded_features_columns, axis=1, inplace=True)"
   ]
  },
  {
   "cell_type": "code",
   "execution_count": 35,
   "id": "6727d079-03e5-481e-9d38-292a90b7a0a8",
   "metadata": {
    "execution": {
     "iopub.execute_input": "2025-07-30T13:20:36.099217Z",
     "iopub.status.busy": "2025-07-30T13:20:36.098820Z",
     "iopub.status.idle": "2025-07-30T13:20:36.103310Z",
     "shell.execute_reply": "2025-07-30T13:20:36.102587Z"
    },
    "papermill": {
     "duration": 0.01992,
     "end_time": "2025-07-30T13:20:36.104670",
     "exception": false,
     "start_time": "2025-07-30T13:20:36.084750",
     "status": "completed"
    },
    "tags": []
   },
   "outputs": [],
   "source": [
    "# SPLIT & STRATIFY DATA\n",
    "# ----------------------"
   ]
  },
  {
   "cell_type": "code",
   "execution_count": 36,
   "id": "76c4dc6d",
   "metadata": {
    "execution": {
     "iopub.execute_input": "2025-07-30T13:20:36.130743Z",
     "iopub.status.busy": "2025-07-30T13:20:36.130430Z",
     "iopub.status.idle": "2025-07-30T13:20:36.135113Z",
     "shell.execute_reply": "2025-07-30T13:20:36.134398Z"
    },
    "papermill": {
     "duration": 0.018882,
     "end_time": "2025-07-30T13:20:36.136504",
     "exception": false,
     "start_time": "2025-07-30T13:20:36.117622",
     "status": "completed"
    },
    "tags": []
   },
   "outputs": [],
   "source": [
    "# EXCLUDE CERTAIN SUBGROUPS\n",
    "# ----------------------\n",
    "\n",
    "mode = universe.get(\"exclude_subgroups\", \"keep-all\") \n",
    "# Fetches the exclude_subgroups setting from the universe dict.\n",
    "# Defaults to \"keep-all\" if the key is missing."
   ]
  },
  {
   "cell_type": "code",
   "execution_count": 37,
   "id": "21994072",
   "metadata": {
    "execution": {
     "iopub.execute_input": "2025-07-30T13:20:36.162616Z",
     "iopub.status.busy": "2025-07-30T13:20:36.161911Z",
     "iopub.status.idle": "2025-07-30T13:20:36.167973Z",
     "shell.execute_reply": "2025-07-30T13:20:36.167020Z"
    },
    "papermill": {
     "duration": 0.020413,
     "end_time": "2025-07-30T13:20:36.169736",
     "exception": false,
     "start_time": "2025-07-30T13:20:36.149323",
     "status": "completed"
    },
    "tags": []
   },
   "outputs": [],
   "source": [
    "if mode == \"keep-all\":\n",
    "    keep_mask = pd.Series(True, index=org_train.index)\n",
    "\n",
    "# org_train contains the original feature columns from features_org (in Simson)\n",
    "# features_org contains unprocessed features, for me X_train at beginning ???\n",
    "# For keep-all, creates a boolean Series (keep_mask) of all True, so no rows are removed.\n",
    "\n",
    "elif mode == \"drop-non-german\":\n",
    "    keep_mask = org_train[\"maxdeutsch1\"] == 1 # ??? what about missing values?\n",
    "\n",
    "else:\n",
    "    raise ValueError(f\"Unsupported mode for exclude_subgroups: {mode}\")\n"
   ]
  },
  {
   "cell_type": "code",
   "execution_count": 38,
   "id": "71651440",
   "metadata": {
    "execution": {
     "iopub.execute_input": "2025-07-30T13:20:36.211212Z",
     "iopub.status.busy": "2025-07-30T13:20:36.210386Z",
     "iopub.status.idle": "2025-07-30T13:20:36.217678Z",
     "shell.execute_reply": "2025-07-30T13:20:36.216685Z"
    },
    "papermill": {
     "duration": 0.027284,
     "end_time": "2025-07-30T13:20:36.222581",
     "exception": false,
     "start_time": "2025-07-30T13:20:36.195297",
     "status": "completed"
    },
    "tags": []
   },
   "outputs": [
    {
     "name": "stdout",
     "output_type": "stream",
     "text": [
      "Dropping 3481 rows (13.92%) where mode='drop-non-german'\n"
     ]
    }
   ],
   "source": [
    "n_drop = (~keep_mask).sum() # Calculates how many rows are set to be dropped\n",
    "if n_drop > 0:\n",
    "    pct = n_drop / len(keep_mask) * 100\n",
    "    print(f\"Dropping {n_drop} rows ({pct:.2f}%) where mode='{mode}'\")"
   ]
  },
  {
   "cell_type": "code",
   "execution_count": 39,
   "id": "5fb8eee5",
   "metadata": {
    "execution": {
     "iopub.execute_input": "2025-07-30T13:20:36.274695Z",
     "iopub.status.busy": "2025-07-30T13:20:36.274321Z",
     "iopub.status.idle": "2025-07-30T13:20:36.289024Z",
     "shell.execute_reply": "2025-07-30T13:20:36.287931Z"
    },
    "papermill": {
     "duration": 0.04246,
     "end_time": "2025-07-30T13:20:36.291014",
     "exception": false,
     "start_time": "2025-07-30T13:20:36.248554",
     "status": "completed"
    },
    "tags": []
   },
   "outputs": [],
   "source": [
    "X_train = X_train[keep_mask]"
   ]
  },
  {
   "cell_type": "code",
   "execution_count": 40,
   "id": "b202bb3a",
   "metadata": {
    "execution": {
     "iopub.execute_input": "2025-07-30T13:20:36.343082Z",
     "iopub.status.busy": "2025-07-30T13:20:36.342443Z",
     "iopub.status.idle": "2025-07-30T13:20:36.349343Z",
     "shell.execute_reply": "2025-07-30T13:20:36.348444Z"
    },
    "papermill": {
     "duration": 0.035131,
     "end_time": "2025-07-30T13:20:36.351045",
     "exception": false,
     "start_time": "2025-07-30T13:20:36.315914",
     "status": "completed"
    },
    "tags": []
   },
   "outputs": [],
   "source": [
    "y_train = y_train[keep_mask]"
   ]
  },
  {
   "cell_type": "markdown",
   "id": "493e2ac3",
   "metadata": {
    "papermill": {
     "duration": 0.024696,
     "end_time": "2025-07-30T13:20:36.401841",
     "exception": false,
     "start_time": "2025-07-30T13:20:36.377145",
     "status": "completed"
    },
    "tags": []
   },
   "source": [
    "# Model Training"
   ]
  },
  {
   "cell_type": "code",
   "execution_count": 41,
   "id": "679e1268",
   "metadata": {
    "execution": {
     "iopub.execute_input": "2025-07-30T13:20:36.451935Z",
     "iopub.status.busy": "2025-07-30T13:20:36.451292Z",
     "iopub.status.idle": "2025-07-30T13:20:36.550565Z",
     "shell.execute_reply": "2025-07-30T13:20:36.549626Z"
    },
    "papermill": {
     "duration": 0.127125,
     "end_time": "2025-07-30T13:20:36.552730",
     "exception": false,
     "start_time": "2025-07-30T13:20:36.425605",
     "status": "completed"
    },
    "tags": []
   },
   "outputs": [],
   "source": [
    "from sklearn.linear_model import LogisticRegression\n",
    "from sklearn.ensemble import GradientBoostingClassifier, RandomForestClassifier\n",
    "\n",
    "if (universe[\"model\"] == \"logreg\"):\n",
    "    model = LogisticRegression() #penalty=\"none\") #, solver=\"newton-cg\", max_iter=1) # include random_state=19 ?\n",
    "elif (universe[\"model\"] == \"penalized_logreg\"):\n",
    "    model = LogisticRegression(penalty=\"l2\", C=1.0) #, solver=\"newton-cg\", max_iter=1)\n",
    "elif (universe[\"model\"] == \"rf\"):\n",
    "    model = RandomForestClassifier(n_estimators=100, n_jobs=-1)\n",
    "elif (universe[\"model\"] == \"gbm\"):\n",
    "    model = GradientBoostingClassifier()\n",
    "elif (universe[\"model\"] == \"elasticnet\"):\n",
    "    model = LogisticRegression(penalty = 'elasticnet', solver = 'saga', l1_ratio = 0.5, max_iter=5000) # which solver to use?\n",
    "else:\n",
    "    raise \"Unsupported universe.model\""
   ]
  },
  {
   "cell_type": "code",
   "execution_count": 42,
   "id": "0cc8f744",
   "metadata": {
    "execution": {
     "iopub.execute_input": "2025-07-30T13:20:36.608990Z",
     "iopub.status.busy": "2025-07-30T13:20:36.608348Z",
     "iopub.status.idle": "2025-07-30T13:20:36.614906Z",
     "shell.execute_reply": "2025-07-30T13:20:36.613884Z"
    },
    "papermill": {
     "duration": 0.0367,
     "end_time": "2025-07-30T13:20:36.616836",
     "exception": false,
     "start_time": "2025-07-30T13:20:36.580136",
     "status": "completed"
    },
    "tags": []
   },
   "outputs": [],
   "source": [
    "import numpy as np\n",
    "from sklearn.pipeline import Pipeline\n",
    "from sklearn.preprocessing import StandardScaler\n",
    "\n",
    "model = Pipeline([\n",
    "    #(\"continuous_processor\", continuous_processor),\n",
    "    #(\"categorical_preprocessor\", categorical_preprocessor),\n",
    "    (\"scale\", StandardScaler() if universe[\"scale\"] == \"scale\" else None), \n",
    "    (\"model\", model),\n",
    "])"
   ]
  },
  {
   "cell_type": "code",
   "execution_count": 43,
   "id": "9442c04d",
   "metadata": {
    "execution": {
     "iopub.execute_input": "2025-07-30T13:20:36.669375Z",
     "iopub.status.busy": "2025-07-30T13:20:36.669005Z",
     "iopub.status.idle": "2025-07-30T13:28:00.804559Z",
     "shell.execute_reply": "2025-07-30T13:28:00.803405Z"
    },
    "papermill": {
     "duration": 444.186967,
     "end_time": "2025-07-30T13:28:00.829977",
     "exception": false,
     "start_time": "2025-07-30T13:20:36.643010",
     "status": "completed"
    },
    "tags": []
   },
   "outputs": [
    {
     "name": "stderr",
     "output_type": "stream",
     "text": [
      "/dss/dsshome1/0C/ra93lal2/.local/share/virtualenvs/CMA_Fairness_v2-3j10GkSs/lib/python3.10/site-packages/sklearn/linear_model/_sag.py:350: ConvergenceWarning: The max_iter was reached which means the coef_ did not converge\n",
      "  warnings.warn(\n"
     ]
    },
    {
     "data": {
      "text/html": [
       "<style>#sk-container-id-1 {color: black;background-color: white;}#sk-container-id-1 pre{padding: 0;}#sk-container-id-1 div.sk-toggleable {background-color: white;}#sk-container-id-1 label.sk-toggleable__label {cursor: pointer;display: block;width: 100%;margin-bottom: 0;padding: 0.3em;box-sizing: border-box;text-align: center;}#sk-container-id-1 label.sk-toggleable__label-arrow:before {content: \"▸\";float: left;margin-right: 0.25em;color: #696969;}#sk-container-id-1 label.sk-toggleable__label-arrow:hover:before {color: black;}#sk-container-id-1 div.sk-estimator:hover label.sk-toggleable__label-arrow:before {color: black;}#sk-container-id-1 div.sk-toggleable__content {max-height: 0;max-width: 0;overflow: hidden;text-align: left;background-color: #f0f8ff;}#sk-container-id-1 div.sk-toggleable__content pre {margin: 0.2em;color: black;border-radius: 0.25em;background-color: #f0f8ff;}#sk-container-id-1 input.sk-toggleable__control:checked~div.sk-toggleable__content {max-height: 200px;max-width: 100%;overflow: auto;}#sk-container-id-1 input.sk-toggleable__control:checked~label.sk-toggleable__label-arrow:before {content: \"▾\";}#sk-container-id-1 div.sk-estimator input.sk-toggleable__control:checked~label.sk-toggleable__label {background-color: #d4ebff;}#sk-container-id-1 div.sk-label input.sk-toggleable__control:checked~label.sk-toggleable__label {background-color: #d4ebff;}#sk-container-id-1 input.sk-hidden--visually {border: 0;clip: rect(1px 1px 1px 1px);clip: rect(1px, 1px, 1px, 1px);height: 1px;margin: -1px;overflow: hidden;padding: 0;position: absolute;width: 1px;}#sk-container-id-1 div.sk-estimator {font-family: monospace;background-color: #f0f8ff;border: 1px dotted black;border-radius: 0.25em;box-sizing: border-box;margin-bottom: 0.5em;}#sk-container-id-1 div.sk-estimator:hover {background-color: #d4ebff;}#sk-container-id-1 div.sk-parallel-item::after {content: \"\";width: 100%;border-bottom: 1px solid gray;flex-grow: 1;}#sk-container-id-1 div.sk-label:hover label.sk-toggleable__label {background-color: #d4ebff;}#sk-container-id-1 div.sk-serial::before {content: \"\";position: absolute;border-left: 1px solid gray;box-sizing: border-box;top: 0;bottom: 0;left: 50%;z-index: 0;}#sk-container-id-1 div.sk-serial {display: flex;flex-direction: column;align-items: center;background-color: white;padding-right: 0.2em;padding-left: 0.2em;position: relative;}#sk-container-id-1 div.sk-item {position: relative;z-index: 1;}#sk-container-id-1 div.sk-parallel {display: flex;align-items: stretch;justify-content: center;background-color: white;position: relative;}#sk-container-id-1 div.sk-item::before, #sk-container-id-1 div.sk-parallel-item::before {content: \"\";position: absolute;border-left: 1px solid gray;box-sizing: border-box;top: 0;bottom: 0;left: 50%;z-index: -1;}#sk-container-id-1 div.sk-parallel-item {display: flex;flex-direction: column;z-index: 1;position: relative;background-color: white;}#sk-container-id-1 div.sk-parallel-item:first-child::after {align-self: flex-end;width: 50%;}#sk-container-id-1 div.sk-parallel-item:last-child::after {align-self: flex-start;width: 50%;}#sk-container-id-1 div.sk-parallel-item:only-child::after {width: 0;}#sk-container-id-1 div.sk-dashed-wrapped {border: 1px dashed gray;margin: 0 0.4em 0.5em 0.4em;box-sizing: border-box;padding-bottom: 0.4em;background-color: white;}#sk-container-id-1 div.sk-label label {font-family: monospace;font-weight: bold;display: inline-block;line-height: 1.2em;}#sk-container-id-1 div.sk-label-container {text-align: center;}#sk-container-id-1 div.sk-container {/* jupyter's `normalize.less` sets `[hidden] { display: none; }` but bootstrap.min.css set `[hidden] { display: none !important; }` so we also need the `!important` here to be able to override the default hidden behavior on the sphinx rendered scikit-learn.org. See: https://github.com/scikit-learn/scikit-learn/issues/21755 */display: inline-block !important;position: relative;}#sk-container-id-1 div.sk-text-repr-fallback {display: none;}</style><div id=\"sk-container-id-1\" class=\"sk-top-container\"><div class=\"sk-text-repr-fallback\"><pre>Pipeline(steps=[(&#x27;scale&#x27;, None),\n",
       "                (&#x27;model&#x27;,\n",
       "                 LogisticRegression(l1_ratio=0.5, max_iter=5000,\n",
       "                                    penalty=&#x27;elasticnet&#x27;, solver=&#x27;saga&#x27;))])</pre><b>In a Jupyter environment, please rerun this cell to show the HTML representation or trust the notebook. <br />On GitHub, the HTML representation is unable to render, please try loading this page with nbviewer.org.</b></div><div class=\"sk-container\" hidden><div class=\"sk-item sk-dashed-wrapped\"><div class=\"sk-label-container\"><div class=\"sk-label sk-toggleable\"><input class=\"sk-toggleable__control sk-hidden--visually\" id=\"sk-estimator-id-1\" type=\"checkbox\" ><label for=\"sk-estimator-id-1\" class=\"sk-toggleable__label sk-toggleable__label-arrow\">Pipeline</label><div class=\"sk-toggleable__content\"><pre>Pipeline(steps=[(&#x27;scale&#x27;, None),\n",
       "                (&#x27;model&#x27;,\n",
       "                 LogisticRegression(l1_ratio=0.5, max_iter=5000,\n",
       "                                    penalty=&#x27;elasticnet&#x27;, solver=&#x27;saga&#x27;))])</pre></div></div></div><div class=\"sk-serial\"><div class=\"sk-item\"><div class=\"sk-estimator sk-toggleable\"><input class=\"sk-toggleable__control sk-hidden--visually\" id=\"sk-estimator-id-2\" type=\"checkbox\" ><label for=\"sk-estimator-id-2\" class=\"sk-toggleable__label sk-toggleable__label-arrow\">None</label><div class=\"sk-toggleable__content\"><pre>None</pre></div></div></div><div class=\"sk-item\"><div class=\"sk-estimator sk-toggleable\"><input class=\"sk-toggleable__control sk-hidden--visually\" id=\"sk-estimator-id-3\" type=\"checkbox\" ><label for=\"sk-estimator-id-3\" class=\"sk-toggleable__label sk-toggleable__label-arrow\">LogisticRegression</label><div class=\"sk-toggleable__content\"><pre>LogisticRegression(l1_ratio=0.5, max_iter=5000, penalty=&#x27;elasticnet&#x27;,\n",
       "                   solver=&#x27;saga&#x27;)</pre></div></div></div></div></div></div></div>"
      ],
      "text/plain": [
       "Pipeline(steps=[('scale', None),\n",
       "                ('model',\n",
       "                 LogisticRegression(l1_ratio=0.5, max_iter=5000,\n",
       "                                    penalty='elasticnet', solver='saga'))])"
      ]
     },
     "execution_count": 43,
     "metadata": {},
     "output_type": "execute_result"
    }
   ],
   "source": [
    "model.fit(X_train, y_train.values.ravel())"
   ]
  },
  {
   "cell_type": "code",
   "execution_count": 44,
   "id": "af59f8c0",
   "metadata": {
    "execution": {
     "iopub.execute_input": "2025-07-30T13:28:00.878758Z",
     "iopub.status.busy": "2025-07-30T13:28:00.878333Z",
     "iopub.status.idle": "2025-07-30T13:28:00.886260Z",
     "shell.execute_reply": "2025-07-30T13:28:00.885144Z"
    },
    "papermill": {
     "duration": 0.034593,
     "end_time": "2025-07-30T13:28:00.888266",
     "exception": false,
     "start_time": "2025-07-30T13:28:00.853673",
     "status": "completed"
    },
    "tags": []
   },
   "outputs": [],
   "source": [
    "from fairness_multiverse.universe import predict_w_threshold"
   ]
  },
  {
   "cell_type": "code",
   "execution_count": 45,
   "id": "a7cf2e16",
   "metadata": {
    "execution": {
     "iopub.execute_input": "2025-07-30T13:28:00.939267Z",
     "iopub.status.busy": "2025-07-30T13:28:00.938619Z",
     "iopub.status.idle": "2025-07-30T13:28:01.045449Z",
     "shell.execute_reply": "2025-07-30T13:28:01.044466Z"
    },
    "papermill": {
     "duration": 0.133136,
     "end_time": "2025-07-30T13:28:01.046948",
     "exception": false,
     "start_time": "2025-07-30T13:28:00.913812",
     "status": "completed"
    },
    "tags": []
   },
   "outputs": [
    {
     "data": {
      "text/plain": [
       "0.8540630921859325"
      ]
     },
     "execution_count": 45,
     "metadata": {},
     "output_type": "execute_result"
    }
   ],
   "source": [
    "probs_test = model.predict_proba(X_test)\n",
    "\n",
    "'''\n",
    "Below code returns a boolean array (or binary 0/1 array depending on how it’s used) where each element \n",
    "is True if the probability of class 1 is greater than or equal to the threshold, and False otherwise.\n",
    "'''\n",
    "y_pred_default = predict_w_threshold(probs_test, 0.5)\n",
    "\n",
    "from sklearn.metrics import accuracy_score\n",
    "\n",
    "# Naive prediction\n",
    "accuracy_score(y_true = y_true, y_pred = y_pred_default)"
   ]
  },
  {
   "cell_type": "code",
   "execution_count": 46,
   "id": "081964c3",
   "metadata": {
    "execution": {
     "iopub.execute_input": "2025-07-30T13:28:01.097463Z",
     "iopub.status.busy": "2025-07-30T13:28:01.096759Z",
     "iopub.status.idle": "2025-07-30T13:28:01.196602Z",
     "shell.execute_reply": "2025-07-30T13:28:01.195550Z"
    },
    "papermill": {
     "duration": 0.127736,
     "end_time": "2025-07-30T13:28:01.198420",
     "exception": false,
     "start_time": "2025-07-30T13:28:01.070684",
     "status": "completed"
    },
    "tags": []
   },
   "outputs": [
    {
     "data": {
      "text/plain": [
       "array([0, 0, 0, ..., 0, 0, 0])"
      ]
     },
     "execution_count": 46,
     "metadata": {},
     "output_type": "execute_result"
    }
   ],
   "source": [
    "model.predict(X_test)"
   ]
  },
  {
   "cell_type": "markdown",
   "id": "56c9705b",
   "metadata": {
    "papermill": {
     "duration": 0.024525,
     "end_time": "2025-07-30T13:28:01.247591",
     "exception": false,
     "start_time": "2025-07-30T13:28:01.223066",
     "status": "completed"
    },
    "tags": []
   },
   "source": [
    "# Conformal Prediction"
   ]
  },
  {
   "cell_type": "code",
   "execution_count": 47,
   "id": "160ec6ff",
   "metadata": {
    "execution": {
     "iopub.execute_input": "2025-07-30T13:28:01.299245Z",
     "iopub.status.busy": "2025-07-30T13:28:01.298575Z",
     "iopub.status.idle": "2025-07-30T13:28:01.303725Z",
     "shell.execute_reply": "2025-07-30T13:28:01.302792Z"
    },
    "papermill": {
     "duration": 0.032991,
     "end_time": "2025-07-30T13:28:01.305518",
     "exception": false,
     "start_time": "2025-07-30T13:28:01.272527",
     "status": "completed"
    },
    "tags": []
   },
   "outputs": [],
   "source": [
    "# Miscoverage level for conformal prediction (10% allowed error rate => 90% target coverage)\n",
    "alpha = 0.1"
   ]
  },
  {
   "cell_type": "code",
   "execution_count": 48,
   "id": "eadf4555-3dd3-440e-8e35-f82a4ad9f855",
   "metadata": {
    "execution": {
     "iopub.execute_input": "2025-07-30T13:28:01.357565Z",
     "iopub.status.busy": "2025-07-30T13:28:01.357087Z",
     "iopub.status.idle": "2025-07-30T13:28:01.446331Z",
     "shell.execute_reply": "2025-07-30T13:28:01.445430Z"
    },
    "papermill": {
     "duration": 0.117764,
     "end_time": "2025-07-30T13:28:01.448359",
     "exception": false,
     "start_time": "2025-07-30T13:28:01.330595",
     "status": "completed"
    },
    "tags": []
   },
   "outputs": [],
   "source": [
    "probs_calib = model.predict_proba(X_calib)"
   ]
  },
  {
   "cell_type": "code",
   "execution_count": 49,
   "id": "2ed93547-6d5d-4983-9b36-1ecb300da49a",
   "metadata": {
    "execution": {
     "iopub.execute_input": "2025-07-30T13:28:01.507984Z",
     "iopub.status.busy": "2025-07-30T13:28:01.507266Z",
     "iopub.status.idle": "2025-07-30T13:28:01.513876Z",
     "shell.execute_reply": "2025-07-30T13:28:01.512776Z"
    },
    "papermill": {
     "duration": 0.036799,
     "end_time": "2025-07-30T13:28:01.516539",
     "exception": false,
     "start_time": "2025-07-30T13:28:01.479740",
     "status": "completed"
    },
    "tags": []
   },
   "outputs": [],
   "source": [
    "y_calib = y_calib.values.ravel().astype(int)"
   ]
  },
  {
   "cell_type": "code",
   "execution_count": 50,
   "id": "65d1320d-f588-4b38-9072-62af1ae97f7d",
   "metadata": {
    "execution": {
     "iopub.execute_input": "2025-07-30T13:28:01.573424Z",
     "iopub.status.busy": "2025-07-30T13:28:01.572986Z",
     "iopub.status.idle": "2025-07-30T13:28:01.582545Z",
     "shell.execute_reply": "2025-07-30T13:28:01.581546Z"
    },
    "papermill": {
     "duration": 0.04049,
     "end_time": "2025-07-30T13:28:01.584604",
     "exception": false,
     "start_time": "2025-07-30T13:28:01.544114",
     "status": "completed"
    },
    "tags": []
   },
   "outputs": [],
   "source": [
    "from fairness_multiverse.conformal import compute_nc_scores\n",
    "\n",
    "# Compute nonconformity scores on calibration set (1 - probability of true class)\n",
    "nc_scores = compute_nc_scores(probs_calib, y_calib)"
   ]
  },
  {
   "cell_type": "code",
   "execution_count": 51,
   "id": "df3b8ca3-53b7-43d5-9667-7c85da7aeda2",
   "metadata": {
    "execution": {
     "iopub.execute_input": "2025-07-30T13:28:01.639353Z",
     "iopub.status.busy": "2025-07-30T13:28:01.638900Z",
     "iopub.status.idle": "2025-07-30T13:28:01.646231Z",
     "shell.execute_reply": "2025-07-30T13:28:01.645018Z"
    },
    "papermill": {
     "duration": 0.036897,
     "end_time": "2025-07-30T13:28:01.648233",
     "exception": false,
     "start_time": "2025-07-30T13:28:01.611336",
     "status": "completed"
    },
    "tags": []
   },
   "outputs": [],
   "source": [
    "from fairness_multiverse.conformal import find_threshold\n",
    "\n",
    "# Find conformal threshold q_hat for the given alpha (split conformal method)\n",
    "q_hat = find_threshold(nc_scores, alpha)"
   ]
  },
  {
   "cell_type": "code",
   "execution_count": 52,
   "id": "4d29e6c1-0ef6-4aa4-b8fe-4fe79b0d033a",
   "metadata": {
    "execution": {
     "iopub.execute_input": "2025-07-30T13:28:01.699962Z",
     "iopub.status.busy": "2025-07-30T13:28:01.699460Z",
     "iopub.status.idle": "2025-07-30T13:28:01.706868Z",
     "shell.execute_reply": "2025-07-30T13:28:01.705939Z"
    },
    "papermill": {
     "duration": 0.035253,
     "end_time": "2025-07-30T13:28:01.709172",
     "exception": false,
     "start_time": "2025-07-30T13:28:01.673919",
     "status": "completed"
    },
    "tags": []
   },
   "outputs": [
    {
     "data": {
      "text/plain": [
       "0.644426017469646"
      ]
     },
     "execution_count": 52,
     "metadata": {},
     "output_type": "execute_result"
    }
   ],
   "source": [
    "q_hat"
   ]
  },
  {
   "cell_type": "code",
   "execution_count": 53,
   "id": "92460794-cdac-4be2-ba28-f28c0515a6fb",
   "metadata": {
    "execution": {
     "iopub.execute_input": "2025-07-30T13:28:01.768188Z",
     "iopub.status.busy": "2025-07-30T13:28:01.767707Z",
     "iopub.status.idle": "2025-07-30T13:28:02.582212Z",
     "shell.execute_reply": "2025-07-30T13:28:02.581125Z"
    },
    "papermill": {
     "duration": 0.846747,
     "end_time": "2025-07-30T13:28:02.584671",
     "exception": false,
     "start_time": "2025-07-30T13:28:01.737924",
     "status": "completed"
    },
    "tags": []
   },
   "outputs": [],
   "source": [
    "from fairness_multiverse.conformal import predict_conformal_sets\n",
    "\n",
    "# Generate prediction sets for each test example\n",
    "pred_sets = predict_conformal_sets(model, X_test, q_hat)"
   ]
  },
  {
   "cell_type": "code",
   "execution_count": 54,
   "id": "d90c9a65-e6db-4f5d-80cd-e68fb7e46829",
   "metadata": {
    "execution": {
     "iopub.execute_input": "2025-07-30T13:28:02.664245Z",
     "iopub.status.busy": "2025-07-30T13:28:02.663536Z",
     "iopub.status.idle": "2025-07-30T13:28:02.670010Z",
     "shell.execute_reply": "2025-07-30T13:28:02.669041Z"
    },
    "papermill": {
     "duration": 0.039616,
     "end_time": "2025-07-30T13:28:02.671886",
     "exception": false,
     "start_time": "2025-07-30T13:28:02.632270",
     "status": "completed"
    },
    "tags": []
   },
   "outputs": [],
   "source": [
    "y_true = y_true.squeeze()"
   ]
  },
  {
   "cell_type": "code",
   "execution_count": 55,
   "id": "3a58a54a-1e68-46b9-927a-df01f18aebc8",
   "metadata": {
    "execution": {
     "iopub.execute_input": "2025-07-30T13:28:02.733070Z",
     "iopub.status.busy": "2025-07-30T13:28:02.732388Z",
     "iopub.status.idle": "2025-07-30T13:28:03.665170Z",
     "shell.execute_reply": "2025-07-30T13:28:03.664157Z"
    },
    "papermill": {
     "duration": 0.96506,
     "end_time": "2025-07-30T13:28:03.667064",
     "exception": false,
     "start_time": "2025-07-30T13:28:02.702004",
     "status": "completed"
    },
    "tags": []
   },
   "outputs": [],
   "source": [
    "from fairness_multiverse.conformal import evaluate_sets\n",
    "\n",
    "# Evaluate coverage and average set size on test data\n",
    "metrics = evaluate_sets(pred_sets, y_true)"
   ]
  },
  {
   "cell_type": "markdown",
   "id": "2b569c12-9aaa-4c88-98c9-bbcd0cf3ebb8",
   "metadata": {
    "papermill": {
     "duration": 0.034314,
     "end_time": "2025-07-30T13:28:03.726244",
     "exception": false,
     "start_time": "2025-07-30T13:28:03.691930",
     "status": "completed"
    },
    "tags": []
   },
   "source": [
    "# CP Metrics"
   ]
  },
  {
   "cell_type": "code",
   "execution_count": 56,
   "id": "5ce0a5cb-201f-45a0-ade5-94c7f0bd6095",
   "metadata": {
    "execution": {
     "iopub.execute_input": "2025-07-30T13:28:03.782764Z",
     "iopub.status.busy": "2025-07-30T13:28:03.782114Z",
     "iopub.status.idle": "2025-07-30T13:28:03.789403Z",
     "shell.execute_reply": "2025-07-30T13:28:03.788474Z"
    },
    "papermill": {
     "duration": 0.033873,
     "end_time": "2025-07-30T13:28:03.790958",
     "exception": false,
     "start_time": "2025-07-30T13:28:03.757085",
     "status": "completed"
    },
    "tags": []
   },
   "outputs": [
    {
     "data": {
      "text/plain": [
       "{'coverage': 0.9120833797792888, 'avg_size': 1.2444654999442648}"
      ]
     },
     "execution_count": 56,
     "metadata": {},
     "output_type": "execute_result"
    }
   ],
   "source": [
    "metrics"
   ]
  },
  {
   "cell_type": "code",
   "execution_count": 57,
   "id": "9b9a838d-31c9-430b-ae14-12baee460d17",
   "metadata": {
    "execution": {
     "iopub.execute_input": "2025-07-30T13:28:03.843049Z",
     "iopub.status.busy": "2025-07-30T13:28:03.842409Z",
     "iopub.status.idle": "2025-07-30T13:28:03.849502Z",
     "shell.execute_reply": "2025-07-30T13:28:03.848537Z"
    },
    "papermill": {
     "duration": 0.03535,
     "end_time": "2025-07-30T13:28:03.851410",
     "exception": false,
     "start_time": "2025-07-30T13:28:03.816060",
     "status": "completed"
    },
    "tags": []
   },
   "outputs": [],
   "source": [
    "example_universe = universe.copy()\n",
    "universe_training_size = example_universe.get(\"training_size\")\n",
    "universe_scale = example_universe.get(\"scale\")\n",
    "universe_model = example_universe.get(\"model\")\n",
    "universe_exclude_features = example_universe.get(\"exclude_features\")\n",
    "universe_exclude_subgroups = example_universe.get(\"exclude_subgroups\")"
   ]
  },
  {
   "cell_type": "code",
   "execution_count": 58,
   "id": "f4b6a8ac-9dc0-4245-8a91-5b3b5999c4f9",
   "metadata": {
    "execution": {
     "iopub.execute_input": "2025-07-30T13:28:03.902516Z",
     "iopub.status.busy": "2025-07-30T13:28:03.902081Z",
     "iopub.status.idle": "2025-07-30T13:28:03.908216Z",
     "shell.execute_reply": "2025-07-30T13:28:03.907280Z"
    },
    "papermill": {
     "duration": 0.03279,
     "end_time": "2025-07-30T13:28:03.909784",
     "exception": false,
     "start_time": "2025-07-30T13:28:03.876994",
     "status": "completed"
    },
    "tags": []
   },
   "outputs": [],
   "source": [
    "cp_metrics_dict = {\n",
    "    \"universe_id\": [universe_id],\n",
    "    \"universe_training_size\": [universe_training_size],\n",
    "    \"universe_scale\": [universe_scale],\n",
    "    \"universe_model\": [universe_model],\n",
    "    \"universe_exclude_features\": [universe_exclude_features],\n",
    "    \"universe_exclude_subgroups\": [universe_exclude_subgroups],\n",
    "    \"q_hat\": [q_hat],\n",
    "    \"coverage\": [metrics[\"coverage\"]],\n",
    "    \"avg_size\": [metrics[\"avg_size\"]],\n",
    "}"
   ]
  },
  {
   "cell_type": "code",
   "execution_count": 59,
   "id": "908acbb1-0371-4915-85ca-3fa520d2efe2",
   "metadata": {
    "execution": {
     "iopub.execute_input": "2025-07-30T13:28:03.961335Z",
     "iopub.status.busy": "2025-07-30T13:28:03.960096Z",
     "iopub.status.idle": "2025-07-30T13:28:03.968560Z",
     "shell.execute_reply": "2025-07-30T13:28:03.967533Z"
    },
    "papermill": {
     "duration": 0.036266,
     "end_time": "2025-07-30T13:28:03.971003",
     "exception": false,
     "start_time": "2025-07-30T13:28:03.934737",
     "status": "completed"
    },
    "tags": []
   },
   "outputs": [
    {
     "data": {
      "text/plain": [
       "{'universe_id': ['ac80359935a7a6fe9c20a5f668a8513d'],\n",
       " 'universe_training_size': ['25k'],\n",
       " 'universe_scale': ['do-not-scale'],\n",
       " 'universe_model': ['elasticnet'],\n",
       " 'universe_exclude_features': ['age'],\n",
       " 'universe_exclude_subgroups': ['drop-non-german'],\n",
       " 'q_hat': [0.644426017469646],\n",
       " 'coverage': [0.9120833797792888],\n",
       " 'avg_size': [1.2444654999442648]}"
      ]
     },
     "execution_count": 59,
     "metadata": {},
     "output_type": "execute_result"
    }
   ],
   "source": [
    "cp_metrics_dict"
   ]
  },
  {
   "cell_type": "code",
   "execution_count": 60,
   "id": "33007efc-14e9-4ec6-97ac-56a455c82265",
   "metadata": {
    "execution": {
     "iopub.execute_input": "2025-07-30T13:28:04.019604Z",
     "iopub.status.busy": "2025-07-30T13:28:04.019171Z",
     "iopub.status.idle": "2025-07-30T13:28:04.026460Z",
     "shell.execute_reply": "2025-07-30T13:28:04.025685Z"
    },
    "papermill": {
     "duration": 0.032688,
     "end_time": "2025-07-30T13:28:04.027845",
     "exception": false,
     "start_time": "2025-07-30T13:28:03.995157",
     "status": "completed"
    },
    "tags": []
   },
   "outputs": [],
   "source": [
    "cp_metrics_df = pd.DataFrame(cp_metrics_dict)"
   ]
  },
  {
   "cell_type": "code",
   "execution_count": 61,
   "id": "db12611b-57b2-4910-b9d0-355adfd6e7bf",
   "metadata": {
    "execution": {
     "iopub.execute_input": "2025-07-30T13:28:04.056762Z",
     "iopub.status.busy": "2025-07-30T13:28:04.056329Z",
     "iopub.status.idle": "2025-07-30T13:28:04.070627Z",
     "shell.execute_reply": "2025-07-30T13:28:04.069914Z"
    },
    "papermill": {
     "duration": 0.029705,
     "end_time": "2025-07-30T13:28:04.072097",
     "exception": false,
     "start_time": "2025-07-30T13:28:04.042392",
     "status": "completed"
    },
    "tags": []
   },
   "outputs": [
    {
     "data": {
      "text/html": [
       "<div>\n",
       "<style scoped>\n",
       "    .dataframe tbody tr th:only-of-type {\n",
       "        vertical-align: middle;\n",
       "    }\n",
       "\n",
       "    .dataframe tbody tr th {\n",
       "        vertical-align: top;\n",
       "    }\n",
       "\n",
       "    .dataframe thead th {\n",
       "        text-align: right;\n",
       "    }\n",
       "</style>\n",
       "<table border=\"1\" class=\"dataframe\">\n",
       "  <thead>\n",
       "    <tr style=\"text-align: right;\">\n",
       "      <th></th>\n",
       "      <th>universe_id</th>\n",
       "      <th>universe_training_size</th>\n",
       "      <th>universe_scale</th>\n",
       "      <th>universe_model</th>\n",
       "      <th>universe_exclude_features</th>\n",
       "      <th>universe_exclude_subgroups</th>\n",
       "      <th>q_hat</th>\n",
       "      <th>coverage</th>\n",
       "      <th>avg_size</th>\n",
       "    </tr>\n",
       "  </thead>\n",
       "  <tbody>\n",
       "    <tr>\n",
       "      <th>0</th>\n",
       "      <td>ac80359935a7a6fe9c20a5f668a8513d</td>\n",
       "      <td>25k</td>\n",
       "      <td>do-not-scale</td>\n",
       "      <td>elasticnet</td>\n",
       "      <td>age</td>\n",
       "      <td>drop-non-german</td>\n",
       "      <td>0.644426</td>\n",
       "      <td>0.912083</td>\n",
       "      <td>1.244465</td>\n",
       "    </tr>\n",
       "  </tbody>\n",
       "</table>\n",
       "</div>"
      ],
      "text/plain": [
       "                        universe_id universe_training_size universe_scale  \\\n",
       "0  ac80359935a7a6fe9c20a5f668a8513d                    25k   do-not-scale   \n",
       "\n",
       "  universe_model universe_exclude_features universe_exclude_subgroups  \\\n",
       "0     elasticnet                       age            drop-non-german   \n",
       "\n",
       "      q_hat  coverage  avg_size  \n",
       "0  0.644426  0.912083  1.244465  "
      ]
     },
     "execution_count": 61,
     "metadata": {},
     "output_type": "execute_result"
    }
   ],
   "source": [
    "cp_metrics_df"
   ]
  },
  {
   "cell_type": "code",
   "execution_count": 62,
   "id": "b7fbde55-a0a1-47e4-9af6-fe4a17fa8c61",
   "metadata": {
    "execution": {
     "iopub.execute_input": "2025-07-30T13:28:04.100608Z",
     "iopub.status.busy": "2025-07-30T13:28:04.099955Z",
     "iopub.status.idle": "2025-07-30T13:28:04.104305Z",
     "shell.execute_reply": "2025-07-30T13:28:04.103541Z"
    },
    "papermill": {
     "duration": 0.019744,
     "end_time": "2025-07-30T13:28:04.105620",
     "exception": false,
     "start_time": "2025-07-30T13:28:04.085876",
     "status": "completed"
    },
    "tags": []
   },
   "outputs": [],
   "source": [
    "# Conditional Coverage & looking at subgroups"
   ]
  },
  {
   "cell_type": "code",
   "execution_count": 63,
   "id": "027ae886-68dd-4141-96c7-805a5450e1ef",
   "metadata": {
    "execution": {
     "iopub.execute_input": "2025-07-30T13:28:04.140268Z",
     "iopub.status.busy": "2025-07-30T13:28:04.139623Z",
     "iopub.status.idle": "2025-07-30T13:28:04.395903Z",
     "shell.execute_reply": "2025-07-30T13:28:04.394884Z"
    },
    "papermill": {
     "duration": 0.277416,
     "end_time": "2025-07-30T13:28:04.397416",
     "exception": false,
     "start_time": "2025-07-30T13:28:04.120000",
     "status": "completed"
    },
    "tags": []
   },
   "outputs": [],
   "source": [
    "from fairness_multiverse.conformal import build_cp_groups\n",
    "\n",
    "cp_groups_df = build_cp_groups(pred_sets, y_true, X_test.index, org_test)\n",
    "#needs universe_id and setting"
   ]
  },
  {
   "cell_type": "code",
   "execution_count": 64,
   "id": "01d5802c-663a-4d1f-9d69-e036faaffbf7",
   "metadata": {
    "execution": {
     "iopub.execute_input": "2025-07-30T13:28:04.455879Z",
     "iopub.status.busy": "2025-07-30T13:28:04.454981Z",
     "iopub.status.idle": "2025-07-30T13:28:04.460333Z",
     "shell.execute_reply": "2025-07-30T13:28:04.459351Z"
    },
    "papermill": {
     "duration": 0.037753,
     "end_time": "2025-07-30T13:28:04.462137",
     "exception": false,
     "start_time": "2025-07-30T13:28:04.424384",
     "status": "completed"
    },
    "tags": []
   },
   "outputs": [],
   "source": [
    "#delete\n",
    "#cp_groups_df"
   ]
  },
  {
   "cell_type": "code",
   "execution_count": 65,
   "id": "fa424af1-d1eb-443d-b717-2d279ada8408",
   "metadata": {
    "execution": {
     "iopub.execute_input": "2025-07-30T13:28:04.523185Z",
     "iopub.status.busy": "2025-07-30T13:28:04.522662Z",
     "iopub.status.idle": "2025-07-30T13:28:04.528337Z",
     "shell.execute_reply": "2025-07-30T13:28:04.527302Z"
    },
    "papermill": {
     "duration": 0.039061,
     "end_time": "2025-07-30T13:28:04.530149",
     "exception": false,
     "start_time": "2025-07-30T13:28:04.491088",
     "status": "completed"
    },
    "tags": []
   },
   "outputs": [],
   "source": [
    "#delete\n",
    "#percentage = (cp_groups_df['nongerman_female'] == 1).mean() * 100\n",
    "#print(percentage)\n"
   ]
  },
  {
   "cell_type": "code",
   "execution_count": 66,
   "id": "6cbdab96-b2b2-45af-ad54-d0516db2e28d",
   "metadata": {
    "execution": {
     "iopub.execute_input": "2025-07-30T13:28:04.591469Z",
     "iopub.status.busy": "2025-07-30T13:28:04.590817Z",
     "iopub.status.idle": "2025-07-30T13:28:06.214583Z",
     "shell.execute_reply": "2025-07-30T13:28:06.213647Z"
    },
    "papermill": {
     "duration": 1.655924,
     "end_time": "2025-07-30T13:28:06.216499",
     "exception": false,
     "start_time": "2025-07-30T13:28:04.560575",
     "status": "completed"
    },
    "tags": []
   },
   "outputs": [],
   "source": [
    "# Define covered = 1 if true_label is in the predicted set\n",
    "cp_groups_df['covered'] = cp_groups_df.apply(\n",
    "    lambda r: int(r['true_label'] in r['pred_set']),\n",
    "    axis=1\n",
    ")"
   ]
  },
  {
   "cell_type": "code",
   "execution_count": 67,
   "id": "338ff529-1a6b-4b87-a931-8e4788d52aad",
   "metadata": {
    "execution": {
     "iopub.execute_input": "2025-07-30T13:28:06.273676Z",
     "iopub.status.busy": "2025-07-30T13:28:06.273265Z",
     "iopub.status.idle": "2025-07-30T13:28:06.277868Z",
     "shell.execute_reply": "2025-07-30T13:28:06.276978Z"
    },
    "papermill": {
     "duration": 0.034521,
     "end_time": "2025-07-30T13:28:06.279473",
     "exception": false,
     "start_time": "2025-07-30T13:28:06.244952",
     "status": "completed"
    },
    "tags": []
   },
   "outputs": [],
   "source": [
    "#cp_groups_df"
   ]
  },
  {
   "cell_type": "code",
   "execution_count": 68,
   "id": "90032e27-66df-4540-9169-4e89cfbaa758",
   "metadata": {
    "execution": {
     "iopub.execute_input": "2025-07-30T13:28:06.336105Z",
     "iopub.status.busy": "2025-07-30T13:28:06.335509Z",
     "iopub.status.idle": "2025-07-30T13:28:06.346408Z",
     "shell.execute_reply": "2025-07-30T13:28:06.345517Z"
    },
    "papermill": {
     "duration": 0.039402,
     "end_time": "2025-07-30T13:28:06.347832",
     "exception": false,
     "start_time": "2025-07-30T13:28:06.308430",
     "status": "completed"
    },
    "tags": []
   },
   "outputs": [],
   "source": [
    "subgroups = ['frau1','nongerman','nongerman_male','nongerman_female']\n",
    "\n",
    "# Conditional coverage for subgroup==1\n",
    "cond_coverage = {\n",
    "    g: cp_groups_df.loc[cp_groups_df[g]==1, 'covered'].mean()\n",
    "    for g in subgroups\n",
    "}"
   ]
  },
  {
   "cell_type": "code",
   "execution_count": 69,
   "id": "1e348fb1-b9c3-45bc-ba23-f016827a7e0d",
   "metadata": {
    "execution": {
     "iopub.execute_input": "2025-07-30T13:28:06.404603Z",
     "iopub.status.busy": "2025-07-30T13:28:06.404022Z",
     "iopub.status.idle": "2025-07-30T13:28:06.411015Z",
     "shell.execute_reply": "2025-07-30T13:28:06.410023Z"
    },
    "papermill": {
     "duration": 0.035414,
     "end_time": "2025-07-30T13:28:06.412556",
     "exception": false,
     "start_time": "2025-07-30T13:28:06.377142",
     "status": "completed"
    },
    "tags": []
   },
   "outputs": [
    {
     "data": {
      "text/plain": [
       "{'frau1': 0.9093678393314463,\n",
       " 'nongerman': 0.9578397799360018,\n",
       " 'nongerman_male': 0.9673061334774385,\n",
       " 'nongerman_female': 0.9421758569299553}"
      ]
     },
     "execution_count": 69,
     "metadata": {},
     "output_type": "execute_result"
    }
   ],
   "source": [
    "cond_coverage"
   ]
  },
  {
   "cell_type": "code",
   "execution_count": 70,
   "id": "f5093324-c3dd-4d63-bc4c-8d945e5c8bbb",
   "metadata": {
    "execution": {
     "iopub.execute_input": "2025-07-30T13:28:06.471048Z",
     "iopub.status.busy": "2025-07-30T13:28:06.470553Z",
     "iopub.status.idle": "2025-07-30T13:28:06.477642Z",
     "shell.execute_reply": "2025-07-30T13:28:06.476943Z"
    },
    "papermill": {
     "duration": 0.036758,
     "end_time": "2025-07-30T13:28:06.478889",
     "exception": false,
     "start_time": "2025-07-30T13:28:06.442131",
     "status": "completed"
    },
    "tags": []
   },
   "outputs": [],
   "source": [
    "for subgroup, cov in cond_coverage.items():\n",
    "    cp_metrics_df[f\"cov_{subgroup}\"] = cov"
   ]
  },
  {
   "cell_type": "code",
   "execution_count": 71,
   "id": "6e872e10-dbe5-49e8-b554-5030c98ff75d",
   "metadata": {
    "execution": {
     "iopub.execute_input": "2025-07-30T13:28:06.509316Z",
     "iopub.status.busy": "2025-07-30T13:28:06.508859Z",
     "iopub.status.idle": "2025-07-30T13:28:06.522265Z",
     "shell.execute_reply": "2025-07-30T13:28:06.521532Z"
    },
    "papermill": {
     "duration": 0.029742,
     "end_time": "2025-07-30T13:28:06.523646",
     "exception": false,
     "start_time": "2025-07-30T13:28:06.493904",
     "status": "completed"
    },
    "tags": []
   },
   "outputs": [
    {
     "data": {
      "text/html": [
       "<div>\n",
       "<style scoped>\n",
       "    .dataframe tbody tr th:only-of-type {\n",
       "        vertical-align: middle;\n",
       "    }\n",
       "\n",
       "    .dataframe tbody tr th {\n",
       "        vertical-align: top;\n",
       "    }\n",
       "\n",
       "    .dataframe thead th {\n",
       "        text-align: right;\n",
       "    }\n",
       "</style>\n",
       "<table border=\"1\" class=\"dataframe\">\n",
       "  <thead>\n",
       "    <tr style=\"text-align: right;\">\n",
       "      <th></th>\n",
       "      <th>universe_id</th>\n",
       "      <th>universe_training_size</th>\n",
       "      <th>universe_scale</th>\n",
       "      <th>universe_model</th>\n",
       "      <th>universe_exclude_features</th>\n",
       "      <th>universe_exclude_subgroups</th>\n",
       "      <th>q_hat</th>\n",
       "      <th>coverage</th>\n",
       "      <th>avg_size</th>\n",
       "      <th>cov_frau1</th>\n",
       "      <th>cov_nongerman</th>\n",
       "      <th>cov_nongerman_male</th>\n",
       "      <th>cov_nongerman_female</th>\n",
       "    </tr>\n",
       "  </thead>\n",
       "  <tbody>\n",
       "    <tr>\n",
       "      <th>0</th>\n",
       "      <td>ac80359935a7a6fe9c20a5f668a8513d</td>\n",
       "      <td>25k</td>\n",
       "      <td>do-not-scale</td>\n",
       "      <td>elasticnet</td>\n",
       "      <td>age</td>\n",
       "      <td>drop-non-german</td>\n",
       "      <td>0.644426</td>\n",
       "      <td>0.912083</td>\n",
       "      <td>1.244465</td>\n",
       "      <td>0.909368</td>\n",
       "      <td>0.95784</td>\n",
       "      <td>0.967306</td>\n",
       "      <td>0.942176</td>\n",
       "    </tr>\n",
       "  </tbody>\n",
       "</table>\n",
       "</div>"
      ],
      "text/plain": [
       "                        universe_id universe_training_size universe_scale  \\\n",
       "0  ac80359935a7a6fe9c20a5f668a8513d                    25k   do-not-scale   \n",
       "\n",
       "  universe_model universe_exclude_features universe_exclude_subgroups  \\\n",
       "0     elasticnet                       age            drop-non-german   \n",
       "\n",
       "      q_hat  coverage  avg_size  cov_frau1  cov_nongerman  cov_nongerman_male  \\\n",
       "0  0.644426  0.912083  1.244465   0.909368        0.95784            0.967306   \n",
       "\n",
       "   cov_nongerman_female  \n",
       "0              0.942176  "
      ]
     },
     "execution_count": 71,
     "metadata": {},
     "output_type": "execute_result"
    }
   ],
   "source": [
    "cp_metrics_df"
   ]
  },
  {
   "cell_type": "markdown",
   "id": "33774451",
   "metadata": {
    "papermill": {
     "duration": 0.015477,
     "end_time": "2025-07-30T13:28:06.563833",
     "exception": false,
     "start_time": "2025-07-30T13:28:06.548356",
     "status": "completed"
    },
    "tags": []
   },
   "source": [
    "# (Fairness) Metrics"
   ]
  },
  {
   "cell_type": "code",
   "execution_count": 72,
   "id": "debc5d62",
   "metadata": {
    "execution": {
     "iopub.execute_input": "2025-07-30T13:28:06.593969Z",
     "iopub.status.busy": "2025-07-30T13:28:06.593463Z",
     "iopub.status.idle": "2025-07-30T13:28:06.608667Z",
     "shell.execute_reply": "2025-07-30T13:28:06.607805Z"
    },
    "papermill": {
     "duration": 0.032179,
     "end_time": "2025-07-30T13:28:06.610216",
     "exception": false,
     "start_time": "2025-07-30T13:28:06.578037",
     "status": "completed"
    },
    "tags": []
   },
   "outputs": [],
   "source": [
    "# do I need to include maxdeutsch1.missing?\n",
    "\n",
    "import numpy as np\n",
    "\n",
    "colname_to_bin = \"maxdeutsch1\"\n",
    "majority_value = org_train[colname_to_bin].mode()[0]\n",
    "\n",
    "org_test[\"majmin\"] = np.where(org_test[colname_to_bin] == majority_value, \"majority\", \"minority\")"
   ]
  },
  {
   "cell_type": "code",
   "execution_count": 73,
   "id": "06a50de5",
   "metadata": {
    "execution": {
     "iopub.execute_input": "2025-07-30T13:28:06.640910Z",
     "iopub.status.busy": "2025-07-30T13:28:06.640416Z",
     "iopub.status.idle": "2025-07-30T13:28:08.087133Z",
     "shell.execute_reply": "2025-07-30T13:28:08.086415Z"
    },
    "papermill": {
     "duration": 1.463352,
     "end_time": "2025-07-30T13:28:08.088569",
     "exception": false,
     "start_time": "2025-07-30T13:28:06.625217",
     "status": "completed"
    },
    "tags": []
   },
   "outputs": [],
   "source": [
    "example_universe = universe.copy()\n",
    "example_universe[\"cutoff\"] = example_universe[\"cutoff\"][0]\n",
    "example_universe[\"eval_fairness_grouping\"] = example_universe[\"eval_fairness_grouping\"][0]\n",
    "fairness_dict, metric_frame = universe_analysis.compute_metrics(\n",
    "    example_universe,\n",
    "    y_pred_prob=probs_test,\n",
    "    y_test=y_true,\n",
    "    org_test=org_test,\n",
    ")"
   ]
  },
  {
   "cell_type": "markdown",
   "id": "f95d4e02",
   "metadata": {
    "papermill": {
     "duration": 0.013657,
     "end_time": "2025-07-30T13:28:08.117111",
     "exception": false,
     "start_time": "2025-07-30T13:28:08.103454",
     "status": "completed"
    },
    "tags": []
   },
   "source": [
    "# Overall"
   ]
  },
  {
   "cell_type": "markdown",
   "id": "bdee4871",
   "metadata": {
    "papermill": {
     "duration": 0.013502,
     "end_time": "2025-07-30T13:28:08.144443",
     "exception": false,
     "start_time": "2025-07-30T13:28:08.130941",
     "status": "completed"
    },
    "tags": []
   },
   "source": [
    "Fairness\n",
    "Main fairness target: Equalized Odds. Seems to be a better fit than equal opportunity, since we're not only interested in Y = 1. Seems to be a better fit than demographic parity, since we also care about accuracy, not just equal distribution of preds.\n",
    "\n",
    "Pick column for computation of fairness metrics\n",
    "\n",
    "Performance\n",
    "Overall performance measures, most interesting in relation to the measures split by group below"
   ]
  },
  {
   "cell_type": "code",
   "execution_count": 74,
   "id": "c4e067c6",
   "metadata": {
    "execution": {
     "iopub.execute_input": "2025-07-30T13:28:08.173609Z",
     "iopub.status.busy": "2025-07-30T13:28:08.173107Z",
     "iopub.status.idle": "2025-07-30T13:28:08.180382Z",
     "shell.execute_reply": "2025-07-30T13:28:08.179677Z"
    },
    "papermill": {
     "duration": 0.02351,
     "end_time": "2025-07-30T13:28:08.181729",
     "exception": false,
     "start_time": "2025-07-30T13:28:08.158219",
     "status": "completed"
    },
    "tags": []
   },
   "outputs": [
    {
     "data": {
      "text/plain": [
       "accuracy                   0.219897\n",
       "balanced accuracy          0.538617\n",
       "f1                         0.241352\n",
       "precision                  0.137876\n",
       "false positive rate        0.890092\n",
       "false negative rate        0.032673\n",
       "selection rate             0.900000\n",
       "count                  89710.000000\n",
       "dtype: float64"
      ]
     },
     "execution_count": 74,
     "metadata": {},
     "output_type": "execute_result"
    }
   ],
   "source": [
    "metric_frame.overall"
   ]
  },
  {
   "cell_type": "markdown",
   "id": "e968fe9d",
   "metadata": {
    "papermill": {
     "duration": 0.013651,
     "end_time": "2025-07-30T13:28:08.210389",
     "exception": false,
     "start_time": "2025-07-30T13:28:08.196738",
     "status": "completed"
    },
    "tags": []
   },
   "source": [
    "By Group"
   ]
  },
  {
   "cell_type": "code",
   "execution_count": 75,
   "id": "ec325bce",
   "metadata": {
    "execution": {
     "iopub.execute_input": "2025-07-30T13:28:08.240062Z",
     "iopub.status.busy": "2025-07-30T13:28:08.239526Z",
     "iopub.status.idle": "2025-07-30T13:28:08.251918Z",
     "shell.execute_reply": "2025-07-30T13:28:08.251166Z"
    },
    "papermill": {
     "duration": 0.02938,
     "end_time": "2025-07-30T13:28:08.253498",
     "exception": false,
     "start_time": "2025-07-30T13:28:08.224118",
     "status": "completed"
    },
    "tags": []
   },
   "outputs": [
    {
     "data": {
      "text/html": [
       "<div>\n",
       "<style scoped>\n",
       "    .dataframe tbody tr th:only-of-type {\n",
       "        vertical-align: middle;\n",
       "    }\n",
       "\n",
       "    .dataframe tbody tr th {\n",
       "        vertical-align: top;\n",
       "    }\n",
       "\n",
       "    .dataframe thead th {\n",
       "        text-align: right;\n",
       "    }\n",
       "</style>\n",
       "<table border=\"1\" class=\"dataframe\">\n",
       "  <thead>\n",
       "    <tr style=\"text-align: right;\">\n",
       "      <th></th>\n",
       "      <th>accuracy</th>\n",
       "      <th>balanced accuracy</th>\n",
       "      <th>f1</th>\n",
       "      <th>precision</th>\n",
       "      <th>false positive rate</th>\n",
       "      <th>false negative rate</th>\n",
       "      <th>selection rate</th>\n",
       "      <th>count</th>\n",
       "    </tr>\n",
       "    <tr>\n",
       "      <th>majmin</th>\n",
       "      <th></th>\n",
       "      <th></th>\n",
       "      <th></th>\n",
       "      <th></th>\n",
       "      <th></th>\n",
       "      <th></th>\n",
       "      <th></th>\n",
       "      <th></th>\n",
       "    </tr>\n",
       "  </thead>\n",
       "  <tbody>\n",
       "    <tr>\n",
       "      <th>majority</th>\n",
       "      <td>0.243487</td>\n",
       "      <td>0.548013</td>\n",
       "      <td>0.251516</td>\n",
       "      <td>0.144672</td>\n",
       "      <td>0.865900</td>\n",
       "      <td>0.038074</td>\n",
       "      <td>0.878589</td>\n",
       "      <td>69170.0</td>\n",
       "    </tr>\n",
       "    <tr>\n",
       "      <th>minority</th>\n",
       "      <td>0.140458</td>\n",
       "      <td>0.509083</td>\n",
       "      <td>0.209537</td>\n",
       "      <td>0.117193</td>\n",
       "      <td>0.970009</td>\n",
       "      <td>0.011824</td>\n",
       "      <td>0.972103</td>\n",
       "      <td>20540.0</td>\n",
       "    </tr>\n",
       "  </tbody>\n",
       "</table>\n",
       "</div>"
      ],
      "text/plain": [
       "          accuracy  balanced accuracy        f1  precision  \\\n",
       "majmin                                                       \n",
       "majority  0.243487           0.548013  0.251516   0.144672   \n",
       "minority  0.140458           0.509083  0.209537   0.117193   \n",
       "\n",
       "          false positive rate  false negative rate  selection rate    count  \n",
       "majmin                                                                       \n",
       "majority             0.865900             0.038074        0.878589  69170.0  \n",
       "minority             0.970009             0.011824        0.972103  20540.0  "
      ]
     },
     "execution_count": 75,
     "metadata": {},
     "output_type": "execute_result"
    }
   ],
   "source": [
    "metric_frame.by_group"
   ]
  },
  {
   "cell_type": "code",
   "execution_count": 76,
   "id": "a9ddbe63",
   "metadata": {
    "execution": {
     "iopub.execute_input": "2025-07-30T13:28:08.327134Z",
     "iopub.status.busy": "2025-07-30T13:28:08.326637Z",
     "iopub.status.idle": "2025-07-30T13:28:09.996138Z",
     "shell.execute_reply": "2025-07-30T13:28:09.995402Z"
    },
    "papermill": {
     "duration": 1.728471,
     "end_time": "2025-07-30T13:28:09.997489",
     "exception": false,
     "start_time": "2025-07-30T13:28:08.269018",
     "status": "completed"
    },
    "tags": []
   },
   "outputs": [
    {
     "data": {
      "text/plain": [
       "array([[<Axes: title={'center': 'accuracy'}, xlabel='majmin'>,\n",
       "        <Axes: title={'center': 'balanced accuracy'}, xlabel='majmin'>,\n",
       "        <Axes: title={'center': 'f1'}, xlabel='majmin'>],\n",
       "       [<Axes: title={'center': 'precision'}, xlabel='majmin'>,\n",
       "        <Axes: title={'center': 'false positive rate'}, xlabel='majmin'>,\n",
       "        <Axes: title={'center': 'false negative rate'}, xlabel='majmin'>],\n",
       "       [<Axes: title={'center': 'selection rate'}, xlabel='majmin'>,\n",
       "        <Axes: title={'center': 'count'}, xlabel='majmin'>,\n",
       "        <Axes: xlabel='majmin'>]], dtype=object)"
      ]
     },
     "execution_count": 76,
     "metadata": {},
     "output_type": "execute_result"
    },
    {
     "data": {
      "image/png": "[encoded data removed]",
      "text/plain": [
       "<Figure size 1200x800 with 9 Axes>"
      ]
     },
     "metadata": {},
     "output_type": "display_data"
    }
   ],
   "source": [
    "# In a graphic\n",
    "metric_frame.by_group.plot.bar(\n",
    "    subplots=True,\n",
    "    layout=[3, 3],\n",
    "    legend=False,\n",
    "    figsize=[12, 8],\n",
    "    title=\"Show all metrics\",\n",
    ")"
   ]
  },
  {
   "cell_type": "markdown",
   "id": "f57a0bac",
   "metadata": {
    "papermill": {
     "duration": 0.031211,
     "end_time": "2025-07-30T13:28:10.053459",
     "exception": false,
     "start_time": "2025-07-30T13:28:10.022248",
     "status": "completed"
    },
    "tags": []
   },
   "source": [
    "# Final Output"
   ]
  },
  {
   "cell_type": "code",
   "execution_count": 77,
   "id": "96d280a3",
   "metadata": {
    "execution": {
     "iopub.execute_input": "2025-07-30T13:28:10.119163Z",
     "iopub.status.busy": "2025-07-30T13:28:10.118580Z",
     "iopub.status.idle": "2025-07-30T13:28:10.126213Z",
     "shell.execute_reply": "2025-07-30T13:28:10.125498Z"
    },
    "papermill": {
     "duration": 0.042337,
     "end_time": "2025-07-30T13:28:10.127514",
     "exception": false,
     "start_time": "2025-07-30T13:28:10.085177",
     "status": "completed"
    },
    "tags": []
   },
   "outputs": [
    {
     "data": {
      "text/plain": [
       "4"
      ]
     },
     "execution_count": 77,
     "metadata": {},
     "output_type": "execute_result"
    }
   ],
   "source": [
    "sub_universes = universe_analysis.generate_sub_universes()\n",
    "len(sub_universes)"
   ]
  },
  {
   "cell_type": "code",
   "execution_count": 78,
   "id": "92adf7ba",
   "metadata": {
    "execution": {
     "iopub.execute_input": "2025-07-30T13:28:10.160667Z",
     "iopub.status.busy": "2025-07-30T13:28:10.159998Z",
     "iopub.status.idle": "2025-07-30T13:28:10.164988Z",
     "shell.execute_reply": "2025-07-30T13:28:10.164198Z"
    },
    "papermill": {
     "duration": 0.022654,
     "end_time": "2025-07-30T13:28:10.166390",
     "exception": false,
     "start_time": "2025-07-30T13:28:10.143736",
     "status": "completed"
    },
    "tags": []
   },
   "outputs": [],
   "source": [
    "def filter_sub_universe_data(sub_universe, org_test):\n",
    "    # Keep all rows — no filtering\n",
    "    keep_rows_mask = np.ones(org_test.shape[0], dtype=bool)\n",
    "\n",
    "    print(f\"[INFO] Keeping all rows: {keep_rows_mask.sum()} rows retained.\")\n",
    "    return keep_rows_mask"
   ]
  },
  {
   "cell_type": "code",
   "execution_count": 79,
   "id": "4a759155",
   "metadata": {
    "execution": {
     "iopub.execute_input": "2025-07-30T13:28:10.199232Z",
     "iopub.status.busy": "2025-07-30T13:28:10.198919Z",
     "iopub.status.idle": "2025-07-30T13:28:19.800361Z",
     "shell.execute_reply": "2025-07-30T13:28:19.799610Z"
    },
    "papermill": {
     "duration": 9.618765,
     "end_time": "2025-07-30T13:28:19.801573",
     "exception": false,
     "start_time": "2025-07-30T13:28:10.182808",
     "status": "completed"
    },
    "tags": []
   },
   "outputs": [
    {
     "name": "stdout",
     "output_type": "stream",
     "text": [
      "Stopping execution_time clock.\n",
      "[INFO] Keeping all rows: 89710 rows retained.\n"
     ]
    },
    {
     "name": "stdout",
     "output_type": "stream",
     "text": [
      "[INFO] Keeping all rows: 89710 rows retained.\n"
     ]
    },
    {
     "name": "stdout",
     "output_type": "stream",
     "text": [
      "[INFO] Keeping all rows: 89710 rows retained.\n"
     ]
    },
    {
     "name": "stdout",
     "output_type": "stream",
     "text": [
      "[INFO] Keeping all rows: 89710 rows retained.\n"
     ]
    },
    {
     "data": {
      "text/html": [
       "<div>\n",
       "<style scoped>\n",
       "    .dataframe tbody tr th:only-of-type {\n",
       "        vertical-align: middle;\n",
       "    }\n",
       "\n",
       "    .dataframe tbody tr th {\n",
       "        vertical-align: top;\n",
       "    }\n",
       "\n",
       "    .dataframe thead th {\n",
       "        text-align: right;\n",
       "    }\n",
       "</style>\n",
       "<table border=\"1\" class=\"dataframe\">\n",
       "  <thead>\n",
       "    <tr style=\"text-align: right;\">\n",
       "      <th></th>\n",
       "      <th>run_no</th>\n",
       "      <th>universe_id</th>\n",
       "      <th>universe_settings</th>\n",
       "      <th>execution_time</th>\n",
       "      <th>test_size_n</th>\n",
       "      <th>test_size_frac</th>\n",
       "      <th>fair_main_equalized_odds_difference</th>\n",
       "      <th>fair_main_equalized_odds_ratio</th>\n",
       "      <th>fair_main_demographic_parity_difference</th>\n",
       "      <th>fair_main_demographic_parity_ratio</th>\n",
       "      <th>...</th>\n",
       "      <th>perf_grp_precision_0</th>\n",
       "      <th>perf_grp_precision_1</th>\n",
       "      <th>perf_grp_false positive rate_0</th>\n",
       "      <th>perf_grp_false positive rate_1</th>\n",
       "      <th>perf_grp_false negative rate_0</th>\n",
       "      <th>perf_grp_false negative rate_1</th>\n",
       "      <th>perf_grp_selection rate_0</th>\n",
       "      <th>perf_grp_selection rate_1</th>\n",
       "      <th>perf_grp_count_0</th>\n",
       "      <th>perf_grp_count_1</th>\n",
       "    </tr>\n",
       "  </thead>\n",
       "  <tbody>\n",
       "    <tr>\n",
       "      <th>0</th>\n",
       "      <td>12</td>\n",
       "      <td>ac80359935a7a6fe9c20a5f668a8513d</td>\n",
       "      <td>{\"cutoff\": \"quantile_0.1\", \"eval_fairness_grou...</td>\n",
       "      <td>468.969599</td>\n",
       "      <td>89710</td>\n",
       "      <td>1.0</td>\n",
       "      <td>0.104108</td>\n",
       "      <td>0.892673</td>\n",
       "      <td>0.093514</td>\n",
       "      <td>0.903802</td>\n",
       "      <td>...</td>\n",
       "      <td>NaN</td>\n",
       "      <td>NaN</td>\n",
       "      <td>NaN</td>\n",
       "      <td>NaN</td>\n",
       "      <td>NaN</td>\n",
       "      <td>NaN</td>\n",
       "      <td>NaN</td>\n",
       "      <td>NaN</td>\n",
       "      <td>NaN</td>\n",
       "      <td>NaN</td>\n",
       "    </tr>\n",
       "    <tr>\n",
       "      <th>0</th>\n",
       "      <td>12</td>\n",
       "      <td>ac80359935a7a6fe9c20a5f668a8513d</td>\n",
       "      <td>{\"cutoff\": \"quantile_0.1\", \"eval_fairness_grou...</td>\n",
       "      <td>468.969599</td>\n",
       "      <td>89710</td>\n",
       "      <td>1.0</td>\n",
       "      <td>0.104108</td>\n",
       "      <td>0.892673</td>\n",
       "      <td>0.093514</td>\n",
       "      <td>0.903802</td>\n",
       "      <td>...</td>\n",
       "      <td>0.117193</td>\n",
       "      <td>0.144672</td>\n",
       "      <td>0.970009</td>\n",
       "      <td>0.865900</td>\n",
       "      <td>0.011824</td>\n",
       "      <td>0.038074</td>\n",
       "      <td>0.972103</td>\n",
       "      <td>0.878589</td>\n",
       "      <td>20540.0</td>\n",
       "      <td>69170.0</td>\n",
       "    </tr>\n",
       "    <tr>\n",
       "      <th>0</th>\n",
       "      <td>12</td>\n",
       "      <td>ac80359935a7a6fe9c20a5f668a8513d</td>\n",
       "      <td>{\"cutoff\": \"quantile_0.25\", \"eval_fairness_gro...</td>\n",
       "      <td>468.969599</td>\n",
       "      <td>89710</td>\n",
       "      <td>1.0</td>\n",
       "      <td>0.245588</td>\n",
       "      <td>0.732252</td>\n",
       "      <td>0.223027</td>\n",
       "      <td>0.758094</td>\n",
       "      <td>...</td>\n",
       "      <td>NaN</td>\n",
       "      <td>NaN</td>\n",
       "      <td>NaN</td>\n",
       "      <td>NaN</td>\n",
       "      <td>NaN</td>\n",
       "      <td>NaN</td>\n",
       "      <td>NaN</td>\n",
       "      <td>NaN</td>\n",
       "      <td>NaN</td>\n",
       "      <td>NaN</td>\n",
       "    </tr>\n",
       "    <tr>\n",
       "      <th>0</th>\n",
       "      <td>12</td>\n",
       "      <td>ac80359935a7a6fe9c20a5f668a8513d</td>\n",
       "      <td>{\"cutoff\": \"quantile_0.25\", \"eval_fairness_gro...</td>\n",
       "      <td>468.969599</td>\n",
       "      <td>89710</td>\n",
       "      <td>1.0</td>\n",
       "      <td>0.245588</td>\n",
       "      <td>0.732252</td>\n",
       "      <td>0.223027</td>\n",
       "      <td>0.758094</td>\n",
       "      <td>...</td>\n",
       "      <td>0.119818</td>\n",
       "      <td>0.166015</td>\n",
       "      <td>0.917235</td>\n",
       "      <td>0.671648</td>\n",
       "      <td>0.041807</td>\n",
       "      <td>0.121882</td>\n",
       "      <td>0.921957</td>\n",
       "      <td>0.698930</td>\n",
       "      <td>20540.0</td>\n",
       "      <td>69170.0</td>\n",
       "    </tr>\n",
       "  </tbody>\n",
       "</table>\n",
       "<p>4 rows × 50 columns</p>\n",
       "</div>"
      ],
      "text/plain": [
       "  run_no                       universe_id  \\\n",
       "0     12  ac80359935a7a6fe9c20a5f668a8513d   \n",
       "0     12  ac80359935a7a6fe9c20a5f668a8513d   \n",
       "0     12  ac80359935a7a6fe9c20a5f668a8513d   \n",
       "0     12  ac80359935a7a6fe9c20a5f668a8513d   \n",
       "\n",
       "                                   universe_settings  execution_time  \\\n",
       "0  {\"cutoff\": \"quantile_0.1\", \"eval_fairness_grou...      468.969599   \n",
       "0  {\"cutoff\": \"quantile_0.1\", \"eval_fairness_grou...      468.969599   \n",
       "0  {\"cutoff\": \"quantile_0.25\", \"eval_fairness_gro...      468.969599   \n",
       "0  {\"cutoff\": \"quantile_0.25\", \"eval_fairness_gro...      468.969599   \n",
       "\n",
       "   test_size_n  test_size_frac  fair_main_equalized_odds_difference  \\\n",
       "0        89710             1.0                             0.104108   \n",
       "0        89710             1.0                             0.104108   \n",
       "0        89710             1.0                             0.245588   \n",
       "0        89710             1.0                             0.245588   \n",
       "\n",
       "   fair_main_equalized_odds_ratio  fair_main_demographic_parity_difference  \\\n",
       "0                        0.892673                                 0.093514   \n",
       "0                        0.892673                                 0.093514   \n",
       "0                        0.732252                                 0.223027   \n",
       "0                        0.732252                                 0.223027   \n",
       "\n",
       "   fair_main_demographic_parity_ratio  ...  perf_grp_precision_0  \\\n",
       "0                            0.903802  ...                   NaN   \n",
       "0                            0.903802  ...              0.117193   \n",
       "0                            0.758094  ...                   NaN   \n",
       "0                            0.758094  ...              0.119818   \n",
       "\n",
       "   perf_grp_precision_1  perf_grp_false positive rate_0  \\\n",
       "0                   NaN                             NaN   \n",
       "0              0.144672                        0.970009   \n",
       "0                   NaN                             NaN   \n",
       "0              0.166015                        0.917235   \n",
       "\n",
       "   perf_grp_false positive rate_1  perf_grp_false negative rate_0  \\\n",
       "0                             NaN                             NaN   \n",
       "0                        0.865900                        0.011824   \n",
       "0                             NaN                             NaN   \n",
       "0                        0.671648                        0.041807   \n",
       "\n",
       "   perf_grp_false negative rate_1  perf_grp_selection rate_0  \\\n",
       "0                             NaN                        NaN   \n",
       "0                        0.038074                   0.972103   \n",
       "0                             NaN                        NaN   \n",
       "0                        0.121882                   0.921957   \n",
       "\n",
       "   perf_grp_selection rate_1  perf_grp_count_0  perf_grp_count_1  \n",
       "0                        NaN               NaN               NaN  \n",
       "0                   0.878589           20540.0           69170.0  \n",
       "0                        NaN               NaN               NaN  \n",
       "0                   0.698930           20540.0           69170.0  \n",
       "\n",
       "[4 rows x 50 columns]"
      ]
     },
     "execution_count": 79,
     "metadata": {},
     "output_type": "execute_result"
    }
   ],
   "source": [
    "final_output = universe_analysis.generate_final_output(\n",
    "    y_pred_prob=probs_test,\n",
    "    y_test=y_true,\n",
    "    org_test=org_test,\n",
    "    filter_data=filter_sub_universe_data,\n",
    "    cp_metrics_df=cp_metrics_df,\n",
    "    save=True,\n",
    ")\n",
    "final_output"
   ]
  },
  {
   "cell_type": "code",
   "execution_count": null,
   "id": "721ff514-cb11-46f8-b6fc-50392f74b5cb",
   "metadata": {
    "papermill": {
     "duration": 0.016749,
     "end_time": "2025-07-30T13:28:19.838030",
     "exception": false,
     "start_time": "2025-07-30T13:28:19.821281",
     "status": "completed"
    },
    "tags": []
   },
   "outputs": [],
   "source": []
  }
 ],
 "metadata": {
  "celltoolbar": "Tags",
  "kernelspec": {
   "display_name": "Python (CMA Fairness)",
   "language": "python",
   "name": "cma_fair_env"
  },
  "language_info": {
   "codemirror_mode": {
    "name": "ipython",
    "version": 3
   },
   "file_extension": ".py",
   "mimetype": "text/x-python",
   "name": "python",
   "nbconvert_exporter": "python",
   "pygments_lexer": "ipython3",
   "version": "3.10.12"
  },
  "papermill": {
   "default_parameters": {},
   "duration": 482.548706,
   "end_time": "2025-07-30T13:28:20.471612",
   "environment_variables": {},
   "exception": null,
   "input_path": "universe_analysis.ipynb",
   "output_path": "output/runs/12/notebooks/m_12-ac80359935a7a6fe9c20a5f668a8513d.ipynb",
   "parameters": {
    "output_dir": "output",
    "run_no": "12",
    "seed": "2023",
    "universe": "{\"cutoff\": [\"quantile_0.1\", \"quantile_0.25\"], \"eval_fairness_grouping\": [\"majority-minority\", \"nationality-all\"], \"exclude_features\": \"age\", \"exclude_subgroups\": \"drop-non-german\", \"model\": \"elasticnet\", \"scale\": \"do-not-scale\", \"training_size\": \"25k\", \"training_year\": \"2012_14\"}",
    "universe_id": "ac80359935a7a6fe9c20a5f668a8513d"
   },
   "start_time": "2025-07-30T13:20:17.922906",
   "version": "2.6.0"
  }
 },
 "nbformat": 4,
 "nbformat_minor": 5
}