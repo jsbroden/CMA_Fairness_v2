{
 "cells": [
  {
   "cell_type": "code",
   "execution_count": 1,
   "id": "f159f837-637b-42ba-96b5-ec9a68c44524",
   "metadata": {
    "execution": {
     "iopub.execute_input": "2025-07-30T13:49:47.070047Z",
     "iopub.status.busy": "2025-07-30T13:49:47.069312Z",
     "iopub.status.idle": "2025-07-30T13:49:47.086188Z",
     "shell.execute_reply": "2025-07-30T13:49:47.085067Z"
    },
    "papermill": {
     "duration": 0.041292,
     "end_time": "2025-07-30T13:49:47.088345",
     "exception": false,
     "start_time": "2025-07-30T13:49:47.047053",
     "status": "completed"
    },
    "tags": []
   },
   "outputs": [
    {
     "name": "stdout",
     "output_type": "stream",
     "text": [
      "/dss/dsshome1/0C/ra93lal2/cma/CMA_Fairness_v2\n"
     ]
    },
    {
     "name": "stderr",
     "output_type": "stream",
     "text": [
      "/dss/dsshome1/0C/ra93lal2/.local/share/virtualenvs/CMA_Fairness_v2-3j10GkSs/lib/python3.10/site-packages/IPython/core/magics/osm.py:393: UserWarning: This is now an optional IPython functionality, using bookmarks requires you to install the `pickleshare` library.\n",
      "  bkms = self.shell.db.get('bookmarks', {})\n",
      "/dss/dsshome1/0C/ra93lal2/.local/share/virtualenvs/CMA_Fairness_v2-3j10GkSs/lib/python3.10/site-packages/IPython/core/magics/osm.py:417: UserWarning: This is now an optional IPython functionality, setting dhist requires you to install the `pickleshare` library.\n",
      "  self.shell.db['dhist'] = compress_dhist(dhist)[-100:]\n"
     ]
    }
   ],
   "source": [
    "%cd ~/cma/CMA_Fairness_v2"
   ]
  },
  {
   "cell_type": "markdown",
   "id": "de2603b9",
   "metadata": {
    "papermill": {
     "duration": 0.018081,
     "end_time": "2025-07-30T13:49:47.128414",
     "exception": false,
     "start_time": "2025-07-30T13:49:47.110333",
     "status": "completed"
    },
    "tags": []
   },
   "source": [
    "The following cell holds the definition of our parameters, these values can be overriden by rendering the with e.g. the following command:\n",
    "\n",
    "papermill -p alpha 0.2 -p ratio 0.3 universe_analysis.ipynb output/test_run.ipynb"
   ]
  },
  {
   "cell_type": "code",
   "execution_count": 2,
   "id": "a80968a0-40bb-4fa9-85ef-2d5eefb01975",
   "metadata": {
    "execution": {
     "iopub.execute_input": "2025-07-30T13:49:47.171325Z",
     "iopub.status.busy": "2025-07-30T13:49:47.170913Z",
     "iopub.status.idle": "2025-07-30T13:49:47.177807Z",
     "shell.execute_reply": "2025-07-30T13:49:47.176397Z"
    },
    "papermill": {
     "duration": 0.035073,
     "end_time": "2025-07-30T13:49:47.183923",
     "exception": false,
     "start_time": "2025-07-30T13:49:47.148850",
     "status": "completed"
    },
    "tags": []
   },
   "outputs": [
    {
     "name": "stdout",
     "output_type": "stream",
     "text": [
      "Current working directory: /dss/dsshome1/0C/ra93lal2/cma/CMA_Fairness_v2\n"
     ]
    }
   ],
   "source": [
    "import os\n",
    "print(\"Current working directory:\", os.getcwd())"
   ]
  },
  {
   "cell_type": "code",
   "execution_count": 3,
   "id": "2dce4c03",
   "metadata": {
    "execution": {
     "iopub.execute_input": "2025-07-30T13:49:47.245281Z",
     "iopub.status.busy": "2025-07-30T13:49:47.244718Z",
     "iopub.status.idle": "2025-07-30T13:49:47.253716Z",
     "shell.execute_reply": "2025-07-30T13:49:47.252320Z"
    },
    "papermill": {
     "duration": 0.045353,
     "end_time": "2025-07-30T13:49:47.258876",
     "exception": false,
     "start_time": "2025-07-30T13:49:47.213523",
     "status": "completed"
    },
    "tags": [
     "parameters"
    ]
   },
   "outputs": [],
   "source": [
    "run_no = 0\n",
    "universe_id = \"test\"\n",
    "universe = {\n",
    "    \"training_size\": \"25k\", # \"25k\", \"5k\", \"1k\"\n",
    "    \"training_year\": \"2014\", # \"2014\", \"2012_14\", \"2010_14\"\n",
    "    \"scale\": \"scale\", # \"scale\", \"do-not-scale\",\n",
    "    #\"stratify_split\": \"target\", # \"none\", \"target\", \"protected-attribute\", \"both\",\n",
    "    \"model\": \"elasticnet\", # \"logreg\", \"penalized_logreg\", \"rf\", \"gbm\", \"elasticnet\"\n",
    "    \"cutoff\": [\"quantile_0.15\", \"quantile_0.30\"],\n",
    "    \"exclude_features\": \"age\", # \"none\", \"nationality\", \"sex\", \"nationality-sex\", \"age\"\n",
    "    \"exclude_subgroups\": \"keep-all\", # \"keep-all\", \"drop-non-german\"\n",
    "    \"eval_fairness_grouping\": [\"majority-minority\", \"nationality-all\"]\n",
    "}\n",
    "\n",
    "output_dir=\"./output\"\n",
    "seed=0"
   ]
  },
  {
   "cell_type": "code",
   "execution_count": 4,
   "id": "3ba144e3",
   "metadata": {
    "execution": {
     "iopub.execute_input": "2025-07-30T13:49:47.305989Z",
     "iopub.status.busy": "2025-07-30T13:49:47.305579Z",
     "iopub.status.idle": "2025-07-30T13:49:47.311257Z",
     "shell.execute_reply": "2025-07-30T13:49:47.310212Z"
    },
    "papermill": {
     "duration": 0.030885,
     "end_time": "2025-07-30T13:49:47.313836",
     "exception": false,
     "start_time": "2025-07-30T13:49:47.282951",
     "status": "completed"
    },
    "tags": [
     "injected-parameters"
    ]
   },
   "outputs": [],
   "source": [
    "# Parameters\n",
    "universe_id = \"9286b7b192415fda9384e2894511f027\"\n",
    "run_no = \"12\"\n",
    "universe = \"{\\\"cutoff\\\": [\\\"quantile_0.1\\\", \\\"quantile_0.25\\\"], \\\"eval_fairness_grouping\\\": [\\\"majority-minority\\\", \\\"nationality-all\\\"], \\\"exclude_features\\\": \\\"age\\\", \\\"exclude_subgroups\\\": \\\"drop-non-german\\\", \\\"model\\\": \\\"rf\\\", \\\"scale\\\": \\\"do-not-scale\\\", \\\"training_size\\\": \\\"5k\\\", \\\"training_year\\\": \\\"2014\\\"}\"\n",
    "output_dir = \"output\"\n",
    "seed = \"2023\"\n"
   ]
  },
  {
   "cell_type": "code",
   "execution_count": 5,
   "id": "1650acaf",
   "metadata": {
    "execution": {
     "iopub.execute_input": "2025-07-30T13:49:47.413990Z",
     "iopub.status.busy": "2025-07-30T13:49:47.413611Z",
     "iopub.status.idle": "2025-07-30T13:49:47.418897Z",
     "shell.execute_reply": "2025-07-30T13:49:47.417896Z"
    },
    "papermill": {
     "duration": 0.054256,
     "end_time": "2025-07-30T13:49:47.434417",
     "exception": false,
     "start_time": "2025-07-30T13:49:47.380161",
     "status": "completed"
    },
    "tags": []
   },
   "outputs": [],
   "source": [
    "import json\n",
    "# Parse universe into dict if it is passed as a string\n",
    "if isinstance(universe, str):\n",
    "    universe = json.loads(universe)"
   ]
  },
  {
   "cell_type": "code",
   "execution_count": 6,
   "id": "16620c48",
   "metadata": {
    "execution": {
     "iopub.execute_input": "2025-07-30T13:49:47.504024Z",
     "iopub.status.busy": "2025-07-30T13:49:47.503655Z",
     "iopub.status.idle": "2025-07-30T13:49:47.549747Z",
     "shell.execute_reply": "2025-07-30T13:49:47.548875Z"
    },
    "papermill": {
     "duration": 0.082963,
     "end_time": "2025-07-30T13:49:47.551691",
     "exception": false,
     "start_time": "2025-07-30T13:49:47.468728",
     "status": "completed"
    },
    "tags": []
   },
   "outputs": [],
   "source": [
    "# Auto-reload the custom package\n",
    "%load_ext autoreload\n",
    "%autoreload 1\n",
    "%aimport fairness_multiverse"
   ]
  },
  {
   "cell_type": "code",
   "execution_count": 7,
   "id": "01c5c9f3",
   "metadata": {
    "execution": {
     "iopub.execute_input": "2025-07-30T13:49:47.620331Z",
     "iopub.status.busy": "2025-07-30T13:49:47.619919Z",
     "iopub.status.idle": "2025-07-30T13:49:50.155110Z",
     "shell.execute_reply": "2025-07-30T13:49:50.154046Z"
    },
    "papermill": {
     "duration": 2.583445,
     "end_time": "2025-07-30T13:49:50.156893",
     "exception": false,
     "start_time": "2025-07-30T13:49:47.573448",
     "status": "completed"
    },
    "tags": []
   },
   "outputs": [],
   "source": [
    "from fairness_multiverse.universe import UniverseAnalysis\n",
    "\n",
    "universe_analysis = UniverseAnalysis(\n",
    "    run_no = run_no,\n",
    "    universe_id = universe_id,\n",
    "    universe = universe,\n",
    "    output_dir=output_dir,\n",
    ")"
   ]
  },
  {
   "cell_type": "code",
   "execution_count": 8,
   "id": "106241f5",
   "metadata": {
    "execution": {
     "iopub.execute_input": "2025-07-30T13:49:50.201773Z",
     "iopub.status.busy": "2025-07-30T13:49:50.201374Z",
     "iopub.status.idle": "2025-07-30T13:49:50.208359Z",
     "shell.execute_reply": "2025-07-30T13:49:50.207580Z"
    },
    "papermill": {
     "duration": 0.0295,
     "end_time": "2025-07-30T13:49:50.209516",
     "exception": false,
     "start_time": "2025-07-30T13:49:50.180016",
     "status": "completed"
    },
    "tags": []
   },
   "outputs": [
    {
     "name": "stdout",
     "output_type": "stream",
     "text": [
      "Using Seed: 2023\n"
     ]
    }
   ],
   "source": [
    "import numpy as np\n",
    "parsed_seed = int(seed)\n",
    "np.random.seed(parsed_seed)\n",
    "print(f\"Using Seed: {parsed_seed}\")"
   ]
  },
  {
   "cell_type": "markdown",
   "id": "e0ebdc57",
   "metadata": {
    "papermill": {
     "duration": 0.044014,
     "end_time": "2025-07-30T13:49:50.270971",
     "exception": false,
     "start_time": "2025-07-30T13:49:50.226957",
     "status": "completed"
    },
    "tags": []
   },
   "source": [
    "# Loading Data"
   ]
  },
  {
   "cell_type": "markdown",
   "id": "681925a3",
   "metadata": {
    "papermill": {
     "duration": 0.020768,
     "end_time": "2025-07-30T13:49:50.310965",
     "exception": false,
     "start_time": "2025-07-30T13:49:50.290197",
     "status": "completed"
    },
    "tags": []
   },
   "source": [
    "Load siab_train, siab_test, siab_calib and/or \n",
    "load siab_train_features, siab_train_labels"
   ]
  },
  {
   "cell_type": "code",
   "execution_count": 9,
   "id": "f0496b8a",
   "metadata": {
    "execution": {
     "iopub.execute_input": "2025-07-30T13:49:50.360183Z",
     "iopub.status.busy": "2025-07-30T13:49:50.359524Z",
     "iopub.status.idle": "2025-07-30T13:50:02.398621Z",
     "shell.execute_reply": "2025-07-30T13:50:02.397504Z"
    },
    "papermill": {
     "duration": 12.065917,
     "end_time": "2025-07-30T13:50:02.400440",
     "exception": false,
     "start_time": "2025-07-30T13:49:50.334523",
     "status": "completed"
    },
    "tags": []
   },
   "outputs": [
    {
     "name": "stdout",
     "output_type": "stream",
     "text": [
      "Loading SIAB data from cache: data/siab_cached.csv.gz\n"
     ]
    },
    {
     "name": "stdout",
     "output_type": "stream",
     "text": [
      "(643690, 164)\n"
     ]
    }
   ],
   "source": [
    "from pathlib import Path\n",
    "import pandas as pd\n",
    "\n",
    "# File paths\n",
    "raw_file = Path(\"data/raw/siab.csv\")\n",
    "cache_file = Path(\"data/siab_cached.csv.gz\")\n",
    "\n",
    "# Ensure cache directory exists\n",
    "cache_file.parent.mkdir(parents=True, exist_ok=True)\n",
    "\n",
    "# Load with simple caching\n",
    "if cache_file.exists():\n",
    "    print(f\"Loading SIAB data from cache: {cache_file}\")\n",
    "    siab = pd.read_csv(cache_file, compression='gzip')\n",
    "else:\n",
    "    print(f\"Cache not found. Reading raw SIAB data: {raw_file}\")\n",
    "    siab = pd.read_csv(raw_file)\n",
    "    siab.to_csv(cache_file, index=False, compression='gzip')\n",
    "    print(f\"Cached SIAB data to: {cache_file}\")\n",
    "\n",
    "# Now use `siab` DataFrame as needed\n",
    "print(siab.shape)"
   ]
  },
  {
   "cell_type": "code",
   "execution_count": 10,
   "id": "db0ca512-5f53-4dba-abdb-a2888bca41ba",
   "metadata": {
    "execution": {
     "iopub.execute_input": "2025-07-30T13:50:02.460919Z",
     "iopub.status.busy": "2025-07-30T13:50:02.460490Z",
     "iopub.status.idle": "2025-07-30T13:50:02.466453Z",
     "shell.execute_reply": "2025-07-30T13:50:02.465532Z"
    },
    "papermill": {
     "duration": 0.041943,
     "end_time": "2025-07-30T13:50:02.468596",
     "exception": false,
     "start_time": "2025-07-30T13:50:02.426653",
     "status": "completed"
    },
    "tags": []
   },
   "outputs": [],
   "source": [
    "#siab"
   ]
  },
  {
   "cell_type": "code",
   "execution_count": 11,
   "id": "a0edb063",
   "metadata": {
    "execution": {
     "iopub.execute_input": "2025-07-30T13:50:02.532865Z",
     "iopub.status.busy": "2025-07-30T13:50:02.532447Z",
     "iopub.status.idle": "2025-07-30T13:50:02.537452Z",
     "shell.execute_reply": "2025-07-30T13:50:02.536627Z"
    },
    "papermill": {
     "duration": 0.051084,
     "end_time": "2025-07-30T13:50:02.540446",
     "exception": false,
     "start_time": "2025-07-30T13:50:02.489362",
     "status": "completed"
    },
    "tags": []
   },
   "outputs": [],
   "source": [
    "#import pandas as pd\n",
    "#\n",
    "#X_train = pd.read_csv(\"./data/X_train.csv\")\n",
    "#y_train = pd.read_csv(\"./data/y_train.csv\")"
   ]
  },
  {
   "cell_type": "code",
   "execution_count": 12,
   "id": "63d08085",
   "metadata": {
    "execution": {
     "iopub.execute_input": "2025-07-30T13:50:02.583632Z",
     "iopub.status.busy": "2025-07-30T13:50:02.583235Z",
     "iopub.status.idle": "2025-07-30T13:50:02.588799Z",
     "shell.execute_reply": "2025-07-30T13:50:02.587620Z"
    },
    "papermill": {
     "duration": 0.025889,
     "end_time": "2025-07-30T13:50:02.590558",
     "exception": false,
     "start_time": "2025-07-30T13:50:02.564669",
     "status": "completed"
    },
    "tags": []
   },
   "outputs": [],
   "source": [
    "#X_test = pd.read_csv(\"./data/X_test.csv\")\n",
    "#y_true = pd.read_csv(\"./data/y_test.csv\")"
   ]
  },
  {
   "cell_type": "code",
   "execution_count": 13,
   "id": "98a8d0fa-1d3d-4ed8-bb2c-281470e24add",
   "metadata": {
    "execution": {
     "iopub.execute_input": "2025-07-30T13:50:02.622730Z",
     "iopub.status.busy": "2025-07-30T13:50:02.622232Z",
     "iopub.status.idle": "2025-07-30T13:50:02.627871Z",
     "shell.execute_reply": "2025-07-30T13:50:02.626671Z"
    },
    "papermill": {
     "duration": 0.024514,
     "end_time": "2025-07-30T13:50:02.629740",
     "exception": false,
     "start_time": "2025-07-30T13:50:02.605226",
     "status": "completed"
    },
    "tags": []
   },
   "outputs": [],
   "source": [
    "# Calibration data for conformal\n",
    "#X_calib = pd.read_csv(\"./data/X_calib.csv\")\n",
    "#y_calib = pd.read_csv(\"./data/y_calib.csv\")"
   ]
  },
  {
   "cell_type": "markdown",
   "id": "997051c5-15bd-4b69-9786-c3001a3ce484",
   "metadata": {
    "papermill": {
     "duration": 0.022338,
     "end_time": "2025-07-30T13:50:02.675648",
     "exception": false,
     "start_time": "2025-07-30T13:50:02.653310",
     "status": "completed"
    },
    "tags": []
   },
   "source": [
    "# Splitting Data and Setting Training Data Size"
   ]
  },
  {
   "cell_type": "code",
   "execution_count": 14,
   "id": "e993b61f-042d-41a6-8c81-f55681f86335",
   "metadata": {
    "execution": {
     "iopub.execute_input": "2025-07-30T13:50:02.703440Z",
     "iopub.status.busy": "2025-07-30T13:50:02.703076Z",
     "iopub.status.idle": "2025-07-30T13:50:02.712959Z",
     "shell.execute_reply": "2025-07-30T13:50:02.712098Z"
    },
    "papermill": {
     "duration": 0.023839,
     "end_time": "2025-07-30T13:50:02.714395",
     "exception": false,
     "start_time": "2025-07-30T13:50:02.690556",
     "status": "completed"
    },
    "tags": []
   },
   "outputs": [],
   "source": [
    "def sample_by_year_size(df,\n",
    "                        training_year: str,\n",
    "                        training_size: str,\n",
    "                        random_state: int = 42):\n",
    "    # --- parse training_year into a list of int years ---\n",
    "    if \"_\" in training_year:\n",
    "        start_str, end_str = training_year.split(\"_\", 1)\n",
    "        start = int(start_str)\n",
    "        end   = int(end_str) if len(end_str) == 4 else (int(end_str) + (start // 100)*100)\n",
    "        years = list(range(start, end + 1))\n",
    "    else:\n",
    "        years = [int(training_year)]\n",
    "\n",
    "    df = df[df[\"year\"].isin(years)].reset_index(drop=True)\n",
    "\n",
    "    # --- map training_size to total number of samples ---\n",
    "    total_map = {\"25k\": 25_000, \"5k\": 5_000, \"1k\": 1_000}\n",
    "    if training_size not in total_map:\n",
    "        return df  # e.g. \"all\"\n",
    "\n",
    "    total_samples = total_map[training_size]\n",
    "    n_years       = len(years)\n",
    "    base          = total_samples // n_years\n",
    "    remainder     = total_samples % n_years\n",
    "\n",
    "    # --- build a dict: year -> how many to sample ---\n",
    "    # give +1 to the first `remainder` years in ascending order\n",
    "    quotas = {\n",
    "        year: base + (1 if idx < remainder else 0)\n",
    "        for idx, year in enumerate(sorted(years))\n",
    "    }\n",
    "\n",
    "    # --- sample per‐year according to the quota dict ---\n",
    "    sampled = (\n",
    "        df\n",
    "        .groupby(\"year\", group_keys=False)\n",
    "        .apply(lambda grp: grp.sample(\n",
    "            n=min(len(grp), quotas[grp.name]),\n",
    "            random_state=random_state))\n",
    "        .reset_index(drop=True)\n",
    "    )\n",
    "\n",
    "    return sampled"
   ]
  },
  {
   "cell_type": "code",
   "execution_count": 15,
   "id": "c0ccd338-0e02-41f3-a09d-f56f9266e3fb",
   "metadata": {
    "execution": {
     "iopub.execute_input": "2025-07-30T13:50:02.739768Z",
     "iopub.status.busy": "2025-07-30T13:50:02.739258Z",
     "iopub.status.idle": "2025-07-30T13:50:02.748414Z",
     "shell.execute_reply": "2025-07-30T13:50:02.747585Z"
    },
    "papermill": {
     "duration": 0.023145,
     "end_time": "2025-07-30T13:50:02.749905",
     "exception": false,
     "start_time": "2025-07-30T13:50:02.726760",
     "status": "completed"
    },
    "tags": []
   },
   "outputs": [
    {
     "data": {
      "text/plain": [
       "'5k'"
      ]
     },
     "execution_count": 15,
     "metadata": {},
     "output_type": "execute_result"
    }
   ],
   "source": [
    "universe[\"training_size\"]"
   ]
  },
  {
   "cell_type": "code",
   "execution_count": 16,
   "id": "ca707fd7-8047-4acd-bfa5-66248fbbf8e6",
   "metadata": {
    "execution": {
     "iopub.execute_input": "2025-07-30T13:50:02.778783Z",
     "iopub.status.busy": "2025-07-30T13:50:02.778381Z",
     "iopub.status.idle": "2025-07-30T13:50:02.785632Z",
     "shell.execute_reply": "2025-07-30T13:50:02.784584Z"
    },
    "papermill": {
     "duration": 0.02771,
     "end_time": "2025-07-30T13:50:02.790030",
     "exception": false,
     "start_time": "2025-07-30T13:50:02.762320",
     "status": "completed"
    },
    "tags": []
   },
   "outputs": [
    {
     "data": {
      "text/plain": [
       "'2014'"
      ]
     },
     "execution_count": 16,
     "metadata": {},
     "output_type": "execute_result"
    }
   ],
   "source": [
    "universe[\"training_year\"]"
   ]
  },
  {
   "cell_type": "code",
   "execution_count": 17,
   "id": "aea9c6ef-6f46-42c8-85eb-5a62025c1508",
   "metadata": {
    "execution": {
     "iopub.execute_input": "2025-07-30T13:50:02.912617Z",
     "iopub.status.busy": "2025-07-30T13:50:02.912292Z",
     "iopub.status.idle": "2025-07-30T13:50:03.412790Z",
     "shell.execute_reply": "2025-07-30T13:50:03.411774Z"
    },
    "papermill": {
     "duration": 0.54951,
     "end_time": "2025-07-30T13:50:03.414953",
     "exception": false,
     "start_time": "2025-07-30T13:50:02.865443",
     "status": "completed"
    },
    "tags": []
   },
   "outputs": [],
   "source": [
    "siab_train = sample_by_year_size(siab,\n",
    "                               training_year=universe[\"training_year\"],\n",
    "                               training_size=universe[\"training_size\"])"
   ]
  },
  {
   "cell_type": "code",
   "execution_count": 18,
   "id": "8d3afb32-789d-442c-8d5d-9f5aa8dd2eed",
   "metadata": {
    "execution": {
     "iopub.execute_input": "2025-07-30T13:50:03.502925Z",
     "iopub.status.busy": "2025-07-30T13:50:03.502431Z",
     "iopub.status.idle": "2025-07-30T13:50:03.510391Z",
     "shell.execute_reply": "2025-07-30T13:50:03.509369Z"
    },
    "papermill": {
     "duration": 0.058528,
     "end_time": "2025-07-30T13:50:03.512334",
     "exception": false,
     "start_time": "2025-07-30T13:50:03.453806",
     "status": "completed"
    },
    "tags": []
   },
   "outputs": [
    {
     "data": {
      "text/plain": [
       "(5000, 164)"
      ]
     },
     "execution_count": 18,
     "metadata": {},
     "output_type": "execute_result"
    }
   ],
   "source": [
    "siab_train.shape"
   ]
  },
  {
   "cell_type": "code",
   "execution_count": 19,
   "id": "d582db68-1a4c-47fb-84fc-08518dc1975a",
   "metadata": {
    "execution": {
     "iopub.execute_input": "2025-07-30T13:50:03.583378Z",
     "iopub.status.busy": "2025-07-30T13:50:03.582908Z",
     "iopub.status.idle": "2025-07-30T13:50:03.592565Z",
     "shell.execute_reply": "2025-07-30T13:50:03.591644Z"
    },
    "papermill": {
     "duration": 0.041169,
     "end_time": "2025-07-30T13:50:03.593857",
     "exception": false,
     "start_time": "2025-07-30T13:50:03.552688",
     "status": "completed"
    },
    "tags": []
   },
   "outputs": [
    {
     "data": {
      "text/plain": [
       "year\n",
       "2014    5000\n",
       "dtype: int64"
      ]
     },
     "metadata": {},
     "output_type": "display_data"
    }
   ],
   "source": [
    "display(siab_train.groupby(\"year\").size())"
   ]
  },
  {
   "cell_type": "code",
   "execution_count": 20,
   "id": "a561edb4-d032-42cb-8256-22eac1111c64",
   "metadata": {
    "execution": {
     "iopub.execute_input": "2025-07-30T13:50:03.638732Z",
     "iopub.status.busy": "2025-07-30T13:50:03.638224Z",
     "iopub.status.idle": "2025-07-30T13:50:03.875473Z",
     "shell.execute_reply": "2025-07-30T13:50:03.874563Z"
    },
    "papermill": {
     "duration": 0.262723,
     "end_time": "2025-07-30T13:50:03.877510",
     "exception": false,
     "start_time": "2025-07-30T13:50:03.614787",
     "status": "completed"
    },
    "tags": []
   },
   "outputs": [],
   "source": [
    "#siab_train = siab_s[siab_s.year < 2015]\n",
    "siab_calib = siab[siab.year == 2015]\n",
    "siab_test = siab[siab.year == 2016]"
   ]
  },
  {
   "cell_type": "code",
   "execution_count": 21,
   "id": "472de16f-c3db-4916-846b-1f0de9cf1746",
   "metadata": {
    "execution": {
     "iopub.execute_input": "2025-07-30T13:50:03.921566Z",
     "iopub.status.busy": "2025-07-30T13:50:03.921183Z",
     "iopub.status.idle": "2025-07-30T13:50:03.931832Z",
     "shell.execute_reply": "2025-07-30T13:50:03.930810Z"
    },
    "papermill": {
     "duration": 0.035891,
     "end_time": "2025-07-30T13:50:03.934879",
     "exception": false,
     "start_time": "2025-07-30T13:50:03.898988",
     "status": "completed"
    },
    "tags": []
   },
   "outputs": [],
   "source": [
    "X_train = siab_train.iloc[:,4:164]\n",
    "y_train = siab_train.iloc[:, [3]]"
   ]
  },
  {
   "cell_type": "code",
   "execution_count": 22,
   "id": "828c96af-f43a-4ed6-ba47-8ac73a47d56c",
   "metadata": {
    "execution": {
     "iopub.execute_input": "2025-07-30T13:50:03.980351Z",
     "iopub.status.busy": "2025-07-30T13:50:03.979792Z",
     "iopub.status.idle": "2025-07-30T13:50:04.033343Z",
     "shell.execute_reply": "2025-07-30T13:50:04.031980Z"
    },
    "papermill": {
     "duration": 0.078929,
     "end_time": "2025-07-30T13:50:04.036101",
     "exception": false,
     "start_time": "2025-07-30T13:50:03.957172",
     "status": "completed"
    },
    "tags": []
   },
   "outputs": [],
   "source": [
    "X_calib = siab_calib.iloc[:,4:164]\n",
    "y_calib = siab_calib.iloc[:, [3]]"
   ]
  },
  {
   "cell_type": "code",
   "execution_count": 23,
   "id": "c34be9c3-6bd6-476e-acd3-845840e303be",
   "metadata": {
    "execution": {
     "iopub.execute_input": "2025-07-30T13:50:04.100288Z",
     "iopub.status.busy": "2025-07-30T13:50:04.099854Z",
     "iopub.status.idle": "2025-07-30T13:50:04.205138Z",
     "shell.execute_reply": "2025-07-30T13:50:04.198682Z"
    },
    "papermill": {
     "duration": 0.148556,
     "end_time": "2025-07-30T13:50:04.207209",
     "exception": false,
     "start_time": "2025-07-30T13:50:04.058653",
     "status": "completed"
    },
    "tags": []
   },
   "outputs": [],
   "source": [
    "X_test = siab_test.iloc[:,4:164]\n",
    "y_true = siab_test.iloc[:, [3]]"
   ]
  },
  {
   "cell_type": "markdown",
   "id": "9901737e-04df-44f0-9100-f5ad144ed040",
   "metadata": {
    "papermill": {
     "duration": 0.020406,
     "end_time": "2025-07-30T13:50:04.260255",
     "exception": false,
     "start_time": "2025-07-30T13:50:04.239849",
     "status": "completed"
    },
    "tags": []
   },
   "source": [
    "# Splitting Data and Setting Training Data Size OLD VERSION"
   ]
  },
  {
   "cell_type": "code",
   "execution_count": 24,
   "id": "acbc8f7d-8fc8-4e86-8c59-5dcb0f58384b",
   "metadata": {
    "execution": {
     "iopub.execute_input": "2025-07-30T13:50:04.395210Z",
     "iopub.status.busy": "2025-07-30T13:50:04.394808Z",
     "iopub.status.idle": "2025-07-30T13:50:04.401175Z",
     "shell.execute_reply": "2025-07-30T13:50:04.400180Z"
    },
    "papermill": {
     "duration": 0.078012,
     "end_time": "2025-07-30T13:50:04.403386",
     "exception": false,
     "start_time": "2025-07-30T13:50:04.325374",
     "status": "completed"
    },
    "tags": []
   },
   "outputs": [],
   "source": [
    "#def sample_by_year(df, training_size, random_state=42):\n",
    "#    if training_size == \"2014\":\n",
    "#        return df[df[\"year\"] == 2014].reset_index(drop=True)\n",
    "#    \n",
    "#    size_map = {\n",
    "#        \"25k\": 5000,\n",
    "#        \"5k\": 1000,\n",
    "#        \"1k\": 200\n",
    "#    }\n",
    "#\n",
    "#    if training_size not in size_map:\n",
    "#        return df.reset_index(drop=True)  # use all data\n",
    "#\n",
    "#    n_per_year = size_map[training_size]\n",
    "#    grouped = df.groupby(\"year\")\n",
    "#    sampled = grouped.apply(lambda x: x.sample(n=min(n_per_year, len(x)), random_state=random_state))\n",
    "#    return sampled.reset_index(drop=True)"
   ]
  },
  {
   "cell_type": "code",
   "execution_count": 25,
   "id": "6d931f52-beaf-43ff-9e78-9d44a448d54e",
   "metadata": {
    "execution": {
     "iopub.execute_input": "2025-07-30T13:50:04.503974Z",
     "iopub.status.busy": "2025-07-30T13:50:04.503589Z",
     "iopub.status.idle": "2025-07-30T13:50:04.509227Z",
     "shell.execute_reply": "2025-07-30T13:50:04.508163Z"
    },
    "papermill": {
     "duration": 0.04437,
     "end_time": "2025-07-30T13:50:04.513012",
     "exception": false,
     "start_time": "2025-07-30T13:50:04.468642",
     "status": "completed"
    },
    "tags": []
   },
   "outputs": [],
   "source": [
    "#siab_s = sample_by_year(siab, universe[\"training_size\"])"
   ]
  },
  {
   "cell_type": "code",
   "execution_count": 26,
   "id": "5db0a40e-a4e2-4920-be85-b12ae061d70d",
   "metadata": {
    "execution": {
     "iopub.execute_input": "2025-07-30T13:50:04.630667Z",
     "iopub.status.busy": "2025-07-30T13:50:04.630267Z",
     "iopub.status.idle": "2025-07-30T13:50:04.635687Z",
     "shell.execute_reply": "2025-07-30T13:50:04.634694Z"
    },
    "papermill": {
     "duration": 0.069226,
     "end_time": "2025-07-30T13:50:04.637436",
     "exception": false,
     "start_time": "2025-07-30T13:50:04.568210",
     "status": "completed"
    },
    "tags": []
   },
   "outputs": [],
   "source": [
    "#display(siab_s.groupby(\"year\").size())"
   ]
  },
  {
   "cell_type": "code",
   "execution_count": 27,
   "id": "e6c733c5",
   "metadata": {
    "execution": {
     "iopub.execute_input": "2025-07-30T13:50:04.693896Z",
     "iopub.status.busy": "2025-07-30T13:50:04.693102Z",
     "iopub.status.idle": "2025-07-30T13:50:04.790250Z",
     "shell.execute_reply": "2025-07-30T13:50:04.789090Z"
    },
    "papermill": {
     "duration": 0.122877,
     "end_time": "2025-07-30T13:50:04.792192",
     "exception": false,
     "start_time": "2025-07-30T13:50:04.669315",
     "status": "completed"
    },
    "tags": []
   },
   "outputs": [],
   "source": [
    "# Auxiliary data needed downstream in the pipeline\n",
    "\n",
    "org_train = X_train.copy()\n",
    "org_test = X_test.copy()\n",
    "org_calib = X_calib.copy()"
   ]
  },
  {
   "cell_type": "code",
   "execution_count": 28,
   "id": "1466abac-c6da-4492-a62f-4240ae3783af",
   "metadata": {
    "execution": {
     "iopub.execute_input": "2025-07-30T13:50:04.836957Z",
     "iopub.status.busy": "2025-07-30T13:50:04.836224Z",
     "iopub.status.idle": "2025-07-30T13:50:04.842034Z",
     "shell.execute_reply": "2025-07-30T13:50:04.841098Z"
    },
    "papermill": {
     "duration": 0.029368,
     "end_time": "2025-07-30T13:50:04.843506",
     "exception": false,
     "start_time": "2025-07-30T13:50:04.814138",
     "status": "completed"
    },
    "tags": []
   },
   "outputs": [],
   "source": [
    "# put in other script?\n",
    "# Group sizes\n",
    "\n",
    "#def calculate_percentages(df, df_name):\n",
    "#    total_entries = len(df)\n",
    "#\n",
    "#    female_pct = (df['frau1'] == 1).mean() * 100\n",
    "#    non_german_pct = ((df['maxdeutsch1'] == 0) & (df['maxdeutsch.Missing.'] == 0)).mean() * 100\n",
    "#    non_german_male_pct = ((df['frau1'] == 0) & (df['maxdeutsch1'] == 0) & (df['maxdeutsch.Missing.'] == 0)).mean() * 100\n",
    "#    non_german_female_pct = ((df['frau1'] == 1) & (df['maxdeutsch1'] == 0) & (df['maxdeutsch.Missing.'] == 0)).mean() * 100\n",
    "#\n",
    "#    print(f\"--- {df_name} ---\")\n",
    "#    print(f\"Female: {female_pct:.2f}%\")\n",
    "#    print(f\"Non-German: {non_german_pct:.2f}%\")\n",
    "#    print(f\"Non-German Male: {non_german_male_pct:.2f}%\")\n",
    "#    print(f\"Non-German Female: {non_german_female_pct:.2f}%\\n\")\n",
    "#\n",
    "## Calculate for each DataFrame\n",
    "#calculate_percentages(siab_calib, \"siab_calib\")\n",
    "#calculate_percentages(siab_test, \"siab_test\")\n",
    "#calculate_percentages(siab_train, \"siab_train\")"
   ]
  },
  {
   "cell_type": "markdown",
   "id": "0a4a1b33",
   "metadata": {
    "papermill": {
     "duration": 0.021686,
     "end_time": "2025-07-30T13:50:04.887868",
     "exception": false,
     "start_time": "2025-07-30T13:50:04.866182",
     "status": "completed"
    },
    "tags": []
   },
   "source": [
    "# Preprocessing Data"
   ]
  },
  {
   "cell_type": "code",
   "execution_count": 29,
   "id": "ca879031",
   "metadata": {
    "execution": {
     "iopub.execute_input": "2025-07-30T13:50:04.933816Z",
     "iopub.status.busy": "2025-07-30T13:50:04.933241Z",
     "iopub.status.idle": "2025-07-30T13:50:04.940379Z",
     "shell.execute_reply": "2025-07-30T13:50:04.939266Z"
    },
    "papermill": {
     "duration": 0.032482,
     "end_time": "2025-07-30T13:50:04.942648",
     "exception": false,
     "start_time": "2025-07-30T13:50:04.910166",
     "status": "completed"
    },
    "tags": []
   },
   "outputs": [],
   "source": [
    "# EXCLUDE PROTECTED FEATURES\n",
    "# ----------------------\n",
    "# \"exclude_features\": \"none\", # \"nationality\", \"sex\", \"nationality-sex\"\n",
    "\n",
    "excluded_features = universe[\"exclude_features\"].split(\"-\") # split, e.g.: \"nationality-sex\" -> [\"nationality\", \"sex\"]\n",
    "excluded_features_dictionary = {\n",
    "    \"nationality\": [\"maxdeutsch1\", \"maxdeutsch.Missing.\"],\n",
    "    \"sex\": [\"frau1\"],\n",
    "    \"age\": [\"age\"],\n",
    "}\n"
   ]
  },
  {
   "cell_type": "code",
   "execution_count": 30,
   "id": "b745ac60",
   "metadata": {
    "execution": {
     "iopub.execute_input": "2025-07-30T13:50:04.988866Z",
     "iopub.status.busy": "2025-07-30T13:50:04.988486Z",
     "iopub.status.idle": "2025-07-30T13:50:04.994132Z",
     "shell.execute_reply": "2025-07-30T13:50:04.993313Z"
    },
    "papermill": {
     "duration": 0.031445,
     "end_time": "2025-07-30T13:50:04.997036",
     "exception": false,
     "start_time": "2025-07-30T13:50:04.965591",
     "status": "completed"
    },
    "tags": []
   },
   "outputs": [],
   "source": [
    "# Code nice names to column names\n",
    "\n",
    "excluded_features_columns = [\n",
    "    excluded_features_dictionary[f] for f in excluded_features if len(f) > 0 and f != \"none\"\n",
    "]"
   ]
  },
  {
   "cell_type": "code",
   "execution_count": 31,
   "id": "f84f73a2",
   "metadata": {
    "execution": {
     "iopub.execute_input": "2025-07-30T13:50:05.094577Z",
     "iopub.status.busy": "2025-07-30T13:50:05.094159Z",
     "iopub.status.idle": "2025-07-30T13:50:05.103255Z",
     "shell.execute_reply": "2025-07-30T13:50:05.102097Z"
    },
    "papermill": {
     "duration": 0.064262,
     "end_time": "2025-07-30T13:50:05.105163",
     "exception": false,
     "start_time": "2025-07-30T13:50:05.040901",
     "status": "completed"
    },
    "tags": []
   },
   "outputs": [],
   "source": [
    "from utils import flatten_once\n",
    "\n",
    "excluded_features_columns = flatten_once(excluded_features_columns)"
   ]
  },
  {
   "cell_type": "code",
   "execution_count": 32,
   "id": "884dea22",
   "metadata": {
    "execution": {
     "iopub.execute_input": "2025-07-30T13:50:05.175822Z",
     "iopub.status.busy": "2025-07-30T13:50:05.175372Z",
     "iopub.status.idle": "2025-07-30T13:50:05.185013Z",
     "shell.execute_reply": "2025-07-30T13:50:05.183820Z"
    },
    "papermill": {
     "duration": 0.037522,
     "end_time": "2025-07-30T13:50:05.189129",
     "exception": false,
     "start_time": "2025-07-30T13:50:05.151607",
     "status": "completed"
    },
    "tags": []
   },
   "outputs": [
    {
     "name": "stdout",
     "output_type": "stream",
     "text": [
      "Dropping features: ['age']\n"
     ]
    }
   ],
   "source": [
    "if len(excluded_features_columns) > 0:\n",
    "    print(f\"Dropping features: {excluded_features_columns}\")\n",
    "    X_train.drop(excluded_features_columns, axis=1, inplace=True)"
   ]
  },
  {
   "cell_type": "code",
   "execution_count": 33,
   "id": "95ab8b16",
   "metadata": {
    "execution": {
     "iopub.execute_input": "2025-07-30T13:50:05.261607Z",
     "iopub.status.busy": "2025-07-30T13:50:05.261202Z",
     "iopub.status.idle": "2025-07-30T13:50:05.369797Z",
     "shell.execute_reply": "2025-07-30T13:50:05.368686Z"
    },
    "papermill": {
     "duration": 0.148733,
     "end_time": "2025-07-30T13:50:05.371566",
     "exception": false,
     "start_time": "2025-07-30T13:50:05.222833",
     "status": "completed"
    },
    "tags": []
   },
   "outputs": [
    {
     "name": "stdout",
     "output_type": "stream",
     "text": [
      "Dropping features: ['age']\n"
     ]
    }
   ],
   "source": [
    "if len(excluded_features_columns) > 0:\n",
    "    print(f\"Dropping features: {excluded_features_columns}\")\n",
    "    X_test.drop(excluded_features_columns, axis=1, inplace=True)"
   ]
  },
  {
   "cell_type": "code",
   "execution_count": 34,
   "id": "1853aaf5-fb9f-46cb-a2b5-8ea4ae2237e4",
   "metadata": {
    "execution": {
     "iopub.execute_input": "2025-07-30T13:50:05.486538Z",
     "iopub.status.busy": "2025-07-30T13:50:05.486151Z",
     "iopub.status.idle": "2025-07-30T13:50:05.547581Z",
     "shell.execute_reply": "2025-07-30T13:50:05.546528Z"
    },
    "papermill": {
     "duration": 0.134603,
     "end_time": "2025-07-30T13:50:05.549938",
     "exception": false,
     "start_time": "2025-07-30T13:50:05.415335",
     "status": "completed"
    },
    "tags": []
   },
   "outputs": [
    {
     "name": "stdout",
     "output_type": "stream",
     "text": [
      "Dropping features: ['age']\n"
     ]
    }
   ],
   "source": [
    "if len(excluded_features_columns) > 0:\n",
    "    print(f\"Dropping features: {excluded_features_columns}\")\n",
    "    X_calib.drop(excluded_features_columns, axis=1, inplace=True)"
   ]
  },
  {
   "cell_type": "code",
   "execution_count": 35,
   "id": "6727d079-03e5-481e-9d38-292a90b7a0a8",
   "metadata": {
    "execution": {
     "iopub.execute_input": "2025-07-30T13:50:05.684163Z",
     "iopub.status.busy": "2025-07-30T13:50:05.683736Z",
     "iopub.status.idle": "2025-07-30T13:50:05.688601Z",
     "shell.execute_reply": "2025-07-30T13:50:05.687732Z"
    },
    "papermill": {
     "duration": 0.090206,
     "end_time": "2025-07-30T13:50:05.690370",
     "exception": false,
     "start_time": "2025-07-30T13:50:05.600164",
     "status": "completed"
    },
    "tags": []
   },
   "outputs": [],
   "source": [
    "# SPLIT & STRATIFY DATA\n",
    "# ----------------------"
   ]
  },
  {
   "cell_type": "code",
   "execution_count": 36,
   "id": "76c4dc6d",
   "metadata": {
    "execution": {
     "iopub.execute_input": "2025-07-30T13:50:05.749963Z",
     "iopub.status.busy": "2025-07-30T13:50:05.749491Z",
     "iopub.status.idle": "2025-07-30T13:50:05.755244Z",
     "shell.execute_reply": "2025-07-30T13:50:05.754308Z"
    },
    "papermill": {
     "duration": 0.030966,
     "end_time": "2025-07-30T13:50:05.756822",
     "exception": false,
     "start_time": "2025-07-30T13:50:05.725856",
     "status": "completed"
    },
    "tags": []
   },
   "outputs": [],
   "source": [
    "# EXCLUDE CERTAIN SUBGROUPS\n",
    "# ----------------------\n",
    "\n",
    "mode = universe.get(\"exclude_subgroups\", \"keep-all\") \n",
    "# Fetches the exclude_subgroups setting from the universe dict.\n",
    "# Defaults to \"keep-all\" if the key is missing."
   ]
  },
  {
   "cell_type": "code",
   "execution_count": 37,
   "id": "21994072",
   "metadata": {
    "execution": {
     "iopub.execute_input": "2025-07-30T13:50:05.804281Z",
     "iopub.status.busy": "2025-07-30T13:50:05.803727Z",
     "iopub.status.idle": "2025-07-30T13:50:05.811246Z",
     "shell.execute_reply": "2025-07-30T13:50:05.810187Z"
    },
    "papermill": {
     "duration": 0.033199,
     "end_time": "2025-07-30T13:50:05.813127",
     "exception": false,
     "start_time": "2025-07-30T13:50:05.779928",
     "status": "completed"
    },
    "tags": []
   },
   "outputs": [],
   "source": [
    "if mode == \"keep-all\":\n",
    "    keep_mask = pd.Series(True, index=org_train.index)\n",
    "\n",
    "# org_train contains the original feature columns from features_org (in Simson)\n",
    "# features_org contains unprocessed features, for me X_train at beginning ???\n",
    "# For keep-all, creates a boolean Series (keep_mask) of all True, so no rows are removed.\n",
    "\n",
    "elif mode == \"drop-non-german\":\n",
    "    keep_mask = org_train[\"maxdeutsch1\"] == 1 # ??? what about missing values?\n",
    "\n",
    "else:\n",
    "    raise ValueError(f\"Unsupported mode for exclude_subgroups: {mode}\")\n"
   ]
  },
  {
   "cell_type": "code",
   "execution_count": 38,
   "id": "71651440",
   "metadata": {
    "execution": {
     "iopub.execute_input": "2025-07-30T13:50:05.862284Z",
     "iopub.status.busy": "2025-07-30T13:50:05.861843Z",
     "iopub.status.idle": "2025-07-30T13:50:05.869526Z",
     "shell.execute_reply": "2025-07-30T13:50:05.868355Z"
    },
    "papermill": {
     "duration": 0.033661,
     "end_time": "2025-07-30T13:50:05.871075",
     "exception": false,
     "start_time": "2025-07-30T13:50:05.837414",
     "status": "completed"
    },
    "tags": []
   },
   "outputs": [
    {
     "name": "stdout",
     "output_type": "stream",
     "text": [
      "Dropping 741 rows (14.82%) where mode='drop-non-german'\n"
     ]
    }
   ],
   "source": [
    "n_drop = (~keep_mask).sum() # Calculates how many rows are set to be dropped\n",
    "if n_drop > 0:\n",
    "    pct = n_drop / len(keep_mask) * 100\n",
    "    print(f\"Dropping {n_drop} rows ({pct:.2f}%) where mode='{mode}'\")"
   ]
  },
  {
   "cell_type": "code",
   "execution_count": 39,
   "id": "5fb8eee5",
   "metadata": {
    "execution": {
     "iopub.execute_input": "2025-07-30T13:50:05.921061Z",
     "iopub.status.busy": "2025-07-30T13:50:05.920325Z",
     "iopub.status.idle": "2025-07-30T13:50:05.928784Z",
     "shell.execute_reply": "2025-07-30T13:50:05.927585Z"
    },
    "papermill": {
     "duration": 0.035172,
     "end_time": "2025-07-30T13:50:05.930749",
     "exception": false,
     "start_time": "2025-07-30T13:50:05.895577",
     "status": "completed"
    },
    "tags": []
   },
   "outputs": [],
   "source": [
    "X_train = X_train[keep_mask]"
   ]
  },
  {
   "cell_type": "code",
   "execution_count": 40,
   "id": "b202bb3a",
   "metadata": {
    "execution": {
     "iopub.execute_input": "2025-07-30T13:50:05.988420Z",
     "iopub.status.busy": "2025-07-30T13:50:05.987226Z",
     "iopub.status.idle": "2025-07-30T13:50:05.994265Z",
     "shell.execute_reply": "2025-07-30T13:50:05.993173Z"
    },
    "papermill": {
     "duration": 0.038128,
     "end_time": "2025-07-30T13:50:05.996595",
     "exception": false,
     "start_time": "2025-07-30T13:50:05.958467",
     "status": "completed"
    },
    "tags": []
   },
   "outputs": [],
   "source": [
    "y_train = y_train[keep_mask]"
   ]
  },
  {
   "cell_type": "markdown",
   "id": "493e2ac3",
   "metadata": {
    "papermill": {
     "duration": 0.026856,
     "end_time": "2025-07-30T13:50:06.051062",
     "exception": false,
     "start_time": "2025-07-30T13:50:06.024206",
     "status": "completed"
    },
    "tags": []
   },
   "source": [
    "# Model Training"
   ]
  },
  {
   "cell_type": "code",
   "execution_count": 41,
   "id": "679e1268",
   "metadata": {
    "execution": {
     "iopub.execute_input": "2025-07-30T13:50:06.106886Z",
     "iopub.status.busy": "2025-07-30T13:50:06.106196Z",
     "iopub.status.idle": "2025-07-30T13:50:06.215184Z",
     "shell.execute_reply": "2025-07-30T13:50:06.214187Z"
    },
    "papermill": {
     "duration": 0.139155,
     "end_time": "2025-07-30T13:50:06.217300",
     "exception": false,
     "start_time": "2025-07-30T13:50:06.078145",
     "status": "completed"
    },
    "tags": []
   },
   "outputs": [],
   "source": [
    "from sklearn.linear_model import LogisticRegression\n",
    "from sklearn.ensemble import GradientBoostingClassifier, RandomForestClassifier\n",
    "\n",
    "if (universe[\"model\"] == \"logreg\"):\n",
    "    model = LogisticRegression() #penalty=\"none\") #, solver=\"newton-cg\", max_iter=1) # include random_state=19 ?\n",
    "elif (universe[\"model\"] == \"penalized_logreg\"):\n",
    "    model = LogisticRegression(penalty=\"l2\", C=1.0) #, solver=\"newton-cg\", max_iter=1)\n",
    "elif (universe[\"model\"] == \"rf\"):\n",
    "    model = RandomForestClassifier(n_estimators=100, n_jobs=-1)\n",
    "elif (universe[\"model\"] == \"gbm\"):\n",
    "    model = GradientBoostingClassifier()\n",
    "elif (universe[\"model\"] == \"elasticnet\"):\n",
    "    model = LogisticRegression(penalty = 'elasticnet', solver = 'saga', l1_ratio = 0.5, max_iter=5000) # which solver to use?\n",
    "else:\n",
    "    raise \"Unsupported universe.model\""
   ]
  },
  {
   "cell_type": "code",
   "execution_count": 42,
   "id": "0cc8f744",
   "metadata": {
    "execution": {
     "iopub.execute_input": "2025-07-30T13:50:06.273054Z",
     "iopub.status.busy": "2025-07-30T13:50:06.272379Z",
     "iopub.status.idle": "2025-07-30T13:50:06.278734Z",
     "shell.execute_reply": "2025-07-30T13:50:06.277733Z"
    },
    "papermill": {
     "duration": 0.036319,
     "end_time": "2025-07-30T13:50:06.280564",
     "exception": false,
     "start_time": "2025-07-30T13:50:06.244245",
     "status": "completed"
    },
    "tags": []
   },
   "outputs": [],
   "source": [
    "import numpy as np\n",
    "from sklearn.pipeline import Pipeline\n",
    "from sklearn.preprocessing import StandardScaler\n",
    "\n",
    "model = Pipeline([\n",
    "    #(\"continuous_processor\", continuous_processor),\n",
    "    #(\"categorical_preprocessor\", categorical_preprocessor),\n",
    "    (\"scale\", StandardScaler() if universe[\"scale\"] == \"scale\" else None), \n",
    "    (\"model\", model),\n",
    "])"
   ]
  },
  {
   "cell_type": "code",
   "execution_count": 43,
   "id": "9442c04d",
   "metadata": {
    "execution": {
     "iopub.execute_input": "2025-07-30T13:50:06.337345Z",
     "iopub.status.busy": "2025-07-30T13:50:06.336683Z",
     "iopub.status.idle": "2025-07-30T13:50:07.093633Z",
     "shell.execute_reply": "2025-07-30T13:50:07.092943Z"
    },
    "papermill": {
     "duration": 0.786486,
     "end_time": "2025-07-30T13:50:07.094954",
     "exception": false,
     "start_time": "2025-07-30T13:50:06.308468",
     "status": "completed"
    },
    "tags": []
   },
   "outputs": [
    {
     "data": {
      "text/html": [
       "<style>#sk-container-id-1 {color: black;background-color: white;}#sk-container-id-1 pre{padding: 0;}#sk-container-id-1 div.sk-toggleable {background-color: white;}#sk-container-id-1 label.sk-toggleable__label {cursor: pointer;display: block;width: 100%;margin-bottom: 0;padding: 0.3em;box-sizing: border-box;text-align: center;}#sk-container-id-1 label.sk-toggleable__label-arrow:before {content: \"▸\";float: left;margin-right: 0.25em;color: #696969;}#sk-container-id-1 label.sk-toggleable__label-arrow:hover:before {color: black;}#sk-container-id-1 div.sk-estimator:hover label.sk-toggleable__label-arrow:before {color: black;}#sk-container-id-1 div.sk-toggleable__content {max-height: 0;max-width: 0;overflow: hidden;text-align: left;background-color: #f0f8ff;}#sk-container-id-1 div.sk-toggleable__content pre {margin: 0.2em;color: black;border-radius: 0.25em;background-color: #f0f8ff;}#sk-container-id-1 input.sk-toggleable__control:checked~div.sk-toggleable__content {max-height: 200px;max-width: 100%;overflow: auto;}#sk-container-id-1 input.sk-toggleable__control:checked~label.sk-toggleable__label-arrow:before {content: \"▾\";}#sk-container-id-1 div.sk-estimator input.sk-toggleable__control:checked~label.sk-toggleable__label {background-color: #d4ebff;}#sk-container-id-1 div.sk-label input.sk-toggleable__control:checked~label.sk-toggleable__label {background-color: #d4ebff;}#sk-container-id-1 input.sk-hidden--visually {border: 0;clip: rect(1px 1px 1px 1px);clip: rect(1px, 1px, 1px, 1px);height: 1px;margin: -1px;overflow: hidden;padding: 0;position: absolute;width: 1px;}#sk-container-id-1 div.sk-estimator {font-family: monospace;background-color: #f0f8ff;border: 1px dotted black;border-radius: 0.25em;box-sizing: border-box;margin-bottom: 0.5em;}#sk-container-id-1 div.sk-estimator:hover {background-color: #d4ebff;}#sk-container-id-1 div.sk-parallel-item::after {content: \"\";width: 100%;border-bottom: 1px solid gray;flex-grow: 1;}#sk-container-id-1 div.sk-label:hover label.sk-toggleable__label {background-color: #d4ebff;}#sk-container-id-1 div.sk-serial::before {content: \"\";position: absolute;border-left: 1px solid gray;box-sizing: border-box;top: 0;bottom: 0;left: 50%;z-index: 0;}#sk-container-id-1 div.sk-serial {display: flex;flex-direction: column;align-items: center;background-color: white;padding-right: 0.2em;padding-left: 0.2em;position: relative;}#sk-container-id-1 div.sk-item {position: relative;z-index: 1;}#sk-container-id-1 div.sk-parallel {display: flex;align-items: stretch;justify-content: center;background-color: white;position: relative;}#sk-container-id-1 div.sk-item::before, #sk-container-id-1 div.sk-parallel-item::before {content: \"\";position: absolute;border-left: 1px solid gray;box-sizing: border-box;top: 0;bottom: 0;left: 50%;z-index: -1;}#sk-container-id-1 div.sk-parallel-item {display: flex;flex-direction: column;z-index: 1;position: relative;background-color: white;}#sk-container-id-1 div.sk-parallel-item:first-child::after {align-self: flex-end;width: 50%;}#sk-container-id-1 div.sk-parallel-item:last-child::after {align-self: flex-start;width: 50%;}#sk-container-id-1 div.sk-parallel-item:only-child::after {width: 0;}#sk-container-id-1 div.sk-dashed-wrapped {border: 1px dashed gray;margin: 0 0.4em 0.5em 0.4em;box-sizing: border-box;padding-bottom: 0.4em;background-color: white;}#sk-container-id-1 div.sk-label label {font-family: monospace;font-weight: bold;display: inline-block;line-height: 1.2em;}#sk-container-id-1 div.sk-label-container {text-align: center;}#sk-container-id-1 div.sk-container {/* jupyter's `normalize.less` sets `[hidden] { display: none; }` but bootstrap.min.css set `[hidden] { display: none !important; }` so we also need the `!important` here to be able to override the default hidden behavior on the sphinx rendered scikit-learn.org. See: https://github.com/scikit-learn/scikit-learn/issues/21755 */display: inline-block !important;position: relative;}#sk-container-id-1 div.sk-text-repr-fallback {display: none;}</style><div id=\"sk-container-id-1\" class=\"sk-top-container\"><div class=\"sk-text-repr-fallback\"><pre>Pipeline(steps=[(&#x27;scale&#x27;, None), (&#x27;model&#x27;, RandomForestClassifier(n_jobs=-1))])</pre><b>In a Jupyter environment, please rerun this cell to show the HTML representation or trust the notebook. <br />On GitHub, the HTML representation is unable to render, please try loading this page with nbviewer.org.</b></div><div class=\"sk-container\" hidden><div class=\"sk-item sk-dashed-wrapped\"><div class=\"sk-label-container\"><div class=\"sk-label sk-toggleable\"><input class=\"sk-toggleable__control sk-hidden--visually\" id=\"sk-estimator-id-1\" type=\"checkbox\" ><label for=\"sk-estimator-id-1\" class=\"sk-toggleable__label sk-toggleable__label-arrow\">Pipeline</label><div class=\"sk-toggleable__content\"><pre>Pipeline(steps=[(&#x27;scale&#x27;, None), (&#x27;model&#x27;, RandomForestClassifier(n_jobs=-1))])</pre></div></div></div><div class=\"sk-serial\"><div class=\"sk-item\"><div class=\"sk-estimator sk-toggleable\"><input class=\"sk-toggleable__control sk-hidden--visually\" id=\"sk-estimator-id-2\" type=\"checkbox\" ><label for=\"sk-estimator-id-2\" class=\"sk-toggleable__label sk-toggleable__label-arrow\">None</label><div class=\"sk-toggleable__content\"><pre>None</pre></div></div></div><div class=\"sk-item\"><div class=\"sk-estimator sk-toggleable\"><input class=\"sk-toggleable__control sk-hidden--visually\" id=\"sk-estimator-id-3\" type=\"checkbox\" ><label for=\"sk-estimator-id-3\" class=\"sk-toggleable__label sk-toggleable__label-arrow\">RandomForestClassifier</label><div class=\"sk-toggleable__content\"><pre>RandomForestClassifier(n_jobs=-1)</pre></div></div></div></div></div></div></div>"
      ],
      "text/plain": [
       "Pipeline(steps=[('scale', None), ('model', RandomForestClassifier(n_jobs=-1))])"
      ]
     },
     "execution_count": 43,
     "metadata": {},
     "output_type": "execute_result"
    }
   ],
   "source": [
    "model.fit(X_train, y_train.values.ravel())"
   ]
  },
  {
   "cell_type": "code",
   "execution_count": 44,
   "id": "af59f8c0",
   "metadata": {
    "execution": {
     "iopub.execute_input": "2025-07-30T13:50:07.122894Z",
     "iopub.status.busy": "2025-07-30T13:50:07.122537Z",
     "iopub.status.idle": "2025-07-30T13:50:07.127379Z",
     "shell.execute_reply": "2025-07-30T13:50:07.126703Z"
    },
    "papermill": {
     "duration": 0.020223,
     "end_time": "2025-07-30T13:50:07.128704",
     "exception": false,
     "start_time": "2025-07-30T13:50:07.108481",
     "status": "completed"
    },
    "tags": []
   },
   "outputs": [],
   "source": [
    "from fairness_multiverse.universe import predict_w_threshold"
   ]
  },
  {
   "cell_type": "code",
   "execution_count": 45,
   "id": "a7cf2e16",
   "metadata": {
    "execution": {
     "iopub.execute_input": "2025-07-30T13:50:07.157832Z",
     "iopub.status.busy": "2025-07-30T13:50:07.157420Z",
     "iopub.status.idle": "2025-07-30T13:50:08.095449Z",
     "shell.execute_reply": "2025-07-30T13:50:08.094539Z"
    },
    "papermill": {
     "duration": 0.953906,
     "end_time": "2025-07-30T13:50:08.097130",
     "exception": false,
     "start_time": "2025-07-30T13:50:07.143224",
     "status": "completed"
    },
    "tags": []
   },
   "outputs": [
    {
     "data": {
      "text/plain": [
       "0.8635715081930665"
      ]
     },
     "execution_count": 45,
     "metadata": {},
     "output_type": "execute_result"
    }
   ],
   "source": [
    "probs_test = model.predict_proba(X_test)\n",
    "\n",
    "'''\n",
    "Below code returns a boolean array (or binary 0/1 array depending on how it’s used) where each element \n",
    "is True if the probability of class 1 is greater than or equal to the threshold, and False otherwise.\n",
    "'''\n",
    "y_pred_default = predict_w_threshold(probs_test, 0.5)\n",
    "\n",
    "from sklearn.metrics import accuracy_score\n",
    "\n",
    "# Naive prediction\n",
    "accuracy_score(y_true = y_true, y_pred = y_pred_default)"
   ]
  },
  {
   "cell_type": "code",
   "execution_count": 46,
   "id": "081964c3",
   "metadata": {
    "execution": {
     "iopub.execute_input": "2025-07-30T13:50:08.126539Z",
     "iopub.status.busy": "2025-07-30T13:50:08.126023Z",
     "iopub.status.idle": "2025-07-30T13:50:08.959620Z",
     "shell.execute_reply": "2025-07-30T13:50:08.958665Z"
    },
    "papermill": {
     "duration": 0.849605,
     "end_time": "2025-07-30T13:50:08.961325",
     "exception": false,
     "start_time": "2025-07-30T13:50:08.111720",
     "status": "completed"
    },
    "tags": []
   },
   "outputs": [
    {
     "data": {
      "text/plain": [
       "array([0, 0, 0, ..., 0, 0, 0])"
      ]
     },
     "execution_count": 46,
     "metadata": {},
     "output_type": "execute_result"
    }
   ],
   "source": [
    "model.predict(X_test)"
   ]
  },
  {
   "cell_type": "markdown",
   "id": "56c9705b",
   "metadata": {
    "papermill": {
     "duration": 0.027053,
     "end_time": "2025-07-30T13:50:09.016444",
     "exception": false,
     "start_time": "2025-07-30T13:50:08.989391",
     "status": "completed"
    },
    "tags": []
   },
   "source": [
    "# Conformal Prediction"
   ]
  },
  {
   "cell_type": "code",
   "execution_count": 47,
   "id": "160ec6ff",
   "metadata": {
    "execution": {
     "iopub.execute_input": "2025-07-30T13:50:09.070213Z",
     "iopub.status.busy": "2025-07-30T13:50:09.069741Z",
     "iopub.status.idle": "2025-07-30T13:50:09.074857Z",
     "shell.execute_reply": "2025-07-30T13:50:09.074143Z"
    },
    "papermill": {
     "duration": 0.034475,
     "end_time": "2025-07-30T13:50:09.076549",
     "exception": false,
     "start_time": "2025-07-30T13:50:09.042074",
     "status": "completed"
    },
    "tags": []
   },
   "outputs": [],
   "source": [
    "# Miscoverage level for conformal prediction (10% allowed error rate => 90% target coverage)\n",
    "alpha = 0.1"
   ]
  },
  {
   "cell_type": "code",
   "execution_count": 48,
   "id": "eadf4555-3dd3-440e-8e35-f82a4ad9f855",
   "metadata": {
    "execution": {
     "iopub.execute_input": "2025-07-30T13:50:09.131358Z",
     "iopub.status.busy": "2025-07-30T13:50:09.130879Z",
     "iopub.status.idle": "2025-07-30T13:50:10.062441Z",
     "shell.execute_reply": "2025-07-30T13:50:10.061453Z"
    },
    "papermill": {
     "duration": 0.961162,
     "end_time": "2025-07-30T13:50:10.064443",
     "exception": false,
     "start_time": "2025-07-30T13:50:09.103281",
     "status": "completed"
    },
    "tags": []
   },
   "outputs": [],
   "source": [
    "probs_calib = model.predict_proba(X_calib)"
   ]
  },
  {
   "cell_type": "code",
   "execution_count": 49,
   "id": "2ed93547-6d5d-4983-9b36-1ecb300da49a",
   "metadata": {
    "execution": {
     "iopub.execute_input": "2025-07-30T13:50:10.137203Z",
     "iopub.status.busy": "2025-07-30T13:50:10.136241Z",
     "iopub.status.idle": "2025-07-30T13:50:10.142247Z",
     "shell.execute_reply": "2025-07-30T13:50:10.141275Z"
    },
    "papermill": {
     "duration": 0.03673,
     "end_time": "2025-07-30T13:50:10.144552",
     "exception": false,
     "start_time": "2025-07-30T13:50:10.107822",
     "status": "completed"
    },
    "tags": []
   },
   "outputs": [],
   "source": [
    "y_calib = y_calib.values.ravel().astype(int)"
   ]
  },
  {
   "cell_type": "code",
   "execution_count": 50,
   "id": "65d1320d-f588-4b38-9072-62af1ae97f7d",
   "metadata": {
    "execution": {
     "iopub.execute_input": "2025-07-30T13:50:10.195192Z",
     "iopub.status.busy": "2025-07-30T13:50:10.194839Z",
     "iopub.status.idle": "2025-07-30T13:50:10.202128Z",
     "shell.execute_reply": "2025-07-30T13:50:10.201320Z"
    },
    "papermill": {
     "duration": 0.030223,
     "end_time": "2025-07-30T13:50:10.203752",
     "exception": false,
     "start_time": "2025-07-30T13:50:10.173529",
     "status": "completed"
    },
    "tags": []
   },
   "outputs": [],
   "source": [
    "from fairness_multiverse.conformal import compute_nc_scores\n",
    "\n",
    "# Compute nonconformity scores on calibration set (1 - probability of true class)\n",
    "nc_scores = compute_nc_scores(probs_calib, y_calib)"
   ]
  },
  {
   "cell_type": "code",
   "execution_count": 51,
   "id": "df3b8ca3-53b7-43d5-9667-7c85da7aeda2",
   "metadata": {
    "execution": {
     "iopub.execute_input": "2025-07-30T13:50:10.238820Z",
     "iopub.status.busy": "2025-07-30T13:50:10.238305Z",
     "iopub.status.idle": "2025-07-30T13:50:10.244542Z",
     "shell.execute_reply": "2025-07-30T13:50:10.243520Z"
    },
    "papermill": {
     "duration": 0.023196,
     "end_time": "2025-07-30T13:50:10.245744",
     "exception": false,
     "start_time": "2025-07-30T13:50:10.222548",
     "status": "completed"
    },
    "tags": []
   },
   "outputs": [],
   "source": [
    "from fairness_multiverse.conformal import find_threshold\n",
    "\n",
    "# Find conformal threshold q_hat for the given alpha (split conformal method)\n",
    "q_hat = find_threshold(nc_scores, alpha)"
   ]
  },
  {
   "cell_type": "code",
   "execution_count": 52,
   "id": "4d29e6c1-0ef6-4aa4-b8fe-4fe79b0d033a",
   "metadata": {
    "execution": {
     "iopub.execute_input": "2025-07-30T13:50:10.282329Z",
     "iopub.status.busy": "2025-07-30T13:50:10.281500Z",
     "iopub.status.idle": "2025-07-30T13:50:10.288289Z",
     "shell.execute_reply": "2025-07-30T13:50:10.287419Z"
    },
    "papermill": {
     "duration": 0.026605,
     "end_time": "2025-07-30T13:50:10.289828",
     "exception": false,
     "start_time": "2025-07-30T13:50:10.263223",
     "status": "completed"
    },
    "tags": []
   },
   "outputs": [
    {
     "data": {
      "text/plain": [
       "0.6599999999999999"
      ]
     },
     "execution_count": 52,
     "metadata": {},
     "output_type": "execute_result"
    }
   ],
   "source": [
    "q_hat"
   ]
  },
  {
   "cell_type": "code",
   "execution_count": 53,
   "id": "92460794-cdac-4be2-ba28-f28c0515a6fb",
   "metadata": {
    "execution": {
     "iopub.execute_input": "2025-07-30T13:50:10.319043Z",
     "iopub.status.busy": "2025-07-30T13:50:10.318542Z",
     "iopub.status.idle": "2025-07-30T13:50:11.816801Z",
     "shell.execute_reply": "2025-07-30T13:50:11.815716Z"
    },
    "papermill": {
     "duration": 1.514031,
     "end_time": "2025-07-30T13:50:11.818737",
     "exception": false,
     "start_time": "2025-07-30T13:50:10.304706",
     "status": "completed"
    },
    "tags": []
   },
   "outputs": [],
   "source": [
    "from fairness_multiverse.conformal import predict_conformal_sets\n",
    "\n",
    "# Generate prediction sets for each test example\n",
    "pred_sets = predict_conformal_sets(model, X_test, q_hat)"
   ]
  },
  {
   "cell_type": "code",
   "execution_count": 54,
   "id": "d90c9a65-e6db-4f5d-80cd-e68fb7e46829",
   "metadata": {
    "execution": {
     "iopub.execute_input": "2025-07-30T13:50:11.873235Z",
     "iopub.status.busy": "2025-07-30T13:50:11.872728Z",
     "iopub.status.idle": "2025-07-30T13:50:11.878702Z",
     "shell.execute_reply": "2025-07-30T13:50:11.877340Z"
    },
    "papermill": {
     "duration": 0.035178,
     "end_time": "2025-07-30T13:50:11.880616",
     "exception": false,
     "start_time": "2025-07-30T13:50:11.845438",
     "status": "completed"
    },
    "tags": []
   },
   "outputs": [],
   "source": [
    "y_true = y_true.squeeze()"
   ]
  },
  {
   "cell_type": "code",
   "execution_count": 55,
   "id": "3a58a54a-1e68-46b9-927a-df01f18aebc8",
   "metadata": {
    "execution": {
     "iopub.execute_input": "2025-07-30T13:50:11.934423Z",
     "iopub.status.busy": "2025-07-30T13:50:11.933727Z",
     "iopub.status.idle": "2025-07-30T13:50:12.861129Z",
     "shell.execute_reply": "2025-07-30T13:50:12.860279Z"
    },
    "papermill": {
     "duration": 0.954763,
     "end_time": "2025-07-30T13:50:12.863078",
     "exception": false,
     "start_time": "2025-07-30T13:50:11.908315",
     "status": "completed"
    },
    "tags": []
   },
   "outputs": [],
   "source": [
    "from fairness_multiverse.conformal import evaluate_sets\n",
    "\n",
    "# Evaluate coverage and average set size on test data\n",
    "metrics = evaluate_sets(pred_sets, y_true)"
   ]
  },
  {
   "cell_type": "markdown",
   "id": "2b569c12-9aaa-4c88-98c9-bbcd0cf3ebb8",
   "metadata": {
    "papermill": {
     "duration": 0.025426,
     "end_time": "2025-07-30T13:50:12.915599",
     "exception": false,
     "start_time": "2025-07-30T13:50:12.890173",
     "status": "completed"
    },
    "tags": []
   },
   "source": [
    "# CP Metrics"
   ]
  },
  {
   "cell_type": "code",
   "execution_count": 56,
   "id": "5ce0a5cb-201f-45a0-ade5-94c7f0bd6095",
   "metadata": {
    "execution": {
     "iopub.execute_input": "2025-07-30T13:50:12.966991Z",
     "iopub.status.busy": "2025-07-30T13:50:12.966298Z",
     "iopub.status.idle": "2025-07-30T13:50:12.973887Z",
     "shell.execute_reply": "2025-07-30T13:50:12.972939Z"
    },
    "papermill": {
     "duration": 0.03471,
     "end_time": "2025-07-30T13:50:12.975421",
     "exception": false,
     "start_time": "2025-07-30T13:50:12.940711",
     "status": "completed"
    },
    "tags": []
   },
   "outputs": [
    {
     "data": {
      "text/plain": [
       "{'coverage': 0.9103444432058856, 'avg_size': 1.1371641957418348}"
      ]
     },
     "execution_count": 56,
     "metadata": {},
     "output_type": "execute_result"
    }
   ],
   "source": [
    "metrics"
   ]
  },
  {
   "cell_type": "code",
   "execution_count": 57,
   "id": "9b9a838d-31c9-430b-ae14-12baee460d17",
   "metadata": {
    "execution": {
     "iopub.execute_input": "2025-07-30T13:50:13.026871Z",
     "iopub.status.busy": "2025-07-30T13:50:13.026173Z",
     "iopub.status.idle": "2025-07-30T13:50:13.032460Z",
     "shell.execute_reply": "2025-07-30T13:50:13.031509Z"
    },
    "papermill": {
     "duration": 0.033359,
     "end_time": "2025-07-30T13:50:13.033924",
     "exception": false,
     "start_time": "2025-07-30T13:50:13.000565",
     "status": "completed"
    },
    "tags": []
   },
   "outputs": [],
   "source": [
    "example_universe = universe.copy()\n",
    "universe_training_size = example_universe.get(\"training_size\")\n",
    "universe_scale = example_universe.get(\"scale\")\n",
    "universe_model = example_universe.get(\"model\")\n",
    "universe_exclude_features = example_universe.get(\"exclude_features\")\n",
    "universe_exclude_subgroups = example_universe.get(\"exclude_subgroups\")"
   ]
  },
  {
   "cell_type": "code",
   "execution_count": 58,
   "id": "f4b6a8ac-9dc0-4245-8a91-5b3b5999c4f9",
   "metadata": {
    "execution": {
     "iopub.execute_input": "2025-07-30T13:50:13.085359Z",
     "iopub.status.busy": "2025-07-30T13:50:13.084709Z",
     "iopub.status.idle": "2025-07-30T13:50:13.091148Z",
     "shell.execute_reply": "2025-07-30T13:50:13.090141Z"
    },
    "papermill": {
     "duration": 0.034174,
     "end_time": "2025-07-30T13:50:13.093056",
     "exception": false,
     "start_time": "2025-07-30T13:50:13.058882",
     "status": "completed"
    },
    "tags": []
   },
   "outputs": [],
   "source": [
    "cp_metrics_dict = {\n",
    "    \"universe_id\": [universe_id],\n",
    "    \"universe_training_size\": [universe_training_size],\n",
    "    \"universe_scale\": [universe_scale],\n",
    "    \"universe_model\": [universe_model],\n",
    "    \"universe_exclude_features\": [universe_exclude_features],\n",
    "    \"universe_exclude_subgroups\": [universe_exclude_subgroups],\n",
    "    \"q_hat\": [q_hat],\n",
    "    \"coverage\": [metrics[\"coverage\"]],\n",
    "    \"avg_size\": [metrics[\"avg_size\"]],\n",
    "}"
   ]
  },
  {
   "cell_type": "code",
   "execution_count": 59,
   "id": "908acbb1-0371-4915-85ca-3fa520d2efe2",
   "metadata": {
    "execution": {
     "iopub.execute_input": "2025-07-30T13:50:13.148229Z",
     "iopub.status.busy": "2025-07-30T13:50:13.147237Z",
     "iopub.status.idle": "2025-07-30T13:50:13.154815Z",
     "shell.execute_reply": "2025-07-30T13:50:13.153873Z"
    },
    "papermill": {
     "duration": 0.035992,
     "end_time": "2025-07-30T13:50:13.156624",
     "exception": false,
     "start_time": "2025-07-30T13:50:13.120632",
     "status": "completed"
    },
    "tags": []
   },
   "outputs": [
    {
     "data": {
      "text/plain": [
       "{'universe_id': ['9286b7b192415fda9384e2894511f027'],\n",
       " 'universe_training_size': ['5k'],\n",
       " 'universe_scale': ['do-not-scale'],\n",
       " 'universe_model': ['rf'],\n",
       " 'universe_exclude_features': ['age'],\n",
       " 'universe_exclude_subgroups': ['drop-non-german'],\n",
       " 'q_hat': [0.6599999999999999],\n",
       " 'coverage': [0.9103444432058856],\n",
       " 'avg_size': [1.1371641957418348]}"
      ]
     },
     "execution_count": 59,
     "metadata": {},
     "output_type": "execute_result"
    }
   ],
   "source": [
    "cp_metrics_dict"
   ]
  },
  {
   "cell_type": "code",
   "execution_count": 60,
   "id": "33007efc-14e9-4ec6-97ac-56a455c82265",
   "metadata": {
    "execution": {
     "iopub.execute_input": "2025-07-30T13:50:13.210769Z",
     "iopub.status.busy": "2025-07-30T13:50:13.210198Z",
     "iopub.status.idle": "2025-07-30T13:50:13.216842Z",
     "shell.execute_reply": "2025-07-30T13:50:13.215756Z"
    },
    "papermill": {
     "duration": 0.035087,
     "end_time": "2025-07-30T13:50:13.218572",
     "exception": false,
     "start_time": "2025-07-30T13:50:13.183485",
     "status": "completed"
    },
    "tags": []
   },
   "outputs": [],
   "source": [
    "cp_metrics_df = pd.DataFrame(cp_metrics_dict)"
   ]
  },
  {
   "cell_type": "code",
   "execution_count": 61,
   "id": "db12611b-57b2-4910-b9d0-355adfd6e7bf",
   "metadata": {
    "execution": {
     "iopub.execute_input": "2025-07-30T13:50:13.272903Z",
     "iopub.status.busy": "2025-07-30T13:50:13.272192Z",
     "iopub.status.idle": "2025-07-30T13:50:13.291037Z",
     "shell.execute_reply": "2025-07-30T13:50:13.289965Z"
    },
    "papermill": {
     "duration": 0.047813,
     "end_time": "2025-07-30T13:50:13.292785",
     "exception": false,
     "start_time": "2025-07-30T13:50:13.244972",
     "status": "completed"
    },
    "tags": []
   },
   "outputs": [
    {
     "data": {
      "text/html": [
       "<div>\n",
       "<style scoped>\n",
       "    .dataframe tbody tr th:only-of-type {\n",
       "        vertical-align: middle;\n",
       "    }\n",
       "\n",
       "    .dataframe tbody tr th {\n",
       "        vertical-align: top;\n",
       "    }\n",
       "\n",
       "    .dataframe thead th {\n",
       "        text-align: right;\n",
       "    }\n",
       "</style>\n",
       "<table border=\"1\" class=\"dataframe\">\n",
       "  <thead>\n",
       "    <tr style=\"text-align: right;\">\n",
       "      <th></th>\n",
       "      <th>universe_id</th>\n",
       "      <th>universe_training_size</th>\n",
       "      <th>universe_scale</th>\n",
       "      <th>universe_model</th>\n",
       "      <th>universe_exclude_features</th>\n",
       "      <th>universe_exclude_subgroups</th>\n",
       "      <th>q_hat</th>\n",
       "      <th>coverage</th>\n",
       "      <th>avg_size</th>\n",
       "    </tr>\n",
       "  </thead>\n",
       "  <tbody>\n",
       "    <tr>\n",
       "      <th>0</th>\n",
       "      <td>9286b7b192415fda9384e2894511f027</td>\n",
       "      <td>5k</td>\n",
       "      <td>do-not-scale</td>\n",
       "      <td>rf</td>\n",
       "      <td>age</td>\n",
       "      <td>drop-non-german</td>\n",
       "      <td>0.66</td>\n",
       "      <td>0.910344</td>\n",
       "      <td>1.137164</td>\n",
       "    </tr>\n",
       "  </tbody>\n",
       "</table>\n",
       "</div>"
      ],
      "text/plain": [
       "                        universe_id universe_training_size universe_scale  \\\n",
       "0  9286b7b192415fda9384e2894511f027                     5k   do-not-scale   \n",
       "\n",
       "  universe_model universe_exclude_features universe_exclude_subgroups  q_hat  \\\n",
       "0             rf                       age            drop-non-german   0.66   \n",
       "\n",
       "   coverage  avg_size  \n",
       "0  0.910344  1.137164  "
      ]
     },
     "execution_count": 61,
     "metadata": {},
     "output_type": "execute_result"
    }
   ],
   "source": [
    "cp_metrics_df"
   ]
  },
  {
   "cell_type": "code",
   "execution_count": 62,
   "id": "b7fbde55-a0a1-47e4-9af6-fe4a17fa8c61",
   "metadata": {
    "execution": {
     "iopub.execute_input": "2025-07-30T13:50:13.348655Z",
     "iopub.status.busy": "2025-07-30T13:50:13.347925Z",
     "iopub.status.idle": "2025-07-30T13:50:13.353856Z",
     "shell.execute_reply": "2025-07-30T13:50:13.352937Z"
    },
    "papermill": {
     "duration": 0.035779,
     "end_time": "2025-07-30T13:50:13.355578",
     "exception": false,
     "start_time": "2025-07-30T13:50:13.319799",
     "status": "completed"
    },
    "tags": []
   },
   "outputs": [],
   "source": [
    "# Conditional Coverage & looking at subgroups"
   ]
  },
  {
   "cell_type": "code",
   "execution_count": 63,
   "id": "027ae886-68dd-4141-96c7-805a5450e1ef",
   "metadata": {
    "execution": {
     "iopub.execute_input": "2025-07-30T13:50:13.425482Z",
     "iopub.status.busy": "2025-07-30T13:50:13.424942Z",
     "iopub.status.idle": "2025-07-30T13:50:13.691208Z",
     "shell.execute_reply": "2025-07-30T13:50:13.690317Z"
    },
    "papermill": {
     "duration": 0.307899,
     "end_time": "2025-07-30T13:50:13.692738",
     "exception": false,
     "start_time": "2025-07-30T13:50:13.384839",
     "status": "completed"
    },
    "tags": []
   },
   "outputs": [],
   "source": [
    "from fairness_multiverse.conformal import build_cp_groups\n",
    "\n",
    "cp_groups_df = build_cp_groups(pred_sets, y_true, X_test.index, org_test)\n",
    "#needs universe_id and setting"
   ]
  },
  {
   "cell_type": "code",
   "execution_count": 64,
   "id": "01d5802c-663a-4d1f-9d69-e036faaffbf7",
   "metadata": {
    "execution": {
     "iopub.execute_input": "2025-07-30T13:50:13.738145Z",
     "iopub.status.busy": "2025-07-30T13:50:13.737524Z",
     "iopub.status.idle": "2025-07-30T13:50:13.742332Z",
     "shell.execute_reply": "2025-07-30T13:50:13.741578Z"
    },
    "papermill": {
     "duration": 0.034888,
     "end_time": "2025-07-30T13:50:13.744233",
     "exception": false,
     "start_time": "2025-07-30T13:50:13.709345",
     "status": "completed"
    },
    "tags": []
   },
   "outputs": [],
   "source": [
    "#delete\n",
    "#cp_groups_df"
   ]
  },
  {
   "cell_type": "code",
   "execution_count": 65,
   "id": "fa424af1-d1eb-443d-b717-2d279ada8408",
   "metadata": {
    "execution": {
     "iopub.execute_input": "2025-07-30T13:50:13.801365Z",
     "iopub.status.busy": "2025-07-30T13:50:13.800877Z",
     "iopub.status.idle": "2025-07-30T13:50:13.806230Z",
     "shell.execute_reply": "2025-07-30T13:50:13.805280Z"
    },
    "papermill": {
     "duration": 0.035628,
     "end_time": "2025-07-30T13:50:13.808177",
     "exception": false,
     "start_time": "2025-07-30T13:50:13.772549",
     "status": "completed"
    },
    "tags": []
   },
   "outputs": [],
   "source": [
    "#delete\n",
    "#percentage = (cp_groups_df['nongerman_female'] == 1).mean() * 100\n",
    "#print(percentage)\n"
   ]
  },
  {
   "cell_type": "code",
   "execution_count": 66,
   "id": "6cbdab96-b2b2-45af-ad54-d0516db2e28d",
   "metadata": {
    "execution": {
     "iopub.execute_input": "2025-07-30T13:50:13.867188Z",
     "iopub.status.busy": "2025-07-30T13:50:13.866135Z",
     "iopub.status.idle": "2025-07-30T13:50:15.552125Z",
     "shell.execute_reply": "2025-07-30T13:50:15.550846Z"
    },
    "papermill": {
     "duration": 1.717966,
     "end_time": "2025-07-30T13:50:15.554190",
     "exception": false,
     "start_time": "2025-07-30T13:50:13.836224",
     "status": "completed"
    },
    "tags": []
   },
   "outputs": [],
   "source": [
    "# Define covered = 1 if true_label is in the predicted set\n",
    "cp_groups_df['covered'] = cp_groups_df.apply(\n",
    "    lambda r: int(r['true_label'] in r['pred_set']),\n",
    "    axis=1\n",
    ")"
   ]
  },
  {
   "cell_type": "code",
   "execution_count": 67,
   "id": "338ff529-1a6b-4b87-a931-8e4788d52aad",
   "metadata": {
    "execution": {
     "iopub.execute_input": "2025-07-30T13:50:15.626239Z",
     "iopub.status.busy": "2025-07-30T13:50:15.625398Z",
     "iopub.status.idle": "2025-07-30T13:50:15.631316Z",
     "shell.execute_reply": "2025-07-30T13:50:15.630065Z"
    },
    "papermill": {
     "duration": 0.033197,
     "end_time": "2025-07-30T13:50:15.633002",
     "exception": false,
     "start_time": "2025-07-30T13:50:15.599805",
     "status": "completed"
    },
    "tags": []
   },
   "outputs": [],
   "source": [
    "#cp_groups_df"
   ]
  },
  {
   "cell_type": "code",
   "execution_count": 68,
   "id": "90032e27-66df-4540-9169-4e89cfbaa758",
   "metadata": {
    "execution": {
     "iopub.execute_input": "2025-07-30T13:50:15.689527Z",
     "iopub.status.busy": "2025-07-30T13:50:15.688838Z",
     "iopub.status.idle": "2025-07-30T13:50:15.703685Z",
     "shell.execute_reply": "2025-07-30T13:50:15.700327Z"
    },
    "papermill": {
     "duration": 0.046048,
     "end_time": "2025-07-30T13:50:15.705714",
     "exception": false,
     "start_time": "2025-07-30T13:50:15.659666",
     "status": "completed"
    },
    "tags": []
   },
   "outputs": [],
   "source": [
    "subgroups = ['frau1','nongerman','nongerman_male','nongerman_female']\n",
    "\n",
    "# Conditional coverage for subgroup==1\n",
    "cond_coverage = {\n",
    "    g: cp_groups_df.loc[cp_groups_df[g]==1, 'covered'].mean()\n",
    "    for g in subgroups\n",
    "}"
   ]
  },
  {
   "cell_type": "code",
   "execution_count": 69,
   "id": "1e348fb1-b9c3-45bc-ba23-f016827a7e0d",
   "metadata": {
    "execution": {
     "iopub.execute_input": "2025-07-30T13:50:15.760229Z",
     "iopub.status.busy": "2025-07-30T13:50:15.759837Z",
     "iopub.status.idle": "2025-07-30T13:50:15.766072Z",
     "shell.execute_reply": "2025-07-30T13:50:15.765420Z"
    },
    "papermill": {
     "duration": 0.032174,
     "end_time": "2025-07-30T13:50:15.767419",
     "exception": false,
     "start_time": "2025-07-30T13:50:15.735245",
     "status": "completed"
    },
    "tags": []
   },
   "outputs": [
    {
     "data": {
      "text/plain": [
       "{'frau1': 0.9114166329694029,\n",
       " 'nongerman': 0.8963678212541403,\n",
       " 'nongerman_male': 0.902909123660272,\n",
       " 'nongerman_female': 0.8855439642324888}"
      ]
     },
     "execution_count": 69,
     "metadata": {},
     "output_type": "execute_result"
    }
   ],
   "source": [
    "cond_coverage"
   ]
  },
  {
   "cell_type": "code",
   "execution_count": 70,
   "id": "f5093324-c3dd-4d63-bc4c-8d945e5c8bbb",
   "metadata": {
    "execution": {
     "iopub.execute_input": "2025-07-30T13:50:15.802554Z",
     "iopub.status.busy": "2025-07-30T13:50:15.801440Z",
     "iopub.status.idle": "2025-07-30T13:50:15.813797Z",
     "shell.execute_reply": "2025-07-30T13:50:15.812775Z"
    },
    "papermill": {
     "duration": 0.032087,
     "end_time": "2025-07-30T13:50:15.815674",
     "exception": false,
     "start_time": "2025-07-30T13:50:15.783587",
     "status": "completed"
    },
    "tags": []
   },
   "outputs": [],
   "source": [
    "for subgroup, cov in cond_coverage.items():\n",
    "    cp_metrics_df[f\"cov_{subgroup}\"] = cov"
   ]
  },
  {
   "cell_type": "code",
   "execution_count": 71,
   "id": "6e872e10-dbe5-49e8-b554-5030c98ff75d",
   "metadata": {
    "execution": {
     "iopub.execute_input": "2025-07-30T13:50:15.883792Z",
     "iopub.status.busy": "2025-07-30T13:50:15.883264Z",
     "iopub.status.idle": "2025-07-30T13:50:15.902759Z",
     "shell.execute_reply": "2025-07-30T13:50:15.901785Z"
    },
    "papermill": {
     "duration": 0.055362,
     "end_time": "2025-07-30T13:50:15.904596",
     "exception": false,
     "start_time": "2025-07-30T13:50:15.849234",
     "status": "completed"
    },
    "tags": []
   },
   "outputs": [
    {
     "data": {
      "text/html": [
       "<div>\n",
       "<style scoped>\n",
       "    .dataframe tbody tr th:only-of-type {\n",
       "        vertical-align: middle;\n",
       "    }\n",
       "\n",
       "    .dataframe tbody tr th {\n",
       "        vertical-align: top;\n",
       "    }\n",
       "\n",
       "    .dataframe thead th {\n",
       "        text-align: right;\n",
       "    }\n",
       "</style>\n",
       "<table border=\"1\" class=\"dataframe\">\n",
       "  <thead>\n",
       "    <tr style=\"text-align: right;\">\n",
       "      <th></th>\n",
       "      <th>universe_id</th>\n",
       "      <th>universe_training_size</th>\n",
       "      <th>universe_scale</th>\n",
       "      <th>universe_model</th>\n",
       "      <th>universe_exclude_features</th>\n",
       "      <th>universe_exclude_subgroups</th>\n",
       "      <th>q_hat</th>\n",
       "      <th>coverage</th>\n",
       "      <th>avg_size</th>\n",
       "      <th>cov_frau1</th>\n",
       "      <th>cov_nongerman</th>\n",
       "      <th>cov_nongerman_male</th>\n",
       "      <th>cov_nongerman_female</th>\n",
       "    </tr>\n",
       "  </thead>\n",
       "  <tbody>\n",
       "    <tr>\n",
       "      <th>0</th>\n",
       "      <td>9286b7b192415fda9384e2894511f027</td>\n",
       "      <td>5k</td>\n",
       "      <td>do-not-scale</td>\n",
       "      <td>rf</td>\n",
       "      <td>age</td>\n",
       "      <td>drop-non-german</td>\n",
       "      <td>0.66</td>\n",
       "      <td>0.910344</td>\n",
       "      <td>1.137164</td>\n",
       "      <td>0.911417</td>\n",
       "      <td>0.896368</td>\n",
       "      <td>0.902909</td>\n",
       "      <td>0.885544</td>\n",
       "    </tr>\n",
       "  </tbody>\n",
       "</table>\n",
       "</div>"
      ],
      "text/plain": [
       "                        universe_id universe_training_size universe_scale  \\\n",
       "0  9286b7b192415fda9384e2894511f027                     5k   do-not-scale   \n",
       "\n",
       "  universe_model universe_exclude_features universe_exclude_subgroups  q_hat  \\\n",
       "0             rf                       age            drop-non-german   0.66   \n",
       "\n",
       "   coverage  avg_size  cov_frau1  cov_nongerman  cov_nongerman_male  \\\n",
       "0  0.910344  1.137164   0.911417       0.896368            0.902909   \n",
       "\n",
       "   cov_nongerman_female  \n",
       "0              0.885544  "
      ]
     },
     "execution_count": 71,
     "metadata": {},
     "output_type": "execute_result"
    }
   ],
   "source": [
    "cp_metrics_df"
   ]
  },
  {
   "cell_type": "markdown",
   "id": "33774451",
   "metadata": {
    "papermill": {
     "duration": 0.02967,
     "end_time": "2025-07-30T13:50:15.963387",
     "exception": false,
     "start_time": "2025-07-30T13:50:15.933717",
     "status": "completed"
    },
    "tags": []
   },
   "source": [
    "# (Fairness) Metrics"
   ]
  },
  {
   "cell_type": "code",
   "execution_count": 72,
   "id": "debc5d62",
   "metadata": {
    "execution": {
     "iopub.execute_input": "2025-07-30T13:50:16.009229Z",
     "iopub.status.busy": "2025-07-30T13:50:16.008749Z",
     "iopub.status.idle": "2025-07-30T13:50:16.030003Z",
     "shell.execute_reply": "2025-07-30T13:50:16.029003Z"
    },
    "papermill": {
     "duration": 0.040756,
     "end_time": "2025-07-30T13:50:16.031863",
     "exception": false,
     "start_time": "2025-07-30T13:50:15.991107",
     "status": "completed"
    },
    "tags": []
   },
   "outputs": [],
   "source": [
    "# do I need to include maxdeutsch1.missing?\n",
    "\n",
    "import numpy as np\n",
    "\n",
    "colname_to_bin = \"maxdeutsch1\"\n",
    "majority_value = org_train[colname_to_bin].mode()[0]\n",
    "\n",
    "org_test[\"majmin\"] = np.where(org_test[colname_to_bin] == majority_value, \"majority\", \"minority\")"
   ]
  },
  {
   "cell_type": "code",
   "execution_count": 73,
   "id": "06a50de5",
   "metadata": {
    "execution": {
     "iopub.execute_input": "2025-07-30T13:50:16.089759Z",
     "iopub.status.busy": "2025-07-30T13:50:16.088912Z",
     "iopub.status.idle": "2025-07-30T13:50:18.125214Z",
     "shell.execute_reply": "2025-07-30T13:50:18.124290Z"
    },
    "papermill": {
     "duration": 2.066701,
     "end_time": "2025-07-30T13:50:18.127120",
     "exception": false,
     "start_time": "2025-07-30T13:50:16.060419",
     "status": "completed"
    },
    "tags": []
   },
   "outputs": [],
   "source": [
    "example_universe = universe.copy()\n",
    "example_universe[\"cutoff\"] = example_universe[\"cutoff\"][0]\n",
    "example_universe[\"eval_fairness_grouping\"] = example_universe[\"eval_fairness_grouping\"][0]\n",
    "fairness_dict, metric_frame = universe_analysis.compute_metrics(\n",
    "    example_universe,\n",
    "    y_pred_prob=probs_test,\n",
    "    y_test=y_true,\n",
    "    org_test=org_test,\n",
    ")"
   ]
  },
  {
   "cell_type": "markdown",
   "id": "f95d4e02",
   "metadata": {
    "papermill": {
     "duration": 0.028395,
     "end_time": "2025-07-30T13:50:18.185115",
     "exception": false,
     "start_time": "2025-07-30T13:50:18.156720",
     "status": "completed"
    },
    "tags": []
   },
   "source": [
    "# Overall"
   ]
  },
  {
   "cell_type": "markdown",
   "id": "bdee4871",
   "metadata": {
    "papermill": {
     "duration": 0.027157,
     "end_time": "2025-07-30T13:50:18.239648",
     "exception": false,
     "start_time": "2025-07-30T13:50:18.212491",
     "status": "completed"
    },
    "tags": []
   },
   "source": [
    "Fairness\n",
    "Main fairness target: Equalized Odds. Seems to be a better fit than equal opportunity, since we're not only interested in Y = 1. Seems to be a better fit than demographic parity, since we also care about accuracy, not just equal distribution of preds.\n",
    "\n",
    "Pick column for computation of fairness metrics\n",
    "\n",
    "Performance\n",
    "Overall performance measures, most interesting in relation to the measures split by group below"
   ]
  },
  {
   "cell_type": "code",
   "execution_count": 74,
   "id": "c4e067c6",
   "metadata": {
    "execution": {
     "iopub.execute_input": "2025-07-30T13:50:18.296206Z",
     "iopub.status.busy": "2025-07-30T13:50:18.295713Z",
     "iopub.status.idle": "2025-07-30T13:50:18.305341Z",
     "shell.execute_reply": "2025-07-30T13:50:18.304307Z"
    },
    "papermill": {
     "duration": 0.040691,
     "end_time": "2025-07-30T13:50:18.306907",
     "exception": false,
     "start_time": "2025-07-30T13:50:18.266216",
     "status": "completed"
    },
    "tags": []
   },
   "outputs": [
    {
     "data": {
      "text/plain": [
       "accuracy                   0.198662\n",
       "balanced accuracy          0.532329\n",
       "f1                         0.239039\n",
       "precision                  0.136098\n",
       "false positive rate        0.916486\n",
       "false negative rate        0.018856\n",
       "selection rate             0.924780\n",
       "count                  89710.000000\n",
       "dtype: float64"
      ]
     },
     "execution_count": 74,
     "metadata": {},
     "output_type": "execute_result"
    }
   ],
   "source": [
    "metric_frame.overall"
   ]
  },
  {
   "cell_type": "markdown",
   "id": "e968fe9d",
   "metadata": {
    "papermill": {
     "duration": 0.027196,
     "end_time": "2025-07-30T13:50:18.362385",
     "exception": false,
     "start_time": "2025-07-30T13:50:18.335189",
     "status": "completed"
    },
    "tags": []
   },
   "source": [
    "By Group"
   ]
  },
  {
   "cell_type": "code",
   "execution_count": 75,
   "id": "ec325bce",
   "metadata": {
    "execution": {
     "iopub.execute_input": "2025-07-30T13:50:18.419907Z",
     "iopub.status.busy": "2025-07-30T13:50:18.419229Z",
     "iopub.status.idle": "2025-07-30T13:50:18.436080Z",
     "shell.execute_reply": "2025-07-30T13:50:18.435037Z"
    },
    "papermill": {
     "duration": 0.047718,
     "end_time": "2025-07-30T13:50:18.437684",
     "exception": false,
     "start_time": "2025-07-30T13:50:18.389966",
     "status": "completed"
    },
    "tags": []
   },
   "outputs": [
    {
     "data": {
      "text/html": [
       "<div>\n",
       "<style scoped>\n",
       "    .dataframe tbody tr th:only-of-type {\n",
       "        vertical-align: middle;\n",
       "    }\n",
       "\n",
       "    .dataframe tbody tr th {\n",
       "        vertical-align: top;\n",
       "    }\n",
       "\n",
       "    .dataframe thead th {\n",
       "        text-align: right;\n",
       "    }\n",
       "</style>\n",
       "<table border=\"1\" class=\"dataframe\">\n",
       "  <thead>\n",
       "    <tr style=\"text-align: right;\">\n",
       "      <th></th>\n",
       "      <th>accuracy</th>\n",
       "      <th>balanced accuracy</th>\n",
       "      <th>f1</th>\n",
       "      <th>precision</th>\n",
       "      <th>false positive rate</th>\n",
       "      <th>false negative rate</th>\n",
       "      <th>selection rate</th>\n",
       "      <th>count</th>\n",
       "    </tr>\n",
       "    <tr>\n",
       "      <th>majmin</th>\n",
       "      <th></th>\n",
       "      <th></th>\n",
       "      <th></th>\n",
       "      <th></th>\n",
       "      <th></th>\n",
       "      <th></th>\n",
       "      <th></th>\n",
       "      <th></th>\n",
       "    </tr>\n",
       "  </thead>\n",
       "  <tbody>\n",
       "    <tr>\n",
       "      <th>majority</th>\n",
       "      <td>0.197687</td>\n",
       "      <td>0.533452</td>\n",
       "      <td>0.245876</td>\n",
       "      <td>0.140372</td>\n",
       "      <td>0.922922</td>\n",
       "      <td>0.010175</td>\n",
       "      <td>0.931762</td>\n",
       "      <td>69170.0</td>\n",
       "    </tr>\n",
       "    <tr>\n",
       "      <th>minority</th>\n",
       "      <td>0.201947</td>\n",
       "      <td>0.526206</td>\n",
       "      <td>0.214943</td>\n",
       "      <td>0.121219</td>\n",
       "      <td>0.895223</td>\n",
       "      <td>0.052365</td>\n",
       "      <td>0.901266</td>\n",
       "      <td>20540.0</td>\n",
       "    </tr>\n",
       "  </tbody>\n",
       "</table>\n",
       "</div>"
      ],
      "text/plain": [
       "          accuracy  balanced accuracy        f1  precision  \\\n",
       "majmin                                                       \n",
       "majority  0.197687           0.533452  0.245876   0.140372   \n",
       "minority  0.201947           0.526206  0.214943   0.121219   \n",
       "\n",
       "          false positive rate  false negative rate  selection rate    count  \n",
       "majmin                                                                       \n",
       "majority             0.922922             0.010175        0.931762  69170.0  \n",
       "minority             0.895223             0.052365        0.901266  20540.0  "
      ]
     },
     "execution_count": 75,
     "metadata": {},
     "output_type": "execute_result"
    }
   ],
   "source": [
    "metric_frame.by_group"
   ]
  },
  {
   "cell_type": "code",
   "execution_count": 76,
   "id": "a9ddbe63",
   "metadata": {
    "execution": {
     "iopub.execute_input": "2025-07-30T13:50:18.496458Z",
     "iopub.status.busy": "2025-07-30T13:50:18.495700Z",
     "iopub.status.idle": "2025-07-30T13:50:20.835492Z",
     "shell.execute_reply": "2025-07-30T13:50:20.834603Z"
    },
    "papermill": {
     "duration": 2.369757,
     "end_time": "2025-07-30T13:50:20.837181",
     "exception": false,
     "start_time": "2025-07-30T13:50:18.467424",
     "status": "completed"
    },
    "tags": []
   },
   "outputs": [
    {
     "data": {
      "text/plain": [
       "array([[<Axes: title={'center': 'accuracy'}, xlabel='majmin'>,\n",
       "        <Axes: title={'center': 'balanced accuracy'}, xlabel='majmin'>,\n",
       "        <Axes: title={'center': 'f1'}, xlabel='majmin'>],\n",
       "       [<Axes: title={'center': 'precision'}, xlabel='majmin'>,\n",
       "        <Axes: title={'center': 'false positive rate'}, xlabel='majmin'>,\n",
       "        <Axes: title={'center': 'false negative rate'}, xlabel='majmin'>],\n",
       "       [<Axes: title={'center': 'selection rate'}, xlabel='majmin'>,\n",
       "        <Axes: title={'center': 'count'}, xlabel='majmin'>,\n",
       "        <Axes: xlabel='majmin'>]], dtype=object)"
      ]
     },
     "execution_count": 76,
     "metadata": {},
     "output_type": "execute_result"
    },
    {
     "data": {
      "image/png": "[encoded data removed]",
      "text/plain": [
       "<Figure size 1200x800 with 9 Axes>"
      ]
     },
     "metadata": {},
     "output_type": "display_data"
    }
   ],
   "source": [
    "# In a graphic\n",
    "metric_frame.by_group.plot.bar(\n",
    "    subplots=True,\n",
    "    layout=[3, 3],\n",
    "    legend=False,\n",
    "    figsize=[12, 8],\n",
    "    title=\"Show all metrics\",\n",
    ")"
   ]
  },
  {
   "cell_type": "markdown",
   "id": "f57a0bac",
   "metadata": {
    "papermill": {
     "duration": 0.028818,
     "end_time": "2025-07-30T13:50:20.895708",
     "exception": false,
     "start_time": "2025-07-30T13:50:20.866890",
     "status": "completed"
    },
    "tags": []
   },
   "source": [
    "# Final Output"
   ]
  },
  {
   "cell_type": "code",
   "execution_count": 77,
   "id": "96d280a3",
   "metadata": {
    "execution": {
     "iopub.execute_input": "2025-07-30T13:50:20.955513Z",
     "iopub.status.busy": "2025-07-30T13:50:20.954490Z",
     "iopub.status.idle": "2025-07-30T13:50:20.963554Z",
     "shell.execute_reply": "2025-07-30T13:50:20.962556Z"
    },
    "papermill": {
     "duration": 0.0411,
     "end_time": "2025-07-30T13:50:20.965214",
     "exception": false,
     "start_time": "2025-07-30T13:50:20.924114",
     "status": "completed"
    },
    "tags": []
   },
   "outputs": [
    {
     "data": {
      "text/plain": [
       "4"
      ]
     },
     "execution_count": 77,
     "metadata": {},
     "output_type": "execute_result"
    }
   ],
   "source": [
    "sub_universes = universe_analysis.generate_sub_universes()\n",
    "len(sub_universes)"
   ]
  },
  {
   "cell_type": "code",
   "execution_count": 78,
   "id": "92adf7ba",
   "metadata": {
    "execution": {
     "iopub.execute_input": "2025-07-30T13:50:21.014443Z",
     "iopub.status.busy": "2025-07-30T13:50:21.013894Z",
     "iopub.status.idle": "2025-07-30T13:50:21.019555Z",
     "shell.execute_reply": "2025-07-30T13:50:21.018716Z"
    },
    "papermill": {
     "duration": 0.026236,
     "end_time": "2025-07-30T13:50:21.020960",
     "exception": false,
     "start_time": "2025-07-30T13:50:20.994724",
     "status": "completed"
    },
    "tags": []
   },
   "outputs": [],
   "source": [
    "def filter_sub_universe_data(sub_universe, org_test):\n",
    "    # Keep all rows — no filtering\n",
    "    keep_rows_mask = np.ones(org_test.shape[0], dtype=bool)\n",
    "\n",
    "    print(f\"[INFO] Keeping all rows: {keep_rows_mask.sum()} rows retained.\")\n",
    "    return keep_rows_mask"
   ]
  },
  {
   "cell_type": "code",
   "execution_count": 79,
   "id": "4a759155",
   "metadata": {
    "execution": {
     "iopub.execute_input": "2025-07-30T13:50:21.054800Z",
     "iopub.status.busy": "2025-07-30T13:50:21.054509Z",
     "iopub.status.idle": "2025-07-30T13:50:32.037963Z",
     "shell.execute_reply": "2025-07-30T13:50:32.037008Z"
    },
    "papermill": {
     "duration": 11.001319,
     "end_time": "2025-07-30T13:50:32.039625",
     "exception": false,
     "start_time": "2025-07-30T13:50:21.038306",
     "status": "completed"
    },
    "tags": []
   },
   "outputs": [
    {
     "name": "stdout",
     "output_type": "stream",
     "text": [
      "Stopping execution_time clock.\n",
      "[INFO] Keeping all rows: 89710 rows retained.\n"
     ]
    },
    {
     "name": "stdout",
     "output_type": "stream",
     "text": [
      "[INFO] Keeping all rows: 89710 rows retained.\n"
     ]
    },
    {
     "name": "stdout",
     "output_type": "stream",
     "text": [
      "[INFO] Keeping all rows: 89710 rows retained.\n"
     ]
    },
    {
     "name": "stdout",
     "output_type": "stream",
     "text": [
      "[INFO] Keeping all rows: 89710 rows retained.\n"
     ]
    },
    {
     "data": {
      "text/html": [
       "<div>\n",
       "<style scoped>\n",
       "    .dataframe tbody tr th:only-of-type {\n",
       "        vertical-align: middle;\n",
       "    }\n",
       "\n",
       "    .dataframe tbody tr th {\n",
       "        vertical-align: top;\n",
       "    }\n",
       "\n",
       "    .dataframe thead th {\n",
       "        text-align: right;\n",
       "    }\n",
       "</style>\n",
       "<table border=\"1\" class=\"dataframe\">\n",
       "  <thead>\n",
       "    <tr style=\"text-align: right;\">\n",
       "      <th></th>\n",
       "      <th>run_no</th>\n",
       "      <th>universe_id</th>\n",
       "      <th>universe_settings</th>\n",
       "      <th>execution_time</th>\n",
       "      <th>test_size_n</th>\n",
       "      <th>test_size_frac</th>\n",
       "      <th>fair_main_equalized_odds_difference</th>\n",
       "      <th>fair_main_equalized_odds_ratio</th>\n",
       "      <th>fair_main_demographic_parity_difference</th>\n",
       "      <th>fair_main_demographic_parity_ratio</th>\n",
       "      <th>...</th>\n",
       "      <th>perf_grp_precision_0</th>\n",
       "      <th>perf_grp_precision_1</th>\n",
       "      <th>perf_grp_false positive rate_0</th>\n",
       "      <th>perf_grp_false positive rate_1</th>\n",
       "      <th>perf_grp_false negative rate_0</th>\n",
       "      <th>perf_grp_false negative rate_1</th>\n",
       "      <th>perf_grp_selection rate_0</th>\n",
       "      <th>perf_grp_selection rate_1</th>\n",
       "      <th>perf_grp_count_0</th>\n",
       "      <th>perf_grp_count_1</th>\n",
       "    </tr>\n",
       "  </thead>\n",
       "  <tbody>\n",
       "    <tr>\n",
       "      <th>0</th>\n",
       "      <td>12</td>\n",
       "      <td>9286b7b192415fda9384e2894511f027</td>\n",
       "      <td>{\"cutoff\": \"quantile_0.1\", \"eval_fairness_grou...</td>\n",
       "      <td>30.964035</td>\n",
       "      <td>89710</td>\n",
       "      <td>1.0</td>\n",
       "      <td>0.042190</td>\n",
       "      <td>0.957376</td>\n",
       "      <td>0.030497</td>\n",
       "      <td>0.96727</td>\n",
       "      <td>...</td>\n",
       "      <td>NaN</td>\n",
       "      <td>NaN</td>\n",
       "      <td>NaN</td>\n",
       "      <td>NaN</td>\n",
       "      <td>NaN</td>\n",
       "      <td>NaN</td>\n",
       "      <td>NaN</td>\n",
       "      <td>NaN</td>\n",
       "      <td>NaN</td>\n",
       "      <td>NaN</td>\n",
       "    </tr>\n",
       "    <tr>\n",
       "      <th>0</th>\n",
       "      <td>12</td>\n",
       "      <td>9286b7b192415fda9384e2894511f027</td>\n",
       "      <td>{\"cutoff\": \"quantile_0.1\", \"eval_fairness_grou...</td>\n",
       "      <td>30.964035</td>\n",
       "      <td>89710</td>\n",
       "      <td>1.0</td>\n",
       "      <td>0.042190</td>\n",
       "      <td>0.957376</td>\n",
       "      <td>0.030497</td>\n",
       "      <td>0.96727</td>\n",
       "      <td>...</td>\n",
       "      <td>0.121219</td>\n",
       "      <td>0.140372</td>\n",
       "      <td>0.895223</td>\n",
       "      <td>0.922922</td>\n",
       "      <td>0.052365</td>\n",
       "      <td>0.010175</td>\n",
       "      <td>0.901266</td>\n",
       "      <td>0.931762</td>\n",
       "      <td>20540.0</td>\n",
       "      <td>69170.0</td>\n",
       "    </tr>\n",
       "    <tr>\n",
       "      <th>0</th>\n",
       "      <td>12</td>\n",
       "      <td>9286b7b192415fda9384e2894511f027</td>\n",
       "      <td>{\"cutoff\": \"quantile_0.25\", \"eval_fairness_gro...</td>\n",
       "      <td>30.964035</td>\n",
       "      <td>89710</td>\n",
       "      <td>1.0</td>\n",
       "      <td>0.095605</td>\n",
       "      <td>0.898451</td>\n",
       "      <td>0.038707</td>\n",
       "      <td>0.94935</td>\n",
       "      <td>...</td>\n",
       "      <td>NaN</td>\n",
       "      <td>NaN</td>\n",
       "      <td>NaN</td>\n",
       "      <td>NaN</td>\n",
       "      <td>NaN</td>\n",
       "      <td>NaN</td>\n",
       "      <td>NaN</td>\n",
       "      <td>NaN</td>\n",
       "      <td>NaN</td>\n",
       "      <td>NaN</td>\n",
       "    </tr>\n",
       "    <tr>\n",
       "      <th>0</th>\n",
       "      <td>12</td>\n",
       "      <td>9286b7b192415fda9384e2894511f027</td>\n",
       "      <td>{\"cutoff\": \"quantile_0.25\", \"eval_fairness_gro...</td>\n",
       "      <td>30.964035</td>\n",
       "      <td>89710</td>\n",
       "      <td>1.0</td>\n",
       "      <td>0.095605</td>\n",
       "      <td>0.898451</td>\n",
       "      <td>0.038707</td>\n",
       "      <td>0.94935</td>\n",
       "      <td>...</td>\n",
       "      <td>0.134411</td>\n",
       "      <td>0.162785</td>\n",
       "      <td>0.709828</td>\n",
       "      <td>0.737231</td>\n",
       "      <td>0.154139</td>\n",
       "      <td>0.058534</td>\n",
       "      <td>0.725511</td>\n",
       "      <td>0.764219</td>\n",
       "      <td>20540.0</td>\n",
       "      <td>69170.0</td>\n",
       "    </tr>\n",
       "  </tbody>\n",
       "</table>\n",
       "<p>4 rows × 50 columns</p>\n",
       "</div>"
      ],
      "text/plain": [
       "  run_no                       universe_id  \\\n",
       "0     12  9286b7b192415fda9384e2894511f027   \n",
       "0     12  9286b7b192415fda9384e2894511f027   \n",
       "0     12  9286b7b192415fda9384e2894511f027   \n",
       "0     12  9286b7b192415fda9384e2894511f027   \n",
       "\n",
       "                                   universe_settings  execution_time  \\\n",
       "0  {\"cutoff\": \"quantile_0.1\", \"eval_fairness_grou...       30.964035   \n",
       "0  {\"cutoff\": \"quantile_0.1\", \"eval_fairness_grou...       30.964035   \n",
       "0  {\"cutoff\": \"quantile_0.25\", \"eval_fairness_gro...       30.964035   \n",
       "0  {\"cutoff\": \"quantile_0.25\", \"eval_fairness_gro...       30.964035   \n",
       "\n",
       "   test_size_n  test_size_frac  fair_main_equalized_odds_difference  \\\n",
       "0        89710             1.0                             0.042190   \n",
       "0        89710             1.0                             0.042190   \n",
       "0        89710             1.0                             0.095605   \n",
       "0        89710             1.0                             0.095605   \n",
       "\n",
       "   fair_main_equalized_odds_ratio  fair_main_demographic_parity_difference  \\\n",
       "0                        0.957376                                 0.030497   \n",
       "0                        0.957376                                 0.030497   \n",
       "0                        0.898451                                 0.038707   \n",
       "0                        0.898451                                 0.038707   \n",
       "\n",
       "   fair_main_demographic_parity_ratio  ...  perf_grp_precision_0  \\\n",
       "0                             0.96727  ...                   NaN   \n",
       "0                             0.96727  ...              0.121219   \n",
       "0                             0.94935  ...                   NaN   \n",
       "0                             0.94935  ...              0.134411   \n",
       "\n",
       "   perf_grp_precision_1  perf_grp_false positive rate_0  \\\n",
       "0                   NaN                             NaN   \n",
       "0              0.140372                        0.895223   \n",
       "0                   NaN                             NaN   \n",
       "0              0.162785                        0.709828   \n",
       "\n",
       "   perf_grp_false positive rate_1  perf_grp_false negative rate_0  \\\n",
       "0                             NaN                             NaN   \n",
       "0                        0.922922                        0.052365   \n",
       "0                             NaN                             NaN   \n",
       "0                        0.737231                        0.154139   \n",
       "\n",
       "   perf_grp_false negative rate_1  perf_grp_selection rate_0  \\\n",
       "0                             NaN                        NaN   \n",
       "0                        0.010175                   0.901266   \n",
       "0                             NaN                        NaN   \n",
       "0                        0.058534                   0.725511   \n",
       "\n",
       "   perf_grp_selection rate_1  perf_grp_count_0  perf_grp_count_1  \n",
       "0                        NaN               NaN               NaN  \n",
       "0                   0.931762           20540.0           69170.0  \n",
       "0                        NaN               NaN               NaN  \n",
       "0                   0.764219           20540.0           69170.0  \n",
       "\n",
       "[4 rows x 50 columns]"
      ]
     },
     "execution_count": 79,
     "metadata": {},
     "output_type": "execute_result"
    }
   ],
   "source": [
    "final_output = universe_analysis.generate_final_output(\n",
    "    y_pred_prob=probs_test,\n",
    "    y_test=y_true,\n",
    "    org_test=org_test,\n",
    "    filter_data=filter_sub_universe_data,\n",
    "    cp_metrics_df=cp_metrics_df,\n",
    "    save=True,\n",
    ")\n",
    "final_output"
   ]
  },
  {
   "cell_type": "code",
   "execution_count": null,
   "id": "721ff514-cb11-46f8-b6fc-50392f74b5cb",
   "metadata": {
    "papermill": {
     "duration": 0.029638,
     "end_time": "2025-07-30T13:50:32.102281",
     "exception": false,
     "start_time": "2025-07-30T13:50:32.072643",
     "status": "completed"
    },
    "tags": []
   },
   "outputs": [],
   "source": []
  }
 ],
 "metadata": {
  "celltoolbar": "Tags",
  "kernelspec": {
   "display_name": "Python (CMA Fairness)",
   "language": "python",
   "name": "cma_fair_env"
  },
  "language_info": {
   "codemirror_mode": {
    "name": "ipython",
    "version": 3
   },
   "file_extension": ".py",
   "mimetype": "text/x-python",
   "name": "python",
   "nbconvert_exporter": "python",
   "pygments_lexer": "ipython3",
   "version": "3.10.12"
  },
  "papermill": {
   "default_parameters": {},
   "duration": 47.61282,
   "end_time": "2025-07-30T13:50:32.850645",
   "environment_variables": {},
   "exception": null,
   "input_path": "universe_analysis.ipynb",
   "output_path": "output/runs/12/notebooks/m_12-9286b7b192415fda9384e2894511f027.ipynb",
   "parameters": {
    "output_dir": "output",
    "run_no": "12",
    "seed": "2023",
    "universe": "{\"cutoff\": [\"quantile_0.1\", \"quantile_0.25\"], \"eval_fairness_grouping\": [\"majority-minority\", \"nationality-all\"], \"exclude_features\": \"age\", \"exclude_subgroups\": \"drop-non-german\", \"model\": \"rf\", \"scale\": \"do-not-scale\", \"training_size\": \"5k\", \"training_year\": \"2014\"}",
    "universe_id": "9286b7b192415fda9384e2894511f027"
   },
   "start_time": "2025-07-30T13:49:45.237825",
   "version": "2.6.0"
  }
 },
 "nbformat": 4,
 "nbformat_minor": 5
}