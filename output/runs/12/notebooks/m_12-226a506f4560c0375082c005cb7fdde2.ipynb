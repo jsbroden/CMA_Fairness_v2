{
 "cells": [
  {
   "cell_type": "code",
   "execution_count": 1,
   "id": "f159f837-637b-42ba-96b5-ec9a68c44524",
   "metadata": {
    "execution": {
     "iopub.execute_input": "2025-07-30T13:17:12.330112Z",
     "iopub.status.busy": "2025-07-30T13:17:12.329483Z",
     "iopub.status.idle": "2025-07-30T13:17:12.342713Z",
     "shell.execute_reply": "2025-07-30T13:17:12.341747Z"
    },
    "papermill": {
     "duration": 0.034291,
     "end_time": "2025-07-30T13:17:12.344373",
     "exception": false,
     "start_time": "2025-07-30T13:17:12.310082",
     "status": "completed"
    },
    "tags": []
   },
   "outputs": [
    {
     "name": "stdout",
     "output_type": "stream",
     "text": [
      "/dss/dsshome1/0C/ra93lal2/cma/CMA_Fairness_v2\n"
     ]
    },
    {
     "name": "stderr",
     "output_type": "stream",
     "text": [
      "/dss/dsshome1/0C/ra93lal2/.local/share/virtualenvs/CMA_Fairness_v2-3j10GkSs/lib/python3.10/site-packages/IPython/core/magics/osm.py:393: UserWarning: This is now an optional IPython functionality, using bookmarks requires you to install the `pickleshare` library.\n",
      "  bkms = self.shell.db.get('bookmarks', {})\n",
      "/dss/dsshome1/0C/ra93lal2/.local/share/virtualenvs/CMA_Fairness_v2-3j10GkSs/lib/python3.10/site-packages/IPython/core/magics/osm.py:417: UserWarning: This is now an optional IPython functionality, setting dhist requires you to install the `pickleshare` library.\n",
      "  self.shell.db['dhist'] = compress_dhist(dhist)[-100:]\n"
     ]
    }
   ],
   "source": [
    "%cd ~/cma/CMA_Fairness_v2"
   ]
  },
  {
   "cell_type": "markdown",
   "id": "de2603b9",
   "metadata": {
    "papermill": {
     "duration": 0.017869,
     "end_time": "2025-07-30T13:17:12.381110",
     "exception": false,
     "start_time": "2025-07-30T13:17:12.363241",
     "status": "completed"
    },
    "tags": []
   },
   "source": [
    "The following cell holds the definition of our parameters, these values can be overriden by rendering the with e.g. the following command:\n",
    "\n",
    "papermill -p alpha 0.2 -p ratio 0.3 universe_analysis.ipynb output/test_run.ipynb"
   ]
  },
  {
   "cell_type": "code",
   "execution_count": 2,
   "id": "a80968a0-40bb-4fa9-85ef-2d5eefb01975",
   "metadata": {
    "execution": {
     "iopub.execute_input": "2025-07-30T13:17:12.418422Z",
     "iopub.status.busy": "2025-07-30T13:17:12.417777Z",
     "iopub.status.idle": "2025-07-30T13:17:12.423438Z",
     "shell.execute_reply": "2025-07-30T13:17:12.422540Z"
    },
    "papermill": {
     "duration": 0.026255,
     "end_time": "2025-07-30T13:17:12.425127",
     "exception": false,
     "start_time": "2025-07-30T13:17:12.398872",
     "status": "completed"
    },
    "tags": []
   },
   "outputs": [
    {
     "name": "stdout",
     "output_type": "stream",
     "text": [
      "Current working directory: /dss/dsshome1/0C/ra93lal2/cma/CMA_Fairness_v2\n"
     ]
    }
   ],
   "source": [
    "import os\n",
    "print(\"Current working directory:\", os.getcwd())"
   ]
  },
  {
   "cell_type": "code",
   "execution_count": 3,
   "id": "2dce4c03",
   "metadata": {
    "execution": {
     "iopub.execute_input": "2025-07-30T13:17:12.463478Z",
     "iopub.status.busy": "2025-07-30T13:17:12.462853Z",
     "iopub.status.idle": "2025-07-30T13:17:12.470139Z",
     "shell.execute_reply": "2025-07-30T13:17:12.469153Z"
    },
    "papermill": {
     "duration": 0.028061,
     "end_time": "2025-07-30T13:17:12.471875",
     "exception": false,
     "start_time": "2025-07-30T13:17:12.443814",
     "status": "completed"
    },
    "tags": [
     "parameters"
    ]
   },
   "outputs": [],
   "source": [
    "run_no = 0\n",
    "universe_id = \"test\"\n",
    "universe = {\n",
    "    \"training_size\": \"25k\", # \"25k\", \"5k\", \"1k\"\n",
    "    \"training_year\": \"2014\", # \"2014\", \"2012_14\", \"2010_14\"\n",
    "    \"scale\": \"scale\", # \"scale\", \"do-not-scale\",\n",
    "    #\"stratify_split\": \"target\", # \"none\", \"target\", \"protected-attribute\", \"both\",\n",
    "    \"model\": \"elasticnet\", # \"logreg\", \"penalized_logreg\", \"rf\", \"gbm\", \"elasticnet\"\n",
    "    \"cutoff\": [\"quantile_0.15\", \"quantile_0.30\"],\n",
    "    \"exclude_features\": \"age\", # \"none\", \"nationality\", \"sex\", \"nationality-sex\", \"age\"\n",
    "    \"exclude_subgroups\": \"keep-all\", # \"keep-all\", \"drop-non-german\"\n",
    "    \"eval_fairness_grouping\": [\"majority-minority\", \"nationality-all\"]\n",
    "}\n",
    "\n",
    "output_dir=\"./output\"\n",
    "seed=0"
   ]
  },
  {
   "cell_type": "code",
   "execution_count": 4,
   "id": "aef8005c",
   "metadata": {
    "execution": {
     "iopub.execute_input": "2025-07-30T13:17:12.511705Z",
     "iopub.status.busy": "2025-07-30T13:17:12.511085Z",
     "iopub.status.idle": "2025-07-30T13:17:12.516399Z",
     "shell.execute_reply": "2025-07-30T13:17:12.515351Z"
    },
    "papermill": {
     "duration": 0.026571,
     "end_time": "2025-07-30T13:17:12.518059",
     "exception": false,
     "start_time": "2025-07-30T13:17:12.491488",
     "status": "completed"
    },
    "tags": [
     "injected-parameters"
    ]
   },
   "outputs": [],
   "source": [
    "# Parameters\n",
    "universe_id = \"226a506f4560c0375082c005cb7fdde2\"\n",
    "run_no = \"12\"\n",
    "universe = \"{\\\"cutoff\\\": [\\\"quantile_0.1\\\", \\\"quantile_0.25\\\"], \\\"eval_fairness_grouping\\\": [\\\"majority-minority\\\", \\\"nationality-all\\\"], \\\"exclude_features\\\": \\\"sex\\\", \\\"exclude_subgroups\\\": \\\"drop-non-german\\\", \\\"model\\\": \\\"elasticnet\\\", \\\"scale\\\": \\\"do-not-scale\\\", \\\"training_size\\\": \\\"25k\\\", \\\"training_year\\\": \\\"2012_14\\\"}\"\n",
    "output_dir = \"output\"\n",
    "seed = \"2023\"\n"
   ]
  },
  {
   "cell_type": "code",
   "execution_count": 5,
   "id": "1650acaf",
   "metadata": {
    "execution": {
     "iopub.execute_input": "2025-07-30T13:17:12.557033Z",
     "iopub.status.busy": "2025-07-30T13:17:12.556415Z",
     "iopub.status.idle": "2025-07-30T13:17:12.561312Z",
     "shell.execute_reply": "2025-07-30T13:17:12.560306Z"
    },
    "papermill": {
     "duration": 0.025554,
     "end_time": "2025-07-30T13:17:12.562794",
     "exception": false,
     "start_time": "2025-07-30T13:17:12.537240",
     "status": "completed"
    },
    "tags": []
   },
   "outputs": [],
   "source": [
    "import json\n",
    "# Parse universe into dict if it is passed as a string\n",
    "if isinstance(universe, str):\n",
    "    universe = json.loads(universe)"
   ]
  },
  {
   "cell_type": "code",
   "execution_count": 6,
   "id": "16620c48",
   "metadata": {
    "execution": {
     "iopub.execute_input": "2025-07-30T13:17:12.602186Z",
     "iopub.status.busy": "2025-07-30T13:17:12.601350Z",
     "iopub.status.idle": "2025-07-30T13:17:12.643778Z",
     "shell.execute_reply": "2025-07-30T13:17:12.642957Z"
    },
    "papermill": {
     "duration": 0.06319,
     "end_time": "2025-07-30T13:17:12.645549",
     "exception": false,
     "start_time": "2025-07-30T13:17:12.582359",
     "status": "completed"
    },
    "tags": []
   },
   "outputs": [],
   "source": [
    "# Auto-reload the custom package\n",
    "%load_ext autoreload\n",
    "%autoreload 1\n",
    "%aimport fairness_multiverse"
   ]
  },
  {
   "cell_type": "code",
   "execution_count": 7,
   "id": "01c5c9f3",
   "metadata": {
    "execution": {
     "iopub.execute_input": "2025-07-30T13:17:12.684466Z",
     "iopub.status.busy": "2025-07-30T13:17:12.683795Z",
     "iopub.status.idle": "2025-07-30T13:17:14.535792Z",
     "shell.execute_reply": "2025-07-30T13:17:14.534849Z"
    },
    "papermill": {
     "duration": 1.872941,
     "end_time": "2025-07-30T13:17:14.537616",
     "exception": false,
     "start_time": "2025-07-30T13:17:12.664675",
     "status": "completed"
    },
    "tags": []
   },
   "outputs": [],
   "source": [
    "from fairness_multiverse.universe import UniverseAnalysis\n",
    "\n",
    "universe_analysis = UniverseAnalysis(\n",
    "    run_no = run_no,\n",
    "    universe_id = universe_id,\n",
    "    universe = universe,\n",
    "    output_dir=output_dir,\n",
    ")"
   ]
  },
  {
   "cell_type": "code",
   "execution_count": 8,
   "id": "106241f5",
   "metadata": {
    "execution": {
     "iopub.execute_input": "2025-07-30T13:17:14.576840Z",
     "iopub.status.busy": "2025-07-30T13:17:14.575904Z",
     "iopub.status.idle": "2025-07-30T13:17:14.582882Z",
     "shell.execute_reply": "2025-07-30T13:17:14.581899Z"
    },
    "papermill": {
     "duration": 0.027906,
     "end_time": "2025-07-30T13:17:14.584436",
     "exception": false,
     "start_time": "2025-07-30T13:17:14.556530",
     "status": "completed"
    },
    "tags": []
   },
   "outputs": [
    {
     "name": "stdout",
     "output_type": "stream",
     "text": [
      "Using Seed: 2023\n"
     ]
    }
   ],
   "source": [
    "import numpy as np\n",
    "parsed_seed = int(seed)\n",
    "np.random.seed(parsed_seed)\n",
    "print(f\"Using Seed: {parsed_seed}\")"
   ]
  },
  {
   "cell_type": "markdown",
   "id": "e0ebdc57",
   "metadata": {
    "papermill": {
     "duration": 0.018253,
     "end_time": "2025-07-30T13:17:14.622051",
     "exception": false,
     "start_time": "2025-07-30T13:17:14.603798",
     "status": "completed"
    },
    "tags": []
   },
   "source": [
    "# Loading Data"
   ]
  },
  {
   "cell_type": "markdown",
   "id": "681925a3",
   "metadata": {
    "papermill": {
     "duration": 0.018322,
     "end_time": "2025-07-30T13:17:14.658844",
     "exception": false,
     "start_time": "2025-07-30T13:17:14.640522",
     "status": "completed"
    },
    "tags": []
   },
   "source": [
    "Load siab_train, siab_test, siab_calib and/or \n",
    "load siab_train_features, siab_train_labels"
   ]
  },
  {
   "cell_type": "code",
   "execution_count": 9,
   "id": "f0496b8a",
   "metadata": {
    "execution": {
     "iopub.execute_input": "2025-07-30T13:17:14.697386Z",
     "iopub.status.busy": "2025-07-30T13:17:14.696743Z",
     "iopub.status.idle": "2025-07-30T13:17:26.653644Z",
     "shell.execute_reply": "2025-07-30T13:17:26.652594Z"
    },
    "papermill": {
     "duration": 11.977934,
     "end_time": "2025-07-30T13:17:26.655240",
     "exception": false,
     "start_time": "2025-07-30T13:17:14.677306",
     "status": "completed"
    },
    "tags": []
   },
   "outputs": [
    {
     "name": "stdout",
     "output_type": "stream",
     "text": [
      "Loading SIAB data from cache: data/siab_cached.csv.gz\n"
     ]
    },
    {
     "name": "stdout",
     "output_type": "stream",
     "text": [
      "(643690, 164)\n"
     ]
    }
   ],
   "source": [
    "from pathlib import Path\n",
    "import pandas as pd\n",
    "\n",
    "# File paths\n",
    "raw_file = Path(\"data/raw/siab.csv\")\n",
    "cache_file = Path(\"data/siab_cached.csv.gz\")\n",
    "\n",
    "# Ensure cache directory exists\n",
    "cache_file.parent.mkdir(parents=True, exist_ok=True)\n",
    "\n",
    "# Load with simple caching\n",
    "if cache_file.exists():\n",
    "    print(f\"Loading SIAB data from cache: {cache_file}\")\n",
    "    siab = pd.read_csv(cache_file, compression='gzip')\n",
    "else:\n",
    "    print(f\"Cache not found. Reading raw SIAB data: {raw_file}\")\n",
    "    siab = pd.read_csv(raw_file)\n",
    "    siab.to_csv(cache_file, index=False, compression='gzip')\n",
    "    print(f\"Cached SIAB data to: {cache_file}\")\n",
    "\n",
    "# Now use `siab` DataFrame as needed\n",
    "print(siab.shape)"
   ]
  },
  {
   "cell_type": "code",
   "execution_count": 10,
   "id": "db0ca512-5f53-4dba-abdb-a2888bca41ba",
   "metadata": {
    "execution": {
     "iopub.execute_input": "2025-07-30T13:17:26.697562Z",
     "iopub.status.busy": "2025-07-30T13:17:26.696840Z",
     "iopub.status.idle": "2025-07-30T13:17:26.702448Z",
     "shell.execute_reply": "2025-07-30T13:17:26.701482Z"
    },
    "papermill": {
     "duration": 0.02759,
     "end_time": "2025-07-30T13:17:26.704268",
     "exception": false,
     "start_time": "2025-07-30T13:17:26.676678",
     "status": "completed"
    },
    "tags": []
   },
   "outputs": [],
   "source": [
    "#siab"
   ]
  },
  {
   "cell_type": "code",
   "execution_count": 11,
   "id": "a0edb063",
   "metadata": {
    "execution": {
     "iopub.execute_input": "2025-07-30T13:17:26.744761Z",
     "iopub.status.busy": "2025-07-30T13:17:26.744098Z",
     "iopub.status.idle": "2025-07-30T13:17:26.749084Z",
     "shell.execute_reply": "2025-07-30T13:17:26.748087Z"
    },
    "papermill": {
     "duration": 0.026338,
     "end_time": "2025-07-30T13:17:26.750541",
     "exception": false,
     "start_time": "2025-07-30T13:17:26.724203",
     "status": "completed"
    },
    "tags": []
   },
   "outputs": [],
   "source": [
    "#import pandas as pd\n",
    "#\n",
    "#X_train = pd.read_csv(\"./data/X_train.csv\")\n",
    "#y_train = pd.read_csv(\"./data/y_train.csv\")"
   ]
  },
  {
   "cell_type": "code",
   "execution_count": 12,
   "id": "63d08085",
   "metadata": {
    "execution": {
     "iopub.execute_input": "2025-07-30T13:17:26.790724Z",
     "iopub.status.busy": "2025-07-30T13:17:26.790081Z",
     "iopub.status.idle": "2025-07-30T13:17:26.794993Z",
     "shell.execute_reply": "2025-07-30T13:17:26.793998Z"
    },
    "papermill": {
     "duration": 0.026562,
     "end_time": "2025-07-30T13:17:26.796782",
     "exception": false,
     "start_time": "2025-07-30T13:17:26.770220",
     "status": "completed"
    },
    "tags": []
   },
   "outputs": [],
   "source": [
    "#X_test = pd.read_csv(\"./data/X_test.csv\")\n",
    "#y_true = pd.read_csv(\"./data/y_test.csv\")"
   ]
  },
  {
   "cell_type": "code",
   "execution_count": 13,
   "id": "98a8d0fa-1d3d-4ed8-bb2c-281470e24add",
   "metadata": {
    "execution": {
     "iopub.execute_input": "2025-07-30T13:17:26.837445Z",
     "iopub.status.busy": "2025-07-30T13:17:26.836800Z",
     "iopub.status.idle": "2025-07-30T13:17:26.841796Z",
     "shell.execute_reply": "2025-07-30T13:17:26.840847Z"
    },
    "papermill": {
     "duration": 0.026589,
     "end_time": "2025-07-30T13:17:26.843442",
     "exception": false,
     "start_time": "2025-07-30T13:17:26.816853",
     "status": "completed"
    },
    "tags": []
   },
   "outputs": [],
   "source": [
    "# Calibration data for conformal\n",
    "#X_calib = pd.read_csv(\"./data/X_calib.csv\")\n",
    "#y_calib = pd.read_csv(\"./data/y_calib.csv\")"
   ]
  },
  {
   "cell_type": "markdown",
   "id": "997051c5-15bd-4b69-9786-c3001a3ce484",
   "metadata": {
    "papermill": {
     "duration": 0.018684,
     "end_time": "2025-07-30T13:17:26.881836",
     "exception": false,
     "start_time": "2025-07-30T13:17:26.863152",
     "status": "completed"
    },
    "tags": []
   },
   "source": [
    "# Splitting Data and Setting Training Data Size"
   ]
  },
  {
   "cell_type": "code",
   "execution_count": 14,
   "id": "e993b61f-042d-41a6-8c81-f55681f86335",
   "metadata": {
    "execution": {
     "iopub.execute_input": "2025-07-30T13:17:26.921216Z",
     "iopub.status.busy": "2025-07-30T13:17:26.920761Z",
     "iopub.status.idle": "2025-07-30T13:17:26.933429Z",
     "shell.execute_reply": "2025-07-30T13:17:26.932460Z"
    },
    "papermill": {
     "duration": 0.034282,
     "end_time": "2025-07-30T13:17:26.934960",
     "exception": false,
     "start_time": "2025-07-30T13:17:26.900678",
     "status": "completed"
    },
    "tags": []
   },
   "outputs": [],
   "source": [
    "def sample_by_year_size(df,\n",
    "                        training_year: str,\n",
    "                        training_size: str,\n",
    "                        random_state: int = 42):\n",
    "    # --- parse training_year into a list of int years ---\n",
    "    if \"_\" in training_year:\n",
    "        start_str, end_str = training_year.split(\"_\", 1)\n",
    "        start = int(start_str)\n",
    "        end   = int(end_str) if len(end_str) == 4 else (int(end_str) + (start // 100)*100)\n",
    "        years = list(range(start, end + 1))\n",
    "    else:\n",
    "        years = [int(training_year)]\n",
    "\n",
    "    df = df[df[\"year\"].isin(years)].reset_index(drop=True)\n",
    "\n",
    "    # --- map training_size to total number of samples ---\n",
    "    total_map = {\"25k\": 25_000, \"5k\": 5_000, \"1k\": 1_000}\n",
    "    if training_size not in total_map:\n",
    "        return df  # e.g. \"all\"\n",
    "\n",
    "    total_samples = total_map[training_size]\n",
    "    n_years       = len(years)\n",
    "    base          = total_samples // n_years\n",
    "    remainder     = total_samples % n_years\n",
    "\n",
    "    # --- build a dict: year -> how many to sample ---\n",
    "    # give +1 to the first `remainder` years in ascending order\n",
    "    quotas = {\n",
    "        year: base + (1 if idx < remainder else 0)\n",
    "        for idx, year in enumerate(sorted(years))\n",
    "    }\n",
    "\n",
    "    # --- sample per‐year according to the quota dict ---\n",
    "    sampled = (\n",
    "        df\n",
    "        .groupby(\"year\", group_keys=False)\n",
    "        .apply(lambda grp: grp.sample(\n",
    "            n=min(len(grp), quotas[grp.name]),\n",
    "            random_state=random_state))\n",
    "        .reset_index(drop=True)\n",
    "    )\n",
    "\n",
    "    return sampled"
   ]
  },
  {
   "cell_type": "code",
   "execution_count": 15,
   "id": "c0ccd338-0e02-41f3-a09d-f56f9266e3fb",
   "metadata": {
    "execution": {
     "iopub.execute_input": "2025-07-30T13:17:26.975971Z",
     "iopub.status.busy": "2025-07-30T13:17:26.975326Z",
     "iopub.status.idle": "2025-07-30T13:17:26.986181Z",
     "shell.execute_reply": "2025-07-30T13:17:26.985294Z"
    },
    "papermill": {
     "duration": 0.032364,
     "end_time": "2025-07-30T13:17:26.987708",
     "exception": false,
     "start_time": "2025-07-30T13:17:26.955344",
     "status": "completed"
    },
    "tags": []
   },
   "outputs": [
    {
     "data": {
      "text/plain": [
       "'25k'"
      ]
     },
     "execution_count": 15,
     "metadata": {},
     "output_type": "execute_result"
    }
   ],
   "source": [
    "universe[\"training_size\"]"
   ]
  },
  {
   "cell_type": "code",
   "execution_count": 16,
   "id": "ca707fd7-8047-4acd-bfa5-66248fbbf8e6",
   "metadata": {
    "execution": {
     "iopub.execute_input": "2025-07-30T13:17:27.028427Z",
     "iopub.status.busy": "2025-07-30T13:17:27.027775Z",
     "iopub.status.idle": "2025-07-30T13:17:27.034838Z",
     "shell.execute_reply": "2025-07-30T13:17:27.033924Z"
    },
    "papermill": {
     "duration": 0.028713,
     "end_time": "2025-07-30T13:17:27.036468",
     "exception": false,
     "start_time": "2025-07-30T13:17:27.007755",
     "status": "completed"
    },
    "tags": []
   },
   "outputs": [
    {
     "data": {
      "text/plain": [
       "'2012_14'"
      ]
     },
     "execution_count": 16,
     "metadata": {},
     "output_type": "execute_result"
    }
   ],
   "source": [
    "universe[\"training_year\"]"
   ]
  },
  {
   "cell_type": "code",
   "execution_count": 17,
   "id": "aea9c6ef-6f46-42c8-85eb-5a62025c1508",
   "metadata": {
    "execution": {
     "iopub.execute_input": "2025-07-30T13:17:27.077541Z",
     "iopub.status.busy": "2025-07-30T13:17:27.076901Z",
     "iopub.status.idle": "2025-07-30T13:17:27.712129Z",
     "shell.execute_reply": "2025-07-30T13:17:27.711194Z"
    },
    "papermill": {
     "duration": 0.657255,
     "end_time": "2025-07-30T13:17:27.713925",
     "exception": false,
     "start_time": "2025-07-30T13:17:27.056670",
     "status": "completed"
    },
    "tags": []
   },
   "outputs": [],
   "source": [
    "siab_train = sample_by_year_size(siab,\n",
    "                               training_year=universe[\"training_year\"],\n",
    "                               training_size=universe[\"training_size\"])"
   ]
  },
  {
   "cell_type": "code",
   "execution_count": 18,
   "id": "8d3afb32-789d-442c-8d5d-9f5aa8dd2eed",
   "metadata": {
    "execution": {
     "iopub.execute_input": "2025-07-30T13:17:27.755308Z",
     "iopub.status.busy": "2025-07-30T13:17:27.754656Z",
     "iopub.status.idle": "2025-07-30T13:17:27.761887Z",
     "shell.execute_reply": "2025-07-30T13:17:27.761055Z"
    },
    "papermill": {
     "duration": 0.029495,
     "end_time": "2025-07-30T13:17:27.763483",
     "exception": false,
     "start_time": "2025-07-30T13:17:27.733988",
     "status": "completed"
    },
    "tags": []
   },
   "outputs": [
    {
     "data": {
      "text/plain": [
       "(25000, 164)"
      ]
     },
     "execution_count": 18,
     "metadata": {},
     "output_type": "execute_result"
    }
   ],
   "source": [
    "siab_train.shape"
   ]
  },
  {
   "cell_type": "code",
   "execution_count": 19,
   "id": "d582db68-1a4c-47fb-84fc-08518dc1975a",
   "metadata": {
    "execution": {
     "iopub.execute_input": "2025-07-30T13:17:27.806273Z",
     "iopub.status.busy": "2025-07-30T13:17:27.805625Z",
     "iopub.status.idle": "2025-07-30T13:17:27.815486Z",
     "shell.execute_reply": "2025-07-30T13:17:27.814596Z"
    },
    "papermill": {
     "duration": 0.032503,
     "end_time": "2025-07-30T13:17:27.817156",
     "exception": false,
     "start_time": "2025-07-30T13:17:27.784653",
     "status": "completed"
    },
    "tags": []
   },
   "outputs": [
    {
     "data": {
      "text/plain": [
       "year\n",
       "2012    8334\n",
       "2013    8333\n",
       "2014    8333\n",
       "dtype: int64"
      ]
     },
     "metadata": {},
     "output_type": "display_data"
    }
   ],
   "source": [
    "display(siab_train.groupby(\"year\").size())"
   ]
  },
  {
   "cell_type": "code",
   "execution_count": 20,
   "id": "a561edb4-d032-42cb-8256-22eac1111c64",
   "metadata": {
    "execution": {
     "iopub.execute_input": "2025-07-30T13:17:27.859565Z",
     "iopub.status.busy": "2025-07-30T13:17:27.858928Z",
     "iopub.status.idle": "2025-07-30T13:17:28.077975Z",
     "shell.execute_reply": "2025-07-30T13:17:28.077090Z"
    },
    "papermill": {
     "duration": 0.241962,
     "end_time": "2025-07-30T13:17:28.079841",
     "exception": false,
     "start_time": "2025-07-30T13:17:27.837879",
     "status": "completed"
    },
    "tags": []
   },
   "outputs": [],
   "source": [
    "#siab_train = siab_s[siab_s.year < 2015]\n",
    "siab_calib = siab[siab.year == 2015]\n",
    "siab_test = siab[siab.year == 2016]"
   ]
  },
  {
   "cell_type": "code",
   "execution_count": 21,
   "id": "472de16f-c3db-4916-846b-1f0de9cf1746",
   "metadata": {
    "execution": {
     "iopub.execute_input": "2025-07-30T13:17:28.123105Z",
     "iopub.status.busy": "2025-07-30T13:17:28.122451Z",
     "iopub.status.idle": "2025-07-30T13:17:28.151407Z",
     "shell.execute_reply": "2025-07-30T13:17:28.150406Z"
    },
    "papermill": {
     "duration": 0.052718,
     "end_time": "2025-07-30T13:17:28.153220",
     "exception": false,
     "start_time": "2025-07-30T13:17:28.100502",
     "status": "completed"
    },
    "tags": []
   },
   "outputs": [],
   "source": [
    "X_train = siab_train.iloc[:,4:164]\n",
    "y_train = siab_train.iloc[:, [3]]"
   ]
  },
  {
   "cell_type": "code",
   "execution_count": 22,
   "id": "828c96af-f43a-4ed6-ba47-8ac73a47d56c",
   "metadata": {
    "execution": {
     "iopub.execute_input": "2025-07-30T13:17:28.197133Z",
     "iopub.status.busy": "2025-07-30T13:17:28.196464Z",
     "iopub.status.idle": "2025-07-30T13:17:28.282422Z",
     "shell.execute_reply": "2025-07-30T13:17:28.281388Z"
    },
    "papermill": {
     "duration": 0.109255,
     "end_time": "2025-07-30T13:17:28.284100",
     "exception": false,
     "start_time": "2025-07-30T13:17:28.174845",
     "status": "completed"
    },
    "tags": []
   },
   "outputs": [],
   "source": [
    "X_calib = siab_calib.iloc[:,4:164]\n",
    "y_calib = siab_calib.iloc[:, [3]]"
   ]
  },
  {
   "cell_type": "code",
   "execution_count": 23,
   "id": "c34be9c3-6bd6-476e-acd3-845840e303be",
   "metadata": {
    "execution": {
     "iopub.execute_input": "2025-07-30T13:17:28.327442Z",
     "iopub.status.busy": "2025-07-30T13:17:28.326791Z",
     "iopub.status.idle": "2025-07-30T13:17:28.376103Z",
     "shell.execute_reply": "2025-07-30T13:17:28.375037Z"
    },
    "papermill": {
     "duration": 0.072515,
     "end_time": "2025-07-30T13:17:28.377845",
     "exception": false,
     "start_time": "2025-07-30T13:17:28.305330",
     "status": "completed"
    },
    "tags": []
   },
   "outputs": [],
   "source": [
    "X_test = siab_test.iloc[:,4:164]\n",
    "y_true = siab_test.iloc[:, [3]]"
   ]
  },
  {
   "cell_type": "markdown",
   "id": "9901737e-04df-44f0-9100-f5ad144ed040",
   "metadata": {
    "papermill": {
     "duration": 0.020646,
     "end_time": "2025-07-30T13:17:28.420067",
     "exception": false,
     "start_time": "2025-07-30T13:17:28.399421",
     "status": "completed"
    },
    "tags": []
   },
   "source": [
    "# Splitting Data and Setting Training Data Size OLD VERSION"
   ]
  },
  {
   "cell_type": "code",
   "execution_count": 24,
   "id": "acbc8f7d-8fc8-4e86-8c59-5dcb0f58384b",
   "metadata": {
    "execution": {
     "iopub.execute_input": "2025-07-30T13:17:28.463896Z",
     "iopub.status.busy": "2025-07-30T13:17:28.463249Z",
     "iopub.status.idle": "2025-07-30T13:17:28.468589Z",
     "shell.execute_reply": "2025-07-30T13:17:28.467751Z"
    },
    "papermill": {
     "duration": 0.028467,
     "end_time": "2025-07-30T13:17:28.470087",
     "exception": false,
     "start_time": "2025-07-30T13:17:28.441620",
     "status": "completed"
    },
    "tags": []
   },
   "outputs": [],
   "source": [
    "#def sample_by_year(df, training_size, random_state=42):\n",
    "#    if training_size == \"2014\":\n",
    "#        return df[df[\"year\"] == 2014].reset_index(drop=True)\n",
    "#    \n",
    "#    size_map = {\n",
    "#        \"25k\": 5000,\n",
    "#        \"5k\": 1000,\n",
    "#        \"1k\": 200\n",
    "#    }\n",
    "#\n",
    "#    if training_size not in size_map:\n",
    "#        return df.reset_index(drop=True)  # use all data\n",
    "#\n",
    "#    n_per_year = size_map[training_size]\n",
    "#    grouped = df.groupby(\"year\")\n",
    "#    sampled = grouped.apply(lambda x: x.sample(n=min(n_per_year, len(x)), random_state=random_state))\n",
    "#    return sampled.reset_index(drop=True)"
   ]
  },
  {
   "cell_type": "code",
   "execution_count": 25,
   "id": "6d931f52-beaf-43ff-9e78-9d44a448d54e",
   "metadata": {
    "execution": {
     "iopub.execute_input": "2025-07-30T13:17:28.513716Z",
     "iopub.status.busy": "2025-07-30T13:17:28.513032Z",
     "iopub.status.idle": "2025-07-30T13:17:28.518006Z",
     "shell.execute_reply": "2025-07-30T13:17:28.517122Z"
    },
    "papermill": {
     "duration": 0.028066,
     "end_time": "2025-07-30T13:17:28.519583",
     "exception": false,
     "start_time": "2025-07-30T13:17:28.491517",
     "status": "completed"
    },
    "tags": []
   },
   "outputs": [],
   "source": [
    "#siab_s = sample_by_year(siab, universe[\"training_size\"])"
   ]
  },
  {
   "cell_type": "code",
   "execution_count": 26,
   "id": "5db0a40e-a4e2-4920-be85-b12ae061d70d",
   "metadata": {
    "execution": {
     "iopub.execute_input": "2025-07-30T13:17:28.563207Z",
     "iopub.status.busy": "2025-07-30T13:17:28.562563Z",
     "iopub.status.idle": "2025-07-30T13:17:28.567394Z",
     "shell.execute_reply": "2025-07-30T13:17:28.566571Z"
    },
    "papermill": {
     "duration": 0.028002,
     "end_time": "2025-07-30T13:17:28.568954",
     "exception": false,
     "start_time": "2025-07-30T13:17:28.540952",
     "status": "completed"
    },
    "tags": []
   },
   "outputs": [],
   "source": [
    "#display(siab_s.groupby(\"year\").size())"
   ]
  },
  {
   "cell_type": "code",
   "execution_count": 27,
   "id": "e6c733c5",
   "metadata": {
    "execution": {
     "iopub.execute_input": "2025-07-30T13:17:28.612518Z",
     "iopub.status.busy": "2025-07-30T13:17:28.611858Z",
     "iopub.status.idle": "2025-07-30T13:17:28.706480Z",
     "shell.execute_reply": "2025-07-30T13:17:28.705609Z"
    },
    "papermill": {
     "duration": 0.118029,
     "end_time": "2025-07-30T13:17:28.708396",
     "exception": false,
     "start_time": "2025-07-30T13:17:28.590367",
     "status": "completed"
    },
    "tags": []
   },
   "outputs": [],
   "source": [
    "# Auxiliary data needed downstream in the pipeline\n",
    "\n",
    "org_train = X_train.copy()\n",
    "org_test = X_test.copy()\n",
    "org_calib = X_calib.copy()"
   ]
  },
  {
   "cell_type": "code",
   "execution_count": 28,
   "id": "1466abac-c6da-4492-a62f-4240ae3783af",
   "metadata": {
    "execution": {
     "iopub.execute_input": "2025-07-30T13:17:28.752199Z",
     "iopub.status.busy": "2025-07-30T13:17:28.751544Z",
     "iopub.status.idle": "2025-07-30T13:17:28.757261Z",
     "shell.execute_reply": "2025-07-30T13:17:28.756336Z"
    },
    "papermill": {
     "duration": 0.029464,
     "end_time": "2025-07-30T13:17:28.758951",
     "exception": false,
     "start_time": "2025-07-30T13:17:28.729487",
     "status": "completed"
    },
    "tags": []
   },
   "outputs": [],
   "source": [
    "# put in other script?\n",
    "# Group sizes\n",
    "\n",
    "#def calculate_percentages(df, df_name):\n",
    "#    total_entries = len(df)\n",
    "#\n",
    "#    female_pct = (df['frau1'] == 1).mean() * 100\n",
    "#    non_german_pct = ((df['maxdeutsch1'] == 0) & (df['maxdeutsch.Missing.'] == 0)).mean() * 100\n",
    "#    non_german_male_pct = ((df['frau1'] == 0) & (df['maxdeutsch1'] == 0) & (df['maxdeutsch.Missing.'] == 0)).mean() * 100\n",
    "#    non_german_female_pct = ((df['frau1'] == 1) & (df['maxdeutsch1'] == 0) & (df['maxdeutsch.Missing.'] == 0)).mean() * 100\n",
    "#\n",
    "#    print(f\"--- {df_name} ---\")\n",
    "#    print(f\"Female: {female_pct:.2f}%\")\n",
    "#    print(f\"Non-German: {non_german_pct:.2f}%\")\n",
    "#    print(f\"Non-German Male: {non_german_male_pct:.2f}%\")\n",
    "#    print(f\"Non-German Female: {non_german_female_pct:.2f}%\\n\")\n",
    "#\n",
    "## Calculate for each DataFrame\n",
    "#calculate_percentages(siab_calib, \"siab_calib\")\n",
    "#calculate_percentages(siab_test, \"siab_test\")\n",
    "#calculate_percentages(siab_train, \"siab_train\")"
   ]
  },
  {
   "cell_type": "markdown",
   "id": "0a4a1b33",
   "metadata": {
    "papermill": {
     "duration": 0.020476,
     "end_time": "2025-07-30T13:17:28.801137",
     "exception": false,
     "start_time": "2025-07-30T13:17:28.780661",
     "status": "completed"
    },
    "tags": []
   },
   "source": [
    "# Preprocessing Data"
   ]
  },
  {
   "cell_type": "code",
   "execution_count": 29,
   "id": "ca879031",
   "metadata": {
    "execution": {
     "iopub.execute_input": "2025-07-30T13:17:28.844494Z",
     "iopub.status.busy": "2025-07-30T13:17:28.843723Z",
     "iopub.status.idle": "2025-07-30T13:17:28.849727Z",
     "shell.execute_reply": "2025-07-30T13:17:28.848888Z"
    },
    "papermill": {
     "duration": 0.029701,
     "end_time": "2025-07-30T13:17:28.851342",
     "exception": false,
     "start_time": "2025-07-30T13:17:28.821641",
     "status": "completed"
    },
    "tags": []
   },
   "outputs": [],
   "source": [
    "# EXCLUDE PROTECTED FEATURES\n",
    "# ----------------------\n",
    "# \"exclude_features\": \"none\", # \"nationality\", \"sex\", \"nationality-sex\"\n",
    "\n",
    "excluded_features = universe[\"exclude_features\"].split(\"-\") # split, e.g.: \"nationality-sex\" -> [\"nationality\", \"sex\"]\n",
    "excluded_features_dictionary = {\n",
    "    \"nationality\": [\"maxdeutsch1\", \"maxdeutsch.Missing.\"],\n",
    "    \"sex\": [\"frau1\"],\n",
    "    \"age\": [\"age\"],\n",
    "}\n"
   ]
  },
  {
   "cell_type": "code",
   "execution_count": 30,
   "id": "b745ac60",
   "metadata": {
    "execution": {
     "iopub.execute_input": "2025-07-30T13:17:28.895885Z",
     "iopub.status.busy": "2025-07-30T13:17:28.895196Z",
     "iopub.status.idle": "2025-07-30T13:17:28.900802Z",
     "shell.execute_reply": "2025-07-30T13:17:28.899936Z"
    },
    "papermill": {
     "duration": 0.02904,
     "end_time": "2025-07-30T13:17:28.902359",
     "exception": false,
     "start_time": "2025-07-30T13:17:28.873319",
     "status": "completed"
    },
    "tags": []
   },
   "outputs": [],
   "source": [
    "# Code nice names to column names\n",
    "\n",
    "excluded_features_columns = [\n",
    "    excluded_features_dictionary[f] for f in excluded_features if len(f) > 0 and f != \"none\"\n",
    "]"
   ]
  },
  {
   "cell_type": "code",
   "execution_count": 31,
   "id": "f84f73a2",
   "metadata": {
    "execution": {
     "iopub.execute_input": "2025-07-30T13:17:28.946636Z",
     "iopub.status.busy": "2025-07-30T13:17:28.945970Z",
     "iopub.status.idle": "2025-07-30T13:17:28.952917Z",
     "shell.execute_reply": "2025-07-30T13:17:28.951989Z"
    },
    "papermill": {
     "duration": 0.030668,
     "end_time": "2025-07-30T13:17:28.954714",
     "exception": false,
     "start_time": "2025-07-30T13:17:28.924046",
     "status": "completed"
    },
    "tags": []
   },
   "outputs": [],
   "source": [
    "from utils import flatten_once\n",
    "\n",
    "excluded_features_columns = flatten_once(excluded_features_columns)"
   ]
  },
  {
   "cell_type": "code",
   "execution_count": 32,
   "id": "884dea22",
   "metadata": {
    "execution": {
     "iopub.execute_input": "2025-07-30T13:17:28.998774Z",
     "iopub.status.busy": "2025-07-30T13:17:28.998313Z",
     "iopub.status.idle": "2025-07-30T13:17:29.013118Z",
     "shell.execute_reply": "2025-07-30T13:17:29.012114Z"
    },
    "papermill": {
     "duration": 0.038483,
     "end_time": "2025-07-30T13:17:29.014726",
     "exception": false,
     "start_time": "2025-07-30T13:17:28.976243",
     "status": "completed"
    },
    "tags": []
   },
   "outputs": [
    {
     "name": "stdout",
     "output_type": "stream",
     "text": [
      "Dropping features: ['frau1']\n"
     ]
    }
   ],
   "source": [
    "if len(excluded_features_columns) > 0:\n",
    "    print(f\"Dropping features: {excluded_features_columns}\")\n",
    "    X_train.drop(excluded_features_columns, axis=1, inplace=True)"
   ]
  },
  {
   "cell_type": "code",
   "execution_count": 33,
   "id": "95ab8b16",
   "metadata": {
    "execution": {
     "iopub.execute_input": "2025-07-30T13:17:29.059005Z",
     "iopub.status.busy": "2025-07-30T13:17:29.058611Z",
     "iopub.status.idle": "2025-07-30T13:17:29.109825Z",
     "shell.execute_reply": "2025-07-30T13:17:29.108826Z"
    },
    "papermill": {
     "duration": 0.075923,
     "end_time": "2025-07-30T13:17:29.112392",
     "exception": false,
     "start_time": "2025-07-30T13:17:29.036469",
     "status": "completed"
    },
    "tags": []
   },
   "outputs": [
    {
     "name": "stdout",
     "output_type": "stream",
     "text": [
      "Dropping features: ['frau1']\n"
     ]
    }
   ],
   "source": [
    "if len(excluded_features_columns) > 0:\n",
    "    print(f\"Dropping features: {excluded_features_columns}\")\n",
    "    X_test.drop(excluded_features_columns, axis=1, inplace=True)"
   ]
  },
  {
   "cell_type": "code",
   "execution_count": 34,
   "id": "1853aaf5-fb9f-46cb-a2b5-8ea4ae2237e4",
   "metadata": {
    "execution": {
     "iopub.execute_input": "2025-07-30T13:17:29.157416Z",
     "iopub.status.busy": "2025-07-30T13:17:29.156769Z",
     "iopub.status.idle": "2025-07-30T13:17:29.206888Z",
     "shell.execute_reply": "2025-07-30T13:17:29.205728Z"
    },
    "papermill": {
     "duration": 0.074897,
     "end_time": "2025-07-30T13:17:29.209183",
     "exception": false,
     "start_time": "2025-07-30T13:17:29.134286",
     "status": "completed"
    },
    "tags": []
   },
   "outputs": [
    {
     "name": "stdout",
     "output_type": "stream",
     "text": [
      "Dropping features: ['frau1']\n"
     ]
    }
   ],
   "source": [
    "if len(excluded_features_columns) > 0:\n",
    "    print(f\"Dropping features: {excluded_features_columns}\")\n",
    "    X_calib.drop(excluded_features_columns, axis=1, inplace=True)"
   ]
  },
  {
   "cell_type": "code",
   "execution_count": 35,
   "id": "6727d079-03e5-481e-9d38-292a90b7a0a8",
   "metadata": {
    "execution": {
     "iopub.execute_input": "2025-07-30T13:17:29.254414Z",
     "iopub.status.busy": "2025-07-30T13:17:29.253763Z",
     "iopub.status.idle": "2025-07-30T13:17:29.258480Z",
     "shell.execute_reply": "2025-07-30T13:17:29.257621Z"
    },
    "papermill": {
     "duration": 0.028749,
     "end_time": "2025-07-30T13:17:29.260110",
     "exception": false,
     "start_time": "2025-07-30T13:17:29.231361",
     "status": "completed"
    },
    "tags": []
   },
   "outputs": [],
   "source": [
    "# SPLIT & STRATIFY DATA\n",
    "# ----------------------"
   ]
  },
  {
   "cell_type": "code",
   "execution_count": 36,
   "id": "76c4dc6d",
   "metadata": {
    "execution": {
     "iopub.execute_input": "2025-07-30T13:17:29.306084Z",
     "iopub.status.busy": "2025-07-30T13:17:29.305425Z",
     "iopub.status.idle": "2025-07-30T13:17:29.310692Z",
     "shell.execute_reply": "2025-07-30T13:17:29.309869Z"
    },
    "papermill": {
     "duration": 0.029225,
     "end_time": "2025-07-30T13:17:29.312196",
     "exception": false,
     "start_time": "2025-07-30T13:17:29.282971",
     "status": "completed"
    },
    "tags": []
   },
   "outputs": [],
   "source": [
    "# EXCLUDE CERTAIN SUBGROUPS\n",
    "# ----------------------\n",
    "\n",
    "mode = universe.get(\"exclude_subgroups\", \"keep-all\") \n",
    "# Fetches the exclude_subgroups setting from the universe dict.\n",
    "# Defaults to \"keep-all\" if the key is missing."
   ]
  },
  {
   "cell_type": "code",
   "execution_count": 37,
   "id": "21994072",
   "metadata": {
    "execution": {
     "iopub.execute_input": "2025-07-30T13:17:29.357902Z",
     "iopub.status.busy": "2025-07-30T13:17:29.357253Z",
     "iopub.status.idle": "2025-07-30T13:17:29.364830Z",
     "shell.execute_reply": "2025-07-30T13:17:29.363897Z"
    },
    "papermill": {
     "duration": 0.031895,
     "end_time": "2025-07-30T13:17:29.366478",
     "exception": false,
     "start_time": "2025-07-30T13:17:29.334583",
     "status": "completed"
    },
    "tags": []
   },
   "outputs": [],
   "source": [
    "if mode == \"keep-all\":\n",
    "    keep_mask = pd.Series(True, index=org_train.index)\n",
    "\n",
    "# org_train contains the original feature columns from features_org (in Simson)\n",
    "# features_org contains unprocessed features, for me X_train at beginning ???\n",
    "# For keep-all, creates a boolean Series (keep_mask) of all True, so no rows are removed.\n",
    "\n",
    "elif mode == \"drop-non-german\":\n",
    "    keep_mask = org_train[\"maxdeutsch1\"] == 1 # ??? what about missing values?\n",
    "\n",
    "else:\n",
    "    raise ValueError(f\"Unsupported mode for exclude_subgroups: {mode}\")\n"
   ]
  },
  {
   "cell_type": "code",
   "execution_count": 38,
   "id": "71651440",
   "metadata": {
    "execution": {
     "iopub.execute_input": "2025-07-30T13:17:29.412133Z",
     "iopub.status.busy": "2025-07-30T13:17:29.411480Z",
     "iopub.status.idle": "2025-07-30T13:17:29.418925Z",
     "shell.execute_reply": "2025-07-30T13:17:29.418037Z"
    },
    "papermill": {
     "duration": 0.031696,
     "end_time": "2025-07-30T13:17:29.420541",
     "exception": false,
     "start_time": "2025-07-30T13:17:29.388845",
     "status": "completed"
    },
    "tags": []
   },
   "outputs": [
    {
     "name": "stdout",
     "output_type": "stream",
     "text": [
      "Dropping 3481 rows (13.92%) where mode='drop-non-german'\n"
     ]
    }
   ],
   "source": [
    "n_drop = (~keep_mask).sum() # Calculates how many rows are set to be dropped\n",
    "if n_drop > 0:\n",
    "    pct = n_drop / len(keep_mask) * 100\n",
    "    print(f\"Dropping {n_drop} rows ({pct:.2f}%) where mode='{mode}'\")"
   ]
  },
  {
   "cell_type": "code",
   "execution_count": 39,
   "id": "5fb8eee5",
   "metadata": {
    "execution": {
     "iopub.execute_input": "2025-07-30T13:17:29.467098Z",
     "iopub.status.busy": "2025-07-30T13:17:29.466378Z",
     "iopub.status.idle": "2025-07-30T13:17:29.480252Z",
     "shell.execute_reply": "2025-07-30T13:17:29.479236Z"
    },
    "papermill": {
     "duration": 0.038801,
     "end_time": "2025-07-30T13:17:29.482361",
     "exception": false,
     "start_time": "2025-07-30T13:17:29.443560",
     "status": "completed"
    },
    "tags": []
   },
   "outputs": [],
   "source": [
    "X_train = X_train[keep_mask]"
   ]
  },
  {
   "cell_type": "code",
   "execution_count": 40,
   "id": "b202bb3a",
   "metadata": {
    "execution": {
     "iopub.execute_input": "2025-07-30T13:17:29.528376Z",
     "iopub.status.busy": "2025-07-30T13:17:29.527642Z",
     "iopub.status.idle": "2025-07-30T13:17:29.534173Z",
     "shell.execute_reply": "2025-07-30T13:17:29.533244Z"
    },
    "papermill": {
     "duration": 0.030955,
     "end_time": "2025-07-30T13:17:29.535881",
     "exception": false,
     "start_time": "2025-07-30T13:17:29.504926",
     "status": "completed"
    },
    "tags": []
   },
   "outputs": [],
   "source": [
    "y_train = y_train[keep_mask]"
   ]
  },
  {
   "cell_type": "markdown",
   "id": "493e2ac3",
   "metadata": {
    "papermill": {
     "duration": 0.021653,
     "end_time": "2025-07-30T13:17:29.580193",
     "exception": false,
     "start_time": "2025-07-30T13:17:29.558540",
     "status": "completed"
    },
    "tags": []
   },
   "source": [
    "# Model Training"
   ]
  },
  {
   "cell_type": "code",
   "execution_count": 41,
   "id": "679e1268",
   "metadata": {
    "execution": {
     "iopub.execute_input": "2025-07-30T13:17:29.625474Z",
     "iopub.status.busy": "2025-07-30T13:17:29.624789Z",
     "iopub.status.idle": "2025-07-30T13:17:29.723947Z",
     "shell.execute_reply": "2025-07-30T13:17:29.723105Z"
    },
    "papermill": {
     "duration": 0.12377,
     "end_time": "2025-07-30T13:17:29.725747",
     "exception": false,
     "start_time": "2025-07-30T13:17:29.601977",
     "status": "completed"
    },
    "tags": []
   },
   "outputs": [],
   "source": [
    "from sklearn.linear_model import LogisticRegression\n",
    "from sklearn.ensemble import GradientBoostingClassifier, RandomForestClassifier\n",
    "\n",
    "if (universe[\"model\"] == \"logreg\"):\n",
    "    model = LogisticRegression() #penalty=\"none\") #, solver=\"newton-cg\", max_iter=1) # include random_state=19 ?\n",
    "elif (universe[\"model\"] == \"penalized_logreg\"):\n",
    "    model = LogisticRegression(penalty=\"l2\", C=1.0) #, solver=\"newton-cg\", max_iter=1)\n",
    "elif (universe[\"model\"] == \"rf\"):\n",
    "    model = RandomForestClassifier(n_estimators=100, n_jobs=-1)\n",
    "elif (universe[\"model\"] == \"gbm\"):\n",
    "    model = GradientBoostingClassifier()\n",
    "elif (universe[\"model\"] == \"elasticnet\"):\n",
    "    model = LogisticRegression(penalty = 'elasticnet', solver = 'saga', l1_ratio = 0.5, max_iter=5000) # which solver to use?\n",
    "else:\n",
    "    raise \"Unsupported universe.model\""
   ]
  },
  {
   "cell_type": "code",
   "execution_count": 42,
   "id": "0cc8f744",
   "metadata": {
    "execution": {
     "iopub.execute_input": "2025-07-30T13:17:29.772246Z",
     "iopub.status.busy": "2025-07-30T13:17:29.771757Z",
     "iopub.status.idle": "2025-07-30T13:17:29.777889Z",
     "shell.execute_reply": "2025-07-30T13:17:29.776900Z"
    },
    "papermill": {
     "duration": 0.03121,
     "end_time": "2025-07-30T13:17:29.779531",
     "exception": false,
     "start_time": "2025-07-30T13:17:29.748321",
     "status": "completed"
    },
    "tags": []
   },
   "outputs": [],
   "source": [
    "import numpy as np\n",
    "from sklearn.pipeline import Pipeline\n",
    "from sklearn.preprocessing import StandardScaler\n",
    "\n",
    "model = Pipeline([\n",
    "    #(\"continuous_processor\", continuous_processor),\n",
    "    #(\"categorical_preprocessor\", categorical_preprocessor),\n",
    "    (\"scale\", StandardScaler() if universe[\"scale\"] == \"scale\" else None), \n",
    "    (\"model\", model),\n",
    "])"
   ]
  },
  {
   "cell_type": "code",
   "execution_count": 43,
   "id": "9442c04d",
   "metadata": {
    "execution": {
     "iopub.execute_input": "2025-07-30T13:17:29.826542Z",
     "iopub.status.busy": "2025-07-30T13:17:29.825704Z",
     "iopub.status.idle": "2025-07-30T13:20:28.558181Z",
     "shell.execute_reply": "2025-07-30T13:20:28.556986Z"
    },
    "papermill": {
     "duration": 178.768648,
     "end_time": "2025-07-30T13:20:28.571883",
     "exception": false,
     "start_time": "2025-07-30T13:17:29.803235",
     "status": "completed"
    },
    "tags": []
   },
   "outputs": [
    {
     "data": {
      "text/html": [
       "<style>#sk-container-id-1 {color: black;background-color: white;}#sk-container-id-1 pre{padding: 0;}#sk-container-id-1 div.sk-toggleable {background-color: white;}#sk-container-id-1 label.sk-toggleable__label {cursor: pointer;display: block;width: 100%;margin-bottom: 0;padding: 0.3em;box-sizing: border-box;text-align: center;}#sk-container-id-1 label.sk-toggleable__label-arrow:before {content: \"▸\";float: left;margin-right: 0.25em;color: #696969;}#sk-container-id-1 label.sk-toggleable__label-arrow:hover:before {color: black;}#sk-container-id-1 div.sk-estimator:hover label.sk-toggleable__label-arrow:before {color: black;}#sk-container-id-1 div.sk-toggleable__content {max-height: 0;max-width: 0;overflow: hidden;text-align: left;background-color: #f0f8ff;}#sk-container-id-1 div.sk-toggleable__content pre {margin: 0.2em;color: black;border-radius: 0.25em;background-color: #f0f8ff;}#sk-container-id-1 input.sk-toggleable__control:checked~div.sk-toggleable__content {max-height: 200px;max-width: 100%;overflow: auto;}#sk-container-id-1 input.sk-toggleable__control:checked~label.sk-toggleable__label-arrow:before {content: \"▾\";}#sk-container-id-1 div.sk-estimator input.sk-toggleable__control:checked~label.sk-toggleable__label {background-color: #d4ebff;}#sk-container-id-1 div.sk-label input.sk-toggleable__control:checked~label.sk-toggleable__label {background-color: #d4ebff;}#sk-container-id-1 input.sk-hidden--visually {border: 0;clip: rect(1px 1px 1px 1px);clip: rect(1px, 1px, 1px, 1px);height: 1px;margin: -1px;overflow: hidden;padding: 0;position: absolute;width: 1px;}#sk-container-id-1 div.sk-estimator {font-family: monospace;background-color: #f0f8ff;border: 1px dotted black;border-radius: 0.25em;box-sizing: border-box;margin-bottom: 0.5em;}#sk-container-id-1 div.sk-estimator:hover {background-color: #d4ebff;}#sk-container-id-1 div.sk-parallel-item::after {content: \"\";width: 100%;border-bottom: 1px solid gray;flex-grow: 1;}#sk-container-id-1 div.sk-label:hover label.sk-toggleable__label {background-color: #d4ebff;}#sk-container-id-1 div.sk-serial::before {content: \"\";position: absolute;border-left: 1px solid gray;box-sizing: border-box;top: 0;bottom: 0;left: 50%;z-index: 0;}#sk-container-id-1 div.sk-serial {display: flex;flex-direction: column;align-items: center;background-color: white;padding-right: 0.2em;padding-left: 0.2em;position: relative;}#sk-container-id-1 div.sk-item {position: relative;z-index: 1;}#sk-container-id-1 div.sk-parallel {display: flex;align-items: stretch;justify-content: center;background-color: white;position: relative;}#sk-container-id-1 div.sk-item::before, #sk-container-id-1 div.sk-parallel-item::before {content: \"\";position: absolute;border-left: 1px solid gray;box-sizing: border-box;top: 0;bottom: 0;left: 50%;z-index: -1;}#sk-container-id-1 div.sk-parallel-item {display: flex;flex-direction: column;z-index: 1;position: relative;background-color: white;}#sk-container-id-1 div.sk-parallel-item:first-child::after {align-self: flex-end;width: 50%;}#sk-container-id-1 div.sk-parallel-item:last-child::after {align-self: flex-start;width: 50%;}#sk-container-id-1 div.sk-parallel-item:only-child::after {width: 0;}#sk-container-id-1 div.sk-dashed-wrapped {border: 1px dashed gray;margin: 0 0.4em 0.5em 0.4em;box-sizing: border-box;padding-bottom: 0.4em;background-color: white;}#sk-container-id-1 div.sk-label label {font-family: monospace;font-weight: bold;display: inline-block;line-height: 1.2em;}#sk-container-id-1 div.sk-label-container {text-align: center;}#sk-container-id-1 div.sk-container {/* jupyter's `normalize.less` sets `[hidden] { display: none; }` but bootstrap.min.css set `[hidden] { display: none !important; }` so we also need the `!important` here to be able to override the default hidden behavior on the sphinx rendered scikit-learn.org. See: https://github.com/scikit-learn/scikit-learn/issues/21755 */display: inline-block !important;position: relative;}#sk-container-id-1 div.sk-text-repr-fallback {display: none;}</style><div id=\"sk-container-id-1\" class=\"sk-top-container\"><div class=\"sk-text-repr-fallback\"><pre>Pipeline(steps=[(&#x27;scale&#x27;, None),\n",
       "                (&#x27;model&#x27;,\n",
       "                 LogisticRegression(l1_ratio=0.5, max_iter=5000,\n",
       "                                    penalty=&#x27;elasticnet&#x27;, solver=&#x27;saga&#x27;))])</pre><b>In a Jupyter environment, please rerun this cell to show the HTML representation or trust the notebook. <br />On GitHub, the HTML representation is unable to render, please try loading this page with nbviewer.org.</b></div><div class=\"sk-container\" hidden><div class=\"sk-item sk-dashed-wrapped\"><div class=\"sk-label-container\"><div class=\"sk-label sk-toggleable\"><input class=\"sk-toggleable__control sk-hidden--visually\" id=\"sk-estimator-id-1\" type=\"checkbox\" ><label for=\"sk-estimator-id-1\" class=\"sk-toggleable__label sk-toggleable__label-arrow\">Pipeline</label><div class=\"sk-toggleable__content\"><pre>Pipeline(steps=[(&#x27;scale&#x27;, None),\n",
       "                (&#x27;model&#x27;,\n",
       "                 LogisticRegression(l1_ratio=0.5, max_iter=5000,\n",
       "                                    penalty=&#x27;elasticnet&#x27;, solver=&#x27;saga&#x27;))])</pre></div></div></div><div class=\"sk-serial\"><div class=\"sk-item\"><div class=\"sk-estimator sk-toggleable\"><input class=\"sk-toggleable__control sk-hidden--visually\" id=\"sk-estimator-id-2\" type=\"checkbox\" ><label for=\"sk-estimator-id-2\" class=\"sk-toggleable__label sk-toggleable__label-arrow\">None</label><div class=\"sk-toggleable__content\"><pre>None</pre></div></div></div><div class=\"sk-item\"><div class=\"sk-estimator sk-toggleable\"><input class=\"sk-toggleable__control sk-hidden--visually\" id=\"sk-estimator-id-3\" type=\"checkbox\" ><label for=\"sk-estimator-id-3\" class=\"sk-toggleable__label sk-toggleable__label-arrow\">LogisticRegression</label><div class=\"sk-toggleable__content\"><pre>LogisticRegression(l1_ratio=0.5, max_iter=5000, penalty=&#x27;elasticnet&#x27;,\n",
       "                   solver=&#x27;saga&#x27;)</pre></div></div></div></div></div></div></div>"
      ],
      "text/plain": [
       "Pipeline(steps=[('scale', None),\n",
       "                ('model',\n",
       "                 LogisticRegression(l1_ratio=0.5, max_iter=5000,\n",
       "                                    penalty='elasticnet', solver='saga'))])"
      ]
     },
     "execution_count": 43,
     "metadata": {},
     "output_type": "execute_result"
    }
   ],
   "source": [
    "model.fit(X_train, y_train.values.ravel())"
   ]
  },
  {
   "cell_type": "code",
   "execution_count": 44,
   "id": "af59f8c0",
   "metadata": {
    "execution": {
     "iopub.execute_input": "2025-07-30T13:20:28.597562Z",
     "iopub.status.busy": "2025-07-30T13:20:28.597178Z",
     "iopub.status.idle": "2025-07-30T13:20:28.602500Z",
     "shell.execute_reply": "2025-07-30T13:20:28.601700Z"
    },
    "papermill": {
     "duration": 0.019833,
     "end_time": "2025-07-30T13:20:28.603873",
     "exception": false,
     "start_time": "2025-07-30T13:20:28.584040",
     "status": "completed"
    },
    "tags": []
   },
   "outputs": [],
   "source": [
    "from fairness_multiverse.universe import predict_w_threshold"
   ]
  },
  {
   "cell_type": "code",
   "execution_count": 45,
   "id": "a7cf2e16",
   "metadata": {
    "execution": {
     "iopub.execute_input": "2025-07-30T13:20:28.630611Z",
     "iopub.status.busy": "2025-07-30T13:20:28.629907Z",
     "iopub.status.idle": "2025-07-30T13:20:28.719626Z",
     "shell.execute_reply": "2025-07-30T13:20:28.718773Z"
    },
    "papermill": {
     "duration": 0.104057,
     "end_time": "2025-07-30T13:20:28.720985",
     "exception": false,
     "start_time": "2025-07-30T13:20:28.616928",
     "status": "completed"
    },
    "tags": []
   },
   "outputs": [
    {
     "data": {
      "text/plain": [
       "0.8535837699253149"
      ]
     },
     "execution_count": 45,
     "metadata": {},
     "output_type": "execute_result"
    }
   ],
   "source": [
    "probs_test = model.predict_proba(X_test)\n",
    "\n",
    "'''\n",
    "Below code returns a boolean array (or binary 0/1 array depending on how it’s used) where each element \n",
    "is True if the probability of class 1 is greater than or equal to the threshold, and False otherwise.\n",
    "'''\n",
    "y_pred_default = predict_w_threshold(probs_test, 0.5)\n",
    "\n",
    "from sklearn.metrics import accuracy_score\n",
    "\n",
    "# Naive prediction\n",
    "accuracy_score(y_true = y_true, y_pred = y_pred_default)"
   ]
  },
  {
   "cell_type": "code",
   "execution_count": 46,
   "id": "081964c3",
   "metadata": {
    "execution": {
     "iopub.execute_input": "2025-07-30T13:20:28.747664Z",
     "iopub.status.busy": "2025-07-30T13:20:28.746922Z",
     "iopub.status.idle": "2025-07-30T13:20:28.822831Z",
     "shell.execute_reply": "2025-07-30T13:20:28.822096Z"
    },
    "papermill": {
     "duration": 0.090174,
     "end_time": "2025-07-30T13:20:28.824141",
     "exception": false,
     "start_time": "2025-07-30T13:20:28.733967",
     "status": "completed"
    },
    "tags": []
   },
   "outputs": [
    {
     "data": {
      "text/plain": [
       "array([0, 0, 0, ..., 0, 0, 0])"
      ]
     },
     "execution_count": 46,
     "metadata": {},
     "output_type": "execute_result"
    }
   ],
   "source": [
    "model.predict(X_test)"
   ]
  },
  {
   "cell_type": "markdown",
   "id": "56c9705b",
   "metadata": {
    "papermill": {
     "duration": 0.012064,
     "end_time": "2025-07-30T13:20:28.849402",
     "exception": false,
     "start_time": "2025-07-30T13:20:28.837338",
     "status": "completed"
    },
    "tags": []
   },
   "source": [
    "# Conformal Prediction"
   ]
  },
  {
   "cell_type": "code",
   "execution_count": 47,
   "id": "160ec6ff",
   "metadata": {
    "execution": {
     "iopub.execute_input": "2025-07-30T13:20:28.875222Z",
     "iopub.status.busy": "2025-07-30T13:20:28.874723Z",
     "iopub.status.idle": "2025-07-30T13:20:28.879587Z",
     "shell.execute_reply": "2025-07-30T13:20:28.878794Z"
    },
    "papermill": {
     "duration": 0.019518,
     "end_time": "2025-07-30T13:20:28.880995",
     "exception": false,
     "start_time": "2025-07-30T13:20:28.861477",
     "status": "completed"
    },
    "tags": []
   },
   "outputs": [],
   "source": [
    "# Miscoverage level for conformal prediction (10% allowed error rate => 90% target coverage)\n",
    "alpha = 0.1"
   ]
  },
  {
   "cell_type": "code",
   "execution_count": 48,
   "id": "eadf4555-3dd3-440e-8e35-f82a4ad9f855",
   "metadata": {
    "execution": {
     "iopub.execute_input": "2025-07-30T13:20:28.907979Z",
     "iopub.status.busy": "2025-07-30T13:20:28.907321Z",
     "iopub.status.idle": "2025-07-30T13:20:28.983508Z",
     "shell.execute_reply": "2025-07-30T13:20:28.982722Z"
    },
    "papermill": {
     "duration": 0.090661,
     "end_time": "2025-07-30T13:20:28.985026",
     "exception": false,
     "start_time": "2025-07-30T13:20:28.894365",
     "status": "completed"
    },
    "tags": []
   },
   "outputs": [],
   "source": [
    "probs_calib = model.predict_proba(X_calib)"
   ]
  },
  {
   "cell_type": "code",
   "execution_count": 49,
   "id": "2ed93547-6d5d-4983-9b36-1ecb300da49a",
   "metadata": {
    "execution": {
     "iopub.execute_input": "2025-07-30T13:20:29.011711Z",
     "iopub.status.busy": "2025-07-30T13:20:29.011236Z",
     "iopub.status.idle": "2025-07-30T13:20:29.016497Z",
     "shell.execute_reply": "2025-07-30T13:20:29.015728Z"
    },
    "papermill": {
     "duration": 0.019813,
     "end_time": "2025-07-30T13:20:29.017847",
     "exception": false,
     "start_time": "2025-07-30T13:20:28.998034",
     "status": "completed"
    },
    "tags": []
   },
   "outputs": [],
   "source": [
    "y_calib = y_calib.values.ravel().astype(int)"
   ]
  },
  {
   "cell_type": "code",
   "execution_count": 50,
   "id": "65d1320d-f588-4b38-9072-62af1ae97f7d",
   "metadata": {
    "execution": {
     "iopub.execute_input": "2025-07-30T13:20:29.045172Z",
     "iopub.status.busy": "2025-07-30T13:20:29.044455Z",
     "iopub.status.idle": "2025-07-30T13:20:29.051461Z",
     "shell.execute_reply": "2025-07-30T13:20:29.050702Z"
    },
    "papermill": {
     "duration": 0.021536,
     "end_time": "2025-07-30T13:20:29.052932",
     "exception": false,
     "start_time": "2025-07-30T13:20:29.031396",
     "status": "completed"
    },
    "tags": []
   },
   "outputs": [],
   "source": [
    "from fairness_multiverse.conformal import compute_nc_scores\n",
    "\n",
    "# Compute nonconformity scores on calibration set (1 - probability of true class)\n",
    "nc_scores = compute_nc_scores(probs_calib, y_calib)"
   ]
  },
  {
   "cell_type": "code",
   "execution_count": 51,
   "id": "df3b8ca3-53b7-43d5-9667-7c85da7aeda2",
   "metadata": {
    "execution": {
     "iopub.execute_input": "2025-07-30T13:20:29.080285Z",
     "iopub.status.busy": "2025-07-30T13:20:29.079600Z",
     "iopub.status.idle": "2025-07-30T13:20:29.085438Z",
     "shell.execute_reply": "2025-07-30T13:20:29.084755Z"
    },
    "papermill": {
     "duration": 0.020501,
     "end_time": "2025-07-30T13:20:29.086703",
     "exception": false,
     "start_time": "2025-07-30T13:20:29.066202",
     "status": "completed"
    },
    "tags": []
   },
   "outputs": [],
   "source": [
    "from fairness_multiverse.conformal import find_threshold\n",
    "\n",
    "# Find conformal threshold q_hat for the given alpha (split conformal method)\n",
    "q_hat = find_threshold(nc_scores, alpha)"
   ]
  },
  {
   "cell_type": "code",
   "execution_count": 52,
   "id": "4d29e6c1-0ef6-4aa4-b8fe-4fe79b0d033a",
   "metadata": {
    "execution": {
     "iopub.execute_input": "2025-07-30T13:20:29.113969Z",
     "iopub.status.busy": "2025-07-30T13:20:29.113304Z",
     "iopub.status.idle": "2025-07-30T13:20:29.119640Z",
     "shell.execute_reply": "2025-07-30T13:20:29.118892Z"
    },
    "papermill": {
     "duration": 0.020877,
     "end_time": "2025-07-30T13:20:29.120997",
     "exception": false,
     "start_time": "2025-07-30T13:20:29.100120",
     "status": "completed"
    },
    "tags": []
   },
   "outputs": [
    {
     "data": {
      "text/plain": [
       "0.6840197092493967"
      ]
     },
     "execution_count": 52,
     "metadata": {},
     "output_type": "execute_result"
    }
   ],
   "source": [
    "q_hat"
   ]
  },
  {
   "cell_type": "code",
   "execution_count": 53,
   "id": "92460794-cdac-4be2-ba28-f28c0515a6fb",
   "metadata": {
    "execution": {
     "iopub.execute_input": "2025-07-30T13:20:29.148713Z",
     "iopub.status.busy": "2025-07-30T13:20:29.148196Z",
     "iopub.status.idle": "2025-07-30T13:20:29.860275Z",
     "shell.execute_reply": "2025-07-30T13:20:29.859294Z"
    },
    "papermill": {
     "duration": 0.727485,
     "end_time": "2025-07-30T13:20:29.862386",
     "exception": false,
     "start_time": "2025-07-30T13:20:29.134901",
     "status": "completed"
    },
    "tags": []
   },
   "outputs": [],
   "source": [
    "from fairness_multiverse.conformal import predict_conformal_sets\n",
    "\n",
    "# Generate prediction sets for each test example\n",
    "pred_sets = predict_conformal_sets(model, X_test, q_hat)"
   ]
  },
  {
   "cell_type": "code",
   "execution_count": 54,
   "id": "d90c9a65-e6db-4f5d-80cd-e68fb7e46829",
   "metadata": {
    "execution": {
     "iopub.execute_input": "2025-07-30T13:20:29.913640Z",
     "iopub.status.busy": "2025-07-30T13:20:29.912938Z",
     "iopub.status.idle": "2025-07-30T13:20:29.918534Z",
     "shell.execute_reply": "2025-07-30T13:20:29.917573Z"
    },
    "papermill": {
     "duration": 0.032777,
     "end_time": "2025-07-30T13:20:29.920216",
     "exception": false,
     "start_time": "2025-07-30T13:20:29.887439",
     "status": "completed"
    },
    "tags": []
   },
   "outputs": [],
   "source": [
    "y_true = y_true.squeeze()"
   ]
  },
  {
   "cell_type": "code",
   "execution_count": 55,
   "id": "3a58a54a-1e68-46b9-927a-df01f18aebc8",
   "metadata": {
    "execution": {
     "iopub.execute_input": "2025-07-30T13:20:29.961810Z",
     "iopub.status.busy": "2025-07-30T13:20:29.961345Z",
     "iopub.status.idle": "2025-07-30T13:20:30.854184Z",
     "shell.execute_reply": "2025-07-30T13:20:30.853194Z"
    },
    "papermill": {
     "duration": 0.910583,
     "end_time": "2025-07-30T13:20:30.856040",
     "exception": false,
     "start_time": "2025-07-30T13:20:29.945457",
     "status": "completed"
    },
    "tags": []
   },
   "outputs": [],
   "source": [
    "from fairness_multiverse.conformal import evaluate_sets\n",
    "\n",
    "# Evaluate coverage and average set size on test data\n",
    "metrics = evaluate_sets(pred_sets, y_true)"
   ]
  },
  {
   "cell_type": "markdown",
   "id": "2b569c12-9aaa-4c88-98c9-bbcd0cf3ebb8",
   "metadata": {
    "papermill": {
     "duration": 0.026461,
     "end_time": "2025-07-30T13:20:30.907633",
     "exception": false,
     "start_time": "2025-07-30T13:20:30.881172",
     "status": "completed"
    },
    "tags": []
   },
   "source": [
    "# CP Metrics"
   ]
  },
  {
   "cell_type": "code",
   "execution_count": 56,
   "id": "5ce0a5cb-201f-45a0-ade5-94c7f0bd6095",
   "metadata": {
    "execution": {
     "iopub.execute_input": "2025-07-30T13:20:30.958753Z",
     "iopub.status.busy": "2025-07-30T13:20:30.958252Z",
     "iopub.status.idle": "2025-07-30T13:20:30.965271Z",
     "shell.execute_reply": "2025-07-30T13:20:30.964383Z"
    },
    "papermill": {
     "duration": 0.034312,
     "end_time": "2025-07-30T13:20:30.966878",
     "exception": false,
     "start_time": "2025-07-30T13:20:30.932566",
     "status": "completed"
    },
    "tags": []
   },
   "outputs": [
    {
     "data": {
      "text/plain": [
       "{'coverage': 0.9089510645412997, 'avg_size': 1.1326830899565266}"
      ]
     },
     "execution_count": 56,
     "metadata": {},
     "output_type": "execute_result"
    }
   ],
   "source": [
    "metrics"
   ]
  },
  {
   "cell_type": "code",
   "execution_count": 57,
   "id": "9b9a838d-31c9-430b-ae14-12baee460d17",
   "metadata": {
    "execution": {
     "iopub.execute_input": "2025-07-30T13:20:31.020397Z",
     "iopub.status.busy": "2025-07-30T13:20:31.019694Z",
     "iopub.status.idle": "2025-07-30T13:20:31.026124Z",
     "shell.execute_reply": "2025-07-30T13:20:31.024910Z"
    },
    "papermill": {
     "duration": 0.034136,
     "end_time": "2025-07-30T13:20:31.027941",
     "exception": false,
     "start_time": "2025-07-30T13:20:30.993805",
     "status": "completed"
    },
    "tags": []
   },
   "outputs": [],
   "source": [
    "example_universe = universe.copy()\n",
    "universe_training_size = example_universe.get(\"training_size\")\n",
    "universe_scale = example_universe.get(\"scale\")\n",
    "universe_model = example_universe.get(\"model\")\n",
    "universe_exclude_features = example_universe.get(\"exclude_features\")\n",
    "universe_exclude_subgroups = example_universe.get(\"exclude_subgroups\")"
   ]
  },
  {
   "cell_type": "code",
   "execution_count": 58,
   "id": "f4b6a8ac-9dc0-4245-8a91-5b3b5999c4f9",
   "metadata": {
    "execution": {
     "iopub.execute_input": "2025-07-30T13:20:31.082792Z",
     "iopub.status.busy": "2025-07-30T13:20:31.082178Z",
     "iopub.status.idle": "2025-07-30T13:20:31.088501Z",
     "shell.execute_reply": "2025-07-30T13:20:31.087446Z"
    },
    "papermill": {
     "duration": 0.034699,
     "end_time": "2025-07-30T13:20:31.090073",
     "exception": false,
     "start_time": "2025-07-30T13:20:31.055374",
     "status": "completed"
    },
    "tags": []
   },
   "outputs": [],
   "source": [
    "cp_metrics_dict = {\n",
    "    \"universe_id\": [universe_id],\n",
    "    \"universe_training_size\": [universe_training_size],\n",
    "    \"universe_scale\": [universe_scale],\n",
    "    \"universe_model\": [universe_model],\n",
    "    \"universe_exclude_features\": [universe_exclude_features],\n",
    "    \"universe_exclude_subgroups\": [universe_exclude_subgroups],\n",
    "    \"q_hat\": [q_hat],\n",
    "    \"coverage\": [metrics[\"coverage\"]],\n",
    "    \"avg_size\": [metrics[\"avg_size\"]],\n",
    "}"
   ]
  },
  {
   "cell_type": "code",
   "execution_count": 59,
   "id": "908acbb1-0371-4915-85ca-3fa520d2efe2",
   "metadata": {
    "execution": {
     "iopub.execute_input": "2025-07-30T13:20:31.145012Z",
     "iopub.status.busy": "2025-07-30T13:20:31.144360Z",
     "iopub.status.idle": "2025-07-30T13:20:31.151673Z",
     "shell.execute_reply": "2025-07-30T13:20:31.150746Z"
    },
    "papermill": {
     "duration": 0.036479,
     "end_time": "2025-07-30T13:20:31.153406",
     "exception": false,
     "start_time": "2025-07-30T13:20:31.116927",
     "status": "completed"
    },
    "tags": []
   },
   "outputs": [
    {
     "data": {
      "text/plain": [
       "{'universe_id': ['226a506f4560c0375082c005cb7fdde2'],\n",
       " 'universe_training_size': ['25k'],\n",
       " 'universe_scale': ['do-not-scale'],\n",
       " 'universe_model': ['elasticnet'],\n",
       " 'universe_exclude_features': ['sex'],\n",
       " 'universe_exclude_subgroups': ['drop-non-german'],\n",
       " 'q_hat': [0.6840197092493967],\n",
       " 'coverage': [0.9089510645412997],\n",
       " 'avg_size': [1.1326830899565266]}"
      ]
     },
     "execution_count": 59,
     "metadata": {},
     "output_type": "execute_result"
    }
   ],
   "source": [
    "cp_metrics_dict"
   ]
  },
  {
   "cell_type": "code",
   "execution_count": 60,
   "id": "33007efc-14e9-4ec6-97ac-56a455c82265",
   "metadata": {
    "execution": {
     "iopub.execute_input": "2025-07-30T13:20:31.207642Z",
     "iopub.status.busy": "2025-07-30T13:20:31.207175Z",
     "iopub.status.idle": "2025-07-30T13:20:31.213189Z",
     "shell.execute_reply": "2025-07-30T13:20:31.212226Z"
    },
    "papermill": {
     "duration": 0.034315,
     "end_time": "2025-07-30T13:20:31.214721",
     "exception": false,
     "start_time": "2025-07-30T13:20:31.180406",
     "status": "completed"
    },
    "tags": []
   },
   "outputs": [],
   "source": [
    "cp_metrics_df = pd.DataFrame(cp_metrics_dict)"
   ]
  },
  {
   "cell_type": "code",
   "execution_count": 61,
   "id": "db12611b-57b2-4910-b9d0-355adfd6e7bf",
   "metadata": {
    "execution": {
     "iopub.execute_input": "2025-07-30T13:20:31.269836Z",
     "iopub.status.busy": "2025-07-30T13:20:31.269382Z",
     "iopub.status.idle": "2025-07-30T13:20:31.286911Z",
     "shell.execute_reply": "2025-07-30T13:20:31.285841Z"
    },
    "papermill": {
     "duration": 0.048324,
     "end_time": "2025-07-30T13:20:31.288733",
     "exception": false,
     "start_time": "2025-07-30T13:20:31.240409",
     "status": "completed"
    },
    "tags": []
   },
   "outputs": [
    {
     "data": {
      "text/html": [
       "<div>\n",
       "<style scoped>\n",
       "    .dataframe tbody tr th:only-of-type {\n",
       "        vertical-align: middle;\n",
       "    }\n",
       "\n",
       "    .dataframe tbody tr th {\n",
       "        vertical-align: top;\n",
       "    }\n",
       "\n",
       "    .dataframe thead th {\n",
       "        text-align: right;\n",
       "    }\n",
       "</style>\n",
       "<table border=\"1\" class=\"dataframe\">\n",
       "  <thead>\n",
       "    <tr style=\"text-align: right;\">\n",
       "      <th></th>\n",
       "      <th>universe_id</th>\n",
       "      <th>universe_training_size</th>\n",
       "      <th>universe_scale</th>\n",
       "      <th>universe_model</th>\n",
       "      <th>universe_exclude_features</th>\n",
       "      <th>universe_exclude_subgroups</th>\n",
       "      <th>q_hat</th>\n",
       "      <th>coverage</th>\n",
       "      <th>avg_size</th>\n",
       "    </tr>\n",
       "  </thead>\n",
       "  <tbody>\n",
       "    <tr>\n",
       "      <th>0</th>\n",
       "      <td>226a506f4560c0375082c005cb7fdde2</td>\n",
       "      <td>25k</td>\n",
       "      <td>do-not-scale</td>\n",
       "      <td>elasticnet</td>\n",
       "      <td>sex</td>\n",
       "      <td>drop-non-german</td>\n",
       "      <td>0.68402</td>\n",
       "      <td>0.908951</td>\n",
       "      <td>1.132683</td>\n",
       "    </tr>\n",
       "  </tbody>\n",
       "</table>\n",
       "</div>"
      ],
      "text/plain": [
       "                        universe_id universe_training_size universe_scale  \\\n",
       "0  226a506f4560c0375082c005cb7fdde2                    25k   do-not-scale   \n",
       "\n",
       "  universe_model universe_exclude_features universe_exclude_subgroups  \\\n",
       "0     elasticnet                       sex            drop-non-german   \n",
       "\n",
       "     q_hat  coverage  avg_size  \n",
       "0  0.68402  0.908951  1.132683  "
      ]
     },
     "execution_count": 61,
     "metadata": {},
     "output_type": "execute_result"
    }
   ],
   "source": [
    "cp_metrics_df"
   ]
  },
  {
   "cell_type": "code",
   "execution_count": 62,
   "id": "b7fbde55-a0a1-47e4-9af6-fe4a17fa8c61",
   "metadata": {
    "execution": {
     "iopub.execute_input": "2025-07-30T13:20:31.345745Z",
     "iopub.status.busy": "2025-07-30T13:20:31.345077Z",
     "iopub.status.idle": "2025-07-30T13:20:31.350943Z",
     "shell.execute_reply": "2025-07-30T13:20:31.349785Z"
    },
    "papermill": {
     "duration": 0.036615,
     "end_time": "2025-07-30T13:20:31.352959",
     "exception": false,
     "start_time": "2025-07-30T13:20:31.316344",
     "status": "completed"
    },
    "tags": []
   },
   "outputs": [],
   "source": [
    "# Conditional Coverage & looking at subgroups"
   ]
  },
  {
   "cell_type": "code",
   "execution_count": 63,
   "id": "027ae886-68dd-4141-96c7-805a5450e1ef",
   "metadata": {
    "execution": {
     "iopub.execute_input": "2025-07-30T13:20:31.404480Z",
     "iopub.status.busy": "2025-07-30T13:20:31.403832Z",
     "iopub.status.idle": "2025-07-30T13:20:31.683401Z",
     "shell.execute_reply": "2025-07-30T13:20:31.682289Z"
    },
    "papermill": {
     "duration": 0.306283,
     "end_time": "2025-07-30T13:20:31.685351",
     "exception": false,
     "start_time": "2025-07-30T13:20:31.379068",
     "status": "completed"
    },
    "tags": []
   },
   "outputs": [],
   "source": [
    "from fairness_multiverse.conformal import build_cp_groups\n",
    "\n",
    "cp_groups_df = build_cp_groups(pred_sets, y_true, X_test.index, org_test)\n",
    "#needs universe_id and setting"
   ]
  },
  {
   "cell_type": "code",
   "execution_count": 64,
   "id": "01d5802c-663a-4d1f-9d69-e036faaffbf7",
   "metadata": {
    "execution": {
     "iopub.execute_input": "2025-07-30T13:20:31.737762Z",
     "iopub.status.busy": "2025-07-30T13:20:31.737247Z",
     "iopub.status.idle": "2025-07-30T13:20:31.742165Z",
     "shell.execute_reply": "2025-07-30T13:20:31.741289Z"
    },
    "papermill": {
     "duration": 0.033059,
     "end_time": "2025-07-30T13:20:31.743786",
     "exception": false,
     "start_time": "2025-07-30T13:20:31.710727",
     "status": "completed"
    },
    "tags": []
   },
   "outputs": [],
   "source": [
    "#delete\n",
    "#cp_groups_df"
   ]
  },
  {
   "cell_type": "code",
   "execution_count": 65,
   "id": "fa424af1-d1eb-443d-b717-2d279ada8408",
   "metadata": {
    "execution": {
     "iopub.execute_input": "2025-07-30T13:20:31.796573Z",
     "iopub.status.busy": "2025-07-30T13:20:31.795919Z",
     "iopub.status.idle": "2025-07-30T13:20:31.800949Z",
     "shell.execute_reply": "2025-07-30T13:20:31.799940Z"
    },
    "papermill": {
     "duration": 0.032924,
     "end_time": "2025-07-30T13:20:31.802675",
     "exception": false,
     "start_time": "2025-07-30T13:20:31.769751",
     "status": "completed"
    },
    "tags": []
   },
   "outputs": [],
   "source": [
    "#delete\n",
    "#percentage = (cp_groups_df['nongerman_female'] == 1).mean() * 100\n",
    "#print(percentage)\n"
   ]
  },
  {
   "cell_type": "code",
   "execution_count": 66,
   "id": "6cbdab96-b2b2-45af-ad54-d0516db2e28d",
   "metadata": {
    "execution": {
     "iopub.execute_input": "2025-07-30T13:20:31.854837Z",
     "iopub.status.busy": "2025-07-30T13:20:31.854369Z",
     "iopub.status.idle": "2025-07-30T13:20:33.381921Z",
     "shell.execute_reply": "2025-07-30T13:20:33.380691Z"
    },
    "papermill": {
     "duration": 1.555853,
     "end_time": "2025-07-30T13:20:33.383981",
     "exception": false,
     "start_time": "2025-07-30T13:20:31.828128",
     "status": "completed"
    },
    "tags": []
   },
   "outputs": [],
   "source": [
    "# Define covered = 1 if true_label is in the predicted set\n",
    "cp_groups_df['covered'] = cp_groups_df.apply(\n",
    "    lambda r: int(r['true_label'] in r['pred_set']),\n",
    "    axis=1\n",
    ")"
   ]
  },
  {
   "cell_type": "code",
   "execution_count": 67,
   "id": "338ff529-1a6b-4b87-a931-8e4788d52aad",
   "metadata": {
    "execution": {
     "iopub.execute_input": "2025-07-30T13:20:33.439072Z",
     "iopub.status.busy": "2025-07-30T13:20:33.438134Z",
     "iopub.status.idle": "2025-07-30T13:20:33.443906Z",
     "shell.execute_reply": "2025-07-30T13:20:33.443028Z"
    },
    "papermill": {
     "duration": 0.035493,
     "end_time": "2025-07-30T13:20:33.445824",
     "exception": false,
     "start_time": "2025-07-30T13:20:33.410331",
     "status": "completed"
    },
    "tags": []
   },
   "outputs": [],
   "source": [
    "#cp_groups_df"
   ]
  },
  {
   "cell_type": "code",
   "execution_count": 68,
   "id": "90032e27-66df-4540-9169-4e89cfbaa758",
   "metadata": {
    "execution": {
     "iopub.execute_input": "2025-07-30T13:20:33.496573Z",
     "iopub.status.busy": "2025-07-30T13:20:33.496192Z",
     "iopub.status.idle": "2025-07-30T13:20:33.506462Z",
     "shell.execute_reply": "2025-07-30T13:20:33.505721Z"
    },
    "papermill": {
     "duration": 0.03657,
     "end_time": "2025-07-30T13:20:33.507926",
     "exception": false,
     "start_time": "2025-07-30T13:20:33.471356",
     "status": "completed"
    },
    "tags": []
   },
   "outputs": [],
   "source": [
    "subgroups = ['frau1','nongerman','nongerman_male','nongerman_female']\n",
    "\n",
    "# Conditional coverage for subgroup==1\n",
    "cond_coverage = {\n",
    "    g: cp_groups_df.loc[cp_groups_df[g]==1, 'covered'].mean()\n",
    "    for g in subgroups\n",
    "}"
   ]
  },
  {
   "cell_type": "code",
   "execution_count": 69,
   "id": "1e348fb1-b9c3-45bc-ba23-f016827a7e0d",
   "metadata": {
    "execution": {
     "iopub.execute_input": "2025-07-30T13:20:33.546940Z",
     "iopub.status.busy": "2025-07-30T13:20:33.546491Z",
     "iopub.status.idle": "2025-07-30T13:20:33.554036Z",
     "shell.execute_reply": "2025-07-30T13:20:33.553080Z"
    },
    "papermill": {
     "duration": 0.032294,
     "end_time": "2025-07-30T13:20:33.555703",
     "exception": false,
     "start_time": "2025-07-30T13:20:33.523409",
     "status": "completed"
    },
    "tags": []
   },
   "outputs": [
    {
     "data": {
      "text/plain": [
       "{'frau1': 0.907184256638361,\n",
       " 'nongerman': 0.9072587436142143,\n",
       " 'nongerman_male': 0.9229937854633883,\n",
       " 'nongerman_female': 0.8812220566318927}"
      ]
     },
     "execution_count": 69,
     "metadata": {},
     "output_type": "execute_result"
    }
   ],
   "source": [
    "cond_coverage"
   ]
  },
  {
   "cell_type": "code",
   "execution_count": 70,
   "id": "f5093324-c3dd-4d63-bc4c-8d945e5c8bbb",
   "metadata": {
    "execution": {
     "iopub.execute_input": "2025-07-30T13:20:33.614625Z",
     "iopub.status.busy": "2025-07-30T13:20:33.614177Z",
     "iopub.status.idle": "2025-07-30T13:20:33.621162Z",
     "shell.execute_reply": "2025-07-30T13:20:33.620287Z"
    },
    "papermill": {
     "duration": 0.038353,
     "end_time": "2025-07-30T13:20:33.622867",
     "exception": false,
     "start_time": "2025-07-30T13:20:33.584514",
     "status": "completed"
    },
    "tags": []
   },
   "outputs": [],
   "source": [
    "for subgroup, cov in cond_coverage.items():\n",
    "    cp_metrics_df[f\"cov_{subgroup}\"] = cov"
   ]
  },
  {
   "cell_type": "code",
   "execution_count": 71,
   "id": "6e872e10-dbe5-49e8-b554-5030c98ff75d",
   "metadata": {
    "execution": {
     "iopub.execute_input": "2025-07-30T13:20:33.677648Z",
     "iopub.status.busy": "2025-07-30T13:20:33.677223Z",
     "iopub.status.idle": "2025-07-30T13:20:33.691482Z",
     "shell.execute_reply": "2025-07-30T13:20:33.690650Z"
    },
    "papermill": {
     "duration": 0.040346,
     "end_time": "2025-07-30T13:20:33.692888",
     "exception": false,
     "start_time": "2025-07-30T13:20:33.652542",
     "status": "completed"
    },
    "tags": []
   },
   "outputs": [
    {
     "data": {
      "text/html": [
       "<div>\n",
       "<style scoped>\n",
       "    .dataframe tbody tr th:only-of-type {\n",
       "        vertical-align: middle;\n",
       "    }\n",
       "\n",
       "    .dataframe tbody tr th {\n",
       "        vertical-align: top;\n",
       "    }\n",
       "\n",
       "    .dataframe thead th {\n",
       "        text-align: right;\n",
       "    }\n",
       "</style>\n",
       "<table border=\"1\" class=\"dataframe\">\n",
       "  <thead>\n",
       "    <tr style=\"text-align: right;\">\n",
       "      <th></th>\n",
       "      <th>universe_id</th>\n",
       "      <th>universe_training_size</th>\n",
       "      <th>universe_scale</th>\n",
       "      <th>universe_model</th>\n",
       "      <th>universe_exclude_features</th>\n",
       "      <th>universe_exclude_subgroups</th>\n",
       "      <th>q_hat</th>\n",
       "      <th>coverage</th>\n",
       "      <th>avg_size</th>\n",
       "      <th>cov_frau1</th>\n",
       "      <th>cov_nongerman</th>\n",
       "      <th>cov_nongerman_male</th>\n",
       "      <th>cov_nongerman_female</th>\n",
       "    </tr>\n",
       "  </thead>\n",
       "  <tbody>\n",
       "    <tr>\n",
       "      <th>0</th>\n",
       "      <td>226a506f4560c0375082c005cb7fdde2</td>\n",
       "      <td>25k</td>\n",
       "      <td>do-not-scale</td>\n",
       "      <td>elasticnet</td>\n",
       "      <td>sex</td>\n",
       "      <td>drop-non-german</td>\n",
       "      <td>0.68402</td>\n",
       "      <td>0.908951</td>\n",
       "      <td>1.132683</td>\n",
       "      <td>0.907184</td>\n",
       "      <td>0.907259</td>\n",
       "      <td>0.922994</td>\n",
       "      <td>0.881222</td>\n",
       "    </tr>\n",
       "  </tbody>\n",
       "</table>\n",
       "</div>"
      ],
      "text/plain": [
       "                        universe_id universe_training_size universe_scale  \\\n",
       "0  226a506f4560c0375082c005cb7fdde2                    25k   do-not-scale   \n",
       "\n",
       "  universe_model universe_exclude_features universe_exclude_subgroups  \\\n",
       "0     elasticnet                       sex            drop-non-german   \n",
       "\n",
       "     q_hat  coverage  avg_size  cov_frau1  cov_nongerman  cov_nongerman_male  \\\n",
       "0  0.68402  0.908951  1.132683   0.907184       0.907259            0.922994   \n",
       "\n",
       "   cov_nongerman_female  \n",
       "0              0.881222  "
      ]
     },
     "execution_count": 71,
     "metadata": {},
     "output_type": "execute_result"
    }
   ],
   "source": [
    "cp_metrics_df"
   ]
  },
  {
   "cell_type": "markdown",
   "id": "33774451",
   "metadata": {
    "papermill": {
     "duration": 0.013557,
     "end_time": "2025-07-30T13:20:33.721421",
     "exception": false,
     "start_time": "2025-07-30T13:20:33.707864",
     "status": "completed"
    },
    "tags": []
   },
   "source": [
    "# (Fairness) Metrics"
   ]
  },
  {
   "cell_type": "code",
   "execution_count": 72,
   "id": "debc5d62",
   "metadata": {
    "execution": {
     "iopub.execute_input": "2025-07-30T13:20:33.758800Z",
     "iopub.status.busy": "2025-07-30T13:20:33.758154Z",
     "iopub.status.idle": "2025-07-30T13:20:33.772624Z",
     "shell.execute_reply": "2025-07-30T13:20:33.771779Z"
    },
    "papermill": {
     "duration": 0.033412,
     "end_time": "2025-07-30T13:20:33.773971",
     "exception": false,
     "start_time": "2025-07-30T13:20:33.740559",
     "status": "completed"
    },
    "tags": []
   },
   "outputs": [],
   "source": [
    "# do I need to include maxdeutsch1.missing?\n",
    "\n",
    "import numpy as np\n",
    "\n",
    "colname_to_bin = \"maxdeutsch1\"\n",
    "majority_value = org_train[colname_to_bin].mode()[0]\n",
    "\n",
    "org_test[\"majmin\"] = np.where(org_test[colname_to_bin] == majority_value, \"majority\", \"minority\")"
   ]
  },
  {
   "cell_type": "code",
   "execution_count": 73,
   "id": "06a50de5",
   "metadata": {
    "execution": {
     "iopub.execute_input": "2025-07-30T13:20:33.810707Z",
     "iopub.status.busy": "2025-07-30T13:20:33.810252Z",
     "iopub.status.idle": "2025-07-30T13:20:35.946025Z",
     "shell.execute_reply": "2025-07-30T13:20:35.945237Z"
    },
    "papermill": {
     "duration": 2.156482,
     "end_time": "2025-07-30T13:20:35.947520",
     "exception": false,
     "start_time": "2025-07-30T13:20:33.791038",
     "status": "completed"
    },
    "tags": []
   },
   "outputs": [],
   "source": [
    "example_universe = universe.copy()\n",
    "example_universe[\"cutoff\"] = example_universe[\"cutoff\"][0]\n",
    "example_universe[\"eval_fairness_grouping\"] = example_universe[\"eval_fairness_grouping\"][0]\n",
    "fairness_dict, metric_frame = universe_analysis.compute_metrics(\n",
    "    example_universe,\n",
    "    y_pred_prob=probs_test,\n",
    "    y_test=y_true,\n",
    "    org_test=org_test,\n",
    ")"
   ]
  },
  {
   "cell_type": "markdown",
   "id": "f95d4e02",
   "metadata": {
    "papermill": {
     "duration": 0.028642,
     "end_time": "2025-07-30T13:20:36.001361",
     "exception": false,
     "start_time": "2025-07-30T13:20:35.972719",
     "status": "completed"
    },
    "tags": []
   },
   "source": [
    "# Overall"
   ]
  },
  {
   "cell_type": "markdown",
   "id": "bdee4871",
   "metadata": {
    "papermill": {
     "duration": 0.014762,
     "end_time": "2025-07-30T13:20:36.035690",
     "exception": false,
     "start_time": "2025-07-30T13:20:36.020928",
     "status": "completed"
    },
    "tags": []
   },
   "source": [
    "Fairness\n",
    "Main fairness target: Equalized Odds. Seems to be a better fit than equal opportunity, since we're not only interested in Y = 1. Seems to be a better fit than demographic parity, since we also care about accuracy, not just equal distribution of preds.\n",
    "\n",
    "Pick column for computation of fairness metrics\n",
    "\n",
    "Performance\n",
    "Overall performance measures, most interesting in relation to the measures split by group below"
   ]
  },
  {
   "cell_type": "code",
   "execution_count": 74,
   "id": "c4e067c6",
   "metadata": {
    "execution": {
     "iopub.execute_input": "2025-07-30T13:20:36.076240Z",
     "iopub.status.busy": "2025-07-30T13:20:36.075901Z",
     "iopub.status.idle": "2025-07-30T13:20:36.084411Z",
     "shell.execute_reply": "2025-07-30T13:20:36.083529Z"
    },
    "papermill": {
     "duration": 0.035877,
     "end_time": "2025-07-30T13:20:36.086066",
     "exception": false,
     "start_time": "2025-07-30T13:20:36.050189",
     "status": "completed"
    },
    "tags": []
   },
   "outputs": [
    {
     "data": {
      "text/plain": [
       "accuracy                   0.220589\n",
       "balanced accuracy          0.540162\n",
       "f1                         0.242024\n",
       "precision                  0.138260\n",
       "false positive rate        0.889696\n",
       "false negative rate        0.029979\n",
       "selection rate             0.900000\n",
       "count                  89710.000000\n",
       "dtype: float64"
      ]
     },
     "execution_count": 74,
     "metadata": {},
     "output_type": "execute_result"
    }
   ],
   "source": [
    "metric_frame.overall"
   ]
  },
  {
   "cell_type": "markdown",
   "id": "e968fe9d",
   "metadata": {
    "papermill": {
     "duration": 0.025718,
     "end_time": "2025-07-30T13:20:36.140646",
     "exception": false,
     "start_time": "2025-07-30T13:20:36.114928",
     "status": "completed"
    },
    "tags": []
   },
   "source": [
    "By Group"
   ]
  },
  {
   "cell_type": "code",
   "execution_count": 75,
   "id": "ec325bce",
   "metadata": {
    "execution": {
     "iopub.execute_input": "2025-07-30T13:20:36.197387Z",
     "iopub.status.busy": "2025-07-30T13:20:36.196894Z",
     "iopub.status.idle": "2025-07-30T13:20:36.213377Z",
     "shell.execute_reply": "2025-07-30T13:20:36.212210Z"
    },
    "papermill": {
     "duration": 0.04882,
     "end_time": "2025-07-30T13:20:36.214839",
     "exception": false,
     "start_time": "2025-07-30T13:20:36.166019",
     "status": "completed"
    },
    "tags": []
   },
   "outputs": [
    {
     "data": {
      "text/html": [
       "<div>\n",
       "<style scoped>\n",
       "    .dataframe tbody tr th:only-of-type {\n",
       "        vertical-align: middle;\n",
       "    }\n",
       "\n",
       "    .dataframe tbody tr th {\n",
       "        vertical-align: top;\n",
       "    }\n",
       "\n",
       "    .dataframe thead th {\n",
       "        text-align: right;\n",
       "    }\n",
       "</style>\n",
       "<table border=\"1\" class=\"dataframe\">\n",
       "  <thead>\n",
       "    <tr style=\"text-align: right;\">\n",
       "      <th></th>\n",
       "      <th>accuracy</th>\n",
       "      <th>balanced accuracy</th>\n",
       "      <th>f1</th>\n",
       "      <th>precision</th>\n",
       "      <th>false positive rate</th>\n",
       "      <th>false negative rate</th>\n",
       "      <th>selection rate</th>\n",
       "      <th>count</th>\n",
       "    </tr>\n",
       "    <tr>\n",
       "      <th>majmin</th>\n",
       "      <th></th>\n",
       "      <th></th>\n",
       "      <th></th>\n",
       "      <th></th>\n",
       "      <th></th>\n",
       "      <th></th>\n",
       "      <th></th>\n",
       "      <th></th>\n",
       "    </tr>\n",
       "  </thead>\n",
       "  <tbody>\n",
       "    <tr>\n",
       "      <th>majority</th>\n",
       "      <td>0.242518</td>\n",
       "      <td>0.549356</td>\n",
       "      <td>0.252152</td>\n",
       "      <td>0.144991</td>\n",
       "      <td>0.867699</td>\n",
       "      <td>0.033589</td>\n",
       "      <td>0.880743</td>\n",
       "      <td>69170.0</td>\n",
       "    </tr>\n",
       "    <tr>\n",
       "      <th>minority</th>\n",
       "      <td>0.146738</td>\n",
       "      <td>0.510797</td>\n",
       "      <td>0.210042</td>\n",
       "      <td>0.117570</td>\n",
       "      <td>0.962360</td>\n",
       "      <td>0.016047</td>\n",
       "      <td>0.964849</td>\n",
       "      <td>20540.0</td>\n",
       "    </tr>\n",
       "  </tbody>\n",
       "</table>\n",
       "</div>"
      ],
      "text/plain": [
       "          accuracy  balanced accuracy        f1  precision  \\\n",
       "majmin                                                       \n",
       "majority  0.242518           0.549356  0.252152   0.144991   \n",
       "minority  0.146738           0.510797  0.210042   0.117570   \n",
       "\n",
       "          false positive rate  false negative rate  selection rate    count  \n",
       "majmin                                                                       \n",
       "majority             0.867699             0.033589        0.880743  69170.0  \n",
       "minority             0.962360             0.016047        0.964849  20540.0  "
      ]
     },
     "execution_count": 75,
     "metadata": {},
     "output_type": "execute_result"
    }
   ],
   "source": [
    "metric_frame.by_group"
   ]
  },
  {
   "cell_type": "code",
   "execution_count": 76,
   "id": "a9ddbe63",
   "metadata": {
    "execution": {
     "iopub.execute_input": "2025-07-30T13:20:36.274849Z",
     "iopub.status.busy": "2025-07-30T13:20:36.274499Z",
     "iopub.status.idle": "2025-07-30T13:20:37.939419Z",
     "shell.execute_reply": "2025-07-30T13:20:37.938694Z"
    },
    "papermill": {
     "duration": 1.696089,
     "end_time": "2025-07-30T13:20:37.940699",
     "exception": false,
     "start_time": "2025-07-30T13:20:36.244610",
     "status": "completed"
    },
    "tags": []
   },
   "outputs": [
    {
     "data": {
      "text/plain": [
       "array([[<Axes: title={'center': 'accuracy'}, xlabel='majmin'>,\n",
       "        <Axes: title={'center': 'balanced accuracy'}, xlabel='majmin'>,\n",
       "        <Axes: title={'center': 'f1'}, xlabel='majmin'>],\n",
       "       [<Axes: title={'center': 'precision'}, xlabel='majmin'>,\n",
       "        <Axes: title={'center': 'false positive rate'}, xlabel='majmin'>,\n",
       "        <Axes: title={'center': 'false negative rate'}, xlabel='majmin'>],\n",
       "       [<Axes: title={'center': 'selection rate'}, xlabel='majmin'>,\n",
       "        <Axes: title={'center': 'count'}, xlabel='majmin'>,\n",
       "        <Axes: xlabel='majmin'>]], dtype=object)"
      ]
     },
     "execution_count": 76,
     "metadata": {},
     "output_type": "execute_result"
    },
    {
     "data": {
      "image/png": "[encoded data removed]",
      "text/plain": [
       "<Figure size 1200x800 with 9 Axes>"
      ]
     },
     "metadata": {},
     "output_type": "display_data"
    }
   ],
   "source": [
    "# In a graphic\n",
    "metric_frame.by_group.plot.bar(\n",
    "    subplots=True,\n",
    "    layout=[3, 3],\n",
    "    legend=False,\n",
    "    figsize=[12, 8],\n",
    "    title=\"Show all metrics\",\n",
    ")"
   ]
  },
  {
   "cell_type": "markdown",
   "id": "f57a0bac",
   "metadata": {
    "papermill": {
     "duration": 0.014831,
     "end_time": "2025-07-30T13:20:37.971709",
     "exception": false,
     "start_time": "2025-07-30T13:20:37.956878",
     "status": "completed"
    },
    "tags": []
   },
   "source": [
    "# Final Output"
   ]
  },
  {
   "cell_type": "code",
   "execution_count": 77,
   "id": "96d280a3",
   "metadata": {
    "execution": {
     "iopub.execute_input": "2025-07-30T13:20:38.003562Z",
     "iopub.status.busy": "2025-07-30T13:20:38.002939Z",
     "iopub.status.idle": "2025-07-30T13:20:38.010078Z",
     "shell.execute_reply": "2025-07-30T13:20:38.009365Z"
    },
    "papermill": {
     "duration": 0.024753,
     "end_time": "2025-07-30T13:20:38.011464",
     "exception": false,
     "start_time": "2025-07-30T13:20:37.986711",
     "status": "completed"
    },
    "tags": []
   },
   "outputs": [
    {
     "data": {
      "text/plain": [
       "4"
      ]
     },
     "execution_count": 77,
     "metadata": {},
     "output_type": "execute_result"
    }
   ],
   "source": [
    "sub_universes = universe_analysis.generate_sub_universes()\n",
    "len(sub_universes)"
   ]
  },
  {
   "cell_type": "code",
   "execution_count": 78,
   "id": "92adf7ba",
   "metadata": {
    "execution": {
     "iopub.execute_input": "2025-07-30T13:20:38.044746Z",
     "iopub.status.busy": "2025-07-30T13:20:38.044250Z",
     "iopub.status.idle": "2025-07-30T13:20:38.049798Z",
     "shell.execute_reply": "2025-07-30T13:20:38.048978Z"
    },
    "papermill": {
     "duration": 0.022945,
     "end_time": "2025-07-30T13:20:38.051141",
     "exception": false,
     "start_time": "2025-07-30T13:20:38.028196",
     "status": "completed"
    },
    "tags": []
   },
   "outputs": [],
   "source": [
    "def filter_sub_universe_data(sub_universe, org_test):\n",
    "    # Keep all rows — no filtering\n",
    "    keep_rows_mask = np.ones(org_test.shape[0], dtype=bool)\n",
    "\n",
    "    print(f\"[INFO] Keeping all rows: {keep_rows_mask.sum()} rows retained.\")\n",
    "    return keep_rows_mask"
   ]
  },
  {
   "cell_type": "code",
   "execution_count": 79,
   "id": "4a759155",
   "metadata": {
    "execution": {
     "iopub.execute_input": "2025-07-30T13:20:38.084801Z",
     "iopub.status.busy": "2025-07-30T13:20:38.084310Z",
     "iopub.status.idle": "2025-07-30T13:20:43.670865Z",
     "shell.execute_reply": "2025-07-30T13:20:43.669972Z"
    },
    "papermill": {
     "duration": 5.604291,
     "end_time": "2025-07-30T13:20:43.672438",
     "exception": false,
     "start_time": "2025-07-30T13:20:38.068147",
     "status": "completed"
    },
    "tags": []
   },
   "outputs": [
    {
     "name": "stdout",
     "output_type": "stream",
     "text": [
      "Stopping execution_time clock.\n",
      "[INFO] Keeping all rows: 89710 rows retained.\n"
     ]
    },
    {
     "name": "stdout",
     "output_type": "stream",
     "text": [
      "[INFO] Keeping all rows: 89710 rows retained.\n"
     ]
    },
    {
     "name": "stdout",
     "output_type": "stream",
     "text": [
      "[INFO] Keeping all rows: 89710 rows retained.\n"
     ]
    },
    {
     "name": "stdout",
     "output_type": "stream",
     "text": [
      "[INFO] Keeping all rows: 89710 rows retained.\n"
     ]
    },
    {
     "data": {
      "text/html": [
       "<div>\n",
       "<style scoped>\n",
       "    .dataframe tbody tr th:only-of-type {\n",
       "        vertical-align: middle;\n",
       "    }\n",
       "\n",
       "    .dataframe tbody tr th {\n",
       "        vertical-align: top;\n",
       "    }\n",
       "\n",
       "    .dataframe thead th {\n",
       "        text-align: right;\n",
       "    }\n",
       "</style>\n",
       "<table border=\"1\" class=\"dataframe\">\n",
       "  <thead>\n",
       "    <tr style=\"text-align: right;\">\n",
       "      <th></th>\n",
       "      <th>run_no</th>\n",
       "      <th>universe_id</th>\n",
       "      <th>universe_settings</th>\n",
       "      <th>execution_time</th>\n",
       "      <th>test_size_n</th>\n",
       "      <th>test_size_frac</th>\n",
       "      <th>fair_main_equalized_odds_difference</th>\n",
       "      <th>fair_main_equalized_odds_ratio</th>\n",
       "      <th>fair_main_demographic_parity_difference</th>\n",
       "      <th>fair_main_demographic_parity_ratio</th>\n",
       "      <th>...</th>\n",
       "      <th>perf_grp_precision_0</th>\n",
       "      <th>perf_grp_precision_1</th>\n",
       "      <th>perf_grp_false positive rate_0</th>\n",
       "      <th>perf_grp_false positive rate_1</th>\n",
       "      <th>perf_grp_false negative rate_0</th>\n",
       "      <th>perf_grp_false negative rate_1</th>\n",
       "      <th>perf_grp_selection rate_0</th>\n",
       "      <th>perf_grp_selection rate_1</th>\n",
       "      <th>perf_grp_count_0</th>\n",
       "      <th>perf_grp_count_1</th>\n",
       "    </tr>\n",
       "  </thead>\n",
       "  <tbody>\n",
       "    <tr>\n",
       "      <th>0</th>\n",
       "      <td>12</td>\n",
       "      <td>226a506f4560c0375082c005cb7fdde2</td>\n",
       "      <td>{\"cutoff\": \"quantile_0.1\", \"eval_fairness_grou...</td>\n",
       "      <td>203.607549</td>\n",
       "      <td>89710</td>\n",
       "      <td>1.0</td>\n",
       "      <td>0.094660</td>\n",
       "      <td>0.901637</td>\n",
       "      <td>0.084106</td>\n",
       "      <td>0.912830</td>\n",
       "      <td>...</td>\n",
       "      <td>NaN</td>\n",
       "      <td>NaN</td>\n",
       "      <td>NaN</td>\n",
       "      <td>NaN</td>\n",
       "      <td>NaN</td>\n",
       "      <td>NaN</td>\n",
       "      <td>NaN</td>\n",
       "      <td>NaN</td>\n",
       "      <td>NaN</td>\n",
       "      <td>NaN</td>\n",
       "    </tr>\n",
       "    <tr>\n",
       "      <th>0</th>\n",
       "      <td>12</td>\n",
       "      <td>226a506f4560c0375082c005cb7fdde2</td>\n",
       "      <td>{\"cutoff\": \"quantile_0.1\", \"eval_fairness_grou...</td>\n",
       "      <td>203.607549</td>\n",
       "      <td>89710</td>\n",
       "      <td>1.0</td>\n",
       "      <td>0.094660</td>\n",
       "      <td>0.901637</td>\n",
       "      <td>0.084106</td>\n",
       "      <td>0.912830</td>\n",
       "      <td>...</td>\n",
       "      <td>0.117570</td>\n",
       "      <td>0.144991</td>\n",
       "      <td>0.962360</td>\n",
       "      <td>0.867699</td>\n",
       "      <td>0.016047</td>\n",
       "      <td>0.033589</td>\n",
       "      <td>0.964849</td>\n",
       "      <td>0.880743</td>\n",
       "      <td>20540.0</td>\n",
       "      <td>69170.0</td>\n",
       "    </tr>\n",
       "    <tr>\n",
       "      <th>0</th>\n",
       "      <td>12</td>\n",
       "      <td>226a506f4560c0375082c005cb7fdde2</td>\n",
       "      <td>{\"cutoff\": \"quantile_0.25\", \"eval_fairness_gro...</td>\n",
       "      <td>203.607549</td>\n",
       "      <td>89710</td>\n",
       "      <td>1.0</td>\n",
       "      <td>0.208843</td>\n",
       "      <td>0.764645</td>\n",
       "      <td>0.186089</td>\n",
       "      <td>0.791725</td>\n",
       "      <td>...</td>\n",
       "      <td>NaN</td>\n",
       "      <td>NaN</td>\n",
       "      <td>NaN</td>\n",
       "      <td>NaN</td>\n",
       "      <td>NaN</td>\n",
       "      <td>NaN</td>\n",
       "      <td>NaN</td>\n",
       "      <td>NaN</td>\n",
       "      <td>NaN</td>\n",
       "      <td>NaN</td>\n",
       "    </tr>\n",
       "    <tr>\n",
       "      <th>0</th>\n",
       "      <td>12</td>\n",
       "      <td>226a506f4560c0375082c005cb7fdde2</td>\n",
       "      <td>{\"cutoff\": \"quantile_0.25\", \"eval_fairness_gro...</td>\n",
       "      <td>203.607549</td>\n",
       "      <td>89710</td>\n",
       "      <td>1.0</td>\n",
       "      <td>0.208843</td>\n",
       "      <td>0.764645</td>\n",
       "      <td>0.186089</td>\n",
       "      <td>0.791725</td>\n",
       "      <td>...</td>\n",
       "      <td>0.121349</td>\n",
       "      <td>0.167566</td>\n",
       "      <td>0.887354</td>\n",
       "      <td>0.678511</td>\n",
       "      <td>0.059544</td>\n",
       "      <td>0.102954</td>\n",
       "      <td>0.893476</td>\n",
       "      <td>0.707388</td>\n",
       "      <td>20540.0</td>\n",
       "      <td>69170.0</td>\n",
       "    </tr>\n",
       "  </tbody>\n",
       "</table>\n",
       "<p>4 rows × 50 columns</p>\n",
       "</div>"
      ],
      "text/plain": [
       "  run_no                       universe_id  \\\n",
       "0     12  226a506f4560c0375082c005cb7fdde2   \n",
       "0     12  226a506f4560c0375082c005cb7fdde2   \n",
       "0     12  226a506f4560c0375082c005cb7fdde2   \n",
       "0     12  226a506f4560c0375082c005cb7fdde2   \n",
       "\n",
       "                                   universe_settings  execution_time  \\\n",
       "0  {\"cutoff\": \"quantile_0.1\", \"eval_fairness_grou...      203.607549   \n",
       "0  {\"cutoff\": \"quantile_0.1\", \"eval_fairness_grou...      203.607549   \n",
       "0  {\"cutoff\": \"quantile_0.25\", \"eval_fairness_gro...      203.607549   \n",
       "0  {\"cutoff\": \"quantile_0.25\", \"eval_fairness_gro...      203.607549   \n",
       "\n",
       "   test_size_n  test_size_frac  fair_main_equalized_odds_difference  \\\n",
       "0        89710             1.0                             0.094660   \n",
       "0        89710             1.0                             0.094660   \n",
       "0        89710             1.0                             0.208843   \n",
       "0        89710             1.0                             0.208843   \n",
       "\n",
       "   fair_main_equalized_odds_ratio  fair_main_demographic_parity_difference  \\\n",
       "0                        0.901637                                 0.084106   \n",
       "0                        0.901637                                 0.084106   \n",
       "0                        0.764645                                 0.186089   \n",
       "0                        0.764645                                 0.186089   \n",
       "\n",
       "   fair_main_demographic_parity_ratio  ...  perf_grp_precision_0  \\\n",
       "0                            0.912830  ...                   NaN   \n",
       "0                            0.912830  ...              0.117570   \n",
       "0                            0.791725  ...                   NaN   \n",
       "0                            0.791725  ...              0.121349   \n",
       "\n",
       "   perf_grp_precision_1  perf_grp_false positive rate_0  \\\n",
       "0                   NaN                             NaN   \n",
       "0              0.144991                        0.962360   \n",
       "0                   NaN                             NaN   \n",
       "0              0.167566                        0.887354   \n",
       "\n",
       "   perf_grp_false positive rate_1  perf_grp_false negative rate_0  \\\n",
       "0                             NaN                             NaN   \n",
       "0                        0.867699                        0.016047   \n",
       "0                             NaN                             NaN   \n",
       "0                        0.678511                        0.059544   \n",
       "\n",
       "   perf_grp_false negative rate_1  perf_grp_selection rate_0  \\\n",
       "0                             NaN                        NaN   \n",
       "0                        0.033589                   0.964849   \n",
       "0                             NaN                        NaN   \n",
       "0                        0.102954                   0.893476   \n",
       "\n",
       "   perf_grp_selection rate_1  perf_grp_count_0  perf_grp_count_1  \n",
       "0                        NaN               NaN               NaN  \n",
       "0                   0.880743           20540.0           69170.0  \n",
       "0                        NaN               NaN               NaN  \n",
       "0                   0.707388           20540.0           69170.0  \n",
       "\n",
       "[4 rows x 50 columns]"
      ]
     },
     "execution_count": 79,
     "metadata": {},
     "output_type": "execute_result"
    }
   ],
   "source": [
    "final_output = universe_analysis.generate_final_output(\n",
    "    y_pred_prob=probs_test,\n",
    "    y_test=y_true,\n",
    "    org_test=org_test,\n",
    "    filter_data=filter_sub_universe_data,\n",
    "    cp_metrics_df=cp_metrics_df,\n",
    "    save=True,\n",
    ")\n",
    "final_output"
   ]
  },
  {
   "cell_type": "code",
   "execution_count": null,
   "id": "721ff514-cb11-46f8-b6fc-50392f74b5cb",
   "metadata": {
    "papermill": {
     "duration": 0.015527,
     "end_time": "2025-07-30T13:20:43.708670",
     "exception": false,
     "start_time": "2025-07-30T13:20:43.693143",
     "status": "completed"
    },
    "tags": []
   },
   "outputs": [],
   "source": []
  }
 ],
 "metadata": {
  "celltoolbar": "Tags",
  "kernelspec": {
   "display_name": "Python (CMA Fairness)",
   "language": "python",
   "name": "cma_fair_env"
  },
  "language_info": {
   "codemirror_mode": {
    "name": "ipython",
    "version": 3
   },
   "file_extension": ".py",
   "mimetype": "text/x-python",
   "name": "python",
   "nbconvert_exporter": "python",
   "pygments_lexer": "ipython3",
   "version": "3.10.12"
  },
  "papermill": {
   "default_parameters": {},
   "duration": 213.127136,
   "end_time": "2025-07-30T13:20:44.342152",
   "environment_variables": {},
   "exception": null,
   "input_path": "universe_analysis.ipynb",
   "output_path": "output/runs/12/notebooks/m_12-226a506f4560c0375082c005cb7fdde2.ipynb",
   "parameters": {
    "output_dir": "output",
    "run_no": "12",
    "seed": "2023",
    "universe": "{\"cutoff\": [\"quantile_0.1\", \"quantile_0.25\"], \"eval_fairness_grouping\": [\"majority-minority\", \"nationality-all\"], \"exclude_features\": \"sex\", \"exclude_subgroups\": \"drop-non-german\", \"model\": \"elasticnet\", \"scale\": \"do-not-scale\", \"training_size\": \"25k\", \"training_year\": \"2012_14\"}",
    "universe_id": "226a506f4560c0375082c005cb7fdde2"
   },
   "start_time": "2025-07-30T13:17:11.215016",
   "version": "2.6.0"
  }
 },
 "nbformat": 4,
 "nbformat_minor": 5
}