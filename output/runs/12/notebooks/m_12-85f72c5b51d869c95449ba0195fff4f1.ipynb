{
 "cells": [
  {
   "cell_type": "code",
   "execution_count": 1,
   "id": "f159f837-637b-42ba-96b5-ec9a68c44524",
   "metadata": {
    "execution": {
     "iopub.execute_input": "2025-07-30T14:22:55.086759Z",
     "iopub.status.busy": "2025-07-30T14:22:55.086054Z",
     "iopub.status.idle": "2025-07-30T14:22:55.100279Z",
     "shell.execute_reply": "2025-07-30T14:22:55.099379Z"
    },
    "papermill": {
     "duration": 0.041639,
     "end_time": "2025-07-30T14:22:55.102191",
     "exception": false,
     "start_time": "2025-07-30T14:22:55.060552",
     "status": "completed"
    },
    "tags": []
   },
   "outputs": [
    {
     "name": "stdout",
     "output_type": "stream",
     "text": [
      "/dss/dsshome1/0C/ra93lal2/cma/CMA_Fairness_v2\n"
     ]
    },
    {
     "name": "stderr",
     "output_type": "stream",
     "text": [
      "/dss/dsshome1/0C/ra93lal2/.local/share/virtualenvs/CMA_Fairness_v2-3j10GkSs/lib/python3.10/site-packages/IPython/core/magics/osm.py:393: UserWarning: This is now an optional IPython functionality, using bookmarks requires you to install the `pickleshare` library.\n",
      "  bkms = self.shell.db.get('bookmarks', {})\n",
      "/dss/dsshome1/0C/ra93lal2/.local/share/virtualenvs/CMA_Fairness_v2-3j10GkSs/lib/python3.10/site-packages/IPython/core/magics/osm.py:417: UserWarning: This is now an optional IPython functionality, setting dhist requires you to install the `pickleshare` library.\n",
      "  self.shell.db['dhist'] = compress_dhist(dhist)[-100:]\n"
     ]
    }
   ],
   "source": [
    "%cd ~/cma/CMA_Fairness_v2"
   ]
  },
  {
   "cell_type": "markdown",
   "id": "de2603b9",
   "metadata": {
    "papermill": {
     "duration": 0.023468,
     "end_time": "2025-07-30T14:22:55.149950",
     "exception": false,
     "start_time": "2025-07-30T14:22:55.126482",
     "status": "completed"
    },
    "tags": []
   },
   "source": [
    "The following cell holds the definition of our parameters, these values can be overriden by rendering the with e.g. the following command:\n",
    "\n",
    "papermill -p alpha 0.2 -p ratio 0.3 universe_analysis.ipynb output/test_run.ipynb"
   ]
  },
  {
   "cell_type": "code",
   "execution_count": 2,
   "id": "a80968a0-40bb-4fa9-85ef-2d5eefb01975",
   "metadata": {
    "execution": {
     "iopub.execute_input": "2025-07-30T14:22:55.190663Z",
     "iopub.status.busy": "2025-07-30T14:22:55.190144Z",
     "iopub.status.idle": "2025-07-30T14:22:55.196102Z",
     "shell.execute_reply": "2025-07-30T14:22:55.194995Z"
    },
    "papermill": {
     "duration": 0.028351,
     "end_time": "2025-07-30T14:22:55.197789",
     "exception": false,
     "start_time": "2025-07-30T14:22:55.169438",
     "status": "completed"
    },
    "tags": []
   },
   "outputs": [
    {
     "name": "stdout",
     "output_type": "stream",
     "text": [
      "Current working directory: /dss/dsshome1/0C/ra93lal2/cma/CMA_Fairness_v2\n"
     ]
    }
   ],
   "source": [
    "import os\n",
    "print(\"Current working directory:\", os.getcwd())"
   ]
  },
  {
   "cell_type": "code",
   "execution_count": 3,
   "id": "2dce4c03",
   "metadata": {
    "execution": {
     "iopub.execute_input": "2025-07-30T14:22:55.239008Z",
     "iopub.status.busy": "2025-07-30T14:22:55.238254Z",
     "iopub.status.idle": "2025-07-30T14:22:55.245202Z",
     "shell.execute_reply": "2025-07-30T14:22:55.244244Z"
    },
    "papermill": {
     "duration": 0.029612,
     "end_time": "2025-07-30T14:22:55.246971",
     "exception": false,
     "start_time": "2025-07-30T14:22:55.217359",
     "status": "completed"
    },
    "tags": [
     "parameters"
    ]
   },
   "outputs": [],
   "source": [
    "run_no = 0\n",
    "universe_id = \"test\"\n",
    "universe = {\n",
    "    \"training_size\": \"25k\", # \"25k\", \"5k\", \"1k\"\n",
    "    \"training_year\": \"2014\", # \"2014\", \"2012_14\", \"2010_14\"\n",
    "    \"scale\": \"scale\", # \"scale\", \"do-not-scale\",\n",
    "    #\"stratify_split\": \"target\", # \"none\", \"target\", \"protected-attribute\", \"both\",\n",
    "    \"model\": \"elasticnet\", # \"logreg\", \"penalized_logreg\", \"rf\", \"gbm\", \"elasticnet\"\n",
    "    \"cutoff\": [\"quantile_0.15\", \"quantile_0.30\"],\n",
    "    \"exclude_features\": \"age\", # \"none\", \"nationality\", \"sex\", \"nationality-sex\", \"age\"\n",
    "    \"exclude_subgroups\": \"keep-all\", # \"keep-all\", \"drop-non-german\"\n",
    "    \"eval_fairness_grouping\": [\"majority-minority\", \"nationality-all\"]\n",
    "}\n",
    "\n",
    "output_dir=\"./output\"\n",
    "seed=0"
   ]
  },
  {
   "cell_type": "code",
   "execution_count": 4,
   "id": "a67f7051",
   "metadata": {
    "execution": {
     "iopub.execute_input": "2025-07-30T14:22:55.288769Z",
     "iopub.status.busy": "2025-07-30T14:22:55.287614Z",
     "iopub.status.idle": "2025-07-30T14:22:55.294057Z",
     "shell.execute_reply": "2025-07-30T14:22:55.293016Z"
    },
    "papermill": {
     "duration": 0.02941,
     "end_time": "2025-07-30T14:22:55.295788",
     "exception": false,
     "start_time": "2025-07-30T14:22:55.266378",
     "status": "completed"
    },
    "tags": [
     "injected-parameters"
    ]
   },
   "outputs": [],
   "source": [
    "# Parameters\n",
    "universe_id = \"85f72c5b51d869c95449ba0195fff4f1\"\n",
    "run_no = \"12\"\n",
    "universe = \"{\\\"cutoff\\\": [\\\"quantile_0.1\\\", \\\"quantile_0.25\\\"], \\\"eval_fairness_grouping\\\": [\\\"majority-minority\\\", \\\"nationality-all\\\"], \\\"exclude_features\\\": \\\"nationality\\\", \\\"exclude_subgroups\\\": \\\"keep-all\\\", \\\"model\\\": \\\"elasticnet\\\", \\\"scale\\\": \\\"scale\\\", \\\"training_size\\\": \\\"1k\\\", \\\"training_year\\\": \\\"2014\\\"}\"\n",
    "output_dir = \"output\"\n",
    "seed = \"2023\"\n"
   ]
  },
  {
   "cell_type": "code",
   "execution_count": 5,
   "id": "1650acaf",
   "metadata": {
    "execution": {
     "iopub.execute_input": "2025-07-30T14:22:55.337127Z",
     "iopub.status.busy": "2025-07-30T14:22:55.336385Z",
     "iopub.status.idle": "2025-07-30T14:22:55.342187Z",
     "shell.execute_reply": "2025-07-30T14:22:55.341254Z"
    },
    "papermill": {
     "duration": 0.027431,
     "end_time": "2025-07-30T14:22:55.343883",
     "exception": false,
     "start_time": "2025-07-30T14:22:55.316452",
     "status": "completed"
    },
    "tags": []
   },
   "outputs": [],
   "source": [
    "import json\n",
    "# Parse universe into dict if it is passed as a string\n",
    "if isinstance(universe, str):\n",
    "    universe = json.loads(universe)"
   ]
  },
  {
   "cell_type": "code",
   "execution_count": 6,
   "id": "16620c48",
   "metadata": {
    "execution": {
     "iopub.execute_input": "2025-07-30T14:22:55.385037Z",
     "iopub.status.busy": "2025-07-30T14:22:55.384094Z",
     "iopub.status.idle": "2025-07-30T14:22:55.434840Z",
     "shell.execute_reply": "2025-07-30T14:22:55.433757Z"
    },
    "papermill": {
     "duration": 0.073503,
     "end_time": "2025-07-30T14:22:55.436850",
     "exception": false,
     "start_time": "2025-07-30T14:22:55.363347",
     "status": "completed"
    },
    "tags": []
   },
   "outputs": [],
   "source": [
    "# Auto-reload the custom package\n",
    "%load_ext autoreload\n",
    "%autoreload 1\n",
    "%aimport fairness_multiverse"
   ]
  },
  {
   "cell_type": "code",
   "execution_count": 7,
   "id": "01c5c9f3",
   "metadata": {
    "execution": {
     "iopub.execute_input": "2025-07-30T14:22:55.463626Z",
     "iopub.status.busy": "2025-07-30T14:22:55.463165Z",
     "iopub.status.idle": "2025-07-30T14:22:57.388932Z",
     "shell.execute_reply": "2025-07-30T14:22:57.388152Z"
    },
    "papermill": {
     "duration": 1.938863,
     "end_time": "2025-07-30T14:22:57.390377",
     "exception": false,
     "start_time": "2025-07-30T14:22:55.451514",
     "status": "completed"
    },
    "tags": []
   },
   "outputs": [],
   "source": [
    "from fairness_multiverse.universe import UniverseAnalysis\n",
    "\n",
    "universe_analysis = UniverseAnalysis(\n",
    "    run_no = run_no,\n",
    "    universe_id = universe_id,\n",
    "    universe = universe,\n",
    "    output_dir=output_dir,\n",
    ")"
   ]
  },
  {
   "cell_type": "code",
   "execution_count": 8,
   "id": "106241f5",
   "metadata": {
    "execution": {
     "iopub.execute_input": "2025-07-30T14:22:57.419451Z",
     "iopub.status.busy": "2025-07-30T14:22:57.418901Z",
     "iopub.status.idle": "2025-07-30T14:22:57.425877Z",
     "shell.execute_reply": "2025-07-30T14:22:57.425209Z"
    },
    "papermill": {
     "duration": 0.031432,
     "end_time": "2025-07-30T14:22:57.432889",
     "exception": false,
     "start_time": "2025-07-30T14:22:57.401457",
     "status": "completed"
    },
    "tags": []
   },
   "outputs": [
    {
     "name": "stdout",
     "output_type": "stream",
     "text": [
      "Using Seed: 2023\n"
     ]
    }
   ],
   "source": [
    "import numpy as np\n",
    "parsed_seed = int(seed)\n",
    "np.random.seed(parsed_seed)\n",
    "print(f\"Using Seed: {parsed_seed}\")"
   ]
  },
  {
   "cell_type": "markdown",
   "id": "e0ebdc57",
   "metadata": {
    "papermill": {
     "duration": 0.012329,
     "end_time": "2025-07-30T14:22:57.471667",
     "exception": false,
     "start_time": "2025-07-30T14:22:57.459338",
     "status": "completed"
    },
    "tags": []
   },
   "source": [
    "# Loading Data"
   ]
  },
  {
   "cell_type": "markdown",
   "id": "681925a3",
   "metadata": {
    "papermill": {
     "duration": 0.014674,
     "end_time": "2025-07-30T14:22:57.496650",
     "exception": false,
     "start_time": "2025-07-30T14:22:57.481976",
     "status": "completed"
    },
    "tags": []
   },
   "source": [
    "Load siab_train, siab_test, siab_calib and/or \n",
    "load siab_train_features, siab_train_labels"
   ]
  },
  {
   "cell_type": "code",
   "execution_count": 9,
   "id": "f0496b8a",
   "metadata": {
    "execution": {
     "iopub.execute_input": "2025-07-30T14:22:57.521171Z",
     "iopub.status.busy": "2025-07-30T14:22:57.520668Z",
     "iopub.status.idle": "2025-07-30T14:23:09.453288Z",
     "shell.execute_reply": "2025-07-30T14:23:09.452100Z"
    },
    "papermill": {
     "duration": 11.946965,
     "end_time": "2025-07-30T14:23:09.455238",
     "exception": false,
     "start_time": "2025-07-30T14:22:57.508273",
     "status": "completed"
    },
    "tags": []
   },
   "outputs": [
    {
     "name": "stdout",
     "output_type": "stream",
     "text": [
      "Loading SIAB data from cache: data/siab_cached.csv.gz\n"
     ]
    },
    {
     "name": "stdout",
     "output_type": "stream",
     "text": [
      "(643690, 164)\n"
     ]
    }
   ],
   "source": [
    "from pathlib import Path\n",
    "import pandas as pd\n",
    "\n",
    "# File paths\n",
    "raw_file = Path(\"data/raw/siab.csv\")\n",
    "cache_file = Path(\"data/siab_cached.csv.gz\")\n",
    "\n",
    "# Ensure cache directory exists\n",
    "cache_file.parent.mkdir(parents=True, exist_ok=True)\n",
    "\n",
    "# Load with simple caching\n",
    "if cache_file.exists():\n",
    "    print(f\"Loading SIAB data from cache: {cache_file}\")\n",
    "    siab = pd.read_csv(cache_file, compression='gzip')\n",
    "else:\n",
    "    print(f\"Cache not found. Reading raw SIAB data: {raw_file}\")\n",
    "    siab = pd.read_csv(raw_file)\n",
    "    siab.to_csv(cache_file, index=False, compression='gzip')\n",
    "    print(f\"Cached SIAB data to: {cache_file}\")\n",
    "\n",
    "# Now use `siab` DataFrame as needed\n",
    "print(siab.shape)"
   ]
  },
  {
   "cell_type": "code",
   "execution_count": 10,
   "id": "db0ca512-5f53-4dba-abdb-a2888bca41ba",
   "metadata": {
    "execution": {
     "iopub.execute_input": "2025-07-30T14:23:09.510469Z",
     "iopub.status.busy": "2025-07-30T14:23:09.509945Z",
     "iopub.status.idle": "2025-07-30T14:23:09.516266Z",
     "shell.execute_reply": "2025-07-30T14:23:09.515175Z"
    },
    "papermill": {
     "duration": 0.034809,
     "end_time": "2025-07-30T14:23:09.518126",
     "exception": false,
     "start_time": "2025-07-30T14:23:09.483317",
     "status": "completed"
    },
    "tags": []
   },
   "outputs": [],
   "source": [
    "#siab"
   ]
  },
  {
   "cell_type": "code",
   "execution_count": 11,
   "id": "a0edb063",
   "metadata": {
    "execution": {
     "iopub.execute_input": "2025-07-30T14:23:09.569542Z",
     "iopub.status.busy": "2025-07-30T14:23:09.569063Z",
     "iopub.status.idle": "2025-07-30T14:23:09.573947Z",
     "shell.execute_reply": "2025-07-30T14:23:09.573056Z"
    },
    "papermill": {
     "duration": 0.032522,
     "end_time": "2025-07-30T14:23:09.575810",
     "exception": false,
     "start_time": "2025-07-30T14:23:09.543288",
     "status": "completed"
    },
    "tags": []
   },
   "outputs": [],
   "source": [
    "#import pandas as pd\n",
    "#\n",
    "#X_train = pd.read_csv(\"./data/X_train.csv\")\n",
    "#y_train = pd.read_csv(\"./data/y_train.csv\")"
   ]
  },
  {
   "cell_type": "code",
   "execution_count": 12,
   "id": "63d08085",
   "metadata": {
    "execution": {
     "iopub.execute_input": "2025-07-30T14:23:09.628115Z",
     "iopub.status.busy": "2025-07-30T14:23:09.627435Z",
     "iopub.status.idle": "2025-07-30T14:23:09.632862Z",
     "shell.execute_reply": "2025-07-30T14:23:09.631825Z"
    },
    "papermill": {
     "duration": 0.033137,
     "end_time": "2025-07-30T14:23:09.634509",
     "exception": false,
     "start_time": "2025-07-30T14:23:09.601372",
     "status": "completed"
    },
    "tags": []
   },
   "outputs": [],
   "source": [
    "#X_test = pd.read_csv(\"./data/X_test.csv\")\n",
    "#y_true = pd.read_csv(\"./data/y_test.csv\")"
   ]
  },
  {
   "cell_type": "code",
   "execution_count": 13,
   "id": "98a8d0fa-1d3d-4ed8-bb2c-281470e24add",
   "metadata": {
    "execution": {
     "iopub.execute_input": "2025-07-30T14:23:09.676022Z",
     "iopub.status.busy": "2025-07-30T14:23:09.675257Z",
     "iopub.status.idle": "2025-07-30T14:23:09.681432Z",
     "shell.execute_reply": "2025-07-30T14:23:09.680519Z"
    },
    "papermill": {
     "duration": 0.028791,
     "end_time": "2025-07-30T14:23:09.683106",
     "exception": false,
     "start_time": "2025-07-30T14:23:09.654315",
     "status": "completed"
    },
    "tags": []
   },
   "outputs": [],
   "source": [
    "# Calibration data for conformal\n",
    "#X_calib = pd.read_csv(\"./data/X_calib.csv\")\n",
    "#y_calib = pd.read_csv(\"./data/y_calib.csv\")"
   ]
  },
  {
   "cell_type": "markdown",
   "id": "997051c5-15bd-4b69-9786-c3001a3ce484",
   "metadata": {
    "papermill": {
     "duration": 0.019701,
     "end_time": "2025-07-30T14:23:09.722834",
     "exception": false,
     "start_time": "2025-07-30T14:23:09.703133",
     "status": "completed"
    },
    "tags": []
   },
   "source": [
    "# Splitting Data and Setting Training Data Size"
   ]
  },
  {
   "cell_type": "code",
   "execution_count": 14,
   "id": "e993b61f-042d-41a6-8c81-f55681f86335",
   "metadata": {
    "execution": {
     "iopub.execute_input": "2025-07-30T14:23:09.764337Z",
     "iopub.status.busy": "2025-07-30T14:23:09.763476Z",
     "iopub.status.idle": "2025-07-30T14:23:09.777969Z",
     "shell.execute_reply": "2025-07-30T14:23:09.776900Z"
    },
    "papermill": {
     "duration": 0.037263,
     "end_time": "2025-07-30T14:23:09.779677",
     "exception": false,
     "start_time": "2025-07-30T14:23:09.742414",
     "status": "completed"
    },
    "tags": []
   },
   "outputs": [],
   "source": [
    "def sample_by_year_size(df,\n",
    "                        training_year: str,\n",
    "                        training_size: str,\n",
    "                        random_state: int = 42):\n",
    "    # --- parse training_year into a list of int years ---\n",
    "    if \"_\" in training_year:\n",
    "        start_str, end_str = training_year.split(\"_\", 1)\n",
    "        start = int(start_str)\n",
    "        end   = int(end_str) if len(end_str) == 4 else (int(end_str) + (start // 100)*100)\n",
    "        years = list(range(start, end + 1))\n",
    "    else:\n",
    "        years = [int(training_year)]\n",
    "\n",
    "    df = df[df[\"year\"].isin(years)].reset_index(drop=True)\n",
    "\n",
    "    # --- map training_size to total number of samples ---\n",
    "    total_map = {\"25k\": 25_000, \"5k\": 5_000, \"1k\": 1_000}\n",
    "    if training_size not in total_map:\n",
    "        return df  # e.g. \"all\"\n",
    "\n",
    "    total_samples = total_map[training_size]\n",
    "    n_years       = len(years)\n",
    "    base          = total_samples // n_years\n",
    "    remainder     = total_samples % n_years\n",
    "\n",
    "    # --- build a dict: year -> how many to sample ---\n",
    "    # give +1 to the first `remainder` years in ascending order\n",
    "    quotas = {\n",
    "        year: base + (1 if idx < remainder else 0)\n",
    "        for idx, year in enumerate(sorted(years))\n",
    "    }\n",
    "\n",
    "    # --- sample per‐year according to the quota dict ---\n",
    "    sampled = (\n",
    "        df\n",
    "        .groupby(\"year\", group_keys=False)\n",
    "        .apply(lambda grp: grp.sample(\n",
    "            n=min(len(grp), quotas[grp.name]),\n",
    "            random_state=random_state))\n",
    "        .reset_index(drop=True)\n",
    "    )\n",
    "\n",
    "    return sampled"
   ]
  },
  {
   "cell_type": "code",
   "execution_count": 15,
   "id": "c0ccd338-0e02-41f3-a09d-f56f9266e3fb",
   "metadata": {
    "execution": {
     "iopub.execute_input": "2025-07-30T14:23:09.821276Z",
     "iopub.status.busy": "2025-07-30T14:23:09.820620Z",
     "iopub.status.idle": "2025-07-30T14:23:09.833967Z",
     "shell.execute_reply": "2025-07-30T14:23:09.833007Z"
    },
    "papermill": {
     "duration": 0.035813,
     "end_time": "2025-07-30T14:23:09.835410",
     "exception": false,
     "start_time": "2025-07-30T14:23:09.799597",
     "status": "completed"
    },
    "tags": []
   },
   "outputs": [
    {
     "data": {
      "text/plain": [
       "'1k'"
      ]
     },
     "execution_count": 15,
     "metadata": {},
     "output_type": "execute_result"
    }
   ],
   "source": [
    "universe[\"training_size\"]"
   ]
  },
  {
   "cell_type": "code",
   "execution_count": 16,
   "id": "ca707fd7-8047-4acd-bfa5-66248fbbf8e6",
   "metadata": {
    "execution": {
     "iopub.execute_input": "2025-07-30T14:23:09.877624Z",
     "iopub.status.busy": "2025-07-30T14:23:09.876766Z",
     "iopub.status.idle": "2025-07-30T14:23:09.883862Z",
     "shell.execute_reply": "2025-07-30T14:23:09.882804Z"
    },
    "papermill": {
     "duration": 0.029974,
     "end_time": "2025-07-30T14:23:09.885615",
     "exception": false,
     "start_time": "2025-07-30T14:23:09.855641",
     "status": "completed"
    },
    "tags": []
   },
   "outputs": [
    {
     "data": {
      "text/plain": [
       "'2014'"
      ]
     },
     "execution_count": 16,
     "metadata": {},
     "output_type": "execute_result"
    }
   ],
   "source": [
    "universe[\"training_year\"]"
   ]
  },
  {
   "cell_type": "code",
   "execution_count": 17,
   "id": "aea9c6ef-6f46-42c8-85eb-5a62025c1508",
   "metadata": {
    "execution": {
     "iopub.execute_input": "2025-07-30T14:23:09.939417Z",
     "iopub.status.busy": "2025-07-30T14:23:09.938720Z",
     "iopub.status.idle": "2025-07-30T14:23:10.103458Z",
     "shell.execute_reply": "2025-07-30T14:23:10.102366Z"
    },
    "papermill": {
     "duration": 0.194304,
     "end_time": "2025-07-30T14:23:10.106046",
     "exception": false,
     "start_time": "2025-07-30T14:23:09.911742",
     "status": "completed"
    },
    "tags": []
   },
   "outputs": [],
   "source": [
    "siab_train = sample_by_year_size(siab,\n",
    "                               training_year=universe[\"training_year\"],\n",
    "                               training_size=universe[\"training_size\"])"
   ]
  },
  {
   "cell_type": "code",
   "execution_count": 18,
   "id": "8d3afb32-789d-442c-8d5d-9f5aa8dd2eed",
   "metadata": {
    "execution": {
     "iopub.execute_input": "2025-07-30T14:23:10.169261Z",
     "iopub.status.busy": "2025-07-30T14:23:10.168550Z",
     "iopub.status.idle": "2025-07-30T14:23:10.175798Z",
     "shell.execute_reply": "2025-07-30T14:23:10.174836Z"
    },
    "papermill": {
     "duration": 0.041083,
     "end_time": "2025-07-30T14:23:10.177989",
     "exception": false,
     "start_time": "2025-07-30T14:23:10.136906",
     "status": "completed"
    },
    "tags": []
   },
   "outputs": [
    {
     "data": {
      "text/plain": [
       "(1000, 164)"
      ]
     },
     "execution_count": 18,
     "metadata": {},
     "output_type": "execute_result"
    }
   ],
   "source": [
    "siab_train.shape"
   ]
  },
  {
   "cell_type": "code",
   "execution_count": 19,
   "id": "d582db68-1a4c-47fb-84fc-08518dc1975a",
   "metadata": {
    "execution": {
     "iopub.execute_input": "2025-07-30T14:23:10.242041Z",
     "iopub.status.busy": "2025-07-30T14:23:10.241322Z",
     "iopub.status.idle": "2025-07-30T14:23:10.253302Z",
     "shell.execute_reply": "2025-07-30T14:23:10.252247Z"
    },
    "papermill": {
     "duration": 0.045686,
     "end_time": "2025-07-30T14:23:10.254938",
     "exception": false,
     "start_time": "2025-07-30T14:23:10.209252",
     "status": "completed"
    },
    "tags": []
   },
   "outputs": [
    {
     "data": {
      "text/plain": [
       "year\n",
       "2014    1000\n",
       "dtype: int64"
      ]
     },
     "metadata": {},
     "output_type": "display_data"
    }
   ],
   "source": [
    "display(siab_train.groupby(\"year\").size())"
   ]
  },
  {
   "cell_type": "code",
   "execution_count": 20,
   "id": "a561edb4-d032-42cb-8256-22eac1111c64",
   "metadata": {
    "execution": {
     "iopub.execute_input": "2025-07-30T14:23:10.298621Z",
     "iopub.status.busy": "2025-07-30T14:23:10.297969Z",
     "iopub.status.idle": "2025-07-30T14:23:10.676050Z",
     "shell.execute_reply": "2025-07-30T14:23:10.674948Z"
    },
    "papermill": {
     "duration": 0.402307,
     "end_time": "2025-07-30T14:23:10.678179",
     "exception": false,
     "start_time": "2025-07-30T14:23:10.275872",
     "status": "completed"
    },
    "tags": []
   },
   "outputs": [],
   "source": [
    "#siab_train = siab_s[siab_s.year < 2015]\n",
    "siab_calib = siab[siab.year == 2015]\n",
    "siab_test = siab[siab.year == 2016]"
   ]
  },
  {
   "cell_type": "code",
   "execution_count": 21,
   "id": "472de16f-c3db-4916-846b-1f0de9cf1746",
   "metadata": {
    "execution": {
     "iopub.execute_input": "2025-07-30T14:23:10.725805Z",
     "iopub.status.busy": "2025-07-30T14:23:10.724408Z",
     "iopub.status.idle": "2025-07-30T14:23:10.734551Z",
     "shell.execute_reply": "2025-07-30T14:23:10.733356Z"
    },
    "papermill": {
     "duration": 0.036861,
     "end_time": "2025-07-30T14:23:10.736410",
     "exception": false,
     "start_time": "2025-07-30T14:23:10.699549",
     "status": "completed"
    },
    "tags": []
   },
   "outputs": [],
   "source": [
    "X_train = siab_train.iloc[:,4:164]\n",
    "y_train = siab_train.iloc[:, [3]]"
   ]
  },
  {
   "cell_type": "code",
   "execution_count": 22,
   "id": "828c96af-f43a-4ed6-ba47-8ac73a47d56c",
   "metadata": {
    "execution": {
     "iopub.execute_input": "2025-07-30T14:23:10.783314Z",
     "iopub.status.busy": "2025-07-30T14:23:10.782626Z",
     "iopub.status.idle": "2025-07-30T14:23:10.836004Z",
     "shell.execute_reply": "2025-07-30T14:23:10.834807Z"
    },
    "papermill": {
     "duration": 0.078018,
     "end_time": "2025-07-30T14:23:10.838041",
     "exception": false,
     "start_time": "2025-07-30T14:23:10.760023",
     "status": "completed"
    },
    "tags": []
   },
   "outputs": [],
   "source": [
    "X_calib = siab_calib.iloc[:,4:164]\n",
    "y_calib = siab_calib.iloc[:, [3]]"
   ]
  },
  {
   "cell_type": "code",
   "execution_count": 23,
   "id": "c34be9c3-6bd6-476e-acd3-845840e303be",
   "metadata": {
    "execution": {
     "iopub.execute_input": "2025-07-30T14:23:10.886066Z",
     "iopub.status.busy": "2025-07-30T14:23:10.885125Z",
     "iopub.status.idle": "2025-07-30T14:23:10.995061Z",
     "shell.execute_reply": "2025-07-30T14:23:10.993749Z"
    },
    "papermill": {
     "duration": 0.135846,
     "end_time": "2025-07-30T14:23:10.996874",
     "exception": false,
     "start_time": "2025-07-30T14:23:10.861028",
     "status": "completed"
    },
    "tags": []
   },
   "outputs": [],
   "source": [
    "X_test = siab_test.iloc[:,4:164]\n",
    "y_true = siab_test.iloc[:, [3]]"
   ]
  },
  {
   "cell_type": "markdown",
   "id": "9901737e-04df-44f0-9100-f5ad144ed040",
   "metadata": {
    "papermill": {
     "duration": 0.022942,
     "end_time": "2025-07-30T14:23:11.040306",
     "exception": false,
     "start_time": "2025-07-30T14:23:11.017364",
     "status": "completed"
    },
    "tags": []
   },
   "source": [
    "# Splitting Data and Setting Training Data Size OLD VERSION"
   ]
  },
  {
   "cell_type": "code",
   "execution_count": 24,
   "id": "acbc8f7d-8fc8-4e86-8c59-5dcb0f58384b",
   "metadata": {
    "execution": {
     "iopub.execute_input": "2025-07-30T14:23:11.075021Z",
     "iopub.status.busy": "2025-07-30T14:23:11.074490Z",
     "iopub.status.idle": "2025-07-30T14:23:11.079497Z",
     "shell.execute_reply": "2025-07-30T14:23:11.078722Z"
    },
    "papermill": {
     "duration": 0.021293,
     "end_time": "2025-07-30T14:23:11.081408",
     "exception": false,
     "start_time": "2025-07-30T14:23:11.060115",
     "status": "completed"
    },
    "tags": []
   },
   "outputs": [],
   "source": [
    "#def sample_by_year(df, training_size, random_state=42):\n",
    "#    if training_size == \"2014\":\n",
    "#        return df[df[\"year\"] == 2014].reset_index(drop=True)\n",
    "#    \n",
    "#    size_map = {\n",
    "#        \"25k\": 5000,\n",
    "#        \"5k\": 1000,\n",
    "#        \"1k\": 200\n",
    "#    }\n",
    "#\n",
    "#    if training_size not in size_map:\n",
    "#        return df.reset_index(drop=True)  # use all data\n",
    "#\n",
    "#    n_per_year = size_map[training_size]\n",
    "#    grouped = df.groupby(\"year\")\n",
    "#    sampled = grouped.apply(lambda x: x.sample(n=min(n_per_year, len(x)), random_state=random_state))\n",
    "#    return sampled.reset_index(drop=True)"
   ]
  },
  {
   "cell_type": "code",
   "execution_count": 25,
   "id": "6d931f52-beaf-43ff-9e78-9d44a448d54e",
   "metadata": {
    "execution": {
     "iopub.execute_input": "2025-07-30T14:23:11.130745Z",
     "iopub.status.busy": "2025-07-30T14:23:11.130161Z",
     "iopub.status.idle": "2025-07-30T14:23:11.135867Z",
     "shell.execute_reply": "2025-07-30T14:23:11.134899Z"
    },
    "papermill": {
     "duration": 0.030979,
     "end_time": "2025-07-30T14:23:11.137792",
     "exception": false,
     "start_time": "2025-07-30T14:23:11.106813",
     "status": "completed"
    },
    "tags": []
   },
   "outputs": [],
   "source": [
    "#siab_s = sample_by_year(siab, universe[\"training_size\"])"
   ]
  },
  {
   "cell_type": "code",
   "execution_count": 26,
   "id": "5db0a40e-a4e2-4920-be85-b12ae061d70d",
   "metadata": {
    "execution": {
     "iopub.execute_input": "2025-07-30T14:23:11.186475Z",
     "iopub.status.busy": "2025-07-30T14:23:11.185772Z",
     "iopub.status.idle": "2025-07-30T14:23:11.191235Z",
     "shell.execute_reply": "2025-07-30T14:23:11.190232Z"
    },
    "papermill": {
     "duration": 0.031288,
     "end_time": "2025-07-30T14:23:11.193053",
     "exception": false,
     "start_time": "2025-07-30T14:23:11.161765",
     "status": "completed"
    },
    "tags": []
   },
   "outputs": [],
   "source": [
    "#display(siab_s.groupby(\"year\").size())"
   ]
  },
  {
   "cell_type": "code",
   "execution_count": 27,
   "id": "e6c733c5",
   "metadata": {
    "execution": {
     "iopub.execute_input": "2025-07-30T14:23:11.243263Z",
     "iopub.status.busy": "2025-07-30T14:23:11.242358Z",
     "iopub.status.idle": "2025-07-30T14:23:11.340159Z",
     "shell.execute_reply": "2025-07-30T14:23:11.339186Z"
    },
    "papermill": {
     "duration": 0.124947,
     "end_time": "2025-07-30T14:23:11.342147",
     "exception": false,
     "start_time": "2025-07-30T14:23:11.217200",
     "status": "completed"
    },
    "tags": []
   },
   "outputs": [],
   "source": [
    "# Auxiliary data needed downstream in the pipeline\n",
    "\n",
    "org_train = X_train.copy()\n",
    "org_test = X_test.copy()\n",
    "org_calib = X_calib.copy()"
   ]
  },
  {
   "cell_type": "code",
   "execution_count": 28,
   "id": "1466abac-c6da-4492-a62f-4240ae3783af",
   "metadata": {
    "execution": {
     "iopub.execute_input": "2025-07-30T14:23:11.390726Z",
     "iopub.status.busy": "2025-07-30T14:23:11.390216Z",
     "iopub.status.idle": "2025-07-30T14:23:11.396182Z",
     "shell.execute_reply": "2025-07-30T14:23:11.394932Z"
    },
    "papermill": {
     "duration": 0.031527,
     "end_time": "2025-07-30T14:23:11.397910",
     "exception": false,
     "start_time": "2025-07-30T14:23:11.366383",
     "status": "completed"
    },
    "tags": []
   },
   "outputs": [],
   "source": [
    "# put in other script?\n",
    "# Group sizes\n",
    "\n",
    "#def calculate_percentages(df, df_name):\n",
    "#    total_entries = len(df)\n",
    "#\n",
    "#    female_pct = (df['frau1'] == 1).mean() * 100\n",
    "#    non_german_pct = ((df['maxdeutsch1'] == 0) & (df['maxdeutsch.Missing.'] == 0)).mean() * 100\n",
    "#    non_german_male_pct = ((df['frau1'] == 0) & (df['maxdeutsch1'] == 0) & (df['maxdeutsch.Missing.'] == 0)).mean() * 100\n",
    "#    non_german_female_pct = ((df['frau1'] == 1) & (df['maxdeutsch1'] == 0) & (df['maxdeutsch.Missing.'] == 0)).mean() * 100\n",
    "#\n",
    "#    print(f\"--- {df_name} ---\")\n",
    "#    print(f\"Female: {female_pct:.2f}%\")\n",
    "#    print(f\"Non-German: {non_german_pct:.2f}%\")\n",
    "#    print(f\"Non-German Male: {non_german_male_pct:.2f}%\")\n",
    "#    print(f\"Non-German Female: {non_german_female_pct:.2f}%\\n\")\n",
    "#\n",
    "## Calculate for each DataFrame\n",
    "#calculate_percentages(siab_calib, \"siab_calib\")\n",
    "#calculate_percentages(siab_test, \"siab_test\")\n",
    "#calculate_percentages(siab_train, \"siab_train\")"
   ]
  },
  {
   "cell_type": "markdown",
   "id": "0a4a1b33",
   "metadata": {
    "papermill": {
     "duration": 0.02313,
     "end_time": "2025-07-30T14:23:11.445937",
     "exception": false,
     "start_time": "2025-07-30T14:23:11.422807",
     "status": "completed"
    },
    "tags": []
   },
   "source": [
    "# Preprocessing Data"
   ]
  },
  {
   "cell_type": "code",
   "execution_count": 29,
   "id": "ca879031",
   "metadata": {
    "execution": {
     "iopub.execute_input": "2025-07-30T14:23:11.494519Z",
     "iopub.status.busy": "2025-07-30T14:23:11.494014Z",
     "iopub.status.idle": "2025-07-30T14:23:11.500853Z",
     "shell.execute_reply": "2025-07-30T14:23:11.499790Z"
    },
    "papermill": {
     "duration": 0.033934,
     "end_time": "2025-07-30T14:23:11.502533",
     "exception": false,
     "start_time": "2025-07-30T14:23:11.468599",
     "status": "completed"
    },
    "tags": []
   },
   "outputs": [],
   "source": [
    "# EXCLUDE PROTECTED FEATURES\n",
    "# ----------------------\n",
    "# \"exclude_features\": \"none\", # \"nationality\", \"sex\", \"nationality-sex\"\n",
    "\n",
    "excluded_features = universe[\"exclude_features\"].split(\"-\") # split, e.g.: \"nationality-sex\" -> [\"nationality\", \"sex\"]\n",
    "excluded_features_dictionary = {\n",
    "    \"nationality\": [\"maxdeutsch1\", \"maxdeutsch.Missing.\"],\n",
    "    \"sex\": [\"frau1\"],\n",
    "    \"age\": [\"age\"],\n",
    "}\n"
   ]
  },
  {
   "cell_type": "code",
   "execution_count": 30,
   "id": "b745ac60",
   "metadata": {
    "execution": {
     "iopub.execute_input": "2025-07-30T14:23:11.551140Z",
     "iopub.status.busy": "2025-07-30T14:23:11.550254Z",
     "iopub.status.idle": "2025-07-30T14:23:11.556311Z",
     "shell.execute_reply": "2025-07-30T14:23:11.555284Z"
    },
    "papermill": {
     "duration": 0.03246,
     "end_time": "2025-07-30T14:23:11.558127",
     "exception": false,
     "start_time": "2025-07-30T14:23:11.525667",
     "status": "completed"
    },
    "tags": []
   },
   "outputs": [],
   "source": [
    "# Code nice names to column names\n",
    "\n",
    "excluded_features_columns = [\n",
    "    excluded_features_dictionary[f] for f in excluded_features if len(f) > 0 and f != \"none\"\n",
    "]"
   ]
  },
  {
   "cell_type": "code",
   "execution_count": 31,
   "id": "f84f73a2",
   "metadata": {
    "execution": {
     "iopub.execute_input": "2025-07-30T14:23:11.609396Z",
     "iopub.status.busy": "2025-07-30T14:23:11.608607Z",
     "iopub.status.idle": "2025-07-30T14:23:11.616954Z",
     "shell.execute_reply": "2025-07-30T14:23:11.615912Z"
    },
    "papermill": {
     "duration": 0.035575,
     "end_time": "2025-07-30T14:23:11.618626",
     "exception": false,
     "start_time": "2025-07-30T14:23:11.583051",
     "status": "completed"
    },
    "tags": []
   },
   "outputs": [],
   "source": [
    "from utils import flatten_once\n",
    "\n",
    "excluded_features_columns = flatten_once(excluded_features_columns)"
   ]
  },
  {
   "cell_type": "code",
   "execution_count": 32,
   "id": "884dea22",
   "metadata": {
    "execution": {
     "iopub.execute_input": "2025-07-30T14:23:11.666926Z",
     "iopub.status.busy": "2025-07-30T14:23:11.666393Z",
     "iopub.status.idle": "2025-07-30T14:23:11.675643Z",
     "shell.execute_reply": "2025-07-30T14:23:11.674584Z"
    },
    "papermill": {
     "duration": 0.034828,
     "end_time": "2025-07-30T14:23:11.677360",
     "exception": false,
     "start_time": "2025-07-30T14:23:11.642532",
     "status": "completed"
    },
    "tags": []
   },
   "outputs": [
    {
     "name": "stdout",
     "output_type": "stream",
     "text": [
      "Dropping features: ['maxdeutsch1', 'maxdeutsch.Missing.']\n"
     ]
    }
   ],
   "source": [
    "if len(excluded_features_columns) > 0:\n",
    "    print(f\"Dropping features: {excluded_features_columns}\")\n",
    "    X_train.drop(excluded_features_columns, axis=1, inplace=True)"
   ]
  },
  {
   "cell_type": "code",
   "execution_count": 33,
   "id": "95ab8b16",
   "metadata": {
    "execution": {
     "iopub.execute_input": "2025-07-30T14:23:11.729338Z",
     "iopub.status.busy": "2025-07-30T14:23:11.728720Z",
     "iopub.status.idle": "2025-07-30T14:23:11.787164Z",
     "shell.execute_reply": "2025-07-30T14:23:11.786123Z"
    },
    "papermill": {
     "duration": 0.087468,
     "end_time": "2025-07-30T14:23:11.789261",
     "exception": false,
     "start_time": "2025-07-30T14:23:11.701793",
     "status": "completed"
    },
    "tags": []
   },
   "outputs": [
    {
     "name": "stdout",
     "output_type": "stream",
     "text": [
      "Dropping features: ['maxdeutsch1', 'maxdeutsch.Missing.']\n"
     ]
    }
   ],
   "source": [
    "if len(excluded_features_columns) > 0:\n",
    "    print(f\"Dropping features: {excluded_features_columns}\")\n",
    "    X_test.drop(excluded_features_columns, axis=1, inplace=True)"
   ]
  },
  {
   "cell_type": "code",
   "execution_count": 34,
   "id": "1853aaf5-fb9f-46cb-a2b5-8ea4ae2237e4",
   "metadata": {
    "execution": {
     "iopub.execute_input": "2025-07-30T14:23:11.853233Z",
     "iopub.status.busy": "2025-07-30T14:23:11.852730Z",
     "iopub.status.idle": "2025-07-30T14:23:11.910328Z",
     "shell.execute_reply": "2025-07-30T14:23:11.909381Z"
    },
    "papermill": {
     "duration": 0.092662,
     "end_time": "2025-07-30T14:23:11.911989",
     "exception": false,
     "start_time": "2025-07-30T14:23:11.819327",
     "status": "completed"
    },
    "tags": []
   },
   "outputs": [
    {
     "name": "stdout",
     "output_type": "stream",
     "text": [
      "Dropping features: ['maxdeutsch1', 'maxdeutsch.Missing.']\n"
     ]
    }
   ],
   "source": [
    "if len(excluded_features_columns) > 0:\n",
    "    print(f\"Dropping features: {excluded_features_columns}\")\n",
    "    X_calib.drop(excluded_features_columns, axis=1, inplace=True)"
   ]
  },
  {
   "cell_type": "code",
   "execution_count": 35,
   "id": "6727d079-03e5-481e-9d38-292a90b7a0a8",
   "metadata": {
    "execution": {
     "iopub.execute_input": "2025-07-30T14:23:11.959746Z",
     "iopub.status.busy": "2025-07-30T14:23:11.959184Z",
     "iopub.status.idle": "2025-07-30T14:23:11.964508Z",
     "shell.execute_reply": "2025-07-30T14:23:11.963357Z"
    },
    "papermill": {
     "duration": 0.031992,
     "end_time": "2025-07-30T14:23:11.966119",
     "exception": false,
     "start_time": "2025-07-30T14:23:11.934127",
     "status": "completed"
    },
    "tags": []
   },
   "outputs": [],
   "source": [
    "# SPLIT & STRATIFY DATA\n",
    "# ----------------------"
   ]
  },
  {
   "cell_type": "code",
   "execution_count": 36,
   "id": "76c4dc6d",
   "metadata": {
    "execution": {
     "iopub.execute_input": "2025-07-30T14:23:12.012683Z",
     "iopub.status.busy": "2025-07-30T14:23:12.011877Z",
     "iopub.status.idle": "2025-07-30T14:23:12.017673Z",
     "shell.execute_reply": "2025-07-30T14:23:12.016614Z"
    },
    "papermill": {
     "duration": 0.030815,
     "end_time": "2025-07-30T14:23:12.019699",
     "exception": false,
     "start_time": "2025-07-30T14:23:11.988884",
     "status": "completed"
    },
    "tags": []
   },
   "outputs": [],
   "source": [
    "# EXCLUDE CERTAIN SUBGROUPS\n",
    "# ----------------------\n",
    "\n",
    "mode = universe.get(\"exclude_subgroups\", \"keep-all\") \n",
    "# Fetches the exclude_subgroups setting from the universe dict.\n",
    "# Defaults to \"keep-all\" if the key is missing."
   ]
  },
  {
   "cell_type": "code",
   "execution_count": 37,
   "id": "21994072",
   "metadata": {
    "execution": {
     "iopub.execute_input": "2025-07-30T14:23:12.069817Z",
     "iopub.status.busy": "2025-07-30T14:23:12.069290Z",
     "iopub.status.idle": "2025-07-30T14:23:12.076765Z",
     "shell.execute_reply": "2025-07-30T14:23:12.075636Z"
    },
    "papermill": {
     "duration": 0.033614,
     "end_time": "2025-07-30T14:23:12.078790",
     "exception": false,
     "start_time": "2025-07-30T14:23:12.045176",
     "status": "completed"
    },
    "tags": []
   },
   "outputs": [],
   "source": [
    "if mode == \"keep-all\":\n",
    "    keep_mask = pd.Series(True, index=org_train.index)\n",
    "\n",
    "# org_train contains the original feature columns from features_org (in Simson)\n",
    "# features_org contains unprocessed features, for me X_train at beginning ???\n",
    "# For keep-all, creates a boolean Series (keep_mask) of all True, so no rows are removed.\n",
    "\n",
    "elif mode == \"drop-non-german\":\n",
    "    keep_mask = org_train[\"maxdeutsch1\"] == 1 # ??? what about missing values?\n",
    "\n",
    "else:\n",
    "    raise ValueError(f\"Unsupported mode for exclude_subgroups: {mode}\")\n"
   ]
  },
  {
   "cell_type": "code",
   "execution_count": 38,
   "id": "71651440",
   "metadata": {
    "execution": {
     "iopub.execute_input": "2025-07-30T14:23:12.139165Z",
     "iopub.status.busy": "2025-07-30T14:23:12.138682Z",
     "iopub.status.idle": "2025-07-30T14:23:12.145499Z",
     "shell.execute_reply": "2025-07-30T14:23:12.144554Z"
    },
    "papermill": {
     "duration": 0.036433,
     "end_time": "2025-07-30T14:23:12.147137",
     "exception": false,
     "start_time": "2025-07-30T14:23:12.110704",
     "status": "completed"
    },
    "tags": []
   },
   "outputs": [],
   "source": [
    "n_drop = (~keep_mask).sum() # Calculates how many rows are set to be dropped\n",
    "if n_drop > 0:\n",
    "    pct = n_drop / len(keep_mask) * 100\n",
    "    print(f\"Dropping {n_drop} rows ({pct:.2f}%) where mode='{mode}'\")"
   ]
  },
  {
   "cell_type": "code",
   "execution_count": 39,
   "id": "5fb8eee5",
   "metadata": {
    "execution": {
     "iopub.execute_input": "2025-07-30T14:23:12.202121Z",
     "iopub.status.busy": "2025-07-30T14:23:12.201626Z",
     "iopub.status.idle": "2025-07-30T14:23:12.207998Z",
     "shell.execute_reply": "2025-07-30T14:23:12.207044Z"
    },
    "papermill": {
     "duration": 0.035673,
     "end_time": "2025-07-30T14:23:12.209783",
     "exception": false,
     "start_time": "2025-07-30T14:23:12.174110",
     "status": "completed"
    },
    "tags": []
   },
   "outputs": [],
   "source": [
    "X_train = X_train[keep_mask]"
   ]
  },
  {
   "cell_type": "code",
   "execution_count": 40,
   "id": "b202bb3a",
   "metadata": {
    "execution": {
     "iopub.execute_input": "2025-07-30T14:23:12.261143Z",
     "iopub.status.busy": "2025-07-30T14:23:12.260294Z",
     "iopub.status.idle": "2025-07-30T14:23:12.266745Z",
     "shell.execute_reply": "2025-07-30T14:23:12.265754Z"
    },
    "papermill": {
     "duration": 0.034568,
     "end_time": "2025-07-30T14:23:12.268467",
     "exception": false,
     "start_time": "2025-07-30T14:23:12.233899",
     "status": "completed"
    },
    "tags": []
   },
   "outputs": [],
   "source": [
    "y_train = y_train[keep_mask]"
   ]
  },
  {
   "cell_type": "markdown",
   "id": "493e2ac3",
   "metadata": {
    "papermill": {
     "duration": 0.025128,
     "end_time": "2025-07-30T14:23:12.318049",
     "exception": false,
     "start_time": "2025-07-30T14:23:12.292921",
     "status": "completed"
    },
    "tags": []
   },
   "source": [
    "# Model Training"
   ]
  },
  {
   "cell_type": "code",
   "execution_count": 41,
   "id": "679e1268",
   "metadata": {
    "execution": {
     "iopub.execute_input": "2025-07-30T14:23:12.368169Z",
     "iopub.status.busy": "2025-07-30T14:23:12.367430Z",
     "iopub.status.idle": "2025-07-30T14:23:12.474375Z",
     "shell.execute_reply": "2025-07-30T14:23:12.473452Z"
    },
    "papermill": {
     "duration": 0.134614,
     "end_time": "2025-07-30T14:23:12.476591",
     "exception": false,
     "start_time": "2025-07-30T14:23:12.341977",
     "status": "completed"
    },
    "tags": []
   },
   "outputs": [],
   "source": [
    "from sklearn.linear_model import LogisticRegression\n",
    "from sklearn.ensemble import GradientBoostingClassifier, RandomForestClassifier\n",
    "\n",
    "if (universe[\"model\"] == \"logreg\"):\n",
    "    model = LogisticRegression() #penalty=\"none\") #, solver=\"newton-cg\", max_iter=1) # include random_state=19 ?\n",
    "elif (universe[\"model\"] == \"penalized_logreg\"):\n",
    "    model = LogisticRegression(penalty=\"l2\", C=1.0) #, solver=\"newton-cg\", max_iter=1)\n",
    "elif (universe[\"model\"] == \"rf\"):\n",
    "    model = RandomForestClassifier(n_estimators=100, n_jobs=-1)\n",
    "elif (universe[\"model\"] == \"gbm\"):\n",
    "    model = GradientBoostingClassifier()\n",
    "elif (universe[\"model\"] == \"elasticnet\"):\n",
    "    model = LogisticRegression(penalty = 'elasticnet', solver = 'saga', l1_ratio = 0.5, max_iter=5000) # which solver to use?\n",
    "else:\n",
    "    raise \"Unsupported universe.model\""
   ]
  },
  {
   "cell_type": "code",
   "execution_count": 42,
   "id": "0cc8f744",
   "metadata": {
    "execution": {
     "iopub.execute_input": "2025-07-30T14:23:12.527450Z",
     "iopub.status.busy": "2025-07-30T14:23:12.526724Z",
     "iopub.status.idle": "2025-07-30T14:23:12.533797Z",
     "shell.execute_reply": "2025-07-30T14:23:12.532878Z"
    },
    "papermill": {
     "duration": 0.036015,
     "end_time": "2025-07-30T14:23:12.535573",
     "exception": false,
     "start_time": "2025-07-30T14:23:12.499558",
     "status": "completed"
    },
    "tags": []
   },
   "outputs": [],
   "source": [
    "import numpy as np\n",
    "from sklearn.pipeline import Pipeline\n",
    "from sklearn.preprocessing import StandardScaler\n",
    "\n",
    "model = Pipeline([\n",
    "    #(\"continuous_processor\", continuous_processor),\n",
    "    #(\"categorical_preprocessor\", categorical_preprocessor),\n",
    "    (\"scale\", StandardScaler() if universe[\"scale\"] == \"scale\" else None), \n",
    "    (\"model\", model),\n",
    "])"
   ]
  },
  {
   "cell_type": "code",
   "execution_count": 43,
   "id": "9442c04d",
   "metadata": {
    "execution": {
     "iopub.execute_input": "2025-07-30T14:23:12.585365Z",
     "iopub.status.busy": "2025-07-30T14:23:12.584867Z",
     "iopub.status.idle": "2025-07-30T14:23:15.348971Z",
     "shell.execute_reply": "2025-07-30T14:23:15.348081Z"
    },
    "papermill": {
     "duration": 2.790803,
     "end_time": "2025-07-30T14:23:15.350607",
     "exception": false,
     "start_time": "2025-07-30T14:23:12.559804",
     "status": "completed"
    },
    "tags": []
   },
   "outputs": [
    {
     "data": {
      "text/html": [
       "<style>#sk-container-id-1 {color: black;background-color: white;}#sk-container-id-1 pre{padding: 0;}#sk-container-id-1 div.sk-toggleable {background-color: white;}#sk-container-id-1 label.sk-toggleable__label {cursor: pointer;display: block;width: 100%;margin-bottom: 0;padding: 0.3em;box-sizing: border-box;text-align: center;}#sk-container-id-1 label.sk-toggleable__label-arrow:before {content: \"▸\";float: left;margin-right: 0.25em;color: #696969;}#sk-container-id-1 label.sk-toggleable__label-arrow:hover:before {color: black;}#sk-container-id-1 div.sk-estimator:hover label.sk-toggleable__label-arrow:before {color: black;}#sk-container-id-1 div.sk-toggleable__content {max-height: 0;max-width: 0;overflow: hidden;text-align: left;background-color: #f0f8ff;}#sk-container-id-1 div.sk-toggleable__content pre {margin: 0.2em;color: black;border-radius: 0.25em;background-color: #f0f8ff;}#sk-container-id-1 input.sk-toggleable__control:checked~div.sk-toggleable__content {max-height: 200px;max-width: 100%;overflow: auto;}#sk-container-id-1 input.sk-toggleable__control:checked~label.sk-toggleable__label-arrow:before {content: \"▾\";}#sk-container-id-1 div.sk-estimator input.sk-toggleable__control:checked~label.sk-toggleable__label {background-color: #d4ebff;}#sk-container-id-1 div.sk-label input.sk-toggleable__control:checked~label.sk-toggleable__label {background-color: #d4ebff;}#sk-container-id-1 input.sk-hidden--visually {border: 0;clip: rect(1px 1px 1px 1px);clip: rect(1px, 1px, 1px, 1px);height: 1px;margin: -1px;overflow: hidden;padding: 0;position: absolute;width: 1px;}#sk-container-id-1 div.sk-estimator {font-family: monospace;background-color: #f0f8ff;border: 1px dotted black;border-radius: 0.25em;box-sizing: border-box;margin-bottom: 0.5em;}#sk-container-id-1 div.sk-estimator:hover {background-color: #d4ebff;}#sk-container-id-1 div.sk-parallel-item::after {content: \"\";width: 100%;border-bottom: 1px solid gray;flex-grow: 1;}#sk-container-id-1 div.sk-label:hover label.sk-toggleable__label {background-color: #d4ebff;}#sk-container-id-1 div.sk-serial::before {content: \"\";position: absolute;border-left: 1px solid gray;box-sizing: border-box;top: 0;bottom: 0;left: 50%;z-index: 0;}#sk-container-id-1 div.sk-serial {display: flex;flex-direction: column;align-items: center;background-color: white;padding-right: 0.2em;padding-left: 0.2em;position: relative;}#sk-container-id-1 div.sk-item {position: relative;z-index: 1;}#sk-container-id-1 div.sk-parallel {display: flex;align-items: stretch;justify-content: center;background-color: white;position: relative;}#sk-container-id-1 div.sk-item::before, #sk-container-id-1 div.sk-parallel-item::before {content: \"\";position: absolute;border-left: 1px solid gray;box-sizing: border-box;top: 0;bottom: 0;left: 50%;z-index: -1;}#sk-container-id-1 div.sk-parallel-item {display: flex;flex-direction: column;z-index: 1;position: relative;background-color: white;}#sk-container-id-1 div.sk-parallel-item:first-child::after {align-self: flex-end;width: 50%;}#sk-container-id-1 div.sk-parallel-item:last-child::after {align-self: flex-start;width: 50%;}#sk-container-id-1 div.sk-parallel-item:only-child::after {width: 0;}#sk-container-id-1 div.sk-dashed-wrapped {border: 1px dashed gray;margin: 0 0.4em 0.5em 0.4em;box-sizing: border-box;padding-bottom: 0.4em;background-color: white;}#sk-container-id-1 div.sk-label label {font-family: monospace;font-weight: bold;display: inline-block;line-height: 1.2em;}#sk-container-id-1 div.sk-label-container {text-align: center;}#sk-container-id-1 div.sk-container {/* jupyter's `normalize.less` sets `[hidden] { display: none; }` but bootstrap.min.css set `[hidden] { display: none !important; }` so we also need the `!important` here to be able to override the default hidden behavior on the sphinx rendered scikit-learn.org. See: https://github.com/scikit-learn/scikit-learn/issues/21755 */display: inline-block !important;position: relative;}#sk-container-id-1 div.sk-text-repr-fallback {display: none;}</style><div id=\"sk-container-id-1\" class=\"sk-top-container\"><div class=\"sk-text-repr-fallback\"><pre>Pipeline(steps=[(&#x27;scale&#x27;, StandardScaler()),\n",
       "                (&#x27;model&#x27;,\n",
       "                 LogisticRegression(l1_ratio=0.5, max_iter=5000,\n",
       "                                    penalty=&#x27;elasticnet&#x27;, solver=&#x27;saga&#x27;))])</pre><b>In a Jupyter environment, please rerun this cell to show the HTML representation or trust the notebook. <br />On GitHub, the HTML representation is unable to render, please try loading this page with nbviewer.org.</b></div><div class=\"sk-container\" hidden><div class=\"sk-item sk-dashed-wrapped\"><div class=\"sk-label-container\"><div class=\"sk-label sk-toggleable\"><input class=\"sk-toggleable__control sk-hidden--visually\" id=\"sk-estimator-id-1\" type=\"checkbox\" ><label for=\"sk-estimator-id-1\" class=\"sk-toggleable__label sk-toggleable__label-arrow\">Pipeline</label><div class=\"sk-toggleable__content\"><pre>Pipeline(steps=[(&#x27;scale&#x27;, StandardScaler()),\n",
       "                (&#x27;model&#x27;,\n",
       "                 LogisticRegression(l1_ratio=0.5, max_iter=5000,\n",
       "                                    penalty=&#x27;elasticnet&#x27;, solver=&#x27;saga&#x27;))])</pre></div></div></div><div class=\"sk-serial\"><div class=\"sk-item\"><div class=\"sk-estimator sk-toggleable\"><input class=\"sk-toggleable__control sk-hidden--visually\" id=\"sk-estimator-id-2\" type=\"checkbox\" ><label for=\"sk-estimator-id-2\" class=\"sk-toggleable__label sk-toggleable__label-arrow\">StandardScaler</label><div class=\"sk-toggleable__content\"><pre>StandardScaler()</pre></div></div></div><div class=\"sk-item\"><div class=\"sk-estimator sk-toggleable\"><input class=\"sk-toggleable__control sk-hidden--visually\" id=\"sk-estimator-id-3\" type=\"checkbox\" ><label for=\"sk-estimator-id-3\" class=\"sk-toggleable__label sk-toggleable__label-arrow\">LogisticRegression</label><div class=\"sk-toggleable__content\"><pre>LogisticRegression(l1_ratio=0.5, max_iter=5000, penalty=&#x27;elasticnet&#x27;,\n",
       "                   solver=&#x27;saga&#x27;)</pre></div></div></div></div></div></div></div>"
      ],
      "text/plain": [
       "Pipeline(steps=[('scale', StandardScaler()),\n",
       "                ('model',\n",
       "                 LogisticRegression(l1_ratio=0.5, max_iter=5000,\n",
       "                                    penalty='elasticnet', solver='saga'))])"
      ]
     },
     "execution_count": 43,
     "metadata": {},
     "output_type": "execute_result"
    }
   ],
   "source": [
    "model.fit(X_train, y_train.values.ravel())"
   ]
  },
  {
   "cell_type": "code",
   "execution_count": 44,
   "id": "af59f8c0",
   "metadata": {
    "execution": {
     "iopub.execute_input": "2025-07-30T14:23:15.400118Z",
     "iopub.status.busy": "2025-07-30T14:23:15.399453Z",
     "iopub.status.idle": "2025-07-30T14:23:15.404958Z",
     "shell.execute_reply": "2025-07-30T14:23:15.403951Z"
    },
    "papermill": {
     "duration": 0.030066,
     "end_time": "2025-07-30T14:23:15.406438",
     "exception": false,
     "start_time": "2025-07-30T14:23:15.376372",
     "status": "completed"
    },
    "tags": []
   },
   "outputs": [],
   "source": [
    "from fairness_multiverse.universe import predict_w_threshold"
   ]
  },
  {
   "cell_type": "code",
   "execution_count": 45,
   "id": "a7cf2e16",
   "metadata": {
    "execution": {
     "iopub.execute_input": "2025-07-30T14:23:15.452068Z",
     "iopub.status.busy": "2025-07-30T14:23:15.451455Z",
     "iopub.status.idle": "2025-07-30T14:23:15.635025Z",
     "shell.execute_reply": "2025-07-30T14:23:15.634117Z"
    },
    "papermill": {
     "duration": 0.208514,
     "end_time": "2025-07-30T14:23:15.636810",
     "exception": false,
     "start_time": "2025-07-30T14:23:15.428296",
     "status": "completed"
    },
    "tags": []
   },
   "outputs": [
    {
     "data": {
      "text/plain": [
       "0.8197748300078029"
      ]
     },
     "execution_count": 45,
     "metadata": {},
     "output_type": "execute_result"
    }
   ],
   "source": [
    "probs_test = model.predict_proba(X_test)\n",
    "\n",
    "'''\n",
    "Below code returns a boolean array (or binary 0/1 array depending on how it’s used) where each element \n",
    "is True if the probability of class 1 is greater than or equal to the threshold, and False otherwise.\n",
    "'''\n",
    "y_pred_default = predict_w_threshold(probs_test, 0.5)\n",
    "\n",
    "from sklearn.metrics import accuracy_score\n",
    "\n",
    "# Naive prediction\n",
    "accuracy_score(y_true = y_true, y_pred = y_pred_default)"
   ]
  },
  {
   "cell_type": "code",
   "execution_count": 46,
   "id": "081964c3",
   "metadata": {
    "execution": {
     "iopub.execute_input": "2025-07-30T14:23:15.691314Z",
     "iopub.status.busy": "2025-07-30T14:23:15.690684Z",
     "iopub.status.idle": "2025-07-30T14:23:15.867831Z",
     "shell.execute_reply": "2025-07-30T14:23:15.866946Z"
    },
    "papermill": {
     "duration": 0.205354,
     "end_time": "2025-07-30T14:23:15.869425",
     "exception": false,
     "start_time": "2025-07-30T14:23:15.664071",
     "status": "completed"
    },
    "tags": []
   },
   "outputs": [
    {
     "data": {
      "text/plain": [
       "array([0, 0, 0, ..., 0, 0, 0])"
      ]
     },
     "execution_count": 46,
     "metadata": {},
     "output_type": "execute_result"
    }
   ],
   "source": [
    "model.predict(X_test)"
   ]
  },
  {
   "cell_type": "markdown",
   "id": "56c9705b",
   "metadata": {
    "papermill": {
     "duration": 0.015393,
     "end_time": "2025-07-30T14:23:15.904871",
     "exception": false,
     "start_time": "2025-07-30T14:23:15.889478",
     "status": "completed"
    },
    "tags": []
   },
   "source": [
    "# Conformal Prediction"
   ]
  },
  {
   "cell_type": "code",
   "execution_count": 47,
   "id": "160ec6ff",
   "metadata": {
    "execution": {
     "iopub.execute_input": "2025-07-30T14:23:15.930365Z",
     "iopub.status.busy": "2025-07-30T14:23:15.929915Z",
     "iopub.status.idle": "2025-07-30T14:23:15.935752Z",
     "shell.execute_reply": "2025-07-30T14:23:15.934856Z"
    },
    "papermill": {
     "duration": 0.020756,
     "end_time": "2025-07-30T14:23:15.937655",
     "exception": false,
     "start_time": "2025-07-30T14:23:15.916899",
     "status": "completed"
    },
    "tags": []
   },
   "outputs": [],
   "source": [
    "# Miscoverage level for conformal prediction (10% allowed error rate => 90% target coverage)\n",
    "alpha = 0.1"
   ]
  },
  {
   "cell_type": "code",
   "execution_count": 48,
   "id": "eadf4555-3dd3-440e-8e35-f82a4ad9f855",
   "metadata": {
    "execution": {
     "iopub.execute_input": "2025-07-30T14:23:15.982066Z",
     "iopub.status.busy": "2025-07-30T14:23:15.981628Z",
     "iopub.status.idle": "2025-07-30T14:23:16.182501Z",
     "shell.execute_reply": "2025-07-30T14:23:16.181629Z"
    },
    "papermill": {
     "duration": 0.228178,
     "end_time": "2025-07-30T14:23:16.184302",
     "exception": false,
     "start_time": "2025-07-30T14:23:15.956124",
     "status": "completed"
    },
    "tags": []
   },
   "outputs": [],
   "source": [
    "probs_calib = model.predict_proba(X_calib)"
   ]
  },
  {
   "cell_type": "code",
   "execution_count": 49,
   "id": "2ed93547-6d5d-4983-9b36-1ecb300da49a",
   "metadata": {
    "execution": {
     "iopub.execute_input": "2025-07-30T14:23:16.233098Z",
     "iopub.status.busy": "2025-07-30T14:23:16.232477Z",
     "iopub.status.idle": "2025-07-30T14:23:16.238455Z",
     "shell.execute_reply": "2025-07-30T14:23:16.237619Z"
    },
    "papermill": {
     "duration": 0.03189,
     "end_time": "2025-07-30T14:23:16.240049",
     "exception": false,
     "start_time": "2025-07-30T14:23:16.208159",
     "status": "completed"
    },
    "tags": []
   },
   "outputs": [],
   "source": [
    "y_calib = y_calib.values.ravel().astype(int)"
   ]
  },
  {
   "cell_type": "code",
   "execution_count": 50,
   "id": "65d1320d-f588-4b38-9072-62af1ae97f7d",
   "metadata": {
    "execution": {
     "iopub.execute_input": "2025-07-30T14:23:16.287701Z",
     "iopub.status.busy": "2025-07-30T14:23:16.287072Z",
     "iopub.status.idle": "2025-07-30T14:23:16.295636Z",
     "shell.execute_reply": "2025-07-30T14:23:16.294806Z"
    },
    "papermill": {
     "duration": 0.034078,
     "end_time": "2025-07-30T14:23:16.297213",
     "exception": false,
     "start_time": "2025-07-30T14:23:16.263135",
     "status": "completed"
    },
    "tags": []
   },
   "outputs": [],
   "source": [
    "from fairness_multiverse.conformal import compute_nc_scores\n",
    "\n",
    "# Compute nonconformity scores on calibration set (1 - probability of true class)\n",
    "nc_scores = compute_nc_scores(probs_calib, y_calib)"
   ]
  },
  {
   "cell_type": "code",
   "execution_count": 51,
   "id": "df3b8ca3-53b7-43d5-9667-7c85da7aeda2",
   "metadata": {
    "execution": {
     "iopub.execute_input": "2025-07-30T14:23:16.347064Z",
     "iopub.status.busy": "2025-07-30T14:23:16.346439Z",
     "iopub.status.idle": "2025-07-30T14:23:16.354102Z",
     "shell.execute_reply": "2025-07-30T14:23:16.353167Z"
    },
    "papermill": {
     "duration": 0.036042,
     "end_time": "2025-07-30T14:23:16.357362",
     "exception": false,
     "start_time": "2025-07-30T14:23:16.321320",
     "status": "completed"
    },
    "tags": []
   },
   "outputs": [],
   "source": [
    "from fairness_multiverse.conformal import find_threshold\n",
    "\n",
    "# Find conformal threshold q_hat for the given alpha (split conformal method)\n",
    "q_hat = find_threshold(nc_scores, alpha)"
   ]
  },
  {
   "cell_type": "code",
   "execution_count": 52,
   "id": "4d29e6c1-0ef6-4aa4-b8fe-4fe79b0d033a",
   "metadata": {
    "execution": {
     "iopub.execute_input": "2025-07-30T14:23:16.413484Z",
     "iopub.status.busy": "2025-07-30T14:23:16.413018Z",
     "iopub.status.idle": "2025-07-30T14:23:16.420183Z",
     "shell.execute_reply": "2025-07-30T14:23:16.419083Z"
    },
    "papermill": {
     "duration": 0.038776,
     "end_time": "2025-07-30T14:23:16.421861",
     "exception": false,
     "start_time": "2025-07-30T14:23:16.383085",
     "status": "completed"
    },
    "tags": []
   },
   "outputs": [
    {
     "data": {
      "text/plain": [
       "0.789698592991039"
      ]
     },
     "execution_count": 52,
     "metadata": {},
     "output_type": "execute_result"
    }
   ],
   "source": [
    "q_hat"
   ]
  },
  {
   "cell_type": "code",
   "execution_count": 53,
   "id": "92460794-cdac-4be2-ba28-f28c0515a6fb",
   "metadata": {
    "execution": {
     "iopub.execute_input": "2025-07-30T14:23:16.475646Z",
     "iopub.status.busy": "2025-07-30T14:23:16.474768Z",
     "iopub.status.idle": "2025-07-30T14:23:17.331329Z",
     "shell.execute_reply": "2025-07-30T14:23:17.330360Z"
    },
    "papermill": {
     "duration": 0.885765,
     "end_time": "2025-07-30T14:23:17.333507",
     "exception": false,
     "start_time": "2025-07-30T14:23:16.447742",
     "status": "completed"
    },
    "tags": []
   },
   "outputs": [],
   "source": [
    "from fairness_multiverse.conformal import predict_conformal_sets\n",
    "\n",
    "# Generate prediction sets for each test example\n",
    "pred_sets = predict_conformal_sets(model, X_test, q_hat)"
   ]
  },
  {
   "cell_type": "code",
   "execution_count": 54,
   "id": "d90c9a65-e6db-4f5d-80cd-e68fb7e46829",
   "metadata": {
    "execution": {
     "iopub.execute_input": "2025-07-30T14:23:17.385524Z",
     "iopub.status.busy": "2025-07-30T14:23:17.385128Z",
     "iopub.status.idle": "2025-07-30T14:23:17.390699Z",
     "shell.execute_reply": "2025-07-30T14:23:17.389742Z"
    },
    "papermill": {
     "duration": 0.035517,
     "end_time": "2025-07-30T14:23:17.394106",
     "exception": false,
     "start_time": "2025-07-30T14:23:17.358589",
     "status": "completed"
    },
    "tags": []
   },
   "outputs": [],
   "source": [
    "y_true = y_true.squeeze()"
   ]
  },
  {
   "cell_type": "code",
   "execution_count": 55,
   "id": "3a58a54a-1e68-46b9-927a-df01f18aebc8",
   "metadata": {
    "execution": {
     "iopub.execute_input": "2025-07-30T14:23:17.445784Z",
     "iopub.status.busy": "2025-07-30T14:23:17.445399Z",
     "iopub.status.idle": "2025-07-30T14:23:18.349397Z",
     "shell.execute_reply": "2025-07-30T14:23:18.348482Z"
    },
    "papermill": {
     "duration": 0.932074,
     "end_time": "2025-07-30T14:23:18.351421",
     "exception": false,
     "start_time": "2025-07-30T14:23:17.419347",
     "status": "completed"
    },
    "tags": []
   },
   "outputs": [],
   "source": [
    "from fairness_multiverse.conformal import evaluate_sets\n",
    "\n",
    "# Evaluate coverage and average set size on test data\n",
    "metrics = evaluate_sets(pred_sets, y_true)"
   ]
  },
  {
   "cell_type": "markdown",
   "id": "2b569c12-9aaa-4c88-98c9-bbcd0cf3ebb8",
   "metadata": {
    "papermill": {
     "duration": 0.026195,
     "end_time": "2025-07-30T14:23:18.401892",
     "exception": false,
     "start_time": "2025-07-30T14:23:18.375697",
     "status": "completed"
    },
    "tags": []
   },
   "source": [
    "# CP Metrics"
   ]
  },
  {
   "cell_type": "code",
   "execution_count": 56,
   "id": "5ce0a5cb-201f-45a0-ade5-94c7f0bd6095",
   "metadata": {
    "execution": {
     "iopub.execute_input": "2025-07-30T14:23:18.451900Z",
     "iopub.status.busy": "2025-07-30T14:23:18.451517Z",
     "iopub.status.idle": "2025-07-30T14:23:18.458538Z",
     "shell.execute_reply": "2025-07-30T14:23:18.457543Z"
    },
    "papermill": {
     "duration": 0.036161,
     "end_time": "2025-07-30T14:23:18.461896",
     "exception": false,
     "start_time": "2025-07-30T14:23:18.425735",
     "status": "completed"
    },
    "tags": []
   },
   "outputs": [
    {
     "data": {
      "text/plain": [
       "{'coverage': 0.9072567160851633, 'avg_size': 1.23273882510311}"
      ]
     },
     "execution_count": 56,
     "metadata": {},
     "output_type": "execute_result"
    }
   ],
   "source": [
    "metrics"
   ]
  },
  {
   "cell_type": "code",
   "execution_count": 57,
   "id": "9b9a838d-31c9-430b-ae14-12baee460d17",
   "metadata": {
    "execution": {
     "iopub.execute_input": "2025-07-30T14:23:18.513202Z",
     "iopub.status.busy": "2025-07-30T14:23:18.512752Z",
     "iopub.status.idle": "2025-07-30T14:23:18.519126Z",
     "shell.execute_reply": "2025-07-30T14:23:18.518205Z"
    },
    "papermill": {
     "duration": 0.034303,
     "end_time": "2025-07-30T14:23:18.522020",
     "exception": false,
     "start_time": "2025-07-30T14:23:18.487717",
     "status": "completed"
    },
    "tags": []
   },
   "outputs": [],
   "source": [
    "example_universe = universe.copy()\n",
    "universe_training_size = example_universe.get(\"training_size\")\n",
    "universe_scale = example_universe.get(\"scale\")\n",
    "universe_model = example_universe.get(\"model\")\n",
    "universe_exclude_features = example_universe.get(\"exclude_features\")\n",
    "universe_exclude_subgroups = example_universe.get(\"exclude_subgroups\")"
   ]
  },
  {
   "cell_type": "code",
   "execution_count": 58,
   "id": "f4b6a8ac-9dc0-4245-8a91-5b3b5999c4f9",
   "metadata": {
    "execution": {
     "iopub.execute_input": "2025-07-30T14:23:18.573628Z",
     "iopub.status.busy": "2025-07-30T14:23:18.573222Z",
     "iopub.status.idle": "2025-07-30T14:23:18.580052Z",
     "shell.execute_reply": "2025-07-30T14:23:18.579034Z"
    },
    "papermill": {
     "duration": 0.035869,
     "end_time": "2025-07-30T14:23:18.583630",
     "exception": false,
     "start_time": "2025-07-30T14:23:18.547761",
     "status": "completed"
    },
    "tags": []
   },
   "outputs": [],
   "source": [
    "cp_metrics_dict = {\n",
    "    \"universe_id\": [universe_id],\n",
    "    \"universe_training_size\": [universe_training_size],\n",
    "    \"universe_scale\": [universe_scale],\n",
    "    \"universe_model\": [universe_model],\n",
    "    \"universe_exclude_features\": [universe_exclude_features],\n",
    "    \"universe_exclude_subgroups\": [universe_exclude_subgroups],\n",
    "    \"q_hat\": [q_hat],\n",
    "    \"coverage\": [metrics[\"coverage\"]],\n",
    "    \"avg_size\": [metrics[\"avg_size\"]],\n",
    "}"
   ]
  },
  {
   "cell_type": "code",
   "execution_count": 59,
   "id": "908acbb1-0371-4915-85ca-3fa520d2efe2",
   "metadata": {
    "execution": {
     "iopub.execute_input": "2025-07-30T14:23:18.635183Z",
     "iopub.status.busy": "2025-07-30T14:23:18.634715Z",
     "iopub.status.idle": "2025-07-30T14:23:18.642349Z",
     "shell.execute_reply": "2025-07-30T14:23:18.641508Z"
    },
    "papermill": {
     "duration": 0.037341,
     "end_time": "2025-07-30T14:23:18.646178",
     "exception": false,
     "start_time": "2025-07-30T14:23:18.608837",
     "status": "completed"
    },
    "tags": []
   },
   "outputs": [
    {
     "data": {
      "text/plain": [
       "{'universe_id': ['85f72c5b51d869c95449ba0195fff4f1'],\n",
       " 'universe_training_size': ['1k'],\n",
       " 'universe_scale': ['scale'],\n",
       " 'universe_model': ['elasticnet'],\n",
       " 'universe_exclude_features': ['nationality'],\n",
       " 'universe_exclude_subgroups': ['keep-all'],\n",
       " 'q_hat': [0.789698592991039],\n",
       " 'coverage': [0.9072567160851633],\n",
       " 'avg_size': [1.23273882510311]}"
      ]
     },
     "execution_count": 59,
     "metadata": {},
     "output_type": "execute_result"
    }
   ],
   "source": [
    "cp_metrics_dict"
   ]
  },
  {
   "cell_type": "code",
   "execution_count": null,
   "id": "33007efc-14e9-4ec6-97ac-56a455c82265",
   "metadata": {
    "papermill": {
     "duration": null,
     "end_time": null,
     "exception": null,
     "start_time": null,
     "status": "pending"
    },
    "tags": []
   },
   "outputs": [],
   "source": [
    "cp_metrics_df = pd.DataFrame(cp_metrics_dict)"
   ]
  },
  {
   "cell_type": "code",
   "execution_count": null,
   "id": "db12611b-57b2-4910-b9d0-355adfd6e7bf",
   "metadata": {
    "papermill": {
     "duration": null,
     "end_time": null,
     "exception": null,
     "start_time": null,
     "status": "pending"
    },
    "tags": []
   },
   "outputs": [],
   "source": [
    "cp_metrics_df"
   ]
  },
  {
   "cell_type": "code",
   "execution_count": null,
   "id": "b7fbde55-a0a1-47e4-9af6-fe4a17fa8c61",
   "metadata": {
    "papermill": {
     "duration": null,
     "end_time": null,
     "exception": null,
     "start_time": null,
     "status": "pending"
    },
    "tags": []
   },
   "outputs": [],
   "source": [
    "# Conditional Coverage & looking at subgroups"
   ]
  },
  {
   "cell_type": "code",
   "execution_count": null,
   "id": "027ae886-68dd-4141-96c7-805a5450e1ef",
   "metadata": {
    "papermill": {
     "duration": null,
     "end_time": null,
     "exception": null,
     "start_time": null,
     "status": "pending"
    },
    "tags": []
   },
   "outputs": [],
   "source": [
    "from fairness_multiverse.conformal import build_cp_groups\n",
    "\n",
    "cp_groups_df = build_cp_groups(pred_sets, y_true, X_test.index, org_test)\n",
    "#needs universe_id and setting"
   ]
  },
  {
   "cell_type": "code",
   "execution_count": null,
   "id": "01d5802c-663a-4d1f-9d69-e036faaffbf7",
   "metadata": {
    "papermill": {
     "duration": null,
     "end_time": null,
     "exception": null,
     "start_time": null,
     "status": "pending"
    },
    "tags": []
   },
   "outputs": [],
   "source": [
    "#delete\n",
    "#cp_groups_df"
   ]
  },
  {
   "cell_type": "code",
   "execution_count": null,
   "id": "fa424af1-d1eb-443d-b717-2d279ada8408",
   "metadata": {
    "papermill": {
     "duration": null,
     "end_time": null,
     "exception": null,
     "start_time": null,
     "status": "pending"
    },
    "tags": []
   },
   "outputs": [],
   "source": [
    "#delete\n",
    "#percentage = (cp_groups_df['nongerman_female'] == 1).mean() * 100\n",
    "#print(percentage)\n"
   ]
  },
  {
   "cell_type": "code",
   "execution_count": null,
   "id": "6cbdab96-b2b2-45af-ad54-d0516db2e28d",
   "metadata": {
    "papermill": {
     "duration": null,
     "end_time": null,
     "exception": null,
     "start_time": null,
     "status": "pending"
    },
    "tags": []
   },
   "outputs": [],
   "source": [
    "# Define covered = 1 if true_label is in the predicted set\n",
    "cp_groups_df['covered'] = cp_groups_df.apply(\n",
    "    lambda r: int(r['true_label'] in r['pred_set']),\n",
    "    axis=1\n",
    ")"
   ]
  },
  {
   "cell_type": "code",
   "execution_count": null,
   "id": "338ff529-1a6b-4b87-a931-8e4788d52aad",
   "metadata": {
    "papermill": {
     "duration": null,
     "end_time": null,
     "exception": null,
     "start_time": null,
     "status": "pending"
    },
    "tags": []
   },
   "outputs": [],
   "source": [
    "#cp_groups_df"
   ]
  },
  {
   "cell_type": "code",
   "execution_count": null,
   "id": "90032e27-66df-4540-9169-4e89cfbaa758",
   "metadata": {
    "papermill": {
     "duration": null,
     "end_time": null,
     "exception": null,
     "start_time": null,
     "status": "pending"
    },
    "tags": []
   },
   "outputs": [],
   "source": [
    "subgroups = ['frau1','nongerman','nongerman_male','nongerman_female']\n",
    "\n",
    "# Conditional coverage for subgroup==1\n",
    "cond_coverage = {\n",
    "    g: cp_groups_df.loc[cp_groups_df[g]==1, 'covered'].mean()\n",
    "    for g in subgroups\n",
    "}"
   ]
  },
  {
   "cell_type": "code",
   "execution_count": null,
   "id": "1e348fb1-b9c3-45bc-ba23-f016827a7e0d",
   "metadata": {
    "papermill": {
     "duration": null,
     "end_time": null,
     "exception": null,
     "start_time": null,
     "status": "pending"
    },
    "tags": []
   },
   "outputs": [],
   "source": [
    "cond_coverage"
   ]
  },
  {
   "cell_type": "code",
   "execution_count": null,
   "id": "f5093324-c3dd-4d63-bc4c-8d945e5c8bbb",
   "metadata": {
    "papermill": {
     "duration": null,
     "end_time": null,
     "exception": null,
     "start_time": null,
     "status": "pending"
    },
    "tags": []
   },
   "outputs": [],
   "source": [
    "for subgroup, cov in cond_coverage.items():\n",
    "    cp_metrics_df[f\"cov_{subgroup}\"] = cov"
   ]
  },
  {
   "cell_type": "code",
   "execution_count": null,
   "id": "6e872e10-dbe5-49e8-b554-5030c98ff75d",
   "metadata": {
    "papermill": {
     "duration": null,
     "end_time": null,
     "exception": null,
     "start_time": null,
     "status": "pending"
    },
    "tags": []
   },
   "outputs": [],
   "source": [
    "cp_metrics_df"
   ]
  },
  {
   "cell_type": "markdown",
   "id": "33774451",
   "metadata": {
    "papermill": {
     "duration": null,
     "end_time": null,
     "exception": null,
     "start_time": null,
     "status": "pending"
    },
    "tags": []
   },
   "source": [
    "# (Fairness) Metrics"
   ]
  },
  {
   "cell_type": "code",
   "execution_count": null,
   "id": "debc5d62",
   "metadata": {
    "papermill": {
     "duration": null,
     "end_time": null,
     "exception": null,
     "start_time": null,
     "status": "pending"
    },
    "tags": []
   },
   "outputs": [],
   "source": [
    "# do I need to include maxdeutsch1.missing?\n",
    "\n",
    "import numpy as np\n",
    "\n",
    "colname_to_bin = \"maxdeutsch1\"\n",
    "majority_value = org_train[colname_to_bin].mode()[0]\n",
    "\n",
    "org_test[\"majmin\"] = np.where(org_test[colname_to_bin] == majority_value, \"majority\", \"minority\")"
   ]
  },
  {
   "cell_type": "code",
   "execution_count": null,
   "id": "06a50de5",
   "metadata": {
    "papermill": {
     "duration": null,
     "end_time": null,
     "exception": null,
     "start_time": null,
     "status": "pending"
    },
    "tags": []
   },
   "outputs": [],
   "source": [
    "example_universe = universe.copy()\n",
    "example_universe[\"cutoff\"] = example_universe[\"cutoff\"][0]\n",
    "example_universe[\"eval_fairness_grouping\"] = example_universe[\"eval_fairness_grouping\"][0]\n",
    "fairness_dict, metric_frame = universe_analysis.compute_metrics(\n",
    "    example_universe,\n",
    "    y_pred_prob=probs_test,\n",
    "    y_test=y_true,\n",
    "    org_test=org_test,\n",
    ")"
   ]
  },
  {
   "cell_type": "markdown",
   "id": "f95d4e02",
   "metadata": {
    "papermill": {
     "duration": null,
     "end_time": null,
     "exception": null,
     "start_time": null,
     "status": "pending"
    },
    "tags": []
   },
   "source": [
    "# Overall"
   ]
  },
  {
   "cell_type": "markdown",
   "id": "bdee4871",
   "metadata": {
    "papermill": {
     "duration": null,
     "end_time": null,
     "exception": null,
     "start_time": null,
     "status": "pending"
    },
    "tags": []
   },
   "source": [
    "Fairness\n",
    "Main fairness target: Equalized Odds. Seems to be a better fit than equal opportunity, since we're not only interested in Y = 1. Seems to be a better fit than demographic parity, since we also care about accuracy, not just equal distribution of preds.\n",
    "\n",
    "Pick column for computation of fairness metrics\n",
    "\n",
    "Performance\n",
    "Overall performance measures, most interesting in relation to the measures split by group below"
   ]
  },
  {
   "cell_type": "code",
   "execution_count": null,
   "id": "c4e067c6",
   "metadata": {
    "papermill": {
     "duration": null,
     "end_time": null,
     "exception": null,
     "start_time": null,
     "status": "pending"
    },
    "tags": []
   },
   "outputs": [],
   "source": [
    "metric_frame.overall"
   ]
  },
  {
   "cell_type": "markdown",
   "id": "e968fe9d",
   "metadata": {
    "papermill": {
     "duration": null,
     "end_time": null,
     "exception": null,
     "start_time": null,
     "status": "pending"
    },
    "tags": []
   },
   "source": [
    "By Group"
   ]
  },
  {
   "cell_type": "code",
   "execution_count": null,
   "id": "ec325bce",
   "metadata": {
    "papermill": {
     "duration": null,
     "end_time": null,
     "exception": null,
     "start_time": null,
     "status": "pending"
    },
    "tags": []
   },
   "outputs": [],
   "source": [
    "metric_frame.by_group"
   ]
  },
  {
   "cell_type": "code",
   "execution_count": null,
   "id": "a9ddbe63",
   "metadata": {
    "papermill": {
     "duration": null,
     "end_time": null,
     "exception": null,
     "start_time": null,
     "status": "pending"
    },
    "tags": []
   },
   "outputs": [],
   "source": [
    "# In a graphic\n",
    "metric_frame.by_group.plot.bar(\n",
    "    subplots=True,\n",
    "    layout=[3, 3],\n",
    "    legend=False,\n",
    "    figsize=[12, 8],\n",
    "    title=\"Show all metrics\",\n",
    ")"
   ]
  },
  {
   "cell_type": "markdown",
   "id": "f57a0bac",
   "metadata": {
    "papermill": {
     "duration": null,
     "end_time": null,
     "exception": null,
     "start_time": null,
     "status": "pending"
    },
    "tags": []
   },
   "source": [
    "# Final Output"
   ]
  },
  {
   "cell_type": "code",
   "execution_count": null,
   "id": "96d280a3",
   "metadata": {
    "papermill": {
     "duration": null,
     "end_time": null,
     "exception": null,
     "start_time": null,
     "status": "pending"
    },
    "tags": []
   },
   "outputs": [],
   "source": [
    "sub_universes = universe_analysis.generate_sub_universes()\n",
    "len(sub_universes)"
   ]
  },
  {
   "cell_type": "code",
   "execution_count": null,
   "id": "92adf7ba",
   "metadata": {
    "papermill": {
     "duration": null,
     "end_time": null,
     "exception": null,
     "start_time": null,
     "status": "pending"
    },
    "tags": []
   },
   "outputs": [],
   "source": [
    "def filter_sub_universe_data(sub_universe, org_test):\n",
    "    # Keep all rows — no filtering\n",
    "    keep_rows_mask = np.ones(org_test.shape[0], dtype=bool)\n",
    "\n",
    "    print(f\"[INFO] Keeping all rows: {keep_rows_mask.sum()} rows retained.\")\n",
    "    return keep_rows_mask"
   ]
  },
  {
   "cell_type": "code",
   "execution_count": null,
   "id": "4a759155",
   "metadata": {
    "papermill": {
     "duration": null,
     "end_time": null,
     "exception": null,
     "start_time": null,
     "status": "pending"
    },
    "tags": []
   },
   "outputs": [],
   "source": [
    "final_output = universe_analysis.generate_final_output(\n",
    "    y_pred_prob=probs_test,\n",
    "    y_test=y_true,\n",
    "    org_test=org_test,\n",
    "    filter_data=filter_sub_universe_data,\n",
    "    cp_metrics_df=cp_metrics_df,\n",
    "    save=True,\n",
    ")\n",
    "final_output"
   ]
  },
  {
   "cell_type": "code",
   "execution_count": null,
   "id": "721ff514-cb11-46f8-b6fc-50392f74b5cb",
   "metadata": {
    "papermill": {
     "duration": null,
     "end_time": null,
     "exception": null,
     "start_time": null,
     "status": "pending"
    },
    "tags": []
   },
   "outputs": [],
   "source": []
  }
 ],
 "metadata": {
  "celltoolbar": "Tags",
  "kernelspec": {
   "display_name": "Python (CMA Fairness)",
   "language": "python",
   "name": "cma_fair_env"
  },
  "language_info": {
   "codemirror_mode": {
    "name": "ipython",
    "version": 3
   },
   "file_extension": ".py",
   "mimetype": "text/x-python",
   "name": "python",
   "nbconvert_exporter": "python",
   "pygments_lexer": "ipython3",
   "version": "3.10.12"
  },
  "papermill": {
   "default_parameters": {},
   "duration": null,
   "end_time": null,
   "environment_variables": {},
   "exception": null,
   "input_path": "universe_analysis.ipynb",
   "output_path": "output/runs/12/notebooks/m_12-85f72c5b51d869c95449ba0195fff4f1.ipynb",
   "parameters": {
    "output_dir": "output",
    "run_no": "12",
    "seed": "2023",
    "universe": "{\"cutoff\": [\"quantile_0.1\", \"quantile_0.25\"], \"eval_fairness_grouping\": [\"majority-minority\", \"nationality-all\"], \"exclude_features\": \"nationality\", \"exclude_subgroups\": \"keep-all\", \"model\": \"elasticnet\", \"scale\": \"scale\", \"training_size\": \"1k\", \"training_year\": \"2014\"}",
    "universe_id": "85f72c5b51d869c95449ba0195fff4f1"
   },
   "start_time": "2025-07-30T14:22:53.958239",
   "version": "2.6.0"
  }
 },
 "nbformat": 4,
 "nbformat_minor": 5
}