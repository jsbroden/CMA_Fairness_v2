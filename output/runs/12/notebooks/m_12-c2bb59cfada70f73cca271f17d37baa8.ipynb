{
 "cells": [
  {
   "cell_type": "code",
   "execution_count": 1,
   "id": "f159f837-637b-42ba-96b5-ec9a68c44524",
   "metadata": {
    "execution": {
     "iopub.execute_input": "2025-07-30T14:01:05.175824Z",
     "iopub.status.busy": "2025-07-30T14:01:05.175344Z",
     "iopub.status.idle": "2025-07-30T14:01:05.189105Z",
     "shell.execute_reply": "2025-07-30T14:01:05.188248Z"
    },
    "papermill": {
     "duration": 0.037165,
     "end_time": "2025-07-30T14:01:05.190689",
     "exception": false,
     "start_time": "2025-07-30T14:01:05.153524",
     "status": "completed"
    },
    "tags": []
   },
   "outputs": [
    {
     "name": "stdout",
     "output_type": "stream",
     "text": [
      "/dss/dsshome1/0C/ra93lal2/cma/CMA_Fairness_v2\n"
     ]
    },
    {
     "name": "stderr",
     "output_type": "stream",
     "text": [
      "/dss/dsshome1/0C/ra93lal2/.local/share/virtualenvs/CMA_Fairness_v2-3j10GkSs/lib/python3.10/site-packages/IPython/core/magics/osm.py:393: UserWarning: This is now an optional IPython functionality, using bookmarks requires you to install the `pickleshare` library.\n",
      "  bkms = self.shell.db.get('bookmarks', {})\n",
      "/dss/dsshome1/0C/ra93lal2/.local/share/virtualenvs/CMA_Fairness_v2-3j10GkSs/lib/python3.10/site-packages/IPython/core/magics/osm.py:417: UserWarning: This is now an optional IPython functionality, setting dhist requires you to install the `pickleshare` library.\n",
      "  self.shell.db['dhist'] = compress_dhist(dhist)[-100:]\n"
     ]
    }
   ],
   "source": [
    "%cd ~/cma/CMA_Fairness_v2"
   ]
  },
  {
   "cell_type": "markdown",
   "id": "de2603b9",
   "metadata": {
    "papermill": {
     "duration": 0.020776,
     "end_time": "2025-07-30T14:01:05.233059",
     "exception": false,
     "start_time": "2025-07-30T14:01:05.212283",
     "status": "completed"
    },
    "tags": []
   },
   "source": [
    "The following cell holds the definition of our parameters, these values can be overriden by rendering the with e.g. the following command:\n",
    "\n",
    "papermill -p alpha 0.2 -p ratio 0.3 universe_analysis.ipynb output/test_run.ipynb"
   ]
  },
  {
   "cell_type": "code",
   "execution_count": 2,
   "id": "a80968a0-40bb-4fa9-85ef-2d5eefb01975",
   "metadata": {
    "execution": {
     "iopub.execute_input": "2025-07-30T14:01:05.263220Z",
     "iopub.status.busy": "2025-07-30T14:01:05.262733Z",
     "iopub.status.idle": "2025-07-30T14:01:05.268618Z",
     "shell.execute_reply": "2025-07-30T14:01:05.267619Z"
    },
    "papermill": {
     "duration": 0.021031,
     "end_time": "2025-07-30T14:01:05.270448",
     "exception": false,
     "start_time": "2025-07-30T14:01:05.249417",
     "status": "completed"
    },
    "tags": []
   },
   "outputs": [
    {
     "name": "stdout",
     "output_type": "stream",
     "text": [
      "Current working directory: /dss/dsshome1/0C/ra93lal2/cma/CMA_Fairness_v2\n"
     ]
    }
   ],
   "source": [
    "import os\n",
    "print(\"Current working directory:\", os.getcwd())"
   ]
  },
  {
   "cell_type": "code",
   "execution_count": 3,
   "id": "2dce4c03",
   "metadata": {
    "execution": {
     "iopub.execute_input": "2025-07-30T14:01:05.296184Z",
     "iopub.status.busy": "2025-07-30T14:01:05.295177Z",
     "iopub.status.idle": "2025-07-30T14:01:05.302976Z",
     "shell.execute_reply": "2025-07-30T14:01:05.301781Z"
    },
    "papermill": {
     "duration": 0.022885,
     "end_time": "2025-07-30T14:01:05.305161",
     "exception": false,
     "start_time": "2025-07-30T14:01:05.282276",
     "status": "completed"
    },
    "tags": [
     "parameters"
    ]
   },
   "outputs": [],
   "source": [
    "run_no = 0\n",
    "universe_id = \"test\"\n",
    "universe = {\n",
    "    \"training_size\": \"25k\", # \"25k\", \"5k\", \"1k\"\n",
    "    \"training_year\": \"2014\", # \"2014\", \"2012_14\", \"2010_14\"\n",
    "    \"scale\": \"scale\", # \"scale\", \"do-not-scale\",\n",
    "    #\"stratify_split\": \"target\", # \"none\", \"target\", \"protected-attribute\", \"both\",\n",
    "    \"model\": \"elasticnet\", # \"logreg\", \"penalized_logreg\", \"rf\", \"gbm\", \"elasticnet\"\n",
    "    \"cutoff\": [\"quantile_0.15\", \"quantile_0.30\"],\n",
    "    \"exclude_features\": \"age\", # \"none\", \"nationality\", \"sex\", \"nationality-sex\", \"age\"\n",
    "    \"exclude_subgroups\": \"keep-all\", # \"keep-all\", \"drop-non-german\"\n",
    "    \"eval_fairness_grouping\": [\"majority-minority\", \"nationality-all\"]\n",
    "}\n",
    "\n",
    "output_dir=\"./output\"\n",
    "seed=0"
   ]
  },
  {
   "cell_type": "code",
   "execution_count": 4,
   "id": "28fb018e",
   "metadata": {
    "execution": {
     "iopub.execute_input": "2025-07-30T14:01:05.347472Z",
     "iopub.status.busy": "2025-07-30T14:01:05.346946Z",
     "iopub.status.idle": "2025-07-30T14:01:05.353141Z",
     "shell.execute_reply": "2025-07-30T14:01:05.352024Z"
    },
    "papermill": {
     "duration": 0.032153,
     "end_time": "2025-07-30T14:01:05.355102",
     "exception": false,
     "start_time": "2025-07-30T14:01:05.322949",
     "status": "completed"
    },
    "tags": [
     "injected-parameters"
    ]
   },
   "outputs": [],
   "source": [
    "# Parameters\n",
    "universe_id = \"c2bb59cfada70f73cca271f17d37baa8\"\n",
    "run_no = \"12\"\n",
    "universe = \"{\\\"cutoff\\\": [\\\"quantile_0.1\\\", \\\"quantile_0.25\\\"], \\\"eval_fairness_grouping\\\": [\\\"majority-minority\\\", \\\"nationality-all\\\"], \\\"exclude_features\\\": \\\"none\\\", \\\"exclude_subgroups\\\": \\\"drop-non-german\\\", \\\"model\\\": \\\"rf\\\", \\\"scale\\\": \\\"do-not-scale\\\", \\\"training_size\\\": \\\"5k\\\", \\\"training_year\\\": \\\"2012_14\\\"}\"\n",
    "output_dir = \"output\"\n",
    "seed = \"2023\"\n"
   ]
  },
  {
   "cell_type": "code",
   "execution_count": 5,
   "id": "1650acaf",
   "metadata": {
    "execution": {
     "iopub.execute_input": "2025-07-30T14:01:05.392140Z",
     "iopub.status.busy": "2025-07-30T14:01:05.391746Z",
     "iopub.status.idle": "2025-07-30T14:01:05.395740Z",
     "shell.execute_reply": "2025-07-30T14:01:05.395046Z"
    },
    "papermill": {
     "duration": 0.019656,
     "end_time": "2025-07-30T14:01:05.397068",
     "exception": false,
     "start_time": "2025-07-30T14:01:05.377412",
     "status": "completed"
    },
    "tags": []
   },
   "outputs": [],
   "source": [
    "import json\n",
    "# Parse universe into dict if it is passed as a string\n",
    "if isinstance(universe, str):\n",
    "    universe = json.loads(universe)"
   ]
  },
  {
   "cell_type": "code",
   "execution_count": 6,
   "id": "16620c48",
   "metadata": {
    "execution": {
     "iopub.execute_input": "2025-07-30T14:01:05.423267Z",
     "iopub.status.busy": "2025-07-30T14:01:05.422901Z",
     "iopub.status.idle": "2025-07-30T14:01:05.466005Z",
     "shell.execute_reply": "2025-07-30T14:01:05.464997Z"
    },
    "papermill": {
     "duration": 0.057324,
     "end_time": "2025-07-30T14:01:05.467626",
     "exception": false,
     "start_time": "2025-07-30T14:01:05.410302",
     "status": "completed"
    },
    "tags": []
   },
   "outputs": [],
   "source": [
    "# Auto-reload the custom package\n",
    "%load_ext autoreload\n",
    "%autoreload 1\n",
    "%aimport fairness_multiverse"
   ]
  },
  {
   "cell_type": "code",
   "execution_count": 7,
   "id": "01c5c9f3",
   "metadata": {
    "execution": {
     "iopub.execute_input": "2025-07-30T14:01:05.513671Z",
     "iopub.status.busy": "2025-07-30T14:01:05.513237Z",
     "iopub.status.idle": "2025-07-30T14:01:07.413562Z",
     "shell.execute_reply": "2025-07-30T14:01:07.412470Z"
    },
    "papermill": {
     "duration": 1.925773,
     "end_time": "2025-07-30T14:01:07.415847",
     "exception": false,
     "start_time": "2025-07-30T14:01:05.490074",
     "status": "completed"
    },
    "tags": []
   },
   "outputs": [],
   "source": [
    "from fairness_multiverse.universe import UniverseAnalysis\n",
    "\n",
    "universe_analysis = UniverseAnalysis(\n",
    "    run_no = run_no,\n",
    "    universe_id = universe_id,\n",
    "    universe = universe,\n",
    "    output_dir=output_dir,\n",
    ")"
   ]
  },
  {
   "cell_type": "code",
   "execution_count": 8,
   "id": "106241f5",
   "metadata": {
    "execution": {
     "iopub.execute_input": "2025-07-30T14:01:07.463652Z",
     "iopub.status.busy": "2025-07-30T14:01:07.462697Z",
     "iopub.status.idle": "2025-07-30T14:01:07.469745Z",
     "shell.execute_reply": "2025-07-30T14:01:07.468794Z"
    },
    "papermill": {
     "duration": 0.03295,
     "end_time": "2025-07-30T14:01:07.471569",
     "exception": false,
     "start_time": "2025-07-30T14:01:07.438619",
     "status": "completed"
    },
    "tags": []
   },
   "outputs": [
    {
     "name": "stdout",
     "output_type": "stream",
     "text": [
      "Using Seed: 2023\n"
     ]
    }
   ],
   "source": [
    "import numpy as np\n",
    "parsed_seed = int(seed)\n",
    "np.random.seed(parsed_seed)\n",
    "print(f\"Using Seed: {parsed_seed}\")"
   ]
  },
  {
   "cell_type": "markdown",
   "id": "e0ebdc57",
   "metadata": {
    "papermill": {
     "duration": 0.019493,
     "end_time": "2025-07-30T14:01:07.513236",
     "exception": false,
     "start_time": "2025-07-30T14:01:07.493743",
     "status": "completed"
    },
    "tags": []
   },
   "source": [
    "# Loading Data"
   ]
  },
  {
   "cell_type": "markdown",
   "id": "681925a3",
   "metadata": {
    "papermill": {
     "duration": 0.020864,
     "end_time": "2025-07-30T14:01:07.553804",
     "exception": false,
     "start_time": "2025-07-30T14:01:07.532940",
     "status": "completed"
    },
    "tags": []
   },
   "source": [
    "Load siab_train, siab_test, siab_calib and/or \n",
    "load siab_train_features, siab_train_labels"
   ]
  },
  {
   "cell_type": "code",
   "execution_count": 9,
   "id": "f0496b8a",
   "metadata": {
    "execution": {
     "iopub.execute_input": "2025-07-30T14:01:07.594763Z",
     "iopub.status.busy": "2025-07-30T14:01:07.594302Z",
     "iopub.status.idle": "2025-07-30T14:01:19.263806Z",
     "shell.execute_reply": "2025-07-30T14:01:19.262643Z"
    },
    "papermill": {
     "duration": 11.691429,
     "end_time": "2025-07-30T14:01:19.265598",
     "exception": false,
     "start_time": "2025-07-30T14:01:07.574169",
     "status": "completed"
    },
    "tags": []
   },
   "outputs": [
    {
     "name": "stdout",
     "output_type": "stream",
     "text": [
      "Loading SIAB data from cache: data/siab_cached.csv.gz\n"
     ]
    },
    {
     "name": "stdout",
     "output_type": "stream",
     "text": [
      "(643690, 164)\n"
     ]
    }
   ],
   "source": [
    "from pathlib import Path\n",
    "import pandas as pd\n",
    "\n",
    "# File paths\n",
    "raw_file = Path(\"data/raw/siab.csv\")\n",
    "cache_file = Path(\"data/siab_cached.csv.gz\")\n",
    "\n",
    "# Ensure cache directory exists\n",
    "cache_file.parent.mkdir(parents=True, exist_ok=True)\n",
    "\n",
    "# Load with simple caching\n",
    "if cache_file.exists():\n",
    "    print(f\"Loading SIAB data from cache: {cache_file}\")\n",
    "    siab = pd.read_csv(cache_file, compression='gzip')\n",
    "else:\n",
    "    print(f\"Cache not found. Reading raw SIAB data: {raw_file}\")\n",
    "    siab = pd.read_csv(raw_file)\n",
    "    siab.to_csv(cache_file, index=False, compression='gzip')\n",
    "    print(f\"Cached SIAB data to: {cache_file}\")\n",
    "\n",
    "# Now use `siab` DataFrame as needed\n",
    "print(siab.shape)"
   ]
  },
  {
   "cell_type": "code",
   "execution_count": 10,
   "id": "db0ca512-5f53-4dba-abdb-a2888bca41ba",
   "metadata": {
    "execution": {
     "iopub.execute_input": "2025-07-30T14:01:19.309393Z",
     "iopub.status.busy": "2025-07-30T14:01:19.308656Z",
     "iopub.status.idle": "2025-07-30T14:01:19.314523Z",
     "shell.execute_reply": "2025-07-30T14:01:19.313491Z"
    },
    "papermill": {
     "duration": 0.031578,
     "end_time": "2025-07-30T14:01:19.316383",
     "exception": false,
     "start_time": "2025-07-30T14:01:19.284805",
     "status": "completed"
    },
    "tags": []
   },
   "outputs": [],
   "source": [
    "#siab"
   ]
  },
  {
   "cell_type": "code",
   "execution_count": 11,
   "id": "a0edb063",
   "metadata": {
    "execution": {
     "iopub.execute_input": "2025-07-30T14:01:19.359849Z",
     "iopub.status.busy": "2025-07-30T14:01:19.359059Z",
     "iopub.status.idle": "2025-07-30T14:01:19.364021Z",
     "shell.execute_reply": "2025-07-30T14:01:19.363108Z"
    },
    "papermill": {
     "duration": 0.028252,
     "end_time": "2025-07-30T14:01:19.365837",
     "exception": false,
     "start_time": "2025-07-30T14:01:19.337585",
     "status": "completed"
    },
    "tags": []
   },
   "outputs": [],
   "source": [
    "#import pandas as pd\n",
    "#\n",
    "#X_train = pd.read_csv(\"./data/X_train.csv\")\n",
    "#y_train = pd.read_csv(\"./data/y_train.csv\")"
   ]
  },
  {
   "cell_type": "code",
   "execution_count": 12,
   "id": "63d08085",
   "metadata": {
    "execution": {
     "iopub.execute_input": "2025-07-30T14:01:19.410663Z",
     "iopub.status.busy": "2025-07-30T14:01:19.410001Z",
     "iopub.status.idle": "2025-07-30T14:01:19.415449Z",
     "shell.execute_reply": "2025-07-30T14:01:19.414561Z"
    },
    "papermill": {
     "duration": 0.029362,
     "end_time": "2025-07-30T14:01:19.417161",
     "exception": false,
     "start_time": "2025-07-30T14:01:19.387799",
     "status": "completed"
    },
    "tags": []
   },
   "outputs": [],
   "source": [
    "#X_test = pd.read_csv(\"./data/X_test.csv\")\n",
    "#y_true = pd.read_csv(\"./data/y_test.csv\")"
   ]
  },
  {
   "cell_type": "code",
   "execution_count": 13,
   "id": "98a8d0fa-1d3d-4ed8-bb2c-281470e24add",
   "metadata": {
    "execution": {
     "iopub.execute_input": "2025-07-30T14:01:19.453481Z",
     "iopub.status.busy": "2025-07-30T14:01:19.452564Z",
     "iopub.status.idle": "2025-07-30T14:01:19.457076Z",
     "shell.execute_reply": "2025-07-30T14:01:19.456361Z"
    },
    "papermill": {
     "duration": 0.020532,
     "end_time": "2025-07-30T14:01:19.458467",
     "exception": false,
     "start_time": "2025-07-30T14:01:19.437935",
     "status": "completed"
    },
    "tags": []
   },
   "outputs": [],
   "source": [
    "# Calibration data for conformal\n",
    "#X_calib = pd.read_csv(\"./data/X_calib.csv\")\n",
    "#y_calib = pd.read_csv(\"./data/y_calib.csv\")"
   ]
  },
  {
   "cell_type": "markdown",
   "id": "997051c5-15bd-4b69-9786-c3001a3ce484",
   "metadata": {
    "papermill": {
     "duration": 0.011197,
     "end_time": "2025-07-30T14:01:19.481966",
     "exception": false,
     "start_time": "2025-07-30T14:01:19.470769",
     "status": "completed"
    },
    "tags": []
   },
   "source": [
    "# Splitting Data and Setting Training Data Size"
   ]
  },
  {
   "cell_type": "code",
   "execution_count": 14,
   "id": "e993b61f-042d-41a6-8c81-f55681f86335",
   "metadata": {
    "execution": {
     "iopub.execute_input": "2025-07-30T14:01:19.505047Z",
     "iopub.status.busy": "2025-07-30T14:01:19.504386Z",
     "iopub.status.idle": "2025-07-30T14:01:19.517752Z",
     "shell.execute_reply": "2025-07-30T14:01:19.516779Z"
    },
    "papermill": {
     "duration": 0.026778,
     "end_time": "2025-07-30T14:01:19.519398",
     "exception": false,
     "start_time": "2025-07-30T14:01:19.492620",
     "status": "completed"
    },
    "tags": []
   },
   "outputs": [],
   "source": [
    "def sample_by_year_size(df,\n",
    "                        training_year: str,\n",
    "                        training_size: str,\n",
    "                        random_state: int = 42):\n",
    "    # --- parse training_year into a list of int years ---\n",
    "    if \"_\" in training_year:\n",
    "        start_str, end_str = training_year.split(\"_\", 1)\n",
    "        start = int(start_str)\n",
    "        end   = int(end_str) if len(end_str) == 4 else (int(end_str) + (start // 100)*100)\n",
    "        years = list(range(start, end + 1))\n",
    "    else:\n",
    "        years = [int(training_year)]\n",
    "\n",
    "    df = df[df[\"year\"].isin(years)].reset_index(drop=True)\n",
    "\n",
    "    # --- map training_size to total number of samples ---\n",
    "    total_map = {\"25k\": 25_000, \"5k\": 5_000, \"1k\": 1_000}\n",
    "    if training_size not in total_map:\n",
    "        return df  # e.g. \"all\"\n",
    "\n",
    "    total_samples = total_map[training_size]\n",
    "    n_years       = len(years)\n",
    "    base          = total_samples // n_years\n",
    "    remainder     = total_samples % n_years\n",
    "\n",
    "    # --- build a dict: year -> how many to sample ---\n",
    "    # give +1 to the first `remainder` years in ascending order\n",
    "    quotas = {\n",
    "        year: base + (1 if idx < remainder else 0)\n",
    "        for idx, year in enumerate(sorted(years))\n",
    "    }\n",
    "\n",
    "    # --- sample per‐year according to the quota dict ---\n",
    "    sampled = (\n",
    "        df\n",
    "        .groupby(\"year\", group_keys=False)\n",
    "        .apply(lambda grp: grp.sample(\n",
    "            n=min(len(grp), quotas[grp.name]),\n",
    "            random_state=random_state))\n",
    "        .reset_index(drop=True)\n",
    "    )\n",
    "\n",
    "    return sampled"
   ]
  },
  {
   "cell_type": "code",
   "execution_count": 15,
   "id": "c0ccd338-0e02-41f3-a09d-f56f9266e3fb",
   "metadata": {
    "execution": {
     "iopub.execute_input": "2025-07-30T14:01:19.560396Z",
     "iopub.status.busy": "2025-07-30T14:01:19.559906Z",
     "iopub.status.idle": "2025-07-30T14:01:19.571290Z",
     "shell.execute_reply": "2025-07-30T14:01:19.570525Z"
    },
    "papermill": {
     "duration": 0.032871,
     "end_time": "2025-07-30T14:01:19.572701",
     "exception": false,
     "start_time": "2025-07-30T14:01:19.539830",
     "status": "completed"
    },
    "tags": []
   },
   "outputs": [
    {
     "data": {
      "text/plain": [
       "'5k'"
      ]
     },
     "execution_count": 15,
     "metadata": {},
     "output_type": "execute_result"
    }
   ],
   "source": [
    "universe[\"training_size\"]"
   ]
  },
  {
   "cell_type": "code",
   "execution_count": 16,
   "id": "ca707fd7-8047-4acd-bfa5-66248fbbf8e6",
   "metadata": {
    "execution": {
     "iopub.execute_input": "2025-07-30T14:01:19.597482Z",
     "iopub.status.busy": "2025-07-30T14:01:19.596982Z",
     "iopub.status.idle": "2025-07-30T14:01:19.602685Z",
     "shell.execute_reply": "2025-07-30T14:01:19.601933Z"
    },
    "papermill": {
     "duration": 0.020078,
     "end_time": "2025-07-30T14:01:19.604083",
     "exception": false,
     "start_time": "2025-07-30T14:01:19.584005",
     "status": "completed"
    },
    "tags": []
   },
   "outputs": [
    {
     "data": {
      "text/plain": [
       "'2012_14'"
      ]
     },
     "execution_count": 16,
     "metadata": {},
     "output_type": "execute_result"
    }
   ],
   "source": [
    "universe[\"training_year\"]"
   ]
  },
  {
   "cell_type": "code",
   "execution_count": 17,
   "id": "aea9c6ef-6f46-42c8-85eb-5a62025c1508",
   "metadata": {
    "execution": {
     "iopub.execute_input": "2025-07-30T14:01:19.638173Z",
     "iopub.status.busy": "2025-07-30T14:01:19.637751Z",
     "iopub.status.idle": "2025-07-30T14:01:20.216143Z",
     "shell.execute_reply": "2025-07-30T14:01:20.215148Z"
    },
    "papermill": {
     "duration": 0.602478,
     "end_time": "2025-07-30T14:01:20.218015",
     "exception": false,
     "start_time": "2025-07-30T14:01:19.615537",
     "status": "completed"
    },
    "tags": []
   },
   "outputs": [],
   "source": [
    "siab_train = sample_by_year_size(siab,\n",
    "                               training_year=universe[\"training_year\"],\n",
    "                               training_size=universe[\"training_size\"])"
   ]
  },
  {
   "cell_type": "code",
   "execution_count": 18,
   "id": "8d3afb32-789d-442c-8d5d-9f5aa8dd2eed",
   "metadata": {
    "execution": {
     "iopub.execute_input": "2025-07-30T14:01:20.257242Z",
     "iopub.status.busy": "2025-07-30T14:01:20.256560Z",
     "iopub.status.idle": "2025-07-30T14:01:20.270454Z",
     "shell.execute_reply": "2025-07-30T14:01:20.268899Z"
    },
    "papermill": {
     "duration": 0.043266,
     "end_time": "2025-07-30T14:01:20.277575",
     "exception": false,
     "start_time": "2025-07-30T14:01:20.234309",
     "status": "completed"
    },
    "tags": []
   },
   "outputs": [
    {
     "data": {
      "text/plain": [
       "(5000, 164)"
      ]
     },
     "execution_count": 18,
     "metadata": {},
     "output_type": "execute_result"
    }
   ],
   "source": [
    "siab_train.shape"
   ]
  },
  {
   "cell_type": "code",
   "execution_count": 19,
   "id": "d582db68-1a4c-47fb-84fc-08518dc1975a",
   "metadata": {
    "execution": {
     "iopub.execute_input": "2025-07-30T14:01:20.323425Z",
     "iopub.status.busy": "2025-07-30T14:01:20.323042Z",
     "iopub.status.idle": "2025-07-30T14:01:20.332512Z",
     "shell.execute_reply": "2025-07-30T14:01:20.331597Z"
    },
    "papermill": {
     "duration": 0.034301,
     "end_time": "2025-07-30T14:01:20.336365",
     "exception": false,
     "start_time": "2025-07-30T14:01:20.302064",
     "status": "completed"
    },
    "tags": []
   },
   "outputs": [
    {
     "data": {
      "text/plain": [
       "year\n",
       "2012    1667\n",
       "2013    1667\n",
       "2014    1666\n",
       "dtype: int64"
      ]
     },
     "metadata": {},
     "output_type": "display_data"
    }
   ],
   "source": [
    "display(siab_train.groupby(\"year\").size())"
   ]
  },
  {
   "cell_type": "code",
   "execution_count": 20,
   "id": "a561edb4-d032-42cb-8256-22eac1111c64",
   "metadata": {
    "execution": {
     "iopub.execute_input": "2025-07-30T14:01:20.379544Z",
     "iopub.status.busy": "2025-07-30T14:01:20.378861Z",
     "iopub.status.idle": "2025-07-30T14:01:20.617764Z",
     "shell.execute_reply": "2025-07-30T14:01:20.616674Z"
    },
    "papermill": {
     "duration": 0.262252,
     "end_time": "2025-07-30T14:01:20.620058",
     "exception": false,
     "start_time": "2025-07-30T14:01:20.357806",
     "status": "completed"
    },
    "tags": []
   },
   "outputs": [],
   "source": [
    "#siab_train = siab_s[siab_s.year < 2015]\n",
    "siab_calib = siab[siab.year == 2015]\n",
    "siab_test = siab[siab.year == 2016]"
   ]
  },
  {
   "cell_type": "code",
   "execution_count": 21,
   "id": "472de16f-c3db-4916-846b-1f0de9cf1746",
   "metadata": {
    "execution": {
     "iopub.execute_input": "2025-07-30T14:01:20.676000Z",
     "iopub.status.busy": "2025-07-30T14:01:20.675609Z",
     "iopub.status.idle": "2025-07-30T14:01:20.683588Z",
     "shell.execute_reply": "2025-07-30T14:01:20.682693Z"
    },
    "papermill": {
     "duration": 0.03541,
     "end_time": "2025-07-30T14:01:20.686284",
     "exception": false,
     "start_time": "2025-07-30T14:01:20.650874",
     "status": "completed"
    },
    "tags": []
   },
   "outputs": [],
   "source": [
    "X_train = siab_train.iloc[:,4:164]\n",
    "y_train = siab_train.iloc[:, [3]]"
   ]
  },
  {
   "cell_type": "code",
   "execution_count": 22,
   "id": "828c96af-f43a-4ed6-ba47-8ac73a47d56c",
   "metadata": {
    "execution": {
     "iopub.execute_input": "2025-07-30T14:01:20.731453Z",
     "iopub.status.busy": "2025-07-30T14:01:20.731042Z",
     "iopub.status.idle": "2025-07-30T14:01:20.785878Z",
     "shell.execute_reply": "2025-07-30T14:01:20.784779Z"
    },
    "papermill": {
     "duration": 0.079267,
     "end_time": "2025-07-30T14:01:20.788043",
     "exception": false,
     "start_time": "2025-07-30T14:01:20.708776",
     "status": "completed"
    },
    "tags": []
   },
   "outputs": [],
   "source": [
    "X_calib = siab_calib.iloc[:,4:164]\n",
    "y_calib = siab_calib.iloc[:, [3]]"
   ]
  },
  {
   "cell_type": "code",
   "execution_count": 23,
   "id": "c34be9c3-6bd6-476e-acd3-845840e303be",
   "metadata": {
    "execution": {
     "iopub.execute_input": "2025-07-30T14:01:20.832433Z",
     "iopub.status.busy": "2025-07-30T14:01:20.832004Z",
     "iopub.status.idle": "2025-07-30T14:01:20.886687Z",
     "shell.execute_reply": "2025-07-30T14:01:20.885611Z"
    },
    "papermill": {
     "duration": 0.077868,
     "end_time": "2025-07-30T14:01:20.888952",
     "exception": false,
     "start_time": "2025-07-30T14:01:20.811084",
     "status": "completed"
    },
    "tags": []
   },
   "outputs": [],
   "source": [
    "X_test = siab_test.iloc[:,4:164]\n",
    "y_true = siab_test.iloc[:, [3]]"
   ]
  },
  {
   "cell_type": "markdown",
   "id": "9901737e-04df-44f0-9100-f5ad144ed040",
   "metadata": {
    "papermill": {
     "duration": 0.020958,
     "end_time": "2025-07-30T14:01:20.935328",
     "exception": false,
     "start_time": "2025-07-30T14:01:20.914370",
     "status": "completed"
    },
    "tags": []
   },
   "source": [
    "# Splitting Data and Setting Training Data Size OLD VERSION"
   ]
  },
  {
   "cell_type": "code",
   "execution_count": 24,
   "id": "acbc8f7d-8fc8-4e86-8c59-5dcb0f58384b",
   "metadata": {
    "execution": {
     "iopub.execute_input": "2025-07-30T14:01:21.006600Z",
     "iopub.status.busy": "2025-07-30T14:01:21.006215Z",
     "iopub.status.idle": "2025-07-30T14:01:21.012421Z",
     "shell.execute_reply": "2025-07-30T14:01:21.011498Z"
    },
    "papermill": {
     "duration": 0.051629,
     "end_time": "2025-07-30T14:01:21.017995",
     "exception": false,
     "start_time": "2025-07-30T14:01:20.966366",
     "status": "completed"
    },
    "tags": []
   },
   "outputs": [],
   "source": [
    "#def sample_by_year(df, training_size, random_state=42):\n",
    "#    if training_size == \"2014\":\n",
    "#        return df[df[\"year\"] == 2014].reset_index(drop=True)\n",
    "#    \n",
    "#    size_map = {\n",
    "#        \"25k\": 5000,\n",
    "#        \"5k\": 1000,\n",
    "#        \"1k\": 200\n",
    "#    }\n",
    "#\n",
    "#    if training_size not in size_map:\n",
    "#        return df.reset_index(drop=True)  # use all data\n",
    "#\n",
    "#    n_per_year = size_map[training_size]\n",
    "#    grouped = df.groupby(\"year\")\n",
    "#    sampled = grouped.apply(lambda x: x.sample(n=min(n_per_year, len(x)), random_state=random_state))\n",
    "#    return sampled.reset_index(drop=True)"
   ]
  },
  {
   "cell_type": "code",
   "execution_count": 25,
   "id": "6d931f52-beaf-43ff-9e78-9d44a448d54e",
   "metadata": {
    "execution": {
     "iopub.execute_input": "2025-07-30T14:01:21.079576Z",
     "iopub.status.busy": "2025-07-30T14:01:21.079175Z",
     "iopub.status.idle": "2025-07-30T14:01:21.084621Z",
     "shell.execute_reply": "2025-07-30T14:01:21.083535Z"
    },
    "papermill": {
     "duration": 0.031357,
     "end_time": "2025-07-30T14:01:21.087660",
     "exception": false,
     "start_time": "2025-07-30T14:01:21.056303",
     "status": "completed"
    },
    "tags": []
   },
   "outputs": [],
   "source": [
    "#siab_s = sample_by_year(siab, universe[\"training_size\"])"
   ]
  },
  {
   "cell_type": "code",
   "execution_count": 26,
   "id": "5db0a40e-a4e2-4920-be85-b12ae061d70d",
   "metadata": {
    "execution": {
     "iopub.execute_input": "2025-07-30T14:01:21.136404Z",
     "iopub.status.busy": "2025-07-30T14:01:21.135981Z",
     "iopub.status.idle": "2025-07-30T14:01:21.141253Z",
     "shell.execute_reply": "2025-07-30T14:01:21.140184Z"
    },
    "papermill": {
     "duration": 0.03451,
     "end_time": "2025-07-30T14:01:21.144298",
     "exception": false,
     "start_time": "2025-07-30T14:01:21.109788",
     "status": "completed"
    },
    "tags": []
   },
   "outputs": [],
   "source": [
    "#display(siab_s.groupby(\"year\").size())"
   ]
  },
  {
   "cell_type": "code",
   "execution_count": 27,
   "id": "e6c733c5",
   "metadata": {
    "execution": {
     "iopub.execute_input": "2025-07-30T14:01:21.234305Z",
     "iopub.status.busy": "2025-07-30T14:01:21.233908Z",
     "iopub.status.idle": "2025-07-30T14:01:21.389233Z",
     "shell.execute_reply": "2025-07-30T14:01:21.388003Z"
    },
    "papermill": {
     "duration": 0.191173,
     "end_time": "2025-07-30T14:01:21.391456",
     "exception": false,
     "start_time": "2025-07-30T14:01:21.200283",
     "status": "completed"
    },
    "tags": []
   },
   "outputs": [],
   "source": [
    "# Auxiliary data needed downstream in the pipeline\n",
    "\n",
    "org_train = X_train.copy()\n",
    "org_test = X_test.copy()\n",
    "org_calib = X_calib.copy()"
   ]
  },
  {
   "cell_type": "code",
   "execution_count": 28,
   "id": "1466abac-c6da-4492-a62f-4240ae3783af",
   "metadata": {
    "execution": {
     "iopub.execute_input": "2025-07-30T14:01:21.470553Z",
     "iopub.status.busy": "2025-07-30T14:01:21.470100Z",
     "iopub.status.idle": "2025-07-30T14:01:21.476090Z",
     "shell.execute_reply": "2025-07-30T14:01:21.474943Z"
    },
    "papermill": {
     "duration": 0.049833,
     "end_time": "2025-07-30T14:01:21.478475",
     "exception": false,
     "start_time": "2025-07-30T14:01:21.428642",
     "status": "completed"
    },
    "tags": []
   },
   "outputs": [],
   "source": [
    "# put in other script?\n",
    "# Group sizes\n",
    "\n",
    "#def calculate_percentages(df, df_name):\n",
    "#    total_entries = len(df)\n",
    "#\n",
    "#    female_pct = (df['frau1'] == 1).mean() * 100\n",
    "#    non_german_pct = ((df['maxdeutsch1'] == 0) & (df['maxdeutsch.Missing.'] == 0)).mean() * 100\n",
    "#    non_german_male_pct = ((df['frau1'] == 0) & (df['maxdeutsch1'] == 0) & (df['maxdeutsch.Missing.'] == 0)).mean() * 100\n",
    "#    non_german_female_pct = ((df['frau1'] == 1) & (df['maxdeutsch1'] == 0) & (df['maxdeutsch.Missing.'] == 0)).mean() * 100\n",
    "#\n",
    "#    print(f\"--- {df_name} ---\")\n",
    "#    print(f\"Female: {female_pct:.2f}%\")\n",
    "#    print(f\"Non-German: {non_german_pct:.2f}%\")\n",
    "#    print(f\"Non-German Male: {non_german_male_pct:.2f}%\")\n",
    "#    print(f\"Non-German Female: {non_german_female_pct:.2f}%\\n\")\n",
    "#\n",
    "## Calculate for each DataFrame\n",
    "#calculate_percentages(siab_calib, \"siab_calib\")\n",
    "#calculate_percentages(siab_test, \"siab_test\")\n",
    "#calculate_percentages(siab_train, \"siab_train\")"
   ]
  },
  {
   "cell_type": "markdown",
   "id": "0a4a1b33",
   "metadata": {
    "papermill": {
     "duration": 0.02039,
     "end_time": "2025-07-30T14:01:21.524707",
     "exception": false,
     "start_time": "2025-07-30T14:01:21.504317",
     "status": "completed"
    },
    "tags": []
   },
   "source": [
    "# Preprocessing Data"
   ]
  },
  {
   "cell_type": "code",
   "execution_count": 29,
   "id": "ca879031",
   "metadata": {
    "execution": {
     "iopub.execute_input": "2025-07-30T14:01:21.569519Z",
     "iopub.status.busy": "2025-07-30T14:01:21.568606Z",
     "iopub.status.idle": "2025-07-30T14:01:21.575833Z",
     "shell.execute_reply": "2025-07-30T14:01:21.574686Z"
    },
    "papermill": {
     "duration": 0.032471,
     "end_time": "2025-07-30T14:01:21.578097",
     "exception": false,
     "start_time": "2025-07-30T14:01:21.545626",
     "status": "completed"
    },
    "tags": []
   },
   "outputs": [],
   "source": [
    "# EXCLUDE PROTECTED FEATURES\n",
    "# ----------------------\n",
    "# \"exclude_features\": \"none\", # \"nationality\", \"sex\", \"nationality-sex\"\n",
    "\n",
    "excluded_features = universe[\"exclude_features\"].split(\"-\") # split, e.g.: \"nationality-sex\" -> [\"nationality\", \"sex\"]\n",
    "excluded_features_dictionary = {\n",
    "    \"nationality\": [\"maxdeutsch1\", \"maxdeutsch.Missing.\"],\n",
    "    \"sex\": [\"frau1\"],\n",
    "    \"age\": [\"age\"],\n",
    "}\n"
   ]
  },
  {
   "cell_type": "code",
   "execution_count": 30,
   "id": "b745ac60",
   "metadata": {
    "execution": {
     "iopub.execute_input": "2025-07-30T14:01:21.623461Z",
     "iopub.status.busy": "2025-07-30T14:01:21.623080Z",
     "iopub.status.idle": "2025-07-30T14:01:21.628737Z",
     "shell.execute_reply": "2025-07-30T14:01:21.627703Z"
    },
    "papermill": {
     "duration": 0.031026,
     "end_time": "2025-07-30T14:01:21.631443",
     "exception": false,
     "start_time": "2025-07-30T14:01:21.600417",
     "status": "completed"
    },
    "tags": []
   },
   "outputs": [],
   "source": [
    "# Code nice names to column names\n",
    "\n",
    "excluded_features_columns = [\n",
    "    excluded_features_dictionary[f] for f in excluded_features if len(f) > 0 and f != \"none\"\n",
    "]"
   ]
  },
  {
   "cell_type": "code",
   "execution_count": 31,
   "id": "f84f73a2",
   "metadata": {
    "execution": {
     "iopub.execute_input": "2025-07-30T14:01:21.676385Z",
     "iopub.status.busy": "2025-07-30T14:01:21.675948Z",
     "iopub.status.idle": "2025-07-30T14:01:21.682507Z",
     "shell.execute_reply": "2025-07-30T14:01:21.681538Z"
    },
    "papermill": {
     "duration": 0.031651,
     "end_time": "2025-07-30T14:01:21.685442",
     "exception": false,
     "start_time": "2025-07-30T14:01:21.653791",
     "status": "completed"
    },
    "tags": []
   },
   "outputs": [],
   "source": [
    "from utils import flatten_once\n",
    "\n",
    "excluded_features_columns = flatten_once(excluded_features_columns)"
   ]
  },
  {
   "cell_type": "code",
   "execution_count": 32,
   "id": "884dea22",
   "metadata": {
    "execution": {
     "iopub.execute_input": "2025-07-30T14:01:21.744605Z",
     "iopub.status.busy": "2025-07-30T14:01:21.744138Z",
     "iopub.status.idle": "2025-07-30T14:01:21.750597Z",
     "shell.execute_reply": "2025-07-30T14:01:21.749589Z"
    },
    "papermill": {
     "duration": 0.032763,
     "end_time": "2025-07-30T14:01:21.753495",
     "exception": false,
     "start_time": "2025-07-30T14:01:21.720732",
     "status": "completed"
    },
    "tags": []
   },
   "outputs": [],
   "source": [
    "if len(excluded_features_columns) > 0:\n",
    "    print(f\"Dropping features: {excluded_features_columns}\")\n",
    "    X_train.drop(excluded_features_columns, axis=1, inplace=True)"
   ]
  },
  {
   "cell_type": "code",
   "execution_count": 33,
   "id": "95ab8b16",
   "metadata": {
    "execution": {
     "iopub.execute_input": "2025-07-30T14:01:21.831628Z",
     "iopub.status.busy": "2025-07-30T14:01:21.831217Z",
     "iopub.status.idle": "2025-07-30T14:01:21.838013Z",
     "shell.execute_reply": "2025-07-30T14:01:21.837130Z"
    },
    "papermill": {
     "duration": 0.047901,
     "end_time": "2025-07-30T14:01:21.840478",
     "exception": false,
     "start_time": "2025-07-30T14:01:21.792577",
     "status": "completed"
    },
    "tags": []
   },
   "outputs": [],
   "source": [
    "if len(excluded_features_columns) > 0:\n",
    "    print(f\"Dropping features: {excluded_features_columns}\")\n",
    "    X_test.drop(excluded_features_columns, axis=1, inplace=True)"
   ]
  },
  {
   "cell_type": "code",
   "execution_count": 34,
   "id": "1853aaf5-fb9f-46cb-a2b5-8ea4ae2237e4",
   "metadata": {
    "execution": {
     "iopub.execute_input": "2025-07-30T14:01:21.934146Z",
     "iopub.status.busy": "2025-07-30T14:01:21.933650Z",
     "iopub.status.idle": "2025-07-30T14:01:21.939640Z",
     "shell.execute_reply": "2025-07-30T14:01:21.938640Z"
    },
    "papermill": {
     "duration": 0.048576,
     "end_time": "2025-07-30T14:01:21.942346",
     "exception": false,
     "start_time": "2025-07-30T14:01:21.893770",
     "status": "completed"
    },
    "tags": []
   },
   "outputs": [],
   "source": [
    "if len(excluded_features_columns) > 0:\n",
    "    print(f\"Dropping features: {excluded_features_columns}\")\n",
    "    X_calib.drop(excluded_features_columns, axis=1, inplace=True)"
   ]
  },
  {
   "cell_type": "code",
   "execution_count": 35,
   "id": "6727d079-03e5-481e-9d38-292a90b7a0a8",
   "metadata": {
    "execution": {
     "iopub.execute_input": "2025-07-30T14:01:22.030459Z",
     "iopub.status.busy": "2025-07-30T14:01:22.030069Z",
     "iopub.status.idle": "2025-07-30T14:01:22.036003Z",
     "shell.execute_reply": "2025-07-30T14:01:22.034923Z"
    },
    "papermill": {
     "duration": 0.057377,
     "end_time": "2025-07-30T14:01:22.037961",
     "exception": false,
     "start_time": "2025-07-30T14:01:21.980584",
     "status": "completed"
    },
    "tags": []
   },
   "outputs": [],
   "source": [
    "# SPLIT & STRATIFY DATA\n",
    "# ----------------------"
   ]
  },
  {
   "cell_type": "code",
   "execution_count": 36,
   "id": "76c4dc6d",
   "metadata": {
    "execution": {
     "iopub.execute_input": "2025-07-30T14:01:22.126097Z",
     "iopub.status.busy": "2025-07-30T14:01:22.125672Z",
     "iopub.status.idle": "2025-07-30T14:01:22.131473Z",
     "shell.execute_reply": "2025-07-30T14:01:22.130530Z"
    },
    "papermill": {
     "duration": 0.059141,
     "end_time": "2025-07-30T14:01:22.133507",
     "exception": false,
     "start_time": "2025-07-30T14:01:22.074366",
     "status": "completed"
    },
    "tags": []
   },
   "outputs": [],
   "source": [
    "# EXCLUDE CERTAIN SUBGROUPS\n",
    "# ----------------------\n",
    "\n",
    "mode = universe.get(\"exclude_subgroups\", \"keep-all\") \n",
    "# Fetches the exclude_subgroups setting from the universe dict.\n",
    "# Defaults to \"keep-all\" if the key is missing."
   ]
  },
  {
   "cell_type": "code",
   "execution_count": 37,
   "id": "21994072",
   "metadata": {
    "execution": {
     "iopub.execute_input": "2025-07-30T14:01:22.188437Z",
     "iopub.status.busy": "2025-07-30T14:01:22.188022Z",
     "iopub.status.idle": "2025-07-30T14:01:22.194997Z",
     "shell.execute_reply": "2025-07-30T14:01:22.193964Z"
    },
    "papermill": {
     "duration": 0.038881,
     "end_time": "2025-07-30T14:01:22.203832",
     "exception": false,
     "start_time": "2025-07-30T14:01:22.164951",
     "status": "completed"
    },
    "tags": []
   },
   "outputs": [],
   "source": [
    "if mode == \"keep-all\":\n",
    "    keep_mask = pd.Series(True, index=org_train.index)\n",
    "\n",
    "# org_train contains the original feature columns from features_org (in Simson)\n",
    "# features_org contains unprocessed features, for me X_train at beginning ???\n",
    "# For keep-all, creates a boolean Series (keep_mask) of all True, so no rows are removed.\n",
    "\n",
    "elif mode == \"drop-non-german\":\n",
    "    keep_mask = org_train[\"maxdeutsch1\"] == 1 # ??? what about missing values?\n",
    "\n",
    "else:\n",
    "    raise ValueError(f\"Unsupported mode for exclude_subgroups: {mode}\")\n"
   ]
  },
  {
   "cell_type": "code",
   "execution_count": 38,
   "id": "71651440",
   "metadata": {
    "execution": {
     "iopub.execute_input": "2025-07-30T14:01:22.250729Z",
     "iopub.status.busy": "2025-07-30T14:01:22.250347Z",
     "iopub.status.idle": "2025-07-30T14:01:22.258181Z",
     "shell.execute_reply": "2025-07-30T14:01:22.256992Z"
    },
    "papermill": {
     "duration": 0.036866,
     "end_time": "2025-07-30T14:01:22.263213",
     "exception": false,
     "start_time": "2025-07-30T14:01:22.226347",
     "status": "completed"
    },
    "tags": []
   },
   "outputs": [
    {
     "name": "stdout",
     "output_type": "stream",
     "text": [
      "Dropping 665 rows (13.30%) where mode='drop-non-german'\n"
     ]
    }
   ],
   "source": [
    "n_drop = (~keep_mask).sum() # Calculates how many rows are set to be dropped\n",
    "if n_drop > 0:\n",
    "    pct = n_drop / len(keep_mask) * 100\n",
    "    print(f\"Dropping {n_drop} rows ({pct:.2f}%) where mode='{mode}'\")"
   ]
  },
  {
   "cell_type": "code",
   "execution_count": 39,
   "id": "5fb8eee5",
   "metadata": {
    "execution": {
     "iopub.execute_input": "2025-07-30T14:01:22.314778Z",
     "iopub.status.busy": "2025-07-30T14:01:22.314396Z",
     "iopub.status.idle": "2025-07-30T14:01:22.322415Z",
     "shell.execute_reply": "2025-07-30T14:01:22.321221Z"
    },
    "papermill": {
     "duration": 0.035927,
     "end_time": "2025-07-30T14:01:22.325295",
     "exception": false,
     "start_time": "2025-07-30T14:01:22.289368",
     "status": "completed"
    },
    "tags": []
   },
   "outputs": [],
   "source": [
    "X_train = X_train[keep_mask]"
   ]
  },
  {
   "cell_type": "code",
   "execution_count": 40,
   "id": "b202bb3a",
   "metadata": {
    "execution": {
     "iopub.execute_input": "2025-07-30T14:01:22.372435Z",
     "iopub.status.busy": "2025-07-30T14:01:22.371976Z",
     "iopub.status.idle": "2025-07-30T14:01:22.378097Z",
     "shell.execute_reply": "2025-07-30T14:01:22.377052Z"
    },
    "papermill": {
     "duration": 0.032425,
     "end_time": "2025-07-30T14:01:22.381360",
     "exception": false,
     "start_time": "2025-07-30T14:01:22.348935",
     "status": "completed"
    },
    "tags": []
   },
   "outputs": [],
   "source": [
    "y_train = y_train[keep_mask]"
   ]
  },
  {
   "cell_type": "markdown",
   "id": "493e2ac3",
   "metadata": {
    "papermill": {
     "duration": 0.021959,
     "end_time": "2025-07-30T14:01:22.427523",
     "exception": false,
     "start_time": "2025-07-30T14:01:22.405564",
     "status": "completed"
    },
    "tags": []
   },
   "source": [
    "# Model Training"
   ]
  },
  {
   "cell_type": "code",
   "execution_count": 41,
   "id": "679e1268",
   "metadata": {
    "execution": {
     "iopub.execute_input": "2025-07-30T14:01:22.473353Z",
     "iopub.status.busy": "2025-07-30T14:01:22.472868Z",
     "iopub.status.idle": "2025-07-30T14:01:22.577093Z",
     "shell.execute_reply": "2025-07-30T14:01:22.576171Z"
    },
    "papermill": {
     "duration": 0.129683,
     "end_time": "2025-07-30T14:01:22.579020",
     "exception": false,
     "start_time": "2025-07-30T14:01:22.449337",
     "status": "completed"
    },
    "tags": []
   },
   "outputs": [],
   "source": [
    "from sklearn.linear_model import LogisticRegression\n",
    "from sklearn.ensemble import GradientBoostingClassifier, RandomForestClassifier\n",
    "\n",
    "if (universe[\"model\"] == \"logreg\"):\n",
    "    model = LogisticRegression() #penalty=\"none\") #, solver=\"newton-cg\", max_iter=1) # include random_state=19 ?\n",
    "elif (universe[\"model\"] == \"penalized_logreg\"):\n",
    "    model = LogisticRegression(penalty=\"l2\", C=1.0) #, solver=\"newton-cg\", max_iter=1)\n",
    "elif (universe[\"model\"] == \"rf\"):\n",
    "    model = RandomForestClassifier(n_estimators=100, n_jobs=-1)\n",
    "elif (universe[\"model\"] == \"gbm\"):\n",
    "    model = GradientBoostingClassifier()\n",
    "elif (universe[\"model\"] == \"elasticnet\"):\n",
    "    model = LogisticRegression(penalty = 'elasticnet', solver = 'saga', l1_ratio = 0.5, max_iter=5000) # which solver to use?\n",
    "else:\n",
    "    raise \"Unsupported universe.model\""
   ]
  },
  {
   "cell_type": "code",
   "execution_count": 42,
   "id": "0cc8f744",
   "metadata": {
    "execution": {
     "iopub.execute_input": "2025-07-30T14:01:22.630798Z",
     "iopub.status.busy": "2025-07-30T14:01:22.630290Z",
     "iopub.status.idle": "2025-07-30T14:01:22.636790Z",
     "shell.execute_reply": "2025-07-30T14:01:22.635816Z"
    },
    "papermill": {
     "duration": 0.036254,
     "end_time": "2025-07-30T14:01:22.638584",
     "exception": false,
     "start_time": "2025-07-30T14:01:22.602330",
     "status": "completed"
    },
    "tags": []
   },
   "outputs": [],
   "source": [
    "import numpy as np\n",
    "from sklearn.pipeline import Pipeline\n",
    "from sklearn.preprocessing import StandardScaler\n",
    "\n",
    "model = Pipeline([\n",
    "    #(\"continuous_processor\", continuous_processor),\n",
    "    #(\"categorical_preprocessor\", categorical_preprocessor),\n",
    "    (\"scale\", StandardScaler() if universe[\"scale\"] == \"scale\" else None), \n",
    "    (\"model\", model),\n",
    "])"
   ]
  },
  {
   "cell_type": "code",
   "execution_count": 43,
   "id": "9442c04d",
   "metadata": {
    "execution": {
     "iopub.execute_input": "2025-07-30T14:01:22.686967Z",
     "iopub.status.busy": "2025-07-30T14:01:22.686528Z",
     "iopub.status.idle": "2025-07-30T14:01:23.735168Z",
     "shell.execute_reply": "2025-07-30T14:01:23.734448Z"
    },
    "papermill": {
     "duration": 1.072594,
     "end_time": "2025-07-30T14:01:23.737427",
     "exception": false,
     "start_time": "2025-07-30T14:01:22.664833",
     "status": "completed"
    },
    "tags": []
   },
   "outputs": [
    {
     "data": {
      "text/html": [
       "<style>#sk-container-id-1 {color: black;background-color: white;}#sk-container-id-1 pre{padding: 0;}#sk-container-id-1 div.sk-toggleable {background-color: white;}#sk-container-id-1 label.sk-toggleable__label {cursor: pointer;display: block;width: 100%;margin-bottom: 0;padding: 0.3em;box-sizing: border-box;text-align: center;}#sk-container-id-1 label.sk-toggleable__label-arrow:before {content: \"▸\";float: left;margin-right: 0.25em;color: #696969;}#sk-container-id-1 label.sk-toggleable__label-arrow:hover:before {color: black;}#sk-container-id-1 div.sk-estimator:hover label.sk-toggleable__label-arrow:before {color: black;}#sk-container-id-1 div.sk-toggleable__content {max-height: 0;max-width: 0;overflow: hidden;text-align: left;background-color: #f0f8ff;}#sk-container-id-1 div.sk-toggleable__content pre {margin: 0.2em;color: black;border-radius: 0.25em;background-color: #f0f8ff;}#sk-container-id-1 input.sk-toggleable__control:checked~div.sk-toggleable__content {max-height: 200px;max-width: 100%;overflow: auto;}#sk-container-id-1 input.sk-toggleable__control:checked~label.sk-toggleable__label-arrow:before {content: \"▾\";}#sk-container-id-1 div.sk-estimator input.sk-toggleable__control:checked~label.sk-toggleable__label {background-color: #d4ebff;}#sk-container-id-1 div.sk-label input.sk-toggleable__control:checked~label.sk-toggleable__label {background-color: #d4ebff;}#sk-container-id-1 input.sk-hidden--visually {border: 0;clip: rect(1px 1px 1px 1px);clip: rect(1px, 1px, 1px, 1px);height: 1px;margin: -1px;overflow: hidden;padding: 0;position: absolute;width: 1px;}#sk-container-id-1 div.sk-estimator {font-family: monospace;background-color: #f0f8ff;border: 1px dotted black;border-radius: 0.25em;box-sizing: border-box;margin-bottom: 0.5em;}#sk-container-id-1 div.sk-estimator:hover {background-color: #d4ebff;}#sk-container-id-1 div.sk-parallel-item::after {content: \"\";width: 100%;border-bottom: 1px solid gray;flex-grow: 1;}#sk-container-id-1 div.sk-label:hover label.sk-toggleable__label {background-color: #d4ebff;}#sk-container-id-1 div.sk-serial::before {content: \"\";position: absolute;border-left: 1px solid gray;box-sizing: border-box;top: 0;bottom: 0;left: 50%;z-index: 0;}#sk-container-id-1 div.sk-serial {display: flex;flex-direction: column;align-items: center;background-color: white;padding-right: 0.2em;padding-left: 0.2em;position: relative;}#sk-container-id-1 div.sk-item {position: relative;z-index: 1;}#sk-container-id-1 div.sk-parallel {display: flex;align-items: stretch;justify-content: center;background-color: white;position: relative;}#sk-container-id-1 div.sk-item::before, #sk-container-id-1 div.sk-parallel-item::before {content: \"\";position: absolute;border-left: 1px solid gray;box-sizing: border-box;top: 0;bottom: 0;left: 50%;z-index: -1;}#sk-container-id-1 div.sk-parallel-item {display: flex;flex-direction: column;z-index: 1;position: relative;background-color: white;}#sk-container-id-1 div.sk-parallel-item:first-child::after {align-self: flex-end;width: 50%;}#sk-container-id-1 div.sk-parallel-item:last-child::after {align-self: flex-start;width: 50%;}#sk-container-id-1 div.sk-parallel-item:only-child::after {width: 0;}#sk-container-id-1 div.sk-dashed-wrapped {border: 1px dashed gray;margin: 0 0.4em 0.5em 0.4em;box-sizing: border-box;padding-bottom: 0.4em;background-color: white;}#sk-container-id-1 div.sk-label label {font-family: monospace;font-weight: bold;display: inline-block;line-height: 1.2em;}#sk-container-id-1 div.sk-label-container {text-align: center;}#sk-container-id-1 div.sk-container {/* jupyter's `normalize.less` sets `[hidden] { display: none; }` but bootstrap.min.css set `[hidden] { display: none !important; }` so we also need the `!important` here to be able to override the default hidden behavior on the sphinx rendered scikit-learn.org. See: https://github.com/scikit-learn/scikit-learn/issues/21755 */display: inline-block !important;position: relative;}#sk-container-id-1 div.sk-text-repr-fallback {display: none;}</style><div id=\"sk-container-id-1\" class=\"sk-top-container\"><div class=\"sk-text-repr-fallback\"><pre>Pipeline(steps=[(&#x27;scale&#x27;, None), (&#x27;model&#x27;, RandomForestClassifier(n_jobs=-1))])</pre><b>In a Jupyter environment, please rerun this cell to show the HTML representation or trust the notebook. <br />On GitHub, the HTML representation is unable to render, please try loading this page with nbviewer.org.</b></div><div class=\"sk-container\" hidden><div class=\"sk-item sk-dashed-wrapped\"><div class=\"sk-label-container\"><div class=\"sk-label sk-toggleable\"><input class=\"sk-toggleable__control sk-hidden--visually\" id=\"sk-estimator-id-1\" type=\"checkbox\" ><label for=\"sk-estimator-id-1\" class=\"sk-toggleable__label sk-toggleable__label-arrow\">Pipeline</label><div class=\"sk-toggleable__content\"><pre>Pipeline(steps=[(&#x27;scale&#x27;, None), (&#x27;model&#x27;, RandomForestClassifier(n_jobs=-1))])</pre></div></div></div><div class=\"sk-serial\"><div class=\"sk-item\"><div class=\"sk-estimator sk-toggleable\"><input class=\"sk-toggleable__control sk-hidden--visually\" id=\"sk-estimator-id-2\" type=\"checkbox\" ><label for=\"sk-estimator-id-2\" class=\"sk-toggleable__label sk-toggleable__label-arrow\">None</label><div class=\"sk-toggleable__content\"><pre>None</pre></div></div></div><div class=\"sk-item\"><div class=\"sk-estimator sk-toggleable\"><input class=\"sk-toggleable__control sk-hidden--visually\" id=\"sk-estimator-id-3\" type=\"checkbox\" ><label for=\"sk-estimator-id-3\" class=\"sk-toggleable__label sk-toggleable__label-arrow\">RandomForestClassifier</label><div class=\"sk-toggleable__content\"><pre>RandomForestClassifier(n_jobs=-1)</pre></div></div></div></div></div></div></div>"
      ],
      "text/plain": [
       "Pipeline(steps=[('scale', None), ('model', RandomForestClassifier(n_jobs=-1))])"
      ]
     },
     "execution_count": 43,
     "metadata": {},
     "output_type": "execute_result"
    }
   ],
   "source": [
    "model.fit(X_train, y_train.values.ravel())"
   ]
  },
  {
   "cell_type": "code",
   "execution_count": 44,
   "id": "af59f8c0",
   "metadata": {
    "execution": {
     "iopub.execute_input": "2025-07-30T14:01:23.797195Z",
     "iopub.status.busy": "2025-07-30T14:01:23.796453Z",
     "iopub.status.idle": "2025-07-30T14:01:23.802380Z",
     "shell.execute_reply": "2025-07-30T14:01:23.801270Z"
    },
    "papermill": {
     "duration": 0.038309,
     "end_time": "2025-07-30T14:01:23.804621",
     "exception": false,
     "start_time": "2025-07-30T14:01:23.766312",
     "status": "completed"
    },
    "tags": []
   },
   "outputs": [],
   "source": [
    "from fairness_multiverse.universe import predict_w_threshold"
   ]
  },
  {
   "cell_type": "code",
   "execution_count": 45,
   "id": "a7cf2e16",
   "metadata": {
    "execution": {
     "iopub.execute_input": "2025-07-30T14:01:23.874120Z",
     "iopub.status.busy": "2025-07-30T14:01:23.873689Z",
     "iopub.status.idle": "2025-07-30T14:01:24.921766Z",
     "shell.execute_reply": "2025-07-30T14:01:24.921022Z"
    },
    "papermill": {
     "duration": 1.089786,
     "end_time": "2025-07-30T14:01:24.923313",
     "exception": false,
     "start_time": "2025-07-30T14:01:23.833527",
     "status": "completed"
    },
    "tags": []
   },
   "outputs": [
    {
     "data": {
      "text/plain": [
       "0.8635826552223832"
      ]
     },
     "execution_count": 45,
     "metadata": {},
     "output_type": "execute_result"
    }
   ],
   "source": [
    "probs_test = model.predict_proba(X_test)\n",
    "\n",
    "'''\n",
    "Below code returns a boolean array (or binary 0/1 array depending on how it’s used) where each element \n",
    "is True if the probability of class 1 is greater than or equal to the threshold, and False otherwise.\n",
    "'''\n",
    "y_pred_default = predict_w_threshold(probs_test, 0.5)\n",
    "\n",
    "from sklearn.metrics import accuracy_score\n",
    "\n",
    "# Naive prediction\n",
    "accuracy_score(y_true = y_true, y_pred = y_pred_default)"
   ]
  },
  {
   "cell_type": "code",
   "execution_count": 46,
   "id": "081964c3",
   "metadata": {
    "execution": {
     "iopub.execute_input": "2025-07-30T14:01:24.965788Z",
     "iopub.status.busy": "2025-07-30T14:01:24.965259Z",
     "iopub.status.idle": "2025-07-30T14:01:25.719086Z",
     "shell.execute_reply": "2025-07-30T14:01:25.718174Z"
    },
    "papermill": {
     "duration": 0.78152,
     "end_time": "2025-07-30T14:01:25.720798",
     "exception": false,
     "start_time": "2025-07-30T14:01:24.939278",
     "status": "completed"
    },
    "tags": []
   },
   "outputs": [
    {
     "data": {
      "text/plain": [
       "array([0, 0, 0, ..., 0, 0, 0])"
      ]
     },
     "execution_count": 46,
     "metadata": {},
     "output_type": "execute_result"
    }
   ],
   "source": [
    "model.predict(X_test)"
   ]
  },
  {
   "cell_type": "markdown",
   "id": "56c9705b",
   "metadata": {
    "papermill": {
     "duration": 0.02386,
     "end_time": "2025-07-30T14:01:25.767720",
     "exception": false,
     "start_time": "2025-07-30T14:01:25.743860",
     "status": "completed"
    },
    "tags": []
   },
   "source": [
    "# Conformal Prediction"
   ]
  },
  {
   "cell_type": "code",
   "execution_count": 47,
   "id": "160ec6ff",
   "metadata": {
    "execution": {
     "iopub.execute_input": "2025-07-30T14:01:25.814634Z",
     "iopub.status.busy": "2025-07-30T14:01:25.814138Z",
     "iopub.status.idle": "2025-07-30T14:01:25.819079Z",
     "shell.execute_reply": "2025-07-30T14:01:25.818368Z"
    },
    "papermill": {
     "duration": 0.030266,
     "end_time": "2025-07-30T14:01:25.820507",
     "exception": false,
     "start_time": "2025-07-30T14:01:25.790241",
     "status": "completed"
    },
    "tags": []
   },
   "outputs": [],
   "source": [
    "# Miscoverage level for conformal prediction (10% allowed error rate => 90% target coverage)\n",
    "alpha = 0.1"
   ]
  },
  {
   "cell_type": "code",
   "execution_count": 48,
   "id": "eadf4555-3dd3-440e-8e35-f82a4ad9f855",
   "metadata": {
    "execution": {
     "iopub.execute_input": "2025-07-30T14:01:25.868747Z",
     "iopub.status.busy": "2025-07-30T14:01:25.868274Z",
     "iopub.status.idle": "2025-07-30T14:01:26.563475Z",
     "shell.execute_reply": "2025-07-30T14:01:26.562488Z"
    },
    "papermill": {
     "duration": 0.722509,
     "end_time": "2025-07-30T14:01:26.565520",
     "exception": false,
     "start_time": "2025-07-30T14:01:25.843011",
     "status": "completed"
    },
    "tags": []
   },
   "outputs": [],
   "source": [
    "probs_calib = model.predict_proba(X_calib)"
   ]
  },
  {
   "cell_type": "code",
   "execution_count": 49,
   "id": "2ed93547-6d5d-4983-9b36-1ecb300da49a",
   "metadata": {
    "execution": {
     "iopub.execute_input": "2025-07-30T14:01:26.615883Z",
     "iopub.status.busy": "2025-07-30T14:01:26.614967Z",
     "iopub.status.idle": "2025-07-30T14:01:26.621371Z",
     "shell.execute_reply": "2025-07-30T14:01:26.620364Z"
    },
    "papermill": {
     "duration": 0.032665,
     "end_time": "2025-07-30T14:01:26.623159",
     "exception": false,
     "start_time": "2025-07-30T14:01:26.590494",
     "status": "completed"
    },
    "tags": []
   },
   "outputs": [],
   "source": [
    "y_calib = y_calib.values.ravel().astype(int)"
   ]
  },
  {
   "cell_type": "code",
   "execution_count": 50,
   "id": "65d1320d-f588-4b38-9072-62af1ae97f7d",
   "metadata": {
    "execution": {
     "iopub.execute_input": "2025-07-30T14:01:26.677618Z",
     "iopub.status.busy": "2025-07-30T14:01:26.676759Z",
     "iopub.status.idle": "2025-07-30T14:01:26.686172Z",
     "shell.execute_reply": "2025-07-30T14:01:26.685033Z"
    },
    "papermill": {
     "duration": 0.037767,
     "end_time": "2025-07-30T14:01:26.688102",
     "exception": false,
     "start_time": "2025-07-30T14:01:26.650335",
     "status": "completed"
    },
    "tags": []
   },
   "outputs": [],
   "source": [
    "from fairness_multiverse.conformal import compute_nc_scores\n",
    "\n",
    "# Compute nonconformity scores on calibration set (1 - probability of true class)\n",
    "nc_scores = compute_nc_scores(probs_calib, y_calib)"
   ]
  },
  {
   "cell_type": "code",
   "execution_count": 51,
   "id": "df3b8ca3-53b7-43d5-9667-7c85da7aeda2",
   "metadata": {
    "execution": {
     "iopub.execute_input": "2025-07-30T14:01:26.740663Z",
     "iopub.status.busy": "2025-07-30T14:01:26.740138Z",
     "iopub.status.idle": "2025-07-30T14:01:26.747283Z",
     "shell.execute_reply": "2025-07-30T14:01:26.746317Z"
    },
    "papermill": {
     "duration": 0.036014,
     "end_time": "2025-07-30T14:01:26.749098",
     "exception": false,
     "start_time": "2025-07-30T14:01:26.713084",
     "status": "completed"
    },
    "tags": []
   },
   "outputs": [],
   "source": [
    "from fairness_multiverse.conformal import find_threshold\n",
    "\n",
    "# Find conformal threshold q_hat for the given alpha (split conformal method)\n",
    "q_hat = find_threshold(nc_scores, alpha)"
   ]
  },
  {
   "cell_type": "code",
   "execution_count": 52,
   "id": "4d29e6c1-0ef6-4aa4-b8fe-4fe79b0d033a",
   "metadata": {
    "execution": {
     "iopub.execute_input": "2025-07-30T14:01:26.801281Z",
     "iopub.status.busy": "2025-07-30T14:01:26.800770Z",
     "iopub.status.idle": "2025-07-30T14:01:26.808503Z",
     "shell.execute_reply": "2025-07-30T14:01:26.807408Z"
    },
    "papermill": {
     "duration": 0.035005,
     "end_time": "2025-07-30T14:01:26.810153",
     "exception": false,
     "start_time": "2025-07-30T14:01:26.775148",
     "status": "completed"
    },
    "tags": []
   },
   "outputs": [
    {
     "data": {
      "text/plain": [
       "0.6799999999999999"
      ]
     },
     "execution_count": 52,
     "metadata": {},
     "output_type": "execute_result"
    }
   ],
   "source": [
    "q_hat"
   ]
  },
  {
   "cell_type": "code",
   "execution_count": 53,
   "id": "92460794-cdac-4be2-ba28-f28c0515a6fb",
   "metadata": {
    "execution": {
     "iopub.execute_input": "2025-07-30T14:01:26.862574Z",
     "iopub.status.busy": "2025-07-30T14:01:26.861739Z",
     "iopub.status.idle": "2025-07-30T14:01:28.255163Z",
     "shell.execute_reply": "2025-07-30T14:01:28.254215Z"
    },
    "papermill": {
     "duration": 1.420218,
     "end_time": "2025-07-30T14:01:28.257078",
     "exception": false,
     "start_time": "2025-07-30T14:01:26.836860",
     "status": "completed"
    },
    "tags": []
   },
   "outputs": [],
   "source": [
    "from fairness_multiverse.conformal import predict_conformal_sets\n",
    "\n",
    "# Generate prediction sets for each test example\n",
    "pred_sets = predict_conformal_sets(model, X_test, q_hat)"
   ]
  },
  {
   "cell_type": "code",
   "execution_count": 54,
   "id": "d90c9a65-e6db-4f5d-80cd-e68fb7e46829",
   "metadata": {
    "execution": {
     "iopub.execute_input": "2025-07-30T14:01:28.311478Z",
     "iopub.status.busy": "2025-07-30T14:01:28.310568Z",
     "iopub.status.idle": "2025-07-30T14:01:28.316349Z",
     "shell.execute_reply": "2025-07-30T14:01:28.315315Z"
    },
    "papermill": {
     "duration": 0.033111,
     "end_time": "2025-07-30T14:01:28.318095",
     "exception": false,
     "start_time": "2025-07-30T14:01:28.284984",
     "status": "completed"
    },
    "tags": []
   },
   "outputs": [],
   "source": [
    "y_true = y_true.squeeze()"
   ]
  },
  {
   "cell_type": "code",
   "execution_count": 55,
   "id": "3a58a54a-1e68-46b9-927a-df01f18aebc8",
   "metadata": {
    "execution": {
     "iopub.execute_input": "2025-07-30T14:01:28.367440Z",
     "iopub.status.busy": "2025-07-30T14:01:28.366643Z",
     "iopub.status.idle": "2025-07-30T14:01:29.350052Z",
     "shell.execute_reply": "2025-07-30T14:01:29.349212Z"
    },
    "papermill": {
     "duration": 1.009515,
     "end_time": "2025-07-30T14:01:29.351968",
     "exception": false,
     "start_time": "2025-07-30T14:01:28.342453",
     "status": "completed"
    },
    "tags": []
   },
   "outputs": [],
   "source": [
    "from fairness_multiverse.conformal import evaluate_sets\n",
    "\n",
    "# Evaluate coverage and average set size on test data\n",
    "metrics = evaluate_sets(pred_sets, y_true)"
   ]
  },
  {
   "cell_type": "markdown",
   "id": "2b569c12-9aaa-4c88-98c9-bbcd0cf3ebb8",
   "metadata": {
    "papermill": {
     "duration": 0.024443,
     "end_time": "2025-07-30T14:01:29.400180",
     "exception": false,
     "start_time": "2025-07-30T14:01:29.375737",
     "status": "completed"
    },
    "tags": []
   },
   "source": [
    "# CP Metrics"
   ]
  },
  {
   "cell_type": "code",
   "execution_count": 56,
   "id": "5ce0a5cb-201f-45a0-ade5-94c7f0bd6095",
   "metadata": {
    "execution": {
     "iopub.execute_input": "2025-07-30T14:01:29.446416Z",
     "iopub.status.busy": "2025-07-30T14:01:29.446067Z",
     "iopub.status.idle": "2025-07-30T14:01:29.452531Z",
     "shell.execute_reply": "2025-07-30T14:01:29.451419Z"
    },
    "papermill": {
     "duration": 0.031792,
     "end_time": "2025-07-30T14:01:29.454352",
     "exception": false,
     "start_time": "2025-07-30T14:01:29.422560",
     "status": "completed"
    },
    "tags": []
   },
   "outputs": [
    {
     "data": {
      "text/plain": [
       "{'coverage': 0.9133764351800245, 'avg_size': 1.1469512874818861}"
      ]
     },
     "execution_count": 56,
     "metadata": {},
     "output_type": "execute_result"
    }
   ],
   "source": [
    "metrics"
   ]
  },
  {
   "cell_type": "code",
   "execution_count": 57,
   "id": "9b9a838d-31c9-430b-ae14-12baee460d17",
   "metadata": {
    "execution": {
     "iopub.execute_input": "2025-07-30T14:01:29.508819Z",
     "iopub.status.busy": "2025-07-30T14:01:29.508131Z",
     "iopub.status.idle": "2025-07-30T14:01:29.513427Z",
     "shell.execute_reply": "2025-07-30T14:01:29.512489Z"
    },
    "papermill": {
     "duration": 0.033594,
     "end_time": "2025-07-30T14:01:29.515073",
     "exception": false,
     "start_time": "2025-07-30T14:01:29.481479",
     "status": "completed"
    },
    "tags": []
   },
   "outputs": [],
   "source": [
    "example_universe = universe.copy()\n",
    "universe_training_size = example_universe.get(\"training_size\")\n",
    "universe_scale = example_universe.get(\"scale\")\n",
    "universe_model = example_universe.get(\"model\")\n",
    "universe_exclude_features = example_universe.get(\"exclude_features\")\n",
    "universe_exclude_subgroups = example_universe.get(\"exclude_subgroups\")"
   ]
  },
  {
   "cell_type": "code",
   "execution_count": 58,
   "id": "f4b6a8ac-9dc0-4245-8a91-5b3b5999c4f9",
   "metadata": {
    "execution": {
     "iopub.execute_input": "2025-07-30T14:01:29.565820Z",
     "iopub.status.busy": "2025-07-30T14:01:29.564941Z",
     "iopub.status.idle": "2025-07-30T14:01:29.572699Z",
     "shell.execute_reply": "2025-07-30T14:01:29.571659Z"
    },
    "papermill": {
     "duration": 0.034428,
     "end_time": "2025-07-30T14:01:29.574211",
     "exception": false,
     "start_time": "2025-07-30T14:01:29.539783",
     "status": "completed"
    },
    "tags": []
   },
   "outputs": [],
   "source": [
    "cp_metrics_dict = {\n",
    "    \"universe_id\": [universe_id],\n",
    "    \"universe_training_size\": [universe_training_size],\n",
    "    \"universe_scale\": [universe_scale],\n",
    "    \"universe_model\": [universe_model],\n",
    "    \"universe_exclude_features\": [universe_exclude_features],\n",
    "    \"universe_exclude_subgroups\": [universe_exclude_subgroups],\n",
    "    \"q_hat\": [q_hat],\n",
    "    \"coverage\": [metrics[\"coverage\"]],\n",
    "    \"avg_size\": [metrics[\"avg_size\"]],\n",
    "}"
   ]
  },
  {
   "cell_type": "code",
   "execution_count": 59,
   "id": "908acbb1-0371-4915-85ca-3fa520d2efe2",
   "metadata": {
    "execution": {
     "iopub.execute_input": "2025-07-30T14:01:29.624493Z",
     "iopub.status.busy": "2025-07-30T14:01:29.623710Z",
     "iopub.status.idle": "2025-07-30T14:01:29.630894Z",
     "shell.execute_reply": "2025-07-30T14:01:29.630198Z"
    },
    "papermill": {
     "duration": 0.033713,
     "end_time": "2025-07-30T14:01:29.632241",
     "exception": false,
     "start_time": "2025-07-30T14:01:29.598528",
     "status": "completed"
    },
    "tags": []
   },
   "outputs": [
    {
     "data": {
      "text/plain": [
       "{'universe_id': ['c2bb59cfada70f73cca271f17d37baa8'],\n",
       " 'universe_training_size': ['5k'],\n",
       " 'universe_scale': ['do-not-scale'],\n",
       " 'universe_model': ['rf'],\n",
       " 'universe_exclude_features': ['none'],\n",
       " 'universe_exclude_subgroups': ['drop-non-german'],\n",
       " 'q_hat': [0.6799999999999999],\n",
       " 'coverage': [0.9133764351800245],\n",
       " 'avg_size': [1.1469512874818861]}"
      ]
     },
     "execution_count": 59,
     "metadata": {},
     "output_type": "execute_result"
    }
   ],
   "source": [
    "cp_metrics_dict"
   ]
  },
  {
   "cell_type": "code",
   "execution_count": 60,
   "id": "33007efc-14e9-4ec6-97ac-56a455c82265",
   "metadata": {
    "execution": {
     "iopub.execute_input": "2025-07-30T14:01:29.660069Z",
     "iopub.status.busy": "2025-07-30T14:01:29.659443Z",
     "iopub.status.idle": "2025-07-30T14:01:29.668208Z",
     "shell.execute_reply": "2025-07-30T14:01:29.667031Z"
    },
    "papermill": {
     "duration": 0.023922,
     "end_time": "2025-07-30T14:01:29.670003",
     "exception": false,
     "start_time": "2025-07-30T14:01:29.646081",
     "status": "completed"
    },
    "tags": []
   },
   "outputs": [],
   "source": [
    "cp_metrics_df = pd.DataFrame(cp_metrics_dict)"
   ]
  },
  {
   "cell_type": "code",
   "execution_count": 61,
   "id": "db12611b-57b2-4910-b9d0-355adfd6e7bf",
   "metadata": {
    "execution": {
     "iopub.execute_input": "2025-07-30T14:01:29.724006Z",
     "iopub.status.busy": "2025-07-30T14:01:29.723564Z",
     "iopub.status.idle": "2025-07-30T14:01:29.741115Z",
     "shell.execute_reply": "2025-07-30T14:01:29.739958Z"
    },
    "papermill": {
     "duration": 0.046181,
     "end_time": "2025-07-30T14:01:29.742752",
     "exception": false,
     "start_time": "2025-07-30T14:01:29.696571",
     "status": "completed"
    },
    "tags": []
   },
   "outputs": [
    {
     "data": {
      "text/html": [
       "<div>\n",
       "<style scoped>\n",
       "    .dataframe tbody tr th:only-of-type {\n",
       "        vertical-align: middle;\n",
       "    }\n",
       "\n",
       "    .dataframe tbody tr th {\n",
       "        vertical-align: top;\n",
       "    }\n",
       "\n",
       "    .dataframe thead th {\n",
       "        text-align: right;\n",
       "    }\n",
       "</style>\n",
       "<table border=\"1\" class=\"dataframe\">\n",
       "  <thead>\n",
       "    <tr style=\"text-align: right;\">\n",
       "      <th></th>\n",
       "      <th>universe_id</th>\n",
       "      <th>universe_training_size</th>\n",
       "      <th>universe_scale</th>\n",
       "      <th>universe_model</th>\n",
       "      <th>universe_exclude_features</th>\n",
       "      <th>universe_exclude_subgroups</th>\n",
       "      <th>q_hat</th>\n",
       "      <th>coverage</th>\n",
       "      <th>avg_size</th>\n",
       "    </tr>\n",
       "  </thead>\n",
       "  <tbody>\n",
       "    <tr>\n",
       "      <th>0</th>\n",
       "      <td>c2bb59cfada70f73cca271f17d37baa8</td>\n",
       "      <td>5k</td>\n",
       "      <td>do-not-scale</td>\n",
       "      <td>rf</td>\n",
       "      <td>none</td>\n",
       "      <td>drop-non-german</td>\n",
       "      <td>0.68</td>\n",
       "      <td>0.913376</td>\n",
       "      <td>1.146951</td>\n",
       "    </tr>\n",
       "  </tbody>\n",
       "</table>\n",
       "</div>"
      ],
      "text/plain": [
       "                        universe_id universe_training_size universe_scale  \\\n",
       "0  c2bb59cfada70f73cca271f17d37baa8                     5k   do-not-scale   \n",
       "\n",
       "  universe_model universe_exclude_features universe_exclude_subgroups  q_hat  \\\n",
       "0             rf                      none            drop-non-german   0.68   \n",
       "\n",
       "   coverage  avg_size  \n",
       "0  0.913376  1.146951  "
      ]
     },
     "execution_count": 61,
     "metadata": {},
     "output_type": "execute_result"
    }
   ],
   "source": [
    "cp_metrics_df"
   ]
  },
  {
   "cell_type": "code",
   "execution_count": 62,
   "id": "b7fbde55-a0a1-47e4-9af6-fe4a17fa8c61",
   "metadata": {
    "execution": {
     "iopub.execute_input": "2025-07-30T14:01:29.778411Z",
     "iopub.status.busy": "2025-07-30T14:01:29.778038Z",
     "iopub.status.idle": "2025-07-30T14:01:29.782517Z",
     "shell.execute_reply": "2025-07-30T14:01:29.781747Z"
    },
    "papermill": {
     "duration": 0.020116,
     "end_time": "2025-07-30T14:01:29.783977",
     "exception": false,
     "start_time": "2025-07-30T14:01:29.763861",
     "status": "completed"
    },
    "tags": []
   },
   "outputs": [],
   "source": [
    "# Conditional Coverage & looking at subgroups"
   ]
  },
  {
   "cell_type": "code",
   "execution_count": 63,
   "id": "027ae886-68dd-4141-96c7-805a5450e1ef",
   "metadata": {
    "execution": {
     "iopub.execute_input": "2025-07-30T14:01:29.839524Z",
     "iopub.status.busy": "2025-07-30T14:01:29.838759Z",
     "iopub.status.idle": "2025-07-30T14:01:30.108467Z",
     "shell.execute_reply": "2025-07-30T14:01:30.107545Z"
    },
    "papermill": {
     "duration": 0.299761,
     "end_time": "2025-07-30T14:01:30.110375",
     "exception": false,
     "start_time": "2025-07-30T14:01:29.810614",
     "status": "completed"
    },
    "tags": []
   },
   "outputs": [],
   "source": [
    "from fairness_multiverse.conformal import build_cp_groups\n",
    "\n",
    "cp_groups_df = build_cp_groups(pred_sets, y_true, X_test.index, org_test)\n",
    "#needs universe_id and setting"
   ]
  },
  {
   "cell_type": "code",
   "execution_count": 64,
   "id": "01d5802c-663a-4d1f-9d69-e036faaffbf7",
   "metadata": {
    "execution": {
     "iopub.execute_input": "2025-07-30T14:01:30.181223Z",
     "iopub.status.busy": "2025-07-30T14:01:30.180445Z",
     "iopub.status.idle": "2025-07-30T14:01:30.185355Z",
     "shell.execute_reply": "2025-07-30T14:01:30.184405Z"
    },
    "papermill": {
     "duration": 0.034048,
     "end_time": "2025-07-30T14:01:30.187111",
     "exception": false,
     "start_time": "2025-07-30T14:01:30.153063",
     "status": "completed"
    },
    "tags": []
   },
   "outputs": [],
   "source": [
    "#delete\n",
    "#cp_groups_df"
   ]
  },
  {
   "cell_type": "code",
   "execution_count": 65,
   "id": "fa424af1-d1eb-443d-b717-2d279ada8408",
   "metadata": {
    "execution": {
     "iopub.execute_input": "2025-07-30T14:01:30.240759Z",
     "iopub.status.busy": "2025-07-30T14:01:30.240109Z",
     "iopub.status.idle": "2025-07-30T14:01:30.245415Z",
     "shell.execute_reply": "2025-07-30T14:01:30.244443Z"
    },
    "papermill": {
     "duration": 0.033516,
     "end_time": "2025-07-30T14:01:30.247034",
     "exception": false,
     "start_time": "2025-07-30T14:01:30.213518",
     "status": "completed"
    },
    "tags": []
   },
   "outputs": [],
   "source": [
    "#delete\n",
    "#percentage = (cp_groups_df['nongerman_female'] == 1).mean() * 100\n",
    "#print(percentage)\n"
   ]
  },
  {
   "cell_type": "code",
   "execution_count": 66,
   "id": "6cbdab96-b2b2-45af-ad54-d0516db2e28d",
   "metadata": {
    "execution": {
     "iopub.execute_input": "2025-07-30T14:01:30.300790Z",
     "iopub.status.busy": "2025-07-30T14:01:30.300119Z",
     "iopub.status.idle": "2025-07-30T14:01:31.485818Z",
     "shell.execute_reply": "2025-07-30T14:01:31.485070Z"
    },
    "papermill": {
     "duration": 1.212998,
     "end_time": "2025-07-30T14:01:31.487188",
     "exception": false,
     "start_time": "2025-07-30T14:01:30.274190",
     "status": "completed"
    },
    "tags": []
   },
   "outputs": [],
   "source": [
    "# Define covered = 1 if true_label is in the predicted set\n",
    "cp_groups_df['covered'] = cp_groups_df.apply(\n",
    "    lambda r: int(r['true_label'] in r['pred_set']),\n",
    "    axis=1\n",
    ")"
   ]
  },
  {
   "cell_type": "code",
   "execution_count": 67,
   "id": "338ff529-1a6b-4b87-a931-8e4788d52aad",
   "metadata": {
    "execution": {
     "iopub.execute_input": "2025-07-30T14:01:31.516868Z",
     "iopub.status.busy": "2025-07-30T14:01:31.516374Z",
     "iopub.status.idle": "2025-07-30T14:01:31.521320Z",
     "shell.execute_reply": "2025-07-30T14:01:31.520207Z"
    },
    "papermill": {
     "duration": 0.021598,
     "end_time": "2025-07-30T14:01:31.523300",
     "exception": false,
     "start_time": "2025-07-30T14:01:31.501702",
     "status": "completed"
    },
    "tags": []
   },
   "outputs": [],
   "source": [
    "#cp_groups_df"
   ]
  },
  {
   "cell_type": "code",
   "execution_count": 68,
   "id": "90032e27-66df-4540-9169-4e89cfbaa758",
   "metadata": {
    "execution": {
     "iopub.execute_input": "2025-07-30T14:01:31.580585Z",
     "iopub.status.busy": "2025-07-30T14:01:31.579866Z",
     "iopub.status.idle": "2025-07-30T14:01:31.592217Z",
     "shell.execute_reply": "2025-07-30T14:01:31.591161Z"
    },
    "papermill": {
     "duration": 0.042749,
     "end_time": "2025-07-30T14:01:31.594175",
     "exception": false,
     "start_time": "2025-07-30T14:01:31.551426",
     "status": "completed"
    },
    "tags": []
   },
   "outputs": [],
   "source": [
    "subgroups = ['frau1','nongerman','nongerman_male','nongerman_female']\n",
    "\n",
    "# Conditional coverage for subgroup==1\n",
    "cond_coverage = {\n",
    "    g: cp_groups_df.loc[cp_groups_df[g]==1, 'covered'].mean()\n",
    "    for g in subgroups\n",
    "}"
   ]
  },
  {
   "cell_type": "code",
   "execution_count": 69,
   "id": "1e348fb1-b9c3-45bc-ba23-f016827a7e0d",
   "metadata": {
    "execution": {
     "iopub.execute_input": "2025-07-30T14:01:31.650157Z",
     "iopub.status.busy": "2025-07-30T14:01:31.649443Z",
     "iopub.status.idle": "2025-07-30T14:01:31.657133Z",
     "shell.execute_reply": "2025-07-30T14:01:31.656099Z"
    },
    "papermill": {
     "duration": 0.03695,
     "end_time": "2025-07-30T14:01:31.658876",
     "exception": false,
     "start_time": "2025-07-30T14:01:31.621926",
     "status": "completed"
    },
    "tags": []
   },
   "outputs": [
    {
     "data": {
      "text/plain": [
       "{'frau1': 0.9073729613155411,\n",
       " 'nongerman': 0.9096165721663954,\n",
       " 'nongerman_male': 0.9306493740430515,\n",
       " 'nongerman_female': 0.8748137108792846}"
      ]
     },
     "execution_count": 69,
     "metadata": {},
     "output_type": "execute_result"
    }
   ],
   "source": [
    "cond_coverage"
   ]
  },
  {
   "cell_type": "code",
   "execution_count": 70,
   "id": "f5093324-c3dd-4d63-bc4c-8d945e5c8bbb",
   "metadata": {
    "execution": {
     "iopub.execute_input": "2025-07-30T14:01:31.713480Z",
     "iopub.status.busy": "2025-07-30T14:01:31.712767Z",
     "iopub.status.idle": "2025-07-30T14:01:31.721936Z",
     "shell.execute_reply": "2025-07-30T14:01:31.720698Z"
    },
    "papermill": {
     "duration": 0.038114,
     "end_time": "2025-07-30T14:01:31.723744",
     "exception": false,
     "start_time": "2025-07-30T14:01:31.685630",
     "status": "completed"
    },
    "tags": []
   },
   "outputs": [],
   "source": [
    "for subgroup, cov in cond_coverage.items():\n",
    "    cp_metrics_df[f\"cov_{subgroup}\"] = cov"
   ]
  },
  {
   "cell_type": "code",
   "execution_count": 71,
   "id": "6e872e10-dbe5-49e8-b554-5030c98ff75d",
   "metadata": {
    "execution": {
     "iopub.execute_input": "2025-07-30T14:01:31.779965Z",
     "iopub.status.busy": "2025-07-30T14:01:31.779234Z",
     "iopub.status.idle": "2025-07-30T14:01:31.796062Z",
     "shell.execute_reply": "2025-07-30T14:01:31.795060Z"
    },
    "papermill": {
     "duration": 0.046538,
     "end_time": "2025-07-30T14:01:31.797788",
     "exception": false,
     "start_time": "2025-07-30T14:01:31.751250",
     "status": "completed"
    },
    "tags": []
   },
   "outputs": [
    {
     "data": {
      "text/html": [
       "<div>\n",
       "<style scoped>\n",
       "    .dataframe tbody tr th:only-of-type {\n",
       "        vertical-align: middle;\n",
       "    }\n",
       "\n",
       "    .dataframe tbody tr th {\n",
       "        vertical-align: top;\n",
       "    }\n",
       "\n",
       "    .dataframe thead th {\n",
       "        text-align: right;\n",
       "    }\n",
       "</style>\n",
       "<table border=\"1\" class=\"dataframe\">\n",
       "  <thead>\n",
       "    <tr style=\"text-align: right;\">\n",
       "      <th></th>\n",
       "      <th>universe_id</th>\n",
       "      <th>universe_training_size</th>\n",
       "      <th>universe_scale</th>\n",
       "      <th>universe_model</th>\n",
       "      <th>universe_exclude_features</th>\n",
       "      <th>universe_exclude_subgroups</th>\n",
       "      <th>q_hat</th>\n",
       "      <th>coverage</th>\n",
       "      <th>avg_size</th>\n",
       "      <th>cov_frau1</th>\n",
       "      <th>cov_nongerman</th>\n",
       "      <th>cov_nongerman_male</th>\n",
       "      <th>cov_nongerman_female</th>\n",
       "    </tr>\n",
       "  </thead>\n",
       "  <tbody>\n",
       "    <tr>\n",
       "      <th>0</th>\n",
       "      <td>c2bb59cfada70f73cca271f17d37baa8</td>\n",
       "      <td>5k</td>\n",
       "      <td>do-not-scale</td>\n",
       "      <td>rf</td>\n",
       "      <td>none</td>\n",
       "      <td>drop-non-german</td>\n",
       "      <td>0.68</td>\n",
       "      <td>0.913376</td>\n",
       "      <td>1.146951</td>\n",
       "      <td>0.907373</td>\n",
       "      <td>0.909617</td>\n",
       "      <td>0.930649</td>\n",
       "      <td>0.874814</td>\n",
       "    </tr>\n",
       "  </tbody>\n",
       "</table>\n",
       "</div>"
      ],
      "text/plain": [
       "                        universe_id universe_training_size universe_scale  \\\n",
       "0  c2bb59cfada70f73cca271f17d37baa8                     5k   do-not-scale   \n",
       "\n",
       "  universe_model universe_exclude_features universe_exclude_subgroups  q_hat  \\\n",
       "0             rf                      none            drop-non-german   0.68   \n",
       "\n",
       "   coverage  avg_size  cov_frau1  cov_nongerman  cov_nongerman_male  \\\n",
       "0  0.913376  1.146951   0.907373       0.909617            0.930649   \n",
       "\n",
       "   cov_nongerman_female  \n",
       "0              0.874814  "
      ]
     },
     "execution_count": 71,
     "metadata": {},
     "output_type": "execute_result"
    }
   ],
   "source": [
    "cp_metrics_df"
   ]
  },
  {
   "cell_type": "markdown",
   "id": "33774451",
   "metadata": {
    "papermill": {
     "duration": 0.026927,
     "end_time": "2025-07-30T14:01:31.852508",
     "exception": false,
     "start_time": "2025-07-30T14:01:31.825581",
     "status": "completed"
    },
    "tags": []
   },
   "source": [
    "# (Fairness) Metrics"
   ]
  },
  {
   "cell_type": "code",
   "execution_count": 72,
   "id": "debc5d62",
   "metadata": {
    "execution": {
     "iopub.execute_input": "2025-07-30T14:01:31.903523Z",
     "iopub.status.busy": "2025-07-30T14:01:31.903134Z",
     "iopub.status.idle": "2025-07-30T14:01:31.924703Z",
     "shell.execute_reply": "2025-07-30T14:01:31.923769Z"
    },
    "papermill": {
     "duration": 0.050144,
     "end_time": "2025-07-30T14:01:31.929200",
     "exception": false,
     "start_time": "2025-07-30T14:01:31.879056",
     "status": "completed"
    },
    "tags": []
   },
   "outputs": [],
   "source": [
    "# do I need to include maxdeutsch1.missing?\n",
    "\n",
    "import numpy as np\n",
    "\n",
    "colname_to_bin = \"maxdeutsch1\"\n",
    "majority_value = org_train[colname_to_bin].mode()[0]\n",
    "\n",
    "org_test[\"majmin\"] = np.where(org_test[colname_to_bin] == majority_value, \"majority\", \"minority\")"
   ]
  },
  {
   "cell_type": "code",
   "execution_count": 73,
   "id": "06a50de5",
   "metadata": {
    "execution": {
     "iopub.execute_input": "2025-07-30T14:01:31.987322Z",
     "iopub.status.busy": "2025-07-30T14:01:31.986537Z",
     "iopub.status.idle": "2025-07-30T14:01:34.737814Z",
     "shell.execute_reply": "2025-07-30T14:01:34.736817Z"
    },
    "papermill": {
     "duration": 2.781766,
     "end_time": "2025-07-30T14:01:34.739765",
     "exception": false,
     "start_time": "2025-07-30T14:01:31.957999",
     "status": "completed"
    },
    "tags": []
   },
   "outputs": [],
   "source": [
    "example_universe = universe.copy()\n",
    "example_universe[\"cutoff\"] = example_universe[\"cutoff\"][0]\n",
    "example_universe[\"eval_fairness_grouping\"] = example_universe[\"eval_fairness_grouping\"][0]\n",
    "fairness_dict, metric_frame = universe_analysis.compute_metrics(\n",
    "    example_universe,\n",
    "    y_pred_prob=probs_test,\n",
    "    y_test=y_true,\n",
    "    org_test=org_test,\n",
    ")"
   ]
  },
  {
   "cell_type": "markdown",
   "id": "f95d4e02",
   "metadata": {
    "papermill": {
     "duration": 0.026191,
     "end_time": "2025-07-30T14:01:34.795892",
     "exception": false,
     "start_time": "2025-07-30T14:01:34.769701",
     "status": "completed"
    },
    "tags": []
   },
   "source": [
    "# Overall"
   ]
  },
  {
   "cell_type": "markdown",
   "id": "bdee4871",
   "metadata": {
    "papermill": {
     "duration": 0.027031,
     "end_time": "2025-07-30T14:01:34.849988",
     "exception": false,
     "start_time": "2025-07-30T14:01:34.822957",
     "status": "completed"
    },
    "tags": []
   },
   "source": [
    "Fairness\n",
    "Main fairness target: Equalized Odds. Seems to be a better fit than equal opportunity, since we're not only interested in Y = 1. Seems to be a better fit than demographic parity, since we also care about accuracy, not just equal distribution of preds.\n",
    "\n",
    "Pick column for computation of fairness metrics\n",
    "\n",
    "Performance\n",
    "Overall performance measures, most interesting in relation to the measures split by group below"
   ]
  },
  {
   "cell_type": "code",
   "execution_count": 74,
   "id": "c4e067c6",
   "metadata": {
    "execution": {
     "iopub.execute_input": "2025-07-30T14:01:34.905684Z",
     "iopub.status.busy": "2025-07-30T14:01:34.905036Z",
     "iopub.status.idle": "2025-07-30T14:01:34.913660Z",
     "shell.execute_reply": "2025-07-30T14:01:34.912712Z"
    },
    "papermill": {
     "duration": 0.038335,
     "end_time": "2025-07-30T14:01:34.915174",
     "exception": false,
     "start_time": "2025-07-30T14:01:34.876839",
     "status": "completed"
    },
    "tags": []
   },
   "outputs": [
    {
     "data": {
      "text/plain": [
       "accuracy                   0.196946\n",
       "balanced accuracy          0.533456\n",
       "f1                         0.239566\n",
       "precision                  0.136345\n",
       "false positive rate        0.919184\n",
       "false negative rate        0.013903\n",
       "selection rate             0.927767\n",
       "count                  89710.000000\n",
       "dtype: float64"
      ]
     },
     "execution_count": 74,
     "metadata": {},
     "output_type": "execute_result"
    }
   ],
   "source": [
    "metric_frame.overall"
   ]
  },
  {
   "cell_type": "markdown",
   "id": "e968fe9d",
   "metadata": {
    "papermill": {
     "duration": 0.027396,
     "end_time": "2025-07-30T14:01:34.970778",
     "exception": false,
     "start_time": "2025-07-30T14:01:34.943382",
     "status": "completed"
    },
    "tags": []
   },
   "source": [
    "By Group"
   ]
  },
  {
   "cell_type": "code",
   "execution_count": 75,
   "id": "ec325bce",
   "metadata": {
    "execution": {
     "iopub.execute_input": "2025-07-30T14:01:35.026132Z",
     "iopub.status.busy": "2025-07-30T14:01:35.025443Z",
     "iopub.status.idle": "2025-07-30T14:01:35.041646Z",
     "shell.execute_reply": "2025-07-30T14:01:35.040518Z"
    },
    "papermill": {
     "duration": 0.046641,
     "end_time": "2025-07-30T14:01:35.043494",
     "exception": false,
     "start_time": "2025-07-30T14:01:34.996853",
     "status": "completed"
    },
    "tags": []
   },
   "outputs": [
    {
     "data": {
      "text/html": [
       "<div>\n",
       "<style scoped>\n",
       "    .dataframe tbody tr th:only-of-type {\n",
       "        vertical-align: middle;\n",
       "    }\n",
       "\n",
       "    .dataframe tbody tr th {\n",
       "        vertical-align: top;\n",
       "    }\n",
       "\n",
       "    .dataframe thead th {\n",
       "        text-align: right;\n",
       "    }\n",
       "</style>\n",
       "<table border=\"1\" class=\"dataframe\">\n",
       "  <thead>\n",
       "    <tr style=\"text-align: right;\">\n",
       "      <th></th>\n",
       "      <th>accuracy</th>\n",
       "      <th>balanced accuracy</th>\n",
       "      <th>f1</th>\n",
       "      <th>precision</th>\n",
       "      <th>false positive rate</th>\n",
       "      <th>false negative rate</th>\n",
       "      <th>selection rate</th>\n",
       "      <th>count</th>\n",
       "    </tr>\n",
       "    <tr>\n",
       "      <th>majmin</th>\n",
       "      <th></th>\n",
       "      <th></th>\n",
       "      <th></th>\n",
       "      <th></th>\n",
       "      <th></th>\n",
       "      <th></th>\n",
       "      <th></th>\n",
       "      <th></th>\n",
       "    </tr>\n",
       "  </thead>\n",
       "  <tbody>\n",
       "    <tr>\n",
       "      <th>majority</th>\n",
       "      <td>0.203875</td>\n",
       "      <td>0.535996</td>\n",
       "      <td>0.246861</td>\n",
       "      <td>0.141064</td>\n",
       "      <td>0.915426</td>\n",
       "      <td>0.012582</td>\n",
       "      <td>0.924939</td>\n",
       "      <td>69170.0</td>\n",
       "    </tr>\n",
       "    <tr>\n",
       "      <th>minority</th>\n",
       "      <td>0.173612</td>\n",
       "      <td>0.524699</td>\n",
       "      <td>0.214894</td>\n",
       "      <td>0.120663</td>\n",
       "      <td>0.931598</td>\n",
       "      <td>0.019003</td>\n",
       "      <td>0.937293</td>\n",
       "      <td>20540.0</td>\n",
       "    </tr>\n",
       "  </tbody>\n",
       "</table>\n",
       "</div>"
      ],
      "text/plain": [
       "          accuracy  balanced accuracy        f1  precision  \\\n",
       "majmin                                                       \n",
       "majority  0.203875           0.535996  0.246861   0.141064   \n",
       "minority  0.173612           0.524699  0.214894   0.120663   \n",
       "\n",
       "          false positive rate  false negative rate  selection rate    count  \n",
       "majmin                                                                       \n",
       "majority             0.915426             0.012582        0.924939  69170.0  \n",
       "minority             0.931598             0.019003        0.937293  20540.0  "
      ]
     },
     "execution_count": 75,
     "metadata": {},
     "output_type": "execute_result"
    }
   ],
   "source": [
    "metric_frame.by_group"
   ]
  },
  {
   "cell_type": "code",
   "execution_count": 76,
   "id": "a9ddbe63",
   "metadata": {
    "execution": {
     "iopub.execute_input": "2025-07-30T14:01:35.101773Z",
     "iopub.status.busy": "2025-07-30T14:01:35.101255Z",
     "iopub.status.idle": "2025-07-30T14:01:37.210087Z",
     "shell.execute_reply": "2025-07-30T14:01:37.208999Z"
    },
    "papermill": {
     "duration": 2.13906,
     "end_time": "2025-07-30T14:01:37.211903",
     "exception": false,
     "start_time": "2025-07-30T14:01:35.072843",
     "status": "completed"
    },
    "tags": []
   },
   "outputs": [
    {
     "data": {
      "text/plain": [
       "array([[<Axes: title={'center': 'accuracy'}, xlabel='majmin'>,\n",
       "        <Axes: title={'center': 'balanced accuracy'}, xlabel='majmin'>,\n",
       "        <Axes: title={'center': 'f1'}, xlabel='majmin'>],\n",
       "       [<Axes: title={'center': 'precision'}, xlabel='majmin'>,\n",
       "        <Axes: title={'center': 'false positive rate'}, xlabel='majmin'>,\n",
       "        <Axes: title={'center': 'false negative rate'}, xlabel='majmin'>],\n",
       "       [<Axes: title={'center': 'selection rate'}, xlabel='majmin'>,\n",
       "        <Axes: title={'center': 'count'}, xlabel='majmin'>,\n",
       "        <Axes: xlabel='majmin'>]], dtype=object)"
      ]
     },
     "execution_count": 76,
     "metadata": {},
     "output_type": "execute_result"
    },
    {
     "data": {
      "image/png": "[encoded data removed]",
      "text/plain": [
       "<Figure size 1200x800 with 9 Axes>"
      ]
     },
     "metadata": {},
     "output_type": "display_data"
    }
   ],
   "source": [
    "# In a graphic\n",
    "metric_frame.by_group.plot.bar(\n",
    "    subplots=True,\n",
    "    layout=[3, 3],\n",
    "    legend=False,\n",
    "    figsize=[12, 8],\n",
    "    title=\"Show all metrics\",\n",
    ")"
   ]
  },
  {
   "cell_type": "markdown",
   "id": "f57a0bac",
   "metadata": {
    "papermill": {
     "duration": 0.031501,
     "end_time": "2025-07-30T14:01:37.324906",
     "exception": false,
     "start_time": "2025-07-30T14:01:37.293405",
     "status": "completed"
    },
    "tags": []
   },
   "source": [
    "# Final Output"
   ]
  },
  {
   "cell_type": "code",
   "execution_count": 77,
   "id": "96d280a3",
   "metadata": {
    "execution": {
     "iopub.execute_input": "2025-07-30T14:01:37.386752Z",
     "iopub.status.busy": "2025-07-30T14:01:37.386063Z",
     "iopub.status.idle": "2025-07-30T14:01:37.395193Z",
     "shell.execute_reply": "2025-07-30T14:01:37.394199Z"
    },
    "papermill": {
     "duration": 0.042912,
     "end_time": "2025-07-30T14:01:37.396758",
     "exception": false,
     "start_time": "2025-07-30T14:01:37.353846",
     "status": "completed"
    },
    "tags": []
   },
   "outputs": [
    {
     "data": {
      "text/plain": [
       "4"
      ]
     },
     "execution_count": 77,
     "metadata": {},
     "output_type": "execute_result"
    }
   ],
   "source": [
    "sub_universes = universe_analysis.generate_sub_universes()\n",
    "len(sub_universes)"
   ]
  },
  {
   "cell_type": "code",
   "execution_count": 78,
   "id": "92adf7ba",
   "metadata": {
    "execution": {
     "iopub.execute_input": "2025-07-30T14:01:37.460473Z",
     "iopub.status.busy": "2025-07-30T14:01:37.459917Z",
     "iopub.status.idle": "2025-07-30T14:01:37.466603Z",
     "shell.execute_reply": "2025-07-30T14:01:37.465575Z"
    },
    "papermill": {
     "duration": 0.041811,
     "end_time": "2025-07-30T14:01:37.467938",
     "exception": false,
     "start_time": "2025-07-30T14:01:37.426127",
     "status": "completed"
    },
    "tags": []
   },
   "outputs": [],
   "source": [
    "def filter_sub_universe_data(sub_universe, org_test):\n",
    "    # Keep all rows — no filtering\n",
    "    keep_rows_mask = np.ones(org_test.shape[0], dtype=bool)\n",
    "\n",
    "    print(f\"[INFO] Keeping all rows: {keep_rows_mask.sum()} rows retained.\")\n",
    "    return keep_rows_mask"
   ]
  },
  {
   "cell_type": "code",
   "execution_count": 79,
   "id": "4a759155",
   "metadata": {
    "execution": {
     "iopub.execute_input": "2025-07-30T14:01:37.503126Z",
     "iopub.status.busy": "2025-07-30T14:01:37.502627Z",
     "iopub.status.idle": "2025-07-30T14:01:46.448701Z",
     "shell.execute_reply": "2025-07-30T14:01:46.432268Z"
    },
    "papermill": {
     "duration": 8.965272,
     "end_time": "2025-07-30T14:01:46.450727",
     "exception": false,
     "start_time": "2025-07-30T14:01:37.485455",
     "status": "completed"
    },
    "tags": []
   },
   "outputs": [
    {
     "name": "stdout",
     "output_type": "stream",
     "text": [
      "Stopping execution_time clock.\n",
      "[INFO] Keeping all rows: 89710 rows retained.\n"
     ]
    },
    {
     "name": "stdout",
     "output_type": "stream",
     "text": [
      "[INFO] Keeping all rows: 89710 rows retained.\n"
     ]
    },
    {
     "name": "stdout",
     "output_type": "stream",
     "text": [
      "[INFO] Keeping all rows: 89710 rows retained.\n"
     ]
    },
    {
     "name": "stdout",
     "output_type": "stream",
     "text": [
      "[INFO] Keeping all rows: 89710 rows retained.\n"
     ]
    },
    {
     "data": {
      "text/html": [
       "<div>\n",
       "<style scoped>\n",
       "    .dataframe tbody tr th:only-of-type {\n",
       "        vertical-align: middle;\n",
       "    }\n",
       "\n",
       "    .dataframe tbody tr th {\n",
       "        vertical-align: top;\n",
       "    }\n",
       "\n",
       "    .dataframe thead th {\n",
       "        text-align: right;\n",
       "    }\n",
       "</style>\n",
       "<table border=\"1\" class=\"dataframe\">\n",
       "  <thead>\n",
       "    <tr style=\"text-align: right;\">\n",
       "      <th></th>\n",
       "      <th>run_no</th>\n",
       "      <th>universe_id</th>\n",
       "      <th>universe_settings</th>\n",
       "      <th>execution_time</th>\n",
       "      <th>test_size_n</th>\n",
       "      <th>test_size_frac</th>\n",
       "      <th>fair_main_equalized_odds_difference</th>\n",
       "      <th>fair_main_equalized_odds_ratio</th>\n",
       "      <th>fair_main_demographic_parity_difference</th>\n",
       "      <th>fair_main_demographic_parity_ratio</th>\n",
       "      <th>...</th>\n",
       "      <th>perf_grp_precision_0</th>\n",
       "      <th>perf_grp_precision_1</th>\n",
       "      <th>perf_grp_false positive rate_0</th>\n",
       "      <th>perf_grp_false positive rate_1</th>\n",
       "      <th>perf_grp_false negative rate_0</th>\n",
       "      <th>perf_grp_false negative rate_1</th>\n",
       "      <th>perf_grp_selection rate_0</th>\n",
       "      <th>perf_grp_selection rate_1</th>\n",
       "      <th>perf_grp_count_0</th>\n",
       "      <th>perf_grp_count_1</th>\n",
       "    </tr>\n",
       "  </thead>\n",
       "  <tbody>\n",
       "    <tr>\n",
       "      <th>0</th>\n",
       "      <td>12</td>\n",
       "      <td>c2bb59cfada70f73cca271f17d37baa8</td>\n",
       "      <td>{\"cutoff\": \"quantile_0.1\", \"eval_fairness_grou...</td>\n",
       "      <td>30.149875</td>\n",
       "      <td>89710</td>\n",
       "      <td>1.0</td>\n",
       "      <td>0.016172</td>\n",
       "      <td>0.98264</td>\n",
       "      <td>0.012355</td>\n",
       "      <td>0.986819</td>\n",
       "      <td>...</td>\n",
       "      <td>NaN</td>\n",
       "      <td>NaN</td>\n",
       "      <td>NaN</td>\n",
       "      <td>NaN</td>\n",
       "      <td>NaN</td>\n",
       "      <td>NaN</td>\n",
       "      <td>NaN</td>\n",
       "      <td>NaN</td>\n",
       "      <td>NaN</td>\n",
       "      <td>NaN</td>\n",
       "    </tr>\n",
       "    <tr>\n",
       "      <th>0</th>\n",
       "      <td>12</td>\n",
       "      <td>c2bb59cfada70f73cca271f17d37baa8</td>\n",
       "      <td>{\"cutoff\": \"quantile_0.1\", \"eval_fairness_grou...</td>\n",
       "      <td>30.149875</td>\n",
       "      <td>89710</td>\n",
       "      <td>1.0</td>\n",
       "      <td>0.016172</td>\n",
       "      <td>0.98264</td>\n",
       "      <td>0.012355</td>\n",
       "      <td>0.986819</td>\n",
       "      <td>...</td>\n",
       "      <td>0.120663</td>\n",
       "      <td>0.141064</td>\n",
       "      <td>0.931598</td>\n",
       "      <td>0.915426</td>\n",
       "      <td>0.019003</td>\n",
       "      <td>0.012582</td>\n",
       "      <td>0.937293</td>\n",
       "      <td>0.924939</td>\n",
       "      <td>20540.0</td>\n",
       "      <td>69170.0</td>\n",
       "    </tr>\n",
       "    <tr>\n",
       "      <th>0</th>\n",
       "      <td>12</td>\n",
       "      <td>c2bb59cfada70f73cca271f17d37baa8</td>\n",
       "      <td>{\"cutoff\": \"quantile_0.25\", \"eval_fairness_gro...</td>\n",
       "      <td>30.149875</td>\n",
       "      <td>89710</td>\n",
       "      <td>1.0</td>\n",
       "      <td>0.044255</td>\n",
       "      <td>0.95097</td>\n",
       "      <td>0.024685</td>\n",
       "      <td>0.968516</td>\n",
       "      <td>...</td>\n",
       "      <td>NaN</td>\n",
       "      <td>NaN</td>\n",
       "      <td>NaN</td>\n",
       "      <td>NaN</td>\n",
       "      <td>NaN</td>\n",
       "      <td>NaN</td>\n",
       "      <td>NaN</td>\n",
       "      <td>NaN</td>\n",
       "      <td>NaN</td>\n",
       "      <td>NaN</td>\n",
       "    </tr>\n",
       "    <tr>\n",
       "      <th>0</th>\n",
       "      <td>12</td>\n",
       "      <td>c2bb59cfada70f73cca271f17d37baa8</td>\n",
       "      <td>{\"cutoff\": \"quantile_0.25\", \"eval_fairness_gro...</td>\n",
       "      <td>30.149875</td>\n",
       "      <td>89710</td>\n",
       "      <td>1.0</td>\n",
       "      <td>0.044255</td>\n",
       "      <td>0.95097</td>\n",
       "      <td>0.024685</td>\n",
       "      <td>0.968516</td>\n",
       "      <td>...</td>\n",
       "      <td>0.132203</td>\n",
       "      <td>0.164154</td>\n",
       "      <td>0.769040</td>\n",
       "      <td>0.731334</td>\n",
       "      <td>0.100929</td>\n",
       "      <td>0.056674</td>\n",
       "      <td>0.784031</td>\n",
       "      <td>0.759347</td>\n",
       "      <td>20540.0</td>\n",
       "      <td>69170.0</td>\n",
       "    </tr>\n",
       "  </tbody>\n",
       "</table>\n",
       "<p>4 rows × 50 columns</p>\n",
       "</div>"
      ],
      "text/plain": [
       "  run_no                       universe_id  \\\n",
       "0     12  c2bb59cfada70f73cca271f17d37baa8   \n",
       "0     12  c2bb59cfada70f73cca271f17d37baa8   \n",
       "0     12  c2bb59cfada70f73cca271f17d37baa8   \n",
       "0     12  c2bb59cfada70f73cca271f17d37baa8   \n",
       "\n",
       "                                   universe_settings  execution_time  \\\n",
       "0  {\"cutoff\": \"quantile_0.1\", \"eval_fairness_grou...       30.149875   \n",
       "0  {\"cutoff\": \"quantile_0.1\", \"eval_fairness_grou...       30.149875   \n",
       "0  {\"cutoff\": \"quantile_0.25\", \"eval_fairness_gro...       30.149875   \n",
       "0  {\"cutoff\": \"quantile_0.25\", \"eval_fairness_gro...       30.149875   \n",
       "\n",
       "   test_size_n  test_size_frac  fair_main_equalized_odds_difference  \\\n",
       "0        89710             1.0                             0.016172   \n",
       "0        89710             1.0                             0.016172   \n",
       "0        89710             1.0                             0.044255   \n",
       "0        89710             1.0                             0.044255   \n",
       "\n",
       "   fair_main_equalized_odds_ratio  fair_main_demographic_parity_difference  \\\n",
       "0                         0.98264                                 0.012355   \n",
       "0                         0.98264                                 0.012355   \n",
       "0                         0.95097                                 0.024685   \n",
       "0                         0.95097                                 0.024685   \n",
       "\n",
       "   fair_main_demographic_parity_ratio  ...  perf_grp_precision_0  \\\n",
       "0                            0.986819  ...                   NaN   \n",
       "0                            0.986819  ...              0.120663   \n",
       "0                            0.968516  ...                   NaN   \n",
       "0                            0.968516  ...              0.132203   \n",
       "\n",
       "   perf_grp_precision_1  perf_grp_false positive rate_0  \\\n",
       "0                   NaN                             NaN   \n",
       "0              0.141064                        0.931598   \n",
       "0                   NaN                             NaN   \n",
       "0              0.164154                        0.769040   \n",
       "\n",
       "   perf_grp_false positive rate_1  perf_grp_false negative rate_0  \\\n",
       "0                             NaN                             NaN   \n",
       "0                        0.915426                        0.019003   \n",
       "0                             NaN                             NaN   \n",
       "0                        0.731334                        0.100929   \n",
       "\n",
       "   perf_grp_false negative rate_1  perf_grp_selection rate_0  \\\n",
       "0                             NaN                        NaN   \n",
       "0                        0.012582                   0.937293   \n",
       "0                             NaN                        NaN   \n",
       "0                        0.056674                   0.784031   \n",
       "\n",
       "   perf_grp_selection rate_1  perf_grp_count_0  perf_grp_count_1  \n",
       "0                        NaN               NaN               NaN  \n",
       "0                   0.924939           20540.0           69170.0  \n",
       "0                        NaN               NaN               NaN  \n",
       "0                   0.759347           20540.0           69170.0  \n",
       "\n",
       "[4 rows x 50 columns]"
      ]
     },
     "execution_count": 79,
     "metadata": {},
     "output_type": "execute_result"
    }
   ],
   "source": [
    "final_output = universe_analysis.generate_final_output(\n",
    "    y_pred_prob=probs_test,\n",
    "    y_test=y_true,\n",
    "    org_test=org_test,\n",
    "    filter_data=filter_sub_universe_data,\n",
    "    cp_metrics_df=cp_metrics_df,\n",
    "    save=True,\n",
    ")\n",
    "final_output"
   ]
  },
  {
   "cell_type": "code",
   "execution_count": null,
   "id": "721ff514-cb11-46f8-b6fc-50392f74b5cb",
   "metadata": {
    "papermill": {
     "duration": 0.048232,
     "end_time": "2025-07-30T14:01:46.565541",
     "exception": false,
     "start_time": "2025-07-30T14:01:46.517309",
     "status": "completed"
    },
    "tags": []
   },
   "outputs": [],
   "source": []
  }
 ],
 "metadata": {
  "celltoolbar": "Tags",
  "kernelspec": {
   "display_name": "Python (CMA Fairness)",
   "language": "python",
   "name": "cma_fair_env"
  },
  "language_info": {
   "codemirror_mode": {
    "name": "ipython",
    "version": 3
   },
   "file_extension": ".py",
   "mimetype": "text/x-python",
   "name": "python",
   "nbconvert_exporter": "python",
   "pygments_lexer": "ipython3",
   "version": "3.10.12"
  },
  "papermill": {
   "default_parameters": {},
   "duration": 43.905513,
   "end_time": "2025-07-30T14:01:47.774038",
   "environment_variables": {},
   "exception": null,
   "input_path": "universe_analysis.ipynb",
   "output_path": "output/runs/12/notebooks/m_12-c2bb59cfada70f73cca271f17d37baa8.ipynb",
   "parameters": {
    "output_dir": "output",
    "run_no": "12",
    "seed": "2023",
    "universe": "{\"cutoff\": [\"quantile_0.1\", \"quantile_0.25\"], \"eval_fairness_grouping\": [\"majority-minority\", \"nationality-all\"], \"exclude_features\": \"none\", \"exclude_subgroups\": \"drop-non-german\", \"model\": \"rf\", \"scale\": \"do-not-scale\", \"training_size\": \"5k\", \"training_year\": \"2012_14\"}",
    "universe_id": "c2bb59cfada70f73cca271f17d37baa8"
   },
   "start_time": "2025-07-30T14:01:03.868525",
   "version": "2.6.0"
  }
 },
 "nbformat": 4,
 "nbformat_minor": 5
}