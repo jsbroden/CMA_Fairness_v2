{
 "cells": [
  {
   "cell_type": "code",
   "execution_count": 1,
   "id": "f159f837-637b-42ba-96b5-ec9a68c44524",
   "metadata": {
    "execution": {
     "iopub.execute_input": "2025-07-30T13:16:08.552742Z",
     "iopub.status.busy": "2025-07-30T13:16:08.551998Z",
     "iopub.status.idle": "2025-07-30T13:16:08.565825Z",
     "shell.execute_reply": "2025-07-30T13:16:08.564823Z"
    },
    "papermill": {
     "duration": 0.035726,
     "end_time": "2025-07-30T13:16:08.567520",
     "exception": false,
     "start_time": "2025-07-30T13:16:08.531794",
     "status": "completed"
    },
    "tags": []
   },
   "outputs": [
    {
     "name": "stdout",
     "output_type": "stream",
     "text": [
      "/dss/dsshome1/0C/ra93lal2/cma/CMA_Fairness_v2\n"
     ]
    },
    {
     "name": "stderr",
     "output_type": "stream",
     "text": [
      "/dss/dsshome1/0C/ra93lal2/.local/share/virtualenvs/CMA_Fairness_v2-3j10GkSs/lib/python3.10/site-packages/IPython/core/magics/osm.py:393: UserWarning: This is now an optional IPython functionality, using bookmarks requires you to install the `pickleshare` library.\n",
      "  bkms = self.shell.db.get('bookmarks', {})\n",
      "/dss/dsshome1/0C/ra93lal2/.local/share/virtualenvs/CMA_Fairness_v2-3j10GkSs/lib/python3.10/site-packages/IPython/core/magics/osm.py:417: UserWarning: This is now an optional IPython functionality, setting dhist requires you to install the `pickleshare` library.\n",
      "  self.shell.db['dhist'] = compress_dhist(dhist)[-100:]\n"
     ]
    }
   ],
   "source": [
    "%cd ~/cma/CMA_Fairness_v2"
   ]
  },
  {
   "cell_type": "markdown",
   "id": "de2603b9",
   "metadata": {
    "papermill": {
     "duration": 0.017591,
     "end_time": "2025-07-30T13:16:08.604421",
     "exception": false,
     "start_time": "2025-07-30T13:16:08.586830",
     "status": "completed"
    },
    "tags": []
   },
   "source": [
    "The following cell holds the definition of our parameters, these values can be overriden by rendering the with e.g. the following command:\n",
    "\n",
    "papermill -p alpha 0.2 -p ratio 0.3 universe_analysis.ipynb output/test_run.ipynb"
   ]
  },
  {
   "cell_type": "code",
   "execution_count": 2,
   "id": "a80968a0-40bb-4fa9-85ef-2d5eefb01975",
   "metadata": {
    "execution": {
     "iopub.execute_input": "2025-07-30T13:16:08.642585Z",
     "iopub.status.busy": "2025-07-30T13:16:08.641681Z",
     "iopub.status.idle": "2025-07-30T13:16:08.647501Z",
     "shell.execute_reply": "2025-07-30T13:16:08.646575Z"
    },
    "papermill": {
     "duration": 0.02732,
     "end_time": "2025-07-30T13:16:08.649233",
     "exception": false,
     "start_time": "2025-07-30T13:16:08.621913",
     "status": "completed"
    },
    "tags": []
   },
   "outputs": [
    {
     "name": "stdout",
     "output_type": "stream",
     "text": [
      "Current working directory: /dss/dsshome1/0C/ra93lal2/cma/CMA_Fairness_v2\n"
     ]
    }
   ],
   "source": [
    "import os\n",
    "print(\"Current working directory:\", os.getcwd())"
   ]
  },
  {
   "cell_type": "code",
   "execution_count": 3,
   "id": "2dce4c03",
   "metadata": {
    "execution": {
     "iopub.execute_input": "2025-07-30T13:16:08.687836Z",
     "iopub.status.busy": "2025-07-30T13:16:08.687054Z",
     "iopub.status.idle": "2025-07-30T13:16:08.693686Z",
     "shell.execute_reply": "2025-07-30T13:16:08.692669Z"
    },
    "papermill": {
     "duration": 0.027443,
     "end_time": "2025-07-30T13:16:08.695464",
     "exception": false,
     "start_time": "2025-07-30T13:16:08.668021",
     "status": "completed"
    },
    "tags": [
     "parameters"
    ]
   },
   "outputs": [],
   "source": [
    "run_no = 0\n",
    "universe_id = \"test\"\n",
    "universe = {\n",
    "    \"training_size\": \"25k\", # \"25k\", \"5k\", \"1k\"\n",
    "    \"training_year\": \"2014\", # \"2014\", \"2012_14\", \"2010_14\"\n",
    "    \"scale\": \"scale\", # \"scale\", \"do-not-scale\",\n",
    "    #\"stratify_split\": \"target\", # \"none\", \"target\", \"protected-attribute\", \"both\",\n",
    "    \"model\": \"elasticnet\", # \"logreg\", \"penalized_logreg\", \"rf\", \"gbm\", \"elasticnet\"\n",
    "    \"cutoff\": [\"quantile_0.15\", \"quantile_0.30\"],\n",
    "    \"exclude_features\": \"age\", # \"none\", \"nationality\", \"sex\", \"nationality-sex\", \"age\"\n",
    "    \"exclude_subgroups\": \"keep-all\", # \"keep-all\", \"drop-non-german\"\n",
    "    \"eval_fairness_grouping\": [\"majority-minority\", \"nationality-all\"]\n",
    "}\n",
    "\n",
    "output_dir=\"./output\"\n",
    "seed=0"
   ]
  },
  {
   "cell_type": "code",
   "execution_count": 4,
   "id": "f777c1c5",
   "metadata": {
    "execution": {
     "iopub.execute_input": "2025-07-30T13:16:08.735004Z",
     "iopub.status.busy": "2025-07-30T13:16:08.734355Z",
     "iopub.status.idle": "2025-07-30T13:16:08.740045Z",
     "shell.execute_reply": "2025-07-30T13:16:08.739020Z"
    },
    "papermill": {
     "duration": 0.026356,
     "end_time": "2025-07-30T13:16:08.741849",
     "exception": false,
     "start_time": "2025-07-30T13:16:08.715493",
     "status": "completed"
    },
    "tags": [
     "injected-parameters"
    ]
   },
   "outputs": [],
   "source": [
    "# Parameters\n",
    "universe_id = \"5d83e97d94109b78c6fd03439ea0fb0c\"\n",
    "run_no = \"12\"\n",
    "universe = \"{\\\"cutoff\\\": [\\\"quantile_0.1\\\", \\\"quantile_0.25\\\"], \\\"eval_fairness_grouping\\\": [\\\"majority-minority\\\", \\\"nationality-all\\\"], \\\"exclude_features\\\": \\\"age\\\", \\\"exclude_subgroups\\\": \\\"drop-non-german\\\", \\\"model\\\": \\\"gbm\\\", \\\"scale\\\": \\\"do-not-scale\\\", \\\"training_size\\\": \\\"25k\\\", \\\"training_year\\\": \\\"2012_14\\\"}\"\n",
    "output_dir = \"output\"\n",
    "seed = \"2023\"\n"
   ]
  },
  {
   "cell_type": "code",
   "execution_count": 5,
   "id": "1650acaf",
   "metadata": {
    "execution": {
     "iopub.execute_input": "2025-07-30T13:16:08.781172Z",
     "iopub.status.busy": "2025-07-30T13:16:08.780706Z",
     "iopub.status.idle": "2025-07-30T13:16:08.786261Z",
     "shell.execute_reply": "2025-07-30T13:16:08.785295Z"
    },
    "papermill": {
     "duration": 0.026291,
     "end_time": "2025-07-30T13:16:08.788079",
     "exception": false,
     "start_time": "2025-07-30T13:16:08.761788",
     "status": "completed"
    },
    "tags": []
   },
   "outputs": [],
   "source": [
    "import json\n",
    "# Parse universe into dict if it is passed as a string\n",
    "if isinstance(universe, str):\n",
    "    universe = json.loads(universe)"
   ]
  },
  {
   "cell_type": "code",
   "execution_count": 6,
   "id": "16620c48",
   "metadata": {
    "execution": {
     "iopub.execute_input": "2025-07-30T13:16:08.826885Z",
     "iopub.status.busy": "2025-07-30T13:16:08.826450Z",
     "iopub.status.idle": "2025-07-30T13:16:08.871366Z",
     "shell.execute_reply": "2025-07-30T13:16:08.870436Z"
    },
    "papermill": {
     "duration": 0.066004,
     "end_time": "2025-07-30T13:16:08.873359",
     "exception": false,
     "start_time": "2025-07-30T13:16:08.807355",
     "status": "completed"
    },
    "tags": []
   },
   "outputs": [],
   "source": [
    "# Auto-reload the custom package\n",
    "%load_ext autoreload\n",
    "%autoreload 1\n",
    "%aimport fairness_multiverse"
   ]
  },
  {
   "cell_type": "code",
   "execution_count": 7,
   "id": "01c5c9f3",
   "metadata": {
    "execution": {
     "iopub.execute_input": "2025-07-30T13:16:08.913091Z",
     "iopub.status.busy": "2025-07-30T13:16:08.912300Z",
     "iopub.status.idle": "2025-07-30T13:16:10.863321Z",
     "shell.execute_reply": "2025-07-30T13:16:10.862392Z"
    },
    "papermill": {
     "duration": 1.972642,
     "end_time": "2025-07-30T13:16:10.865393",
     "exception": false,
     "start_time": "2025-07-30T13:16:08.892751",
     "status": "completed"
    },
    "tags": []
   },
   "outputs": [],
   "source": [
    "from fairness_multiverse.universe import UniverseAnalysis\n",
    "\n",
    "universe_analysis = UniverseAnalysis(\n",
    "    run_no = run_no,\n",
    "    universe_id = universe_id,\n",
    "    universe = universe,\n",
    "    output_dir=output_dir,\n",
    ")"
   ]
  },
  {
   "cell_type": "code",
   "execution_count": 8,
   "id": "106241f5",
   "metadata": {
    "execution": {
     "iopub.execute_input": "2025-07-30T13:16:10.907311Z",
     "iopub.status.busy": "2025-07-30T13:16:10.906767Z",
     "iopub.status.idle": "2025-07-30T13:16:10.914209Z",
     "shell.execute_reply": "2025-07-30T13:16:10.913077Z"
    },
    "papermill": {
     "duration": 0.031237,
     "end_time": "2025-07-30T13:16:10.916733",
     "exception": false,
     "start_time": "2025-07-30T13:16:10.885496",
     "status": "completed"
    },
    "tags": []
   },
   "outputs": [
    {
     "name": "stdout",
     "output_type": "stream",
     "text": [
      "Using Seed: 2023\n"
     ]
    }
   ],
   "source": [
    "import numpy as np\n",
    "parsed_seed = int(seed)\n",
    "np.random.seed(parsed_seed)\n",
    "print(f\"Using Seed: {parsed_seed}\")"
   ]
  },
  {
   "cell_type": "markdown",
   "id": "e0ebdc57",
   "metadata": {
    "papermill": {
     "duration": 0.018698,
     "end_time": "2025-07-30T13:16:10.955823",
     "exception": false,
     "start_time": "2025-07-30T13:16:10.937125",
     "status": "completed"
    },
    "tags": []
   },
   "source": [
    "# Loading Data"
   ]
  },
  {
   "cell_type": "markdown",
   "id": "681925a3",
   "metadata": {
    "papermill": {
     "duration": 0.01884,
     "end_time": "2025-07-30T13:16:10.993286",
     "exception": false,
     "start_time": "2025-07-30T13:16:10.974446",
     "status": "completed"
    },
    "tags": []
   },
   "source": [
    "Load siab_train, siab_test, siab_calib and/or \n",
    "load siab_train_features, siab_train_labels"
   ]
  },
  {
   "cell_type": "code",
   "execution_count": 9,
   "id": "f0496b8a",
   "metadata": {
    "execution": {
     "iopub.execute_input": "2025-07-30T13:16:11.032626Z",
     "iopub.status.busy": "2025-07-30T13:16:11.031789Z",
     "iopub.status.idle": "2025-07-30T13:16:22.665718Z",
     "shell.execute_reply": "2025-07-30T13:16:22.664688Z"
    },
    "papermill": {
     "duration": 11.65524,
     "end_time": "2025-07-30T13:16:22.667379",
     "exception": false,
     "start_time": "2025-07-30T13:16:11.012139",
     "status": "completed"
    },
    "tags": []
   },
   "outputs": [
    {
     "name": "stdout",
     "output_type": "stream",
     "text": [
      "Loading SIAB data from cache: data/siab_cached.csv.gz\n"
     ]
    },
    {
     "name": "stdout",
     "output_type": "stream",
     "text": [
      "(643690, 164)\n"
     ]
    }
   ],
   "source": [
    "from pathlib import Path\n",
    "import pandas as pd\n",
    "\n",
    "# File paths\n",
    "raw_file = Path(\"data/raw/siab.csv\")\n",
    "cache_file = Path(\"data/siab_cached.csv.gz\")\n",
    "\n",
    "# Ensure cache directory exists\n",
    "cache_file.parent.mkdir(parents=True, exist_ok=True)\n",
    "\n",
    "# Load with simple caching\n",
    "if cache_file.exists():\n",
    "    print(f\"Loading SIAB data from cache: {cache_file}\")\n",
    "    siab = pd.read_csv(cache_file, compression='gzip')\n",
    "else:\n",
    "    print(f\"Cache not found. Reading raw SIAB data: {raw_file}\")\n",
    "    siab = pd.read_csv(raw_file)\n",
    "    siab.to_csv(cache_file, index=False, compression='gzip')\n",
    "    print(f\"Cached SIAB data to: {cache_file}\")\n",
    "\n",
    "# Now use `siab` DataFrame as needed\n",
    "print(siab.shape)"
   ]
  },
  {
   "cell_type": "code",
   "execution_count": 10,
   "id": "db0ca512-5f53-4dba-abdb-a2888bca41ba",
   "metadata": {
    "execution": {
     "iopub.execute_input": "2025-07-30T13:16:22.713066Z",
     "iopub.status.busy": "2025-07-30T13:16:22.711317Z",
     "iopub.status.idle": "2025-07-30T13:16:22.718876Z",
     "shell.execute_reply": "2025-07-30T13:16:22.717847Z"
    },
    "papermill": {
     "duration": 0.030549,
     "end_time": "2025-07-30T13:16:22.720536",
     "exception": false,
     "start_time": "2025-07-30T13:16:22.689987",
     "status": "completed"
    },
    "tags": []
   },
   "outputs": [],
   "source": [
    "#siab"
   ]
  },
  {
   "cell_type": "code",
   "execution_count": 11,
   "id": "a0edb063",
   "metadata": {
    "execution": {
     "iopub.execute_input": "2025-07-30T13:16:22.764633Z",
     "iopub.status.busy": "2025-07-30T13:16:22.764183Z",
     "iopub.status.idle": "2025-07-30T13:16:22.769317Z",
     "shell.execute_reply": "2025-07-30T13:16:22.768304Z"
    },
    "papermill": {
     "duration": 0.029103,
     "end_time": "2025-07-30T13:16:22.770975",
     "exception": false,
     "start_time": "2025-07-30T13:16:22.741872",
     "status": "completed"
    },
    "tags": []
   },
   "outputs": [],
   "source": [
    "#import pandas as pd\n",
    "#\n",
    "#X_train = pd.read_csv(\"./data/X_train.csv\")\n",
    "#y_train = pd.read_csv(\"./data/y_train.csv\")"
   ]
  },
  {
   "cell_type": "code",
   "execution_count": 12,
   "id": "63d08085",
   "metadata": {
    "execution": {
     "iopub.execute_input": "2025-07-30T13:16:22.815566Z",
     "iopub.status.busy": "2025-07-30T13:16:22.815175Z",
     "iopub.status.idle": "2025-07-30T13:16:22.820225Z",
     "shell.execute_reply": "2025-07-30T13:16:22.819042Z"
    },
    "papermill": {
     "duration": 0.029722,
     "end_time": "2025-07-30T13:16:22.822122",
     "exception": false,
     "start_time": "2025-07-30T13:16:22.792400",
     "status": "completed"
    },
    "tags": []
   },
   "outputs": [],
   "source": [
    "#X_test = pd.read_csv(\"./data/X_test.csv\")\n",
    "#y_true = pd.read_csv(\"./data/y_test.csv\")"
   ]
  },
  {
   "cell_type": "code",
   "execution_count": 13,
   "id": "98a8d0fa-1d3d-4ed8-bb2c-281470e24add",
   "metadata": {
    "execution": {
     "iopub.execute_input": "2025-07-30T13:16:22.866299Z",
     "iopub.status.busy": "2025-07-30T13:16:22.865468Z",
     "iopub.status.idle": "2025-07-30T13:16:22.871145Z",
     "shell.execute_reply": "2025-07-30T13:16:22.870155Z"
    },
    "papermill": {
     "duration": 0.028361,
     "end_time": "2025-07-30T13:16:22.872727",
     "exception": false,
     "start_time": "2025-07-30T13:16:22.844366",
     "status": "completed"
    },
    "tags": []
   },
   "outputs": [],
   "source": [
    "# Calibration data for conformal\n",
    "#X_calib = pd.read_csv(\"./data/X_calib.csv\")\n",
    "#y_calib = pd.read_csv(\"./data/y_calib.csv\")"
   ]
  },
  {
   "cell_type": "markdown",
   "id": "997051c5-15bd-4b69-9786-c3001a3ce484",
   "metadata": {
    "papermill": {
     "duration": 0.020125,
     "end_time": "2025-07-30T13:16:22.914334",
     "exception": false,
     "start_time": "2025-07-30T13:16:22.894209",
     "status": "completed"
    },
    "tags": []
   },
   "source": [
    "# Splitting Data and Setting Training Data Size"
   ]
  },
  {
   "cell_type": "code",
   "execution_count": 14,
   "id": "e993b61f-042d-41a6-8c81-f55681f86335",
   "metadata": {
    "execution": {
     "iopub.execute_input": "2025-07-30T13:16:22.956986Z",
     "iopub.status.busy": "2025-07-30T13:16:22.956582Z",
     "iopub.status.idle": "2025-07-30T13:16:22.970453Z",
     "shell.execute_reply": "2025-07-30T13:16:22.969567Z"
    },
    "papermill": {
     "duration": 0.036984,
     "end_time": "2025-07-30T13:16:22.972071",
     "exception": false,
     "start_time": "2025-07-30T13:16:22.935087",
     "status": "completed"
    },
    "tags": []
   },
   "outputs": [],
   "source": [
    "def sample_by_year_size(df,\n",
    "                        training_year: str,\n",
    "                        training_size: str,\n",
    "                        random_state: int = 42):\n",
    "    # --- parse training_year into a list of int years ---\n",
    "    if \"_\" in training_year:\n",
    "        start_str, end_str = training_year.split(\"_\", 1)\n",
    "        start = int(start_str)\n",
    "        end   = int(end_str) if len(end_str) == 4 else (int(end_str) + (start // 100)*100)\n",
    "        years = list(range(start, end + 1))\n",
    "    else:\n",
    "        years = [int(training_year)]\n",
    "\n",
    "    df = df[df[\"year\"].isin(years)].reset_index(drop=True)\n",
    "\n",
    "    # --- map training_size to total number of samples ---\n",
    "    total_map = {\"25k\": 25_000, \"5k\": 5_000, \"1k\": 1_000}\n",
    "    if training_size not in total_map:\n",
    "        return df  # e.g. \"all\"\n",
    "\n",
    "    total_samples = total_map[training_size]\n",
    "    n_years       = len(years)\n",
    "    base          = total_samples // n_years\n",
    "    remainder     = total_samples % n_years\n",
    "\n",
    "    # --- build a dict: year -> how many to sample ---\n",
    "    # give +1 to the first `remainder` years in ascending order\n",
    "    quotas = {\n",
    "        year: base + (1 if idx < remainder else 0)\n",
    "        for idx, year in enumerate(sorted(years))\n",
    "    }\n",
    "\n",
    "    # --- sample per‐year according to the quota dict ---\n",
    "    sampled = (\n",
    "        df\n",
    "        .groupby(\"year\", group_keys=False)\n",
    "        .apply(lambda grp: grp.sample(\n",
    "            n=min(len(grp), quotas[grp.name]),\n",
    "            random_state=random_state))\n",
    "        .reset_index(drop=True)\n",
    "    )\n",
    "\n",
    "    return sampled"
   ]
  },
  {
   "cell_type": "code",
   "execution_count": 15,
   "id": "c0ccd338-0e02-41f3-a09d-f56f9266e3fb",
   "metadata": {
    "execution": {
     "iopub.execute_input": "2025-07-30T13:16:23.029831Z",
     "iopub.status.busy": "2025-07-30T13:16:23.028933Z",
     "iopub.status.idle": "2025-07-30T13:16:23.041062Z",
     "shell.execute_reply": "2025-07-30T13:16:23.039951Z"
    },
    "papermill": {
     "duration": 0.048543,
     "end_time": "2025-07-30T13:16:23.042737",
     "exception": false,
     "start_time": "2025-07-30T13:16:22.994194",
     "status": "completed"
    },
    "tags": []
   },
   "outputs": [
    {
     "data": {
      "text/plain": [
       "'25k'"
      ]
     },
     "execution_count": 15,
     "metadata": {},
     "output_type": "execute_result"
    }
   ],
   "source": [
    "universe[\"training_size\"]"
   ]
  },
  {
   "cell_type": "code",
   "execution_count": 16,
   "id": "ca707fd7-8047-4acd-bfa5-66248fbbf8e6",
   "metadata": {
    "execution": {
     "iopub.execute_input": "2025-07-30T13:16:23.088392Z",
     "iopub.status.busy": "2025-07-30T13:16:23.087875Z",
     "iopub.status.idle": "2025-07-30T13:16:23.095441Z",
     "shell.execute_reply": "2025-07-30T13:16:23.094430Z"
    },
    "papermill": {
     "duration": 0.032615,
     "end_time": "2025-07-30T13:16:23.097566",
     "exception": false,
     "start_time": "2025-07-30T13:16:23.064951",
     "status": "completed"
    },
    "tags": []
   },
   "outputs": [
    {
     "data": {
      "text/plain": [
       "'2012_14'"
      ]
     },
     "execution_count": 16,
     "metadata": {},
     "output_type": "execute_result"
    }
   ],
   "source": [
    "universe[\"training_year\"]"
   ]
  },
  {
   "cell_type": "code",
   "execution_count": 17,
   "id": "aea9c6ef-6f46-42c8-85eb-5a62025c1508",
   "metadata": {
    "execution": {
     "iopub.execute_input": "2025-07-30T13:16:23.144793Z",
     "iopub.status.busy": "2025-07-30T13:16:23.144100Z",
     "iopub.status.idle": "2025-07-30T13:16:23.846529Z",
     "shell.execute_reply": "2025-07-30T13:16:23.845533Z"
    },
    "papermill": {
     "duration": 0.728029,
     "end_time": "2025-07-30T13:16:23.848776",
     "exception": false,
     "start_time": "2025-07-30T13:16:23.120747",
     "status": "completed"
    },
    "tags": []
   },
   "outputs": [],
   "source": [
    "siab_train = sample_by_year_size(siab,\n",
    "                               training_year=universe[\"training_year\"],\n",
    "                               training_size=universe[\"training_size\"])"
   ]
  },
  {
   "cell_type": "code",
   "execution_count": 18,
   "id": "8d3afb32-789d-442c-8d5d-9f5aa8dd2eed",
   "metadata": {
    "execution": {
     "iopub.execute_input": "2025-07-30T13:16:23.895710Z",
     "iopub.status.busy": "2025-07-30T13:16:23.894970Z",
     "iopub.status.idle": "2025-07-30T13:16:23.902788Z",
     "shell.execute_reply": "2025-07-30T13:16:23.901816Z"
    },
    "papermill": {
     "duration": 0.032759,
     "end_time": "2025-07-30T13:16:23.904658",
     "exception": false,
     "start_time": "2025-07-30T13:16:23.871899",
     "status": "completed"
    },
    "tags": []
   },
   "outputs": [
    {
     "data": {
      "text/plain": [
       "(25000, 164)"
      ]
     },
     "execution_count": 18,
     "metadata": {},
     "output_type": "execute_result"
    }
   ],
   "source": [
    "siab_train.shape"
   ]
  },
  {
   "cell_type": "code",
   "execution_count": 19,
   "id": "d582db68-1a4c-47fb-84fc-08518dc1975a",
   "metadata": {
    "execution": {
     "iopub.execute_input": "2025-07-30T13:16:23.951544Z",
     "iopub.status.busy": "2025-07-30T13:16:23.950824Z",
     "iopub.status.idle": "2025-07-30T13:16:23.961581Z",
     "shell.execute_reply": "2025-07-30T13:16:23.960465Z"
    },
    "papermill": {
     "duration": 0.03589,
     "end_time": "2025-07-30T13:16:23.963506",
     "exception": false,
     "start_time": "2025-07-30T13:16:23.927616",
     "status": "completed"
    },
    "tags": []
   },
   "outputs": [
    {
     "data": {
      "text/plain": [
       "year\n",
       "2012    8334\n",
       "2013    8333\n",
       "2014    8333\n",
       "dtype: int64"
      ]
     },
     "metadata": {},
     "output_type": "display_data"
    }
   ],
   "source": [
    "display(siab_train.groupby(\"year\").size())"
   ]
  },
  {
   "cell_type": "code",
   "execution_count": 20,
   "id": "a561edb4-d032-42cb-8256-22eac1111c64",
   "metadata": {
    "execution": {
     "iopub.execute_input": "2025-07-30T13:16:24.011613Z",
     "iopub.status.busy": "2025-07-30T13:16:24.010902Z",
     "iopub.status.idle": "2025-07-30T13:16:24.253573Z",
     "shell.execute_reply": "2025-07-30T13:16:24.252573Z"
    },
    "papermill": {
     "duration": 0.268828,
     "end_time": "2025-07-30T13:16:24.255636",
     "exception": false,
     "start_time": "2025-07-30T13:16:23.986808",
     "status": "completed"
    },
    "tags": []
   },
   "outputs": [],
   "source": [
    "#siab_train = siab_s[siab_s.year < 2015]\n",
    "siab_calib = siab[siab.year == 2015]\n",
    "siab_test = siab[siab.year == 2016]"
   ]
  },
  {
   "cell_type": "code",
   "execution_count": 21,
   "id": "472de16f-c3db-4916-846b-1f0de9cf1746",
   "metadata": {
    "execution": {
     "iopub.execute_input": "2025-07-30T13:16:24.302423Z",
     "iopub.status.busy": "2025-07-30T13:16:24.301725Z",
     "iopub.status.idle": "2025-07-30T13:16:24.316485Z",
     "shell.execute_reply": "2025-07-30T13:16:24.315219Z"
    },
    "papermill": {
     "duration": 0.040042,
     "end_time": "2025-07-30T13:16:24.318332",
     "exception": false,
     "start_time": "2025-07-30T13:16:24.278290",
     "status": "completed"
    },
    "tags": []
   },
   "outputs": [],
   "source": [
    "X_train = siab_train.iloc[:,4:164]\n",
    "y_train = siab_train.iloc[:, [3]]"
   ]
  },
  {
   "cell_type": "code",
   "execution_count": 22,
   "id": "828c96af-f43a-4ed6-ba47-8ac73a47d56c",
   "metadata": {
    "execution": {
     "iopub.execute_input": "2025-07-30T13:16:24.365677Z",
     "iopub.status.busy": "2025-07-30T13:16:24.364975Z",
     "iopub.status.idle": "2025-07-30T13:16:24.419048Z",
     "shell.execute_reply": "2025-07-30T13:16:24.418022Z"
    },
    "papermill": {
     "duration": 0.080281,
     "end_time": "2025-07-30T13:16:24.421172",
     "exception": false,
     "start_time": "2025-07-30T13:16:24.340891",
     "status": "completed"
    },
    "tags": []
   },
   "outputs": [],
   "source": [
    "X_calib = siab_calib.iloc[:,4:164]\n",
    "y_calib = siab_calib.iloc[:, [3]]"
   ]
  },
  {
   "cell_type": "code",
   "execution_count": 23,
   "id": "c34be9c3-6bd6-476e-acd3-845840e303be",
   "metadata": {
    "execution": {
     "iopub.execute_input": "2025-07-30T13:16:24.469880Z",
     "iopub.status.busy": "2025-07-30T13:16:24.468945Z",
     "iopub.status.idle": "2025-07-30T13:16:24.531340Z",
     "shell.execute_reply": "2025-07-30T13:16:24.529386Z"
    },
    "papermill": {
     "duration": 0.088678,
     "end_time": "2025-07-30T13:16:24.533253",
     "exception": false,
     "start_time": "2025-07-30T13:16:24.444575",
     "status": "completed"
    },
    "tags": []
   },
   "outputs": [],
   "source": [
    "X_test = siab_test.iloc[:,4:164]\n",
    "y_true = siab_test.iloc[:, [3]]"
   ]
  },
  {
   "cell_type": "markdown",
   "id": "9901737e-04df-44f0-9100-f5ad144ed040",
   "metadata": {
    "papermill": {
     "duration": 0.023502,
     "end_time": "2025-07-30T13:16:24.581279",
     "exception": false,
     "start_time": "2025-07-30T13:16:24.557777",
     "status": "completed"
    },
    "tags": []
   },
   "source": [
    "# Splitting Data and Setting Training Data Size OLD VERSION"
   ]
  },
  {
   "cell_type": "code",
   "execution_count": 24,
   "id": "acbc8f7d-8fc8-4e86-8c59-5dcb0f58384b",
   "metadata": {
    "execution": {
     "iopub.execute_input": "2025-07-30T13:16:24.629566Z",
     "iopub.status.busy": "2025-07-30T13:16:24.628618Z",
     "iopub.status.idle": "2025-07-30T13:16:24.634484Z",
     "shell.execute_reply": "2025-07-30T13:16:24.633496Z"
    },
    "papermill": {
     "duration": 0.032004,
     "end_time": "2025-07-30T13:16:24.636194",
     "exception": false,
     "start_time": "2025-07-30T13:16:24.604190",
     "status": "completed"
    },
    "tags": []
   },
   "outputs": [],
   "source": [
    "#def sample_by_year(df, training_size, random_state=42):\n",
    "#    if training_size == \"2014\":\n",
    "#        return df[df[\"year\"] == 2014].reset_index(drop=True)\n",
    "#    \n",
    "#    size_map = {\n",
    "#        \"25k\": 5000,\n",
    "#        \"5k\": 1000,\n",
    "#        \"1k\": 200\n",
    "#    }\n",
    "#\n",
    "#    if training_size not in size_map:\n",
    "#        return df.reset_index(drop=True)  # use all data\n",
    "#\n",
    "#    n_per_year = size_map[training_size]\n",
    "#    grouped = df.groupby(\"year\")\n",
    "#    sampled = grouped.apply(lambda x: x.sample(n=min(n_per_year, len(x)), random_state=random_state))\n",
    "#    return sampled.reset_index(drop=True)"
   ]
  },
  {
   "cell_type": "code",
   "execution_count": 25,
   "id": "6d931f52-beaf-43ff-9e78-9d44a448d54e",
   "metadata": {
    "execution": {
     "iopub.execute_input": "2025-07-30T13:16:24.685093Z",
     "iopub.status.busy": "2025-07-30T13:16:24.684130Z",
     "iopub.status.idle": "2025-07-30T13:16:24.689733Z",
     "shell.execute_reply": "2025-07-30T13:16:24.688816Z"
    },
    "papermill": {
     "duration": 0.032413,
     "end_time": "2025-07-30T13:16:24.691442",
     "exception": false,
     "start_time": "2025-07-30T13:16:24.659029",
     "status": "completed"
    },
    "tags": []
   },
   "outputs": [],
   "source": [
    "#siab_s = sample_by_year(siab, universe[\"training_size\"])"
   ]
  },
  {
   "cell_type": "code",
   "execution_count": 26,
   "id": "5db0a40e-a4e2-4920-be85-b12ae061d70d",
   "metadata": {
    "execution": {
     "iopub.execute_input": "2025-07-30T13:16:24.740353Z",
     "iopub.status.busy": "2025-07-30T13:16:24.739615Z",
     "iopub.status.idle": "2025-07-30T13:16:24.744976Z",
     "shell.execute_reply": "2025-07-30T13:16:24.743791Z"
    },
    "papermill": {
     "duration": 0.031344,
     "end_time": "2025-07-30T13:16:24.746690",
     "exception": false,
     "start_time": "2025-07-30T13:16:24.715346",
     "status": "completed"
    },
    "tags": []
   },
   "outputs": [],
   "source": [
    "#display(siab_s.groupby(\"year\").size())"
   ]
  },
  {
   "cell_type": "code",
   "execution_count": 27,
   "id": "e6c733c5",
   "metadata": {
    "execution": {
     "iopub.execute_input": "2025-07-30T13:16:24.794933Z",
     "iopub.status.busy": "2025-07-30T13:16:24.794240Z",
     "iopub.status.idle": "2025-07-30T13:16:24.898093Z",
     "shell.execute_reply": "2025-07-30T13:16:24.897121Z"
    },
    "papermill": {
     "duration": 0.130426,
     "end_time": "2025-07-30T13:16:24.900247",
     "exception": false,
     "start_time": "2025-07-30T13:16:24.769821",
     "status": "completed"
    },
    "tags": []
   },
   "outputs": [],
   "source": [
    "# Auxiliary data needed downstream in the pipeline\n",
    "\n",
    "org_train = X_train.copy()\n",
    "org_test = X_test.copy()\n",
    "org_calib = X_calib.copy()"
   ]
  },
  {
   "cell_type": "code",
   "execution_count": 28,
   "id": "1466abac-c6da-4492-a62f-4240ae3783af",
   "metadata": {
    "execution": {
     "iopub.execute_input": "2025-07-30T13:16:24.949060Z",
     "iopub.status.busy": "2025-07-30T13:16:24.948091Z",
     "iopub.status.idle": "2025-07-30T13:16:24.954523Z",
     "shell.execute_reply": "2025-07-30T13:16:24.953573Z"
    },
    "papermill": {
     "duration": 0.033008,
     "end_time": "2025-07-30T13:16:24.956401",
     "exception": false,
     "start_time": "2025-07-30T13:16:24.923393",
     "status": "completed"
    },
    "tags": []
   },
   "outputs": [],
   "source": [
    "# put in other script?\n",
    "# Group sizes\n",
    "\n",
    "#def calculate_percentages(df, df_name):\n",
    "#    total_entries = len(df)\n",
    "#\n",
    "#    female_pct = (df['frau1'] == 1).mean() * 100\n",
    "#    non_german_pct = ((df['maxdeutsch1'] == 0) & (df['maxdeutsch.Missing.'] == 0)).mean() * 100\n",
    "#    non_german_male_pct = ((df['frau1'] == 0) & (df['maxdeutsch1'] == 0) & (df['maxdeutsch.Missing.'] == 0)).mean() * 100\n",
    "#    non_german_female_pct = ((df['frau1'] == 1) & (df['maxdeutsch1'] == 0) & (df['maxdeutsch.Missing.'] == 0)).mean() * 100\n",
    "#\n",
    "#    print(f\"--- {df_name} ---\")\n",
    "#    print(f\"Female: {female_pct:.2f}%\")\n",
    "#    print(f\"Non-German: {non_german_pct:.2f}%\")\n",
    "#    print(f\"Non-German Male: {non_german_male_pct:.2f}%\")\n",
    "#    print(f\"Non-German Female: {non_german_female_pct:.2f}%\\n\")\n",
    "#\n",
    "## Calculate for each DataFrame\n",
    "#calculate_percentages(siab_calib, \"siab_calib\")\n",
    "#calculate_percentages(siab_test, \"siab_test\")\n",
    "#calculate_percentages(siab_train, \"siab_train\")"
   ]
  },
  {
   "cell_type": "markdown",
   "id": "0a4a1b33",
   "metadata": {
    "papermill": {
     "duration": 0.023045,
     "end_time": "2025-07-30T13:16:25.004419",
     "exception": false,
     "start_time": "2025-07-30T13:16:24.981374",
     "status": "completed"
    },
    "tags": []
   },
   "source": [
    "# Preprocessing Data"
   ]
  },
  {
   "cell_type": "code",
   "execution_count": 29,
   "id": "ca879031",
   "metadata": {
    "execution": {
     "iopub.execute_input": "2025-07-30T13:16:25.052697Z",
     "iopub.status.busy": "2025-07-30T13:16:25.051921Z",
     "iopub.status.idle": "2025-07-30T13:16:25.058182Z",
     "shell.execute_reply": "2025-07-30T13:16:25.057312Z"
    },
    "papermill": {
     "duration": 0.032132,
     "end_time": "2025-07-30T13:16:25.059843",
     "exception": false,
     "start_time": "2025-07-30T13:16:25.027711",
     "status": "completed"
    },
    "tags": []
   },
   "outputs": [],
   "source": [
    "# EXCLUDE PROTECTED FEATURES\n",
    "# ----------------------\n",
    "# \"exclude_features\": \"none\", # \"nationality\", \"sex\", \"nationality-sex\"\n",
    "\n",
    "excluded_features = universe[\"exclude_features\"].split(\"-\") # split, e.g.: \"nationality-sex\" -> [\"nationality\", \"sex\"]\n",
    "excluded_features_dictionary = {\n",
    "    \"nationality\": [\"maxdeutsch1\", \"maxdeutsch.Missing.\"],\n",
    "    \"sex\": [\"frau1\"],\n",
    "    \"age\": [\"age\"],\n",
    "}\n"
   ]
  },
  {
   "cell_type": "code",
   "execution_count": 30,
   "id": "b745ac60",
   "metadata": {
    "execution": {
     "iopub.execute_input": "2025-07-30T13:16:25.109458Z",
     "iopub.status.busy": "2025-07-30T13:16:25.108951Z",
     "iopub.status.idle": "2025-07-30T13:16:25.115152Z",
     "shell.execute_reply": "2025-07-30T13:16:25.114230Z"
    },
    "papermill": {
     "duration": 0.034144,
     "end_time": "2025-07-30T13:16:25.116824",
     "exception": false,
     "start_time": "2025-07-30T13:16:25.082680",
     "status": "completed"
    },
    "tags": []
   },
   "outputs": [],
   "source": [
    "# Code nice names to column names\n",
    "\n",
    "excluded_features_columns = [\n",
    "    excluded_features_dictionary[f] for f in excluded_features if len(f) > 0 and f != \"none\"\n",
    "]"
   ]
  },
  {
   "cell_type": "code",
   "execution_count": 31,
   "id": "f84f73a2",
   "metadata": {
    "execution": {
     "iopub.execute_input": "2025-07-30T13:16:25.163878Z",
     "iopub.status.busy": "2025-07-30T13:16:25.163034Z",
     "iopub.status.idle": "2025-07-30T13:16:25.170142Z",
     "shell.execute_reply": "2025-07-30T13:16:25.169152Z"
    },
    "papermill": {
     "duration": 0.032328,
     "end_time": "2025-07-30T13:16:25.171867",
     "exception": false,
     "start_time": "2025-07-30T13:16:25.139539",
     "status": "completed"
    },
    "tags": []
   },
   "outputs": [],
   "source": [
    "from utils import flatten_once\n",
    "\n",
    "excluded_features_columns = flatten_once(excluded_features_columns)"
   ]
  },
  {
   "cell_type": "code",
   "execution_count": 32,
   "id": "884dea22",
   "metadata": {
    "execution": {
     "iopub.execute_input": "2025-07-30T13:16:25.219487Z",
     "iopub.status.busy": "2025-07-30T13:16:25.218573Z",
     "iopub.status.idle": "2025-07-30T13:16:25.238027Z",
     "shell.execute_reply": "2025-07-30T13:16:25.236902Z"
    },
    "papermill": {
     "duration": 0.044423,
     "end_time": "2025-07-30T13:16:25.239780",
     "exception": false,
     "start_time": "2025-07-30T13:16:25.195357",
     "status": "completed"
    },
    "tags": []
   },
   "outputs": [
    {
     "name": "stdout",
     "output_type": "stream",
     "text": [
      "Dropping features: ['age']\n"
     ]
    }
   ],
   "source": [
    "if len(excluded_features_columns) > 0:\n",
    "    print(f\"Dropping features: {excluded_features_columns}\")\n",
    "    X_train.drop(excluded_features_columns, axis=1, inplace=True)"
   ]
  },
  {
   "cell_type": "code",
   "execution_count": 33,
   "id": "95ab8b16",
   "metadata": {
    "execution": {
     "iopub.execute_input": "2025-07-30T13:16:25.297386Z",
     "iopub.status.busy": "2025-07-30T13:16:25.296856Z",
     "iopub.status.idle": "2025-07-30T13:16:25.350514Z",
     "shell.execute_reply": "2025-07-30T13:16:25.349233Z"
    },
    "papermill": {
     "duration": 0.088734,
     "end_time": "2025-07-30T13:16:25.352583",
     "exception": false,
     "start_time": "2025-07-30T13:16:25.263849",
     "status": "completed"
    },
    "tags": []
   },
   "outputs": [
    {
     "name": "stdout",
     "output_type": "stream",
     "text": [
      "Dropping features: ['age']\n"
     ]
    }
   ],
   "source": [
    "if len(excluded_features_columns) > 0:\n",
    "    print(f\"Dropping features: {excluded_features_columns}\")\n",
    "    X_test.drop(excluded_features_columns, axis=1, inplace=True)"
   ]
  },
  {
   "cell_type": "code",
   "execution_count": 34,
   "id": "1853aaf5-fb9f-46cb-a2b5-8ea4ae2237e4",
   "metadata": {
    "execution": {
     "iopub.execute_input": "2025-07-30T13:16:25.400596Z",
     "iopub.status.busy": "2025-07-30T13:16:25.399879Z",
     "iopub.status.idle": "2025-07-30T13:16:25.451969Z",
     "shell.execute_reply": "2025-07-30T13:16:25.450980Z"
    },
    "papermill": {
     "duration": 0.077145,
     "end_time": "2025-07-30T13:16:25.453842",
     "exception": false,
     "start_time": "2025-07-30T13:16:25.376697",
     "status": "completed"
    },
    "tags": []
   },
   "outputs": [
    {
     "name": "stdout",
     "output_type": "stream",
     "text": [
      "Dropping features: ['age']\n"
     ]
    }
   ],
   "source": [
    "if len(excluded_features_columns) > 0:\n",
    "    print(f\"Dropping features: {excluded_features_columns}\")\n",
    "    X_calib.drop(excluded_features_columns, axis=1, inplace=True)"
   ]
  },
  {
   "cell_type": "code",
   "execution_count": 35,
   "id": "6727d079-03e5-481e-9d38-292a90b7a0a8",
   "metadata": {
    "execution": {
     "iopub.execute_input": "2025-07-30T13:16:25.502475Z",
     "iopub.status.busy": "2025-07-30T13:16:25.501796Z",
     "iopub.status.idle": "2025-07-30T13:16:25.506740Z",
     "shell.execute_reply": "2025-07-30T13:16:25.505816Z"
    },
    "papermill": {
     "duration": 0.030494,
     "end_time": "2025-07-30T13:16:25.508645",
     "exception": false,
     "start_time": "2025-07-30T13:16:25.478151",
     "status": "completed"
    },
    "tags": []
   },
   "outputs": [],
   "source": [
    "# SPLIT & STRATIFY DATA\n",
    "# ----------------------"
   ]
  },
  {
   "cell_type": "code",
   "execution_count": 36,
   "id": "76c4dc6d",
   "metadata": {
    "execution": {
     "iopub.execute_input": "2025-07-30T13:16:25.558270Z",
     "iopub.status.busy": "2025-07-30T13:16:25.557321Z",
     "iopub.status.idle": "2025-07-30T13:16:25.563249Z",
     "shell.execute_reply": "2025-07-30T13:16:25.562352Z"
    },
    "papermill": {
     "duration": 0.031946,
     "end_time": "2025-07-30T13:16:25.565003",
     "exception": false,
     "start_time": "2025-07-30T13:16:25.533057",
     "status": "completed"
    },
    "tags": []
   },
   "outputs": [],
   "source": [
    "# EXCLUDE CERTAIN SUBGROUPS\n",
    "# ----------------------\n",
    "\n",
    "mode = universe.get(\"exclude_subgroups\", \"keep-all\") \n",
    "# Fetches the exclude_subgroups setting from the universe dict.\n",
    "# Defaults to \"keep-all\" if the key is missing."
   ]
  },
  {
   "cell_type": "code",
   "execution_count": 37,
   "id": "21994072",
   "metadata": {
    "execution": {
     "iopub.execute_input": "2025-07-30T13:16:25.614711Z",
     "iopub.status.busy": "2025-07-30T13:16:25.613795Z",
     "iopub.status.idle": "2025-07-30T13:16:25.620928Z",
     "shell.execute_reply": "2025-07-30T13:16:25.619994Z"
    },
    "papermill": {
     "duration": 0.033585,
     "end_time": "2025-07-30T13:16:25.622626",
     "exception": false,
     "start_time": "2025-07-30T13:16:25.589041",
     "status": "completed"
    },
    "tags": []
   },
   "outputs": [],
   "source": [
    "if mode == \"keep-all\":\n",
    "    keep_mask = pd.Series(True, index=org_train.index)\n",
    "\n",
    "# org_train contains the original feature columns from features_org (in Simson)\n",
    "# features_org contains unprocessed features, for me X_train at beginning ???\n",
    "# For keep-all, creates a boolean Series (keep_mask) of all True, so no rows are removed.\n",
    "\n",
    "elif mode == \"drop-non-german\":\n",
    "    keep_mask = org_train[\"maxdeutsch1\"] == 1 # ??? what about missing values?\n",
    "\n",
    "else:\n",
    "    raise ValueError(f\"Unsupported mode for exclude_subgroups: {mode}\")\n"
   ]
  },
  {
   "cell_type": "code",
   "execution_count": 38,
   "id": "71651440",
   "metadata": {
    "execution": {
     "iopub.execute_input": "2025-07-30T13:16:25.672212Z",
     "iopub.status.busy": "2025-07-30T13:16:25.671496Z",
     "iopub.status.idle": "2025-07-30T13:16:25.679187Z",
     "shell.execute_reply": "2025-07-30T13:16:25.678221Z"
    },
    "papermill": {
     "duration": 0.033784,
     "end_time": "2025-07-30T13:16:25.680767",
     "exception": false,
     "start_time": "2025-07-30T13:16:25.646983",
     "status": "completed"
    },
    "tags": []
   },
   "outputs": [
    {
     "name": "stdout",
     "output_type": "stream",
     "text": [
      "Dropping 3481 rows (13.92%) where mode='drop-non-german'\n"
     ]
    }
   ],
   "source": [
    "n_drop = (~keep_mask).sum() # Calculates how many rows are set to be dropped\n",
    "if n_drop > 0:\n",
    "    pct = n_drop / len(keep_mask) * 100\n",
    "    print(f\"Dropping {n_drop} rows ({pct:.2f}%) where mode='{mode}'\")"
   ]
  },
  {
   "cell_type": "code",
   "execution_count": 39,
   "id": "5fb8eee5",
   "metadata": {
    "execution": {
     "iopub.execute_input": "2025-07-30T13:16:25.730932Z",
     "iopub.status.busy": "2025-07-30T13:16:25.730055Z",
     "iopub.status.idle": "2025-07-30T13:16:25.747459Z",
     "shell.execute_reply": "2025-07-30T13:16:25.746381Z"
    },
    "papermill": {
     "duration": 0.044729,
     "end_time": "2025-07-30T13:16:25.749473",
     "exception": false,
     "start_time": "2025-07-30T13:16:25.704744",
     "status": "completed"
    },
    "tags": []
   },
   "outputs": [],
   "source": [
    "X_train = X_train[keep_mask]"
   ]
  },
  {
   "cell_type": "code",
   "execution_count": 40,
   "id": "b202bb3a",
   "metadata": {
    "execution": {
     "iopub.execute_input": "2025-07-30T13:16:25.800733Z",
     "iopub.status.busy": "2025-07-30T13:16:25.799850Z",
     "iopub.status.idle": "2025-07-30T13:16:25.806357Z",
     "shell.execute_reply": "2025-07-30T13:16:25.805443Z"
    },
    "papermill": {
     "duration": 0.033461,
     "end_time": "2025-07-30T13:16:25.808091",
     "exception": false,
     "start_time": "2025-07-30T13:16:25.774630",
     "status": "completed"
    },
    "tags": []
   },
   "outputs": [],
   "source": [
    "y_train = y_train[keep_mask]"
   ]
  },
  {
   "cell_type": "markdown",
   "id": "493e2ac3",
   "metadata": {
    "papermill": {
     "duration": 0.022681,
     "end_time": "2025-07-30T13:16:25.855765",
     "exception": false,
     "start_time": "2025-07-30T13:16:25.833084",
     "status": "completed"
    },
    "tags": []
   },
   "source": [
    "# Model Training"
   ]
  },
  {
   "cell_type": "code",
   "execution_count": 41,
   "id": "679e1268",
   "metadata": {
    "execution": {
     "iopub.execute_input": "2025-07-30T13:16:25.905632Z",
     "iopub.status.busy": "2025-07-30T13:16:25.904946Z",
     "iopub.status.idle": "2025-07-30T13:16:26.012557Z",
     "shell.execute_reply": "2025-07-30T13:16:26.011540Z"
    },
    "papermill": {
     "duration": 0.1346,
     "end_time": "2025-07-30T13:16:26.014647",
     "exception": false,
     "start_time": "2025-07-30T13:16:25.880047",
     "status": "completed"
    },
    "tags": []
   },
   "outputs": [],
   "source": [
    "from sklearn.linear_model import LogisticRegression\n",
    "from sklearn.ensemble import GradientBoostingClassifier, RandomForestClassifier\n",
    "\n",
    "if (universe[\"model\"] == \"logreg\"):\n",
    "    model = LogisticRegression() #penalty=\"none\") #, solver=\"newton-cg\", max_iter=1) # include random_state=19 ?\n",
    "elif (universe[\"model\"] == \"penalized_logreg\"):\n",
    "    model = LogisticRegression(penalty=\"l2\", C=1.0) #, solver=\"newton-cg\", max_iter=1)\n",
    "elif (universe[\"model\"] == \"rf\"):\n",
    "    model = RandomForestClassifier(n_estimators=100, n_jobs=-1)\n",
    "elif (universe[\"model\"] == \"gbm\"):\n",
    "    model = GradientBoostingClassifier()\n",
    "elif (universe[\"model\"] == \"elasticnet\"):\n",
    "    model = LogisticRegression(penalty = 'elasticnet', solver = 'saga', l1_ratio = 0.5, max_iter=5000) # which solver to use?\n",
    "else:\n",
    "    raise \"Unsupported universe.model\""
   ]
  },
  {
   "cell_type": "code",
   "execution_count": 42,
   "id": "0cc8f744",
   "metadata": {
    "execution": {
     "iopub.execute_input": "2025-07-30T13:16:26.064637Z",
     "iopub.status.busy": "2025-07-30T13:16:26.063694Z",
     "iopub.status.idle": "2025-07-30T13:16:26.070354Z",
     "shell.execute_reply": "2025-07-30T13:16:26.069413Z"
    },
    "papermill": {
     "duration": 0.032722,
     "end_time": "2025-07-30T13:16:26.071900",
     "exception": false,
     "start_time": "2025-07-30T13:16:26.039178",
     "status": "completed"
    },
    "tags": []
   },
   "outputs": [],
   "source": [
    "import numpy as np\n",
    "from sklearn.pipeline import Pipeline\n",
    "from sklearn.preprocessing import StandardScaler\n",
    "\n",
    "model = Pipeline([\n",
    "    #(\"continuous_processor\", continuous_processor),\n",
    "    #(\"categorical_preprocessor\", categorical_preprocessor),\n",
    "    (\"scale\", StandardScaler() if universe[\"scale\"] == \"scale\" else None), \n",
    "    (\"model\", model),\n",
    "])"
   ]
  },
  {
   "cell_type": "code",
   "execution_count": 43,
   "id": "9442c04d",
   "metadata": {
    "execution": {
     "iopub.execute_input": "2025-07-30T13:16:26.122918Z",
     "iopub.status.busy": "2025-07-30T13:16:26.122221Z",
     "iopub.status.idle": "2025-07-30T13:16:49.956251Z",
     "shell.execute_reply": "2025-07-30T13:16:49.955369Z"
    },
    "papermill": {
     "duration": 23.860811,
     "end_time": "2025-07-30T13:16:49.957633",
     "exception": false,
     "start_time": "2025-07-30T13:16:26.096822",
     "status": "completed"
    },
    "tags": []
   },
   "outputs": [
    {
     "data": {
      "text/html": [
       "<style>#sk-container-id-1 {color: black;background-color: white;}#sk-container-id-1 pre{padding: 0;}#sk-container-id-1 div.sk-toggleable {background-color: white;}#sk-container-id-1 label.sk-toggleable__label {cursor: pointer;display: block;width: 100%;margin-bottom: 0;padding: 0.3em;box-sizing: border-box;text-align: center;}#sk-container-id-1 label.sk-toggleable__label-arrow:before {content: \"▸\";float: left;margin-right: 0.25em;color: #696969;}#sk-container-id-1 label.sk-toggleable__label-arrow:hover:before {color: black;}#sk-container-id-1 div.sk-estimator:hover label.sk-toggleable__label-arrow:before {color: black;}#sk-container-id-1 div.sk-toggleable__content {max-height: 0;max-width: 0;overflow: hidden;text-align: left;background-color: #f0f8ff;}#sk-container-id-1 div.sk-toggleable__content pre {margin: 0.2em;color: black;border-radius: 0.25em;background-color: #f0f8ff;}#sk-container-id-1 input.sk-toggleable__control:checked~div.sk-toggleable__content {max-height: 200px;max-width: 100%;overflow: auto;}#sk-container-id-1 input.sk-toggleable__control:checked~label.sk-toggleable__label-arrow:before {content: \"▾\";}#sk-container-id-1 div.sk-estimator input.sk-toggleable__control:checked~label.sk-toggleable__label {background-color: #d4ebff;}#sk-container-id-1 div.sk-label input.sk-toggleable__control:checked~label.sk-toggleable__label {background-color: #d4ebff;}#sk-container-id-1 input.sk-hidden--visually {border: 0;clip: rect(1px 1px 1px 1px);clip: rect(1px, 1px, 1px, 1px);height: 1px;margin: -1px;overflow: hidden;padding: 0;position: absolute;width: 1px;}#sk-container-id-1 div.sk-estimator {font-family: monospace;background-color: #f0f8ff;border: 1px dotted black;border-radius: 0.25em;box-sizing: border-box;margin-bottom: 0.5em;}#sk-container-id-1 div.sk-estimator:hover {background-color: #d4ebff;}#sk-container-id-1 div.sk-parallel-item::after {content: \"\";width: 100%;border-bottom: 1px solid gray;flex-grow: 1;}#sk-container-id-1 div.sk-label:hover label.sk-toggleable__label {background-color: #d4ebff;}#sk-container-id-1 div.sk-serial::before {content: \"\";position: absolute;border-left: 1px solid gray;box-sizing: border-box;top: 0;bottom: 0;left: 50%;z-index: 0;}#sk-container-id-1 div.sk-serial {display: flex;flex-direction: column;align-items: center;background-color: white;padding-right: 0.2em;padding-left: 0.2em;position: relative;}#sk-container-id-1 div.sk-item {position: relative;z-index: 1;}#sk-container-id-1 div.sk-parallel {display: flex;align-items: stretch;justify-content: center;background-color: white;position: relative;}#sk-container-id-1 div.sk-item::before, #sk-container-id-1 div.sk-parallel-item::before {content: \"\";position: absolute;border-left: 1px solid gray;box-sizing: border-box;top: 0;bottom: 0;left: 50%;z-index: -1;}#sk-container-id-1 div.sk-parallel-item {display: flex;flex-direction: column;z-index: 1;position: relative;background-color: white;}#sk-container-id-1 div.sk-parallel-item:first-child::after {align-self: flex-end;width: 50%;}#sk-container-id-1 div.sk-parallel-item:last-child::after {align-self: flex-start;width: 50%;}#sk-container-id-1 div.sk-parallel-item:only-child::after {width: 0;}#sk-container-id-1 div.sk-dashed-wrapped {border: 1px dashed gray;margin: 0 0.4em 0.5em 0.4em;box-sizing: border-box;padding-bottom: 0.4em;background-color: white;}#sk-container-id-1 div.sk-label label {font-family: monospace;font-weight: bold;display: inline-block;line-height: 1.2em;}#sk-container-id-1 div.sk-label-container {text-align: center;}#sk-container-id-1 div.sk-container {/* jupyter's `normalize.less` sets `[hidden] { display: none; }` but bootstrap.min.css set `[hidden] { display: none !important; }` so we also need the `!important` here to be able to override the default hidden behavior on the sphinx rendered scikit-learn.org. See: https://github.com/scikit-learn/scikit-learn/issues/21755 */display: inline-block !important;position: relative;}#sk-container-id-1 div.sk-text-repr-fallback {display: none;}</style><div id=\"sk-container-id-1\" class=\"sk-top-container\"><div class=\"sk-text-repr-fallback\"><pre>Pipeline(steps=[(&#x27;scale&#x27;, None), (&#x27;model&#x27;, GradientBoostingClassifier())])</pre><b>In a Jupyter environment, please rerun this cell to show the HTML representation or trust the notebook. <br />On GitHub, the HTML representation is unable to render, please try loading this page with nbviewer.org.</b></div><div class=\"sk-container\" hidden><div class=\"sk-item sk-dashed-wrapped\"><div class=\"sk-label-container\"><div class=\"sk-label sk-toggleable\"><input class=\"sk-toggleable__control sk-hidden--visually\" id=\"sk-estimator-id-1\" type=\"checkbox\" ><label for=\"sk-estimator-id-1\" class=\"sk-toggleable__label sk-toggleable__label-arrow\">Pipeline</label><div class=\"sk-toggleable__content\"><pre>Pipeline(steps=[(&#x27;scale&#x27;, None), (&#x27;model&#x27;, GradientBoostingClassifier())])</pre></div></div></div><div class=\"sk-serial\"><div class=\"sk-item\"><div class=\"sk-estimator sk-toggleable\"><input class=\"sk-toggleable__control sk-hidden--visually\" id=\"sk-estimator-id-2\" type=\"checkbox\" ><label for=\"sk-estimator-id-2\" class=\"sk-toggleable__label sk-toggleable__label-arrow\">None</label><div class=\"sk-toggleable__content\"><pre>None</pre></div></div></div><div class=\"sk-item\"><div class=\"sk-estimator sk-toggleable\"><input class=\"sk-toggleable__control sk-hidden--visually\" id=\"sk-estimator-id-3\" type=\"checkbox\" ><label for=\"sk-estimator-id-3\" class=\"sk-toggleable__label sk-toggleable__label-arrow\">GradientBoostingClassifier</label><div class=\"sk-toggleable__content\"><pre>GradientBoostingClassifier()</pre></div></div></div></div></div></div></div>"
      ],
      "text/plain": [
       "Pipeline(steps=[('scale', None), ('model', GradientBoostingClassifier())])"
      ]
     },
     "execution_count": 43,
     "metadata": {},
     "output_type": "execute_result"
    }
   ],
   "source": [
    "model.fit(X_train, y_train.values.ravel())"
   ]
  },
  {
   "cell_type": "code",
   "execution_count": 44,
   "id": "af59f8c0",
   "metadata": {
    "execution": {
     "iopub.execute_input": "2025-07-30T13:16:49.987342Z",
     "iopub.status.busy": "2025-07-30T13:16:49.986949Z",
     "iopub.status.idle": "2025-07-30T13:16:49.991823Z",
     "shell.execute_reply": "2025-07-30T13:16:49.991128Z"
    },
    "papermill": {
     "duration": 0.020433,
     "end_time": "2025-07-30T13:16:49.993306",
     "exception": false,
     "start_time": "2025-07-30T13:16:49.972873",
     "status": "completed"
    },
    "tags": []
   },
   "outputs": [],
   "source": [
    "from fairness_multiverse.universe import predict_w_threshold"
   ]
  },
  {
   "cell_type": "code",
   "execution_count": 45,
   "id": "a7cf2e16",
   "metadata": {
    "execution": {
     "iopub.execute_input": "2025-07-30T13:16:50.021321Z",
     "iopub.status.busy": "2025-07-30T13:16:50.020829Z",
     "iopub.status.idle": "2025-07-30T13:16:50.763527Z",
     "shell.execute_reply": "2025-07-30T13:16:50.762644Z"
    },
    "papermill": {
     "duration": 0.758051,
     "end_time": "2025-07-30T13:16:50.765275",
     "exception": false,
     "start_time": "2025-07-30T13:16:50.007224",
     "status": "completed"
    },
    "tags": []
   },
   "outputs": [
    {
     "data": {
      "text/plain": [
       "0.8688774941478096"
      ]
     },
     "execution_count": 45,
     "metadata": {},
     "output_type": "execute_result"
    }
   ],
   "source": [
    "probs_test = model.predict_proba(X_test)\n",
    "\n",
    "'''\n",
    "Below code returns a boolean array (or binary 0/1 array depending on how it’s used) where each element \n",
    "is True if the probability of class 1 is greater than or equal to the threshold, and False otherwise.\n",
    "'''\n",
    "y_pred_default = predict_w_threshold(probs_test, 0.5)\n",
    "\n",
    "from sklearn.metrics import accuracy_score\n",
    "\n",
    "# Naive prediction\n",
    "accuracy_score(y_true = y_true, y_pred = y_pred_default)"
   ]
  },
  {
   "cell_type": "code",
   "execution_count": 46,
   "id": "081964c3",
   "metadata": {
    "execution": {
     "iopub.execute_input": "2025-07-30T13:16:50.813645Z",
     "iopub.status.busy": "2025-07-30T13:16:50.812991Z",
     "iopub.status.idle": "2025-07-30T13:16:51.509838Z",
     "shell.execute_reply": "2025-07-30T13:16:51.508773Z"
    },
    "papermill": {
     "duration": 0.723138,
     "end_time": "2025-07-30T13:16:51.511546",
     "exception": false,
     "start_time": "2025-07-30T13:16:50.788408",
     "status": "completed"
    },
    "tags": []
   },
   "outputs": [
    {
     "data": {
      "text/plain": [
       "array([0, 0, 0, ..., 0, 0, 0])"
      ]
     },
     "execution_count": 46,
     "metadata": {},
     "output_type": "execute_result"
    }
   ],
   "source": [
    "model.predict(X_test)"
   ]
  },
  {
   "cell_type": "markdown",
   "id": "56c9705b",
   "metadata": {
    "papermill": {
     "duration": 0.022029,
     "end_time": "2025-07-30T13:16:51.560001",
     "exception": false,
     "start_time": "2025-07-30T13:16:51.537972",
     "status": "completed"
    },
    "tags": []
   },
   "source": [
    "# Conformal Prediction"
   ]
  },
  {
   "cell_type": "code",
   "execution_count": 47,
   "id": "160ec6ff",
   "metadata": {
    "execution": {
     "iopub.execute_input": "2025-07-30T13:16:51.605478Z",
     "iopub.status.busy": "2025-07-30T13:16:51.605027Z",
     "iopub.status.idle": "2025-07-30T13:16:51.609798Z",
     "shell.execute_reply": "2025-07-30T13:16:51.609006Z"
    },
    "papermill": {
     "duration": 0.028842,
     "end_time": "2025-07-30T13:16:51.611053",
     "exception": false,
     "start_time": "2025-07-30T13:16:51.582211",
     "status": "completed"
    },
    "tags": []
   },
   "outputs": [],
   "source": [
    "# Miscoverage level for conformal prediction (10% allowed error rate => 90% target coverage)\n",
    "alpha = 0.1"
   ]
  },
  {
   "cell_type": "code",
   "execution_count": 48,
   "id": "eadf4555-3dd3-440e-8e35-f82a4ad9f855",
   "metadata": {
    "execution": {
     "iopub.execute_input": "2025-07-30T13:16:51.638735Z",
     "iopub.status.busy": "2025-07-30T13:16:51.638038Z",
     "iopub.status.idle": "2025-07-30T13:16:52.034985Z",
     "shell.execute_reply": "2025-07-30T13:16:52.034206Z"
    },
    "papermill": {
     "duration": 0.411981,
     "end_time": "2025-07-30T13:16:52.036520",
     "exception": false,
     "start_time": "2025-07-30T13:16:51.624539",
     "status": "completed"
    },
    "tags": []
   },
   "outputs": [],
   "source": [
    "probs_calib = model.predict_proba(X_calib)"
   ]
  },
  {
   "cell_type": "code",
   "execution_count": 49,
   "id": "2ed93547-6d5d-4983-9b36-1ecb300da49a",
   "metadata": {
    "execution": {
     "iopub.execute_input": "2025-07-30T13:16:52.063671Z",
     "iopub.status.busy": "2025-07-30T13:16:52.063323Z",
     "iopub.status.idle": "2025-07-30T13:16:52.068421Z",
     "shell.execute_reply": "2025-07-30T13:16:52.067730Z"
    },
    "papermill": {
     "duration": 0.020282,
     "end_time": "2025-07-30T13:16:52.069860",
     "exception": false,
     "start_time": "2025-07-30T13:16:52.049578",
     "status": "completed"
    },
    "tags": []
   },
   "outputs": [],
   "source": [
    "y_calib = y_calib.values.ravel().astype(int)"
   ]
  },
  {
   "cell_type": "code",
   "execution_count": 50,
   "id": "65d1320d-f588-4b38-9072-62af1ae97f7d",
   "metadata": {
    "execution": {
     "iopub.execute_input": "2025-07-30T13:16:52.098119Z",
     "iopub.status.busy": "2025-07-30T13:16:52.097772Z",
     "iopub.status.idle": "2025-07-30T13:16:52.104982Z",
     "shell.execute_reply": "2025-07-30T13:16:52.104146Z"
    },
    "papermill": {
     "duration": 0.02236,
     "end_time": "2025-07-30T13:16:52.106434",
     "exception": false,
     "start_time": "2025-07-30T13:16:52.084074",
     "status": "completed"
    },
    "tags": []
   },
   "outputs": [],
   "source": [
    "from fairness_multiverse.conformal import compute_nc_scores\n",
    "\n",
    "# Compute nonconformity scores on calibration set (1 - probability of true class)\n",
    "nc_scores = compute_nc_scores(probs_calib, y_calib)"
   ]
  },
  {
   "cell_type": "code",
   "execution_count": 51,
   "id": "df3b8ca3-53b7-43d5-9667-7c85da7aeda2",
   "metadata": {
    "execution": {
     "iopub.execute_input": "2025-07-30T13:16:52.134442Z",
     "iopub.status.busy": "2025-07-30T13:16:52.133948Z",
     "iopub.status.idle": "2025-07-30T13:16:52.139989Z",
     "shell.execute_reply": "2025-07-30T13:16:52.139224Z"
    },
    "papermill": {
     "duration": 0.021364,
     "end_time": "2025-07-30T13:16:52.141415",
     "exception": false,
     "start_time": "2025-07-30T13:16:52.120051",
     "status": "completed"
    },
    "tags": []
   },
   "outputs": [],
   "source": [
    "from fairness_multiverse.conformal import find_threshold\n",
    "\n",
    "# Find conformal threshold q_hat for the given alpha (split conformal method)\n",
    "q_hat = find_threshold(nc_scores, alpha)"
   ]
  },
  {
   "cell_type": "code",
   "execution_count": 52,
   "id": "4d29e6c1-0ef6-4aa4-b8fe-4fe79b0d033a",
   "metadata": {
    "execution": {
     "iopub.execute_input": "2025-07-30T13:16:52.170274Z",
     "iopub.status.busy": "2025-07-30T13:16:52.169762Z",
     "iopub.status.idle": "2025-07-30T13:16:52.175944Z",
     "shell.execute_reply": "2025-07-30T13:16:52.175191Z"
    },
    "papermill": {
     "duration": 0.022078,
     "end_time": "2025-07-30T13:16:52.177401",
     "exception": false,
     "start_time": "2025-07-30T13:16:52.155323",
     "status": "completed"
    },
    "tags": []
   },
   "outputs": [
    {
     "data": {
      "text/plain": [
       "0.6778659500485036"
      ]
     },
     "execution_count": 52,
     "metadata": {},
     "output_type": "execute_result"
    }
   ],
   "source": [
    "q_hat"
   ]
  },
  {
   "cell_type": "code",
   "execution_count": 53,
   "id": "92460794-cdac-4be2-ba28-f28c0515a6fb",
   "metadata": {
    "execution": {
     "iopub.execute_input": "2025-07-30T13:16:52.206238Z",
     "iopub.status.busy": "2025-07-30T13:16:52.205741Z",
     "iopub.status.idle": "2025-07-30T13:16:53.023460Z",
     "shell.execute_reply": "2025-07-30T13:16:53.022559Z"
    },
    "papermill": {
     "duration": 0.833866,
     "end_time": "2025-07-30T13:16:53.025311",
     "exception": false,
     "start_time": "2025-07-30T13:16:52.191445",
     "status": "completed"
    },
    "tags": []
   },
   "outputs": [],
   "source": [
    "from fairness_multiverse.conformal import predict_conformal_sets\n",
    "\n",
    "# Generate prediction sets for each test example\n",
    "pred_sets = predict_conformal_sets(model, X_test, q_hat)"
   ]
  },
  {
   "cell_type": "code",
   "execution_count": 54,
   "id": "d90c9a65-e6db-4f5d-80cd-e68fb7e46829",
   "metadata": {
    "execution": {
     "iopub.execute_input": "2025-07-30T13:16:53.076819Z",
     "iopub.status.busy": "2025-07-30T13:16:53.075918Z",
     "iopub.status.idle": "2025-07-30T13:16:53.081149Z",
     "shell.execute_reply": "2025-07-30T13:16:53.080470Z"
    },
    "papermill": {
     "duration": 0.030554,
     "end_time": "2025-07-30T13:16:53.082371",
     "exception": false,
     "start_time": "2025-07-30T13:16:53.051817",
     "status": "completed"
    },
    "tags": []
   },
   "outputs": [],
   "source": [
    "y_true = y_true.squeeze()"
   ]
  },
  {
   "cell_type": "code",
   "execution_count": 55,
   "id": "3a58a54a-1e68-46b9-927a-df01f18aebc8",
   "metadata": {
    "execution": {
     "iopub.execute_input": "2025-07-30T13:16:53.115362Z",
     "iopub.status.busy": "2025-07-30T13:16:53.114927Z",
     "iopub.status.idle": "2025-07-30T13:16:53.653763Z",
     "shell.execute_reply": "2025-07-30T13:16:53.652985Z"
    },
    "papermill": {
     "duration": 0.554133,
     "end_time": "2025-07-30T13:16:53.655176",
     "exception": false,
     "start_time": "2025-07-30T13:16:53.101043",
     "status": "completed"
    },
    "tags": []
   },
   "outputs": [],
   "source": [
    "from fairness_multiverse.conformal import evaluate_sets\n",
    "\n",
    "# Evaluate coverage and average set size on test data\n",
    "metrics = evaluate_sets(pred_sets, y_true)"
   ]
  },
  {
   "cell_type": "markdown",
   "id": "2b569c12-9aaa-4c88-98c9-bbcd0cf3ebb8",
   "metadata": {
    "papermill": {
     "duration": 0.012279,
     "end_time": "2025-07-30T13:16:53.680758",
     "exception": false,
     "start_time": "2025-07-30T13:16:53.668479",
     "status": "completed"
    },
    "tags": []
   },
   "source": [
    "# CP Metrics"
   ]
  },
  {
   "cell_type": "code",
   "execution_count": 56,
   "id": "5ce0a5cb-201f-45a0-ade5-94c7f0bd6095",
   "metadata": {
    "execution": {
     "iopub.execute_input": "2025-07-30T13:16:53.707257Z",
     "iopub.status.busy": "2025-07-30T13:16:53.706771Z",
     "iopub.status.idle": "2025-07-30T13:16:53.713053Z",
     "shell.execute_reply": "2025-07-30T13:16:53.712333Z"
    },
    "papermill": {
     "duration": 0.021219,
     "end_time": "2025-07-30T13:16:53.714437",
     "exception": false,
     "start_time": "2025-07-30T13:16:53.693218",
     "status": "completed"
    },
    "tags": []
   },
   "outputs": [
    {
     "data": {
      "text/plain": [
       "{'coverage': 0.9112807936684874, 'avg_size': 1.1217478541968566}"
      ]
     },
     "execution_count": 56,
     "metadata": {},
     "output_type": "execute_result"
    }
   ],
   "source": [
    "metrics"
   ]
  },
  {
   "cell_type": "code",
   "execution_count": 57,
   "id": "9b9a838d-31c9-430b-ae14-12baee460d17",
   "metadata": {
    "execution": {
     "iopub.execute_input": "2025-07-30T13:16:53.741961Z",
     "iopub.status.busy": "2025-07-30T13:16:53.741326Z",
     "iopub.status.idle": "2025-07-30T13:16:53.746350Z",
     "shell.execute_reply": "2025-07-30T13:16:53.745683Z"
    },
    "papermill": {
     "duration": 0.01982,
     "end_time": "2025-07-30T13:16:53.747771",
     "exception": false,
     "start_time": "2025-07-30T13:16:53.727951",
     "status": "completed"
    },
    "tags": []
   },
   "outputs": [],
   "source": [
    "example_universe = universe.copy()\n",
    "universe_training_size = example_universe.get(\"training_size\")\n",
    "universe_scale = example_universe.get(\"scale\")\n",
    "universe_model = example_universe.get(\"model\")\n",
    "universe_exclude_features = example_universe.get(\"exclude_features\")\n",
    "universe_exclude_subgroups = example_universe.get(\"exclude_subgroups\")"
   ]
  },
  {
   "cell_type": "code",
   "execution_count": 58,
   "id": "f4b6a8ac-9dc0-4245-8a91-5b3b5999c4f9",
   "metadata": {
    "execution": {
     "iopub.execute_input": "2025-07-30T13:16:53.775674Z",
     "iopub.status.busy": "2025-07-30T13:16:53.775181Z",
     "iopub.status.idle": "2025-07-30T13:16:53.780497Z",
     "shell.execute_reply": "2025-07-30T13:16:53.779773Z"
    },
    "papermill": {
     "duration": 0.020096,
     "end_time": "2025-07-30T13:16:53.781850",
     "exception": false,
     "start_time": "2025-07-30T13:16:53.761754",
     "status": "completed"
    },
    "tags": []
   },
   "outputs": [],
   "source": [
    "cp_metrics_dict = {\n",
    "    \"universe_id\": [universe_id],\n",
    "    \"universe_training_size\": [universe_training_size],\n",
    "    \"universe_scale\": [universe_scale],\n",
    "    \"universe_model\": [universe_model],\n",
    "    \"universe_exclude_features\": [universe_exclude_features],\n",
    "    \"universe_exclude_subgroups\": [universe_exclude_subgroups],\n",
    "    \"q_hat\": [q_hat],\n",
    "    \"coverage\": [metrics[\"coverage\"]],\n",
    "    \"avg_size\": [metrics[\"avg_size\"]],\n",
    "}"
   ]
  },
  {
   "cell_type": "code",
   "execution_count": 59,
   "id": "908acbb1-0371-4915-85ca-3fa520d2efe2",
   "metadata": {
    "execution": {
     "iopub.execute_input": "2025-07-30T13:16:53.809725Z",
     "iopub.status.busy": "2025-07-30T13:16:53.809203Z",
     "iopub.status.idle": "2025-07-30T13:16:53.815348Z",
     "shell.execute_reply": "2025-07-30T13:16:53.814642Z"
    },
    "papermill": {
     "duration": 0.021259,
     "end_time": "2025-07-30T13:16:53.816778",
     "exception": false,
     "start_time": "2025-07-30T13:16:53.795519",
     "status": "completed"
    },
    "tags": []
   },
   "outputs": [
    {
     "data": {
      "text/plain": [
       "{'universe_id': ['5d83e97d94109b78c6fd03439ea0fb0c'],\n",
       " 'universe_training_size': ['25k'],\n",
       " 'universe_scale': ['do-not-scale'],\n",
       " 'universe_model': ['gbm'],\n",
       " 'universe_exclude_features': ['age'],\n",
       " 'universe_exclude_subgroups': ['drop-non-german'],\n",
       " 'q_hat': [0.6778659500485036],\n",
       " 'coverage': [0.9112807936684874],\n",
       " 'avg_size': [1.1217478541968566]}"
      ]
     },
     "execution_count": 59,
     "metadata": {},
     "output_type": "execute_result"
    }
   ],
   "source": [
    "cp_metrics_dict"
   ]
  },
  {
   "cell_type": "code",
   "execution_count": 60,
   "id": "33007efc-14e9-4ec6-97ac-56a455c82265",
   "metadata": {
    "execution": {
     "iopub.execute_input": "2025-07-30T13:16:53.844745Z",
     "iopub.status.busy": "2025-07-30T13:16:53.844190Z",
     "iopub.status.idle": "2025-07-30T13:16:53.849249Z",
     "shell.execute_reply": "2025-07-30T13:16:53.848453Z"
    },
    "papermill": {
     "duration": 0.019874,
     "end_time": "2025-07-30T13:16:53.850594",
     "exception": false,
     "start_time": "2025-07-30T13:16:53.830720",
     "status": "completed"
    },
    "tags": []
   },
   "outputs": [],
   "source": [
    "cp_metrics_df = pd.DataFrame(cp_metrics_dict)"
   ]
  },
  {
   "cell_type": "code",
   "execution_count": 61,
   "id": "db12611b-57b2-4910-b9d0-355adfd6e7bf",
   "metadata": {
    "execution": {
     "iopub.execute_input": "2025-07-30T13:16:53.878934Z",
     "iopub.status.busy": "2025-07-30T13:16:53.878303Z",
     "iopub.status.idle": "2025-07-30T13:16:53.891531Z",
     "shell.execute_reply": "2025-07-30T13:16:53.890835Z"
    },
    "papermill": {
     "duration": 0.028226,
     "end_time": "2025-07-30T13:16:53.892881",
     "exception": false,
     "start_time": "2025-07-30T13:16:53.864655",
     "status": "completed"
    },
    "tags": []
   },
   "outputs": [
    {
     "data": {
      "text/html": [
       "<div>\n",
       "<style scoped>\n",
       "    .dataframe tbody tr th:only-of-type {\n",
       "        vertical-align: middle;\n",
       "    }\n",
       "\n",
       "    .dataframe tbody tr th {\n",
       "        vertical-align: top;\n",
       "    }\n",
       "\n",
       "    .dataframe thead th {\n",
       "        text-align: right;\n",
       "    }\n",
       "</style>\n",
       "<table border=\"1\" class=\"dataframe\">\n",
       "  <thead>\n",
       "    <tr style=\"text-align: right;\">\n",
       "      <th></th>\n",
       "      <th>universe_id</th>\n",
       "      <th>universe_training_size</th>\n",
       "      <th>universe_scale</th>\n",
       "      <th>universe_model</th>\n",
       "      <th>universe_exclude_features</th>\n",
       "      <th>universe_exclude_subgroups</th>\n",
       "      <th>q_hat</th>\n",
       "      <th>coverage</th>\n",
       "      <th>avg_size</th>\n",
       "    </tr>\n",
       "  </thead>\n",
       "  <tbody>\n",
       "    <tr>\n",
       "      <th>0</th>\n",
       "      <td>5d83e97d94109b78c6fd03439ea0fb0c</td>\n",
       "      <td>25k</td>\n",
       "      <td>do-not-scale</td>\n",
       "      <td>gbm</td>\n",
       "      <td>age</td>\n",
       "      <td>drop-non-german</td>\n",
       "      <td>0.677866</td>\n",
       "      <td>0.911281</td>\n",
       "      <td>1.121748</td>\n",
       "    </tr>\n",
       "  </tbody>\n",
       "</table>\n",
       "</div>"
      ],
      "text/plain": [
       "                        universe_id universe_training_size universe_scale  \\\n",
       "0  5d83e97d94109b78c6fd03439ea0fb0c                    25k   do-not-scale   \n",
       "\n",
       "  universe_model universe_exclude_features universe_exclude_subgroups  \\\n",
       "0            gbm                       age            drop-non-german   \n",
       "\n",
       "      q_hat  coverage  avg_size  \n",
       "0  0.677866  0.911281  1.121748  "
      ]
     },
     "execution_count": 61,
     "metadata": {},
     "output_type": "execute_result"
    }
   ],
   "source": [
    "cp_metrics_df"
   ]
  },
  {
   "cell_type": "code",
   "execution_count": 62,
   "id": "b7fbde55-a0a1-47e4-9af6-fe4a17fa8c61",
   "metadata": {
    "execution": {
     "iopub.execute_input": "2025-07-30T13:16:53.921151Z",
     "iopub.status.busy": "2025-07-30T13:16:53.920434Z",
     "iopub.status.idle": "2025-07-30T13:16:53.924767Z",
     "shell.execute_reply": "2025-07-30T13:16:53.924097Z"
    },
    "papermill": {
     "duration": 0.019343,
     "end_time": "2025-07-30T13:16:53.926057",
     "exception": false,
     "start_time": "2025-07-30T13:16:53.906714",
     "status": "completed"
    },
    "tags": []
   },
   "outputs": [],
   "source": [
    "# Conditional Coverage & looking at subgroups"
   ]
  },
  {
   "cell_type": "code",
   "execution_count": 63,
   "id": "027ae886-68dd-4141-96c7-805a5450e1ef",
   "metadata": {
    "execution": {
     "iopub.execute_input": "2025-07-30T13:16:53.954714Z",
     "iopub.status.busy": "2025-07-30T13:16:53.954223Z",
     "iopub.status.idle": "2025-07-30T13:16:54.208017Z",
     "shell.execute_reply": "2025-07-30T13:16:54.207121Z"
    },
    "papermill": {
     "duration": 0.269223,
     "end_time": "2025-07-30T13:16:54.209574",
     "exception": false,
     "start_time": "2025-07-30T13:16:53.940351",
     "status": "completed"
    },
    "tags": []
   },
   "outputs": [],
   "source": [
    "from fairness_multiverse.conformal import build_cp_groups\n",
    "\n",
    "cp_groups_df = build_cp_groups(pred_sets, y_true, X_test.index, org_test)\n",
    "#needs universe_id and setting"
   ]
  },
  {
   "cell_type": "code",
   "execution_count": 64,
   "id": "01d5802c-663a-4d1f-9d69-e036faaffbf7",
   "metadata": {
    "execution": {
     "iopub.execute_input": "2025-07-30T13:16:54.259312Z",
     "iopub.status.busy": "2025-07-30T13:16:54.258897Z",
     "iopub.status.idle": "2025-07-30T13:16:54.263700Z",
     "shell.execute_reply": "2025-07-30T13:16:54.262680Z"
    },
    "papermill": {
     "duration": 0.034722,
     "end_time": "2025-07-30T13:16:54.265519",
     "exception": false,
     "start_time": "2025-07-30T13:16:54.230797",
     "status": "completed"
    },
    "tags": []
   },
   "outputs": [],
   "source": [
    "#delete\n",
    "#cp_groups_df"
   ]
  },
  {
   "cell_type": "code",
   "execution_count": 65,
   "id": "fa424af1-d1eb-443d-b717-2d279ada8408",
   "metadata": {
    "execution": {
     "iopub.execute_input": "2025-07-30T13:16:54.320544Z",
     "iopub.status.busy": "2025-07-30T13:16:54.320100Z",
     "iopub.status.idle": "2025-07-30T13:16:54.324966Z",
     "shell.execute_reply": "2025-07-30T13:16:54.324041Z"
    },
    "papermill": {
     "duration": 0.034983,
     "end_time": "2025-07-30T13:16:54.326643",
     "exception": false,
     "start_time": "2025-07-30T13:16:54.291660",
     "status": "completed"
    },
    "tags": []
   },
   "outputs": [],
   "source": [
    "#delete\n",
    "#percentage = (cp_groups_df['nongerman_female'] == 1).mean() * 100\n",
    "#print(percentage)\n"
   ]
  },
  {
   "cell_type": "code",
   "execution_count": 66,
   "id": "6cbdab96-b2b2-45af-ad54-d0516db2e28d",
   "metadata": {
    "execution": {
     "iopub.execute_input": "2025-07-30T13:16:54.381623Z",
     "iopub.status.busy": "2025-07-30T13:16:54.381175Z",
     "iopub.status.idle": "2025-07-30T13:16:55.789256Z",
     "shell.execute_reply": "2025-07-30T13:16:55.788333Z"
    },
    "papermill": {
     "duration": 1.438791,
     "end_time": "2025-07-30T13:16:55.791142",
     "exception": false,
     "start_time": "2025-07-30T13:16:54.352351",
     "status": "completed"
    },
    "tags": []
   },
   "outputs": [],
   "source": [
    "# Define covered = 1 if true_label is in the predicted set\n",
    "cp_groups_df['covered'] = cp_groups_df.apply(\n",
    "    lambda r: int(r['true_label'] in r['pred_set']),\n",
    "    axis=1\n",
    ")"
   ]
  },
  {
   "cell_type": "code",
   "execution_count": 67,
   "id": "338ff529-1a6b-4b87-a931-8e4788d52aad",
   "metadata": {
    "execution": {
     "iopub.execute_input": "2025-07-30T13:16:55.841216Z",
     "iopub.status.busy": "2025-07-30T13:16:55.840621Z",
     "iopub.status.idle": "2025-07-30T13:16:55.845844Z",
     "shell.execute_reply": "2025-07-30T13:16:55.844809Z"
    },
    "papermill": {
     "duration": 0.031552,
     "end_time": "2025-07-30T13:16:55.847341",
     "exception": false,
     "start_time": "2025-07-30T13:16:55.815789",
     "status": "completed"
    },
    "tags": []
   },
   "outputs": [],
   "source": [
    "#cp_groups_df"
   ]
  },
  {
   "cell_type": "code",
   "execution_count": 68,
   "id": "90032e27-66df-4540-9169-4e89cfbaa758",
   "metadata": {
    "execution": {
     "iopub.execute_input": "2025-07-30T13:16:55.897580Z",
     "iopub.status.busy": "2025-07-30T13:16:55.896754Z",
     "iopub.status.idle": "2025-07-30T13:16:55.908332Z",
     "shell.execute_reply": "2025-07-30T13:16:55.907424Z"
    },
    "papermill": {
     "duration": 0.037875,
     "end_time": "2025-07-30T13:16:55.910005",
     "exception": false,
     "start_time": "2025-07-30T13:16:55.872130",
     "status": "completed"
    },
    "tags": []
   },
   "outputs": [],
   "source": [
    "subgroups = ['frau1','nongerman','nongerman_male','nongerman_female']\n",
    "\n",
    "# Conditional coverage for subgroup==1\n",
    "cond_coverage = {\n",
    "    g: cp_groups_df.loc[cp_groups_df[g]==1, 'covered'].mean()\n",
    "    for g in subgroups\n",
    "}"
   ]
  },
  {
   "cell_type": "code",
   "execution_count": 69,
   "id": "1e348fb1-b9c3-45bc-ba23-f016827a7e0d",
   "metadata": {
    "execution": {
     "iopub.execute_input": "2025-07-30T13:16:55.969503Z",
     "iopub.status.busy": "2025-07-30T13:16:55.968863Z",
     "iopub.status.idle": "2025-07-30T13:16:55.975975Z",
     "shell.execute_reply": "2025-07-30T13:16:55.975018Z"
    },
    "papermill": {
     "duration": 0.038197,
     "end_time": "2025-07-30T13:16:55.977691",
     "exception": false,
     "start_time": "2025-07-30T13:16:55.939494",
     "status": "completed"
    },
    "tags": []
   },
   "outputs": [
    {
     "data": {
      "text/plain": [
       "{'frau1': 0.9117670845127376,\n",
       " 'nongerman': 0.9061921068882277,\n",
       " 'nongerman_male': 0.9231739169593803,\n",
       " 'nongerman_female': 0.8780923994038748}"
      ]
     },
     "execution_count": 69,
     "metadata": {},
     "output_type": "execute_result"
    }
   ],
   "source": [
    "cond_coverage"
   ]
  },
  {
   "cell_type": "code",
   "execution_count": 70,
   "id": "f5093324-c3dd-4d63-bc4c-8d945e5c8bbb",
   "metadata": {
    "execution": {
     "iopub.execute_input": "2025-07-30T13:16:56.080852Z",
     "iopub.status.busy": "2025-07-30T13:16:56.080170Z",
     "iopub.status.idle": "2025-07-30T13:16:56.087817Z",
     "shell.execute_reply": "2025-07-30T13:16:56.086898Z"
    },
    "papermill": {
     "duration": 0.039466,
     "end_time": "2025-07-30T13:16:56.089723",
     "exception": false,
     "start_time": "2025-07-30T13:16:56.050257",
     "status": "completed"
    },
    "tags": []
   },
   "outputs": [],
   "source": [
    "for subgroup, cov in cond_coverage.items():\n",
    "    cp_metrics_df[f\"cov_{subgroup}\"] = cov"
   ]
  },
  {
   "cell_type": "code",
   "execution_count": 71,
   "id": "6e872e10-dbe5-49e8-b554-5030c98ff75d",
   "metadata": {
    "execution": {
     "iopub.execute_input": "2025-07-30T13:16:56.149939Z",
     "iopub.status.busy": "2025-07-30T13:16:56.149493Z",
     "iopub.status.idle": "2025-07-30T13:16:56.167177Z",
     "shell.execute_reply": "2025-07-30T13:16:56.166212Z"
    },
    "papermill": {
     "duration": 0.049486,
     "end_time": "2025-07-30T13:16:56.168991",
     "exception": false,
     "start_time": "2025-07-30T13:16:56.119505",
     "status": "completed"
    },
    "tags": []
   },
   "outputs": [
    {
     "data": {
      "text/html": [
       "<div>\n",
       "<style scoped>\n",
       "    .dataframe tbody tr th:only-of-type {\n",
       "        vertical-align: middle;\n",
       "    }\n",
       "\n",
       "    .dataframe tbody tr th {\n",
       "        vertical-align: top;\n",
       "    }\n",
       "\n",
       "    .dataframe thead th {\n",
       "        text-align: right;\n",
       "    }\n",
       "</style>\n",
       "<table border=\"1\" class=\"dataframe\">\n",
       "  <thead>\n",
       "    <tr style=\"text-align: right;\">\n",
       "      <th></th>\n",
       "      <th>universe_id</th>\n",
       "      <th>universe_training_size</th>\n",
       "      <th>universe_scale</th>\n",
       "      <th>universe_model</th>\n",
       "      <th>universe_exclude_features</th>\n",
       "      <th>universe_exclude_subgroups</th>\n",
       "      <th>q_hat</th>\n",
       "      <th>coverage</th>\n",
       "      <th>avg_size</th>\n",
       "      <th>cov_frau1</th>\n",
       "      <th>cov_nongerman</th>\n",
       "      <th>cov_nongerman_male</th>\n",
       "      <th>cov_nongerman_female</th>\n",
       "    </tr>\n",
       "  </thead>\n",
       "  <tbody>\n",
       "    <tr>\n",
       "      <th>0</th>\n",
       "      <td>5d83e97d94109b78c6fd03439ea0fb0c</td>\n",
       "      <td>25k</td>\n",
       "      <td>do-not-scale</td>\n",
       "      <td>gbm</td>\n",
       "      <td>age</td>\n",
       "      <td>drop-non-german</td>\n",
       "      <td>0.677866</td>\n",
       "      <td>0.911281</td>\n",
       "      <td>1.121748</td>\n",
       "      <td>0.911767</td>\n",
       "      <td>0.906192</td>\n",
       "      <td>0.923174</td>\n",
       "      <td>0.878092</td>\n",
       "    </tr>\n",
       "  </tbody>\n",
       "</table>\n",
       "</div>"
      ],
      "text/plain": [
       "                        universe_id universe_training_size universe_scale  \\\n",
       "0  5d83e97d94109b78c6fd03439ea0fb0c                    25k   do-not-scale   \n",
       "\n",
       "  universe_model universe_exclude_features universe_exclude_subgroups  \\\n",
       "0            gbm                       age            drop-non-german   \n",
       "\n",
       "      q_hat  coverage  avg_size  cov_frau1  cov_nongerman  cov_nongerman_male  \\\n",
       "0  0.677866  0.911281  1.121748   0.911767       0.906192            0.923174   \n",
       "\n",
       "   cov_nongerman_female  \n",
       "0              0.878092  "
      ]
     },
     "execution_count": 71,
     "metadata": {},
     "output_type": "execute_result"
    }
   ],
   "source": [
    "cp_metrics_df"
   ]
  },
  {
   "cell_type": "markdown",
   "id": "33774451",
   "metadata": {
    "papermill": {
     "duration": 0.02915,
     "end_time": "2025-07-30T13:16:56.228492",
     "exception": false,
     "start_time": "2025-07-30T13:16:56.199342",
     "status": "completed"
    },
    "tags": []
   },
   "source": [
    "# (Fairness) Metrics"
   ]
  },
  {
   "cell_type": "code",
   "execution_count": 72,
   "id": "debc5d62",
   "metadata": {
    "execution": {
     "iopub.execute_input": "2025-07-30T13:16:56.289180Z",
     "iopub.status.busy": "2025-07-30T13:16:56.288540Z",
     "iopub.status.idle": "2025-07-30T13:16:56.309637Z",
     "shell.execute_reply": "2025-07-30T13:16:56.308753Z"
    },
    "papermill": {
     "duration": 0.053213,
     "end_time": "2025-07-30T13:16:56.311400",
     "exception": false,
     "start_time": "2025-07-30T13:16:56.258187",
     "status": "completed"
    },
    "tags": []
   },
   "outputs": [],
   "source": [
    "# do I need to include maxdeutsch1.missing?\n",
    "\n",
    "import numpy as np\n",
    "\n",
    "colname_to_bin = \"maxdeutsch1\"\n",
    "majority_value = org_train[colname_to_bin].mode()[0]\n",
    "\n",
    "org_test[\"majmin\"] = np.where(org_test[colname_to_bin] == majority_value, \"majority\", \"minority\")"
   ]
  },
  {
   "cell_type": "code",
   "execution_count": 73,
   "id": "06a50de5",
   "metadata": {
    "execution": {
     "iopub.execute_input": "2025-07-30T13:16:56.372564Z",
     "iopub.status.busy": "2025-07-30T13:16:56.372114Z",
     "iopub.status.idle": "2025-07-30T13:16:59.273338Z",
     "shell.execute_reply": "2025-07-30T13:16:59.272093Z"
    },
    "papermill": {
     "duration": 2.933605,
     "end_time": "2025-07-30T13:16:59.275330",
     "exception": false,
     "start_time": "2025-07-30T13:16:56.341725",
     "status": "completed"
    },
    "tags": []
   },
   "outputs": [],
   "source": [
    "example_universe = universe.copy()\n",
    "example_universe[\"cutoff\"] = example_universe[\"cutoff\"][0]\n",
    "example_universe[\"eval_fairness_grouping\"] = example_universe[\"eval_fairness_grouping\"][0]\n",
    "fairness_dict, metric_frame = universe_analysis.compute_metrics(\n",
    "    example_universe,\n",
    "    y_pred_prob=probs_test,\n",
    "    y_test=y_true,\n",
    "    org_test=org_test,\n",
    ")"
   ]
  },
  {
   "cell_type": "markdown",
   "id": "f95d4e02",
   "metadata": {
    "papermill": {
     "duration": 0.024954,
     "end_time": "2025-07-30T13:16:59.327202",
     "exception": false,
     "start_time": "2025-07-30T13:16:59.302248",
     "status": "completed"
    },
    "tags": []
   },
   "source": [
    "# Overall"
   ]
  },
  {
   "cell_type": "markdown",
   "id": "bdee4871",
   "metadata": {
    "papermill": {
     "duration": 0.025077,
     "end_time": "2025-07-30T13:16:59.378362",
     "exception": false,
     "start_time": "2025-07-30T13:16:59.353285",
     "status": "completed"
    },
    "tags": []
   },
   "source": [
    "Fairness\n",
    "Main fairness target: Equalized Odds. Seems to be a better fit than equal opportunity, since we're not only interested in Y = 1. Seems to be a better fit than demographic parity, since we also care about accuracy, not just equal distribution of preds.\n",
    "\n",
    "Pick column for computation of fairness metrics\n",
    "\n",
    "Performance\n",
    "Overall performance measures, most interesting in relation to the measures split by group below"
   ]
  },
  {
   "cell_type": "code",
   "execution_count": 74,
   "id": "c4e067c6",
   "metadata": {
    "execution": {
     "iopub.execute_input": "2025-07-30T13:16:59.432136Z",
     "iopub.status.busy": "2025-07-30T13:16:59.431396Z",
     "iopub.status.idle": "2025-07-30T13:16:59.440566Z",
     "shell.execute_reply": "2025-07-30T13:16:59.439605Z"
    },
    "papermill": {
     "duration": 0.038511,
     "end_time": "2025-07-30T13:16:59.442131",
     "exception": false,
     "start_time": "2025-07-30T13:16:59.403620",
     "status": "completed"
    },
    "tags": []
   },
   "outputs": [
    {
     "data": {
      "text/plain": [
       "accuracy                   0.224958\n",
       "balanced accuracy          0.549931\n",
       "f1                         0.246274\n",
       "precision                  0.140688\n",
       "false positive rate        0.887190\n",
       "false negative rate        0.012948\n",
       "selection rate             0.900000\n",
       "count                  89710.000000\n",
       "dtype: float64"
      ]
     },
     "execution_count": 74,
     "metadata": {},
     "output_type": "execute_result"
    }
   ],
   "source": [
    "metric_frame.overall"
   ]
  },
  {
   "cell_type": "markdown",
   "id": "e968fe9d",
   "metadata": {
    "papermill": {
     "duration": 0.025873,
     "end_time": "2025-07-30T13:16:59.494691",
     "exception": false,
     "start_time": "2025-07-30T13:16:59.468818",
     "status": "completed"
    },
    "tags": []
   },
   "source": [
    "By Group"
   ]
  },
  {
   "cell_type": "code",
   "execution_count": 75,
   "id": "ec325bce",
   "metadata": {
    "execution": {
     "iopub.execute_input": "2025-07-30T13:16:59.548405Z",
     "iopub.status.busy": "2025-07-30T13:16:59.547638Z",
     "iopub.status.idle": "2025-07-30T13:16:59.564778Z",
     "shell.execute_reply": "2025-07-30T13:16:59.563841Z"
    },
    "papermill": {
     "duration": 0.045826,
     "end_time": "2025-07-30T13:16:59.566485",
     "exception": false,
     "start_time": "2025-07-30T13:16:59.520659",
     "status": "completed"
    },
    "tags": []
   },
   "outputs": [
    {
     "data": {
      "text/html": [
       "<div>\n",
       "<style scoped>\n",
       "    .dataframe tbody tr th:only-of-type {\n",
       "        vertical-align: middle;\n",
       "    }\n",
       "\n",
       "    .dataframe tbody tr th {\n",
       "        vertical-align: top;\n",
       "    }\n",
       "\n",
       "    .dataframe thead th {\n",
       "        text-align: right;\n",
       "    }\n",
       "</style>\n",
       "<table border=\"1\" class=\"dataframe\">\n",
       "  <thead>\n",
       "    <tr style=\"text-align: right;\">\n",
       "      <th></th>\n",
       "      <th>accuracy</th>\n",
       "      <th>balanced accuracy</th>\n",
       "      <th>f1</th>\n",
       "      <th>precision</th>\n",
       "      <th>false positive rate</th>\n",
       "      <th>false negative rate</th>\n",
       "      <th>selection rate</th>\n",
       "      <th>count</th>\n",
       "    </tr>\n",
       "    <tr>\n",
       "      <th>majmin</th>\n",
       "      <th></th>\n",
       "      <th></th>\n",
       "      <th></th>\n",
       "      <th></th>\n",
       "      <th></th>\n",
       "      <th></th>\n",
       "      <th></th>\n",
       "      <th></th>\n",
       "    </tr>\n",
       "  </thead>\n",
       "  <tbody>\n",
       "    <tr>\n",
       "      <th>majority</th>\n",
       "      <td>0.235145</td>\n",
       "      <td>0.554059</td>\n",
       "      <td>0.254408</td>\n",
       "      <td>0.146012</td>\n",
       "      <td>0.879410</td>\n",
       "      <td>0.012473</td>\n",
       "      <td>0.893697</td>\n",
       "      <td>69170.0</td>\n",
       "    </tr>\n",
       "    <tr>\n",
       "      <th>minority</th>\n",
       "      <td>0.190652</td>\n",
       "      <td>0.536166</td>\n",
       "      <td>0.219164</td>\n",
       "      <td>0.123296</td>\n",
       "      <td>0.912888</td>\n",
       "      <td>0.014780</td>\n",
       "      <td>0.921227</td>\n",
       "      <td>20540.0</td>\n",
       "    </tr>\n",
       "  </tbody>\n",
       "</table>\n",
       "</div>"
      ],
      "text/plain": [
       "          accuracy  balanced accuracy        f1  precision  \\\n",
       "majmin                                                       \n",
       "majority  0.235145           0.554059  0.254408   0.146012   \n",
       "minority  0.190652           0.536166  0.219164   0.123296   \n",
       "\n",
       "          false positive rate  false negative rate  selection rate    count  \n",
       "majmin                                                                       \n",
       "majority             0.879410             0.012473        0.893697  69170.0  \n",
       "minority             0.912888             0.014780        0.921227  20540.0  "
      ]
     },
     "execution_count": 75,
     "metadata": {},
     "output_type": "execute_result"
    }
   ],
   "source": [
    "metric_frame.by_group"
   ]
  },
  {
   "cell_type": "code",
   "execution_count": 76,
   "id": "a9ddbe63",
   "metadata": {
    "execution": {
     "iopub.execute_input": "2025-07-30T13:16:59.619224Z",
     "iopub.status.busy": "2025-07-30T13:16:59.618717Z",
     "iopub.status.idle": "2025-07-30T13:17:01.820515Z",
     "shell.execute_reply": "2025-07-30T13:17:01.819607Z"
    },
    "papermill": {
     "duration": 2.229405,
     "end_time": "2025-07-30T13:17:01.822108",
     "exception": false,
     "start_time": "2025-07-30T13:16:59.592703",
     "status": "completed"
    },
    "tags": []
   },
   "outputs": [
    {
     "data": {
      "text/plain": [
       "array([[<Axes: title={'center': 'accuracy'}, xlabel='majmin'>,\n",
       "        <Axes: title={'center': 'balanced accuracy'}, xlabel='majmin'>,\n",
       "        <Axes: title={'center': 'f1'}, xlabel='majmin'>],\n",
       "       [<Axes: title={'center': 'precision'}, xlabel='majmin'>,\n",
       "        <Axes: title={'center': 'false positive rate'}, xlabel='majmin'>,\n",
       "        <Axes: title={'center': 'false negative rate'}, xlabel='majmin'>],\n",
       "       [<Axes: title={'center': 'selection rate'}, xlabel='majmin'>,\n",
       "        <Axes: title={'center': 'count'}, xlabel='majmin'>,\n",
       "        <Axes: xlabel='majmin'>]], dtype=object)"
      ]
     },
     "execution_count": 76,
     "metadata": {},
     "output_type": "execute_result"
    },
    {
     "data": {
      "image/png": "[encoded data removed]",
      "text/plain": [
       "<Figure size 1200x800 with 9 Axes>"
      ]
     },
     "metadata": {},
     "output_type": "display_data"
    }
   ],
   "source": [
    "# In a graphic\n",
    "metric_frame.by_group.plot.bar(\n",
    "    subplots=True,\n",
    "    layout=[3, 3],\n",
    "    legend=False,\n",
    "    figsize=[12, 8],\n",
    "    title=\"Show all metrics\",\n",
    ")"
   ]
  },
  {
   "cell_type": "markdown",
   "id": "f57a0bac",
   "metadata": {
    "papermill": {
     "duration": 0.027147,
     "end_time": "2025-07-30T13:17:01.876889",
     "exception": false,
     "start_time": "2025-07-30T13:17:01.849742",
     "status": "completed"
    },
    "tags": []
   },
   "source": [
    "# Final Output"
   ]
  },
  {
   "cell_type": "code",
   "execution_count": 77,
   "id": "96d280a3",
   "metadata": {
    "execution": {
     "iopub.execute_input": "2025-07-30T13:17:01.934061Z",
     "iopub.status.busy": "2025-07-30T13:17:01.933260Z",
     "iopub.status.idle": "2025-07-30T13:17:01.941045Z",
     "shell.execute_reply": "2025-07-30T13:17:01.940174Z"
    },
    "papermill": {
     "duration": 0.038555,
     "end_time": "2025-07-30T13:17:01.942626",
     "exception": false,
     "start_time": "2025-07-30T13:17:01.904071",
     "status": "completed"
    },
    "tags": []
   },
   "outputs": [
    {
     "data": {
      "text/plain": [
       "4"
      ]
     },
     "execution_count": 77,
     "metadata": {},
     "output_type": "execute_result"
    }
   ],
   "source": [
    "sub_universes = universe_analysis.generate_sub_universes()\n",
    "len(sub_universes)"
   ]
  },
  {
   "cell_type": "code",
   "execution_count": 78,
   "id": "92adf7ba",
   "metadata": {
    "execution": {
     "iopub.execute_input": "2025-07-30T13:17:01.999828Z",
     "iopub.status.busy": "2025-07-30T13:17:01.999191Z",
     "iopub.status.idle": "2025-07-30T13:17:02.005193Z",
     "shell.execute_reply": "2025-07-30T13:17:02.004254Z"
    },
    "papermill": {
     "duration": 0.035969,
     "end_time": "2025-07-30T13:17:02.006914",
     "exception": false,
     "start_time": "2025-07-30T13:17:01.970945",
     "status": "completed"
    },
    "tags": []
   },
   "outputs": [],
   "source": [
    "def filter_sub_universe_data(sub_universe, org_test):\n",
    "    # Keep all rows — no filtering\n",
    "    keep_rows_mask = np.ones(org_test.shape[0], dtype=bool)\n",
    "\n",
    "    print(f\"[INFO] Keeping all rows: {keep_rows_mask.sum()} rows retained.\")\n",
    "    return keep_rows_mask"
   ]
  },
  {
   "cell_type": "code",
   "execution_count": 79,
   "id": "4a759155",
   "metadata": {
    "execution": {
     "iopub.execute_input": "2025-07-30T13:17:02.064924Z",
     "iopub.status.busy": "2025-07-30T13:17:02.064475Z",
     "iopub.status.idle": "2025-07-30T13:17:13.245905Z",
     "shell.execute_reply": "2025-07-30T13:17:13.245044Z"
    },
    "papermill": {
     "duration": 11.211066,
     "end_time": "2025-07-30T13:17:13.247415",
     "exception": false,
     "start_time": "2025-07-30T13:17:02.036349",
     "status": "completed"
    },
    "tags": []
   },
   "outputs": [
    {
     "name": "stdout",
     "output_type": "stream",
     "text": [
      "Stopping execution_time clock.\n",
      "[INFO] Keeping all rows: 89710 rows retained.\n"
     ]
    },
    {
     "name": "stdout",
     "output_type": "stream",
     "text": [
      "[INFO] Keeping all rows: 89710 rows retained.\n"
     ]
    },
    {
     "name": "stdout",
     "output_type": "stream",
     "text": [
      "[INFO] Keeping all rows: 89710 rows retained.\n"
     ]
    },
    {
     "name": "stdout",
     "output_type": "stream",
     "text": [
      "[INFO] Keeping all rows: 89710 rows retained.\n"
     ]
    },
    {
     "data": {
      "text/html": [
       "<div>\n",
       "<style scoped>\n",
       "    .dataframe tbody tr th:only-of-type {\n",
       "        vertical-align: middle;\n",
       "    }\n",
       "\n",
       "    .dataframe tbody tr th {\n",
       "        vertical-align: top;\n",
       "    }\n",
       "\n",
       "    .dataframe thead th {\n",
       "        text-align: right;\n",
       "    }\n",
       "</style>\n",
       "<table border=\"1\" class=\"dataframe\">\n",
       "  <thead>\n",
       "    <tr style=\"text-align: right;\">\n",
       "      <th></th>\n",
       "      <th>run_no</th>\n",
       "      <th>universe_id</th>\n",
       "      <th>universe_settings</th>\n",
       "      <th>execution_time</th>\n",
       "      <th>test_size_n</th>\n",
       "      <th>test_size_frac</th>\n",
       "      <th>fair_main_equalized_odds_difference</th>\n",
       "      <th>fair_main_equalized_odds_ratio</th>\n",
       "      <th>fair_main_demographic_parity_difference</th>\n",
       "      <th>fair_main_demographic_parity_ratio</th>\n",
       "      <th>...</th>\n",
       "      <th>perf_grp_precision_0</th>\n",
       "      <th>perf_grp_precision_1</th>\n",
       "      <th>perf_grp_false positive rate_0</th>\n",
       "      <th>perf_grp_false positive rate_1</th>\n",
       "      <th>perf_grp_false negative rate_0</th>\n",
       "      <th>perf_grp_false negative rate_1</th>\n",
       "      <th>perf_grp_selection rate_0</th>\n",
       "      <th>perf_grp_selection rate_1</th>\n",
       "      <th>perf_grp_count_0</th>\n",
       "      <th>perf_grp_count_1</th>\n",
       "    </tr>\n",
       "  </thead>\n",
       "  <tbody>\n",
       "    <tr>\n",
       "      <th>0</th>\n",
       "      <td>12</td>\n",
       "      <td>5d83e97d94109b78c6fd03439ea0fb0c</td>\n",
       "      <td>{\"cutoff\": \"quantile_0.1\", \"eval_fairness_grou...</td>\n",
       "      <td>51.26403</td>\n",
       "      <td>89710</td>\n",
       "      <td>1.0</td>\n",
       "      <td>0.033478</td>\n",
       "      <td>0.963328</td>\n",
       "      <td>0.027530</td>\n",
       "      <td>0.970116</td>\n",
       "      <td>...</td>\n",
       "      <td>NaN</td>\n",
       "      <td>NaN</td>\n",
       "      <td>NaN</td>\n",
       "      <td>NaN</td>\n",
       "      <td>NaN</td>\n",
       "      <td>NaN</td>\n",
       "      <td>NaN</td>\n",
       "      <td>NaN</td>\n",
       "      <td>NaN</td>\n",
       "      <td>NaN</td>\n",
       "    </tr>\n",
       "    <tr>\n",
       "      <th>0</th>\n",
       "      <td>12</td>\n",
       "      <td>5d83e97d94109b78c6fd03439ea0fb0c</td>\n",
       "      <td>{\"cutoff\": \"quantile_0.1\", \"eval_fairness_grou...</td>\n",
       "      <td>51.26403</td>\n",
       "      <td>89710</td>\n",
       "      <td>1.0</td>\n",
       "      <td>0.033478</td>\n",
       "      <td>0.963328</td>\n",
       "      <td>0.027530</td>\n",
       "      <td>0.970116</td>\n",
       "      <td>...</td>\n",
       "      <td>0.123296</td>\n",
       "      <td>0.146012</td>\n",
       "      <td>0.912888</td>\n",
       "      <td>0.879410</td>\n",
       "      <td>0.014780</td>\n",
       "      <td>0.012473</td>\n",
       "      <td>0.921227</td>\n",
       "      <td>0.893697</td>\n",
       "      <td>20540.0</td>\n",
       "      <td>69170.0</td>\n",
       "    </tr>\n",
       "    <tr>\n",
       "      <th>0</th>\n",
       "      <td>12</td>\n",
       "      <td>5d83e97d94109b78c6fd03439ea0fb0c</td>\n",
       "      <td>{\"cutoff\": \"quantile_0.25\", \"eval_fairness_gro...</td>\n",
       "      <td>51.26403</td>\n",
       "      <td>89710</td>\n",
       "      <td>1.0</td>\n",
       "      <td>0.110693</td>\n",
       "      <td>0.862714</td>\n",
       "      <td>0.092069</td>\n",
       "      <td>0.887855</td>\n",
       "      <td>...</td>\n",
       "      <td>NaN</td>\n",
       "      <td>NaN</td>\n",
       "      <td>NaN</td>\n",
       "      <td>NaN</td>\n",
       "      <td>NaN</td>\n",
       "      <td>NaN</td>\n",
       "      <td>NaN</td>\n",
       "      <td>NaN</td>\n",
       "      <td>NaN</td>\n",
       "      <td>NaN</td>\n",
       "    </tr>\n",
       "    <tr>\n",
       "      <th>0</th>\n",
       "      <td>12</td>\n",
       "      <td>5d83e97d94109b78c6fd03439ea0fb0c</td>\n",
       "      <td>{\"cutoff\": \"quantile_0.25\", \"eval_fairness_gro...</td>\n",
       "      <td>51.26403</td>\n",
       "      <td>89710</td>\n",
       "      <td>1.0</td>\n",
       "      <td>0.110693</td>\n",
       "      <td>0.862714</td>\n",
       "      <td>0.092069</td>\n",
       "      <td>0.887855</td>\n",
       "      <td>...</td>\n",
       "      <td>0.131115</td>\n",
       "      <td>0.171800</td>\n",
       "      <td>0.806295</td>\n",
       "      <td>0.695602</td>\n",
       "      <td>0.066301</td>\n",
       "      <td>0.052298</td>\n",
       "      <td>0.820983</td>\n",
       "      <td>0.728914</td>\n",
       "      <td>20540.0</td>\n",
       "      <td>69170.0</td>\n",
       "    </tr>\n",
       "  </tbody>\n",
       "</table>\n",
       "<p>4 rows × 50 columns</p>\n",
       "</div>"
      ],
      "text/plain": [
       "  run_no                       universe_id  \\\n",
       "0     12  5d83e97d94109b78c6fd03439ea0fb0c   \n",
       "0     12  5d83e97d94109b78c6fd03439ea0fb0c   \n",
       "0     12  5d83e97d94109b78c6fd03439ea0fb0c   \n",
       "0     12  5d83e97d94109b78c6fd03439ea0fb0c   \n",
       "\n",
       "                                   universe_settings  execution_time  \\\n",
       "0  {\"cutoff\": \"quantile_0.1\", \"eval_fairness_grou...        51.26403   \n",
       "0  {\"cutoff\": \"quantile_0.1\", \"eval_fairness_grou...        51.26403   \n",
       "0  {\"cutoff\": \"quantile_0.25\", \"eval_fairness_gro...        51.26403   \n",
       "0  {\"cutoff\": \"quantile_0.25\", \"eval_fairness_gro...        51.26403   \n",
       "\n",
       "   test_size_n  test_size_frac  fair_main_equalized_odds_difference  \\\n",
       "0        89710             1.0                             0.033478   \n",
       "0        89710             1.0                             0.033478   \n",
       "0        89710             1.0                             0.110693   \n",
       "0        89710             1.0                             0.110693   \n",
       "\n",
       "   fair_main_equalized_odds_ratio  fair_main_demographic_parity_difference  \\\n",
       "0                        0.963328                                 0.027530   \n",
       "0                        0.963328                                 0.027530   \n",
       "0                        0.862714                                 0.092069   \n",
       "0                        0.862714                                 0.092069   \n",
       "\n",
       "   fair_main_demographic_parity_ratio  ...  perf_grp_precision_0  \\\n",
       "0                            0.970116  ...                   NaN   \n",
       "0                            0.970116  ...              0.123296   \n",
       "0                            0.887855  ...                   NaN   \n",
       "0                            0.887855  ...              0.131115   \n",
       "\n",
       "   perf_grp_precision_1  perf_grp_false positive rate_0  \\\n",
       "0                   NaN                             NaN   \n",
       "0              0.146012                        0.912888   \n",
       "0                   NaN                             NaN   \n",
       "0              0.171800                        0.806295   \n",
       "\n",
       "   perf_grp_false positive rate_1  perf_grp_false negative rate_0  \\\n",
       "0                             NaN                             NaN   \n",
       "0                        0.879410                        0.014780   \n",
       "0                             NaN                             NaN   \n",
       "0                        0.695602                        0.066301   \n",
       "\n",
       "   perf_grp_false negative rate_1  perf_grp_selection rate_0  \\\n",
       "0                             NaN                        NaN   \n",
       "0                        0.012473                   0.921227   \n",
       "0                             NaN                        NaN   \n",
       "0                        0.052298                   0.820983   \n",
       "\n",
       "   perf_grp_selection rate_1  perf_grp_count_0  perf_grp_count_1  \n",
       "0                        NaN               NaN               NaN  \n",
       "0                   0.893697           20540.0           69170.0  \n",
       "0                        NaN               NaN               NaN  \n",
       "0                   0.728914           20540.0           69170.0  \n",
       "\n",
       "[4 rows x 50 columns]"
      ]
     },
     "execution_count": 79,
     "metadata": {},
     "output_type": "execute_result"
    }
   ],
   "source": [
    "final_output = universe_analysis.generate_final_output(\n",
    "    y_pred_prob=probs_test,\n",
    "    y_test=y_true,\n",
    "    org_test=org_test,\n",
    "    filter_data=filter_sub_universe_data,\n",
    "    cp_metrics_df=cp_metrics_df,\n",
    "    save=True,\n",
    ")\n",
    "final_output"
   ]
  },
  {
   "cell_type": "code",
   "execution_count": null,
   "id": "721ff514-cb11-46f8-b6fc-50392f74b5cb",
   "metadata": {
    "papermill": {
     "duration": 0.027564,
     "end_time": "2025-07-30T13:17:13.305696",
     "exception": false,
     "start_time": "2025-07-30T13:17:13.278132",
     "status": "completed"
    },
    "tags": []
   },
   "outputs": [],
   "source": []
  }
 ],
 "metadata": {
  "celltoolbar": "Tags",
  "kernelspec": {
   "display_name": "Python (CMA Fairness)",
   "language": "python",
   "name": "cma_fair_env"
  },
  "language_info": {
   "codemirror_mode": {
    "name": "ipython",
    "version": 3
   },
   "file_extension": ".py",
   "mimetype": "text/x-python",
   "name": "python",
   "nbconvert_exporter": "python",
   "pygments_lexer": "ipython3",
   "version": "3.10.12"
  },
  "papermill": {
   "default_parameters": {},
   "duration": 66.661416,
   "end_time": "2025-07-30T13:17:14.051686",
   "environment_variables": {},
   "exception": null,
   "input_path": "universe_analysis.ipynb",
   "output_path": "output/runs/12/notebooks/m_12-5d83e97d94109b78c6fd03439ea0fb0c.ipynb",
   "parameters": {
    "output_dir": "output",
    "run_no": "12",
    "seed": "2023",
    "universe": "{\"cutoff\": [\"quantile_0.1\", \"quantile_0.25\"], \"eval_fairness_grouping\": [\"majority-minority\", \"nationality-all\"], \"exclude_features\": \"age\", \"exclude_subgroups\": \"drop-non-german\", \"model\": \"gbm\", \"scale\": \"do-not-scale\", \"training_size\": \"25k\", \"training_year\": \"2012_14\"}",
    "universe_id": "5d83e97d94109b78c6fd03439ea0fb0c"
   },
   "start_time": "2025-07-30T13:16:07.390270",
   "version": "2.6.0"
  }
 },
 "nbformat": 4,
 "nbformat_minor": 5
}