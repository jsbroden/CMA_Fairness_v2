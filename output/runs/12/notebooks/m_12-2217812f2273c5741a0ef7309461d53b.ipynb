{
 "cells": [
  {
   "cell_type": "code",
   "execution_count": 1,
   "id": "f159f837-637b-42ba-96b5-ec9a68c44524",
   "metadata": {
    "execution": {
     "iopub.execute_input": "2025-07-30T14:21:24.512423Z",
     "iopub.status.busy": "2025-07-30T14:21:24.511937Z",
     "iopub.status.idle": "2025-07-30T14:21:24.526239Z",
     "shell.execute_reply": "2025-07-30T14:21:24.525246Z"
    },
    "papermill": {
     "duration": 0.039495,
     "end_time": "2025-07-30T14:21:24.528124",
     "exception": false,
     "start_time": "2025-07-30T14:21:24.488629",
     "status": "completed"
    },
    "tags": []
   },
   "outputs": [
    {
     "name": "stdout",
     "output_type": "stream",
     "text": [
      "/dss/dsshome1/0C/ra93lal2/cma/CMA_Fairness_v2\n"
     ]
    },
    {
     "name": "stderr",
     "output_type": "stream",
     "text": [
      "/dss/dsshome1/0C/ra93lal2/.local/share/virtualenvs/CMA_Fairness_v2-3j10GkSs/lib/python3.10/site-packages/IPython/core/magics/osm.py:393: UserWarning: This is now an optional IPython functionality, using bookmarks requires you to install the `pickleshare` library.\n",
      "  bkms = self.shell.db.get('bookmarks', {})\n",
      "/dss/dsshome1/0C/ra93lal2/.local/share/virtualenvs/CMA_Fairness_v2-3j10GkSs/lib/python3.10/site-packages/IPython/core/magics/osm.py:417: UserWarning: This is now an optional IPython functionality, setting dhist requires you to install the `pickleshare` library.\n",
      "  self.shell.db['dhist'] = compress_dhist(dhist)[-100:]\n"
     ]
    }
   ],
   "source": [
    "%cd ~/cma/CMA_Fairness_v2"
   ]
  },
  {
   "cell_type": "markdown",
   "id": "de2603b9",
   "metadata": {
    "papermill": {
     "duration": 0.019767,
     "end_time": "2025-07-30T14:21:24.568204",
     "exception": false,
     "start_time": "2025-07-30T14:21:24.548437",
     "status": "completed"
    },
    "tags": []
   },
   "source": [
    "The following cell holds the definition of our parameters, these values can be overriden by rendering the with e.g. the following command:\n",
    "\n",
    "papermill -p alpha 0.2 -p ratio 0.3 universe_analysis.ipynb output/test_run.ipynb"
   ]
  },
  {
   "cell_type": "code",
   "execution_count": 2,
   "id": "a80968a0-40bb-4fa9-85ef-2d5eefb01975",
   "metadata": {
    "execution": {
     "iopub.execute_input": "2025-07-30T14:21:24.595090Z",
     "iopub.status.busy": "2025-07-30T14:21:24.594753Z",
     "iopub.status.idle": "2025-07-30T14:21:24.599530Z",
     "shell.execute_reply": "2025-07-30T14:21:24.598693Z"
    },
    "papermill": {
     "duration": 0.017384,
     "end_time": "2025-07-30T14:21:24.600925",
     "exception": false,
     "start_time": "2025-07-30T14:21:24.583541",
     "status": "completed"
    },
    "tags": []
   },
   "outputs": [
    {
     "name": "stdout",
     "output_type": "stream",
     "text": [
      "Current working directory: /dss/dsshome1/0C/ra93lal2/cma/CMA_Fairness_v2\n"
     ]
    }
   ],
   "source": [
    "import os\n",
    "print(\"Current working directory:\", os.getcwd())"
   ]
  },
  {
   "cell_type": "code",
   "execution_count": 3,
   "id": "2dce4c03",
   "metadata": {
    "execution": {
     "iopub.execute_input": "2025-07-30T14:21:24.625218Z",
     "iopub.status.busy": "2025-07-30T14:21:24.624393Z",
     "iopub.status.idle": "2025-07-30T14:21:24.629895Z",
     "shell.execute_reply": "2025-07-30T14:21:24.629026Z"
    },
    "papermill": {
     "duration": 0.020475,
     "end_time": "2025-07-30T14:21:24.631985",
     "exception": false,
     "start_time": "2025-07-30T14:21:24.611510",
     "status": "completed"
    },
    "tags": [
     "parameters"
    ]
   },
   "outputs": [],
   "source": [
    "run_no = 0\n",
    "universe_id = \"test\"\n",
    "universe = {\n",
    "    \"training_size\": \"25k\", # \"25k\", \"5k\", \"1k\"\n",
    "    \"training_year\": \"2014\", # \"2014\", \"2012_14\", \"2010_14\"\n",
    "    \"scale\": \"scale\", # \"scale\", \"do-not-scale\",\n",
    "    #\"stratify_split\": \"target\", # \"none\", \"target\", \"protected-attribute\", \"both\",\n",
    "    \"model\": \"elasticnet\", # \"logreg\", \"penalized_logreg\", \"rf\", \"gbm\", \"elasticnet\"\n",
    "    \"cutoff\": [\"quantile_0.15\", \"quantile_0.30\"],\n",
    "    \"exclude_features\": \"age\", # \"none\", \"nationality\", \"sex\", \"nationality-sex\", \"age\"\n",
    "    \"exclude_subgroups\": \"keep-all\", # \"keep-all\", \"drop-non-german\"\n",
    "    \"eval_fairness_grouping\": [\"majority-minority\", \"nationality-all\"]\n",
    "}\n",
    "\n",
    "output_dir=\"./output\"\n",
    "seed=0"
   ]
  },
  {
   "cell_type": "code",
   "execution_count": 4,
   "id": "8609f9c3",
   "metadata": {
    "execution": {
     "iopub.execute_input": "2025-07-30T14:21:24.675693Z",
     "iopub.status.busy": "2025-07-30T14:21:24.674892Z",
     "iopub.status.idle": "2025-07-30T14:21:24.680514Z",
     "shell.execute_reply": "2025-07-30T14:21:24.679606Z"
    },
    "papermill": {
     "duration": 0.028808,
     "end_time": "2025-07-30T14:21:24.682253",
     "exception": false,
     "start_time": "2025-07-30T14:21:24.653445",
     "status": "completed"
    },
    "tags": [
     "injected-parameters"
    ]
   },
   "outputs": [],
   "source": [
    "# Parameters\n",
    "universe_id = \"2217812f2273c5741a0ef7309461d53b\"\n",
    "run_no = \"12\"\n",
    "universe = \"{\\\"cutoff\\\": [\\\"quantile_0.1\\\", \\\"quantile_0.25\\\"], \\\"eval_fairness_grouping\\\": [\\\"majority-minority\\\", \\\"nationality-all\\\"], \\\"exclude_features\\\": \\\"nationality-sex\\\", \\\"exclude_subgroups\\\": \\\"drop-non-german\\\", \\\"model\\\": \\\"rf\\\", \\\"scale\\\": \\\"scale\\\", \\\"training_size\\\": \\\"1k\\\", \\\"training_year\\\": \\\"2014\\\"}\"\n",
    "output_dir = \"output\"\n",
    "seed = \"2023\"\n"
   ]
  },
  {
   "cell_type": "code",
   "execution_count": 5,
   "id": "1650acaf",
   "metadata": {
    "execution": {
     "iopub.execute_input": "2025-07-30T14:21:24.724456Z",
     "iopub.status.busy": "2025-07-30T14:21:24.723927Z",
     "iopub.status.idle": "2025-07-30T14:21:24.729019Z",
     "shell.execute_reply": "2025-07-30T14:21:24.728068Z"
    },
    "papermill": {
     "duration": 0.028052,
     "end_time": "2025-07-30T14:21:24.730711",
     "exception": false,
     "start_time": "2025-07-30T14:21:24.702659",
     "status": "completed"
    },
    "tags": []
   },
   "outputs": [],
   "source": [
    "import json\n",
    "# Parse universe into dict if it is passed as a string\n",
    "if isinstance(universe, str):\n",
    "    universe = json.loads(universe)"
   ]
  },
  {
   "cell_type": "code",
   "execution_count": 6,
   "id": "16620c48",
   "metadata": {
    "execution": {
     "iopub.execute_input": "2025-07-30T14:21:24.771476Z",
     "iopub.status.busy": "2025-07-30T14:21:24.771001Z",
     "iopub.status.idle": "2025-07-30T14:21:24.818438Z",
     "shell.execute_reply": "2025-07-30T14:21:24.817447Z"
    },
    "papermill": {
     "duration": 0.069183,
     "end_time": "2025-07-30T14:21:24.820406",
     "exception": false,
     "start_time": "2025-07-30T14:21:24.751223",
     "status": "completed"
    },
    "tags": []
   },
   "outputs": [],
   "source": [
    "# Auto-reload the custom package\n",
    "%load_ext autoreload\n",
    "%autoreload 1\n",
    "%aimport fairness_multiverse"
   ]
  },
  {
   "cell_type": "code",
   "execution_count": 7,
   "id": "01c5c9f3",
   "metadata": {
    "execution": {
     "iopub.execute_input": "2025-07-30T14:21:24.865136Z",
     "iopub.status.busy": "2025-07-30T14:21:24.864086Z",
     "iopub.status.idle": "2025-07-30T14:21:27.183352Z",
     "shell.execute_reply": "2025-07-30T14:21:27.182331Z"
    },
    "papermill": {
     "duration": 2.343259,
     "end_time": "2025-07-30T14:21:27.185440",
     "exception": false,
     "start_time": "2025-07-30T14:21:24.842181",
     "status": "completed"
    },
    "tags": []
   },
   "outputs": [],
   "source": [
    "from fairness_multiverse.universe import UniverseAnalysis\n",
    "\n",
    "universe_analysis = UniverseAnalysis(\n",
    "    run_no = run_no,\n",
    "    universe_id = universe_id,\n",
    "    universe = universe,\n",
    "    output_dir=output_dir,\n",
    ")"
   ]
  },
  {
   "cell_type": "code",
   "execution_count": 8,
   "id": "106241f5",
   "metadata": {
    "execution": {
     "iopub.execute_input": "2025-07-30T14:21:27.228637Z",
     "iopub.status.busy": "2025-07-30T14:21:27.227955Z",
     "iopub.status.idle": "2025-07-30T14:21:27.236077Z",
     "shell.execute_reply": "2025-07-30T14:21:27.234990Z"
    },
    "papermill": {
     "duration": 0.031703,
     "end_time": "2025-07-30T14:21:27.237766",
     "exception": false,
     "start_time": "2025-07-30T14:21:27.206063",
     "status": "completed"
    },
    "tags": []
   },
   "outputs": [
    {
     "name": "stdout",
     "output_type": "stream",
     "text": [
      "Using Seed: 2023\n"
     ]
    }
   ],
   "source": [
    "import numpy as np\n",
    "parsed_seed = int(seed)\n",
    "np.random.seed(parsed_seed)\n",
    "print(f\"Using Seed: {parsed_seed}\")"
   ]
  },
  {
   "cell_type": "markdown",
   "id": "e0ebdc57",
   "metadata": {
    "papermill": {
     "duration": 0.019902,
     "end_time": "2025-07-30T14:21:27.279614",
     "exception": false,
     "start_time": "2025-07-30T14:21:27.259712",
     "status": "completed"
    },
    "tags": []
   },
   "source": [
    "# Loading Data"
   ]
  },
  {
   "cell_type": "markdown",
   "id": "681925a3",
   "metadata": {
    "papermill": {
     "duration": 0.020295,
     "end_time": "2025-07-30T14:21:27.321664",
     "exception": false,
     "start_time": "2025-07-30T14:21:27.301369",
     "status": "completed"
    },
    "tags": []
   },
   "source": [
    "Load siab_train, siab_test, siab_calib and/or \n",
    "load siab_train_features, siab_train_labels"
   ]
  },
  {
   "cell_type": "code",
   "execution_count": 9,
   "id": "f0496b8a",
   "metadata": {
    "execution": {
     "iopub.execute_input": "2025-07-30T14:21:27.367646Z",
     "iopub.status.busy": "2025-07-30T14:21:27.366652Z",
     "iopub.status.idle": "2025-07-30T14:21:40.263166Z",
     "shell.execute_reply": "2025-07-30T14:21:40.262059Z"
    },
    "papermill": {
     "duration": 12.921235,
     "end_time": "2025-07-30T14:21:40.264851",
     "exception": false,
     "start_time": "2025-07-30T14:21:27.343616",
     "status": "completed"
    },
    "tags": []
   },
   "outputs": [
    {
     "name": "stdout",
     "output_type": "stream",
     "text": [
      "Loading SIAB data from cache: data/siab_cached.csv.gz\n"
     ]
    },
    {
     "name": "stdout",
     "output_type": "stream",
     "text": [
      "(643690, 164)\n"
     ]
    }
   ],
   "source": [
    "from pathlib import Path\n",
    "import pandas as pd\n",
    "\n",
    "# File paths\n",
    "raw_file = Path(\"data/raw/siab.csv\")\n",
    "cache_file = Path(\"data/siab_cached.csv.gz\")\n",
    "\n",
    "# Ensure cache directory exists\n",
    "cache_file.parent.mkdir(parents=True, exist_ok=True)\n",
    "\n",
    "# Load with simple caching\n",
    "if cache_file.exists():\n",
    "    print(f\"Loading SIAB data from cache: {cache_file}\")\n",
    "    siab = pd.read_csv(cache_file, compression='gzip')\n",
    "else:\n",
    "    print(f\"Cache not found. Reading raw SIAB data: {raw_file}\")\n",
    "    siab = pd.read_csv(raw_file)\n",
    "    siab.to_csv(cache_file, index=False, compression='gzip')\n",
    "    print(f\"Cached SIAB data to: {cache_file}\")\n",
    "\n",
    "# Now use `siab` DataFrame as needed\n",
    "print(siab.shape)"
   ]
  },
  {
   "cell_type": "code",
   "execution_count": 10,
   "id": "db0ca512-5f53-4dba-abdb-a2888bca41ba",
   "metadata": {
    "execution": {
     "iopub.execute_input": "2025-07-30T14:21:40.310513Z",
     "iopub.status.busy": "2025-07-30T14:21:40.310002Z",
     "iopub.status.idle": "2025-07-30T14:21:40.316189Z",
     "shell.execute_reply": "2025-07-30T14:21:40.315031Z"
    },
    "papermill": {
     "duration": 0.031929,
     "end_time": "2025-07-30T14:21:40.319738",
     "exception": false,
     "start_time": "2025-07-30T14:21:40.287809",
     "status": "completed"
    },
    "tags": []
   },
   "outputs": [],
   "source": [
    "#siab"
   ]
  },
  {
   "cell_type": "code",
   "execution_count": 11,
   "id": "a0edb063",
   "metadata": {
    "execution": {
     "iopub.execute_input": "2025-07-30T14:21:40.352115Z",
     "iopub.status.busy": "2025-07-30T14:21:40.351659Z",
     "iopub.status.idle": "2025-07-30T14:21:40.360693Z",
     "shell.execute_reply": "2025-07-30T14:21:40.359540Z"
    },
    "papermill": {
     "duration": 0.02966,
     "end_time": "2025-07-30T14:21:40.362681",
     "exception": false,
     "start_time": "2025-07-30T14:21:40.333021",
     "status": "completed"
    },
    "tags": []
   },
   "outputs": [],
   "source": [
    "#import pandas as pd\n",
    "#\n",
    "#X_train = pd.read_csv(\"./data/X_train.csv\")\n",
    "#y_train = pd.read_csv(\"./data/y_train.csv\")"
   ]
  },
  {
   "cell_type": "code",
   "execution_count": 12,
   "id": "63d08085",
   "metadata": {
    "execution": {
     "iopub.execute_input": "2025-07-30T14:21:40.405102Z",
     "iopub.status.busy": "2025-07-30T14:21:40.404638Z",
     "iopub.status.idle": "2025-07-30T14:21:40.409512Z",
     "shell.execute_reply": "2025-07-30T14:21:40.408825Z"
    },
    "papermill": {
     "duration": 0.027852,
     "end_time": "2025-07-30T14:21:40.410828",
     "exception": false,
     "start_time": "2025-07-30T14:21:40.382976",
     "status": "completed"
    },
    "tags": []
   },
   "outputs": [],
   "source": [
    "#X_test = pd.read_csv(\"./data/X_test.csv\")\n",
    "#y_true = pd.read_csv(\"./data/y_test.csv\")"
   ]
  },
  {
   "cell_type": "code",
   "execution_count": 13,
   "id": "98a8d0fa-1d3d-4ed8-bb2c-281470e24add",
   "metadata": {
    "execution": {
     "iopub.execute_input": "2025-07-30T14:21:40.435149Z",
     "iopub.status.busy": "2025-07-30T14:21:40.434698Z",
     "iopub.status.idle": "2025-07-30T14:21:40.443566Z",
     "shell.execute_reply": "2025-07-30T14:21:40.442597Z"
    },
    "papermill": {
     "duration": 0.023392,
     "end_time": "2025-07-30T14:21:40.445294",
     "exception": false,
     "start_time": "2025-07-30T14:21:40.421902",
     "status": "completed"
    },
    "tags": []
   },
   "outputs": [],
   "source": [
    "# Calibration data for conformal\n",
    "#X_calib = pd.read_csv(\"./data/X_calib.csv\")\n",
    "#y_calib = pd.read_csv(\"./data/y_calib.csv\")"
   ]
  },
  {
   "cell_type": "markdown",
   "id": "997051c5-15bd-4b69-9786-c3001a3ce484",
   "metadata": {
    "papermill": {
     "duration": 0.02307,
     "end_time": "2025-07-30T14:21:40.491951",
     "exception": false,
     "start_time": "2025-07-30T14:21:40.468881",
     "status": "completed"
    },
    "tags": []
   },
   "source": [
    "# Splitting Data and Setting Training Data Size"
   ]
  },
  {
   "cell_type": "code",
   "execution_count": 14,
   "id": "e993b61f-042d-41a6-8c81-f55681f86335",
   "metadata": {
    "execution": {
     "iopub.execute_input": "2025-07-30T14:21:40.523131Z",
     "iopub.status.busy": "2025-07-30T14:21:40.522782Z",
     "iopub.status.idle": "2025-07-30T14:21:40.532419Z",
     "shell.execute_reply": "2025-07-30T14:21:40.531599Z"
    },
    "papermill": {
     "duration": 0.025132,
     "end_time": "2025-07-30T14:21:40.533763",
     "exception": false,
     "start_time": "2025-07-30T14:21:40.508631",
     "status": "completed"
    },
    "tags": []
   },
   "outputs": [],
   "source": [
    "def sample_by_year_size(df,\n",
    "                        training_year: str,\n",
    "                        training_size: str,\n",
    "                        random_state: int = 42):\n",
    "    # --- parse training_year into a list of int years ---\n",
    "    if \"_\" in training_year:\n",
    "        start_str, end_str = training_year.split(\"_\", 1)\n",
    "        start = int(start_str)\n",
    "        end   = int(end_str) if len(end_str) == 4 else (int(end_str) + (start // 100)*100)\n",
    "        years = list(range(start, end + 1))\n",
    "    else:\n",
    "        years = [int(training_year)]\n",
    "\n",
    "    df = df[df[\"year\"].isin(years)].reset_index(drop=True)\n",
    "\n",
    "    # --- map training_size to total number of samples ---\n",
    "    total_map = {\"25k\": 25_000, \"5k\": 5_000, \"1k\": 1_000}\n",
    "    if training_size not in total_map:\n",
    "        return df  # e.g. \"all\"\n",
    "\n",
    "    total_samples = total_map[training_size]\n",
    "    n_years       = len(years)\n",
    "    base          = total_samples // n_years\n",
    "    remainder     = total_samples % n_years\n",
    "\n",
    "    # --- build a dict: year -> how many to sample ---\n",
    "    # give +1 to the first `remainder` years in ascending order\n",
    "    quotas = {\n",
    "        year: base + (1 if idx < remainder else 0)\n",
    "        for idx, year in enumerate(sorted(years))\n",
    "    }\n",
    "\n",
    "    # --- sample per‐year according to the quota dict ---\n",
    "    sampled = (\n",
    "        df\n",
    "        .groupby(\"year\", group_keys=False)\n",
    "        .apply(lambda grp: grp.sample(\n",
    "            n=min(len(grp), quotas[grp.name]),\n",
    "            random_state=random_state))\n",
    "        .reset_index(drop=True)\n",
    "    )\n",
    "\n",
    "    return sampled"
   ]
  },
  {
   "cell_type": "code",
   "execution_count": 15,
   "id": "c0ccd338-0e02-41f3-a09d-f56f9266e3fb",
   "metadata": {
    "execution": {
     "iopub.execute_input": "2025-07-30T14:21:40.563614Z",
     "iopub.status.busy": "2025-07-30T14:21:40.562683Z",
     "iopub.status.idle": "2025-07-30T14:21:40.572714Z",
     "shell.execute_reply": "2025-07-30T14:21:40.571604Z"
    },
    "papermill": {
     "duration": 0.028377,
     "end_time": "2025-07-30T14:21:40.574564",
     "exception": false,
     "start_time": "2025-07-30T14:21:40.546187",
     "status": "completed"
    },
    "tags": []
   },
   "outputs": [
    {
     "data": {
      "text/plain": [
       "'1k'"
      ]
     },
     "execution_count": 15,
     "metadata": {},
     "output_type": "execute_result"
    }
   ],
   "source": [
    "universe[\"training_size\"]"
   ]
  },
  {
   "cell_type": "code",
   "execution_count": 16,
   "id": "ca707fd7-8047-4acd-bfa5-66248fbbf8e6",
   "metadata": {
    "execution": {
     "iopub.execute_input": "2025-07-30T14:21:40.618625Z",
     "iopub.status.busy": "2025-07-30T14:21:40.618122Z",
     "iopub.status.idle": "2025-07-30T14:21:40.625594Z",
     "shell.execute_reply": "2025-07-30T14:21:40.624885Z"
    },
    "papermill": {
     "duration": 0.029068,
     "end_time": "2025-07-30T14:21:40.626901",
     "exception": false,
     "start_time": "2025-07-30T14:21:40.597833",
     "status": "completed"
    },
    "tags": []
   },
   "outputs": [
    {
     "data": {
      "text/plain": [
       "'2014'"
      ]
     },
     "execution_count": 16,
     "metadata": {},
     "output_type": "execute_result"
    }
   ],
   "source": [
    "universe[\"training_year\"]"
   ]
  },
  {
   "cell_type": "code",
   "execution_count": 17,
   "id": "aea9c6ef-6f46-42c8-85eb-5a62025c1508",
   "metadata": {
    "execution": {
     "iopub.execute_input": "2025-07-30T14:21:40.677885Z",
     "iopub.status.busy": "2025-07-30T14:21:40.677403Z",
     "iopub.status.idle": "2025-07-30T14:21:40.860507Z",
     "shell.execute_reply": "2025-07-30T14:21:40.859331Z"
    },
    "papermill": {
     "duration": 0.215662,
     "end_time": "2025-07-30T14:21:40.862596",
     "exception": false,
     "start_time": "2025-07-30T14:21:40.646934",
     "status": "completed"
    },
    "tags": []
   },
   "outputs": [],
   "source": [
    "siab_train = sample_by_year_size(siab,\n",
    "                               training_year=universe[\"training_year\"],\n",
    "                               training_size=universe[\"training_size\"])"
   ]
  },
  {
   "cell_type": "code",
   "execution_count": 18,
   "id": "8d3afb32-789d-442c-8d5d-9f5aa8dd2eed",
   "metadata": {
    "execution": {
     "iopub.execute_input": "2025-07-30T14:21:40.910536Z",
     "iopub.status.busy": "2025-07-30T14:21:40.909825Z",
     "iopub.status.idle": "2025-07-30T14:21:40.918739Z",
     "shell.execute_reply": "2025-07-30T14:21:40.917854Z"
    },
    "papermill": {
     "duration": 0.033937,
     "end_time": "2025-07-30T14:21:40.920634",
     "exception": false,
     "start_time": "2025-07-30T14:21:40.886697",
     "status": "completed"
    },
    "tags": []
   },
   "outputs": [
    {
     "data": {
      "text/plain": [
       "(1000, 164)"
      ]
     },
     "execution_count": 18,
     "metadata": {},
     "output_type": "execute_result"
    }
   ],
   "source": [
    "siab_train.shape"
   ]
  },
  {
   "cell_type": "code",
   "execution_count": 19,
   "id": "d582db68-1a4c-47fb-84fc-08518dc1975a",
   "metadata": {
    "execution": {
     "iopub.execute_input": "2025-07-30T14:21:40.955144Z",
     "iopub.status.busy": "2025-07-30T14:21:40.954751Z",
     "iopub.status.idle": "2025-07-30T14:21:41.035503Z",
     "shell.execute_reply": "2025-07-30T14:21:41.034444Z"
    },
    "papermill": {
     "duration": 0.095317,
     "end_time": "2025-07-30T14:21:41.037321",
     "exception": false,
     "start_time": "2025-07-30T14:21:40.942004",
     "status": "completed"
    },
    "tags": []
   },
   "outputs": [
    {
     "data": {
      "text/plain": [
       "year\n",
       "2014    1000\n",
       "dtype: int64"
      ]
     },
     "metadata": {},
     "output_type": "display_data"
    }
   ],
   "source": [
    "display(siab_train.groupby(\"year\").size())"
   ]
  },
  {
   "cell_type": "code",
   "execution_count": 20,
   "id": "a561edb4-d032-42cb-8256-22eac1111c64",
   "metadata": {
    "execution": {
     "iopub.execute_input": "2025-07-30T14:21:41.084729Z",
     "iopub.status.busy": "2025-07-30T14:21:41.083715Z",
     "iopub.status.idle": "2025-07-30T14:21:41.303524Z",
     "shell.execute_reply": "2025-07-30T14:21:41.302356Z"
    },
    "papermill": {
     "duration": 0.243457,
     "end_time": "2025-07-30T14:21:41.305477",
     "exception": false,
     "start_time": "2025-07-30T14:21:41.062020",
     "status": "completed"
    },
    "tags": []
   },
   "outputs": [],
   "source": [
    "#siab_train = siab_s[siab_s.year < 2015]\n",
    "siab_calib = siab[siab.year == 2015]\n",
    "siab_test = siab[siab.year == 2016]"
   ]
  },
  {
   "cell_type": "code",
   "execution_count": 21,
   "id": "472de16f-c3db-4916-846b-1f0de9cf1746",
   "metadata": {
    "execution": {
     "iopub.execute_input": "2025-07-30T14:21:41.353972Z",
     "iopub.status.busy": "2025-07-30T14:21:41.353512Z",
     "iopub.status.idle": "2025-07-30T14:21:41.360279Z",
     "shell.execute_reply": "2025-07-30T14:21:41.359307Z"
    },
    "papermill": {
     "duration": 0.037255,
     "end_time": "2025-07-30T14:21:41.366770",
     "exception": false,
     "start_time": "2025-07-30T14:21:41.329515",
     "status": "completed"
    },
    "tags": []
   },
   "outputs": [],
   "source": [
    "X_train = siab_train.iloc[:,4:164]\n",
    "y_train = siab_train.iloc[:, [3]]"
   ]
  },
  {
   "cell_type": "code",
   "execution_count": 22,
   "id": "828c96af-f43a-4ed6-ba47-8ac73a47d56c",
   "metadata": {
    "execution": {
     "iopub.execute_input": "2025-07-30T14:21:41.428522Z",
     "iopub.status.busy": "2025-07-30T14:21:41.427528Z",
     "iopub.status.idle": "2025-07-30T14:21:41.513982Z",
     "shell.execute_reply": "2025-07-30T14:21:41.512985Z"
    },
    "papermill": {
     "duration": 0.119399,
     "end_time": "2025-07-30T14:21:41.515636",
     "exception": false,
     "start_time": "2025-07-30T14:21:41.396237",
     "status": "completed"
    },
    "tags": []
   },
   "outputs": [],
   "source": [
    "X_calib = siab_calib.iloc[:,4:164]\n",
    "y_calib = siab_calib.iloc[:, [3]]"
   ]
  },
  {
   "cell_type": "code",
   "execution_count": 23,
   "id": "c34be9c3-6bd6-476e-acd3-845840e303be",
   "metadata": {
    "execution": {
     "iopub.execute_input": "2025-07-30T14:21:41.561490Z",
     "iopub.status.busy": "2025-07-30T14:21:41.560817Z",
     "iopub.status.idle": "2025-07-30T14:21:41.617465Z",
     "shell.execute_reply": "2025-07-30T14:21:41.616165Z"
    },
    "papermill": {
     "duration": 0.081354,
     "end_time": "2025-07-30T14:21:41.619307",
     "exception": false,
     "start_time": "2025-07-30T14:21:41.537953",
     "status": "completed"
    },
    "tags": []
   },
   "outputs": [],
   "source": [
    "X_test = siab_test.iloc[:,4:164]\n",
    "y_true = siab_test.iloc[:, [3]]"
   ]
  },
  {
   "cell_type": "markdown",
   "id": "9901737e-04df-44f0-9100-f5ad144ed040",
   "metadata": {
    "papermill": {
     "duration": 0.011317,
     "end_time": "2025-07-30T14:21:41.646934",
     "exception": false,
     "start_time": "2025-07-30T14:21:41.635617",
     "status": "completed"
    },
    "tags": []
   },
   "source": [
    "# Splitting Data and Setting Training Data Size OLD VERSION"
   ]
  },
  {
   "cell_type": "code",
   "execution_count": 24,
   "id": "acbc8f7d-8fc8-4e86-8c59-5dcb0f58384b",
   "metadata": {
    "execution": {
     "iopub.execute_input": "2025-07-30T14:21:41.674168Z",
     "iopub.status.busy": "2025-07-30T14:21:41.673302Z",
     "iopub.status.idle": "2025-07-30T14:21:41.678211Z",
     "shell.execute_reply": "2025-07-30T14:21:41.677381Z"
    },
    "papermill": {
     "duration": 0.021624,
     "end_time": "2025-07-30T14:21:41.679549",
     "exception": false,
     "start_time": "2025-07-30T14:21:41.657925",
     "status": "completed"
    },
    "tags": []
   },
   "outputs": [],
   "source": [
    "#def sample_by_year(df, training_size, random_state=42):\n",
    "#    if training_size == \"2014\":\n",
    "#        return df[df[\"year\"] == 2014].reset_index(drop=True)\n",
    "#    \n",
    "#    size_map = {\n",
    "#        \"25k\": 5000,\n",
    "#        \"5k\": 1000,\n",
    "#        \"1k\": 200\n",
    "#    }\n",
    "#\n",
    "#    if training_size not in size_map:\n",
    "#        return df.reset_index(drop=True)  # use all data\n",
    "#\n",
    "#    n_per_year = size_map[training_size]\n",
    "#    grouped = df.groupby(\"year\")\n",
    "#    sampled = grouped.apply(lambda x: x.sample(n=min(n_per_year, len(x)), random_state=random_state))\n",
    "#    return sampled.reset_index(drop=True)"
   ]
  },
  {
   "cell_type": "code",
   "execution_count": 25,
   "id": "6d931f52-beaf-43ff-9e78-9d44a448d54e",
   "metadata": {
    "execution": {
     "iopub.execute_input": "2025-07-30T14:21:41.709320Z",
     "iopub.status.busy": "2025-07-30T14:21:41.708985Z",
     "iopub.status.idle": "2025-07-30T14:21:41.712954Z",
     "shell.execute_reply": "2025-07-30T14:21:41.712201Z"
    },
    "papermill": {
     "duration": 0.017698,
     "end_time": "2025-07-30T14:21:41.714236",
     "exception": false,
     "start_time": "2025-07-30T14:21:41.696538",
     "status": "completed"
    },
    "tags": []
   },
   "outputs": [],
   "source": [
    "#siab_s = sample_by_year(siab, universe[\"training_size\"])"
   ]
  },
  {
   "cell_type": "code",
   "execution_count": 26,
   "id": "5db0a40e-a4e2-4920-be85-b12ae061d70d",
   "metadata": {
    "execution": {
     "iopub.execute_input": "2025-07-30T14:21:41.753669Z",
     "iopub.status.busy": "2025-07-30T14:21:41.753190Z",
     "iopub.status.idle": "2025-07-30T14:21:41.758741Z",
     "shell.execute_reply": "2025-07-30T14:21:41.757778Z"
    },
    "papermill": {
     "duration": 0.031643,
     "end_time": "2025-07-30T14:21:41.760913",
     "exception": false,
     "start_time": "2025-07-30T14:21:41.729270",
     "status": "completed"
    },
    "tags": []
   },
   "outputs": [],
   "source": [
    "#display(siab_s.groupby(\"year\").size())"
   ]
  },
  {
   "cell_type": "code",
   "execution_count": 27,
   "id": "e6c733c5",
   "metadata": {
    "execution": {
     "iopub.execute_input": "2025-07-30T14:21:41.821459Z",
     "iopub.status.busy": "2025-07-30T14:21:41.820957Z",
     "iopub.status.idle": "2025-07-30T14:21:41.915184Z",
     "shell.execute_reply": "2025-07-30T14:21:41.914120Z"
    },
    "papermill": {
     "duration": 0.127095,
     "end_time": "2025-07-30T14:21:41.917570",
     "exception": false,
     "start_time": "2025-07-30T14:21:41.790475",
     "status": "completed"
    },
    "tags": []
   },
   "outputs": [],
   "source": [
    "# Auxiliary data needed downstream in the pipeline\n",
    "\n",
    "org_train = X_train.copy()\n",
    "org_test = X_test.copy()\n",
    "org_calib = X_calib.copy()"
   ]
  },
  {
   "cell_type": "code",
   "execution_count": 28,
   "id": "1466abac-c6da-4492-a62f-4240ae3783af",
   "metadata": {
    "execution": {
     "iopub.execute_input": "2025-07-30T14:21:41.970441Z",
     "iopub.status.busy": "2025-07-30T14:21:41.970047Z",
     "iopub.status.idle": "2025-07-30T14:21:41.975926Z",
     "shell.execute_reply": "2025-07-30T14:21:41.975087Z"
    },
    "papermill": {
     "duration": 0.031379,
     "end_time": "2025-07-30T14:21:41.977664",
     "exception": false,
     "start_time": "2025-07-30T14:21:41.946285",
     "status": "completed"
    },
    "tags": []
   },
   "outputs": [],
   "source": [
    "# put in other script?\n",
    "# Group sizes\n",
    "\n",
    "#def calculate_percentages(df, df_name):\n",
    "#    total_entries = len(df)\n",
    "#\n",
    "#    female_pct = (df['frau1'] == 1).mean() * 100\n",
    "#    non_german_pct = ((df['maxdeutsch1'] == 0) & (df['maxdeutsch.Missing.'] == 0)).mean() * 100\n",
    "#    non_german_male_pct = ((df['frau1'] == 0) & (df['maxdeutsch1'] == 0) & (df['maxdeutsch.Missing.'] == 0)).mean() * 100\n",
    "#    non_german_female_pct = ((df['frau1'] == 1) & (df['maxdeutsch1'] == 0) & (df['maxdeutsch.Missing.'] == 0)).mean() * 100\n",
    "#\n",
    "#    print(f\"--- {df_name} ---\")\n",
    "#    print(f\"Female: {female_pct:.2f}%\")\n",
    "#    print(f\"Non-German: {non_german_pct:.2f}%\")\n",
    "#    print(f\"Non-German Male: {non_german_male_pct:.2f}%\")\n",
    "#    print(f\"Non-German Female: {non_german_female_pct:.2f}%\\n\")\n",
    "#\n",
    "## Calculate for each DataFrame\n",
    "#calculate_percentages(siab_calib, \"siab_calib\")\n",
    "#calculate_percentages(siab_test, \"siab_test\")\n",
    "#calculate_percentages(siab_train, \"siab_train\")"
   ]
  },
  {
   "cell_type": "markdown",
   "id": "0a4a1b33",
   "metadata": {
    "papermill": {
     "duration": 0.021129,
     "end_time": "2025-07-30T14:21:42.020815",
     "exception": false,
     "start_time": "2025-07-30T14:21:41.999686",
     "status": "completed"
    },
    "tags": []
   },
   "source": [
    "# Preprocessing Data"
   ]
  },
  {
   "cell_type": "code",
   "execution_count": 29,
   "id": "ca879031",
   "metadata": {
    "execution": {
     "iopub.execute_input": "2025-07-30T14:21:42.065356Z",
     "iopub.status.busy": "2025-07-30T14:21:42.064815Z",
     "iopub.status.idle": "2025-07-30T14:21:42.071369Z",
     "shell.execute_reply": "2025-07-30T14:21:42.070480Z"
    },
    "papermill": {
     "duration": 0.030024,
     "end_time": "2025-07-30T14:21:42.072865",
     "exception": false,
     "start_time": "2025-07-30T14:21:42.042841",
     "status": "completed"
    },
    "tags": []
   },
   "outputs": [],
   "source": [
    "# EXCLUDE PROTECTED FEATURES\n",
    "# ----------------------\n",
    "# \"exclude_features\": \"none\", # \"nationality\", \"sex\", \"nationality-sex\"\n",
    "\n",
    "excluded_features = universe[\"exclude_features\"].split(\"-\") # split, e.g.: \"nationality-sex\" -> [\"nationality\", \"sex\"]\n",
    "excluded_features_dictionary = {\n",
    "    \"nationality\": [\"maxdeutsch1\", \"maxdeutsch.Missing.\"],\n",
    "    \"sex\": [\"frau1\"],\n",
    "    \"age\": [\"age\"],\n",
    "}\n"
   ]
  },
  {
   "cell_type": "code",
   "execution_count": 30,
   "id": "b745ac60",
   "metadata": {
    "execution": {
     "iopub.execute_input": "2025-07-30T14:21:42.117606Z",
     "iopub.status.busy": "2025-07-30T14:21:42.116892Z",
     "iopub.status.idle": "2025-07-30T14:21:42.122645Z",
     "shell.execute_reply": "2025-07-30T14:21:42.121719Z"
    },
    "papermill": {
     "duration": 0.029402,
     "end_time": "2025-07-30T14:21:42.124276",
     "exception": false,
     "start_time": "2025-07-30T14:21:42.094874",
     "status": "completed"
    },
    "tags": []
   },
   "outputs": [],
   "source": [
    "# Code nice names to column names\n",
    "\n",
    "excluded_features_columns = [\n",
    "    excluded_features_dictionary[f] for f in excluded_features if len(f) > 0 and f != \"none\"\n",
    "]"
   ]
  },
  {
   "cell_type": "code",
   "execution_count": 31,
   "id": "f84f73a2",
   "metadata": {
    "execution": {
     "iopub.execute_input": "2025-07-30T14:21:42.172082Z",
     "iopub.status.busy": "2025-07-30T14:21:42.171225Z",
     "iopub.status.idle": "2025-07-30T14:21:42.177863Z",
     "shell.execute_reply": "2025-07-30T14:21:42.177059Z"
    },
    "papermill": {
     "duration": 0.032435,
     "end_time": "2025-07-30T14:21:42.179517",
     "exception": false,
     "start_time": "2025-07-30T14:21:42.147082",
     "status": "completed"
    },
    "tags": []
   },
   "outputs": [],
   "source": [
    "from utils import flatten_once\n",
    "\n",
    "excluded_features_columns = flatten_once(excluded_features_columns)"
   ]
  },
  {
   "cell_type": "code",
   "execution_count": 32,
   "id": "884dea22",
   "metadata": {
    "execution": {
     "iopub.execute_input": "2025-07-30T14:21:42.225907Z",
     "iopub.status.busy": "2025-07-30T14:21:42.225205Z",
     "iopub.status.idle": "2025-07-30T14:21:42.235856Z",
     "shell.execute_reply": "2025-07-30T14:21:42.234393Z"
    },
    "papermill": {
     "duration": 0.036637,
     "end_time": "2025-07-30T14:21:42.237782",
     "exception": false,
     "start_time": "2025-07-30T14:21:42.201145",
     "status": "completed"
    },
    "tags": []
   },
   "outputs": [
    {
     "name": "stdout",
     "output_type": "stream",
     "text": [
      "Dropping features: ['maxdeutsch1', 'maxdeutsch.Missing.', 'frau1']\n"
     ]
    }
   ],
   "source": [
    "if len(excluded_features_columns) > 0:\n",
    "    print(f\"Dropping features: {excluded_features_columns}\")\n",
    "    X_train.drop(excluded_features_columns, axis=1, inplace=True)"
   ]
  },
  {
   "cell_type": "code",
   "execution_count": 33,
   "id": "95ab8b16",
   "metadata": {
    "execution": {
     "iopub.execute_input": "2025-07-30T14:21:42.287291Z",
     "iopub.status.busy": "2025-07-30T14:21:42.286832Z",
     "iopub.status.idle": "2025-07-30T14:21:42.338125Z",
     "shell.execute_reply": "2025-07-30T14:21:42.336777Z"
    },
    "papermill": {
     "duration": 0.077677,
     "end_time": "2025-07-30T14:21:42.339736",
     "exception": false,
     "start_time": "2025-07-30T14:21:42.262059",
     "status": "completed"
    },
    "tags": []
   },
   "outputs": [
    {
     "name": "stdout",
     "output_type": "stream",
     "text": [
      "Dropping features: ['maxdeutsch1', 'maxdeutsch.Missing.', 'frau1']\n"
     ]
    }
   ],
   "source": [
    "if len(excluded_features_columns) > 0:\n",
    "    print(f\"Dropping features: {excluded_features_columns}\")\n",
    "    X_test.drop(excluded_features_columns, axis=1, inplace=True)"
   ]
  },
  {
   "cell_type": "code",
   "execution_count": 34,
   "id": "1853aaf5-fb9f-46cb-a2b5-8ea4ae2237e4",
   "metadata": {
    "execution": {
     "iopub.execute_input": "2025-07-30T14:21:42.403811Z",
     "iopub.status.busy": "2025-07-30T14:21:42.402942Z",
     "iopub.status.idle": "2025-07-30T14:21:42.452373Z",
     "shell.execute_reply": "2025-07-30T14:21:42.451629Z"
    },
    "papermill": {
     "duration": 0.088468,
     "end_time": "2025-07-30T14:21:42.453644",
     "exception": false,
     "start_time": "2025-07-30T14:21:42.365176",
     "status": "completed"
    },
    "tags": []
   },
   "outputs": [
    {
     "name": "stdout",
     "output_type": "stream",
     "text": [
      "Dropping features: ['maxdeutsch1', 'maxdeutsch.Missing.', 'frau1']\n"
     ]
    }
   ],
   "source": [
    "if len(excluded_features_columns) > 0:\n",
    "    print(f\"Dropping features: {excluded_features_columns}\")\n",
    "    X_calib.drop(excluded_features_columns, axis=1, inplace=True)"
   ]
  },
  {
   "cell_type": "code",
   "execution_count": 35,
   "id": "6727d079-03e5-481e-9d38-292a90b7a0a8",
   "metadata": {
    "execution": {
     "iopub.execute_input": "2025-07-30T14:21:42.480581Z",
     "iopub.status.busy": "2025-07-30T14:21:42.479863Z",
     "iopub.status.idle": "2025-07-30T14:21:42.484768Z",
     "shell.execute_reply": "2025-07-30T14:21:42.483715Z"
    },
    "papermill": {
     "duration": 0.023582,
     "end_time": "2025-07-30T14:21:42.489819",
     "exception": false,
     "start_time": "2025-07-30T14:21:42.466237",
     "status": "completed"
    },
    "tags": []
   },
   "outputs": [],
   "source": [
    "# SPLIT & STRATIFY DATA\n",
    "# ----------------------"
   ]
  },
  {
   "cell_type": "code",
   "execution_count": 36,
   "id": "76c4dc6d",
   "metadata": {
    "execution": {
     "iopub.execute_input": "2025-07-30T14:21:42.560328Z",
     "iopub.status.busy": "2025-07-30T14:21:42.559353Z",
     "iopub.status.idle": "2025-07-30T14:21:42.566347Z",
     "shell.execute_reply": "2025-07-30T14:21:42.565186Z"
    },
    "papermill": {
     "duration": 0.043918,
     "end_time": "2025-07-30T14:21:42.567878",
     "exception": false,
     "start_time": "2025-07-30T14:21:42.523960",
     "status": "completed"
    },
    "tags": []
   },
   "outputs": [],
   "source": [
    "# EXCLUDE CERTAIN SUBGROUPS\n",
    "# ----------------------\n",
    "\n",
    "mode = universe.get(\"exclude_subgroups\", \"keep-all\") \n",
    "# Fetches the exclude_subgroups setting from the universe dict.\n",
    "# Defaults to \"keep-all\" if the key is missing."
   ]
  },
  {
   "cell_type": "code",
   "execution_count": 37,
   "id": "21994072",
   "metadata": {
    "execution": {
     "iopub.execute_input": "2025-07-30T14:21:42.621708Z",
     "iopub.status.busy": "2025-07-30T14:21:42.621280Z",
     "iopub.status.idle": "2025-07-30T14:21:42.629340Z",
     "shell.execute_reply": "2025-07-30T14:21:42.628165Z"
    },
    "papermill": {
     "duration": 0.03393,
     "end_time": "2025-07-30T14:21:42.630923",
     "exception": false,
     "start_time": "2025-07-30T14:21:42.596993",
     "status": "completed"
    },
    "tags": []
   },
   "outputs": [],
   "source": [
    "if mode == \"keep-all\":\n",
    "    keep_mask = pd.Series(True, index=org_train.index)\n",
    "\n",
    "# org_train contains the original feature columns from features_org (in Simson)\n",
    "# features_org contains unprocessed features, for me X_train at beginning ???\n",
    "# For keep-all, creates a boolean Series (keep_mask) of all True, so no rows are removed.\n",
    "\n",
    "elif mode == \"drop-non-german\":\n",
    "    keep_mask = org_train[\"maxdeutsch1\"] == 1 # ??? what about missing values?\n",
    "\n",
    "else:\n",
    "    raise ValueError(f\"Unsupported mode for exclude_subgroups: {mode}\")\n"
   ]
  },
  {
   "cell_type": "code",
   "execution_count": 38,
   "id": "71651440",
   "metadata": {
    "execution": {
     "iopub.execute_input": "2025-07-30T14:21:42.676715Z",
     "iopub.status.busy": "2025-07-30T14:21:42.676280Z",
     "iopub.status.idle": "2025-07-30T14:21:42.683501Z",
     "shell.execute_reply": "2025-07-30T14:21:42.682621Z"
    },
    "papermill": {
     "duration": 0.030543,
     "end_time": "2025-07-30T14:21:42.684883",
     "exception": false,
     "start_time": "2025-07-30T14:21:42.654340",
     "status": "completed"
    },
    "tags": []
   },
   "outputs": [
    {
     "name": "stdout",
     "output_type": "stream",
     "text": [
      "Dropping 147 rows (14.70%) where mode='drop-non-german'\n"
     ]
    }
   ],
   "source": [
    "n_drop = (~keep_mask).sum() # Calculates how many rows are set to be dropped\n",
    "if n_drop > 0:\n",
    "    pct = n_drop / len(keep_mask) * 100\n",
    "    print(f\"Dropping {n_drop} rows ({pct:.2f}%) where mode='{mode}'\")"
   ]
  },
  {
   "cell_type": "code",
   "execution_count": 39,
   "id": "5fb8eee5",
   "metadata": {
    "execution": {
     "iopub.execute_input": "2025-07-30T14:21:42.732604Z",
     "iopub.status.busy": "2025-07-30T14:21:42.732065Z",
     "iopub.status.idle": "2025-07-30T14:21:42.738540Z",
     "shell.execute_reply": "2025-07-30T14:21:42.737615Z"
    },
    "papermill": {
     "duration": 0.032018,
     "end_time": "2025-07-30T14:21:42.740408",
     "exception": false,
     "start_time": "2025-07-30T14:21:42.708390",
     "status": "completed"
    },
    "tags": []
   },
   "outputs": [],
   "source": [
    "X_train = X_train[keep_mask]"
   ]
  },
  {
   "cell_type": "code",
   "execution_count": 40,
   "id": "b202bb3a",
   "metadata": {
    "execution": {
     "iopub.execute_input": "2025-07-30T14:21:42.789217Z",
     "iopub.status.busy": "2025-07-30T14:21:42.788487Z",
     "iopub.status.idle": "2025-07-30T14:21:42.794782Z",
     "shell.execute_reply": "2025-07-30T14:21:42.793859Z"
    },
    "papermill": {
     "duration": 0.032094,
     "end_time": "2025-07-30T14:21:42.796401",
     "exception": false,
     "start_time": "2025-07-30T14:21:42.764307",
     "status": "completed"
    },
    "tags": []
   },
   "outputs": [],
   "source": [
    "y_train = y_train[keep_mask]"
   ]
  },
  {
   "cell_type": "markdown",
   "id": "493e2ac3",
   "metadata": {
    "papermill": {
     "duration": 0.021921,
     "end_time": "2025-07-30T14:21:42.840799",
     "exception": false,
     "start_time": "2025-07-30T14:21:42.818878",
     "status": "completed"
    },
    "tags": []
   },
   "source": [
    "# Model Training"
   ]
  },
  {
   "cell_type": "code",
   "execution_count": 41,
   "id": "679e1268",
   "metadata": {
    "execution": {
     "iopub.execute_input": "2025-07-30T14:21:42.891097Z",
     "iopub.status.busy": "2025-07-30T14:21:42.890558Z",
     "iopub.status.idle": "2025-07-30T14:21:42.985904Z",
     "shell.execute_reply": "2025-07-30T14:21:42.985188Z"
    },
    "papermill": {
     "duration": 0.122244,
     "end_time": "2025-07-30T14:21:42.987781",
     "exception": false,
     "start_time": "2025-07-30T14:21:42.865537",
     "status": "completed"
    },
    "tags": []
   },
   "outputs": [],
   "source": [
    "from sklearn.linear_model import LogisticRegression\n",
    "from sklearn.ensemble import GradientBoostingClassifier, RandomForestClassifier\n",
    "\n",
    "if (universe[\"model\"] == \"logreg\"):\n",
    "    model = LogisticRegression() #penalty=\"none\") #, solver=\"newton-cg\", max_iter=1) # include random_state=19 ?\n",
    "elif (universe[\"model\"] == \"penalized_logreg\"):\n",
    "    model = LogisticRegression(penalty=\"l2\", C=1.0) #, solver=\"newton-cg\", max_iter=1)\n",
    "elif (universe[\"model\"] == \"rf\"):\n",
    "    model = RandomForestClassifier(n_estimators=100, n_jobs=-1)\n",
    "elif (universe[\"model\"] == \"gbm\"):\n",
    "    model = GradientBoostingClassifier()\n",
    "elif (universe[\"model\"] == \"elasticnet\"):\n",
    "    model = LogisticRegression(penalty = 'elasticnet', solver = 'saga', l1_ratio = 0.5, max_iter=5000) # which solver to use?\n",
    "else:\n",
    "    raise \"Unsupported universe.model\""
   ]
  },
  {
   "cell_type": "code",
   "execution_count": 42,
   "id": "0cc8f744",
   "metadata": {
    "execution": {
     "iopub.execute_input": "2025-07-30T14:21:43.018141Z",
     "iopub.status.busy": "2025-07-30T14:21:43.017609Z",
     "iopub.status.idle": "2025-07-30T14:21:43.024602Z",
     "shell.execute_reply": "2025-07-30T14:21:43.023562Z"
    },
    "papermill": {
     "duration": 0.025899,
     "end_time": "2025-07-30T14:21:43.026618",
     "exception": false,
     "start_time": "2025-07-30T14:21:43.000719",
     "status": "completed"
    },
    "tags": []
   },
   "outputs": [],
   "source": [
    "import numpy as np\n",
    "from sklearn.pipeline import Pipeline\n",
    "from sklearn.preprocessing import StandardScaler\n",
    "\n",
    "model = Pipeline([\n",
    "    #(\"continuous_processor\", continuous_processor),\n",
    "    #(\"categorical_preprocessor\", categorical_preprocessor),\n",
    "    (\"scale\", StandardScaler() if universe[\"scale\"] == \"scale\" else None), \n",
    "    (\"model\", model),\n",
    "])"
   ]
  },
  {
   "cell_type": "code",
   "execution_count": 43,
   "id": "9442c04d",
   "metadata": {
    "execution": {
     "iopub.execute_input": "2025-07-30T14:21:43.075519Z",
     "iopub.status.busy": "2025-07-30T14:21:43.074687Z",
     "iopub.status.idle": "2025-07-30T14:21:43.536092Z",
     "shell.execute_reply": "2025-07-30T14:21:43.534942Z"
    },
    "papermill": {
     "duration": 0.486245,
     "end_time": "2025-07-30T14:21:43.537895",
     "exception": false,
     "start_time": "2025-07-30T14:21:43.051650",
     "status": "completed"
    },
    "tags": []
   },
   "outputs": [
    {
     "data": {
      "text/html": [
       "<style>#sk-container-id-1 {color: black;background-color: white;}#sk-container-id-1 pre{padding: 0;}#sk-container-id-1 div.sk-toggleable {background-color: white;}#sk-container-id-1 label.sk-toggleable__label {cursor: pointer;display: block;width: 100%;margin-bottom: 0;padding: 0.3em;box-sizing: border-box;text-align: center;}#sk-container-id-1 label.sk-toggleable__label-arrow:before {content: \"▸\";float: left;margin-right: 0.25em;color: #696969;}#sk-container-id-1 label.sk-toggleable__label-arrow:hover:before {color: black;}#sk-container-id-1 div.sk-estimator:hover label.sk-toggleable__label-arrow:before {color: black;}#sk-container-id-1 div.sk-toggleable__content {max-height: 0;max-width: 0;overflow: hidden;text-align: left;background-color: #f0f8ff;}#sk-container-id-1 div.sk-toggleable__content pre {margin: 0.2em;color: black;border-radius: 0.25em;background-color: #f0f8ff;}#sk-container-id-1 input.sk-toggleable__control:checked~div.sk-toggleable__content {max-height: 200px;max-width: 100%;overflow: auto;}#sk-container-id-1 input.sk-toggleable__control:checked~label.sk-toggleable__label-arrow:before {content: \"▾\";}#sk-container-id-1 div.sk-estimator input.sk-toggleable__control:checked~label.sk-toggleable__label {background-color: #d4ebff;}#sk-container-id-1 div.sk-label input.sk-toggleable__control:checked~label.sk-toggleable__label {background-color: #d4ebff;}#sk-container-id-1 input.sk-hidden--visually {border: 0;clip: rect(1px 1px 1px 1px);clip: rect(1px, 1px, 1px, 1px);height: 1px;margin: -1px;overflow: hidden;padding: 0;position: absolute;width: 1px;}#sk-container-id-1 div.sk-estimator {font-family: monospace;background-color: #f0f8ff;border: 1px dotted black;border-radius: 0.25em;box-sizing: border-box;margin-bottom: 0.5em;}#sk-container-id-1 div.sk-estimator:hover {background-color: #d4ebff;}#sk-container-id-1 div.sk-parallel-item::after {content: \"\";width: 100%;border-bottom: 1px solid gray;flex-grow: 1;}#sk-container-id-1 div.sk-label:hover label.sk-toggleable__label {background-color: #d4ebff;}#sk-container-id-1 div.sk-serial::before {content: \"\";position: absolute;border-left: 1px solid gray;box-sizing: border-box;top: 0;bottom: 0;left: 50%;z-index: 0;}#sk-container-id-1 div.sk-serial {display: flex;flex-direction: column;align-items: center;background-color: white;padding-right: 0.2em;padding-left: 0.2em;position: relative;}#sk-container-id-1 div.sk-item {position: relative;z-index: 1;}#sk-container-id-1 div.sk-parallel {display: flex;align-items: stretch;justify-content: center;background-color: white;position: relative;}#sk-container-id-1 div.sk-item::before, #sk-container-id-1 div.sk-parallel-item::before {content: \"\";position: absolute;border-left: 1px solid gray;box-sizing: border-box;top: 0;bottom: 0;left: 50%;z-index: -1;}#sk-container-id-1 div.sk-parallel-item {display: flex;flex-direction: column;z-index: 1;position: relative;background-color: white;}#sk-container-id-1 div.sk-parallel-item:first-child::after {align-self: flex-end;width: 50%;}#sk-container-id-1 div.sk-parallel-item:last-child::after {align-self: flex-start;width: 50%;}#sk-container-id-1 div.sk-parallel-item:only-child::after {width: 0;}#sk-container-id-1 div.sk-dashed-wrapped {border: 1px dashed gray;margin: 0 0.4em 0.5em 0.4em;box-sizing: border-box;padding-bottom: 0.4em;background-color: white;}#sk-container-id-1 div.sk-label label {font-family: monospace;font-weight: bold;display: inline-block;line-height: 1.2em;}#sk-container-id-1 div.sk-label-container {text-align: center;}#sk-container-id-1 div.sk-container {/* jupyter's `normalize.less` sets `[hidden] { display: none; }` but bootstrap.min.css set `[hidden] { display: none !important; }` so we also need the `!important` here to be able to override the default hidden behavior on the sphinx rendered scikit-learn.org. See: https://github.com/scikit-learn/scikit-learn/issues/21755 */display: inline-block !important;position: relative;}#sk-container-id-1 div.sk-text-repr-fallback {display: none;}</style><div id=\"sk-container-id-1\" class=\"sk-top-container\"><div class=\"sk-text-repr-fallback\"><pre>Pipeline(steps=[(&#x27;scale&#x27;, StandardScaler()),\n",
       "                (&#x27;model&#x27;, RandomForestClassifier(n_jobs=-1))])</pre><b>In a Jupyter environment, please rerun this cell to show the HTML representation or trust the notebook. <br />On GitHub, the HTML representation is unable to render, please try loading this page with nbviewer.org.</b></div><div class=\"sk-container\" hidden><div class=\"sk-item sk-dashed-wrapped\"><div class=\"sk-label-container\"><div class=\"sk-label sk-toggleable\"><input class=\"sk-toggleable__control sk-hidden--visually\" id=\"sk-estimator-id-1\" type=\"checkbox\" ><label for=\"sk-estimator-id-1\" class=\"sk-toggleable__label sk-toggleable__label-arrow\">Pipeline</label><div class=\"sk-toggleable__content\"><pre>Pipeline(steps=[(&#x27;scale&#x27;, StandardScaler()),\n",
       "                (&#x27;model&#x27;, RandomForestClassifier(n_jobs=-1))])</pre></div></div></div><div class=\"sk-serial\"><div class=\"sk-item\"><div class=\"sk-estimator sk-toggleable\"><input class=\"sk-toggleable__control sk-hidden--visually\" id=\"sk-estimator-id-2\" type=\"checkbox\" ><label for=\"sk-estimator-id-2\" class=\"sk-toggleable__label sk-toggleable__label-arrow\">StandardScaler</label><div class=\"sk-toggleable__content\"><pre>StandardScaler()</pre></div></div></div><div class=\"sk-item\"><div class=\"sk-estimator sk-toggleable\"><input class=\"sk-toggleable__control sk-hidden--visually\" id=\"sk-estimator-id-3\" type=\"checkbox\" ><label for=\"sk-estimator-id-3\" class=\"sk-toggleable__label sk-toggleable__label-arrow\">RandomForestClassifier</label><div class=\"sk-toggleable__content\"><pre>RandomForestClassifier(n_jobs=-1)</pre></div></div></div></div></div></div></div>"
      ],
      "text/plain": [
       "Pipeline(steps=[('scale', StandardScaler()),\n",
       "                ('model', RandomForestClassifier(n_jobs=-1))])"
      ]
     },
     "execution_count": 43,
     "metadata": {},
     "output_type": "execute_result"
    }
   ],
   "source": [
    "model.fit(X_train, y_train.values.ravel())"
   ]
  },
  {
   "cell_type": "code",
   "execution_count": 44,
   "id": "af59f8c0",
   "metadata": {
    "execution": {
     "iopub.execute_input": "2025-07-30T14:21:43.591513Z",
     "iopub.status.busy": "2025-07-30T14:21:43.591069Z",
     "iopub.status.idle": "2025-07-30T14:21:43.596442Z",
     "shell.execute_reply": "2025-07-30T14:21:43.595409Z"
    },
    "papermill": {
     "duration": 0.032736,
     "end_time": "2025-07-30T14:21:43.598403",
     "exception": false,
     "start_time": "2025-07-30T14:21:43.565667",
     "status": "completed"
    },
    "tags": []
   },
   "outputs": [],
   "source": [
    "from fairness_multiverse.universe import predict_w_threshold"
   ]
  },
  {
   "cell_type": "code",
   "execution_count": 45,
   "id": "a7cf2e16",
   "metadata": {
    "execution": {
     "iopub.execute_input": "2025-07-30T14:21:43.654573Z",
     "iopub.status.busy": "2025-07-30T14:21:43.654175Z",
     "iopub.status.idle": "2025-07-30T14:21:44.613524Z",
     "shell.execute_reply": "2025-07-30T14:21:44.612463Z"
    },
    "papermill": {
     "duration": 0.98966,
     "end_time": "2025-07-30T14:21:44.615657",
     "exception": false,
     "start_time": "2025-07-30T14:21:43.625997",
     "status": "completed"
    },
    "tags": []
   },
   "outputs": [
    {
     "data": {
      "text/plain": [
       "0.8610188384795452"
      ]
     },
     "execution_count": 45,
     "metadata": {},
     "output_type": "execute_result"
    }
   ],
   "source": [
    "probs_test = model.predict_proba(X_test)\n",
    "\n",
    "'''\n",
    "Below code returns a boolean array (or binary 0/1 array depending on how it’s used) where each element \n",
    "is True if the probability of class 1 is greater than or equal to the threshold, and False otherwise.\n",
    "'''\n",
    "y_pred_default = predict_w_threshold(probs_test, 0.5)\n",
    "\n",
    "from sklearn.metrics import accuracy_score\n",
    "\n",
    "# Naive prediction\n",
    "accuracy_score(y_true = y_true, y_pred = y_pred_default)"
   ]
  },
  {
   "cell_type": "code",
   "execution_count": 46,
   "id": "081964c3",
   "metadata": {
    "execution": {
     "iopub.execute_input": "2025-07-30T14:21:44.673501Z",
     "iopub.status.busy": "2025-07-30T14:21:44.673069Z",
     "iopub.status.idle": "2025-07-30T14:21:45.677249Z",
     "shell.execute_reply": "2025-07-30T14:21:45.676400Z"
    },
    "papermill": {
     "duration": 1.035483,
     "end_time": "2025-07-30T14:21:45.678529",
     "exception": false,
     "start_time": "2025-07-30T14:21:44.643046",
     "status": "completed"
    },
    "tags": []
   },
   "outputs": [
    {
     "data": {
      "text/plain": [
       "array([0, 0, 0, ..., 0, 0, 0])"
      ]
     },
     "execution_count": 46,
     "metadata": {},
     "output_type": "execute_result"
    }
   ],
   "source": [
    "model.predict(X_test)"
   ]
  },
  {
   "cell_type": "markdown",
   "id": "56c9705b",
   "metadata": {
    "papermill": {
     "duration": 0.022341,
     "end_time": "2025-07-30T14:21:45.722101",
     "exception": false,
     "start_time": "2025-07-30T14:21:45.699760",
     "status": "completed"
    },
    "tags": []
   },
   "source": [
    "# Conformal Prediction"
   ]
  },
  {
   "cell_type": "code",
   "execution_count": 47,
   "id": "160ec6ff",
   "metadata": {
    "execution": {
     "iopub.execute_input": "2025-07-30T14:21:45.779239Z",
     "iopub.status.busy": "2025-07-30T14:21:45.778814Z",
     "iopub.status.idle": "2025-07-30T14:21:45.784227Z",
     "shell.execute_reply": "2025-07-30T14:21:45.783224Z"
    },
    "papermill": {
     "duration": 0.03454,
     "end_time": "2025-07-30T14:21:45.786726",
     "exception": false,
     "start_time": "2025-07-30T14:21:45.752186",
     "status": "completed"
    },
    "tags": []
   },
   "outputs": [],
   "source": [
    "# Miscoverage level for conformal prediction (10% allowed error rate => 90% target coverage)\n",
    "alpha = 0.1"
   ]
  },
  {
   "cell_type": "code",
   "execution_count": 48,
   "id": "eadf4555-3dd3-440e-8e35-f82a4ad9f855",
   "metadata": {
    "execution": {
     "iopub.execute_input": "2025-07-30T14:21:45.902146Z",
     "iopub.status.busy": "2025-07-30T14:21:45.901692Z",
     "iopub.status.idle": "2025-07-30T14:21:46.960312Z",
     "shell.execute_reply": "2025-07-30T14:21:46.959261Z"
    },
    "papermill": {
     "duration": 1.105629,
     "end_time": "2025-07-30T14:21:46.962374",
     "exception": false,
     "start_time": "2025-07-30T14:21:45.856745",
     "status": "completed"
    },
    "tags": []
   },
   "outputs": [],
   "source": [
    "probs_calib = model.predict_proba(X_calib)"
   ]
  },
  {
   "cell_type": "code",
   "execution_count": 49,
   "id": "2ed93547-6d5d-4983-9b36-1ecb300da49a",
   "metadata": {
    "execution": {
     "iopub.execute_input": "2025-07-30T14:21:47.034147Z",
     "iopub.status.busy": "2025-07-30T14:21:47.033107Z",
     "iopub.status.idle": "2025-07-30T14:21:47.039293Z",
     "shell.execute_reply": "2025-07-30T14:21:47.038203Z"
    },
    "papermill": {
     "duration": 0.039215,
     "end_time": "2025-07-30T14:21:47.042268",
     "exception": false,
     "start_time": "2025-07-30T14:21:47.003053",
     "status": "completed"
    },
    "tags": []
   },
   "outputs": [],
   "source": [
    "y_calib = y_calib.values.ravel().astype(int)"
   ]
  },
  {
   "cell_type": "code",
   "execution_count": 50,
   "id": "65d1320d-f588-4b38-9072-62af1ae97f7d",
   "metadata": {
    "execution": {
     "iopub.execute_input": "2025-07-30T14:21:47.120593Z",
     "iopub.status.busy": "2025-07-30T14:21:47.120104Z",
     "iopub.status.idle": "2025-07-30T14:21:47.129235Z",
     "shell.execute_reply": "2025-07-30T14:21:47.127946Z"
    },
    "papermill": {
     "duration": 0.060521,
     "end_time": "2025-07-30T14:21:47.133101",
     "exception": false,
     "start_time": "2025-07-30T14:21:47.072580",
     "status": "completed"
    },
    "tags": []
   },
   "outputs": [],
   "source": [
    "from fairness_multiverse.conformal import compute_nc_scores\n",
    "\n",
    "# Compute nonconformity scores on calibration set (1 - probability of true class)\n",
    "nc_scores = compute_nc_scores(probs_calib, y_calib)"
   ]
  },
  {
   "cell_type": "code",
   "execution_count": 51,
   "id": "df3b8ca3-53b7-43d5-9667-7c85da7aeda2",
   "metadata": {
    "execution": {
     "iopub.execute_input": "2025-07-30T14:21:47.199056Z",
     "iopub.status.busy": "2025-07-30T14:21:47.198614Z",
     "iopub.status.idle": "2025-07-30T14:21:47.210450Z",
     "shell.execute_reply": "2025-07-30T14:21:47.209078Z"
    },
    "papermill": {
     "duration": 0.053712,
     "end_time": "2025-07-30T14:21:47.216011",
     "exception": false,
     "start_time": "2025-07-30T14:21:47.162299",
     "status": "completed"
    },
    "tags": []
   },
   "outputs": [],
   "source": [
    "from fairness_multiverse.conformal import find_threshold\n",
    "\n",
    "# Find conformal threshold q_hat for the given alpha (split conformal method)\n",
    "q_hat = find_threshold(nc_scores, alpha)"
   ]
  },
  {
   "cell_type": "code",
   "execution_count": 52,
   "id": "4d29e6c1-0ef6-4aa4-b8fe-4fe79b0d033a",
   "metadata": {
    "execution": {
     "iopub.execute_input": "2025-07-30T14:21:47.283884Z",
     "iopub.status.busy": "2025-07-30T14:21:47.283402Z",
     "iopub.status.idle": "2025-07-30T14:21:47.292220Z",
     "shell.execute_reply": "2025-07-30T14:21:47.290448Z"
    },
    "papermill": {
     "duration": 0.044286,
     "end_time": "2025-07-30T14:21:47.296914",
     "exception": false,
     "start_time": "2025-07-30T14:21:47.252628",
     "status": "completed"
    },
    "tags": []
   },
   "outputs": [
    {
     "data": {
      "text/plain": [
       "0.6699999999999999"
      ]
     },
     "execution_count": 52,
     "metadata": {},
     "output_type": "execute_result"
    }
   ],
   "source": [
    "q_hat"
   ]
  },
  {
   "cell_type": "code",
   "execution_count": 53,
   "id": "92460794-cdac-4be2-ba28-f28c0515a6fb",
   "metadata": {
    "execution": {
     "iopub.execute_input": "2025-07-30T14:21:47.353759Z",
     "iopub.status.busy": "2025-07-30T14:21:47.353292Z",
     "iopub.status.idle": "2025-07-30T14:21:49.127994Z",
     "shell.execute_reply": "2025-07-30T14:21:49.127051Z"
    },
    "papermill": {
     "duration": 1.801913,
     "end_time": "2025-07-30T14:21:49.130139",
     "exception": false,
     "start_time": "2025-07-30T14:21:47.328226",
     "status": "completed"
    },
    "tags": []
   },
   "outputs": [],
   "source": [
    "from fairness_multiverse.conformal import predict_conformal_sets\n",
    "\n",
    "# Generate prediction sets for each test example\n",
    "pred_sets = predict_conformal_sets(model, X_test, q_hat)"
   ]
  },
  {
   "cell_type": "code",
   "execution_count": 54,
   "id": "d90c9a65-e6db-4f5d-80cd-e68fb7e46829",
   "metadata": {
    "execution": {
     "iopub.execute_input": "2025-07-30T14:21:49.179709Z",
     "iopub.status.busy": "2025-07-30T14:21:49.178760Z",
     "iopub.status.idle": "2025-07-30T14:21:49.184806Z",
     "shell.execute_reply": "2025-07-30T14:21:49.183862Z"
    },
    "papermill": {
     "duration": 0.031881,
     "end_time": "2025-07-30T14:21:49.186629",
     "exception": false,
     "start_time": "2025-07-30T14:21:49.154748",
     "status": "completed"
    },
    "tags": []
   },
   "outputs": [],
   "source": [
    "y_true = y_true.squeeze()"
   ]
  },
  {
   "cell_type": "code",
   "execution_count": 55,
   "id": "3a58a54a-1e68-46b9-927a-df01f18aebc8",
   "metadata": {
    "execution": {
     "iopub.execute_input": "2025-07-30T14:21:49.242933Z",
     "iopub.status.busy": "2025-07-30T14:21:49.242156Z",
     "iopub.status.idle": "2025-07-30T14:21:50.164427Z",
     "shell.execute_reply": "2025-07-30T14:21:50.163339Z"
    },
    "papermill": {
     "duration": 0.952226,
     "end_time": "2025-07-30T14:21:50.166363",
     "exception": false,
     "start_time": "2025-07-30T14:21:49.214137",
     "status": "completed"
    },
    "tags": []
   },
   "outputs": [],
   "source": [
    "from fairness_multiverse.conformal import evaluate_sets\n",
    "\n",
    "# Evaluate coverage and average set size on test data\n",
    "metrics = evaluate_sets(pred_sets, y_true)"
   ]
  },
  {
   "cell_type": "markdown",
   "id": "2b569c12-9aaa-4c88-98c9-bbcd0cf3ebb8",
   "metadata": {
    "papermill": {
     "duration": 0.02778,
     "end_time": "2025-07-30T14:21:50.221565",
     "exception": false,
     "start_time": "2025-07-30T14:21:50.193785",
     "status": "completed"
    },
    "tags": []
   },
   "source": [
    "# CP Metrics"
   ]
  },
  {
   "cell_type": "code",
   "execution_count": 56,
   "id": "5ce0a5cb-201f-45a0-ade5-94c7f0bd6095",
   "metadata": {
    "execution": {
     "iopub.execute_input": "2025-07-30T14:21:50.270927Z",
     "iopub.status.busy": "2025-07-30T14:21:50.270462Z",
     "iopub.status.idle": "2025-07-30T14:21:50.277368Z",
     "shell.execute_reply": "2025-07-30T14:21:50.276519Z"
    },
    "papermill": {
     "duration": 0.031567,
     "end_time": "2025-07-30T14:21:50.279011",
     "exception": false,
     "start_time": "2025-07-30T14:21:50.247444",
     "status": "completed"
    },
    "tags": []
   },
   "outputs": [
    {
     "data": {
      "text/plain": [
       "{'coverage': 0.9135882287370416, 'avg_size': 1.1469624345112028}"
      ]
     },
     "execution_count": 56,
     "metadata": {},
     "output_type": "execute_result"
    }
   ],
   "source": [
    "metrics"
   ]
  },
  {
   "cell_type": "code",
   "execution_count": 57,
   "id": "9b9a838d-31c9-430b-ae14-12baee460d17",
   "metadata": {
    "execution": {
     "iopub.execute_input": "2025-07-30T14:21:50.337489Z",
     "iopub.status.busy": "2025-07-30T14:21:50.336591Z",
     "iopub.status.idle": "2025-07-30T14:21:50.343336Z",
     "shell.execute_reply": "2025-07-30T14:21:50.342429Z"
    },
    "papermill": {
     "duration": 0.038877,
     "end_time": "2025-07-30T14:21:50.345041",
     "exception": false,
     "start_time": "2025-07-30T14:21:50.306164",
     "status": "completed"
    },
    "tags": []
   },
   "outputs": [],
   "source": [
    "example_universe = universe.copy()\n",
    "universe_training_size = example_universe.get(\"training_size\")\n",
    "universe_scale = example_universe.get(\"scale\")\n",
    "universe_model = example_universe.get(\"model\")\n",
    "universe_exclude_features = example_universe.get(\"exclude_features\")\n",
    "universe_exclude_subgroups = example_universe.get(\"exclude_subgroups\")"
   ]
  },
  {
   "cell_type": "code",
   "execution_count": 58,
   "id": "f4b6a8ac-9dc0-4245-8a91-5b3b5999c4f9",
   "metadata": {
    "execution": {
     "iopub.execute_input": "2025-07-30T14:21:50.401304Z",
     "iopub.status.busy": "2025-07-30T14:21:50.400889Z",
     "iopub.status.idle": "2025-07-30T14:21:50.407266Z",
     "shell.execute_reply": "2025-07-30T14:21:50.406322Z"
    },
    "papermill": {
     "duration": 0.039234,
     "end_time": "2025-07-30T14:21:50.410545",
     "exception": false,
     "start_time": "2025-07-30T14:21:50.371311",
     "status": "completed"
    },
    "tags": []
   },
   "outputs": [],
   "source": [
    "cp_metrics_dict = {\n",
    "    \"universe_id\": [universe_id],\n",
    "    \"universe_training_size\": [universe_training_size],\n",
    "    \"universe_scale\": [universe_scale],\n",
    "    \"universe_model\": [universe_model],\n",
    "    \"universe_exclude_features\": [universe_exclude_features],\n",
    "    \"universe_exclude_subgroups\": [universe_exclude_subgroups],\n",
    "    \"q_hat\": [q_hat],\n",
    "    \"coverage\": [metrics[\"coverage\"]],\n",
    "    \"avg_size\": [metrics[\"avg_size\"]],\n",
    "}"
   ]
  },
  {
   "cell_type": "code",
   "execution_count": 59,
   "id": "908acbb1-0371-4915-85ca-3fa520d2efe2",
   "metadata": {
    "execution": {
     "iopub.execute_input": "2025-07-30T14:21:50.464892Z",
     "iopub.status.busy": "2025-07-30T14:21:50.464402Z",
     "iopub.status.idle": "2025-07-30T14:21:50.472144Z",
     "shell.execute_reply": "2025-07-30T14:21:50.471161Z"
    },
    "papermill": {
     "duration": 0.036508,
     "end_time": "2025-07-30T14:21:50.473755",
     "exception": false,
     "start_time": "2025-07-30T14:21:50.437247",
     "status": "completed"
    },
    "tags": []
   },
   "outputs": [
    {
     "data": {
      "text/plain": [
       "{'universe_id': ['2217812f2273c5741a0ef7309461d53b'],\n",
       " 'universe_training_size': ['1k'],\n",
       " 'universe_scale': ['scale'],\n",
       " 'universe_model': ['rf'],\n",
       " 'universe_exclude_features': ['nationality-sex'],\n",
       " 'universe_exclude_subgroups': ['drop-non-german'],\n",
       " 'q_hat': [0.6699999999999999],\n",
       " 'coverage': [0.9135882287370416],\n",
       " 'avg_size': [1.1469624345112028]}"
      ]
     },
     "execution_count": 59,
     "metadata": {},
     "output_type": "execute_result"
    }
   ],
   "source": [
    "cp_metrics_dict"
   ]
  },
  {
   "cell_type": "code",
   "execution_count": 60,
   "id": "33007efc-14e9-4ec6-97ac-56a455c82265",
   "metadata": {
    "execution": {
     "iopub.execute_input": "2025-07-30T14:21:50.526555Z",
     "iopub.status.busy": "2025-07-30T14:21:50.526092Z",
     "iopub.status.idle": "2025-07-30T14:21:50.532293Z",
     "shell.execute_reply": "2025-07-30T14:21:50.531240Z"
    },
    "papermill": {
     "duration": 0.034047,
     "end_time": "2025-07-30T14:21:50.534020",
     "exception": false,
     "start_time": "2025-07-30T14:21:50.499973",
     "status": "completed"
    },
    "tags": []
   },
   "outputs": [],
   "source": [
    "cp_metrics_df = pd.DataFrame(cp_metrics_dict)"
   ]
  },
  {
   "cell_type": "code",
   "execution_count": 61,
   "id": "db12611b-57b2-4910-b9d0-355adfd6e7bf",
   "metadata": {
    "execution": {
     "iopub.execute_input": "2025-07-30T14:21:50.586910Z",
     "iopub.status.busy": "2025-07-30T14:21:50.586475Z",
     "iopub.status.idle": "2025-07-30T14:21:50.605432Z",
     "shell.execute_reply": "2025-07-30T14:21:50.604450Z"
    },
    "papermill": {
     "duration": 0.046916,
     "end_time": "2025-07-30T14:21:50.607001",
     "exception": false,
     "start_time": "2025-07-30T14:21:50.560085",
     "status": "completed"
    },
    "tags": []
   },
   "outputs": [
    {
     "data": {
      "text/html": [
       "<div>\n",
       "<style scoped>\n",
       "    .dataframe tbody tr th:only-of-type {\n",
       "        vertical-align: middle;\n",
       "    }\n",
       "\n",
       "    .dataframe tbody tr th {\n",
       "        vertical-align: top;\n",
       "    }\n",
       "\n",
       "    .dataframe thead th {\n",
       "        text-align: right;\n",
       "    }\n",
       "</style>\n",
       "<table border=\"1\" class=\"dataframe\">\n",
       "  <thead>\n",
       "    <tr style=\"text-align: right;\">\n",
       "      <th></th>\n",
       "      <th>universe_id</th>\n",
       "      <th>universe_training_size</th>\n",
       "      <th>universe_scale</th>\n",
       "      <th>universe_model</th>\n",
       "      <th>universe_exclude_features</th>\n",
       "      <th>universe_exclude_subgroups</th>\n",
       "      <th>q_hat</th>\n",
       "      <th>coverage</th>\n",
       "      <th>avg_size</th>\n",
       "    </tr>\n",
       "  </thead>\n",
       "  <tbody>\n",
       "    <tr>\n",
       "      <th>0</th>\n",
       "      <td>2217812f2273c5741a0ef7309461d53b</td>\n",
       "      <td>1k</td>\n",
       "      <td>scale</td>\n",
       "      <td>rf</td>\n",
       "      <td>nationality-sex</td>\n",
       "      <td>drop-non-german</td>\n",
       "      <td>0.67</td>\n",
       "      <td>0.913588</td>\n",
       "      <td>1.146962</td>\n",
       "    </tr>\n",
       "  </tbody>\n",
       "</table>\n",
       "</div>"
      ],
      "text/plain": [
       "                        universe_id universe_training_size universe_scale  \\\n",
       "0  2217812f2273c5741a0ef7309461d53b                     1k          scale   \n",
       "\n",
       "  universe_model universe_exclude_features universe_exclude_subgroups  q_hat  \\\n",
       "0             rf           nationality-sex            drop-non-german   0.67   \n",
       "\n",
       "   coverage  avg_size  \n",
       "0  0.913588  1.146962  "
      ]
     },
     "execution_count": 61,
     "metadata": {},
     "output_type": "execute_result"
    }
   ],
   "source": [
    "cp_metrics_df"
   ]
  },
  {
   "cell_type": "code",
   "execution_count": 62,
   "id": "b7fbde55-a0a1-47e4-9af6-fe4a17fa8c61",
   "metadata": {
    "execution": {
     "iopub.execute_input": "2025-07-30T14:21:50.663033Z",
     "iopub.status.busy": "2025-07-30T14:21:50.662132Z",
     "iopub.status.idle": "2025-07-30T14:21:50.667521Z",
     "shell.execute_reply": "2025-07-30T14:21:50.666643Z"
    },
    "papermill": {
     "duration": 0.035122,
     "end_time": "2025-07-30T14:21:50.669398",
     "exception": false,
     "start_time": "2025-07-30T14:21:50.634276",
     "status": "completed"
    },
    "tags": []
   },
   "outputs": [],
   "source": [
    "# Conditional Coverage & looking at subgroups"
   ]
  },
  {
   "cell_type": "code",
   "execution_count": 63,
   "id": "027ae886-68dd-4141-96c7-805a5450e1ef",
   "metadata": {
    "execution": {
     "iopub.execute_input": "2025-07-30T14:21:50.724665Z",
     "iopub.status.busy": "2025-07-30T14:21:50.724114Z",
     "iopub.status.idle": "2025-07-30T14:21:50.980462Z",
     "shell.execute_reply": "2025-07-30T14:21:50.979496Z"
    },
    "papermill": {
     "duration": 0.285738,
     "end_time": "2025-07-30T14:21:50.982265",
     "exception": false,
     "start_time": "2025-07-30T14:21:50.696527",
     "status": "completed"
    },
    "tags": []
   },
   "outputs": [],
   "source": [
    "from fairness_multiverse.conformal import build_cp_groups\n",
    "\n",
    "cp_groups_df = build_cp_groups(pred_sets, y_true, X_test.index, org_test)\n",
    "#needs universe_id and setting"
   ]
  },
  {
   "cell_type": "code",
   "execution_count": 64,
   "id": "01d5802c-663a-4d1f-9d69-e036faaffbf7",
   "metadata": {
    "execution": {
     "iopub.execute_input": "2025-07-30T14:21:51.041311Z",
     "iopub.status.busy": "2025-07-30T14:21:51.040801Z",
     "iopub.status.idle": "2025-07-30T14:21:51.045697Z",
     "shell.execute_reply": "2025-07-30T14:21:51.044789Z"
    },
    "papermill": {
     "duration": 0.036876,
     "end_time": "2025-07-30T14:21:51.047512",
     "exception": false,
     "start_time": "2025-07-30T14:21:51.010636",
     "status": "completed"
    },
    "tags": []
   },
   "outputs": [],
   "source": [
    "#delete\n",
    "#cp_groups_df"
   ]
  },
  {
   "cell_type": "code",
   "execution_count": 65,
   "id": "fa424af1-d1eb-443d-b717-2d279ada8408",
   "metadata": {
    "execution": {
     "iopub.execute_input": "2025-07-30T14:21:51.106833Z",
     "iopub.status.busy": "2025-07-30T14:21:51.106051Z",
     "iopub.status.idle": "2025-07-30T14:21:51.111403Z",
     "shell.execute_reply": "2025-07-30T14:21:51.110382Z"
    },
    "papermill": {
     "duration": 0.036613,
     "end_time": "2025-07-30T14:21:51.113186",
     "exception": false,
     "start_time": "2025-07-30T14:21:51.076573",
     "status": "completed"
    },
    "tags": []
   },
   "outputs": [],
   "source": [
    "#delete\n",
    "#percentage = (cp_groups_df['nongerman_female'] == 1).mean() * 100\n",
    "#print(percentage)\n"
   ]
  },
  {
   "cell_type": "code",
   "execution_count": 66,
   "id": "6cbdab96-b2b2-45af-ad54-d0516db2e28d",
   "metadata": {
    "execution": {
     "iopub.execute_input": "2025-07-30T14:21:51.172422Z",
     "iopub.status.busy": "2025-07-30T14:21:51.171782Z",
     "iopub.status.idle": "2025-07-30T14:21:53.234520Z",
     "shell.execute_reply": "2025-07-30T14:21:53.233457Z"
    },
    "papermill": {
     "duration": 2.094884,
     "end_time": "2025-07-30T14:21:53.236921",
     "exception": false,
     "start_time": "2025-07-30T14:21:51.142037",
     "status": "completed"
    },
    "tags": []
   },
   "outputs": [],
   "source": [
    "# Define covered = 1 if true_label is in the predicted set\n",
    "cp_groups_df['covered'] = cp_groups_df.apply(\n",
    "    lambda r: int(r['true_label'] in r['pred_set']),\n",
    "    axis=1\n",
    ")"
   ]
  },
  {
   "cell_type": "code",
   "execution_count": 67,
   "id": "338ff529-1a6b-4b87-a931-8e4788d52aad",
   "metadata": {
    "execution": {
     "iopub.execute_input": "2025-07-30T14:21:53.313370Z",
     "iopub.status.busy": "2025-07-30T14:21:53.312636Z",
     "iopub.status.idle": "2025-07-30T14:21:53.318635Z",
     "shell.execute_reply": "2025-07-30T14:21:53.317425Z"
    },
    "papermill": {
     "duration": 0.046622,
     "end_time": "2025-07-30T14:21:53.320765",
     "exception": false,
     "start_time": "2025-07-30T14:21:53.274143",
     "status": "completed"
    },
    "tags": []
   },
   "outputs": [],
   "source": [
    "#cp_groups_df"
   ]
  },
  {
   "cell_type": "code",
   "execution_count": 68,
   "id": "90032e27-66df-4540-9169-4e89cfbaa758",
   "metadata": {
    "execution": {
     "iopub.execute_input": "2025-07-30T14:21:53.397743Z",
     "iopub.status.busy": "2025-07-30T14:21:53.396996Z",
     "iopub.status.idle": "2025-07-30T14:21:53.412080Z",
     "shell.execute_reply": "2025-07-30T14:21:53.410758Z"
    },
    "papermill": {
     "duration": 0.055536,
     "end_time": "2025-07-30T14:21:53.413835",
     "exception": false,
     "start_time": "2025-07-30T14:21:53.358299",
     "status": "completed"
    },
    "tags": []
   },
   "outputs": [],
   "source": [
    "subgroups = ['frau1','nongerman','nongerman_male','nongerman_female']\n",
    "\n",
    "# Conditional coverage for subgroup==1\n",
    "cond_coverage = {\n",
    "    g: cp_groups_df.loc[cp_groups_df[g]==1, 'covered'].mean()\n",
    "    for g in subgroups\n",
    "}"
   ]
  },
  {
   "cell_type": "code",
   "execution_count": 69,
   "id": "1e348fb1-b9c3-45bc-ba23-f016827a7e0d",
   "metadata": {
    "execution": {
     "iopub.execute_input": "2025-07-30T14:21:53.468118Z",
     "iopub.status.busy": "2025-07-30T14:21:53.467189Z",
     "iopub.status.idle": "2025-07-30T14:21:53.476140Z",
     "shell.execute_reply": "2025-07-30T14:21:53.474912Z"
    },
    "papermill": {
     "duration": 0.037247,
     "end_time": "2025-07-30T14:21:53.478017",
     "exception": false,
     "start_time": "2025-07-30T14:21:53.440770",
     "status": "completed"
    },
    "tags": []
   },
   "outputs": [
    {
     "data": {
      "text/plain": [
       "{'frau1': 0.9093678393314463,\n",
       " 'nongerman': 0.9082131027900971,\n",
       " 'nongerman_male': 0.9264162838872377,\n",
       " 'nongerman_female': 0.8780923994038748}"
      ]
     },
     "execution_count": 69,
     "metadata": {},
     "output_type": "execute_result"
    }
   ],
   "source": [
    "cond_coverage"
   ]
  },
  {
   "cell_type": "code",
   "execution_count": 70,
   "id": "f5093324-c3dd-4d63-bc4c-8d945e5c8bbb",
   "metadata": {
    "execution": {
     "iopub.execute_input": "2025-07-30T14:21:53.534695Z",
     "iopub.status.busy": "2025-07-30T14:21:53.533754Z",
     "iopub.status.idle": "2025-07-30T14:21:53.542469Z",
     "shell.execute_reply": "2025-07-30T14:21:53.541515Z"
    },
    "papermill": {
     "duration": 0.036918,
     "end_time": "2025-07-30T14:21:53.544100",
     "exception": false,
     "start_time": "2025-07-30T14:21:53.507182",
     "status": "completed"
    },
    "tags": []
   },
   "outputs": [],
   "source": [
    "for subgroup, cov in cond_coverage.items():\n",
    "    cp_metrics_df[f\"cov_{subgroup}\"] = cov"
   ]
  },
  {
   "cell_type": "code",
   "execution_count": 71,
   "id": "6e872e10-dbe5-49e8-b554-5030c98ff75d",
   "metadata": {
    "execution": {
     "iopub.execute_input": "2025-07-30T14:21:53.596320Z",
     "iopub.status.busy": "2025-07-30T14:21:53.595815Z",
     "iopub.status.idle": "2025-07-30T14:21:53.613401Z",
     "shell.execute_reply": "2025-07-30T14:21:53.612495Z"
    },
    "papermill": {
     "duration": 0.045025,
     "end_time": "2025-07-30T14:21:53.615039",
     "exception": false,
     "start_time": "2025-07-30T14:21:53.570014",
     "status": "completed"
    },
    "tags": []
   },
   "outputs": [
    {
     "data": {
      "text/html": [
       "<div>\n",
       "<style scoped>\n",
       "    .dataframe tbody tr th:only-of-type {\n",
       "        vertical-align: middle;\n",
       "    }\n",
       "\n",
       "    .dataframe tbody tr th {\n",
       "        vertical-align: top;\n",
       "    }\n",
       "\n",
       "    .dataframe thead th {\n",
       "        text-align: right;\n",
       "    }\n",
       "</style>\n",
       "<table border=\"1\" class=\"dataframe\">\n",
       "  <thead>\n",
       "    <tr style=\"text-align: right;\">\n",
       "      <th></th>\n",
       "      <th>universe_id</th>\n",
       "      <th>universe_training_size</th>\n",
       "      <th>universe_scale</th>\n",
       "      <th>universe_model</th>\n",
       "      <th>universe_exclude_features</th>\n",
       "      <th>universe_exclude_subgroups</th>\n",
       "      <th>q_hat</th>\n",
       "      <th>coverage</th>\n",
       "      <th>avg_size</th>\n",
       "      <th>cov_frau1</th>\n",
       "      <th>cov_nongerman</th>\n",
       "      <th>cov_nongerman_male</th>\n",
       "      <th>cov_nongerman_female</th>\n",
       "    </tr>\n",
       "  </thead>\n",
       "  <tbody>\n",
       "    <tr>\n",
       "      <th>0</th>\n",
       "      <td>2217812f2273c5741a0ef7309461d53b</td>\n",
       "      <td>1k</td>\n",
       "      <td>scale</td>\n",
       "      <td>rf</td>\n",
       "      <td>nationality-sex</td>\n",
       "      <td>drop-non-german</td>\n",
       "      <td>0.67</td>\n",
       "      <td>0.913588</td>\n",
       "      <td>1.146962</td>\n",
       "      <td>0.909368</td>\n",
       "      <td>0.908213</td>\n",
       "      <td>0.926416</td>\n",
       "      <td>0.878092</td>\n",
       "    </tr>\n",
       "  </tbody>\n",
       "</table>\n",
       "</div>"
      ],
      "text/plain": [
       "                        universe_id universe_training_size universe_scale  \\\n",
       "0  2217812f2273c5741a0ef7309461d53b                     1k          scale   \n",
       "\n",
       "  universe_model universe_exclude_features universe_exclude_subgroups  q_hat  \\\n",
       "0             rf           nationality-sex            drop-non-german   0.67   \n",
       "\n",
       "   coverage  avg_size  cov_frau1  cov_nongerman  cov_nongerman_male  \\\n",
       "0  0.913588  1.146962   0.909368       0.908213            0.926416   \n",
       "\n",
       "   cov_nongerman_female  \n",
       "0              0.878092  "
      ]
     },
     "execution_count": 71,
     "metadata": {},
     "output_type": "execute_result"
    }
   ],
   "source": [
    "cp_metrics_df"
   ]
  },
  {
   "cell_type": "markdown",
   "id": "33774451",
   "metadata": {
    "papermill": {
     "duration": 0.025691,
     "end_time": "2025-07-30T14:21:53.667581",
     "exception": false,
     "start_time": "2025-07-30T14:21:53.641890",
     "status": "completed"
    },
    "tags": []
   },
   "source": [
    "# (Fairness) Metrics"
   ]
  },
  {
   "cell_type": "code",
   "execution_count": 72,
   "id": "debc5d62",
   "metadata": {
    "execution": {
     "iopub.execute_input": "2025-07-30T14:21:53.722516Z",
     "iopub.status.busy": "2025-07-30T14:21:53.721738Z",
     "iopub.status.idle": "2025-07-30T14:21:53.743226Z",
     "shell.execute_reply": "2025-07-30T14:21:53.742308Z"
    },
    "papermill": {
     "duration": 0.051444,
     "end_time": "2025-07-30T14:21:53.744946",
     "exception": false,
     "start_time": "2025-07-30T14:21:53.693502",
     "status": "completed"
    },
    "tags": []
   },
   "outputs": [],
   "source": [
    "# do I need to include maxdeutsch1.missing?\n",
    "\n",
    "import numpy as np\n",
    "\n",
    "colname_to_bin = \"maxdeutsch1\"\n",
    "majority_value = org_train[colname_to_bin].mode()[0]\n",
    "\n",
    "org_test[\"majmin\"] = np.where(org_test[colname_to_bin] == majority_value, \"majority\", \"minority\")"
   ]
  },
  {
   "cell_type": "code",
   "execution_count": 73,
   "id": "06a50de5",
   "metadata": {
    "execution": {
     "iopub.execute_input": "2025-07-30T14:21:53.799792Z",
     "iopub.status.busy": "2025-07-30T14:21:53.799131Z",
     "iopub.status.idle": "2025-07-30T14:21:56.616289Z",
     "shell.execute_reply": "2025-07-30T14:21:56.615267Z"
    },
    "papermill": {
     "duration": 2.846955,
     "end_time": "2025-07-30T14:21:56.618345",
     "exception": false,
     "start_time": "2025-07-30T14:21:53.771390",
     "status": "completed"
    },
    "tags": []
   },
   "outputs": [],
   "source": [
    "example_universe = universe.copy()\n",
    "example_universe[\"cutoff\"] = example_universe[\"cutoff\"][0]\n",
    "example_universe[\"eval_fairness_grouping\"] = example_universe[\"eval_fairness_grouping\"][0]\n",
    "fairness_dict, metric_frame = universe_analysis.compute_metrics(\n",
    "    example_universe,\n",
    "    y_pred_prob=probs_test,\n",
    "    y_test=y_true,\n",
    "    org_test=org_test,\n",
    ")"
   ]
  },
  {
   "cell_type": "markdown",
   "id": "f95d4e02",
   "metadata": {
    "papermill": {
     "duration": 0.032324,
     "end_time": "2025-07-30T14:21:56.684258",
     "exception": false,
     "start_time": "2025-07-30T14:21:56.651934",
     "status": "completed"
    },
    "tags": []
   },
   "source": [
    "# Overall"
   ]
  },
  {
   "cell_type": "markdown",
   "id": "bdee4871",
   "metadata": {
    "papermill": {
     "duration": 0.031276,
     "end_time": "2025-07-30T14:21:56.746616",
     "exception": false,
     "start_time": "2025-07-30T14:21:56.715340",
     "status": "completed"
    },
    "tags": []
   },
   "source": [
    "Fairness\n",
    "Main fairness target: Equalized Odds. Seems to be a better fit than equal opportunity, since we're not only interested in Y = 1. Seems to be a better fit than demographic parity, since we also care about accuracy, not just equal distribution of preds.\n",
    "\n",
    "Pick column for computation of fairness metrics\n",
    "\n",
    "Performance\n",
    "Overall performance measures, most interesting in relation to the measures split by group below"
   ]
  },
  {
   "cell_type": "code",
   "execution_count": 74,
   "id": "c4e067c6",
   "metadata": {
    "execution": {
     "iopub.execute_input": "2025-07-30T14:21:56.813764Z",
     "iopub.status.busy": "2025-07-30T14:21:56.812824Z",
     "iopub.status.idle": "2025-07-30T14:21:56.821957Z",
     "shell.execute_reply": "2025-07-30T14:21:56.820820Z"
    },
    "papermill": {
     "duration": 0.044438,
     "end_time": "2025-07-30T14:21:56.823928",
     "exception": false,
     "start_time": "2025-07-30T14:21:56.779490",
     "status": "completed"
    },
    "tags": []
   },
   "outputs": [
    {
     "data": {
      "text/plain": [
       "accuracy                   0.202397\n",
       "balanced accuracy          0.535879\n",
       "f1                         0.240503\n",
       "precision                  0.136984\n",
       "false positive rate        0.912688\n",
       "false negative rate        0.015554\n",
       "selection rate             0.921893\n",
       "count                  89710.000000\n",
       "dtype: float64"
      ]
     },
     "execution_count": 74,
     "metadata": {},
     "output_type": "execute_result"
    }
   ],
   "source": [
    "metric_frame.overall"
   ]
  },
  {
   "cell_type": "markdown",
   "id": "e968fe9d",
   "metadata": {
    "papermill": {
     "duration": 0.027831,
     "end_time": "2025-07-30T14:21:56.882645",
     "exception": false,
     "start_time": "2025-07-30T14:21:56.854814",
     "status": "completed"
    },
    "tags": []
   },
   "source": [
    "By Group"
   ]
  },
  {
   "cell_type": "code",
   "execution_count": 75,
   "id": "ec325bce",
   "metadata": {
    "execution": {
     "iopub.execute_input": "2025-07-30T14:21:56.942737Z",
     "iopub.status.busy": "2025-07-30T14:21:56.942236Z",
     "iopub.status.idle": "2025-07-30T14:21:56.958729Z",
     "shell.execute_reply": "2025-07-30T14:21:56.957749Z"
    },
    "papermill": {
     "duration": 0.048276,
     "end_time": "2025-07-30T14:21:56.960495",
     "exception": false,
     "start_time": "2025-07-30T14:21:56.912219",
     "status": "completed"
    },
    "tags": []
   },
   "outputs": [
    {
     "data": {
      "text/html": [
       "<div>\n",
       "<style scoped>\n",
       "    .dataframe tbody tr th:only-of-type {\n",
       "        vertical-align: middle;\n",
       "    }\n",
       "\n",
       "    .dataframe tbody tr th {\n",
       "        vertical-align: top;\n",
       "    }\n",
       "\n",
       "    .dataframe thead th {\n",
       "        text-align: right;\n",
       "    }\n",
       "</style>\n",
       "<table border=\"1\" class=\"dataframe\">\n",
       "  <thead>\n",
       "    <tr style=\"text-align: right;\">\n",
       "      <th></th>\n",
       "      <th>accuracy</th>\n",
       "      <th>balanced accuracy</th>\n",
       "      <th>f1</th>\n",
       "      <th>precision</th>\n",
       "      <th>false positive rate</th>\n",
       "      <th>false negative rate</th>\n",
       "      <th>selection rate</th>\n",
       "      <th>count</th>\n",
       "    </tr>\n",
       "    <tr>\n",
       "      <th>majmin</th>\n",
       "      <th></th>\n",
       "      <th></th>\n",
       "      <th></th>\n",
       "      <th></th>\n",
       "      <th></th>\n",
       "      <th></th>\n",
       "      <th></th>\n",
       "      <th></th>\n",
       "    </tr>\n",
       "  </thead>\n",
       "  <tbody>\n",
       "    <tr>\n",
       "      <th>majority</th>\n",
       "      <td>0.210568</td>\n",
       "      <td>0.539528</td>\n",
       "      <td>0.248290</td>\n",
       "      <td>0.142014</td>\n",
       "      <td>0.907596</td>\n",
       "      <td>0.013348</td>\n",
       "      <td>0.918043</td>\n",
       "      <td>69170.0</td>\n",
       "    </tr>\n",
       "    <tr>\n",
       "      <th>minority</th>\n",
       "      <td>0.174878</td>\n",
       "      <td>0.523211</td>\n",
       "      <td>0.214279</td>\n",
       "      <td>0.120352</td>\n",
       "      <td>0.929507</td>\n",
       "      <td>0.024071</td>\n",
       "      <td>0.934859</td>\n",
       "      <td>20540.0</td>\n",
       "    </tr>\n",
       "  </tbody>\n",
       "</table>\n",
       "</div>"
      ],
      "text/plain": [
       "          accuracy  balanced accuracy        f1  precision  \\\n",
       "majmin                                                       \n",
       "majority  0.210568           0.539528  0.248290   0.142014   \n",
       "minority  0.174878           0.523211  0.214279   0.120352   \n",
       "\n",
       "          false positive rate  false negative rate  selection rate    count  \n",
       "majmin                                                                       \n",
       "majority             0.907596             0.013348        0.918043  69170.0  \n",
       "minority             0.929507             0.024071        0.934859  20540.0  "
      ]
     },
     "execution_count": 75,
     "metadata": {},
     "output_type": "execute_result"
    }
   ],
   "source": [
    "metric_frame.by_group"
   ]
  },
  {
   "cell_type": "code",
   "execution_count": 76,
   "id": "a9ddbe63",
   "metadata": {
    "execution": {
     "iopub.execute_input": "2025-07-30T14:21:57.024756Z",
     "iopub.status.busy": "2025-07-30T14:21:57.023578Z",
     "iopub.status.idle": "2025-07-30T14:21:59.547548Z",
     "shell.execute_reply": "2025-07-30T14:21:59.546526Z"
    },
    "papermill": {
     "duration": 2.559412,
     "end_time": "2025-07-30T14:21:59.549308",
     "exception": false,
     "start_time": "2025-07-30T14:21:56.989896",
     "status": "completed"
    },
    "tags": []
   },
   "outputs": [
    {
     "data": {
      "text/plain": [
       "array([[<Axes: title={'center': 'accuracy'}, xlabel='majmin'>,\n",
       "        <Axes: title={'center': 'balanced accuracy'}, xlabel='majmin'>,\n",
       "        <Axes: title={'center': 'f1'}, xlabel='majmin'>],\n",
       "       [<Axes: title={'center': 'precision'}, xlabel='majmin'>,\n",
       "        <Axes: title={'center': 'false positive rate'}, xlabel='majmin'>,\n",
       "        <Axes: title={'center': 'false negative rate'}, xlabel='majmin'>],\n",
       "       [<Axes: title={'center': 'selection rate'}, xlabel='majmin'>,\n",
       "        <Axes: title={'center': 'count'}, xlabel='majmin'>,\n",
       "        <Axes: xlabel='majmin'>]], dtype=object)"
      ]
     },
     "execution_count": 76,
     "metadata": {},
     "output_type": "execute_result"
    },
    {
     "data": {
      "image/png": "[encoded data removed]",
      "text/plain": [
       "<Figure size 1200x800 with 9 Axes>"
      ]
     },
     "metadata": {},
     "output_type": "display_data"
    }
   ],
   "source": [
    "# In a graphic\n",
    "metric_frame.by_group.plot.bar(\n",
    "    subplots=True,\n",
    "    layout=[3, 3],\n",
    "    legend=False,\n",
    "    figsize=[12, 8],\n",
    "    title=\"Show all metrics\",\n",
    ")"
   ]
  },
  {
   "cell_type": "markdown",
   "id": "f57a0bac",
   "metadata": {
    "papermill": {
     "duration": 0.032738,
     "end_time": "2025-07-30T14:21:59.615913",
     "exception": false,
     "start_time": "2025-07-30T14:21:59.583175",
     "status": "completed"
    },
    "tags": []
   },
   "source": [
    "# Final Output"
   ]
  },
  {
   "cell_type": "code",
   "execution_count": 77,
   "id": "96d280a3",
   "metadata": {
    "execution": {
     "iopub.execute_input": "2025-07-30T14:21:59.682182Z",
     "iopub.status.busy": "2025-07-30T14:21:59.681526Z",
     "iopub.status.idle": "2025-07-30T14:21:59.690054Z",
     "shell.execute_reply": "2025-07-30T14:21:59.689068Z"
    },
    "papermill": {
     "duration": 0.043781,
     "end_time": "2025-07-30T14:21:59.691666",
     "exception": false,
     "start_time": "2025-07-30T14:21:59.647885",
     "status": "completed"
    },
    "tags": []
   },
   "outputs": [
    {
     "data": {
      "text/plain": [
       "4"
      ]
     },
     "execution_count": 77,
     "metadata": {},
     "output_type": "execute_result"
    }
   ],
   "source": [
    "sub_universes = universe_analysis.generate_sub_universes()\n",
    "len(sub_universes)"
   ]
  },
  {
   "cell_type": "code",
   "execution_count": 78,
   "id": "92adf7ba",
   "metadata": {
    "execution": {
     "iopub.execute_input": "2025-07-30T14:21:59.758587Z",
     "iopub.status.busy": "2025-07-30T14:21:59.757675Z",
     "iopub.status.idle": "2025-07-30T14:21:59.764477Z",
     "shell.execute_reply": "2025-07-30T14:21:59.763343Z"
    },
    "papermill": {
     "duration": 0.043067,
     "end_time": "2025-07-30T14:21:59.766307",
     "exception": false,
     "start_time": "2025-07-30T14:21:59.723240",
     "status": "completed"
    },
    "tags": []
   },
   "outputs": [],
   "source": [
    "def filter_sub_universe_data(sub_universe, org_test):\n",
    "    # Keep all rows — no filtering\n",
    "    keep_rows_mask = np.ones(org_test.shape[0], dtype=bool)\n",
    "\n",
    "    print(f\"[INFO] Keeping all rows: {keep_rows_mask.sum()} rows retained.\")\n",
    "    return keep_rows_mask"
   ]
  },
  {
   "cell_type": "code",
   "execution_count": 79,
   "id": "4a759155",
   "metadata": {
    "execution": {
     "iopub.execute_input": "2025-07-30T14:21:59.835447Z",
     "iopub.status.busy": "2025-07-30T14:21:59.834603Z",
     "iopub.status.idle": "2025-07-30T14:22:10.326258Z",
     "shell.execute_reply": "2025-07-30T14:22:10.325241Z"
    },
    "papermill": {
     "duration": 10.528326,
     "end_time": "2025-07-30T14:22:10.327936",
     "exception": false,
     "start_time": "2025-07-30T14:21:59.799610",
     "status": "completed"
    },
    "tags": []
   },
   "outputs": [
    {
     "name": "stdout",
     "output_type": "stream",
     "text": [
      "Stopping execution_time clock.\n",
      "[INFO] Keeping all rows: 89710 rows retained.\n"
     ]
    },
    {
     "name": "stdout",
     "output_type": "stream",
     "text": [
      "[INFO] Keeping all rows: 89710 rows retained.\n"
     ]
    },
    {
     "name": "stdout",
     "output_type": "stream",
     "text": [
      "[INFO] Keeping all rows: 89710 rows retained.\n"
     ]
    },
    {
     "name": "stdout",
     "output_type": "stream",
     "text": [
      "[INFO] Keeping all rows: 89710 rows retained.\n"
     ]
    },
    {
     "data": {
      "text/html": [
       "<div>\n",
       "<style scoped>\n",
       "    .dataframe tbody tr th:only-of-type {\n",
       "        vertical-align: middle;\n",
       "    }\n",
       "\n",
       "    .dataframe tbody tr th {\n",
       "        vertical-align: top;\n",
       "    }\n",
       "\n",
       "    .dataframe thead th {\n",
       "        text-align: right;\n",
       "    }\n",
       "</style>\n",
       "<table border=\"1\" class=\"dataframe\">\n",
       "  <thead>\n",
       "    <tr style=\"text-align: right;\">\n",
       "      <th></th>\n",
       "      <th>run_no</th>\n",
       "      <th>universe_id</th>\n",
       "      <th>universe_settings</th>\n",
       "      <th>execution_time</th>\n",
       "      <th>test_size_n</th>\n",
       "      <th>test_size_frac</th>\n",
       "      <th>fair_main_equalized_odds_difference</th>\n",
       "      <th>fair_main_equalized_odds_ratio</th>\n",
       "      <th>fair_main_demographic_parity_difference</th>\n",
       "      <th>fair_main_demographic_parity_ratio</th>\n",
       "      <th>...</th>\n",
       "      <th>perf_grp_precision_0</th>\n",
       "      <th>perf_grp_precision_1</th>\n",
       "      <th>perf_grp_false positive rate_0</th>\n",
       "      <th>perf_grp_false positive rate_1</th>\n",
       "      <th>perf_grp_false negative rate_0</th>\n",
       "      <th>perf_grp_false negative rate_1</th>\n",
       "      <th>perf_grp_selection rate_0</th>\n",
       "      <th>perf_grp_selection rate_1</th>\n",
       "      <th>perf_grp_count_0</th>\n",
       "      <th>perf_grp_count_1</th>\n",
       "    </tr>\n",
       "  </thead>\n",
       "  <tbody>\n",
       "    <tr>\n",
       "      <th>0</th>\n",
       "      <td>12</td>\n",
       "      <td>2217812f2273c5741a0ef7309461d53b</td>\n",
       "      <td>{\"cutoff\": \"quantile_0.1\", \"eval_fairness_grou...</td>\n",
       "      <td>32.717034</td>\n",
       "      <td>89710</td>\n",
       "      <td>1.0</td>\n",
       "      <td>0.021911</td>\n",
       "      <td>0.976428</td>\n",
       "      <td>0.016816</td>\n",
       "      <td>0.982012</td>\n",
       "      <td>...</td>\n",
       "      <td>NaN</td>\n",
       "      <td>NaN</td>\n",
       "      <td>NaN</td>\n",
       "      <td>NaN</td>\n",
       "      <td>NaN</td>\n",
       "      <td>NaN</td>\n",
       "      <td>NaN</td>\n",
       "      <td>NaN</td>\n",
       "      <td>NaN</td>\n",
       "      <td>NaN</td>\n",
       "    </tr>\n",
       "    <tr>\n",
       "      <th>0</th>\n",
       "      <td>12</td>\n",
       "      <td>2217812f2273c5741a0ef7309461d53b</td>\n",
       "      <td>{\"cutoff\": \"quantile_0.1\", \"eval_fairness_grou...</td>\n",
       "      <td>32.717034</td>\n",
       "      <td>89710</td>\n",
       "      <td>1.0</td>\n",
       "      <td>0.021911</td>\n",
       "      <td>0.976428</td>\n",
       "      <td>0.016816</td>\n",
       "      <td>0.982012</td>\n",
       "      <td>...</td>\n",
       "      <td>0.120352</td>\n",
       "      <td>0.142014</td>\n",
       "      <td>0.929507</td>\n",
       "      <td>0.907596</td>\n",
       "      <td>0.024071</td>\n",
       "      <td>0.013348</td>\n",
       "      <td>0.934859</td>\n",
       "      <td>0.918043</td>\n",
       "      <td>20540.0</td>\n",
       "      <td>69170.0</td>\n",
       "    </tr>\n",
       "    <tr>\n",
       "      <th>0</th>\n",
       "      <td>12</td>\n",
       "      <td>2217812f2273c5741a0ef7309461d53b</td>\n",
       "      <td>{\"cutoff\": \"quantile_0.25\", \"eval_fairness_gro...</td>\n",
       "      <td>32.717034</td>\n",
       "      <td>89710</td>\n",
       "      <td>1.0</td>\n",
       "      <td>0.043052</td>\n",
       "      <td>0.948420</td>\n",
       "      <td>0.026691</td>\n",
       "      <td>0.966047</td>\n",
       "      <td>...</td>\n",
       "      <td>NaN</td>\n",
       "      <td>NaN</td>\n",
       "      <td>NaN</td>\n",
       "      <td>NaN</td>\n",
       "      <td>NaN</td>\n",
       "      <td>NaN</td>\n",
       "      <td>NaN</td>\n",
       "      <td>NaN</td>\n",
       "      <td>NaN</td>\n",
       "      <td>NaN</td>\n",
       "    </tr>\n",
       "    <tr>\n",
       "      <th>0</th>\n",
       "      <td>12</td>\n",
       "      <td>2217812f2273c5741a0ef7309461d53b</td>\n",
       "      <td>{\"cutoff\": \"quantile_0.25\", \"eval_fairness_gro...</td>\n",
       "      <td>32.717034</td>\n",
       "      <td>89710</td>\n",
       "      <td>1.0</td>\n",
       "      <td>0.043052</td>\n",
       "      <td>0.948420</td>\n",
       "      <td>0.026691</td>\n",
       "      <td>0.966047</td>\n",
       "      <td>...</td>\n",
       "      <td>0.131851</td>\n",
       "      <td>0.163925</td>\n",
       "      <td>0.771407</td>\n",
       "      <td>0.731618</td>\n",
       "      <td>0.100929</td>\n",
       "      <td>0.057877</td>\n",
       "      <td>0.786125</td>\n",
       "      <td>0.759433</td>\n",
       "      <td>20540.0</td>\n",
       "      <td>69170.0</td>\n",
       "    </tr>\n",
       "  </tbody>\n",
       "</table>\n",
       "<p>4 rows × 50 columns</p>\n",
       "</div>"
      ],
      "text/plain": [
       "  run_no                       universe_id  \\\n",
       "0     12  2217812f2273c5741a0ef7309461d53b   \n",
       "0     12  2217812f2273c5741a0ef7309461d53b   \n",
       "0     12  2217812f2273c5741a0ef7309461d53b   \n",
       "0     12  2217812f2273c5741a0ef7309461d53b   \n",
       "\n",
       "                                   universe_settings  execution_time  \\\n",
       "0  {\"cutoff\": \"quantile_0.1\", \"eval_fairness_grou...       32.717034   \n",
       "0  {\"cutoff\": \"quantile_0.1\", \"eval_fairness_grou...       32.717034   \n",
       "0  {\"cutoff\": \"quantile_0.25\", \"eval_fairness_gro...       32.717034   \n",
       "0  {\"cutoff\": \"quantile_0.25\", \"eval_fairness_gro...       32.717034   \n",
       "\n",
       "   test_size_n  test_size_frac  fair_main_equalized_odds_difference  \\\n",
       "0        89710             1.0                             0.021911   \n",
       "0        89710             1.0                             0.021911   \n",
       "0        89710             1.0                             0.043052   \n",
       "0        89710             1.0                             0.043052   \n",
       "\n",
       "   fair_main_equalized_odds_ratio  fair_main_demographic_parity_difference  \\\n",
       "0                        0.976428                                 0.016816   \n",
       "0                        0.976428                                 0.016816   \n",
       "0                        0.948420                                 0.026691   \n",
       "0                        0.948420                                 0.026691   \n",
       "\n",
       "   fair_main_demographic_parity_ratio  ...  perf_grp_precision_0  \\\n",
       "0                            0.982012  ...                   NaN   \n",
       "0                            0.982012  ...              0.120352   \n",
       "0                            0.966047  ...                   NaN   \n",
       "0                            0.966047  ...              0.131851   \n",
       "\n",
       "   perf_grp_precision_1  perf_grp_false positive rate_0  \\\n",
       "0                   NaN                             NaN   \n",
       "0              0.142014                        0.929507   \n",
       "0                   NaN                             NaN   \n",
       "0              0.163925                        0.771407   \n",
       "\n",
       "   perf_grp_false positive rate_1  perf_grp_false negative rate_0  \\\n",
       "0                             NaN                             NaN   \n",
       "0                        0.907596                        0.024071   \n",
       "0                             NaN                             NaN   \n",
       "0                        0.731618                        0.100929   \n",
       "\n",
       "   perf_grp_false negative rate_1  perf_grp_selection rate_0  \\\n",
       "0                             NaN                        NaN   \n",
       "0                        0.013348                   0.934859   \n",
       "0                             NaN                        NaN   \n",
       "0                        0.057877                   0.786125   \n",
       "\n",
       "   perf_grp_selection rate_1  perf_grp_count_0  perf_grp_count_1  \n",
       "0                        NaN               NaN               NaN  \n",
       "0                   0.918043           20540.0           69170.0  \n",
       "0                        NaN               NaN               NaN  \n",
       "0                   0.759433           20540.0           69170.0  \n",
       "\n",
       "[4 rows x 50 columns]"
      ]
     },
     "execution_count": 79,
     "metadata": {},
     "output_type": "execute_result"
    }
   ],
   "source": [
    "final_output = universe_analysis.generate_final_output(\n",
    "    y_pred_prob=probs_test,\n",
    "    y_test=y_true,\n",
    "    org_test=org_test,\n",
    "    filter_data=filter_sub_universe_data,\n",
    "    cp_metrics_df=cp_metrics_df,\n",
    "    save=True,\n",
    ")\n",
    "final_output"
   ]
  },
  {
   "cell_type": "code",
   "execution_count": null,
   "id": "721ff514-cb11-46f8-b6fc-50392f74b5cb",
   "metadata": {
    "papermill": {
     "duration": 0.032706,
     "end_time": "2025-07-30T14:22:10.394502",
     "exception": false,
     "start_time": "2025-07-30T14:22:10.361796",
     "status": "completed"
    },
    "tags": []
   },
   "outputs": [],
   "source": []
  }
 ],
 "metadata": {
  "celltoolbar": "Tags",
  "kernelspec": {
   "display_name": "Python (CMA Fairness)",
   "language": "python",
   "name": "cma_fair_env"
  },
  "language_info": {
   "codemirror_mode": {
    "name": "ipython",
    "version": 3
   },
   "file_extension": ".py",
   "mimetype": "text/x-python",
   "name": "python",
   "nbconvert_exporter": "python",
   "pygments_lexer": "ipython3",
   "version": "3.10.12"
  },
  "papermill": {
   "default_parameters": {},
   "duration": 56.305033,
   "end_time": "2025-07-30T14:22:11.244977",
   "environment_variables": {},
   "exception": null,
   "input_path": "universe_analysis.ipynb",
   "output_path": "output/runs/12/notebooks/m_12-2217812f2273c5741a0ef7309461d53b.ipynb",
   "parameters": {
    "output_dir": "output",
    "run_no": "12",
    "seed": "2023",
    "universe": "{\"cutoff\": [\"quantile_0.1\", \"quantile_0.25\"], \"eval_fairness_grouping\": [\"majority-minority\", \"nationality-all\"], \"exclude_features\": \"nationality-sex\", \"exclude_subgroups\": \"drop-non-german\", \"model\": \"rf\", \"scale\": \"scale\", \"training_size\": \"1k\", \"training_year\": \"2014\"}",
    "universe_id": "2217812f2273c5741a0ef7309461d53b"
   },
   "start_time": "2025-07-30T14:21:14.939944",
   "version": "2.6.0"
  }
 },
 "nbformat": 4,
 "nbformat_minor": 5
}