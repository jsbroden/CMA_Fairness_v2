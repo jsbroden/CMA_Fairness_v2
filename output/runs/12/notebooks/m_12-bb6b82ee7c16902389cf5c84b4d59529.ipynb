{
 "cells": [
  {
   "cell_type": "code",
   "execution_count": 1,
   "id": "f159f837-637b-42ba-96b5-ec9a68c44524",
   "metadata": {
    "execution": {
     "iopub.execute_input": "2025-07-30T14:23:04.653016Z",
     "iopub.status.busy": "2025-07-30T14:23:04.652172Z",
     "iopub.status.idle": "2025-07-30T14:23:04.669057Z",
     "shell.execute_reply": "2025-07-30T14:23:04.666353Z"
    },
    "papermill": {
     "duration": 0.041385,
     "end_time": "2025-07-30T14:23:04.671052",
     "exception": false,
     "start_time": "2025-07-30T14:23:04.629667",
     "status": "completed"
    },
    "tags": []
   },
   "outputs": [
    {
     "name": "stdout",
     "output_type": "stream",
     "text": [
      "/dss/dsshome1/0C/ra93lal2/cma/CMA_Fairness_v2\n"
     ]
    },
    {
     "name": "stderr",
     "output_type": "stream",
     "text": [
      "/dss/dsshome1/0C/ra93lal2/.local/share/virtualenvs/CMA_Fairness_v2-3j10GkSs/lib/python3.10/site-packages/IPython/core/magics/osm.py:393: UserWarning: This is now an optional IPython functionality, using bookmarks requires you to install the `pickleshare` library.\n",
      "  bkms = self.shell.db.get('bookmarks', {})\n",
      "/dss/dsshome1/0C/ra93lal2/.local/share/virtualenvs/CMA_Fairness_v2-3j10GkSs/lib/python3.10/site-packages/IPython/core/magics/osm.py:417: UserWarning: This is now an optional IPython functionality, setting dhist requires you to install the `pickleshare` library.\n",
      "  self.shell.db['dhist'] = compress_dhist(dhist)[-100:]\n"
     ]
    }
   ],
   "source": [
    "%cd ~/cma/CMA_Fairness_v2"
   ]
  },
  {
   "cell_type": "markdown",
   "id": "de2603b9",
   "metadata": {
    "papermill": {
     "duration": 0.022838,
     "end_time": "2025-07-30T14:23:04.718603",
     "exception": false,
     "start_time": "2025-07-30T14:23:04.695765",
     "status": "completed"
    },
    "tags": []
   },
   "source": [
    "The following cell holds the definition of our parameters, these values can be overriden by rendering the with e.g. the following command:\n",
    "\n",
    "papermill -p alpha 0.2 -p ratio 0.3 universe_analysis.ipynb output/test_run.ipynb"
   ]
  },
  {
   "cell_type": "code",
   "execution_count": 2,
   "id": "a80968a0-40bb-4fa9-85ef-2d5eefb01975",
   "metadata": {
    "execution": {
     "iopub.execute_input": "2025-07-30T14:23:04.765946Z",
     "iopub.status.busy": "2025-07-30T14:23:04.765222Z",
     "iopub.status.idle": "2025-07-30T14:23:04.771801Z",
     "shell.execute_reply": "2025-07-30T14:23:04.770280Z"
    },
    "papermill": {
     "duration": 0.032784,
     "end_time": "2025-07-30T14:23:04.773833",
     "exception": false,
     "start_time": "2025-07-30T14:23:04.741049",
     "status": "completed"
    },
    "tags": []
   },
   "outputs": [
    {
     "name": "stdout",
     "output_type": "stream",
     "text": [
      "Current working directory: /dss/dsshome1/0C/ra93lal2/cma/CMA_Fairness_v2\n"
     ]
    }
   ],
   "source": [
    "import os\n",
    "print(\"Current working directory:\", os.getcwd())"
   ]
  },
  {
   "cell_type": "code",
   "execution_count": 3,
   "id": "2dce4c03",
   "metadata": {
    "execution": {
     "iopub.execute_input": "2025-07-30T14:23:04.817302Z",
     "iopub.status.busy": "2025-07-30T14:23:04.816281Z",
     "iopub.status.idle": "2025-07-30T14:23:04.823232Z",
     "shell.execute_reply": "2025-07-30T14:23:04.822181Z"
    },
    "papermill": {
     "duration": 0.031235,
     "end_time": "2025-07-30T14:23:04.826166",
     "exception": false,
     "start_time": "2025-07-30T14:23:04.794931",
     "status": "completed"
    },
    "tags": [
     "parameters"
    ]
   },
   "outputs": [],
   "source": [
    "run_no = 0\n",
    "universe_id = \"test\"\n",
    "universe = {\n",
    "    \"training_size\": \"25k\", # \"25k\", \"5k\", \"1k\"\n",
    "    \"training_year\": \"2014\", # \"2014\", \"2012_14\", \"2010_14\"\n",
    "    \"scale\": \"scale\", # \"scale\", \"do-not-scale\",\n",
    "    #\"stratify_split\": \"target\", # \"none\", \"target\", \"protected-attribute\", \"both\",\n",
    "    \"model\": \"elasticnet\", # \"logreg\", \"penalized_logreg\", \"rf\", \"gbm\", \"elasticnet\"\n",
    "    \"cutoff\": [\"quantile_0.15\", \"quantile_0.30\"],\n",
    "    \"exclude_features\": \"age\", # \"none\", \"nationality\", \"sex\", \"nationality-sex\", \"age\"\n",
    "    \"exclude_subgroups\": \"keep-all\", # \"keep-all\", \"drop-non-german\"\n",
    "    \"eval_fairness_grouping\": [\"majority-minority\", \"nationality-all\"]\n",
    "}\n",
    "\n",
    "output_dir=\"./output\"\n",
    "seed=0"
   ]
  },
  {
   "cell_type": "code",
   "execution_count": 4,
   "id": "09aec406",
   "metadata": {
    "execution": {
     "iopub.execute_input": "2025-07-30T14:23:04.874116Z",
     "iopub.status.busy": "2025-07-30T14:23:04.873349Z",
     "iopub.status.idle": "2025-07-30T14:23:04.879631Z",
     "shell.execute_reply": "2025-07-30T14:23:04.878545Z"
    },
    "papermill": {
     "duration": 0.03397,
     "end_time": "2025-07-30T14:23:04.882157",
     "exception": false,
     "start_time": "2025-07-30T14:23:04.848187",
     "status": "completed"
    },
    "tags": [
     "injected-parameters"
    ]
   },
   "outputs": [],
   "source": [
    "# Parameters\n",
    "universe_id = \"bb6b82ee7c16902389cf5c84b4d59529\"\n",
    "run_no = \"12\"\n",
    "universe = \"{\\\"cutoff\\\": [\\\"quantile_0.1\\\", \\\"quantile_0.25\\\"], \\\"eval_fairness_grouping\\\": [\\\"majority-minority\\\", \\\"nationality-all\\\"], \\\"exclude_features\\\": \\\"sex\\\", \\\"exclude_subgroups\\\": \\\"keep-all\\\", \\\"model\\\": \\\"elasticnet\\\", \\\"scale\\\": \\\"scale\\\", \\\"training_size\\\": \\\"1k\\\", \\\"training_year\\\": \\\"2014\\\"}\"\n",
    "output_dir = \"output\"\n",
    "seed = \"2023\"\n"
   ]
  },
  {
   "cell_type": "code",
   "execution_count": 5,
   "id": "1650acaf",
   "metadata": {
    "execution": {
     "iopub.execute_input": "2025-07-30T14:23:04.931028Z",
     "iopub.status.busy": "2025-07-30T14:23:04.930212Z",
     "iopub.status.idle": "2025-07-30T14:23:04.935928Z",
     "shell.execute_reply": "2025-07-30T14:23:04.934912Z"
    },
    "papermill": {
     "duration": 0.032351,
     "end_time": "2025-07-30T14:23:04.937870",
     "exception": false,
     "start_time": "2025-07-30T14:23:04.905519",
     "status": "completed"
    },
    "tags": []
   },
   "outputs": [],
   "source": [
    "import json\n",
    "# Parse universe into dict if it is passed as a string\n",
    "if isinstance(universe, str):\n",
    "    universe = json.loads(universe)"
   ]
  },
  {
   "cell_type": "code",
   "execution_count": 6,
   "id": "16620c48",
   "metadata": {
    "execution": {
     "iopub.execute_input": "2025-07-30T14:23:04.986729Z",
     "iopub.status.busy": "2025-07-30T14:23:04.985744Z",
     "iopub.status.idle": "2025-07-30T14:23:05.031148Z",
     "shell.execute_reply": "2025-07-30T14:23:05.030154Z"
    },
    "papermill": {
     "duration": 0.072655,
     "end_time": "2025-07-30T14:23:05.033330",
     "exception": false,
     "start_time": "2025-07-30T14:23:04.960675",
     "status": "completed"
    },
    "tags": []
   },
   "outputs": [],
   "source": [
    "# Auto-reload the custom package\n",
    "%load_ext autoreload\n",
    "%autoreload 1\n",
    "%aimport fairness_multiverse"
   ]
  },
  {
   "cell_type": "code",
   "execution_count": 7,
   "id": "01c5c9f3",
   "metadata": {
    "execution": {
     "iopub.execute_input": "2025-07-30T14:23:05.078261Z",
     "iopub.status.busy": "2025-07-30T14:23:05.077469Z",
     "iopub.status.idle": "2025-07-30T14:23:07.073418Z",
     "shell.execute_reply": "2025-07-30T14:23:07.072235Z"
    },
    "papermill": {
     "duration": 2.021922,
     "end_time": "2025-07-30T14:23:07.076100",
     "exception": false,
     "start_time": "2025-07-30T14:23:05.054178",
     "status": "completed"
    },
    "tags": []
   },
   "outputs": [],
   "source": [
    "from fairness_multiverse.universe import UniverseAnalysis\n",
    "\n",
    "universe_analysis = UniverseAnalysis(\n",
    "    run_no = run_no,\n",
    "    universe_id = universe_id,\n",
    "    universe = universe,\n",
    "    output_dir=output_dir,\n",
    ")"
   ]
  },
  {
   "cell_type": "code",
   "execution_count": 8,
   "id": "106241f5",
   "metadata": {
    "execution": {
     "iopub.execute_input": "2025-07-30T14:23:07.116989Z",
     "iopub.status.busy": "2025-07-30T14:23:07.116501Z",
     "iopub.status.idle": "2025-07-30T14:23:07.123055Z",
     "shell.execute_reply": "2025-07-30T14:23:07.121998Z"
    },
    "papermill": {
     "duration": 0.031254,
     "end_time": "2025-07-30T14:23:07.124865",
     "exception": false,
     "start_time": "2025-07-30T14:23:07.093611",
     "status": "completed"
    },
    "tags": []
   },
   "outputs": [
    {
     "name": "stdout",
     "output_type": "stream",
     "text": [
      "Using Seed: 2023\n"
     ]
    }
   ],
   "source": [
    "import numpy as np\n",
    "parsed_seed = int(seed)\n",
    "np.random.seed(parsed_seed)\n",
    "print(f\"Using Seed: {parsed_seed}\")"
   ]
  },
  {
   "cell_type": "markdown",
   "id": "e0ebdc57",
   "metadata": {
    "papermill": {
     "duration": 0.010344,
     "end_time": "2025-07-30T14:23:07.154787",
     "exception": false,
     "start_time": "2025-07-30T14:23:07.144443",
     "status": "completed"
    },
    "tags": []
   },
   "source": [
    "# Loading Data"
   ]
  },
  {
   "cell_type": "markdown",
   "id": "681925a3",
   "metadata": {
    "papermill": {
     "duration": 0.014313,
     "end_time": "2025-07-30T14:23:07.179601",
     "exception": false,
     "start_time": "2025-07-30T14:23:07.165288",
     "status": "completed"
    },
    "tags": []
   },
   "source": [
    "Load siab_train, siab_test, siab_calib and/or \n",
    "load siab_train_features, siab_train_labels"
   ]
  },
  {
   "cell_type": "code",
   "execution_count": null,
   "id": "f0496b8a",
   "metadata": {
    "papermill": {
     "duration": null,
     "end_time": null,
     "exception": false,
     "start_time": "2025-07-30T14:23:07.203445",
     "status": "running"
    },
    "tags": []
   },
   "outputs": [],
   "source": [
    "from pathlib import Path\n",
    "import pandas as pd\n",
    "\n",
    "# File paths\n",
    "raw_file = Path(\"data/raw/siab.csv\")\n",
    "cache_file = Path(\"data/siab_cached.csv.gz\")\n",
    "\n",
    "# Ensure cache directory exists\n",
    "cache_file.parent.mkdir(parents=True, exist_ok=True)\n",
    "\n",
    "# Load with simple caching\n",
    "if cache_file.exists():\n",
    "    print(f\"Loading SIAB data from cache: {cache_file}\")\n",
    "    siab = pd.read_csv(cache_file, compression='gzip')\n",
    "else:\n",
    "    print(f\"Cache not found. Reading raw SIAB data: {raw_file}\")\n",
    "    siab = pd.read_csv(raw_file)\n",
    "    siab.to_csv(cache_file, index=False, compression='gzip')\n",
    "    print(f\"Cached SIAB data to: {cache_file}\")\n",
    "\n",
    "# Now use `siab` DataFrame as needed\n",
    "print(siab.shape)"
   ]
  },
  {
   "cell_type": "code",
   "execution_count": null,
   "id": "db0ca512-5f53-4dba-abdb-a2888bca41ba",
   "metadata": {
    "papermill": {
     "duration": null,
     "end_time": null,
     "exception": null,
     "start_time": null,
     "status": "pending"
    },
    "tags": []
   },
   "outputs": [],
   "source": [
    "#siab"
   ]
  },
  {
   "cell_type": "code",
   "execution_count": null,
   "id": "a0edb063",
   "metadata": {
    "papermill": {
     "duration": null,
     "end_time": null,
     "exception": null,
     "start_time": null,
     "status": "pending"
    },
    "tags": []
   },
   "outputs": [],
   "source": [
    "#import pandas as pd\n",
    "#\n",
    "#X_train = pd.read_csv(\"./data/X_train.csv\")\n",
    "#y_train = pd.read_csv(\"./data/y_train.csv\")"
   ]
  },
  {
   "cell_type": "code",
   "execution_count": null,
   "id": "63d08085",
   "metadata": {
    "papermill": {
     "duration": null,
     "end_time": null,
     "exception": null,
     "start_time": null,
     "status": "pending"
    },
    "tags": []
   },
   "outputs": [],
   "source": [
    "#X_test = pd.read_csv(\"./data/X_test.csv\")\n",
    "#y_true = pd.read_csv(\"./data/y_test.csv\")"
   ]
  },
  {
   "cell_type": "code",
   "execution_count": null,
   "id": "98a8d0fa-1d3d-4ed8-bb2c-281470e24add",
   "metadata": {
    "papermill": {
     "duration": null,
     "end_time": null,
     "exception": null,
     "start_time": null,
     "status": "pending"
    },
    "tags": []
   },
   "outputs": [],
   "source": [
    "# Calibration data for conformal\n",
    "#X_calib = pd.read_csv(\"./data/X_calib.csv\")\n",
    "#y_calib = pd.read_csv(\"./data/y_calib.csv\")"
   ]
  },
  {
   "cell_type": "markdown",
   "id": "997051c5-15bd-4b69-9786-c3001a3ce484",
   "metadata": {
    "papermill": {
     "duration": null,
     "end_time": null,
     "exception": null,
     "start_time": null,
     "status": "pending"
    },
    "tags": []
   },
   "source": [
    "# Splitting Data and Setting Training Data Size"
   ]
  },
  {
   "cell_type": "code",
   "execution_count": null,
   "id": "e993b61f-042d-41a6-8c81-f55681f86335",
   "metadata": {
    "papermill": {
     "duration": null,
     "end_time": null,
     "exception": null,
     "start_time": null,
     "status": "pending"
    },
    "tags": []
   },
   "outputs": [],
   "source": [
    "def sample_by_year_size(df,\n",
    "                        training_year: str,\n",
    "                        training_size: str,\n",
    "                        random_state: int = 42):\n",
    "    # --- parse training_year into a list of int years ---\n",
    "    if \"_\" in training_year:\n",
    "        start_str, end_str = training_year.split(\"_\", 1)\n",
    "        start = int(start_str)\n",
    "        end   = int(end_str) if len(end_str) == 4 else (int(end_str) + (start // 100)*100)\n",
    "        years = list(range(start, end + 1))\n",
    "    else:\n",
    "        years = [int(training_year)]\n",
    "\n",
    "    df = df[df[\"year\"].isin(years)].reset_index(drop=True)\n",
    "\n",
    "    # --- map training_size to total number of samples ---\n",
    "    total_map = {\"25k\": 25_000, \"5k\": 5_000, \"1k\": 1_000}\n",
    "    if training_size not in total_map:\n",
    "        return df  # e.g. \"all\"\n",
    "\n",
    "    total_samples = total_map[training_size]\n",
    "    n_years       = len(years)\n",
    "    base          = total_samples // n_years\n",
    "    remainder     = total_samples % n_years\n",
    "\n",
    "    # --- build a dict: year -> how many to sample ---\n",
    "    # give +1 to the first `remainder` years in ascending order\n",
    "    quotas = {\n",
    "        year: base + (1 if idx < remainder else 0)\n",
    "        for idx, year in enumerate(sorted(years))\n",
    "    }\n",
    "\n",
    "    # --- sample per‐year according to the quota dict ---\n",
    "    sampled = (\n",
    "        df\n",
    "        .groupby(\"year\", group_keys=False)\n",
    "        .apply(lambda grp: grp.sample(\n",
    "            n=min(len(grp), quotas[grp.name]),\n",
    "            random_state=random_state))\n",
    "        .reset_index(drop=True)\n",
    "    )\n",
    "\n",
    "    return sampled"
   ]
  },
  {
   "cell_type": "code",
   "execution_count": null,
   "id": "c0ccd338-0e02-41f3-a09d-f56f9266e3fb",
   "metadata": {
    "papermill": {
     "duration": null,
     "end_time": null,
     "exception": null,
     "start_time": null,
     "status": "pending"
    },
    "tags": []
   },
   "outputs": [],
   "source": [
    "universe[\"training_size\"]"
   ]
  },
  {
   "cell_type": "code",
   "execution_count": null,
   "id": "ca707fd7-8047-4acd-bfa5-66248fbbf8e6",
   "metadata": {
    "papermill": {
     "duration": null,
     "end_time": null,
     "exception": null,
     "start_time": null,
     "status": "pending"
    },
    "tags": []
   },
   "outputs": [],
   "source": [
    "universe[\"training_year\"]"
   ]
  },
  {
   "cell_type": "code",
   "execution_count": null,
   "id": "aea9c6ef-6f46-42c8-85eb-5a62025c1508",
   "metadata": {
    "papermill": {
     "duration": null,
     "end_time": null,
     "exception": null,
     "start_time": null,
     "status": "pending"
    },
    "tags": []
   },
   "outputs": [],
   "source": [
    "siab_train = sample_by_year_size(siab,\n",
    "                               training_year=universe[\"training_year\"],\n",
    "                               training_size=universe[\"training_size\"])"
   ]
  },
  {
   "cell_type": "code",
   "execution_count": null,
   "id": "8d3afb32-789d-442c-8d5d-9f5aa8dd2eed",
   "metadata": {
    "papermill": {
     "duration": null,
     "end_time": null,
     "exception": null,
     "start_time": null,
     "status": "pending"
    },
    "tags": []
   },
   "outputs": [],
   "source": [
    "siab_train.shape"
   ]
  },
  {
   "cell_type": "code",
   "execution_count": null,
   "id": "d582db68-1a4c-47fb-84fc-08518dc1975a",
   "metadata": {
    "papermill": {
     "duration": null,
     "end_time": null,
     "exception": null,
     "start_time": null,
     "status": "pending"
    },
    "tags": []
   },
   "outputs": [],
   "source": [
    "display(siab_train.groupby(\"year\").size())"
   ]
  },
  {
   "cell_type": "code",
   "execution_count": null,
   "id": "a561edb4-d032-42cb-8256-22eac1111c64",
   "metadata": {
    "papermill": {
     "duration": null,
     "end_time": null,
     "exception": null,
     "start_time": null,
     "status": "pending"
    },
    "tags": []
   },
   "outputs": [],
   "source": [
    "#siab_train = siab_s[siab_s.year < 2015]\n",
    "siab_calib = siab[siab.year == 2015]\n",
    "siab_test = siab[siab.year == 2016]"
   ]
  },
  {
   "cell_type": "code",
   "execution_count": null,
   "id": "472de16f-c3db-4916-846b-1f0de9cf1746",
   "metadata": {
    "papermill": {
     "duration": null,
     "end_time": null,
     "exception": null,
     "start_time": null,
     "status": "pending"
    },
    "tags": []
   },
   "outputs": [],
   "source": [
    "X_train = siab_train.iloc[:,4:164]\n",
    "y_train = siab_train.iloc[:, [3]]"
   ]
  },
  {
   "cell_type": "code",
   "execution_count": null,
   "id": "828c96af-f43a-4ed6-ba47-8ac73a47d56c",
   "metadata": {
    "papermill": {
     "duration": null,
     "end_time": null,
     "exception": null,
     "start_time": null,
     "status": "pending"
    },
    "tags": []
   },
   "outputs": [],
   "source": [
    "X_calib = siab_calib.iloc[:,4:164]\n",
    "y_calib = siab_calib.iloc[:, [3]]"
   ]
  },
  {
   "cell_type": "code",
   "execution_count": null,
   "id": "c34be9c3-6bd6-476e-acd3-845840e303be",
   "metadata": {
    "papermill": {
     "duration": null,
     "end_time": null,
     "exception": null,
     "start_time": null,
     "status": "pending"
    },
    "tags": []
   },
   "outputs": [],
   "source": [
    "X_test = siab_test.iloc[:,4:164]\n",
    "y_true = siab_test.iloc[:, [3]]"
   ]
  },
  {
   "cell_type": "markdown",
   "id": "9901737e-04df-44f0-9100-f5ad144ed040",
   "metadata": {
    "papermill": {
     "duration": null,
     "end_time": null,
     "exception": null,
     "start_time": null,
     "status": "pending"
    },
    "tags": []
   },
   "source": [
    "# Splitting Data and Setting Training Data Size OLD VERSION"
   ]
  },
  {
   "cell_type": "code",
   "execution_count": null,
   "id": "acbc8f7d-8fc8-4e86-8c59-5dcb0f58384b",
   "metadata": {
    "papermill": {
     "duration": null,
     "end_time": null,
     "exception": null,
     "start_time": null,
     "status": "pending"
    },
    "tags": []
   },
   "outputs": [],
   "source": [
    "#def sample_by_year(df, training_size, random_state=42):\n",
    "#    if training_size == \"2014\":\n",
    "#        return df[df[\"year\"] == 2014].reset_index(drop=True)\n",
    "#    \n",
    "#    size_map = {\n",
    "#        \"25k\": 5000,\n",
    "#        \"5k\": 1000,\n",
    "#        \"1k\": 200\n",
    "#    }\n",
    "#\n",
    "#    if training_size not in size_map:\n",
    "#        return df.reset_index(drop=True)  # use all data\n",
    "#\n",
    "#    n_per_year = size_map[training_size]\n",
    "#    grouped = df.groupby(\"year\")\n",
    "#    sampled = grouped.apply(lambda x: x.sample(n=min(n_per_year, len(x)), random_state=random_state))\n",
    "#    return sampled.reset_index(drop=True)"
   ]
  },
  {
   "cell_type": "code",
   "execution_count": null,
   "id": "6d931f52-beaf-43ff-9e78-9d44a448d54e",
   "metadata": {
    "papermill": {
     "duration": null,
     "end_time": null,
     "exception": null,
     "start_time": null,
     "status": "pending"
    },
    "tags": []
   },
   "outputs": [],
   "source": [
    "#siab_s = sample_by_year(siab, universe[\"training_size\"])"
   ]
  },
  {
   "cell_type": "code",
   "execution_count": null,
   "id": "5db0a40e-a4e2-4920-be85-b12ae061d70d",
   "metadata": {
    "papermill": {
     "duration": null,
     "end_time": null,
     "exception": null,
     "start_time": null,
     "status": "pending"
    },
    "tags": []
   },
   "outputs": [],
   "source": [
    "#display(siab_s.groupby(\"year\").size())"
   ]
  },
  {
   "cell_type": "code",
   "execution_count": null,
   "id": "e6c733c5",
   "metadata": {
    "papermill": {
     "duration": null,
     "end_time": null,
     "exception": null,
     "start_time": null,
     "status": "pending"
    },
    "tags": []
   },
   "outputs": [],
   "source": [
    "# Auxiliary data needed downstream in the pipeline\n",
    "\n",
    "org_train = X_train.copy()\n",
    "org_test = X_test.copy()\n",
    "org_calib = X_calib.copy()"
   ]
  },
  {
   "cell_type": "code",
   "execution_count": null,
   "id": "1466abac-c6da-4492-a62f-4240ae3783af",
   "metadata": {
    "papermill": {
     "duration": null,
     "end_time": null,
     "exception": null,
     "start_time": null,
     "status": "pending"
    },
    "tags": []
   },
   "outputs": [],
   "source": [
    "# put in other script?\n",
    "# Group sizes\n",
    "\n",
    "#def calculate_percentages(df, df_name):\n",
    "#    total_entries = len(df)\n",
    "#\n",
    "#    female_pct = (df['frau1'] == 1).mean() * 100\n",
    "#    non_german_pct = ((df['maxdeutsch1'] == 0) & (df['maxdeutsch.Missing.'] == 0)).mean() * 100\n",
    "#    non_german_male_pct = ((df['frau1'] == 0) & (df['maxdeutsch1'] == 0) & (df['maxdeutsch.Missing.'] == 0)).mean() * 100\n",
    "#    non_german_female_pct = ((df['frau1'] == 1) & (df['maxdeutsch1'] == 0) & (df['maxdeutsch.Missing.'] == 0)).mean() * 100\n",
    "#\n",
    "#    print(f\"--- {df_name} ---\")\n",
    "#    print(f\"Female: {female_pct:.2f}%\")\n",
    "#    print(f\"Non-German: {non_german_pct:.2f}%\")\n",
    "#    print(f\"Non-German Male: {non_german_male_pct:.2f}%\")\n",
    "#    print(f\"Non-German Female: {non_german_female_pct:.2f}%\\n\")\n",
    "#\n",
    "## Calculate for each DataFrame\n",
    "#calculate_percentages(siab_calib, \"siab_calib\")\n",
    "#calculate_percentages(siab_test, \"siab_test\")\n",
    "#calculate_percentages(siab_train, \"siab_train\")"
   ]
  },
  {
   "cell_type": "markdown",
   "id": "0a4a1b33",
   "metadata": {
    "papermill": {
     "duration": null,
     "end_time": null,
     "exception": null,
     "start_time": null,
     "status": "pending"
    },
    "tags": []
   },
   "source": [
    "# Preprocessing Data"
   ]
  },
  {
   "cell_type": "code",
   "execution_count": null,
   "id": "ca879031",
   "metadata": {
    "papermill": {
     "duration": null,
     "end_time": null,
     "exception": null,
     "start_time": null,
     "status": "pending"
    },
    "tags": []
   },
   "outputs": [],
   "source": [
    "# EXCLUDE PROTECTED FEATURES\n",
    "# ----------------------\n",
    "# \"exclude_features\": \"none\", # \"nationality\", \"sex\", \"nationality-sex\"\n",
    "\n",
    "excluded_features = universe[\"exclude_features\"].split(\"-\") # split, e.g.: \"nationality-sex\" -> [\"nationality\", \"sex\"]\n",
    "excluded_features_dictionary = {\n",
    "    \"nationality\": [\"maxdeutsch1\", \"maxdeutsch.Missing.\"],\n",
    "    \"sex\": [\"frau1\"],\n",
    "    \"age\": [\"age\"],\n",
    "}\n"
   ]
  },
  {
   "cell_type": "code",
   "execution_count": null,
   "id": "b745ac60",
   "metadata": {
    "papermill": {
     "duration": null,
     "end_time": null,
     "exception": null,
     "start_time": null,
     "status": "pending"
    },
    "tags": []
   },
   "outputs": [],
   "source": [
    "# Code nice names to column names\n",
    "\n",
    "excluded_features_columns = [\n",
    "    excluded_features_dictionary[f] for f in excluded_features if len(f) > 0 and f != \"none\"\n",
    "]"
   ]
  },
  {
   "cell_type": "code",
   "execution_count": null,
   "id": "f84f73a2",
   "metadata": {
    "papermill": {
     "duration": null,
     "end_time": null,
     "exception": null,
     "start_time": null,
     "status": "pending"
    },
    "tags": []
   },
   "outputs": [],
   "source": [
    "from utils import flatten_once\n",
    "\n",
    "excluded_features_columns = flatten_once(excluded_features_columns)"
   ]
  },
  {
   "cell_type": "code",
   "execution_count": null,
   "id": "884dea22",
   "metadata": {
    "papermill": {
     "duration": null,
     "end_time": null,
     "exception": null,
     "start_time": null,
     "status": "pending"
    },
    "tags": []
   },
   "outputs": [],
   "source": [
    "if len(excluded_features_columns) > 0:\n",
    "    print(f\"Dropping features: {excluded_features_columns}\")\n",
    "    X_train.drop(excluded_features_columns, axis=1, inplace=True)"
   ]
  },
  {
   "cell_type": "code",
   "execution_count": null,
   "id": "95ab8b16",
   "metadata": {
    "papermill": {
     "duration": null,
     "end_time": null,
     "exception": null,
     "start_time": null,
     "status": "pending"
    },
    "tags": []
   },
   "outputs": [],
   "source": [
    "if len(excluded_features_columns) > 0:\n",
    "    print(f\"Dropping features: {excluded_features_columns}\")\n",
    "    X_test.drop(excluded_features_columns, axis=1, inplace=True)"
   ]
  },
  {
   "cell_type": "code",
   "execution_count": null,
   "id": "1853aaf5-fb9f-46cb-a2b5-8ea4ae2237e4",
   "metadata": {
    "papermill": {
     "duration": null,
     "end_time": null,
     "exception": null,
     "start_time": null,
     "status": "pending"
    },
    "tags": []
   },
   "outputs": [],
   "source": [
    "if len(excluded_features_columns) > 0:\n",
    "    print(f\"Dropping features: {excluded_features_columns}\")\n",
    "    X_calib.drop(excluded_features_columns, axis=1, inplace=True)"
   ]
  },
  {
   "cell_type": "code",
   "execution_count": null,
   "id": "6727d079-03e5-481e-9d38-292a90b7a0a8",
   "metadata": {
    "papermill": {
     "duration": null,
     "end_time": null,
     "exception": null,
     "start_time": null,
     "status": "pending"
    },
    "tags": []
   },
   "outputs": [],
   "source": [
    "# SPLIT & STRATIFY DATA\n",
    "# ----------------------"
   ]
  },
  {
   "cell_type": "code",
   "execution_count": null,
   "id": "76c4dc6d",
   "metadata": {
    "papermill": {
     "duration": null,
     "end_time": null,
     "exception": null,
     "start_time": null,
     "status": "pending"
    },
    "tags": []
   },
   "outputs": [],
   "source": [
    "# EXCLUDE CERTAIN SUBGROUPS\n",
    "# ----------------------\n",
    "\n",
    "mode = universe.get(\"exclude_subgroups\", \"keep-all\") \n",
    "# Fetches the exclude_subgroups setting from the universe dict.\n",
    "# Defaults to \"keep-all\" if the key is missing."
   ]
  },
  {
   "cell_type": "code",
   "execution_count": null,
   "id": "21994072",
   "metadata": {
    "papermill": {
     "duration": null,
     "end_time": null,
     "exception": null,
     "start_time": null,
     "status": "pending"
    },
    "tags": []
   },
   "outputs": [],
   "source": [
    "if mode == \"keep-all\":\n",
    "    keep_mask = pd.Series(True, index=org_train.index)\n",
    "\n",
    "# org_train contains the original feature columns from features_org (in Simson)\n",
    "# features_org contains unprocessed features, for me X_train at beginning ???\n",
    "# For keep-all, creates a boolean Series (keep_mask) of all True, so no rows are removed.\n",
    "\n",
    "elif mode == \"drop-non-german\":\n",
    "    keep_mask = org_train[\"maxdeutsch1\"] == 1 # ??? what about missing values?\n",
    "\n",
    "else:\n",
    "    raise ValueError(f\"Unsupported mode for exclude_subgroups: {mode}\")\n"
   ]
  },
  {
   "cell_type": "code",
   "execution_count": null,
   "id": "71651440",
   "metadata": {
    "papermill": {
     "duration": null,
     "end_time": null,
     "exception": null,
     "start_time": null,
     "status": "pending"
    },
    "tags": []
   },
   "outputs": [],
   "source": [
    "n_drop = (~keep_mask).sum() # Calculates how many rows are set to be dropped\n",
    "if n_drop > 0:\n",
    "    pct = n_drop / len(keep_mask) * 100\n",
    "    print(f\"Dropping {n_drop} rows ({pct:.2f}%) where mode='{mode}'\")"
   ]
  },
  {
   "cell_type": "code",
   "execution_count": null,
   "id": "5fb8eee5",
   "metadata": {
    "papermill": {
     "duration": null,
     "end_time": null,
     "exception": null,
     "start_time": null,
     "status": "pending"
    },
    "tags": []
   },
   "outputs": [],
   "source": [
    "X_train = X_train[keep_mask]"
   ]
  },
  {
   "cell_type": "code",
   "execution_count": null,
   "id": "b202bb3a",
   "metadata": {
    "papermill": {
     "duration": null,
     "end_time": null,
     "exception": null,
     "start_time": null,
     "status": "pending"
    },
    "tags": []
   },
   "outputs": [],
   "source": [
    "y_train = y_train[keep_mask]"
   ]
  },
  {
   "cell_type": "markdown",
   "id": "493e2ac3",
   "metadata": {
    "papermill": {
     "duration": null,
     "end_time": null,
     "exception": null,
     "start_time": null,
     "status": "pending"
    },
    "tags": []
   },
   "source": [
    "# Model Training"
   ]
  },
  {
   "cell_type": "code",
   "execution_count": null,
   "id": "679e1268",
   "metadata": {
    "papermill": {
     "duration": null,
     "end_time": null,
     "exception": null,
     "start_time": null,
     "status": "pending"
    },
    "tags": []
   },
   "outputs": [],
   "source": [
    "from sklearn.linear_model import LogisticRegression\n",
    "from sklearn.ensemble import GradientBoostingClassifier, RandomForestClassifier\n",
    "\n",
    "if (universe[\"model\"] == \"logreg\"):\n",
    "    model = LogisticRegression() #penalty=\"none\") #, solver=\"newton-cg\", max_iter=1) # include random_state=19 ?\n",
    "elif (universe[\"model\"] == \"penalized_logreg\"):\n",
    "    model = LogisticRegression(penalty=\"l2\", C=1.0) #, solver=\"newton-cg\", max_iter=1)\n",
    "elif (universe[\"model\"] == \"rf\"):\n",
    "    model = RandomForestClassifier(n_estimators=100, n_jobs=-1)\n",
    "elif (universe[\"model\"] == \"gbm\"):\n",
    "    model = GradientBoostingClassifier()\n",
    "elif (universe[\"model\"] == \"elasticnet\"):\n",
    "    model = LogisticRegression(penalty = 'elasticnet', solver = 'saga', l1_ratio = 0.5, max_iter=5000) # which solver to use?\n",
    "else:\n",
    "    raise \"Unsupported universe.model\""
   ]
  },
  {
   "cell_type": "code",
   "execution_count": null,
   "id": "0cc8f744",
   "metadata": {
    "papermill": {
     "duration": null,
     "end_time": null,
     "exception": null,
     "start_time": null,
     "status": "pending"
    },
    "tags": []
   },
   "outputs": [],
   "source": [
    "import numpy as np\n",
    "from sklearn.pipeline import Pipeline\n",
    "from sklearn.preprocessing import StandardScaler\n",
    "\n",
    "model = Pipeline([\n",
    "    #(\"continuous_processor\", continuous_processor),\n",
    "    #(\"categorical_preprocessor\", categorical_preprocessor),\n",
    "    (\"scale\", StandardScaler() if universe[\"scale\"] == \"scale\" else None), \n",
    "    (\"model\", model),\n",
    "])"
   ]
  },
  {
   "cell_type": "code",
   "execution_count": null,
   "id": "9442c04d",
   "metadata": {
    "papermill": {
     "duration": null,
     "end_time": null,
     "exception": null,
     "start_time": null,
     "status": "pending"
    },
    "tags": []
   },
   "outputs": [],
   "source": [
    "model.fit(X_train, y_train.values.ravel())"
   ]
  },
  {
   "cell_type": "code",
   "execution_count": null,
   "id": "af59f8c0",
   "metadata": {
    "papermill": {
     "duration": null,
     "end_time": null,
     "exception": null,
     "start_time": null,
     "status": "pending"
    },
    "tags": []
   },
   "outputs": [],
   "source": [
    "from fairness_multiverse.universe import predict_w_threshold"
   ]
  },
  {
   "cell_type": "code",
   "execution_count": null,
   "id": "a7cf2e16",
   "metadata": {
    "papermill": {
     "duration": null,
     "end_time": null,
     "exception": null,
     "start_time": null,
     "status": "pending"
    },
    "tags": []
   },
   "outputs": [],
   "source": [
    "probs_test = model.predict_proba(X_test)\n",
    "\n",
    "'''\n",
    "Below code returns a boolean array (or binary 0/1 array depending on how it’s used) where each element \n",
    "is True if the probability of class 1 is greater than or equal to the threshold, and False otherwise.\n",
    "'''\n",
    "y_pred_default = predict_w_threshold(probs_test, 0.5)\n",
    "\n",
    "from sklearn.metrics import accuracy_score\n",
    "\n",
    "# Naive prediction\n",
    "accuracy_score(y_true = y_true, y_pred = y_pred_default)"
   ]
  },
  {
   "cell_type": "code",
   "execution_count": null,
   "id": "081964c3",
   "metadata": {
    "papermill": {
     "duration": null,
     "end_time": null,
     "exception": null,
     "start_time": null,
     "status": "pending"
    },
    "tags": []
   },
   "outputs": [],
   "source": [
    "model.predict(X_test)"
   ]
  },
  {
   "cell_type": "markdown",
   "id": "56c9705b",
   "metadata": {
    "papermill": {
     "duration": null,
     "end_time": null,
     "exception": null,
     "start_time": null,
     "status": "pending"
    },
    "tags": []
   },
   "source": [
    "# Conformal Prediction"
   ]
  },
  {
   "cell_type": "code",
   "execution_count": null,
   "id": "160ec6ff",
   "metadata": {
    "papermill": {
     "duration": null,
     "end_time": null,
     "exception": null,
     "start_time": null,
     "status": "pending"
    },
    "tags": []
   },
   "outputs": [],
   "source": [
    "# Miscoverage level for conformal prediction (10% allowed error rate => 90% target coverage)\n",
    "alpha = 0.1"
   ]
  },
  {
   "cell_type": "code",
   "execution_count": null,
   "id": "eadf4555-3dd3-440e-8e35-f82a4ad9f855",
   "metadata": {
    "papermill": {
     "duration": null,
     "end_time": null,
     "exception": null,
     "start_time": null,
     "status": "pending"
    },
    "tags": []
   },
   "outputs": [],
   "source": [
    "probs_calib = model.predict_proba(X_calib)"
   ]
  },
  {
   "cell_type": "code",
   "execution_count": null,
   "id": "2ed93547-6d5d-4983-9b36-1ecb300da49a",
   "metadata": {
    "papermill": {
     "duration": null,
     "end_time": null,
     "exception": null,
     "start_time": null,
     "status": "pending"
    },
    "tags": []
   },
   "outputs": [],
   "source": [
    "y_calib = y_calib.values.ravel().astype(int)"
   ]
  },
  {
   "cell_type": "code",
   "execution_count": null,
   "id": "65d1320d-f588-4b38-9072-62af1ae97f7d",
   "metadata": {
    "papermill": {
     "duration": null,
     "end_time": null,
     "exception": null,
     "start_time": null,
     "status": "pending"
    },
    "tags": []
   },
   "outputs": [],
   "source": [
    "from fairness_multiverse.conformal import compute_nc_scores\n",
    "\n",
    "# Compute nonconformity scores on calibration set (1 - probability of true class)\n",
    "nc_scores = compute_nc_scores(probs_calib, y_calib)"
   ]
  },
  {
   "cell_type": "code",
   "execution_count": null,
   "id": "df3b8ca3-53b7-43d5-9667-7c85da7aeda2",
   "metadata": {
    "papermill": {
     "duration": null,
     "end_time": null,
     "exception": null,
     "start_time": null,
     "status": "pending"
    },
    "tags": []
   },
   "outputs": [],
   "source": [
    "from fairness_multiverse.conformal import find_threshold\n",
    "\n",
    "# Find conformal threshold q_hat for the given alpha (split conformal method)\n",
    "q_hat = find_threshold(nc_scores, alpha)"
   ]
  },
  {
   "cell_type": "code",
   "execution_count": null,
   "id": "4d29e6c1-0ef6-4aa4-b8fe-4fe79b0d033a",
   "metadata": {
    "papermill": {
     "duration": null,
     "end_time": null,
     "exception": null,
     "start_time": null,
     "status": "pending"
    },
    "tags": []
   },
   "outputs": [],
   "source": [
    "q_hat"
   ]
  },
  {
   "cell_type": "code",
   "execution_count": null,
   "id": "92460794-cdac-4be2-ba28-f28c0515a6fb",
   "metadata": {
    "papermill": {
     "duration": null,
     "end_time": null,
     "exception": null,
     "start_time": null,
     "status": "pending"
    },
    "tags": []
   },
   "outputs": [],
   "source": [
    "from fairness_multiverse.conformal import predict_conformal_sets\n",
    "\n",
    "# Generate prediction sets for each test example\n",
    "pred_sets = predict_conformal_sets(model, X_test, q_hat)"
   ]
  },
  {
   "cell_type": "code",
   "execution_count": null,
   "id": "d90c9a65-e6db-4f5d-80cd-e68fb7e46829",
   "metadata": {
    "papermill": {
     "duration": null,
     "end_time": null,
     "exception": null,
     "start_time": null,
     "status": "pending"
    },
    "tags": []
   },
   "outputs": [],
   "source": [
    "y_true = y_true.squeeze()"
   ]
  },
  {
   "cell_type": "code",
   "execution_count": null,
   "id": "3a58a54a-1e68-46b9-927a-df01f18aebc8",
   "metadata": {
    "papermill": {
     "duration": null,
     "end_time": null,
     "exception": null,
     "start_time": null,
     "status": "pending"
    },
    "tags": []
   },
   "outputs": [],
   "source": [
    "from fairness_multiverse.conformal import evaluate_sets\n",
    "\n",
    "# Evaluate coverage and average set size on test data\n",
    "metrics = evaluate_sets(pred_sets, y_true)"
   ]
  },
  {
   "cell_type": "markdown",
   "id": "2b569c12-9aaa-4c88-98c9-bbcd0cf3ebb8",
   "metadata": {
    "papermill": {
     "duration": null,
     "end_time": null,
     "exception": null,
     "start_time": null,
     "status": "pending"
    },
    "tags": []
   },
   "source": [
    "# CP Metrics"
   ]
  },
  {
   "cell_type": "code",
   "execution_count": null,
   "id": "5ce0a5cb-201f-45a0-ade5-94c7f0bd6095",
   "metadata": {
    "papermill": {
     "duration": null,
     "end_time": null,
     "exception": null,
     "start_time": null,
     "status": "pending"
    },
    "tags": []
   },
   "outputs": [],
   "source": [
    "metrics"
   ]
  },
  {
   "cell_type": "code",
   "execution_count": null,
   "id": "9b9a838d-31c9-430b-ae14-12baee460d17",
   "metadata": {
    "papermill": {
     "duration": null,
     "end_time": null,
     "exception": null,
     "start_time": null,
     "status": "pending"
    },
    "tags": []
   },
   "outputs": [],
   "source": [
    "example_universe = universe.copy()\n",
    "universe_training_size = example_universe.get(\"training_size\")\n",
    "universe_scale = example_universe.get(\"scale\")\n",
    "universe_model = example_universe.get(\"model\")\n",
    "universe_exclude_features = example_universe.get(\"exclude_features\")\n",
    "universe_exclude_subgroups = example_universe.get(\"exclude_subgroups\")"
   ]
  },
  {
   "cell_type": "code",
   "execution_count": null,
   "id": "f4b6a8ac-9dc0-4245-8a91-5b3b5999c4f9",
   "metadata": {
    "papermill": {
     "duration": null,
     "end_time": null,
     "exception": null,
     "start_time": null,
     "status": "pending"
    },
    "tags": []
   },
   "outputs": [],
   "source": [
    "cp_metrics_dict = {\n",
    "    \"universe_id\": [universe_id],\n",
    "    \"universe_training_size\": [universe_training_size],\n",
    "    \"universe_scale\": [universe_scale],\n",
    "    \"universe_model\": [universe_model],\n",
    "    \"universe_exclude_features\": [universe_exclude_features],\n",
    "    \"universe_exclude_subgroups\": [universe_exclude_subgroups],\n",
    "    \"q_hat\": [q_hat],\n",
    "    \"coverage\": [metrics[\"coverage\"]],\n",
    "    \"avg_size\": [metrics[\"avg_size\"]],\n",
    "}"
   ]
  },
  {
   "cell_type": "code",
   "execution_count": null,
   "id": "908acbb1-0371-4915-85ca-3fa520d2efe2",
   "metadata": {
    "papermill": {
     "duration": null,
     "end_time": null,
     "exception": null,
     "start_time": null,
     "status": "pending"
    },
    "tags": []
   },
   "outputs": [],
   "source": [
    "cp_metrics_dict"
   ]
  },
  {
   "cell_type": "code",
   "execution_count": null,
   "id": "33007efc-14e9-4ec6-97ac-56a455c82265",
   "metadata": {
    "papermill": {
     "duration": null,
     "end_time": null,
     "exception": null,
     "start_time": null,
     "status": "pending"
    },
    "tags": []
   },
   "outputs": [],
   "source": [
    "cp_metrics_df = pd.DataFrame(cp_metrics_dict)"
   ]
  },
  {
   "cell_type": "code",
   "execution_count": null,
   "id": "db12611b-57b2-4910-b9d0-355adfd6e7bf",
   "metadata": {
    "papermill": {
     "duration": null,
     "end_time": null,
     "exception": null,
     "start_time": null,
     "status": "pending"
    },
    "tags": []
   },
   "outputs": [],
   "source": [
    "cp_metrics_df"
   ]
  },
  {
   "cell_type": "code",
   "execution_count": null,
   "id": "b7fbde55-a0a1-47e4-9af6-fe4a17fa8c61",
   "metadata": {
    "papermill": {
     "duration": null,
     "end_time": null,
     "exception": null,
     "start_time": null,
     "status": "pending"
    },
    "tags": []
   },
   "outputs": [],
   "source": [
    "# Conditional Coverage & looking at subgroups"
   ]
  },
  {
   "cell_type": "code",
   "execution_count": null,
   "id": "027ae886-68dd-4141-96c7-805a5450e1ef",
   "metadata": {
    "papermill": {
     "duration": null,
     "end_time": null,
     "exception": null,
     "start_time": null,
     "status": "pending"
    },
    "tags": []
   },
   "outputs": [],
   "source": [
    "from fairness_multiverse.conformal import build_cp_groups\n",
    "\n",
    "cp_groups_df = build_cp_groups(pred_sets, y_true, X_test.index, org_test)\n",
    "#needs universe_id and setting"
   ]
  },
  {
   "cell_type": "code",
   "execution_count": null,
   "id": "01d5802c-663a-4d1f-9d69-e036faaffbf7",
   "metadata": {
    "papermill": {
     "duration": null,
     "end_time": null,
     "exception": null,
     "start_time": null,
     "status": "pending"
    },
    "tags": []
   },
   "outputs": [],
   "source": [
    "#delete\n",
    "#cp_groups_df"
   ]
  },
  {
   "cell_type": "code",
   "execution_count": null,
   "id": "fa424af1-d1eb-443d-b717-2d279ada8408",
   "metadata": {
    "papermill": {
     "duration": null,
     "end_time": null,
     "exception": null,
     "start_time": null,
     "status": "pending"
    },
    "tags": []
   },
   "outputs": [],
   "source": [
    "#delete\n",
    "#percentage = (cp_groups_df['nongerman_female'] == 1).mean() * 100\n",
    "#print(percentage)\n"
   ]
  },
  {
   "cell_type": "code",
   "execution_count": null,
   "id": "6cbdab96-b2b2-45af-ad54-d0516db2e28d",
   "metadata": {
    "papermill": {
     "duration": null,
     "end_time": null,
     "exception": null,
     "start_time": null,
     "status": "pending"
    },
    "tags": []
   },
   "outputs": [],
   "source": [
    "# Define covered = 1 if true_label is in the predicted set\n",
    "cp_groups_df['covered'] = cp_groups_df.apply(\n",
    "    lambda r: int(r['true_label'] in r['pred_set']),\n",
    "    axis=1\n",
    ")"
   ]
  },
  {
   "cell_type": "code",
   "execution_count": null,
   "id": "338ff529-1a6b-4b87-a931-8e4788d52aad",
   "metadata": {
    "papermill": {
     "duration": null,
     "end_time": null,
     "exception": null,
     "start_time": null,
     "status": "pending"
    },
    "tags": []
   },
   "outputs": [],
   "source": [
    "#cp_groups_df"
   ]
  },
  {
   "cell_type": "code",
   "execution_count": null,
   "id": "90032e27-66df-4540-9169-4e89cfbaa758",
   "metadata": {
    "papermill": {
     "duration": null,
     "end_time": null,
     "exception": null,
     "start_time": null,
     "status": "pending"
    },
    "tags": []
   },
   "outputs": [],
   "source": [
    "subgroups = ['frau1','nongerman','nongerman_male','nongerman_female']\n",
    "\n",
    "# Conditional coverage for subgroup==1\n",
    "cond_coverage = {\n",
    "    g: cp_groups_df.loc[cp_groups_df[g]==1, 'covered'].mean()\n",
    "    for g in subgroups\n",
    "}"
   ]
  },
  {
   "cell_type": "code",
   "execution_count": null,
   "id": "1e348fb1-b9c3-45bc-ba23-f016827a7e0d",
   "metadata": {
    "papermill": {
     "duration": null,
     "end_time": null,
     "exception": null,
     "start_time": null,
     "status": "pending"
    },
    "tags": []
   },
   "outputs": [],
   "source": [
    "cond_coverage"
   ]
  },
  {
   "cell_type": "code",
   "execution_count": null,
   "id": "f5093324-c3dd-4d63-bc4c-8d945e5c8bbb",
   "metadata": {
    "papermill": {
     "duration": null,
     "end_time": null,
     "exception": null,
     "start_time": null,
     "status": "pending"
    },
    "tags": []
   },
   "outputs": [],
   "source": [
    "for subgroup, cov in cond_coverage.items():\n",
    "    cp_metrics_df[f\"cov_{subgroup}\"] = cov"
   ]
  },
  {
   "cell_type": "code",
   "execution_count": null,
   "id": "6e872e10-dbe5-49e8-b554-5030c98ff75d",
   "metadata": {
    "papermill": {
     "duration": null,
     "end_time": null,
     "exception": null,
     "start_time": null,
     "status": "pending"
    },
    "tags": []
   },
   "outputs": [],
   "source": [
    "cp_metrics_df"
   ]
  },
  {
   "cell_type": "markdown",
   "id": "33774451",
   "metadata": {
    "papermill": {
     "duration": null,
     "end_time": null,
     "exception": null,
     "start_time": null,
     "status": "pending"
    },
    "tags": []
   },
   "source": [
    "# (Fairness) Metrics"
   ]
  },
  {
   "cell_type": "code",
   "execution_count": null,
   "id": "debc5d62",
   "metadata": {
    "papermill": {
     "duration": null,
     "end_time": null,
     "exception": null,
     "start_time": null,
     "status": "pending"
    },
    "tags": []
   },
   "outputs": [],
   "source": [
    "# do I need to include maxdeutsch1.missing?\n",
    "\n",
    "import numpy as np\n",
    "\n",
    "colname_to_bin = \"maxdeutsch1\"\n",
    "majority_value = org_train[colname_to_bin].mode()[0]\n",
    "\n",
    "org_test[\"majmin\"] = np.where(org_test[colname_to_bin] == majority_value, \"majority\", \"minority\")"
   ]
  },
  {
   "cell_type": "code",
   "execution_count": null,
   "id": "06a50de5",
   "metadata": {
    "papermill": {
     "duration": null,
     "end_time": null,
     "exception": null,
     "start_time": null,
     "status": "pending"
    },
    "tags": []
   },
   "outputs": [],
   "source": [
    "example_universe = universe.copy()\n",
    "example_universe[\"cutoff\"] = example_universe[\"cutoff\"][0]\n",
    "example_universe[\"eval_fairness_grouping\"] = example_universe[\"eval_fairness_grouping\"][0]\n",
    "fairness_dict, metric_frame = universe_analysis.compute_metrics(\n",
    "    example_universe,\n",
    "    y_pred_prob=probs_test,\n",
    "    y_test=y_true,\n",
    "    org_test=org_test,\n",
    ")"
   ]
  },
  {
   "cell_type": "markdown",
   "id": "f95d4e02",
   "metadata": {
    "papermill": {
     "duration": null,
     "end_time": null,
     "exception": null,
     "start_time": null,
     "status": "pending"
    },
    "tags": []
   },
   "source": [
    "# Overall"
   ]
  },
  {
   "cell_type": "markdown",
   "id": "bdee4871",
   "metadata": {
    "papermill": {
     "duration": null,
     "end_time": null,
     "exception": null,
     "start_time": null,
     "status": "pending"
    },
    "tags": []
   },
   "source": [
    "Fairness\n",
    "Main fairness target: Equalized Odds. Seems to be a better fit than equal opportunity, since we're not only interested in Y = 1. Seems to be a better fit than demographic parity, since we also care about accuracy, not just equal distribution of preds.\n",
    "\n",
    "Pick column for computation of fairness metrics\n",
    "\n",
    "Performance\n",
    "Overall performance measures, most interesting in relation to the measures split by group below"
   ]
  },
  {
   "cell_type": "code",
   "execution_count": null,
   "id": "c4e067c6",
   "metadata": {
    "papermill": {
     "duration": null,
     "end_time": null,
     "exception": null,
     "start_time": null,
     "status": "pending"
    },
    "tags": []
   },
   "outputs": [],
   "source": [
    "metric_frame.overall"
   ]
  },
  {
   "cell_type": "markdown",
   "id": "e968fe9d",
   "metadata": {
    "papermill": {
     "duration": null,
     "end_time": null,
     "exception": null,
     "start_time": null,
     "status": "pending"
    },
    "tags": []
   },
   "source": [
    "By Group"
   ]
  },
  {
   "cell_type": "code",
   "execution_count": null,
   "id": "ec325bce",
   "metadata": {
    "papermill": {
     "duration": null,
     "end_time": null,
     "exception": null,
     "start_time": null,
     "status": "pending"
    },
    "tags": []
   },
   "outputs": [],
   "source": [
    "metric_frame.by_group"
   ]
  },
  {
   "cell_type": "code",
   "execution_count": null,
   "id": "a9ddbe63",
   "metadata": {
    "papermill": {
     "duration": null,
     "end_time": null,
     "exception": null,
     "start_time": null,
     "status": "pending"
    },
    "tags": []
   },
   "outputs": [],
   "source": [
    "# In a graphic\n",
    "metric_frame.by_group.plot.bar(\n",
    "    subplots=True,\n",
    "    layout=[3, 3],\n",
    "    legend=False,\n",
    "    figsize=[12, 8],\n",
    "    title=\"Show all metrics\",\n",
    ")"
   ]
  },
  {
   "cell_type": "markdown",
   "id": "f57a0bac",
   "metadata": {
    "papermill": {
     "duration": null,
     "end_time": null,
     "exception": null,
     "start_time": null,
     "status": "pending"
    },
    "tags": []
   },
   "source": [
    "# Final Output"
   ]
  },
  {
   "cell_type": "code",
   "execution_count": null,
   "id": "96d280a3",
   "metadata": {
    "papermill": {
     "duration": null,
     "end_time": null,
     "exception": null,
     "start_time": null,
     "status": "pending"
    },
    "tags": []
   },
   "outputs": [],
   "source": [
    "sub_universes = universe_analysis.generate_sub_universes()\n",
    "len(sub_universes)"
   ]
  },
  {
   "cell_type": "code",
   "execution_count": null,
   "id": "92adf7ba",
   "metadata": {
    "papermill": {
     "duration": null,
     "end_time": null,
     "exception": null,
     "start_time": null,
     "status": "pending"
    },
    "tags": []
   },
   "outputs": [],
   "source": [
    "def filter_sub_universe_data(sub_universe, org_test):\n",
    "    # Keep all rows — no filtering\n",
    "    keep_rows_mask = np.ones(org_test.shape[0], dtype=bool)\n",
    "\n",
    "    print(f\"[INFO] Keeping all rows: {keep_rows_mask.sum()} rows retained.\")\n",
    "    return keep_rows_mask"
   ]
  },
  {
   "cell_type": "code",
   "execution_count": null,
   "id": "4a759155",
   "metadata": {
    "papermill": {
     "duration": null,
     "end_time": null,
     "exception": null,
     "start_time": null,
     "status": "pending"
    },
    "tags": []
   },
   "outputs": [],
   "source": [
    "final_output = universe_analysis.generate_final_output(\n",
    "    y_pred_prob=probs_test,\n",
    "    y_test=y_true,\n",
    "    org_test=org_test,\n",
    "    filter_data=filter_sub_universe_data,\n",
    "    cp_metrics_df=cp_metrics_df,\n",
    "    save=True,\n",
    ")\n",
    "final_output"
   ]
  },
  {
   "cell_type": "code",
   "execution_count": null,
   "id": "721ff514-cb11-46f8-b6fc-50392f74b5cb",
   "metadata": {
    "papermill": {
     "duration": null,
     "end_time": null,
     "exception": null,
     "start_time": null,
     "status": "pending"
    },
    "tags": []
   },
   "outputs": [],
   "source": []
  }
 ],
 "metadata": {
  "celltoolbar": "Tags",
  "kernelspec": {
   "display_name": "Python (CMA Fairness)",
   "language": "python",
   "name": "cma_fair_env"
  },
  "language_info": {
   "codemirror_mode": {
    "name": "ipython",
    "version": 3
   },
   "file_extension": ".py",
   "mimetype": "text/x-python",
   "name": "python",
   "nbconvert_exporter": "python",
   "pygments_lexer": "ipython3",
   "version": "3.10.12"
  },
  "papermill": {
   "default_parameters": {},
   "duration": null,
   "end_time": null,
   "environment_variables": {},
   "exception": null,
   "input_path": "universe_analysis.ipynb",
   "output_path": "output/runs/12/notebooks/m_12-bb6b82ee7c16902389cf5c84b4d59529.ipynb",
   "parameters": {
    "output_dir": "output",
    "run_no": "12",
    "seed": "2023",
    "universe": "{\"cutoff\": [\"quantile_0.1\", \"quantile_0.25\"], \"eval_fairness_grouping\": [\"majority-minority\", \"nationality-all\"], \"exclude_features\": \"sex\", \"exclude_subgroups\": \"keep-all\", \"model\": \"elasticnet\", \"scale\": \"scale\", \"training_size\": \"1k\", \"training_year\": \"2014\"}",
    "universe_id": "bb6b82ee7c16902389cf5c84b4d59529"
   },
   "start_time": "2025-07-30T14:23:03.448115",
   "version": "2.6.0"
  }
 },
 "nbformat": 4,
 "nbformat_minor": 5
}