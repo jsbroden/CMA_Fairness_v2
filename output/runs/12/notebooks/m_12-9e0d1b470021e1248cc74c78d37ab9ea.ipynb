{
 "cells": [
  {
   "cell_type": "code",
   "execution_count": 1,
   "id": "f159f837-637b-42ba-96b5-ec9a68c44524",
   "metadata": {
    "execution": {
     "iopub.execute_input": "2025-07-30T14:08:34.596652Z",
     "iopub.status.busy": "2025-07-30T14:08:34.596263Z",
     "iopub.status.idle": "2025-07-30T14:08:34.610494Z",
     "shell.execute_reply": "2025-07-30T14:08:34.609478Z"
    },
    "papermill": {
     "duration": 0.036226,
     "end_time": "2025-07-30T14:08:34.612485",
     "exception": false,
     "start_time": "2025-07-30T14:08:34.576259",
     "status": "completed"
    },
    "tags": []
   },
   "outputs": [
    {
     "name": "stdout",
     "output_type": "stream",
     "text": [
      "/dss/dsshome1/0C/ra93lal2/cma/CMA_Fairness_v2\n"
     ]
    },
    {
     "name": "stderr",
     "output_type": "stream",
     "text": [
      "/dss/dsshome1/0C/ra93lal2/.local/share/virtualenvs/CMA_Fairness_v2-3j10GkSs/lib/python3.10/site-packages/IPython/core/magics/osm.py:393: UserWarning: This is now an optional IPython functionality, using bookmarks requires you to install the `pickleshare` library.\n",
      "  bkms = self.shell.db.get('bookmarks', {})\n",
      "/dss/dsshome1/0C/ra93lal2/.local/share/virtualenvs/CMA_Fairness_v2-3j10GkSs/lib/python3.10/site-packages/IPython/core/magics/osm.py:417: UserWarning: This is now an optional IPython functionality, setting dhist requires you to install the `pickleshare` library.\n",
      "  self.shell.db['dhist'] = compress_dhist(dhist)[-100:]\n"
     ]
    }
   ],
   "source": [
    "%cd ~/cma/CMA_Fairness_v2"
   ]
  },
  {
   "cell_type": "markdown",
   "id": "de2603b9",
   "metadata": {
    "papermill": {
     "duration": 0.017644,
     "end_time": "2025-07-30T14:08:34.649297",
     "exception": false,
     "start_time": "2025-07-30T14:08:34.631653",
     "status": "completed"
    },
    "tags": []
   },
   "source": [
    "The following cell holds the definition of our parameters, these values can be overriden by rendering the with e.g. the following command:\n",
    "\n",
    "papermill -p alpha 0.2 -p ratio 0.3 universe_analysis.ipynb output/test_run.ipynb"
   ]
  },
  {
   "cell_type": "code",
   "execution_count": 2,
   "id": "a80968a0-40bb-4fa9-85ef-2d5eefb01975",
   "metadata": {
    "execution": {
     "iopub.execute_input": "2025-07-30T14:08:34.686760Z",
     "iopub.status.busy": "2025-07-30T14:08:34.686144Z",
     "iopub.status.idle": "2025-07-30T14:08:34.691783Z",
     "shell.execute_reply": "2025-07-30T14:08:34.690766Z"
    },
    "papermill": {
     "duration": 0.026212,
     "end_time": "2025-07-30T14:08:34.693408",
     "exception": false,
     "start_time": "2025-07-30T14:08:34.667196",
     "status": "completed"
    },
    "tags": []
   },
   "outputs": [
    {
     "name": "stdout",
     "output_type": "stream",
     "text": [
      "Current working directory: /dss/dsshome1/0C/ra93lal2/cma/CMA_Fairness_v2\n"
     ]
    }
   ],
   "source": [
    "import os\n",
    "print(\"Current working directory:\", os.getcwd())"
   ]
  },
  {
   "cell_type": "code",
   "execution_count": 3,
   "id": "2dce4c03",
   "metadata": {
    "execution": {
     "iopub.execute_input": "2025-07-30T14:08:34.732428Z",
     "iopub.status.busy": "2025-07-30T14:08:34.731711Z",
     "iopub.status.idle": "2025-07-30T14:08:34.737561Z",
     "shell.execute_reply": "2025-07-30T14:08:34.736657Z"
    },
    "papermill": {
     "duration": 0.026602,
     "end_time": "2025-07-30T14:08:34.739007",
     "exception": false,
     "start_time": "2025-07-30T14:08:34.712405",
     "status": "completed"
    },
    "tags": [
     "parameters"
    ]
   },
   "outputs": [],
   "source": [
    "run_no = 0\n",
    "universe_id = \"test\"\n",
    "universe = {\n",
    "    \"training_size\": \"25k\", # \"25k\", \"5k\", \"1k\"\n",
    "    \"training_year\": \"2014\", # \"2014\", \"2012_14\", \"2010_14\"\n",
    "    \"scale\": \"scale\", # \"scale\", \"do-not-scale\",\n",
    "    #\"stratify_split\": \"target\", # \"none\", \"target\", \"protected-attribute\", \"both\",\n",
    "    \"model\": \"elasticnet\", # \"logreg\", \"penalized_logreg\", \"rf\", \"gbm\", \"elasticnet\"\n",
    "    \"cutoff\": [\"quantile_0.15\", \"quantile_0.30\"],\n",
    "    \"exclude_features\": \"age\", # \"none\", \"nationality\", \"sex\", \"nationality-sex\", \"age\"\n",
    "    \"exclude_subgroups\": \"keep-all\", # \"keep-all\", \"drop-non-german\"\n",
    "    \"eval_fairness_grouping\": [\"majority-minority\", \"nationality-all\"]\n",
    "}\n",
    "\n",
    "output_dir=\"./output\"\n",
    "seed=0"
   ]
  },
  {
   "cell_type": "code",
   "execution_count": 4,
   "id": "90a39185",
   "metadata": {
    "execution": {
     "iopub.execute_input": "2025-07-30T14:08:34.779244Z",
     "iopub.status.busy": "2025-07-30T14:08:34.778476Z",
     "iopub.status.idle": "2025-07-30T14:08:34.783977Z",
     "shell.execute_reply": "2025-07-30T14:08:34.783013Z"
    },
    "papermill": {
     "duration": 0.026359,
     "end_time": "2025-07-30T14:08:34.785628",
     "exception": false,
     "start_time": "2025-07-30T14:08:34.759269",
     "status": "completed"
    },
    "tags": [
     "injected-parameters"
    ]
   },
   "outputs": [],
   "source": [
    "# Parameters\n",
    "universe_id = \"9e0d1b470021e1248cc74c78d37ab9ea\"\n",
    "run_no = \"12\"\n",
    "universe = \"{\\\"cutoff\\\": [\\\"quantile_0.1\\\", \\\"quantile_0.25\\\"], \\\"eval_fairness_grouping\\\": [\\\"majority-minority\\\", \\\"nationality-all\\\"], \\\"exclude_features\\\": \\\"nationality\\\", \\\"exclude_subgroups\\\": \\\"drop-non-german\\\", \\\"model\\\": \\\"rf\\\", \\\"scale\\\": \\\"scale\\\", \\\"training_size\\\": \\\"5k\\\", \\\"training_year\\\": \\\"2010_14\\\"}\"\n",
    "output_dir = \"output\"\n",
    "seed = \"2023\"\n"
   ]
  },
  {
   "cell_type": "code",
   "execution_count": 5,
   "id": "1650acaf",
   "metadata": {
    "execution": {
     "iopub.execute_input": "2025-07-30T14:08:34.825124Z",
     "iopub.status.busy": "2025-07-30T14:08:34.824411Z",
     "iopub.status.idle": "2025-07-30T14:08:34.829309Z",
     "shell.execute_reply": "2025-07-30T14:08:34.828431Z"
    },
    "papermill": {
     "duration": 0.025647,
     "end_time": "2025-07-30T14:08:34.830940",
     "exception": false,
     "start_time": "2025-07-30T14:08:34.805293",
     "status": "completed"
    },
    "tags": []
   },
   "outputs": [],
   "source": [
    "import json\n",
    "# Parse universe into dict if it is passed as a string\n",
    "if isinstance(universe, str):\n",
    "    universe = json.loads(universe)"
   ]
  },
  {
   "cell_type": "code",
   "execution_count": 6,
   "id": "16620c48",
   "metadata": {
    "execution": {
     "iopub.execute_input": "2025-07-30T14:08:34.870151Z",
     "iopub.status.busy": "2025-07-30T14:08:34.869811Z",
     "iopub.status.idle": "2025-07-30T14:08:34.912278Z",
     "shell.execute_reply": "2025-07-30T14:08:34.911491Z"
    },
    "papermill": {
     "duration": 0.064653,
     "end_time": "2025-07-30T14:08:34.913877",
     "exception": false,
     "start_time": "2025-07-30T14:08:34.849224",
     "status": "completed"
    },
    "tags": []
   },
   "outputs": [],
   "source": [
    "# Auto-reload the custom package\n",
    "%load_ext autoreload\n",
    "%autoreload 1\n",
    "%aimport fairness_multiverse"
   ]
  },
  {
   "cell_type": "code",
   "execution_count": 7,
   "id": "01c5c9f3",
   "metadata": {
    "execution": {
     "iopub.execute_input": "2025-07-30T14:08:34.953621Z",
     "iopub.status.busy": "2025-07-30T14:08:34.953116Z",
     "iopub.status.idle": "2025-07-30T14:08:36.929306Z",
     "shell.execute_reply": "2025-07-30T14:08:36.928337Z"
    },
    "papermill": {
     "duration": 1.997873,
     "end_time": "2025-07-30T14:08:36.931271",
     "exception": false,
     "start_time": "2025-07-30T14:08:34.933398",
     "status": "completed"
    },
    "tags": []
   },
   "outputs": [],
   "source": [
    "from fairness_multiverse.universe import UniverseAnalysis\n",
    "\n",
    "universe_analysis = UniverseAnalysis(\n",
    "    run_no = run_no,\n",
    "    universe_id = universe_id,\n",
    "    universe = universe,\n",
    "    output_dir=output_dir,\n",
    ")"
   ]
  },
  {
   "cell_type": "code",
   "execution_count": 8,
   "id": "106241f5",
   "metadata": {
    "execution": {
     "iopub.execute_input": "2025-07-30T14:08:36.977193Z",
     "iopub.status.busy": "2025-07-30T14:08:36.976810Z",
     "iopub.status.idle": "2025-07-30T14:08:36.982319Z",
     "shell.execute_reply": "2025-07-30T14:08:36.981468Z"
    },
    "papermill": {
     "duration": 0.030112,
     "end_time": "2025-07-30T14:08:36.983926",
     "exception": false,
     "start_time": "2025-07-30T14:08:36.953814",
     "status": "completed"
    },
    "tags": []
   },
   "outputs": [
    {
     "name": "stdout",
     "output_type": "stream",
     "text": [
      "Using Seed: 2023\n"
     ]
    }
   ],
   "source": [
    "import numpy as np\n",
    "parsed_seed = int(seed)\n",
    "np.random.seed(parsed_seed)\n",
    "print(f\"Using Seed: {parsed_seed}\")"
   ]
  },
  {
   "cell_type": "markdown",
   "id": "e0ebdc57",
   "metadata": {
    "papermill": {
     "duration": 0.02125,
     "end_time": "2025-07-30T14:08:37.027500",
     "exception": false,
     "start_time": "2025-07-30T14:08:37.006250",
     "status": "completed"
    },
    "tags": []
   },
   "source": [
    "# Loading Data"
   ]
  },
  {
   "cell_type": "markdown",
   "id": "681925a3",
   "metadata": {
    "papermill": {
     "duration": 0.021852,
     "end_time": "2025-07-30T14:08:37.071414",
     "exception": false,
     "start_time": "2025-07-30T14:08:37.049562",
     "status": "completed"
    },
    "tags": []
   },
   "source": [
    "Load siab_train, siab_test, siab_calib and/or \n",
    "load siab_train_features, siab_train_labels"
   ]
  },
  {
   "cell_type": "code",
   "execution_count": 9,
   "id": "f0496b8a",
   "metadata": {
    "execution": {
     "iopub.execute_input": "2025-07-30T14:08:37.117441Z",
     "iopub.status.busy": "2025-07-30T14:08:37.116956Z",
     "iopub.status.idle": "2025-07-30T14:08:49.586564Z",
     "shell.execute_reply": "2025-07-30T14:08:49.585712Z"
    },
    "papermill": {
     "duration": 12.494545,
     "end_time": "2025-07-30T14:08:49.587867",
     "exception": false,
     "start_time": "2025-07-30T14:08:37.093322",
     "status": "completed"
    },
    "tags": []
   },
   "outputs": [
    {
     "name": "stdout",
     "output_type": "stream",
     "text": [
      "Loading SIAB data from cache: data/siab_cached.csv.gz\n"
     ]
    },
    {
     "name": "stdout",
     "output_type": "stream",
     "text": [
      "(643690, 164)\n"
     ]
    }
   ],
   "source": [
    "from pathlib import Path\n",
    "import pandas as pd\n",
    "\n",
    "# File paths\n",
    "raw_file = Path(\"data/raw/siab.csv\")\n",
    "cache_file = Path(\"data/siab_cached.csv.gz\")\n",
    "\n",
    "# Ensure cache directory exists\n",
    "cache_file.parent.mkdir(parents=True, exist_ok=True)\n",
    "\n",
    "# Load with simple caching\n",
    "if cache_file.exists():\n",
    "    print(f\"Loading SIAB data from cache: {cache_file}\")\n",
    "    siab = pd.read_csv(cache_file, compression='gzip')\n",
    "else:\n",
    "    print(f\"Cache not found. Reading raw SIAB data: {raw_file}\")\n",
    "    siab = pd.read_csv(raw_file)\n",
    "    siab.to_csv(cache_file, index=False, compression='gzip')\n",
    "    print(f\"Cached SIAB data to: {cache_file}\")\n",
    "\n",
    "# Now use `siab` DataFrame as needed\n",
    "print(siab.shape)"
   ]
  },
  {
   "cell_type": "code",
   "execution_count": 10,
   "id": "db0ca512-5f53-4dba-abdb-a2888bca41ba",
   "metadata": {
    "execution": {
     "iopub.execute_input": "2025-07-30T14:08:49.612650Z",
     "iopub.status.busy": "2025-07-30T14:08:49.612242Z",
     "iopub.status.idle": "2025-07-30T14:08:49.617486Z",
     "shell.execute_reply": "2025-07-30T14:08:49.616809Z"
    },
    "papermill": {
     "duration": 0.018209,
     "end_time": "2025-07-30T14:08:49.619101",
     "exception": false,
     "start_time": "2025-07-30T14:08:49.600892",
     "status": "completed"
    },
    "tags": []
   },
   "outputs": [],
   "source": [
    "#siab"
   ]
  },
  {
   "cell_type": "code",
   "execution_count": 11,
   "id": "a0edb063",
   "metadata": {
    "execution": {
     "iopub.execute_input": "2025-07-30T14:08:49.659078Z",
     "iopub.status.busy": "2025-07-30T14:08:49.658730Z",
     "iopub.status.idle": "2025-07-30T14:08:49.662828Z",
     "shell.execute_reply": "2025-07-30T14:08:49.662034Z"
    },
    "papermill": {
     "duration": 0.024923,
     "end_time": "2025-07-30T14:08:49.664132",
     "exception": false,
     "start_time": "2025-07-30T14:08:49.639209",
     "status": "completed"
    },
    "tags": []
   },
   "outputs": [],
   "source": [
    "#import pandas as pd\n",
    "#\n",
    "#X_train = pd.read_csv(\"./data/X_train.csv\")\n",
    "#y_train = pd.read_csv(\"./data/y_train.csv\")"
   ]
  },
  {
   "cell_type": "code",
   "execution_count": 12,
   "id": "63d08085",
   "metadata": {
    "execution": {
     "iopub.execute_input": "2025-07-30T14:08:49.689466Z",
     "iopub.status.busy": "2025-07-30T14:08:49.688825Z",
     "iopub.status.idle": "2025-07-30T14:08:49.694513Z",
     "shell.execute_reply": "2025-07-30T14:08:49.693547Z"
    },
    "papermill": {
     "duration": 0.020886,
     "end_time": "2025-07-30T14:08:49.696456",
     "exception": false,
     "start_time": "2025-07-30T14:08:49.675570",
     "status": "completed"
    },
    "tags": []
   },
   "outputs": [],
   "source": [
    "#X_test = pd.read_csv(\"./data/X_test.csv\")\n",
    "#y_true = pd.read_csv(\"./data/y_test.csv\")"
   ]
  },
  {
   "cell_type": "code",
   "execution_count": 13,
   "id": "98a8d0fa-1d3d-4ed8-bb2c-281470e24add",
   "metadata": {
    "execution": {
     "iopub.execute_input": "2025-07-30T14:08:49.723019Z",
     "iopub.status.busy": "2025-07-30T14:08:49.722646Z",
     "iopub.status.idle": "2025-07-30T14:08:49.727048Z",
     "shell.execute_reply": "2025-07-30T14:08:49.726391Z"
    },
    "papermill": {
     "duration": 0.01839,
     "end_time": "2025-07-30T14:08:49.728550",
     "exception": false,
     "start_time": "2025-07-30T14:08:49.710160",
     "status": "completed"
    },
    "tags": []
   },
   "outputs": [],
   "source": [
    "# Calibration data for conformal\n",
    "#X_calib = pd.read_csv(\"./data/X_calib.csv\")\n",
    "#y_calib = pd.read_csv(\"./data/y_calib.csv\")"
   ]
  },
  {
   "cell_type": "markdown",
   "id": "997051c5-15bd-4b69-9786-c3001a3ce484",
   "metadata": {
    "papermill": {
     "duration": 0.010629,
     "end_time": "2025-07-30T14:08:49.750425",
     "exception": false,
     "start_time": "2025-07-30T14:08:49.739796",
     "status": "completed"
    },
    "tags": []
   },
   "source": [
    "# Splitting Data and Setting Training Data Size"
   ]
  },
  {
   "cell_type": "code",
   "execution_count": 14,
   "id": "e993b61f-042d-41a6-8c81-f55681f86335",
   "metadata": {
    "execution": {
     "iopub.execute_input": "2025-07-30T14:08:49.772848Z",
     "iopub.status.busy": "2025-07-30T14:08:49.772503Z",
     "iopub.status.idle": "2025-07-30T14:08:49.783529Z",
     "shell.execute_reply": "2025-07-30T14:08:49.782381Z"
    },
    "papermill": {
     "duration": 0.024092,
     "end_time": "2025-07-30T14:08:49.784954",
     "exception": false,
     "start_time": "2025-07-30T14:08:49.760862",
     "status": "completed"
    },
    "tags": []
   },
   "outputs": [],
   "source": [
    "def sample_by_year_size(df,\n",
    "                        training_year: str,\n",
    "                        training_size: str,\n",
    "                        random_state: int = 42):\n",
    "    # --- parse training_year into a list of int years ---\n",
    "    if \"_\" in training_year:\n",
    "        start_str, end_str = training_year.split(\"_\", 1)\n",
    "        start = int(start_str)\n",
    "        end   = int(end_str) if len(end_str) == 4 else (int(end_str) + (start // 100)*100)\n",
    "        years = list(range(start, end + 1))\n",
    "    else:\n",
    "        years = [int(training_year)]\n",
    "\n",
    "    df = df[df[\"year\"].isin(years)].reset_index(drop=True)\n",
    "\n",
    "    # --- map training_size to total number of samples ---\n",
    "    total_map = {\"25k\": 25_000, \"5k\": 5_000, \"1k\": 1_000}\n",
    "    if training_size not in total_map:\n",
    "        return df  # e.g. \"all\"\n",
    "\n",
    "    total_samples = total_map[training_size]\n",
    "    n_years       = len(years)\n",
    "    base          = total_samples // n_years\n",
    "    remainder     = total_samples % n_years\n",
    "\n",
    "    # --- build a dict: year -> how many to sample ---\n",
    "    # give +1 to the first `remainder` years in ascending order\n",
    "    quotas = {\n",
    "        year: base + (1 if idx < remainder else 0)\n",
    "        for idx, year in enumerate(sorted(years))\n",
    "    }\n",
    "\n",
    "    # --- sample per‐year according to the quota dict ---\n",
    "    sampled = (\n",
    "        df\n",
    "        .groupby(\"year\", group_keys=False)\n",
    "        .apply(lambda grp: grp.sample(\n",
    "            n=min(len(grp), quotas[grp.name]),\n",
    "            random_state=random_state))\n",
    "        .reset_index(drop=True)\n",
    "    )\n",
    "\n",
    "    return sampled"
   ]
  },
  {
   "cell_type": "code",
   "execution_count": 15,
   "id": "c0ccd338-0e02-41f3-a09d-f56f9266e3fb",
   "metadata": {
    "execution": {
     "iopub.execute_input": "2025-07-30T14:08:49.828831Z",
     "iopub.status.busy": "2025-07-30T14:08:49.828180Z",
     "iopub.status.idle": "2025-07-30T14:08:49.837896Z",
     "shell.execute_reply": "2025-07-30T14:08:49.836763Z"
    },
    "papermill": {
     "duration": 0.034841,
     "end_time": "2025-07-30T14:08:49.839904",
     "exception": false,
     "start_time": "2025-07-30T14:08:49.805063",
     "status": "completed"
    },
    "tags": []
   },
   "outputs": [
    {
     "data": {
      "text/plain": [
       "'5k'"
      ]
     },
     "execution_count": 15,
     "metadata": {},
     "output_type": "execute_result"
    }
   ],
   "source": [
    "universe[\"training_size\"]"
   ]
  },
  {
   "cell_type": "code",
   "execution_count": 16,
   "id": "ca707fd7-8047-4acd-bfa5-66248fbbf8e6",
   "metadata": {
    "execution": {
     "iopub.execute_input": "2025-07-30T14:08:49.885601Z",
     "iopub.status.busy": "2025-07-30T14:08:49.884808Z",
     "iopub.status.idle": "2025-07-30T14:08:49.891870Z",
     "shell.execute_reply": "2025-07-30T14:08:49.890938Z"
    },
    "papermill": {
     "duration": 0.031041,
     "end_time": "2025-07-30T14:08:49.893611",
     "exception": false,
     "start_time": "2025-07-30T14:08:49.862570",
     "status": "completed"
    },
    "tags": []
   },
   "outputs": [
    {
     "data": {
      "text/plain": [
       "'2010_14'"
      ]
     },
     "execution_count": 16,
     "metadata": {},
     "output_type": "execute_result"
    }
   ],
   "source": [
    "universe[\"training_year\"]"
   ]
  },
  {
   "cell_type": "code",
   "execution_count": 17,
   "id": "aea9c6ef-6f46-42c8-85eb-5a62025c1508",
   "metadata": {
    "execution": {
     "iopub.execute_input": "2025-07-30T14:08:49.937745Z",
     "iopub.status.busy": "2025-07-30T14:08:49.937300Z",
     "iopub.status.idle": "2025-07-30T14:08:51.004948Z",
     "shell.execute_reply": "2025-07-30T14:08:51.003948Z"
    },
    "papermill": {
     "duration": 1.090676,
     "end_time": "2025-07-30T14:08:51.006946",
     "exception": false,
     "start_time": "2025-07-30T14:08:49.916270",
     "status": "completed"
    },
    "tags": []
   },
   "outputs": [],
   "source": [
    "siab_train = sample_by_year_size(siab,\n",
    "                               training_year=universe[\"training_year\"],\n",
    "                               training_size=universe[\"training_size\"])"
   ]
  },
  {
   "cell_type": "code",
   "execution_count": 18,
   "id": "8d3afb32-789d-442c-8d5d-9f5aa8dd2eed",
   "metadata": {
    "execution": {
     "iopub.execute_input": "2025-07-30T14:08:51.034590Z",
     "iopub.status.busy": "2025-07-30T14:08:51.033931Z",
     "iopub.status.idle": "2025-07-30T14:08:51.041420Z",
     "shell.execute_reply": "2025-07-30T14:08:51.040201Z"
    },
    "papermill": {
     "duration": 0.021422,
     "end_time": "2025-07-30T14:08:51.043490",
     "exception": false,
     "start_time": "2025-07-30T14:08:51.022068",
     "status": "completed"
    },
    "tags": []
   },
   "outputs": [
    {
     "data": {
      "text/plain": [
       "(5000, 164)"
      ]
     },
     "execution_count": 18,
     "metadata": {},
     "output_type": "execute_result"
    }
   ],
   "source": [
    "siab_train.shape"
   ]
  },
  {
   "cell_type": "code",
   "execution_count": 19,
   "id": "d582db68-1a4c-47fb-84fc-08518dc1975a",
   "metadata": {
    "execution": {
     "iopub.execute_input": "2025-07-30T14:08:51.091470Z",
     "iopub.status.busy": "2025-07-30T14:08:51.090801Z",
     "iopub.status.idle": "2025-07-30T14:08:51.100777Z",
     "shell.execute_reply": "2025-07-30T14:08:51.099803Z"
    },
    "papermill": {
     "duration": 0.035677,
     "end_time": "2025-07-30T14:08:51.102470",
     "exception": false,
     "start_time": "2025-07-30T14:08:51.066793",
     "status": "completed"
    },
    "tags": []
   },
   "outputs": [
    {
     "data": {
      "text/plain": [
       "year\n",
       "2010    1000\n",
       "2011    1000\n",
       "2012    1000\n",
       "2013    1000\n",
       "2014    1000\n",
       "dtype: int64"
      ]
     },
     "metadata": {},
     "output_type": "display_data"
    }
   ],
   "source": [
    "display(siab_train.groupby(\"year\").size())"
   ]
  },
  {
   "cell_type": "code",
   "execution_count": 20,
   "id": "a561edb4-d032-42cb-8256-22eac1111c64",
   "metadata": {
    "execution": {
     "iopub.execute_input": "2025-07-30T14:08:51.151163Z",
     "iopub.status.busy": "2025-07-30T14:08:51.150506Z",
     "iopub.status.idle": "2025-07-30T14:08:51.402110Z",
     "shell.execute_reply": "2025-07-30T14:08:51.401151Z"
    },
    "papermill": {
     "duration": 0.277778,
     "end_time": "2025-07-30T14:08:51.403989",
     "exception": false,
     "start_time": "2025-07-30T14:08:51.126211",
     "status": "completed"
    },
    "tags": []
   },
   "outputs": [],
   "source": [
    "#siab_train = siab_s[siab_s.year < 2015]\n",
    "siab_calib = siab[siab.year == 2015]\n",
    "siab_test = siab[siab.year == 2016]"
   ]
  },
  {
   "cell_type": "code",
   "execution_count": 21,
   "id": "472de16f-c3db-4916-846b-1f0de9cf1746",
   "metadata": {
    "execution": {
     "iopub.execute_input": "2025-07-30T14:08:51.452625Z",
     "iopub.status.busy": "2025-07-30T14:08:51.451726Z",
     "iopub.status.idle": "2025-07-30T14:08:51.460113Z",
     "shell.execute_reply": "2025-07-30T14:08:51.459092Z"
    },
    "papermill": {
     "duration": 0.034922,
     "end_time": "2025-07-30T14:08:51.462321",
     "exception": false,
     "start_time": "2025-07-30T14:08:51.427399",
     "status": "completed"
    },
    "tags": []
   },
   "outputs": [],
   "source": [
    "X_train = siab_train.iloc[:,4:164]\n",
    "y_train = siab_train.iloc[:, [3]]"
   ]
  },
  {
   "cell_type": "code",
   "execution_count": 22,
   "id": "828c96af-f43a-4ed6-ba47-8ac73a47d56c",
   "metadata": {
    "execution": {
     "iopub.execute_input": "2025-07-30T14:08:51.510962Z",
     "iopub.status.busy": "2025-07-30T14:08:51.510501Z",
     "iopub.status.idle": "2025-07-30T14:08:51.561441Z",
     "shell.execute_reply": "2025-07-30T14:08:51.560330Z"
    },
    "papermill": {
     "duration": 0.077051,
     "end_time": "2025-07-30T14:08:51.563201",
     "exception": false,
     "start_time": "2025-07-30T14:08:51.486150",
     "status": "completed"
    },
    "tags": []
   },
   "outputs": [],
   "source": [
    "X_calib = siab_calib.iloc[:,4:164]\n",
    "y_calib = siab_calib.iloc[:, [3]]"
   ]
  },
  {
   "cell_type": "code",
   "execution_count": 23,
   "id": "c34be9c3-6bd6-476e-acd3-845840e303be",
   "metadata": {
    "execution": {
     "iopub.execute_input": "2025-07-30T14:08:51.611708Z",
     "iopub.status.busy": "2025-07-30T14:08:51.611060Z",
     "iopub.status.idle": "2025-07-30T14:08:51.663684Z",
     "shell.execute_reply": "2025-07-30T14:08:51.662587Z"
    },
    "papermill": {
     "duration": 0.079736,
     "end_time": "2025-07-30T14:08:51.665820",
     "exception": false,
     "start_time": "2025-07-30T14:08:51.586084",
     "status": "completed"
    },
    "tags": []
   },
   "outputs": [],
   "source": [
    "X_test = siab_test.iloc[:,4:164]\n",
    "y_true = siab_test.iloc[:, [3]]"
   ]
  },
  {
   "cell_type": "markdown",
   "id": "9901737e-04df-44f0-9100-f5ad144ed040",
   "metadata": {
    "papermill": {
     "duration": 0.021619,
     "end_time": "2025-07-30T14:08:51.709458",
     "exception": false,
     "start_time": "2025-07-30T14:08:51.687839",
     "status": "completed"
    },
    "tags": []
   },
   "source": [
    "# Splitting Data and Setting Training Data Size OLD VERSION"
   ]
  },
  {
   "cell_type": "code",
   "execution_count": 24,
   "id": "acbc8f7d-8fc8-4e86-8c59-5dcb0f58384b",
   "metadata": {
    "execution": {
     "iopub.execute_input": "2025-07-30T14:08:51.752518Z",
     "iopub.status.busy": "2025-07-30T14:08:51.752124Z",
     "iopub.status.idle": "2025-07-30T14:08:51.757952Z",
     "shell.execute_reply": "2025-07-30T14:08:51.757028Z"
    },
    "papermill": {
     "duration": 0.029446,
     "end_time": "2025-07-30T14:08:51.759627",
     "exception": false,
     "start_time": "2025-07-30T14:08:51.730181",
     "status": "completed"
    },
    "tags": []
   },
   "outputs": [],
   "source": [
    "#def sample_by_year(df, training_size, random_state=42):\n",
    "#    if training_size == \"2014\":\n",
    "#        return df[df[\"year\"] == 2014].reset_index(drop=True)\n",
    "#    \n",
    "#    size_map = {\n",
    "#        \"25k\": 5000,\n",
    "#        \"5k\": 1000,\n",
    "#        \"1k\": 200\n",
    "#    }\n",
    "#\n",
    "#    if training_size not in size_map:\n",
    "#        return df.reset_index(drop=True)  # use all data\n",
    "#\n",
    "#    n_per_year = size_map[training_size]\n",
    "#    grouped = df.groupby(\"year\")\n",
    "#    sampled = grouped.apply(lambda x: x.sample(n=min(n_per_year, len(x)), random_state=random_state))\n",
    "#    return sampled.reset_index(drop=True)"
   ]
  },
  {
   "cell_type": "code",
   "execution_count": 25,
   "id": "6d931f52-beaf-43ff-9e78-9d44a448d54e",
   "metadata": {
    "execution": {
     "iopub.execute_input": "2025-07-30T14:08:51.805761Z",
     "iopub.status.busy": "2025-07-30T14:08:51.805287Z",
     "iopub.status.idle": "2025-07-30T14:08:51.810272Z",
     "shell.execute_reply": "2025-07-30T14:08:51.809395Z"
    },
    "papermill": {
     "duration": 0.029614,
     "end_time": "2025-07-30T14:08:51.811936",
     "exception": false,
     "start_time": "2025-07-30T14:08:51.782322",
     "status": "completed"
    },
    "tags": []
   },
   "outputs": [],
   "source": [
    "#siab_s = sample_by_year(siab, universe[\"training_size\"])"
   ]
  },
  {
   "cell_type": "code",
   "execution_count": 26,
   "id": "5db0a40e-a4e2-4920-be85-b12ae061d70d",
   "metadata": {
    "execution": {
     "iopub.execute_input": "2025-07-30T14:08:51.858990Z",
     "iopub.status.busy": "2025-07-30T14:08:51.858348Z",
     "iopub.status.idle": "2025-07-30T14:08:51.863641Z",
     "shell.execute_reply": "2025-07-30T14:08:51.862718Z"
    },
    "papermill": {
     "duration": 0.030235,
     "end_time": "2025-07-30T14:08:51.865284",
     "exception": false,
     "start_time": "2025-07-30T14:08:51.835049",
     "status": "completed"
    },
    "tags": []
   },
   "outputs": [],
   "source": [
    "#display(siab_s.groupby(\"year\").size())"
   ]
  },
  {
   "cell_type": "code",
   "execution_count": 27,
   "id": "e6c733c5",
   "metadata": {
    "execution": {
     "iopub.execute_input": "2025-07-30T14:08:51.914034Z",
     "iopub.status.busy": "2025-07-30T14:08:51.913374Z",
     "iopub.status.idle": "2025-07-30T14:08:52.010096Z",
     "shell.execute_reply": "2025-07-30T14:08:52.009168Z"
    },
    "papermill": {
     "duration": 0.122887,
     "end_time": "2025-07-30T14:08:52.011969",
     "exception": false,
     "start_time": "2025-07-30T14:08:51.889082",
     "status": "completed"
    },
    "tags": []
   },
   "outputs": [],
   "source": [
    "# Auxiliary data needed downstream in the pipeline\n",
    "\n",
    "org_train = X_train.copy()\n",
    "org_test = X_test.copy()\n",
    "org_calib = X_calib.copy()"
   ]
  },
  {
   "cell_type": "code",
   "execution_count": 28,
   "id": "1466abac-c6da-4492-a62f-4240ae3783af",
   "metadata": {
    "execution": {
     "iopub.execute_input": "2025-07-30T14:08:52.060998Z",
     "iopub.status.busy": "2025-07-30T14:08:52.060501Z",
     "iopub.status.idle": "2025-07-30T14:08:52.066381Z",
     "shell.execute_reply": "2025-07-30T14:08:52.065456Z"
    },
    "papermill": {
     "duration": 0.03189,
     "end_time": "2025-07-30T14:08:52.067968",
     "exception": false,
     "start_time": "2025-07-30T14:08:52.036078",
     "status": "completed"
    },
    "tags": []
   },
   "outputs": [],
   "source": [
    "# put in other script?\n",
    "# Group sizes\n",
    "\n",
    "#def calculate_percentages(df, df_name):\n",
    "#    total_entries = len(df)\n",
    "#\n",
    "#    female_pct = (df['frau1'] == 1).mean() * 100\n",
    "#    non_german_pct = ((df['maxdeutsch1'] == 0) & (df['maxdeutsch.Missing.'] == 0)).mean() * 100\n",
    "#    non_german_male_pct = ((df['frau1'] == 0) & (df['maxdeutsch1'] == 0) & (df['maxdeutsch.Missing.'] == 0)).mean() * 100\n",
    "#    non_german_female_pct = ((df['frau1'] == 1) & (df['maxdeutsch1'] == 0) & (df['maxdeutsch.Missing.'] == 0)).mean() * 100\n",
    "#\n",
    "#    print(f\"--- {df_name} ---\")\n",
    "#    print(f\"Female: {female_pct:.2f}%\")\n",
    "#    print(f\"Non-German: {non_german_pct:.2f}%\")\n",
    "#    print(f\"Non-German Male: {non_german_male_pct:.2f}%\")\n",
    "#    print(f\"Non-German Female: {non_german_female_pct:.2f}%\\n\")\n",
    "#\n",
    "## Calculate for each DataFrame\n",
    "#calculate_percentages(siab_calib, \"siab_calib\")\n",
    "#calculate_percentages(siab_test, \"siab_test\")\n",
    "#calculate_percentages(siab_train, \"siab_train\")"
   ]
  },
  {
   "cell_type": "markdown",
   "id": "0a4a1b33",
   "metadata": {
    "papermill": {
     "duration": 0.022928,
     "end_time": "2025-07-30T14:08:52.113570",
     "exception": false,
     "start_time": "2025-07-30T14:08:52.090642",
     "status": "completed"
    },
    "tags": []
   },
   "source": [
    "# Preprocessing Data"
   ]
  },
  {
   "cell_type": "code",
   "execution_count": 29,
   "id": "ca879031",
   "metadata": {
    "execution": {
     "iopub.execute_input": "2025-07-30T14:08:52.160928Z",
     "iopub.status.busy": "2025-07-30T14:08:52.160208Z",
     "iopub.status.idle": "2025-07-30T14:08:52.166809Z",
     "shell.execute_reply": "2025-07-30T14:08:52.165748Z"
    },
    "papermill": {
     "duration": 0.031988,
     "end_time": "2025-07-30T14:08:52.168625",
     "exception": false,
     "start_time": "2025-07-30T14:08:52.136637",
     "status": "completed"
    },
    "tags": []
   },
   "outputs": [],
   "source": [
    "# EXCLUDE PROTECTED FEATURES\n",
    "# ----------------------\n",
    "# \"exclude_features\": \"none\", # \"nationality\", \"sex\", \"nationality-sex\"\n",
    "\n",
    "excluded_features = universe[\"exclude_features\"].split(\"-\") # split, e.g.: \"nationality-sex\" -> [\"nationality\", \"sex\"]\n",
    "excluded_features_dictionary = {\n",
    "    \"nationality\": [\"maxdeutsch1\", \"maxdeutsch.Missing.\"],\n",
    "    \"sex\": [\"frau1\"],\n",
    "    \"age\": [\"age\"],\n",
    "}\n"
   ]
  },
  {
   "cell_type": "code",
   "execution_count": 30,
   "id": "b745ac60",
   "metadata": {
    "execution": {
     "iopub.execute_input": "2025-07-30T14:08:52.218425Z",
     "iopub.status.busy": "2025-07-30T14:08:52.217758Z",
     "iopub.status.idle": "2025-07-30T14:08:52.223846Z",
     "shell.execute_reply": "2025-07-30T14:08:52.222916Z"
    },
    "papermill": {
     "duration": 0.032915,
     "end_time": "2025-07-30T14:08:52.225512",
     "exception": false,
     "start_time": "2025-07-30T14:08:52.192597",
     "status": "completed"
    },
    "tags": []
   },
   "outputs": [],
   "source": [
    "# Code nice names to column names\n",
    "\n",
    "excluded_features_columns = [\n",
    "    excluded_features_dictionary[f] for f in excluded_features if len(f) > 0 and f != \"none\"\n",
    "]"
   ]
  },
  {
   "cell_type": "code",
   "execution_count": 31,
   "id": "f84f73a2",
   "metadata": {
    "execution": {
     "iopub.execute_input": "2025-07-30T14:08:52.275122Z",
     "iopub.status.busy": "2025-07-30T14:08:52.274230Z",
     "iopub.status.idle": "2025-07-30T14:08:52.281119Z",
     "shell.execute_reply": "2025-07-30T14:08:52.280133Z"
    },
    "papermill": {
     "duration": 0.033897,
     "end_time": "2025-07-30T14:08:52.283023",
     "exception": false,
     "start_time": "2025-07-30T14:08:52.249126",
     "status": "completed"
    },
    "tags": []
   },
   "outputs": [],
   "source": [
    "from utils import flatten_once\n",
    "\n",
    "excluded_features_columns = flatten_once(excluded_features_columns)"
   ]
  },
  {
   "cell_type": "code",
   "execution_count": 32,
   "id": "884dea22",
   "metadata": {
    "execution": {
     "iopub.execute_input": "2025-07-30T14:08:52.326434Z",
     "iopub.status.busy": "2025-07-30T14:08:52.325790Z",
     "iopub.status.idle": "2025-07-30T14:08:52.334826Z",
     "shell.execute_reply": "2025-07-30T14:08:52.333952Z"
    },
    "papermill": {
     "duration": 0.031365,
     "end_time": "2025-07-30T14:08:52.336664",
     "exception": false,
     "start_time": "2025-07-30T14:08:52.305299",
     "status": "completed"
    },
    "tags": []
   },
   "outputs": [
    {
     "name": "stdout",
     "output_type": "stream",
     "text": [
      "Dropping features: ['maxdeutsch1', 'maxdeutsch.Missing.']\n"
     ]
    }
   ],
   "source": [
    "if len(excluded_features_columns) > 0:\n",
    "    print(f\"Dropping features: {excluded_features_columns}\")\n",
    "    X_train.drop(excluded_features_columns, axis=1, inplace=True)"
   ]
  },
  {
   "cell_type": "code",
   "execution_count": 33,
   "id": "95ab8b16",
   "metadata": {
    "execution": {
     "iopub.execute_input": "2025-07-30T14:08:52.383399Z",
     "iopub.status.busy": "2025-07-30T14:08:52.382753Z",
     "iopub.status.idle": "2025-07-30T14:08:52.439816Z",
     "shell.execute_reply": "2025-07-30T14:08:52.438920Z"
    },
    "papermill": {
     "duration": 0.08185,
     "end_time": "2025-07-30T14:08:52.441527",
     "exception": false,
     "start_time": "2025-07-30T14:08:52.359677",
     "status": "completed"
    },
    "tags": []
   },
   "outputs": [
    {
     "name": "stdout",
     "output_type": "stream",
     "text": [
      "Dropping features: ['maxdeutsch1', 'maxdeutsch.Missing.']\n"
     ]
    }
   ],
   "source": [
    "if len(excluded_features_columns) > 0:\n",
    "    print(f\"Dropping features: {excluded_features_columns}\")\n",
    "    X_test.drop(excluded_features_columns, axis=1, inplace=True)"
   ]
  },
  {
   "cell_type": "code",
   "execution_count": 34,
   "id": "1853aaf5-fb9f-46cb-a2b5-8ea4ae2237e4",
   "metadata": {
    "execution": {
     "iopub.execute_input": "2025-07-30T14:08:52.489062Z",
     "iopub.status.busy": "2025-07-30T14:08:52.488650Z",
     "iopub.status.idle": "2025-07-30T14:08:52.542659Z",
     "shell.execute_reply": "2025-07-30T14:08:52.541671Z"
    },
    "papermill": {
     "duration": 0.079835,
     "end_time": "2025-07-30T14:08:52.544808",
     "exception": false,
     "start_time": "2025-07-30T14:08:52.464973",
     "status": "completed"
    },
    "tags": []
   },
   "outputs": [
    {
     "name": "stdout",
     "output_type": "stream",
     "text": [
      "Dropping features: ['maxdeutsch1', 'maxdeutsch.Missing.']\n"
     ]
    }
   ],
   "source": [
    "if len(excluded_features_columns) > 0:\n",
    "    print(f\"Dropping features: {excluded_features_columns}\")\n",
    "    X_calib.drop(excluded_features_columns, axis=1, inplace=True)"
   ]
  },
  {
   "cell_type": "code",
   "execution_count": 35,
   "id": "6727d079-03e5-481e-9d38-292a90b7a0a8",
   "metadata": {
    "execution": {
     "iopub.execute_input": "2025-07-30T14:08:52.595215Z",
     "iopub.status.busy": "2025-07-30T14:08:52.594531Z",
     "iopub.status.idle": "2025-07-30T14:08:52.599717Z",
     "shell.execute_reply": "2025-07-30T14:08:52.598695Z"
    },
    "papermill": {
     "duration": 0.031452,
     "end_time": "2025-07-30T14:08:52.601474",
     "exception": false,
     "start_time": "2025-07-30T14:08:52.570022",
     "status": "completed"
    },
    "tags": []
   },
   "outputs": [],
   "source": [
    "# SPLIT & STRATIFY DATA\n",
    "# ----------------------"
   ]
  },
  {
   "cell_type": "code",
   "execution_count": 36,
   "id": "76c4dc6d",
   "metadata": {
    "execution": {
     "iopub.execute_input": "2025-07-30T14:08:52.651057Z",
     "iopub.status.busy": "2025-07-30T14:08:52.650127Z",
     "iopub.status.idle": "2025-07-30T14:08:52.655716Z",
     "shell.execute_reply": "2025-07-30T14:08:52.654848Z"
    },
    "papermill": {
     "duration": 0.031521,
     "end_time": "2025-07-30T14:08:52.657436",
     "exception": false,
     "start_time": "2025-07-30T14:08:52.625915",
     "status": "completed"
    },
    "tags": []
   },
   "outputs": [],
   "source": [
    "# EXCLUDE CERTAIN SUBGROUPS\n",
    "# ----------------------\n",
    "\n",
    "mode = universe.get(\"exclude_subgroups\", \"keep-all\") \n",
    "# Fetches the exclude_subgroups setting from the universe dict.\n",
    "# Defaults to \"keep-all\" if the key is missing."
   ]
  },
  {
   "cell_type": "code",
   "execution_count": 37,
   "id": "21994072",
   "metadata": {
    "execution": {
     "iopub.execute_input": "2025-07-30T14:08:52.707871Z",
     "iopub.status.busy": "2025-07-30T14:08:52.707094Z",
     "iopub.status.idle": "2025-07-30T14:08:52.715518Z",
     "shell.execute_reply": "2025-07-30T14:08:52.714434Z"
    },
    "papermill": {
     "duration": 0.035318,
     "end_time": "2025-07-30T14:08:52.717218",
     "exception": false,
     "start_time": "2025-07-30T14:08:52.681900",
     "status": "completed"
    },
    "tags": []
   },
   "outputs": [],
   "source": [
    "if mode == \"keep-all\":\n",
    "    keep_mask = pd.Series(True, index=org_train.index)\n",
    "\n",
    "# org_train contains the original feature columns from features_org (in Simson)\n",
    "# features_org contains unprocessed features, for me X_train at beginning ???\n",
    "# For keep-all, creates a boolean Series (keep_mask) of all True, so no rows are removed.\n",
    "\n",
    "elif mode == \"drop-non-german\":\n",
    "    keep_mask = org_train[\"maxdeutsch1\"] == 1 # ??? what about missing values?\n",
    "\n",
    "else:\n",
    "    raise ValueError(f\"Unsupported mode for exclude_subgroups: {mode}\")\n"
   ]
  },
  {
   "cell_type": "code",
   "execution_count": 38,
   "id": "71651440",
   "metadata": {
    "execution": {
     "iopub.execute_input": "2025-07-30T14:08:52.766217Z",
     "iopub.status.busy": "2025-07-30T14:08:52.765860Z",
     "iopub.status.idle": "2025-07-30T14:08:52.771814Z",
     "shell.execute_reply": "2025-07-30T14:08:52.770989Z"
    },
    "papermill": {
     "duration": 0.032452,
     "end_time": "2025-07-30T14:08:52.773371",
     "exception": false,
     "start_time": "2025-07-30T14:08:52.740919",
     "status": "completed"
    },
    "tags": []
   },
   "outputs": [
    {
     "name": "stdout",
     "output_type": "stream",
     "text": [
      "Dropping 657 rows (13.14%) where mode='drop-non-german'\n"
     ]
    }
   ],
   "source": [
    "n_drop = (~keep_mask).sum() # Calculates how many rows are set to be dropped\n",
    "if n_drop > 0:\n",
    "    pct = n_drop / len(keep_mask) * 100\n",
    "    print(f\"Dropping {n_drop} rows ({pct:.2f}%) where mode='{mode}'\")"
   ]
  },
  {
   "cell_type": "code",
   "execution_count": 39,
   "id": "5fb8eee5",
   "metadata": {
    "execution": {
     "iopub.execute_input": "2025-07-30T14:08:52.822679Z",
     "iopub.status.busy": "2025-07-30T14:08:52.821747Z",
     "iopub.status.idle": "2025-07-30T14:08:52.829499Z",
     "shell.execute_reply": "2025-07-30T14:08:52.828592Z"
    },
    "papermill": {
     "duration": 0.034309,
     "end_time": "2025-07-30T14:08:52.831013",
     "exception": false,
     "start_time": "2025-07-30T14:08:52.796704",
     "status": "completed"
    },
    "tags": []
   },
   "outputs": [],
   "source": [
    "X_train = X_train[keep_mask]"
   ]
  },
  {
   "cell_type": "code",
   "execution_count": 40,
   "id": "b202bb3a",
   "metadata": {
    "execution": {
     "iopub.execute_input": "2025-07-30T14:08:52.882993Z",
     "iopub.status.busy": "2025-07-30T14:08:52.882534Z",
     "iopub.status.idle": "2025-07-30T14:08:52.888282Z",
     "shell.execute_reply": "2025-07-30T14:08:52.887380Z"
    },
    "papermill": {
     "duration": 0.034074,
     "end_time": "2025-07-30T14:08:52.890009",
     "exception": false,
     "start_time": "2025-07-30T14:08:52.855935",
     "status": "completed"
    },
    "tags": []
   },
   "outputs": [],
   "source": [
    "y_train = y_train[keep_mask]"
   ]
  },
  {
   "cell_type": "markdown",
   "id": "493e2ac3",
   "metadata": {
    "papermill": {
     "duration": 0.019565,
     "end_time": "2025-07-30T14:08:52.929561",
     "exception": false,
     "start_time": "2025-07-30T14:08:52.909996",
     "status": "completed"
    },
    "tags": []
   },
   "source": [
    "# Model Training"
   ]
  },
  {
   "cell_type": "code",
   "execution_count": 41,
   "id": "679e1268",
   "metadata": {
    "execution": {
     "iopub.execute_input": "2025-07-30T14:08:52.980952Z",
     "iopub.status.busy": "2025-07-30T14:08:52.980472Z",
     "iopub.status.idle": "2025-07-30T14:08:53.083333Z",
     "shell.execute_reply": "2025-07-30T14:08:53.082302Z"
    },
    "papermill": {
     "duration": 0.130615,
     "end_time": "2025-07-30T14:08:53.085441",
     "exception": false,
     "start_time": "2025-07-30T14:08:52.954826",
     "status": "completed"
    },
    "tags": []
   },
   "outputs": [],
   "source": [
    "from sklearn.linear_model import LogisticRegression\n",
    "from sklearn.ensemble import GradientBoostingClassifier, RandomForestClassifier\n",
    "\n",
    "if (universe[\"model\"] == \"logreg\"):\n",
    "    model = LogisticRegression() #penalty=\"none\") #, solver=\"newton-cg\", max_iter=1) # include random_state=19 ?\n",
    "elif (universe[\"model\"] == \"penalized_logreg\"):\n",
    "    model = LogisticRegression(penalty=\"l2\", C=1.0) #, solver=\"newton-cg\", max_iter=1)\n",
    "elif (universe[\"model\"] == \"rf\"):\n",
    "    model = RandomForestClassifier(n_estimators=100, n_jobs=-1)\n",
    "elif (universe[\"model\"] == \"gbm\"):\n",
    "    model = GradientBoostingClassifier()\n",
    "elif (universe[\"model\"] == \"elasticnet\"):\n",
    "    model = LogisticRegression(penalty = 'elasticnet', solver = 'saga', l1_ratio = 0.5, max_iter=5000) # which solver to use?\n",
    "else:\n",
    "    raise \"Unsupported universe.model\""
   ]
  },
  {
   "cell_type": "code",
   "execution_count": 42,
   "id": "0cc8f744",
   "metadata": {
    "execution": {
     "iopub.execute_input": "2025-07-30T14:08:53.137394Z",
     "iopub.status.busy": "2025-07-30T14:08:53.136684Z",
     "iopub.status.idle": "2025-07-30T14:08:53.143694Z",
     "shell.execute_reply": "2025-07-30T14:08:53.142767Z"
    },
    "papermill": {
     "duration": 0.034647,
     "end_time": "2025-07-30T14:08:53.145598",
     "exception": false,
     "start_time": "2025-07-30T14:08:53.110951",
     "status": "completed"
    },
    "tags": []
   },
   "outputs": [],
   "source": [
    "import numpy as np\n",
    "from sklearn.pipeline import Pipeline\n",
    "from sklearn.preprocessing import StandardScaler\n",
    "\n",
    "model = Pipeline([\n",
    "    #(\"continuous_processor\", continuous_processor),\n",
    "    #(\"categorical_preprocessor\", categorical_preprocessor),\n",
    "    (\"scale\", StandardScaler() if universe[\"scale\"] == \"scale\" else None), \n",
    "    (\"model\", model),\n",
    "])"
   ]
  },
  {
   "cell_type": "code",
   "execution_count": 43,
   "id": "9442c04d",
   "metadata": {
    "execution": {
     "iopub.execute_input": "2025-07-30T14:08:53.197413Z",
     "iopub.status.busy": "2025-07-30T14:08:53.196767Z",
     "iopub.status.idle": "2025-07-30T14:08:54.066437Z",
     "shell.execute_reply": "2025-07-30T14:08:54.065287Z"
    },
    "papermill": {
     "duration": 0.897261,
     "end_time": "2025-07-30T14:08:54.068207",
     "exception": false,
     "start_time": "2025-07-30T14:08:53.170946",
     "status": "completed"
    },
    "tags": []
   },
   "outputs": [
    {
     "data": {
      "text/html": [
       "<style>#sk-container-id-1 {color: black;background-color: white;}#sk-container-id-1 pre{padding: 0;}#sk-container-id-1 div.sk-toggleable {background-color: white;}#sk-container-id-1 label.sk-toggleable__label {cursor: pointer;display: block;width: 100%;margin-bottom: 0;padding: 0.3em;box-sizing: border-box;text-align: center;}#sk-container-id-1 label.sk-toggleable__label-arrow:before {content: \"▸\";float: left;margin-right: 0.25em;color: #696969;}#sk-container-id-1 label.sk-toggleable__label-arrow:hover:before {color: black;}#sk-container-id-1 div.sk-estimator:hover label.sk-toggleable__label-arrow:before {color: black;}#sk-container-id-1 div.sk-toggleable__content {max-height: 0;max-width: 0;overflow: hidden;text-align: left;background-color: #f0f8ff;}#sk-container-id-1 div.sk-toggleable__content pre {margin: 0.2em;color: black;border-radius: 0.25em;background-color: #f0f8ff;}#sk-container-id-1 input.sk-toggleable__control:checked~div.sk-toggleable__content {max-height: 200px;max-width: 100%;overflow: auto;}#sk-container-id-1 input.sk-toggleable__control:checked~label.sk-toggleable__label-arrow:before {content: \"▾\";}#sk-container-id-1 div.sk-estimator input.sk-toggleable__control:checked~label.sk-toggleable__label {background-color: #d4ebff;}#sk-container-id-1 div.sk-label input.sk-toggleable__control:checked~label.sk-toggleable__label {background-color: #d4ebff;}#sk-container-id-1 input.sk-hidden--visually {border: 0;clip: rect(1px 1px 1px 1px);clip: rect(1px, 1px, 1px, 1px);height: 1px;margin: -1px;overflow: hidden;padding: 0;position: absolute;width: 1px;}#sk-container-id-1 div.sk-estimator {font-family: monospace;background-color: #f0f8ff;border: 1px dotted black;border-radius: 0.25em;box-sizing: border-box;margin-bottom: 0.5em;}#sk-container-id-1 div.sk-estimator:hover {background-color: #d4ebff;}#sk-container-id-1 div.sk-parallel-item::after {content: \"\";width: 100%;border-bottom: 1px solid gray;flex-grow: 1;}#sk-container-id-1 div.sk-label:hover label.sk-toggleable__label {background-color: #d4ebff;}#sk-container-id-1 div.sk-serial::before {content: \"\";position: absolute;border-left: 1px solid gray;box-sizing: border-box;top: 0;bottom: 0;left: 50%;z-index: 0;}#sk-container-id-1 div.sk-serial {display: flex;flex-direction: column;align-items: center;background-color: white;padding-right: 0.2em;padding-left: 0.2em;position: relative;}#sk-container-id-1 div.sk-item {position: relative;z-index: 1;}#sk-container-id-1 div.sk-parallel {display: flex;align-items: stretch;justify-content: center;background-color: white;position: relative;}#sk-container-id-1 div.sk-item::before, #sk-container-id-1 div.sk-parallel-item::before {content: \"\";position: absolute;border-left: 1px solid gray;box-sizing: border-box;top: 0;bottom: 0;left: 50%;z-index: -1;}#sk-container-id-1 div.sk-parallel-item {display: flex;flex-direction: column;z-index: 1;position: relative;background-color: white;}#sk-container-id-1 div.sk-parallel-item:first-child::after {align-self: flex-end;width: 50%;}#sk-container-id-1 div.sk-parallel-item:last-child::after {align-self: flex-start;width: 50%;}#sk-container-id-1 div.sk-parallel-item:only-child::after {width: 0;}#sk-container-id-1 div.sk-dashed-wrapped {border: 1px dashed gray;margin: 0 0.4em 0.5em 0.4em;box-sizing: border-box;padding-bottom: 0.4em;background-color: white;}#sk-container-id-1 div.sk-label label {font-family: monospace;font-weight: bold;display: inline-block;line-height: 1.2em;}#sk-container-id-1 div.sk-label-container {text-align: center;}#sk-container-id-1 div.sk-container {/* jupyter's `normalize.less` sets `[hidden] { display: none; }` but bootstrap.min.css set `[hidden] { display: none !important; }` so we also need the `!important` here to be able to override the default hidden behavior on the sphinx rendered scikit-learn.org. See: https://github.com/scikit-learn/scikit-learn/issues/21755 */display: inline-block !important;position: relative;}#sk-container-id-1 div.sk-text-repr-fallback {display: none;}</style><div id=\"sk-container-id-1\" class=\"sk-top-container\"><div class=\"sk-text-repr-fallback\"><pre>Pipeline(steps=[(&#x27;scale&#x27;, StandardScaler()),\n",
       "                (&#x27;model&#x27;, RandomForestClassifier(n_jobs=-1))])</pre><b>In a Jupyter environment, please rerun this cell to show the HTML representation or trust the notebook. <br />On GitHub, the HTML representation is unable to render, please try loading this page with nbviewer.org.</b></div><div class=\"sk-container\" hidden><div class=\"sk-item sk-dashed-wrapped\"><div class=\"sk-label-container\"><div class=\"sk-label sk-toggleable\"><input class=\"sk-toggleable__control sk-hidden--visually\" id=\"sk-estimator-id-1\" type=\"checkbox\" ><label for=\"sk-estimator-id-1\" class=\"sk-toggleable__label sk-toggleable__label-arrow\">Pipeline</label><div class=\"sk-toggleable__content\"><pre>Pipeline(steps=[(&#x27;scale&#x27;, StandardScaler()),\n",
       "                (&#x27;model&#x27;, RandomForestClassifier(n_jobs=-1))])</pre></div></div></div><div class=\"sk-serial\"><div class=\"sk-item\"><div class=\"sk-estimator sk-toggleable\"><input class=\"sk-toggleable__control sk-hidden--visually\" id=\"sk-estimator-id-2\" type=\"checkbox\" ><label for=\"sk-estimator-id-2\" class=\"sk-toggleable__label sk-toggleable__label-arrow\">StandardScaler</label><div class=\"sk-toggleable__content\"><pre>StandardScaler()</pre></div></div></div><div class=\"sk-item\"><div class=\"sk-estimator sk-toggleable\"><input class=\"sk-toggleable__control sk-hidden--visually\" id=\"sk-estimator-id-3\" type=\"checkbox\" ><label for=\"sk-estimator-id-3\" class=\"sk-toggleable__label sk-toggleable__label-arrow\">RandomForestClassifier</label><div class=\"sk-toggleable__content\"><pre>RandomForestClassifier(n_jobs=-1)</pre></div></div></div></div></div></div></div>"
      ],
      "text/plain": [
       "Pipeline(steps=[('scale', StandardScaler()),\n",
       "                ('model', RandomForestClassifier(n_jobs=-1))])"
      ]
     },
     "execution_count": 43,
     "metadata": {},
     "output_type": "execute_result"
    }
   ],
   "source": [
    "model.fit(X_train, y_train.values.ravel())"
   ]
  },
  {
   "cell_type": "code",
   "execution_count": 44,
   "id": "af59f8c0",
   "metadata": {
    "execution": {
     "iopub.execute_input": "2025-07-30T14:08:54.119924Z",
     "iopub.status.busy": "2025-07-30T14:08:54.118924Z",
     "iopub.status.idle": "2025-07-30T14:08:54.125754Z",
     "shell.execute_reply": "2025-07-30T14:08:54.124504Z"
    },
    "papermill": {
     "duration": 0.034657,
     "end_time": "2025-07-30T14:08:54.128012",
     "exception": false,
     "start_time": "2025-07-30T14:08:54.093355",
     "status": "completed"
    },
    "tags": []
   },
   "outputs": [],
   "source": [
    "from fairness_multiverse.universe import predict_w_threshold"
   ]
  },
  {
   "cell_type": "code",
   "execution_count": 45,
   "id": "a7cf2e16",
   "metadata": {
    "execution": {
     "iopub.execute_input": "2025-07-30T14:08:54.191302Z",
     "iopub.status.busy": "2025-07-30T14:08:54.190663Z",
     "iopub.status.idle": "2025-07-30T14:08:55.315212Z",
     "shell.execute_reply": "2025-07-30T14:08:55.314134Z"
    },
    "papermill": {
     "duration": 1.153195,
     "end_time": "2025-07-30T14:08:55.316932",
     "exception": false,
     "start_time": "2025-07-30T14:08:54.163737",
     "status": "completed"
    },
    "tags": []
   },
   "outputs": [
    {
     "data": {
      "text/plain": [
       "0.8627912161408985"
      ]
     },
     "execution_count": 45,
     "metadata": {},
     "output_type": "execute_result"
    }
   ],
   "source": [
    "probs_test = model.predict_proba(X_test)\n",
    "\n",
    "'''\n",
    "Below code returns a boolean array (or binary 0/1 array depending on how it’s used) where each element \n",
    "is True if the probability of class 1 is greater than or equal to the threshold, and False otherwise.\n",
    "'''\n",
    "y_pred_default = predict_w_threshold(probs_test, 0.5)\n",
    "\n",
    "from sklearn.metrics import accuracy_score\n",
    "\n",
    "# Naive prediction\n",
    "accuracy_score(y_true = y_true, y_pred = y_pred_default)"
   ]
  },
  {
   "cell_type": "code",
   "execution_count": 46,
   "id": "081964c3",
   "metadata": {
    "execution": {
     "iopub.execute_input": "2025-07-30T14:08:55.372781Z",
     "iopub.status.busy": "2025-07-30T14:08:55.371685Z",
     "iopub.status.idle": "2025-07-30T14:08:56.323384Z",
     "shell.execute_reply": "2025-07-30T14:08:56.322240Z"
    },
    "papermill": {
     "duration": 0.982275,
     "end_time": "2025-07-30T14:08:56.325576",
     "exception": false,
     "start_time": "2025-07-30T14:08:55.343301",
     "status": "completed"
    },
    "tags": []
   },
   "outputs": [
    {
     "data": {
      "text/plain": [
       "array([0, 0, 0, ..., 0, 0, 0])"
      ]
     },
     "execution_count": 46,
     "metadata": {},
     "output_type": "execute_result"
    }
   ],
   "source": [
    "model.predict(X_test)"
   ]
  },
  {
   "cell_type": "markdown",
   "id": "56c9705b",
   "metadata": {
    "papermill": {
     "duration": 0.03522,
     "end_time": "2025-07-30T14:08:56.394870",
     "exception": false,
     "start_time": "2025-07-30T14:08:56.359650",
     "status": "completed"
    },
    "tags": []
   },
   "source": [
    "# Conformal Prediction"
   ]
  },
  {
   "cell_type": "code",
   "execution_count": 47,
   "id": "160ec6ff",
   "metadata": {
    "execution": {
     "iopub.execute_input": "2025-07-30T14:08:56.464908Z",
     "iopub.status.busy": "2025-07-30T14:08:56.463861Z",
     "iopub.status.idle": "2025-07-30T14:08:56.470150Z",
     "shell.execute_reply": "2025-07-30T14:08:56.469022Z"
    },
    "papermill": {
     "duration": 0.043672,
     "end_time": "2025-07-30T14:08:56.472485",
     "exception": false,
     "start_time": "2025-07-30T14:08:56.428813",
     "status": "completed"
    },
    "tags": []
   },
   "outputs": [],
   "source": [
    "# Miscoverage level for conformal prediction (10% allowed error rate => 90% target coverage)\n",
    "alpha = 0.1"
   ]
  },
  {
   "cell_type": "code",
   "execution_count": 48,
   "id": "eadf4555-3dd3-440e-8e35-f82a4ad9f855",
   "metadata": {
    "execution": {
     "iopub.execute_input": "2025-07-30T14:08:56.537431Z",
     "iopub.status.busy": "2025-07-30T14:08:56.536466Z",
     "iopub.status.idle": "2025-07-30T14:08:57.475118Z",
     "shell.execute_reply": "2025-07-30T14:08:57.474328Z"
    },
    "papermill": {
     "duration": 0.968616,
     "end_time": "2025-07-30T14:08:57.476811",
     "exception": false,
     "start_time": "2025-07-30T14:08:56.508195",
     "status": "completed"
    },
    "tags": []
   },
   "outputs": [],
   "source": [
    "probs_calib = model.predict_proba(X_calib)"
   ]
  },
  {
   "cell_type": "code",
   "execution_count": 49,
   "id": "2ed93547-6d5d-4983-9b36-1ecb300da49a",
   "metadata": {
    "execution": {
     "iopub.execute_input": "2025-07-30T14:08:57.542197Z",
     "iopub.status.busy": "2025-07-30T14:08:57.541718Z",
     "iopub.status.idle": "2025-07-30T14:08:57.548444Z",
     "shell.execute_reply": "2025-07-30T14:08:57.547254Z"
    },
    "papermill": {
     "duration": 0.042169,
     "end_time": "2025-07-30T14:08:57.550257",
     "exception": false,
     "start_time": "2025-07-30T14:08:57.508088",
     "status": "completed"
    },
    "tags": []
   },
   "outputs": [],
   "source": [
    "y_calib = y_calib.values.ravel().astype(int)"
   ]
  },
  {
   "cell_type": "code",
   "execution_count": 50,
   "id": "65d1320d-f588-4b38-9072-62af1ae97f7d",
   "metadata": {
    "execution": {
     "iopub.execute_input": "2025-07-30T14:08:57.598270Z",
     "iopub.status.busy": "2025-07-30T14:08:57.597406Z",
     "iopub.status.idle": "2025-07-30T14:08:57.606094Z",
     "shell.execute_reply": "2025-07-30T14:08:57.605163Z"
    },
    "papermill": {
     "duration": 0.033367,
     "end_time": "2025-07-30T14:08:57.607926",
     "exception": false,
     "start_time": "2025-07-30T14:08:57.574559",
     "status": "completed"
    },
    "tags": []
   },
   "outputs": [],
   "source": [
    "from fairness_multiverse.conformal import compute_nc_scores\n",
    "\n",
    "# Compute nonconformity scores on calibration set (1 - probability of true class)\n",
    "nc_scores = compute_nc_scores(probs_calib, y_calib)"
   ]
  },
  {
   "cell_type": "code",
   "execution_count": 51,
   "id": "df3b8ca3-53b7-43d5-9667-7c85da7aeda2",
   "metadata": {
    "execution": {
     "iopub.execute_input": "2025-07-30T14:08:57.656587Z",
     "iopub.status.busy": "2025-07-30T14:08:57.656086Z",
     "iopub.status.idle": "2025-07-30T14:08:57.662031Z",
     "shell.execute_reply": "2025-07-30T14:08:57.661144Z"
    },
    "papermill": {
     "duration": 0.027843,
     "end_time": "2025-07-30T14:08:57.663406",
     "exception": false,
     "start_time": "2025-07-30T14:08:57.635563",
     "status": "completed"
    },
    "tags": []
   },
   "outputs": [],
   "source": [
    "from fairness_multiverse.conformal import find_threshold\n",
    "\n",
    "# Find conformal threshold q_hat for the given alpha (split conformal method)\n",
    "q_hat = find_threshold(nc_scores, alpha)"
   ]
  },
  {
   "cell_type": "code",
   "execution_count": 52,
   "id": "4d29e6c1-0ef6-4aa4-b8fe-4fe79b0d033a",
   "metadata": {
    "execution": {
     "iopub.execute_input": "2025-07-30T14:08:57.769853Z",
     "iopub.status.busy": "2025-07-30T14:08:57.769440Z",
     "iopub.status.idle": "2025-07-30T14:08:57.776880Z",
     "shell.execute_reply": "2025-07-30T14:08:57.775745Z"
    },
    "papermill": {
     "duration": 0.037626,
     "end_time": "2025-07-30T14:08:57.781228",
     "exception": false,
     "start_time": "2025-07-30T14:08:57.743602",
     "status": "completed"
    },
    "tags": []
   },
   "outputs": [
    {
     "data": {
      "text/plain": [
       "0.6699999999999999"
      ]
     },
     "execution_count": 52,
     "metadata": {},
     "output_type": "execute_result"
    }
   ],
   "source": [
    "q_hat"
   ]
  },
  {
   "cell_type": "code",
   "execution_count": 53,
   "id": "92460794-cdac-4be2-ba28-f28c0515a6fb",
   "metadata": {
    "execution": {
     "iopub.execute_input": "2025-07-30T14:08:57.847851Z",
     "iopub.status.busy": "2025-07-30T14:08:57.847290Z",
     "iopub.status.idle": "2025-07-30T14:08:59.513665Z",
     "shell.execute_reply": "2025-07-30T14:08:59.512722Z"
    },
    "papermill": {
     "duration": 1.706842,
     "end_time": "2025-07-30T14:08:59.515520",
     "exception": false,
     "start_time": "2025-07-30T14:08:57.808678",
     "status": "completed"
    },
    "tags": []
   },
   "outputs": [],
   "source": [
    "from fairness_multiverse.conformal import predict_conformal_sets\n",
    "\n",
    "# Generate prediction sets for each test example\n",
    "pred_sets = predict_conformal_sets(model, X_test, q_hat)"
   ]
  },
  {
   "cell_type": "code",
   "execution_count": 54,
   "id": "d90c9a65-e6db-4f5d-80cd-e68fb7e46829",
   "metadata": {
    "execution": {
     "iopub.execute_input": "2025-07-30T14:08:59.609067Z",
     "iopub.status.busy": "2025-07-30T14:08:59.608683Z",
     "iopub.status.idle": "2025-07-30T14:08:59.614632Z",
     "shell.execute_reply": "2025-07-30T14:08:59.613573Z"
    },
    "papermill": {
     "duration": 0.073982,
     "end_time": "2025-07-30T14:08:59.616869",
     "exception": false,
     "start_time": "2025-07-30T14:08:59.542887",
     "status": "completed"
    },
    "tags": []
   },
   "outputs": [],
   "source": [
    "y_true = y_true.squeeze()"
   ]
  },
  {
   "cell_type": "code",
   "execution_count": 55,
   "id": "3a58a54a-1e68-46b9-927a-df01f18aebc8",
   "metadata": {
    "execution": {
     "iopub.execute_input": "2025-07-30T14:08:59.727335Z",
     "iopub.status.busy": "2025-07-30T14:08:59.726868Z",
     "iopub.status.idle": "2025-07-30T14:09:00.815368Z",
     "shell.execute_reply": "2025-07-30T14:09:00.814412Z"
    },
    "papermill": {
     "duration": 1.144865,
     "end_time": "2025-07-30T14:09:00.817468",
     "exception": false,
     "start_time": "2025-07-30T14:08:59.672603",
     "status": "completed"
    },
    "tags": []
   },
   "outputs": [],
   "source": [
    "from fairness_multiverse.conformal import evaluate_sets\n",
    "\n",
    "# Evaluate coverage and average set size on test data\n",
    "metrics = evaluate_sets(pred_sets, y_true)"
   ]
  },
  {
   "cell_type": "markdown",
   "id": "2b569c12-9aaa-4c88-98c9-bbcd0cf3ebb8",
   "metadata": {
    "papermill": {
     "duration": 0.024492,
     "end_time": "2025-07-30T14:09:00.909255",
     "exception": false,
     "start_time": "2025-07-30T14:09:00.884763",
     "status": "completed"
    },
    "tags": []
   },
   "source": [
    "# CP Metrics"
   ]
  },
  {
   "cell_type": "code",
   "execution_count": 56,
   "id": "5ce0a5cb-201f-45a0-ade5-94c7f0bd6095",
   "metadata": {
    "execution": {
     "iopub.execute_input": "2025-07-30T14:09:00.962484Z",
     "iopub.status.busy": "2025-07-30T14:09:00.962065Z",
     "iopub.status.idle": "2025-07-30T14:09:00.969333Z",
     "shell.execute_reply": "2025-07-30T14:09:00.968432Z"
    },
    "papermill": {
     "duration": 0.03733,
     "end_time": "2025-07-30T14:09:00.972643",
     "exception": false,
     "start_time": "2025-07-30T14:09:00.935313",
     "status": "completed"
    },
    "tags": []
   },
   "outputs": [
    {
     "data": {
      "text/plain": [
       "{'coverage': 0.9132092297402742, 'avg_size': 1.1551666480882845}"
      ]
     },
     "execution_count": 56,
     "metadata": {},
     "output_type": "execute_result"
    }
   ],
   "source": [
    "metrics"
   ]
  },
  {
   "cell_type": "code",
   "execution_count": 57,
   "id": "9b9a838d-31c9-430b-ae14-12baee460d17",
   "metadata": {
    "execution": {
     "iopub.execute_input": "2025-07-30T14:09:01.027368Z",
     "iopub.status.busy": "2025-07-30T14:09:01.026493Z",
     "iopub.status.idle": "2025-07-30T14:09:01.033169Z",
     "shell.execute_reply": "2025-07-30T14:09:01.032280Z"
    },
    "papermill": {
     "duration": 0.036557,
     "end_time": "2025-07-30T14:09:01.035717",
     "exception": false,
     "start_time": "2025-07-30T14:09:00.999160",
     "status": "completed"
    },
    "tags": []
   },
   "outputs": [],
   "source": [
    "example_universe = universe.copy()\n",
    "universe_training_size = example_universe.get(\"training_size\")\n",
    "universe_scale = example_universe.get(\"scale\")\n",
    "universe_model = example_universe.get(\"model\")\n",
    "universe_exclude_features = example_universe.get(\"exclude_features\")\n",
    "universe_exclude_subgroups = example_universe.get(\"exclude_subgroups\")"
   ]
  },
  {
   "cell_type": "code",
   "execution_count": 58,
   "id": "f4b6a8ac-9dc0-4245-8a91-5b3b5999c4f9",
   "metadata": {
    "execution": {
     "iopub.execute_input": "2025-07-30T14:09:01.091190Z",
     "iopub.status.busy": "2025-07-30T14:09:01.090677Z",
     "iopub.status.idle": "2025-07-30T14:09:01.107821Z",
     "shell.execute_reply": "2025-07-30T14:09:01.106692Z"
    },
    "papermill": {
     "duration": 0.047842,
     "end_time": "2025-07-30T14:09:01.109826",
     "exception": false,
     "start_time": "2025-07-30T14:09:01.061984",
     "status": "completed"
    },
    "tags": []
   },
   "outputs": [],
   "source": [
    "cp_metrics_dict = {\n",
    "    \"universe_id\": [universe_id],\n",
    "    \"universe_training_size\": [universe_training_size],\n",
    "    \"universe_scale\": [universe_scale],\n",
    "    \"universe_model\": [universe_model],\n",
    "    \"universe_exclude_features\": [universe_exclude_features],\n",
    "    \"universe_exclude_subgroups\": [universe_exclude_subgroups],\n",
    "    \"q_hat\": [q_hat],\n",
    "    \"coverage\": [metrics[\"coverage\"]],\n",
    "    \"avg_size\": [metrics[\"avg_size\"]],\n",
    "}"
   ]
  },
  {
   "cell_type": "code",
   "execution_count": 59,
   "id": "908acbb1-0371-4915-85ca-3fa520d2efe2",
   "metadata": {
    "execution": {
     "iopub.execute_input": "2025-07-30T14:09:01.188294Z",
     "iopub.status.busy": "2025-07-30T14:09:01.187448Z",
     "iopub.status.idle": "2025-07-30T14:09:01.195629Z",
     "shell.execute_reply": "2025-07-30T14:09:01.194527Z"
    },
    "papermill": {
     "duration": 0.040805,
     "end_time": "2025-07-30T14:09:01.200170",
     "exception": false,
     "start_time": "2025-07-30T14:09:01.159365",
     "status": "completed"
    },
    "tags": []
   },
   "outputs": [
    {
     "data": {
      "text/plain": [
       "{'universe_id': ['9e0d1b470021e1248cc74c78d37ab9ea'],\n",
       " 'universe_training_size': ['5k'],\n",
       " 'universe_scale': ['scale'],\n",
       " 'universe_model': ['rf'],\n",
       " 'universe_exclude_features': ['nationality'],\n",
       " 'universe_exclude_subgroups': ['drop-non-german'],\n",
       " 'q_hat': [0.6699999999999999],\n",
       " 'coverage': [0.9132092297402742],\n",
       " 'avg_size': [1.1551666480882845]}"
      ]
     },
     "execution_count": 59,
     "metadata": {},
     "output_type": "execute_result"
    }
   ],
   "source": [
    "cp_metrics_dict"
   ]
  },
  {
   "cell_type": "code",
   "execution_count": 60,
   "id": "33007efc-14e9-4ec6-97ac-56a455c82265",
   "metadata": {
    "execution": {
     "iopub.execute_input": "2025-07-30T14:09:01.261337Z",
     "iopub.status.busy": "2025-07-30T14:09:01.260958Z",
     "iopub.status.idle": "2025-07-30T14:09:01.266985Z",
     "shell.execute_reply": "2025-07-30T14:09:01.266082Z"
    },
    "papermill": {
     "duration": 0.042863,
     "end_time": "2025-07-30T14:09:01.268877",
     "exception": false,
     "start_time": "2025-07-30T14:09:01.226014",
     "status": "completed"
    },
    "tags": []
   },
   "outputs": [],
   "source": [
    "cp_metrics_df = pd.DataFrame(cp_metrics_dict)"
   ]
  },
  {
   "cell_type": "code",
   "execution_count": 61,
   "id": "db12611b-57b2-4910-b9d0-355adfd6e7bf",
   "metadata": {
    "execution": {
     "iopub.execute_input": "2025-07-30T14:09:01.316163Z",
     "iopub.status.busy": "2025-07-30T14:09:01.315690Z",
     "iopub.status.idle": "2025-07-30T14:09:01.347492Z",
     "shell.execute_reply": "2025-07-30T14:09:01.346407Z"
    },
    "papermill": {
     "duration": 0.06118,
     "end_time": "2025-07-30T14:09:01.349839",
     "exception": false,
     "start_time": "2025-07-30T14:09:01.288659",
     "status": "completed"
    },
    "tags": []
   },
   "outputs": [
    {
     "data": {
      "text/html": [
       "<div>\n",
       "<style scoped>\n",
       "    .dataframe tbody tr th:only-of-type {\n",
       "        vertical-align: middle;\n",
       "    }\n",
       "\n",
       "    .dataframe tbody tr th {\n",
       "        vertical-align: top;\n",
       "    }\n",
       "\n",
       "    .dataframe thead th {\n",
       "        text-align: right;\n",
       "    }\n",
       "</style>\n",
       "<table border=\"1\" class=\"dataframe\">\n",
       "  <thead>\n",
       "    <tr style=\"text-align: right;\">\n",
       "      <th></th>\n",
       "      <th>universe_id</th>\n",
       "      <th>universe_training_size</th>\n",
       "      <th>universe_scale</th>\n",
       "      <th>universe_model</th>\n",
       "      <th>universe_exclude_features</th>\n",
       "      <th>universe_exclude_subgroups</th>\n",
       "      <th>q_hat</th>\n",
       "      <th>coverage</th>\n",
       "      <th>avg_size</th>\n",
       "    </tr>\n",
       "  </thead>\n",
       "  <tbody>\n",
       "    <tr>\n",
       "      <th>0</th>\n",
       "      <td>9e0d1b470021e1248cc74c78d37ab9ea</td>\n",
       "      <td>5k</td>\n",
       "      <td>scale</td>\n",
       "      <td>rf</td>\n",
       "      <td>nationality</td>\n",
       "      <td>drop-non-german</td>\n",
       "      <td>0.67</td>\n",
       "      <td>0.913209</td>\n",
       "      <td>1.155167</td>\n",
       "    </tr>\n",
       "  </tbody>\n",
       "</table>\n",
       "</div>"
      ],
      "text/plain": [
       "                        universe_id universe_training_size universe_scale  \\\n",
       "0  9e0d1b470021e1248cc74c78d37ab9ea                     5k          scale   \n",
       "\n",
       "  universe_model universe_exclude_features universe_exclude_subgroups  q_hat  \\\n",
       "0             rf               nationality            drop-non-german   0.67   \n",
       "\n",
       "   coverage  avg_size  \n",
       "0  0.913209  1.155167  "
      ]
     },
     "execution_count": 61,
     "metadata": {},
     "output_type": "execute_result"
    }
   ],
   "source": [
    "cp_metrics_df"
   ]
  },
  {
   "cell_type": "code",
   "execution_count": 62,
   "id": "b7fbde55-a0a1-47e4-9af6-fe4a17fa8c61",
   "metadata": {
    "execution": {
     "iopub.execute_input": "2025-07-30T14:09:01.426283Z",
     "iopub.status.busy": "2025-07-30T14:09:01.425841Z",
     "iopub.status.idle": "2025-07-30T14:09:01.431484Z",
     "shell.execute_reply": "2025-07-30T14:09:01.430545Z"
    },
    "papermill": {
     "duration": 0.054224,
     "end_time": "2025-07-30T14:09:01.433389",
     "exception": false,
     "start_time": "2025-07-30T14:09:01.379165",
     "status": "completed"
    },
    "tags": []
   },
   "outputs": [],
   "source": [
    "# Conditional Coverage & looking at subgroups"
   ]
  },
  {
   "cell_type": "code",
   "execution_count": 63,
   "id": "027ae886-68dd-4141-96c7-805a5450e1ef",
   "metadata": {
    "execution": {
     "iopub.execute_input": "2025-07-30T14:09:01.502839Z",
     "iopub.status.busy": "2025-07-30T14:09:01.502345Z",
     "iopub.status.idle": "2025-07-30T14:09:02.141507Z",
     "shell.execute_reply": "2025-07-30T14:09:02.140126Z"
    },
    "papermill": {
     "duration": 0.678149,
     "end_time": "2025-07-30T14:09:02.143942",
     "exception": false,
     "start_time": "2025-07-30T14:09:01.465793",
     "status": "completed"
    },
    "tags": []
   },
   "outputs": [],
   "source": [
    "from fairness_multiverse.conformal import build_cp_groups\n",
    "\n",
    "cp_groups_df = build_cp_groups(pred_sets, y_true, X_test.index, org_test)\n",
    "#needs universe_id and setting"
   ]
  },
  {
   "cell_type": "code",
   "execution_count": 64,
   "id": "01d5802c-663a-4d1f-9d69-e036faaffbf7",
   "metadata": {
    "execution": {
     "iopub.execute_input": "2025-07-30T14:09:02.267901Z",
     "iopub.status.busy": "2025-07-30T14:09:02.267414Z",
     "iopub.status.idle": "2025-07-30T14:09:02.272467Z",
     "shell.execute_reply": "2025-07-30T14:09:02.271552Z"
    },
    "papermill": {
     "duration": 0.072369,
     "end_time": "2025-07-30T14:09:02.274420",
     "exception": false,
     "start_time": "2025-07-30T14:09:02.202051",
     "status": "completed"
    },
    "tags": []
   },
   "outputs": [],
   "source": [
    "#delete\n",
    "#cp_groups_df"
   ]
  },
  {
   "cell_type": "code",
   "execution_count": 65,
   "id": "fa424af1-d1eb-443d-b717-2d279ada8408",
   "metadata": {
    "execution": {
     "iopub.execute_input": "2025-07-30T14:09:02.350870Z",
     "iopub.status.busy": "2025-07-30T14:09:02.350249Z",
     "iopub.status.idle": "2025-07-30T14:09:02.357578Z",
     "shell.execute_reply": "2025-07-30T14:09:02.356284Z"
    },
    "papermill": {
     "duration": 0.03831,
     "end_time": "2025-07-30T14:09:02.359431",
     "exception": false,
     "start_time": "2025-07-30T14:09:02.321121",
     "status": "completed"
    },
    "tags": []
   },
   "outputs": [],
   "source": [
    "#delete\n",
    "#percentage = (cp_groups_df['nongerman_female'] == 1).mean() * 100\n",
    "#print(percentage)\n"
   ]
  },
  {
   "cell_type": "code",
   "execution_count": 66,
   "id": "6cbdab96-b2b2-45af-ad54-d0516db2e28d",
   "metadata": {
    "execution": {
     "iopub.execute_input": "2025-07-30T14:09:02.417149Z",
     "iopub.status.busy": "2025-07-30T14:09:02.416318Z",
     "iopub.status.idle": "2025-07-30T14:09:04.828717Z",
     "shell.execute_reply": "2025-07-30T14:09:04.827412Z"
    },
    "papermill": {
     "duration": 2.442915,
     "end_time": "2025-07-30T14:09:04.831086",
     "exception": false,
     "start_time": "2025-07-30T14:09:02.388171",
     "status": "completed"
    },
    "tags": []
   },
   "outputs": [],
   "source": [
    "# Define covered = 1 if true_label is in the predicted set\n",
    "cp_groups_df['covered'] = cp_groups_df.apply(\n",
    "    lambda r: int(r['true_label'] in r['pred_set']),\n",
    "    axis=1\n",
    ")"
   ]
  },
  {
   "cell_type": "code",
   "execution_count": 67,
   "id": "338ff529-1a6b-4b87-a931-8e4788d52aad",
   "metadata": {
    "execution": {
     "iopub.execute_input": "2025-07-30T14:09:04.946913Z",
     "iopub.status.busy": "2025-07-30T14:09:04.946397Z",
     "iopub.status.idle": "2025-07-30T14:09:04.953517Z",
     "shell.execute_reply": "2025-07-30T14:09:04.952640Z"
    },
    "papermill": {
     "duration": 0.068453,
     "end_time": "2025-07-30T14:09:04.956160",
     "exception": false,
     "start_time": "2025-07-30T14:09:04.887707",
     "status": "completed"
    },
    "tags": []
   },
   "outputs": [],
   "source": [
    "#cp_groups_df"
   ]
  },
  {
   "cell_type": "code",
   "execution_count": 68,
   "id": "90032e27-66df-4540-9169-4e89cfbaa758",
   "metadata": {
    "execution": {
     "iopub.execute_input": "2025-07-30T14:09:05.059645Z",
     "iopub.status.busy": "2025-07-30T14:09:05.058390Z",
     "iopub.status.idle": "2025-07-30T14:09:05.078428Z",
     "shell.execute_reply": "2025-07-30T14:09:05.075294Z"
    },
    "papermill": {
     "duration": 0.089132,
     "end_time": "2025-07-30T14:09:05.081842",
     "exception": false,
     "start_time": "2025-07-30T14:09:04.992710",
     "status": "completed"
    },
    "tags": []
   },
   "outputs": [],
   "source": [
    "subgroups = ['frau1','nongerman','nongerman_male','nongerman_female']\n",
    "\n",
    "# Conditional coverage for subgroup==1\n",
    "cond_coverage = {\n",
    "    g: cp_groups_df.loc[cp_groups_df[g]==1, 'covered'].mean()\n",
    "    for g in subgroups\n",
    "}"
   ]
  },
  {
   "cell_type": "code",
   "execution_count": 69,
   "id": "1e348fb1-b9c3-45bc-ba23-f016827a7e0d",
   "metadata": {
    "execution": {
     "iopub.execute_input": "2025-07-30T14:09:05.266966Z",
     "iopub.status.busy": "2025-07-30T14:09:05.266465Z",
     "iopub.status.idle": "2025-07-30T14:09:05.282793Z",
     "shell.execute_reply": "2025-07-30T14:09:05.281848Z"
    },
    "papermill": {
     "duration": 0.113418,
     "end_time": "2025-07-30T14:09:05.286068",
     "exception": false,
     "start_time": "2025-07-30T14:09:05.172650",
     "status": "completed"
    },
    "tags": []
   },
   "outputs": [
    {
     "data": {
      "text/plain": [
       "{'frau1': 0.9116592532686346,\n",
       " 'nongerman': 0.9029921967102678,\n",
       " 'nongerman_male': 0.9165090516076736,\n",
       " 'nongerman_female': 0.8806259314456035}"
      ]
     },
     "execution_count": 69,
     "metadata": {},
     "output_type": "execute_result"
    }
   ],
   "source": [
    "cond_coverage"
   ]
  },
  {
   "cell_type": "code",
   "execution_count": 70,
   "id": "f5093324-c3dd-4d63-bc4c-8d945e5c8bbb",
   "metadata": {
    "execution": {
     "iopub.execute_input": "2025-07-30T14:09:05.385861Z",
     "iopub.status.busy": "2025-07-30T14:09:05.385415Z",
     "iopub.status.idle": "2025-07-30T14:09:05.393221Z",
     "shell.execute_reply": "2025-07-30T14:09:05.392096Z"
    },
    "papermill": {
     "duration": 0.072703,
     "end_time": "2025-07-30T14:09:05.396099",
     "exception": false,
     "start_time": "2025-07-30T14:09:05.323396",
     "status": "completed"
    },
    "tags": []
   },
   "outputs": [],
   "source": [
    "for subgroup, cov in cond_coverage.items():\n",
    "    cp_metrics_df[f\"cov_{subgroup}\"] = cov"
   ]
  },
  {
   "cell_type": "code",
   "execution_count": 71,
   "id": "6e872e10-dbe5-49e8-b554-5030c98ff75d",
   "metadata": {
    "execution": {
     "iopub.execute_input": "2025-07-30T14:09:05.493877Z",
     "iopub.status.busy": "2025-07-30T14:09:05.493460Z",
     "iopub.status.idle": "2025-07-30T14:09:05.516008Z",
     "shell.execute_reply": "2025-07-30T14:09:05.514899Z"
    },
    "papermill": {
     "duration": 0.052084,
     "end_time": "2025-07-30T14:09:05.518281",
     "exception": false,
     "start_time": "2025-07-30T14:09:05.466197",
     "status": "completed"
    },
    "tags": []
   },
   "outputs": [
    {
     "data": {
      "text/html": [
       "<div>\n",
       "<style scoped>\n",
       "    .dataframe tbody tr th:only-of-type {\n",
       "        vertical-align: middle;\n",
       "    }\n",
       "\n",
       "    .dataframe tbody tr th {\n",
       "        vertical-align: top;\n",
       "    }\n",
       "\n",
       "    .dataframe thead th {\n",
       "        text-align: right;\n",
       "    }\n",
       "</style>\n",
       "<table border=\"1\" class=\"dataframe\">\n",
       "  <thead>\n",
       "    <tr style=\"text-align: right;\">\n",
       "      <th></th>\n",
       "      <th>universe_id</th>\n",
       "      <th>universe_training_size</th>\n",
       "      <th>universe_scale</th>\n",
       "      <th>universe_model</th>\n",
       "      <th>universe_exclude_features</th>\n",
       "      <th>universe_exclude_subgroups</th>\n",
       "      <th>q_hat</th>\n",
       "      <th>coverage</th>\n",
       "      <th>avg_size</th>\n",
       "      <th>cov_frau1</th>\n",
       "      <th>cov_nongerman</th>\n",
       "      <th>cov_nongerman_male</th>\n",
       "      <th>cov_nongerman_female</th>\n",
       "    </tr>\n",
       "  </thead>\n",
       "  <tbody>\n",
       "    <tr>\n",
       "      <th>0</th>\n",
       "      <td>9e0d1b470021e1248cc74c78d37ab9ea</td>\n",
       "      <td>5k</td>\n",
       "      <td>scale</td>\n",
       "      <td>rf</td>\n",
       "      <td>nationality</td>\n",
       "      <td>drop-non-german</td>\n",
       "      <td>0.67</td>\n",
       "      <td>0.913209</td>\n",
       "      <td>1.155167</td>\n",
       "      <td>0.911659</td>\n",
       "      <td>0.902992</td>\n",
       "      <td>0.916509</td>\n",
       "      <td>0.880626</td>\n",
       "    </tr>\n",
       "  </tbody>\n",
       "</table>\n",
       "</div>"
      ],
      "text/plain": [
       "                        universe_id universe_training_size universe_scale  \\\n",
       "0  9e0d1b470021e1248cc74c78d37ab9ea                     5k          scale   \n",
       "\n",
       "  universe_model universe_exclude_features universe_exclude_subgroups  q_hat  \\\n",
       "0             rf               nationality            drop-non-german   0.67   \n",
       "\n",
       "   coverage  avg_size  cov_frau1  cov_nongerman  cov_nongerman_male  \\\n",
       "0  0.913209  1.155167   0.911659       0.902992            0.916509   \n",
       "\n",
       "   cov_nongerman_female  \n",
       "0              0.880626  "
      ]
     },
     "execution_count": 71,
     "metadata": {},
     "output_type": "execute_result"
    }
   ],
   "source": [
    "cp_metrics_df"
   ]
  },
  {
   "cell_type": "markdown",
   "id": "33774451",
   "metadata": {
    "papermill": {
     "duration": 0.02768,
     "end_time": "2025-07-30T14:09:05.595487",
     "exception": false,
     "start_time": "2025-07-30T14:09:05.567807",
     "status": "completed"
    },
    "tags": []
   },
   "source": [
    "# (Fairness) Metrics"
   ]
  },
  {
   "cell_type": "code",
   "execution_count": 72,
   "id": "debc5d62",
   "metadata": {
    "execution": {
     "iopub.execute_input": "2025-07-30T14:09:05.657269Z",
     "iopub.status.busy": "2025-07-30T14:09:05.656836Z",
     "iopub.status.idle": "2025-07-30T14:09:05.682279Z",
     "shell.execute_reply": "2025-07-30T14:09:05.681246Z"
    },
    "papermill": {
     "duration": 0.065427,
     "end_time": "2025-07-30T14:09:05.684880",
     "exception": false,
     "start_time": "2025-07-30T14:09:05.619453",
     "status": "completed"
    },
    "tags": []
   },
   "outputs": [],
   "source": [
    "# do I need to include maxdeutsch1.missing?\n",
    "\n",
    "import numpy as np\n",
    "\n",
    "colname_to_bin = \"maxdeutsch1\"\n",
    "majority_value = org_train[colname_to_bin].mode()[0]\n",
    "\n",
    "org_test[\"majmin\"] = np.where(org_test[colname_to_bin] == majority_value, \"majority\", \"minority\")"
   ]
  },
  {
   "cell_type": "code",
   "execution_count": 73,
   "id": "06a50de5",
   "metadata": {
    "execution": {
     "iopub.execute_input": "2025-07-30T14:09:05.762634Z",
     "iopub.status.busy": "2025-07-30T14:09:05.761655Z",
     "iopub.status.idle": "2025-07-30T14:09:08.668537Z",
     "shell.execute_reply": "2025-07-30T14:09:08.667312Z"
    },
    "papermill": {
     "duration": 2.943565,
     "end_time": "2025-07-30T14:09:08.670584",
     "exception": false,
     "start_time": "2025-07-30T14:09:05.727019",
     "status": "completed"
    },
    "tags": []
   },
   "outputs": [],
   "source": [
    "example_universe = universe.copy()\n",
    "example_universe[\"cutoff\"] = example_universe[\"cutoff\"][0]\n",
    "example_universe[\"eval_fairness_grouping\"] = example_universe[\"eval_fairness_grouping\"][0]\n",
    "fairness_dict, metric_frame = universe_analysis.compute_metrics(\n",
    "    example_universe,\n",
    "    y_pred_prob=probs_test,\n",
    "    y_test=y_true,\n",
    "    org_test=org_test,\n",
    ")"
   ]
  },
  {
   "cell_type": "markdown",
   "id": "f95d4e02",
   "metadata": {
    "papermill": {
     "duration": 0.043131,
     "end_time": "2025-07-30T14:09:08.745627",
     "exception": false,
     "start_time": "2025-07-30T14:09:08.702496",
     "status": "completed"
    },
    "tags": []
   },
   "source": [
    "# Overall"
   ]
  },
  {
   "cell_type": "markdown",
   "id": "bdee4871",
   "metadata": {
    "papermill": {
     "duration": 0.028592,
     "end_time": "2025-07-30T14:09:08.808862",
     "exception": false,
     "start_time": "2025-07-30T14:09:08.780270",
     "status": "completed"
    },
    "tags": []
   },
   "source": [
    "Fairness\n",
    "Main fairness target: Equalized Odds. Seems to be a better fit than equal opportunity, since we're not only interested in Y = 1. Seems to be a better fit than demographic parity, since we also care about accuracy, not just equal distribution of preds.\n",
    "\n",
    "Pick column for computation of fairness metrics\n",
    "\n",
    "Performance\n",
    "Overall performance measures, most interesting in relation to the measures split by group below"
   ]
  },
  {
   "cell_type": "code",
   "execution_count": 74,
   "id": "c4e067c6",
   "metadata": {
    "execution": {
     "iopub.execute_input": "2025-07-30T14:09:08.869054Z",
     "iopub.status.busy": "2025-07-30T14:09:08.868585Z",
     "iopub.status.idle": "2025-07-30T14:09:08.884977Z",
     "shell.execute_reply": "2025-07-30T14:09:08.883935Z"
    },
    "papermill": {
     "duration": 0.046792,
     "end_time": "2025-07-30T14:09:08.886773",
     "exception": false,
     "start_time": "2025-07-30T14:09:08.839981",
     "status": "completed"
    },
    "tags": []
   },
   "outputs": [
    {
     "data": {
      "text/plain": [
       "accuracy                   0.194783\n",
       "balanced accuracy          0.531475\n",
       "f1                         0.238756\n",
       "precision                  0.135853\n",
       "false positive rate        0.921409\n",
       "false negative rate        0.015641\n",
       "selection rate             0.929484\n",
       "count                  89710.000000\n",
       "dtype: float64"
      ]
     },
     "execution_count": 74,
     "metadata": {},
     "output_type": "execute_result"
    }
   ],
   "source": [
    "metric_frame.overall"
   ]
  },
  {
   "cell_type": "markdown",
   "id": "e968fe9d",
   "metadata": {
    "papermill": {
     "duration": 0.027197,
     "end_time": "2025-07-30T14:09:08.943399",
     "exception": false,
     "start_time": "2025-07-30T14:09:08.916202",
     "status": "completed"
    },
    "tags": []
   },
   "source": [
    "By Group"
   ]
  },
  {
   "cell_type": "code",
   "execution_count": 75,
   "id": "ec325bce",
   "metadata": {
    "execution": {
     "iopub.execute_input": "2025-07-30T14:09:09.007155Z",
     "iopub.status.busy": "2025-07-30T14:09:09.006561Z",
     "iopub.status.idle": "2025-07-30T14:09:09.027800Z",
     "shell.execute_reply": "2025-07-30T14:09:09.026678Z"
    },
    "papermill": {
     "duration": 0.056479,
     "end_time": "2025-07-30T14:09:09.029569",
     "exception": false,
     "start_time": "2025-07-30T14:09:08.973090",
     "status": "completed"
    },
    "tags": []
   },
   "outputs": [
    {
     "data": {
      "text/html": [
       "<div>\n",
       "<style scoped>\n",
       "    .dataframe tbody tr th:only-of-type {\n",
       "        vertical-align: middle;\n",
       "    }\n",
       "\n",
       "    .dataframe tbody tr th {\n",
       "        vertical-align: top;\n",
       "    }\n",
       "\n",
       "    .dataframe thead th {\n",
       "        text-align: right;\n",
       "    }\n",
       "</style>\n",
       "<table border=\"1\" class=\"dataframe\">\n",
       "  <thead>\n",
       "    <tr style=\"text-align: right;\">\n",
       "      <th></th>\n",
       "      <th>accuracy</th>\n",
       "      <th>balanced accuracy</th>\n",
       "      <th>f1</th>\n",
       "      <th>precision</th>\n",
       "      <th>false positive rate</th>\n",
       "      <th>false negative rate</th>\n",
       "      <th>selection rate</th>\n",
       "      <th>count</th>\n",
       "    </tr>\n",
       "    <tr>\n",
       "      <th>majmin</th>\n",
       "      <th></th>\n",
       "      <th></th>\n",
       "      <th></th>\n",
       "      <th></th>\n",
       "      <th></th>\n",
       "      <th></th>\n",
       "      <th></th>\n",
       "      <th></th>\n",
       "    </tr>\n",
       "  </thead>\n",
       "  <tbody>\n",
       "    <tr>\n",
       "      <th>majority</th>\n",
       "      <td>0.198352</td>\n",
       "      <td>0.534345</td>\n",
       "      <td>0.246255</td>\n",
       "      <td>0.140595</td>\n",
       "      <td>0.922339</td>\n",
       "      <td>0.008972</td>\n",
       "      <td>0.931415</td>\n",
       "      <td>69170.0</td>\n",
       "    </tr>\n",
       "    <tr>\n",
       "      <th>minority</th>\n",
       "      <td>0.182765</td>\n",
       "      <td>0.520139</td>\n",
       "      <td>0.212886</td>\n",
       "      <td>0.119738</td>\n",
       "      <td>0.918336</td>\n",
       "      <td>0.041385</td>\n",
       "      <td>0.922980</td>\n",
       "      <td>20540.0</td>\n",
       "    </tr>\n",
       "  </tbody>\n",
       "</table>\n",
       "</div>"
      ],
      "text/plain": [
       "          accuracy  balanced accuracy        f1  precision  \\\n",
       "majmin                                                       \n",
       "majority  0.198352           0.534345  0.246255   0.140595   \n",
       "minority  0.182765           0.520139  0.212886   0.119738   \n",
       "\n",
       "          false positive rate  false negative rate  selection rate    count  \n",
       "majmin                                                                       \n",
       "majority             0.922339             0.008972        0.931415  69170.0  \n",
       "minority             0.918336             0.041385        0.922980  20540.0  "
      ]
     },
     "execution_count": 75,
     "metadata": {},
     "output_type": "execute_result"
    }
   ],
   "source": [
    "metric_frame.by_group"
   ]
  },
  {
   "cell_type": "code",
   "execution_count": 76,
   "id": "a9ddbe63",
   "metadata": {
    "execution": {
     "iopub.execute_input": "2025-07-30T14:09:09.094310Z",
     "iopub.status.busy": "2025-07-30T14:09:09.093857Z",
     "iopub.status.idle": "2025-07-30T14:09:11.978364Z",
     "shell.execute_reply": "2025-07-30T14:09:11.977486Z"
    },
    "papermill": {
     "duration": 2.91893,
     "end_time": "2025-07-30T14:09:11.980246",
     "exception": false,
     "start_time": "2025-07-30T14:09:09.061316",
     "status": "completed"
    },
    "tags": []
   },
   "outputs": [
    {
     "data": {
      "text/plain": [
       "array([[<Axes: title={'center': 'accuracy'}, xlabel='majmin'>,\n",
       "        <Axes: title={'center': 'balanced accuracy'}, xlabel='majmin'>,\n",
       "        <Axes: title={'center': 'f1'}, xlabel='majmin'>],\n",
       "       [<Axes: title={'center': 'precision'}, xlabel='majmin'>,\n",
       "        <Axes: title={'center': 'false positive rate'}, xlabel='majmin'>,\n",
       "        <Axes: title={'center': 'false negative rate'}, xlabel='majmin'>],\n",
       "       [<Axes: title={'center': 'selection rate'}, xlabel='majmin'>,\n",
       "        <Axes: title={'center': 'count'}, xlabel='majmin'>,\n",
       "        <Axes: xlabel='majmin'>]], dtype=object)"
      ]
     },
     "execution_count": 76,
     "metadata": {},
     "output_type": "execute_result"
    },
    {
     "data": {
      "image/png": "[encoded data removed]",
      "text/plain": [
       "<Figure size 1200x800 with 9 Axes>"
      ]
     },
     "metadata": {},
     "output_type": "display_data"
    }
   ],
   "source": [
    "# In a graphic\n",
    "metric_frame.by_group.plot.bar(\n",
    "    subplots=True,\n",
    "    layout=[3, 3],\n",
    "    legend=False,\n",
    "    figsize=[12, 8],\n",
    "    title=\"Show all metrics\",\n",
    ")"
   ]
  },
  {
   "cell_type": "markdown",
   "id": "f57a0bac",
   "metadata": {
    "papermill": {
     "duration": 0.03214,
     "end_time": "2025-07-30T14:09:12.042107",
     "exception": false,
     "start_time": "2025-07-30T14:09:12.009967",
     "status": "completed"
    },
    "tags": []
   },
   "source": [
    "# Final Output"
   ]
  },
  {
   "cell_type": "code",
   "execution_count": 77,
   "id": "96d280a3",
   "metadata": {
    "execution": {
     "iopub.execute_input": "2025-07-30T14:09:12.097602Z",
     "iopub.status.busy": "2025-07-30T14:09:12.096987Z",
     "iopub.status.idle": "2025-07-30T14:09:12.104629Z",
     "shell.execute_reply": "2025-07-30T14:09:12.103712Z"
    },
    "papermill": {
     "duration": 0.033395,
     "end_time": "2025-07-30T14:09:12.106316",
     "exception": false,
     "start_time": "2025-07-30T14:09:12.072921",
     "status": "completed"
    },
    "tags": []
   },
   "outputs": [
    {
     "data": {
      "text/plain": [
       "4"
      ]
     },
     "execution_count": 77,
     "metadata": {},
     "output_type": "execute_result"
    }
   ],
   "source": [
    "sub_universes = universe_analysis.generate_sub_universes()\n",
    "len(sub_universes)"
   ]
  },
  {
   "cell_type": "code",
   "execution_count": 78,
   "id": "92adf7ba",
   "metadata": {
    "execution": {
     "iopub.execute_input": "2025-07-30T14:09:12.171845Z",
     "iopub.status.busy": "2025-07-30T14:09:12.171323Z",
     "iopub.status.idle": "2025-07-30T14:09:12.178206Z",
     "shell.execute_reply": "2025-07-30T14:09:12.177275Z"
    },
    "papermill": {
     "duration": 0.04137,
     "end_time": "2025-07-30T14:09:12.179872",
     "exception": false,
     "start_time": "2025-07-30T14:09:12.138502",
     "status": "completed"
    },
    "tags": []
   },
   "outputs": [],
   "source": [
    "def filter_sub_universe_data(sub_universe, org_test):\n",
    "    # Keep all rows — no filtering\n",
    "    keep_rows_mask = np.ones(org_test.shape[0], dtype=bool)\n",
    "\n",
    "    print(f\"[INFO] Keeping all rows: {keep_rows_mask.sum()} rows retained.\")\n",
    "    return keep_rows_mask"
   ]
  },
  {
   "cell_type": "code",
   "execution_count": 79,
   "id": "4a759155",
   "metadata": {
    "execution": {
     "iopub.execute_input": "2025-07-30T14:09:12.240962Z",
     "iopub.status.busy": "2025-07-30T14:09:12.240235Z",
     "iopub.status.idle": "2025-07-30T14:09:22.959327Z",
     "shell.execute_reply": "2025-07-30T14:09:22.958172Z"
    },
    "papermill": {
     "duration": 10.751327,
     "end_time": "2025-07-30T14:09:22.960989",
     "exception": false,
     "start_time": "2025-07-30T14:09:12.209662",
     "status": "completed"
    },
    "tags": []
   },
   "outputs": [
    {
     "name": "stdout",
     "output_type": "stream",
     "text": [
      "Stopping execution_time clock.\n",
      "[INFO] Keeping all rows: 89710 rows retained.\n"
     ]
    },
    {
     "name": "stdout",
     "output_type": "stream",
     "text": [
      "[INFO] Keeping all rows: 89710 rows retained.\n"
     ]
    },
    {
     "name": "stdout",
     "output_type": "stream",
     "text": [
      "[INFO] Keeping all rows: 89710 rows retained.\n"
     ]
    },
    {
     "name": "stdout",
     "output_type": "stream",
     "text": [
      "[INFO] Keeping all rows: 89710 rows retained.\n"
     ]
    },
    {
     "data": {
      "text/html": [
       "<div>\n",
       "<style scoped>\n",
       "    .dataframe tbody tr th:only-of-type {\n",
       "        vertical-align: middle;\n",
       "    }\n",
       "\n",
       "    .dataframe tbody tr th {\n",
       "        vertical-align: top;\n",
       "    }\n",
       "\n",
       "    .dataframe thead th {\n",
       "        text-align: right;\n",
       "    }\n",
       "</style>\n",
       "<table border=\"1\" class=\"dataframe\">\n",
       "  <thead>\n",
       "    <tr style=\"text-align: right;\">\n",
       "      <th></th>\n",
       "      <th>run_no</th>\n",
       "      <th>universe_id</th>\n",
       "      <th>universe_settings</th>\n",
       "      <th>execution_time</th>\n",
       "      <th>test_size_n</th>\n",
       "      <th>test_size_frac</th>\n",
       "      <th>fair_main_equalized_odds_difference</th>\n",
       "      <th>fair_main_equalized_odds_ratio</th>\n",
       "      <th>fair_main_demographic_parity_difference</th>\n",
       "      <th>fair_main_demographic_parity_ratio</th>\n",
       "      <th>...</th>\n",
       "      <th>perf_grp_precision_0</th>\n",
       "      <th>perf_grp_precision_1</th>\n",
       "      <th>perf_grp_false positive rate_0</th>\n",
       "      <th>perf_grp_false positive rate_1</th>\n",
       "      <th>perf_grp_false negative rate_0</th>\n",
       "      <th>perf_grp_false negative rate_1</th>\n",
       "      <th>perf_grp_selection rate_0</th>\n",
       "      <th>perf_grp_selection rate_1</th>\n",
       "      <th>perf_grp_count_0</th>\n",
       "      <th>perf_grp_count_1</th>\n",
       "    </tr>\n",
       "  </thead>\n",
       "  <tbody>\n",
       "    <tr>\n",
       "      <th>0</th>\n",
       "      <td>12</td>\n",
       "      <td>9e0d1b470021e1248cc74c78d37ab9ea</td>\n",
       "      <td>{\"cutoff\": \"quantile_0.1\", \"eval_fairness_grou...</td>\n",
       "      <td>35.369702</td>\n",
       "      <td>89710</td>\n",
       "      <td>1.0</td>\n",
       "      <td>0.032414</td>\n",
       "      <td>0.967293</td>\n",
       "      <td>0.008436</td>\n",
       "      <td>0.990943</td>\n",
       "      <td>...</td>\n",
       "      <td>NaN</td>\n",
       "      <td>NaN</td>\n",
       "      <td>NaN</td>\n",
       "      <td>NaN</td>\n",
       "      <td>NaN</td>\n",
       "      <td>NaN</td>\n",
       "      <td>NaN</td>\n",
       "      <td>NaN</td>\n",
       "      <td>NaN</td>\n",
       "      <td>NaN</td>\n",
       "    </tr>\n",
       "    <tr>\n",
       "      <th>0</th>\n",
       "      <td>12</td>\n",
       "      <td>9e0d1b470021e1248cc74c78d37ab9ea</td>\n",
       "      <td>{\"cutoff\": \"quantile_0.1\", \"eval_fairness_grou...</td>\n",
       "      <td>35.369702</td>\n",
       "      <td>89710</td>\n",
       "      <td>1.0</td>\n",
       "      <td>0.032414</td>\n",
       "      <td>0.967293</td>\n",
       "      <td>0.008436</td>\n",
       "      <td>0.990943</td>\n",
       "      <td>...</td>\n",
       "      <td>0.119738</td>\n",
       "      <td>0.140595</td>\n",
       "      <td>0.918336</td>\n",
       "      <td>0.922339</td>\n",
       "      <td>0.041385</td>\n",
       "      <td>0.008972</td>\n",
       "      <td>0.922980</td>\n",
       "      <td>0.931415</td>\n",
       "      <td>20540.0</td>\n",
       "      <td>69170.0</td>\n",
       "    </tr>\n",
       "    <tr>\n",
       "      <th>0</th>\n",
       "      <td>12</td>\n",
       "      <td>9e0d1b470021e1248cc74c78d37ab9ea</td>\n",
       "      <td>{\"cutoff\": \"quantile_0.25\", \"eval_fairness_gro...</td>\n",
       "      <td>35.369702</td>\n",
       "      <td>89710</td>\n",
       "      <td>1.0</td>\n",
       "      <td>0.091957</td>\n",
       "      <td>0.902777</td>\n",
       "      <td>0.005182</td>\n",
       "      <td>0.993113</td>\n",
       "      <td>...</td>\n",
       "      <td>NaN</td>\n",
       "      <td>NaN</td>\n",
       "      <td>NaN</td>\n",
       "      <td>NaN</td>\n",
       "      <td>NaN</td>\n",
       "      <td>NaN</td>\n",
       "      <td>NaN</td>\n",
       "      <td>NaN</td>\n",
       "      <td>NaN</td>\n",
       "      <td>NaN</td>\n",
       "    </tr>\n",
       "    <tr>\n",
       "      <th>0</th>\n",
       "      <td>12</td>\n",
       "      <td>9e0d1b470021e1248cc74c78d37ab9ea</td>\n",
       "      <td>{\"cutoff\": \"quantile_0.25\", \"eval_fairness_gro...</td>\n",
       "      <td>35.369702</td>\n",
       "      <td>89710</td>\n",
       "      <td>1.0</td>\n",
       "      <td>0.091957</td>\n",
       "      <td>0.902777</td>\n",
       "      <td>0.005182</td>\n",
       "      <td>0.993113</td>\n",
       "      <td>...</td>\n",
       "      <td>0.131744</td>\n",
       "      <td>0.166109</td>\n",
       "      <td>0.733326</td>\n",
       "      <td>0.722955</td>\n",
       "      <td>0.146115</td>\n",
       "      <td>0.054158</td>\n",
       "      <td>0.747225</td>\n",
       "      <td>0.752407</td>\n",
       "      <td>20540.0</td>\n",
       "      <td>69170.0</td>\n",
       "    </tr>\n",
       "  </tbody>\n",
       "</table>\n",
       "<p>4 rows × 50 columns</p>\n",
       "</div>"
      ],
      "text/plain": [
       "  run_no                       universe_id  \\\n",
       "0     12  9e0d1b470021e1248cc74c78d37ab9ea   \n",
       "0     12  9e0d1b470021e1248cc74c78d37ab9ea   \n",
       "0     12  9e0d1b470021e1248cc74c78d37ab9ea   \n",
       "0     12  9e0d1b470021e1248cc74c78d37ab9ea   \n",
       "\n",
       "                                   universe_settings  execution_time  \\\n",
       "0  {\"cutoff\": \"quantile_0.1\", \"eval_fairness_grou...       35.369702   \n",
       "0  {\"cutoff\": \"quantile_0.1\", \"eval_fairness_grou...       35.369702   \n",
       "0  {\"cutoff\": \"quantile_0.25\", \"eval_fairness_gro...       35.369702   \n",
       "0  {\"cutoff\": \"quantile_0.25\", \"eval_fairness_gro...       35.369702   \n",
       "\n",
       "   test_size_n  test_size_frac  fair_main_equalized_odds_difference  \\\n",
       "0        89710             1.0                             0.032414   \n",
       "0        89710             1.0                             0.032414   \n",
       "0        89710             1.0                             0.091957   \n",
       "0        89710             1.0                             0.091957   \n",
       "\n",
       "   fair_main_equalized_odds_ratio  fair_main_demographic_parity_difference  \\\n",
       "0                        0.967293                                 0.008436   \n",
       "0                        0.967293                                 0.008436   \n",
       "0                        0.902777                                 0.005182   \n",
       "0                        0.902777                                 0.005182   \n",
       "\n",
       "   fair_main_demographic_parity_ratio  ...  perf_grp_precision_0  \\\n",
       "0                            0.990943  ...                   NaN   \n",
       "0                            0.990943  ...              0.119738   \n",
       "0                            0.993113  ...                   NaN   \n",
       "0                            0.993113  ...              0.131744   \n",
       "\n",
       "   perf_grp_precision_1  perf_grp_false positive rate_0  \\\n",
       "0                   NaN                             NaN   \n",
       "0              0.140595                        0.918336   \n",
       "0                   NaN                             NaN   \n",
       "0              0.166109                        0.733326   \n",
       "\n",
       "   perf_grp_false positive rate_1  perf_grp_false negative rate_0  \\\n",
       "0                             NaN                             NaN   \n",
       "0                        0.922339                        0.041385   \n",
       "0                             NaN                             NaN   \n",
       "0                        0.722955                        0.146115   \n",
       "\n",
       "   perf_grp_false negative rate_1  perf_grp_selection rate_0  \\\n",
       "0                             NaN                        NaN   \n",
       "0                        0.008972                   0.922980   \n",
       "0                             NaN                        NaN   \n",
       "0                        0.054158                   0.747225   \n",
       "\n",
       "   perf_grp_selection rate_1  perf_grp_count_0  perf_grp_count_1  \n",
       "0                        NaN               NaN               NaN  \n",
       "0                   0.931415           20540.0           69170.0  \n",
       "0                        NaN               NaN               NaN  \n",
       "0                   0.752407           20540.0           69170.0  \n",
       "\n",
       "[4 rows x 50 columns]"
      ]
     },
     "execution_count": 79,
     "metadata": {},
     "output_type": "execute_result"
    }
   ],
   "source": [
    "final_output = universe_analysis.generate_final_output(\n",
    "    y_pred_prob=probs_test,\n",
    "    y_test=y_true,\n",
    "    org_test=org_test,\n",
    "    filter_data=filter_sub_universe_data,\n",
    "    cp_metrics_df=cp_metrics_df,\n",
    "    save=True,\n",
    ")\n",
    "final_output"
   ]
  },
  {
   "cell_type": "code",
   "execution_count": null,
   "id": "721ff514-cb11-46f8-b6fc-50392f74b5cb",
   "metadata": {
    "papermill": {
     "duration": 0.029388,
     "end_time": "2025-07-30T14:09:23.024298",
     "exception": false,
     "start_time": "2025-07-30T14:09:22.994910",
     "status": "completed"
    },
    "tags": []
   },
   "outputs": [],
   "source": []
  }
 ],
 "metadata": {
  "celltoolbar": "Tags",
  "kernelspec": {
   "display_name": "Python (CMA Fairness)",
   "language": "python",
   "name": "cma_fair_env"
  },
  "language_info": {
   "codemirror_mode": {
    "name": "ipython",
    "version": 3
   },
   "file_extension": ".py",
   "mimetype": "text/x-python",
   "name": "python",
   "nbconvert_exporter": "python",
   "pygments_lexer": "ipython3",
   "version": "3.10.12"
  },
  "papermill": {
   "default_parameters": {},
   "duration": 51.755705,
   "end_time": "2025-07-30T14:09:23.873346",
   "environment_variables": {},
   "exception": null,
   "input_path": "universe_analysis.ipynb",
   "output_path": "output/runs/12/notebooks/m_12-9e0d1b470021e1248cc74c78d37ab9ea.ipynb",
   "parameters": {
    "output_dir": "output",
    "run_no": "12",
    "seed": "2023",
    "universe": "{\"cutoff\": [\"quantile_0.1\", \"quantile_0.25\"], \"eval_fairness_grouping\": [\"majority-minority\", \"nationality-all\"], \"exclude_features\": \"nationality\", \"exclude_subgroups\": \"drop-non-german\", \"model\": \"rf\", \"scale\": \"scale\", \"training_size\": \"5k\", \"training_year\": \"2010_14\"}",
    "universe_id": "9e0d1b470021e1248cc74c78d37ab9ea"
   },
   "start_time": "2025-07-30T14:08:32.117641",
   "version": "2.6.0"
  }
 },
 "nbformat": 4,
 "nbformat_minor": 5
}