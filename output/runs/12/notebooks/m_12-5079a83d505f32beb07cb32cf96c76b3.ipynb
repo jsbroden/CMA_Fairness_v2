{
 "cells": [
  {
   "cell_type": "code",
   "execution_count": 1,
   "id": "f159f837-637b-42ba-96b5-ec9a68c44524",
   "metadata": {
    "execution": {
     "iopub.execute_input": "2025-07-30T14:14:10.913669Z",
     "iopub.status.busy": "2025-07-30T14:14:10.913040Z",
     "iopub.status.idle": "2025-07-30T14:14:10.926516Z",
     "shell.execute_reply": "2025-07-30T14:14:10.925433Z"
    },
    "papermill": {
     "duration": 0.040638,
     "end_time": "2025-07-30T14:14:10.928267",
     "exception": false,
     "start_time": "2025-07-30T14:14:10.887629",
     "status": "completed"
    },
    "tags": []
   },
   "outputs": [
    {
     "name": "stdout",
     "output_type": "stream",
     "text": [
      "/dss/dsshome1/0C/ra93lal2/cma/CMA_Fairness_v2\n"
     ]
    },
    {
     "name": "stderr",
     "output_type": "stream",
     "text": [
      "/dss/dsshome1/0C/ra93lal2/.local/share/virtualenvs/CMA_Fairness_v2-3j10GkSs/lib/python3.10/site-packages/IPython/core/magics/osm.py:393: UserWarning: This is now an optional IPython functionality, using bookmarks requires you to install the `pickleshare` library.\n",
      "  bkms = self.shell.db.get('bookmarks', {})\n",
      "/dss/dsshome1/0C/ra93lal2/.local/share/virtualenvs/CMA_Fairness_v2-3j10GkSs/lib/python3.10/site-packages/IPython/core/magics/osm.py:417: UserWarning: This is now an optional IPython functionality, setting dhist requires you to install the `pickleshare` library.\n",
      "  self.shell.db['dhist'] = compress_dhist(dhist)[-100:]\n"
     ]
    }
   ],
   "source": [
    "%cd ~/cma/CMA_Fairness_v2"
   ]
  },
  {
   "cell_type": "markdown",
   "id": "de2603b9",
   "metadata": {
    "papermill": {
     "duration": 0.018362,
     "end_time": "2025-07-30T14:14:10.965886",
     "exception": false,
     "start_time": "2025-07-30T14:14:10.947524",
     "status": "completed"
    },
    "tags": []
   },
   "source": [
    "The following cell holds the definition of our parameters, these values can be overriden by rendering the with e.g. the following command:\n",
    "\n",
    "papermill -p alpha 0.2 -p ratio 0.3 universe_analysis.ipynb output/test_run.ipynb"
   ]
  },
  {
   "cell_type": "code",
   "execution_count": 2,
   "id": "a80968a0-40bb-4fa9-85ef-2d5eefb01975",
   "metadata": {
    "execution": {
     "iopub.execute_input": "2025-07-30T14:14:11.006738Z",
     "iopub.status.busy": "2025-07-30T14:14:11.006060Z",
     "iopub.status.idle": "2025-07-30T14:14:11.011991Z",
     "shell.execute_reply": "2025-07-30T14:14:11.011050Z"
    },
    "papermill": {
     "duration": 0.028817,
     "end_time": "2025-07-30T14:14:11.013666",
     "exception": false,
     "start_time": "2025-07-30T14:14:10.984849",
     "status": "completed"
    },
    "tags": []
   },
   "outputs": [
    {
     "name": "stdout",
     "output_type": "stream",
     "text": [
      "Current working directory: /dss/dsshome1/0C/ra93lal2/cma/CMA_Fairness_v2\n"
     ]
    }
   ],
   "source": [
    "import os\n",
    "print(\"Current working directory:\", os.getcwd())"
   ]
  },
  {
   "cell_type": "code",
   "execution_count": 3,
   "id": "2dce4c03",
   "metadata": {
    "execution": {
     "iopub.execute_input": "2025-07-30T14:14:11.054108Z",
     "iopub.status.busy": "2025-07-30T14:14:11.053103Z",
     "iopub.status.idle": "2025-07-30T14:14:11.059733Z",
     "shell.execute_reply": "2025-07-30T14:14:11.058442Z"
    },
    "papermill": {
     "duration": 0.028025,
     "end_time": "2025-07-30T14:14:11.061452",
     "exception": false,
     "start_time": "2025-07-30T14:14:11.033427",
     "status": "completed"
    },
    "tags": [
     "parameters"
    ]
   },
   "outputs": [],
   "source": [
    "run_no = 0\n",
    "universe_id = \"test\"\n",
    "universe = {\n",
    "    \"training_size\": \"25k\", # \"25k\", \"5k\", \"1k\"\n",
    "    \"training_year\": \"2014\", # \"2014\", \"2012_14\", \"2010_14\"\n",
    "    \"scale\": \"scale\", # \"scale\", \"do-not-scale\",\n",
    "    #\"stratify_split\": \"target\", # \"none\", \"target\", \"protected-attribute\", \"both\",\n",
    "    \"model\": \"elasticnet\", # \"logreg\", \"penalized_logreg\", \"rf\", \"gbm\", \"elasticnet\"\n",
    "    \"cutoff\": [\"quantile_0.15\", \"quantile_0.30\"],\n",
    "    \"exclude_features\": \"age\", # \"none\", \"nationality\", \"sex\", \"nationality-sex\", \"age\"\n",
    "    \"exclude_subgroups\": \"keep-all\", # \"keep-all\", \"drop-non-german\"\n",
    "    \"eval_fairness_grouping\": [\"majority-minority\", \"nationality-all\"]\n",
    "}\n",
    "\n",
    "output_dir=\"./output\"\n",
    "seed=0"
   ]
  },
  {
   "cell_type": "code",
   "execution_count": 4,
   "id": "f0675e79",
   "metadata": {
    "execution": {
     "iopub.execute_input": "2025-07-30T14:14:11.101597Z",
     "iopub.status.busy": "2025-07-30T14:14:11.100946Z",
     "iopub.status.idle": "2025-07-30T14:14:11.106556Z",
     "shell.execute_reply": "2025-07-30T14:14:11.105553Z"
    },
    "papermill": {
     "duration": 0.027412,
     "end_time": "2025-07-30T14:14:11.108358",
     "exception": false,
     "start_time": "2025-07-30T14:14:11.080946",
     "status": "completed"
    },
    "tags": [
     "injected-parameters"
    ]
   },
   "outputs": [],
   "source": [
    "# Parameters\n",
    "universe_id = \"5079a83d505f32beb07cb32cf96c76b3\"\n",
    "run_no = \"12\"\n",
    "universe = \"{\\\"cutoff\\\": [\\\"quantile_0.1\\\", \\\"quantile_0.25\\\"], \\\"eval_fairness_grouping\\\": [\\\"majority-minority\\\", \\\"nationality-all\\\"], \\\"exclude_features\\\": \\\"sex\\\", \\\"exclude_subgroups\\\": \\\"drop-non-german\\\", \\\"model\\\": \\\"rf\\\", \\\"scale\\\": \\\"do-not-scale\\\", \\\"training_size\\\": \\\"5k\\\", \\\"training_year\\\": \\\"2010_14\\\"}\"\n",
    "output_dir = \"output\"\n",
    "seed = \"2023\"\n"
   ]
  },
  {
   "cell_type": "code",
   "execution_count": 5,
   "id": "1650acaf",
   "metadata": {
    "execution": {
     "iopub.execute_input": "2025-07-30T14:14:11.148831Z",
     "iopub.status.busy": "2025-07-30T14:14:11.148149Z",
     "iopub.status.idle": "2025-07-30T14:14:11.153213Z",
     "shell.execute_reply": "2025-07-30T14:14:11.152290Z"
    },
    "papermill": {
     "duration": 0.027188,
     "end_time": "2025-07-30T14:14:11.155199",
     "exception": false,
     "start_time": "2025-07-30T14:14:11.128011",
     "status": "completed"
    },
    "tags": []
   },
   "outputs": [],
   "source": [
    "import json\n",
    "# Parse universe into dict if it is passed as a string\n",
    "if isinstance(universe, str):\n",
    "    universe = json.loads(universe)"
   ]
  },
  {
   "cell_type": "code",
   "execution_count": 6,
   "id": "16620c48",
   "metadata": {
    "execution": {
     "iopub.execute_input": "2025-07-30T14:14:11.197310Z",
     "iopub.status.busy": "2025-07-30T14:14:11.196597Z",
     "iopub.status.idle": "2025-07-30T14:14:11.241844Z",
     "shell.execute_reply": "2025-07-30T14:14:11.240854Z"
    },
    "papermill": {
     "duration": 0.067218,
     "end_time": "2025-07-30T14:14:11.243799",
     "exception": false,
     "start_time": "2025-07-30T14:14:11.176581",
     "status": "completed"
    },
    "tags": []
   },
   "outputs": [],
   "source": [
    "# Auto-reload the custom package\n",
    "%load_ext autoreload\n",
    "%autoreload 1\n",
    "%aimport fairness_multiverse"
   ]
  },
  {
   "cell_type": "code",
   "execution_count": 7,
   "id": "01c5c9f3",
   "metadata": {
    "execution": {
     "iopub.execute_input": "2025-07-30T14:14:11.287458Z",
     "iopub.status.busy": "2025-07-30T14:14:11.286595Z",
     "iopub.status.idle": "2025-07-30T14:14:13.475297Z",
     "shell.execute_reply": "2025-07-30T14:14:13.474321Z"
    },
    "papermill": {
     "duration": 2.211096,
     "end_time": "2025-07-30T14:14:13.477288",
     "exception": false,
     "start_time": "2025-07-30T14:14:11.266192",
     "status": "completed"
    },
    "tags": []
   },
   "outputs": [],
   "source": [
    "from fairness_multiverse.universe import UniverseAnalysis\n",
    "\n",
    "universe_analysis = UniverseAnalysis(\n",
    "    run_no = run_no,\n",
    "    universe_id = universe_id,\n",
    "    universe = universe,\n",
    "    output_dir=output_dir,\n",
    ")"
   ]
  },
  {
   "cell_type": "code",
   "execution_count": 8,
   "id": "106241f5",
   "metadata": {
    "execution": {
     "iopub.execute_input": "2025-07-30T14:14:13.525816Z",
     "iopub.status.busy": "2025-07-30T14:14:13.525276Z",
     "iopub.status.idle": "2025-07-30T14:14:13.532178Z",
     "shell.execute_reply": "2025-07-30T14:14:13.531195Z"
    },
    "papermill": {
     "duration": 0.036657,
     "end_time": "2025-07-30T14:14:13.534049",
     "exception": false,
     "start_time": "2025-07-30T14:14:13.497392",
     "status": "completed"
    },
    "tags": []
   },
   "outputs": [
    {
     "name": "stdout",
     "output_type": "stream",
     "text": [
      "Using Seed: 2023\n"
     ]
    }
   ],
   "source": [
    "import numpy as np\n",
    "parsed_seed = int(seed)\n",
    "np.random.seed(parsed_seed)\n",
    "print(f\"Using Seed: {parsed_seed}\")"
   ]
  },
  {
   "cell_type": "markdown",
   "id": "e0ebdc57",
   "metadata": {
    "papermill": {
     "duration": 0.013646,
     "end_time": "2025-07-30T14:14:13.569276",
     "exception": false,
     "start_time": "2025-07-30T14:14:13.555630",
     "status": "completed"
    },
    "tags": []
   },
   "source": [
    "# Loading Data"
   ]
  },
  {
   "cell_type": "markdown",
   "id": "681925a3",
   "metadata": {
    "papermill": {
     "duration": 0.021226,
     "end_time": "2025-07-30T14:14:13.611936",
     "exception": false,
     "start_time": "2025-07-30T14:14:13.590710",
     "status": "completed"
    },
    "tags": []
   },
   "source": [
    "Load siab_train, siab_test, siab_calib and/or \n",
    "load siab_train_features, siab_train_labels"
   ]
  },
  {
   "cell_type": "code",
   "execution_count": 9,
   "id": "f0496b8a",
   "metadata": {
    "execution": {
     "iopub.execute_input": "2025-07-30T14:14:13.655197Z",
     "iopub.status.busy": "2025-07-30T14:14:13.654720Z",
     "iopub.status.idle": "2025-07-30T14:14:27.430201Z",
     "shell.execute_reply": "2025-07-30T14:14:27.429103Z"
    },
    "papermill": {
     "duration": 13.800096,
     "end_time": "2025-07-30T14:14:27.431919",
     "exception": false,
     "start_time": "2025-07-30T14:14:13.631823",
     "status": "completed"
    },
    "tags": []
   },
   "outputs": [
    {
     "name": "stdout",
     "output_type": "stream",
     "text": [
      "Loading SIAB data from cache: data/siab_cached.csv.gz\n"
     ]
    },
    {
     "name": "stdout",
     "output_type": "stream",
     "text": [
      "(643690, 164)\n"
     ]
    }
   ],
   "source": [
    "from pathlib import Path\n",
    "import pandas as pd\n",
    "\n",
    "# File paths\n",
    "raw_file = Path(\"data/raw/siab.csv\")\n",
    "cache_file = Path(\"data/siab_cached.csv.gz\")\n",
    "\n",
    "# Ensure cache directory exists\n",
    "cache_file.parent.mkdir(parents=True, exist_ok=True)\n",
    "\n",
    "# Load with simple caching\n",
    "if cache_file.exists():\n",
    "    print(f\"Loading SIAB data from cache: {cache_file}\")\n",
    "    siab = pd.read_csv(cache_file, compression='gzip')\n",
    "else:\n",
    "    print(f\"Cache not found. Reading raw SIAB data: {raw_file}\")\n",
    "    siab = pd.read_csv(raw_file)\n",
    "    siab.to_csv(cache_file, index=False, compression='gzip')\n",
    "    print(f\"Cached SIAB data to: {cache_file}\")\n",
    "\n",
    "# Now use `siab` DataFrame as needed\n",
    "print(siab.shape)"
   ]
  },
  {
   "cell_type": "code",
   "execution_count": 10,
   "id": "db0ca512-5f53-4dba-abdb-a2888bca41ba",
   "metadata": {
    "execution": {
     "iopub.execute_input": "2025-07-30T14:14:27.477035Z",
     "iopub.status.busy": "2025-07-30T14:14:27.476318Z",
     "iopub.status.idle": "2025-07-30T14:14:27.482044Z",
     "shell.execute_reply": "2025-07-30T14:14:27.481179Z"
    },
    "papermill": {
     "duration": 0.02827,
     "end_time": "2025-07-30T14:14:27.483657",
     "exception": false,
     "start_time": "2025-07-30T14:14:27.455387",
     "status": "completed"
    },
    "tags": []
   },
   "outputs": [],
   "source": [
    "#siab"
   ]
  },
  {
   "cell_type": "code",
   "execution_count": 11,
   "id": "a0edb063",
   "metadata": {
    "execution": {
     "iopub.execute_input": "2025-07-30T14:14:27.524454Z",
     "iopub.status.busy": "2025-07-30T14:14:27.523384Z",
     "iopub.status.idle": "2025-07-30T14:14:27.528620Z",
     "shell.execute_reply": "2025-07-30T14:14:27.527727Z"
    },
    "papermill": {
     "duration": 0.026515,
     "end_time": "2025-07-30T14:14:27.530358",
     "exception": false,
     "start_time": "2025-07-30T14:14:27.503843",
     "status": "completed"
    },
    "tags": []
   },
   "outputs": [],
   "source": [
    "#import pandas as pd\n",
    "#\n",
    "#X_train = pd.read_csv(\"./data/X_train.csv\")\n",
    "#y_train = pd.read_csv(\"./data/y_train.csv\")"
   ]
  },
  {
   "cell_type": "code",
   "execution_count": 12,
   "id": "63d08085",
   "metadata": {
    "execution": {
     "iopub.execute_input": "2025-07-30T14:14:27.570562Z",
     "iopub.status.busy": "2025-07-30T14:14:27.569831Z",
     "iopub.status.idle": "2025-07-30T14:14:27.574871Z",
     "shell.execute_reply": "2025-07-30T14:14:27.573857Z"
    },
    "papermill": {
     "duration": 0.026914,
     "end_time": "2025-07-30T14:14:27.577141",
     "exception": false,
     "start_time": "2025-07-30T14:14:27.550227",
     "status": "completed"
    },
    "tags": []
   },
   "outputs": [],
   "source": [
    "#X_test = pd.read_csv(\"./data/X_test.csv\")\n",
    "#y_true = pd.read_csv(\"./data/y_test.csv\")"
   ]
  },
  {
   "cell_type": "code",
   "execution_count": 13,
   "id": "98a8d0fa-1d3d-4ed8-bb2c-281470e24add",
   "metadata": {
    "execution": {
     "iopub.execute_input": "2025-07-30T14:14:27.617917Z",
     "iopub.status.busy": "2025-07-30T14:14:27.617424Z",
     "iopub.status.idle": "2025-07-30T14:14:27.622383Z",
     "shell.execute_reply": "2025-07-30T14:14:27.621526Z"
    },
    "papermill": {
     "duration": 0.02638,
     "end_time": "2025-07-30T14:14:27.623840",
     "exception": false,
     "start_time": "2025-07-30T14:14:27.597460",
     "status": "completed"
    },
    "tags": []
   },
   "outputs": [],
   "source": [
    "# Calibration data for conformal\n",
    "#X_calib = pd.read_csv(\"./data/X_calib.csv\")\n",
    "#y_calib = pd.read_csv(\"./data/y_calib.csv\")"
   ]
  },
  {
   "cell_type": "markdown",
   "id": "997051c5-15bd-4b69-9786-c3001a3ce484",
   "metadata": {
    "papermill": {
     "duration": 0.018619,
     "end_time": "2025-07-30T14:14:27.662628",
     "exception": false,
     "start_time": "2025-07-30T14:14:27.644009",
     "status": "completed"
    },
    "tags": []
   },
   "source": [
    "# Splitting Data and Setting Training Data Size"
   ]
  },
  {
   "cell_type": "code",
   "execution_count": 14,
   "id": "e993b61f-042d-41a6-8c81-f55681f86335",
   "metadata": {
    "execution": {
     "iopub.execute_input": "2025-07-30T14:14:27.703320Z",
     "iopub.status.busy": "2025-07-30T14:14:27.702819Z",
     "iopub.status.idle": "2025-07-30T14:14:27.715689Z",
     "shell.execute_reply": "2025-07-30T14:14:27.714823Z"
    },
    "papermill": {
     "duration": 0.035436,
     "end_time": "2025-07-30T14:14:27.717163",
     "exception": false,
     "start_time": "2025-07-30T14:14:27.681727",
     "status": "completed"
    },
    "tags": []
   },
   "outputs": [],
   "source": [
    "def sample_by_year_size(df,\n",
    "                        training_year: str,\n",
    "                        training_size: str,\n",
    "                        random_state: int = 42):\n",
    "    # --- parse training_year into a list of int years ---\n",
    "    if \"_\" in training_year:\n",
    "        start_str, end_str = training_year.split(\"_\", 1)\n",
    "        start = int(start_str)\n",
    "        end   = int(end_str) if len(end_str) == 4 else (int(end_str) + (start // 100)*100)\n",
    "        years = list(range(start, end + 1))\n",
    "    else:\n",
    "        years = [int(training_year)]\n",
    "\n",
    "    df = df[df[\"year\"].isin(years)].reset_index(drop=True)\n",
    "\n",
    "    # --- map training_size to total number of samples ---\n",
    "    total_map = {\"25k\": 25_000, \"5k\": 5_000, \"1k\": 1_000}\n",
    "    if training_size not in total_map:\n",
    "        return df  # e.g. \"all\"\n",
    "\n",
    "    total_samples = total_map[training_size]\n",
    "    n_years       = len(years)\n",
    "    base          = total_samples // n_years\n",
    "    remainder     = total_samples % n_years\n",
    "\n",
    "    # --- build a dict: year -> how many to sample ---\n",
    "    # give +1 to the first `remainder` years in ascending order\n",
    "    quotas = {\n",
    "        year: base + (1 if idx < remainder else 0)\n",
    "        for idx, year in enumerate(sorted(years))\n",
    "    }\n",
    "\n",
    "    # --- sample per‐year according to the quota dict ---\n",
    "    sampled = (\n",
    "        df\n",
    "        .groupby(\"year\", group_keys=False)\n",
    "        .apply(lambda grp: grp.sample(\n",
    "            n=min(len(grp), quotas[grp.name]),\n",
    "            random_state=random_state))\n",
    "        .reset_index(drop=True)\n",
    "    )\n",
    "\n",
    "    return sampled"
   ]
  },
  {
   "cell_type": "code",
   "execution_count": 15,
   "id": "c0ccd338-0e02-41f3-a09d-f56f9266e3fb",
   "metadata": {
    "execution": {
     "iopub.execute_input": "2025-07-30T14:14:27.759067Z",
     "iopub.status.busy": "2025-07-30T14:14:27.758303Z",
     "iopub.status.idle": "2025-07-30T14:14:27.769742Z",
     "shell.execute_reply": "2025-07-30T14:14:27.768754Z"
    },
    "papermill": {
     "duration": 0.03384,
     "end_time": "2025-07-30T14:14:27.771372",
     "exception": false,
     "start_time": "2025-07-30T14:14:27.737532",
     "status": "completed"
    },
    "tags": []
   },
   "outputs": [
    {
     "data": {
      "text/plain": [
       "'5k'"
      ]
     },
     "execution_count": 15,
     "metadata": {},
     "output_type": "execute_result"
    }
   ],
   "source": [
    "universe[\"training_size\"]"
   ]
  },
  {
   "cell_type": "code",
   "execution_count": 16,
   "id": "ca707fd7-8047-4acd-bfa5-66248fbbf8e6",
   "metadata": {
    "execution": {
     "iopub.execute_input": "2025-07-30T14:14:27.814986Z",
     "iopub.status.busy": "2025-07-30T14:14:27.814320Z",
     "iopub.status.idle": "2025-07-30T14:14:27.822735Z",
     "shell.execute_reply": "2025-07-30T14:14:27.821807Z"
    },
    "papermill": {
     "duration": 0.031436,
     "end_time": "2025-07-30T14:14:27.824408",
     "exception": false,
     "start_time": "2025-07-30T14:14:27.792972",
     "status": "completed"
    },
    "tags": []
   },
   "outputs": [
    {
     "data": {
      "text/plain": [
       "'2010_14'"
      ]
     },
     "execution_count": 16,
     "metadata": {},
     "output_type": "execute_result"
    }
   ],
   "source": [
    "universe[\"training_year\"]"
   ]
  },
  {
   "cell_type": "code",
   "execution_count": 17,
   "id": "aea9c6ef-6f46-42c8-85eb-5a62025c1508",
   "metadata": {
    "execution": {
     "iopub.execute_input": "2025-07-30T14:14:27.867634Z",
     "iopub.status.busy": "2025-07-30T14:14:27.866724Z",
     "iopub.status.idle": "2025-07-30T14:14:28.873312Z",
     "shell.execute_reply": "2025-07-30T14:14:28.872339Z"
    },
    "papermill": {
     "duration": 1.02997,
     "end_time": "2025-07-30T14:14:28.875340",
     "exception": false,
     "start_time": "2025-07-30T14:14:27.845370",
     "status": "completed"
    },
    "tags": []
   },
   "outputs": [],
   "source": [
    "siab_train = sample_by_year_size(siab,\n",
    "                               training_year=universe[\"training_year\"],\n",
    "                               training_size=universe[\"training_size\"])"
   ]
  },
  {
   "cell_type": "code",
   "execution_count": 18,
   "id": "8d3afb32-789d-442c-8d5d-9f5aa8dd2eed",
   "metadata": {
    "execution": {
     "iopub.execute_input": "2025-07-30T14:14:28.922201Z",
     "iopub.status.busy": "2025-07-30T14:14:28.921529Z",
     "iopub.status.idle": "2025-07-30T14:14:28.928961Z",
     "shell.execute_reply": "2025-07-30T14:14:28.927830Z"
    },
    "papermill": {
     "duration": 0.031303,
     "end_time": "2025-07-30T14:14:28.930668",
     "exception": false,
     "start_time": "2025-07-30T14:14:28.899365",
     "status": "completed"
    },
    "tags": []
   },
   "outputs": [
    {
     "data": {
      "text/plain": [
       "(5000, 164)"
      ]
     },
     "execution_count": 18,
     "metadata": {},
     "output_type": "execute_result"
    }
   ],
   "source": [
    "siab_train.shape"
   ]
  },
  {
   "cell_type": "code",
   "execution_count": 19,
   "id": "d582db68-1a4c-47fb-84fc-08518dc1975a",
   "metadata": {
    "execution": {
     "iopub.execute_input": "2025-07-30T14:14:28.976339Z",
     "iopub.status.busy": "2025-07-30T14:14:28.975832Z",
     "iopub.status.idle": "2025-07-30T14:14:28.985766Z",
     "shell.execute_reply": "2025-07-30T14:14:28.984746Z"
    },
    "papermill": {
     "duration": 0.034166,
     "end_time": "2025-07-30T14:14:28.987439",
     "exception": false,
     "start_time": "2025-07-30T14:14:28.953273",
     "status": "completed"
    },
    "tags": []
   },
   "outputs": [
    {
     "data": {
      "text/plain": [
       "year\n",
       "2010    1000\n",
       "2011    1000\n",
       "2012    1000\n",
       "2013    1000\n",
       "2014    1000\n",
       "dtype: int64"
      ]
     },
     "metadata": {},
     "output_type": "display_data"
    }
   ],
   "source": [
    "display(siab_train.groupby(\"year\").size())"
   ]
  },
  {
   "cell_type": "code",
   "execution_count": 20,
   "id": "a561edb4-d032-42cb-8256-22eac1111c64",
   "metadata": {
    "execution": {
     "iopub.execute_input": "2025-07-30T14:14:29.032590Z",
     "iopub.status.busy": "2025-07-30T14:14:29.032137Z",
     "iopub.status.idle": "2025-07-30T14:14:29.281690Z",
     "shell.execute_reply": "2025-07-30T14:14:29.280754Z"
    },
    "papermill": {
     "duration": 0.274324,
     "end_time": "2025-07-30T14:14:29.283531",
     "exception": false,
     "start_time": "2025-07-30T14:14:29.009207",
     "status": "completed"
    },
    "tags": []
   },
   "outputs": [],
   "source": [
    "#siab_train = siab_s[siab_s.year < 2015]\n",
    "siab_calib = siab[siab.year == 2015]\n",
    "siab_test = siab[siab.year == 2016]"
   ]
  },
  {
   "cell_type": "code",
   "execution_count": 21,
   "id": "472de16f-c3db-4916-846b-1f0de9cf1746",
   "metadata": {
    "execution": {
     "iopub.execute_input": "2025-07-30T14:14:29.333269Z",
     "iopub.status.busy": "2025-07-30T14:14:29.332819Z",
     "iopub.status.idle": "2025-07-30T14:14:29.340888Z",
     "shell.execute_reply": "2025-07-30T14:14:29.340000Z"
    },
    "papermill": {
     "duration": 0.037356,
     "end_time": "2025-07-30T14:14:29.342645",
     "exception": false,
     "start_time": "2025-07-30T14:14:29.305289",
     "status": "completed"
    },
    "tags": []
   },
   "outputs": [],
   "source": [
    "X_train = siab_train.iloc[:,4:164]\n",
    "y_train = siab_train.iloc[:, [3]]"
   ]
  },
  {
   "cell_type": "code",
   "execution_count": 22,
   "id": "828c96af-f43a-4ed6-ba47-8ac73a47d56c",
   "metadata": {
    "execution": {
     "iopub.execute_input": "2025-07-30T14:14:29.388506Z",
     "iopub.status.busy": "2025-07-30T14:14:29.387793Z",
     "iopub.status.idle": "2025-07-30T14:14:29.438705Z",
     "shell.execute_reply": "2025-07-30T14:14:29.437422Z"
    },
    "papermill": {
     "duration": 0.075879,
     "end_time": "2025-07-30T14:14:29.440890",
     "exception": false,
     "start_time": "2025-07-30T14:14:29.365011",
     "status": "completed"
    },
    "tags": []
   },
   "outputs": [],
   "source": [
    "X_calib = siab_calib.iloc[:,4:164]\n",
    "y_calib = siab_calib.iloc[:, [3]]"
   ]
  },
  {
   "cell_type": "code",
   "execution_count": 23,
   "id": "c34be9c3-6bd6-476e-acd3-845840e303be",
   "metadata": {
    "execution": {
     "iopub.execute_input": "2025-07-30T14:14:29.487135Z",
     "iopub.status.busy": "2025-07-30T14:14:29.486493Z",
     "iopub.status.idle": "2025-07-30T14:14:29.539137Z",
     "shell.execute_reply": "2025-07-30T14:14:29.538106Z"
    },
    "papermill": {
     "duration": 0.076381,
     "end_time": "2025-07-30T14:14:29.540850",
     "exception": false,
     "start_time": "2025-07-30T14:14:29.464469",
     "status": "completed"
    },
    "tags": []
   },
   "outputs": [],
   "source": [
    "X_test = siab_test.iloc[:,4:164]\n",
    "y_true = siab_test.iloc[:, [3]]"
   ]
  },
  {
   "cell_type": "markdown",
   "id": "9901737e-04df-44f0-9100-f5ad144ed040",
   "metadata": {
    "papermill": {
     "duration": 0.021572,
     "end_time": "2025-07-30T14:14:29.586862",
     "exception": false,
     "start_time": "2025-07-30T14:14:29.565290",
     "status": "completed"
    },
    "tags": []
   },
   "source": [
    "# Splitting Data and Setting Training Data Size OLD VERSION"
   ]
  },
  {
   "cell_type": "code",
   "execution_count": 24,
   "id": "acbc8f7d-8fc8-4e86-8c59-5dcb0f58384b",
   "metadata": {
    "execution": {
     "iopub.execute_input": "2025-07-30T14:14:29.631749Z",
     "iopub.status.busy": "2025-07-30T14:14:29.630797Z",
     "iopub.status.idle": "2025-07-30T14:14:29.636577Z",
     "shell.execute_reply": "2025-07-30T14:14:29.635529Z"
    },
    "papermill": {
     "duration": 0.030375,
     "end_time": "2025-07-30T14:14:29.638231",
     "exception": false,
     "start_time": "2025-07-30T14:14:29.607856",
     "status": "completed"
    },
    "tags": []
   },
   "outputs": [],
   "source": [
    "#def sample_by_year(df, training_size, random_state=42):\n",
    "#    if training_size == \"2014\":\n",
    "#        return df[df[\"year\"] == 2014].reset_index(drop=True)\n",
    "#    \n",
    "#    size_map = {\n",
    "#        \"25k\": 5000,\n",
    "#        \"5k\": 1000,\n",
    "#        \"1k\": 200\n",
    "#    }\n",
    "#\n",
    "#    if training_size not in size_map:\n",
    "#        return df.reset_index(drop=True)  # use all data\n",
    "#\n",
    "#    n_per_year = size_map[training_size]\n",
    "#    grouped = df.groupby(\"year\")\n",
    "#    sampled = grouped.apply(lambda x: x.sample(n=min(n_per_year, len(x)), random_state=random_state))\n",
    "#    return sampled.reset_index(drop=True)"
   ]
  },
  {
   "cell_type": "code",
   "execution_count": 25,
   "id": "6d931f52-beaf-43ff-9e78-9d44a448d54e",
   "metadata": {
    "execution": {
     "iopub.execute_input": "2025-07-30T14:14:29.683940Z",
     "iopub.status.busy": "2025-07-30T14:14:29.683441Z",
     "iopub.status.idle": "2025-07-30T14:14:29.689079Z",
     "shell.execute_reply": "2025-07-30T14:14:29.688057Z"
    },
    "papermill": {
     "duration": 0.029633,
     "end_time": "2025-07-30T14:14:29.690856",
     "exception": false,
     "start_time": "2025-07-30T14:14:29.661223",
     "status": "completed"
    },
    "tags": []
   },
   "outputs": [],
   "source": [
    "#siab_s = sample_by_year(siab, universe[\"training_size\"])"
   ]
  },
  {
   "cell_type": "code",
   "execution_count": 26,
   "id": "5db0a40e-a4e2-4920-be85-b12ae061d70d",
   "metadata": {
    "execution": {
     "iopub.execute_input": "2025-07-30T14:14:29.737888Z",
     "iopub.status.busy": "2025-07-30T14:14:29.737191Z",
     "iopub.status.idle": "2025-07-30T14:14:29.742289Z",
     "shell.execute_reply": "2025-07-30T14:14:29.741374Z"
    },
    "papermill": {
     "duration": 0.029284,
     "end_time": "2025-07-30T14:14:29.744073",
     "exception": false,
     "start_time": "2025-07-30T14:14:29.714789",
     "status": "completed"
    },
    "tags": []
   },
   "outputs": [],
   "source": [
    "#display(siab_s.groupby(\"year\").size())"
   ]
  },
  {
   "cell_type": "code",
   "execution_count": 27,
   "id": "e6c733c5",
   "metadata": {
    "execution": {
     "iopub.execute_input": "2025-07-30T14:14:29.791033Z",
     "iopub.status.busy": "2025-07-30T14:14:29.790543Z",
     "iopub.status.idle": "2025-07-30T14:14:29.881187Z",
     "shell.execute_reply": "2025-07-30T14:14:29.880260Z"
    },
    "papermill": {
     "duration": 0.115388,
     "end_time": "2025-07-30T14:14:29.882960",
     "exception": false,
     "start_time": "2025-07-30T14:14:29.767572",
     "status": "completed"
    },
    "tags": []
   },
   "outputs": [],
   "source": [
    "# Auxiliary data needed downstream in the pipeline\n",
    "\n",
    "org_train = X_train.copy()\n",
    "org_test = X_test.copy()\n",
    "org_calib = X_calib.copy()"
   ]
  },
  {
   "cell_type": "code",
   "execution_count": 28,
   "id": "1466abac-c6da-4492-a62f-4240ae3783af",
   "metadata": {
    "execution": {
     "iopub.execute_input": "2025-07-30T14:14:29.930397Z",
     "iopub.status.busy": "2025-07-30T14:14:29.929532Z",
     "iopub.status.idle": "2025-07-30T14:14:29.936601Z",
     "shell.execute_reply": "2025-07-30T14:14:29.935484Z"
    },
    "papermill": {
     "duration": 0.033451,
     "end_time": "2025-07-30T14:14:29.938323",
     "exception": false,
     "start_time": "2025-07-30T14:14:29.904872",
     "status": "completed"
    },
    "tags": []
   },
   "outputs": [],
   "source": [
    "# put in other script?\n",
    "# Group sizes\n",
    "\n",
    "#def calculate_percentages(df, df_name):\n",
    "#    total_entries = len(df)\n",
    "#\n",
    "#    female_pct = (df['frau1'] == 1).mean() * 100\n",
    "#    non_german_pct = ((df['maxdeutsch1'] == 0) & (df['maxdeutsch.Missing.'] == 0)).mean() * 100\n",
    "#    non_german_male_pct = ((df['frau1'] == 0) & (df['maxdeutsch1'] == 0) & (df['maxdeutsch.Missing.'] == 0)).mean() * 100\n",
    "#    non_german_female_pct = ((df['frau1'] == 1) & (df['maxdeutsch1'] == 0) & (df['maxdeutsch.Missing.'] == 0)).mean() * 100\n",
    "#\n",
    "#    print(f\"--- {df_name} ---\")\n",
    "#    print(f\"Female: {female_pct:.2f}%\")\n",
    "#    print(f\"Non-German: {non_german_pct:.2f}%\")\n",
    "#    print(f\"Non-German Male: {non_german_male_pct:.2f}%\")\n",
    "#    print(f\"Non-German Female: {non_german_female_pct:.2f}%\\n\")\n",
    "#\n",
    "## Calculate for each DataFrame\n",
    "#calculate_percentages(siab_calib, \"siab_calib\")\n",
    "#calculate_percentages(siab_test, \"siab_test\")\n",
    "#calculate_percentages(siab_train, \"siab_train\")"
   ]
  },
  {
   "cell_type": "markdown",
   "id": "0a4a1b33",
   "metadata": {
    "papermill": {
     "duration": 0.021437,
     "end_time": "2025-07-30T14:14:29.983364",
     "exception": false,
     "start_time": "2025-07-30T14:14:29.961927",
     "status": "completed"
    },
    "tags": []
   },
   "source": [
    "# Preprocessing Data"
   ]
  },
  {
   "cell_type": "code",
   "execution_count": 29,
   "id": "ca879031",
   "metadata": {
    "execution": {
     "iopub.execute_input": "2025-07-30T14:14:30.028714Z",
     "iopub.status.busy": "2025-07-30T14:14:30.028245Z",
     "iopub.status.idle": "2025-07-30T14:14:30.034545Z",
     "shell.execute_reply": "2025-07-30T14:14:30.033655Z"
    },
    "papermill": {
     "duration": 0.031073,
     "end_time": "2025-07-30T14:14:30.036275",
     "exception": false,
     "start_time": "2025-07-30T14:14:30.005202",
     "status": "completed"
    },
    "tags": []
   },
   "outputs": [],
   "source": [
    "# EXCLUDE PROTECTED FEATURES\n",
    "# ----------------------\n",
    "# \"exclude_features\": \"none\", # \"nationality\", \"sex\", \"nationality-sex\"\n",
    "\n",
    "excluded_features = universe[\"exclude_features\"].split(\"-\") # split, e.g.: \"nationality-sex\" -> [\"nationality\", \"sex\"]\n",
    "excluded_features_dictionary = {\n",
    "    \"nationality\": [\"maxdeutsch1\", \"maxdeutsch.Missing.\"],\n",
    "    \"sex\": [\"frau1\"],\n",
    "    \"age\": [\"age\"],\n",
    "}\n"
   ]
  },
  {
   "cell_type": "code",
   "execution_count": 30,
   "id": "b745ac60",
   "metadata": {
    "execution": {
     "iopub.execute_input": "2025-07-30T14:14:30.083486Z",
     "iopub.status.busy": "2025-07-30T14:14:30.083028Z",
     "iopub.status.idle": "2025-07-30T14:14:30.088646Z",
     "shell.execute_reply": "2025-07-30T14:14:30.087611Z"
    },
    "papermill": {
     "duration": 0.030981,
     "end_time": "2025-07-30T14:14:30.090232",
     "exception": false,
     "start_time": "2025-07-30T14:14:30.059251",
     "status": "completed"
    },
    "tags": []
   },
   "outputs": [],
   "source": [
    "# Code nice names to column names\n",
    "\n",
    "excluded_features_columns = [\n",
    "    excluded_features_dictionary[f] for f in excluded_features if len(f) > 0 and f != \"none\"\n",
    "]"
   ]
  },
  {
   "cell_type": "code",
   "execution_count": 31,
   "id": "f84f73a2",
   "metadata": {
    "execution": {
     "iopub.execute_input": "2025-07-30T14:14:30.137184Z",
     "iopub.status.busy": "2025-07-30T14:14:30.136522Z",
     "iopub.status.idle": "2025-07-30T14:14:30.143594Z",
     "shell.execute_reply": "2025-07-30T14:14:30.142554Z"
    },
    "papermill": {
     "duration": 0.032162,
     "end_time": "2025-07-30T14:14:30.145331",
     "exception": false,
     "start_time": "2025-07-30T14:14:30.113169",
     "status": "completed"
    },
    "tags": []
   },
   "outputs": [],
   "source": [
    "from utils import flatten_once\n",
    "\n",
    "excluded_features_columns = flatten_once(excluded_features_columns)"
   ]
  },
  {
   "cell_type": "code",
   "execution_count": 32,
   "id": "884dea22",
   "metadata": {
    "execution": {
     "iopub.execute_input": "2025-07-30T14:14:30.193715Z",
     "iopub.status.busy": "2025-07-30T14:14:30.192744Z",
     "iopub.status.idle": "2025-07-30T14:14:30.202470Z",
     "shell.execute_reply": "2025-07-30T14:14:30.201544Z"
    },
    "papermill": {
     "duration": 0.035485,
     "end_time": "2025-07-30T14:14:30.204167",
     "exception": false,
     "start_time": "2025-07-30T14:14:30.168682",
     "status": "completed"
    },
    "tags": []
   },
   "outputs": [
    {
     "name": "stdout",
     "output_type": "stream",
     "text": [
      "Dropping features: ['frau1']\n"
     ]
    }
   ],
   "source": [
    "if len(excluded_features_columns) > 0:\n",
    "    print(f\"Dropping features: {excluded_features_columns}\")\n",
    "    X_train.drop(excluded_features_columns, axis=1, inplace=True)"
   ]
  },
  {
   "cell_type": "code",
   "execution_count": 33,
   "id": "95ab8b16",
   "metadata": {
    "execution": {
     "iopub.execute_input": "2025-07-30T14:14:30.253335Z",
     "iopub.status.busy": "2025-07-30T14:14:30.252733Z",
     "iopub.status.idle": "2025-07-30T14:14:30.305657Z",
     "shell.execute_reply": "2025-07-30T14:14:30.304515Z"
    },
    "papermill": {
     "duration": 0.078448,
     "end_time": "2025-07-30T14:14:30.307450",
     "exception": false,
     "start_time": "2025-07-30T14:14:30.229002",
     "status": "completed"
    },
    "tags": []
   },
   "outputs": [
    {
     "name": "stdout",
     "output_type": "stream",
     "text": [
      "Dropping features: ['frau1']\n"
     ]
    }
   ],
   "source": [
    "if len(excluded_features_columns) > 0:\n",
    "    print(f\"Dropping features: {excluded_features_columns}\")\n",
    "    X_test.drop(excluded_features_columns, axis=1, inplace=True)"
   ]
  },
  {
   "cell_type": "code",
   "execution_count": 34,
   "id": "1853aaf5-fb9f-46cb-a2b5-8ea4ae2237e4",
   "metadata": {
    "execution": {
     "iopub.execute_input": "2025-07-30T14:14:30.354768Z",
     "iopub.status.busy": "2025-07-30T14:14:30.353947Z",
     "iopub.status.idle": "2025-07-30T14:14:30.406778Z",
     "shell.execute_reply": "2025-07-30T14:14:30.405676Z"
    },
    "papermill": {
     "duration": 0.078061,
     "end_time": "2025-07-30T14:14:30.408518",
     "exception": false,
     "start_time": "2025-07-30T14:14:30.330457",
     "status": "completed"
    },
    "tags": []
   },
   "outputs": [
    {
     "name": "stdout",
     "output_type": "stream",
     "text": [
      "Dropping features: ['frau1']\n"
     ]
    }
   ],
   "source": [
    "if len(excluded_features_columns) > 0:\n",
    "    print(f\"Dropping features: {excluded_features_columns}\")\n",
    "    X_calib.drop(excluded_features_columns, axis=1, inplace=True)"
   ]
  },
  {
   "cell_type": "code",
   "execution_count": 35,
   "id": "6727d079-03e5-481e-9d38-292a90b7a0a8",
   "metadata": {
    "execution": {
     "iopub.execute_input": "2025-07-30T14:14:30.454779Z",
     "iopub.status.busy": "2025-07-30T14:14:30.454143Z",
     "iopub.status.idle": "2025-07-30T14:14:30.459075Z",
     "shell.execute_reply": "2025-07-30T14:14:30.458089Z"
    },
    "papermill": {
     "duration": 0.0293,
     "end_time": "2025-07-30T14:14:30.460853",
     "exception": false,
     "start_time": "2025-07-30T14:14:30.431553",
     "status": "completed"
    },
    "tags": []
   },
   "outputs": [],
   "source": [
    "# SPLIT & STRATIFY DATA\n",
    "# ----------------------"
   ]
  },
  {
   "cell_type": "code",
   "execution_count": 36,
   "id": "76c4dc6d",
   "metadata": {
    "execution": {
     "iopub.execute_input": "2025-07-30T14:14:30.506853Z",
     "iopub.status.busy": "2025-07-30T14:14:30.506128Z",
     "iopub.status.idle": "2025-07-30T14:14:30.512979Z",
     "shell.execute_reply": "2025-07-30T14:14:30.512019Z"
    },
    "papermill": {
     "duration": 0.031298,
     "end_time": "2025-07-30T14:14:30.515023",
     "exception": false,
     "start_time": "2025-07-30T14:14:30.483725",
     "status": "completed"
    },
    "tags": []
   },
   "outputs": [],
   "source": [
    "# EXCLUDE CERTAIN SUBGROUPS\n",
    "# ----------------------\n",
    "\n",
    "mode = universe.get(\"exclude_subgroups\", \"keep-all\") \n",
    "# Fetches the exclude_subgroups setting from the universe dict.\n",
    "# Defaults to \"keep-all\" if the key is missing."
   ]
  },
  {
   "cell_type": "code",
   "execution_count": 37,
   "id": "21994072",
   "metadata": {
    "execution": {
     "iopub.execute_input": "2025-07-30T14:14:30.560994Z",
     "iopub.status.busy": "2025-07-30T14:14:30.560495Z",
     "iopub.status.idle": "2025-07-30T14:14:30.567558Z",
     "shell.execute_reply": "2025-07-30T14:14:30.566565Z"
    },
    "papermill": {
     "duration": 0.031181,
     "end_time": "2025-07-30T14:14:30.569428",
     "exception": false,
     "start_time": "2025-07-30T14:14:30.538247",
     "status": "completed"
    },
    "tags": []
   },
   "outputs": [],
   "source": [
    "if mode == \"keep-all\":\n",
    "    keep_mask = pd.Series(True, index=org_train.index)\n",
    "\n",
    "# org_train contains the original feature columns from features_org (in Simson)\n",
    "# features_org contains unprocessed features, for me X_train at beginning ???\n",
    "# For keep-all, creates a boolean Series (keep_mask) of all True, so no rows are removed.\n",
    "\n",
    "elif mode == \"drop-non-german\":\n",
    "    keep_mask = org_train[\"maxdeutsch1\"] == 1 # ??? what about missing values?\n",
    "\n",
    "else:\n",
    "    raise ValueError(f\"Unsupported mode for exclude_subgroups: {mode}\")\n"
   ]
  },
  {
   "cell_type": "code",
   "execution_count": 38,
   "id": "71651440",
   "metadata": {
    "execution": {
     "iopub.execute_input": "2025-07-30T14:14:30.616546Z",
     "iopub.status.busy": "2025-07-30T14:14:30.615638Z",
     "iopub.status.idle": "2025-07-30T14:14:30.623643Z",
     "shell.execute_reply": "2025-07-30T14:14:30.622564Z"
    },
    "papermill": {
     "duration": 0.032808,
     "end_time": "2025-07-30T14:14:30.625383",
     "exception": false,
     "start_time": "2025-07-30T14:14:30.592575",
     "status": "completed"
    },
    "tags": []
   },
   "outputs": [
    {
     "name": "stdout",
     "output_type": "stream",
     "text": [
      "Dropping 657 rows (13.14%) where mode='drop-non-german'\n"
     ]
    }
   ],
   "source": [
    "n_drop = (~keep_mask).sum() # Calculates how many rows are set to be dropped\n",
    "if n_drop > 0:\n",
    "    pct = n_drop / len(keep_mask) * 100\n",
    "    print(f\"Dropping {n_drop} rows ({pct:.2f}%) where mode='{mode}'\")"
   ]
  },
  {
   "cell_type": "code",
   "execution_count": 39,
   "id": "5fb8eee5",
   "metadata": {
    "execution": {
     "iopub.execute_input": "2025-07-30T14:14:30.672788Z",
     "iopub.status.busy": "2025-07-30T14:14:30.671830Z",
     "iopub.status.idle": "2025-07-30T14:14:30.680271Z",
     "shell.execute_reply": "2025-07-30T14:14:30.679190Z"
    },
    "papermill": {
     "duration": 0.033996,
     "end_time": "2025-07-30T14:14:30.682091",
     "exception": false,
     "start_time": "2025-07-30T14:14:30.648095",
     "status": "completed"
    },
    "tags": []
   },
   "outputs": [],
   "source": [
    "X_train = X_train[keep_mask]"
   ]
  },
  {
   "cell_type": "code",
   "execution_count": 40,
   "id": "b202bb3a",
   "metadata": {
    "execution": {
     "iopub.execute_input": "2025-07-30T14:14:30.730003Z",
     "iopub.status.busy": "2025-07-30T14:14:30.729339Z",
     "iopub.status.idle": "2025-07-30T14:14:30.735711Z",
     "shell.execute_reply": "2025-07-30T14:14:30.734677Z"
    },
    "papermill": {
     "duration": 0.032916,
     "end_time": "2025-07-30T14:14:30.737831",
     "exception": false,
     "start_time": "2025-07-30T14:14:30.704915",
     "status": "completed"
    },
    "tags": []
   },
   "outputs": [],
   "source": [
    "y_train = y_train[keep_mask]"
   ]
  },
  {
   "cell_type": "markdown",
   "id": "493e2ac3",
   "metadata": {
    "papermill": {
     "duration": 0.02314,
     "end_time": "2025-07-30T14:14:30.784662",
     "exception": false,
     "start_time": "2025-07-30T14:14:30.761522",
     "status": "completed"
    },
    "tags": []
   },
   "source": [
    "# Model Training"
   ]
  },
  {
   "cell_type": "code",
   "execution_count": 41,
   "id": "679e1268",
   "metadata": {
    "execution": {
     "iopub.execute_input": "2025-07-30T14:14:30.832195Z",
     "iopub.status.busy": "2025-07-30T14:14:30.831728Z",
     "iopub.status.idle": "2025-07-30T14:14:30.936912Z",
     "shell.execute_reply": "2025-07-30T14:14:30.935916Z"
    },
    "papermill": {
     "duration": 0.130675,
     "end_time": "2025-07-30T14:14:30.938492",
     "exception": false,
     "start_time": "2025-07-30T14:14:30.807817",
     "status": "completed"
    },
    "tags": []
   },
   "outputs": [],
   "source": [
    "from sklearn.linear_model import LogisticRegression\n",
    "from sklearn.ensemble import GradientBoostingClassifier, RandomForestClassifier\n",
    "\n",
    "if (universe[\"model\"] == \"logreg\"):\n",
    "    model = LogisticRegression() #penalty=\"none\") #, solver=\"newton-cg\", max_iter=1) # include random_state=19 ?\n",
    "elif (universe[\"model\"] == \"penalized_logreg\"):\n",
    "    model = LogisticRegression(penalty=\"l2\", C=1.0) #, solver=\"newton-cg\", max_iter=1)\n",
    "elif (universe[\"model\"] == \"rf\"):\n",
    "    model = RandomForestClassifier(n_estimators=100, n_jobs=-1)\n",
    "elif (universe[\"model\"] == \"gbm\"):\n",
    "    model = GradientBoostingClassifier()\n",
    "elif (universe[\"model\"] == \"elasticnet\"):\n",
    "    model = LogisticRegression(penalty = 'elasticnet', solver = 'saga', l1_ratio = 0.5, max_iter=5000) # which solver to use?\n",
    "else:\n",
    "    raise \"Unsupported universe.model\""
   ]
  },
  {
   "cell_type": "code",
   "execution_count": 42,
   "id": "0cc8f744",
   "metadata": {
    "execution": {
     "iopub.execute_input": "2025-07-30T14:14:30.986452Z",
     "iopub.status.busy": "2025-07-30T14:14:30.985570Z",
     "iopub.status.idle": "2025-07-30T14:14:30.992997Z",
     "shell.execute_reply": "2025-07-30T14:14:30.991945Z"
    },
    "papermill": {
     "duration": 0.032497,
     "end_time": "2025-07-30T14:14:30.994723",
     "exception": false,
     "start_time": "2025-07-30T14:14:30.962226",
     "status": "completed"
    },
    "tags": []
   },
   "outputs": [],
   "source": [
    "import numpy as np\n",
    "from sklearn.pipeline import Pipeline\n",
    "from sklearn.preprocessing import StandardScaler\n",
    "\n",
    "model = Pipeline([\n",
    "    #(\"continuous_processor\", continuous_processor),\n",
    "    #(\"categorical_preprocessor\", categorical_preprocessor),\n",
    "    (\"scale\", StandardScaler() if universe[\"scale\"] == \"scale\" else None), \n",
    "    (\"model\", model),\n",
    "])"
   ]
  },
  {
   "cell_type": "code",
   "execution_count": 43,
   "id": "9442c04d",
   "metadata": {
    "execution": {
     "iopub.execute_input": "2025-07-30T14:14:31.046979Z",
     "iopub.status.busy": "2025-07-30T14:14:31.046074Z",
     "iopub.status.idle": "2025-07-30T14:14:31.860390Z",
     "shell.execute_reply": "2025-07-30T14:14:31.859656Z"
    },
    "papermill": {
     "duration": 0.841403,
     "end_time": "2025-07-30T14:14:31.861592",
     "exception": false,
     "start_time": "2025-07-30T14:14:31.020189",
     "status": "completed"
    },
    "tags": []
   },
   "outputs": [
    {
     "data": {
      "text/html": [
       "<style>#sk-container-id-1 {color: black;background-color: white;}#sk-container-id-1 pre{padding: 0;}#sk-container-id-1 div.sk-toggleable {background-color: white;}#sk-container-id-1 label.sk-toggleable__label {cursor: pointer;display: block;width: 100%;margin-bottom: 0;padding: 0.3em;box-sizing: border-box;text-align: center;}#sk-container-id-1 label.sk-toggleable__label-arrow:before {content: \"▸\";float: left;margin-right: 0.25em;color: #696969;}#sk-container-id-1 label.sk-toggleable__label-arrow:hover:before {color: black;}#sk-container-id-1 div.sk-estimator:hover label.sk-toggleable__label-arrow:before {color: black;}#sk-container-id-1 div.sk-toggleable__content {max-height: 0;max-width: 0;overflow: hidden;text-align: left;background-color: #f0f8ff;}#sk-container-id-1 div.sk-toggleable__content pre {margin: 0.2em;color: black;border-radius: 0.25em;background-color: #f0f8ff;}#sk-container-id-1 input.sk-toggleable__control:checked~div.sk-toggleable__content {max-height: 200px;max-width: 100%;overflow: auto;}#sk-container-id-1 input.sk-toggleable__control:checked~label.sk-toggleable__label-arrow:before {content: \"▾\";}#sk-container-id-1 div.sk-estimator input.sk-toggleable__control:checked~label.sk-toggleable__label {background-color: #d4ebff;}#sk-container-id-1 div.sk-label input.sk-toggleable__control:checked~label.sk-toggleable__label {background-color: #d4ebff;}#sk-container-id-1 input.sk-hidden--visually {border: 0;clip: rect(1px 1px 1px 1px);clip: rect(1px, 1px, 1px, 1px);height: 1px;margin: -1px;overflow: hidden;padding: 0;position: absolute;width: 1px;}#sk-container-id-1 div.sk-estimator {font-family: monospace;background-color: #f0f8ff;border: 1px dotted black;border-radius: 0.25em;box-sizing: border-box;margin-bottom: 0.5em;}#sk-container-id-1 div.sk-estimator:hover {background-color: #d4ebff;}#sk-container-id-1 div.sk-parallel-item::after {content: \"\";width: 100%;border-bottom: 1px solid gray;flex-grow: 1;}#sk-container-id-1 div.sk-label:hover label.sk-toggleable__label {background-color: #d4ebff;}#sk-container-id-1 div.sk-serial::before {content: \"\";position: absolute;border-left: 1px solid gray;box-sizing: border-box;top: 0;bottom: 0;left: 50%;z-index: 0;}#sk-container-id-1 div.sk-serial {display: flex;flex-direction: column;align-items: center;background-color: white;padding-right: 0.2em;padding-left: 0.2em;position: relative;}#sk-container-id-1 div.sk-item {position: relative;z-index: 1;}#sk-container-id-1 div.sk-parallel {display: flex;align-items: stretch;justify-content: center;background-color: white;position: relative;}#sk-container-id-1 div.sk-item::before, #sk-container-id-1 div.sk-parallel-item::before {content: \"\";position: absolute;border-left: 1px solid gray;box-sizing: border-box;top: 0;bottom: 0;left: 50%;z-index: -1;}#sk-container-id-1 div.sk-parallel-item {display: flex;flex-direction: column;z-index: 1;position: relative;background-color: white;}#sk-container-id-1 div.sk-parallel-item:first-child::after {align-self: flex-end;width: 50%;}#sk-container-id-1 div.sk-parallel-item:last-child::after {align-self: flex-start;width: 50%;}#sk-container-id-1 div.sk-parallel-item:only-child::after {width: 0;}#sk-container-id-1 div.sk-dashed-wrapped {border: 1px dashed gray;margin: 0 0.4em 0.5em 0.4em;box-sizing: border-box;padding-bottom: 0.4em;background-color: white;}#sk-container-id-1 div.sk-label label {font-family: monospace;font-weight: bold;display: inline-block;line-height: 1.2em;}#sk-container-id-1 div.sk-label-container {text-align: center;}#sk-container-id-1 div.sk-container {/* jupyter's `normalize.less` sets `[hidden] { display: none; }` but bootstrap.min.css set `[hidden] { display: none !important; }` so we also need the `!important` here to be able to override the default hidden behavior on the sphinx rendered scikit-learn.org. See: https://github.com/scikit-learn/scikit-learn/issues/21755 */display: inline-block !important;position: relative;}#sk-container-id-1 div.sk-text-repr-fallback {display: none;}</style><div id=\"sk-container-id-1\" class=\"sk-top-container\"><div class=\"sk-text-repr-fallback\"><pre>Pipeline(steps=[(&#x27;scale&#x27;, None), (&#x27;model&#x27;, RandomForestClassifier(n_jobs=-1))])</pre><b>In a Jupyter environment, please rerun this cell to show the HTML representation or trust the notebook. <br />On GitHub, the HTML representation is unable to render, please try loading this page with nbviewer.org.</b></div><div class=\"sk-container\" hidden><div class=\"sk-item sk-dashed-wrapped\"><div class=\"sk-label-container\"><div class=\"sk-label sk-toggleable\"><input class=\"sk-toggleable__control sk-hidden--visually\" id=\"sk-estimator-id-1\" type=\"checkbox\" ><label for=\"sk-estimator-id-1\" class=\"sk-toggleable__label sk-toggleable__label-arrow\">Pipeline</label><div class=\"sk-toggleable__content\"><pre>Pipeline(steps=[(&#x27;scale&#x27;, None), (&#x27;model&#x27;, RandomForestClassifier(n_jobs=-1))])</pre></div></div></div><div class=\"sk-serial\"><div class=\"sk-item\"><div class=\"sk-estimator sk-toggleable\"><input class=\"sk-toggleable__control sk-hidden--visually\" id=\"sk-estimator-id-2\" type=\"checkbox\" ><label for=\"sk-estimator-id-2\" class=\"sk-toggleable__label sk-toggleable__label-arrow\">None</label><div class=\"sk-toggleable__content\"><pre>None</pre></div></div></div><div class=\"sk-item\"><div class=\"sk-estimator sk-toggleable\"><input class=\"sk-toggleable__control sk-hidden--visually\" id=\"sk-estimator-id-3\" type=\"checkbox\" ><label for=\"sk-estimator-id-3\" class=\"sk-toggleable__label sk-toggleable__label-arrow\">RandomForestClassifier</label><div class=\"sk-toggleable__content\"><pre>RandomForestClassifier(n_jobs=-1)</pre></div></div></div></div></div></div></div>"
      ],
      "text/plain": [
       "Pipeline(steps=[('scale', None), ('model', RandomForestClassifier(n_jobs=-1))])"
      ]
     },
     "execution_count": 43,
     "metadata": {},
     "output_type": "execute_result"
    }
   ],
   "source": [
    "model.fit(X_train, y_train.values.ravel())"
   ]
  },
  {
   "cell_type": "code",
   "execution_count": 44,
   "id": "af59f8c0",
   "metadata": {
    "execution": {
     "iopub.execute_input": "2025-07-30T14:14:31.887798Z",
     "iopub.status.busy": "2025-07-30T14:14:31.887393Z",
     "iopub.status.idle": "2025-07-30T14:14:31.892385Z",
     "shell.execute_reply": "2025-07-30T14:14:31.891549Z"
    },
    "papermill": {
     "duration": 0.019253,
     "end_time": "2025-07-30T14:14:31.893630",
     "exception": false,
     "start_time": "2025-07-30T14:14:31.874377",
     "status": "completed"
    },
    "tags": []
   },
   "outputs": [],
   "source": [
    "from fairness_multiverse.universe import predict_w_threshold"
   ]
  },
  {
   "cell_type": "code",
   "execution_count": 45,
   "id": "a7cf2e16",
   "metadata": {
    "execution": {
     "iopub.execute_input": "2025-07-30T14:14:31.921428Z",
     "iopub.status.busy": "2025-07-30T14:14:31.920925Z",
     "iopub.status.idle": "2025-07-30T14:14:32.801044Z",
     "shell.execute_reply": "2025-07-30T14:14:32.799910Z"
    },
    "papermill": {
     "duration": 0.895087,
     "end_time": "2025-07-30T14:14:32.802816",
     "exception": false,
     "start_time": "2025-07-30T14:14:31.907729",
     "status": "completed"
    },
    "tags": []
   },
   "outputs": [
    {
     "data": {
      "text/plain": [
       "0.860885074127745"
      ]
     },
     "execution_count": 45,
     "metadata": {},
     "output_type": "execute_result"
    }
   ],
   "source": [
    "probs_test = model.predict_proba(X_test)\n",
    "\n",
    "'''\n",
    "Below code returns a boolean array (or binary 0/1 array depending on how it’s used) where each element \n",
    "is True if the probability of class 1 is greater than or equal to the threshold, and False otherwise.\n",
    "'''\n",
    "y_pred_default = predict_w_threshold(probs_test, 0.5)\n",
    "\n",
    "from sklearn.metrics import accuracy_score\n",
    "\n",
    "# Naive prediction\n",
    "accuracy_score(y_true = y_true, y_pred = y_pred_default)"
   ]
  },
  {
   "cell_type": "code",
   "execution_count": 46,
   "id": "081964c3",
   "metadata": {
    "execution": {
     "iopub.execute_input": "2025-07-30T14:14:32.857544Z",
     "iopub.status.busy": "2025-07-30T14:14:32.857045Z",
     "iopub.status.idle": "2025-07-30T14:14:33.770892Z",
     "shell.execute_reply": "2025-07-30T14:14:33.769967Z"
    },
    "papermill": {
     "duration": 0.943063,
     "end_time": "2025-07-30T14:14:33.772581",
     "exception": false,
     "start_time": "2025-07-30T14:14:32.829518",
     "status": "completed"
    },
    "tags": []
   },
   "outputs": [
    {
     "data": {
      "text/plain": [
       "array([0, 0, 0, ..., 0, 0, 0])"
      ]
     },
     "execution_count": 46,
     "metadata": {},
     "output_type": "execute_result"
    }
   ],
   "source": [
    "model.predict(X_test)"
   ]
  },
  {
   "cell_type": "markdown",
   "id": "56c9705b",
   "metadata": {
    "papermill": {
     "duration": 0.025983,
     "end_time": "2025-07-30T14:14:33.824786",
     "exception": false,
     "start_time": "2025-07-30T14:14:33.798803",
     "status": "completed"
    },
    "tags": []
   },
   "source": [
    "# Conformal Prediction"
   ]
  },
  {
   "cell_type": "code",
   "execution_count": 47,
   "id": "160ec6ff",
   "metadata": {
    "execution": {
     "iopub.execute_input": "2025-07-30T14:14:33.880303Z",
     "iopub.status.busy": "2025-07-30T14:14:33.879630Z",
     "iopub.status.idle": "2025-07-30T14:14:33.884762Z",
     "shell.execute_reply": "2025-07-30T14:14:33.883827Z"
    },
    "papermill": {
     "duration": 0.034926,
     "end_time": "2025-07-30T14:14:33.886547",
     "exception": false,
     "start_time": "2025-07-30T14:14:33.851621",
     "status": "completed"
    },
    "tags": []
   },
   "outputs": [],
   "source": [
    "# Miscoverage level for conformal prediction (10% allowed error rate => 90% target coverage)\n",
    "alpha = 0.1"
   ]
  },
  {
   "cell_type": "code",
   "execution_count": 48,
   "id": "eadf4555-3dd3-440e-8e35-f82a4ad9f855",
   "metadata": {
    "execution": {
     "iopub.execute_input": "2025-07-30T14:14:33.942902Z",
     "iopub.status.busy": "2025-07-30T14:14:33.942442Z",
     "iopub.status.idle": "2025-07-30T14:14:34.865239Z",
     "shell.execute_reply": "2025-07-30T14:14:34.864207Z"
    },
    "papermill": {
     "duration": 0.952441,
     "end_time": "2025-07-30T14:14:34.866989",
     "exception": false,
     "start_time": "2025-07-30T14:14:33.914548",
     "status": "completed"
    },
    "tags": []
   },
   "outputs": [],
   "source": [
    "probs_calib = model.predict_proba(X_calib)"
   ]
  },
  {
   "cell_type": "code",
   "execution_count": 49,
   "id": "2ed93547-6d5d-4983-9b36-1ecb300da49a",
   "metadata": {
    "execution": {
     "iopub.execute_input": "2025-07-30T14:14:34.922622Z",
     "iopub.status.busy": "2025-07-30T14:14:34.922122Z",
     "iopub.status.idle": "2025-07-30T14:14:34.927903Z",
     "shell.execute_reply": "2025-07-30T14:14:34.926855Z"
    },
    "papermill": {
     "duration": 0.036089,
     "end_time": "2025-07-30T14:14:34.929875",
     "exception": false,
     "start_time": "2025-07-30T14:14:34.893786",
     "status": "completed"
    },
    "tags": []
   },
   "outputs": [],
   "source": [
    "y_calib = y_calib.values.ravel().astype(int)"
   ]
  },
  {
   "cell_type": "code",
   "execution_count": 50,
   "id": "65d1320d-f588-4b38-9072-62af1ae97f7d",
   "metadata": {
    "execution": {
     "iopub.execute_input": "2025-07-30T14:14:34.988007Z",
     "iopub.status.busy": "2025-07-30T14:14:34.986995Z",
     "iopub.status.idle": "2025-07-30T14:14:34.998594Z",
     "shell.execute_reply": "2025-07-30T14:14:34.997254Z"
    },
    "papermill": {
     "duration": 0.04286,
     "end_time": "2025-07-30T14:14:35.000899",
     "exception": false,
     "start_time": "2025-07-30T14:14:34.958039",
     "status": "completed"
    },
    "tags": []
   },
   "outputs": [],
   "source": [
    "from fairness_multiverse.conformal import compute_nc_scores\n",
    "\n",
    "# Compute nonconformity scores on calibration set (1 - probability of true class)\n",
    "nc_scores = compute_nc_scores(probs_calib, y_calib)"
   ]
  },
  {
   "cell_type": "code",
   "execution_count": 51,
   "id": "df3b8ca3-53b7-43d5-9667-7c85da7aeda2",
   "metadata": {
    "execution": {
     "iopub.execute_input": "2025-07-30T14:14:35.058877Z",
     "iopub.status.busy": "2025-07-30T14:14:35.058033Z",
     "iopub.status.idle": "2025-07-30T14:14:35.064878Z",
     "shell.execute_reply": "2025-07-30T14:14:35.063889Z"
    },
    "papermill": {
     "duration": 0.037975,
     "end_time": "2025-07-30T14:14:35.066740",
     "exception": false,
     "start_time": "2025-07-30T14:14:35.028765",
     "status": "completed"
    },
    "tags": []
   },
   "outputs": [],
   "source": [
    "from fairness_multiverse.conformal import find_threshold\n",
    "\n",
    "# Find conformal threshold q_hat for the given alpha (split conformal method)\n",
    "q_hat = find_threshold(nc_scores, alpha)"
   ]
  },
  {
   "cell_type": "code",
   "execution_count": 52,
   "id": "4d29e6c1-0ef6-4aa4-b8fe-4fe79b0d033a",
   "metadata": {
    "execution": {
     "iopub.execute_input": "2025-07-30T14:14:35.119018Z",
     "iopub.status.busy": "2025-07-30T14:14:35.118250Z",
     "iopub.status.idle": "2025-07-30T14:14:35.126168Z",
     "shell.execute_reply": "2025-07-30T14:14:35.125137Z"
    },
    "papermill": {
     "duration": 0.03474,
     "end_time": "2025-07-30T14:14:35.127804",
     "exception": false,
     "start_time": "2025-07-30T14:14:35.093064",
     "status": "completed"
    },
    "tags": []
   },
   "outputs": [
    {
     "data": {
      "text/plain": [
       "0.6599999999999999"
      ]
     },
     "execution_count": 52,
     "metadata": {},
     "output_type": "execute_result"
    }
   ],
   "source": [
    "q_hat"
   ]
  },
  {
   "cell_type": "code",
   "execution_count": 53,
   "id": "92460794-cdac-4be2-ba28-f28c0515a6fb",
   "metadata": {
    "execution": {
     "iopub.execute_input": "2025-07-30T14:14:35.182357Z",
     "iopub.status.busy": "2025-07-30T14:14:35.181520Z",
     "iopub.status.idle": "2025-07-30T14:14:36.593391Z",
     "shell.execute_reply": "2025-07-30T14:14:36.592598Z"
    },
    "papermill": {
     "duration": 1.439819,
     "end_time": "2025-07-30T14:14:36.594776",
     "exception": false,
     "start_time": "2025-07-30T14:14:35.154957",
     "status": "completed"
    },
    "tags": []
   },
   "outputs": [],
   "source": [
    "from fairness_multiverse.conformal import predict_conformal_sets\n",
    "\n",
    "# Generate prediction sets for each test example\n",
    "pred_sets = predict_conformal_sets(model, X_test, q_hat)"
   ]
  },
  {
   "cell_type": "code",
   "execution_count": 54,
   "id": "d90c9a65-e6db-4f5d-80cd-e68fb7e46829",
   "metadata": {
    "execution": {
     "iopub.execute_input": "2025-07-30T14:14:36.621684Z",
     "iopub.status.busy": "2025-07-30T14:14:36.621220Z",
     "iopub.status.idle": "2025-07-30T14:14:36.625917Z",
     "shell.execute_reply": "2025-07-30T14:14:36.625105Z"
    },
    "papermill": {
     "duration": 0.01901,
     "end_time": "2025-07-30T14:14:36.627191",
     "exception": false,
     "start_time": "2025-07-30T14:14:36.608181",
     "status": "completed"
    },
    "tags": []
   },
   "outputs": [],
   "source": [
    "y_true = y_true.squeeze()"
   ]
  },
  {
   "cell_type": "code",
   "execution_count": 55,
   "id": "3a58a54a-1e68-46b9-927a-df01f18aebc8",
   "metadata": {
    "execution": {
     "iopub.execute_input": "2025-07-30T14:14:36.667648Z",
     "iopub.status.busy": "2025-07-30T14:14:36.667258Z",
     "iopub.status.idle": "2025-07-30T14:14:37.577451Z",
     "shell.execute_reply": "2025-07-30T14:14:37.576413Z"
    },
    "papermill": {
     "duration": 0.93653,
     "end_time": "2025-07-30T14:14:37.579525",
     "exception": false,
     "start_time": "2025-07-30T14:14:36.642995",
     "status": "completed"
    },
    "tags": []
   },
   "outputs": [],
   "source": [
    "from fairness_multiverse.conformal import evaluate_sets\n",
    "\n",
    "# Evaluate coverage and average set size on test data\n",
    "metrics = evaluate_sets(pred_sets, y_true)"
   ]
  },
  {
   "cell_type": "markdown",
   "id": "2b569c12-9aaa-4c88-98c9-bbcd0cf3ebb8",
   "metadata": {
    "papermill": {
     "duration": 0.024201,
     "end_time": "2025-07-30T14:14:37.632396",
     "exception": false,
     "start_time": "2025-07-30T14:14:37.608195",
     "status": "completed"
    },
    "tags": []
   },
   "source": [
    "# CP Metrics"
   ]
  },
  {
   "cell_type": "code",
   "execution_count": 56,
   "id": "5ce0a5cb-201f-45a0-ade5-94c7f0bd6095",
   "metadata": {
    "execution": {
     "iopub.execute_input": "2025-07-30T14:14:37.683230Z",
     "iopub.status.busy": "2025-07-30T14:14:37.682837Z",
     "iopub.status.idle": "2025-07-30T14:14:37.689843Z",
     "shell.execute_reply": "2025-07-30T14:14:37.688976Z"
    },
    "papermill": {
     "duration": 0.036537,
     "end_time": "2025-07-30T14:14:37.693894",
     "exception": false,
     "start_time": "2025-07-30T14:14:37.657357",
     "status": "completed"
    },
    "tags": []
   },
   "outputs": [
    {
     "data": {
      "text/plain": [
       "{'coverage': 0.9133318470627578, 'avg_size': 1.1468063761007692}"
      ]
     },
     "execution_count": 56,
     "metadata": {},
     "output_type": "execute_result"
    }
   ],
   "source": [
    "metrics"
   ]
  },
  {
   "cell_type": "code",
   "execution_count": 57,
   "id": "9b9a838d-31c9-430b-ae14-12baee460d17",
   "metadata": {
    "execution": {
     "iopub.execute_input": "2025-07-30T14:14:37.746587Z",
     "iopub.status.busy": "2025-07-30T14:14:37.746190Z",
     "iopub.status.idle": "2025-07-30T14:14:37.752457Z",
     "shell.execute_reply": "2025-07-30T14:14:37.751423Z"
    },
    "papermill": {
     "duration": 0.034789,
     "end_time": "2025-07-30T14:14:37.755383",
     "exception": false,
     "start_time": "2025-07-30T14:14:37.720594",
     "status": "completed"
    },
    "tags": []
   },
   "outputs": [],
   "source": [
    "example_universe = universe.copy()\n",
    "universe_training_size = example_universe.get(\"training_size\")\n",
    "universe_scale = example_universe.get(\"scale\")\n",
    "universe_model = example_universe.get(\"model\")\n",
    "universe_exclude_features = example_universe.get(\"exclude_features\")\n",
    "universe_exclude_subgroups = example_universe.get(\"exclude_subgroups\")"
   ]
  },
  {
   "cell_type": "code",
   "execution_count": 58,
   "id": "f4b6a8ac-9dc0-4245-8a91-5b3b5999c4f9",
   "metadata": {
    "execution": {
     "iopub.execute_input": "2025-07-30T14:14:37.807763Z",
     "iopub.status.busy": "2025-07-30T14:14:37.807375Z",
     "iopub.status.idle": "2025-07-30T14:14:37.813907Z",
     "shell.execute_reply": "2025-07-30T14:14:37.812909Z"
    },
    "papermill": {
     "duration": 0.034855,
     "end_time": "2025-07-30T14:14:37.816839",
     "exception": false,
     "start_time": "2025-07-30T14:14:37.781984",
     "status": "completed"
    },
    "tags": []
   },
   "outputs": [],
   "source": [
    "cp_metrics_dict = {\n",
    "    \"universe_id\": [universe_id],\n",
    "    \"universe_training_size\": [universe_training_size],\n",
    "    \"universe_scale\": [universe_scale],\n",
    "    \"universe_model\": [universe_model],\n",
    "    \"universe_exclude_features\": [universe_exclude_features],\n",
    "    \"universe_exclude_subgroups\": [universe_exclude_subgroups],\n",
    "    \"q_hat\": [q_hat],\n",
    "    \"coverage\": [metrics[\"coverage\"]],\n",
    "    \"avg_size\": [metrics[\"avg_size\"]],\n",
    "}"
   ]
  },
  {
   "cell_type": "code",
   "execution_count": 59,
   "id": "908acbb1-0371-4915-85ca-3fa520d2efe2",
   "metadata": {
    "execution": {
     "iopub.execute_input": "2025-07-30T14:14:37.868643Z",
     "iopub.status.busy": "2025-07-30T14:14:37.868208Z",
     "iopub.status.idle": "2025-07-30T14:14:37.875611Z",
     "shell.execute_reply": "2025-07-30T14:14:37.874688Z"
    },
    "papermill": {
     "duration": 0.037372,
     "end_time": "2025-07-30T14:14:37.880317",
     "exception": false,
     "start_time": "2025-07-30T14:14:37.842945",
     "status": "completed"
    },
    "tags": []
   },
   "outputs": [
    {
     "data": {
      "text/plain": [
       "{'universe_id': ['5079a83d505f32beb07cb32cf96c76b3'],\n",
       " 'universe_training_size': ['5k'],\n",
       " 'universe_scale': ['do-not-scale'],\n",
       " 'universe_model': ['rf'],\n",
       " 'universe_exclude_features': ['sex'],\n",
       " 'universe_exclude_subgroups': ['drop-non-german'],\n",
       " 'q_hat': [0.6599999999999999],\n",
       " 'coverage': [0.9133318470627578],\n",
       " 'avg_size': [1.1468063761007692]}"
      ]
     },
     "execution_count": 59,
     "metadata": {},
     "output_type": "execute_result"
    }
   ],
   "source": [
    "cp_metrics_dict"
   ]
  },
  {
   "cell_type": "code",
   "execution_count": 60,
   "id": "33007efc-14e9-4ec6-97ac-56a455c82265",
   "metadata": {
    "execution": {
     "iopub.execute_input": "2025-07-30T14:14:37.933371Z",
     "iopub.status.busy": "2025-07-30T14:14:37.932974Z",
     "iopub.status.idle": "2025-07-30T14:14:37.939865Z",
     "shell.execute_reply": "2025-07-30T14:14:37.938778Z"
    },
    "papermill": {
     "duration": 0.03738,
     "end_time": "2025-07-30T14:14:37.943451",
     "exception": false,
     "start_time": "2025-07-30T14:14:37.906071",
     "status": "completed"
    },
    "tags": []
   },
   "outputs": [],
   "source": [
    "cp_metrics_df = pd.DataFrame(cp_metrics_dict)"
   ]
  },
  {
   "cell_type": "code",
   "execution_count": 61,
   "id": "db12611b-57b2-4910-b9d0-355adfd6e7bf",
   "metadata": {
    "execution": {
     "iopub.execute_input": "2025-07-30T14:14:37.996803Z",
     "iopub.status.busy": "2025-07-30T14:14:37.996416Z",
     "iopub.status.idle": "2025-07-30T14:14:38.018289Z",
     "shell.execute_reply": "2025-07-30T14:14:38.017200Z"
    },
    "papermill": {
     "duration": 0.049811,
     "end_time": "2025-07-30T14:14:38.020218",
     "exception": false,
     "start_time": "2025-07-30T14:14:37.970407",
     "status": "completed"
    },
    "tags": []
   },
   "outputs": [
    {
     "data": {
      "text/html": [
       "<div>\n",
       "<style scoped>\n",
       "    .dataframe tbody tr th:only-of-type {\n",
       "        vertical-align: middle;\n",
       "    }\n",
       "\n",
       "    .dataframe tbody tr th {\n",
       "        vertical-align: top;\n",
       "    }\n",
       "\n",
       "    .dataframe thead th {\n",
       "        text-align: right;\n",
       "    }\n",
       "</style>\n",
       "<table border=\"1\" class=\"dataframe\">\n",
       "  <thead>\n",
       "    <tr style=\"text-align: right;\">\n",
       "      <th></th>\n",
       "      <th>universe_id</th>\n",
       "      <th>universe_training_size</th>\n",
       "      <th>universe_scale</th>\n",
       "      <th>universe_model</th>\n",
       "      <th>universe_exclude_features</th>\n",
       "      <th>universe_exclude_subgroups</th>\n",
       "      <th>q_hat</th>\n",
       "      <th>coverage</th>\n",
       "      <th>avg_size</th>\n",
       "    </tr>\n",
       "  </thead>\n",
       "  <tbody>\n",
       "    <tr>\n",
       "      <th>0</th>\n",
       "      <td>5079a83d505f32beb07cb32cf96c76b3</td>\n",
       "      <td>5k</td>\n",
       "      <td>do-not-scale</td>\n",
       "      <td>rf</td>\n",
       "      <td>sex</td>\n",
       "      <td>drop-non-german</td>\n",
       "      <td>0.66</td>\n",
       "      <td>0.913332</td>\n",
       "      <td>1.146806</td>\n",
       "    </tr>\n",
       "  </tbody>\n",
       "</table>\n",
       "</div>"
      ],
      "text/plain": [
       "                        universe_id universe_training_size universe_scale  \\\n",
       "0  5079a83d505f32beb07cb32cf96c76b3                     5k   do-not-scale   \n",
       "\n",
       "  universe_model universe_exclude_features universe_exclude_subgroups  q_hat  \\\n",
       "0             rf                       sex            drop-non-german   0.66   \n",
       "\n",
       "   coverage  avg_size  \n",
       "0  0.913332  1.146806  "
      ]
     },
     "execution_count": 61,
     "metadata": {},
     "output_type": "execute_result"
    }
   ],
   "source": [
    "cp_metrics_df"
   ]
  },
  {
   "cell_type": "code",
   "execution_count": 62,
   "id": "b7fbde55-a0a1-47e4-9af6-fe4a17fa8c61",
   "metadata": {
    "execution": {
     "iopub.execute_input": "2025-07-30T14:14:38.138834Z",
     "iopub.status.busy": "2025-07-30T14:14:38.138449Z",
     "iopub.status.idle": "2025-07-30T14:14:38.144042Z",
     "shell.execute_reply": "2025-07-30T14:14:38.143189Z"
    },
    "papermill": {
     "duration": 0.075553,
     "end_time": "2025-07-30T14:14:38.146339",
     "exception": false,
     "start_time": "2025-07-30T14:14:38.070786",
     "status": "completed"
    },
    "tags": []
   },
   "outputs": [],
   "source": [
    "# Conditional Coverage & looking at subgroups"
   ]
  },
  {
   "cell_type": "code",
   "execution_count": 63,
   "id": "027ae886-68dd-4141-96c7-805a5450e1ef",
   "metadata": {
    "execution": {
     "iopub.execute_input": "2025-07-30T14:14:38.201622Z",
     "iopub.status.busy": "2025-07-30T14:14:38.201223Z",
     "iopub.status.idle": "2025-07-30T14:14:38.649850Z",
     "shell.execute_reply": "2025-07-30T14:14:38.648920Z"
    },
    "papermill": {
     "duration": 0.474882,
     "end_time": "2025-07-30T14:14:38.651646",
     "exception": false,
     "start_time": "2025-07-30T14:14:38.176764",
     "status": "completed"
    },
    "tags": []
   },
   "outputs": [],
   "source": [
    "from fairness_multiverse.conformal import build_cp_groups\n",
    "\n",
    "cp_groups_df = build_cp_groups(pred_sets, y_true, X_test.index, org_test)\n",
    "#needs universe_id and setting"
   ]
  },
  {
   "cell_type": "code",
   "execution_count": 64,
   "id": "01d5802c-663a-4d1f-9d69-e036faaffbf7",
   "metadata": {
    "execution": {
     "iopub.execute_input": "2025-07-30T14:14:38.714480Z",
     "iopub.status.busy": "2025-07-30T14:14:38.713718Z",
     "iopub.status.idle": "2025-07-30T14:14:38.719712Z",
     "shell.execute_reply": "2025-07-30T14:14:38.718524Z"
    },
    "papermill": {
     "duration": 0.039512,
     "end_time": "2025-07-30T14:14:38.721967",
     "exception": false,
     "start_time": "2025-07-30T14:14:38.682455",
     "status": "completed"
    },
    "tags": []
   },
   "outputs": [],
   "source": [
    "#delete\n",
    "#cp_groups_df"
   ]
  },
  {
   "cell_type": "code",
   "execution_count": 65,
   "id": "fa424af1-d1eb-443d-b717-2d279ada8408",
   "metadata": {
    "execution": {
     "iopub.execute_input": "2025-07-30T14:14:38.813351Z",
     "iopub.status.busy": "2025-07-30T14:14:38.812960Z",
     "iopub.status.idle": "2025-07-30T14:14:38.817903Z",
     "shell.execute_reply": "2025-07-30T14:14:38.817013Z"
    },
    "papermill": {
     "duration": 0.060442,
     "end_time": "2025-07-30T14:14:38.819452",
     "exception": false,
     "start_time": "2025-07-30T14:14:38.759010",
     "status": "completed"
    },
    "tags": []
   },
   "outputs": [],
   "source": [
    "#delete\n",
    "#percentage = (cp_groups_df['nongerman_female'] == 1).mean() * 100\n",
    "#print(percentage)\n"
   ]
  },
  {
   "cell_type": "code",
   "execution_count": 66,
   "id": "6cbdab96-b2b2-45af-ad54-d0516db2e28d",
   "metadata": {
    "execution": {
     "iopub.execute_input": "2025-07-30T14:14:38.918157Z",
     "iopub.status.busy": "2025-07-30T14:14:38.917760Z",
     "iopub.status.idle": "2025-07-30T14:14:40.604556Z",
     "shell.execute_reply": "2025-07-30T14:14:40.603539Z"
    },
    "papermill": {
     "duration": 1.726401,
     "end_time": "2025-07-30T14:14:40.606575",
     "exception": false,
     "start_time": "2025-07-30T14:14:38.880174",
     "status": "completed"
    },
    "tags": []
   },
   "outputs": [],
   "source": [
    "# Define covered = 1 if true_label is in the predicted set\n",
    "cp_groups_df['covered'] = cp_groups_df.apply(\n",
    "    lambda r: int(r['true_label'] in r['pred_set']),\n",
    "    axis=1\n",
    ")"
   ]
  },
  {
   "cell_type": "code",
   "execution_count": 67,
   "id": "338ff529-1a6b-4b87-a931-8e4788d52aad",
   "metadata": {
    "execution": {
     "iopub.execute_input": "2025-07-30T14:14:40.667293Z",
     "iopub.status.busy": "2025-07-30T14:14:40.666794Z",
     "iopub.status.idle": "2025-07-30T14:14:40.672018Z",
     "shell.execute_reply": "2025-07-30T14:14:40.670964Z"
    },
    "papermill": {
     "duration": 0.043782,
     "end_time": "2025-07-30T14:14:40.673759",
     "exception": false,
     "start_time": "2025-07-30T14:14:40.629977",
     "status": "completed"
    },
    "tags": []
   },
   "outputs": [],
   "source": [
    "#cp_groups_df"
   ]
  },
  {
   "cell_type": "code",
   "execution_count": 68,
   "id": "90032e27-66df-4540-9169-4e89cfbaa758",
   "metadata": {
    "execution": {
     "iopub.execute_input": "2025-07-30T14:14:40.730591Z",
     "iopub.status.busy": "2025-07-30T14:14:40.730043Z",
     "iopub.status.idle": "2025-07-30T14:14:40.745755Z",
     "shell.execute_reply": "2025-07-30T14:14:40.744429Z"
    },
    "papermill": {
     "duration": 0.047528,
     "end_time": "2025-07-30T14:14:40.747524",
     "exception": false,
     "start_time": "2025-07-30T14:14:40.699996",
     "status": "completed"
    },
    "tags": []
   },
   "outputs": [],
   "source": [
    "subgroups = ['frau1','nongerman','nongerman_male','nongerman_female']\n",
    "\n",
    "# Conditional coverage for subgroup==1\n",
    "cond_coverage = {\n",
    "    g: cp_groups_df.loc[cp_groups_df[g]==1, 'covered'].mean()\n",
    "    for g in subgroups\n",
    "}"
   ]
  },
  {
   "cell_type": "code",
   "execution_count": 69,
   "id": "1e348fb1-b9c3-45bc-ba23-f016827a7e0d",
   "metadata": {
    "execution": {
     "iopub.execute_input": "2025-07-30T14:14:40.805080Z",
     "iopub.status.busy": "2025-07-30T14:14:40.804363Z",
     "iopub.status.idle": "2025-07-30T14:14:40.815446Z",
     "shell.execute_reply": "2025-07-30T14:14:40.814485Z"
    },
    "papermill": {
     "duration": 0.04287,
     "end_time": "2025-07-30T14:14:40.817514",
     "exception": false,
     "start_time": "2025-07-30T14:14:40.774644",
     "status": "completed"
    },
    "tags": []
   },
   "outputs": [
    {
     "data": {
      "text/plain": [
       "{'frau1': 0.9118210001347891,\n",
       " 'nongerman': 0.9048447762869815,\n",
       " 'nongerman_male': 0.9191209582995586,\n",
       " 'nongerman_female': 0.8812220566318927}"
      ]
     },
     "execution_count": 69,
     "metadata": {},
     "output_type": "execute_result"
    }
   ],
   "source": [
    "cond_coverage"
   ]
  },
  {
   "cell_type": "code",
   "execution_count": 70,
   "id": "f5093324-c3dd-4d63-bc4c-8d945e5c8bbb",
   "metadata": {
    "execution": {
     "iopub.execute_input": "2025-07-30T14:14:40.853128Z",
     "iopub.status.busy": "2025-07-30T14:14:40.852252Z",
     "iopub.status.idle": "2025-07-30T14:14:40.859575Z",
     "shell.execute_reply": "2025-07-30T14:14:40.858661Z"
    },
    "papermill": {
     "duration": 0.028936,
     "end_time": "2025-07-30T14:14:40.861487",
     "exception": false,
     "start_time": "2025-07-30T14:14:40.832551",
     "status": "completed"
    },
    "tags": []
   },
   "outputs": [],
   "source": [
    "for subgroup, cov in cond_coverage.items():\n",
    "    cp_metrics_df[f\"cov_{subgroup}\"] = cov"
   ]
  },
  {
   "cell_type": "code",
   "execution_count": 71,
   "id": "6e872e10-dbe5-49e8-b554-5030c98ff75d",
   "metadata": {
    "execution": {
     "iopub.execute_input": "2025-07-30T14:14:40.916260Z",
     "iopub.status.busy": "2025-07-30T14:14:40.915798Z",
     "iopub.status.idle": "2025-07-30T14:14:40.934807Z",
     "shell.execute_reply": "2025-07-30T14:14:40.933814Z"
    },
    "papermill": {
     "duration": 0.047617,
     "end_time": "2025-07-30T14:14:40.938673",
     "exception": false,
     "start_time": "2025-07-30T14:14:40.891056",
     "status": "completed"
    },
    "tags": []
   },
   "outputs": [
    {
     "data": {
      "text/html": [
       "<div>\n",
       "<style scoped>\n",
       "    .dataframe tbody tr th:only-of-type {\n",
       "        vertical-align: middle;\n",
       "    }\n",
       "\n",
       "    .dataframe tbody tr th {\n",
       "        vertical-align: top;\n",
       "    }\n",
       "\n",
       "    .dataframe thead th {\n",
       "        text-align: right;\n",
       "    }\n",
       "</style>\n",
       "<table border=\"1\" class=\"dataframe\">\n",
       "  <thead>\n",
       "    <tr style=\"text-align: right;\">\n",
       "      <th></th>\n",
       "      <th>universe_id</th>\n",
       "      <th>universe_training_size</th>\n",
       "      <th>universe_scale</th>\n",
       "      <th>universe_model</th>\n",
       "      <th>universe_exclude_features</th>\n",
       "      <th>universe_exclude_subgroups</th>\n",
       "      <th>q_hat</th>\n",
       "      <th>coverage</th>\n",
       "      <th>avg_size</th>\n",
       "      <th>cov_frau1</th>\n",
       "      <th>cov_nongerman</th>\n",
       "      <th>cov_nongerman_male</th>\n",
       "      <th>cov_nongerman_female</th>\n",
       "    </tr>\n",
       "  </thead>\n",
       "  <tbody>\n",
       "    <tr>\n",
       "      <th>0</th>\n",
       "      <td>5079a83d505f32beb07cb32cf96c76b3</td>\n",
       "      <td>5k</td>\n",
       "      <td>do-not-scale</td>\n",
       "      <td>rf</td>\n",
       "      <td>sex</td>\n",
       "      <td>drop-non-german</td>\n",
       "      <td>0.66</td>\n",
       "      <td>0.913332</td>\n",
       "      <td>1.146806</td>\n",
       "      <td>0.911821</td>\n",
       "      <td>0.904845</td>\n",
       "      <td>0.919121</td>\n",
       "      <td>0.881222</td>\n",
       "    </tr>\n",
       "  </tbody>\n",
       "</table>\n",
       "</div>"
      ],
      "text/plain": [
       "                        universe_id universe_training_size universe_scale  \\\n",
       "0  5079a83d505f32beb07cb32cf96c76b3                     5k   do-not-scale   \n",
       "\n",
       "  universe_model universe_exclude_features universe_exclude_subgroups  q_hat  \\\n",
       "0             rf                       sex            drop-non-german   0.66   \n",
       "\n",
       "   coverage  avg_size  cov_frau1  cov_nongerman  cov_nongerman_male  \\\n",
       "0  0.913332  1.146806   0.911821       0.904845            0.919121   \n",
       "\n",
       "   cov_nongerman_female  \n",
       "0              0.881222  "
      ]
     },
     "execution_count": 71,
     "metadata": {},
     "output_type": "execute_result"
    }
   ],
   "source": [
    "cp_metrics_df"
   ]
  },
  {
   "cell_type": "markdown",
   "id": "33774451",
   "metadata": {
    "papermill": {
     "duration": 0.023955,
     "end_time": "2025-07-30T14:14:40.993160",
     "exception": false,
     "start_time": "2025-07-30T14:14:40.969205",
     "status": "completed"
    },
    "tags": []
   },
   "source": [
    "# (Fairness) Metrics"
   ]
  },
  {
   "cell_type": "code",
   "execution_count": 72,
   "id": "debc5d62",
   "metadata": {
    "execution": {
     "iopub.execute_input": "2025-07-30T14:14:41.052570Z",
     "iopub.status.busy": "2025-07-30T14:14:41.051945Z",
     "iopub.status.idle": "2025-07-30T14:14:41.078102Z",
     "shell.execute_reply": "2025-07-30T14:14:41.076720Z"
    },
    "papermill": {
     "duration": 0.059024,
     "end_time": "2025-07-30T14:14:41.081546",
     "exception": false,
     "start_time": "2025-07-30T14:14:41.022522",
     "status": "completed"
    },
    "tags": []
   },
   "outputs": [],
   "source": [
    "# do I need to include maxdeutsch1.missing?\n",
    "\n",
    "import numpy as np\n",
    "\n",
    "colname_to_bin = \"maxdeutsch1\"\n",
    "majority_value = org_train[colname_to_bin].mode()[0]\n",
    "\n",
    "org_test[\"majmin\"] = np.where(org_test[colname_to_bin] == majority_value, \"majority\", \"minority\")"
   ]
  },
  {
   "cell_type": "code",
   "execution_count": 73,
   "id": "06a50de5",
   "metadata": {
    "execution": {
     "iopub.execute_input": "2025-07-30T14:14:41.186407Z",
     "iopub.status.busy": "2025-07-30T14:14:41.185851Z",
     "iopub.status.idle": "2025-07-30T14:14:43.785563Z",
     "shell.execute_reply": "2025-07-30T14:14:43.784596Z"
    },
    "papermill": {
     "duration": 2.660281,
     "end_time": "2025-07-30T14:14:43.787283",
     "exception": false,
     "start_time": "2025-07-30T14:14:41.127002",
     "status": "completed"
    },
    "tags": []
   },
   "outputs": [],
   "source": [
    "example_universe = universe.copy()\n",
    "example_universe[\"cutoff\"] = example_universe[\"cutoff\"][0]\n",
    "example_universe[\"eval_fairness_grouping\"] = example_universe[\"eval_fairness_grouping\"][0]\n",
    "fairness_dict, metric_frame = universe_analysis.compute_metrics(\n",
    "    example_universe,\n",
    "    y_pred_prob=probs_test,\n",
    "    y_test=y_true,\n",
    "    org_test=org_test,\n",
    ")"
   ]
  },
  {
   "cell_type": "markdown",
   "id": "f95d4e02",
   "metadata": {
    "papermill": {
     "duration": 0.023072,
     "end_time": "2025-07-30T14:14:43.841349",
     "exception": false,
     "start_time": "2025-07-30T14:14:43.818277",
     "status": "completed"
    },
    "tags": []
   },
   "source": [
    "# Overall"
   ]
  },
  {
   "cell_type": "markdown",
   "id": "bdee4871",
   "metadata": {
    "papermill": {
     "duration": 0.027898,
     "end_time": "2025-07-30T14:14:43.898400",
     "exception": false,
     "start_time": "2025-07-30T14:14:43.870502",
     "status": "completed"
    },
    "tags": []
   },
   "source": [
    "Fairness\n",
    "Main fairness target: Equalized Odds. Seems to be a better fit than equal opportunity, since we're not only interested in Y = 1. Seems to be a better fit than demographic parity, since we also care about accuracy, not just equal distribution of preds.\n",
    "\n",
    "Pick column for computation of fairness metrics\n",
    "\n",
    "Performance\n",
    "Overall performance measures, most interesting in relation to the measures split by group below"
   ]
  },
  {
   "cell_type": "code",
   "execution_count": 74,
   "id": "c4e067c6",
   "metadata": {
    "execution": {
     "iopub.execute_input": "2025-07-30T14:14:43.952285Z",
     "iopub.status.busy": "2025-07-30T14:14:43.951556Z",
     "iopub.status.idle": "2025-07-30T14:14:43.960813Z",
     "shell.execute_reply": "2025-07-30T14:14:43.959760Z"
    },
    "papermill": {
     "duration": 0.034301,
     "end_time": "2025-07-30T14:14:43.963610",
     "exception": false,
     "start_time": "2025-07-30T14:14:43.929309",
     "status": "completed"
    },
    "tags": []
   },
   "outputs": [
    {
     "data": {
      "text/plain": [
       "accuracy                   0.199532\n",
       "balanced accuracy          0.533087\n",
       "f1                         0.239349\n",
       "precision                  0.136288\n",
       "false positive rate        0.915578\n",
       "false negative rate        0.018248\n",
       "selection rate             0.924066\n",
       "count                  89710.000000\n",
       "dtype: float64"
      ]
     },
     "execution_count": 74,
     "metadata": {},
     "output_type": "execute_result"
    }
   ],
   "source": [
    "metric_frame.overall"
   ]
  },
  {
   "cell_type": "markdown",
   "id": "e968fe9d",
   "metadata": {
    "papermill": {
     "duration": 0.023109,
     "end_time": "2025-07-30T14:14:44.014155",
     "exception": false,
     "start_time": "2025-07-30T14:14:43.991046",
     "status": "completed"
    },
    "tags": []
   },
   "source": [
    "By Group"
   ]
  },
  {
   "cell_type": "code",
   "execution_count": 75,
   "id": "ec325bce",
   "metadata": {
    "execution": {
     "iopub.execute_input": "2025-07-30T14:14:44.072452Z",
     "iopub.status.busy": "2025-07-30T14:14:44.072007Z",
     "iopub.status.idle": "2025-07-30T14:14:44.102855Z",
     "shell.execute_reply": "2025-07-30T14:14:44.100768Z"
    },
    "papermill": {
     "duration": 0.064139,
     "end_time": "2025-07-30T14:14:44.105698",
     "exception": false,
     "start_time": "2025-07-30T14:14:44.041559",
     "status": "completed"
    },
    "tags": []
   },
   "outputs": [
    {
     "data": {
      "text/html": [
       "<div>\n",
       "<style scoped>\n",
       "    .dataframe tbody tr th:only-of-type {\n",
       "        vertical-align: middle;\n",
       "    }\n",
       "\n",
       "    .dataframe tbody tr th {\n",
       "        vertical-align: top;\n",
       "    }\n",
       "\n",
       "    .dataframe thead th {\n",
       "        text-align: right;\n",
       "    }\n",
       "</style>\n",
       "<table border=\"1\" class=\"dataframe\">\n",
       "  <thead>\n",
       "    <tr style=\"text-align: right;\">\n",
       "      <th></th>\n",
       "      <th>accuracy</th>\n",
       "      <th>balanced accuracy</th>\n",
       "      <th>f1</th>\n",
       "      <th>precision</th>\n",
       "      <th>false positive rate</th>\n",
       "      <th>false negative rate</th>\n",
       "      <th>selection rate</th>\n",
       "      <th>count</th>\n",
       "    </tr>\n",
       "    <tr>\n",
       "      <th>majmin</th>\n",
       "      <th></th>\n",
       "      <th></th>\n",
       "      <th></th>\n",
       "      <th></th>\n",
       "      <th></th>\n",
       "      <th></th>\n",
       "      <th></th>\n",
       "      <th></th>\n",
       "    </tr>\n",
       "  </thead>\n",
       "  <tbody>\n",
       "    <tr>\n",
       "      <th>majority</th>\n",
       "      <td>0.199089</td>\n",
       "      <td>0.534491</td>\n",
       "      <td>0.246303</td>\n",
       "      <td>0.140640</td>\n",
       "      <td>0.921389</td>\n",
       "      <td>0.009628</td>\n",
       "      <td>0.930505</td>\n",
       "      <td>69170.0</td>\n",
       "    </tr>\n",
       "    <tr>\n",
       "      <th>minority</th>\n",
       "      <td>0.201022</td>\n",
       "      <td>0.526050</td>\n",
       "      <td>0.214897</td>\n",
       "      <td>0.121176</td>\n",
       "      <td>0.896379</td>\n",
       "      <td>0.051520</td>\n",
       "      <td>0.902386</td>\n",
       "      <td>20540.0</td>\n",
       "    </tr>\n",
       "  </tbody>\n",
       "</table>\n",
       "</div>"
      ],
      "text/plain": [
       "          accuracy  balanced accuracy        f1  precision  \\\n",
       "majmin                                                       \n",
       "majority  0.199089           0.534491  0.246303   0.140640   \n",
       "minority  0.201022           0.526050  0.214897   0.121176   \n",
       "\n",
       "          false positive rate  false negative rate  selection rate    count  \n",
       "majmin                                                                       \n",
       "majority             0.921389             0.009628        0.930505  69170.0  \n",
       "minority             0.896379             0.051520        0.902386  20540.0  "
      ]
     },
     "execution_count": 75,
     "metadata": {},
     "output_type": "execute_result"
    }
   ],
   "source": [
    "metric_frame.by_group"
   ]
  },
  {
   "cell_type": "code",
   "execution_count": 76,
   "id": "a9ddbe63",
   "metadata": {
    "execution": {
     "iopub.execute_input": "2025-07-30T14:14:44.160144Z",
     "iopub.status.busy": "2025-07-30T14:14:44.159775Z",
     "iopub.status.idle": "2025-07-30T14:14:47.097366Z",
     "shell.execute_reply": "2025-07-30T14:14:47.094831Z"
    },
    "papermill": {
     "duration": 2.962023,
     "end_time": "2025-07-30T14:14:47.099161",
     "exception": false,
     "start_time": "2025-07-30T14:14:44.137138",
     "status": "completed"
    },
    "tags": []
   },
   "outputs": [
    {
     "data": {
      "text/plain": [
       "array([[<Axes: title={'center': 'accuracy'}, xlabel='majmin'>,\n",
       "        <Axes: title={'center': 'balanced accuracy'}, xlabel='majmin'>,\n",
       "        <Axes: title={'center': 'f1'}, xlabel='majmin'>],\n",
       "       [<Axes: title={'center': 'precision'}, xlabel='majmin'>,\n",
       "        <Axes: title={'center': 'false positive rate'}, xlabel='majmin'>,\n",
       "        <Axes: title={'center': 'false negative rate'}, xlabel='majmin'>],\n",
       "       [<Axes: title={'center': 'selection rate'}, xlabel='majmin'>,\n",
       "        <Axes: title={'center': 'count'}, xlabel='majmin'>,\n",
       "        <Axes: xlabel='majmin'>]], dtype=object)"
      ]
     },
     "execution_count": 76,
     "metadata": {},
     "output_type": "execute_result"
    },
    {
     "data": {
      "image/png": "[encoded data removed]",
      "text/plain": [
       "<Figure size 1200x800 with 9 Axes>"
      ]
     },
     "metadata": {},
     "output_type": "display_data"
    }
   ],
   "source": [
    "# In a graphic\n",
    "metric_frame.by_group.plot.bar(\n",
    "    subplots=True,\n",
    "    layout=[3, 3],\n",
    "    legend=False,\n",
    "    figsize=[12, 8],\n",
    "    title=\"Show all metrics\",\n",
    ")"
   ]
  },
  {
   "cell_type": "markdown",
   "id": "f57a0bac",
   "metadata": {
    "papermill": {
     "duration": 0.028637,
     "end_time": "2025-07-30T14:14:47.156427",
     "exception": false,
     "start_time": "2025-07-30T14:14:47.127790",
     "status": "completed"
    },
    "tags": []
   },
   "source": [
    "# Final Output"
   ]
  },
  {
   "cell_type": "code",
   "execution_count": 77,
   "id": "96d280a3",
   "metadata": {
    "execution": {
     "iopub.execute_input": "2025-07-30T14:14:47.220945Z",
     "iopub.status.busy": "2025-07-30T14:14:47.220340Z",
     "iopub.status.idle": "2025-07-30T14:14:47.228440Z",
     "shell.execute_reply": "2025-07-30T14:14:47.227418Z"
    },
    "papermill": {
     "duration": 0.043467,
     "end_time": "2025-07-30T14:14:47.230217",
     "exception": false,
     "start_time": "2025-07-30T14:14:47.186750",
     "status": "completed"
    },
    "tags": []
   },
   "outputs": [
    {
     "data": {
      "text/plain": [
       "4"
      ]
     },
     "execution_count": 77,
     "metadata": {},
     "output_type": "execute_result"
    }
   ],
   "source": [
    "sub_universes = universe_analysis.generate_sub_universes()\n",
    "len(sub_universes)"
   ]
  },
  {
   "cell_type": "code",
   "execution_count": 78,
   "id": "92adf7ba",
   "metadata": {
    "execution": {
     "iopub.execute_input": "2025-07-30T14:14:47.304319Z",
     "iopub.status.busy": "2025-07-30T14:14:47.303769Z",
     "iopub.status.idle": "2025-07-30T14:14:47.310651Z",
     "shell.execute_reply": "2025-07-30T14:14:47.309545Z"
    },
    "papermill": {
     "duration": 0.050759,
     "end_time": "2025-07-30T14:14:47.312661",
     "exception": false,
     "start_time": "2025-07-30T14:14:47.261902",
     "status": "completed"
    },
    "tags": []
   },
   "outputs": [],
   "source": [
    "def filter_sub_universe_data(sub_universe, org_test):\n",
    "    # Keep all rows — no filtering\n",
    "    keep_rows_mask = np.ones(org_test.shape[0], dtype=bool)\n",
    "\n",
    "    print(f\"[INFO] Keeping all rows: {keep_rows_mask.sum()} rows retained.\")\n",
    "    return keep_rows_mask"
   ]
  },
  {
   "cell_type": "code",
   "execution_count": 79,
   "id": "4a759155",
   "metadata": {
    "execution": {
     "iopub.execute_input": "2025-07-30T14:14:47.412711Z",
     "iopub.status.busy": "2025-07-30T14:14:47.412292Z",
     "iopub.status.idle": "2025-07-30T14:14:57.239040Z",
     "shell.execute_reply": "2025-07-30T14:14:57.238212Z"
    },
    "papermill": {
     "duration": 9.891444,
     "end_time": "2025-07-30T14:14:57.240420",
     "exception": false,
     "start_time": "2025-07-30T14:14:47.348976",
     "status": "completed"
    },
    "tags": []
   },
   "outputs": [
    {
     "name": "stdout",
     "output_type": "stream",
     "text": [
      "Stopping execution_time clock.\n",
      "[INFO] Keeping all rows: 89710 rows retained.\n"
     ]
    },
    {
     "name": "stdout",
     "output_type": "stream",
     "text": [
      "[INFO] Keeping all rows: 89710 rows retained.\n"
     ]
    },
    {
     "name": "stdout",
     "output_type": "stream",
     "text": [
      "[INFO] Keeping all rows: 89710 rows retained.\n"
     ]
    },
    {
     "name": "stdout",
     "output_type": "stream",
     "text": [
      "[INFO] Keeping all rows: 89710 rows retained.\n"
     ]
    },
    {
     "data": {
      "text/html": [
       "<div>\n",
       "<style scoped>\n",
       "    .dataframe tbody tr th:only-of-type {\n",
       "        vertical-align: middle;\n",
       "    }\n",
       "\n",
       "    .dataframe tbody tr th {\n",
       "        vertical-align: top;\n",
       "    }\n",
       "\n",
       "    .dataframe thead th {\n",
       "        text-align: right;\n",
       "    }\n",
       "</style>\n",
       "<table border=\"1\" class=\"dataframe\">\n",
       "  <thead>\n",
       "    <tr style=\"text-align: right;\">\n",
       "      <th></th>\n",
       "      <th>run_no</th>\n",
       "      <th>universe_id</th>\n",
       "      <th>universe_settings</th>\n",
       "      <th>execution_time</th>\n",
       "      <th>test_size_n</th>\n",
       "      <th>test_size_frac</th>\n",
       "      <th>fair_main_equalized_odds_difference</th>\n",
       "      <th>fair_main_equalized_odds_ratio</th>\n",
       "      <th>fair_main_demographic_parity_difference</th>\n",
       "      <th>fair_main_demographic_parity_ratio</th>\n",
       "      <th>...</th>\n",
       "      <th>perf_grp_precision_0</th>\n",
       "      <th>perf_grp_precision_1</th>\n",
       "      <th>perf_grp_false positive rate_0</th>\n",
       "      <th>perf_grp_false positive rate_1</th>\n",
       "      <th>perf_grp_false negative rate_0</th>\n",
       "      <th>perf_grp_false negative rate_1</th>\n",
       "      <th>perf_grp_selection rate_0</th>\n",
       "      <th>perf_grp_selection rate_1</th>\n",
       "      <th>perf_grp_count_0</th>\n",
       "      <th>perf_grp_count_1</th>\n",
       "    </tr>\n",
       "  </thead>\n",
       "  <tbody>\n",
       "    <tr>\n",
       "      <th>0</th>\n",
       "      <td>12</td>\n",
       "      <td>5079a83d505f32beb07cb32cf96c76b3</td>\n",
       "      <td>{\"cutoff\": \"quantile_0.1\", \"eval_fairness_grou...</td>\n",
       "      <td>33.997968</td>\n",
       "      <td>89710</td>\n",
       "      <td>1.0</td>\n",
       "      <td>0.041892</td>\n",
       "      <td>0.957700</td>\n",
       "      <td>0.028119</td>\n",
       "      <td>0.969781</td>\n",
       "      <td>...</td>\n",
       "      <td>NaN</td>\n",
       "      <td>NaN</td>\n",
       "      <td>NaN</td>\n",
       "      <td>NaN</td>\n",
       "      <td>NaN</td>\n",
       "      <td>NaN</td>\n",
       "      <td>NaN</td>\n",
       "      <td>NaN</td>\n",
       "      <td>NaN</td>\n",
       "      <td>NaN</td>\n",
       "    </tr>\n",
       "    <tr>\n",
       "      <th>0</th>\n",
       "      <td>12</td>\n",
       "      <td>5079a83d505f32beb07cb32cf96c76b3</td>\n",
       "      <td>{\"cutoff\": \"quantile_0.1\", \"eval_fairness_grou...</td>\n",
       "      <td>33.997968</td>\n",
       "      <td>89710</td>\n",
       "      <td>1.0</td>\n",
       "      <td>0.041892</td>\n",
       "      <td>0.957700</td>\n",
       "      <td>0.028119</td>\n",
       "      <td>0.969781</td>\n",
       "      <td>...</td>\n",
       "      <td>0.121176</td>\n",
       "      <td>0.140640</td>\n",
       "      <td>0.896379</td>\n",
       "      <td>0.921389</td>\n",
       "      <td>0.051520</td>\n",
       "      <td>0.009628</td>\n",
       "      <td>0.902386</td>\n",
       "      <td>0.930505</td>\n",
       "      <td>20540.0</td>\n",
       "      <td>69170.0</td>\n",
       "    </tr>\n",
       "    <tr>\n",
       "      <th>0</th>\n",
       "      <td>12</td>\n",
       "      <td>5079a83d505f32beb07cb32cf96c76b3</td>\n",
       "      <td>{\"cutoff\": \"quantile_0.25\", \"eval_fairness_gro...</td>\n",
       "      <td>33.997968</td>\n",
       "      <td>89710</td>\n",
       "      <td>1.0</td>\n",
       "      <td>0.105513</td>\n",
       "      <td>0.889291</td>\n",
       "      <td>0.044667</td>\n",
       "      <td>0.942613</td>\n",
       "      <td>...</td>\n",
       "      <td>NaN</td>\n",
       "      <td>NaN</td>\n",
       "      <td>NaN</td>\n",
       "      <td>NaN</td>\n",
       "      <td>NaN</td>\n",
       "      <td>NaN</td>\n",
       "      <td>NaN</td>\n",
       "      <td>NaN</td>\n",
       "      <td>NaN</td>\n",
       "      <td>NaN</td>\n",
       "    </tr>\n",
       "    <tr>\n",
       "      <th>0</th>\n",
       "      <td>12</td>\n",
       "      <td>5079a83d505f32beb07cb32cf96c76b3</td>\n",
       "      <td>{\"cutoff\": \"quantile_0.25\", \"eval_fairness_gro...</td>\n",
       "      <td>33.997968</td>\n",
       "      <td>89710</td>\n",
       "      <td>1.0</td>\n",
       "      <td>0.105513</td>\n",
       "      <td>0.889291</td>\n",
       "      <td>0.044667</td>\n",
       "      <td>0.942613</td>\n",
       "      <td>...</td>\n",
       "      <td>0.133179</td>\n",
       "      <td>0.161797</td>\n",
       "      <td>0.718853</td>\n",
       "      <td>0.751757</td>\n",
       "      <td>0.152449</td>\n",
       "      <td>0.046937</td>\n",
       "      <td>0.733690</td>\n",
       "      <td>0.778358</td>\n",
       "      <td>20540.0</td>\n",
       "      <td>69170.0</td>\n",
       "    </tr>\n",
       "  </tbody>\n",
       "</table>\n",
       "<p>4 rows × 50 columns</p>\n",
       "</div>"
      ],
      "text/plain": [
       "  run_no                       universe_id  \\\n",
       "0     12  5079a83d505f32beb07cb32cf96c76b3   \n",
       "0     12  5079a83d505f32beb07cb32cf96c76b3   \n",
       "0     12  5079a83d505f32beb07cb32cf96c76b3   \n",
       "0     12  5079a83d505f32beb07cb32cf96c76b3   \n",
       "\n",
       "                                   universe_settings  execution_time  \\\n",
       "0  {\"cutoff\": \"quantile_0.1\", \"eval_fairness_grou...       33.997968   \n",
       "0  {\"cutoff\": \"quantile_0.1\", \"eval_fairness_grou...       33.997968   \n",
       "0  {\"cutoff\": \"quantile_0.25\", \"eval_fairness_gro...       33.997968   \n",
       "0  {\"cutoff\": \"quantile_0.25\", \"eval_fairness_gro...       33.997968   \n",
       "\n",
       "   test_size_n  test_size_frac  fair_main_equalized_odds_difference  \\\n",
       "0        89710             1.0                             0.041892   \n",
       "0        89710             1.0                             0.041892   \n",
       "0        89710             1.0                             0.105513   \n",
       "0        89710             1.0                             0.105513   \n",
       "\n",
       "   fair_main_equalized_odds_ratio  fair_main_demographic_parity_difference  \\\n",
       "0                        0.957700                                 0.028119   \n",
       "0                        0.957700                                 0.028119   \n",
       "0                        0.889291                                 0.044667   \n",
       "0                        0.889291                                 0.044667   \n",
       "\n",
       "   fair_main_demographic_parity_ratio  ...  perf_grp_precision_0  \\\n",
       "0                            0.969781  ...                   NaN   \n",
       "0                            0.969781  ...              0.121176   \n",
       "0                            0.942613  ...                   NaN   \n",
       "0                            0.942613  ...              0.133179   \n",
       "\n",
       "   perf_grp_precision_1  perf_grp_false positive rate_0  \\\n",
       "0                   NaN                             NaN   \n",
       "0              0.140640                        0.896379   \n",
       "0                   NaN                             NaN   \n",
       "0              0.161797                        0.718853   \n",
       "\n",
       "   perf_grp_false positive rate_1  perf_grp_false negative rate_0  \\\n",
       "0                             NaN                             NaN   \n",
       "0                        0.921389                        0.051520   \n",
       "0                             NaN                             NaN   \n",
       "0                        0.751757                        0.152449   \n",
       "\n",
       "   perf_grp_false negative rate_1  perf_grp_selection rate_0  \\\n",
       "0                             NaN                        NaN   \n",
       "0                        0.009628                   0.902386   \n",
       "0                             NaN                        NaN   \n",
       "0                        0.046937                   0.733690   \n",
       "\n",
       "   perf_grp_selection rate_1  perf_grp_count_0  perf_grp_count_1  \n",
       "0                        NaN               NaN               NaN  \n",
       "0                   0.930505           20540.0           69170.0  \n",
       "0                        NaN               NaN               NaN  \n",
       "0                   0.778358           20540.0           69170.0  \n",
       "\n",
       "[4 rows x 50 columns]"
      ]
     },
     "execution_count": 79,
     "metadata": {},
     "output_type": "execute_result"
    }
   ],
   "source": [
    "final_output = universe_analysis.generate_final_output(\n",
    "    y_pred_prob=probs_test,\n",
    "    y_test=y_true,\n",
    "    org_test=org_test,\n",
    "    filter_data=filter_sub_universe_data,\n",
    "    cp_metrics_df=cp_metrics_df,\n",
    "    save=True,\n",
    ")\n",
    "final_output"
   ]
  },
  {
   "cell_type": "code",
   "execution_count": null,
   "id": "721ff514-cb11-46f8-b6fc-50392f74b5cb",
   "metadata": {
    "papermill": {
     "duration": 0.015863,
     "end_time": "2025-07-30T14:14:57.277520",
     "exception": false,
     "start_time": "2025-07-30T14:14:57.261657",
     "status": "completed"
    },
    "tags": []
   },
   "outputs": [],
   "source": []
  }
 ],
 "metadata": {
  "celltoolbar": "Tags",
  "kernelspec": {
   "display_name": "Python (CMA Fairness)",
   "language": "python",
   "name": "cma_fair_env"
  },
  "language_info": {
   "codemirror_mode": {
    "name": "ipython",
    "version": 3
   },
   "file_extension": ".py",
   "mimetype": "text/x-python",
   "name": "python",
   "nbconvert_exporter": "python",
   "pygments_lexer": "ipython3",
   "version": "3.10.12"
  },
  "papermill": {
   "default_parameters": {},
   "duration": 48.358254,
   "end_time": "2025-07-30T14:14:58.012272",
   "environment_variables": {},
   "exception": null,
   "input_path": "universe_analysis.ipynb",
   "output_path": "output/runs/12/notebooks/m_12-5079a83d505f32beb07cb32cf96c76b3.ipynb",
   "parameters": {
    "output_dir": "output",
    "run_no": "12",
    "seed": "2023",
    "universe": "{\"cutoff\": [\"quantile_0.1\", \"quantile_0.25\"], \"eval_fairness_grouping\": [\"majority-minority\", \"nationality-all\"], \"exclude_features\": \"sex\", \"exclude_subgroups\": \"drop-non-german\", \"model\": \"rf\", \"scale\": \"do-not-scale\", \"training_size\": \"5k\", \"training_year\": \"2010_14\"}",
    "universe_id": "5079a83d505f32beb07cb32cf96c76b3"
   },
   "start_time": "2025-07-30T14:14:09.654018",
   "version": "2.6.0"
  }
 },
 "nbformat": 4,
 "nbformat_minor": 5
}