{
 "cells": [
  {
   "cell_type": "code",
   "execution_count": 1,
   "id": "f159f837-637b-42ba-96b5-ec9a68c44524",
   "metadata": {
    "execution": {
     "iopub.execute_input": "2025-07-30T13:45:21.900324Z",
     "iopub.status.busy": "2025-07-30T13:45:21.899475Z",
     "iopub.status.idle": "2025-07-30T13:45:21.913252Z",
     "shell.execute_reply": "2025-07-30T13:45:21.912290Z"
    },
    "papermill": {
     "duration": 0.036854,
     "end_time": "2025-07-30T13:45:21.914892",
     "exception": false,
     "start_time": "2025-07-30T13:45:21.878038",
     "status": "completed"
    },
    "tags": []
   },
   "outputs": [
    {
     "name": "stdout",
     "output_type": "stream",
     "text": [
      "/dss/dsshome1/0C/ra93lal2/cma/CMA_Fairness_v2\n"
     ]
    },
    {
     "name": "stderr",
     "output_type": "stream",
     "text": [
      "/dss/dsshome1/0C/ra93lal2/.local/share/virtualenvs/CMA_Fairness_v2-3j10GkSs/lib/python3.10/site-packages/IPython/core/magics/osm.py:393: UserWarning: This is now an optional IPython functionality, using bookmarks requires you to install the `pickleshare` library.\n",
      "  bkms = self.shell.db.get('bookmarks', {})\n",
      "/dss/dsshome1/0C/ra93lal2/.local/share/virtualenvs/CMA_Fairness_v2-3j10GkSs/lib/python3.10/site-packages/IPython/core/magics/osm.py:417: UserWarning: This is now an optional IPython functionality, setting dhist requires you to install the `pickleshare` library.\n",
      "  self.shell.db['dhist'] = compress_dhist(dhist)[-100:]\n"
     ]
    }
   ],
   "source": [
    "%cd ~/cma/CMA_Fairness_v2"
   ]
  },
  {
   "cell_type": "markdown",
   "id": "de2603b9",
   "metadata": {
    "papermill": {
     "duration": 0.018911,
     "end_time": "2025-07-30T13:45:21.955450",
     "exception": false,
     "start_time": "2025-07-30T13:45:21.936539",
     "status": "completed"
    },
    "tags": []
   },
   "source": [
    "The following cell holds the definition of our parameters, these values can be overriden by rendering the with e.g. the following command:\n",
    "\n",
    "papermill -p alpha 0.2 -p ratio 0.3 universe_analysis.ipynb output/test_run.ipynb"
   ]
  },
  {
   "cell_type": "code",
   "execution_count": 2,
   "id": "a80968a0-40bb-4fa9-85ef-2d5eefb01975",
   "metadata": {
    "execution": {
     "iopub.execute_input": "2025-07-30T13:45:22.004945Z",
     "iopub.status.busy": "2025-07-30T13:45:22.003953Z",
     "iopub.status.idle": "2025-07-30T13:45:22.010215Z",
     "shell.execute_reply": "2025-07-30T13:45:22.009253Z"
    },
    "papermill": {
     "duration": 0.037294,
     "end_time": "2025-07-30T13:45:22.011745",
     "exception": false,
     "start_time": "2025-07-30T13:45:21.974451",
     "status": "completed"
    },
    "tags": []
   },
   "outputs": [
    {
     "name": "stdout",
     "output_type": "stream",
     "text": [
      "Current working directory: /dss/dsshome1/0C/ra93lal2/cma/CMA_Fairness_v2\n"
     ]
    }
   ],
   "source": [
    "import os\n",
    "print(\"Current working directory:\", os.getcwd())"
   ]
  },
  {
   "cell_type": "code",
   "execution_count": 3,
   "id": "2dce4c03",
   "metadata": {
    "execution": {
     "iopub.execute_input": "2025-07-30T13:45:22.053919Z",
     "iopub.status.busy": "2025-07-30T13:45:22.053282Z",
     "iopub.status.idle": "2025-07-30T13:45:22.059324Z",
     "shell.execute_reply": "2025-07-30T13:45:22.058487Z"
    },
    "papermill": {
     "duration": 0.029091,
     "end_time": "2025-07-30T13:45:22.060978",
     "exception": false,
     "start_time": "2025-07-30T13:45:22.031887",
     "status": "completed"
    },
    "tags": [
     "parameters"
    ]
   },
   "outputs": [],
   "source": [
    "run_no = 0\n",
    "universe_id = \"test\"\n",
    "universe = {\n",
    "    \"training_size\": \"25k\", # \"25k\", \"5k\", \"1k\"\n",
    "    \"training_year\": \"2014\", # \"2014\", \"2012_14\", \"2010_14\"\n",
    "    \"scale\": \"scale\", # \"scale\", \"do-not-scale\",\n",
    "    #\"stratify_split\": \"target\", # \"none\", \"target\", \"protected-attribute\", \"both\",\n",
    "    \"model\": \"elasticnet\", # \"logreg\", \"penalized_logreg\", \"rf\", \"gbm\", \"elasticnet\"\n",
    "    \"cutoff\": [\"quantile_0.15\", \"quantile_0.30\"],\n",
    "    \"exclude_features\": \"age\", # \"none\", \"nationality\", \"sex\", \"nationality-sex\", \"age\"\n",
    "    \"exclude_subgroups\": \"keep-all\", # \"keep-all\", \"drop-non-german\"\n",
    "    \"eval_fairness_grouping\": [\"majority-minority\", \"nationality-all\"]\n",
    "}\n",
    "\n",
    "output_dir=\"./output\"\n",
    "seed=0"
   ]
  },
  {
   "cell_type": "code",
   "execution_count": 4,
   "id": "2e74094b",
   "metadata": {
    "execution": {
     "iopub.execute_input": "2025-07-30T13:45:22.102484Z",
     "iopub.status.busy": "2025-07-30T13:45:22.101669Z",
     "iopub.status.idle": "2025-07-30T13:45:22.107301Z",
     "shell.execute_reply": "2025-07-30T13:45:22.106282Z"
    },
    "papermill": {
     "duration": 0.027837,
     "end_time": "2025-07-30T13:45:22.108984",
     "exception": false,
     "start_time": "2025-07-30T13:45:22.081147",
     "status": "completed"
    },
    "tags": [
     "injected-parameters"
    ]
   },
   "outputs": [],
   "source": [
    "# Parameters\n",
    "universe_id = \"a6cd33df1c2d446060ffdb239b964dbe\"\n",
    "run_no = \"12\"\n",
    "universe = \"{\\\"cutoff\\\": [\\\"quantile_0.1\\\", \\\"quantile_0.25\\\"], \\\"eval_fairness_grouping\\\": [\\\"majority-minority\\\", \\\"nationality-all\\\"], \\\"exclude_features\\\": \\\"none\\\", \\\"exclude_subgroups\\\": \\\"keep-all\\\", \\\"model\\\": \\\"elasticnet\\\", \\\"scale\\\": \\\"scale\\\", \\\"training_size\\\": \\\"5k\\\", \\\"training_year\\\": \\\"2014\\\"}\"\n",
    "output_dir = \"output\"\n",
    "seed = \"2023\"\n"
   ]
  },
  {
   "cell_type": "code",
   "execution_count": 5,
   "id": "1650acaf",
   "metadata": {
    "execution": {
     "iopub.execute_input": "2025-07-30T13:45:22.150035Z",
     "iopub.status.busy": "2025-07-30T13:45:22.149393Z",
     "iopub.status.idle": "2025-07-30T13:45:22.154398Z",
     "shell.execute_reply": "2025-07-30T13:45:22.153582Z"
    },
    "papermill": {
     "duration": 0.026564,
     "end_time": "2025-07-30T13:45:22.155885",
     "exception": false,
     "start_time": "2025-07-30T13:45:22.129321",
     "status": "completed"
    },
    "tags": []
   },
   "outputs": [],
   "source": [
    "import json\n",
    "# Parse universe into dict if it is passed as a string\n",
    "if isinstance(universe, str):\n",
    "    universe = json.loads(universe)"
   ]
  },
  {
   "cell_type": "code",
   "execution_count": 6,
   "id": "16620c48",
   "metadata": {
    "execution": {
     "iopub.execute_input": "2025-07-30T13:45:22.196603Z",
     "iopub.status.busy": "2025-07-30T13:45:22.195898Z",
     "iopub.status.idle": "2025-07-30T13:45:22.238240Z",
     "shell.execute_reply": "2025-07-30T13:45:22.237421Z"
    },
    "papermill": {
     "duration": 0.064551,
     "end_time": "2025-07-30T13:45:22.240190",
     "exception": false,
     "start_time": "2025-07-30T13:45:22.175639",
     "status": "completed"
    },
    "tags": []
   },
   "outputs": [],
   "source": [
    "# Auto-reload the custom package\n",
    "%load_ext autoreload\n",
    "%autoreload 1\n",
    "%aimport fairness_multiverse"
   ]
  },
  {
   "cell_type": "code",
   "execution_count": 7,
   "id": "01c5c9f3",
   "metadata": {
    "execution": {
     "iopub.execute_input": "2025-07-30T13:45:22.283786Z",
     "iopub.status.busy": "2025-07-30T13:45:22.283134Z",
     "iopub.status.idle": "2025-07-30T13:45:25.316674Z",
     "shell.execute_reply": "2025-07-30T13:45:25.315770Z"
    },
    "papermill": {
     "duration": 3.058592,
     "end_time": "2025-07-30T13:45:25.318423",
     "exception": false,
     "start_time": "2025-07-30T13:45:22.259831",
     "status": "completed"
    },
    "tags": []
   },
   "outputs": [],
   "source": [
    "from fairness_multiverse.universe import UniverseAnalysis\n",
    "\n",
    "universe_analysis = UniverseAnalysis(\n",
    "    run_no = run_no,\n",
    "    universe_id = universe_id,\n",
    "    universe = universe,\n",
    "    output_dir=output_dir,\n",
    ")"
   ]
  },
  {
   "cell_type": "code",
   "execution_count": 8,
   "id": "106241f5",
   "metadata": {
    "execution": {
     "iopub.execute_input": "2025-07-30T13:45:25.356527Z",
     "iopub.status.busy": "2025-07-30T13:45:25.356116Z",
     "iopub.status.idle": "2025-07-30T13:45:25.361839Z",
     "shell.execute_reply": "2025-07-30T13:45:25.360987Z"
    },
    "papermill": {
     "duration": 0.026779,
     "end_time": "2025-07-30T13:45:25.363793",
     "exception": false,
     "start_time": "2025-07-30T13:45:25.337014",
     "status": "completed"
    },
    "tags": []
   },
   "outputs": [
    {
     "name": "stdout",
     "output_type": "stream",
     "text": [
      "Using Seed: 2023\n"
     ]
    }
   ],
   "source": [
    "import numpy as np\n",
    "parsed_seed = int(seed)\n",
    "np.random.seed(parsed_seed)\n",
    "print(f\"Using Seed: {parsed_seed}\")"
   ]
  },
  {
   "cell_type": "markdown",
   "id": "e0ebdc57",
   "metadata": {
    "papermill": {
     "duration": 0.01811,
     "end_time": "2025-07-30T13:45:25.400634",
     "exception": false,
     "start_time": "2025-07-30T13:45:25.382524",
     "status": "completed"
    },
    "tags": []
   },
   "source": [
    "# Loading Data"
   ]
  },
  {
   "cell_type": "markdown",
   "id": "681925a3",
   "metadata": {
    "papermill": {
     "duration": 0.018153,
     "end_time": "2025-07-30T13:45:25.436741",
     "exception": false,
     "start_time": "2025-07-30T13:45:25.418588",
     "status": "completed"
    },
    "tags": []
   },
   "source": [
    "Load siab_train, siab_test, siab_calib and/or \n",
    "load siab_train_features, siab_train_labels"
   ]
  },
  {
   "cell_type": "code",
   "execution_count": 9,
   "id": "f0496b8a",
   "metadata": {
    "execution": {
     "iopub.execute_input": "2025-07-30T13:45:25.476131Z",
     "iopub.status.busy": "2025-07-30T13:45:25.475613Z",
     "iopub.status.idle": "2025-07-30T13:45:37.298986Z",
     "shell.execute_reply": "2025-07-30T13:45:37.297817Z"
    },
    "papermill": {
     "duration": 11.845222,
     "end_time": "2025-07-30T13:45:37.300729",
     "exception": false,
     "start_time": "2025-07-30T13:45:25.455507",
     "status": "completed"
    },
    "tags": []
   },
   "outputs": [
    {
     "name": "stdout",
     "output_type": "stream",
     "text": [
      "Loading SIAB data from cache: data/siab_cached.csv.gz\n"
     ]
    },
    {
     "name": "stdout",
     "output_type": "stream",
     "text": [
      "(643690, 164)\n"
     ]
    }
   ],
   "source": [
    "from pathlib import Path\n",
    "import pandas as pd\n",
    "\n",
    "# File paths\n",
    "raw_file = Path(\"data/raw/siab.csv\")\n",
    "cache_file = Path(\"data/siab_cached.csv.gz\")\n",
    "\n",
    "# Ensure cache directory exists\n",
    "cache_file.parent.mkdir(parents=True, exist_ok=True)\n",
    "\n",
    "# Load with simple caching\n",
    "if cache_file.exists():\n",
    "    print(f\"Loading SIAB data from cache: {cache_file}\")\n",
    "    siab = pd.read_csv(cache_file, compression='gzip')\n",
    "else:\n",
    "    print(f\"Cache not found. Reading raw SIAB data: {raw_file}\")\n",
    "    siab = pd.read_csv(raw_file)\n",
    "    siab.to_csv(cache_file, index=False, compression='gzip')\n",
    "    print(f\"Cached SIAB data to: {cache_file}\")\n",
    "\n",
    "# Now use `siab` DataFrame as needed\n",
    "print(siab.shape)"
   ]
  },
  {
   "cell_type": "code",
   "execution_count": 10,
   "id": "db0ca512-5f53-4dba-abdb-a2888bca41ba",
   "metadata": {
    "execution": {
     "iopub.execute_input": "2025-07-30T13:45:37.351681Z",
     "iopub.status.busy": "2025-07-30T13:45:37.351164Z",
     "iopub.status.idle": "2025-07-30T13:45:37.357544Z",
     "shell.execute_reply": "2025-07-30T13:45:37.356541Z"
    },
    "papermill": {
     "duration": 0.033225,
     "end_time": "2025-07-30T13:45:37.359797",
     "exception": false,
     "start_time": "2025-07-30T13:45:37.326572",
     "status": "completed"
    },
    "tags": []
   },
   "outputs": [],
   "source": [
    "#siab"
   ]
  },
  {
   "cell_type": "code",
   "execution_count": 11,
   "id": "a0edb063",
   "metadata": {
    "execution": {
     "iopub.execute_input": "2025-07-30T13:45:37.415507Z",
     "iopub.status.busy": "2025-07-30T13:45:37.415049Z",
     "iopub.status.idle": "2025-07-30T13:45:37.420146Z",
     "shell.execute_reply": "2025-07-30T13:45:37.419208Z"
    },
    "papermill": {
     "duration": 0.033343,
     "end_time": "2025-07-30T13:45:37.421627",
     "exception": false,
     "start_time": "2025-07-30T13:45:37.388284",
     "status": "completed"
    },
    "tags": []
   },
   "outputs": [],
   "source": [
    "#import pandas as pd\n",
    "#\n",
    "#X_train = pd.read_csv(\"./data/X_train.csv\")\n",
    "#y_train = pd.read_csv(\"./data/y_train.csv\")"
   ]
  },
  {
   "cell_type": "code",
   "execution_count": 12,
   "id": "63d08085",
   "metadata": {
    "execution": {
     "iopub.execute_input": "2025-07-30T13:45:37.461221Z",
     "iopub.status.busy": "2025-07-30T13:45:37.460763Z",
     "iopub.status.idle": "2025-07-30T13:45:37.465597Z",
     "shell.execute_reply": "2025-07-30T13:45:37.464802Z"
    },
    "papermill": {
     "duration": 0.026035,
     "end_time": "2025-07-30T13:45:37.467042",
     "exception": false,
     "start_time": "2025-07-30T13:45:37.441007",
     "status": "completed"
    },
    "tags": []
   },
   "outputs": [],
   "source": [
    "#X_test = pd.read_csv(\"./data/X_test.csv\")\n",
    "#y_true = pd.read_csv(\"./data/y_test.csv\")"
   ]
  },
  {
   "cell_type": "code",
   "execution_count": 13,
   "id": "98a8d0fa-1d3d-4ed8-bb2c-281470e24add",
   "metadata": {
    "execution": {
     "iopub.execute_input": "2025-07-30T13:45:37.507354Z",
     "iopub.status.busy": "2025-07-30T13:45:37.506664Z",
     "iopub.status.idle": "2025-07-30T13:45:37.511714Z",
     "shell.execute_reply": "2025-07-30T13:45:37.510809Z"
    },
    "papermill": {
     "duration": 0.026703,
     "end_time": "2025-07-30T13:45:37.513224",
     "exception": false,
     "start_time": "2025-07-30T13:45:37.486521",
     "status": "completed"
    },
    "tags": []
   },
   "outputs": [],
   "source": [
    "# Calibration data for conformal\n",
    "#X_calib = pd.read_csv(\"./data/X_calib.csv\")\n",
    "#y_calib = pd.read_csv(\"./data/y_calib.csv\")"
   ]
  },
  {
   "cell_type": "markdown",
   "id": "997051c5-15bd-4b69-9786-c3001a3ce484",
   "metadata": {
    "papermill": {
     "duration": 0.018608,
     "end_time": "2025-07-30T13:45:37.551487",
     "exception": false,
     "start_time": "2025-07-30T13:45:37.532879",
     "status": "completed"
    },
    "tags": []
   },
   "source": [
    "# Splitting Data and Setting Training Data Size"
   ]
  },
  {
   "cell_type": "code",
   "execution_count": 14,
   "id": "e993b61f-042d-41a6-8c81-f55681f86335",
   "metadata": {
    "execution": {
     "iopub.execute_input": "2025-07-30T13:45:37.590618Z",
     "iopub.status.busy": "2025-07-30T13:45:37.589966Z",
     "iopub.status.idle": "2025-07-30T13:45:37.602884Z",
     "shell.execute_reply": "2025-07-30T13:45:37.602032Z"
    },
    "papermill": {
     "duration": 0.034375,
     "end_time": "2025-07-30T13:45:37.604601",
     "exception": false,
     "start_time": "2025-07-30T13:45:37.570226",
     "status": "completed"
    },
    "tags": []
   },
   "outputs": [],
   "source": [
    "def sample_by_year_size(df,\n",
    "                        training_year: str,\n",
    "                        training_size: str,\n",
    "                        random_state: int = 42):\n",
    "    # --- parse training_year into a list of int years ---\n",
    "    if \"_\" in training_year:\n",
    "        start_str, end_str = training_year.split(\"_\", 1)\n",
    "        start = int(start_str)\n",
    "        end   = int(end_str) if len(end_str) == 4 else (int(end_str) + (start // 100)*100)\n",
    "        years = list(range(start, end + 1))\n",
    "    else:\n",
    "        years = [int(training_year)]\n",
    "\n",
    "    df = df[df[\"year\"].isin(years)].reset_index(drop=True)\n",
    "\n",
    "    # --- map training_size to total number of samples ---\n",
    "    total_map = {\"25k\": 25_000, \"5k\": 5_000, \"1k\": 1_000}\n",
    "    if training_size not in total_map:\n",
    "        return df  # e.g. \"all\"\n",
    "\n",
    "    total_samples = total_map[training_size]\n",
    "    n_years       = len(years)\n",
    "    base          = total_samples // n_years\n",
    "    remainder     = total_samples % n_years\n",
    "\n",
    "    # --- build a dict: year -> how many to sample ---\n",
    "    # give +1 to the first `remainder` years in ascending order\n",
    "    quotas = {\n",
    "        year: base + (1 if idx < remainder else 0)\n",
    "        for idx, year in enumerate(sorted(years))\n",
    "    }\n",
    "\n",
    "    # --- sample per‐year according to the quota dict ---\n",
    "    sampled = (\n",
    "        df\n",
    "        .groupby(\"year\", group_keys=False)\n",
    "        .apply(lambda grp: grp.sample(\n",
    "            n=min(len(grp), quotas[grp.name]),\n",
    "            random_state=random_state))\n",
    "        .reset_index(drop=True)\n",
    "    )\n",
    "\n",
    "    return sampled"
   ]
  },
  {
   "cell_type": "code",
   "execution_count": 15,
   "id": "c0ccd338-0e02-41f3-a09d-f56f9266e3fb",
   "metadata": {
    "execution": {
     "iopub.execute_input": "2025-07-30T13:45:37.645653Z",
     "iopub.status.busy": "2025-07-30T13:45:37.645008Z",
     "iopub.status.idle": "2025-07-30T13:45:37.655660Z",
     "shell.execute_reply": "2025-07-30T13:45:37.654794Z"
    },
    "papermill": {
     "duration": 0.032457,
     "end_time": "2025-07-30T13:45:37.657457",
     "exception": false,
     "start_time": "2025-07-30T13:45:37.625000",
     "status": "completed"
    },
    "tags": []
   },
   "outputs": [
    {
     "data": {
      "text/plain": [
       "'5k'"
      ]
     },
     "execution_count": 15,
     "metadata": {},
     "output_type": "execute_result"
    }
   ],
   "source": [
    "universe[\"training_size\"]"
   ]
  },
  {
   "cell_type": "code",
   "execution_count": 16,
   "id": "ca707fd7-8047-4acd-bfa5-66248fbbf8e6",
   "metadata": {
    "execution": {
     "iopub.execute_input": "2025-07-30T13:45:37.700647Z",
     "iopub.status.busy": "2025-07-30T13:45:37.700189Z",
     "iopub.status.idle": "2025-07-30T13:45:37.706564Z",
     "shell.execute_reply": "2025-07-30T13:45:37.705785Z"
    },
    "papermill": {
     "duration": 0.028672,
     "end_time": "2025-07-30T13:45:37.708099",
     "exception": false,
     "start_time": "2025-07-30T13:45:37.679427",
     "status": "completed"
    },
    "tags": []
   },
   "outputs": [
    {
     "data": {
      "text/plain": [
       "'2014'"
      ]
     },
     "execution_count": 16,
     "metadata": {},
     "output_type": "execute_result"
    }
   ],
   "source": [
    "universe[\"training_year\"]"
   ]
  },
  {
   "cell_type": "code",
   "execution_count": 17,
   "id": "aea9c6ef-6f46-42c8-85eb-5a62025c1508",
   "metadata": {
    "execution": {
     "iopub.execute_input": "2025-07-30T13:45:37.750377Z",
     "iopub.status.busy": "2025-07-30T13:45:37.749729Z",
     "iopub.status.idle": "2025-07-30T13:45:37.932455Z",
     "shell.execute_reply": "2025-07-30T13:45:37.931578Z"
    },
    "papermill": {
     "duration": 0.205658,
     "end_time": "2025-07-30T13:45:37.934223",
     "exception": false,
     "start_time": "2025-07-30T13:45:37.728565",
     "status": "completed"
    },
    "tags": []
   },
   "outputs": [],
   "source": [
    "siab_train = sample_by_year_size(siab,\n",
    "                               training_year=universe[\"training_year\"],\n",
    "                               training_size=universe[\"training_size\"])"
   ]
  },
  {
   "cell_type": "code",
   "execution_count": 18,
   "id": "8d3afb32-789d-442c-8d5d-9f5aa8dd2eed",
   "metadata": {
    "execution": {
     "iopub.execute_input": "2025-07-30T13:45:37.976314Z",
     "iopub.status.busy": "2025-07-30T13:45:37.975639Z",
     "iopub.status.idle": "2025-07-30T13:45:37.982480Z",
     "shell.execute_reply": "2025-07-30T13:45:37.981633Z"
    },
    "papermill": {
     "duration": 0.029649,
     "end_time": "2025-07-30T13:45:37.983924",
     "exception": false,
     "start_time": "2025-07-30T13:45:37.954275",
     "status": "completed"
    },
    "tags": []
   },
   "outputs": [
    {
     "data": {
      "text/plain": [
       "(5000, 164)"
      ]
     },
     "execution_count": 18,
     "metadata": {},
     "output_type": "execute_result"
    }
   ],
   "source": [
    "siab_train.shape"
   ]
  },
  {
   "cell_type": "code",
   "execution_count": 19,
   "id": "d582db68-1a4c-47fb-84fc-08518dc1975a",
   "metadata": {
    "execution": {
     "iopub.execute_input": "2025-07-30T13:45:38.071914Z",
     "iopub.status.busy": "2025-07-30T13:45:38.071260Z",
     "iopub.status.idle": "2025-07-30T13:45:38.080694Z",
     "shell.execute_reply": "2025-07-30T13:45:38.079816Z"
    },
    "papermill": {
     "duration": 0.076691,
     "end_time": "2025-07-30T13:45:38.082367",
     "exception": false,
     "start_time": "2025-07-30T13:45:38.005676",
     "status": "completed"
    },
    "tags": []
   },
   "outputs": [
    {
     "data": {
      "text/plain": [
       "year\n",
       "2014    5000\n",
       "dtype: int64"
      ]
     },
     "metadata": {},
     "output_type": "display_data"
    }
   ],
   "source": [
    "display(siab_train.groupby(\"year\").size())"
   ]
  },
  {
   "cell_type": "code",
   "execution_count": 20,
   "id": "a561edb4-d032-42cb-8256-22eac1111c64",
   "metadata": {
    "execution": {
     "iopub.execute_input": "2025-07-30T13:45:38.125440Z",
     "iopub.status.busy": "2025-07-30T13:45:38.124796Z",
     "iopub.status.idle": "2025-07-30T13:45:38.322621Z",
     "shell.execute_reply": "2025-07-30T13:45:38.321625Z"
    },
    "papermill": {
     "duration": 0.221591,
     "end_time": "2025-07-30T13:45:38.324576",
     "exception": false,
     "start_time": "2025-07-30T13:45:38.102985",
     "status": "completed"
    },
    "tags": []
   },
   "outputs": [],
   "source": [
    "#siab_train = siab_s[siab_s.year < 2015]\n",
    "siab_calib = siab[siab.year == 2015]\n",
    "siab_test = siab[siab.year == 2016]"
   ]
  },
  {
   "cell_type": "code",
   "execution_count": 21,
   "id": "472de16f-c3db-4916-846b-1f0de9cf1746",
   "metadata": {
    "execution": {
     "iopub.execute_input": "2025-07-30T13:45:38.368947Z",
     "iopub.status.busy": "2025-07-30T13:45:38.368279Z",
     "iopub.status.idle": "2025-07-30T13:45:38.376576Z",
     "shell.execute_reply": "2025-07-30T13:45:38.375654Z"
    },
    "papermill": {
     "duration": 0.031181,
     "end_time": "2025-07-30T13:45:38.378119",
     "exception": false,
     "start_time": "2025-07-30T13:45:38.346938",
     "status": "completed"
    },
    "tags": []
   },
   "outputs": [],
   "source": [
    "X_train = siab_train.iloc[:,4:164]\n",
    "y_train = siab_train.iloc[:, [3]]"
   ]
  },
  {
   "cell_type": "code",
   "execution_count": 22,
   "id": "828c96af-f43a-4ed6-ba47-8ac73a47d56c",
   "metadata": {
    "execution": {
     "iopub.execute_input": "2025-07-30T13:45:38.421676Z",
     "iopub.status.busy": "2025-07-30T13:45:38.421030Z",
     "iopub.status.idle": "2025-07-30T13:45:38.469626Z",
     "shell.execute_reply": "2025-07-30T13:45:38.468489Z"
    },
    "papermill": {
     "duration": 0.07174,
     "end_time": "2025-07-30T13:45:38.471390",
     "exception": false,
     "start_time": "2025-07-30T13:45:38.399650",
     "status": "completed"
    },
    "tags": []
   },
   "outputs": [],
   "source": [
    "X_calib = siab_calib.iloc[:,4:164]\n",
    "y_calib = siab_calib.iloc[:, [3]]"
   ]
  },
  {
   "cell_type": "code",
   "execution_count": 23,
   "id": "c34be9c3-6bd6-476e-acd3-845840e303be",
   "metadata": {
    "execution": {
     "iopub.execute_input": "2025-07-30T13:45:38.515252Z",
     "iopub.status.busy": "2025-07-30T13:45:38.514573Z",
     "iopub.status.idle": "2025-07-30T13:45:38.565781Z",
     "shell.execute_reply": "2025-07-30T13:45:38.564739Z"
    },
    "papermill": {
     "duration": 0.074215,
     "end_time": "2025-07-30T13:45:38.567393",
     "exception": false,
     "start_time": "2025-07-30T13:45:38.493178",
     "status": "completed"
    },
    "tags": []
   },
   "outputs": [],
   "source": [
    "X_test = siab_test.iloc[:,4:164]\n",
    "y_true = siab_test.iloc[:, [3]]"
   ]
  },
  {
   "cell_type": "markdown",
   "id": "9901737e-04df-44f0-9100-f5ad144ed040",
   "metadata": {
    "papermill": {
     "duration": 0.01998,
     "end_time": "2025-07-30T13:45:38.609180",
     "exception": false,
     "start_time": "2025-07-30T13:45:38.589200",
     "status": "completed"
    },
    "tags": []
   },
   "source": [
    "# Splitting Data and Setting Training Data Size OLD VERSION"
   ]
  },
  {
   "cell_type": "code",
   "execution_count": 24,
   "id": "acbc8f7d-8fc8-4e86-8c59-5dcb0f58384b",
   "metadata": {
    "execution": {
     "iopub.execute_input": "2025-07-30T13:45:38.653169Z",
     "iopub.status.busy": "2025-07-30T13:45:38.652525Z",
     "iopub.status.idle": "2025-07-30T13:45:38.657808Z",
     "shell.execute_reply": "2025-07-30T13:45:38.656929Z"
    },
    "papermill": {
     "duration": 0.029103,
     "end_time": "2025-07-30T13:45:38.659334",
     "exception": false,
     "start_time": "2025-07-30T13:45:38.630231",
     "status": "completed"
    },
    "tags": []
   },
   "outputs": [],
   "source": [
    "#def sample_by_year(df, training_size, random_state=42):\n",
    "#    if training_size == \"2014\":\n",
    "#        return df[df[\"year\"] == 2014].reset_index(drop=True)\n",
    "#    \n",
    "#    size_map = {\n",
    "#        \"25k\": 5000,\n",
    "#        \"5k\": 1000,\n",
    "#        \"1k\": 200\n",
    "#    }\n",
    "#\n",
    "#    if training_size not in size_map:\n",
    "#        return df.reset_index(drop=True)  # use all data\n",
    "#\n",
    "#    n_per_year = size_map[training_size]\n",
    "#    grouped = df.groupby(\"year\")\n",
    "#    sampled = grouped.apply(lambda x: x.sample(n=min(n_per_year, len(x)), random_state=random_state))\n",
    "#    return sampled.reset_index(drop=True)"
   ]
  },
  {
   "cell_type": "code",
   "execution_count": 25,
   "id": "6d931f52-beaf-43ff-9e78-9d44a448d54e",
   "metadata": {
    "execution": {
     "iopub.execute_input": "2025-07-30T13:45:38.703268Z",
     "iopub.status.busy": "2025-07-30T13:45:38.702619Z",
     "iopub.status.idle": "2025-07-30T13:45:38.707545Z",
     "shell.execute_reply": "2025-07-30T13:45:38.706612Z"
    },
    "papermill": {
     "duration": 0.02888,
     "end_time": "2025-07-30T13:45:38.709077",
     "exception": false,
     "start_time": "2025-07-30T13:45:38.680197",
     "status": "completed"
    },
    "tags": []
   },
   "outputs": [],
   "source": [
    "#siab_s = sample_by_year(siab, universe[\"training_size\"])"
   ]
  },
  {
   "cell_type": "code",
   "execution_count": 26,
   "id": "5db0a40e-a4e2-4920-be85-b12ae061d70d",
   "metadata": {
    "execution": {
     "iopub.execute_input": "2025-07-30T13:45:38.753121Z",
     "iopub.status.busy": "2025-07-30T13:45:38.752476Z",
     "iopub.status.idle": "2025-07-30T13:45:38.757375Z",
     "shell.execute_reply": "2025-07-30T13:45:38.756456Z"
    },
    "papermill": {
     "duration": 0.028698,
     "end_time": "2025-07-30T13:45:38.758962",
     "exception": false,
     "start_time": "2025-07-30T13:45:38.730264",
     "status": "completed"
    },
    "tags": []
   },
   "outputs": [],
   "source": [
    "#display(siab_s.groupby(\"year\").size())"
   ]
  },
  {
   "cell_type": "code",
   "execution_count": 27,
   "id": "e6c733c5",
   "metadata": {
    "execution": {
     "iopub.execute_input": "2025-07-30T13:45:38.802247Z",
     "iopub.status.busy": "2025-07-30T13:45:38.801591Z",
     "iopub.status.idle": "2025-07-30T13:45:38.893176Z",
     "shell.execute_reply": "2025-07-30T13:45:38.892244Z"
    },
    "papermill": {
     "duration": 0.115038,
     "end_time": "2025-07-30T13:45:38.895114",
     "exception": false,
     "start_time": "2025-07-30T13:45:38.780076",
     "status": "completed"
    },
    "tags": []
   },
   "outputs": [],
   "source": [
    "# Auxiliary data needed downstream in the pipeline\n",
    "\n",
    "org_train = X_train.copy()\n",
    "org_test = X_test.copy()\n",
    "org_calib = X_calib.copy()"
   ]
  },
  {
   "cell_type": "code",
   "execution_count": 28,
   "id": "1466abac-c6da-4492-a62f-4240ae3783af",
   "metadata": {
    "execution": {
     "iopub.execute_input": "2025-07-30T13:45:38.938547Z",
     "iopub.status.busy": "2025-07-30T13:45:38.937895Z",
     "iopub.status.idle": "2025-07-30T13:45:38.943483Z",
     "shell.execute_reply": "2025-07-30T13:45:38.942573Z"
    },
    "papermill": {
     "duration": 0.028976,
     "end_time": "2025-07-30T13:45:38.945052",
     "exception": false,
     "start_time": "2025-07-30T13:45:38.916076",
     "status": "completed"
    },
    "tags": []
   },
   "outputs": [],
   "source": [
    "# put in other script?\n",
    "# Group sizes\n",
    "\n",
    "#def calculate_percentages(df, df_name):\n",
    "#    total_entries = len(df)\n",
    "#\n",
    "#    female_pct = (df['frau1'] == 1).mean() * 100\n",
    "#    non_german_pct = ((df['maxdeutsch1'] == 0) & (df['maxdeutsch.Missing.'] == 0)).mean() * 100\n",
    "#    non_german_male_pct = ((df['frau1'] == 0) & (df['maxdeutsch1'] == 0) & (df['maxdeutsch.Missing.'] == 0)).mean() * 100\n",
    "#    non_german_female_pct = ((df['frau1'] == 1) & (df['maxdeutsch1'] == 0) & (df['maxdeutsch.Missing.'] == 0)).mean() * 100\n",
    "#\n",
    "#    print(f\"--- {df_name} ---\")\n",
    "#    print(f\"Female: {female_pct:.2f}%\")\n",
    "#    print(f\"Non-German: {non_german_pct:.2f}%\")\n",
    "#    print(f\"Non-German Male: {non_german_male_pct:.2f}%\")\n",
    "#    print(f\"Non-German Female: {non_german_female_pct:.2f}%\\n\")\n",
    "#\n",
    "## Calculate for each DataFrame\n",
    "#calculate_percentages(siab_calib, \"siab_calib\")\n",
    "#calculate_percentages(siab_test, \"siab_test\")\n",
    "#calculate_percentages(siab_train, \"siab_train\")"
   ]
  },
  {
   "cell_type": "markdown",
   "id": "0a4a1b33",
   "metadata": {
    "papermill": {
     "duration": 0.020244,
     "end_time": "2025-07-30T13:45:38.985903",
     "exception": false,
     "start_time": "2025-07-30T13:45:38.965659",
     "status": "completed"
    },
    "tags": []
   },
   "source": [
    "# Preprocessing Data"
   ]
  },
  {
   "cell_type": "code",
   "execution_count": 29,
   "id": "ca879031",
   "metadata": {
    "execution": {
     "iopub.execute_input": "2025-07-30T13:45:39.027817Z",
     "iopub.status.busy": "2025-07-30T13:45:39.027169Z",
     "iopub.status.idle": "2025-07-30T13:45:39.033204Z",
     "shell.execute_reply": "2025-07-30T13:45:39.032194Z"
    },
    "papermill": {
     "duration": 0.028984,
     "end_time": "2025-07-30T13:45:39.034853",
     "exception": false,
     "start_time": "2025-07-30T13:45:39.005869",
     "status": "completed"
    },
    "tags": []
   },
   "outputs": [],
   "source": [
    "# EXCLUDE PROTECTED FEATURES\n",
    "# ----------------------\n",
    "# \"exclude_features\": \"none\", # \"nationality\", \"sex\", \"nationality-sex\"\n",
    "\n",
    "excluded_features = universe[\"exclude_features\"].split(\"-\") # split, e.g.: \"nationality-sex\" -> [\"nationality\", \"sex\"]\n",
    "excluded_features_dictionary = {\n",
    "    \"nationality\": [\"maxdeutsch1\", \"maxdeutsch.Missing.\"],\n",
    "    \"sex\": [\"frau1\"],\n",
    "    \"age\": [\"age\"],\n",
    "}\n"
   ]
  },
  {
   "cell_type": "code",
   "execution_count": 30,
   "id": "b745ac60",
   "metadata": {
    "execution": {
     "iopub.execute_input": "2025-07-30T13:45:39.077654Z",
     "iopub.status.busy": "2025-07-30T13:45:39.077014Z",
     "iopub.status.idle": "2025-07-30T13:45:39.082632Z",
     "shell.execute_reply": "2025-07-30T13:45:39.081712Z"
    },
    "papermill": {
     "duration": 0.028712,
     "end_time": "2025-07-30T13:45:39.084353",
     "exception": false,
     "start_time": "2025-07-30T13:45:39.055641",
     "status": "completed"
    },
    "tags": []
   },
   "outputs": [],
   "source": [
    "# Code nice names to column names\n",
    "\n",
    "excluded_features_columns = [\n",
    "    excluded_features_dictionary[f] for f in excluded_features if len(f) > 0 and f != \"none\"\n",
    "]"
   ]
  },
  {
   "cell_type": "code",
   "execution_count": 31,
   "id": "f84f73a2",
   "metadata": {
    "execution": {
     "iopub.execute_input": "2025-07-30T13:45:39.127890Z",
     "iopub.status.busy": "2025-07-30T13:45:39.127005Z",
     "iopub.status.idle": "2025-07-30T13:45:39.135009Z",
     "shell.execute_reply": "2025-07-30T13:45:39.134010Z"
    },
    "papermill": {
     "duration": 0.031387,
     "end_time": "2025-07-30T13:45:39.136628",
     "exception": false,
     "start_time": "2025-07-30T13:45:39.105241",
     "status": "completed"
    },
    "tags": []
   },
   "outputs": [],
   "source": [
    "from utils import flatten_once\n",
    "\n",
    "excluded_features_columns = flatten_once(excluded_features_columns)"
   ]
  },
  {
   "cell_type": "code",
   "execution_count": 32,
   "id": "884dea22",
   "metadata": {
    "execution": {
     "iopub.execute_input": "2025-07-30T13:45:39.181305Z",
     "iopub.status.busy": "2025-07-30T13:45:39.180617Z",
     "iopub.status.idle": "2025-07-30T13:45:39.186190Z",
     "shell.execute_reply": "2025-07-30T13:45:39.185326Z"
    },
    "papermill": {
     "duration": 0.029441,
     "end_time": "2025-07-30T13:45:39.187630",
     "exception": false,
     "start_time": "2025-07-30T13:45:39.158189",
     "status": "completed"
    },
    "tags": []
   },
   "outputs": [],
   "source": [
    "if len(excluded_features_columns) > 0:\n",
    "    print(f\"Dropping features: {excluded_features_columns}\")\n",
    "    X_train.drop(excluded_features_columns, axis=1, inplace=True)"
   ]
  },
  {
   "cell_type": "code",
   "execution_count": 33,
   "id": "95ab8b16",
   "metadata": {
    "execution": {
     "iopub.execute_input": "2025-07-30T13:45:39.231869Z",
     "iopub.status.busy": "2025-07-30T13:45:39.231176Z",
     "iopub.status.idle": "2025-07-30T13:45:39.236811Z",
     "shell.execute_reply": "2025-07-30T13:45:39.235880Z"
    },
    "papermill": {
     "duration": 0.02955,
     "end_time": "2025-07-30T13:45:39.238292",
     "exception": false,
     "start_time": "2025-07-30T13:45:39.208742",
     "status": "completed"
    },
    "tags": []
   },
   "outputs": [],
   "source": [
    "if len(excluded_features_columns) > 0:\n",
    "    print(f\"Dropping features: {excluded_features_columns}\")\n",
    "    X_test.drop(excluded_features_columns, axis=1, inplace=True)"
   ]
  },
  {
   "cell_type": "code",
   "execution_count": 34,
   "id": "1853aaf5-fb9f-46cb-a2b5-8ea4ae2237e4",
   "metadata": {
    "execution": {
     "iopub.execute_input": "2025-07-30T13:45:39.282722Z",
     "iopub.status.busy": "2025-07-30T13:45:39.282034Z",
     "iopub.status.idle": "2025-07-30T13:45:39.287961Z",
     "shell.execute_reply": "2025-07-30T13:45:39.286980Z"
    },
    "papermill": {
     "duration": 0.029721,
     "end_time": "2025-07-30T13:45:39.289508",
     "exception": false,
     "start_time": "2025-07-30T13:45:39.259787",
     "status": "completed"
    },
    "tags": []
   },
   "outputs": [],
   "source": [
    "if len(excluded_features_columns) > 0:\n",
    "    print(f\"Dropping features: {excluded_features_columns}\")\n",
    "    X_calib.drop(excluded_features_columns, axis=1, inplace=True)"
   ]
  },
  {
   "cell_type": "code",
   "execution_count": 35,
   "id": "6727d079-03e5-481e-9d38-292a90b7a0a8",
   "metadata": {
    "execution": {
     "iopub.execute_input": "2025-07-30T13:45:39.333800Z",
     "iopub.status.busy": "2025-07-30T13:45:39.333149Z",
     "iopub.status.idle": "2025-07-30T13:45:39.337875Z",
     "shell.execute_reply": "2025-07-30T13:45:39.336971Z"
    },
    "papermill": {
     "duration": 0.028491,
     "end_time": "2025-07-30T13:45:39.339385",
     "exception": false,
     "start_time": "2025-07-30T13:45:39.310894",
     "status": "completed"
    },
    "tags": []
   },
   "outputs": [],
   "source": [
    "# SPLIT & STRATIFY DATA\n",
    "# ----------------------"
   ]
  },
  {
   "cell_type": "code",
   "execution_count": 36,
   "id": "76c4dc6d",
   "metadata": {
    "execution": {
     "iopub.execute_input": "2025-07-30T13:45:39.384249Z",
     "iopub.status.busy": "2025-07-30T13:45:39.383581Z",
     "iopub.status.idle": "2025-07-30T13:45:39.388813Z",
     "shell.execute_reply": "2025-07-30T13:45:39.387938Z"
    },
    "papermill": {
     "duration": 0.029122,
     "end_time": "2025-07-30T13:45:39.390288",
     "exception": false,
     "start_time": "2025-07-30T13:45:39.361166",
     "status": "completed"
    },
    "tags": []
   },
   "outputs": [],
   "source": [
    "# EXCLUDE CERTAIN SUBGROUPS\n",
    "# ----------------------\n",
    "\n",
    "mode = universe.get(\"exclude_subgroups\", \"keep-all\") \n",
    "# Fetches the exclude_subgroups setting from the universe dict.\n",
    "# Defaults to \"keep-all\" if the key is missing."
   ]
  },
  {
   "cell_type": "code",
   "execution_count": 37,
   "id": "21994072",
   "metadata": {
    "execution": {
     "iopub.execute_input": "2025-07-30T13:45:39.435086Z",
     "iopub.status.busy": "2025-07-30T13:45:39.434182Z",
     "iopub.status.idle": "2025-07-30T13:45:39.441035Z",
     "shell.execute_reply": "2025-07-30T13:45:39.440068Z"
    },
    "papermill": {
     "duration": 0.030889,
     "end_time": "2025-07-30T13:45:39.442711",
     "exception": false,
     "start_time": "2025-07-30T13:45:39.411822",
     "status": "completed"
    },
    "tags": []
   },
   "outputs": [],
   "source": [
    "if mode == \"keep-all\":\n",
    "    keep_mask = pd.Series(True, index=org_train.index)\n",
    "\n",
    "# org_train contains the original feature columns from features_org (in Simson)\n",
    "# features_org contains unprocessed features, for me X_train at beginning ???\n",
    "# For keep-all, creates a boolean Series (keep_mask) of all True, so no rows are removed.\n",
    "\n",
    "elif mode == \"drop-non-german\":\n",
    "    keep_mask = org_train[\"maxdeutsch1\"] == 1 # ??? what about missing values?\n",
    "\n",
    "else:\n",
    "    raise ValueError(f\"Unsupported mode for exclude_subgroups: {mode}\")\n"
   ]
  },
  {
   "cell_type": "code",
   "execution_count": 38,
   "id": "71651440",
   "metadata": {
    "execution": {
     "iopub.execute_input": "2025-07-30T13:45:39.487604Z",
     "iopub.status.busy": "2025-07-30T13:45:39.486948Z",
     "iopub.status.idle": "2025-07-30T13:45:39.493623Z",
     "shell.execute_reply": "2025-07-30T13:45:39.492443Z"
    },
    "papermill": {
     "duration": 0.030586,
     "end_time": "2025-07-30T13:45:39.495182",
     "exception": false,
     "start_time": "2025-07-30T13:45:39.464596",
     "status": "completed"
    },
    "tags": []
   },
   "outputs": [],
   "source": [
    "n_drop = (~keep_mask).sum() # Calculates how many rows are set to be dropped\n",
    "if n_drop > 0:\n",
    "    pct = n_drop / len(keep_mask) * 100\n",
    "    print(f\"Dropping {n_drop} rows ({pct:.2f}%) where mode='{mode}'\")"
   ]
  },
  {
   "cell_type": "code",
   "execution_count": 39,
   "id": "5fb8eee5",
   "metadata": {
    "execution": {
     "iopub.execute_input": "2025-07-30T13:45:39.540009Z",
     "iopub.status.busy": "2025-07-30T13:45:39.539360Z",
     "iopub.status.idle": "2025-07-30T13:45:39.547909Z",
     "shell.execute_reply": "2025-07-30T13:45:39.547045Z"
    },
    "papermill": {
     "duration": 0.032577,
     "end_time": "2025-07-30T13:45:39.549592",
     "exception": false,
     "start_time": "2025-07-30T13:45:39.517015",
     "status": "completed"
    },
    "tags": []
   },
   "outputs": [],
   "source": [
    "X_train = X_train[keep_mask]"
   ]
  },
  {
   "cell_type": "code",
   "execution_count": 40,
   "id": "b202bb3a",
   "metadata": {
    "execution": {
     "iopub.execute_input": "2025-07-30T13:45:39.594913Z",
     "iopub.status.busy": "2025-07-30T13:45:39.594267Z",
     "iopub.status.idle": "2025-07-30T13:45:39.600532Z",
     "shell.execute_reply": "2025-07-30T13:45:39.599668Z"
    },
    "papermill": {
     "duration": 0.030486,
     "end_time": "2025-07-30T13:45:39.602046",
     "exception": false,
     "start_time": "2025-07-30T13:45:39.571560",
     "status": "completed"
    },
    "tags": []
   },
   "outputs": [],
   "source": [
    "y_train = y_train[keep_mask]"
   ]
  },
  {
   "cell_type": "markdown",
   "id": "493e2ac3",
   "metadata": {
    "papermill": {
     "duration": 0.021434,
     "end_time": "2025-07-30T13:45:39.645253",
     "exception": false,
     "start_time": "2025-07-30T13:45:39.623819",
     "status": "completed"
    },
    "tags": []
   },
   "source": [
    "# Model Training"
   ]
  },
  {
   "cell_type": "code",
   "execution_count": 41,
   "id": "679e1268",
   "metadata": {
    "execution": {
     "iopub.execute_input": "2025-07-30T13:45:39.689764Z",
     "iopub.status.busy": "2025-07-30T13:45:39.689046Z",
     "iopub.status.idle": "2025-07-30T13:45:39.789901Z",
     "shell.execute_reply": "2025-07-30T13:45:39.788972Z"
    },
    "papermill": {
     "duration": 0.125404,
     "end_time": "2025-07-30T13:45:39.791788",
     "exception": false,
     "start_time": "2025-07-30T13:45:39.666384",
     "status": "completed"
    },
    "tags": []
   },
   "outputs": [],
   "source": [
    "from sklearn.linear_model import LogisticRegression\n",
    "from sklearn.ensemble import GradientBoostingClassifier, RandomForestClassifier\n",
    "\n",
    "if (universe[\"model\"] == \"logreg\"):\n",
    "    model = LogisticRegression() #penalty=\"none\") #, solver=\"newton-cg\", max_iter=1) # include random_state=19 ?\n",
    "elif (universe[\"model\"] == \"penalized_logreg\"):\n",
    "    model = LogisticRegression(penalty=\"l2\", C=1.0) #, solver=\"newton-cg\", max_iter=1)\n",
    "elif (universe[\"model\"] == \"rf\"):\n",
    "    model = RandomForestClassifier(n_estimators=100, n_jobs=-1)\n",
    "elif (universe[\"model\"] == \"gbm\"):\n",
    "    model = GradientBoostingClassifier()\n",
    "elif (universe[\"model\"] == \"elasticnet\"):\n",
    "    model = LogisticRegression(penalty = 'elasticnet', solver = 'saga', l1_ratio = 0.5, max_iter=5000) # which solver to use?\n",
    "else:\n",
    "    raise \"Unsupported universe.model\""
   ]
  },
  {
   "cell_type": "code",
   "execution_count": 42,
   "id": "0cc8f744",
   "metadata": {
    "execution": {
     "iopub.execute_input": "2025-07-30T13:45:39.837032Z",
     "iopub.status.busy": "2025-07-30T13:45:39.836545Z",
     "iopub.status.idle": "2025-07-30T13:45:39.843110Z",
     "shell.execute_reply": "2025-07-30T13:45:39.842221Z"
    },
    "papermill": {
     "duration": 0.030691,
     "end_time": "2025-07-30T13:45:39.844582",
     "exception": false,
     "start_time": "2025-07-30T13:45:39.813891",
     "status": "completed"
    },
    "tags": []
   },
   "outputs": [],
   "source": [
    "import numpy as np\n",
    "from sklearn.pipeline import Pipeline\n",
    "from sklearn.preprocessing import StandardScaler\n",
    "\n",
    "model = Pipeline([\n",
    "    #(\"continuous_processor\", continuous_processor),\n",
    "    #(\"categorical_preprocessor\", categorical_preprocessor),\n",
    "    (\"scale\", StandardScaler() if universe[\"scale\"] == \"scale\" else None), \n",
    "    (\"model\", model),\n",
    "])"
   ]
  },
  {
   "cell_type": "code",
   "execution_count": 43,
   "id": "9442c04d",
   "metadata": {
    "execution": {
     "iopub.execute_input": "2025-07-30T13:45:39.890570Z",
     "iopub.status.busy": "2025-07-30T13:45:39.889443Z",
     "iopub.status.idle": "2025-07-30T13:45:48.290275Z",
     "shell.execute_reply": "2025-07-30T13:45:48.289064Z"
    },
    "papermill": {
     "duration": 8.425258,
     "end_time": "2025-07-30T13:45:48.291908",
     "exception": false,
     "start_time": "2025-07-30T13:45:39.866650",
     "status": "completed"
    },
    "tags": []
   },
   "outputs": [
    {
     "data": {
      "text/html": [
       "<style>#sk-container-id-1 {color: black;background-color: white;}#sk-container-id-1 pre{padding: 0;}#sk-container-id-1 div.sk-toggleable {background-color: white;}#sk-container-id-1 label.sk-toggleable__label {cursor: pointer;display: block;width: 100%;margin-bottom: 0;padding: 0.3em;box-sizing: border-box;text-align: center;}#sk-container-id-1 label.sk-toggleable__label-arrow:before {content: \"▸\";float: left;margin-right: 0.25em;color: #696969;}#sk-container-id-1 label.sk-toggleable__label-arrow:hover:before {color: black;}#sk-container-id-1 div.sk-estimator:hover label.sk-toggleable__label-arrow:before {color: black;}#sk-container-id-1 div.sk-toggleable__content {max-height: 0;max-width: 0;overflow: hidden;text-align: left;background-color: #f0f8ff;}#sk-container-id-1 div.sk-toggleable__content pre {margin: 0.2em;color: black;border-radius: 0.25em;background-color: #f0f8ff;}#sk-container-id-1 input.sk-toggleable__control:checked~div.sk-toggleable__content {max-height: 200px;max-width: 100%;overflow: auto;}#sk-container-id-1 input.sk-toggleable__control:checked~label.sk-toggleable__label-arrow:before {content: \"▾\";}#sk-container-id-1 div.sk-estimator input.sk-toggleable__control:checked~label.sk-toggleable__label {background-color: #d4ebff;}#sk-container-id-1 div.sk-label input.sk-toggleable__control:checked~label.sk-toggleable__label {background-color: #d4ebff;}#sk-container-id-1 input.sk-hidden--visually {border: 0;clip: rect(1px 1px 1px 1px);clip: rect(1px, 1px, 1px, 1px);height: 1px;margin: -1px;overflow: hidden;padding: 0;position: absolute;width: 1px;}#sk-container-id-1 div.sk-estimator {font-family: monospace;background-color: #f0f8ff;border: 1px dotted black;border-radius: 0.25em;box-sizing: border-box;margin-bottom: 0.5em;}#sk-container-id-1 div.sk-estimator:hover {background-color: #d4ebff;}#sk-container-id-1 div.sk-parallel-item::after {content: \"\";width: 100%;border-bottom: 1px solid gray;flex-grow: 1;}#sk-container-id-1 div.sk-label:hover label.sk-toggleable__label {background-color: #d4ebff;}#sk-container-id-1 div.sk-serial::before {content: \"\";position: absolute;border-left: 1px solid gray;box-sizing: border-box;top: 0;bottom: 0;left: 50%;z-index: 0;}#sk-container-id-1 div.sk-serial {display: flex;flex-direction: column;align-items: center;background-color: white;padding-right: 0.2em;padding-left: 0.2em;position: relative;}#sk-container-id-1 div.sk-item {position: relative;z-index: 1;}#sk-container-id-1 div.sk-parallel {display: flex;align-items: stretch;justify-content: center;background-color: white;position: relative;}#sk-container-id-1 div.sk-item::before, #sk-container-id-1 div.sk-parallel-item::before {content: \"\";position: absolute;border-left: 1px solid gray;box-sizing: border-box;top: 0;bottom: 0;left: 50%;z-index: -1;}#sk-container-id-1 div.sk-parallel-item {display: flex;flex-direction: column;z-index: 1;position: relative;background-color: white;}#sk-container-id-1 div.sk-parallel-item:first-child::after {align-self: flex-end;width: 50%;}#sk-container-id-1 div.sk-parallel-item:last-child::after {align-self: flex-start;width: 50%;}#sk-container-id-1 div.sk-parallel-item:only-child::after {width: 0;}#sk-container-id-1 div.sk-dashed-wrapped {border: 1px dashed gray;margin: 0 0.4em 0.5em 0.4em;box-sizing: border-box;padding-bottom: 0.4em;background-color: white;}#sk-container-id-1 div.sk-label label {font-family: monospace;font-weight: bold;display: inline-block;line-height: 1.2em;}#sk-container-id-1 div.sk-label-container {text-align: center;}#sk-container-id-1 div.sk-container {/* jupyter's `normalize.less` sets `[hidden] { display: none; }` but bootstrap.min.css set `[hidden] { display: none !important; }` so we also need the `!important` here to be able to override the default hidden behavior on the sphinx rendered scikit-learn.org. See: https://github.com/scikit-learn/scikit-learn/issues/21755 */display: inline-block !important;position: relative;}#sk-container-id-1 div.sk-text-repr-fallback {display: none;}</style><div id=\"sk-container-id-1\" class=\"sk-top-container\"><div class=\"sk-text-repr-fallback\"><pre>Pipeline(steps=[(&#x27;scale&#x27;, StandardScaler()),\n",
       "                (&#x27;model&#x27;,\n",
       "                 LogisticRegression(l1_ratio=0.5, max_iter=5000,\n",
       "                                    penalty=&#x27;elasticnet&#x27;, solver=&#x27;saga&#x27;))])</pre><b>In a Jupyter environment, please rerun this cell to show the HTML representation or trust the notebook. <br />On GitHub, the HTML representation is unable to render, please try loading this page with nbviewer.org.</b></div><div class=\"sk-container\" hidden><div class=\"sk-item sk-dashed-wrapped\"><div class=\"sk-label-container\"><div class=\"sk-label sk-toggleable\"><input class=\"sk-toggleable__control sk-hidden--visually\" id=\"sk-estimator-id-1\" type=\"checkbox\" ><label for=\"sk-estimator-id-1\" class=\"sk-toggleable__label sk-toggleable__label-arrow\">Pipeline</label><div class=\"sk-toggleable__content\"><pre>Pipeline(steps=[(&#x27;scale&#x27;, StandardScaler()),\n",
       "                (&#x27;model&#x27;,\n",
       "                 LogisticRegression(l1_ratio=0.5, max_iter=5000,\n",
       "                                    penalty=&#x27;elasticnet&#x27;, solver=&#x27;saga&#x27;))])</pre></div></div></div><div class=\"sk-serial\"><div class=\"sk-item\"><div class=\"sk-estimator sk-toggleable\"><input class=\"sk-toggleable__control sk-hidden--visually\" id=\"sk-estimator-id-2\" type=\"checkbox\" ><label for=\"sk-estimator-id-2\" class=\"sk-toggleable__label sk-toggleable__label-arrow\">StandardScaler</label><div class=\"sk-toggleable__content\"><pre>StandardScaler()</pre></div></div></div><div class=\"sk-item\"><div class=\"sk-estimator sk-toggleable\"><input class=\"sk-toggleable__control sk-hidden--visually\" id=\"sk-estimator-id-3\" type=\"checkbox\" ><label for=\"sk-estimator-id-3\" class=\"sk-toggleable__label sk-toggleable__label-arrow\">LogisticRegression</label><div class=\"sk-toggleable__content\"><pre>LogisticRegression(l1_ratio=0.5, max_iter=5000, penalty=&#x27;elasticnet&#x27;,\n",
       "                   solver=&#x27;saga&#x27;)</pre></div></div></div></div></div></div></div>"
      ],
      "text/plain": [
       "Pipeline(steps=[('scale', StandardScaler()),\n",
       "                ('model',\n",
       "                 LogisticRegression(l1_ratio=0.5, max_iter=5000,\n",
       "                                    penalty='elasticnet', solver='saga'))])"
      ]
     },
     "execution_count": 43,
     "metadata": {},
     "output_type": "execute_result"
    }
   ],
   "source": [
    "model.fit(X_train, y_train.values.ravel())"
   ]
  },
  {
   "cell_type": "code",
   "execution_count": 44,
   "id": "af59f8c0",
   "metadata": {
    "execution": {
     "iopub.execute_input": "2025-07-30T13:45:48.362106Z",
     "iopub.status.busy": "2025-07-30T13:45:48.360990Z",
     "iopub.status.idle": "2025-07-30T13:45:48.366029Z",
     "shell.execute_reply": "2025-07-30T13:45:48.365357Z"
    },
    "papermill": {
     "duration": 0.040119,
     "end_time": "2025-07-30T13:45:48.367392",
     "exception": false,
     "start_time": "2025-07-30T13:45:48.327273",
     "status": "completed"
    },
    "tags": []
   },
   "outputs": [],
   "source": [
    "from fairness_multiverse.universe import predict_w_threshold"
   ]
  },
  {
   "cell_type": "code",
   "execution_count": 45,
   "id": "a7cf2e16",
   "metadata": {
    "execution": {
     "iopub.execute_input": "2025-07-30T13:45:48.401032Z",
     "iopub.status.busy": "2025-07-30T13:45:48.400678Z",
     "iopub.status.idle": "2025-07-30T13:45:48.622255Z",
     "shell.execute_reply": "2025-07-30T13:45:48.621426Z"
    },
    "papermill": {
     "duration": 0.243731,
     "end_time": "2025-07-30T13:45:48.623788",
     "exception": false,
     "start_time": "2025-07-30T13:45:48.380057",
     "status": "completed"
    },
    "tags": []
   },
   "outputs": [
    {
     "data": {
      "text/plain": [
       "0.8578753762122394"
      ]
     },
     "execution_count": 45,
     "metadata": {},
     "output_type": "execute_result"
    }
   ],
   "source": [
    "probs_test = model.predict_proba(X_test)\n",
    "\n",
    "'''\n",
    "Below code returns a boolean array (or binary 0/1 array depending on how it’s used) where each element \n",
    "is True if the probability of class 1 is greater than or equal to the threshold, and False otherwise.\n",
    "'''\n",
    "y_pred_default = predict_w_threshold(probs_test, 0.5)\n",
    "\n",
    "from sklearn.metrics import accuracy_score\n",
    "\n",
    "# Naive prediction\n",
    "accuracy_score(y_true = y_true, y_pred = y_pred_default)"
   ]
  },
  {
   "cell_type": "code",
   "execution_count": 46,
   "id": "081964c3",
   "metadata": {
    "execution": {
     "iopub.execute_input": "2025-07-30T13:45:48.685845Z",
     "iopub.status.busy": "2025-07-30T13:45:48.685457Z",
     "iopub.status.idle": "2025-07-30T13:45:48.862317Z",
     "shell.execute_reply": "2025-07-30T13:45:48.861500Z"
    },
    "papermill": {
     "duration": 0.201796,
     "end_time": "2025-07-30T13:45:48.863912",
     "exception": false,
     "start_time": "2025-07-30T13:45:48.662116",
     "status": "completed"
    },
    "tags": []
   },
   "outputs": [
    {
     "data": {
      "text/plain": [
       "array([0, 0, 0, ..., 0, 0, 0])"
      ]
     },
     "execution_count": 46,
     "metadata": {},
     "output_type": "execute_result"
    }
   ],
   "source": [
    "model.predict(X_test)"
   ]
  },
  {
   "cell_type": "markdown",
   "id": "56c9705b",
   "metadata": {
    "papermill": {
     "duration": 0.037183,
     "end_time": "2025-07-30T13:45:48.923671",
     "exception": false,
     "start_time": "2025-07-30T13:45:48.886488",
     "status": "completed"
    },
    "tags": []
   },
   "source": [
    "# Conformal Prediction"
   ]
  },
  {
   "cell_type": "code",
   "execution_count": 47,
   "id": "160ec6ff",
   "metadata": {
    "execution": {
     "iopub.execute_input": "2025-07-30T13:45:48.971947Z",
     "iopub.status.busy": "2025-07-30T13:45:48.971115Z",
     "iopub.status.idle": "2025-07-30T13:45:48.975923Z",
     "shell.execute_reply": "2025-07-30T13:45:48.975070Z"
    },
    "papermill": {
     "duration": 0.03172,
     "end_time": "2025-07-30T13:45:48.977368",
     "exception": false,
     "start_time": "2025-07-30T13:45:48.945648",
     "status": "completed"
    },
    "tags": []
   },
   "outputs": [],
   "source": [
    "# Miscoverage level for conformal prediction (10% allowed error rate => 90% target coverage)\n",
    "alpha = 0.1"
   ]
  },
  {
   "cell_type": "code",
   "execution_count": 48,
   "id": "eadf4555-3dd3-440e-8e35-f82a4ad9f855",
   "metadata": {
    "execution": {
     "iopub.execute_input": "2025-07-30T13:45:49.025384Z",
     "iopub.status.busy": "2025-07-30T13:45:49.024488Z",
     "iopub.status.idle": "2025-07-30T13:45:49.195836Z",
     "shell.execute_reply": "2025-07-30T13:45:49.194966Z"
    },
    "papermill": {
     "duration": 0.197584,
     "end_time": "2025-07-30T13:45:49.197689",
     "exception": false,
     "start_time": "2025-07-30T13:45:49.000105",
     "status": "completed"
    },
    "tags": []
   },
   "outputs": [],
   "source": [
    "probs_calib = model.predict_proba(X_calib)"
   ]
  },
  {
   "cell_type": "code",
   "execution_count": 49,
   "id": "2ed93547-6d5d-4983-9b36-1ecb300da49a",
   "metadata": {
    "execution": {
     "iopub.execute_input": "2025-07-30T13:45:49.246455Z",
     "iopub.status.busy": "2025-07-30T13:45:49.245621Z",
     "iopub.status.idle": "2025-07-30T13:45:49.251229Z",
     "shell.execute_reply": "2025-07-30T13:45:49.250391Z"
    },
    "papermill": {
     "duration": 0.03145,
     "end_time": "2025-07-30T13:45:49.252791",
     "exception": false,
     "start_time": "2025-07-30T13:45:49.221341",
     "status": "completed"
    },
    "tags": []
   },
   "outputs": [],
   "source": [
    "y_calib = y_calib.values.ravel().astype(int)"
   ]
  },
  {
   "cell_type": "code",
   "execution_count": 50,
   "id": "65d1320d-f588-4b38-9072-62af1ae97f7d",
   "metadata": {
    "execution": {
     "iopub.execute_input": "2025-07-30T13:45:49.299091Z",
     "iopub.status.busy": "2025-07-30T13:45:49.298733Z",
     "iopub.status.idle": "2025-07-30T13:45:49.306424Z",
     "shell.execute_reply": "2025-07-30T13:45:49.305555Z"
    },
    "papermill": {
     "duration": 0.032381,
     "end_time": "2025-07-30T13:45:49.307936",
     "exception": false,
     "start_time": "2025-07-30T13:45:49.275555",
     "status": "completed"
    },
    "tags": []
   },
   "outputs": [],
   "source": [
    "from fairness_multiverse.conformal import compute_nc_scores\n",
    "\n",
    "# Compute nonconformity scores on calibration set (1 - probability of true class)\n",
    "nc_scores = compute_nc_scores(probs_calib, y_calib)"
   ]
  },
  {
   "cell_type": "code",
   "execution_count": 51,
   "id": "df3b8ca3-53b7-43d5-9667-7c85da7aeda2",
   "metadata": {
    "execution": {
     "iopub.execute_input": "2025-07-30T13:45:49.356451Z",
     "iopub.status.busy": "2025-07-30T13:45:49.355921Z",
     "iopub.status.idle": "2025-07-30T13:45:49.361954Z",
     "shell.execute_reply": "2025-07-30T13:45:49.361123Z"
    },
    "papermill": {
     "duration": 0.031675,
     "end_time": "2025-07-30T13:45:49.363567",
     "exception": false,
     "start_time": "2025-07-30T13:45:49.331892",
     "status": "completed"
    },
    "tags": []
   },
   "outputs": [],
   "source": [
    "from fairness_multiverse.conformal import find_threshold\n",
    "\n",
    "# Find conformal threshold q_hat for the given alpha (split conformal method)\n",
    "q_hat = find_threshold(nc_scores, alpha)"
   ]
  },
  {
   "cell_type": "code",
   "execution_count": 52,
   "id": "4d29e6c1-0ef6-4aa4-b8fe-4fe79b0d033a",
   "metadata": {
    "execution": {
     "iopub.execute_input": "2025-07-30T13:45:49.410493Z",
     "iopub.status.busy": "2025-07-30T13:45:49.409855Z",
     "iopub.status.idle": "2025-07-30T13:45:49.416900Z",
     "shell.execute_reply": "2025-07-30T13:45:49.415955Z"
    },
    "papermill": {
     "duration": 0.031789,
     "end_time": "2025-07-30T13:45:49.418437",
     "exception": false,
     "start_time": "2025-07-30T13:45:49.386648",
     "status": "completed"
    },
    "tags": []
   },
   "outputs": [
    {
     "data": {
      "text/plain": [
       "0.6841069151259047"
      ]
     },
     "execution_count": 52,
     "metadata": {},
     "output_type": "execute_result"
    }
   ],
   "source": [
    "q_hat"
   ]
  },
  {
   "cell_type": "code",
   "execution_count": 53,
   "id": "92460794-cdac-4be2-ba28-f28c0515a6fb",
   "metadata": {
    "execution": {
     "iopub.execute_input": "2025-07-30T13:45:49.465551Z",
     "iopub.status.busy": "2025-07-30T13:45:49.465111Z",
     "iopub.status.idle": "2025-07-30T13:45:50.281086Z",
     "shell.execute_reply": "2025-07-30T13:45:50.280198Z"
    },
    "papermill": {
     "duration": 0.841197,
     "end_time": "2025-07-30T13:45:50.282836",
     "exception": false,
     "start_time": "2025-07-30T13:45:49.441639",
     "status": "completed"
    },
    "tags": []
   },
   "outputs": [],
   "source": [
    "from fairness_multiverse.conformal import predict_conformal_sets\n",
    "\n",
    "# Generate prediction sets for each test example\n",
    "pred_sets = predict_conformal_sets(model, X_test, q_hat)"
   ]
  },
  {
   "cell_type": "code",
   "execution_count": 54,
   "id": "d90c9a65-e6db-4f5d-80cd-e68fb7e46829",
   "metadata": {
    "execution": {
     "iopub.execute_input": "2025-07-30T13:45:50.353347Z",
     "iopub.status.busy": "2025-07-30T13:45:50.352589Z",
     "iopub.status.idle": "2025-07-30T13:45:50.358710Z",
     "shell.execute_reply": "2025-07-30T13:45:50.357688Z"
    },
    "papermill": {
     "duration": 0.036098,
     "end_time": "2025-07-30T13:45:50.360467",
     "exception": false,
     "start_time": "2025-07-30T13:45:50.324369",
     "status": "completed"
    },
    "tags": []
   },
   "outputs": [],
   "source": [
    "y_true = y_true.squeeze()"
   ]
  },
  {
   "cell_type": "code",
   "execution_count": 55,
   "id": "3a58a54a-1e68-46b9-927a-df01f18aebc8",
   "metadata": {
    "execution": {
     "iopub.execute_input": "2025-07-30T13:45:50.417209Z",
     "iopub.status.busy": "2025-07-30T13:45:50.416849Z",
     "iopub.status.idle": "2025-07-30T13:45:51.053176Z",
     "shell.execute_reply": "2025-07-30T13:45:51.052327Z"
    },
    "papermill": {
     "duration": 0.667224,
     "end_time": "2025-07-30T13:45:51.054588",
     "exception": false,
     "start_time": "2025-07-30T13:45:50.387364",
     "status": "completed"
    },
    "tags": []
   },
   "outputs": [],
   "source": [
    "from fairness_multiverse.conformal import evaluate_sets\n",
    "\n",
    "# Evaluate coverage and average set size on test data\n",
    "metrics = evaluate_sets(pred_sets, y_true)"
   ]
  },
  {
   "cell_type": "markdown",
   "id": "2b569c12-9aaa-4c88-98c9-bbcd0cf3ebb8",
   "metadata": {
    "papermill": {
     "duration": 0.012373,
     "end_time": "2025-07-30T13:45:51.080073",
     "exception": false,
     "start_time": "2025-07-30T13:45:51.067700",
     "status": "completed"
    },
    "tags": []
   },
   "source": [
    "# CP Metrics"
   ]
  },
  {
   "cell_type": "code",
   "execution_count": 56,
   "id": "5ce0a5cb-201f-45a0-ade5-94c7f0bd6095",
   "metadata": {
    "execution": {
     "iopub.execute_input": "2025-07-30T13:45:51.139862Z",
     "iopub.status.busy": "2025-07-30T13:45:51.138892Z",
     "iopub.status.idle": "2025-07-30T13:45:51.146165Z",
     "shell.execute_reply": "2025-07-30T13:45:51.145088Z"
    },
    "papermill": {
     "duration": 0.045536,
     "end_time": "2025-07-30T13:45:51.148205",
     "exception": false,
     "start_time": "2025-07-30T13:45:51.102669",
     "status": "completed"
    },
    "tags": []
   },
   "outputs": [
    {
     "data": {
      "text/plain": [
       "{'coverage': 0.909976591238435, 'avg_size': 1.1333630587448444}"
      ]
     },
     "execution_count": 56,
     "metadata": {},
     "output_type": "execute_result"
    }
   ],
   "source": [
    "metrics"
   ]
  },
  {
   "cell_type": "code",
   "execution_count": 57,
   "id": "9b9a838d-31c9-430b-ae14-12baee460d17",
   "metadata": {
    "execution": {
     "iopub.execute_input": "2025-07-30T13:45:51.220417Z",
     "iopub.status.busy": "2025-07-30T13:45:51.219727Z",
     "iopub.status.idle": "2025-07-30T13:45:51.226124Z",
     "shell.execute_reply": "2025-07-30T13:45:51.225147Z"
    },
    "papermill": {
     "duration": 0.045823,
     "end_time": "2025-07-30T13:45:51.227966",
     "exception": false,
     "start_time": "2025-07-30T13:45:51.182143",
     "status": "completed"
    },
    "tags": []
   },
   "outputs": [],
   "source": [
    "example_universe = universe.copy()\n",
    "universe_training_size = example_universe.get(\"training_size\")\n",
    "universe_scale = example_universe.get(\"scale\")\n",
    "universe_model = example_universe.get(\"model\")\n",
    "universe_exclude_features = example_universe.get(\"exclude_features\")\n",
    "universe_exclude_subgroups = example_universe.get(\"exclude_subgroups\")"
   ]
  },
  {
   "cell_type": "code",
   "execution_count": 58,
   "id": "f4b6a8ac-9dc0-4245-8a91-5b3b5999c4f9",
   "metadata": {
    "execution": {
     "iopub.execute_input": "2025-07-30T13:45:51.276638Z",
     "iopub.status.busy": "2025-07-30T13:45:51.276235Z",
     "iopub.status.idle": "2025-07-30T13:45:51.282676Z",
     "shell.execute_reply": "2025-07-30T13:45:51.281717Z"
    },
    "papermill": {
     "duration": 0.023078,
     "end_time": "2025-07-30T13:45:51.284218",
     "exception": false,
     "start_time": "2025-07-30T13:45:51.261140",
     "status": "completed"
    },
    "tags": []
   },
   "outputs": [],
   "source": [
    "cp_metrics_dict = {\n",
    "    \"universe_id\": [universe_id],\n",
    "    \"universe_training_size\": [universe_training_size],\n",
    "    \"universe_scale\": [universe_scale],\n",
    "    \"universe_model\": [universe_model],\n",
    "    \"universe_exclude_features\": [universe_exclude_features],\n",
    "    \"universe_exclude_subgroups\": [universe_exclude_subgroups],\n",
    "    \"q_hat\": [q_hat],\n",
    "    \"coverage\": [metrics[\"coverage\"]],\n",
    "    \"avg_size\": [metrics[\"avg_size\"]],\n",
    "}"
   ]
  },
  {
   "cell_type": "code",
   "execution_count": 59,
   "id": "908acbb1-0371-4915-85ca-3fa520d2efe2",
   "metadata": {
    "execution": {
     "iopub.execute_input": "2025-07-30T13:45:51.337842Z",
     "iopub.status.busy": "2025-07-30T13:45:51.336988Z",
     "iopub.status.idle": "2025-07-30T13:45:51.344285Z",
     "shell.execute_reply": "2025-07-30T13:45:51.343310Z"
    },
    "papermill": {
     "duration": 0.035386,
     "end_time": "2025-07-30T13:45:51.345959",
     "exception": false,
     "start_time": "2025-07-30T13:45:51.310573",
     "status": "completed"
    },
    "tags": []
   },
   "outputs": [
    {
     "data": {
      "text/plain": [
       "{'universe_id': ['a6cd33df1c2d446060ffdb239b964dbe'],\n",
       " 'universe_training_size': ['5k'],\n",
       " 'universe_scale': ['scale'],\n",
       " 'universe_model': ['elasticnet'],\n",
       " 'universe_exclude_features': ['none'],\n",
       " 'universe_exclude_subgroups': ['keep-all'],\n",
       " 'q_hat': [0.6841069151259047],\n",
       " 'coverage': [0.909976591238435],\n",
       " 'avg_size': [1.1333630587448444]}"
      ]
     },
     "execution_count": 59,
     "metadata": {},
     "output_type": "execute_result"
    }
   ],
   "source": [
    "cp_metrics_dict"
   ]
  },
  {
   "cell_type": "code",
   "execution_count": 60,
   "id": "33007efc-14e9-4ec6-97ac-56a455c82265",
   "metadata": {
    "execution": {
     "iopub.execute_input": "2025-07-30T13:45:51.391337Z",
     "iopub.status.busy": "2025-07-30T13:45:51.391000Z",
     "iopub.status.idle": "2025-07-30T13:45:51.396006Z",
     "shell.execute_reply": "2025-07-30T13:45:51.395139Z"
    },
    "papermill": {
     "duration": 0.025237,
     "end_time": "2025-07-30T13:45:51.397402",
     "exception": false,
     "start_time": "2025-07-30T13:45:51.372165",
     "status": "completed"
    },
    "tags": []
   },
   "outputs": [],
   "source": [
    "cp_metrics_df = pd.DataFrame(cp_metrics_dict)"
   ]
  },
  {
   "cell_type": "code",
   "execution_count": 61,
   "id": "db12611b-57b2-4910-b9d0-355adfd6e7bf",
   "metadata": {
    "execution": {
     "iopub.execute_input": "2025-07-30T13:45:51.424880Z",
     "iopub.status.busy": "2025-07-30T13:45:51.424244Z",
     "iopub.status.idle": "2025-07-30T13:45:51.439637Z",
     "shell.execute_reply": "2025-07-30T13:45:51.438972Z"
    },
    "papermill": {
     "duration": 0.030194,
     "end_time": "2025-07-30T13:45:51.440930",
     "exception": false,
     "start_time": "2025-07-30T13:45:51.410736",
     "status": "completed"
    },
    "tags": []
   },
   "outputs": [
    {
     "data": {
      "text/html": [
       "<div>\n",
       "<style scoped>\n",
       "    .dataframe tbody tr th:only-of-type {\n",
       "        vertical-align: middle;\n",
       "    }\n",
       "\n",
       "    .dataframe tbody tr th {\n",
       "        vertical-align: top;\n",
       "    }\n",
       "\n",
       "    .dataframe thead th {\n",
       "        text-align: right;\n",
       "    }\n",
       "</style>\n",
       "<table border=\"1\" class=\"dataframe\">\n",
       "  <thead>\n",
       "    <tr style=\"text-align: right;\">\n",
       "      <th></th>\n",
       "      <th>universe_id</th>\n",
       "      <th>universe_training_size</th>\n",
       "      <th>universe_scale</th>\n",
       "      <th>universe_model</th>\n",
       "      <th>universe_exclude_features</th>\n",
       "      <th>universe_exclude_subgroups</th>\n",
       "      <th>q_hat</th>\n",
       "      <th>coverage</th>\n",
       "      <th>avg_size</th>\n",
       "    </tr>\n",
       "  </thead>\n",
       "  <tbody>\n",
       "    <tr>\n",
       "      <th>0</th>\n",
       "      <td>a6cd33df1c2d446060ffdb239b964dbe</td>\n",
       "      <td>5k</td>\n",
       "      <td>scale</td>\n",
       "      <td>elasticnet</td>\n",
       "      <td>none</td>\n",
       "      <td>keep-all</td>\n",
       "      <td>0.684107</td>\n",
       "      <td>0.909977</td>\n",
       "      <td>1.133363</td>\n",
       "    </tr>\n",
       "  </tbody>\n",
       "</table>\n",
       "</div>"
      ],
      "text/plain": [
       "                        universe_id universe_training_size universe_scale  \\\n",
       "0  a6cd33df1c2d446060ffdb239b964dbe                     5k          scale   \n",
       "\n",
       "  universe_model universe_exclude_features universe_exclude_subgroups  \\\n",
       "0     elasticnet                      none                   keep-all   \n",
       "\n",
       "      q_hat  coverage  avg_size  \n",
       "0  0.684107  0.909977  1.133363  "
      ]
     },
     "execution_count": 61,
     "metadata": {},
     "output_type": "execute_result"
    }
   ],
   "source": [
    "cp_metrics_df"
   ]
  },
  {
   "cell_type": "code",
   "execution_count": 62,
   "id": "b7fbde55-a0a1-47e4-9af6-fe4a17fa8c61",
   "metadata": {
    "execution": {
     "iopub.execute_input": "2025-07-30T13:45:51.471001Z",
     "iopub.status.busy": "2025-07-30T13:45:51.470333Z",
     "iopub.status.idle": "2025-07-30T13:45:51.474754Z",
     "shell.execute_reply": "2025-07-30T13:45:51.474091Z"
    },
    "papermill": {
     "duration": 0.02107,
     "end_time": "2025-07-30T13:45:51.476336",
     "exception": false,
     "start_time": "2025-07-30T13:45:51.455266",
     "status": "completed"
    },
    "tags": []
   },
   "outputs": [],
   "source": [
    "# Conditional Coverage & looking at subgroups"
   ]
  },
  {
   "cell_type": "code",
   "execution_count": 63,
   "id": "027ae886-68dd-4141-96c7-805a5450e1ef",
   "metadata": {
    "execution": {
     "iopub.execute_input": "2025-07-30T13:45:51.525011Z",
     "iopub.status.busy": "2025-07-30T13:45:51.524549Z",
     "iopub.status.idle": "2025-07-30T13:45:51.838643Z",
     "shell.execute_reply": "2025-07-30T13:45:51.837726Z"
    },
    "papermill": {
     "duration": 0.344192,
     "end_time": "2025-07-30T13:45:51.840670",
     "exception": false,
     "start_time": "2025-07-30T13:45:51.496478",
     "status": "completed"
    },
    "tags": []
   },
   "outputs": [],
   "source": [
    "from fairness_multiverse.conformal import build_cp_groups\n",
    "\n",
    "cp_groups_df = build_cp_groups(pred_sets, y_true, X_test.index, org_test)\n",
    "#needs universe_id and setting"
   ]
  },
  {
   "cell_type": "code",
   "execution_count": 64,
   "id": "01d5802c-663a-4d1f-9d69-e036faaffbf7",
   "metadata": {
    "execution": {
     "iopub.execute_input": "2025-07-30T13:45:51.898493Z",
     "iopub.status.busy": "2025-07-30T13:45:51.897853Z",
     "iopub.status.idle": "2025-07-30T13:45:51.902391Z",
     "shell.execute_reply": "2025-07-30T13:45:51.901528Z"
    },
    "papermill": {
     "duration": 0.034972,
     "end_time": "2025-07-30T13:45:51.904281",
     "exception": false,
     "start_time": "2025-07-30T13:45:51.869309",
     "status": "completed"
    },
    "tags": []
   },
   "outputs": [],
   "source": [
    "#delete\n",
    "#cp_groups_df"
   ]
  },
  {
   "cell_type": "code",
   "execution_count": 65,
   "id": "fa424af1-d1eb-443d-b717-2d279ada8408",
   "metadata": {
    "execution": {
     "iopub.execute_input": "2025-07-30T13:45:51.961862Z",
     "iopub.status.busy": "2025-07-30T13:45:51.961406Z",
     "iopub.status.idle": "2025-07-30T13:45:51.966673Z",
     "shell.execute_reply": "2025-07-30T13:45:51.965630Z"
    },
    "papermill": {
     "duration": 0.03595,
     "end_time": "2025-07-30T13:45:51.968223",
     "exception": false,
     "start_time": "2025-07-30T13:45:51.932273",
     "status": "completed"
    },
    "tags": []
   },
   "outputs": [],
   "source": [
    "#delete\n",
    "#percentage = (cp_groups_df['nongerman_female'] == 1).mean() * 100\n",
    "#print(percentage)\n"
   ]
  },
  {
   "cell_type": "code",
   "execution_count": 66,
   "id": "6cbdab96-b2b2-45af-ad54-d0516db2e28d",
   "metadata": {
    "execution": {
     "iopub.execute_input": "2025-07-30T13:45:52.020159Z",
     "iopub.status.busy": "2025-07-30T13:45:52.019317Z",
     "iopub.status.idle": "2025-07-30T13:45:53.551057Z",
     "shell.execute_reply": "2025-07-30T13:45:53.550123Z"
    },
    "papermill": {
     "duration": 1.559562,
     "end_time": "2025-07-30T13:45:53.553143",
     "exception": false,
     "start_time": "2025-07-30T13:45:51.993581",
     "status": "completed"
    },
    "tags": []
   },
   "outputs": [],
   "source": [
    "# Define covered = 1 if true_label is in the predicted set\n",
    "cp_groups_df['covered'] = cp_groups_df.apply(\n",
    "    lambda r: int(r['true_label'] in r['pred_set']),\n",
    "    axis=1\n",
    ")"
   ]
  },
  {
   "cell_type": "code",
   "execution_count": 67,
   "id": "338ff529-1a6b-4b87-a931-8e4788d52aad",
   "metadata": {
    "execution": {
     "iopub.execute_input": "2025-07-30T13:45:53.612517Z",
     "iopub.status.busy": "2025-07-30T13:45:53.611747Z",
     "iopub.status.idle": "2025-07-30T13:45:53.616783Z",
     "shell.execute_reply": "2025-07-30T13:45:53.615824Z"
    },
    "papermill": {
     "duration": 0.036127,
     "end_time": "2025-07-30T13:45:53.618587",
     "exception": false,
     "start_time": "2025-07-30T13:45:53.582460",
     "status": "completed"
    },
    "tags": []
   },
   "outputs": [],
   "source": [
    "#cp_groups_df"
   ]
  },
  {
   "cell_type": "code",
   "execution_count": 68,
   "id": "90032e27-66df-4540-9169-4e89cfbaa758",
   "metadata": {
    "execution": {
     "iopub.execute_input": "2025-07-30T13:45:53.677940Z",
     "iopub.status.busy": "2025-07-30T13:45:53.677303Z",
     "iopub.status.idle": "2025-07-30T13:45:53.688516Z",
     "shell.execute_reply": "2025-07-30T13:45:53.687557Z"
    },
    "papermill": {
     "duration": 0.042272,
     "end_time": "2025-07-30T13:45:53.690136",
     "exception": false,
     "start_time": "2025-07-30T13:45:53.647864",
     "status": "completed"
    },
    "tags": []
   },
   "outputs": [],
   "source": [
    "subgroups = ['frau1','nongerman','nongerman_male','nongerman_female']\n",
    "\n",
    "# Conditional coverage for subgroup==1\n",
    "cond_coverage = {\n",
    "    g: cp_groups_df.loc[cp_groups_df[g]==1, 'covered'].mean()\n",
    "    for g in subgroups\n",
    "}"
   ]
  },
  {
   "cell_type": "code",
   "execution_count": 69,
   "id": "1e348fb1-b9c3-45bc-ba23-f016827a7e0d",
   "metadata": {
    "execution": {
     "iopub.execute_input": "2025-07-30T13:45:53.748960Z",
     "iopub.status.busy": "2025-07-30T13:45:53.748309Z",
     "iopub.status.idle": "2025-07-30T13:45:53.755223Z",
     "shell.execute_reply": "2025-07-30T13:45:53.754362Z"
    },
    "papermill": {
     "duration": 0.037791,
     "end_time": "2025-07-30T13:45:53.756849",
     "exception": false,
     "start_time": "2025-07-30T13:45:53.719058",
     "status": "completed"
    },
    "tags": []
   },
   "outputs": [
    {
     "data": {
      "text/plain": [
       "{'frau1': 0.9074268769375927,\n",
       " 'nongerman': 0.909897266041655,\n",
       " 'nongerman_male': 0.9284877960911465,\n",
       " 'nongerman_female': 0.8791356184798808}"
      ]
     },
     "execution_count": 69,
     "metadata": {},
     "output_type": "execute_result"
    }
   ],
   "source": [
    "cond_coverage"
   ]
  },
  {
   "cell_type": "code",
   "execution_count": 70,
   "id": "f5093324-c3dd-4d63-bc4c-8d945e5c8bbb",
   "metadata": {
    "execution": {
     "iopub.execute_input": "2025-07-30T13:45:53.815976Z",
     "iopub.status.busy": "2025-07-30T13:45:53.815334Z",
     "iopub.status.idle": "2025-07-30T13:45:53.822731Z",
     "shell.execute_reply": "2025-07-30T13:45:53.821901Z"
    },
    "papermill": {
     "duration": 0.03833,
     "end_time": "2025-07-30T13:45:53.824363",
     "exception": false,
     "start_time": "2025-07-30T13:45:53.786033",
     "status": "completed"
    },
    "tags": []
   },
   "outputs": [],
   "source": [
    "for subgroup, cov in cond_coverage.items():\n",
    "    cp_metrics_df[f\"cov_{subgroup}\"] = cov"
   ]
  },
  {
   "cell_type": "code",
   "execution_count": 71,
   "id": "6e872e10-dbe5-49e8-b554-5030c98ff75d",
   "metadata": {
    "execution": {
     "iopub.execute_input": "2025-07-30T13:45:53.883711Z",
     "iopub.status.busy": "2025-07-30T13:45:53.883074Z",
     "iopub.status.idle": "2025-07-30T13:45:53.901275Z",
     "shell.execute_reply": "2025-07-30T13:45:53.900380Z"
    },
    "papermill": {
     "duration": 0.049272,
     "end_time": "2025-07-30T13:45:53.902776",
     "exception": false,
     "start_time": "2025-07-30T13:45:53.853504",
     "status": "completed"
    },
    "tags": []
   },
   "outputs": [
    {
     "data": {
      "text/html": [
       "<div>\n",
       "<style scoped>\n",
       "    .dataframe tbody tr th:only-of-type {\n",
       "        vertical-align: middle;\n",
       "    }\n",
       "\n",
       "    .dataframe tbody tr th {\n",
       "        vertical-align: top;\n",
       "    }\n",
       "\n",
       "    .dataframe thead th {\n",
       "        text-align: right;\n",
       "    }\n",
       "</style>\n",
       "<table border=\"1\" class=\"dataframe\">\n",
       "  <thead>\n",
       "    <tr style=\"text-align: right;\">\n",
       "      <th></th>\n",
       "      <th>universe_id</th>\n",
       "      <th>universe_training_size</th>\n",
       "      <th>universe_scale</th>\n",
       "      <th>universe_model</th>\n",
       "      <th>universe_exclude_features</th>\n",
       "      <th>universe_exclude_subgroups</th>\n",
       "      <th>q_hat</th>\n",
       "      <th>coverage</th>\n",
       "      <th>avg_size</th>\n",
       "      <th>cov_frau1</th>\n",
       "      <th>cov_nongerman</th>\n",
       "      <th>cov_nongerman_male</th>\n",
       "      <th>cov_nongerman_female</th>\n",
       "    </tr>\n",
       "  </thead>\n",
       "  <tbody>\n",
       "    <tr>\n",
       "      <th>0</th>\n",
       "      <td>a6cd33df1c2d446060ffdb239b964dbe</td>\n",
       "      <td>5k</td>\n",
       "      <td>scale</td>\n",
       "      <td>elasticnet</td>\n",
       "      <td>none</td>\n",
       "      <td>keep-all</td>\n",
       "      <td>0.684107</td>\n",
       "      <td>0.909977</td>\n",
       "      <td>1.133363</td>\n",
       "      <td>0.907427</td>\n",
       "      <td>0.909897</td>\n",
       "      <td>0.928488</td>\n",
       "      <td>0.879136</td>\n",
       "    </tr>\n",
       "  </tbody>\n",
       "</table>\n",
       "</div>"
      ],
      "text/plain": [
       "                        universe_id universe_training_size universe_scale  \\\n",
       "0  a6cd33df1c2d446060ffdb239b964dbe                     5k          scale   \n",
       "\n",
       "  universe_model universe_exclude_features universe_exclude_subgroups  \\\n",
       "0     elasticnet                      none                   keep-all   \n",
       "\n",
       "      q_hat  coverage  avg_size  cov_frau1  cov_nongerman  cov_nongerman_male  \\\n",
       "0  0.684107  0.909977  1.133363   0.907427       0.909897            0.928488   \n",
       "\n",
       "   cov_nongerman_female  \n",
       "0              0.879136  "
      ]
     },
     "execution_count": 71,
     "metadata": {},
     "output_type": "execute_result"
    }
   ],
   "source": [
    "cp_metrics_df"
   ]
  },
  {
   "cell_type": "markdown",
   "id": "33774451",
   "metadata": {
    "papermill": {
     "duration": 0.024242,
     "end_time": "2025-07-30T13:45:53.952163",
     "exception": false,
     "start_time": "2025-07-30T13:45:53.927921",
     "status": "completed"
    },
    "tags": []
   },
   "source": [
    "# (Fairness) Metrics"
   ]
  },
  {
   "cell_type": "code",
   "execution_count": 72,
   "id": "debc5d62",
   "metadata": {
    "execution": {
     "iopub.execute_input": "2025-07-30T13:45:54.002650Z",
     "iopub.status.busy": "2025-07-30T13:45:54.001950Z",
     "iopub.status.idle": "2025-07-30T13:45:54.023112Z",
     "shell.execute_reply": "2025-07-30T13:45:54.022223Z"
    },
    "papermill": {
     "duration": 0.04851,
     "end_time": "2025-07-30T13:45:54.024814",
     "exception": false,
     "start_time": "2025-07-30T13:45:53.976304",
     "status": "completed"
    },
    "tags": []
   },
   "outputs": [],
   "source": [
    "# do I need to include maxdeutsch1.missing?\n",
    "\n",
    "import numpy as np\n",
    "\n",
    "colname_to_bin = \"maxdeutsch1\"\n",
    "majority_value = org_train[colname_to_bin].mode()[0]\n",
    "\n",
    "org_test[\"majmin\"] = np.where(org_test[colname_to_bin] == majority_value, \"majority\", \"minority\")"
   ]
  },
  {
   "cell_type": "code",
   "execution_count": 73,
   "id": "06a50de5",
   "metadata": {
    "execution": {
     "iopub.execute_input": "2025-07-30T13:45:54.077096Z",
     "iopub.status.busy": "2025-07-30T13:45:54.076176Z",
     "iopub.status.idle": "2025-07-30T13:45:56.068540Z",
     "shell.execute_reply": "2025-07-30T13:45:56.067796Z"
    },
    "papermill": {
     "duration": 2.019377,
     "end_time": "2025-07-30T13:45:56.069961",
     "exception": false,
     "start_time": "2025-07-30T13:45:54.050584",
     "status": "completed"
    },
    "tags": []
   },
   "outputs": [],
   "source": [
    "example_universe = universe.copy()\n",
    "example_universe[\"cutoff\"] = example_universe[\"cutoff\"][0]\n",
    "example_universe[\"eval_fairness_grouping\"] = example_universe[\"eval_fairness_grouping\"][0]\n",
    "fairness_dict, metric_frame = universe_analysis.compute_metrics(\n",
    "    example_universe,\n",
    "    y_pred_prob=probs_test,\n",
    "    y_test=y_true,\n",
    "    org_test=org_test,\n",
    ")"
   ]
  },
  {
   "cell_type": "markdown",
   "id": "f95d4e02",
   "metadata": {
    "papermill": {
     "duration": 0.013308,
     "end_time": "2025-07-30T13:45:56.099645",
     "exception": false,
     "start_time": "2025-07-30T13:45:56.086337",
     "status": "completed"
    },
    "tags": []
   },
   "source": [
    "# Overall"
   ]
  },
  {
   "cell_type": "markdown",
   "id": "bdee4871",
   "metadata": {
    "papermill": {
     "duration": 0.013263,
     "end_time": "2025-07-30T13:45:56.126393",
     "exception": false,
     "start_time": "2025-07-30T13:45:56.113130",
     "status": "completed"
    },
    "tags": []
   },
   "source": [
    "Fairness\n",
    "Main fairness target: Equalized Odds. Seems to be a better fit than equal opportunity, since we're not only interested in Y = 1. Seems to be a better fit than demographic parity, since we also care about accuracy, not just equal distribution of preds.\n",
    "\n",
    "Pick column for computation of fairness metrics\n",
    "\n",
    "Performance\n",
    "Overall performance measures, most interesting in relation to the measures split by group below"
   ]
  },
  {
   "cell_type": "code",
   "execution_count": 74,
   "id": "c4e067c6",
   "metadata": {
    "execution": {
     "iopub.execute_input": "2025-07-30T13:45:56.154692Z",
     "iopub.status.busy": "2025-07-30T13:45:56.154198Z",
     "iopub.status.idle": "2025-07-30T13:45:56.161576Z",
     "shell.execute_reply": "2025-07-30T13:45:56.160900Z"
    },
    "papermill": {
     "duration": 0.023049,
     "end_time": "2025-07-30T13:45:56.162878",
     "exception": false,
     "start_time": "2025-07-30T13:45:56.139829",
     "status": "completed"
    },
    "tags": []
   },
   "outputs": [
    {
     "data": {
      "text/plain": [
       "accuracy                   0.224445\n",
       "balanced accuracy          0.548785\n",
       "f1                         0.245775\n",
       "precision                  0.140403\n",
       "false positive rate        0.887484\n",
       "false negative rate        0.014946\n",
       "selection rate             0.900000\n",
       "count                  89710.000000\n",
       "dtype: float64"
      ]
     },
     "execution_count": 74,
     "metadata": {},
     "output_type": "execute_result"
    }
   ],
   "source": [
    "metric_frame.overall"
   ]
  },
  {
   "cell_type": "markdown",
   "id": "e968fe9d",
   "metadata": {
    "papermill": {
     "duration": 0.01333,
     "end_time": "2025-07-30T13:45:56.190780",
     "exception": false,
     "start_time": "2025-07-30T13:45:56.177450",
     "status": "completed"
    },
    "tags": []
   },
   "source": [
    "By Group"
   ]
  },
  {
   "cell_type": "code",
   "execution_count": 75,
   "id": "ec325bce",
   "metadata": {
    "execution": {
     "iopub.execute_input": "2025-07-30T13:45:56.219487Z",
     "iopub.status.busy": "2025-07-30T13:45:56.218959Z",
     "iopub.status.idle": "2025-07-30T13:45:56.230985Z",
     "shell.execute_reply": "2025-07-30T13:45:56.230253Z"
    },
    "papermill": {
     "duration": 0.027969,
     "end_time": "2025-07-30T13:45:56.232253",
     "exception": false,
     "start_time": "2025-07-30T13:45:56.204284",
     "status": "completed"
    },
    "tags": []
   },
   "outputs": [
    {
     "data": {
      "text/html": [
       "<div>\n",
       "<style scoped>\n",
       "    .dataframe tbody tr th:only-of-type {\n",
       "        vertical-align: middle;\n",
       "    }\n",
       "\n",
       "    .dataframe tbody tr th {\n",
       "        vertical-align: top;\n",
       "    }\n",
       "\n",
       "    .dataframe thead th {\n",
       "        text-align: right;\n",
       "    }\n",
       "</style>\n",
       "<table border=\"1\" class=\"dataframe\">\n",
       "  <thead>\n",
       "    <tr style=\"text-align: right;\">\n",
       "      <th></th>\n",
       "      <th>accuracy</th>\n",
       "      <th>balanced accuracy</th>\n",
       "      <th>f1</th>\n",
       "      <th>precision</th>\n",
       "      <th>false positive rate</th>\n",
       "      <th>false negative rate</th>\n",
       "      <th>selection rate</th>\n",
       "      <th>count</th>\n",
       "    </tr>\n",
       "    <tr>\n",
       "      <th>majmin</th>\n",
       "      <th></th>\n",
       "      <th></th>\n",
       "      <th></th>\n",
       "      <th></th>\n",
       "      <th></th>\n",
       "      <th></th>\n",
       "      <th></th>\n",
       "      <th></th>\n",
       "    </tr>\n",
       "  </thead>\n",
       "  <tbody>\n",
       "    <tr>\n",
       "      <th>majority</th>\n",
       "      <td>0.242490</td>\n",
       "      <td>0.557223</td>\n",
       "      <td>0.255756</td>\n",
       "      <td>0.146957</td>\n",
       "      <td>0.870565</td>\n",
       "      <td>0.014989</td>\n",
       "      <td>0.885687</td>\n",
       "      <td>69170.0</td>\n",
       "    </tr>\n",
       "    <tr>\n",
       "      <th>minority</th>\n",
       "      <td>0.163681</td>\n",
       "      <td>0.520923</td>\n",
       "      <td>0.213606</td>\n",
       "      <td>0.119788</td>\n",
       "      <td>0.943374</td>\n",
       "      <td>0.014780</td>\n",
       "      <td>0.948199</td>\n",
       "      <td>20540.0</td>\n",
       "    </tr>\n",
       "  </tbody>\n",
       "</table>\n",
       "</div>"
      ],
      "text/plain": [
       "          accuracy  balanced accuracy        f1  precision  \\\n",
       "majmin                                                       \n",
       "majority  0.242490           0.557223  0.255756   0.146957   \n",
       "minority  0.163681           0.520923  0.213606   0.119788   \n",
       "\n",
       "          false positive rate  false negative rate  selection rate    count  \n",
       "majmin                                                                       \n",
       "majority             0.870565             0.014989        0.885687  69170.0  \n",
       "minority             0.943374             0.014780        0.948199  20540.0  "
      ]
     },
     "execution_count": 75,
     "metadata": {},
     "output_type": "execute_result"
    }
   ],
   "source": [
    "metric_frame.by_group"
   ]
  },
  {
   "cell_type": "code",
   "execution_count": 76,
   "id": "a9ddbe63",
   "metadata": {
    "execution": {
     "iopub.execute_input": "2025-07-30T13:45:56.262341Z",
     "iopub.status.busy": "2025-07-30T13:45:56.261885Z",
     "iopub.status.idle": "2025-07-30T13:45:58.440426Z",
     "shell.execute_reply": "2025-07-30T13:45:58.439664Z"
    },
    "papermill": {
     "duration": 2.195071,
     "end_time": "2025-07-30T13:45:58.441969",
     "exception": false,
     "start_time": "2025-07-30T13:45:56.246898",
     "status": "completed"
    },
    "tags": []
   },
   "outputs": [
    {
     "data": {
      "text/plain": [
       "array([[<Axes: title={'center': 'accuracy'}, xlabel='majmin'>,\n",
       "        <Axes: title={'center': 'balanced accuracy'}, xlabel='majmin'>,\n",
       "        <Axes: title={'center': 'f1'}, xlabel='majmin'>],\n",
       "       [<Axes: title={'center': 'precision'}, xlabel='majmin'>,\n",
       "        <Axes: title={'center': 'false positive rate'}, xlabel='majmin'>,\n",
       "        <Axes: title={'center': 'false negative rate'}, xlabel='majmin'>],\n",
       "       [<Axes: title={'center': 'selection rate'}, xlabel='majmin'>,\n",
       "        <Axes: title={'center': 'count'}, xlabel='majmin'>,\n",
       "        <Axes: xlabel='majmin'>]], dtype=object)"
      ]
     },
     "execution_count": 76,
     "metadata": {},
     "output_type": "execute_result"
    },
    {
     "data": {
      "image/png": "[encoded data removed]",
      "text/plain": [
       "<Figure size 1200x800 with 9 Axes>"
      ]
     },
     "metadata": {},
     "output_type": "display_data"
    }
   ],
   "source": [
    "# In a graphic\n",
    "metric_frame.by_group.plot.bar(\n",
    "    subplots=True,\n",
    "    layout=[3, 3],\n",
    "    legend=False,\n",
    "    figsize=[12, 8],\n",
    "    title=\"Show all metrics\",\n",
    ")"
   ]
  },
  {
   "cell_type": "markdown",
   "id": "f57a0bac",
   "metadata": {
    "papermill": {
     "duration": 0.028696,
     "end_time": "2025-07-30T13:45:58.501790",
     "exception": false,
     "start_time": "2025-07-30T13:45:58.473094",
     "status": "completed"
    },
    "tags": []
   },
   "source": [
    "# Final Output"
   ]
  },
  {
   "cell_type": "code",
   "execution_count": 77,
   "id": "96d280a3",
   "metadata": {
    "execution": {
     "iopub.execute_input": "2025-07-30T13:45:58.559028Z",
     "iopub.status.busy": "2025-07-30T13:45:58.558334Z",
     "iopub.status.idle": "2025-07-30T13:45:58.568204Z",
     "shell.execute_reply": "2025-07-30T13:45:58.567119Z"
    },
    "papermill": {
     "duration": 0.03751,
     "end_time": "2025-07-30T13:45:58.570139",
     "exception": false,
     "start_time": "2025-07-30T13:45:58.532629",
     "status": "completed"
    },
    "tags": []
   },
   "outputs": [
    {
     "data": {
      "text/plain": [
       "4"
      ]
     },
     "execution_count": 77,
     "metadata": {},
     "output_type": "execute_result"
    }
   ],
   "source": [
    "sub_universes = universe_analysis.generate_sub_universes()\n",
    "len(sub_universes)"
   ]
  },
  {
   "cell_type": "code",
   "execution_count": 78,
   "id": "92adf7ba",
   "metadata": {
    "execution": {
     "iopub.execute_input": "2025-07-30T13:45:58.638884Z",
     "iopub.status.busy": "2025-07-30T13:45:58.637902Z",
     "iopub.status.idle": "2025-07-30T13:45:58.644850Z",
     "shell.execute_reply": "2025-07-30T13:45:58.643746Z"
    },
    "papermill": {
     "duration": 0.042485,
     "end_time": "2025-07-30T13:45:58.646507",
     "exception": false,
     "start_time": "2025-07-30T13:45:58.604022",
     "status": "completed"
    },
    "tags": []
   },
   "outputs": [],
   "source": [
    "def filter_sub_universe_data(sub_universe, org_test):\n",
    "    # Keep all rows — no filtering\n",
    "    keep_rows_mask = np.ones(org_test.shape[0], dtype=bool)\n",
    "\n",
    "    print(f\"[INFO] Keeping all rows: {keep_rows_mask.sum()} rows retained.\")\n",
    "    return keep_rows_mask"
   ]
  },
  {
   "cell_type": "code",
   "execution_count": 79,
   "id": "4a759155",
   "metadata": {
    "execution": {
     "iopub.execute_input": "2025-07-30T13:45:58.713454Z",
     "iopub.status.busy": "2025-07-30T13:45:58.712542Z",
     "iopub.status.idle": "2025-07-30T13:46:07.411471Z",
     "shell.execute_reply": "2025-07-30T13:46:07.410456Z"
    },
    "papermill": {
     "duration": 8.733402,
     "end_time": "2025-07-30T13:46:07.412875",
     "exception": false,
     "start_time": "2025-07-30T13:45:58.679473",
     "status": "completed"
    },
    "tags": []
   },
   "outputs": [
    {
     "name": "stdout",
     "output_type": "stream",
     "text": [
      "Stopping execution_time clock.\n",
      "[INFO] Keeping all rows: 89710 rows retained.\n"
     ]
    },
    {
     "name": "stdout",
     "output_type": "stream",
     "text": [
      "[INFO] Keeping all rows: 89710 rows retained.\n"
     ]
    },
    {
     "name": "stdout",
     "output_type": "stream",
     "text": [
      "[INFO] Keeping all rows: 89710 rows retained.\n"
     ]
    },
    {
     "name": "stdout",
     "output_type": "stream",
     "text": [
      "[INFO] Keeping all rows: 89710 rows retained.\n"
     ]
    },
    {
     "data": {
      "text/html": [
       "<div>\n",
       "<style scoped>\n",
       "    .dataframe tbody tr th:only-of-type {\n",
       "        vertical-align: middle;\n",
       "    }\n",
       "\n",
       "    .dataframe tbody tr th {\n",
       "        vertical-align: top;\n",
       "    }\n",
       "\n",
       "    .dataframe thead th {\n",
       "        text-align: right;\n",
       "    }\n",
       "</style>\n",
       "<table border=\"1\" class=\"dataframe\">\n",
       "  <thead>\n",
       "    <tr style=\"text-align: right;\">\n",
       "      <th></th>\n",
       "      <th>run_no</th>\n",
       "      <th>universe_id</th>\n",
       "      <th>universe_settings</th>\n",
       "      <th>execution_time</th>\n",
       "      <th>test_size_n</th>\n",
       "      <th>test_size_frac</th>\n",
       "      <th>fair_main_equalized_odds_difference</th>\n",
       "      <th>fair_main_equalized_odds_ratio</th>\n",
       "      <th>fair_main_demographic_parity_difference</th>\n",
       "      <th>fair_main_demographic_parity_ratio</th>\n",
       "      <th>...</th>\n",
       "      <th>perf_grp_precision_0</th>\n",
       "      <th>perf_grp_precision_1</th>\n",
       "      <th>perf_grp_false positive rate_0</th>\n",
       "      <th>perf_grp_false positive rate_1</th>\n",
       "      <th>perf_grp_false negative rate_0</th>\n",
       "      <th>perf_grp_false negative rate_1</th>\n",
       "      <th>perf_grp_selection rate_0</th>\n",
       "      <th>perf_grp_selection rate_1</th>\n",
       "      <th>perf_grp_count_0</th>\n",
       "      <th>perf_grp_count_1</th>\n",
       "    </tr>\n",
       "  </thead>\n",
       "  <tbody>\n",
       "    <tr>\n",
       "      <th>0</th>\n",
       "      <td>12</td>\n",
       "      <td>a6cd33df1c2d446060ffdb239b964dbe</td>\n",
       "      <td>{\"cutoff\": \"quantile_0.1\", \"eval_fairness_grou...</td>\n",
       "      <td>33.457171</td>\n",
       "      <td>89710</td>\n",
       "      <td>1.0</td>\n",
       "      <td>0.072810</td>\n",
       "      <td>0.92282</td>\n",
       "      <td>0.062511</td>\n",
       "      <td>0.934074</td>\n",
       "      <td>...</td>\n",
       "      <td>NaN</td>\n",
       "      <td>NaN</td>\n",
       "      <td>NaN</td>\n",
       "      <td>NaN</td>\n",
       "      <td>NaN</td>\n",
       "      <td>NaN</td>\n",
       "      <td>NaN</td>\n",
       "      <td>NaN</td>\n",
       "      <td>NaN</td>\n",
       "      <td>NaN</td>\n",
       "    </tr>\n",
       "    <tr>\n",
       "      <th>0</th>\n",
       "      <td>12</td>\n",
       "      <td>a6cd33df1c2d446060ffdb239b964dbe</td>\n",
       "      <td>{\"cutoff\": \"quantile_0.1\", \"eval_fairness_grou...</td>\n",
       "      <td>33.457171</td>\n",
       "      <td>89710</td>\n",
       "      <td>1.0</td>\n",
       "      <td>0.072810</td>\n",
       "      <td>0.92282</td>\n",
       "      <td>0.062511</td>\n",
       "      <td>0.934074</td>\n",
       "      <td>...</td>\n",
       "      <td>0.119788</td>\n",
       "      <td>0.146957</td>\n",
       "      <td>0.943374</td>\n",
       "      <td>0.870565</td>\n",
       "      <td>0.014780</td>\n",
       "      <td>0.014989</td>\n",
       "      <td>0.948199</td>\n",
       "      <td>0.885687</td>\n",
       "      <td>20540.0</td>\n",
       "      <td>69170.0</td>\n",
       "    </tr>\n",
       "    <tr>\n",
       "      <th>0</th>\n",
       "      <td>12</td>\n",
       "      <td>a6cd33df1c2d446060ffdb239b964dbe</td>\n",
       "      <td>{\"cutoff\": \"quantile_0.25\", \"eval_fairness_gro...</td>\n",
       "      <td>33.457171</td>\n",
       "      <td>89710</td>\n",
       "      <td>1.0</td>\n",
       "      <td>0.150818</td>\n",
       "      <td>0.82006</td>\n",
       "      <td>0.130776</td>\n",
       "      <td>0.846296</td>\n",
       "      <td>...</td>\n",
       "      <td>NaN</td>\n",
       "      <td>NaN</td>\n",
       "      <td>NaN</td>\n",
       "      <td>NaN</td>\n",
       "      <td>NaN</td>\n",
       "      <td>NaN</td>\n",
       "      <td>NaN</td>\n",
       "      <td>NaN</td>\n",
       "      <td>NaN</td>\n",
       "      <td>NaN</td>\n",
       "    </tr>\n",
       "    <tr>\n",
       "      <th>0</th>\n",
       "      <td>12</td>\n",
       "      <td>a6cd33df1c2d446060ffdb239b964dbe</td>\n",
       "      <td>{\"cutoff\": \"quantile_0.25\", \"eval_fairness_gro...</td>\n",
       "      <td>33.457171</td>\n",
       "      <td>89710</td>\n",
       "      <td>1.0</td>\n",
       "      <td>0.150818</td>\n",
       "      <td>0.82006</td>\n",
       "      <td>0.130776</td>\n",
       "      <td>0.846296</td>\n",
       "      <td>...</td>\n",
       "      <td>0.128462</td>\n",
       "      <td>0.171566</td>\n",
       "      <td>0.838158</td>\n",
       "      <td>0.687340</td>\n",
       "      <td>0.051943</td>\n",
       "      <td>0.065098</td>\n",
       "      <td>0.850828</td>\n",
       "      <td>0.720052</td>\n",
       "      <td>20540.0</td>\n",
       "      <td>69170.0</td>\n",
       "    </tr>\n",
       "  </tbody>\n",
       "</table>\n",
       "<p>4 rows × 50 columns</p>\n",
       "</div>"
      ],
      "text/plain": [
       "  run_no                       universe_id  \\\n",
       "0     12  a6cd33df1c2d446060ffdb239b964dbe   \n",
       "0     12  a6cd33df1c2d446060ffdb239b964dbe   \n",
       "0     12  a6cd33df1c2d446060ffdb239b964dbe   \n",
       "0     12  a6cd33df1c2d446060ffdb239b964dbe   \n",
       "\n",
       "                                   universe_settings  execution_time  \\\n",
       "0  {\"cutoff\": \"quantile_0.1\", \"eval_fairness_grou...       33.457171   \n",
       "0  {\"cutoff\": \"quantile_0.1\", \"eval_fairness_grou...       33.457171   \n",
       "0  {\"cutoff\": \"quantile_0.25\", \"eval_fairness_gro...       33.457171   \n",
       "0  {\"cutoff\": \"quantile_0.25\", \"eval_fairness_gro...       33.457171   \n",
       "\n",
       "   test_size_n  test_size_frac  fair_main_equalized_odds_difference  \\\n",
       "0        89710             1.0                             0.072810   \n",
       "0        89710             1.0                             0.072810   \n",
       "0        89710             1.0                             0.150818   \n",
       "0        89710             1.0                             0.150818   \n",
       "\n",
       "   fair_main_equalized_odds_ratio  fair_main_demographic_parity_difference  \\\n",
       "0                         0.92282                                 0.062511   \n",
       "0                         0.92282                                 0.062511   \n",
       "0                         0.82006                                 0.130776   \n",
       "0                         0.82006                                 0.130776   \n",
       "\n",
       "   fair_main_demographic_parity_ratio  ...  perf_grp_precision_0  \\\n",
       "0                            0.934074  ...                   NaN   \n",
       "0                            0.934074  ...              0.119788   \n",
       "0                            0.846296  ...                   NaN   \n",
       "0                            0.846296  ...              0.128462   \n",
       "\n",
       "   perf_grp_precision_1  perf_grp_false positive rate_0  \\\n",
       "0                   NaN                             NaN   \n",
       "0              0.146957                        0.943374   \n",
       "0                   NaN                             NaN   \n",
       "0              0.171566                        0.838158   \n",
       "\n",
       "   perf_grp_false positive rate_1  perf_grp_false negative rate_0  \\\n",
       "0                             NaN                             NaN   \n",
       "0                        0.870565                        0.014780   \n",
       "0                             NaN                             NaN   \n",
       "0                        0.687340                        0.051943   \n",
       "\n",
       "   perf_grp_false negative rate_1  perf_grp_selection rate_0  \\\n",
       "0                             NaN                        NaN   \n",
       "0                        0.014989                   0.948199   \n",
       "0                             NaN                        NaN   \n",
       "0                        0.065098                   0.850828   \n",
       "\n",
       "   perf_grp_selection rate_1  perf_grp_count_0  perf_grp_count_1  \n",
       "0                        NaN               NaN               NaN  \n",
       "0                   0.885687           20540.0           69170.0  \n",
       "0                        NaN               NaN               NaN  \n",
       "0                   0.720052           20540.0           69170.0  \n",
       "\n",
       "[4 rows x 50 columns]"
      ]
     },
     "execution_count": 79,
     "metadata": {},
     "output_type": "execute_result"
    }
   ],
   "source": [
    "final_output = universe_analysis.generate_final_output(\n",
    "    y_pred_prob=probs_test,\n",
    "    y_test=y_true,\n",
    "    org_test=org_test,\n",
    "    filter_data=filter_sub_universe_data,\n",
    "    cp_metrics_df=cp_metrics_df,\n",
    "    save=True,\n",
    ")\n",
    "final_output"
   ]
  },
  {
   "cell_type": "code",
   "execution_count": null,
   "id": "721ff514-cb11-46f8-b6fc-50392f74b5cb",
   "metadata": {
    "papermill": {
     "duration": 0.028493,
     "end_time": "2025-07-30T13:46:07.474408",
     "exception": false,
     "start_time": "2025-07-30T13:46:07.445915",
     "status": "completed"
    },
    "tags": []
   },
   "outputs": [],
   "source": []
  }
 ],
 "metadata": {
  "celltoolbar": "Tags",
  "kernelspec": {
   "display_name": "Python (CMA Fairness)",
   "language": "python",
   "name": "cma_fair_env"
  },
  "language_info": {
   "codemirror_mode": {
    "name": "ipython",
    "version": 3
   },
   "file_extension": ".py",
   "mimetype": "text/x-python",
   "name": "python",
   "nbconvert_exporter": "python",
   "pygments_lexer": "ipython3",
   "version": "3.10.12"
  },
  "papermill": {
   "default_parameters": {},
   "duration": 47.498512,
   "end_time": "2025-07-30T13:46:08.242156",
   "environment_variables": {},
   "exception": null,
   "input_path": "universe_analysis.ipynb",
   "output_path": "output/runs/12/notebooks/m_12-a6cd33df1c2d446060ffdb239b964dbe.ipynb",
   "parameters": {
    "output_dir": "output",
    "run_no": "12",
    "seed": "2023",
    "universe": "{\"cutoff\": [\"quantile_0.1\", \"quantile_0.25\"], \"eval_fairness_grouping\": [\"majority-minority\", \"nationality-all\"], \"exclude_features\": \"none\", \"exclude_subgroups\": \"keep-all\", \"model\": \"elasticnet\", \"scale\": \"scale\", \"training_size\": \"5k\", \"training_year\": \"2014\"}",
    "universe_id": "a6cd33df1c2d446060ffdb239b964dbe"
   },
   "start_time": "2025-07-30T13:45:20.743644",
   "version": "2.6.0"
  }
 },
 "nbformat": 4,
 "nbformat_minor": 5
}