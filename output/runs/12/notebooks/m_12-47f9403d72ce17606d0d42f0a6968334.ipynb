{
 "cells": [
  {
   "cell_type": "code",
   "execution_count": 1,
   "id": "f159f837-637b-42ba-96b5-ec9a68c44524",
   "metadata": {
    "execution": {
     "iopub.execute_input": "2025-07-30T13:03:02.713415Z",
     "iopub.status.busy": "2025-07-30T13:03:02.712886Z",
     "iopub.status.idle": "2025-07-30T13:03:02.724263Z",
     "shell.execute_reply": "2025-07-30T13:03:02.723381Z"
    },
    "papermill": {
     "duration": 0.02685,
     "end_time": "2025-07-30T13:03:02.725690",
     "exception": false,
     "start_time": "2025-07-30T13:03:02.698840",
     "status": "completed"
    },
    "tags": []
   },
   "outputs": [
    {
     "name": "stdout",
     "output_type": "stream",
     "text": [
      "/dss/dsshome1/0C/ra93lal2/cma/CMA_Fairness_v2\n"
     ]
    },
    {
     "name": "stderr",
     "output_type": "stream",
     "text": [
      "/dss/dsshome1/0C/ra93lal2/.local/share/virtualenvs/CMA_Fairness_v2-3j10GkSs/lib/python3.10/site-packages/IPython/core/magics/osm.py:393: UserWarning: This is now an optional IPython functionality, using bookmarks requires you to install the `pickleshare` library.\n",
      "  bkms = self.shell.db.get('bookmarks', {})\n",
      "/dss/dsshome1/0C/ra93lal2/.local/share/virtualenvs/CMA_Fairness_v2-3j10GkSs/lib/python3.10/site-packages/IPython/core/magics/osm.py:417: UserWarning: This is now an optional IPython functionality, setting dhist requires you to install the `pickleshare` library.\n",
      "  self.shell.db['dhist'] = compress_dhist(dhist)[-100:]\n"
     ]
    }
   ],
   "source": [
    "%cd ~/cma/CMA_Fairness_v2"
   ]
  },
  {
   "cell_type": "markdown",
   "id": "de2603b9",
   "metadata": {
    "papermill": {
     "duration": 0.009701,
     "end_time": "2025-07-30T13:03:02.746329",
     "exception": false,
     "start_time": "2025-07-30T13:03:02.736628",
     "status": "completed"
    },
    "tags": []
   },
   "source": [
    "The following cell holds the definition of our parameters, these values can be overriden by rendering the with e.g. the following command:\n",
    "\n",
    "papermill -p alpha 0.2 -p ratio 0.3 universe_analysis.ipynb output/test_run.ipynb"
   ]
  },
  {
   "cell_type": "code",
   "execution_count": 2,
   "id": "a80968a0-40bb-4fa9-85ef-2d5eefb01975",
   "metadata": {
    "execution": {
     "iopub.execute_input": "2025-07-30T13:03:02.767859Z",
     "iopub.status.busy": "2025-07-30T13:03:02.767395Z",
     "iopub.status.idle": "2025-07-30T13:03:02.772424Z",
     "shell.execute_reply": "2025-07-30T13:03:02.771639Z"
    },
    "papermill": {
     "duration": 0.017231,
     "end_time": "2025-07-30T13:03:02.773729",
     "exception": false,
     "start_time": "2025-07-30T13:03:02.756498",
     "status": "completed"
    },
    "tags": []
   },
   "outputs": [
    {
     "name": "stdout",
     "output_type": "stream",
     "text": [
      "Current working directory: /dss/dsshome1/0C/ra93lal2/cma/CMA_Fairness_v2\n"
     ]
    }
   ],
   "source": [
    "import os\n",
    "print(\"Current working directory:\", os.getcwd())"
   ]
  },
  {
   "cell_type": "code",
   "execution_count": 3,
   "id": "2dce4c03",
   "metadata": {
    "execution": {
     "iopub.execute_input": "2025-07-30T13:03:02.796069Z",
     "iopub.status.busy": "2025-07-30T13:03:02.795742Z",
     "iopub.status.idle": "2025-07-30T13:03:02.800390Z",
     "shell.execute_reply": "2025-07-30T13:03:02.799518Z"
    },
    "papermill": {
     "duration": 0.016768,
     "end_time": "2025-07-30T13:03:02.801835",
     "exception": false,
     "start_time": "2025-07-30T13:03:02.785067",
     "status": "completed"
    },
    "tags": [
     "parameters"
    ]
   },
   "outputs": [],
   "source": [
    "run_no = 0\n",
    "universe_id = \"test\"\n",
    "universe = {\n",
    "    \"training_size\": \"25k\", # \"25k\", \"5k\", \"1k\"\n",
    "    \"training_year\": \"2014\", # \"2014\", \"2012_14\", \"2010_14\"\n",
    "    \"scale\": \"scale\", # \"scale\", \"do-not-scale\",\n",
    "    #\"stratify_split\": \"target\", # \"none\", \"target\", \"protected-attribute\", \"both\",\n",
    "    \"model\": \"elasticnet\", # \"logreg\", \"penalized_logreg\", \"rf\", \"gbm\", \"elasticnet\"\n",
    "    \"cutoff\": [\"quantile_0.15\", \"quantile_0.30\"],\n",
    "    \"exclude_features\": \"age\", # \"none\", \"nationality\", \"sex\", \"nationality-sex\", \"age\"\n",
    "    \"exclude_subgroups\": \"keep-all\", # \"keep-all\", \"drop-non-german\"\n",
    "    \"eval_fairness_grouping\": [\"majority-minority\", \"nationality-all\"]\n",
    "}\n",
    "\n",
    "output_dir=\"./output\"\n",
    "seed=0"
   ]
  },
  {
   "cell_type": "code",
   "execution_count": 4,
   "id": "5e0645ba",
   "metadata": {
    "execution": {
     "iopub.execute_input": "2025-07-30T13:03:02.824829Z",
     "iopub.status.busy": "2025-07-30T13:03:02.824218Z",
     "iopub.status.idle": "2025-07-30T13:03:02.828754Z",
     "shell.execute_reply": "2025-07-30T13:03:02.827978Z"
    },
    "papermill": {
     "duration": 0.016748,
     "end_time": "2025-07-30T13:03:02.830043",
     "exception": false,
     "start_time": "2025-07-30T13:03:02.813295",
     "status": "completed"
    },
    "tags": [
     "injected-parameters"
    ]
   },
   "outputs": [],
   "source": [
    "# Parameters\n",
    "universe_id = \"47f9403d72ce17606d0d42f0a6968334\"\n",
    "run_no = \"12\"\n",
    "universe = \"{\\\"cutoff\\\": [\\\"quantile_0.1\\\", \\\"quantile_0.25\\\"], \\\"eval_fairness_grouping\\\": [\\\"majority-minority\\\", \\\"nationality-all\\\"], \\\"exclude_features\\\": \\\"age\\\", \\\"exclude_subgroups\\\": \\\"drop-non-german\\\", \\\"model\\\": \\\"elasticnet\\\", \\\"scale\\\": \\\"do-not-scale\\\", \\\"training_size\\\": \\\"25k\\\", \\\"training_year\\\": \\\"2014\\\"}\"\n",
    "output_dir = \"output\"\n",
    "seed = \"2023\"\n"
   ]
  },
  {
   "cell_type": "code",
   "execution_count": 5,
   "id": "1650acaf",
   "metadata": {
    "execution": {
     "iopub.execute_input": "2025-07-30T13:03:02.852728Z",
     "iopub.status.busy": "2025-07-30T13:03:02.852219Z",
     "iopub.status.idle": "2025-07-30T13:03:02.856604Z",
     "shell.execute_reply": "2025-07-30T13:03:02.855790Z"
    },
    "papermill": {
     "duration": 0.01659,
     "end_time": "2025-07-30T13:03:02.858092",
     "exception": false,
     "start_time": "2025-07-30T13:03:02.841502",
     "status": "completed"
    },
    "tags": []
   },
   "outputs": [],
   "source": [
    "import json\n",
    "# Parse universe into dict if it is passed as a string\n",
    "if isinstance(universe, str):\n",
    "    universe = json.loads(universe)"
   ]
  },
  {
   "cell_type": "code",
   "execution_count": 6,
   "id": "16620c48",
   "metadata": {
    "execution": {
     "iopub.execute_input": "2025-07-30T13:03:02.880633Z",
     "iopub.status.busy": "2025-07-30T13:03:02.880151Z",
     "iopub.status.idle": "2025-07-30T13:03:02.908720Z",
     "shell.execute_reply": "2025-07-30T13:03:02.908013Z"
    },
    "papermill": {
     "duration": 0.040539,
     "end_time": "2025-07-30T13:03:02.910014",
     "exception": false,
     "start_time": "2025-07-30T13:03:02.869475",
     "status": "completed"
    },
    "tags": []
   },
   "outputs": [],
   "source": [
    "# Auto-reload the custom package\n",
    "%load_ext autoreload\n",
    "%autoreload 1\n",
    "%aimport fairness_multiverse"
   ]
  },
  {
   "cell_type": "code",
   "execution_count": 7,
   "id": "01c5c9f3",
   "metadata": {
    "execution": {
     "iopub.execute_input": "2025-07-30T13:03:02.932119Z",
     "iopub.status.busy": "2025-07-30T13:03:02.931442Z",
     "iopub.status.idle": "2025-07-30T13:03:04.263083Z",
     "shell.execute_reply": "2025-07-30T13:03:04.261877Z"
    },
    "papermill": {
     "duration": 1.344224,
     "end_time": "2025-07-30T13:03:04.264917",
     "exception": false,
     "start_time": "2025-07-30T13:03:02.920693",
     "status": "completed"
    },
    "tags": []
   },
   "outputs": [],
   "source": [
    "from fairness_multiverse.universe import UniverseAnalysis\n",
    "\n",
    "universe_analysis = UniverseAnalysis(\n",
    "    run_no = run_no,\n",
    "    universe_id = universe_id,\n",
    "    universe = universe,\n",
    "    output_dir=output_dir,\n",
    ")"
   ]
  },
  {
   "cell_type": "code",
   "execution_count": 8,
   "id": "106241f5",
   "metadata": {
    "execution": {
     "iopub.execute_input": "2025-07-30T13:03:04.306911Z",
     "iopub.status.busy": "2025-07-30T13:03:04.306529Z",
     "iopub.status.idle": "2025-07-30T13:03:04.313469Z",
     "shell.execute_reply": "2025-07-30T13:03:04.312381Z"
    },
    "papermill": {
     "duration": 0.03021,
     "end_time": "2025-07-30T13:03:04.314964",
     "exception": false,
     "start_time": "2025-07-30T13:03:04.284754",
     "status": "completed"
    },
    "tags": []
   },
   "outputs": [
    {
     "name": "stdout",
     "output_type": "stream",
     "text": [
      "Using Seed: 2023\n"
     ]
    }
   ],
   "source": [
    "import numpy as np\n",
    "parsed_seed = int(seed)\n",
    "np.random.seed(parsed_seed)\n",
    "print(f\"Using Seed: {parsed_seed}\")"
   ]
  },
  {
   "cell_type": "markdown",
   "id": "e0ebdc57",
   "metadata": {
    "papermill": {
     "duration": 0.019328,
     "end_time": "2025-07-30T13:03:04.355001",
     "exception": false,
     "start_time": "2025-07-30T13:03:04.335673",
     "status": "completed"
    },
    "tags": []
   },
   "source": [
    "# Loading Data"
   ]
  },
  {
   "cell_type": "markdown",
   "id": "681925a3",
   "metadata": {
    "papermill": {
     "duration": 0.018818,
     "end_time": "2025-07-30T13:03:04.392600",
     "exception": false,
     "start_time": "2025-07-30T13:03:04.373782",
     "status": "completed"
    },
    "tags": []
   },
   "source": [
    "Load siab_train, siab_test, siab_calib and/or \n",
    "load siab_train_features, siab_train_labels"
   ]
  },
  {
   "cell_type": "code",
   "execution_count": 9,
   "id": "f0496b8a",
   "metadata": {
    "execution": {
     "iopub.execute_input": "2025-07-30T13:03:04.431899Z",
     "iopub.status.busy": "2025-07-30T13:03:04.431407Z",
     "iopub.status.idle": "2025-07-30T13:03:14.250525Z",
     "shell.execute_reply": "2025-07-30T13:03:14.249785Z"
    },
    "papermill": {
     "duration": 9.840152,
     "end_time": "2025-07-30T13:03:14.251730",
     "exception": false,
     "start_time": "2025-07-30T13:03:04.411578",
     "status": "completed"
    },
    "tags": []
   },
   "outputs": [
    {
     "name": "stdout",
     "output_type": "stream",
     "text": [
      "Loading SIAB data from cache: data/siab_cached.csv.gz\n"
     ]
    },
    {
     "name": "stdout",
     "output_type": "stream",
     "text": [
      "(643690, 164)\n"
     ]
    }
   ],
   "source": [
    "from pathlib import Path\n",
    "import pandas as pd\n",
    "\n",
    "# File paths\n",
    "raw_file = Path(\"data/raw/siab.csv\")\n",
    "cache_file = Path(\"data/siab_cached.csv.gz\")\n",
    "\n",
    "# Ensure cache directory exists\n",
    "cache_file.parent.mkdir(parents=True, exist_ok=True)\n",
    "\n",
    "# Load with simple caching\n",
    "if cache_file.exists():\n",
    "    print(f\"Loading SIAB data from cache: {cache_file}\")\n",
    "    siab = pd.read_csv(cache_file, compression='gzip')\n",
    "else:\n",
    "    print(f\"Cache not found. Reading raw SIAB data: {raw_file}\")\n",
    "    siab = pd.read_csv(raw_file)\n",
    "    siab.to_csv(cache_file, index=False, compression='gzip')\n",
    "    print(f\"Cached SIAB data to: {cache_file}\")\n",
    "\n",
    "# Now use `siab` DataFrame as needed\n",
    "print(siab.shape)"
   ]
  },
  {
   "cell_type": "code",
   "execution_count": 10,
   "id": "db0ca512-5f53-4dba-abdb-a2888bca41ba",
   "metadata": {
    "execution": {
     "iopub.execute_input": "2025-07-30T13:03:14.277191Z",
     "iopub.status.busy": "2025-07-30T13:03:14.276713Z",
     "iopub.status.idle": "2025-07-30T13:03:14.281597Z",
     "shell.execute_reply": "2025-07-30T13:03:14.280919Z"
    },
    "papermill": {
     "duration": 0.017565,
     "end_time": "2025-07-30T13:03:14.283005",
     "exception": false,
     "start_time": "2025-07-30T13:03:14.265440",
     "status": "completed"
    },
    "tags": []
   },
   "outputs": [],
   "source": [
    "#siab"
   ]
  },
  {
   "cell_type": "code",
   "execution_count": 11,
   "id": "a0edb063",
   "metadata": {
    "execution": {
     "iopub.execute_input": "2025-07-30T13:03:14.306645Z",
     "iopub.status.busy": "2025-07-30T13:03:14.305958Z",
     "iopub.status.idle": "2025-07-30T13:03:14.310270Z",
     "shell.execute_reply": "2025-07-30T13:03:14.309563Z"
    },
    "papermill": {
     "duration": 0.016812,
     "end_time": "2025-07-30T13:03:14.311604",
     "exception": false,
     "start_time": "2025-07-30T13:03:14.294792",
     "status": "completed"
    },
    "tags": []
   },
   "outputs": [],
   "source": [
    "#import pandas as pd\n",
    "#\n",
    "#X_train = pd.read_csv(\"./data/X_train.csv\")\n",
    "#y_train = pd.read_csv(\"./data/y_train.csv\")"
   ]
  },
  {
   "cell_type": "code",
   "execution_count": 12,
   "id": "63d08085",
   "metadata": {
    "execution": {
     "iopub.execute_input": "2025-07-30T13:03:14.335301Z",
     "iopub.status.busy": "2025-07-30T13:03:14.334771Z",
     "iopub.status.idle": "2025-07-30T13:03:14.338764Z",
     "shell.execute_reply": "2025-07-30T13:03:14.337995Z"
    },
    "papermill": {
     "duration": 0.016751,
     "end_time": "2025-07-30T13:03:14.340250",
     "exception": false,
     "start_time": "2025-07-30T13:03:14.323499",
     "status": "completed"
    },
    "tags": []
   },
   "outputs": [],
   "source": [
    "#X_test = pd.read_csv(\"./data/X_test.csv\")\n",
    "#y_true = pd.read_csv(\"./data/y_test.csv\")"
   ]
  },
  {
   "cell_type": "code",
   "execution_count": 13,
   "id": "98a8d0fa-1d3d-4ed8-bb2c-281470e24add",
   "metadata": {
    "execution": {
     "iopub.execute_input": "2025-07-30T13:03:14.363619Z",
     "iopub.status.busy": "2025-07-30T13:03:14.363257Z",
     "iopub.status.idle": "2025-07-30T13:03:14.367213Z",
     "shell.execute_reply": "2025-07-30T13:03:14.366452Z"
    },
    "papermill": {
     "duration": 0.016678,
     "end_time": "2025-07-30T13:03:14.368624",
     "exception": false,
     "start_time": "2025-07-30T13:03:14.351946",
     "status": "completed"
    },
    "tags": []
   },
   "outputs": [],
   "source": [
    "# Calibration data for conformal\n",
    "#X_calib = pd.read_csv(\"./data/X_calib.csv\")\n",
    "#y_calib = pd.read_csv(\"./data/y_calib.csv\")"
   ]
  },
  {
   "cell_type": "markdown",
   "id": "997051c5-15bd-4b69-9786-c3001a3ce484",
   "metadata": {
    "papermill": {
     "duration": 0.010289,
     "end_time": "2025-07-30T13:03:14.390880",
     "exception": false,
     "start_time": "2025-07-30T13:03:14.380591",
     "status": "completed"
    },
    "tags": []
   },
   "source": [
    "# Splitting Data and Setting Training Data Size"
   ]
  },
  {
   "cell_type": "code",
   "execution_count": 14,
   "id": "e993b61f-042d-41a6-8c81-f55681f86335",
   "metadata": {
    "execution": {
     "iopub.execute_input": "2025-07-30T13:03:14.413831Z",
     "iopub.status.busy": "2025-07-30T13:03:14.412991Z",
     "iopub.status.idle": "2025-07-30T13:03:14.422121Z",
     "shell.execute_reply": "2025-07-30T13:03:14.421419Z"
    },
    "papermill": {
     "duration": 0.022035,
     "end_time": "2025-07-30T13:03:14.423490",
     "exception": false,
     "start_time": "2025-07-30T13:03:14.401455",
     "status": "completed"
    },
    "tags": []
   },
   "outputs": [],
   "source": [
    "def sample_by_year_size(df,\n",
    "                        training_year: str,\n",
    "                        training_size: str,\n",
    "                        random_state: int = 42):\n",
    "    # --- parse training_year into a list of int years ---\n",
    "    if \"_\" in training_year:\n",
    "        start_str, end_str = training_year.split(\"_\", 1)\n",
    "        start = int(start_str)\n",
    "        end   = int(end_str) if len(end_str) == 4 else (int(end_str) + (start // 100)*100)\n",
    "        years = list(range(start, end + 1))\n",
    "    else:\n",
    "        years = [int(training_year)]\n",
    "\n",
    "    df = df[df[\"year\"].isin(years)].reset_index(drop=True)\n",
    "\n",
    "    # --- map training_size to total number of samples ---\n",
    "    total_map = {\"25k\": 25_000, \"5k\": 5_000, \"1k\": 1_000}\n",
    "    if training_size not in total_map:\n",
    "        return df  # e.g. \"all\"\n",
    "\n",
    "    total_samples = total_map[training_size]\n",
    "    n_years       = len(years)\n",
    "    base          = total_samples // n_years\n",
    "    remainder     = total_samples % n_years\n",
    "\n",
    "    # --- build a dict: year -> how many to sample ---\n",
    "    # give +1 to the first `remainder` years in ascending order\n",
    "    quotas = {\n",
    "        year: base + (1 if idx < remainder else 0)\n",
    "        for idx, year in enumerate(sorted(years))\n",
    "    }\n",
    "\n",
    "    # --- sample per‐year according to the quota dict ---\n",
    "    sampled = (\n",
    "        df\n",
    "        .groupby(\"year\", group_keys=False)\n",
    "        .apply(lambda grp: grp.sample(\n",
    "            n=min(len(grp), quotas[grp.name]),\n",
    "            random_state=random_state))\n",
    "        .reset_index(drop=True)\n",
    "    )\n",
    "\n",
    "    return sampled"
   ]
  },
  {
   "cell_type": "code",
   "execution_count": 15,
   "id": "c0ccd338-0e02-41f3-a09d-f56f9266e3fb",
   "metadata": {
    "execution": {
     "iopub.execute_input": "2025-07-30T13:03:14.447361Z",
     "iopub.status.busy": "2025-07-30T13:03:14.446999Z",
     "iopub.status.idle": "2025-07-30T13:03:14.455514Z",
     "shell.execute_reply": "2025-07-30T13:03:14.454752Z"
    },
    "papermill": {
     "duration": 0.021351,
     "end_time": "2025-07-30T13:03:14.457001",
     "exception": false,
     "start_time": "2025-07-30T13:03:14.435650",
     "status": "completed"
    },
    "tags": []
   },
   "outputs": [
    {
     "data": {
      "text/plain": [
       "'25k'"
      ]
     },
     "execution_count": 15,
     "metadata": {},
     "output_type": "execute_result"
    }
   ],
   "source": [
    "universe[\"training_size\"]"
   ]
  },
  {
   "cell_type": "code",
   "execution_count": 16,
   "id": "ca707fd7-8047-4acd-bfa5-66248fbbf8e6",
   "metadata": {
    "execution": {
     "iopub.execute_input": "2025-07-30T13:03:14.480692Z",
     "iopub.status.busy": "2025-07-30T13:03:14.480080Z",
     "iopub.status.idle": "2025-07-30T13:03:14.486051Z",
     "shell.execute_reply": "2025-07-30T13:03:14.485287Z"
    },
    "papermill": {
     "duration": 0.018883,
     "end_time": "2025-07-30T13:03:14.487510",
     "exception": false,
     "start_time": "2025-07-30T13:03:14.468627",
     "status": "completed"
    },
    "tags": []
   },
   "outputs": [
    {
     "data": {
      "text/plain": [
       "'2014'"
      ]
     },
     "execution_count": 16,
     "metadata": {},
     "output_type": "execute_result"
    }
   ],
   "source": [
    "universe[\"training_year\"]"
   ]
  },
  {
   "cell_type": "code",
   "execution_count": 17,
   "id": "aea9c6ef-6f46-42c8-85eb-5a62025c1508",
   "metadata": {
    "execution": {
     "iopub.execute_input": "2025-07-30T13:03:14.511690Z",
     "iopub.status.busy": "2025-07-30T13:03:14.511000Z",
     "iopub.status.idle": "2025-07-30T13:03:14.785245Z",
     "shell.execute_reply": "2025-07-30T13:03:14.784494Z"
    },
    "papermill": {
     "duration": 0.287219,
     "end_time": "2025-07-30T13:03:14.786742",
     "exception": false,
     "start_time": "2025-07-30T13:03:14.499523",
     "status": "completed"
    },
    "tags": []
   },
   "outputs": [],
   "source": [
    "siab_train = sample_by_year_size(siab,\n",
    "                               training_year=universe[\"training_year\"],\n",
    "                               training_size=universe[\"training_size\"])"
   ]
  },
  {
   "cell_type": "code",
   "execution_count": 18,
   "id": "8d3afb32-789d-442c-8d5d-9f5aa8dd2eed",
   "metadata": {
    "execution": {
     "iopub.execute_input": "2025-07-30T13:03:14.810426Z",
     "iopub.status.busy": "2025-07-30T13:03:14.810113Z",
     "iopub.status.idle": "2025-07-30T13:03:14.816330Z",
     "shell.execute_reply": "2025-07-30T13:03:14.815342Z"
    },
    "papermill": {
     "duration": 0.019254,
     "end_time": "2025-07-30T13:03:14.817700",
     "exception": false,
     "start_time": "2025-07-30T13:03:14.798446",
     "status": "completed"
    },
    "tags": []
   },
   "outputs": [
    {
     "data": {
      "text/plain": [
       "(25000, 164)"
      ]
     },
     "execution_count": 18,
     "metadata": {},
     "output_type": "execute_result"
    }
   ],
   "source": [
    "siab_train.shape"
   ]
  },
  {
   "cell_type": "code",
   "execution_count": 19,
   "id": "d582db68-1a4c-47fb-84fc-08518dc1975a",
   "metadata": {
    "execution": {
     "iopub.execute_input": "2025-07-30T13:03:14.842388Z",
     "iopub.status.busy": "2025-07-30T13:03:14.841724Z",
     "iopub.status.idle": "2025-07-30T13:03:14.849843Z",
     "shell.execute_reply": "2025-07-30T13:03:14.849051Z"
    },
    "papermill": {
     "duration": 0.021202,
     "end_time": "2025-07-30T13:03:14.851126",
     "exception": false,
     "start_time": "2025-07-30T13:03:14.829924",
     "status": "completed"
    },
    "tags": []
   },
   "outputs": [
    {
     "data": {
      "text/plain": [
       "year\n",
       "2014    25000\n",
       "dtype: int64"
      ]
     },
     "metadata": {},
     "output_type": "display_data"
    }
   ],
   "source": [
    "display(siab_train.groupby(\"year\").size())"
   ]
  },
  {
   "cell_type": "code",
   "execution_count": 20,
   "id": "a561edb4-d032-42cb-8256-22eac1111c64",
   "metadata": {
    "execution": {
     "iopub.execute_input": "2025-07-30T13:03:14.875461Z",
     "iopub.status.busy": "2025-07-30T13:03:14.874818Z",
     "iopub.status.idle": "2025-07-30T13:03:15.097214Z",
     "shell.execute_reply": "2025-07-30T13:03:15.096459Z"
    },
    "papermill": {
     "duration": 0.235572,
     "end_time": "2025-07-30T13:03:15.098711",
     "exception": false,
     "start_time": "2025-07-30T13:03:14.863139",
     "status": "completed"
    },
    "tags": []
   },
   "outputs": [],
   "source": [
    "#siab_train = siab_s[siab_s.year < 2015]\n",
    "siab_calib = siab[siab.year == 2015]\n",
    "siab_test = siab[siab.year == 2016]"
   ]
  },
  {
   "cell_type": "code",
   "execution_count": 21,
   "id": "472de16f-c3db-4916-846b-1f0de9cf1746",
   "metadata": {
    "execution": {
     "iopub.execute_input": "2025-07-30T13:03:15.122645Z",
     "iopub.status.busy": "2025-07-30T13:03:15.122345Z",
     "iopub.status.idle": "2025-07-30T13:03:15.134841Z",
     "shell.execute_reply": "2025-07-30T13:03:15.133864Z"
    },
    "papermill": {
     "duration": 0.025723,
     "end_time": "2025-07-30T13:03:15.136218",
     "exception": false,
     "start_time": "2025-07-30T13:03:15.110495",
     "status": "completed"
    },
    "tags": []
   },
   "outputs": [],
   "source": [
    "X_train = siab_train.iloc[:,4:164]\n",
    "y_train = siab_train.iloc[:, [3]]"
   ]
  },
  {
   "cell_type": "code",
   "execution_count": 22,
   "id": "828c96af-f43a-4ed6-ba47-8ac73a47d56c",
   "metadata": {
    "execution": {
     "iopub.execute_input": "2025-07-30T13:03:15.161356Z",
     "iopub.status.busy": "2025-07-30T13:03:15.160790Z",
     "iopub.status.idle": "2025-07-30T13:03:15.209374Z",
     "shell.execute_reply": "2025-07-30T13:03:15.208527Z"
    },
    "papermill": {
     "duration": 0.061716,
     "end_time": "2025-07-30T13:03:15.210725",
     "exception": false,
     "start_time": "2025-07-30T13:03:15.149009",
     "status": "completed"
    },
    "tags": []
   },
   "outputs": [],
   "source": [
    "X_calib = siab_calib.iloc[:,4:164]\n",
    "y_calib = siab_calib.iloc[:, [3]]"
   ]
  },
  {
   "cell_type": "code",
   "execution_count": 23,
   "id": "c34be9c3-6bd6-476e-acd3-845840e303be",
   "metadata": {
    "execution": {
     "iopub.execute_input": "2025-07-30T13:03:15.235840Z",
     "iopub.status.busy": "2025-07-30T13:03:15.235201Z",
     "iopub.status.idle": "2025-07-30T13:03:15.282370Z",
     "shell.execute_reply": "2025-07-30T13:03:15.281463Z"
    },
    "papermill": {
     "duration": 0.060591,
     "end_time": "2025-07-30T13:03:15.283829",
     "exception": false,
     "start_time": "2025-07-30T13:03:15.223238",
     "status": "completed"
    },
    "tags": []
   },
   "outputs": [],
   "source": [
    "X_test = siab_test.iloc[:,4:164]\n",
    "y_true = siab_test.iloc[:, [3]]"
   ]
  },
  {
   "cell_type": "markdown",
   "id": "9901737e-04df-44f0-9100-f5ad144ed040",
   "metadata": {
    "papermill": {
     "duration": 0.011219,
     "end_time": "2025-07-30T13:03:15.307594",
     "exception": false,
     "start_time": "2025-07-30T13:03:15.296375",
     "status": "completed"
    },
    "tags": []
   },
   "source": [
    "# Splitting Data and Setting Training Data Size OLD VERSION"
   ]
  },
  {
   "cell_type": "code",
   "execution_count": 24,
   "id": "acbc8f7d-8fc8-4e86-8c59-5dcb0f58384b",
   "metadata": {
    "execution": {
     "iopub.execute_input": "2025-07-30T13:03:15.331257Z",
     "iopub.status.busy": "2025-07-30T13:03:15.330523Z",
     "iopub.status.idle": "2025-07-30T13:03:15.335452Z",
     "shell.execute_reply": "2025-07-30T13:03:15.334679Z"
    },
    "papermill": {
     "duration": 0.018306,
     "end_time": "2025-07-30T13:03:15.336872",
     "exception": false,
     "start_time": "2025-07-30T13:03:15.318566",
     "status": "completed"
    },
    "tags": []
   },
   "outputs": [],
   "source": [
    "#def sample_by_year(df, training_size, random_state=42):\n",
    "#    if training_size == \"2014\":\n",
    "#        return df[df[\"year\"] == 2014].reset_index(drop=True)\n",
    "#    \n",
    "#    size_map = {\n",
    "#        \"25k\": 5000,\n",
    "#        \"5k\": 1000,\n",
    "#        \"1k\": 200\n",
    "#    }\n",
    "#\n",
    "#    if training_size not in size_map:\n",
    "#        return df.reset_index(drop=True)  # use all data\n",
    "#\n",
    "#    n_per_year = size_map[training_size]\n",
    "#    grouped = df.groupby(\"year\")\n",
    "#    sampled = grouped.apply(lambda x: x.sample(n=min(n_per_year, len(x)), random_state=random_state))\n",
    "#    return sampled.reset_index(drop=True)"
   ]
  },
  {
   "cell_type": "code",
   "execution_count": 25,
   "id": "6d931f52-beaf-43ff-9e78-9d44a448d54e",
   "metadata": {
    "execution": {
     "iopub.execute_input": "2025-07-30T13:03:15.361128Z",
     "iopub.status.busy": "2025-07-30T13:03:15.360494Z",
     "iopub.status.idle": "2025-07-30T13:03:15.364857Z",
     "shell.execute_reply": "2025-07-30T13:03:15.364091Z"
    },
    "papermill": {
     "duration": 0.017456,
     "end_time": "2025-07-30T13:03:15.366141",
     "exception": false,
     "start_time": "2025-07-30T13:03:15.348685",
     "status": "completed"
    },
    "tags": []
   },
   "outputs": [],
   "source": [
    "#siab_s = sample_by_year(siab, universe[\"training_size\"])"
   ]
  },
  {
   "cell_type": "code",
   "execution_count": 26,
   "id": "5db0a40e-a4e2-4920-be85-b12ae061d70d",
   "metadata": {
    "execution": {
     "iopub.execute_input": "2025-07-30T13:03:15.391093Z",
     "iopub.status.busy": "2025-07-30T13:03:15.390560Z",
     "iopub.status.idle": "2025-07-30T13:03:15.394737Z",
     "shell.execute_reply": "2025-07-30T13:03:15.394073Z"
    },
    "papermill": {
     "duration": 0.017903,
     "end_time": "2025-07-30T13:03:15.396194",
     "exception": false,
     "start_time": "2025-07-30T13:03:15.378291",
     "status": "completed"
    },
    "tags": []
   },
   "outputs": [],
   "source": [
    "#display(siab_s.groupby(\"year\").size())"
   ]
  },
  {
   "cell_type": "code",
   "execution_count": 27,
   "id": "e6c733c5",
   "metadata": {
    "execution": {
     "iopub.execute_input": "2025-07-30T13:03:15.420573Z",
     "iopub.status.busy": "2025-07-30T13:03:15.420077Z",
     "iopub.status.idle": "2025-07-30T13:03:15.509278Z",
     "shell.execute_reply": "2025-07-30T13:03:15.508533Z"
    },
    "papermill": {
     "duration": 0.102595,
     "end_time": "2025-07-30T13:03:15.510757",
     "exception": false,
     "start_time": "2025-07-30T13:03:15.408162",
     "status": "completed"
    },
    "tags": []
   },
   "outputs": [],
   "source": [
    "# Auxiliary data needed downstream in the pipeline\n",
    "\n",
    "org_train = X_train.copy()\n",
    "org_test = X_test.copy()\n",
    "org_calib = X_calib.copy()"
   ]
  },
  {
   "cell_type": "code",
   "execution_count": 28,
   "id": "1466abac-c6da-4492-a62f-4240ae3783af",
   "metadata": {
    "execution": {
     "iopub.execute_input": "2025-07-30T13:03:15.535495Z",
     "iopub.status.busy": "2025-07-30T13:03:15.534853Z",
     "iopub.status.idle": "2025-07-30T13:03:15.539716Z",
     "shell.execute_reply": "2025-07-30T13:03:15.538976Z"
    },
    "papermill": {
     "duration": 0.018342,
     "end_time": "2025-07-30T13:03:15.541116",
     "exception": false,
     "start_time": "2025-07-30T13:03:15.522774",
     "status": "completed"
    },
    "tags": []
   },
   "outputs": [],
   "source": [
    "# put in other script?\n",
    "# Group sizes\n",
    "\n",
    "#def calculate_percentages(df, df_name):\n",
    "#    total_entries = len(df)\n",
    "#\n",
    "#    female_pct = (df['frau1'] == 1).mean() * 100\n",
    "#    non_german_pct = ((df['maxdeutsch1'] == 0) & (df['maxdeutsch.Missing.'] == 0)).mean() * 100\n",
    "#    non_german_male_pct = ((df['frau1'] == 0) & (df['maxdeutsch1'] == 0) & (df['maxdeutsch.Missing.'] == 0)).mean() * 100\n",
    "#    non_german_female_pct = ((df['frau1'] == 1) & (df['maxdeutsch1'] == 0) & (df['maxdeutsch.Missing.'] == 0)).mean() * 100\n",
    "#\n",
    "#    print(f\"--- {df_name} ---\")\n",
    "#    print(f\"Female: {female_pct:.2f}%\")\n",
    "#    print(f\"Non-German: {non_german_pct:.2f}%\")\n",
    "#    print(f\"Non-German Male: {non_german_male_pct:.2f}%\")\n",
    "#    print(f\"Non-German Female: {non_german_female_pct:.2f}%\\n\")\n",
    "#\n",
    "## Calculate for each DataFrame\n",
    "#calculate_percentages(siab_calib, \"siab_calib\")\n",
    "#calculate_percentages(siab_test, \"siab_test\")\n",
    "#calculate_percentages(siab_train, \"siab_train\")"
   ]
  },
  {
   "cell_type": "markdown",
   "id": "0a4a1b33",
   "metadata": {
    "papermill": {
     "duration": 0.011263,
     "end_time": "2025-07-30T13:03:15.564656",
     "exception": false,
     "start_time": "2025-07-30T13:03:15.553393",
     "status": "completed"
    },
    "tags": []
   },
   "source": [
    "# Preprocessing Data"
   ]
  },
  {
   "cell_type": "code",
   "execution_count": 29,
   "id": "ca879031",
   "metadata": {
    "execution": {
     "iopub.execute_input": "2025-07-30T13:03:15.588893Z",
     "iopub.status.busy": "2025-07-30T13:03:15.588142Z",
     "iopub.status.idle": "2025-07-30T13:03:15.593405Z",
     "shell.execute_reply": "2025-07-30T13:03:15.592608Z"
    },
    "papermill": {
     "duration": 0.01872,
     "end_time": "2025-07-30T13:03:15.594671",
     "exception": false,
     "start_time": "2025-07-30T13:03:15.575951",
     "status": "completed"
    },
    "tags": []
   },
   "outputs": [],
   "source": [
    "# EXCLUDE PROTECTED FEATURES\n",
    "# ----------------------\n",
    "# \"exclude_features\": \"none\", # \"nationality\", \"sex\", \"nationality-sex\"\n",
    "\n",
    "excluded_features = universe[\"exclude_features\"].split(\"-\") # split, e.g.: \"nationality-sex\" -> [\"nationality\", \"sex\"]\n",
    "excluded_features_dictionary = {\n",
    "    \"nationality\": [\"maxdeutsch1\", \"maxdeutsch.Missing.\"],\n",
    "    \"sex\": [\"frau1\"],\n",
    "    \"age\": [\"age\"],\n",
    "}\n"
   ]
  },
  {
   "cell_type": "code",
   "execution_count": 30,
   "id": "b745ac60",
   "metadata": {
    "execution": {
     "iopub.execute_input": "2025-07-30T13:03:15.620726Z",
     "iopub.status.busy": "2025-07-30T13:03:15.620373Z",
     "iopub.status.idle": "2025-07-30T13:03:15.625290Z",
     "shell.execute_reply": "2025-07-30T13:03:15.624516Z"
    },
    "papermill": {
     "duration": 0.01938,
     "end_time": "2025-07-30T13:03:15.626553",
     "exception": false,
     "start_time": "2025-07-30T13:03:15.607173",
     "status": "completed"
    },
    "tags": []
   },
   "outputs": [],
   "source": [
    "# Code nice names to column names\n",
    "\n",
    "excluded_features_columns = [\n",
    "    excluded_features_dictionary[f] for f in excluded_features if len(f) > 0 and f != \"none\"\n",
    "]"
   ]
  },
  {
   "cell_type": "code",
   "execution_count": 31,
   "id": "f84f73a2",
   "metadata": {
    "execution": {
     "iopub.execute_input": "2025-07-30T13:03:15.653382Z",
     "iopub.status.busy": "2025-07-30T13:03:15.653025Z",
     "iopub.status.idle": "2025-07-30T13:03:15.658557Z",
     "shell.execute_reply": "2025-07-30T13:03:15.657841Z"
    },
    "papermill": {
     "duration": 0.020072,
     "end_time": "2025-07-30T13:03:15.659843",
     "exception": false,
     "start_time": "2025-07-30T13:03:15.639771",
     "status": "completed"
    },
    "tags": []
   },
   "outputs": [],
   "source": [
    "from utils import flatten_once\n",
    "\n",
    "excluded_features_columns = flatten_once(excluded_features_columns)"
   ]
  },
  {
   "cell_type": "code",
   "execution_count": 32,
   "id": "884dea22",
   "metadata": {
    "execution": {
     "iopub.execute_input": "2025-07-30T13:03:15.685644Z",
     "iopub.status.busy": "2025-07-30T13:03:15.684981Z",
     "iopub.status.idle": "2025-07-30T13:03:15.698717Z",
     "shell.execute_reply": "2025-07-30T13:03:15.697873Z"
    },
    "papermill": {
     "duration": 0.027431,
     "end_time": "2025-07-30T13:03:15.700221",
     "exception": false,
     "start_time": "2025-07-30T13:03:15.672790",
     "status": "completed"
    },
    "tags": []
   },
   "outputs": [
    {
     "name": "stdout",
     "output_type": "stream",
     "text": [
      "Dropping features: ['age']\n"
     ]
    }
   ],
   "source": [
    "if len(excluded_features_columns) > 0:\n",
    "    print(f\"Dropping features: {excluded_features_columns}\")\n",
    "    X_train.drop(excluded_features_columns, axis=1, inplace=True)"
   ]
  },
  {
   "cell_type": "code",
   "execution_count": 33,
   "id": "95ab8b16",
   "metadata": {
    "execution": {
     "iopub.execute_input": "2025-07-30T13:03:15.725732Z",
     "iopub.status.busy": "2025-07-30T13:03:15.725265Z",
     "iopub.status.idle": "2025-07-30T13:03:15.773431Z",
     "shell.execute_reply": "2025-07-30T13:03:15.772531Z"
    },
    "papermill": {
     "duration": 0.061905,
     "end_time": "2025-07-30T13:03:15.774938",
     "exception": false,
     "start_time": "2025-07-30T13:03:15.713033",
     "status": "completed"
    },
    "tags": []
   },
   "outputs": [
    {
     "name": "stdout",
     "output_type": "stream",
     "text": [
      "Dropping features: ['age']\n"
     ]
    }
   ],
   "source": [
    "if len(excluded_features_columns) > 0:\n",
    "    print(f\"Dropping features: {excluded_features_columns}\")\n",
    "    X_test.drop(excluded_features_columns, axis=1, inplace=True)"
   ]
  },
  {
   "cell_type": "code",
   "execution_count": 34,
   "id": "1853aaf5-fb9f-46cb-a2b5-8ea4ae2237e4",
   "metadata": {
    "execution": {
     "iopub.execute_input": "2025-07-30T13:03:15.800858Z",
     "iopub.status.busy": "2025-07-30T13:03:15.800230Z",
     "iopub.status.idle": "2025-07-30T13:03:15.847551Z",
     "shell.execute_reply": "2025-07-30T13:03:15.846771Z"
    },
    "papermill": {
     "duration": 0.061104,
     "end_time": "2025-07-30T13:03:15.848908",
     "exception": false,
     "start_time": "2025-07-30T13:03:15.787804",
     "status": "completed"
    },
    "tags": []
   },
   "outputs": [
    {
     "name": "stdout",
     "output_type": "stream",
     "text": [
      "Dropping features: ['age']\n"
     ]
    }
   ],
   "source": [
    "if len(excluded_features_columns) > 0:\n",
    "    print(f\"Dropping features: {excluded_features_columns}\")\n",
    "    X_calib.drop(excluded_features_columns, axis=1, inplace=True)"
   ]
  },
  {
   "cell_type": "code",
   "execution_count": 35,
   "id": "6727d079-03e5-481e-9d38-292a90b7a0a8",
   "metadata": {
    "execution": {
     "iopub.execute_input": "2025-07-30T13:03:15.876727Z",
     "iopub.status.busy": "2025-07-30T13:03:15.876202Z",
     "iopub.status.idle": "2025-07-30T13:03:15.880875Z",
     "shell.execute_reply": "2025-07-30T13:03:15.880102Z"
    },
    "papermill": {
     "duration": 0.019973,
     "end_time": "2025-07-30T13:03:15.882173",
     "exception": false,
     "start_time": "2025-07-30T13:03:15.862200",
     "status": "completed"
    },
    "tags": []
   },
   "outputs": [],
   "source": [
    "# SPLIT & STRATIFY DATA\n",
    "# ----------------------"
   ]
  },
  {
   "cell_type": "code",
   "execution_count": 36,
   "id": "76c4dc6d",
   "metadata": {
    "execution": {
     "iopub.execute_input": "2025-07-30T13:03:15.909124Z",
     "iopub.status.busy": "2025-07-30T13:03:15.908580Z",
     "iopub.status.idle": "2025-07-30T13:03:15.913800Z",
     "shell.execute_reply": "2025-07-30T13:03:15.913090Z"
    },
    "papermill": {
     "duration": 0.019594,
     "end_time": "2025-07-30T13:03:15.915088",
     "exception": false,
     "start_time": "2025-07-30T13:03:15.895494",
     "status": "completed"
    },
    "tags": []
   },
   "outputs": [],
   "source": [
    "# EXCLUDE CERTAIN SUBGROUPS\n",
    "# ----------------------\n",
    "\n",
    "mode = universe.get(\"exclude_subgroups\", \"keep-all\") \n",
    "# Fetches the exclude_subgroups setting from the universe dict.\n",
    "# Defaults to \"keep-all\" if the key is missing."
   ]
  },
  {
   "cell_type": "code",
   "execution_count": 37,
   "id": "21994072",
   "metadata": {
    "execution": {
     "iopub.execute_input": "2025-07-30T13:03:15.941799Z",
     "iopub.status.busy": "2025-07-30T13:03:15.941500Z",
     "iopub.status.idle": "2025-07-30T13:03:15.947153Z",
     "shell.execute_reply": "2025-07-30T13:03:15.946439Z"
    },
    "papermill": {
     "duration": 0.020091,
     "end_time": "2025-07-30T13:03:15.948490",
     "exception": false,
     "start_time": "2025-07-30T13:03:15.928399",
     "status": "completed"
    },
    "tags": []
   },
   "outputs": [],
   "source": [
    "if mode == \"keep-all\":\n",
    "    keep_mask = pd.Series(True, index=org_train.index)\n",
    "\n",
    "# org_train contains the original feature columns from features_org (in Simson)\n",
    "# features_org contains unprocessed features, for me X_train at beginning ???\n",
    "# For keep-all, creates a boolean Series (keep_mask) of all True, so no rows are removed.\n",
    "\n",
    "elif mode == \"drop-non-german\":\n",
    "    keep_mask = org_train[\"maxdeutsch1\"] == 1 # ??? what about missing values?\n",
    "\n",
    "else:\n",
    "    raise ValueError(f\"Unsupported mode for exclude_subgroups: {mode}\")\n"
   ]
  },
  {
   "cell_type": "code",
   "execution_count": 38,
   "id": "71651440",
   "metadata": {
    "execution": {
     "iopub.execute_input": "2025-07-30T13:03:15.974161Z",
     "iopub.status.busy": "2025-07-30T13:03:15.973460Z",
     "iopub.status.idle": "2025-07-30T13:03:15.979552Z",
     "shell.execute_reply": "2025-07-30T13:03:15.978799Z"
    },
    "papermill": {
     "duration": 0.020017,
     "end_time": "2025-07-30T13:03:15.980988",
     "exception": false,
     "start_time": "2025-07-30T13:03:15.960971",
     "status": "completed"
    },
    "tags": []
   },
   "outputs": [
    {
     "name": "stdout",
     "output_type": "stream",
     "text": [
      "Dropping 3688 rows (14.75%) where mode='drop-non-german'\n"
     ]
    }
   ],
   "source": [
    "n_drop = (~keep_mask).sum() # Calculates how many rows are set to be dropped\n",
    "if n_drop > 0:\n",
    "    pct = n_drop / len(keep_mask) * 100\n",
    "    print(f\"Dropping {n_drop} rows ({pct:.2f}%) where mode='{mode}'\")"
   ]
  },
  {
   "cell_type": "code",
   "execution_count": 39,
   "id": "5fb8eee5",
   "metadata": {
    "execution": {
     "iopub.execute_input": "2025-07-30T13:03:16.006819Z",
     "iopub.status.busy": "2025-07-30T13:03:16.006193Z",
     "iopub.status.idle": "2025-07-30T13:03:16.020755Z",
     "shell.execute_reply": "2025-07-30T13:03:16.019967Z"
    },
    "papermill": {
     "duration": 0.028565,
     "end_time": "2025-07-30T13:03:16.022285",
     "exception": false,
     "start_time": "2025-07-30T13:03:15.993720",
     "status": "completed"
    },
    "tags": []
   },
   "outputs": [],
   "source": [
    "X_train = X_train[keep_mask]"
   ]
  },
  {
   "cell_type": "code",
   "execution_count": 40,
   "id": "b202bb3a",
   "metadata": {
    "execution": {
     "iopub.execute_input": "2025-07-30T13:03:16.048975Z",
     "iopub.status.busy": "2025-07-30T13:03:16.048286Z",
     "iopub.status.idle": "2025-07-30T13:03:16.053489Z",
     "shell.execute_reply": "2025-07-30T13:03:16.052789Z"
    },
    "papermill": {
     "duration": 0.019328,
     "end_time": "2025-07-30T13:03:16.054877",
     "exception": false,
     "start_time": "2025-07-30T13:03:16.035549",
     "status": "completed"
    },
    "tags": []
   },
   "outputs": [],
   "source": [
    "y_train = y_train[keep_mask]"
   ]
  },
  {
   "cell_type": "markdown",
   "id": "493e2ac3",
   "metadata": {
    "papermill": {
     "duration": 0.011686,
     "end_time": "2025-07-30T13:03:16.078901",
     "exception": false,
     "start_time": "2025-07-30T13:03:16.067215",
     "status": "completed"
    },
    "tags": []
   },
   "source": [
    "# Model Training"
   ]
  },
  {
   "cell_type": "code",
   "execution_count": 41,
   "id": "679e1268",
   "metadata": {
    "execution": {
     "iopub.execute_input": "2025-07-30T13:03:16.103950Z",
     "iopub.status.busy": "2025-07-30T13:03:16.103453Z",
     "iopub.status.idle": "2025-07-30T13:03:16.175854Z",
     "shell.execute_reply": "2025-07-30T13:03:16.175102Z"
    },
    "papermill": {
     "duration": 0.086732,
     "end_time": "2025-07-30T13:03:16.177355",
     "exception": false,
     "start_time": "2025-07-30T13:03:16.090623",
     "status": "completed"
    },
    "tags": []
   },
   "outputs": [],
   "source": [
    "from sklearn.linear_model import LogisticRegression\n",
    "from sklearn.ensemble import GradientBoostingClassifier, RandomForestClassifier\n",
    "\n",
    "if (universe[\"model\"] == \"logreg\"):\n",
    "    model = LogisticRegression() #penalty=\"none\") #, solver=\"newton-cg\", max_iter=1) # include random_state=19 ?\n",
    "elif (universe[\"model\"] == \"penalized_logreg\"):\n",
    "    model = LogisticRegression(penalty=\"l2\", C=1.0) #, solver=\"newton-cg\", max_iter=1)\n",
    "elif (universe[\"model\"] == \"rf\"):\n",
    "    model = RandomForestClassifier(n_estimators=100, n_jobs=-1)\n",
    "elif (universe[\"model\"] == \"gbm\"):\n",
    "    model = GradientBoostingClassifier()\n",
    "elif (universe[\"model\"] == \"elasticnet\"):\n",
    "    model = LogisticRegression(penalty = 'elasticnet', solver = 'saga', l1_ratio = 0.5, max_iter=5000) # which solver to use?\n",
    "else:\n",
    "    raise \"Unsupported universe.model\""
   ]
  },
  {
   "cell_type": "code",
   "execution_count": 42,
   "id": "0cc8f744",
   "metadata": {
    "execution": {
     "iopub.execute_input": "2025-07-30T13:03:16.203384Z",
     "iopub.status.busy": "2025-07-30T13:03:16.202767Z",
     "iopub.status.idle": "2025-07-30T13:03:16.208358Z",
     "shell.execute_reply": "2025-07-30T13:03:16.207599Z"
    },
    "papermill": {
     "duration": 0.019756,
     "end_time": "2025-07-30T13:03:16.209726",
     "exception": false,
     "start_time": "2025-07-30T13:03:16.189970",
     "status": "completed"
    },
    "tags": []
   },
   "outputs": [],
   "source": [
    "import numpy as np\n",
    "from sklearn.pipeline import Pipeline\n",
    "from sklearn.preprocessing import StandardScaler\n",
    "\n",
    "model = Pipeline([\n",
    "    #(\"continuous_processor\", continuous_processor),\n",
    "    #(\"categorical_preprocessor\", categorical_preprocessor),\n",
    "    (\"scale\", StandardScaler() if universe[\"scale\"] == \"scale\" else None), \n",
    "    (\"model\", model),\n",
    "])"
   ]
  },
  {
   "cell_type": "code",
   "execution_count": 43,
   "id": "9442c04d",
   "metadata": {
    "execution": {
     "iopub.execute_input": "2025-07-30T13:03:16.235865Z",
     "iopub.status.busy": "2025-07-30T13:03:16.235233Z",
     "iopub.status.idle": "2025-07-30T13:06:52.909854Z",
     "shell.execute_reply": "2025-07-30T13:06:52.909009Z"
    },
    "papermill": {
     "duration": 216.711844,
     "end_time": "2025-07-30T13:06:52.934438",
     "exception": false,
     "start_time": "2025-07-30T13:03:16.222594",
     "status": "completed"
    },
    "tags": []
   },
   "outputs": [
    {
     "data": {
      "text/html": [
       "<style>#sk-container-id-1 {color: black;background-color: white;}#sk-container-id-1 pre{padding: 0;}#sk-container-id-1 div.sk-toggleable {background-color: white;}#sk-container-id-1 label.sk-toggleable__label {cursor: pointer;display: block;width: 100%;margin-bottom: 0;padding: 0.3em;box-sizing: border-box;text-align: center;}#sk-container-id-1 label.sk-toggleable__label-arrow:before {content: \"▸\";float: left;margin-right: 0.25em;color: #696969;}#sk-container-id-1 label.sk-toggleable__label-arrow:hover:before {color: black;}#sk-container-id-1 div.sk-estimator:hover label.sk-toggleable__label-arrow:before {color: black;}#sk-container-id-1 div.sk-toggleable__content {max-height: 0;max-width: 0;overflow: hidden;text-align: left;background-color: #f0f8ff;}#sk-container-id-1 div.sk-toggleable__content pre {margin: 0.2em;color: black;border-radius: 0.25em;background-color: #f0f8ff;}#sk-container-id-1 input.sk-toggleable__control:checked~div.sk-toggleable__content {max-height: 200px;max-width: 100%;overflow: auto;}#sk-container-id-1 input.sk-toggleable__control:checked~label.sk-toggleable__label-arrow:before {content: \"▾\";}#sk-container-id-1 div.sk-estimator input.sk-toggleable__control:checked~label.sk-toggleable__label {background-color: #d4ebff;}#sk-container-id-1 div.sk-label input.sk-toggleable__control:checked~label.sk-toggleable__label {background-color: #d4ebff;}#sk-container-id-1 input.sk-hidden--visually {border: 0;clip: rect(1px 1px 1px 1px);clip: rect(1px, 1px, 1px, 1px);height: 1px;margin: -1px;overflow: hidden;padding: 0;position: absolute;width: 1px;}#sk-container-id-1 div.sk-estimator {font-family: monospace;background-color: #f0f8ff;border: 1px dotted black;border-radius: 0.25em;box-sizing: border-box;margin-bottom: 0.5em;}#sk-container-id-1 div.sk-estimator:hover {background-color: #d4ebff;}#sk-container-id-1 div.sk-parallel-item::after {content: \"\";width: 100%;border-bottom: 1px solid gray;flex-grow: 1;}#sk-container-id-1 div.sk-label:hover label.sk-toggleable__label {background-color: #d4ebff;}#sk-container-id-1 div.sk-serial::before {content: \"\";position: absolute;border-left: 1px solid gray;box-sizing: border-box;top: 0;bottom: 0;left: 50%;z-index: 0;}#sk-container-id-1 div.sk-serial {display: flex;flex-direction: column;align-items: center;background-color: white;padding-right: 0.2em;padding-left: 0.2em;position: relative;}#sk-container-id-1 div.sk-item {position: relative;z-index: 1;}#sk-container-id-1 div.sk-parallel {display: flex;align-items: stretch;justify-content: center;background-color: white;position: relative;}#sk-container-id-1 div.sk-item::before, #sk-container-id-1 div.sk-parallel-item::before {content: \"\";position: absolute;border-left: 1px solid gray;box-sizing: border-box;top: 0;bottom: 0;left: 50%;z-index: -1;}#sk-container-id-1 div.sk-parallel-item {display: flex;flex-direction: column;z-index: 1;position: relative;background-color: white;}#sk-container-id-1 div.sk-parallel-item:first-child::after {align-self: flex-end;width: 50%;}#sk-container-id-1 div.sk-parallel-item:last-child::after {align-self: flex-start;width: 50%;}#sk-container-id-1 div.sk-parallel-item:only-child::after {width: 0;}#sk-container-id-1 div.sk-dashed-wrapped {border: 1px dashed gray;margin: 0 0.4em 0.5em 0.4em;box-sizing: border-box;padding-bottom: 0.4em;background-color: white;}#sk-container-id-1 div.sk-label label {font-family: monospace;font-weight: bold;display: inline-block;line-height: 1.2em;}#sk-container-id-1 div.sk-label-container {text-align: center;}#sk-container-id-1 div.sk-container {/* jupyter's `normalize.less` sets `[hidden] { display: none; }` but bootstrap.min.css set `[hidden] { display: none !important; }` so we also need the `!important` here to be able to override the default hidden behavior on the sphinx rendered scikit-learn.org. See: https://github.com/scikit-learn/scikit-learn/issues/21755 */display: inline-block !important;position: relative;}#sk-container-id-1 div.sk-text-repr-fallback {display: none;}</style><div id=\"sk-container-id-1\" class=\"sk-top-container\"><div class=\"sk-text-repr-fallback\"><pre>Pipeline(steps=[(&#x27;scale&#x27;, None),\n",
       "                (&#x27;model&#x27;,\n",
       "                 LogisticRegression(l1_ratio=0.5, max_iter=5000,\n",
       "                                    penalty=&#x27;elasticnet&#x27;, solver=&#x27;saga&#x27;))])</pre><b>In a Jupyter environment, please rerun this cell to show the HTML representation or trust the notebook. <br />On GitHub, the HTML representation is unable to render, please try loading this page with nbviewer.org.</b></div><div class=\"sk-container\" hidden><div class=\"sk-item sk-dashed-wrapped\"><div class=\"sk-label-container\"><div class=\"sk-label sk-toggleable\"><input class=\"sk-toggleable__control sk-hidden--visually\" id=\"sk-estimator-id-1\" type=\"checkbox\" ><label for=\"sk-estimator-id-1\" class=\"sk-toggleable__label sk-toggleable__label-arrow\">Pipeline</label><div class=\"sk-toggleable__content\"><pre>Pipeline(steps=[(&#x27;scale&#x27;, None),\n",
       "                (&#x27;model&#x27;,\n",
       "                 LogisticRegression(l1_ratio=0.5, max_iter=5000,\n",
       "                                    penalty=&#x27;elasticnet&#x27;, solver=&#x27;saga&#x27;))])</pre></div></div></div><div class=\"sk-serial\"><div class=\"sk-item\"><div class=\"sk-estimator sk-toggleable\"><input class=\"sk-toggleable__control sk-hidden--visually\" id=\"sk-estimator-id-2\" type=\"checkbox\" ><label for=\"sk-estimator-id-2\" class=\"sk-toggleable__label sk-toggleable__label-arrow\">None</label><div class=\"sk-toggleable__content\"><pre>None</pre></div></div></div><div class=\"sk-item\"><div class=\"sk-estimator sk-toggleable\"><input class=\"sk-toggleable__control sk-hidden--visually\" id=\"sk-estimator-id-3\" type=\"checkbox\" ><label for=\"sk-estimator-id-3\" class=\"sk-toggleable__label sk-toggleable__label-arrow\">LogisticRegression</label><div class=\"sk-toggleable__content\"><pre>LogisticRegression(l1_ratio=0.5, max_iter=5000, penalty=&#x27;elasticnet&#x27;,\n",
       "                   solver=&#x27;saga&#x27;)</pre></div></div></div></div></div></div></div>"
      ],
      "text/plain": [
       "Pipeline(steps=[('scale', None),\n",
       "                ('model',\n",
       "                 LogisticRegression(l1_ratio=0.5, max_iter=5000,\n",
       "                                    penalty='elasticnet', solver='saga'))])"
      ]
     },
     "execution_count": 43,
     "metadata": {},
     "output_type": "execute_result"
    }
   ],
   "source": [
    "model.fit(X_train, y_train.values.ravel())"
   ]
  },
  {
   "cell_type": "code",
   "execution_count": 44,
   "id": "af59f8c0",
   "metadata": {
    "execution": {
     "iopub.execute_input": "2025-07-30T13:06:52.980918Z",
     "iopub.status.busy": "2025-07-30T13:06:52.979460Z",
     "iopub.status.idle": "2025-07-30T13:06:52.985644Z",
     "shell.execute_reply": "2025-07-30T13:06:52.984594Z"
    },
    "papermill": {
     "duration": 0.028345,
     "end_time": "2025-07-30T13:06:52.987132",
     "exception": false,
     "start_time": "2025-07-30T13:06:52.958787",
     "status": "completed"
    },
    "tags": []
   },
   "outputs": [],
   "source": [
    "from fairness_multiverse.universe import predict_w_threshold"
   ]
  },
  {
   "cell_type": "code",
   "execution_count": 45,
   "id": "a7cf2e16",
   "metadata": {
    "execution": {
     "iopub.execute_input": "2025-07-30T13:06:53.015585Z",
     "iopub.status.busy": "2025-07-30T13:06:53.015045Z",
     "iopub.status.idle": "2025-07-30T13:06:53.113730Z",
     "shell.execute_reply": "2025-07-30T13:06:53.112880Z"
    },
    "papermill": {
     "duration": 0.11408,
     "end_time": "2025-07-30T13:06:53.115496",
     "exception": false,
     "start_time": "2025-07-30T13:06:53.001416",
     "status": "completed"
    },
    "tags": []
   },
   "outputs": [
    {
     "data": {
      "text/plain": [
       "0.8595251365511092"
      ]
     },
     "execution_count": 45,
     "metadata": {},
     "output_type": "execute_result"
    }
   ],
   "source": [
    "probs_test = model.predict_proba(X_test)\n",
    "\n",
    "'''\n",
    "Below code returns a boolean array (or binary 0/1 array depending on how it’s used) where each element \n",
    "is True if the probability of class 1 is greater than or equal to the threshold, and False otherwise.\n",
    "'''\n",
    "y_pred_default = predict_w_threshold(probs_test, 0.5)\n",
    "\n",
    "from sklearn.metrics import accuracy_score\n",
    "\n",
    "# Naive prediction\n",
    "accuracy_score(y_true = y_true, y_pred = y_pred_default)"
   ]
  },
  {
   "cell_type": "code",
   "execution_count": 46,
   "id": "081964c3",
   "metadata": {
    "execution": {
     "iopub.execute_input": "2025-07-30T13:06:53.169156Z",
     "iopub.status.busy": "2025-07-30T13:06:53.168703Z",
     "iopub.status.idle": "2025-07-30T13:06:53.255551Z",
     "shell.execute_reply": "2025-07-30T13:06:53.254573Z"
    },
    "papermill": {
     "duration": 0.113329,
     "end_time": "2025-07-30T13:06:53.257334",
     "exception": false,
     "start_time": "2025-07-30T13:06:53.144005",
     "status": "completed"
    },
    "tags": []
   },
   "outputs": [
    {
     "data": {
      "text/plain": [
       "array([0, 0, 0, ..., 0, 0, 0])"
      ]
     },
     "execution_count": 46,
     "metadata": {},
     "output_type": "execute_result"
    }
   ],
   "source": [
    "model.predict(X_test)"
   ]
  },
  {
   "cell_type": "markdown",
   "id": "56c9705b",
   "metadata": {
    "papermill": {
     "duration": 0.02378,
     "end_time": "2025-07-30T13:06:53.307222",
     "exception": false,
     "start_time": "2025-07-30T13:06:53.283442",
     "status": "completed"
    },
    "tags": []
   },
   "source": [
    "# Conformal Prediction"
   ]
  },
  {
   "cell_type": "code",
   "execution_count": 47,
   "id": "160ec6ff",
   "metadata": {
    "execution": {
     "iopub.execute_input": "2025-07-30T13:06:53.361197Z",
     "iopub.status.busy": "2025-07-30T13:06:53.360680Z",
     "iopub.status.idle": "2025-07-30T13:06:53.366232Z",
     "shell.execute_reply": "2025-07-30T13:06:53.365109Z"
    },
    "papermill": {
     "duration": 0.03499,
     "end_time": "2025-07-30T13:06:53.368285",
     "exception": false,
     "start_time": "2025-07-30T13:06:53.333295",
     "status": "completed"
    },
    "tags": []
   },
   "outputs": [],
   "source": [
    "# Miscoverage level for conformal prediction (10% allowed error rate => 90% target coverage)\n",
    "alpha = 0.1"
   ]
  },
  {
   "cell_type": "code",
   "execution_count": 48,
   "id": "eadf4555-3dd3-440e-8e35-f82a4ad9f855",
   "metadata": {
    "execution": {
     "iopub.execute_input": "2025-07-30T13:06:53.423692Z",
     "iopub.status.busy": "2025-07-30T13:06:53.422689Z",
     "iopub.status.idle": "2025-07-30T13:06:53.506544Z",
     "shell.execute_reply": "2025-07-30T13:06:53.505580Z"
    },
    "papermill": {
     "duration": 0.11288,
     "end_time": "2025-07-30T13:06:53.508616",
     "exception": false,
     "start_time": "2025-07-30T13:06:53.395736",
     "status": "completed"
    },
    "tags": []
   },
   "outputs": [],
   "source": [
    "probs_calib = model.predict_proba(X_calib)"
   ]
  },
  {
   "cell_type": "code",
   "execution_count": 49,
   "id": "2ed93547-6d5d-4983-9b36-1ecb300da49a",
   "metadata": {
    "execution": {
     "iopub.execute_input": "2025-07-30T13:06:53.563128Z",
     "iopub.status.busy": "2025-07-30T13:06:53.562039Z",
     "iopub.status.idle": "2025-07-30T13:06:53.568217Z",
     "shell.execute_reply": "2025-07-30T13:06:53.567241Z"
    },
    "papermill": {
     "duration": 0.035089,
     "end_time": "2025-07-30T13:06:53.570251",
     "exception": false,
     "start_time": "2025-07-30T13:06:53.535162",
     "status": "completed"
    },
    "tags": []
   },
   "outputs": [],
   "source": [
    "y_calib = y_calib.values.ravel().astype(int)"
   ]
  },
  {
   "cell_type": "code",
   "execution_count": 50,
   "id": "65d1320d-f588-4b38-9072-62af1ae97f7d",
   "metadata": {
    "execution": {
     "iopub.execute_input": "2025-07-30T13:06:53.622189Z",
     "iopub.status.busy": "2025-07-30T13:06:53.621181Z",
     "iopub.status.idle": "2025-07-30T13:06:53.630446Z",
     "shell.execute_reply": "2025-07-30T13:06:53.629209Z"
    },
    "papermill": {
     "duration": 0.036177,
     "end_time": "2025-07-30T13:06:53.632271",
     "exception": false,
     "start_time": "2025-07-30T13:06:53.596094",
     "status": "completed"
    },
    "tags": []
   },
   "outputs": [],
   "source": [
    "from fairness_multiverse.conformal import compute_nc_scores\n",
    "\n",
    "# Compute nonconformity scores on calibration set (1 - probability of true class)\n",
    "nc_scores = compute_nc_scores(probs_calib, y_calib)"
   ]
  },
  {
   "cell_type": "code",
   "execution_count": 51,
   "id": "df3b8ca3-53b7-43d5-9667-7c85da7aeda2",
   "metadata": {
    "execution": {
     "iopub.execute_input": "2025-07-30T13:06:53.682204Z",
     "iopub.status.busy": "2025-07-30T13:06:53.681477Z",
     "iopub.status.idle": "2025-07-30T13:06:53.688771Z",
     "shell.execute_reply": "2025-07-30T13:06:53.687776Z"
    },
    "papermill": {
     "duration": 0.034026,
     "end_time": "2025-07-30T13:06:53.690535",
     "exception": false,
     "start_time": "2025-07-30T13:06:53.656509",
     "status": "completed"
    },
    "tags": []
   },
   "outputs": [],
   "source": [
    "from fairness_multiverse.conformal import find_threshold\n",
    "\n",
    "# Find conformal threshold q_hat for the given alpha (split conformal method)\n",
    "q_hat = find_threshold(nc_scores, alpha)"
   ]
  },
  {
   "cell_type": "code",
   "execution_count": 52,
   "id": "4d29e6c1-0ef6-4aa4-b8fe-4fe79b0d033a",
   "metadata": {
    "execution": {
     "iopub.execute_input": "2025-07-30T13:06:53.741016Z",
     "iopub.status.busy": "2025-07-30T13:06:53.740053Z",
     "iopub.status.idle": "2025-07-30T13:06:53.747341Z",
     "shell.execute_reply": "2025-07-30T13:06:53.746399Z"
    },
    "papermill": {
     "duration": 0.033978,
     "end_time": "2025-07-30T13:06:53.749388",
     "exception": false,
     "start_time": "2025-07-30T13:06:53.715410",
     "status": "completed"
    },
    "tags": []
   },
   "outputs": [
    {
     "data": {
      "text/plain": [
       "0.6441639701324542"
      ]
     },
     "execution_count": 52,
     "metadata": {},
     "output_type": "execute_result"
    }
   ],
   "source": [
    "q_hat"
   ]
  },
  {
   "cell_type": "code",
   "execution_count": 53,
   "id": "92460794-cdac-4be2-ba28-f28c0515a6fb",
   "metadata": {
    "execution": {
     "iopub.execute_input": "2025-07-30T13:06:53.803077Z",
     "iopub.status.busy": "2025-07-30T13:06:53.802214Z",
     "iopub.status.idle": "2025-07-30T13:06:54.542491Z",
     "shell.execute_reply": "2025-07-30T13:06:54.541564Z"
    },
    "papermill": {
     "duration": 0.769158,
     "end_time": "2025-07-30T13:06:54.544478",
     "exception": false,
     "start_time": "2025-07-30T13:06:53.775320",
     "status": "completed"
    },
    "tags": []
   },
   "outputs": [],
   "source": [
    "from fairness_multiverse.conformal import predict_conformal_sets\n",
    "\n",
    "# Generate prediction sets for each test example\n",
    "pred_sets = predict_conformal_sets(model, X_test, q_hat)"
   ]
  },
  {
   "cell_type": "code",
   "execution_count": 54,
   "id": "d90c9a65-e6db-4f5d-80cd-e68fb7e46829",
   "metadata": {
    "execution": {
     "iopub.execute_input": "2025-07-30T13:06:54.599766Z",
     "iopub.status.busy": "2025-07-30T13:06:54.599276Z",
     "iopub.status.idle": "2025-07-30T13:06:54.605269Z",
     "shell.execute_reply": "2025-07-30T13:06:54.604261Z"
    },
    "papermill": {
     "duration": 0.035989,
     "end_time": "2025-07-30T13:06:54.607338",
     "exception": false,
     "start_time": "2025-07-30T13:06:54.571349",
     "status": "completed"
    },
    "tags": []
   },
   "outputs": [],
   "source": [
    "y_true = y_true.squeeze()"
   ]
  },
  {
   "cell_type": "code",
   "execution_count": 55,
   "id": "3a58a54a-1e68-46b9-927a-df01f18aebc8",
   "metadata": {
    "execution": {
     "iopub.execute_input": "2025-07-30T13:06:54.663065Z",
     "iopub.status.busy": "2025-07-30T13:06:54.662540Z",
     "iopub.status.idle": "2025-07-30T13:06:55.596846Z",
     "shell.execute_reply": "2025-07-30T13:06:55.595879Z"
    },
    "papermill": {
     "duration": 0.964375,
     "end_time": "2025-07-30T13:06:55.598692",
     "exception": false,
     "start_time": "2025-07-30T13:06:54.634317",
     "status": "completed"
    },
    "tags": []
   },
   "outputs": [],
   "source": [
    "from fairness_multiverse.conformal import evaluate_sets\n",
    "\n",
    "# Evaluate coverage and average set size on test data\n",
    "metrics = evaluate_sets(pred_sets, y_true)"
   ]
  },
  {
   "cell_type": "markdown",
   "id": "2b569c12-9aaa-4c88-98c9-bbcd0cf3ebb8",
   "metadata": {
    "papermill": {
     "duration": 0.022854,
     "end_time": "2025-07-30T13:06:55.645419",
     "exception": false,
     "start_time": "2025-07-30T13:06:55.622565",
     "status": "completed"
    },
    "tags": []
   },
   "source": [
    "# CP Metrics"
   ]
  },
  {
   "cell_type": "code",
   "execution_count": 56,
   "id": "5ce0a5cb-201f-45a0-ade5-94c7f0bd6095",
   "metadata": {
    "execution": {
     "iopub.execute_input": "2025-07-30T13:06:55.693589Z",
     "iopub.status.busy": "2025-07-30T13:06:55.692755Z",
     "iopub.status.idle": "2025-07-30T13:06:55.699552Z",
     "shell.execute_reply": "2025-07-30T13:06:55.698669Z"
    },
    "papermill": {
     "duration": 0.032608,
     "end_time": "2025-07-30T13:06:55.701190",
     "exception": false,
     "start_time": "2025-07-30T13:06:55.668582",
     "status": "completed"
    },
    "tags": []
   },
   "outputs": [
    {
     "data": {
      "text/plain": [
       "{'coverage': 0.9144354029651098, 'avg_size': 1.2504737487459592}"
      ]
     },
     "execution_count": 56,
     "metadata": {},
     "output_type": "execute_result"
    }
   ],
   "source": [
    "metrics"
   ]
  },
  {
   "cell_type": "code",
   "execution_count": 57,
   "id": "9b9a838d-31c9-430b-ae14-12baee460d17",
   "metadata": {
    "execution": {
     "iopub.execute_input": "2025-07-30T13:06:55.750777Z",
     "iopub.status.busy": "2025-07-30T13:06:55.750322Z",
     "iopub.status.idle": "2025-07-30T13:06:55.756564Z",
     "shell.execute_reply": "2025-07-30T13:06:55.755594Z"
    },
    "papermill": {
     "duration": 0.032371,
     "end_time": "2025-07-30T13:06:55.758172",
     "exception": false,
     "start_time": "2025-07-30T13:06:55.725801",
     "status": "completed"
    },
    "tags": []
   },
   "outputs": [],
   "source": [
    "example_universe = universe.copy()\n",
    "universe_training_size = example_universe.get(\"training_size\")\n",
    "universe_scale = example_universe.get(\"scale\")\n",
    "universe_model = example_universe.get(\"model\")\n",
    "universe_exclude_features = example_universe.get(\"exclude_features\")\n",
    "universe_exclude_subgroups = example_universe.get(\"exclude_subgroups\")"
   ]
  },
  {
   "cell_type": "code",
   "execution_count": 58,
   "id": "f4b6a8ac-9dc0-4245-8a91-5b3b5999c4f9",
   "metadata": {
    "execution": {
     "iopub.execute_input": "2025-07-30T13:06:55.807619Z",
     "iopub.status.busy": "2025-07-30T13:06:55.806944Z",
     "iopub.status.idle": "2025-07-30T13:06:55.813775Z",
     "shell.execute_reply": "2025-07-30T13:06:55.812860Z"
    },
    "papermill": {
     "duration": 0.032743,
     "end_time": "2025-07-30T13:06:55.815461",
     "exception": false,
     "start_time": "2025-07-30T13:06:55.782718",
     "status": "completed"
    },
    "tags": []
   },
   "outputs": [],
   "source": [
    "cp_metrics_dict = {\n",
    "    \"universe_id\": [universe_id],\n",
    "    \"universe_training_size\": [universe_training_size],\n",
    "    \"universe_scale\": [universe_scale],\n",
    "    \"universe_model\": [universe_model],\n",
    "    \"universe_exclude_features\": [universe_exclude_features],\n",
    "    \"universe_exclude_subgroups\": [universe_exclude_subgroups],\n",
    "    \"q_hat\": [q_hat],\n",
    "    \"coverage\": [metrics[\"coverage\"]],\n",
    "    \"avg_size\": [metrics[\"avg_size\"]],\n",
    "}"
   ]
  },
  {
   "cell_type": "code",
   "execution_count": 59,
   "id": "908acbb1-0371-4915-85ca-3fa520d2efe2",
   "metadata": {
    "execution": {
     "iopub.execute_input": "2025-07-30T13:06:55.865179Z",
     "iopub.status.busy": "2025-07-30T13:06:55.864528Z",
     "iopub.status.idle": "2025-07-30T13:06:55.872161Z",
     "shell.execute_reply": "2025-07-30T13:06:55.871157Z"
    },
    "papermill": {
     "duration": 0.033823,
     "end_time": "2025-07-30T13:06:55.873901",
     "exception": false,
     "start_time": "2025-07-30T13:06:55.840078",
     "status": "completed"
    },
    "tags": []
   },
   "outputs": [
    {
     "data": {
      "text/plain": [
       "{'universe_id': ['47f9403d72ce17606d0d42f0a6968334'],\n",
       " 'universe_training_size': ['25k'],\n",
       " 'universe_scale': ['do-not-scale'],\n",
       " 'universe_model': ['elasticnet'],\n",
       " 'universe_exclude_features': ['age'],\n",
       " 'universe_exclude_subgroups': ['drop-non-german'],\n",
       " 'q_hat': [0.6441639701324542],\n",
       " 'coverage': [0.9144354029651098],\n",
       " 'avg_size': [1.2504737487459592]}"
      ]
     },
     "execution_count": 59,
     "metadata": {},
     "output_type": "execute_result"
    }
   ],
   "source": [
    "cp_metrics_dict"
   ]
  },
  {
   "cell_type": "code",
   "execution_count": 60,
   "id": "33007efc-14e9-4ec6-97ac-56a455c82265",
   "metadata": {
    "execution": {
     "iopub.execute_input": "2025-07-30T13:06:55.924212Z",
     "iopub.status.busy": "2025-07-30T13:06:55.923329Z",
     "iopub.status.idle": "2025-07-30T13:06:55.929692Z",
     "shell.execute_reply": "2025-07-30T13:06:55.928686Z"
    },
    "papermill": {
     "duration": 0.034069,
     "end_time": "2025-07-30T13:06:55.932272",
     "exception": false,
     "start_time": "2025-07-30T13:06:55.898203",
     "status": "completed"
    },
    "tags": []
   },
   "outputs": [],
   "source": [
    "cp_metrics_df = pd.DataFrame(cp_metrics_dict)"
   ]
  },
  {
   "cell_type": "code",
   "execution_count": 61,
   "id": "db12611b-57b2-4910-b9d0-355adfd6e7bf",
   "metadata": {
    "execution": {
     "iopub.execute_input": "2025-07-30T13:06:55.997133Z",
     "iopub.status.busy": "2025-07-30T13:06:55.996663Z",
     "iopub.status.idle": "2025-07-30T13:06:56.015637Z",
     "shell.execute_reply": "2025-07-30T13:06:56.014631Z"
    },
    "papermill": {
     "duration": 0.052987,
     "end_time": "2025-07-30T13:06:56.017476",
     "exception": false,
     "start_time": "2025-07-30T13:06:55.964489",
     "status": "completed"
    },
    "tags": []
   },
   "outputs": [
    {
     "data": {
      "text/html": [
       "<div>\n",
       "<style scoped>\n",
       "    .dataframe tbody tr th:only-of-type {\n",
       "        vertical-align: middle;\n",
       "    }\n",
       "\n",
       "    .dataframe tbody tr th {\n",
       "        vertical-align: top;\n",
       "    }\n",
       "\n",
       "    .dataframe thead th {\n",
       "        text-align: right;\n",
       "    }\n",
       "</style>\n",
       "<table border=\"1\" class=\"dataframe\">\n",
       "  <thead>\n",
       "    <tr style=\"text-align: right;\">\n",
       "      <th></th>\n",
       "      <th>universe_id</th>\n",
       "      <th>universe_training_size</th>\n",
       "      <th>universe_scale</th>\n",
       "      <th>universe_model</th>\n",
       "      <th>universe_exclude_features</th>\n",
       "      <th>universe_exclude_subgroups</th>\n",
       "      <th>q_hat</th>\n",
       "      <th>coverage</th>\n",
       "      <th>avg_size</th>\n",
       "    </tr>\n",
       "  </thead>\n",
       "  <tbody>\n",
       "    <tr>\n",
       "      <th>0</th>\n",
       "      <td>47f9403d72ce17606d0d42f0a6968334</td>\n",
       "      <td>25k</td>\n",
       "      <td>do-not-scale</td>\n",
       "      <td>elasticnet</td>\n",
       "      <td>age</td>\n",
       "      <td>drop-non-german</td>\n",
       "      <td>0.644164</td>\n",
       "      <td>0.914435</td>\n",
       "      <td>1.250474</td>\n",
       "    </tr>\n",
       "  </tbody>\n",
       "</table>\n",
       "</div>"
      ],
      "text/plain": [
       "                        universe_id universe_training_size universe_scale  \\\n",
       "0  47f9403d72ce17606d0d42f0a6968334                    25k   do-not-scale   \n",
       "\n",
       "  universe_model universe_exclude_features universe_exclude_subgroups  \\\n",
       "0     elasticnet                       age            drop-non-german   \n",
       "\n",
       "      q_hat  coverage  avg_size  \n",
       "0  0.644164  0.914435  1.250474  "
      ]
     },
     "execution_count": 61,
     "metadata": {},
     "output_type": "execute_result"
    }
   ],
   "source": [
    "cp_metrics_df"
   ]
  },
  {
   "cell_type": "code",
   "execution_count": 62,
   "id": "b7fbde55-a0a1-47e4-9af6-fe4a17fa8c61",
   "metadata": {
    "execution": {
     "iopub.execute_input": "2025-07-30T13:06:56.068643Z",
     "iopub.status.busy": "2025-07-30T13:06:56.067691Z",
     "iopub.status.idle": "2025-07-30T13:06:56.073175Z",
     "shell.execute_reply": "2025-07-30T13:06:56.072081Z"
    },
    "papermill": {
     "duration": 0.033246,
     "end_time": "2025-07-30T13:06:56.075358",
     "exception": false,
     "start_time": "2025-07-30T13:06:56.042112",
     "status": "completed"
    },
    "tags": []
   },
   "outputs": [],
   "source": [
    "# Conditional Coverage & looking at subgroups"
   ]
  },
  {
   "cell_type": "code",
   "execution_count": 63,
   "id": "027ae886-68dd-4141-96c7-805a5450e1ef",
   "metadata": {
    "execution": {
     "iopub.execute_input": "2025-07-30T13:06:56.141220Z",
     "iopub.status.busy": "2025-07-30T13:06:56.140696Z",
     "iopub.status.idle": "2025-07-30T13:06:56.421668Z",
     "shell.execute_reply": "2025-07-30T13:06:56.420500Z"
    },
    "papermill": {
     "duration": 0.31577,
     "end_time": "2025-07-30T13:06:56.423700",
     "exception": false,
     "start_time": "2025-07-30T13:06:56.107930",
     "status": "completed"
    },
    "tags": []
   },
   "outputs": [],
   "source": [
    "from fairness_multiverse.conformal import build_cp_groups\n",
    "\n",
    "cp_groups_df = build_cp_groups(pred_sets, y_true, X_test.index, org_test)\n",
    "#needs universe_id and setting"
   ]
  },
  {
   "cell_type": "code",
   "execution_count": 64,
   "id": "01d5802c-663a-4d1f-9d69-e036faaffbf7",
   "metadata": {
    "execution": {
     "iopub.execute_input": "2025-07-30T13:06:56.483963Z",
     "iopub.status.busy": "2025-07-30T13:06:56.483032Z",
     "iopub.status.idle": "2025-07-30T13:06:56.488740Z",
     "shell.execute_reply": "2025-07-30T13:06:56.487681Z"
    },
    "papermill": {
     "duration": 0.037956,
     "end_time": "2025-07-30T13:06:56.490591",
     "exception": false,
     "start_time": "2025-07-30T13:06:56.452635",
     "status": "completed"
    },
    "tags": []
   },
   "outputs": [],
   "source": [
    "#delete\n",
    "#cp_groups_df"
   ]
  },
  {
   "cell_type": "code",
   "execution_count": 65,
   "id": "fa424af1-d1eb-443d-b717-2d279ada8408",
   "metadata": {
    "execution": {
     "iopub.execute_input": "2025-07-30T13:06:56.549685Z",
     "iopub.status.busy": "2025-07-30T13:06:56.549115Z",
     "iopub.status.idle": "2025-07-30T13:06:56.555710Z",
     "shell.execute_reply": "2025-07-30T13:06:56.554412Z"
    },
    "papermill": {
     "duration": 0.037578,
     "end_time": "2025-07-30T13:06:56.557832",
     "exception": false,
     "start_time": "2025-07-30T13:06:56.520254",
     "status": "completed"
    },
    "tags": []
   },
   "outputs": [],
   "source": [
    "#delete\n",
    "#percentage = (cp_groups_df['nongerman_female'] == 1).mean() * 100\n",
    "#print(percentage)\n"
   ]
  },
  {
   "cell_type": "code",
   "execution_count": 66,
   "id": "6cbdab96-b2b2-45af-ad54-d0516db2e28d",
   "metadata": {
    "execution": {
     "iopub.execute_input": "2025-07-30T13:06:56.624965Z",
     "iopub.status.busy": "2025-07-30T13:06:56.624337Z",
     "iopub.status.idle": "2025-07-30T13:06:58.477838Z",
     "shell.execute_reply": "2025-07-30T13:06:58.476534Z"
    },
    "papermill": {
     "duration": 1.88928,
     "end_time": "2025-07-30T13:06:58.479915",
     "exception": false,
     "start_time": "2025-07-30T13:06:56.590635",
     "status": "completed"
    },
    "tags": []
   },
   "outputs": [],
   "source": [
    "# Define covered = 1 if true_label is in the predicted set\n",
    "cp_groups_df['covered'] = cp_groups_df.apply(\n",
    "    lambda r: int(r['true_label'] in r['pred_set']),\n",
    "    axis=1\n",
    ")"
   ]
  },
  {
   "cell_type": "code",
   "execution_count": 67,
   "id": "338ff529-1a6b-4b87-a931-8e4788d52aad",
   "metadata": {
    "execution": {
     "iopub.execute_input": "2025-07-30T13:06:58.534679Z",
     "iopub.status.busy": "2025-07-30T13:06:58.534155Z",
     "iopub.status.idle": "2025-07-30T13:06:58.539793Z",
     "shell.execute_reply": "2025-07-30T13:06:58.539007Z"
    },
    "papermill": {
     "duration": 0.045639,
     "end_time": "2025-07-30T13:06:58.552520",
     "exception": false,
     "start_time": "2025-07-30T13:06:58.506881",
     "status": "completed"
    },
    "tags": []
   },
   "outputs": [],
   "source": [
    "#cp_groups_df"
   ]
  },
  {
   "cell_type": "code",
   "execution_count": 68,
   "id": "90032e27-66df-4540-9169-4e89cfbaa758",
   "metadata": {
    "execution": {
     "iopub.execute_input": "2025-07-30T13:06:58.585774Z",
     "iopub.status.busy": "2025-07-30T13:06:58.585436Z",
     "iopub.status.idle": "2025-07-30T13:06:58.597113Z",
     "shell.execute_reply": "2025-07-30T13:06:58.596088Z"
    },
    "papermill": {
     "duration": 0.030239,
     "end_time": "2025-07-30T13:06:58.598872",
     "exception": false,
     "start_time": "2025-07-30T13:06:58.568633",
     "status": "completed"
    },
    "tags": []
   },
   "outputs": [],
   "source": [
    "subgroups = ['frau1','nongerman','nongerman_male','nongerman_female']\n",
    "\n",
    "# Conditional coverage for subgroup==1\n",
    "cond_coverage = {\n",
    "    g: cp_groups_df.loc[cp_groups_df[g]==1, 'covered'].mean()\n",
    "    for g in subgroups\n",
    "}"
   ]
  },
  {
   "cell_type": "code",
   "execution_count": 69,
   "id": "1e348fb1-b9c3-45bc-ba23-f016827a7e0d",
   "metadata": {
    "execution": {
     "iopub.execute_input": "2025-07-30T13:06:58.656713Z",
     "iopub.status.busy": "2025-07-30T13:06:58.656376Z",
     "iopub.status.idle": "2025-07-30T13:06:58.663174Z",
     "shell.execute_reply": "2025-07-30T13:06:58.662116Z"
    },
    "papermill": {
     "duration": 0.03651,
     "end_time": "2025-07-30T13:06:58.664593",
     "exception": false,
     "start_time": "2025-07-30T13:06:58.628083",
     "status": "completed"
    },
    "tags": []
   },
   "outputs": [
    {
     "data": {
      "text/plain": [
       "{'frau1': 0.9148672327806983,\n",
       " 'nongerman': 0.9630045472407792,\n",
       " 'nongerman_male': 0.9691975141853553,\n",
       " 'nongerman_female': 0.9527570789865872}"
      ]
     },
     "execution_count": 69,
     "metadata": {},
     "output_type": "execute_result"
    }
   ],
   "source": [
    "cond_coverage"
   ]
  },
  {
   "cell_type": "code",
   "execution_count": 70,
   "id": "f5093324-c3dd-4d63-bc4c-8d945e5c8bbb",
   "metadata": {
    "execution": {
     "iopub.execute_input": "2025-07-30T13:06:58.696915Z",
     "iopub.status.busy": "2025-07-30T13:06:58.696544Z",
     "iopub.status.idle": "2025-07-30T13:06:58.703724Z",
     "shell.execute_reply": "2025-07-30T13:06:58.702590Z"
    },
    "papermill": {
     "duration": 0.024671,
     "end_time": "2025-07-30T13:06:58.705346",
     "exception": false,
     "start_time": "2025-07-30T13:06:58.680675",
     "status": "completed"
    },
    "tags": []
   },
   "outputs": [],
   "source": [
    "for subgroup, cov in cond_coverage.items():\n",
    "    cp_metrics_df[f\"cov_{subgroup}\"] = cov"
   ]
  },
  {
   "cell_type": "code",
   "execution_count": 71,
   "id": "6e872e10-dbe5-49e8-b554-5030c98ff75d",
   "metadata": {
    "execution": {
     "iopub.execute_input": "2025-07-30T13:06:58.736301Z",
     "iopub.status.busy": "2025-07-30T13:06:58.735995Z",
     "iopub.status.idle": "2025-07-30T13:06:58.802700Z",
     "shell.execute_reply": "2025-07-30T13:06:58.801737Z"
    },
    "papermill": {
     "duration": 0.08363,
     "end_time": "2025-07-30T13:06:58.804088",
     "exception": false,
     "start_time": "2025-07-30T13:06:58.720458",
     "status": "completed"
    },
    "tags": []
   },
   "outputs": [
    {
     "data": {
      "text/html": [
       "<div>\n",
       "<style scoped>\n",
       "    .dataframe tbody tr th:only-of-type {\n",
       "        vertical-align: middle;\n",
       "    }\n",
       "\n",
       "    .dataframe tbody tr th {\n",
       "        vertical-align: top;\n",
       "    }\n",
       "\n",
       "    .dataframe thead th {\n",
       "        text-align: right;\n",
       "    }\n",
       "</style>\n",
       "<table border=\"1\" class=\"dataframe\">\n",
       "  <thead>\n",
       "    <tr style=\"text-align: right;\">\n",
       "      <th></th>\n",
       "      <th>universe_id</th>\n",
       "      <th>universe_training_size</th>\n",
       "      <th>universe_scale</th>\n",
       "      <th>universe_model</th>\n",
       "      <th>universe_exclude_features</th>\n",
       "      <th>universe_exclude_subgroups</th>\n",
       "      <th>q_hat</th>\n",
       "      <th>coverage</th>\n",
       "      <th>avg_size</th>\n",
       "      <th>cov_frau1</th>\n",
       "      <th>cov_nongerman</th>\n",
       "      <th>cov_nongerman_male</th>\n",
       "      <th>cov_nongerman_female</th>\n",
       "    </tr>\n",
       "  </thead>\n",
       "  <tbody>\n",
       "    <tr>\n",
       "      <th>0</th>\n",
       "      <td>47f9403d72ce17606d0d42f0a6968334</td>\n",
       "      <td>25k</td>\n",
       "      <td>do-not-scale</td>\n",
       "      <td>elasticnet</td>\n",
       "      <td>age</td>\n",
       "      <td>drop-non-german</td>\n",
       "      <td>0.644164</td>\n",
       "      <td>0.914435</td>\n",
       "      <td>1.250474</td>\n",
       "      <td>0.914867</td>\n",
       "      <td>0.963005</td>\n",
       "      <td>0.969198</td>\n",
       "      <td>0.952757</td>\n",
       "    </tr>\n",
       "  </tbody>\n",
       "</table>\n",
       "</div>"
      ],
      "text/plain": [
       "                        universe_id universe_training_size universe_scale  \\\n",
       "0  47f9403d72ce17606d0d42f0a6968334                    25k   do-not-scale   \n",
       "\n",
       "  universe_model universe_exclude_features universe_exclude_subgroups  \\\n",
       "0     elasticnet                       age            drop-non-german   \n",
       "\n",
       "      q_hat  coverage  avg_size  cov_frau1  cov_nongerman  cov_nongerman_male  \\\n",
       "0  0.644164  0.914435  1.250474   0.914867       0.963005            0.969198   \n",
       "\n",
       "   cov_nongerman_female  \n",
       "0              0.952757  "
      ]
     },
     "execution_count": 71,
     "metadata": {},
     "output_type": "execute_result"
    }
   ],
   "source": [
    "cp_metrics_df"
   ]
  },
  {
   "cell_type": "markdown",
   "id": "33774451",
   "metadata": {
    "papermill": {
     "duration": 0.01518,
     "end_time": "2025-07-30T13:06:58.835033",
     "exception": false,
     "start_time": "2025-07-30T13:06:58.819853",
     "status": "completed"
    },
    "tags": []
   },
   "source": [
    "# (Fairness) Metrics"
   ]
  },
  {
   "cell_type": "code",
   "execution_count": 72,
   "id": "debc5d62",
   "metadata": {
    "execution": {
     "iopub.execute_input": "2025-07-30T13:06:58.869182Z",
     "iopub.status.busy": "2025-07-30T13:06:58.868672Z",
     "iopub.status.idle": "2025-07-30T13:06:58.890359Z",
     "shell.execute_reply": "2025-07-30T13:06:58.889365Z"
    },
    "papermill": {
     "duration": 0.041657,
     "end_time": "2025-07-30T13:06:58.893327",
     "exception": false,
     "start_time": "2025-07-30T13:06:58.851670",
     "status": "completed"
    },
    "tags": []
   },
   "outputs": [],
   "source": [
    "# do I need to include maxdeutsch1.missing?\n",
    "\n",
    "import numpy as np\n",
    "\n",
    "colname_to_bin = \"maxdeutsch1\"\n",
    "majority_value = org_train[colname_to_bin].mode()[0]\n",
    "\n",
    "org_test[\"majmin\"] = np.where(org_test[colname_to_bin] == majority_value, \"majority\", \"minority\")"
   ]
  },
  {
   "cell_type": "code",
   "execution_count": 73,
   "id": "06a50de5",
   "metadata": {
    "execution": {
     "iopub.execute_input": "2025-07-30T13:06:58.947913Z",
     "iopub.status.busy": "2025-07-30T13:06:58.947497Z",
     "iopub.status.idle": "2025-07-30T13:07:01.061451Z",
     "shell.execute_reply": "2025-07-30T13:07:01.060440Z"
    },
    "papermill": {
     "duration": 2.14138,
     "end_time": "2025-07-30T13:07:01.063557",
     "exception": false,
     "start_time": "2025-07-30T13:06:58.922177",
     "status": "completed"
    },
    "tags": []
   },
   "outputs": [],
   "source": [
    "example_universe = universe.copy()\n",
    "example_universe[\"cutoff\"] = example_universe[\"cutoff\"][0]\n",
    "example_universe[\"eval_fairness_grouping\"] = example_universe[\"eval_fairness_grouping\"][0]\n",
    "fairness_dict, metric_frame = universe_analysis.compute_metrics(\n",
    "    example_universe,\n",
    "    y_pred_prob=probs_test,\n",
    "    y_test=y_true,\n",
    "    org_test=org_test,\n",
    ")"
   ]
  },
  {
   "cell_type": "markdown",
   "id": "f95d4e02",
   "metadata": {
    "papermill": {
     "duration": 0.015822,
     "end_time": "2025-07-30T13:07:01.103363",
     "exception": false,
     "start_time": "2025-07-30T13:07:01.087541",
     "status": "completed"
    },
    "tags": []
   },
   "source": [
    "# Overall"
   ]
  },
  {
   "cell_type": "markdown",
   "id": "bdee4871",
   "metadata": {
    "papermill": {
     "duration": 0.014545,
     "end_time": "2025-07-30T13:07:01.132311",
     "exception": false,
     "start_time": "2025-07-30T13:07:01.117766",
     "status": "completed"
    },
    "tags": []
   },
   "source": [
    "Fairness\n",
    "Main fairness target: Equalized Odds. Seems to be a better fit than equal opportunity, since we're not only interested in Y = 1. Seems to be a better fit than demographic parity, since we also care about accuracy, not just equal distribution of preds.\n",
    "\n",
    "Pick column for computation of fairness metrics\n",
    "\n",
    "Performance\n",
    "Overall performance measures, most interesting in relation to the measures split by group below"
   ]
  },
  {
   "cell_type": "code",
   "execution_count": 74,
   "id": "c4e067c6",
   "metadata": {
    "execution": {
     "iopub.execute_input": "2025-07-30T13:07:01.164144Z",
     "iopub.status.busy": "2025-07-30T13:07:01.163766Z",
     "iopub.status.idle": "2025-07-30T13:07:01.170957Z",
     "shell.execute_reply": "2025-07-30T13:07:01.170120Z"
    },
    "papermill": {
     "duration": 0.025537,
     "end_time": "2025-07-30T13:07:01.172435",
     "exception": false,
     "start_time": "2025-07-30T13:07:01.146898",
     "status": "completed"
    },
    "tags": []
   },
   "outputs": [
    {
     "data": {
      "text/plain": [
       "accuracy                   0.219117\n",
       "balanced accuracy          0.536873\n",
       "f1                         0.240593\n",
       "precision                  0.137443\n",
       "false positive rate        0.890540\n",
       "false negative rate        0.035714\n",
       "selection rate             0.900000\n",
       "count                  89710.000000\n",
       "dtype: float64"
      ]
     },
     "execution_count": 74,
     "metadata": {},
     "output_type": "execute_result"
    }
   ],
   "source": [
    "metric_frame.overall"
   ]
  },
  {
   "cell_type": "markdown",
   "id": "e968fe9d",
   "metadata": {
    "papermill": {
     "duration": 0.014408,
     "end_time": "2025-07-30T13:07:01.203084",
     "exception": false,
     "start_time": "2025-07-30T13:07:01.188676",
     "status": "completed"
    },
    "tags": []
   },
   "source": [
    "By Group"
   ]
  },
  {
   "cell_type": "code",
   "execution_count": 75,
   "id": "ec325bce",
   "metadata": {
    "execution": {
     "iopub.execute_input": "2025-07-30T13:07:01.237461Z",
     "iopub.status.busy": "2025-07-30T13:07:01.236849Z",
     "iopub.status.idle": "2025-07-30T13:07:01.255571Z",
     "shell.execute_reply": "2025-07-30T13:07:01.254632Z"
    },
    "papermill": {
     "duration": 0.039502,
     "end_time": "2025-07-30T13:07:01.257182",
     "exception": false,
     "start_time": "2025-07-30T13:07:01.217680",
     "status": "completed"
    },
    "tags": []
   },
   "outputs": [
    {
     "data": {
      "text/html": [
       "<div>\n",
       "<style scoped>\n",
       "    .dataframe tbody tr th:only-of-type {\n",
       "        vertical-align: middle;\n",
       "    }\n",
       "\n",
       "    .dataframe tbody tr th {\n",
       "        vertical-align: top;\n",
       "    }\n",
       "\n",
       "    .dataframe thead th {\n",
       "        text-align: right;\n",
       "    }\n",
       "</style>\n",
       "<table border=\"1\" class=\"dataframe\">\n",
       "  <thead>\n",
       "    <tr style=\"text-align: right;\">\n",
       "      <th></th>\n",
       "      <th>accuracy</th>\n",
       "      <th>balanced accuracy</th>\n",
       "      <th>f1</th>\n",
       "      <th>precision</th>\n",
       "      <th>false positive rate</th>\n",
       "      <th>false negative rate</th>\n",
       "      <th>selection rate</th>\n",
       "      <th>count</th>\n",
       "    </tr>\n",
       "    <tr>\n",
       "      <th>majmin</th>\n",
       "      <th></th>\n",
       "      <th></th>\n",
       "      <th></th>\n",
       "      <th></th>\n",
       "      <th></th>\n",
       "      <th></th>\n",
       "      <th></th>\n",
       "      <th></th>\n",
       "    </tr>\n",
       "  </thead>\n",
       "  <tbody>\n",
       "    <tr>\n",
       "      <th>majority</th>\n",
       "      <td>0.242663</td>\n",
       "      <td>0.545868</td>\n",
       "      <td>0.250540</td>\n",
       "      <td>0.144115</td>\n",
       "      <td>0.866250</td>\n",
       "      <td>0.042013</td>\n",
       "      <td>0.878372</td>\n",
       "      <td>69170.0</td>\n",
       "    </tr>\n",
       "    <tr>\n",
       "      <th>minority</th>\n",
       "      <td>0.139825</td>\n",
       "      <td>0.508909</td>\n",
       "      <td>0.209485</td>\n",
       "      <td>0.117155</td>\n",
       "      <td>0.970779</td>\n",
       "      <td>0.011402</td>\n",
       "      <td>0.972833</td>\n",
       "      <td>20540.0</td>\n",
       "    </tr>\n",
       "  </tbody>\n",
       "</table>\n",
       "</div>"
      ],
      "text/plain": [
       "          accuracy  balanced accuracy        f1  precision  \\\n",
       "majmin                                                       \n",
       "majority  0.242663           0.545868  0.250540   0.144115   \n",
       "minority  0.139825           0.508909  0.209485   0.117155   \n",
       "\n",
       "          false positive rate  false negative rate  selection rate    count  \n",
       "majmin                                                                       \n",
       "majority             0.866250             0.042013        0.878372  69170.0  \n",
       "minority             0.970779             0.011402        0.972833  20540.0  "
      ]
     },
     "execution_count": 75,
     "metadata": {},
     "output_type": "execute_result"
    }
   ],
   "source": [
    "metric_frame.by_group"
   ]
  },
  {
   "cell_type": "code",
   "execution_count": 76,
   "id": "a9ddbe63",
   "metadata": {
    "execution": {
     "iopub.execute_input": "2025-07-30T13:07:01.318501Z",
     "iopub.status.busy": "2025-07-30T13:07:01.317622Z",
     "iopub.status.idle": "2025-07-30T13:07:03.825479Z",
     "shell.execute_reply": "2025-07-30T13:07:03.824526Z"
    },
    "papermill": {
     "duration": 2.539601,
     "end_time": "2025-07-30T13:07:03.827209",
     "exception": false,
     "start_time": "2025-07-30T13:07:01.287608",
     "status": "completed"
    },
    "tags": []
   },
   "outputs": [
    {
     "data": {
      "text/plain": [
       "array([[<Axes: title={'center': 'accuracy'}, xlabel='majmin'>,\n",
       "        <Axes: title={'center': 'balanced accuracy'}, xlabel='majmin'>,\n",
       "        <Axes: title={'center': 'f1'}, xlabel='majmin'>],\n",
       "       [<Axes: title={'center': 'precision'}, xlabel='majmin'>,\n",
       "        <Axes: title={'center': 'false positive rate'}, xlabel='majmin'>,\n",
       "        <Axes: title={'center': 'false negative rate'}, xlabel='majmin'>],\n",
       "       [<Axes: title={'center': 'selection rate'}, xlabel='majmin'>,\n",
       "        <Axes: title={'center': 'count'}, xlabel='majmin'>,\n",
       "        <Axes: xlabel='majmin'>]], dtype=object)"
      ]
     },
     "execution_count": 76,
     "metadata": {},
     "output_type": "execute_result"
    },
    {
     "data": {
      "image/png": "[encoded data removed]",
      "text/plain": [
       "<Figure size 1200x800 with 9 Axes>"
      ]
     },
     "metadata": {},
     "output_type": "display_data"
    }
   ],
   "source": [
    "# In a graphic\n",
    "metric_frame.by_group.plot.bar(\n",
    "    subplots=True,\n",
    "    layout=[3, 3],\n",
    "    legend=False,\n",
    "    figsize=[12, 8],\n",
    "    title=\"Show all metrics\",\n",
    ")"
   ]
  },
  {
   "cell_type": "markdown",
   "id": "f57a0bac",
   "metadata": {
    "papermill": {
     "duration": 0.02879,
     "end_time": "2025-07-30T13:07:03.886188",
     "exception": false,
     "start_time": "2025-07-30T13:07:03.857398",
     "status": "completed"
    },
    "tags": []
   },
   "source": [
    "# Final Output"
   ]
  },
  {
   "cell_type": "code",
   "execution_count": 77,
   "id": "96d280a3",
   "metadata": {
    "execution": {
     "iopub.execute_input": "2025-07-30T13:07:03.946377Z",
     "iopub.status.busy": "2025-07-30T13:07:03.945696Z",
     "iopub.status.idle": "2025-07-30T13:07:03.954043Z",
     "shell.execute_reply": "2025-07-30T13:07:03.953131Z"
    },
    "papermill": {
     "duration": 0.039965,
     "end_time": "2025-07-30T13:07:03.955712",
     "exception": false,
     "start_time": "2025-07-30T13:07:03.915747",
     "status": "completed"
    },
    "tags": []
   },
   "outputs": [
    {
     "data": {
      "text/plain": [
       "4"
      ]
     },
     "execution_count": 77,
     "metadata": {},
     "output_type": "execute_result"
    }
   ],
   "source": [
    "sub_universes = universe_analysis.generate_sub_universes()\n",
    "len(sub_universes)"
   ]
  },
  {
   "cell_type": "code",
   "execution_count": 78,
   "id": "92adf7ba",
   "metadata": {
    "execution": {
     "iopub.execute_input": "2025-07-30T13:07:04.017905Z",
     "iopub.status.busy": "2025-07-30T13:07:04.017184Z",
     "iopub.status.idle": "2025-07-30T13:07:04.023654Z",
     "shell.execute_reply": "2025-07-30T13:07:04.022718Z"
    },
    "papermill": {
     "duration": 0.038964,
     "end_time": "2025-07-30T13:07:04.025775",
     "exception": false,
     "start_time": "2025-07-30T13:07:03.986811",
     "status": "completed"
    },
    "tags": []
   },
   "outputs": [],
   "source": [
    "def filter_sub_universe_data(sub_universe, org_test):\n",
    "    # Keep all rows — no filtering\n",
    "    keep_rows_mask = np.ones(org_test.shape[0], dtype=bool)\n",
    "\n",
    "    print(f\"[INFO] Keeping all rows: {keep_rows_mask.sum()} rows retained.\")\n",
    "    return keep_rows_mask"
   ]
  },
  {
   "cell_type": "code",
   "execution_count": 79,
   "id": "4a759155",
   "metadata": {
    "execution": {
     "iopub.execute_input": "2025-07-30T13:07:04.087885Z",
     "iopub.status.busy": "2025-07-30T13:07:04.087422Z",
     "iopub.status.idle": "2025-07-30T13:07:13.638250Z",
     "shell.execute_reply": "2025-07-30T13:07:13.637276Z"
    },
    "papermill": {
     "duration": 9.583277,
     "end_time": "2025-07-30T13:07:13.640358",
     "exception": false,
     "start_time": "2025-07-30T13:07:04.057081",
     "status": "completed"
    },
    "tags": []
   },
   "outputs": [
    {
     "name": "stdout",
     "output_type": "stream",
     "text": [
      "Stopping execution_time clock.\n",
      "[INFO] Keeping all rows: 89710 rows retained.\n"
     ]
    },
    {
     "name": "stdout",
     "output_type": "stream",
     "text": [
      "[INFO] Keeping all rows: 89710 rows retained.\n"
     ]
    },
    {
     "name": "stdout",
     "output_type": "stream",
     "text": [
      "[INFO] Keeping all rows: 89710 rows retained.\n"
     ]
    },
    {
     "name": "stdout",
     "output_type": "stream",
     "text": [
      "[INFO] Keeping all rows: 89710 rows retained.\n"
     ]
    },
    {
     "data": {
      "text/html": [
       "<div>\n",
       "<style scoped>\n",
       "    .dataframe tbody tr th:only-of-type {\n",
       "        vertical-align: middle;\n",
       "    }\n",
       "\n",
       "    .dataframe tbody tr th {\n",
       "        vertical-align: top;\n",
       "    }\n",
       "\n",
       "    .dataframe thead th {\n",
       "        text-align: right;\n",
       "    }\n",
       "</style>\n",
       "<table border=\"1\" class=\"dataframe\">\n",
       "  <thead>\n",
       "    <tr style=\"text-align: right;\">\n",
       "      <th></th>\n",
       "      <th>run_no</th>\n",
       "      <th>universe_id</th>\n",
       "      <th>universe_settings</th>\n",
       "      <th>execution_time</th>\n",
       "      <th>test_size_n</th>\n",
       "      <th>test_size_frac</th>\n",
       "      <th>fair_main_equalized_odds_difference</th>\n",
       "      <th>fair_main_equalized_odds_ratio</th>\n",
       "      <th>fair_main_demographic_parity_difference</th>\n",
       "      <th>fair_main_demographic_parity_ratio</th>\n",
       "      <th>...</th>\n",
       "      <th>perf_grp_precision_0</th>\n",
       "      <th>perf_grp_precision_1</th>\n",
       "      <th>perf_grp_false positive rate_0</th>\n",
       "      <th>perf_grp_false positive rate_1</th>\n",
       "      <th>perf_grp_false negative rate_0</th>\n",
       "      <th>perf_grp_false negative rate_1</th>\n",
       "      <th>perf_grp_selection rate_0</th>\n",
       "      <th>perf_grp_selection rate_1</th>\n",
       "      <th>perf_grp_count_0</th>\n",
       "      <th>perf_grp_count_1</th>\n",
       "    </tr>\n",
       "  </thead>\n",
       "  <tbody>\n",
       "    <tr>\n",
       "      <th>0</th>\n",
       "      <td>12</td>\n",
       "      <td>47f9403d72ce17606d0d42f0a6968334</td>\n",
       "      <td>{\"cutoff\": \"quantile_0.1\", \"eval_fairness_grou...</td>\n",
       "      <td>239.891686</td>\n",
       "      <td>89710</td>\n",
       "      <td>1.0</td>\n",
       "      <td>0.104529</td>\n",
       "      <td>0.892325</td>\n",
       "      <td>0.094461</td>\n",
       "      <td>0.902901</td>\n",
       "      <td>...</td>\n",
       "      <td>NaN</td>\n",
       "      <td>NaN</td>\n",
       "      <td>NaN</td>\n",
       "      <td>NaN</td>\n",
       "      <td>NaN</td>\n",
       "      <td>NaN</td>\n",
       "      <td>NaN</td>\n",
       "      <td>NaN</td>\n",
       "      <td>NaN</td>\n",
       "      <td>NaN</td>\n",
       "    </tr>\n",
       "    <tr>\n",
       "      <th>0</th>\n",
       "      <td>12</td>\n",
       "      <td>47f9403d72ce17606d0d42f0a6968334</td>\n",
       "      <td>{\"cutoff\": \"quantile_0.1\", \"eval_fairness_grou...</td>\n",
       "      <td>239.891686</td>\n",
       "      <td>89710</td>\n",
       "      <td>1.0</td>\n",
       "      <td>0.104529</td>\n",
       "      <td>0.892325</td>\n",
       "      <td>0.094461</td>\n",
       "      <td>0.902901</td>\n",
       "      <td>...</td>\n",
       "      <td>0.117155</td>\n",
       "      <td>0.144115</td>\n",
       "      <td>0.970779</td>\n",
       "      <td>0.866250</td>\n",
       "      <td>0.011402</td>\n",
       "      <td>0.042013</td>\n",
       "      <td>0.972833</td>\n",
       "      <td>0.878372</td>\n",
       "      <td>20540.0</td>\n",
       "      <td>69170.0</td>\n",
       "    </tr>\n",
       "    <tr>\n",
       "      <th>0</th>\n",
       "      <td>12</td>\n",
       "      <td>47f9403d72ce17606d0d42f0a6968334</td>\n",
       "      <td>{\"cutoff\": \"quantile_0.25\", \"eval_fairness_gro...</td>\n",
       "      <td>239.891686</td>\n",
       "      <td>89710</td>\n",
       "      <td>1.0</td>\n",
       "      <td>0.244894</td>\n",
       "      <td>0.733185</td>\n",
       "      <td>0.223658</td>\n",
       "      <td>0.757537</td>\n",
       "      <td>...</td>\n",
       "      <td>NaN</td>\n",
       "      <td>NaN</td>\n",
       "      <td>NaN</td>\n",
       "      <td>NaN</td>\n",
       "      <td>NaN</td>\n",
       "      <td>NaN</td>\n",
       "      <td>NaN</td>\n",
       "      <td>NaN</td>\n",
       "      <td>NaN</td>\n",
       "      <td>NaN</td>\n",
       "    </tr>\n",
       "    <tr>\n",
       "      <th>0</th>\n",
       "      <td>12</td>\n",
       "      <td>47f9403d72ce17606d0d42f0a6968334</td>\n",
       "      <td>{\"cutoff\": \"quantile_0.25\", \"eval_fairness_gro...</td>\n",
       "      <td>239.891686</td>\n",
       "      <td>89710</td>\n",
       "      <td>1.0</td>\n",
       "      <td>0.244894</td>\n",
       "      <td>0.733185</td>\n",
       "      <td>0.223658</td>\n",
       "      <td>0.757537</td>\n",
       "      <td>...</td>\n",
       "      <td>0.119702</td>\n",
       "      <td>0.164229</td>\n",
       "      <td>0.917841</td>\n",
       "      <td>0.672947</td>\n",
       "      <td>0.042230</td>\n",
       "      <td>0.131510</td>\n",
       "      <td>0.922444</td>\n",
       "      <td>0.698786</td>\n",
       "      <td>20540.0</td>\n",
       "      <td>69170.0</td>\n",
       "    </tr>\n",
       "  </tbody>\n",
       "</table>\n",
       "<p>4 rows × 50 columns</p>\n",
       "</div>"
      ],
      "text/plain": [
       "  run_no                       universe_id  \\\n",
       "0     12  47f9403d72ce17606d0d42f0a6968334   \n",
       "0     12  47f9403d72ce17606d0d42f0a6968334   \n",
       "0     12  47f9403d72ce17606d0d42f0a6968334   \n",
       "0     12  47f9403d72ce17606d0d42f0a6968334   \n",
       "\n",
       "                                   universe_settings  execution_time  \\\n",
       "0  {\"cutoff\": \"quantile_0.1\", \"eval_fairness_grou...      239.891686   \n",
       "0  {\"cutoff\": \"quantile_0.1\", \"eval_fairness_grou...      239.891686   \n",
       "0  {\"cutoff\": \"quantile_0.25\", \"eval_fairness_gro...      239.891686   \n",
       "0  {\"cutoff\": \"quantile_0.25\", \"eval_fairness_gro...      239.891686   \n",
       "\n",
       "   test_size_n  test_size_frac  fair_main_equalized_odds_difference  \\\n",
       "0        89710             1.0                             0.104529   \n",
       "0        89710             1.0                             0.104529   \n",
       "0        89710             1.0                             0.244894   \n",
       "0        89710             1.0                             0.244894   \n",
       "\n",
       "   fair_main_equalized_odds_ratio  fair_main_demographic_parity_difference  \\\n",
       "0                        0.892325                                 0.094461   \n",
       "0                        0.892325                                 0.094461   \n",
       "0                        0.733185                                 0.223658   \n",
       "0                        0.733185                                 0.223658   \n",
       "\n",
       "   fair_main_demographic_parity_ratio  ...  perf_grp_precision_0  \\\n",
       "0                            0.902901  ...                   NaN   \n",
       "0                            0.902901  ...              0.117155   \n",
       "0                            0.757537  ...                   NaN   \n",
       "0                            0.757537  ...              0.119702   \n",
       "\n",
       "   perf_grp_precision_1  perf_grp_false positive rate_0  \\\n",
       "0                   NaN                             NaN   \n",
       "0              0.144115                        0.970779   \n",
       "0                   NaN                             NaN   \n",
       "0              0.164229                        0.917841   \n",
       "\n",
       "   perf_grp_false positive rate_1  perf_grp_false negative rate_0  \\\n",
       "0                             NaN                             NaN   \n",
       "0                        0.866250                        0.011402   \n",
       "0                             NaN                             NaN   \n",
       "0                        0.672947                        0.042230   \n",
       "\n",
       "   perf_grp_false negative rate_1  perf_grp_selection rate_0  \\\n",
       "0                             NaN                        NaN   \n",
       "0                        0.042013                   0.972833   \n",
       "0                             NaN                        NaN   \n",
       "0                        0.131510                   0.922444   \n",
       "\n",
       "   perf_grp_selection rate_1  perf_grp_count_0  perf_grp_count_1  \n",
       "0                        NaN               NaN               NaN  \n",
       "0                   0.878372           20540.0           69170.0  \n",
       "0                        NaN               NaN               NaN  \n",
       "0                   0.698786           20540.0           69170.0  \n",
       "\n",
       "[4 rows x 50 columns]"
      ]
     },
     "execution_count": 79,
     "metadata": {},
     "output_type": "execute_result"
    }
   ],
   "source": [
    "final_output = universe_analysis.generate_final_output(\n",
    "    y_pred_prob=probs_test,\n",
    "    y_test=y_true,\n",
    "    org_test=org_test,\n",
    "    filter_data=filter_sub_universe_data,\n",
    "    cp_metrics_df=cp_metrics_df,\n",
    "    save=True,\n",
    ")\n",
    "final_output"
   ]
  },
  {
   "cell_type": "code",
   "execution_count": null,
   "id": "721ff514-cb11-46f8-b6fc-50392f74b5cb",
   "metadata": {
    "papermill": {
     "duration": 0.103981,
     "end_time": "2025-07-30T13:07:13.852346",
     "exception": false,
     "start_time": "2025-07-30T13:07:13.748365",
     "status": "completed"
    },
    "tags": []
   },
   "outputs": [],
   "source": []
  }
 ],
 "metadata": {
  "celltoolbar": "Tags",
  "kernelspec": {
   "display_name": "Python (CMA Fairness)",
   "language": "python",
   "name": "cma_fair_env"
  },
  "language_info": {
   "codemirror_mode": {
    "name": "ipython",
    "version": 3
   },
   "file_extension": ".py",
   "mimetype": "text/x-python",
   "name": "python",
   "nbconvert_exporter": "python",
   "pygments_lexer": "ipython3",
   "version": "3.10.12"
  },
  "papermill": {
   "default_parameters": {},
   "duration": 253.57146,
   "end_time": "2025-07-30T13:07:15.168931",
   "environment_variables": {},
   "exception": null,
   "input_path": "universe_analysis.ipynb",
   "output_path": "output/runs/12/notebooks/m_12-47f9403d72ce17606d0d42f0a6968334.ipynb",
   "parameters": {
    "output_dir": "output",
    "run_no": "12",
    "seed": "2023",
    "universe": "{\"cutoff\": [\"quantile_0.1\", \"quantile_0.25\"], \"eval_fairness_grouping\": [\"majority-minority\", \"nationality-all\"], \"exclude_features\": \"age\", \"exclude_subgroups\": \"drop-non-german\", \"model\": \"elasticnet\", \"scale\": \"do-not-scale\", \"training_size\": \"25k\", \"training_year\": \"2014\"}",
    "universe_id": "47f9403d72ce17606d0d42f0a6968334"
   },
   "start_time": "2025-07-30T13:03:01.597471",
   "version": "2.6.0"
  }
 },
 "nbformat": 4,
 "nbformat_minor": 5
}