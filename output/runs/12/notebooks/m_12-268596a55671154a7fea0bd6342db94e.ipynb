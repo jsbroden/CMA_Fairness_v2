{
 "cells": [
  {
   "cell_type": "code",
   "execution_count": 1,
   "id": "f159f837-637b-42ba-96b5-ec9a68c44524",
   "metadata": {
    "execution": {
     "iopub.execute_input": "2025-07-30T12:54:29.334767Z",
     "iopub.status.busy": "2025-07-30T12:54:29.334082Z",
     "iopub.status.idle": "2025-07-30T12:54:29.347801Z",
     "shell.execute_reply": "2025-07-30T12:54:29.346708Z"
    },
    "papermill": {
     "duration": 0.045993,
     "end_time": "2025-07-30T12:54:29.349428",
     "exception": false,
     "start_time": "2025-07-30T12:54:29.303435",
     "status": "completed"
    },
    "tags": []
   },
   "outputs": [
    {
     "name": "stdout",
     "output_type": "stream",
     "text": [
      "/dss/dsshome1/0C/ra93lal2/cma/CMA_Fairness_v2\n"
     ]
    },
    {
     "name": "stderr",
     "output_type": "stream",
     "text": [
      "/dss/dsshome1/0C/ra93lal2/.local/share/virtualenvs/CMA_Fairness_v2-3j10GkSs/lib/python3.10/site-packages/IPython/core/magics/osm.py:393: UserWarning: This is now an optional IPython functionality, using bookmarks requires you to install the `pickleshare` library.\n",
      "  bkms = self.shell.db.get('bookmarks', {})\n",
      "/dss/dsshome1/0C/ra93lal2/.local/share/virtualenvs/CMA_Fairness_v2-3j10GkSs/lib/python3.10/site-packages/IPython/core/magics/osm.py:417: UserWarning: This is now an optional IPython functionality, setting dhist requires you to install the `pickleshare` library.\n",
      "  self.shell.db['dhist'] = compress_dhist(dhist)[-100:]\n"
     ]
    }
   ],
   "source": [
    "%cd ~/cma/CMA_Fairness_v2"
   ]
  },
  {
   "cell_type": "markdown",
   "id": "de2603b9",
   "metadata": {
    "papermill": {
     "duration": 0.021952,
     "end_time": "2025-07-30T12:54:29.391669",
     "exception": false,
     "start_time": "2025-07-30T12:54:29.369717",
     "status": "completed"
    },
    "tags": []
   },
   "source": [
    "The following cell holds the definition of our parameters, these values can be overriden by rendering the with e.g. the following command:\n",
    "\n",
    "papermill -p alpha 0.2 -p ratio 0.3 universe_analysis.ipynb output/test_run.ipynb"
   ]
  },
  {
   "cell_type": "code",
   "execution_count": 2,
   "id": "a80968a0-40bb-4fa9-85ef-2d5eefb01975",
   "metadata": {
    "execution": {
     "iopub.execute_input": "2025-07-30T12:54:29.434593Z",
     "iopub.status.busy": "2025-07-30T12:54:29.433677Z",
     "iopub.status.idle": "2025-07-30T12:54:29.440585Z",
     "shell.execute_reply": "2025-07-30T12:54:29.439272Z"
    },
    "papermill": {
     "duration": 0.029876,
     "end_time": "2025-07-30T12:54:29.442398",
     "exception": false,
     "start_time": "2025-07-30T12:54:29.412522",
     "status": "completed"
    },
    "tags": []
   },
   "outputs": [
    {
     "name": "stdout",
     "output_type": "stream",
     "text": [
      "Current working directory: /dss/dsshome1/0C/ra93lal2/cma/CMA_Fairness_v2\n"
     ]
    }
   ],
   "source": [
    "import os\n",
    "print(\"Current working directory:\", os.getcwd())"
   ]
  },
  {
   "cell_type": "code",
   "execution_count": 3,
   "id": "2dce4c03",
   "metadata": {
    "execution": {
     "iopub.execute_input": "2025-07-30T12:54:29.491484Z",
     "iopub.status.busy": "2025-07-30T12:54:29.490636Z",
     "iopub.status.idle": "2025-07-30T12:54:29.497825Z",
     "shell.execute_reply": "2025-07-30T12:54:29.496630Z"
    },
    "papermill": {
     "duration": 0.03479,
     "end_time": "2025-07-30T12:54:29.499798",
     "exception": false,
     "start_time": "2025-07-30T12:54:29.465008",
     "status": "completed"
    },
    "tags": [
     "parameters"
    ]
   },
   "outputs": [],
   "source": [
    "run_no = 0\n",
    "universe_id = \"test\"\n",
    "universe = {\n",
    "    \"training_size\": \"25k\", # \"25k\", \"5k\", \"1k\"\n",
    "    \"training_year\": \"2014\", # \"2014\", \"2012_14\", \"2010_14\"\n",
    "    \"scale\": \"scale\", # \"scale\", \"do-not-scale\",\n",
    "    #\"stratify_split\": \"target\", # \"none\", \"target\", \"protected-attribute\", \"both\",\n",
    "    \"model\": \"elasticnet\", # \"logreg\", \"penalized_logreg\", \"rf\", \"gbm\", \"elasticnet\"\n",
    "    \"cutoff\": [\"quantile_0.15\", \"quantile_0.30\"],\n",
    "    \"exclude_features\": \"age\", # \"none\", \"nationality\", \"sex\", \"nationality-sex\", \"age\"\n",
    "    \"exclude_subgroups\": \"keep-all\", # \"keep-all\", \"drop-non-german\"\n",
    "    \"eval_fairness_grouping\": [\"majority-minority\", \"nationality-all\"]\n",
    "}\n",
    "\n",
    "output_dir=\"./output\"\n",
    "seed=0"
   ]
  },
  {
   "cell_type": "code",
   "execution_count": 4,
   "id": "3ce28926",
   "metadata": {
    "execution": {
     "iopub.execute_input": "2025-07-30T12:54:29.546273Z",
     "iopub.status.busy": "2025-07-30T12:54:29.545557Z",
     "iopub.status.idle": "2025-07-30T12:54:29.551530Z",
     "shell.execute_reply": "2025-07-30T12:54:29.550340Z"
    },
    "papermill": {
     "duration": 0.030834,
     "end_time": "2025-07-30T12:54:29.553614",
     "exception": false,
     "start_time": "2025-07-30T12:54:29.522780",
     "status": "completed"
    },
    "tags": [
     "injected-parameters"
    ]
   },
   "outputs": [],
   "source": [
    "# Parameters\n",
    "universe_id = \"268596a55671154a7fea0bd6342db94e\"\n",
    "run_no = \"12\"\n",
    "universe = \"{\\\"cutoff\\\": [\\\"quantile_0.1\\\", \\\"quantile_0.25\\\"], \\\"eval_fairness_grouping\\\": [\\\"majority-minority\\\", \\\"nationality-all\\\"], \\\"exclude_features\\\": \\\"none\\\", \\\"exclude_subgroups\\\": \\\"keep-all\\\", \\\"model\\\": \\\"rf\\\", \\\"scale\\\": \\\"do-not-scale\\\", \\\"training_size\\\": \\\"25k\\\", \\\"training_year\\\": \\\"2014\\\"}\"\n",
    "output_dir = \"output\"\n",
    "seed = \"2023\"\n"
   ]
  },
  {
   "cell_type": "code",
   "execution_count": 5,
   "id": "1650acaf",
   "metadata": {
    "execution": {
     "iopub.execute_input": "2025-07-30T12:54:29.600778Z",
     "iopub.status.busy": "2025-07-30T12:54:29.599573Z",
     "iopub.status.idle": "2025-07-30T12:54:29.605677Z",
     "shell.execute_reply": "2025-07-30T12:54:29.604294Z"
    },
    "papermill": {
     "duration": 0.030854,
     "end_time": "2025-07-30T12:54:29.607361",
     "exception": false,
     "start_time": "2025-07-30T12:54:29.576507",
     "status": "completed"
    },
    "tags": []
   },
   "outputs": [],
   "source": [
    "import json\n",
    "# Parse universe into dict if it is passed as a string\n",
    "if isinstance(universe, str):\n",
    "    universe = json.loads(universe)"
   ]
  },
  {
   "cell_type": "code",
   "execution_count": 6,
   "id": "16620c48",
   "metadata": {
    "execution": {
     "iopub.execute_input": "2025-07-30T12:54:29.653837Z",
     "iopub.status.busy": "2025-07-30T12:54:29.653334Z",
     "iopub.status.idle": "2025-07-30T12:54:29.706932Z",
     "shell.execute_reply": "2025-07-30T12:54:29.705692Z"
    },
    "papermill": {
     "duration": 0.079204,
     "end_time": "2025-07-30T12:54:29.709049",
     "exception": false,
     "start_time": "2025-07-30T12:54:29.629845",
     "status": "completed"
    },
    "tags": []
   },
   "outputs": [],
   "source": [
    "# Auto-reload the custom package\n",
    "%load_ext autoreload\n",
    "%autoreload 1\n",
    "%aimport fairness_multiverse"
   ]
  },
  {
   "cell_type": "code",
   "execution_count": 7,
   "id": "01c5c9f3",
   "metadata": {
    "execution": {
     "iopub.execute_input": "2025-07-30T12:54:29.759381Z",
     "iopub.status.busy": "2025-07-30T12:54:29.758750Z",
     "iopub.status.idle": "2025-07-30T12:54:31.837489Z",
     "shell.execute_reply": "2025-07-30T12:54:31.836396Z"
    },
    "papermill": {
     "duration": 2.105506,
     "end_time": "2025-07-30T12:54:31.839171",
     "exception": false,
     "start_time": "2025-07-30T12:54:29.733665",
     "status": "completed"
    },
    "tags": []
   },
   "outputs": [],
   "source": [
    "from fairness_multiverse.universe import UniverseAnalysis\n",
    "\n",
    "universe_analysis = UniverseAnalysis(\n",
    "    run_no = run_no,\n",
    "    universe_id = universe_id,\n",
    "    universe = universe,\n",
    "    output_dir=output_dir,\n",
    ")"
   ]
  },
  {
   "cell_type": "code",
   "execution_count": 8,
   "id": "106241f5",
   "metadata": {
    "execution": {
     "iopub.execute_input": "2025-07-30T12:54:31.882579Z",
     "iopub.status.busy": "2025-07-30T12:54:31.882074Z",
     "iopub.status.idle": "2025-07-30T12:54:31.889634Z",
     "shell.execute_reply": "2025-07-30T12:54:31.888468Z"
    },
    "papermill": {
     "duration": 0.031843,
     "end_time": "2025-07-30T12:54:31.891456",
     "exception": false,
     "start_time": "2025-07-30T12:54:31.859613",
     "status": "completed"
    },
    "tags": []
   },
   "outputs": [
    {
     "name": "stdout",
     "output_type": "stream",
     "text": [
      "Using Seed: 2023\n"
     ]
    }
   ],
   "source": [
    "import numpy as np\n",
    "parsed_seed = int(seed)\n",
    "np.random.seed(parsed_seed)\n",
    "print(f\"Using Seed: {parsed_seed}\")"
   ]
  },
  {
   "cell_type": "markdown",
   "id": "e0ebdc57",
   "metadata": {
    "papermill": {
     "duration": 0.018634,
     "end_time": "2025-07-30T12:54:31.930701",
     "exception": false,
     "start_time": "2025-07-30T12:54:31.912067",
     "status": "completed"
    },
    "tags": []
   },
   "source": [
    "# Loading Data"
   ]
  },
  {
   "cell_type": "markdown",
   "id": "681925a3",
   "metadata": {
    "papermill": {
     "duration": 0.021435,
     "end_time": "2025-07-30T12:54:31.973050",
     "exception": false,
     "start_time": "2025-07-30T12:54:31.951615",
     "status": "completed"
    },
    "tags": []
   },
   "source": [
    "Load siab_train, siab_test, siab_calib and/or \n",
    "load siab_train_features, siab_train_labels"
   ]
  },
  {
   "cell_type": "code",
   "execution_count": 9,
   "id": "f0496b8a",
   "metadata": {
    "execution": {
     "iopub.execute_input": "2025-07-30T12:54:31.998153Z",
     "iopub.status.busy": "2025-07-30T12:54:31.997724Z",
     "iopub.status.idle": "2025-07-30T12:54:44.120345Z",
     "shell.execute_reply": "2025-07-30T12:54:44.119264Z"
    },
    "papermill": {
     "duration": 12.136061,
     "end_time": "2025-07-30T12:54:44.122005",
     "exception": false,
     "start_time": "2025-07-30T12:54:31.985944",
     "status": "completed"
    },
    "tags": []
   },
   "outputs": [
    {
     "name": "stdout",
     "output_type": "stream",
     "text": [
      "Loading SIAB data from cache: data/siab_cached.csv.gz\n"
     ]
    },
    {
     "name": "stdout",
     "output_type": "stream",
     "text": [
      "(643690, 164)\n"
     ]
    }
   ],
   "source": [
    "from pathlib import Path\n",
    "import pandas as pd\n",
    "\n",
    "# File paths\n",
    "raw_file = Path(\"data/raw/siab.csv\")\n",
    "cache_file = Path(\"data/siab_cached.csv.gz\")\n",
    "\n",
    "# Ensure cache directory exists\n",
    "cache_file.parent.mkdir(parents=True, exist_ok=True)\n",
    "\n",
    "# Load with simple caching\n",
    "if cache_file.exists():\n",
    "    print(f\"Loading SIAB data from cache: {cache_file}\")\n",
    "    siab = pd.read_csv(cache_file, compression='gzip')\n",
    "else:\n",
    "    print(f\"Cache not found. Reading raw SIAB data: {raw_file}\")\n",
    "    siab = pd.read_csv(raw_file)\n",
    "    siab.to_csv(cache_file, index=False, compression='gzip')\n",
    "    print(f\"Cached SIAB data to: {cache_file}\")\n",
    "\n",
    "# Now use `siab` DataFrame as needed\n",
    "print(siab.shape)"
   ]
  },
  {
   "cell_type": "code",
   "execution_count": 10,
   "id": "db0ca512-5f53-4dba-abdb-a2888bca41ba",
   "metadata": {
    "execution": {
     "iopub.execute_input": "2025-07-30T12:54:44.166753Z",
     "iopub.status.busy": "2025-07-30T12:54:44.165903Z",
     "iopub.status.idle": "2025-07-30T12:54:44.172216Z",
     "shell.execute_reply": "2025-07-30T12:54:44.171186Z"
    },
    "papermill": {
     "duration": 0.028467,
     "end_time": "2025-07-30T12:54:44.173797",
     "exception": false,
     "start_time": "2025-07-30T12:54:44.145330",
     "status": "completed"
    },
    "tags": []
   },
   "outputs": [],
   "source": [
    "#siab"
   ]
  },
  {
   "cell_type": "code",
   "execution_count": 11,
   "id": "a0edb063",
   "metadata": {
    "execution": {
     "iopub.execute_input": "2025-07-30T12:54:44.216107Z",
     "iopub.status.busy": "2025-07-30T12:54:44.215388Z",
     "iopub.status.idle": "2025-07-30T12:54:44.220808Z",
     "shell.execute_reply": "2025-07-30T12:54:44.219742Z"
    },
    "papermill": {
     "duration": 0.027923,
     "end_time": "2025-07-30T12:54:44.222461",
     "exception": false,
     "start_time": "2025-07-30T12:54:44.194538",
     "status": "completed"
    },
    "tags": []
   },
   "outputs": [],
   "source": [
    "#import pandas as pd\n",
    "#\n",
    "#X_train = pd.read_csv(\"./data/X_train.csv\")\n",
    "#y_train = pd.read_csv(\"./data/y_train.csv\")"
   ]
  },
  {
   "cell_type": "code",
   "execution_count": 12,
   "id": "63d08085",
   "metadata": {
    "execution": {
     "iopub.execute_input": "2025-07-30T12:54:44.265268Z",
     "iopub.status.busy": "2025-07-30T12:54:44.264606Z",
     "iopub.status.idle": "2025-07-30T12:54:44.269610Z",
     "shell.execute_reply": "2025-07-30T12:54:44.268710Z"
    },
    "papermill": {
     "duration": 0.0281,
     "end_time": "2025-07-30T12:54:44.271449",
     "exception": false,
     "start_time": "2025-07-30T12:54:44.243349",
     "status": "completed"
    },
    "tags": []
   },
   "outputs": [],
   "source": [
    "#X_test = pd.read_csv(\"./data/X_test.csv\")\n",
    "#y_true = pd.read_csv(\"./data/y_test.csv\")"
   ]
  },
  {
   "cell_type": "code",
   "execution_count": 13,
   "id": "98a8d0fa-1d3d-4ed8-bb2c-281470e24add",
   "metadata": {
    "execution": {
     "iopub.execute_input": "2025-07-30T12:54:44.314814Z",
     "iopub.status.busy": "2025-07-30T12:54:44.314383Z",
     "iopub.status.idle": "2025-07-30T12:54:44.318908Z",
     "shell.execute_reply": "2025-07-30T12:54:44.318013Z"
    },
    "papermill": {
     "duration": 0.028073,
     "end_time": "2025-07-30T12:54:44.320667",
     "exception": false,
     "start_time": "2025-07-30T12:54:44.292594",
     "status": "completed"
    },
    "tags": []
   },
   "outputs": [],
   "source": [
    "# Calibration data for conformal\n",
    "#X_calib = pd.read_csv(\"./data/X_calib.csv\")\n",
    "#y_calib = pd.read_csv(\"./data/y_calib.csv\")"
   ]
  },
  {
   "cell_type": "markdown",
   "id": "997051c5-15bd-4b69-9786-c3001a3ce484",
   "metadata": {
    "papermill": {
     "duration": 0.019568,
     "end_time": "2025-07-30T12:54:44.360052",
     "exception": false,
     "start_time": "2025-07-30T12:54:44.340484",
     "status": "completed"
    },
    "tags": []
   },
   "source": [
    "# Splitting Data and Setting Training Data Size"
   ]
  },
  {
   "cell_type": "code",
   "execution_count": 14,
   "id": "e993b61f-042d-41a6-8c81-f55681f86335",
   "metadata": {
    "execution": {
     "iopub.execute_input": "2025-07-30T12:54:44.399337Z",
     "iopub.status.busy": "2025-07-30T12:54:44.398949Z",
     "iopub.status.idle": "2025-07-30T12:54:44.413427Z",
     "shell.execute_reply": "2025-07-30T12:54:44.412375Z"
    },
    "papermill": {
     "duration": 0.036065,
     "end_time": "2025-07-30T12:54:44.414911",
     "exception": false,
     "start_time": "2025-07-30T12:54:44.378846",
     "status": "completed"
    },
    "tags": []
   },
   "outputs": [],
   "source": [
    "def sample_by_year_size(df,\n",
    "                        training_year: str,\n",
    "                        training_size: str,\n",
    "                        random_state: int = 42):\n",
    "    # --- parse training_year into a list of int years ---\n",
    "    if \"_\" in training_year:\n",
    "        start_str, end_str = training_year.split(\"_\", 1)\n",
    "        start = int(start_str)\n",
    "        end   = int(end_str) if len(end_str) == 4 else (int(end_str) + (start // 100)*100)\n",
    "        years = list(range(start, end + 1))\n",
    "    else:\n",
    "        years = [int(training_year)]\n",
    "\n",
    "    df = df[df[\"year\"].isin(years)].reset_index(drop=True)\n",
    "\n",
    "    # --- map training_size to total number of samples ---\n",
    "    total_map = {\"25k\": 25_000, \"5k\": 5_000, \"1k\": 1_000}\n",
    "    if training_size not in total_map:\n",
    "        return df  # e.g. \"all\"\n",
    "\n",
    "    total_samples = total_map[training_size]\n",
    "    n_years       = len(years)\n",
    "    base          = total_samples // n_years\n",
    "    remainder     = total_samples % n_years\n",
    "\n",
    "    # --- build a dict: year -> how many to sample ---\n",
    "    # give +1 to the first `remainder` years in ascending order\n",
    "    quotas = {\n",
    "        year: base + (1 if idx < remainder else 0)\n",
    "        for idx, year in enumerate(sorted(years))\n",
    "    }\n",
    "\n",
    "    # --- sample per‐year according to the quota dict ---\n",
    "    sampled = (\n",
    "        df\n",
    "        .groupby(\"year\", group_keys=False)\n",
    "        .apply(lambda grp: grp.sample(\n",
    "            n=min(len(grp), quotas[grp.name]),\n",
    "            random_state=random_state))\n",
    "        .reset_index(drop=True)\n",
    "    )\n",
    "\n",
    "    return sampled"
   ]
  },
  {
   "cell_type": "code",
   "execution_count": 15,
   "id": "c0ccd338-0e02-41f3-a09d-f56f9266e3fb",
   "metadata": {
    "execution": {
     "iopub.execute_input": "2025-07-30T12:54:44.456904Z",
     "iopub.status.busy": "2025-07-30T12:54:44.456182Z",
     "iopub.status.idle": "2025-07-30T12:54:44.470232Z",
     "shell.execute_reply": "2025-07-30T12:54:44.467426Z"
    },
    "papermill": {
     "duration": 0.036844,
     "end_time": "2025-07-30T12:54:44.472514",
     "exception": false,
     "start_time": "2025-07-30T12:54:44.435670",
     "status": "completed"
    },
    "tags": []
   },
   "outputs": [
    {
     "data": {
      "text/plain": [
       "'25k'"
      ]
     },
     "execution_count": 15,
     "metadata": {},
     "output_type": "execute_result"
    }
   ],
   "source": [
    "universe[\"training_size\"]"
   ]
  },
  {
   "cell_type": "code",
   "execution_count": 16,
   "id": "ca707fd7-8047-4acd-bfa5-66248fbbf8e6",
   "metadata": {
    "execution": {
     "iopub.execute_input": "2025-07-30T12:54:44.517583Z",
     "iopub.status.busy": "2025-07-30T12:54:44.517093Z",
     "iopub.status.idle": "2025-07-30T12:54:44.524834Z",
     "shell.execute_reply": "2025-07-30T12:54:44.523668Z"
    },
    "papermill": {
     "duration": 0.031649,
     "end_time": "2025-07-30T12:54:44.526640",
     "exception": false,
     "start_time": "2025-07-30T12:54:44.494991",
     "status": "completed"
    },
    "tags": []
   },
   "outputs": [
    {
     "data": {
      "text/plain": [
       "'2014'"
      ]
     },
     "execution_count": 16,
     "metadata": {},
     "output_type": "execute_result"
    }
   ],
   "source": [
    "universe[\"training_year\"]"
   ]
  },
  {
   "cell_type": "code",
   "execution_count": 17,
   "id": "aea9c6ef-6f46-42c8-85eb-5a62025c1508",
   "metadata": {
    "execution": {
     "iopub.execute_input": "2025-07-30T12:54:44.572070Z",
     "iopub.status.busy": "2025-07-30T12:54:44.571403Z",
     "iopub.status.idle": "2025-07-30T12:54:44.887609Z",
     "shell.execute_reply": "2025-07-30T12:54:44.886720Z"
    },
    "papermill": {
     "duration": 0.341617,
     "end_time": "2025-07-30T12:54:44.889514",
     "exception": false,
     "start_time": "2025-07-30T12:54:44.547897",
     "status": "completed"
    },
    "tags": []
   },
   "outputs": [],
   "source": [
    "siab_train = sample_by_year_size(siab,\n",
    "                               training_year=universe[\"training_year\"],\n",
    "                               training_size=universe[\"training_size\"])"
   ]
  },
  {
   "cell_type": "code",
   "execution_count": 18,
   "id": "8d3afb32-789d-442c-8d5d-9f5aa8dd2eed",
   "metadata": {
    "execution": {
     "iopub.execute_input": "2025-07-30T12:54:44.932331Z",
     "iopub.status.busy": "2025-07-30T12:54:44.931671Z",
     "iopub.status.idle": "2025-07-30T12:54:44.938755Z",
     "shell.execute_reply": "2025-07-30T12:54:44.937746Z"
    },
    "papermill": {
     "duration": 0.030564,
     "end_time": "2025-07-30T12:54:44.940424",
     "exception": false,
     "start_time": "2025-07-30T12:54:44.909860",
     "status": "completed"
    },
    "tags": []
   },
   "outputs": [
    {
     "data": {
      "text/plain": [
       "(25000, 164)"
      ]
     },
     "execution_count": 18,
     "metadata": {},
     "output_type": "execute_result"
    }
   ],
   "source": [
    "siab_train.shape"
   ]
  },
  {
   "cell_type": "code",
   "execution_count": 19,
   "id": "d582db68-1a4c-47fb-84fc-08518dc1975a",
   "metadata": {
    "execution": {
     "iopub.execute_input": "2025-07-30T12:54:44.986683Z",
     "iopub.status.busy": "2025-07-30T12:54:44.986059Z",
     "iopub.status.idle": "2025-07-30T12:54:44.995309Z",
     "shell.execute_reply": "2025-07-30T12:54:44.994405Z"
    },
    "papermill": {
     "duration": 0.033363,
     "end_time": "2025-07-30T12:54:44.997012",
     "exception": false,
     "start_time": "2025-07-30T12:54:44.963649",
     "status": "completed"
    },
    "tags": []
   },
   "outputs": [
    {
     "data": {
      "text/plain": [
       "year\n",
       "2014    25000\n",
       "dtype: int64"
      ]
     },
     "metadata": {},
     "output_type": "display_data"
    }
   ],
   "source": [
    "display(siab_train.groupby(\"year\").size())"
   ]
  },
  {
   "cell_type": "code",
   "execution_count": 20,
   "id": "a561edb4-d032-42cb-8256-22eac1111c64",
   "metadata": {
    "execution": {
     "iopub.execute_input": "2025-07-30T12:54:45.041006Z",
     "iopub.status.busy": "2025-07-30T12:54:45.040404Z",
     "iopub.status.idle": "2025-07-30T12:54:45.274723Z",
     "shell.execute_reply": "2025-07-30T12:54:45.273770Z"
    },
    "papermill": {
     "duration": 0.25769,
     "end_time": "2025-07-30T12:54:45.276560",
     "exception": false,
     "start_time": "2025-07-30T12:54:45.018870",
     "status": "completed"
    },
    "tags": []
   },
   "outputs": [],
   "source": [
    "#siab_train = siab_s[siab_s.year < 2015]\n",
    "siab_calib = siab[siab.year == 2015]\n",
    "siab_test = siab[siab.year == 2016]"
   ]
  },
  {
   "cell_type": "code",
   "execution_count": 21,
   "id": "472de16f-c3db-4916-846b-1f0de9cf1746",
   "metadata": {
    "execution": {
     "iopub.execute_input": "2025-07-30T12:54:45.320341Z",
     "iopub.status.busy": "2025-07-30T12:54:45.319666Z",
     "iopub.status.idle": "2025-07-30T12:54:45.345195Z",
     "shell.execute_reply": "2025-07-30T12:54:45.344045Z"
    },
    "papermill": {
     "duration": 0.049704,
     "end_time": "2025-07-30T12:54:45.347041",
     "exception": false,
     "start_time": "2025-07-30T12:54:45.297337",
     "status": "completed"
    },
    "tags": []
   },
   "outputs": [],
   "source": [
    "X_train = siab_train.iloc[:,4:164]\n",
    "y_train = siab_train.iloc[:, [3]]"
   ]
  },
  {
   "cell_type": "code",
   "execution_count": 22,
   "id": "828c96af-f43a-4ed6-ba47-8ac73a47d56c",
   "metadata": {
    "execution": {
     "iopub.execute_input": "2025-07-30T12:54:45.390704Z",
     "iopub.status.busy": "2025-07-30T12:54:45.390026Z",
     "iopub.status.idle": "2025-07-30T12:54:45.439190Z",
     "shell.execute_reply": "2025-07-30T12:54:45.438143Z"
    },
    "papermill": {
     "duration": 0.072006,
     "end_time": "2025-07-30T12:54:45.441178",
     "exception": false,
     "start_time": "2025-07-30T12:54:45.369172",
     "status": "completed"
    },
    "tags": []
   },
   "outputs": [],
   "source": [
    "X_calib = siab_calib.iloc[:,4:164]\n",
    "y_calib = siab_calib.iloc[:, [3]]"
   ]
  },
  {
   "cell_type": "code",
   "execution_count": 23,
   "id": "c34be9c3-6bd6-476e-acd3-845840e303be",
   "metadata": {
    "execution": {
     "iopub.execute_input": "2025-07-30T12:54:45.484803Z",
     "iopub.status.busy": "2025-07-30T12:54:45.483981Z",
     "iopub.status.idle": "2025-07-30T12:54:45.535135Z",
     "shell.execute_reply": "2025-07-30T12:54:45.534021Z"
    },
    "papermill": {
     "duration": 0.073742,
     "end_time": "2025-07-30T12:54:45.536723",
     "exception": false,
     "start_time": "2025-07-30T12:54:45.462981",
     "status": "completed"
    },
    "tags": []
   },
   "outputs": [],
   "source": [
    "X_test = siab_test.iloc[:,4:164]\n",
    "y_true = siab_test.iloc[:, [3]]"
   ]
  },
  {
   "cell_type": "markdown",
   "id": "9901737e-04df-44f0-9100-f5ad144ed040",
   "metadata": {
    "papermill": {
     "duration": 0.020147,
     "end_time": "2025-07-30T12:54:45.579107",
     "exception": false,
     "start_time": "2025-07-30T12:54:45.558960",
     "status": "completed"
    },
    "tags": []
   },
   "source": [
    "# Splitting Data and Setting Training Data Size OLD VERSION"
   ]
  },
  {
   "cell_type": "code",
   "execution_count": 24,
   "id": "acbc8f7d-8fc8-4e86-8c59-5dcb0f58384b",
   "metadata": {
    "execution": {
     "iopub.execute_input": "2025-07-30T12:54:45.621927Z",
     "iopub.status.busy": "2025-07-30T12:54:45.621284Z",
     "iopub.status.idle": "2025-07-30T12:54:45.626758Z",
     "shell.execute_reply": "2025-07-30T12:54:45.625762Z"
    },
    "papermill": {
     "duration": 0.029124,
     "end_time": "2025-07-30T12:54:45.628638",
     "exception": false,
     "start_time": "2025-07-30T12:54:45.599514",
     "status": "completed"
    },
    "tags": []
   },
   "outputs": [],
   "source": [
    "#def sample_by_year(df, training_size, random_state=42):\n",
    "#    if training_size == \"2014\":\n",
    "#        return df[df[\"year\"] == 2014].reset_index(drop=True)\n",
    "#    \n",
    "#    size_map = {\n",
    "#        \"25k\": 5000,\n",
    "#        \"5k\": 1000,\n",
    "#        \"1k\": 200\n",
    "#    }\n",
    "#\n",
    "#    if training_size not in size_map:\n",
    "#        return df.reset_index(drop=True)  # use all data\n",
    "#\n",
    "#    n_per_year = size_map[training_size]\n",
    "#    grouped = df.groupby(\"year\")\n",
    "#    sampled = grouped.apply(lambda x: x.sample(n=min(n_per_year, len(x)), random_state=random_state))\n",
    "#    return sampled.reset_index(drop=True)"
   ]
  },
  {
   "cell_type": "code",
   "execution_count": 25,
   "id": "6d931f52-beaf-43ff-9e78-9d44a448d54e",
   "metadata": {
    "execution": {
     "iopub.execute_input": "2025-07-30T12:54:45.671896Z",
     "iopub.status.busy": "2025-07-30T12:54:45.671237Z",
     "iopub.status.idle": "2025-07-30T12:54:45.676254Z",
     "shell.execute_reply": "2025-07-30T12:54:45.675302Z"
    },
    "papermill": {
     "duration": 0.027644,
     "end_time": "2025-07-30T12:54:45.678115",
     "exception": false,
     "start_time": "2025-07-30T12:54:45.650471",
     "status": "completed"
    },
    "tags": []
   },
   "outputs": [],
   "source": [
    "#siab_s = sample_by_year(siab, universe[\"training_size\"])"
   ]
  },
  {
   "cell_type": "code",
   "execution_count": 26,
   "id": "5db0a40e-a4e2-4920-be85-b12ae061d70d",
   "metadata": {
    "execution": {
     "iopub.execute_input": "2025-07-30T12:54:45.721181Z",
     "iopub.status.busy": "2025-07-30T12:54:45.720624Z",
     "iopub.status.idle": "2025-07-30T12:54:45.725183Z",
     "shell.execute_reply": "2025-07-30T12:54:45.724321Z"
    },
    "papermill": {
     "duration": 0.02788,
     "end_time": "2025-07-30T12:54:45.727225",
     "exception": false,
     "start_time": "2025-07-30T12:54:45.699345",
     "status": "completed"
    },
    "tags": []
   },
   "outputs": [],
   "source": [
    "#display(siab_s.groupby(\"year\").size())"
   ]
  },
  {
   "cell_type": "code",
   "execution_count": 27,
   "id": "e6c733c5",
   "metadata": {
    "execution": {
     "iopub.execute_input": "2025-07-30T12:54:45.770488Z",
     "iopub.status.busy": "2025-07-30T12:54:45.770082Z",
     "iopub.status.idle": "2025-07-30T12:54:45.865081Z",
     "shell.execute_reply": "2025-07-30T12:54:45.864080Z"
    },
    "papermill": {
     "duration": 0.118096,
     "end_time": "2025-07-30T12:54:45.866969",
     "exception": false,
     "start_time": "2025-07-30T12:54:45.748873",
     "status": "completed"
    },
    "tags": []
   },
   "outputs": [],
   "source": [
    "# Auxiliary data needed downstream in the pipeline\n",
    "\n",
    "org_train = X_train.copy()\n",
    "org_test = X_test.copy()\n",
    "org_calib = X_calib.copy()"
   ]
  },
  {
   "cell_type": "code",
   "execution_count": 28,
   "id": "1466abac-c6da-4492-a62f-4240ae3783af",
   "metadata": {
    "execution": {
     "iopub.execute_input": "2025-07-30T12:54:45.909880Z",
     "iopub.status.busy": "2025-07-30T12:54:45.909219Z",
     "iopub.status.idle": "2025-07-30T12:54:45.915378Z",
     "shell.execute_reply": "2025-07-30T12:54:45.914274Z"
    },
    "papermill": {
     "duration": 0.029487,
     "end_time": "2025-07-30T12:54:45.917556",
     "exception": false,
     "start_time": "2025-07-30T12:54:45.888069",
     "status": "completed"
    },
    "tags": []
   },
   "outputs": [],
   "source": [
    "# put in other script?\n",
    "# Group sizes\n",
    "\n",
    "#def calculate_percentages(df, df_name):\n",
    "#    total_entries = len(df)\n",
    "#\n",
    "#    female_pct = (df['frau1'] == 1).mean() * 100\n",
    "#    non_german_pct = ((df['maxdeutsch1'] == 0) & (df['maxdeutsch.Missing.'] == 0)).mean() * 100\n",
    "#    non_german_male_pct = ((df['frau1'] == 0) & (df['maxdeutsch1'] == 0) & (df['maxdeutsch.Missing.'] == 0)).mean() * 100\n",
    "#    non_german_female_pct = ((df['frau1'] == 1) & (df['maxdeutsch1'] == 0) & (df['maxdeutsch.Missing.'] == 0)).mean() * 100\n",
    "#\n",
    "#    print(f\"--- {df_name} ---\")\n",
    "#    print(f\"Female: {female_pct:.2f}%\")\n",
    "#    print(f\"Non-German: {non_german_pct:.2f}%\")\n",
    "#    print(f\"Non-German Male: {non_german_male_pct:.2f}%\")\n",
    "#    print(f\"Non-German Female: {non_german_female_pct:.2f}%\\n\")\n",
    "#\n",
    "## Calculate for each DataFrame\n",
    "#calculate_percentages(siab_calib, \"siab_calib\")\n",
    "#calculate_percentages(siab_test, \"siab_test\")\n",
    "#calculate_percentages(siab_train, \"siab_train\")"
   ]
  },
  {
   "cell_type": "markdown",
   "id": "0a4a1b33",
   "metadata": {
    "papermill": {
     "duration": 0.020033,
     "end_time": "2025-07-30T12:54:45.959777",
     "exception": false,
     "start_time": "2025-07-30T12:54:45.939744",
     "status": "completed"
    },
    "tags": []
   },
   "source": [
    "# Preprocessing Data"
   ]
  },
  {
   "cell_type": "code",
   "execution_count": 29,
   "id": "ca879031",
   "metadata": {
    "execution": {
     "iopub.execute_input": "2025-07-30T12:54:46.003596Z",
     "iopub.status.busy": "2025-07-30T12:54:46.002947Z",
     "iopub.status.idle": "2025-07-30T12:54:46.009025Z",
     "shell.execute_reply": "2025-07-30T12:54:46.007991Z"
    },
    "papermill": {
     "duration": 0.029019,
     "end_time": "2025-07-30T12:54:46.010584",
     "exception": false,
     "start_time": "2025-07-30T12:54:45.981565",
     "status": "completed"
    },
    "tags": []
   },
   "outputs": [],
   "source": [
    "# EXCLUDE PROTECTED FEATURES\n",
    "# ----------------------\n",
    "# \"exclude_features\": \"none\", # \"nationality\", \"sex\", \"nationality-sex\"\n",
    "\n",
    "excluded_features = universe[\"exclude_features\"].split(\"-\") # split, e.g.: \"nationality-sex\" -> [\"nationality\", \"sex\"]\n",
    "excluded_features_dictionary = {\n",
    "    \"nationality\": [\"maxdeutsch1\", \"maxdeutsch.Missing.\"],\n",
    "    \"sex\": [\"frau1\"],\n",
    "    \"age\": [\"age\"],\n",
    "}\n"
   ]
  },
  {
   "cell_type": "code",
   "execution_count": 30,
   "id": "b745ac60",
   "metadata": {
    "execution": {
     "iopub.execute_input": "2025-07-30T12:54:46.060232Z",
     "iopub.status.busy": "2025-07-30T12:54:46.059284Z",
     "iopub.status.idle": "2025-07-30T12:54:46.065093Z",
     "shell.execute_reply": "2025-07-30T12:54:46.064080Z"
    },
    "papermill": {
     "duration": 0.028869,
     "end_time": "2025-07-30T12:54:46.066738",
     "exception": false,
     "start_time": "2025-07-30T12:54:46.037869",
     "status": "completed"
    },
    "tags": []
   },
   "outputs": [],
   "source": [
    "# Code nice names to column names\n",
    "\n",
    "excluded_features_columns = [\n",
    "    excluded_features_dictionary[f] for f in excluded_features if len(f) > 0 and f != \"none\"\n",
    "]"
   ]
  },
  {
   "cell_type": "code",
   "execution_count": 31,
   "id": "f84f73a2",
   "metadata": {
    "execution": {
     "iopub.execute_input": "2025-07-30T12:54:46.111302Z",
     "iopub.status.busy": "2025-07-30T12:54:46.110485Z",
     "iopub.status.idle": "2025-07-30T12:54:46.116961Z",
     "shell.execute_reply": "2025-07-30T12:54:46.115997Z"
    },
    "papermill": {
     "duration": 0.02978,
     "end_time": "2025-07-30T12:54:46.118639",
     "exception": false,
     "start_time": "2025-07-30T12:54:46.088859",
     "status": "completed"
    },
    "tags": []
   },
   "outputs": [],
   "source": [
    "from utils import flatten_once\n",
    "\n",
    "excluded_features_columns = flatten_once(excluded_features_columns)"
   ]
  },
  {
   "cell_type": "code",
   "execution_count": 32,
   "id": "884dea22",
   "metadata": {
    "execution": {
     "iopub.execute_input": "2025-07-30T12:54:46.162831Z",
     "iopub.status.busy": "2025-07-30T12:54:46.162354Z",
     "iopub.status.idle": "2025-07-30T12:54:46.167658Z",
     "shell.execute_reply": "2025-07-30T12:54:46.166707Z"
    },
    "papermill": {
     "duration": 0.028785,
     "end_time": "2025-07-30T12:54:46.169339",
     "exception": false,
     "start_time": "2025-07-30T12:54:46.140554",
     "status": "completed"
    },
    "tags": []
   },
   "outputs": [],
   "source": [
    "if len(excluded_features_columns) > 0:\n",
    "    print(f\"Dropping features: {excluded_features_columns}\")\n",
    "    X_train.drop(excluded_features_columns, axis=1, inplace=True)"
   ]
  },
  {
   "cell_type": "code",
   "execution_count": 33,
   "id": "95ab8b16",
   "metadata": {
    "execution": {
     "iopub.execute_input": "2025-07-30T12:54:46.214322Z",
     "iopub.status.busy": "2025-07-30T12:54:46.213452Z",
     "iopub.status.idle": "2025-07-30T12:54:46.220275Z",
     "shell.execute_reply": "2025-07-30T12:54:46.219022Z"
    },
    "papermill": {
     "duration": 0.031058,
     "end_time": "2025-07-30T12:54:46.222016",
     "exception": false,
     "start_time": "2025-07-30T12:54:46.190958",
     "status": "completed"
    },
    "tags": []
   },
   "outputs": [],
   "source": [
    "if len(excluded_features_columns) > 0:\n",
    "    print(f\"Dropping features: {excluded_features_columns}\")\n",
    "    X_test.drop(excluded_features_columns, axis=1, inplace=True)"
   ]
  },
  {
   "cell_type": "code",
   "execution_count": 34,
   "id": "1853aaf5-fb9f-46cb-a2b5-8ea4ae2237e4",
   "metadata": {
    "execution": {
     "iopub.execute_input": "2025-07-30T12:54:46.268441Z",
     "iopub.status.busy": "2025-07-30T12:54:46.267732Z",
     "iopub.status.idle": "2025-07-30T12:54:46.273902Z",
     "shell.execute_reply": "2025-07-30T12:54:46.272984Z"
    },
    "papermill": {
     "duration": 0.030994,
     "end_time": "2025-07-30T12:54:46.275600",
     "exception": false,
     "start_time": "2025-07-30T12:54:46.244606",
     "status": "completed"
    },
    "tags": []
   },
   "outputs": [],
   "source": [
    "if len(excluded_features_columns) > 0:\n",
    "    print(f\"Dropping features: {excluded_features_columns}\")\n",
    "    X_calib.drop(excluded_features_columns, axis=1, inplace=True)"
   ]
  },
  {
   "cell_type": "code",
   "execution_count": 35,
   "id": "6727d079-03e5-481e-9d38-292a90b7a0a8",
   "metadata": {
    "execution": {
     "iopub.execute_input": "2025-07-30T12:54:46.320150Z",
     "iopub.status.busy": "2025-07-30T12:54:46.319283Z",
     "iopub.status.idle": "2025-07-30T12:54:46.324501Z",
     "shell.execute_reply": "2025-07-30T12:54:46.323526Z"
    },
    "papermill": {
     "duration": 0.028261,
     "end_time": "2025-07-30T12:54:46.326226",
     "exception": false,
     "start_time": "2025-07-30T12:54:46.297965",
     "status": "completed"
    },
    "tags": []
   },
   "outputs": [],
   "source": [
    "# SPLIT & STRATIFY DATA\n",
    "# ----------------------"
   ]
  },
  {
   "cell_type": "code",
   "execution_count": 36,
   "id": "76c4dc6d",
   "metadata": {
    "execution": {
     "iopub.execute_input": "2025-07-30T12:54:46.370810Z",
     "iopub.status.busy": "2025-07-30T12:54:46.370212Z",
     "iopub.status.idle": "2025-07-30T12:54:46.375480Z",
     "shell.execute_reply": "2025-07-30T12:54:46.374502Z"
    },
    "papermill": {
     "duration": 0.029097,
     "end_time": "2025-07-30T12:54:46.377258",
     "exception": false,
     "start_time": "2025-07-30T12:54:46.348161",
     "status": "completed"
    },
    "tags": []
   },
   "outputs": [],
   "source": [
    "# EXCLUDE CERTAIN SUBGROUPS\n",
    "# ----------------------\n",
    "\n",
    "mode = universe.get(\"exclude_subgroups\", \"keep-all\") \n",
    "# Fetches the exclude_subgroups setting from the universe dict.\n",
    "# Defaults to \"keep-all\" if the key is missing."
   ]
  },
  {
   "cell_type": "code",
   "execution_count": 37,
   "id": "21994072",
   "metadata": {
    "execution": {
     "iopub.execute_input": "2025-07-30T12:54:46.420615Z",
     "iopub.status.busy": "2025-07-30T12:54:46.419863Z",
     "iopub.status.idle": "2025-07-30T12:54:46.426921Z",
     "shell.execute_reply": "2025-07-30T12:54:46.425969Z"
    },
    "papermill": {
     "duration": 0.029827,
     "end_time": "2025-07-30T12:54:46.428744",
     "exception": false,
     "start_time": "2025-07-30T12:54:46.398917",
     "status": "completed"
    },
    "tags": []
   },
   "outputs": [],
   "source": [
    "if mode == \"keep-all\":\n",
    "    keep_mask = pd.Series(True, index=org_train.index)\n",
    "\n",
    "# org_train contains the original feature columns from features_org (in Simson)\n",
    "# features_org contains unprocessed features, for me X_train at beginning ???\n",
    "# For keep-all, creates a boolean Series (keep_mask) of all True, so no rows are removed.\n",
    "\n",
    "elif mode == \"drop-non-german\":\n",
    "    keep_mask = org_train[\"maxdeutsch1\"] == 1 # ??? what about missing values?\n",
    "\n",
    "else:\n",
    "    raise ValueError(f\"Unsupported mode for exclude_subgroups: {mode}\")\n"
   ]
  },
  {
   "cell_type": "code",
   "execution_count": 38,
   "id": "71651440",
   "metadata": {
    "execution": {
     "iopub.execute_input": "2025-07-30T12:54:46.475826Z",
     "iopub.status.busy": "2025-07-30T12:54:46.475219Z",
     "iopub.status.idle": "2025-07-30T12:54:46.482939Z",
     "shell.execute_reply": "2025-07-30T12:54:46.481840Z"
    },
    "papermill": {
     "duration": 0.033904,
     "end_time": "2025-07-30T12:54:46.484839",
     "exception": false,
     "start_time": "2025-07-30T12:54:46.450935",
     "status": "completed"
    },
    "tags": []
   },
   "outputs": [],
   "source": [
    "n_drop = (~keep_mask).sum() # Calculates how many rows are set to be dropped\n",
    "if n_drop > 0:\n",
    "    pct = n_drop / len(keep_mask) * 100\n",
    "    print(f\"Dropping {n_drop} rows ({pct:.2f}%) where mode='{mode}'\")"
   ]
  },
  {
   "cell_type": "code",
   "execution_count": 39,
   "id": "5fb8eee5",
   "metadata": {
    "execution": {
     "iopub.execute_input": "2025-07-30T12:54:46.532471Z",
     "iopub.status.busy": "2025-07-30T12:54:46.531811Z",
     "iopub.status.idle": "2025-07-30T12:54:46.555043Z",
     "shell.execute_reply": "2025-07-30T12:54:46.553875Z"
    },
    "papermill": {
     "duration": 0.049681,
     "end_time": "2025-07-30T12:54:46.557276",
     "exception": false,
     "start_time": "2025-07-30T12:54:46.507595",
     "status": "completed"
    },
    "tags": []
   },
   "outputs": [],
   "source": [
    "X_train = X_train[keep_mask]"
   ]
  },
  {
   "cell_type": "code",
   "execution_count": 40,
   "id": "b202bb3a",
   "metadata": {
    "execution": {
     "iopub.execute_input": "2025-07-30T12:54:46.608993Z",
     "iopub.status.busy": "2025-07-30T12:54:46.608322Z",
     "iopub.status.idle": "2025-07-30T12:54:46.614929Z",
     "shell.execute_reply": "2025-07-30T12:54:46.613882Z"
    },
    "papermill": {
     "duration": 0.033952,
     "end_time": "2025-07-30T12:54:46.616791",
     "exception": false,
     "start_time": "2025-07-30T12:54:46.582839",
     "status": "completed"
    },
    "tags": []
   },
   "outputs": [],
   "source": [
    "y_train = y_train[keep_mask]"
   ]
  },
  {
   "cell_type": "markdown",
   "id": "493e2ac3",
   "metadata": {
    "papermill": {
     "duration": 0.023144,
     "end_time": "2025-07-30T12:54:46.665440",
     "exception": false,
     "start_time": "2025-07-30T12:54:46.642296",
     "status": "completed"
    },
    "tags": []
   },
   "source": [
    "# Model Training"
   ]
  },
  {
   "cell_type": "code",
   "execution_count": 41,
   "id": "679e1268",
   "metadata": {
    "execution": {
     "iopub.execute_input": "2025-07-30T12:54:46.713729Z",
     "iopub.status.busy": "2025-07-30T12:54:46.713206Z",
     "iopub.status.idle": "2025-07-30T12:54:46.818815Z",
     "shell.execute_reply": "2025-07-30T12:54:46.817902Z"
    },
    "papermill": {
     "duration": 0.132792,
     "end_time": "2025-07-30T12:54:46.820814",
     "exception": false,
     "start_time": "2025-07-30T12:54:46.688022",
     "status": "completed"
    },
    "tags": []
   },
   "outputs": [],
   "source": [
    "from sklearn.linear_model import LogisticRegression\n",
    "from sklearn.ensemble import GradientBoostingClassifier, RandomForestClassifier\n",
    "\n",
    "if (universe[\"model\"] == \"logreg\"):\n",
    "    model = LogisticRegression() #penalty=\"none\") #, solver=\"newton-cg\", max_iter=1) # include random_state=19 ?\n",
    "elif (universe[\"model\"] == \"penalized_logreg\"):\n",
    "    model = LogisticRegression(penalty=\"l2\", C=1.0) #, solver=\"newton-cg\", max_iter=1)\n",
    "elif (universe[\"model\"] == \"rf\"):\n",
    "    model = RandomForestClassifier(n_estimators=100, n_jobs=-1)\n",
    "elif (universe[\"model\"] == \"gbm\"):\n",
    "    model = GradientBoostingClassifier()\n",
    "elif (universe[\"model\"] == \"elasticnet\"):\n",
    "    model = LogisticRegression(penalty = 'elasticnet', solver = 'saga', l1_ratio = 0.5, max_iter=5000) # which solver to use?\n",
    "else:\n",
    "    raise \"Unsupported universe.model\""
   ]
  },
  {
   "cell_type": "code",
   "execution_count": 42,
   "id": "0cc8f744",
   "metadata": {
    "execution": {
     "iopub.execute_input": "2025-07-30T12:54:46.870188Z",
     "iopub.status.busy": "2025-07-30T12:54:46.869416Z",
     "iopub.status.idle": "2025-07-30T12:54:46.875700Z",
     "shell.execute_reply": "2025-07-30T12:54:46.874750Z"
    },
    "papermill": {
     "duration": 0.032036,
     "end_time": "2025-07-30T12:54:46.877830",
     "exception": false,
     "start_time": "2025-07-30T12:54:46.845794",
     "status": "completed"
    },
    "tags": []
   },
   "outputs": [],
   "source": [
    "import numpy as np\n",
    "from sklearn.pipeline import Pipeline\n",
    "from sklearn.preprocessing import StandardScaler\n",
    "\n",
    "model = Pipeline([\n",
    "    #(\"continuous_processor\", continuous_processor),\n",
    "    #(\"categorical_preprocessor\", categorical_preprocessor),\n",
    "    (\"scale\", StandardScaler() if universe[\"scale\"] == \"scale\" else None), \n",
    "    (\"model\", model),\n",
    "])"
   ]
  },
  {
   "cell_type": "code",
   "execution_count": 43,
   "id": "9442c04d",
   "metadata": {
    "execution": {
     "iopub.execute_input": "2025-07-30T12:54:46.927191Z",
     "iopub.status.busy": "2025-07-30T12:54:46.926690Z",
     "iopub.status.idle": "2025-07-30T12:54:50.518596Z",
     "shell.execute_reply": "2025-07-30T12:54:50.517691Z"
    },
    "papermill": {
     "duration": 3.617898,
     "end_time": "2025-07-30T12:54:50.520310",
     "exception": false,
     "start_time": "2025-07-30T12:54:46.902412",
     "status": "completed"
    },
    "tags": []
   },
   "outputs": [
    {
     "data": {
      "text/html": [
       "<style>#sk-container-id-1 {color: black;background-color: white;}#sk-container-id-1 pre{padding: 0;}#sk-container-id-1 div.sk-toggleable {background-color: white;}#sk-container-id-1 label.sk-toggleable__label {cursor: pointer;display: block;width: 100%;margin-bottom: 0;padding: 0.3em;box-sizing: border-box;text-align: center;}#sk-container-id-1 label.sk-toggleable__label-arrow:before {content: \"▸\";float: left;margin-right: 0.25em;color: #696969;}#sk-container-id-1 label.sk-toggleable__label-arrow:hover:before {color: black;}#sk-container-id-1 div.sk-estimator:hover label.sk-toggleable__label-arrow:before {color: black;}#sk-container-id-1 div.sk-toggleable__content {max-height: 0;max-width: 0;overflow: hidden;text-align: left;background-color: #f0f8ff;}#sk-container-id-1 div.sk-toggleable__content pre {margin: 0.2em;color: black;border-radius: 0.25em;background-color: #f0f8ff;}#sk-container-id-1 input.sk-toggleable__control:checked~div.sk-toggleable__content {max-height: 200px;max-width: 100%;overflow: auto;}#sk-container-id-1 input.sk-toggleable__control:checked~label.sk-toggleable__label-arrow:before {content: \"▾\";}#sk-container-id-1 div.sk-estimator input.sk-toggleable__control:checked~label.sk-toggleable__label {background-color: #d4ebff;}#sk-container-id-1 div.sk-label input.sk-toggleable__control:checked~label.sk-toggleable__label {background-color: #d4ebff;}#sk-container-id-1 input.sk-hidden--visually {border: 0;clip: rect(1px 1px 1px 1px);clip: rect(1px, 1px, 1px, 1px);height: 1px;margin: -1px;overflow: hidden;padding: 0;position: absolute;width: 1px;}#sk-container-id-1 div.sk-estimator {font-family: monospace;background-color: #f0f8ff;border: 1px dotted black;border-radius: 0.25em;box-sizing: border-box;margin-bottom: 0.5em;}#sk-container-id-1 div.sk-estimator:hover {background-color: #d4ebff;}#sk-container-id-1 div.sk-parallel-item::after {content: \"\";width: 100%;border-bottom: 1px solid gray;flex-grow: 1;}#sk-container-id-1 div.sk-label:hover label.sk-toggleable__label {background-color: #d4ebff;}#sk-container-id-1 div.sk-serial::before {content: \"\";position: absolute;border-left: 1px solid gray;box-sizing: border-box;top: 0;bottom: 0;left: 50%;z-index: 0;}#sk-container-id-1 div.sk-serial {display: flex;flex-direction: column;align-items: center;background-color: white;padding-right: 0.2em;padding-left: 0.2em;position: relative;}#sk-container-id-1 div.sk-item {position: relative;z-index: 1;}#sk-container-id-1 div.sk-parallel {display: flex;align-items: stretch;justify-content: center;background-color: white;position: relative;}#sk-container-id-1 div.sk-item::before, #sk-container-id-1 div.sk-parallel-item::before {content: \"\";position: absolute;border-left: 1px solid gray;box-sizing: border-box;top: 0;bottom: 0;left: 50%;z-index: -1;}#sk-container-id-1 div.sk-parallel-item {display: flex;flex-direction: column;z-index: 1;position: relative;background-color: white;}#sk-container-id-1 div.sk-parallel-item:first-child::after {align-self: flex-end;width: 50%;}#sk-container-id-1 div.sk-parallel-item:last-child::after {align-self: flex-start;width: 50%;}#sk-container-id-1 div.sk-parallel-item:only-child::after {width: 0;}#sk-container-id-1 div.sk-dashed-wrapped {border: 1px dashed gray;margin: 0 0.4em 0.5em 0.4em;box-sizing: border-box;padding-bottom: 0.4em;background-color: white;}#sk-container-id-1 div.sk-label label {font-family: monospace;font-weight: bold;display: inline-block;line-height: 1.2em;}#sk-container-id-1 div.sk-label-container {text-align: center;}#sk-container-id-1 div.sk-container {/* jupyter's `normalize.less` sets `[hidden] { display: none; }` but bootstrap.min.css set `[hidden] { display: none !important; }` so we also need the `!important` here to be able to override the default hidden behavior on the sphinx rendered scikit-learn.org. See: https://github.com/scikit-learn/scikit-learn/issues/21755 */display: inline-block !important;position: relative;}#sk-container-id-1 div.sk-text-repr-fallback {display: none;}</style><div id=\"sk-container-id-1\" class=\"sk-top-container\"><div class=\"sk-text-repr-fallback\"><pre>Pipeline(steps=[(&#x27;scale&#x27;, None), (&#x27;model&#x27;, RandomForestClassifier(n_jobs=-1))])</pre><b>In a Jupyter environment, please rerun this cell to show the HTML representation or trust the notebook. <br />On GitHub, the HTML representation is unable to render, please try loading this page with nbviewer.org.</b></div><div class=\"sk-container\" hidden><div class=\"sk-item sk-dashed-wrapped\"><div class=\"sk-label-container\"><div class=\"sk-label sk-toggleable\"><input class=\"sk-toggleable__control sk-hidden--visually\" id=\"sk-estimator-id-1\" type=\"checkbox\" ><label for=\"sk-estimator-id-1\" class=\"sk-toggleable__label sk-toggleable__label-arrow\">Pipeline</label><div class=\"sk-toggleable__content\"><pre>Pipeline(steps=[(&#x27;scale&#x27;, None), (&#x27;model&#x27;, RandomForestClassifier(n_jobs=-1))])</pre></div></div></div><div class=\"sk-serial\"><div class=\"sk-item\"><div class=\"sk-estimator sk-toggleable\"><input class=\"sk-toggleable__control sk-hidden--visually\" id=\"sk-estimator-id-2\" type=\"checkbox\" ><label for=\"sk-estimator-id-2\" class=\"sk-toggleable__label sk-toggleable__label-arrow\">None</label><div class=\"sk-toggleable__content\"><pre>None</pre></div></div></div><div class=\"sk-item\"><div class=\"sk-estimator sk-toggleable\"><input class=\"sk-toggleable__control sk-hidden--visually\" id=\"sk-estimator-id-3\" type=\"checkbox\" ><label for=\"sk-estimator-id-3\" class=\"sk-toggleable__label sk-toggleable__label-arrow\">RandomForestClassifier</label><div class=\"sk-toggleable__content\"><pre>RandomForestClassifier(n_jobs=-1)</pre></div></div></div></div></div></div></div>"
      ],
      "text/plain": [
       "Pipeline(steps=[('scale', None), ('model', RandomForestClassifier(n_jobs=-1))])"
      ]
     },
     "execution_count": 43,
     "metadata": {},
     "output_type": "execute_result"
    }
   ],
   "source": [
    "model.fit(X_train, y_train.values.ravel())"
   ]
  },
  {
   "cell_type": "code",
   "execution_count": 44,
   "id": "af59f8c0",
   "metadata": {
    "execution": {
     "iopub.execute_input": "2025-07-30T12:54:50.571876Z",
     "iopub.status.busy": "2025-07-30T12:54:50.571244Z",
     "iopub.status.idle": "2025-07-30T12:54:50.576405Z",
     "shell.execute_reply": "2025-07-30T12:54:50.575516Z"
    },
    "papermill": {
     "duration": 0.029327,
     "end_time": "2025-07-30T12:54:50.577817",
     "exception": false,
     "start_time": "2025-07-30T12:54:50.548490",
     "status": "completed"
    },
    "tags": []
   },
   "outputs": [],
   "source": [
    "from fairness_multiverse.universe import predict_w_threshold"
   ]
  },
  {
   "cell_type": "code",
   "execution_count": 45,
   "id": "a7cf2e16",
   "metadata": {
    "execution": {
     "iopub.execute_input": "2025-07-30T12:54:50.625240Z",
     "iopub.status.busy": "2025-07-30T12:54:50.624573Z",
     "iopub.status.idle": "2025-07-30T12:54:51.655217Z",
     "shell.execute_reply": "2025-07-30T12:54:51.654398Z"
    },
    "papermill": {
     "duration": 1.055078,
     "end_time": "2025-07-30T12:54:51.656613",
     "exception": false,
     "start_time": "2025-07-30T12:54:50.601535",
     "status": "completed"
    },
    "tags": []
   },
   "outputs": [
    {
     "data": {
      "text/plain": [
       "0.866904469958756"
      ]
     },
     "execution_count": 45,
     "metadata": {},
     "output_type": "execute_result"
    }
   ],
   "source": [
    "probs_test = model.predict_proba(X_test)\n",
    "\n",
    "'''\n",
    "Below code returns a boolean array (or binary 0/1 array depending on how it’s used) where each element \n",
    "is True if the probability of class 1 is greater than or equal to the threshold, and False otherwise.\n",
    "'''\n",
    "y_pred_default = predict_w_threshold(probs_test, 0.5)\n",
    "\n",
    "from sklearn.metrics import accuracy_score\n",
    "\n",
    "# Naive prediction\n",
    "accuracy_score(y_true = y_true, y_pred = y_pred_default)"
   ]
  },
  {
   "cell_type": "code",
   "execution_count": 46,
   "id": "081964c3",
   "metadata": {
    "execution": {
     "iopub.execute_input": "2025-07-30T12:54:51.705151Z",
     "iopub.status.busy": "2025-07-30T12:54:51.704730Z",
     "iopub.status.idle": "2025-07-30T12:54:52.689926Z",
     "shell.execute_reply": "2025-07-30T12:54:52.688881Z"
    },
    "papermill": {
     "duration": 1.009779,
     "end_time": "2025-07-30T12:54:52.691594",
     "exception": false,
     "start_time": "2025-07-30T12:54:51.681815",
     "status": "completed"
    },
    "tags": []
   },
   "outputs": [
    {
     "data": {
      "text/plain": [
       "array([0, 0, 0, ..., 0, 0, 0])"
      ]
     },
     "execution_count": 46,
     "metadata": {},
     "output_type": "execute_result"
    }
   ],
   "source": [
    "model.predict(X_test)"
   ]
  },
  {
   "cell_type": "markdown",
   "id": "56c9705b",
   "metadata": {
    "papermill": {
     "duration": 0.012724,
     "end_time": "2025-07-30T12:54:52.732366",
     "exception": false,
     "start_time": "2025-07-30T12:54:52.719642",
     "status": "completed"
    },
    "tags": []
   },
   "source": [
    "# Conformal Prediction"
   ]
  },
  {
   "cell_type": "code",
   "execution_count": 47,
   "id": "160ec6ff",
   "metadata": {
    "execution": {
     "iopub.execute_input": "2025-07-30T12:54:52.759016Z",
     "iopub.status.busy": "2025-07-30T12:54:52.758665Z",
     "iopub.status.idle": "2025-07-30T12:54:52.762904Z",
     "shell.execute_reply": "2025-07-30T12:54:52.762130Z"
    },
    "papermill": {
     "duration": 0.019056,
     "end_time": "2025-07-30T12:54:52.764259",
     "exception": false,
     "start_time": "2025-07-30T12:54:52.745203",
     "status": "completed"
    },
    "tags": []
   },
   "outputs": [],
   "source": [
    "# Miscoverage level for conformal prediction (10% allowed error rate => 90% target coverage)\n",
    "alpha = 0.1"
   ]
  },
  {
   "cell_type": "code",
   "execution_count": 48,
   "id": "eadf4555-3dd3-440e-8e35-f82a4ad9f855",
   "metadata": {
    "execution": {
     "iopub.execute_input": "2025-07-30T12:54:52.792230Z",
     "iopub.status.busy": "2025-07-30T12:54:52.791853Z",
     "iopub.status.idle": "2025-07-30T12:54:53.776726Z",
     "shell.execute_reply": "2025-07-30T12:54:53.775553Z"
    },
    "papermill": {
     "duration": 1.00043,
     "end_time": "2025-07-30T12:54:53.778870",
     "exception": false,
     "start_time": "2025-07-30T12:54:52.778440",
     "status": "completed"
    },
    "tags": []
   },
   "outputs": [],
   "source": [
    "probs_calib = model.predict_proba(X_calib)"
   ]
  },
  {
   "cell_type": "code",
   "execution_count": 49,
   "id": "2ed93547-6d5d-4983-9b36-1ecb300da49a",
   "metadata": {
    "execution": {
     "iopub.execute_input": "2025-07-30T12:54:53.827883Z",
     "iopub.status.busy": "2025-07-30T12:54:53.827353Z",
     "iopub.status.idle": "2025-07-30T12:54:53.833352Z",
     "shell.execute_reply": "2025-07-30T12:54:53.832432Z"
    },
    "papermill": {
     "duration": 0.032588,
     "end_time": "2025-07-30T12:54:53.835030",
     "exception": false,
     "start_time": "2025-07-30T12:54:53.802442",
     "status": "completed"
    },
    "tags": []
   },
   "outputs": [],
   "source": [
    "y_calib = y_calib.values.ravel().astype(int)"
   ]
  },
  {
   "cell_type": "code",
   "execution_count": 50,
   "id": "65d1320d-f588-4b38-9072-62af1ae97f7d",
   "metadata": {
    "execution": {
     "iopub.execute_input": "2025-07-30T12:54:53.864368Z",
     "iopub.status.busy": "2025-07-30T12:54:53.864000Z",
     "iopub.status.idle": "2025-07-30T12:54:53.871823Z",
     "shell.execute_reply": "2025-07-30T12:54:53.870868Z"
    },
    "papermill": {
     "duration": 0.027615,
     "end_time": "2025-07-30T12:54:53.878510",
     "exception": false,
     "start_time": "2025-07-30T12:54:53.850895",
     "status": "completed"
    },
    "tags": []
   },
   "outputs": [],
   "source": [
    "from fairness_multiverse.conformal import compute_nc_scores\n",
    "\n",
    "# Compute nonconformity scores on calibration set (1 - probability of true class)\n",
    "nc_scores = compute_nc_scores(probs_calib, y_calib)"
   ]
  },
  {
   "cell_type": "code",
   "execution_count": 51,
   "id": "df3b8ca3-53b7-43d5-9667-7c85da7aeda2",
   "metadata": {
    "execution": {
     "iopub.execute_input": "2025-07-30T12:54:53.931306Z",
     "iopub.status.busy": "2025-07-30T12:54:53.930912Z",
     "iopub.status.idle": "2025-07-30T12:54:53.937151Z",
     "shell.execute_reply": "2025-07-30T12:54:53.936274Z"
    },
    "papermill": {
     "duration": 0.034856,
     "end_time": "2025-07-30T12:54:53.938855",
     "exception": false,
     "start_time": "2025-07-30T12:54:53.903999",
     "status": "completed"
    },
    "tags": []
   },
   "outputs": [],
   "source": [
    "from fairness_multiverse.conformal import find_threshold\n",
    "\n",
    "# Find conformal threshold q_hat for the given alpha (split conformal method)\n",
    "q_hat = find_threshold(nc_scores, alpha)"
   ]
  },
  {
   "cell_type": "code",
   "execution_count": 52,
   "id": "4d29e6c1-0ef6-4aa4-b8fe-4fe79b0d033a",
   "metadata": {
    "execution": {
     "iopub.execute_input": "2025-07-30T12:54:53.992000Z",
     "iopub.status.busy": "2025-07-30T12:54:53.991154Z",
     "iopub.status.idle": "2025-07-30T12:54:53.997859Z",
     "shell.execute_reply": "2025-07-30T12:54:53.996846Z"
    },
    "papermill": {
     "duration": 0.034317,
     "end_time": "2025-07-30T12:54:53.999560",
     "exception": false,
     "start_time": "2025-07-30T12:54:53.965243",
     "status": "completed"
    },
    "tags": []
   },
   "outputs": [
    {
     "data": {
      "text/plain": [
       "0.6682142857142856"
      ]
     },
     "execution_count": 52,
     "metadata": {},
     "output_type": "execute_result"
    }
   ],
   "source": [
    "q_hat"
   ]
  },
  {
   "cell_type": "code",
   "execution_count": 53,
   "id": "92460794-cdac-4be2-ba28-f28c0515a6fb",
   "metadata": {
    "execution": {
     "iopub.execute_input": "2025-07-30T12:54:54.052587Z",
     "iopub.status.busy": "2025-07-30T12:54:54.052093Z",
     "iopub.status.idle": "2025-07-30T12:54:55.618755Z",
     "shell.execute_reply": "2025-07-30T12:54:55.617844Z"
    },
    "papermill": {
     "duration": 1.594739,
     "end_time": "2025-07-30T12:54:55.620487",
     "exception": false,
     "start_time": "2025-07-30T12:54:54.025748",
     "status": "completed"
    },
    "tags": []
   },
   "outputs": [],
   "source": [
    "from fairness_multiverse.conformal import predict_conformal_sets\n",
    "\n",
    "# Generate prediction sets for each test example\n",
    "pred_sets = predict_conformal_sets(model, X_test, q_hat)"
   ]
  },
  {
   "cell_type": "code",
   "execution_count": 54,
   "id": "d90c9a65-e6db-4f5d-80cd-e68fb7e46829",
   "metadata": {
    "execution": {
     "iopub.execute_input": "2025-07-30T12:54:55.657432Z",
     "iopub.status.busy": "2025-07-30T12:54:55.656926Z",
     "iopub.status.idle": "2025-07-30T12:54:55.662610Z",
     "shell.execute_reply": "2025-07-30T12:54:55.661677Z"
    },
    "papermill": {
     "duration": 0.029494,
     "end_time": "2025-07-30T12:54:55.664287",
     "exception": false,
     "start_time": "2025-07-30T12:54:55.634793",
     "status": "completed"
    },
    "tags": []
   },
   "outputs": [],
   "source": [
    "y_true = y_true.squeeze()"
   ]
  },
  {
   "cell_type": "code",
   "execution_count": 55,
   "id": "3a58a54a-1e68-46b9-927a-df01f18aebc8",
   "metadata": {
    "execution": {
     "iopub.execute_input": "2025-07-30T12:54:55.728228Z",
     "iopub.status.busy": "2025-07-30T12:54:55.727655Z",
     "iopub.status.idle": "2025-07-30T12:54:56.498330Z",
     "shell.execute_reply": "2025-07-30T12:54:56.497558Z"
    },
    "papermill": {
     "duration": 0.801247,
     "end_time": "2025-07-30T12:54:56.500352",
     "exception": false,
     "start_time": "2025-07-30T12:54:55.699105",
     "status": "completed"
    },
    "tags": []
   },
   "outputs": [],
   "source": [
    "from fairness_multiverse.conformal import evaluate_sets\n",
    "\n",
    "# Evaluate coverage and average set size on test data\n",
    "metrics = evaluate_sets(pred_sets, y_true)"
   ]
  },
  {
   "cell_type": "markdown",
   "id": "2b569c12-9aaa-4c88-98c9-bbcd0cf3ebb8",
   "metadata": {
    "papermill": {
     "duration": 0.023692,
     "end_time": "2025-07-30T12:54:56.550128",
     "exception": false,
     "start_time": "2025-07-30T12:54:56.526436",
     "status": "completed"
    },
    "tags": []
   },
   "source": [
    "# CP Metrics"
   ]
  },
  {
   "cell_type": "code",
   "execution_count": 56,
   "id": "5ce0a5cb-201f-45a0-ade5-94c7f0bd6095",
   "metadata": {
    "execution": {
     "iopub.execute_input": "2025-07-30T12:54:56.608951Z",
     "iopub.status.busy": "2025-07-30T12:54:56.608435Z",
     "iopub.status.idle": "2025-07-30T12:54:56.615994Z",
     "shell.execute_reply": "2025-07-30T12:54:56.614933Z"
    },
    "papermill": {
     "duration": 0.040731,
     "end_time": "2025-07-30T12:54:56.617783",
     "exception": false,
     "start_time": "2025-07-30T12:54:56.577052",
     "status": "completed"
    },
    "tags": []
   },
   "outputs": [
    {
     "data": {
      "text/plain": [
       "{'coverage': 0.9134433173559247, 'avg_size': 1.1393378664585887}"
      ]
     },
     "execution_count": 56,
     "metadata": {},
     "output_type": "execute_result"
    }
   ],
   "source": [
    "metrics"
   ]
  },
  {
   "cell_type": "code",
   "execution_count": 57,
   "id": "9b9a838d-31c9-430b-ae14-12baee460d17",
   "metadata": {
    "execution": {
     "iopub.execute_input": "2025-07-30T12:54:56.671081Z",
     "iopub.status.busy": "2025-07-30T12:54:56.670439Z",
     "iopub.status.idle": "2025-07-30T12:54:56.677088Z",
     "shell.execute_reply": "2025-07-30T12:54:56.676103Z"
    },
    "papermill": {
     "duration": 0.034773,
     "end_time": "2025-07-30T12:54:56.678839",
     "exception": false,
     "start_time": "2025-07-30T12:54:56.644066",
     "status": "completed"
    },
    "tags": []
   },
   "outputs": [],
   "source": [
    "example_universe = universe.copy()\n",
    "universe_training_size = example_universe.get(\"training_size\")\n",
    "universe_scale = example_universe.get(\"scale\")\n",
    "universe_model = example_universe.get(\"model\")\n",
    "universe_exclude_features = example_universe.get(\"exclude_features\")\n",
    "universe_exclude_subgroups = example_universe.get(\"exclude_subgroups\")"
   ]
  },
  {
   "cell_type": "code",
   "execution_count": 58,
   "id": "f4b6a8ac-9dc0-4245-8a91-5b3b5999c4f9",
   "metadata": {
    "execution": {
     "iopub.execute_input": "2025-07-30T12:54:56.732672Z",
     "iopub.status.busy": "2025-07-30T12:54:56.731766Z",
     "iopub.status.idle": "2025-07-30T12:54:56.739984Z",
     "shell.execute_reply": "2025-07-30T12:54:56.738914Z"
    },
    "papermill": {
     "duration": 0.03742,
     "end_time": "2025-07-30T12:54:56.741737",
     "exception": false,
     "start_time": "2025-07-30T12:54:56.704317",
     "status": "completed"
    },
    "tags": []
   },
   "outputs": [],
   "source": [
    "cp_metrics_dict = {\n",
    "    \"universe_id\": [universe_id],\n",
    "    \"universe_training_size\": [universe_training_size],\n",
    "    \"universe_scale\": [universe_scale],\n",
    "    \"universe_model\": [universe_model],\n",
    "    \"universe_exclude_features\": [universe_exclude_features],\n",
    "    \"universe_exclude_subgroups\": [universe_exclude_subgroups],\n",
    "    \"q_hat\": [q_hat],\n",
    "    \"coverage\": [metrics[\"coverage\"]],\n",
    "    \"avg_size\": [metrics[\"avg_size\"]],\n",
    "}"
   ]
  },
  {
   "cell_type": "code",
   "execution_count": 59,
   "id": "908acbb1-0371-4915-85ca-3fa520d2efe2",
   "metadata": {
    "execution": {
     "iopub.execute_input": "2025-07-30T12:54:56.791823Z",
     "iopub.status.busy": "2025-07-30T12:54:56.790903Z",
     "iopub.status.idle": "2025-07-30T12:54:56.799082Z",
     "shell.execute_reply": "2025-07-30T12:54:56.797908Z"
    },
    "papermill": {
     "duration": 0.034544,
     "end_time": "2025-07-30T12:54:56.800742",
     "exception": false,
     "start_time": "2025-07-30T12:54:56.766198",
     "status": "completed"
    },
    "tags": []
   },
   "outputs": [
    {
     "data": {
      "text/plain": [
       "{'universe_id': ['268596a55671154a7fea0bd6342db94e'],\n",
       " 'universe_training_size': ['25k'],\n",
       " 'universe_scale': ['do-not-scale'],\n",
       " 'universe_model': ['rf'],\n",
       " 'universe_exclude_features': ['none'],\n",
       " 'universe_exclude_subgroups': ['keep-all'],\n",
       " 'q_hat': [0.6682142857142856],\n",
       " 'coverage': [0.9134433173559247],\n",
       " 'avg_size': [1.1393378664585887]}"
      ]
     },
     "execution_count": 59,
     "metadata": {},
     "output_type": "execute_result"
    }
   ],
   "source": [
    "cp_metrics_dict"
   ]
  },
  {
   "cell_type": "code",
   "execution_count": 60,
   "id": "33007efc-14e9-4ec6-97ac-56a455c82265",
   "metadata": {
    "execution": {
     "iopub.execute_input": "2025-07-30T12:54:56.851204Z",
     "iopub.status.busy": "2025-07-30T12:54:56.850804Z",
     "iopub.status.idle": "2025-07-30T12:54:56.857187Z",
     "shell.execute_reply": "2025-07-30T12:54:56.856177Z"
    },
    "papermill": {
     "duration": 0.033903,
     "end_time": "2025-07-30T12:54:56.860105",
     "exception": false,
     "start_time": "2025-07-30T12:54:56.826202",
     "status": "completed"
    },
    "tags": []
   },
   "outputs": [],
   "source": [
    "cp_metrics_df = pd.DataFrame(cp_metrics_dict)"
   ]
  },
  {
   "cell_type": "code",
   "execution_count": 61,
   "id": "db12611b-57b2-4910-b9d0-355adfd6e7bf",
   "metadata": {
    "execution": {
     "iopub.execute_input": "2025-07-30T12:54:56.910051Z",
     "iopub.status.busy": "2025-07-30T12:54:56.909647Z",
     "iopub.status.idle": "2025-07-30T12:54:56.937191Z",
     "shell.execute_reply": "2025-07-30T12:54:56.933736Z"
    },
    "papermill": {
     "duration": 0.054334,
     "end_time": "2025-07-30T12:54:56.939357",
     "exception": false,
     "start_time": "2025-07-30T12:54:56.885023",
     "status": "completed"
    },
    "tags": []
   },
   "outputs": [
    {
     "data": {
      "text/html": [
       "<div>\n",
       "<style scoped>\n",
       "    .dataframe tbody tr th:only-of-type {\n",
       "        vertical-align: middle;\n",
       "    }\n",
       "\n",
       "    .dataframe tbody tr th {\n",
       "        vertical-align: top;\n",
       "    }\n",
       "\n",
       "    .dataframe thead th {\n",
       "        text-align: right;\n",
       "    }\n",
       "</style>\n",
       "<table border=\"1\" class=\"dataframe\">\n",
       "  <thead>\n",
       "    <tr style=\"text-align: right;\">\n",
       "      <th></th>\n",
       "      <th>universe_id</th>\n",
       "      <th>universe_training_size</th>\n",
       "      <th>universe_scale</th>\n",
       "      <th>universe_model</th>\n",
       "      <th>universe_exclude_features</th>\n",
       "      <th>universe_exclude_subgroups</th>\n",
       "      <th>q_hat</th>\n",
       "      <th>coverage</th>\n",
       "      <th>avg_size</th>\n",
       "    </tr>\n",
       "  </thead>\n",
       "  <tbody>\n",
       "    <tr>\n",
       "      <th>0</th>\n",
       "      <td>268596a55671154a7fea0bd6342db94e</td>\n",
       "      <td>25k</td>\n",
       "      <td>do-not-scale</td>\n",
       "      <td>rf</td>\n",
       "      <td>none</td>\n",
       "      <td>keep-all</td>\n",
       "      <td>0.668214</td>\n",
       "      <td>0.913443</td>\n",
       "      <td>1.139338</td>\n",
       "    </tr>\n",
       "  </tbody>\n",
       "</table>\n",
       "</div>"
      ],
      "text/plain": [
       "                        universe_id universe_training_size universe_scale  \\\n",
       "0  268596a55671154a7fea0bd6342db94e                    25k   do-not-scale   \n",
       "\n",
       "  universe_model universe_exclude_features universe_exclude_subgroups  \\\n",
       "0             rf                      none                   keep-all   \n",
       "\n",
       "      q_hat  coverage  avg_size  \n",
       "0  0.668214  0.913443  1.139338  "
      ]
     },
     "execution_count": 61,
     "metadata": {},
     "output_type": "execute_result"
    }
   ],
   "source": [
    "cp_metrics_df"
   ]
  },
  {
   "cell_type": "code",
   "execution_count": 62,
   "id": "b7fbde55-a0a1-47e4-9af6-fe4a17fa8c61",
   "metadata": {
    "execution": {
     "iopub.execute_input": "2025-07-30T12:54:57.011354Z",
     "iopub.status.busy": "2025-07-30T12:54:57.010980Z",
     "iopub.status.idle": "2025-07-30T12:54:57.016220Z",
     "shell.execute_reply": "2025-07-30T12:54:57.015316Z"
    },
    "papermill": {
     "duration": 0.034159,
     "end_time": "2025-07-30T12:54:57.019647",
     "exception": false,
     "start_time": "2025-07-30T12:54:56.985488",
     "status": "completed"
    },
    "tags": []
   },
   "outputs": [],
   "source": [
    "# Conditional Coverage & looking at subgroups"
   ]
  },
  {
   "cell_type": "code",
   "execution_count": 63,
   "id": "027ae886-68dd-4141-96c7-805a5450e1ef",
   "metadata": {
    "execution": {
     "iopub.execute_input": "2025-07-30T12:54:57.071548Z",
     "iopub.status.busy": "2025-07-30T12:54:57.071158Z",
     "iopub.status.idle": "2025-07-30T12:54:57.353244Z",
     "shell.execute_reply": "2025-07-30T12:54:57.352107Z"
    },
    "papermill": {
     "duration": 0.308698,
     "end_time": "2025-07-30T12:54:57.355572",
     "exception": false,
     "start_time": "2025-07-30T12:54:57.046874",
     "status": "completed"
    },
    "tags": []
   },
   "outputs": [],
   "source": [
    "from fairness_multiverse.conformal import build_cp_groups\n",
    "\n",
    "cp_groups_df = build_cp_groups(pred_sets, y_true, X_test.index, org_test)\n",
    "#needs universe_id and setting"
   ]
  },
  {
   "cell_type": "code",
   "execution_count": 64,
   "id": "01d5802c-663a-4d1f-9d69-e036faaffbf7",
   "metadata": {
    "execution": {
     "iopub.execute_input": "2025-07-30T12:54:57.410201Z",
     "iopub.status.busy": "2025-07-30T12:54:57.409771Z",
     "iopub.status.idle": "2025-07-30T12:54:57.414753Z",
     "shell.execute_reply": "2025-07-30T12:54:57.413882Z"
    },
    "papermill": {
     "duration": 0.034046,
     "end_time": "2025-07-30T12:54:57.417853",
     "exception": false,
     "start_time": "2025-07-30T12:54:57.383807",
     "status": "completed"
    },
    "tags": []
   },
   "outputs": [],
   "source": [
    "#delete\n",
    "#cp_groups_df"
   ]
  },
  {
   "cell_type": "code",
   "execution_count": 65,
   "id": "fa424af1-d1eb-443d-b717-2d279ada8408",
   "metadata": {
    "execution": {
     "iopub.execute_input": "2025-07-30T12:54:57.469376Z",
     "iopub.status.busy": "2025-07-30T12:54:57.468989Z",
     "iopub.status.idle": "2025-07-30T12:54:57.474116Z",
     "shell.execute_reply": "2025-07-30T12:54:57.473152Z"
    },
    "papermill": {
     "duration": 0.0336,
     "end_time": "2025-07-30T12:54:57.476969",
     "exception": false,
     "start_time": "2025-07-30T12:54:57.443369",
     "status": "completed"
    },
    "tags": []
   },
   "outputs": [],
   "source": [
    "#delete\n",
    "#percentage = (cp_groups_df['nongerman_female'] == 1).mean() * 100\n",
    "#print(percentage)\n"
   ]
  },
  {
   "cell_type": "code",
   "execution_count": 66,
   "id": "6cbdab96-b2b2-45af-ad54-d0516db2e28d",
   "metadata": {
    "execution": {
     "iopub.execute_input": "2025-07-30T12:54:57.527318Z",
     "iopub.status.busy": "2025-07-30T12:54:57.526901Z",
     "iopub.status.idle": "2025-07-30T12:54:59.321302Z",
     "shell.execute_reply": "2025-07-30T12:54:59.320113Z"
    },
    "papermill": {
     "duration": 1.820855,
     "end_time": "2025-07-30T12:54:59.323415",
     "exception": false,
     "start_time": "2025-07-30T12:54:57.502560",
     "status": "completed"
    },
    "tags": []
   },
   "outputs": [],
   "source": [
    "# Define covered = 1 if true_label is in the predicted set\n",
    "cp_groups_df['covered'] = cp_groups_df.apply(\n",
    "    lambda r: int(r['true_label'] in r['pred_set']),\n",
    "    axis=1\n",
    ")"
   ]
  },
  {
   "cell_type": "code",
   "execution_count": 67,
   "id": "338ff529-1a6b-4b87-a931-8e4788d52aad",
   "metadata": {
    "execution": {
     "iopub.execute_input": "2025-07-30T12:54:59.403677Z",
     "iopub.status.busy": "2025-07-30T12:54:59.403202Z",
     "iopub.status.idle": "2025-07-30T12:54:59.409383Z",
     "shell.execute_reply": "2025-07-30T12:54:59.408381Z"
    },
    "papermill": {
     "duration": 0.047987,
     "end_time": "2025-07-30T12:54:59.412618",
     "exception": false,
     "start_time": "2025-07-30T12:54:59.364631",
     "status": "completed"
    },
    "tags": []
   },
   "outputs": [],
   "source": [
    "#cp_groups_df"
   ]
  },
  {
   "cell_type": "code",
   "execution_count": 68,
   "id": "90032e27-66df-4540-9169-4e89cfbaa758",
   "metadata": {
    "execution": {
     "iopub.execute_input": "2025-07-30T12:54:59.469039Z",
     "iopub.status.busy": "2025-07-30T12:54:59.468583Z",
     "iopub.status.idle": "2025-07-30T12:54:59.479892Z",
     "shell.execute_reply": "2025-07-30T12:54:59.478936Z"
    },
    "papermill": {
     "duration": 0.053114,
     "end_time": "2025-07-30T12:54:59.493336",
     "exception": false,
     "start_time": "2025-07-30T12:54:59.440222",
     "status": "completed"
    },
    "tags": []
   },
   "outputs": [],
   "source": [
    "subgroups = ['frau1','nongerman','nongerman_male','nongerman_female']\n",
    "\n",
    "# Conditional coverage for subgroup==1\n",
    "cond_coverage = {\n",
    "    g: cp_groups_df.loc[cp_groups_df[g]==1, 'covered'].mean()\n",
    "    for g in subgroups\n",
    "}"
   ]
  },
  {
   "cell_type": "code",
   "execution_count": 69,
   "id": "1e348fb1-b9c3-45bc-ba23-f016827a7e0d",
   "metadata": {
    "execution": {
     "iopub.execute_input": "2025-07-30T12:54:59.551274Z",
     "iopub.status.busy": "2025-07-30T12:54:59.550756Z",
     "iopub.status.idle": "2025-07-30T12:54:59.558360Z",
     "shell.execute_reply": "2025-07-30T12:54:59.557331Z"
    },
    "papermill": {
     "duration": 0.037646,
     "end_time": "2025-07-30T12:54:59.559930",
     "exception": false,
     "start_time": "2025-07-30T12:54:59.522284",
     "status": "completed"
    },
    "tags": []
   },
   "outputs": [
    {
     "data": {
      "text/plain": [
       "{'frau1': 0.9132767219301793,\n",
       " 'nongerman': 0.9140515353954977,\n",
       " 'nongerman_male': 0.9274970728631902,\n",
       " 'nongerman_female': 0.8918032786885246}"
      ]
     },
     "execution_count": 69,
     "metadata": {},
     "output_type": "execute_result"
    }
   ],
   "source": [
    "cond_coverage"
   ]
  },
  {
   "cell_type": "code",
   "execution_count": 70,
   "id": "f5093324-c3dd-4d63-bc4c-8d945e5c8bbb",
   "metadata": {
    "execution": {
     "iopub.execute_input": "2025-07-30T12:54:59.617773Z",
     "iopub.status.busy": "2025-07-30T12:54:59.617257Z",
     "iopub.status.idle": "2025-07-30T12:54:59.624812Z",
     "shell.execute_reply": "2025-07-30T12:54:59.623793Z"
    },
    "papermill": {
     "duration": 0.038507,
     "end_time": "2025-07-30T12:54:59.626489",
     "exception": false,
     "start_time": "2025-07-30T12:54:59.587982",
     "status": "completed"
    },
    "tags": []
   },
   "outputs": [],
   "source": [
    "for subgroup, cov in cond_coverage.items():\n",
    "    cp_metrics_df[f\"cov_{subgroup}\"] = cov"
   ]
  },
  {
   "cell_type": "code",
   "execution_count": 71,
   "id": "6e872e10-dbe5-49e8-b554-5030c98ff75d",
   "metadata": {
    "execution": {
     "iopub.execute_input": "2025-07-30T12:54:59.680227Z",
     "iopub.status.busy": "2025-07-30T12:54:59.679522Z",
     "iopub.status.idle": "2025-07-30T12:54:59.703741Z",
     "shell.execute_reply": "2025-07-30T12:54:59.703012Z"
    },
    "papermill": {
     "duration": 0.058467,
     "end_time": "2025-07-30T12:54:59.710992",
     "exception": false,
     "start_time": "2025-07-30T12:54:59.652525",
     "status": "completed"
    },
    "tags": []
   },
   "outputs": [
    {
     "data": {
      "text/html": [
       "<div>\n",
       "<style scoped>\n",
       "    .dataframe tbody tr th:only-of-type {\n",
       "        vertical-align: middle;\n",
       "    }\n",
       "\n",
       "    .dataframe tbody tr th {\n",
       "        vertical-align: top;\n",
       "    }\n",
       "\n",
       "    .dataframe thead th {\n",
       "        text-align: right;\n",
       "    }\n",
       "</style>\n",
       "<table border=\"1\" class=\"dataframe\">\n",
       "  <thead>\n",
       "    <tr style=\"text-align: right;\">\n",
       "      <th></th>\n",
       "      <th>universe_id</th>\n",
       "      <th>universe_training_size</th>\n",
       "      <th>universe_scale</th>\n",
       "      <th>universe_model</th>\n",
       "      <th>universe_exclude_features</th>\n",
       "      <th>universe_exclude_subgroups</th>\n",
       "      <th>q_hat</th>\n",
       "      <th>coverage</th>\n",
       "      <th>avg_size</th>\n",
       "      <th>cov_frau1</th>\n",
       "      <th>cov_nongerman</th>\n",
       "      <th>cov_nongerman_male</th>\n",
       "      <th>cov_nongerman_female</th>\n",
       "    </tr>\n",
       "  </thead>\n",
       "  <tbody>\n",
       "    <tr>\n",
       "      <th>0</th>\n",
       "      <td>268596a55671154a7fea0bd6342db94e</td>\n",
       "      <td>25k</td>\n",
       "      <td>do-not-scale</td>\n",
       "      <td>rf</td>\n",
       "      <td>none</td>\n",
       "      <td>keep-all</td>\n",
       "      <td>0.668214</td>\n",
       "      <td>0.913443</td>\n",
       "      <td>1.139338</td>\n",
       "      <td>0.913277</td>\n",
       "      <td>0.914052</td>\n",
       "      <td>0.927497</td>\n",
       "      <td>0.891803</td>\n",
       "    </tr>\n",
       "  </tbody>\n",
       "</table>\n",
       "</div>"
      ],
      "text/plain": [
       "                        universe_id universe_training_size universe_scale  \\\n",
       "0  268596a55671154a7fea0bd6342db94e                    25k   do-not-scale   \n",
       "\n",
       "  universe_model universe_exclude_features universe_exclude_subgroups  \\\n",
       "0             rf                      none                   keep-all   \n",
       "\n",
       "      q_hat  coverage  avg_size  cov_frau1  cov_nongerman  cov_nongerman_male  \\\n",
       "0  0.668214  0.913443  1.139338   0.913277       0.914052            0.927497   \n",
       "\n",
       "   cov_nongerman_female  \n",
       "0              0.891803  "
      ]
     },
     "execution_count": 71,
     "metadata": {},
     "output_type": "execute_result"
    }
   ],
   "source": [
    "cp_metrics_df"
   ]
  },
  {
   "cell_type": "markdown",
   "id": "33774451",
   "metadata": {
    "papermill": {
     "duration": 0.028051,
     "end_time": "2025-07-30T12:54:59.776709",
     "exception": false,
     "start_time": "2025-07-30T12:54:59.748658",
     "status": "completed"
    },
    "tags": []
   },
   "source": [
    "# (Fairness) Metrics"
   ]
  },
  {
   "cell_type": "code",
   "execution_count": 72,
   "id": "debc5d62",
   "metadata": {
    "execution": {
     "iopub.execute_input": "2025-07-30T12:54:59.925236Z",
     "iopub.status.busy": "2025-07-30T12:54:59.924197Z",
     "iopub.status.idle": "2025-07-30T12:54:59.958982Z",
     "shell.execute_reply": "2025-07-30T12:54:59.957902Z"
    },
    "papermill": {
     "duration": 0.108931,
     "end_time": "2025-07-30T12:54:59.961000",
     "exception": false,
     "start_time": "2025-07-30T12:54:59.852069",
     "status": "completed"
    },
    "tags": []
   },
   "outputs": [],
   "source": [
    "# do I need to include maxdeutsch1.missing?\n",
    "\n",
    "import numpy as np\n",
    "\n",
    "colname_to_bin = \"maxdeutsch1\"\n",
    "majority_value = org_train[colname_to_bin].mode()[0]\n",
    "\n",
    "org_test[\"majmin\"] = np.where(org_test[colname_to_bin] == majority_value, \"majority\", \"minority\")"
   ]
  },
  {
   "cell_type": "code",
   "execution_count": 73,
   "id": "06a50de5",
   "metadata": {
    "execution": {
     "iopub.execute_input": "2025-07-30T12:55:00.049159Z",
     "iopub.status.busy": "2025-07-30T12:55:00.048757Z",
     "iopub.status.idle": "2025-07-30T12:55:03.086447Z",
     "shell.execute_reply": "2025-07-30T12:55:03.085405Z"
    },
    "papermill": {
     "duration": 3.100142,
     "end_time": "2025-07-30T12:55:03.088284",
     "exception": false,
     "start_time": "2025-07-30T12:54:59.988142",
     "status": "completed"
    },
    "tags": []
   },
   "outputs": [],
   "source": [
    "example_universe = universe.copy()\n",
    "example_universe[\"cutoff\"] = example_universe[\"cutoff\"][0]\n",
    "example_universe[\"eval_fairness_grouping\"] = example_universe[\"eval_fairness_grouping\"][0]\n",
    "fairness_dict, metric_frame = universe_analysis.compute_metrics(\n",
    "    example_universe,\n",
    "    y_pred_prob=probs_test,\n",
    "    y_test=y_true,\n",
    "    org_test=org_test,\n",
    ")"
   ]
  },
  {
   "cell_type": "markdown",
   "id": "f95d4e02",
   "metadata": {
    "papermill": {
     "duration": 0.055399,
     "end_time": "2025-07-30T12:55:03.183071",
     "exception": false,
     "start_time": "2025-07-30T12:55:03.127672",
     "status": "completed"
    },
    "tags": []
   },
   "source": [
    "# Overall"
   ]
  },
  {
   "cell_type": "markdown",
   "id": "bdee4871",
   "metadata": {
    "papermill": {
     "duration": 0.02799,
     "end_time": "2025-07-30T12:55:03.261167",
     "exception": false,
     "start_time": "2025-07-30T12:55:03.233177",
     "status": "completed"
    },
    "tags": []
   },
   "source": [
    "Fairness\n",
    "Main fairness target: Equalized Odds. Seems to be a better fit than equal opportunity, since we're not only interested in Y = 1. Seems to be a better fit than demographic parity, since we also care about accuracy, not just equal distribution of preds.\n",
    "\n",
    "Pick column for computation of fairness metrics\n",
    "\n",
    "Performance\n",
    "Overall performance measures, most interesting in relation to the measures split by group below"
   ]
  },
  {
   "cell_type": "code",
   "execution_count": 74,
   "id": "c4e067c6",
   "metadata": {
    "execution": {
     "iopub.execute_input": "2025-07-30T12:55:03.319335Z",
     "iopub.status.busy": "2025-07-30T12:55:03.318904Z",
     "iopub.status.idle": "2025-07-30T12:55:03.327797Z",
     "shell.execute_reply": "2025-07-30T12:55:03.326791Z"
    },
    "papermill": {
     "duration": 0.039957,
     "end_time": "2025-07-30T12:55:03.329475",
     "exception": false,
     "start_time": "2025-07-30T12:55:03.289518",
     "status": "completed"
    },
    "tags": []
   },
   "outputs": [
    {
     "data": {
      "text/plain": [
       "accuracy                   0.204715\n",
       "balanced accuracy          0.534911\n",
       "f1                         0.240032\n",
       "precision                  0.136784\n",
       "false positive rate        0.909235\n",
       "false negative rate        0.020942\n",
       "selection rate             0.918192\n",
       "count                  89710.000000\n",
       "dtype: float64"
      ]
     },
     "execution_count": 74,
     "metadata": {},
     "output_type": "execute_result"
    }
   ],
   "source": [
    "metric_frame.overall"
   ]
  },
  {
   "cell_type": "markdown",
   "id": "e968fe9d",
   "metadata": {
    "papermill": {
     "duration": 0.031699,
     "end_time": "2025-07-30T12:55:03.417021",
     "exception": false,
     "start_time": "2025-07-30T12:55:03.385322",
     "status": "completed"
    },
    "tags": []
   },
   "source": [
    "By Group"
   ]
  },
  {
   "cell_type": "code",
   "execution_count": 75,
   "id": "ec325bce",
   "metadata": {
    "execution": {
     "iopub.execute_input": "2025-07-30T12:55:03.473895Z",
     "iopub.status.busy": "2025-07-30T12:55:03.473493Z",
     "iopub.status.idle": "2025-07-30T12:55:03.501052Z",
     "shell.execute_reply": "2025-07-30T12:55:03.492502Z"
    },
    "papermill": {
     "duration": 0.058328,
     "end_time": "2025-07-30T12:55:03.503280",
     "exception": false,
     "start_time": "2025-07-30T12:55:03.444952",
     "status": "completed"
    },
    "tags": []
   },
   "outputs": [
    {
     "data": {
      "text/html": [
       "<div>\n",
       "<style scoped>\n",
       "    .dataframe tbody tr th:only-of-type {\n",
       "        vertical-align: middle;\n",
       "    }\n",
       "\n",
       "    .dataframe tbody tr th {\n",
       "        vertical-align: top;\n",
       "    }\n",
       "\n",
       "    .dataframe thead th {\n",
       "        text-align: right;\n",
       "    }\n",
       "</style>\n",
       "<table border=\"1\" class=\"dataframe\">\n",
       "  <thead>\n",
       "    <tr style=\"text-align: right;\">\n",
       "      <th></th>\n",
       "      <th>accuracy</th>\n",
       "      <th>balanced accuracy</th>\n",
       "      <th>f1</th>\n",
       "      <th>precision</th>\n",
       "      <th>false positive rate</th>\n",
       "      <th>false negative rate</th>\n",
       "      <th>selection rate</th>\n",
       "      <th>count</th>\n",
       "    </tr>\n",
       "    <tr>\n",
       "      <th>majmin</th>\n",
       "      <th></th>\n",
       "      <th></th>\n",
       "      <th></th>\n",
       "      <th></th>\n",
       "      <th></th>\n",
       "      <th></th>\n",
       "      <th></th>\n",
       "      <th></th>\n",
       "    </tr>\n",
       "  </thead>\n",
       "  <tbody>\n",
       "    <tr>\n",
       "      <th>majority</th>\n",
       "      <td>0.199378</td>\n",
       "      <td>0.534287</td>\n",
       "      <td>0.246206</td>\n",
       "      <td>0.140594</td>\n",
       "      <td>0.920923</td>\n",
       "      <td>0.010503</td>\n",
       "      <td>0.929984</td>\n",
       "      <td>69170.0</td>\n",
       "    </tr>\n",
       "    <tr>\n",
       "      <th>minority</th>\n",
       "      <td>0.222687</td>\n",
       "      <td>0.534071</td>\n",
       "      <td>0.217813</td>\n",
       "      <td>0.123199</td>\n",
       "      <td>0.870625</td>\n",
       "      <td>0.061233</td>\n",
       "      <td>0.878481</td>\n",
       "      <td>20540.0</td>\n",
       "    </tr>\n",
       "  </tbody>\n",
       "</table>\n",
       "</div>"
      ],
      "text/plain": [
       "          accuracy  balanced accuracy        f1  precision  \\\n",
       "majmin                                                       \n",
       "majority  0.199378           0.534287  0.246206   0.140594   \n",
       "minority  0.222687           0.534071  0.217813   0.123199   \n",
       "\n",
       "          false positive rate  false negative rate  selection rate    count  \n",
       "majmin                                                                       \n",
       "majority             0.920923             0.010503        0.929984  69170.0  \n",
       "minority             0.870625             0.061233        0.878481  20540.0  "
      ]
     },
     "execution_count": 75,
     "metadata": {},
     "output_type": "execute_result"
    }
   ],
   "source": [
    "metric_frame.by_group"
   ]
  },
  {
   "cell_type": "code",
   "execution_count": 76,
   "id": "a9ddbe63",
   "metadata": {
    "execution": {
     "iopub.execute_input": "2025-07-30T12:55:03.591627Z",
     "iopub.status.busy": "2025-07-30T12:55:03.591226Z",
     "iopub.status.idle": "2025-07-30T12:55:05.675273Z",
     "shell.execute_reply": "2025-07-30T12:55:05.674552Z"
    },
    "papermill": {
     "duration": 2.128316,
     "end_time": "2025-07-30T12:55:05.676592",
     "exception": false,
     "start_time": "2025-07-30T12:55:03.548276",
     "status": "completed"
    },
    "tags": []
   },
   "outputs": [
    {
     "data": {
      "text/plain": [
       "array([[<Axes: title={'center': 'accuracy'}, xlabel='majmin'>,\n",
       "        <Axes: title={'center': 'balanced accuracy'}, xlabel='majmin'>,\n",
       "        <Axes: title={'center': 'f1'}, xlabel='majmin'>],\n",
       "       [<Axes: title={'center': 'precision'}, xlabel='majmin'>,\n",
       "        <Axes: title={'center': 'false positive rate'}, xlabel='majmin'>,\n",
       "        <Axes: title={'center': 'false negative rate'}, xlabel='majmin'>],\n",
       "       [<Axes: title={'center': 'selection rate'}, xlabel='majmin'>,\n",
       "        <Axes: title={'center': 'count'}, xlabel='majmin'>,\n",
       "        <Axes: xlabel='majmin'>]], dtype=object)"
      ]
     },
     "execution_count": 76,
     "metadata": {},
     "output_type": "execute_result"
    },
    {
     "data": {
      "image/png": "[encoded data removed]",
      "text/plain": [
       "<Figure size 1200x800 with 9 Axes>"
      ]
     },
     "metadata": {},
     "output_type": "display_data"
    }
   ],
   "source": [
    "# In a graphic\n",
    "metric_frame.by_group.plot.bar(\n",
    "    subplots=True,\n",
    "    layout=[3, 3],\n",
    "    legend=False,\n",
    "    figsize=[12, 8],\n",
    "    title=\"Show all metrics\",\n",
    ")"
   ]
  },
  {
   "cell_type": "markdown",
   "id": "f57a0bac",
   "metadata": {
    "papermill": {
     "duration": 0.030517,
     "end_time": "2025-07-30T12:55:05.730523",
     "exception": false,
     "start_time": "2025-07-30T12:55:05.700006",
     "status": "completed"
    },
    "tags": []
   },
   "source": [
    "# Final Output"
   ]
  },
  {
   "cell_type": "code",
   "execution_count": 77,
   "id": "96d280a3",
   "metadata": {
    "execution": {
     "iopub.execute_input": "2025-07-30T12:55:05.792744Z",
     "iopub.status.busy": "2025-07-30T12:55:05.792214Z",
     "iopub.status.idle": "2025-07-30T12:55:05.800019Z",
     "shell.execute_reply": "2025-07-30T12:55:05.799002Z"
    },
    "papermill": {
     "duration": 0.041068,
     "end_time": "2025-07-30T12:55:05.801845",
     "exception": false,
     "start_time": "2025-07-30T12:55:05.760777",
     "status": "completed"
    },
    "tags": []
   },
   "outputs": [
    {
     "data": {
      "text/plain": [
       "4"
      ]
     },
     "execution_count": 77,
     "metadata": {},
     "output_type": "execute_result"
    }
   ],
   "source": [
    "sub_universes = universe_analysis.generate_sub_universes()\n",
    "len(sub_universes)"
   ]
  },
  {
   "cell_type": "code",
   "execution_count": 78,
   "id": "92adf7ba",
   "metadata": {
    "execution": {
     "iopub.execute_input": "2025-07-30T12:55:05.849392Z",
     "iopub.status.busy": "2025-07-30T12:55:05.848984Z",
     "iopub.status.idle": "2025-07-30T12:55:05.855114Z",
     "shell.execute_reply": "2025-07-30T12:55:05.854345Z"
    },
    "papermill": {
     "duration": 0.024751,
     "end_time": "2025-07-30T12:55:05.856517",
     "exception": false,
     "start_time": "2025-07-30T12:55:05.831766",
     "status": "completed"
    },
    "tags": []
   },
   "outputs": [],
   "source": [
    "def filter_sub_universe_data(sub_universe, org_test):\n",
    "    # Keep all rows — no filtering\n",
    "    keep_rows_mask = np.ones(org_test.shape[0], dtype=bool)\n",
    "\n",
    "    print(f\"[INFO] Keeping all rows: {keep_rows_mask.sum()} rows retained.\")\n",
    "    return keep_rows_mask"
   ]
  },
  {
   "cell_type": "code",
   "execution_count": 79,
   "id": "4a759155",
   "metadata": {
    "execution": {
     "iopub.execute_input": "2025-07-30T12:55:05.917077Z",
     "iopub.status.busy": "2025-07-30T12:55:05.916117Z",
     "iopub.status.idle": "2025-07-30T12:55:16.956720Z",
     "shell.execute_reply": "2025-07-30T12:55:16.948244Z"
    },
    "papermill": {
     "duration": 11.075465,
     "end_time": "2025-07-30T12:55:16.958232",
     "exception": false,
     "start_time": "2025-07-30T12:55:05.882767",
     "status": "completed"
    },
    "tags": []
   },
   "outputs": [
    {
     "name": "stdout",
     "output_type": "stream",
     "text": [
      "Stopping execution_time clock.\n",
      "[INFO] Keeping all rows: 89710 rows retained.\n"
     ]
    },
    {
     "name": "stdout",
     "output_type": "stream",
     "text": [
      "[INFO] Keeping all rows: 89710 rows retained.\n"
     ]
    },
    {
     "name": "stdout",
     "output_type": "stream",
     "text": [
      "[INFO] Keeping all rows: 89710 rows retained.\n"
     ]
    },
    {
     "name": "stdout",
     "output_type": "stream",
     "text": [
      "[INFO] Keeping all rows: 89710 rows retained.\n"
     ]
    },
    {
     "data": {
      "text/html": [
       "<div>\n",
       "<style scoped>\n",
       "    .dataframe tbody tr th:only-of-type {\n",
       "        vertical-align: middle;\n",
       "    }\n",
       "\n",
       "    .dataframe tbody tr th {\n",
       "        vertical-align: top;\n",
       "    }\n",
       "\n",
       "    .dataframe thead th {\n",
       "        text-align: right;\n",
       "    }\n",
       "</style>\n",
       "<table border=\"1\" class=\"dataframe\">\n",
       "  <thead>\n",
       "    <tr style=\"text-align: right;\">\n",
       "      <th></th>\n",
       "      <th>run_no</th>\n",
       "      <th>universe_id</th>\n",
       "      <th>universe_settings</th>\n",
       "      <th>execution_time</th>\n",
       "      <th>test_size_n</th>\n",
       "      <th>test_size_frac</th>\n",
       "      <th>fair_main_equalized_odds_difference</th>\n",
       "      <th>fair_main_equalized_odds_ratio</th>\n",
       "      <th>fair_main_demographic_parity_difference</th>\n",
       "      <th>fair_main_demographic_parity_ratio</th>\n",
       "      <th>...</th>\n",
       "      <th>perf_grp_precision_0</th>\n",
       "      <th>perf_grp_precision_1</th>\n",
       "      <th>perf_grp_false positive rate_0</th>\n",
       "      <th>perf_grp_false positive rate_1</th>\n",
       "      <th>perf_grp_false negative rate_0</th>\n",
       "      <th>perf_grp_false negative rate_1</th>\n",
       "      <th>perf_grp_selection rate_0</th>\n",
       "      <th>perf_grp_selection rate_1</th>\n",
       "      <th>perf_grp_count_0</th>\n",
       "      <th>perf_grp_count_1</th>\n",
       "    </tr>\n",
       "  </thead>\n",
       "  <tbody>\n",
       "    <tr>\n",
       "      <th>0</th>\n",
       "      <td>12</td>\n",
       "      <td>268596a55671154a7fea0bd6342db94e</td>\n",
       "      <td>{\"cutoff\": \"quantile_0.1\", \"eval_fairness_grou...</td>\n",
       "      <td>34.14156</td>\n",
       "      <td>89710</td>\n",
       "      <td>1.0</td>\n",
       "      <td>0.050730</td>\n",
       "      <td>0.945383</td>\n",
       "      <td>0.051503</td>\n",
       "      <td>0.944619</td>\n",
       "      <td>...</td>\n",
       "      <td>NaN</td>\n",
       "      <td>NaN</td>\n",
       "      <td>NaN</td>\n",
       "      <td>NaN</td>\n",
       "      <td>NaN</td>\n",
       "      <td>NaN</td>\n",
       "      <td>NaN</td>\n",
       "      <td>NaN</td>\n",
       "      <td>NaN</td>\n",
       "      <td>NaN</td>\n",
       "    </tr>\n",
       "    <tr>\n",
       "      <th>0</th>\n",
       "      <td>12</td>\n",
       "      <td>268596a55671154a7fea0bd6342db94e</td>\n",
       "      <td>{\"cutoff\": \"quantile_0.1\", \"eval_fairness_grou...</td>\n",
       "      <td>34.14156</td>\n",
       "      <td>89710</td>\n",
       "      <td>1.0</td>\n",
       "      <td>0.050730</td>\n",
       "      <td>0.945383</td>\n",
       "      <td>0.051503</td>\n",
       "      <td>0.944619</td>\n",
       "      <td>...</td>\n",
       "      <td>0.123199</td>\n",
       "      <td>0.140594</td>\n",
       "      <td>0.870625</td>\n",
       "      <td>0.920923</td>\n",
       "      <td>0.061233</td>\n",
       "      <td>0.010503</td>\n",
       "      <td>0.878481</td>\n",
       "      <td>0.929984</td>\n",
       "      <td>20540.0</td>\n",
       "      <td>69170.0</td>\n",
       "    </tr>\n",
       "    <tr>\n",
       "      <th>0</th>\n",
       "      <td>12</td>\n",
       "      <td>268596a55671154a7fea0bd6342db94e</td>\n",
       "      <td>{\"cutoff\": \"quantile_0.25\", \"eval_fairness_gro...</td>\n",
       "      <td>34.14156</td>\n",
       "      <td>89710</td>\n",
       "      <td>1.0</td>\n",
       "      <td>0.091389</td>\n",
       "      <td>0.904176</td>\n",
       "      <td>0.058263</td>\n",
       "      <td>0.924012</td>\n",
       "      <td>...</td>\n",
       "      <td>NaN</td>\n",
       "      <td>NaN</td>\n",
       "      <td>NaN</td>\n",
       "      <td>NaN</td>\n",
       "      <td>NaN</td>\n",
       "      <td>NaN</td>\n",
       "      <td>NaN</td>\n",
       "      <td>NaN</td>\n",
       "      <td>NaN</td>\n",
       "      <td>NaN</td>\n",
       "    </tr>\n",
       "    <tr>\n",
       "      <th>0</th>\n",
       "      <td>12</td>\n",
       "      <td>268596a55671154a7fea0bd6342db94e</td>\n",
       "      <td>{\"cutoff\": \"quantile_0.25\", \"eval_fairness_gro...</td>\n",
       "      <td>34.14156</td>\n",
       "      <td>89710</td>\n",
       "      <td>1.0</td>\n",
       "      <td>0.091389</td>\n",
       "      <td>0.904176</td>\n",
       "      <td>0.058263</td>\n",
       "      <td>0.924012</td>\n",
       "      <td>...</td>\n",
       "      <td>0.140324</td>\n",
       "      <td>0.164363</td>\n",
       "      <td>0.688422</td>\n",
       "      <td>0.738264</td>\n",
       "      <td>0.137669</td>\n",
       "      <td>0.046280</td>\n",
       "      <td>0.708471</td>\n",
       "      <td>0.766734</td>\n",
       "      <td>20540.0</td>\n",
       "      <td>69170.0</td>\n",
       "    </tr>\n",
       "  </tbody>\n",
       "</table>\n",
       "<p>4 rows × 50 columns</p>\n",
       "</div>"
      ],
      "text/plain": [
       "  run_no                       universe_id  \\\n",
       "0     12  268596a55671154a7fea0bd6342db94e   \n",
       "0     12  268596a55671154a7fea0bd6342db94e   \n",
       "0     12  268596a55671154a7fea0bd6342db94e   \n",
       "0     12  268596a55671154a7fea0bd6342db94e   \n",
       "\n",
       "                                   universe_settings  execution_time  \\\n",
       "0  {\"cutoff\": \"quantile_0.1\", \"eval_fairness_grou...        34.14156   \n",
       "0  {\"cutoff\": \"quantile_0.1\", \"eval_fairness_grou...        34.14156   \n",
       "0  {\"cutoff\": \"quantile_0.25\", \"eval_fairness_gro...        34.14156   \n",
       "0  {\"cutoff\": \"quantile_0.25\", \"eval_fairness_gro...        34.14156   \n",
       "\n",
       "   test_size_n  test_size_frac  fair_main_equalized_odds_difference  \\\n",
       "0        89710             1.0                             0.050730   \n",
       "0        89710             1.0                             0.050730   \n",
       "0        89710             1.0                             0.091389   \n",
       "0        89710             1.0                             0.091389   \n",
       "\n",
       "   fair_main_equalized_odds_ratio  fair_main_demographic_parity_difference  \\\n",
       "0                        0.945383                                 0.051503   \n",
       "0                        0.945383                                 0.051503   \n",
       "0                        0.904176                                 0.058263   \n",
       "0                        0.904176                                 0.058263   \n",
       "\n",
       "   fair_main_demographic_parity_ratio  ...  perf_grp_precision_0  \\\n",
       "0                            0.944619  ...                   NaN   \n",
       "0                            0.944619  ...              0.123199   \n",
       "0                            0.924012  ...                   NaN   \n",
       "0                            0.924012  ...              0.140324   \n",
       "\n",
       "   perf_grp_precision_1  perf_grp_false positive rate_0  \\\n",
       "0                   NaN                             NaN   \n",
       "0              0.140594                        0.870625   \n",
       "0                   NaN                             NaN   \n",
       "0              0.164363                        0.688422   \n",
       "\n",
       "   perf_grp_false positive rate_1  perf_grp_false negative rate_0  \\\n",
       "0                             NaN                             NaN   \n",
       "0                        0.920923                        0.061233   \n",
       "0                             NaN                             NaN   \n",
       "0                        0.738264                        0.137669   \n",
       "\n",
       "   perf_grp_false negative rate_1  perf_grp_selection rate_0  \\\n",
       "0                             NaN                        NaN   \n",
       "0                        0.010503                   0.878481   \n",
       "0                             NaN                        NaN   \n",
       "0                        0.046280                   0.708471   \n",
       "\n",
       "   perf_grp_selection rate_1  perf_grp_count_0  perf_grp_count_1  \n",
       "0                        NaN               NaN               NaN  \n",
       "0                   0.929984           20540.0           69170.0  \n",
       "0                        NaN               NaN               NaN  \n",
       "0                   0.766734           20540.0           69170.0  \n",
       "\n",
       "[4 rows x 50 columns]"
      ]
     },
     "execution_count": 79,
     "metadata": {},
     "output_type": "execute_result"
    }
   ],
   "source": [
    "final_output = universe_analysis.generate_final_output(\n",
    "    y_pred_prob=probs_test,\n",
    "    y_test=y_true,\n",
    "    org_test=org_test,\n",
    "    filter_data=filter_sub_universe_data,\n",
    "    cp_metrics_df=cp_metrics_df,\n",
    "    save=True,\n",
    ")\n",
    "final_output"
   ]
  },
  {
   "cell_type": "code",
   "execution_count": null,
   "id": "721ff514-cb11-46f8-b6fc-50392f74b5cb",
   "metadata": {
    "papermill": {
     "duration": 0.067316,
     "end_time": "2025-07-30T12:55:17.060379",
     "exception": false,
     "start_time": "2025-07-30T12:55:16.993063",
     "status": "completed"
    },
    "tags": []
   },
   "outputs": [],
   "source": []
  }
 ],
 "metadata": {
  "celltoolbar": "Tags",
  "kernelspec": {
   "display_name": "Python (CMA Fairness)",
   "language": "python",
   "name": "cma_fair_env"
  },
  "language_info": {
   "codemirror_mode": {
    "name": "ipython",
    "version": 3
   },
   "file_extension": ".py",
   "mimetype": "text/x-python",
   "name": "python",
   "nbconvert_exporter": "python",
   "pygments_lexer": "ipython3",
   "version": "3.10.12"
  },
  "papermill": {
   "default_parameters": {},
   "duration": 52.114982,
   "end_time": "2025-07-30T12:55:20.227384",
   "environment_variables": {},
   "exception": null,
   "input_path": "universe_analysis.ipynb",
   "output_path": "output/runs/12/notebooks/m_12-268596a55671154a7fea0bd6342db94e.ipynb",
   "parameters": {
    "output_dir": "output",
    "run_no": "12",
    "seed": "2023",
    "universe": "{\"cutoff\": [\"quantile_0.1\", \"quantile_0.25\"], \"eval_fairness_grouping\": [\"majority-minority\", \"nationality-all\"], \"exclude_features\": \"none\", \"exclude_subgroups\": \"keep-all\", \"model\": \"rf\", \"scale\": \"do-not-scale\", \"training_size\": \"25k\", \"training_year\": \"2014\"}",
    "universe_id": "268596a55671154a7fea0bd6342db94e"
   },
   "start_time": "2025-07-30T12:54:28.112402",
   "version": "2.6.0"
  }
 },
 "nbformat": 4,
 "nbformat_minor": 5
}