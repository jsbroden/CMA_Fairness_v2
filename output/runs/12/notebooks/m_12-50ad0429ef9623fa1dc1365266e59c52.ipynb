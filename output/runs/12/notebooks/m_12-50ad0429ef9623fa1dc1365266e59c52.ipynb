{
 "cells": [
  {
   "cell_type": "code",
   "execution_count": 1,
   "id": "f159f837-637b-42ba-96b5-ec9a68c44524",
   "metadata": {
    "execution": {
     "iopub.execute_input": "2025-07-30T13:25:57.910397Z",
     "iopub.status.busy": "2025-07-30T13:25:57.909816Z",
     "iopub.status.idle": "2025-07-30T13:25:57.922939Z",
     "shell.execute_reply": "2025-07-30T13:25:57.922133Z"
    },
    "papermill": {
     "duration": 0.034306,
     "end_time": "2025-07-30T13:25:57.924408",
     "exception": false,
     "start_time": "2025-07-30T13:25:57.890102",
     "status": "completed"
    },
    "tags": []
   },
   "outputs": [
    {
     "name": "stdout",
     "output_type": "stream",
     "text": [
      "/dss/dsshome1/0C/ra93lal2/cma/CMA_Fairness_v2\n"
     ]
    },
    {
     "name": "stderr",
     "output_type": "stream",
     "text": [
      "/dss/dsshome1/0C/ra93lal2/.local/share/virtualenvs/CMA_Fairness_v2-3j10GkSs/lib/python3.10/site-packages/IPython/core/magics/osm.py:393: UserWarning: This is now an optional IPython functionality, using bookmarks requires you to install the `pickleshare` library.\n",
      "  bkms = self.shell.db.get('bookmarks', {})\n",
      "/dss/dsshome1/0C/ra93lal2/.local/share/virtualenvs/CMA_Fairness_v2-3j10GkSs/lib/python3.10/site-packages/IPython/core/magics/osm.py:417: UserWarning: This is now an optional IPython functionality, setting dhist requires you to install the `pickleshare` library.\n",
      "  self.shell.db['dhist'] = compress_dhist(dhist)[-100:]\n"
     ]
    }
   ],
   "source": [
    "%cd ~/cma/CMA_Fairness_v2"
   ]
  },
  {
   "cell_type": "markdown",
   "id": "de2603b9",
   "metadata": {
    "papermill": {
     "duration": 0.017894,
     "end_time": "2025-07-30T13:25:57.962897",
     "exception": false,
     "start_time": "2025-07-30T13:25:57.945003",
     "status": "completed"
    },
    "tags": []
   },
   "source": [
    "The following cell holds the definition of our parameters, these values can be overriden by rendering the with e.g. the following command:\n",
    "\n",
    "papermill -p alpha 0.2 -p ratio 0.3 universe_analysis.ipynb output/test_run.ipynb"
   ]
  },
  {
   "cell_type": "code",
   "execution_count": 2,
   "id": "a80968a0-40bb-4fa9-85ef-2d5eefb01975",
   "metadata": {
    "execution": {
     "iopub.execute_input": "2025-07-30T13:25:58.003543Z",
     "iopub.status.busy": "2025-07-30T13:25:58.002865Z",
     "iopub.status.idle": "2025-07-30T13:25:58.021014Z",
     "shell.execute_reply": "2025-07-30T13:25:58.020088Z"
    },
    "papermill": {
     "duration": 0.042951,
     "end_time": "2025-07-30T13:25:58.024307",
     "exception": false,
     "start_time": "2025-07-30T13:25:57.981356",
     "status": "completed"
    },
    "tags": []
   },
   "outputs": [
    {
     "name": "stdout",
     "output_type": "stream",
     "text": [
      "Current working directory: /dss/dsshome1/0C/ra93lal2/cma/CMA_Fairness_v2\n"
     ]
    }
   ],
   "source": [
    "import os\n",
    "print(\"Current working directory:\", os.getcwd())"
   ]
  },
  {
   "cell_type": "code",
   "execution_count": 3,
   "id": "2dce4c03",
   "metadata": {
    "execution": {
     "iopub.execute_input": "2025-07-30T13:25:58.066553Z",
     "iopub.status.busy": "2025-07-30T13:25:58.066105Z",
     "iopub.status.idle": "2025-07-30T13:25:58.072805Z",
     "shell.execute_reply": "2025-07-30T13:25:58.071722Z"
    },
    "papermill": {
     "duration": 0.02962,
     "end_time": "2025-07-30T13:25:58.074302",
     "exception": false,
     "start_time": "2025-07-30T13:25:58.044682",
     "status": "completed"
    },
    "tags": [
     "parameters"
    ]
   },
   "outputs": [],
   "source": [
    "run_no = 0\n",
    "universe_id = \"test\"\n",
    "universe = {\n",
    "    \"training_size\": \"25k\", # \"25k\", \"5k\", \"1k\"\n",
    "    \"training_year\": \"2014\", # \"2014\", \"2012_14\", \"2010_14\"\n",
    "    \"scale\": \"scale\", # \"scale\", \"do-not-scale\",\n",
    "    #\"stratify_split\": \"target\", # \"none\", \"target\", \"protected-attribute\", \"both\",\n",
    "    \"model\": \"elasticnet\", # \"logreg\", \"penalized_logreg\", \"rf\", \"gbm\", \"elasticnet\"\n",
    "    \"cutoff\": [\"quantile_0.15\", \"quantile_0.30\"],\n",
    "    \"exclude_features\": \"age\", # \"none\", \"nationality\", \"sex\", \"nationality-sex\", \"age\"\n",
    "    \"exclude_subgroups\": \"keep-all\", # \"keep-all\", \"drop-non-german\"\n",
    "    \"eval_fairness_grouping\": [\"majority-minority\", \"nationality-all\"]\n",
    "}\n",
    "\n",
    "output_dir=\"./output\"\n",
    "seed=0"
   ]
  },
  {
   "cell_type": "code",
   "execution_count": 4,
   "id": "2ca4e8e1",
   "metadata": {
    "execution": {
     "iopub.execute_input": "2025-07-30T13:25:58.113790Z",
     "iopub.status.busy": "2025-07-30T13:25:58.113060Z",
     "iopub.status.idle": "2025-07-30T13:25:58.118347Z",
     "shell.execute_reply": "2025-07-30T13:25:58.117507Z"
    },
    "papermill": {
     "duration": 0.026713,
     "end_time": "2025-07-30T13:25:58.120253",
     "exception": false,
     "start_time": "2025-07-30T13:25:58.093540",
     "status": "completed"
    },
    "tags": [
     "injected-parameters"
    ]
   },
   "outputs": [],
   "source": [
    "# Parameters\n",
    "universe_id = \"50ad0429ef9623fa1dc1365266e59c52\"\n",
    "run_no = \"12\"\n",
    "universe = \"{\\\"cutoff\\\": [\\\"quantile_0.1\\\", \\\"quantile_0.25\\\"], \\\"eval_fairness_grouping\\\": [\\\"majority-minority\\\", \\\"nationality-all\\\"], \\\"exclude_features\\\": \\\"none\\\", \\\"exclude_subgroups\\\": \\\"drop-non-german\\\", \\\"model\\\": \\\"gbm\\\", \\\"scale\\\": \\\"scale\\\", \\\"training_size\\\": \\\"25k\\\", \\\"training_year\\\": \\\"2010_14\\\"}\"\n",
    "output_dir = \"output\"\n",
    "seed = \"2023\"\n"
   ]
  },
  {
   "cell_type": "code",
   "execution_count": 5,
   "id": "1650acaf",
   "metadata": {
    "execution": {
     "iopub.execute_input": "2025-07-30T13:25:58.161401Z",
     "iopub.status.busy": "2025-07-30T13:25:58.160959Z",
     "iopub.status.idle": "2025-07-30T13:25:58.166179Z",
     "shell.execute_reply": "2025-07-30T13:25:58.165230Z"
    },
    "papermill": {
     "duration": 0.027476,
     "end_time": "2025-07-30T13:25:58.167995",
     "exception": false,
     "start_time": "2025-07-30T13:25:58.140519",
     "status": "completed"
    },
    "tags": []
   },
   "outputs": [],
   "source": [
    "import json\n",
    "# Parse universe into dict if it is passed as a string\n",
    "if isinstance(universe, str):\n",
    "    universe = json.loads(universe)"
   ]
  },
  {
   "cell_type": "code",
   "execution_count": 6,
   "id": "16620c48",
   "metadata": {
    "execution": {
     "iopub.execute_input": "2025-07-30T13:25:58.207075Z",
     "iopub.status.busy": "2025-07-30T13:25:58.206504Z",
     "iopub.status.idle": "2025-07-30T13:25:58.253275Z",
     "shell.execute_reply": "2025-07-30T13:25:58.252409Z"
    },
    "papermill": {
     "duration": 0.067639,
     "end_time": "2025-07-30T13:25:58.255115",
     "exception": false,
     "start_time": "2025-07-30T13:25:58.187476",
     "status": "completed"
    },
    "tags": []
   },
   "outputs": [],
   "source": [
    "# Auto-reload the custom package\n",
    "%load_ext autoreload\n",
    "%autoreload 1\n",
    "%aimport fairness_multiverse"
   ]
  },
  {
   "cell_type": "code",
   "execution_count": 7,
   "id": "01c5c9f3",
   "metadata": {
    "execution": {
     "iopub.execute_input": "2025-07-30T13:25:58.293973Z",
     "iopub.status.busy": "2025-07-30T13:25:58.293536Z",
     "iopub.status.idle": "2025-07-30T13:25:59.988430Z",
     "shell.execute_reply": "2025-07-30T13:25:59.987627Z"
    },
    "papermill": {
     "duration": 1.715838,
     "end_time": "2025-07-30T13:25:59.989970",
     "exception": false,
     "start_time": "2025-07-30T13:25:58.274132",
     "status": "completed"
    },
    "tags": []
   },
   "outputs": [],
   "source": [
    "from fairness_multiverse.universe import UniverseAnalysis\n",
    "\n",
    "universe_analysis = UniverseAnalysis(\n",
    "    run_no = run_no,\n",
    "    universe_id = universe_id,\n",
    "    universe = universe,\n",
    "    output_dir=output_dir,\n",
    ")"
   ]
  },
  {
   "cell_type": "code",
   "execution_count": 8,
   "id": "106241f5",
   "metadata": {
    "execution": {
     "iopub.execute_input": "2025-07-30T13:26:00.013411Z",
     "iopub.status.busy": "2025-07-30T13:26:00.012945Z",
     "iopub.status.idle": "2025-07-30T13:26:00.019536Z",
     "shell.execute_reply": "2025-07-30T13:26:00.018325Z"
    },
    "papermill": {
     "duration": 0.019781,
     "end_time": "2025-07-30T13:26:00.021280",
     "exception": false,
     "start_time": "2025-07-30T13:26:00.001499",
     "status": "completed"
    },
    "tags": []
   },
   "outputs": [
    {
     "name": "stdout",
     "output_type": "stream",
     "text": [
      "Using Seed: 2023\n"
     ]
    }
   ],
   "source": [
    "import numpy as np\n",
    "parsed_seed = int(seed)\n",
    "np.random.seed(parsed_seed)\n",
    "print(f\"Using Seed: {parsed_seed}\")"
   ]
  },
  {
   "cell_type": "markdown",
   "id": "e0ebdc57",
   "metadata": {
    "papermill": {
     "duration": 0.019928,
     "end_time": "2025-07-30T13:26:00.062999",
     "exception": false,
     "start_time": "2025-07-30T13:26:00.043071",
     "status": "completed"
    },
    "tags": []
   },
   "source": [
    "# Loading Data"
   ]
  },
  {
   "cell_type": "markdown",
   "id": "681925a3",
   "metadata": {
    "papermill": {
     "duration": 0.0188,
     "end_time": "2025-07-30T13:26:00.100860",
     "exception": false,
     "start_time": "2025-07-30T13:26:00.082060",
     "status": "completed"
    },
    "tags": []
   },
   "source": [
    "Load siab_train, siab_test, siab_calib and/or \n",
    "load siab_train_features, siab_train_labels"
   ]
  },
  {
   "cell_type": "code",
   "execution_count": 9,
   "id": "f0496b8a",
   "metadata": {
    "execution": {
     "iopub.execute_input": "2025-07-30T13:26:00.140655Z",
     "iopub.status.busy": "2025-07-30T13:26:00.140152Z",
     "iopub.status.idle": "2025-07-30T13:26:13.138835Z",
     "shell.execute_reply": "2025-07-30T13:26:13.137853Z"
    },
    "papermill": {
     "duration": 13.020625,
     "end_time": "2025-07-30T13:26:13.140612",
     "exception": false,
     "start_time": "2025-07-30T13:26:00.119987",
     "status": "completed"
    },
    "tags": []
   },
   "outputs": [
    {
     "name": "stdout",
     "output_type": "stream",
     "text": [
      "Loading SIAB data from cache: data/siab_cached.csv.gz\n"
     ]
    },
    {
     "name": "stdout",
     "output_type": "stream",
     "text": [
      "(643690, 164)\n"
     ]
    }
   ],
   "source": [
    "from pathlib import Path\n",
    "import pandas as pd\n",
    "\n",
    "# File paths\n",
    "raw_file = Path(\"data/raw/siab.csv\")\n",
    "cache_file = Path(\"data/siab_cached.csv.gz\")\n",
    "\n",
    "# Ensure cache directory exists\n",
    "cache_file.parent.mkdir(parents=True, exist_ok=True)\n",
    "\n",
    "# Load with simple caching\n",
    "if cache_file.exists():\n",
    "    print(f\"Loading SIAB data from cache: {cache_file}\")\n",
    "    siab = pd.read_csv(cache_file, compression='gzip')\n",
    "else:\n",
    "    print(f\"Cache not found. Reading raw SIAB data: {raw_file}\")\n",
    "    siab = pd.read_csv(raw_file)\n",
    "    siab.to_csv(cache_file, index=False, compression='gzip')\n",
    "    print(f\"Cached SIAB data to: {cache_file}\")\n",
    "\n",
    "# Now use `siab` DataFrame as needed\n",
    "print(siab.shape)"
   ]
  },
  {
   "cell_type": "code",
   "execution_count": 10,
   "id": "db0ca512-5f53-4dba-abdb-a2888bca41ba",
   "metadata": {
    "execution": {
     "iopub.execute_input": "2025-07-30T13:26:13.168446Z",
     "iopub.status.busy": "2025-07-30T13:26:13.167980Z",
     "iopub.status.idle": "2025-07-30T13:26:13.173061Z",
     "shell.execute_reply": "2025-07-30T13:26:13.172152Z"
    },
    "papermill": {
     "duration": 0.019137,
     "end_time": "2025-07-30T13:26:13.174462",
     "exception": false,
     "start_time": "2025-07-30T13:26:13.155325",
     "status": "completed"
    },
    "tags": []
   },
   "outputs": [],
   "source": [
    "#siab"
   ]
  },
  {
   "cell_type": "code",
   "execution_count": 11,
   "id": "a0edb063",
   "metadata": {
    "execution": {
     "iopub.execute_input": "2025-07-30T13:26:13.199067Z",
     "iopub.status.busy": "2025-07-30T13:26:13.198328Z",
     "iopub.status.idle": "2025-07-30T13:26:13.203035Z",
     "shell.execute_reply": "2025-07-30T13:26:13.202336Z"
    },
    "papermill": {
     "duration": 0.018053,
     "end_time": "2025-07-30T13:26:13.204500",
     "exception": false,
     "start_time": "2025-07-30T13:26:13.186447",
     "status": "completed"
    },
    "tags": []
   },
   "outputs": [],
   "source": [
    "#import pandas as pd\n",
    "#\n",
    "#X_train = pd.read_csv(\"./data/X_train.csv\")\n",
    "#y_train = pd.read_csv(\"./data/y_train.csv\")"
   ]
  },
  {
   "cell_type": "code",
   "execution_count": 12,
   "id": "63d08085",
   "metadata": {
    "execution": {
     "iopub.execute_input": "2025-07-30T13:26:13.234223Z",
     "iopub.status.busy": "2025-07-30T13:26:13.233840Z",
     "iopub.status.idle": "2025-07-30T13:26:13.238539Z",
     "shell.execute_reply": "2025-07-30T13:26:13.237772Z"
    },
    "papermill": {
     "duration": 0.019758,
     "end_time": "2025-07-30T13:26:13.239949",
     "exception": false,
     "start_time": "2025-07-30T13:26:13.220191",
     "status": "completed"
    },
    "tags": []
   },
   "outputs": [],
   "source": [
    "#X_test = pd.read_csv(\"./data/X_test.csv\")\n",
    "#y_true = pd.read_csv(\"./data/y_test.csv\")"
   ]
  },
  {
   "cell_type": "code",
   "execution_count": 13,
   "id": "98a8d0fa-1d3d-4ed8-bb2c-281470e24add",
   "metadata": {
    "execution": {
     "iopub.execute_input": "2025-07-30T13:26:13.264927Z",
     "iopub.status.busy": "2025-07-30T13:26:13.264563Z",
     "iopub.status.idle": "2025-07-30T13:26:13.269390Z",
     "shell.execute_reply": "2025-07-30T13:26:13.267919Z"
    },
    "papermill": {
     "duration": 0.019202,
     "end_time": "2025-07-30T13:26:13.271411",
     "exception": false,
     "start_time": "2025-07-30T13:26:13.252209",
     "status": "completed"
    },
    "tags": []
   },
   "outputs": [],
   "source": [
    "# Calibration data for conformal\n",
    "#X_calib = pd.read_csv(\"./data/X_calib.csv\")\n",
    "#y_calib = pd.read_csv(\"./data/y_calib.csv\")"
   ]
  },
  {
   "cell_type": "markdown",
   "id": "997051c5-15bd-4b69-9786-c3001a3ce484",
   "metadata": {
    "papermill": {
     "duration": 0.023505,
     "end_time": "2025-07-30T13:26:13.370488",
     "exception": false,
     "start_time": "2025-07-30T13:26:13.346983",
     "status": "completed"
    },
    "tags": []
   },
   "source": [
    "# Splitting Data and Setting Training Data Size"
   ]
  },
  {
   "cell_type": "code",
   "execution_count": 14,
   "id": "e993b61f-042d-41a6-8c81-f55681f86335",
   "metadata": {
    "execution": {
     "iopub.execute_input": "2025-07-30T13:26:13.403214Z",
     "iopub.status.busy": "2025-07-30T13:26:13.402824Z",
     "iopub.status.idle": "2025-07-30T13:26:13.414206Z",
     "shell.execute_reply": "2025-07-30T13:26:13.413462Z"
    },
    "papermill": {
     "duration": 0.026034,
     "end_time": "2025-07-30T13:26:13.415621",
     "exception": false,
     "start_time": "2025-07-30T13:26:13.389587",
     "status": "completed"
    },
    "tags": []
   },
   "outputs": [],
   "source": [
    "def sample_by_year_size(df,\n",
    "                        training_year: str,\n",
    "                        training_size: str,\n",
    "                        random_state: int = 42):\n",
    "    # --- parse training_year into a list of int years ---\n",
    "    if \"_\" in training_year:\n",
    "        start_str, end_str = training_year.split(\"_\", 1)\n",
    "        start = int(start_str)\n",
    "        end   = int(end_str) if len(end_str) == 4 else (int(end_str) + (start // 100)*100)\n",
    "        years = list(range(start, end + 1))\n",
    "    else:\n",
    "        years = [int(training_year)]\n",
    "\n",
    "    df = df[df[\"year\"].isin(years)].reset_index(drop=True)\n",
    "\n",
    "    # --- map training_size to total number of samples ---\n",
    "    total_map = {\"25k\": 25_000, \"5k\": 5_000, \"1k\": 1_000}\n",
    "    if training_size not in total_map:\n",
    "        return df  # e.g. \"all\"\n",
    "\n",
    "    total_samples = total_map[training_size]\n",
    "    n_years       = len(years)\n",
    "    base          = total_samples // n_years\n",
    "    remainder     = total_samples % n_years\n",
    "\n",
    "    # --- build a dict: year -> how many to sample ---\n",
    "    # give +1 to the first `remainder` years in ascending order\n",
    "    quotas = {\n",
    "        year: base + (1 if idx < remainder else 0)\n",
    "        for idx, year in enumerate(sorted(years))\n",
    "    }\n",
    "\n",
    "    # --- sample per‐year according to the quota dict ---\n",
    "    sampled = (\n",
    "        df\n",
    "        .groupby(\"year\", group_keys=False)\n",
    "        .apply(lambda grp: grp.sample(\n",
    "            n=min(len(grp), quotas[grp.name]),\n",
    "            random_state=random_state))\n",
    "        .reset_index(drop=True)\n",
    "    )\n",
    "\n",
    "    return sampled"
   ]
  },
  {
   "cell_type": "code",
   "execution_count": 15,
   "id": "c0ccd338-0e02-41f3-a09d-f56f9266e3fb",
   "metadata": {
    "execution": {
     "iopub.execute_input": "2025-07-30T13:26:13.441588Z",
     "iopub.status.busy": "2025-07-30T13:26:13.441085Z",
     "iopub.status.idle": "2025-07-30T13:26:13.450308Z",
     "shell.execute_reply": "2025-07-30T13:26:13.449579Z"
    },
    "papermill": {
     "duration": 0.022889,
     "end_time": "2025-07-30T13:26:13.451695",
     "exception": false,
     "start_time": "2025-07-30T13:26:13.428806",
     "status": "completed"
    },
    "tags": []
   },
   "outputs": [
    {
     "data": {
      "text/plain": [
       "'25k'"
      ]
     },
     "execution_count": 15,
     "metadata": {},
     "output_type": "execute_result"
    }
   ],
   "source": [
    "universe[\"training_size\"]"
   ]
  },
  {
   "cell_type": "code",
   "execution_count": 16,
   "id": "ca707fd7-8047-4acd-bfa5-66248fbbf8e6",
   "metadata": {
    "execution": {
     "iopub.execute_input": "2025-07-30T13:26:13.478344Z",
     "iopub.status.busy": "2025-07-30T13:26:13.477799Z",
     "iopub.status.idle": "2025-07-30T13:26:13.484539Z",
     "shell.execute_reply": "2025-07-30T13:26:13.483762Z"
    },
    "papermill": {
     "duration": 0.021848,
     "end_time": "2025-07-30T13:26:13.485848",
     "exception": false,
     "start_time": "2025-07-30T13:26:13.464000",
     "status": "completed"
    },
    "tags": []
   },
   "outputs": [
    {
     "data": {
      "text/plain": [
       "'2010_14'"
      ]
     },
     "execution_count": 16,
     "metadata": {},
     "output_type": "execute_result"
    }
   ],
   "source": [
    "universe[\"training_year\"]"
   ]
  },
  {
   "cell_type": "code",
   "execution_count": 17,
   "id": "aea9c6ef-6f46-42c8-85eb-5a62025c1508",
   "metadata": {
    "execution": {
     "iopub.execute_input": "2025-07-30T13:26:13.530056Z",
     "iopub.status.busy": "2025-07-30T13:26:13.529579Z",
     "iopub.status.idle": "2025-07-30T13:26:14.658760Z",
     "shell.execute_reply": "2025-07-30T13:26:14.657862Z"
    },
    "papermill": {
     "duration": 1.155908,
     "end_time": "2025-07-30T13:26:14.660829",
     "exception": false,
     "start_time": "2025-07-30T13:26:13.504921",
     "status": "completed"
    },
    "tags": []
   },
   "outputs": [],
   "source": [
    "siab_train = sample_by_year_size(siab,\n",
    "                               training_year=universe[\"training_year\"],\n",
    "                               training_size=universe[\"training_size\"])"
   ]
  },
  {
   "cell_type": "code",
   "execution_count": 18,
   "id": "8d3afb32-789d-442c-8d5d-9f5aa8dd2eed",
   "metadata": {
    "execution": {
     "iopub.execute_input": "2025-07-30T13:26:14.706208Z",
     "iopub.status.busy": "2025-07-30T13:26:14.705564Z",
     "iopub.status.idle": "2025-07-30T13:26:14.712635Z",
     "shell.execute_reply": "2025-07-30T13:26:14.711723Z"
    },
    "papermill": {
     "duration": 0.030771,
     "end_time": "2025-07-30T13:26:14.714439",
     "exception": false,
     "start_time": "2025-07-30T13:26:14.683668",
     "status": "completed"
    },
    "tags": []
   },
   "outputs": [
    {
     "data": {
      "text/plain": [
       "(25000, 164)"
      ]
     },
     "execution_count": 18,
     "metadata": {},
     "output_type": "execute_result"
    }
   ],
   "source": [
    "siab_train.shape"
   ]
  },
  {
   "cell_type": "code",
   "execution_count": 19,
   "id": "d582db68-1a4c-47fb-84fc-08518dc1975a",
   "metadata": {
    "execution": {
     "iopub.execute_input": "2025-07-30T13:26:14.759390Z",
     "iopub.status.busy": "2025-07-30T13:26:14.758729Z",
     "iopub.status.idle": "2025-07-30T13:26:14.768690Z",
     "shell.execute_reply": "2025-07-30T13:26:14.767673Z"
    },
    "papermill": {
     "duration": 0.034256,
     "end_time": "2025-07-30T13:26:14.770426",
     "exception": false,
     "start_time": "2025-07-30T13:26:14.736170",
     "status": "completed"
    },
    "tags": []
   },
   "outputs": [
    {
     "data": {
      "text/plain": [
       "year\n",
       "2010    5000\n",
       "2011    5000\n",
       "2012    5000\n",
       "2013    5000\n",
       "2014    5000\n",
       "dtype: int64"
      ]
     },
     "metadata": {},
     "output_type": "display_data"
    }
   ],
   "source": [
    "display(siab_train.groupby(\"year\").size())"
   ]
  },
  {
   "cell_type": "code",
   "execution_count": 20,
   "id": "a561edb4-d032-42cb-8256-22eac1111c64",
   "metadata": {
    "execution": {
     "iopub.execute_input": "2025-07-30T13:26:14.815096Z",
     "iopub.status.busy": "2025-07-30T13:26:14.814400Z",
     "iopub.status.idle": "2025-07-30T13:26:15.074828Z",
     "shell.execute_reply": "2025-07-30T13:26:15.073955Z"
    },
    "papermill": {
     "duration": 0.284567,
     "end_time": "2025-07-30T13:26:15.076680",
     "exception": false,
     "start_time": "2025-07-30T13:26:14.792113",
     "status": "completed"
    },
    "tags": []
   },
   "outputs": [],
   "source": [
    "#siab_train = siab_s[siab_s.year < 2015]\n",
    "siab_calib = siab[siab.year == 2015]\n",
    "siab_test = siab[siab.year == 2016]"
   ]
  },
  {
   "cell_type": "code",
   "execution_count": 21,
   "id": "472de16f-c3db-4916-846b-1f0de9cf1746",
   "metadata": {
    "execution": {
     "iopub.execute_input": "2025-07-30T13:26:15.120551Z",
     "iopub.status.busy": "2025-07-30T13:26:15.119862Z",
     "iopub.status.idle": "2025-07-30T13:26:15.134767Z",
     "shell.execute_reply": "2025-07-30T13:26:15.133736Z"
    },
    "papermill": {
     "duration": 0.038678,
     "end_time": "2025-07-30T13:26:15.136343",
     "exception": false,
     "start_time": "2025-07-30T13:26:15.097665",
     "status": "completed"
    },
    "tags": []
   },
   "outputs": [],
   "source": [
    "X_train = siab_train.iloc[:,4:164]\n",
    "y_train = siab_train.iloc[:, [3]]"
   ]
  },
  {
   "cell_type": "code",
   "execution_count": 22,
   "id": "828c96af-f43a-4ed6-ba47-8ac73a47d56c",
   "metadata": {
    "execution": {
     "iopub.execute_input": "2025-07-30T13:26:15.180200Z",
     "iopub.status.busy": "2025-07-30T13:26:15.179555Z",
     "iopub.status.idle": "2025-07-30T13:26:15.227876Z",
     "shell.execute_reply": "2025-07-30T13:26:15.226757Z"
    },
    "papermill": {
     "duration": 0.071688,
     "end_time": "2025-07-30T13:26:15.229631",
     "exception": false,
     "start_time": "2025-07-30T13:26:15.157943",
     "status": "completed"
    },
    "tags": []
   },
   "outputs": [],
   "source": [
    "X_calib = siab_calib.iloc[:,4:164]\n",
    "y_calib = siab_calib.iloc[:, [3]]"
   ]
  },
  {
   "cell_type": "code",
   "execution_count": 23,
   "id": "c34be9c3-6bd6-476e-acd3-845840e303be",
   "metadata": {
    "execution": {
     "iopub.execute_input": "2025-07-30T13:26:15.273980Z",
     "iopub.status.busy": "2025-07-30T13:26:15.273388Z",
     "iopub.status.idle": "2025-07-30T13:26:15.323529Z",
     "shell.execute_reply": "2025-07-30T13:26:15.322596Z"
    },
    "papermill": {
     "duration": 0.073974,
     "end_time": "2025-07-30T13:26:15.325060",
     "exception": false,
     "start_time": "2025-07-30T13:26:15.251086",
     "status": "completed"
    },
    "tags": []
   },
   "outputs": [],
   "source": [
    "X_test = siab_test.iloc[:,4:164]\n",
    "y_true = siab_test.iloc[:, [3]]"
   ]
  },
  {
   "cell_type": "markdown",
   "id": "9901737e-04df-44f0-9100-f5ad144ed040",
   "metadata": {
    "papermill": {
     "duration": 0.020899,
     "end_time": "2025-07-30T13:26:15.367163",
     "exception": false,
     "start_time": "2025-07-30T13:26:15.346264",
     "status": "completed"
    },
    "tags": []
   },
   "source": [
    "# Splitting Data and Setting Training Data Size OLD VERSION"
   ]
  },
  {
   "cell_type": "code",
   "execution_count": 24,
   "id": "acbc8f7d-8fc8-4e86-8c59-5dcb0f58384b",
   "metadata": {
    "execution": {
     "iopub.execute_input": "2025-07-30T13:26:15.409184Z",
     "iopub.status.busy": "2025-07-30T13:26:15.408687Z",
     "iopub.status.idle": "2025-07-30T13:26:15.415126Z",
     "shell.execute_reply": "2025-07-30T13:26:15.414153Z"
    },
    "papermill": {
     "duration": 0.02959,
     "end_time": "2025-07-30T13:26:15.416729",
     "exception": false,
     "start_time": "2025-07-30T13:26:15.387139",
     "status": "completed"
    },
    "tags": []
   },
   "outputs": [],
   "source": [
    "#def sample_by_year(df, training_size, random_state=42):\n",
    "#    if training_size == \"2014\":\n",
    "#        return df[df[\"year\"] == 2014].reset_index(drop=True)\n",
    "#    \n",
    "#    size_map = {\n",
    "#        \"25k\": 5000,\n",
    "#        \"5k\": 1000,\n",
    "#        \"1k\": 200\n",
    "#    }\n",
    "#\n",
    "#    if training_size not in size_map:\n",
    "#        return df.reset_index(drop=True)  # use all data\n",
    "#\n",
    "#    n_per_year = size_map[training_size]\n",
    "#    grouped = df.groupby(\"year\")\n",
    "#    sampled = grouped.apply(lambda x: x.sample(n=min(n_per_year, len(x)), random_state=random_state))\n",
    "#    return sampled.reset_index(drop=True)"
   ]
  },
  {
   "cell_type": "code",
   "execution_count": 25,
   "id": "6d931f52-beaf-43ff-9e78-9d44a448d54e",
   "metadata": {
    "execution": {
     "iopub.execute_input": "2025-07-30T13:26:15.462634Z",
     "iopub.status.busy": "2025-07-30T13:26:15.461476Z",
     "iopub.status.idle": "2025-07-30T13:26:15.467261Z",
     "shell.execute_reply": "2025-07-30T13:26:15.466176Z"
    },
    "papermill": {
     "duration": 0.030219,
     "end_time": "2025-07-30T13:26:15.469079",
     "exception": false,
     "start_time": "2025-07-30T13:26:15.438860",
     "status": "completed"
    },
    "tags": []
   },
   "outputs": [],
   "source": [
    "#siab_s = sample_by_year(siab, universe[\"training_size\"])"
   ]
  },
  {
   "cell_type": "code",
   "execution_count": 26,
   "id": "5db0a40e-a4e2-4920-be85-b12ae061d70d",
   "metadata": {
    "execution": {
     "iopub.execute_input": "2025-07-30T13:26:15.519841Z",
     "iopub.status.busy": "2025-07-30T13:26:15.519176Z",
     "iopub.status.idle": "2025-07-30T13:26:15.524472Z",
     "shell.execute_reply": "2025-07-30T13:26:15.523342Z"
    },
    "papermill": {
     "duration": 0.032109,
     "end_time": "2025-07-30T13:26:15.526181",
     "exception": false,
     "start_time": "2025-07-30T13:26:15.494072",
     "status": "completed"
    },
    "tags": []
   },
   "outputs": [],
   "source": [
    "#display(siab_s.groupby(\"year\").size())"
   ]
  },
  {
   "cell_type": "code",
   "execution_count": 27,
   "id": "e6c733c5",
   "metadata": {
    "execution": {
     "iopub.execute_input": "2025-07-30T13:26:15.576028Z",
     "iopub.status.busy": "2025-07-30T13:26:15.575330Z",
     "iopub.status.idle": "2025-07-30T13:26:15.675615Z",
     "shell.execute_reply": "2025-07-30T13:26:15.674668Z"
    },
    "papermill": {
     "duration": 0.12666,
     "end_time": "2025-07-30T13:26:15.677503",
     "exception": false,
     "start_time": "2025-07-30T13:26:15.550843",
     "status": "completed"
    },
    "tags": []
   },
   "outputs": [],
   "source": [
    "# Auxiliary data needed downstream in the pipeline\n",
    "\n",
    "org_train = X_train.copy()\n",
    "org_test = X_test.copy()\n",
    "org_calib = X_calib.copy()"
   ]
  },
  {
   "cell_type": "code",
   "execution_count": 28,
   "id": "1466abac-c6da-4492-a62f-4240ae3783af",
   "metadata": {
    "execution": {
     "iopub.execute_input": "2025-07-30T13:26:15.726266Z",
     "iopub.status.busy": "2025-07-30T13:26:15.725789Z",
     "iopub.status.idle": "2025-07-30T13:26:15.731489Z",
     "shell.execute_reply": "2025-07-30T13:26:15.730624Z"
    },
    "papermill": {
     "duration": 0.031198,
     "end_time": "2025-07-30T13:26:15.733091",
     "exception": false,
     "start_time": "2025-07-30T13:26:15.701893",
     "status": "completed"
    },
    "tags": []
   },
   "outputs": [],
   "source": [
    "# put in other script?\n",
    "# Group sizes\n",
    "\n",
    "#def calculate_percentages(df, df_name):\n",
    "#    total_entries = len(df)\n",
    "#\n",
    "#    female_pct = (df['frau1'] == 1).mean() * 100\n",
    "#    non_german_pct = ((df['maxdeutsch1'] == 0) & (df['maxdeutsch.Missing.'] == 0)).mean() * 100\n",
    "#    non_german_male_pct = ((df['frau1'] == 0) & (df['maxdeutsch1'] == 0) & (df['maxdeutsch.Missing.'] == 0)).mean() * 100\n",
    "#    non_german_female_pct = ((df['frau1'] == 1) & (df['maxdeutsch1'] == 0) & (df['maxdeutsch.Missing.'] == 0)).mean() * 100\n",
    "#\n",
    "#    print(f\"--- {df_name} ---\")\n",
    "#    print(f\"Female: {female_pct:.2f}%\")\n",
    "#    print(f\"Non-German: {non_german_pct:.2f}%\")\n",
    "#    print(f\"Non-German Male: {non_german_male_pct:.2f}%\")\n",
    "#    print(f\"Non-German Female: {non_german_female_pct:.2f}%\\n\")\n",
    "#\n",
    "## Calculate for each DataFrame\n",
    "#calculate_percentages(siab_calib, \"siab_calib\")\n",
    "#calculate_percentages(siab_test, \"siab_test\")\n",
    "#calculate_percentages(siab_train, \"siab_train\")"
   ]
  },
  {
   "cell_type": "markdown",
   "id": "0a4a1b33",
   "metadata": {
    "papermill": {
     "duration": 0.021621,
     "end_time": "2025-07-30T13:26:15.778263",
     "exception": false,
     "start_time": "2025-07-30T13:26:15.756642",
     "status": "completed"
    },
    "tags": []
   },
   "source": [
    "# Preprocessing Data"
   ]
  },
  {
   "cell_type": "code",
   "execution_count": 29,
   "id": "ca879031",
   "metadata": {
    "execution": {
     "iopub.execute_input": "2025-07-30T13:26:15.821189Z",
     "iopub.status.busy": "2025-07-30T13:26:15.820659Z",
     "iopub.status.idle": "2025-07-30T13:26:15.827050Z",
     "shell.execute_reply": "2025-07-30T13:26:15.826200Z"
    },
    "papermill": {
     "duration": 0.030062,
     "end_time": "2025-07-30T13:26:15.828543",
     "exception": false,
     "start_time": "2025-07-30T13:26:15.798481",
     "status": "completed"
    },
    "tags": []
   },
   "outputs": [],
   "source": [
    "# EXCLUDE PROTECTED FEATURES\n",
    "# ----------------------\n",
    "# \"exclude_features\": \"none\", # \"nationality\", \"sex\", \"nationality-sex\"\n",
    "\n",
    "excluded_features = universe[\"exclude_features\"].split(\"-\") # split, e.g.: \"nationality-sex\" -> [\"nationality\", \"sex\"]\n",
    "excluded_features_dictionary = {\n",
    "    \"nationality\": [\"maxdeutsch1\", \"maxdeutsch.Missing.\"],\n",
    "    \"sex\": [\"frau1\"],\n",
    "    \"age\": [\"age\"],\n",
    "}\n"
   ]
  },
  {
   "cell_type": "code",
   "execution_count": 30,
   "id": "b745ac60",
   "metadata": {
    "execution": {
     "iopub.execute_input": "2025-07-30T13:26:15.873583Z",
     "iopub.status.busy": "2025-07-30T13:26:15.873040Z",
     "iopub.status.idle": "2025-07-30T13:26:15.878835Z",
     "shell.execute_reply": "2025-07-30T13:26:15.877841Z"
    },
    "papermill": {
     "duration": 0.030089,
     "end_time": "2025-07-30T13:26:15.880453",
     "exception": false,
     "start_time": "2025-07-30T13:26:15.850364",
     "status": "completed"
    },
    "tags": []
   },
   "outputs": [],
   "source": [
    "# Code nice names to column names\n",
    "\n",
    "excluded_features_columns = [\n",
    "    excluded_features_dictionary[f] for f in excluded_features if len(f) > 0 and f != \"none\"\n",
    "]"
   ]
  },
  {
   "cell_type": "code",
   "execution_count": 31,
   "id": "f84f73a2",
   "metadata": {
    "execution": {
     "iopub.execute_input": "2025-07-30T13:26:15.924513Z",
     "iopub.status.busy": "2025-07-30T13:26:15.923987Z",
     "iopub.status.idle": "2025-07-30T13:26:15.931410Z",
     "shell.execute_reply": "2025-07-30T13:26:15.930428Z"
    },
    "papermill": {
     "duration": 0.031277,
     "end_time": "2025-07-30T13:26:15.933111",
     "exception": false,
     "start_time": "2025-07-30T13:26:15.901834",
     "status": "completed"
    },
    "tags": []
   },
   "outputs": [],
   "source": [
    "from utils import flatten_once\n",
    "\n",
    "excluded_features_columns = flatten_once(excluded_features_columns)"
   ]
  },
  {
   "cell_type": "code",
   "execution_count": 32,
   "id": "884dea22",
   "metadata": {
    "execution": {
     "iopub.execute_input": "2025-07-30T13:26:15.978156Z",
     "iopub.status.busy": "2025-07-30T13:26:15.977543Z",
     "iopub.status.idle": "2025-07-30T13:26:15.983385Z",
     "shell.execute_reply": "2025-07-30T13:26:15.982491Z"
    },
    "papermill": {
     "duration": 0.030105,
     "end_time": "2025-07-30T13:26:15.985183",
     "exception": false,
     "start_time": "2025-07-30T13:26:15.955078",
     "status": "completed"
    },
    "tags": []
   },
   "outputs": [],
   "source": [
    "if len(excluded_features_columns) > 0:\n",
    "    print(f\"Dropping features: {excluded_features_columns}\")\n",
    "    X_train.drop(excluded_features_columns, axis=1, inplace=True)"
   ]
  },
  {
   "cell_type": "code",
   "execution_count": 33,
   "id": "95ab8b16",
   "metadata": {
    "execution": {
     "iopub.execute_input": "2025-07-30T13:26:16.033000Z",
     "iopub.status.busy": "2025-07-30T13:26:16.032143Z",
     "iopub.status.idle": "2025-07-30T13:26:16.037737Z",
     "shell.execute_reply": "2025-07-30T13:26:16.036869Z"
    },
    "papermill": {
     "duration": 0.030857,
     "end_time": "2025-07-30T13:26:16.039289",
     "exception": false,
     "start_time": "2025-07-30T13:26:16.008432",
     "status": "completed"
    },
    "tags": []
   },
   "outputs": [],
   "source": [
    "if len(excluded_features_columns) > 0:\n",
    "    print(f\"Dropping features: {excluded_features_columns}\")\n",
    "    X_test.drop(excluded_features_columns, axis=1, inplace=True)"
   ]
  },
  {
   "cell_type": "code",
   "execution_count": 34,
   "id": "1853aaf5-fb9f-46cb-a2b5-8ea4ae2237e4",
   "metadata": {
    "execution": {
     "iopub.execute_input": "2025-07-30T13:26:16.087602Z",
     "iopub.status.busy": "2025-07-30T13:26:16.087112Z",
     "iopub.status.idle": "2025-07-30T13:26:16.093214Z",
     "shell.execute_reply": "2025-07-30T13:26:16.092239Z"
    },
    "papermill": {
     "duration": 0.031639,
     "end_time": "2025-07-30T13:26:16.094580",
     "exception": false,
     "start_time": "2025-07-30T13:26:16.062941",
     "status": "completed"
    },
    "tags": []
   },
   "outputs": [],
   "source": [
    "if len(excluded_features_columns) > 0:\n",
    "    print(f\"Dropping features: {excluded_features_columns}\")\n",
    "    X_calib.drop(excluded_features_columns, axis=1, inplace=True)"
   ]
  },
  {
   "cell_type": "code",
   "execution_count": 35,
   "id": "6727d079-03e5-481e-9d38-292a90b7a0a8",
   "metadata": {
    "execution": {
     "iopub.execute_input": "2025-07-30T13:26:16.139012Z",
     "iopub.status.busy": "2025-07-30T13:26:16.138549Z",
     "iopub.status.idle": "2025-07-30T13:26:16.143056Z",
     "shell.execute_reply": "2025-07-30T13:26:16.142188Z"
    },
    "papermill": {
     "duration": 0.028538,
     "end_time": "2025-07-30T13:26:16.144627",
     "exception": false,
     "start_time": "2025-07-30T13:26:16.116089",
     "status": "completed"
    },
    "tags": []
   },
   "outputs": [],
   "source": [
    "# SPLIT & STRATIFY DATA\n",
    "# ----------------------"
   ]
  },
  {
   "cell_type": "code",
   "execution_count": 36,
   "id": "76c4dc6d",
   "metadata": {
    "execution": {
     "iopub.execute_input": "2025-07-30T13:26:16.191613Z",
     "iopub.status.busy": "2025-07-30T13:26:16.190886Z",
     "iopub.status.idle": "2025-07-30T13:26:16.196545Z",
     "shell.execute_reply": "2025-07-30T13:26:16.195605Z"
    },
    "papermill": {
     "duration": 0.031122,
     "end_time": "2025-07-30T13:26:16.198237",
     "exception": false,
     "start_time": "2025-07-30T13:26:16.167115",
     "status": "completed"
    },
    "tags": []
   },
   "outputs": [],
   "source": [
    "# EXCLUDE CERTAIN SUBGROUPS\n",
    "# ----------------------\n",
    "\n",
    "mode = universe.get(\"exclude_subgroups\", \"keep-all\") \n",
    "# Fetches the exclude_subgroups setting from the universe dict.\n",
    "# Defaults to \"keep-all\" if the key is missing."
   ]
  },
  {
   "cell_type": "code",
   "execution_count": 37,
   "id": "21994072",
   "metadata": {
    "execution": {
     "iopub.execute_input": "2025-07-30T13:26:16.244241Z",
     "iopub.status.busy": "2025-07-30T13:26:16.243705Z",
     "iopub.status.idle": "2025-07-30T13:26:16.251372Z",
     "shell.execute_reply": "2025-07-30T13:26:16.250378Z"
    },
    "papermill": {
     "duration": 0.032604,
     "end_time": "2025-07-30T13:26:16.253092",
     "exception": false,
     "start_time": "2025-07-30T13:26:16.220488",
     "status": "completed"
    },
    "tags": []
   },
   "outputs": [],
   "source": [
    "if mode == \"keep-all\":\n",
    "    keep_mask = pd.Series(True, index=org_train.index)\n",
    "\n",
    "# org_train contains the original feature columns from features_org (in Simson)\n",
    "# features_org contains unprocessed features, for me X_train at beginning ???\n",
    "# For keep-all, creates a boolean Series (keep_mask) of all True, so no rows are removed.\n",
    "\n",
    "elif mode == \"drop-non-german\":\n",
    "    keep_mask = org_train[\"maxdeutsch1\"] == 1 # ??? what about missing values?\n",
    "\n",
    "else:\n",
    "    raise ValueError(f\"Unsupported mode for exclude_subgroups: {mode}\")\n"
   ]
  },
  {
   "cell_type": "code",
   "execution_count": 38,
   "id": "71651440",
   "metadata": {
    "execution": {
     "iopub.execute_input": "2025-07-30T13:26:16.299984Z",
     "iopub.status.busy": "2025-07-30T13:26:16.299258Z",
     "iopub.status.idle": "2025-07-30T13:26:16.307037Z",
     "shell.execute_reply": "2025-07-30T13:26:16.306008Z"
    },
    "papermill": {
     "duration": 0.032847,
     "end_time": "2025-07-30T13:26:16.308648",
     "exception": false,
     "start_time": "2025-07-30T13:26:16.275801",
     "status": "completed"
    },
    "tags": []
   },
   "outputs": [
    {
     "name": "stdout",
     "output_type": "stream",
     "text": [
      "Dropping 3312 rows (13.25%) where mode='drop-non-german'\n"
     ]
    }
   ],
   "source": [
    "n_drop = (~keep_mask).sum() # Calculates how many rows are set to be dropped\n",
    "if n_drop > 0:\n",
    "    pct = n_drop / len(keep_mask) * 100\n",
    "    print(f\"Dropping {n_drop} rows ({pct:.2f}%) where mode='{mode}'\")"
   ]
  },
  {
   "cell_type": "code",
   "execution_count": 39,
   "id": "5fb8eee5",
   "metadata": {
    "execution": {
     "iopub.execute_input": "2025-07-30T13:26:16.354694Z",
     "iopub.status.busy": "2025-07-30T13:26:16.353907Z",
     "iopub.status.idle": "2025-07-30T13:26:16.368071Z",
     "shell.execute_reply": "2025-07-30T13:26:16.366999Z"
    },
    "papermill": {
     "duration": 0.038838,
     "end_time": "2025-07-30T13:26:16.370063",
     "exception": false,
     "start_time": "2025-07-30T13:26:16.331225",
     "status": "completed"
    },
    "tags": []
   },
   "outputs": [],
   "source": [
    "X_train = X_train[keep_mask]"
   ]
  },
  {
   "cell_type": "code",
   "execution_count": 40,
   "id": "b202bb3a",
   "metadata": {
    "execution": {
     "iopub.execute_input": "2025-07-30T13:26:16.416858Z",
     "iopub.status.busy": "2025-07-30T13:26:16.416481Z",
     "iopub.status.idle": "2025-07-30T13:26:16.423509Z",
     "shell.execute_reply": "2025-07-30T13:26:16.422447Z"
    },
    "papermill": {
     "duration": 0.031894,
     "end_time": "2025-07-30T13:26:16.425318",
     "exception": false,
     "start_time": "2025-07-30T13:26:16.393424",
     "status": "completed"
    },
    "tags": []
   },
   "outputs": [],
   "source": [
    "y_train = y_train[keep_mask]"
   ]
  },
  {
   "cell_type": "markdown",
   "id": "493e2ac3",
   "metadata": {
    "papermill": {
     "duration": 0.022095,
     "end_time": "2025-07-30T13:26:16.469315",
     "exception": false,
     "start_time": "2025-07-30T13:26:16.447220",
     "status": "completed"
    },
    "tags": []
   },
   "source": [
    "# Model Training"
   ]
  },
  {
   "cell_type": "code",
   "execution_count": 41,
   "id": "679e1268",
   "metadata": {
    "execution": {
     "iopub.execute_input": "2025-07-30T13:26:16.515428Z",
     "iopub.status.busy": "2025-07-30T13:26:16.514931Z",
     "iopub.status.idle": "2025-07-30T13:26:16.617441Z",
     "shell.execute_reply": "2025-07-30T13:26:16.616591Z"
    },
    "papermill": {
     "duration": 0.127186,
     "end_time": "2025-07-30T13:26:16.619289",
     "exception": false,
     "start_time": "2025-07-30T13:26:16.492103",
     "status": "completed"
    },
    "tags": []
   },
   "outputs": [],
   "source": [
    "from sklearn.linear_model import LogisticRegression\n",
    "from sklearn.ensemble import GradientBoostingClassifier, RandomForestClassifier\n",
    "\n",
    "if (universe[\"model\"] == \"logreg\"):\n",
    "    model = LogisticRegression() #penalty=\"none\") #, solver=\"newton-cg\", max_iter=1) # include random_state=19 ?\n",
    "elif (universe[\"model\"] == \"penalized_logreg\"):\n",
    "    model = LogisticRegression(penalty=\"l2\", C=1.0) #, solver=\"newton-cg\", max_iter=1)\n",
    "elif (universe[\"model\"] == \"rf\"):\n",
    "    model = RandomForestClassifier(n_estimators=100, n_jobs=-1)\n",
    "elif (universe[\"model\"] == \"gbm\"):\n",
    "    model = GradientBoostingClassifier()\n",
    "elif (universe[\"model\"] == \"elasticnet\"):\n",
    "    model = LogisticRegression(penalty = 'elasticnet', solver = 'saga', l1_ratio = 0.5, max_iter=5000) # which solver to use?\n",
    "else:\n",
    "    raise \"Unsupported universe.model\""
   ]
  },
  {
   "cell_type": "code",
   "execution_count": 42,
   "id": "0cc8f744",
   "metadata": {
    "execution": {
     "iopub.execute_input": "2025-07-30T13:26:16.666602Z",
     "iopub.status.busy": "2025-07-30T13:26:16.666145Z",
     "iopub.status.idle": "2025-07-30T13:26:16.672718Z",
     "shell.execute_reply": "2025-07-30T13:26:16.671793Z"
    },
    "papermill": {
     "duration": 0.032204,
     "end_time": "2025-07-30T13:26:16.674243",
     "exception": false,
     "start_time": "2025-07-30T13:26:16.642039",
     "status": "completed"
    },
    "tags": []
   },
   "outputs": [],
   "source": [
    "import numpy as np\n",
    "from sklearn.pipeline import Pipeline\n",
    "from sklearn.preprocessing import StandardScaler\n",
    "\n",
    "model = Pipeline([\n",
    "    #(\"continuous_processor\", continuous_processor),\n",
    "    #(\"categorical_preprocessor\", categorical_preprocessor),\n",
    "    (\"scale\", StandardScaler() if universe[\"scale\"] == \"scale\" else None), \n",
    "    (\"model\", model),\n",
    "])"
   ]
  },
  {
   "cell_type": "code",
   "execution_count": 43,
   "id": "9442c04d",
   "metadata": {
    "execution": {
     "iopub.execute_input": "2025-07-30T13:26:16.721311Z",
     "iopub.status.busy": "2025-07-30T13:26:16.720614Z",
     "iopub.status.idle": "2025-07-30T13:26:41.115145Z",
     "shell.execute_reply": "2025-07-30T13:26:41.114013Z"
    },
    "papermill": {
     "duration": 24.420038,
     "end_time": "2025-07-30T13:26:41.116954",
     "exception": false,
     "start_time": "2025-07-30T13:26:16.696916",
     "status": "completed"
    },
    "tags": []
   },
   "outputs": [
    {
     "data": {
      "text/html": [
       "<style>#sk-container-id-1 {color: black;background-color: white;}#sk-container-id-1 pre{padding: 0;}#sk-container-id-1 div.sk-toggleable {background-color: white;}#sk-container-id-1 label.sk-toggleable__label {cursor: pointer;display: block;width: 100%;margin-bottom: 0;padding: 0.3em;box-sizing: border-box;text-align: center;}#sk-container-id-1 label.sk-toggleable__label-arrow:before {content: \"▸\";float: left;margin-right: 0.25em;color: #696969;}#sk-container-id-1 label.sk-toggleable__label-arrow:hover:before {color: black;}#sk-container-id-1 div.sk-estimator:hover label.sk-toggleable__label-arrow:before {color: black;}#sk-container-id-1 div.sk-toggleable__content {max-height: 0;max-width: 0;overflow: hidden;text-align: left;background-color: #f0f8ff;}#sk-container-id-1 div.sk-toggleable__content pre {margin: 0.2em;color: black;border-radius: 0.25em;background-color: #f0f8ff;}#sk-container-id-1 input.sk-toggleable__control:checked~div.sk-toggleable__content {max-height: 200px;max-width: 100%;overflow: auto;}#sk-container-id-1 input.sk-toggleable__control:checked~label.sk-toggleable__label-arrow:before {content: \"▾\";}#sk-container-id-1 div.sk-estimator input.sk-toggleable__control:checked~label.sk-toggleable__label {background-color: #d4ebff;}#sk-container-id-1 div.sk-label input.sk-toggleable__control:checked~label.sk-toggleable__label {background-color: #d4ebff;}#sk-container-id-1 input.sk-hidden--visually {border: 0;clip: rect(1px 1px 1px 1px);clip: rect(1px, 1px, 1px, 1px);height: 1px;margin: -1px;overflow: hidden;padding: 0;position: absolute;width: 1px;}#sk-container-id-1 div.sk-estimator {font-family: monospace;background-color: #f0f8ff;border: 1px dotted black;border-radius: 0.25em;box-sizing: border-box;margin-bottom: 0.5em;}#sk-container-id-1 div.sk-estimator:hover {background-color: #d4ebff;}#sk-container-id-1 div.sk-parallel-item::after {content: \"\";width: 100%;border-bottom: 1px solid gray;flex-grow: 1;}#sk-container-id-1 div.sk-label:hover label.sk-toggleable__label {background-color: #d4ebff;}#sk-container-id-1 div.sk-serial::before {content: \"\";position: absolute;border-left: 1px solid gray;box-sizing: border-box;top: 0;bottom: 0;left: 50%;z-index: 0;}#sk-container-id-1 div.sk-serial {display: flex;flex-direction: column;align-items: center;background-color: white;padding-right: 0.2em;padding-left: 0.2em;position: relative;}#sk-container-id-1 div.sk-item {position: relative;z-index: 1;}#sk-container-id-1 div.sk-parallel {display: flex;align-items: stretch;justify-content: center;background-color: white;position: relative;}#sk-container-id-1 div.sk-item::before, #sk-container-id-1 div.sk-parallel-item::before {content: \"\";position: absolute;border-left: 1px solid gray;box-sizing: border-box;top: 0;bottom: 0;left: 50%;z-index: -1;}#sk-container-id-1 div.sk-parallel-item {display: flex;flex-direction: column;z-index: 1;position: relative;background-color: white;}#sk-container-id-1 div.sk-parallel-item:first-child::after {align-self: flex-end;width: 50%;}#sk-container-id-1 div.sk-parallel-item:last-child::after {align-self: flex-start;width: 50%;}#sk-container-id-1 div.sk-parallel-item:only-child::after {width: 0;}#sk-container-id-1 div.sk-dashed-wrapped {border: 1px dashed gray;margin: 0 0.4em 0.5em 0.4em;box-sizing: border-box;padding-bottom: 0.4em;background-color: white;}#sk-container-id-1 div.sk-label label {font-family: monospace;font-weight: bold;display: inline-block;line-height: 1.2em;}#sk-container-id-1 div.sk-label-container {text-align: center;}#sk-container-id-1 div.sk-container {/* jupyter's `normalize.less` sets `[hidden] { display: none; }` but bootstrap.min.css set `[hidden] { display: none !important; }` so we also need the `!important` here to be able to override the default hidden behavior on the sphinx rendered scikit-learn.org. See: https://github.com/scikit-learn/scikit-learn/issues/21755 */display: inline-block !important;position: relative;}#sk-container-id-1 div.sk-text-repr-fallback {display: none;}</style><div id=\"sk-container-id-1\" class=\"sk-top-container\"><div class=\"sk-text-repr-fallback\"><pre>Pipeline(steps=[(&#x27;scale&#x27;, StandardScaler()),\n",
       "                (&#x27;model&#x27;, GradientBoostingClassifier())])</pre><b>In a Jupyter environment, please rerun this cell to show the HTML representation or trust the notebook. <br />On GitHub, the HTML representation is unable to render, please try loading this page with nbviewer.org.</b></div><div class=\"sk-container\" hidden><div class=\"sk-item sk-dashed-wrapped\"><div class=\"sk-label-container\"><div class=\"sk-label sk-toggleable\"><input class=\"sk-toggleable__control sk-hidden--visually\" id=\"sk-estimator-id-1\" type=\"checkbox\" ><label for=\"sk-estimator-id-1\" class=\"sk-toggleable__label sk-toggleable__label-arrow\">Pipeline</label><div class=\"sk-toggleable__content\"><pre>Pipeline(steps=[(&#x27;scale&#x27;, StandardScaler()),\n",
       "                (&#x27;model&#x27;, GradientBoostingClassifier())])</pre></div></div></div><div class=\"sk-serial\"><div class=\"sk-item\"><div class=\"sk-estimator sk-toggleable\"><input class=\"sk-toggleable__control sk-hidden--visually\" id=\"sk-estimator-id-2\" type=\"checkbox\" ><label for=\"sk-estimator-id-2\" class=\"sk-toggleable__label sk-toggleable__label-arrow\">StandardScaler</label><div class=\"sk-toggleable__content\"><pre>StandardScaler()</pre></div></div></div><div class=\"sk-item\"><div class=\"sk-estimator sk-toggleable\"><input class=\"sk-toggleable__control sk-hidden--visually\" id=\"sk-estimator-id-3\" type=\"checkbox\" ><label for=\"sk-estimator-id-3\" class=\"sk-toggleable__label sk-toggleable__label-arrow\">GradientBoostingClassifier</label><div class=\"sk-toggleable__content\"><pre>GradientBoostingClassifier()</pre></div></div></div></div></div></div></div>"
      ],
      "text/plain": [
       "Pipeline(steps=[('scale', StandardScaler()),\n",
       "                ('model', GradientBoostingClassifier())])"
      ]
     },
     "execution_count": 43,
     "metadata": {},
     "output_type": "execute_result"
    }
   ],
   "source": [
    "model.fit(X_train, y_train.values.ravel())"
   ]
  },
  {
   "cell_type": "code",
   "execution_count": 44,
   "id": "af59f8c0",
   "metadata": {
    "execution": {
     "iopub.execute_input": "2025-07-30T13:26:41.172564Z",
     "iopub.status.busy": "2025-07-30T13:26:41.171651Z",
     "iopub.status.idle": "2025-07-30T13:26:41.178022Z",
     "shell.execute_reply": "2025-07-30T13:26:41.177114Z"
    },
    "papermill": {
     "duration": 0.034006,
     "end_time": "2025-07-30T13:26:41.179679",
     "exception": false,
     "start_time": "2025-07-30T13:26:41.145673",
     "status": "completed"
    },
    "tags": []
   },
   "outputs": [],
   "source": [
    "from fairness_multiverse.universe import predict_w_threshold"
   ]
  },
  {
   "cell_type": "code",
   "execution_count": 45,
   "id": "a7cf2e16",
   "metadata": {
    "execution": {
     "iopub.execute_input": "2025-07-30T13:26:41.233275Z",
     "iopub.status.busy": "2025-07-30T13:26:41.232876Z",
     "iopub.status.idle": "2025-07-30T13:26:41.813973Z",
     "shell.execute_reply": "2025-07-30T13:26:41.813115Z"
    },
    "papermill": {
     "duration": 0.609275,
     "end_time": "2025-07-30T13:26:41.815629",
     "exception": false,
     "start_time": "2025-07-30T13:26:41.206354",
     "status": "completed"
    },
    "tags": []
   },
   "outputs": [
    {
     "data": {
      "text/plain": [
       "0.8684762010924089"
      ]
     },
     "execution_count": 45,
     "metadata": {},
     "output_type": "execute_result"
    }
   ],
   "source": [
    "probs_test = model.predict_proba(X_test)\n",
    "\n",
    "'''\n",
    "Below code returns a boolean array (or binary 0/1 array depending on how it’s used) where each element \n",
    "is True if the probability of class 1 is greater than or equal to the threshold, and False otherwise.\n",
    "'''\n",
    "y_pred_default = predict_w_threshold(probs_test, 0.5)\n",
    "\n",
    "from sklearn.metrics import accuracy_score\n",
    "\n",
    "# Naive prediction\n",
    "accuracy_score(y_true = y_true, y_pred = y_pred_default)"
   ]
  },
  {
   "cell_type": "code",
   "execution_count": 46,
   "id": "081964c3",
   "metadata": {
    "execution": {
     "iopub.execute_input": "2025-07-30T13:26:41.863085Z",
     "iopub.status.busy": "2025-07-30T13:26:41.862362Z",
     "iopub.status.idle": "2025-07-30T13:26:42.569059Z",
     "shell.execute_reply": "2025-07-30T13:26:42.568108Z"
    },
    "papermill": {
     "duration": 0.731952,
     "end_time": "2025-07-30T13:26:42.570926",
     "exception": false,
     "start_time": "2025-07-30T13:26:41.838974",
     "status": "completed"
    },
    "tags": []
   },
   "outputs": [
    {
     "data": {
      "text/plain": [
       "array([0, 0, 0, ..., 0, 0, 0])"
      ]
     },
     "execution_count": 46,
     "metadata": {},
     "output_type": "execute_result"
    }
   ],
   "source": [
    "model.predict(X_test)"
   ]
  },
  {
   "cell_type": "markdown",
   "id": "56c9705b",
   "metadata": {
    "papermill": {
     "duration": 0.026333,
     "end_time": "2025-07-30T13:26:42.624109",
     "exception": false,
     "start_time": "2025-07-30T13:26:42.597776",
     "status": "completed"
    },
    "tags": []
   },
   "source": [
    "# Conformal Prediction"
   ]
  },
  {
   "cell_type": "code",
   "execution_count": 47,
   "id": "160ec6ff",
   "metadata": {
    "execution": {
     "iopub.execute_input": "2025-07-30T13:26:42.677561Z",
     "iopub.status.busy": "2025-07-30T13:26:42.677087Z",
     "iopub.status.idle": "2025-07-30T13:26:42.682609Z",
     "shell.execute_reply": "2025-07-30T13:26:42.681540Z"
    },
    "papermill": {
     "duration": 0.034289,
     "end_time": "2025-07-30T13:26:42.684400",
     "exception": false,
     "start_time": "2025-07-30T13:26:42.650111",
     "status": "completed"
    },
    "tags": []
   },
   "outputs": [],
   "source": [
    "# Miscoverage level for conformal prediction (10% allowed error rate => 90% target coverage)\n",
    "alpha = 0.1"
   ]
  },
  {
   "cell_type": "code",
   "execution_count": 48,
   "id": "eadf4555-3dd3-440e-8e35-f82a4ad9f855",
   "metadata": {
    "execution": {
     "iopub.execute_input": "2025-07-30T13:26:42.733957Z",
     "iopub.status.busy": "2025-07-30T13:26:42.733219Z",
     "iopub.status.idle": "2025-07-30T13:26:43.516362Z",
     "shell.execute_reply": "2025-07-30T13:26:43.515329Z"
    },
    "papermill": {
     "duration": 0.809664,
     "end_time": "2025-07-30T13:26:43.518196",
     "exception": false,
     "start_time": "2025-07-30T13:26:42.708532",
     "status": "completed"
    },
    "tags": []
   },
   "outputs": [],
   "source": [
    "probs_calib = model.predict_proba(X_calib)"
   ]
  },
  {
   "cell_type": "code",
   "execution_count": 49,
   "id": "2ed93547-6d5d-4983-9b36-1ecb300da49a",
   "metadata": {
    "execution": {
     "iopub.execute_input": "2025-07-30T13:26:43.567693Z",
     "iopub.status.busy": "2025-07-30T13:26:43.567180Z",
     "iopub.status.idle": "2025-07-30T13:26:43.573009Z",
     "shell.execute_reply": "2025-07-30T13:26:43.571931Z"
    },
    "papermill": {
     "duration": 0.032697,
     "end_time": "2025-07-30T13:26:43.574765",
     "exception": false,
     "start_time": "2025-07-30T13:26:43.542068",
     "status": "completed"
    },
    "tags": []
   },
   "outputs": [],
   "source": [
    "y_calib = y_calib.values.ravel().astype(int)"
   ]
  },
  {
   "cell_type": "code",
   "execution_count": 50,
   "id": "65d1320d-f588-4b38-9072-62af1ae97f7d",
   "metadata": {
    "execution": {
     "iopub.execute_input": "2025-07-30T13:26:43.628716Z",
     "iopub.status.busy": "2025-07-30T13:26:43.627999Z",
     "iopub.status.idle": "2025-07-30T13:26:43.637487Z",
     "shell.execute_reply": "2025-07-30T13:26:43.636232Z"
    },
    "papermill": {
     "duration": 0.040475,
     "end_time": "2025-07-30T13:26:43.639609",
     "exception": false,
     "start_time": "2025-07-30T13:26:43.599134",
     "status": "completed"
    },
    "tags": []
   },
   "outputs": [],
   "source": [
    "from fairness_multiverse.conformal import compute_nc_scores\n",
    "\n",
    "# Compute nonconformity scores on calibration set (1 - probability of true class)\n",
    "nc_scores = compute_nc_scores(probs_calib, y_calib)"
   ]
  },
  {
   "cell_type": "code",
   "execution_count": 51,
   "id": "df3b8ca3-53b7-43d5-9667-7c85da7aeda2",
   "metadata": {
    "execution": {
     "iopub.execute_input": "2025-07-30T13:26:43.692830Z",
     "iopub.status.busy": "2025-07-30T13:26:43.692106Z",
     "iopub.status.idle": "2025-07-30T13:26:43.699123Z",
     "shell.execute_reply": "2025-07-30T13:26:43.698125Z"
    },
    "papermill": {
     "duration": 0.037511,
     "end_time": "2025-07-30T13:26:43.700929",
     "exception": false,
     "start_time": "2025-07-30T13:26:43.663418",
     "status": "completed"
    },
    "tags": []
   },
   "outputs": [],
   "source": [
    "from fairness_multiverse.conformal import find_threshold\n",
    "\n",
    "# Find conformal threshold q_hat for the given alpha (split conformal method)\n",
    "q_hat = find_threshold(nc_scores, alpha)"
   ]
  },
  {
   "cell_type": "code",
   "execution_count": 52,
   "id": "4d29e6c1-0ef6-4aa4-b8fe-4fe79b0d033a",
   "metadata": {
    "execution": {
     "iopub.execute_input": "2025-07-30T13:26:43.750237Z",
     "iopub.status.busy": "2025-07-30T13:26:43.749314Z",
     "iopub.status.idle": "2025-07-30T13:26:43.757417Z",
     "shell.execute_reply": "2025-07-30T13:26:43.756472Z"
    },
    "papermill": {
     "duration": 0.034364,
     "end_time": "2025-07-30T13:26:43.759119",
     "exception": false,
     "start_time": "2025-07-30T13:26:43.724755",
     "status": "completed"
    },
    "tags": []
   },
   "outputs": [
    {
     "data": {
      "text/plain": [
       "0.6644352031068701"
      ]
     },
     "execution_count": 52,
     "metadata": {},
     "output_type": "execute_result"
    }
   ],
   "source": [
    "q_hat"
   ]
  },
  {
   "cell_type": "code",
   "execution_count": 53,
   "id": "92460794-cdac-4be2-ba28-f28c0515a6fb",
   "metadata": {
    "execution": {
     "iopub.execute_input": "2025-07-30T13:26:43.809386Z",
     "iopub.status.busy": "2025-07-30T13:26:43.808967Z",
     "iopub.status.idle": "2025-07-30T13:26:45.337807Z",
     "shell.execute_reply": "2025-07-30T13:26:45.336843Z"
    },
    "papermill": {
     "duration": 1.556455,
     "end_time": "2025-07-30T13:26:45.339795",
     "exception": false,
     "start_time": "2025-07-30T13:26:43.783340",
     "status": "completed"
    },
    "tags": []
   },
   "outputs": [],
   "source": [
    "from fairness_multiverse.conformal import predict_conformal_sets\n",
    "\n",
    "# Generate prediction sets for each test example\n",
    "pred_sets = predict_conformal_sets(model, X_test, q_hat)"
   ]
  },
  {
   "cell_type": "code",
   "execution_count": 54,
   "id": "d90c9a65-e6db-4f5d-80cd-e68fb7e46829",
   "metadata": {
    "execution": {
     "iopub.execute_input": "2025-07-30T13:26:45.393819Z",
     "iopub.status.busy": "2025-07-30T13:26:45.393309Z",
     "iopub.status.idle": "2025-07-30T13:26:45.398800Z",
     "shell.execute_reply": "2025-07-30T13:26:45.397891Z"
    },
    "papermill": {
     "duration": 0.033455,
     "end_time": "2025-07-30T13:26:45.400507",
     "exception": false,
     "start_time": "2025-07-30T13:26:45.367052",
     "status": "completed"
    },
    "tags": []
   },
   "outputs": [],
   "source": [
    "y_true = y_true.squeeze()"
   ]
  },
  {
   "cell_type": "code",
   "execution_count": 55,
   "id": "3a58a54a-1e68-46b9-927a-df01f18aebc8",
   "metadata": {
    "execution": {
     "iopub.execute_input": "2025-07-30T13:26:45.455372Z",
     "iopub.status.busy": "2025-07-30T13:26:45.454683Z",
     "iopub.status.idle": "2025-07-30T13:26:46.457028Z",
     "shell.execute_reply": "2025-07-30T13:26:46.456071Z"
    },
    "papermill": {
     "duration": 1.031549,
     "end_time": "2025-07-30T13:26:46.458789",
     "exception": false,
     "start_time": "2025-07-30T13:26:45.427240",
     "status": "completed"
    },
    "tags": []
   },
   "outputs": [],
   "source": [
    "from fairness_multiverse.conformal import evaluate_sets\n",
    "\n",
    "# Evaluate coverage and average set size on test data\n",
    "metrics = evaluate_sets(pred_sets, y_true)"
   ]
  },
  {
   "cell_type": "markdown",
   "id": "2b569c12-9aaa-4c88-98c9-bbcd0cf3ebb8",
   "metadata": {
    "papermill": {
     "duration": 0.024466,
     "end_time": "2025-07-30T13:26:46.510143",
     "exception": false,
     "start_time": "2025-07-30T13:26:46.485677",
     "status": "completed"
    },
    "tags": []
   },
   "source": [
    "# CP Metrics"
   ]
  },
  {
   "cell_type": "code",
   "execution_count": 56,
   "id": "5ce0a5cb-201f-45a0-ade5-94c7f0bd6095",
   "metadata": {
    "execution": {
     "iopub.execute_input": "2025-07-30T13:26:46.561285Z",
     "iopub.status.busy": "2025-07-30T13:26:46.560533Z",
     "iopub.status.idle": "2025-07-30T13:26:46.568254Z",
     "shell.execute_reply": "2025-07-30T13:26:46.567259Z"
    },
    "papermill": {
     "duration": 0.035093,
     "end_time": "2025-07-30T13:26:46.570010",
     "exception": false,
     "start_time": "2025-07-30T13:26:46.534917",
     "status": "completed"
    },
    "tags": []
   },
   "outputs": [
    {
     "data": {
      "text/plain": [
       "{'coverage': 0.9120833797792888, 'avg_size': 1.1172556013822317}"
      ]
     },
     "execution_count": 56,
     "metadata": {},
     "output_type": "execute_result"
    }
   ],
   "source": [
    "metrics"
   ]
  },
  {
   "cell_type": "code",
   "execution_count": 57,
   "id": "9b9a838d-31c9-430b-ae14-12baee460d17",
   "metadata": {
    "execution": {
     "iopub.execute_input": "2025-07-30T13:26:46.622257Z",
     "iopub.status.busy": "2025-07-30T13:26:46.621322Z",
     "iopub.status.idle": "2025-07-30T13:26:46.627857Z",
     "shell.execute_reply": "2025-07-30T13:26:46.626922Z"
    },
    "papermill": {
     "duration": 0.034023,
     "end_time": "2025-07-30T13:26:46.629712",
     "exception": false,
     "start_time": "2025-07-30T13:26:46.595689",
     "status": "completed"
    },
    "tags": []
   },
   "outputs": [],
   "source": [
    "example_universe = universe.copy()\n",
    "universe_training_size = example_universe.get(\"training_size\")\n",
    "universe_scale = example_universe.get(\"scale\")\n",
    "universe_model = example_universe.get(\"model\")\n",
    "universe_exclude_features = example_universe.get(\"exclude_features\")\n",
    "universe_exclude_subgroups = example_universe.get(\"exclude_subgroups\")"
   ]
  },
  {
   "cell_type": "code",
   "execution_count": 58,
   "id": "f4b6a8ac-9dc0-4245-8a91-5b3b5999c4f9",
   "metadata": {
    "execution": {
     "iopub.execute_input": "2025-07-30T13:26:46.681741Z",
     "iopub.status.busy": "2025-07-30T13:26:46.681199Z",
     "iopub.status.idle": "2025-07-30T13:26:46.688507Z",
     "shell.execute_reply": "2025-07-30T13:26:46.687419Z"
    },
    "papermill": {
     "duration": 0.035126,
     "end_time": "2025-07-30T13:26:46.690311",
     "exception": false,
     "start_time": "2025-07-30T13:26:46.655185",
     "status": "completed"
    },
    "tags": []
   },
   "outputs": [],
   "source": [
    "cp_metrics_dict = {\n",
    "    \"universe_id\": [universe_id],\n",
    "    \"universe_training_size\": [universe_training_size],\n",
    "    \"universe_scale\": [universe_scale],\n",
    "    \"universe_model\": [universe_model],\n",
    "    \"universe_exclude_features\": [universe_exclude_features],\n",
    "    \"universe_exclude_subgroups\": [universe_exclude_subgroups],\n",
    "    \"q_hat\": [q_hat],\n",
    "    \"coverage\": [metrics[\"coverage\"]],\n",
    "    \"avg_size\": [metrics[\"avg_size\"]],\n",
    "}"
   ]
  },
  {
   "cell_type": "code",
   "execution_count": 59,
   "id": "908acbb1-0371-4915-85ca-3fa520d2efe2",
   "metadata": {
    "execution": {
     "iopub.execute_input": "2025-07-30T13:26:46.743125Z",
     "iopub.status.busy": "2025-07-30T13:26:46.742415Z",
     "iopub.status.idle": "2025-07-30T13:26:46.750773Z",
     "shell.execute_reply": "2025-07-30T13:26:46.749704Z"
    },
    "papermill": {
     "duration": 0.03685,
     "end_time": "2025-07-30T13:26:46.752504",
     "exception": false,
     "start_time": "2025-07-30T13:26:46.715654",
     "status": "completed"
    },
    "tags": []
   },
   "outputs": [
    {
     "data": {
      "text/plain": [
       "{'universe_id': ['50ad0429ef9623fa1dc1365266e59c52'],\n",
       " 'universe_training_size': ['25k'],\n",
       " 'universe_scale': ['scale'],\n",
       " 'universe_model': ['gbm'],\n",
       " 'universe_exclude_features': ['none'],\n",
       " 'universe_exclude_subgroups': ['drop-non-german'],\n",
       " 'q_hat': [0.6644352031068701],\n",
       " 'coverage': [0.9120833797792888],\n",
       " 'avg_size': [1.1172556013822317]}"
      ]
     },
     "execution_count": 59,
     "metadata": {},
     "output_type": "execute_result"
    }
   ],
   "source": [
    "cp_metrics_dict"
   ]
  },
  {
   "cell_type": "code",
   "execution_count": 60,
   "id": "33007efc-14e9-4ec6-97ac-56a455c82265",
   "metadata": {
    "execution": {
     "iopub.execute_input": "2025-07-30T13:26:46.805912Z",
     "iopub.status.busy": "2025-07-30T13:26:46.805194Z",
     "iopub.status.idle": "2025-07-30T13:26:46.812554Z",
     "shell.execute_reply": "2025-07-30T13:26:46.811519Z"
    },
    "papermill": {
     "duration": 0.035802,
     "end_time": "2025-07-30T13:26:46.814394",
     "exception": false,
     "start_time": "2025-07-30T13:26:46.778592",
     "status": "completed"
    },
    "tags": []
   },
   "outputs": [],
   "source": [
    "cp_metrics_df = pd.DataFrame(cp_metrics_dict)"
   ]
  },
  {
   "cell_type": "code",
   "execution_count": 61,
   "id": "db12611b-57b2-4910-b9d0-355adfd6e7bf",
   "metadata": {
    "execution": {
     "iopub.execute_input": "2025-07-30T13:26:46.872080Z",
     "iopub.status.busy": "2025-07-30T13:26:46.871229Z",
     "iopub.status.idle": "2025-07-30T13:26:46.891513Z",
     "shell.execute_reply": "2025-07-30T13:26:46.890593Z"
    },
    "papermill": {
     "duration": 0.053025,
     "end_time": "2025-07-30T13:26:46.894292",
     "exception": false,
     "start_time": "2025-07-30T13:26:46.841267",
     "status": "completed"
    },
    "tags": []
   },
   "outputs": [
    {
     "data": {
      "text/html": [
       "<div>\n",
       "<style scoped>\n",
       "    .dataframe tbody tr th:only-of-type {\n",
       "        vertical-align: middle;\n",
       "    }\n",
       "\n",
       "    .dataframe tbody tr th {\n",
       "        vertical-align: top;\n",
       "    }\n",
       "\n",
       "    .dataframe thead th {\n",
       "        text-align: right;\n",
       "    }\n",
       "</style>\n",
       "<table border=\"1\" class=\"dataframe\">\n",
       "  <thead>\n",
       "    <tr style=\"text-align: right;\">\n",
       "      <th></th>\n",
       "      <th>universe_id</th>\n",
       "      <th>universe_training_size</th>\n",
       "      <th>universe_scale</th>\n",
       "      <th>universe_model</th>\n",
       "      <th>universe_exclude_features</th>\n",
       "      <th>universe_exclude_subgroups</th>\n",
       "      <th>q_hat</th>\n",
       "      <th>coverage</th>\n",
       "      <th>avg_size</th>\n",
       "    </tr>\n",
       "  </thead>\n",
       "  <tbody>\n",
       "    <tr>\n",
       "      <th>0</th>\n",
       "      <td>50ad0429ef9623fa1dc1365266e59c52</td>\n",
       "      <td>25k</td>\n",
       "      <td>scale</td>\n",
       "      <td>gbm</td>\n",
       "      <td>none</td>\n",
       "      <td>drop-non-german</td>\n",
       "      <td>0.664435</td>\n",
       "      <td>0.912083</td>\n",
       "      <td>1.117256</td>\n",
       "    </tr>\n",
       "  </tbody>\n",
       "</table>\n",
       "</div>"
      ],
      "text/plain": [
       "                        universe_id universe_training_size universe_scale  \\\n",
       "0  50ad0429ef9623fa1dc1365266e59c52                    25k          scale   \n",
       "\n",
       "  universe_model universe_exclude_features universe_exclude_subgroups  \\\n",
       "0            gbm                      none            drop-non-german   \n",
       "\n",
       "      q_hat  coverage  avg_size  \n",
       "0  0.664435  0.912083  1.117256  "
      ]
     },
     "execution_count": 61,
     "metadata": {},
     "output_type": "execute_result"
    }
   ],
   "source": [
    "cp_metrics_df"
   ]
  },
  {
   "cell_type": "code",
   "execution_count": 62,
   "id": "b7fbde55-a0a1-47e4-9af6-fe4a17fa8c61",
   "metadata": {
    "execution": {
     "iopub.execute_input": "2025-07-30T13:26:46.952484Z",
     "iopub.status.busy": "2025-07-30T13:26:46.951999Z",
     "iopub.status.idle": "2025-07-30T13:26:46.958039Z",
     "shell.execute_reply": "2025-07-30T13:26:46.956462Z"
    },
    "papermill": {
     "duration": 0.037329,
     "end_time": "2025-07-30T13:26:46.959864",
     "exception": false,
     "start_time": "2025-07-30T13:26:46.922535",
     "status": "completed"
    },
    "tags": []
   },
   "outputs": [],
   "source": [
    "# Conditional Coverage & looking at subgroups"
   ]
  },
  {
   "cell_type": "code",
   "execution_count": 63,
   "id": "027ae886-68dd-4141-96c7-805a5450e1ef",
   "metadata": {
    "execution": {
     "iopub.execute_input": "2025-07-30T13:26:47.020941Z",
     "iopub.status.busy": "2025-07-30T13:26:47.020355Z",
     "iopub.status.idle": "2025-07-30T13:26:47.286313Z",
     "shell.execute_reply": "2025-07-30T13:26:47.285366Z"
    },
    "papermill": {
     "duration": 0.298962,
     "end_time": "2025-07-30T13:26:47.288278",
     "exception": false,
     "start_time": "2025-07-30T13:26:46.989316",
     "status": "completed"
    },
    "tags": []
   },
   "outputs": [],
   "source": [
    "from fairness_multiverse.conformal import build_cp_groups\n",
    "\n",
    "cp_groups_df = build_cp_groups(pred_sets, y_true, X_test.index, org_test)\n",
    "#needs universe_id and setting"
   ]
  },
  {
   "cell_type": "code",
   "execution_count": 64,
   "id": "01d5802c-663a-4d1f-9d69-e036faaffbf7",
   "metadata": {
    "execution": {
     "iopub.execute_input": "2025-07-30T13:26:47.347838Z",
     "iopub.status.busy": "2025-07-30T13:26:47.347162Z",
     "iopub.status.idle": "2025-07-30T13:26:47.352285Z",
     "shell.execute_reply": "2025-07-30T13:26:47.351327Z"
    },
    "papermill": {
     "duration": 0.036876,
     "end_time": "2025-07-30T13:26:47.354036",
     "exception": false,
     "start_time": "2025-07-30T13:26:47.317160",
     "status": "completed"
    },
    "tags": []
   },
   "outputs": [],
   "source": [
    "#delete\n",
    "#cp_groups_df"
   ]
  },
  {
   "cell_type": "code",
   "execution_count": 65,
   "id": "fa424af1-d1eb-443d-b717-2d279ada8408",
   "metadata": {
    "execution": {
     "iopub.execute_input": "2025-07-30T13:26:47.407784Z",
     "iopub.status.busy": "2025-07-30T13:26:47.407108Z",
     "iopub.status.idle": "2025-07-30T13:26:47.412700Z",
     "shell.execute_reply": "2025-07-30T13:26:47.411728Z"
    },
    "papermill": {
     "duration": 0.034168,
     "end_time": "2025-07-30T13:26:47.414533",
     "exception": false,
     "start_time": "2025-07-30T13:26:47.380365",
     "status": "completed"
    },
    "tags": []
   },
   "outputs": [],
   "source": [
    "#delete\n",
    "#percentage = (cp_groups_df['nongerman_female'] == 1).mean() * 100\n",
    "#print(percentage)\n"
   ]
  },
  {
   "cell_type": "code",
   "execution_count": 66,
   "id": "6cbdab96-b2b2-45af-ad54-d0516db2e28d",
   "metadata": {
    "execution": {
     "iopub.execute_input": "2025-07-30T13:26:47.467451Z",
     "iopub.status.busy": "2025-07-30T13:26:47.466905Z",
     "iopub.status.idle": "2025-07-30T13:26:49.223325Z",
     "shell.execute_reply": "2025-07-30T13:26:49.222374Z"
    },
    "papermill": {
     "duration": 1.784683,
     "end_time": "2025-07-30T13:26:49.225343",
     "exception": false,
     "start_time": "2025-07-30T13:26:47.440660",
     "status": "completed"
    },
    "tags": []
   },
   "outputs": [],
   "source": [
    "# Define covered = 1 if true_label is in the predicted set\n",
    "cp_groups_df['covered'] = cp_groups_df.apply(\n",
    "    lambda r: int(r['true_label'] in r['pred_set']),\n",
    "    axis=1\n",
    ")"
   ]
  },
  {
   "cell_type": "code",
   "execution_count": 67,
   "id": "338ff529-1a6b-4b87-a931-8e4788d52aad",
   "metadata": {
    "execution": {
     "iopub.execute_input": "2025-07-30T13:26:49.279400Z",
     "iopub.status.busy": "2025-07-30T13:26:49.278906Z",
     "iopub.status.idle": "2025-07-30T13:26:49.285576Z",
     "shell.execute_reply": "2025-07-30T13:26:49.284542Z"
    },
    "papermill": {
     "duration": 0.034651,
     "end_time": "2025-07-30T13:26:49.287355",
     "exception": false,
     "start_time": "2025-07-30T13:26:49.252704",
     "status": "completed"
    },
    "tags": []
   },
   "outputs": [],
   "source": [
    "#cp_groups_df"
   ]
  },
  {
   "cell_type": "code",
   "execution_count": 68,
   "id": "90032e27-66df-4540-9169-4e89cfbaa758",
   "metadata": {
    "execution": {
     "iopub.execute_input": "2025-07-30T13:26:49.349168Z",
     "iopub.status.busy": "2025-07-30T13:26:49.348687Z",
     "iopub.status.idle": "2025-07-30T13:26:49.360878Z",
     "shell.execute_reply": "2025-07-30T13:26:49.359886Z"
    },
    "papermill": {
     "duration": 0.043819,
     "end_time": "2025-07-30T13:26:49.362686",
     "exception": false,
     "start_time": "2025-07-30T13:26:49.318867",
     "status": "completed"
    },
    "tags": []
   },
   "outputs": [],
   "source": [
    "subgroups = ['frau1','nongerman','nongerman_male','nongerman_female']\n",
    "\n",
    "# Conditional coverage for subgroup==1\n",
    "cond_coverage = {\n",
    "    g: cp_groups_df.loc[cp_groups_df[g]==1, 'covered'].mean()\n",
    "    for g in subgroups\n",
    "}"
   ]
  },
  {
   "cell_type": "code",
   "execution_count": 69,
   "id": "1e348fb1-b9c3-45bc-ba23-f016827a7e0d",
   "metadata": {
    "execution": {
     "iopub.execute_input": "2025-07-30T13:26:49.418753Z",
     "iopub.status.busy": "2025-07-30T13:26:49.417856Z",
     "iopub.status.idle": "2025-07-30T13:26:49.425809Z",
     "shell.execute_reply": "2025-07-30T13:26:49.424839Z"
    },
    "papermill": {
     "duration": 0.036972,
     "end_time": "2025-07-30T13:26:49.427530",
     "exception": false,
     "start_time": "2025-07-30T13:26:49.390558",
     "status": "completed"
    },
    "tags": []
   },
   "outputs": [
    {
     "data": {
      "text/plain": [
       "{'frau1': 0.9113896751583771,\n",
       " 'nongerman': 0.9107954864424859,\n",
       " 'nongerman_male': 0.9265964153832298,\n",
       " 'nongerman_female': 0.8846497764530551}"
      ]
     },
     "execution_count": 69,
     "metadata": {},
     "output_type": "execute_result"
    }
   ],
   "source": [
    "cond_coverage"
   ]
  },
  {
   "cell_type": "code",
   "execution_count": 70,
   "id": "f5093324-c3dd-4d63-bc4c-8d945e5c8bbb",
   "metadata": {
    "execution": {
     "iopub.execute_input": "2025-07-30T13:26:49.482719Z",
     "iopub.status.busy": "2025-07-30T13:26:49.482283Z",
     "iopub.status.idle": "2025-07-30T13:26:49.489316Z",
     "shell.execute_reply": "2025-07-30T13:26:49.488355Z"
    },
    "papermill": {
     "duration": 0.036269,
     "end_time": "2025-07-30T13:26:49.491033",
     "exception": false,
     "start_time": "2025-07-30T13:26:49.454764",
     "status": "completed"
    },
    "tags": []
   },
   "outputs": [],
   "source": [
    "for subgroup, cov in cond_coverage.items():\n",
    "    cp_metrics_df[f\"cov_{subgroup}\"] = cov"
   ]
  },
  {
   "cell_type": "code",
   "execution_count": 71,
   "id": "6e872e10-dbe5-49e8-b554-5030c98ff75d",
   "metadata": {
    "execution": {
     "iopub.execute_input": "2025-07-30T13:26:49.542642Z",
     "iopub.status.busy": "2025-07-30T13:26:49.541907Z",
     "iopub.status.idle": "2025-07-30T13:26:49.559378Z",
     "shell.execute_reply": "2025-07-30T13:26:49.558257Z"
    },
    "papermill": {
     "duration": 0.044621,
     "end_time": "2025-07-30T13:26:49.561148",
     "exception": false,
     "start_time": "2025-07-30T13:26:49.516527",
     "status": "completed"
    },
    "tags": []
   },
   "outputs": [
    {
     "data": {
      "text/html": [
       "<div>\n",
       "<style scoped>\n",
       "    .dataframe tbody tr th:only-of-type {\n",
       "        vertical-align: middle;\n",
       "    }\n",
       "\n",
       "    .dataframe tbody tr th {\n",
       "        vertical-align: top;\n",
       "    }\n",
       "\n",
       "    .dataframe thead th {\n",
       "        text-align: right;\n",
       "    }\n",
       "</style>\n",
       "<table border=\"1\" class=\"dataframe\">\n",
       "  <thead>\n",
       "    <tr style=\"text-align: right;\">\n",
       "      <th></th>\n",
       "      <th>universe_id</th>\n",
       "      <th>universe_training_size</th>\n",
       "      <th>universe_scale</th>\n",
       "      <th>universe_model</th>\n",
       "      <th>universe_exclude_features</th>\n",
       "      <th>universe_exclude_subgroups</th>\n",
       "      <th>q_hat</th>\n",
       "      <th>coverage</th>\n",
       "      <th>avg_size</th>\n",
       "      <th>cov_frau1</th>\n",
       "      <th>cov_nongerman</th>\n",
       "      <th>cov_nongerman_male</th>\n",
       "      <th>cov_nongerman_female</th>\n",
       "    </tr>\n",
       "  </thead>\n",
       "  <tbody>\n",
       "    <tr>\n",
       "      <th>0</th>\n",
       "      <td>50ad0429ef9623fa1dc1365266e59c52</td>\n",
       "      <td>25k</td>\n",
       "      <td>scale</td>\n",
       "      <td>gbm</td>\n",
       "      <td>none</td>\n",
       "      <td>drop-non-german</td>\n",
       "      <td>0.664435</td>\n",
       "      <td>0.912083</td>\n",
       "      <td>1.117256</td>\n",
       "      <td>0.91139</td>\n",
       "      <td>0.910795</td>\n",
       "      <td>0.926596</td>\n",
       "      <td>0.88465</td>\n",
       "    </tr>\n",
       "  </tbody>\n",
       "</table>\n",
       "</div>"
      ],
      "text/plain": [
       "                        universe_id universe_training_size universe_scale  \\\n",
       "0  50ad0429ef9623fa1dc1365266e59c52                    25k          scale   \n",
       "\n",
       "  universe_model universe_exclude_features universe_exclude_subgroups  \\\n",
       "0            gbm                      none            drop-non-german   \n",
       "\n",
       "      q_hat  coverage  avg_size  cov_frau1  cov_nongerman  cov_nongerman_male  \\\n",
       "0  0.664435  0.912083  1.117256    0.91139       0.910795            0.926596   \n",
       "\n",
       "   cov_nongerman_female  \n",
       "0               0.88465  "
      ]
     },
     "execution_count": 71,
     "metadata": {},
     "output_type": "execute_result"
    }
   ],
   "source": [
    "cp_metrics_df"
   ]
  },
  {
   "cell_type": "markdown",
   "id": "33774451",
   "metadata": {
    "papermill": {
     "duration": 0.025584,
     "end_time": "2025-07-30T13:26:49.612401",
     "exception": false,
     "start_time": "2025-07-30T13:26:49.586817",
     "status": "completed"
    },
    "tags": []
   },
   "source": [
    "# (Fairness) Metrics"
   ]
  },
  {
   "cell_type": "code",
   "execution_count": 72,
   "id": "debc5d62",
   "metadata": {
    "execution": {
     "iopub.execute_input": "2025-07-30T13:26:49.663818Z",
     "iopub.status.busy": "2025-07-30T13:26:49.662870Z",
     "iopub.status.idle": "2025-07-30T13:26:49.686815Z",
     "shell.execute_reply": "2025-07-30T13:26:49.685924Z"
    },
    "papermill": {
     "duration": 0.051311,
     "end_time": "2025-07-30T13:26:49.688407",
     "exception": false,
     "start_time": "2025-07-30T13:26:49.637096",
     "status": "completed"
    },
    "tags": []
   },
   "outputs": [],
   "source": [
    "# do I need to include maxdeutsch1.missing?\n",
    "\n",
    "import numpy as np\n",
    "\n",
    "colname_to_bin = \"maxdeutsch1\"\n",
    "majority_value = org_train[colname_to_bin].mode()[0]\n",
    "\n",
    "org_test[\"majmin\"] = np.where(org_test[colname_to_bin] == majority_value, \"majority\", \"minority\")"
   ]
  },
  {
   "cell_type": "code",
   "execution_count": 73,
   "id": "06a50de5",
   "metadata": {
    "execution": {
     "iopub.execute_input": "2025-07-30T13:26:49.744547Z",
     "iopub.status.busy": "2025-07-30T13:26:49.744128Z",
     "iopub.status.idle": "2025-07-30T13:26:52.542199Z",
     "shell.execute_reply": "2025-07-30T13:26:52.541163Z"
    },
    "papermill": {
     "duration": 2.830358,
     "end_time": "2025-07-30T13:26:52.544394",
     "exception": false,
     "start_time": "2025-07-30T13:26:49.714036",
     "status": "completed"
    },
    "tags": []
   },
   "outputs": [],
   "source": [
    "example_universe = universe.copy()\n",
    "example_universe[\"cutoff\"] = example_universe[\"cutoff\"][0]\n",
    "example_universe[\"eval_fairness_grouping\"] = example_universe[\"eval_fairness_grouping\"][0]\n",
    "fairness_dict, metric_frame = universe_analysis.compute_metrics(\n",
    "    example_universe,\n",
    "    y_pred_prob=probs_test,\n",
    "    y_test=y_true,\n",
    "    org_test=org_test,\n",
    ")"
   ]
  },
  {
   "cell_type": "markdown",
   "id": "f95d4e02",
   "metadata": {
    "papermill": {
     "duration": 0.030709,
     "end_time": "2025-07-30T13:26:52.606714",
     "exception": false,
     "start_time": "2025-07-30T13:26:52.576005",
     "status": "completed"
    },
    "tags": []
   },
   "source": [
    "# Overall"
   ]
  },
  {
   "cell_type": "markdown",
   "id": "bdee4871",
   "metadata": {
    "papermill": {
     "duration": 0.028704,
     "end_time": "2025-07-30T13:26:52.665315",
     "exception": false,
     "start_time": "2025-07-30T13:26:52.636611",
     "status": "completed"
    },
    "tags": []
   },
   "source": [
    "Fairness\n",
    "Main fairness target: Equalized Odds. Seems to be a better fit than equal opportunity, since we're not only interested in Y = 1. Seems to be a better fit than demographic parity, since we also care about accuracy, not just equal distribution of preds.\n",
    "\n",
    "Pick column for computation of fairness metrics\n",
    "\n",
    "Performance\n",
    "Overall performance measures, most interesting in relation to the measures split by group below"
   ]
  },
  {
   "cell_type": "code",
   "execution_count": 74,
   "id": "c4e067c6",
   "metadata": {
    "execution": {
     "iopub.execute_input": "2025-07-30T13:26:52.729156Z",
     "iopub.status.busy": "2025-07-30T13:26:52.728556Z",
     "iopub.status.idle": "2025-07-30T13:26:52.739538Z",
     "shell.execute_reply": "2025-07-30T13:26:52.738331Z"
    },
    "papermill": {
     "duration": 0.046812,
     "end_time": "2025-07-30T13:26:52.741610",
     "exception": false,
     "start_time": "2025-07-30T13:26:52.694798",
     "status": "completed"
    },
    "tags": []
   },
   "outputs": [
    {
     "data": {
      "text/plain": [
       "accuracy                   0.225516\n",
       "balanced accuracy          0.551177\n",
       "f1                         0.246816\n",
       "precision                  0.140998\n",
       "false positive rate        0.886870\n",
       "false negative rate        0.010775\n",
       "selection rate             0.900000\n",
       "count                  89710.000000\n",
       "dtype: float64"
      ]
     },
     "execution_count": 74,
     "metadata": {},
     "output_type": "execute_result"
    }
   ],
   "source": [
    "metric_frame.overall"
   ]
  },
  {
   "cell_type": "markdown",
   "id": "e968fe9d",
   "metadata": {
    "papermill": {
     "duration": 0.030546,
     "end_time": "2025-07-30T13:26:52.803908",
     "exception": false,
     "start_time": "2025-07-30T13:26:52.773362",
     "status": "completed"
    },
    "tags": []
   },
   "source": [
    "By Group"
   ]
  },
  {
   "cell_type": "code",
   "execution_count": 75,
   "id": "ec325bce",
   "metadata": {
    "execution": {
     "iopub.execute_input": "2025-07-30T13:26:52.868934Z",
     "iopub.status.busy": "2025-07-30T13:26:52.868464Z",
     "iopub.status.idle": "2025-07-30T13:26:52.887428Z",
     "shell.execute_reply": "2025-07-30T13:26:52.886459Z"
    },
    "papermill": {
     "duration": 0.053363,
     "end_time": "2025-07-30T13:26:52.889132",
     "exception": false,
     "start_time": "2025-07-30T13:26:52.835769",
     "status": "completed"
    },
    "tags": []
   },
   "outputs": [
    {
     "data": {
      "text/html": [
       "<div>\n",
       "<style scoped>\n",
       "    .dataframe tbody tr th:only-of-type {\n",
       "        vertical-align: middle;\n",
       "    }\n",
       "\n",
       "    .dataframe tbody tr th {\n",
       "        vertical-align: top;\n",
       "    }\n",
       "\n",
       "    .dataframe thead th {\n",
       "        text-align: right;\n",
       "    }\n",
       "</style>\n",
       "<table border=\"1\" class=\"dataframe\">\n",
       "  <thead>\n",
       "    <tr style=\"text-align: right;\">\n",
       "      <th></th>\n",
       "      <th>accuracy</th>\n",
       "      <th>balanced accuracy</th>\n",
       "      <th>f1</th>\n",
       "      <th>precision</th>\n",
       "      <th>false positive rate</th>\n",
       "      <th>false negative rate</th>\n",
       "      <th>selection rate</th>\n",
       "      <th>count</th>\n",
       "    </tr>\n",
       "    <tr>\n",
       "      <th>majmin</th>\n",
       "      <th></th>\n",
       "      <th></th>\n",
       "      <th></th>\n",
       "      <th></th>\n",
       "      <th></th>\n",
       "      <th></th>\n",
       "      <th></th>\n",
       "      <th></th>\n",
       "    </tr>\n",
       "  </thead>\n",
       "  <tbody>\n",
       "    <tr>\n",
       "      <th>majority</th>\n",
       "      <td>0.245092</td>\n",
       "      <td>0.559974</td>\n",
       "      <td>0.256983</td>\n",
       "      <td>0.147701</td>\n",
       "      <td>0.868016</td>\n",
       "      <td>0.012035</td>\n",
       "      <td>0.883866</td>\n",
       "      <td>69170.0</td>\n",
       "    </tr>\n",
       "    <tr>\n",
       "      <th>minority</th>\n",
       "      <td>0.159591</td>\n",
       "      <td>0.522468</td>\n",
       "      <td>0.214292</td>\n",
       "      <td>0.120090</td>\n",
       "      <td>0.949153</td>\n",
       "      <td>0.005912</td>\n",
       "      <td>0.954333</td>\n",
       "      <td>20540.0</td>\n",
       "    </tr>\n",
       "  </tbody>\n",
       "</table>\n",
       "</div>"
      ],
      "text/plain": [
       "          accuracy  balanced accuracy        f1  precision  \\\n",
       "majmin                                                       \n",
       "majority  0.245092           0.559974  0.256983   0.147701   \n",
       "minority  0.159591           0.522468  0.214292   0.120090   \n",
       "\n",
       "          false positive rate  false negative rate  selection rate    count  \n",
       "majmin                                                                       \n",
       "majority             0.868016             0.012035        0.883866  69170.0  \n",
       "minority             0.949153             0.005912        0.954333  20540.0  "
      ]
     },
     "execution_count": 75,
     "metadata": {},
     "output_type": "execute_result"
    }
   ],
   "source": [
    "metric_frame.by_group"
   ]
  },
  {
   "cell_type": "code",
   "execution_count": 76,
   "id": "a9ddbe63",
   "metadata": {
    "execution": {
     "iopub.execute_input": "2025-07-30T13:26:52.954419Z",
     "iopub.status.busy": "2025-07-30T13:26:52.953802Z",
     "iopub.status.idle": "2025-07-30T13:26:55.546881Z",
     "shell.execute_reply": "2025-07-30T13:26:55.545770Z"
    },
    "papermill": {
     "duration": 2.627647,
     "end_time": "2025-07-30T13:26:55.548598",
     "exception": false,
     "start_time": "2025-07-30T13:26:52.920951",
     "status": "completed"
    },
    "tags": []
   },
   "outputs": [
    {
     "data": {
      "text/plain": [
       "array([[<Axes: title={'center': 'accuracy'}, xlabel='majmin'>,\n",
       "        <Axes: title={'center': 'balanced accuracy'}, xlabel='majmin'>,\n",
       "        <Axes: title={'center': 'f1'}, xlabel='majmin'>],\n",
       "       [<Axes: title={'center': 'precision'}, xlabel='majmin'>,\n",
       "        <Axes: title={'center': 'false positive rate'}, xlabel='majmin'>,\n",
       "        <Axes: title={'center': 'false negative rate'}, xlabel='majmin'>],\n",
       "       [<Axes: title={'center': 'selection rate'}, xlabel='majmin'>,\n",
       "        <Axes: title={'center': 'count'}, xlabel='majmin'>,\n",
       "        <Axes: xlabel='majmin'>]], dtype=object)"
      ]
     },
     "execution_count": 76,
     "metadata": {},
     "output_type": "execute_result"
    },
    {
     "data": {
      "image/png": "[encoded data removed]",
      "text/plain": [
       "<Figure size 1200x800 with 9 Axes>"
      ]
     },
     "metadata": {},
     "output_type": "display_data"
    }
   ],
   "source": [
    "# In a graphic\n",
    "metric_frame.by_group.plot.bar(\n",
    "    subplots=True,\n",
    "    layout=[3, 3],\n",
    "    legend=False,\n",
    "    figsize=[12, 8],\n",
    "    title=\"Show all metrics\",\n",
    ")"
   ]
  },
  {
   "cell_type": "markdown",
   "id": "f57a0bac",
   "metadata": {
    "papermill": {
     "duration": 0.027872,
     "end_time": "2025-07-30T13:26:55.609516",
     "exception": false,
     "start_time": "2025-07-30T13:26:55.581644",
     "status": "completed"
    },
    "tags": []
   },
   "source": [
    "# Final Output"
   ]
  },
  {
   "cell_type": "code",
   "execution_count": 77,
   "id": "96d280a3",
   "metadata": {
    "execution": {
     "iopub.execute_input": "2025-07-30T13:26:55.668138Z",
     "iopub.status.busy": "2025-07-30T13:26:55.666957Z",
     "iopub.status.idle": "2025-07-30T13:26:55.678128Z",
     "shell.execute_reply": "2025-07-30T13:26:55.676952Z"
    },
    "papermill": {
     "duration": 0.041585,
     "end_time": "2025-07-30T13:26:55.679736",
     "exception": false,
     "start_time": "2025-07-30T13:26:55.638151",
     "status": "completed"
    },
    "tags": []
   },
   "outputs": [
    {
     "data": {
      "text/plain": [
       "4"
      ]
     },
     "execution_count": 77,
     "metadata": {},
     "output_type": "execute_result"
    }
   ],
   "source": [
    "sub_universes = universe_analysis.generate_sub_universes()\n",
    "len(sub_universes)"
   ]
  },
  {
   "cell_type": "code",
   "execution_count": 78,
   "id": "92adf7ba",
   "metadata": {
    "execution": {
     "iopub.execute_input": "2025-07-30T13:26:55.745497Z",
     "iopub.status.busy": "2025-07-30T13:26:55.744917Z",
     "iopub.status.idle": "2025-07-30T13:26:55.751148Z",
     "shell.execute_reply": "2025-07-30T13:26:55.750165Z"
    },
    "papermill": {
     "duration": 0.041059,
     "end_time": "2025-07-30T13:26:55.752958",
     "exception": false,
     "start_time": "2025-07-30T13:26:55.711899",
     "status": "completed"
    },
    "tags": []
   },
   "outputs": [],
   "source": [
    "def filter_sub_universe_data(sub_universe, org_test):\n",
    "    # Keep all rows — no filtering\n",
    "    keep_rows_mask = np.ones(org_test.shape[0], dtype=bool)\n",
    "\n",
    "    print(f\"[INFO] Keeping all rows: {keep_rows_mask.sum()} rows retained.\")\n",
    "    return keep_rows_mask"
   ]
  },
  {
   "cell_type": "code",
   "execution_count": 79,
   "id": "4a759155",
   "metadata": {
    "execution": {
     "iopub.execute_input": "2025-07-30T13:26:55.816992Z",
     "iopub.status.busy": "2025-07-30T13:26:55.816437Z",
     "iopub.status.idle": "2025-07-30T13:27:06.733365Z",
     "shell.execute_reply": "2025-07-30T13:27:06.732468Z"
    },
    "papermill": {
     "duration": 10.952044,
     "end_time": "2025-07-30T13:27:06.734983",
     "exception": false,
     "start_time": "2025-07-30T13:26:55.782939",
     "status": "completed"
    },
    "tags": []
   },
   "outputs": [
    {
     "name": "stdout",
     "output_type": "stream",
     "text": [
      "Stopping execution_time clock.\n",
      "[INFO] Keeping all rows: 89710 rows retained.\n"
     ]
    },
    {
     "name": "stdout",
     "output_type": "stream",
     "text": [
      "[INFO] Keeping all rows: 89710 rows retained.\n"
     ]
    },
    {
     "name": "stdout",
     "output_type": "stream",
     "text": [
      "[INFO] Keeping all rows: 89710 rows retained.\n"
     ]
    },
    {
     "name": "stdout",
     "output_type": "stream",
     "text": [
      "[INFO] Keeping all rows: 89710 rows retained.\n"
     ]
    },
    {
     "data": {
      "text/html": [
       "<div>\n",
       "<style scoped>\n",
       "    .dataframe tbody tr th:only-of-type {\n",
       "        vertical-align: middle;\n",
       "    }\n",
       "\n",
       "    .dataframe tbody tr th {\n",
       "        vertical-align: top;\n",
       "    }\n",
       "\n",
       "    .dataframe thead th {\n",
       "        text-align: right;\n",
       "    }\n",
       "</style>\n",
       "<table border=\"1\" class=\"dataframe\">\n",
       "  <thead>\n",
       "    <tr style=\"text-align: right;\">\n",
       "      <th></th>\n",
       "      <th>run_no</th>\n",
       "      <th>universe_id</th>\n",
       "      <th>universe_settings</th>\n",
       "      <th>execution_time</th>\n",
       "      <th>test_size_n</th>\n",
       "      <th>test_size_frac</th>\n",
       "      <th>fair_main_equalized_odds_difference</th>\n",
       "      <th>fair_main_equalized_odds_ratio</th>\n",
       "      <th>fair_main_demographic_parity_difference</th>\n",
       "      <th>fair_main_demographic_parity_ratio</th>\n",
       "      <th>...</th>\n",
       "      <th>perf_grp_precision_0</th>\n",
       "      <th>perf_grp_precision_1</th>\n",
       "      <th>perf_grp_false positive rate_0</th>\n",
       "      <th>perf_grp_false positive rate_1</th>\n",
       "      <th>perf_grp_false negative rate_0</th>\n",
       "      <th>perf_grp_false negative rate_1</th>\n",
       "      <th>perf_grp_selection rate_0</th>\n",
       "      <th>perf_grp_selection rate_1</th>\n",
       "      <th>perf_grp_count_0</th>\n",
       "      <th>perf_grp_count_1</th>\n",
       "    </tr>\n",
       "  </thead>\n",
       "  <tbody>\n",
       "    <tr>\n",
       "      <th>0</th>\n",
       "      <td>12</td>\n",
       "      <td>50ad0429ef9623fa1dc1365266e59c52</td>\n",
       "      <td>{\"cutoff\": \"quantile_0.1\", \"eval_fairness_grou...</td>\n",
       "      <td>55.869743</td>\n",
       "      <td>89710</td>\n",
       "      <td>1.0</td>\n",
       "      <td>0.081137</td>\n",
       "      <td>0.914517</td>\n",
       "      <td>0.070467</td>\n",
       "      <td>0.926161</td>\n",
       "      <td>...</td>\n",
       "      <td>NaN</td>\n",
       "      <td>NaN</td>\n",
       "      <td>NaN</td>\n",
       "      <td>NaN</td>\n",
       "      <td>NaN</td>\n",
       "      <td>NaN</td>\n",
       "      <td>NaN</td>\n",
       "      <td>NaN</td>\n",
       "      <td>NaN</td>\n",
       "      <td>NaN</td>\n",
       "    </tr>\n",
       "    <tr>\n",
       "      <th>0</th>\n",
       "      <td>12</td>\n",
       "      <td>50ad0429ef9623fa1dc1365266e59c52</td>\n",
       "      <td>{\"cutoff\": \"quantile_0.1\", \"eval_fairness_grou...</td>\n",
       "      <td>55.869743</td>\n",
       "      <td>89710</td>\n",
       "      <td>1.0</td>\n",
       "      <td>0.081137</td>\n",
       "      <td>0.914517</td>\n",
       "      <td>0.070467</td>\n",
       "      <td>0.926161</td>\n",
       "      <td>...</td>\n",
       "      <td>0.120090</td>\n",
       "      <td>0.147701</td>\n",
       "      <td>0.949153</td>\n",
       "      <td>0.868016</td>\n",
       "      <td>0.005912</td>\n",
       "      <td>0.012035</td>\n",
       "      <td>0.954333</td>\n",
       "      <td>0.883866</td>\n",
       "      <td>20540.0</td>\n",
       "      <td>69170.0</td>\n",
       "    </tr>\n",
       "    <tr>\n",
       "      <th>0</th>\n",
       "      <td>12</td>\n",
       "      <td>50ad0429ef9623fa1dc1365266e59c52</td>\n",
       "      <td>{\"cutoff\": \"quantile_0.25\", \"eval_fairness_gro...</td>\n",
       "      <td>55.869743</td>\n",
       "      <td>89710</td>\n",
       "      <td>1.0</td>\n",
       "      <td>0.076167</td>\n",
       "      <td>0.902245</td>\n",
       "      <td>0.061003</td>\n",
       "      <td>0.923462</td>\n",
       "      <td>...</td>\n",
       "      <td>NaN</td>\n",
       "      <td>NaN</td>\n",
       "      <td>NaN</td>\n",
       "      <td>NaN</td>\n",
       "      <td>NaN</td>\n",
       "      <td>NaN</td>\n",
       "      <td>NaN</td>\n",
       "      <td>NaN</td>\n",
       "      <td>NaN</td>\n",
       "      <td>NaN</td>\n",
       "    </tr>\n",
       "    <tr>\n",
       "      <th>0</th>\n",
       "      <td>12</td>\n",
       "      <td>50ad0429ef9623fa1dc1365266e59c52</td>\n",
       "      <td>{\"cutoff\": \"quantile_0.25\", \"eval_fairness_gro...</td>\n",
       "      <td>55.869743</td>\n",
       "      <td>89710</td>\n",
       "      <td>1.0</td>\n",
       "      <td>0.076167</td>\n",
       "      <td>0.902245</td>\n",
       "      <td>0.061003</td>\n",
       "      <td>0.923462</td>\n",
       "      <td>...</td>\n",
       "      <td>0.135117</td>\n",
       "      <td>0.171083</td>\n",
       "      <td>0.779166</td>\n",
       "      <td>0.702999</td>\n",
       "      <td>0.065878</td>\n",
       "      <td>0.047046</td>\n",
       "      <td>0.797030</td>\n",
       "      <td>0.736027</td>\n",
       "      <td>20540.0</td>\n",
       "      <td>69170.0</td>\n",
       "    </tr>\n",
       "  </tbody>\n",
       "</table>\n",
       "<p>4 rows × 50 columns</p>\n",
       "</div>"
      ],
      "text/plain": [
       "  run_no                       universe_id  \\\n",
       "0     12  50ad0429ef9623fa1dc1365266e59c52   \n",
       "0     12  50ad0429ef9623fa1dc1365266e59c52   \n",
       "0     12  50ad0429ef9623fa1dc1365266e59c52   \n",
       "0     12  50ad0429ef9623fa1dc1365266e59c52   \n",
       "\n",
       "                                   universe_settings  execution_time  \\\n",
       "0  {\"cutoff\": \"quantile_0.1\", \"eval_fairness_grou...       55.869743   \n",
       "0  {\"cutoff\": \"quantile_0.1\", \"eval_fairness_grou...       55.869743   \n",
       "0  {\"cutoff\": \"quantile_0.25\", \"eval_fairness_gro...       55.869743   \n",
       "0  {\"cutoff\": \"quantile_0.25\", \"eval_fairness_gro...       55.869743   \n",
       "\n",
       "   test_size_n  test_size_frac  fair_main_equalized_odds_difference  \\\n",
       "0        89710             1.0                             0.081137   \n",
       "0        89710             1.0                             0.081137   \n",
       "0        89710             1.0                             0.076167   \n",
       "0        89710             1.0                             0.076167   \n",
       "\n",
       "   fair_main_equalized_odds_ratio  fair_main_demographic_parity_difference  \\\n",
       "0                        0.914517                                 0.070467   \n",
       "0                        0.914517                                 0.070467   \n",
       "0                        0.902245                                 0.061003   \n",
       "0                        0.902245                                 0.061003   \n",
       "\n",
       "   fair_main_demographic_parity_ratio  ...  perf_grp_precision_0  \\\n",
       "0                            0.926161  ...                   NaN   \n",
       "0                            0.926161  ...              0.120090   \n",
       "0                            0.923462  ...                   NaN   \n",
       "0                            0.923462  ...              0.135117   \n",
       "\n",
       "   perf_grp_precision_1  perf_grp_false positive rate_0  \\\n",
       "0                   NaN                             NaN   \n",
       "0              0.147701                        0.949153   \n",
       "0                   NaN                             NaN   \n",
       "0              0.171083                        0.779166   \n",
       "\n",
       "   perf_grp_false positive rate_1  perf_grp_false negative rate_0  \\\n",
       "0                             NaN                             NaN   \n",
       "0                        0.868016                        0.005912   \n",
       "0                             NaN                             NaN   \n",
       "0                        0.702999                        0.065878   \n",
       "\n",
       "   perf_grp_false negative rate_1  perf_grp_selection rate_0  \\\n",
       "0                             NaN                        NaN   \n",
       "0                        0.012035                   0.954333   \n",
       "0                             NaN                        NaN   \n",
       "0                        0.047046                   0.797030   \n",
       "\n",
       "   perf_grp_selection rate_1  perf_grp_count_0  perf_grp_count_1  \n",
       "0                        NaN               NaN               NaN  \n",
       "0                   0.883866           20540.0           69170.0  \n",
       "0                        NaN               NaN               NaN  \n",
       "0                   0.736027           20540.0           69170.0  \n",
       "\n",
       "[4 rows x 50 columns]"
      ]
     },
     "execution_count": 79,
     "metadata": {},
     "output_type": "execute_result"
    }
   ],
   "source": [
    "final_output = universe_analysis.generate_final_output(\n",
    "    y_pred_prob=probs_test,\n",
    "    y_test=y_true,\n",
    "    org_test=org_test,\n",
    "    filter_data=filter_sub_universe_data,\n",
    "    cp_metrics_df=cp_metrics_df,\n",
    "    save=True,\n",
    ")\n",
    "final_output"
   ]
  },
  {
   "cell_type": "code",
   "execution_count": null,
   "id": "721ff514-cb11-46f8-b6fc-50392f74b5cb",
   "metadata": {
    "papermill": {
     "duration": 0.028726,
     "end_time": "2025-07-30T13:27:06.796006",
     "exception": false,
     "start_time": "2025-07-30T13:27:06.767280",
     "status": "completed"
    },
    "tags": []
   },
   "outputs": [],
   "source": []
  }
 ],
 "metadata": {
  "celltoolbar": "Tags",
  "kernelspec": {
   "display_name": "Python (CMA Fairness)",
   "language": "python",
   "name": "cma_fair_env"
  },
  "language_info": {
   "codemirror_mode": {
    "name": "ipython",
    "version": 3
   },
   "file_extension": ".py",
   "mimetype": "text/x-python",
   "name": "python",
   "nbconvert_exporter": "python",
   "pygments_lexer": "ipython3",
   "version": "3.10.12"
  },
  "papermill": {
   "default_parameters": {},
   "duration": 70.889233,
   "end_time": "2025-07-30T13:27:07.645837",
   "environment_variables": {},
   "exception": null,
   "input_path": "universe_analysis.ipynb",
   "output_path": "output/runs/12/notebooks/m_12-50ad0429ef9623fa1dc1365266e59c52.ipynb",
   "parameters": {
    "output_dir": "output",
    "run_no": "12",
    "seed": "2023",
    "universe": "{\"cutoff\": [\"quantile_0.1\", \"quantile_0.25\"], \"eval_fairness_grouping\": [\"majority-minority\", \"nationality-all\"], \"exclude_features\": \"none\", \"exclude_subgroups\": \"drop-non-german\", \"model\": \"gbm\", \"scale\": \"scale\", \"training_size\": \"25k\", \"training_year\": \"2010_14\"}",
    "universe_id": "50ad0429ef9623fa1dc1365266e59c52"
   },
   "start_time": "2025-07-30T13:25:56.756604",
   "version": "2.6.0"
  }
 },
 "nbformat": 4,
 "nbformat_minor": 5
}