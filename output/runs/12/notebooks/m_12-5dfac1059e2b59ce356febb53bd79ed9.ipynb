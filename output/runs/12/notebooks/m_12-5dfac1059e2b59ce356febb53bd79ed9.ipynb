{
 "cells": [
  {
   "cell_type": "code",
   "execution_count": 1,
   "id": "f159f837-637b-42ba-96b5-ec9a68c44524",
   "metadata": {
    "execution": {
     "iopub.execute_input": "2025-07-30T14:07:15.735875Z",
     "iopub.status.busy": "2025-07-30T14:07:15.735325Z",
     "iopub.status.idle": "2025-07-30T14:07:15.751275Z",
     "shell.execute_reply": "2025-07-30T14:07:15.750368Z"
    },
    "papermill": {
     "duration": 0.042711,
     "end_time": "2025-07-30T14:07:15.753173",
     "exception": false,
     "start_time": "2025-07-30T14:07:15.710462",
     "status": "completed"
    },
    "tags": []
   },
   "outputs": [
    {
     "name": "stdout",
     "output_type": "stream",
     "text": [
      "/dss/dsshome1/0C/ra93lal2/cma/CMA_Fairness_v2\n"
     ]
    },
    {
     "name": "stderr",
     "output_type": "stream",
     "text": [
      "/dss/dsshome1/0C/ra93lal2/.local/share/virtualenvs/CMA_Fairness_v2-3j10GkSs/lib/python3.10/site-packages/IPython/core/magics/osm.py:393: UserWarning: This is now an optional IPython functionality, using bookmarks requires you to install the `pickleshare` library.\n",
      "  bkms = self.shell.db.get('bookmarks', {})\n",
      "/dss/dsshome1/0C/ra93lal2/.local/share/virtualenvs/CMA_Fairness_v2-3j10GkSs/lib/python3.10/site-packages/IPython/core/magics/osm.py:417: UserWarning: This is now an optional IPython functionality, setting dhist requires you to install the `pickleshare` library.\n",
      "  self.shell.db['dhist'] = compress_dhist(dhist)[-100:]\n"
     ]
    }
   ],
   "source": [
    "%cd ~/cma/CMA_Fairness_v2"
   ]
  },
  {
   "cell_type": "markdown",
   "id": "de2603b9",
   "metadata": {
    "papermill": {
     "duration": 0.018218,
     "end_time": "2025-07-30T14:07:15.789996",
     "exception": false,
     "start_time": "2025-07-30T14:07:15.771778",
     "status": "completed"
    },
    "tags": []
   },
   "source": [
    "The following cell holds the definition of our parameters, these values can be overriden by rendering the with e.g. the following command:\n",
    "\n",
    "papermill -p alpha 0.2 -p ratio 0.3 universe_analysis.ipynb output/test_run.ipynb"
   ]
  },
  {
   "cell_type": "code",
   "execution_count": 2,
   "id": "a80968a0-40bb-4fa9-85ef-2d5eefb01975",
   "metadata": {
    "execution": {
     "iopub.execute_input": "2025-07-30T14:07:15.829555Z",
     "iopub.status.busy": "2025-07-30T14:07:15.829066Z",
     "iopub.status.idle": "2025-07-30T14:07:15.834622Z",
     "shell.execute_reply": "2025-07-30T14:07:15.833526Z"
    },
    "papermill": {
     "duration": 0.02665,
     "end_time": "2025-07-30T14:07:15.836461",
     "exception": false,
     "start_time": "2025-07-30T14:07:15.809811",
     "status": "completed"
    },
    "tags": []
   },
   "outputs": [
    {
     "name": "stdout",
     "output_type": "stream",
     "text": [
      "Current working directory: /dss/dsshome1/0C/ra93lal2/cma/CMA_Fairness_v2\n"
     ]
    }
   ],
   "source": [
    "import os\n",
    "print(\"Current working directory:\", os.getcwd())"
   ]
  },
  {
   "cell_type": "code",
   "execution_count": 3,
   "id": "2dce4c03",
   "metadata": {
    "execution": {
     "iopub.execute_input": "2025-07-30T14:07:15.876303Z",
     "iopub.status.busy": "2025-07-30T14:07:15.875588Z",
     "iopub.status.idle": "2025-07-30T14:07:15.882146Z",
     "shell.execute_reply": "2025-07-30T14:07:15.881273Z"
    },
    "papermill": {
     "duration": 0.027568,
     "end_time": "2025-07-30T14:07:15.883863",
     "exception": false,
     "start_time": "2025-07-30T14:07:15.856295",
     "status": "completed"
    },
    "tags": [
     "parameters"
    ]
   },
   "outputs": [],
   "source": [
    "run_no = 0\n",
    "universe_id = \"test\"\n",
    "universe = {\n",
    "    \"training_size\": \"25k\", # \"25k\", \"5k\", \"1k\"\n",
    "    \"training_year\": \"2014\", # \"2014\", \"2012_14\", \"2010_14\"\n",
    "    \"scale\": \"scale\", # \"scale\", \"do-not-scale\",\n",
    "    #\"stratify_split\": \"target\", # \"none\", \"target\", \"protected-attribute\", \"both\",\n",
    "    \"model\": \"elasticnet\", # \"logreg\", \"penalized_logreg\", \"rf\", \"gbm\", \"elasticnet\"\n",
    "    \"cutoff\": [\"quantile_0.15\", \"quantile_0.30\"],\n",
    "    \"exclude_features\": \"age\", # \"none\", \"nationality\", \"sex\", \"nationality-sex\", \"age\"\n",
    "    \"exclude_subgroups\": \"keep-all\", # \"keep-all\", \"drop-non-german\"\n",
    "    \"eval_fairness_grouping\": [\"majority-minority\", \"nationality-all\"]\n",
    "}\n",
    "\n",
    "output_dir=\"./output\"\n",
    "seed=0"
   ]
  },
  {
   "cell_type": "code",
   "execution_count": 4,
   "id": "8824776c",
   "metadata": {
    "execution": {
     "iopub.execute_input": "2025-07-30T14:07:15.923504Z",
     "iopub.status.busy": "2025-07-30T14:07:15.923021Z",
     "iopub.status.idle": "2025-07-30T14:07:15.928300Z",
     "shell.execute_reply": "2025-07-30T14:07:15.927297Z"
    },
    "papermill": {
     "duration": 0.026778,
     "end_time": "2025-07-30T14:07:15.929986",
     "exception": false,
     "start_time": "2025-07-30T14:07:15.903208",
     "status": "completed"
    },
    "tags": [
     "injected-parameters"
    ]
   },
   "outputs": [],
   "source": [
    "# Parameters\n",
    "universe_id = \"5dfac1059e2b59ce356febb53bd79ed9\"\n",
    "run_no = \"12\"\n",
    "universe = \"{\\\"cutoff\\\": [\\\"quantile_0.1\\\", \\\"quantile_0.25\\\"], \\\"eval_fairness_grouping\\\": [\\\"majority-minority\\\", \\\"nationality-all\\\"], \\\"exclude_features\\\": \\\"nationality\\\", \\\"exclude_subgroups\\\": \\\"keep-all\\\", \\\"model\\\": \\\"penalized_logreg\\\", \\\"scale\\\": \\\"scale\\\", \\\"training_size\\\": \\\"5k\\\", \\\"training_year\\\": \\\"2010_14\\\"}\"\n",
    "output_dir = \"output\"\n",
    "seed = \"2023\"\n"
   ]
  },
  {
   "cell_type": "code",
   "execution_count": 5,
   "id": "1650acaf",
   "metadata": {
    "execution": {
     "iopub.execute_input": "2025-07-30T14:07:15.971664Z",
     "iopub.status.busy": "2025-07-30T14:07:15.971212Z",
     "iopub.status.idle": "2025-07-30T14:07:15.976343Z",
     "shell.execute_reply": "2025-07-30T14:07:15.975403Z"
    },
    "papermill": {
     "duration": 0.026763,
     "end_time": "2025-07-30T14:07:15.977883",
     "exception": false,
     "start_time": "2025-07-30T14:07:15.951120",
     "status": "completed"
    },
    "tags": []
   },
   "outputs": [],
   "source": [
    "import json\n",
    "# Parse universe into dict if it is passed as a string\n",
    "if isinstance(universe, str):\n",
    "    universe = json.loads(universe)"
   ]
  },
  {
   "cell_type": "code",
   "execution_count": 6,
   "id": "16620c48",
   "metadata": {
    "execution": {
     "iopub.execute_input": "2025-07-30T14:07:16.018340Z",
     "iopub.status.busy": "2025-07-30T14:07:16.017554Z",
     "iopub.status.idle": "2025-07-30T14:07:16.062149Z",
     "shell.execute_reply": "2025-07-30T14:07:16.061322Z"
    },
    "papermill": {
     "duration": 0.066165,
     "end_time": "2025-07-30T14:07:16.063989",
     "exception": false,
     "start_time": "2025-07-30T14:07:15.997824",
     "status": "completed"
    },
    "tags": []
   },
   "outputs": [],
   "source": [
    "# Auto-reload the custom package\n",
    "%load_ext autoreload\n",
    "%autoreload 1\n",
    "%aimport fairness_multiverse"
   ]
  },
  {
   "cell_type": "code",
   "execution_count": 7,
   "id": "01c5c9f3",
   "metadata": {
    "execution": {
     "iopub.execute_input": "2025-07-30T14:07:16.103706Z",
     "iopub.status.busy": "2025-07-30T14:07:16.102731Z",
     "iopub.status.idle": "2025-07-30T14:07:18.052512Z",
     "shell.execute_reply": "2025-07-30T14:07:18.051590Z"
    },
    "papermill": {
     "duration": 1.97132,
     "end_time": "2025-07-30T14:07:18.054189",
     "exception": false,
     "start_time": "2025-07-30T14:07:16.082869",
     "status": "completed"
    },
    "tags": []
   },
   "outputs": [],
   "source": [
    "from fairness_multiverse.universe import UniverseAnalysis\n",
    "\n",
    "universe_analysis = UniverseAnalysis(\n",
    "    run_no = run_no,\n",
    "    universe_id = universe_id,\n",
    "    universe = universe,\n",
    "    output_dir=output_dir,\n",
    ")"
   ]
  },
  {
   "cell_type": "code",
   "execution_count": 8,
   "id": "106241f5",
   "metadata": {
    "execution": {
     "iopub.execute_input": "2025-07-30T14:07:18.095390Z",
     "iopub.status.busy": "2025-07-30T14:07:18.095007Z",
     "iopub.status.idle": "2025-07-30T14:07:18.100867Z",
     "shell.execute_reply": "2025-07-30T14:07:18.100002Z"
    },
    "papermill": {
     "duration": 0.026625,
     "end_time": "2025-07-30T14:07:18.102090",
     "exception": false,
     "start_time": "2025-07-30T14:07:18.075465",
     "status": "completed"
    },
    "tags": []
   },
   "outputs": [
    {
     "name": "stdout",
     "output_type": "stream",
     "text": [
      "Using Seed: 2023\n"
     ]
    }
   ],
   "source": [
    "import numpy as np\n",
    "parsed_seed = int(seed)\n",
    "np.random.seed(parsed_seed)\n",
    "print(f\"Using Seed: {parsed_seed}\")"
   ]
  },
  {
   "cell_type": "markdown",
   "id": "e0ebdc57",
   "metadata": {
    "papermill": {
     "duration": 0.010006,
     "end_time": "2025-07-30T14:07:18.123458",
     "exception": false,
     "start_time": "2025-07-30T14:07:18.113452",
     "status": "completed"
    },
    "tags": []
   },
   "source": [
    "# Loading Data"
   ]
  },
  {
   "cell_type": "markdown",
   "id": "681925a3",
   "metadata": {
    "papermill": {
     "duration": 0.010095,
     "end_time": "2025-07-30T14:07:18.143803",
     "exception": false,
     "start_time": "2025-07-30T14:07:18.133708",
     "status": "completed"
    },
    "tags": []
   },
   "source": [
    "Load siab_train, siab_test, siab_calib and/or \n",
    "load siab_train_features, siab_train_labels"
   ]
  },
  {
   "cell_type": "code",
   "execution_count": 9,
   "id": "f0496b8a",
   "metadata": {
    "execution": {
     "iopub.execute_input": "2025-07-30T14:07:18.165472Z",
     "iopub.status.busy": "2025-07-30T14:07:18.165124Z",
     "iopub.status.idle": "2025-07-30T14:07:31.059805Z",
     "shell.execute_reply": "2025-07-30T14:07:31.058603Z"
    },
    "papermill": {
     "duration": 12.907593,
     "end_time": "2025-07-30T14:07:31.061673",
     "exception": false,
     "start_time": "2025-07-30T14:07:18.154080",
     "status": "completed"
    },
    "tags": []
   },
   "outputs": [
    {
     "name": "stdout",
     "output_type": "stream",
     "text": [
      "Loading SIAB data from cache: data/siab_cached.csv.gz\n"
     ]
    },
    {
     "name": "stdout",
     "output_type": "stream",
     "text": [
      "(643690, 164)\n"
     ]
    }
   ],
   "source": [
    "from pathlib import Path\n",
    "import pandas as pd\n",
    "\n",
    "# File paths\n",
    "raw_file = Path(\"data/raw/siab.csv\")\n",
    "cache_file = Path(\"data/siab_cached.csv.gz\")\n",
    "\n",
    "# Ensure cache directory exists\n",
    "cache_file.parent.mkdir(parents=True, exist_ok=True)\n",
    "\n",
    "# Load with simple caching\n",
    "if cache_file.exists():\n",
    "    print(f\"Loading SIAB data from cache: {cache_file}\")\n",
    "    siab = pd.read_csv(cache_file, compression='gzip')\n",
    "else:\n",
    "    print(f\"Cache not found. Reading raw SIAB data: {raw_file}\")\n",
    "    siab = pd.read_csv(raw_file)\n",
    "    siab.to_csv(cache_file, index=False, compression='gzip')\n",
    "    print(f\"Cached SIAB data to: {cache_file}\")\n",
    "\n",
    "# Now use `siab` DataFrame as needed\n",
    "print(siab.shape)"
   ]
  },
  {
   "cell_type": "code",
   "execution_count": 10,
   "id": "db0ca512-5f53-4dba-abdb-a2888bca41ba",
   "metadata": {
    "execution": {
     "iopub.execute_input": "2025-07-30T14:07:31.107613Z",
     "iopub.status.busy": "2025-07-30T14:07:31.107078Z",
     "iopub.status.idle": "2025-07-30T14:07:31.113126Z",
     "shell.execute_reply": "2025-07-30T14:07:31.111914Z"
    },
    "papermill": {
     "duration": 0.029845,
     "end_time": "2025-07-30T14:07:31.114863",
     "exception": false,
     "start_time": "2025-07-30T14:07:31.085018",
     "status": "completed"
    },
    "tags": []
   },
   "outputs": [],
   "source": [
    "#siab"
   ]
  },
  {
   "cell_type": "code",
   "execution_count": 11,
   "id": "a0edb063",
   "metadata": {
    "execution": {
     "iopub.execute_input": "2025-07-30T14:07:31.157583Z",
     "iopub.status.busy": "2025-07-30T14:07:31.156789Z",
     "iopub.status.idle": "2025-07-30T14:07:31.162217Z",
     "shell.execute_reply": "2025-07-30T14:07:31.161179Z"
    },
    "papermill": {
     "duration": 0.029479,
     "end_time": "2025-07-30T14:07:31.163913",
     "exception": false,
     "start_time": "2025-07-30T14:07:31.134434",
     "status": "completed"
    },
    "tags": []
   },
   "outputs": [],
   "source": [
    "#import pandas as pd\n",
    "#\n",
    "#X_train = pd.read_csv(\"./data/X_train.csv\")\n",
    "#y_train = pd.read_csv(\"./data/y_train.csv\")"
   ]
  },
  {
   "cell_type": "code",
   "execution_count": 12,
   "id": "63d08085",
   "metadata": {
    "execution": {
     "iopub.execute_input": "2025-07-30T14:07:31.206527Z",
     "iopub.status.busy": "2025-07-30T14:07:31.205747Z",
     "iopub.status.idle": "2025-07-30T14:07:31.211008Z",
     "shell.execute_reply": "2025-07-30T14:07:31.210026Z"
    },
    "papermill": {
     "duration": 0.029755,
     "end_time": "2025-07-30T14:07:31.212815",
     "exception": false,
     "start_time": "2025-07-30T14:07:31.183060",
     "status": "completed"
    },
    "tags": []
   },
   "outputs": [],
   "source": [
    "#X_test = pd.read_csv(\"./data/X_test.csv\")\n",
    "#y_true = pd.read_csv(\"./data/y_test.csv\")"
   ]
  },
  {
   "cell_type": "code",
   "execution_count": 13,
   "id": "98a8d0fa-1d3d-4ed8-bb2c-281470e24add",
   "metadata": {
    "execution": {
     "iopub.execute_input": "2025-07-30T14:07:31.253884Z",
     "iopub.status.busy": "2025-07-30T14:07:31.253461Z",
     "iopub.status.idle": "2025-07-30T14:07:31.258267Z",
     "shell.execute_reply": "2025-07-30T14:07:31.257183Z"
    },
    "papermill": {
     "duration": 0.027042,
     "end_time": "2025-07-30T14:07:31.259990",
     "exception": false,
     "start_time": "2025-07-30T14:07:31.232948",
     "status": "completed"
    },
    "tags": []
   },
   "outputs": [],
   "source": [
    "# Calibration data for conformal\n",
    "#X_calib = pd.read_csv(\"./data/X_calib.csv\")\n",
    "#y_calib = pd.read_csv(\"./data/y_calib.csv\")"
   ]
  },
  {
   "cell_type": "markdown",
   "id": "997051c5-15bd-4b69-9786-c3001a3ce484",
   "metadata": {
    "papermill": {
     "duration": 0.016787,
     "end_time": "2025-07-30T14:07:31.299174",
     "exception": false,
     "start_time": "2025-07-30T14:07:31.282387",
     "status": "completed"
    },
    "tags": []
   },
   "source": [
    "# Splitting Data and Setting Training Data Size"
   ]
  },
  {
   "cell_type": "code",
   "execution_count": 14,
   "id": "e993b61f-042d-41a6-8c81-f55681f86335",
   "metadata": {
    "execution": {
     "iopub.execute_input": "2025-07-30T14:07:31.346267Z",
     "iopub.status.busy": "2025-07-30T14:07:31.343083Z",
     "iopub.status.idle": "2025-07-30T14:07:31.359831Z",
     "shell.execute_reply": "2025-07-30T14:07:31.358775Z"
    },
    "papermill": {
     "duration": 0.041182,
     "end_time": "2025-07-30T14:07:31.361744",
     "exception": false,
     "start_time": "2025-07-30T14:07:31.320562",
     "status": "completed"
    },
    "tags": []
   },
   "outputs": [],
   "source": [
    "def sample_by_year_size(df,\n",
    "                        training_year: str,\n",
    "                        training_size: str,\n",
    "                        random_state: int = 42):\n",
    "    # --- parse training_year into a list of int years ---\n",
    "    if \"_\" in training_year:\n",
    "        start_str, end_str = training_year.split(\"_\", 1)\n",
    "        start = int(start_str)\n",
    "        end   = int(end_str) if len(end_str) == 4 else (int(end_str) + (start // 100)*100)\n",
    "        years = list(range(start, end + 1))\n",
    "    else:\n",
    "        years = [int(training_year)]\n",
    "\n",
    "    df = df[df[\"year\"].isin(years)].reset_index(drop=True)\n",
    "\n",
    "    # --- map training_size to total number of samples ---\n",
    "    total_map = {\"25k\": 25_000, \"5k\": 5_000, \"1k\": 1_000}\n",
    "    if training_size not in total_map:\n",
    "        return df  # e.g. \"all\"\n",
    "\n",
    "    total_samples = total_map[training_size]\n",
    "    n_years       = len(years)\n",
    "    base          = total_samples // n_years\n",
    "    remainder     = total_samples % n_years\n",
    "\n",
    "    # --- build a dict: year -> how many to sample ---\n",
    "    # give +1 to the first `remainder` years in ascending order\n",
    "    quotas = {\n",
    "        year: base + (1 if idx < remainder else 0)\n",
    "        for idx, year in enumerate(sorted(years))\n",
    "    }\n",
    "\n",
    "    # --- sample per‐year according to the quota dict ---\n",
    "    sampled = (\n",
    "        df\n",
    "        .groupby(\"year\", group_keys=False)\n",
    "        .apply(lambda grp: grp.sample(\n",
    "            n=min(len(grp), quotas[grp.name]),\n",
    "            random_state=random_state))\n",
    "        .reset_index(drop=True)\n",
    "    )\n",
    "\n",
    "    return sampled"
   ]
  },
  {
   "cell_type": "code",
   "execution_count": 15,
   "id": "c0ccd338-0e02-41f3-a09d-f56f9266e3fb",
   "metadata": {
    "execution": {
     "iopub.execute_input": "2025-07-30T14:07:31.405021Z",
     "iopub.status.busy": "2025-07-30T14:07:31.403915Z",
     "iopub.status.idle": "2025-07-30T14:07:31.416785Z",
     "shell.execute_reply": "2025-07-30T14:07:31.415703Z"
    },
    "papermill": {
     "duration": 0.033713,
     "end_time": "2025-07-30T14:07:31.418376",
     "exception": false,
     "start_time": "2025-07-30T14:07:31.384663",
     "status": "completed"
    },
    "tags": []
   },
   "outputs": [
    {
     "data": {
      "text/plain": [
       "'5k'"
      ]
     },
     "execution_count": 15,
     "metadata": {},
     "output_type": "execute_result"
    }
   ],
   "source": [
    "universe[\"training_size\"]"
   ]
  },
  {
   "cell_type": "code",
   "execution_count": 16,
   "id": "ca707fd7-8047-4acd-bfa5-66248fbbf8e6",
   "metadata": {
    "execution": {
     "iopub.execute_input": "2025-07-30T14:07:31.463888Z",
     "iopub.status.busy": "2025-07-30T14:07:31.462966Z",
     "iopub.status.idle": "2025-07-30T14:07:31.473149Z",
     "shell.execute_reply": "2025-07-30T14:07:31.472276Z"
    },
    "papermill": {
     "duration": 0.034983,
     "end_time": "2025-07-30T14:07:31.475002",
     "exception": false,
     "start_time": "2025-07-30T14:07:31.440019",
     "status": "completed"
    },
    "tags": []
   },
   "outputs": [
    {
     "data": {
      "text/plain": [
       "'2010_14'"
      ]
     },
     "execution_count": 16,
     "metadata": {},
     "output_type": "execute_result"
    }
   ],
   "source": [
    "universe[\"training_year\"]"
   ]
  },
  {
   "cell_type": "code",
   "execution_count": 17,
   "id": "aea9c6ef-6f46-42c8-85eb-5a62025c1508",
   "metadata": {
    "execution": {
     "iopub.execute_input": "2025-07-30T14:07:31.519986Z",
     "iopub.status.busy": "2025-07-30T14:07:31.519507Z",
     "iopub.status.idle": "2025-07-30T14:07:32.558698Z",
     "shell.execute_reply": "2025-07-30T14:07:32.557591Z"
    },
    "papermill": {
     "duration": 1.06376,
     "end_time": "2025-07-30T14:07:32.561099",
     "exception": false,
     "start_time": "2025-07-30T14:07:31.497339",
     "status": "completed"
    },
    "tags": []
   },
   "outputs": [],
   "source": [
    "siab_train = sample_by_year_size(siab,\n",
    "                               training_year=universe[\"training_year\"],\n",
    "                               training_size=universe[\"training_size\"])"
   ]
  },
  {
   "cell_type": "code",
   "execution_count": 18,
   "id": "8d3afb32-789d-442c-8d5d-9f5aa8dd2eed",
   "metadata": {
    "execution": {
     "iopub.execute_input": "2025-07-30T14:07:32.620852Z",
     "iopub.status.busy": "2025-07-30T14:07:32.620293Z",
     "iopub.status.idle": "2025-07-30T14:07:32.629604Z",
     "shell.execute_reply": "2025-07-30T14:07:32.628548Z"
    },
    "papermill": {
     "duration": 0.042994,
     "end_time": "2025-07-30T14:07:32.631328",
     "exception": false,
     "start_time": "2025-07-30T14:07:32.588334",
     "status": "completed"
    },
    "tags": []
   },
   "outputs": [
    {
     "data": {
      "text/plain": [
       "(5000, 164)"
      ]
     },
     "execution_count": 18,
     "metadata": {},
     "output_type": "execute_result"
    }
   ],
   "source": [
    "siab_train.shape"
   ]
  },
  {
   "cell_type": "code",
   "execution_count": 19,
   "id": "d582db68-1a4c-47fb-84fc-08518dc1975a",
   "metadata": {
    "execution": {
     "iopub.execute_input": "2025-07-30T14:07:32.689910Z",
     "iopub.status.busy": "2025-07-30T14:07:32.689416Z",
     "iopub.status.idle": "2025-07-30T14:07:32.704620Z",
     "shell.execute_reply": "2025-07-30T14:07:32.703266Z"
    },
    "papermill": {
     "duration": 0.046629,
     "end_time": "2025-07-30T14:07:32.706756",
     "exception": false,
     "start_time": "2025-07-30T14:07:32.660127",
     "status": "completed"
    },
    "tags": []
   },
   "outputs": [
    {
     "data": {
      "text/plain": [
       "year\n",
       "2010    1000\n",
       "2011    1000\n",
       "2012    1000\n",
       "2013    1000\n",
       "2014    1000\n",
       "dtype: int64"
      ]
     },
     "metadata": {},
     "output_type": "display_data"
    }
   ],
   "source": [
    "display(siab_train.groupby(\"year\").size())"
   ]
  },
  {
   "cell_type": "code",
   "execution_count": 20,
   "id": "a561edb4-d032-42cb-8256-22eac1111c64",
   "metadata": {
    "execution": {
     "iopub.execute_input": "2025-07-30T14:07:32.761370Z",
     "iopub.status.busy": "2025-07-30T14:07:32.760323Z",
     "iopub.status.idle": "2025-07-30T14:07:33.022528Z",
     "shell.execute_reply": "2025-07-30T14:07:33.021346Z"
    },
    "papermill": {
     "duration": 0.290082,
     "end_time": "2025-07-30T14:07:33.025025",
     "exception": false,
     "start_time": "2025-07-30T14:07:32.734943",
     "status": "completed"
    },
    "tags": []
   },
   "outputs": [],
   "source": [
    "#siab_train = siab_s[siab_s.year < 2015]\n",
    "siab_calib = siab[siab.year == 2015]\n",
    "siab_test = siab[siab.year == 2016]"
   ]
  },
  {
   "cell_type": "code",
   "execution_count": 21,
   "id": "472de16f-c3db-4916-846b-1f0de9cf1746",
   "metadata": {
    "execution": {
     "iopub.execute_input": "2025-07-30T14:07:33.092211Z",
     "iopub.status.busy": "2025-07-30T14:07:33.091546Z",
     "iopub.status.idle": "2025-07-30T14:07:33.102370Z",
     "shell.execute_reply": "2025-07-30T14:07:33.101129Z"
    },
    "papermill": {
     "duration": 0.046621,
     "end_time": "2025-07-30T14:07:33.104852",
     "exception": false,
     "start_time": "2025-07-30T14:07:33.058231",
     "status": "completed"
    },
    "tags": []
   },
   "outputs": [],
   "source": [
    "X_train = siab_train.iloc[:,4:164]\n",
    "y_train = siab_train.iloc[:, [3]]"
   ]
  },
  {
   "cell_type": "code",
   "execution_count": 22,
   "id": "828c96af-f43a-4ed6-ba47-8ac73a47d56c",
   "metadata": {
    "execution": {
     "iopub.execute_input": "2025-07-30T14:07:33.169692Z",
     "iopub.status.busy": "2025-07-30T14:07:33.168780Z",
     "iopub.status.idle": "2025-07-30T14:07:33.217291Z",
     "shell.execute_reply": "2025-07-30T14:07:33.216463Z"
    },
    "papermill": {
     "duration": 0.082088,
     "end_time": "2025-07-30T14:07:33.218802",
     "exception": false,
     "start_time": "2025-07-30T14:07:33.136714",
     "status": "completed"
    },
    "tags": []
   },
   "outputs": [],
   "source": [
    "X_calib = siab_calib.iloc[:,4:164]\n",
    "y_calib = siab_calib.iloc[:, [3]]"
   ]
  },
  {
   "cell_type": "code",
   "execution_count": 23,
   "id": "c34be9c3-6bd6-476e-acd3-845840e303be",
   "metadata": {
    "execution": {
     "iopub.execute_input": "2025-07-30T14:07:33.244145Z",
     "iopub.status.busy": "2025-07-30T14:07:33.243606Z",
     "iopub.status.idle": "2025-07-30T14:07:33.293501Z",
     "shell.execute_reply": "2025-07-30T14:07:33.292640Z"
    },
    "papermill": {
     "duration": 0.063559,
     "end_time": "2025-07-30T14:07:33.295201",
     "exception": false,
     "start_time": "2025-07-30T14:07:33.231642",
     "status": "completed"
    },
    "tags": []
   },
   "outputs": [],
   "source": [
    "X_test = siab_test.iloc[:,4:164]\n",
    "y_true = siab_test.iloc[:, [3]]"
   ]
  },
  {
   "cell_type": "markdown",
   "id": "9901737e-04df-44f0-9100-f5ad144ed040",
   "metadata": {
    "papermill": {
     "duration": 0.019775,
     "end_time": "2025-07-30T14:07:33.333561",
     "exception": false,
     "start_time": "2025-07-30T14:07:33.313786",
     "status": "completed"
    },
    "tags": []
   },
   "source": [
    "# Splitting Data and Setting Training Data Size OLD VERSION"
   ]
  },
  {
   "cell_type": "code",
   "execution_count": 24,
   "id": "acbc8f7d-8fc8-4e86-8c59-5dcb0f58384b",
   "metadata": {
    "execution": {
     "iopub.execute_input": "2025-07-30T14:07:33.377971Z",
     "iopub.status.busy": "2025-07-30T14:07:33.377464Z",
     "iopub.status.idle": "2025-07-30T14:07:33.384090Z",
     "shell.execute_reply": "2025-07-30T14:07:33.382976Z"
    },
    "papermill": {
     "duration": 0.032386,
     "end_time": "2025-07-30T14:07:33.385797",
     "exception": false,
     "start_time": "2025-07-30T14:07:33.353411",
     "status": "completed"
    },
    "tags": []
   },
   "outputs": [],
   "source": [
    "#def sample_by_year(df, training_size, random_state=42):\n",
    "#    if training_size == \"2014\":\n",
    "#        return df[df[\"year\"] == 2014].reset_index(drop=True)\n",
    "#    \n",
    "#    size_map = {\n",
    "#        \"25k\": 5000,\n",
    "#        \"5k\": 1000,\n",
    "#        \"1k\": 200\n",
    "#    }\n",
    "#\n",
    "#    if training_size not in size_map:\n",
    "#        return df.reset_index(drop=True)  # use all data\n",
    "#\n",
    "#    n_per_year = size_map[training_size]\n",
    "#    grouped = df.groupby(\"year\")\n",
    "#    sampled = grouped.apply(lambda x: x.sample(n=min(n_per_year, len(x)), random_state=random_state))\n",
    "#    return sampled.reset_index(drop=True)"
   ]
  },
  {
   "cell_type": "code",
   "execution_count": 25,
   "id": "6d931f52-beaf-43ff-9e78-9d44a448d54e",
   "metadata": {
    "execution": {
     "iopub.execute_input": "2025-07-30T14:07:33.431080Z",
     "iopub.status.busy": "2025-07-30T14:07:33.430473Z",
     "iopub.status.idle": "2025-07-30T14:07:33.436850Z",
     "shell.execute_reply": "2025-07-30T14:07:33.435632Z"
    },
    "papermill": {
     "duration": 0.033552,
     "end_time": "2025-07-30T14:07:33.438687",
     "exception": false,
     "start_time": "2025-07-30T14:07:33.405135",
     "status": "completed"
    },
    "tags": []
   },
   "outputs": [],
   "source": [
    "#siab_s = sample_by_year(siab, universe[\"training_size\"])"
   ]
  },
  {
   "cell_type": "code",
   "execution_count": 26,
   "id": "5db0a40e-a4e2-4920-be85-b12ae061d70d",
   "metadata": {
    "execution": {
     "iopub.execute_input": "2025-07-30T14:07:33.474739Z",
     "iopub.status.busy": "2025-07-30T14:07:33.474261Z",
     "iopub.status.idle": "2025-07-30T14:07:33.478620Z",
     "shell.execute_reply": "2025-07-30T14:07:33.477744Z"
    },
    "papermill": {
     "duration": 0.020665,
     "end_time": "2025-07-30T14:07:33.479972",
     "exception": false,
     "start_time": "2025-07-30T14:07:33.459307",
     "status": "completed"
    },
    "tags": []
   },
   "outputs": [],
   "source": [
    "#display(siab_s.groupby(\"year\").size())"
   ]
  },
  {
   "cell_type": "code",
   "execution_count": 27,
   "id": "e6c733c5",
   "metadata": {
    "execution": {
     "iopub.execute_input": "2025-07-30T14:07:33.505341Z",
     "iopub.status.busy": "2025-07-30T14:07:33.504987Z",
     "iopub.status.idle": "2025-07-30T14:07:33.592760Z",
     "shell.execute_reply": "2025-07-30T14:07:33.591938Z"
    },
    "papermill": {
     "duration": 0.10153,
     "end_time": "2025-07-30T14:07:33.594264",
     "exception": false,
     "start_time": "2025-07-30T14:07:33.492734",
     "status": "completed"
    },
    "tags": []
   },
   "outputs": [],
   "source": [
    "# Auxiliary data needed downstream in the pipeline\n",
    "\n",
    "org_train = X_train.copy()\n",
    "org_test = X_test.copy()\n",
    "org_calib = X_calib.copy()"
   ]
  },
  {
   "cell_type": "code",
   "execution_count": 28,
   "id": "1466abac-c6da-4492-a62f-4240ae3783af",
   "metadata": {
    "execution": {
     "iopub.execute_input": "2025-07-30T14:07:33.619797Z",
     "iopub.status.busy": "2025-07-30T14:07:33.619275Z",
     "iopub.status.idle": "2025-07-30T14:07:33.624183Z",
     "shell.execute_reply": "2025-07-30T14:07:33.623351Z"
    },
    "papermill": {
     "duration": 0.019164,
     "end_time": "2025-07-30T14:07:33.625551",
     "exception": false,
     "start_time": "2025-07-30T14:07:33.606387",
     "status": "completed"
    },
    "tags": []
   },
   "outputs": [],
   "source": [
    "# put in other script?\n",
    "# Group sizes\n",
    "\n",
    "#def calculate_percentages(df, df_name):\n",
    "#    total_entries = len(df)\n",
    "#\n",
    "#    female_pct = (df['frau1'] == 1).mean() * 100\n",
    "#    non_german_pct = ((df['maxdeutsch1'] == 0) & (df['maxdeutsch.Missing.'] == 0)).mean() * 100\n",
    "#    non_german_male_pct = ((df['frau1'] == 0) & (df['maxdeutsch1'] == 0) & (df['maxdeutsch.Missing.'] == 0)).mean() * 100\n",
    "#    non_german_female_pct = ((df['frau1'] == 1) & (df['maxdeutsch1'] == 0) & (df['maxdeutsch.Missing.'] == 0)).mean() * 100\n",
    "#\n",
    "#    print(f\"--- {df_name} ---\")\n",
    "#    print(f\"Female: {female_pct:.2f}%\")\n",
    "#    print(f\"Non-German: {non_german_pct:.2f}%\")\n",
    "#    print(f\"Non-German Male: {non_german_male_pct:.2f}%\")\n",
    "#    print(f\"Non-German Female: {non_german_female_pct:.2f}%\\n\")\n",
    "#\n",
    "## Calculate for each DataFrame\n",
    "#calculate_percentages(siab_calib, \"siab_calib\")\n",
    "#calculate_percentages(siab_test, \"siab_test\")\n",
    "#calculate_percentages(siab_train, \"siab_train\")"
   ]
  },
  {
   "cell_type": "markdown",
   "id": "0a4a1b33",
   "metadata": {
    "papermill": {
     "duration": 0.011363,
     "end_time": "2025-07-30T14:07:33.650117",
     "exception": false,
     "start_time": "2025-07-30T14:07:33.638754",
     "status": "completed"
    },
    "tags": []
   },
   "source": [
    "# Preprocessing Data"
   ]
  },
  {
   "cell_type": "code",
   "execution_count": 29,
   "id": "ca879031",
   "metadata": {
    "execution": {
     "iopub.execute_input": "2025-07-30T14:07:33.675475Z",
     "iopub.status.busy": "2025-07-30T14:07:33.674953Z",
     "iopub.status.idle": "2025-07-30T14:07:33.680117Z",
     "shell.execute_reply": "2025-07-30T14:07:33.679299Z"
    },
    "papermill": {
     "duration": 0.019489,
     "end_time": "2025-07-30T14:07:33.681494",
     "exception": false,
     "start_time": "2025-07-30T14:07:33.662005",
     "status": "completed"
    },
    "tags": []
   },
   "outputs": [],
   "source": [
    "# EXCLUDE PROTECTED FEATURES\n",
    "# ----------------------\n",
    "# \"exclude_features\": \"none\", # \"nationality\", \"sex\", \"nationality-sex\"\n",
    "\n",
    "excluded_features = universe[\"exclude_features\"].split(\"-\") # split, e.g.: \"nationality-sex\" -> [\"nationality\", \"sex\"]\n",
    "excluded_features_dictionary = {\n",
    "    \"nationality\": [\"maxdeutsch1\", \"maxdeutsch.Missing.\"],\n",
    "    \"sex\": [\"frau1\"],\n",
    "    \"age\": [\"age\"],\n",
    "}\n"
   ]
  },
  {
   "cell_type": "code",
   "execution_count": 30,
   "id": "b745ac60",
   "metadata": {
    "execution": {
     "iopub.execute_input": "2025-07-30T14:07:33.707959Z",
     "iopub.status.busy": "2025-07-30T14:07:33.707452Z",
     "iopub.status.idle": "2025-07-30T14:07:33.712565Z",
     "shell.execute_reply": "2025-07-30T14:07:33.711717Z"
    },
    "papermill": {
     "duration": 0.019484,
     "end_time": "2025-07-30T14:07:33.713998",
     "exception": false,
     "start_time": "2025-07-30T14:07:33.694514",
     "status": "completed"
    },
    "tags": []
   },
   "outputs": [],
   "source": [
    "# Code nice names to column names\n",
    "\n",
    "excluded_features_columns = [\n",
    "    excluded_features_dictionary[f] for f in excluded_features if len(f) > 0 and f != \"none\"\n",
    "]"
   ]
  },
  {
   "cell_type": "code",
   "execution_count": 31,
   "id": "f84f73a2",
   "metadata": {
    "execution": {
     "iopub.execute_input": "2025-07-30T14:07:33.740640Z",
     "iopub.status.busy": "2025-07-30T14:07:33.740115Z",
     "iopub.status.idle": "2025-07-30T14:07:33.746224Z",
     "shell.execute_reply": "2025-07-30T14:07:33.745432Z"
    },
    "papermill": {
     "duration": 0.020453,
     "end_time": "2025-07-30T14:07:33.747699",
     "exception": false,
     "start_time": "2025-07-30T14:07:33.727246",
     "status": "completed"
    },
    "tags": []
   },
   "outputs": [],
   "source": [
    "from utils import flatten_once\n",
    "\n",
    "excluded_features_columns = flatten_once(excluded_features_columns)"
   ]
  },
  {
   "cell_type": "code",
   "execution_count": 32,
   "id": "884dea22",
   "metadata": {
    "execution": {
     "iopub.execute_input": "2025-07-30T14:07:33.773457Z",
     "iopub.status.busy": "2025-07-30T14:07:33.772950Z",
     "iopub.status.idle": "2025-07-30T14:07:33.781051Z",
     "shell.execute_reply": "2025-07-30T14:07:33.780119Z"
    },
    "papermill": {
     "duration": 0.021981,
     "end_time": "2025-07-30T14:07:33.782476",
     "exception": false,
     "start_time": "2025-07-30T14:07:33.760495",
     "status": "completed"
    },
    "tags": []
   },
   "outputs": [
    {
     "name": "stdout",
     "output_type": "stream",
     "text": [
      "Dropping features: ['maxdeutsch1', 'maxdeutsch.Missing.']\n"
     ]
    }
   ],
   "source": [
    "if len(excluded_features_columns) > 0:\n",
    "    print(f\"Dropping features: {excluded_features_columns}\")\n",
    "    X_train.drop(excluded_features_columns, axis=1, inplace=True)"
   ]
  },
  {
   "cell_type": "code",
   "execution_count": 33,
   "id": "95ab8b16",
   "metadata": {
    "execution": {
     "iopub.execute_input": "2025-07-30T14:07:33.807694Z",
     "iopub.status.busy": "2025-07-30T14:07:33.807198Z",
     "iopub.status.idle": "2025-07-30T14:07:33.856485Z",
     "shell.execute_reply": "2025-07-30T14:07:33.854998Z"
    },
    "papermill": {
     "duration": 0.062887,
     "end_time": "2025-07-30T14:07:33.857914",
     "exception": false,
     "start_time": "2025-07-30T14:07:33.795027",
     "status": "completed"
    },
    "tags": []
   },
   "outputs": [
    {
     "name": "stdout",
     "output_type": "stream",
     "text": [
      "Dropping features: ['maxdeutsch1', 'maxdeutsch.Missing.']\n"
     ]
    }
   ],
   "source": [
    "if len(excluded_features_columns) > 0:\n",
    "    print(f\"Dropping features: {excluded_features_columns}\")\n",
    "    X_test.drop(excluded_features_columns, axis=1, inplace=True)"
   ]
  },
  {
   "cell_type": "code",
   "execution_count": 34,
   "id": "1853aaf5-fb9f-46cb-a2b5-8ea4ae2237e4",
   "metadata": {
    "execution": {
     "iopub.execute_input": "2025-07-30T14:07:33.885660Z",
     "iopub.status.busy": "2025-07-30T14:07:33.885228Z",
     "iopub.status.idle": "2025-07-30T14:07:33.931713Z",
     "shell.execute_reply": "2025-07-30T14:07:33.930514Z"
    },
    "papermill": {
     "duration": 0.064038,
     "end_time": "2025-07-30T14:07:33.934897",
     "exception": false,
     "start_time": "2025-07-30T14:07:33.870859",
     "status": "completed"
    },
    "tags": []
   },
   "outputs": [
    {
     "name": "stdout",
     "output_type": "stream",
     "text": [
      "Dropping features: ['maxdeutsch1', 'maxdeutsch.Missing.']\n"
     ]
    }
   ],
   "source": [
    "if len(excluded_features_columns) > 0:\n",
    "    print(f\"Dropping features: {excluded_features_columns}\")\n",
    "    X_calib.drop(excluded_features_columns, axis=1, inplace=True)"
   ]
  },
  {
   "cell_type": "code",
   "execution_count": 35,
   "id": "6727d079-03e5-481e-9d38-292a90b7a0a8",
   "metadata": {
    "execution": {
     "iopub.execute_input": "2025-07-30T14:07:33.987949Z",
     "iopub.status.busy": "2025-07-30T14:07:33.986801Z",
     "iopub.status.idle": "2025-07-30T14:07:33.992526Z",
     "shell.execute_reply": "2025-07-30T14:07:33.991454Z"
    },
    "papermill": {
     "duration": 0.034454,
     "end_time": "2025-07-30T14:07:33.994178",
     "exception": false,
     "start_time": "2025-07-30T14:07:33.959724",
     "status": "completed"
    },
    "tags": []
   },
   "outputs": [],
   "source": [
    "# SPLIT & STRATIFY DATA\n",
    "# ----------------------"
   ]
  },
  {
   "cell_type": "code",
   "execution_count": 36,
   "id": "76c4dc6d",
   "metadata": {
    "execution": {
     "iopub.execute_input": "2025-07-30T14:07:34.043584Z",
     "iopub.status.busy": "2025-07-30T14:07:34.043036Z",
     "iopub.status.idle": "2025-07-30T14:07:34.047668Z",
     "shell.execute_reply": "2025-07-30T14:07:34.047006Z"
    },
    "papermill": {
     "duration": 0.029429,
     "end_time": "2025-07-30T14:07:34.049034",
     "exception": false,
     "start_time": "2025-07-30T14:07:34.019605",
     "status": "completed"
    },
    "tags": []
   },
   "outputs": [],
   "source": [
    "# EXCLUDE CERTAIN SUBGROUPS\n",
    "# ----------------------\n",
    "\n",
    "mode = universe.get(\"exclude_subgroups\", \"keep-all\") \n",
    "# Fetches the exclude_subgroups setting from the universe dict.\n",
    "# Defaults to \"keep-all\" if the key is missing."
   ]
  },
  {
   "cell_type": "code",
   "execution_count": 37,
   "id": "21994072",
   "metadata": {
    "execution": {
     "iopub.execute_input": "2025-07-30T14:07:34.075083Z",
     "iopub.status.busy": "2025-07-30T14:07:34.074581Z",
     "iopub.status.idle": "2025-07-30T14:07:34.079801Z",
     "shell.execute_reply": "2025-07-30T14:07:34.079039Z"
    },
    "papermill": {
     "duration": 0.019343,
     "end_time": "2025-07-30T14:07:34.081321",
     "exception": false,
     "start_time": "2025-07-30T14:07:34.061978",
     "status": "completed"
    },
    "tags": []
   },
   "outputs": [],
   "source": [
    "if mode == \"keep-all\":\n",
    "    keep_mask = pd.Series(True, index=org_train.index)\n",
    "\n",
    "# org_train contains the original feature columns from features_org (in Simson)\n",
    "# features_org contains unprocessed features, for me X_train at beginning ???\n",
    "# For keep-all, creates a boolean Series (keep_mask) of all True, so no rows are removed.\n",
    "\n",
    "elif mode == \"drop-non-german\":\n",
    "    keep_mask = org_train[\"maxdeutsch1\"] == 1 # ??? what about missing values?\n",
    "\n",
    "else:\n",
    "    raise ValueError(f\"Unsupported mode for exclude_subgroups: {mode}\")\n"
   ]
  },
  {
   "cell_type": "code",
   "execution_count": 38,
   "id": "71651440",
   "metadata": {
    "execution": {
     "iopub.execute_input": "2025-07-30T14:07:34.109847Z",
     "iopub.status.busy": "2025-07-30T14:07:34.109342Z",
     "iopub.status.idle": "2025-07-30T14:07:34.114587Z",
     "shell.execute_reply": "2025-07-30T14:07:34.113927Z"
    },
    "papermill": {
     "duration": 0.021241,
     "end_time": "2025-07-30T14:07:34.115909",
     "exception": false,
     "start_time": "2025-07-30T14:07:34.094668",
     "status": "completed"
    },
    "tags": []
   },
   "outputs": [],
   "source": [
    "n_drop = (~keep_mask).sum() # Calculates how many rows are set to be dropped\n",
    "if n_drop > 0:\n",
    "    pct = n_drop / len(keep_mask) * 100\n",
    "    print(f\"Dropping {n_drop} rows ({pct:.2f}%) where mode='{mode}'\")"
   ]
  },
  {
   "cell_type": "code",
   "execution_count": 39,
   "id": "5fb8eee5",
   "metadata": {
    "execution": {
     "iopub.execute_input": "2025-07-30T14:07:34.141626Z",
     "iopub.status.busy": "2025-07-30T14:07:34.141037Z",
     "iopub.status.idle": "2025-07-30T14:07:34.147865Z",
     "shell.execute_reply": "2025-07-30T14:07:34.146814Z"
    },
    "papermill": {
     "duration": 0.021487,
     "end_time": "2025-07-30T14:07:34.149938",
     "exception": false,
     "start_time": "2025-07-30T14:07:34.128451",
     "status": "completed"
    },
    "tags": []
   },
   "outputs": [],
   "source": [
    "X_train = X_train[keep_mask]"
   ]
  },
  {
   "cell_type": "code",
   "execution_count": 40,
   "id": "b202bb3a",
   "metadata": {
    "execution": {
     "iopub.execute_input": "2025-07-30T14:07:34.198650Z",
     "iopub.status.busy": "2025-07-30T14:07:34.197717Z",
     "iopub.status.idle": "2025-07-30T14:07:34.204328Z",
     "shell.execute_reply": "2025-07-30T14:07:34.203241Z"
    },
    "papermill": {
     "duration": 0.031455,
     "end_time": "2025-07-30T14:07:34.206487",
     "exception": false,
     "start_time": "2025-07-30T14:07:34.175032",
     "status": "completed"
    },
    "tags": []
   },
   "outputs": [],
   "source": [
    "y_train = y_train[keep_mask]"
   ]
  },
  {
   "cell_type": "markdown",
   "id": "493e2ac3",
   "metadata": {
    "papermill": {
     "duration": 0.021639,
     "end_time": "2025-07-30T14:07:34.253616",
     "exception": false,
     "start_time": "2025-07-30T14:07:34.231977",
     "status": "completed"
    },
    "tags": []
   },
   "source": [
    "# Model Training"
   ]
  },
  {
   "cell_type": "code",
   "execution_count": 41,
   "id": "679e1268",
   "metadata": {
    "execution": {
     "iopub.execute_input": "2025-07-30T14:07:34.297834Z",
     "iopub.status.busy": "2025-07-30T14:07:34.296979Z",
     "iopub.status.idle": "2025-07-30T14:07:34.392091Z",
     "shell.execute_reply": "2025-07-30T14:07:34.391043Z"
    },
    "papermill": {
     "duration": 0.122368,
     "end_time": "2025-07-30T14:07:34.394262",
     "exception": false,
     "start_time": "2025-07-30T14:07:34.271894",
     "status": "completed"
    },
    "tags": []
   },
   "outputs": [],
   "source": [
    "from sklearn.linear_model import LogisticRegression\n",
    "from sklearn.ensemble import GradientBoostingClassifier, RandomForestClassifier\n",
    "\n",
    "if (universe[\"model\"] == \"logreg\"):\n",
    "    model = LogisticRegression() #penalty=\"none\") #, solver=\"newton-cg\", max_iter=1) # include random_state=19 ?\n",
    "elif (universe[\"model\"] == \"penalized_logreg\"):\n",
    "    model = LogisticRegression(penalty=\"l2\", C=1.0) #, solver=\"newton-cg\", max_iter=1)\n",
    "elif (universe[\"model\"] == \"rf\"):\n",
    "    model = RandomForestClassifier(n_estimators=100, n_jobs=-1)\n",
    "elif (universe[\"model\"] == \"gbm\"):\n",
    "    model = GradientBoostingClassifier()\n",
    "elif (universe[\"model\"] == \"elasticnet\"):\n",
    "    model = LogisticRegression(penalty = 'elasticnet', solver = 'saga', l1_ratio = 0.5, max_iter=5000) # which solver to use?\n",
    "else:\n",
    "    raise \"Unsupported universe.model\""
   ]
  },
  {
   "cell_type": "code",
   "execution_count": 42,
   "id": "0cc8f744",
   "metadata": {
    "execution": {
     "iopub.execute_input": "2025-07-30T14:07:34.457850Z",
     "iopub.status.busy": "2025-07-30T14:07:34.456854Z",
     "iopub.status.idle": "2025-07-30T14:07:34.463717Z",
     "shell.execute_reply": "2025-07-30T14:07:34.462707Z"
    },
    "papermill": {
     "duration": 0.040772,
     "end_time": "2025-07-30T14:07:34.465654",
     "exception": false,
     "start_time": "2025-07-30T14:07:34.424882",
     "status": "completed"
    },
    "tags": []
   },
   "outputs": [],
   "source": [
    "import numpy as np\n",
    "from sklearn.pipeline import Pipeline\n",
    "from sklearn.preprocessing import StandardScaler\n",
    "\n",
    "model = Pipeline([\n",
    "    #(\"continuous_processor\", continuous_processor),\n",
    "    #(\"categorical_preprocessor\", categorical_preprocessor),\n",
    "    (\"scale\", StandardScaler() if universe[\"scale\"] == \"scale\" else None), \n",
    "    (\"model\", model),\n",
    "])"
   ]
  },
  {
   "cell_type": "code",
   "execution_count": 43,
   "id": "9442c04d",
   "metadata": {
    "execution": {
     "iopub.execute_input": "2025-07-30T14:07:34.531119Z",
     "iopub.status.busy": "2025-07-30T14:07:34.530367Z",
     "iopub.status.idle": "2025-07-30T14:07:34.733168Z",
     "shell.execute_reply": "2025-07-30T14:07:34.732073Z"
    },
    "papermill": {
     "duration": 0.236962,
     "end_time": "2025-07-30T14:07:34.735289",
     "exception": false,
     "start_time": "2025-07-30T14:07:34.498327",
     "status": "completed"
    },
    "tags": []
   },
   "outputs": [
    {
     "name": "stderr",
     "output_type": "stream",
     "text": [
      "/dss/dsshome1/0C/ra93lal2/.local/share/virtualenvs/CMA_Fairness_v2-3j10GkSs/lib/python3.10/site-packages/sklearn/linear_model/_logistic.py:444: ConvergenceWarning: lbfgs failed to converge (status=1):\n",
      "STOP: TOTAL NO. of ITERATIONS REACHED LIMIT.\n",
      "\n",
      "Increase the number of iterations (max_iter) or scale the data as shown in:\n",
      "    https://scikit-learn.org/stable/modules/preprocessing.html\n",
      "Please also refer to the documentation for alternative solver options:\n",
      "    https://scikit-learn.org/stable/modules/linear_model.html#logistic-regression\n",
      "  n_iter_i = _check_optimize_result(\n"
     ]
    },
    {
     "data": {
      "text/html": [
       "<style>#sk-container-id-1 {color: black;background-color: white;}#sk-container-id-1 pre{padding: 0;}#sk-container-id-1 div.sk-toggleable {background-color: white;}#sk-container-id-1 label.sk-toggleable__label {cursor: pointer;display: block;width: 100%;margin-bottom: 0;padding: 0.3em;box-sizing: border-box;text-align: center;}#sk-container-id-1 label.sk-toggleable__label-arrow:before {content: \"▸\";float: left;margin-right: 0.25em;color: #696969;}#sk-container-id-1 label.sk-toggleable__label-arrow:hover:before {color: black;}#sk-container-id-1 div.sk-estimator:hover label.sk-toggleable__label-arrow:before {color: black;}#sk-container-id-1 div.sk-toggleable__content {max-height: 0;max-width: 0;overflow: hidden;text-align: left;background-color: #f0f8ff;}#sk-container-id-1 div.sk-toggleable__content pre {margin: 0.2em;color: black;border-radius: 0.25em;background-color: #f0f8ff;}#sk-container-id-1 input.sk-toggleable__control:checked~div.sk-toggleable__content {max-height: 200px;max-width: 100%;overflow: auto;}#sk-container-id-1 input.sk-toggleable__control:checked~label.sk-toggleable__label-arrow:before {content: \"▾\";}#sk-container-id-1 div.sk-estimator input.sk-toggleable__control:checked~label.sk-toggleable__label {background-color: #d4ebff;}#sk-container-id-1 div.sk-label input.sk-toggleable__control:checked~label.sk-toggleable__label {background-color: #d4ebff;}#sk-container-id-1 input.sk-hidden--visually {border: 0;clip: rect(1px 1px 1px 1px);clip: rect(1px, 1px, 1px, 1px);height: 1px;margin: -1px;overflow: hidden;padding: 0;position: absolute;width: 1px;}#sk-container-id-1 div.sk-estimator {font-family: monospace;background-color: #f0f8ff;border: 1px dotted black;border-radius: 0.25em;box-sizing: border-box;margin-bottom: 0.5em;}#sk-container-id-1 div.sk-estimator:hover {background-color: #d4ebff;}#sk-container-id-1 div.sk-parallel-item::after {content: \"\";width: 100%;border-bottom: 1px solid gray;flex-grow: 1;}#sk-container-id-1 div.sk-label:hover label.sk-toggleable__label {background-color: #d4ebff;}#sk-container-id-1 div.sk-serial::before {content: \"\";position: absolute;border-left: 1px solid gray;box-sizing: border-box;top: 0;bottom: 0;left: 50%;z-index: 0;}#sk-container-id-1 div.sk-serial {display: flex;flex-direction: column;align-items: center;background-color: white;padding-right: 0.2em;padding-left: 0.2em;position: relative;}#sk-container-id-1 div.sk-item {position: relative;z-index: 1;}#sk-container-id-1 div.sk-parallel {display: flex;align-items: stretch;justify-content: center;background-color: white;position: relative;}#sk-container-id-1 div.sk-item::before, #sk-container-id-1 div.sk-parallel-item::before {content: \"\";position: absolute;border-left: 1px solid gray;box-sizing: border-box;top: 0;bottom: 0;left: 50%;z-index: -1;}#sk-container-id-1 div.sk-parallel-item {display: flex;flex-direction: column;z-index: 1;position: relative;background-color: white;}#sk-container-id-1 div.sk-parallel-item:first-child::after {align-self: flex-end;width: 50%;}#sk-container-id-1 div.sk-parallel-item:last-child::after {align-self: flex-start;width: 50%;}#sk-container-id-1 div.sk-parallel-item:only-child::after {width: 0;}#sk-container-id-1 div.sk-dashed-wrapped {border: 1px dashed gray;margin: 0 0.4em 0.5em 0.4em;box-sizing: border-box;padding-bottom: 0.4em;background-color: white;}#sk-container-id-1 div.sk-label label {font-family: monospace;font-weight: bold;display: inline-block;line-height: 1.2em;}#sk-container-id-1 div.sk-label-container {text-align: center;}#sk-container-id-1 div.sk-container {/* jupyter's `normalize.less` sets `[hidden] { display: none; }` but bootstrap.min.css set `[hidden] { display: none !important; }` so we also need the `!important` here to be able to override the default hidden behavior on the sphinx rendered scikit-learn.org. See: https://github.com/scikit-learn/scikit-learn/issues/21755 */display: inline-block !important;position: relative;}#sk-container-id-1 div.sk-text-repr-fallback {display: none;}</style><div id=\"sk-container-id-1\" class=\"sk-top-container\"><div class=\"sk-text-repr-fallback\"><pre>Pipeline(steps=[(&#x27;scale&#x27;, StandardScaler()), (&#x27;model&#x27;, LogisticRegression())])</pre><b>In a Jupyter environment, please rerun this cell to show the HTML representation or trust the notebook. <br />On GitHub, the HTML representation is unable to render, please try loading this page with nbviewer.org.</b></div><div class=\"sk-container\" hidden><div class=\"sk-item sk-dashed-wrapped\"><div class=\"sk-label-container\"><div class=\"sk-label sk-toggleable\"><input class=\"sk-toggleable__control sk-hidden--visually\" id=\"sk-estimator-id-1\" type=\"checkbox\" ><label for=\"sk-estimator-id-1\" class=\"sk-toggleable__label sk-toggleable__label-arrow\">Pipeline</label><div class=\"sk-toggleable__content\"><pre>Pipeline(steps=[(&#x27;scale&#x27;, StandardScaler()), (&#x27;model&#x27;, LogisticRegression())])</pre></div></div></div><div class=\"sk-serial\"><div class=\"sk-item\"><div class=\"sk-estimator sk-toggleable\"><input class=\"sk-toggleable__control sk-hidden--visually\" id=\"sk-estimator-id-2\" type=\"checkbox\" ><label for=\"sk-estimator-id-2\" class=\"sk-toggleable__label sk-toggleable__label-arrow\">StandardScaler</label><div class=\"sk-toggleable__content\"><pre>StandardScaler()</pre></div></div></div><div class=\"sk-item\"><div class=\"sk-estimator sk-toggleable\"><input class=\"sk-toggleable__control sk-hidden--visually\" id=\"sk-estimator-id-3\" type=\"checkbox\" ><label for=\"sk-estimator-id-3\" class=\"sk-toggleable__label sk-toggleable__label-arrow\">LogisticRegression</label><div class=\"sk-toggleable__content\"><pre>LogisticRegression()</pre></div></div></div></div></div></div></div>"
      ],
      "text/plain": [
       "Pipeline(steps=[('scale', StandardScaler()), ('model', LogisticRegression())])"
      ]
     },
     "execution_count": 43,
     "metadata": {},
     "output_type": "execute_result"
    }
   ],
   "source": [
    "model.fit(X_train, y_train.values.ravel())"
   ]
  },
  {
   "cell_type": "code",
   "execution_count": 44,
   "id": "af59f8c0",
   "metadata": {
    "execution": {
     "iopub.execute_input": "2025-07-30T14:07:34.787816Z",
     "iopub.status.busy": "2025-07-30T14:07:34.787041Z",
     "iopub.status.idle": "2025-07-30T14:07:34.794306Z",
     "shell.execute_reply": "2025-07-30T14:07:34.793096Z"
    },
    "papermill": {
     "duration": 0.035944,
     "end_time": "2025-07-30T14:07:34.796211",
     "exception": false,
     "start_time": "2025-07-30T14:07:34.760267",
     "status": "completed"
    },
    "tags": []
   },
   "outputs": [],
   "source": [
    "from fairness_multiverse.universe import predict_w_threshold"
   ]
  },
  {
   "cell_type": "code",
   "execution_count": 45,
   "id": "a7cf2e16",
   "metadata": {
    "execution": {
     "iopub.execute_input": "2025-07-30T14:07:34.851001Z",
     "iopub.status.busy": "2025-07-30T14:07:34.850111Z",
     "iopub.status.idle": "2025-07-30T14:07:35.049838Z",
     "shell.execute_reply": "2025-07-30T14:07:35.048705Z"
    },
    "papermill": {
     "duration": 0.230082,
     "end_time": "2025-07-30T14:07:35.051747",
     "exception": false,
     "start_time": "2025-07-30T14:07:34.821665",
     "status": "completed"
    },
    "tags": []
   },
   "outputs": [
    {
     "data": {
      "text/plain": [
       "0.8526585664920299"
      ]
     },
     "execution_count": 45,
     "metadata": {},
     "output_type": "execute_result"
    }
   ],
   "source": [
    "probs_test = model.predict_proba(X_test)\n",
    "\n",
    "'''\n",
    "Below code returns a boolean array (or binary 0/1 array depending on how it’s used) where each element \n",
    "is True if the probability of class 1 is greater than or equal to the threshold, and False otherwise.\n",
    "'''\n",
    "y_pred_default = predict_w_threshold(probs_test, 0.5)\n",
    "\n",
    "from sklearn.metrics import accuracy_score\n",
    "\n",
    "# Naive prediction\n",
    "accuracy_score(y_true = y_true, y_pred = y_pred_default)"
   ]
  },
  {
   "cell_type": "code",
   "execution_count": 46,
   "id": "081964c3",
   "metadata": {
    "execution": {
     "iopub.execute_input": "2025-07-30T14:07:35.107969Z",
     "iopub.status.busy": "2025-07-30T14:07:35.107375Z",
     "iopub.status.idle": "2025-07-30T14:07:35.362400Z",
     "shell.execute_reply": "2025-07-30T14:07:35.359627Z"
    },
    "papermill": {
     "duration": 0.285849,
     "end_time": "2025-07-30T14:07:35.364496",
     "exception": false,
     "start_time": "2025-07-30T14:07:35.078647",
     "status": "completed"
    },
    "tags": []
   },
   "outputs": [
    {
     "data": {
      "text/plain": [
       "array([0, 0, 0, ..., 0, 0, 0])"
      ]
     },
     "execution_count": 46,
     "metadata": {},
     "output_type": "execute_result"
    }
   ],
   "source": [
    "model.predict(X_test)"
   ]
  },
  {
   "cell_type": "markdown",
   "id": "56c9705b",
   "metadata": {
    "papermill": {
     "duration": 0.023519,
     "end_time": "2025-07-30T14:07:35.411828",
     "exception": false,
     "start_time": "2025-07-30T14:07:35.388309",
     "status": "completed"
    },
    "tags": []
   },
   "source": [
    "# Conformal Prediction"
   ]
  },
  {
   "cell_type": "code",
   "execution_count": 47,
   "id": "160ec6ff",
   "metadata": {
    "execution": {
     "iopub.execute_input": "2025-07-30T14:07:35.461269Z",
     "iopub.status.busy": "2025-07-30T14:07:35.460778Z",
     "iopub.status.idle": "2025-07-30T14:07:35.466791Z",
     "shell.execute_reply": "2025-07-30T14:07:35.465643Z"
    },
    "papermill": {
     "duration": 0.033434,
     "end_time": "2025-07-30T14:07:35.468763",
     "exception": false,
     "start_time": "2025-07-30T14:07:35.435329",
     "status": "completed"
    },
    "tags": []
   },
   "outputs": [],
   "source": [
    "# Miscoverage level for conformal prediction (10% allowed error rate => 90% target coverage)\n",
    "alpha = 0.1"
   ]
  },
  {
   "cell_type": "code",
   "execution_count": 48,
   "id": "eadf4555-3dd3-440e-8e35-f82a4ad9f855",
   "metadata": {
    "execution": {
     "iopub.execute_input": "2025-07-30T14:07:35.534072Z",
     "iopub.status.busy": "2025-07-30T14:07:35.533455Z",
     "iopub.status.idle": "2025-07-30T14:07:35.779472Z",
     "shell.execute_reply": "2025-07-30T14:07:35.778262Z"
    },
    "papermill": {
     "duration": 0.277332,
     "end_time": "2025-07-30T14:07:35.781964",
     "exception": false,
     "start_time": "2025-07-30T14:07:35.504632",
     "status": "completed"
    },
    "tags": []
   },
   "outputs": [],
   "source": [
    "probs_calib = model.predict_proba(X_calib)"
   ]
  },
  {
   "cell_type": "code",
   "execution_count": 49,
   "id": "2ed93547-6d5d-4983-9b36-1ecb300da49a",
   "metadata": {
    "execution": {
     "iopub.execute_input": "2025-07-30T14:07:35.847859Z",
     "iopub.status.busy": "2025-07-30T14:07:35.847305Z",
     "iopub.status.idle": "2025-07-30T14:07:35.853212Z",
     "shell.execute_reply": "2025-07-30T14:07:35.852443Z"
    },
    "papermill": {
     "duration": 0.04942,
     "end_time": "2025-07-30T14:07:35.865284",
     "exception": false,
     "start_time": "2025-07-30T14:07:35.815864",
     "status": "completed"
    },
    "tags": []
   },
   "outputs": [],
   "source": [
    "y_calib = y_calib.values.ravel().astype(int)"
   ]
  },
  {
   "cell_type": "code",
   "execution_count": 50,
   "id": "65d1320d-f588-4b38-9072-62af1ae97f7d",
   "metadata": {
    "execution": {
     "iopub.execute_input": "2025-07-30T14:07:35.917732Z",
     "iopub.status.busy": "2025-07-30T14:07:35.917205Z",
     "iopub.status.idle": "2025-07-30T14:07:35.927438Z",
     "shell.execute_reply": "2025-07-30T14:07:35.926019Z"
    },
    "papermill": {
     "duration": 0.038157,
     "end_time": "2025-07-30T14:07:35.930471",
     "exception": false,
     "start_time": "2025-07-30T14:07:35.892314",
     "status": "completed"
    },
    "tags": []
   },
   "outputs": [],
   "source": [
    "from fairness_multiverse.conformal import compute_nc_scores\n",
    "\n",
    "# Compute nonconformity scores on calibration set (1 - probability of true class)\n",
    "nc_scores = compute_nc_scores(probs_calib, y_calib)"
   ]
  },
  {
   "cell_type": "code",
   "execution_count": 51,
   "id": "df3b8ca3-53b7-43d5-9667-7c85da7aeda2",
   "metadata": {
    "execution": {
     "iopub.execute_input": "2025-07-30T14:07:36.006005Z",
     "iopub.status.busy": "2025-07-30T14:07:36.005453Z",
     "iopub.status.idle": "2025-07-30T14:07:36.013006Z",
     "shell.execute_reply": "2025-07-30T14:07:36.011598Z"
    },
    "papermill": {
     "duration": 0.048276,
     "end_time": "2025-07-30T14:07:36.015425",
     "exception": false,
     "start_time": "2025-07-30T14:07:35.967149",
     "status": "completed"
    },
    "tags": []
   },
   "outputs": [],
   "source": [
    "from fairness_multiverse.conformal import find_threshold\n",
    "\n",
    "# Find conformal threshold q_hat for the given alpha (split conformal method)\n",
    "q_hat = find_threshold(nc_scores, alpha)"
   ]
  },
  {
   "cell_type": "code",
   "execution_count": 52,
   "id": "4d29e6c1-0ef6-4aa4-b8fe-4fe79b0d033a",
   "metadata": {
    "execution": {
     "iopub.execute_input": "2025-07-30T14:07:36.090768Z",
     "iopub.status.busy": "2025-07-30T14:07:36.090265Z",
     "iopub.status.idle": "2025-07-30T14:07:36.097955Z",
     "shell.execute_reply": "2025-07-30T14:07:36.097018Z"
    },
    "papermill": {
     "duration": 0.048448,
     "end_time": "2025-07-30T14:07:36.100859",
     "exception": false,
     "start_time": "2025-07-30T14:07:36.052411",
     "status": "completed"
    },
    "tags": []
   },
   "outputs": [
    {
     "data": {
      "text/plain": [
       "0.6809786821503879"
      ]
     },
     "execution_count": 52,
     "metadata": {},
     "output_type": "execute_result"
    }
   ],
   "source": [
    "q_hat"
   ]
  },
  {
   "cell_type": "code",
   "execution_count": 53,
   "id": "92460794-cdac-4be2-ba28-f28c0515a6fb",
   "metadata": {
    "execution": {
     "iopub.execute_input": "2025-07-30T14:07:36.176767Z",
     "iopub.status.busy": "2025-07-30T14:07:36.176345Z",
     "iopub.status.idle": "2025-07-30T14:07:37.050338Z",
     "shell.execute_reply": "2025-07-30T14:07:37.049616Z"
    },
    "papermill": {
     "duration": 0.913993,
     "end_time": "2025-07-30T14:07:37.052219",
     "exception": false,
     "start_time": "2025-07-30T14:07:36.138226",
     "status": "completed"
    },
    "tags": []
   },
   "outputs": [],
   "source": [
    "from fairness_multiverse.conformal import predict_conformal_sets\n",
    "\n",
    "# Generate prediction sets for each test example\n",
    "pred_sets = predict_conformal_sets(model, X_test, q_hat)"
   ]
  },
  {
   "cell_type": "code",
   "execution_count": 54,
   "id": "d90c9a65-e6db-4f5d-80cd-e68fb7e46829",
   "metadata": {
    "execution": {
     "iopub.execute_input": "2025-07-30T14:07:37.090098Z",
     "iopub.status.busy": "2025-07-30T14:07:37.089639Z",
     "iopub.status.idle": "2025-07-30T14:07:37.094944Z",
     "shell.execute_reply": "2025-07-30T14:07:37.093994Z"
    },
    "papermill": {
     "duration": 0.023948,
     "end_time": "2025-07-30T14:07:37.096668",
     "exception": false,
     "start_time": "2025-07-30T14:07:37.072720",
     "status": "completed"
    },
    "tags": []
   },
   "outputs": [],
   "source": [
    "y_true = y_true.squeeze()"
   ]
  },
  {
   "cell_type": "code",
   "execution_count": 55,
   "id": "3a58a54a-1e68-46b9-927a-df01f18aebc8",
   "metadata": {
    "execution": {
     "iopub.execute_input": "2025-07-30T14:07:37.152884Z",
     "iopub.status.busy": "2025-07-30T14:07:37.152310Z",
     "iopub.status.idle": "2025-07-30T14:07:38.077828Z",
     "shell.execute_reply": "2025-07-30T14:07:38.076842Z"
    },
    "papermill": {
     "duration": 0.957065,
     "end_time": "2025-07-30T14:07:38.080183",
     "exception": false,
     "start_time": "2025-07-30T14:07:37.123118",
     "status": "completed"
    },
    "tags": []
   },
   "outputs": [],
   "source": [
    "from fairness_multiverse.conformal import evaluate_sets\n",
    "\n",
    "# Evaluate coverage and average set size on test data\n",
    "metrics = evaluate_sets(pred_sets, y_true)"
   ]
  },
  {
   "cell_type": "markdown",
   "id": "2b569c12-9aaa-4c88-98c9-bbcd0cf3ebb8",
   "metadata": {
    "papermill": {
     "duration": 0.028995,
     "end_time": "2025-07-30T14:07:38.144493",
     "exception": false,
     "start_time": "2025-07-30T14:07:38.115498",
     "status": "completed"
    },
    "tags": []
   },
   "source": [
    "# CP Metrics"
   ]
  },
  {
   "cell_type": "code",
   "execution_count": 56,
   "id": "5ce0a5cb-201f-45a0-ade5-94c7f0bd6095",
   "metadata": {
    "execution": {
     "iopub.execute_input": "2025-07-30T14:07:38.189104Z",
     "iopub.status.busy": "2025-07-30T14:07:38.188661Z",
     "iopub.status.idle": "2025-07-30T14:07:38.195619Z",
     "shell.execute_reply": "2025-07-30T14:07:38.194783Z"
    },
    "papermill": {
     "duration": 0.024141,
     "end_time": "2025-07-30T14:07:38.197156",
     "exception": false,
     "start_time": "2025-07-30T14:07:38.173015",
     "status": "completed"
    },
    "tags": []
   },
   "outputs": [
    {
     "data": {
      "text/plain": [
       "{'coverage': 0.9109017946717199, 'avg_size': 1.146817523130086}"
      ]
     },
     "execution_count": 56,
     "metadata": {},
     "output_type": "execute_result"
    }
   ],
   "source": [
    "metrics"
   ]
  },
  {
   "cell_type": "code",
   "execution_count": 57,
   "id": "9b9a838d-31c9-430b-ae14-12baee460d17",
   "metadata": {
    "execution": {
     "iopub.execute_input": "2025-07-30T14:07:38.248663Z",
     "iopub.status.busy": "2025-07-30T14:07:38.247985Z",
     "iopub.status.idle": "2025-07-30T14:07:38.256589Z",
     "shell.execute_reply": "2025-07-30T14:07:38.255255Z"
    },
    "papermill": {
     "duration": 0.038783,
     "end_time": "2025-07-30T14:07:38.258945",
     "exception": false,
     "start_time": "2025-07-30T14:07:38.220162",
     "status": "completed"
    },
    "tags": []
   },
   "outputs": [],
   "source": [
    "example_universe = universe.copy()\n",
    "universe_training_size = example_universe.get(\"training_size\")\n",
    "universe_scale = example_universe.get(\"scale\")\n",
    "universe_model = example_universe.get(\"model\")\n",
    "universe_exclude_features = example_universe.get(\"exclude_features\")\n",
    "universe_exclude_subgroups = example_universe.get(\"exclude_subgroups\")"
   ]
  },
  {
   "cell_type": "code",
   "execution_count": 58,
   "id": "f4b6a8ac-9dc0-4245-8a91-5b3b5999c4f9",
   "metadata": {
    "execution": {
     "iopub.execute_input": "2025-07-30T14:07:38.320829Z",
     "iopub.status.busy": "2025-07-30T14:07:38.320196Z",
     "iopub.status.idle": "2025-07-30T14:07:38.328084Z",
     "shell.execute_reply": "2025-07-30T14:07:38.326833Z"
    },
    "papermill": {
     "duration": 0.03869,
     "end_time": "2025-07-30T14:07:38.329918",
     "exception": false,
     "start_time": "2025-07-30T14:07:38.291228",
     "status": "completed"
    },
    "tags": []
   },
   "outputs": [],
   "source": [
    "cp_metrics_dict = {\n",
    "    \"universe_id\": [universe_id],\n",
    "    \"universe_training_size\": [universe_training_size],\n",
    "    \"universe_scale\": [universe_scale],\n",
    "    \"universe_model\": [universe_model],\n",
    "    \"universe_exclude_features\": [universe_exclude_features],\n",
    "    \"universe_exclude_subgroups\": [universe_exclude_subgroups],\n",
    "    \"q_hat\": [q_hat],\n",
    "    \"coverage\": [metrics[\"coverage\"]],\n",
    "    \"avg_size\": [metrics[\"avg_size\"]],\n",
    "}"
   ]
  },
  {
   "cell_type": "code",
   "execution_count": 59,
   "id": "908acbb1-0371-4915-85ca-3fa520d2efe2",
   "metadata": {
    "execution": {
     "iopub.execute_input": "2025-07-30T14:07:38.388803Z",
     "iopub.status.busy": "2025-07-30T14:07:38.387930Z",
     "iopub.status.idle": "2025-07-30T14:07:38.397082Z",
     "shell.execute_reply": "2025-07-30T14:07:38.395784Z"
    },
    "papermill": {
     "duration": 0.040353,
     "end_time": "2025-07-30T14:07:38.399249",
     "exception": false,
     "start_time": "2025-07-30T14:07:38.358896",
     "status": "completed"
    },
    "tags": []
   },
   "outputs": [
    {
     "data": {
      "text/plain": [
       "{'universe_id': ['5dfac1059e2b59ce356febb53bd79ed9'],\n",
       " 'universe_training_size': ['5k'],\n",
       " 'universe_scale': ['scale'],\n",
       " 'universe_model': ['penalized_logreg'],\n",
       " 'universe_exclude_features': ['nationality'],\n",
       " 'universe_exclude_subgroups': ['keep-all'],\n",
       " 'q_hat': [0.6809786821503879],\n",
       " 'coverage': [0.9109017946717199],\n",
       " 'avg_size': [1.146817523130086]}"
      ]
     },
     "execution_count": 59,
     "metadata": {},
     "output_type": "execute_result"
    }
   ],
   "source": [
    "cp_metrics_dict"
   ]
  },
  {
   "cell_type": "code",
   "execution_count": 60,
   "id": "33007efc-14e9-4ec6-97ac-56a455c82265",
   "metadata": {
    "execution": {
     "iopub.execute_input": "2025-07-30T14:07:38.469825Z",
     "iopub.status.busy": "2025-07-30T14:07:38.469242Z",
     "iopub.status.idle": "2025-07-30T14:07:38.476998Z",
     "shell.execute_reply": "2025-07-30T14:07:38.475686Z"
    },
    "papermill": {
     "duration": 0.044824,
     "end_time": "2025-07-30T14:07:38.479128",
     "exception": false,
     "start_time": "2025-07-30T14:07:38.434304",
     "status": "completed"
    },
    "tags": []
   },
   "outputs": [],
   "source": [
    "cp_metrics_df = pd.DataFrame(cp_metrics_dict)"
   ]
  },
  {
   "cell_type": "code",
   "execution_count": 61,
   "id": "db12611b-57b2-4910-b9d0-355adfd6e7bf",
   "metadata": {
    "execution": {
     "iopub.execute_input": "2025-07-30T14:07:38.552116Z",
     "iopub.status.busy": "2025-07-30T14:07:38.551314Z",
     "iopub.status.idle": "2025-07-30T14:07:38.571244Z",
     "shell.execute_reply": "2025-07-30T14:07:38.570197Z"
    },
    "papermill": {
     "duration": 0.058252,
     "end_time": "2025-07-30T14:07:38.572944",
     "exception": false,
     "start_time": "2025-07-30T14:07:38.514692",
     "status": "completed"
    },
    "tags": []
   },
   "outputs": [
    {
     "data": {
      "text/html": [
       "<div>\n",
       "<style scoped>\n",
       "    .dataframe tbody tr th:only-of-type {\n",
       "        vertical-align: middle;\n",
       "    }\n",
       "\n",
       "    .dataframe tbody tr th {\n",
       "        vertical-align: top;\n",
       "    }\n",
       "\n",
       "    .dataframe thead th {\n",
       "        text-align: right;\n",
       "    }\n",
       "</style>\n",
       "<table border=\"1\" class=\"dataframe\">\n",
       "  <thead>\n",
       "    <tr style=\"text-align: right;\">\n",
       "      <th></th>\n",
       "      <th>universe_id</th>\n",
       "      <th>universe_training_size</th>\n",
       "      <th>universe_scale</th>\n",
       "      <th>universe_model</th>\n",
       "      <th>universe_exclude_features</th>\n",
       "      <th>universe_exclude_subgroups</th>\n",
       "      <th>q_hat</th>\n",
       "      <th>coverage</th>\n",
       "      <th>avg_size</th>\n",
       "    </tr>\n",
       "  </thead>\n",
       "  <tbody>\n",
       "    <tr>\n",
       "      <th>0</th>\n",
       "      <td>5dfac1059e2b59ce356febb53bd79ed9</td>\n",
       "      <td>5k</td>\n",
       "      <td>scale</td>\n",
       "      <td>penalized_logreg</td>\n",
       "      <td>nationality</td>\n",
       "      <td>keep-all</td>\n",
       "      <td>0.680979</td>\n",
       "      <td>0.910902</td>\n",
       "      <td>1.146818</td>\n",
       "    </tr>\n",
       "  </tbody>\n",
       "</table>\n",
       "</div>"
      ],
      "text/plain": [
       "                        universe_id universe_training_size universe_scale  \\\n",
       "0  5dfac1059e2b59ce356febb53bd79ed9                     5k          scale   \n",
       "\n",
       "     universe_model universe_exclude_features universe_exclude_subgroups  \\\n",
       "0  penalized_logreg               nationality                   keep-all   \n",
       "\n",
       "      q_hat  coverage  avg_size  \n",
       "0  0.680979  0.910902  1.146818  "
      ]
     },
     "execution_count": 61,
     "metadata": {},
     "output_type": "execute_result"
    }
   ],
   "source": [
    "cp_metrics_df"
   ]
  },
  {
   "cell_type": "code",
   "execution_count": 62,
   "id": "b7fbde55-a0a1-47e4-9af6-fe4a17fa8c61",
   "metadata": {
    "execution": {
     "iopub.execute_input": "2025-07-30T14:07:38.629953Z",
     "iopub.status.busy": "2025-07-30T14:07:38.629380Z",
     "iopub.status.idle": "2025-07-30T14:07:38.634977Z",
     "shell.execute_reply": "2025-07-30T14:07:38.633968Z"
    },
    "papermill": {
     "duration": 0.034104,
     "end_time": "2025-07-30T14:07:38.636695",
     "exception": false,
     "start_time": "2025-07-30T14:07:38.602591",
     "status": "completed"
    },
    "tags": []
   },
   "outputs": [],
   "source": [
    "# Conditional Coverage & looking at subgroups"
   ]
  },
  {
   "cell_type": "code",
   "execution_count": 63,
   "id": "027ae886-68dd-4141-96c7-805a5450e1ef",
   "metadata": {
    "execution": {
     "iopub.execute_input": "2025-07-30T14:07:38.691868Z",
     "iopub.status.busy": "2025-07-30T14:07:38.690973Z",
     "iopub.status.idle": "2025-07-30T14:07:38.967785Z",
     "shell.execute_reply": "2025-07-30T14:07:38.966606Z"
    },
    "papermill": {
     "duration": 0.306279,
     "end_time": "2025-07-30T14:07:38.969696",
     "exception": false,
     "start_time": "2025-07-30T14:07:38.663417",
     "status": "completed"
    },
    "tags": []
   },
   "outputs": [],
   "source": [
    "from fairness_multiverse.conformal import build_cp_groups\n",
    "\n",
    "cp_groups_df = build_cp_groups(pred_sets, y_true, X_test.index, org_test)\n",
    "#needs universe_id and setting"
   ]
  },
  {
   "cell_type": "code",
   "execution_count": 64,
   "id": "01d5802c-663a-4d1f-9d69-e036faaffbf7",
   "metadata": {
    "execution": {
     "iopub.execute_input": "2025-07-30T14:07:39.023247Z",
     "iopub.status.busy": "2025-07-30T14:07:39.022548Z",
     "iopub.status.idle": "2025-07-30T14:07:39.028475Z",
     "shell.execute_reply": "2025-07-30T14:07:39.027346Z"
    },
    "papermill": {
     "duration": 0.034233,
     "end_time": "2025-07-30T14:07:39.029810",
     "exception": false,
     "start_time": "2025-07-30T14:07:38.995577",
     "status": "completed"
    },
    "tags": []
   },
   "outputs": [],
   "source": [
    "#delete\n",
    "#cp_groups_df"
   ]
  },
  {
   "cell_type": "code",
   "execution_count": 65,
   "id": "fa424af1-d1eb-443d-b717-2d279ada8408",
   "metadata": {
    "execution": {
     "iopub.execute_input": "2025-07-30T14:07:39.064225Z",
     "iopub.status.busy": "2025-07-30T14:07:39.063852Z",
     "iopub.status.idle": "2025-07-30T14:07:39.067659Z",
     "shell.execute_reply": "2025-07-30T14:07:39.066997Z"
    },
    "papermill": {
     "duration": 0.02169,
     "end_time": "2025-07-30T14:07:39.069059",
     "exception": false,
     "start_time": "2025-07-30T14:07:39.047369",
     "status": "completed"
    },
    "tags": []
   },
   "outputs": [],
   "source": [
    "#delete\n",
    "#percentage = (cp_groups_df['nongerman_female'] == 1).mean() * 100\n",
    "#print(percentage)\n"
   ]
  },
  {
   "cell_type": "code",
   "execution_count": 66,
   "id": "6cbdab96-b2b2-45af-ad54-d0516db2e28d",
   "metadata": {
    "execution": {
     "iopub.execute_input": "2025-07-30T14:07:39.133983Z",
     "iopub.status.busy": "2025-07-30T14:07:39.133448Z",
     "iopub.status.idle": "2025-07-30T14:07:40.930114Z",
     "shell.execute_reply": "2025-07-30T14:07:40.929204Z"
    },
    "papermill": {
     "duration": 1.838916,
     "end_time": "2025-07-30T14:07:40.932173",
     "exception": false,
     "start_time": "2025-07-30T14:07:39.093257",
     "status": "completed"
    },
    "tags": []
   },
   "outputs": [],
   "source": [
    "# Define covered = 1 if true_label is in the predicted set\n",
    "cp_groups_df['covered'] = cp_groups_df.apply(\n",
    "    lambda r: int(r['true_label'] in r['pred_set']),\n",
    "    axis=1\n",
    ")"
   ]
  },
  {
   "cell_type": "code",
   "execution_count": 67,
   "id": "338ff529-1a6b-4b87-a931-8e4788d52aad",
   "metadata": {
    "execution": {
     "iopub.execute_input": "2025-07-30T14:07:40.985114Z",
     "iopub.status.busy": "2025-07-30T14:07:40.984438Z",
     "iopub.status.idle": "2025-07-30T14:07:40.991571Z",
     "shell.execute_reply": "2025-07-30T14:07:40.990320Z"
    },
    "papermill": {
     "duration": 0.035553,
     "end_time": "2025-07-30T14:07:40.993451",
     "exception": false,
     "start_time": "2025-07-30T14:07:40.957898",
     "status": "completed"
    },
    "tags": []
   },
   "outputs": [],
   "source": [
    "#cp_groups_df"
   ]
  },
  {
   "cell_type": "code",
   "execution_count": 68,
   "id": "90032e27-66df-4540-9169-4e89cfbaa758",
   "metadata": {
    "execution": {
     "iopub.execute_input": "2025-07-30T14:07:41.047898Z",
     "iopub.status.busy": "2025-07-30T14:07:41.047222Z",
     "iopub.status.idle": "2025-07-30T14:07:41.059071Z",
     "shell.execute_reply": "2025-07-30T14:07:41.057883Z"
    },
    "papermill": {
     "duration": 0.040131,
     "end_time": "2025-07-30T14:07:41.061073",
     "exception": false,
     "start_time": "2025-07-30T14:07:41.020942",
     "status": "completed"
    },
    "tags": []
   },
   "outputs": [],
   "source": [
    "subgroups = ['frau1','nongerman','nongerman_male','nongerman_female']\n",
    "\n",
    "# Conditional coverage for subgroup==1\n",
    "cond_coverage = {\n",
    "    g: cp_groups_df.loc[cp_groups_df[g]==1, 'covered'].mean()\n",
    "    for g in subgroups\n",
    "}"
   ]
  },
  {
   "cell_type": "code",
   "execution_count": 69,
   "id": "1e348fb1-b9c3-45bc-ba23-f016827a7e0d",
   "metadata": {
    "execution": {
     "iopub.execute_input": "2025-07-30T14:07:41.124016Z",
     "iopub.status.busy": "2025-07-30T14:07:41.123356Z",
     "iopub.status.idle": "2025-07-30T14:07:41.130805Z",
     "shell.execute_reply": "2025-07-30T14:07:41.129741Z"
    },
    "papermill": {
     "duration": 0.039171,
     "end_time": "2025-07-30T14:07:41.132557",
     "exception": false,
     "start_time": "2025-07-30T14:07:41.093386",
     "status": "completed"
    },
    "tags": []
   },
   "outputs": [
    {
     "data": {
      "text/plain": [
       "{'frau1': 0.9087478096778542,\n",
       " 'nongerman': 0.9117498456183686,\n",
       " 'nongerman_male': 0.9283977303431505,\n",
       " 'nongerman_female': 0.8842026825633383}"
      ]
     },
     "execution_count": 69,
     "metadata": {},
     "output_type": "execute_result"
    }
   ],
   "source": [
    "cond_coverage"
   ]
  },
  {
   "cell_type": "code",
   "execution_count": 70,
   "id": "f5093324-c3dd-4d63-bc4c-8d945e5c8bbb",
   "metadata": {
    "execution": {
     "iopub.execute_input": "2025-07-30T14:07:41.190185Z",
     "iopub.status.busy": "2025-07-30T14:07:41.188856Z",
     "iopub.status.idle": "2025-07-30T14:07:41.199574Z",
     "shell.execute_reply": "2025-07-30T14:07:41.198232Z"
    },
    "papermill": {
     "duration": 0.039428,
     "end_time": "2025-07-30T14:07:41.201740",
     "exception": false,
     "start_time": "2025-07-30T14:07:41.162312",
     "status": "completed"
    },
    "tags": []
   },
   "outputs": [],
   "source": [
    "for subgroup, cov in cond_coverage.items():\n",
    "    cp_metrics_df[f\"cov_{subgroup}\"] = cov"
   ]
  },
  {
   "cell_type": "code",
   "execution_count": 71,
   "id": "6e872e10-dbe5-49e8-b554-5030c98ff75d",
   "metadata": {
    "execution": {
     "iopub.execute_input": "2025-07-30T14:07:41.259655Z",
     "iopub.status.busy": "2025-07-30T14:07:41.259068Z",
     "iopub.status.idle": "2025-07-30T14:07:41.279668Z",
     "shell.execute_reply": "2025-07-30T14:07:41.278347Z"
    },
    "papermill": {
     "duration": 0.05005,
     "end_time": "2025-07-30T14:07:41.282192",
     "exception": false,
     "start_time": "2025-07-30T14:07:41.232142",
     "status": "completed"
    },
    "tags": []
   },
   "outputs": [
    {
     "data": {
      "text/html": [
       "<div>\n",
       "<style scoped>\n",
       "    .dataframe tbody tr th:only-of-type {\n",
       "        vertical-align: middle;\n",
       "    }\n",
       "\n",
       "    .dataframe tbody tr th {\n",
       "        vertical-align: top;\n",
       "    }\n",
       "\n",
       "    .dataframe thead th {\n",
       "        text-align: right;\n",
       "    }\n",
       "</style>\n",
       "<table border=\"1\" class=\"dataframe\">\n",
       "  <thead>\n",
       "    <tr style=\"text-align: right;\">\n",
       "      <th></th>\n",
       "      <th>universe_id</th>\n",
       "      <th>universe_training_size</th>\n",
       "      <th>universe_scale</th>\n",
       "      <th>universe_model</th>\n",
       "      <th>universe_exclude_features</th>\n",
       "      <th>universe_exclude_subgroups</th>\n",
       "      <th>q_hat</th>\n",
       "      <th>coverage</th>\n",
       "      <th>avg_size</th>\n",
       "      <th>cov_frau1</th>\n",
       "      <th>cov_nongerman</th>\n",
       "      <th>cov_nongerman_male</th>\n",
       "      <th>cov_nongerman_female</th>\n",
       "    </tr>\n",
       "  </thead>\n",
       "  <tbody>\n",
       "    <tr>\n",
       "      <th>0</th>\n",
       "      <td>5dfac1059e2b59ce356febb53bd79ed9</td>\n",
       "      <td>5k</td>\n",
       "      <td>scale</td>\n",
       "      <td>penalized_logreg</td>\n",
       "      <td>nationality</td>\n",
       "      <td>keep-all</td>\n",
       "      <td>0.680979</td>\n",
       "      <td>0.910902</td>\n",
       "      <td>1.146818</td>\n",
       "      <td>0.908748</td>\n",
       "      <td>0.91175</td>\n",
       "      <td>0.928398</td>\n",
       "      <td>0.884203</td>\n",
       "    </tr>\n",
       "  </tbody>\n",
       "</table>\n",
       "</div>"
      ],
      "text/plain": [
       "                        universe_id universe_training_size universe_scale  \\\n",
       "0  5dfac1059e2b59ce356febb53bd79ed9                     5k          scale   \n",
       "\n",
       "     universe_model universe_exclude_features universe_exclude_subgroups  \\\n",
       "0  penalized_logreg               nationality                   keep-all   \n",
       "\n",
       "      q_hat  coverage  avg_size  cov_frau1  cov_nongerman  cov_nongerman_male  \\\n",
       "0  0.680979  0.910902  1.146818   0.908748        0.91175            0.928398   \n",
       "\n",
       "   cov_nongerman_female  \n",
       "0              0.884203  "
      ]
     },
     "execution_count": 71,
     "metadata": {},
     "output_type": "execute_result"
    }
   ],
   "source": [
    "cp_metrics_df"
   ]
  },
  {
   "cell_type": "markdown",
   "id": "33774451",
   "metadata": {
    "papermill": {
     "duration": 0.02874,
     "end_time": "2025-07-30T14:07:41.337661",
     "exception": false,
     "start_time": "2025-07-30T14:07:41.308921",
     "status": "completed"
    },
    "tags": []
   },
   "source": [
    "# (Fairness) Metrics"
   ]
  },
  {
   "cell_type": "code",
   "execution_count": 72,
   "id": "debc5d62",
   "metadata": {
    "execution": {
     "iopub.execute_input": "2025-07-30T14:07:41.390902Z",
     "iopub.status.busy": "2025-07-30T14:07:41.390551Z",
     "iopub.status.idle": "2025-07-30T14:07:41.404574Z",
     "shell.execute_reply": "2025-07-30T14:07:41.403533Z"
    },
    "papermill": {
     "duration": 0.037396,
     "end_time": "2025-07-30T14:07:41.406601",
     "exception": false,
     "start_time": "2025-07-30T14:07:41.369205",
     "status": "completed"
    },
    "tags": []
   },
   "outputs": [],
   "source": [
    "# do I need to include maxdeutsch1.missing?\n",
    "\n",
    "import numpy as np\n",
    "\n",
    "colname_to_bin = \"maxdeutsch1\"\n",
    "majority_value = org_train[colname_to_bin].mode()[0]\n",
    "\n",
    "org_test[\"majmin\"] = np.where(org_test[colname_to_bin] == majority_value, \"majority\", \"minority\")"
   ]
  },
  {
   "cell_type": "code",
   "execution_count": 73,
   "id": "06a50de5",
   "metadata": {
    "execution": {
     "iopub.execute_input": "2025-07-30T14:07:41.479835Z",
     "iopub.status.busy": "2025-07-30T14:07:41.479339Z",
     "iopub.status.idle": "2025-07-30T14:07:43.166314Z",
     "shell.execute_reply": "2025-07-30T14:07:43.165307Z"
    },
    "papermill": {
     "duration": 1.717096,
     "end_time": "2025-07-30T14:07:43.168299",
     "exception": false,
     "start_time": "2025-07-30T14:07:41.451203",
     "status": "completed"
    },
    "tags": []
   },
   "outputs": [],
   "source": [
    "example_universe = universe.copy()\n",
    "example_universe[\"cutoff\"] = example_universe[\"cutoff\"][0]\n",
    "example_universe[\"eval_fairness_grouping\"] = example_universe[\"eval_fairness_grouping\"][0]\n",
    "fairness_dict, metric_frame = universe_analysis.compute_metrics(\n",
    "    example_universe,\n",
    "    y_pred_prob=probs_test,\n",
    "    y_test=y_true,\n",
    "    org_test=org_test,\n",
    ")"
   ]
  },
  {
   "cell_type": "markdown",
   "id": "f95d4e02",
   "metadata": {
    "papermill": {
     "duration": 0.027914,
     "end_time": "2025-07-30T14:07:43.227469",
     "exception": false,
     "start_time": "2025-07-30T14:07:43.199555",
     "status": "completed"
    },
    "tags": []
   },
   "source": [
    "# Overall"
   ]
  },
  {
   "cell_type": "markdown",
   "id": "bdee4871",
   "metadata": {
    "papermill": {
     "duration": 0.027567,
     "end_time": "2025-07-30T14:07:43.282522",
     "exception": false,
     "start_time": "2025-07-30T14:07:43.254955",
     "status": "completed"
    },
    "tags": []
   },
   "source": [
    "Fairness\n",
    "Main fairness target: Equalized Odds. Seems to be a better fit than equal opportunity, since we're not only interested in Y = 1. Seems to be a better fit than demographic parity, since we also care about accuracy, not just equal distribution of preds.\n",
    "\n",
    "Pick column for computation of fairness metrics\n",
    "\n",
    "Performance\n",
    "Overall performance measures, most interesting in relation to the measures split by group below"
   ]
  },
  {
   "cell_type": "code",
   "execution_count": 74,
   "id": "c4e067c6",
   "metadata": {
    "execution": {
     "iopub.execute_input": "2025-07-30T14:07:43.339831Z",
     "iopub.status.busy": "2025-07-30T14:07:43.338881Z",
     "iopub.status.idle": "2025-07-30T14:07:43.348769Z",
     "shell.execute_reply": "2025-07-30T14:07:43.347723Z"
    },
    "papermill": {
     "duration": 0.040176,
     "end_time": "2025-07-30T14:07:43.350495",
     "exception": false,
     "start_time": "2025-07-30T14:07:43.310319",
     "status": "completed"
    },
    "tags": []
   },
   "outputs": [
    {
     "data": {
      "text/plain": [
       "accuracy                   0.223420\n",
       "balanced accuracy          0.546492\n",
       "f1                         0.244778\n",
       "precision                  0.139833\n",
       "false positive rate        0.888072\n",
       "false negative rate        0.018943\n",
       "selection rate             0.900000\n",
       "count                  89710.000000\n",
       "dtype: float64"
      ]
     },
     "execution_count": 74,
     "metadata": {},
     "output_type": "execute_result"
    }
   ],
   "source": [
    "metric_frame.overall"
   ]
  },
  {
   "cell_type": "markdown",
   "id": "e968fe9d",
   "metadata": {
    "papermill": {
     "duration": 0.023364,
     "end_time": "2025-07-30T14:07:43.401755",
     "exception": false,
     "start_time": "2025-07-30T14:07:43.378391",
     "status": "completed"
    },
    "tags": []
   },
   "source": [
    "By Group"
   ]
  },
  {
   "cell_type": "code",
   "execution_count": 75,
   "id": "ec325bce",
   "metadata": {
    "execution": {
     "iopub.execute_input": "2025-07-30T14:07:43.451025Z",
     "iopub.status.busy": "2025-07-30T14:07:43.450525Z",
     "iopub.status.idle": "2025-07-30T14:07:43.467096Z",
     "shell.execute_reply": "2025-07-30T14:07:43.466091Z"
    },
    "papermill": {
     "duration": 0.044695,
     "end_time": "2025-07-30T14:07:43.468908",
     "exception": false,
     "start_time": "2025-07-30T14:07:43.424213",
     "status": "completed"
    },
    "tags": []
   },
   "outputs": [
    {
     "data": {
      "text/html": [
       "<div>\n",
       "<style scoped>\n",
       "    .dataframe tbody tr th:only-of-type {\n",
       "        vertical-align: middle;\n",
       "    }\n",
       "\n",
       "    .dataframe tbody tr th {\n",
       "        vertical-align: top;\n",
       "    }\n",
       "\n",
       "    .dataframe thead th {\n",
       "        text-align: right;\n",
       "    }\n",
       "</style>\n",
       "<table border=\"1\" class=\"dataframe\">\n",
       "  <thead>\n",
       "    <tr style=\"text-align: right;\">\n",
       "      <th></th>\n",
       "      <th>accuracy</th>\n",
       "      <th>balanced accuracy</th>\n",
       "      <th>f1</th>\n",
       "      <th>precision</th>\n",
       "      <th>false positive rate</th>\n",
       "      <th>false negative rate</th>\n",
       "      <th>selection rate</th>\n",
       "      <th>count</th>\n",
       "    </tr>\n",
       "    <tr>\n",
       "      <th>majmin</th>\n",
       "      <th></th>\n",
       "      <th></th>\n",
       "      <th></th>\n",
       "      <th></th>\n",
       "      <th></th>\n",
       "      <th></th>\n",
       "      <th></th>\n",
       "      <th></th>\n",
       "    </tr>\n",
       "  </thead>\n",
       "  <tbody>\n",
       "    <tr>\n",
       "      <th>majority</th>\n",
       "      <td>0.244788</td>\n",
       "      <td>0.556414</td>\n",
       "      <td>0.255360</td>\n",
       "      <td>0.146807</td>\n",
       "      <td>0.867150</td>\n",
       "      <td>0.020022</td>\n",
       "      <td>0.882059</td>\n",
       "      <td>69170.0</td>\n",
       "    </tr>\n",
       "    <tr>\n",
       "      <th>minority</th>\n",
       "      <td>0.151461</td>\n",
       "      <td>0.514016</td>\n",
       "      <td>0.211179</td>\n",
       "      <td>0.118264</td>\n",
       "      <td>0.957187</td>\n",
       "      <td>0.014780</td>\n",
       "      <td>0.960419</td>\n",
       "      <td>20540.0</td>\n",
       "    </tr>\n",
       "  </tbody>\n",
       "</table>\n",
       "</div>"
      ],
      "text/plain": [
       "          accuracy  balanced accuracy        f1  precision  \\\n",
       "majmin                                                       \n",
       "majority  0.244788           0.556414  0.255360   0.146807   \n",
       "minority  0.151461           0.514016  0.211179   0.118264   \n",
       "\n",
       "          false positive rate  false negative rate  selection rate    count  \n",
       "majmin                                                                       \n",
       "majority             0.867150             0.020022        0.882059  69170.0  \n",
       "minority             0.957187             0.014780        0.960419  20540.0  "
      ]
     },
     "execution_count": 75,
     "metadata": {},
     "output_type": "execute_result"
    }
   ],
   "source": [
    "metric_frame.by_group"
   ]
  },
  {
   "cell_type": "code",
   "execution_count": 76,
   "id": "a9ddbe63",
   "metadata": {
    "execution": {
     "iopub.execute_input": "2025-07-30T14:07:43.530919Z",
     "iopub.status.busy": "2025-07-30T14:07:43.530016Z",
     "iopub.status.idle": "2025-07-30T14:07:45.776638Z",
     "shell.execute_reply": "2025-07-30T14:07:45.775733Z"
    },
    "papermill": {
     "duration": 2.278464,
     "end_time": "2025-07-30T14:07:45.778208",
     "exception": false,
     "start_time": "2025-07-30T14:07:43.499744",
     "status": "completed"
    },
    "tags": []
   },
   "outputs": [
    {
     "data": {
      "text/plain": [
       "array([[<Axes: title={'center': 'accuracy'}, xlabel='majmin'>,\n",
       "        <Axes: title={'center': 'balanced accuracy'}, xlabel='majmin'>,\n",
       "        <Axes: title={'center': 'f1'}, xlabel='majmin'>],\n",
       "       [<Axes: title={'center': 'precision'}, xlabel='majmin'>,\n",
       "        <Axes: title={'center': 'false positive rate'}, xlabel='majmin'>,\n",
       "        <Axes: title={'center': 'false negative rate'}, xlabel='majmin'>],\n",
       "       [<Axes: title={'center': 'selection rate'}, xlabel='majmin'>,\n",
       "        <Axes: title={'center': 'count'}, xlabel='majmin'>,\n",
       "        <Axes: xlabel='majmin'>]], dtype=object)"
      ]
     },
     "execution_count": 76,
     "metadata": {},
     "output_type": "execute_result"
    },
    {
     "data": {
      "image/png": "[encoded data removed]",
      "text/plain": [
       "<Figure size 1200x800 with 9 Axes>"
      ]
     },
     "metadata": {},
     "output_type": "display_data"
    }
   ],
   "source": [
    "# In a graphic\n",
    "metric_frame.by_group.plot.bar(\n",
    "    subplots=True,\n",
    "    layout=[3, 3],\n",
    "    legend=False,\n",
    "    figsize=[12, 8],\n",
    "    title=\"Show all metrics\",\n",
    ")"
   ]
  },
  {
   "cell_type": "markdown",
   "id": "f57a0bac",
   "metadata": {
    "papermill": {
     "duration": 0.028191,
     "end_time": "2025-07-30T14:07:45.834949",
     "exception": false,
     "start_time": "2025-07-30T14:07:45.806758",
     "status": "completed"
    },
    "tags": []
   },
   "source": [
    "# Final Output"
   ]
  },
  {
   "cell_type": "code",
   "execution_count": 77,
   "id": "96d280a3",
   "metadata": {
    "execution": {
     "iopub.execute_input": "2025-07-30T14:07:45.891761Z",
     "iopub.status.busy": "2025-07-30T14:07:45.891108Z",
     "iopub.status.idle": "2025-07-30T14:07:45.899838Z",
     "shell.execute_reply": "2025-07-30T14:07:45.898483Z"
    },
    "papermill": {
     "duration": 0.039926,
     "end_time": "2025-07-30T14:07:45.901551",
     "exception": false,
     "start_time": "2025-07-30T14:07:45.861625",
     "status": "completed"
    },
    "tags": []
   },
   "outputs": [
    {
     "data": {
      "text/plain": [
       "4"
      ]
     },
     "execution_count": 77,
     "metadata": {},
     "output_type": "execute_result"
    }
   ],
   "source": [
    "sub_universes = universe_analysis.generate_sub_universes()\n",
    "len(sub_universes)"
   ]
  },
  {
   "cell_type": "code",
   "execution_count": 78,
   "id": "92adf7ba",
   "metadata": {
    "execution": {
     "iopub.execute_input": "2025-07-30T14:07:45.939750Z",
     "iopub.status.busy": "2025-07-30T14:07:45.939389Z",
     "iopub.status.idle": "2025-07-30T14:07:46.005371Z",
     "shell.execute_reply": "2025-07-30T14:07:46.004602Z"
    },
    "papermill": {
     "duration": 0.084478,
     "end_time": "2025-07-30T14:07:46.006872",
     "exception": false,
     "start_time": "2025-07-30T14:07:45.922394",
     "status": "completed"
    },
    "tags": []
   },
   "outputs": [],
   "source": [
    "def filter_sub_universe_data(sub_universe, org_test):\n",
    "    # Keep all rows — no filtering\n",
    "    keep_rows_mask = np.ones(org_test.shape[0], dtype=bool)\n",
    "\n",
    "    print(f\"[INFO] Keeping all rows: {keep_rows_mask.sum()} rows retained.\")\n",
    "    return keep_rows_mask"
   ]
  },
  {
   "cell_type": "code",
   "execution_count": 79,
   "id": "4a759155",
   "metadata": {
    "execution": {
     "iopub.execute_input": "2025-07-30T14:07:46.041679Z",
     "iopub.status.busy": "2025-07-30T14:07:46.041163Z",
     "iopub.status.idle": "2025-07-30T14:07:54.436866Z",
     "shell.execute_reply": "2025-07-30T14:07:54.435958Z"
    },
    "papermill": {
     "duration": 8.415053,
     "end_time": "2025-07-30T14:07:54.438478",
     "exception": false,
     "start_time": "2025-07-30T14:07:46.023425",
     "status": "completed"
    },
    "tags": []
   },
   "outputs": [
    {
     "name": "stdout",
     "output_type": "stream",
     "text": [
      "Stopping execution_time clock.\n",
      "[INFO] Keeping all rows: 89710 rows retained.\n"
     ]
    },
    {
     "name": "stdout",
     "output_type": "stream",
     "text": [
      "[INFO] Keeping all rows: 89710 rows retained.\n"
     ]
    },
    {
     "name": "stdout",
     "output_type": "stream",
     "text": [
      "[INFO] Keeping all rows: 89710 rows retained.\n"
     ]
    },
    {
     "name": "stdout",
     "output_type": "stream",
     "text": [
      "[INFO] Keeping all rows: 89710 rows retained.\n"
     ]
    },
    {
     "data": {
      "text/html": [
       "<div>\n",
       "<style scoped>\n",
       "    .dataframe tbody tr th:only-of-type {\n",
       "        vertical-align: middle;\n",
       "    }\n",
       "\n",
       "    .dataframe tbody tr th {\n",
       "        vertical-align: top;\n",
       "    }\n",
       "\n",
       "    .dataframe thead th {\n",
       "        text-align: right;\n",
       "    }\n",
       "</style>\n",
       "<table border=\"1\" class=\"dataframe\">\n",
       "  <thead>\n",
       "    <tr style=\"text-align: right;\">\n",
       "      <th></th>\n",
       "      <th>run_no</th>\n",
       "      <th>universe_id</th>\n",
       "      <th>universe_settings</th>\n",
       "      <th>execution_time</th>\n",
       "      <th>test_size_n</th>\n",
       "      <th>test_size_frac</th>\n",
       "      <th>fair_main_equalized_odds_difference</th>\n",
       "      <th>fair_main_equalized_odds_ratio</th>\n",
       "      <th>fair_main_demographic_parity_difference</th>\n",
       "      <th>fair_main_demographic_parity_ratio</th>\n",
       "      <th>...</th>\n",
       "      <th>perf_grp_precision_0</th>\n",
       "      <th>perf_grp_precision_1</th>\n",
       "      <th>perf_grp_false positive rate_0</th>\n",
       "      <th>perf_grp_false positive rate_1</th>\n",
       "      <th>perf_grp_false negative rate_0</th>\n",
       "      <th>perf_grp_false negative rate_1</th>\n",
       "      <th>perf_grp_selection rate_0</th>\n",
       "      <th>perf_grp_selection rate_1</th>\n",
       "      <th>perf_grp_count_0</th>\n",
       "      <th>perf_grp_count_1</th>\n",
       "    </tr>\n",
       "  </thead>\n",
       "  <tbody>\n",
       "    <tr>\n",
       "      <th>0</th>\n",
       "      <td>12</td>\n",
       "      <td>5dfac1059e2b59ce356febb53bd79ed9</td>\n",
       "      <td>{\"cutoff\": \"quantile_0.1\", \"eval_fairness_grou...</td>\n",
       "      <td>28.025591</td>\n",
       "      <td>89710</td>\n",
       "      <td>1.0</td>\n",
       "      <td>0.090037</td>\n",
       "      <td>0.905936</td>\n",
       "      <td>0.07836</td>\n",
       "      <td>0.918411</td>\n",
       "      <td>...</td>\n",
       "      <td>NaN</td>\n",
       "      <td>NaN</td>\n",
       "      <td>NaN</td>\n",
       "      <td>NaN</td>\n",
       "      <td>NaN</td>\n",
       "      <td>NaN</td>\n",
       "      <td>NaN</td>\n",
       "      <td>NaN</td>\n",
       "      <td>NaN</td>\n",
       "      <td>NaN</td>\n",
       "    </tr>\n",
       "    <tr>\n",
       "      <th>0</th>\n",
       "      <td>12</td>\n",
       "      <td>5dfac1059e2b59ce356febb53bd79ed9</td>\n",
       "      <td>{\"cutoff\": \"quantile_0.1\", \"eval_fairness_grou...</td>\n",
       "      <td>28.025591</td>\n",
       "      <td>89710</td>\n",
       "      <td>1.0</td>\n",
       "      <td>0.090037</td>\n",
       "      <td>0.905936</td>\n",
       "      <td>0.07836</td>\n",
       "      <td>0.918411</td>\n",
       "      <td>...</td>\n",
       "      <td>0.118264</td>\n",
       "      <td>0.146807</td>\n",
       "      <td>0.957187</td>\n",
       "      <td>0.867150</td>\n",
       "      <td>0.014780</td>\n",
       "      <td>0.020022</td>\n",
       "      <td>0.960419</td>\n",
       "      <td>0.882059</td>\n",
       "      <td>20540.0</td>\n",
       "      <td>69170.0</td>\n",
       "    </tr>\n",
       "    <tr>\n",
       "      <th>0</th>\n",
       "      <td>12</td>\n",
       "      <td>5dfac1059e2b59ce356febb53bd79ed9</td>\n",
       "      <td>{\"cutoff\": \"quantile_0.25\", \"eval_fairness_gro...</td>\n",
       "      <td>28.025591</td>\n",
       "      <td>89710</td>\n",
       "      <td>1.0</td>\n",
       "      <td>0.177905</td>\n",
       "      <td>0.793029</td>\n",
       "      <td>0.15578</td>\n",
       "      <td>0.820964</td>\n",
       "      <td>...</td>\n",
       "      <td>NaN</td>\n",
       "      <td>NaN</td>\n",
       "      <td>NaN</td>\n",
       "      <td>NaN</td>\n",
       "      <td>NaN</td>\n",
       "      <td>NaN</td>\n",
       "      <td>NaN</td>\n",
       "      <td>NaN</td>\n",
       "      <td>NaN</td>\n",
       "      <td>NaN</td>\n",
       "    </tr>\n",
       "    <tr>\n",
       "      <th>0</th>\n",
       "      <td>12</td>\n",
       "      <td>5dfac1059e2b59ce356febb53bd79ed9</td>\n",
       "      <td>{\"cutoff\": \"quantile_0.25\", \"eval_fairness_gro...</td>\n",
       "      <td>28.025591</td>\n",
       "      <td>89710</td>\n",
       "      <td>1.0</td>\n",
       "      <td>0.177905</td>\n",
       "      <td>0.793029</td>\n",
       "      <td>0.15578</td>\n",
       "      <td>0.820964</td>\n",
       "      <td>...</td>\n",
       "      <td>0.126007</td>\n",
       "      <td>0.171828</td>\n",
       "      <td>0.859564</td>\n",
       "      <td>0.681659</td>\n",
       "      <td>0.048986</td>\n",
       "      <td>0.071116</td>\n",
       "      <td>0.870107</td>\n",
       "      <td>0.714327</td>\n",
       "      <td>20540.0</td>\n",
       "      <td>69170.0</td>\n",
       "    </tr>\n",
       "  </tbody>\n",
       "</table>\n",
       "<p>4 rows × 50 columns</p>\n",
       "</div>"
      ],
      "text/plain": [
       "  run_no                       universe_id  \\\n",
       "0     12  5dfac1059e2b59ce356febb53bd79ed9   \n",
       "0     12  5dfac1059e2b59ce356febb53bd79ed9   \n",
       "0     12  5dfac1059e2b59ce356febb53bd79ed9   \n",
       "0     12  5dfac1059e2b59ce356febb53bd79ed9   \n",
       "\n",
       "                                   universe_settings  execution_time  \\\n",
       "0  {\"cutoff\": \"quantile_0.1\", \"eval_fairness_grou...       28.025591   \n",
       "0  {\"cutoff\": \"quantile_0.1\", \"eval_fairness_grou...       28.025591   \n",
       "0  {\"cutoff\": \"quantile_0.25\", \"eval_fairness_gro...       28.025591   \n",
       "0  {\"cutoff\": \"quantile_0.25\", \"eval_fairness_gro...       28.025591   \n",
       "\n",
       "   test_size_n  test_size_frac  fair_main_equalized_odds_difference  \\\n",
       "0        89710             1.0                             0.090037   \n",
       "0        89710             1.0                             0.090037   \n",
       "0        89710             1.0                             0.177905   \n",
       "0        89710             1.0                             0.177905   \n",
       "\n",
       "   fair_main_equalized_odds_ratio  fair_main_demographic_parity_difference  \\\n",
       "0                        0.905936                                  0.07836   \n",
       "0                        0.905936                                  0.07836   \n",
       "0                        0.793029                                  0.15578   \n",
       "0                        0.793029                                  0.15578   \n",
       "\n",
       "   fair_main_demographic_parity_ratio  ...  perf_grp_precision_0  \\\n",
       "0                            0.918411  ...                   NaN   \n",
       "0                            0.918411  ...              0.118264   \n",
       "0                            0.820964  ...                   NaN   \n",
       "0                            0.820964  ...              0.126007   \n",
       "\n",
       "   perf_grp_precision_1  perf_grp_false positive rate_0  \\\n",
       "0                   NaN                             NaN   \n",
       "0              0.146807                        0.957187   \n",
       "0                   NaN                             NaN   \n",
       "0              0.171828                        0.859564   \n",
       "\n",
       "   perf_grp_false positive rate_1  perf_grp_false negative rate_0  \\\n",
       "0                             NaN                             NaN   \n",
       "0                        0.867150                        0.014780   \n",
       "0                             NaN                             NaN   \n",
       "0                        0.681659                        0.048986   \n",
       "\n",
       "   perf_grp_false negative rate_1  perf_grp_selection rate_0  \\\n",
       "0                             NaN                        NaN   \n",
       "0                        0.020022                   0.960419   \n",
       "0                             NaN                        NaN   \n",
       "0                        0.071116                   0.870107   \n",
       "\n",
       "   perf_grp_selection rate_1  perf_grp_count_0  perf_grp_count_1  \n",
       "0                        NaN               NaN               NaN  \n",
       "0                   0.882059           20540.0           69170.0  \n",
       "0                        NaN               NaN               NaN  \n",
       "0                   0.714327           20540.0           69170.0  \n",
       "\n",
       "[4 rows x 50 columns]"
      ]
     },
     "execution_count": 79,
     "metadata": {},
     "output_type": "execute_result"
    }
   ],
   "source": [
    "final_output = universe_analysis.generate_final_output(\n",
    "    y_pred_prob=probs_test,\n",
    "    y_test=y_true,\n",
    "    org_test=org_test,\n",
    "    filter_data=filter_sub_universe_data,\n",
    "    cp_metrics_df=cp_metrics_df,\n",
    "    save=True,\n",
    ")\n",
    "final_output"
   ]
  },
  {
   "cell_type": "code",
   "execution_count": null,
   "id": "721ff514-cb11-46f8-b6fc-50392f74b5cb",
   "metadata": {
    "papermill": {
     "duration": 0.027761,
     "end_time": "2025-07-30T14:07:54.496966",
     "exception": false,
     "start_time": "2025-07-30T14:07:54.469205",
     "status": "completed"
    },
    "tags": []
   },
   "outputs": [],
   "source": []
  }
 ],
 "metadata": {
  "celltoolbar": "Tags",
  "kernelspec": {
   "display_name": "Python (CMA Fairness)",
   "language": "python",
   "name": "cma_fair_env"
  },
  "language_info": {
   "codemirror_mode": {
    "name": "ipython",
    "version": 3
   },
   "file_extension": ".py",
   "mimetype": "text/x-python",
   "name": "python",
   "nbconvert_exporter": "python",
   "pygments_lexer": "ipython3",
   "version": "3.10.12"
  },
  "papermill": {
   "default_parameters": {},
   "duration": 40.667291,
   "end_time": "2025-07-30T14:07:55.247163",
   "environment_variables": {},
   "exception": null,
   "input_path": "universe_analysis.ipynb",
   "output_path": "output/runs/12/notebooks/m_12-5dfac1059e2b59ce356febb53bd79ed9.ipynb",
   "parameters": {
    "output_dir": "output",
    "run_no": "12",
    "seed": "2023",
    "universe": "{\"cutoff\": [\"quantile_0.1\", \"quantile_0.25\"], \"eval_fairness_grouping\": [\"majority-minority\", \"nationality-all\"], \"exclude_features\": \"nationality\", \"exclude_subgroups\": \"keep-all\", \"model\": \"penalized_logreg\", \"scale\": \"scale\", \"training_size\": \"5k\", \"training_year\": \"2010_14\"}",
    "universe_id": "5dfac1059e2b59ce356febb53bd79ed9"
   },
   "start_time": "2025-07-30T14:07:14.579872",
   "version": "2.6.0"
  }
 },
 "nbformat": 4,
 "nbformat_minor": 5
}