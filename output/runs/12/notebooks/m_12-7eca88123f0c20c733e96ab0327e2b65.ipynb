{
 "cells": [
  {
   "cell_type": "code",
   "execution_count": 1,
   "id": "f159f837-637b-42ba-96b5-ec9a68c44524",
   "metadata": {
    "execution": {
     "iopub.execute_input": "2025-07-30T13:07:32.338259Z",
     "iopub.status.busy": "2025-07-30T13:07:32.337754Z",
     "iopub.status.idle": "2025-07-30T13:07:32.352364Z",
     "shell.execute_reply": "2025-07-30T13:07:32.351330Z"
    },
    "papermill": {
     "duration": 0.040466,
     "end_time": "2025-07-30T13:07:32.354105",
     "exception": false,
     "start_time": "2025-07-30T13:07:32.313639",
     "status": "completed"
    },
    "tags": []
   },
   "outputs": [
    {
     "name": "stdout",
     "output_type": "stream",
     "text": [
      "/dss/dsshome1/0C/ra93lal2/cma/CMA_Fairness_v2\n"
     ]
    },
    {
     "name": "stderr",
     "output_type": "stream",
     "text": [
      "/dss/dsshome1/0C/ra93lal2/.local/share/virtualenvs/CMA_Fairness_v2-3j10GkSs/lib/python3.10/site-packages/IPython/core/magics/osm.py:393: UserWarning: This is now an optional IPython functionality, using bookmarks requires you to install the `pickleshare` library.\n",
      "  bkms = self.shell.db.get('bookmarks', {})\n",
      "/dss/dsshome1/0C/ra93lal2/.local/share/virtualenvs/CMA_Fairness_v2-3j10GkSs/lib/python3.10/site-packages/IPython/core/magics/osm.py:417: UserWarning: This is now an optional IPython functionality, setting dhist requires you to install the `pickleshare` library.\n",
      "  self.shell.db['dhist'] = compress_dhist(dhist)[-100:]\n"
     ]
    }
   ],
   "source": [
    "%cd ~/cma/CMA_Fairness_v2"
   ]
  },
  {
   "cell_type": "markdown",
   "id": "de2603b9",
   "metadata": {
    "papermill": {
     "duration": 0.01908,
     "end_time": "2025-07-30T13:07:32.394223",
     "exception": false,
     "start_time": "2025-07-30T13:07:32.375143",
     "status": "completed"
    },
    "tags": []
   },
   "source": [
    "The following cell holds the definition of our parameters, these values can be overriden by rendering the with e.g. the following command:\n",
    "\n",
    "papermill -p alpha 0.2 -p ratio 0.3 universe_analysis.ipynb output/test_run.ipynb"
   ]
  },
  {
   "cell_type": "code",
   "execution_count": 2,
   "id": "a80968a0-40bb-4fa9-85ef-2d5eefb01975",
   "metadata": {
    "execution": {
     "iopub.execute_input": "2025-07-30T13:07:32.439662Z",
     "iopub.status.busy": "2025-07-30T13:07:32.439222Z",
     "iopub.status.idle": "2025-07-30T13:07:32.444985Z",
     "shell.execute_reply": "2025-07-30T13:07:32.443934Z"
    },
    "papermill": {
     "duration": 0.029411,
     "end_time": "2025-07-30T13:07:32.446824",
     "exception": false,
     "start_time": "2025-07-30T13:07:32.417413",
     "status": "completed"
    },
    "tags": []
   },
   "outputs": [
    {
     "name": "stdout",
     "output_type": "stream",
     "text": [
      "Current working directory: /dss/dsshome1/0C/ra93lal2/cma/CMA_Fairness_v2\n"
     ]
    }
   ],
   "source": [
    "import os\n",
    "print(\"Current working directory:\", os.getcwd())"
   ]
  },
  {
   "cell_type": "code",
   "execution_count": 3,
   "id": "2dce4c03",
   "metadata": {
    "execution": {
     "iopub.execute_input": "2025-07-30T13:07:32.492276Z",
     "iopub.status.busy": "2025-07-30T13:07:32.491802Z",
     "iopub.status.idle": "2025-07-30T13:07:32.497931Z",
     "shell.execute_reply": "2025-07-30T13:07:32.496987Z"
    },
    "papermill": {
     "duration": 0.030387,
     "end_time": "2025-07-30T13:07:32.499731",
     "exception": false,
     "start_time": "2025-07-30T13:07:32.469344",
     "status": "completed"
    },
    "tags": [
     "parameters"
    ]
   },
   "outputs": [],
   "source": [
    "run_no = 0\n",
    "universe_id = \"test\"\n",
    "universe = {\n",
    "    \"training_size\": \"25k\", # \"25k\", \"5k\", \"1k\"\n",
    "    \"training_year\": \"2014\", # \"2014\", \"2012_14\", \"2010_14\"\n",
    "    \"scale\": \"scale\", # \"scale\", \"do-not-scale\",\n",
    "    #\"stratify_split\": \"target\", # \"none\", \"target\", \"protected-attribute\", \"both\",\n",
    "    \"model\": \"elasticnet\", # \"logreg\", \"penalized_logreg\", \"rf\", \"gbm\", \"elasticnet\"\n",
    "    \"cutoff\": [\"quantile_0.15\", \"quantile_0.30\"],\n",
    "    \"exclude_features\": \"age\", # \"none\", \"nationality\", \"sex\", \"nationality-sex\", \"age\"\n",
    "    \"exclude_subgroups\": \"keep-all\", # \"keep-all\", \"drop-non-german\"\n",
    "    \"eval_fairness_grouping\": [\"majority-minority\", \"nationality-all\"]\n",
    "}\n",
    "\n",
    "output_dir=\"./output\"\n",
    "seed=0"
   ]
  },
  {
   "cell_type": "code",
   "execution_count": 4,
   "id": "27349264",
   "metadata": {
    "execution": {
     "iopub.execute_input": "2025-07-30T13:07:32.543405Z",
     "iopub.status.busy": "2025-07-30T13:07:32.542941Z",
     "iopub.status.idle": "2025-07-30T13:07:32.549357Z",
     "shell.execute_reply": "2025-07-30T13:07:32.548287Z"
    },
    "papermill": {
     "duration": 0.030271,
     "end_time": "2025-07-30T13:07:32.550930",
     "exception": false,
     "start_time": "2025-07-30T13:07:32.520659",
     "status": "completed"
    },
    "tags": [
     "injected-parameters"
    ]
   },
   "outputs": [],
   "source": [
    "# Parameters\n",
    "universe_id = \"7eca88123f0c20c733e96ab0327e2b65\"\n",
    "run_no = \"12\"\n",
    "universe = \"{\\\"cutoff\\\": [\\\"quantile_0.1\\\", \\\"quantile_0.25\\\"], \\\"eval_fairness_grouping\\\": [\\\"majority-minority\\\", \\\"nationality-all\\\"], \\\"exclude_features\\\": \\\"sex\\\", \\\"exclude_subgroups\\\": \\\"drop-non-german\\\", \\\"model\\\": \\\"rf\\\", \\\"scale\\\": \\\"scale\\\", \\\"training_size\\\": \\\"25k\\\", \\\"training_year\\\": \\\"2012_14\\\"}\"\n",
    "output_dir = \"output\"\n",
    "seed = \"2023\"\n"
   ]
  },
  {
   "cell_type": "code",
   "execution_count": 5,
   "id": "1650acaf",
   "metadata": {
    "execution": {
     "iopub.execute_input": "2025-07-30T13:07:32.594580Z",
     "iopub.status.busy": "2025-07-30T13:07:32.593539Z",
     "iopub.status.idle": "2025-07-30T13:07:32.599187Z",
     "shell.execute_reply": "2025-07-30T13:07:32.598185Z"
    },
    "papermill": {
     "duration": 0.027995,
     "end_time": "2025-07-30T13:07:32.601029",
     "exception": false,
     "start_time": "2025-07-30T13:07:32.573034",
     "status": "completed"
    },
    "tags": []
   },
   "outputs": [],
   "source": [
    "import json\n",
    "# Parse universe into dict if it is passed as a string\n",
    "if isinstance(universe, str):\n",
    "    universe = json.loads(universe)"
   ]
  },
  {
   "cell_type": "code",
   "execution_count": 6,
   "id": "16620c48",
   "metadata": {
    "execution": {
     "iopub.execute_input": "2025-07-30T13:07:32.646900Z",
     "iopub.status.busy": "2025-07-30T13:07:32.646038Z",
     "iopub.status.idle": "2025-07-30T13:07:32.698820Z",
     "shell.execute_reply": "2025-07-30T13:07:32.697713Z"
    },
    "papermill": {
     "duration": 0.077083,
     "end_time": "2025-07-30T13:07:32.700843",
     "exception": false,
     "start_time": "2025-07-30T13:07:32.623760",
     "status": "completed"
    },
    "tags": []
   },
   "outputs": [],
   "source": [
    "# Auto-reload the custom package\n",
    "%load_ext autoreload\n",
    "%autoreload 1\n",
    "%aimport fairness_multiverse"
   ]
  },
  {
   "cell_type": "code",
   "execution_count": 7,
   "id": "01c5c9f3",
   "metadata": {
    "execution": {
     "iopub.execute_input": "2025-07-30T13:07:32.749516Z",
     "iopub.status.busy": "2025-07-30T13:07:32.749014Z",
     "iopub.status.idle": "2025-07-30T13:07:34.743925Z",
     "shell.execute_reply": "2025-07-30T13:07:34.743118Z"
    },
    "papermill": {
     "duration": 2.022775,
     "end_time": "2025-07-30T13:07:34.745330",
     "exception": false,
     "start_time": "2025-07-30T13:07:32.722555",
     "status": "completed"
    },
    "tags": []
   },
   "outputs": [],
   "source": [
    "from fairness_multiverse.universe import UniverseAnalysis\n",
    "\n",
    "universe_analysis = UniverseAnalysis(\n",
    "    run_no = run_no,\n",
    "    universe_id = universe_id,\n",
    "    universe = universe,\n",
    "    output_dir=output_dir,\n",
    ")"
   ]
  },
  {
   "cell_type": "code",
   "execution_count": 8,
   "id": "106241f5",
   "metadata": {
    "execution": {
     "iopub.execute_input": "2025-07-30T13:07:34.768886Z",
     "iopub.status.busy": "2025-07-30T13:07:34.768624Z",
     "iopub.status.idle": "2025-07-30T13:07:34.773218Z",
     "shell.execute_reply": "2025-07-30T13:07:34.772636Z"
    },
    "papermill": {
     "duration": 0.016422,
     "end_time": "2025-07-30T13:07:34.774320",
     "exception": false,
     "start_time": "2025-07-30T13:07:34.757898",
     "status": "completed"
    },
    "tags": []
   },
   "outputs": [
    {
     "name": "stdout",
     "output_type": "stream",
     "text": [
      "Using Seed: 2023\n"
     ]
    }
   ],
   "source": [
    "import numpy as np\n",
    "parsed_seed = int(seed)\n",
    "np.random.seed(parsed_seed)\n",
    "print(f\"Using Seed: {parsed_seed}\")"
   ]
  },
  {
   "cell_type": "markdown",
   "id": "e0ebdc57",
   "metadata": {
    "papermill": {
     "duration": 0.011901,
     "end_time": "2025-07-30T13:07:34.796972",
     "exception": false,
     "start_time": "2025-07-30T13:07:34.785071",
     "status": "completed"
    },
    "tags": []
   },
   "source": [
    "# Loading Data"
   ]
  },
  {
   "cell_type": "markdown",
   "id": "681925a3",
   "metadata": {
    "papermill": {
     "duration": 0.012503,
     "end_time": "2025-07-30T13:07:34.823092",
     "exception": false,
     "start_time": "2025-07-30T13:07:34.810589",
     "status": "completed"
    },
    "tags": []
   },
   "source": [
    "Load siab_train, siab_test, siab_calib and/or \n",
    "load siab_train_features, siab_train_labels"
   ]
  },
  {
   "cell_type": "code",
   "execution_count": 9,
   "id": "f0496b8a",
   "metadata": {
    "execution": {
     "iopub.execute_input": "2025-07-30T13:07:34.867343Z",
     "iopub.status.busy": "2025-07-30T13:07:34.867000Z",
     "iopub.status.idle": "2025-07-30T13:07:48.951030Z",
     "shell.execute_reply": "2025-07-30T13:07:48.949793Z"
    },
    "papermill": {
     "duration": 14.114713,
     "end_time": "2025-07-30T13:07:48.953028",
     "exception": false,
     "start_time": "2025-07-30T13:07:34.838315",
     "status": "completed"
    },
    "tags": []
   },
   "outputs": [
    {
     "name": "stdout",
     "output_type": "stream",
     "text": [
      "Loading SIAB data from cache: data/siab_cached.csv.gz\n"
     ]
    },
    {
     "name": "stdout",
     "output_type": "stream",
     "text": [
      "(643690, 164)\n"
     ]
    }
   ],
   "source": [
    "from pathlib import Path\n",
    "import pandas as pd\n",
    "\n",
    "# File paths\n",
    "raw_file = Path(\"data/raw/siab.csv\")\n",
    "cache_file = Path(\"data/siab_cached.csv.gz\")\n",
    "\n",
    "# Ensure cache directory exists\n",
    "cache_file.parent.mkdir(parents=True, exist_ok=True)\n",
    "\n",
    "# Load with simple caching\n",
    "if cache_file.exists():\n",
    "    print(f\"Loading SIAB data from cache: {cache_file}\")\n",
    "    siab = pd.read_csv(cache_file, compression='gzip')\n",
    "else:\n",
    "    print(f\"Cache not found. Reading raw SIAB data: {raw_file}\")\n",
    "    siab = pd.read_csv(raw_file)\n",
    "    siab.to_csv(cache_file, index=False, compression='gzip')\n",
    "    print(f\"Cached SIAB data to: {cache_file}\")\n",
    "\n",
    "# Now use `siab` DataFrame as needed\n",
    "print(siab.shape)"
   ]
  },
  {
   "cell_type": "code",
   "execution_count": 10,
   "id": "db0ca512-5f53-4dba-abdb-a2888bca41ba",
   "metadata": {
    "execution": {
     "iopub.execute_input": "2025-07-30T13:07:49.002245Z",
     "iopub.status.busy": "2025-07-30T13:07:49.001726Z",
     "iopub.status.idle": "2025-07-30T13:07:49.007552Z",
     "shell.execute_reply": "2025-07-30T13:07:49.006524Z"
    },
    "papermill": {
     "duration": 0.031181,
     "end_time": "2025-07-30T13:07:49.009360",
     "exception": false,
     "start_time": "2025-07-30T13:07:48.978179",
     "status": "completed"
    },
    "tags": []
   },
   "outputs": [],
   "source": [
    "#siab"
   ]
  },
  {
   "cell_type": "code",
   "execution_count": 11,
   "id": "a0edb063",
   "metadata": {
    "execution": {
     "iopub.execute_input": "2025-07-30T13:07:49.053539Z",
     "iopub.status.busy": "2025-07-30T13:07:49.052841Z",
     "iopub.status.idle": "2025-07-30T13:07:49.058114Z",
     "shell.execute_reply": "2025-07-30T13:07:49.057276Z"
    },
    "papermill": {
     "duration": 0.028574,
     "end_time": "2025-07-30T13:07:49.059720",
     "exception": false,
     "start_time": "2025-07-30T13:07:49.031146",
     "status": "completed"
    },
    "tags": []
   },
   "outputs": [],
   "source": [
    "#import pandas as pd\n",
    "#\n",
    "#X_train = pd.read_csv(\"./data/X_train.csv\")\n",
    "#y_train = pd.read_csv(\"./data/y_train.csv\")"
   ]
  },
  {
   "cell_type": "code",
   "execution_count": 12,
   "id": "63d08085",
   "metadata": {
    "execution": {
     "iopub.execute_input": "2025-07-30T13:07:49.105618Z",
     "iopub.status.busy": "2025-07-30T13:07:49.104970Z",
     "iopub.status.idle": "2025-07-30T13:07:49.110037Z",
     "shell.execute_reply": "2025-07-30T13:07:49.109075Z"
    },
    "papermill": {
     "duration": 0.030725,
     "end_time": "2025-07-30T13:07:49.111553",
     "exception": false,
     "start_time": "2025-07-30T13:07:49.080828",
     "status": "completed"
    },
    "tags": []
   },
   "outputs": [],
   "source": [
    "#X_test = pd.read_csv(\"./data/X_test.csv\")\n",
    "#y_true = pd.read_csv(\"./data/y_test.csv\")"
   ]
  },
  {
   "cell_type": "code",
   "execution_count": 13,
   "id": "98a8d0fa-1d3d-4ed8-bb2c-281470e24add",
   "metadata": {
    "execution": {
     "iopub.execute_input": "2025-07-30T13:07:49.156708Z",
     "iopub.status.busy": "2025-07-30T13:07:49.151901Z",
     "iopub.status.idle": "2025-07-30T13:07:49.160680Z",
     "shell.execute_reply": "2025-07-30T13:07:49.159730Z"
    },
    "papermill": {
     "duration": 0.031427,
     "end_time": "2025-07-30T13:07:49.162390",
     "exception": false,
     "start_time": "2025-07-30T13:07:49.130963",
     "status": "completed"
    },
    "tags": []
   },
   "outputs": [],
   "source": [
    "# Calibration data for conformal\n",
    "#X_calib = pd.read_csv(\"./data/X_calib.csv\")\n",
    "#y_calib = pd.read_csv(\"./data/y_calib.csv\")"
   ]
  },
  {
   "cell_type": "markdown",
   "id": "997051c5-15bd-4b69-9786-c3001a3ce484",
   "metadata": {
    "papermill": {
     "duration": 0.022907,
     "end_time": "2025-07-30T13:07:49.208188",
     "exception": false,
     "start_time": "2025-07-30T13:07:49.185281",
     "status": "completed"
    },
    "tags": []
   },
   "source": [
    "# Splitting Data and Setting Training Data Size"
   ]
  },
  {
   "cell_type": "code",
   "execution_count": 14,
   "id": "e993b61f-042d-41a6-8c81-f55681f86335",
   "metadata": {
    "execution": {
     "iopub.execute_input": "2025-07-30T13:07:49.252781Z",
     "iopub.status.busy": "2025-07-30T13:07:49.252236Z",
     "iopub.status.idle": "2025-07-30T13:07:49.266258Z",
     "shell.execute_reply": "2025-07-30T13:07:49.265251Z"
    },
    "papermill": {
     "duration": 0.037823,
     "end_time": "2025-07-30T13:07:49.267965",
     "exception": false,
     "start_time": "2025-07-30T13:07:49.230142",
     "status": "completed"
    },
    "tags": []
   },
   "outputs": [],
   "source": [
    "def sample_by_year_size(df,\n",
    "                        training_year: str,\n",
    "                        training_size: str,\n",
    "                        random_state: int = 42):\n",
    "    # --- parse training_year into a list of int years ---\n",
    "    if \"_\" in training_year:\n",
    "        start_str, end_str = training_year.split(\"_\", 1)\n",
    "        start = int(start_str)\n",
    "        end   = int(end_str) if len(end_str) == 4 else (int(end_str) + (start // 100)*100)\n",
    "        years = list(range(start, end + 1))\n",
    "    else:\n",
    "        years = [int(training_year)]\n",
    "\n",
    "    df = df[df[\"year\"].isin(years)].reset_index(drop=True)\n",
    "\n",
    "    # --- map training_size to total number of samples ---\n",
    "    total_map = {\"25k\": 25_000, \"5k\": 5_000, \"1k\": 1_000}\n",
    "    if training_size not in total_map:\n",
    "        return df  # e.g. \"all\"\n",
    "\n",
    "    total_samples = total_map[training_size]\n",
    "    n_years       = len(years)\n",
    "    base          = total_samples // n_years\n",
    "    remainder     = total_samples % n_years\n",
    "\n",
    "    # --- build a dict: year -> how many to sample ---\n",
    "    # give +1 to the first `remainder` years in ascending order\n",
    "    quotas = {\n",
    "        year: base + (1 if idx < remainder else 0)\n",
    "        for idx, year in enumerate(sorted(years))\n",
    "    }\n",
    "\n",
    "    # --- sample per‐year according to the quota dict ---\n",
    "    sampled = (\n",
    "        df\n",
    "        .groupby(\"year\", group_keys=False)\n",
    "        .apply(lambda grp: grp.sample(\n",
    "            n=min(len(grp), quotas[grp.name]),\n",
    "            random_state=random_state))\n",
    "        .reset_index(drop=True)\n",
    "    )\n",
    "\n",
    "    return sampled"
   ]
  },
  {
   "cell_type": "code",
   "execution_count": 15,
   "id": "c0ccd338-0e02-41f3-a09d-f56f9266e3fb",
   "metadata": {
    "execution": {
     "iopub.execute_input": "2025-07-30T13:07:49.312628Z",
     "iopub.status.busy": "2025-07-30T13:07:49.311665Z",
     "iopub.status.idle": "2025-07-30T13:07:49.323495Z",
     "shell.execute_reply": "2025-07-30T13:07:49.322540Z"
    },
    "papermill": {
     "duration": 0.036253,
     "end_time": "2025-07-30T13:07:49.325148",
     "exception": false,
     "start_time": "2025-07-30T13:07:49.288895",
     "status": "completed"
    },
    "tags": []
   },
   "outputs": [
    {
     "data": {
      "text/plain": [
       "'25k'"
      ]
     },
     "execution_count": 15,
     "metadata": {},
     "output_type": "execute_result"
    }
   ],
   "source": [
    "universe[\"training_size\"]"
   ]
  },
  {
   "cell_type": "code",
   "execution_count": 16,
   "id": "ca707fd7-8047-4acd-bfa5-66248fbbf8e6",
   "metadata": {
    "execution": {
     "iopub.execute_input": "2025-07-30T13:07:49.370054Z",
     "iopub.status.busy": "2025-07-30T13:07:49.369440Z",
     "iopub.status.idle": "2025-07-30T13:07:49.376742Z",
     "shell.execute_reply": "2025-07-30T13:07:49.376019Z"
    },
    "papermill": {
     "duration": 0.030624,
     "end_time": "2025-07-30T13:07:49.377926",
     "exception": false,
     "start_time": "2025-07-30T13:07:49.347302",
     "status": "completed"
    },
    "tags": []
   },
   "outputs": [
    {
     "data": {
      "text/plain": [
       "'2012_14'"
      ]
     },
     "execution_count": 16,
     "metadata": {},
     "output_type": "execute_result"
    }
   ],
   "source": [
    "universe[\"training_year\"]"
   ]
  },
  {
   "cell_type": "code",
   "execution_count": 17,
   "id": "aea9c6ef-6f46-42c8-85eb-5a62025c1508",
   "metadata": {
    "execution": {
     "iopub.execute_input": "2025-07-30T13:07:49.401287Z",
     "iopub.status.busy": "2025-07-30T13:07:49.400801Z",
     "iopub.status.idle": "2025-07-30T13:07:50.066032Z",
     "shell.execute_reply": "2025-07-30T13:07:50.065116Z"
    },
    "papermill": {
     "duration": 0.678334,
     "end_time": "2025-07-30T13:07:50.067921",
     "exception": false,
     "start_time": "2025-07-30T13:07:49.389587",
     "status": "completed"
    },
    "tags": []
   },
   "outputs": [],
   "source": [
    "siab_train = sample_by_year_size(siab,\n",
    "                               training_year=universe[\"training_year\"],\n",
    "                               training_size=universe[\"training_size\"])"
   ]
  },
  {
   "cell_type": "code",
   "execution_count": 18,
   "id": "8d3afb32-789d-442c-8d5d-9f5aa8dd2eed",
   "metadata": {
    "execution": {
     "iopub.execute_input": "2025-07-30T13:07:50.111170Z",
     "iopub.status.busy": "2025-07-30T13:07:50.110721Z",
     "iopub.status.idle": "2025-07-30T13:07:50.117857Z",
     "shell.execute_reply": "2025-07-30T13:07:50.116933Z"
    },
    "papermill": {
     "duration": 0.029992,
     "end_time": "2025-07-30T13:07:50.119454",
     "exception": false,
     "start_time": "2025-07-30T13:07:50.089462",
     "status": "completed"
    },
    "tags": []
   },
   "outputs": [
    {
     "data": {
      "text/plain": [
       "(25000, 164)"
      ]
     },
     "execution_count": 18,
     "metadata": {},
     "output_type": "execute_result"
    }
   ],
   "source": [
    "siab_train.shape"
   ]
  },
  {
   "cell_type": "code",
   "execution_count": 19,
   "id": "d582db68-1a4c-47fb-84fc-08518dc1975a",
   "metadata": {
    "execution": {
     "iopub.execute_input": "2025-07-30T13:07:50.163393Z",
     "iopub.status.busy": "2025-07-30T13:07:50.162434Z",
     "iopub.status.idle": "2025-07-30T13:07:50.172203Z",
     "shell.execute_reply": "2025-07-30T13:07:50.171229Z"
    },
    "papermill": {
     "duration": 0.03288,
     "end_time": "2025-07-30T13:07:50.173813",
     "exception": false,
     "start_time": "2025-07-30T13:07:50.140933",
     "status": "completed"
    },
    "tags": []
   },
   "outputs": [
    {
     "data": {
      "text/plain": [
       "year\n",
       "2012    8334\n",
       "2013    8333\n",
       "2014    8333\n",
       "dtype: int64"
      ]
     },
     "metadata": {},
     "output_type": "display_data"
    }
   ],
   "source": [
    "display(siab_train.groupby(\"year\").size())"
   ]
  },
  {
   "cell_type": "code",
   "execution_count": 20,
   "id": "a561edb4-d032-42cb-8256-22eac1111c64",
   "metadata": {
    "execution": {
     "iopub.execute_input": "2025-07-30T13:07:50.217526Z",
     "iopub.status.busy": "2025-07-30T13:07:50.216888Z",
     "iopub.status.idle": "2025-07-30T13:07:50.477123Z",
     "shell.execute_reply": "2025-07-30T13:07:50.476179Z"
    },
    "papermill": {
     "duration": 0.283944,
     "end_time": "2025-07-30T13:07:50.478990",
     "exception": false,
     "start_time": "2025-07-30T13:07:50.195046",
     "status": "completed"
    },
    "tags": []
   },
   "outputs": [],
   "source": [
    "#siab_train = siab_s[siab_s.year < 2015]\n",
    "siab_calib = siab[siab.year == 2015]\n",
    "siab_test = siab[siab.year == 2016]"
   ]
  },
  {
   "cell_type": "code",
   "execution_count": 21,
   "id": "472de16f-c3db-4916-846b-1f0de9cf1746",
   "metadata": {
    "execution": {
     "iopub.execute_input": "2025-07-30T13:07:50.537678Z",
     "iopub.status.busy": "2025-07-30T13:07:50.537191Z",
     "iopub.status.idle": "2025-07-30T13:07:50.551764Z",
     "shell.execute_reply": "2025-07-30T13:07:50.550744Z"
    },
    "papermill": {
     "duration": 0.039513,
     "end_time": "2025-07-30T13:07:50.553693",
     "exception": false,
     "start_time": "2025-07-30T13:07:50.514180",
     "status": "completed"
    },
    "tags": []
   },
   "outputs": [],
   "source": [
    "X_train = siab_train.iloc[:,4:164]\n",
    "y_train = siab_train.iloc[:, [3]]"
   ]
  },
  {
   "cell_type": "code",
   "execution_count": 22,
   "id": "828c96af-f43a-4ed6-ba47-8ac73a47d56c",
   "metadata": {
    "execution": {
     "iopub.execute_input": "2025-07-30T13:07:50.600489Z",
     "iopub.status.busy": "2025-07-30T13:07:50.599332Z",
     "iopub.status.idle": "2025-07-30T13:07:50.655514Z",
     "shell.execute_reply": "2025-07-30T13:07:50.654445Z"
    },
    "papermill": {
     "duration": 0.082037,
     "end_time": "2025-07-30T13:07:50.658571",
     "exception": false,
     "start_time": "2025-07-30T13:07:50.576534",
     "status": "completed"
    },
    "tags": []
   },
   "outputs": [],
   "source": [
    "X_calib = siab_calib.iloc[:,4:164]\n",
    "y_calib = siab_calib.iloc[:, [3]]"
   ]
  },
  {
   "cell_type": "code",
   "execution_count": 23,
   "id": "c34be9c3-6bd6-476e-acd3-845840e303be",
   "metadata": {
    "execution": {
     "iopub.execute_input": "2025-07-30T13:07:50.706734Z",
     "iopub.status.busy": "2025-07-30T13:07:50.706181Z",
     "iopub.status.idle": "2025-07-30T13:07:50.761029Z",
     "shell.execute_reply": "2025-07-30T13:07:50.759984Z"
    },
    "papermill": {
     "duration": 0.080681,
     "end_time": "2025-07-30T13:07:50.762985",
     "exception": false,
     "start_time": "2025-07-30T13:07:50.682304",
     "status": "completed"
    },
    "tags": []
   },
   "outputs": [],
   "source": [
    "X_test = siab_test.iloc[:,4:164]\n",
    "y_true = siab_test.iloc[:, [3]]"
   ]
  },
  {
   "cell_type": "markdown",
   "id": "9901737e-04df-44f0-9100-f5ad144ed040",
   "metadata": {
    "papermill": {
     "duration": 0.022934,
     "end_time": "2025-07-30T13:07:50.812302",
     "exception": false,
     "start_time": "2025-07-30T13:07:50.789368",
     "status": "completed"
    },
    "tags": []
   },
   "source": [
    "# Splitting Data and Setting Training Data Size OLD VERSION"
   ]
  },
  {
   "cell_type": "code",
   "execution_count": 24,
   "id": "acbc8f7d-8fc8-4e86-8c59-5dcb0f58384b",
   "metadata": {
    "execution": {
     "iopub.execute_input": "2025-07-30T13:07:50.858820Z",
     "iopub.status.busy": "2025-07-30T13:07:50.858307Z",
     "iopub.status.idle": "2025-07-30T13:07:50.864283Z",
     "shell.execute_reply": "2025-07-30T13:07:50.863193Z"
    },
    "papermill": {
     "duration": 0.030622,
     "end_time": "2025-07-30T13:07:50.865899",
     "exception": false,
     "start_time": "2025-07-30T13:07:50.835277",
     "status": "completed"
    },
    "tags": []
   },
   "outputs": [],
   "source": [
    "#def sample_by_year(df, training_size, random_state=42):\n",
    "#    if training_size == \"2014\":\n",
    "#        return df[df[\"year\"] == 2014].reset_index(drop=True)\n",
    "#    \n",
    "#    size_map = {\n",
    "#        \"25k\": 5000,\n",
    "#        \"5k\": 1000,\n",
    "#        \"1k\": 200\n",
    "#    }\n",
    "#\n",
    "#    if training_size not in size_map:\n",
    "#        return df.reset_index(drop=True)  # use all data\n",
    "#\n",
    "#    n_per_year = size_map[training_size]\n",
    "#    grouped = df.groupby(\"year\")\n",
    "#    sampled = grouped.apply(lambda x: x.sample(n=min(n_per_year, len(x)), random_state=random_state))\n",
    "#    return sampled.reset_index(drop=True)"
   ]
  },
  {
   "cell_type": "code",
   "execution_count": 25,
   "id": "6d931f52-beaf-43ff-9e78-9d44a448d54e",
   "metadata": {
    "execution": {
     "iopub.execute_input": "2025-07-30T13:07:50.913555Z",
     "iopub.status.busy": "2025-07-30T13:07:50.913025Z",
     "iopub.status.idle": "2025-07-30T13:07:50.918082Z",
     "shell.execute_reply": "2025-07-30T13:07:50.917092Z"
    },
    "papermill": {
     "duration": 0.030242,
     "end_time": "2025-07-30T13:07:50.919774",
     "exception": false,
     "start_time": "2025-07-30T13:07:50.889532",
     "status": "completed"
    },
    "tags": []
   },
   "outputs": [],
   "source": [
    "#siab_s = sample_by_year(siab, universe[\"training_size\"])"
   ]
  },
  {
   "cell_type": "code",
   "execution_count": 26,
   "id": "5db0a40e-a4e2-4920-be85-b12ae061d70d",
   "metadata": {
    "execution": {
     "iopub.execute_input": "2025-07-30T13:07:50.967663Z",
     "iopub.status.busy": "2025-07-30T13:07:50.967205Z",
     "iopub.status.idle": "2025-07-30T13:07:50.972130Z",
     "shell.execute_reply": "2025-07-30T13:07:50.971152Z"
    },
    "papermill": {
     "duration": 0.030558,
     "end_time": "2025-07-30T13:07:50.973939",
     "exception": false,
     "start_time": "2025-07-30T13:07:50.943381",
     "status": "completed"
    },
    "tags": []
   },
   "outputs": [],
   "source": [
    "#display(siab_s.groupby(\"year\").size())"
   ]
  },
  {
   "cell_type": "code",
   "execution_count": 27,
   "id": "e6c733c5",
   "metadata": {
    "execution": {
     "iopub.execute_input": "2025-07-30T13:07:51.021174Z",
     "iopub.status.busy": "2025-07-30T13:07:51.020697Z",
     "iopub.status.idle": "2025-07-30T13:07:51.120686Z",
     "shell.execute_reply": "2025-07-30T13:07:51.119654Z"
    },
    "papermill": {
     "duration": 0.12555,
     "end_time": "2025-07-30T13:07:51.122612",
     "exception": false,
     "start_time": "2025-07-30T13:07:50.997062",
     "status": "completed"
    },
    "tags": []
   },
   "outputs": [],
   "source": [
    "# Auxiliary data needed downstream in the pipeline\n",
    "\n",
    "org_train = X_train.copy()\n",
    "org_test = X_test.copy()\n",
    "org_calib = X_calib.copy()"
   ]
  },
  {
   "cell_type": "code",
   "execution_count": 28,
   "id": "1466abac-c6da-4492-a62f-4240ae3783af",
   "metadata": {
    "execution": {
     "iopub.execute_input": "2025-07-30T13:07:51.170881Z",
     "iopub.status.busy": "2025-07-30T13:07:51.170209Z",
     "iopub.status.idle": "2025-07-30T13:07:51.175990Z",
     "shell.execute_reply": "2025-07-30T13:07:51.174994Z"
    },
    "papermill": {
     "duration": 0.031461,
     "end_time": "2025-07-30T13:07:51.177596",
     "exception": false,
     "start_time": "2025-07-30T13:07:51.146135",
     "status": "completed"
    },
    "tags": []
   },
   "outputs": [],
   "source": [
    "# put in other script?\n",
    "# Group sizes\n",
    "\n",
    "#def calculate_percentages(df, df_name):\n",
    "#    total_entries = len(df)\n",
    "#\n",
    "#    female_pct = (df['frau1'] == 1).mean() * 100\n",
    "#    non_german_pct = ((df['maxdeutsch1'] == 0) & (df['maxdeutsch.Missing.'] == 0)).mean() * 100\n",
    "#    non_german_male_pct = ((df['frau1'] == 0) & (df['maxdeutsch1'] == 0) & (df['maxdeutsch.Missing.'] == 0)).mean() * 100\n",
    "#    non_german_female_pct = ((df['frau1'] == 1) & (df['maxdeutsch1'] == 0) & (df['maxdeutsch.Missing.'] == 0)).mean() * 100\n",
    "#\n",
    "#    print(f\"--- {df_name} ---\")\n",
    "#    print(f\"Female: {female_pct:.2f}%\")\n",
    "#    print(f\"Non-German: {non_german_pct:.2f}%\")\n",
    "#    print(f\"Non-German Male: {non_german_male_pct:.2f}%\")\n",
    "#    print(f\"Non-German Female: {non_german_female_pct:.2f}%\\n\")\n",
    "#\n",
    "## Calculate for each DataFrame\n",
    "#calculate_percentages(siab_calib, \"siab_calib\")\n",
    "#calculate_percentages(siab_test, \"siab_test\")\n",
    "#calculate_percentages(siab_train, \"siab_train\")"
   ]
  },
  {
   "cell_type": "markdown",
   "id": "0a4a1b33",
   "metadata": {
    "papermill": {
     "duration": 0.022128,
     "end_time": "2025-07-30T13:07:51.223349",
     "exception": false,
     "start_time": "2025-07-30T13:07:51.201221",
     "status": "completed"
    },
    "tags": []
   },
   "source": [
    "# Preprocessing Data"
   ]
  },
  {
   "cell_type": "code",
   "execution_count": 29,
   "id": "ca879031",
   "metadata": {
    "execution": {
     "iopub.execute_input": "2025-07-30T13:07:51.268589Z",
     "iopub.status.busy": "2025-07-30T13:07:51.268180Z",
     "iopub.status.idle": "2025-07-30T13:07:51.274725Z",
     "shell.execute_reply": "2025-07-30T13:07:51.273599Z"
    },
    "papermill": {
     "duration": 0.029675,
     "end_time": "2025-07-30T13:07:51.276496",
     "exception": false,
     "start_time": "2025-07-30T13:07:51.246821",
     "status": "completed"
    },
    "tags": []
   },
   "outputs": [],
   "source": [
    "# EXCLUDE PROTECTED FEATURES\n",
    "# ----------------------\n",
    "# \"exclude_features\": \"none\", # \"nationality\", \"sex\", \"nationality-sex\"\n",
    "\n",
    "excluded_features = universe[\"exclude_features\"].split(\"-\") # split, e.g.: \"nationality-sex\" -> [\"nationality\", \"sex\"]\n",
    "excluded_features_dictionary = {\n",
    "    \"nationality\": [\"maxdeutsch1\", \"maxdeutsch.Missing.\"],\n",
    "    \"sex\": [\"frau1\"],\n",
    "    \"age\": [\"age\"],\n",
    "}\n"
   ]
  },
  {
   "cell_type": "code",
   "execution_count": 30,
   "id": "b745ac60",
   "metadata": {
    "execution": {
     "iopub.execute_input": "2025-07-30T13:07:51.325947Z",
     "iopub.status.busy": "2025-07-30T13:07:51.325436Z",
     "iopub.status.idle": "2025-07-30T13:07:51.331652Z",
     "shell.execute_reply": "2025-07-30T13:07:51.330674Z"
    },
    "papermill": {
     "duration": 0.032217,
     "end_time": "2025-07-30T13:07:51.333532",
     "exception": false,
     "start_time": "2025-07-30T13:07:51.301315",
     "status": "completed"
    },
    "tags": []
   },
   "outputs": [],
   "source": [
    "# Code nice names to column names\n",
    "\n",
    "excluded_features_columns = [\n",
    "    excluded_features_dictionary[f] for f in excluded_features if len(f) > 0 and f != \"none\"\n",
    "]"
   ]
  },
  {
   "cell_type": "code",
   "execution_count": 31,
   "id": "f84f73a2",
   "metadata": {
    "execution": {
     "iopub.execute_input": "2025-07-30T13:07:51.384560Z",
     "iopub.status.busy": "2025-07-30T13:07:51.384002Z",
     "iopub.status.idle": "2025-07-30T13:07:51.394099Z",
     "shell.execute_reply": "2025-07-30T13:07:51.393130Z"
    },
    "papermill": {
     "duration": 0.037784,
     "end_time": "2025-07-30T13:07:51.395981",
     "exception": false,
     "start_time": "2025-07-30T13:07:51.358197",
     "status": "completed"
    },
    "tags": []
   },
   "outputs": [],
   "source": [
    "from utils import flatten_once\n",
    "\n",
    "excluded_features_columns = flatten_once(excluded_features_columns)"
   ]
  },
  {
   "cell_type": "code",
   "execution_count": 32,
   "id": "884dea22",
   "metadata": {
    "execution": {
     "iopub.execute_input": "2025-07-30T13:07:51.444345Z",
     "iopub.status.busy": "2025-07-30T13:07:51.443802Z",
     "iopub.status.idle": "2025-07-30T13:07:51.459468Z",
     "shell.execute_reply": "2025-07-30T13:07:51.458460Z"
    },
    "papermill": {
     "duration": 0.043627,
     "end_time": "2025-07-30T13:07:51.461204",
     "exception": false,
     "start_time": "2025-07-30T13:07:51.417577",
     "status": "completed"
    },
    "tags": []
   },
   "outputs": [
    {
     "name": "stdout",
     "output_type": "stream",
     "text": [
      "Dropping features: ['frau1']\n"
     ]
    }
   ],
   "source": [
    "if len(excluded_features_columns) > 0:\n",
    "    print(f\"Dropping features: {excluded_features_columns}\")\n",
    "    X_train.drop(excluded_features_columns, axis=1, inplace=True)"
   ]
  },
  {
   "cell_type": "code",
   "execution_count": 33,
   "id": "95ab8b16",
   "metadata": {
    "execution": {
     "iopub.execute_input": "2025-07-30T13:07:51.510023Z",
     "iopub.status.busy": "2025-07-30T13:07:51.509654Z",
     "iopub.status.idle": "2025-07-30T13:07:51.562597Z",
     "shell.execute_reply": "2025-07-30T13:07:51.561561Z"
    },
    "papermill": {
     "duration": 0.07496,
     "end_time": "2025-07-30T13:07:51.564409",
     "exception": false,
     "start_time": "2025-07-30T13:07:51.489449",
     "status": "completed"
    },
    "tags": []
   },
   "outputs": [
    {
     "name": "stdout",
     "output_type": "stream",
     "text": [
      "Dropping features: ['frau1']\n"
     ]
    }
   ],
   "source": [
    "if len(excluded_features_columns) > 0:\n",
    "    print(f\"Dropping features: {excluded_features_columns}\")\n",
    "    X_test.drop(excluded_features_columns, axis=1, inplace=True)"
   ]
  },
  {
   "cell_type": "code",
   "execution_count": 34,
   "id": "1853aaf5-fb9f-46cb-a2b5-8ea4ae2237e4",
   "metadata": {
    "execution": {
     "iopub.execute_input": "2025-07-30T13:07:51.615390Z",
     "iopub.status.busy": "2025-07-30T13:07:51.614483Z",
     "iopub.status.idle": "2025-07-30T13:07:51.667299Z",
     "shell.execute_reply": "2025-07-30T13:07:51.666179Z"
    },
    "papermill": {
     "duration": 0.080435,
     "end_time": "2025-07-30T13:07:51.669523",
     "exception": false,
     "start_time": "2025-07-30T13:07:51.589088",
     "status": "completed"
    },
    "tags": []
   },
   "outputs": [
    {
     "name": "stdout",
     "output_type": "stream",
     "text": [
      "Dropping features: ['frau1']\n"
     ]
    }
   ],
   "source": [
    "if len(excluded_features_columns) > 0:\n",
    "    print(f\"Dropping features: {excluded_features_columns}\")\n",
    "    X_calib.drop(excluded_features_columns, axis=1, inplace=True)"
   ]
  },
  {
   "cell_type": "code",
   "execution_count": 35,
   "id": "6727d079-03e5-481e-9d38-292a90b7a0a8",
   "metadata": {
    "execution": {
     "iopub.execute_input": "2025-07-30T13:07:51.719936Z",
     "iopub.status.busy": "2025-07-30T13:07:51.718983Z",
     "iopub.status.idle": "2025-07-30T13:07:51.724365Z",
     "shell.execute_reply": "2025-07-30T13:07:51.723390Z"
    },
    "papermill": {
     "duration": 0.032248,
     "end_time": "2025-07-30T13:07:51.726037",
     "exception": false,
     "start_time": "2025-07-30T13:07:51.693789",
     "status": "completed"
    },
    "tags": []
   },
   "outputs": [],
   "source": [
    "# SPLIT & STRATIFY DATA\n",
    "# ----------------------"
   ]
  },
  {
   "cell_type": "code",
   "execution_count": 36,
   "id": "76c4dc6d",
   "metadata": {
    "execution": {
     "iopub.execute_input": "2025-07-30T13:07:51.774054Z",
     "iopub.status.busy": "2025-07-30T13:07:51.773561Z",
     "iopub.status.idle": "2025-07-30T13:07:51.778316Z",
     "shell.execute_reply": "2025-07-30T13:07:51.777593Z"
    },
    "papermill": {
     "duration": 0.028944,
     "end_time": "2025-07-30T13:07:51.779619",
     "exception": false,
     "start_time": "2025-07-30T13:07:51.750675",
     "status": "completed"
    },
    "tags": []
   },
   "outputs": [],
   "source": [
    "# EXCLUDE CERTAIN SUBGROUPS\n",
    "# ----------------------\n",
    "\n",
    "mode = universe.get(\"exclude_subgroups\", \"keep-all\") \n",
    "# Fetches the exclude_subgroups setting from the universe dict.\n",
    "# Defaults to \"keep-all\" if the key is missing."
   ]
  },
  {
   "cell_type": "code",
   "execution_count": 37,
   "id": "21994072",
   "metadata": {
    "execution": {
     "iopub.execute_input": "2025-07-30T13:07:51.852923Z",
     "iopub.status.busy": "2025-07-30T13:07:51.852574Z",
     "iopub.status.idle": "2025-07-30T13:07:51.858021Z",
     "shell.execute_reply": "2025-07-30T13:07:51.856992Z"
    },
    "papermill": {
     "duration": 0.066612,
     "end_time": "2025-07-30T13:07:51.859686",
     "exception": false,
     "start_time": "2025-07-30T13:07:51.793074",
     "status": "completed"
    },
    "tags": []
   },
   "outputs": [],
   "source": [
    "if mode == \"keep-all\":\n",
    "    keep_mask = pd.Series(True, index=org_train.index)\n",
    "\n",
    "# org_train contains the original feature columns from features_org (in Simson)\n",
    "# features_org contains unprocessed features, for me X_train at beginning ???\n",
    "# For keep-all, creates a boolean Series (keep_mask) of all True, so no rows are removed.\n",
    "\n",
    "elif mode == \"drop-non-german\":\n",
    "    keep_mask = org_train[\"maxdeutsch1\"] == 1 # ??? what about missing values?\n",
    "\n",
    "else:\n",
    "    raise ValueError(f\"Unsupported mode for exclude_subgroups: {mode}\")\n"
   ]
  },
  {
   "cell_type": "code",
   "execution_count": 38,
   "id": "71651440",
   "metadata": {
    "execution": {
     "iopub.execute_input": "2025-07-30T13:07:51.908839Z",
     "iopub.status.busy": "2025-07-30T13:07:51.908306Z",
     "iopub.status.idle": "2025-07-30T13:07:51.916228Z",
     "shell.execute_reply": "2025-07-30T13:07:51.915239Z"
    },
    "papermill": {
     "duration": 0.033986,
     "end_time": "2025-07-30T13:07:51.918291",
     "exception": false,
     "start_time": "2025-07-30T13:07:51.884305",
     "status": "completed"
    },
    "tags": []
   },
   "outputs": [
    {
     "name": "stdout",
     "output_type": "stream",
     "text": [
      "Dropping 3481 rows (13.92%) where mode='drop-non-german'\n"
     ]
    }
   ],
   "source": [
    "n_drop = (~keep_mask).sum() # Calculates how many rows are set to be dropped\n",
    "if n_drop > 0:\n",
    "    pct = n_drop / len(keep_mask) * 100\n",
    "    print(f\"Dropping {n_drop} rows ({pct:.2f}%) where mode='{mode}'\")"
   ]
  },
  {
   "cell_type": "code",
   "execution_count": 39,
   "id": "5fb8eee5",
   "metadata": {
    "execution": {
     "iopub.execute_input": "2025-07-30T13:07:51.966701Z",
     "iopub.status.busy": "2025-07-30T13:07:51.966106Z",
     "iopub.status.idle": "2025-07-30T13:07:51.984840Z",
     "shell.execute_reply": "2025-07-30T13:07:51.983753Z"
    },
    "papermill": {
     "duration": 0.046916,
     "end_time": "2025-07-30T13:07:51.989508",
     "exception": false,
     "start_time": "2025-07-30T13:07:51.942592",
     "status": "completed"
    },
    "tags": []
   },
   "outputs": [],
   "source": [
    "X_train = X_train[keep_mask]"
   ]
  },
  {
   "cell_type": "code",
   "execution_count": 40,
   "id": "b202bb3a",
   "metadata": {
    "execution": {
     "iopub.execute_input": "2025-07-30T13:07:52.039854Z",
     "iopub.status.busy": "2025-07-30T13:07:52.039377Z",
     "iopub.status.idle": "2025-07-30T13:07:52.046765Z",
     "shell.execute_reply": "2025-07-30T13:07:52.045741Z"
    },
    "papermill": {
     "duration": 0.034542,
     "end_time": "2025-07-30T13:07:52.048600",
     "exception": false,
     "start_time": "2025-07-30T13:07:52.014058",
     "status": "completed"
    },
    "tags": []
   },
   "outputs": [],
   "source": [
    "y_train = y_train[keep_mask]"
   ]
  },
  {
   "cell_type": "markdown",
   "id": "493e2ac3",
   "metadata": {
    "papermill": {
     "duration": 0.01488,
     "end_time": "2025-07-30T13:07:52.088414",
     "exception": false,
     "start_time": "2025-07-30T13:07:52.073534",
     "status": "completed"
    },
    "tags": []
   },
   "source": [
    "# Model Training"
   ]
  },
  {
   "cell_type": "code",
   "execution_count": 41,
   "id": "679e1268",
   "metadata": {
    "execution": {
     "iopub.execute_input": "2025-07-30T13:07:52.135180Z",
     "iopub.status.busy": "2025-07-30T13:07:52.134719Z",
     "iopub.status.idle": "2025-07-30T13:07:52.237081Z",
     "shell.execute_reply": "2025-07-30T13:07:52.236054Z"
    },
    "papermill": {
     "duration": 0.128557,
     "end_time": "2025-07-30T13:07:52.238936",
     "exception": false,
     "start_time": "2025-07-30T13:07:52.110379",
     "status": "completed"
    },
    "tags": []
   },
   "outputs": [],
   "source": [
    "from sklearn.linear_model import LogisticRegression\n",
    "from sklearn.ensemble import GradientBoostingClassifier, RandomForestClassifier\n",
    "\n",
    "if (universe[\"model\"] == \"logreg\"):\n",
    "    model = LogisticRegression() #penalty=\"none\") #, solver=\"newton-cg\", max_iter=1) # include random_state=19 ?\n",
    "elif (universe[\"model\"] == \"penalized_logreg\"):\n",
    "    model = LogisticRegression(penalty=\"l2\", C=1.0) #, solver=\"newton-cg\", max_iter=1)\n",
    "elif (universe[\"model\"] == \"rf\"):\n",
    "    model = RandomForestClassifier(n_estimators=100, n_jobs=-1)\n",
    "elif (universe[\"model\"] == \"gbm\"):\n",
    "    model = GradientBoostingClassifier()\n",
    "elif (universe[\"model\"] == \"elasticnet\"):\n",
    "    model = LogisticRegression(penalty = 'elasticnet', solver = 'saga', l1_ratio = 0.5, max_iter=5000) # which solver to use?\n",
    "else:\n",
    "    raise \"Unsupported universe.model\""
   ]
  },
  {
   "cell_type": "code",
   "execution_count": 42,
   "id": "0cc8f744",
   "metadata": {
    "execution": {
     "iopub.execute_input": "2025-07-30T13:07:52.274394Z",
     "iopub.status.busy": "2025-07-30T13:07:52.273999Z",
     "iopub.status.idle": "2025-07-30T13:07:52.280399Z",
     "shell.execute_reply": "2025-07-30T13:07:52.279428Z"
    },
    "papermill": {
     "duration": 0.020832,
     "end_time": "2025-07-30T13:07:52.281836",
     "exception": false,
     "start_time": "2025-07-30T13:07:52.261004",
     "status": "completed"
    },
    "tags": []
   },
   "outputs": [],
   "source": [
    "import numpy as np\n",
    "from sklearn.pipeline import Pipeline\n",
    "from sklearn.preprocessing import StandardScaler\n",
    "\n",
    "model = Pipeline([\n",
    "    #(\"continuous_processor\", continuous_processor),\n",
    "    #(\"categorical_preprocessor\", categorical_preprocessor),\n",
    "    (\"scale\", StandardScaler() if universe[\"scale\"] == \"scale\" else None), \n",
    "    (\"model\", model),\n",
    "])"
   ]
  },
  {
   "cell_type": "code",
   "execution_count": 43,
   "id": "9442c04d",
   "metadata": {
    "execution": {
     "iopub.execute_input": "2025-07-30T13:07:52.307906Z",
     "iopub.status.busy": "2025-07-30T13:07:52.307529Z",
     "iopub.status.idle": "2025-07-30T13:07:54.944893Z",
     "shell.execute_reply": "2025-07-30T13:07:54.943833Z"
    },
    "papermill": {
     "duration": 2.651561,
     "end_time": "2025-07-30T13:07:54.946375",
     "exception": false,
     "start_time": "2025-07-30T13:07:52.294814",
     "status": "completed"
    },
    "tags": []
   },
   "outputs": [
    {
     "data": {
      "text/html": [
       "<style>#sk-container-id-1 {color: black;background-color: white;}#sk-container-id-1 pre{padding: 0;}#sk-container-id-1 div.sk-toggleable {background-color: white;}#sk-container-id-1 label.sk-toggleable__label {cursor: pointer;display: block;width: 100%;margin-bottom: 0;padding: 0.3em;box-sizing: border-box;text-align: center;}#sk-container-id-1 label.sk-toggleable__label-arrow:before {content: \"▸\";float: left;margin-right: 0.25em;color: #696969;}#sk-container-id-1 label.sk-toggleable__label-arrow:hover:before {color: black;}#sk-container-id-1 div.sk-estimator:hover label.sk-toggleable__label-arrow:before {color: black;}#sk-container-id-1 div.sk-toggleable__content {max-height: 0;max-width: 0;overflow: hidden;text-align: left;background-color: #f0f8ff;}#sk-container-id-1 div.sk-toggleable__content pre {margin: 0.2em;color: black;border-radius: 0.25em;background-color: #f0f8ff;}#sk-container-id-1 input.sk-toggleable__control:checked~div.sk-toggleable__content {max-height: 200px;max-width: 100%;overflow: auto;}#sk-container-id-1 input.sk-toggleable__control:checked~label.sk-toggleable__label-arrow:before {content: \"▾\";}#sk-container-id-1 div.sk-estimator input.sk-toggleable__control:checked~label.sk-toggleable__label {background-color: #d4ebff;}#sk-container-id-1 div.sk-label input.sk-toggleable__control:checked~label.sk-toggleable__label {background-color: #d4ebff;}#sk-container-id-1 input.sk-hidden--visually {border: 0;clip: rect(1px 1px 1px 1px);clip: rect(1px, 1px, 1px, 1px);height: 1px;margin: -1px;overflow: hidden;padding: 0;position: absolute;width: 1px;}#sk-container-id-1 div.sk-estimator {font-family: monospace;background-color: #f0f8ff;border: 1px dotted black;border-radius: 0.25em;box-sizing: border-box;margin-bottom: 0.5em;}#sk-container-id-1 div.sk-estimator:hover {background-color: #d4ebff;}#sk-container-id-1 div.sk-parallel-item::after {content: \"\";width: 100%;border-bottom: 1px solid gray;flex-grow: 1;}#sk-container-id-1 div.sk-label:hover label.sk-toggleable__label {background-color: #d4ebff;}#sk-container-id-1 div.sk-serial::before {content: \"\";position: absolute;border-left: 1px solid gray;box-sizing: border-box;top: 0;bottom: 0;left: 50%;z-index: 0;}#sk-container-id-1 div.sk-serial {display: flex;flex-direction: column;align-items: center;background-color: white;padding-right: 0.2em;padding-left: 0.2em;position: relative;}#sk-container-id-1 div.sk-item {position: relative;z-index: 1;}#sk-container-id-1 div.sk-parallel {display: flex;align-items: stretch;justify-content: center;background-color: white;position: relative;}#sk-container-id-1 div.sk-item::before, #sk-container-id-1 div.sk-parallel-item::before {content: \"\";position: absolute;border-left: 1px solid gray;box-sizing: border-box;top: 0;bottom: 0;left: 50%;z-index: -1;}#sk-container-id-1 div.sk-parallel-item {display: flex;flex-direction: column;z-index: 1;position: relative;background-color: white;}#sk-container-id-1 div.sk-parallel-item:first-child::after {align-self: flex-end;width: 50%;}#sk-container-id-1 div.sk-parallel-item:last-child::after {align-self: flex-start;width: 50%;}#sk-container-id-1 div.sk-parallel-item:only-child::after {width: 0;}#sk-container-id-1 div.sk-dashed-wrapped {border: 1px dashed gray;margin: 0 0.4em 0.5em 0.4em;box-sizing: border-box;padding-bottom: 0.4em;background-color: white;}#sk-container-id-1 div.sk-label label {font-family: monospace;font-weight: bold;display: inline-block;line-height: 1.2em;}#sk-container-id-1 div.sk-label-container {text-align: center;}#sk-container-id-1 div.sk-container {/* jupyter's `normalize.less` sets `[hidden] { display: none; }` but bootstrap.min.css set `[hidden] { display: none !important; }` so we also need the `!important` here to be able to override the default hidden behavior on the sphinx rendered scikit-learn.org. See: https://github.com/scikit-learn/scikit-learn/issues/21755 */display: inline-block !important;position: relative;}#sk-container-id-1 div.sk-text-repr-fallback {display: none;}</style><div id=\"sk-container-id-1\" class=\"sk-top-container\"><div class=\"sk-text-repr-fallback\"><pre>Pipeline(steps=[(&#x27;scale&#x27;, StandardScaler()),\n",
       "                (&#x27;model&#x27;, RandomForestClassifier(n_jobs=-1))])</pre><b>In a Jupyter environment, please rerun this cell to show the HTML representation or trust the notebook. <br />On GitHub, the HTML representation is unable to render, please try loading this page with nbviewer.org.</b></div><div class=\"sk-container\" hidden><div class=\"sk-item sk-dashed-wrapped\"><div class=\"sk-label-container\"><div class=\"sk-label sk-toggleable\"><input class=\"sk-toggleable__control sk-hidden--visually\" id=\"sk-estimator-id-1\" type=\"checkbox\" ><label for=\"sk-estimator-id-1\" class=\"sk-toggleable__label sk-toggleable__label-arrow\">Pipeline</label><div class=\"sk-toggleable__content\"><pre>Pipeline(steps=[(&#x27;scale&#x27;, StandardScaler()),\n",
       "                (&#x27;model&#x27;, RandomForestClassifier(n_jobs=-1))])</pre></div></div></div><div class=\"sk-serial\"><div class=\"sk-item\"><div class=\"sk-estimator sk-toggleable\"><input class=\"sk-toggleable__control sk-hidden--visually\" id=\"sk-estimator-id-2\" type=\"checkbox\" ><label for=\"sk-estimator-id-2\" class=\"sk-toggleable__label sk-toggleable__label-arrow\">StandardScaler</label><div class=\"sk-toggleable__content\"><pre>StandardScaler()</pre></div></div></div><div class=\"sk-item\"><div class=\"sk-estimator sk-toggleable\"><input class=\"sk-toggleable__control sk-hidden--visually\" id=\"sk-estimator-id-3\" type=\"checkbox\" ><label for=\"sk-estimator-id-3\" class=\"sk-toggleable__label sk-toggleable__label-arrow\">RandomForestClassifier</label><div class=\"sk-toggleable__content\"><pre>RandomForestClassifier(n_jobs=-1)</pre></div></div></div></div></div></div></div>"
      ],
      "text/plain": [
       "Pipeline(steps=[('scale', StandardScaler()),\n",
       "                ('model', RandomForestClassifier(n_jobs=-1))])"
      ]
     },
     "execution_count": 43,
     "metadata": {},
     "output_type": "execute_result"
    }
   ],
   "source": [
    "model.fit(X_train, y_train.values.ravel())"
   ]
  },
  {
   "cell_type": "code",
   "execution_count": 44,
   "id": "af59f8c0",
   "metadata": {
    "execution": {
     "iopub.execute_input": "2025-07-30T13:07:54.993983Z",
     "iopub.status.busy": "2025-07-30T13:07:54.993036Z",
     "iopub.status.idle": "2025-07-30T13:07:54.998841Z",
     "shell.execute_reply": "2025-07-30T13:07:54.997929Z"
    },
    "papermill": {
     "duration": 0.030788,
     "end_time": "2025-07-30T13:07:55.000461",
     "exception": false,
     "start_time": "2025-07-30T13:07:54.969673",
     "status": "completed"
    },
    "tags": []
   },
   "outputs": [],
   "source": [
    "from fairness_multiverse.universe import predict_w_threshold"
   ]
  },
  {
   "cell_type": "code",
   "execution_count": 45,
   "id": "a7cf2e16",
   "metadata": {
    "execution": {
     "iopub.execute_input": "2025-07-30T13:07:55.048558Z",
     "iopub.status.busy": "2025-07-30T13:07:55.047564Z",
     "iopub.status.idle": "2025-07-30T13:07:56.164096Z",
     "shell.execute_reply": "2025-07-30T13:07:56.163059Z"
    },
    "papermill": {
     "duration": 1.141716,
     "end_time": "2025-07-30T13:07:56.165679",
     "exception": false,
     "start_time": "2025-07-30T13:07:55.023963",
     "status": "completed"
    },
    "tags": []
   },
   "outputs": [
    {
     "data": {
      "text/plain": [
       "0.866335971463605"
      ]
     },
     "execution_count": 45,
     "metadata": {},
     "output_type": "execute_result"
    }
   ],
   "source": [
    "probs_test = model.predict_proba(X_test)\n",
    "\n",
    "'''\n",
    "Below code returns a boolean array (or binary 0/1 array depending on how it’s used) where each element \n",
    "is True if the probability of class 1 is greater than or equal to the threshold, and False otherwise.\n",
    "'''\n",
    "y_pred_default = predict_w_threshold(probs_test, 0.5)\n",
    "\n",
    "from sklearn.metrics import accuracy_score\n",
    "\n",
    "# Naive prediction\n",
    "accuracy_score(y_true = y_true, y_pred = y_pred_default)"
   ]
  },
  {
   "cell_type": "code",
   "execution_count": 46,
   "id": "081964c3",
   "metadata": {
    "execution": {
     "iopub.execute_input": "2025-07-30T13:07:56.194618Z",
     "iopub.status.busy": "2025-07-30T13:07:56.194180Z",
     "iopub.status.idle": "2025-07-30T13:07:57.367324Z",
     "shell.execute_reply": "2025-07-30T13:07:57.366359Z"
    },
    "papermill": {
     "duration": 1.18841,
     "end_time": "2025-07-30T13:07:57.368969",
     "exception": false,
     "start_time": "2025-07-30T13:07:56.180559",
     "status": "completed"
    },
    "tags": []
   },
   "outputs": [
    {
     "data": {
      "text/plain": [
       "array([0, 0, 0, ..., 0, 0, 0])"
      ]
     },
     "execution_count": 46,
     "metadata": {},
     "output_type": "execute_result"
    }
   ],
   "source": [
    "model.predict(X_test)"
   ]
  },
  {
   "cell_type": "markdown",
   "id": "56c9705b",
   "metadata": {
    "papermill": {
     "duration": 0.023852,
     "end_time": "2025-07-30T13:07:57.418255",
     "exception": false,
     "start_time": "2025-07-30T13:07:57.394403",
     "status": "completed"
    },
    "tags": []
   },
   "source": [
    "# Conformal Prediction"
   ]
  },
  {
   "cell_type": "code",
   "execution_count": 47,
   "id": "160ec6ff",
   "metadata": {
    "execution": {
     "iopub.execute_input": "2025-07-30T13:07:57.471161Z",
     "iopub.status.busy": "2025-07-30T13:07:57.470651Z",
     "iopub.status.idle": "2025-07-30T13:07:57.475935Z",
     "shell.execute_reply": "2025-07-30T13:07:57.475000Z"
    },
    "papermill": {
     "duration": 0.033239,
     "end_time": "2025-07-30T13:07:57.477712",
     "exception": false,
     "start_time": "2025-07-30T13:07:57.444473",
     "status": "completed"
    },
    "tags": []
   },
   "outputs": [],
   "source": [
    "# Miscoverage level for conformal prediction (10% allowed error rate => 90% target coverage)\n",
    "alpha = 0.1"
   ]
  },
  {
   "cell_type": "code",
   "execution_count": 48,
   "id": "eadf4555-3dd3-440e-8e35-f82a4ad9f855",
   "metadata": {
    "execution": {
     "iopub.execute_input": "2025-07-30T13:07:57.530747Z",
     "iopub.status.busy": "2025-07-30T13:07:57.530199Z",
     "iopub.status.idle": "2025-07-30T13:07:58.592216Z",
     "shell.execute_reply": "2025-07-30T13:07:58.591066Z"
    },
    "papermill": {
     "duration": 1.091301,
     "end_time": "2025-07-30T13:07:58.594279",
     "exception": false,
     "start_time": "2025-07-30T13:07:57.502978",
     "status": "completed"
    },
    "tags": []
   },
   "outputs": [],
   "source": [
    "probs_calib = model.predict_proba(X_calib)"
   ]
  },
  {
   "cell_type": "code",
   "execution_count": 49,
   "id": "2ed93547-6d5d-4983-9b36-1ecb300da49a",
   "metadata": {
    "execution": {
     "iopub.execute_input": "2025-07-30T13:07:58.647200Z",
     "iopub.status.busy": "2025-07-30T13:07:58.646685Z",
     "iopub.status.idle": "2025-07-30T13:07:58.653757Z",
     "shell.execute_reply": "2025-07-30T13:07:58.652708Z"
    },
    "papermill": {
     "duration": 0.035833,
     "end_time": "2025-07-30T13:07:58.655564",
     "exception": false,
     "start_time": "2025-07-30T13:07:58.619731",
     "status": "completed"
    },
    "tags": []
   },
   "outputs": [],
   "source": [
    "y_calib = y_calib.values.ravel().astype(int)"
   ]
  },
  {
   "cell_type": "code",
   "execution_count": 50,
   "id": "65d1320d-f588-4b38-9072-62af1ae97f7d",
   "metadata": {
    "execution": {
     "iopub.execute_input": "2025-07-30T13:07:58.710921Z",
     "iopub.status.busy": "2025-07-30T13:07:58.710428Z",
     "iopub.status.idle": "2025-07-30T13:07:58.719406Z",
     "shell.execute_reply": "2025-07-30T13:07:58.718400Z"
    },
    "papermill": {
     "duration": 0.038582,
     "end_time": "2025-07-30T13:07:58.721380",
     "exception": false,
     "start_time": "2025-07-30T13:07:58.682798",
     "status": "completed"
    },
    "tags": []
   },
   "outputs": [],
   "source": [
    "from fairness_multiverse.conformal import compute_nc_scores\n",
    "\n",
    "# Compute nonconformity scores on calibration set (1 - probability of true class)\n",
    "nc_scores = compute_nc_scores(probs_calib, y_calib)"
   ]
  },
  {
   "cell_type": "code",
   "execution_count": 51,
   "id": "df3b8ca3-53b7-43d5-9667-7c85da7aeda2",
   "metadata": {
    "execution": {
     "iopub.execute_input": "2025-07-30T13:07:58.775808Z",
     "iopub.status.busy": "2025-07-30T13:07:58.775322Z",
     "iopub.status.idle": "2025-07-30T13:07:58.782133Z",
     "shell.execute_reply": "2025-07-30T13:07:58.781100Z"
    },
    "papermill": {
     "duration": 0.036639,
     "end_time": "2025-07-30T13:07:58.783985",
     "exception": false,
     "start_time": "2025-07-30T13:07:58.747346",
     "status": "completed"
    },
    "tags": []
   },
   "outputs": [],
   "source": [
    "from fairness_multiverse.conformal import find_threshold\n",
    "\n",
    "# Find conformal threshold q_hat for the given alpha (split conformal method)\n",
    "q_hat = find_threshold(nc_scores, alpha)"
   ]
  },
  {
   "cell_type": "code",
   "execution_count": 52,
   "id": "4d29e6c1-0ef6-4aa4-b8fe-4fe79b0d033a",
   "metadata": {
    "execution": {
     "iopub.execute_input": "2025-07-30T13:07:58.839046Z",
     "iopub.status.busy": "2025-07-30T13:07:58.838267Z",
     "iopub.status.idle": "2025-07-30T13:07:58.845319Z",
     "shell.execute_reply": "2025-07-30T13:07:58.844292Z"
    },
    "papermill": {
     "duration": 0.035117,
     "end_time": "2025-07-30T13:07:58.846955",
     "exception": false,
     "start_time": "2025-07-30T13:07:58.811838",
     "status": "completed"
    },
    "tags": []
   },
   "outputs": [
    {
     "data": {
      "text/plain": [
       "0.6599999999999999"
      ]
     },
     "execution_count": 52,
     "metadata": {},
     "output_type": "execute_result"
    }
   ],
   "source": [
    "q_hat"
   ]
  },
  {
   "cell_type": "code",
   "execution_count": 53,
   "id": "92460794-cdac-4be2-ba28-f28c0515a6fb",
   "metadata": {
    "execution": {
     "iopub.execute_input": "2025-07-30T13:07:58.900467Z",
     "iopub.status.busy": "2025-07-30T13:07:58.899629Z",
     "iopub.status.idle": "2025-07-30T13:08:00.362263Z",
     "shell.execute_reply": "2025-07-30T13:08:00.361415Z"
    },
    "papermill": {
     "duration": 1.490388,
     "end_time": "2025-07-30T13:08:00.363781",
     "exception": false,
     "start_time": "2025-07-30T13:07:58.873393",
     "status": "completed"
    },
    "tags": []
   },
   "outputs": [],
   "source": [
    "from fairness_multiverse.conformal import predict_conformal_sets\n",
    "\n",
    "# Generate prediction sets for each test example\n",
    "pred_sets = predict_conformal_sets(model, X_test, q_hat)"
   ]
  },
  {
   "cell_type": "code",
   "execution_count": 54,
   "id": "d90c9a65-e6db-4f5d-80cd-e68fb7e46829",
   "metadata": {
    "execution": {
     "iopub.execute_input": "2025-07-30T13:08:00.397995Z",
     "iopub.status.busy": "2025-07-30T13:08:00.397280Z",
     "iopub.status.idle": "2025-07-30T13:08:00.401931Z",
     "shell.execute_reply": "2025-07-30T13:08:00.401239Z"
    },
    "papermill": {
     "duration": 0.025174,
     "end_time": "2025-07-30T13:08:00.403239",
     "exception": false,
     "start_time": "2025-07-30T13:08:00.378065",
     "status": "completed"
    },
    "tags": []
   },
   "outputs": [],
   "source": [
    "y_true = y_true.squeeze()"
   ]
  },
  {
   "cell_type": "code",
   "execution_count": 55,
   "id": "3a58a54a-1e68-46b9-927a-df01f18aebc8",
   "metadata": {
    "execution": {
     "iopub.execute_input": "2025-07-30T13:08:00.432788Z",
     "iopub.status.busy": "2025-07-30T13:08:00.432452Z",
     "iopub.status.idle": "2025-07-30T13:08:01.341877Z",
     "shell.execute_reply": "2025-07-30T13:08:01.340850Z"
    },
    "papermill": {
     "duration": 0.926734,
     "end_time": "2025-07-30T13:08:01.343796",
     "exception": false,
     "start_time": "2025-07-30T13:08:00.417062",
     "status": "completed"
    },
    "tags": []
   },
   "outputs": [],
   "source": [
    "from fairness_multiverse.conformal import evaluate_sets\n",
    "\n",
    "# Evaluate coverage and average set size on test data\n",
    "metrics = evaluate_sets(pred_sets, y_true)"
   ]
  },
  {
   "cell_type": "markdown",
   "id": "2b569c12-9aaa-4c88-98c9-bbcd0cf3ebb8",
   "metadata": {
    "papermill": {
     "duration": 0.025501,
     "end_time": "2025-07-30T13:08:01.396389",
     "exception": false,
     "start_time": "2025-07-30T13:08:01.370888",
     "status": "completed"
    },
    "tags": []
   },
   "source": [
    "# CP Metrics"
   ]
  },
  {
   "cell_type": "code",
   "execution_count": 56,
   "id": "5ce0a5cb-201f-45a0-ade5-94c7f0bd6095",
   "metadata": {
    "execution": {
     "iopub.execute_input": "2025-07-30T13:08:01.446186Z",
     "iopub.status.busy": "2025-07-30T13:08:01.445637Z",
     "iopub.status.idle": "2025-07-30T13:08:01.453099Z",
     "shell.execute_reply": "2025-07-30T13:08:01.452146Z"
    },
    "papermill": {
     "duration": 0.034879,
     "end_time": "2025-07-30T13:08:01.454564",
     "exception": false,
     "start_time": "2025-07-30T13:08:01.419685",
     "status": "completed"
    },
    "tags": []
   },
   "outputs": [
    {
     "data": {
      "text/plain": [
       "{'coverage': 0.9165756325939137, 'avg_size': 1.1475866681529372}"
      ]
     },
     "execution_count": 56,
     "metadata": {},
     "output_type": "execute_result"
    }
   ],
   "source": [
    "metrics"
   ]
  },
  {
   "cell_type": "code",
   "execution_count": 57,
   "id": "9b9a838d-31c9-430b-ae14-12baee460d17",
   "metadata": {
    "execution": {
     "iopub.execute_input": "2025-07-30T13:08:01.506554Z",
     "iopub.status.busy": "2025-07-30T13:08:01.505652Z",
     "iopub.status.idle": "2025-07-30T13:08:01.514328Z",
     "shell.execute_reply": "2025-07-30T13:08:01.511293Z"
    },
    "papermill": {
     "duration": 0.0364,
     "end_time": "2025-07-30T13:08:01.516135",
     "exception": false,
     "start_time": "2025-07-30T13:08:01.479735",
     "status": "completed"
    },
    "tags": []
   },
   "outputs": [],
   "source": [
    "example_universe = universe.copy()\n",
    "universe_training_size = example_universe.get(\"training_size\")\n",
    "universe_scale = example_universe.get(\"scale\")\n",
    "universe_model = example_universe.get(\"model\")\n",
    "universe_exclude_features = example_universe.get(\"exclude_features\")\n",
    "universe_exclude_subgroups = example_universe.get(\"exclude_subgroups\")"
   ]
  },
  {
   "cell_type": "code",
   "execution_count": 58,
   "id": "f4b6a8ac-9dc0-4245-8a91-5b3b5999c4f9",
   "metadata": {
    "execution": {
     "iopub.execute_input": "2025-07-30T13:08:01.569795Z",
     "iopub.status.busy": "2025-07-30T13:08:01.568917Z",
     "iopub.status.idle": "2025-07-30T13:08:01.575362Z",
     "shell.execute_reply": "2025-07-30T13:08:01.574482Z"
    },
    "papermill": {
     "duration": 0.034612,
     "end_time": "2025-07-30T13:08:01.577076",
     "exception": false,
     "start_time": "2025-07-30T13:08:01.542464",
     "status": "completed"
    },
    "tags": []
   },
   "outputs": [],
   "source": [
    "cp_metrics_dict = {\n",
    "    \"universe_id\": [universe_id],\n",
    "    \"universe_training_size\": [universe_training_size],\n",
    "    \"universe_scale\": [universe_scale],\n",
    "    \"universe_model\": [universe_model],\n",
    "    \"universe_exclude_features\": [universe_exclude_features],\n",
    "    \"universe_exclude_subgroups\": [universe_exclude_subgroups],\n",
    "    \"q_hat\": [q_hat],\n",
    "    \"coverage\": [metrics[\"coverage\"]],\n",
    "    \"avg_size\": [metrics[\"avg_size\"]],\n",
    "}"
   ]
  },
  {
   "cell_type": "code",
   "execution_count": 59,
   "id": "908acbb1-0371-4915-85ca-3fa520d2efe2",
   "metadata": {
    "execution": {
     "iopub.execute_input": "2025-07-30T13:08:01.629434Z",
     "iopub.status.busy": "2025-07-30T13:08:01.628752Z",
     "iopub.status.idle": "2025-07-30T13:08:01.637830Z",
     "shell.execute_reply": "2025-07-30T13:08:01.636080Z"
    },
    "papermill": {
     "duration": 0.037118,
     "end_time": "2025-07-30T13:08:01.639786",
     "exception": false,
     "start_time": "2025-07-30T13:08:01.602668",
     "status": "completed"
    },
    "tags": []
   },
   "outputs": [
    {
     "data": {
      "text/plain": [
       "{'universe_id': ['7eca88123f0c20c733e96ab0327e2b65'],\n",
       " 'universe_training_size': ['25k'],\n",
       " 'universe_scale': ['scale'],\n",
       " 'universe_model': ['rf'],\n",
       " 'universe_exclude_features': ['sex'],\n",
       " 'universe_exclude_subgroups': ['drop-non-german'],\n",
       " 'q_hat': [0.6599999999999999],\n",
       " 'coverage': [0.9165756325939137],\n",
       " 'avg_size': [1.1475866681529372]}"
      ]
     },
     "execution_count": 59,
     "metadata": {},
     "output_type": "execute_result"
    }
   ],
   "source": [
    "cp_metrics_dict"
   ]
  },
  {
   "cell_type": "code",
   "execution_count": 60,
   "id": "33007efc-14e9-4ec6-97ac-56a455c82265",
   "metadata": {
    "execution": {
     "iopub.execute_input": "2025-07-30T13:08:01.693432Z",
     "iopub.status.busy": "2025-07-30T13:08:01.692463Z",
     "iopub.status.idle": "2025-07-30T13:08:01.699196Z",
     "shell.execute_reply": "2025-07-30T13:08:01.698263Z"
    },
    "papermill": {
     "duration": 0.033809,
     "end_time": "2025-07-30T13:08:01.700795",
     "exception": false,
     "start_time": "2025-07-30T13:08:01.666986",
     "status": "completed"
    },
    "tags": []
   },
   "outputs": [],
   "source": [
    "cp_metrics_df = pd.DataFrame(cp_metrics_dict)"
   ]
  },
  {
   "cell_type": "code",
   "execution_count": 61,
   "id": "db12611b-57b2-4910-b9d0-355adfd6e7bf",
   "metadata": {
    "execution": {
     "iopub.execute_input": "2025-07-30T13:08:01.753235Z",
     "iopub.status.busy": "2025-07-30T13:08:01.752327Z",
     "iopub.status.idle": "2025-07-30T13:08:01.770588Z",
     "shell.execute_reply": "2025-07-30T13:08:01.769548Z"
    },
    "papermill": {
     "duration": 0.045978,
     "end_time": "2025-07-30T13:08:01.772204",
     "exception": false,
     "start_time": "2025-07-30T13:08:01.726226",
     "status": "completed"
    },
    "tags": []
   },
   "outputs": [
    {
     "data": {
      "text/html": [
       "<div>\n",
       "<style scoped>\n",
       "    .dataframe tbody tr th:only-of-type {\n",
       "        vertical-align: middle;\n",
       "    }\n",
       "\n",
       "    .dataframe tbody tr th {\n",
       "        vertical-align: top;\n",
       "    }\n",
       "\n",
       "    .dataframe thead th {\n",
       "        text-align: right;\n",
       "    }\n",
       "</style>\n",
       "<table border=\"1\" class=\"dataframe\">\n",
       "  <thead>\n",
       "    <tr style=\"text-align: right;\">\n",
       "      <th></th>\n",
       "      <th>universe_id</th>\n",
       "      <th>universe_training_size</th>\n",
       "      <th>universe_scale</th>\n",
       "      <th>universe_model</th>\n",
       "      <th>universe_exclude_features</th>\n",
       "      <th>universe_exclude_subgroups</th>\n",
       "      <th>q_hat</th>\n",
       "      <th>coverage</th>\n",
       "      <th>avg_size</th>\n",
       "    </tr>\n",
       "  </thead>\n",
       "  <tbody>\n",
       "    <tr>\n",
       "      <th>0</th>\n",
       "      <td>7eca88123f0c20c733e96ab0327e2b65</td>\n",
       "      <td>25k</td>\n",
       "      <td>scale</td>\n",
       "      <td>rf</td>\n",
       "      <td>sex</td>\n",
       "      <td>drop-non-german</td>\n",
       "      <td>0.66</td>\n",
       "      <td>0.916576</td>\n",
       "      <td>1.147587</td>\n",
       "    </tr>\n",
       "  </tbody>\n",
       "</table>\n",
       "</div>"
      ],
      "text/plain": [
       "                        universe_id universe_training_size universe_scale  \\\n",
       "0  7eca88123f0c20c733e96ab0327e2b65                    25k          scale   \n",
       "\n",
       "  universe_model universe_exclude_features universe_exclude_subgroups  q_hat  \\\n",
       "0             rf                       sex            drop-non-german   0.66   \n",
       "\n",
       "   coverage  avg_size  \n",
       "0  0.916576  1.147587  "
      ]
     },
     "execution_count": 61,
     "metadata": {},
     "output_type": "execute_result"
    }
   ],
   "source": [
    "cp_metrics_df"
   ]
  },
  {
   "cell_type": "code",
   "execution_count": 62,
   "id": "b7fbde55-a0a1-47e4-9af6-fe4a17fa8c61",
   "metadata": {
    "execution": {
     "iopub.execute_input": "2025-07-30T13:08:01.827779Z",
     "iopub.status.busy": "2025-07-30T13:08:01.827100Z",
     "iopub.status.idle": "2025-07-30T13:08:01.832266Z",
     "shell.execute_reply": "2025-07-30T13:08:01.831393Z"
    },
    "papermill": {
     "duration": 0.035354,
     "end_time": "2025-07-30T13:08:01.833844",
     "exception": false,
     "start_time": "2025-07-30T13:08:01.798490",
     "status": "completed"
    },
    "tags": []
   },
   "outputs": [],
   "source": [
    "# Conditional Coverage & looking at subgroups"
   ]
  },
  {
   "cell_type": "code",
   "execution_count": 63,
   "id": "027ae886-68dd-4141-96c7-805a5450e1ef",
   "metadata": {
    "execution": {
     "iopub.execute_input": "2025-07-30T13:08:01.889952Z",
     "iopub.status.busy": "2025-07-30T13:08:01.889279Z",
     "iopub.status.idle": "2025-07-30T13:08:02.154222Z",
     "shell.execute_reply": "2025-07-30T13:08:02.153282Z"
    },
    "papermill": {
     "duration": 0.295393,
     "end_time": "2025-07-30T13:08:02.156246",
     "exception": false,
     "start_time": "2025-07-30T13:08:01.860853",
     "status": "completed"
    },
    "tags": []
   },
   "outputs": [],
   "source": [
    "from fairness_multiverse.conformal import build_cp_groups\n",
    "\n",
    "cp_groups_df = build_cp_groups(pred_sets, y_true, X_test.index, org_test)\n",
    "#needs universe_id and setting"
   ]
  },
  {
   "cell_type": "code",
   "execution_count": 64,
   "id": "01d5802c-663a-4d1f-9d69-e036faaffbf7",
   "metadata": {
    "execution": {
     "iopub.execute_input": "2025-07-30T13:08:02.211965Z",
     "iopub.status.busy": "2025-07-30T13:08:02.210944Z",
     "iopub.status.idle": "2025-07-30T13:08:02.216001Z",
     "shell.execute_reply": "2025-07-30T13:08:02.215018Z"
    },
    "papermill": {
     "duration": 0.03391,
     "end_time": "2025-07-30T13:08:02.217619",
     "exception": false,
     "start_time": "2025-07-30T13:08:02.183709",
     "status": "completed"
    },
    "tags": []
   },
   "outputs": [],
   "source": [
    "#delete\n",
    "#cp_groups_df"
   ]
  },
  {
   "cell_type": "code",
   "execution_count": 65,
   "id": "fa424af1-d1eb-443d-b717-2d279ada8408",
   "metadata": {
    "execution": {
     "iopub.execute_input": "2025-07-30T13:08:02.274413Z",
     "iopub.status.busy": "2025-07-30T13:08:02.273738Z",
     "iopub.status.idle": "2025-07-30T13:08:02.279445Z",
     "shell.execute_reply": "2025-07-30T13:08:02.278477Z"
    },
    "papermill": {
     "duration": 0.035048,
     "end_time": "2025-07-30T13:08:02.281099",
     "exception": false,
     "start_time": "2025-07-30T13:08:02.246051",
     "status": "completed"
    },
    "tags": []
   },
   "outputs": [],
   "source": [
    "#delete\n",
    "#percentage = (cp_groups_df['nongerman_female'] == 1).mean() * 100\n",
    "#print(percentage)\n"
   ]
  },
  {
   "cell_type": "code",
   "execution_count": 66,
   "id": "6cbdab96-b2b2-45af-ad54-d0516db2e28d",
   "metadata": {
    "execution": {
     "iopub.execute_input": "2025-07-30T13:08:02.336396Z",
     "iopub.status.busy": "2025-07-30T13:08:02.335440Z",
     "iopub.status.idle": "2025-07-30T13:08:03.987785Z",
     "shell.execute_reply": "2025-07-30T13:08:03.986777Z"
    },
    "papermill": {
     "duration": 1.682454,
     "end_time": "2025-07-30T13:08:03.989754",
     "exception": false,
     "start_time": "2025-07-30T13:08:02.307300",
     "status": "completed"
    },
    "tags": []
   },
   "outputs": [],
   "source": [
    "# Define covered = 1 if true_label is in the predicted set\n",
    "cp_groups_df['covered'] = cp_groups_df.apply(\n",
    "    lambda r: int(r['true_label'] in r['pred_set']),\n",
    "    axis=1\n",
    ")"
   ]
  },
  {
   "cell_type": "code",
   "execution_count": 67,
   "id": "338ff529-1a6b-4b87-a931-8e4788d52aad",
   "metadata": {
    "execution": {
     "iopub.execute_input": "2025-07-30T13:08:04.047038Z",
     "iopub.status.busy": "2025-07-30T13:08:04.046250Z",
     "iopub.status.idle": "2025-07-30T13:08:04.051592Z",
     "shell.execute_reply": "2025-07-30T13:08:04.050667Z"
    },
    "papermill": {
     "duration": 0.034324,
     "end_time": "2025-07-30T13:08:04.053241",
     "exception": false,
     "start_time": "2025-07-30T13:08:04.018917",
     "status": "completed"
    },
    "tags": []
   },
   "outputs": [],
   "source": [
    "#cp_groups_df"
   ]
  },
  {
   "cell_type": "code",
   "execution_count": 68,
   "id": "90032e27-66df-4540-9169-4e89cfbaa758",
   "metadata": {
    "execution": {
     "iopub.execute_input": "2025-07-30T13:08:04.108384Z",
     "iopub.status.busy": "2025-07-30T13:08:04.107506Z",
     "iopub.status.idle": "2025-07-30T13:08:04.119724Z",
     "shell.execute_reply": "2025-07-30T13:08:04.118707Z"
    },
    "papermill": {
     "duration": 0.041085,
     "end_time": "2025-07-30T13:08:04.121538",
     "exception": false,
     "start_time": "2025-07-30T13:08:04.080453",
     "status": "completed"
    },
    "tags": []
   },
   "outputs": [],
   "source": [
    "subgroups = ['frau1','nongerman','nongerman_male','nongerman_female']\n",
    "\n",
    "# Conditional coverage for subgroup==1\n",
    "cond_coverage = {\n",
    "    g: cp_groups_df.loc[cp_groups_df[g]==1, 'covered'].mean()\n",
    "    for g in subgroups\n",
    "}"
   ]
  },
  {
   "cell_type": "code",
   "execution_count": 69,
   "id": "1e348fb1-b9c3-45bc-ba23-f016827a7e0d",
   "metadata": {
    "execution": {
     "iopub.execute_input": "2025-07-30T13:08:04.177259Z",
     "iopub.status.busy": "2025-07-30T13:08:04.176372Z",
     "iopub.status.idle": "2025-07-30T13:08:04.183895Z",
     "shell.execute_reply": "2025-07-30T13:08:04.182963Z"
    },
    "papermill": {
     "duration": 0.037634,
     "end_time": "2025-07-30T13:08:04.185464",
     "exception": false,
     "start_time": "2025-07-30T13:08:04.147830",
     "status": "completed"
    },
    "tags": []
   },
   "outputs": [
    {
     "data": {
      "text/plain": [
       "{'frau1': 0.9167542795525003,\n",
       " 'nongerman': 0.909111323190928,\n",
       " 'nongerman_male': 0.9242547059353328,\n",
       " 'nongerman_female': 0.884053651266766}"
      ]
     },
     "execution_count": 69,
     "metadata": {},
     "output_type": "execute_result"
    }
   ],
   "source": [
    "cond_coverage"
   ]
  },
  {
   "cell_type": "code",
   "execution_count": 70,
   "id": "f5093324-c3dd-4d63-bc4c-8d945e5c8bbb",
   "metadata": {
    "execution": {
     "iopub.execute_input": "2025-07-30T13:08:04.240251Z",
     "iopub.status.busy": "2025-07-30T13:08:04.239714Z",
     "iopub.status.idle": "2025-07-30T13:08:04.247698Z",
     "shell.execute_reply": "2025-07-30T13:08:04.246675Z"
    },
    "papermill": {
     "duration": 0.037222,
     "end_time": "2025-07-30T13:08:04.249540",
     "exception": false,
     "start_time": "2025-07-30T13:08:04.212318",
     "status": "completed"
    },
    "tags": []
   },
   "outputs": [],
   "source": [
    "for subgroup, cov in cond_coverage.items():\n",
    "    cp_metrics_df[f\"cov_{subgroup}\"] = cov"
   ]
  },
  {
   "cell_type": "code",
   "execution_count": 71,
   "id": "6e872e10-dbe5-49e8-b554-5030c98ff75d",
   "metadata": {
    "execution": {
     "iopub.execute_input": "2025-07-30T13:08:04.305051Z",
     "iopub.status.busy": "2025-07-30T13:08:04.304323Z",
     "iopub.status.idle": "2025-07-30T13:08:04.322667Z",
     "shell.execute_reply": "2025-07-30T13:08:04.321736Z"
    },
    "papermill": {
     "duration": 0.047565,
     "end_time": "2025-07-30T13:08:04.324477",
     "exception": false,
     "start_time": "2025-07-30T13:08:04.276912",
     "status": "completed"
    },
    "tags": []
   },
   "outputs": [
    {
     "data": {
      "text/html": [
       "<div>\n",
       "<style scoped>\n",
       "    .dataframe tbody tr th:only-of-type {\n",
       "        vertical-align: middle;\n",
       "    }\n",
       "\n",
       "    .dataframe tbody tr th {\n",
       "        vertical-align: top;\n",
       "    }\n",
       "\n",
       "    .dataframe thead th {\n",
       "        text-align: right;\n",
       "    }\n",
       "</style>\n",
       "<table border=\"1\" class=\"dataframe\">\n",
       "  <thead>\n",
       "    <tr style=\"text-align: right;\">\n",
       "      <th></th>\n",
       "      <th>universe_id</th>\n",
       "      <th>universe_training_size</th>\n",
       "      <th>universe_scale</th>\n",
       "      <th>universe_model</th>\n",
       "      <th>universe_exclude_features</th>\n",
       "      <th>universe_exclude_subgroups</th>\n",
       "      <th>q_hat</th>\n",
       "      <th>coverage</th>\n",
       "      <th>avg_size</th>\n",
       "      <th>cov_frau1</th>\n",
       "      <th>cov_nongerman</th>\n",
       "      <th>cov_nongerman_male</th>\n",
       "      <th>cov_nongerman_female</th>\n",
       "    </tr>\n",
       "  </thead>\n",
       "  <tbody>\n",
       "    <tr>\n",
       "      <th>0</th>\n",
       "      <td>7eca88123f0c20c733e96ab0327e2b65</td>\n",
       "      <td>25k</td>\n",
       "      <td>scale</td>\n",
       "      <td>rf</td>\n",
       "      <td>sex</td>\n",
       "      <td>drop-non-german</td>\n",
       "      <td>0.66</td>\n",
       "      <td>0.916576</td>\n",
       "      <td>1.147587</td>\n",
       "      <td>0.916754</td>\n",
       "      <td>0.909111</td>\n",
       "      <td>0.924255</td>\n",
       "      <td>0.884054</td>\n",
       "    </tr>\n",
       "  </tbody>\n",
       "</table>\n",
       "</div>"
      ],
      "text/plain": [
       "                        universe_id universe_training_size universe_scale  \\\n",
       "0  7eca88123f0c20c733e96ab0327e2b65                    25k          scale   \n",
       "\n",
       "  universe_model universe_exclude_features universe_exclude_subgroups  q_hat  \\\n",
       "0             rf                       sex            drop-non-german   0.66   \n",
       "\n",
       "   coverage  avg_size  cov_frau1  cov_nongerman  cov_nongerman_male  \\\n",
       "0  0.916576  1.147587   0.916754       0.909111            0.924255   \n",
       "\n",
       "   cov_nongerman_female  \n",
       "0              0.884054  "
      ]
     },
     "execution_count": 71,
     "metadata": {},
     "output_type": "execute_result"
    }
   ],
   "source": [
    "cp_metrics_df"
   ]
  },
  {
   "cell_type": "markdown",
   "id": "33774451",
   "metadata": {
    "papermill": {
     "duration": 0.029889,
     "end_time": "2025-07-30T13:08:04.383786",
     "exception": false,
     "start_time": "2025-07-30T13:08:04.353897",
     "status": "completed"
    },
    "tags": []
   },
   "source": [
    "# (Fairness) Metrics"
   ]
  },
  {
   "cell_type": "code",
   "execution_count": 72,
   "id": "debc5d62",
   "metadata": {
    "execution": {
     "iopub.execute_input": "2025-07-30T13:08:04.443579Z",
     "iopub.status.busy": "2025-07-30T13:08:04.442921Z",
     "iopub.status.idle": "2025-07-30T13:08:04.465863Z",
     "shell.execute_reply": "2025-07-30T13:08:04.464936Z"
    },
    "papermill": {
     "duration": 0.055219,
     "end_time": "2025-07-30T13:08:04.467780",
     "exception": false,
     "start_time": "2025-07-30T13:08:04.412561",
     "status": "completed"
    },
    "tags": []
   },
   "outputs": [],
   "source": [
    "# do I need to include maxdeutsch1.missing?\n",
    "\n",
    "import numpy as np\n",
    "\n",
    "colname_to_bin = \"maxdeutsch1\"\n",
    "majority_value = org_train[colname_to_bin].mode()[0]\n",
    "\n",
    "org_test[\"majmin\"] = np.where(org_test[colname_to_bin] == majority_value, \"majority\", \"minority\")"
   ]
  },
  {
   "cell_type": "code",
   "execution_count": 73,
   "id": "06a50de5",
   "metadata": {
    "execution": {
     "iopub.execute_input": "2025-07-30T13:08:04.527515Z",
     "iopub.status.busy": "2025-07-30T13:08:04.526870Z",
     "iopub.status.idle": "2025-07-30T13:08:07.399236Z",
     "shell.execute_reply": "2025-07-30T13:08:07.398316Z"
    },
    "papermill": {
     "duration": 2.904717,
     "end_time": "2025-07-30T13:08:07.401415",
     "exception": false,
     "start_time": "2025-07-30T13:08:04.496698",
     "status": "completed"
    },
    "tags": []
   },
   "outputs": [],
   "source": [
    "example_universe = universe.copy()\n",
    "example_universe[\"cutoff\"] = example_universe[\"cutoff\"][0]\n",
    "example_universe[\"eval_fairness_grouping\"] = example_universe[\"eval_fairness_grouping\"][0]\n",
    "fairness_dict, metric_frame = universe_analysis.compute_metrics(\n",
    "    example_universe,\n",
    "    y_pred_prob=probs_test,\n",
    "    y_test=y_true,\n",
    "    org_test=org_test,\n",
    ")"
   ]
  },
  {
   "cell_type": "markdown",
   "id": "f95d4e02",
   "metadata": {
    "papermill": {
     "duration": 0.028067,
     "end_time": "2025-07-30T13:08:07.458273",
     "exception": false,
     "start_time": "2025-07-30T13:08:07.430206",
     "status": "completed"
    },
    "tags": []
   },
   "source": [
    "# Overall"
   ]
  },
  {
   "cell_type": "markdown",
   "id": "bdee4871",
   "metadata": {
    "papermill": {
     "duration": 0.028368,
     "end_time": "2025-07-30T13:08:07.514100",
     "exception": false,
     "start_time": "2025-07-30T13:08:07.485732",
     "status": "completed"
    },
    "tags": []
   },
   "source": [
    "Fairness\n",
    "Main fairness target: Equalized Odds. Seems to be a better fit than equal opportunity, since we're not only interested in Y = 1. Seems to be a better fit than demographic parity, since we also care about accuracy, not just equal distribution of preds.\n",
    "\n",
    "Pick column for computation of fairness metrics\n",
    "\n",
    "Performance\n",
    "Overall performance measures, most interesting in relation to the measures split by group below"
   ]
  },
  {
   "cell_type": "code",
   "execution_count": 74,
   "id": "c4e067c6",
   "metadata": {
    "execution": {
     "iopub.execute_input": "2025-07-30T13:08:07.572554Z",
     "iopub.status.busy": "2025-07-30T13:08:07.572123Z",
     "iopub.status.idle": "2025-07-30T13:08:07.581189Z",
     "shell.execute_reply": "2025-07-30T13:08:07.580087Z"
    },
    "papermill": {
     "duration": 0.042308,
     "end_time": "2025-07-30T13:08:07.585421",
     "exception": false,
     "start_time": "2025-07-30T13:08:07.543113",
     "status": "completed"
    },
    "tags": []
   },
   "outputs": [
    {
     "data": {
      "text/plain": [
       "accuracy                   0.197715\n",
       "balanced accuracy          0.530711\n",
       "f1                         0.238357\n",
       "precision                  0.135705\n",
       "false positive rate        0.917202\n",
       "false negative rate        0.021376\n",
       "selection rate             0.925081\n",
       "count                  89710.000000\n",
       "dtype: float64"
      ]
     },
     "execution_count": 74,
     "metadata": {},
     "output_type": "execute_result"
    }
   ],
   "source": [
    "metric_frame.overall"
   ]
  },
  {
   "cell_type": "markdown",
   "id": "e968fe9d",
   "metadata": {
    "papermill": {
     "duration": 0.02836,
     "end_time": "2025-07-30T13:08:07.642655",
     "exception": false,
     "start_time": "2025-07-30T13:08:07.614295",
     "status": "completed"
    },
    "tags": []
   },
   "source": [
    "By Group"
   ]
  },
  {
   "cell_type": "code",
   "execution_count": 75,
   "id": "ec325bce",
   "metadata": {
    "execution": {
     "iopub.execute_input": "2025-07-30T13:08:07.706572Z",
     "iopub.status.busy": "2025-07-30T13:08:07.706198Z",
     "iopub.status.idle": "2025-07-30T13:08:07.726468Z",
     "shell.execute_reply": "2025-07-30T13:08:07.725380Z"
    },
    "papermill": {
     "duration": 0.052303,
     "end_time": "2025-07-30T13:08:07.728271",
     "exception": false,
     "start_time": "2025-07-30T13:08:07.675968",
     "status": "completed"
    },
    "tags": []
   },
   "outputs": [
    {
     "data": {
      "text/html": [
       "<div>\n",
       "<style scoped>\n",
       "    .dataframe tbody tr th:only-of-type {\n",
       "        vertical-align: middle;\n",
       "    }\n",
       "\n",
       "    .dataframe tbody tr th {\n",
       "        vertical-align: top;\n",
       "    }\n",
       "\n",
       "    .dataframe thead th {\n",
       "        text-align: right;\n",
       "    }\n",
       "</style>\n",
       "<table border=\"1\" class=\"dataframe\">\n",
       "  <thead>\n",
       "    <tr style=\"text-align: right;\">\n",
       "      <th></th>\n",
       "      <th>accuracy</th>\n",
       "      <th>balanced accuracy</th>\n",
       "      <th>f1</th>\n",
       "      <th>precision</th>\n",
       "      <th>false positive rate</th>\n",
       "      <th>false negative rate</th>\n",
       "      <th>selection rate</th>\n",
       "      <th>count</th>\n",
       "    </tr>\n",
       "    <tr>\n",
       "      <th>majmin</th>\n",
       "      <th></th>\n",
       "      <th></th>\n",
       "      <th></th>\n",
       "      <th></th>\n",
       "      <th></th>\n",
       "      <th></th>\n",
       "      <th></th>\n",
       "      <th></th>\n",
       "    </tr>\n",
       "  </thead>\n",
       "  <tbody>\n",
       "    <tr>\n",
       "      <th>majority</th>\n",
       "      <td>0.192844</td>\n",
       "      <td>0.530893</td>\n",
       "      <td>0.244864</td>\n",
       "      <td>0.139702</td>\n",
       "      <td>0.928586</td>\n",
       "      <td>0.009628</td>\n",
       "      <td>0.936750</td>\n",
       "      <td>69170.0</td>\n",
       "    </tr>\n",
       "    <tr>\n",
       "      <th>minority</th>\n",
       "      <td>0.214119</td>\n",
       "      <td>0.526841</td>\n",
       "      <td>0.214960</td>\n",
       "      <td>0.121469</td>\n",
       "      <td>0.879595</td>\n",
       "      <td>0.066723</td>\n",
       "      <td>0.885784</td>\n",
       "      <td>20540.0</td>\n",
       "    </tr>\n",
       "  </tbody>\n",
       "</table>\n",
       "</div>"
      ],
      "text/plain": [
       "          accuracy  balanced accuracy        f1  precision  \\\n",
       "majmin                                                       \n",
       "majority  0.192844           0.530893  0.244864   0.139702   \n",
       "minority  0.214119           0.526841  0.214960   0.121469   \n",
       "\n",
       "          false positive rate  false negative rate  selection rate    count  \n",
       "majmin                                                                       \n",
       "majority             0.928586             0.009628        0.936750  69170.0  \n",
       "minority             0.879595             0.066723        0.885784  20540.0  "
      ]
     },
     "execution_count": 75,
     "metadata": {},
     "output_type": "execute_result"
    }
   ],
   "source": [
    "metric_frame.by_group"
   ]
  },
  {
   "cell_type": "code",
   "execution_count": 76,
   "id": "a9ddbe63",
   "metadata": {
    "execution": {
     "iopub.execute_input": "2025-07-30T13:08:07.787442Z",
     "iopub.status.busy": "2025-07-30T13:08:07.786959Z",
     "iopub.status.idle": "2025-07-30T13:08:12.472453Z",
     "shell.execute_reply": "2025-07-30T13:08:12.471392Z"
    },
    "papermill": {
     "duration": 4.716107,
     "end_time": "2025-07-30T13:08:12.474044",
     "exception": false,
     "start_time": "2025-07-30T13:08:07.757937",
     "status": "completed"
    },
    "tags": []
   },
   "outputs": [
    {
     "data": {
      "text/plain": [
       "array([[<Axes: title={'center': 'accuracy'}, xlabel='majmin'>,\n",
       "        <Axes: title={'center': 'balanced accuracy'}, xlabel='majmin'>,\n",
       "        <Axes: title={'center': 'f1'}, xlabel='majmin'>],\n",
       "       [<Axes: title={'center': 'precision'}, xlabel='majmin'>,\n",
       "        <Axes: title={'center': 'false positive rate'}, xlabel='majmin'>,\n",
       "        <Axes: title={'center': 'false negative rate'}, xlabel='majmin'>],\n",
       "       [<Axes: title={'center': 'selection rate'}, xlabel='majmin'>,\n",
       "        <Axes: title={'center': 'count'}, xlabel='majmin'>,\n",
       "        <Axes: xlabel='majmin'>]], dtype=object)"
      ]
     },
     "execution_count": 76,
     "metadata": {},
     "output_type": "execute_result"
    },
    {
     "data": {
      "image/png": "[encoded data removed]",
      "text/plain": [
       "<Figure size 1200x800 with 9 Axes>"
      ]
     },
     "metadata": {},
     "output_type": "display_data"
    }
   ],
   "source": [
    "# In a graphic\n",
    "metric_frame.by_group.plot.bar(\n",
    "    subplots=True,\n",
    "    layout=[3, 3],\n",
    "    legend=False,\n",
    "    figsize=[12, 8],\n",
    "    title=\"Show all metrics\",\n",
    ")"
   ]
  },
  {
   "cell_type": "markdown",
   "id": "f57a0bac",
   "metadata": {
    "papermill": {
     "duration": 0.03153,
     "end_time": "2025-07-30T13:08:12.574332",
     "exception": false,
     "start_time": "2025-07-30T13:08:12.542802",
     "status": "completed"
    },
    "tags": []
   },
   "source": [
    "# Final Output"
   ]
  },
  {
   "cell_type": "code",
   "execution_count": 77,
   "id": "96d280a3",
   "metadata": {
    "execution": {
     "iopub.execute_input": "2025-07-30T13:08:12.677486Z",
     "iopub.status.busy": "2025-07-30T13:08:12.676909Z",
     "iopub.status.idle": "2025-07-30T13:08:12.685130Z",
     "shell.execute_reply": "2025-07-30T13:08:12.683909Z"
    },
    "papermill": {
     "duration": 0.079845,
     "end_time": "2025-07-30T13:08:12.686913",
     "exception": false,
     "start_time": "2025-07-30T13:08:12.607068",
     "status": "completed"
    },
    "tags": []
   },
   "outputs": [
    {
     "data": {
      "text/plain": [
       "4"
      ]
     },
     "execution_count": 77,
     "metadata": {},
     "output_type": "execute_result"
    }
   ],
   "source": [
    "sub_universes = universe_analysis.generate_sub_universes()\n",
    "len(sub_universes)"
   ]
  },
  {
   "cell_type": "code",
   "execution_count": 78,
   "id": "92adf7ba",
   "metadata": {
    "execution": {
     "iopub.execute_input": "2025-07-30T13:08:12.767413Z",
     "iopub.status.busy": "2025-07-30T13:08:12.766663Z",
     "iopub.status.idle": "2025-07-30T13:08:12.779109Z",
     "shell.execute_reply": "2025-07-30T13:08:12.777954Z"
    },
    "papermill": {
     "duration": 0.060755,
     "end_time": "2025-07-30T13:08:12.794564",
     "exception": false,
     "start_time": "2025-07-30T13:08:12.733809",
     "status": "completed"
    },
    "tags": []
   },
   "outputs": [],
   "source": [
    "def filter_sub_universe_data(sub_universe, org_test):\n",
    "    # Keep all rows — no filtering\n",
    "    keep_rows_mask = np.ones(org_test.shape[0], dtype=bool)\n",
    "\n",
    "    print(f\"[INFO] Keeping all rows: {keep_rows_mask.sum()} rows retained.\")\n",
    "    return keep_rows_mask"
   ]
  },
  {
   "cell_type": "code",
   "execution_count": 79,
   "id": "4a759155",
   "metadata": {
    "execution": {
     "iopub.execute_input": "2025-07-30T13:08:12.918677Z",
     "iopub.status.busy": "2025-07-30T13:08:12.918274Z",
     "iopub.status.idle": "2025-07-30T13:08:27.252544Z",
     "shell.execute_reply": "2025-07-30T13:08:27.238083Z"
    },
    "papermill": {
     "duration": 14.402954,
     "end_time": "2025-07-30T13:08:27.254361",
     "exception": false,
     "start_time": "2025-07-30T13:08:12.851407",
     "status": "completed"
    },
    "tags": []
   },
   "outputs": [
    {
     "name": "stdout",
     "output_type": "stream",
     "text": [
      "Stopping execution_time clock.\n",
      "[INFO] Keeping all rows: 89710 rows retained.\n"
     ]
    },
    {
     "name": "stdout",
     "output_type": "stream",
     "text": [
      "[INFO] Keeping all rows: 89710 rows retained.\n"
     ]
    },
    {
     "name": "stdout",
     "output_type": "stream",
     "text": [
      "[INFO] Keeping all rows: 89710 rows retained.\n"
     ]
    },
    {
     "name": "stdout",
     "output_type": "stream",
     "text": [
      "[INFO] Keeping all rows: 89710 rows retained.\n"
     ]
    },
    {
     "data": {
      "text/html": [
       "<div>\n",
       "<style scoped>\n",
       "    .dataframe tbody tr th:only-of-type {\n",
       "        vertical-align: middle;\n",
       "    }\n",
       "\n",
       "    .dataframe tbody tr th {\n",
       "        vertical-align: top;\n",
       "    }\n",
       "\n",
       "    .dataframe thead th {\n",
       "        text-align: right;\n",
       "    }\n",
       "</style>\n",
       "<table border=\"1\" class=\"dataframe\">\n",
       "  <thead>\n",
       "    <tr style=\"text-align: right;\">\n",
       "      <th></th>\n",
       "      <th>run_no</th>\n",
       "      <th>universe_id</th>\n",
       "      <th>universe_settings</th>\n",
       "      <th>execution_time</th>\n",
       "      <th>test_size_n</th>\n",
       "      <th>test_size_frac</th>\n",
       "      <th>fair_main_equalized_odds_difference</th>\n",
       "      <th>fair_main_equalized_odds_ratio</th>\n",
       "      <th>fair_main_demographic_parity_difference</th>\n",
       "      <th>fair_main_demographic_parity_ratio</th>\n",
       "      <th>...</th>\n",
       "      <th>perf_grp_precision_0</th>\n",
       "      <th>perf_grp_precision_1</th>\n",
       "      <th>perf_grp_false positive rate_0</th>\n",
       "      <th>perf_grp_false positive rate_1</th>\n",
       "      <th>perf_grp_false negative rate_0</th>\n",
       "      <th>perf_grp_false negative rate_1</th>\n",
       "      <th>perf_grp_selection rate_0</th>\n",
       "      <th>perf_grp_selection rate_1</th>\n",
       "      <th>perf_grp_count_0</th>\n",
       "      <th>perf_grp_count_1</th>\n",
       "    </tr>\n",
       "  </thead>\n",
       "  <tbody>\n",
       "    <tr>\n",
       "      <th>0</th>\n",
       "      <td>12</td>\n",
       "      <td>7eca88123f0c20c733e96ab0327e2b65</td>\n",
       "      <td>{\"cutoff\": \"quantile_0.1\", \"eval_fairness_grou...</td>\n",
       "      <td>38.235071</td>\n",
       "      <td>89710</td>\n",
       "      <td>1.0</td>\n",
       "      <td>0.057095</td>\n",
       "      <td>0.942350</td>\n",
       "      <td>0.050966</td>\n",
       "      <td>0.945593</td>\n",
       "      <td>...</td>\n",
       "      <td>NaN</td>\n",
       "      <td>NaN</td>\n",
       "      <td>NaN</td>\n",
       "      <td>NaN</td>\n",
       "      <td>NaN</td>\n",
       "      <td>NaN</td>\n",
       "      <td>NaN</td>\n",
       "      <td>NaN</td>\n",
       "      <td>NaN</td>\n",
       "      <td>NaN</td>\n",
       "    </tr>\n",
       "    <tr>\n",
       "      <th>0</th>\n",
       "      <td>12</td>\n",
       "      <td>7eca88123f0c20c733e96ab0327e2b65</td>\n",
       "      <td>{\"cutoff\": \"quantile_0.1\", \"eval_fairness_grou...</td>\n",
       "      <td>38.235071</td>\n",
       "      <td>89710</td>\n",
       "      <td>1.0</td>\n",
       "      <td>0.057095</td>\n",
       "      <td>0.942350</td>\n",
       "      <td>0.050966</td>\n",
       "      <td>0.945593</td>\n",
       "      <td>...</td>\n",
       "      <td>0.121469</td>\n",
       "      <td>0.139702</td>\n",
       "      <td>0.879595</td>\n",
       "      <td>0.928586</td>\n",
       "      <td>0.066723</td>\n",
       "      <td>0.009628</td>\n",
       "      <td>0.885784</td>\n",
       "      <td>0.936750</td>\n",
       "      <td>20540.0</td>\n",
       "      <td>69170.0</td>\n",
       "    </tr>\n",
       "    <tr>\n",
       "      <th>0</th>\n",
       "      <td>12</td>\n",
       "      <td>7eca88123f0c20c733e96ab0327e2b65</td>\n",
       "      <td>{\"cutoff\": \"quantile_0.25\", \"eval_fairness_gro...</td>\n",
       "      <td>38.235071</td>\n",
       "      <td>89710</td>\n",
       "      <td>1.0</td>\n",
       "      <td>0.097579</td>\n",
       "      <td>0.898211</td>\n",
       "      <td>0.057478</td>\n",
       "      <td>0.927117</td>\n",
       "      <td>...</td>\n",
       "      <td>NaN</td>\n",
       "      <td>NaN</td>\n",
       "      <td>NaN</td>\n",
       "      <td>NaN</td>\n",
       "      <td>NaN</td>\n",
       "      <td>NaN</td>\n",
       "      <td>NaN</td>\n",
       "      <td>NaN</td>\n",
       "      <td>NaN</td>\n",
       "      <td>NaN</td>\n",
       "    </tr>\n",
       "    <tr>\n",
       "      <th>0</th>\n",
       "      <td>12</td>\n",
       "      <td>7eca88123f0c20c733e96ab0327e2b65</td>\n",
       "      <td>{\"cutoff\": \"quantile_0.25\", \"eval_fairness_gro...</td>\n",
       "      <td>38.235071</td>\n",
       "      <td>89710</td>\n",
       "      <td>1.0</td>\n",
       "      <td>0.097579</td>\n",
       "      <td>0.898211</td>\n",
       "      <td>0.057478</td>\n",
       "      <td>0.927117</td>\n",
       "      <td>...</td>\n",
       "      <td>0.135770</td>\n",
       "      <td>0.160623</td>\n",
       "      <td>0.714231</td>\n",
       "      <td>0.762752</td>\n",
       "      <td>0.138936</td>\n",
       "      <td>0.041357</td>\n",
       "      <td>0.731159</td>\n",
       "      <td>0.788637</td>\n",
       "      <td>20540.0</td>\n",
       "      <td>69170.0</td>\n",
       "    </tr>\n",
       "  </tbody>\n",
       "</table>\n",
       "<p>4 rows × 50 columns</p>\n",
       "</div>"
      ],
      "text/plain": [
       "  run_no                       universe_id  \\\n",
       "0     12  7eca88123f0c20c733e96ab0327e2b65   \n",
       "0     12  7eca88123f0c20c733e96ab0327e2b65   \n",
       "0     12  7eca88123f0c20c733e96ab0327e2b65   \n",
       "0     12  7eca88123f0c20c733e96ab0327e2b65   \n",
       "\n",
       "                                   universe_settings  execution_time  \\\n",
       "0  {\"cutoff\": \"quantile_0.1\", \"eval_fairness_grou...       38.235071   \n",
       "0  {\"cutoff\": \"quantile_0.1\", \"eval_fairness_grou...       38.235071   \n",
       "0  {\"cutoff\": \"quantile_0.25\", \"eval_fairness_gro...       38.235071   \n",
       "0  {\"cutoff\": \"quantile_0.25\", \"eval_fairness_gro...       38.235071   \n",
       "\n",
       "   test_size_n  test_size_frac  fair_main_equalized_odds_difference  \\\n",
       "0        89710             1.0                             0.057095   \n",
       "0        89710             1.0                             0.057095   \n",
       "0        89710             1.0                             0.097579   \n",
       "0        89710             1.0                             0.097579   \n",
       "\n",
       "   fair_main_equalized_odds_ratio  fair_main_demographic_parity_difference  \\\n",
       "0                        0.942350                                 0.050966   \n",
       "0                        0.942350                                 0.050966   \n",
       "0                        0.898211                                 0.057478   \n",
       "0                        0.898211                                 0.057478   \n",
       "\n",
       "   fair_main_demographic_parity_ratio  ...  perf_grp_precision_0  \\\n",
       "0                            0.945593  ...                   NaN   \n",
       "0                            0.945593  ...              0.121469   \n",
       "0                            0.927117  ...                   NaN   \n",
       "0                            0.927117  ...              0.135770   \n",
       "\n",
       "   perf_grp_precision_1  perf_grp_false positive rate_0  \\\n",
       "0                   NaN                             NaN   \n",
       "0              0.139702                        0.879595   \n",
       "0                   NaN                             NaN   \n",
       "0              0.160623                        0.714231   \n",
       "\n",
       "   perf_grp_false positive rate_1  perf_grp_false negative rate_0  \\\n",
       "0                             NaN                             NaN   \n",
       "0                        0.928586                        0.066723   \n",
       "0                             NaN                             NaN   \n",
       "0                        0.762752                        0.138936   \n",
       "\n",
       "   perf_grp_false negative rate_1  perf_grp_selection rate_0  \\\n",
       "0                             NaN                        NaN   \n",
       "0                        0.009628                   0.885784   \n",
       "0                             NaN                        NaN   \n",
       "0                        0.041357                   0.731159   \n",
       "\n",
       "   perf_grp_selection rate_1  perf_grp_count_0  perf_grp_count_1  \n",
       "0                        NaN               NaN               NaN  \n",
       "0                   0.936750           20540.0           69170.0  \n",
       "0                        NaN               NaN               NaN  \n",
       "0                   0.788637           20540.0           69170.0  \n",
       "\n",
       "[4 rows x 50 columns]"
      ]
     },
     "execution_count": 79,
     "metadata": {},
     "output_type": "execute_result"
    }
   ],
   "source": [
    "final_output = universe_analysis.generate_final_output(\n",
    "    y_pred_prob=probs_test,\n",
    "    y_test=y_true,\n",
    "    org_test=org_test,\n",
    "    filter_data=filter_sub_universe_data,\n",
    "    cp_metrics_df=cp_metrics_df,\n",
    "    save=True,\n",
    ")\n",
    "final_output"
   ]
  },
  {
   "cell_type": "code",
   "execution_count": null,
   "id": "721ff514-cb11-46f8-b6fc-50392f74b5cb",
   "metadata": {
    "papermill": {
     "duration": 0.062978,
     "end_time": "2025-07-30T13:08:27.378010",
     "exception": false,
     "start_time": "2025-07-30T13:08:27.315032",
     "status": "completed"
    },
    "tags": []
   },
   "outputs": [],
   "source": []
  }
 ],
 "metadata": {
  "celltoolbar": "Tags",
  "kernelspec": {
   "display_name": "Python (CMA Fairness)",
   "language": "python",
   "name": "cma_fair_env"
  },
  "language_info": {
   "codemirror_mode": {
    "name": "ipython",
    "version": 3
   },
   "file_extension": ".py",
   "mimetype": "text/x-python",
   "name": "python",
   "nbconvert_exporter": "python",
   "pygments_lexer": "ipython3",
   "version": "3.10.12"
  },
  "papermill": {
   "default_parameters": {},
   "duration": 57.178976,
   "end_time": "2025-07-30T13:08:28.253224",
   "environment_variables": {},
   "exception": null,
   "input_path": "universe_analysis.ipynb",
   "output_path": "output/runs/12/notebooks/m_12-7eca88123f0c20c733e96ab0327e2b65.ipynb",
   "parameters": {
    "output_dir": "output",
    "run_no": "12",
    "seed": "2023",
    "universe": "{\"cutoff\": [\"quantile_0.1\", \"quantile_0.25\"], \"eval_fairness_grouping\": [\"majority-minority\", \"nationality-all\"], \"exclude_features\": \"sex\", \"exclude_subgroups\": \"drop-non-german\", \"model\": \"rf\", \"scale\": \"scale\", \"training_size\": \"25k\", \"training_year\": \"2012_14\"}",
    "universe_id": "7eca88123f0c20c733e96ab0327e2b65"
   },
   "start_time": "2025-07-30T13:07:31.074248",
   "version": "2.6.0"
  }
 },
 "nbformat": 4,
 "nbformat_minor": 5
}