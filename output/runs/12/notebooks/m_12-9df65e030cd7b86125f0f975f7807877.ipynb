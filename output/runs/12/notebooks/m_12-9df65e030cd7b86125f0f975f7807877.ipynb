{
 "cells": [
  {
   "cell_type": "code",
   "execution_count": 1,
   "id": "f159f837-637b-42ba-96b5-ec9a68c44524",
   "metadata": {
    "execution": {
     "iopub.execute_input": "2025-07-30T12:57:08.863768Z",
     "iopub.status.busy": "2025-07-30T12:57:08.863220Z",
     "iopub.status.idle": "2025-07-30T12:57:08.879514Z",
     "shell.execute_reply": "2025-07-30T12:57:08.878486Z"
    },
    "papermill": {
     "duration": 0.043697,
     "end_time": "2025-07-30T12:57:08.881449",
     "exception": false,
     "start_time": "2025-07-30T12:57:08.837752",
     "status": "completed"
    },
    "tags": []
   },
   "outputs": [
    {
     "name": "stdout",
     "output_type": "stream",
     "text": [
      "/dss/dsshome1/0C/ra93lal2/cma/CMA_Fairness_v2\n"
     ]
    },
    {
     "name": "stderr",
     "output_type": "stream",
     "text": [
      "/dss/dsshome1/0C/ra93lal2/.local/share/virtualenvs/CMA_Fairness_v2-3j10GkSs/lib/python3.10/site-packages/IPython/core/magics/osm.py:393: UserWarning: This is now an optional IPython functionality, using bookmarks requires you to install the `pickleshare` library.\n",
      "  bkms = self.shell.db.get('bookmarks', {})\n",
      "/dss/dsshome1/0C/ra93lal2/.local/share/virtualenvs/CMA_Fairness_v2-3j10GkSs/lib/python3.10/site-packages/IPython/core/magics/osm.py:417: UserWarning: This is now an optional IPython functionality, setting dhist requires you to install the `pickleshare` library.\n",
      "  self.shell.db['dhist'] = compress_dhist(dhist)[-100:]\n"
     ]
    }
   ],
   "source": [
    "%cd ~/cma/CMA_Fairness_v2"
   ]
  },
  {
   "cell_type": "markdown",
   "id": "de2603b9",
   "metadata": {
    "papermill": {
     "duration": 0.011584,
     "end_time": "2025-07-30T12:57:08.913402",
     "exception": false,
     "start_time": "2025-07-30T12:57:08.901818",
     "status": "completed"
    },
    "tags": []
   },
   "source": [
    "The following cell holds the definition of our parameters, these values can be overriden by rendering the with e.g. the following command:\n",
    "\n",
    "papermill -p alpha 0.2 -p ratio 0.3 universe_analysis.ipynb output/test_run.ipynb"
   ]
  },
  {
   "cell_type": "code",
   "execution_count": 2,
   "id": "a80968a0-40bb-4fa9-85ef-2d5eefb01975",
   "metadata": {
    "execution": {
     "iopub.execute_input": "2025-07-30T12:57:08.937445Z",
     "iopub.status.busy": "2025-07-30T12:57:08.937096Z",
     "iopub.status.idle": "2025-07-30T12:57:08.942158Z",
     "shell.execute_reply": "2025-07-30T12:57:08.941377Z"
    },
    "papermill": {
     "duration": 0.017868,
     "end_time": "2025-07-30T12:57:08.943455",
     "exception": false,
     "start_time": "2025-07-30T12:57:08.925587",
     "status": "completed"
    },
    "tags": []
   },
   "outputs": [
    {
     "name": "stdout",
     "output_type": "stream",
     "text": [
      "Current working directory: /dss/dsshome1/0C/ra93lal2/cma/CMA_Fairness_v2\n"
     ]
    }
   ],
   "source": [
    "import os\n",
    "print(\"Current working directory:\", os.getcwd())"
   ]
  },
  {
   "cell_type": "code",
   "execution_count": 3,
   "id": "2dce4c03",
   "metadata": {
    "execution": {
     "iopub.execute_input": "2025-07-30T12:57:08.966650Z",
     "iopub.status.busy": "2025-07-30T12:57:08.966306Z",
     "iopub.status.idle": "2025-07-30T12:57:08.971238Z",
     "shell.execute_reply": "2025-07-30T12:57:08.970480Z"
    },
    "papermill": {
     "duration": 0.017963,
     "end_time": "2025-07-30T12:57:08.972646",
     "exception": false,
     "start_time": "2025-07-30T12:57:08.954683",
     "status": "completed"
    },
    "tags": [
     "parameters"
    ]
   },
   "outputs": [],
   "source": [
    "run_no = 0\n",
    "universe_id = \"test\"\n",
    "universe = {\n",
    "    \"training_size\": \"25k\", # \"25k\", \"5k\", \"1k\"\n",
    "    \"training_year\": \"2014\", # \"2014\", \"2012_14\", \"2010_14\"\n",
    "    \"scale\": \"scale\", # \"scale\", \"do-not-scale\",\n",
    "    #\"stratify_split\": \"target\", # \"none\", \"target\", \"protected-attribute\", \"both\",\n",
    "    \"model\": \"elasticnet\", # \"logreg\", \"penalized_logreg\", \"rf\", \"gbm\", \"elasticnet\"\n",
    "    \"cutoff\": [\"quantile_0.15\", \"quantile_0.30\"],\n",
    "    \"exclude_features\": \"age\", # \"none\", \"nationality\", \"sex\", \"nationality-sex\", \"age\"\n",
    "    \"exclude_subgroups\": \"keep-all\", # \"keep-all\", \"drop-non-german\"\n",
    "    \"eval_fairness_grouping\": [\"majority-minority\", \"nationality-all\"]\n",
    "}\n",
    "\n",
    "output_dir=\"./output\"\n",
    "seed=0"
   ]
  },
  {
   "cell_type": "code",
   "execution_count": 4,
   "id": "49b52992",
   "metadata": {
    "execution": {
     "iopub.execute_input": "2025-07-30T12:57:08.996340Z",
     "iopub.status.busy": "2025-07-30T12:57:08.995840Z",
     "iopub.status.idle": "2025-07-30T12:57:09.000701Z",
     "shell.execute_reply": "2025-07-30T12:57:08.999936Z"
    },
    "papermill": {
     "duration": 0.01795,
     "end_time": "2025-07-30T12:57:09.002108",
     "exception": false,
     "start_time": "2025-07-30T12:57:08.984158",
     "status": "completed"
    },
    "tags": [
     "injected-parameters"
    ]
   },
   "outputs": [],
   "source": [
    "# Parameters\n",
    "universe_id = \"9df65e030cd7b86125f0f975f7807877\"\n",
    "run_no = \"12\"\n",
    "universe = \"{\\\"cutoff\\\": [\\\"quantile_0.1\\\", \\\"quantile_0.25\\\"], \\\"eval_fairness_grouping\\\": [\\\"majority-minority\\\", \\\"nationality-all\\\"], \\\"exclude_features\\\": \\\"age\\\", \\\"exclude_subgroups\\\": \\\"keep-all\\\", \\\"model\\\": \\\"gbm\\\", \\\"scale\\\": \\\"do-not-scale\\\", \\\"training_size\\\": \\\"25k\\\", \\\"training_year\\\": \\\"2014\\\"}\"\n",
    "output_dir = \"output\"\n",
    "seed = \"2023\"\n"
   ]
  },
  {
   "cell_type": "code",
   "execution_count": 5,
   "id": "1650acaf",
   "metadata": {
    "execution": {
     "iopub.execute_input": "2025-07-30T12:57:09.025441Z",
     "iopub.status.busy": "2025-07-30T12:57:09.024926Z",
     "iopub.status.idle": "2025-07-30T12:57:09.029168Z",
     "shell.execute_reply": "2025-07-30T12:57:09.028463Z"
    },
    "papermill": {
     "duration": 0.017043,
     "end_time": "2025-07-30T12:57:09.030565",
     "exception": false,
     "start_time": "2025-07-30T12:57:09.013522",
     "status": "completed"
    },
    "tags": []
   },
   "outputs": [],
   "source": [
    "import json\n",
    "# Parse universe into dict if it is passed as a string\n",
    "if isinstance(universe, str):\n",
    "    universe = json.loads(universe)"
   ]
  },
  {
   "cell_type": "code",
   "execution_count": 6,
   "id": "16620c48",
   "metadata": {
    "execution": {
     "iopub.execute_input": "2025-07-30T12:57:09.054429Z",
     "iopub.status.busy": "2025-07-30T12:57:09.053942Z",
     "iopub.status.idle": "2025-07-30T12:57:09.082616Z",
     "shell.execute_reply": "2025-07-30T12:57:09.081848Z"
    },
    "papermill": {
     "duration": 0.041947,
     "end_time": "2025-07-30T12:57:09.084125",
     "exception": false,
     "start_time": "2025-07-30T12:57:09.042178",
     "status": "completed"
    },
    "tags": []
   },
   "outputs": [],
   "source": [
    "# Auto-reload the custom package\n",
    "%load_ext autoreload\n",
    "%autoreload 1\n",
    "%aimport fairness_multiverse"
   ]
  },
  {
   "cell_type": "code",
   "execution_count": 7,
   "id": "01c5c9f3",
   "metadata": {
    "execution": {
     "iopub.execute_input": "2025-07-30T12:57:09.107416Z",
     "iopub.status.busy": "2025-07-30T12:57:09.106600Z",
     "iopub.status.idle": "2025-07-30T12:57:10.912010Z",
     "shell.execute_reply": "2025-07-30T12:57:10.910932Z"
    },
    "papermill": {
     "duration": 1.819027,
     "end_time": "2025-07-30T12:57:10.913968",
     "exception": false,
     "start_time": "2025-07-30T12:57:09.094941",
     "status": "completed"
    },
    "tags": []
   },
   "outputs": [],
   "source": [
    "from fairness_multiverse.universe import UniverseAnalysis\n",
    "\n",
    "universe_analysis = UniverseAnalysis(\n",
    "    run_no = run_no,\n",
    "    universe_id = universe_id,\n",
    "    universe = universe,\n",
    "    output_dir=output_dir,\n",
    ")"
   ]
  },
  {
   "cell_type": "code",
   "execution_count": 8,
   "id": "106241f5",
   "metadata": {
    "execution": {
     "iopub.execute_input": "2025-07-30T12:57:10.956635Z",
     "iopub.status.busy": "2025-07-30T12:57:10.956168Z",
     "iopub.status.idle": "2025-07-30T12:57:10.962936Z",
     "shell.execute_reply": "2025-07-30T12:57:10.962036Z"
    },
    "papermill": {
     "duration": 0.031079,
     "end_time": "2025-07-30T12:57:10.964676",
     "exception": false,
     "start_time": "2025-07-30T12:57:10.933597",
     "status": "completed"
    },
    "tags": []
   },
   "outputs": [
    {
     "name": "stdout",
     "output_type": "stream",
     "text": [
      "Using Seed: 2023\n"
     ]
    }
   ],
   "source": [
    "import numpy as np\n",
    "parsed_seed = int(seed)\n",
    "np.random.seed(parsed_seed)\n",
    "print(f\"Using Seed: {parsed_seed}\")"
   ]
  },
  {
   "cell_type": "markdown",
   "id": "e0ebdc57",
   "metadata": {
    "papermill": {
     "duration": 0.020445,
     "end_time": "2025-07-30T12:57:11.004861",
     "exception": false,
     "start_time": "2025-07-30T12:57:10.984416",
     "status": "completed"
    },
    "tags": []
   },
   "source": [
    "# Loading Data"
   ]
  },
  {
   "cell_type": "markdown",
   "id": "681925a3",
   "metadata": {
    "papermill": {
     "duration": 0.019133,
     "end_time": "2025-07-30T12:57:11.043350",
     "exception": false,
     "start_time": "2025-07-30T12:57:11.024217",
     "status": "completed"
    },
    "tags": []
   },
   "source": [
    "Load siab_train, siab_test, siab_calib and/or \n",
    "load siab_train_features, siab_train_labels"
   ]
  },
  {
   "cell_type": "code",
   "execution_count": 9,
   "id": "f0496b8a",
   "metadata": {
    "execution": {
     "iopub.execute_input": "2025-07-30T12:57:11.084604Z",
     "iopub.status.busy": "2025-07-30T12:57:11.083701Z",
     "iopub.status.idle": "2025-07-30T12:57:23.728945Z",
     "shell.execute_reply": "2025-07-30T12:57:23.727663Z"
    },
    "papermill": {
     "duration": 12.666012,
     "end_time": "2025-07-30T12:57:23.730270",
     "exception": false,
     "start_time": "2025-07-30T12:57:11.064258",
     "status": "completed"
    },
    "tags": []
   },
   "outputs": [
    {
     "name": "stdout",
     "output_type": "stream",
     "text": [
      "Loading SIAB data from cache: data/siab_cached.csv.gz\n"
     ]
    },
    {
     "name": "stdout",
     "output_type": "stream",
     "text": [
      "(643690, 164)\n"
     ]
    }
   ],
   "source": [
    "from pathlib import Path\n",
    "import pandas as pd\n",
    "\n",
    "# File paths\n",
    "raw_file = Path(\"data/raw/siab.csv\")\n",
    "cache_file = Path(\"data/siab_cached.csv.gz\")\n",
    "\n",
    "# Ensure cache directory exists\n",
    "cache_file.parent.mkdir(parents=True, exist_ok=True)\n",
    "\n",
    "# Load with simple caching\n",
    "if cache_file.exists():\n",
    "    print(f\"Loading SIAB data from cache: {cache_file}\")\n",
    "    siab = pd.read_csv(cache_file, compression='gzip')\n",
    "else:\n",
    "    print(f\"Cache not found. Reading raw SIAB data: {raw_file}\")\n",
    "    siab = pd.read_csv(raw_file)\n",
    "    siab.to_csv(cache_file, index=False, compression='gzip')\n",
    "    print(f\"Cached SIAB data to: {cache_file}\")\n",
    "\n",
    "# Now use `siab` DataFrame as needed\n",
    "print(siab.shape)"
   ]
  },
  {
   "cell_type": "code",
   "execution_count": 10,
   "id": "db0ca512-5f53-4dba-abdb-a2888bca41ba",
   "metadata": {
    "execution": {
     "iopub.execute_input": "2025-07-30T12:57:23.775317Z",
     "iopub.status.busy": "2025-07-30T12:57:23.774900Z",
     "iopub.status.idle": "2025-07-30T12:57:23.782288Z",
     "shell.execute_reply": "2025-07-30T12:57:23.781222Z"
    },
    "papermill": {
     "duration": 0.03168,
     "end_time": "2025-07-30T12:57:23.784062",
     "exception": false,
     "start_time": "2025-07-30T12:57:23.752382",
     "status": "completed"
    },
    "tags": []
   },
   "outputs": [],
   "source": [
    "#siab"
   ]
  },
  {
   "cell_type": "code",
   "execution_count": 11,
   "id": "a0edb063",
   "metadata": {
    "execution": {
     "iopub.execute_input": "2025-07-30T12:57:23.828378Z",
     "iopub.status.busy": "2025-07-30T12:57:23.827589Z",
     "iopub.status.idle": "2025-07-30T12:57:23.832821Z",
     "shell.execute_reply": "2025-07-30T12:57:23.831719Z"
    },
    "papermill": {
     "duration": 0.028836,
     "end_time": "2025-07-30T12:57:23.834461",
     "exception": false,
     "start_time": "2025-07-30T12:57:23.805625",
     "status": "completed"
    },
    "tags": []
   },
   "outputs": [],
   "source": [
    "#import pandas as pd\n",
    "#\n",
    "#X_train = pd.read_csv(\"./data/X_train.csv\")\n",
    "#y_train = pd.read_csv(\"./data/y_train.csv\")"
   ]
  },
  {
   "cell_type": "code",
   "execution_count": 12,
   "id": "63d08085",
   "metadata": {
    "execution": {
     "iopub.execute_input": "2025-07-30T12:57:23.880170Z",
     "iopub.status.busy": "2025-07-30T12:57:23.879498Z",
     "iopub.status.idle": "2025-07-30T12:57:23.885133Z",
     "shell.execute_reply": "2025-07-30T12:57:23.884112Z"
    },
    "papermill": {
     "duration": 0.030695,
     "end_time": "2025-07-30T12:57:23.886777",
     "exception": false,
     "start_time": "2025-07-30T12:57:23.856082",
     "status": "completed"
    },
    "tags": []
   },
   "outputs": [],
   "source": [
    "#X_test = pd.read_csv(\"./data/X_test.csv\")\n",
    "#y_true = pd.read_csv(\"./data/y_test.csv\")"
   ]
  },
  {
   "cell_type": "code",
   "execution_count": 13,
   "id": "98a8d0fa-1d3d-4ed8-bb2c-281470e24add",
   "metadata": {
    "execution": {
     "iopub.execute_input": "2025-07-30T12:57:23.932856Z",
     "iopub.status.busy": "2025-07-30T12:57:23.932197Z",
     "iopub.status.idle": "2025-07-30T12:57:23.937937Z",
     "shell.execute_reply": "2025-07-30T12:57:23.936971Z"
    },
    "papermill": {
     "duration": 0.03076,
     "end_time": "2025-07-30T12:57:23.939619",
     "exception": false,
     "start_time": "2025-07-30T12:57:23.908859",
     "status": "completed"
    },
    "tags": []
   },
   "outputs": [],
   "source": [
    "# Calibration data for conformal\n",
    "#X_calib = pd.read_csv(\"./data/X_calib.csv\")\n",
    "#y_calib = pd.read_csv(\"./data/y_calib.csv\")"
   ]
  },
  {
   "cell_type": "markdown",
   "id": "997051c5-15bd-4b69-9786-c3001a3ce484",
   "metadata": {
    "papermill": {
     "duration": 0.021288,
     "end_time": "2025-07-30T12:57:23.982834",
     "exception": false,
     "start_time": "2025-07-30T12:57:23.961546",
     "status": "completed"
    },
    "tags": []
   },
   "source": [
    "# Splitting Data and Setting Training Data Size"
   ]
  },
  {
   "cell_type": "code",
   "execution_count": 14,
   "id": "e993b61f-042d-41a6-8c81-f55681f86335",
   "metadata": {
    "execution": {
     "iopub.execute_input": "2025-07-30T12:57:24.028438Z",
     "iopub.status.busy": "2025-07-30T12:57:24.027728Z",
     "iopub.status.idle": "2025-07-30T12:57:24.043062Z",
     "shell.execute_reply": "2025-07-30T12:57:24.041938Z"
    },
    "papermill": {
     "duration": 0.040109,
     "end_time": "2025-07-30T12:57:24.044715",
     "exception": false,
     "start_time": "2025-07-30T12:57:24.004606",
     "status": "completed"
    },
    "tags": []
   },
   "outputs": [],
   "source": [
    "def sample_by_year_size(df,\n",
    "                        training_year: str,\n",
    "                        training_size: str,\n",
    "                        random_state: int = 42):\n",
    "    # --- parse training_year into a list of int years ---\n",
    "    if \"_\" in training_year:\n",
    "        start_str, end_str = training_year.split(\"_\", 1)\n",
    "        start = int(start_str)\n",
    "        end   = int(end_str) if len(end_str) == 4 else (int(end_str) + (start // 100)*100)\n",
    "        years = list(range(start, end + 1))\n",
    "    else:\n",
    "        years = [int(training_year)]\n",
    "\n",
    "    df = df[df[\"year\"].isin(years)].reset_index(drop=True)\n",
    "\n",
    "    # --- map training_size to total number of samples ---\n",
    "    total_map = {\"25k\": 25_000, \"5k\": 5_000, \"1k\": 1_000}\n",
    "    if training_size not in total_map:\n",
    "        return df  # e.g. \"all\"\n",
    "\n",
    "    total_samples = total_map[training_size]\n",
    "    n_years       = len(years)\n",
    "    base          = total_samples // n_years\n",
    "    remainder     = total_samples % n_years\n",
    "\n",
    "    # --- build a dict: year -> how many to sample ---\n",
    "    # give +1 to the first `remainder` years in ascending order\n",
    "    quotas = {\n",
    "        year: base + (1 if idx < remainder else 0)\n",
    "        for idx, year in enumerate(sorted(years))\n",
    "    }\n",
    "\n",
    "    # --- sample per‐year according to the quota dict ---\n",
    "    sampled = (\n",
    "        df\n",
    "        .groupby(\"year\", group_keys=False)\n",
    "        .apply(lambda grp: grp.sample(\n",
    "            n=min(len(grp), quotas[grp.name]),\n",
    "            random_state=random_state))\n",
    "        .reset_index(drop=True)\n",
    "    )\n",
    "\n",
    "    return sampled"
   ]
  },
  {
   "cell_type": "code",
   "execution_count": 15,
   "id": "c0ccd338-0e02-41f3-a09d-f56f9266e3fb",
   "metadata": {
    "execution": {
     "iopub.execute_input": "2025-07-30T12:57:24.089310Z",
     "iopub.status.busy": "2025-07-30T12:57:24.088559Z",
     "iopub.status.idle": "2025-07-30T12:57:24.100085Z",
     "shell.execute_reply": "2025-07-30T12:57:24.099010Z"
    },
    "papermill": {
     "duration": 0.035566,
     "end_time": "2025-07-30T12:57:24.101690",
     "exception": false,
     "start_time": "2025-07-30T12:57:24.066124",
     "status": "completed"
    },
    "tags": []
   },
   "outputs": [
    {
     "data": {
      "text/plain": [
       "'25k'"
      ]
     },
     "execution_count": 15,
     "metadata": {},
     "output_type": "execute_result"
    }
   ],
   "source": [
    "universe[\"training_size\"]"
   ]
  },
  {
   "cell_type": "code",
   "execution_count": 16,
   "id": "ca707fd7-8047-4acd-bfa5-66248fbbf8e6",
   "metadata": {
    "execution": {
     "iopub.execute_input": "2025-07-30T12:57:24.157782Z",
     "iopub.status.busy": "2025-07-30T12:57:24.157337Z",
     "iopub.status.idle": "2025-07-30T12:57:24.166369Z",
     "shell.execute_reply": "2025-07-30T12:57:24.165267Z"
    },
    "papermill": {
     "duration": 0.044373,
     "end_time": "2025-07-30T12:57:24.168243",
     "exception": false,
     "start_time": "2025-07-30T12:57:24.123870",
     "status": "completed"
    },
    "tags": []
   },
   "outputs": [
    {
     "data": {
      "text/plain": [
       "'2014'"
      ]
     },
     "execution_count": 16,
     "metadata": {},
     "output_type": "execute_result"
    }
   ],
   "source": [
    "universe[\"training_year\"]"
   ]
  },
  {
   "cell_type": "code",
   "execution_count": 17,
   "id": "aea9c6ef-6f46-42c8-85eb-5a62025c1508",
   "metadata": {
    "execution": {
     "iopub.execute_input": "2025-07-30T12:57:24.214787Z",
     "iopub.status.busy": "2025-07-30T12:57:24.214354Z",
     "iopub.status.idle": "2025-07-30T12:57:24.536287Z",
     "shell.execute_reply": "2025-07-30T12:57:24.535243Z"
    },
    "papermill": {
     "duration": 0.347432,
     "end_time": "2025-07-30T12:57:24.538461",
     "exception": false,
     "start_time": "2025-07-30T12:57:24.191029",
     "status": "completed"
    },
    "tags": []
   },
   "outputs": [],
   "source": [
    "siab_train = sample_by_year_size(siab,\n",
    "                               training_year=universe[\"training_year\"],\n",
    "                               training_size=universe[\"training_size\"])"
   ]
  },
  {
   "cell_type": "code",
   "execution_count": 18,
   "id": "8d3afb32-789d-442c-8d5d-9f5aa8dd2eed",
   "metadata": {
    "execution": {
     "iopub.execute_input": "2025-07-30T12:57:24.585120Z",
     "iopub.status.busy": "2025-07-30T12:57:24.584185Z",
     "iopub.status.idle": "2025-07-30T12:57:24.591741Z",
     "shell.execute_reply": "2025-07-30T12:57:24.590677Z"
    },
    "papermill": {
     "duration": 0.032494,
     "end_time": "2025-07-30T12:57:24.593594",
     "exception": false,
     "start_time": "2025-07-30T12:57:24.561100",
     "status": "completed"
    },
    "tags": []
   },
   "outputs": [
    {
     "data": {
      "text/plain": [
       "(25000, 164)"
      ]
     },
     "execution_count": 18,
     "metadata": {},
     "output_type": "execute_result"
    }
   ],
   "source": [
    "siab_train.shape"
   ]
  },
  {
   "cell_type": "code",
   "execution_count": 19,
   "id": "d582db68-1a4c-47fb-84fc-08518dc1975a",
   "metadata": {
    "execution": {
     "iopub.execute_input": "2025-07-30T12:57:24.637687Z",
     "iopub.status.busy": "2025-07-30T12:57:24.637087Z",
     "iopub.status.idle": "2025-07-30T12:57:24.646727Z",
     "shell.execute_reply": "2025-07-30T12:57:24.645694Z"
    },
    "papermill": {
     "duration": 0.032146,
     "end_time": "2025-07-30T12:57:24.648441",
     "exception": false,
     "start_time": "2025-07-30T12:57:24.616295",
     "status": "completed"
    },
    "tags": []
   },
   "outputs": [
    {
     "data": {
      "text/plain": [
       "year\n",
       "2014    25000\n",
       "dtype: int64"
      ]
     },
     "metadata": {},
     "output_type": "display_data"
    }
   ],
   "source": [
    "display(siab_train.groupby(\"year\").size())"
   ]
  },
  {
   "cell_type": "code",
   "execution_count": 20,
   "id": "a561edb4-d032-42cb-8256-22eac1111c64",
   "metadata": {
    "execution": {
     "iopub.execute_input": "2025-07-30T12:57:24.695125Z",
     "iopub.status.busy": "2025-07-30T12:57:24.694596Z",
     "iopub.status.idle": "2025-07-30T12:57:24.927426Z",
     "shell.execute_reply": "2025-07-30T12:57:24.926403Z"
    },
    "papermill": {
     "duration": 0.257874,
     "end_time": "2025-07-30T12:57:24.929064",
     "exception": false,
     "start_time": "2025-07-30T12:57:24.671190",
     "status": "completed"
    },
    "tags": []
   },
   "outputs": [],
   "source": [
    "#siab_train = siab_s[siab_s.year < 2015]\n",
    "siab_calib = siab[siab.year == 2015]\n",
    "siab_test = siab[siab.year == 2016]"
   ]
  },
  {
   "cell_type": "code",
   "execution_count": 21,
   "id": "472de16f-c3db-4916-846b-1f0de9cf1746",
   "metadata": {
    "execution": {
     "iopub.execute_input": "2025-07-30T12:57:24.979409Z",
     "iopub.status.busy": "2025-07-30T12:57:24.978934Z",
     "iopub.status.idle": "2025-07-30T12:57:24.996139Z",
     "shell.execute_reply": "2025-07-30T12:57:24.993647Z"
    },
    "papermill": {
     "duration": 0.048767,
     "end_time": "2025-07-30T12:57:24.997537",
     "exception": false,
     "start_time": "2025-07-30T12:57:24.948770",
     "status": "completed"
    },
    "tags": []
   },
   "outputs": [],
   "source": [
    "X_train = siab_train.iloc[:,4:164]\n",
    "y_train = siab_train.iloc[:, [3]]"
   ]
  },
  {
   "cell_type": "code",
   "execution_count": 22,
   "id": "828c96af-f43a-4ed6-ba47-8ac73a47d56c",
   "metadata": {
    "execution": {
     "iopub.execute_input": "2025-07-30T12:57:25.041892Z",
     "iopub.status.busy": "2025-07-30T12:57:25.041456Z",
     "iopub.status.idle": "2025-07-30T12:57:25.093419Z",
     "shell.execute_reply": "2025-07-30T12:57:25.092367Z"
    },
    "papermill": {
     "duration": 0.076894,
     "end_time": "2025-07-30T12:57:25.095044",
     "exception": false,
     "start_time": "2025-07-30T12:57:25.018150",
     "status": "completed"
    },
    "tags": []
   },
   "outputs": [],
   "source": [
    "X_calib = siab_calib.iloc[:,4:164]\n",
    "y_calib = siab_calib.iloc[:, [3]]"
   ]
  },
  {
   "cell_type": "code",
   "execution_count": 23,
   "id": "c34be9c3-6bd6-476e-acd3-845840e303be",
   "metadata": {
    "execution": {
     "iopub.execute_input": "2025-07-30T12:57:25.140397Z",
     "iopub.status.busy": "2025-07-30T12:57:25.139691Z",
     "iopub.status.idle": "2025-07-30T12:57:25.192433Z",
     "shell.execute_reply": "2025-07-30T12:57:25.191359Z"
    },
    "papermill": {
     "duration": 0.076184,
     "end_time": "2025-07-30T12:57:25.193963",
     "exception": false,
     "start_time": "2025-07-30T12:57:25.117779",
     "status": "completed"
    },
    "tags": []
   },
   "outputs": [],
   "source": [
    "X_test = siab_test.iloc[:,4:164]\n",
    "y_true = siab_test.iloc[:, [3]]"
   ]
  },
  {
   "cell_type": "markdown",
   "id": "9901737e-04df-44f0-9100-f5ad144ed040",
   "metadata": {
    "papermill": {
     "duration": 0.0114,
     "end_time": "2025-07-30T12:57:25.218030",
     "exception": false,
     "start_time": "2025-07-30T12:57:25.206630",
     "status": "completed"
    },
    "tags": []
   },
   "source": [
    "# Splitting Data and Setting Training Data Size OLD VERSION"
   ]
  },
  {
   "cell_type": "code",
   "execution_count": 24,
   "id": "acbc8f7d-8fc8-4e86-8c59-5dcb0f58384b",
   "metadata": {
    "execution": {
     "iopub.execute_input": "2025-07-30T12:57:25.251303Z",
     "iopub.status.busy": "2025-07-30T12:57:25.250882Z",
     "iopub.status.idle": "2025-07-30T12:57:25.256802Z",
     "shell.execute_reply": "2025-07-30T12:57:25.255691Z"
    },
    "papermill": {
     "duration": 0.033012,
     "end_time": "2025-07-30T12:57:25.262207",
     "exception": false,
     "start_time": "2025-07-30T12:57:25.229195",
     "status": "completed"
    },
    "tags": []
   },
   "outputs": [],
   "source": [
    "#def sample_by_year(df, training_size, random_state=42):\n",
    "#    if training_size == \"2014\":\n",
    "#        return df[df[\"year\"] == 2014].reset_index(drop=True)\n",
    "#    \n",
    "#    size_map = {\n",
    "#        \"25k\": 5000,\n",
    "#        \"5k\": 1000,\n",
    "#        \"1k\": 200\n",
    "#    }\n",
    "#\n",
    "#    if training_size not in size_map:\n",
    "#        return df.reset_index(drop=True)  # use all data\n",
    "#\n",
    "#    n_per_year = size_map[training_size]\n",
    "#    grouped = df.groupby(\"year\")\n",
    "#    sampled = grouped.apply(lambda x: x.sample(n=min(n_per_year, len(x)), random_state=random_state))\n",
    "#    return sampled.reset_index(drop=True)"
   ]
  },
  {
   "cell_type": "code",
   "execution_count": 25,
   "id": "6d931f52-beaf-43ff-9e78-9d44a448d54e",
   "metadata": {
    "execution": {
     "iopub.execute_input": "2025-07-30T12:57:25.306457Z",
     "iopub.status.busy": "2025-07-30T12:57:25.305451Z",
     "iopub.status.idle": "2025-07-30T12:57:25.310793Z",
     "shell.execute_reply": "2025-07-30T12:57:25.309872Z"
    },
    "papermill": {
     "duration": 0.027101,
     "end_time": "2025-07-30T12:57:25.312439",
     "exception": false,
     "start_time": "2025-07-30T12:57:25.285338",
     "status": "completed"
    },
    "tags": []
   },
   "outputs": [],
   "source": [
    "#siab_s = sample_by_year(siab, universe[\"training_size\"])"
   ]
  },
  {
   "cell_type": "code",
   "execution_count": 26,
   "id": "5db0a40e-a4e2-4920-be85-b12ae061d70d",
   "metadata": {
    "execution": {
     "iopub.execute_input": "2025-07-30T12:57:25.360731Z",
     "iopub.status.busy": "2025-07-30T12:57:25.359718Z",
     "iopub.status.idle": "2025-07-30T12:57:25.365091Z",
     "shell.execute_reply": "2025-07-30T12:57:25.364197Z"
    },
    "papermill": {
     "duration": 0.031303,
     "end_time": "2025-07-30T12:57:25.366908",
     "exception": false,
     "start_time": "2025-07-30T12:57:25.335605",
     "status": "completed"
    },
    "tags": []
   },
   "outputs": [],
   "source": [
    "#display(siab_s.groupby(\"year\").size())"
   ]
  },
  {
   "cell_type": "code",
   "execution_count": 27,
   "id": "e6c733c5",
   "metadata": {
    "execution": {
     "iopub.execute_input": "2025-07-30T12:57:25.409808Z",
     "iopub.status.busy": "2025-07-30T12:57:25.408911Z",
     "iopub.status.idle": "2025-07-30T12:57:25.512230Z",
     "shell.execute_reply": "2025-07-30T12:57:25.511210Z"
    },
    "papermill": {
     "duration": 0.12728,
     "end_time": "2025-07-30T12:57:25.517443",
     "exception": false,
     "start_time": "2025-07-30T12:57:25.390163",
     "status": "completed"
    },
    "tags": []
   },
   "outputs": [],
   "source": [
    "# Auxiliary data needed downstream in the pipeline\n",
    "\n",
    "org_train = X_train.copy()\n",
    "org_test = X_test.copy()\n",
    "org_calib = X_calib.copy()"
   ]
  },
  {
   "cell_type": "code",
   "execution_count": 28,
   "id": "1466abac-c6da-4492-a62f-4240ae3783af",
   "metadata": {
    "execution": {
     "iopub.execute_input": "2025-07-30T12:57:25.562176Z",
     "iopub.status.busy": "2025-07-30T12:57:25.561715Z",
     "iopub.status.idle": "2025-07-30T12:57:25.567431Z",
     "shell.execute_reply": "2025-07-30T12:57:25.566395Z"
    },
    "papermill": {
     "duration": 0.028081,
     "end_time": "2025-07-30T12:57:25.569060",
     "exception": false,
     "start_time": "2025-07-30T12:57:25.540979",
     "status": "completed"
    },
    "tags": []
   },
   "outputs": [],
   "source": [
    "# put in other script?\n",
    "# Group sizes\n",
    "\n",
    "#def calculate_percentages(df, df_name):\n",
    "#    total_entries = len(df)\n",
    "#\n",
    "#    female_pct = (df['frau1'] == 1).mean() * 100\n",
    "#    non_german_pct = ((df['maxdeutsch1'] == 0) & (df['maxdeutsch.Missing.'] == 0)).mean() * 100\n",
    "#    non_german_male_pct = ((df['frau1'] == 0) & (df['maxdeutsch1'] == 0) & (df['maxdeutsch.Missing.'] == 0)).mean() * 100\n",
    "#    non_german_female_pct = ((df['frau1'] == 1) & (df['maxdeutsch1'] == 0) & (df['maxdeutsch.Missing.'] == 0)).mean() * 100\n",
    "#\n",
    "#    print(f\"--- {df_name} ---\")\n",
    "#    print(f\"Female: {female_pct:.2f}%\")\n",
    "#    print(f\"Non-German: {non_german_pct:.2f}%\")\n",
    "#    print(f\"Non-German Male: {non_german_male_pct:.2f}%\")\n",
    "#    print(f\"Non-German Female: {non_german_female_pct:.2f}%\\n\")\n",
    "#\n",
    "## Calculate for each DataFrame\n",
    "#calculate_percentages(siab_calib, \"siab_calib\")\n",
    "#calculate_percentages(siab_test, \"siab_test\")\n",
    "#calculate_percentages(siab_train, \"siab_train\")"
   ]
  },
  {
   "cell_type": "markdown",
   "id": "0a4a1b33",
   "metadata": {
    "papermill": {
     "duration": 0.02213,
     "end_time": "2025-07-30T12:57:25.614644",
     "exception": false,
     "start_time": "2025-07-30T12:57:25.592514",
     "status": "completed"
    },
    "tags": []
   },
   "source": [
    "# Preprocessing Data"
   ]
  },
  {
   "cell_type": "code",
   "execution_count": 29,
   "id": "ca879031",
   "metadata": {
    "execution": {
     "iopub.execute_input": "2025-07-30T12:57:25.664864Z",
     "iopub.status.busy": "2025-07-30T12:57:25.664110Z",
     "iopub.status.idle": "2025-07-30T12:57:25.670666Z",
     "shell.execute_reply": "2025-07-30T12:57:25.669702Z"
    },
    "papermill": {
     "duration": 0.031726,
     "end_time": "2025-07-30T12:57:25.672383",
     "exception": false,
     "start_time": "2025-07-30T12:57:25.640657",
     "status": "completed"
    },
    "tags": []
   },
   "outputs": [],
   "source": [
    "# EXCLUDE PROTECTED FEATURES\n",
    "# ----------------------\n",
    "# \"exclude_features\": \"none\", # \"nationality\", \"sex\", \"nationality-sex\"\n",
    "\n",
    "excluded_features = universe[\"exclude_features\"].split(\"-\") # split, e.g.: \"nationality-sex\" -> [\"nationality\", \"sex\"]\n",
    "excluded_features_dictionary = {\n",
    "    \"nationality\": [\"maxdeutsch1\", \"maxdeutsch.Missing.\"],\n",
    "    \"sex\": [\"frau1\"],\n",
    "    \"age\": [\"age\"],\n",
    "}\n"
   ]
  },
  {
   "cell_type": "code",
   "execution_count": 30,
   "id": "b745ac60",
   "metadata": {
    "execution": {
     "iopub.execute_input": "2025-07-30T12:57:25.718749Z",
     "iopub.status.busy": "2025-07-30T12:57:25.717837Z",
     "iopub.status.idle": "2025-07-30T12:57:25.723994Z",
     "shell.execute_reply": "2025-07-30T12:57:25.722802Z"
    },
    "papermill": {
     "duration": 0.031005,
     "end_time": "2025-07-30T12:57:25.725708",
     "exception": false,
     "start_time": "2025-07-30T12:57:25.694703",
     "status": "completed"
    },
    "tags": []
   },
   "outputs": [],
   "source": [
    "# Code nice names to column names\n",
    "\n",
    "excluded_features_columns = [\n",
    "    excluded_features_dictionary[f] for f in excluded_features if len(f) > 0 and f != \"none\"\n",
    "]"
   ]
  },
  {
   "cell_type": "code",
   "execution_count": 31,
   "id": "f84f73a2",
   "metadata": {
    "execution": {
     "iopub.execute_input": "2025-07-30T12:57:25.771784Z",
     "iopub.status.busy": "2025-07-30T12:57:25.770853Z",
     "iopub.status.idle": "2025-07-30T12:57:25.777770Z",
     "shell.execute_reply": "2025-07-30T12:57:25.776871Z"
    },
    "papermill": {
     "duration": 0.031297,
     "end_time": "2025-07-30T12:57:25.779393",
     "exception": false,
     "start_time": "2025-07-30T12:57:25.748096",
     "status": "completed"
    },
    "tags": []
   },
   "outputs": [],
   "source": [
    "from utils import flatten_once\n",
    "\n",
    "excluded_features_columns = flatten_once(excluded_features_columns)"
   ]
  },
  {
   "cell_type": "code",
   "execution_count": 32,
   "id": "884dea22",
   "metadata": {
    "execution": {
     "iopub.execute_input": "2025-07-30T12:57:25.825492Z",
     "iopub.status.busy": "2025-07-30T12:57:25.824934Z",
     "iopub.status.idle": "2025-07-30T12:57:25.841003Z",
     "shell.execute_reply": "2025-07-30T12:57:25.839966Z"
    },
    "papermill": {
     "duration": 0.040879,
     "end_time": "2025-07-30T12:57:25.842694",
     "exception": false,
     "start_time": "2025-07-30T12:57:25.801815",
     "status": "completed"
    },
    "tags": []
   },
   "outputs": [
    {
     "name": "stdout",
     "output_type": "stream",
     "text": [
      "Dropping features: ['age']\n"
     ]
    }
   ],
   "source": [
    "if len(excluded_features_columns) > 0:\n",
    "    print(f\"Dropping features: {excluded_features_columns}\")\n",
    "    X_train.drop(excluded_features_columns, axis=1, inplace=True)"
   ]
  },
  {
   "cell_type": "code",
   "execution_count": 33,
   "id": "95ab8b16",
   "metadata": {
    "execution": {
     "iopub.execute_input": "2025-07-30T12:57:25.890250Z",
     "iopub.status.busy": "2025-07-30T12:57:25.889561Z",
     "iopub.status.idle": "2025-07-30T12:57:25.941691Z",
     "shell.execute_reply": "2025-07-30T12:57:25.940637Z"
    },
    "papermill": {
     "duration": 0.0784,
     "end_time": "2025-07-30T12:57:25.944345",
     "exception": false,
     "start_time": "2025-07-30T12:57:25.865945",
     "status": "completed"
    },
    "tags": []
   },
   "outputs": [
    {
     "name": "stdout",
     "output_type": "stream",
     "text": [
      "Dropping features: ['age']\n"
     ]
    }
   ],
   "source": [
    "if len(excluded_features_columns) > 0:\n",
    "    print(f\"Dropping features: {excluded_features_columns}\")\n",
    "    X_test.drop(excluded_features_columns, axis=1, inplace=True)"
   ]
  },
  {
   "cell_type": "code",
   "execution_count": 34,
   "id": "1853aaf5-fb9f-46cb-a2b5-8ea4ae2237e4",
   "metadata": {
    "execution": {
     "iopub.execute_input": "2025-07-30T12:57:25.992065Z",
     "iopub.status.busy": "2025-07-30T12:57:25.991305Z",
     "iopub.status.idle": "2025-07-30T12:57:26.045275Z",
     "shell.execute_reply": "2025-07-30T12:57:26.044285Z"
    },
    "papermill": {
     "duration": 0.079262,
     "end_time": "2025-07-30T12:57:26.047186",
     "exception": false,
     "start_time": "2025-07-30T12:57:25.967924",
     "status": "completed"
    },
    "tags": []
   },
   "outputs": [
    {
     "name": "stdout",
     "output_type": "stream",
     "text": [
      "Dropping features: ['age']\n"
     ]
    }
   ],
   "source": [
    "if len(excluded_features_columns) > 0:\n",
    "    print(f\"Dropping features: {excluded_features_columns}\")\n",
    "    X_calib.drop(excluded_features_columns, axis=1, inplace=True)"
   ]
  },
  {
   "cell_type": "code",
   "execution_count": 35,
   "id": "6727d079-03e5-481e-9d38-292a90b7a0a8",
   "metadata": {
    "execution": {
     "iopub.execute_input": "2025-07-30T12:57:26.095586Z",
     "iopub.status.busy": "2025-07-30T12:57:26.094901Z",
     "iopub.status.idle": "2025-07-30T12:57:26.100467Z",
     "shell.execute_reply": "2025-07-30T12:57:26.099457Z"
    },
    "papermill": {
     "duration": 0.031408,
     "end_time": "2025-07-30T12:57:26.102152",
     "exception": false,
     "start_time": "2025-07-30T12:57:26.070744",
     "status": "completed"
    },
    "tags": []
   },
   "outputs": [],
   "source": [
    "# SPLIT & STRATIFY DATA\n",
    "# ----------------------"
   ]
  },
  {
   "cell_type": "code",
   "execution_count": 36,
   "id": "76c4dc6d",
   "metadata": {
    "execution": {
     "iopub.execute_input": "2025-07-30T12:57:26.149599Z",
     "iopub.status.busy": "2025-07-30T12:57:26.149046Z",
     "iopub.status.idle": "2025-07-30T12:57:26.154472Z",
     "shell.execute_reply": "2025-07-30T12:57:26.153483Z"
    },
    "papermill": {
     "duration": 0.030767,
     "end_time": "2025-07-30T12:57:26.156017",
     "exception": false,
     "start_time": "2025-07-30T12:57:26.125250",
     "status": "completed"
    },
    "tags": []
   },
   "outputs": [],
   "source": [
    "# EXCLUDE CERTAIN SUBGROUPS\n",
    "# ----------------------\n",
    "\n",
    "mode = universe.get(\"exclude_subgroups\", \"keep-all\") \n",
    "# Fetches the exclude_subgroups setting from the universe dict.\n",
    "# Defaults to \"keep-all\" if the key is missing."
   ]
  },
  {
   "cell_type": "code",
   "execution_count": 37,
   "id": "21994072",
   "metadata": {
    "execution": {
     "iopub.execute_input": "2025-07-30T12:57:26.203750Z",
     "iopub.status.busy": "2025-07-30T12:57:26.203087Z",
     "iopub.status.idle": "2025-07-30T12:57:26.210272Z",
     "shell.execute_reply": "2025-07-30T12:57:26.209343Z"
    },
    "papermill": {
     "duration": 0.032617,
     "end_time": "2025-07-30T12:57:26.211928",
     "exception": false,
     "start_time": "2025-07-30T12:57:26.179311",
     "status": "completed"
    },
    "tags": []
   },
   "outputs": [],
   "source": [
    "if mode == \"keep-all\":\n",
    "    keep_mask = pd.Series(True, index=org_train.index)\n",
    "\n",
    "# org_train contains the original feature columns from features_org (in Simson)\n",
    "# features_org contains unprocessed features, for me X_train at beginning ???\n",
    "# For keep-all, creates a boolean Series (keep_mask) of all True, so no rows are removed.\n",
    "\n",
    "elif mode == \"drop-non-german\":\n",
    "    keep_mask = org_train[\"maxdeutsch1\"] == 1 # ??? what about missing values?\n",
    "\n",
    "else:\n",
    "    raise ValueError(f\"Unsupported mode for exclude_subgroups: {mode}\")\n"
   ]
  },
  {
   "cell_type": "code",
   "execution_count": 38,
   "id": "71651440",
   "metadata": {
    "execution": {
     "iopub.execute_input": "2025-07-30T12:57:26.260730Z",
     "iopub.status.busy": "2025-07-30T12:57:26.259730Z",
     "iopub.status.idle": "2025-07-30T12:57:26.266568Z",
     "shell.execute_reply": "2025-07-30T12:57:26.265657Z"
    },
    "papermill": {
     "duration": 0.032647,
     "end_time": "2025-07-30T12:57:26.268345",
     "exception": false,
     "start_time": "2025-07-30T12:57:26.235698",
     "status": "completed"
    },
    "tags": []
   },
   "outputs": [],
   "source": [
    "n_drop = (~keep_mask).sum() # Calculates how many rows are set to be dropped\n",
    "if n_drop > 0:\n",
    "    pct = n_drop / len(keep_mask) * 100\n",
    "    print(f\"Dropping {n_drop} rows ({pct:.2f}%) where mode='{mode}'\")"
   ]
  },
  {
   "cell_type": "code",
   "execution_count": 39,
   "id": "5fb8eee5",
   "metadata": {
    "execution": {
     "iopub.execute_input": "2025-07-30T12:57:26.316761Z",
     "iopub.status.busy": "2025-07-30T12:57:26.315966Z",
     "iopub.status.idle": "2025-07-30T12:57:26.331379Z",
     "shell.execute_reply": "2025-07-30T12:57:26.330354Z"
    },
    "papermill": {
     "duration": 0.041704,
     "end_time": "2025-07-30T12:57:26.333121",
     "exception": false,
     "start_time": "2025-07-30T12:57:26.291417",
     "status": "completed"
    },
    "tags": []
   },
   "outputs": [],
   "source": [
    "X_train = X_train[keep_mask]"
   ]
  },
  {
   "cell_type": "code",
   "execution_count": 40,
   "id": "b202bb3a",
   "metadata": {
    "execution": {
     "iopub.execute_input": "2025-07-30T12:57:26.382170Z",
     "iopub.status.busy": "2025-07-30T12:57:26.381476Z",
     "iopub.status.idle": "2025-07-30T12:57:26.388361Z",
     "shell.execute_reply": "2025-07-30T12:57:26.387392Z"
    },
    "papermill": {
     "duration": 0.03263,
     "end_time": "2025-07-30T12:57:26.389915",
     "exception": false,
     "start_time": "2025-07-30T12:57:26.357285",
     "status": "completed"
    },
    "tags": []
   },
   "outputs": [],
   "source": [
    "y_train = y_train[keep_mask]"
   ]
  },
  {
   "cell_type": "markdown",
   "id": "493e2ac3",
   "metadata": {
    "papermill": {
     "duration": 0.02288,
     "end_time": "2025-07-30T12:57:26.436302",
     "exception": false,
     "start_time": "2025-07-30T12:57:26.413422",
     "status": "completed"
    },
    "tags": []
   },
   "source": [
    "# Model Training"
   ]
  },
  {
   "cell_type": "code",
   "execution_count": 41,
   "id": "679e1268",
   "metadata": {
    "execution": {
     "iopub.execute_input": "2025-07-30T12:57:26.483957Z",
     "iopub.status.busy": "2025-07-30T12:57:26.483239Z",
     "iopub.status.idle": "2025-07-30T12:57:26.589961Z",
     "shell.execute_reply": "2025-07-30T12:57:26.589047Z"
    },
    "papermill": {
     "duration": 0.132902,
     "end_time": "2025-07-30T12:57:26.591845",
     "exception": false,
     "start_time": "2025-07-30T12:57:26.458943",
     "status": "completed"
    },
    "tags": []
   },
   "outputs": [],
   "source": [
    "from sklearn.linear_model import LogisticRegression\n",
    "from sklearn.ensemble import GradientBoostingClassifier, RandomForestClassifier\n",
    "\n",
    "if (universe[\"model\"] == \"logreg\"):\n",
    "    model = LogisticRegression() #penalty=\"none\") #, solver=\"newton-cg\", max_iter=1) # include random_state=19 ?\n",
    "elif (universe[\"model\"] == \"penalized_logreg\"):\n",
    "    model = LogisticRegression(penalty=\"l2\", C=1.0) #, solver=\"newton-cg\", max_iter=1)\n",
    "elif (universe[\"model\"] == \"rf\"):\n",
    "    model = RandomForestClassifier(n_estimators=100, n_jobs=-1)\n",
    "elif (universe[\"model\"] == \"gbm\"):\n",
    "    model = GradientBoostingClassifier()\n",
    "elif (universe[\"model\"] == \"elasticnet\"):\n",
    "    model = LogisticRegression(penalty = 'elasticnet', solver = 'saga', l1_ratio = 0.5, max_iter=5000) # which solver to use?\n",
    "else:\n",
    "    raise \"Unsupported universe.model\""
   ]
  },
  {
   "cell_type": "code",
   "execution_count": 42,
   "id": "0cc8f744",
   "metadata": {
    "execution": {
     "iopub.execute_input": "2025-07-30T12:57:26.642104Z",
     "iopub.status.busy": "2025-07-30T12:57:26.641219Z",
     "iopub.status.idle": "2025-07-30T12:57:26.648448Z",
     "shell.execute_reply": "2025-07-30T12:57:26.647338Z"
    },
    "papermill": {
     "duration": 0.034017,
     "end_time": "2025-07-30T12:57:26.650016",
     "exception": false,
     "start_time": "2025-07-30T12:57:26.615999",
     "status": "completed"
    },
    "tags": []
   },
   "outputs": [],
   "source": [
    "import numpy as np\n",
    "from sklearn.pipeline import Pipeline\n",
    "from sklearn.preprocessing import StandardScaler\n",
    "\n",
    "model = Pipeline([\n",
    "    #(\"continuous_processor\", continuous_processor),\n",
    "    #(\"categorical_preprocessor\", categorical_preprocessor),\n",
    "    (\"scale\", StandardScaler() if universe[\"scale\"] == \"scale\" else None), \n",
    "    (\"model\", model),\n",
    "])"
   ]
  },
  {
   "cell_type": "code",
   "execution_count": 43,
   "id": "9442c04d",
   "metadata": {
    "execution": {
     "iopub.execute_input": "2025-07-30T12:57:26.699863Z",
     "iopub.status.busy": "2025-07-30T12:57:26.699256Z",
     "iopub.status.idle": "2025-07-30T12:57:52.417504Z",
     "shell.execute_reply": "2025-07-30T12:57:52.416599Z"
    },
    "papermill": {
     "duration": 25.744604,
     "end_time": "2025-07-30T12:57:52.418918",
     "exception": false,
     "start_time": "2025-07-30T12:57:26.674314",
     "status": "completed"
    },
    "tags": []
   },
   "outputs": [
    {
     "data": {
      "text/html": [
       "<style>#sk-container-id-1 {color: black;background-color: white;}#sk-container-id-1 pre{padding: 0;}#sk-container-id-1 div.sk-toggleable {background-color: white;}#sk-container-id-1 label.sk-toggleable__label {cursor: pointer;display: block;width: 100%;margin-bottom: 0;padding: 0.3em;box-sizing: border-box;text-align: center;}#sk-container-id-1 label.sk-toggleable__label-arrow:before {content: \"▸\";float: left;margin-right: 0.25em;color: #696969;}#sk-container-id-1 label.sk-toggleable__label-arrow:hover:before {color: black;}#sk-container-id-1 div.sk-estimator:hover label.sk-toggleable__label-arrow:before {color: black;}#sk-container-id-1 div.sk-toggleable__content {max-height: 0;max-width: 0;overflow: hidden;text-align: left;background-color: #f0f8ff;}#sk-container-id-1 div.sk-toggleable__content pre {margin: 0.2em;color: black;border-radius: 0.25em;background-color: #f0f8ff;}#sk-container-id-1 input.sk-toggleable__control:checked~div.sk-toggleable__content {max-height: 200px;max-width: 100%;overflow: auto;}#sk-container-id-1 input.sk-toggleable__control:checked~label.sk-toggleable__label-arrow:before {content: \"▾\";}#sk-container-id-1 div.sk-estimator input.sk-toggleable__control:checked~label.sk-toggleable__label {background-color: #d4ebff;}#sk-container-id-1 div.sk-label input.sk-toggleable__control:checked~label.sk-toggleable__label {background-color: #d4ebff;}#sk-container-id-1 input.sk-hidden--visually {border: 0;clip: rect(1px 1px 1px 1px);clip: rect(1px, 1px, 1px, 1px);height: 1px;margin: -1px;overflow: hidden;padding: 0;position: absolute;width: 1px;}#sk-container-id-1 div.sk-estimator {font-family: monospace;background-color: #f0f8ff;border: 1px dotted black;border-radius: 0.25em;box-sizing: border-box;margin-bottom: 0.5em;}#sk-container-id-1 div.sk-estimator:hover {background-color: #d4ebff;}#sk-container-id-1 div.sk-parallel-item::after {content: \"\";width: 100%;border-bottom: 1px solid gray;flex-grow: 1;}#sk-container-id-1 div.sk-label:hover label.sk-toggleable__label {background-color: #d4ebff;}#sk-container-id-1 div.sk-serial::before {content: \"\";position: absolute;border-left: 1px solid gray;box-sizing: border-box;top: 0;bottom: 0;left: 50%;z-index: 0;}#sk-container-id-1 div.sk-serial {display: flex;flex-direction: column;align-items: center;background-color: white;padding-right: 0.2em;padding-left: 0.2em;position: relative;}#sk-container-id-1 div.sk-item {position: relative;z-index: 1;}#sk-container-id-1 div.sk-parallel {display: flex;align-items: stretch;justify-content: center;background-color: white;position: relative;}#sk-container-id-1 div.sk-item::before, #sk-container-id-1 div.sk-parallel-item::before {content: \"\";position: absolute;border-left: 1px solid gray;box-sizing: border-box;top: 0;bottom: 0;left: 50%;z-index: -1;}#sk-container-id-1 div.sk-parallel-item {display: flex;flex-direction: column;z-index: 1;position: relative;background-color: white;}#sk-container-id-1 div.sk-parallel-item:first-child::after {align-self: flex-end;width: 50%;}#sk-container-id-1 div.sk-parallel-item:last-child::after {align-self: flex-start;width: 50%;}#sk-container-id-1 div.sk-parallel-item:only-child::after {width: 0;}#sk-container-id-1 div.sk-dashed-wrapped {border: 1px dashed gray;margin: 0 0.4em 0.5em 0.4em;box-sizing: border-box;padding-bottom: 0.4em;background-color: white;}#sk-container-id-1 div.sk-label label {font-family: monospace;font-weight: bold;display: inline-block;line-height: 1.2em;}#sk-container-id-1 div.sk-label-container {text-align: center;}#sk-container-id-1 div.sk-container {/* jupyter's `normalize.less` sets `[hidden] { display: none; }` but bootstrap.min.css set `[hidden] { display: none !important; }` so we also need the `!important` here to be able to override the default hidden behavior on the sphinx rendered scikit-learn.org. See: https://github.com/scikit-learn/scikit-learn/issues/21755 */display: inline-block !important;position: relative;}#sk-container-id-1 div.sk-text-repr-fallback {display: none;}</style><div id=\"sk-container-id-1\" class=\"sk-top-container\"><div class=\"sk-text-repr-fallback\"><pre>Pipeline(steps=[(&#x27;scale&#x27;, None), (&#x27;model&#x27;, GradientBoostingClassifier())])</pre><b>In a Jupyter environment, please rerun this cell to show the HTML representation or trust the notebook. <br />On GitHub, the HTML representation is unable to render, please try loading this page with nbviewer.org.</b></div><div class=\"sk-container\" hidden><div class=\"sk-item sk-dashed-wrapped\"><div class=\"sk-label-container\"><div class=\"sk-label sk-toggleable\"><input class=\"sk-toggleable__control sk-hidden--visually\" id=\"sk-estimator-id-1\" type=\"checkbox\" ><label for=\"sk-estimator-id-1\" class=\"sk-toggleable__label sk-toggleable__label-arrow\">Pipeline</label><div class=\"sk-toggleable__content\"><pre>Pipeline(steps=[(&#x27;scale&#x27;, None), (&#x27;model&#x27;, GradientBoostingClassifier())])</pre></div></div></div><div class=\"sk-serial\"><div class=\"sk-item\"><div class=\"sk-estimator sk-toggleable\"><input class=\"sk-toggleable__control sk-hidden--visually\" id=\"sk-estimator-id-2\" type=\"checkbox\" ><label for=\"sk-estimator-id-2\" class=\"sk-toggleable__label sk-toggleable__label-arrow\">None</label><div class=\"sk-toggleable__content\"><pre>None</pre></div></div></div><div class=\"sk-item\"><div class=\"sk-estimator sk-toggleable\"><input class=\"sk-toggleable__control sk-hidden--visually\" id=\"sk-estimator-id-3\" type=\"checkbox\" ><label for=\"sk-estimator-id-3\" class=\"sk-toggleable__label sk-toggleable__label-arrow\">GradientBoostingClassifier</label><div class=\"sk-toggleable__content\"><pre>GradientBoostingClassifier()</pre></div></div></div></div></div></div></div>"
      ],
      "text/plain": [
       "Pipeline(steps=[('scale', None), ('model', GradientBoostingClassifier())])"
      ]
     },
     "execution_count": 43,
     "metadata": {},
     "output_type": "execute_result"
    }
   ],
   "source": [
    "model.fit(X_train, y_train.values.ravel())"
   ]
  },
  {
   "cell_type": "code",
   "execution_count": 44,
   "id": "af59f8c0",
   "metadata": {
    "execution": {
     "iopub.execute_input": "2025-07-30T12:57:52.447288Z",
     "iopub.status.busy": "2025-07-30T12:57:52.446897Z",
     "iopub.status.idle": "2025-07-30T12:57:52.451791Z",
     "shell.execute_reply": "2025-07-30T12:57:52.450815Z"
    },
    "papermill": {
     "duration": 0.019369,
     "end_time": "2025-07-30T12:57:52.453073",
     "exception": false,
     "start_time": "2025-07-30T12:57:52.433704",
     "status": "completed"
    },
    "tags": []
   },
   "outputs": [],
   "source": [
    "from fairness_multiverse.universe import predict_w_threshold"
   ]
  },
  {
   "cell_type": "code",
   "execution_count": 45,
   "id": "a7cf2e16",
   "metadata": {
    "execution": {
     "iopub.execute_input": "2025-07-30T12:57:52.478815Z",
     "iopub.status.busy": "2025-07-30T12:57:52.478493Z",
     "iopub.status.idle": "2025-07-30T12:57:53.038674Z",
     "shell.execute_reply": "2025-07-30T12:57:53.037492Z"
    },
    "papermill": {
     "duration": 0.574553,
     "end_time": "2025-07-30T12:57:53.040333",
     "exception": false,
     "start_time": "2025-07-30T12:57:52.465780",
     "status": "completed"
    },
    "tags": []
   },
   "outputs": [
    {
     "data": {
      "text/plain": [
       "0.8704269312228291"
      ]
     },
     "execution_count": 45,
     "metadata": {},
     "output_type": "execute_result"
    }
   ],
   "source": [
    "probs_test = model.predict_proba(X_test)\n",
    "\n",
    "'''\n",
    "Below code returns a boolean array (or binary 0/1 array depending on how it’s used) where each element \n",
    "is True if the probability of class 1 is greater than or equal to the threshold, and False otherwise.\n",
    "'''\n",
    "y_pred_default = predict_w_threshold(probs_test, 0.5)\n",
    "\n",
    "from sklearn.metrics import accuracy_score\n",
    "\n",
    "# Naive prediction\n",
    "accuracy_score(y_true = y_true, y_pred = y_pred_default)"
   ]
  },
  {
   "cell_type": "code",
   "execution_count": 46,
   "id": "081964c3",
   "metadata": {
    "execution": {
     "iopub.execute_input": "2025-07-30T12:57:53.087904Z",
     "iopub.status.busy": "2025-07-30T12:57:53.087194Z",
     "iopub.status.idle": "2025-07-30T12:57:53.679629Z",
     "shell.execute_reply": "2025-07-30T12:57:53.678607Z"
    },
    "papermill": {
     "duration": 0.617314,
     "end_time": "2025-07-30T12:57:53.681354",
     "exception": false,
     "start_time": "2025-07-30T12:57:53.064040",
     "status": "completed"
    },
    "tags": []
   },
   "outputs": [
    {
     "data": {
      "text/plain": [
       "array([0, 0, 0, ..., 0, 0, 0])"
      ]
     },
     "execution_count": 46,
     "metadata": {},
     "output_type": "execute_result"
    }
   ],
   "source": [
    "model.predict(X_test)"
   ]
  },
  {
   "cell_type": "markdown",
   "id": "56c9705b",
   "metadata": {
    "papermill": {
     "duration": 0.02372,
     "end_time": "2025-07-30T12:57:53.730190",
     "exception": false,
     "start_time": "2025-07-30T12:57:53.706470",
     "status": "completed"
    },
    "tags": []
   },
   "source": [
    "# Conformal Prediction"
   ]
  },
  {
   "cell_type": "code",
   "execution_count": 47,
   "id": "160ec6ff",
   "metadata": {
    "execution": {
     "iopub.execute_input": "2025-07-30T12:57:53.780711Z",
     "iopub.status.busy": "2025-07-30T12:57:53.780174Z",
     "iopub.status.idle": "2025-07-30T12:57:53.785622Z",
     "shell.execute_reply": "2025-07-30T12:57:53.784518Z"
    },
    "papermill": {
     "duration": 0.032995,
     "end_time": "2025-07-30T12:57:53.787457",
     "exception": false,
     "start_time": "2025-07-30T12:57:53.754462",
     "status": "completed"
    },
    "tags": []
   },
   "outputs": [],
   "source": [
    "# Miscoverage level for conformal prediction (10% allowed error rate => 90% target coverage)\n",
    "alpha = 0.1"
   ]
  },
  {
   "cell_type": "code",
   "execution_count": 48,
   "id": "eadf4555-3dd3-440e-8e35-f82a4ad9f855",
   "metadata": {
    "execution": {
     "iopub.execute_input": "2025-07-30T12:57:53.843014Z",
     "iopub.status.busy": "2025-07-30T12:57:53.842091Z",
     "iopub.status.idle": "2025-07-30T12:57:54.304564Z",
     "shell.execute_reply": "2025-07-30T12:57:54.303741Z"
    },
    "papermill": {
     "duration": 0.491303,
     "end_time": "2025-07-30T12:57:54.306015",
     "exception": false,
     "start_time": "2025-07-30T12:57:53.814712",
     "status": "completed"
    },
    "tags": []
   },
   "outputs": [],
   "source": [
    "probs_calib = model.predict_proba(X_calib)"
   ]
  },
  {
   "cell_type": "code",
   "execution_count": 49,
   "id": "2ed93547-6d5d-4983-9b36-1ecb300da49a",
   "metadata": {
    "execution": {
     "iopub.execute_input": "2025-07-30T12:57:54.335842Z",
     "iopub.status.busy": "2025-07-30T12:57:54.335444Z",
     "iopub.status.idle": "2025-07-30T12:57:54.340659Z",
     "shell.execute_reply": "2025-07-30T12:57:54.339929Z"
    },
    "papermill": {
     "duration": 0.022337,
     "end_time": "2025-07-30T12:57:54.341963",
     "exception": false,
     "start_time": "2025-07-30T12:57:54.319626",
     "status": "completed"
    },
    "tags": []
   },
   "outputs": [],
   "source": [
    "y_calib = y_calib.values.ravel().astype(int)"
   ]
  },
  {
   "cell_type": "code",
   "execution_count": 50,
   "id": "65d1320d-f588-4b38-9072-62af1ae97f7d",
   "metadata": {
    "execution": {
     "iopub.execute_input": "2025-07-30T12:57:54.371164Z",
     "iopub.status.busy": "2025-07-30T12:57:54.370740Z",
     "iopub.status.idle": "2025-07-30T12:57:54.377888Z",
     "shell.execute_reply": "2025-07-30T12:57:54.377116Z"
    },
    "papermill": {
     "duration": 0.02285,
     "end_time": "2025-07-30T12:57:54.379123",
     "exception": false,
     "start_time": "2025-07-30T12:57:54.356273",
     "status": "completed"
    },
    "tags": []
   },
   "outputs": [],
   "source": [
    "from fairness_multiverse.conformal import compute_nc_scores\n",
    "\n",
    "# Compute nonconformity scores on calibration set (1 - probability of true class)\n",
    "nc_scores = compute_nc_scores(probs_calib, y_calib)"
   ]
  },
  {
   "cell_type": "code",
   "execution_count": 51,
   "id": "df3b8ca3-53b7-43d5-9667-7c85da7aeda2",
   "metadata": {
    "execution": {
     "iopub.execute_input": "2025-07-30T12:57:54.405700Z",
     "iopub.status.busy": "2025-07-30T12:57:54.405403Z",
     "iopub.status.idle": "2025-07-30T12:57:54.410465Z",
     "shell.execute_reply": "2025-07-30T12:57:54.409680Z"
    },
    "papermill": {
     "duration": 0.019601,
     "end_time": "2025-07-30T12:57:54.411893",
     "exception": false,
     "start_time": "2025-07-30T12:57:54.392292",
     "status": "completed"
    },
    "tags": []
   },
   "outputs": [],
   "source": [
    "from fairness_multiverse.conformal import find_threshold\n",
    "\n",
    "# Find conformal threshold q_hat for the given alpha (split conformal method)\n",
    "q_hat = find_threshold(nc_scores, alpha)"
   ]
  },
  {
   "cell_type": "code",
   "execution_count": 52,
   "id": "4d29e6c1-0ef6-4aa4-b8fe-4fe79b0d033a",
   "metadata": {
    "execution": {
     "iopub.execute_input": "2025-07-30T12:57:54.450473Z",
     "iopub.status.busy": "2025-07-30T12:57:54.450057Z",
     "iopub.status.idle": "2025-07-30T12:57:54.457045Z",
     "shell.execute_reply": "2025-07-30T12:57:54.456227Z"
    },
    "papermill": {
     "duration": 0.023983,
     "end_time": "2025-07-30T12:57:54.458633",
     "exception": false,
     "start_time": "2025-07-30T12:57:54.434650",
     "status": "completed"
    },
    "tags": []
   },
   "outputs": [
    {
     "data": {
      "text/plain": [
       "0.688902768858837"
      ]
     },
     "execution_count": 52,
     "metadata": {},
     "output_type": "execute_result"
    }
   ],
   "source": [
    "q_hat"
   ]
  },
  {
   "cell_type": "code",
   "execution_count": 53,
   "id": "92460794-cdac-4be2-ba28-f28c0515a6fb",
   "metadata": {
    "execution": {
     "iopub.execute_input": "2025-07-30T12:57:54.507343Z",
     "iopub.status.busy": "2025-07-30T12:57:54.506771Z",
     "iopub.status.idle": "2025-07-30T12:57:55.835754Z",
     "shell.execute_reply": "2025-07-30T12:57:55.834824Z"
    },
    "papermill": {
     "duration": 1.353495,
     "end_time": "2025-07-30T12:57:55.837671",
     "exception": false,
     "start_time": "2025-07-30T12:57:54.484176",
     "status": "completed"
    },
    "tags": []
   },
   "outputs": [],
   "source": [
    "from fairness_multiverse.conformal import predict_conformal_sets\n",
    "\n",
    "# Generate prediction sets for each test example\n",
    "pred_sets = predict_conformal_sets(model, X_test, q_hat)"
   ]
  },
  {
   "cell_type": "code",
   "execution_count": 54,
   "id": "d90c9a65-e6db-4f5d-80cd-e68fb7e46829",
   "metadata": {
    "execution": {
     "iopub.execute_input": "2025-07-30T12:57:55.886461Z",
     "iopub.status.busy": "2025-07-30T12:57:55.885976Z",
     "iopub.status.idle": "2025-07-30T12:57:55.891325Z",
     "shell.execute_reply": "2025-07-30T12:57:55.890400Z"
    },
    "papermill": {
     "duration": 0.031413,
     "end_time": "2025-07-30T12:57:55.893001",
     "exception": false,
     "start_time": "2025-07-30T12:57:55.861588",
     "status": "completed"
    },
    "tags": []
   },
   "outputs": [],
   "source": [
    "y_true = y_true.squeeze()"
   ]
  },
  {
   "cell_type": "code",
   "execution_count": 55,
   "id": "3a58a54a-1e68-46b9-927a-df01f18aebc8",
   "metadata": {
    "execution": {
     "iopub.execute_input": "2025-07-30T12:57:55.941872Z",
     "iopub.status.busy": "2025-07-30T12:57:55.941384Z",
     "iopub.status.idle": "2025-07-30T12:57:56.847821Z",
     "shell.execute_reply": "2025-07-30T12:57:56.846920Z"
    },
    "papermill": {
     "duration": 0.932728,
     "end_time": "2025-07-30T12:57:56.849659",
     "exception": false,
     "start_time": "2025-07-30T12:57:55.916931",
     "status": "completed"
    },
    "tags": []
   },
   "outputs": [],
   "source": [
    "from fairness_multiverse.conformal import evaluate_sets\n",
    "\n",
    "# Evaluate coverage and average set size on test data\n",
    "metrics = evaluate_sets(pred_sets, y_true)"
   ]
  },
  {
   "cell_type": "markdown",
   "id": "2b569c12-9aaa-4c88-98c9-bbcd0cf3ebb8",
   "metadata": {
    "papermill": {
     "duration": 0.02241,
     "end_time": "2025-07-30T12:57:56.897503",
     "exception": false,
     "start_time": "2025-07-30T12:57:56.875093",
     "status": "completed"
    },
    "tags": []
   },
   "source": [
    "# CP Metrics"
   ]
  },
  {
   "cell_type": "code",
   "execution_count": 56,
   "id": "5ce0a5cb-201f-45a0-ade5-94c7f0bd6095",
   "metadata": {
    "execution": {
     "iopub.execute_input": "2025-07-30T12:57:56.944589Z",
     "iopub.status.busy": "2025-07-30T12:57:56.943930Z",
     "iopub.status.idle": "2025-07-30T12:57:56.950990Z",
     "shell.execute_reply": "2025-07-30T12:57:56.950008Z"
    },
    "papermill": {
     "duration": 0.032212,
     "end_time": "2025-07-30T12:57:56.952434",
     "exception": false,
     "start_time": "2025-07-30T12:57:56.920222",
     "status": "completed"
    },
    "tags": []
   },
   "outputs": [
    {
     "data": {
      "text/plain": [
       "{'coverage': 0.9098651209452681, 'avg_size': 1.114814401961877}"
      ]
     },
     "execution_count": 56,
     "metadata": {},
     "output_type": "execute_result"
    }
   ],
   "source": [
    "metrics"
   ]
  },
  {
   "cell_type": "code",
   "execution_count": 57,
   "id": "9b9a838d-31c9-430b-ae14-12baee460d17",
   "metadata": {
    "execution": {
     "iopub.execute_input": "2025-07-30T12:57:57.000459Z",
     "iopub.status.busy": "2025-07-30T12:57:56.999823Z",
     "iopub.status.idle": "2025-07-30T12:57:57.006074Z",
     "shell.execute_reply": "2025-07-30T12:57:57.005194Z"
    },
    "papermill": {
     "duration": 0.031743,
     "end_time": "2025-07-30T12:57:57.007716",
     "exception": false,
     "start_time": "2025-07-30T12:57:56.975973",
     "status": "completed"
    },
    "tags": []
   },
   "outputs": [],
   "source": [
    "example_universe = universe.copy()\n",
    "universe_training_size = example_universe.get(\"training_size\")\n",
    "universe_scale = example_universe.get(\"scale\")\n",
    "universe_model = example_universe.get(\"model\")\n",
    "universe_exclude_features = example_universe.get(\"exclude_features\")\n",
    "universe_exclude_subgroups = example_universe.get(\"exclude_subgroups\")"
   ]
  },
  {
   "cell_type": "code",
   "execution_count": 58,
   "id": "f4b6a8ac-9dc0-4245-8a91-5b3b5999c4f9",
   "metadata": {
    "execution": {
     "iopub.execute_input": "2025-07-30T12:57:57.057375Z",
     "iopub.status.busy": "2025-07-30T12:57:57.056818Z",
     "iopub.status.idle": "2025-07-30T12:57:57.063393Z",
     "shell.execute_reply": "2025-07-30T12:57:57.062246Z"
    },
    "papermill": {
     "duration": 0.033782,
     "end_time": "2025-07-30T12:57:57.065117",
     "exception": false,
     "start_time": "2025-07-30T12:57:57.031335",
     "status": "completed"
    },
    "tags": []
   },
   "outputs": [],
   "source": [
    "cp_metrics_dict = {\n",
    "    \"universe_id\": [universe_id],\n",
    "    \"universe_training_size\": [universe_training_size],\n",
    "    \"universe_scale\": [universe_scale],\n",
    "    \"universe_model\": [universe_model],\n",
    "    \"universe_exclude_features\": [universe_exclude_features],\n",
    "    \"universe_exclude_subgroups\": [universe_exclude_subgroups],\n",
    "    \"q_hat\": [q_hat],\n",
    "    \"coverage\": [metrics[\"coverage\"]],\n",
    "    \"avg_size\": [metrics[\"avg_size\"]],\n",
    "}"
   ]
  },
  {
   "cell_type": "code",
   "execution_count": 59,
   "id": "908acbb1-0371-4915-85ca-3fa520d2efe2",
   "metadata": {
    "execution": {
     "iopub.execute_input": "2025-07-30T12:57:57.114160Z",
     "iopub.status.busy": "2025-07-30T12:57:57.113095Z",
     "iopub.status.idle": "2025-07-30T12:57:57.121967Z",
     "shell.execute_reply": "2025-07-30T12:57:57.121101Z"
    },
    "papermill": {
     "duration": 0.034605,
     "end_time": "2025-07-30T12:57:57.123646",
     "exception": false,
     "start_time": "2025-07-30T12:57:57.089041",
     "status": "completed"
    },
    "tags": []
   },
   "outputs": [
    {
     "data": {
      "text/plain": [
       "{'universe_id': ['9df65e030cd7b86125f0f975f7807877'],\n",
       " 'universe_training_size': ['25k'],\n",
       " 'universe_scale': ['do-not-scale'],\n",
       " 'universe_model': ['gbm'],\n",
       " 'universe_exclude_features': ['age'],\n",
       " 'universe_exclude_subgroups': ['keep-all'],\n",
       " 'q_hat': [0.688902768858837],\n",
       " 'coverage': [0.9098651209452681],\n",
       " 'avg_size': [1.114814401961877]}"
      ]
     },
     "execution_count": 59,
     "metadata": {},
     "output_type": "execute_result"
    }
   ],
   "source": [
    "cp_metrics_dict"
   ]
  },
  {
   "cell_type": "code",
   "execution_count": 60,
   "id": "33007efc-14e9-4ec6-97ac-56a455c82265",
   "metadata": {
    "execution": {
     "iopub.execute_input": "2025-07-30T12:57:57.173349Z",
     "iopub.status.busy": "2025-07-30T12:57:57.172831Z",
     "iopub.status.idle": "2025-07-30T12:57:57.179622Z",
     "shell.execute_reply": "2025-07-30T12:57:57.178758Z"
    },
    "papermill": {
     "duration": 0.033605,
     "end_time": "2025-07-30T12:57:57.181329",
     "exception": false,
     "start_time": "2025-07-30T12:57:57.147724",
     "status": "completed"
    },
    "tags": []
   },
   "outputs": [],
   "source": [
    "cp_metrics_df = pd.DataFrame(cp_metrics_dict)"
   ]
  },
  {
   "cell_type": "code",
   "execution_count": 61,
   "id": "db12611b-57b2-4910-b9d0-355adfd6e7bf",
   "metadata": {
    "execution": {
     "iopub.execute_input": "2025-07-30T12:57:57.231007Z",
     "iopub.status.busy": "2025-07-30T12:57:57.230377Z",
     "iopub.status.idle": "2025-07-30T12:57:57.248011Z",
     "shell.execute_reply": "2025-07-30T12:57:57.247111Z"
    },
    "papermill": {
     "duration": 0.044723,
     "end_time": "2025-07-30T12:57:57.249755",
     "exception": false,
     "start_time": "2025-07-30T12:57:57.205032",
     "status": "completed"
    },
    "tags": []
   },
   "outputs": [
    {
     "data": {
      "text/html": [
       "<div>\n",
       "<style scoped>\n",
       "    .dataframe tbody tr th:only-of-type {\n",
       "        vertical-align: middle;\n",
       "    }\n",
       "\n",
       "    .dataframe tbody tr th {\n",
       "        vertical-align: top;\n",
       "    }\n",
       "\n",
       "    .dataframe thead th {\n",
       "        text-align: right;\n",
       "    }\n",
       "</style>\n",
       "<table border=\"1\" class=\"dataframe\">\n",
       "  <thead>\n",
       "    <tr style=\"text-align: right;\">\n",
       "      <th></th>\n",
       "      <th>universe_id</th>\n",
       "      <th>universe_training_size</th>\n",
       "      <th>universe_scale</th>\n",
       "      <th>universe_model</th>\n",
       "      <th>universe_exclude_features</th>\n",
       "      <th>universe_exclude_subgroups</th>\n",
       "      <th>q_hat</th>\n",
       "      <th>coverage</th>\n",
       "      <th>avg_size</th>\n",
       "    </tr>\n",
       "  </thead>\n",
       "  <tbody>\n",
       "    <tr>\n",
       "      <th>0</th>\n",
       "      <td>9df65e030cd7b86125f0f975f7807877</td>\n",
       "      <td>25k</td>\n",
       "      <td>do-not-scale</td>\n",
       "      <td>gbm</td>\n",
       "      <td>age</td>\n",
       "      <td>keep-all</td>\n",
       "      <td>0.688903</td>\n",
       "      <td>0.909865</td>\n",
       "      <td>1.114814</td>\n",
       "    </tr>\n",
       "  </tbody>\n",
       "</table>\n",
       "</div>"
      ],
      "text/plain": [
       "                        universe_id universe_training_size universe_scale  \\\n",
       "0  9df65e030cd7b86125f0f975f7807877                    25k   do-not-scale   \n",
       "\n",
       "  universe_model universe_exclude_features universe_exclude_subgroups  \\\n",
       "0            gbm                       age                   keep-all   \n",
       "\n",
       "      q_hat  coverage  avg_size  \n",
       "0  0.688903  0.909865  1.114814  "
      ]
     },
     "execution_count": 61,
     "metadata": {},
     "output_type": "execute_result"
    }
   ],
   "source": [
    "cp_metrics_df"
   ]
  },
  {
   "cell_type": "code",
   "execution_count": 62,
   "id": "b7fbde55-a0a1-47e4-9af6-fe4a17fa8c61",
   "metadata": {
    "execution": {
     "iopub.execute_input": "2025-07-30T12:57:57.303653Z",
     "iopub.status.busy": "2025-07-30T12:57:57.303196Z",
     "iopub.status.idle": "2025-07-30T12:57:57.308447Z",
     "shell.execute_reply": "2025-07-30T12:57:57.307302Z"
    },
    "papermill": {
     "duration": 0.034899,
     "end_time": "2025-07-30T12:57:57.310223",
     "exception": false,
     "start_time": "2025-07-30T12:57:57.275324",
     "status": "completed"
    },
    "tags": []
   },
   "outputs": [],
   "source": [
    "# Conditional Coverage & looking at subgroups"
   ]
  },
  {
   "cell_type": "code",
   "execution_count": 63,
   "id": "027ae886-68dd-4141-96c7-805a5450e1ef",
   "metadata": {
    "execution": {
     "iopub.execute_input": "2025-07-30T12:57:57.367908Z",
     "iopub.status.busy": "2025-07-30T12:57:57.367241Z",
     "iopub.status.idle": "2025-07-30T12:57:57.651615Z",
     "shell.execute_reply": "2025-07-30T12:57:57.650711Z"
    },
    "papermill": {
     "duration": 0.315027,
     "end_time": "2025-07-30T12:57:57.653530",
     "exception": false,
     "start_time": "2025-07-30T12:57:57.338503",
     "status": "completed"
    },
    "tags": []
   },
   "outputs": [],
   "source": [
    "from fairness_multiverse.conformal import build_cp_groups\n",
    "\n",
    "cp_groups_df = build_cp_groups(pred_sets, y_true, X_test.index, org_test)\n",
    "#needs universe_id and setting"
   ]
  },
  {
   "cell_type": "code",
   "execution_count": 64,
   "id": "01d5802c-663a-4d1f-9d69-e036faaffbf7",
   "metadata": {
    "execution": {
     "iopub.execute_input": "2025-07-30T12:57:57.704481Z",
     "iopub.status.busy": "2025-07-30T12:57:57.703628Z",
     "iopub.status.idle": "2025-07-30T12:57:57.708625Z",
     "shell.execute_reply": "2025-07-30T12:57:57.707679Z"
    },
    "papermill": {
     "duration": 0.031747,
     "end_time": "2025-07-30T12:57:57.710246",
     "exception": false,
     "start_time": "2025-07-30T12:57:57.678499",
     "status": "completed"
    },
    "tags": []
   },
   "outputs": [],
   "source": [
    "#delete\n",
    "#cp_groups_df"
   ]
  },
  {
   "cell_type": "code",
   "execution_count": 65,
   "id": "fa424af1-d1eb-443d-b717-2d279ada8408",
   "metadata": {
    "execution": {
     "iopub.execute_input": "2025-07-30T12:57:57.762669Z",
     "iopub.status.busy": "2025-07-30T12:57:57.761843Z",
     "iopub.status.idle": "2025-07-30T12:57:57.767304Z",
     "shell.execute_reply": "2025-07-30T12:57:57.766302Z"
    },
    "papermill": {
     "duration": 0.033418,
     "end_time": "2025-07-30T12:57:57.768900",
     "exception": false,
     "start_time": "2025-07-30T12:57:57.735482",
     "status": "completed"
    },
    "tags": []
   },
   "outputs": [],
   "source": [
    "#delete\n",
    "#percentage = (cp_groups_df['nongerman_female'] == 1).mean() * 100\n",
    "#print(percentage)\n"
   ]
  },
  {
   "cell_type": "code",
   "execution_count": 66,
   "id": "6cbdab96-b2b2-45af-ad54-d0516db2e28d",
   "metadata": {
    "execution": {
     "iopub.execute_input": "2025-07-30T12:57:57.819709Z",
     "iopub.status.busy": "2025-07-30T12:57:57.818960Z",
     "iopub.status.idle": "2025-07-30T12:57:59.697658Z",
     "shell.execute_reply": "2025-07-30T12:57:59.696917Z"
    },
    "papermill": {
     "duration": 1.905306,
     "end_time": "2025-07-30T12:57:59.699090",
     "exception": false,
     "start_time": "2025-07-30T12:57:57.793784",
     "status": "completed"
    },
    "tags": []
   },
   "outputs": [],
   "source": [
    "# Define covered = 1 if true_label is in the predicted set\n",
    "cp_groups_df['covered'] = cp_groups_df.apply(\n",
    "    lambda r: int(r['true_label'] in r['pred_set']),\n",
    "    axis=1\n",
    ")"
   ]
  },
  {
   "cell_type": "code",
   "execution_count": 67,
   "id": "338ff529-1a6b-4b87-a931-8e4788d52aad",
   "metadata": {
    "execution": {
     "iopub.execute_input": "2025-07-30T12:57:59.728204Z",
     "iopub.status.busy": "2025-07-30T12:57:59.727431Z",
     "iopub.status.idle": "2025-07-30T12:57:59.732075Z",
     "shell.execute_reply": "2025-07-30T12:57:59.731287Z"
    },
    "papermill": {
     "duration": 0.020049,
     "end_time": "2025-07-30T12:57:59.733369",
     "exception": false,
     "start_time": "2025-07-30T12:57:59.713320",
     "status": "completed"
    },
    "tags": []
   },
   "outputs": [],
   "source": [
    "#cp_groups_df"
   ]
  },
  {
   "cell_type": "code",
   "execution_count": 68,
   "id": "90032e27-66df-4540-9169-4e89cfbaa758",
   "metadata": {
    "execution": {
     "iopub.execute_input": "2025-07-30T12:57:59.781584Z",
     "iopub.status.busy": "2025-07-30T12:57:59.780681Z",
     "iopub.status.idle": "2025-07-30T12:57:59.792305Z",
     "shell.execute_reply": "2025-07-30T12:57:59.791372Z"
    },
    "papermill": {
     "duration": 0.041397,
     "end_time": "2025-07-30T12:57:59.794008",
     "exception": false,
     "start_time": "2025-07-30T12:57:59.752611",
     "status": "completed"
    },
    "tags": []
   },
   "outputs": [],
   "source": [
    "subgroups = ['frau1','nongerman','nongerman_male','nongerman_female']\n",
    "\n",
    "# Conditional coverage for subgroup==1\n",
    "cond_coverage = {\n",
    "    g: cp_groups_df.loc[cp_groups_df[g]==1, 'covered'].mean()\n",
    "    for g in subgroups\n",
    "}"
   ]
  },
  {
   "cell_type": "code",
   "execution_count": 69,
   "id": "1e348fb1-b9c3-45bc-ba23-f016827a7e0d",
   "metadata": {
    "execution": {
     "iopub.execute_input": "2025-07-30T12:57:59.847313Z",
     "iopub.status.busy": "2025-07-30T12:57:59.846294Z",
     "iopub.status.idle": "2025-07-30T12:57:59.853727Z",
     "shell.execute_reply": "2025-07-30T12:57:59.852666Z"
    },
    "papermill": {
     "duration": 0.037078,
     "end_time": "2025-07-30T12:57:59.855260",
     "exception": false,
     "start_time": "2025-07-30T12:57:59.818182",
     "status": "completed"
    },
    "tags": []
   },
   "outputs": [
    {
     "data": {
      "text/plain": [
       "{'frau1': 0.9103113627173474,\n",
       " 'nongerman': 0.9087744905406164,\n",
       " 'nongerman_male': 0.9241646401873368,\n",
       " 'nongerman_female': 0.8833084947839046}"
      ]
     },
     "execution_count": 69,
     "metadata": {},
     "output_type": "execute_result"
    }
   ],
   "source": [
    "cond_coverage"
   ]
  },
  {
   "cell_type": "code",
   "execution_count": 70,
   "id": "f5093324-c3dd-4d63-bc4c-8d945e5c8bbb",
   "metadata": {
    "execution": {
     "iopub.execute_input": "2025-07-30T12:57:59.907214Z",
     "iopub.status.busy": "2025-07-30T12:57:59.906380Z",
     "iopub.status.idle": "2025-07-30T12:57:59.915095Z",
     "shell.execute_reply": "2025-07-30T12:57:59.914174Z"
    },
    "papermill": {
     "duration": 0.038181,
     "end_time": "2025-07-30T12:57:59.916752",
     "exception": false,
     "start_time": "2025-07-30T12:57:59.878571",
     "status": "completed"
    },
    "tags": []
   },
   "outputs": [],
   "source": [
    "for subgroup, cov in cond_coverage.items():\n",
    "    cp_metrics_df[f\"cov_{subgroup}\"] = cov"
   ]
  },
  {
   "cell_type": "code",
   "execution_count": 71,
   "id": "6e872e10-dbe5-49e8-b554-5030c98ff75d",
   "metadata": {
    "execution": {
     "iopub.execute_input": "2025-07-30T12:57:59.957071Z",
     "iopub.status.busy": "2025-07-30T12:57:59.956643Z",
     "iopub.status.idle": "2025-07-30T12:57:59.971238Z",
     "shell.execute_reply": "2025-07-30T12:57:59.970518Z"
    },
    "papermill": {
     "duration": 0.032092,
     "end_time": "2025-07-30T12:57:59.972531",
     "exception": false,
     "start_time": "2025-07-30T12:57:59.940439",
     "status": "completed"
    },
    "tags": []
   },
   "outputs": [
    {
     "data": {
      "text/html": [
       "<div>\n",
       "<style scoped>\n",
       "    .dataframe tbody tr th:only-of-type {\n",
       "        vertical-align: middle;\n",
       "    }\n",
       "\n",
       "    .dataframe tbody tr th {\n",
       "        vertical-align: top;\n",
       "    }\n",
       "\n",
       "    .dataframe thead th {\n",
       "        text-align: right;\n",
       "    }\n",
       "</style>\n",
       "<table border=\"1\" class=\"dataframe\">\n",
       "  <thead>\n",
       "    <tr style=\"text-align: right;\">\n",
       "      <th></th>\n",
       "      <th>universe_id</th>\n",
       "      <th>universe_training_size</th>\n",
       "      <th>universe_scale</th>\n",
       "      <th>universe_model</th>\n",
       "      <th>universe_exclude_features</th>\n",
       "      <th>universe_exclude_subgroups</th>\n",
       "      <th>q_hat</th>\n",
       "      <th>coverage</th>\n",
       "      <th>avg_size</th>\n",
       "      <th>cov_frau1</th>\n",
       "      <th>cov_nongerman</th>\n",
       "      <th>cov_nongerman_male</th>\n",
       "      <th>cov_nongerman_female</th>\n",
       "    </tr>\n",
       "  </thead>\n",
       "  <tbody>\n",
       "    <tr>\n",
       "      <th>0</th>\n",
       "      <td>9df65e030cd7b86125f0f975f7807877</td>\n",
       "      <td>25k</td>\n",
       "      <td>do-not-scale</td>\n",
       "      <td>gbm</td>\n",
       "      <td>age</td>\n",
       "      <td>keep-all</td>\n",
       "      <td>0.688903</td>\n",
       "      <td>0.909865</td>\n",
       "      <td>1.114814</td>\n",
       "      <td>0.910311</td>\n",
       "      <td>0.908774</td>\n",
       "      <td>0.924165</td>\n",
       "      <td>0.883308</td>\n",
       "    </tr>\n",
       "  </tbody>\n",
       "</table>\n",
       "</div>"
      ],
      "text/plain": [
       "                        universe_id universe_training_size universe_scale  \\\n",
       "0  9df65e030cd7b86125f0f975f7807877                    25k   do-not-scale   \n",
       "\n",
       "  universe_model universe_exclude_features universe_exclude_subgroups  \\\n",
       "0            gbm                       age                   keep-all   \n",
       "\n",
       "      q_hat  coverage  avg_size  cov_frau1  cov_nongerman  cov_nongerman_male  \\\n",
       "0  0.688903  0.909865  1.114814   0.910311       0.908774            0.924165   \n",
       "\n",
       "   cov_nongerman_female  \n",
       "0              0.883308  "
      ]
     },
     "execution_count": 71,
     "metadata": {},
     "output_type": "execute_result"
    }
   ],
   "source": [
    "cp_metrics_df"
   ]
  },
  {
   "cell_type": "markdown",
   "id": "33774451",
   "metadata": {
    "papermill": {
     "duration": 0.014085,
     "end_time": "2025-07-30T12:58:00.001613",
     "exception": false,
     "start_time": "2025-07-30T12:57:59.987528",
     "status": "completed"
    },
    "tags": []
   },
   "source": [
    "# (Fairness) Metrics"
   ]
  },
  {
   "cell_type": "code",
   "execution_count": 72,
   "id": "debc5d62",
   "metadata": {
    "execution": {
     "iopub.execute_input": "2025-07-30T12:58:00.031312Z",
     "iopub.status.busy": "2025-07-30T12:58:00.030817Z",
     "iopub.status.idle": "2025-07-30T12:58:00.044867Z",
     "shell.execute_reply": "2025-07-30T12:58:00.044074Z"
    },
    "papermill": {
     "duration": 0.029926,
     "end_time": "2025-07-30T12:58:00.046170",
     "exception": false,
     "start_time": "2025-07-30T12:58:00.016244",
     "status": "completed"
    },
    "tags": []
   },
   "outputs": [],
   "source": [
    "# do I need to include maxdeutsch1.missing?\n",
    "\n",
    "import numpy as np\n",
    "\n",
    "colname_to_bin = \"maxdeutsch1\"\n",
    "majority_value = org_train[colname_to_bin].mode()[0]\n",
    "\n",
    "org_test[\"majmin\"] = np.where(org_test[colname_to_bin] == majority_value, \"majority\", \"minority\")"
   ]
  },
  {
   "cell_type": "code",
   "execution_count": 73,
   "id": "06a50de5",
   "metadata": {
    "execution": {
     "iopub.execute_input": "2025-07-30T12:58:00.075341Z",
     "iopub.status.busy": "2025-07-30T12:58:00.075005Z",
     "iopub.status.idle": "2025-07-30T12:58:01.682856Z",
     "shell.execute_reply": "2025-07-30T12:58:01.682098Z"
    },
    "papermill": {
     "duration": 1.623856,
     "end_time": "2025-07-30T12:58:01.684324",
     "exception": false,
     "start_time": "2025-07-30T12:58:00.060468",
     "status": "completed"
    },
    "tags": []
   },
   "outputs": [],
   "source": [
    "example_universe = universe.copy()\n",
    "example_universe[\"cutoff\"] = example_universe[\"cutoff\"][0]\n",
    "example_universe[\"eval_fairness_grouping\"] = example_universe[\"eval_fairness_grouping\"][0]\n",
    "fairness_dict, metric_frame = universe_analysis.compute_metrics(\n",
    "    example_universe,\n",
    "    y_pred_prob=probs_test,\n",
    "    y_test=y_true,\n",
    "    org_test=org_test,\n",
    ")"
   ]
  },
  {
   "cell_type": "markdown",
   "id": "f95d4e02",
   "metadata": {
    "papermill": {
     "duration": 0.013486,
     "end_time": "2025-07-30T12:58:01.712535",
     "exception": false,
     "start_time": "2025-07-30T12:58:01.699049",
     "status": "completed"
    },
    "tags": []
   },
   "source": [
    "# Overall"
   ]
  },
  {
   "cell_type": "markdown",
   "id": "bdee4871",
   "metadata": {
    "papermill": {
     "duration": 0.013509,
     "end_time": "2025-07-30T12:58:01.739343",
     "exception": false,
     "start_time": "2025-07-30T12:58:01.725834",
     "status": "completed"
    },
    "tags": []
   },
   "source": [
    "Fairness\n",
    "Main fairness target: Equalized Odds. Seems to be a better fit than equal opportunity, since we're not only interested in Y = 1. Seems to be a better fit than demographic parity, since we also care about accuracy, not just equal distribution of preds.\n",
    "\n",
    "Pick column for computation of fairness metrics\n",
    "\n",
    "Performance\n",
    "Overall performance measures, most interesting in relation to the measures split by group below"
   ]
  },
  {
   "cell_type": "code",
   "execution_count": 74,
   "id": "c4e067c6",
   "metadata": {
    "execution": {
     "iopub.execute_input": "2025-07-30T12:58:01.768021Z",
     "iopub.status.busy": "2025-07-30T12:58:01.767527Z",
     "iopub.status.idle": "2025-07-30T12:58:01.774493Z",
     "shell.execute_reply": "2025-07-30T12:58:01.773660Z"
    },
    "papermill": {
     "duration": 0.022626,
     "end_time": "2025-07-30T12:58:01.775793",
     "exception": false,
     "start_time": "2025-07-30T12:58:01.753167",
     "status": "completed"
    },
    "tags": []
   },
   "outputs": [
    {
     "data": {
      "text/plain": [
       "accuracy                   0.225415\n",
       "balanced accuracy          0.550972\n",
       "f1                         0.246726\n",
       "precision                  0.140946\n",
       "false positive rate        0.886934\n",
       "false negative rate        0.011123\n",
       "selection rate             0.900011\n",
       "count                  89710.000000\n",
       "dtype: float64"
      ]
     },
     "execution_count": 74,
     "metadata": {},
     "output_type": "execute_result"
    }
   ],
   "source": [
    "metric_frame.overall"
   ]
  },
  {
   "cell_type": "markdown",
   "id": "e968fe9d",
   "metadata": {
    "papermill": {
     "duration": 0.013664,
     "end_time": "2025-07-30T12:58:01.804241",
     "exception": false,
     "start_time": "2025-07-30T12:58:01.790577",
     "status": "completed"
    },
    "tags": []
   },
   "source": [
    "By Group"
   ]
  },
  {
   "cell_type": "code",
   "execution_count": 75,
   "id": "ec325bce",
   "metadata": {
    "execution": {
     "iopub.execute_input": "2025-07-30T12:58:01.832557Z",
     "iopub.status.busy": "2025-07-30T12:58:01.832157Z",
     "iopub.status.idle": "2025-07-30T12:58:01.844792Z",
     "shell.execute_reply": "2025-07-30T12:58:01.844099Z"
    },
    "papermill": {
     "duration": 0.028364,
     "end_time": "2025-07-30T12:58:01.846131",
     "exception": false,
     "start_time": "2025-07-30T12:58:01.817767",
     "status": "completed"
    },
    "tags": []
   },
   "outputs": [
    {
     "data": {
      "text/html": [
       "<div>\n",
       "<style scoped>\n",
       "    .dataframe tbody tr th:only-of-type {\n",
       "        vertical-align: middle;\n",
       "    }\n",
       "\n",
       "    .dataframe tbody tr th {\n",
       "        vertical-align: top;\n",
       "    }\n",
       "\n",
       "    .dataframe thead th {\n",
       "        text-align: right;\n",
       "    }\n",
       "</style>\n",
       "<table border=\"1\" class=\"dataframe\">\n",
       "  <thead>\n",
       "    <tr style=\"text-align: right;\">\n",
       "      <th></th>\n",
       "      <th>accuracy</th>\n",
       "      <th>balanced accuracy</th>\n",
       "      <th>f1</th>\n",
       "      <th>precision</th>\n",
       "      <th>false positive rate</th>\n",
       "      <th>false negative rate</th>\n",
       "      <th>selection rate</th>\n",
       "      <th>count</th>\n",
       "    </tr>\n",
       "    <tr>\n",
       "      <th>majmin</th>\n",
       "      <th></th>\n",
       "      <th></th>\n",
       "      <th></th>\n",
       "      <th></th>\n",
       "      <th></th>\n",
       "      <th></th>\n",
       "      <th></th>\n",
       "      <th></th>\n",
       "    </tr>\n",
       "  </thead>\n",
       "  <tbody>\n",
       "    <tr>\n",
       "      <th>majority</th>\n",
       "      <td>0.241550</td>\n",
       "      <td>0.557934</td>\n",
       "      <td>0.256090</td>\n",
       "      <td>0.147112</td>\n",
       "      <td>0.872097</td>\n",
       "      <td>0.012035</td>\n",
       "      <td>0.887408</td>\n",
       "      <td>69170.0</td>\n",
       "    </tr>\n",
       "    <tr>\n",
       "      <th>minority</th>\n",
       "      <td>0.171081</td>\n",
       "      <td>0.528227</td>\n",
       "      <td>0.216331</td>\n",
       "      <td>0.121397</td>\n",
       "      <td>0.935945</td>\n",
       "      <td>0.007601</td>\n",
       "      <td>0.942454</td>\n",
       "      <td>20540.0</td>\n",
       "    </tr>\n",
       "  </tbody>\n",
       "</table>\n",
       "</div>"
      ],
      "text/plain": [
       "          accuracy  balanced accuracy        f1  precision  \\\n",
       "majmin                                                       \n",
       "majority  0.241550           0.557934  0.256090   0.147112   \n",
       "minority  0.171081           0.528227  0.216331   0.121397   \n",
       "\n",
       "          false positive rate  false negative rate  selection rate    count  \n",
       "majmin                                                                       \n",
       "majority             0.872097             0.012035        0.887408  69170.0  \n",
       "minority             0.935945             0.007601        0.942454  20540.0  "
      ]
     },
     "execution_count": 75,
     "metadata": {},
     "output_type": "execute_result"
    }
   ],
   "source": [
    "metric_frame.by_group"
   ]
  },
  {
   "cell_type": "code",
   "execution_count": 76,
   "id": "a9ddbe63",
   "metadata": {
    "execution": {
     "iopub.execute_input": "2025-07-30T12:58:01.877369Z",
     "iopub.status.busy": "2025-07-30T12:58:01.876652Z",
     "iopub.status.idle": "2025-07-30T12:58:03.561500Z",
     "shell.execute_reply": "2025-07-30T12:58:03.560600Z"
    },
    "papermill": {
     "duration": 1.702176,
     "end_time": "2025-07-30T12:58:03.562883",
     "exception": false,
     "start_time": "2025-07-30T12:58:01.860707",
     "status": "completed"
    },
    "tags": []
   },
   "outputs": [
    {
     "data": {
      "text/plain": [
       "array([[<Axes: title={'center': 'accuracy'}, xlabel='majmin'>,\n",
       "        <Axes: title={'center': 'balanced accuracy'}, xlabel='majmin'>,\n",
       "        <Axes: title={'center': 'f1'}, xlabel='majmin'>],\n",
       "       [<Axes: title={'center': 'precision'}, xlabel='majmin'>,\n",
       "        <Axes: title={'center': 'false positive rate'}, xlabel='majmin'>,\n",
       "        <Axes: title={'center': 'false negative rate'}, xlabel='majmin'>],\n",
       "       [<Axes: title={'center': 'selection rate'}, xlabel='majmin'>,\n",
       "        <Axes: title={'center': 'count'}, xlabel='majmin'>,\n",
       "        <Axes: xlabel='majmin'>]], dtype=object)"
      ]
     },
     "execution_count": 76,
     "metadata": {},
     "output_type": "execute_result"
    },
    {
     "data": {
      "image/png": "[encoded data removed]",
      "text/plain": [
       "<Figure size 1200x800 with 9 Axes>"
      ]
     },
     "metadata": {},
     "output_type": "display_data"
    }
   ],
   "source": [
    "# In a graphic\n",
    "metric_frame.by_group.plot.bar(\n",
    "    subplots=True,\n",
    "    layout=[3, 3],\n",
    "    legend=False,\n",
    "    figsize=[12, 8],\n",
    "    title=\"Show all metrics\",\n",
    ")"
   ]
  },
  {
   "cell_type": "markdown",
   "id": "f57a0bac",
   "metadata": {
    "papermill": {
     "duration": 0.014627,
     "end_time": "2025-07-30T12:58:03.593317",
     "exception": false,
     "start_time": "2025-07-30T12:58:03.578690",
     "status": "completed"
    },
    "tags": []
   },
   "source": [
    "# Final Output"
   ]
  },
  {
   "cell_type": "code",
   "execution_count": 77,
   "id": "96d280a3",
   "metadata": {
    "execution": {
     "iopub.execute_input": "2025-07-30T12:58:03.625100Z",
     "iopub.status.busy": "2025-07-30T12:58:03.624493Z",
     "iopub.status.idle": "2025-07-30T12:58:03.633466Z",
     "shell.execute_reply": "2025-07-30T12:58:03.632727Z"
    },
    "papermill": {
     "duration": 0.026512,
     "end_time": "2025-07-30T12:58:03.634689",
     "exception": false,
     "start_time": "2025-07-30T12:58:03.608177",
     "status": "completed"
    },
    "tags": []
   },
   "outputs": [
    {
     "data": {
      "text/plain": [
       "4"
      ]
     },
     "execution_count": 77,
     "metadata": {},
     "output_type": "execute_result"
    }
   ],
   "source": [
    "sub_universes = universe_analysis.generate_sub_universes()\n",
    "len(sub_universes)"
   ]
  },
  {
   "cell_type": "code",
   "execution_count": 78,
   "id": "92adf7ba",
   "metadata": {
    "execution": {
     "iopub.execute_input": "2025-07-30T12:58:03.666796Z",
     "iopub.status.busy": "2025-07-30T12:58:03.666215Z",
     "iopub.status.idle": "2025-07-30T12:58:03.686235Z",
     "shell.execute_reply": "2025-07-30T12:58:03.685421Z"
    },
    "papermill": {
     "duration": 0.0377,
     "end_time": "2025-07-30T12:58:03.687678",
     "exception": false,
     "start_time": "2025-07-30T12:58:03.649978",
     "status": "completed"
    },
    "tags": []
   },
   "outputs": [],
   "source": [
    "def filter_sub_universe_data(sub_universe, org_test):\n",
    "    # Keep all rows — no filtering\n",
    "    keep_rows_mask = np.ones(org_test.shape[0], dtype=bool)\n",
    "\n",
    "    print(f\"[INFO] Keeping all rows: {keep_rows_mask.sum()} rows retained.\")\n",
    "    return keep_rows_mask"
   ]
  },
  {
   "cell_type": "code",
   "execution_count": 79,
   "id": "4a759155",
   "metadata": {
    "execution": {
     "iopub.execute_input": "2025-07-30T12:58:03.720329Z",
     "iopub.status.busy": "2025-07-30T12:58:03.719782Z",
     "iopub.status.idle": "2025-07-30T12:58:13.465415Z",
     "shell.execute_reply": "2025-07-30T12:58:13.464382Z"
    },
    "papermill": {
     "duration": 9.763078,
     "end_time": "2025-07-30T12:58:13.467047",
     "exception": false,
     "start_time": "2025-07-30T12:58:03.703969",
     "status": "completed"
    },
    "tags": []
   },
   "outputs": [
    {
     "name": "stdout",
     "output_type": "stream",
     "text": [
      "Stopping execution_time clock.\n",
      "[INFO] Keeping all rows: 89710 rows retained.\n"
     ]
    },
    {
     "name": "stdout",
     "output_type": "stream",
     "text": [
      "[INFO] Keeping all rows: 89710 rows retained.\n"
     ]
    },
    {
     "name": "stdout",
     "output_type": "stream",
     "text": [
      "[INFO] Keeping all rows: 89710 rows retained.\n"
     ]
    },
    {
     "name": "stdout",
     "output_type": "stream",
     "text": [
      "[INFO] Keeping all rows: 89710 rows retained.\n"
     ]
    },
    {
     "data": {
      "text/html": [
       "<div>\n",
       "<style scoped>\n",
       "    .dataframe tbody tr th:only-of-type {\n",
       "        vertical-align: middle;\n",
       "    }\n",
       "\n",
       "    .dataframe tbody tr th {\n",
       "        vertical-align: top;\n",
       "    }\n",
       "\n",
       "    .dataframe thead th {\n",
       "        text-align: right;\n",
       "    }\n",
       "</style>\n",
       "<table border=\"1\" class=\"dataframe\">\n",
       "  <thead>\n",
       "    <tr style=\"text-align: right;\">\n",
       "      <th></th>\n",
       "      <th>run_no</th>\n",
       "      <th>universe_id</th>\n",
       "      <th>universe_settings</th>\n",
       "      <th>execution_time</th>\n",
       "      <th>test_size_n</th>\n",
       "      <th>test_size_frac</th>\n",
       "      <th>fair_main_equalized_odds_difference</th>\n",
       "      <th>fair_main_equalized_odds_ratio</th>\n",
       "      <th>fair_main_demographic_parity_difference</th>\n",
       "      <th>fair_main_demographic_parity_ratio</th>\n",
       "      <th>...</th>\n",
       "      <th>perf_grp_precision_0</th>\n",
       "      <th>perf_grp_precision_1</th>\n",
       "      <th>perf_grp_false positive rate_0</th>\n",
       "      <th>perf_grp_false positive rate_1</th>\n",
       "      <th>perf_grp_false negative rate_0</th>\n",
       "      <th>perf_grp_false negative rate_1</th>\n",
       "      <th>perf_grp_selection rate_0</th>\n",
       "      <th>perf_grp_selection rate_1</th>\n",
       "      <th>perf_grp_count_0</th>\n",
       "      <th>perf_grp_count_1</th>\n",
       "    </tr>\n",
       "  </thead>\n",
       "  <tbody>\n",
       "    <tr>\n",
       "      <th>0</th>\n",
       "      <td>12</td>\n",
       "      <td>9df65e030cd7b86125f0f975f7807877</td>\n",
       "      <td>{\"cutoff\": \"quantile_0.1\", \"eval_fairness_grou...</td>\n",
       "      <td>52.872443</td>\n",
       "      <td>89710</td>\n",
       "      <td>1.0</td>\n",
       "      <td>0.063848</td>\n",
       "      <td>0.931782</td>\n",
       "      <td>0.055046</td>\n",
       "      <td>0.941593</td>\n",
       "      <td>...</td>\n",
       "      <td>NaN</td>\n",
       "      <td>NaN</td>\n",
       "      <td>NaN</td>\n",
       "      <td>NaN</td>\n",
       "      <td>NaN</td>\n",
       "      <td>NaN</td>\n",
       "      <td>NaN</td>\n",
       "      <td>NaN</td>\n",
       "      <td>NaN</td>\n",
       "      <td>NaN</td>\n",
       "    </tr>\n",
       "    <tr>\n",
       "      <th>0</th>\n",
       "      <td>12</td>\n",
       "      <td>9df65e030cd7b86125f0f975f7807877</td>\n",
       "      <td>{\"cutoff\": \"quantile_0.1\", \"eval_fairness_grou...</td>\n",
       "      <td>52.872443</td>\n",
       "      <td>89710</td>\n",
       "      <td>1.0</td>\n",
       "      <td>0.063848</td>\n",
       "      <td>0.931782</td>\n",
       "      <td>0.055046</td>\n",
       "      <td>0.941593</td>\n",
       "      <td>...</td>\n",
       "      <td>0.121397</td>\n",
       "      <td>0.147112</td>\n",
       "      <td>0.935945</td>\n",
       "      <td>0.872097</td>\n",
       "      <td>0.007601</td>\n",
       "      <td>0.012035</td>\n",
       "      <td>0.942454</td>\n",
       "      <td>0.887408</td>\n",
       "      <td>20540.0</td>\n",
       "      <td>69170.0</td>\n",
       "    </tr>\n",
       "    <tr>\n",
       "      <th>0</th>\n",
       "      <td>12</td>\n",
       "      <td>9df65e030cd7b86125f0f975f7807877</td>\n",
       "      <td>{\"cutoff\": \"quantile_0.25\", \"eval_fairness_gro...</td>\n",
       "      <td>52.872443</td>\n",
       "      <td>89710</td>\n",
       "      <td>1.0</td>\n",
       "      <td>0.140172</td>\n",
       "      <td>0.830818</td>\n",
       "      <td>0.120610</td>\n",
       "      <td>0.856926</td>\n",
       "      <td>...</td>\n",
       "      <td>NaN</td>\n",
       "      <td>NaN</td>\n",
       "      <td>NaN</td>\n",
       "      <td>NaN</td>\n",
       "      <td>NaN</td>\n",
       "      <td>NaN</td>\n",
       "      <td>NaN</td>\n",
       "      <td>NaN</td>\n",
       "      <td>NaN</td>\n",
       "      <td>NaN</td>\n",
       "    </tr>\n",
       "    <tr>\n",
       "      <th>0</th>\n",
       "      <td>12</td>\n",
       "      <td>9df65e030cd7b86125f0f975f7807877</td>\n",
       "      <td>{\"cutoff\": \"quantile_0.25\", \"eval_fairness_gro...</td>\n",
       "      <td>52.872443</td>\n",
       "      <td>89710</td>\n",
       "      <td>1.0</td>\n",
       "      <td>0.140172</td>\n",
       "      <td>0.830818</td>\n",
       "      <td>0.120610</td>\n",
       "      <td>0.856926</td>\n",
       "      <td>...</td>\n",
       "      <td>0.130465</td>\n",
       "      <td>0.173014</td>\n",
       "      <td>0.828527</td>\n",
       "      <td>0.688356</td>\n",
       "      <td>0.046030</td>\n",
       "      <td>0.054158</td>\n",
       "      <td>0.842989</td>\n",
       "      <td>0.722380</td>\n",
       "      <td>20540.0</td>\n",
       "      <td>69170.0</td>\n",
       "    </tr>\n",
       "  </tbody>\n",
       "</table>\n",
       "<p>4 rows × 50 columns</p>\n",
       "</div>"
      ],
      "text/plain": [
       "  run_no                       universe_id  \\\n",
       "0     12  9df65e030cd7b86125f0f975f7807877   \n",
       "0     12  9df65e030cd7b86125f0f975f7807877   \n",
       "0     12  9df65e030cd7b86125f0f975f7807877   \n",
       "0     12  9df65e030cd7b86125f0f975f7807877   \n",
       "\n",
       "                                   universe_settings  execution_time  \\\n",
       "0  {\"cutoff\": \"quantile_0.1\", \"eval_fairness_grou...       52.872443   \n",
       "0  {\"cutoff\": \"quantile_0.1\", \"eval_fairness_grou...       52.872443   \n",
       "0  {\"cutoff\": \"quantile_0.25\", \"eval_fairness_gro...       52.872443   \n",
       "0  {\"cutoff\": \"quantile_0.25\", \"eval_fairness_gro...       52.872443   \n",
       "\n",
       "   test_size_n  test_size_frac  fair_main_equalized_odds_difference  \\\n",
       "0        89710             1.0                             0.063848   \n",
       "0        89710             1.0                             0.063848   \n",
       "0        89710             1.0                             0.140172   \n",
       "0        89710             1.0                             0.140172   \n",
       "\n",
       "   fair_main_equalized_odds_ratio  fair_main_demographic_parity_difference  \\\n",
       "0                        0.931782                                 0.055046   \n",
       "0                        0.931782                                 0.055046   \n",
       "0                        0.830818                                 0.120610   \n",
       "0                        0.830818                                 0.120610   \n",
       "\n",
       "   fair_main_demographic_parity_ratio  ...  perf_grp_precision_0  \\\n",
       "0                            0.941593  ...                   NaN   \n",
       "0                            0.941593  ...              0.121397   \n",
       "0                            0.856926  ...                   NaN   \n",
       "0                            0.856926  ...              0.130465   \n",
       "\n",
       "   perf_grp_precision_1  perf_grp_false positive rate_0  \\\n",
       "0                   NaN                             NaN   \n",
       "0              0.147112                        0.935945   \n",
       "0                   NaN                             NaN   \n",
       "0              0.173014                        0.828527   \n",
       "\n",
       "   perf_grp_false positive rate_1  perf_grp_false negative rate_0  \\\n",
       "0                             NaN                             NaN   \n",
       "0                        0.872097                        0.007601   \n",
       "0                             NaN                             NaN   \n",
       "0                        0.688356                        0.046030   \n",
       "\n",
       "   perf_grp_false negative rate_1  perf_grp_selection rate_0  \\\n",
       "0                             NaN                        NaN   \n",
       "0                        0.012035                   0.942454   \n",
       "0                             NaN                        NaN   \n",
       "0                        0.054158                   0.842989   \n",
       "\n",
       "   perf_grp_selection rate_1  perf_grp_count_0  perf_grp_count_1  \n",
       "0                        NaN               NaN               NaN  \n",
       "0                   0.887408           20540.0           69170.0  \n",
       "0                        NaN               NaN               NaN  \n",
       "0                   0.722380           20540.0           69170.0  \n",
       "\n",
       "[4 rows x 50 columns]"
      ]
     },
     "execution_count": 79,
     "metadata": {},
     "output_type": "execute_result"
    }
   ],
   "source": [
    "final_output = universe_analysis.generate_final_output(\n",
    "    y_pred_prob=probs_test,\n",
    "    y_test=y_true,\n",
    "    org_test=org_test,\n",
    "    filter_data=filter_sub_universe_data,\n",
    "    cp_metrics_df=cp_metrics_df,\n",
    "    save=True,\n",
    ")\n",
    "final_output"
   ]
  },
  {
   "cell_type": "code",
   "execution_count": null,
   "id": "721ff514-cb11-46f8-b6fc-50392f74b5cb",
   "metadata": {
    "papermill": {
     "duration": 0.028035,
     "end_time": "2025-07-30T12:58:13.525369",
     "exception": false,
     "start_time": "2025-07-30T12:58:13.497334",
     "status": "completed"
    },
    "tags": []
   },
   "outputs": [],
   "source": []
  }
 ],
 "metadata": {
  "celltoolbar": "Tags",
  "kernelspec": {
   "display_name": "Python (CMA Fairness)",
   "language": "python",
   "name": "cma_fair_env"
  },
  "language_info": {
   "codemirror_mode": {
    "name": "ipython",
    "version": 3
   },
   "file_extension": ".py",
   "mimetype": "text/x-python",
   "name": "python",
   "nbconvert_exporter": "python",
   "pygments_lexer": "ipython3",
   "version": "3.10.12"
  },
  "papermill": {
   "default_parameters": {},
   "duration": 66.597696,
   "end_time": "2025-07-30T12:58:14.272693",
   "environment_variables": {},
   "exception": null,
   "input_path": "universe_analysis.ipynb",
   "output_path": "output/runs/12/notebooks/m_12-9df65e030cd7b86125f0f975f7807877.ipynb",
   "parameters": {
    "output_dir": "output",
    "run_no": "12",
    "seed": "2023",
    "universe": "{\"cutoff\": [\"quantile_0.1\", \"quantile_0.25\"], \"eval_fairness_grouping\": [\"majority-minority\", \"nationality-all\"], \"exclude_features\": \"age\", \"exclude_subgroups\": \"keep-all\", \"model\": \"gbm\", \"scale\": \"do-not-scale\", \"training_size\": \"25k\", \"training_year\": \"2014\"}",
    "universe_id": "9df65e030cd7b86125f0f975f7807877"
   },
   "start_time": "2025-07-30T12:57:07.674997",
   "version": "2.6.0"
  }
 },
 "nbformat": 4,
 "nbformat_minor": 5
}