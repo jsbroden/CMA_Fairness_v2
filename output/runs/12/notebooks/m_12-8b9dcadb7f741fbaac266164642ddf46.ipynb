{
 "cells": [
  {
   "cell_type": "code",
   "execution_count": 1,
   "id": "f159f837-637b-42ba-96b5-ec9a68c44524",
   "metadata": {
    "execution": {
     "iopub.execute_input": "2025-07-30T12:55:01.731620Z",
     "iopub.status.busy": "2025-07-30T12:55:01.731281Z",
     "iopub.status.idle": "2025-07-30T12:55:01.740724Z",
     "shell.execute_reply": "2025-07-30T12:55:01.739859Z"
    },
    "papermill": {
     "duration": 0.032691,
     "end_time": "2025-07-30T12:55:01.742174",
     "exception": false,
     "start_time": "2025-07-30T12:55:01.709483",
     "status": "completed"
    },
    "tags": []
   },
   "outputs": [
    {
     "name": "stdout",
     "output_type": "stream",
     "text": [
      "/dss/dsshome1/0C/ra93lal2/cma/CMA_Fairness_v2\n"
     ]
    },
    {
     "name": "stderr",
     "output_type": "stream",
     "text": [
      "/dss/dsshome1/0C/ra93lal2/.local/share/virtualenvs/CMA_Fairness_v2-3j10GkSs/lib/python3.10/site-packages/IPython/core/magics/osm.py:393: UserWarning: This is now an optional IPython functionality, using bookmarks requires you to install the `pickleshare` library.\n",
      "  bkms = self.shell.db.get('bookmarks', {})\n",
      "/dss/dsshome1/0C/ra93lal2/.local/share/virtualenvs/CMA_Fairness_v2-3j10GkSs/lib/python3.10/site-packages/IPython/core/magics/osm.py:417: UserWarning: This is now an optional IPython functionality, setting dhist requires you to install the `pickleshare` library.\n",
      "  self.shell.db['dhist'] = compress_dhist(dhist)[-100:]\n"
     ]
    }
   ],
   "source": [
    "%cd ~/cma/CMA_Fairness_v2"
   ]
  },
  {
   "cell_type": "markdown",
   "id": "de2603b9",
   "metadata": {
    "papermill": {
     "duration": 0.019131,
     "end_time": "2025-07-30T12:55:01.772833",
     "exception": false,
     "start_time": "2025-07-30T12:55:01.753702",
     "status": "completed"
    },
    "tags": []
   },
   "source": [
    "The following cell holds the definition of our parameters, these values can be overriden by rendering the with e.g. the following command:\n",
    "\n",
    "papermill -p alpha 0.2 -p ratio 0.3 universe_analysis.ipynb output/test_run.ipynb"
   ]
  },
  {
   "cell_type": "code",
   "execution_count": 2,
   "id": "a80968a0-40bb-4fa9-85ef-2d5eefb01975",
   "metadata": {
    "execution": {
     "iopub.execute_input": "2025-07-30T12:55:01.838746Z",
     "iopub.status.busy": "2025-07-30T12:55:01.838258Z",
     "iopub.status.idle": "2025-07-30T12:55:01.844311Z",
     "shell.execute_reply": "2025-07-30T12:55:01.843422Z"
    },
    "papermill": {
     "duration": 0.045124,
     "end_time": "2025-07-30T12:55:01.862236",
     "exception": false,
     "start_time": "2025-07-30T12:55:01.817112",
     "status": "completed"
    },
    "tags": []
   },
   "outputs": [
    {
     "name": "stdout",
     "output_type": "stream",
     "text": [
      "Current working directory: /dss/dsshome1/0C/ra93lal2/cma/CMA_Fairness_v2\n"
     ]
    }
   ],
   "source": [
    "import os\n",
    "print(\"Current working directory:\", os.getcwd())"
   ]
  },
  {
   "cell_type": "code",
   "execution_count": 3,
   "id": "2dce4c03",
   "metadata": {
    "execution": {
     "iopub.execute_input": "2025-07-30T12:55:01.952692Z",
     "iopub.status.busy": "2025-07-30T12:55:01.952273Z",
     "iopub.status.idle": "2025-07-30T12:55:01.959083Z",
     "shell.execute_reply": "2025-07-30T12:55:01.958166Z"
    },
    "papermill": {
     "duration": 0.036547,
     "end_time": "2025-07-30T12:55:01.960722",
     "exception": false,
     "start_time": "2025-07-30T12:55:01.924175",
     "status": "completed"
    },
    "tags": [
     "parameters"
    ]
   },
   "outputs": [],
   "source": [
    "run_no = 0\n",
    "universe_id = \"test\"\n",
    "universe = {\n",
    "    \"training_size\": \"25k\", # \"25k\", \"5k\", \"1k\"\n",
    "    \"training_year\": \"2014\", # \"2014\", \"2012_14\", \"2010_14\"\n",
    "    \"scale\": \"scale\", # \"scale\", \"do-not-scale\",\n",
    "    #\"stratify_split\": \"target\", # \"none\", \"target\", \"protected-attribute\", \"both\",\n",
    "    \"model\": \"elasticnet\", # \"logreg\", \"penalized_logreg\", \"rf\", \"gbm\", \"elasticnet\"\n",
    "    \"cutoff\": [\"quantile_0.15\", \"quantile_0.30\"],\n",
    "    \"exclude_features\": \"age\", # \"none\", \"nationality\", \"sex\", \"nationality-sex\", \"age\"\n",
    "    \"exclude_subgroups\": \"keep-all\", # \"keep-all\", \"drop-non-german\"\n",
    "    \"eval_fairness_grouping\": [\"majority-minority\", \"nationality-all\"]\n",
    "}\n",
    "\n",
    "output_dir=\"./output\"\n",
    "seed=0"
   ]
  },
  {
   "cell_type": "code",
   "execution_count": 4,
   "id": "867c91f6",
   "metadata": {
    "execution": {
     "iopub.execute_input": "2025-07-30T12:55:02.044106Z",
     "iopub.status.busy": "2025-07-30T12:55:02.043688Z",
     "iopub.status.idle": "2025-07-30T12:55:02.049262Z",
     "shell.execute_reply": "2025-07-30T12:55:02.048264Z"
    },
    "papermill": {
     "duration": 0.049003,
     "end_time": "2025-07-30T12:55:02.051659",
     "exception": false,
     "start_time": "2025-07-30T12:55:02.002656",
     "status": "completed"
    },
    "tags": [
     "injected-parameters"
    ]
   },
   "outputs": [],
   "source": [
    "# Parameters\n",
    "universe_id = \"8b9dcadb7f741fbaac266164642ddf46\"\n",
    "run_no = \"12\"\n",
    "universe = \"{\\\"cutoff\\\": [\\\"quantile_0.1\\\", \\\"quantile_0.25\\\"], \\\"eval_fairness_grouping\\\": [\\\"majority-minority\\\", \\\"nationality-all\\\"], \\\"exclude_features\\\": \\\"sex\\\", \\\"exclude_subgroups\\\": \\\"drop-non-german\\\", \\\"model\\\": \\\"rf\\\", \\\"scale\\\": \\\"do-not-scale\\\", \\\"training_size\\\": \\\"25k\\\", \\\"training_year\\\": \\\"2014\\\"}\"\n",
    "output_dir = \"output\"\n",
    "seed = \"2023\"\n"
   ]
  },
  {
   "cell_type": "code",
   "execution_count": 5,
   "id": "1650acaf",
   "metadata": {
    "execution": {
     "iopub.execute_input": "2025-07-30T12:55:02.097842Z",
     "iopub.status.busy": "2025-07-30T12:55:02.097002Z",
     "iopub.status.idle": "2025-07-30T12:55:02.101598Z",
     "shell.execute_reply": "2025-07-30T12:55:02.100865Z"
    },
    "papermill": {
     "duration": 0.030669,
     "end_time": "2025-07-30T12:55:02.103036",
     "exception": false,
     "start_time": "2025-07-30T12:55:02.072367",
     "status": "completed"
    },
    "tags": []
   },
   "outputs": [],
   "source": [
    "import json\n",
    "# Parse universe into dict if it is passed as a string\n",
    "if isinstance(universe, str):\n",
    "    universe = json.loads(universe)"
   ]
  },
  {
   "cell_type": "code",
   "execution_count": 6,
   "id": "16620c48",
   "metadata": {
    "execution": {
     "iopub.execute_input": "2025-07-30T12:55:02.184050Z",
     "iopub.status.busy": "2025-07-30T12:55:02.183613Z",
     "iopub.status.idle": "2025-07-30T12:55:02.275292Z",
     "shell.execute_reply": "2025-07-30T12:55:02.274217Z"
    },
    "papermill": {
     "duration": 0.132928,
     "end_time": "2025-07-30T12:55:02.277394",
     "exception": false,
     "start_time": "2025-07-30T12:55:02.144466",
     "status": "completed"
    },
    "tags": []
   },
   "outputs": [],
   "source": [
    "# Auto-reload the custom package\n",
    "%load_ext autoreload\n",
    "%autoreload 1\n",
    "%aimport fairness_multiverse"
   ]
  },
  {
   "cell_type": "code",
   "execution_count": 7,
   "id": "01c5c9f3",
   "metadata": {
    "execution": {
     "iopub.execute_input": "2025-07-30T12:55:02.357546Z",
     "iopub.status.busy": "2025-07-30T12:55:02.357022Z",
     "iopub.status.idle": "2025-07-30T12:55:04.378061Z",
     "shell.execute_reply": "2025-07-30T12:55:04.377289Z"
    },
    "papermill": {
     "duration": 2.06532,
     "end_time": "2025-07-30T12:55:04.379473",
     "exception": false,
     "start_time": "2025-07-30T12:55:02.314153",
     "status": "completed"
    },
    "tags": []
   },
   "outputs": [],
   "source": [
    "from fairness_multiverse.universe import UniverseAnalysis\n",
    "\n",
    "universe_analysis = UniverseAnalysis(\n",
    "    run_no = run_no,\n",
    "    universe_id = universe_id,\n",
    "    universe = universe,\n",
    "    output_dir=output_dir,\n",
    ")"
   ]
  },
  {
   "cell_type": "code",
   "execution_count": 8,
   "id": "106241f5",
   "metadata": {
    "execution": {
     "iopub.execute_input": "2025-07-30T12:55:04.402523Z",
     "iopub.status.busy": "2025-07-30T12:55:04.401934Z",
     "iopub.status.idle": "2025-07-30T12:55:04.407144Z",
     "shell.execute_reply": "2025-07-30T12:55:04.406360Z"
    },
    "papermill": {
     "duration": 0.018059,
     "end_time": "2025-07-30T12:55:04.408409",
     "exception": false,
     "start_time": "2025-07-30T12:55:04.390350",
     "status": "completed"
    },
    "tags": []
   },
   "outputs": [
    {
     "name": "stdout",
     "output_type": "stream",
     "text": [
      "Using Seed: 2023\n"
     ]
    }
   ],
   "source": [
    "import numpy as np\n",
    "parsed_seed = int(seed)\n",
    "np.random.seed(parsed_seed)\n",
    "print(f\"Using Seed: {parsed_seed}\")"
   ]
  },
  {
   "cell_type": "markdown",
   "id": "e0ebdc57",
   "metadata": {
    "papermill": {
     "duration": 0.010342,
     "end_time": "2025-07-30T12:55:04.429925",
     "exception": false,
     "start_time": "2025-07-30T12:55:04.419583",
     "status": "completed"
    },
    "tags": []
   },
   "source": [
    "# Loading Data"
   ]
  },
  {
   "cell_type": "markdown",
   "id": "681925a3",
   "metadata": {
    "papermill": {
     "duration": 0.009986,
     "end_time": "2025-07-30T12:55:04.450069",
     "exception": false,
     "start_time": "2025-07-30T12:55:04.440083",
     "status": "completed"
    },
    "tags": []
   },
   "source": [
    "Load siab_train, siab_test, siab_calib and/or \n",
    "load siab_train_features, siab_train_labels"
   ]
  },
  {
   "cell_type": "code",
   "execution_count": 9,
   "id": "f0496b8a",
   "metadata": {
    "execution": {
     "iopub.execute_input": "2025-07-30T12:55:04.471641Z",
     "iopub.status.busy": "2025-07-30T12:55:04.471144Z",
     "iopub.status.idle": "2025-07-30T12:55:16.946507Z",
     "shell.execute_reply": "2025-07-30T12:55:16.945259Z"
    },
    "papermill": {
     "duration": 12.488356,
     "end_time": "2025-07-30T12:55:16.948497",
     "exception": false,
     "start_time": "2025-07-30T12:55:04.460141",
     "status": "completed"
    },
    "tags": []
   },
   "outputs": [
    {
     "name": "stdout",
     "output_type": "stream",
     "text": [
      "Loading SIAB data from cache: data/siab_cached.csv.gz\n"
     ]
    },
    {
     "name": "stdout",
     "output_type": "stream",
     "text": [
      "(643690, 164)\n"
     ]
    }
   ],
   "source": [
    "from pathlib import Path\n",
    "import pandas as pd\n",
    "\n",
    "# File paths\n",
    "raw_file = Path(\"data/raw/siab.csv\")\n",
    "cache_file = Path(\"data/siab_cached.csv.gz\")\n",
    "\n",
    "# Ensure cache directory exists\n",
    "cache_file.parent.mkdir(parents=True, exist_ok=True)\n",
    "\n",
    "# Load with simple caching\n",
    "if cache_file.exists():\n",
    "    print(f\"Loading SIAB data from cache: {cache_file}\")\n",
    "    siab = pd.read_csv(cache_file, compression='gzip')\n",
    "else:\n",
    "    print(f\"Cache not found. Reading raw SIAB data: {raw_file}\")\n",
    "    siab = pd.read_csv(raw_file)\n",
    "    siab.to_csv(cache_file, index=False, compression='gzip')\n",
    "    print(f\"Cached SIAB data to: {cache_file}\")\n",
    "\n",
    "# Now use `siab` DataFrame as needed\n",
    "print(siab.shape)"
   ]
  },
  {
   "cell_type": "code",
   "execution_count": 10,
   "id": "db0ca512-5f53-4dba-abdb-a2888bca41ba",
   "metadata": {
    "execution": {
     "iopub.execute_input": "2025-07-30T12:55:17.005894Z",
     "iopub.status.busy": "2025-07-30T12:55:17.005439Z",
     "iopub.status.idle": "2025-07-30T12:55:17.011815Z",
     "shell.execute_reply": "2025-07-30T12:55:17.010800Z"
    },
    "papermill": {
     "duration": 0.034162,
     "end_time": "2025-07-30T12:55:17.016511",
     "exception": false,
     "start_time": "2025-07-30T12:55:16.982349",
     "status": "completed"
    },
    "tags": []
   },
   "outputs": [],
   "source": [
    "#siab"
   ]
  },
  {
   "cell_type": "code",
   "execution_count": 11,
   "id": "a0edb063",
   "metadata": {
    "execution": {
     "iopub.execute_input": "2025-07-30T12:55:17.101692Z",
     "iopub.status.busy": "2025-07-30T12:55:17.101185Z",
     "iopub.status.idle": "2025-07-30T12:55:17.109891Z",
     "shell.execute_reply": "2025-07-30T12:55:17.108453Z"
    },
    "papermill": {
     "duration": 0.065772,
     "end_time": "2025-07-30T12:55:17.112246",
     "exception": false,
     "start_time": "2025-07-30T12:55:17.046474",
     "status": "completed"
    },
    "tags": []
   },
   "outputs": [],
   "source": [
    "#import pandas as pd\n",
    "#\n",
    "#X_train = pd.read_csv(\"./data/X_train.csv\")\n",
    "#y_train = pd.read_csv(\"./data/y_train.csv\")"
   ]
  },
  {
   "cell_type": "code",
   "execution_count": 12,
   "id": "63d08085",
   "metadata": {
    "execution": {
     "iopub.execute_input": "2025-07-30T12:55:17.254132Z",
     "iopub.status.busy": "2025-07-30T12:55:17.253708Z",
     "iopub.status.idle": "2025-07-30T12:55:17.259377Z",
     "shell.execute_reply": "2025-07-30T12:55:17.258479Z"
    },
    "papermill": {
     "duration": 0.07656,
     "end_time": "2025-07-30T12:55:17.261246",
     "exception": false,
     "start_time": "2025-07-30T12:55:17.184686",
     "status": "completed"
    },
    "tags": []
   },
   "outputs": [],
   "source": [
    "#X_test = pd.read_csv(\"./data/X_test.csv\")\n",
    "#y_true = pd.read_csv(\"./data/y_test.csv\")"
   ]
  },
  {
   "cell_type": "code",
   "execution_count": 13,
   "id": "98a8d0fa-1d3d-4ed8-bb2c-281470e24add",
   "metadata": {
    "execution": {
     "iopub.execute_input": "2025-07-30T12:55:17.351513Z",
     "iopub.status.busy": "2025-07-30T12:55:17.351084Z",
     "iopub.status.idle": "2025-07-30T12:55:17.356813Z",
     "shell.execute_reply": "2025-07-30T12:55:17.355753Z"
    },
    "papermill": {
     "duration": 0.073448,
     "end_time": "2025-07-30T12:55:17.360757",
     "exception": false,
     "start_time": "2025-07-30T12:55:17.287309",
     "status": "completed"
    },
    "tags": []
   },
   "outputs": [],
   "source": [
    "# Calibration data for conformal\n",
    "#X_calib = pd.read_csv(\"./data/X_calib.csv\")\n",
    "#y_calib = pd.read_csv(\"./data/y_calib.csv\")"
   ]
  },
  {
   "cell_type": "markdown",
   "id": "997051c5-15bd-4b69-9786-c3001a3ce484",
   "metadata": {
    "papermill": {
     "duration": 0.101534,
     "end_time": "2025-07-30T12:55:17.536348",
     "exception": false,
     "start_time": "2025-07-30T12:55:17.434814",
     "status": "completed"
    },
    "tags": []
   },
   "source": [
    "# Splitting Data and Setting Training Data Size"
   ]
  },
  {
   "cell_type": "code",
   "execution_count": 14,
   "id": "e993b61f-042d-41a6-8c81-f55681f86335",
   "metadata": {
    "execution": {
     "iopub.execute_input": "2025-07-30T12:55:17.679250Z",
     "iopub.status.busy": "2025-07-30T12:55:17.678835Z",
     "iopub.status.idle": "2025-07-30T12:55:17.693637Z",
     "shell.execute_reply": "2025-07-30T12:55:17.692556Z"
    },
    "papermill": {
     "duration": 0.098341,
     "end_time": "2025-07-30T12:55:17.695468",
     "exception": false,
     "start_time": "2025-07-30T12:55:17.597127",
     "status": "completed"
    },
    "tags": []
   },
   "outputs": [],
   "source": [
    "def sample_by_year_size(df,\n",
    "                        training_year: str,\n",
    "                        training_size: str,\n",
    "                        random_state: int = 42):\n",
    "    # --- parse training_year into a list of int years ---\n",
    "    if \"_\" in training_year:\n",
    "        start_str, end_str = training_year.split(\"_\", 1)\n",
    "        start = int(start_str)\n",
    "        end   = int(end_str) if len(end_str) == 4 else (int(end_str) + (start // 100)*100)\n",
    "        years = list(range(start, end + 1))\n",
    "    else:\n",
    "        years = [int(training_year)]\n",
    "\n",
    "    df = df[df[\"year\"].isin(years)].reset_index(drop=True)\n",
    "\n",
    "    # --- map training_size to total number of samples ---\n",
    "    total_map = {\"25k\": 25_000, \"5k\": 5_000, \"1k\": 1_000}\n",
    "    if training_size not in total_map:\n",
    "        return df  # e.g. \"all\"\n",
    "\n",
    "    total_samples = total_map[training_size]\n",
    "    n_years       = len(years)\n",
    "    base          = total_samples // n_years\n",
    "    remainder     = total_samples % n_years\n",
    "\n",
    "    # --- build a dict: year -> how many to sample ---\n",
    "    # give +1 to the first `remainder` years in ascending order\n",
    "    quotas = {\n",
    "        year: base + (1 if idx < remainder else 0)\n",
    "        for idx, year in enumerate(sorted(years))\n",
    "    }\n",
    "\n",
    "    # --- sample per‐year according to the quota dict ---\n",
    "    sampled = (\n",
    "        df\n",
    "        .groupby(\"year\", group_keys=False)\n",
    "        .apply(lambda grp: grp.sample(\n",
    "            n=min(len(grp), quotas[grp.name]),\n",
    "            random_state=random_state))\n",
    "        .reset_index(drop=True)\n",
    "    )\n",
    "\n",
    "    return sampled"
   ]
  },
  {
   "cell_type": "code",
   "execution_count": 15,
   "id": "c0ccd338-0e02-41f3-a09d-f56f9266e3fb",
   "metadata": {
    "execution": {
     "iopub.execute_input": "2025-07-30T12:55:17.746699Z",
     "iopub.status.busy": "2025-07-30T12:55:17.746279Z",
     "iopub.status.idle": "2025-07-30T12:55:17.759941Z",
     "shell.execute_reply": "2025-07-30T12:55:17.758791Z"
    },
    "papermill": {
     "duration": 0.039452,
     "end_time": "2025-07-30T12:55:17.763444",
     "exception": false,
     "start_time": "2025-07-30T12:55:17.723992",
     "status": "completed"
    },
    "tags": []
   },
   "outputs": [
    {
     "data": {
      "text/plain": [
       "'25k'"
      ]
     },
     "execution_count": 15,
     "metadata": {},
     "output_type": "execute_result"
    }
   ],
   "source": [
    "universe[\"training_size\"]"
   ]
  },
  {
   "cell_type": "code",
   "execution_count": 16,
   "id": "ca707fd7-8047-4acd-bfa5-66248fbbf8e6",
   "metadata": {
    "execution": {
     "iopub.execute_input": "2025-07-30T12:55:17.854688Z",
     "iopub.status.busy": "2025-07-30T12:55:17.854236Z",
     "iopub.status.idle": "2025-07-30T12:55:17.864722Z",
     "shell.execute_reply": "2025-07-30T12:55:17.863590Z"
    },
    "papermill": {
     "duration": 0.065375,
     "end_time": "2025-07-30T12:55:17.866751",
     "exception": false,
     "start_time": "2025-07-30T12:55:17.801376",
     "status": "completed"
    },
    "tags": []
   },
   "outputs": [
    {
     "data": {
      "text/plain": [
       "'2014'"
      ]
     },
     "execution_count": 16,
     "metadata": {},
     "output_type": "execute_result"
    }
   ],
   "source": [
    "universe[\"training_year\"]"
   ]
  },
  {
   "cell_type": "code",
   "execution_count": 17,
   "id": "aea9c6ef-6f46-42c8-85eb-5a62025c1508",
   "metadata": {
    "execution": {
     "iopub.execute_input": "2025-07-30T12:55:17.970849Z",
     "iopub.status.busy": "2025-07-30T12:55:17.970448Z",
     "iopub.status.idle": "2025-07-30T12:55:18.806897Z",
     "shell.execute_reply": "2025-07-30T12:55:18.805824Z"
    },
    "papermill": {
     "duration": 0.917418,
     "end_time": "2025-07-30T12:55:18.809187",
     "exception": false,
     "start_time": "2025-07-30T12:55:17.891769",
     "status": "completed"
    },
    "tags": []
   },
   "outputs": [],
   "source": [
    "siab_train = sample_by_year_size(siab,\n",
    "                               training_year=universe[\"training_year\"],\n",
    "                               training_size=universe[\"training_size\"])"
   ]
  },
  {
   "cell_type": "code",
   "execution_count": 18,
   "id": "8d3afb32-789d-442c-8d5d-9f5aa8dd2eed",
   "metadata": {
    "execution": {
     "iopub.execute_input": "2025-07-30T12:55:18.909386Z",
     "iopub.status.busy": "2025-07-30T12:55:18.908977Z",
     "iopub.status.idle": "2025-07-30T12:55:18.916593Z",
     "shell.execute_reply": "2025-07-30T12:55:18.915559Z"
    },
    "papermill": {
     "duration": 0.061684,
     "end_time": "2025-07-30T12:55:18.918282",
     "exception": false,
     "start_time": "2025-07-30T12:55:18.856598",
     "status": "completed"
    },
    "tags": []
   },
   "outputs": [
    {
     "data": {
      "text/plain": [
       "(25000, 164)"
      ]
     },
     "execution_count": 18,
     "metadata": {},
     "output_type": "execute_result"
    }
   ],
   "source": [
    "siab_train.shape"
   ]
  },
  {
   "cell_type": "code",
   "execution_count": 19,
   "id": "d582db68-1a4c-47fb-84fc-08518dc1975a",
   "metadata": {
    "execution": {
     "iopub.execute_input": "2025-07-30T12:55:19.009096Z",
     "iopub.status.busy": "2025-07-30T12:55:19.008668Z",
     "iopub.status.idle": "2025-07-30T12:55:19.020600Z",
     "shell.execute_reply": "2025-07-30T12:55:19.019393Z"
    },
    "papermill": {
     "duration": 0.057693,
     "end_time": "2025-07-30T12:55:19.022414",
     "exception": false,
     "start_time": "2025-07-30T12:55:18.964721",
     "status": "completed"
    },
    "tags": []
   },
   "outputs": [
    {
     "data": {
      "text/plain": [
       "year\n",
       "2014    25000\n",
       "dtype: int64"
      ]
     },
     "metadata": {},
     "output_type": "display_data"
    }
   ],
   "source": [
    "display(siab_train.groupby(\"year\").size())"
   ]
  },
  {
   "cell_type": "code",
   "execution_count": 20,
   "id": "a561edb4-d032-42cb-8256-22eac1111c64",
   "metadata": {
    "execution": {
     "iopub.execute_input": "2025-07-30T12:55:19.102984Z",
     "iopub.status.busy": "2025-07-30T12:55:19.102596Z",
     "iopub.status.idle": "2025-07-30T12:55:19.425223Z",
     "shell.execute_reply": "2025-07-30T12:55:19.424102Z"
    },
    "papermill": {
     "duration": 0.362604,
     "end_time": "2025-07-30T12:55:19.427343",
     "exception": false,
     "start_time": "2025-07-30T12:55:19.064739",
     "status": "completed"
    },
    "tags": []
   },
   "outputs": [],
   "source": [
    "#siab_train = siab_s[siab_s.year < 2015]\n",
    "siab_calib = siab[siab.year == 2015]\n",
    "siab_test = siab[siab.year == 2016]"
   ]
  },
  {
   "cell_type": "code",
   "execution_count": 21,
   "id": "472de16f-c3db-4916-846b-1f0de9cf1746",
   "metadata": {
    "execution": {
     "iopub.execute_input": "2025-07-30T12:55:19.566244Z",
     "iopub.status.busy": "2025-07-30T12:55:19.565830Z",
     "iopub.status.idle": "2025-07-30T12:55:19.616643Z",
     "shell.execute_reply": "2025-07-30T12:55:19.583853Z"
    },
    "papermill": {
     "duration": 0.162174,
     "end_time": "2025-07-30T12:55:19.618861",
     "exception": false,
     "start_time": "2025-07-30T12:55:19.456687",
     "status": "completed"
    },
    "tags": []
   },
   "outputs": [],
   "source": [
    "X_train = siab_train.iloc[:,4:164]\n",
    "y_train = siab_train.iloc[:, [3]]"
   ]
  },
  {
   "cell_type": "code",
   "execution_count": 22,
   "id": "828c96af-f43a-4ed6-ba47-8ac73a47d56c",
   "metadata": {
    "execution": {
     "iopub.execute_input": "2025-07-30T12:55:19.745997Z",
     "iopub.status.busy": "2025-07-30T12:55:19.745579Z",
     "iopub.status.idle": "2025-07-30T12:55:19.852646Z",
     "shell.execute_reply": "2025-07-30T12:55:19.851393Z"
    },
    "papermill": {
     "duration": 0.183279,
     "end_time": "2025-07-30T12:55:19.854799",
     "exception": false,
     "start_time": "2025-07-30T12:55:19.671520",
     "status": "completed"
    },
    "tags": []
   },
   "outputs": [],
   "source": [
    "X_calib = siab_calib.iloc[:,4:164]\n",
    "y_calib = siab_calib.iloc[:, [3]]"
   ]
  },
  {
   "cell_type": "code",
   "execution_count": 23,
   "id": "c34be9c3-6bd6-476e-acd3-845840e303be",
   "metadata": {
    "execution": {
     "iopub.execute_input": "2025-07-30T12:55:19.946695Z",
     "iopub.status.busy": "2025-07-30T12:55:19.945993Z",
     "iopub.status.idle": "2025-07-30T12:55:20.110997Z",
     "shell.execute_reply": "2025-07-30T12:55:20.109801Z"
    },
    "papermill": {
     "duration": 0.238695,
     "end_time": "2025-07-30T12:55:20.113154",
     "exception": false,
     "start_time": "2025-07-30T12:55:19.874459",
     "status": "completed"
    },
    "tags": []
   },
   "outputs": [],
   "source": [
    "X_test = siab_test.iloc[:,4:164]\n",
    "y_true = siab_test.iloc[:, [3]]"
   ]
  },
  {
   "cell_type": "markdown",
   "id": "9901737e-04df-44f0-9100-f5ad144ed040",
   "metadata": {
    "papermill": {
     "duration": 0.072146,
     "end_time": "2025-07-30T12:55:20.264470",
     "exception": false,
     "start_time": "2025-07-30T12:55:20.192324",
     "status": "completed"
    },
    "tags": []
   },
   "source": [
    "# Splitting Data and Setting Training Data Size OLD VERSION"
   ]
  },
  {
   "cell_type": "code",
   "execution_count": 24,
   "id": "acbc8f7d-8fc8-4e86-8c59-5dcb0f58384b",
   "metadata": {
    "execution": {
     "iopub.execute_input": "2025-07-30T12:55:20.368984Z",
     "iopub.status.busy": "2025-07-30T12:55:20.368581Z",
     "iopub.status.idle": "2025-07-30T12:55:20.374473Z",
     "shell.execute_reply": "2025-07-30T12:55:20.373497Z"
    },
    "papermill": {
     "duration": 0.074319,
     "end_time": "2025-07-30T12:55:20.377536",
     "exception": false,
     "start_time": "2025-07-30T12:55:20.303217",
     "status": "completed"
    },
    "tags": []
   },
   "outputs": [],
   "source": [
    "#def sample_by_year(df, training_size, random_state=42):\n",
    "#    if training_size == \"2014\":\n",
    "#        return df[df[\"year\"] == 2014].reset_index(drop=True)\n",
    "#    \n",
    "#    size_map = {\n",
    "#        \"25k\": 5000,\n",
    "#        \"5k\": 1000,\n",
    "#        \"1k\": 200\n",
    "#    }\n",
    "#\n",
    "#    if training_size not in size_map:\n",
    "#        return df.reset_index(drop=True)  # use all data\n",
    "#\n",
    "#    n_per_year = size_map[training_size]\n",
    "#    grouped = df.groupby(\"year\")\n",
    "#    sampled = grouped.apply(lambda x: x.sample(n=min(n_per_year, len(x)), random_state=random_state))\n",
    "#    return sampled.reset_index(drop=True)"
   ]
  },
  {
   "cell_type": "code",
   "execution_count": 25,
   "id": "6d931f52-beaf-43ff-9e78-9d44a448d54e",
   "metadata": {
    "execution": {
     "iopub.execute_input": "2025-07-30T12:55:20.532600Z",
     "iopub.status.busy": "2025-07-30T12:55:20.532194Z",
     "iopub.status.idle": "2025-07-30T12:55:20.537509Z",
     "shell.execute_reply": "2025-07-30T12:55:20.536482Z"
    },
    "papermill": {
     "duration": 0.072289,
     "end_time": "2025-07-30T12:55:20.540648",
     "exception": false,
     "start_time": "2025-07-30T12:55:20.468359",
     "status": "completed"
    },
    "tags": []
   },
   "outputs": [],
   "source": [
    "#siab_s = sample_by_year(siab, universe[\"training_size\"])"
   ]
  },
  {
   "cell_type": "code",
   "execution_count": 26,
   "id": "5db0a40e-a4e2-4920-be85-b12ae061d70d",
   "metadata": {
    "execution": {
     "iopub.execute_input": "2025-07-30T12:55:20.683521Z",
     "iopub.status.busy": "2025-07-30T12:55:20.683101Z",
     "iopub.status.idle": "2025-07-30T12:55:20.694606Z",
     "shell.execute_reply": "2025-07-30T12:55:20.693512Z"
    },
    "papermill": {
     "duration": 0.073792,
     "end_time": "2025-07-30T12:55:20.697931",
     "exception": false,
     "start_time": "2025-07-30T12:55:20.624139",
     "status": "completed"
    },
    "tags": []
   },
   "outputs": [],
   "source": [
    "#display(siab_s.groupby(\"year\").size())"
   ]
  },
  {
   "cell_type": "code",
   "execution_count": 27,
   "id": "e6c733c5",
   "metadata": {
    "execution": {
     "iopub.execute_input": "2025-07-30T12:55:20.858233Z",
     "iopub.status.busy": "2025-07-30T12:55:20.857811Z",
     "iopub.status.idle": "2025-07-30T12:55:20.962175Z",
     "shell.execute_reply": "2025-07-30T12:55:20.961122Z"
    },
    "papermill": {
     "duration": 0.150061,
     "end_time": "2025-07-30T12:55:20.964410",
     "exception": false,
     "start_time": "2025-07-30T12:55:20.814349",
     "status": "completed"
    },
    "tags": []
   },
   "outputs": [],
   "source": [
    "# Auxiliary data needed downstream in the pipeline\n",
    "\n",
    "org_train = X_train.copy()\n",
    "org_test = X_test.copy()\n",
    "org_calib = X_calib.copy()"
   ]
  },
  {
   "cell_type": "code",
   "execution_count": 28,
   "id": "1466abac-c6da-4492-a62f-4240ae3783af",
   "metadata": {
    "execution": {
     "iopub.execute_input": "2025-07-30T12:55:21.038620Z",
     "iopub.status.busy": "2025-07-30T12:55:21.038200Z",
     "iopub.status.idle": "2025-07-30T12:55:21.044516Z",
     "shell.execute_reply": "2025-07-30T12:55:21.043383Z"
    },
    "papermill": {
     "duration": 0.058222,
     "end_time": "2025-07-30T12:55:21.046754",
     "exception": false,
     "start_time": "2025-07-30T12:55:20.988532",
     "status": "completed"
    },
    "tags": []
   },
   "outputs": [],
   "source": [
    "# put in other script?\n",
    "# Group sizes\n",
    "\n",
    "#def calculate_percentages(df, df_name):\n",
    "#    total_entries = len(df)\n",
    "#\n",
    "#    female_pct = (df['frau1'] == 1).mean() * 100\n",
    "#    non_german_pct = ((df['maxdeutsch1'] == 0) & (df['maxdeutsch.Missing.'] == 0)).mean() * 100\n",
    "#    non_german_male_pct = ((df['frau1'] == 0) & (df['maxdeutsch1'] == 0) & (df['maxdeutsch.Missing.'] == 0)).mean() * 100\n",
    "#    non_german_female_pct = ((df['frau1'] == 1) & (df['maxdeutsch1'] == 0) & (df['maxdeutsch.Missing.'] == 0)).mean() * 100\n",
    "#\n",
    "#    print(f\"--- {df_name} ---\")\n",
    "#    print(f\"Female: {female_pct:.2f}%\")\n",
    "#    print(f\"Non-German: {non_german_pct:.2f}%\")\n",
    "#    print(f\"Non-German Male: {non_german_male_pct:.2f}%\")\n",
    "#    print(f\"Non-German Female: {non_german_female_pct:.2f}%\\n\")\n",
    "#\n",
    "## Calculate for each DataFrame\n",
    "#calculate_percentages(siab_calib, \"siab_calib\")\n",
    "#calculate_percentages(siab_test, \"siab_test\")\n",
    "#calculate_percentages(siab_train, \"siab_train\")"
   ]
  },
  {
   "cell_type": "markdown",
   "id": "0a4a1b33",
   "metadata": {
    "papermill": {
     "duration": 0.02208,
     "end_time": "2025-07-30T12:55:21.094293",
     "exception": false,
     "start_time": "2025-07-30T12:55:21.072213",
     "status": "completed"
    },
    "tags": []
   },
   "source": [
    "# Preprocessing Data"
   ]
  },
  {
   "cell_type": "code",
   "execution_count": 29,
   "id": "ca879031",
   "metadata": {
    "execution": {
     "iopub.execute_input": "2025-07-30T12:55:21.140308Z",
     "iopub.status.busy": "2025-07-30T12:55:21.139927Z",
     "iopub.status.idle": "2025-07-30T12:55:21.146444Z",
     "shell.execute_reply": "2025-07-30T12:55:21.145481Z"
    },
    "papermill": {
     "duration": 0.037395,
     "end_time": "2025-07-30T12:55:21.158525",
     "exception": false,
     "start_time": "2025-07-30T12:55:21.121130",
     "status": "completed"
    },
    "tags": []
   },
   "outputs": [],
   "source": [
    "# EXCLUDE PROTECTED FEATURES\n",
    "# ----------------------\n",
    "# \"exclude_features\": \"none\", # \"nationality\", \"sex\", \"nationality-sex\"\n",
    "\n",
    "excluded_features = universe[\"exclude_features\"].split(\"-\") # split, e.g.: \"nationality-sex\" -> [\"nationality\", \"sex\"]\n",
    "excluded_features_dictionary = {\n",
    "    \"nationality\": [\"maxdeutsch1\", \"maxdeutsch.Missing.\"],\n",
    "    \"sex\": [\"frau1\"],\n",
    "    \"age\": [\"age\"],\n",
    "}\n"
   ]
  },
  {
   "cell_type": "code",
   "execution_count": 30,
   "id": "b745ac60",
   "metadata": {
    "execution": {
     "iopub.execute_input": "2025-07-30T12:55:21.234392Z",
     "iopub.status.busy": "2025-07-30T12:55:21.233946Z",
     "iopub.status.idle": "2025-07-30T12:55:21.240483Z",
     "shell.execute_reply": "2025-07-30T12:55:21.239448Z"
    },
    "papermill": {
     "duration": 0.054064,
     "end_time": "2025-07-30T12:55:21.242229",
     "exception": false,
     "start_time": "2025-07-30T12:55:21.188165",
     "status": "completed"
    },
    "tags": []
   },
   "outputs": [],
   "source": [
    "# Code nice names to column names\n",
    "\n",
    "excluded_features_columns = [\n",
    "    excluded_features_dictionary[f] for f in excluded_features if len(f) > 0 and f != \"none\"\n",
    "]"
   ]
  },
  {
   "cell_type": "code",
   "execution_count": 31,
   "id": "f84f73a2",
   "metadata": {
    "execution": {
     "iopub.execute_input": "2025-07-30T12:55:21.344347Z",
     "iopub.status.busy": "2025-07-30T12:55:21.343925Z",
     "iopub.status.idle": "2025-07-30T12:55:21.350796Z",
     "shell.execute_reply": "2025-07-30T12:55:21.349780Z"
    },
    "papermill": {
     "duration": 0.05728,
     "end_time": "2025-07-30T12:55:21.353874",
     "exception": false,
     "start_time": "2025-07-30T12:55:21.296594",
     "status": "completed"
    },
    "tags": []
   },
   "outputs": [],
   "source": [
    "from utils import flatten_once\n",
    "\n",
    "excluded_features_columns = flatten_once(excluded_features_columns)"
   ]
  },
  {
   "cell_type": "code",
   "execution_count": 32,
   "id": "884dea22",
   "metadata": {
    "execution": {
     "iopub.execute_input": "2025-07-30T12:55:21.456896Z",
     "iopub.status.busy": "2025-07-30T12:55:21.456484Z",
     "iopub.status.idle": "2025-07-30T12:55:21.477896Z",
     "shell.execute_reply": "2025-07-30T12:55:21.476841Z"
    },
    "papermill": {
     "duration": 0.079429,
     "end_time": "2025-07-30T12:55:21.479900",
     "exception": false,
     "start_time": "2025-07-30T12:55:21.400471",
     "status": "completed"
    },
    "tags": []
   },
   "outputs": [
    {
     "name": "stdout",
     "output_type": "stream",
     "text": [
      "Dropping features: ['frau1']\n"
     ]
    }
   ],
   "source": [
    "if len(excluded_features_columns) > 0:\n",
    "    print(f\"Dropping features: {excluded_features_columns}\")\n",
    "    X_train.drop(excluded_features_columns, axis=1, inplace=True)"
   ]
  },
  {
   "cell_type": "code",
   "execution_count": 33,
   "id": "95ab8b16",
   "metadata": {
    "execution": {
     "iopub.execute_input": "2025-07-30T12:55:21.626656Z",
     "iopub.status.busy": "2025-07-30T12:55:21.626115Z",
     "iopub.status.idle": "2025-07-30T12:55:21.746833Z",
     "shell.execute_reply": "2025-07-30T12:55:21.744662Z"
    },
    "papermill": {
     "duration": 0.216,
     "end_time": "2025-07-30T12:55:21.749009",
     "exception": false,
     "start_time": "2025-07-30T12:55:21.533009",
     "status": "completed"
    },
    "tags": []
   },
   "outputs": [
    {
     "name": "stdout",
     "output_type": "stream",
     "text": [
      "Dropping features: ['frau1']\n"
     ]
    }
   ],
   "source": [
    "if len(excluded_features_columns) > 0:\n",
    "    print(f\"Dropping features: {excluded_features_columns}\")\n",
    "    X_test.drop(excluded_features_columns, axis=1, inplace=True)"
   ]
  },
  {
   "cell_type": "code",
   "execution_count": 34,
   "id": "1853aaf5-fb9f-46cb-a2b5-8ea4ae2237e4",
   "metadata": {
    "execution": {
     "iopub.execute_input": "2025-07-30T12:55:21.918818Z",
     "iopub.status.busy": "2025-07-30T12:55:21.918405Z",
     "iopub.status.idle": "2025-07-30T12:55:22.114872Z",
     "shell.execute_reply": "2025-07-30T12:55:22.113329Z"
    },
    "papermill": {
     "duration": 0.268779,
     "end_time": "2025-07-30T12:55:22.116953",
     "exception": false,
     "start_time": "2025-07-30T12:55:21.848174",
     "status": "completed"
    },
    "tags": []
   },
   "outputs": [
    {
     "name": "stdout",
     "output_type": "stream",
     "text": [
      "Dropping features: ['frau1']\n"
     ]
    }
   ],
   "source": [
    "if len(excluded_features_columns) > 0:\n",
    "    print(f\"Dropping features: {excluded_features_columns}\")\n",
    "    X_calib.drop(excluded_features_columns, axis=1, inplace=True)"
   ]
  },
  {
   "cell_type": "code",
   "execution_count": 35,
   "id": "6727d079-03e5-481e-9d38-292a90b7a0a8",
   "metadata": {
    "execution": {
     "iopub.execute_input": "2025-07-30T12:55:22.302171Z",
     "iopub.status.busy": "2025-07-30T12:55:22.301772Z",
     "iopub.status.idle": "2025-07-30T12:55:22.306866Z",
     "shell.execute_reply": "2025-07-30T12:55:22.305891Z"
    },
    "papermill": {
     "duration": 0.091987,
     "end_time": "2025-07-30T12:55:22.308665",
     "exception": false,
     "start_time": "2025-07-30T12:55:22.216678",
     "status": "completed"
    },
    "tags": []
   },
   "outputs": [],
   "source": [
    "# SPLIT & STRATIFY DATA\n",
    "# ----------------------"
   ]
  },
  {
   "cell_type": "code",
   "execution_count": 36,
   "id": "76c4dc6d",
   "metadata": {
    "execution": {
     "iopub.execute_input": "2025-07-30T12:55:22.430180Z",
     "iopub.status.busy": "2025-07-30T12:55:22.429735Z",
     "iopub.status.idle": "2025-07-30T12:55:22.435748Z",
     "shell.execute_reply": "2025-07-30T12:55:22.434755Z"
    },
    "papermill": {
     "duration": 0.069904,
     "end_time": "2025-07-30T12:55:22.438701",
     "exception": false,
     "start_time": "2025-07-30T12:55:22.368797",
     "status": "completed"
    },
    "tags": []
   },
   "outputs": [],
   "source": [
    "# EXCLUDE CERTAIN SUBGROUPS\n",
    "# ----------------------\n",
    "\n",
    "mode = universe.get(\"exclude_subgroups\", \"keep-all\") \n",
    "# Fetches the exclude_subgroups setting from the universe dict.\n",
    "# Defaults to \"keep-all\" if the key is missing."
   ]
  },
  {
   "cell_type": "code",
   "execution_count": 37,
   "id": "21994072",
   "metadata": {
    "execution": {
     "iopub.execute_input": "2025-07-30T12:55:22.582374Z",
     "iopub.status.busy": "2025-07-30T12:55:22.581959Z",
     "iopub.status.idle": "2025-07-30T12:55:22.589501Z",
     "shell.execute_reply": "2025-07-30T12:55:22.588568Z"
    },
    "papermill": {
     "duration": 0.087338,
     "end_time": "2025-07-30T12:55:22.597150",
     "exception": false,
     "start_time": "2025-07-30T12:55:22.509812",
     "status": "completed"
    },
    "tags": []
   },
   "outputs": [],
   "source": [
    "if mode == \"keep-all\":\n",
    "    keep_mask = pd.Series(True, index=org_train.index)\n",
    "\n",
    "# org_train contains the original feature columns from features_org (in Simson)\n",
    "# features_org contains unprocessed features, for me X_train at beginning ???\n",
    "# For keep-all, creates a boolean Series (keep_mask) of all True, so no rows are removed.\n",
    "\n",
    "elif mode == \"drop-non-german\":\n",
    "    keep_mask = org_train[\"maxdeutsch1\"] == 1 # ??? what about missing values?\n",
    "\n",
    "else:\n",
    "    raise ValueError(f\"Unsupported mode for exclude_subgroups: {mode}\")\n"
   ]
  },
  {
   "cell_type": "code",
   "execution_count": 38,
   "id": "71651440",
   "metadata": {
    "execution": {
     "iopub.execute_input": "2025-07-30T12:55:22.752726Z",
     "iopub.status.busy": "2025-07-30T12:55:22.752326Z",
     "iopub.status.idle": "2025-07-30T12:55:22.759547Z",
     "shell.execute_reply": "2025-07-30T12:55:22.758678Z"
    },
    "papermill": {
     "duration": 0.089668,
     "end_time": "2025-07-30T12:55:22.763774",
     "exception": false,
     "start_time": "2025-07-30T12:55:22.674106",
     "status": "completed"
    },
    "tags": []
   },
   "outputs": [
    {
     "name": "stdout",
     "output_type": "stream",
     "text": [
      "Dropping 3688 rows (14.75%) where mode='drop-non-german'\n"
     ]
    }
   ],
   "source": [
    "n_drop = (~keep_mask).sum() # Calculates how many rows are set to be dropped\n",
    "if n_drop > 0:\n",
    "    pct = n_drop / len(keep_mask) * 100\n",
    "    print(f\"Dropping {n_drop} rows ({pct:.2f}%) where mode='{mode}'\")"
   ]
  },
  {
   "cell_type": "code",
   "execution_count": 39,
   "id": "5fb8eee5",
   "metadata": {
    "execution": {
     "iopub.execute_input": "2025-07-30T12:55:22.907257Z",
     "iopub.status.busy": "2025-07-30T12:55:22.906764Z",
     "iopub.status.idle": "2025-07-30T12:55:22.922818Z",
     "shell.execute_reply": "2025-07-30T12:55:22.921720Z"
    },
    "papermill": {
     "duration": 0.072185,
     "end_time": "2025-07-30T12:55:22.924525",
     "exception": false,
     "start_time": "2025-07-30T12:55:22.852340",
     "status": "completed"
    },
    "tags": []
   },
   "outputs": [],
   "source": [
    "X_train = X_train[keep_mask]"
   ]
  },
  {
   "cell_type": "code",
   "execution_count": 40,
   "id": "b202bb3a",
   "metadata": {
    "execution": {
     "iopub.execute_input": "2025-07-30T12:55:23.047730Z",
     "iopub.status.busy": "2025-07-30T12:55:23.047301Z",
     "iopub.status.idle": "2025-07-30T12:55:23.055443Z",
     "shell.execute_reply": "2025-07-30T12:55:23.054315Z"
    },
    "papermill": {
     "duration": 0.083029,
     "end_time": "2025-07-30T12:55:23.057685",
     "exception": false,
     "start_time": "2025-07-30T12:55:22.974656",
     "status": "completed"
    },
    "tags": []
   },
   "outputs": [],
   "source": [
    "y_train = y_train[keep_mask]"
   ]
  },
  {
   "cell_type": "markdown",
   "id": "493e2ac3",
   "metadata": {
    "papermill": {
     "duration": 0.039934,
     "end_time": "2025-07-30T12:55:23.160684",
     "exception": false,
     "start_time": "2025-07-30T12:55:23.120750",
     "status": "completed"
    },
    "tags": []
   },
   "source": [
    "# Model Training"
   ]
  },
  {
   "cell_type": "code",
   "execution_count": 41,
   "id": "679e1268",
   "metadata": {
    "execution": {
     "iopub.execute_input": "2025-07-30T12:55:23.224958Z",
     "iopub.status.busy": "2025-07-30T12:55:23.224488Z",
     "iopub.status.idle": "2025-07-30T12:55:23.422711Z",
     "shell.execute_reply": "2025-07-30T12:55:23.421550Z"
    },
    "papermill": {
     "duration": 0.230613,
     "end_time": "2025-07-30T12:55:23.424484",
     "exception": false,
     "start_time": "2025-07-30T12:55:23.193871",
     "status": "completed"
    },
    "tags": []
   },
   "outputs": [],
   "source": [
    "from sklearn.linear_model import LogisticRegression\n",
    "from sklearn.ensemble import GradientBoostingClassifier, RandomForestClassifier\n",
    "\n",
    "if (universe[\"model\"] == \"logreg\"):\n",
    "    model = LogisticRegression() #penalty=\"none\") #, solver=\"newton-cg\", max_iter=1) # include random_state=19 ?\n",
    "elif (universe[\"model\"] == \"penalized_logreg\"):\n",
    "    model = LogisticRegression(penalty=\"l2\", C=1.0) #, solver=\"newton-cg\", max_iter=1)\n",
    "elif (universe[\"model\"] == \"rf\"):\n",
    "    model = RandomForestClassifier(n_estimators=100, n_jobs=-1)\n",
    "elif (universe[\"model\"] == \"gbm\"):\n",
    "    model = GradientBoostingClassifier()\n",
    "elif (universe[\"model\"] == \"elasticnet\"):\n",
    "    model = LogisticRegression(penalty = 'elasticnet', solver = 'saga', l1_ratio = 0.5, max_iter=5000) # which solver to use?\n",
    "else:\n",
    "    raise \"Unsupported universe.model\""
   ]
  },
  {
   "cell_type": "code",
   "execution_count": 42,
   "id": "0cc8f744",
   "metadata": {
    "execution": {
     "iopub.execute_input": "2025-07-30T12:55:23.562184Z",
     "iopub.status.busy": "2025-07-30T12:55:23.561796Z",
     "iopub.status.idle": "2025-07-30T12:55:23.570729Z",
     "shell.execute_reply": "2025-07-30T12:55:23.569774Z"
    },
    "papermill": {
     "duration": 0.068214,
     "end_time": "2025-07-30T12:55:23.572586",
     "exception": false,
     "start_time": "2025-07-30T12:55:23.504372",
     "status": "completed"
    },
    "tags": []
   },
   "outputs": [],
   "source": [
    "import numpy as np\n",
    "from sklearn.pipeline import Pipeline\n",
    "from sklearn.preprocessing import StandardScaler\n",
    "\n",
    "model = Pipeline([\n",
    "    #(\"continuous_processor\", continuous_processor),\n",
    "    #(\"categorical_preprocessor\", categorical_preprocessor),\n",
    "    (\"scale\", StandardScaler() if universe[\"scale\"] == \"scale\" else None), \n",
    "    (\"model\", model),\n",
    "])"
   ]
  },
  {
   "cell_type": "code",
   "execution_count": 43,
   "id": "9442c04d",
   "metadata": {
    "execution": {
     "iopub.execute_input": "2025-07-30T12:55:23.689270Z",
     "iopub.status.busy": "2025-07-30T12:55:23.688785Z",
     "iopub.status.idle": "2025-07-30T12:55:27.345181Z",
     "shell.execute_reply": "2025-07-30T12:55:27.344180Z"
    },
    "papermill": {
     "duration": 3.742568,
     "end_time": "2025-07-30T12:55:27.346891",
     "exception": false,
     "start_time": "2025-07-30T12:55:23.604323",
     "status": "completed"
    },
    "tags": []
   },
   "outputs": [
    {
     "data": {
      "text/html": [
       "<style>#sk-container-id-1 {color: black;background-color: white;}#sk-container-id-1 pre{padding: 0;}#sk-container-id-1 div.sk-toggleable {background-color: white;}#sk-container-id-1 label.sk-toggleable__label {cursor: pointer;display: block;width: 100%;margin-bottom: 0;padding: 0.3em;box-sizing: border-box;text-align: center;}#sk-container-id-1 label.sk-toggleable__label-arrow:before {content: \"▸\";float: left;margin-right: 0.25em;color: #696969;}#sk-container-id-1 label.sk-toggleable__label-arrow:hover:before {color: black;}#sk-container-id-1 div.sk-estimator:hover label.sk-toggleable__label-arrow:before {color: black;}#sk-container-id-1 div.sk-toggleable__content {max-height: 0;max-width: 0;overflow: hidden;text-align: left;background-color: #f0f8ff;}#sk-container-id-1 div.sk-toggleable__content pre {margin: 0.2em;color: black;border-radius: 0.25em;background-color: #f0f8ff;}#sk-container-id-1 input.sk-toggleable__control:checked~div.sk-toggleable__content {max-height: 200px;max-width: 100%;overflow: auto;}#sk-container-id-1 input.sk-toggleable__control:checked~label.sk-toggleable__label-arrow:before {content: \"▾\";}#sk-container-id-1 div.sk-estimator input.sk-toggleable__control:checked~label.sk-toggleable__label {background-color: #d4ebff;}#sk-container-id-1 div.sk-label input.sk-toggleable__control:checked~label.sk-toggleable__label {background-color: #d4ebff;}#sk-container-id-1 input.sk-hidden--visually {border: 0;clip: rect(1px 1px 1px 1px);clip: rect(1px, 1px, 1px, 1px);height: 1px;margin: -1px;overflow: hidden;padding: 0;position: absolute;width: 1px;}#sk-container-id-1 div.sk-estimator {font-family: monospace;background-color: #f0f8ff;border: 1px dotted black;border-radius: 0.25em;box-sizing: border-box;margin-bottom: 0.5em;}#sk-container-id-1 div.sk-estimator:hover {background-color: #d4ebff;}#sk-container-id-1 div.sk-parallel-item::after {content: \"\";width: 100%;border-bottom: 1px solid gray;flex-grow: 1;}#sk-container-id-1 div.sk-label:hover label.sk-toggleable__label {background-color: #d4ebff;}#sk-container-id-1 div.sk-serial::before {content: \"\";position: absolute;border-left: 1px solid gray;box-sizing: border-box;top: 0;bottom: 0;left: 50%;z-index: 0;}#sk-container-id-1 div.sk-serial {display: flex;flex-direction: column;align-items: center;background-color: white;padding-right: 0.2em;padding-left: 0.2em;position: relative;}#sk-container-id-1 div.sk-item {position: relative;z-index: 1;}#sk-container-id-1 div.sk-parallel {display: flex;align-items: stretch;justify-content: center;background-color: white;position: relative;}#sk-container-id-1 div.sk-item::before, #sk-container-id-1 div.sk-parallel-item::before {content: \"\";position: absolute;border-left: 1px solid gray;box-sizing: border-box;top: 0;bottom: 0;left: 50%;z-index: -1;}#sk-container-id-1 div.sk-parallel-item {display: flex;flex-direction: column;z-index: 1;position: relative;background-color: white;}#sk-container-id-1 div.sk-parallel-item:first-child::after {align-self: flex-end;width: 50%;}#sk-container-id-1 div.sk-parallel-item:last-child::after {align-self: flex-start;width: 50%;}#sk-container-id-1 div.sk-parallel-item:only-child::after {width: 0;}#sk-container-id-1 div.sk-dashed-wrapped {border: 1px dashed gray;margin: 0 0.4em 0.5em 0.4em;box-sizing: border-box;padding-bottom: 0.4em;background-color: white;}#sk-container-id-1 div.sk-label label {font-family: monospace;font-weight: bold;display: inline-block;line-height: 1.2em;}#sk-container-id-1 div.sk-label-container {text-align: center;}#sk-container-id-1 div.sk-container {/* jupyter's `normalize.less` sets `[hidden] { display: none; }` but bootstrap.min.css set `[hidden] { display: none !important; }` so we also need the `!important` here to be able to override the default hidden behavior on the sphinx rendered scikit-learn.org. See: https://github.com/scikit-learn/scikit-learn/issues/21755 */display: inline-block !important;position: relative;}#sk-container-id-1 div.sk-text-repr-fallback {display: none;}</style><div id=\"sk-container-id-1\" class=\"sk-top-container\"><div class=\"sk-text-repr-fallback\"><pre>Pipeline(steps=[(&#x27;scale&#x27;, None), (&#x27;model&#x27;, RandomForestClassifier(n_jobs=-1))])</pre><b>In a Jupyter environment, please rerun this cell to show the HTML representation or trust the notebook. <br />On GitHub, the HTML representation is unable to render, please try loading this page with nbviewer.org.</b></div><div class=\"sk-container\" hidden><div class=\"sk-item sk-dashed-wrapped\"><div class=\"sk-label-container\"><div class=\"sk-label sk-toggleable\"><input class=\"sk-toggleable__control sk-hidden--visually\" id=\"sk-estimator-id-1\" type=\"checkbox\" ><label for=\"sk-estimator-id-1\" class=\"sk-toggleable__label sk-toggleable__label-arrow\">Pipeline</label><div class=\"sk-toggleable__content\"><pre>Pipeline(steps=[(&#x27;scale&#x27;, None), (&#x27;model&#x27;, RandomForestClassifier(n_jobs=-1))])</pre></div></div></div><div class=\"sk-serial\"><div class=\"sk-item\"><div class=\"sk-estimator sk-toggleable\"><input class=\"sk-toggleable__control sk-hidden--visually\" id=\"sk-estimator-id-2\" type=\"checkbox\" ><label for=\"sk-estimator-id-2\" class=\"sk-toggleable__label sk-toggleable__label-arrow\">None</label><div class=\"sk-toggleable__content\"><pre>None</pre></div></div></div><div class=\"sk-item\"><div class=\"sk-estimator sk-toggleable\"><input class=\"sk-toggleable__control sk-hidden--visually\" id=\"sk-estimator-id-3\" type=\"checkbox\" ><label for=\"sk-estimator-id-3\" class=\"sk-toggleable__label sk-toggleable__label-arrow\">RandomForestClassifier</label><div class=\"sk-toggleable__content\"><pre>RandomForestClassifier(n_jobs=-1)</pre></div></div></div></div></div></div></div>"
      ],
      "text/plain": [
       "Pipeline(steps=[('scale', None), ('model', RandomForestClassifier(n_jobs=-1))])"
      ]
     },
     "execution_count": 43,
     "metadata": {},
     "output_type": "execute_result"
    }
   ],
   "source": [
    "model.fit(X_train, y_train.values.ravel())"
   ]
  },
  {
   "cell_type": "code",
   "execution_count": 44,
   "id": "af59f8c0",
   "metadata": {
    "execution": {
     "iopub.execute_input": "2025-07-30T12:55:27.439405Z",
     "iopub.status.busy": "2025-07-30T12:55:27.439018Z",
     "iopub.status.idle": "2025-07-30T12:55:27.444239Z",
     "shell.execute_reply": "2025-07-30T12:55:27.443262Z"
    },
    "papermill": {
     "duration": 0.07028,
     "end_time": "2025-07-30T12:55:27.450148",
     "exception": false,
     "start_time": "2025-07-30T12:55:27.379868",
     "status": "completed"
    },
    "tags": []
   },
   "outputs": [],
   "source": [
    "from fairness_multiverse.universe import predict_w_threshold"
   ]
  },
  {
   "cell_type": "code",
   "execution_count": 45,
   "id": "a7cf2e16",
   "metadata": {
    "execution": {
     "iopub.execute_input": "2025-07-30T12:55:27.540387Z",
     "iopub.status.busy": "2025-07-30T12:55:27.539981Z",
     "iopub.status.idle": "2025-07-30T12:55:28.636471Z",
     "shell.execute_reply": "2025-07-30T12:55:28.635297Z"
    },
    "papermill": {
     "duration": 1.125659,
     "end_time": "2025-07-30T12:55:28.638248",
     "exception": false,
     "start_time": "2025-07-30T12:55:27.512589",
     "status": "completed"
    },
    "tags": []
   },
   "outputs": [
    {
     "data": {
      "text/plain": [
       "0.8636718314569167"
      ]
     },
     "execution_count": 45,
     "metadata": {},
     "output_type": "execute_result"
    }
   ],
   "source": [
    "probs_test = model.predict_proba(X_test)\n",
    "\n",
    "'''\n",
    "Below code returns a boolean array (or binary 0/1 array depending on how it’s used) where each element \n",
    "is True if the probability of class 1 is greater than or equal to the threshold, and False otherwise.\n",
    "'''\n",
    "y_pred_default = predict_w_threshold(probs_test, 0.5)\n",
    "\n",
    "from sklearn.metrics import accuracy_score\n",
    "\n",
    "# Naive prediction\n",
    "accuracy_score(y_true = y_true, y_pred = y_pred_default)"
   ]
  },
  {
   "cell_type": "code",
   "execution_count": 46,
   "id": "081964c3",
   "metadata": {
    "execution": {
     "iopub.execute_input": "2025-07-30T12:55:28.691635Z",
     "iopub.status.busy": "2025-07-30T12:55:28.690769Z",
     "iopub.status.idle": "2025-07-30T12:55:29.617969Z",
     "shell.execute_reply": "2025-07-30T12:55:29.616813Z"
    },
    "papermill": {
     "duration": 0.955309,
     "end_time": "2025-07-30T12:55:29.621007",
     "exception": false,
     "start_time": "2025-07-30T12:55:28.665698",
     "status": "completed"
    },
    "tags": []
   },
   "outputs": [
    {
     "data": {
      "text/plain": [
       "array([0, 0, 0, ..., 0, 0, 0])"
      ]
     },
     "execution_count": 46,
     "metadata": {},
     "output_type": "execute_result"
    }
   ],
   "source": [
    "model.predict(X_test)"
   ]
  },
  {
   "cell_type": "markdown",
   "id": "56c9705b",
   "metadata": {
    "papermill": {
     "duration": 0.08748,
     "end_time": "2025-07-30T12:55:29.784954",
     "exception": false,
     "start_time": "2025-07-30T12:55:29.697474",
     "status": "completed"
    },
    "tags": []
   },
   "source": [
    "# Conformal Prediction"
   ]
  },
  {
   "cell_type": "code",
   "execution_count": 47,
   "id": "160ec6ff",
   "metadata": {
    "execution": {
     "iopub.execute_input": "2025-07-30T12:55:29.891205Z",
     "iopub.status.busy": "2025-07-30T12:55:29.890229Z",
     "iopub.status.idle": "2025-07-30T12:55:29.896293Z",
     "shell.execute_reply": "2025-07-30T12:55:29.895058Z"
    },
    "papermill": {
     "duration": 0.065881,
     "end_time": "2025-07-30T12:55:29.906541",
     "exception": false,
     "start_time": "2025-07-30T12:55:29.840660",
     "status": "completed"
    },
    "tags": []
   },
   "outputs": [],
   "source": [
    "# Miscoverage level for conformal prediction (10% allowed error rate => 90% target coverage)\n",
    "alpha = 0.1"
   ]
  },
  {
   "cell_type": "code",
   "execution_count": 48,
   "id": "eadf4555-3dd3-440e-8e35-f82a4ad9f855",
   "metadata": {
    "execution": {
     "iopub.execute_input": "2025-07-30T12:55:29.989055Z",
     "iopub.status.busy": "2025-07-30T12:55:29.988646Z",
     "iopub.status.idle": "2025-07-30T12:55:31.501410Z",
     "shell.execute_reply": "2025-07-30T12:55:31.500386Z"
    },
    "papermill": {
     "duration": 1.54675,
     "end_time": "2025-07-30T12:55:31.503472",
     "exception": false,
     "start_time": "2025-07-30T12:55:29.956722",
     "status": "completed"
    },
    "tags": []
   },
   "outputs": [],
   "source": [
    "probs_calib = model.predict_proba(X_calib)"
   ]
  },
  {
   "cell_type": "code",
   "execution_count": 49,
   "id": "2ed93547-6d5d-4983-9b36-1ecb300da49a",
   "metadata": {
    "execution": {
     "iopub.execute_input": "2025-07-30T12:55:31.642178Z",
     "iopub.status.busy": "2025-07-30T12:55:31.641705Z",
     "iopub.status.idle": "2025-07-30T12:55:31.648200Z",
     "shell.execute_reply": "2025-07-30T12:55:31.646984Z"
    },
    "papermill": {
     "duration": 0.081026,
     "end_time": "2025-07-30T12:55:31.649676",
     "exception": false,
     "start_time": "2025-07-30T12:55:31.568650",
     "status": "completed"
    },
    "tags": []
   },
   "outputs": [],
   "source": [
    "y_calib = y_calib.values.ravel().astype(int)"
   ]
  },
  {
   "cell_type": "code",
   "execution_count": 50,
   "id": "65d1320d-f588-4b38-9072-62af1ae97f7d",
   "metadata": {
    "execution": {
     "iopub.execute_input": "2025-07-30T12:55:31.698538Z",
     "iopub.status.busy": "2025-07-30T12:55:31.698106Z",
     "iopub.status.idle": "2025-07-30T12:55:31.707026Z",
     "shell.execute_reply": "2025-07-30T12:55:31.705921Z"
    },
    "papermill": {
     "duration": 0.034864,
     "end_time": "2025-07-30T12:55:31.708910",
     "exception": false,
     "start_time": "2025-07-30T12:55:31.674046",
     "status": "completed"
    },
    "tags": []
   },
   "outputs": [],
   "source": [
    "from fairness_multiverse.conformal import compute_nc_scores\n",
    "\n",
    "# Compute nonconformity scores on calibration set (1 - probability of true class)\n",
    "nc_scores = compute_nc_scores(probs_calib, y_calib)"
   ]
  },
  {
   "cell_type": "code",
   "execution_count": 51,
   "id": "df3b8ca3-53b7-43d5-9667-7c85da7aeda2",
   "metadata": {
    "execution": {
     "iopub.execute_input": "2025-07-30T12:55:31.771221Z",
     "iopub.status.busy": "2025-07-30T12:55:31.770828Z",
     "iopub.status.idle": "2025-07-30T12:55:31.778341Z",
     "shell.execute_reply": "2025-07-30T12:55:31.777410Z"
    },
    "papermill": {
     "duration": 0.045874,
     "end_time": "2025-07-30T12:55:31.781126",
     "exception": false,
     "start_time": "2025-07-30T12:55:31.735252",
     "status": "completed"
    },
    "tags": []
   },
   "outputs": [],
   "source": [
    "from fairness_multiverse.conformal import find_threshold\n",
    "\n",
    "# Find conformal threshold q_hat for the given alpha (split conformal method)\n",
    "q_hat = find_threshold(nc_scores, alpha)"
   ]
  },
  {
   "cell_type": "code",
   "execution_count": 52,
   "id": "4d29e6c1-0ef6-4aa4-b8fe-4fe79b0d033a",
   "metadata": {
    "execution": {
     "iopub.execute_input": "2025-07-30T12:55:31.846684Z",
     "iopub.status.busy": "2025-07-30T12:55:31.846262Z",
     "iopub.status.idle": "2025-07-30T12:55:31.855324Z",
     "shell.execute_reply": "2025-07-30T12:55:31.854306Z"
    },
    "papermill": {
     "duration": 0.0513,
     "end_time": "2025-07-30T12:55:31.858582",
     "exception": false,
     "start_time": "2025-07-30T12:55:31.807282",
     "status": "completed"
    },
    "tags": []
   },
   "outputs": [
    {
     "data": {
      "text/plain": [
       "0.6599999999999999"
      ]
     },
     "execution_count": 52,
     "metadata": {},
     "output_type": "execute_result"
    }
   ],
   "source": [
    "q_hat"
   ]
  },
  {
   "cell_type": "code",
   "execution_count": 53,
   "id": "92460794-cdac-4be2-ba28-f28c0515a6fb",
   "metadata": {
    "execution": {
     "iopub.execute_input": "2025-07-30T12:55:31.962451Z",
     "iopub.status.busy": "2025-07-30T12:55:31.962003Z",
     "iopub.status.idle": "2025-07-30T12:55:34.005513Z",
     "shell.execute_reply": "2025-07-30T12:55:34.004302Z"
    },
    "papermill": {
     "duration": 2.08798,
     "end_time": "2025-07-30T12:55:34.007431",
     "exception": false,
     "start_time": "2025-07-30T12:55:31.919451",
     "status": "completed"
    },
    "tags": []
   },
   "outputs": [],
   "source": [
    "from fairness_multiverse.conformal import predict_conformal_sets\n",
    "\n",
    "# Generate prediction sets for each test example\n",
    "pred_sets = predict_conformal_sets(model, X_test, q_hat)"
   ]
  },
  {
   "cell_type": "code",
   "execution_count": 54,
   "id": "d90c9a65-e6db-4f5d-80cd-e68fb7e46829",
   "metadata": {
    "execution": {
     "iopub.execute_input": "2025-07-30T12:55:34.111032Z",
     "iopub.status.busy": "2025-07-30T12:55:34.110117Z",
     "iopub.status.idle": "2025-07-30T12:55:34.115670Z",
     "shell.execute_reply": "2025-07-30T12:55:34.114812Z"
    },
    "papermill": {
     "duration": 0.057431,
     "end_time": "2025-07-30T12:55:34.117724",
     "exception": false,
     "start_time": "2025-07-30T12:55:34.060293",
     "status": "completed"
    },
    "tags": []
   },
   "outputs": [],
   "source": [
    "y_true = y_true.squeeze()"
   ]
  },
  {
   "cell_type": "code",
   "execution_count": 55,
   "id": "3a58a54a-1e68-46b9-927a-df01f18aebc8",
   "metadata": {
    "execution": {
     "iopub.execute_input": "2025-07-30T12:55:34.160666Z",
     "iopub.status.busy": "2025-07-30T12:55:34.160184Z",
     "iopub.status.idle": "2025-07-30T12:55:35.394375Z",
     "shell.execute_reply": "2025-07-30T12:55:35.393086Z"
    },
    "papermill": {
     "duration": 1.260015,
     "end_time": "2025-07-30T12:55:35.396568",
     "exception": false,
     "start_time": "2025-07-30T12:55:34.136553",
     "status": "completed"
    },
    "tags": []
   },
   "outputs": [],
   "source": [
    "from fairness_multiverse.conformal import evaluate_sets\n",
    "\n",
    "# Evaluate coverage and average set size on test data\n",
    "metrics = evaluate_sets(pred_sets, y_true)"
   ]
  },
  {
   "cell_type": "markdown",
   "id": "2b569c12-9aaa-4c88-98c9-bbcd0cf3ebb8",
   "metadata": {
    "papermill": {
     "duration": 0.040251,
     "end_time": "2025-07-30T12:55:35.465047",
     "exception": false,
     "start_time": "2025-07-30T12:55:35.424796",
     "status": "completed"
    },
    "tags": []
   },
   "source": [
    "# CP Metrics"
   ]
  },
  {
   "cell_type": "code",
   "execution_count": 56,
   "id": "5ce0a5cb-201f-45a0-ade5-94c7f0bd6095",
   "metadata": {
    "execution": {
     "iopub.execute_input": "2025-07-30T12:55:35.532194Z",
     "iopub.status.busy": "2025-07-30T12:55:35.531229Z",
     "iopub.status.idle": "2025-07-30T12:55:35.538713Z",
     "shell.execute_reply": "2025-07-30T12:55:35.537793Z"
    },
    "papermill": {
     "duration": 0.036854,
     "end_time": "2025-07-30T12:55:35.542819",
     "exception": false,
     "start_time": "2025-07-30T12:55:35.505965",
     "status": "completed"
    },
    "tags": []
   },
   "outputs": [
    {
     "data": {
      "text/plain": [
       "{'coverage': 0.9132984059748077, 'avg_size': 1.1428826217812953}"
      ]
     },
     "execution_count": 56,
     "metadata": {},
     "output_type": "execute_result"
    }
   ],
   "source": [
    "metrics"
   ]
  },
  {
   "cell_type": "code",
   "execution_count": 57,
   "id": "9b9a838d-31c9-430b-ae14-12baee460d17",
   "metadata": {
    "execution": {
     "iopub.execute_input": "2025-07-30T12:55:35.594269Z",
     "iopub.status.busy": "2025-07-30T12:55:35.593882Z",
     "iopub.status.idle": "2025-07-30T12:55:35.601294Z",
     "shell.execute_reply": "2025-07-30T12:55:35.600326Z"
    },
    "papermill": {
     "duration": 0.035849,
     "end_time": "2025-07-30T12:55:35.603392",
     "exception": false,
     "start_time": "2025-07-30T12:55:35.567543",
     "status": "completed"
    },
    "tags": []
   },
   "outputs": [],
   "source": [
    "example_universe = universe.copy()\n",
    "universe_training_size = example_universe.get(\"training_size\")\n",
    "universe_scale = example_universe.get(\"scale\")\n",
    "universe_model = example_universe.get(\"model\")\n",
    "universe_exclude_features = example_universe.get(\"exclude_features\")\n",
    "universe_exclude_subgroups = example_universe.get(\"exclude_subgroups\")"
   ]
  },
  {
   "cell_type": "code",
   "execution_count": 58,
   "id": "f4b6a8ac-9dc0-4245-8a91-5b3b5999c4f9",
   "metadata": {
    "execution": {
     "iopub.execute_input": "2025-07-30T12:55:35.717250Z",
     "iopub.status.busy": "2025-07-30T12:55:35.716816Z",
     "iopub.status.idle": "2025-07-30T12:55:35.723995Z",
     "shell.execute_reply": "2025-07-30T12:55:35.723015Z"
    },
    "papermill": {
     "duration": 0.054145,
     "end_time": "2025-07-30T12:55:35.726860",
     "exception": false,
     "start_time": "2025-07-30T12:55:35.672715",
     "status": "completed"
    },
    "tags": []
   },
   "outputs": [],
   "source": [
    "cp_metrics_dict = {\n",
    "    \"universe_id\": [universe_id],\n",
    "    \"universe_training_size\": [universe_training_size],\n",
    "    \"universe_scale\": [universe_scale],\n",
    "    \"universe_model\": [universe_model],\n",
    "    \"universe_exclude_features\": [universe_exclude_features],\n",
    "    \"universe_exclude_subgroups\": [universe_exclude_subgroups],\n",
    "    \"q_hat\": [q_hat],\n",
    "    \"coverage\": [metrics[\"coverage\"]],\n",
    "    \"avg_size\": [metrics[\"avg_size\"]],\n",
    "}"
   ]
  },
  {
   "cell_type": "code",
   "execution_count": 59,
   "id": "908acbb1-0371-4915-85ca-3fa520d2efe2",
   "metadata": {
    "execution": {
     "iopub.execute_input": "2025-07-30T12:55:35.858518Z",
     "iopub.status.busy": "2025-07-30T12:55:35.858095Z",
     "iopub.status.idle": "2025-07-30T12:55:35.867198Z",
     "shell.execute_reply": "2025-07-30T12:55:35.866238Z"
    },
    "papermill": {
     "duration": 0.082386,
     "end_time": "2025-07-30T12:55:35.870644",
     "exception": false,
     "start_time": "2025-07-30T12:55:35.788258",
     "status": "completed"
    },
    "tags": []
   },
   "outputs": [
    {
     "data": {
      "text/plain": [
       "{'universe_id': ['8b9dcadb7f741fbaac266164642ddf46'],\n",
       " 'universe_training_size': ['25k'],\n",
       " 'universe_scale': ['do-not-scale'],\n",
       " 'universe_model': ['rf'],\n",
       " 'universe_exclude_features': ['sex'],\n",
       " 'universe_exclude_subgroups': ['drop-non-german'],\n",
       " 'q_hat': [0.6599999999999999],\n",
       " 'coverage': [0.9132984059748077],\n",
       " 'avg_size': [1.1428826217812953]}"
      ]
     },
     "execution_count": 59,
     "metadata": {},
     "output_type": "execute_result"
    }
   ],
   "source": [
    "cp_metrics_dict"
   ]
  },
  {
   "cell_type": "code",
   "execution_count": 60,
   "id": "33007efc-14e9-4ec6-97ac-56a455c82265",
   "metadata": {
    "execution": {
     "iopub.execute_input": "2025-07-30T12:55:35.961314Z",
     "iopub.status.busy": "2025-07-30T12:55:35.960905Z",
     "iopub.status.idle": "2025-07-30T12:55:35.967699Z",
     "shell.execute_reply": "2025-07-30T12:55:35.966789Z"
    },
    "papermill": {
     "duration": 0.051317,
     "end_time": "2025-07-30T12:55:35.971029",
     "exception": false,
     "start_time": "2025-07-30T12:55:35.919712",
     "status": "completed"
    },
    "tags": []
   },
   "outputs": [],
   "source": [
    "cp_metrics_df = pd.DataFrame(cp_metrics_dict)"
   ]
  },
  {
   "cell_type": "code",
   "execution_count": 61,
   "id": "db12611b-57b2-4910-b9d0-355adfd6e7bf",
   "metadata": {
    "execution": {
     "iopub.execute_input": "2025-07-30T12:55:36.024881Z",
     "iopub.status.busy": "2025-07-30T12:55:36.024440Z",
     "iopub.status.idle": "2025-07-30T12:55:36.046261Z",
     "shell.execute_reply": "2025-07-30T12:55:36.045315Z"
    },
    "papermill": {
     "duration": 0.050568,
     "end_time": "2025-07-30T12:55:36.048123",
     "exception": false,
     "start_time": "2025-07-30T12:55:35.997555",
     "status": "completed"
    },
    "tags": []
   },
   "outputs": [
    {
     "data": {
      "text/html": [
       "<div>\n",
       "<style scoped>\n",
       "    .dataframe tbody tr th:only-of-type {\n",
       "        vertical-align: middle;\n",
       "    }\n",
       "\n",
       "    .dataframe tbody tr th {\n",
       "        vertical-align: top;\n",
       "    }\n",
       "\n",
       "    .dataframe thead th {\n",
       "        text-align: right;\n",
       "    }\n",
       "</style>\n",
       "<table border=\"1\" class=\"dataframe\">\n",
       "  <thead>\n",
       "    <tr style=\"text-align: right;\">\n",
       "      <th></th>\n",
       "      <th>universe_id</th>\n",
       "      <th>universe_training_size</th>\n",
       "      <th>universe_scale</th>\n",
       "      <th>universe_model</th>\n",
       "      <th>universe_exclude_features</th>\n",
       "      <th>universe_exclude_subgroups</th>\n",
       "      <th>q_hat</th>\n",
       "      <th>coverage</th>\n",
       "      <th>avg_size</th>\n",
       "    </tr>\n",
       "  </thead>\n",
       "  <tbody>\n",
       "    <tr>\n",
       "      <th>0</th>\n",
       "      <td>8b9dcadb7f741fbaac266164642ddf46</td>\n",
       "      <td>25k</td>\n",
       "      <td>do-not-scale</td>\n",
       "      <td>rf</td>\n",
       "      <td>sex</td>\n",
       "      <td>drop-non-german</td>\n",
       "      <td>0.66</td>\n",
       "      <td>0.913298</td>\n",
       "      <td>1.142883</td>\n",
       "    </tr>\n",
       "  </tbody>\n",
       "</table>\n",
       "</div>"
      ],
      "text/plain": [
       "                        universe_id universe_training_size universe_scale  \\\n",
       "0  8b9dcadb7f741fbaac266164642ddf46                    25k   do-not-scale   \n",
       "\n",
       "  universe_model universe_exclude_features universe_exclude_subgroups  q_hat  \\\n",
       "0             rf                       sex            drop-non-german   0.66   \n",
       "\n",
       "   coverage  avg_size  \n",
       "0  0.913298  1.142883  "
      ]
     },
     "execution_count": 61,
     "metadata": {},
     "output_type": "execute_result"
    }
   ],
   "source": [
    "cp_metrics_df"
   ]
  },
  {
   "cell_type": "code",
   "execution_count": 62,
   "id": "b7fbde55-a0a1-47e4-9af6-fe4a17fa8c61",
   "metadata": {
    "execution": {
     "iopub.execute_input": "2025-07-30T12:55:36.117544Z",
     "iopub.status.busy": "2025-07-30T12:55:36.117143Z",
     "iopub.status.idle": "2025-07-30T12:55:36.122724Z",
     "shell.execute_reply": "2025-07-30T12:55:36.121520Z"
    },
    "papermill": {
     "duration": 0.049466,
     "end_time": "2025-07-30T12:55:36.125131",
     "exception": false,
     "start_time": "2025-07-30T12:55:36.075665",
     "status": "completed"
    },
    "tags": []
   },
   "outputs": [],
   "source": [
    "# Conditional Coverage & looking at subgroups"
   ]
  },
  {
   "cell_type": "code",
   "execution_count": 63,
   "id": "027ae886-68dd-4141-96c7-805a5450e1ef",
   "metadata": {
    "execution": {
     "iopub.execute_input": "2025-07-30T12:55:36.201406Z",
     "iopub.status.busy": "2025-07-30T12:55:36.200982Z",
     "iopub.status.idle": "2025-07-30T12:55:36.477594Z",
     "shell.execute_reply": "2025-07-30T12:55:36.476331Z"
    },
    "papermill": {
     "duration": 0.316163,
     "end_time": "2025-07-30T12:55:36.492937",
     "exception": false,
     "start_time": "2025-07-30T12:55:36.176774",
     "status": "completed"
    },
    "tags": []
   },
   "outputs": [],
   "source": [
    "from fairness_multiverse.conformal import build_cp_groups\n",
    "\n",
    "cp_groups_df = build_cp_groups(pred_sets, y_true, X_test.index, org_test)\n",
    "#needs universe_id and setting"
   ]
  },
  {
   "cell_type": "code",
   "execution_count": 64,
   "id": "01d5802c-663a-4d1f-9d69-e036faaffbf7",
   "metadata": {
    "execution": {
     "iopub.execute_input": "2025-07-30T12:55:36.548762Z",
     "iopub.status.busy": "2025-07-30T12:55:36.548256Z",
     "iopub.status.idle": "2025-07-30T12:55:36.553351Z",
     "shell.execute_reply": "2025-07-30T12:55:36.552403Z"
    },
    "papermill": {
     "duration": 0.035413,
     "end_time": "2025-07-30T12:55:36.554914",
     "exception": false,
     "start_time": "2025-07-30T12:55:36.519501",
     "status": "completed"
    },
    "tags": []
   },
   "outputs": [],
   "source": [
    "#delete\n",
    "#cp_groups_df"
   ]
  },
  {
   "cell_type": "code",
   "execution_count": 65,
   "id": "fa424af1-d1eb-443d-b717-2d279ada8408",
   "metadata": {
    "execution": {
     "iopub.execute_input": "2025-07-30T12:55:36.609708Z",
     "iopub.status.busy": "2025-07-30T12:55:36.609241Z",
     "iopub.status.idle": "2025-07-30T12:55:36.614175Z",
     "shell.execute_reply": "2025-07-30T12:55:36.613322Z"
    },
    "papermill": {
     "duration": 0.034962,
     "end_time": "2025-07-30T12:55:36.615772",
     "exception": false,
     "start_time": "2025-07-30T12:55:36.580810",
     "status": "completed"
    },
    "tags": []
   },
   "outputs": [],
   "source": [
    "#delete\n",
    "#percentage = (cp_groups_df['nongerman_female'] == 1).mean() * 100\n",
    "#print(percentage)\n"
   ]
  },
  {
   "cell_type": "code",
   "execution_count": 66,
   "id": "6cbdab96-b2b2-45af-ad54-d0516db2e28d",
   "metadata": {
    "execution": {
     "iopub.execute_input": "2025-07-30T12:55:36.670977Z",
     "iopub.status.busy": "2025-07-30T12:55:36.670512Z",
     "iopub.status.idle": "2025-07-30T12:55:38.754868Z",
     "shell.execute_reply": "2025-07-30T12:55:38.753909Z"
    },
    "papermill": {
     "duration": 2.11506,
     "end_time": "2025-07-30T12:55:38.756789",
     "exception": false,
     "start_time": "2025-07-30T12:55:36.641729",
     "status": "completed"
    },
    "tags": []
   },
   "outputs": [],
   "source": [
    "# Define covered = 1 if true_label is in the predicted set\n",
    "cp_groups_df['covered'] = cp_groups_df.apply(\n",
    "    lambda r: int(r['true_label'] in r['pred_set']),\n",
    "    axis=1\n",
    ")"
   ]
  },
  {
   "cell_type": "code",
   "execution_count": 67,
   "id": "338ff529-1a6b-4b87-a931-8e4788d52aad",
   "metadata": {
    "execution": {
     "iopub.execute_input": "2025-07-30T12:55:38.816568Z",
     "iopub.status.busy": "2025-07-30T12:55:38.815846Z",
     "iopub.status.idle": "2025-07-30T12:55:38.821282Z",
     "shell.execute_reply": "2025-07-30T12:55:38.820130Z"
    },
    "papermill": {
     "duration": 0.037243,
     "end_time": "2025-07-30T12:55:38.822944",
     "exception": false,
     "start_time": "2025-07-30T12:55:38.785701",
     "status": "completed"
    },
    "tags": []
   },
   "outputs": [],
   "source": [
    "#cp_groups_df"
   ]
  },
  {
   "cell_type": "code",
   "execution_count": 68,
   "id": "90032e27-66df-4540-9169-4e89cfbaa758",
   "metadata": {
    "execution": {
     "iopub.execute_input": "2025-07-30T12:55:38.882263Z",
     "iopub.status.busy": "2025-07-30T12:55:38.881441Z",
     "iopub.status.idle": "2025-07-30T12:55:38.894956Z",
     "shell.execute_reply": "2025-07-30T12:55:38.893958Z"
    },
    "papermill": {
     "duration": 0.045449,
     "end_time": "2025-07-30T12:55:38.896835",
     "exception": false,
     "start_time": "2025-07-30T12:55:38.851386",
     "status": "completed"
    },
    "tags": []
   },
   "outputs": [],
   "source": [
    "subgroups = ['frau1','nongerman','nongerman_male','nongerman_female']\n",
    "\n",
    "# Conditional coverage for subgroup==1\n",
    "cond_coverage = {\n",
    "    g: cp_groups_df.loc[cp_groups_df[g]==1, 'covered'].mean()\n",
    "    for g in subgroups\n",
    "}"
   ]
  },
  {
   "cell_type": "code",
   "execution_count": 69,
   "id": "1e348fb1-b9c3-45bc-ba23-f016827a7e0d",
   "metadata": {
    "execution": {
     "iopub.execute_input": "2025-07-30T12:55:38.956568Z",
     "iopub.status.busy": "2025-07-30T12:55:38.955621Z",
     "iopub.status.idle": "2025-07-30T12:55:38.963601Z",
     "shell.execute_reply": "2025-07-30T12:55:38.962497Z"
    },
    "papermill": {
     "duration": 0.039534,
     "end_time": "2025-07-30T12:55:38.965446",
     "exception": false,
     "start_time": "2025-07-30T12:55:38.925912",
     "status": "completed"
    },
    "tags": []
   },
   "outputs": [
    {
     "data": {
      "text/plain": [
       "{'frau1': 0.9126566922765872,\n",
       " 'nongerman': 0.9136585639701341,\n",
       " 'nongerman_male': 0.9269566783752139,\n",
       " 'nongerman_female': 0.8916542473919523}"
      ]
     },
     "execution_count": 69,
     "metadata": {},
     "output_type": "execute_result"
    }
   ],
   "source": [
    "cond_coverage"
   ]
  },
  {
   "cell_type": "code",
   "execution_count": 70,
   "id": "f5093324-c3dd-4d63-bc4c-8d945e5c8bbb",
   "metadata": {
    "execution": {
     "iopub.execute_input": "2025-07-30T12:55:39.024235Z",
     "iopub.status.busy": "2025-07-30T12:55:39.023272Z",
     "iopub.status.idle": "2025-07-30T12:55:39.030983Z",
     "shell.execute_reply": "2025-07-30T12:55:39.030070Z"
    },
    "papermill": {
     "duration": 0.038175,
     "end_time": "2025-07-30T12:55:39.032661",
     "exception": false,
     "start_time": "2025-07-30T12:55:38.994486",
     "status": "completed"
    },
    "tags": []
   },
   "outputs": [],
   "source": [
    "for subgroup, cov in cond_coverage.items():\n",
    "    cp_metrics_df[f\"cov_{subgroup}\"] = cov"
   ]
  },
  {
   "cell_type": "code",
   "execution_count": 71,
   "id": "6e872e10-dbe5-49e8-b554-5030c98ff75d",
   "metadata": {
    "execution": {
     "iopub.execute_input": "2025-07-30T12:55:39.091263Z",
     "iopub.status.busy": "2025-07-30T12:55:39.090631Z",
     "iopub.status.idle": "2025-07-30T12:55:39.108400Z",
     "shell.execute_reply": "2025-07-30T12:55:39.107352Z"
    },
    "papermill": {
     "duration": 0.048776,
     "end_time": "2025-07-30T12:55:39.110076",
     "exception": false,
     "start_time": "2025-07-30T12:55:39.061300",
     "status": "completed"
    },
    "tags": []
   },
   "outputs": [
    {
     "data": {
      "text/html": [
       "<div>\n",
       "<style scoped>\n",
       "    .dataframe tbody tr th:only-of-type {\n",
       "        vertical-align: middle;\n",
       "    }\n",
       "\n",
       "    .dataframe tbody tr th {\n",
       "        vertical-align: top;\n",
       "    }\n",
       "\n",
       "    .dataframe thead th {\n",
       "        text-align: right;\n",
       "    }\n",
       "</style>\n",
       "<table border=\"1\" class=\"dataframe\">\n",
       "  <thead>\n",
       "    <tr style=\"text-align: right;\">\n",
       "      <th></th>\n",
       "      <th>universe_id</th>\n",
       "      <th>universe_training_size</th>\n",
       "      <th>universe_scale</th>\n",
       "      <th>universe_model</th>\n",
       "      <th>universe_exclude_features</th>\n",
       "      <th>universe_exclude_subgroups</th>\n",
       "      <th>q_hat</th>\n",
       "      <th>coverage</th>\n",
       "      <th>avg_size</th>\n",
       "      <th>cov_frau1</th>\n",
       "      <th>cov_nongerman</th>\n",
       "      <th>cov_nongerman_male</th>\n",
       "      <th>cov_nongerman_female</th>\n",
       "    </tr>\n",
       "  </thead>\n",
       "  <tbody>\n",
       "    <tr>\n",
       "      <th>0</th>\n",
       "      <td>8b9dcadb7f741fbaac266164642ddf46</td>\n",
       "      <td>25k</td>\n",
       "      <td>do-not-scale</td>\n",
       "      <td>rf</td>\n",
       "      <td>sex</td>\n",
       "      <td>drop-non-german</td>\n",
       "      <td>0.66</td>\n",
       "      <td>0.913298</td>\n",
       "      <td>1.142883</td>\n",
       "      <td>0.912657</td>\n",
       "      <td>0.913659</td>\n",
       "      <td>0.926957</td>\n",
       "      <td>0.891654</td>\n",
       "    </tr>\n",
       "  </tbody>\n",
       "</table>\n",
       "</div>"
      ],
      "text/plain": [
       "                        universe_id universe_training_size universe_scale  \\\n",
       "0  8b9dcadb7f741fbaac266164642ddf46                    25k   do-not-scale   \n",
       "\n",
       "  universe_model universe_exclude_features universe_exclude_subgroups  q_hat  \\\n",
       "0             rf                       sex            drop-non-german   0.66   \n",
       "\n",
       "   coverage  avg_size  cov_frau1  cov_nongerman  cov_nongerman_male  \\\n",
       "0  0.913298  1.142883   0.912657       0.913659            0.926957   \n",
       "\n",
       "   cov_nongerman_female  \n",
       "0              0.891654  "
      ]
     },
     "execution_count": 71,
     "metadata": {},
     "output_type": "execute_result"
    }
   ],
   "source": [
    "cp_metrics_df"
   ]
  },
  {
   "cell_type": "markdown",
   "id": "33774451",
   "metadata": {
    "papermill": {
     "duration": 0.028667,
     "end_time": "2025-07-30T12:55:39.167870",
     "exception": false,
     "start_time": "2025-07-30T12:55:39.139203",
     "status": "completed"
    },
    "tags": []
   },
   "source": [
    "# (Fairness) Metrics"
   ]
  },
  {
   "cell_type": "code",
   "execution_count": 72,
   "id": "debc5d62",
   "metadata": {
    "execution": {
     "iopub.execute_input": "2025-07-30T12:55:39.226778Z",
     "iopub.status.busy": "2025-07-30T12:55:39.226186Z",
     "iopub.status.idle": "2025-07-30T12:55:39.247727Z",
     "shell.execute_reply": "2025-07-30T12:55:39.246848Z"
    },
    "papermill": {
     "duration": 0.053432,
     "end_time": "2025-07-30T12:55:39.249523",
     "exception": false,
     "start_time": "2025-07-30T12:55:39.196091",
     "status": "completed"
    },
    "tags": []
   },
   "outputs": [],
   "source": [
    "# do I need to include maxdeutsch1.missing?\n",
    "\n",
    "import numpy as np\n",
    "\n",
    "colname_to_bin = \"maxdeutsch1\"\n",
    "majority_value = org_train[colname_to_bin].mode()[0]\n",
    "\n",
    "org_test[\"majmin\"] = np.where(org_test[colname_to_bin] == majority_value, \"majority\", \"minority\")"
   ]
  },
  {
   "cell_type": "code",
   "execution_count": 73,
   "id": "06a50de5",
   "metadata": {
    "execution": {
     "iopub.execute_input": "2025-07-30T12:55:39.309026Z",
     "iopub.status.busy": "2025-07-30T12:55:39.308384Z",
     "iopub.status.idle": "2025-07-30T12:55:41.215872Z",
     "shell.execute_reply": "2025-07-30T12:55:41.215067Z"
    },
    "papermill": {
     "duration": 1.938434,
     "end_time": "2025-07-30T12:55:41.217390",
     "exception": false,
     "start_time": "2025-07-30T12:55:39.278956",
     "status": "completed"
    },
    "tags": []
   },
   "outputs": [],
   "source": [
    "example_universe = universe.copy()\n",
    "example_universe[\"cutoff\"] = example_universe[\"cutoff\"][0]\n",
    "example_universe[\"eval_fairness_grouping\"] = example_universe[\"eval_fairness_grouping\"][0]\n",
    "fairness_dict, metric_frame = universe_analysis.compute_metrics(\n",
    "    example_universe,\n",
    "    y_pred_prob=probs_test,\n",
    "    y_test=y_true,\n",
    "    org_test=org_test,\n",
    ")"
   ]
  },
  {
   "cell_type": "markdown",
   "id": "f95d4e02",
   "metadata": {
    "papermill": {
     "duration": 0.013953,
     "end_time": "2025-07-30T12:55:41.246357",
     "exception": false,
     "start_time": "2025-07-30T12:55:41.232404",
     "status": "completed"
    },
    "tags": []
   },
   "source": [
    "# Overall"
   ]
  },
  {
   "cell_type": "markdown",
   "id": "bdee4871",
   "metadata": {
    "papermill": {
     "duration": 0.013964,
     "end_time": "2025-07-30T12:55:41.274367",
     "exception": false,
     "start_time": "2025-07-30T12:55:41.260403",
     "status": "completed"
    },
    "tags": []
   },
   "source": [
    "Fairness\n",
    "Main fairness target: Equalized Odds. Seems to be a better fit than equal opportunity, since we're not only interested in Y = 1. Seems to be a better fit than demographic parity, since we also care about accuracy, not just equal distribution of preds.\n",
    "\n",
    "Pick column for computation of fairness metrics\n",
    "\n",
    "Performance\n",
    "Overall performance measures, most interesting in relation to the measures split by group below"
   ]
  },
  {
   "cell_type": "code",
   "execution_count": 74,
   "id": "c4e067c6",
   "metadata": {
    "execution": {
     "iopub.execute_input": "2025-07-30T12:55:41.303513Z",
     "iopub.status.busy": "2025-07-30T12:55:41.303007Z",
     "iopub.status.idle": "2025-07-30T12:55:41.310045Z",
     "shell.execute_reply": "2025-07-30T12:55:41.309383Z"
    },
    "papermill": {
     "duration": 0.023223,
     "end_time": "2025-07-30T12:55:41.311289",
     "exception": false,
     "start_time": "2025-07-30T12:55:41.288066",
     "status": "completed"
    },
    "tags": []
   },
   "outputs": [
    {
     "data": {
      "text/plain": [
       "accuracy                   0.204760\n",
       "balanced accuracy          0.535752\n",
       "f1                         0.240399\n",
       "precision                  0.136984\n",
       "false positive rate        0.909465\n",
       "false negative rate        0.019030\n",
       "selection rate             0.918638\n",
       "count                  89710.000000\n",
       "dtype: float64"
      ]
     },
     "execution_count": 74,
     "metadata": {},
     "output_type": "execute_result"
    }
   ],
   "source": [
    "metric_frame.overall"
   ]
  },
  {
   "cell_type": "markdown",
   "id": "e968fe9d",
   "metadata": {
    "papermill": {
     "duration": 0.014248,
     "end_time": "2025-07-30T12:55:41.340548",
     "exception": false,
     "start_time": "2025-07-30T12:55:41.326300",
     "status": "completed"
    },
    "tags": []
   },
   "source": [
    "By Group"
   ]
  },
  {
   "cell_type": "code",
   "execution_count": 75,
   "id": "ec325bce",
   "metadata": {
    "execution": {
     "iopub.execute_input": "2025-07-30T12:55:41.383500Z",
     "iopub.status.busy": "2025-07-30T12:55:41.382869Z",
     "iopub.status.idle": "2025-07-30T12:55:41.401019Z",
     "shell.execute_reply": "2025-07-30T12:55:41.399806Z"
    },
    "papermill": {
     "duration": 0.048,
     "end_time": "2025-07-30T12:55:41.402909",
     "exception": false,
     "start_time": "2025-07-30T12:55:41.354909",
     "status": "completed"
    },
    "tags": []
   },
   "outputs": [
    {
     "data": {
      "text/html": [
       "<div>\n",
       "<style scoped>\n",
       "    .dataframe tbody tr th:only-of-type {\n",
       "        vertical-align: middle;\n",
       "    }\n",
       "\n",
       "    .dataframe tbody tr th {\n",
       "        vertical-align: top;\n",
       "    }\n",
       "\n",
       "    .dataframe thead th {\n",
       "        text-align: right;\n",
       "    }\n",
       "</style>\n",
       "<table border=\"1\" class=\"dataframe\">\n",
       "  <thead>\n",
       "    <tr style=\"text-align: right;\">\n",
       "      <th></th>\n",
       "      <th>accuracy</th>\n",
       "      <th>balanced accuracy</th>\n",
       "      <th>f1</th>\n",
       "      <th>precision</th>\n",
       "      <th>false positive rate</th>\n",
       "      <th>false negative rate</th>\n",
       "      <th>selection rate</th>\n",
       "      <th>count</th>\n",
       "    </tr>\n",
       "    <tr>\n",
       "      <th>majmin</th>\n",
       "      <th></th>\n",
       "      <th></th>\n",
       "      <th></th>\n",
       "      <th></th>\n",
       "      <th></th>\n",
       "      <th></th>\n",
       "      <th></th>\n",
       "      <th></th>\n",
       "    </tr>\n",
       "  </thead>\n",
       "  <tbody>\n",
       "    <tr>\n",
       "      <th>majority</th>\n",
       "      <td>0.201547</td>\n",
       "      <td>0.535397</td>\n",
       "      <td>0.246648</td>\n",
       "      <td>0.140889</td>\n",
       "      <td>0.918374</td>\n",
       "      <td>0.010832</td>\n",
       "      <td>0.927729</td>\n",
       "      <td>69170.0</td>\n",
       "    </tr>\n",
       "    <tr>\n",
       "      <th>minority</th>\n",
       "      <td>0.215579</td>\n",
       "      <td>0.534645</td>\n",
       "      <td>0.218168</td>\n",
       "      <td>0.123246</td>\n",
       "      <td>0.880035</td>\n",
       "      <td>0.050676</td>\n",
       "      <td>0.888023</td>\n",
       "      <td>20540.0</td>\n",
       "    </tr>\n",
       "  </tbody>\n",
       "</table>\n",
       "</div>"
      ],
      "text/plain": [
       "          accuracy  balanced accuracy        f1  precision  \\\n",
       "majmin                                                       \n",
       "majority  0.201547           0.535397  0.246648   0.140889   \n",
       "minority  0.215579           0.534645  0.218168   0.123246   \n",
       "\n",
       "          false positive rate  false negative rate  selection rate    count  \n",
       "majmin                                                                       \n",
       "majority             0.918374             0.010832        0.927729  69170.0  \n",
       "minority             0.880035             0.050676        0.888023  20540.0  "
      ]
     },
     "execution_count": 75,
     "metadata": {},
     "output_type": "execute_result"
    }
   ],
   "source": [
    "metric_frame.by_group"
   ]
  },
  {
   "cell_type": "code",
   "execution_count": 76,
   "id": "a9ddbe63",
   "metadata": {
    "execution": {
     "iopub.execute_input": "2025-07-30T12:55:41.464915Z",
     "iopub.status.busy": "2025-07-30T12:55:41.463941Z",
     "iopub.status.idle": "2025-07-30T12:55:43.644309Z",
     "shell.execute_reply": "2025-07-30T12:55:43.643295Z"
    },
    "papermill": {
     "duration": 2.214305,
     "end_time": "2025-07-30T12:55:43.647046",
     "exception": false,
     "start_time": "2025-07-30T12:55:41.432741",
     "status": "completed"
    },
    "tags": []
   },
   "outputs": [
    {
     "data": {
      "text/plain": [
       "array([[<Axes: title={'center': 'accuracy'}, xlabel='majmin'>,\n",
       "        <Axes: title={'center': 'balanced accuracy'}, xlabel='majmin'>,\n",
       "        <Axes: title={'center': 'f1'}, xlabel='majmin'>],\n",
       "       [<Axes: title={'center': 'precision'}, xlabel='majmin'>,\n",
       "        <Axes: title={'center': 'false positive rate'}, xlabel='majmin'>,\n",
       "        <Axes: title={'center': 'false negative rate'}, xlabel='majmin'>],\n",
       "       [<Axes: title={'center': 'selection rate'}, xlabel='majmin'>,\n",
       "        <Axes: title={'center': 'count'}, xlabel='majmin'>,\n",
       "        <Axes: xlabel='majmin'>]], dtype=object)"
      ]
     },
     "execution_count": 76,
     "metadata": {},
     "output_type": "execute_result"
    },
    {
     "data": {
      "image/png": "[encoded data removed]",
      "text/plain": [
       "<Figure size 1200x800 with 9 Axes>"
      ]
     },
     "metadata": {},
     "output_type": "display_data"
    }
   ],
   "source": [
    "# In a graphic\n",
    "metric_frame.by_group.plot.bar(\n",
    "    subplots=True,\n",
    "    layout=[3, 3],\n",
    "    legend=False,\n",
    "    figsize=[12, 8],\n",
    "    title=\"Show all metrics\",\n",
    ")"
   ]
  },
  {
   "cell_type": "markdown",
   "id": "f57a0bac",
   "metadata": {
    "papermill": {
     "duration": 0.028229,
     "end_time": "2025-07-30T12:55:43.722974",
     "exception": false,
     "start_time": "2025-07-30T12:55:43.694745",
     "status": "completed"
    },
    "tags": []
   },
   "source": [
    "# Final Output"
   ]
  },
  {
   "cell_type": "code",
   "execution_count": 77,
   "id": "96d280a3",
   "metadata": {
    "execution": {
     "iopub.execute_input": "2025-07-30T12:55:43.781456Z",
     "iopub.status.busy": "2025-07-30T12:55:43.780896Z",
     "iopub.status.idle": "2025-07-30T12:55:43.789020Z",
     "shell.execute_reply": "2025-07-30T12:55:43.788106Z"
    },
    "papermill": {
     "duration": 0.039302,
     "end_time": "2025-07-30T12:55:43.790560",
     "exception": false,
     "start_time": "2025-07-30T12:55:43.751258",
     "status": "completed"
    },
    "tags": []
   },
   "outputs": [
    {
     "data": {
      "text/plain": [
       "4"
      ]
     },
     "execution_count": 77,
     "metadata": {},
     "output_type": "execute_result"
    }
   ],
   "source": [
    "sub_universes = universe_analysis.generate_sub_universes()\n",
    "len(sub_universes)"
   ]
  },
  {
   "cell_type": "code",
   "execution_count": 78,
   "id": "92adf7ba",
   "metadata": {
    "execution": {
     "iopub.execute_input": "2025-07-30T12:55:43.848654Z",
     "iopub.status.busy": "2025-07-30T12:55:43.847995Z",
     "iopub.status.idle": "2025-07-30T12:55:43.854544Z",
     "shell.execute_reply": "2025-07-30T12:55:43.853649Z"
    },
    "papermill": {
     "duration": 0.038031,
     "end_time": "2025-07-30T12:55:43.856219",
     "exception": false,
     "start_time": "2025-07-30T12:55:43.818188",
     "status": "completed"
    },
    "tags": []
   },
   "outputs": [],
   "source": [
    "def filter_sub_universe_data(sub_universe, org_test):\n",
    "    # Keep all rows — no filtering\n",
    "    keep_rows_mask = np.ones(org_test.shape[0], dtype=bool)\n",
    "\n",
    "    print(f\"[INFO] Keeping all rows: {keep_rows_mask.sum()} rows retained.\")\n",
    "    return keep_rows_mask"
   ]
  },
  {
   "cell_type": "code",
   "execution_count": 79,
   "id": "4a759155",
   "metadata": {
    "execution": {
     "iopub.execute_input": "2025-07-30T12:55:43.916603Z",
     "iopub.status.busy": "2025-07-30T12:55:43.915945Z",
     "iopub.status.idle": "2025-07-30T12:55:56.098930Z",
     "shell.execute_reply": "2025-07-30T12:55:56.097737Z"
    },
    "papermill": {
     "duration": 12.215098,
     "end_time": "2025-07-30T12:55:56.100616",
     "exception": false,
     "start_time": "2025-07-30T12:55:43.885518",
     "status": "completed"
    },
    "tags": []
   },
   "outputs": [
    {
     "name": "stdout",
     "output_type": "stream",
     "text": [
      "Stopping execution_time clock.\n",
      "[INFO] Keeping all rows: 89710 rows retained.\n"
     ]
    },
    {
     "name": "stdout",
     "output_type": "stream",
     "text": [
      "[INFO] Keeping all rows: 89710 rows retained.\n"
     ]
    },
    {
     "name": "stdout",
     "output_type": "stream",
     "text": [
      "[INFO] Keeping all rows: 89710 rows retained.\n"
     ]
    },
    {
     "name": "stdout",
     "output_type": "stream",
     "text": [
      "[INFO] Keeping all rows: 89710 rows retained.\n"
     ]
    },
    {
     "data": {
      "text/html": [
       "<div>\n",
       "<style scoped>\n",
       "    .dataframe tbody tr th:only-of-type {\n",
       "        vertical-align: middle;\n",
       "    }\n",
       "\n",
       "    .dataframe tbody tr th {\n",
       "        vertical-align: top;\n",
       "    }\n",
       "\n",
       "    .dataframe thead th {\n",
       "        text-align: right;\n",
       "    }\n",
       "</style>\n",
       "<table border=\"1\" class=\"dataframe\">\n",
       "  <thead>\n",
       "    <tr style=\"text-align: right;\">\n",
       "      <th></th>\n",
       "      <th>run_no</th>\n",
       "      <th>universe_id</th>\n",
       "      <th>universe_settings</th>\n",
       "      <th>execution_time</th>\n",
       "      <th>test_size_n</th>\n",
       "      <th>test_size_frac</th>\n",
       "      <th>fair_main_equalized_odds_difference</th>\n",
       "      <th>fair_main_equalized_odds_ratio</th>\n",
       "      <th>fair_main_demographic_parity_difference</th>\n",
       "      <th>fair_main_demographic_parity_ratio</th>\n",
       "      <th>...</th>\n",
       "      <th>perf_grp_precision_0</th>\n",
       "      <th>perf_grp_precision_1</th>\n",
       "      <th>perf_grp_false positive rate_0</th>\n",
       "      <th>perf_grp_false positive rate_1</th>\n",
       "      <th>perf_grp_false negative rate_0</th>\n",
       "      <th>perf_grp_false negative rate_1</th>\n",
       "      <th>perf_grp_selection rate_0</th>\n",
       "      <th>perf_grp_selection rate_1</th>\n",
       "      <th>perf_grp_count_0</th>\n",
       "      <th>perf_grp_count_1</th>\n",
       "    </tr>\n",
       "  </thead>\n",
       "  <tbody>\n",
       "    <tr>\n",
       "      <th>0</th>\n",
       "      <td>12</td>\n",
       "      <td>8b9dcadb7f741fbaac266164642ddf46</td>\n",
       "      <td>{\"cutoff\": \"quantile_0.1\", \"eval_fairness_grou...</td>\n",
       "      <td>39.575994</td>\n",
       "      <td>89710</td>\n",
       "      <td>1.0</td>\n",
       "      <td>0.039844</td>\n",
       "      <td>0.958253</td>\n",
       "      <td>0.039705</td>\n",
       "      <td>0.957201</td>\n",
       "      <td>...</td>\n",
       "      <td>NaN</td>\n",
       "      <td>NaN</td>\n",
       "      <td>NaN</td>\n",
       "      <td>NaN</td>\n",
       "      <td>NaN</td>\n",
       "      <td>NaN</td>\n",
       "      <td>NaN</td>\n",
       "      <td>NaN</td>\n",
       "      <td>NaN</td>\n",
       "      <td>NaN</td>\n",
       "    </tr>\n",
       "    <tr>\n",
       "      <th>0</th>\n",
       "      <td>12</td>\n",
       "      <td>8b9dcadb7f741fbaac266164642ddf46</td>\n",
       "      <td>{\"cutoff\": \"quantile_0.1\", \"eval_fairness_grou...</td>\n",
       "      <td>39.575994</td>\n",
       "      <td>89710</td>\n",
       "      <td>1.0</td>\n",
       "      <td>0.039844</td>\n",
       "      <td>0.958253</td>\n",
       "      <td>0.039705</td>\n",
       "      <td>0.957201</td>\n",
       "      <td>...</td>\n",
       "      <td>0.123246</td>\n",
       "      <td>0.140889</td>\n",
       "      <td>0.880035</td>\n",
       "      <td>0.918374</td>\n",
       "      <td>0.050676</td>\n",
       "      <td>0.010832</td>\n",
       "      <td>0.888023</td>\n",
       "      <td>0.927729</td>\n",
       "      <td>20540.0</td>\n",
       "      <td>69170.0</td>\n",
       "    </tr>\n",
       "    <tr>\n",
       "      <th>0</th>\n",
       "      <td>12</td>\n",
       "      <td>8b9dcadb7f741fbaac266164642ddf46</td>\n",
       "      <td>{\"cutoff\": \"quantile_0.25\", \"eval_fairness_gro...</td>\n",
       "      <td>39.575994</td>\n",
       "      <td>89710</td>\n",
       "      <td>1.0</td>\n",
       "      <td>0.066248</td>\n",
       "      <td>0.931161</td>\n",
       "      <td>0.035181</td>\n",
       "      <td>0.955916</td>\n",
       "      <td>...</td>\n",
       "      <td>NaN</td>\n",
       "      <td>NaN</td>\n",
       "      <td>NaN</td>\n",
       "      <td>NaN</td>\n",
       "      <td>NaN</td>\n",
       "      <td>NaN</td>\n",
       "      <td>NaN</td>\n",
       "      <td>NaN</td>\n",
       "      <td>NaN</td>\n",
       "      <td>NaN</td>\n",
       "    </tr>\n",
       "    <tr>\n",
       "      <th>0</th>\n",
       "      <td>12</td>\n",
       "      <td>8b9dcadb7f741fbaac266164642ddf46</td>\n",
       "      <td>{\"cutoff\": \"quantile_0.25\", \"eval_fairness_gro...</td>\n",
       "      <td>39.575994</td>\n",
       "      <td>89710</td>\n",
       "      <td>1.0</td>\n",
       "      <td>0.066248</td>\n",
       "      <td>0.931161</td>\n",
       "      <td>0.035181</td>\n",
       "      <td>0.955916</td>\n",
       "      <td>...</td>\n",
       "      <td>0.135427</td>\n",
       "      <td>0.159348</td>\n",
       "      <td>0.745488</td>\n",
       "      <td>0.773013</td>\n",
       "      <td>0.103885</td>\n",
       "      <td>0.037637</td>\n",
       "      <td>0.762853</td>\n",
       "      <td>0.798034</td>\n",
       "      <td>20540.0</td>\n",
       "      <td>69170.0</td>\n",
       "    </tr>\n",
       "  </tbody>\n",
       "</table>\n",
       "<p>4 rows × 50 columns</p>\n",
       "</div>"
      ],
      "text/plain": [
       "  run_no                       universe_id  \\\n",
       "0     12  8b9dcadb7f741fbaac266164642ddf46   \n",
       "0     12  8b9dcadb7f741fbaac266164642ddf46   \n",
       "0     12  8b9dcadb7f741fbaac266164642ddf46   \n",
       "0     12  8b9dcadb7f741fbaac266164642ddf46   \n",
       "\n",
       "                                   universe_settings  execution_time  \\\n",
       "0  {\"cutoff\": \"quantile_0.1\", \"eval_fairness_grou...       39.575994   \n",
       "0  {\"cutoff\": \"quantile_0.1\", \"eval_fairness_grou...       39.575994   \n",
       "0  {\"cutoff\": \"quantile_0.25\", \"eval_fairness_gro...       39.575994   \n",
       "0  {\"cutoff\": \"quantile_0.25\", \"eval_fairness_gro...       39.575994   \n",
       "\n",
       "   test_size_n  test_size_frac  fair_main_equalized_odds_difference  \\\n",
       "0        89710             1.0                             0.039844   \n",
       "0        89710             1.0                             0.039844   \n",
       "0        89710             1.0                             0.066248   \n",
       "0        89710             1.0                             0.066248   \n",
       "\n",
       "   fair_main_equalized_odds_ratio  fair_main_demographic_parity_difference  \\\n",
       "0                        0.958253                                 0.039705   \n",
       "0                        0.958253                                 0.039705   \n",
       "0                        0.931161                                 0.035181   \n",
       "0                        0.931161                                 0.035181   \n",
       "\n",
       "   fair_main_demographic_parity_ratio  ...  perf_grp_precision_0  \\\n",
       "0                            0.957201  ...                   NaN   \n",
       "0                            0.957201  ...              0.123246   \n",
       "0                            0.955916  ...                   NaN   \n",
       "0                            0.955916  ...              0.135427   \n",
       "\n",
       "   perf_grp_precision_1  perf_grp_false positive rate_0  \\\n",
       "0                   NaN                             NaN   \n",
       "0              0.140889                        0.880035   \n",
       "0                   NaN                             NaN   \n",
       "0              0.159348                        0.745488   \n",
       "\n",
       "   perf_grp_false positive rate_1  perf_grp_false negative rate_0  \\\n",
       "0                             NaN                             NaN   \n",
       "0                        0.918374                        0.050676   \n",
       "0                             NaN                             NaN   \n",
       "0                        0.773013                        0.103885   \n",
       "\n",
       "   perf_grp_false negative rate_1  perf_grp_selection rate_0  \\\n",
       "0                             NaN                        NaN   \n",
       "0                        0.010832                   0.888023   \n",
       "0                             NaN                        NaN   \n",
       "0                        0.037637                   0.762853   \n",
       "\n",
       "   perf_grp_selection rate_1  perf_grp_count_0  perf_grp_count_1  \n",
       "0                        NaN               NaN               NaN  \n",
       "0                   0.927729           20540.0           69170.0  \n",
       "0                        NaN               NaN               NaN  \n",
       "0                   0.798034           20540.0           69170.0  \n",
       "\n",
       "[4 rows x 50 columns]"
      ]
     },
     "execution_count": 79,
     "metadata": {},
     "output_type": "execute_result"
    }
   ],
   "source": [
    "final_output = universe_analysis.generate_final_output(\n",
    "    y_pred_prob=probs_test,\n",
    "    y_test=y_true,\n",
    "    org_test=org_test,\n",
    "    filter_data=filter_sub_universe_data,\n",
    "    cp_metrics_df=cp_metrics_df,\n",
    "    save=True,\n",
    ")\n",
    "final_output"
   ]
  },
  {
   "cell_type": "code",
   "execution_count": null,
   "id": "721ff514-cb11-46f8-b6fc-50392f74b5cb",
   "metadata": {
    "papermill": {
     "duration": 0.03407,
     "end_time": "2025-07-30T12:55:56.179531",
     "exception": false,
     "start_time": "2025-07-30T12:55:56.145461",
     "status": "completed"
    },
    "tags": []
   },
   "outputs": [],
   "source": []
  }
 ],
 "metadata": {
  "celltoolbar": "Tags",
  "kernelspec": {
   "display_name": "Python (CMA Fairness)",
   "language": "python",
   "name": "cma_fair_env"
  },
  "language_info": {
   "codemirror_mode": {
    "name": "ipython",
    "version": 3
   },
   "file_extension": ".py",
   "mimetype": "text/x-python",
   "name": "python",
   "nbconvert_exporter": "python",
   "pygments_lexer": "ipython3",
   "version": "3.10.12"
  },
  "papermill": {
   "default_parameters": {},
   "duration": 57.448932,
   "end_time": "2025-07-30T12:55:57.336867",
   "environment_variables": {},
   "exception": null,
   "input_path": "universe_analysis.ipynb",
   "output_path": "output/runs/12/notebooks/m_12-8b9dcadb7f741fbaac266164642ddf46.ipynb",
   "parameters": {
    "output_dir": "output",
    "run_no": "12",
    "seed": "2023",
    "universe": "{\"cutoff\": [\"quantile_0.1\", \"quantile_0.25\"], \"eval_fairness_grouping\": [\"majority-minority\", \"nationality-all\"], \"exclude_features\": \"sex\", \"exclude_subgroups\": \"drop-non-german\", \"model\": \"rf\", \"scale\": \"do-not-scale\", \"training_size\": \"25k\", \"training_year\": \"2014\"}",
    "universe_id": "8b9dcadb7f741fbaac266164642ddf46"
   },
   "start_time": "2025-07-30T12:54:59.887935",
   "version": "2.6.0"
  }
 },
 "nbformat": 4,
 "nbformat_minor": 5
}