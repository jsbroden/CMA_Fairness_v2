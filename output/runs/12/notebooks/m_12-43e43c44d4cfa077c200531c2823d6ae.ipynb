{
 "cells": [
  {
   "cell_type": "code",
   "execution_count": 1,
   "id": "f159f837-637b-42ba-96b5-ec9a68c44524",
   "metadata": {
    "execution": {
     "iopub.execute_input": "2025-07-30T14:10:57.925555Z",
     "iopub.status.busy": "2025-07-30T14:10:57.925152Z",
     "iopub.status.idle": "2025-07-30T14:10:57.941676Z",
     "shell.execute_reply": "2025-07-30T14:10:57.940776Z"
    },
    "papermill": {
     "duration": 0.040047,
     "end_time": "2025-07-30T14:10:57.943287",
     "exception": false,
     "start_time": "2025-07-30T14:10:57.903240",
     "status": "completed"
    },
    "tags": []
   },
   "outputs": [
    {
     "name": "stdout",
     "output_type": "stream",
     "text": [
      "/dss/dsshome1/0C/ra93lal2/cma/CMA_Fairness_v2\n"
     ]
    },
    {
     "name": "stderr",
     "output_type": "stream",
     "text": [
      "/dss/dsshome1/0C/ra93lal2/.local/share/virtualenvs/CMA_Fairness_v2-3j10GkSs/lib/python3.10/site-packages/IPython/core/magics/osm.py:393: UserWarning: This is now an optional IPython functionality, using bookmarks requires you to install the `pickleshare` library.\n",
      "  bkms = self.shell.db.get('bookmarks', {})\n",
      "/dss/dsshome1/0C/ra93lal2/.local/share/virtualenvs/CMA_Fairness_v2-3j10GkSs/lib/python3.10/site-packages/IPython/core/magics/osm.py:417: UserWarning: This is now an optional IPython functionality, setting dhist requires you to install the `pickleshare` library.\n",
      "  self.shell.db['dhist'] = compress_dhist(dhist)[-100:]\n"
     ]
    }
   ],
   "source": [
    "%cd ~/cma/CMA_Fairness_v2"
   ]
  },
  {
   "cell_type": "markdown",
   "id": "de2603b9",
   "metadata": {
    "papermill": {
     "duration": 0.020958,
     "end_time": "2025-07-30T14:10:57.985210",
     "exception": false,
     "start_time": "2025-07-30T14:10:57.964252",
     "status": "completed"
    },
    "tags": []
   },
   "source": [
    "The following cell holds the definition of our parameters, these values can be overriden by rendering the with e.g. the following command:\n",
    "\n",
    "papermill -p alpha 0.2 -p ratio 0.3 universe_analysis.ipynb output/test_run.ipynb"
   ]
  },
  {
   "cell_type": "code",
   "execution_count": 2,
   "id": "a80968a0-40bb-4fa9-85ef-2d5eefb01975",
   "metadata": {
    "execution": {
     "iopub.execute_input": "2025-07-30T14:10:58.025261Z",
     "iopub.status.busy": "2025-07-30T14:10:58.024805Z",
     "iopub.status.idle": "2025-07-30T14:10:58.029580Z",
     "shell.execute_reply": "2025-07-30T14:10:58.028909Z"
    },
    "papermill": {
     "duration": 0.024856,
     "end_time": "2025-07-30T14:10:58.030943",
     "exception": false,
     "start_time": "2025-07-30T14:10:58.006087",
     "status": "completed"
    },
    "tags": []
   },
   "outputs": [
    {
     "name": "stdout",
     "output_type": "stream",
     "text": [
      "Current working directory: /dss/dsshome1/0C/ra93lal2/cma/CMA_Fairness_v2\n"
     ]
    }
   ],
   "source": [
    "import os\n",
    "print(\"Current working directory:\", os.getcwd())"
   ]
  },
  {
   "cell_type": "code",
   "execution_count": 3,
   "id": "2dce4c03",
   "metadata": {
    "execution": {
     "iopub.execute_input": "2025-07-30T14:10:58.071756Z",
     "iopub.status.busy": "2025-07-30T14:10:58.071184Z",
     "iopub.status.idle": "2025-07-30T14:10:58.077010Z",
     "shell.execute_reply": "2025-07-30T14:10:58.076083Z"
    },
    "papermill": {
     "duration": 0.028916,
     "end_time": "2025-07-30T14:10:58.078495",
     "exception": false,
     "start_time": "2025-07-30T14:10:58.049579",
     "status": "completed"
    },
    "tags": [
     "parameters"
    ]
   },
   "outputs": [],
   "source": [
    "run_no = 0\n",
    "universe_id = \"test\"\n",
    "universe = {\n",
    "    \"training_size\": \"25k\", # \"25k\", \"5k\", \"1k\"\n",
    "    \"training_year\": \"2014\", # \"2014\", \"2012_14\", \"2010_14\"\n",
    "    \"scale\": \"scale\", # \"scale\", \"do-not-scale\",\n",
    "    #\"stratify_split\": \"target\", # \"none\", \"target\", \"protected-attribute\", \"both\",\n",
    "    \"model\": \"elasticnet\", # \"logreg\", \"penalized_logreg\", \"rf\", \"gbm\", \"elasticnet\"\n",
    "    \"cutoff\": [\"quantile_0.15\", \"quantile_0.30\"],\n",
    "    \"exclude_features\": \"age\", # \"none\", \"nationality\", \"sex\", \"nationality-sex\", \"age\"\n",
    "    \"exclude_subgroups\": \"keep-all\", # \"keep-all\", \"drop-non-german\"\n",
    "    \"eval_fairness_grouping\": [\"majority-minority\", \"nationality-all\"]\n",
    "}\n",
    "\n",
    "output_dir=\"./output\"\n",
    "seed=0"
   ]
  },
  {
   "cell_type": "code",
   "execution_count": 4,
   "id": "54a85853",
   "metadata": {
    "execution": {
     "iopub.execute_input": "2025-07-30T14:10:58.121513Z",
     "iopub.status.busy": "2025-07-30T14:10:58.120986Z",
     "iopub.status.idle": "2025-07-30T14:10:58.126042Z",
     "shell.execute_reply": "2025-07-30T14:10:58.125111Z"
    },
    "papermill": {
     "duration": 0.027944,
     "end_time": "2025-07-30T14:10:58.127547",
     "exception": false,
     "start_time": "2025-07-30T14:10:58.099603",
     "status": "completed"
    },
    "tags": [
     "injected-parameters"
    ]
   },
   "outputs": [],
   "source": [
    "# Parameters\n",
    "universe_id = \"43e43c44d4cfa077c200531c2823d6ae\"\n",
    "run_no = \"12\"\n",
    "universe = \"{\\\"cutoff\\\": [\\\"quantile_0.1\\\", \\\"quantile_0.25\\\"], \\\"eval_fairness_grouping\\\": [\\\"majority-minority\\\", \\\"nationality-all\\\"], \\\"exclude_features\\\": \\\"sex\\\", \\\"exclude_subgroups\\\": \\\"keep-all\\\", \\\"model\\\": \\\"elasticnet\\\", \\\"scale\\\": \\\"scale\\\", \\\"training_size\\\": \\\"5k\\\", \\\"training_year\\\": \\\"2010_14\\\"}\"\n",
    "output_dir = \"output\"\n",
    "seed = \"2023\"\n"
   ]
  },
  {
   "cell_type": "code",
   "execution_count": 5,
   "id": "1650acaf",
   "metadata": {
    "execution": {
     "iopub.execute_input": "2025-07-30T14:10:58.171074Z",
     "iopub.status.busy": "2025-07-30T14:10:58.170366Z",
     "iopub.status.idle": "2025-07-30T14:10:58.175420Z",
     "shell.execute_reply": "2025-07-30T14:10:58.174510Z"
    },
    "papermill": {
     "duration": 0.028255,
     "end_time": "2025-07-30T14:10:58.177019",
     "exception": false,
     "start_time": "2025-07-30T14:10:58.148764",
     "status": "completed"
    },
    "tags": []
   },
   "outputs": [],
   "source": [
    "import json\n",
    "# Parse universe into dict if it is passed as a string\n",
    "if isinstance(universe, str):\n",
    "    universe = json.loads(universe)"
   ]
  },
  {
   "cell_type": "code",
   "execution_count": 6,
   "id": "16620c48",
   "metadata": {
    "execution": {
     "iopub.execute_input": "2025-07-30T14:10:58.222743Z",
     "iopub.status.busy": "2025-07-30T14:10:58.221937Z",
     "iopub.status.idle": "2025-07-30T14:10:58.269914Z",
     "shell.execute_reply": "2025-07-30T14:10:58.269031Z"
    },
    "papermill": {
     "duration": 0.073077,
     "end_time": "2025-07-30T14:10:58.271865",
     "exception": false,
     "start_time": "2025-07-30T14:10:58.198788",
     "status": "completed"
    },
    "tags": []
   },
   "outputs": [],
   "source": [
    "# Auto-reload the custom package\n",
    "%load_ext autoreload\n",
    "%autoreload 1\n",
    "%aimport fairness_multiverse"
   ]
  },
  {
   "cell_type": "code",
   "execution_count": 7,
   "id": "01c5c9f3",
   "metadata": {
    "execution": {
     "iopub.execute_input": "2025-07-30T14:10:58.315685Z",
     "iopub.status.busy": "2025-07-30T14:10:58.315112Z",
     "iopub.status.idle": "2025-07-30T14:11:00.209602Z",
     "shell.execute_reply": "2025-07-30T14:11:00.208580Z"
    },
    "papermill": {
     "duration": 1.918017,
     "end_time": "2025-07-30T14:11:00.211581",
     "exception": false,
     "start_time": "2025-07-30T14:10:58.293564",
     "status": "completed"
    },
    "tags": []
   },
   "outputs": [],
   "source": [
    "from fairness_multiverse.universe import UniverseAnalysis\n",
    "\n",
    "universe_analysis = UniverseAnalysis(\n",
    "    run_no = run_no,\n",
    "    universe_id = universe_id,\n",
    "    universe = universe,\n",
    "    output_dir=output_dir,\n",
    ")"
   ]
  },
  {
   "cell_type": "code",
   "execution_count": 8,
   "id": "106241f5",
   "metadata": {
    "execution": {
     "iopub.execute_input": "2025-07-30T14:11:00.257733Z",
     "iopub.status.busy": "2025-07-30T14:11:00.256941Z",
     "iopub.status.idle": "2025-07-30T14:11:00.263647Z",
     "shell.execute_reply": "2025-07-30T14:11:00.262568Z"
    },
    "papermill": {
     "duration": 0.030997,
     "end_time": "2025-07-30T14:11:00.265375",
     "exception": false,
     "start_time": "2025-07-30T14:11:00.234378",
     "status": "completed"
    },
    "tags": []
   },
   "outputs": [
    {
     "name": "stdout",
     "output_type": "stream",
     "text": [
      "Using Seed: 2023\n"
     ]
    }
   ],
   "source": [
    "import numpy as np\n",
    "parsed_seed = int(seed)\n",
    "np.random.seed(parsed_seed)\n",
    "print(f\"Using Seed: {parsed_seed}\")"
   ]
  },
  {
   "cell_type": "markdown",
   "id": "e0ebdc57",
   "metadata": {
    "papermill": {
     "duration": 0.021338,
     "end_time": "2025-07-30T14:11:00.308953",
     "exception": false,
     "start_time": "2025-07-30T14:11:00.287615",
     "status": "completed"
    },
    "tags": []
   },
   "source": [
    "# Loading Data"
   ]
  },
  {
   "cell_type": "markdown",
   "id": "681925a3",
   "metadata": {
    "papermill": {
     "duration": 0.026698,
     "end_time": "2025-07-30T14:11:00.362214",
     "exception": false,
     "start_time": "2025-07-30T14:11:00.335516",
     "status": "completed"
    },
    "tags": []
   },
   "source": [
    "Load siab_train, siab_test, siab_calib and/or \n",
    "load siab_train_features, siab_train_labels"
   ]
  },
  {
   "cell_type": "code",
   "execution_count": 9,
   "id": "f0496b8a",
   "metadata": {
    "execution": {
     "iopub.execute_input": "2025-07-30T14:11:00.409382Z",
     "iopub.status.busy": "2025-07-30T14:11:00.408893Z",
     "iopub.status.idle": "2025-07-30T14:11:12.175695Z",
     "shell.execute_reply": "2025-07-30T14:11:12.174385Z"
    },
    "papermill": {
     "duration": 11.792979,
     "end_time": "2025-07-30T14:11:12.177904",
     "exception": false,
     "start_time": "2025-07-30T14:11:00.384925",
     "status": "completed"
    },
    "tags": []
   },
   "outputs": [
    {
     "name": "stdout",
     "output_type": "stream",
     "text": [
      "Loading SIAB data from cache: data/siab_cached.csv.gz\n"
     ]
    },
    {
     "name": "stdout",
     "output_type": "stream",
     "text": [
      "(643690, 164)\n"
     ]
    }
   ],
   "source": [
    "from pathlib import Path\n",
    "import pandas as pd\n",
    "\n",
    "# File paths\n",
    "raw_file = Path(\"data/raw/siab.csv\")\n",
    "cache_file = Path(\"data/siab_cached.csv.gz\")\n",
    "\n",
    "# Ensure cache directory exists\n",
    "cache_file.parent.mkdir(parents=True, exist_ok=True)\n",
    "\n",
    "# Load with simple caching\n",
    "if cache_file.exists():\n",
    "    print(f\"Loading SIAB data from cache: {cache_file}\")\n",
    "    siab = pd.read_csv(cache_file, compression='gzip')\n",
    "else:\n",
    "    print(f\"Cache not found. Reading raw SIAB data: {raw_file}\")\n",
    "    siab = pd.read_csv(raw_file)\n",
    "    siab.to_csv(cache_file, index=False, compression='gzip')\n",
    "    print(f\"Cached SIAB data to: {cache_file}\")\n",
    "\n",
    "# Now use `siab` DataFrame as needed\n",
    "print(siab.shape)"
   ]
  },
  {
   "cell_type": "code",
   "execution_count": 10,
   "id": "db0ca512-5f53-4dba-abdb-a2888bca41ba",
   "metadata": {
    "execution": {
     "iopub.execute_input": "2025-07-30T14:11:12.235500Z",
     "iopub.status.busy": "2025-07-30T14:11:12.234669Z",
     "iopub.status.idle": "2025-07-30T14:11:12.240579Z",
     "shell.execute_reply": "2025-07-30T14:11:12.239687Z"
    },
    "papermill": {
     "duration": 0.03474,
     "end_time": "2025-07-30T14:11:12.242047",
     "exception": false,
     "start_time": "2025-07-30T14:11:12.207307",
     "status": "completed"
    },
    "tags": []
   },
   "outputs": [],
   "source": [
    "#siab"
   ]
  },
  {
   "cell_type": "code",
   "execution_count": 11,
   "id": "a0edb063",
   "metadata": {
    "execution": {
     "iopub.execute_input": "2025-07-30T14:11:12.282102Z",
     "iopub.status.busy": "2025-07-30T14:11:12.281407Z",
     "iopub.status.idle": "2025-07-30T14:11:12.286720Z",
     "shell.execute_reply": "2025-07-30T14:11:12.285649Z"
    },
    "papermill": {
     "duration": 0.026896,
     "end_time": "2025-07-30T14:11:12.288464",
     "exception": false,
     "start_time": "2025-07-30T14:11:12.261568",
     "status": "completed"
    },
    "tags": []
   },
   "outputs": [],
   "source": [
    "#import pandas as pd\n",
    "#\n",
    "#X_train = pd.read_csv(\"./data/X_train.csv\")\n",
    "#y_train = pd.read_csv(\"./data/y_train.csv\")"
   ]
  },
  {
   "cell_type": "code",
   "execution_count": 12,
   "id": "63d08085",
   "metadata": {
    "execution": {
     "iopub.execute_input": "2025-07-30T14:11:12.328273Z",
     "iopub.status.busy": "2025-07-30T14:11:12.327576Z",
     "iopub.status.idle": "2025-07-30T14:11:12.332531Z",
     "shell.execute_reply": "2025-07-30T14:11:12.331657Z"
    },
    "papermill": {
     "duration": 0.026372,
     "end_time": "2025-07-30T14:11:12.334066",
     "exception": false,
     "start_time": "2025-07-30T14:11:12.307694",
     "status": "completed"
    },
    "tags": []
   },
   "outputs": [],
   "source": [
    "#X_test = pd.read_csv(\"./data/X_test.csv\")\n",
    "#y_true = pd.read_csv(\"./data/y_test.csv\")"
   ]
  },
  {
   "cell_type": "code",
   "execution_count": 13,
   "id": "98a8d0fa-1d3d-4ed8-bb2c-281470e24add",
   "metadata": {
    "execution": {
     "iopub.execute_input": "2025-07-30T14:11:12.373589Z",
     "iopub.status.busy": "2025-07-30T14:11:12.372959Z",
     "iopub.status.idle": "2025-07-30T14:11:12.378395Z",
     "shell.execute_reply": "2025-07-30T14:11:12.377424Z"
    },
    "papermill": {
     "duration": 0.02668,
     "end_time": "2025-07-30T14:11:12.380116",
     "exception": false,
     "start_time": "2025-07-30T14:11:12.353436",
     "status": "completed"
    },
    "tags": []
   },
   "outputs": [],
   "source": [
    "# Calibration data for conformal\n",
    "#X_calib = pd.read_csv(\"./data/X_calib.csv\")\n",
    "#y_calib = pd.read_csv(\"./data/y_calib.csv\")"
   ]
  },
  {
   "cell_type": "markdown",
   "id": "997051c5-15bd-4b69-9786-c3001a3ce484",
   "metadata": {
    "papermill": {
     "duration": 0.018534,
     "end_time": "2025-07-30T14:11:12.417764",
     "exception": false,
     "start_time": "2025-07-30T14:11:12.399230",
     "status": "completed"
    },
    "tags": []
   },
   "source": [
    "# Splitting Data and Setting Training Data Size"
   ]
  },
  {
   "cell_type": "code",
   "execution_count": 14,
   "id": "e993b61f-042d-41a6-8c81-f55681f86335",
   "metadata": {
    "execution": {
     "iopub.execute_input": "2025-07-30T14:11:12.458622Z",
     "iopub.status.busy": "2025-07-30T14:11:12.457966Z",
     "iopub.status.idle": "2025-07-30T14:11:12.472142Z",
     "shell.execute_reply": "2025-07-30T14:11:12.471185Z"
    },
    "papermill": {
     "duration": 0.035857,
     "end_time": "2025-07-30T14:11:12.473954",
     "exception": false,
     "start_time": "2025-07-30T14:11:12.438097",
     "status": "completed"
    },
    "tags": []
   },
   "outputs": [],
   "source": [
    "def sample_by_year_size(df,\n",
    "                        training_year: str,\n",
    "                        training_size: str,\n",
    "                        random_state: int = 42):\n",
    "    # --- parse training_year into a list of int years ---\n",
    "    if \"_\" in training_year:\n",
    "        start_str, end_str = training_year.split(\"_\", 1)\n",
    "        start = int(start_str)\n",
    "        end   = int(end_str) if len(end_str) == 4 else (int(end_str) + (start // 100)*100)\n",
    "        years = list(range(start, end + 1))\n",
    "    else:\n",
    "        years = [int(training_year)]\n",
    "\n",
    "    df = df[df[\"year\"].isin(years)].reset_index(drop=True)\n",
    "\n",
    "    # --- map training_size to total number of samples ---\n",
    "    total_map = {\"25k\": 25_000, \"5k\": 5_000, \"1k\": 1_000}\n",
    "    if training_size not in total_map:\n",
    "        return df  # e.g. \"all\"\n",
    "\n",
    "    total_samples = total_map[training_size]\n",
    "    n_years       = len(years)\n",
    "    base          = total_samples // n_years\n",
    "    remainder     = total_samples % n_years\n",
    "\n",
    "    # --- build a dict: year -> how many to sample ---\n",
    "    # give +1 to the first `remainder` years in ascending order\n",
    "    quotas = {\n",
    "        year: base + (1 if idx < remainder else 0)\n",
    "        for idx, year in enumerate(sorted(years))\n",
    "    }\n",
    "\n",
    "    # --- sample per‐year according to the quota dict ---\n",
    "    sampled = (\n",
    "        df\n",
    "        .groupby(\"year\", group_keys=False)\n",
    "        .apply(lambda grp: grp.sample(\n",
    "            n=min(len(grp), quotas[grp.name]),\n",
    "            random_state=random_state))\n",
    "        .reset_index(drop=True)\n",
    "    )\n",
    "\n",
    "    return sampled"
   ]
  },
  {
   "cell_type": "code",
   "execution_count": 15,
   "id": "c0ccd338-0e02-41f3-a09d-f56f9266e3fb",
   "metadata": {
    "execution": {
     "iopub.execute_input": "2025-07-30T14:11:12.517213Z",
     "iopub.status.busy": "2025-07-30T14:11:12.516562Z",
     "iopub.status.idle": "2025-07-30T14:11:12.528542Z",
     "shell.execute_reply": "2025-07-30T14:11:12.527604Z"
    },
    "papermill": {
     "duration": 0.034465,
     "end_time": "2025-07-30T14:11:12.530214",
     "exception": false,
     "start_time": "2025-07-30T14:11:12.495749",
     "status": "completed"
    },
    "tags": []
   },
   "outputs": [
    {
     "data": {
      "text/plain": [
       "'5k'"
      ]
     },
     "execution_count": 15,
     "metadata": {},
     "output_type": "execute_result"
    }
   ],
   "source": [
    "universe[\"training_size\"]"
   ]
  },
  {
   "cell_type": "code",
   "execution_count": 16,
   "id": "ca707fd7-8047-4acd-bfa5-66248fbbf8e6",
   "metadata": {
    "execution": {
     "iopub.execute_input": "2025-07-30T14:11:12.571822Z",
     "iopub.status.busy": "2025-07-30T14:11:12.571001Z",
     "iopub.status.idle": "2025-07-30T14:11:12.578231Z",
     "shell.execute_reply": "2025-07-30T14:11:12.577222Z"
    },
    "papermill": {
     "duration": 0.028797,
     "end_time": "2025-07-30T14:11:12.579806",
     "exception": false,
     "start_time": "2025-07-30T14:11:12.551009",
     "status": "completed"
    },
    "tags": []
   },
   "outputs": [
    {
     "data": {
      "text/plain": [
       "'2010_14'"
      ]
     },
     "execution_count": 16,
     "metadata": {},
     "output_type": "execute_result"
    }
   ],
   "source": [
    "universe[\"training_year\"]"
   ]
  },
  {
   "cell_type": "code",
   "execution_count": 17,
   "id": "aea9c6ef-6f46-42c8-85eb-5a62025c1508",
   "metadata": {
    "execution": {
     "iopub.execute_input": "2025-07-30T14:11:12.624210Z",
     "iopub.status.busy": "2025-07-30T14:11:12.623548Z",
     "iopub.status.idle": "2025-07-30T14:11:13.629516Z",
     "shell.execute_reply": "2025-07-30T14:11:13.628268Z"
    },
    "papermill": {
     "duration": 1.029496,
     "end_time": "2025-07-30T14:11:13.631805",
     "exception": false,
     "start_time": "2025-07-30T14:11:12.602309",
     "status": "completed"
    },
    "tags": []
   },
   "outputs": [],
   "source": [
    "siab_train = sample_by_year_size(siab,\n",
    "                               training_year=universe[\"training_year\"],\n",
    "                               training_size=universe[\"training_size\"])"
   ]
  },
  {
   "cell_type": "code",
   "execution_count": 18,
   "id": "8d3afb32-789d-442c-8d5d-9f5aa8dd2eed",
   "metadata": {
    "execution": {
     "iopub.execute_input": "2025-07-30T14:11:13.680543Z",
     "iopub.status.busy": "2025-07-30T14:11:13.680067Z",
     "iopub.status.idle": "2025-07-30T14:11:13.687262Z",
     "shell.execute_reply": "2025-07-30T14:11:13.686276Z"
    },
    "papermill": {
     "duration": 0.03142,
     "end_time": "2025-07-30T14:11:13.689016",
     "exception": false,
     "start_time": "2025-07-30T14:11:13.657596",
     "status": "completed"
    },
    "tags": []
   },
   "outputs": [
    {
     "data": {
      "text/plain": [
       "(5000, 164)"
      ]
     },
     "execution_count": 18,
     "metadata": {},
     "output_type": "execute_result"
    }
   ],
   "source": [
    "siab_train.shape"
   ]
  },
  {
   "cell_type": "code",
   "execution_count": 19,
   "id": "d582db68-1a4c-47fb-84fc-08518dc1975a",
   "metadata": {
    "execution": {
     "iopub.execute_input": "2025-07-30T14:11:13.735021Z",
     "iopub.status.busy": "2025-07-30T14:11:13.734372Z",
     "iopub.status.idle": "2025-07-30T14:11:13.744521Z",
     "shell.execute_reply": "2025-07-30T14:11:13.743402Z"
    },
    "papermill": {
     "duration": 0.034123,
     "end_time": "2025-07-30T14:11:13.746198",
     "exception": false,
     "start_time": "2025-07-30T14:11:13.712075",
     "status": "completed"
    },
    "tags": []
   },
   "outputs": [
    {
     "data": {
      "text/plain": [
       "year\n",
       "2010    1000\n",
       "2011    1000\n",
       "2012    1000\n",
       "2013    1000\n",
       "2014    1000\n",
       "dtype: int64"
      ]
     },
     "metadata": {},
     "output_type": "display_data"
    }
   ],
   "source": [
    "display(siab_train.groupby(\"year\").size())"
   ]
  },
  {
   "cell_type": "code",
   "execution_count": 20,
   "id": "a561edb4-d032-42cb-8256-22eac1111c64",
   "metadata": {
    "execution": {
     "iopub.execute_input": "2025-07-30T14:11:13.788790Z",
     "iopub.status.busy": "2025-07-30T14:11:13.788154Z",
     "iopub.status.idle": "2025-07-30T14:11:14.046698Z",
     "shell.execute_reply": "2025-07-30T14:11:14.045725Z"
    },
    "papermill": {
     "duration": 0.281294,
     "end_time": "2025-07-30T14:11:14.048533",
     "exception": false,
     "start_time": "2025-07-30T14:11:13.767239",
     "status": "completed"
    },
    "tags": []
   },
   "outputs": [],
   "source": [
    "#siab_train = siab_s[siab_s.year < 2015]\n",
    "siab_calib = siab[siab.year == 2015]\n",
    "siab_test = siab[siab.year == 2016]"
   ]
  },
  {
   "cell_type": "code",
   "execution_count": 21,
   "id": "472de16f-c3db-4916-846b-1f0de9cf1746",
   "metadata": {
    "execution": {
     "iopub.execute_input": "2025-07-30T14:11:14.094237Z",
     "iopub.status.busy": "2025-07-30T14:11:14.093187Z",
     "iopub.status.idle": "2025-07-30T14:11:14.101499Z",
     "shell.execute_reply": "2025-07-30T14:11:14.100535Z"
    },
    "papermill": {
     "duration": 0.031772,
     "end_time": "2025-07-30T14:11:14.103252",
     "exception": false,
     "start_time": "2025-07-30T14:11:14.071480",
     "status": "completed"
    },
    "tags": []
   },
   "outputs": [],
   "source": [
    "X_train = siab_train.iloc[:,4:164]\n",
    "y_train = siab_train.iloc[:, [3]]"
   ]
  },
  {
   "cell_type": "code",
   "execution_count": 22,
   "id": "828c96af-f43a-4ed6-ba47-8ac73a47d56c",
   "metadata": {
    "execution": {
     "iopub.execute_input": "2025-07-30T14:11:14.155818Z",
     "iopub.status.busy": "2025-07-30T14:11:14.155145Z",
     "iopub.status.idle": "2025-07-30T14:11:14.209946Z",
     "shell.execute_reply": "2025-07-30T14:11:14.208787Z"
    },
    "papermill": {
     "duration": 0.083683,
     "end_time": "2025-07-30T14:11:14.211681",
     "exception": false,
     "start_time": "2025-07-30T14:11:14.127998",
     "status": "completed"
    },
    "tags": []
   },
   "outputs": [],
   "source": [
    "X_calib = siab_calib.iloc[:,4:164]\n",
    "y_calib = siab_calib.iloc[:, [3]]"
   ]
  },
  {
   "cell_type": "code",
   "execution_count": 23,
   "id": "c34be9c3-6bd6-476e-acd3-845840e303be",
   "metadata": {
    "execution": {
     "iopub.execute_input": "2025-07-30T14:11:14.255971Z",
     "iopub.status.busy": "2025-07-30T14:11:14.255510Z",
     "iopub.status.idle": "2025-07-30T14:11:14.314614Z",
     "shell.execute_reply": "2025-07-30T14:11:14.313543Z"
    },
    "papermill": {
     "duration": 0.082106,
     "end_time": "2025-07-30T14:11:14.316366",
     "exception": false,
     "start_time": "2025-07-30T14:11:14.234260",
     "status": "completed"
    },
    "tags": []
   },
   "outputs": [],
   "source": [
    "X_test = siab_test.iloc[:,4:164]\n",
    "y_true = siab_test.iloc[:, [3]]"
   ]
  },
  {
   "cell_type": "markdown",
   "id": "9901737e-04df-44f0-9100-f5ad144ed040",
   "metadata": {
    "papermill": {
     "duration": 0.021593,
     "end_time": "2025-07-30T14:11:14.361156",
     "exception": false,
     "start_time": "2025-07-30T14:11:14.339563",
     "status": "completed"
    },
    "tags": []
   },
   "source": [
    "# Splitting Data and Setting Training Data Size OLD VERSION"
   ]
  },
  {
   "cell_type": "code",
   "execution_count": 24,
   "id": "acbc8f7d-8fc8-4e86-8c59-5dcb0f58384b",
   "metadata": {
    "execution": {
     "iopub.execute_input": "2025-07-30T14:11:14.405883Z",
     "iopub.status.busy": "2025-07-30T14:11:14.405466Z",
     "iopub.status.idle": "2025-07-30T14:11:14.411230Z",
     "shell.execute_reply": "2025-07-30T14:11:14.410035Z"
    },
    "papermill": {
     "duration": 0.031292,
     "end_time": "2025-07-30T14:11:14.413035",
     "exception": false,
     "start_time": "2025-07-30T14:11:14.381743",
     "status": "completed"
    },
    "tags": []
   },
   "outputs": [],
   "source": [
    "#def sample_by_year(df, training_size, random_state=42):\n",
    "#    if training_size == \"2014\":\n",
    "#        return df[df[\"year\"] == 2014].reset_index(drop=True)\n",
    "#    \n",
    "#    size_map = {\n",
    "#        \"25k\": 5000,\n",
    "#        \"5k\": 1000,\n",
    "#        \"1k\": 200\n",
    "#    }\n",
    "#\n",
    "#    if training_size not in size_map:\n",
    "#        return df.reset_index(drop=True)  # use all data\n",
    "#\n",
    "#    n_per_year = size_map[training_size]\n",
    "#    grouped = df.groupby(\"year\")\n",
    "#    sampled = grouped.apply(lambda x: x.sample(n=min(n_per_year, len(x)), random_state=random_state))\n",
    "#    return sampled.reset_index(drop=True)"
   ]
  },
  {
   "cell_type": "code",
   "execution_count": 25,
   "id": "6d931f52-beaf-43ff-9e78-9d44a448d54e",
   "metadata": {
    "execution": {
     "iopub.execute_input": "2025-07-30T14:11:14.459929Z",
     "iopub.status.busy": "2025-07-30T14:11:14.459362Z",
     "iopub.status.idle": "2025-07-30T14:11:14.464979Z",
     "shell.execute_reply": "2025-07-30T14:11:14.463960Z"
    },
    "papermill": {
     "duration": 0.031363,
     "end_time": "2025-07-30T14:11:14.466531",
     "exception": false,
     "start_time": "2025-07-30T14:11:14.435168",
     "status": "completed"
    },
    "tags": []
   },
   "outputs": [],
   "source": [
    "#siab_s = sample_by_year(siab, universe[\"training_size\"])"
   ]
  },
  {
   "cell_type": "code",
   "execution_count": 26,
   "id": "5db0a40e-a4e2-4920-be85-b12ae061d70d",
   "metadata": {
    "execution": {
     "iopub.execute_input": "2025-07-30T14:11:14.514553Z",
     "iopub.status.busy": "2025-07-30T14:11:14.513971Z",
     "iopub.status.idle": "2025-07-30T14:11:14.519283Z",
     "shell.execute_reply": "2025-07-30T14:11:14.518270Z"
    },
    "papermill": {
     "duration": 0.03195,
     "end_time": "2025-07-30T14:11:14.520982",
     "exception": false,
     "start_time": "2025-07-30T14:11:14.489032",
     "status": "completed"
    },
    "tags": []
   },
   "outputs": [],
   "source": [
    "#display(siab_s.groupby(\"year\").size())"
   ]
  },
  {
   "cell_type": "code",
   "execution_count": 27,
   "id": "e6c733c5",
   "metadata": {
    "execution": {
     "iopub.execute_input": "2025-07-30T14:11:14.566867Z",
     "iopub.status.busy": "2025-07-30T14:11:14.565927Z",
     "iopub.status.idle": "2025-07-30T14:11:14.667604Z",
     "shell.execute_reply": "2025-07-30T14:11:14.666770Z"
    },
    "papermill": {
     "duration": 0.126052,
     "end_time": "2025-07-30T14:11:14.668985",
     "exception": false,
     "start_time": "2025-07-30T14:11:14.542933",
     "status": "completed"
    },
    "tags": []
   },
   "outputs": [],
   "source": [
    "# Auxiliary data needed downstream in the pipeline\n",
    "\n",
    "org_train = X_train.copy()\n",
    "org_test = X_test.copy()\n",
    "org_calib = X_calib.copy()"
   ]
  },
  {
   "cell_type": "code",
   "execution_count": 28,
   "id": "1466abac-c6da-4492-a62f-4240ae3783af",
   "metadata": {
    "execution": {
     "iopub.execute_input": "2025-07-30T14:11:14.693889Z",
     "iopub.status.busy": "2025-07-30T14:11:14.693220Z",
     "iopub.status.idle": "2025-07-30T14:11:14.698100Z",
     "shell.execute_reply": "2025-07-30T14:11:14.697390Z"
    },
    "papermill": {
     "duration": 0.018604,
     "end_time": "2025-07-30T14:11:14.699576",
     "exception": false,
     "start_time": "2025-07-30T14:11:14.680972",
     "status": "completed"
    },
    "tags": []
   },
   "outputs": [],
   "source": [
    "# put in other script?\n",
    "# Group sizes\n",
    "\n",
    "#def calculate_percentages(df, df_name):\n",
    "#    total_entries = len(df)\n",
    "#\n",
    "#    female_pct = (df['frau1'] == 1).mean() * 100\n",
    "#    non_german_pct = ((df['maxdeutsch1'] == 0) & (df['maxdeutsch.Missing.'] == 0)).mean() * 100\n",
    "#    non_german_male_pct = ((df['frau1'] == 0) & (df['maxdeutsch1'] == 0) & (df['maxdeutsch.Missing.'] == 0)).mean() * 100\n",
    "#    non_german_female_pct = ((df['frau1'] == 1) & (df['maxdeutsch1'] == 0) & (df['maxdeutsch.Missing.'] == 0)).mean() * 100\n",
    "#\n",
    "#    print(f\"--- {df_name} ---\")\n",
    "#    print(f\"Female: {female_pct:.2f}%\")\n",
    "#    print(f\"Non-German: {non_german_pct:.2f}%\")\n",
    "#    print(f\"Non-German Male: {non_german_male_pct:.2f}%\")\n",
    "#    print(f\"Non-German Female: {non_german_female_pct:.2f}%\\n\")\n",
    "#\n",
    "## Calculate for each DataFrame\n",
    "#calculate_percentages(siab_calib, \"siab_calib\")\n",
    "#calculate_percentages(siab_test, \"siab_test\")\n",
    "#calculate_percentages(siab_train, \"siab_train\")"
   ]
  },
  {
   "cell_type": "markdown",
   "id": "0a4a1b33",
   "metadata": {
    "papermill": {
     "duration": 0.011337,
     "end_time": "2025-07-30T14:11:14.722969",
     "exception": false,
     "start_time": "2025-07-30T14:11:14.711632",
     "status": "completed"
    },
    "tags": []
   },
   "source": [
    "# Preprocessing Data"
   ]
  },
  {
   "cell_type": "code",
   "execution_count": 29,
   "id": "ca879031",
   "metadata": {
    "execution": {
     "iopub.execute_input": "2025-07-30T14:11:14.746574Z",
     "iopub.status.busy": "2025-07-30T14:11:14.745921Z",
     "iopub.status.idle": "2025-07-30T14:11:14.750948Z",
     "shell.execute_reply": "2025-07-30T14:11:14.750265Z"
    },
    "papermill": {
     "duration": 0.018425,
     "end_time": "2025-07-30T14:11:14.752312",
     "exception": false,
     "start_time": "2025-07-30T14:11:14.733887",
     "status": "completed"
    },
    "tags": []
   },
   "outputs": [],
   "source": [
    "# EXCLUDE PROTECTED FEATURES\n",
    "# ----------------------\n",
    "# \"exclude_features\": \"none\", # \"nationality\", \"sex\", \"nationality-sex\"\n",
    "\n",
    "excluded_features = universe[\"exclude_features\"].split(\"-\") # split, e.g.: \"nationality-sex\" -> [\"nationality\", \"sex\"]\n",
    "excluded_features_dictionary = {\n",
    "    \"nationality\": [\"maxdeutsch1\", \"maxdeutsch.Missing.\"],\n",
    "    \"sex\": [\"frau1\"],\n",
    "    \"age\": [\"age\"],\n",
    "}\n"
   ]
  },
  {
   "cell_type": "code",
   "execution_count": 30,
   "id": "b745ac60",
   "metadata": {
    "execution": {
     "iopub.execute_input": "2025-07-30T14:11:14.779079Z",
     "iopub.status.busy": "2025-07-30T14:11:14.778715Z",
     "iopub.status.idle": "2025-07-30T14:11:14.783249Z",
     "shell.execute_reply": "2025-07-30T14:11:14.782497Z"
    },
    "papermill": {
     "duration": 0.019087,
     "end_time": "2025-07-30T14:11:14.784673",
     "exception": false,
     "start_time": "2025-07-30T14:11:14.765586",
     "status": "completed"
    },
    "tags": []
   },
   "outputs": [],
   "source": [
    "# Code nice names to column names\n",
    "\n",
    "excluded_features_columns = [\n",
    "    excluded_features_dictionary[f] for f in excluded_features if len(f) > 0 and f != \"none\"\n",
    "]"
   ]
  },
  {
   "cell_type": "code",
   "execution_count": 31,
   "id": "f84f73a2",
   "metadata": {
    "execution": {
     "iopub.execute_input": "2025-07-30T14:11:14.824654Z",
     "iopub.status.busy": "2025-07-30T14:11:14.824211Z",
     "iopub.status.idle": "2025-07-30T14:11:14.831097Z",
     "shell.execute_reply": "2025-07-30T14:11:14.830084Z"
    },
    "papermill": {
     "duration": 0.032242,
     "end_time": "2025-07-30T14:11:14.833007",
     "exception": false,
     "start_time": "2025-07-30T14:11:14.800765",
     "status": "completed"
    },
    "tags": []
   },
   "outputs": [],
   "source": [
    "from utils import flatten_once\n",
    "\n",
    "excluded_features_columns = flatten_once(excluded_features_columns)"
   ]
  },
  {
   "cell_type": "code",
   "execution_count": 32,
   "id": "884dea22",
   "metadata": {
    "execution": {
     "iopub.execute_input": "2025-07-30T14:11:14.877268Z",
     "iopub.status.busy": "2025-07-30T14:11:14.876690Z",
     "iopub.status.idle": "2025-07-30T14:11:14.887005Z",
     "shell.execute_reply": "2025-07-30T14:11:14.886098Z"
    },
    "papermill": {
     "duration": 0.033925,
     "end_time": "2025-07-30T14:11:14.888775",
     "exception": false,
     "start_time": "2025-07-30T14:11:14.854850",
     "status": "completed"
    },
    "tags": []
   },
   "outputs": [
    {
     "name": "stdout",
     "output_type": "stream",
     "text": [
      "Dropping features: ['frau1']\n"
     ]
    }
   ],
   "source": [
    "if len(excluded_features_columns) > 0:\n",
    "    print(f\"Dropping features: {excluded_features_columns}\")\n",
    "    X_train.drop(excluded_features_columns, axis=1, inplace=True)"
   ]
  },
  {
   "cell_type": "code",
   "execution_count": 33,
   "id": "95ab8b16",
   "metadata": {
    "execution": {
     "iopub.execute_input": "2025-07-30T14:11:14.934796Z",
     "iopub.status.busy": "2025-07-30T14:11:14.933973Z",
     "iopub.status.idle": "2025-07-30T14:11:14.990948Z",
     "shell.execute_reply": "2025-07-30T14:11:14.989868Z"
    },
    "papermill": {
     "duration": 0.082146,
     "end_time": "2025-07-30T14:11:14.993162",
     "exception": false,
     "start_time": "2025-07-30T14:11:14.911016",
     "status": "completed"
    },
    "tags": []
   },
   "outputs": [
    {
     "name": "stdout",
     "output_type": "stream",
     "text": [
      "Dropping features: ['frau1']\n"
     ]
    }
   ],
   "source": [
    "if len(excluded_features_columns) > 0:\n",
    "    print(f\"Dropping features: {excluded_features_columns}\")\n",
    "    X_test.drop(excluded_features_columns, axis=1, inplace=True)"
   ]
  },
  {
   "cell_type": "code",
   "execution_count": 34,
   "id": "1853aaf5-fb9f-46cb-a2b5-8ea4ae2237e4",
   "metadata": {
    "execution": {
     "iopub.execute_input": "2025-07-30T14:11:15.038671Z",
     "iopub.status.busy": "2025-07-30T14:11:15.037893Z",
     "iopub.status.idle": "2025-07-30T14:11:15.089423Z",
     "shell.execute_reply": "2025-07-30T14:11:15.088489Z"
    },
    "papermill": {
     "duration": 0.075136,
     "end_time": "2025-07-30T14:11:15.091284",
     "exception": false,
     "start_time": "2025-07-30T14:11:15.016148",
     "status": "completed"
    },
    "tags": []
   },
   "outputs": [
    {
     "name": "stdout",
     "output_type": "stream",
     "text": [
      "Dropping features: ['frau1']\n"
     ]
    }
   ],
   "source": [
    "if len(excluded_features_columns) > 0:\n",
    "    print(f\"Dropping features: {excluded_features_columns}\")\n",
    "    X_calib.drop(excluded_features_columns, axis=1, inplace=True)"
   ]
  },
  {
   "cell_type": "code",
   "execution_count": 35,
   "id": "6727d079-03e5-481e-9d38-292a90b7a0a8",
   "metadata": {
    "execution": {
     "iopub.execute_input": "2025-07-30T14:11:15.139671Z",
     "iopub.status.busy": "2025-07-30T14:11:15.138711Z",
     "iopub.status.idle": "2025-07-30T14:11:15.143988Z",
     "shell.execute_reply": "2025-07-30T14:11:15.143035Z"
    },
    "papermill": {
     "duration": 0.030346,
     "end_time": "2025-07-30T14:11:15.145617",
     "exception": false,
     "start_time": "2025-07-30T14:11:15.115271",
     "status": "completed"
    },
    "tags": []
   },
   "outputs": [],
   "source": [
    "# SPLIT & STRATIFY DATA\n",
    "# ----------------------"
   ]
  },
  {
   "cell_type": "code",
   "execution_count": 36,
   "id": "76c4dc6d",
   "metadata": {
    "execution": {
     "iopub.execute_input": "2025-07-30T14:11:15.190715Z",
     "iopub.status.busy": "2025-07-30T14:11:15.190165Z",
     "iopub.status.idle": "2025-07-30T14:11:15.195862Z",
     "shell.execute_reply": "2025-07-30T14:11:15.194874Z"
    },
    "papermill": {
     "duration": 0.029677,
     "end_time": "2025-07-30T14:11:15.197532",
     "exception": false,
     "start_time": "2025-07-30T14:11:15.167855",
     "status": "completed"
    },
    "tags": []
   },
   "outputs": [],
   "source": [
    "# EXCLUDE CERTAIN SUBGROUPS\n",
    "# ----------------------\n",
    "\n",
    "mode = universe.get(\"exclude_subgroups\", \"keep-all\") \n",
    "# Fetches the exclude_subgroups setting from the universe dict.\n",
    "# Defaults to \"keep-all\" if the key is missing."
   ]
  },
  {
   "cell_type": "code",
   "execution_count": 37,
   "id": "21994072",
   "metadata": {
    "execution": {
     "iopub.execute_input": "2025-07-30T14:11:15.242315Z",
     "iopub.status.busy": "2025-07-30T14:11:15.241763Z",
     "iopub.status.idle": "2025-07-30T14:11:15.248787Z",
     "shell.execute_reply": "2025-07-30T14:11:15.247747Z"
    },
    "papermill": {
     "duration": 0.030606,
     "end_time": "2025-07-30T14:11:15.250345",
     "exception": false,
     "start_time": "2025-07-30T14:11:15.219739",
     "status": "completed"
    },
    "tags": []
   },
   "outputs": [],
   "source": [
    "if mode == \"keep-all\":\n",
    "    keep_mask = pd.Series(True, index=org_train.index)\n",
    "\n",
    "# org_train contains the original feature columns from features_org (in Simson)\n",
    "# features_org contains unprocessed features, for me X_train at beginning ???\n",
    "# For keep-all, creates a boolean Series (keep_mask) of all True, so no rows are removed.\n",
    "\n",
    "elif mode == \"drop-non-german\":\n",
    "    keep_mask = org_train[\"maxdeutsch1\"] == 1 # ??? what about missing values?\n",
    "\n",
    "else:\n",
    "    raise ValueError(f\"Unsupported mode for exclude_subgroups: {mode}\")\n"
   ]
  },
  {
   "cell_type": "code",
   "execution_count": 38,
   "id": "71651440",
   "metadata": {
    "execution": {
     "iopub.execute_input": "2025-07-30T14:11:15.294868Z",
     "iopub.status.busy": "2025-07-30T14:11:15.294242Z",
     "iopub.status.idle": "2025-07-30T14:11:15.301251Z",
     "shell.execute_reply": "2025-07-30T14:11:15.300212Z"
    },
    "papermill": {
     "duration": 0.030451,
     "end_time": "2025-07-30T14:11:15.302873",
     "exception": false,
     "start_time": "2025-07-30T14:11:15.272422",
     "status": "completed"
    },
    "tags": []
   },
   "outputs": [],
   "source": [
    "n_drop = (~keep_mask).sum() # Calculates how many rows are set to be dropped\n",
    "if n_drop > 0:\n",
    "    pct = n_drop / len(keep_mask) * 100\n",
    "    print(f\"Dropping {n_drop} rows ({pct:.2f}%) where mode='{mode}'\")"
   ]
  },
  {
   "cell_type": "code",
   "execution_count": 39,
   "id": "5fb8eee5",
   "metadata": {
    "execution": {
     "iopub.execute_input": "2025-07-30T14:11:15.348486Z",
     "iopub.status.busy": "2025-07-30T14:11:15.347669Z",
     "iopub.status.idle": "2025-07-30T14:11:15.358196Z",
     "shell.execute_reply": "2025-07-30T14:11:15.357142Z"
    },
    "papermill": {
     "duration": 0.034277,
     "end_time": "2025-07-30T14:11:15.359930",
     "exception": false,
     "start_time": "2025-07-30T14:11:15.325653",
     "status": "completed"
    },
    "tags": []
   },
   "outputs": [],
   "source": [
    "X_train = X_train[keep_mask]"
   ]
  },
  {
   "cell_type": "code",
   "execution_count": 40,
   "id": "b202bb3a",
   "metadata": {
    "execution": {
     "iopub.execute_input": "2025-07-30T14:11:15.405700Z",
     "iopub.status.busy": "2025-07-30T14:11:15.405065Z",
     "iopub.status.idle": "2025-07-30T14:11:15.411203Z",
     "shell.execute_reply": "2025-07-30T14:11:15.410242Z"
    },
    "papermill": {
     "duration": 0.02998,
     "end_time": "2025-07-30T14:11:15.412978",
     "exception": false,
     "start_time": "2025-07-30T14:11:15.382998",
     "status": "completed"
    },
    "tags": []
   },
   "outputs": [],
   "source": [
    "y_train = y_train[keep_mask]"
   ]
  },
  {
   "cell_type": "markdown",
   "id": "493e2ac3",
   "metadata": {
    "papermill": {
     "duration": 0.025226,
     "end_time": "2025-07-30T14:11:15.464541",
     "exception": false,
     "start_time": "2025-07-30T14:11:15.439315",
     "status": "completed"
    },
    "tags": []
   },
   "source": [
    "# Model Training"
   ]
  },
  {
   "cell_type": "code",
   "execution_count": 41,
   "id": "679e1268",
   "metadata": {
    "execution": {
     "iopub.execute_input": "2025-07-30T14:11:15.517465Z",
     "iopub.status.busy": "2025-07-30T14:11:15.516482Z",
     "iopub.status.idle": "2025-07-30T14:11:15.622065Z",
     "shell.execute_reply": "2025-07-30T14:11:15.621075Z"
    },
    "papermill": {
     "duration": 0.13394,
     "end_time": "2025-07-30T14:11:15.623956",
     "exception": false,
     "start_time": "2025-07-30T14:11:15.490016",
     "status": "completed"
    },
    "tags": []
   },
   "outputs": [],
   "source": [
    "from sklearn.linear_model import LogisticRegression\n",
    "from sklearn.ensemble import GradientBoostingClassifier, RandomForestClassifier\n",
    "\n",
    "if (universe[\"model\"] == \"logreg\"):\n",
    "    model = LogisticRegression() #penalty=\"none\") #, solver=\"newton-cg\", max_iter=1) # include random_state=19 ?\n",
    "elif (universe[\"model\"] == \"penalized_logreg\"):\n",
    "    model = LogisticRegression(penalty=\"l2\", C=1.0) #, solver=\"newton-cg\", max_iter=1)\n",
    "elif (universe[\"model\"] == \"rf\"):\n",
    "    model = RandomForestClassifier(n_estimators=100, n_jobs=-1)\n",
    "elif (universe[\"model\"] == \"gbm\"):\n",
    "    model = GradientBoostingClassifier()\n",
    "elif (universe[\"model\"] == \"elasticnet\"):\n",
    "    model = LogisticRegression(penalty = 'elasticnet', solver = 'saga', l1_ratio = 0.5, max_iter=5000) # which solver to use?\n",
    "else:\n",
    "    raise \"Unsupported universe.model\""
   ]
  },
  {
   "cell_type": "code",
   "execution_count": 42,
   "id": "0cc8f744",
   "metadata": {
    "execution": {
     "iopub.execute_input": "2025-07-30T14:11:15.673185Z",
     "iopub.status.busy": "2025-07-30T14:11:15.672708Z",
     "iopub.status.idle": "2025-07-30T14:11:15.679286Z",
     "shell.execute_reply": "2025-07-30T14:11:15.678477Z"
    },
    "papermill": {
     "duration": 0.031155,
     "end_time": "2025-07-30T14:11:15.680569",
     "exception": false,
     "start_time": "2025-07-30T14:11:15.649414",
     "status": "completed"
    },
    "tags": []
   },
   "outputs": [],
   "source": [
    "import numpy as np\n",
    "from sklearn.pipeline import Pipeline\n",
    "from sklearn.preprocessing import StandardScaler\n",
    "\n",
    "model = Pipeline([\n",
    "    #(\"continuous_processor\", continuous_processor),\n",
    "    #(\"categorical_preprocessor\", categorical_preprocessor),\n",
    "    (\"scale\", StandardScaler() if universe[\"scale\"] == \"scale\" else None), \n",
    "    (\"model\", model),\n",
    "])"
   ]
  },
  {
   "cell_type": "code",
   "execution_count": 43,
   "id": "9442c04d",
   "metadata": {
    "execution": {
     "iopub.execute_input": "2025-07-30T14:11:15.725643Z",
     "iopub.status.busy": "2025-07-30T14:11:15.724948Z",
     "iopub.status.idle": "2025-07-30T14:11:28.938578Z",
     "shell.execute_reply": "2025-07-30T14:11:28.937710Z"
    },
    "papermill": {
     "duration": 13.233683,
     "end_time": "2025-07-30T14:11:28.940397",
     "exception": false,
     "start_time": "2025-07-30T14:11:15.706714",
     "status": "completed"
    },
    "tags": []
   },
   "outputs": [
    {
     "data": {
      "text/html": [
       "<style>#sk-container-id-1 {color: black;background-color: white;}#sk-container-id-1 pre{padding: 0;}#sk-container-id-1 div.sk-toggleable {background-color: white;}#sk-container-id-1 label.sk-toggleable__label {cursor: pointer;display: block;width: 100%;margin-bottom: 0;padding: 0.3em;box-sizing: border-box;text-align: center;}#sk-container-id-1 label.sk-toggleable__label-arrow:before {content: \"▸\";float: left;margin-right: 0.25em;color: #696969;}#sk-container-id-1 label.sk-toggleable__label-arrow:hover:before {color: black;}#sk-container-id-1 div.sk-estimator:hover label.sk-toggleable__label-arrow:before {color: black;}#sk-container-id-1 div.sk-toggleable__content {max-height: 0;max-width: 0;overflow: hidden;text-align: left;background-color: #f0f8ff;}#sk-container-id-1 div.sk-toggleable__content pre {margin: 0.2em;color: black;border-radius: 0.25em;background-color: #f0f8ff;}#sk-container-id-1 input.sk-toggleable__control:checked~div.sk-toggleable__content {max-height: 200px;max-width: 100%;overflow: auto;}#sk-container-id-1 input.sk-toggleable__control:checked~label.sk-toggleable__label-arrow:before {content: \"▾\";}#sk-container-id-1 div.sk-estimator input.sk-toggleable__control:checked~label.sk-toggleable__label {background-color: #d4ebff;}#sk-container-id-1 div.sk-label input.sk-toggleable__control:checked~label.sk-toggleable__label {background-color: #d4ebff;}#sk-container-id-1 input.sk-hidden--visually {border: 0;clip: rect(1px 1px 1px 1px);clip: rect(1px, 1px, 1px, 1px);height: 1px;margin: -1px;overflow: hidden;padding: 0;position: absolute;width: 1px;}#sk-container-id-1 div.sk-estimator {font-family: monospace;background-color: #f0f8ff;border: 1px dotted black;border-radius: 0.25em;box-sizing: border-box;margin-bottom: 0.5em;}#sk-container-id-1 div.sk-estimator:hover {background-color: #d4ebff;}#sk-container-id-1 div.sk-parallel-item::after {content: \"\";width: 100%;border-bottom: 1px solid gray;flex-grow: 1;}#sk-container-id-1 div.sk-label:hover label.sk-toggleable__label {background-color: #d4ebff;}#sk-container-id-1 div.sk-serial::before {content: \"\";position: absolute;border-left: 1px solid gray;box-sizing: border-box;top: 0;bottom: 0;left: 50%;z-index: 0;}#sk-container-id-1 div.sk-serial {display: flex;flex-direction: column;align-items: center;background-color: white;padding-right: 0.2em;padding-left: 0.2em;position: relative;}#sk-container-id-1 div.sk-item {position: relative;z-index: 1;}#sk-container-id-1 div.sk-parallel {display: flex;align-items: stretch;justify-content: center;background-color: white;position: relative;}#sk-container-id-1 div.sk-item::before, #sk-container-id-1 div.sk-parallel-item::before {content: \"\";position: absolute;border-left: 1px solid gray;box-sizing: border-box;top: 0;bottom: 0;left: 50%;z-index: -1;}#sk-container-id-1 div.sk-parallel-item {display: flex;flex-direction: column;z-index: 1;position: relative;background-color: white;}#sk-container-id-1 div.sk-parallel-item:first-child::after {align-self: flex-end;width: 50%;}#sk-container-id-1 div.sk-parallel-item:last-child::after {align-self: flex-start;width: 50%;}#sk-container-id-1 div.sk-parallel-item:only-child::after {width: 0;}#sk-container-id-1 div.sk-dashed-wrapped {border: 1px dashed gray;margin: 0 0.4em 0.5em 0.4em;box-sizing: border-box;padding-bottom: 0.4em;background-color: white;}#sk-container-id-1 div.sk-label label {font-family: monospace;font-weight: bold;display: inline-block;line-height: 1.2em;}#sk-container-id-1 div.sk-label-container {text-align: center;}#sk-container-id-1 div.sk-container {/* jupyter's `normalize.less` sets `[hidden] { display: none; }` but bootstrap.min.css set `[hidden] { display: none !important; }` so we also need the `!important` here to be able to override the default hidden behavior on the sphinx rendered scikit-learn.org. See: https://github.com/scikit-learn/scikit-learn/issues/21755 */display: inline-block !important;position: relative;}#sk-container-id-1 div.sk-text-repr-fallback {display: none;}</style><div id=\"sk-container-id-1\" class=\"sk-top-container\"><div class=\"sk-text-repr-fallback\"><pre>Pipeline(steps=[(&#x27;scale&#x27;, StandardScaler()),\n",
       "                (&#x27;model&#x27;,\n",
       "                 LogisticRegression(l1_ratio=0.5, max_iter=5000,\n",
       "                                    penalty=&#x27;elasticnet&#x27;, solver=&#x27;saga&#x27;))])</pre><b>In a Jupyter environment, please rerun this cell to show the HTML representation or trust the notebook. <br />On GitHub, the HTML representation is unable to render, please try loading this page with nbviewer.org.</b></div><div class=\"sk-container\" hidden><div class=\"sk-item sk-dashed-wrapped\"><div class=\"sk-label-container\"><div class=\"sk-label sk-toggleable\"><input class=\"sk-toggleable__control sk-hidden--visually\" id=\"sk-estimator-id-1\" type=\"checkbox\" ><label for=\"sk-estimator-id-1\" class=\"sk-toggleable__label sk-toggleable__label-arrow\">Pipeline</label><div class=\"sk-toggleable__content\"><pre>Pipeline(steps=[(&#x27;scale&#x27;, StandardScaler()),\n",
       "                (&#x27;model&#x27;,\n",
       "                 LogisticRegression(l1_ratio=0.5, max_iter=5000,\n",
       "                                    penalty=&#x27;elasticnet&#x27;, solver=&#x27;saga&#x27;))])</pre></div></div></div><div class=\"sk-serial\"><div class=\"sk-item\"><div class=\"sk-estimator sk-toggleable\"><input class=\"sk-toggleable__control sk-hidden--visually\" id=\"sk-estimator-id-2\" type=\"checkbox\" ><label for=\"sk-estimator-id-2\" class=\"sk-toggleable__label sk-toggleable__label-arrow\">StandardScaler</label><div class=\"sk-toggleable__content\"><pre>StandardScaler()</pre></div></div></div><div class=\"sk-item\"><div class=\"sk-estimator sk-toggleable\"><input class=\"sk-toggleable__control sk-hidden--visually\" id=\"sk-estimator-id-3\" type=\"checkbox\" ><label for=\"sk-estimator-id-3\" class=\"sk-toggleable__label sk-toggleable__label-arrow\">LogisticRegression</label><div class=\"sk-toggleable__content\"><pre>LogisticRegression(l1_ratio=0.5, max_iter=5000, penalty=&#x27;elasticnet&#x27;,\n",
       "                   solver=&#x27;saga&#x27;)</pre></div></div></div></div></div></div></div>"
      ],
      "text/plain": [
       "Pipeline(steps=[('scale', StandardScaler()),\n",
       "                ('model',\n",
       "                 LogisticRegression(l1_ratio=0.5, max_iter=5000,\n",
       "                                    penalty='elasticnet', solver='saga'))])"
      ]
     },
     "execution_count": 43,
     "metadata": {},
     "output_type": "execute_result"
    }
   ],
   "source": [
    "model.fit(X_train, y_train.values.ravel())"
   ]
  },
  {
   "cell_type": "code",
   "execution_count": 44,
   "id": "af59f8c0",
   "metadata": {
    "execution": {
     "iopub.execute_input": "2025-07-30T14:11:28.990923Z",
     "iopub.status.busy": "2025-07-30T14:11:28.989959Z",
     "iopub.status.idle": "2025-07-30T14:11:28.995406Z",
     "shell.execute_reply": "2025-07-30T14:11:28.994458Z"
    },
    "papermill": {
     "duration": 0.032116,
     "end_time": "2025-07-30T14:11:28.997142",
     "exception": false,
     "start_time": "2025-07-30T14:11:28.965026",
     "status": "completed"
    },
    "tags": []
   },
   "outputs": [],
   "source": [
    "from fairness_multiverse.universe import predict_w_threshold"
   ]
  },
  {
   "cell_type": "code",
   "execution_count": 45,
   "id": "a7cf2e16",
   "metadata": {
    "execution": {
     "iopub.execute_input": "2025-07-30T14:11:29.044934Z",
     "iopub.status.busy": "2025-07-30T14:11:29.044189Z",
     "iopub.status.idle": "2025-07-30T14:11:29.239519Z",
     "shell.execute_reply": "2025-07-30T14:11:29.238520Z"
    },
    "papermill": {
     "duration": 0.221006,
     "end_time": "2025-07-30T14:11:29.241085",
     "exception": false,
     "start_time": "2025-07-30T14:11:29.020079",
     "status": "completed"
    },
    "tags": []
   },
   "outputs": [
    {
     "data": {
      "text/plain": [
       "0.8531936238992308"
      ]
     },
     "execution_count": 45,
     "metadata": {},
     "output_type": "execute_result"
    }
   ],
   "source": [
    "probs_test = model.predict_proba(X_test)\n",
    "\n",
    "'''\n",
    "Below code returns a boolean array (or binary 0/1 array depending on how it’s used) where each element \n",
    "is True if the probability of class 1 is greater than or equal to the threshold, and False otherwise.\n",
    "'''\n",
    "y_pred_default = predict_w_threshold(probs_test, 0.5)\n",
    "\n",
    "from sklearn.metrics import accuracy_score\n",
    "\n",
    "# Naive prediction\n",
    "accuracy_score(y_true = y_true, y_pred = y_pred_default)"
   ]
  },
  {
   "cell_type": "code",
   "execution_count": 46,
   "id": "081964c3",
   "metadata": {
    "execution": {
     "iopub.execute_input": "2025-07-30T14:11:29.300143Z",
     "iopub.status.busy": "2025-07-30T14:11:29.299485Z",
     "iopub.status.idle": "2025-07-30T14:11:29.485400Z",
     "shell.execute_reply": "2025-07-30T14:11:29.484206Z"
    },
    "papermill": {
     "duration": 0.211306,
     "end_time": "2025-07-30T14:11:29.487029",
     "exception": false,
     "start_time": "2025-07-30T14:11:29.275723",
     "status": "completed"
    },
    "tags": []
   },
   "outputs": [
    {
     "data": {
      "text/plain": [
       "array([0, 0, 0, ..., 0, 0, 0])"
      ]
     },
     "execution_count": 46,
     "metadata": {},
     "output_type": "execute_result"
    }
   ],
   "source": [
    "model.predict(X_test)"
   ]
  },
  {
   "cell_type": "markdown",
   "id": "56c9705b",
   "metadata": {
    "papermill": {
     "duration": 0.022568,
     "end_time": "2025-07-30T14:11:29.532778",
     "exception": false,
     "start_time": "2025-07-30T14:11:29.510210",
     "status": "completed"
    },
    "tags": []
   },
   "source": [
    "# Conformal Prediction"
   ]
  },
  {
   "cell_type": "code",
   "execution_count": 47,
   "id": "160ec6ff",
   "metadata": {
    "execution": {
     "iopub.execute_input": "2025-07-30T14:11:29.580054Z",
     "iopub.status.busy": "2025-07-30T14:11:29.579264Z",
     "iopub.status.idle": "2025-07-30T14:11:29.585946Z",
     "shell.execute_reply": "2025-07-30T14:11:29.584805Z"
    },
    "papermill": {
     "duration": 0.032281,
     "end_time": "2025-07-30T14:11:29.587518",
     "exception": false,
     "start_time": "2025-07-30T14:11:29.555237",
     "status": "completed"
    },
    "tags": []
   },
   "outputs": [],
   "source": [
    "# Miscoverage level for conformal prediction (10% allowed error rate => 90% target coverage)\n",
    "alpha = 0.1"
   ]
  },
  {
   "cell_type": "code",
   "execution_count": 48,
   "id": "eadf4555-3dd3-440e-8e35-f82a4ad9f855",
   "metadata": {
    "execution": {
     "iopub.execute_input": "2025-07-30T14:11:29.635465Z",
     "iopub.status.busy": "2025-07-30T14:11:29.634751Z",
     "iopub.status.idle": "2025-07-30T14:11:29.933445Z",
     "shell.execute_reply": "2025-07-30T14:11:29.932284Z"
    },
    "papermill": {
     "duration": 0.32483,
     "end_time": "2025-07-30T14:11:29.935359",
     "exception": false,
     "start_time": "2025-07-30T14:11:29.610529",
     "status": "completed"
    },
    "tags": []
   },
   "outputs": [],
   "source": [
    "probs_calib = model.predict_proba(X_calib)"
   ]
  },
  {
   "cell_type": "code",
   "execution_count": 49,
   "id": "2ed93547-6d5d-4983-9b36-1ecb300da49a",
   "metadata": {
    "execution": {
     "iopub.execute_input": "2025-07-30T14:11:29.986044Z",
     "iopub.status.busy": "2025-07-30T14:11:29.985065Z",
     "iopub.status.idle": "2025-07-30T14:11:29.992420Z",
     "shell.execute_reply": "2025-07-30T14:11:29.991315Z"
    },
    "papermill": {
     "duration": 0.034814,
     "end_time": "2025-07-30T14:11:29.994233",
     "exception": false,
     "start_time": "2025-07-30T14:11:29.959419",
     "status": "completed"
    },
    "tags": []
   },
   "outputs": [],
   "source": [
    "y_calib = y_calib.values.ravel().astype(int)"
   ]
  },
  {
   "cell_type": "code",
   "execution_count": 50,
   "id": "65d1320d-f588-4b38-9072-62af1ae97f7d",
   "metadata": {
    "execution": {
     "iopub.execute_input": "2025-07-30T14:11:30.049212Z",
     "iopub.status.busy": "2025-07-30T14:11:30.048172Z",
     "iopub.status.idle": "2025-07-30T14:11:30.059840Z",
     "shell.execute_reply": "2025-07-30T14:11:30.058743Z"
    },
    "papermill": {
     "duration": 0.04093,
     "end_time": "2025-07-30T14:11:30.061647",
     "exception": false,
     "start_time": "2025-07-30T14:11:30.020717",
     "status": "completed"
    },
    "tags": []
   },
   "outputs": [],
   "source": [
    "from fairness_multiverse.conformal import compute_nc_scores\n",
    "\n",
    "# Compute nonconformity scores on calibration set (1 - probability of true class)\n",
    "nc_scores = compute_nc_scores(probs_calib, y_calib)"
   ]
  },
  {
   "cell_type": "code",
   "execution_count": 51,
   "id": "df3b8ca3-53b7-43d5-9667-7c85da7aeda2",
   "metadata": {
    "execution": {
     "iopub.execute_input": "2025-07-30T14:11:30.116999Z",
     "iopub.status.busy": "2025-07-30T14:11:30.116228Z",
     "iopub.status.idle": "2025-07-30T14:11:30.124697Z",
     "shell.execute_reply": "2025-07-30T14:11:30.123532Z"
    },
    "papermill": {
     "duration": 0.03885,
     "end_time": "2025-07-30T14:11:30.127275",
     "exception": false,
     "start_time": "2025-07-30T14:11:30.088425",
     "status": "completed"
    },
    "tags": []
   },
   "outputs": [],
   "source": [
    "from fairness_multiverse.conformal import find_threshold\n",
    "\n",
    "# Find conformal threshold q_hat for the given alpha (split conformal method)\n",
    "q_hat = find_threshold(nc_scores, alpha)"
   ]
  },
  {
   "cell_type": "code",
   "execution_count": 52,
   "id": "4d29e6c1-0ef6-4aa4-b8fe-4fe79b0d033a",
   "metadata": {
    "execution": {
     "iopub.execute_input": "2025-07-30T14:11:30.203016Z",
     "iopub.status.busy": "2025-07-30T14:11:30.202630Z",
     "iopub.status.idle": "2025-07-30T14:11:30.210627Z",
     "shell.execute_reply": "2025-07-30T14:11:30.209426Z"
    },
    "papermill": {
     "duration": 0.048456,
     "end_time": "2025-07-30T14:11:30.212758",
     "exception": false,
     "start_time": "2025-07-30T14:11:30.164302",
     "status": "completed"
    },
    "tags": []
   },
   "outputs": [
    {
     "data": {
      "text/plain": [
       "0.6791217474693978"
      ]
     },
     "execution_count": 52,
     "metadata": {},
     "output_type": "execute_result"
    }
   ],
   "source": [
    "q_hat"
   ]
  },
  {
   "cell_type": "code",
   "execution_count": 53,
   "id": "92460794-cdac-4be2-ba28-f28c0515a6fb",
   "metadata": {
    "execution": {
     "iopub.execute_input": "2025-07-30T14:11:30.289577Z",
     "iopub.status.busy": "2025-07-30T14:11:30.288775Z",
     "iopub.status.idle": "2025-07-30T14:11:31.277318Z",
     "shell.execute_reply": "2025-07-30T14:11:31.275939Z"
    },
    "papermill": {
     "duration": 1.029178,
     "end_time": "2025-07-30T14:11:31.279325",
     "exception": false,
     "start_time": "2025-07-30T14:11:30.250147",
     "status": "completed"
    },
    "tags": []
   },
   "outputs": [],
   "source": [
    "from fairness_multiverse.conformal import predict_conformal_sets\n",
    "\n",
    "# Generate prediction sets for each test example\n",
    "pred_sets = predict_conformal_sets(model, X_test, q_hat)"
   ]
  },
  {
   "cell_type": "code",
   "execution_count": 54,
   "id": "d90c9a65-e6db-4f5d-80cd-e68fb7e46829",
   "metadata": {
    "execution": {
     "iopub.execute_input": "2025-07-30T14:11:31.331618Z",
     "iopub.status.busy": "2025-07-30T14:11:31.331005Z",
     "iopub.status.idle": "2025-07-30T14:11:31.337701Z",
     "shell.execute_reply": "2025-07-30T14:11:31.336137Z"
    },
    "papermill": {
     "duration": 0.035092,
     "end_time": "2025-07-30T14:11:31.339811",
     "exception": false,
     "start_time": "2025-07-30T14:11:31.304719",
     "status": "completed"
    },
    "tags": []
   },
   "outputs": [],
   "source": [
    "y_true = y_true.squeeze()"
   ]
  },
  {
   "cell_type": "code",
   "execution_count": 55,
   "id": "3a58a54a-1e68-46b9-927a-df01f18aebc8",
   "metadata": {
    "execution": {
     "iopub.execute_input": "2025-07-30T14:11:31.391237Z",
     "iopub.status.busy": "2025-07-30T14:11:31.390357Z",
     "iopub.status.idle": "2025-07-30T14:11:32.432318Z",
     "shell.execute_reply": "2025-07-30T14:11:32.431540Z"
    },
    "papermill": {
     "duration": 1.068811,
     "end_time": "2025-07-30T14:11:32.433767",
     "exception": false,
     "start_time": "2025-07-30T14:11:31.364956",
     "status": "completed"
    },
    "tags": []
   },
   "outputs": [],
   "source": [
    "from fairness_multiverse.conformal import evaluate_sets\n",
    "\n",
    "# Evaluate coverage and average set size on test data\n",
    "metrics = evaluate_sets(pred_sets, y_true)"
   ]
  },
  {
   "cell_type": "markdown",
   "id": "2b569c12-9aaa-4c88-98c9-bbcd0cf3ebb8",
   "metadata": {
    "papermill": {
     "duration": 0.023704,
     "end_time": "2025-07-30T14:11:32.473004",
     "exception": false,
     "start_time": "2025-07-30T14:11:32.449300",
     "status": "completed"
    },
    "tags": []
   },
   "source": [
    "# CP Metrics"
   ]
  },
  {
   "cell_type": "code",
   "execution_count": 56,
   "id": "5ce0a5cb-201f-45a0-ade5-94c7f0bd6095",
   "metadata": {
    "execution": {
     "iopub.execute_input": "2025-07-30T14:11:32.523419Z",
     "iopub.status.busy": "2025-07-30T14:11:32.522601Z",
     "iopub.status.idle": "2025-07-30T14:11:32.529691Z",
     "shell.execute_reply": "2025-07-30T14:11:32.528851Z"
    },
    "papermill": {
     "duration": 0.031022,
     "end_time": "2025-07-30T14:11:32.531156",
     "exception": false,
     "start_time": "2025-07-30T14:11:32.500134",
     "status": "completed"
    },
    "tags": []
   },
   "outputs": [
    {
     "data": {
      "text/plain": [
       "{'coverage': 0.911113588228737, 'avg_size': 1.1451454687325828}"
      ]
     },
     "execution_count": 56,
     "metadata": {},
     "output_type": "execute_result"
    }
   ],
   "source": [
    "metrics"
   ]
  },
  {
   "cell_type": "code",
   "execution_count": 57,
   "id": "9b9a838d-31c9-430b-ae14-12baee460d17",
   "metadata": {
    "execution": {
     "iopub.execute_input": "2025-07-30T14:11:32.581287Z",
     "iopub.status.busy": "2025-07-30T14:11:32.580823Z",
     "iopub.status.idle": "2025-07-30T14:11:32.587802Z",
     "shell.execute_reply": "2025-07-30T14:11:32.586547Z"
    },
    "papermill": {
     "duration": 0.034584,
     "end_time": "2025-07-30T14:11:32.589742",
     "exception": false,
     "start_time": "2025-07-30T14:11:32.555158",
     "status": "completed"
    },
    "tags": []
   },
   "outputs": [],
   "source": [
    "example_universe = universe.copy()\n",
    "universe_training_size = example_universe.get(\"training_size\")\n",
    "universe_scale = example_universe.get(\"scale\")\n",
    "universe_model = example_universe.get(\"model\")\n",
    "universe_exclude_features = example_universe.get(\"exclude_features\")\n",
    "universe_exclude_subgroups = example_universe.get(\"exclude_subgroups\")"
   ]
  },
  {
   "cell_type": "code",
   "execution_count": 58,
   "id": "f4b6a8ac-9dc0-4245-8a91-5b3b5999c4f9",
   "metadata": {
    "execution": {
     "iopub.execute_input": "2025-07-30T14:11:32.625623Z",
     "iopub.status.busy": "2025-07-30T14:11:32.625205Z",
     "iopub.status.idle": "2025-07-30T14:11:32.631244Z",
     "shell.execute_reply": "2025-07-30T14:11:32.630408Z"
    },
    "papermill": {
     "duration": 0.023949,
     "end_time": "2025-07-30T14:11:32.632649",
     "exception": false,
     "start_time": "2025-07-30T14:11:32.608700",
     "status": "completed"
    },
    "tags": []
   },
   "outputs": [],
   "source": [
    "cp_metrics_dict = {\n",
    "    \"universe_id\": [universe_id],\n",
    "    \"universe_training_size\": [universe_training_size],\n",
    "    \"universe_scale\": [universe_scale],\n",
    "    \"universe_model\": [universe_model],\n",
    "    \"universe_exclude_features\": [universe_exclude_features],\n",
    "    \"universe_exclude_subgroups\": [universe_exclude_subgroups],\n",
    "    \"q_hat\": [q_hat],\n",
    "    \"coverage\": [metrics[\"coverage\"]],\n",
    "    \"avg_size\": [metrics[\"avg_size\"]],\n",
    "}"
   ]
  },
  {
   "cell_type": "code",
   "execution_count": 59,
   "id": "908acbb1-0371-4915-85ca-3fa520d2efe2",
   "metadata": {
    "execution": {
     "iopub.execute_input": "2025-07-30T14:11:32.662654Z",
     "iopub.status.busy": "2025-07-30T14:11:32.662154Z",
     "iopub.status.idle": "2025-07-30T14:11:32.669050Z",
     "shell.execute_reply": "2025-07-30T14:11:32.668241Z"
    },
    "papermill": {
     "duration": 0.0231,
     "end_time": "2025-07-30T14:11:32.670296",
     "exception": false,
     "start_time": "2025-07-30T14:11:32.647196",
     "status": "completed"
    },
    "tags": []
   },
   "outputs": [
    {
     "data": {
      "text/plain": [
       "{'universe_id': ['43e43c44d4cfa077c200531c2823d6ae'],\n",
       " 'universe_training_size': ['5k'],\n",
       " 'universe_scale': ['scale'],\n",
       " 'universe_model': ['elasticnet'],\n",
       " 'universe_exclude_features': ['sex'],\n",
       " 'universe_exclude_subgroups': ['keep-all'],\n",
       " 'q_hat': [0.6791217474693978],\n",
       " 'coverage': [0.911113588228737],\n",
       " 'avg_size': [1.1451454687325828]}"
      ]
     },
     "execution_count": 59,
     "metadata": {},
     "output_type": "execute_result"
    }
   ],
   "source": [
    "cp_metrics_dict"
   ]
  },
  {
   "cell_type": "code",
   "execution_count": 60,
   "id": "33007efc-14e9-4ec6-97ac-56a455c82265",
   "metadata": {
    "execution": {
     "iopub.execute_input": "2025-07-30T14:11:32.702730Z",
     "iopub.status.busy": "2025-07-30T14:11:32.702274Z",
     "iopub.status.idle": "2025-07-30T14:11:32.708507Z",
     "shell.execute_reply": "2025-07-30T14:11:32.707725Z"
    },
    "papermill": {
     "duration": 0.025263,
     "end_time": "2025-07-30T14:11:32.709977",
     "exception": false,
     "start_time": "2025-07-30T14:11:32.684714",
     "status": "completed"
    },
    "tags": []
   },
   "outputs": [],
   "source": [
    "cp_metrics_df = pd.DataFrame(cp_metrics_dict)"
   ]
  },
  {
   "cell_type": "code",
   "execution_count": 61,
   "id": "db12611b-57b2-4910-b9d0-355adfd6e7bf",
   "metadata": {
    "execution": {
     "iopub.execute_input": "2025-07-30T14:11:32.741018Z",
     "iopub.status.busy": "2025-07-30T14:11:32.740515Z",
     "iopub.status.idle": "2025-07-30T14:11:32.757039Z",
     "shell.execute_reply": "2025-07-30T14:11:32.754565Z"
    },
    "papermill": {
     "duration": 0.033115,
     "end_time": "2025-07-30T14:11:32.758957",
     "exception": false,
     "start_time": "2025-07-30T14:11:32.725842",
     "status": "completed"
    },
    "tags": []
   },
   "outputs": [
    {
     "data": {
      "text/html": [
       "<div>\n",
       "<style scoped>\n",
       "    .dataframe tbody tr th:only-of-type {\n",
       "        vertical-align: middle;\n",
       "    }\n",
       "\n",
       "    .dataframe tbody tr th {\n",
       "        vertical-align: top;\n",
       "    }\n",
       "\n",
       "    .dataframe thead th {\n",
       "        text-align: right;\n",
       "    }\n",
       "</style>\n",
       "<table border=\"1\" class=\"dataframe\">\n",
       "  <thead>\n",
       "    <tr style=\"text-align: right;\">\n",
       "      <th></th>\n",
       "      <th>universe_id</th>\n",
       "      <th>universe_training_size</th>\n",
       "      <th>universe_scale</th>\n",
       "      <th>universe_model</th>\n",
       "      <th>universe_exclude_features</th>\n",
       "      <th>universe_exclude_subgroups</th>\n",
       "      <th>q_hat</th>\n",
       "      <th>coverage</th>\n",
       "      <th>avg_size</th>\n",
       "    </tr>\n",
       "  </thead>\n",
       "  <tbody>\n",
       "    <tr>\n",
       "      <th>0</th>\n",
       "      <td>43e43c44d4cfa077c200531c2823d6ae</td>\n",
       "      <td>5k</td>\n",
       "      <td>scale</td>\n",
       "      <td>elasticnet</td>\n",
       "      <td>sex</td>\n",
       "      <td>keep-all</td>\n",
       "      <td>0.679122</td>\n",
       "      <td>0.911114</td>\n",
       "      <td>1.145145</td>\n",
       "    </tr>\n",
       "  </tbody>\n",
       "</table>\n",
       "</div>"
      ],
      "text/plain": [
       "                        universe_id universe_training_size universe_scale  \\\n",
       "0  43e43c44d4cfa077c200531c2823d6ae                     5k          scale   \n",
       "\n",
       "  universe_model universe_exclude_features universe_exclude_subgroups  \\\n",
       "0     elasticnet                       sex                   keep-all   \n",
       "\n",
       "      q_hat  coverage  avg_size  \n",
       "0  0.679122  0.911114  1.145145  "
      ]
     },
     "execution_count": 61,
     "metadata": {},
     "output_type": "execute_result"
    }
   ],
   "source": [
    "cp_metrics_df"
   ]
  },
  {
   "cell_type": "code",
   "execution_count": 62,
   "id": "b7fbde55-a0a1-47e4-9af6-fe4a17fa8c61",
   "metadata": {
    "execution": {
     "iopub.execute_input": "2025-07-30T14:11:32.818220Z",
     "iopub.status.busy": "2025-07-30T14:11:32.816900Z",
     "iopub.status.idle": "2025-07-30T14:11:32.822837Z",
     "shell.execute_reply": "2025-07-30T14:11:32.821996Z"
    },
    "papermill": {
     "duration": 0.038259,
     "end_time": "2025-07-30T14:11:32.825758",
     "exception": false,
     "start_time": "2025-07-30T14:11:32.787499",
     "status": "completed"
    },
    "tags": []
   },
   "outputs": [],
   "source": [
    "# Conditional Coverage & looking at subgroups"
   ]
  },
  {
   "cell_type": "code",
   "execution_count": 63,
   "id": "027ae886-68dd-4141-96c7-805a5450e1ef",
   "metadata": {
    "execution": {
     "iopub.execute_input": "2025-07-30T14:11:32.857862Z",
     "iopub.status.busy": "2025-07-30T14:11:32.857353Z",
     "iopub.status.idle": "2025-07-30T14:11:33.111077Z",
     "shell.execute_reply": "2025-07-30T14:11:33.110068Z"
    },
    "papermill": {
     "duration": 0.271463,
     "end_time": "2025-07-30T14:11:33.113055",
     "exception": false,
     "start_time": "2025-07-30T14:11:32.841592",
     "status": "completed"
    },
    "tags": []
   },
   "outputs": [],
   "source": [
    "from fairness_multiverse.conformal import build_cp_groups\n",
    "\n",
    "cp_groups_df = build_cp_groups(pred_sets, y_true, X_test.index, org_test)\n",
    "#needs universe_id and setting"
   ]
  },
  {
   "cell_type": "code",
   "execution_count": 64,
   "id": "01d5802c-663a-4d1f-9d69-e036faaffbf7",
   "metadata": {
    "execution": {
     "iopub.execute_input": "2025-07-30T14:11:33.153510Z",
     "iopub.status.busy": "2025-07-30T14:11:33.153162Z",
     "iopub.status.idle": "2025-07-30T14:11:33.157805Z",
     "shell.execute_reply": "2025-07-30T14:11:33.157113Z"
    },
    "papermill": {
     "duration": 0.021555,
     "end_time": "2025-07-30T14:11:33.159154",
     "exception": false,
     "start_time": "2025-07-30T14:11:33.137599",
     "status": "completed"
    },
    "tags": []
   },
   "outputs": [],
   "source": [
    "#delete\n",
    "#cp_groups_df"
   ]
  },
  {
   "cell_type": "code",
   "execution_count": 65,
   "id": "fa424af1-d1eb-443d-b717-2d279ada8408",
   "metadata": {
    "execution": {
     "iopub.execute_input": "2025-07-30T14:11:33.191508Z",
     "iopub.status.busy": "2025-07-30T14:11:33.191124Z",
     "iopub.status.idle": "2025-07-30T14:11:33.196432Z",
     "shell.execute_reply": "2025-07-30T14:11:33.195210Z"
    },
    "papermill": {
     "duration": 0.02453,
     "end_time": "2025-07-30T14:11:33.198291",
     "exception": false,
     "start_time": "2025-07-30T14:11:33.173761",
     "status": "completed"
    },
    "tags": []
   },
   "outputs": [],
   "source": [
    "#delete\n",
    "#percentage = (cp_groups_df['nongerman_female'] == 1).mean() * 100\n",
    "#print(percentage)\n"
   ]
  },
  {
   "cell_type": "code",
   "execution_count": 66,
   "id": "6cbdab96-b2b2-45af-ad54-d0516db2e28d",
   "metadata": {
    "execution": {
     "iopub.execute_input": "2025-07-30T14:11:33.253500Z",
     "iopub.status.busy": "2025-07-30T14:11:33.253081Z",
     "iopub.status.idle": "2025-07-30T14:11:34.766884Z",
     "shell.execute_reply": "2025-07-30T14:11:34.765456Z"
    },
    "papermill": {
     "duration": 1.540991,
     "end_time": "2025-07-30T14:11:34.768798",
     "exception": false,
     "start_time": "2025-07-30T14:11:33.227807",
     "status": "completed"
    },
    "tags": []
   },
   "outputs": [],
   "source": [
    "# Define covered = 1 if true_label is in the predicted set\n",
    "cp_groups_df['covered'] = cp_groups_df.apply(\n",
    "    lambda r: int(r['true_label'] in r['pred_set']),\n",
    "    axis=1\n",
    ")"
   ]
  },
  {
   "cell_type": "code",
   "execution_count": 67,
   "id": "338ff529-1a6b-4b87-a931-8e4788d52aad",
   "metadata": {
    "execution": {
     "iopub.execute_input": "2025-07-30T14:11:34.821820Z",
     "iopub.status.busy": "2025-07-30T14:11:34.821447Z",
     "iopub.status.idle": "2025-07-30T14:11:34.826789Z",
     "shell.execute_reply": "2025-07-30T14:11:34.825864Z"
    },
    "papermill": {
     "duration": 0.033783,
     "end_time": "2025-07-30T14:11:34.828537",
     "exception": false,
     "start_time": "2025-07-30T14:11:34.794754",
     "status": "completed"
    },
    "tags": []
   },
   "outputs": [],
   "source": [
    "#cp_groups_df"
   ]
  },
  {
   "cell_type": "code",
   "execution_count": 68,
   "id": "90032e27-66df-4540-9169-4e89cfbaa758",
   "metadata": {
    "execution": {
     "iopub.execute_input": "2025-07-30T14:11:34.887774Z",
     "iopub.status.busy": "2025-07-30T14:11:34.887118Z",
     "iopub.status.idle": "2025-07-30T14:11:34.899615Z",
     "shell.execute_reply": "2025-07-30T14:11:34.898709Z"
    },
    "papermill": {
     "duration": 0.043968,
     "end_time": "2025-07-30T14:11:34.901429",
     "exception": false,
     "start_time": "2025-07-30T14:11:34.857461",
     "status": "completed"
    },
    "tags": []
   },
   "outputs": [],
   "source": [
    "subgroups = ['frau1','nongerman','nongerman_male','nongerman_female']\n",
    "\n",
    "# Conditional coverage for subgroup==1\n",
    "cond_coverage = {\n",
    "    g: cp_groups_df.loc[cp_groups_df[g]==1, 'covered'].mean()\n",
    "    for g in subgroups\n",
    "}"
   ]
  },
  {
   "cell_type": "code",
   "execution_count": 69,
   "id": "1e348fb1-b9c3-45bc-ba23-f016827a7e0d",
   "metadata": {
    "execution": {
     "iopub.execute_input": "2025-07-30T14:11:34.959251Z",
     "iopub.status.busy": "2025-07-30T14:11:34.958591Z",
     "iopub.status.idle": "2025-07-30T14:11:34.966063Z",
     "shell.execute_reply": "2025-07-30T14:11:34.965163Z"
    },
    "papermill": {
     "duration": 0.039361,
     "end_time": "2025-07-30T14:11:34.967673",
     "exception": false,
     "start_time": "2025-07-30T14:11:34.928312",
     "status": "completed"
    },
    "tags": []
   },
   "outputs": [
    {
     "data": {
      "text/plain": [
       "{'frau1': 0.9095835018196522,\n",
       " 'nongerman': 0.9105709313422781,\n",
       " 'nongerman_male': 0.9261460866432496,\n",
       " 'nongerman_female': 0.8847988077496274}"
      ]
     },
     "execution_count": 69,
     "metadata": {},
     "output_type": "execute_result"
    }
   ],
   "source": [
    "cond_coverage"
   ]
  },
  {
   "cell_type": "code",
   "execution_count": 70,
   "id": "f5093324-c3dd-4d63-bc4c-8d945e5c8bbb",
   "metadata": {
    "execution": {
     "iopub.execute_input": "2025-07-30T14:11:35.020782Z",
     "iopub.status.busy": "2025-07-30T14:11:35.020261Z",
     "iopub.status.idle": "2025-07-30T14:11:35.027808Z",
     "shell.execute_reply": "2025-07-30T14:11:35.026841Z"
    },
    "papermill": {
     "duration": 0.035693,
     "end_time": "2025-07-30T14:11:35.029493",
     "exception": false,
     "start_time": "2025-07-30T14:11:34.993800",
     "status": "completed"
    },
    "tags": []
   },
   "outputs": [],
   "source": [
    "for subgroup, cov in cond_coverage.items():\n",
    "    cp_metrics_df[f\"cov_{subgroup}\"] = cov"
   ]
  },
  {
   "cell_type": "code",
   "execution_count": 71,
   "id": "6e872e10-dbe5-49e8-b554-5030c98ff75d",
   "metadata": {
    "execution": {
     "iopub.execute_input": "2025-07-30T14:11:35.081569Z",
     "iopub.status.busy": "2025-07-30T14:11:35.081064Z",
     "iopub.status.idle": "2025-07-30T14:11:35.101010Z",
     "shell.execute_reply": "2025-07-30T14:11:35.098763Z"
    },
    "papermill": {
     "duration": 0.046887,
     "end_time": "2025-07-30T14:11:35.102556",
     "exception": false,
     "start_time": "2025-07-30T14:11:35.055669",
     "status": "completed"
    },
    "tags": []
   },
   "outputs": [
    {
     "data": {
      "text/html": [
       "<div>\n",
       "<style scoped>\n",
       "    .dataframe tbody tr th:only-of-type {\n",
       "        vertical-align: middle;\n",
       "    }\n",
       "\n",
       "    .dataframe tbody tr th {\n",
       "        vertical-align: top;\n",
       "    }\n",
       "\n",
       "    .dataframe thead th {\n",
       "        text-align: right;\n",
       "    }\n",
       "</style>\n",
       "<table border=\"1\" class=\"dataframe\">\n",
       "  <thead>\n",
       "    <tr style=\"text-align: right;\">\n",
       "      <th></th>\n",
       "      <th>universe_id</th>\n",
       "      <th>universe_training_size</th>\n",
       "      <th>universe_scale</th>\n",
       "      <th>universe_model</th>\n",
       "      <th>universe_exclude_features</th>\n",
       "      <th>universe_exclude_subgroups</th>\n",
       "      <th>q_hat</th>\n",
       "      <th>coverage</th>\n",
       "      <th>avg_size</th>\n",
       "      <th>cov_frau1</th>\n",
       "      <th>cov_nongerman</th>\n",
       "      <th>cov_nongerman_male</th>\n",
       "      <th>cov_nongerman_female</th>\n",
       "    </tr>\n",
       "  </thead>\n",
       "  <tbody>\n",
       "    <tr>\n",
       "      <th>0</th>\n",
       "      <td>43e43c44d4cfa077c200531c2823d6ae</td>\n",
       "      <td>5k</td>\n",
       "      <td>scale</td>\n",
       "      <td>elasticnet</td>\n",
       "      <td>sex</td>\n",
       "      <td>keep-all</td>\n",
       "      <td>0.679122</td>\n",
       "      <td>0.911114</td>\n",
       "      <td>1.145145</td>\n",
       "      <td>0.909584</td>\n",
       "      <td>0.910571</td>\n",
       "      <td>0.926146</td>\n",
       "      <td>0.884799</td>\n",
       "    </tr>\n",
       "  </tbody>\n",
       "</table>\n",
       "</div>"
      ],
      "text/plain": [
       "                        universe_id universe_training_size universe_scale  \\\n",
       "0  43e43c44d4cfa077c200531c2823d6ae                     5k          scale   \n",
       "\n",
       "  universe_model universe_exclude_features universe_exclude_subgroups  \\\n",
       "0     elasticnet                       sex                   keep-all   \n",
       "\n",
       "      q_hat  coverage  avg_size  cov_frau1  cov_nongerman  cov_nongerman_male  \\\n",
       "0  0.679122  0.911114  1.145145   0.909584       0.910571            0.926146   \n",
       "\n",
       "   cov_nongerman_female  \n",
       "0              0.884799  "
      ]
     },
     "execution_count": 71,
     "metadata": {},
     "output_type": "execute_result"
    }
   ],
   "source": [
    "cp_metrics_df"
   ]
  },
  {
   "cell_type": "markdown",
   "id": "33774451",
   "metadata": {
    "papermill": {
     "duration": 0.031677,
     "end_time": "2025-07-30T14:11:35.161085",
     "exception": false,
     "start_time": "2025-07-30T14:11:35.129408",
     "status": "completed"
    },
    "tags": []
   },
   "source": [
    "# (Fairness) Metrics"
   ]
  },
  {
   "cell_type": "code",
   "execution_count": 72,
   "id": "debc5d62",
   "metadata": {
    "execution": {
     "iopub.execute_input": "2025-07-30T14:11:35.217762Z",
     "iopub.status.busy": "2025-07-30T14:11:35.217066Z",
     "iopub.status.idle": "2025-07-30T14:11:35.238438Z",
     "shell.execute_reply": "2025-07-30T14:11:35.237451Z"
    },
    "papermill": {
     "duration": 0.052757,
     "end_time": "2025-07-30T14:11:35.240225",
     "exception": false,
     "start_time": "2025-07-30T14:11:35.187468",
     "status": "completed"
    },
    "tags": []
   },
   "outputs": [],
   "source": [
    "# do I need to include maxdeutsch1.missing?\n",
    "\n",
    "import numpy as np\n",
    "\n",
    "colname_to_bin = \"maxdeutsch1\"\n",
    "majority_value = org_train[colname_to_bin].mode()[0]\n",
    "\n",
    "org_test[\"majmin\"] = np.where(org_test[colname_to_bin] == majority_value, \"majority\", \"minority\")"
   ]
  },
  {
   "cell_type": "code",
   "execution_count": 73,
   "id": "06a50de5",
   "metadata": {
    "execution": {
     "iopub.execute_input": "2025-07-30T14:11:35.298983Z",
     "iopub.status.busy": "2025-07-30T14:11:35.298091Z",
     "iopub.status.idle": "2025-07-30T14:11:38.100739Z",
     "shell.execute_reply": "2025-07-30T14:11:38.099696Z"
    },
    "papermill": {
     "duration": 2.834491,
     "end_time": "2025-07-30T14:11:38.102793",
     "exception": false,
     "start_time": "2025-07-30T14:11:35.268302",
     "status": "completed"
    },
    "tags": []
   },
   "outputs": [],
   "source": [
    "example_universe = universe.copy()\n",
    "example_universe[\"cutoff\"] = example_universe[\"cutoff\"][0]\n",
    "example_universe[\"eval_fairness_grouping\"] = example_universe[\"eval_fairness_grouping\"][0]\n",
    "fairness_dict, metric_frame = universe_analysis.compute_metrics(\n",
    "    example_universe,\n",
    "    y_pred_prob=probs_test,\n",
    "    y_test=y_true,\n",
    "    org_test=org_test,\n",
    ")"
   ]
  },
  {
   "cell_type": "markdown",
   "id": "f95d4e02",
   "metadata": {
    "papermill": {
     "duration": 0.03016,
     "end_time": "2025-07-30T14:11:38.165309",
     "exception": false,
     "start_time": "2025-07-30T14:11:38.135149",
     "status": "completed"
    },
    "tags": []
   },
   "source": [
    "# Overall"
   ]
  },
  {
   "cell_type": "markdown",
   "id": "bdee4871",
   "metadata": {
    "papermill": {
     "duration": 0.029895,
     "end_time": "2025-07-30T14:11:38.225455",
     "exception": false,
     "start_time": "2025-07-30T14:11:38.195560",
     "status": "completed"
    },
    "tags": []
   },
   "source": [
    "Fairness\n",
    "Main fairness target: Equalized Odds. Seems to be a better fit than equal opportunity, since we're not only interested in Y = 1. Seems to be a better fit than demographic parity, since we also care about accuracy, not just equal distribution of preds.\n",
    "\n",
    "Pick column for computation of fairness metrics\n",
    "\n",
    "Performance\n",
    "Overall performance measures, most interesting in relation to the measures split by group below"
   ]
  },
  {
   "cell_type": "code",
   "execution_count": 74,
   "id": "c4e067c6",
   "metadata": {
    "execution": {
     "iopub.execute_input": "2025-07-30T14:11:38.289513Z",
     "iopub.status.busy": "2025-07-30T14:11:38.288240Z",
     "iopub.status.idle": "2025-07-30T14:11:38.299518Z",
     "shell.execute_reply": "2025-07-30T14:11:38.298448Z"
    },
    "papermill": {
     "duration": 0.045753,
     "end_time": "2025-07-30T14:11:38.301480",
     "exception": false,
     "start_time": "2025-07-30T14:11:38.255727",
     "status": "completed"
    },
    "tags": []
   },
   "outputs": [
    {
     "data": {
      "text/plain": [
       "accuracy                   0.223509\n",
       "balanced accuracy          0.546692\n",
       "f1                         0.244864\n",
       "precision                  0.139883\n",
       "false positive rate        0.888021\n",
       "false negative rate        0.018596\n",
       "selection rate             0.900000\n",
       "count                  89710.000000\n",
       "dtype: float64"
      ]
     },
     "execution_count": 74,
     "metadata": {},
     "output_type": "execute_result"
    }
   ],
   "source": [
    "metric_frame.overall"
   ]
  },
  {
   "cell_type": "markdown",
   "id": "e968fe9d",
   "metadata": {
    "papermill": {
     "duration": 0.026316,
     "end_time": "2025-07-30T14:11:38.359447",
     "exception": false,
     "start_time": "2025-07-30T14:11:38.333131",
     "status": "completed"
    },
    "tags": []
   },
   "source": [
    "By Group"
   ]
  },
  {
   "cell_type": "code",
   "execution_count": 75,
   "id": "ec325bce",
   "metadata": {
    "execution": {
     "iopub.execute_input": "2025-07-30T14:11:38.414041Z",
     "iopub.status.busy": "2025-07-30T14:11:38.413395Z",
     "iopub.status.idle": "2025-07-30T14:11:38.430756Z",
     "shell.execute_reply": "2025-07-30T14:11:38.429783Z"
    },
    "papermill": {
     "duration": 0.047327,
     "end_time": "2025-07-30T14:11:38.432571",
     "exception": false,
     "start_time": "2025-07-30T14:11:38.385244",
     "status": "completed"
    },
    "tags": []
   },
   "outputs": [
    {
     "data": {
      "text/html": [
       "<div>\n",
       "<style scoped>\n",
       "    .dataframe tbody tr th:only-of-type {\n",
       "        vertical-align: middle;\n",
       "    }\n",
       "\n",
       "    .dataframe tbody tr th {\n",
       "        vertical-align: top;\n",
       "    }\n",
       "\n",
       "    .dataframe thead th {\n",
       "        text-align: right;\n",
       "    }\n",
       "</style>\n",
       "<table border=\"1\" class=\"dataframe\">\n",
       "  <thead>\n",
       "    <tr style=\"text-align: right;\">\n",
       "      <th></th>\n",
       "      <th>accuracy</th>\n",
       "      <th>balanced accuracy</th>\n",
       "      <th>f1</th>\n",
       "      <th>precision</th>\n",
       "      <th>false positive rate</th>\n",
       "      <th>false negative rate</th>\n",
       "      <th>selection rate</th>\n",
       "      <th>count</th>\n",
       "    </tr>\n",
       "    <tr>\n",
       "      <th>majmin</th>\n",
       "      <th></th>\n",
       "      <th></th>\n",
       "      <th></th>\n",
       "      <th></th>\n",
       "      <th></th>\n",
       "      <th></th>\n",
       "      <th></th>\n",
       "      <th></th>\n",
       "    </tr>\n",
       "  </thead>\n",
       "  <tbody>\n",
       "    <tr>\n",
       "      <th>majority</th>\n",
       "      <td>0.244340</td>\n",
       "      <td>0.556341</td>\n",
       "      <td>0.255332</td>\n",
       "      <td>0.146779</td>\n",
       "      <td>0.867733</td>\n",
       "      <td>0.019584</td>\n",
       "      <td>0.882623</td>\n",
       "      <td>69170.0</td>\n",
       "    </tr>\n",
       "    <tr>\n",
       "      <th>minority</th>\n",
       "      <td>0.153359</td>\n",
       "      <td>0.515089</td>\n",
       "      <td>0.211552</td>\n",
       "      <td>0.118499</td>\n",
       "      <td>0.955041</td>\n",
       "      <td>0.014780</td>\n",
       "      <td>0.958520</td>\n",
       "      <td>20540.0</td>\n",
       "    </tr>\n",
       "  </tbody>\n",
       "</table>\n",
       "</div>"
      ],
      "text/plain": [
       "          accuracy  balanced accuracy        f1  precision  \\\n",
       "majmin                                                       \n",
       "majority  0.244340           0.556341  0.255332   0.146779   \n",
       "minority  0.153359           0.515089  0.211552   0.118499   \n",
       "\n",
       "          false positive rate  false negative rate  selection rate    count  \n",
       "majmin                                                                       \n",
       "majority             0.867733             0.019584        0.882623  69170.0  \n",
       "minority             0.955041             0.014780        0.958520  20540.0  "
      ]
     },
     "execution_count": 75,
     "metadata": {},
     "output_type": "execute_result"
    }
   ],
   "source": [
    "metric_frame.by_group"
   ]
  },
  {
   "cell_type": "code",
   "execution_count": 76,
   "id": "a9ddbe63",
   "metadata": {
    "execution": {
     "iopub.execute_input": "2025-07-30T14:11:38.491196Z",
     "iopub.status.busy": "2025-07-30T14:11:38.490507Z",
     "iopub.status.idle": "2025-07-30T14:11:40.599198Z",
     "shell.execute_reply": "2025-07-30T14:11:40.598375Z"
    },
    "papermill": {
     "duration": 2.139064,
     "end_time": "2025-07-30T14:11:40.600572",
     "exception": false,
     "start_time": "2025-07-30T14:11:38.461508",
     "status": "completed"
    },
    "tags": []
   },
   "outputs": [
    {
     "data": {
      "text/plain": [
       "array([[<Axes: title={'center': 'accuracy'}, xlabel='majmin'>,\n",
       "        <Axes: title={'center': 'balanced accuracy'}, xlabel='majmin'>,\n",
       "        <Axes: title={'center': 'f1'}, xlabel='majmin'>],\n",
       "       [<Axes: title={'center': 'precision'}, xlabel='majmin'>,\n",
       "        <Axes: title={'center': 'false positive rate'}, xlabel='majmin'>,\n",
       "        <Axes: title={'center': 'false negative rate'}, xlabel='majmin'>],\n",
       "       [<Axes: title={'center': 'selection rate'}, xlabel='majmin'>,\n",
       "        <Axes: title={'center': 'count'}, xlabel='majmin'>,\n",
       "        <Axes: xlabel='majmin'>]], dtype=object)"
      ]
     },
     "execution_count": 76,
     "metadata": {},
     "output_type": "execute_result"
    },
    {
     "data": {
      "image/png": "[encoded data removed]",
      "text/plain": [
       "<Figure size 1200x800 with 9 Axes>"
      ]
     },
     "metadata": {},
     "output_type": "display_data"
    }
   ],
   "source": [
    "# In a graphic\n",
    "metric_frame.by_group.plot.bar(\n",
    "    subplots=True,\n",
    "    layout=[3, 3],\n",
    "    legend=False,\n",
    "    figsize=[12, 8],\n",
    "    title=\"Show all metrics\",\n",
    ")"
   ]
  },
  {
   "cell_type": "markdown",
   "id": "f57a0bac",
   "metadata": {
    "papermill": {
     "duration": 0.014817,
     "end_time": "2025-07-30T14:11:40.631068",
     "exception": false,
     "start_time": "2025-07-30T14:11:40.616251",
     "status": "completed"
    },
    "tags": []
   },
   "source": [
    "# Final Output"
   ]
  },
  {
   "cell_type": "code",
   "execution_count": 77,
   "id": "96d280a3",
   "metadata": {
    "execution": {
     "iopub.execute_input": "2025-07-30T14:11:40.681957Z",
     "iopub.status.busy": "2025-07-30T14:11:40.680914Z",
     "iopub.status.idle": "2025-07-30T14:11:40.690695Z",
     "shell.execute_reply": "2025-07-30T14:11:40.689969Z"
    },
    "papermill": {
     "duration": 0.044463,
     "end_time": "2025-07-30T14:11:40.691959",
     "exception": false,
     "start_time": "2025-07-30T14:11:40.647496",
     "status": "completed"
    },
    "tags": []
   },
   "outputs": [
    {
     "data": {
      "text/plain": [
       "4"
      ]
     },
     "execution_count": 77,
     "metadata": {},
     "output_type": "execute_result"
    }
   ],
   "source": [
    "sub_universes = universe_analysis.generate_sub_universes()\n",
    "len(sub_universes)"
   ]
  },
  {
   "cell_type": "code",
   "execution_count": 78,
   "id": "92adf7ba",
   "metadata": {
    "execution": {
     "iopub.execute_input": "2025-07-30T14:11:40.725957Z",
     "iopub.status.busy": "2025-07-30T14:11:40.725141Z",
     "iopub.status.idle": "2025-07-30T14:11:40.733628Z",
     "shell.execute_reply": "2025-07-30T14:11:40.732852Z"
    },
    "papermill": {
     "duration": 0.026763,
     "end_time": "2025-07-30T14:11:40.735025",
     "exception": false,
     "start_time": "2025-07-30T14:11:40.708262",
     "status": "completed"
    },
    "tags": []
   },
   "outputs": [],
   "source": [
    "def filter_sub_universe_data(sub_universe, org_test):\n",
    "    # Keep all rows — no filtering\n",
    "    keep_rows_mask = np.ones(org_test.shape[0], dtype=bool)\n",
    "\n",
    "    print(f\"[INFO] Keeping all rows: {keep_rows_mask.sum()} rows retained.\")\n",
    "    return keep_rows_mask"
   ]
  },
  {
   "cell_type": "code",
   "execution_count": 79,
   "id": "4a759155",
   "metadata": {
    "execution": {
     "iopub.execute_input": "2025-07-30T14:11:40.782671Z",
     "iopub.status.busy": "2025-07-30T14:11:40.781799Z",
     "iopub.status.idle": "2025-07-30T14:11:51.220469Z",
     "shell.execute_reply": "2025-07-30T14:11:51.219552Z"
    },
    "papermill": {
     "duration": 10.470632,
     "end_time": "2025-07-30T14:11:51.222124",
     "exception": false,
     "start_time": "2025-07-30T14:11:40.751492",
     "status": "completed"
    },
    "tags": []
   },
   "outputs": [
    {
     "name": "stdout",
     "output_type": "stream",
     "text": [
      "Stopping execution_time clock.\n",
      "[INFO] Keeping all rows: 89710 rows retained.\n"
     ]
    },
    {
     "name": "stdout",
     "output_type": "stream",
     "text": [
      "[INFO] Keeping all rows: 89710 rows retained.\n"
     ]
    },
    {
     "name": "stdout",
     "output_type": "stream",
     "text": [
      "[INFO] Keeping all rows: 89710 rows retained.\n"
     ]
    },
    {
     "name": "stdout",
     "output_type": "stream",
     "text": [
      "[INFO] Keeping all rows: 89710 rows retained.\n"
     ]
    },
    {
     "data": {
      "text/html": [
       "<div>\n",
       "<style scoped>\n",
       "    .dataframe tbody tr th:only-of-type {\n",
       "        vertical-align: middle;\n",
       "    }\n",
       "\n",
       "    .dataframe tbody tr th {\n",
       "        vertical-align: top;\n",
       "    }\n",
       "\n",
       "    .dataframe thead th {\n",
       "        text-align: right;\n",
       "    }\n",
       "</style>\n",
       "<table border=\"1\" class=\"dataframe\">\n",
       "  <thead>\n",
       "    <tr style=\"text-align: right;\">\n",
       "      <th></th>\n",
       "      <th>run_no</th>\n",
       "      <th>universe_id</th>\n",
       "      <th>universe_settings</th>\n",
       "      <th>execution_time</th>\n",
       "      <th>test_size_n</th>\n",
       "      <th>test_size_frac</th>\n",
       "      <th>fair_main_equalized_odds_difference</th>\n",
       "      <th>fair_main_equalized_odds_ratio</th>\n",
       "      <th>fair_main_demographic_parity_difference</th>\n",
       "      <th>fair_main_demographic_parity_ratio</th>\n",
       "      <th>...</th>\n",
       "      <th>perf_grp_precision_0</th>\n",
       "      <th>perf_grp_precision_1</th>\n",
       "      <th>perf_grp_false positive rate_0</th>\n",
       "      <th>perf_grp_false positive rate_1</th>\n",
       "      <th>perf_grp_false negative rate_0</th>\n",
       "      <th>perf_grp_false negative rate_1</th>\n",
       "      <th>perf_grp_selection rate_0</th>\n",
       "      <th>perf_grp_selection rate_1</th>\n",
       "      <th>perf_grp_count_0</th>\n",
       "      <th>perf_grp_count_1</th>\n",
       "    </tr>\n",
       "  </thead>\n",
       "  <tbody>\n",
       "    <tr>\n",
       "      <th>0</th>\n",
       "      <td>12</td>\n",
       "      <td>43e43c44d4cfa077c200531c2823d6ae</td>\n",
       "      <td>{\"cutoff\": \"quantile_0.1\", \"eval_fairness_grou...</td>\n",
       "      <td>40.634604</td>\n",
       "      <td>89710</td>\n",
       "      <td>1.0</td>\n",
       "      <td>0.087308</td>\n",
       "      <td>0.908582</td>\n",
       "      <td>0.075897</td>\n",
       "      <td>0.920818</td>\n",
       "      <td>...</td>\n",
       "      <td>NaN</td>\n",
       "      <td>NaN</td>\n",
       "      <td>NaN</td>\n",
       "      <td>NaN</td>\n",
       "      <td>NaN</td>\n",
       "      <td>NaN</td>\n",
       "      <td>NaN</td>\n",
       "      <td>NaN</td>\n",
       "      <td>NaN</td>\n",
       "      <td>NaN</td>\n",
       "    </tr>\n",
       "    <tr>\n",
       "      <th>0</th>\n",
       "      <td>12</td>\n",
       "      <td>43e43c44d4cfa077c200531c2823d6ae</td>\n",
       "      <td>{\"cutoff\": \"quantile_0.1\", \"eval_fairness_grou...</td>\n",
       "      <td>40.634604</td>\n",
       "      <td>89710</td>\n",
       "      <td>1.0</td>\n",
       "      <td>0.087308</td>\n",
       "      <td>0.908582</td>\n",
       "      <td>0.075897</td>\n",
       "      <td>0.920818</td>\n",
       "      <td>...</td>\n",
       "      <td>0.118499</td>\n",
       "      <td>0.146779</td>\n",
       "      <td>0.955041</td>\n",
       "      <td>0.867733</td>\n",
       "      <td>0.014780</td>\n",
       "      <td>0.019584</td>\n",
       "      <td>0.958520</td>\n",
       "      <td>0.882623</td>\n",
       "      <td>20540.0</td>\n",
       "      <td>69170.0</td>\n",
       "    </tr>\n",
       "    <tr>\n",
       "      <th>0</th>\n",
       "      <td>12</td>\n",
       "      <td>43e43c44d4cfa077c200531c2823d6ae</td>\n",
       "      <td>{\"cutoff\": \"quantile_0.25\", \"eval_fairness_gro...</td>\n",
       "      <td>40.634604</td>\n",
       "      <td>89710</td>\n",
       "      <td>1.0</td>\n",
       "      <td>0.157849</td>\n",
       "      <td>0.813010</td>\n",
       "      <td>0.137532</td>\n",
       "      <td>0.839339</td>\n",
       "      <td>...</td>\n",
       "      <td>NaN</td>\n",
       "      <td>NaN</td>\n",
       "      <td>NaN</td>\n",
       "      <td>NaN</td>\n",
       "      <td>NaN</td>\n",
       "      <td>NaN</td>\n",
       "      <td>NaN</td>\n",
       "      <td>NaN</td>\n",
       "      <td>NaN</td>\n",
       "      <td>NaN</td>\n",
       "    </tr>\n",
       "    <tr>\n",
       "      <th>0</th>\n",
       "      <td>12</td>\n",
       "      <td>43e43c44d4cfa077c200531c2823d6ae</td>\n",
       "      <td>{\"cutoff\": \"quantile_0.25\", \"eval_fairness_gro...</td>\n",
       "      <td>40.634604</td>\n",
       "      <td>89710</td>\n",
       "      <td>1.0</td>\n",
       "      <td>0.157849</td>\n",
       "      <td>0.813010</td>\n",
       "      <td>0.137532</td>\n",
       "      <td>0.839339</td>\n",
       "      <td>...</td>\n",
       "      <td>0.127566</td>\n",
       "      <td>0.171030</td>\n",
       "      <td>0.844156</td>\n",
       "      <td>0.686307</td>\n",
       "      <td>0.052787</td>\n",
       "      <td>0.070022</td>\n",
       "      <td>0.856037</td>\n",
       "      <td>0.718505</td>\n",
       "      <td>20540.0</td>\n",
       "      <td>69170.0</td>\n",
       "    </tr>\n",
       "  </tbody>\n",
       "</table>\n",
       "<p>4 rows × 50 columns</p>\n",
       "</div>"
      ],
      "text/plain": [
       "  run_no                       universe_id  \\\n",
       "0     12  43e43c44d4cfa077c200531c2823d6ae   \n",
       "0     12  43e43c44d4cfa077c200531c2823d6ae   \n",
       "0     12  43e43c44d4cfa077c200531c2823d6ae   \n",
       "0     12  43e43c44d4cfa077c200531c2823d6ae   \n",
       "\n",
       "                                   universe_settings  execution_time  \\\n",
       "0  {\"cutoff\": \"quantile_0.1\", \"eval_fairness_grou...       40.634604   \n",
       "0  {\"cutoff\": \"quantile_0.1\", \"eval_fairness_grou...       40.634604   \n",
       "0  {\"cutoff\": \"quantile_0.25\", \"eval_fairness_gro...       40.634604   \n",
       "0  {\"cutoff\": \"quantile_0.25\", \"eval_fairness_gro...       40.634604   \n",
       "\n",
       "   test_size_n  test_size_frac  fair_main_equalized_odds_difference  \\\n",
       "0        89710             1.0                             0.087308   \n",
       "0        89710             1.0                             0.087308   \n",
       "0        89710             1.0                             0.157849   \n",
       "0        89710             1.0                             0.157849   \n",
       "\n",
       "   fair_main_equalized_odds_ratio  fair_main_demographic_parity_difference  \\\n",
       "0                        0.908582                                 0.075897   \n",
       "0                        0.908582                                 0.075897   \n",
       "0                        0.813010                                 0.137532   \n",
       "0                        0.813010                                 0.137532   \n",
       "\n",
       "   fair_main_demographic_parity_ratio  ...  perf_grp_precision_0  \\\n",
       "0                            0.920818  ...                   NaN   \n",
       "0                            0.920818  ...              0.118499   \n",
       "0                            0.839339  ...                   NaN   \n",
       "0                            0.839339  ...              0.127566   \n",
       "\n",
       "   perf_grp_precision_1  perf_grp_false positive rate_0  \\\n",
       "0                   NaN                             NaN   \n",
       "0              0.146779                        0.955041   \n",
       "0                   NaN                             NaN   \n",
       "0              0.171030                        0.844156   \n",
       "\n",
       "   perf_grp_false positive rate_1  perf_grp_false negative rate_0  \\\n",
       "0                             NaN                             NaN   \n",
       "0                        0.867733                        0.014780   \n",
       "0                             NaN                             NaN   \n",
       "0                        0.686307                        0.052787   \n",
       "\n",
       "   perf_grp_false negative rate_1  perf_grp_selection rate_0  \\\n",
       "0                             NaN                        NaN   \n",
       "0                        0.019584                   0.958520   \n",
       "0                             NaN                        NaN   \n",
       "0                        0.070022                   0.856037   \n",
       "\n",
       "   perf_grp_selection rate_1  perf_grp_count_0  perf_grp_count_1  \n",
       "0                        NaN               NaN               NaN  \n",
       "0                   0.882623           20540.0           69170.0  \n",
       "0                        NaN               NaN               NaN  \n",
       "0                   0.718505           20540.0           69170.0  \n",
       "\n",
       "[4 rows x 50 columns]"
      ]
     },
     "execution_count": 79,
     "metadata": {},
     "output_type": "execute_result"
    }
   ],
   "source": [
    "final_output = universe_analysis.generate_final_output(\n",
    "    y_pred_prob=probs_test,\n",
    "    y_test=y_true,\n",
    "    org_test=org_test,\n",
    "    filter_data=filter_sub_universe_data,\n",
    "    cp_metrics_df=cp_metrics_df,\n",
    "    save=True,\n",
    ")\n",
    "final_output"
   ]
  },
  {
   "cell_type": "code",
   "execution_count": null,
   "id": "721ff514-cb11-46f8-b6fc-50392f74b5cb",
   "metadata": {
    "papermill": {
     "duration": 0.028823,
     "end_time": "2025-07-30T14:11:51.281926",
     "exception": false,
     "start_time": "2025-07-30T14:11:51.253103",
     "status": "completed"
    },
    "tags": []
   },
   "outputs": [],
   "source": []
  }
 ],
 "metadata": {
  "celltoolbar": "Tags",
  "kernelspec": {
   "display_name": "Python (CMA Fairness)",
   "language": "python",
   "name": "cma_fair_env"
  },
  "language_info": {
   "codemirror_mode": {
    "name": "ipython",
    "version": 3
   },
   "file_extension": ".py",
   "mimetype": "text/x-python",
   "name": "python",
   "nbconvert_exporter": "python",
   "pygments_lexer": "ipython3",
   "version": "3.10.12"
  },
  "papermill": {
   "default_parameters": {},
   "duration": 55.220797,
   "end_time": "2025-07-30T14:11:52.029114",
   "environment_variables": {},
   "exception": null,
   "input_path": "universe_analysis.ipynb",
   "output_path": "output/runs/12/notebooks/m_12-43e43c44d4cfa077c200531c2823d6ae.ipynb",
   "parameters": {
    "output_dir": "output",
    "run_no": "12",
    "seed": "2023",
    "universe": "{\"cutoff\": [\"quantile_0.1\", \"quantile_0.25\"], \"eval_fairness_grouping\": [\"majority-minority\", \"nationality-all\"], \"exclude_features\": \"sex\", \"exclude_subgroups\": \"keep-all\", \"model\": \"elasticnet\", \"scale\": \"scale\", \"training_size\": \"5k\", \"training_year\": \"2010_14\"}",
    "universe_id": "43e43c44d4cfa077c200531c2823d6ae"
   },
   "start_time": "2025-07-30T14:10:56.808317",
   "version": "2.6.0"
  }
 },
 "nbformat": 4,
 "nbformat_minor": 5
}