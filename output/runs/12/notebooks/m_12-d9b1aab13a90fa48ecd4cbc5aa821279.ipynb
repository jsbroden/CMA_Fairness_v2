{
 "cells": [
  {
   "cell_type": "code",
   "execution_count": 1,
   "id": "f159f837-637b-42ba-96b5-ec9a68c44524",
   "metadata": {
    "execution": {
     "iopub.execute_input": "2025-07-30T13:07:48.381407Z",
     "iopub.status.busy": "2025-07-30T13:07:48.381010Z",
     "iopub.status.idle": "2025-07-30T13:07:48.396637Z",
     "shell.execute_reply": "2025-07-30T13:07:48.395715Z"
    },
    "papermill": {
     "duration": 0.053286,
     "end_time": "2025-07-30T13:07:48.398247",
     "exception": false,
     "start_time": "2025-07-30T13:07:48.344961",
     "status": "completed"
    },
    "tags": []
   },
   "outputs": [
    {
     "name": "stdout",
     "output_type": "stream",
     "text": [
      "/dss/dsshome1/0C/ra93lal2/cma/CMA_Fairness_v2\n"
     ]
    },
    {
     "name": "stderr",
     "output_type": "stream",
     "text": [
      "/dss/dsshome1/0C/ra93lal2/.local/share/virtualenvs/CMA_Fairness_v2-3j10GkSs/lib/python3.10/site-packages/IPython/core/magics/osm.py:393: UserWarning: This is now an optional IPython functionality, using bookmarks requires you to install the `pickleshare` library.\n",
      "  bkms = self.shell.db.get('bookmarks', {})\n",
      "/dss/dsshome1/0C/ra93lal2/.local/share/virtualenvs/CMA_Fairness_v2-3j10GkSs/lib/python3.10/site-packages/IPython/core/magics/osm.py:417: UserWarning: This is now an optional IPython functionality, setting dhist requires you to install the `pickleshare` library.\n",
      "  self.shell.db['dhist'] = compress_dhist(dhist)[-100:]\n"
     ]
    }
   ],
   "source": [
    "%cd ~/cma/CMA_Fairness_v2"
   ]
  },
  {
   "cell_type": "markdown",
   "id": "de2603b9",
   "metadata": {
    "papermill": {
     "duration": 0.056508,
     "end_time": "2025-07-30T13:07:48.498809",
     "exception": false,
     "start_time": "2025-07-30T13:07:48.442301",
     "status": "completed"
    },
    "tags": []
   },
   "source": [
    "The following cell holds the definition of our parameters, these values can be overriden by rendering the with e.g. the following command:\n",
    "\n",
    "papermill -p alpha 0.2 -p ratio 0.3 universe_analysis.ipynb output/test_run.ipynb"
   ]
  },
  {
   "cell_type": "code",
   "execution_count": 2,
   "id": "a80968a0-40bb-4fa9-85ef-2d5eefb01975",
   "metadata": {
    "execution": {
     "iopub.execute_input": "2025-07-30T13:07:48.558296Z",
     "iopub.status.busy": "2025-07-30T13:07:48.557909Z",
     "iopub.status.idle": "2025-07-30T13:07:48.563536Z",
     "shell.execute_reply": "2025-07-30T13:07:48.562461Z"
    },
    "papermill": {
     "duration": 0.038881,
     "end_time": "2025-07-30T13:07:48.575240",
     "exception": false,
     "start_time": "2025-07-30T13:07:48.536359",
     "status": "completed"
    },
    "tags": []
   },
   "outputs": [
    {
     "name": "stdout",
     "output_type": "stream",
     "text": [
      "Current working directory: /dss/dsshome1/0C/ra93lal2/cma/CMA_Fairness_v2\n"
     ]
    }
   ],
   "source": [
    "import os\n",
    "print(\"Current working directory:\", os.getcwd())"
   ]
  },
  {
   "cell_type": "code",
   "execution_count": 3,
   "id": "2dce4c03",
   "metadata": {
    "execution": {
     "iopub.execute_input": "2025-07-30T13:07:48.662742Z",
     "iopub.status.busy": "2025-07-30T13:07:48.662359Z",
     "iopub.status.idle": "2025-07-30T13:07:48.669947Z",
     "shell.execute_reply": "2025-07-30T13:07:48.668958Z"
    },
    "papermill": {
     "duration": 0.046567,
     "end_time": "2025-07-30T13:07:48.672181",
     "exception": false,
     "start_time": "2025-07-30T13:07:48.625614",
     "status": "completed"
    },
    "tags": [
     "parameters"
    ]
   },
   "outputs": [],
   "source": [
    "run_no = 0\n",
    "universe_id = \"test\"\n",
    "universe = {\n",
    "    \"training_size\": \"25k\", # \"25k\", \"5k\", \"1k\"\n",
    "    \"training_year\": \"2014\", # \"2014\", \"2012_14\", \"2010_14\"\n",
    "    \"scale\": \"scale\", # \"scale\", \"do-not-scale\",\n",
    "    #\"stratify_split\": \"target\", # \"none\", \"target\", \"protected-attribute\", \"both\",\n",
    "    \"model\": \"elasticnet\", # \"logreg\", \"penalized_logreg\", \"rf\", \"gbm\", \"elasticnet\"\n",
    "    \"cutoff\": [\"quantile_0.15\", \"quantile_0.30\"],\n",
    "    \"exclude_features\": \"age\", # \"none\", \"nationality\", \"sex\", \"nationality-sex\", \"age\"\n",
    "    \"exclude_subgroups\": \"keep-all\", # \"keep-all\", \"drop-non-german\"\n",
    "    \"eval_fairness_grouping\": [\"majority-minority\", \"nationality-all\"]\n",
    "}\n",
    "\n",
    "output_dir=\"./output\"\n",
    "seed=0"
   ]
  },
  {
   "cell_type": "code",
   "execution_count": 4,
   "id": "e96aa0ff",
   "metadata": {
    "execution": {
     "iopub.execute_input": "2025-07-30T13:07:48.745444Z",
     "iopub.status.busy": "2025-07-30T13:07:48.745069Z",
     "iopub.status.idle": "2025-07-30T13:07:48.752073Z",
     "shell.execute_reply": "2025-07-30T13:07:48.751040Z"
    },
    "papermill": {
     "duration": 0.054911,
     "end_time": "2025-07-30T13:07:48.754517",
     "exception": false,
     "start_time": "2025-07-30T13:07:48.699606",
     "status": "completed"
    },
    "tags": [
     "injected-parameters"
    ]
   },
   "outputs": [],
   "source": [
    "# Parameters\n",
    "universe_id = \"d9b1aab13a90fa48ecd4cbc5aa821279\"\n",
    "run_no = \"12\"\n",
    "universe = \"{\\\"cutoff\\\": [\\\"quantile_0.1\\\", \\\"quantile_0.25\\\"], \\\"eval_fairness_grouping\\\": [\\\"majority-minority\\\", \\\"nationality-all\\\"], \\\"exclude_features\\\": \\\"nationality-sex\\\", \\\"exclude_subgroups\\\": \\\"drop-non-german\\\", \\\"model\\\": \\\"rf\\\", \\\"scale\\\": \\\"scale\\\", \\\"training_size\\\": \\\"25k\\\", \\\"training_year\\\": \\\"2012_14\\\"}\"\n",
    "output_dir = \"output\"\n",
    "seed = \"2023\"\n"
   ]
  },
  {
   "cell_type": "code",
   "execution_count": 5,
   "id": "1650acaf",
   "metadata": {
    "execution": {
     "iopub.execute_input": "2025-07-30T13:07:48.807394Z",
     "iopub.status.busy": "2025-07-30T13:07:48.806935Z",
     "iopub.status.idle": "2025-07-30T13:07:48.812366Z",
     "shell.execute_reply": "2025-07-30T13:07:48.811458Z"
    },
    "papermill": {
     "duration": 0.028676,
     "end_time": "2025-07-30T13:07:48.815020",
     "exception": false,
     "start_time": "2025-07-30T13:07:48.786344",
     "status": "completed"
    },
    "tags": []
   },
   "outputs": [],
   "source": [
    "import json\n",
    "# Parse universe into dict if it is passed as a string\n",
    "if isinstance(universe, str):\n",
    "    universe = json.loads(universe)"
   ]
  },
  {
   "cell_type": "code",
   "execution_count": 6,
   "id": "16620c48",
   "metadata": {
    "execution": {
     "iopub.execute_input": "2025-07-30T13:07:48.857525Z",
     "iopub.status.busy": "2025-07-30T13:07:48.857059Z",
     "iopub.status.idle": "2025-07-30T13:07:48.901841Z",
     "shell.execute_reply": "2025-07-30T13:07:48.901016Z"
    },
    "papermill": {
     "duration": 0.067634,
     "end_time": "2025-07-30T13:07:48.903618",
     "exception": false,
     "start_time": "2025-07-30T13:07:48.835984",
     "status": "completed"
    },
    "tags": []
   },
   "outputs": [],
   "source": [
    "# Auto-reload the custom package\n",
    "%load_ext autoreload\n",
    "%autoreload 1\n",
    "%aimport fairness_multiverse"
   ]
  },
  {
   "cell_type": "code",
   "execution_count": 7,
   "id": "01c5c9f3",
   "metadata": {
    "execution": {
     "iopub.execute_input": "2025-07-30T13:07:48.942549Z",
     "iopub.status.busy": "2025-07-30T13:07:48.941835Z",
     "iopub.status.idle": "2025-07-30T13:07:50.777313Z",
     "shell.execute_reply": "2025-07-30T13:07:50.776513Z"
    },
    "papermill": {
     "duration": 1.856353,
     "end_time": "2025-07-30T13:07:50.778775",
     "exception": false,
     "start_time": "2025-07-30T13:07:48.922422",
     "status": "completed"
    },
    "tags": []
   },
   "outputs": [],
   "source": [
    "from fairness_multiverse.universe import UniverseAnalysis\n",
    "\n",
    "universe_analysis = UniverseAnalysis(\n",
    "    run_no = run_no,\n",
    "    universe_id = universe_id,\n",
    "    universe = universe,\n",
    "    output_dir=output_dir,\n",
    ")"
   ]
  },
  {
   "cell_type": "code",
   "execution_count": 8,
   "id": "106241f5",
   "metadata": {
    "execution": {
     "iopub.execute_input": "2025-07-30T13:07:50.804286Z",
     "iopub.status.busy": "2025-07-30T13:07:50.803519Z",
     "iopub.status.idle": "2025-07-30T13:07:50.809134Z",
     "shell.execute_reply": "2025-07-30T13:07:50.808335Z"
    },
    "papermill": {
     "duration": 0.018267,
     "end_time": "2025-07-30T13:07:50.810381",
     "exception": false,
     "start_time": "2025-07-30T13:07:50.792114",
     "status": "completed"
    },
    "tags": []
   },
   "outputs": [
    {
     "name": "stdout",
     "output_type": "stream",
     "text": [
      "Using Seed: 2023\n"
     ]
    }
   ],
   "source": [
    "import numpy as np\n",
    "parsed_seed = int(seed)\n",
    "np.random.seed(parsed_seed)\n",
    "print(f\"Using Seed: {parsed_seed}\")"
   ]
  },
  {
   "cell_type": "markdown",
   "id": "e0ebdc57",
   "metadata": {
    "papermill": {
     "duration": 0.010405,
     "end_time": "2025-07-30T13:07:50.832164",
     "exception": false,
     "start_time": "2025-07-30T13:07:50.821759",
     "status": "completed"
    },
    "tags": []
   },
   "source": [
    "# Loading Data"
   ]
  },
  {
   "cell_type": "markdown",
   "id": "681925a3",
   "metadata": {
    "papermill": {
     "duration": 0.014315,
     "end_time": "2025-07-30T13:07:50.856707",
     "exception": false,
     "start_time": "2025-07-30T13:07:50.842392",
     "status": "completed"
    },
    "tags": []
   },
   "source": [
    "Load siab_train, siab_test, siab_calib and/or \n",
    "load siab_train_features, siab_train_labels"
   ]
  },
  {
   "cell_type": "code",
   "execution_count": 9,
   "id": "f0496b8a",
   "metadata": {
    "execution": {
     "iopub.execute_input": "2025-07-30T13:07:50.883996Z",
     "iopub.status.busy": "2025-07-30T13:07:50.883292Z",
     "iopub.status.idle": "2025-07-30T13:08:04.194609Z",
     "shell.execute_reply": "2025-07-30T13:08:04.193423Z"
    },
    "papermill": {
     "duration": 13.324334,
     "end_time": "2025-07-30T13:08:04.196239",
     "exception": false,
     "start_time": "2025-07-30T13:07:50.871905",
     "status": "completed"
    },
    "tags": []
   },
   "outputs": [
    {
     "name": "stdout",
     "output_type": "stream",
     "text": [
      "Loading SIAB data from cache: data/siab_cached.csv.gz\n"
     ]
    },
    {
     "name": "stdout",
     "output_type": "stream",
     "text": [
      "(643690, 164)\n"
     ]
    }
   ],
   "source": [
    "from pathlib import Path\n",
    "import pandas as pd\n",
    "\n",
    "# File paths\n",
    "raw_file = Path(\"data/raw/siab.csv\")\n",
    "cache_file = Path(\"data/siab_cached.csv.gz\")\n",
    "\n",
    "# Ensure cache directory exists\n",
    "cache_file.parent.mkdir(parents=True, exist_ok=True)\n",
    "\n",
    "# Load with simple caching\n",
    "if cache_file.exists():\n",
    "    print(f\"Loading SIAB data from cache: {cache_file}\")\n",
    "    siab = pd.read_csv(cache_file, compression='gzip')\n",
    "else:\n",
    "    print(f\"Cache not found. Reading raw SIAB data: {raw_file}\")\n",
    "    siab = pd.read_csv(raw_file)\n",
    "    siab.to_csv(cache_file, index=False, compression='gzip')\n",
    "    print(f\"Cached SIAB data to: {cache_file}\")\n",
    "\n",
    "# Now use `siab` DataFrame as needed\n",
    "print(siab.shape)"
   ]
  },
  {
   "cell_type": "code",
   "execution_count": 10,
   "id": "db0ca512-5f53-4dba-abdb-a2888bca41ba",
   "metadata": {
    "execution": {
     "iopub.execute_input": "2025-07-30T13:08:04.244482Z",
     "iopub.status.busy": "2025-07-30T13:08:04.243569Z",
     "iopub.status.idle": "2025-07-30T13:08:04.250274Z",
     "shell.execute_reply": "2025-07-30T13:08:04.249371Z"
    },
    "papermill": {
     "duration": 0.032888,
     "end_time": "2025-07-30T13:08:04.251939",
     "exception": false,
     "start_time": "2025-07-30T13:08:04.219051",
     "status": "completed"
    },
    "tags": []
   },
   "outputs": [],
   "source": [
    "#siab"
   ]
  },
  {
   "cell_type": "code",
   "execution_count": 11,
   "id": "a0edb063",
   "metadata": {
    "execution": {
     "iopub.execute_input": "2025-07-30T13:08:04.296946Z",
     "iopub.status.busy": "2025-07-30T13:08:04.296216Z",
     "iopub.status.idle": "2025-07-30T13:08:04.301790Z",
     "shell.execute_reply": "2025-07-30T13:08:04.300832Z"
    },
    "papermill": {
     "duration": 0.029797,
     "end_time": "2025-07-30T13:08:04.303629",
     "exception": false,
     "start_time": "2025-07-30T13:08:04.273832",
     "status": "completed"
    },
    "tags": []
   },
   "outputs": [],
   "source": [
    "#import pandas as pd\n",
    "#\n",
    "#X_train = pd.read_csv(\"./data/X_train.csv\")\n",
    "#y_train = pd.read_csv(\"./data/y_train.csv\")"
   ]
  },
  {
   "cell_type": "code",
   "execution_count": 12,
   "id": "63d08085",
   "metadata": {
    "execution": {
     "iopub.execute_input": "2025-07-30T13:08:04.349238Z",
     "iopub.status.busy": "2025-07-30T13:08:04.348709Z",
     "iopub.status.idle": "2025-07-30T13:08:04.353937Z",
     "shell.execute_reply": "2025-07-30T13:08:04.352821Z"
    },
    "papermill": {
     "duration": 0.029486,
     "end_time": "2025-07-30T13:08:04.355695",
     "exception": false,
     "start_time": "2025-07-30T13:08:04.326209",
     "status": "completed"
    },
    "tags": []
   },
   "outputs": [],
   "source": [
    "#X_test = pd.read_csv(\"./data/X_test.csv\")\n",
    "#y_true = pd.read_csv(\"./data/y_test.csv\")"
   ]
  },
  {
   "cell_type": "code",
   "execution_count": 13,
   "id": "98a8d0fa-1d3d-4ed8-bb2c-281470e24add",
   "metadata": {
    "execution": {
     "iopub.execute_input": "2025-07-30T13:08:04.402331Z",
     "iopub.status.busy": "2025-07-30T13:08:04.401192Z",
     "iopub.status.idle": "2025-07-30T13:08:04.407433Z",
     "shell.execute_reply": "2025-07-30T13:08:04.406225Z"
    },
    "papermill": {
     "duration": 0.031472,
     "end_time": "2025-07-30T13:08:04.409124",
     "exception": false,
     "start_time": "2025-07-30T13:08:04.377652",
     "status": "completed"
    },
    "tags": []
   },
   "outputs": [],
   "source": [
    "# Calibration data for conformal\n",
    "#X_calib = pd.read_csv(\"./data/X_calib.csv\")\n",
    "#y_calib = pd.read_csv(\"./data/y_calib.csv\")"
   ]
  },
  {
   "cell_type": "markdown",
   "id": "997051c5-15bd-4b69-9786-c3001a3ce484",
   "metadata": {
    "papermill": {
     "duration": 0.021724,
     "end_time": "2025-07-30T13:08:04.452579",
     "exception": false,
     "start_time": "2025-07-30T13:08:04.430855",
     "status": "completed"
    },
    "tags": []
   },
   "source": [
    "# Splitting Data and Setting Training Data Size"
   ]
  },
  {
   "cell_type": "code",
   "execution_count": 14,
   "id": "e993b61f-042d-41a6-8c81-f55681f86335",
   "metadata": {
    "execution": {
     "iopub.execute_input": "2025-07-30T13:08:04.497535Z",
     "iopub.status.busy": "2025-07-30T13:08:04.497087Z",
     "iopub.status.idle": "2025-07-30T13:08:04.510698Z",
     "shell.execute_reply": "2025-07-30T13:08:04.509688Z"
    },
    "papermill": {
     "duration": 0.037859,
     "end_time": "2025-07-30T13:08:04.512617",
     "exception": false,
     "start_time": "2025-07-30T13:08:04.474758",
     "status": "completed"
    },
    "tags": []
   },
   "outputs": [],
   "source": [
    "def sample_by_year_size(df,\n",
    "                        training_year: str,\n",
    "                        training_size: str,\n",
    "                        random_state: int = 42):\n",
    "    # --- parse training_year into a list of int years ---\n",
    "    if \"_\" in training_year:\n",
    "        start_str, end_str = training_year.split(\"_\", 1)\n",
    "        start = int(start_str)\n",
    "        end   = int(end_str) if len(end_str) == 4 else (int(end_str) + (start // 100)*100)\n",
    "        years = list(range(start, end + 1))\n",
    "    else:\n",
    "        years = [int(training_year)]\n",
    "\n",
    "    df = df[df[\"year\"].isin(years)].reset_index(drop=True)\n",
    "\n",
    "    # --- map training_size to total number of samples ---\n",
    "    total_map = {\"25k\": 25_000, \"5k\": 5_000, \"1k\": 1_000}\n",
    "    if training_size not in total_map:\n",
    "        return df  # e.g. \"all\"\n",
    "\n",
    "    total_samples = total_map[training_size]\n",
    "    n_years       = len(years)\n",
    "    base          = total_samples // n_years\n",
    "    remainder     = total_samples % n_years\n",
    "\n",
    "    # --- build a dict: year -> how many to sample ---\n",
    "    # give +1 to the first `remainder` years in ascending order\n",
    "    quotas = {\n",
    "        year: base + (1 if idx < remainder else 0)\n",
    "        for idx, year in enumerate(sorted(years))\n",
    "    }\n",
    "\n",
    "    # --- sample per‐year according to the quota dict ---\n",
    "    sampled = (\n",
    "        df\n",
    "        .groupby(\"year\", group_keys=False)\n",
    "        .apply(lambda grp: grp.sample(\n",
    "            n=min(len(grp), quotas[grp.name]),\n",
    "            random_state=random_state))\n",
    "        .reset_index(drop=True)\n",
    "    )\n",
    "\n",
    "    return sampled"
   ]
  },
  {
   "cell_type": "code",
   "execution_count": 15,
   "id": "c0ccd338-0e02-41f3-a09d-f56f9266e3fb",
   "metadata": {
    "execution": {
     "iopub.execute_input": "2025-07-30T13:08:04.558341Z",
     "iopub.status.busy": "2025-07-30T13:08:04.557682Z",
     "iopub.status.idle": "2025-07-30T13:08:04.569038Z",
     "shell.execute_reply": "2025-07-30T13:08:04.567862Z"
    },
    "papermill": {
     "duration": 0.036087,
     "end_time": "2025-07-30T13:08:04.570922",
     "exception": false,
     "start_time": "2025-07-30T13:08:04.534835",
     "status": "completed"
    },
    "tags": []
   },
   "outputs": [
    {
     "data": {
      "text/plain": [
       "'25k'"
      ]
     },
     "execution_count": 15,
     "metadata": {},
     "output_type": "execute_result"
    }
   ],
   "source": [
    "universe[\"training_size\"]"
   ]
  },
  {
   "cell_type": "code",
   "execution_count": 16,
   "id": "ca707fd7-8047-4acd-bfa5-66248fbbf8e6",
   "metadata": {
    "execution": {
     "iopub.execute_input": "2025-07-30T13:08:04.616600Z",
     "iopub.status.busy": "2025-07-30T13:08:04.616177Z",
     "iopub.status.idle": "2025-07-30T13:08:04.623204Z",
     "shell.execute_reply": "2025-07-30T13:08:04.622303Z"
    },
    "papermill": {
     "duration": 0.031829,
     "end_time": "2025-07-30T13:08:04.624846",
     "exception": false,
     "start_time": "2025-07-30T13:08:04.593017",
     "status": "completed"
    },
    "tags": []
   },
   "outputs": [
    {
     "data": {
      "text/plain": [
       "'2012_14'"
      ]
     },
     "execution_count": 16,
     "metadata": {},
     "output_type": "execute_result"
    }
   ],
   "source": [
    "universe[\"training_year\"]"
   ]
  },
  {
   "cell_type": "code",
   "execution_count": 17,
   "id": "aea9c6ef-6f46-42c8-85eb-5a62025c1508",
   "metadata": {
    "execution": {
     "iopub.execute_input": "2025-07-30T13:08:04.670234Z",
     "iopub.status.busy": "2025-07-30T13:08:04.669604Z",
     "iopub.status.idle": "2025-07-30T13:08:05.347100Z",
     "shell.execute_reply": "2025-07-30T13:08:05.346110Z"
    },
    "papermill": {
     "duration": 0.702861,
     "end_time": "2025-07-30T13:08:05.349055",
     "exception": false,
     "start_time": "2025-07-30T13:08:04.646194",
     "status": "completed"
    },
    "tags": []
   },
   "outputs": [],
   "source": [
    "siab_train = sample_by_year_size(siab,\n",
    "                               training_year=universe[\"training_year\"],\n",
    "                               training_size=universe[\"training_size\"])"
   ]
  },
  {
   "cell_type": "code",
   "execution_count": 18,
   "id": "8d3afb32-789d-442c-8d5d-9f5aa8dd2eed",
   "metadata": {
    "execution": {
     "iopub.execute_input": "2025-07-30T13:08:05.392136Z",
     "iopub.status.busy": "2025-07-30T13:08:05.391644Z",
     "iopub.status.idle": "2025-07-30T13:08:05.398881Z",
     "shell.execute_reply": "2025-07-30T13:08:05.397971Z"
    },
    "papermill": {
     "duration": 0.029903,
     "end_time": "2025-07-30T13:08:05.400533",
     "exception": false,
     "start_time": "2025-07-30T13:08:05.370630",
     "status": "completed"
    },
    "tags": []
   },
   "outputs": [
    {
     "data": {
      "text/plain": [
       "(25000, 164)"
      ]
     },
     "execution_count": 18,
     "metadata": {},
     "output_type": "execute_result"
    }
   ],
   "source": [
    "siab_train.shape"
   ]
  },
  {
   "cell_type": "code",
   "execution_count": 19,
   "id": "d582db68-1a4c-47fb-84fc-08518dc1975a",
   "metadata": {
    "execution": {
     "iopub.execute_input": "2025-07-30T13:08:05.444277Z",
     "iopub.status.busy": "2025-07-30T13:08:05.443799Z",
     "iopub.status.idle": "2025-07-30T13:08:05.454103Z",
     "shell.execute_reply": "2025-07-30T13:08:05.453079Z"
    },
    "papermill": {
     "duration": 0.034297,
     "end_time": "2025-07-30T13:08:05.455630",
     "exception": false,
     "start_time": "2025-07-30T13:08:05.421333",
     "status": "completed"
    },
    "tags": []
   },
   "outputs": [
    {
     "data": {
      "text/plain": [
       "year\n",
       "2012    8334\n",
       "2013    8333\n",
       "2014    8333\n",
       "dtype: int64"
      ]
     },
     "metadata": {},
     "output_type": "display_data"
    }
   ],
   "source": [
    "display(siab_train.groupby(\"year\").size())"
   ]
  },
  {
   "cell_type": "code",
   "execution_count": 20,
   "id": "a561edb4-d032-42cb-8256-22eac1111c64",
   "metadata": {
    "execution": {
     "iopub.execute_input": "2025-07-30T13:08:05.501689Z",
     "iopub.status.busy": "2025-07-30T13:08:05.501039Z",
     "iopub.status.idle": "2025-07-30T13:08:05.748218Z",
     "shell.execute_reply": "2025-07-30T13:08:05.747267Z"
    },
    "papermill": {
     "duration": 0.271783,
     "end_time": "2025-07-30T13:08:05.750055",
     "exception": false,
     "start_time": "2025-07-30T13:08:05.478272",
     "status": "completed"
    },
    "tags": []
   },
   "outputs": [],
   "source": [
    "#siab_train = siab_s[siab_s.year < 2015]\n",
    "siab_calib = siab[siab.year == 2015]\n",
    "siab_test = siab[siab.year == 2016]"
   ]
  },
  {
   "cell_type": "code",
   "execution_count": 21,
   "id": "472de16f-c3db-4916-846b-1f0de9cf1746",
   "metadata": {
    "execution": {
     "iopub.execute_input": "2025-07-30T13:08:05.797868Z",
     "iopub.status.busy": "2025-07-30T13:08:05.797229Z",
     "iopub.status.idle": "2025-07-30T13:08:05.811751Z",
     "shell.execute_reply": "2025-07-30T13:08:05.810720Z"
    },
    "papermill": {
     "duration": 0.040303,
     "end_time": "2025-07-30T13:08:05.813537",
     "exception": false,
     "start_time": "2025-07-30T13:08:05.773234",
     "status": "completed"
    },
    "tags": []
   },
   "outputs": [],
   "source": [
    "X_train = siab_train.iloc[:,4:164]\n",
    "y_train = siab_train.iloc[:, [3]]"
   ]
  },
  {
   "cell_type": "code",
   "execution_count": 22,
   "id": "828c96af-f43a-4ed6-ba47-8ac73a47d56c",
   "metadata": {
    "execution": {
     "iopub.execute_input": "2025-07-30T13:08:05.858803Z",
     "iopub.status.busy": "2025-07-30T13:08:05.858129Z",
     "iopub.status.idle": "2025-07-30T13:08:05.910963Z",
     "shell.execute_reply": "2025-07-30T13:08:05.910001Z"
    },
    "papermill": {
     "duration": 0.07665,
     "end_time": "2025-07-30T13:08:05.912614",
     "exception": false,
     "start_time": "2025-07-30T13:08:05.835964",
     "status": "completed"
    },
    "tags": []
   },
   "outputs": [],
   "source": [
    "X_calib = siab_calib.iloc[:,4:164]\n",
    "y_calib = siab_calib.iloc[:, [3]]"
   ]
  },
  {
   "cell_type": "code",
   "execution_count": 23,
   "id": "c34be9c3-6bd6-476e-acd3-845840e303be",
   "metadata": {
    "execution": {
     "iopub.execute_input": "2025-07-30T13:08:05.960431Z",
     "iopub.status.busy": "2025-07-30T13:08:05.959528Z",
     "iopub.status.idle": "2025-07-30T13:08:06.011148Z",
     "shell.execute_reply": "2025-07-30T13:08:06.010257Z"
    },
    "papermill": {
     "duration": 0.077936,
     "end_time": "2025-07-30T13:08:06.013184",
     "exception": false,
     "start_time": "2025-07-30T13:08:05.935248",
     "status": "completed"
    },
    "tags": []
   },
   "outputs": [],
   "source": [
    "X_test = siab_test.iloc[:,4:164]\n",
    "y_true = siab_test.iloc[:, [3]]"
   ]
  },
  {
   "cell_type": "markdown",
   "id": "9901737e-04df-44f0-9100-f5ad144ed040",
   "metadata": {
    "papermill": {
     "duration": 0.021679,
     "end_time": "2025-07-30T13:08:06.057399",
     "exception": false,
     "start_time": "2025-07-30T13:08:06.035720",
     "status": "completed"
    },
    "tags": []
   },
   "source": [
    "# Splitting Data and Setting Training Data Size OLD VERSION"
   ]
  },
  {
   "cell_type": "code",
   "execution_count": 24,
   "id": "acbc8f7d-8fc8-4e86-8c59-5dcb0f58384b",
   "metadata": {
    "execution": {
     "iopub.execute_input": "2025-07-30T13:08:06.104170Z",
     "iopub.status.busy": "2025-07-30T13:08:06.103474Z",
     "iopub.status.idle": "2025-07-30T13:08:06.108952Z",
     "shell.execute_reply": "2025-07-30T13:08:06.108083Z"
    },
    "papermill": {
     "duration": 0.029474,
     "end_time": "2025-07-30T13:08:06.110585",
     "exception": false,
     "start_time": "2025-07-30T13:08:06.081111",
     "status": "completed"
    },
    "tags": []
   },
   "outputs": [],
   "source": [
    "#def sample_by_year(df, training_size, random_state=42):\n",
    "#    if training_size == \"2014\":\n",
    "#        return df[df[\"year\"] == 2014].reset_index(drop=True)\n",
    "#    \n",
    "#    size_map = {\n",
    "#        \"25k\": 5000,\n",
    "#        \"5k\": 1000,\n",
    "#        \"1k\": 200\n",
    "#    }\n",
    "#\n",
    "#    if training_size not in size_map:\n",
    "#        return df.reset_index(drop=True)  # use all data\n",
    "#\n",
    "#    n_per_year = size_map[training_size]\n",
    "#    grouped = df.groupby(\"year\")\n",
    "#    sampled = grouped.apply(lambda x: x.sample(n=min(n_per_year, len(x)), random_state=random_state))\n",
    "#    return sampled.reset_index(drop=True)"
   ]
  },
  {
   "cell_type": "code",
   "execution_count": 25,
   "id": "6d931f52-beaf-43ff-9e78-9d44a448d54e",
   "metadata": {
    "execution": {
     "iopub.execute_input": "2025-07-30T13:08:06.160015Z",
     "iopub.status.busy": "2025-07-30T13:08:06.159528Z",
     "iopub.status.idle": "2025-07-30T13:08:06.164537Z",
     "shell.execute_reply": "2025-07-30T13:08:06.163635Z"
    },
    "papermill": {
     "duration": 0.0313,
     "end_time": "2025-07-30T13:08:06.166139",
     "exception": false,
     "start_time": "2025-07-30T13:08:06.134839",
     "status": "completed"
    },
    "tags": []
   },
   "outputs": [],
   "source": [
    "#siab_s = sample_by_year(siab, universe[\"training_size\"])"
   ]
  },
  {
   "cell_type": "code",
   "execution_count": 26,
   "id": "5db0a40e-a4e2-4920-be85-b12ae061d70d",
   "metadata": {
    "execution": {
     "iopub.execute_input": "2025-07-30T13:08:06.213181Z",
     "iopub.status.busy": "2025-07-30T13:08:06.212717Z",
     "iopub.status.idle": "2025-07-30T13:08:06.217991Z",
     "shell.execute_reply": "2025-07-30T13:08:06.216930Z"
    },
    "papermill": {
     "duration": 0.030153,
     "end_time": "2025-07-30T13:08:06.219757",
     "exception": false,
     "start_time": "2025-07-30T13:08:06.189604",
     "status": "completed"
    },
    "tags": []
   },
   "outputs": [],
   "source": [
    "#display(siab_s.groupby(\"year\").size())"
   ]
  },
  {
   "cell_type": "code",
   "execution_count": 27,
   "id": "e6c733c5",
   "metadata": {
    "execution": {
     "iopub.execute_input": "2025-07-30T13:08:06.267457Z",
     "iopub.status.busy": "2025-07-30T13:08:06.266977Z",
     "iopub.status.idle": "2025-07-30T13:08:06.370987Z",
     "shell.execute_reply": "2025-07-30T13:08:06.370012Z"
    },
    "papermill": {
     "duration": 0.129166,
     "end_time": "2025-07-30T13:08:06.372970",
     "exception": false,
     "start_time": "2025-07-30T13:08:06.243804",
     "status": "completed"
    },
    "tags": []
   },
   "outputs": [],
   "source": [
    "# Auxiliary data needed downstream in the pipeline\n",
    "\n",
    "org_train = X_train.copy()\n",
    "org_test = X_test.copy()\n",
    "org_calib = X_calib.copy()"
   ]
  },
  {
   "cell_type": "code",
   "execution_count": 28,
   "id": "1466abac-c6da-4492-a62f-4240ae3783af",
   "metadata": {
    "execution": {
     "iopub.execute_input": "2025-07-30T13:08:06.430006Z",
     "iopub.status.busy": "2025-07-30T13:08:06.429362Z",
     "iopub.status.idle": "2025-07-30T13:08:06.435153Z",
     "shell.execute_reply": "2025-07-30T13:08:06.434190Z"
    },
    "papermill": {
     "duration": 0.030308,
     "end_time": "2025-07-30T13:08:06.437258",
     "exception": false,
     "start_time": "2025-07-30T13:08:06.406950",
     "status": "completed"
    },
    "tags": []
   },
   "outputs": [],
   "source": [
    "# put in other script?\n",
    "# Group sizes\n",
    "\n",
    "#def calculate_percentages(df, df_name):\n",
    "#    total_entries = len(df)\n",
    "#\n",
    "#    female_pct = (df['frau1'] == 1).mean() * 100\n",
    "#    non_german_pct = ((df['maxdeutsch1'] == 0) & (df['maxdeutsch.Missing.'] == 0)).mean() * 100\n",
    "#    non_german_male_pct = ((df['frau1'] == 0) & (df['maxdeutsch1'] == 0) & (df['maxdeutsch.Missing.'] == 0)).mean() * 100\n",
    "#    non_german_female_pct = ((df['frau1'] == 1) & (df['maxdeutsch1'] == 0) & (df['maxdeutsch.Missing.'] == 0)).mean() * 100\n",
    "#\n",
    "#    print(f\"--- {df_name} ---\")\n",
    "#    print(f\"Female: {female_pct:.2f}%\")\n",
    "#    print(f\"Non-German: {non_german_pct:.2f}%\")\n",
    "#    print(f\"Non-German Male: {non_german_male_pct:.2f}%\")\n",
    "#    print(f\"Non-German Female: {non_german_female_pct:.2f}%\\n\")\n",
    "#\n",
    "## Calculate for each DataFrame\n",
    "#calculate_percentages(siab_calib, \"siab_calib\")\n",
    "#calculate_percentages(siab_test, \"siab_test\")\n",
    "#calculate_percentages(siab_train, \"siab_train\")"
   ]
  },
  {
   "cell_type": "markdown",
   "id": "0a4a1b33",
   "metadata": {
    "papermill": {
     "duration": 0.02254,
     "end_time": "2025-07-30T13:08:06.483499",
     "exception": false,
     "start_time": "2025-07-30T13:08:06.460959",
     "status": "completed"
    },
    "tags": []
   },
   "source": [
    "# Preprocessing Data"
   ]
  },
  {
   "cell_type": "code",
   "execution_count": 29,
   "id": "ca879031",
   "metadata": {
    "execution": {
     "iopub.execute_input": "2025-07-30T13:08:06.531615Z",
     "iopub.status.busy": "2025-07-30T13:08:06.530721Z",
     "iopub.status.idle": "2025-07-30T13:08:06.536736Z",
     "shell.execute_reply": "2025-07-30T13:08:06.535777Z"
    },
    "papermill": {
     "duration": 0.032427,
     "end_time": "2025-07-30T13:08:06.538484",
     "exception": false,
     "start_time": "2025-07-30T13:08:06.506057",
     "status": "completed"
    },
    "tags": []
   },
   "outputs": [],
   "source": [
    "# EXCLUDE PROTECTED FEATURES\n",
    "# ----------------------\n",
    "# \"exclude_features\": \"none\", # \"nationality\", \"sex\", \"nationality-sex\"\n",
    "\n",
    "excluded_features = universe[\"exclude_features\"].split(\"-\") # split, e.g.: \"nationality-sex\" -> [\"nationality\", \"sex\"]\n",
    "excluded_features_dictionary = {\n",
    "    \"nationality\": [\"maxdeutsch1\", \"maxdeutsch.Missing.\"],\n",
    "    \"sex\": [\"frau1\"],\n",
    "    \"age\": [\"age\"],\n",
    "}\n"
   ]
  },
  {
   "cell_type": "code",
   "execution_count": 30,
   "id": "b745ac60",
   "metadata": {
    "execution": {
     "iopub.execute_input": "2025-07-30T13:08:06.586495Z",
     "iopub.status.busy": "2025-07-30T13:08:06.585936Z",
     "iopub.status.idle": "2025-07-30T13:08:06.592448Z",
     "shell.execute_reply": "2025-07-30T13:08:06.591444Z"
    },
    "papermill": {
     "duration": 0.033781,
     "end_time": "2025-07-30T13:08:06.594579",
     "exception": false,
     "start_time": "2025-07-30T13:08:06.560798",
     "status": "completed"
    },
    "tags": []
   },
   "outputs": [],
   "source": [
    "# Code nice names to column names\n",
    "\n",
    "excluded_features_columns = [\n",
    "    excluded_features_dictionary[f] for f in excluded_features if len(f) > 0 and f != \"none\"\n",
    "]"
   ]
  },
  {
   "cell_type": "code",
   "execution_count": 31,
   "id": "f84f73a2",
   "metadata": {
    "execution": {
     "iopub.execute_input": "2025-07-30T13:08:06.643005Z",
     "iopub.status.busy": "2025-07-30T13:08:06.641776Z",
     "iopub.status.idle": "2025-07-30T13:08:06.650443Z",
     "shell.execute_reply": "2025-07-30T13:08:06.649258Z"
    },
    "papermill": {
     "duration": 0.047804,
     "end_time": "2025-07-30T13:08:06.665370",
     "exception": false,
     "start_time": "2025-07-30T13:08:06.617566",
     "status": "completed"
    },
    "tags": []
   },
   "outputs": [],
   "source": [
    "from utils import flatten_once\n",
    "\n",
    "excluded_features_columns = flatten_once(excluded_features_columns)"
   ]
  },
  {
   "cell_type": "code",
   "execution_count": 32,
   "id": "884dea22",
   "metadata": {
    "execution": {
     "iopub.execute_input": "2025-07-30T13:08:06.710271Z",
     "iopub.status.busy": "2025-07-30T13:08:06.709822Z",
     "iopub.status.idle": "2025-07-30T13:08:06.724663Z",
     "shell.execute_reply": "2025-07-30T13:08:06.723623Z"
    },
    "papermill": {
     "duration": 0.038524,
     "end_time": "2025-07-30T13:08:06.726265",
     "exception": false,
     "start_time": "2025-07-30T13:08:06.687741",
     "status": "completed"
    },
    "tags": []
   },
   "outputs": [
    {
     "name": "stdout",
     "output_type": "stream",
     "text": [
      "Dropping features: ['maxdeutsch1', 'maxdeutsch.Missing.', 'frau1']\n"
     ]
    }
   ],
   "source": [
    "if len(excluded_features_columns) > 0:\n",
    "    print(f\"Dropping features: {excluded_features_columns}\")\n",
    "    X_train.drop(excluded_features_columns, axis=1, inplace=True)"
   ]
  },
  {
   "cell_type": "code",
   "execution_count": 33,
   "id": "95ab8b16",
   "metadata": {
    "execution": {
     "iopub.execute_input": "2025-07-30T13:08:06.773175Z",
     "iopub.status.busy": "2025-07-30T13:08:06.772670Z",
     "iopub.status.idle": "2025-07-30T13:08:06.825894Z",
     "shell.execute_reply": "2025-07-30T13:08:06.825014Z"
    },
    "papermill": {
     "duration": 0.07917,
     "end_time": "2025-07-30T13:08:06.827840",
     "exception": false,
     "start_time": "2025-07-30T13:08:06.748670",
     "status": "completed"
    },
    "tags": []
   },
   "outputs": [
    {
     "name": "stdout",
     "output_type": "stream",
     "text": [
      "Dropping features: ['maxdeutsch1', 'maxdeutsch.Missing.', 'frau1']\n"
     ]
    }
   ],
   "source": [
    "if len(excluded_features_columns) > 0:\n",
    "    print(f\"Dropping features: {excluded_features_columns}\")\n",
    "    X_test.drop(excluded_features_columns, axis=1, inplace=True)"
   ]
  },
  {
   "cell_type": "code",
   "execution_count": 34,
   "id": "1853aaf5-fb9f-46cb-a2b5-8ea4ae2237e4",
   "metadata": {
    "execution": {
     "iopub.execute_input": "2025-07-30T13:08:06.875989Z",
     "iopub.status.busy": "2025-07-30T13:08:06.875501Z",
     "iopub.status.idle": "2025-07-30T13:08:06.928023Z",
     "shell.execute_reply": "2025-07-30T13:08:06.927077Z"
    },
    "papermill": {
     "duration": 0.077822,
     "end_time": "2025-07-30T13:08:06.929909",
     "exception": false,
     "start_time": "2025-07-30T13:08:06.852087",
     "status": "completed"
    },
    "tags": []
   },
   "outputs": [
    {
     "name": "stdout",
     "output_type": "stream",
     "text": [
      "Dropping features: ['maxdeutsch1', 'maxdeutsch.Missing.', 'frau1']\n"
     ]
    }
   ],
   "source": [
    "if len(excluded_features_columns) > 0:\n",
    "    print(f\"Dropping features: {excluded_features_columns}\")\n",
    "    X_calib.drop(excluded_features_columns, axis=1, inplace=True)"
   ]
  },
  {
   "cell_type": "code",
   "execution_count": 35,
   "id": "6727d079-03e5-481e-9d38-292a90b7a0a8",
   "metadata": {
    "execution": {
     "iopub.execute_input": "2025-07-30T13:08:06.981055Z",
     "iopub.status.busy": "2025-07-30T13:08:06.980509Z",
     "iopub.status.idle": "2025-07-30T13:08:06.985590Z",
     "shell.execute_reply": "2025-07-30T13:08:06.984711Z"
    },
    "papermill": {
     "duration": 0.033403,
     "end_time": "2025-07-30T13:08:06.987258",
     "exception": false,
     "start_time": "2025-07-30T13:08:06.953855",
     "status": "completed"
    },
    "tags": []
   },
   "outputs": [],
   "source": [
    "# SPLIT & STRATIFY DATA\n",
    "# ----------------------"
   ]
  },
  {
   "cell_type": "code",
   "execution_count": 36,
   "id": "76c4dc6d",
   "metadata": {
    "execution": {
     "iopub.execute_input": "2025-07-30T13:08:07.037531Z",
     "iopub.status.busy": "2025-07-30T13:08:07.036855Z",
     "iopub.status.idle": "2025-07-30T13:08:07.042399Z",
     "shell.execute_reply": "2025-07-30T13:08:07.041478Z"
    },
    "papermill": {
     "duration": 0.033069,
     "end_time": "2025-07-30T13:08:07.044192",
     "exception": false,
     "start_time": "2025-07-30T13:08:07.011123",
     "status": "completed"
    },
    "tags": []
   },
   "outputs": [],
   "source": [
    "# EXCLUDE CERTAIN SUBGROUPS\n",
    "# ----------------------\n",
    "\n",
    "mode = universe.get(\"exclude_subgroups\", \"keep-all\") \n",
    "# Fetches the exclude_subgroups setting from the universe dict.\n",
    "# Defaults to \"keep-all\" if the key is missing."
   ]
  },
  {
   "cell_type": "code",
   "execution_count": 37,
   "id": "21994072",
   "metadata": {
    "execution": {
     "iopub.execute_input": "2025-07-30T13:08:07.092681Z",
     "iopub.status.busy": "2025-07-30T13:08:07.091977Z",
     "iopub.status.idle": "2025-07-30T13:08:07.099237Z",
     "shell.execute_reply": "2025-07-30T13:08:07.098298Z"
    },
    "papermill": {
     "duration": 0.032555,
     "end_time": "2025-07-30T13:08:07.100962",
     "exception": false,
     "start_time": "2025-07-30T13:08:07.068407",
     "status": "completed"
    },
    "tags": []
   },
   "outputs": [],
   "source": [
    "if mode == \"keep-all\":\n",
    "    keep_mask = pd.Series(True, index=org_train.index)\n",
    "\n",
    "# org_train contains the original feature columns from features_org (in Simson)\n",
    "# features_org contains unprocessed features, for me X_train at beginning ???\n",
    "# For keep-all, creates a boolean Series (keep_mask) of all True, so no rows are removed.\n",
    "\n",
    "elif mode == \"drop-non-german\":\n",
    "    keep_mask = org_train[\"maxdeutsch1\"] == 1 # ??? what about missing values?\n",
    "\n",
    "else:\n",
    "    raise ValueError(f\"Unsupported mode for exclude_subgroups: {mode}\")\n"
   ]
  },
  {
   "cell_type": "code",
   "execution_count": 38,
   "id": "71651440",
   "metadata": {
    "execution": {
     "iopub.execute_input": "2025-07-30T13:08:07.149169Z",
     "iopub.status.busy": "2025-07-30T13:08:07.148746Z",
     "iopub.status.idle": "2025-07-30T13:08:07.156574Z",
     "shell.execute_reply": "2025-07-30T13:08:07.155416Z"
    },
    "papermill": {
     "duration": 0.036029,
     "end_time": "2025-07-30T13:08:07.160971",
     "exception": false,
     "start_time": "2025-07-30T13:08:07.124942",
     "status": "completed"
    },
    "tags": []
   },
   "outputs": [
    {
     "name": "stdout",
     "output_type": "stream",
     "text": [
      "Dropping 3481 rows (13.92%) where mode='drop-non-german'\n"
     ]
    }
   ],
   "source": [
    "n_drop = (~keep_mask).sum() # Calculates how many rows are set to be dropped\n",
    "if n_drop > 0:\n",
    "    pct = n_drop / len(keep_mask) * 100\n",
    "    print(f\"Dropping {n_drop} rows ({pct:.2f}%) where mode='{mode}'\")"
   ]
  },
  {
   "cell_type": "code",
   "execution_count": 39,
   "id": "5fb8eee5",
   "metadata": {
    "execution": {
     "iopub.execute_input": "2025-07-30T13:08:07.226933Z",
     "iopub.status.busy": "2025-07-30T13:08:07.226509Z",
     "iopub.status.idle": "2025-07-30T13:08:07.243038Z",
     "shell.execute_reply": "2025-07-30T13:08:07.241930Z"
    },
    "papermill": {
     "duration": 0.059614,
     "end_time": "2025-07-30T13:08:07.245116",
     "exception": false,
     "start_time": "2025-07-30T13:08:07.185502",
     "status": "completed"
    },
    "tags": []
   },
   "outputs": [],
   "source": [
    "X_train = X_train[keep_mask]"
   ]
  },
  {
   "cell_type": "code",
   "execution_count": 40,
   "id": "b202bb3a",
   "metadata": {
    "execution": {
     "iopub.execute_input": "2025-07-30T13:08:07.295036Z",
     "iopub.status.busy": "2025-07-30T13:08:07.294617Z",
     "iopub.status.idle": "2025-07-30T13:08:07.301344Z",
     "shell.execute_reply": "2025-07-30T13:08:07.300147Z"
    },
    "papermill": {
     "duration": 0.034373,
     "end_time": "2025-07-30T13:08:07.304919",
     "exception": false,
     "start_time": "2025-07-30T13:08:07.270546",
     "status": "completed"
    },
    "tags": []
   },
   "outputs": [],
   "source": [
    "y_train = y_train[keep_mask]"
   ]
  },
  {
   "cell_type": "markdown",
   "id": "493e2ac3",
   "metadata": {
    "papermill": {
     "duration": 0.023251,
     "end_time": "2025-07-30T13:08:07.353251",
     "exception": false,
     "start_time": "2025-07-30T13:08:07.330000",
     "status": "completed"
    },
    "tags": []
   },
   "source": [
    "# Model Training"
   ]
  },
  {
   "cell_type": "code",
   "execution_count": 41,
   "id": "679e1268",
   "metadata": {
    "execution": {
     "iopub.execute_input": "2025-07-30T13:08:07.403103Z",
     "iopub.status.busy": "2025-07-30T13:08:07.402628Z",
     "iopub.status.idle": "2025-07-30T13:08:07.504237Z",
     "shell.execute_reply": "2025-07-30T13:08:07.503168Z"
    },
    "papermill": {
     "duration": 0.129506,
     "end_time": "2025-07-30T13:08:07.506502",
     "exception": false,
     "start_time": "2025-07-30T13:08:07.376996",
     "status": "completed"
    },
    "tags": []
   },
   "outputs": [],
   "source": [
    "from sklearn.linear_model import LogisticRegression\n",
    "from sklearn.ensemble import GradientBoostingClassifier, RandomForestClassifier\n",
    "\n",
    "if (universe[\"model\"] == \"logreg\"):\n",
    "    model = LogisticRegression() #penalty=\"none\") #, solver=\"newton-cg\", max_iter=1) # include random_state=19 ?\n",
    "elif (universe[\"model\"] == \"penalized_logreg\"):\n",
    "    model = LogisticRegression(penalty=\"l2\", C=1.0) #, solver=\"newton-cg\", max_iter=1)\n",
    "elif (universe[\"model\"] == \"rf\"):\n",
    "    model = RandomForestClassifier(n_estimators=100, n_jobs=-1)\n",
    "elif (universe[\"model\"] == \"gbm\"):\n",
    "    model = GradientBoostingClassifier()\n",
    "elif (universe[\"model\"] == \"elasticnet\"):\n",
    "    model = LogisticRegression(penalty = 'elasticnet', solver = 'saga', l1_ratio = 0.5, max_iter=5000) # which solver to use?\n",
    "else:\n",
    "    raise \"Unsupported universe.model\""
   ]
  },
  {
   "cell_type": "code",
   "execution_count": 42,
   "id": "0cc8f744",
   "metadata": {
    "execution": {
     "iopub.execute_input": "2025-07-30T13:08:07.557075Z",
     "iopub.status.busy": "2025-07-30T13:08:07.556704Z",
     "iopub.status.idle": "2025-07-30T13:08:07.563207Z",
     "shell.execute_reply": "2025-07-30T13:08:07.562271Z"
    },
    "papermill": {
     "duration": 0.034584,
     "end_time": "2025-07-30T13:08:07.566305",
     "exception": false,
     "start_time": "2025-07-30T13:08:07.531721",
     "status": "completed"
    },
    "tags": []
   },
   "outputs": [],
   "source": [
    "import numpy as np\n",
    "from sklearn.pipeline import Pipeline\n",
    "from sklearn.preprocessing import StandardScaler\n",
    "\n",
    "model = Pipeline([\n",
    "    #(\"continuous_processor\", continuous_processor),\n",
    "    #(\"categorical_preprocessor\", categorical_preprocessor),\n",
    "    (\"scale\", StandardScaler() if universe[\"scale\"] == \"scale\" else None), \n",
    "    (\"model\", model),\n",
    "])"
   ]
  },
  {
   "cell_type": "code",
   "execution_count": 43,
   "id": "9442c04d",
   "metadata": {
    "execution": {
     "iopub.execute_input": "2025-07-30T13:08:07.617606Z",
     "iopub.status.busy": "2025-07-30T13:08:07.617196Z",
     "iopub.status.idle": "2025-07-30T13:08:11.172240Z",
     "shell.execute_reply": "2025-07-30T13:08:11.171179Z"
    },
    "papermill": {
     "duration": 3.582129,
     "end_time": "2025-07-30T13:08:11.174051",
     "exception": false,
     "start_time": "2025-07-30T13:08:07.591922",
     "status": "completed"
    },
    "tags": []
   },
   "outputs": [
    {
     "data": {
      "text/html": [
       "<style>#sk-container-id-1 {color: black;background-color: white;}#sk-container-id-1 pre{padding: 0;}#sk-container-id-1 div.sk-toggleable {background-color: white;}#sk-container-id-1 label.sk-toggleable__label {cursor: pointer;display: block;width: 100%;margin-bottom: 0;padding: 0.3em;box-sizing: border-box;text-align: center;}#sk-container-id-1 label.sk-toggleable__label-arrow:before {content: \"▸\";float: left;margin-right: 0.25em;color: #696969;}#sk-container-id-1 label.sk-toggleable__label-arrow:hover:before {color: black;}#sk-container-id-1 div.sk-estimator:hover label.sk-toggleable__label-arrow:before {color: black;}#sk-container-id-1 div.sk-toggleable__content {max-height: 0;max-width: 0;overflow: hidden;text-align: left;background-color: #f0f8ff;}#sk-container-id-1 div.sk-toggleable__content pre {margin: 0.2em;color: black;border-radius: 0.25em;background-color: #f0f8ff;}#sk-container-id-1 input.sk-toggleable__control:checked~div.sk-toggleable__content {max-height: 200px;max-width: 100%;overflow: auto;}#sk-container-id-1 input.sk-toggleable__control:checked~label.sk-toggleable__label-arrow:before {content: \"▾\";}#sk-container-id-1 div.sk-estimator input.sk-toggleable__control:checked~label.sk-toggleable__label {background-color: #d4ebff;}#sk-container-id-1 div.sk-label input.sk-toggleable__control:checked~label.sk-toggleable__label {background-color: #d4ebff;}#sk-container-id-1 input.sk-hidden--visually {border: 0;clip: rect(1px 1px 1px 1px);clip: rect(1px, 1px, 1px, 1px);height: 1px;margin: -1px;overflow: hidden;padding: 0;position: absolute;width: 1px;}#sk-container-id-1 div.sk-estimator {font-family: monospace;background-color: #f0f8ff;border: 1px dotted black;border-radius: 0.25em;box-sizing: border-box;margin-bottom: 0.5em;}#sk-container-id-1 div.sk-estimator:hover {background-color: #d4ebff;}#sk-container-id-1 div.sk-parallel-item::after {content: \"\";width: 100%;border-bottom: 1px solid gray;flex-grow: 1;}#sk-container-id-1 div.sk-label:hover label.sk-toggleable__label {background-color: #d4ebff;}#sk-container-id-1 div.sk-serial::before {content: \"\";position: absolute;border-left: 1px solid gray;box-sizing: border-box;top: 0;bottom: 0;left: 50%;z-index: 0;}#sk-container-id-1 div.sk-serial {display: flex;flex-direction: column;align-items: center;background-color: white;padding-right: 0.2em;padding-left: 0.2em;position: relative;}#sk-container-id-1 div.sk-item {position: relative;z-index: 1;}#sk-container-id-1 div.sk-parallel {display: flex;align-items: stretch;justify-content: center;background-color: white;position: relative;}#sk-container-id-1 div.sk-item::before, #sk-container-id-1 div.sk-parallel-item::before {content: \"\";position: absolute;border-left: 1px solid gray;box-sizing: border-box;top: 0;bottom: 0;left: 50%;z-index: -1;}#sk-container-id-1 div.sk-parallel-item {display: flex;flex-direction: column;z-index: 1;position: relative;background-color: white;}#sk-container-id-1 div.sk-parallel-item:first-child::after {align-self: flex-end;width: 50%;}#sk-container-id-1 div.sk-parallel-item:last-child::after {align-self: flex-start;width: 50%;}#sk-container-id-1 div.sk-parallel-item:only-child::after {width: 0;}#sk-container-id-1 div.sk-dashed-wrapped {border: 1px dashed gray;margin: 0 0.4em 0.5em 0.4em;box-sizing: border-box;padding-bottom: 0.4em;background-color: white;}#sk-container-id-1 div.sk-label label {font-family: monospace;font-weight: bold;display: inline-block;line-height: 1.2em;}#sk-container-id-1 div.sk-label-container {text-align: center;}#sk-container-id-1 div.sk-container {/* jupyter's `normalize.less` sets `[hidden] { display: none; }` but bootstrap.min.css set `[hidden] { display: none !important; }` so we also need the `!important` here to be able to override the default hidden behavior on the sphinx rendered scikit-learn.org. See: https://github.com/scikit-learn/scikit-learn/issues/21755 */display: inline-block !important;position: relative;}#sk-container-id-1 div.sk-text-repr-fallback {display: none;}</style><div id=\"sk-container-id-1\" class=\"sk-top-container\"><div class=\"sk-text-repr-fallback\"><pre>Pipeline(steps=[(&#x27;scale&#x27;, StandardScaler()),\n",
       "                (&#x27;model&#x27;, RandomForestClassifier(n_jobs=-1))])</pre><b>In a Jupyter environment, please rerun this cell to show the HTML representation or trust the notebook. <br />On GitHub, the HTML representation is unable to render, please try loading this page with nbviewer.org.</b></div><div class=\"sk-container\" hidden><div class=\"sk-item sk-dashed-wrapped\"><div class=\"sk-label-container\"><div class=\"sk-label sk-toggleable\"><input class=\"sk-toggleable__control sk-hidden--visually\" id=\"sk-estimator-id-1\" type=\"checkbox\" ><label for=\"sk-estimator-id-1\" class=\"sk-toggleable__label sk-toggleable__label-arrow\">Pipeline</label><div class=\"sk-toggleable__content\"><pre>Pipeline(steps=[(&#x27;scale&#x27;, StandardScaler()),\n",
       "                (&#x27;model&#x27;, RandomForestClassifier(n_jobs=-1))])</pre></div></div></div><div class=\"sk-serial\"><div class=\"sk-item\"><div class=\"sk-estimator sk-toggleable\"><input class=\"sk-toggleable__control sk-hidden--visually\" id=\"sk-estimator-id-2\" type=\"checkbox\" ><label for=\"sk-estimator-id-2\" class=\"sk-toggleable__label sk-toggleable__label-arrow\">StandardScaler</label><div class=\"sk-toggleable__content\"><pre>StandardScaler()</pre></div></div></div><div class=\"sk-item\"><div class=\"sk-estimator sk-toggleable\"><input class=\"sk-toggleable__control sk-hidden--visually\" id=\"sk-estimator-id-3\" type=\"checkbox\" ><label for=\"sk-estimator-id-3\" class=\"sk-toggleable__label sk-toggleable__label-arrow\">RandomForestClassifier</label><div class=\"sk-toggleable__content\"><pre>RandomForestClassifier(n_jobs=-1)</pre></div></div></div></div></div></div></div>"
      ],
      "text/plain": [
       "Pipeline(steps=[('scale', StandardScaler()),\n",
       "                ('model', RandomForestClassifier(n_jobs=-1))])"
      ]
     },
     "execution_count": 43,
     "metadata": {},
     "output_type": "execute_result"
    }
   ],
   "source": [
    "model.fit(X_train, y_train.values.ravel())"
   ]
  },
  {
   "cell_type": "code",
   "execution_count": 44,
   "id": "af59f8c0",
   "metadata": {
    "execution": {
     "iopub.execute_input": "2025-07-30T13:08:11.229752Z",
     "iopub.status.busy": "2025-07-30T13:08:11.229036Z",
     "iopub.status.idle": "2025-07-30T13:08:11.235051Z",
     "shell.execute_reply": "2025-07-30T13:08:11.234061Z"
    },
    "papermill": {
     "duration": 0.034497,
     "end_time": "2025-07-30T13:08:11.236791",
     "exception": false,
     "start_time": "2025-07-30T13:08:11.202294",
     "status": "completed"
    },
    "tags": []
   },
   "outputs": [],
   "source": [
    "from fairness_multiverse.universe import predict_w_threshold"
   ]
  },
  {
   "cell_type": "code",
   "execution_count": 45,
   "id": "a7cf2e16",
   "metadata": {
    "execution": {
     "iopub.execute_input": "2025-07-30T13:08:11.287701Z",
     "iopub.status.busy": "2025-07-30T13:08:11.287277Z",
     "iopub.status.idle": "2025-07-30T13:08:12.778198Z",
     "shell.execute_reply": "2025-07-30T13:08:12.776310Z"
    },
    "papermill": {
     "duration": 1.518726,
     "end_time": "2025-07-30T13:08:12.780273",
     "exception": false,
     "start_time": "2025-07-30T13:08:11.261547",
     "status": "completed"
    },
    "tags": []
   },
   "outputs": [
    {
     "data": {
      "text/plain": [
       "0.8660461487013711"
      ]
     },
     "execution_count": 45,
     "metadata": {},
     "output_type": "execute_result"
    }
   ],
   "source": [
    "probs_test = model.predict_proba(X_test)\n",
    "\n",
    "'''\n",
    "Below code returns a boolean array (or binary 0/1 array depending on how it’s used) where each element \n",
    "is True if the probability of class 1 is greater than or equal to the threshold, and False otherwise.\n",
    "'''\n",
    "y_pred_default = predict_w_threshold(probs_test, 0.5)\n",
    "\n",
    "from sklearn.metrics import accuracy_score\n",
    "\n",
    "# Naive prediction\n",
    "accuracy_score(y_true = y_true, y_pred = y_pred_default)"
   ]
  },
  {
   "cell_type": "code",
   "execution_count": 46,
   "id": "081964c3",
   "metadata": {
    "execution": {
     "iopub.execute_input": "2025-07-30T13:08:12.866794Z",
     "iopub.status.busy": "2025-07-30T13:08:12.866320Z",
     "iopub.status.idle": "2025-07-30T13:08:14.188718Z",
     "shell.execute_reply": "2025-07-30T13:08:14.187898Z"
    },
    "papermill": {
     "duration": 1.380109,
     "end_time": "2025-07-30T13:08:14.189933",
     "exception": false,
     "start_time": "2025-07-30T13:08:12.809824",
     "status": "completed"
    },
    "tags": []
   },
   "outputs": [
    {
     "data": {
      "text/plain": [
       "array([0, 0, 0, ..., 0, 0, 0])"
      ]
     },
     "execution_count": 46,
     "metadata": {},
     "output_type": "execute_result"
    }
   ],
   "source": [
    "model.predict(X_test)"
   ]
  },
  {
   "cell_type": "markdown",
   "id": "56c9705b",
   "metadata": {
    "papermill": {
     "duration": 0.012842,
     "end_time": "2025-07-30T13:08:14.215980",
     "exception": false,
     "start_time": "2025-07-30T13:08:14.203138",
     "status": "completed"
    },
    "tags": []
   },
   "source": [
    "# Conformal Prediction"
   ]
  },
  {
   "cell_type": "code",
   "execution_count": 47,
   "id": "160ec6ff",
   "metadata": {
    "execution": {
     "iopub.execute_input": "2025-07-30T13:08:14.246258Z",
     "iopub.status.busy": "2025-07-30T13:08:14.245328Z",
     "iopub.status.idle": "2025-07-30T13:08:14.249705Z",
     "shell.execute_reply": "2025-07-30T13:08:14.249054Z"
    },
    "papermill": {
     "duration": 0.021506,
     "end_time": "2025-07-30T13:08:14.250959",
     "exception": false,
     "start_time": "2025-07-30T13:08:14.229453",
     "status": "completed"
    },
    "tags": []
   },
   "outputs": [],
   "source": [
    "# Miscoverage level for conformal prediction (10% allowed error rate => 90% target coverage)\n",
    "alpha = 0.1"
   ]
  },
  {
   "cell_type": "code",
   "execution_count": 48,
   "id": "eadf4555-3dd3-440e-8e35-f82a4ad9f855",
   "metadata": {
    "execution": {
     "iopub.execute_input": "2025-07-30T13:08:14.280677Z",
     "iopub.status.busy": "2025-07-30T13:08:14.279750Z",
     "iopub.status.idle": "2025-07-30T13:08:15.592375Z",
     "shell.execute_reply": "2025-07-30T13:08:15.591155Z"
    },
    "papermill": {
     "duration": 1.329276,
     "end_time": "2025-07-30T13:08:15.594581",
     "exception": false,
     "start_time": "2025-07-30T13:08:14.265305",
     "status": "completed"
    },
    "tags": []
   },
   "outputs": [],
   "source": [
    "probs_calib = model.predict_proba(X_calib)"
   ]
  },
  {
   "cell_type": "code",
   "execution_count": 49,
   "id": "2ed93547-6d5d-4983-9b36-1ecb300da49a",
   "metadata": {
    "execution": {
     "iopub.execute_input": "2025-07-30T13:08:15.666169Z",
     "iopub.status.busy": "2025-07-30T13:08:15.665579Z",
     "iopub.status.idle": "2025-07-30T13:08:15.671619Z",
     "shell.execute_reply": "2025-07-30T13:08:15.670681Z"
    },
    "papermill": {
     "duration": 0.044241,
     "end_time": "2025-07-30T13:08:15.674849",
     "exception": false,
     "start_time": "2025-07-30T13:08:15.630608",
     "status": "completed"
    },
    "tags": []
   },
   "outputs": [],
   "source": [
    "y_calib = y_calib.values.ravel().astype(int)"
   ]
  },
  {
   "cell_type": "code",
   "execution_count": 50,
   "id": "65d1320d-f588-4b38-9072-62af1ae97f7d",
   "metadata": {
    "execution": {
     "iopub.execute_input": "2025-07-30T13:08:15.743241Z",
     "iopub.status.busy": "2025-07-30T13:08:15.742124Z",
     "iopub.status.idle": "2025-07-30T13:08:15.751604Z",
     "shell.execute_reply": "2025-07-30T13:08:15.750551Z"
    },
    "papermill": {
     "duration": 0.045009,
     "end_time": "2025-07-30T13:08:15.753899",
     "exception": false,
     "start_time": "2025-07-30T13:08:15.708890",
     "status": "completed"
    },
    "tags": []
   },
   "outputs": [],
   "source": [
    "from fairness_multiverse.conformal import compute_nc_scores\n",
    "\n",
    "# Compute nonconformity scores on calibration set (1 - probability of true class)\n",
    "nc_scores = compute_nc_scores(probs_calib, y_calib)"
   ]
  },
  {
   "cell_type": "code",
   "execution_count": 51,
   "id": "df3b8ca3-53b7-43d5-9667-7c85da7aeda2",
   "metadata": {
    "execution": {
     "iopub.execute_input": "2025-07-30T13:08:15.823077Z",
     "iopub.status.busy": "2025-07-30T13:08:15.822541Z",
     "iopub.status.idle": "2025-07-30T13:08:15.841412Z",
     "shell.execute_reply": "2025-07-30T13:08:15.840190Z"
    },
    "papermill": {
     "duration": 0.055553,
     "end_time": "2025-07-30T13:08:15.843385",
     "exception": false,
     "start_time": "2025-07-30T13:08:15.787832",
     "status": "completed"
    },
    "tags": []
   },
   "outputs": [],
   "source": [
    "from fairness_multiverse.conformal import find_threshold\n",
    "\n",
    "# Find conformal threshold q_hat for the given alpha (split conformal method)\n",
    "q_hat = find_threshold(nc_scores, alpha)"
   ]
  },
  {
   "cell_type": "code",
   "execution_count": 52,
   "id": "4d29e6c1-0ef6-4aa4-b8fe-4fe79b0d033a",
   "metadata": {
    "execution": {
     "iopub.execute_input": "2025-07-30T13:08:15.903187Z",
     "iopub.status.busy": "2025-07-30T13:08:15.902331Z",
     "iopub.status.idle": "2025-07-30T13:08:15.911230Z",
     "shell.execute_reply": "2025-07-30T13:08:15.910089Z"
    },
    "papermill": {
     "duration": 0.04112,
     "end_time": "2025-07-30T13:08:15.913067",
     "exception": false,
     "start_time": "2025-07-30T13:08:15.871947",
     "status": "completed"
    },
    "tags": []
   },
   "outputs": [
    {
     "data": {
      "text/plain": [
       "0.65"
      ]
     },
     "execution_count": 52,
     "metadata": {},
     "output_type": "execute_result"
    }
   ],
   "source": [
    "q_hat"
   ]
  },
  {
   "cell_type": "code",
   "execution_count": 53,
   "id": "92460794-cdac-4be2-ba28-f28c0515a6fb",
   "metadata": {
    "execution": {
     "iopub.execute_input": "2025-07-30T13:08:15.971877Z",
     "iopub.status.busy": "2025-07-30T13:08:15.971190Z",
     "iopub.status.idle": "2025-07-30T13:08:18.425569Z",
     "shell.execute_reply": "2025-07-30T13:08:18.424121Z"
    },
    "papermill": {
     "duration": 2.485983,
     "end_time": "2025-07-30T13:08:18.427799",
     "exception": false,
     "start_time": "2025-07-30T13:08:15.941816",
     "status": "completed"
    },
    "tags": []
   },
   "outputs": [],
   "source": [
    "from fairness_multiverse.conformal import predict_conformal_sets\n",
    "\n",
    "# Generate prediction sets for each test example\n",
    "pred_sets = predict_conformal_sets(model, X_test, q_hat)"
   ]
  },
  {
   "cell_type": "code",
   "execution_count": 54,
   "id": "d90c9a65-e6db-4f5d-80cd-e68fb7e46829",
   "metadata": {
    "execution": {
     "iopub.execute_input": "2025-07-30T13:08:18.536485Z",
     "iopub.status.busy": "2025-07-30T13:08:18.535984Z",
     "iopub.status.idle": "2025-07-30T13:08:18.542393Z",
     "shell.execute_reply": "2025-07-30T13:08:18.541374Z"
    },
    "papermill": {
     "duration": 0.050674,
     "end_time": "2025-07-30T13:08:18.550810",
     "exception": false,
     "start_time": "2025-07-30T13:08:18.500136",
     "status": "completed"
    },
    "tags": []
   },
   "outputs": [],
   "source": [
    "y_true = y_true.squeeze()"
   ]
  },
  {
   "cell_type": "code",
   "execution_count": 55,
   "id": "3a58a54a-1e68-46b9-927a-df01f18aebc8",
   "metadata": {
    "execution": {
     "iopub.execute_input": "2025-07-30T13:08:18.633428Z",
     "iopub.status.busy": "2025-07-30T13:08:18.633000Z",
     "iopub.status.idle": "2025-07-30T13:08:19.938386Z",
     "shell.execute_reply": "2025-07-30T13:08:19.937307Z"
    },
    "papermill": {
     "duration": 1.335838,
     "end_time": "2025-07-30T13:08:19.940380",
     "exception": false,
     "start_time": "2025-07-30T13:08:18.604542",
     "status": "completed"
    },
    "tags": []
   },
   "outputs": [],
   "source": [
    "from fairness_multiverse.conformal import evaluate_sets\n",
    "\n",
    "# Evaluate coverage and average set size on test data\n",
    "metrics = evaluate_sets(pred_sets, y_true)"
   ]
  },
  {
   "cell_type": "markdown",
   "id": "2b569c12-9aaa-4c88-98c9-bbcd0cf3ebb8",
   "metadata": {
    "papermill": {
     "duration": 0.069033,
     "end_time": "2025-07-30T13:08:20.059567",
     "exception": false,
     "start_time": "2025-07-30T13:08:19.990534",
     "status": "completed"
    },
    "tags": []
   },
   "source": [
    "# CP Metrics"
   ]
  },
  {
   "cell_type": "code",
   "execution_count": 56,
   "id": "5ce0a5cb-201f-45a0-ade5-94c7f0bd6095",
   "metadata": {
    "execution": {
     "iopub.execute_input": "2025-07-30T13:08:20.171393Z",
     "iopub.status.busy": "2025-07-30T13:08:20.170973Z",
     "iopub.status.idle": "2025-07-30T13:08:20.178557Z",
     "shell.execute_reply": "2025-07-30T13:08:20.177555Z"
    },
    "papermill": {
     "duration": 0.074036,
     "end_time": "2025-07-30T13:08:20.180424",
     "exception": false,
     "start_time": "2025-07-30T13:08:20.106388",
     "status": "completed"
    },
    "tags": []
   },
   "outputs": [
    {
     "data": {
      "text/plain": [
       "{'coverage': 0.9129751421246238, 'avg_size': 1.136551109129417}"
      ]
     },
     "execution_count": 56,
     "metadata": {},
     "output_type": "execute_result"
    }
   ],
   "source": [
    "metrics"
   ]
  },
  {
   "cell_type": "code",
   "execution_count": 57,
   "id": "9b9a838d-31c9-430b-ae14-12baee460d17",
   "metadata": {
    "execution": {
     "iopub.execute_input": "2025-07-30T13:08:20.297418Z",
     "iopub.status.busy": "2025-07-30T13:08:20.297032Z",
     "iopub.status.idle": "2025-07-30T13:08:20.305011Z",
     "shell.execute_reply": "2025-07-30T13:08:20.303658Z"
    },
    "papermill": {
     "duration": 0.073243,
     "end_time": "2025-07-30T13:08:20.309787",
     "exception": false,
     "start_time": "2025-07-30T13:08:20.236544",
     "status": "completed"
    },
    "tags": []
   },
   "outputs": [],
   "source": [
    "example_universe = universe.copy()\n",
    "universe_training_size = example_universe.get(\"training_size\")\n",
    "universe_scale = example_universe.get(\"scale\")\n",
    "universe_model = example_universe.get(\"model\")\n",
    "universe_exclude_features = example_universe.get(\"exclude_features\")\n",
    "universe_exclude_subgroups = example_universe.get(\"exclude_subgroups\")"
   ]
  },
  {
   "cell_type": "code",
   "execution_count": 58,
   "id": "f4b6a8ac-9dc0-4245-8a91-5b3b5999c4f9",
   "metadata": {
    "execution": {
     "iopub.execute_input": "2025-07-30T13:08:20.426675Z",
     "iopub.status.busy": "2025-07-30T13:08:20.426254Z",
     "iopub.status.idle": "2025-07-30T13:08:20.433065Z",
     "shell.execute_reply": "2025-07-30T13:08:20.432104Z"
    },
    "papermill": {
     "duration": 0.066189,
     "end_time": "2025-07-30T13:08:20.434865",
     "exception": false,
     "start_time": "2025-07-30T13:08:20.368676",
     "status": "completed"
    },
    "tags": []
   },
   "outputs": [],
   "source": [
    "cp_metrics_dict = {\n",
    "    \"universe_id\": [universe_id],\n",
    "    \"universe_training_size\": [universe_training_size],\n",
    "    \"universe_scale\": [universe_scale],\n",
    "    \"universe_model\": [universe_model],\n",
    "    \"universe_exclude_features\": [universe_exclude_features],\n",
    "    \"universe_exclude_subgroups\": [universe_exclude_subgroups],\n",
    "    \"q_hat\": [q_hat],\n",
    "    \"coverage\": [metrics[\"coverage\"]],\n",
    "    \"avg_size\": [metrics[\"avg_size\"]],\n",
    "}"
   ]
  },
  {
   "cell_type": "code",
   "execution_count": 59,
   "id": "908acbb1-0371-4915-85ca-3fa520d2efe2",
   "metadata": {
    "execution": {
     "iopub.execute_input": "2025-07-30T13:08:20.549245Z",
     "iopub.status.busy": "2025-07-30T13:08:20.548818Z",
     "iopub.status.idle": "2025-07-30T13:08:20.556942Z",
     "shell.execute_reply": "2025-07-30T13:08:20.555934Z"
    },
    "papermill": {
     "duration": 0.074709,
     "end_time": "2025-07-30T13:08:20.571515",
     "exception": false,
     "start_time": "2025-07-30T13:08:20.496806",
     "status": "completed"
    },
    "tags": []
   },
   "outputs": [
    {
     "data": {
      "text/plain": [
       "{'universe_id': ['d9b1aab13a90fa48ecd4cbc5aa821279'],\n",
       " 'universe_training_size': ['25k'],\n",
       " 'universe_scale': ['scale'],\n",
       " 'universe_model': ['rf'],\n",
       " 'universe_exclude_features': ['nationality-sex'],\n",
       " 'universe_exclude_subgroups': ['drop-non-german'],\n",
       " 'q_hat': [0.65],\n",
       " 'coverage': [0.9129751421246238],\n",
       " 'avg_size': [1.136551109129417]}"
      ]
     },
     "execution_count": 59,
     "metadata": {},
     "output_type": "execute_result"
    }
   ],
   "source": [
    "cp_metrics_dict"
   ]
  },
  {
   "cell_type": "code",
   "execution_count": 60,
   "id": "33007efc-14e9-4ec6-97ac-56a455c82265",
   "metadata": {
    "execution": {
     "iopub.execute_input": "2025-07-30T13:08:20.666774Z",
     "iopub.status.busy": "2025-07-30T13:08:20.666361Z",
     "iopub.status.idle": "2025-07-30T13:08:20.673355Z",
     "shell.execute_reply": "2025-07-30T13:08:20.672370Z"
    },
    "papermill": {
     "duration": 0.058701,
     "end_time": "2025-07-30T13:08:20.675437",
     "exception": false,
     "start_time": "2025-07-30T13:08:20.616736",
     "status": "completed"
    },
    "tags": []
   },
   "outputs": [],
   "source": [
    "cp_metrics_df = pd.DataFrame(cp_metrics_dict)"
   ]
  },
  {
   "cell_type": "code",
   "execution_count": 61,
   "id": "db12611b-57b2-4910-b9d0-355adfd6e7bf",
   "metadata": {
    "execution": {
     "iopub.execute_input": "2025-07-30T13:08:20.802754Z",
     "iopub.status.busy": "2025-07-30T13:08:20.802306Z",
     "iopub.status.idle": "2025-07-30T13:08:20.836921Z",
     "shell.execute_reply": "2025-07-30T13:08:20.835877Z"
    },
    "papermill": {
     "duration": 0.098652,
     "end_time": "2025-07-30T13:08:20.838927",
     "exception": false,
     "start_time": "2025-07-30T13:08:20.740275",
     "status": "completed"
    },
    "tags": []
   },
   "outputs": [
    {
     "data": {
      "text/html": [
       "<div>\n",
       "<style scoped>\n",
       "    .dataframe tbody tr th:only-of-type {\n",
       "        vertical-align: middle;\n",
       "    }\n",
       "\n",
       "    .dataframe tbody tr th {\n",
       "        vertical-align: top;\n",
       "    }\n",
       "\n",
       "    .dataframe thead th {\n",
       "        text-align: right;\n",
       "    }\n",
       "</style>\n",
       "<table border=\"1\" class=\"dataframe\">\n",
       "  <thead>\n",
       "    <tr style=\"text-align: right;\">\n",
       "      <th></th>\n",
       "      <th>universe_id</th>\n",
       "      <th>universe_training_size</th>\n",
       "      <th>universe_scale</th>\n",
       "      <th>universe_model</th>\n",
       "      <th>universe_exclude_features</th>\n",
       "      <th>universe_exclude_subgroups</th>\n",
       "      <th>q_hat</th>\n",
       "      <th>coverage</th>\n",
       "      <th>avg_size</th>\n",
       "    </tr>\n",
       "  </thead>\n",
       "  <tbody>\n",
       "    <tr>\n",
       "      <th>0</th>\n",
       "      <td>d9b1aab13a90fa48ecd4cbc5aa821279</td>\n",
       "      <td>25k</td>\n",
       "      <td>scale</td>\n",
       "      <td>rf</td>\n",
       "      <td>nationality-sex</td>\n",
       "      <td>drop-non-german</td>\n",
       "      <td>0.65</td>\n",
       "      <td>0.912975</td>\n",
       "      <td>1.136551</td>\n",
       "    </tr>\n",
       "  </tbody>\n",
       "</table>\n",
       "</div>"
      ],
      "text/plain": [
       "                        universe_id universe_training_size universe_scale  \\\n",
       "0  d9b1aab13a90fa48ecd4cbc5aa821279                    25k          scale   \n",
       "\n",
       "  universe_model universe_exclude_features universe_exclude_subgroups  q_hat  \\\n",
       "0             rf           nationality-sex            drop-non-german   0.65   \n",
       "\n",
       "   coverage  avg_size  \n",
       "0  0.912975  1.136551  "
      ]
     },
     "execution_count": 61,
     "metadata": {},
     "output_type": "execute_result"
    }
   ],
   "source": [
    "cp_metrics_df"
   ]
  },
  {
   "cell_type": "code",
   "execution_count": 62,
   "id": "b7fbde55-a0a1-47e4-9af6-fe4a17fa8c61",
   "metadata": {
    "execution": {
     "iopub.execute_input": "2025-07-30T13:08:20.921386Z",
     "iopub.status.busy": "2025-07-30T13:08:20.920984Z",
     "iopub.status.idle": "2025-07-30T13:08:20.931463Z",
     "shell.execute_reply": "2025-07-30T13:08:20.930399Z"
    },
    "papermill": {
     "duration": 0.044815,
     "end_time": "2025-07-30T13:08:20.937782",
     "exception": false,
     "start_time": "2025-07-30T13:08:20.892967",
     "status": "completed"
    },
    "tags": []
   },
   "outputs": [],
   "source": [
    "# Conditional Coverage & looking at subgroups"
   ]
  },
  {
   "cell_type": "code",
   "execution_count": 63,
   "id": "027ae886-68dd-4141-96c7-805a5450e1ef",
   "metadata": {
    "execution": {
     "iopub.execute_input": "2025-07-30T13:08:20.996220Z",
     "iopub.status.busy": "2025-07-30T13:08:20.995729Z",
     "iopub.status.idle": "2025-07-30T13:08:21.421872Z",
     "shell.execute_reply": "2025-07-30T13:08:21.420424Z"
    },
    "papermill": {
     "duration": 0.456675,
     "end_time": "2025-07-30T13:08:21.424196",
     "exception": false,
     "start_time": "2025-07-30T13:08:20.967521",
     "status": "completed"
    },
    "tags": []
   },
   "outputs": [],
   "source": [
    "from fairness_multiverse.conformal import build_cp_groups\n",
    "\n",
    "cp_groups_df = build_cp_groups(pred_sets, y_true, X_test.index, org_test)\n",
    "#needs universe_id and setting"
   ]
  },
  {
   "cell_type": "code",
   "execution_count": 64,
   "id": "01d5802c-663a-4d1f-9d69-e036faaffbf7",
   "metadata": {
    "execution": {
     "iopub.execute_input": "2025-07-30T13:08:21.493664Z",
     "iopub.status.busy": "2025-07-30T13:08:21.493200Z",
     "iopub.status.idle": "2025-07-30T13:08:21.498240Z",
     "shell.execute_reply": "2025-07-30T13:08:21.497223Z"
    },
    "papermill": {
     "duration": 0.043693,
     "end_time": "2025-07-30T13:08:21.507262",
     "exception": false,
     "start_time": "2025-07-30T13:08:21.463569",
     "status": "completed"
    },
    "tags": []
   },
   "outputs": [],
   "source": [
    "#delete\n",
    "#cp_groups_df"
   ]
  },
  {
   "cell_type": "code",
   "execution_count": 65,
   "id": "fa424af1-d1eb-443d-b717-2d279ada8408",
   "metadata": {
    "execution": {
     "iopub.execute_input": "2025-07-30T13:08:21.593877Z",
     "iopub.status.busy": "2025-07-30T13:08:21.593380Z",
     "iopub.status.idle": "2025-07-30T13:08:21.598662Z",
     "shell.execute_reply": "2025-07-30T13:08:21.597707Z"
    },
    "papermill": {
     "duration": 0.036839,
     "end_time": "2025-07-30T13:08:21.600687",
     "exception": false,
     "start_time": "2025-07-30T13:08:21.563848",
     "status": "completed"
    },
    "tags": []
   },
   "outputs": [],
   "source": [
    "#delete\n",
    "#percentage = (cp_groups_df['nongerman_female'] == 1).mean() * 100\n",
    "#print(percentage)\n"
   ]
  },
  {
   "cell_type": "code",
   "execution_count": 66,
   "id": "6cbdab96-b2b2-45af-ad54-d0516db2e28d",
   "metadata": {
    "execution": {
     "iopub.execute_input": "2025-07-30T13:08:21.657340Z",
     "iopub.status.busy": "2025-07-30T13:08:21.656907Z",
     "iopub.status.idle": "2025-07-30T13:08:24.102986Z",
     "shell.execute_reply": "2025-07-30T13:08:24.101762Z"
    },
    "papermill": {
     "duration": 2.475984,
     "end_time": "2025-07-30T13:08:24.104917",
     "exception": false,
     "start_time": "2025-07-30T13:08:21.628933",
     "status": "completed"
    },
    "tags": []
   },
   "outputs": [],
   "source": [
    "# Define covered = 1 if true_label is in the predicted set\n",
    "cp_groups_df['covered'] = cp_groups_df.apply(\n",
    "    lambda r: int(r['true_label'] in r['pred_set']),\n",
    "    axis=1\n",
    ")"
   ]
  },
  {
   "cell_type": "code",
   "execution_count": 67,
   "id": "338ff529-1a6b-4b87-a931-8e4788d52aad",
   "metadata": {
    "execution": {
     "iopub.execute_input": "2025-07-30T13:08:24.179244Z",
     "iopub.status.busy": "2025-07-30T13:08:24.178794Z",
     "iopub.status.idle": "2025-07-30T13:08:24.184484Z",
     "shell.execute_reply": "2025-07-30T13:08:24.183294Z"
    },
    "papermill": {
     "duration": 0.035188,
     "end_time": "2025-07-30T13:08:24.186043",
     "exception": false,
     "start_time": "2025-07-30T13:08:24.150855",
     "status": "completed"
    },
    "tags": []
   },
   "outputs": [],
   "source": [
    "#cp_groups_df"
   ]
  },
  {
   "cell_type": "code",
   "execution_count": 68,
   "id": "90032e27-66df-4540-9169-4e89cfbaa758",
   "metadata": {
    "execution": {
     "iopub.execute_input": "2025-07-30T13:08:24.288054Z",
     "iopub.status.busy": "2025-07-30T13:08:24.287576Z",
     "iopub.status.idle": "2025-07-30T13:08:24.298452Z",
     "shell.execute_reply": "2025-07-30T13:08:24.297481Z"
    },
    "papermill": {
     "duration": 0.047794,
     "end_time": "2025-07-30T13:08:24.300164",
     "exception": false,
     "start_time": "2025-07-30T13:08:24.252370",
     "status": "completed"
    },
    "tags": []
   },
   "outputs": [],
   "source": [
    "subgroups = ['frau1','nongerman','nongerman_male','nongerman_female']\n",
    "\n",
    "# Conditional coverage for subgroup==1\n",
    "cond_coverage = {\n",
    "    g: cp_groups_df.loc[cp_groups_df[g]==1, 'covered'].mean()\n",
    "    for g in subgroups\n",
    "}"
   ]
  },
  {
   "cell_type": "code",
   "execution_count": 69,
   "id": "1e348fb1-b9c3-45bc-ba23-f016827a7e0d",
   "metadata": {
    "execution": {
     "iopub.execute_input": "2025-07-30T13:08:24.358022Z",
     "iopub.status.busy": "2025-07-30T13:08:24.357393Z",
     "iopub.status.idle": "2025-07-30T13:08:24.366687Z",
     "shell.execute_reply": "2025-07-30T13:08:24.365553Z"
    },
    "papermill": {
     "duration": 0.041542,
     "end_time": "2025-07-30T13:08:24.368713",
     "exception": false,
     "start_time": "2025-07-30T13:08:24.327171",
     "status": "completed"
    },
    "tags": []
   },
   "outputs": [
    {
     "data": {
      "text/plain": [
       "{'frau1': 0.912252325111201,\n",
       " 'nongerman': 0.9057429966878122,\n",
       " 'nongerman_male': 0.92227325947942,\n",
       " 'nongerman_female': 0.8783904619970194}"
      ]
     },
     "execution_count": 69,
     "metadata": {},
     "output_type": "execute_result"
    }
   ],
   "source": [
    "cond_coverage"
   ]
  },
  {
   "cell_type": "code",
   "execution_count": 70,
   "id": "f5093324-c3dd-4d63-bc4c-8d945e5c8bbb",
   "metadata": {
    "execution": {
     "iopub.execute_input": "2025-07-30T13:08:24.427072Z",
     "iopub.status.busy": "2025-07-30T13:08:24.426585Z",
     "iopub.status.idle": "2025-07-30T13:08:24.434546Z",
     "shell.execute_reply": "2025-07-30T13:08:24.433476Z"
    },
    "papermill": {
     "duration": 0.039754,
     "end_time": "2025-07-30T13:08:24.436073",
     "exception": false,
     "start_time": "2025-07-30T13:08:24.396319",
     "status": "completed"
    },
    "tags": []
   },
   "outputs": [],
   "source": [
    "for subgroup, cov in cond_coverage.items():\n",
    "    cp_metrics_df[f\"cov_{subgroup}\"] = cov"
   ]
  },
  {
   "cell_type": "code",
   "execution_count": 71,
   "id": "6e872e10-dbe5-49e8-b554-5030c98ff75d",
   "metadata": {
    "execution": {
     "iopub.execute_input": "2025-07-30T13:08:24.494373Z",
     "iopub.status.busy": "2025-07-30T13:08:24.493894Z",
     "iopub.status.idle": "2025-07-30T13:08:24.512503Z",
     "shell.execute_reply": "2025-07-30T13:08:24.511356Z"
    },
    "papermill": {
     "duration": 0.05207,
     "end_time": "2025-07-30T13:08:24.514503",
     "exception": false,
     "start_time": "2025-07-30T13:08:24.462433",
     "status": "completed"
    },
    "tags": []
   },
   "outputs": [
    {
     "data": {
      "text/html": [
       "<div>\n",
       "<style scoped>\n",
       "    .dataframe tbody tr th:only-of-type {\n",
       "        vertical-align: middle;\n",
       "    }\n",
       "\n",
       "    .dataframe tbody tr th {\n",
       "        vertical-align: top;\n",
       "    }\n",
       "\n",
       "    .dataframe thead th {\n",
       "        text-align: right;\n",
       "    }\n",
       "</style>\n",
       "<table border=\"1\" class=\"dataframe\">\n",
       "  <thead>\n",
       "    <tr style=\"text-align: right;\">\n",
       "      <th></th>\n",
       "      <th>universe_id</th>\n",
       "      <th>universe_training_size</th>\n",
       "      <th>universe_scale</th>\n",
       "      <th>universe_model</th>\n",
       "      <th>universe_exclude_features</th>\n",
       "      <th>universe_exclude_subgroups</th>\n",
       "      <th>q_hat</th>\n",
       "      <th>coverage</th>\n",
       "      <th>avg_size</th>\n",
       "      <th>cov_frau1</th>\n",
       "      <th>cov_nongerman</th>\n",
       "      <th>cov_nongerman_male</th>\n",
       "      <th>cov_nongerman_female</th>\n",
       "    </tr>\n",
       "  </thead>\n",
       "  <tbody>\n",
       "    <tr>\n",
       "      <th>0</th>\n",
       "      <td>d9b1aab13a90fa48ecd4cbc5aa821279</td>\n",
       "      <td>25k</td>\n",
       "      <td>scale</td>\n",
       "      <td>rf</td>\n",
       "      <td>nationality-sex</td>\n",
       "      <td>drop-non-german</td>\n",
       "      <td>0.65</td>\n",
       "      <td>0.912975</td>\n",
       "      <td>1.136551</td>\n",
       "      <td>0.912252</td>\n",
       "      <td>0.905743</td>\n",
       "      <td>0.922273</td>\n",
       "      <td>0.87839</td>\n",
       "    </tr>\n",
       "  </tbody>\n",
       "</table>\n",
       "</div>"
      ],
      "text/plain": [
       "                        universe_id universe_training_size universe_scale  \\\n",
       "0  d9b1aab13a90fa48ecd4cbc5aa821279                    25k          scale   \n",
       "\n",
       "  universe_model universe_exclude_features universe_exclude_subgroups  q_hat  \\\n",
       "0             rf           nationality-sex            drop-non-german   0.65   \n",
       "\n",
       "   coverage  avg_size  cov_frau1  cov_nongerman  cov_nongerman_male  \\\n",
       "0  0.912975  1.136551   0.912252       0.905743            0.922273   \n",
       "\n",
       "   cov_nongerman_female  \n",
       "0               0.87839  "
      ]
     },
     "execution_count": 71,
     "metadata": {},
     "output_type": "execute_result"
    }
   ],
   "source": [
    "cp_metrics_df"
   ]
  },
  {
   "cell_type": "markdown",
   "id": "33774451",
   "metadata": {
    "papermill": {
     "duration": 0.028896,
     "end_time": "2025-07-30T13:08:24.573034",
     "exception": false,
     "start_time": "2025-07-30T13:08:24.544138",
     "status": "completed"
    },
    "tags": []
   },
   "source": [
    "# (Fairness) Metrics"
   ]
  },
  {
   "cell_type": "code",
   "execution_count": 72,
   "id": "debc5d62",
   "metadata": {
    "execution": {
     "iopub.execute_input": "2025-07-30T13:08:24.632989Z",
     "iopub.status.busy": "2025-07-30T13:08:24.632574Z",
     "iopub.status.idle": "2025-07-30T13:08:24.657257Z",
     "shell.execute_reply": "2025-07-30T13:08:24.656044Z"
    },
    "papermill": {
     "duration": 0.057827,
     "end_time": "2025-07-30T13:08:24.659281",
     "exception": false,
     "start_time": "2025-07-30T13:08:24.601454",
     "status": "completed"
    },
    "tags": []
   },
   "outputs": [],
   "source": [
    "# do I need to include maxdeutsch1.missing?\n",
    "\n",
    "import numpy as np\n",
    "\n",
    "colname_to_bin = \"maxdeutsch1\"\n",
    "majority_value = org_train[colname_to_bin].mode()[0]\n",
    "\n",
    "org_test[\"majmin\"] = np.where(org_test[colname_to_bin] == majority_value, \"majority\", \"minority\")"
   ]
  },
  {
   "cell_type": "code",
   "execution_count": 73,
   "id": "06a50de5",
   "metadata": {
    "execution": {
     "iopub.execute_input": "2025-07-30T13:08:24.719391Z",
     "iopub.status.busy": "2025-07-30T13:08:24.719003Z",
     "iopub.status.idle": "2025-07-30T13:08:28.217724Z",
     "shell.execute_reply": "2025-07-30T13:08:28.216610Z"
    },
    "papermill": {
     "duration": 3.531293,
     "end_time": "2025-07-30T13:08:28.219613",
     "exception": false,
     "start_time": "2025-07-30T13:08:24.688320",
     "status": "completed"
    },
    "tags": []
   },
   "outputs": [],
   "source": [
    "example_universe = universe.copy()\n",
    "example_universe[\"cutoff\"] = example_universe[\"cutoff\"][0]\n",
    "example_universe[\"eval_fairness_grouping\"] = example_universe[\"eval_fairness_grouping\"][0]\n",
    "fairness_dict, metric_frame = universe_analysis.compute_metrics(\n",
    "    example_universe,\n",
    "    y_pred_prob=probs_test,\n",
    "    y_test=y_true,\n",
    "    org_test=org_test,\n",
    ")"
   ]
  },
  {
   "cell_type": "markdown",
   "id": "f95d4e02",
   "metadata": {
    "papermill": {
     "duration": 0.046002,
     "end_time": "2025-07-30T13:08:28.330937",
     "exception": false,
     "start_time": "2025-07-30T13:08:28.284935",
     "status": "completed"
    },
    "tags": []
   },
   "source": [
    "# Overall"
   ]
  },
  {
   "cell_type": "markdown",
   "id": "bdee4871",
   "metadata": {
    "papermill": {
     "duration": 0.034918,
     "end_time": "2025-07-30T13:08:28.416702",
     "exception": false,
     "start_time": "2025-07-30T13:08:28.381784",
     "status": "completed"
    },
    "tags": []
   },
   "source": [
    "Fairness\n",
    "Main fairness target: Equalized Odds. Seems to be a better fit than equal opportunity, since we're not only interested in Y = 1. Seems to be a better fit than demographic parity, since we also care about accuracy, not just equal distribution of preds.\n",
    "\n",
    "Pick column for computation of fairness metrics\n",
    "\n",
    "Performance\n",
    "Overall performance measures, most interesting in relation to the measures split by group below"
   ]
  },
  {
   "cell_type": "code",
   "execution_count": 74,
   "id": "c4e067c6",
   "metadata": {
    "execution": {
     "iopub.execute_input": "2025-07-30T13:08:28.534282Z",
     "iopub.status.busy": "2025-07-30T13:08:28.533888Z",
     "iopub.status.idle": "2025-07-30T13:08:28.545378Z",
     "shell.execute_reply": "2025-07-30T13:08:28.544385Z"
    },
    "papermill": {
     "duration": 0.074102,
     "end_time": "2025-07-30T13:08:28.547415",
     "exception": false,
     "start_time": "2025-07-30T13:08:28.473313",
     "status": "completed"
    },
    "tags": []
   },
   "outputs": [
    {
     "data": {
      "text/plain": [
       "accuracy                   0.196567\n",
       "balanced accuracy          0.530868\n",
       "f1                         0.238451\n",
       "precision                  0.135729\n",
       "false positive rate        0.918800\n",
       "false negative rate        0.019465\n",
       "selection rate             0.926719\n",
       "count                  89710.000000\n",
       "dtype: float64"
      ]
     },
     "execution_count": 74,
     "metadata": {},
     "output_type": "execute_result"
    }
   ],
   "source": [
    "metric_frame.overall"
   ]
  },
  {
   "cell_type": "markdown",
   "id": "e968fe9d",
   "metadata": {
    "papermill": {
     "duration": 0.028865,
     "end_time": "2025-07-30T13:08:28.620943",
     "exception": false,
     "start_time": "2025-07-30T13:08:28.592078",
     "status": "completed"
    },
    "tags": []
   },
   "source": [
    "By Group"
   ]
  },
  {
   "cell_type": "code",
   "execution_count": 75,
   "id": "ec325bce",
   "metadata": {
    "execution": {
     "iopub.execute_input": "2025-07-30T13:08:28.678182Z",
     "iopub.status.busy": "2025-07-30T13:08:28.677751Z",
     "iopub.status.idle": "2025-07-30T13:08:28.695801Z",
     "shell.execute_reply": "2025-07-30T13:08:28.694735Z"
    },
    "papermill": {
     "duration": 0.048803,
     "end_time": "2025-07-30T13:08:28.697595",
     "exception": false,
     "start_time": "2025-07-30T13:08:28.648792",
     "status": "completed"
    },
    "tags": []
   },
   "outputs": [
    {
     "data": {
      "text/html": [
       "<div>\n",
       "<style scoped>\n",
       "    .dataframe tbody tr th:only-of-type {\n",
       "        vertical-align: middle;\n",
       "    }\n",
       "\n",
       "    .dataframe tbody tr th {\n",
       "        vertical-align: top;\n",
       "    }\n",
       "\n",
       "    .dataframe thead th {\n",
       "        text-align: right;\n",
       "    }\n",
       "</style>\n",
       "<table border=\"1\" class=\"dataframe\">\n",
       "  <thead>\n",
       "    <tr style=\"text-align: right;\">\n",
       "      <th></th>\n",
       "      <th>accuracy</th>\n",
       "      <th>balanced accuracy</th>\n",
       "      <th>f1</th>\n",
       "      <th>precision</th>\n",
       "      <th>false positive rate</th>\n",
       "      <th>false negative rate</th>\n",
       "      <th>selection rate</th>\n",
       "      <th>count</th>\n",
       "    </tr>\n",
       "    <tr>\n",
       "      <th>majmin</th>\n",
       "      <th></th>\n",
       "      <th></th>\n",
       "      <th></th>\n",
       "      <th></th>\n",
       "      <th></th>\n",
       "      <th></th>\n",
       "      <th></th>\n",
       "      <th></th>\n",
       "    </tr>\n",
       "  </thead>\n",
       "  <tbody>\n",
       "    <tr>\n",
       "      <th>majority</th>\n",
       "      <td>0.191832</td>\n",
       "      <td>0.530217</td>\n",
       "      <td>0.244591</td>\n",
       "      <td>0.139529</td>\n",
       "      <td>0.929718</td>\n",
       "      <td>0.009847</td>\n",
       "      <td>0.937704</td>\n",
       "      <td>69170.0</td>\n",
       "    </tr>\n",
       "    <tr>\n",
       "      <th>minority</th>\n",
       "      <td>0.212512</td>\n",
       "      <td>0.530340</td>\n",
       "      <td>0.216441</td>\n",
       "      <td>0.122244</td>\n",
       "      <td>0.882732</td>\n",
       "      <td>0.056588</td>\n",
       "      <td>0.889727</td>\n",
       "      <td>20540.0</td>\n",
       "    </tr>\n",
       "  </tbody>\n",
       "</table>\n",
       "</div>"
      ],
      "text/plain": [
       "          accuracy  balanced accuracy        f1  precision  \\\n",
       "majmin                                                       \n",
       "majority  0.191832           0.530217  0.244591   0.139529   \n",
       "minority  0.212512           0.530340  0.216441   0.122244   \n",
       "\n",
       "          false positive rate  false negative rate  selection rate    count  \n",
       "majmin                                                                       \n",
       "majority             0.929718             0.009847        0.937704  69170.0  \n",
       "minority             0.882732             0.056588        0.889727  20540.0  "
      ]
     },
     "execution_count": 75,
     "metadata": {},
     "output_type": "execute_result"
    }
   ],
   "source": [
    "metric_frame.by_group"
   ]
  },
  {
   "cell_type": "code",
   "execution_count": 76,
   "id": "a9ddbe63",
   "metadata": {
    "execution": {
     "iopub.execute_input": "2025-07-30T13:08:28.755984Z",
     "iopub.status.busy": "2025-07-30T13:08:28.755568Z",
     "iopub.status.idle": "2025-07-30T13:08:31.131551Z",
     "shell.execute_reply": "2025-07-30T13:08:31.130521Z"
    },
    "papermill": {
     "duration": 2.406998,
     "end_time": "2025-07-30T13:08:31.133275",
     "exception": false,
     "start_time": "2025-07-30T13:08:28.726277",
     "status": "completed"
    },
    "tags": []
   },
   "outputs": [
    {
     "data": {
      "text/plain": [
       "array([[<Axes: title={'center': 'accuracy'}, xlabel='majmin'>,\n",
       "        <Axes: title={'center': 'balanced accuracy'}, xlabel='majmin'>,\n",
       "        <Axes: title={'center': 'f1'}, xlabel='majmin'>],\n",
       "       [<Axes: title={'center': 'precision'}, xlabel='majmin'>,\n",
       "        <Axes: title={'center': 'false positive rate'}, xlabel='majmin'>,\n",
       "        <Axes: title={'center': 'false negative rate'}, xlabel='majmin'>],\n",
       "       [<Axes: title={'center': 'selection rate'}, xlabel='majmin'>,\n",
       "        <Axes: title={'center': 'count'}, xlabel='majmin'>,\n",
       "        <Axes: xlabel='majmin'>]], dtype=object)"
      ]
     },
     "execution_count": 76,
     "metadata": {},
     "output_type": "execute_result"
    },
    {
     "data": {
      "image/png": "[encoded data removed]",
      "text/plain": [
       "<Figure size 1200x800 with 9 Axes>"
      ]
     },
     "metadata": {},
     "output_type": "display_data"
    }
   ],
   "source": [
    "# In a graphic\n",
    "metric_frame.by_group.plot.bar(\n",
    "    subplots=True,\n",
    "    layout=[3, 3],\n",
    "    legend=False,\n",
    "    figsize=[12, 8],\n",
    "    title=\"Show all metrics\",\n",
    ")"
   ]
  },
  {
   "cell_type": "markdown",
   "id": "f57a0bac",
   "metadata": {
    "papermill": {
     "duration": 0.030809,
     "end_time": "2025-07-30T13:08:31.195264",
     "exception": false,
     "start_time": "2025-07-30T13:08:31.164455",
     "status": "completed"
    },
    "tags": []
   },
   "source": [
    "# Final Output"
   ]
  },
  {
   "cell_type": "code",
   "execution_count": 77,
   "id": "96d280a3",
   "metadata": {
    "execution": {
     "iopub.execute_input": "2025-07-30T13:08:31.257361Z",
     "iopub.status.busy": "2025-07-30T13:08:31.256703Z",
     "iopub.status.idle": "2025-07-30T13:08:31.264939Z",
     "shell.execute_reply": "2025-07-30T13:08:31.263897Z"
    },
    "papermill": {
     "duration": 0.041313,
     "end_time": "2025-07-30T13:08:31.266522",
     "exception": false,
     "start_time": "2025-07-30T13:08:31.225209",
     "status": "completed"
    },
    "tags": []
   },
   "outputs": [
    {
     "data": {
      "text/plain": [
       "4"
      ]
     },
     "execution_count": 77,
     "metadata": {},
     "output_type": "execute_result"
    }
   ],
   "source": [
    "sub_universes = universe_analysis.generate_sub_universes()\n",
    "len(sub_universes)"
   ]
  },
  {
   "cell_type": "code",
   "execution_count": 78,
   "id": "92adf7ba",
   "metadata": {
    "execution": {
     "iopub.execute_input": "2025-07-30T13:08:31.329318Z",
     "iopub.status.busy": "2025-07-30T13:08:31.328665Z",
     "iopub.status.idle": "2025-07-30T13:08:31.334740Z",
     "shell.execute_reply": "2025-07-30T13:08:31.333839Z"
    },
    "papermill": {
     "duration": 0.039204,
     "end_time": "2025-07-30T13:08:31.336577",
     "exception": false,
     "start_time": "2025-07-30T13:08:31.297373",
     "status": "completed"
    },
    "tags": []
   },
   "outputs": [],
   "source": [
    "def filter_sub_universe_data(sub_universe, org_test):\n",
    "    # Keep all rows — no filtering\n",
    "    keep_rows_mask = np.ones(org_test.shape[0], dtype=bool)\n",
    "\n",
    "    print(f\"[INFO] Keeping all rows: {keep_rows_mask.sum()} rows retained.\")\n",
    "    return keep_rows_mask"
   ]
  },
  {
   "cell_type": "code",
   "execution_count": 79,
   "id": "4a759155",
   "metadata": {
    "execution": {
     "iopub.execute_input": "2025-07-30T13:08:31.398985Z",
     "iopub.status.busy": "2025-07-30T13:08:31.398544Z",
     "iopub.status.idle": "2025-07-30T13:08:41.448638Z",
     "shell.execute_reply": "2025-07-30T13:08:41.447573Z"
    },
    "papermill": {
     "duration": 10.083921,
     "end_time": "2025-07-30T13:08:41.450311",
     "exception": false,
     "start_time": "2025-07-30T13:08:31.366390",
     "status": "completed"
    },
    "tags": []
   },
   "outputs": [
    {
     "name": "stdout",
     "output_type": "stream",
     "text": [
      "Stopping execution_time clock.\n",
      "[INFO] Keeping all rows: 89710 rows retained.\n"
     ]
    },
    {
     "name": "stdout",
     "output_type": "stream",
     "text": [
      "[INFO] Keeping all rows: 89710 rows retained.\n"
     ]
    },
    {
     "name": "stdout",
     "output_type": "stream",
     "text": [
      "[INFO] Keeping all rows: 89710 rows retained.\n"
     ]
    },
    {
     "name": "stdout",
     "output_type": "stream",
     "text": [
      "[INFO] Keeping all rows: 89710 rows retained.\n"
     ]
    },
    {
     "data": {
      "text/html": [
       "<div>\n",
       "<style scoped>\n",
       "    .dataframe tbody tr th:only-of-type {\n",
       "        vertical-align: middle;\n",
       "    }\n",
       "\n",
       "    .dataframe tbody tr th {\n",
       "        vertical-align: top;\n",
       "    }\n",
       "\n",
       "    .dataframe thead th {\n",
       "        text-align: right;\n",
       "    }\n",
       "</style>\n",
       "<table border=\"1\" class=\"dataframe\">\n",
       "  <thead>\n",
       "    <tr style=\"text-align: right;\">\n",
       "      <th></th>\n",
       "      <th>run_no</th>\n",
       "      <th>universe_id</th>\n",
       "      <th>universe_settings</th>\n",
       "      <th>execution_time</th>\n",
       "      <th>test_size_n</th>\n",
       "      <th>test_size_frac</th>\n",
       "      <th>fair_main_equalized_odds_difference</th>\n",
       "      <th>fair_main_equalized_odds_ratio</th>\n",
       "      <th>fair_main_demographic_parity_difference</th>\n",
       "      <th>fair_main_demographic_parity_ratio</th>\n",
       "      <th>...</th>\n",
       "      <th>perf_grp_precision_0</th>\n",
       "      <th>perf_grp_precision_1</th>\n",
       "      <th>perf_grp_false positive rate_0</th>\n",
       "      <th>perf_grp_false positive rate_1</th>\n",
       "      <th>perf_grp_false negative rate_0</th>\n",
       "      <th>perf_grp_false negative rate_1</th>\n",
       "      <th>perf_grp_selection rate_0</th>\n",
       "      <th>perf_grp_selection rate_1</th>\n",
       "      <th>perf_grp_count_0</th>\n",
       "      <th>perf_grp_count_1</th>\n",
       "    </tr>\n",
       "  </thead>\n",
       "  <tbody>\n",
       "    <tr>\n",
       "      <th>0</th>\n",
       "      <td>12</td>\n",
       "      <td>d9b1aab13a90fa48ecd4cbc5aa821279</td>\n",
       "      <td>{\"cutoff\": \"quantile_0.1\", \"eval_fairness_grou...</td>\n",
       "      <td>40.677948</td>\n",
       "      <td>89710</td>\n",
       "      <td>1.0</td>\n",
       "      <td>0.046987</td>\n",
       "      <td>0.949461</td>\n",
       "      <td>0.047977</td>\n",
       "      <td>0.948836</td>\n",
       "      <td>...</td>\n",
       "      <td>NaN</td>\n",
       "      <td>NaN</td>\n",
       "      <td>NaN</td>\n",
       "      <td>NaN</td>\n",
       "      <td>NaN</td>\n",
       "      <td>NaN</td>\n",
       "      <td>NaN</td>\n",
       "      <td>NaN</td>\n",
       "      <td>NaN</td>\n",
       "      <td>NaN</td>\n",
       "    </tr>\n",
       "    <tr>\n",
       "      <th>0</th>\n",
       "      <td>12</td>\n",
       "      <td>d9b1aab13a90fa48ecd4cbc5aa821279</td>\n",
       "      <td>{\"cutoff\": \"quantile_0.1\", \"eval_fairness_grou...</td>\n",
       "      <td>40.677948</td>\n",
       "      <td>89710</td>\n",
       "      <td>1.0</td>\n",
       "      <td>0.046987</td>\n",
       "      <td>0.949461</td>\n",
       "      <td>0.047977</td>\n",
       "      <td>0.948836</td>\n",
       "      <td>...</td>\n",
       "      <td>0.122244</td>\n",
       "      <td>0.139529</td>\n",
       "      <td>0.882732</td>\n",
       "      <td>0.929718</td>\n",
       "      <td>0.056588</td>\n",
       "      <td>0.009847</td>\n",
       "      <td>0.889727</td>\n",
       "      <td>0.937704</td>\n",
       "      <td>20540.0</td>\n",
       "      <td>69170.0</td>\n",
       "    </tr>\n",
       "    <tr>\n",
       "      <th>0</th>\n",
       "      <td>12</td>\n",
       "      <td>d9b1aab13a90fa48ecd4cbc5aa821279</td>\n",
       "      <td>{\"cutoff\": \"quantile_0.25\", \"eval_fairness_gro...</td>\n",
       "      <td>40.677948</td>\n",
       "      <td>89710</td>\n",
       "      <td>1.0</td>\n",
       "      <td>0.094170</td>\n",
       "      <td>0.901678</td>\n",
       "      <td>0.056491</td>\n",
       "      <td>0.928186</td>\n",
       "      <td>...</td>\n",
       "      <td>NaN</td>\n",
       "      <td>NaN</td>\n",
       "      <td>NaN</td>\n",
       "      <td>NaN</td>\n",
       "      <td>NaN</td>\n",
       "      <td>NaN</td>\n",
       "      <td>NaN</td>\n",
       "      <td>NaN</td>\n",
       "      <td>NaN</td>\n",
       "      <td>NaN</td>\n",
       "    </tr>\n",
       "    <tr>\n",
       "      <th>0</th>\n",
       "      <td>12</td>\n",
       "      <td>d9b1aab13a90fa48ecd4cbc5aa821279</td>\n",
       "      <td>{\"cutoff\": \"quantile_0.25\", \"eval_fairness_gro...</td>\n",
       "      <td>40.677948</td>\n",
       "      <td>89710</td>\n",
       "      <td>1.0</td>\n",
       "      <td>0.094170</td>\n",
       "      <td>0.901678</td>\n",
       "      <td>0.056491</td>\n",
       "      <td>0.928186</td>\n",
       "      <td>...</td>\n",
       "      <td>0.136361</td>\n",
       "      <td>0.160887</td>\n",
       "      <td>0.712745</td>\n",
       "      <td>0.760570</td>\n",
       "      <td>0.136402</td>\n",
       "      <td>0.042232</td>\n",
       "      <td>0.730136</td>\n",
       "      <td>0.786627</td>\n",
       "      <td>20540.0</td>\n",
       "      <td>69170.0</td>\n",
       "    </tr>\n",
       "  </tbody>\n",
       "</table>\n",
       "<p>4 rows × 50 columns</p>\n",
       "</div>"
      ],
      "text/plain": [
       "  run_no                       universe_id  \\\n",
       "0     12  d9b1aab13a90fa48ecd4cbc5aa821279   \n",
       "0     12  d9b1aab13a90fa48ecd4cbc5aa821279   \n",
       "0     12  d9b1aab13a90fa48ecd4cbc5aa821279   \n",
       "0     12  d9b1aab13a90fa48ecd4cbc5aa821279   \n",
       "\n",
       "                                   universe_settings  execution_time  \\\n",
       "0  {\"cutoff\": \"quantile_0.1\", \"eval_fairness_grou...       40.677948   \n",
       "0  {\"cutoff\": \"quantile_0.1\", \"eval_fairness_grou...       40.677948   \n",
       "0  {\"cutoff\": \"quantile_0.25\", \"eval_fairness_gro...       40.677948   \n",
       "0  {\"cutoff\": \"quantile_0.25\", \"eval_fairness_gro...       40.677948   \n",
       "\n",
       "   test_size_n  test_size_frac  fair_main_equalized_odds_difference  \\\n",
       "0        89710             1.0                             0.046987   \n",
       "0        89710             1.0                             0.046987   \n",
       "0        89710             1.0                             0.094170   \n",
       "0        89710             1.0                             0.094170   \n",
       "\n",
       "   fair_main_equalized_odds_ratio  fair_main_demographic_parity_difference  \\\n",
       "0                        0.949461                                 0.047977   \n",
       "0                        0.949461                                 0.047977   \n",
       "0                        0.901678                                 0.056491   \n",
       "0                        0.901678                                 0.056491   \n",
       "\n",
       "   fair_main_demographic_parity_ratio  ...  perf_grp_precision_0  \\\n",
       "0                            0.948836  ...                   NaN   \n",
       "0                            0.948836  ...              0.122244   \n",
       "0                            0.928186  ...                   NaN   \n",
       "0                            0.928186  ...              0.136361   \n",
       "\n",
       "   perf_grp_precision_1  perf_grp_false positive rate_0  \\\n",
       "0                   NaN                             NaN   \n",
       "0              0.139529                        0.882732   \n",
       "0                   NaN                             NaN   \n",
       "0              0.160887                        0.712745   \n",
       "\n",
       "   perf_grp_false positive rate_1  perf_grp_false negative rate_0  \\\n",
       "0                             NaN                             NaN   \n",
       "0                        0.929718                        0.056588   \n",
       "0                             NaN                             NaN   \n",
       "0                        0.760570                        0.136402   \n",
       "\n",
       "   perf_grp_false negative rate_1  perf_grp_selection rate_0  \\\n",
       "0                             NaN                        NaN   \n",
       "0                        0.009847                   0.889727   \n",
       "0                             NaN                        NaN   \n",
       "0                        0.042232                   0.730136   \n",
       "\n",
       "   perf_grp_selection rate_1  perf_grp_count_0  perf_grp_count_1  \n",
       "0                        NaN               NaN               NaN  \n",
       "0                   0.937704           20540.0           69170.0  \n",
       "0                        NaN               NaN               NaN  \n",
       "0                   0.786627           20540.0           69170.0  \n",
       "\n",
       "[4 rows x 50 columns]"
      ]
     },
     "execution_count": 79,
     "metadata": {},
     "output_type": "execute_result"
    }
   ],
   "source": [
    "final_output = universe_analysis.generate_final_output(\n",
    "    y_pred_prob=probs_test,\n",
    "    y_test=y_true,\n",
    "    org_test=org_test,\n",
    "    filter_data=filter_sub_universe_data,\n",
    "    cp_metrics_df=cp_metrics_df,\n",
    "    save=True,\n",
    ")\n",
    "final_output"
   ]
  },
  {
   "cell_type": "code",
   "execution_count": null,
   "id": "721ff514-cb11-46f8-b6fc-50392f74b5cb",
   "metadata": {
    "papermill": {
     "duration": 0.031199,
     "end_time": "2025-07-30T13:08:41.515548",
     "exception": false,
     "start_time": "2025-07-30T13:08:41.484349",
     "status": "completed"
    },
    "tags": []
   },
   "outputs": [],
   "source": []
  }
 ],
 "metadata": {
  "celltoolbar": "Tags",
  "kernelspec": {
   "display_name": "Python (CMA Fairness)",
   "language": "python",
   "name": "cma_fair_env"
  },
  "language_info": {
   "codemirror_mode": {
    "name": "ipython",
    "version": 3
   },
   "file_extension": ".py",
   "mimetype": "text/x-python",
   "name": "python",
   "nbconvert_exporter": "python",
   "pygments_lexer": "ipython3",
   "version": "3.10.12"
  },
  "papermill": {
   "default_parameters": {},
   "duration": 55.698619,
   "end_time": "2025-07-30T13:08:42.365956",
   "environment_variables": {},
   "exception": null,
   "input_path": "universe_analysis.ipynb",
   "output_path": "output/runs/12/notebooks/m_12-d9b1aab13a90fa48ecd4cbc5aa821279.ipynb",
   "parameters": {
    "output_dir": "output",
    "run_no": "12",
    "seed": "2023",
    "universe": "{\"cutoff\": [\"quantile_0.1\", \"quantile_0.25\"], \"eval_fairness_grouping\": [\"majority-minority\", \"nationality-all\"], \"exclude_features\": \"nationality-sex\", \"exclude_subgroups\": \"drop-non-german\", \"model\": \"rf\", \"scale\": \"scale\", \"training_size\": \"25k\", \"training_year\": \"2012_14\"}",
    "universe_id": "d9b1aab13a90fa48ecd4cbc5aa821279"
   },
   "start_time": "2025-07-30T13:07:46.667337",
   "version": "2.6.0"
  }
 },
 "nbformat": 4,
 "nbformat_minor": 5
}