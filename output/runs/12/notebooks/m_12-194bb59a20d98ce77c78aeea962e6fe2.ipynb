{
 "cells": [
  {
   "cell_type": "code",
   "execution_count": 1,
   "id": "f159f837-637b-42ba-96b5-ec9a68c44524",
   "metadata": {
    "execution": {
     "iopub.execute_input": "2025-07-30T14:05:53.637392Z",
     "iopub.status.busy": "2025-07-30T14:05:53.636584Z",
     "iopub.status.idle": "2025-07-30T14:05:53.648702Z",
     "shell.execute_reply": "2025-07-30T14:05:53.647745Z"
    },
    "papermill": {
     "duration": 0.033326,
     "end_time": "2025-07-30T14:05:53.650134",
     "exception": false,
     "start_time": "2025-07-30T14:05:53.616808",
     "status": "completed"
    },
    "tags": []
   },
   "outputs": [
    {
     "name": "stdout",
     "output_type": "stream",
     "text": [
      "/dss/dsshome1/0C/ra93lal2/cma/CMA_Fairness_v2\n"
     ]
    },
    {
     "name": "stderr",
     "output_type": "stream",
     "text": [
      "/dss/dsshome1/0C/ra93lal2/.local/share/virtualenvs/CMA_Fairness_v2-3j10GkSs/lib/python3.10/site-packages/IPython/core/magics/osm.py:393: UserWarning: This is now an optional IPython functionality, using bookmarks requires you to install the `pickleshare` library.\n",
      "  bkms = self.shell.db.get('bookmarks', {})\n",
      "/dss/dsshome1/0C/ra93lal2/.local/share/virtualenvs/CMA_Fairness_v2-3j10GkSs/lib/python3.10/site-packages/IPython/core/magics/osm.py:417: UserWarning: This is now an optional IPython functionality, setting dhist requires you to install the `pickleshare` library.\n",
      "  self.shell.db['dhist'] = compress_dhist(dhist)[-100:]\n"
     ]
    }
   ],
   "source": [
    "%cd ~/cma/CMA_Fairness_v2"
   ]
  },
  {
   "cell_type": "markdown",
   "id": "de2603b9",
   "metadata": {
    "papermill": {
     "duration": 0.017808,
     "end_time": "2025-07-30T14:05:53.686217",
     "exception": false,
     "start_time": "2025-07-30T14:05:53.668409",
     "status": "completed"
    },
    "tags": []
   },
   "source": [
    "The following cell holds the definition of our parameters, these values can be overriden by rendering the with e.g. the following command:\n",
    "\n",
    "papermill -p alpha 0.2 -p ratio 0.3 universe_analysis.ipynb output/test_run.ipynb"
   ]
  },
  {
   "cell_type": "code",
   "execution_count": 2,
   "id": "a80968a0-40bb-4fa9-85ef-2d5eefb01975",
   "metadata": {
    "execution": {
     "iopub.execute_input": "2025-07-30T14:05:53.723784Z",
     "iopub.status.busy": "2025-07-30T14:05:53.723165Z",
     "iopub.status.idle": "2025-07-30T14:05:53.728622Z",
     "shell.execute_reply": "2025-07-30T14:05:53.727674Z"
    },
    "papermill": {
     "duration": 0.025808,
     "end_time": "2025-07-30T14:05:53.730055",
     "exception": false,
     "start_time": "2025-07-30T14:05:53.704247",
     "status": "completed"
    },
    "tags": []
   },
   "outputs": [
    {
     "name": "stdout",
     "output_type": "stream",
     "text": [
      "Current working directory: /dss/dsshome1/0C/ra93lal2/cma/CMA_Fairness_v2\n"
     ]
    }
   ],
   "source": [
    "import os\n",
    "print(\"Current working directory:\", os.getcwd())"
   ]
  },
  {
   "cell_type": "code",
   "execution_count": 3,
   "id": "2dce4c03",
   "metadata": {
    "execution": {
     "iopub.execute_input": "2025-07-30T14:05:53.768288Z",
     "iopub.status.busy": "2025-07-30T14:05:53.767528Z",
     "iopub.status.idle": "2025-07-30T14:05:53.773653Z",
     "shell.execute_reply": "2025-07-30T14:05:53.772879Z"
    },
    "papermill": {
     "duration": 0.026596,
     "end_time": "2025-07-30T14:05:53.775184",
     "exception": false,
     "start_time": "2025-07-30T14:05:53.748588",
     "status": "completed"
    },
    "tags": [
     "parameters"
    ]
   },
   "outputs": [],
   "source": [
    "run_no = 0\n",
    "universe_id = \"test\"\n",
    "universe = {\n",
    "    \"training_size\": \"25k\", # \"25k\", \"5k\", \"1k\"\n",
    "    \"training_year\": \"2014\", # \"2014\", \"2012_14\", \"2010_14\"\n",
    "    \"scale\": \"scale\", # \"scale\", \"do-not-scale\",\n",
    "    #\"stratify_split\": \"target\", # \"none\", \"target\", \"protected-attribute\", \"both\",\n",
    "    \"model\": \"elasticnet\", # \"logreg\", \"penalized_logreg\", \"rf\", \"gbm\", \"elasticnet\"\n",
    "    \"cutoff\": [\"quantile_0.15\", \"quantile_0.30\"],\n",
    "    \"exclude_features\": \"age\", # \"none\", \"nationality\", \"sex\", \"nationality-sex\", \"age\"\n",
    "    \"exclude_subgroups\": \"keep-all\", # \"keep-all\", \"drop-non-german\"\n",
    "    \"eval_fairness_grouping\": [\"majority-minority\", \"nationality-all\"]\n",
    "}\n",
    "\n",
    "output_dir=\"./output\"\n",
    "seed=0"
   ]
  },
  {
   "cell_type": "code",
   "execution_count": 4,
   "id": "6f9f2e84",
   "metadata": {
    "execution": {
     "iopub.execute_input": "2025-07-30T14:05:53.813244Z",
     "iopub.status.busy": "2025-07-30T14:05:53.812490Z",
     "iopub.status.idle": "2025-07-30T14:05:53.817667Z",
     "shell.execute_reply": "2025-07-30T14:05:53.816819Z"
    },
    "papermill": {
     "duration": 0.025904,
     "end_time": "2025-07-30T14:05:53.819260",
     "exception": false,
     "start_time": "2025-07-30T14:05:53.793356",
     "status": "completed"
    },
    "tags": [
     "injected-parameters"
    ]
   },
   "outputs": [],
   "source": [
    "# Parameters\n",
    "universe_id = \"194bb59a20d98ce77c78aeea962e6fe2\"\n",
    "run_no = \"12\"\n",
    "universe = \"{\\\"cutoff\\\": [\\\"quantile_0.1\\\", \\\"quantile_0.25\\\"], \\\"eval_fairness_grouping\\\": [\\\"majority-minority\\\", \\\"nationality-all\\\"], \\\"exclude_features\\\": \\\"none\\\", \\\"exclude_subgroups\\\": \\\"drop-non-german\\\", \\\"model\\\": \\\"logreg\\\", \\\"scale\\\": \\\"scale\\\", \\\"training_size\\\": \\\"5k\\\", \\\"training_year\\\": \\\"2010_14\\\"}\"\n",
    "output_dir = \"output\"\n",
    "seed = \"2023\"\n"
   ]
  },
  {
   "cell_type": "code",
   "execution_count": 5,
   "id": "1650acaf",
   "metadata": {
    "execution": {
     "iopub.execute_input": "2025-07-30T14:05:53.857254Z",
     "iopub.status.busy": "2025-07-30T14:05:53.856538Z",
     "iopub.status.idle": "2025-07-30T14:05:53.861450Z",
     "shell.execute_reply": "2025-07-30T14:05:53.860584Z"
    },
    "papermill": {
     "duration": 0.025466,
     "end_time": "2025-07-30T14:05:53.863005",
     "exception": false,
     "start_time": "2025-07-30T14:05:53.837539",
     "status": "completed"
    },
    "tags": []
   },
   "outputs": [],
   "source": [
    "import json\n",
    "# Parse universe into dict if it is passed as a string\n",
    "if isinstance(universe, str):\n",
    "    universe = json.loads(universe)"
   ]
  },
  {
   "cell_type": "code",
   "execution_count": 6,
   "id": "16620c48",
   "metadata": {
    "execution": {
     "iopub.execute_input": "2025-07-30T14:05:53.901291Z",
     "iopub.status.busy": "2025-07-30T14:05:53.900553Z",
     "iopub.status.idle": "2025-07-30T14:05:53.942433Z",
     "shell.execute_reply": "2025-07-30T14:05:53.941648Z"
    },
    "papermill": {
     "duration": 0.062408,
     "end_time": "2025-07-30T14:05:53.944003",
     "exception": false,
     "start_time": "2025-07-30T14:05:53.881595",
     "status": "completed"
    },
    "tags": []
   },
   "outputs": [],
   "source": [
    "# Auto-reload the custom package\n",
    "%load_ext autoreload\n",
    "%autoreload 1\n",
    "%aimport fairness_multiverse"
   ]
  },
  {
   "cell_type": "code",
   "execution_count": 7,
   "id": "01c5c9f3",
   "metadata": {
    "execution": {
     "iopub.execute_input": "2025-07-30T14:05:53.984220Z",
     "iopub.status.busy": "2025-07-30T14:05:53.983671Z",
     "iopub.status.idle": "2025-07-30T14:05:55.871845Z",
     "shell.execute_reply": "2025-07-30T14:05:55.870917Z"
    },
    "papermill": {
     "duration": 1.910662,
     "end_time": "2025-07-30T14:05:55.873779",
     "exception": false,
     "start_time": "2025-07-30T14:05:53.963117",
     "status": "completed"
    },
    "tags": []
   },
   "outputs": [],
   "source": [
    "from fairness_multiverse.universe import UniverseAnalysis\n",
    "\n",
    "universe_analysis = UniverseAnalysis(\n",
    "    run_no = run_no,\n",
    "    universe_id = universe_id,\n",
    "    universe = universe,\n",
    "    output_dir=output_dir,\n",
    ")"
   ]
  },
  {
   "cell_type": "code",
   "execution_count": 8,
   "id": "106241f5",
   "metadata": {
    "execution": {
     "iopub.execute_input": "2025-07-30T14:05:55.912744Z",
     "iopub.status.busy": "2025-07-30T14:05:55.911920Z",
     "iopub.status.idle": "2025-07-30T14:05:55.918318Z",
     "shell.execute_reply": "2025-07-30T14:05:55.917312Z"
    },
    "papermill": {
     "duration": 0.027018,
     "end_time": "2025-07-30T14:05:55.919876",
     "exception": false,
     "start_time": "2025-07-30T14:05:55.892858",
     "status": "completed"
    },
    "tags": []
   },
   "outputs": [
    {
     "name": "stdout",
     "output_type": "stream",
     "text": [
      "Using Seed: 2023\n"
     ]
    }
   ],
   "source": [
    "import numpy as np\n",
    "parsed_seed = int(seed)\n",
    "np.random.seed(parsed_seed)\n",
    "print(f\"Using Seed: {parsed_seed}\")"
   ]
  },
  {
   "cell_type": "markdown",
   "id": "e0ebdc57",
   "metadata": {
    "papermill": {
     "duration": 0.018363,
     "end_time": "2025-07-30T14:05:55.957183",
     "exception": false,
     "start_time": "2025-07-30T14:05:55.938820",
     "status": "completed"
    },
    "tags": []
   },
   "source": [
    "# Loading Data"
   ]
  },
  {
   "cell_type": "markdown",
   "id": "681925a3",
   "metadata": {
    "papermill": {
     "duration": 0.018245,
     "end_time": "2025-07-30T14:05:55.993643",
     "exception": false,
     "start_time": "2025-07-30T14:05:55.975398",
     "status": "completed"
    },
    "tags": []
   },
   "source": [
    "Load siab_train, siab_test, siab_calib and/or \n",
    "load siab_train_features, siab_train_labels"
   ]
  },
  {
   "cell_type": "code",
   "execution_count": 9,
   "id": "f0496b8a",
   "metadata": {
    "execution": {
     "iopub.execute_input": "2025-07-30T14:05:56.031744Z",
     "iopub.status.busy": "2025-07-30T14:05:56.031110Z",
     "iopub.status.idle": "2025-07-30T14:06:08.494113Z",
     "shell.execute_reply": "2025-07-30T14:06:08.492983Z"
    },
    "papermill": {
     "duration": 12.483969,
     "end_time": "2025-07-30T14:06:08.495656",
     "exception": false,
     "start_time": "2025-07-30T14:05:56.011687",
     "status": "completed"
    },
    "tags": []
   },
   "outputs": [
    {
     "name": "stdout",
     "output_type": "stream",
     "text": [
      "Loading SIAB data from cache: data/siab_cached.csv.gz\n"
     ]
    },
    {
     "name": "stdout",
     "output_type": "stream",
     "text": [
      "(643690, 164)\n"
     ]
    }
   ],
   "source": [
    "from pathlib import Path\n",
    "import pandas as pd\n",
    "\n",
    "# File paths\n",
    "raw_file = Path(\"data/raw/siab.csv\")\n",
    "cache_file = Path(\"data/siab_cached.csv.gz\")\n",
    "\n",
    "# Ensure cache directory exists\n",
    "cache_file.parent.mkdir(parents=True, exist_ok=True)\n",
    "\n",
    "# Load with simple caching\n",
    "if cache_file.exists():\n",
    "    print(f\"Loading SIAB data from cache: {cache_file}\")\n",
    "    siab = pd.read_csv(cache_file, compression='gzip')\n",
    "else:\n",
    "    print(f\"Cache not found. Reading raw SIAB data: {raw_file}\")\n",
    "    siab = pd.read_csv(raw_file)\n",
    "    siab.to_csv(cache_file, index=False, compression='gzip')\n",
    "    print(f\"Cached SIAB data to: {cache_file}\")\n",
    "\n",
    "# Now use `siab` DataFrame as needed\n",
    "print(siab.shape)"
   ]
  },
  {
   "cell_type": "code",
   "execution_count": 10,
   "id": "db0ca512-5f53-4dba-abdb-a2888bca41ba",
   "metadata": {
    "execution": {
     "iopub.execute_input": "2025-07-30T14:06:08.540363Z",
     "iopub.status.busy": "2025-07-30T14:06:08.539783Z",
     "iopub.status.idle": "2025-07-30T14:06:08.545691Z",
     "shell.execute_reply": "2025-07-30T14:06:08.544739Z"
    },
    "papermill": {
     "duration": 0.030257,
     "end_time": "2025-07-30T14:06:08.547283",
     "exception": false,
     "start_time": "2025-07-30T14:06:08.517026",
     "status": "completed"
    },
    "tags": []
   },
   "outputs": [],
   "source": [
    "#siab"
   ]
  },
  {
   "cell_type": "code",
   "execution_count": 11,
   "id": "a0edb063",
   "metadata": {
    "execution": {
     "iopub.execute_input": "2025-07-30T14:06:08.589203Z",
     "iopub.status.busy": "2025-07-30T14:06:08.588418Z",
     "iopub.status.idle": "2025-07-30T14:06:08.593918Z",
     "shell.execute_reply": "2025-07-30T14:06:08.593015Z"
    },
    "papermill": {
     "duration": 0.02827,
     "end_time": "2025-07-30T14:06:08.595499",
     "exception": false,
     "start_time": "2025-07-30T14:06:08.567229",
     "status": "completed"
    },
    "tags": []
   },
   "outputs": [],
   "source": [
    "#import pandas as pd\n",
    "#\n",
    "#X_train = pd.read_csv(\"./data/X_train.csv\")\n",
    "#y_train = pd.read_csv(\"./data/y_train.csv\")"
   ]
  },
  {
   "cell_type": "code",
   "execution_count": 12,
   "id": "63d08085",
   "metadata": {
    "execution": {
     "iopub.execute_input": "2025-07-30T14:06:08.637359Z",
     "iopub.status.busy": "2025-07-30T14:06:08.636513Z",
     "iopub.status.idle": "2025-07-30T14:06:08.641934Z",
     "shell.execute_reply": "2025-07-30T14:06:08.640920Z"
    },
    "papermill": {
     "duration": 0.028392,
     "end_time": "2025-07-30T14:06:08.643842",
     "exception": false,
     "start_time": "2025-07-30T14:06:08.615450",
     "status": "completed"
    },
    "tags": []
   },
   "outputs": [],
   "source": [
    "#X_test = pd.read_csv(\"./data/X_test.csv\")\n",
    "#y_true = pd.read_csv(\"./data/y_test.csv\")"
   ]
  },
  {
   "cell_type": "code",
   "execution_count": 13,
   "id": "98a8d0fa-1d3d-4ed8-bb2c-281470e24add",
   "metadata": {
    "execution": {
     "iopub.execute_input": "2025-07-30T14:06:08.686517Z",
     "iopub.status.busy": "2025-07-30T14:06:08.685599Z",
     "iopub.status.idle": "2025-07-30T14:06:08.690828Z",
     "shell.execute_reply": "2025-07-30T14:06:08.689908Z"
    },
    "papermill": {
     "duration": 0.028161,
     "end_time": "2025-07-30T14:06:08.692484",
     "exception": false,
     "start_time": "2025-07-30T14:06:08.664323",
     "status": "completed"
    },
    "tags": []
   },
   "outputs": [],
   "source": [
    "# Calibration data for conformal\n",
    "#X_calib = pd.read_csv(\"./data/X_calib.csv\")\n",
    "#y_calib = pd.read_csv(\"./data/y_calib.csv\")"
   ]
  },
  {
   "cell_type": "markdown",
   "id": "997051c5-15bd-4b69-9786-c3001a3ce484",
   "metadata": {
    "papermill": {
     "duration": 0.018791,
     "end_time": "2025-07-30T14:06:08.732585",
     "exception": false,
     "start_time": "2025-07-30T14:06:08.713794",
     "status": "completed"
    },
    "tags": []
   },
   "source": [
    "# Splitting Data and Setting Training Data Size"
   ]
  },
  {
   "cell_type": "code",
   "execution_count": 14,
   "id": "e993b61f-042d-41a6-8c81-f55681f86335",
   "metadata": {
    "execution": {
     "iopub.execute_input": "2025-07-30T14:06:08.773031Z",
     "iopub.status.busy": "2025-07-30T14:06:08.772558Z",
     "iopub.status.idle": "2025-07-30T14:06:08.786073Z",
     "shell.execute_reply": "2025-07-30T14:06:08.785118Z"
    },
    "papermill": {
     "duration": 0.036513,
     "end_time": "2025-07-30T14:06:08.787770",
     "exception": false,
     "start_time": "2025-07-30T14:06:08.751257",
     "status": "completed"
    },
    "tags": []
   },
   "outputs": [],
   "source": [
    "def sample_by_year_size(df,\n",
    "                        training_year: str,\n",
    "                        training_size: str,\n",
    "                        random_state: int = 42):\n",
    "    # --- parse training_year into a list of int years ---\n",
    "    if \"_\" in training_year:\n",
    "        start_str, end_str = training_year.split(\"_\", 1)\n",
    "        start = int(start_str)\n",
    "        end   = int(end_str) if len(end_str) == 4 else (int(end_str) + (start // 100)*100)\n",
    "        years = list(range(start, end + 1))\n",
    "    else:\n",
    "        years = [int(training_year)]\n",
    "\n",
    "    df = df[df[\"year\"].isin(years)].reset_index(drop=True)\n",
    "\n",
    "    # --- map training_size to total number of samples ---\n",
    "    total_map = {\"25k\": 25_000, \"5k\": 5_000, \"1k\": 1_000}\n",
    "    if training_size not in total_map:\n",
    "        return df  # e.g. \"all\"\n",
    "\n",
    "    total_samples = total_map[training_size]\n",
    "    n_years       = len(years)\n",
    "    base          = total_samples // n_years\n",
    "    remainder     = total_samples % n_years\n",
    "\n",
    "    # --- build a dict: year -> how many to sample ---\n",
    "    # give +1 to the first `remainder` years in ascending order\n",
    "    quotas = {\n",
    "        year: base + (1 if idx < remainder else 0)\n",
    "        for idx, year in enumerate(sorted(years))\n",
    "    }\n",
    "\n",
    "    # --- sample per‐year according to the quota dict ---\n",
    "    sampled = (\n",
    "        df\n",
    "        .groupby(\"year\", group_keys=False)\n",
    "        .apply(lambda grp: grp.sample(\n",
    "            n=min(len(grp), quotas[grp.name]),\n",
    "            random_state=random_state))\n",
    "        .reset_index(drop=True)\n",
    "    )\n",
    "\n",
    "    return sampled"
   ]
  },
  {
   "cell_type": "code",
   "execution_count": 15,
   "id": "c0ccd338-0e02-41f3-a09d-f56f9266e3fb",
   "metadata": {
    "execution": {
     "iopub.execute_input": "2025-07-30T14:06:08.829795Z",
     "iopub.status.busy": "2025-07-30T14:06:08.828973Z",
     "iopub.status.idle": "2025-07-30T14:06:08.840442Z",
     "shell.execute_reply": "2025-07-30T14:06:08.839367Z"
    },
    "papermill": {
     "duration": 0.034857,
     "end_time": "2025-07-30T14:06:08.842584",
     "exception": false,
     "start_time": "2025-07-30T14:06:08.807727",
     "status": "completed"
    },
    "tags": []
   },
   "outputs": [
    {
     "data": {
      "text/plain": [
       "'5k'"
      ]
     },
     "execution_count": 15,
     "metadata": {},
     "output_type": "execute_result"
    }
   ],
   "source": [
    "universe[\"training_size\"]"
   ]
  },
  {
   "cell_type": "code",
   "execution_count": 16,
   "id": "ca707fd7-8047-4acd-bfa5-66248fbbf8e6",
   "metadata": {
    "execution": {
     "iopub.execute_input": "2025-07-30T14:06:08.888707Z",
     "iopub.status.busy": "2025-07-30T14:06:08.888299Z",
     "iopub.status.idle": "2025-07-30T14:06:08.895252Z",
     "shell.execute_reply": "2025-07-30T14:06:08.894336Z"
    },
    "papermill": {
     "duration": 0.032243,
     "end_time": "2025-07-30T14:06:08.896973",
     "exception": false,
     "start_time": "2025-07-30T14:06:08.864730",
     "status": "completed"
    },
    "tags": []
   },
   "outputs": [
    {
     "data": {
      "text/plain": [
       "'2010_14'"
      ]
     },
     "execution_count": 16,
     "metadata": {},
     "output_type": "execute_result"
    }
   ],
   "source": [
    "universe[\"training_year\"]"
   ]
  },
  {
   "cell_type": "code",
   "execution_count": 17,
   "id": "aea9c6ef-6f46-42c8-85eb-5a62025c1508",
   "metadata": {
    "execution": {
     "iopub.execute_input": "2025-07-30T14:06:08.944659Z",
     "iopub.status.busy": "2025-07-30T14:06:08.944171Z",
     "iopub.status.idle": "2025-07-30T14:06:09.935869Z",
     "shell.execute_reply": "2025-07-30T14:06:09.934981Z"
    },
    "papermill": {
     "duration": 1.018173,
     "end_time": "2025-07-30T14:06:09.937739",
     "exception": false,
     "start_time": "2025-07-30T14:06:08.919566",
     "status": "completed"
    },
    "tags": []
   },
   "outputs": [],
   "source": [
    "siab_train = sample_by_year_size(siab,\n",
    "                               training_year=universe[\"training_year\"],\n",
    "                               training_size=universe[\"training_size\"])"
   ]
  },
  {
   "cell_type": "code",
   "execution_count": 18,
   "id": "8d3afb32-789d-442c-8d5d-9f5aa8dd2eed",
   "metadata": {
    "execution": {
     "iopub.execute_input": "2025-07-30T14:06:09.983027Z",
     "iopub.status.busy": "2025-07-30T14:06:09.982275Z",
     "iopub.status.idle": "2025-07-30T14:06:09.989212Z",
     "shell.execute_reply": "2025-07-30T14:06:09.988313Z"
    },
    "papermill": {
     "duration": 0.031863,
     "end_time": "2025-07-30T14:06:09.990924",
     "exception": false,
     "start_time": "2025-07-30T14:06:09.959061",
     "status": "completed"
    },
    "tags": []
   },
   "outputs": [
    {
     "data": {
      "text/plain": [
       "(5000, 164)"
      ]
     },
     "execution_count": 18,
     "metadata": {},
     "output_type": "execute_result"
    }
   ],
   "source": [
    "siab_train.shape"
   ]
  },
  {
   "cell_type": "code",
   "execution_count": 19,
   "id": "d582db68-1a4c-47fb-84fc-08518dc1975a",
   "metadata": {
    "execution": {
     "iopub.execute_input": "2025-07-30T14:06:10.035811Z",
     "iopub.status.busy": "2025-07-30T14:06:10.035353Z",
     "iopub.status.idle": "2025-07-30T14:06:10.044632Z",
     "shell.execute_reply": "2025-07-30T14:06:10.043661Z"
    },
    "papermill": {
     "duration": 0.033427,
     "end_time": "2025-07-30T14:06:10.046304",
     "exception": false,
     "start_time": "2025-07-30T14:06:10.012877",
     "status": "completed"
    },
    "tags": []
   },
   "outputs": [
    {
     "data": {
      "text/plain": [
       "year\n",
       "2010    1000\n",
       "2011    1000\n",
       "2012    1000\n",
       "2013    1000\n",
       "2014    1000\n",
       "dtype: int64"
      ]
     },
     "metadata": {},
     "output_type": "display_data"
    }
   ],
   "source": [
    "display(siab_train.groupby(\"year\").size())"
   ]
  },
  {
   "cell_type": "code",
   "execution_count": 20,
   "id": "a561edb4-d032-42cb-8256-22eac1111c64",
   "metadata": {
    "execution": {
     "iopub.execute_input": "2025-07-30T14:06:10.091353Z",
     "iopub.status.busy": "2025-07-30T14:06:10.090408Z",
     "iopub.status.idle": "2025-07-30T14:06:10.294012Z",
     "shell.execute_reply": "2025-07-30T14:06:10.293062Z"
    },
    "papermill": {
     "duration": 0.228233,
     "end_time": "2025-07-30T14:06:10.296437",
     "exception": false,
     "start_time": "2025-07-30T14:06:10.068204",
     "status": "completed"
    },
    "tags": []
   },
   "outputs": [],
   "source": [
    "#siab_train = siab_s[siab_s.year < 2015]\n",
    "siab_calib = siab[siab.year == 2015]\n",
    "siab_test = siab[siab.year == 2016]"
   ]
  },
  {
   "cell_type": "code",
   "execution_count": 21,
   "id": "472de16f-c3db-4916-846b-1f0de9cf1746",
   "metadata": {
    "execution": {
     "iopub.execute_input": "2025-07-30T14:06:10.341873Z",
     "iopub.status.busy": "2025-07-30T14:06:10.341232Z",
     "iopub.status.idle": "2025-07-30T14:06:10.349001Z",
     "shell.execute_reply": "2025-07-30T14:06:10.348087Z"
    },
    "papermill": {
     "duration": 0.032505,
     "end_time": "2025-07-30T14:06:10.350863",
     "exception": false,
     "start_time": "2025-07-30T14:06:10.318358",
     "status": "completed"
    },
    "tags": []
   },
   "outputs": [],
   "source": [
    "X_train = siab_train.iloc[:,4:164]\n",
    "y_train = siab_train.iloc[:, [3]]"
   ]
  },
  {
   "cell_type": "code",
   "execution_count": 22,
   "id": "828c96af-f43a-4ed6-ba47-8ac73a47d56c",
   "metadata": {
    "execution": {
     "iopub.execute_input": "2025-07-30T14:06:10.397523Z",
     "iopub.status.busy": "2025-07-30T14:06:10.396913Z",
     "iopub.status.idle": "2025-07-30T14:06:10.449920Z",
     "shell.execute_reply": "2025-07-30T14:06:10.448858Z"
    },
    "papermill": {
     "duration": 0.078565,
     "end_time": "2025-07-30T14:06:10.451811",
     "exception": false,
     "start_time": "2025-07-30T14:06:10.373246",
     "status": "completed"
    },
    "tags": []
   },
   "outputs": [],
   "source": [
    "X_calib = siab_calib.iloc[:,4:164]\n",
    "y_calib = siab_calib.iloc[:, [3]]"
   ]
  },
  {
   "cell_type": "code",
   "execution_count": 23,
   "id": "c34be9c3-6bd6-476e-acd3-845840e303be",
   "metadata": {
    "execution": {
     "iopub.execute_input": "2025-07-30T14:06:10.497866Z",
     "iopub.status.busy": "2025-07-30T14:06:10.497075Z",
     "iopub.status.idle": "2025-07-30T14:06:10.550027Z",
     "shell.execute_reply": "2025-07-30T14:06:10.549054Z"
    },
    "papermill": {
     "duration": 0.077783,
     "end_time": "2025-07-30T14:06:10.551713",
     "exception": false,
     "start_time": "2025-07-30T14:06:10.473930",
     "status": "completed"
    },
    "tags": []
   },
   "outputs": [],
   "source": [
    "X_test = siab_test.iloc[:,4:164]\n",
    "y_true = siab_test.iloc[:, [3]]"
   ]
  },
  {
   "cell_type": "markdown",
   "id": "9901737e-04df-44f0-9100-f5ad144ed040",
   "metadata": {
    "papermill": {
     "duration": 0.020153,
     "end_time": "2025-07-30T14:06:10.592701",
     "exception": false,
     "start_time": "2025-07-30T14:06:10.572548",
     "status": "completed"
    },
    "tags": []
   },
   "source": [
    "# Splitting Data and Setting Training Data Size OLD VERSION"
   ]
  },
  {
   "cell_type": "code",
   "execution_count": 24,
   "id": "acbc8f7d-8fc8-4e86-8c59-5dcb0f58384b",
   "metadata": {
    "execution": {
     "iopub.execute_input": "2025-07-30T14:06:10.634631Z",
     "iopub.status.busy": "2025-07-30T14:06:10.633680Z",
     "iopub.status.idle": "2025-07-30T14:06:10.639644Z",
     "shell.execute_reply": "2025-07-30T14:06:10.638672Z"
    },
    "papermill": {
     "duration": 0.028762,
     "end_time": "2025-07-30T14:06:10.641345",
     "exception": false,
     "start_time": "2025-07-30T14:06:10.612583",
     "status": "completed"
    },
    "tags": []
   },
   "outputs": [],
   "source": [
    "#def sample_by_year(df, training_size, random_state=42):\n",
    "#    if training_size == \"2014\":\n",
    "#        return df[df[\"year\"] == 2014].reset_index(drop=True)\n",
    "#    \n",
    "#    size_map = {\n",
    "#        \"25k\": 5000,\n",
    "#        \"5k\": 1000,\n",
    "#        \"1k\": 200\n",
    "#    }\n",
    "#\n",
    "#    if training_size not in size_map:\n",
    "#        return df.reset_index(drop=True)  # use all data\n",
    "#\n",
    "#    n_per_year = size_map[training_size]\n",
    "#    grouped = df.groupby(\"year\")\n",
    "#    sampled = grouped.apply(lambda x: x.sample(n=min(n_per_year, len(x)), random_state=random_state))\n",
    "#    return sampled.reset_index(drop=True)"
   ]
  },
  {
   "cell_type": "code",
   "execution_count": 25,
   "id": "6d931f52-beaf-43ff-9e78-9d44a448d54e",
   "metadata": {
    "execution": {
     "iopub.execute_input": "2025-07-30T14:06:10.683193Z",
     "iopub.status.busy": "2025-07-30T14:06:10.682456Z",
     "iopub.status.idle": "2025-07-30T14:06:10.687979Z",
     "shell.execute_reply": "2025-07-30T14:06:10.687067Z"
    },
    "papermill": {
     "duration": 0.028107,
     "end_time": "2025-07-30T14:06:10.689668",
     "exception": false,
     "start_time": "2025-07-30T14:06:10.661561",
     "status": "completed"
    },
    "tags": []
   },
   "outputs": [],
   "source": [
    "#siab_s = sample_by_year(siab, universe[\"training_size\"])"
   ]
  },
  {
   "cell_type": "code",
   "execution_count": 26,
   "id": "5db0a40e-a4e2-4920-be85-b12ae061d70d",
   "metadata": {
    "execution": {
     "iopub.execute_input": "2025-07-30T14:06:10.731834Z",
     "iopub.status.busy": "2025-07-30T14:06:10.731090Z",
     "iopub.status.idle": "2025-07-30T14:06:10.736237Z",
     "shell.execute_reply": "2025-07-30T14:06:10.735322Z"
    },
    "papermill": {
     "duration": 0.027959,
     "end_time": "2025-07-30T14:06:10.738103",
     "exception": false,
     "start_time": "2025-07-30T14:06:10.710144",
     "status": "completed"
    },
    "tags": []
   },
   "outputs": [],
   "source": [
    "#display(siab_s.groupby(\"year\").size())"
   ]
  },
  {
   "cell_type": "code",
   "execution_count": 27,
   "id": "e6c733c5",
   "metadata": {
    "execution": {
     "iopub.execute_input": "2025-07-30T14:06:10.780430Z",
     "iopub.status.busy": "2025-07-30T14:06:10.779906Z",
     "iopub.status.idle": "2025-07-30T14:06:10.877968Z",
     "shell.execute_reply": "2025-07-30T14:06:10.877028Z"
    },
    "papermill": {
     "duration": 0.121028,
     "end_time": "2025-07-30T14:06:10.879823",
     "exception": false,
     "start_time": "2025-07-30T14:06:10.758795",
     "status": "completed"
    },
    "tags": []
   },
   "outputs": [],
   "source": [
    "# Auxiliary data needed downstream in the pipeline\n",
    "\n",
    "org_train = X_train.copy()\n",
    "org_test = X_test.copy()\n",
    "org_calib = X_calib.copy()"
   ]
  },
  {
   "cell_type": "code",
   "execution_count": 28,
   "id": "1466abac-c6da-4492-a62f-4240ae3783af",
   "metadata": {
    "execution": {
     "iopub.execute_input": "2025-07-30T14:06:10.922845Z",
     "iopub.status.busy": "2025-07-30T14:06:10.922046Z",
     "iopub.status.idle": "2025-07-30T14:06:10.928151Z",
     "shell.execute_reply": "2025-07-30T14:06:10.927265Z"
    },
    "papermill": {
     "duration": 0.02877,
     "end_time": "2025-07-30T14:06:10.929715",
     "exception": false,
     "start_time": "2025-07-30T14:06:10.900945",
     "status": "completed"
    },
    "tags": []
   },
   "outputs": [],
   "source": [
    "# put in other script?\n",
    "# Group sizes\n",
    "\n",
    "#def calculate_percentages(df, df_name):\n",
    "#    total_entries = len(df)\n",
    "#\n",
    "#    female_pct = (df['frau1'] == 1).mean() * 100\n",
    "#    non_german_pct = ((df['maxdeutsch1'] == 0) & (df['maxdeutsch.Missing.'] == 0)).mean() * 100\n",
    "#    non_german_male_pct = ((df['frau1'] == 0) & (df['maxdeutsch1'] == 0) & (df['maxdeutsch.Missing.'] == 0)).mean() * 100\n",
    "#    non_german_female_pct = ((df['frau1'] == 1) & (df['maxdeutsch1'] == 0) & (df['maxdeutsch.Missing.'] == 0)).mean() * 100\n",
    "#\n",
    "#    print(f\"--- {df_name} ---\")\n",
    "#    print(f\"Female: {female_pct:.2f}%\")\n",
    "#    print(f\"Non-German: {non_german_pct:.2f}%\")\n",
    "#    print(f\"Non-German Male: {non_german_male_pct:.2f}%\")\n",
    "#    print(f\"Non-German Female: {non_german_female_pct:.2f}%\\n\")\n",
    "#\n",
    "## Calculate for each DataFrame\n",
    "#calculate_percentages(siab_calib, \"siab_calib\")\n",
    "#calculate_percentages(siab_test, \"siab_test\")\n",
    "#calculate_percentages(siab_train, \"siab_train\")"
   ]
  },
  {
   "cell_type": "markdown",
   "id": "0a4a1b33",
   "metadata": {
    "papermill": {
     "duration": 0.019961,
     "end_time": "2025-07-30T14:06:10.970642",
     "exception": false,
     "start_time": "2025-07-30T14:06:10.950681",
     "status": "completed"
    },
    "tags": []
   },
   "source": [
    "# Preprocessing Data"
   ]
  },
  {
   "cell_type": "code",
   "execution_count": 29,
   "id": "ca879031",
   "metadata": {
    "execution": {
     "iopub.execute_input": "2025-07-30T14:06:11.013094Z",
     "iopub.status.busy": "2025-07-30T14:06:11.012409Z",
     "iopub.status.idle": "2025-07-30T14:06:11.018365Z",
     "shell.execute_reply": "2025-07-30T14:06:11.017526Z"
    },
    "papermill": {
     "duration": 0.029228,
     "end_time": "2025-07-30T14:06:11.019892",
     "exception": false,
     "start_time": "2025-07-30T14:06:10.990664",
     "status": "completed"
    },
    "tags": []
   },
   "outputs": [],
   "source": [
    "# EXCLUDE PROTECTED FEATURES\n",
    "# ----------------------\n",
    "# \"exclude_features\": \"none\", # \"nationality\", \"sex\", \"nationality-sex\"\n",
    "\n",
    "excluded_features = universe[\"exclude_features\"].split(\"-\") # split, e.g.: \"nationality-sex\" -> [\"nationality\", \"sex\"]\n",
    "excluded_features_dictionary = {\n",
    "    \"nationality\": [\"maxdeutsch1\", \"maxdeutsch.Missing.\"],\n",
    "    \"sex\": [\"frau1\"],\n",
    "    \"age\": [\"age\"],\n",
    "}\n"
   ]
  },
  {
   "cell_type": "code",
   "execution_count": 30,
   "id": "b745ac60",
   "metadata": {
    "execution": {
     "iopub.execute_input": "2025-07-30T14:06:11.062792Z",
     "iopub.status.busy": "2025-07-30T14:06:11.061977Z",
     "iopub.status.idle": "2025-07-30T14:06:11.067663Z",
     "shell.execute_reply": "2025-07-30T14:06:11.066779Z"
    },
    "papermill": {
     "duration": 0.028892,
     "end_time": "2025-07-30T14:06:11.069368",
     "exception": false,
     "start_time": "2025-07-30T14:06:11.040476",
     "status": "completed"
    },
    "tags": []
   },
   "outputs": [],
   "source": [
    "# Code nice names to column names\n",
    "\n",
    "excluded_features_columns = [\n",
    "    excluded_features_dictionary[f] for f in excluded_features if len(f) > 0 and f != \"none\"\n",
    "]"
   ]
  },
  {
   "cell_type": "code",
   "execution_count": 31,
   "id": "f84f73a2",
   "metadata": {
    "execution": {
     "iopub.execute_input": "2025-07-30T14:06:11.111965Z",
     "iopub.status.busy": "2025-07-30T14:06:11.111513Z",
     "iopub.status.idle": "2025-07-30T14:06:11.118381Z",
     "shell.execute_reply": "2025-07-30T14:06:11.117521Z"
    },
    "papermill": {
     "duration": 0.029793,
     "end_time": "2025-07-30T14:06:11.119746",
     "exception": false,
     "start_time": "2025-07-30T14:06:11.089953",
     "status": "completed"
    },
    "tags": []
   },
   "outputs": [],
   "source": [
    "from utils import flatten_once\n",
    "\n",
    "excluded_features_columns = flatten_once(excluded_features_columns)"
   ]
  },
  {
   "cell_type": "code",
   "execution_count": 32,
   "id": "884dea22",
   "metadata": {
    "execution": {
     "iopub.execute_input": "2025-07-30T14:06:11.162289Z",
     "iopub.status.busy": "2025-07-30T14:06:11.161836Z",
     "iopub.status.idle": "2025-07-30T14:06:11.167398Z",
     "shell.execute_reply": "2025-07-30T14:06:11.166517Z"
    },
    "papermill": {
     "duration": 0.028666,
     "end_time": "2025-07-30T14:06:11.168985",
     "exception": false,
     "start_time": "2025-07-30T14:06:11.140319",
     "status": "completed"
    },
    "tags": []
   },
   "outputs": [],
   "source": [
    "if len(excluded_features_columns) > 0:\n",
    "    print(f\"Dropping features: {excluded_features_columns}\")\n",
    "    X_train.drop(excluded_features_columns, axis=1, inplace=True)"
   ]
  },
  {
   "cell_type": "code",
   "execution_count": 33,
   "id": "95ab8b16",
   "metadata": {
    "execution": {
     "iopub.execute_input": "2025-07-30T14:06:11.211974Z",
     "iopub.status.busy": "2025-07-30T14:06:11.211216Z",
     "iopub.status.idle": "2025-07-30T14:06:11.217357Z",
     "shell.execute_reply": "2025-07-30T14:06:11.216503Z"
    },
    "papermill": {
     "duration": 0.029289,
     "end_time": "2025-07-30T14:06:11.218855",
     "exception": false,
     "start_time": "2025-07-30T14:06:11.189566",
     "status": "completed"
    },
    "tags": []
   },
   "outputs": [],
   "source": [
    "if len(excluded_features_columns) > 0:\n",
    "    print(f\"Dropping features: {excluded_features_columns}\")\n",
    "    X_test.drop(excluded_features_columns, axis=1, inplace=True)"
   ]
  },
  {
   "cell_type": "code",
   "execution_count": 34,
   "id": "1853aaf5-fb9f-46cb-a2b5-8ea4ae2237e4",
   "metadata": {
    "execution": {
     "iopub.execute_input": "2025-07-30T14:06:11.262020Z",
     "iopub.status.busy": "2025-07-30T14:06:11.261269Z",
     "iopub.status.idle": "2025-07-30T14:06:11.267421Z",
     "shell.execute_reply": "2025-07-30T14:06:11.266458Z"
    },
    "papermill": {
     "duration": 0.029498,
     "end_time": "2025-07-30T14:06:11.269222",
     "exception": false,
     "start_time": "2025-07-30T14:06:11.239724",
     "status": "completed"
    },
    "tags": []
   },
   "outputs": [],
   "source": [
    "if len(excluded_features_columns) > 0:\n",
    "    print(f\"Dropping features: {excluded_features_columns}\")\n",
    "    X_calib.drop(excluded_features_columns, axis=1, inplace=True)"
   ]
  },
  {
   "cell_type": "code",
   "execution_count": 35,
   "id": "6727d079-03e5-481e-9d38-292a90b7a0a8",
   "metadata": {
    "execution": {
     "iopub.execute_input": "2025-07-30T14:06:11.312222Z",
     "iopub.status.busy": "2025-07-30T14:06:11.311652Z",
     "iopub.status.idle": "2025-07-30T14:06:11.316399Z",
     "shell.execute_reply": "2025-07-30T14:06:11.315470Z"
    },
    "papermill": {
     "duration": 0.027859,
     "end_time": "2025-07-30T14:06:11.317890",
     "exception": false,
     "start_time": "2025-07-30T14:06:11.290031",
     "status": "completed"
    },
    "tags": []
   },
   "outputs": [],
   "source": [
    "# SPLIT & STRATIFY DATA\n",
    "# ----------------------"
   ]
  },
  {
   "cell_type": "code",
   "execution_count": 36,
   "id": "76c4dc6d",
   "metadata": {
    "execution": {
     "iopub.execute_input": "2025-07-30T14:06:11.361383Z",
     "iopub.status.busy": "2025-07-30T14:06:11.360753Z",
     "iopub.status.idle": "2025-07-30T14:06:11.366031Z",
     "shell.execute_reply": "2025-07-30T14:06:11.365111Z"
    },
    "papermill": {
     "duration": 0.0289,
     "end_time": "2025-07-30T14:06:11.367653",
     "exception": false,
     "start_time": "2025-07-30T14:06:11.338753",
     "status": "completed"
    },
    "tags": []
   },
   "outputs": [],
   "source": [
    "# EXCLUDE CERTAIN SUBGROUPS\n",
    "# ----------------------\n",
    "\n",
    "mode = universe.get(\"exclude_subgroups\", \"keep-all\") \n",
    "# Fetches the exclude_subgroups setting from the universe dict.\n",
    "# Defaults to \"keep-all\" if the key is missing."
   ]
  },
  {
   "cell_type": "code",
   "execution_count": 37,
   "id": "21994072",
   "metadata": {
    "execution": {
     "iopub.execute_input": "2025-07-30T14:06:11.412600Z",
     "iopub.status.busy": "2025-07-30T14:06:11.411519Z",
     "iopub.status.idle": "2025-07-30T14:06:11.419045Z",
     "shell.execute_reply": "2025-07-30T14:06:11.418132Z"
    },
    "papermill": {
     "duration": 0.031913,
     "end_time": "2025-07-30T14:06:11.421026",
     "exception": false,
     "start_time": "2025-07-30T14:06:11.389113",
     "status": "completed"
    },
    "tags": []
   },
   "outputs": [],
   "source": [
    "if mode == \"keep-all\":\n",
    "    keep_mask = pd.Series(True, index=org_train.index)\n",
    "\n",
    "# org_train contains the original feature columns from features_org (in Simson)\n",
    "# features_org contains unprocessed features, for me X_train at beginning ???\n",
    "# For keep-all, creates a boolean Series (keep_mask) of all True, so no rows are removed.\n",
    "\n",
    "elif mode == \"drop-non-german\":\n",
    "    keep_mask = org_train[\"maxdeutsch1\"] == 1 # ??? what about missing values?\n",
    "\n",
    "else:\n",
    "    raise ValueError(f\"Unsupported mode for exclude_subgroups: {mode}\")\n"
   ]
  },
  {
   "cell_type": "code",
   "execution_count": 38,
   "id": "71651440",
   "metadata": {
    "execution": {
     "iopub.execute_input": "2025-07-30T14:06:11.465118Z",
     "iopub.status.busy": "2025-07-30T14:06:11.464343Z",
     "iopub.status.idle": "2025-07-30T14:06:11.471795Z",
     "shell.execute_reply": "2025-07-30T14:06:11.470800Z"
    },
    "papermill": {
     "duration": 0.031172,
     "end_time": "2025-07-30T14:06:11.473452",
     "exception": false,
     "start_time": "2025-07-30T14:06:11.442280",
     "status": "completed"
    },
    "tags": []
   },
   "outputs": [
    {
     "name": "stdout",
     "output_type": "stream",
     "text": [
      "Dropping 657 rows (13.14%) where mode='drop-non-german'\n"
     ]
    }
   ],
   "source": [
    "n_drop = (~keep_mask).sum() # Calculates how many rows are set to be dropped\n",
    "if n_drop > 0:\n",
    "    pct = n_drop / len(keep_mask) * 100\n",
    "    print(f\"Dropping {n_drop} rows ({pct:.2f}%) where mode='{mode}'\")"
   ]
  },
  {
   "cell_type": "code",
   "execution_count": 39,
   "id": "5fb8eee5",
   "metadata": {
    "execution": {
     "iopub.execute_input": "2025-07-30T14:06:11.523287Z",
     "iopub.status.busy": "2025-07-30T14:06:11.522316Z",
     "iopub.status.idle": "2025-07-30T14:06:11.529664Z",
     "shell.execute_reply": "2025-07-30T14:06:11.528643Z"
    },
    "papermill": {
     "duration": 0.033748,
     "end_time": "2025-07-30T14:06:11.531343",
     "exception": false,
     "start_time": "2025-07-30T14:06:11.497595",
     "status": "completed"
    },
    "tags": []
   },
   "outputs": [],
   "source": [
    "X_train = X_train[keep_mask]"
   ]
  },
  {
   "cell_type": "code",
   "execution_count": 40,
   "id": "b202bb3a",
   "metadata": {
    "execution": {
     "iopub.execute_input": "2025-07-30T14:06:11.580014Z",
     "iopub.status.busy": "2025-07-30T14:06:11.579102Z",
     "iopub.status.idle": "2025-07-30T14:06:11.584875Z",
     "shell.execute_reply": "2025-07-30T14:06:11.583901Z"
    },
    "papermill": {
     "duration": 0.031788,
     "end_time": "2025-07-30T14:06:11.586399",
     "exception": false,
     "start_time": "2025-07-30T14:06:11.554611",
     "status": "completed"
    },
    "tags": []
   },
   "outputs": [],
   "source": [
    "y_train = y_train[keep_mask]"
   ]
  },
  {
   "cell_type": "markdown",
   "id": "493e2ac3",
   "metadata": {
    "papermill": {
     "duration": 0.023468,
     "end_time": "2025-07-30T14:06:11.633101",
     "exception": false,
     "start_time": "2025-07-30T14:06:11.609633",
     "status": "completed"
    },
    "tags": []
   },
   "source": [
    "# Model Training"
   ]
  },
  {
   "cell_type": "code",
   "execution_count": 41,
   "id": "679e1268",
   "metadata": {
    "execution": {
     "iopub.execute_input": "2025-07-30T14:06:11.680559Z",
     "iopub.status.busy": "2025-07-30T14:06:11.679768Z",
     "iopub.status.idle": "2025-07-30T14:06:11.781159Z",
     "shell.execute_reply": "2025-07-30T14:06:11.780202Z"
    },
    "papermill": {
     "duration": 0.126871,
     "end_time": "2025-07-30T14:06:11.783055",
     "exception": false,
     "start_time": "2025-07-30T14:06:11.656184",
     "status": "completed"
    },
    "tags": []
   },
   "outputs": [],
   "source": [
    "from sklearn.linear_model import LogisticRegression\n",
    "from sklearn.ensemble import GradientBoostingClassifier, RandomForestClassifier\n",
    "\n",
    "if (universe[\"model\"] == \"logreg\"):\n",
    "    model = LogisticRegression() #penalty=\"none\") #, solver=\"newton-cg\", max_iter=1) # include random_state=19 ?\n",
    "elif (universe[\"model\"] == \"penalized_logreg\"):\n",
    "    model = LogisticRegression(penalty=\"l2\", C=1.0) #, solver=\"newton-cg\", max_iter=1)\n",
    "elif (universe[\"model\"] == \"rf\"):\n",
    "    model = RandomForestClassifier(n_estimators=100, n_jobs=-1)\n",
    "elif (universe[\"model\"] == \"gbm\"):\n",
    "    model = GradientBoostingClassifier()\n",
    "elif (universe[\"model\"] == \"elasticnet\"):\n",
    "    model = LogisticRegression(penalty = 'elasticnet', solver = 'saga', l1_ratio = 0.5, max_iter=5000) # which solver to use?\n",
    "else:\n",
    "    raise \"Unsupported universe.model\""
   ]
  },
  {
   "cell_type": "code",
   "execution_count": 42,
   "id": "0cc8f744",
   "metadata": {
    "execution": {
     "iopub.execute_input": "2025-07-30T14:06:11.833920Z",
     "iopub.status.busy": "2025-07-30T14:06:11.833068Z",
     "iopub.status.idle": "2025-07-30T14:06:11.839413Z",
     "shell.execute_reply": "2025-07-30T14:06:11.838436Z"
    },
    "papermill": {
     "duration": 0.032177,
     "end_time": "2025-07-30T14:06:11.841121",
     "exception": false,
     "start_time": "2025-07-30T14:06:11.808944",
     "status": "completed"
    },
    "tags": []
   },
   "outputs": [],
   "source": [
    "import numpy as np\n",
    "from sklearn.pipeline import Pipeline\n",
    "from sklearn.preprocessing import StandardScaler\n",
    "\n",
    "model = Pipeline([\n",
    "    #(\"continuous_processor\", continuous_processor),\n",
    "    #(\"categorical_preprocessor\", categorical_preprocessor),\n",
    "    (\"scale\", StandardScaler() if universe[\"scale\"] == \"scale\" else None), \n",
    "    (\"model\", model),\n",
    "])"
   ]
  },
  {
   "cell_type": "code",
   "execution_count": 43,
   "id": "9442c04d",
   "metadata": {
    "execution": {
     "iopub.execute_input": "2025-07-30T14:06:11.888471Z",
     "iopub.status.busy": "2025-07-30T14:06:11.887985Z",
     "iopub.status.idle": "2025-07-30T14:06:12.007551Z",
     "shell.execute_reply": "2025-07-30T14:06:12.006616Z"
    },
    "papermill": {
     "duration": 0.143925,
     "end_time": "2025-07-30T14:06:12.009222",
     "exception": false,
     "start_time": "2025-07-30T14:06:11.865297",
     "status": "completed"
    },
    "tags": []
   },
   "outputs": [
    {
     "name": "stderr",
     "output_type": "stream",
     "text": [
      "/dss/dsshome1/0C/ra93lal2/.local/share/virtualenvs/CMA_Fairness_v2-3j10GkSs/lib/python3.10/site-packages/sklearn/linear_model/_logistic.py:444: ConvergenceWarning: lbfgs failed to converge (status=1):\n",
      "STOP: TOTAL NO. of ITERATIONS REACHED LIMIT.\n",
      "\n",
      "Increase the number of iterations (max_iter) or scale the data as shown in:\n",
      "    https://scikit-learn.org/stable/modules/preprocessing.html\n",
      "Please also refer to the documentation for alternative solver options:\n",
      "    https://scikit-learn.org/stable/modules/linear_model.html#logistic-regression\n",
      "  n_iter_i = _check_optimize_result(\n"
     ]
    },
    {
     "data": {
      "text/html": [
       "<style>#sk-container-id-1 {color: black;background-color: white;}#sk-container-id-1 pre{padding: 0;}#sk-container-id-1 div.sk-toggleable {background-color: white;}#sk-container-id-1 label.sk-toggleable__label {cursor: pointer;display: block;width: 100%;margin-bottom: 0;padding: 0.3em;box-sizing: border-box;text-align: center;}#sk-container-id-1 label.sk-toggleable__label-arrow:before {content: \"▸\";float: left;margin-right: 0.25em;color: #696969;}#sk-container-id-1 label.sk-toggleable__label-arrow:hover:before {color: black;}#sk-container-id-1 div.sk-estimator:hover label.sk-toggleable__label-arrow:before {color: black;}#sk-container-id-1 div.sk-toggleable__content {max-height: 0;max-width: 0;overflow: hidden;text-align: left;background-color: #f0f8ff;}#sk-container-id-1 div.sk-toggleable__content pre {margin: 0.2em;color: black;border-radius: 0.25em;background-color: #f0f8ff;}#sk-container-id-1 input.sk-toggleable__control:checked~div.sk-toggleable__content {max-height: 200px;max-width: 100%;overflow: auto;}#sk-container-id-1 input.sk-toggleable__control:checked~label.sk-toggleable__label-arrow:before {content: \"▾\";}#sk-container-id-1 div.sk-estimator input.sk-toggleable__control:checked~label.sk-toggleable__label {background-color: #d4ebff;}#sk-container-id-1 div.sk-label input.sk-toggleable__control:checked~label.sk-toggleable__label {background-color: #d4ebff;}#sk-container-id-1 input.sk-hidden--visually {border: 0;clip: rect(1px 1px 1px 1px);clip: rect(1px, 1px, 1px, 1px);height: 1px;margin: -1px;overflow: hidden;padding: 0;position: absolute;width: 1px;}#sk-container-id-1 div.sk-estimator {font-family: monospace;background-color: #f0f8ff;border: 1px dotted black;border-radius: 0.25em;box-sizing: border-box;margin-bottom: 0.5em;}#sk-container-id-1 div.sk-estimator:hover {background-color: #d4ebff;}#sk-container-id-1 div.sk-parallel-item::after {content: \"\";width: 100%;border-bottom: 1px solid gray;flex-grow: 1;}#sk-container-id-1 div.sk-label:hover label.sk-toggleable__label {background-color: #d4ebff;}#sk-container-id-1 div.sk-serial::before {content: \"\";position: absolute;border-left: 1px solid gray;box-sizing: border-box;top: 0;bottom: 0;left: 50%;z-index: 0;}#sk-container-id-1 div.sk-serial {display: flex;flex-direction: column;align-items: center;background-color: white;padding-right: 0.2em;padding-left: 0.2em;position: relative;}#sk-container-id-1 div.sk-item {position: relative;z-index: 1;}#sk-container-id-1 div.sk-parallel {display: flex;align-items: stretch;justify-content: center;background-color: white;position: relative;}#sk-container-id-1 div.sk-item::before, #sk-container-id-1 div.sk-parallel-item::before {content: \"\";position: absolute;border-left: 1px solid gray;box-sizing: border-box;top: 0;bottom: 0;left: 50%;z-index: -1;}#sk-container-id-1 div.sk-parallel-item {display: flex;flex-direction: column;z-index: 1;position: relative;background-color: white;}#sk-container-id-1 div.sk-parallel-item:first-child::after {align-self: flex-end;width: 50%;}#sk-container-id-1 div.sk-parallel-item:last-child::after {align-self: flex-start;width: 50%;}#sk-container-id-1 div.sk-parallel-item:only-child::after {width: 0;}#sk-container-id-1 div.sk-dashed-wrapped {border: 1px dashed gray;margin: 0 0.4em 0.5em 0.4em;box-sizing: border-box;padding-bottom: 0.4em;background-color: white;}#sk-container-id-1 div.sk-label label {font-family: monospace;font-weight: bold;display: inline-block;line-height: 1.2em;}#sk-container-id-1 div.sk-label-container {text-align: center;}#sk-container-id-1 div.sk-container {/* jupyter's `normalize.less` sets `[hidden] { display: none; }` but bootstrap.min.css set `[hidden] { display: none !important; }` so we also need the `!important` here to be able to override the default hidden behavior on the sphinx rendered scikit-learn.org. See: https://github.com/scikit-learn/scikit-learn/issues/21755 */display: inline-block !important;position: relative;}#sk-container-id-1 div.sk-text-repr-fallback {display: none;}</style><div id=\"sk-container-id-1\" class=\"sk-top-container\"><div class=\"sk-text-repr-fallback\"><pre>Pipeline(steps=[(&#x27;scale&#x27;, StandardScaler()), (&#x27;model&#x27;, LogisticRegression())])</pre><b>In a Jupyter environment, please rerun this cell to show the HTML representation or trust the notebook. <br />On GitHub, the HTML representation is unable to render, please try loading this page with nbviewer.org.</b></div><div class=\"sk-container\" hidden><div class=\"sk-item sk-dashed-wrapped\"><div class=\"sk-label-container\"><div class=\"sk-label sk-toggleable\"><input class=\"sk-toggleable__control sk-hidden--visually\" id=\"sk-estimator-id-1\" type=\"checkbox\" ><label for=\"sk-estimator-id-1\" class=\"sk-toggleable__label sk-toggleable__label-arrow\">Pipeline</label><div class=\"sk-toggleable__content\"><pre>Pipeline(steps=[(&#x27;scale&#x27;, StandardScaler()), (&#x27;model&#x27;, LogisticRegression())])</pre></div></div></div><div class=\"sk-serial\"><div class=\"sk-item\"><div class=\"sk-estimator sk-toggleable\"><input class=\"sk-toggleable__control sk-hidden--visually\" id=\"sk-estimator-id-2\" type=\"checkbox\" ><label for=\"sk-estimator-id-2\" class=\"sk-toggleable__label sk-toggleable__label-arrow\">StandardScaler</label><div class=\"sk-toggleable__content\"><pre>StandardScaler()</pre></div></div></div><div class=\"sk-item\"><div class=\"sk-estimator sk-toggleable\"><input class=\"sk-toggleable__control sk-hidden--visually\" id=\"sk-estimator-id-3\" type=\"checkbox\" ><label for=\"sk-estimator-id-3\" class=\"sk-toggleable__label sk-toggleable__label-arrow\">LogisticRegression</label><div class=\"sk-toggleable__content\"><pre>LogisticRegression()</pre></div></div></div></div></div></div></div>"
      ],
      "text/plain": [
       "Pipeline(steps=[('scale', StandardScaler()), ('model', LogisticRegression())])"
      ]
     },
     "execution_count": 43,
     "metadata": {},
     "output_type": "execute_result"
    }
   ],
   "source": [
    "model.fit(X_train, y_train.values.ravel())"
   ]
  },
  {
   "cell_type": "code",
   "execution_count": 44,
   "id": "af59f8c0",
   "metadata": {
    "execution": {
     "iopub.execute_input": "2025-07-30T14:06:12.060408Z",
     "iopub.status.busy": "2025-07-30T14:06:12.059666Z",
     "iopub.status.idle": "2025-07-30T14:06:12.064920Z",
     "shell.execute_reply": "2025-07-30T14:06:12.064044Z"
    },
    "papermill": {
     "duration": 0.032509,
     "end_time": "2025-07-30T14:06:12.066534",
     "exception": false,
     "start_time": "2025-07-30T14:06:12.034025",
     "status": "completed"
    },
    "tags": []
   },
   "outputs": [],
   "source": [
    "from fairness_multiverse.universe import predict_w_threshold"
   ]
  },
  {
   "cell_type": "code",
   "execution_count": 45,
   "id": "a7cf2e16",
   "metadata": {
    "execution": {
     "iopub.execute_input": "2025-07-30T14:06:12.116649Z",
     "iopub.status.busy": "2025-07-30T14:06:12.115928Z",
     "iopub.status.idle": "2025-07-30T14:06:12.310176Z",
     "shell.execute_reply": "2025-07-30T14:06:12.309286Z"
    },
    "papermill": {
     "duration": 0.220863,
     "end_time": "2025-07-30T14:06:12.311861",
     "exception": false,
     "start_time": "2025-07-30T14:06:12.090998",
     "status": "completed"
    },
    "tags": []
   },
   "outputs": [
    {
     "data": {
      "text/plain": [
       "0.8526808605506633"
      ]
     },
     "execution_count": 45,
     "metadata": {},
     "output_type": "execute_result"
    }
   ],
   "source": [
    "probs_test = model.predict_proba(X_test)\n",
    "\n",
    "'''\n",
    "Below code returns a boolean array (or binary 0/1 array depending on how it’s used) where each element \n",
    "is True if the probability of class 1 is greater than or equal to the threshold, and False otherwise.\n",
    "'''\n",
    "y_pred_default = predict_w_threshold(probs_test, 0.5)\n",
    "\n",
    "from sklearn.metrics import accuracy_score\n",
    "\n",
    "# Naive prediction\n",
    "accuracy_score(y_true = y_true, y_pred = y_pred_default)"
   ]
  },
  {
   "cell_type": "code",
   "execution_count": 46,
   "id": "081964c3",
   "metadata": {
    "execution": {
     "iopub.execute_input": "2025-07-30T14:06:12.365627Z",
     "iopub.status.busy": "2025-07-30T14:06:12.364926Z",
     "iopub.status.idle": "2025-07-30T14:06:12.548808Z",
     "shell.execute_reply": "2025-07-30T14:06:12.547913Z"
    },
    "papermill": {
     "duration": 0.21408,
     "end_time": "2025-07-30T14:06:12.550416",
     "exception": false,
     "start_time": "2025-07-30T14:06:12.336336",
     "status": "completed"
    },
    "tags": []
   },
   "outputs": [
    {
     "data": {
      "text/plain": [
       "array([0, 0, 0, ..., 0, 0, 0])"
      ]
     },
     "execution_count": 46,
     "metadata": {},
     "output_type": "execute_result"
    }
   ],
   "source": [
    "model.predict(X_test)"
   ]
  },
  {
   "cell_type": "markdown",
   "id": "56c9705b",
   "metadata": {
    "papermill": {
     "duration": 0.021999,
     "end_time": "2025-07-30T14:06:12.595318",
     "exception": false,
     "start_time": "2025-07-30T14:06:12.573319",
     "status": "completed"
    },
    "tags": []
   },
   "source": [
    "# Conformal Prediction"
   ]
  },
  {
   "cell_type": "code",
   "execution_count": 47,
   "id": "160ec6ff",
   "metadata": {
    "execution": {
     "iopub.execute_input": "2025-07-30T14:06:12.643711Z",
     "iopub.status.busy": "2025-07-30T14:06:12.642840Z",
     "iopub.status.idle": "2025-07-30T14:06:12.647867Z",
     "shell.execute_reply": "2025-07-30T14:06:12.646885Z"
    },
    "papermill": {
     "duration": 0.031796,
     "end_time": "2025-07-30T14:06:12.649559",
     "exception": false,
     "start_time": "2025-07-30T14:06:12.617763",
     "status": "completed"
    },
    "tags": []
   },
   "outputs": [],
   "source": [
    "# Miscoverage level for conformal prediction (10% allowed error rate => 90% target coverage)\n",
    "alpha = 0.1"
   ]
  },
  {
   "cell_type": "code",
   "execution_count": 48,
   "id": "eadf4555-3dd3-440e-8e35-f82a4ad9f855",
   "metadata": {
    "execution": {
     "iopub.execute_input": "2025-07-30T14:06:12.699945Z",
     "iopub.status.busy": "2025-07-30T14:06:12.699469Z",
     "iopub.status.idle": "2025-07-30T14:06:12.879159Z",
     "shell.execute_reply": "2025-07-30T14:06:12.878044Z"
    },
    "papermill": {
     "duration": 0.207125,
     "end_time": "2025-07-30T14:06:12.881600",
     "exception": false,
     "start_time": "2025-07-30T14:06:12.674475",
     "status": "completed"
    },
    "tags": []
   },
   "outputs": [],
   "source": [
    "probs_calib = model.predict_proba(X_calib)"
   ]
  },
  {
   "cell_type": "code",
   "execution_count": 49,
   "id": "2ed93547-6d5d-4983-9b36-1ecb300da49a",
   "metadata": {
    "execution": {
     "iopub.execute_input": "2025-07-30T14:06:12.946334Z",
     "iopub.status.busy": "2025-07-30T14:06:12.945816Z",
     "iopub.status.idle": "2025-07-30T14:06:12.952522Z",
     "shell.execute_reply": "2025-07-30T14:06:12.951272Z"
    },
    "papermill": {
     "duration": 0.041041,
     "end_time": "2025-07-30T14:06:12.954353",
     "exception": false,
     "start_time": "2025-07-30T14:06:12.913312",
     "status": "completed"
    },
    "tags": []
   },
   "outputs": [],
   "source": [
    "y_calib = y_calib.values.ravel().astype(int)"
   ]
  },
  {
   "cell_type": "code",
   "execution_count": 50,
   "id": "65d1320d-f588-4b38-9072-62af1ae97f7d",
   "metadata": {
    "execution": {
     "iopub.execute_input": "2025-07-30T14:06:13.018167Z",
     "iopub.status.busy": "2025-07-30T14:06:13.017558Z",
     "iopub.status.idle": "2025-07-30T14:06:13.029422Z",
     "shell.execute_reply": "2025-07-30T14:06:13.028221Z"
    },
    "papermill": {
     "duration": 0.045715,
     "end_time": "2025-07-30T14:06:13.031380",
     "exception": false,
     "start_time": "2025-07-30T14:06:12.985665",
     "status": "completed"
    },
    "tags": []
   },
   "outputs": [],
   "source": [
    "from fairness_multiverse.conformal import compute_nc_scores\n",
    "\n",
    "# Compute nonconformity scores on calibration set (1 - probability of true class)\n",
    "nc_scores = compute_nc_scores(probs_calib, y_calib)"
   ]
  },
  {
   "cell_type": "code",
   "execution_count": 51,
   "id": "df3b8ca3-53b7-43d5-9667-7c85da7aeda2",
   "metadata": {
    "execution": {
     "iopub.execute_input": "2025-07-30T14:06:13.084873Z",
     "iopub.status.busy": "2025-07-30T14:06:13.083859Z",
     "iopub.status.idle": "2025-07-30T14:06:13.091339Z",
     "shell.execute_reply": "2025-07-30T14:06:13.090149Z"
    },
    "papermill": {
     "duration": 0.036399,
     "end_time": "2025-07-30T14:06:13.093512",
     "exception": false,
     "start_time": "2025-07-30T14:06:13.057113",
     "status": "completed"
    },
    "tags": []
   },
   "outputs": [],
   "source": [
    "from fairness_multiverse.conformal import find_threshold\n",
    "\n",
    "# Find conformal threshold q_hat for the given alpha (split conformal method)\n",
    "q_hat = find_threshold(nc_scores, alpha)"
   ]
  },
  {
   "cell_type": "code",
   "execution_count": 52,
   "id": "4d29e6c1-0ef6-4aa4-b8fe-4fe79b0d033a",
   "metadata": {
    "execution": {
     "iopub.execute_input": "2025-07-30T14:06:13.144635Z",
     "iopub.status.busy": "2025-07-30T14:06:13.144012Z",
     "iopub.status.idle": "2025-07-30T14:06:13.151449Z",
     "shell.execute_reply": "2025-07-30T14:06:13.150607Z"
    },
    "papermill": {
     "duration": 0.033204,
     "end_time": "2025-07-30T14:06:13.153077",
     "exception": false,
     "start_time": "2025-07-30T14:06:13.119873",
     "status": "completed"
    },
    "tags": []
   },
   "outputs": [
    {
     "data": {
      "text/plain": [
       "0.6851123866432449"
      ]
     },
     "execution_count": 52,
     "metadata": {},
     "output_type": "execute_result"
    }
   ],
   "source": [
    "q_hat"
   ]
  },
  {
   "cell_type": "code",
   "execution_count": 53,
   "id": "92460794-cdac-4be2-ba28-f28c0515a6fb",
   "metadata": {
    "execution": {
     "iopub.execute_input": "2025-07-30T14:06:13.201327Z",
     "iopub.status.busy": "2025-07-30T14:06:13.200671Z",
     "iopub.status.idle": "2025-07-30T14:06:14.122148Z",
     "shell.execute_reply": "2025-07-30T14:06:14.121162Z"
    },
    "papermill": {
     "duration": 0.947411,
     "end_time": "2025-07-30T14:06:14.123987",
     "exception": false,
     "start_time": "2025-07-30T14:06:13.176576",
     "status": "completed"
    },
    "tags": []
   },
   "outputs": [],
   "source": [
    "from fairness_multiverse.conformal import predict_conformal_sets\n",
    "\n",
    "# Generate prediction sets for each test example\n",
    "pred_sets = predict_conformal_sets(model, X_test, q_hat)"
   ]
  },
  {
   "cell_type": "code",
   "execution_count": 54,
   "id": "d90c9a65-e6db-4f5d-80cd-e68fb7e46829",
   "metadata": {
    "execution": {
     "iopub.execute_input": "2025-07-30T14:06:14.174222Z",
     "iopub.status.busy": "2025-07-30T14:06:14.173302Z",
     "iopub.status.idle": "2025-07-30T14:06:14.178938Z",
     "shell.execute_reply": "2025-07-30T14:06:14.178004Z"
    },
    "papermill": {
     "duration": 0.032743,
     "end_time": "2025-07-30T14:06:14.181045",
     "exception": false,
     "start_time": "2025-07-30T14:06:14.148302",
     "status": "completed"
    },
    "tags": []
   },
   "outputs": [],
   "source": [
    "y_true = y_true.squeeze()"
   ]
  },
  {
   "cell_type": "code",
   "execution_count": 55,
   "id": "3a58a54a-1e68-46b9-927a-df01f18aebc8",
   "metadata": {
    "execution": {
     "iopub.execute_input": "2025-07-30T14:06:14.246195Z",
     "iopub.status.busy": "2025-07-30T14:06:14.245506Z",
     "iopub.status.idle": "2025-07-30T14:06:15.127927Z",
     "shell.execute_reply": "2025-07-30T14:06:15.127046Z"
    },
    "papermill": {
     "duration": 0.917887,
     "end_time": "2025-07-30T14:06:15.130352",
     "exception": false,
     "start_time": "2025-07-30T14:06:14.212465",
     "status": "completed"
    },
    "tags": []
   },
   "outputs": [],
   "source": [
    "from fairness_multiverse.conformal import evaluate_sets\n",
    "\n",
    "# Evaluate coverage and average set size on test data\n",
    "metrics = evaluate_sets(pred_sets, y_true)"
   ]
  },
  {
   "cell_type": "markdown",
   "id": "2b569c12-9aaa-4c88-98c9-bbcd0cf3ebb8",
   "metadata": {
    "papermill": {
     "duration": 0.037273,
     "end_time": "2025-07-30T14:06:15.204606",
     "exception": false,
     "start_time": "2025-07-30T14:06:15.167333",
     "status": "completed"
    },
    "tags": []
   },
   "source": [
    "# CP Metrics"
   ]
  },
  {
   "cell_type": "code",
   "execution_count": 56,
   "id": "5ce0a5cb-201f-45a0-ade5-94c7f0bd6095",
   "metadata": {
    "execution": {
     "iopub.execute_input": "2025-07-30T14:06:15.280480Z",
     "iopub.status.busy": "2025-07-30T14:06:15.279591Z",
     "iopub.status.idle": "2025-07-30T14:06:15.288425Z",
     "shell.execute_reply": "2025-07-30T14:06:15.287219Z"
    },
    "papermill": {
     "duration": 0.048636,
     "end_time": "2025-07-30T14:06:15.290067",
     "exception": false,
     "start_time": "2025-07-30T14:06:15.241431",
     "status": "completed"
    },
    "tags": []
   },
   "outputs": [
    {
     "data": {
      "text/plain": [
       "{'coverage': 0.9104782075576858, 'avg_size': 1.1480659904135548}"
      ]
     },
     "execution_count": 56,
     "metadata": {},
     "output_type": "execute_result"
    }
   ],
   "source": [
    "metrics"
   ]
  },
  {
   "cell_type": "code",
   "execution_count": 57,
   "id": "9b9a838d-31c9-430b-ae14-12baee460d17",
   "metadata": {
    "execution": {
     "iopub.execute_input": "2025-07-30T14:06:15.340807Z",
     "iopub.status.busy": "2025-07-30T14:06:15.339656Z",
     "iopub.status.idle": "2025-07-30T14:06:15.347659Z",
     "shell.execute_reply": "2025-07-30T14:06:15.346416Z"
    },
    "papermill": {
     "duration": 0.035241,
     "end_time": "2025-07-30T14:06:15.349497",
     "exception": false,
     "start_time": "2025-07-30T14:06:15.314256",
     "status": "completed"
    },
    "tags": []
   },
   "outputs": [],
   "source": [
    "example_universe = universe.copy()\n",
    "universe_training_size = example_universe.get(\"training_size\")\n",
    "universe_scale = example_universe.get(\"scale\")\n",
    "universe_model = example_universe.get(\"model\")\n",
    "universe_exclude_features = example_universe.get(\"exclude_features\")\n",
    "universe_exclude_subgroups = example_universe.get(\"exclude_subgroups\")"
   ]
  },
  {
   "cell_type": "code",
   "execution_count": 58,
   "id": "f4b6a8ac-9dc0-4245-8a91-5b3b5999c4f9",
   "metadata": {
    "execution": {
     "iopub.execute_input": "2025-07-30T14:06:15.400492Z",
     "iopub.status.busy": "2025-07-30T14:06:15.399454Z",
     "iopub.status.idle": "2025-07-30T14:06:15.407641Z",
     "shell.execute_reply": "2025-07-30T14:06:15.406483Z"
    },
    "papermill": {
     "duration": 0.0354,
     "end_time": "2025-07-30T14:06:15.409330",
     "exception": false,
     "start_time": "2025-07-30T14:06:15.373930",
     "status": "completed"
    },
    "tags": []
   },
   "outputs": [],
   "source": [
    "cp_metrics_dict = {\n",
    "    \"universe_id\": [universe_id],\n",
    "    \"universe_training_size\": [universe_training_size],\n",
    "    \"universe_scale\": [universe_scale],\n",
    "    \"universe_model\": [universe_model],\n",
    "    \"universe_exclude_features\": [universe_exclude_features],\n",
    "    \"universe_exclude_subgroups\": [universe_exclude_subgroups],\n",
    "    \"q_hat\": [q_hat],\n",
    "    \"coverage\": [metrics[\"coverage\"]],\n",
    "    \"avg_size\": [metrics[\"avg_size\"]],\n",
    "}"
   ]
  },
  {
   "cell_type": "code",
   "execution_count": 59,
   "id": "908acbb1-0371-4915-85ca-3fa520d2efe2",
   "metadata": {
    "execution": {
     "iopub.execute_input": "2025-07-30T14:06:15.460712Z",
     "iopub.status.busy": "2025-07-30T14:06:15.459680Z",
     "iopub.status.idle": "2025-07-30T14:06:15.469964Z",
     "shell.execute_reply": "2025-07-30T14:06:15.468775Z"
    },
    "papermill": {
     "duration": 0.03781,
     "end_time": "2025-07-30T14:06:15.471791",
     "exception": false,
     "start_time": "2025-07-30T14:06:15.433981",
     "status": "completed"
    },
    "tags": []
   },
   "outputs": [
    {
     "data": {
      "text/plain": [
       "{'universe_id': ['194bb59a20d98ce77c78aeea962e6fe2'],\n",
       " 'universe_training_size': ['5k'],\n",
       " 'universe_scale': ['scale'],\n",
       " 'universe_model': ['logreg'],\n",
       " 'universe_exclude_features': ['none'],\n",
       " 'universe_exclude_subgroups': ['drop-non-german'],\n",
       " 'q_hat': [0.6851123866432449],\n",
       " 'coverage': [0.9104782075576858],\n",
       " 'avg_size': [1.1480659904135548]}"
      ]
     },
     "execution_count": 59,
     "metadata": {},
     "output_type": "execute_result"
    }
   ],
   "source": [
    "cp_metrics_dict"
   ]
  },
  {
   "cell_type": "code",
   "execution_count": 60,
   "id": "33007efc-14e9-4ec6-97ac-56a455c82265",
   "metadata": {
    "execution": {
     "iopub.execute_input": "2025-07-30T14:06:15.523099Z",
     "iopub.status.busy": "2025-07-30T14:06:15.522388Z",
     "iopub.status.idle": "2025-07-30T14:06:15.531176Z",
     "shell.execute_reply": "2025-07-30T14:06:15.530029Z"
    },
    "papermill": {
     "duration": 0.03652,
     "end_time": "2025-07-30T14:06:15.532821",
     "exception": false,
     "start_time": "2025-07-30T14:06:15.496301",
     "status": "completed"
    },
    "tags": []
   },
   "outputs": [],
   "source": [
    "cp_metrics_df = pd.DataFrame(cp_metrics_dict)"
   ]
  },
  {
   "cell_type": "code",
   "execution_count": 61,
   "id": "db12611b-57b2-4910-b9d0-355adfd6e7bf",
   "metadata": {
    "execution": {
     "iopub.execute_input": "2025-07-30T14:06:15.584235Z",
     "iopub.status.busy": "2025-07-30T14:06:15.583318Z",
     "iopub.status.idle": "2025-07-30T14:06:15.607965Z",
     "shell.execute_reply": "2025-07-30T14:06:15.606912Z"
    },
    "papermill": {
     "duration": 0.052102,
     "end_time": "2025-07-30T14:06:15.609641",
     "exception": false,
     "start_time": "2025-07-30T14:06:15.557539",
     "status": "completed"
    },
    "tags": []
   },
   "outputs": [
    {
     "data": {
      "text/html": [
       "<div>\n",
       "<style scoped>\n",
       "    .dataframe tbody tr th:only-of-type {\n",
       "        vertical-align: middle;\n",
       "    }\n",
       "\n",
       "    .dataframe tbody tr th {\n",
       "        vertical-align: top;\n",
       "    }\n",
       "\n",
       "    .dataframe thead th {\n",
       "        text-align: right;\n",
       "    }\n",
       "</style>\n",
       "<table border=\"1\" class=\"dataframe\">\n",
       "  <thead>\n",
       "    <tr style=\"text-align: right;\">\n",
       "      <th></th>\n",
       "      <th>universe_id</th>\n",
       "      <th>universe_training_size</th>\n",
       "      <th>universe_scale</th>\n",
       "      <th>universe_model</th>\n",
       "      <th>universe_exclude_features</th>\n",
       "      <th>universe_exclude_subgroups</th>\n",
       "      <th>q_hat</th>\n",
       "      <th>coverage</th>\n",
       "      <th>avg_size</th>\n",
       "    </tr>\n",
       "  </thead>\n",
       "  <tbody>\n",
       "    <tr>\n",
       "      <th>0</th>\n",
       "      <td>194bb59a20d98ce77c78aeea962e6fe2</td>\n",
       "      <td>5k</td>\n",
       "      <td>scale</td>\n",
       "      <td>logreg</td>\n",
       "      <td>none</td>\n",
       "      <td>drop-non-german</td>\n",
       "      <td>0.685112</td>\n",
       "      <td>0.910478</td>\n",
       "      <td>1.148066</td>\n",
       "    </tr>\n",
       "  </tbody>\n",
       "</table>\n",
       "</div>"
      ],
      "text/plain": [
       "                        universe_id universe_training_size universe_scale  \\\n",
       "0  194bb59a20d98ce77c78aeea962e6fe2                     5k          scale   \n",
       "\n",
       "  universe_model universe_exclude_features universe_exclude_subgroups  \\\n",
       "0         logreg                      none            drop-non-german   \n",
       "\n",
       "      q_hat  coverage  avg_size  \n",
       "0  0.685112  0.910478  1.148066  "
      ]
     },
     "execution_count": 61,
     "metadata": {},
     "output_type": "execute_result"
    }
   ],
   "source": [
    "cp_metrics_df"
   ]
  },
  {
   "cell_type": "code",
   "execution_count": 62,
   "id": "b7fbde55-a0a1-47e4-9af6-fe4a17fa8c61",
   "metadata": {
    "execution": {
     "iopub.execute_input": "2025-07-30T14:06:15.697232Z",
     "iopub.status.busy": "2025-07-30T14:06:15.696815Z",
     "iopub.status.idle": "2025-07-30T14:06:15.701544Z",
     "shell.execute_reply": "2025-07-30T14:06:15.700769Z"
    },
    "papermill": {
     "duration": 0.067367,
     "end_time": "2025-07-30T14:06:15.702770",
     "exception": false,
     "start_time": "2025-07-30T14:06:15.635403",
     "status": "completed"
    },
    "tags": []
   },
   "outputs": [],
   "source": [
    "# Conditional Coverage & looking at subgroups"
   ]
  },
  {
   "cell_type": "code",
   "execution_count": 63,
   "id": "027ae886-68dd-4141-96c7-805a5450e1ef",
   "metadata": {
    "execution": {
     "iopub.execute_input": "2025-07-30T14:06:15.736545Z",
     "iopub.status.busy": "2025-07-30T14:06:15.735734Z",
     "iopub.status.idle": "2025-07-30T14:06:15.984119Z",
     "shell.execute_reply": "2025-07-30T14:06:15.982991Z"
    },
    "papermill": {
     "duration": 0.26815,
     "end_time": "2025-07-30T14:06:15.985958",
     "exception": false,
     "start_time": "2025-07-30T14:06:15.717808",
     "status": "completed"
    },
    "tags": []
   },
   "outputs": [],
   "source": [
    "from fairness_multiverse.conformal import build_cp_groups\n",
    "\n",
    "cp_groups_df = build_cp_groups(pred_sets, y_true, X_test.index, org_test)\n",
    "#needs universe_id and setting"
   ]
  },
  {
   "cell_type": "code",
   "execution_count": 64,
   "id": "01d5802c-663a-4d1f-9d69-e036faaffbf7",
   "metadata": {
    "execution": {
     "iopub.execute_input": "2025-07-30T14:06:16.044009Z",
     "iopub.status.busy": "2025-07-30T14:06:16.042301Z",
     "iopub.status.idle": "2025-07-30T14:06:16.048292Z",
     "shell.execute_reply": "2025-07-30T14:06:16.047374Z"
    },
    "papermill": {
     "duration": 0.048488,
     "end_time": "2025-07-30T14:06:16.061155",
     "exception": false,
     "start_time": "2025-07-30T14:06:16.012667",
     "status": "completed"
    },
    "tags": []
   },
   "outputs": [],
   "source": [
    "#delete\n",
    "#cp_groups_df"
   ]
  },
  {
   "cell_type": "code",
   "execution_count": 65,
   "id": "fa424af1-d1eb-443d-b717-2d279ada8408",
   "metadata": {
    "execution": {
     "iopub.execute_input": "2025-07-30T14:06:16.113766Z",
     "iopub.status.busy": "2025-07-30T14:06:16.112914Z",
     "iopub.status.idle": "2025-07-30T14:06:16.117902Z",
     "shell.execute_reply": "2025-07-30T14:06:16.117063Z"
    },
    "papermill": {
     "duration": 0.032393,
     "end_time": "2025-07-30T14:06:16.119506",
     "exception": false,
     "start_time": "2025-07-30T14:06:16.087113",
     "status": "completed"
    },
    "tags": []
   },
   "outputs": [],
   "source": [
    "#delete\n",
    "#percentage = (cp_groups_df['nongerman_female'] == 1).mean() * 100\n",
    "#print(percentage)\n"
   ]
  },
  {
   "cell_type": "code",
   "execution_count": 66,
   "id": "6cbdab96-b2b2-45af-ad54-d0516db2e28d",
   "metadata": {
    "execution": {
     "iopub.execute_input": "2025-07-30T14:06:16.173958Z",
     "iopub.status.busy": "2025-07-30T14:06:16.173498Z",
     "iopub.status.idle": "2025-07-30T14:06:17.641915Z",
     "shell.execute_reply": "2025-07-30T14:06:17.641046Z"
    },
    "papermill": {
     "duration": 1.49877,
     "end_time": "2025-07-30T14:06:17.644784",
     "exception": false,
     "start_time": "2025-07-30T14:06:16.146014",
     "status": "completed"
    },
    "tags": []
   },
   "outputs": [],
   "source": [
    "# Define covered = 1 if true_label is in the predicted set\n",
    "cp_groups_df['covered'] = cp_groups_df.apply(\n",
    "    lambda r: int(r['true_label'] in r['pred_set']),\n",
    "    axis=1\n",
    ")"
   ]
  },
  {
   "cell_type": "code",
   "execution_count": 67,
   "id": "338ff529-1a6b-4b87-a931-8e4788d52aad",
   "metadata": {
    "execution": {
     "iopub.execute_input": "2025-07-30T14:06:17.700905Z",
     "iopub.status.busy": "2025-07-30T14:06:17.700301Z",
     "iopub.status.idle": "2025-07-30T14:06:17.705608Z",
     "shell.execute_reply": "2025-07-30T14:06:17.704711Z"
    },
    "papermill": {
     "duration": 0.034855,
     "end_time": "2025-07-30T14:06:17.706997",
     "exception": false,
     "start_time": "2025-07-30T14:06:17.672142",
     "status": "completed"
    },
    "tags": []
   },
   "outputs": [],
   "source": [
    "#cp_groups_df"
   ]
  },
  {
   "cell_type": "code",
   "execution_count": 68,
   "id": "90032e27-66df-4540-9169-4e89cfbaa758",
   "metadata": {
    "execution": {
     "iopub.execute_input": "2025-07-30T14:06:17.763225Z",
     "iopub.status.busy": "2025-07-30T14:06:17.762783Z",
     "iopub.status.idle": "2025-07-30T14:06:17.775359Z",
     "shell.execute_reply": "2025-07-30T14:06:17.774480Z"
    },
    "papermill": {
     "duration": 0.042151,
     "end_time": "2025-07-30T14:06:17.777061",
     "exception": false,
     "start_time": "2025-07-30T14:06:17.734910",
     "status": "completed"
    },
    "tags": []
   },
   "outputs": [],
   "source": [
    "subgroups = ['frau1','nongerman','nongerman_male','nongerman_female']\n",
    "\n",
    "# Conditional coverage for subgroup==1\n",
    "cond_coverage = {\n",
    "    g: cp_groups_df.loc[cp_groups_df[g]==1, 'covered'].mean()\n",
    "    for g in subgroups\n",
    "}"
   ]
  },
  {
   "cell_type": "code",
   "execution_count": 69,
   "id": "1e348fb1-b9c3-45bc-ba23-f016827a7e0d",
   "metadata": {
    "execution": {
     "iopub.execute_input": "2025-07-30T14:06:17.831614Z",
     "iopub.status.busy": "2025-07-30T14:06:17.830891Z",
     "iopub.status.idle": "2025-07-30T14:06:17.839672Z",
     "shell.execute_reply": "2025-07-30T14:06:17.838796Z"
    },
    "papermill": {
     "duration": 0.038969,
     "end_time": "2025-07-30T14:06:17.841196",
     "exception": false,
     "start_time": "2025-07-30T14:06:17.802227",
     "status": "completed"
    },
    "tags": []
   },
   "outputs": [
    {
     "data": {
      "text/plain": [
       "{'frau1': 0.9081816956463136,\n",
       " 'nongerman': 0.9126480660191995,\n",
       " 'nongerman_male': 0.9280374673511663,\n",
       " 'nongerman_female': 0.8871833084947839}"
      ]
     },
     "execution_count": 69,
     "metadata": {},
     "output_type": "execute_result"
    }
   ],
   "source": [
    "cond_coverage"
   ]
  },
  {
   "cell_type": "code",
   "execution_count": 70,
   "id": "f5093324-c3dd-4d63-bc4c-8d945e5c8bbb",
   "metadata": {
    "execution": {
     "iopub.execute_input": "2025-07-30T14:06:17.893229Z",
     "iopub.status.busy": "2025-07-30T14:06:17.892457Z",
     "iopub.status.idle": "2025-07-30T14:06:17.899931Z",
     "shell.execute_reply": "2025-07-30T14:06:17.898772Z"
    },
    "papermill": {
     "duration": 0.035177,
     "end_time": "2025-07-30T14:06:17.901947",
     "exception": false,
     "start_time": "2025-07-30T14:06:17.866770",
     "status": "completed"
    },
    "tags": []
   },
   "outputs": [],
   "source": [
    "for subgroup, cov in cond_coverage.items():\n",
    "    cp_metrics_df[f\"cov_{subgroup}\"] = cov"
   ]
  },
  {
   "cell_type": "code",
   "execution_count": 71,
   "id": "6e872e10-dbe5-49e8-b554-5030c98ff75d",
   "metadata": {
    "execution": {
     "iopub.execute_input": "2025-07-30T14:06:17.957031Z",
     "iopub.status.busy": "2025-07-30T14:06:17.956553Z",
     "iopub.status.idle": "2025-07-30T14:06:17.976974Z",
     "shell.execute_reply": "2025-07-30T14:06:17.975876Z"
    },
    "papermill": {
     "duration": 0.050687,
     "end_time": "2025-07-30T14:06:17.978977",
     "exception": false,
     "start_time": "2025-07-30T14:06:17.928290",
     "status": "completed"
    },
    "tags": []
   },
   "outputs": [
    {
     "data": {
      "text/html": [
       "<div>\n",
       "<style scoped>\n",
       "    .dataframe tbody tr th:only-of-type {\n",
       "        vertical-align: middle;\n",
       "    }\n",
       "\n",
       "    .dataframe tbody tr th {\n",
       "        vertical-align: top;\n",
       "    }\n",
       "\n",
       "    .dataframe thead th {\n",
       "        text-align: right;\n",
       "    }\n",
       "</style>\n",
       "<table border=\"1\" class=\"dataframe\">\n",
       "  <thead>\n",
       "    <tr style=\"text-align: right;\">\n",
       "      <th></th>\n",
       "      <th>universe_id</th>\n",
       "      <th>universe_training_size</th>\n",
       "      <th>universe_scale</th>\n",
       "      <th>universe_model</th>\n",
       "      <th>universe_exclude_features</th>\n",
       "      <th>universe_exclude_subgroups</th>\n",
       "      <th>q_hat</th>\n",
       "      <th>coverage</th>\n",
       "      <th>avg_size</th>\n",
       "      <th>cov_frau1</th>\n",
       "      <th>cov_nongerman</th>\n",
       "      <th>cov_nongerman_male</th>\n",
       "      <th>cov_nongerman_female</th>\n",
       "    </tr>\n",
       "  </thead>\n",
       "  <tbody>\n",
       "    <tr>\n",
       "      <th>0</th>\n",
       "      <td>194bb59a20d98ce77c78aeea962e6fe2</td>\n",
       "      <td>5k</td>\n",
       "      <td>scale</td>\n",
       "      <td>logreg</td>\n",
       "      <td>none</td>\n",
       "      <td>drop-non-german</td>\n",
       "      <td>0.685112</td>\n",
       "      <td>0.910478</td>\n",
       "      <td>1.148066</td>\n",
       "      <td>0.908182</td>\n",
       "      <td>0.912648</td>\n",
       "      <td>0.928037</td>\n",
       "      <td>0.887183</td>\n",
       "    </tr>\n",
       "  </tbody>\n",
       "</table>\n",
       "</div>"
      ],
      "text/plain": [
       "                        universe_id universe_training_size universe_scale  \\\n",
       "0  194bb59a20d98ce77c78aeea962e6fe2                     5k          scale   \n",
       "\n",
       "  universe_model universe_exclude_features universe_exclude_subgroups  \\\n",
       "0         logreg                      none            drop-non-german   \n",
       "\n",
       "      q_hat  coverage  avg_size  cov_frau1  cov_nongerman  cov_nongerman_male  \\\n",
       "0  0.685112  0.910478  1.148066   0.908182       0.912648            0.928037   \n",
       "\n",
       "   cov_nongerman_female  \n",
       "0              0.887183  "
      ]
     },
     "execution_count": 71,
     "metadata": {},
     "output_type": "execute_result"
    }
   ],
   "source": [
    "cp_metrics_df"
   ]
  },
  {
   "cell_type": "markdown",
   "id": "33774451",
   "metadata": {
    "papermill": {
     "duration": 0.039379,
     "end_time": "2025-07-30T14:06:18.058292",
     "exception": false,
     "start_time": "2025-07-30T14:06:18.018913",
     "status": "completed"
    },
    "tags": []
   },
   "source": [
    "# (Fairness) Metrics"
   ]
  },
  {
   "cell_type": "code",
   "execution_count": 72,
   "id": "debc5d62",
   "metadata": {
    "execution": {
     "iopub.execute_input": "2025-07-30T14:06:18.093389Z",
     "iopub.status.busy": "2025-07-30T14:06:18.092884Z",
     "iopub.status.idle": "2025-07-30T14:06:18.107651Z",
     "shell.execute_reply": "2025-07-30T14:06:18.106841Z"
    },
    "papermill": {
     "duration": 0.035142,
     "end_time": "2025-07-30T14:06:18.109426",
     "exception": false,
     "start_time": "2025-07-30T14:06:18.074284",
     "status": "completed"
    },
    "tags": []
   },
   "outputs": [],
   "source": [
    "# do I need to include maxdeutsch1.missing?\n",
    "\n",
    "import numpy as np\n",
    "\n",
    "colname_to_bin = \"maxdeutsch1\"\n",
    "majority_value = org_train[colname_to_bin].mode()[0]\n",
    "\n",
    "org_test[\"majmin\"] = np.where(org_test[colname_to_bin] == majority_value, \"majority\", \"minority\")"
   ]
  },
  {
   "cell_type": "code",
   "execution_count": 73,
   "id": "06a50de5",
   "metadata": {
    "execution": {
     "iopub.execute_input": "2025-07-30T14:06:18.166253Z",
     "iopub.status.busy": "2025-07-30T14:06:18.165551Z",
     "iopub.status.idle": "2025-07-30T14:06:20.735504Z",
     "shell.execute_reply": "2025-07-30T14:06:20.734768Z"
    },
    "papermill": {
     "duration": 2.599628,
     "end_time": "2025-07-30T14:06:20.736874",
     "exception": false,
     "start_time": "2025-07-30T14:06:18.137246",
     "status": "completed"
    },
    "tags": []
   },
   "outputs": [],
   "source": [
    "example_universe = universe.copy()\n",
    "example_universe[\"cutoff\"] = example_universe[\"cutoff\"][0]\n",
    "example_universe[\"eval_fairness_grouping\"] = example_universe[\"eval_fairness_grouping\"][0]\n",
    "fairness_dict, metric_frame = universe_analysis.compute_metrics(\n",
    "    example_universe,\n",
    "    y_pred_prob=probs_test,\n",
    "    y_test=y_true,\n",
    "    org_test=org_test,\n",
    ")"
   ]
  },
  {
   "cell_type": "markdown",
   "id": "f95d4e02",
   "metadata": {
    "papermill": {
     "duration": 0.013316,
     "end_time": "2025-07-30T14:06:20.764672",
     "exception": false,
     "start_time": "2025-07-30T14:06:20.751356",
     "status": "completed"
    },
    "tags": []
   },
   "source": [
    "# Overall"
   ]
  },
  {
   "cell_type": "markdown",
   "id": "bdee4871",
   "metadata": {
    "papermill": {
     "duration": 0.013346,
     "end_time": "2025-07-30T14:06:20.791644",
     "exception": false,
     "start_time": "2025-07-30T14:06:20.778298",
     "status": "completed"
    },
    "tags": []
   },
   "source": [
    "Fairness\n",
    "Main fairness target: Equalized Odds. Seems to be a better fit than equal opportunity, since we're not only interested in Y = 1. Seems to be a better fit than demographic parity, since we also care about accuracy, not just equal distribution of preds.\n",
    "\n",
    "Pick column for computation of fairness metrics\n",
    "\n",
    "Performance\n",
    "Overall performance measures, most interesting in relation to the measures split by group below"
   ]
  },
  {
   "cell_type": "code",
   "execution_count": 74,
   "id": "c4e067c6",
   "metadata": {
    "execution": {
     "iopub.execute_input": "2025-07-30T14:06:20.819848Z",
     "iopub.status.busy": "2025-07-30T14:06:20.819447Z",
     "iopub.status.idle": "2025-07-30T14:06:20.826838Z",
     "shell.execute_reply": "2025-07-30T14:06:20.826094Z"
    },
    "papermill": {
     "duration": 0.023201,
     "end_time": "2025-07-30T14:06:20.828180",
     "exception": false,
     "start_time": "2025-07-30T14:06:20.804979",
     "status": "completed"
    },
    "tags": []
   },
   "outputs": [
    {
     "data": {
      "text/plain": [
       "accuracy                   0.222907\n",
       "balanced accuracy          0.545346\n",
       "f1                         0.244279\n",
       "precision                  0.139548\n",
       "false positive rate        0.888366\n",
       "false negative rate        0.020942\n",
       "selection rate             0.900000\n",
       "count                  89710.000000\n",
       "dtype: float64"
      ]
     },
     "execution_count": 74,
     "metadata": {},
     "output_type": "execute_result"
    }
   ],
   "source": [
    "metric_frame.overall"
   ]
  },
  {
   "cell_type": "markdown",
   "id": "e968fe9d",
   "metadata": {
    "papermill": {
     "duration": 0.014051,
     "end_time": "2025-07-30T14:06:20.857010",
     "exception": false,
     "start_time": "2025-07-30T14:06:20.842959",
     "status": "completed"
    },
    "tags": []
   },
   "source": [
    "By Group"
   ]
  },
  {
   "cell_type": "code",
   "execution_count": 75,
   "id": "ec325bce",
   "metadata": {
    "execution": {
     "iopub.execute_input": "2025-07-30T14:06:20.890679Z",
     "iopub.status.busy": "2025-07-30T14:06:20.890263Z",
     "iopub.status.idle": "2025-07-30T14:06:20.906830Z",
     "shell.execute_reply": "2025-07-30T14:06:20.905782Z"
    },
    "papermill": {
     "duration": 0.037725,
     "end_time": "2025-07-30T14:06:20.908603",
     "exception": false,
     "start_time": "2025-07-30T14:06:20.870878",
     "status": "completed"
    },
    "tags": []
   },
   "outputs": [
    {
     "data": {
      "text/html": [
       "<div>\n",
       "<style scoped>\n",
       "    .dataframe tbody tr th:only-of-type {\n",
       "        vertical-align: middle;\n",
       "    }\n",
       "\n",
       "    .dataframe tbody tr th {\n",
       "        vertical-align: top;\n",
       "    }\n",
       "\n",
       "    .dataframe thead th {\n",
       "        text-align: right;\n",
       "    }\n",
       "</style>\n",
       "<table border=\"1\" class=\"dataframe\">\n",
       "  <thead>\n",
       "    <tr style=\"text-align: right;\">\n",
       "      <th></th>\n",
       "      <th>accuracy</th>\n",
       "      <th>balanced accuracy</th>\n",
       "      <th>f1</th>\n",
       "      <th>precision</th>\n",
       "      <th>false positive rate</th>\n",
       "      <th>false negative rate</th>\n",
       "      <th>selection rate</th>\n",
       "      <th>count</th>\n",
       "    </tr>\n",
       "    <tr>\n",
       "      <th>majmin</th>\n",
       "      <th></th>\n",
       "      <th></th>\n",
       "      <th></th>\n",
       "      <th></th>\n",
       "      <th></th>\n",
       "      <th></th>\n",
       "      <th></th>\n",
       "      <th></th>\n",
       "    </tr>\n",
       "  </thead>\n",
       "  <tbody>\n",
       "    <tr>\n",
       "      <th>majority</th>\n",
       "      <td>0.242229</td>\n",
       "      <td>0.553827</td>\n",
       "      <td>0.254208</td>\n",
       "      <td>0.146105</td>\n",
       "      <td>0.869698</td>\n",
       "      <td>0.022648</td>\n",
       "      <td>0.883924</td>\n",
       "      <td>69170.0</td>\n",
       "    </tr>\n",
       "    <tr>\n",
       "      <th>minority</th>\n",
       "      <td>0.157838</td>\n",
       "      <td>0.517804</td>\n",
       "      <td>0.212510</td>\n",
       "      <td>0.119094</td>\n",
       "      <td>0.950033</td>\n",
       "      <td>0.014358</td>\n",
       "      <td>0.954138</td>\n",
       "      <td>20540.0</td>\n",
       "    </tr>\n",
       "  </tbody>\n",
       "</table>\n",
       "</div>"
      ],
      "text/plain": [
       "          accuracy  balanced accuracy        f1  precision  \\\n",
       "majmin                                                       \n",
       "majority  0.242229           0.553827  0.254208   0.146105   \n",
       "minority  0.157838           0.517804  0.212510   0.119094   \n",
       "\n",
       "          false positive rate  false negative rate  selection rate    count  \n",
       "majmin                                                                       \n",
       "majority             0.869698             0.022648        0.883924  69170.0  \n",
       "minority             0.950033             0.014358        0.954138  20540.0  "
      ]
     },
     "execution_count": 75,
     "metadata": {},
     "output_type": "execute_result"
    }
   ],
   "source": [
    "metric_frame.by_group"
   ]
  },
  {
   "cell_type": "code",
   "execution_count": 76,
   "id": "a9ddbe63",
   "metadata": {
    "execution": {
     "iopub.execute_input": "2025-07-30T14:06:20.969420Z",
     "iopub.status.busy": "2025-07-30T14:06:20.968923Z",
     "iopub.status.idle": "2025-07-30T14:06:23.172773Z",
     "shell.execute_reply": "2025-07-30T14:06:23.171746Z"
    },
    "papermill": {
     "duration": 2.235236,
     "end_time": "2025-07-30T14:06:23.174037",
     "exception": false,
     "start_time": "2025-07-30T14:06:20.938801",
     "status": "completed"
    },
    "tags": []
   },
   "outputs": [
    {
     "data": {
      "text/plain": [
       "array([[<Axes: title={'center': 'accuracy'}, xlabel='majmin'>,\n",
       "        <Axes: title={'center': 'balanced accuracy'}, xlabel='majmin'>,\n",
       "        <Axes: title={'center': 'f1'}, xlabel='majmin'>],\n",
       "       [<Axes: title={'center': 'precision'}, xlabel='majmin'>,\n",
       "        <Axes: title={'center': 'false positive rate'}, xlabel='majmin'>,\n",
       "        <Axes: title={'center': 'false negative rate'}, xlabel='majmin'>],\n",
       "       [<Axes: title={'center': 'selection rate'}, xlabel='majmin'>,\n",
       "        <Axes: title={'center': 'count'}, xlabel='majmin'>,\n",
       "        <Axes: xlabel='majmin'>]], dtype=object)"
      ]
     },
     "execution_count": 76,
     "metadata": {},
     "output_type": "execute_result"
    },
    {
     "data": {
      "image/png": "[encoded data removed]",
      "text/plain": [
       "<Figure size 1200x800 with 9 Axes>"
      ]
     },
     "metadata": {},
     "output_type": "display_data"
    }
   ],
   "source": [
    "# In a graphic\n",
    "metric_frame.by_group.plot.bar(\n",
    "    subplots=True,\n",
    "    layout=[3, 3],\n",
    "    legend=False,\n",
    "    figsize=[12, 8],\n",
    "    title=\"Show all metrics\",\n",
    ")"
   ]
  },
  {
   "cell_type": "markdown",
   "id": "f57a0bac",
   "metadata": {
    "papermill": {
     "duration": 0.032984,
     "end_time": "2025-07-30T14:06:23.244557",
     "exception": false,
     "start_time": "2025-07-30T14:06:23.211573",
     "status": "completed"
    },
    "tags": []
   },
   "source": [
    "# Final Output"
   ]
  },
  {
   "cell_type": "code",
   "execution_count": 77,
   "id": "96d280a3",
   "metadata": {
    "execution": {
     "iopub.execute_input": "2025-07-30T14:06:23.300779Z",
     "iopub.status.busy": "2025-07-30T14:06:23.299775Z",
     "iopub.status.idle": "2025-07-30T14:06:23.308005Z",
     "shell.execute_reply": "2025-07-30T14:06:23.307193Z"
    },
    "papermill": {
     "duration": 0.037326,
     "end_time": "2025-07-30T14:06:23.309550",
     "exception": false,
     "start_time": "2025-07-30T14:06:23.272224",
     "status": "completed"
    },
    "tags": []
   },
   "outputs": [
    {
     "data": {
      "text/plain": [
       "4"
      ]
     },
     "execution_count": 77,
     "metadata": {},
     "output_type": "execute_result"
    }
   ],
   "source": [
    "sub_universes = universe_analysis.generate_sub_universes()\n",
    "len(sub_universes)"
   ]
  },
  {
   "cell_type": "code",
   "execution_count": 78,
   "id": "92adf7ba",
   "metadata": {
    "execution": {
     "iopub.execute_input": "2025-07-30T14:06:23.365981Z",
     "iopub.status.busy": "2025-07-30T14:06:23.365368Z",
     "iopub.status.idle": "2025-07-30T14:06:23.371027Z",
     "shell.execute_reply": "2025-07-30T14:06:23.370183Z"
    },
    "papermill": {
     "duration": 0.036025,
     "end_time": "2025-07-30T14:06:23.372497",
     "exception": false,
     "start_time": "2025-07-30T14:06:23.336472",
     "status": "completed"
    },
    "tags": []
   },
   "outputs": [],
   "source": [
    "def filter_sub_universe_data(sub_universe, org_test):\n",
    "    # Keep all rows — no filtering\n",
    "    keep_rows_mask = np.ones(org_test.shape[0], dtype=bool)\n",
    "\n",
    "    print(f\"[INFO] Keeping all rows: {keep_rows_mask.sum()} rows retained.\")\n",
    "    return keep_rows_mask"
   ]
  },
  {
   "cell_type": "code",
   "execution_count": 79,
   "id": "4a759155",
   "metadata": {
    "execution": {
     "iopub.execute_input": "2025-07-30T14:06:23.428080Z",
     "iopub.status.busy": "2025-07-30T14:06:23.427348Z",
     "iopub.status.idle": "2025-07-30T14:06:34.799330Z",
     "shell.execute_reply": "2025-07-30T14:06:34.798321Z"
    },
    "papermill": {
     "duration": 11.401424,
     "end_time": "2025-07-30T14:06:34.800894",
     "exception": false,
     "start_time": "2025-07-30T14:06:23.399470",
     "status": "completed"
    },
    "tags": []
   },
   "outputs": [
    {
     "name": "stdout",
     "output_type": "stream",
     "text": [
      "Stopping execution_time clock.\n",
      "[INFO] Keeping all rows: 89710 rows retained.\n"
     ]
    },
    {
     "name": "stdout",
     "output_type": "stream",
     "text": [
      "[INFO] Keeping all rows: 89710 rows retained.\n"
     ]
    },
    {
     "name": "stdout",
     "output_type": "stream",
     "text": [
      "[INFO] Keeping all rows: 89710 rows retained.\n"
     ]
    },
    {
     "name": "stdout",
     "output_type": "stream",
     "text": [
      "[INFO] Keeping all rows: 89710 rows retained.\n"
     ]
    },
    {
     "data": {
      "text/html": [
       "<div>\n",
       "<style scoped>\n",
       "    .dataframe tbody tr th:only-of-type {\n",
       "        vertical-align: middle;\n",
       "    }\n",
       "\n",
       "    .dataframe tbody tr th {\n",
       "        vertical-align: top;\n",
       "    }\n",
       "\n",
       "    .dataframe thead th {\n",
       "        text-align: right;\n",
       "    }\n",
       "</style>\n",
       "<table border=\"1\" class=\"dataframe\">\n",
       "  <thead>\n",
       "    <tr style=\"text-align: right;\">\n",
       "      <th></th>\n",
       "      <th>run_no</th>\n",
       "      <th>universe_id</th>\n",
       "      <th>universe_settings</th>\n",
       "      <th>execution_time</th>\n",
       "      <th>test_size_n</th>\n",
       "      <th>test_size_frac</th>\n",
       "      <th>fair_main_equalized_odds_difference</th>\n",
       "      <th>fair_main_equalized_odds_ratio</th>\n",
       "      <th>fair_main_demographic_parity_difference</th>\n",
       "      <th>fair_main_demographic_parity_ratio</th>\n",
       "      <th>...</th>\n",
       "      <th>perf_grp_precision_0</th>\n",
       "      <th>perf_grp_precision_1</th>\n",
       "      <th>perf_grp_false positive rate_0</th>\n",
       "      <th>perf_grp_false positive rate_1</th>\n",
       "      <th>perf_grp_false negative rate_0</th>\n",
       "      <th>perf_grp_false negative rate_1</th>\n",
       "      <th>perf_grp_selection rate_0</th>\n",
       "      <th>perf_grp_selection rate_1</th>\n",
       "      <th>perf_grp_count_0</th>\n",
       "      <th>perf_grp_count_1</th>\n",
       "    </tr>\n",
       "  </thead>\n",
       "  <tbody>\n",
       "    <tr>\n",
       "      <th>0</th>\n",
       "      <td>12</td>\n",
       "      <td>194bb59a20d98ce77c78aeea962e6fe2</td>\n",
       "      <td>{\"cutoff\": \"quantile_0.1\", \"eval_fairness_grou...</td>\n",
       "      <td>27.613732</td>\n",
       "      <td>89710</td>\n",
       "      <td>1.0</td>\n",
       "      <td>0.080335</td>\n",
       "      <td>0.91544</td>\n",
       "      <td>0.070215</td>\n",
       "      <td>0.926410</td>\n",
       "      <td>...</td>\n",
       "      <td>NaN</td>\n",
       "      <td>NaN</td>\n",
       "      <td>NaN</td>\n",
       "      <td>NaN</td>\n",
       "      <td>NaN</td>\n",
       "      <td>NaN</td>\n",
       "      <td>NaN</td>\n",
       "      <td>NaN</td>\n",
       "      <td>NaN</td>\n",
       "      <td>NaN</td>\n",
       "    </tr>\n",
       "    <tr>\n",
       "      <th>0</th>\n",
       "      <td>12</td>\n",
       "      <td>194bb59a20d98ce77c78aeea962e6fe2</td>\n",
       "      <td>{\"cutoff\": \"quantile_0.1\", \"eval_fairness_grou...</td>\n",
       "      <td>27.613732</td>\n",
       "      <td>89710</td>\n",
       "      <td>1.0</td>\n",
       "      <td>0.080335</td>\n",
       "      <td>0.91544</td>\n",
       "      <td>0.070215</td>\n",
       "      <td>0.926410</td>\n",
       "      <td>...</td>\n",
       "      <td>0.119094</td>\n",
       "      <td>0.146105</td>\n",
       "      <td>0.950033</td>\n",
       "      <td>0.869698</td>\n",
       "      <td>0.014358</td>\n",
       "      <td>0.022648</td>\n",
       "      <td>0.954138</td>\n",
       "      <td>0.883924</td>\n",
       "      <td>20540.0</td>\n",
       "      <td>69170.0</td>\n",
       "    </tr>\n",
       "    <tr>\n",
       "      <th>0</th>\n",
       "      <td>12</td>\n",
       "      <td>194bb59a20d98ce77c78aeea962e6fe2</td>\n",
       "      <td>{\"cutoff\": \"quantile_0.25\", \"eval_fairness_gro...</td>\n",
       "      <td>27.613732</td>\n",
       "      <td>89710</td>\n",
       "      <td>1.0</td>\n",
       "      <td>0.183527</td>\n",
       "      <td>0.78763</td>\n",
       "      <td>0.161210</td>\n",
       "      <td>0.815611</td>\n",
       "      <td>...</td>\n",
       "      <td>NaN</td>\n",
       "      <td>NaN</td>\n",
       "      <td>NaN</td>\n",
       "      <td>NaN</td>\n",
       "      <td>NaN</td>\n",
       "      <td>NaN</td>\n",
       "      <td>NaN</td>\n",
       "      <td>NaN</td>\n",
       "      <td>NaN</td>\n",
       "      <td>NaN</td>\n",
       "    </tr>\n",
       "    <tr>\n",
       "      <th>0</th>\n",
       "      <td>12</td>\n",
       "      <td>194bb59a20d98ce77c78aeea962e6fe2</td>\n",
       "      <td>{\"cutoff\": \"quantile_0.25\", \"eval_fairness_gro...</td>\n",
       "      <td>27.613732</td>\n",
       "      <td>89710</td>\n",
       "      <td>1.0</td>\n",
       "      <td>0.183527</td>\n",
       "      <td>0.78763</td>\n",
       "      <td>0.161210</td>\n",
       "      <td>0.815611</td>\n",
       "      <td>...</td>\n",
       "      <td>0.125515</td>\n",
       "      <td>0.171600</td>\n",
       "      <td>0.864187</td>\n",
       "      <td>0.680660</td>\n",
       "      <td>0.048142</td>\n",
       "      <td>0.073961</td>\n",
       "      <td>0.874294</td>\n",
       "      <td>0.713084</td>\n",
       "      <td>20540.0</td>\n",
       "      <td>69170.0</td>\n",
       "    </tr>\n",
       "  </tbody>\n",
       "</table>\n",
       "<p>4 rows × 50 columns</p>\n",
       "</div>"
      ],
      "text/plain": [
       "  run_no                       universe_id  \\\n",
       "0     12  194bb59a20d98ce77c78aeea962e6fe2   \n",
       "0     12  194bb59a20d98ce77c78aeea962e6fe2   \n",
       "0     12  194bb59a20d98ce77c78aeea962e6fe2   \n",
       "0     12  194bb59a20d98ce77c78aeea962e6fe2   \n",
       "\n",
       "                                   universe_settings  execution_time  \\\n",
       "0  {\"cutoff\": \"quantile_0.1\", \"eval_fairness_grou...       27.613732   \n",
       "0  {\"cutoff\": \"quantile_0.1\", \"eval_fairness_grou...       27.613732   \n",
       "0  {\"cutoff\": \"quantile_0.25\", \"eval_fairness_gro...       27.613732   \n",
       "0  {\"cutoff\": \"quantile_0.25\", \"eval_fairness_gro...       27.613732   \n",
       "\n",
       "   test_size_n  test_size_frac  fair_main_equalized_odds_difference  \\\n",
       "0        89710             1.0                             0.080335   \n",
       "0        89710             1.0                             0.080335   \n",
       "0        89710             1.0                             0.183527   \n",
       "0        89710             1.0                             0.183527   \n",
       "\n",
       "   fair_main_equalized_odds_ratio  fair_main_demographic_parity_difference  \\\n",
       "0                         0.91544                                 0.070215   \n",
       "0                         0.91544                                 0.070215   \n",
       "0                         0.78763                                 0.161210   \n",
       "0                         0.78763                                 0.161210   \n",
       "\n",
       "   fair_main_demographic_parity_ratio  ...  perf_grp_precision_0  \\\n",
       "0                            0.926410  ...                   NaN   \n",
       "0                            0.926410  ...              0.119094   \n",
       "0                            0.815611  ...                   NaN   \n",
       "0                            0.815611  ...              0.125515   \n",
       "\n",
       "   perf_grp_precision_1  perf_grp_false positive rate_0  \\\n",
       "0                   NaN                             NaN   \n",
       "0              0.146105                        0.950033   \n",
       "0                   NaN                             NaN   \n",
       "0              0.171600                        0.864187   \n",
       "\n",
       "   perf_grp_false positive rate_1  perf_grp_false negative rate_0  \\\n",
       "0                             NaN                             NaN   \n",
       "0                        0.869698                        0.014358   \n",
       "0                             NaN                             NaN   \n",
       "0                        0.680660                        0.048142   \n",
       "\n",
       "   perf_grp_false negative rate_1  perf_grp_selection rate_0  \\\n",
       "0                             NaN                        NaN   \n",
       "0                        0.022648                   0.954138   \n",
       "0                             NaN                        NaN   \n",
       "0                        0.073961                   0.874294   \n",
       "\n",
       "   perf_grp_selection rate_1  perf_grp_count_0  perf_grp_count_1  \n",
       "0                        NaN               NaN               NaN  \n",
       "0                   0.883924           20540.0           69170.0  \n",
       "0                        NaN               NaN               NaN  \n",
       "0                   0.713084           20540.0           69170.0  \n",
       "\n",
       "[4 rows x 50 columns]"
      ]
     },
     "execution_count": 79,
     "metadata": {},
     "output_type": "execute_result"
    }
   ],
   "source": [
    "final_output = universe_analysis.generate_final_output(\n",
    "    y_pred_prob=probs_test,\n",
    "    y_test=y_true,\n",
    "    org_test=org_test,\n",
    "    filter_data=filter_sub_universe_data,\n",
    "    cp_metrics_df=cp_metrics_df,\n",
    "    save=True,\n",
    ")\n",
    "final_output"
   ]
  },
  {
   "cell_type": "code",
   "execution_count": null,
   "id": "721ff514-cb11-46f8-b6fc-50392f74b5cb",
   "metadata": {
    "papermill": {
     "duration": 0.030028,
     "end_time": "2025-07-30T14:06:34.863825",
     "exception": false,
     "start_time": "2025-07-30T14:06:34.833797",
     "status": "completed"
    },
    "tags": []
   },
   "outputs": [],
   "source": []
  }
 ],
 "metadata": {
  "celltoolbar": "Tags",
  "kernelspec": {
   "display_name": "Python (CMA Fairness)",
   "language": "python",
   "name": "cma_fair_env"
  },
  "language_info": {
   "codemirror_mode": {
    "name": "ipython",
    "version": 3
   },
   "file_extension": ".py",
   "mimetype": "text/x-python",
   "name": "python",
   "nbconvert_exporter": "python",
   "pygments_lexer": "ipython3",
   "version": "3.10.12"
  },
  "papermill": {
   "default_parameters": {},
   "duration": 43.187609,
   "end_time": "2025-07-30T14:06:35.712435",
   "environment_variables": {},
   "exception": null,
   "input_path": "universe_analysis.ipynb",
   "output_path": "output/runs/12/notebooks/m_12-194bb59a20d98ce77c78aeea962e6fe2.ipynb",
   "parameters": {
    "output_dir": "output",
    "run_no": "12",
    "seed": "2023",
    "universe": "{\"cutoff\": [\"quantile_0.1\", \"quantile_0.25\"], \"eval_fairness_grouping\": [\"majority-minority\", \"nationality-all\"], \"exclude_features\": \"none\", \"exclude_subgroups\": \"drop-non-german\", \"model\": \"logreg\", \"scale\": \"scale\", \"training_size\": \"5k\", \"training_year\": \"2010_14\"}",
    "universe_id": "194bb59a20d98ce77c78aeea962e6fe2"
   },
   "start_time": "2025-07-30T14:05:52.524826",
   "version": "2.6.0"
  }
 },
 "nbformat": 4,
 "nbformat_minor": 5
}