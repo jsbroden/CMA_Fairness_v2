{
 "cells": [
  {
   "cell_type": "code",
   "execution_count": 1,
   "id": "f159f837-637b-42ba-96b5-ec9a68c44524",
   "metadata": {
    "execution": {
     "iopub.execute_input": "2025-07-30T13:57:44.054421Z",
     "iopub.status.busy": "2025-07-30T13:57:44.053993Z",
     "iopub.status.idle": "2025-07-30T13:57:44.067758Z",
     "shell.execute_reply": "2025-07-30T13:57:44.066825Z"
    },
    "papermill": {
     "duration": 0.03737,
     "end_time": "2025-07-30T13:57:44.069538",
     "exception": false,
     "start_time": "2025-07-30T13:57:44.032168",
     "status": "completed"
    },
    "tags": []
   },
   "outputs": [
    {
     "name": "stdout",
     "output_type": "stream",
     "text": [
      "/dss/dsshome1/0C/ra93lal2/cma/CMA_Fairness_v2\n"
     ]
    },
    {
     "name": "stderr",
     "output_type": "stream",
     "text": [
      "/dss/dsshome1/0C/ra93lal2/.local/share/virtualenvs/CMA_Fairness_v2-3j10GkSs/lib/python3.10/site-packages/IPython/core/magics/osm.py:393: UserWarning: This is now an optional IPython functionality, using bookmarks requires you to install the `pickleshare` library.\n",
      "  bkms = self.shell.db.get('bookmarks', {})\n",
      "/dss/dsshome1/0C/ra93lal2/.local/share/virtualenvs/CMA_Fairness_v2-3j10GkSs/lib/python3.10/site-packages/IPython/core/magics/osm.py:417: UserWarning: This is now an optional IPython functionality, setting dhist requires you to install the `pickleshare` library.\n",
      "  self.shell.db['dhist'] = compress_dhist(dhist)[-100:]\n"
     ]
    }
   ],
   "source": [
    "%cd ~/cma/CMA_Fairness_v2"
   ]
  },
  {
   "cell_type": "markdown",
   "id": "de2603b9",
   "metadata": {
    "papermill": {
     "duration": 0.019115,
     "end_time": "2025-07-30T13:57:44.107985",
     "exception": false,
     "start_time": "2025-07-30T13:57:44.088870",
     "status": "completed"
    },
    "tags": []
   },
   "source": [
    "The following cell holds the definition of our parameters, these values can be overriden by rendering the with e.g. the following command:\n",
    "\n",
    "papermill -p alpha 0.2 -p ratio 0.3 universe_analysis.ipynb output/test_run.ipynb"
   ]
  },
  {
   "cell_type": "code",
   "execution_count": 2,
   "id": "a80968a0-40bb-4fa9-85ef-2d5eefb01975",
   "metadata": {
    "execution": {
     "iopub.execute_input": "2025-07-30T13:57:44.157240Z",
     "iopub.status.busy": "2025-07-30T13:57:44.156848Z",
     "iopub.status.idle": "2025-07-30T13:57:44.162053Z",
     "shell.execute_reply": "2025-07-30T13:57:44.161285Z"
    },
    "papermill": {
     "duration": 0.035315,
     "end_time": "2025-07-30T13:57:44.163405",
     "exception": false,
     "start_time": "2025-07-30T13:57:44.128090",
     "status": "completed"
    },
    "tags": []
   },
   "outputs": [
    {
     "name": "stdout",
     "output_type": "stream",
     "text": [
      "Current working directory: /dss/dsshome1/0C/ra93lal2/cma/CMA_Fairness_v2\n"
     ]
    }
   ],
   "source": [
    "import os\n",
    "print(\"Current working directory:\", os.getcwd())"
   ]
  },
  {
   "cell_type": "code",
   "execution_count": 3,
   "id": "2dce4c03",
   "metadata": {
    "execution": {
     "iopub.execute_input": "2025-07-30T13:57:44.185829Z",
     "iopub.status.busy": "2025-07-30T13:57:44.185351Z",
     "iopub.status.idle": "2025-07-30T13:57:44.190483Z",
     "shell.execute_reply": "2025-07-30T13:57:44.189638Z"
    },
    "papermill": {
     "duration": 0.017174,
     "end_time": "2025-07-30T13:57:44.191753",
     "exception": false,
     "start_time": "2025-07-30T13:57:44.174579",
     "status": "completed"
    },
    "tags": [
     "parameters"
    ]
   },
   "outputs": [],
   "source": [
    "run_no = 0\n",
    "universe_id = \"test\"\n",
    "universe = {\n",
    "    \"training_size\": \"25k\", # \"25k\", \"5k\", \"1k\"\n",
    "    \"training_year\": \"2014\", # \"2014\", \"2012_14\", \"2010_14\"\n",
    "    \"scale\": \"scale\", # \"scale\", \"do-not-scale\",\n",
    "    #\"stratify_split\": \"target\", # \"none\", \"target\", \"protected-attribute\", \"both\",\n",
    "    \"model\": \"elasticnet\", # \"logreg\", \"penalized_logreg\", \"rf\", \"gbm\", \"elasticnet\"\n",
    "    \"cutoff\": [\"quantile_0.15\", \"quantile_0.30\"],\n",
    "    \"exclude_features\": \"age\", # \"none\", \"nationality\", \"sex\", \"nationality-sex\", \"age\"\n",
    "    \"exclude_subgroups\": \"keep-all\", # \"keep-all\", \"drop-non-german\"\n",
    "    \"eval_fairness_grouping\": [\"majority-minority\", \"nationality-all\"]\n",
    "}\n",
    "\n",
    "output_dir=\"./output\"\n",
    "seed=0"
   ]
  },
  {
   "cell_type": "code",
   "execution_count": 4,
   "id": "3a88aecf",
   "metadata": {
    "execution": {
     "iopub.execute_input": "2025-07-30T13:57:44.214329Z",
     "iopub.status.busy": "2025-07-30T13:57:44.213836Z",
     "iopub.status.idle": "2025-07-30T13:57:44.218743Z",
     "shell.execute_reply": "2025-07-30T13:57:44.217963Z"
    },
    "papermill": {
     "duration": 0.0171,
     "end_time": "2025-07-30T13:57:44.220039",
     "exception": false,
     "start_time": "2025-07-30T13:57:44.202939",
     "status": "completed"
    },
    "tags": [
     "injected-parameters"
    ]
   },
   "outputs": [],
   "source": [
    "# Parameters\n",
    "universe_id = \"3d58e587564eb346a04702fae52e4b3d\"\n",
    "run_no = \"12\"\n",
    "universe = \"{\\\"cutoff\\\": [\\\"quantile_0.1\\\", \\\"quantile_0.25\\\"], \\\"eval_fairness_grouping\\\": [\\\"majority-minority\\\", \\\"nationality-all\\\"], \\\"exclude_features\\\": \\\"age\\\", \\\"exclude_subgroups\\\": \\\"keep-all\\\", \\\"model\\\": \\\"gbm\\\", \\\"scale\\\": \\\"scale\\\", \\\"training_size\\\": \\\"5k\\\", \\\"training_year\\\": \\\"2012_14\\\"}\"\n",
    "output_dir = \"output\"\n",
    "seed = \"2023\"\n"
   ]
  },
  {
   "cell_type": "code",
   "execution_count": 5,
   "id": "1650acaf",
   "metadata": {
    "execution": {
     "iopub.execute_input": "2025-07-30T13:57:44.243201Z",
     "iopub.status.busy": "2025-07-30T13:57:44.242454Z",
     "iopub.status.idle": "2025-07-30T13:57:44.247465Z",
     "shell.execute_reply": "2025-07-30T13:57:44.246403Z"
    },
    "papermill": {
     "duration": 0.019594,
     "end_time": "2025-07-30T13:57:44.250692",
     "exception": false,
     "start_time": "2025-07-30T13:57:44.231098",
     "status": "completed"
    },
    "tags": []
   },
   "outputs": [],
   "source": [
    "import json\n",
    "# Parse universe into dict if it is passed as a string\n",
    "if isinstance(universe, str):\n",
    "    universe = json.loads(universe)"
   ]
  },
  {
   "cell_type": "code",
   "execution_count": 6,
   "id": "16620c48",
   "metadata": {
    "execution": {
     "iopub.execute_input": "2025-07-30T13:57:44.294063Z",
     "iopub.status.busy": "2025-07-30T13:57:44.293718Z",
     "iopub.status.idle": "2025-07-30T13:57:44.338089Z",
     "shell.execute_reply": "2025-07-30T13:57:44.337157Z"
    },
    "papermill": {
     "duration": 0.068187,
     "end_time": "2025-07-30T13:57:44.339806",
     "exception": false,
     "start_time": "2025-07-30T13:57:44.271619",
     "status": "completed"
    },
    "tags": []
   },
   "outputs": [],
   "source": [
    "# Auto-reload the custom package\n",
    "%load_ext autoreload\n",
    "%autoreload 1\n",
    "%aimport fairness_multiverse"
   ]
  },
  {
   "cell_type": "code",
   "execution_count": 7,
   "id": "01c5c9f3",
   "metadata": {
    "execution": {
     "iopub.execute_input": "2025-07-30T13:57:44.382055Z",
     "iopub.status.busy": "2025-07-30T13:57:44.381403Z",
     "iopub.status.idle": "2025-07-30T13:57:46.257051Z",
     "shell.execute_reply": "2025-07-30T13:57:46.256013Z"
    },
    "papermill": {
     "duration": 1.89935,
     "end_time": "2025-07-30T13:57:46.258999",
     "exception": false,
     "start_time": "2025-07-30T13:57:44.359649",
     "status": "completed"
    },
    "tags": []
   },
   "outputs": [],
   "source": [
    "from fairness_multiverse.universe import UniverseAnalysis\n",
    "\n",
    "universe_analysis = UniverseAnalysis(\n",
    "    run_no = run_no,\n",
    "    universe_id = universe_id,\n",
    "    universe = universe,\n",
    "    output_dir=output_dir,\n",
    ")"
   ]
  },
  {
   "cell_type": "code",
   "execution_count": 8,
   "id": "106241f5",
   "metadata": {
    "execution": {
     "iopub.execute_input": "2025-07-30T13:57:46.300781Z",
     "iopub.status.busy": "2025-07-30T13:57:46.299957Z",
     "iopub.status.idle": "2025-07-30T13:57:46.306574Z",
     "shell.execute_reply": "2025-07-30T13:57:46.305545Z"
    },
    "papermill": {
     "duration": 0.028282,
     "end_time": "2025-07-30T13:57:46.308264",
     "exception": false,
     "start_time": "2025-07-30T13:57:46.279982",
     "status": "completed"
    },
    "tags": []
   },
   "outputs": [
    {
     "name": "stdout",
     "output_type": "stream",
     "text": [
      "Using Seed: 2023\n"
     ]
    }
   ],
   "source": [
    "import numpy as np\n",
    "parsed_seed = int(seed)\n",
    "np.random.seed(parsed_seed)\n",
    "print(f\"Using Seed: {parsed_seed}\")"
   ]
  },
  {
   "cell_type": "markdown",
   "id": "e0ebdc57",
   "metadata": {
    "papermill": {
     "duration": 0.020007,
     "end_time": "2025-07-30T13:57:46.350964",
     "exception": false,
     "start_time": "2025-07-30T13:57:46.330957",
     "status": "completed"
    },
    "tags": []
   },
   "source": [
    "# Loading Data"
   ]
  },
  {
   "cell_type": "markdown",
   "id": "681925a3",
   "metadata": {
    "papermill": {
     "duration": 0.019174,
     "end_time": "2025-07-30T13:57:46.389307",
     "exception": false,
     "start_time": "2025-07-30T13:57:46.370133",
     "status": "completed"
    },
    "tags": []
   },
   "source": [
    "Load siab_train, siab_test, siab_calib and/or \n",
    "load siab_train_features, siab_train_labels"
   ]
  },
  {
   "cell_type": "code",
   "execution_count": 9,
   "id": "f0496b8a",
   "metadata": {
    "execution": {
     "iopub.execute_input": "2025-07-30T13:57:46.429156Z",
     "iopub.status.busy": "2025-07-30T13:57:46.428510Z",
     "iopub.status.idle": "2025-07-30T13:57:58.356509Z",
     "shell.execute_reply": "2025-07-30T13:57:58.355372Z"
    },
    "papermill": {
     "duration": 11.949702,
     "end_time": "2025-07-30T13:57:58.358290",
     "exception": false,
     "start_time": "2025-07-30T13:57:46.408588",
     "status": "completed"
    },
    "tags": []
   },
   "outputs": [
    {
     "name": "stdout",
     "output_type": "stream",
     "text": [
      "Loading SIAB data from cache: data/siab_cached.csv.gz\n"
     ]
    },
    {
     "name": "stdout",
     "output_type": "stream",
     "text": [
      "(643690, 164)\n"
     ]
    }
   ],
   "source": [
    "from pathlib import Path\n",
    "import pandas as pd\n",
    "\n",
    "# File paths\n",
    "raw_file = Path(\"data/raw/siab.csv\")\n",
    "cache_file = Path(\"data/siab_cached.csv.gz\")\n",
    "\n",
    "# Ensure cache directory exists\n",
    "cache_file.parent.mkdir(parents=True, exist_ok=True)\n",
    "\n",
    "# Load with simple caching\n",
    "if cache_file.exists():\n",
    "    print(f\"Loading SIAB data from cache: {cache_file}\")\n",
    "    siab = pd.read_csv(cache_file, compression='gzip')\n",
    "else:\n",
    "    print(f\"Cache not found. Reading raw SIAB data: {raw_file}\")\n",
    "    siab = pd.read_csv(raw_file)\n",
    "    siab.to_csv(cache_file, index=False, compression='gzip')\n",
    "    print(f\"Cached SIAB data to: {cache_file}\")\n",
    "\n",
    "# Now use `siab` DataFrame as needed\n",
    "print(siab.shape)"
   ]
  },
  {
   "cell_type": "code",
   "execution_count": 10,
   "id": "db0ca512-5f53-4dba-abdb-a2888bca41ba",
   "metadata": {
    "execution": {
     "iopub.execute_input": "2025-07-30T13:57:58.404380Z",
     "iopub.status.busy": "2025-07-30T13:57:58.403388Z",
     "iopub.status.idle": "2025-07-30T13:57:58.408899Z",
     "shell.execute_reply": "2025-07-30T13:57:58.408019Z"
    },
    "papermill": {
     "duration": 0.028463,
     "end_time": "2025-07-30T13:57:58.410473",
     "exception": false,
     "start_time": "2025-07-30T13:57:58.382010",
     "status": "completed"
    },
    "tags": []
   },
   "outputs": [],
   "source": [
    "#siab"
   ]
  },
  {
   "cell_type": "code",
   "execution_count": 11,
   "id": "a0edb063",
   "metadata": {
    "execution": {
     "iopub.execute_input": "2025-07-30T13:57:58.453414Z",
     "iopub.status.busy": "2025-07-30T13:57:58.452737Z",
     "iopub.status.idle": "2025-07-30T13:57:58.458318Z",
     "shell.execute_reply": "2025-07-30T13:57:58.457341Z"
    },
    "papermill": {
     "duration": 0.028887,
     "end_time": "2025-07-30T13:57:58.460206",
     "exception": false,
     "start_time": "2025-07-30T13:57:58.431319",
     "status": "completed"
    },
    "tags": []
   },
   "outputs": [],
   "source": [
    "#import pandas as pd\n",
    "#\n",
    "#X_train = pd.read_csv(\"./data/X_train.csv\")\n",
    "#y_train = pd.read_csv(\"./data/y_train.csv\")"
   ]
  },
  {
   "cell_type": "code",
   "execution_count": 12,
   "id": "63d08085",
   "metadata": {
    "execution": {
     "iopub.execute_input": "2025-07-30T13:57:58.502541Z",
     "iopub.status.busy": "2025-07-30T13:57:58.501876Z",
     "iopub.status.idle": "2025-07-30T13:57:58.506911Z",
     "shell.execute_reply": "2025-07-30T13:57:58.505936Z"
    },
    "papermill": {
     "duration": 0.027487,
     "end_time": "2025-07-30T13:57:58.508611",
     "exception": false,
     "start_time": "2025-07-30T13:57:58.481124",
     "status": "completed"
    },
    "tags": []
   },
   "outputs": [],
   "source": [
    "#X_test = pd.read_csv(\"./data/X_test.csv\")\n",
    "#y_true = pd.read_csv(\"./data/y_test.csv\")"
   ]
  },
  {
   "cell_type": "code",
   "execution_count": 13,
   "id": "98a8d0fa-1d3d-4ed8-bb2c-281470e24add",
   "metadata": {
    "execution": {
     "iopub.execute_input": "2025-07-30T13:57:58.552673Z",
     "iopub.status.busy": "2025-07-30T13:57:58.551793Z",
     "iopub.status.idle": "2025-07-30T13:57:58.556818Z",
     "shell.execute_reply": "2025-07-30T13:57:58.555947Z"
    },
    "papermill": {
     "duration": 0.028431,
     "end_time": "2025-07-30T13:57:58.558483",
     "exception": false,
     "start_time": "2025-07-30T13:57:58.530052",
     "status": "completed"
    },
    "tags": []
   },
   "outputs": [],
   "source": [
    "# Calibration data for conformal\n",
    "#X_calib = pd.read_csv(\"./data/X_calib.csv\")\n",
    "#y_calib = pd.read_csv(\"./data/y_calib.csv\")"
   ]
  },
  {
   "cell_type": "markdown",
   "id": "997051c5-15bd-4b69-9786-c3001a3ce484",
   "metadata": {
    "papermill": {
     "duration": 0.020345,
     "end_time": "2025-07-30T13:57:58.600915",
     "exception": false,
     "start_time": "2025-07-30T13:57:58.580570",
     "status": "completed"
    },
    "tags": []
   },
   "source": [
    "# Splitting Data and Setting Training Data Size"
   ]
  },
  {
   "cell_type": "code",
   "execution_count": 14,
   "id": "e993b61f-042d-41a6-8c81-f55681f86335",
   "metadata": {
    "execution": {
     "iopub.execute_input": "2025-07-30T13:57:58.642813Z",
     "iopub.status.busy": "2025-07-30T13:57:58.642136Z",
     "iopub.status.idle": "2025-07-30T13:57:58.655356Z",
     "shell.execute_reply": "2025-07-30T13:57:58.654376Z"
    },
    "papermill": {
     "duration": 0.036368,
     "end_time": "2025-07-30T13:57:58.657315",
     "exception": false,
     "start_time": "2025-07-30T13:57:58.620947",
     "status": "completed"
    },
    "tags": []
   },
   "outputs": [],
   "source": [
    "def sample_by_year_size(df,\n",
    "                        training_year: str,\n",
    "                        training_size: str,\n",
    "                        random_state: int = 42):\n",
    "    # --- parse training_year into a list of int years ---\n",
    "    if \"_\" in training_year:\n",
    "        start_str, end_str = training_year.split(\"_\", 1)\n",
    "        start = int(start_str)\n",
    "        end   = int(end_str) if len(end_str) == 4 else (int(end_str) + (start // 100)*100)\n",
    "        years = list(range(start, end + 1))\n",
    "    else:\n",
    "        years = [int(training_year)]\n",
    "\n",
    "    df = df[df[\"year\"].isin(years)].reset_index(drop=True)\n",
    "\n",
    "    # --- map training_size to total number of samples ---\n",
    "    total_map = {\"25k\": 25_000, \"5k\": 5_000, \"1k\": 1_000}\n",
    "    if training_size not in total_map:\n",
    "        return df  # e.g. \"all\"\n",
    "\n",
    "    total_samples = total_map[training_size]\n",
    "    n_years       = len(years)\n",
    "    base          = total_samples // n_years\n",
    "    remainder     = total_samples % n_years\n",
    "\n",
    "    # --- build a dict: year -> how many to sample ---\n",
    "    # give +1 to the first `remainder` years in ascending order\n",
    "    quotas = {\n",
    "        year: base + (1 if idx < remainder else 0)\n",
    "        for idx, year in enumerate(sorted(years))\n",
    "    }\n",
    "\n",
    "    # --- sample per‐year according to the quota dict ---\n",
    "    sampled = (\n",
    "        df\n",
    "        .groupby(\"year\", group_keys=False)\n",
    "        .apply(lambda grp: grp.sample(\n",
    "            n=min(len(grp), quotas[grp.name]),\n",
    "            random_state=random_state))\n",
    "        .reset_index(drop=True)\n",
    "    )\n",
    "\n",
    "    return sampled"
   ]
  },
  {
   "cell_type": "code",
   "execution_count": 15,
   "id": "c0ccd338-0e02-41f3-a09d-f56f9266e3fb",
   "metadata": {
    "execution": {
     "iopub.execute_input": "2025-07-30T13:57:58.700026Z",
     "iopub.status.busy": "2025-07-30T13:57:58.699536Z",
     "iopub.status.idle": "2025-07-30T13:57:58.711568Z",
     "shell.execute_reply": "2025-07-30T13:57:58.710497Z"
    },
    "papermill": {
     "duration": 0.034574,
     "end_time": "2025-07-30T13:57:58.713398",
     "exception": false,
     "start_time": "2025-07-30T13:57:58.678824",
     "status": "completed"
    },
    "tags": []
   },
   "outputs": [
    {
     "data": {
      "text/plain": [
       "'5k'"
      ]
     },
     "execution_count": 15,
     "metadata": {},
     "output_type": "execute_result"
    }
   ],
   "source": [
    "universe[\"training_size\"]"
   ]
  },
  {
   "cell_type": "code",
   "execution_count": 16,
   "id": "ca707fd7-8047-4acd-bfa5-66248fbbf8e6",
   "metadata": {
    "execution": {
     "iopub.execute_input": "2025-07-30T13:57:58.756964Z",
     "iopub.status.busy": "2025-07-30T13:57:58.756288Z",
     "iopub.status.idle": "2025-07-30T13:57:58.763713Z",
     "shell.execute_reply": "2025-07-30T13:57:58.762714Z"
    },
    "papermill": {
     "duration": 0.030446,
     "end_time": "2025-07-30T13:57:58.765643",
     "exception": false,
     "start_time": "2025-07-30T13:57:58.735197",
     "status": "completed"
    },
    "tags": []
   },
   "outputs": [
    {
     "data": {
      "text/plain": [
       "'2012_14'"
      ]
     },
     "execution_count": 16,
     "metadata": {},
     "output_type": "execute_result"
    }
   ],
   "source": [
    "universe[\"training_year\"]"
   ]
  },
  {
   "cell_type": "code",
   "execution_count": 17,
   "id": "aea9c6ef-6f46-42c8-85eb-5a62025c1508",
   "metadata": {
    "execution": {
     "iopub.execute_input": "2025-07-30T13:57:58.811260Z",
     "iopub.status.busy": "2025-07-30T13:57:58.810595Z",
     "iopub.status.idle": "2025-07-30T13:57:59.395796Z",
     "shell.execute_reply": "2025-07-30T13:57:59.394756Z"
    },
    "papermill": {
     "duration": 0.609656,
     "end_time": "2025-07-30T13:57:59.397855",
     "exception": false,
     "start_time": "2025-07-30T13:57:58.788199",
     "status": "completed"
    },
    "tags": []
   },
   "outputs": [],
   "source": [
    "siab_train = sample_by_year_size(siab,\n",
    "                               training_year=universe[\"training_year\"],\n",
    "                               training_size=universe[\"training_size\"])"
   ]
  },
  {
   "cell_type": "code",
   "execution_count": 18,
   "id": "8d3afb32-789d-442c-8d5d-9f5aa8dd2eed",
   "metadata": {
    "execution": {
     "iopub.execute_input": "2025-07-30T13:57:59.442786Z",
     "iopub.status.busy": "2025-07-30T13:57:59.441913Z",
     "iopub.status.idle": "2025-07-30T13:57:59.449447Z",
     "shell.execute_reply": "2025-07-30T13:57:59.448510Z"
    },
    "papermill": {
     "duration": 0.03143,
     "end_time": "2025-07-30T13:57:59.451299",
     "exception": false,
     "start_time": "2025-07-30T13:57:59.419869",
     "status": "completed"
    },
    "tags": []
   },
   "outputs": [
    {
     "data": {
      "text/plain": [
       "(5000, 164)"
      ]
     },
     "execution_count": 18,
     "metadata": {},
     "output_type": "execute_result"
    }
   ],
   "source": [
    "siab_train.shape"
   ]
  },
  {
   "cell_type": "code",
   "execution_count": 19,
   "id": "d582db68-1a4c-47fb-84fc-08518dc1975a",
   "metadata": {
    "execution": {
     "iopub.execute_input": "2025-07-30T13:57:59.495256Z",
     "iopub.status.busy": "2025-07-30T13:57:59.494594Z",
     "iopub.status.idle": "2025-07-30T13:57:59.504725Z",
     "shell.execute_reply": "2025-07-30T13:57:59.503729Z"
    },
    "papermill": {
     "duration": 0.033652,
     "end_time": "2025-07-30T13:57:59.506531",
     "exception": false,
     "start_time": "2025-07-30T13:57:59.472879",
     "status": "completed"
    },
    "tags": []
   },
   "outputs": [
    {
     "data": {
      "text/plain": [
       "year\n",
       "2012    1667\n",
       "2013    1667\n",
       "2014    1666\n",
       "dtype: int64"
      ]
     },
     "metadata": {},
     "output_type": "display_data"
    }
   ],
   "source": [
    "display(siab_train.groupby(\"year\").size())"
   ]
  },
  {
   "cell_type": "code",
   "execution_count": 20,
   "id": "a561edb4-d032-42cb-8256-22eac1111c64",
   "metadata": {
    "execution": {
     "iopub.execute_input": "2025-07-30T13:57:59.551206Z",
     "iopub.status.busy": "2025-07-30T13:57:59.550326Z",
     "iopub.status.idle": "2025-07-30T13:57:59.770927Z",
     "shell.execute_reply": "2025-07-30T13:57:59.769972Z"
    },
    "papermill": {
     "duration": 0.244707,
     "end_time": "2025-07-30T13:57:59.772885",
     "exception": false,
     "start_time": "2025-07-30T13:57:59.528178",
     "status": "completed"
    },
    "tags": []
   },
   "outputs": [],
   "source": [
    "#siab_train = siab_s[siab_s.year < 2015]\n",
    "siab_calib = siab[siab.year == 2015]\n",
    "siab_test = siab[siab.year == 2016]"
   ]
  },
  {
   "cell_type": "code",
   "execution_count": 21,
   "id": "472de16f-c3db-4916-846b-1f0de9cf1746",
   "metadata": {
    "execution": {
     "iopub.execute_input": "2025-07-30T13:57:59.819038Z",
     "iopub.status.busy": "2025-07-30T13:57:59.817947Z",
     "iopub.status.idle": "2025-07-30T13:57:59.826890Z",
     "shell.execute_reply": "2025-07-30T13:57:59.825907Z"
    },
    "papermill": {
     "duration": 0.03356,
     "end_time": "2025-07-30T13:57:59.828770",
     "exception": false,
     "start_time": "2025-07-30T13:57:59.795210",
     "status": "completed"
    },
    "tags": []
   },
   "outputs": [],
   "source": [
    "X_train = siab_train.iloc[:,4:164]\n",
    "y_train = siab_train.iloc[:, [3]]"
   ]
  },
  {
   "cell_type": "code",
   "execution_count": 22,
   "id": "828c96af-f43a-4ed6-ba47-8ac73a47d56c",
   "metadata": {
    "execution": {
     "iopub.execute_input": "2025-07-30T13:57:59.874392Z",
     "iopub.status.busy": "2025-07-30T13:57:59.873498Z",
     "iopub.status.idle": "2025-07-30T13:57:59.924536Z",
     "shell.execute_reply": "2025-07-30T13:57:59.923421Z"
    },
    "papermill": {
     "duration": 0.075242,
     "end_time": "2025-07-30T13:57:59.926531",
     "exception": false,
     "start_time": "2025-07-30T13:57:59.851289",
     "status": "completed"
    },
    "tags": []
   },
   "outputs": [],
   "source": [
    "X_calib = siab_calib.iloc[:,4:164]\n",
    "y_calib = siab_calib.iloc[:, [3]]"
   ]
  },
  {
   "cell_type": "code",
   "execution_count": 23,
   "id": "c34be9c3-6bd6-476e-acd3-845840e303be",
   "metadata": {
    "execution": {
     "iopub.execute_input": "2025-07-30T13:57:59.972340Z",
     "iopub.status.busy": "2025-07-30T13:57:59.971401Z",
     "iopub.status.idle": "2025-07-30T13:58:00.024129Z",
     "shell.execute_reply": "2025-07-30T13:58:00.023170Z"
    },
    "papermill": {
     "duration": 0.076846,
     "end_time": "2025-07-30T13:58:00.026049",
     "exception": false,
     "start_time": "2025-07-30T13:57:59.949203",
     "status": "completed"
    },
    "tags": []
   },
   "outputs": [],
   "source": [
    "X_test = siab_test.iloc[:,4:164]\n",
    "y_true = siab_test.iloc[:, [3]]"
   ]
  },
  {
   "cell_type": "markdown",
   "id": "9901737e-04df-44f0-9100-f5ad144ed040",
   "metadata": {
    "papermill": {
     "duration": 0.021198,
     "end_time": "2025-07-30T13:58:00.070017",
     "exception": false,
     "start_time": "2025-07-30T13:58:00.048819",
     "status": "completed"
    },
    "tags": []
   },
   "source": [
    "# Splitting Data and Setting Training Data Size OLD VERSION"
   ]
  },
  {
   "cell_type": "code",
   "execution_count": 24,
   "id": "acbc8f7d-8fc8-4e86-8c59-5dcb0f58384b",
   "metadata": {
    "execution": {
     "iopub.execute_input": "2025-07-30T13:58:00.114567Z",
     "iopub.status.busy": "2025-07-30T13:58:00.113565Z",
     "iopub.status.idle": "2025-07-30T13:58:00.119351Z",
     "shell.execute_reply": "2025-07-30T13:58:00.118379Z"
    },
    "papermill": {
     "duration": 0.02997,
     "end_time": "2025-07-30T13:58:00.120974",
     "exception": false,
     "start_time": "2025-07-30T13:58:00.091004",
     "status": "completed"
    },
    "tags": []
   },
   "outputs": [],
   "source": [
    "#def sample_by_year(df, training_size, random_state=42):\n",
    "#    if training_size == \"2014\":\n",
    "#        return df[df[\"year\"] == 2014].reset_index(drop=True)\n",
    "#    \n",
    "#    size_map = {\n",
    "#        \"25k\": 5000,\n",
    "#        \"5k\": 1000,\n",
    "#        \"1k\": 200\n",
    "#    }\n",
    "#\n",
    "#    if training_size not in size_map:\n",
    "#        return df.reset_index(drop=True)  # use all data\n",
    "#\n",
    "#    n_per_year = size_map[training_size]\n",
    "#    grouped = df.groupby(\"year\")\n",
    "#    sampled = grouped.apply(lambda x: x.sample(n=min(n_per_year, len(x)), random_state=random_state))\n",
    "#    return sampled.reset_index(drop=True)"
   ]
  },
  {
   "cell_type": "code",
   "execution_count": 25,
   "id": "6d931f52-beaf-43ff-9e78-9d44a448d54e",
   "metadata": {
    "execution": {
     "iopub.execute_input": "2025-07-30T13:58:00.166875Z",
     "iopub.status.busy": "2025-07-30T13:58:00.166005Z",
     "iopub.status.idle": "2025-07-30T13:58:00.171256Z",
     "shell.execute_reply": "2025-07-30T13:58:00.170285Z"
    },
    "papermill": {
     "duration": 0.029663,
     "end_time": "2025-07-30T13:58:00.172957",
     "exception": false,
     "start_time": "2025-07-30T13:58:00.143294",
     "status": "completed"
    },
    "tags": []
   },
   "outputs": [],
   "source": [
    "#siab_s = sample_by_year(siab, universe[\"training_size\"])"
   ]
  },
  {
   "cell_type": "code",
   "execution_count": 26,
   "id": "5db0a40e-a4e2-4920-be85-b12ae061d70d",
   "metadata": {
    "execution": {
     "iopub.execute_input": "2025-07-30T13:58:00.218704Z",
     "iopub.status.busy": "2025-07-30T13:58:00.217877Z",
     "iopub.status.idle": "2025-07-30T13:58:00.222997Z",
     "shell.execute_reply": "2025-07-30T13:58:00.222100Z"
    },
    "papermill": {
     "duration": 0.029309,
     "end_time": "2025-07-30T13:58:00.224632",
     "exception": false,
     "start_time": "2025-07-30T13:58:00.195323",
     "status": "completed"
    },
    "tags": []
   },
   "outputs": [],
   "source": [
    "#display(siab_s.groupby(\"year\").size())"
   ]
  },
  {
   "cell_type": "code",
   "execution_count": 27,
   "id": "e6c733c5",
   "metadata": {
    "execution": {
     "iopub.execute_input": "2025-07-30T13:58:00.269993Z",
     "iopub.status.busy": "2025-07-30T13:58:00.269345Z",
     "iopub.status.idle": "2025-07-30T13:58:00.373236Z",
     "shell.execute_reply": "2025-07-30T13:58:00.372239Z"
    },
    "papermill": {
     "duration": 0.128249,
     "end_time": "2025-07-30T13:58:00.375183",
     "exception": false,
     "start_time": "2025-07-30T13:58:00.246934",
     "status": "completed"
    },
    "tags": []
   },
   "outputs": [],
   "source": [
    "# Auxiliary data needed downstream in the pipeline\n",
    "\n",
    "org_train = X_train.copy()\n",
    "org_test = X_test.copy()\n",
    "org_calib = X_calib.copy()"
   ]
  },
  {
   "cell_type": "code",
   "execution_count": 28,
   "id": "1466abac-c6da-4492-a62f-4240ae3783af",
   "metadata": {
    "execution": {
     "iopub.execute_input": "2025-07-30T13:58:00.421365Z",
     "iopub.status.busy": "2025-07-30T13:58:00.420428Z",
     "iopub.status.idle": "2025-07-30T13:58:00.426779Z",
     "shell.execute_reply": "2025-07-30T13:58:00.425770Z"
    },
    "papermill": {
     "duration": 0.031059,
     "end_time": "2025-07-30T13:58:00.428987",
     "exception": false,
     "start_time": "2025-07-30T13:58:00.397928",
     "status": "completed"
    },
    "tags": []
   },
   "outputs": [],
   "source": [
    "# put in other script?\n",
    "# Group sizes\n",
    "\n",
    "#def calculate_percentages(df, df_name):\n",
    "#    total_entries = len(df)\n",
    "#\n",
    "#    female_pct = (df['frau1'] == 1).mean() * 100\n",
    "#    non_german_pct = ((df['maxdeutsch1'] == 0) & (df['maxdeutsch.Missing.'] == 0)).mean() * 100\n",
    "#    non_german_male_pct = ((df['frau1'] == 0) & (df['maxdeutsch1'] == 0) & (df['maxdeutsch.Missing.'] == 0)).mean() * 100\n",
    "#    non_german_female_pct = ((df['frau1'] == 1) & (df['maxdeutsch1'] == 0) & (df['maxdeutsch.Missing.'] == 0)).mean() * 100\n",
    "#\n",
    "#    print(f\"--- {df_name} ---\")\n",
    "#    print(f\"Female: {female_pct:.2f}%\")\n",
    "#    print(f\"Non-German: {non_german_pct:.2f}%\")\n",
    "#    print(f\"Non-German Male: {non_german_male_pct:.2f}%\")\n",
    "#    print(f\"Non-German Female: {non_german_female_pct:.2f}%\\n\")\n",
    "#\n",
    "## Calculate for each DataFrame\n",
    "#calculate_percentages(siab_calib, \"siab_calib\")\n",
    "#calculate_percentages(siab_test, \"siab_test\")\n",
    "#calculate_percentages(siab_train, \"siab_train\")"
   ]
  },
  {
   "cell_type": "markdown",
   "id": "0a4a1b33",
   "metadata": {
    "papermill": {
     "duration": 0.021433,
     "end_time": "2025-07-30T13:58:00.475187",
     "exception": false,
     "start_time": "2025-07-30T13:58:00.453754",
     "status": "completed"
    },
    "tags": []
   },
   "source": [
    "# Preprocessing Data"
   ]
  },
  {
   "cell_type": "code",
   "execution_count": 29,
   "id": "ca879031",
   "metadata": {
    "execution": {
     "iopub.execute_input": "2025-07-30T13:58:00.520459Z",
     "iopub.status.busy": "2025-07-30T13:58:00.519874Z",
     "iopub.status.idle": "2025-07-30T13:58:00.525965Z",
     "shell.execute_reply": "2025-07-30T13:58:00.525057Z"
    },
    "papermill": {
     "duration": 0.031312,
     "end_time": "2025-07-30T13:58:00.527946",
     "exception": false,
     "start_time": "2025-07-30T13:58:00.496634",
     "status": "completed"
    },
    "tags": []
   },
   "outputs": [],
   "source": [
    "# EXCLUDE PROTECTED FEATURES\n",
    "# ----------------------\n",
    "# \"exclude_features\": \"none\", # \"nationality\", \"sex\", \"nationality-sex\"\n",
    "\n",
    "excluded_features = universe[\"exclude_features\"].split(\"-\") # split, e.g.: \"nationality-sex\" -> [\"nationality\", \"sex\"]\n",
    "excluded_features_dictionary = {\n",
    "    \"nationality\": [\"maxdeutsch1\", \"maxdeutsch.Missing.\"],\n",
    "    \"sex\": [\"frau1\"],\n",
    "    \"age\": [\"age\"],\n",
    "}\n"
   ]
  },
  {
   "cell_type": "code",
   "execution_count": 30,
   "id": "b745ac60",
   "metadata": {
    "execution": {
     "iopub.execute_input": "2025-07-30T13:58:00.578160Z",
     "iopub.status.busy": "2025-07-30T13:58:00.577292Z",
     "iopub.status.idle": "2025-07-30T13:58:00.583283Z",
     "shell.execute_reply": "2025-07-30T13:58:00.582249Z"
    },
    "papermill": {
     "duration": 0.034485,
     "end_time": "2025-07-30T13:58:00.584942",
     "exception": false,
     "start_time": "2025-07-30T13:58:00.550457",
     "status": "completed"
    },
    "tags": []
   },
   "outputs": [],
   "source": [
    "# Code nice names to column names\n",
    "\n",
    "excluded_features_columns = [\n",
    "    excluded_features_dictionary[f] for f in excluded_features if len(f) > 0 and f != \"none\"\n",
    "]"
   ]
  },
  {
   "cell_type": "code",
   "execution_count": 31,
   "id": "f84f73a2",
   "metadata": {
    "execution": {
     "iopub.execute_input": "2025-07-30T13:58:00.631477Z",
     "iopub.status.busy": "2025-07-30T13:58:00.630805Z",
     "iopub.status.idle": "2025-07-30T13:58:00.637999Z",
     "shell.execute_reply": "2025-07-30T13:58:00.637019Z"
    },
    "papermill": {
     "duration": 0.031048,
     "end_time": "2025-07-30T13:58:00.639706",
     "exception": false,
     "start_time": "2025-07-30T13:58:00.608658",
     "status": "completed"
    },
    "tags": []
   },
   "outputs": [],
   "source": [
    "from utils import flatten_once\n",
    "\n",
    "excluded_features_columns = flatten_once(excluded_features_columns)"
   ]
  },
  {
   "cell_type": "code",
   "execution_count": 32,
   "id": "884dea22",
   "metadata": {
    "execution": {
     "iopub.execute_input": "2025-07-30T13:58:00.686881Z",
     "iopub.status.busy": "2025-07-30T13:58:00.686429Z",
     "iopub.status.idle": "2025-07-30T13:58:00.696730Z",
     "shell.execute_reply": "2025-07-30T13:58:00.695663Z"
    },
    "papermill": {
     "duration": 0.035055,
     "end_time": "2025-07-30T13:58:00.698487",
     "exception": false,
     "start_time": "2025-07-30T13:58:00.663432",
     "status": "completed"
    },
    "tags": []
   },
   "outputs": [
    {
     "name": "stdout",
     "output_type": "stream",
     "text": [
      "Dropping features: ['age']\n"
     ]
    }
   ],
   "source": [
    "if len(excluded_features_columns) > 0:\n",
    "    print(f\"Dropping features: {excluded_features_columns}\")\n",
    "    X_train.drop(excluded_features_columns, axis=1, inplace=True)"
   ]
  },
  {
   "cell_type": "code",
   "execution_count": 33,
   "id": "95ab8b16",
   "metadata": {
    "execution": {
     "iopub.execute_input": "2025-07-30T13:58:00.746436Z",
     "iopub.status.busy": "2025-07-30T13:58:00.745415Z",
     "iopub.status.idle": "2025-07-30T13:58:00.799091Z",
     "shell.execute_reply": "2025-07-30T13:58:00.798099Z"
    },
    "papermill": {
     "duration": 0.079924,
     "end_time": "2025-07-30T13:58:00.801197",
     "exception": false,
     "start_time": "2025-07-30T13:58:00.721273",
     "status": "completed"
    },
    "tags": []
   },
   "outputs": [
    {
     "name": "stdout",
     "output_type": "stream",
     "text": [
      "Dropping features: ['age']\n"
     ]
    }
   ],
   "source": [
    "if len(excluded_features_columns) > 0:\n",
    "    print(f\"Dropping features: {excluded_features_columns}\")\n",
    "    X_test.drop(excluded_features_columns, axis=1, inplace=True)"
   ]
  },
  {
   "cell_type": "code",
   "execution_count": 34,
   "id": "1853aaf5-fb9f-46cb-a2b5-8ea4ae2237e4",
   "metadata": {
    "execution": {
     "iopub.execute_input": "2025-07-30T13:58:00.848956Z",
     "iopub.status.busy": "2025-07-30T13:58:00.848236Z",
     "iopub.status.idle": "2025-07-30T13:58:00.902453Z",
     "shell.execute_reply": "2025-07-30T13:58:00.901352Z"
    },
    "papermill": {
     "duration": 0.080544,
     "end_time": "2025-07-30T13:58:00.904571",
     "exception": false,
     "start_time": "2025-07-30T13:58:00.824027",
     "status": "completed"
    },
    "tags": []
   },
   "outputs": [
    {
     "name": "stdout",
     "output_type": "stream",
     "text": [
      "Dropping features: ['age']\n"
     ]
    }
   ],
   "source": [
    "if len(excluded_features_columns) > 0:\n",
    "    print(f\"Dropping features: {excluded_features_columns}\")\n",
    "    X_calib.drop(excluded_features_columns, axis=1, inplace=True)"
   ]
  },
  {
   "cell_type": "code",
   "execution_count": 35,
   "id": "6727d079-03e5-481e-9d38-292a90b7a0a8",
   "metadata": {
    "execution": {
     "iopub.execute_input": "2025-07-30T13:58:00.952751Z",
     "iopub.status.busy": "2025-07-30T13:58:00.951793Z",
     "iopub.status.idle": "2025-07-30T13:58:00.956858Z",
     "shell.execute_reply": "2025-07-30T13:58:00.955949Z"
    },
    "papermill": {
     "duration": 0.031004,
     "end_time": "2025-07-30T13:58:00.958499",
     "exception": false,
     "start_time": "2025-07-30T13:58:00.927495",
     "status": "completed"
    },
    "tags": []
   },
   "outputs": [],
   "source": [
    "# SPLIT & STRATIFY DATA\n",
    "# ----------------------"
   ]
  },
  {
   "cell_type": "code",
   "execution_count": 36,
   "id": "76c4dc6d",
   "metadata": {
    "execution": {
     "iopub.execute_input": "2025-07-30T13:58:01.007630Z",
     "iopub.status.busy": "2025-07-30T13:58:01.006727Z",
     "iopub.status.idle": "2025-07-30T13:58:01.012460Z",
     "shell.execute_reply": "2025-07-30T13:58:01.011453Z"
    },
    "papermill": {
     "duration": 0.030988,
     "end_time": "2025-07-30T13:58:01.014105",
     "exception": false,
     "start_time": "2025-07-30T13:58:00.983117",
     "status": "completed"
    },
    "tags": []
   },
   "outputs": [],
   "source": [
    "# EXCLUDE CERTAIN SUBGROUPS\n",
    "# ----------------------\n",
    "\n",
    "mode = universe.get(\"exclude_subgroups\", \"keep-all\") \n",
    "# Fetches the exclude_subgroups setting from the universe dict.\n",
    "# Defaults to \"keep-all\" if the key is missing."
   ]
  },
  {
   "cell_type": "code",
   "execution_count": 37,
   "id": "21994072",
   "metadata": {
    "execution": {
     "iopub.execute_input": "2025-07-30T13:58:01.063647Z",
     "iopub.status.busy": "2025-07-30T13:58:01.062970Z",
     "iopub.status.idle": "2025-07-30T13:58:01.070894Z",
     "shell.execute_reply": "2025-07-30T13:58:01.069967Z"
    },
    "papermill": {
     "duration": 0.034048,
     "end_time": "2025-07-30T13:58:01.072754",
     "exception": false,
     "start_time": "2025-07-30T13:58:01.038706",
     "status": "completed"
    },
    "tags": []
   },
   "outputs": [],
   "source": [
    "if mode == \"keep-all\":\n",
    "    keep_mask = pd.Series(True, index=org_train.index)\n",
    "\n",
    "# org_train contains the original feature columns from features_org (in Simson)\n",
    "# features_org contains unprocessed features, for me X_train at beginning ???\n",
    "# For keep-all, creates a boolean Series (keep_mask) of all True, so no rows are removed.\n",
    "\n",
    "elif mode == \"drop-non-german\":\n",
    "    keep_mask = org_train[\"maxdeutsch1\"] == 1 # ??? what about missing values?\n",
    "\n",
    "else:\n",
    "    raise ValueError(f\"Unsupported mode for exclude_subgroups: {mode}\")\n"
   ]
  },
  {
   "cell_type": "code",
   "execution_count": 38,
   "id": "71651440",
   "metadata": {
    "execution": {
     "iopub.execute_input": "2025-07-30T13:58:01.122539Z",
     "iopub.status.busy": "2025-07-30T13:58:01.121978Z",
     "iopub.status.idle": "2025-07-30T13:58:01.128763Z",
     "shell.execute_reply": "2025-07-30T13:58:01.127793Z"
    },
    "papermill": {
     "duration": 0.033459,
     "end_time": "2025-07-30T13:58:01.130551",
     "exception": false,
     "start_time": "2025-07-30T13:58:01.097092",
     "status": "completed"
    },
    "tags": []
   },
   "outputs": [],
   "source": [
    "n_drop = (~keep_mask).sum() # Calculates how many rows are set to be dropped\n",
    "if n_drop > 0:\n",
    "    pct = n_drop / len(keep_mask) * 100\n",
    "    print(f\"Dropping {n_drop} rows ({pct:.2f}%) where mode='{mode}'\")"
   ]
  },
  {
   "cell_type": "code",
   "execution_count": 39,
   "id": "5fb8eee5",
   "metadata": {
    "execution": {
     "iopub.execute_input": "2025-07-30T13:58:01.179995Z",
     "iopub.status.busy": "2025-07-30T13:58:01.179496Z",
     "iopub.status.idle": "2025-07-30T13:58:01.187338Z",
     "shell.execute_reply": "2025-07-30T13:58:01.186331Z"
    },
    "papermill": {
     "duration": 0.034681,
     "end_time": "2025-07-30T13:58:01.189170",
     "exception": false,
     "start_time": "2025-07-30T13:58:01.154489",
     "status": "completed"
    },
    "tags": []
   },
   "outputs": [],
   "source": [
    "X_train = X_train[keep_mask]"
   ]
  },
  {
   "cell_type": "code",
   "execution_count": 40,
   "id": "b202bb3a",
   "metadata": {
    "execution": {
     "iopub.execute_input": "2025-07-30T13:58:01.238581Z",
     "iopub.status.busy": "2025-07-30T13:58:01.237705Z",
     "iopub.status.idle": "2025-07-30T13:58:01.243838Z",
     "shell.execute_reply": "2025-07-30T13:58:01.242879Z"
    },
    "papermill": {
     "duration": 0.032774,
     "end_time": "2025-07-30T13:58:01.245662",
     "exception": false,
     "start_time": "2025-07-30T13:58:01.212888",
     "status": "completed"
    },
    "tags": []
   },
   "outputs": [],
   "source": [
    "y_train = y_train[keep_mask]"
   ]
  },
  {
   "cell_type": "markdown",
   "id": "493e2ac3",
   "metadata": {
    "papermill": {
     "duration": 0.024084,
     "end_time": "2025-07-30T13:58:01.293750",
     "exception": false,
     "start_time": "2025-07-30T13:58:01.269666",
     "status": "completed"
    },
    "tags": []
   },
   "source": [
    "# Model Training"
   ]
  },
  {
   "cell_type": "code",
   "execution_count": 41,
   "id": "679e1268",
   "metadata": {
    "execution": {
     "iopub.execute_input": "2025-07-30T13:58:01.341966Z",
     "iopub.status.busy": "2025-07-30T13:58:01.341315Z",
     "iopub.status.idle": "2025-07-30T13:58:01.444879Z",
     "shell.execute_reply": "2025-07-30T13:58:01.443835Z"
    },
    "papermill": {
     "duration": 0.129066,
     "end_time": "2025-07-30T13:58:01.446505",
     "exception": false,
     "start_time": "2025-07-30T13:58:01.317439",
     "status": "completed"
    },
    "tags": []
   },
   "outputs": [],
   "source": [
    "from sklearn.linear_model import LogisticRegression\n",
    "from sklearn.ensemble import GradientBoostingClassifier, RandomForestClassifier\n",
    "\n",
    "if (universe[\"model\"] == \"logreg\"):\n",
    "    model = LogisticRegression() #penalty=\"none\") #, solver=\"newton-cg\", max_iter=1) # include random_state=19 ?\n",
    "elif (universe[\"model\"] == \"penalized_logreg\"):\n",
    "    model = LogisticRegression(penalty=\"l2\", C=1.0) #, solver=\"newton-cg\", max_iter=1)\n",
    "elif (universe[\"model\"] == \"rf\"):\n",
    "    model = RandomForestClassifier(n_estimators=100, n_jobs=-1)\n",
    "elif (universe[\"model\"] == \"gbm\"):\n",
    "    model = GradientBoostingClassifier()\n",
    "elif (universe[\"model\"] == \"elasticnet\"):\n",
    "    model = LogisticRegression(penalty = 'elasticnet', solver = 'saga', l1_ratio = 0.5, max_iter=5000) # which solver to use?\n",
    "else:\n",
    "    raise \"Unsupported universe.model\""
   ]
  },
  {
   "cell_type": "code",
   "execution_count": 42,
   "id": "0cc8f744",
   "metadata": {
    "execution": {
     "iopub.execute_input": "2025-07-30T13:58:01.496819Z",
     "iopub.status.busy": "2025-07-30T13:58:01.496091Z",
     "iopub.status.idle": "2025-07-30T13:58:01.502622Z",
     "shell.execute_reply": "2025-07-30T13:58:01.501624Z"
    },
    "papermill": {
     "duration": 0.033425,
     "end_time": "2025-07-30T13:58:01.504456",
     "exception": false,
     "start_time": "2025-07-30T13:58:01.471031",
     "status": "completed"
    },
    "tags": []
   },
   "outputs": [],
   "source": [
    "import numpy as np\n",
    "from sklearn.pipeline import Pipeline\n",
    "from sklearn.preprocessing import StandardScaler\n",
    "\n",
    "model = Pipeline([\n",
    "    #(\"continuous_processor\", continuous_processor),\n",
    "    #(\"categorical_preprocessor\", categorical_preprocessor),\n",
    "    (\"scale\", StandardScaler() if universe[\"scale\"] == \"scale\" else None), \n",
    "    (\"model\", model),\n",
    "])"
   ]
  },
  {
   "cell_type": "code",
   "execution_count": 43,
   "id": "9442c04d",
   "metadata": {
    "execution": {
     "iopub.execute_input": "2025-07-30T13:58:01.555162Z",
     "iopub.status.busy": "2025-07-30T13:58:01.554260Z",
     "iopub.status.idle": "2025-07-30T13:58:06.885742Z",
     "shell.execute_reply": "2025-07-30T13:58:06.884694Z"
    },
    "papermill": {
     "duration": 5.35754,
     "end_time": "2025-07-30T13:58:06.887355",
     "exception": false,
     "start_time": "2025-07-30T13:58:01.529815",
     "status": "completed"
    },
    "tags": []
   },
   "outputs": [
    {
     "data": {
      "text/html": [
       "<style>#sk-container-id-1 {color: black;background-color: white;}#sk-container-id-1 pre{padding: 0;}#sk-container-id-1 div.sk-toggleable {background-color: white;}#sk-container-id-1 label.sk-toggleable__label {cursor: pointer;display: block;width: 100%;margin-bottom: 0;padding: 0.3em;box-sizing: border-box;text-align: center;}#sk-container-id-1 label.sk-toggleable__label-arrow:before {content: \"▸\";float: left;margin-right: 0.25em;color: #696969;}#sk-container-id-1 label.sk-toggleable__label-arrow:hover:before {color: black;}#sk-container-id-1 div.sk-estimator:hover label.sk-toggleable__label-arrow:before {color: black;}#sk-container-id-1 div.sk-toggleable__content {max-height: 0;max-width: 0;overflow: hidden;text-align: left;background-color: #f0f8ff;}#sk-container-id-1 div.sk-toggleable__content pre {margin: 0.2em;color: black;border-radius: 0.25em;background-color: #f0f8ff;}#sk-container-id-1 input.sk-toggleable__control:checked~div.sk-toggleable__content {max-height: 200px;max-width: 100%;overflow: auto;}#sk-container-id-1 input.sk-toggleable__control:checked~label.sk-toggleable__label-arrow:before {content: \"▾\";}#sk-container-id-1 div.sk-estimator input.sk-toggleable__control:checked~label.sk-toggleable__label {background-color: #d4ebff;}#sk-container-id-1 div.sk-label input.sk-toggleable__control:checked~label.sk-toggleable__label {background-color: #d4ebff;}#sk-container-id-1 input.sk-hidden--visually {border: 0;clip: rect(1px 1px 1px 1px);clip: rect(1px, 1px, 1px, 1px);height: 1px;margin: -1px;overflow: hidden;padding: 0;position: absolute;width: 1px;}#sk-container-id-1 div.sk-estimator {font-family: monospace;background-color: #f0f8ff;border: 1px dotted black;border-radius: 0.25em;box-sizing: border-box;margin-bottom: 0.5em;}#sk-container-id-1 div.sk-estimator:hover {background-color: #d4ebff;}#sk-container-id-1 div.sk-parallel-item::after {content: \"\";width: 100%;border-bottom: 1px solid gray;flex-grow: 1;}#sk-container-id-1 div.sk-label:hover label.sk-toggleable__label {background-color: #d4ebff;}#sk-container-id-1 div.sk-serial::before {content: \"\";position: absolute;border-left: 1px solid gray;box-sizing: border-box;top: 0;bottom: 0;left: 50%;z-index: 0;}#sk-container-id-1 div.sk-serial {display: flex;flex-direction: column;align-items: center;background-color: white;padding-right: 0.2em;padding-left: 0.2em;position: relative;}#sk-container-id-1 div.sk-item {position: relative;z-index: 1;}#sk-container-id-1 div.sk-parallel {display: flex;align-items: stretch;justify-content: center;background-color: white;position: relative;}#sk-container-id-1 div.sk-item::before, #sk-container-id-1 div.sk-parallel-item::before {content: \"\";position: absolute;border-left: 1px solid gray;box-sizing: border-box;top: 0;bottom: 0;left: 50%;z-index: -1;}#sk-container-id-1 div.sk-parallel-item {display: flex;flex-direction: column;z-index: 1;position: relative;background-color: white;}#sk-container-id-1 div.sk-parallel-item:first-child::after {align-self: flex-end;width: 50%;}#sk-container-id-1 div.sk-parallel-item:last-child::after {align-self: flex-start;width: 50%;}#sk-container-id-1 div.sk-parallel-item:only-child::after {width: 0;}#sk-container-id-1 div.sk-dashed-wrapped {border: 1px dashed gray;margin: 0 0.4em 0.5em 0.4em;box-sizing: border-box;padding-bottom: 0.4em;background-color: white;}#sk-container-id-1 div.sk-label label {font-family: monospace;font-weight: bold;display: inline-block;line-height: 1.2em;}#sk-container-id-1 div.sk-label-container {text-align: center;}#sk-container-id-1 div.sk-container {/* jupyter's `normalize.less` sets `[hidden] { display: none; }` but bootstrap.min.css set `[hidden] { display: none !important; }` so we also need the `!important` here to be able to override the default hidden behavior on the sphinx rendered scikit-learn.org. See: https://github.com/scikit-learn/scikit-learn/issues/21755 */display: inline-block !important;position: relative;}#sk-container-id-1 div.sk-text-repr-fallback {display: none;}</style><div id=\"sk-container-id-1\" class=\"sk-top-container\"><div class=\"sk-text-repr-fallback\"><pre>Pipeline(steps=[(&#x27;scale&#x27;, StandardScaler()),\n",
       "                (&#x27;model&#x27;, GradientBoostingClassifier())])</pre><b>In a Jupyter environment, please rerun this cell to show the HTML representation or trust the notebook. <br />On GitHub, the HTML representation is unable to render, please try loading this page with nbviewer.org.</b></div><div class=\"sk-container\" hidden><div class=\"sk-item sk-dashed-wrapped\"><div class=\"sk-label-container\"><div class=\"sk-label sk-toggleable\"><input class=\"sk-toggleable__control sk-hidden--visually\" id=\"sk-estimator-id-1\" type=\"checkbox\" ><label for=\"sk-estimator-id-1\" class=\"sk-toggleable__label sk-toggleable__label-arrow\">Pipeline</label><div class=\"sk-toggleable__content\"><pre>Pipeline(steps=[(&#x27;scale&#x27;, StandardScaler()),\n",
       "                (&#x27;model&#x27;, GradientBoostingClassifier())])</pre></div></div></div><div class=\"sk-serial\"><div class=\"sk-item\"><div class=\"sk-estimator sk-toggleable\"><input class=\"sk-toggleable__control sk-hidden--visually\" id=\"sk-estimator-id-2\" type=\"checkbox\" ><label for=\"sk-estimator-id-2\" class=\"sk-toggleable__label sk-toggleable__label-arrow\">StandardScaler</label><div class=\"sk-toggleable__content\"><pre>StandardScaler()</pre></div></div></div><div class=\"sk-item\"><div class=\"sk-estimator sk-toggleable\"><input class=\"sk-toggleable__control sk-hidden--visually\" id=\"sk-estimator-id-3\" type=\"checkbox\" ><label for=\"sk-estimator-id-3\" class=\"sk-toggleable__label sk-toggleable__label-arrow\">GradientBoostingClassifier</label><div class=\"sk-toggleable__content\"><pre>GradientBoostingClassifier()</pre></div></div></div></div></div></div></div>"
      ],
      "text/plain": [
       "Pipeline(steps=[('scale', StandardScaler()),\n",
       "                ('model', GradientBoostingClassifier())])"
      ]
     },
     "execution_count": 43,
     "metadata": {},
     "output_type": "execute_result"
    }
   ],
   "source": [
    "model.fit(X_train, y_train.values.ravel())"
   ]
  },
  {
   "cell_type": "code",
   "execution_count": 44,
   "id": "af59f8c0",
   "metadata": {
    "execution": {
     "iopub.execute_input": "2025-07-30T13:58:06.922131Z",
     "iopub.status.busy": "2025-07-30T13:58:06.921738Z",
     "iopub.status.idle": "2025-07-30T13:58:06.927396Z",
     "shell.execute_reply": "2025-07-30T13:58:06.926499Z"
    },
    "papermill": {
     "duration": 0.021225,
     "end_time": "2025-07-30T13:58:06.929672",
     "exception": false,
     "start_time": "2025-07-30T13:58:06.908447",
     "status": "completed"
    },
    "tags": []
   },
   "outputs": [],
   "source": [
    "from fairness_multiverse.universe import predict_w_threshold"
   ]
  },
  {
   "cell_type": "code",
   "execution_count": 45,
   "id": "a7cf2e16",
   "metadata": {
    "execution": {
     "iopub.execute_input": "2025-07-30T13:58:06.981738Z",
     "iopub.status.busy": "2025-07-30T13:58:06.981279Z",
     "iopub.status.idle": "2025-07-30T13:58:07.564495Z",
     "shell.execute_reply": "2025-07-30T13:58:07.563564Z"
    },
    "papermill": {
     "duration": 0.611009,
     "end_time": "2025-07-30T13:58:07.566150",
     "exception": false,
     "start_time": "2025-07-30T13:58:06.955141",
     "status": "completed"
    },
    "tags": []
   },
   "outputs": [
    {
     "data": {
      "text/plain": [
       "0.8618994537955634"
      ]
     },
     "execution_count": 45,
     "metadata": {},
     "output_type": "execute_result"
    }
   ],
   "source": [
    "probs_test = model.predict_proba(X_test)\n",
    "\n",
    "'''\n",
    "Below code returns a boolean array (or binary 0/1 array depending on how it’s used) where each element \n",
    "is True if the probability of class 1 is greater than or equal to the threshold, and False otherwise.\n",
    "'''\n",
    "y_pred_default = predict_w_threshold(probs_test, 0.5)\n",
    "\n",
    "from sklearn.metrics import accuracy_score\n",
    "\n",
    "# Naive prediction\n",
    "accuracy_score(y_true = y_true, y_pred = y_pred_default)"
   ]
  },
  {
   "cell_type": "code",
   "execution_count": 46,
   "id": "081964c3",
   "metadata": {
    "execution": {
     "iopub.execute_input": "2025-07-30T13:58:07.619833Z",
     "iopub.status.busy": "2025-07-30T13:58:07.619335Z",
     "iopub.status.idle": "2025-07-30T13:58:08.198917Z",
     "shell.execute_reply": "2025-07-30T13:58:08.197844Z"
    },
    "papermill": {
     "duration": 0.607985,
     "end_time": "2025-07-30T13:58:08.200739",
     "exception": false,
     "start_time": "2025-07-30T13:58:07.592754",
     "status": "completed"
    },
    "tags": []
   },
   "outputs": [
    {
     "data": {
      "text/plain": [
       "array([0, 0, 0, ..., 0, 0, 0])"
      ]
     },
     "execution_count": 46,
     "metadata": {},
     "output_type": "execute_result"
    }
   ],
   "source": [
    "model.predict(X_test)"
   ]
  },
  {
   "cell_type": "markdown",
   "id": "56c9705b",
   "metadata": {
    "papermill": {
     "duration": 0.032562,
     "end_time": "2025-07-30T13:58:08.269200",
     "exception": false,
     "start_time": "2025-07-30T13:58:08.236638",
     "status": "completed"
    },
    "tags": []
   },
   "source": [
    "# Conformal Prediction"
   ]
  },
  {
   "cell_type": "code",
   "execution_count": 47,
   "id": "160ec6ff",
   "metadata": {
    "execution": {
     "iopub.execute_input": "2025-07-30T13:58:08.336824Z",
     "iopub.status.busy": "2025-07-30T13:58:08.336212Z",
     "iopub.status.idle": "2025-07-30T13:58:08.341570Z",
     "shell.execute_reply": "2025-07-30T13:58:08.340653Z"
    },
    "papermill": {
     "duration": 0.041786,
     "end_time": "2025-07-30T13:58:08.343620",
     "exception": false,
     "start_time": "2025-07-30T13:58:08.301834",
     "status": "completed"
    },
    "tags": []
   },
   "outputs": [],
   "source": [
    "# Miscoverage level for conformal prediction (10% allowed error rate => 90% target coverage)\n",
    "alpha = 0.1"
   ]
  },
  {
   "cell_type": "code",
   "execution_count": 48,
   "id": "eadf4555-3dd3-440e-8e35-f82a4ad9f855",
   "metadata": {
    "execution": {
     "iopub.execute_input": "2025-07-30T13:58:08.407370Z",
     "iopub.status.busy": "2025-07-30T13:58:08.406866Z",
     "iopub.status.idle": "2025-07-30T13:58:09.008704Z",
     "shell.execute_reply": "2025-07-30T13:58:09.007937Z"
    },
    "papermill": {
     "duration": 0.632902,
     "end_time": "2025-07-30T13:58:09.010635",
     "exception": false,
     "start_time": "2025-07-30T13:58:08.377733",
     "status": "completed"
    },
    "tags": []
   },
   "outputs": [],
   "source": [
    "probs_calib = model.predict_proba(X_calib)"
   ]
  },
  {
   "cell_type": "code",
   "execution_count": 49,
   "id": "2ed93547-6d5d-4983-9b36-1ecb300da49a",
   "metadata": {
    "execution": {
     "iopub.execute_input": "2025-07-30T13:58:09.066064Z",
     "iopub.status.busy": "2025-07-30T13:58:09.065543Z",
     "iopub.status.idle": "2025-07-30T13:58:09.071656Z",
     "shell.execute_reply": "2025-07-30T13:58:09.070652Z"
    },
    "papermill": {
     "duration": 0.035383,
     "end_time": "2025-07-30T13:58:09.073354",
     "exception": false,
     "start_time": "2025-07-30T13:58:09.037971",
     "status": "completed"
    },
    "tags": []
   },
   "outputs": [],
   "source": [
    "y_calib = y_calib.values.ravel().astype(int)"
   ]
  },
  {
   "cell_type": "code",
   "execution_count": 50,
   "id": "65d1320d-f588-4b38-9072-62af1ae97f7d",
   "metadata": {
    "execution": {
     "iopub.execute_input": "2025-07-30T13:58:09.130419Z",
     "iopub.status.busy": "2025-07-30T13:58:09.129636Z",
     "iopub.status.idle": "2025-07-30T13:58:09.138646Z",
     "shell.execute_reply": "2025-07-30T13:58:09.137674Z"
    },
    "papermill": {
     "duration": 0.03921,
     "end_time": "2025-07-30T13:58:09.140576",
     "exception": false,
     "start_time": "2025-07-30T13:58:09.101366",
     "status": "completed"
    },
    "tags": []
   },
   "outputs": [],
   "source": [
    "from fairness_multiverse.conformal import compute_nc_scores\n",
    "\n",
    "# Compute nonconformity scores on calibration set (1 - probability of true class)\n",
    "nc_scores = compute_nc_scores(probs_calib, y_calib)"
   ]
  },
  {
   "cell_type": "code",
   "execution_count": 51,
   "id": "df3b8ca3-53b7-43d5-9667-7c85da7aeda2",
   "metadata": {
    "execution": {
     "iopub.execute_input": "2025-07-30T13:58:09.199145Z",
     "iopub.status.busy": "2025-07-30T13:58:09.198001Z",
     "iopub.status.idle": "2025-07-30T13:58:09.206801Z",
     "shell.execute_reply": "2025-07-30T13:58:09.205448Z"
    },
    "papermill": {
     "duration": 0.039977,
     "end_time": "2025-07-30T13:58:09.208816",
     "exception": false,
     "start_time": "2025-07-30T13:58:09.168839",
     "status": "completed"
    },
    "tags": []
   },
   "outputs": [],
   "source": [
    "from fairness_multiverse.conformal import find_threshold\n",
    "\n",
    "# Find conformal threshold q_hat for the given alpha (split conformal method)\n",
    "q_hat = find_threshold(nc_scores, alpha)"
   ]
  },
  {
   "cell_type": "code",
   "execution_count": 52,
   "id": "4d29e6c1-0ef6-4aa4-b8fe-4fe79b0d033a",
   "metadata": {
    "execution": {
     "iopub.execute_input": "2025-07-30T13:58:09.264297Z",
     "iopub.status.busy": "2025-07-30T13:58:09.263884Z",
     "iopub.status.idle": "2025-07-30T13:58:09.271467Z",
     "shell.execute_reply": "2025-07-30T13:58:09.270430Z"
    },
    "papermill": {
     "duration": 0.03688,
     "end_time": "2025-07-30T13:58:09.273303",
     "exception": false,
     "start_time": "2025-07-30T13:58:09.236423",
     "status": "completed"
    },
    "tags": []
   },
   "outputs": [
    {
     "data": {
      "text/plain": [
       "0.7088011543745274"
      ]
     },
     "execution_count": 52,
     "metadata": {},
     "output_type": "execute_result"
    }
   ],
   "source": [
    "q_hat"
   ]
  },
  {
   "cell_type": "code",
   "execution_count": 53,
   "id": "92460794-cdac-4be2-ba28-f28c0515a6fb",
   "metadata": {
    "execution": {
     "iopub.execute_input": "2025-07-30T13:58:09.329726Z",
     "iopub.status.busy": "2025-07-30T13:58:09.329145Z",
     "iopub.status.idle": "2025-07-30T13:58:10.776533Z",
     "shell.execute_reply": "2025-07-30T13:58:10.775561Z"
    },
    "papermill": {
     "duration": 1.477152,
     "end_time": "2025-07-30T13:58:10.778391",
     "exception": false,
     "start_time": "2025-07-30T13:58:09.301239",
     "status": "completed"
    },
    "tags": []
   },
   "outputs": [],
   "source": [
    "from fairness_multiverse.conformal import predict_conformal_sets\n",
    "\n",
    "# Generate prediction sets for each test example\n",
    "pred_sets = predict_conformal_sets(model, X_test, q_hat)"
   ]
  },
  {
   "cell_type": "code",
   "execution_count": 54,
   "id": "d90c9a65-e6db-4f5d-80cd-e68fb7e46829",
   "metadata": {
    "execution": {
     "iopub.execute_input": "2025-07-30T13:58:10.811909Z",
     "iopub.status.busy": "2025-07-30T13:58:10.811498Z",
     "iopub.status.idle": "2025-07-30T13:58:10.817456Z",
     "shell.execute_reply": "2025-07-30T13:58:10.816433Z"
    },
    "papermill": {
     "duration": 0.022481,
     "end_time": "2025-07-30T13:58:10.819862",
     "exception": false,
     "start_time": "2025-07-30T13:58:10.797381",
     "status": "completed"
    },
    "tags": []
   },
   "outputs": [],
   "source": [
    "y_true = y_true.squeeze()"
   ]
  },
  {
   "cell_type": "code",
   "execution_count": 55,
   "id": "3a58a54a-1e68-46b9-927a-df01f18aebc8",
   "metadata": {
    "execution": {
     "iopub.execute_input": "2025-07-30T13:58:10.853662Z",
     "iopub.status.busy": "2025-07-30T13:58:10.853297Z",
     "iopub.status.idle": "2025-07-30T13:58:11.601393Z",
     "shell.execute_reply": "2025-07-30T13:58:11.600237Z"
    },
    "papermill": {
     "duration": 0.766602,
     "end_time": "2025-07-30T13:58:11.603228",
     "exception": false,
     "start_time": "2025-07-30T13:58:10.836626",
     "status": "completed"
    },
    "tags": []
   },
   "outputs": [],
   "source": [
    "from fairness_multiverse.conformal import evaluate_sets\n",
    "\n",
    "# Evaluate coverage and average set size on test data\n",
    "metrics = evaluate_sets(pred_sets, y_true)"
   ]
  },
  {
   "cell_type": "markdown",
   "id": "2b569c12-9aaa-4c88-98c9-bbcd0cf3ebb8",
   "metadata": {
    "papermill": {
     "duration": 0.029069,
     "end_time": "2025-07-30T13:58:11.665179",
     "exception": false,
     "start_time": "2025-07-30T13:58:11.636110",
     "status": "completed"
    },
    "tags": []
   },
   "source": [
    "# CP Metrics"
   ]
  },
  {
   "cell_type": "code",
   "execution_count": 56,
   "id": "5ce0a5cb-201f-45a0-ade5-94c7f0bd6095",
   "metadata": {
    "execution": {
     "iopub.execute_input": "2025-07-30T13:58:11.728653Z",
     "iopub.status.busy": "2025-07-30T13:58:11.726631Z",
     "iopub.status.idle": "2025-07-30T13:58:11.745054Z",
     "shell.execute_reply": "2025-07-30T13:58:11.734287Z"
    },
    "papermill": {
     "duration": 0.055563,
     "end_time": "2025-07-30T13:58:11.747676",
     "exception": false,
     "start_time": "2025-07-30T13:58:11.692113",
     "status": "completed"
    },
    "tags": []
   },
   "outputs": [
    {
     "data": {
      "text/plain": [
       "{'coverage': 0.9101660907368186, 'avg_size': 1.1315015048489578}"
      ]
     },
     "execution_count": 56,
     "metadata": {},
     "output_type": "execute_result"
    }
   ],
   "source": [
    "metrics"
   ]
  },
  {
   "cell_type": "code",
   "execution_count": 57,
   "id": "9b9a838d-31c9-430b-ae14-12baee460d17",
   "metadata": {
    "execution": {
     "iopub.execute_input": "2025-07-30T13:58:11.823739Z",
     "iopub.status.busy": "2025-07-30T13:58:11.823243Z",
     "iopub.status.idle": "2025-07-30T13:58:11.830410Z",
     "shell.execute_reply": "2025-07-30T13:58:11.829402Z"
    },
    "papermill": {
     "duration": 0.050082,
     "end_time": "2025-07-30T13:58:11.832474",
     "exception": false,
     "start_time": "2025-07-30T13:58:11.782392",
     "status": "completed"
    },
    "tags": []
   },
   "outputs": [],
   "source": [
    "example_universe = universe.copy()\n",
    "universe_training_size = example_universe.get(\"training_size\")\n",
    "universe_scale = example_universe.get(\"scale\")\n",
    "universe_model = example_universe.get(\"model\")\n",
    "universe_exclude_features = example_universe.get(\"exclude_features\")\n",
    "universe_exclude_subgroups = example_universe.get(\"exclude_subgroups\")"
   ]
  },
  {
   "cell_type": "code",
   "execution_count": 58,
   "id": "f4b6a8ac-9dc0-4245-8a91-5b3b5999c4f9",
   "metadata": {
    "execution": {
     "iopub.execute_input": "2025-07-30T13:58:11.883734Z",
     "iopub.status.busy": "2025-07-30T13:58:11.883273Z",
     "iopub.status.idle": "2025-07-30T13:58:11.889671Z",
     "shell.execute_reply": "2025-07-30T13:58:11.888556Z"
    },
    "papermill": {
     "duration": 0.030643,
     "end_time": "2025-07-30T13:58:11.891518",
     "exception": false,
     "start_time": "2025-07-30T13:58:11.860875",
     "status": "completed"
    },
    "tags": []
   },
   "outputs": [],
   "source": [
    "cp_metrics_dict = {\n",
    "    \"universe_id\": [universe_id],\n",
    "    \"universe_training_size\": [universe_training_size],\n",
    "    \"universe_scale\": [universe_scale],\n",
    "    \"universe_model\": [universe_model],\n",
    "    \"universe_exclude_features\": [universe_exclude_features],\n",
    "    \"universe_exclude_subgroups\": [universe_exclude_subgroups],\n",
    "    \"q_hat\": [q_hat],\n",
    "    \"coverage\": [metrics[\"coverage\"]],\n",
    "    \"avg_size\": [metrics[\"avg_size\"]],\n",
    "}"
   ]
  },
  {
   "cell_type": "code",
   "execution_count": 59,
   "id": "908acbb1-0371-4915-85ca-3fa520d2efe2",
   "metadata": {
    "execution": {
     "iopub.execute_input": "2025-07-30T13:58:11.942835Z",
     "iopub.status.busy": "2025-07-30T13:58:11.942369Z",
     "iopub.status.idle": "2025-07-30T13:58:11.950073Z",
     "shell.execute_reply": "2025-07-30T13:58:11.949124Z"
    },
    "papermill": {
     "duration": 0.03395,
     "end_time": "2025-07-30T13:58:11.951939",
     "exception": false,
     "start_time": "2025-07-30T13:58:11.917989",
     "status": "completed"
    },
    "tags": []
   },
   "outputs": [
    {
     "data": {
      "text/plain": [
       "{'universe_id': ['3d58e587564eb346a04702fae52e4b3d'],\n",
       " 'universe_training_size': ['5k'],\n",
       " 'universe_scale': ['scale'],\n",
       " 'universe_model': ['gbm'],\n",
       " 'universe_exclude_features': ['age'],\n",
       " 'universe_exclude_subgroups': ['keep-all'],\n",
       " 'q_hat': [0.7088011543745274],\n",
       " 'coverage': [0.9101660907368186],\n",
       " 'avg_size': [1.1315015048489578]}"
      ]
     },
     "execution_count": 59,
     "metadata": {},
     "output_type": "execute_result"
    }
   ],
   "source": [
    "cp_metrics_dict"
   ]
  },
  {
   "cell_type": "code",
   "execution_count": 60,
   "id": "33007efc-14e9-4ec6-97ac-56a455c82265",
   "metadata": {
    "execution": {
     "iopub.execute_input": "2025-07-30T13:58:12.004801Z",
     "iopub.status.busy": "2025-07-30T13:58:12.004411Z",
     "iopub.status.idle": "2025-07-30T13:58:12.010889Z",
     "shell.execute_reply": "2025-07-30T13:58:12.009848Z"
    },
    "papermill": {
     "duration": 0.034094,
     "end_time": "2025-07-30T13:58:12.012797",
     "exception": false,
     "start_time": "2025-07-30T13:58:11.978703",
     "status": "completed"
    },
    "tags": []
   },
   "outputs": [],
   "source": [
    "cp_metrics_df = pd.DataFrame(cp_metrics_dict)"
   ]
  },
  {
   "cell_type": "code",
   "execution_count": 61,
   "id": "db12611b-57b2-4910-b9d0-355adfd6e7bf",
   "metadata": {
    "execution": {
     "iopub.execute_input": "2025-07-30T13:58:12.066157Z",
     "iopub.status.busy": "2025-07-30T13:58:12.065648Z",
     "iopub.status.idle": "2025-07-30T13:58:12.083646Z",
     "shell.execute_reply": "2025-07-30T13:58:12.082608Z"
    },
    "papermill": {
     "duration": 0.045134,
     "end_time": "2025-07-30T13:58:12.085375",
     "exception": false,
     "start_time": "2025-07-30T13:58:12.040241",
     "status": "completed"
    },
    "tags": []
   },
   "outputs": [
    {
     "data": {
      "text/html": [
       "<div>\n",
       "<style scoped>\n",
       "    .dataframe tbody tr th:only-of-type {\n",
       "        vertical-align: middle;\n",
       "    }\n",
       "\n",
       "    .dataframe tbody tr th {\n",
       "        vertical-align: top;\n",
       "    }\n",
       "\n",
       "    .dataframe thead th {\n",
       "        text-align: right;\n",
       "    }\n",
       "</style>\n",
       "<table border=\"1\" class=\"dataframe\">\n",
       "  <thead>\n",
       "    <tr style=\"text-align: right;\">\n",
       "      <th></th>\n",
       "      <th>universe_id</th>\n",
       "      <th>universe_training_size</th>\n",
       "      <th>universe_scale</th>\n",
       "      <th>universe_model</th>\n",
       "      <th>universe_exclude_features</th>\n",
       "      <th>universe_exclude_subgroups</th>\n",
       "      <th>q_hat</th>\n",
       "      <th>coverage</th>\n",
       "      <th>avg_size</th>\n",
       "    </tr>\n",
       "  </thead>\n",
       "  <tbody>\n",
       "    <tr>\n",
       "      <th>0</th>\n",
       "      <td>3d58e587564eb346a04702fae52e4b3d</td>\n",
       "      <td>5k</td>\n",
       "      <td>scale</td>\n",
       "      <td>gbm</td>\n",
       "      <td>age</td>\n",
       "      <td>keep-all</td>\n",
       "      <td>0.708801</td>\n",
       "      <td>0.910166</td>\n",
       "      <td>1.131502</td>\n",
       "    </tr>\n",
       "  </tbody>\n",
       "</table>\n",
       "</div>"
      ],
      "text/plain": [
       "                        universe_id universe_training_size universe_scale  \\\n",
       "0  3d58e587564eb346a04702fae52e4b3d                     5k          scale   \n",
       "\n",
       "  universe_model universe_exclude_features universe_exclude_subgroups  \\\n",
       "0            gbm                       age                   keep-all   \n",
       "\n",
       "      q_hat  coverage  avg_size  \n",
       "0  0.708801  0.910166  1.131502  "
      ]
     },
     "execution_count": 61,
     "metadata": {},
     "output_type": "execute_result"
    }
   ],
   "source": [
    "cp_metrics_df"
   ]
  },
  {
   "cell_type": "code",
   "execution_count": 62,
   "id": "b7fbde55-a0a1-47e4-9af6-fe4a17fa8c61",
   "metadata": {
    "execution": {
     "iopub.execute_input": "2025-07-30T13:58:12.137410Z",
     "iopub.status.busy": "2025-07-30T13:58:12.136956Z",
     "iopub.status.idle": "2025-07-30T13:58:12.142088Z",
     "shell.execute_reply": "2025-07-30T13:58:12.141140Z"
    },
    "papermill": {
     "duration": 0.033591,
     "end_time": "2025-07-30T13:58:12.143744",
     "exception": false,
     "start_time": "2025-07-30T13:58:12.110153",
     "status": "completed"
    },
    "tags": []
   },
   "outputs": [],
   "source": [
    "# Conditional Coverage & looking at subgroups"
   ]
  },
  {
   "cell_type": "code",
   "execution_count": 63,
   "id": "027ae886-68dd-4141-96c7-805a5450e1ef",
   "metadata": {
    "execution": {
     "iopub.execute_input": "2025-07-30T13:58:12.197992Z",
     "iopub.status.busy": "2025-07-30T13:58:12.197508Z",
     "iopub.status.idle": "2025-07-30T13:58:12.465168Z",
     "shell.execute_reply": "2025-07-30T13:58:12.464251Z"
    },
    "papermill": {
     "duration": 0.296924,
     "end_time": "2025-07-30T13:58:12.467185",
     "exception": false,
     "start_time": "2025-07-30T13:58:12.170261",
     "status": "completed"
    },
    "tags": []
   },
   "outputs": [],
   "source": [
    "from fairness_multiverse.conformal import build_cp_groups\n",
    "\n",
    "cp_groups_df = build_cp_groups(pred_sets, y_true, X_test.index, org_test)\n",
    "#needs universe_id and setting"
   ]
  },
  {
   "cell_type": "code",
   "execution_count": 64,
   "id": "01d5802c-663a-4d1f-9d69-e036faaffbf7",
   "metadata": {
    "execution": {
     "iopub.execute_input": "2025-07-30T13:58:12.534398Z",
     "iopub.status.busy": "2025-07-30T13:58:12.533967Z",
     "iopub.status.idle": "2025-07-30T13:58:12.539308Z",
     "shell.execute_reply": "2025-07-30T13:58:12.538169Z"
    },
    "papermill": {
     "duration": 0.031598,
     "end_time": "2025-07-30T13:58:12.540899",
     "exception": false,
     "start_time": "2025-07-30T13:58:12.509301",
     "status": "completed"
    },
    "tags": []
   },
   "outputs": [],
   "source": [
    "#delete\n",
    "#cp_groups_df"
   ]
  },
  {
   "cell_type": "code",
   "execution_count": 65,
   "id": "fa424af1-d1eb-443d-b717-2d279ada8408",
   "metadata": {
    "execution": {
     "iopub.execute_input": "2025-07-30T13:58:12.592332Z",
     "iopub.status.busy": "2025-07-30T13:58:12.591619Z",
     "iopub.status.idle": "2025-07-30T13:58:12.596812Z",
     "shell.execute_reply": "2025-07-30T13:58:12.595772Z"
    },
    "papermill": {
     "duration": 0.032579,
     "end_time": "2025-07-30T13:58:12.598365",
     "exception": false,
     "start_time": "2025-07-30T13:58:12.565786",
     "status": "completed"
    },
    "tags": []
   },
   "outputs": [],
   "source": [
    "#delete\n",
    "#percentage = (cp_groups_df['nongerman_female'] == 1).mean() * 100\n",
    "#print(percentage)\n"
   ]
  },
  {
   "cell_type": "code",
   "execution_count": 66,
   "id": "6cbdab96-b2b2-45af-ad54-d0516db2e28d",
   "metadata": {
    "execution": {
     "iopub.execute_input": "2025-07-30T13:58:12.652609Z",
     "iopub.status.busy": "2025-07-30T13:58:12.652124Z",
     "iopub.status.idle": "2025-07-30T13:58:13.922886Z",
     "shell.execute_reply": "2025-07-30T13:58:13.922127Z"
    },
    "papermill": {
     "duration": 1.298823,
     "end_time": "2025-07-30T13:58:13.924327",
     "exception": false,
     "start_time": "2025-07-30T13:58:12.625504",
     "status": "completed"
    },
    "tags": []
   },
   "outputs": [],
   "source": [
    "# Define covered = 1 if true_label is in the predicted set\n",
    "cp_groups_df['covered'] = cp_groups_df.apply(\n",
    "    lambda r: int(r['true_label'] in r['pred_set']),\n",
    "    axis=1\n",
    ")"
   ]
  },
  {
   "cell_type": "code",
   "execution_count": 67,
   "id": "338ff529-1a6b-4b87-a931-8e4788d52aad",
   "metadata": {
    "execution": {
     "iopub.execute_input": "2025-07-30T13:58:13.953653Z",
     "iopub.status.busy": "2025-07-30T13:58:13.953305Z",
     "iopub.status.idle": "2025-07-30T13:58:13.958046Z",
     "shell.execute_reply": "2025-07-30T13:58:13.957192Z"
    },
    "papermill": {
     "duration": 0.020783,
     "end_time": "2025-07-30T13:58:13.959273",
     "exception": false,
     "start_time": "2025-07-30T13:58:13.938490",
     "status": "completed"
    },
    "tags": []
   },
   "outputs": [],
   "source": [
    "#cp_groups_df"
   ]
  },
  {
   "cell_type": "code",
   "execution_count": 68,
   "id": "90032e27-66df-4540-9169-4e89cfbaa758",
   "metadata": {
    "execution": {
     "iopub.execute_input": "2025-07-30T13:58:13.990092Z",
     "iopub.status.busy": "2025-07-30T13:58:13.989573Z",
     "iopub.status.idle": "2025-07-30T13:58:13.999496Z",
     "shell.execute_reply": "2025-07-30T13:58:13.998608Z"
    },
    "papermill": {
     "duration": 0.026361,
     "end_time": "2025-07-30T13:58:14.000984",
     "exception": false,
     "start_time": "2025-07-30T13:58:13.974623",
     "status": "completed"
    },
    "tags": []
   },
   "outputs": [],
   "source": [
    "subgroups = ['frau1','nongerman','nongerman_male','nongerman_female']\n",
    "\n",
    "# Conditional coverage for subgroup==1\n",
    "cond_coverage = {\n",
    "    g: cp_groups_df.loc[cp_groups_df[g]==1, 'covered'].mean()\n",
    "    for g in subgroups\n",
    "}"
   ]
  },
  {
   "cell_type": "code",
   "execution_count": 69,
   "id": "1e348fb1-b9c3-45bc-ba23-f016827a7e0d",
   "metadata": {
    "execution": {
     "iopub.execute_input": "2025-07-30T13:58:14.030809Z",
     "iopub.status.busy": "2025-07-30T13:58:14.030314Z",
     "iopub.status.idle": "2025-07-30T13:58:14.037036Z",
     "shell.execute_reply": "2025-07-30T13:58:14.036292Z"
    },
    "papermill": {
     "duration": 0.023101,
     "end_time": "2025-07-30T13:58:14.038621",
     "exception": false,
     "start_time": "2025-07-30T13:58:14.015520",
     "status": "completed"
    },
    "tags": []
   },
   "outputs": [
    {
     "data": {
      "text/plain": [
       "{'frau1': 0.9034640787168082,\n",
       " 'nongerman': 0.9058552742379161,\n",
       " 'nongerman_male': 0.9242547059353328,\n",
       " 'nongerman_female': 0.8754098360655738}"
      ]
     },
     "execution_count": 69,
     "metadata": {},
     "output_type": "execute_result"
    }
   ],
   "source": [
    "cond_coverage"
   ]
  },
  {
   "cell_type": "code",
   "execution_count": 70,
   "id": "f5093324-c3dd-4d63-bc4c-8d945e5c8bbb",
   "metadata": {
    "execution": {
     "iopub.execute_input": "2025-07-30T13:58:14.069524Z",
     "iopub.status.busy": "2025-07-30T13:58:14.069101Z",
     "iopub.status.idle": "2025-07-30T13:58:14.075108Z",
     "shell.execute_reply": "2025-07-30T13:58:14.074326Z"
    },
    "papermill": {
     "duration": 0.022835,
     "end_time": "2025-07-30T13:58:14.076542",
     "exception": false,
     "start_time": "2025-07-30T13:58:14.053707",
     "status": "completed"
    },
    "tags": []
   },
   "outputs": [],
   "source": [
    "for subgroup, cov in cond_coverage.items():\n",
    "    cp_metrics_df[f\"cov_{subgroup}\"] = cov"
   ]
  },
  {
   "cell_type": "code",
   "execution_count": 71,
   "id": "6e872e10-dbe5-49e8-b554-5030c98ff75d",
   "metadata": {
    "execution": {
     "iopub.execute_input": "2025-07-30T13:58:14.107984Z",
     "iopub.status.busy": "2025-07-30T13:58:14.107490Z",
     "iopub.status.idle": "2025-07-30T13:58:14.121108Z",
     "shell.execute_reply": "2025-07-30T13:58:14.120200Z"
    },
    "papermill": {
     "duration": 0.03022,
     "end_time": "2025-07-30T13:58:14.122525",
     "exception": false,
     "start_time": "2025-07-30T13:58:14.092305",
     "status": "completed"
    },
    "tags": []
   },
   "outputs": [
    {
     "data": {
      "text/html": [
       "<div>\n",
       "<style scoped>\n",
       "    .dataframe tbody tr th:only-of-type {\n",
       "        vertical-align: middle;\n",
       "    }\n",
       "\n",
       "    .dataframe tbody tr th {\n",
       "        vertical-align: top;\n",
       "    }\n",
       "\n",
       "    .dataframe thead th {\n",
       "        text-align: right;\n",
       "    }\n",
       "</style>\n",
       "<table border=\"1\" class=\"dataframe\">\n",
       "  <thead>\n",
       "    <tr style=\"text-align: right;\">\n",
       "      <th></th>\n",
       "      <th>universe_id</th>\n",
       "      <th>universe_training_size</th>\n",
       "      <th>universe_scale</th>\n",
       "      <th>universe_model</th>\n",
       "      <th>universe_exclude_features</th>\n",
       "      <th>universe_exclude_subgroups</th>\n",
       "      <th>q_hat</th>\n",
       "      <th>coverage</th>\n",
       "      <th>avg_size</th>\n",
       "      <th>cov_frau1</th>\n",
       "      <th>cov_nongerman</th>\n",
       "      <th>cov_nongerman_male</th>\n",
       "      <th>cov_nongerman_female</th>\n",
       "    </tr>\n",
       "  </thead>\n",
       "  <tbody>\n",
       "    <tr>\n",
       "      <th>0</th>\n",
       "      <td>3d58e587564eb346a04702fae52e4b3d</td>\n",
       "      <td>5k</td>\n",
       "      <td>scale</td>\n",
       "      <td>gbm</td>\n",
       "      <td>age</td>\n",
       "      <td>keep-all</td>\n",
       "      <td>0.708801</td>\n",
       "      <td>0.910166</td>\n",
       "      <td>1.131502</td>\n",
       "      <td>0.903464</td>\n",
       "      <td>0.905855</td>\n",
       "      <td>0.924255</td>\n",
       "      <td>0.87541</td>\n",
       "    </tr>\n",
       "  </tbody>\n",
       "</table>\n",
       "</div>"
      ],
      "text/plain": [
       "                        universe_id universe_training_size universe_scale  \\\n",
       "0  3d58e587564eb346a04702fae52e4b3d                     5k          scale   \n",
       "\n",
       "  universe_model universe_exclude_features universe_exclude_subgroups  \\\n",
       "0            gbm                       age                   keep-all   \n",
       "\n",
       "      q_hat  coverage  avg_size  cov_frau1  cov_nongerman  cov_nongerman_male  \\\n",
       "0  0.708801  0.910166  1.131502   0.903464       0.905855            0.924255   \n",
       "\n",
       "   cov_nongerman_female  \n",
       "0               0.87541  "
      ]
     },
     "execution_count": 71,
     "metadata": {},
     "output_type": "execute_result"
    }
   ],
   "source": [
    "cp_metrics_df"
   ]
  },
  {
   "cell_type": "markdown",
   "id": "33774451",
   "metadata": {
    "papermill": {
     "duration": 0.013923,
     "end_time": "2025-07-30T13:58:14.152122",
     "exception": false,
     "start_time": "2025-07-30T13:58:14.138199",
     "status": "completed"
    },
    "tags": []
   },
   "source": [
    "# (Fairness) Metrics"
   ]
  },
  {
   "cell_type": "code",
   "execution_count": 72,
   "id": "debc5d62",
   "metadata": {
    "execution": {
     "iopub.execute_input": "2025-07-30T13:58:14.182173Z",
     "iopub.status.busy": "2025-07-30T13:58:14.181320Z",
     "iopub.status.idle": "2025-07-30T13:58:14.196245Z",
     "shell.execute_reply": "2025-07-30T13:58:14.195421Z"
    },
    "papermill": {
     "duration": 0.031756,
     "end_time": "2025-07-30T13:58:14.197868",
     "exception": false,
     "start_time": "2025-07-30T13:58:14.166112",
     "status": "completed"
    },
    "tags": []
   },
   "outputs": [],
   "source": [
    "# do I need to include maxdeutsch1.missing?\n",
    "\n",
    "import numpy as np\n",
    "\n",
    "colname_to_bin = \"maxdeutsch1\"\n",
    "majority_value = org_train[colname_to_bin].mode()[0]\n",
    "\n",
    "org_test[\"majmin\"] = np.where(org_test[colname_to_bin] == majority_value, \"majority\", \"minority\")"
   ]
  },
  {
   "cell_type": "code",
   "execution_count": 73,
   "id": "06a50de5",
   "metadata": {
    "execution": {
     "iopub.execute_input": "2025-07-30T13:58:14.227891Z",
     "iopub.status.busy": "2025-07-30T13:58:14.227383Z",
     "iopub.status.idle": "2025-07-30T13:58:16.257273Z",
     "shell.execute_reply": "2025-07-30T13:58:16.256345Z"
    },
    "papermill": {
     "duration": 2.046659,
     "end_time": "2025-07-30T13:58:16.259107",
     "exception": false,
     "start_time": "2025-07-30T13:58:14.212448",
     "status": "completed"
    },
    "tags": []
   },
   "outputs": [],
   "source": [
    "example_universe = universe.copy()\n",
    "example_universe[\"cutoff\"] = example_universe[\"cutoff\"][0]\n",
    "example_universe[\"eval_fairness_grouping\"] = example_universe[\"eval_fairness_grouping\"][0]\n",
    "fairness_dict, metric_frame = universe_analysis.compute_metrics(\n",
    "    example_universe,\n",
    "    y_pred_prob=probs_test,\n",
    "    y_test=y_true,\n",
    "    org_test=org_test,\n",
    ")"
   ]
  },
  {
   "cell_type": "markdown",
   "id": "f95d4e02",
   "metadata": {
    "papermill": {
     "duration": 0.028637,
     "end_time": "2025-07-30T13:58:16.317949",
     "exception": false,
     "start_time": "2025-07-30T13:58:16.289312",
     "status": "completed"
    },
    "tags": []
   },
   "source": [
    "# Overall"
   ]
  },
  {
   "cell_type": "markdown",
   "id": "bdee4871",
   "metadata": {
    "papermill": {
     "duration": 0.077035,
     "end_time": "2025-07-30T13:58:16.423616",
     "exception": false,
     "start_time": "2025-07-30T13:58:16.346581",
     "status": "completed"
    },
    "tags": []
   },
   "source": [
    "Fairness\n",
    "Main fairness target: Equalized Odds. Seems to be a better fit than equal opportunity, since we're not only interested in Y = 1. Seems to be a better fit than demographic parity, since we also care about accuracy, not just equal distribution of preds.\n",
    "\n",
    "Pick column for computation of fairness metrics\n",
    "\n",
    "Performance\n",
    "Overall performance measures, most interesting in relation to the measures split by group below"
   ]
  },
  {
   "cell_type": "code",
   "execution_count": 74,
   "id": "c4e067c6",
   "metadata": {
    "execution": {
     "iopub.execute_input": "2025-07-30T13:58:16.483191Z",
     "iopub.status.busy": "2025-07-30T13:58:16.482537Z",
     "iopub.status.idle": "2025-07-30T13:58:16.491405Z",
     "shell.execute_reply": "2025-07-30T13:58:16.490403Z"
    },
    "papermill": {
     "duration": 0.040846,
     "end_time": "2025-07-30T13:58:16.493360",
     "exception": false,
     "start_time": "2025-07-30T13:58:16.452514",
     "status": "completed"
    },
    "tags": []
   },
   "outputs": [
    {
     "data": {
      "text/plain": [
       "accuracy                   0.223754\n",
       "balanced accuracy          0.547240\n",
       "f1                         0.245103\n",
       "precision                  0.140019\n",
       "false positive rate        0.887880\n",
       "false negative rate        0.017640\n",
       "selection rate             0.900000\n",
       "count                  89710.000000\n",
       "dtype: float64"
      ]
     },
     "execution_count": 74,
     "metadata": {},
     "output_type": "execute_result"
    }
   ],
   "source": [
    "metric_frame.overall"
   ]
  },
  {
   "cell_type": "markdown",
   "id": "e968fe9d",
   "metadata": {
    "papermill": {
     "duration": 0.028891,
     "end_time": "2025-07-30T13:58:16.552308",
     "exception": false,
     "start_time": "2025-07-30T13:58:16.523417",
     "status": "completed"
    },
    "tags": []
   },
   "source": [
    "By Group"
   ]
  },
  {
   "cell_type": "code",
   "execution_count": 75,
   "id": "ec325bce",
   "metadata": {
    "execution": {
     "iopub.execute_input": "2025-07-30T13:58:16.611573Z",
     "iopub.status.busy": "2025-07-30T13:58:16.610949Z",
     "iopub.status.idle": "2025-07-30T13:58:16.626189Z",
     "shell.execute_reply": "2025-07-30T13:58:16.625149Z"
    },
    "papermill": {
     "duration": 0.046944,
     "end_time": "2025-07-30T13:58:16.628152",
     "exception": false,
     "start_time": "2025-07-30T13:58:16.581208",
     "status": "completed"
    },
    "tags": []
   },
   "outputs": [
    {
     "data": {
      "text/html": [
       "<div>\n",
       "<style scoped>\n",
       "    .dataframe tbody tr th:only-of-type {\n",
       "        vertical-align: middle;\n",
       "    }\n",
       "\n",
       "    .dataframe tbody tr th {\n",
       "        vertical-align: top;\n",
       "    }\n",
       "\n",
       "    .dataframe thead th {\n",
       "        text-align: right;\n",
       "    }\n",
       "</style>\n",
       "<table border=\"1\" class=\"dataframe\">\n",
       "  <thead>\n",
       "    <tr style=\"text-align: right;\">\n",
       "      <th></th>\n",
       "      <th>accuracy</th>\n",
       "      <th>balanced accuracy</th>\n",
       "      <th>f1</th>\n",
       "      <th>precision</th>\n",
       "      <th>false positive rate</th>\n",
       "      <th>false negative rate</th>\n",
       "      <th>selection rate</th>\n",
       "      <th>count</th>\n",
       "    </tr>\n",
       "    <tr>\n",
       "      <th>majmin</th>\n",
       "      <th></th>\n",
       "      <th></th>\n",
       "      <th></th>\n",
       "      <th></th>\n",
       "      <th></th>\n",
       "      <th></th>\n",
       "      <th></th>\n",
       "      <th></th>\n",
       "    </tr>\n",
       "  </thead>\n",
       "  <tbody>\n",
       "    <tr>\n",
       "      <th>majority</th>\n",
       "      <td>0.243198</td>\n",
       "      <td>0.555962</td>\n",
       "      <td>0.255172</td>\n",
       "      <td>0.146659</td>\n",
       "      <td>0.869149</td>\n",
       "      <td>0.018928</td>\n",
       "      <td>0.883938</td>\n",
       "      <td>69170.0</td>\n",
       "    </tr>\n",
       "    <tr>\n",
       "      <th>minority</th>\n",
       "      <td>0.158277</td>\n",
       "      <td>0.518787</td>\n",
       "      <td>0.212884</td>\n",
       "      <td>0.119304</td>\n",
       "      <td>0.949758</td>\n",
       "      <td>0.012669</td>\n",
       "      <td>0.954090</td>\n",
       "      <td>20540.0</td>\n",
       "    </tr>\n",
       "  </tbody>\n",
       "</table>\n",
       "</div>"
      ],
      "text/plain": [
       "          accuracy  balanced accuracy        f1  precision  \\\n",
       "majmin                                                       \n",
       "majority  0.243198           0.555962  0.255172   0.146659   \n",
       "minority  0.158277           0.518787  0.212884   0.119304   \n",
       "\n",
       "          false positive rate  false negative rate  selection rate    count  \n",
       "majmin                                                                       \n",
       "majority             0.869149             0.018928        0.883938  69170.0  \n",
       "minority             0.949758             0.012669        0.954090  20540.0  "
      ]
     },
     "execution_count": 75,
     "metadata": {},
     "output_type": "execute_result"
    }
   ],
   "source": [
    "metric_frame.by_group"
   ]
  },
  {
   "cell_type": "code",
   "execution_count": 76,
   "id": "a9ddbe63",
   "metadata": {
    "execution": {
     "iopub.execute_input": "2025-07-30T13:58:16.680958Z",
     "iopub.status.busy": "2025-07-30T13:58:16.680259Z",
     "iopub.status.idle": "2025-07-30T13:58:18.869730Z",
     "shell.execute_reply": "2025-07-30T13:58:18.868880Z"
    },
    "papermill": {
     "duration": 2.217027,
     "end_time": "2025-07-30T13:58:18.871359",
     "exception": false,
     "start_time": "2025-07-30T13:58:16.654332",
     "status": "completed"
    },
    "tags": []
   },
   "outputs": [
    {
     "data": {
      "text/plain": [
       "array([[<Axes: title={'center': 'accuracy'}, xlabel='majmin'>,\n",
       "        <Axes: title={'center': 'balanced accuracy'}, xlabel='majmin'>,\n",
       "        <Axes: title={'center': 'f1'}, xlabel='majmin'>],\n",
       "       [<Axes: title={'center': 'precision'}, xlabel='majmin'>,\n",
       "        <Axes: title={'center': 'false positive rate'}, xlabel='majmin'>,\n",
       "        <Axes: title={'center': 'false negative rate'}, xlabel='majmin'>],\n",
       "       [<Axes: title={'center': 'selection rate'}, xlabel='majmin'>,\n",
       "        <Axes: title={'center': 'count'}, xlabel='majmin'>,\n",
       "        <Axes: xlabel='majmin'>]], dtype=object)"
      ]
     },
     "execution_count": 76,
     "metadata": {},
     "output_type": "execute_result"
    },
    {
     "data": {
      "image/png": "[encoded data removed]",
      "text/plain": [
       "<Figure size 1200x800 with 9 Axes>"
      ]
     },
     "metadata": {},
     "output_type": "display_data"
    }
   ],
   "source": [
    "# In a graphic\n",
    "metric_frame.by_group.plot.bar(\n",
    "    subplots=True,\n",
    "    layout=[3, 3],\n",
    "    legend=False,\n",
    "    figsize=[12, 8],\n",
    "    title=\"Show all metrics\",\n",
    ")"
   ]
  },
  {
   "cell_type": "markdown",
   "id": "f57a0bac",
   "metadata": {
    "papermill": {
     "duration": 0.02896,
     "end_time": "2025-07-30T13:58:18.948590",
     "exception": false,
     "start_time": "2025-07-30T13:58:18.919630",
     "status": "completed"
    },
    "tags": []
   },
   "source": [
    "# Final Output"
   ]
  },
  {
   "cell_type": "code",
   "execution_count": 77,
   "id": "96d280a3",
   "metadata": {
    "execution": {
     "iopub.execute_input": "2025-07-30T13:58:19.007431Z",
     "iopub.status.busy": "2025-07-30T13:58:19.006815Z",
     "iopub.status.idle": "2025-07-30T13:58:19.014878Z",
     "shell.execute_reply": "2025-07-30T13:58:19.013924Z"
    },
    "papermill": {
     "duration": 0.0389,
     "end_time": "2025-07-30T13:58:19.016462",
     "exception": false,
     "start_time": "2025-07-30T13:58:18.977562",
     "status": "completed"
    },
    "tags": []
   },
   "outputs": [
    {
     "data": {
      "text/plain": [
       "4"
      ]
     },
     "execution_count": 77,
     "metadata": {},
     "output_type": "execute_result"
    }
   ],
   "source": [
    "sub_universes = universe_analysis.generate_sub_universes()\n",
    "len(sub_universes)"
   ]
  },
  {
   "cell_type": "code",
   "execution_count": 78,
   "id": "92adf7ba",
   "metadata": {
    "execution": {
     "iopub.execute_input": "2025-07-30T13:58:19.072808Z",
     "iopub.status.busy": "2025-07-30T13:58:19.072150Z",
     "iopub.status.idle": "2025-07-30T13:58:19.078403Z",
     "shell.execute_reply": "2025-07-30T13:58:19.077524Z"
    },
    "papermill": {
     "duration": 0.036577,
     "end_time": "2025-07-30T13:58:19.080131",
     "exception": false,
     "start_time": "2025-07-30T13:58:19.043554",
     "status": "completed"
    },
    "tags": []
   },
   "outputs": [],
   "source": [
    "def filter_sub_universe_data(sub_universe, org_test):\n",
    "    # Keep all rows — no filtering\n",
    "    keep_rows_mask = np.ones(org_test.shape[0], dtype=bool)\n",
    "\n",
    "    print(f\"[INFO] Keeping all rows: {keep_rows_mask.sum()} rows retained.\")\n",
    "    return keep_rows_mask"
   ]
  },
  {
   "cell_type": "code",
   "execution_count": 79,
   "id": "4a759155",
   "metadata": {
    "execution": {
     "iopub.execute_input": "2025-07-30T13:58:19.136809Z",
     "iopub.status.busy": "2025-07-30T13:58:19.135995Z",
     "iopub.status.idle": "2025-07-30T13:58:28.837598Z",
     "shell.execute_reply": "2025-07-30T13:58:28.836493Z"
    },
    "papermill": {
     "duration": 9.7311,
     "end_time": "2025-07-30T13:58:28.839277",
     "exception": false,
     "start_time": "2025-07-30T13:58:19.108177",
     "status": "completed"
    },
    "tags": []
   },
   "outputs": [
    {
     "name": "stdout",
     "output_type": "stream",
     "text": [
      "Stopping execution_time clock.\n",
      "[INFO] Keeping all rows: 89710 rows retained.\n"
     ]
    },
    {
     "name": "stdout",
     "output_type": "stream",
     "text": [
      "[INFO] Keeping all rows: 89710 rows retained.\n"
     ]
    },
    {
     "name": "stdout",
     "output_type": "stream",
     "text": [
      "[INFO] Keeping all rows: 89710 rows retained.\n"
     ]
    },
    {
     "name": "stdout",
     "output_type": "stream",
     "text": [
      "[INFO] Keeping all rows: 89710 rows retained.\n"
     ]
    },
    {
     "data": {
      "text/html": [
       "<div>\n",
       "<style scoped>\n",
       "    .dataframe tbody tr th:only-of-type {\n",
       "        vertical-align: middle;\n",
       "    }\n",
       "\n",
       "    .dataframe tbody tr th {\n",
       "        vertical-align: top;\n",
       "    }\n",
       "\n",
       "    .dataframe thead th {\n",
       "        text-align: right;\n",
       "    }\n",
       "</style>\n",
       "<table border=\"1\" class=\"dataframe\">\n",
       "  <thead>\n",
       "    <tr style=\"text-align: right;\">\n",
       "      <th></th>\n",
       "      <th>run_no</th>\n",
       "      <th>universe_id</th>\n",
       "      <th>universe_settings</th>\n",
       "      <th>execution_time</th>\n",
       "      <th>test_size_n</th>\n",
       "      <th>test_size_frac</th>\n",
       "      <th>fair_main_equalized_odds_difference</th>\n",
       "      <th>fair_main_equalized_odds_ratio</th>\n",
       "      <th>fair_main_demographic_parity_difference</th>\n",
       "      <th>fair_main_demographic_parity_ratio</th>\n",
       "      <th>...</th>\n",
       "      <th>perf_grp_precision_0</th>\n",
       "      <th>perf_grp_precision_1</th>\n",
       "      <th>perf_grp_false positive rate_0</th>\n",
       "      <th>perf_grp_false positive rate_1</th>\n",
       "      <th>perf_grp_false negative rate_0</th>\n",
       "      <th>perf_grp_false negative rate_1</th>\n",
       "      <th>perf_grp_selection rate_0</th>\n",
       "      <th>perf_grp_selection rate_1</th>\n",
       "      <th>perf_grp_count_0</th>\n",
       "      <th>perf_grp_count_1</th>\n",
       "    </tr>\n",
       "  </thead>\n",
       "  <tbody>\n",
       "    <tr>\n",
       "      <th>0</th>\n",
       "      <td>12</td>\n",
       "      <td>3d58e587564eb346a04702fae52e4b3d</td>\n",
       "      <td>{\"cutoff\": \"quantile_0.1\", \"eval_fairness_grou...</td>\n",
       "      <td>32.94624</td>\n",
       "      <td>89710</td>\n",
       "      <td>1.0</td>\n",
       "      <td>0.080609</td>\n",
       "      <td>0.915127</td>\n",
       "      <td>0.070151</td>\n",
       "      <td>0.926473</td>\n",
       "      <td>...</td>\n",
       "      <td>NaN</td>\n",
       "      <td>NaN</td>\n",
       "      <td>NaN</td>\n",
       "      <td>NaN</td>\n",
       "      <td>NaN</td>\n",
       "      <td>NaN</td>\n",
       "      <td>NaN</td>\n",
       "      <td>NaN</td>\n",
       "      <td>NaN</td>\n",
       "      <td>NaN</td>\n",
       "    </tr>\n",
       "    <tr>\n",
       "      <th>0</th>\n",
       "      <td>12</td>\n",
       "      <td>3d58e587564eb346a04702fae52e4b3d</td>\n",
       "      <td>{\"cutoff\": \"quantile_0.1\", \"eval_fairness_grou...</td>\n",
       "      <td>32.94624</td>\n",
       "      <td>89710</td>\n",
       "      <td>1.0</td>\n",
       "      <td>0.080609</td>\n",
       "      <td>0.915127</td>\n",
       "      <td>0.070151</td>\n",
       "      <td>0.926473</td>\n",
       "      <td>...</td>\n",
       "      <td>0.119304</td>\n",
       "      <td>0.146659</td>\n",
       "      <td>0.949758</td>\n",
       "      <td>0.869149</td>\n",
       "      <td>0.012669</td>\n",
       "      <td>0.018928</td>\n",
       "      <td>0.954090</td>\n",
       "      <td>0.883938</td>\n",
       "      <td>20540.0</td>\n",
       "      <td>69170.0</td>\n",
       "    </tr>\n",
       "    <tr>\n",
       "      <th>0</th>\n",
       "      <td>12</td>\n",
       "      <td>3d58e587564eb346a04702fae52e4b3d</td>\n",
       "      <td>{\"cutoff\": \"quantile_0.25\", \"eval_fairness_gro...</td>\n",
       "      <td>32.94624</td>\n",
       "      <td>89710</td>\n",
       "      <td>1.0</td>\n",
       "      <td>0.151825</td>\n",
       "      <td>0.818954</td>\n",
       "      <td>0.131596</td>\n",
       "      <td>0.845446</td>\n",
       "      <td>...</td>\n",
       "      <td>NaN</td>\n",
       "      <td>NaN</td>\n",
       "      <td>NaN</td>\n",
       "      <td>NaN</td>\n",
       "      <td>NaN</td>\n",
       "      <td>NaN</td>\n",
       "      <td>NaN</td>\n",
       "      <td>NaN</td>\n",
       "      <td>NaN</td>\n",
       "      <td>NaN</td>\n",
       "    </tr>\n",
       "    <tr>\n",
       "      <th>0</th>\n",
       "      <td>12</td>\n",
       "      <td>3d58e587564eb346a04702fae52e4b3d</td>\n",
       "      <td>{\"cutoff\": \"quantile_0.25\", \"eval_fairness_gro...</td>\n",
       "      <td>32.94624</td>\n",
       "      <td>89710</td>\n",
       "      <td>1.0</td>\n",
       "      <td>0.151825</td>\n",
       "      <td>0.818954</td>\n",
       "      <td>0.131596</td>\n",
       "      <td>0.845446</td>\n",
       "      <td>...</td>\n",
       "      <td>0.128652</td>\n",
       "      <td>0.172032</td>\n",
       "      <td>0.838598</td>\n",
       "      <td>0.686773</td>\n",
       "      <td>0.049831</td>\n",
       "      <td>0.062801</td>\n",
       "      <td>0.851461</td>\n",
       "      <td>0.719864</td>\n",
       "      <td>20540.0</td>\n",
       "      <td>69170.0</td>\n",
       "    </tr>\n",
       "  </tbody>\n",
       "</table>\n",
       "<p>4 rows × 50 columns</p>\n",
       "</div>"
      ],
      "text/plain": [
       "  run_no                       universe_id  \\\n",
       "0     12  3d58e587564eb346a04702fae52e4b3d   \n",
       "0     12  3d58e587564eb346a04702fae52e4b3d   \n",
       "0     12  3d58e587564eb346a04702fae52e4b3d   \n",
       "0     12  3d58e587564eb346a04702fae52e4b3d   \n",
       "\n",
       "                                   universe_settings  execution_time  \\\n",
       "0  {\"cutoff\": \"quantile_0.1\", \"eval_fairness_grou...        32.94624   \n",
       "0  {\"cutoff\": \"quantile_0.1\", \"eval_fairness_grou...        32.94624   \n",
       "0  {\"cutoff\": \"quantile_0.25\", \"eval_fairness_gro...        32.94624   \n",
       "0  {\"cutoff\": \"quantile_0.25\", \"eval_fairness_gro...        32.94624   \n",
       "\n",
       "   test_size_n  test_size_frac  fair_main_equalized_odds_difference  \\\n",
       "0        89710             1.0                             0.080609   \n",
       "0        89710             1.0                             0.080609   \n",
       "0        89710             1.0                             0.151825   \n",
       "0        89710             1.0                             0.151825   \n",
       "\n",
       "   fair_main_equalized_odds_ratio  fair_main_demographic_parity_difference  \\\n",
       "0                        0.915127                                 0.070151   \n",
       "0                        0.915127                                 0.070151   \n",
       "0                        0.818954                                 0.131596   \n",
       "0                        0.818954                                 0.131596   \n",
       "\n",
       "   fair_main_demographic_parity_ratio  ...  perf_grp_precision_0  \\\n",
       "0                            0.926473  ...                   NaN   \n",
       "0                            0.926473  ...              0.119304   \n",
       "0                            0.845446  ...                   NaN   \n",
       "0                            0.845446  ...              0.128652   \n",
       "\n",
       "   perf_grp_precision_1  perf_grp_false positive rate_0  \\\n",
       "0                   NaN                             NaN   \n",
       "0              0.146659                        0.949758   \n",
       "0                   NaN                             NaN   \n",
       "0              0.172032                        0.838598   \n",
       "\n",
       "   perf_grp_false positive rate_1  perf_grp_false negative rate_0  \\\n",
       "0                             NaN                             NaN   \n",
       "0                        0.869149                        0.012669   \n",
       "0                             NaN                             NaN   \n",
       "0                        0.686773                        0.049831   \n",
       "\n",
       "   perf_grp_false negative rate_1  perf_grp_selection rate_0  \\\n",
       "0                             NaN                        NaN   \n",
       "0                        0.018928                   0.954090   \n",
       "0                             NaN                        NaN   \n",
       "0                        0.062801                   0.851461   \n",
       "\n",
       "   perf_grp_selection rate_1  perf_grp_count_0  perf_grp_count_1  \n",
       "0                        NaN               NaN               NaN  \n",
       "0                   0.883938           20540.0           69170.0  \n",
       "0                        NaN               NaN               NaN  \n",
       "0                   0.719864           20540.0           69170.0  \n",
       "\n",
       "[4 rows x 50 columns]"
      ]
     },
     "execution_count": 79,
     "metadata": {},
     "output_type": "execute_result"
    }
   ],
   "source": [
    "final_output = universe_analysis.generate_final_output(\n",
    "    y_pred_prob=probs_test,\n",
    "    y_test=y_true,\n",
    "    org_test=org_test,\n",
    "    filter_data=filter_sub_universe_data,\n",
    "    cp_metrics_df=cp_metrics_df,\n",
    "    save=True,\n",
    ")\n",
    "final_output"
   ]
  },
  {
   "cell_type": "code",
   "execution_count": null,
   "id": "721ff514-cb11-46f8-b6fc-50392f74b5cb",
   "metadata": {
    "papermill": {
     "duration": 0.026341,
     "end_time": "2025-07-30T13:58:28.887806",
     "exception": false,
     "start_time": "2025-07-30T13:58:28.861465",
     "status": "completed"
    },
    "tags": []
   },
   "outputs": [],
   "source": []
  }
 ],
 "metadata": {
  "celltoolbar": "Tags",
  "kernelspec": {
   "display_name": "Python (CMA Fairness)",
   "language": "python",
   "name": "cma_fair_env"
  },
  "language_info": {
   "codemirror_mode": {
    "name": "ipython",
    "version": 3
   },
   "file_extension": ".py",
   "mimetype": "text/x-python",
   "name": "python",
   "nbconvert_exporter": "python",
   "pygments_lexer": "ipython3",
   "version": "3.10.12"
  },
  "papermill": {
   "default_parameters": {},
   "duration": 46.677277,
   "end_time": "2025-07-30T13:58:29.725819",
   "environment_variables": {},
   "exception": null,
   "input_path": "universe_analysis.ipynb",
   "output_path": "output/runs/12/notebooks/m_12-3d58e587564eb346a04702fae52e4b3d.ipynb",
   "parameters": {
    "output_dir": "output",
    "run_no": "12",
    "seed": "2023",
    "universe": "{\"cutoff\": [\"quantile_0.1\", \"quantile_0.25\"], \"eval_fairness_grouping\": [\"majority-minority\", \"nationality-all\"], \"exclude_features\": \"age\", \"exclude_subgroups\": \"keep-all\", \"model\": \"gbm\", \"scale\": \"scale\", \"training_size\": \"5k\", \"training_year\": \"2012_14\"}",
    "universe_id": "3d58e587564eb346a04702fae52e4b3d"
   },
   "start_time": "2025-07-30T13:57:43.048542",
   "version": "2.6.0"
  }
 },
 "nbformat": 4,
 "nbformat_minor": 5
}