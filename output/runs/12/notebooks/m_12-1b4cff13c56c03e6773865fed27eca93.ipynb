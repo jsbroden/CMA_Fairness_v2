{
 "cells": [
  {
   "cell_type": "code",
   "execution_count": 1,
   "id": "f159f837-637b-42ba-96b5-ec9a68c44524",
   "metadata": {
    "execution": {
     "iopub.execute_input": "2025-07-30T13:14:16.373226Z",
     "iopub.status.busy": "2025-07-30T13:14:16.372787Z",
     "iopub.status.idle": "2025-07-30T13:14:16.388697Z",
     "shell.execute_reply": "2025-07-30T13:14:16.387605Z"
    },
    "papermill": {
     "duration": 0.0584,
     "end_time": "2025-07-30T13:14:16.390794",
     "exception": false,
     "start_time": "2025-07-30T13:14:16.332394",
     "status": "completed"
    },
    "tags": []
   },
   "outputs": [
    {
     "name": "stdout",
     "output_type": "stream",
     "text": [
      "/dss/dsshome1/0C/ra93lal2/cma/CMA_Fairness_v2\n"
     ]
    },
    {
     "name": "stderr",
     "output_type": "stream",
     "text": [
      "/dss/dsshome1/0C/ra93lal2/.local/share/virtualenvs/CMA_Fairness_v2-3j10GkSs/lib/python3.10/site-packages/IPython/core/magics/osm.py:393: UserWarning: This is now an optional IPython functionality, using bookmarks requires you to install the `pickleshare` library.\n",
      "  bkms = self.shell.db.get('bookmarks', {})\n",
      "/dss/dsshome1/0C/ra93lal2/.local/share/virtualenvs/CMA_Fairness_v2-3j10GkSs/lib/python3.10/site-packages/IPython/core/magics/osm.py:417: UserWarning: This is now an optional IPython functionality, setting dhist requires you to install the `pickleshare` library.\n",
      "  self.shell.db['dhist'] = compress_dhist(dhist)[-100:]\n"
     ]
    }
   ],
   "source": [
    "%cd ~/cma/CMA_Fairness_v2"
   ]
  },
  {
   "cell_type": "markdown",
   "id": "de2603b9",
   "metadata": {
    "papermill": {
     "duration": 0.035917,
     "end_time": "2025-07-30T13:14:16.464586",
     "exception": false,
     "start_time": "2025-07-30T13:14:16.428669",
     "status": "completed"
    },
    "tags": []
   },
   "source": [
    "The following cell holds the definition of our parameters, these values can be overriden by rendering the with e.g. the following command:\n",
    "\n",
    "papermill -p alpha 0.2 -p ratio 0.3 universe_analysis.ipynb output/test_run.ipynb"
   ]
  },
  {
   "cell_type": "code",
   "execution_count": 2,
   "id": "a80968a0-40bb-4fa9-85ef-2d5eefb01975",
   "metadata": {
    "execution": {
     "iopub.execute_input": "2025-07-30T13:14:16.555777Z",
     "iopub.status.busy": "2025-07-30T13:14:16.555293Z",
     "iopub.status.idle": "2025-07-30T13:14:16.560692Z",
     "shell.execute_reply": "2025-07-30T13:14:16.559759Z"
    },
    "papermill": {
     "duration": 0.047994,
     "end_time": "2025-07-30T13:14:16.564255",
     "exception": false,
     "start_time": "2025-07-30T13:14:16.516261",
     "status": "completed"
    },
    "tags": []
   },
   "outputs": [
    {
     "name": "stdout",
     "output_type": "stream",
     "text": [
      "Current working directory: /dss/dsshome1/0C/ra93lal2/cma/CMA_Fairness_v2\n"
     ]
    }
   ],
   "source": [
    "import os\n",
    "print(\"Current working directory:\", os.getcwd())"
   ]
  },
  {
   "cell_type": "code",
   "execution_count": 3,
   "id": "2dce4c03",
   "metadata": {
    "execution": {
     "iopub.execute_input": "2025-07-30T13:14:16.658819Z",
     "iopub.status.busy": "2025-07-30T13:14:16.657842Z",
     "iopub.status.idle": "2025-07-30T13:14:16.664313Z",
     "shell.execute_reply": "2025-07-30T13:14:16.663366Z"
    },
    "papermill": {
     "duration": 0.053653,
     "end_time": "2025-07-30T13:14:16.666331",
     "exception": false,
     "start_time": "2025-07-30T13:14:16.612678",
     "status": "completed"
    },
    "tags": [
     "parameters"
    ]
   },
   "outputs": [],
   "source": [
    "run_no = 0\n",
    "universe_id = \"test\"\n",
    "universe = {\n",
    "    \"training_size\": \"25k\", # \"25k\", \"5k\", \"1k\"\n",
    "    \"training_year\": \"2014\", # \"2014\", \"2012_14\", \"2010_14\"\n",
    "    \"scale\": \"scale\", # \"scale\", \"do-not-scale\",\n",
    "    #\"stratify_split\": \"target\", # \"none\", \"target\", \"protected-attribute\", \"both\",\n",
    "    \"model\": \"elasticnet\", # \"logreg\", \"penalized_logreg\", \"rf\", \"gbm\", \"elasticnet\"\n",
    "    \"cutoff\": [\"quantile_0.15\", \"quantile_0.30\"],\n",
    "    \"exclude_features\": \"age\", # \"none\", \"nationality\", \"sex\", \"nationality-sex\", \"age\"\n",
    "    \"exclude_subgroups\": \"keep-all\", # \"keep-all\", \"drop-non-german\"\n",
    "    \"eval_fairness_grouping\": [\"majority-minority\", \"nationality-all\"]\n",
    "}\n",
    "\n",
    "output_dir=\"./output\"\n",
    "seed=0"
   ]
  },
  {
   "cell_type": "code",
   "execution_count": 4,
   "id": "44a80f1f",
   "metadata": {
    "execution": {
     "iopub.execute_input": "2025-07-30T13:14:16.735757Z",
     "iopub.status.busy": "2025-07-30T13:14:16.735367Z",
     "iopub.status.idle": "2025-07-30T13:14:16.744195Z",
     "shell.execute_reply": "2025-07-30T13:14:16.739545Z"
    },
    "papermill": {
     "duration": 0.053234,
     "end_time": "2025-07-30T13:14:16.761091",
     "exception": false,
     "start_time": "2025-07-30T13:14:16.707857",
     "status": "completed"
    },
    "tags": [
     "injected-parameters"
    ]
   },
   "outputs": [],
   "source": [
    "# Parameters\n",
    "universe_id = \"1b4cff13c56c03e6773865fed27eca93\"\n",
    "run_no = \"12\"\n",
    "universe = \"{\\\"cutoff\\\": [\\\"quantile_0.1\\\", \\\"quantile_0.25\\\"], \\\"eval_fairness_grouping\\\": [\\\"majority-minority\\\", \\\"nationality-all\\\"], \\\"exclude_features\\\": \\\"age\\\", \\\"exclude_subgroups\\\": \\\"drop-non-german\\\", \\\"model\\\": \\\"rf\\\", \\\"scale\\\": \\\"do-not-scale\\\", \\\"training_size\\\": \\\"25k\\\", \\\"training_year\\\": \\\"2012_14\\\"}\"\n",
    "output_dir = \"output\"\n",
    "seed = \"2023\"\n"
   ]
  },
  {
   "cell_type": "code",
   "execution_count": 5,
   "id": "1650acaf",
   "metadata": {
    "execution": {
     "iopub.execute_input": "2025-07-30T13:14:16.837449Z",
     "iopub.status.busy": "2025-07-30T13:14:16.837012Z",
     "iopub.status.idle": "2025-07-30T13:14:16.842029Z",
     "shell.execute_reply": "2025-07-30T13:14:16.841113Z"
    },
    "papermill": {
     "duration": 0.048073,
     "end_time": "2025-07-30T13:14:16.843760",
     "exception": false,
     "start_time": "2025-07-30T13:14:16.795687",
     "status": "completed"
    },
    "tags": []
   },
   "outputs": [],
   "source": [
    "import json\n",
    "# Parse universe into dict if it is passed as a string\n",
    "if isinstance(universe, str):\n",
    "    universe = json.loads(universe)"
   ]
  },
  {
   "cell_type": "code",
   "execution_count": 6,
   "id": "16620c48",
   "metadata": {
    "execution": {
     "iopub.execute_input": "2025-07-30T13:14:16.890240Z",
     "iopub.status.busy": "2025-07-30T13:14:16.889745Z",
     "iopub.status.idle": "2025-07-30T13:14:16.943560Z",
     "shell.execute_reply": "2025-07-30T13:14:16.942433Z"
    },
    "papermill": {
     "duration": 0.079253,
     "end_time": "2025-07-30T13:14:16.945761",
     "exception": false,
     "start_time": "2025-07-30T13:14:16.866508",
     "status": "completed"
    },
    "tags": []
   },
   "outputs": [],
   "source": [
    "# Auto-reload the custom package\n",
    "%load_ext autoreload\n",
    "%autoreload 1\n",
    "%aimport fairness_multiverse"
   ]
  },
  {
   "cell_type": "code",
   "execution_count": 7,
   "id": "01c5c9f3",
   "metadata": {
    "execution": {
     "iopub.execute_input": "2025-07-30T13:14:17.036193Z",
     "iopub.status.busy": "2025-07-30T13:14:17.035621Z",
     "iopub.status.idle": "2025-07-30T13:14:20.235243Z",
     "shell.execute_reply": "2025-07-30T13:14:20.234165Z"
    },
    "papermill": {
     "duration": 3.238144,
     "end_time": "2025-07-30T13:14:20.237098",
     "exception": false,
     "start_time": "2025-07-30T13:14:16.998954",
     "status": "completed"
    },
    "tags": []
   },
   "outputs": [],
   "source": [
    "from fairness_multiverse.universe import UniverseAnalysis\n",
    "\n",
    "universe_analysis = UniverseAnalysis(\n",
    "    run_no = run_no,\n",
    "    universe_id = universe_id,\n",
    "    universe = universe,\n",
    "    output_dir=output_dir,\n",
    ")"
   ]
  },
  {
   "cell_type": "code",
   "execution_count": 8,
   "id": "106241f5",
   "metadata": {
    "execution": {
     "iopub.execute_input": "2025-07-30T13:14:20.293433Z",
     "iopub.status.busy": "2025-07-30T13:14:20.292921Z",
     "iopub.status.idle": "2025-07-30T13:14:20.299891Z",
     "shell.execute_reply": "2025-07-30T13:14:20.298946Z"
    },
    "papermill": {
     "duration": 0.039164,
     "end_time": "2025-07-30T13:14:20.309049",
     "exception": false,
     "start_time": "2025-07-30T13:14:20.269885",
     "status": "completed"
    },
    "tags": []
   },
   "outputs": [
    {
     "name": "stdout",
     "output_type": "stream",
     "text": [
      "Using Seed: 2023\n"
     ]
    }
   ],
   "source": [
    "import numpy as np\n",
    "parsed_seed = int(seed)\n",
    "np.random.seed(parsed_seed)\n",
    "print(f\"Using Seed: {parsed_seed}\")"
   ]
  },
  {
   "cell_type": "markdown",
   "id": "e0ebdc57",
   "metadata": {
    "papermill": {
     "duration": 0.020773,
     "end_time": "2025-07-30T13:14:20.366940",
     "exception": false,
     "start_time": "2025-07-30T13:14:20.346167",
     "status": "completed"
    },
    "tags": []
   },
   "source": [
    "# Loading Data"
   ]
  },
  {
   "cell_type": "markdown",
   "id": "681925a3",
   "metadata": {
    "papermill": {
     "duration": 0.033713,
     "end_time": "2025-07-30T13:14:20.437254",
     "exception": false,
     "start_time": "2025-07-30T13:14:20.403541",
     "status": "completed"
    },
    "tags": []
   },
   "source": [
    "Load siab_train, siab_test, siab_calib and/or \n",
    "load siab_train_features, siab_train_labels"
   ]
  },
  {
   "cell_type": "code",
   "execution_count": 9,
   "id": "f0496b8a",
   "metadata": {
    "execution": {
     "iopub.execute_input": "2025-07-30T13:14:20.570632Z",
     "iopub.status.busy": "2025-07-30T13:14:20.570254Z",
     "iopub.status.idle": "2025-07-30T13:14:38.837447Z",
     "shell.execute_reply": "2025-07-30T13:14:38.836199Z"
    },
    "papermill": {
     "duration": 18.330944,
     "end_time": "2025-07-30T13:14:38.839387",
     "exception": false,
     "start_time": "2025-07-30T13:14:20.508443",
     "status": "completed"
    },
    "tags": []
   },
   "outputs": [
    {
     "name": "stdout",
     "output_type": "stream",
     "text": [
      "Loading SIAB data from cache: data/siab_cached.csv.gz\n"
     ]
    },
    {
     "name": "stdout",
     "output_type": "stream",
     "text": [
      "(643690, 164)\n"
     ]
    }
   ],
   "source": [
    "from pathlib import Path\n",
    "import pandas as pd\n",
    "\n",
    "# File paths\n",
    "raw_file = Path(\"data/raw/siab.csv\")\n",
    "cache_file = Path(\"data/siab_cached.csv.gz\")\n",
    "\n",
    "# Ensure cache directory exists\n",
    "cache_file.parent.mkdir(parents=True, exist_ok=True)\n",
    "\n",
    "# Load with simple caching\n",
    "if cache_file.exists():\n",
    "    print(f\"Loading SIAB data from cache: {cache_file}\")\n",
    "    siab = pd.read_csv(cache_file, compression='gzip')\n",
    "else:\n",
    "    print(f\"Cache not found. Reading raw SIAB data: {raw_file}\")\n",
    "    siab = pd.read_csv(raw_file)\n",
    "    siab.to_csv(cache_file, index=False, compression='gzip')\n",
    "    print(f\"Cached SIAB data to: {cache_file}\")\n",
    "\n",
    "# Now use `siab` DataFrame as needed\n",
    "print(siab.shape)"
   ]
  },
  {
   "cell_type": "code",
   "execution_count": 10,
   "id": "db0ca512-5f53-4dba-abdb-a2888bca41ba",
   "metadata": {
    "execution": {
     "iopub.execute_input": "2025-07-30T13:14:38.926974Z",
     "iopub.status.busy": "2025-07-30T13:14:38.926508Z",
     "iopub.status.idle": "2025-07-30T13:14:38.933082Z",
     "shell.execute_reply": "2025-07-30T13:14:38.932053Z"
    },
    "papermill": {
     "duration": 0.06245,
     "end_time": "2025-07-30T13:14:38.934786",
     "exception": false,
     "start_time": "2025-07-30T13:14:38.872336",
     "status": "completed"
    },
    "tags": []
   },
   "outputs": [],
   "source": [
    "#siab"
   ]
  },
  {
   "cell_type": "code",
   "execution_count": 11,
   "id": "a0edb063",
   "metadata": {
    "execution": {
     "iopub.execute_input": "2025-07-30T13:14:39.016168Z",
     "iopub.status.busy": "2025-07-30T13:14:39.015671Z",
     "iopub.status.idle": "2025-07-30T13:14:39.020821Z",
     "shell.execute_reply": "2025-07-30T13:14:39.019911Z"
    },
    "papermill": {
     "duration": 0.049623,
     "end_time": "2025-07-30T13:14:39.022458",
     "exception": false,
     "start_time": "2025-07-30T13:14:38.972835",
     "status": "completed"
    },
    "tags": []
   },
   "outputs": [],
   "source": [
    "#import pandas as pd\n",
    "#\n",
    "#X_train = pd.read_csv(\"./data/X_train.csv\")\n",
    "#y_train = pd.read_csv(\"./data/y_train.csv\")"
   ]
  },
  {
   "cell_type": "code",
   "execution_count": 12,
   "id": "63d08085",
   "metadata": {
    "execution": {
     "iopub.execute_input": "2025-07-30T13:14:39.086375Z",
     "iopub.status.busy": "2025-07-30T13:14:39.085938Z",
     "iopub.status.idle": "2025-07-30T13:14:39.091676Z",
     "shell.execute_reply": "2025-07-30T13:14:39.090524Z"
    },
    "papermill": {
     "duration": 0.049371,
     "end_time": "2025-07-30T13:14:39.093514",
     "exception": false,
     "start_time": "2025-07-30T13:14:39.044143",
     "status": "completed"
    },
    "tags": []
   },
   "outputs": [],
   "source": [
    "#X_test = pd.read_csv(\"./data/X_test.csv\")\n",
    "#y_true = pd.read_csv(\"./data/y_test.csv\")"
   ]
  },
  {
   "cell_type": "code",
   "execution_count": 13,
   "id": "98a8d0fa-1d3d-4ed8-bb2c-281470e24add",
   "metadata": {
    "execution": {
     "iopub.execute_input": "2025-07-30T13:14:39.194918Z",
     "iopub.status.busy": "2025-07-30T13:14:39.194423Z",
     "iopub.status.idle": "2025-07-30T13:14:39.201182Z",
     "shell.execute_reply": "2025-07-30T13:14:39.200088Z"
    },
    "papermill": {
     "duration": 0.072098,
     "end_time": "2025-07-30T13:14:39.203130",
     "exception": false,
     "start_time": "2025-07-30T13:14:39.131032",
     "status": "completed"
    },
    "tags": []
   },
   "outputs": [],
   "source": [
    "# Calibration data for conformal\n",
    "#X_calib = pd.read_csv(\"./data/X_calib.csv\")\n",
    "#y_calib = pd.read_csv(\"./data/y_calib.csv\")"
   ]
  },
  {
   "cell_type": "markdown",
   "id": "997051c5-15bd-4b69-9786-c3001a3ce484",
   "metadata": {
    "papermill": {
     "duration": 0.021365,
     "end_time": "2025-07-30T13:14:39.265877",
     "exception": false,
     "start_time": "2025-07-30T13:14:39.244512",
     "status": "completed"
    },
    "tags": []
   },
   "source": [
    "# Splitting Data and Setting Training Data Size"
   ]
  },
  {
   "cell_type": "code",
   "execution_count": 14,
   "id": "e993b61f-042d-41a6-8c81-f55681f86335",
   "metadata": {
    "execution": {
     "iopub.execute_input": "2025-07-30T13:14:39.308996Z",
     "iopub.status.busy": "2025-07-30T13:14:39.308580Z",
     "iopub.status.idle": "2025-07-30T13:14:39.323606Z",
     "shell.execute_reply": "2025-07-30T13:14:39.322454Z"
    },
    "papermill": {
     "duration": 0.038898,
     "end_time": "2025-07-30T13:14:39.325520",
     "exception": false,
     "start_time": "2025-07-30T13:14:39.286622",
     "status": "completed"
    },
    "tags": []
   },
   "outputs": [],
   "source": [
    "def sample_by_year_size(df,\n",
    "                        training_year: str,\n",
    "                        training_size: str,\n",
    "                        random_state: int = 42):\n",
    "    # --- parse training_year into a list of int years ---\n",
    "    if \"_\" in training_year:\n",
    "        start_str, end_str = training_year.split(\"_\", 1)\n",
    "        start = int(start_str)\n",
    "        end   = int(end_str) if len(end_str) == 4 else (int(end_str) + (start // 100)*100)\n",
    "        years = list(range(start, end + 1))\n",
    "    else:\n",
    "        years = [int(training_year)]\n",
    "\n",
    "    df = df[df[\"year\"].isin(years)].reset_index(drop=True)\n",
    "\n",
    "    # --- map training_size to total number of samples ---\n",
    "    total_map = {\"25k\": 25_000, \"5k\": 5_000, \"1k\": 1_000}\n",
    "    if training_size not in total_map:\n",
    "        return df  # e.g. \"all\"\n",
    "\n",
    "    total_samples = total_map[training_size]\n",
    "    n_years       = len(years)\n",
    "    base          = total_samples // n_years\n",
    "    remainder     = total_samples % n_years\n",
    "\n",
    "    # --- build a dict: year -> how many to sample ---\n",
    "    # give +1 to the first `remainder` years in ascending order\n",
    "    quotas = {\n",
    "        year: base + (1 if idx < remainder else 0)\n",
    "        for idx, year in enumerate(sorted(years))\n",
    "    }\n",
    "\n",
    "    # --- sample per‐year according to the quota dict ---\n",
    "    sampled = (\n",
    "        df\n",
    "        .groupby(\"year\", group_keys=False)\n",
    "        .apply(lambda grp: grp.sample(\n",
    "            n=min(len(grp), quotas[grp.name]),\n",
    "            random_state=random_state))\n",
    "        .reset_index(drop=True)\n",
    "    )\n",
    "\n",
    "    return sampled"
   ]
  },
  {
   "cell_type": "code",
   "execution_count": 15,
   "id": "c0ccd338-0e02-41f3-a09d-f56f9266e3fb",
   "metadata": {
    "execution": {
     "iopub.execute_input": "2025-07-30T13:14:39.369483Z",
     "iopub.status.busy": "2025-07-30T13:14:39.369086Z",
     "iopub.status.idle": "2025-07-30T13:14:39.423224Z",
     "shell.execute_reply": "2025-07-30T13:14:39.421923Z"
    },
    "papermill": {
     "duration": 0.078555,
     "end_time": "2025-07-30T13:14:39.425299",
     "exception": false,
     "start_time": "2025-07-30T13:14:39.346744",
     "status": "completed"
    },
    "tags": []
   },
   "outputs": [
    {
     "data": {
      "text/plain": [
       "'25k'"
      ]
     },
     "execution_count": 15,
     "metadata": {},
     "output_type": "execute_result"
    }
   ],
   "source": [
    "universe[\"training_size\"]"
   ]
  },
  {
   "cell_type": "code",
   "execution_count": 16,
   "id": "ca707fd7-8047-4acd-bfa5-66248fbbf8e6",
   "metadata": {
    "execution": {
     "iopub.execute_input": "2025-07-30T13:14:39.477499Z",
     "iopub.status.busy": "2025-07-30T13:14:39.477112Z",
     "iopub.status.idle": "2025-07-30T13:14:39.484911Z",
     "shell.execute_reply": "2025-07-30T13:14:39.483854Z"
    },
    "papermill": {
     "duration": 0.035153,
     "end_time": "2025-07-30T13:14:39.489219",
     "exception": false,
     "start_time": "2025-07-30T13:14:39.454066",
     "status": "completed"
    },
    "tags": []
   },
   "outputs": [
    {
     "data": {
      "text/plain": [
       "'2012_14'"
      ]
     },
     "execution_count": 16,
     "metadata": {},
     "output_type": "execute_result"
    }
   ],
   "source": [
    "universe[\"training_year\"]"
   ]
  },
  {
   "cell_type": "code",
   "execution_count": 17,
   "id": "aea9c6ef-6f46-42c8-85eb-5a62025c1508",
   "metadata": {
    "execution": {
     "iopub.execute_input": "2025-07-30T13:14:39.574520Z",
     "iopub.status.busy": "2025-07-30T13:14:39.574110Z",
     "iopub.status.idle": "2025-07-30T13:14:40.373516Z",
     "shell.execute_reply": "2025-07-30T13:14:40.372511Z"
    },
    "papermill": {
     "duration": 0.845816,
     "end_time": "2025-07-30T13:14:40.375282",
     "exception": false,
     "start_time": "2025-07-30T13:14:39.529466",
     "status": "completed"
    },
    "tags": []
   },
   "outputs": [],
   "source": [
    "siab_train = sample_by_year_size(siab,\n",
    "                               training_year=universe[\"training_year\"],\n",
    "                               training_size=universe[\"training_size\"])"
   ]
  },
  {
   "cell_type": "code",
   "execution_count": 18,
   "id": "8d3afb32-789d-442c-8d5d-9f5aa8dd2eed",
   "metadata": {
    "execution": {
     "iopub.execute_input": "2025-07-30T13:14:40.462691Z",
     "iopub.status.busy": "2025-07-30T13:14:40.462231Z",
     "iopub.status.idle": "2025-07-30T13:14:40.473102Z",
     "shell.execute_reply": "2025-07-30T13:14:40.472188Z"
    },
    "papermill": {
     "duration": 0.053671,
     "end_time": "2025-07-30T13:14:40.475048",
     "exception": false,
     "start_time": "2025-07-30T13:14:40.421377",
     "status": "completed"
    },
    "tags": []
   },
   "outputs": [
    {
     "data": {
      "text/plain": [
       "(25000, 164)"
      ]
     },
     "execution_count": 18,
     "metadata": {},
     "output_type": "execute_result"
    }
   ],
   "source": [
    "siab_train.shape"
   ]
  },
  {
   "cell_type": "code",
   "execution_count": 19,
   "id": "d582db68-1a4c-47fb-84fc-08518dc1975a",
   "metadata": {
    "execution": {
     "iopub.execute_input": "2025-07-30T13:14:40.556781Z",
     "iopub.status.busy": "2025-07-30T13:14:40.556372Z",
     "iopub.status.idle": "2025-07-30T13:14:40.567955Z",
     "shell.execute_reply": "2025-07-30T13:14:40.567033Z"
    },
    "papermill": {
     "duration": 0.029152,
     "end_time": "2025-07-30T13:14:40.569911",
     "exception": false,
     "start_time": "2025-07-30T13:14:40.540759",
     "status": "completed"
    },
    "tags": []
   },
   "outputs": [
    {
     "data": {
      "text/plain": [
       "year\n",
       "2012    8334\n",
       "2013    8333\n",
       "2014    8333\n",
       "dtype: int64"
      ]
     },
     "metadata": {},
     "output_type": "display_data"
    }
   ],
   "source": [
    "display(siab_train.groupby(\"year\").size())"
   ]
  },
  {
   "cell_type": "code",
   "execution_count": 20,
   "id": "a561edb4-d032-42cb-8256-22eac1111c64",
   "metadata": {
    "execution": {
     "iopub.execute_input": "2025-07-30T13:14:40.662724Z",
     "iopub.status.busy": "2025-07-30T13:14:40.662288Z",
     "iopub.status.idle": "2025-07-30T13:14:40.988600Z",
     "shell.execute_reply": "2025-07-30T13:14:40.981224Z"
    },
    "papermill": {
     "duration": 0.366621,
     "end_time": "2025-07-30T13:14:40.990752",
     "exception": false,
     "start_time": "2025-07-30T13:14:40.624131",
     "status": "completed"
    },
    "tags": []
   },
   "outputs": [],
   "source": [
    "#siab_train = siab_s[siab_s.year < 2015]\n",
    "siab_calib = siab[siab.year == 2015]\n",
    "siab_test = siab[siab.year == 2016]"
   ]
  },
  {
   "cell_type": "code",
   "execution_count": 21,
   "id": "472de16f-c3db-4916-846b-1f0de9cf1746",
   "metadata": {
    "execution": {
     "iopub.execute_input": "2025-07-30T13:14:41.059569Z",
     "iopub.status.busy": "2025-07-30T13:14:41.059188Z",
     "iopub.status.idle": "2025-07-30T13:14:41.076004Z",
     "shell.execute_reply": "2025-07-30T13:14:41.074988Z"
    },
    "papermill": {
     "duration": 0.050595,
     "end_time": "2025-07-30T13:14:41.078720",
     "exception": false,
     "start_time": "2025-07-30T13:14:41.028125",
     "status": "completed"
    },
    "tags": []
   },
   "outputs": [],
   "source": [
    "X_train = siab_train.iloc[:,4:164]\n",
    "y_train = siab_train.iloc[:, [3]]"
   ]
  },
  {
   "cell_type": "code",
   "execution_count": 22,
   "id": "828c96af-f43a-4ed6-ba47-8ac73a47d56c",
   "metadata": {
    "execution": {
     "iopub.execute_input": "2025-07-30T13:14:41.129152Z",
     "iopub.status.busy": "2025-07-30T13:14:41.128623Z",
     "iopub.status.idle": "2025-07-30T13:14:41.176369Z",
     "shell.execute_reply": "2025-07-30T13:14:41.175442Z"
    },
    "papermill": {
     "duration": 0.06694,
     "end_time": "2025-07-30T13:14:41.177699",
     "exception": false,
     "start_time": "2025-07-30T13:14:41.110759",
     "status": "completed"
    },
    "tags": []
   },
   "outputs": [],
   "source": [
    "X_calib = siab_calib.iloc[:,4:164]\n",
    "y_calib = siab_calib.iloc[:, [3]]"
   ]
  },
  {
   "cell_type": "code",
   "execution_count": 23,
   "id": "c34be9c3-6bd6-476e-acd3-845840e303be",
   "metadata": {
    "execution": {
     "iopub.execute_input": "2025-07-30T13:14:41.245661Z",
     "iopub.status.busy": "2025-07-30T13:14:41.245212Z",
     "iopub.status.idle": "2025-07-30T13:14:41.331896Z",
     "shell.execute_reply": "2025-07-30T13:14:41.330580Z"
    },
    "papermill": {
     "duration": 0.1381,
     "end_time": "2025-07-30T13:14:41.333906",
     "exception": false,
     "start_time": "2025-07-30T13:14:41.195806",
     "status": "completed"
    },
    "tags": []
   },
   "outputs": [],
   "source": [
    "X_test = siab_test.iloc[:,4:164]\n",
    "y_true = siab_test.iloc[:, [3]]"
   ]
  },
  {
   "cell_type": "markdown",
   "id": "9901737e-04df-44f0-9100-f5ad144ed040",
   "metadata": {
    "papermill": {
     "duration": 0.03399,
     "end_time": "2025-07-30T13:14:41.410503",
     "exception": false,
     "start_time": "2025-07-30T13:14:41.376513",
     "status": "completed"
    },
    "tags": []
   },
   "source": [
    "# Splitting Data and Setting Training Data Size OLD VERSION"
   ]
  },
  {
   "cell_type": "code",
   "execution_count": 24,
   "id": "acbc8f7d-8fc8-4e86-8c59-5dcb0f58384b",
   "metadata": {
    "execution": {
     "iopub.execute_input": "2025-07-30T13:14:41.500890Z",
     "iopub.status.busy": "2025-07-30T13:14:41.500467Z",
     "iopub.status.idle": "2025-07-30T13:14:41.506436Z",
     "shell.execute_reply": "2025-07-30T13:14:41.505339Z"
    },
    "papermill": {
     "duration": 0.042949,
     "end_time": "2025-07-30T13:14:41.508273",
     "exception": false,
     "start_time": "2025-07-30T13:14:41.465324",
     "status": "completed"
    },
    "tags": []
   },
   "outputs": [],
   "source": [
    "#def sample_by_year(df, training_size, random_state=42):\n",
    "#    if training_size == \"2014\":\n",
    "#        return df[df[\"year\"] == 2014].reset_index(drop=True)\n",
    "#    \n",
    "#    size_map = {\n",
    "#        \"25k\": 5000,\n",
    "#        \"5k\": 1000,\n",
    "#        \"1k\": 200\n",
    "#    }\n",
    "#\n",
    "#    if training_size not in size_map:\n",
    "#        return df.reset_index(drop=True)  # use all data\n",
    "#\n",
    "#    n_per_year = size_map[training_size]\n",
    "#    grouped = df.groupby(\"year\")\n",
    "#    sampled = grouped.apply(lambda x: x.sample(n=min(n_per_year, len(x)), random_state=random_state))\n",
    "#    return sampled.reset_index(drop=True)"
   ]
  },
  {
   "cell_type": "code",
   "execution_count": 25,
   "id": "6d931f52-beaf-43ff-9e78-9d44a448d54e",
   "metadata": {
    "execution": {
     "iopub.execute_input": "2025-07-30T13:14:41.575859Z",
     "iopub.status.busy": "2025-07-30T13:14:41.575259Z",
     "iopub.status.idle": "2025-07-30T13:14:41.580302Z",
     "shell.execute_reply": "2025-07-30T13:14:41.579317Z"
    },
    "papermill": {
     "duration": 0.031587,
     "end_time": "2025-07-30T13:14:41.582660",
     "exception": false,
     "start_time": "2025-07-30T13:14:41.551073",
     "status": "completed"
    },
    "tags": []
   },
   "outputs": [],
   "source": [
    "#siab_s = sample_by_year(siab, universe[\"training_size\"])"
   ]
  },
  {
   "cell_type": "code",
   "execution_count": 26,
   "id": "5db0a40e-a4e2-4920-be85-b12ae061d70d",
   "metadata": {
    "execution": {
     "iopub.execute_input": "2025-07-30T13:14:41.631215Z",
     "iopub.status.busy": "2025-07-30T13:14:41.630792Z",
     "iopub.status.idle": "2025-07-30T13:14:41.636500Z",
     "shell.execute_reply": "2025-07-30T13:14:41.635406Z"
    },
    "papermill": {
     "duration": 0.038459,
     "end_time": "2025-07-30T13:14:41.643873",
     "exception": false,
     "start_time": "2025-07-30T13:14:41.605414",
     "status": "completed"
    },
    "tags": []
   },
   "outputs": [],
   "source": [
    "#display(siab_s.groupby(\"year\").size())"
   ]
  },
  {
   "cell_type": "code",
   "execution_count": 27,
   "id": "e6c733c5",
   "metadata": {
    "execution": {
     "iopub.execute_input": "2025-07-30T13:14:41.738892Z",
     "iopub.status.busy": "2025-07-30T13:14:41.738479Z",
     "iopub.status.idle": "2025-07-30T13:14:41.860345Z",
     "shell.execute_reply": "2025-07-30T13:14:41.859305Z"
    },
    "papermill": {
     "duration": 0.151045,
     "end_time": "2025-07-30T13:14:41.862529",
     "exception": false,
     "start_time": "2025-07-30T13:14:41.711484",
     "status": "completed"
    },
    "tags": []
   },
   "outputs": [],
   "source": [
    "# Auxiliary data needed downstream in the pipeline\n",
    "\n",
    "org_train = X_train.copy()\n",
    "org_test = X_test.copy()\n",
    "org_calib = X_calib.copy()"
   ]
  },
  {
   "cell_type": "code",
   "execution_count": 28,
   "id": "1466abac-c6da-4492-a62f-4240ae3783af",
   "metadata": {
    "execution": {
     "iopub.execute_input": "2025-07-30T13:14:41.911096Z",
     "iopub.status.busy": "2025-07-30T13:14:41.910661Z",
     "iopub.status.idle": "2025-07-30T13:14:41.917108Z",
     "shell.execute_reply": "2025-07-30T13:14:41.916011Z"
    },
    "papermill": {
     "duration": 0.033858,
     "end_time": "2025-07-30T13:14:41.919842",
     "exception": false,
     "start_time": "2025-07-30T13:14:41.885984",
     "status": "completed"
    },
    "tags": []
   },
   "outputs": [],
   "source": [
    "# put in other script?\n",
    "# Group sizes\n",
    "\n",
    "#def calculate_percentages(df, df_name):\n",
    "#    total_entries = len(df)\n",
    "#\n",
    "#    female_pct = (df['frau1'] == 1).mean() * 100\n",
    "#    non_german_pct = ((df['maxdeutsch1'] == 0) & (df['maxdeutsch.Missing.'] == 0)).mean() * 100\n",
    "#    non_german_male_pct = ((df['frau1'] == 0) & (df['maxdeutsch1'] == 0) & (df['maxdeutsch.Missing.'] == 0)).mean() * 100\n",
    "#    non_german_female_pct = ((df['frau1'] == 1) & (df['maxdeutsch1'] == 0) & (df['maxdeutsch.Missing.'] == 0)).mean() * 100\n",
    "#\n",
    "#    print(f\"--- {df_name} ---\")\n",
    "#    print(f\"Female: {female_pct:.2f}%\")\n",
    "#    print(f\"Non-German: {non_german_pct:.2f}%\")\n",
    "#    print(f\"Non-German Male: {non_german_male_pct:.2f}%\")\n",
    "#    print(f\"Non-German Female: {non_german_female_pct:.2f}%\\n\")\n",
    "#\n",
    "## Calculate for each DataFrame\n",
    "#calculate_percentages(siab_calib, \"siab_calib\")\n",
    "#calculate_percentages(siab_test, \"siab_test\")\n",
    "#calculate_percentages(siab_train, \"siab_train\")"
   ]
  },
  {
   "cell_type": "markdown",
   "id": "0a4a1b33",
   "metadata": {
    "papermill": {
     "duration": 0.050486,
     "end_time": "2025-07-30T13:14:42.023246",
     "exception": false,
     "start_time": "2025-07-30T13:14:41.972760",
     "status": "completed"
    },
    "tags": []
   },
   "source": [
    "# Preprocessing Data"
   ]
  },
  {
   "cell_type": "code",
   "execution_count": 29,
   "id": "ca879031",
   "metadata": {
    "execution": {
     "iopub.execute_input": "2025-07-30T13:14:42.065704Z",
     "iopub.status.busy": "2025-07-30T13:14:42.064909Z",
     "iopub.status.idle": "2025-07-30T13:14:42.069652Z",
     "shell.execute_reply": "2025-07-30T13:14:42.068974Z"
    },
    "papermill": {
     "duration": 0.024922,
     "end_time": "2025-07-30T13:14:42.070835",
     "exception": false,
     "start_time": "2025-07-30T13:14:42.045913",
     "status": "completed"
    },
    "tags": []
   },
   "outputs": [],
   "source": [
    "# EXCLUDE PROTECTED FEATURES\n",
    "# ----------------------\n",
    "# \"exclude_features\": \"none\", # \"nationality\", \"sex\", \"nationality-sex\"\n",
    "\n",
    "excluded_features = universe[\"exclude_features\"].split(\"-\") # split, e.g.: \"nationality-sex\" -> [\"nationality\", \"sex\"]\n",
    "excluded_features_dictionary = {\n",
    "    \"nationality\": [\"maxdeutsch1\", \"maxdeutsch.Missing.\"],\n",
    "    \"sex\": [\"frau1\"],\n",
    "    \"age\": [\"age\"],\n",
    "}\n"
   ]
  },
  {
   "cell_type": "code",
   "execution_count": 30,
   "id": "b745ac60",
   "metadata": {
    "execution": {
     "iopub.execute_input": "2025-07-30T13:14:42.094527Z",
     "iopub.status.busy": "2025-07-30T13:14:42.094139Z",
     "iopub.status.idle": "2025-07-30T13:14:42.261018Z",
     "shell.execute_reply": "2025-07-30T13:14:42.260053Z"
    },
    "papermill": {
     "duration": 0.180413,
     "end_time": "2025-07-30T13:14:42.262728",
     "exception": false,
     "start_time": "2025-07-30T13:14:42.082315",
     "status": "completed"
    },
    "tags": []
   },
   "outputs": [],
   "source": [
    "# Code nice names to column names\n",
    "\n",
    "excluded_features_columns = [\n",
    "    excluded_features_dictionary[f] for f in excluded_features if len(f) > 0 and f != \"none\"\n",
    "]"
   ]
  },
  {
   "cell_type": "code",
   "execution_count": 31,
   "id": "f84f73a2",
   "metadata": {
    "execution": {
     "iopub.execute_input": "2025-07-30T13:14:42.309850Z",
     "iopub.status.busy": "2025-07-30T13:14:42.309489Z",
     "iopub.status.idle": "2025-07-30T13:14:42.316126Z",
     "shell.execute_reply": "2025-07-30T13:14:42.315032Z"
    },
    "papermill": {
     "duration": 0.032522,
     "end_time": "2025-07-30T13:14:42.318706",
     "exception": false,
     "start_time": "2025-07-30T13:14:42.286184",
     "status": "completed"
    },
    "tags": []
   },
   "outputs": [],
   "source": [
    "from utils import flatten_once\n",
    "\n",
    "excluded_features_columns = flatten_once(excluded_features_columns)"
   ]
  },
  {
   "cell_type": "code",
   "execution_count": 32,
   "id": "884dea22",
   "metadata": {
    "execution": {
     "iopub.execute_input": "2025-07-30T13:14:42.398629Z",
     "iopub.status.busy": "2025-07-30T13:14:42.398238Z",
     "iopub.status.idle": "2025-07-30T13:14:42.433411Z",
     "shell.execute_reply": "2025-07-30T13:14:42.432490Z"
    },
    "papermill": {
     "duration": 0.093003,
     "end_time": "2025-07-30T13:14:42.435319",
     "exception": false,
     "start_time": "2025-07-30T13:14:42.342316",
     "status": "completed"
    },
    "tags": []
   },
   "outputs": [
    {
     "name": "stdout",
     "output_type": "stream",
     "text": [
      "Dropping features: ['age']\n"
     ]
    }
   ],
   "source": [
    "if len(excluded_features_columns) > 0:\n",
    "    print(f\"Dropping features: {excluded_features_columns}\")\n",
    "    X_train.drop(excluded_features_columns, axis=1, inplace=True)"
   ]
  },
  {
   "cell_type": "code",
   "execution_count": 33,
   "id": "95ab8b16",
   "metadata": {
    "execution": {
     "iopub.execute_input": "2025-07-30T13:14:42.529099Z",
     "iopub.status.busy": "2025-07-30T13:14:42.528690Z",
     "iopub.status.idle": "2025-07-30T13:14:42.788129Z",
     "shell.execute_reply": "2025-07-30T13:14:42.777510Z"
    },
    "papermill": {
     "duration": 0.313587,
     "end_time": "2025-07-30T13:14:42.790262",
     "exception": false,
     "start_time": "2025-07-30T13:14:42.476675",
     "status": "completed"
    },
    "tags": []
   },
   "outputs": [
    {
     "name": "stdout",
     "output_type": "stream",
     "text": [
      "Dropping features: ['age']\n"
     ]
    }
   ],
   "source": [
    "if len(excluded_features_columns) > 0:\n",
    "    print(f\"Dropping features: {excluded_features_columns}\")\n",
    "    X_test.drop(excluded_features_columns, axis=1, inplace=True)"
   ]
  },
  {
   "cell_type": "code",
   "execution_count": 34,
   "id": "1853aaf5-fb9f-46cb-a2b5-8ea4ae2237e4",
   "metadata": {
    "execution": {
     "iopub.execute_input": "2025-07-30T13:14:42.885915Z",
     "iopub.status.busy": "2025-07-30T13:14:42.884878Z",
     "iopub.status.idle": "2025-07-30T13:14:43.044744Z",
     "shell.execute_reply": "2025-07-30T13:14:43.043646Z"
    },
    "papermill": {
     "duration": 0.209825,
     "end_time": "2025-07-30T13:14:43.046898",
     "exception": false,
     "start_time": "2025-07-30T13:14:42.837073",
     "status": "completed"
    },
    "tags": []
   },
   "outputs": [
    {
     "name": "stdout",
     "output_type": "stream",
     "text": [
      "Dropping features: ['age']\n"
     ]
    }
   ],
   "source": [
    "if len(excluded_features_columns) > 0:\n",
    "    print(f\"Dropping features: {excluded_features_columns}\")\n",
    "    X_calib.drop(excluded_features_columns, axis=1, inplace=True)"
   ]
  },
  {
   "cell_type": "code",
   "execution_count": 35,
   "id": "6727d079-03e5-481e-9d38-292a90b7a0a8",
   "metadata": {
    "execution": {
     "iopub.execute_input": "2025-07-30T13:14:43.191424Z",
     "iopub.status.busy": "2025-07-30T13:14:43.191004Z",
     "iopub.status.idle": "2025-07-30T13:14:43.196304Z",
     "shell.execute_reply": "2025-07-30T13:14:43.195276Z"
    },
    "papermill": {
     "duration": 0.092155,
     "end_time": "2025-07-30T13:14:43.199129",
     "exception": false,
     "start_time": "2025-07-30T13:14:43.106974",
     "status": "completed"
    },
    "tags": []
   },
   "outputs": [],
   "source": [
    "# SPLIT & STRATIFY DATA\n",
    "# ----------------------"
   ]
  },
  {
   "cell_type": "code",
   "execution_count": 36,
   "id": "76c4dc6d",
   "metadata": {
    "execution": {
     "iopub.execute_input": "2025-07-30T13:14:43.327138Z",
     "iopub.status.busy": "2025-07-30T13:14:43.326736Z",
     "iopub.status.idle": "2025-07-30T13:14:43.332498Z",
     "shell.execute_reply": "2025-07-30T13:14:43.331551Z"
    },
    "papermill": {
     "duration": 0.066999,
     "end_time": "2025-07-30T13:14:43.344206",
     "exception": false,
     "start_time": "2025-07-30T13:14:43.277207",
     "status": "completed"
    },
    "tags": []
   },
   "outputs": [],
   "source": [
    "# EXCLUDE CERTAIN SUBGROUPS\n",
    "# ----------------------\n",
    "\n",
    "mode = universe.get(\"exclude_subgroups\", \"keep-all\") \n",
    "# Fetches the exclude_subgroups setting from the universe dict.\n",
    "# Defaults to \"keep-all\" if the key is missing."
   ]
  },
  {
   "cell_type": "code",
   "execution_count": 37,
   "id": "21994072",
   "metadata": {
    "execution": {
     "iopub.execute_input": "2025-07-30T13:14:43.454205Z",
     "iopub.status.busy": "2025-07-30T13:14:43.453778Z",
     "iopub.status.idle": "2025-07-30T13:14:43.461097Z",
     "shell.execute_reply": "2025-07-30T13:14:43.460124Z"
    },
    "papermill": {
     "duration": 0.075509,
     "end_time": "2025-07-30T13:14:43.462823",
     "exception": false,
     "start_time": "2025-07-30T13:14:43.387314",
     "status": "completed"
    },
    "tags": []
   },
   "outputs": [],
   "source": [
    "if mode == \"keep-all\":\n",
    "    keep_mask = pd.Series(True, index=org_train.index)\n",
    "\n",
    "# org_train contains the original feature columns from features_org (in Simson)\n",
    "# features_org contains unprocessed features, for me X_train at beginning ???\n",
    "# For keep-all, creates a boolean Series (keep_mask) of all True, so no rows are removed.\n",
    "\n",
    "elif mode == \"drop-non-german\":\n",
    "    keep_mask = org_train[\"maxdeutsch1\"] == 1 # ??? what about missing values?\n",
    "\n",
    "else:\n",
    "    raise ValueError(f\"Unsupported mode for exclude_subgroups: {mode}\")\n"
   ]
  },
  {
   "cell_type": "code",
   "execution_count": 38,
   "id": "71651440",
   "metadata": {
    "execution": {
     "iopub.execute_input": "2025-07-30T13:14:43.514090Z",
     "iopub.status.busy": "2025-07-30T13:14:43.513326Z",
     "iopub.status.idle": "2025-07-30T13:14:43.521143Z",
     "shell.execute_reply": "2025-07-30T13:14:43.519863Z"
    },
    "papermill": {
     "duration": 0.033535,
     "end_time": "2025-07-30T13:14:43.523320",
     "exception": false,
     "start_time": "2025-07-30T13:14:43.489785",
     "status": "completed"
    },
    "tags": []
   },
   "outputs": [
    {
     "name": "stdout",
     "output_type": "stream",
     "text": [
      "Dropping 3481 rows (13.92%) where mode='drop-non-german'\n"
     ]
    }
   ],
   "source": [
    "n_drop = (~keep_mask).sum() # Calculates how many rows are set to be dropped\n",
    "if n_drop > 0:\n",
    "    pct = n_drop / len(keep_mask) * 100\n",
    "    print(f\"Dropping {n_drop} rows ({pct:.2f}%) where mode='{mode}'\")"
   ]
  },
  {
   "cell_type": "code",
   "execution_count": 39,
   "id": "5fb8eee5",
   "metadata": {
    "execution": {
     "iopub.execute_input": "2025-07-30T13:14:43.572928Z",
     "iopub.status.busy": "2025-07-30T13:14:43.572532Z",
     "iopub.status.idle": "2025-07-30T13:14:43.598713Z",
     "shell.execute_reply": "2025-07-30T13:14:43.596868Z"
    },
    "papermill": {
     "duration": 0.052894,
     "end_time": "2025-07-30T13:14:43.600603",
     "exception": false,
     "start_time": "2025-07-30T13:14:43.547709",
     "status": "completed"
    },
    "tags": []
   },
   "outputs": [],
   "source": [
    "X_train = X_train[keep_mask]"
   ]
  },
  {
   "cell_type": "code",
   "execution_count": 40,
   "id": "b202bb3a",
   "metadata": {
    "execution": {
     "iopub.execute_input": "2025-07-30T13:14:43.698427Z",
     "iopub.status.busy": "2025-07-30T13:14:43.698004Z",
     "iopub.status.idle": "2025-07-30T13:14:43.706627Z",
     "shell.execute_reply": "2025-07-30T13:14:43.705554Z"
    },
    "papermill": {
     "duration": 0.060744,
     "end_time": "2025-07-30T13:14:43.709005",
     "exception": false,
     "start_time": "2025-07-30T13:14:43.648261",
     "status": "completed"
    },
    "tags": []
   },
   "outputs": [],
   "source": [
    "y_train = y_train[keep_mask]"
   ]
  },
  {
   "cell_type": "markdown",
   "id": "493e2ac3",
   "metadata": {
    "papermill": {
     "duration": 0.015638,
     "end_time": "2025-07-30T13:14:43.765950",
     "exception": false,
     "start_time": "2025-07-30T13:14:43.750312",
     "status": "completed"
    },
    "tags": []
   },
   "source": [
    "# Model Training"
   ]
  },
  {
   "cell_type": "code",
   "execution_count": 41,
   "id": "679e1268",
   "metadata": {
    "execution": {
     "iopub.execute_input": "2025-07-30T13:14:43.876847Z",
     "iopub.status.busy": "2025-07-30T13:14:43.876410Z",
     "iopub.status.idle": "2025-07-30T13:14:44.076333Z",
     "shell.execute_reply": "2025-07-30T13:14:44.075306Z"
    },
    "papermill": {
     "duration": 0.265793,
     "end_time": "2025-07-30T13:14:44.078538",
     "exception": false,
     "start_time": "2025-07-30T13:14:43.812745",
     "status": "completed"
    },
    "tags": []
   },
   "outputs": [],
   "source": [
    "from sklearn.linear_model import LogisticRegression\n",
    "from sklearn.ensemble import GradientBoostingClassifier, RandomForestClassifier\n",
    "\n",
    "if (universe[\"model\"] == \"logreg\"):\n",
    "    model = LogisticRegression() #penalty=\"none\") #, solver=\"newton-cg\", max_iter=1) # include random_state=19 ?\n",
    "elif (universe[\"model\"] == \"penalized_logreg\"):\n",
    "    model = LogisticRegression(penalty=\"l2\", C=1.0) #, solver=\"newton-cg\", max_iter=1)\n",
    "elif (universe[\"model\"] == \"rf\"):\n",
    "    model = RandomForestClassifier(n_estimators=100, n_jobs=-1)\n",
    "elif (universe[\"model\"] == \"gbm\"):\n",
    "    model = GradientBoostingClassifier()\n",
    "elif (universe[\"model\"] == \"elasticnet\"):\n",
    "    model = LogisticRegression(penalty = 'elasticnet', solver = 'saga', l1_ratio = 0.5, max_iter=5000) # which solver to use?\n",
    "else:\n",
    "    raise \"Unsupported universe.model\""
   ]
  },
  {
   "cell_type": "code",
   "execution_count": 42,
   "id": "0cc8f744",
   "metadata": {
    "execution": {
     "iopub.execute_input": "2025-07-30T13:14:44.125810Z",
     "iopub.status.busy": "2025-07-30T13:14:44.125377Z",
     "iopub.status.idle": "2025-07-30T13:14:44.132517Z",
     "shell.execute_reply": "2025-07-30T13:14:44.131415Z"
    },
    "papermill": {
     "duration": 0.032219,
     "end_time": "2025-07-30T13:14:44.136292",
     "exception": false,
     "start_time": "2025-07-30T13:14:44.104073",
     "status": "completed"
    },
    "tags": []
   },
   "outputs": [],
   "source": [
    "import numpy as np\n",
    "from sklearn.pipeline import Pipeline\n",
    "from sklearn.preprocessing import StandardScaler\n",
    "\n",
    "model = Pipeline([\n",
    "    #(\"continuous_processor\", continuous_processor),\n",
    "    #(\"categorical_preprocessor\", categorical_preprocessor),\n",
    "    (\"scale\", StandardScaler() if universe[\"scale\"] == \"scale\" else None), \n",
    "    (\"model\", model),\n",
    "])"
   ]
  },
  {
   "cell_type": "code",
   "execution_count": 43,
   "id": "9442c04d",
   "metadata": {
    "execution": {
     "iopub.execute_input": "2025-07-30T13:14:44.192010Z",
     "iopub.status.busy": "2025-07-30T13:14:44.191599Z",
     "iopub.status.idle": "2025-07-30T13:14:47.653253Z",
     "shell.execute_reply": "2025-07-30T13:14:47.652048Z"
    },
    "papermill": {
     "duration": 3.491559,
     "end_time": "2025-07-30T13:14:47.655557",
     "exception": false,
     "start_time": "2025-07-30T13:14:44.163998",
     "status": "completed"
    },
    "tags": []
   },
   "outputs": [
    {
     "data": {
      "text/html": [
       "<style>#sk-container-id-1 {color: black;background-color: white;}#sk-container-id-1 pre{padding: 0;}#sk-container-id-1 div.sk-toggleable {background-color: white;}#sk-container-id-1 label.sk-toggleable__label {cursor: pointer;display: block;width: 100%;margin-bottom: 0;padding: 0.3em;box-sizing: border-box;text-align: center;}#sk-container-id-1 label.sk-toggleable__label-arrow:before {content: \"▸\";float: left;margin-right: 0.25em;color: #696969;}#sk-container-id-1 label.sk-toggleable__label-arrow:hover:before {color: black;}#sk-container-id-1 div.sk-estimator:hover label.sk-toggleable__label-arrow:before {color: black;}#sk-container-id-1 div.sk-toggleable__content {max-height: 0;max-width: 0;overflow: hidden;text-align: left;background-color: #f0f8ff;}#sk-container-id-1 div.sk-toggleable__content pre {margin: 0.2em;color: black;border-radius: 0.25em;background-color: #f0f8ff;}#sk-container-id-1 input.sk-toggleable__control:checked~div.sk-toggleable__content {max-height: 200px;max-width: 100%;overflow: auto;}#sk-container-id-1 input.sk-toggleable__control:checked~label.sk-toggleable__label-arrow:before {content: \"▾\";}#sk-container-id-1 div.sk-estimator input.sk-toggleable__control:checked~label.sk-toggleable__label {background-color: #d4ebff;}#sk-container-id-1 div.sk-label input.sk-toggleable__control:checked~label.sk-toggleable__label {background-color: #d4ebff;}#sk-container-id-1 input.sk-hidden--visually {border: 0;clip: rect(1px 1px 1px 1px);clip: rect(1px, 1px, 1px, 1px);height: 1px;margin: -1px;overflow: hidden;padding: 0;position: absolute;width: 1px;}#sk-container-id-1 div.sk-estimator {font-family: monospace;background-color: #f0f8ff;border: 1px dotted black;border-radius: 0.25em;box-sizing: border-box;margin-bottom: 0.5em;}#sk-container-id-1 div.sk-estimator:hover {background-color: #d4ebff;}#sk-container-id-1 div.sk-parallel-item::after {content: \"\";width: 100%;border-bottom: 1px solid gray;flex-grow: 1;}#sk-container-id-1 div.sk-label:hover label.sk-toggleable__label {background-color: #d4ebff;}#sk-container-id-1 div.sk-serial::before {content: \"\";position: absolute;border-left: 1px solid gray;box-sizing: border-box;top: 0;bottom: 0;left: 50%;z-index: 0;}#sk-container-id-1 div.sk-serial {display: flex;flex-direction: column;align-items: center;background-color: white;padding-right: 0.2em;padding-left: 0.2em;position: relative;}#sk-container-id-1 div.sk-item {position: relative;z-index: 1;}#sk-container-id-1 div.sk-parallel {display: flex;align-items: stretch;justify-content: center;background-color: white;position: relative;}#sk-container-id-1 div.sk-item::before, #sk-container-id-1 div.sk-parallel-item::before {content: \"\";position: absolute;border-left: 1px solid gray;box-sizing: border-box;top: 0;bottom: 0;left: 50%;z-index: -1;}#sk-container-id-1 div.sk-parallel-item {display: flex;flex-direction: column;z-index: 1;position: relative;background-color: white;}#sk-container-id-1 div.sk-parallel-item:first-child::after {align-self: flex-end;width: 50%;}#sk-container-id-1 div.sk-parallel-item:last-child::after {align-self: flex-start;width: 50%;}#sk-container-id-1 div.sk-parallel-item:only-child::after {width: 0;}#sk-container-id-1 div.sk-dashed-wrapped {border: 1px dashed gray;margin: 0 0.4em 0.5em 0.4em;box-sizing: border-box;padding-bottom: 0.4em;background-color: white;}#sk-container-id-1 div.sk-label label {font-family: monospace;font-weight: bold;display: inline-block;line-height: 1.2em;}#sk-container-id-1 div.sk-label-container {text-align: center;}#sk-container-id-1 div.sk-container {/* jupyter's `normalize.less` sets `[hidden] { display: none; }` but bootstrap.min.css set `[hidden] { display: none !important; }` so we also need the `!important` here to be able to override the default hidden behavior on the sphinx rendered scikit-learn.org. See: https://github.com/scikit-learn/scikit-learn/issues/21755 */display: inline-block !important;position: relative;}#sk-container-id-1 div.sk-text-repr-fallback {display: none;}</style><div id=\"sk-container-id-1\" class=\"sk-top-container\"><div class=\"sk-text-repr-fallback\"><pre>Pipeline(steps=[(&#x27;scale&#x27;, None), (&#x27;model&#x27;, RandomForestClassifier(n_jobs=-1))])</pre><b>In a Jupyter environment, please rerun this cell to show the HTML representation or trust the notebook. <br />On GitHub, the HTML representation is unable to render, please try loading this page with nbviewer.org.</b></div><div class=\"sk-container\" hidden><div class=\"sk-item sk-dashed-wrapped\"><div class=\"sk-label-container\"><div class=\"sk-label sk-toggleable\"><input class=\"sk-toggleable__control sk-hidden--visually\" id=\"sk-estimator-id-1\" type=\"checkbox\" ><label for=\"sk-estimator-id-1\" class=\"sk-toggleable__label sk-toggleable__label-arrow\">Pipeline</label><div class=\"sk-toggleable__content\"><pre>Pipeline(steps=[(&#x27;scale&#x27;, None), (&#x27;model&#x27;, RandomForestClassifier(n_jobs=-1))])</pre></div></div></div><div class=\"sk-serial\"><div class=\"sk-item\"><div class=\"sk-estimator sk-toggleable\"><input class=\"sk-toggleable__control sk-hidden--visually\" id=\"sk-estimator-id-2\" type=\"checkbox\" ><label for=\"sk-estimator-id-2\" class=\"sk-toggleable__label sk-toggleable__label-arrow\">None</label><div class=\"sk-toggleable__content\"><pre>None</pre></div></div></div><div class=\"sk-item\"><div class=\"sk-estimator sk-toggleable\"><input class=\"sk-toggleable__control sk-hidden--visually\" id=\"sk-estimator-id-3\" type=\"checkbox\" ><label for=\"sk-estimator-id-3\" class=\"sk-toggleable__label sk-toggleable__label-arrow\">RandomForestClassifier</label><div class=\"sk-toggleable__content\"><pre>RandomForestClassifier(n_jobs=-1)</pre></div></div></div></div></div></div></div>"
      ],
      "text/plain": [
       "Pipeline(steps=[('scale', None), ('model', RandomForestClassifier(n_jobs=-1))])"
      ]
     },
     "execution_count": 43,
     "metadata": {},
     "output_type": "execute_result"
    }
   ],
   "source": [
    "model.fit(X_train, y_train.values.ravel())"
   ]
  },
  {
   "cell_type": "code",
   "execution_count": 44,
   "id": "af59f8c0",
   "metadata": {
    "execution": {
     "iopub.execute_input": "2025-07-30T13:14:47.724482Z",
     "iopub.status.busy": "2025-07-30T13:14:47.723897Z",
     "iopub.status.idle": "2025-07-30T13:14:47.729489Z",
     "shell.execute_reply": "2025-07-30T13:14:47.728564Z"
    },
    "papermill": {
     "duration": 0.04277,
     "end_time": "2025-07-30T13:14:47.731417",
     "exception": false,
     "start_time": "2025-07-30T13:14:47.688647",
     "status": "completed"
    },
    "tags": []
   },
   "outputs": [],
   "source": [
    "from fairness_multiverse.universe import predict_w_threshold"
   ]
  },
  {
   "cell_type": "code",
   "execution_count": 45,
   "id": "a7cf2e16",
   "metadata": {
    "execution": {
     "iopub.execute_input": "2025-07-30T13:14:47.782040Z",
     "iopub.status.busy": "2025-07-30T13:14:47.781620Z",
     "iopub.status.idle": "2025-07-30T13:14:48.979678Z",
     "shell.execute_reply": "2025-07-30T13:14:48.978790Z"
    },
    "papermill": {
     "duration": 1.224021,
     "end_time": "2025-07-30T13:14:48.981031",
     "exception": false,
     "start_time": "2025-07-30T13:14:47.757010",
     "status": "completed"
    },
    "tags": []
   },
   "outputs": [
    {
     "data": {
      "text/plain": [
       "0.8650986512094527"
      ]
     },
     "execution_count": 45,
     "metadata": {},
     "output_type": "execute_result"
    }
   ],
   "source": [
    "probs_test = model.predict_proba(X_test)\n",
    "\n",
    "'''\n",
    "Below code returns a boolean array (or binary 0/1 array depending on how it’s used) where each element \n",
    "is True if the probability of class 1 is greater than or equal to the threshold, and False otherwise.\n",
    "'''\n",
    "y_pred_default = predict_w_threshold(probs_test, 0.5)\n",
    "\n",
    "from sklearn.metrics import accuracy_score\n",
    "\n",
    "# Naive prediction\n",
    "accuracy_score(y_true = y_true, y_pred = y_pred_default)"
   ]
  },
  {
   "cell_type": "code",
   "execution_count": 46,
   "id": "081964c3",
   "metadata": {
    "execution": {
     "iopub.execute_input": "2025-07-30T13:14:49.053254Z",
     "iopub.status.busy": "2025-07-30T13:14:49.052845Z",
     "iopub.status.idle": "2025-07-30T13:14:50.352261Z",
     "shell.execute_reply": "2025-07-30T13:14:50.351295Z"
    },
    "papermill": {
     "duration": 1.345359,
     "end_time": "2025-07-30T13:14:50.354078",
     "exception": false,
     "start_time": "2025-07-30T13:14:49.008719",
     "status": "completed"
    },
    "tags": []
   },
   "outputs": [
    {
     "data": {
      "text/plain": [
       "array([0, 0, 0, ..., 0, 0, 0])"
      ]
     },
     "execution_count": 46,
     "metadata": {},
     "output_type": "execute_result"
    }
   ],
   "source": [
    "model.predict(X_test)"
   ]
  },
  {
   "cell_type": "markdown",
   "id": "56c9705b",
   "metadata": {
    "papermill": {
     "duration": 0.022626,
     "end_time": "2025-07-30T13:14:50.400884",
     "exception": false,
     "start_time": "2025-07-30T13:14:50.378258",
     "status": "completed"
    },
    "tags": []
   },
   "source": [
    "# Conformal Prediction"
   ]
  },
  {
   "cell_type": "code",
   "execution_count": 47,
   "id": "160ec6ff",
   "metadata": {
    "execution": {
     "iopub.execute_input": "2025-07-30T13:14:50.450178Z",
     "iopub.status.busy": "2025-07-30T13:14:50.449746Z",
     "iopub.status.idle": "2025-07-30T13:14:50.454631Z",
     "shell.execute_reply": "2025-07-30T13:14:50.453735Z"
    },
    "papermill": {
     "duration": 0.030417,
     "end_time": "2025-07-30T13:14:50.456374",
     "exception": false,
     "start_time": "2025-07-30T13:14:50.425957",
     "status": "completed"
    },
    "tags": []
   },
   "outputs": [],
   "source": [
    "# Miscoverage level for conformal prediction (10% allowed error rate => 90% target coverage)\n",
    "alpha = 0.1"
   ]
  },
  {
   "cell_type": "code",
   "execution_count": 48,
   "id": "eadf4555-3dd3-440e-8e35-f82a4ad9f855",
   "metadata": {
    "execution": {
     "iopub.execute_input": "2025-07-30T13:14:50.504176Z",
     "iopub.status.busy": "2025-07-30T13:14:50.503813Z",
     "iopub.status.idle": "2025-07-30T13:14:51.780597Z",
     "shell.execute_reply": "2025-07-30T13:14:51.779486Z"
    },
    "papermill": {
     "duration": 1.301202,
     "end_time": "2025-07-30T13:14:51.782949",
     "exception": false,
     "start_time": "2025-07-30T13:14:50.481747",
     "status": "completed"
    },
    "tags": []
   },
   "outputs": [],
   "source": [
    "probs_calib = model.predict_proba(X_calib)"
   ]
  },
  {
   "cell_type": "code",
   "execution_count": 49,
   "id": "2ed93547-6d5d-4983-9b36-1ecb300da49a",
   "metadata": {
    "execution": {
     "iopub.execute_input": "2025-07-30T13:14:51.867163Z",
     "iopub.status.busy": "2025-07-30T13:14:51.866759Z",
     "iopub.status.idle": "2025-07-30T13:14:51.873935Z",
     "shell.execute_reply": "2025-07-30T13:14:51.873012Z"
    },
    "papermill": {
     "duration": 0.048757,
     "end_time": "2025-07-30T13:14:51.875653",
     "exception": false,
     "start_time": "2025-07-30T13:14:51.826896",
     "status": "completed"
    },
    "tags": []
   },
   "outputs": [],
   "source": [
    "y_calib = y_calib.values.ravel().astype(int)"
   ]
  },
  {
   "cell_type": "code",
   "execution_count": 50,
   "id": "65d1320d-f588-4b38-9072-62af1ae97f7d",
   "metadata": {
    "execution": {
     "iopub.execute_input": "2025-07-30T13:14:51.975159Z",
     "iopub.status.busy": "2025-07-30T13:14:51.974721Z",
     "iopub.status.idle": "2025-07-30T13:14:51.984782Z",
     "shell.execute_reply": "2025-07-30T13:14:51.983659Z"
    },
    "papermill": {
     "duration": 0.065892,
     "end_time": "2025-07-30T13:14:51.986543",
     "exception": false,
     "start_time": "2025-07-30T13:14:51.920651",
     "status": "completed"
    },
    "tags": []
   },
   "outputs": [],
   "source": [
    "from fairness_multiverse.conformal import compute_nc_scores\n",
    "\n",
    "# Compute nonconformity scores on calibration set (1 - probability of true class)\n",
    "nc_scores = compute_nc_scores(probs_calib, y_calib)"
   ]
  },
  {
   "cell_type": "code",
   "execution_count": 51,
   "id": "df3b8ca3-53b7-43d5-9667-7c85da7aeda2",
   "metadata": {
    "execution": {
     "iopub.execute_input": "2025-07-30T13:14:52.035540Z",
     "iopub.status.busy": "2025-07-30T13:14:52.034864Z",
     "iopub.status.idle": "2025-07-30T13:14:52.042129Z",
     "shell.execute_reply": "2025-07-30T13:14:52.041198Z"
    },
    "papermill": {
     "duration": 0.037404,
     "end_time": "2025-07-30T13:14:52.043847",
     "exception": false,
     "start_time": "2025-07-30T13:14:52.006443",
     "status": "completed"
    },
    "tags": []
   },
   "outputs": [],
   "source": [
    "from fairness_multiverse.conformal import find_threshold\n",
    "\n",
    "# Find conformal threshold q_hat for the given alpha (split conformal method)\n",
    "q_hat = find_threshold(nc_scores, alpha)"
   ]
  },
  {
   "cell_type": "code",
   "execution_count": 52,
   "id": "4d29e6c1-0ef6-4aa4-b8fe-4fe79b0d033a",
   "metadata": {
    "execution": {
     "iopub.execute_input": "2025-07-30T13:14:52.101204Z",
     "iopub.status.busy": "2025-07-30T13:14:52.100304Z",
     "iopub.status.idle": "2025-07-30T13:14:52.107641Z",
     "shell.execute_reply": "2025-07-30T13:14:52.106560Z"
    },
    "papermill": {
     "duration": 0.037804,
     "end_time": "2025-07-30T13:14:52.109695",
     "exception": false,
     "start_time": "2025-07-30T13:14:52.071891",
     "status": "completed"
    },
    "tags": []
   },
   "outputs": [
    {
     "data": {
      "text/plain": [
       "0.6599999999999999"
      ]
     },
     "execution_count": 52,
     "metadata": {},
     "output_type": "execute_result"
    }
   ],
   "source": [
    "q_hat"
   ]
  },
  {
   "cell_type": "code",
   "execution_count": 53,
   "id": "92460794-cdac-4be2-ba28-f28c0515a6fb",
   "metadata": {
    "execution": {
     "iopub.execute_input": "2025-07-30T13:14:52.166600Z",
     "iopub.status.busy": "2025-07-30T13:14:52.166085Z",
     "iopub.status.idle": "2025-07-30T13:14:53.807140Z",
     "shell.execute_reply": "2025-07-30T13:14:53.806223Z"
    },
    "papermill": {
     "duration": 1.67136,
     "end_time": "2025-07-30T13:14:53.808964",
     "exception": false,
     "start_time": "2025-07-30T13:14:52.137604",
     "status": "completed"
    },
    "tags": []
   },
   "outputs": [],
   "source": [
    "from fairness_multiverse.conformal import predict_conformal_sets\n",
    "\n",
    "# Generate prediction sets for each test example\n",
    "pred_sets = predict_conformal_sets(model, X_test, q_hat)"
   ]
  },
  {
   "cell_type": "code",
   "execution_count": 54,
   "id": "d90c9a65-e6db-4f5d-80cd-e68fb7e46829",
   "metadata": {
    "execution": {
     "iopub.execute_input": "2025-07-30T13:14:53.864086Z",
     "iopub.status.busy": "2025-07-30T13:14:53.863154Z",
     "iopub.status.idle": "2025-07-30T13:14:53.869306Z",
     "shell.execute_reply": "2025-07-30T13:14:53.868242Z"
    },
    "papermill": {
     "duration": 0.033925,
     "end_time": "2025-07-30T13:14:53.870721",
     "exception": false,
     "start_time": "2025-07-30T13:14:53.836796",
     "status": "completed"
    },
    "tags": []
   },
   "outputs": [],
   "source": [
    "y_true = y_true.squeeze()"
   ]
  },
  {
   "cell_type": "code",
   "execution_count": 55,
   "id": "3a58a54a-1e68-46b9-927a-df01f18aebc8",
   "metadata": {
    "execution": {
     "iopub.execute_input": "2025-07-30T13:14:53.919194Z",
     "iopub.status.busy": "2025-07-30T13:14:53.918343Z",
     "iopub.status.idle": "2025-07-30T13:14:54.858895Z",
     "shell.execute_reply": "2025-07-30T13:14:54.857999Z"
    },
    "papermill": {
     "duration": 0.966452,
     "end_time": "2025-07-30T13:14:54.860713",
     "exception": false,
     "start_time": "2025-07-30T13:14:53.894261",
     "status": "completed"
    },
    "tags": []
   },
   "outputs": [],
   "source": [
    "from fairness_multiverse.conformal import evaluate_sets\n",
    "\n",
    "# Evaluate coverage and average set size on test data\n",
    "metrics = evaluate_sets(pred_sets, y_true)"
   ]
  },
  {
   "cell_type": "markdown",
   "id": "2b569c12-9aaa-4c88-98c9-bbcd0cf3ebb8",
   "metadata": {
    "papermill": {
     "duration": 0.023704,
     "end_time": "2025-07-30T13:14:54.908985",
     "exception": false,
     "start_time": "2025-07-30T13:14:54.885281",
     "status": "completed"
    },
    "tags": []
   },
   "source": [
    "# CP Metrics"
   ]
  },
  {
   "cell_type": "code",
   "execution_count": 56,
   "id": "5ce0a5cb-201f-45a0-ade5-94c7f0bd6095",
   "metadata": {
    "execution": {
     "iopub.execute_input": "2025-07-30T13:14:54.958116Z",
     "iopub.status.busy": "2025-07-30T13:14:54.957243Z",
     "iopub.status.idle": "2025-07-30T13:14:54.965345Z",
     "shell.execute_reply": "2025-07-30T13:14:54.964355Z"
    },
    "papermill": {
     "duration": 0.034319,
     "end_time": "2025-07-30T13:14:54.966999",
     "exception": false,
     "start_time": "2025-07-30T13:14:54.932680",
     "status": "completed"
    },
    "tags": []
   },
   "outputs": [
    {
     "data": {
      "text/plain": [
       "{'coverage': 0.912183703043139, 'avg_size': 1.1402742169211906}"
      ]
     },
     "execution_count": 56,
     "metadata": {},
     "output_type": "execute_result"
    }
   ],
   "source": [
    "metrics"
   ]
  },
  {
   "cell_type": "code",
   "execution_count": 57,
   "id": "9b9a838d-31c9-430b-ae14-12baee460d17",
   "metadata": {
    "execution": {
     "iopub.execute_input": "2025-07-30T13:14:55.017007Z",
     "iopub.status.busy": "2025-07-30T13:14:55.016652Z",
     "iopub.status.idle": "2025-07-30T13:14:55.022104Z",
     "shell.execute_reply": "2025-07-30T13:14:55.021439Z"
    },
    "papermill": {
     "duration": 0.028587,
     "end_time": "2025-07-30T13:14:55.023408",
     "exception": false,
     "start_time": "2025-07-30T13:14:54.994821",
     "status": "completed"
    },
    "tags": []
   },
   "outputs": [],
   "source": [
    "example_universe = universe.copy()\n",
    "universe_training_size = example_universe.get(\"training_size\")\n",
    "universe_scale = example_universe.get(\"scale\")\n",
    "universe_model = example_universe.get(\"model\")\n",
    "universe_exclude_features = example_universe.get(\"exclude_features\")\n",
    "universe_exclude_subgroups = example_universe.get(\"exclude_subgroups\")"
   ]
  },
  {
   "cell_type": "code",
   "execution_count": 58,
   "id": "f4b6a8ac-9dc0-4245-8a91-5b3b5999c4f9",
   "metadata": {
    "execution": {
     "iopub.execute_input": "2025-07-30T13:14:55.050891Z",
     "iopub.status.busy": "2025-07-30T13:14:55.050364Z",
     "iopub.status.idle": "2025-07-30T13:14:55.055397Z",
     "shell.execute_reply": "2025-07-30T13:14:55.054731Z"
    },
    "papermill": {
     "duration": 0.019838,
     "end_time": "2025-07-30T13:14:55.056748",
     "exception": false,
     "start_time": "2025-07-30T13:14:55.036910",
     "status": "completed"
    },
    "tags": []
   },
   "outputs": [],
   "source": [
    "cp_metrics_dict = {\n",
    "    \"universe_id\": [universe_id],\n",
    "    \"universe_training_size\": [universe_training_size],\n",
    "    \"universe_scale\": [universe_scale],\n",
    "    \"universe_model\": [universe_model],\n",
    "    \"universe_exclude_features\": [universe_exclude_features],\n",
    "    \"universe_exclude_subgroups\": [universe_exclude_subgroups],\n",
    "    \"q_hat\": [q_hat],\n",
    "    \"coverage\": [metrics[\"coverage\"]],\n",
    "    \"avg_size\": [metrics[\"avg_size\"]],\n",
    "}"
   ]
  },
  {
   "cell_type": "code",
   "execution_count": 59,
   "id": "908acbb1-0371-4915-85ca-3fa520d2efe2",
   "metadata": {
    "execution": {
     "iopub.execute_input": "2025-07-30T13:14:55.083379Z",
     "iopub.status.busy": "2025-07-30T13:14:55.082892Z",
     "iopub.status.idle": "2025-07-30T13:14:55.088945Z",
     "shell.execute_reply": "2025-07-30T13:14:55.088113Z"
    },
    "papermill": {
     "duration": 0.020588,
     "end_time": "2025-07-30T13:14:55.090249",
     "exception": false,
     "start_time": "2025-07-30T13:14:55.069661",
     "status": "completed"
    },
    "tags": []
   },
   "outputs": [
    {
     "data": {
      "text/plain": [
       "{'universe_id': ['1b4cff13c56c03e6773865fed27eca93'],\n",
       " 'universe_training_size': ['25k'],\n",
       " 'universe_scale': ['do-not-scale'],\n",
       " 'universe_model': ['rf'],\n",
       " 'universe_exclude_features': ['age'],\n",
       " 'universe_exclude_subgroups': ['drop-non-german'],\n",
       " 'q_hat': [0.6599999999999999],\n",
       " 'coverage': [0.912183703043139],\n",
       " 'avg_size': [1.1402742169211906]}"
      ]
     },
     "execution_count": 59,
     "metadata": {},
     "output_type": "execute_result"
    }
   ],
   "source": [
    "cp_metrics_dict"
   ]
  },
  {
   "cell_type": "code",
   "execution_count": 60,
   "id": "33007efc-14e9-4ec6-97ac-56a455c82265",
   "metadata": {
    "execution": {
     "iopub.execute_input": "2025-07-30T13:14:55.117755Z",
     "iopub.status.busy": "2025-07-30T13:14:55.117266Z",
     "iopub.status.idle": "2025-07-30T13:14:55.121765Z",
     "shell.execute_reply": "2025-07-30T13:14:55.121080Z"
    },
    "papermill": {
     "duration": 0.019327,
     "end_time": "2025-07-30T13:14:55.123042",
     "exception": false,
     "start_time": "2025-07-30T13:14:55.103715",
     "status": "completed"
    },
    "tags": []
   },
   "outputs": [],
   "source": [
    "cp_metrics_df = pd.DataFrame(cp_metrics_dict)"
   ]
  },
  {
   "cell_type": "code",
   "execution_count": 61,
   "id": "db12611b-57b2-4910-b9d0-355adfd6e7bf",
   "metadata": {
    "execution": {
     "iopub.execute_input": "2025-07-30T13:14:55.150549Z",
     "iopub.status.busy": "2025-07-30T13:14:55.149952Z",
     "iopub.status.idle": "2025-07-30T13:14:55.162709Z",
     "shell.execute_reply": "2025-07-30T13:14:55.162024Z"
    },
    "papermill": {
     "duration": 0.028292,
     "end_time": "2025-07-30T13:14:55.164743",
     "exception": false,
     "start_time": "2025-07-30T13:14:55.136451",
     "status": "completed"
    },
    "tags": []
   },
   "outputs": [
    {
     "data": {
      "text/html": [
       "<div>\n",
       "<style scoped>\n",
       "    .dataframe tbody tr th:only-of-type {\n",
       "        vertical-align: middle;\n",
       "    }\n",
       "\n",
       "    .dataframe tbody tr th {\n",
       "        vertical-align: top;\n",
       "    }\n",
       "\n",
       "    .dataframe thead th {\n",
       "        text-align: right;\n",
       "    }\n",
       "</style>\n",
       "<table border=\"1\" class=\"dataframe\">\n",
       "  <thead>\n",
       "    <tr style=\"text-align: right;\">\n",
       "      <th></th>\n",
       "      <th>universe_id</th>\n",
       "      <th>universe_training_size</th>\n",
       "      <th>universe_scale</th>\n",
       "      <th>universe_model</th>\n",
       "      <th>universe_exclude_features</th>\n",
       "      <th>universe_exclude_subgroups</th>\n",
       "      <th>q_hat</th>\n",
       "      <th>coverage</th>\n",
       "      <th>avg_size</th>\n",
       "    </tr>\n",
       "  </thead>\n",
       "  <tbody>\n",
       "    <tr>\n",
       "      <th>0</th>\n",
       "      <td>1b4cff13c56c03e6773865fed27eca93</td>\n",
       "      <td>25k</td>\n",
       "      <td>do-not-scale</td>\n",
       "      <td>rf</td>\n",
       "      <td>age</td>\n",
       "      <td>drop-non-german</td>\n",
       "      <td>0.66</td>\n",
       "      <td>0.912184</td>\n",
       "      <td>1.140274</td>\n",
       "    </tr>\n",
       "  </tbody>\n",
       "</table>\n",
       "</div>"
      ],
      "text/plain": [
       "                        universe_id universe_training_size universe_scale  \\\n",
       "0  1b4cff13c56c03e6773865fed27eca93                    25k   do-not-scale   \n",
       "\n",
       "  universe_model universe_exclude_features universe_exclude_subgroups  q_hat  \\\n",
       "0             rf                       age            drop-non-german   0.66   \n",
       "\n",
       "   coverage  avg_size  \n",
       "0  0.912184  1.140274  "
      ]
     },
     "execution_count": 61,
     "metadata": {},
     "output_type": "execute_result"
    }
   ],
   "source": [
    "cp_metrics_df"
   ]
  },
  {
   "cell_type": "code",
   "execution_count": 62,
   "id": "b7fbde55-a0a1-47e4-9af6-fe4a17fa8c61",
   "metadata": {
    "execution": {
     "iopub.execute_input": "2025-07-30T13:14:55.195652Z",
     "iopub.status.busy": "2025-07-30T13:14:55.195017Z",
     "iopub.status.idle": "2025-07-30T13:14:55.199362Z",
     "shell.execute_reply": "2025-07-30T13:14:55.198634Z"
    },
    "papermill": {
     "duration": 0.019474,
     "end_time": "2025-07-30T13:14:55.200749",
     "exception": false,
     "start_time": "2025-07-30T13:14:55.181275",
     "status": "completed"
    },
    "tags": []
   },
   "outputs": [],
   "source": [
    "# Conditional Coverage & looking at subgroups"
   ]
  },
  {
   "cell_type": "code",
   "execution_count": 63,
   "id": "027ae886-68dd-4141-96c7-805a5450e1ef",
   "metadata": {
    "execution": {
     "iopub.execute_input": "2025-07-30T13:14:55.230403Z",
     "iopub.status.busy": "2025-07-30T13:14:55.229733Z",
     "iopub.status.idle": "2025-07-30T13:14:55.406351Z",
     "shell.execute_reply": "2025-07-30T13:14:55.405550Z"
    },
    "papermill": {
     "duration": 0.192661,
     "end_time": "2025-07-30T13:14:55.407806",
     "exception": false,
     "start_time": "2025-07-30T13:14:55.215145",
     "status": "completed"
    },
    "tags": []
   },
   "outputs": [],
   "source": [
    "from fairness_multiverse.conformal import build_cp_groups\n",
    "\n",
    "cp_groups_df = build_cp_groups(pred_sets, y_true, X_test.index, org_test)\n",
    "#needs universe_id and setting"
   ]
  },
  {
   "cell_type": "code",
   "execution_count": 64,
   "id": "01d5802c-663a-4d1f-9d69-e036faaffbf7",
   "metadata": {
    "execution": {
     "iopub.execute_input": "2025-07-30T13:14:55.436424Z",
     "iopub.status.busy": "2025-07-30T13:14:55.435913Z",
     "iopub.status.idle": "2025-07-30T13:14:55.440208Z",
     "shell.execute_reply": "2025-07-30T13:14:55.439417Z"
    },
    "papermill": {
     "duration": 0.019481,
     "end_time": "2025-07-30T13:14:55.441515",
     "exception": false,
     "start_time": "2025-07-30T13:14:55.422034",
     "status": "completed"
    },
    "tags": []
   },
   "outputs": [],
   "source": [
    "#delete\n",
    "#cp_groups_df"
   ]
  },
  {
   "cell_type": "code",
   "execution_count": 65,
   "id": "fa424af1-d1eb-443d-b717-2d279ada8408",
   "metadata": {
    "execution": {
     "iopub.execute_input": "2025-07-30T13:14:55.470145Z",
     "iopub.status.busy": "2025-07-30T13:14:55.469611Z",
     "iopub.status.idle": "2025-07-30T13:14:55.473414Z",
     "shell.execute_reply": "2025-07-30T13:14:55.472748Z"
    },
    "papermill": {
     "duration": 0.019269,
     "end_time": "2025-07-30T13:14:55.474648",
     "exception": false,
     "start_time": "2025-07-30T13:14:55.455379",
     "status": "completed"
    },
    "tags": []
   },
   "outputs": [],
   "source": [
    "#delete\n",
    "#percentage = (cp_groups_df['nongerman_female'] == 1).mean() * 100\n",
    "#print(percentage)\n"
   ]
  },
  {
   "cell_type": "code",
   "execution_count": 66,
   "id": "6cbdab96-b2b2-45af-ad54-d0516db2e28d",
   "metadata": {
    "execution": {
     "iopub.execute_input": "2025-07-30T13:14:55.503389Z",
     "iopub.status.busy": "2025-07-30T13:14:55.502592Z",
     "iopub.status.idle": "2025-07-30T13:14:56.807892Z",
     "shell.execute_reply": "2025-07-30T13:14:56.806826Z"
    },
    "papermill": {
     "duration": 1.321615,
     "end_time": "2025-07-30T13:14:56.810052",
     "exception": false,
     "start_time": "2025-07-30T13:14:55.488437",
     "status": "completed"
    },
    "tags": []
   },
   "outputs": [],
   "source": [
    "# Define covered = 1 if true_label is in the predicted set\n",
    "cp_groups_df['covered'] = cp_groups_df.apply(\n",
    "    lambda r: int(r['true_label'] in r['pred_set']),\n",
    "    axis=1\n",
    ")"
   ]
  },
  {
   "cell_type": "code",
   "execution_count": 67,
   "id": "338ff529-1a6b-4b87-a931-8e4788d52aad",
   "metadata": {
    "execution": {
     "iopub.execute_input": "2025-07-30T13:14:56.873693Z",
     "iopub.status.busy": "2025-07-30T13:14:56.872973Z",
     "iopub.status.idle": "2025-07-30T13:14:56.878430Z",
     "shell.execute_reply": "2025-07-30T13:14:56.877476Z"
    },
    "papermill": {
     "duration": 0.039191,
     "end_time": "2025-07-30T13:14:56.880290",
     "exception": false,
     "start_time": "2025-07-30T13:14:56.841099",
     "status": "completed"
    },
    "tags": []
   },
   "outputs": [],
   "source": [
    "#cp_groups_df"
   ]
  },
  {
   "cell_type": "code",
   "execution_count": 68,
   "id": "90032e27-66df-4540-9169-4e89cfbaa758",
   "metadata": {
    "execution": {
     "iopub.execute_input": "2025-07-30T13:14:56.942795Z",
     "iopub.status.busy": "2025-07-30T13:14:56.941835Z",
     "iopub.status.idle": "2025-07-30T13:14:56.953716Z",
     "shell.execute_reply": "2025-07-30T13:14:56.952757Z"
    },
    "papermill": {
     "duration": 0.044836,
     "end_time": "2025-07-30T13:14:56.955411",
     "exception": false,
     "start_time": "2025-07-30T13:14:56.910575",
     "status": "completed"
    },
    "tags": []
   },
   "outputs": [],
   "source": [
    "subgroups = ['frau1','nongerman','nongerman_male','nongerman_female']\n",
    "\n",
    "# Conditional coverage for subgroup==1\n",
    "cond_coverage = {\n",
    "    g: cp_groups_df.loc[cp_groups_df[g]==1, 'covered'].mean()\n",
    "    for g in subgroups\n",
    "}"
   ]
  },
  {
   "cell_type": "code",
   "execution_count": 69,
   "id": "1e348fb1-b9c3-45bc-ba23-f016827a7e0d",
   "metadata": {
    "execution": {
     "iopub.execute_input": "2025-07-30T13:14:57.017465Z",
     "iopub.status.busy": "2025-07-30T13:14:57.016458Z",
     "iopub.status.idle": "2025-07-30T13:14:57.024279Z",
     "shell.execute_reply": "2025-07-30T13:14:57.023181Z"
    },
    "papermill": {
     "duration": 0.04018,
     "end_time": "2025-07-30T13:14:57.026120",
     "exception": false,
     "start_time": "2025-07-30T13:14:56.985940",
     "status": "completed"
    },
    "tags": []
   },
   "outputs": [
    {
     "data": {
      "text/plain": [
       "{'frau1': 0.914462865615312,\n",
       " 'nongerman': 0.8959748498287767,\n",
       " 'nongerman_male': 0.9037197153922363,\n",
       " 'nongerman_female': 0.8831594634873323}"
      ]
     },
     "execution_count": 69,
     "metadata": {},
     "output_type": "execute_result"
    }
   ],
   "source": [
    "cond_coverage"
   ]
  },
  {
   "cell_type": "code",
   "execution_count": 70,
   "id": "f5093324-c3dd-4d63-bc4c-8d945e5c8bbb",
   "metadata": {
    "execution": {
     "iopub.execute_input": "2025-07-30T13:14:57.082716Z",
     "iopub.status.busy": "2025-07-30T13:14:57.082234Z",
     "iopub.status.idle": "2025-07-30T13:14:57.089752Z",
     "shell.execute_reply": "2025-07-30T13:14:57.088575Z"
    },
    "papermill": {
     "duration": 0.035857,
     "end_time": "2025-07-30T13:14:57.091377",
     "exception": false,
     "start_time": "2025-07-30T13:14:57.055520",
     "status": "completed"
    },
    "tags": []
   },
   "outputs": [],
   "source": [
    "for subgroup, cov in cond_coverage.items():\n",
    "    cp_metrics_df[f\"cov_{subgroup}\"] = cov"
   ]
  },
  {
   "cell_type": "code",
   "execution_count": 71,
   "id": "6e872e10-dbe5-49e8-b554-5030c98ff75d",
   "metadata": {
    "execution": {
     "iopub.execute_input": "2025-07-30T13:14:57.147333Z",
     "iopub.status.busy": "2025-07-30T13:14:57.146662Z",
     "iopub.status.idle": "2025-07-30T13:14:57.165509Z",
     "shell.execute_reply": "2025-07-30T13:14:57.164533Z"
    },
    "papermill": {
     "duration": 0.047884,
     "end_time": "2025-07-30T13:14:57.167086",
     "exception": false,
     "start_time": "2025-07-30T13:14:57.119202",
     "status": "completed"
    },
    "tags": []
   },
   "outputs": [
    {
     "data": {
      "text/html": [
       "<div>\n",
       "<style scoped>\n",
       "    .dataframe tbody tr th:only-of-type {\n",
       "        vertical-align: middle;\n",
       "    }\n",
       "\n",
       "    .dataframe tbody tr th {\n",
       "        vertical-align: top;\n",
       "    }\n",
       "\n",
       "    .dataframe thead th {\n",
       "        text-align: right;\n",
       "    }\n",
       "</style>\n",
       "<table border=\"1\" class=\"dataframe\">\n",
       "  <thead>\n",
       "    <tr style=\"text-align: right;\">\n",
       "      <th></th>\n",
       "      <th>universe_id</th>\n",
       "      <th>universe_training_size</th>\n",
       "      <th>universe_scale</th>\n",
       "      <th>universe_model</th>\n",
       "      <th>universe_exclude_features</th>\n",
       "      <th>universe_exclude_subgroups</th>\n",
       "      <th>q_hat</th>\n",
       "      <th>coverage</th>\n",
       "      <th>avg_size</th>\n",
       "      <th>cov_frau1</th>\n",
       "      <th>cov_nongerman</th>\n",
       "      <th>cov_nongerman_male</th>\n",
       "      <th>cov_nongerman_female</th>\n",
       "    </tr>\n",
       "  </thead>\n",
       "  <tbody>\n",
       "    <tr>\n",
       "      <th>0</th>\n",
       "      <td>1b4cff13c56c03e6773865fed27eca93</td>\n",
       "      <td>25k</td>\n",
       "      <td>do-not-scale</td>\n",
       "      <td>rf</td>\n",
       "      <td>age</td>\n",
       "      <td>drop-non-german</td>\n",
       "      <td>0.66</td>\n",
       "      <td>0.912184</td>\n",
       "      <td>1.140274</td>\n",
       "      <td>0.914463</td>\n",
       "      <td>0.895975</td>\n",
       "      <td>0.90372</td>\n",
       "      <td>0.883159</td>\n",
       "    </tr>\n",
       "  </tbody>\n",
       "</table>\n",
       "</div>"
      ],
      "text/plain": [
       "                        universe_id universe_training_size universe_scale  \\\n",
       "0  1b4cff13c56c03e6773865fed27eca93                    25k   do-not-scale   \n",
       "\n",
       "  universe_model universe_exclude_features universe_exclude_subgroups  q_hat  \\\n",
       "0             rf                       age            drop-non-german   0.66   \n",
       "\n",
       "   coverage  avg_size  cov_frau1  cov_nongerman  cov_nongerman_male  \\\n",
       "0  0.912184  1.140274   0.914463       0.895975             0.90372   \n",
       "\n",
       "   cov_nongerman_female  \n",
       "0              0.883159  "
      ]
     },
     "execution_count": 71,
     "metadata": {},
     "output_type": "execute_result"
    }
   ],
   "source": [
    "cp_metrics_df"
   ]
  },
  {
   "cell_type": "markdown",
   "id": "33774451",
   "metadata": {
    "papermill": {
     "duration": 0.027704,
     "end_time": "2025-07-30T13:14:57.222136",
     "exception": false,
     "start_time": "2025-07-30T13:14:57.194432",
     "status": "completed"
    },
    "tags": []
   },
   "source": [
    "# (Fairness) Metrics"
   ]
  },
  {
   "cell_type": "code",
   "execution_count": 72,
   "id": "debc5d62",
   "metadata": {
    "execution": {
     "iopub.execute_input": "2025-07-30T13:14:57.278298Z",
     "iopub.status.busy": "2025-07-30T13:14:57.277768Z",
     "iopub.status.idle": "2025-07-30T13:14:57.299912Z",
     "shell.execute_reply": "2025-07-30T13:14:57.298931Z"
    },
    "papermill": {
     "duration": 0.051808,
     "end_time": "2025-07-30T13:14:57.301942",
     "exception": false,
     "start_time": "2025-07-30T13:14:57.250134",
     "status": "completed"
    },
    "tags": []
   },
   "outputs": [],
   "source": [
    "# do I need to include maxdeutsch1.missing?\n",
    "\n",
    "import numpy as np\n",
    "\n",
    "colname_to_bin = \"maxdeutsch1\"\n",
    "majority_value = org_train[colname_to_bin].mode()[0]\n",
    "\n",
    "org_test[\"majmin\"] = np.where(org_test[colname_to_bin] == majority_value, \"majority\", \"minority\")"
   ]
  },
  {
   "cell_type": "code",
   "execution_count": 73,
   "id": "06a50de5",
   "metadata": {
    "execution": {
     "iopub.execute_input": "2025-07-30T13:14:57.360132Z",
     "iopub.status.busy": "2025-07-30T13:14:57.359625Z",
     "iopub.status.idle": "2025-07-30T13:15:00.151565Z",
     "shell.execute_reply": "2025-07-30T13:15:00.150820Z"
    },
    "papermill": {
     "duration": 2.823464,
     "end_time": "2025-07-30T13:15:00.153021",
     "exception": false,
     "start_time": "2025-07-30T13:14:57.329557",
     "status": "completed"
    },
    "tags": []
   },
   "outputs": [],
   "source": [
    "example_universe = universe.copy()\n",
    "example_universe[\"cutoff\"] = example_universe[\"cutoff\"][0]\n",
    "example_universe[\"eval_fairness_grouping\"] = example_universe[\"eval_fairness_grouping\"][0]\n",
    "fairness_dict, metric_frame = universe_analysis.compute_metrics(\n",
    "    example_universe,\n",
    "    y_pred_prob=probs_test,\n",
    "    y_test=y_true,\n",
    "    org_test=org_test,\n",
    ")"
   ]
  },
  {
   "cell_type": "markdown",
   "id": "f95d4e02",
   "metadata": {
    "papermill": {
     "duration": 0.015133,
     "end_time": "2025-07-30T13:15:00.185633",
     "exception": false,
     "start_time": "2025-07-30T13:15:00.170500",
     "status": "completed"
    },
    "tags": []
   },
   "source": [
    "# Overall"
   ]
  },
  {
   "cell_type": "markdown",
   "id": "bdee4871",
   "metadata": {
    "papermill": {
     "duration": 0.02839,
     "end_time": "2025-07-30T13:15:00.239018",
     "exception": false,
     "start_time": "2025-07-30T13:15:00.210628",
     "status": "completed"
    },
    "tags": []
   },
   "source": [
    "Fairness\n",
    "Main fairness target: Equalized Odds. Seems to be a better fit than equal opportunity, since we're not only interested in Y = 1. Seems to be a better fit than demographic parity, since we also care about accuracy, not just equal distribution of preds.\n",
    "\n",
    "Pick column for computation of fairness metrics\n",
    "\n",
    "Performance\n",
    "Overall performance measures, most interesting in relation to the measures split by group below"
   ]
  },
  {
   "cell_type": "code",
   "execution_count": 74,
   "id": "c4e067c6",
   "metadata": {
    "execution": {
     "iopub.execute_input": "2025-07-30T13:15:00.296973Z",
     "iopub.status.busy": "2025-07-30T13:15:00.296466Z",
     "iopub.status.idle": "2025-07-30T13:15:00.304999Z",
     "shell.execute_reply": "2025-07-30T13:15:00.304043Z"
    },
    "papermill": {
     "duration": 0.040249,
     "end_time": "2025-07-30T13:15:00.306717",
     "exception": false,
     "start_time": "2025-07-30T13:15:00.266468",
     "status": "completed"
    },
    "tags": []
   },
   "outputs": [
    {
     "data": {
      "text/plain": [
       "accuracy                   0.195307\n",
       "balanced accuracy          0.529700\n",
       "f1                         0.237974\n",
       "precision                  0.135440\n",
       "false positive rate        0.920092\n",
       "false negative rate        0.020507\n",
       "selection rate             0.927712\n",
       "count                  89710.000000\n",
       "dtype: float64"
      ]
     },
     "execution_count": 74,
     "metadata": {},
     "output_type": "execute_result"
    }
   ],
   "source": [
    "metric_frame.overall"
   ]
  },
  {
   "cell_type": "markdown",
   "id": "e968fe9d",
   "metadata": {
    "papermill": {
     "duration": 0.028286,
     "end_time": "2025-07-30T13:15:00.363424",
     "exception": false,
     "start_time": "2025-07-30T13:15:00.335138",
     "status": "completed"
    },
    "tags": []
   },
   "source": [
    "By Group"
   ]
  },
  {
   "cell_type": "code",
   "execution_count": 75,
   "id": "ec325bce",
   "metadata": {
    "execution": {
     "iopub.execute_input": "2025-07-30T13:15:00.419968Z",
     "iopub.status.busy": "2025-07-30T13:15:00.419455Z",
     "iopub.status.idle": "2025-07-30T13:15:00.435942Z",
     "shell.execute_reply": "2025-07-30T13:15:00.434937Z"
    },
    "papermill": {
     "duration": 0.045832,
     "end_time": "2025-07-30T13:15:00.437481",
     "exception": false,
     "start_time": "2025-07-30T13:15:00.391649",
     "status": "completed"
    },
    "tags": []
   },
   "outputs": [
    {
     "data": {
      "text/html": [
       "<div>\n",
       "<style scoped>\n",
       "    .dataframe tbody tr th:only-of-type {\n",
       "        vertical-align: middle;\n",
       "    }\n",
       "\n",
       "    .dataframe tbody tr th {\n",
       "        vertical-align: top;\n",
       "    }\n",
       "\n",
       "    .dataframe thead th {\n",
       "        text-align: right;\n",
       "    }\n",
       "</style>\n",
       "<table border=\"1\" class=\"dataframe\">\n",
       "  <thead>\n",
       "    <tr style=\"text-align: right;\">\n",
       "      <th></th>\n",
       "      <th>accuracy</th>\n",
       "      <th>balanced accuracy</th>\n",
       "      <th>f1</th>\n",
       "      <th>precision</th>\n",
       "      <th>false positive rate</th>\n",
       "      <th>false negative rate</th>\n",
       "      <th>selection rate</th>\n",
       "      <th>count</th>\n",
       "    </tr>\n",
       "    <tr>\n",
       "      <th>majmin</th>\n",
       "      <th></th>\n",
       "      <th></th>\n",
       "      <th></th>\n",
       "      <th></th>\n",
       "      <th></th>\n",
       "      <th></th>\n",
       "      <th></th>\n",
       "      <th></th>\n",
       "    </tr>\n",
       "  </thead>\n",
       "  <tbody>\n",
       "    <tr>\n",
       "      <th>majority</th>\n",
       "      <td>0.190458</td>\n",
       "      <td>0.529890</td>\n",
       "      <td>0.244482</td>\n",
       "      <td>0.139436</td>\n",
       "      <td>0.931468</td>\n",
       "      <td>0.008753</td>\n",
       "      <td>0.939367</td>\n",
       "      <td>69170.0</td>\n",
       "    </tr>\n",
       "    <tr>\n",
       "      <th>minority</th>\n",
       "      <td>0.211636</td>\n",
       "      <td>0.525805</td>\n",
       "      <td>0.214580</td>\n",
       "      <td>0.121212</td>\n",
       "      <td>0.882512</td>\n",
       "      <td>0.065878</td>\n",
       "      <td>0.888462</td>\n",
       "      <td>20540.0</td>\n",
       "    </tr>\n",
       "  </tbody>\n",
       "</table>\n",
       "</div>"
      ],
      "text/plain": [
       "          accuracy  balanced accuracy        f1  precision  \\\n",
       "majmin                                                       \n",
       "majority  0.190458           0.529890  0.244482   0.139436   \n",
       "minority  0.211636           0.525805  0.214580   0.121212   \n",
       "\n",
       "          false positive rate  false negative rate  selection rate    count  \n",
       "majmin                                                                       \n",
       "majority             0.931468             0.008753        0.939367  69170.0  \n",
       "minority             0.882512             0.065878        0.888462  20540.0  "
      ]
     },
     "execution_count": 75,
     "metadata": {},
     "output_type": "execute_result"
    }
   ],
   "source": [
    "metric_frame.by_group"
   ]
  },
  {
   "cell_type": "code",
   "execution_count": 76,
   "id": "a9ddbe63",
   "metadata": {
    "execution": {
     "iopub.execute_input": "2025-07-30T13:15:00.494608Z",
     "iopub.status.busy": "2025-07-30T13:15:00.493839Z",
     "iopub.status.idle": "2025-07-30T13:15:02.705936Z",
     "shell.execute_reply": "2025-07-30T13:15:02.704971Z"
    },
    "papermill": {
     "duration": 2.242273,
     "end_time": "2025-07-30T13:15:02.707782",
     "exception": false,
     "start_time": "2025-07-30T13:15:00.465509",
     "status": "completed"
    },
    "tags": []
   },
   "outputs": [
    {
     "data": {
      "text/plain": [
       "array([[<Axes: title={'center': 'accuracy'}, xlabel='majmin'>,\n",
       "        <Axes: title={'center': 'balanced accuracy'}, xlabel='majmin'>,\n",
       "        <Axes: title={'center': 'f1'}, xlabel='majmin'>],\n",
       "       [<Axes: title={'center': 'precision'}, xlabel='majmin'>,\n",
       "        <Axes: title={'center': 'false positive rate'}, xlabel='majmin'>,\n",
       "        <Axes: title={'center': 'false negative rate'}, xlabel='majmin'>],\n",
       "       [<Axes: title={'center': 'selection rate'}, xlabel='majmin'>,\n",
       "        <Axes: title={'center': 'count'}, xlabel='majmin'>,\n",
       "        <Axes: xlabel='majmin'>]], dtype=object)"
      ]
     },
     "execution_count": 76,
     "metadata": {},
     "output_type": "execute_result"
    },
    {
     "data": {
      "image/png": "[encoded data removed]",
      "text/plain": [
       "<Figure size 1200x800 with 9 Axes>"
      ]
     },
     "metadata": {},
     "output_type": "display_data"
    }
   ],
   "source": [
    "# In a graphic\n",
    "metric_frame.by_group.plot.bar(\n",
    "    subplots=True,\n",
    "    layout=[3, 3],\n",
    "    legend=False,\n",
    "    figsize=[12, 8],\n",
    "    title=\"Show all metrics\",\n",
    ")"
   ]
  },
  {
   "cell_type": "markdown",
   "id": "f57a0bac",
   "metadata": {
    "papermill": {
     "duration": 0.029611,
     "end_time": "2025-07-30T13:15:02.768345",
     "exception": false,
     "start_time": "2025-07-30T13:15:02.738734",
     "status": "completed"
    },
    "tags": []
   },
   "source": [
    "# Final Output"
   ]
  },
  {
   "cell_type": "code",
   "execution_count": 77,
   "id": "96d280a3",
   "metadata": {
    "execution": {
     "iopub.execute_input": "2025-07-30T13:15:02.830395Z",
     "iopub.status.busy": "2025-07-30T13:15:02.829753Z",
     "iopub.status.idle": "2025-07-30T13:15:02.838660Z",
     "shell.execute_reply": "2025-07-30T13:15:02.837660Z"
    },
    "papermill": {
     "duration": 0.042255,
     "end_time": "2025-07-30T13:15:02.840234",
     "exception": false,
     "start_time": "2025-07-30T13:15:02.797979",
     "status": "completed"
    },
    "tags": []
   },
   "outputs": [
    {
     "data": {
      "text/plain": [
       "4"
      ]
     },
     "execution_count": 77,
     "metadata": {},
     "output_type": "execute_result"
    }
   ],
   "source": [
    "sub_universes = universe_analysis.generate_sub_universes()\n",
    "len(sub_universes)"
   ]
  },
  {
   "cell_type": "code",
   "execution_count": 78,
   "id": "92adf7ba",
   "metadata": {
    "execution": {
     "iopub.execute_input": "2025-07-30T13:15:02.903530Z",
     "iopub.status.busy": "2025-07-30T13:15:02.902656Z",
     "iopub.status.idle": "2025-07-30T13:15:02.909212Z",
     "shell.execute_reply": "2025-07-30T13:15:02.908289Z"
    },
    "papermill": {
     "duration": 0.040375,
     "end_time": "2025-07-30T13:15:02.911013",
     "exception": false,
     "start_time": "2025-07-30T13:15:02.870638",
     "status": "completed"
    },
    "tags": []
   },
   "outputs": [],
   "source": [
    "def filter_sub_universe_data(sub_universe, org_test):\n",
    "    # Keep all rows — no filtering\n",
    "    keep_rows_mask = np.ones(org_test.shape[0], dtype=bool)\n",
    "\n",
    "    print(f\"[INFO] Keeping all rows: {keep_rows_mask.sum()} rows retained.\")\n",
    "    return keep_rows_mask"
   ]
  },
  {
   "cell_type": "code",
   "execution_count": 79,
   "id": "4a759155",
   "metadata": {
    "execution": {
     "iopub.execute_input": "2025-07-30T13:15:02.975754Z",
     "iopub.status.busy": "2025-07-30T13:15:02.974852Z",
     "iopub.status.idle": "2025-07-30T13:15:13.761176Z",
     "shell.execute_reply": "2025-07-30T13:15:13.759781Z"
    },
    "papermill": {
     "duration": 10.821418,
     "end_time": "2025-07-30T13:15:13.763965",
     "exception": false,
     "start_time": "2025-07-30T13:15:02.942547",
     "status": "completed"
    },
    "tags": []
   },
   "outputs": [
    {
     "name": "stdout",
     "output_type": "stream",
     "text": [
      "Stopping execution_time clock.\n",
      "[INFO] Keeping all rows: 89710 rows retained.\n"
     ]
    },
    {
     "name": "stdout",
     "output_type": "stream",
     "text": [
      "[INFO] Keeping all rows: 89710 rows retained.\n"
     ]
    },
    {
     "name": "stdout",
     "output_type": "stream",
     "text": [
      "[INFO] Keeping all rows: 89710 rows retained.\n"
     ]
    },
    {
     "name": "stdout",
     "output_type": "stream",
     "text": [
      "[INFO] Keeping all rows: 89710 rows retained.\n"
     ]
    },
    {
     "data": {
      "text/html": [
       "<div>\n",
       "<style scoped>\n",
       "    .dataframe tbody tr th:only-of-type {\n",
       "        vertical-align: middle;\n",
       "    }\n",
       "\n",
       "    .dataframe tbody tr th {\n",
       "        vertical-align: top;\n",
       "    }\n",
       "\n",
       "    .dataframe thead th {\n",
       "        text-align: right;\n",
       "    }\n",
       "</style>\n",
       "<table border=\"1\" class=\"dataframe\">\n",
       "  <thead>\n",
       "    <tr style=\"text-align: right;\">\n",
       "      <th></th>\n",
       "      <th>run_no</th>\n",
       "      <th>universe_id</th>\n",
       "      <th>universe_settings</th>\n",
       "      <th>execution_time</th>\n",
       "      <th>test_size_n</th>\n",
       "      <th>test_size_frac</th>\n",
       "      <th>fair_main_equalized_odds_difference</th>\n",
       "      <th>fair_main_equalized_odds_ratio</th>\n",
       "      <th>fair_main_demographic_parity_difference</th>\n",
       "      <th>fair_main_demographic_parity_ratio</th>\n",
       "      <th>...</th>\n",
       "      <th>perf_grp_precision_0</th>\n",
       "      <th>perf_grp_precision_1</th>\n",
       "      <th>perf_grp_false positive rate_0</th>\n",
       "      <th>perf_grp_false positive rate_1</th>\n",
       "      <th>perf_grp_false negative rate_0</th>\n",
       "      <th>perf_grp_false negative rate_1</th>\n",
       "      <th>perf_grp_selection rate_0</th>\n",
       "      <th>perf_grp_selection rate_1</th>\n",
       "      <th>perf_grp_count_0</th>\n",
       "      <th>perf_grp_count_1</th>\n",
       "    </tr>\n",
       "  </thead>\n",
       "  <tbody>\n",
       "    <tr>\n",
       "      <th>0</th>\n",
       "      <td>12</td>\n",
       "      <td>1b4cff13c56c03e6773865fed27eca93</td>\n",
       "      <td>{\"cutoff\": \"quantile_0.1\", \"eval_fairness_grou...</td>\n",
       "      <td>42.812423</td>\n",
       "      <td>89710</td>\n",
       "      <td>1.0</td>\n",
       "      <td>0.057126</td>\n",
       "      <td>0.942370</td>\n",
       "      <td>0.050905</td>\n",
       "      <td>0.945809</td>\n",
       "      <td>...</td>\n",
       "      <td>NaN</td>\n",
       "      <td>NaN</td>\n",
       "      <td>NaN</td>\n",
       "      <td>NaN</td>\n",
       "      <td>NaN</td>\n",
       "      <td>NaN</td>\n",
       "      <td>NaN</td>\n",
       "      <td>NaN</td>\n",
       "      <td>NaN</td>\n",
       "      <td>NaN</td>\n",
       "    </tr>\n",
       "    <tr>\n",
       "      <th>0</th>\n",
       "      <td>12</td>\n",
       "      <td>1b4cff13c56c03e6773865fed27eca93</td>\n",
       "      <td>{\"cutoff\": \"quantile_0.1\", \"eval_fairness_grou...</td>\n",
       "      <td>42.812423</td>\n",
       "      <td>89710</td>\n",
       "      <td>1.0</td>\n",
       "      <td>0.057126</td>\n",
       "      <td>0.942370</td>\n",
       "      <td>0.050905</td>\n",
       "      <td>0.945809</td>\n",
       "      <td>...</td>\n",
       "      <td>0.121212</td>\n",
       "      <td>0.139436</td>\n",
       "      <td>0.882512</td>\n",
       "      <td>0.931468</td>\n",
       "      <td>0.065878</td>\n",
       "      <td>0.008753</td>\n",
       "      <td>0.888462</td>\n",
       "      <td>0.939367</td>\n",
       "      <td>20540.0</td>\n",
       "      <td>69170.0</td>\n",
       "    </tr>\n",
       "    <tr>\n",
       "      <th>0</th>\n",
       "      <td>12</td>\n",
       "      <td>1b4cff13c56c03e6773865fed27eca93</td>\n",
       "      <td>{\"cutoff\": \"quantile_0.25\", \"eval_fairness_gro...</td>\n",
       "      <td>42.812423</td>\n",
       "      <td>89710</td>\n",
       "      <td>1.0</td>\n",
       "      <td>0.114097</td>\n",
       "      <td>0.880777</td>\n",
       "      <td>0.070166</td>\n",
       "      <td>0.911284</td>\n",
       "      <td>...</td>\n",
       "      <td>NaN</td>\n",
       "      <td>NaN</td>\n",
       "      <td>NaN</td>\n",
       "      <td>NaN</td>\n",
       "      <td>NaN</td>\n",
       "      <td>NaN</td>\n",
       "      <td>NaN</td>\n",
       "      <td>NaN</td>\n",
       "      <td>NaN</td>\n",
       "      <td>NaN</td>\n",
       "    </tr>\n",
       "    <tr>\n",
       "      <th>0</th>\n",
       "      <td>12</td>\n",
       "      <td>1b4cff13c56c03e6773865fed27eca93</td>\n",
       "      <td>{\"cutoff\": \"quantile_0.25\", \"eval_fairness_gro...</td>\n",
       "      <td>42.812423</td>\n",
       "      <td>89710</td>\n",
       "      <td>1.0</td>\n",
       "      <td>0.114097</td>\n",
       "      <td>0.880777</td>\n",
       "      <td>0.070166</td>\n",
       "      <td>0.911284</td>\n",
       "      <td>...</td>\n",
       "      <td>0.134828</td>\n",
       "      <td>0.159888</td>\n",
       "      <td>0.704821</td>\n",
       "      <td>0.765617</td>\n",
       "      <td>0.157095</td>\n",
       "      <td>0.042998</td>\n",
       "      <td>0.720740</td>\n",
       "      <td>0.790906</td>\n",
       "      <td>20540.0</td>\n",
       "      <td>69170.0</td>\n",
       "    </tr>\n",
       "  </tbody>\n",
       "</table>\n",
       "<p>4 rows × 50 columns</p>\n",
       "</div>"
      ],
      "text/plain": [
       "  run_no                       universe_id  \\\n",
       "0     12  1b4cff13c56c03e6773865fed27eca93   \n",
       "0     12  1b4cff13c56c03e6773865fed27eca93   \n",
       "0     12  1b4cff13c56c03e6773865fed27eca93   \n",
       "0     12  1b4cff13c56c03e6773865fed27eca93   \n",
       "\n",
       "                                   universe_settings  execution_time  \\\n",
       "0  {\"cutoff\": \"quantile_0.1\", \"eval_fairness_grou...       42.812423   \n",
       "0  {\"cutoff\": \"quantile_0.1\", \"eval_fairness_grou...       42.812423   \n",
       "0  {\"cutoff\": \"quantile_0.25\", \"eval_fairness_gro...       42.812423   \n",
       "0  {\"cutoff\": \"quantile_0.25\", \"eval_fairness_gro...       42.812423   \n",
       "\n",
       "   test_size_n  test_size_frac  fair_main_equalized_odds_difference  \\\n",
       "0        89710             1.0                             0.057126   \n",
       "0        89710             1.0                             0.057126   \n",
       "0        89710             1.0                             0.114097   \n",
       "0        89710             1.0                             0.114097   \n",
       "\n",
       "   fair_main_equalized_odds_ratio  fair_main_demographic_parity_difference  \\\n",
       "0                        0.942370                                 0.050905   \n",
       "0                        0.942370                                 0.050905   \n",
       "0                        0.880777                                 0.070166   \n",
       "0                        0.880777                                 0.070166   \n",
       "\n",
       "   fair_main_demographic_parity_ratio  ...  perf_grp_precision_0  \\\n",
       "0                            0.945809  ...                   NaN   \n",
       "0                            0.945809  ...              0.121212   \n",
       "0                            0.911284  ...                   NaN   \n",
       "0                            0.911284  ...              0.134828   \n",
       "\n",
       "   perf_grp_precision_1  perf_grp_false positive rate_0  \\\n",
       "0                   NaN                             NaN   \n",
       "0              0.139436                        0.882512   \n",
       "0                   NaN                             NaN   \n",
       "0              0.159888                        0.704821   \n",
       "\n",
       "   perf_grp_false positive rate_1  perf_grp_false negative rate_0  \\\n",
       "0                             NaN                             NaN   \n",
       "0                        0.931468                        0.065878   \n",
       "0                             NaN                             NaN   \n",
       "0                        0.765617                        0.157095   \n",
       "\n",
       "   perf_grp_false negative rate_1  perf_grp_selection rate_0  \\\n",
       "0                             NaN                        NaN   \n",
       "0                        0.008753                   0.888462   \n",
       "0                             NaN                        NaN   \n",
       "0                        0.042998                   0.720740   \n",
       "\n",
       "   perf_grp_selection rate_1  perf_grp_count_0  perf_grp_count_1  \n",
       "0                        NaN               NaN               NaN  \n",
       "0                   0.939367           20540.0           69170.0  \n",
       "0                        NaN               NaN               NaN  \n",
       "0                   0.790906           20540.0           69170.0  \n",
       "\n",
       "[4 rows x 50 columns]"
      ]
     },
     "execution_count": 79,
     "metadata": {},
     "output_type": "execute_result"
    }
   ],
   "source": [
    "final_output = universe_analysis.generate_final_output(\n",
    "    y_pred_prob=probs_test,\n",
    "    y_test=y_true,\n",
    "    org_test=org_test,\n",
    "    filter_data=filter_sub_universe_data,\n",
    "    cp_metrics_df=cp_metrics_df,\n",
    "    save=True,\n",
    ")\n",
    "final_output"
   ]
  },
  {
   "cell_type": "code",
   "execution_count": null,
   "id": "721ff514-cb11-46f8-b6fc-50392f74b5cb",
   "metadata": {
    "papermill": {
     "duration": 0.035733,
     "end_time": "2025-07-30T13:15:13.833995",
     "exception": false,
     "start_time": "2025-07-30T13:15:13.798262",
     "status": "completed"
    },
    "tags": []
   },
   "outputs": [],
   "source": []
  }
 ],
 "metadata": {
  "celltoolbar": "Tags",
  "kernelspec": {
   "display_name": "Python (CMA Fairness)",
   "language": "python",
   "name": "cma_fair_env"
  },
  "language_info": {
   "codemirror_mode": {
    "name": "ipython",
    "version": 3
   },
   "file_extension": ".py",
   "mimetype": "text/x-python",
   "name": "python",
   "nbconvert_exporter": "python",
   "pygments_lexer": "ipython3",
   "version": "3.10.12"
  },
  "papermill": {
   "default_parameters": {},
   "duration": 60.523571,
   "end_time": "2025-07-30T13:15:14.888542",
   "environment_variables": {},
   "exception": null,
   "input_path": "universe_analysis.ipynb",
   "output_path": "output/runs/12/notebooks/m_12-1b4cff13c56c03e6773865fed27eca93.ipynb",
   "parameters": {
    "output_dir": "output",
    "run_no": "12",
    "seed": "2023",
    "universe": "{\"cutoff\": [\"quantile_0.1\", \"quantile_0.25\"], \"eval_fairness_grouping\": [\"majority-minority\", \"nationality-all\"], \"exclude_features\": \"age\", \"exclude_subgroups\": \"drop-non-german\", \"model\": \"rf\", \"scale\": \"do-not-scale\", \"training_size\": \"25k\", \"training_year\": \"2012_14\"}",
    "universe_id": "1b4cff13c56c03e6773865fed27eca93"
   },
   "start_time": "2025-07-30T13:14:14.364971",
   "version": "2.6.0"
  }
 },
 "nbformat": 4,
 "nbformat_minor": 5
}