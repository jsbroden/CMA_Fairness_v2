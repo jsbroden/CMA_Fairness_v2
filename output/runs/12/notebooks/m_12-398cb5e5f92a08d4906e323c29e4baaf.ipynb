{
 "cells": [
  {
   "cell_type": "code",
   "execution_count": 1,
   "id": "f159f837-637b-42ba-96b5-ec9a68c44524",
   "metadata": {
    "execution": {
     "iopub.execute_input": "2025-07-30T13:47:04.416164Z",
     "iopub.status.busy": "2025-07-30T13:47:04.415655Z",
     "iopub.status.idle": "2025-07-30T13:47:04.425741Z",
     "shell.execute_reply": "2025-07-30T13:47:04.424880Z"
    },
    "papermill": {
     "duration": 0.022729,
     "end_time": "2025-07-30T13:47:04.427037",
     "exception": false,
     "start_time": "2025-07-30T13:47:04.404308",
     "status": "completed"
    },
    "tags": []
   },
   "outputs": [
    {
     "name": "stdout",
     "output_type": "stream",
     "text": [
      "/dss/dsshome1/0C/ra93lal2/cma/CMA_Fairness_v2\n"
     ]
    },
    {
     "name": "stderr",
     "output_type": "stream",
     "text": [
      "/dss/dsshome1/0C/ra93lal2/.local/share/virtualenvs/CMA_Fairness_v2-3j10GkSs/lib/python3.10/site-packages/IPython/core/magics/osm.py:393: UserWarning: This is now an optional IPython functionality, using bookmarks requires you to install the `pickleshare` library.\n",
      "  bkms = self.shell.db.get('bookmarks', {})\n",
      "/dss/dsshome1/0C/ra93lal2/.local/share/virtualenvs/CMA_Fairness_v2-3j10GkSs/lib/python3.10/site-packages/IPython/core/magics/osm.py:417: UserWarning: This is now an optional IPython functionality, setting dhist requires you to install the `pickleshare` library.\n",
      "  self.shell.db['dhist'] = compress_dhist(dhist)[-100:]\n"
     ]
    }
   ],
   "source": [
    "%cd ~/cma/CMA_Fairness_v2"
   ]
  },
  {
   "cell_type": "markdown",
   "id": "de2603b9",
   "metadata": {
    "papermill": {
     "duration": 0.009726,
     "end_time": "2025-07-30T13:47:04.447561",
     "exception": false,
     "start_time": "2025-07-30T13:47:04.437835",
     "status": "completed"
    },
    "tags": []
   },
   "source": [
    "The following cell holds the definition of our parameters, these values can be overriden by rendering the with e.g. the following command:\n",
    "\n",
    "papermill -p alpha 0.2 -p ratio 0.3 universe_analysis.ipynb output/test_run.ipynb"
   ]
  },
  {
   "cell_type": "code",
   "execution_count": 2,
   "id": "a80968a0-40bb-4fa9-85ef-2d5eefb01975",
   "metadata": {
    "execution": {
     "iopub.execute_input": "2025-07-30T13:47:04.468861Z",
     "iopub.status.busy": "2025-07-30T13:47:04.468249Z",
     "iopub.status.idle": "2025-07-30T13:47:04.473097Z",
     "shell.execute_reply": "2025-07-30T13:47:04.472014Z"
    },
    "papermill": {
     "duration": 0.017057,
     "end_time": "2025-07-30T13:47:04.474350",
     "exception": false,
     "start_time": "2025-07-30T13:47:04.457293",
     "status": "completed"
    },
    "tags": []
   },
   "outputs": [
    {
     "name": "stdout",
     "output_type": "stream",
     "text": [
      "Current working directory: /dss/dsshome1/0C/ra93lal2/cma/CMA_Fairness_v2\n"
     ]
    }
   ],
   "source": [
    "import os\n",
    "print(\"Current working directory:\", os.getcwd())"
   ]
  },
  {
   "cell_type": "code",
   "execution_count": 3,
   "id": "2dce4c03",
   "metadata": {
    "execution": {
     "iopub.execute_input": "2025-07-30T13:47:04.496646Z",
     "iopub.status.busy": "2025-07-30T13:47:04.495881Z",
     "iopub.status.idle": "2025-07-30T13:47:04.500993Z",
     "shell.execute_reply": "2025-07-30T13:47:04.500078Z"
    },
    "papermill": {
     "duration": 0.016907,
     "end_time": "2025-07-30T13:47:04.502253",
     "exception": false,
     "start_time": "2025-07-30T13:47:04.485346",
     "status": "completed"
    },
    "tags": [
     "parameters"
    ]
   },
   "outputs": [],
   "source": [
    "run_no = 0\n",
    "universe_id = \"test\"\n",
    "universe = {\n",
    "    \"training_size\": \"25k\", # \"25k\", \"5k\", \"1k\"\n",
    "    \"training_year\": \"2014\", # \"2014\", \"2012_14\", \"2010_14\"\n",
    "    \"scale\": \"scale\", # \"scale\", \"do-not-scale\",\n",
    "    #\"stratify_split\": \"target\", # \"none\", \"target\", \"protected-attribute\", \"both\",\n",
    "    \"model\": \"elasticnet\", # \"logreg\", \"penalized_logreg\", \"rf\", \"gbm\", \"elasticnet\"\n",
    "    \"cutoff\": [\"quantile_0.15\", \"quantile_0.30\"],\n",
    "    \"exclude_features\": \"age\", # \"none\", \"nationality\", \"sex\", \"nationality-sex\", \"age\"\n",
    "    \"exclude_subgroups\": \"keep-all\", # \"keep-all\", \"drop-non-german\"\n",
    "    \"eval_fairness_grouping\": [\"majority-minority\", \"nationality-all\"]\n",
    "}\n",
    "\n",
    "output_dir=\"./output\"\n",
    "seed=0"
   ]
  },
  {
   "cell_type": "code",
   "execution_count": 4,
   "id": "16a2eb7b",
   "metadata": {
    "execution": {
     "iopub.execute_input": "2025-07-30T13:47:04.524847Z",
     "iopub.status.busy": "2025-07-30T13:47:04.524264Z",
     "iopub.status.idle": "2025-07-30T13:47:04.530109Z",
     "shell.execute_reply": "2025-07-30T13:47:04.529392Z"
    },
    "papermill": {
     "duration": 0.018095,
     "end_time": "2025-07-30T13:47:04.531530",
     "exception": false,
     "start_time": "2025-07-30T13:47:04.513435",
     "status": "completed"
    },
    "tags": [
     "injected-parameters"
    ]
   },
   "outputs": [],
   "source": [
    "# Parameters\n",
    "universe_id = \"398cb5e5f92a08d4906e323c29e4baaf\"\n",
    "run_no = \"12\"\n",
    "universe = \"{\\\"cutoff\\\": [\\\"quantile_0.1\\\", \\\"quantile_0.25\\\"], \\\"eval_fairness_grouping\\\": [\\\"majority-minority\\\", \\\"nationality-all\\\"], \\\"exclude_features\\\": \\\"nationality\\\", \\\"exclude_subgroups\\\": \\\"drop-non-german\\\", \\\"model\\\": \\\"logreg\\\", \\\"scale\\\": \\\"do-not-scale\\\", \\\"training_size\\\": \\\"5k\\\", \\\"training_year\\\": \\\"2014\\\"}\"\n",
    "output_dir = \"output\"\n",
    "seed = \"2023\"\n"
   ]
  },
  {
   "cell_type": "code",
   "execution_count": 5,
   "id": "1650acaf",
   "metadata": {
    "execution": {
     "iopub.execute_input": "2025-07-30T13:47:04.571285Z",
     "iopub.status.busy": "2025-07-30T13:47:04.570913Z",
     "iopub.status.idle": "2025-07-30T13:47:04.575434Z",
     "shell.execute_reply": "2025-07-30T13:47:04.574718Z"
    },
    "papermill": {
     "duration": 0.026698,
     "end_time": "2025-07-30T13:47:04.576856",
     "exception": false,
     "start_time": "2025-07-30T13:47:04.550158",
     "status": "completed"
    },
    "tags": []
   },
   "outputs": [],
   "source": [
    "import json\n",
    "# Parse universe into dict if it is passed as a string\n",
    "if isinstance(universe, str):\n",
    "    universe = json.loads(universe)"
   ]
  },
  {
   "cell_type": "code",
   "execution_count": 6,
   "id": "16620c48",
   "metadata": {
    "execution": {
     "iopub.execute_input": "2025-07-30T13:47:04.599194Z",
     "iopub.status.busy": "2025-07-30T13:47:04.598884Z",
     "iopub.status.idle": "2025-07-30T13:47:04.627256Z",
     "shell.execute_reply": "2025-07-30T13:47:04.626587Z"
    },
    "papermill": {
     "duration": 0.04036,
     "end_time": "2025-07-30T13:47:04.628587",
     "exception": false,
     "start_time": "2025-07-30T13:47:04.588227",
     "status": "completed"
    },
    "tags": []
   },
   "outputs": [],
   "source": [
    "# Auto-reload the custom package\n",
    "%load_ext autoreload\n",
    "%autoreload 1\n",
    "%aimport fairness_multiverse"
   ]
  },
  {
   "cell_type": "code",
   "execution_count": 7,
   "id": "01c5c9f3",
   "metadata": {
    "execution": {
     "iopub.execute_input": "2025-07-30T13:47:04.663578Z",
     "iopub.status.busy": "2025-07-30T13:47:04.663166Z",
     "iopub.status.idle": "2025-07-30T13:47:06.638641Z",
     "shell.execute_reply": "2025-07-30T13:47:06.637639Z"
    },
    "papermill": {
     "duration": 1.999386,
     "end_time": "2025-07-30T13:47:06.640566",
     "exception": false,
     "start_time": "2025-07-30T13:47:04.641180",
     "status": "completed"
    },
    "tags": []
   },
   "outputs": [],
   "source": [
    "from fairness_multiverse.universe import UniverseAnalysis\n",
    "\n",
    "universe_analysis = UniverseAnalysis(\n",
    "    run_no = run_no,\n",
    "    universe_id = universe_id,\n",
    "    universe = universe,\n",
    "    output_dir=output_dir,\n",
    ")"
   ]
  },
  {
   "cell_type": "code",
   "execution_count": 8,
   "id": "106241f5",
   "metadata": {
    "execution": {
     "iopub.execute_input": "2025-07-30T13:47:06.682904Z",
     "iopub.status.busy": "2025-07-30T13:47:06.682245Z",
     "iopub.status.idle": "2025-07-30T13:47:06.688565Z",
     "shell.execute_reply": "2025-07-30T13:47:06.687523Z"
    },
    "papermill": {
     "duration": 0.027932,
     "end_time": "2025-07-30T13:47:06.689995",
     "exception": false,
     "start_time": "2025-07-30T13:47:06.662063",
     "status": "completed"
    },
    "tags": []
   },
   "outputs": [
    {
     "name": "stdout",
     "output_type": "stream",
     "text": [
      "Using Seed: 2023\n"
     ]
    }
   ],
   "source": [
    "import numpy as np\n",
    "parsed_seed = int(seed)\n",
    "np.random.seed(parsed_seed)\n",
    "print(f\"Using Seed: {parsed_seed}\")"
   ]
  },
  {
   "cell_type": "markdown",
   "id": "e0ebdc57",
   "metadata": {
    "papermill": {
     "duration": 0.018714,
     "end_time": "2025-07-30T13:47:06.728367",
     "exception": false,
     "start_time": "2025-07-30T13:47:06.709653",
     "status": "completed"
    },
    "tags": []
   },
   "source": [
    "# Loading Data"
   ]
  },
  {
   "cell_type": "markdown",
   "id": "681925a3",
   "metadata": {
    "papermill": {
     "duration": 0.019179,
     "end_time": "2025-07-30T13:47:06.766319",
     "exception": false,
     "start_time": "2025-07-30T13:47:06.747140",
     "status": "completed"
    },
    "tags": []
   },
   "source": [
    "Load siab_train, siab_test, siab_calib and/or \n",
    "load siab_train_features, siab_train_labels"
   ]
  },
  {
   "cell_type": "code",
   "execution_count": 9,
   "id": "f0496b8a",
   "metadata": {
    "execution": {
     "iopub.execute_input": "2025-07-30T13:47:06.805535Z",
     "iopub.status.busy": "2025-07-30T13:47:06.804960Z",
     "iopub.status.idle": "2025-07-30T13:47:19.928736Z",
     "shell.execute_reply": "2025-07-30T13:47:19.927325Z"
    },
    "papermill": {
     "duration": 13.145105,
     "end_time": "2025-07-30T13:47:19.930361",
     "exception": false,
     "start_time": "2025-07-30T13:47:06.785256",
     "status": "completed"
    },
    "tags": []
   },
   "outputs": [
    {
     "name": "stdout",
     "output_type": "stream",
     "text": [
      "Loading SIAB data from cache: data/siab_cached.csv.gz\n"
     ]
    },
    {
     "name": "stdout",
     "output_type": "stream",
     "text": [
      "(643690, 164)\n"
     ]
    }
   ],
   "source": [
    "from pathlib import Path\n",
    "import pandas as pd\n",
    "\n",
    "# File paths\n",
    "raw_file = Path(\"data/raw/siab.csv\")\n",
    "cache_file = Path(\"data/siab_cached.csv.gz\")\n",
    "\n",
    "# Ensure cache directory exists\n",
    "cache_file.parent.mkdir(parents=True, exist_ok=True)\n",
    "\n",
    "# Load with simple caching\n",
    "if cache_file.exists():\n",
    "    print(f\"Loading SIAB data from cache: {cache_file}\")\n",
    "    siab = pd.read_csv(cache_file, compression='gzip')\n",
    "else:\n",
    "    print(f\"Cache not found. Reading raw SIAB data: {raw_file}\")\n",
    "    siab = pd.read_csv(raw_file)\n",
    "    siab.to_csv(cache_file, index=False, compression='gzip')\n",
    "    print(f\"Cached SIAB data to: {cache_file}\")\n",
    "\n",
    "# Now use `siab` DataFrame as needed\n",
    "print(siab.shape)"
   ]
  },
  {
   "cell_type": "code",
   "execution_count": 10,
   "id": "db0ca512-5f53-4dba-abdb-a2888bca41ba",
   "metadata": {
    "execution": {
     "iopub.execute_input": "2025-07-30T13:47:19.956904Z",
     "iopub.status.busy": "2025-07-30T13:47:19.956525Z",
     "iopub.status.idle": "2025-07-30T13:47:19.961077Z",
     "shell.execute_reply": "2025-07-30T13:47:19.960296Z"
    },
    "papermill": {
     "duration": 0.017562,
     "end_time": "2025-07-30T13:47:19.962349",
     "exception": false,
     "start_time": "2025-07-30T13:47:19.944787",
     "status": "completed"
    },
    "tags": []
   },
   "outputs": [],
   "source": [
    "#siab"
   ]
  },
  {
   "cell_type": "code",
   "execution_count": 11,
   "id": "a0edb063",
   "metadata": {
    "execution": {
     "iopub.execute_input": "2025-07-30T13:47:19.985860Z",
     "iopub.status.busy": "2025-07-30T13:47:19.985411Z",
     "iopub.status.idle": "2025-07-30T13:47:19.993890Z",
     "shell.execute_reply": "2025-07-30T13:47:19.993066Z"
    },
    "papermill": {
     "duration": 0.022118,
     "end_time": "2025-07-30T13:47:19.995743",
     "exception": false,
     "start_time": "2025-07-30T13:47:19.973625",
     "status": "completed"
    },
    "tags": []
   },
   "outputs": [],
   "source": [
    "#import pandas as pd\n",
    "#\n",
    "#X_train = pd.read_csv(\"./data/X_train.csv\")\n",
    "#y_train = pd.read_csv(\"./data/y_train.csv\")"
   ]
  },
  {
   "cell_type": "code",
   "execution_count": 12,
   "id": "63d08085",
   "metadata": {
    "execution": {
     "iopub.execute_input": "2025-07-30T13:47:20.027750Z",
     "iopub.status.busy": "2025-07-30T13:47:20.027235Z",
     "iopub.status.idle": "2025-07-30T13:47:20.032426Z",
     "shell.execute_reply": "2025-07-30T13:47:20.031372Z"
    },
    "papermill": {
     "duration": 0.026145,
     "end_time": "2025-07-30T13:47:20.034116",
     "exception": false,
     "start_time": "2025-07-30T13:47:20.007971",
     "status": "completed"
    },
    "tags": []
   },
   "outputs": [],
   "source": [
    "#X_test = pd.read_csv(\"./data/X_test.csv\")\n",
    "#y_true = pd.read_csv(\"./data/y_test.csv\")"
   ]
  },
  {
   "cell_type": "code",
   "execution_count": 13,
   "id": "98a8d0fa-1d3d-4ed8-bb2c-281470e24add",
   "metadata": {
    "execution": {
     "iopub.execute_input": "2025-07-30T13:47:20.108501Z",
     "iopub.status.busy": "2025-07-30T13:47:20.108056Z",
     "iopub.status.idle": "2025-07-30T13:47:20.112482Z",
     "shell.execute_reply": "2025-07-30T13:47:20.111642Z"
    },
    "papermill": {
     "duration": 0.017924,
     "end_time": "2025-07-30T13:47:20.113882",
     "exception": false,
     "start_time": "2025-07-30T13:47:20.095958",
     "status": "completed"
    },
    "tags": []
   },
   "outputs": [],
   "source": [
    "# Calibration data for conformal\n",
    "#X_calib = pd.read_csv(\"./data/X_calib.csv\")\n",
    "#y_calib = pd.read_csv(\"./data/y_calib.csv\")"
   ]
  },
  {
   "cell_type": "markdown",
   "id": "997051c5-15bd-4b69-9786-c3001a3ce484",
   "metadata": {
    "papermill": {
     "duration": 0.030037,
     "end_time": "2025-07-30T13:47:20.169633",
     "exception": false,
     "start_time": "2025-07-30T13:47:20.139596",
     "status": "completed"
    },
    "tags": []
   },
   "source": [
    "# Splitting Data and Setting Training Data Size"
   ]
  },
  {
   "cell_type": "code",
   "execution_count": 14,
   "id": "e993b61f-042d-41a6-8c81-f55681f86335",
   "metadata": {
    "execution": {
     "iopub.execute_input": "2025-07-30T13:47:20.227942Z",
     "iopub.status.busy": "2025-07-30T13:47:20.227416Z",
     "iopub.status.idle": "2025-07-30T13:47:20.241293Z",
     "shell.execute_reply": "2025-07-30T13:47:20.240323Z"
    },
    "papermill": {
     "duration": 0.040984,
     "end_time": "2025-07-30T13:47:20.243050",
     "exception": false,
     "start_time": "2025-07-30T13:47:20.202066",
     "status": "completed"
    },
    "tags": []
   },
   "outputs": [],
   "source": [
    "def sample_by_year_size(df,\n",
    "                        training_year: str,\n",
    "                        training_size: str,\n",
    "                        random_state: int = 42):\n",
    "    # --- parse training_year into a list of int years ---\n",
    "    if \"_\" in training_year:\n",
    "        start_str, end_str = training_year.split(\"_\", 1)\n",
    "        start = int(start_str)\n",
    "        end   = int(end_str) if len(end_str) == 4 else (int(end_str) + (start // 100)*100)\n",
    "        years = list(range(start, end + 1))\n",
    "    else:\n",
    "        years = [int(training_year)]\n",
    "\n",
    "    df = df[df[\"year\"].isin(years)].reset_index(drop=True)\n",
    "\n",
    "    # --- map training_size to total number of samples ---\n",
    "    total_map = {\"25k\": 25_000, \"5k\": 5_000, \"1k\": 1_000}\n",
    "    if training_size not in total_map:\n",
    "        return df  # e.g. \"all\"\n",
    "\n",
    "    total_samples = total_map[training_size]\n",
    "    n_years       = len(years)\n",
    "    base          = total_samples // n_years\n",
    "    remainder     = total_samples % n_years\n",
    "\n",
    "    # --- build a dict: year -> how many to sample ---\n",
    "    # give +1 to the first `remainder` years in ascending order\n",
    "    quotas = {\n",
    "        year: base + (1 if idx < remainder else 0)\n",
    "        for idx, year in enumerate(sorted(years))\n",
    "    }\n",
    "\n",
    "    # --- sample per‐year according to the quota dict ---\n",
    "    sampled = (\n",
    "        df\n",
    "        .groupby(\"year\", group_keys=False)\n",
    "        .apply(lambda grp: grp.sample(\n",
    "            n=min(len(grp), quotas[grp.name]),\n",
    "            random_state=random_state))\n",
    "        .reset_index(drop=True)\n",
    "    )\n",
    "\n",
    "    return sampled"
   ]
  },
  {
   "cell_type": "code",
   "execution_count": 15,
   "id": "c0ccd338-0e02-41f3-a09d-f56f9266e3fb",
   "metadata": {
    "execution": {
     "iopub.execute_input": "2025-07-30T13:47:20.285253Z",
     "iopub.status.busy": "2025-07-30T13:47:20.284718Z",
     "iopub.status.idle": "2025-07-30T13:47:20.297176Z",
     "shell.execute_reply": "2025-07-30T13:47:20.296113Z"
    },
    "papermill": {
     "duration": 0.03468,
     "end_time": "2025-07-30T13:47:20.298609",
     "exception": false,
     "start_time": "2025-07-30T13:47:20.263929",
     "status": "completed"
    },
    "tags": []
   },
   "outputs": [
    {
     "data": {
      "text/plain": [
       "'5k'"
      ]
     },
     "execution_count": 15,
     "metadata": {},
     "output_type": "execute_result"
    }
   ],
   "source": [
    "universe[\"training_size\"]"
   ]
  },
  {
   "cell_type": "code",
   "execution_count": 16,
   "id": "ca707fd7-8047-4acd-bfa5-66248fbbf8e6",
   "metadata": {
    "execution": {
     "iopub.execute_input": "2025-07-30T13:47:20.323739Z",
     "iopub.status.busy": "2025-07-30T13:47:20.323104Z",
     "iopub.status.idle": "2025-07-30T13:47:20.331090Z",
     "shell.execute_reply": "2025-07-30T13:47:20.330210Z"
    },
    "papermill": {
     "duration": 0.021981,
     "end_time": "2025-07-30T13:47:20.332743",
     "exception": false,
     "start_time": "2025-07-30T13:47:20.310762",
     "status": "completed"
    },
    "tags": []
   },
   "outputs": [
    {
     "data": {
      "text/plain": [
       "'2014'"
      ]
     },
     "execution_count": 16,
     "metadata": {},
     "output_type": "execute_result"
    }
   ],
   "source": [
    "universe[\"training_year\"]"
   ]
  },
  {
   "cell_type": "code",
   "execution_count": 17,
   "id": "aea9c6ef-6f46-42c8-85eb-5a62025c1508",
   "metadata": {
    "execution": {
     "iopub.execute_input": "2025-07-30T13:47:20.380282Z",
     "iopub.status.busy": "2025-07-30T13:47:20.379885Z",
     "iopub.status.idle": "2025-07-30T13:47:20.599899Z",
     "shell.execute_reply": "2025-07-30T13:47:20.598899Z"
    },
    "papermill": {
     "duration": 0.244997,
     "end_time": "2025-07-30T13:47:20.601599",
     "exception": false,
     "start_time": "2025-07-30T13:47:20.356602",
     "status": "completed"
    },
    "tags": []
   },
   "outputs": [],
   "source": [
    "siab_train = sample_by_year_size(siab,\n",
    "                               training_year=universe[\"training_year\"],\n",
    "                               training_size=universe[\"training_size\"])"
   ]
  },
  {
   "cell_type": "code",
   "execution_count": 18,
   "id": "8d3afb32-789d-442c-8d5d-9f5aa8dd2eed",
   "metadata": {
    "execution": {
     "iopub.execute_input": "2025-07-30T13:47:20.643811Z",
     "iopub.status.busy": "2025-07-30T13:47:20.643471Z",
     "iopub.status.idle": "2025-07-30T13:47:20.649759Z",
     "shell.execute_reply": "2025-07-30T13:47:20.648864Z"
    },
    "papermill": {
     "duration": 0.029231,
     "end_time": "2025-07-30T13:47:20.651038",
     "exception": false,
     "start_time": "2025-07-30T13:47:20.621807",
     "status": "completed"
    },
    "tags": []
   },
   "outputs": [
    {
     "data": {
      "text/plain": [
       "(5000, 164)"
      ]
     },
     "execution_count": 18,
     "metadata": {},
     "output_type": "execute_result"
    }
   ],
   "source": [
    "siab_train.shape"
   ]
  },
  {
   "cell_type": "code",
   "execution_count": 19,
   "id": "d582db68-1a4c-47fb-84fc-08518dc1975a",
   "metadata": {
    "execution": {
     "iopub.execute_input": "2025-07-30T13:47:20.676472Z",
     "iopub.status.busy": "2025-07-30T13:47:20.675821Z",
     "iopub.status.idle": "2025-07-30T13:47:20.685476Z",
     "shell.execute_reply": "2025-07-30T13:47:20.684753Z"
    },
    "papermill": {
     "duration": 0.024251,
     "end_time": "2025-07-30T13:47:20.687105",
     "exception": false,
     "start_time": "2025-07-30T13:47:20.662854",
     "status": "completed"
    },
    "tags": []
   },
   "outputs": [
    {
     "data": {
      "text/plain": [
       "year\n",
       "2014    5000\n",
       "dtype: int64"
      ]
     },
     "metadata": {},
     "output_type": "display_data"
    }
   ],
   "source": [
    "display(siab_train.groupby(\"year\").size())"
   ]
  },
  {
   "cell_type": "code",
   "execution_count": 20,
   "id": "a561edb4-d032-42cb-8256-22eac1111c64",
   "metadata": {
    "execution": {
     "iopub.execute_input": "2025-07-30T13:47:20.716898Z",
     "iopub.status.busy": "2025-07-30T13:47:20.716547Z",
     "iopub.status.idle": "2025-07-30T13:47:20.964831Z",
     "shell.execute_reply": "2025-07-30T13:47:20.963789Z"
    },
    "papermill": {
     "duration": 0.262735,
     "end_time": "2025-07-30T13:47:20.966828",
     "exception": false,
     "start_time": "2025-07-30T13:47:20.704093",
     "status": "completed"
    },
    "tags": []
   },
   "outputs": [],
   "source": [
    "#siab_train = siab_s[siab_s.year < 2015]\n",
    "siab_calib = siab[siab.year == 2015]\n",
    "siab_test = siab[siab.year == 2016]"
   ]
  },
  {
   "cell_type": "code",
   "execution_count": 21,
   "id": "472de16f-c3db-4916-846b-1f0de9cf1746",
   "metadata": {
    "execution": {
     "iopub.execute_input": "2025-07-30T13:47:21.014693Z",
     "iopub.status.busy": "2025-07-30T13:47:21.014229Z",
     "iopub.status.idle": "2025-07-30T13:47:21.022131Z",
     "shell.execute_reply": "2025-07-30T13:47:21.021220Z"
    },
    "papermill": {
     "duration": 0.032821,
     "end_time": "2025-07-30T13:47:21.023800",
     "exception": false,
     "start_time": "2025-07-30T13:47:20.990979",
     "status": "completed"
    },
    "tags": []
   },
   "outputs": [],
   "source": [
    "X_train = siab_train.iloc[:,4:164]\n",
    "y_train = siab_train.iloc[:, [3]]"
   ]
  },
  {
   "cell_type": "code",
   "execution_count": 22,
   "id": "828c96af-f43a-4ed6-ba47-8ac73a47d56c",
   "metadata": {
    "execution": {
     "iopub.execute_input": "2025-07-30T13:47:21.071311Z",
     "iopub.status.busy": "2025-07-30T13:47:21.070655Z",
     "iopub.status.idle": "2025-07-30T13:47:21.122212Z",
     "shell.execute_reply": "2025-07-30T13:47:21.121176Z"
    },
    "papermill": {
     "duration": 0.076789,
     "end_time": "2025-07-30T13:47:21.123987",
     "exception": false,
     "start_time": "2025-07-30T13:47:21.047198",
     "status": "completed"
    },
    "tags": []
   },
   "outputs": [],
   "source": [
    "X_calib = siab_calib.iloc[:,4:164]\n",
    "y_calib = siab_calib.iloc[:, [3]]"
   ]
  },
  {
   "cell_type": "code",
   "execution_count": 23,
   "id": "c34be9c3-6bd6-476e-acd3-845840e303be",
   "metadata": {
    "execution": {
     "iopub.execute_input": "2025-07-30T13:47:21.173065Z",
     "iopub.status.busy": "2025-07-30T13:47:21.172378Z",
     "iopub.status.idle": "2025-07-30T13:47:21.243286Z",
     "shell.execute_reply": "2025-07-30T13:47:21.242309Z"
    },
    "papermill": {
     "duration": 0.097079,
     "end_time": "2025-07-30T13:47:21.244954",
     "exception": false,
     "start_time": "2025-07-30T13:47:21.147875",
     "status": "completed"
    },
    "tags": []
   },
   "outputs": [],
   "source": [
    "X_test = siab_test.iloc[:,4:164]\n",
    "y_true = siab_test.iloc[:, [3]]"
   ]
  },
  {
   "cell_type": "markdown",
   "id": "9901737e-04df-44f0-9100-f5ad144ed040",
   "metadata": {
    "papermill": {
     "duration": 0.022287,
     "end_time": "2025-07-30T13:47:21.291117",
     "exception": false,
     "start_time": "2025-07-30T13:47:21.268830",
     "status": "completed"
    },
    "tags": []
   },
   "source": [
    "# Splitting Data and Setting Training Data Size OLD VERSION"
   ]
  },
  {
   "cell_type": "code",
   "execution_count": 24,
   "id": "acbc8f7d-8fc8-4e86-8c59-5dcb0f58384b",
   "metadata": {
    "execution": {
     "iopub.execute_input": "2025-07-30T13:47:21.337906Z",
     "iopub.status.busy": "2025-07-30T13:47:21.337298Z",
     "iopub.status.idle": "2025-07-30T13:47:21.342683Z",
     "shell.execute_reply": "2025-07-30T13:47:21.341794Z"
    },
    "papermill": {
     "duration": 0.031704,
     "end_time": "2025-07-30T13:47:21.344506",
     "exception": false,
     "start_time": "2025-07-30T13:47:21.312802",
     "status": "completed"
    },
    "tags": []
   },
   "outputs": [],
   "source": [
    "#def sample_by_year(df, training_size, random_state=42):\n",
    "#    if training_size == \"2014\":\n",
    "#        return df[df[\"year\"] == 2014].reset_index(drop=True)\n",
    "#    \n",
    "#    size_map = {\n",
    "#        \"25k\": 5000,\n",
    "#        \"5k\": 1000,\n",
    "#        \"1k\": 200\n",
    "#    }\n",
    "#\n",
    "#    if training_size not in size_map:\n",
    "#        return df.reset_index(drop=True)  # use all data\n",
    "#\n",
    "#    n_per_year = size_map[training_size]\n",
    "#    grouped = df.groupby(\"year\")\n",
    "#    sampled = grouped.apply(lambda x: x.sample(n=min(n_per_year, len(x)), random_state=random_state))\n",
    "#    return sampled.reset_index(drop=True)"
   ]
  },
  {
   "cell_type": "code",
   "execution_count": 25,
   "id": "6d931f52-beaf-43ff-9e78-9d44a448d54e",
   "metadata": {
    "execution": {
     "iopub.execute_input": "2025-07-30T13:47:21.391484Z",
     "iopub.status.busy": "2025-07-30T13:47:21.391074Z",
     "iopub.status.idle": "2025-07-30T13:47:21.395741Z",
     "shell.execute_reply": "2025-07-30T13:47:21.394802Z"
    },
    "papermill": {
     "duration": 0.030254,
     "end_time": "2025-07-30T13:47:21.397400",
     "exception": false,
     "start_time": "2025-07-30T13:47:21.367146",
     "status": "completed"
    },
    "tags": []
   },
   "outputs": [],
   "source": [
    "#siab_s = sample_by_year(siab, universe[\"training_size\"])"
   ]
  },
  {
   "cell_type": "code",
   "execution_count": 26,
   "id": "5db0a40e-a4e2-4920-be85-b12ae061d70d",
   "metadata": {
    "execution": {
     "iopub.execute_input": "2025-07-30T13:47:21.445286Z",
     "iopub.status.busy": "2025-07-30T13:47:21.444747Z",
     "iopub.status.idle": "2025-07-30T13:47:21.449984Z",
     "shell.execute_reply": "2025-07-30T13:47:21.449041Z"
    },
    "papermill": {
     "duration": 0.030591,
     "end_time": "2025-07-30T13:47:21.451742",
     "exception": false,
     "start_time": "2025-07-30T13:47:21.421151",
     "status": "completed"
    },
    "tags": []
   },
   "outputs": [],
   "source": [
    "#display(siab_s.groupby(\"year\").size())"
   ]
  },
  {
   "cell_type": "code",
   "execution_count": 27,
   "id": "e6c733c5",
   "metadata": {
    "execution": {
     "iopub.execute_input": "2025-07-30T13:47:21.502859Z",
     "iopub.status.busy": "2025-07-30T13:47:21.502393Z",
     "iopub.status.idle": "2025-07-30T13:47:21.605027Z",
     "shell.execute_reply": "2025-07-30T13:47:21.604085Z"
    },
    "papermill": {
     "duration": 0.130111,
     "end_time": "2025-07-30T13:47:21.607055",
     "exception": false,
     "start_time": "2025-07-30T13:47:21.476944",
     "status": "completed"
    },
    "tags": []
   },
   "outputs": [],
   "source": [
    "# Auxiliary data needed downstream in the pipeline\n",
    "\n",
    "org_train = X_train.copy()\n",
    "org_test = X_test.copy()\n",
    "org_calib = X_calib.copy()"
   ]
  },
  {
   "cell_type": "code",
   "execution_count": 28,
   "id": "1466abac-c6da-4492-a62f-4240ae3783af",
   "metadata": {
    "execution": {
     "iopub.execute_input": "2025-07-30T13:47:21.659956Z",
     "iopub.status.busy": "2025-07-30T13:47:21.659102Z",
     "iopub.status.idle": "2025-07-30T13:47:21.665233Z",
     "shell.execute_reply": "2025-07-30T13:47:21.664220Z"
    },
    "papermill": {
     "duration": 0.033387,
     "end_time": "2025-07-30T13:47:21.667139",
     "exception": false,
     "start_time": "2025-07-30T13:47:21.633752",
     "status": "completed"
    },
    "tags": []
   },
   "outputs": [],
   "source": [
    "# put in other script?\n",
    "# Group sizes\n",
    "\n",
    "#def calculate_percentages(df, df_name):\n",
    "#    total_entries = len(df)\n",
    "#\n",
    "#    female_pct = (df['frau1'] == 1).mean() * 100\n",
    "#    non_german_pct = ((df['maxdeutsch1'] == 0) & (df['maxdeutsch.Missing.'] == 0)).mean() * 100\n",
    "#    non_german_male_pct = ((df['frau1'] == 0) & (df['maxdeutsch1'] == 0) & (df['maxdeutsch.Missing.'] == 0)).mean() * 100\n",
    "#    non_german_female_pct = ((df['frau1'] == 1) & (df['maxdeutsch1'] == 0) & (df['maxdeutsch.Missing.'] == 0)).mean() * 100\n",
    "#\n",
    "#    print(f\"--- {df_name} ---\")\n",
    "#    print(f\"Female: {female_pct:.2f}%\")\n",
    "#    print(f\"Non-German: {non_german_pct:.2f}%\")\n",
    "#    print(f\"Non-German Male: {non_german_male_pct:.2f}%\")\n",
    "#    print(f\"Non-German Female: {non_german_female_pct:.2f}%\\n\")\n",
    "#\n",
    "## Calculate for each DataFrame\n",
    "#calculate_percentages(siab_calib, \"siab_calib\")\n",
    "#calculate_percentages(siab_test, \"siab_test\")\n",
    "#calculate_percentages(siab_train, \"siab_train\")"
   ]
  },
  {
   "cell_type": "markdown",
   "id": "0a4a1b33",
   "metadata": {
    "papermill": {
     "duration": 0.023164,
     "end_time": "2025-07-30T13:47:21.714864",
     "exception": false,
     "start_time": "2025-07-30T13:47:21.691700",
     "status": "completed"
    },
    "tags": []
   },
   "source": [
    "# Preprocessing Data"
   ]
  },
  {
   "cell_type": "code",
   "execution_count": 29,
   "id": "ca879031",
   "metadata": {
    "execution": {
     "iopub.execute_input": "2025-07-30T13:47:21.763864Z",
     "iopub.status.busy": "2025-07-30T13:47:21.763350Z",
     "iopub.status.idle": "2025-07-30T13:47:21.770060Z",
     "shell.execute_reply": "2025-07-30T13:47:21.768949Z"
    },
    "papermill": {
     "duration": 0.033892,
     "end_time": "2025-07-30T13:47:21.771864",
     "exception": false,
     "start_time": "2025-07-30T13:47:21.737972",
     "status": "completed"
    },
    "tags": []
   },
   "outputs": [],
   "source": [
    "# EXCLUDE PROTECTED FEATURES\n",
    "# ----------------------\n",
    "# \"exclude_features\": \"none\", # \"nationality\", \"sex\", \"nationality-sex\"\n",
    "\n",
    "excluded_features = universe[\"exclude_features\"].split(\"-\") # split, e.g.: \"nationality-sex\" -> [\"nationality\", \"sex\"]\n",
    "excluded_features_dictionary = {\n",
    "    \"nationality\": [\"maxdeutsch1\", \"maxdeutsch.Missing.\"],\n",
    "    \"sex\": [\"frau1\"],\n",
    "    \"age\": [\"age\"],\n",
    "}\n"
   ]
  },
  {
   "cell_type": "code",
   "execution_count": 30,
   "id": "b745ac60",
   "metadata": {
    "execution": {
     "iopub.execute_input": "2025-07-30T13:47:21.820695Z",
     "iopub.status.busy": "2025-07-30T13:47:21.819920Z",
     "iopub.status.idle": "2025-07-30T13:47:21.827000Z",
     "shell.execute_reply": "2025-07-30T13:47:21.825984Z"
    },
    "papermill": {
     "duration": 0.033287,
     "end_time": "2025-07-30T13:47:21.828728",
     "exception": false,
     "start_time": "2025-07-30T13:47:21.795441",
     "status": "completed"
    },
    "tags": []
   },
   "outputs": [],
   "source": [
    "# Code nice names to column names\n",
    "\n",
    "excluded_features_columns = [\n",
    "    excluded_features_dictionary[f] for f in excluded_features if len(f) > 0 and f != \"none\"\n",
    "]"
   ]
  },
  {
   "cell_type": "code",
   "execution_count": 31,
   "id": "f84f73a2",
   "metadata": {
    "execution": {
     "iopub.execute_input": "2025-07-30T13:47:21.877136Z",
     "iopub.status.busy": "2025-07-30T13:47:21.876456Z",
     "iopub.status.idle": "2025-07-30T13:47:21.888372Z",
     "shell.execute_reply": "2025-07-30T13:47:21.887337Z"
    },
    "papermill": {
     "duration": 0.039694,
     "end_time": "2025-07-30T13:47:21.890216",
     "exception": false,
     "start_time": "2025-07-30T13:47:21.850522",
     "status": "completed"
    },
    "tags": []
   },
   "outputs": [],
   "source": [
    "from utils import flatten_once\n",
    "\n",
    "excluded_features_columns = flatten_once(excluded_features_columns)"
   ]
  },
  {
   "cell_type": "code",
   "execution_count": 32,
   "id": "884dea22",
   "metadata": {
    "execution": {
     "iopub.execute_input": "2025-07-30T13:47:21.929650Z",
     "iopub.status.busy": "2025-07-30T13:47:21.928927Z",
     "iopub.status.idle": "2025-07-30T13:47:21.937803Z",
     "shell.execute_reply": "2025-07-30T13:47:21.936902Z"
    },
    "papermill": {
     "duration": 0.022933,
     "end_time": "2025-07-30T13:47:21.939030",
     "exception": false,
     "start_time": "2025-07-30T13:47:21.916097",
     "status": "completed"
    },
    "tags": []
   },
   "outputs": [
    {
     "name": "stdout",
     "output_type": "stream",
     "text": [
      "Dropping features: ['maxdeutsch1', 'maxdeutsch.Missing.']\n"
     ]
    }
   ],
   "source": [
    "if len(excluded_features_columns) > 0:\n",
    "    print(f\"Dropping features: {excluded_features_columns}\")\n",
    "    X_train.drop(excluded_features_columns, axis=1, inplace=True)"
   ]
  },
  {
   "cell_type": "code",
   "execution_count": 33,
   "id": "95ab8b16",
   "metadata": {
    "execution": {
     "iopub.execute_input": "2025-07-30T13:47:21.973565Z",
     "iopub.status.busy": "2025-07-30T13:47:21.972794Z",
     "iopub.status.idle": "2025-07-30T13:47:22.028545Z",
     "shell.execute_reply": "2025-07-30T13:47:22.027579Z"
    },
    "papermill": {
     "duration": 0.07821,
     "end_time": "2025-07-30T13:47:22.029798",
     "exception": false,
     "start_time": "2025-07-30T13:47:21.951588",
     "status": "completed"
    },
    "tags": []
   },
   "outputs": [
    {
     "name": "stdout",
     "output_type": "stream",
     "text": [
      "Dropping features: ['maxdeutsch1', 'maxdeutsch.Missing.']\n"
     ]
    }
   ],
   "source": [
    "if len(excluded_features_columns) > 0:\n",
    "    print(f\"Dropping features: {excluded_features_columns}\")\n",
    "    X_test.drop(excluded_features_columns, axis=1, inplace=True)"
   ]
  },
  {
   "cell_type": "code",
   "execution_count": 34,
   "id": "1853aaf5-fb9f-46cb-a2b5-8ea4ae2237e4",
   "metadata": {
    "execution": {
     "iopub.execute_input": "2025-07-30T13:47:22.055774Z",
     "iopub.status.busy": "2025-07-30T13:47:22.055192Z",
     "iopub.status.idle": "2025-07-30T13:47:22.091902Z",
     "shell.execute_reply": "2025-07-30T13:47:22.091107Z"
    },
    "papermill": {
     "duration": 0.050556,
     "end_time": "2025-07-30T13:47:22.093312",
     "exception": false,
     "start_time": "2025-07-30T13:47:22.042756",
     "status": "completed"
    },
    "tags": []
   },
   "outputs": [
    {
     "name": "stdout",
     "output_type": "stream",
     "text": [
      "Dropping features: ['maxdeutsch1', 'maxdeutsch.Missing.']\n"
     ]
    }
   ],
   "source": [
    "if len(excluded_features_columns) > 0:\n",
    "    print(f\"Dropping features: {excluded_features_columns}\")\n",
    "    X_calib.drop(excluded_features_columns, axis=1, inplace=True)"
   ]
  },
  {
   "cell_type": "code",
   "execution_count": 35,
   "id": "6727d079-03e5-481e-9d38-292a90b7a0a8",
   "metadata": {
    "execution": {
     "iopub.execute_input": "2025-07-30T13:47:22.144597Z",
     "iopub.status.busy": "2025-07-30T13:47:22.143896Z",
     "iopub.status.idle": "2025-07-30T13:47:22.149153Z",
     "shell.execute_reply": "2025-07-30T13:47:22.148103Z"
    },
    "papermill": {
     "duration": 0.033507,
     "end_time": "2025-07-30T13:47:22.150896",
     "exception": false,
     "start_time": "2025-07-30T13:47:22.117389",
     "status": "completed"
    },
    "tags": []
   },
   "outputs": [],
   "source": [
    "# SPLIT & STRATIFY DATA\n",
    "# ----------------------"
   ]
  },
  {
   "cell_type": "code",
   "execution_count": 36,
   "id": "76c4dc6d",
   "metadata": {
    "execution": {
     "iopub.execute_input": "2025-07-30T13:47:22.203689Z",
     "iopub.status.busy": "2025-07-30T13:47:22.203297Z",
     "iopub.status.idle": "2025-07-30T13:47:22.208520Z",
     "shell.execute_reply": "2025-07-30T13:47:22.207269Z"
    },
    "papermill": {
     "duration": 0.033789,
     "end_time": "2025-07-30T13:47:22.210501",
     "exception": false,
     "start_time": "2025-07-30T13:47:22.176712",
     "status": "completed"
    },
    "tags": []
   },
   "outputs": [],
   "source": [
    "# EXCLUDE CERTAIN SUBGROUPS\n",
    "# ----------------------\n",
    "\n",
    "mode = universe.get(\"exclude_subgroups\", \"keep-all\") \n",
    "# Fetches the exclude_subgroups setting from the universe dict.\n",
    "# Defaults to \"keep-all\" if the key is missing."
   ]
  },
  {
   "cell_type": "code",
   "execution_count": 37,
   "id": "21994072",
   "metadata": {
    "execution": {
     "iopub.execute_input": "2025-07-30T13:47:22.279470Z",
     "iopub.status.busy": "2025-07-30T13:47:22.278715Z",
     "iopub.status.idle": "2025-07-30T13:47:22.286035Z",
     "shell.execute_reply": "2025-07-30T13:47:22.285029Z"
    },
    "papermill": {
     "duration": 0.042959,
     "end_time": "2025-07-30T13:47:22.287999",
     "exception": false,
     "start_time": "2025-07-30T13:47:22.245040",
     "status": "completed"
    },
    "tags": []
   },
   "outputs": [],
   "source": [
    "if mode == \"keep-all\":\n",
    "    keep_mask = pd.Series(True, index=org_train.index)\n",
    "\n",
    "# org_train contains the original feature columns from features_org (in Simson)\n",
    "# features_org contains unprocessed features, for me X_train at beginning ???\n",
    "# For keep-all, creates a boolean Series (keep_mask) of all True, so no rows are removed.\n",
    "\n",
    "elif mode == \"drop-non-german\":\n",
    "    keep_mask = org_train[\"maxdeutsch1\"] == 1 # ??? what about missing values?\n",
    "\n",
    "else:\n",
    "    raise ValueError(f\"Unsupported mode for exclude_subgroups: {mode}\")\n"
   ]
  },
  {
   "cell_type": "code",
   "execution_count": 38,
   "id": "71651440",
   "metadata": {
    "execution": {
     "iopub.execute_input": "2025-07-30T13:47:22.343939Z",
     "iopub.status.busy": "2025-07-30T13:47:22.343287Z",
     "iopub.status.idle": "2025-07-30T13:47:22.351173Z",
     "shell.execute_reply": "2025-07-30T13:47:22.350205Z"
    },
    "papermill": {
     "duration": 0.039009,
     "end_time": "2025-07-30T13:47:22.352990",
     "exception": false,
     "start_time": "2025-07-30T13:47:22.313981",
     "status": "completed"
    },
    "tags": []
   },
   "outputs": [
    {
     "name": "stdout",
     "output_type": "stream",
     "text": [
      "Dropping 741 rows (14.82%) where mode='drop-non-german'\n"
     ]
    }
   ],
   "source": [
    "n_drop = (~keep_mask).sum() # Calculates how many rows are set to be dropped\n",
    "if n_drop > 0:\n",
    "    pct = n_drop / len(keep_mask) * 100\n",
    "    print(f\"Dropping {n_drop} rows ({pct:.2f}%) where mode='{mode}'\")"
   ]
  },
  {
   "cell_type": "code",
   "execution_count": 39,
   "id": "5fb8eee5",
   "metadata": {
    "execution": {
     "iopub.execute_input": "2025-07-30T13:47:22.409792Z",
     "iopub.status.busy": "2025-07-30T13:47:22.408799Z",
     "iopub.status.idle": "2025-07-30T13:47:22.417105Z",
     "shell.execute_reply": "2025-07-30T13:47:22.416100Z"
    },
    "papermill": {
     "duration": 0.047526,
     "end_time": "2025-07-30T13:47:22.429313",
     "exception": false,
     "start_time": "2025-07-30T13:47:22.381787",
     "status": "completed"
    },
    "tags": []
   },
   "outputs": [],
   "source": [
    "X_train = X_train[keep_mask]"
   ]
  },
  {
   "cell_type": "code",
   "execution_count": 40,
   "id": "b202bb3a",
   "metadata": {
    "execution": {
     "iopub.execute_input": "2025-07-30T13:47:22.483564Z",
     "iopub.status.busy": "2025-07-30T13:47:22.482801Z",
     "iopub.status.idle": "2025-07-30T13:47:22.489220Z",
     "shell.execute_reply": "2025-07-30T13:47:22.488261Z"
    },
    "papermill": {
     "duration": 0.037041,
     "end_time": "2025-07-30T13:47:22.490979",
     "exception": false,
     "start_time": "2025-07-30T13:47:22.453938",
     "status": "completed"
    },
    "tags": []
   },
   "outputs": [],
   "source": [
    "y_train = y_train[keep_mask]"
   ]
  },
  {
   "cell_type": "markdown",
   "id": "493e2ac3",
   "metadata": {
    "papermill": {
     "duration": 0.023126,
     "end_time": "2025-07-30T13:47:22.538765",
     "exception": false,
     "start_time": "2025-07-30T13:47:22.515639",
     "status": "completed"
    },
    "tags": []
   },
   "source": [
    "# Model Training"
   ]
  },
  {
   "cell_type": "code",
   "execution_count": 41,
   "id": "679e1268",
   "metadata": {
    "execution": {
     "iopub.execute_input": "2025-07-30T13:47:22.592894Z",
     "iopub.status.busy": "2025-07-30T13:47:22.592324Z",
     "iopub.status.idle": "2025-07-30T13:47:22.764288Z",
     "shell.execute_reply": "2025-07-30T13:47:22.763559Z"
    },
    "papermill": {
     "duration": 0.201944,
     "end_time": "2025-07-30T13:47:22.766191",
     "exception": false,
     "start_time": "2025-07-30T13:47:22.564247",
     "status": "completed"
    },
    "tags": []
   },
   "outputs": [],
   "source": [
    "from sklearn.linear_model import LogisticRegression\n",
    "from sklearn.ensemble import GradientBoostingClassifier, RandomForestClassifier\n",
    "\n",
    "if (universe[\"model\"] == \"logreg\"):\n",
    "    model = LogisticRegression() #penalty=\"none\") #, solver=\"newton-cg\", max_iter=1) # include random_state=19 ?\n",
    "elif (universe[\"model\"] == \"penalized_logreg\"):\n",
    "    model = LogisticRegression(penalty=\"l2\", C=1.0) #, solver=\"newton-cg\", max_iter=1)\n",
    "elif (universe[\"model\"] == \"rf\"):\n",
    "    model = RandomForestClassifier(n_estimators=100, n_jobs=-1)\n",
    "elif (universe[\"model\"] == \"gbm\"):\n",
    "    model = GradientBoostingClassifier()\n",
    "elif (universe[\"model\"] == \"elasticnet\"):\n",
    "    model = LogisticRegression(penalty = 'elasticnet', solver = 'saga', l1_ratio = 0.5, max_iter=5000) # which solver to use?\n",
    "else:\n",
    "    raise \"Unsupported universe.model\""
   ]
  },
  {
   "cell_type": "code",
   "execution_count": 42,
   "id": "0cc8f744",
   "metadata": {
    "execution": {
     "iopub.execute_input": "2025-07-30T13:47:22.815789Z",
     "iopub.status.busy": "2025-07-30T13:47:22.815287Z",
     "iopub.status.idle": "2025-07-30T13:47:22.823584Z",
     "shell.execute_reply": "2025-07-30T13:47:22.821179Z"
    },
    "papermill": {
     "duration": 0.034294,
     "end_time": "2025-07-30T13:47:22.825161",
     "exception": false,
     "start_time": "2025-07-30T13:47:22.790867",
     "status": "completed"
    },
    "tags": []
   },
   "outputs": [],
   "source": [
    "import numpy as np\n",
    "from sklearn.pipeline import Pipeline\n",
    "from sklearn.preprocessing import StandardScaler\n",
    "\n",
    "model = Pipeline([\n",
    "    #(\"continuous_processor\", continuous_processor),\n",
    "    #(\"categorical_preprocessor\", categorical_preprocessor),\n",
    "    (\"scale\", StandardScaler() if universe[\"scale\"] == \"scale\" else None), \n",
    "    (\"model\", model),\n",
    "])"
   ]
  },
  {
   "cell_type": "code",
   "execution_count": 43,
   "id": "9442c04d",
   "metadata": {
    "execution": {
     "iopub.execute_input": "2025-07-30T13:47:22.878514Z",
     "iopub.status.busy": "2025-07-30T13:47:22.877712Z",
     "iopub.status.idle": "2025-07-30T13:47:23.010958Z",
     "shell.execute_reply": "2025-07-30T13:47:23.004006Z"
    },
    "papermill": {
     "duration": 0.160897,
     "end_time": "2025-07-30T13:47:23.012657",
     "exception": false,
     "start_time": "2025-07-30T13:47:22.851760",
     "status": "completed"
    },
    "tags": []
   },
   "outputs": [
    {
     "name": "stderr",
     "output_type": "stream",
     "text": [
      "/dss/dsshome1/0C/ra93lal2/.local/share/virtualenvs/CMA_Fairness_v2-3j10GkSs/lib/python3.10/site-packages/sklearn/linear_model/_logistic.py:444: ConvergenceWarning: lbfgs failed to converge (status=1):\n",
      "STOP: TOTAL NO. of ITERATIONS REACHED LIMIT.\n",
      "\n",
      "Increase the number of iterations (max_iter) or scale the data as shown in:\n",
      "    https://scikit-learn.org/stable/modules/preprocessing.html\n",
      "Please also refer to the documentation for alternative solver options:\n",
      "    https://scikit-learn.org/stable/modules/linear_model.html#logistic-regression\n",
      "  n_iter_i = _check_optimize_result(\n"
     ]
    },
    {
     "data": {
      "text/html": [
       "<style>#sk-container-id-1 {color: black;background-color: white;}#sk-container-id-1 pre{padding: 0;}#sk-container-id-1 div.sk-toggleable {background-color: white;}#sk-container-id-1 label.sk-toggleable__label {cursor: pointer;display: block;width: 100%;margin-bottom: 0;padding: 0.3em;box-sizing: border-box;text-align: center;}#sk-container-id-1 label.sk-toggleable__label-arrow:before {content: \"▸\";float: left;margin-right: 0.25em;color: #696969;}#sk-container-id-1 label.sk-toggleable__label-arrow:hover:before {color: black;}#sk-container-id-1 div.sk-estimator:hover label.sk-toggleable__label-arrow:before {color: black;}#sk-container-id-1 div.sk-toggleable__content {max-height: 0;max-width: 0;overflow: hidden;text-align: left;background-color: #f0f8ff;}#sk-container-id-1 div.sk-toggleable__content pre {margin: 0.2em;color: black;border-radius: 0.25em;background-color: #f0f8ff;}#sk-container-id-1 input.sk-toggleable__control:checked~div.sk-toggleable__content {max-height: 200px;max-width: 100%;overflow: auto;}#sk-container-id-1 input.sk-toggleable__control:checked~label.sk-toggleable__label-arrow:before {content: \"▾\";}#sk-container-id-1 div.sk-estimator input.sk-toggleable__control:checked~label.sk-toggleable__label {background-color: #d4ebff;}#sk-container-id-1 div.sk-label input.sk-toggleable__control:checked~label.sk-toggleable__label {background-color: #d4ebff;}#sk-container-id-1 input.sk-hidden--visually {border: 0;clip: rect(1px 1px 1px 1px);clip: rect(1px, 1px, 1px, 1px);height: 1px;margin: -1px;overflow: hidden;padding: 0;position: absolute;width: 1px;}#sk-container-id-1 div.sk-estimator {font-family: monospace;background-color: #f0f8ff;border: 1px dotted black;border-radius: 0.25em;box-sizing: border-box;margin-bottom: 0.5em;}#sk-container-id-1 div.sk-estimator:hover {background-color: #d4ebff;}#sk-container-id-1 div.sk-parallel-item::after {content: \"\";width: 100%;border-bottom: 1px solid gray;flex-grow: 1;}#sk-container-id-1 div.sk-label:hover label.sk-toggleable__label {background-color: #d4ebff;}#sk-container-id-1 div.sk-serial::before {content: \"\";position: absolute;border-left: 1px solid gray;box-sizing: border-box;top: 0;bottom: 0;left: 50%;z-index: 0;}#sk-container-id-1 div.sk-serial {display: flex;flex-direction: column;align-items: center;background-color: white;padding-right: 0.2em;padding-left: 0.2em;position: relative;}#sk-container-id-1 div.sk-item {position: relative;z-index: 1;}#sk-container-id-1 div.sk-parallel {display: flex;align-items: stretch;justify-content: center;background-color: white;position: relative;}#sk-container-id-1 div.sk-item::before, #sk-container-id-1 div.sk-parallel-item::before {content: \"\";position: absolute;border-left: 1px solid gray;box-sizing: border-box;top: 0;bottom: 0;left: 50%;z-index: -1;}#sk-container-id-1 div.sk-parallel-item {display: flex;flex-direction: column;z-index: 1;position: relative;background-color: white;}#sk-container-id-1 div.sk-parallel-item:first-child::after {align-self: flex-end;width: 50%;}#sk-container-id-1 div.sk-parallel-item:last-child::after {align-self: flex-start;width: 50%;}#sk-container-id-1 div.sk-parallel-item:only-child::after {width: 0;}#sk-container-id-1 div.sk-dashed-wrapped {border: 1px dashed gray;margin: 0 0.4em 0.5em 0.4em;box-sizing: border-box;padding-bottom: 0.4em;background-color: white;}#sk-container-id-1 div.sk-label label {font-family: monospace;font-weight: bold;display: inline-block;line-height: 1.2em;}#sk-container-id-1 div.sk-label-container {text-align: center;}#sk-container-id-1 div.sk-container {/* jupyter's `normalize.less` sets `[hidden] { display: none; }` but bootstrap.min.css set `[hidden] { display: none !important; }` so we also need the `!important` here to be able to override the default hidden behavior on the sphinx rendered scikit-learn.org. See: https://github.com/scikit-learn/scikit-learn/issues/21755 */display: inline-block !important;position: relative;}#sk-container-id-1 div.sk-text-repr-fallback {display: none;}</style><div id=\"sk-container-id-1\" class=\"sk-top-container\"><div class=\"sk-text-repr-fallback\"><pre>Pipeline(steps=[(&#x27;scale&#x27;, None), (&#x27;model&#x27;, LogisticRegression())])</pre><b>In a Jupyter environment, please rerun this cell to show the HTML representation or trust the notebook. <br />On GitHub, the HTML representation is unable to render, please try loading this page with nbviewer.org.</b></div><div class=\"sk-container\" hidden><div class=\"sk-item sk-dashed-wrapped\"><div class=\"sk-label-container\"><div class=\"sk-label sk-toggleable\"><input class=\"sk-toggleable__control sk-hidden--visually\" id=\"sk-estimator-id-1\" type=\"checkbox\" ><label for=\"sk-estimator-id-1\" class=\"sk-toggleable__label sk-toggleable__label-arrow\">Pipeline</label><div class=\"sk-toggleable__content\"><pre>Pipeline(steps=[(&#x27;scale&#x27;, None), (&#x27;model&#x27;, LogisticRegression())])</pre></div></div></div><div class=\"sk-serial\"><div class=\"sk-item\"><div class=\"sk-estimator sk-toggleable\"><input class=\"sk-toggleable__control sk-hidden--visually\" id=\"sk-estimator-id-2\" type=\"checkbox\" ><label for=\"sk-estimator-id-2\" class=\"sk-toggleable__label sk-toggleable__label-arrow\">None</label><div class=\"sk-toggleable__content\"><pre>None</pre></div></div></div><div class=\"sk-item\"><div class=\"sk-estimator sk-toggleable\"><input class=\"sk-toggleable__control sk-hidden--visually\" id=\"sk-estimator-id-3\" type=\"checkbox\" ><label for=\"sk-estimator-id-3\" class=\"sk-toggleable__label sk-toggleable__label-arrow\">LogisticRegression</label><div class=\"sk-toggleable__content\"><pre>LogisticRegression()</pre></div></div></div></div></div></div></div>"
      ],
      "text/plain": [
       "Pipeline(steps=[('scale', None), ('model', LogisticRegression())])"
      ]
     },
     "execution_count": 43,
     "metadata": {},
     "output_type": "execute_result"
    }
   ],
   "source": [
    "model.fit(X_train, y_train.values.ravel())"
   ]
  },
  {
   "cell_type": "code",
   "execution_count": 44,
   "id": "af59f8c0",
   "metadata": {
    "execution": {
     "iopub.execute_input": "2025-07-30T13:47:23.065006Z",
     "iopub.status.busy": "2025-07-30T13:47:23.064516Z",
     "iopub.status.idle": "2025-07-30T13:47:23.071170Z",
     "shell.execute_reply": "2025-07-30T13:47:23.070027Z"
    },
    "papermill": {
     "duration": 0.032327,
     "end_time": "2025-07-30T13:47:23.072924",
     "exception": false,
     "start_time": "2025-07-30T13:47:23.040597",
     "status": "completed"
    },
    "tags": []
   },
   "outputs": [],
   "source": [
    "from fairness_multiverse.universe import predict_w_threshold"
   ]
  },
  {
   "cell_type": "code",
   "execution_count": 45,
   "id": "a7cf2e16",
   "metadata": {
    "execution": {
     "iopub.execute_input": "2025-07-30T13:47:23.127569Z",
     "iopub.status.busy": "2025-07-30T13:47:23.126961Z",
     "iopub.status.idle": "2025-07-30T13:47:23.222430Z",
     "shell.execute_reply": "2025-07-30T13:47:23.221463Z"
    },
    "papermill": {
     "duration": 0.123998,
     "end_time": "2025-07-30T13:47:23.223987",
     "exception": false,
     "start_time": "2025-07-30T13:47:23.099989",
     "status": "completed"
    },
    "tags": []
   },
   "outputs": [
    {
     "data": {
      "text/plain": [
       "0.860350016720544"
      ]
     },
     "execution_count": 45,
     "metadata": {},
     "output_type": "execute_result"
    }
   ],
   "source": [
    "probs_test = model.predict_proba(X_test)\n",
    "\n",
    "'''\n",
    "Below code returns a boolean array (or binary 0/1 array depending on how it’s used) where each element \n",
    "is True if the probability of class 1 is greater than or equal to the threshold, and False otherwise.\n",
    "'''\n",
    "y_pred_default = predict_w_threshold(probs_test, 0.5)\n",
    "\n",
    "from sklearn.metrics import accuracy_score\n",
    "\n",
    "# Naive prediction\n",
    "accuracy_score(y_true = y_true, y_pred = y_pred_default)"
   ]
  },
  {
   "cell_type": "code",
   "execution_count": 46,
   "id": "081964c3",
   "metadata": {
    "execution": {
     "iopub.execute_input": "2025-07-30T13:47:23.254526Z",
     "iopub.status.busy": "2025-07-30T13:47:23.254191Z",
     "iopub.status.idle": "2025-07-30T13:47:23.337356Z",
     "shell.execute_reply": "2025-07-30T13:47:23.336397Z"
    },
    "papermill": {
     "duration": 0.098621,
     "end_time": "2025-07-30T13:47:23.339171",
     "exception": false,
     "start_time": "2025-07-30T13:47:23.240550",
     "status": "completed"
    },
    "tags": []
   },
   "outputs": [
    {
     "data": {
      "text/plain": [
       "array([0, 0, 0, ..., 0, 0, 0])"
      ]
     },
     "execution_count": 46,
     "metadata": {},
     "output_type": "execute_result"
    }
   ],
   "source": [
    "model.predict(X_test)"
   ]
  },
  {
   "cell_type": "markdown",
   "id": "56c9705b",
   "metadata": {
    "papermill": {
     "duration": 0.028014,
     "end_time": "2025-07-30T13:47:23.396299",
     "exception": false,
     "start_time": "2025-07-30T13:47:23.368285",
     "status": "completed"
    },
    "tags": []
   },
   "source": [
    "# Conformal Prediction"
   ]
  },
  {
   "cell_type": "code",
   "execution_count": 47,
   "id": "160ec6ff",
   "metadata": {
    "execution": {
     "iopub.execute_input": "2025-07-30T13:47:23.454722Z",
     "iopub.status.busy": "2025-07-30T13:47:23.454189Z",
     "iopub.status.idle": "2025-07-30T13:47:23.459551Z",
     "shell.execute_reply": "2025-07-30T13:47:23.458593Z"
    },
    "papermill": {
     "duration": 0.036626,
     "end_time": "2025-07-30T13:47:23.461419",
     "exception": false,
     "start_time": "2025-07-30T13:47:23.424793",
     "status": "completed"
    },
    "tags": []
   },
   "outputs": [],
   "source": [
    "# Miscoverage level for conformal prediction (10% allowed error rate => 90% target coverage)\n",
    "alpha = 0.1"
   ]
  },
  {
   "cell_type": "code",
   "execution_count": 48,
   "id": "eadf4555-3dd3-440e-8e35-f82a4ad9f855",
   "metadata": {
    "execution": {
     "iopub.execute_input": "2025-07-30T13:47:23.518753Z",
     "iopub.status.busy": "2025-07-30T13:47:23.518304Z",
     "iopub.status.idle": "2025-07-30T13:47:23.602117Z",
     "shell.execute_reply": "2025-07-30T13:47:23.601137Z"
    },
    "papermill": {
     "duration": 0.113787,
     "end_time": "2025-07-30T13:47:23.604057",
     "exception": false,
     "start_time": "2025-07-30T13:47:23.490270",
     "status": "completed"
    },
    "tags": []
   },
   "outputs": [],
   "source": [
    "probs_calib = model.predict_proba(X_calib)"
   ]
  },
  {
   "cell_type": "code",
   "execution_count": 49,
   "id": "2ed93547-6d5d-4983-9b36-1ecb300da49a",
   "metadata": {
    "execution": {
     "iopub.execute_input": "2025-07-30T13:47:23.661054Z",
     "iopub.status.busy": "2025-07-30T13:47:23.660615Z",
     "iopub.status.idle": "2025-07-30T13:47:23.666281Z",
     "shell.execute_reply": "2025-07-30T13:47:23.665256Z"
    },
    "papermill": {
     "duration": 0.035993,
     "end_time": "2025-07-30T13:47:23.667936",
     "exception": false,
     "start_time": "2025-07-30T13:47:23.631943",
     "status": "completed"
    },
    "tags": []
   },
   "outputs": [],
   "source": [
    "y_calib = y_calib.values.ravel().astype(int)"
   ]
  },
  {
   "cell_type": "code",
   "execution_count": 50,
   "id": "65d1320d-f588-4b38-9072-62af1ae97f7d",
   "metadata": {
    "execution": {
     "iopub.execute_input": "2025-07-30T13:47:23.722179Z",
     "iopub.status.busy": "2025-07-30T13:47:23.721268Z",
     "iopub.status.idle": "2025-07-30T13:47:23.728518Z",
     "shell.execute_reply": "2025-07-30T13:47:23.727716Z"
    },
    "papermill": {
     "duration": 0.035247,
     "end_time": "2025-07-30T13:47:23.729772",
     "exception": false,
     "start_time": "2025-07-30T13:47:23.694525",
     "status": "completed"
    },
    "tags": []
   },
   "outputs": [],
   "source": [
    "from fairness_multiverse.conformal import compute_nc_scores\n",
    "\n",
    "# Compute nonconformity scores on calibration set (1 - probability of true class)\n",
    "nc_scores = compute_nc_scores(probs_calib, y_calib)"
   ]
  },
  {
   "cell_type": "code",
   "execution_count": 51,
   "id": "df3b8ca3-53b7-43d5-9667-7c85da7aeda2",
   "metadata": {
    "execution": {
     "iopub.execute_input": "2025-07-30T13:47:23.757146Z",
     "iopub.status.busy": "2025-07-30T13:47:23.756645Z",
     "iopub.status.idle": "2025-07-30T13:47:23.762394Z",
     "shell.execute_reply": "2025-07-30T13:47:23.761428Z"
    },
    "papermill": {
     "duration": 0.021426,
     "end_time": "2025-07-30T13:47:23.764526",
     "exception": false,
     "start_time": "2025-07-30T13:47:23.743100",
     "status": "completed"
    },
    "tags": []
   },
   "outputs": [],
   "source": [
    "from fairness_multiverse.conformal import find_threshold\n",
    "\n",
    "# Find conformal threshold q_hat for the given alpha (split conformal method)\n",
    "q_hat = find_threshold(nc_scores, alpha)"
   ]
  },
  {
   "cell_type": "code",
   "execution_count": 52,
   "id": "4d29e6c1-0ef6-4aa4-b8fe-4fe79b0d033a",
   "metadata": {
    "execution": {
     "iopub.execute_input": "2025-07-30T13:47:23.820316Z",
     "iopub.status.busy": "2025-07-30T13:47:23.818694Z",
     "iopub.status.idle": "2025-07-30T13:47:23.827309Z",
     "shell.execute_reply": "2025-07-30T13:47:23.826441Z"
    },
    "papermill": {
     "duration": 0.037538,
     "end_time": "2025-07-30T13:47:23.828851",
     "exception": false,
     "start_time": "2025-07-30T13:47:23.791313",
     "status": "completed"
    },
    "tags": []
   },
   "outputs": [
    {
     "data": {
      "text/plain": [
       "0.6644861296035425"
      ]
     },
     "execution_count": 52,
     "metadata": {},
     "output_type": "execute_result"
    }
   ],
   "source": [
    "q_hat"
   ]
  },
  {
   "cell_type": "code",
   "execution_count": 53,
   "id": "92460794-cdac-4be2-ba28-f28c0515a6fb",
   "metadata": {
    "execution": {
     "iopub.execute_input": "2025-07-30T13:47:23.858416Z",
     "iopub.status.busy": "2025-07-30T13:47:23.858063Z",
     "iopub.status.idle": "2025-07-30T13:47:24.500215Z",
     "shell.execute_reply": "2025-07-30T13:47:24.499117Z"
    },
    "papermill": {
     "duration": 0.658842,
     "end_time": "2025-07-30T13:47:24.502384",
     "exception": false,
     "start_time": "2025-07-30T13:47:23.843542",
     "status": "completed"
    },
    "tags": []
   },
   "outputs": [],
   "source": [
    "from fairness_multiverse.conformal import predict_conformal_sets\n",
    "\n",
    "# Generate prediction sets for each test example\n",
    "pred_sets = predict_conformal_sets(model, X_test, q_hat)"
   ]
  },
  {
   "cell_type": "code",
   "execution_count": 54,
   "id": "d90c9a65-e6db-4f5d-80cd-e68fb7e46829",
   "metadata": {
    "execution": {
     "iopub.execute_input": "2025-07-30T13:47:24.558888Z",
     "iopub.status.busy": "2025-07-30T13:47:24.558296Z",
     "iopub.status.idle": "2025-07-30T13:47:24.565291Z",
     "shell.execute_reply": "2025-07-30T13:47:24.564213Z"
    },
    "papermill": {
     "duration": 0.037922,
     "end_time": "2025-07-30T13:47:24.567159",
     "exception": false,
     "start_time": "2025-07-30T13:47:24.529237",
     "status": "completed"
    },
    "tags": []
   },
   "outputs": [],
   "source": [
    "y_true = y_true.squeeze()"
   ]
  },
  {
   "cell_type": "code",
   "execution_count": 55,
   "id": "3a58a54a-1e68-46b9-927a-df01f18aebc8",
   "metadata": {
    "execution": {
     "iopub.execute_input": "2025-07-30T13:47:24.622415Z",
     "iopub.status.busy": "2025-07-30T13:47:24.621884Z",
     "iopub.status.idle": "2025-07-30T13:47:25.556661Z",
     "shell.execute_reply": "2025-07-30T13:47:25.555603Z"
    },
    "papermill": {
     "duration": 0.964671,
     "end_time": "2025-07-30T13:47:25.558178",
     "exception": false,
     "start_time": "2025-07-30T13:47:24.593507",
     "status": "completed"
    },
    "tags": []
   },
   "outputs": [],
   "source": [
    "from fairness_multiverse.conformal import evaluate_sets\n",
    "\n",
    "# Evaluate coverage and average set size on test data\n",
    "metrics = evaluate_sets(pred_sets, y_true)"
   ]
  },
  {
   "cell_type": "markdown",
   "id": "2b569c12-9aaa-4c88-98c9-bbcd0cf3ebb8",
   "metadata": {
    "papermill": {
     "duration": 0.025901,
     "end_time": "2025-07-30T13:47:25.607989",
     "exception": false,
     "start_time": "2025-07-30T13:47:25.582088",
     "status": "completed"
    },
    "tags": []
   },
   "source": [
    "# CP Metrics"
   ]
  },
  {
   "cell_type": "code",
   "execution_count": 56,
   "id": "5ce0a5cb-201f-45a0-ade5-94c7f0bd6095",
   "metadata": {
    "execution": {
     "iopub.execute_input": "2025-07-30T13:47:25.657669Z",
     "iopub.status.busy": "2025-07-30T13:47:25.657213Z",
     "iopub.status.idle": "2025-07-30T13:47:25.664666Z",
     "shell.execute_reply": "2025-07-30T13:47:25.663552Z"
    },
    "papermill": {
     "duration": 0.034575,
     "end_time": "2025-07-30T13:47:25.666260",
     "exception": false,
     "start_time": "2025-07-30T13:47:25.631685",
     "status": "completed"
    },
    "tags": []
   },
   "outputs": [
    {
     "data": {
      "text/plain": [
       "{'coverage': 0.9109909709062535, 'avg_size': 1.2244342882621781}"
      ]
     },
     "execution_count": 56,
     "metadata": {},
     "output_type": "execute_result"
    }
   ],
   "source": [
    "metrics"
   ]
  },
  {
   "cell_type": "code",
   "execution_count": 57,
   "id": "9b9a838d-31c9-430b-ae14-12baee460d17",
   "metadata": {
    "execution": {
     "iopub.execute_input": "2025-07-30T13:47:25.717040Z",
     "iopub.status.busy": "2025-07-30T13:47:25.716593Z",
     "iopub.status.idle": "2025-07-30T13:47:25.723485Z",
     "shell.execute_reply": "2025-07-30T13:47:25.722530Z"
    },
    "papermill": {
     "duration": 0.03469,
     "end_time": "2025-07-30T13:47:25.725307",
     "exception": false,
     "start_time": "2025-07-30T13:47:25.690617",
     "status": "completed"
    },
    "tags": []
   },
   "outputs": [],
   "source": [
    "example_universe = universe.copy()\n",
    "universe_training_size = example_universe.get(\"training_size\")\n",
    "universe_scale = example_universe.get(\"scale\")\n",
    "universe_model = example_universe.get(\"model\")\n",
    "universe_exclude_features = example_universe.get(\"exclude_features\")\n",
    "universe_exclude_subgroups = example_universe.get(\"exclude_subgroups\")"
   ]
  },
  {
   "cell_type": "code",
   "execution_count": 58,
   "id": "f4b6a8ac-9dc0-4245-8a91-5b3b5999c4f9",
   "metadata": {
    "execution": {
     "iopub.execute_input": "2025-07-30T13:47:25.778078Z",
     "iopub.status.busy": "2025-07-30T13:47:25.777594Z",
     "iopub.status.idle": "2025-07-30T13:47:25.783979Z",
     "shell.execute_reply": "2025-07-30T13:47:25.783039Z"
    },
    "papermill": {
     "duration": 0.033165,
     "end_time": "2025-07-30T13:47:25.785613",
     "exception": false,
     "start_time": "2025-07-30T13:47:25.752448",
     "status": "completed"
    },
    "tags": []
   },
   "outputs": [],
   "source": [
    "cp_metrics_dict = {\n",
    "    \"universe_id\": [universe_id],\n",
    "    \"universe_training_size\": [universe_training_size],\n",
    "    \"universe_scale\": [universe_scale],\n",
    "    \"universe_model\": [universe_model],\n",
    "    \"universe_exclude_features\": [universe_exclude_features],\n",
    "    \"universe_exclude_subgroups\": [universe_exclude_subgroups],\n",
    "    \"q_hat\": [q_hat],\n",
    "    \"coverage\": [metrics[\"coverage\"]],\n",
    "    \"avg_size\": [metrics[\"avg_size\"]],\n",
    "}"
   ]
  },
  {
   "cell_type": "code",
   "execution_count": 59,
   "id": "908acbb1-0371-4915-85ca-3fa520d2efe2",
   "metadata": {
    "execution": {
     "iopub.execute_input": "2025-07-30T13:47:25.835457Z",
     "iopub.status.busy": "2025-07-30T13:47:25.834617Z",
     "iopub.status.idle": "2025-07-30T13:47:25.842499Z",
     "shell.execute_reply": "2025-07-30T13:47:25.841637Z"
    },
    "papermill": {
     "duration": 0.034057,
     "end_time": "2025-07-30T13:47:25.844086",
     "exception": false,
     "start_time": "2025-07-30T13:47:25.810029",
     "status": "completed"
    },
    "tags": []
   },
   "outputs": [
    {
     "data": {
      "text/plain": [
       "{'universe_id': ['398cb5e5f92a08d4906e323c29e4baaf'],\n",
       " 'universe_training_size': ['5k'],\n",
       " 'universe_scale': ['do-not-scale'],\n",
       " 'universe_model': ['logreg'],\n",
       " 'universe_exclude_features': ['nationality'],\n",
       " 'universe_exclude_subgroups': ['drop-non-german'],\n",
       " 'q_hat': [0.6644861296035425],\n",
       " 'coverage': [0.9109909709062535],\n",
       " 'avg_size': [1.2244342882621781]}"
      ]
     },
     "execution_count": 59,
     "metadata": {},
     "output_type": "execute_result"
    }
   ],
   "source": [
    "cp_metrics_dict"
   ]
  },
  {
   "cell_type": "code",
   "execution_count": 60,
   "id": "33007efc-14e9-4ec6-97ac-56a455c82265",
   "metadata": {
    "execution": {
     "iopub.execute_input": "2025-07-30T13:47:25.894147Z",
     "iopub.status.busy": "2025-07-30T13:47:25.893496Z",
     "iopub.status.idle": "2025-07-30T13:47:25.901206Z",
     "shell.execute_reply": "2025-07-30T13:47:25.900161Z"
    },
    "papermill": {
     "duration": 0.034349,
     "end_time": "2025-07-30T13:47:25.902980",
     "exception": false,
     "start_time": "2025-07-30T13:47:25.868631",
     "status": "completed"
    },
    "tags": []
   },
   "outputs": [],
   "source": [
    "cp_metrics_df = pd.DataFrame(cp_metrics_dict)"
   ]
  },
  {
   "cell_type": "code",
   "execution_count": 61,
   "id": "db12611b-57b2-4910-b9d0-355adfd6e7bf",
   "metadata": {
    "execution": {
     "iopub.execute_input": "2025-07-30T13:47:25.953809Z",
     "iopub.status.busy": "2025-07-30T13:47:25.953142Z",
     "iopub.status.idle": "2025-07-30T13:47:25.971729Z",
     "shell.execute_reply": "2025-07-30T13:47:25.970742Z"
    },
    "papermill": {
     "duration": 0.045355,
     "end_time": "2025-07-30T13:47:25.973279",
     "exception": false,
     "start_time": "2025-07-30T13:47:25.927924",
     "status": "completed"
    },
    "tags": []
   },
   "outputs": [
    {
     "data": {
      "text/html": [
       "<div>\n",
       "<style scoped>\n",
       "    .dataframe tbody tr th:only-of-type {\n",
       "        vertical-align: middle;\n",
       "    }\n",
       "\n",
       "    .dataframe tbody tr th {\n",
       "        vertical-align: top;\n",
       "    }\n",
       "\n",
       "    .dataframe thead th {\n",
       "        text-align: right;\n",
       "    }\n",
       "</style>\n",
       "<table border=\"1\" class=\"dataframe\">\n",
       "  <thead>\n",
       "    <tr style=\"text-align: right;\">\n",
       "      <th></th>\n",
       "      <th>universe_id</th>\n",
       "      <th>universe_training_size</th>\n",
       "      <th>universe_scale</th>\n",
       "      <th>universe_model</th>\n",
       "      <th>universe_exclude_features</th>\n",
       "      <th>universe_exclude_subgroups</th>\n",
       "      <th>q_hat</th>\n",
       "      <th>coverage</th>\n",
       "      <th>avg_size</th>\n",
       "    </tr>\n",
       "  </thead>\n",
       "  <tbody>\n",
       "    <tr>\n",
       "      <th>0</th>\n",
       "      <td>398cb5e5f92a08d4906e323c29e4baaf</td>\n",
       "      <td>5k</td>\n",
       "      <td>do-not-scale</td>\n",
       "      <td>logreg</td>\n",
       "      <td>nationality</td>\n",
       "      <td>drop-non-german</td>\n",
       "      <td>0.664486</td>\n",
       "      <td>0.910991</td>\n",
       "      <td>1.224434</td>\n",
       "    </tr>\n",
       "  </tbody>\n",
       "</table>\n",
       "</div>"
      ],
      "text/plain": [
       "                        universe_id universe_training_size universe_scale  \\\n",
       "0  398cb5e5f92a08d4906e323c29e4baaf                     5k   do-not-scale   \n",
       "\n",
       "  universe_model universe_exclude_features universe_exclude_subgroups  \\\n",
       "0         logreg               nationality            drop-non-german   \n",
       "\n",
       "      q_hat  coverage  avg_size  \n",
       "0  0.664486  0.910991  1.224434  "
      ]
     },
     "execution_count": 61,
     "metadata": {},
     "output_type": "execute_result"
    }
   ],
   "source": [
    "cp_metrics_df"
   ]
  },
  {
   "cell_type": "code",
   "execution_count": 62,
   "id": "b7fbde55-a0a1-47e4-9af6-fe4a17fa8c61",
   "metadata": {
    "execution": {
     "iopub.execute_input": "2025-07-30T13:47:26.025004Z",
     "iopub.status.busy": "2025-07-30T13:47:26.024489Z",
     "iopub.status.idle": "2025-07-30T13:47:26.030168Z",
     "shell.execute_reply": "2025-07-30T13:47:26.029246Z"
    },
    "papermill": {
     "duration": 0.03399,
     "end_time": "2025-07-30T13:47:26.031752",
     "exception": false,
     "start_time": "2025-07-30T13:47:25.997762",
     "status": "completed"
    },
    "tags": []
   },
   "outputs": [],
   "source": [
    "# Conditional Coverage & looking at subgroups"
   ]
  },
  {
   "cell_type": "code",
   "execution_count": 63,
   "id": "027ae886-68dd-4141-96c7-805a5450e1ef",
   "metadata": {
    "execution": {
     "iopub.execute_input": "2025-07-30T13:47:26.085377Z",
     "iopub.status.busy": "2025-07-30T13:47:26.084916Z",
     "iopub.status.idle": "2025-07-30T13:47:26.342192Z",
     "shell.execute_reply": "2025-07-30T13:47:26.341267Z"
    },
    "papermill": {
     "duration": 0.285831,
     "end_time": "2025-07-30T13:47:26.344307",
     "exception": false,
     "start_time": "2025-07-30T13:47:26.058476",
     "status": "completed"
    },
    "tags": []
   },
   "outputs": [],
   "source": [
    "from fairness_multiverse.conformal import build_cp_groups\n",
    "\n",
    "cp_groups_df = build_cp_groups(pred_sets, y_true, X_test.index, org_test)\n",
    "#needs universe_id and setting"
   ]
  },
  {
   "cell_type": "code",
   "execution_count": 64,
   "id": "01d5802c-663a-4d1f-9d69-e036faaffbf7",
   "metadata": {
    "execution": {
     "iopub.execute_input": "2025-07-30T13:47:26.396830Z",
     "iopub.status.busy": "2025-07-30T13:47:26.396158Z",
     "iopub.status.idle": "2025-07-30T13:47:26.400991Z",
     "shell.execute_reply": "2025-07-30T13:47:26.400166Z"
    },
    "papermill": {
     "duration": 0.032167,
     "end_time": "2025-07-30T13:47:26.402463",
     "exception": false,
     "start_time": "2025-07-30T13:47:26.370296",
     "status": "completed"
    },
    "tags": []
   },
   "outputs": [],
   "source": [
    "#delete\n",
    "#cp_groups_df"
   ]
  },
  {
   "cell_type": "code",
   "execution_count": 65,
   "id": "fa424af1-d1eb-443d-b717-2d279ada8408",
   "metadata": {
    "execution": {
     "iopub.execute_input": "2025-07-30T13:47:26.453688Z",
     "iopub.status.busy": "2025-07-30T13:47:26.453051Z",
     "iopub.status.idle": "2025-07-30T13:47:26.458317Z",
     "shell.execute_reply": "2025-07-30T13:47:26.457449Z"
    },
    "papermill": {
     "duration": 0.032613,
     "end_time": "2025-07-30T13:47:26.459816",
     "exception": false,
     "start_time": "2025-07-30T13:47:26.427203",
     "status": "completed"
    },
    "tags": []
   },
   "outputs": [],
   "source": [
    "#delete\n",
    "#percentage = (cp_groups_df['nongerman_female'] == 1).mean() * 100\n",
    "#print(percentage)\n"
   ]
  },
  {
   "cell_type": "code",
   "execution_count": 66,
   "id": "6cbdab96-b2b2-45af-ad54-d0516db2e28d",
   "metadata": {
    "execution": {
     "iopub.execute_input": "2025-07-30T13:47:26.513623Z",
     "iopub.status.busy": "2025-07-30T13:47:26.512884Z",
     "iopub.status.idle": "2025-07-30T13:47:28.083166Z",
     "shell.execute_reply": "2025-07-30T13:47:28.082208Z"
    },
    "papermill": {
     "duration": 1.600195,
     "end_time": "2025-07-30T13:47:28.085183",
     "exception": false,
     "start_time": "2025-07-30T13:47:26.484988",
     "status": "completed"
    },
    "tags": []
   },
   "outputs": [],
   "source": [
    "# Define covered = 1 if true_label is in the predicted set\n",
    "cp_groups_df['covered'] = cp_groups_df.apply(\n",
    "    lambda r: int(r['true_label'] in r['pred_set']),\n",
    "    axis=1\n",
    ")"
   ]
  },
  {
   "cell_type": "code",
   "execution_count": 67,
   "id": "338ff529-1a6b-4b87-a931-8e4788d52aad",
   "metadata": {
    "execution": {
     "iopub.execute_input": "2025-07-30T13:47:28.145886Z",
     "iopub.status.busy": "2025-07-30T13:47:28.145244Z",
     "iopub.status.idle": "2025-07-30T13:47:28.150640Z",
     "shell.execute_reply": "2025-07-30T13:47:28.149700Z"
    },
    "papermill": {
     "duration": 0.037244,
     "end_time": "2025-07-30T13:47:28.152394",
     "exception": false,
     "start_time": "2025-07-30T13:47:28.115150",
     "status": "completed"
    },
    "tags": []
   },
   "outputs": [],
   "source": [
    "#cp_groups_df"
   ]
  },
  {
   "cell_type": "code",
   "execution_count": 68,
   "id": "90032e27-66df-4540-9169-4e89cfbaa758",
   "metadata": {
    "execution": {
     "iopub.execute_input": "2025-07-30T13:47:28.212949Z",
     "iopub.status.busy": "2025-07-30T13:47:28.212279Z",
     "iopub.status.idle": "2025-07-30T13:47:28.223474Z",
     "shell.execute_reply": "2025-07-30T13:47:28.222582Z"
    },
    "papermill": {
     "duration": 0.043148,
     "end_time": "2025-07-30T13:47:28.225275",
     "exception": false,
     "start_time": "2025-07-30T13:47:28.182127",
     "status": "completed"
    },
    "tags": []
   },
   "outputs": [],
   "source": [
    "subgroups = ['frau1','nongerman','nongerman_male','nongerman_female']\n",
    "\n",
    "# Conditional coverage for subgroup==1\n",
    "cond_coverage = {\n",
    "    g: cp_groups_df.loc[cp_groups_df[g]==1, 'covered'].mean()\n",
    "    for g in subgroups\n",
    "}"
   ]
  },
  {
   "cell_type": "code",
   "execution_count": 69,
   "id": "1e348fb1-b9c3-45bc-ba23-f016827a7e0d",
   "metadata": {
    "execution": {
     "iopub.execute_input": "2025-07-30T13:47:28.286966Z",
     "iopub.status.busy": "2025-07-30T13:47:28.286314Z",
     "iopub.status.idle": "2025-07-30T13:47:28.293828Z",
     "shell.execute_reply": "2025-07-30T13:47:28.292900Z"
    },
    "papermill": {
     "duration": 0.039828,
     "end_time": "2025-07-30T13:47:28.295252",
     "exception": false,
     "start_time": "2025-07-30T13:47:28.255424",
     "status": "completed"
    },
    "tags": []
   },
   "outputs": [
    {
     "data": {
      "text/plain": [
       "{'frau1': 0.9092060924652918,\n",
       " 'nongerman': 0.9422332004715657,\n",
       " 'nongerman_male': 0.9530757452940647,\n",
       " 'nongerman_female': 0.9242921013412817}"
      ]
     },
     "execution_count": 69,
     "metadata": {},
     "output_type": "execute_result"
    }
   ],
   "source": [
    "cond_coverage"
   ]
  },
  {
   "cell_type": "code",
   "execution_count": 70,
   "id": "f5093324-c3dd-4d63-bc4c-8d945e5c8bbb",
   "metadata": {
    "execution": {
     "iopub.execute_input": "2025-07-30T13:47:28.347140Z",
     "iopub.status.busy": "2025-07-30T13:47:28.346592Z",
     "iopub.status.idle": "2025-07-30T13:47:28.354041Z",
     "shell.execute_reply": "2025-07-30T13:47:28.353068Z"
    },
    "papermill": {
     "duration": 0.034343,
     "end_time": "2025-07-30T13:47:28.355711",
     "exception": false,
     "start_time": "2025-07-30T13:47:28.321368",
     "status": "completed"
    },
    "tags": []
   },
   "outputs": [],
   "source": [
    "for subgroup, cov in cond_coverage.items():\n",
    "    cp_metrics_df[f\"cov_{subgroup}\"] = cov"
   ]
  },
  {
   "cell_type": "code",
   "execution_count": 71,
   "id": "6e872e10-dbe5-49e8-b554-5030c98ff75d",
   "metadata": {
    "execution": {
     "iopub.execute_input": "2025-07-30T13:47:28.410042Z",
     "iopub.status.busy": "2025-07-30T13:47:28.409214Z",
     "iopub.status.idle": "2025-07-30T13:47:28.426753Z",
     "shell.execute_reply": "2025-07-30T13:47:28.425694Z"
    },
    "papermill": {
     "duration": 0.044708,
     "end_time": "2025-07-30T13:47:28.428350",
     "exception": false,
     "start_time": "2025-07-30T13:47:28.383642",
     "status": "completed"
    },
    "tags": []
   },
   "outputs": [
    {
     "data": {
      "text/html": [
       "<div>\n",
       "<style scoped>\n",
       "    .dataframe tbody tr th:only-of-type {\n",
       "        vertical-align: middle;\n",
       "    }\n",
       "\n",
       "    .dataframe tbody tr th {\n",
       "        vertical-align: top;\n",
       "    }\n",
       "\n",
       "    .dataframe thead th {\n",
       "        text-align: right;\n",
       "    }\n",
       "</style>\n",
       "<table border=\"1\" class=\"dataframe\">\n",
       "  <thead>\n",
       "    <tr style=\"text-align: right;\">\n",
       "      <th></th>\n",
       "      <th>universe_id</th>\n",
       "      <th>universe_training_size</th>\n",
       "      <th>universe_scale</th>\n",
       "      <th>universe_model</th>\n",
       "      <th>universe_exclude_features</th>\n",
       "      <th>universe_exclude_subgroups</th>\n",
       "      <th>q_hat</th>\n",
       "      <th>coverage</th>\n",
       "      <th>avg_size</th>\n",
       "      <th>cov_frau1</th>\n",
       "      <th>cov_nongerman</th>\n",
       "      <th>cov_nongerman_male</th>\n",
       "      <th>cov_nongerman_female</th>\n",
       "    </tr>\n",
       "  </thead>\n",
       "  <tbody>\n",
       "    <tr>\n",
       "      <th>0</th>\n",
       "      <td>398cb5e5f92a08d4906e323c29e4baaf</td>\n",
       "      <td>5k</td>\n",
       "      <td>do-not-scale</td>\n",
       "      <td>logreg</td>\n",
       "      <td>nationality</td>\n",
       "      <td>drop-non-german</td>\n",
       "      <td>0.664486</td>\n",
       "      <td>0.910991</td>\n",
       "      <td>1.224434</td>\n",
       "      <td>0.909206</td>\n",
       "      <td>0.942233</td>\n",
       "      <td>0.953076</td>\n",
       "      <td>0.924292</td>\n",
       "    </tr>\n",
       "  </tbody>\n",
       "</table>\n",
       "</div>"
      ],
      "text/plain": [
       "                        universe_id universe_training_size universe_scale  \\\n",
       "0  398cb5e5f92a08d4906e323c29e4baaf                     5k   do-not-scale   \n",
       "\n",
       "  universe_model universe_exclude_features universe_exclude_subgroups  \\\n",
       "0         logreg               nationality            drop-non-german   \n",
       "\n",
       "      q_hat  coverage  avg_size  cov_frau1  cov_nongerman  cov_nongerman_male  \\\n",
       "0  0.664486  0.910991  1.224434   0.909206       0.942233            0.953076   \n",
       "\n",
       "   cov_nongerman_female  \n",
       "0              0.924292  "
      ]
     },
     "execution_count": 71,
     "metadata": {},
     "output_type": "execute_result"
    }
   ],
   "source": [
    "cp_metrics_df"
   ]
  },
  {
   "cell_type": "markdown",
   "id": "33774451",
   "metadata": {
    "papermill": {
     "duration": 0.03035,
     "end_time": "2025-07-30T13:47:28.490081",
     "exception": false,
     "start_time": "2025-07-30T13:47:28.459731",
     "status": "completed"
    },
    "tags": []
   },
   "source": [
    "# (Fairness) Metrics"
   ]
  },
  {
   "cell_type": "code",
   "execution_count": 72,
   "id": "debc5d62",
   "metadata": {
    "execution": {
     "iopub.execute_input": "2025-07-30T13:47:28.553413Z",
     "iopub.status.busy": "2025-07-30T13:47:28.552303Z",
     "iopub.status.idle": "2025-07-30T13:47:28.573176Z",
     "shell.execute_reply": "2025-07-30T13:47:28.572287Z"
    },
    "papermill": {
     "duration": 0.054526,
     "end_time": "2025-07-30T13:47:28.575169",
     "exception": false,
     "start_time": "2025-07-30T13:47:28.520643",
     "status": "completed"
    },
    "tags": []
   },
   "outputs": [],
   "source": [
    "# do I need to include maxdeutsch1.missing?\n",
    "\n",
    "import numpy as np\n",
    "\n",
    "colname_to_bin = \"maxdeutsch1\"\n",
    "majority_value = org_train[colname_to_bin].mode()[0]\n",
    "\n",
    "org_test[\"majmin\"] = np.where(org_test[colname_to_bin] == majority_value, \"majority\", \"minority\")"
   ]
  },
  {
   "cell_type": "code",
   "execution_count": 73,
   "id": "06a50de5",
   "metadata": {
    "execution": {
     "iopub.execute_input": "2025-07-30T13:47:28.638715Z",
     "iopub.status.busy": "2025-07-30T13:47:28.638080Z",
     "iopub.status.idle": "2025-07-30T13:47:30.677310Z",
     "shell.execute_reply": "2025-07-30T13:47:30.676569Z"
    },
    "papermill": {
     "duration": 2.072253,
     "end_time": "2025-07-30T13:47:30.678709",
     "exception": false,
     "start_time": "2025-07-30T13:47:28.606456",
     "status": "completed"
    },
    "tags": []
   },
   "outputs": [],
   "source": [
    "example_universe = universe.copy()\n",
    "example_universe[\"cutoff\"] = example_universe[\"cutoff\"][0]\n",
    "example_universe[\"eval_fairness_grouping\"] = example_universe[\"eval_fairness_grouping\"][0]\n",
    "fairness_dict, metric_frame = universe_analysis.compute_metrics(\n",
    "    example_universe,\n",
    "    y_pred_prob=probs_test,\n",
    "    y_test=y_true,\n",
    "    org_test=org_test,\n",
    ")"
   ]
  },
  {
   "cell_type": "markdown",
   "id": "f95d4e02",
   "metadata": {
    "papermill": {
     "duration": 0.013967,
     "end_time": "2025-07-30T13:47:30.707679",
     "exception": false,
     "start_time": "2025-07-30T13:47:30.693712",
     "status": "completed"
    },
    "tags": []
   },
   "source": [
    "# Overall"
   ]
  },
  {
   "cell_type": "markdown",
   "id": "bdee4871",
   "metadata": {
    "papermill": {
     "duration": 0.013606,
     "end_time": "2025-07-30T13:47:30.735212",
     "exception": false,
     "start_time": "2025-07-30T13:47:30.721606",
     "status": "completed"
    },
    "tags": []
   },
   "source": [
    "Fairness\n",
    "Main fairness target: Equalized Odds. Seems to be a better fit than equal opportunity, since we're not only interested in Y = 1. Seems to be a better fit than demographic parity, since we also care about accuracy, not just equal distribution of preds.\n",
    "\n",
    "Pick column for computation of fairness metrics\n",
    "\n",
    "Performance\n",
    "Overall performance measures, most interesting in relation to the measures split by group below"
   ]
  },
  {
   "cell_type": "code",
   "execution_count": 74,
   "id": "c4e067c6",
   "metadata": {
    "execution": {
     "iopub.execute_input": "2025-07-30T13:47:30.764545Z",
     "iopub.status.busy": "2025-07-30T13:47:30.763980Z",
     "iopub.status.idle": "2025-07-30T13:47:30.771220Z",
     "shell.execute_reply": "2025-07-30T13:47:30.770553Z"
    },
    "papermill": {
     "duration": 0.023803,
     "end_time": "2025-07-30T13:47:30.772640",
     "exception": false,
     "start_time": "2025-07-30T13:47:30.748837",
     "status": "completed"
    },
    "tags": []
   },
   "outputs": [
    {
     "data": {
      "text/plain": [
       "accuracy                   0.217066\n",
       "balanced accuracy          0.532287\n",
       "f1                         0.238599\n",
       "precision                  0.136303\n",
       "false positive rate        0.891716\n",
       "false negative rate        0.043709\n",
       "selection rate             0.900000\n",
       "count                  89710.000000\n",
       "dtype: float64"
      ]
     },
     "execution_count": 74,
     "metadata": {},
     "output_type": "execute_result"
    }
   ],
   "source": [
    "metric_frame.overall"
   ]
  },
  {
   "cell_type": "markdown",
   "id": "e968fe9d",
   "metadata": {
    "papermill": {
     "duration": 0.01383,
     "end_time": "2025-07-30T13:47:30.801669",
     "exception": false,
     "start_time": "2025-07-30T13:47:30.787839",
     "status": "completed"
    },
    "tags": []
   },
   "source": [
    "By Group"
   ]
  },
  {
   "cell_type": "code",
   "execution_count": 75,
   "id": "ec325bce",
   "metadata": {
    "execution": {
     "iopub.execute_input": "2025-07-30T13:47:30.830957Z",
     "iopub.status.busy": "2025-07-30T13:47:30.830428Z",
     "iopub.status.idle": "2025-07-30T13:47:30.843251Z",
     "shell.execute_reply": "2025-07-30T13:47:30.842481Z"
    },
    "papermill": {
     "duration": 0.029163,
     "end_time": "2025-07-30T13:47:30.844687",
     "exception": false,
     "start_time": "2025-07-30T13:47:30.815524",
     "status": "completed"
    },
    "tags": []
   },
   "outputs": [
    {
     "data": {
      "text/html": [
       "<div>\n",
       "<style scoped>\n",
       "    .dataframe tbody tr th:only-of-type {\n",
       "        vertical-align: middle;\n",
       "    }\n",
       "\n",
       "    .dataframe tbody tr th {\n",
       "        vertical-align: top;\n",
       "    }\n",
       "\n",
       "    .dataframe thead th {\n",
       "        text-align: right;\n",
       "    }\n",
       "</style>\n",
       "<table border=\"1\" class=\"dataframe\">\n",
       "  <thead>\n",
       "    <tr style=\"text-align: right;\">\n",
       "      <th></th>\n",
       "      <th>accuracy</th>\n",
       "      <th>balanced accuracy</th>\n",
       "      <th>f1</th>\n",
       "      <th>precision</th>\n",
       "      <th>false positive rate</th>\n",
       "      <th>false negative rate</th>\n",
       "      <th>selection rate</th>\n",
       "      <th>count</th>\n",
       "    </tr>\n",
       "    <tr>\n",
       "      <th>majmin</th>\n",
       "      <th></th>\n",
       "      <th></th>\n",
       "      <th></th>\n",
       "      <th></th>\n",
       "      <th></th>\n",
       "      <th></th>\n",
       "      <th></th>\n",
       "      <th></th>\n",
       "    </tr>\n",
       "  </thead>\n",
       "  <tbody>\n",
       "    <tr>\n",
       "      <th>majority</th>\n",
       "      <td>0.238340</td>\n",
       "      <td>0.539900</td>\n",
       "      <td>0.247866</td>\n",
       "      <td>0.142531</td>\n",
       "      <td>0.869982</td>\n",
       "      <td>0.050219</td>\n",
       "      <td>0.880526</td>\n",
       "      <td>69170.0</td>\n",
       "    </tr>\n",
       "    <tr>\n",
       "      <th>minority</th>\n",
       "      <td>0.145424</td>\n",
       "      <td>0.508952</td>\n",
       "      <td>0.209360</td>\n",
       "      <td>0.117178</td>\n",
       "      <td>0.963515</td>\n",
       "      <td>0.018581</td>\n",
       "      <td>0.965579</td>\n",
       "      <td>20540.0</td>\n",
       "    </tr>\n",
       "  </tbody>\n",
       "</table>\n",
       "</div>"
      ],
      "text/plain": [
       "          accuracy  balanced accuracy        f1  precision  \\\n",
       "majmin                                                       \n",
       "majority  0.238340           0.539900  0.247866   0.142531   \n",
       "minority  0.145424           0.508952  0.209360   0.117178   \n",
       "\n",
       "          false positive rate  false negative rate  selection rate    count  \n",
       "majmin                                                                       \n",
       "majority             0.869982             0.050219        0.880526  69170.0  \n",
       "minority             0.963515             0.018581        0.965579  20540.0  "
      ]
     },
     "execution_count": 75,
     "metadata": {},
     "output_type": "execute_result"
    }
   ],
   "source": [
    "metric_frame.by_group"
   ]
  },
  {
   "cell_type": "code",
   "execution_count": 76,
   "id": "a9ddbe63",
   "metadata": {
    "execution": {
     "iopub.execute_input": "2025-07-30T13:47:30.875474Z",
     "iopub.status.busy": "2025-07-30T13:47:30.874996Z",
     "iopub.status.idle": "2025-07-30T13:47:32.477486Z",
     "shell.execute_reply": "2025-07-30T13:47:32.476775Z"
    },
    "papermill": {
     "duration": 1.618816,
     "end_time": "2025-07-30T13:47:32.478771",
     "exception": false,
     "start_time": "2025-07-30T13:47:30.859955",
     "status": "completed"
    },
    "tags": []
   },
   "outputs": [
    {
     "data": {
      "text/plain": [
       "array([[<Axes: title={'center': 'accuracy'}, xlabel='majmin'>,\n",
       "        <Axes: title={'center': 'balanced accuracy'}, xlabel='majmin'>,\n",
       "        <Axes: title={'center': 'f1'}, xlabel='majmin'>],\n",
       "       [<Axes: title={'center': 'precision'}, xlabel='majmin'>,\n",
       "        <Axes: title={'center': 'false positive rate'}, xlabel='majmin'>,\n",
       "        <Axes: title={'center': 'false negative rate'}, xlabel='majmin'>],\n",
       "       [<Axes: title={'center': 'selection rate'}, xlabel='majmin'>,\n",
       "        <Axes: title={'center': 'count'}, xlabel='majmin'>,\n",
       "        <Axes: xlabel='majmin'>]], dtype=object)"
      ]
     },
     "execution_count": 76,
     "metadata": {},
     "output_type": "execute_result"
    },
    {
     "data": {
      "image/png": "[encoded data removed]",
      "text/plain": [
       "<Figure size 1200x800 with 9 Axes>"
      ]
     },
     "metadata": {},
     "output_type": "display_data"
    }
   ],
   "source": [
    "# In a graphic\n",
    "metric_frame.by_group.plot.bar(\n",
    "    subplots=True,\n",
    "    layout=[3, 3],\n",
    "    legend=False,\n",
    "    figsize=[12, 8],\n",
    "    title=\"Show all metrics\",\n",
    ")"
   ]
  },
  {
   "cell_type": "markdown",
   "id": "f57a0bac",
   "metadata": {
    "papermill": {
     "duration": 0.020967,
     "end_time": "2025-07-30T13:47:32.515780",
     "exception": false,
     "start_time": "2025-07-30T13:47:32.494813",
     "status": "completed"
    },
    "tags": []
   },
   "source": [
    "# Final Output"
   ]
  },
  {
   "cell_type": "code",
   "execution_count": 77,
   "id": "96d280a3",
   "metadata": {
    "execution": {
     "iopub.execute_input": "2025-07-30T13:47:32.549011Z",
     "iopub.status.busy": "2025-07-30T13:47:32.548527Z",
     "iopub.status.idle": "2025-07-30T13:47:32.555906Z",
     "shell.execute_reply": "2025-07-30T13:47:32.555150Z"
    },
    "papermill": {
     "duration": 0.025676,
     "end_time": "2025-07-30T13:47:32.557306",
     "exception": false,
     "start_time": "2025-07-30T13:47:32.531630",
     "status": "completed"
    },
    "tags": []
   },
   "outputs": [
    {
     "data": {
      "text/plain": [
       "4"
      ]
     },
     "execution_count": 77,
     "metadata": {},
     "output_type": "execute_result"
    }
   ],
   "source": [
    "sub_universes = universe_analysis.generate_sub_universes()\n",
    "len(sub_universes)"
   ]
  },
  {
   "cell_type": "code",
   "execution_count": 78,
   "id": "92adf7ba",
   "metadata": {
    "execution": {
     "iopub.execute_input": "2025-07-30T13:47:32.592221Z",
     "iopub.status.busy": "2025-07-30T13:47:32.591635Z",
     "iopub.status.idle": "2025-07-30T13:47:32.597657Z",
     "shell.execute_reply": "2025-07-30T13:47:32.596998Z"
    },
    "papermill": {
     "duration": 0.024727,
     "end_time": "2025-07-30T13:47:32.598919",
     "exception": false,
     "start_time": "2025-07-30T13:47:32.574192",
     "status": "completed"
    },
    "tags": []
   },
   "outputs": [],
   "source": [
    "def filter_sub_universe_data(sub_universe, org_test):\n",
    "    # Keep all rows — no filtering\n",
    "    keep_rows_mask = np.ones(org_test.shape[0], dtype=bool)\n",
    "\n",
    "    print(f\"[INFO] Keeping all rows: {keep_rows_mask.sum()} rows retained.\")\n",
    "    return keep_rows_mask"
   ]
  },
  {
   "cell_type": "code",
   "execution_count": 79,
   "id": "4a759155",
   "metadata": {
    "execution": {
     "iopub.execute_input": "2025-07-30T13:47:32.642963Z",
     "iopub.status.busy": "2025-07-30T13:47:32.642399Z",
     "iopub.status.idle": "2025-07-30T13:47:42.098118Z",
     "shell.execute_reply": "2025-07-30T13:47:42.097086Z"
    },
    "papermill": {
     "duration": 9.482965,
     "end_time": "2025-07-30T13:47:42.099712",
     "exception": false,
     "start_time": "2025-07-30T13:47:32.616747",
     "status": "completed"
    },
    "tags": []
   },
   "outputs": [
    {
     "name": "stdout",
     "output_type": "stream",
     "text": [
      "Stopping execution_time clock.\n",
      "[INFO] Keeping all rows: 89710 rows retained.\n"
     ]
    },
    {
     "name": "stdout",
     "output_type": "stream",
     "text": [
      "[INFO] Keeping all rows: 89710 rows retained.\n"
     ]
    },
    {
     "name": "stdout",
     "output_type": "stream",
     "text": [
      "[INFO] Keeping all rows: 89710 rows retained.\n"
     ]
    },
    {
     "name": "stdout",
     "output_type": "stream",
     "text": [
      "[INFO] Keeping all rows: 89710 rows retained.\n"
     ]
    },
    {
     "data": {
      "text/html": [
       "<div>\n",
       "<style scoped>\n",
       "    .dataframe tbody tr th:only-of-type {\n",
       "        vertical-align: middle;\n",
       "    }\n",
       "\n",
       "    .dataframe tbody tr th {\n",
       "        vertical-align: top;\n",
       "    }\n",
       "\n",
       "    .dataframe thead th {\n",
       "        text-align: right;\n",
       "    }\n",
       "</style>\n",
       "<table border=\"1\" class=\"dataframe\">\n",
       "  <thead>\n",
       "    <tr style=\"text-align: right;\">\n",
       "      <th></th>\n",
       "      <th>run_no</th>\n",
       "      <th>universe_id</th>\n",
       "      <th>universe_settings</th>\n",
       "      <th>execution_time</th>\n",
       "      <th>test_size_n</th>\n",
       "      <th>test_size_frac</th>\n",
       "      <th>fair_main_equalized_odds_difference</th>\n",
       "      <th>fair_main_equalized_odds_ratio</th>\n",
       "      <th>fair_main_demographic_parity_difference</th>\n",
       "      <th>fair_main_demographic_parity_ratio</th>\n",
       "      <th>...</th>\n",
       "      <th>perf_grp_precision_0</th>\n",
       "      <th>perf_grp_precision_1</th>\n",
       "      <th>perf_grp_false positive rate_0</th>\n",
       "      <th>perf_grp_false positive rate_1</th>\n",
       "      <th>perf_grp_false negative rate_0</th>\n",
       "      <th>perf_grp_false negative rate_1</th>\n",
       "      <th>perf_grp_selection rate_0</th>\n",
       "      <th>perf_grp_selection rate_1</th>\n",
       "      <th>perf_grp_count_0</th>\n",
       "      <th>perf_grp_count_1</th>\n",
       "    </tr>\n",
       "  </thead>\n",
       "  <tbody>\n",
       "    <tr>\n",
       "      <th>0</th>\n",
       "      <td>12</td>\n",
       "      <td>398cb5e5f92a08d4906e323c29e4baaf</td>\n",
       "      <td>{\"cutoff\": \"quantile_0.1\", \"eval_fairness_grou...</td>\n",
       "      <td>26.070815</td>\n",
       "      <td>89710</td>\n",
       "      <td>1.0</td>\n",
       "      <td>0.093534</td>\n",
       "      <td>0.902925</td>\n",
       "      <td>0.085053</td>\n",
       "      <td>0.911915</td>\n",
       "      <td>...</td>\n",
       "      <td>NaN</td>\n",
       "      <td>NaN</td>\n",
       "      <td>NaN</td>\n",
       "      <td>NaN</td>\n",
       "      <td>NaN</td>\n",
       "      <td>NaN</td>\n",
       "      <td>NaN</td>\n",
       "      <td>NaN</td>\n",
       "      <td>NaN</td>\n",
       "      <td>NaN</td>\n",
       "    </tr>\n",
       "    <tr>\n",
       "      <th>0</th>\n",
       "      <td>12</td>\n",
       "      <td>398cb5e5f92a08d4906e323c29e4baaf</td>\n",
       "      <td>{\"cutoff\": \"quantile_0.1\", \"eval_fairness_grou...</td>\n",
       "      <td>26.070815</td>\n",
       "      <td>89710</td>\n",
       "      <td>1.0</td>\n",
       "      <td>0.093534</td>\n",
       "      <td>0.902925</td>\n",
       "      <td>0.085053</td>\n",
       "      <td>0.911915</td>\n",
       "      <td>...</td>\n",
       "      <td>0.117178</td>\n",
       "      <td>0.142531</td>\n",
       "      <td>0.963515</td>\n",
       "      <td>0.869982</td>\n",
       "      <td>0.018581</td>\n",
       "      <td>0.050219</td>\n",
       "      <td>0.965579</td>\n",
       "      <td>0.880526</td>\n",
       "      <td>20540.0</td>\n",
       "      <td>69170.0</td>\n",
       "    </tr>\n",
       "    <tr>\n",
       "      <th>0</th>\n",
       "      <td>12</td>\n",
       "      <td>398cb5e5f92a08d4906e323c29e4baaf</td>\n",
       "      <td>{\"cutoff\": \"quantile_0.25\", \"eval_fairness_gro...</td>\n",
       "      <td>26.070815</td>\n",
       "      <td>89710</td>\n",
       "      <td>1.0</td>\n",
       "      <td>0.218994</td>\n",
       "      <td>0.756557</td>\n",
       "      <td>0.201495</td>\n",
       "      <td>0.777441</td>\n",
       "      <td>...</td>\n",
       "      <td>NaN</td>\n",
       "      <td>NaN</td>\n",
       "      <td>NaN</td>\n",
       "      <td>NaN</td>\n",
       "      <td>NaN</td>\n",
       "      <td>NaN</td>\n",
       "      <td>NaN</td>\n",
       "      <td>NaN</td>\n",
       "      <td>NaN</td>\n",
       "      <td>NaN</td>\n",
       "    </tr>\n",
       "    <tr>\n",
       "      <th>0</th>\n",
       "      <td>12</td>\n",
       "      <td>398cb5e5f92a08d4906e323c29e4baaf</td>\n",
       "      <td>{\"cutoff\": \"quantile_0.25\", \"eval_fairness_gro...</td>\n",
       "      <td>26.070815</td>\n",
       "      <td>89710</td>\n",
       "      <td>1.0</td>\n",
       "      <td>0.218994</td>\n",
       "      <td>0.756557</td>\n",
       "      <td>0.201495</td>\n",
       "      <td>0.777441</td>\n",
       "      <td>...</td>\n",
       "      <td>0.120940</td>\n",
       "      <td>0.160847</td>\n",
       "      <td>0.899571</td>\n",
       "      <td>0.680576</td>\n",
       "      <td>0.050253</td>\n",
       "      <td>0.143217</td>\n",
       "      <td>0.905355</td>\n",
       "      <td>0.703860</td>\n",
       "      <td>20540.0</td>\n",
       "      <td>69170.0</td>\n",
       "    </tr>\n",
       "  </tbody>\n",
       "</table>\n",
       "<p>4 rows × 50 columns</p>\n",
       "</div>"
      ],
      "text/plain": [
       "  run_no                       universe_id  \\\n",
       "0     12  398cb5e5f92a08d4906e323c29e4baaf   \n",
       "0     12  398cb5e5f92a08d4906e323c29e4baaf   \n",
       "0     12  398cb5e5f92a08d4906e323c29e4baaf   \n",
       "0     12  398cb5e5f92a08d4906e323c29e4baaf   \n",
       "\n",
       "                                   universe_settings  execution_time  \\\n",
       "0  {\"cutoff\": \"quantile_0.1\", \"eval_fairness_grou...       26.070815   \n",
       "0  {\"cutoff\": \"quantile_0.1\", \"eval_fairness_grou...       26.070815   \n",
       "0  {\"cutoff\": \"quantile_0.25\", \"eval_fairness_gro...       26.070815   \n",
       "0  {\"cutoff\": \"quantile_0.25\", \"eval_fairness_gro...       26.070815   \n",
       "\n",
       "   test_size_n  test_size_frac  fair_main_equalized_odds_difference  \\\n",
       "0        89710             1.0                             0.093534   \n",
       "0        89710             1.0                             0.093534   \n",
       "0        89710             1.0                             0.218994   \n",
       "0        89710             1.0                             0.218994   \n",
       "\n",
       "   fair_main_equalized_odds_ratio  fair_main_demographic_parity_difference  \\\n",
       "0                        0.902925                                 0.085053   \n",
       "0                        0.902925                                 0.085053   \n",
       "0                        0.756557                                 0.201495   \n",
       "0                        0.756557                                 0.201495   \n",
       "\n",
       "   fair_main_demographic_parity_ratio  ...  perf_grp_precision_0  \\\n",
       "0                            0.911915  ...                   NaN   \n",
       "0                            0.911915  ...              0.117178   \n",
       "0                            0.777441  ...                   NaN   \n",
       "0                            0.777441  ...              0.120940   \n",
       "\n",
       "   perf_grp_precision_1  perf_grp_false positive rate_0  \\\n",
       "0                   NaN                             NaN   \n",
       "0              0.142531                        0.963515   \n",
       "0                   NaN                             NaN   \n",
       "0              0.160847                        0.899571   \n",
       "\n",
       "   perf_grp_false positive rate_1  perf_grp_false negative rate_0  \\\n",
       "0                             NaN                             NaN   \n",
       "0                        0.869982                        0.018581   \n",
       "0                             NaN                             NaN   \n",
       "0                        0.680576                        0.050253   \n",
       "\n",
       "   perf_grp_false negative rate_1  perf_grp_selection rate_0  \\\n",
       "0                             NaN                        NaN   \n",
       "0                        0.050219                   0.965579   \n",
       "0                             NaN                        NaN   \n",
       "0                        0.143217                   0.905355   \n",
       "\n",
       "   perf_grp_selection rate_1  perf_grp_count_0  perf_grp_count_1  \n",
       "0                        NaN               NaN               NaN  \n",
       "0                   0.880526           20540.0           69170.0  \n",
       "0                        NaN               NaN               NaN  \n",
       "0                   0.703860           20540.0           69170.0  \n",
       "\n",
       "[4 rows x 50 columns]"
      ]
     },
     "execution_count": 79,
     "metadata": {},
     "output_type": "execute_result"
    }
   ],
   "source": [
    "final_output = universe_analysis.generate_final_output(\n",
    "    y_pred_prob=probs_test,\n",
    "    y_test=y_true,\n",
    "    org_test=org_test,\n",
    "    filter_data=filter_sub_universe_data,\n",
    "    cp_metrics_df=cp_metrics_df,\n",
    "    save=True,\n",
    ")\n",
    "final_output"
   ]
  },
  {
   "cell_type": "code",
   "execution_count": null,
   "id": "721ff514-cb11-46f8-b6fc-50392f74b5cb",
   "metadata": {
    "papermill": {
     "duration": 0.031864,
     "end_time": "2025-07-30T13:47:42.169886",
     "exception": false,
     "start_time": "2025-07-30T13:47:42.138022",
     "status": "completed"
    },
    "tags": []
   },
   "outputs": [],
   "source": []
  }
 ],
 "metadata": {
  "celltoolbar": "Tags",
  "kernelspec": {
   "display_name": "Python (CMA Fairness)",
   "language": "python",
   "name": "cma_fair_env"
  },
  "language_info": {
   "codemirror_mode": {
    "name": "ipython",
    "version": 3
   },
   "file_extension": ".py",
   "mimetype": "text/x-python",
   "name": "python",
   "nbconvert_exporter": "python",
   "pygments_lexer": "ipython3",
   "version": "3.10.12"
  },
  "papermill": {
   "default_parameters": {},
   "duration": 39.627301,
   "end_time": "2025-07-30T13:47:42.912958",
   "environment_variables": {},
   "exception": null,
   "input_path": "universe_analysis.ipynb",
   "output_path": "output/runs/12/notebooks/m_12-398cb5e5f92a08d4906e323c29e4baaf.ipynb",
   "parameters": {
    "output_dir": "output",
    "run_no": "12",
    "seed": "2023",
    "universe": "{\"cutoff\": [\"quantile_0.1\", \"quantile_0.25\"], \"eval_fairness_grouping\": [\"majority-minority\", \"nationality-all\"], \"exclude_features\": \"nationality\", \"exclude_subgroups\": \"drop-non-german\", \"model\": \"logreg\", \"scale\": \"do-not-scale\", \"training_size\": \"5k\", \"training_year\": \"2014\"}",
    "universe_id": "398cb5e5f92a08d4906e323c29e4baaf"
   },
   "start_time": "2025-07-30T13:47:03.285657",
   "version": "2.6.0"
  }
 },
 "nbformat": 4,
 "nbformat_minor": 5
}