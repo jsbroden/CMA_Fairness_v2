{
 "cells": [
  {
   "cell_type": "code",
   "execution_count": 1,
   "id": "f159f837-637b-42ba-96b5-ec9a68c44524",
   "metadata": {
    "execution": {
     "iopub.execute_input": "2025-07-30T13:57:03.358038Z",
     "iopub.status.busy": "2025-07-30T13:57:03.357583Z",
     "iopub.status.idle": "2025-07-30T13:57:03.379129Z",
     "shell.execute_reply": "2025-07-30T13:57:03.377279Z"
    },
    "papermill": {
     "duration": 0.045264,
     "end_time": "2025-07-30T13:57:03.381415",
     "exception": false,
     "start_time": "2025-07-30T13:57:03.336151",
     "status": "completed"
    },
    "tags": []
   },
   "outputs": [
    {
     "name": "stdout",
     "output_type": "stream",
     "text": [
      "/dss/dsshome1/0C/ra93lal2/cma/CMA_Fairness_v2\n"
     ]
    },
    {
     "name": "stderr",
     "output_type": "stream",
     "text": [
      "/dss/dsshome1/0C/ra93lal2/.local/share/virtualenvs/CMA_Fairness_v2-3j10GkSs/lib/python3.10/site-packages/IPython/core/magics/osm.py:393: UserWarning: This is now an optional IPython functionality, using bookmarks requires you to install the `pickleshare` library.\n",
      "  bkms = self.shell.db.get('bookmarks', {})\n",
      "/dss/dsshome1/0C/ra93lal2/.local/share/virtualenvs/CMA_Fairness_v2-3j10GkSs/lib/python3.10/site-packages/IPython/core/magics/osm.py:417: UserWarning: This is now an optional IPython functionality, setting dhist requires you to install the `pickleshare` library.\n",
      "  self.shell.db['dhist'] = compress_dhist(dhist)[-100:]\n"
     ]
    }
   ],
   "source": [
    "%cd ~/cma/CMA_Fairness_v2"
   ]
  },
  {
   "cell_type": "markdown",
   "id": "de2603b9",
   "metadata": {
    "papermill": {
     "duration": 0.019757,
     "end_time": "2025-07-30T13:57:03.423072",
     "exception": false,
     "start_time": "2025-07-30T13:57:03.403315",
     "status": "completed"
    },
    "tags": []
   },
   "source": [
    "The following cell holds the definition of our parameters, these values can be overriden by rendering the with e.g. the following command:\n",
    "\n",
    "papermill -p alpha 0.2 -p ratio 0.3 universe_analysis.ipynb output/test_run.ipynb"
   ]
  },
  {
   "cell_type": "code",
   "execution_count": 2,
   "id": "a80968a0-40bb-4fa9-85ef-2d5eefb01975",
   "metadata": {
    "execution": {
     "iopub.execute_input": "2025-07-30T13:57:03.466534Z",
     "iopub.status.busy": "2025-07-30T13:57:03.466045Z",
     "iopub.status.idle": "2025-07-30T13:57:03.474397Z",
     "shell.execute_reply": "2025-07-30T13:57:03.473264Z"
    },
    "papermill": {
     "duration": 0.032563,
     "end_time": "2025-07-30T13:57:03.476204",
     "exception": false,
     "start_time": "2025-07-30T13:57:03.443641",
     "status": "completed"
    },
    "tags": []
   },
   "outputs": [
    {
     "name": "stdout",
     "output_type": "stream",
     "text": [
      "Current working directory: /dss/dsshome1/0C/ra93lal2/cma/CMA_Fairness_v2\n"
     ]
    }
   ],
   "source": [
    "import os\n",
    "print(\"Current working directory:\", os.getcwd())"
   ]
  },
  {
   "cell_type": "code",
   "execution_count": 3,
   "id": "2dce4c03",
   "metadata": {
    "execution": {
     "iopub.execute_input": "2025-07-30T13:57:03.521625Z",
     "iopub.status.busy": "2025-07-30T13:57:03.521129Z",
     "iopub.status.idle": "2025-07-30T13:57:03.527512Z",
     "shell.execute_reply": "2025-07-30T13:57:03.526553Z"
    },
    "papermill": {
     "duration": 0.031474,
     "end_time": "2025-07-30T13:57:03.530698",
     "exception": false,
     "start_time": "2025-07-30T13:57:03.499224",
     "status": "completed"
    },
    "tags": [
     "parameters"
    ]
   },
   "outputs": [],
   "source": [
    "run_no = 0\n",
    "universe_id = \"test\"\n",
    "universe = {\n",
    "    \"training_size\": \"25k\", # \"25k\", \"5k\", \"1k\"\n",
    "    \"training_year\": \"2014\", # \"2014\", \"2012_14\", \"2010_14\"\n",
    "    \"scale\": \"scale\", # \"scale\", \"do-not-scale\",\n",
    "    #\"stratify_split\": \"target\", # \"none\", \"target\", \"protected-attribute\", \"both\",\n",
    "    \"model\": \"elasticnet\", # \"logreg\", \"penalized_logreg\", \"rf\", \"gbm\", \"elasticnet\"\n",
    "    \"cutoff\": [\"quantile_0.15\", \"quantile_0.30\"],\n",
    "    \"exclude_features\": \"age\", # \"none\", \"nationality\", \"sex\", \"nationality-sex\", \"age\"\n",
    "    \"exclude_subgroups\": \"keep-all\", # \"keep-all\", \"drop-non-german\"\n",
    "    \"eval_fairness_grouping\": [\"majority-minority\", \"nationality-all\"]\n",
    "}\n",
    "\n",
    "output_dir=\"./output\"\n",
    "seed=0"
   ]
  },
  {
   "cell_type": "code",
   "execution_count": 4,
   "id": "86b83579",
   "metadata": {
    "execution": {
     "iopub.execute_input": "2025-07-30T13:57:03.582806Z",
     "iopub.status.busy": "2025-07-30T13:57:03.582406Z",
     "iopub.status.idle": "2025-07-30T13:57:03.587816Z",
     "shell.execute_reply": "2025-07-30T13:57:03.586846Z"
    },
    "papermill": {
     "duration": 0.038054,
     "end_time": "2025-07-30T13:57:03.589699",
     "exception": false,
     "start_time": "2025-07-30T13:57:03.551645",
     "status": "completed"
    },
    "tags": [
     "injected-parameters"
    ]
   },
   "outputs": [],
   "source": [
    "# Parameters\n",
    "universe_id = \"cec8bf8b5ee7d9a03eab2fa29d6f898a\"\n",
    "run_no = \"12\"\n",
    "universe = \"{\\\"cutoff\\\": [\\\"quantile_0.1\\\", \\\"quantile_0.25\\\"], \\\"eval_fairness_grouping\\\": [\\\"majority-minority\\\", \\\"nationality-all\\\"], \\\"exclude_features\\\": \\\"sex\\\", \\\"exclude_subgroups\\\": \\\"keep-all\\\", \\\"model\\\": \\\"gbm\\\", \\\"scale\\\": \\\"scale\\\", \\\"training_size\\\": \\\"5k\\\", \\\"training_year\\\": \\\"2012_14\\\"}\"\n",
    "output_dir = \"output\"\n",
    "seed = \"2023\"\n"
   ]
  },
  {
   "cell_type": "code",
   "execution_count": 5,
   "id": "1650acaf",
   "metadata": {
    "execution": {
     "iopub.execute_input": "2025-07-30T13:57:03.631943Z",
     "iopub.status.busy": "2025-07-30T13:57:03.631525Z",
     "iopub.status.idle": "2025-07-30T13:57:03.636835Z",
     "shell.execute_reply": "2025-07-30T13:57:03.635711Z"
    },
    "papermill": {
     "duration": 0.028711,
     "end_time": "2025-07-30T13:57:03.638540",
     "exception": false,
     "start_time": "2025-07-30T13:57:03.609829",
     "status": "completed"
    },
    "tags": []
   },
   "outputs": [],
   "source": [
    "import json\n",
    "# Parse universe into dict if it is passed as a string\n",
    "if isinstance(universe, str):\n",
    "    universe = json.loads(universe)"
   ]
  },
  {
   "cell_type": "code",
   "execution_count": 6,
   "id": "16620c48",
   "metadata": {
    "execution": {
     "iopub.execute_input": "2025-07-30T13:57:03.681073Z",
     "iopub.status.busy": "2025-07-30T13:57:03.680672Z",
     "iopub.status.idle": "2025-07-30T13:57:03.727526Z",
     "shell.execute_reply": "2025-07-30T13:57:03.726535Z"
    },
    "papermill": {
     "duration": 0.070413,
     "end_time": "2025-07-30T13:57:03.729362",
     "exception": false,
     "start_time": "2025-07-30T13:57:03.658949",
     "status": "completed"
    },
    "tags": []
   },
   "outputs": [],
   "source": [
    "# Auto-reload the custom package\n",
    "%load_ext autoreload\n",
    "%autoreload 1\n",
    "%aimport fairness_multiverse"
   ]
  },
  {
   "cell_type": "code",
   "execution_count": 7,
   "id": "01c5c9f3",
   "metadata": {
    "execution": {
     "iopub.execute_input": "2025-07-30T13:57:03.776601Z",
     "iopub.status.busy": "2025-07-30T13:57:03.776160Z",
     "iopub.status.idle": "2025-07-30T13:57:06.312669Z",
     "shell.execute_reply": "2025-07-30T13:57:06.311630Z"
    },
    "papermill": {
     "duration": 2.559496,
     "end_time": "2025-07-30T13:57:06.314427",
     "exception": false,
     "start_time": "2025-07-30T13:57:03.754931",
     "status": "completed"
    },
    "tags": []
   },
   "outputs": [],
   "source": [
    "from fairness_multiverse.universe import UniverseAnalysis\n",
    "\n",
    "universe_analysis = UniverseAnalysis(\n",
    "    run_no = run_no,\n",
    "    universe_id = universe_id,\n",
    "    universe = universe,\n",
    "    output_dir=output_dir,\n",
    ")"
   ]
  },
  {
   "cell_type": "code",
   "execution_count": 8,
   "id": "106241f5",
   "metadata": {
    "execution": {
     "iopub.execute_input": "2025-07-30T13:57:06.390838Z",
     "iopub.status.busy": "2025-07-30T13:57:06.390425Z",
     "iopub.status.idle": "2025-07-30T13:57:06.396882Z",
     "shell.execute_reply": "2025-07-30T13:57:06.395836Z"
    },
    "papermill": {
     "duration": 0.050455,
     "end_time": "2025-07-30T13:57:06.406863",
     "exception": false,
     "start_time": "2025-07-30T13:57:06.356408",
     "status": "completed"
    },
    "tags": []
   },
   "outputs": [
    {
     "name": "stdout",
     "output_type": "stream",
     "text": [
      "Using Seed: 2023\n"
     ]
    }
   ],
   "source": [
    "import numpy as np\n",
    "parsed_seed = int(seed)\n",
    "np.random.seed(parsed_seed)\n",
    "print(f\"Using Seed: {parsed_seed}\")"
   ]
  },
  {
   "cell_type": "markdown",
   "id": "e0ebdc57",
   "metadata": {
    "papermill": {
     "duration": 0.042266,
     "end_time": "2025-07-30T13:57:06.492555",
     "exception": false,
     "start_time": "2025-07-30T13:57:06.450289",
     "status": "completed"
    },
    "tags": []
   },
   "source": [
    "# Loading Data"
   ]
  },
  {
   "cell_type": "markdown",
   "id": "681925a3",
   "metadata": {
    "papermill": {
     "duration": 0.045686,
     "end_time": "2025-07-30T13:57:06.574997",
     "exception": false,
     "start_time": "2025-07-30T13:57:06.529311",
     "status": "completed"
    },
    "tags": []
   },
   "source": [
    "Load siab_train, siab_test, siab_calib and/or \n",
    "load siab_train_features, siab_train_labels"
   ]
  },
  {
   "cell_type": "code",
   "execution_count": 9,
   "id": "f0496b8a",
   "metadata": {
    "execution": {
     "iopub.execute_input": "2025-07-30T13:57:06.671302Z",
     "iopub.status.busy": "2025-07-30T13:57:06.670883Z",
     "iopub.status.idle": "2025-07-30T13:57:19.764129Z",
     "shell.execute_reply": "2025-07-30T13:57:19.762621Z"
    },
    "papermill": {
     "duration": 13.136275,
     "end_time": "2025-07-30T13:57:19.766148",
     "exception": false,
     "start_time": "2025-07-30T13:57:06.629873",
     "status": "completed"
    },
    "tags": []
   },
   "outputs": [
    {
     "name": "stdout",
     "output_type": "stream",
     "text": [
      "Loading SIAB data from cache: data/siab_cached.csv.gz\n"
     ]
    },
    {
     "name": "stdout",
     "output_type": "stream",
     "text": [
      "(643690, 164)\n"
     ]
    }
   ],
   "source": [
    "from pathlib import Path\n",
    "import pandas as pd\n",
    "\n",
    "# File paths\n",
    "raw_file = Path(\"data/raw/siab.csv\")\n",
    "cache_file = Path(\"data/siab_cached.csv.gz\")\n",
    "\n",
    "# Ensure cache directory exists\n",
    "cache_file.parent.mkdir(parents=True, exist_ok=True)\n",
    "\n",
    "# Load with simple caching\n",
    "if cache_file.exists():\n",
    "    print(f\"Loading SIAB data from cache: {cache_file}\")\n",
    "    siab = pd.read_csv(cache_file, compression='gzip')\n",
    "else:\n",
    "    print(f\"Cache not found. Reading raw SIAB data: {raw_file}\")\n",
    "    siab = pd.read_csv(raw_file)\n",
    "    siab.to_csv(cache_file, index=False, compression='gzip')\n",
    "    print(f\"Cached SIAB data to: {cache_file}\")\n",
    "\n",
    "# Now use `siab` DataFrame as needed\n",
    "print(siab.shape)"
   ]
  },
  {
   "cell_type": "code",
   "execution_count": 10,
   "id": "db0ca512-5f53-4dba-abdb-a2888bca41ba",
   "metadata": {
    "execution": {
     "iopub.execute_input": "2025-07-30T13:57:19.823278Z",
     "iopub.status.busy": "2025-07-30T13:57:19.822472Z",
     "iopub.status.idle": "2025-07-30T13:57:19.829658Z",
     "shell.execute_reply": "2025-07-30T13:57:19.828410Z"
    },
    "papermill": {
     "duration": 0.037308,
     "end_time": "2025-07-30T13:57:19.831741",
     "exception": false,
     "start_time": "2025-07-30T13:57:19.794433",
     "status": "completed"
    },
    "tags": []
   },
   "outputs": [],
   "source": [
    "#siab"
   ]
  },
  {
   "cell_type": "code",
   "execution_count": 11,
   "id": "a0edb063",
   "metadata": {
    "execution": {
     "iopub.execute_input": "2025-07-30T13:57:19.886665Z",
     "iopub.status.busy": "2025-07-30T13:57:19.885916Z",
     "iopub.status.idle": "2025-07-30T13:57:19.891929Z",
     "shell.execute_reply": "2025-07-30T13:57:19.890835Z"
    },
    "papermill": {
     "duration": 0.035402,
     "end_time": "2025-07-30T13:57:19.893804",
     "exception": false,
     "start_time": "2025-07-30T13:57:19.858402",
     "status": "completed"
    },
    "tags": []
   },
   "outputs": [],
   "source": [
    "#import pandas as pd\n",
    "#\n",
    "#X_train = pd.read_csv(\"./data/X_train.csv\")\n",
    "#y_train = pd.read_csv(\"./data/y_train.csv\")"
   ]
  },
  {
   "cell_type": "code",
   "execution_count": 12,
   "id": "63d08085",
   "metadata": {
    "execution": {
     "iopub.execute_input": "2025-07-30T13:57:19.943724Z",
     "iopub.status.busy": "2025-07-30T13:57:19.943247Z",
     "iopub.status.idle": "2025-07-30T13:57:19.948911Z",
     "shell.execute_reply": "2025-07-30T13:57:19.947578Z"
    },
    "papermill": {
     "duration": 0.032908,
     "end_time": "2025-07-30T13:57:19.950798",
     "exception": false,
     "start_time": "2025-07-30T13:57:19.917890",
     "status": "completed"
    },
    "tags": []
   },
   "outputs": [],
   "source": [
    "#X_test = pd.read_csv(\"./data/X_test.csv\")\n",
    "#y_true = pd.read_csv(\"./data/y_test.csv\")"
   ]
  },
  {
   "cell_type": "code",
   "execution_count": 13,
   "id": "98a8d0fa-1d3d-4ed8-bb2c-281470e24add",
   "metadata": {
    "execution": {
     "iopub.execute_input": "2025-07-30T13:57:20.001551Z",
     "iopub.status.busy": "2025-07-30T13:57:20.000836Z",
     "iopub.status.idle": "2025-07-30T13:57:20.007177Z",
     "shell.execute_reply": "2025-07-30T13:57:20.006031Z"
    },
    "papermill": {
     "duration": 0.033879,
     "end_time": "2025-07-30T13:57:20.009185",
     "exception": false,
     "start_time": "2025-07-30T13:57:19.975306",
     "status": "completed"
    },
    "tags": []
   },
   "outputs": [],
   "source": [
    "# Calibration data for conformal\n",
    "#X_calib = pd.read_csv(\"./data/X_calib.csv\")\n",
    "#y_calib = pd.read_csv(\"./data/y_calib.csv\")"
   ]
  },
  {
   "cell_type": "markdown",
   "id": "997051c5-15bd-4b69-9786-c3001a3ce484",
   "metadata": {
    "papermill": {
     "duration": 0.023903,
     "end_time": "2025-07-30T13:57:20.057663",
     "exception": false,
     "start_time": "2025-07-30T13:57:20.033760",
     "status": "completed"
    },
    "tags": []
   },
   "source": [
    "# Splitting Data and Setting Training Data Size"
   ]
  },
  {
   "cell_type": "code",
   "execution_count": 14,
   "id": "e993b61f-042d-41a6-8c81-f55681f86335",
   "metadata": {
    "execution": {
     "iopub.execute_input": "2025-07-30T13:57:20.106101Z",
     "iopub.status.busy": "2025-07-30T13:57:20.105548Z",
     "iopub.status.idle": "2025-07-30T13:57:20.121497Z",
     "shell.execute_reply": "2025-07-30T13:57:20.120319Z"
    },
    "papermill": {
     "duration": 0.042039,
     "end_time": "2025-07-30T13:57:20.123239",
     "exception": false,
     "start_time": "2025-07-30T13:57:20.081200",
     "status": "completed"
    },
    "tags": []
   },
   "outputs": [],
   "source": [
    "def sample_by_year_size(df,\n",
    "                        training_year: str,\n",
    "                        training_size: str,\n",
    "                        random_state: int = 42):\n",
    "    # --- parse training_year into a list of int years ---\n",
    "    if \"_\" in training_year:\n",
    "        start_str, end_str = training_year.split(\"_\", 1)\n",
    "        start = int(start_str)\n",
    "        end   = int(end_str) if len(end_str) == 4 else (int(end_str) + (start // 100)*100)\n",
    "        years = list(range(start, end + 1))\n",
    "    else:\n",
    "        years = [int(training_year)]\n",
    "\n",
    "    df = df[df[\"year\"].isin(years)].reset_index(drop=True)\n",
    "\n",
    "    # --- map training_size to total number of samples ---\n",
    "    total_map = {\"25k\": 25_000, \"5k\": 5_000, \"1k\": 1_000}\n",
    "    if training_size not in total_map:\n",
    "        return df  # e.g. \"all\"\n",
    "\n",
    "    total_samples = total_map[training_size]\n",
    "    n_years       = len(years)\n",
    "    base          = total_samples // n_years\n",
    "    remainder     = total_samples % n_years\n",
    "\n",
    "    # --- build a dict: year -> how many to sample ---\n",
    "    # give +1 to the first `remainder` years in ascending order\n",
    "    quotas = {\n",
    "        year: base + (1 if idx < remainder else 0)\n",
    "        for idx, year in enumerate(sorted(years))\n",
    "    }\n",
    "\n",
    "    # --- sample per‐year according to the quota dict ---\n",
    "    sampled = (\n",
    "        df\n",
    "        .groupby(\"year\", group_keys=False)\n",
    "        .apply(lambda grp: grp.sample(\n",
    "            n=min(len(grp), quotas[grp.name]),\n",
    "            random_state=random_state))\n",
    "        .reset_index(drop=True)\n",
    "    )\n",
    "\n",
    "    return sampled"
   ]
  },
  {
   "cell_type": "code",
   "execution_count": 15,
   "id": "c0ccd338-0e02-41f3-a09d-f56f9266e3fb",
   "metadata": {
    "execution": {
     "iopub.execute_input": "2025-07-30T13:57:20.173381Z",
     "iopub.status.busy": "2025-07-30T13:57:20.172206Z",
     "iopub.status.idle": "2025-07-30T13:57:20.185685Z",
     "shell.execute_reply": "2025-07-30T13:57:20.184628Z"
    },
    "papermill": {
     "duration": 0.039951,
     "end_time": "2025-07-30T13:57:20.187517",
     "exception": false,
     "start_time": "2025-07-30T13:57:20.147566",
     "status": "completed"
    },
    "tags": []
   },
   "outputs": [
    {
     "data": {
      "text/plain": [
       "'5k'"
      ]
     },
     "execution_count": 15,
     "metadata": {},
     "output_type": "execute_result"
    }
   ],
   "source": [
    "universe[\"training_size\"]"
   ]
  },
  {
   "cell_type": "code",
   "execution_count": 16,
   "id": "ca707fd7-8047-4acd-bfa5-66248fbbf8e6",
   "metadata": {
    "execution": {
     "iopub.execute_input": "2025-07-30T13:57:20.239716Z",
     "iopub.status.busy": "2025-07-30T13:57:20.238811Z",
     "iopub.status.idle": "2025-07-30T13:57:20.247542Z",
     "shell.execute_reply": "2025-07-30T13:57:20.246466Z"
    },
    "papermill": {
     "duration": 0.037437,
     "end_time": "2025-07-30T13:57:20.249408",
     "exception": false,
     "start_time": "2025-07-30T13:57:20.211971",
     "status": "completed"
    },
    "tags": []
   },
   "outputs": [
    {
     "data": {
      "text/plain": [
       "'2012_14'"
      ]
     },
     "execution_count": 16,
     "metadata": {},
     "output_type": "execute_result"
    }
   ],
   "source": [
    "universe[\"training_year\"]"
   ]
  },
  {
   "cell_type": "code",
   "execution_count": 17,
   "id": "aea9c6ef-6f46-42c8-85eb-5a62025c1508",
   "metadata": {
    "execution": {
     "iopub.execute_input": "2025-07-30T13:57:20.300208Z",
     "iopub.status.busy": "2025-07-30T13:57:20.299215Z",
     "iopub.status.idle": "2025-07-30T13:57:21.368276Z",
     "shell.execute_reply": "2025-07-30T13:57:21.367113Z"
    },
    "papermill": {
     "duration": 1.096765,
     "end_time": "2025-07-30T13:57:21.370762",
     "exception": false,
     "start_time": "2025-07-30T13:57:20.273997",
     "status": "completed"
    },
    "tags": []
   },
   "outputs": [],
   "source": [
    "siab_train = sample_by_year_size(siab,\n",
    "                               training_year=universe[\"training_year\"],\n",
    "                               training_size=universe[\"training_size\"])"
   ]
  },
  {
   "cell_type": "code",
   "execution_count": 18,
   "id": "8d3afb32-789d-442c-8d5d-9f5aa8dd2eed",
   "metadata": {
    "execution": {
     "iopub.execute_input": "2025-07-30T13:57:21.431975Z",
     "iopub.status.busy": "2025-07-30T13:57:21.431552Z",
     "iopub.status.idle": "2025-07-30T13:57:21.439919Z",
     "shell.execute_reply": "2025-07-30T13:57:21.439000Z"
    },
    "papermill": {
     "duration": 0.041347,
     "end_time": "2025-07-30T13:57:21.441917",
     "exception": false,
     "start_time": "2025-07-30T13:57:21.400570",
     "status": "completed"
    },
    "tags": []
   },
   "outputs": [
    {
     "data": {
      "text/plain": [
       "(5000, 164)"
      ]
     },
     "execution_count": 18,
     "metadata": {},
     "output_type": "execute_result"
    }
   ],
   "source": [
    "siab_train.shape"
   ]
  },
  {
   "cell_type": "code",
   "execution_count": 19,
   "id": "d582db68-1a4c-47fb-84fc-08518dc1975a",
   "metadata": {
    "execution": {
     "iopub.execute_input": "2025-07-30T13:57:21.505448Z",
     "iopub.status.busy": "2025-07-30T13:57:21.504418Z",
     "iopub.status.idle": "2025-07-30T13:57:21.515765Z",
     "shell.execute_reply": "2025-07-30T13:57:21.514738Z"
    },
    "papermill": {
     "duration": 0.045495,
     "end_time": "2025-07-30T13:57:21.518602",
     "exception": false,
     "start_time": "2025-07-30T13:57:21.473107",
     "status": "completed"
    },
    "tags": []
   },
   "outputs": [
    {
     "data": {
      "text/plain": [
       "year\n",
       "2012    1667\n",
       "2013    1667\n",
       "2014    1666\n",
       "dtype: int64"
      ]
     },
     "metadata": {},
     "output_type": "display_data"
    }
   ],
   "source": [
    "display(siab_train.groupby(\"year\").size())"
   ]
  },
  {
   "cell_type": "code",
   "execution_count": 20,
   "id": "a561edb4-d032-42cb-8256-22eac1111c64",
   "metadata": {
    "execution": {
     "iopub.execute_input": "2025-07-30T13:57:21.576982Z",
     "iopub.status.busy": "2025-07-30T13:57:21.576500Z",
     "iopub.status.idle": "2025-07-30T13:57:21.812919Z",
     "shell.execute_reply": "2025-07-30T13:57:21.811843Z"
    },
    "papermill": {
     "duration": 0.265105,
     "end_time": "2025-07-30T13:57:21.814908",
     "exception": false,
     "start_time": "2025-07-30T13:57:21.549803",
     "status": "completed"
    },
    "tags": []
   },
   "outputs": [],
   "source": [
    "#siab_train = siab_s[siab_s.year < 2015]\n",
    "siab_calib = siab[siab.year == 2015]\n",
    "siab_test = siab[siab.year == 2016]"
   ]
  },
  {
   "cell_type": "code",
   "execution_count": 21,
   "id": "472de16f-c3db-4916-846b-1f0de9cf1746",
   "metadata": {
    "execution": {
     "iopub.execute_input": "2025-07-30T13:57:21.859466Z",
     "iopub.status.busy": "2025-07-30T13:57:21.859014Z",
     "iopub.status.idle": "2025-07-30T13:57:21.870128Z",
     "shell.execute_reply": "2025-07-30T13:57:21.869106Z"
    },
    "papermill": {
     "duration": 0.03469,
     "end_time": "2025-07-30T13:57:21.872083",
     "exception": false,
     "start_time": "2025-07-30T13:57:21.837393",
     "status": "completed"
    },
    "tags": []
   },
   "outputs": [],
   "source": [
    "X_train = siab_train.iloc[:,4:164]\n",
    "y_train = siab_train.iloc[:, [3]]"
   ]
  },
  {
   "cell_type": "code",
   "execution_count": 22,
   "id": "828c96af-f43a-4ed6-ba47-8ac73a47d56c",
   "metadata": {
    "execution": {
     "iopub.execute_input": "2025-07-30T13:57:21.921795Z",
     "iopub.status.busy": "2025-07-30T13:57:21.921031Z",
     "iopub.status.idle": "2025-07-30T13:57:21.970920Z",
     "shell.execute_reply": "2025-07-30T13:57:21.969763Z"
    },
    "papermill": {
     "duration": 0.088493,
     "end_time": "2025-07-30T13:57:21.984904",
     "exception": false,
     "start_time": "2025-07-30T13:57:21.896411",
     "status": "completed"
    },
    "tags": []
   },
   "outputs": [],
   "source": [
    "X_calib = siab_calib.iloc[:,4:164]\n",
    "y_calib = siab_calib.iloc[:, [3]]"
   ]
  },
  {
   "cell_type": "code",
   "execution_count": 23,
   "id": "c34be9c3-6bd6-476e-acd3-845840e303be",
   "metadata": {
    "execution": {
     "iopub.execute_input": "2025-07-30T13:57:22.038351Z",
     "iopub.status.busy": "2025-07-30T13:57:22.037865Z",
     "iopub.status.idle": "2025-07-30T13:57:22.091235Z",
     "shell.execute_reply": "2025-07-30T13:57:22.090349Z"
    },
    "papermill": {
     "duration": 0.079098,
     "end_time": "2025-07-30T13:57:22.093021",
     "exception": false,
     "start_time": "2025-07-30T13:57:22.013923",
     "status": "completed"
    },
    "tags": []
   },
   "outputs": [],
   "source": [
    "X_test = siab_test.iloc[:,4:164]\n",
    "y_true = siab_test.iloc[:, [3]]"
   ]
  },
  {
   "cell_type": "markdown",
   "id": "9901737e-04df-44f0-9100-f5ad144ed040",
   "metadata": {
    "papermill": {
     "duration": 0.0298,
     "end_time": "2025-07-30T13:57:22.151896",
     "exception": false,
     "start_time": "2025-07-30T13:57:22.122096",
     "status": "completed"
    },
    "tags": []
   },
   "source": [
    "# Splitting Data and Setting Training Data Size OLD VERSION"
   ]
  },
  {
   "cell_type": "code",
   "execution_count": 24,
   "id": "acbc8f7d-8fc8-4e86-8c59-5dcb0f58384b",
   "metadata": {
    "execution": {
     "iopub.execute_input": "2025-07-30T13:57:22.211725Z",
     "iopub.status.busy": "2025-07-30T13:57:22.211150Z",
     "iopub.status.idle": "2025-07-30T13:57:22.217581Z",
     "shell.execute_reply": "2025-07-30T13:57:22.216413Z"
    },
    "papermill": {
     "duration": 0.039711,
     "end_time": "2025-07-30T13:57:22.219626",
     "exception": false,
     "start_time": "2025-07-30T13:57:22.179915",
     "status": "completed"
    },
    "tags": []
   },
   "outputs": [],
   "source": [
    "#def sample_by_year(df, training_size, random_state=42):\n",
    "#    if training_size == \"2014\":\n",
    "#        return df[df[\"year\"] == 2014].reset_index(drop=True)\n",
    "#    \n",
    "#    size_map = {\n",
    "#        \"25k\": 5000,\n",
    "#        \"5k\": 1000,\n",
    "#        \"1k\": 200\n",
    "#    }\n",
    "#\n",
    "#    if training_size not in size_map:\n",
    "#        return df.reset_index(drop=True)  # use all data\n",
    "#\n",
    "#    n_per_year = size_map[training_size]\n",
    "#    grouped = df.groupby(\"year\")\n",
    "#    sampled = grouped.apply(lambda x: x.sample(n=min(n_per_year, len(x)), random_state=random_state))\n",
    "#    return sampled.reset_index(drop=True)"
   ]
  },
  {
   "cell_type": "code",
   "execution_count": 25,
   "id": "6d931f52-beaf-43ff-9e78-9d44a448d54e",
   "metadata": {
    "execution": {
     "iopub.execute_input": "2025-07-30T13:57:22.281039Z",
     "iopub.status.busy": "2025-07-30T13:57:22.280698Z",
     "iopub.status.idle": "2025-07-30T13:57:22.335423Z",
     "shell.execute_reply": "2025-07-30T13:57:22.333955Z"
    },
    "papermill": {
     "duration": 0.087118,
     "end_time": "2025-07-30T13:57:22.337128",
     "exception": false,
     "start_time": "2025-07-30T13:57:22.250010",
     "status": "completed"
    },
    "tags": []
   },
   "outputs": [],
   "source": [
    "#siab_s = sample_by_year(siab, universe[\"training_size\"])"
   ]
  },
  {
   "cell_type": "code",
   "execution_count": 26,
   "id": "5db0a40e-a4e2-4920-be85-b12ae061d70d",
   "metadata": {
    "execution": {
     "iopub.execute_input": "2025-07-30T13:57:22.387734Z",
     "iopub.status.busy": "2025-07-30T13:57:22.386854Z",
     "iopub.status.idle": "2025-07-30T13:57:22.393965Z",
     "shell.execute_reply": "2025-07-30T13:57:22.392759Z"
    },
    "papermill": {
     "duration": 0.035094,
     "end_time": "2025-07-30T13:57:22.395794",
     "exception": false,
     "start_time": "2025-07-30T13:57:22.360700",
     "status": "completed"
    },
    "tags": []
   },
   "outputs": [],
   "source": [
    "#display(siab_s.groupby(\"year\").size())"
   ]
  },
  {
   "cell_type": "code",
   "execution_count": 27,
   "id": "e6c733c5",
   "metadata": {
    "execution": {
     "iopub.execute_input": "2025-07-30T13:57:22.445670Z",
     "iopub.status.busy": "2025-07-30T13:57:22.444689Z",
     "iopub.status.idle": "2025-07-30T13:57:22.562453Z",
     "shell.execute_reply": "2025-07-30T13:57:22.561078Z"
    },
    "papermill": {
     "duration": 0.145875,
     "end_time": "2025-07-30T13:57:22.565272",
     "exception": false,
     "start_time": "2025-07-30T13:57:22.419397",
     "status": "completed"
    },
    "tags": []
   },
   "outputs": [],
   "source": [
    "# Auxiliary data needed downstream in the pipeline\n",
    "\n",
    "org_train = X_train.copy()\n",
    "org_test = X_test.copy()\n",
    "org_calib = X_calib.copy()"
   ]
  },
  {
   "cell_type": "code",
   "execution_count": 28,
   "id": "1466abac-c6da-4492-a62f-4240ae3783af",
   "metadata": {
    "execution": {
     "iopub.execute_input": "2025-07-30T13:57:22.612488Z",
     "iopub.status.busy": "2025-07-30T13:57:22.611552Z",
     "iopub.status.idle": "2025-07-30T13:57:22.618159Z",
     "shell.execute_reply": "2025-07-30T13:57:22.616949Z"
    },
    "papermill": {
     "duration": 0.033592,
     "end_time": "2025-07-30T13:57:22.621870",
     "exception": false,
     "start_time": "2025-07-30T13:57:22.588278",
     "status": "completed"
    },
    "tags": []
   },
   "outputs": [],
   "source": [
    "# put in other script?\n",
    "# Group sizes\n",
    "\n",
    "#def calculate_percentages(df, df_name):\n",
    "#    total_entries = len(df)\n",
    "#\n",
    "#    female_pct = (df['frau1'] == 1).mean() * 100\n",
    "#    non_german_pct = ((df['maxdeutsch1'] == 0) & (df['maxdeutsch.Missing.'] == 0)).mean() * 100\n",
    "#    non_german_male_pct = ((df['frau1'] == 0) & (df['maxdeutsch1'] == 0) & (df['maxdeutsch.Missing.'] == 0)).mean() * 100\n",
    "#    non_german_female_pct = ((df['frau1'] == 1) & (df['maxdeutsch1'] == 0) & (df['maxdeutsch.Missing.'] == 0)).mean() * 100\n",
    "#\n",
    "#    print(f\"--- {df_name} ---\")\n",
    "#    print(f\"Female: {female_pct:.2f}%\")\n",
    "#    print(f\"Non-German: {non_german_pct:.2f}%\")\n",
    "#    print(f\"Non-German Male: {non_german_male_pct:.2f}%\")\n",
    "#    print(f\"Non-German Female: {non_german_female_pct:.2f}%\\n\")\n",
    "#\n",
    "## Calculate for each DataFrame\n",
    "#calculate_percentages(siab_calib, \"siab_calib\")\n",
    "#calculate_percentages(siab_test, \"siab_test\")\n",
    "#calculate_percentages(siab_train, \"siab_train\")"
   ]
  },
  {
   "cell_type": "markdown",
   "id": "0a4a1b33",
   "metadata": {
    "papermill": {
     "duration": 0.022178,
     "end_time": "2025-07-30T13:57:22.668933",
     "exception": false,
     "start_time": "2025-07-30T13:57:22.646755",
     "status": "completed"
    },
    "tags": []
   },
   "source": [
    "# Preprocessing Data"
   ]
  },
  {
   "cell_type": "code",
   "execution_count": 29,
   "id": "ca879031",
   "metadata": {
    "execution": {
     "iopub.execute_input": "2025-07-30T13:57:22.716484Z",
     "iopub.status.busy": "2025-07-30T13:57:22.715902Z",
     "iopub.status.idle": "2025-07-30T13:57:22.723627Z",
     "shell.execute_reply": "2025-07-30T13:57:22.722441Z"
    },
    "papermill": {
     "duration": 0.034408,
     "end_time": "2025-07-30T13:57:22.725692",
     "exception": false,
     "start_time": "2025-07-30T13:57:22.691284",
     "status": "completed"
    },
    "tags": []
   },
   "outputs": [],
   "source": [
    "# EXCLUDE PROTECTED FEATURES\n",
    "# ----------------------\n",
    "# \"exclude_features\": \"none\", # \"nationality\", \"sex\", \"nationality-sex\"\n",
    "\n",
    "excluded_features = universe[\"exclude_features\"].split(\"-\") # split, e.g.: \"nationality-sex\" -> [\"nationality\", \"sex\"]\n",
    "excluded_features_dictionary = {\n",
    "    \"nationality\": [\"maxdeutsch1\", \"maxdeutsch.Missing.\"],\n",
    "    \"sex\": [\"frau1\"],\n",
    "    \"age\": [\"age\"],\n",
    "}\n"
   ]
  },
  {
   "cell_type": "code",
   "execution_count": 30,
   "id": "b745ac60",
   "metadata": {
    "execution": {
     "iopub.execute_input": "2025-07-30T13:57:22.774289Z",
     "iopub.status.busy": "2025-07-30T13:57:22.773769Z",
     "iopub.status.idle": "2025-07-30T13:57:22.779873Z",
     "shell.execute_reply": "2025-07-30T13:57:22.778974Z"
    },
    "papermill": {
     "duration": 0.032691,
     "end_time": "2025-07-30T13:57:22.781803",
     "exception": false,
     "start_time": "2025-07-30T13:57:22.749112",
     "status": "completed"
    },
    "tags": []
   },
   "outputs": [],
   "source": [
    "# Code nice names to column names\n",
    "\n",
    "excluded_features_columns = [\n",
    "    excluded_features_dictionary[f] for f in excluded_features if len(f) > 0 and f != \"none\"\n",
    "]"
   ]
  },
  {
   "cell_type": "code",
   "execution_count": 31,
   "id": "f84f73a2",
   "metadata": {
    "execution": {
     "iopub.execute_input": "2025-07-30T13:57:22.830579Z",
     "iopub.status.busy": "2025-07-30T13:57:22.830056Z",
     "iopub.status.idle": "2025-07-30T13:57:22.836792Z",
     "shell.execute_reply": "2025-07-30T13:57:22.835731Z"
    },
    "papermill": {
     "duration": 0.032704,
     "end_time": "2025-07-30T13:57:22.838485",
     "exception": false,
     "start_time": "2025-07-30T13:57:22.805781",
     "status": "completed"
    },
    "tags": []
   },
   "outputs": [],
   "source": [
    "from utils import flatten_once\n",
    "\n",
    "excluded_features_columns = flatten_once(excluded_features_columns)"
   ]
  },
  {
   "cell_type": "code",
   "execution_count": 32,
   "id": "884dea22",
   "metadata": {
    "execution": {
     "iopub.execute_input": "2025-07-30T13:57:22.892668Z",
     "iopub.status.busy": "2025-07-30T13:57:22.891445Z",
     "iopub.status.idle": "2025-07-30T13:57:22.904260Z",
     "shell.execute_reply": "2025-07-30T13:57:22.902933Z"
    },
    "papermill": {
     "duration": 0.043375,
     "end_time": "2025-07-30T13:57:22.906652",
     "exception": false,
     "start_time": "2025-07-30T13:57:22.863277",
     "status": "completed"
    },
    "tags": []
   },
   "outputs": [
    {
     "name": "stdout",
     "output_type": "stream",
     "text": [
      "Dropping features: ['frau1']\n"
     ]
    }
   ],
   "source": [
    "if len(excluded_features_columns) > 0:\n",
    "    print(f\"Dropping features: {excluded_features_columns}\")\n",
    "    X_train.drop(excluded_features_columns, axis=1, inplace=True)"
   ]
  },
  {
   "cell_type": "code",
   "execution_count": 33,
   "id": "95ab8b16",
   "metadata": {
    "execution": {
     "iopub.execute_input": "2025-07-30T13:57:22.958595Z",
     "iopub.status.busy": "2025-07-30T13:57:22.957659Z",
     "iopub.status.idle": "2025-07-30T13:57:23.018016Z",
     "shell.execute_reply": "2025-07-30T13:57:23.017001Z"
    },
    "papermill": {
     "duration": 0.090264,
     "end_time": "2025-07-30T13:57:23.019615",
     "exception": false,
     "start_time": "2025-07-30T13:57:22.929351",
     "status": "completed"
    },
    "tags": []
   },
   "outputs": [
    {
     "name": "stdout",
     "output_type": "stream",
     "text": [
      "Dropping features: ['frau1']\n"
     ]
    }
   ],
   "source": [
    "if len(excluded_features_columns) > 0:\n",
    "    print(f\"Dropping features: {excluded_features_columns}\")\n",
    "    X_test.drop(excluded_features_columns, axis=1, inplace=True)"
   ]
  },
  {
   "cell_type": "code",
   "execution_count": 34,
   "id": "1853aaf5-fb9f-46cb-a2b5-8ea4ae2237e4",
   "metadata": {
    "execution": {
     "iopub.execute_input": "2025-07-30T13:57:23.071292Z",
     "iopub.status.busy": "2025-07-30T13:57:23.070598Z",
     "iopub.status.idle": "2025-07-30T13:57:23.125570Z",
     "shell.execute_reply": "2025-07-30T13:57:23.124452Z"
    },
    "papermill": {
     "duration": 0.08713,
     "end_time": "2025-07-30T13:57:23.128984",
     "exception": false,
     "start_time": "2025-07-30T13:57:23.041854",
     "status": "completed"
    },
    "tags": []
   },
   "outputs": [
    {
     "name": "stdout",
     "output_type": "stream",
     "text": [
      "Dropping features: ['frau1']\n"
     ]
    }
   ],
   "source": [
    "if len(excluded_features_columns) > 0:\n",
    "    print(f\"Dropping features: {excluded_features_columns}\")\n",
    "    X_calib.drop(excluded_features_columns, axis=1, inplace=True)"
   ]
  },
  {
   "cell_type": "code",
   "execution_count": 35,
   "id": "6727d079-03e5-481e-9d38-292a90b7a0a8",
   "metadata": {
    "execution": {
     "iopub.execute_input": "2025-07-30T13:57:23.180061Z",
     "iopub.status.busy": "2025-07-30T13:57:23.179525Z",
     "iopub.status.idle": "2025-07-30T13:57:23.184421Z",
     "shell.execute_reply": "2025-07-30T13:57:23.183481Z"
    },
    "papermill": {
     "duration": 0.031384,
     "end_time": "2025-07-30T13:57:23.186193",
     "exception": false,
     "start_time": "2025-07-30T13:57:23.154809",
     "status": "completed"
    },
    "tags": []
   },
   "outputs": [],
   "source": [
    "# SPLIT & STRATIFY DATA\n",
    "# ----------------------"
   ]
  },
  {
   "cell_type": "code",
   "execution_count": 36,
   "id": "76c4dc6d",
   "metadata": {
    "execution": {
     "iopub.execute_input": "2025-07-30T13:57:23.235845Z",
     "iopub.status.busy": "2025-07-30T13:57:23.234885Z",
     "iopub.status.idle": "2025-07-30T13:57:23.240205Z",
     "shell.execute_reply": "2025-07-30T13:57:23.239305Z"
    },
    "papermill": {
     "duration": 0.031537,
     "end_time": "2025-07-30T13:57:23.241810",
     "exception": false,
     "start_time": "2025-07-30T13:57:23.210273",
     "status": "completed"
    },
    "tags": []
   },
   "outputs": [],
   "source": [
    "# EXCLUDE CERTAIN SUBGROUPS\n",
    "# ----------------------\n",
    "\n",
    "mode = universe.get(\"exclude_subgroups\", \"keep-all\") \n",
    "# Fetches the exclude_subgroups setting from the universe dict.\n",
    "# Defaults to \"keep-all\" if the key is missing."
   ]
  },
  {
   "cell_type": "code",
   "execution_count": 37,
   "id": "21994072",
   "metadata": {
    "execution": {
     "iopub.execute_input": "2025-07-30T13:57:23.294001Z",
     "iopub.status.busy": "2025-07-30T13:57:23.293426Z",
     "iopub.status.idle": "2025-07-30T13:57:23.301258Z",
     "shell.execute_reply": "2025-07-30T13:57:23.300164Z"
    },
    "papermill": {
     "duration": 0.033667,
     "end_time": "2025-07-30T13:57:23.303138",
     "exception": false,
     "start_time": "2025-07-30T13:57:23.269471",
     "status": "completed"
    },
    "tags": []
   },
   "outputs": [],
   "source": [
    "if mode == \"keep-all\":\n",
    "    keep_mask = pd.Series(True, index=org_train.index)\n",
    "\n",
    "# org_train contains the original feature columns from features_org (in Simson)\n",
    "# features_org contains unprocessed features, for me X_train at beginning ???\n",
    "# For keep-all, creates a boolean Series (keep_mask) of all True, so no rows are removed.\n",
    "\n",
    "elif mode == \"drop-non-german\":\n",
    "    keep_mask = org_train[\"maxdeutsch1\"] == 1 # ??? what about missing values?\n",
    "\n",
    "else:\n",
    "    raise ValueError(f\"Unsupported mode for exclude_subgroups: {mode}\")\n"
   ]
  },
  {
   "cell_type": "code",
   "execution_count": 38,
   "id": "71651440",
   "metadata": {
    "execution": {
     "iopub.execute_input": "2025-07-30T13:57:23.353765Z",
     "iopub.status.busy": "2025-07-30T13:57:23.352721Z",
     "iopub.status.idle": "2025-07-30T13:57:23.360884Z",
     "shell.execute_reply": "2025-07-30T13:57:23.359651Z"
    },
    "papermill": {
     "duration": 0.035071,
     "end_time": "2025-07-30T13:57:23.362860",
     "exception": false,
     "start_time": "2025-07-30T13:57:23.327789",
     "status": "completed"
    },
    "tags": []
   },
   "outputs": [],
   "source": [
    "n_drop = (~keep_mask).sum() # Calculates how many rows are set to be dropped\n",
    "if n_drop > 0:\n",
    "    pct = n_drop / len(keep_mask) * 100\n",
    "    print(f\"Dropping {n_drop} rows ({pct:.2f}%) where mode='{mode}'\")"
   ]
  },
  {
   "cell_type": "code",
   "execution_count": 39,
   "id": "5fb8eee5",
   "metadata": {
    "execution": {
     "iopub.execute_input": "2025-07-30T13:57:23.411761Z",
     "iopub.status.busy": "2025-07-30T13:57:23.411248Z",
     "iopub.status.idle": "2025-07-30T13:57:23.419497Z",
     "shell.execute_reply": "2025-07-30T13:57:23.418575Z"
    },
    "papermill": {
     "duration": 0.034776,
     "end_time": "2025-07-30T13:57:23.421444",
     "exception": false,
     "start_time": "2025-07-30T13:57:23.386668",
     "status": "completed"
    },
    "tags": []
   },
   "outputs": [],
   "source": [
    "X_train = X_train[keep_mask]"
   ]
  },
  {
   "cell_type": "code",
   "execution_count": 40,
   "id": "b202bb3a",
   "metadata": {
    "execution": {
     "iopub.execute_input": "2025-07-30T13:57:23.470622Z",
     "iopub.status.busy": "2025-07-30T13:57:23.469697Z",
     "iopub.status.idle": "2025-07-30T13:57:23.480137Z",
     "shell.execute_reply": "2025-07-30T13:57:23.475296Z"
    },
    "papermill": {
     "duration": 0.036374,
     "end_time": "2025-07-30T13:57:23.482013",
     "exception": false,
     "start_time": "2025-07-30T13:57:23.445639",
     "status": "completed"
    },
    "tags": []
   },
   "outputs": [],
   "source": [
    "y_train = y_train[keep_mask]"
   ]
  },
  {
   "cell_type": "markdown",
   "id": "493e2ac3",
   "metadata": {
    "papermill": {
     "duration": 0.022183,
     "end_time": "2025-07-30T13:57:23.527534",
     "exception": false,
     "start_time": "2025-07-30T13:57:23.505351",
     "status": "completed"
    },
    "tags": []
   },
   "source": [
    "# Model Training"
   ]
  },
  {
   "cell_type": "code",
   "execution_count": 41,
   "id": "679e1268",
   "metadata": {
    "execution": {
     "iopub.execute_input": "2025-07-30T13:57:23.574487Z",
     "iopub.status.busy": "2025-07-30T13:57:23.573474Z",
     "iopub.status.idle": "2025-07-30T13:57:23.675529Z",
     "shell.execute_reply": "2025-07-30T13:57:23.674611Z"
    },
    "papermill": {
     "duration": 0.127436,
     "end_time": "2025-07-30T13:57:23.677539",
     "exception": false,
     "start_time": "2025-07-30T13:57:23.550103",
     "status": "completed"
    },
    "tags": []
   },
   "outputs": [],
   "source": [
    "from sklearn.linear_model import LogisticRegression\n",
    "from sklearn.ensemble import GradientBoostingClassifier, RandomForestClassifier\n",
    "\n",
    "if (universe[\"model\"] == \"logreg\"):\n",
    "    model = LogisticRegression() #penalty=\"none\") #, solver=\"newton-cg\", max_iter=1) # include random_state=19 ?\n",
    "elif (universe[\"model\"] == \"penalized_logreg\"):\n",
    "    model = LogisticRegression(penalty=\"l2\", C=1.0) #, solver=\"newton-cg\", max_iter=1)\n",
    "elif (universe[\"model\"] == \"rf\"):\n",
    "    model = RandomForestClassifier(n_estimators=100, n_jobs=-1)\n",
    "elif (universe[\"model\"] == \"gbm\"):\n",
    "    model = GradientBoostingClassifier()\n",
    "elif (universe[\"model\"] == \"elasticnet\"):\n",
    "    model = LogisticRegression(penalty = 'elasticnet', solver = 'saga', l1_ratio = 0.5, max_iter=5000) # which solver to use?\n",
    "else:\n",
    "    raise \"Unsupported universe.model\""
   ]
  },
  {
   "cell_type": "code",
   "execution_count": 42,
   "id": "0cc8f744",
   "metadata": {
    "execution": {
     "iopub.execute_input": "2025-07-30T13:57:23.733829Z",
     "iopub.status.busy": "2025-07-30T13:57:23.733168Z",
     "iopub.status.idle": "2025-07-30T13:57:23.739706Z",
     "shell.execute_reply": "2025-07-30T13:57:23.738656Z"
    },
    "papermill": {
     "duration": 0.03646,
     "end_time": "2025-07-30T13:57:23.741413",
     "exception": false,
     "start_time": "2025-07-30T13:57:23.704953",
     "status": "completed"
    },
    "tags": []
   },
   "outputs": [],
   "source": [
    "import numpy as np\n",
    "from sklearn.pipeline import Pipeline\n",
    "from sklearn.preprocessing import StandardScaler\n",
    "\n",
    "model = Pipeline([\n",
    "    #(\"continuous_processor\", continuous_processor),\n",
    "    #(\"categorical_preprocessor\", categorical_preprocessor),\n",
    "    (\"scale\", StandardScaler() if universe[\"scale\"] == \"scale\" else None), \n",
    "    (\"model\", model),\n",
    "])"
   ]
  },
  {
   "cell_type": "code",
   "execution_count": 43,
   "id": "9442c04d",
   "metadata": {
    "execution": {
     "iopub.execute_input": "2025-07-30T13:57:23.797623Z",
     "iopub.status.busy": "2025-07-30T13:57:23.796956Z",
     "iopub.status.idle": "2025-07-30T13:57:28.882863Z",
     "shell.execute_reply": "2025-07-30T13:57:28.881840Z"
    },
    "papermill": {
     "duration": 5.115834,
     "end_time": "2025-07-30T13:57:28.884449",
     "exception": false,
     "start_time": "2025-07-30T13:57:23.768615",
     "status": "completed"
    },
    "tags": []
   },
   "outputs": [
    {
     "data": {
      "text/html": [
       "<style>#sk-container-id-1 {color: black;background-color: white;}#sk-container-id-1 pre{padding: 0;}#sk-container-id-1 div.sk-toggleable {background-color: white;}#sk-container-id-1 label.sk-toggleable__label {cursor: pointer;display: block;width: 100%;margin-bottom: 0;padding: 0.3em;box-sizing: border-box;text-align: center;}#sk-container-id-1 label.sk-toggleable__label-arrow:before {content: \"▸\";float: left;margin-right: 0.25em;color: #696969;}#sk-container-id-1 label.sk-toggleable__label-arrow:hover:before {color: black;}#sk-container-id-1 div.sk-estimator:hover label.sk-toggleable__label-arrow:before {color: black;}#sk-container-id-1 div.sk-toggleable__content {max-height: 0;max-width: 0;overflow: hidden;text-align: left;background-color: #f0f8ff;}#sk-container-id-1 div.sk-toggleable__content pre {margin: 0.2em;color: black;border-radius: 0.25em;background-color: #f0f8ff;}#sk-container-id-1 input.sk-toggleable__control:checked~div.sk-toggleable__content {max-height: 200px;max-width: 100%;overflow: auto;}#sk-container-id-1 input.sk-toggleable__control:checked~label.sk-toggleable__label-arrow:before {content: \"▾\";}#sk-container-id-1 div.sk-estimator input.sk-toggleable__control:checked~label.sk-toggleable__label {background-color: #d4ebff;}#sk-container-id-1 div.sk-label input.sk-toggleable__control:checked~label.sk-toggleable__label {background-color: #d4ebff;}#sk-container-id-1 input.sk-hidden--visually {border: 0;clip: rect(1px 1px 1px 1px);clip: rect(1px, 1px, 1px, 1px);height: 1px;margin: -1px;overflow: hidden;padding: 0;position: absolute;width: 1px;}#sk-container-id-1 div.sk-estimator {font-family: monospace;background-color: #f0f8ff;border: 1px dotted black;border-radius: 0.25em;box-sizing: border-box;margin-bottom: 0.5em;}#sk-container-id-1 div.sk-estimator:hover {background-color: #d4ebff;}#sk-container-id-1 div.sk-parallel-item::after {content: \"\";width: 100%;border-bottom: 1px solid gray;flex-grow: 1;}#sk-container-id-1 div.sk-label:hover label.sk-toggleable__label {background-color: #d4ebff;}#sk-container-id-1 div.sk-serial::before {content: \"\";position: absolute;border-left: 1px solid gray;box-sizing: border-box;top: 0;bottom: 0;left: 50%;z-index: 0;}#sk-container-id-1 div.sk-serial {display: flex;flex-direction: column;align-items: center;background-color: white;padding-right: 0.2em;padding-left: 0.2em;position: relative;}#sk-container-id-1 div.sk-item {position: relative;z-index: 1;}#sk-container-id-1 div.sk-parallel {display: flex;align-items: stretch;justify-content: center;background-color: white;position: relative;}#sk-container-id-1 div.sk-item::before, #sk-container-id-1 div.sk-parallel-item::before {content: \"\";position: absolute;border-left: 1px solid gray;box-sizing: border-box;top: 0;bottom: 0;left: 50%;z-index: -1;}#sk-container-id-1 div.sk-parallel-item {display: flex;flex-direction: column;z-index: 1;position: relative;background-color: white;}#sk-container-id-1 div.sk-parallel-item:first-child::after {align-self: flex-end;width: 50%;}#sk-container-id-1 div.sk-parallel-item:last-child::after {align-self: flex-start;width: 50%;}#sk-container-id-1 div.sk-parallel-item:only-child::after {width: 0;}#sk-container-id-1 div.sk-dashed-wrapped {border: 1px dashed gray;margin: 0 0.4em 0.5em 0.4em;box-sizing: border-box;padding-bottom: 0.4em;background-color: white;}#sk-container-id-1 div.sk-label label {font-family: monospace;font-weight: bold;display: inline-block;line-height: 1.2em;}#sk-container-id-1 div.sk-label-container {text-align: center;}#sk-container-id-1 div.sk-container {/* jupyter's `normalize.less` sets `[hidden] { display: none; }` but bootstrap.min.css set `[hidden] { display: none !important; }` so we also need the `!important` here to be able to override the default hidden behavior on the sphinx rendered scikit-learn.org. See: https://github.com/scikit-learn/scikit-learn/issues/21755 */display: inline-block !important;position: relative;}#sk-container-id-1 div.sk-text-repr-fallback {display: none;}</style><div id=\"sk-container-id-1\" class=\"sk-top-container\"><div class=\"sk-text-repr-fallback\"><pre>Pipeline(steps=[(&#x27;scale&#x27;, StandardScaler()),\n",
       "                (&#x27;model&#x27;, GradientBoostingClassifier())])</pre><b>In a Jupyter environment, please rerun this cell to show the HTML representation or trust the notebook. <br />On GitHub, the HTML representation is unable to render, please try loading this page with nbviewer.org.</b></div><div class=\"sk-container\" hidden><div class=\"sk-item sk-dashed-wrapped\"><div class=\"sk-label-container\"><div class=\"sk-label sk-toggleable\"><input class=\"sk-toggleable__control sk-hidden--visually\" id=\"sk-estimator-id-1\" type=\"checkbox\" ><label for=\"sk-estimator-id-1\" class=\"sk-toggleable__label sk-toggleable__label-arrow\">Pipeline</label><div class=\"sk-toggleable__content\"><pre>Pipeline(steps=[(&#x27;scale&#x27;, StandardScaler()),\n",
       "                (&#x27;model&#x27;, GradientBoostingClassifier())])</pre></div></div></div><div class=\"sk-serial\"><div class=\"sk-item\"><div class=\"sk-estimator sk-toggleable\"><input class=\"sk-toggleable__control sk-hidden--visually\" id=\"sk-estimator-id-2\" type=\"checkbox\" ><label for=\"sk-estimator-id-2\" class=\"sk-toggleable__label sk-toggleable__label-arrow\">StandardScaler</label><div class=\"sk-toggleable__content\"><pre>StandardScaler()</pre></div></div></div><div class=\"sk-item\"><div class=\"sk-estimator sk-toggleable\"><input class=\"sk-toggleable__control sk-hidden--visually\" id=\"sk-estimator-id-3\" type=\"checkbox\" ><label for=\"sk-estimator-id-3\" class=\"sk-toggleable__label sk-toggleable__label-arrow\">GradientBoostingClassifier</label><div class=\"sk-toggleable__content\"><pre>GradientBoostingClassifier()</pre></div></div></div></div></div></div></div>"
      ],
      "text/plain": [
       "Pipeline(steps=[('scale', StandardScaler()),\n",
       "                ('model', GradientBoostingClassifier())])"
      ]
     },
     "execution_count": 43,
     "metadata": {},
     "output_type": "execute_result"
    }
   ],
   "source": [
    "model.fit(X_train, y_train.values.ravel())"
   ]
  },
  {
   "cell_type": "code",
   "execution_count": 44,
   "id": "af59f8c0",
   "metadata": {
    "execution": {
     "iopub.execute_input": "2025-07-30T13:57:28.934528Z",
     "iopub.status.busy": "2025-07-30T13:57:28.934141Z",
     "iopub.status.idle": "2025-07-30T13:57:28.939552Z",
     "shell.execute_reply": "2025-07-30T13:57:28.938570Z"
    },
    "papermill": {
     "duration": 0.032002,
     "end_time": "2025-07-30T13:57:28.941416",
     "exception": false,
     "start_time": "2025-07-30T13:57:28.909414",
     "status": "completed"
    },
    "tags": []
   },
   "outputs": [],
   "source": [
    "from fairness_multiverse.universe import predict_w_threshold"
   ]
  },
  {
   "cell_type": "code",
   "execution_count": 45,
   "id": "a7cf2e16",
   "metadata": {
    "execution": {
     "iopub.execute_input": "2025-07-30T13:57:28.993256Z",
     "iopub.status.busy": "2025-07-30T13:57:28.992288Z",
     "iopub.status.idle": "2025-07-30T13:57:29.581871Z",
     "shell.execute_reply": "2025-07-30T13:57:29.581086Z"
    },
    "papermill": {
     "duration": 0.616923,
     "end_time": "2025-07-30T13:57:29.583312",
     "exception": false,
     "start_time": "2025-07-30T13:57:28.966389",
     "status": "completed"
    },
    "tags": []
   },
   "outputs": [
    {
     "data": {
      "text/plain": [
       "0.8632928324601493"
      ]
     },
     "execution_count": 45,
     "metadata": {},
     "output_type": "execute_result"
    }
   ],
   "source": [
    "probs_test = model.predict_proba(X_test)\n",
    "\n",
    "'''\n",
    "Below code returns a boolean array (or binary 0/1 array depending on how it’s used) where each element \n",
    "is True if the probability of class 1 is greater than or equal to the threshold, and False otherwise.\n",
    "'''\n",
    "y_pred_default = predict_w_threshold(probs_test, 0.5)\n",
    "\n",
    "from sklearn.metrics import accuracy_score\n",
    "\n",
    "# Naive prediction\n",
    "accuracy_score(y_true = y_true, y_pred = y_pred_default)"
   ]
  },
  {
   "cell_type": "code",
   "execution_count": 46,
   "id": "081964c3",
   "metadata": {
    "execution": {
     "iopub.execute_input": "2025-07-30T13:57:29.634566Z",
     "iopub.status.busy": "2025-07-30T13:57:29.634166Z",
     "iopub.status.idle": "2025-07-30T13:57:30.330100Z",
     "shell.execute_reply": "2025-07-30T13:57:30.329170Z"
    },
    "papermill": {
     "duration": 0.724422,
     "end_time": "2025-07-30T13:57:30.331689",
     "exception": false,
     "start_time": "2025-07-30T13:57:29.607267",
     "status": "completed"
    },
    "tags": []
   },
   "outputs": [
    {
     "data": {
      "text/plain": [
       "array([0, 0, 0, ..., 0, 0, 0])"
      ]
     },
     "execution_count": 46,
     "metadata": {},
     "output_type": "execute_result"
    }
   ],
   "source": [
    "model.predict(X_test)"
   ]
  },
  {
   "cell_type": "markdown",
   "id": "56c9705b",
   "metadata": {
    "papermill": {
     "duration": 0.0256,
     "end_time": "2025-07-30T13:57:30.381672",
     "exception": false,
     "start_time": "2025-07-30T13:57:30.356072",
     "status": "completed"
    },
    "tags": []
   },
   "source": [
    "# Conformal Prediction"
   ]
  },
  {
   "cell_type": "code",
   "execution_count": 47,
   "id": "160ec6ff",
   "metadata": {
    "execution": {
     "iopub.execute_input": "2025-07-30T13:57:30.434305Z",
     "iopub.status.busy": "2025-07-30T13:57:30.433602Z",
     "iopub.status.idle": "2025-07-30T13:57:30.438844Z",
     "shell.execute_reply": "2025-07-30T13:57:30.437824Z"
    },
    "papermill": {
     "duration": 0.033867,
     "end_time": "2025-07-30T13:57:30.440959",
     "exception": false,
     "start_time": "2025-07-30T13:57:30.407092",
     "status": "completed"
    },
    "tags": []
   },
   "outputs": [],
   "source": [
    "# Miscoverage level for conformal prediction (10% allowed error rate => 90% target coverage)\n",
    "alpha = 0.1"
   ]
  },
  {
   "cell_type": "code",
   "execution_count": 48,
   "id": "eadf4555-3dd3-440e-8e35-f82a4ad9f855",
   "metadata": {
    "execution": {
     "iopub.execute_input": "2025-07-30T13:57:30.499088Z",
     "iopub.status.busy": "2025-07-30T13:57:30.498681Z",
     "iopub.status.idle": "2025-07-30T13:57:31.202501Z",
     "shell.execute_reply": "2025-07-30T13:57:31.201554Z"
    },
    "papermill": {
     "duration": 0.735354,
     "end_time": "2025-07-30T13:57:31.204566",
     "exception": false,
     "start_time": "2025-07-30T13:57:30.469212",
     "status": "completed"
    },
    "tags": []
   },
   "outputs": [],
   "source": [
    "probs_calib = model.predict_proba(X_calib)"
   ]
  },
  {
   "cell_type": "code",
   "execution_count": 49,
   "id": "2ed93547-6d5d-4983-9b36-1ecb300da49a",
   "metadata": {
    "execution": {
     "iopub.execute_input": "2025-07-30T13:57:31.262249Z",
     "iopub.status.busy": "2025-07-30T13:57:31.261431Z",
     "iopub.status.idle": "2025-07-30T13:57:31.267724Z",
     "shell.execute_reply": "2025-07-30T13:57:31.266723Z"
    },
    "papermill": {
     "duration": 0.037146,
     "end_time": "2025-07-30T13:57:31.269576",
     "exception": false,
     "start_time": "2025-07-30T13:57:31.232430",
     "status": "completed"
    },
    "tags": []
   },
   "outputs": [],
   "source": [
    "y_calib = y_calib.values.ravel().astype(int)"
   ]
  },
  {
   "cell_type": "code",
   "execution_count": 50,
   "id": "65d1320d-f588-4b38-9072-62af1ae97f7d",
   "metadata": {
    "execution": {
     "iopub.execute_input": "2025-07-30T13:57:31.328938Z",
     "iopub.status.busy": "2025-07-30T13:57:31.327879Z",
     "iopub.status.idle": "2025-07-30T13:57:31.336582Z",
     "shell.execute_reply": "2025-07-30T13:57:31.335582Z"
    },
    "papermill": {
     "duration": 0.039994,
     "end_time": "2025-07-30T13:57:31.338492",
     "exception": false,
     "start_time": "2025-07-30T13:57:31.298498",
     "status": "completed"
    },
    "tags": []
   },
   "outputs": [],
   "source": [
    "from fairness_multiverse.conformal import compute_nc_scores\n",
    "\n",
    "# Compute nonconformity scores on calibration set (1 - probability of true class)\n",
    "nc_scores = compute_nc_scores(probs_calib, y_calib)"
   ]
  },
  {
   "cell_type": "code",
   "execution_count": 51,
   "id": "df3b8ca3-53b7-43d5-9667-7c85da7aeda2",
   "metadata": {
    "execution": {
     "iopub.execute_input": "2025-07-30T13:57:31.387058Z",
     "iopub.status.busy": "2025-07-30T13:57:31.386558Z",
     "iopub.status.idle": "2025-07-30T13:57:31.393624Z",
     "shell.execute_reply": "2025-07-30T13:57:31.392586Z"
    },
    "papermill": {
     "duration": 0.033478,
     "end_time": "2025-07-30T13:57:31.395269",
     "exception": false,
     "start_time": "2025-07-30T13:57:31.361791",
     "status": "completed"
    },
    "tags": []
   },
   "outputs": [],
   "source": [
    "from fairness_multiverse.conformal import find_threshold\n",
    "\n",
    "# Find conformal threshold q_hat for the given alpha (split conformal method)\n",
    "q_hat = find_threshold(nc_scores, alpha)"
   ]
  },
  {
   "cell_type": "code",
   "execution_count": 52,
   "id": "4d29e6c1-0ef6-4aa4-b8fe-4fe79b0d033a",
   "metadata": {
    "execution": {
     "iopub.execute_input": "2025-07-30T13:57:31.432580Z",
     "iopub.status.busy": "2025-07-30T13:57:31.431985Z",
     "iopub.status.idle": "2025-07-30T13:57:31.439485Z",
     "shell.execute_reply": "2025-07-30T13:57:31.438390Z"
    },
    "papermill": {
     "duration": 0.025413,
     "end_time": "2025-07-30T13:57:31.443072",
     "exception": false,
     "start_time": "2025-07-30T13:57:31.417659",
     "status": "completed"
    },
    "tags": []
   },
   "outputs": [
    {
     "data": {
      "text/plain": [
       "0.6913207909420612"
      ]
     },
     "execution_count": 52,
     "metadata": {},
     "output_type": "execute_result"
    }
   ],
   "source": [
    "q_hat"
   ]
  },
  {
   "cell_type": "code",
   "execution_count": 53,
   "id": "92460794-cdac-4be2-ba28-f28c0515a6fb",
   "metadata": {
    "execution": {
     "iopub.execute_input": "2025-07-30T13:57:31.472244Z",
     "iopub.status.busy": "2025-07-30T13:57:31.471726Z",
     "iopub.status.idle": "2025-07-30T13:57:32.517008Z",
     "shell.execute_reply": "2025-07-30T13:57:32.516210Z"
    },
    "papermill": {
     "duration": 1.061575,
     "end_time": "2025-07-30T13:57:32.518437",
     "exception": false,
     "start_time": "2025-07-30T13:57:31.456862",
     "status": "completed"
    },
    "tags": []
   },
   "outputs": [],
   "source": [
    "from fairness_multiverse.conformal import predict_conformal_sets\n",
    "\n",
    "# Generate prediction sets for each test example\n",
    "pred_sets = predict_conformal_sets(model, X_test, q_hat)"
   ]
  },
  {
   "cell_type": "code",
   "execution_count": 54,
   "id": "d90c9a65-e6db-4f5d-80cd-e68fb7e46829",
   "metadata": {
    "execution": {
     "iopub.execute_input": "2025-07-30T13:57:32.547011Z",
     "iopub.status.busy": "2025-07-30T13:57:32.546469Z",
     "iopub.status.idle": "2025-07-30T13:57:32.551131Z",
     "shell.execute_reply": "2025-07-30T13:57:32.550342Z"
    },
    "papermill": {
     "duration": 0.020599,
     "end_time": "2025-07-30T13:57:32.552669",
     "exception": false,
     "start_time": "2025-07-30T13:57:32.532070",
     "status": "completed"
    },
    "tags": []
   },
   "outputs": [],
   "source": [
    "y_true = y_true.squeeze()"
   ]
  },
  {
   "cell_type": "code",
   "execution_count": 55,
   "id": "3a58a54a-1e68-46b9-927a-df01f18aebc8",
   "metadata": {
    "execution": {
     "iopub.execute_input": "2025-07-30T13:57:32.582564Z",
     "iopub.status.busy": "2025-07-30T13:57:32.582064Z",
     "iopub.status.idle": "2025-07-30T13:57:33.269762Z",
     "shell.execute_reply": "2025-07-30T13:57:33.268967Z"
    },
    "papermill": {
     "duration": 0.704039,
     "end_time": "2025-07-30T13:57:33.271203",
     "exception": false,
     "start_time": "2025-07-30T13:57:32.567164",
     "status": "completed"
    },
    "tags": []
   },
   "outputs": [],
   "source": [
    "from fairness_multiverse.conformal import evaluate_sets\n",
    "\n",
    "# Evaluate coverage and average set size on test data\n",
    "metrics = evaluate_sets(pred_sets, y_true)"
   ]
  },
  {
   "cell_type": "markdown",
   "id": "2b569c12-9aaa-4c88-98c9-bbcd0cf3ebb8",
   "metadata": {
    "papermill": {
     "duration": 0.01283,
     "end_time": "2025-07-30T13:57:33.297749",
     "exception": false,
     "start_time": "2025-07-30T13:57:33.284919",
     "status": "completed"
    },
    "tags": []
   },
   "source": [
    "# CP Metrics"
   ]
  },
  {
   "cell_type": "code",
   "execution_count": 56,
   "id": "5ce0a5cb-201f-45a0-ade5-94c7f0bd6095",
   "metadata": {
    "execution": {
     "iopub.execute_input": "2025-07-30T13:57:33.341735Z",
     "iopub.status.busy": "2025-07-30T13:57:33.340896Z",
     "iopub.status.idle": "2025-07-30T13:57:33.348058Z",
     "shell.execute_reply": "2025-07-30T13:57:33.347087Z"
    },
    "papermill": {
     "duration": 0.035946,
     "end_time": "2025-07-30T13:57:33.349830",
     "exception": false,
     "start_time": "2025-07-30T13:57:33.313884",
     "status": "completed"
    },
    "tags": []
   },
   "outputs": [
    {
     "data": {
      "text/plain": [
       "{'coverage': 0.9095084160071341, 'avg_size': 1.1232749972132428}"
      ]
     },
     "execution_count": 56,
     "metadata": {},
     "output_type": "execute_result"
    }
   ],
   "source": [
    "metrics"
   ]
  },
  {
   "cell_type": "code",
   "execution_count": 57,
   "id": "9b9a838d-31c9-430b-ae14-12baee460d17",
   "metadata": {
    "execution": {
     "iopub.execute_input": "2025-07-30T13:57:33.402263Z",
     "iopub.status.busy": "2025-07-30T13:57:33.401791Z",
     "iopub.status.idle": "2025-07-30T13:57:33.408350Z",
     "shell.execute_reply": "2025-07-30T13:57:33.407399Z"
    },
    "papermill": {
     "duration": 0.036671,
     "end_time": "2025-07-30T13:57:33.409949",
     "exception": false,
     "start_time": "2025-07-30T13:57:33.373278",
     "status": "completed"
    },
    "tags": []
   },
   "outputs": [],
   "source": [
    "example_universe = universe.copy()\n",
    "universe_training_size = example_universe.get(\"training_size\")\n",
    "universe_scale = example_universe.get(\"scale\")\n",
    "universe_model = example_universe.get(\"model\")\n",
    "universe_exclude_features = example_universe.get(\"exclude_features\")\n",
    "universe_exclude_subgroups = example_universe.get(\"exclude_subgroups\")"
   ]
  },
  {
   "cell_type": "code",
   "execution_count": 58,
   "id": "f4b6a8ac-9dc0-4245-8a91-5b3b5999c4f9",
   "metadata": {
    "execution": {
     "iopub.execute_input": "2025-07-30T13:57:33.449728Z",
     "iopub.status.busy": "2025-07-30T13:57:33.449307Z",
     "iopub.status.idle": "2025-07-30T13:57:33.454606Z",
     "shell.execute_reply": "2025-07-30T13:57:33.453897Z"
    },
    "papermill": {
     "duration": 0.023634,
     "end_time": "2025-07-30T13:57:33.456082",
     "exception": false,
     "start_time": "2025-07-30T13:57:33.432448",
     "status": "completed"
    },
    "tags": []
   },
   "outputs": [],
   "source": [
    "cp_metrics_dict = {\n",
    "    \"universe_id\": [universe_id],\n",
    "    \"universe_training_size\": [universe_training_size],\n",
    "    \"universe_scale\": [universe_scale],\n",
    "    \"universe_model\": [universe_model],\n",
    "    \"universe_exclude_features\": [universe_exclude_features],\n",
    "    \"universe_exclude_subgroups\": [universe_exclude_subgroups],\n",
    "    \"q_hat\": [q_hat],\n",
    "    \"coverage\": [metrics[\"coverage\"]],\n",
    "    \"avg_size\": [metrics[\"avg_size\"]],\n",
    "}"
   ]
  },
  {
   "cell_type": "code",
   "execution_count": 59,
   "id": "908acbb1-0371-4915-85ca-3fa520d2efe2",
   "metadata": {
    "execution": {
     "iopub.execute_input": "2025-07-30T13:57:33.484938Z",
     "iopub.status.busy": "2025-07-30T13:57:33.484569Z",
     "iopub.status.idle": "2025-07-30T13:57:33.491380Z",
     "shell.execute_reply": "2025-07-30T13:57:33.490653Z"
    },
    "papermill": {
     "duration": 0.022136,
     "end_time": "2025-07-30T13:57:33.492818",
     "exception": false,
     "start_time": "2025-07-30T13:57:33.470682",
     "status": "completed"
    },
    "tags": []
   },
   "outputs": [
    {
     "data": {
      "text/plain": [
       "{'universe_id': ['cec8bf8b5ee7d9a03eab2fa29d6f898a'],\n",
       " 'universe_training_size': ['5k'],\n",
       " 'universe_scale': ['scale'],\n",
       " 'universe_model': ['gbm'],\n",
       " 'universe_exclude_features': ['sex'],\n",
       " 'universe_exclude_subgroups': ['keep-all'],\n",
       " 'q_hat': [0.6913207909420612],\n",
       " 'coverage': [0.9095084160071341],\n",
       " 'avg_size': [1.1232749972132428]}"
      ]
     },
     "execution_count": 59,
     "metadata": {},
     "output_type": "execute_result"
    }
   ],
   "source": [
    "cp_metrics_dict"
   ]
  },
  {
   "cell_type": "code",
   "execution_count": 60,
   "id": "33007efc-14e9-4ec6-97ac-56a455c82265",
   "metadata": {
    "execution": {
     "iopub.execute_input": "2025-07-30T13:57:33.520009Z",
     "iopub.status.busy": "2025-07-30T13:57:33.519664Z",
     "iopub.status.idle": "2025-07-30T13:57:33.524567Z",
     "shell.execute_reply": "2025-07-30T13:57:33.523706Z"
    },
    "papermill": {
     "duration": 0.019634,
     "end_time": "2025-07-30T13:57:33.525968",
     "exception": false,
     "start_time": "2025-07-30T13:57:33.506334",
     "status": "completed"
    },
    "tags": []
   },
   "outputs": [],
   "source": [
    "cp_metrics_df = pd.DataFrame(cp_metrics_dict)"
   ]
  },
  {
   "cell_type": "code",
   "execution_count": 61,
   "id": "db12611b-57b2-4910-b9d0-355adfd6e7bf",
   "metadata": {
    "execution": {
     "iopub.execute_input": "2025-07-30T13:57:33.553531Z",
     "iopub.status.busy": "2025-07-30T13:57:33.553181Z",
     "iopub.status.idle": "2025-07-30T13:57:33.566668Z",
     "shell.execute_reply": "2025-07-30T13:57:33.565658Z"
    },
    "papermill": {
     "duration": 0.028669,
     "end_time": "2025-07-30T13:57:33.568323",
     "exception": false,
     "start_time": "2025-07-30T13:57:33.539654",
     "status": "completed"
    },
    "tags": []
   },
   "outputs": [
    {
     "data": {
      "text/html": [
       "<div>\n",
       "<style scoped>\n",
       "    .dataframe tbody tr th:only-of-type {\n",
       "        vertical-align: middle;\n",
       "    }\n",
       "\n",
       "    .dataframe tbody tr th {\n",
       "        vertical-align: top;\n",
       "    }\n",
       "\n",
       "    .dataframe thead th {\n",
       "        text-align: right;\n",
       "    }\n",
       "</style>\n",
       "<table border=\"1\" class=\"dataframe\">\n",
       "  <thead>\n",
       "    <tr style=\"text-align: right;\">\n",
       "      <th></th>\n",
       "      <th>universe_id</th>\n",
       "      <th>universe_training_size</th>\n",
       "      <th>universe_scale</th>\n",
       "      <th>universe_model</th>\n",
       "      <th>universe_exclude_features</th>\n",
       "      <th>universe_exclude_subgroups</th>\n",
       "      <th>q_hat</th>\n",
       "      <th>coverage</th>\n",
       "      <th>avg_size</th>\n",
       "    </tr>\n",
       "  </thead>\n",
       "  <tbody>\n",
       "    <tr>\n",
       "      <th>0</th>\n",
       "      <td>cec8bf8b5ee7d9a03eab2fa29d6f898a</td>\n",
       "      <td>5k</td>\n",
       "      <td>scale</td>\n",
       "      <td>gbm</td>\n",
       "      <td>sex</td>\n",
       "      <td>keep-all</td>\n",
       "      <td>0.691321</td>\n",
       "      <td>0.909508</td>\n",
       "      <td>1.123275</td>\n",
       "    </tr>\n",
       "  </tbody>\n",
       "</table>\n",
       "</div>"
      ],
      "text/plain": [
       "                        universe_id universe_training_size universe_scale  \\\n",
       "0  cec8bf8b5ee7d9a03eab2fa29d6f898a                     5k          scale   \n",
       "\n",
       "  universe_model universe_exclude_features universe_exclude_subgroups  \\\n",
       "0            gbm                       sex                   keep-all   \n",
       "\n",
       "      q_hat  coverage  avg_size  \n",
       "0  0.691321  0.909508  1.123275  "
      ]
     },
     "execution_count": 61,
     "metadata": {},
     "output_type": "execute_result"
    }
   ],
   "source": [
    "cp_metrics_df"
   ]
  },
  {
   "cell_type": "code",
   "execution_count": 62,
   "id": "b7fbde55-a0a1-47e4-9af6-fe4a17fa8c61",
   "metadata": {
    "execution": {
     "iopub.execute_input": "2025-07-30T13:57:33.624557Z",
     "iopub.status.busy": "2025-07-30T13:57:33.623792Z",
     "iopub.status.idle": "2025-07-30T13:57:33.628998Z",
     "shell.execute_reply": "2025-07-30T13:57:33.627972Z"
    },
    "papermill": {
     "duration": 0.035223,
     "end_time": "2025-07-30T13:57:33.630926",
     "exception": false,
     "start_time": "2025-07-30T13:57:33.595703",
     "status": "completed"
    },
    "tags": []
   },
   "outputs": [],
   "source": [
    "# Conditional Coverage & looking at subgroups"
   ]
  },
  {
   "cell_type": "code",
   "execution_count": 63,
   "id": "027ae886-68dd-4141-96c7-805a5450e1ef",
   "metadata": {
    "execution": {
     "iopub.execute_input": "2025-07-30T13:57:33.686551Z",
     "iopub.status.busy": "2025-07-30T13:57:33.685755Z",
     "iopub.status.idle": "2025-07-30T13:57:33.951003Z",
     "shell.execute_reply": "2025-07-30T13:57:33.950002Z"
    },
    "papermill": {
     "duration": 0.2947,
     "end_time": "2025-07-30T13:57:33.953079",
     "exception": false,
     "start_time": "2025-07-30T13:57:33.658379",
     "status": "completed"
    },
    "tags": []
   },
   "outputs": [],
   "source": [
    "from fairness_multiverse.conformal import build_cp_groups\n",
    "\n",
    "cp_groups_df = build_cp_groups(pred_sets, y_true, X_test.index, org_test)\n",
    "#needs universe_id and setting"
   ]
  },
  {
   "cell_type": "code",
   "execution_count": 64,
   "id": "01d5802c-663a-4d1f-9d69-e036faaffbf7",
   "metadata": {
    "execution": {
     "iopub.execute_input": "2025-07-30T13:57:34.006599Z",
     "iopub.status.busy": "2025-07-30T13:57:34.005688Z",
     "iopub.status.idle": "2025-07-30T13:57:34.011208Z",
     "shell.execute_reply": "2025-07-30T13:57:34.010213Z"
    },
    "papermill": {
     "duration": 0.033499,
     "end_time": "2025-07-30T13:57:34.013079",
     "exception": false,
     "start_time": "2025-07-30T13:57:33.979580",
     "status": "completed"
    },
    "tags": []
   },
   "outputs": [],
   "source": [
    "#delete\n",
    "#cp_groups_df"
   ]
  },
  {
   "cell_type": "code",
   "execution_count": 65,
   "id": "fa424af1-d1eb-443d-b717-2d279ada8408",
   "metadata": {
    "execution": {
     "iopub.execute_input": "2025-07-30T13:57:34.072741Z",
     "iopub.status.busy": "2025-07-30T13:57:34.071909Z",
     "iopub.status.idle": "2025-07-30T13:57:34.077016Z",
     "shell.execute_reply": "2025-07-30T13:57:34.076060Z"
    },
    "papermill": {
     "duration": 0.035872,
     "end_time": "2025-07-30T13:57:34.078698",
     "exception": false,
     "start_time": "2025-07-30T13:57:34.042826",
     "status": "completed"
    },
    "tags": []
   },
   "outputs": [],
   "source": [
    "#delete\n",
    "#percentage = (cp_groups_df['nongerman_female'] == 1).mean() * 100\n",
    "#print(percentage)\n"
   ]
  },
  {
   "cell_type": "code",
   "execution_count": 66,
   "id": "6cbdab96-b2b2-45af-ad54-d0516db2e28d",
   "metadata": {
    "execution": {
     "iopub.execute_input": "2025-07-30T13:57:34.137997Z",
     "iopub.status.busy": "2025-07-30T13:57:34.137213Z",
     "iopub.status.idle": "2025-07-30T13:57:35.842987Z",
     "shell.execute_reply": "2025-07-30T13:57:35.842086Z"
    },
    "papermill": {
     "duration": 1.737042,
     "end_time": "2025-07-30T13:57:35.844796",
     "exception": false,
     "start_time": "2025-07-30T13:57:34.107754",
     "status": "completed"
    },
    "tags": []
   },
   "outputs": [],
   "source": [
    "# Define covered = 1 if true_label is in the predicted set\n",
    "cp_groups_df['covered'] = cp_groups_df.apply(\n",
    "    lambda r: int(r['true_label'] in r['pred_set']),\n",
    "    axis=1\n",
    ")"
   ]
  },
  {
   "cell_type": "code",
   "execution_count": 67,
   "id": "338ff529-1a6b-4b87-a931-8e4788d52aad",
   "metadata": {
    "execution": {
     "iopub.execute_input": "2025-07-30T13:57:35.896500Z",
     "iopub.status.busy": "2025-07-30T13:57:35.895900Z",
     "iopub.status.idle": "2025-07-30T13:57:35.900984Z",
     "shell.execute_reply": "2025-07-30T13:57:35.900013Z"
    },
    "papermill": {
     "duration": 0.031567,
     "end_time": "2025-07-30T13:57:35.902731",
     "exception": false,
     "start_time": "2025-07-30T13:57:35.871164",
     "status": "completed"
    },
    "tags": []
   },
   "outputs": [],
   "source": [
    "#cp_groups_df"
   ]
  },
  {
   "cell_type": "code",
   "execution_count": 68,
   "id": "90032e27-66df-4540-9169-4e89cfbaa758",
   "metadata": {
    "execution": {
     "iopub.execute_input": "2025-07-30T13:57:35.955836Z",
     "iopub.status.busy": "2025-07-30T13:57:35.955154Z",
     "iopub.status.idle": "2025-07-30T13:57:35.966771Z",
     "shell.execute_reply": "2025-07-30T13:57:35.965928Z"
    },
    "papermill": {
     "duration": 0.038277,
     "end_time": "2025-07-30T13:57:35.968375",
     "exception": false,
     "start_time": "2025-07-30T13:57:35.930098",
     "status": "completed"
    },
    "tags": []
   },
   "outputs": [],
   "source": [
    "subgroups = ['frau1','nongerman','nongerman_male','nongerman_female']\n",
    "\n",
    "# Conditional coverage for subgroup==1\n",
    "cond_coverage = {\n",
    "    g: cp_groups_df.loc[cp_groups_df[g]==1, 'covered'].mean()\n",
    "    for g in subgroups\n",
    "}"
   ]
  },
  {
   "cell_type": "code",
   "execution_count": 69,
   "id": "1e348fb1-b9c3-45bc-ba23-f016827a7e0d",
   "metadata": {
    "execution": {
     "iopub.execute_input": "2025-07-30T13:57:36.019831Z",
     "iopub.status.busy": "2025-07-30T13:57:36.019131Z",
     "iopub.status.idle": "2025-07-30T13:57:36.026320Z",
     "shell.execute_reply": "2025-07-30T13:57:36.025363Z"
    },
    "papermill": {
     "duration": 0.035119,
     "end_time": "2025-07-30T13:57:36.027981",
     "exception": false,
     "start_time": "2025-07-30T13:57:35.992862",
     "status": "completed"
    },
    "tags": []
   },
   "outputs": [
    {
     "data": {
      "text/plain": [
       "{'frau1': 0.9051893786224559,\n",
       " 'nongerman': 0.9070903272890586,\n",
       " 'nongerman_male': 0.9243447716833288,\n",
       " 'nongerman_female': 0.8785394932935916}"
      ]
     },
     "execution_count": 69,
     "metadata": {},
     "output_type": "execute_result"
    }
   ],
   "source": [
    "cond_coverage"
   ]
  },
  {
   "cell_type": "code",
   "execution_count": 70,
   "id": "f5093324-c3dd-4d63-bc4c-8d945e5c8bbb",
   "metadata": {
    "execution": {
     "iopub.execute_input": "2025-07-30T13:57:36.082957Z",
     "iopub.status.busy": "2025-07-30T13:57:36.082315Z",
     "iopub.status.idle": "2025-07-30T13:57:36.089773Z",
     "shell.execute_reply": "2025-07-30T13:57:36.088789Z"
    },
    "papermill": {
     "duration": 0.036003,
     "end_time": "2025-07-30T13:57:36.091596",
     "exception": false,
     "start_time": "2025-07-30T13:57:36.055593",
     "status": "completed"
    },
    "tags": []
   },
   "outputs": [],
   "source": [
    "for subgroup, cov in cond_coverage.items():\n",
    "    cp_metrics_df[f\"cov_{subgroup}\"] = cov"
   ]
  },
  {
   "cell_type": "code",
   "execution_count": 71,
   "id": "6e872e10-dbe5-49e8-b554-5030c98ff75d",
   "metadata": {
    "execution": {
     "iopub.execute_input": "2025-07-30T13:57:36.146586Z",
     "iopub.status.busy": "2025-07-30T13:57:36.145601Z",
     "iopub.status.idle": "2025-07-30T13:57:36.163926Z",
     "shell.execute_reply": "2025-07-30T13:57:36.162736Z"
    },
    "papermill": {
     "duration": 0.046836,
     "end_time": "2025-07-30T13:57:36.165949",
     "exception": false,
     "start_time": "2025-07-30T13:57:36.119113",
     "status": "completed"
    },
    "tags": []
   },
   "outputs": [
    {
     "data": {
      "text/html": [
       "<div>\n",
       "<style scoped>\n",
       "    .dataframe tbody tr th:only-of-type {\n",
       "        vertical-align: middle;\n",
       "    }\n",
       "\n",
       "    .dataframe tbody tr th {\n",
       "        vertical-align: top;\n",
       "    }\n",
       "\n",
       "    .dataframe thead th {\n",
       "        text-align: right;\n",
       "    }\n",
       "</style>\n",
       "<table border=\"1\" class=\"dataframe\">\n",
       "  <thead>\n",
       "    <tr style=\"text-align: right;\">\n",
       "      <th></th>\n",
       "      <th>universe_id</th>\n",
       "      <th>universe_training_size</th>\n",
       "      <th>universe_scale</th>\n",
       "      <th>universe_model</th>\n",
       "      <th>universe_exclude_features</th>\n",
       "      <th>universe_exclude_subgroups</th>\n",
       "      <th>q_hat</th>\n",
       "      <th>coverage</th>\n",
       "      <th>avg_size</th>\n",
       "      <th>cov_frau1</th>\n",
       "      <th>cov_nongerman</th>\n",
       "      <th>cov_nongerman_male</th>\n",
       "      <th>cov_nongerman_female</th>\n",
       "    </tr>\n",
       "  </thead>\n",
       "  <tbody>\n",
       "    <tr>\n",
       "      <th>0</th>\n",
       "      <td>cec8bf8b5ee7d9a03eab2fa29d6f898a</td>\n",
       "      <td>5k</td>\n",
       "      <td>scale</td>\n",
       "      <td>gbm</td>\n",
       "      <td>sex</td>\n",
       "      <td>keep-all</td>\n",
       "      <td>0.691321</td>\n",
       "      <td>0.909508</td>\n",
       "      <td>1.123275</td>\n",
       "      <td>0.905189</td>\n",
       "      <td>0.90709</td>\n",
       "      <td>0.924345</td>\n",
       "      <td>0.878539</td>\n",
       "    </tr>\n",
       "  </tbody>\n",
       "</table>\n",
       "</div>"
      ],
      "text/plain": [
       "                        universe_id universe_training_size universe_scale  \\\n",
       "0  cec8bf8b5ee7d9a03eab2fa29d6f898a                     5k          scale   \n",
       "\n",
       "  universe_model universe_exclude_features universe_exclude_subgroups  \\\n",
       "0            gbm                       sex                   keep-all   \n",
       "\n",
       "      q_hat  coverage  avg_size  cov_frau1  cov_nongerman  cov_nongerman_male  \\\n",
       "0  0.691321  0.909508  1.123275   0.905189        0.90709            0.924345   \n",
       "\n",
       "   cov_nongerman_female  \n",
       "0              0.878539  "
      ]
     },
     "execution_count": 71,
     "metadata": {},
     "output_type": "execute_result"
    }
   ],
   "source": [
    "cp_metrics_df"
   ]
  },
  {
   "cell_type": "markdown",
   "id": "33774451",
   "metadata": {
    "papermill": {
     "duration": 0.026508,
     "end_time": "2025-07-30T13:57:36.219653",
     "exception": false,
     "start_time": "2025-07-30T13:57:36.193145",
     "status": "completed"
    },
    "tags": []
   },
   "source": [
    "# (Fairness) Metrics"
   ]
  },
  {
   "cell_type": "code",
   "execution_count": 72,
   "id": "debc5d62",
   "metadata": {
    "execution": {
     "iopub.execute_input": "2025-07-30T13:57:36.274510Z",
     "iopub.status.busy": "2025-07-30T13:57:36.273855Z",
     "iopub.status.idle": "2025-07-30T13:57:36.295685Z",
     "shell.execute_reply": "2025-07-30T13:57:36.294837Z"
    },
    "papermill": {
     "duration": 0.050668,
     "end_time": "2025-07-30T13:57:36.297444",
     "exception": false,
     "start_time": "2025-07-30T13:57:36.246776",
     "status": "completed"
    },
    "tags": []
   },
   "outputs": [],
   "source": [
    "# do I need to include maxdeutsch1.missing?\n",
    "\n",
    "import numpy as np\n",
    "\n",
    "colname_to_bin = \"maxdeutsch1\"\n",
    "majority_value = org_train[colname_to_bin].mode()[0]\n",
    "\n",
    "org_test[\"majmin\"] = np.where(org_test[colname_to_bin] == majority_value, \"majority\", \"minority\")"
   ]
  },
  {
   "cell_type": "code",
   "execution_count": 73,
   "id": "06a50de5",
   "metadata": {
    "execution": {
     "iopub.execute_input": "2025-07-30T13:57:36.353250Z",
     "iopub.status.busy": "2025-07-30T13:57:36.352553Z",
     "iopub.status.idle": "2025-07-30T13:57:39.236829Z",
     "shell.execute_reply": "2025-07-30T13:57:39.235954Z"
    },
    "papermill": {
     "duration": 2.913707,
     "end_time": "2025-07-30T13:57:39.238585",
     "exception": false,
     "start_time": "2025-07-30T13:57:36.324878",
     "status": "completed"
    },
    "tags": []
   },
   "outputs": [],
   "source": [
    "example_universe = universe.copy()\n",
    "example_universe[\"cutoff\"] = example_universe[\"cutoff\"][0]\n",
    "example_universe[\"eval_fairness_grouping\"] = example_universe[\"eval_fairness_grouping\"][0]\n",
    "fairness_dict, metric_frame = universe_analysis.compute_metrics(\n",
    "    example_universe,\n",
    "    y_pred_prob=probs_test,\n",
    "    y_test=y_true,\n",
    "    org_test=org_test,\n",
    ")"
   ]
  },
  {
   "cell_type": "markdown",
   "id": "f95d4e02",
   "metadata": {
    "papermill": {
     "duration": 0.026796,
     "end_time": "2025-07-30T13:57:39.295229",
     "exception": false,
     "start_time": "2025-07-30T13:57:39.268433",
     "status": "completed"
    },
    "tags": []
   },
   "source": [
    "# Overall"
   ]
  },
  {
   "cell_type": "markdown",
   "id": "bdee4871",
   "metadata": {
    "papermill": {
     "duration": 0.028168,
     "end_time": "2025-07-30T13:57:39.349885",
     "exception": false,
     "start_time": "2025-07-30T13:57:39.321717",
     "status": "completed"
    },
    "tags": []
   },
   "source": [
    "Fairness\n",
    "Main fairness target: Equalized Odds. Seems to be a better fit than equal opportunity, since we're not only interested in Y = 1. Seems to be a better fit than demographic parity, since we also care about accuracy, not just equal distribution of preds.\n",
    "\n",
    "Pick column for computation of fairness metrics\n",
    "\n",
    "Performance\n",
    "Overall performance measures, most interesting in relation to the measures split by group below"
   ]
  },
  {
   "cell_type": "code",
   "execution_count": 74,
   "id": "c4e067c6",
   "metadata": {
    "execution": {
     "iopub.execute_input": "2025-07-30T13:57:39.400967Z",
     "iopub.status.busy": "2025-07-30T13:57:39.400461Z",
     "iopub.status.idle": "2025-07-30T13:57:39.409027Z",
     "shell.execute_reply": "2025-07-30T13:57:39.408075Z"
    },
    "papermill": {
     "duration": 0.046249,
     "end_time": "2025-07-30T13:57:39.421146",
     "exception": false,
     "start_time": "2025-07-30T13:57:39.374897",
     "status": "completed"
    },
    "tags": []
   },
   "outputs": [
    {
     "data": {
      "text/plain": [
       "accuracy                   0.224668\n",
       "balanced accuracy          0.549284\n",
       "f1                         0.245992\n",
       "precision                  0.140527\n",
       "false positive rate        0.887356\n",
       "false negative rate        0.014077\n",
       "selection rate             0.900000\n",
       "count                  89710.000000\n",
       "dtype: float64"
      ]
     },
     "execution_count": 74,
     "metadata": {},
     "output_type": "execute_result"
    }
   ],
   "source": [
    "metric_frame.overall"
   ]
  },
  {
   "cell_type": "markdown",
   "id": "e968fe9d",
   "metadata": {
    "papermill": {
     "duration": 0.024402,
     "end_time": "2025-07-30T13:57:39.471752",
     "exception": false,
     "start_time": "2025-07-30T13:57:39.447350",
     "status": "completed"
    },
    "tags": []
   },
   "source": [
    "By Group"
   ]
  },
  {
   "cell_type": "code",
   "execution_count": 75,
   "id": "ec325bce",
   "metadata": {
    "execution": {
     "iopub.execute_input": "2025-07-30T13:57:39.523190Z",
     "iopub.status.busy": "2025-07-30T13:57:39.522386Z",
     "iopub.status.idle": "2025-07-30T13:57:39.538191Z",
     "shell.execute_reply": "2025-07-30T13:57:39.537246Z"
    },
    "papermill": {
     "duration": 0.043174,
     "end_time": "2025-07-30T13:57:39.539630",
     "exception": false,
     "start_time": "2025-07-30T13:57:39.496456",
     "status": "completed"
    },
    "tags": []
   },
   "outputs": [
    {
     "data": {
      "text/html": [
       "<div>\n",
       "<style scoped>\n",
       "    .dataframe tbody tr th:only-of-type {\n",
       "        vertical-align: middle;\n",
       "    }\n",
       "\n",
       "    .dataframe tbody tr th {\n",
       "        vertical-align: top;\n",
       "    }\n",
       "\n",
       "    .dataframe thead th {\n",
       "        text-align: right;\n",
       "    }\n",
       "</style>\n",
       "<table border=\"1\" class=\"dataframe\">\n",
       "  <thead>\n",
       "    <tr style=\"text-align: right;\">\n",
       "      <th></th>\n",
       "      <th>accuracy</th>\n",
       "      <th>balanced accuracy</th>\n",
       "      <th>f1</th>\n",
       "      <th>precision</th>\n",
       "      <th>false positive rate</th>\n",
       "      <th>false negative rate</th>\n",
       "      <th>selection rate</th>\n",
       "      <th>count</th>\n",
       "    </tr>\n",
       "    <tr>\n",
       "      <th>majmin</th>\n",
       "      <th></th>\n",
       "      <th></th>\n",
       "      <th></th>\n",
       "      <th></th>\n",
       "      <th></th>\n",
       "      <th></th>\n",
       "      <th></th>\n",
       "      <th></th>\n",
       "    </tr>\n",
       "  </thead>\n",
       "  <tbody>\n",
       "    <tr>\n",
       "      <th>majority</th>\n",
       "      <td>0.245323</td>\n",
       "      <td>0.558392</td>\n",
       "      <td>0.256258</td>\n",
       "      <td>0.147313</td>\n",
       "      <td>0.867133</td>\n",
       "      <td>0.016083</td>\n",
       "      <td>0.882565</td>\n",
       "      <td>69170.0</td>\n",
       "    </tr>\n",
       "    <tr>\n",
       "      <th>minority</th>\n",
       "      <td>0.155112</td>\n",
       "      <td>0.519753</td>\n",
       "      <td>0.213327</td>\n",
       "      <td>0.119490</td>\n",
       "      <td>0.954160</td>\n",
       "      <td>0.006334</td>\n",
       "      <td>0.958715</td>\n",
       "      <td>20540.0</td>\n",
       "    </tr>\n",
       "  </tbody>\n",
       "</table>\n",
       "</div>"
      ],
      "text/plain": [
       "          accuracy  balanced accuracy        f1  precision  \\\n",
       "majmin                                                       \n",
       "majority  0.245323           0.558392  0.256258   0.147313   \n",
       "minority  0.155112           0.519753  0.213327   0.119490   \n",
       "\n",
       "          false positive rate  false negative rate  selection rate    count  \n",
       "majmin                                                                       \n",
       "majority             0.867133             0.016083        0.882565  69170.0  \n",
       "minority             0.954160             0.006334        0.958715  20540.0  "
      ]
     },
     "execution_count": 75,
     "metadata": {},
     "output_type": "execute_result"
    }
   ],
   "source": [
    "metric_frame.by_group"
   ]
  },
  {
   "cell_type": "code",
   "execution_count": 76,
   "id": "a9ddbe63",
   "metadata": {
    "execution": {
     "iopub.execute_input": "2025-07-30T13:57:39.593395Z",
     "iopub.status.busy": "2025-07-30T13:57:39.592628Z",
     "iopub.status.idle": "2025-07-30T13:57:41.875450Z",
     "shell.execute_reply": "2025-07-30T13:57:41.874584Z"
    },
    "papermill": {
     "duration": 2.311879,
     "end_time": "2025-07-30T13:57:41.877751",
     "exception": false,
     "start_time": "2025-07-30T13:57:39.565872",
     "status": "completed"
    },
    "tags": []
   },
   "outputs": [
    {
     "data": {
      "text/plain": [
       "array([[<Axes: title={'center': 'accuracy'}, xlabel='majmin'>,\n",
       "        <Axes: title={'center': 'balanced accuracy'}, xlabel='majmin'>,\n",
       "        <Axes: title={'center': 'f1'}, xlabel='majmin'>],\n",
       "       [<Axes: title={'center': 'precision'}, xlabel='majmin'>,\n",
       "        <Axes: title={'center': 'false positive rate'}, xlabel='majmin'>,\n",
       "        <Axes: title={'center': 'false negative rate'}, xlabel='majmin'>],\n",
       "       [<Axes: title={'center': 'selection rate'}, xlabel='majmin'>,\n",
       "        <Axes: title={'center': 'count'}, xlabel='majmin'>,\n",
       "        <Axes: xlabel='majmin'>]], dtype=object)"
      ]
     },
     "execution_count": 76,
     "metadata": {},
     "output_type": "execute_result"
    },
    {
     "data": {
      "image/png": "[encoded data removed]",
      "text/plain": [
       "<Figure size 1200x800 with 9 Axes>"
      ]
     },
     "metadata": {},
     "output_type": "display_data"
    }
   ],
   "source": [
    "# In a graphic\n",
    "metric_frame.by_group.plot.bar(\n",
    "    subplots=True,\n",
    "    layout=[3, 3],\n",
    "    legend=False,\n",
    "    figsize=[12, 8],\n",
    "    title=\"Show all metrics\",\n",
    ")"
   ]
  },
  {
   "cell_type": "markdown",
   "id": "f57a0bac",
   "metadata": {
    "papermill": {
     "duration": 0.042394,
     "end_time": "2025-07-30T13:57:41.965365",
     "exception": false,
     "start_time": "2025-07-30T13:57:41.922971",
     "status": "completed"
    },
    "tags": []
   },
   "source": [
    "# Final Output"
   ]
  },
  {
   "cell_type": "code",
   "execution_count": 77,
   "id": "96d280a3",
   "metadata": {
    "execution": {
     "iopub.execute_input": "2025-07-30T13:57:42.054854Z",
     "iopub.status.busy": "2025-07-30T13:57:42.054021Z",
     "iopub.status.idle": "2025-07-30T13:57:42.064953Z",
     "shell.execute_reply": "2025-07-30T13:57:42.063749Z"
    },
    "papermill": {
     "duration": 0.056554,
     "end_time": "2025-07-30T13:57:42.066873",
     "exception": false,
     "start_time": "2025-07-30T13:57:42.010319",
     "status": "completed"
    },
    "tags": []
   },
   "outputs": [
    {
     "data": {
      "text/plain": [
       "4"
      ]
     },
     "execution_count": 77,
     "metadata": {},
     "output_type": "execute_result"
    }
   ],
   "source": [
    "sub_universes = universe_analysis.generate_sub_universes()\n",
    "len(sub_universes)"
   ]
  },
  {
   "cell_type": "code",
   "execution_count": 78,
   "id": "92adf7ba",
   "metadata": {
    "execution": {
     "iopub.execute_input": "2025-07-30T13:57:42.133494Z",
     "iopub.status.busy": "2025-07-30T13:57:42.132954Z",
     "iopub.status.idle": "2025-07-30T13:57:42.139693Z",
     "shell.execute_reply": "2025-07-30T13:57:42.138570Z"
    },
    "papermill": {
     "duration": 0.038344,
     "end_time": "2025-07-30T13:57:42.141292",
     "exception": false,
     "start_time": "2025-07-30T13:57:42.102948",
     "status": "completed"
    },
    "tags": []
   },
   "outputs": [],
   "source": [
    "def filter_sub_universe_data(sub_universe, org_test):\n",
    "    # Keep all rows — no filtering\n",
    "    keep_rows_mask = np.ones(org_test.shape[0], dtype=bool)\n",
    "\n",
    "    print(f\"[INFO] Keeping all rows: {keep_rows_mask.sum()} rows retained.\")\n",
    "    return keep_rows_mask"
   ]
  },
  {
   "cell_type": "code",
   "execution_count": 79,
   "id": "4a759155",
   "metadata": {
    "execution": {
     "iopub.execute_input": "2025-07-30T13:57:42.202592Z",
     "iopub.status.busy": "2025-07-30T13:57:42.201709Z",
     "iopub.status.idle": "2025-07-30T13:57:52.967656Z",
     "shell.execute_reply": "2025-07-30T13:57:52.966559Z"
    },
    "papermill": {
     "duration": 10.798333,
     "end_time": "2025-07-30T13:57:52.969292",
     "exception": false,
     "start_time": "2025-07-30T13:57:42.170959",
     "status": "completed"
    },
    "tags": []
   },
   "outputs": [
    {
     "name": "stdout",
     "output_type": "stream",
     "text": [
      "Stopping execution_time clock.\n",
      "[INFO] Keeping all rows: 89710 rows retained.\n"
     ]
    },
    {
     "name": "stdout",
     "output_type": "stream",
     "text": [
      "[INFO] Keeping all rows: 89710 rows retained.\n"
     ]
    },
    {
     "name": "stdout",
     "output_type": "stream",
     "text": [
      "[INFO] Keeping all rows: 89710 rows retained.\n"
     ]
    },
    {
     "name": "stdout",
     "output_type": "stream",
     "text": [
      "[INFO] Keeping all rows: 89710 rows retained.\n"
     ]
    },
    {
     "data": {
      "text/html": [
       "<div>\n",
       "<style scoped>\n",
       "    .dataframe tbody tr th:only-of-type {\n",
       "        vertical-align: middle;\n",
       "    }\n",
       "\n",
       "    .dataframe tbody tr th {\n",
       "        vertical-align: top;\n",
       "    }\n",
       "\n",
       "    .dataframe thead th {\n",
       "        text-align: right;\n",
       "    }\n",
       "</style>\n",
       "<table border=\"1\" class=\"dataframe\">\n",
       "  <thead>\n",
       "    <tr style=\"text-align: right;\">\n",
       "      <th></th>\n",
       "      <th>run_no</th>\n",
       "      <th>universe_id</th>\n",
       "      <th>universe_settings</th>\n",
       "      <th>execution_time</th>\n",
       "      <th>test_size_n</th>\n",
       "      <th>test_size_frac</th>\n",
       "      <th>fair_main_equalized_odds_difference</th>\n",
       "      <th>fair_main_equalized_odds_ratio</th>\n",
       "      <th>fair_main_demographic_parity_difference</th>\n",
       "      <th>fair_main_demographic_parity_ratio</th>\n",
       "      <th>...</th>\n",
       "      <th>perf_grp_precision_0</th>\n",
       "      <th>perf_grp_precision_1</th>\n",
       "      <th>perf_grp_false positive rate_0</th>\n",
       "      <th>perf_grp_false positive rate_1</th>\n",
       "      <th>perf_grp_false negative rate_0</th>\n",
       "      <th>perf_grp_false negative rate_1</th>\n",
       "      <th>perf_grp_selection rate_0</th>\n",
       "      <th>perf_grp_selection rate_1</th>\n",
       "      <th>perf_grp_count_0</th>\n",
       "      <th>perf_grp_count_1</th>\n",
       "    </tr>\n",
       "  </thead>\n",
       "  <tbody>\n",
       "    <tr>\n",
       "      <th>0</th>\n",
       "      <td>12</td>\n",
       "      <td>cec8bf8b5ee7d9a03eab2fa29d6f898a</td>\n",
       "      <td>{\"cutoff\": \"quantile_0.1\", \"eval_fairness_grou...</td>\n",
       "      <td>35.946682</td>\n",
       "      <td>89710</td>\n",
       "      <td>1.0</td>\n",
       "      <td>0.087027</td>\n",
       "      <td>0.908792</td>\n",
       "      <td>0.076150</td>\n",
       "      <td>0.920571</td>\n",
       "      <td>...</td>\n",
       "      <td>NaN</td>\n",
       "      <td>NaN</td>\n",
       "      <td>NaN</td>\n",
       "      <td>NaN</td>\n",
       "      <td>NaN</td>\n",
       "      <td>NaN</td>\n",
       "      <td>NaN</td>\n",
       "      <td>NaN</td>\n",
       "      <td>NaN</td>\n",
       "      <td>NaN</td>\n",
       "    </tr>\n",
       "    <tr>\n",
       "      <th>0</th>\n",
       "      <td>12</td>\n",
       "      <td>cec8bf8b5ee7d9a03eab2fa29d6f898a</td>\n",
       "      <td>{\"cutoff\": \"quantile_0.1\", \"eval_fairness_grou...</td>\n",
       "      <td>35.946682</td>\n",
       "      <td>89710</td>\n",
       "      <td>1.0</td>\n",
       "      <td>0.087027</td>\n",
       "      <td>0.908792</td>\n",
       "      <td>0.076150</td>\n",
       "      <td>0.920571</td>\n",
       "      <td>...</td>\n",
       "      <td>0.119490</td>\n",
       "      <td>0.147313</td>\n",
       "      <td>0.954160</td>\n",
       "      <td>0.867133</td>\n",
       "      <td>0.006334</td>\n",
       "      <td>0.016083</td>\n",
       "      <td>0.958715</td>\n",
       "      <td>0.882565</td>\n",
       "      <td>20540.0</td>\n",
       "      <td>69170.0</td>\n",
       "    </tr>\n",
       "    <tr>\n",
       "      <th>0</th>\n",
       "      <td>12</td>\n",
       "      <td>cec8bf8b5ee7d9a03eab2fa29d6f898a</td>\n",
       "      <td>{\"cutoff\": \"quantile_0.25\", \"eval_fairness_gro...</td>\n",
       "      <td>35.946682</td>\n",
       "      <td>89710</td>\n",
       "      <td>1.0</td>\n",
       "      <td>0.104118</td>\n",
       "      <td>0.870088</td>\n",
       "      <td>0.086702</td>\n",
       "      <td>0.893857</td>\n",
       "      <td>...</td>\n",
       "      <td>NaN</td>\n",
       "      <td>NaN</td>\n",
       "      <td>NaN</td>\n",
       "      <td>NaN</td>\n",
       "      <td>NaN</td>\n",
       "      <td>NaN</td>\n",
       "      <td>NaN</td>\n",
       "      <td>NaN</td>\n",
       "      <td>NaN</td>\n",
       "      <td>NaN</td>\n",
       "    </tr>\n",
       "    <tr>\n",
       "      <th>0</th>\n",
       "      <td>12</td>\n",
       "      <td>cec8bf8b5ee7d9a03eab2fa29d6f898a</td>\n",
       "      <td>{\"cutoff\": \"quantile_0.25\", \"eval_fairness_gro...</td>\n",
       "      <td>35.946682</td>\n",
       "      <td>89710</td>\n",
       "      <td>1.0</td>\n",
       "      <td>0.104118</td>\n",
       "      <td>0.870088</td>\n",
       "      <td>0.086702</td>\n",
       "      <td>0.893857</td>\n",
       "      <td>...</td>\n",
       "      <td>0.131959</td>\n",
       "      <td>0.171135</td>\n",
       "      <td>0.801453</td>\n",
       "      <td>0.697335</td>\n",
       "      <td>0.065034</td>\n",
       "      <td>0.054376</td>\n",
       "      <td>0.816845</td>\n",
       "      <td>0.730143</td>\n",
       "      <td>20540.0</td>\n",
       "      <td>69170.0</td>\n",
       "    </tr>\n",
       "  </tbody>\n",
       "</table>\n",
       "<p>4 rows × 50 columns</p>\n",
       "</div>"
      ],
      "text/plain": [
       "  run_no                       universe_id  \\\n",
       "0     12  cec8bf8b5ee7d9a03eab2fa29d6f898a   \n",
       "0     12  cec8bf8b5ee7d9a03eab2fa29d6f898a   \n",
       "0     12  cec8bf8b5ee7d9a03eab2fa29d6f898a   \n",
       "0     12  cec8bf8b5ee7d9a03eab2fa29d6f898a   \n",
       "\n",
       "                                   universe_settings  execution_time  \\\n",
       "0  {\"cutoff\": \"quantile_0.1\", \"eval_fairness_grou...       35.946682   \n",
       "0  {\"cutoff\": \"quantile_0.1\", \"eval_fairness_grou...       35.946682   \n",
       "0  {\"cutoff\": \"quantile_0.25\", \"eval_fairness_gro...       35.946682   \n",
       "0  {\"cutoff\": \"quantile_0.25\", \"eval_fairness_gro...       35.946682   \n",
       "\n",
       "   test_size_n  test_size_frac  fair_main_equalized_odds_difference  \\\n",
       "0        89710             1.0                             0.087027   \n",
       "0        89710             1.0                             0.087027   \n",
       "0        89710             1.0                             0.104118   \n",
       "0        89710             1.0                             0.104118   \n",
       "\n",
       "   fair_main_equalized_odds_ratio  fair_main_demographic_parity_difference  \\\n",
       "0                        0.908792                                 0.076150   \n",
       "0                        0.908792                                 0.076150   \n",
       "0                        0.870088                                 0.086702   \n",
       "0                        0.870088                                 0.086702   \n",
       "\n",
       "   fair_main_demographic_parity_ratio  ...  perf_grp_precision_0  \\\n",
       "0                            0.920571  ...                   NaN   \n",
       "0                            0.920571  ...              0.119490   \n",
       "0                            0.893857  ...                   NaN   \n",
       "0                            0.893857  ...              0.131959   \n",
       "\n",
       "   perf_grp_precision_1  perf_grp_false positive rate_0  \\\n",
       "0                   NaN                             NaN   \n",
       "0              0.147313                        0.954160   \n",
       "0                   NaN                             NaN   \n",
       "0              0.171135                        0.801453   \n",
       "\n",
       "   perf_grp_false positive rate_1  perf_grp_false negative rate_0  \\\n",
       "0                             NaN                             NaN   \n",
       "0                        0.867133                        0.006334   \n",
       "0                             NaN                             NaN   \n",
       "0                        0.697335                        0.065034   \n",
       "\n",
       "   perf_grp_false negative rate_1  perf_grp_selection rate_0  \\\n",
       "0                             NaN                        NaN   \n",
       "0                        0.016083                   0.958715   \n",
       "0                             NaN                        NaN   \n",
       "0                        0.054376                   0.816845   \n",
       "\n",
       "   perf_grp_selection rate_1  perf_grp_count_0  perf_grp_count_1  \n",
       "0                        NaN               NaN               NaN  \n",
       "0                   0.882565           20540.0           69170.0  \n",
       "0                        NaN               NaN               NaN  \n",
       "0                   0.730143           20540.0           69170.0  \n",
       "\n",
       "[4 rows x 50 columns]"
      ]
     },
     "execution_count": 79,
     "metadata": {},
     "output_type": "execute_result"
    }
   ],
   "source": [
    "final_output = universe_analysis.generate_final_output(\n",
    "    y_pred_prob=probs_test,\n",
    "    y_test=y_true,\n",
    "    org_test=org_test,\n",
    "    filter_data=filter_sub_universe_data,\n",
    "    cp_metrics_df=cp_metrics_df,\n",
    "    save=True,\n",
    ")\n",
    "final_output"
   ]
  },
  {
   "cell_type": "code",
   "execution_count": null,
   "id": "721ff514-cb11-46f8-b6fc-50392f74b5cb",
   "metadata": {
    "papermill": {
     "duration": 0.034991,
     "end_time": "2025-07-30T13:57:53.037721",
     "exception": false,
     "start_time": "2025-07-30T13:57:53.002730",
     "status": "completed"
    },
    "tags": []
   },
   "outputs": [],
   "source": []
  }
 ],
 "metadata": {
  "celltoolbar": "Tags",
  "kernelspec": {
   "display_name": "Python (CMA Fairness)",
   "language": "python",
   "name": "cma_fair_env"
  },
  "language_info": {
   "codemirror_mode": {
    "name": "ipython",
    "version": 3
   },
   "file_extension": ".py",
   "mimetype": "text/x-python",
   "name": "python",
   "nbconvert_exporter": "python",
   "pygments_lexer": "ipython3",
   "version": "3.10.12"
  },
  "papermill": {
   "default_parameters": {},
   "duration": 51.691916,
   "end_time": "2025-07-30T13:57:53.892702",
   "environment_variables": {},
   "exception": null,
   "input_path": "universe_analysis.ipynb",
   "output_path": "output/runs/12/notebooks/m_12-cec8bf8b5ee7d9a03eab2fa29d6f898a.ipynb",
   "parameters": {
    "output_dir": "output",
    "run_no": "12",
    "seed": "2023",
    "universe": "{\"cutoff\": [\"quantile_0.1\", \"quantile_0.25\"], \"eval_fairness_grouping\": [\"majority-minority\", \"nationality-all\"], \"exclude_features\": \"sex\", \"exclude_subgroups\": \"keep-all\", \"model\": \"gbm\", \"scale\": \"scale\", \"training_size\": \"5k\", \"training_year\": \"2012_14\"}",
    "universe_id": "cec8bf8b5ee7d9a03eab2fa29d6f898a"
   },
   "start_time": "2025-07-30T13:57:02.200786",
   "version": "2.6.0"
  }
 },
 "nbformat": 4,
 "nbformat_minor": 5
}