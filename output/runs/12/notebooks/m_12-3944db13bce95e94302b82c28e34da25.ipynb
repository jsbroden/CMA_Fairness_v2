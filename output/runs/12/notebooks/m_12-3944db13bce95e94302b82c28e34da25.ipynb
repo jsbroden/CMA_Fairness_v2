{
 "cells": [
  {
   "cell_type": "code",
   "execution_count": 1,
   "id": "f159f837-637b-42ba-96b5-ec9a68c44524",
   "metadata": {
    "execution": {
     "iopub.execute_input": "2025-07-30T14:13:36.052122Z",
     "iopub.status.busy": "2025-07-30T14:13:36.051653Z",
     "iopub.status.idle": "2025-07-30T14:13:36.065512Z",
     "shell.execute_reply": "2025-07-30T14:13:36.064510Z"
    },
    "papermill": {
     "duration": 0.03903,
     "end_time": "2025-07-30T14:13:36.067374",
     "exception": false,
     "start_time": "2025-07-30T14:13:36.028344",
     "status": "completed"
    },
    "tags": []
   },
   "outputs": [
    {
     "name": "stdout",
     "output_type": "stream",
     "text": [
      "/dss/dsshome1/0C/ra93lal2/cma/CMA_Fairness_v2\n"
     ]
    },
    {
     "name": "stderr",
     "output_type": "stream",
     "text": [
      "/dss/dsshome1/0C/ra93lal2/.local/share/virtualenvs/CMA_Fairness_v2-3j10GkSs/lib/python3.10/site-packages/IPython/core/magics/osm.py:393: UserWarning: This is now an optional IPython functionality, using bookmarks requires you to install the `pickleshare` library.\n",
      "  bkms = self.shell.db.get('bookmarks', {})\n",
      "/dss/dsshome1/0C/ra93lal2/.local/share/virtualenvs/CMA_Fairness_v2-3j10GkSs/lib/python3.10/site-packages/IPython/core/magics/osm.py:417: UserWarning: This is now an optional IPython functionality, setting dhist requires you to install the `pickleshare` library.\n",
      "  self.shell.db['dhist'] = compress_dhist(dhist)[-100:]\n"
     ]
    }
   ],
   "source": [
    "%cd ~/cma/CMA_Fairness_v2"
   ]
  },
  {
   "cell_type": "markdown",
   "id": "de2603b9",
   "metadata": {
    "papermill": {
     "duration": 0.018862,
     "end_time": "2025-07-30T14:13:36.106576",
     "exception": false,
     "start_time": "2025-07-30T14:13:36.087714",
     "status": "completed"
    },
    "tags": []
   },
   "source": [
    "The following cell holds the definition of our parameters, these values can be overriden by rendering the with e.g. the following command:\n",
    "\n",
    "papermill -p alpha 0.2 -p ratio 0.3 universe_analysis.ipynb output/test_run.ipynb"
   ]
  },
  {
   "cell_type": "code",
   "execution_count": 2,
   "id": "a80968a0-40bb-4fa9-85ef-2d5eefb01975",
   "metadata": {
    "execution": {
     "iopub.execute_input": "2025-07-30T14:13:36.147710Z",
     "iopub.status.busy": "2025-07-30T14:13:36.147218Z",
     "iopub.status.idle": "2025-07-30T14:13:36.153165Z",
     "shell.execute_reply": "2025-07-30T14:13:36.152142Z"
    },
    "papermill": {
     "duration": 0.028546,
     "end_time": "2025-07-30T14:13:36.154908",
     "exception": false,
     "start_time": "2025-07-30T14:13:36.126362",
     "status": "completed"
    },
    "tags": []
   },
   "outputs": [
    {
     "name": "stdout",
     "output_type": "stream",
     "text": [
      "Current working directory: /dss/dsshome1/0C/ra93lal2/cma/CMA_Fairness_v2\n"
     ]
    }
   ],
   "source": [
    "import os\n",
    "print(\"Current working directory:\", os.getcwd())"
   ]
  },
  {
   "cell_type": "code",
   "execution_count": 3,
   "id": "2dce4c03",
   "metadata": {
    "execution": {
     "iopub.execute_input": "2025-07-30T14:13:36.201170Z",
     "iopub.status.busy": "2025-07-30T14:13:36.200667Z",
     "iopub.status.idle": "2025-07-30T14:13:36.207187Z",
     "shell.execute_reply": "2025-07-30T14:13:36.206206Z"
    },
    "papermill": {
     "duration": 0.031461,
     "end_time": "2025-07-30T14:13:36.209041",
     "exception": false,
     "start_time": "2025-07-30T14:13:36.177580",
     "status": "completed"
    },
    "tags": [
     "parameters"
    ]
   },
   "outputs": [],
   "source": [
    "run_no = 0\n",
    "universe_id = \"test\"\n",
    "universe = {\n",
    "    \"training_size\": \"25k\", # \"25k\", \"5k\", \"1k\"\n",
    "    \"training_year\": \"2014\", # \"2014\", \"2012_14\", \"2010_14\"\n",
    "    \"scale\": \"scale\", # \"scale\", \"do-not-scale\",\n",
    "    #\"stratify_split\": \"target\", # \"none\", \"target\", \"protected-attribute\", \"both\",\n",
    "    \"model\": \"elasticnet\", # \"logreg\", \"penalized_logreg\", \"rf\", \"gbm\", \"elasticnet\"\n",
    "    \"cutoff\": [\"quantile_0.15\", \"quantile_0.30\"],\n",
    "    \"exclude_features\": \"age\", # \"none\", \"nationality\", \"sex\", \"nationality-sex\", \"age\"\n",
    "    \"exclude_subgroups\": \"keep-all\", # \"keep-all\", \"drop-non-german\"\n",
    "    \"eval_fairness_grouping\": [\"majority-minority\", \"nationality-all\"]\n",
    "}\n",
    "\n",
    "output_dir=\"./output\"\n",
    "seed=0"
   ]
  },
  {
   "cell_type": "code",
   "execution_count": 4,
   "id": "4bcd3e0f",
   "metadata": {
    "execution": {
     "iopub.execute_input": "2025-07-30T14:13:36.254353Z",
     "iopub.status.busy": "2025-07-30T14:13:36.253851Z",
     "iopub.status.idle": "2025-07-30T14:13:36.259229Z",
     "shell.execute_reply": "2025-07-30T14:13:36.258256Z"
    },
    "papermill": {
     "duration": 0.029125,
     "end_time": "2025-07-30T14:13:36.260895",
     "exception": false,
     "start_time": "2025-07-30T14:13:36.231770",
     "status": "completed"
    },
    "tags": [
     "injected-parameters"
    ]
   },
   "outputs": [],
   "source": [
    "# Parameters\n",
    "universe_id = \"3944db13bce95e94302b82c28e34da25\"\n",
    "run_no = \"12\"\n",
    "universe = \"{\\\"cutoff\\\": [\\\"quantile_0.1\\\", \\\"quantile_0.25\\\"], \\\"eval_fairness_grouping\\\": [\\\"majority-minority\\\", \\\"nationality-all\\\"], \\\"exclude_features\\\": \\\"none\\\", \\\"exclude_subgroups\\\": \\\"keep-all\\\", \\\"model\\\": \\\"rf\\\", \\\"scale\\\": \\\"do-not-scale\\\", \\\"training_size\\\": \\\"5k\\\", \\\"training_year\\\": \\\"2010_14\\\"}\"\n",
    "output_dir = \"output\"\n",
    "seed = \"2023\"\n"
   ]
  },
  {
   "cell_type": "code",
   "execution_count": 5,
   "id": "1650acaf",
   "metadata": {
    "execution": {
     "iopub.execute_input": "2025-07-30T14:13:36.304474Z",
     "iopub.status.busy": "2025-07-30T14:13:36.304003Z",
     "iopub.status.idle": "2025-07-30T14:13:36.308800Z",
     "shell.execute_reply": "2025-07-30T14:13:36.307860Z"
    },
    "papermill": {
     "duration": 0.028278,
     "end_time": "2025-07-30T14:13:36.310537",
     "exception": false,
     "start_time": "2025-07-30T14:13:36.282259",
     "status": "completed"
    },
    "tags": []
   },
   "outputs": [],
   "source": [
    "import json\n",
    "# Parse universe into dict if it is passed as a string\n",
    "if isinstance(universe, str):\n",
    "    universe = json.loads(universe)"
   ]
  },
  {
   "cell_type": "code",
   "execution_count": 6,
   "id": "16620c48",
   "metadata": {
    "execution": {
     "iopub.execute_input": "2025-07-30T14:13:36.352797Z",
     "iopub.status.busy": "2025-07-30T14:13:36.352211Z",
     "iopub.status.idle": "2025-07-30T14:13:36.397277Z",
     "shell.execute_reply": "2025-07-30T14:13:36.396362Z"
    },
    "papermill": {
     "duration": 0.068368,
     "end_time": "2025-07-30T14:13:36.399094",
     "exception": false,
     "start_time": "2025-07-30T14:13:36.330726",
     "status": "completed"
    },
    "tags": []
   },
   "outputs": [],
   "source": [
    "# Auto-reload the custom package\n",
    "%load_ext autoreload\n",
    "%autoreload 1\n",
    "%aimport fairness_multiverse"
   ]
  },
  {
   "cell_type": "code",
   "execution_count": 7,
   "id": "01c5c9f3",
   "metadata": {
    "execution": {
     "iopub.execute_input": "2025-07-30T14:13:36.442126Z",
     "iopub.status.busy": "2025-07-30T14:13:36.441359Z",
     "iopub.status.idle": "2025-07-30T14:13:38.451402Z",
     "shell.execute_reply": "2025-07-30T14:13:38.450375Z"
    },
    "papermill": {
     "duration": 2.032976,
     "end_time": "2025-07-30T14:13:38.453278",
     "exception": false,
     "start_time": "2025-07-30T14:13:36.420302",
     "status": "completed"
    },
    "tags": []
   },
   "outputs": [],
   "source": [
    "from fairness_multiverse.universe import UniverseAnalysis\n",
    "\n",
    "universe_analysis = UniverseAnalysis(\n",
    "    run_no = run_no,\n",
    "    universe_id = universe_id,\n",
    "    universe = universe,\n",
    "    output_dir=output_dir,\n",
    ")"
   ]
  },
  {
   "cell_type": "code",
   "execution_count": 8,
   "id": "106241f5",
   "metadata": {
    "execution": {
     "iopub.execute_input": "2025-07-30T14:13:38.500505Z",
     "iopub.status.busy": "2025-07-30T14:13:38.499972Z",
     "iopub.status.idle": "2025-07-30T14:13:38.506645Z",
     "shell.execute_reply": "2025-07-30T14:13:38.505613Z"
    },
    "papermill": {
     "duration": 0.030057,
     "end_time": "2025-07-30T14:13:38.508419",
     "exception": false,
     "start_time": "2025-07-30T14:13:38.478362",
     "status": "completed"
    },
    "tags": []
   },
   "outputs": [
    {
     "name": "stdout",
     "output_type": "stream",
     "text": [
      "Using Seed: 2023\n"
     ]
    }
   ],
   "source": [
    "import numpy as np\n",
    "parsed_seed = int(seed)\n",
    "np.random.seed(parsed_seed)\n",
    "print(f\"Using Seed: {parsed_seed}\")"
   ]
  },
  {
   "cell_type": "markdown",
   "id": "e0ebdc57",
   "metadata": {
    "papermill": {
     "duration": 0.019052,
     "end_time": "2025-07-30T14:13:38.547924",
     "exception": false,
     "start_time": "2025-07-30T14:13:38.528872",
     "status": "completed"
    },
    "tags": []
   },
   "source": [
    "# Loading Data"
   ]
  },
  {
   "cell_type": "markdown",
   "id": "681925a3",
   "metadata": {
    "papermill": {
     "duration": 0.020496,
     "end_time": "2025-07-30T14:13:38.587914",
     "exception": false,
     "start_time": "2025-07-30T14:13:38.567418",
     "status": "completed"
    },
    "tags": []
   },
   "source": [
    "Load siab_train, siab_test, siab_calib and/or \n",
    "load siab_train_features, siab_train_labels"
   ]
  },
  {
   "cell_type": "code",
   "execution_count": 9,
   "id": "f0496b8a",
   "metadata": {
    "execution": {
     "iopub.execute_input": "2025-07-30T14:13:38.628465Z",
     "iopub.status.busy": "2025-07-30T14:13:38.627487Z",
     "iopub.status.idle": "2025-07-30T14:13:50.543104Z",
     "shell.execute_reply": "2025-07-30T14:13:50.542000Z"
    },
    "papermill": {
     "duration": 11.93741,
     "end_time": "2025-07-30T14:13:50.544666",
     "exception": false,
     "start_time": "2025-07-30T14:13:38.607256",
     "status": "completed"
    },
    "tags": []
   },
   "outputs": [
    {
     "name": "stdout",
     "output_type": "stream",
     "text": [
      "Loading SIAB data from cache: data/siab_cached.csv.gz\n"
     ]
    },
    {
     "name": "stdout",
     "output_type": "stream",
     "text": [
      "(643690, 164)\n"
     ]
    }
   ],
   "source": [
    "from pathlib import Path\n",
    "import pandas as pd\n",
    "\n",
    "# File paths\n",
    "raw_file = Path(\"data/raw/siab.csv\")\n",
    "cache_file = Path(\"data/siab_cached.csv.gz\")\n",
    "\n",
    "# Ensure cache directory exists\n",
    "cache_file.parent.mkdir(parents=True, exist_ok=True)\n",
    "\n",
    "# Load with simple caching\n",
    "if cache_file.exists():\n",
    "    print(f\"Loading SIAB data from cache: {cache_file}\")\n",
    "    siab = pd.read_csv(cache_file, compression='gzip')\n",
    "else:\n",
    "    print(f\"Cache not found. Reading raw SIAB data: {raw_file}\")\n",
    "    siab = pd.read_csv(raw_file)\n",
    "    siab.to_csv(cache_file, index=False, compression='gzip')\n",
    "    print(f\"Cached SIAB data to: {cache_file}\")\n",
    "\n",
    "# Now use `siab` DataFrame as needed\n",
    "print(siab.shape)"
   ]
  },
  {
   "cell_type": "code",
   "execution_count": 10,
   "id": "db0ca512-5f53-4dba-abdb-a2888bca41ba",
   "metadata": {
    "execution": {
     "iopub.execute_input": "2025-07-30T14:13:50.581395Z",
     "iopub.status.busy": "2025-07-30T14:13:50.581010Z",
     "iopub.status.idle": "2025-07-30T14:13:50.586318Z",
     "shell.execute_reply": "2025-07-30T14:13:50.585368Z"
    },
    "papermill": {
     "duration": 0.021855,
     "end_time": "2025-07-30T14:13:50.588297",
     "exception": false,
     "start_time": "2025-07-30T14:13:50.566442",
     "status": "completed"
    },
    "tags": []
   },
   "outputs": [],
   "source": [
    "#siab"
   ]
  },
  {
   "cell_type": "code",
   "execution_count": 11,
   "id": "a0edb063",
   "metadata": {
    "execution": {
     "iopub.execute_input": "2025-07-30T14:13:50.617984Z",
     "iopub.status.busy": "2025-07-30T14:13:50.617628Z",
     "iopub.status.idle": "2025-07-30T14:13:50.621870Z",
     "shell.execute_reply": "2025-07-30T14:13:50.621132Z"
    },
    "papermill": {
     "duration": 0.018078,
     "end_time": "2025-07-30T14:13:50.623379",
     "exception": false,
     "start_time": "2025-07-30T14:13:50.605301",
     "status": "completed"
    },
    "tags": []
   },
   "outputs": [],
   "source": [
    "#import pandas as pd\n",
    "#\n",
    "#X_train = pd.read_csv(\"./data/X_train.csv\")\n",
    "#y_train = pd.read_csv(\"./data/y_train.csv\")"
   ]
  },
  {
   "cell_type": "code",
   "execution_count": 12,
   "id": "63d08085",
   "metadata": {
    "execution": {
     "iopub.execute_input": "2025-07-30T14:13:50.648315Z",
     "iopub.status.busy": "2025-07-30T14:13:50.647940Z",
     "iopub.status.idle": "2025-07-30T14:13:50.652155Z",
     "shell.execute_reply": "2025-07-30T14:13:50.651395Z"
    },
    "papermill": {
     "duration": 0.017649,
     "end_time": "2025-07-30T14:13:50.653385",
     "exception": false,
     "start_time": "2025-07-30T14:13:50.635736",
     "status": "completed"
    },
    "tags": []
   },
   "outputs": [],
   "source": [
    "#X_test = pd.read_csv(\"./data/X_test.csv\")\n",
    "#y_true = pd.read_csv(\"./data/y_test.csv\")"
   ]
  },
  {
   "cell_type": "code",
   "execution_count": 13,
   "id": "98a8d0fa-1d3d-4ed8-bb2c-281470e24add",
   "metadata": {
    "execution": {
     "iopub.execute_input": "2025-07-30T14:13:50.697040Z",
     "iopub.status.busy": "2025-07-30T14:13:50.696511Z",
     "iopub.status.idle": "2025-07-30T14:13:50.701887Z",
     "shell.execute_reply": "2025-07-30T14:13:50.700977Z"
    },
    "papermill": {
     "duration": 0.03025,
     "end_time": "2025-07-30T14:13:50.703856",
     "exception": false,
     "start_time": "2025-07-30T14:13:50.673606",
     "status": "completed"
    },
    "tags": []
   },
   "outputs": [],
   "source": [
    "# Calibration data for conformal\n",
    "#X_calib = pd.read_csv(\"./data/X_calib.csv\")\n",
    "#y_calib = pd.read_csv(\"./data/y_calib.csv\")"
   ]
  },
  {
   "cell_type": "markdown",
   "id": "997051c5-15bd-4b69-9786-c3001a3ce484",
   "metadata": {
    "papermill": {
     "duration": 0.011899,
     "end_time": "2025-07-30T14:13:50.734635",
     "exception": false,
     "start_time": "2025-07-30T14:13:50.722736",
     "status": "completed"
    },
    "tags": []
   },
   "source": [
    "# Splitting Data and Setting Training Data Size"
   ]
  },
  {
   "cell_type": "code",
   "execution_count": 14,
   "id": "e993b61f-042d-41a6-8c81-f55681f86335",
   "metadata": {
    "execution": {
     "iopub.execute_input": "2025-07-30T14:13:50.759002Z",
     "iopub.status.busy": "2025-07-30T14:13:50.758656Z",
     "iopub.status.idle": "2025-07-30T14:13:50.768589Z",
     "shell.execute_reply": "2025-07-30T14:13:50.767763Z"
    },
    "papermill": {
     "duration": 0.023893,
     "end_time": "2025-07-30T14:13:50.770187",
     "exception": false,
     "start_time": "2025-07-30T14:13:50.746294",
     "status": "completed"
    },
    "tags": []
   },
   "outputs": [],
   "source": [
    "def sample_by_year_size(df,\n",
    "                        training_year: str,\n",
    "                        training_size: str,\n",
    "                        random_state: int = 42):\n",
    "    # --- parse training_year into a list of int years ---\n",
    "    if \"_\" in training_year:\n",
    "        start_str, end_str = training_year.split(\"_\", 1)\n",
    "        start = int(start_str)\n",
    "        end   = int(end_str) if len(end_str) == 4 else (int(end_str) + (start // 100)*100)\n",
    "        years = list(range(start, end + 1))\n",
    "    else:\n",
    "        years = [int(training_year)]\n",
    "\n",
    "    df = df[df[\"year\"].isin(years)].reset_index(drop=True)\n",
    "\n",
    "    # --- map training_size to total number of samples ---\n",
    "    total_map = {\"25k\": 25_000, \"5k\": 5_000, \"1k\": 1_000}\n",
    "    if training_size not in total_map:\n",
    "        return df  # e.g. \"all\"\n",
    "\n",
    "    total_samples = total_map[training_size]\n",
    "    n_years       = len(years)\n",
    "    base          = total_samples // n_years\n",
    "    remainder     = total_samples % n_years\n",
    "\n",
    "    # --- build a dict: year -> how many to sample ---\n",
    "    # give +1 to the first `remainder` years in ascending order\n",
    "    quotas = {\n",
    "        year: base + (1 if idx < remainder else 0)\n",
    "        for idx, year in enumerate(sorted(years))\n",
    "    }\n",
    "\n",
    "    # --- sample per‐year according to the quota dict ---\n",
    "    sampled = (\n",
    "        df\n",
    "        .groupby(\"year\", group_keys=False)\n",
    "        .apply(lambda grp: grp.sample(\n",
    "            n=min(len(grp), quotas[grp.name]),\n",
    "            random_state=random_state))\n",
    "        .reset_index(drop=True)\n",
    "    )\n",
    "\n",
    "    return sampled"
   ]
  },
  {
   "cell_type": "code",
   "execution_count": 15,
   "id": "c0ccd338-0e02-41f3-a09d-f56f9266e3fb",
   "metadata": {
    "execution": {
     "iopub.execute_input": "2025-07-30T14:13:50.795961Z",
     "iopub.status.busy": "2025-07-30T14:13:50.795393Z",
     "iopub.status.idle": "2025-07-30T14:13:50.803740Z",
     "shell.execute_reply": "2025-07-30T14:13:50.802989Z"
    },
    "papermill": {
     "duration": 0.022774,
     "end_time": "2025-07-30T14:13:50.804992",
     "exception": false,
     "start_time": "2025-07-30T14:13:50.782218",
     "status": "completed"
    },
    "tags": []
   },
   "outputs": [
    {
     "data": {
      "text/plain": [
       "'5k'"
      ]
     },
     "execution_count": 15,
     "metadata": {},
     "output_type": "execute_result"
    }
   ],
   "source": [
    "universe[\"training_size\"]"
   ]
  },
  {
   "cell_type": "code",
   "execution_count": 16,
   "id": "ca707fd7-8047-4acd-bfa5-66248fbbf8e6",
   "metadata": {
    "execution": {
     "iopub.execute_input": "2025-07-30T14:13:50.828874Z",
     "iopub.status.busy": "2025-07-30T14:13:50.828381Z",
     "iopub.status.idle": "2025-07-30T14:13:50.835693Z",
     "shell.execute_reply": "2025-07-30T14:13:50.834983Z"
    },
    "papermill": {
     "duration": 0.020437,
     "end_time": "2025-07-30T14:13:50.837042",
     "exception": false,
     "start_time": "2025-07-30T14:13:50.816605",
     "status": "completed"
    },
    "tags": []
   },
   "outputs": [
    {
     "data": {
      "text/plain": [
       "'2010_14'"
      ]
     },
     "execution_count": 16,
     "metadata": {},
     "output_type": "execute_result"
    }
   ],
   "source": [
    "universe[\"training_year\"]"
   ]
  },
  {
   "cell_type": "code",
   "execution_count": 17,
   "id": "aea9c6ef-6f46-42c8-85eb-5a62025c1508",
   "metadata": {
    "execution": {
     "iopub.execute_input": "2025-07-30T14:13:50.861054Z",
     "iopub.status.busy": "2025-07-30T14:13:50.860320Z",
     "iopub.status.idle": "2025-07-30T14:13:51.900283Z",
     "shell.execute_reply": "2025-07-30T14:13:51.899506Z"
    },
    "papermill": {
     "duration": 1.053202,
     "end_time": "2025-07-30T14:13:51.901983",
     "exception": false,
     "start_time": "2025-07-30T14:13:50.848781",
     "status": "completed"
    },
    "tags": []
   },
   "outputs": [],
   "source": [
    "siab_train = sample_by_year_size(siab,\n",
    "                               training_year=universe[\"training_year\"],\n",
    "                               training_size=universe[\"training_size\"])"
   ]
  },
  {
   "cell_type": "code",
   "execution_count": 18,
   "id": "8d3afb32-789d-442c-8d5d-9f5aa8dd2eed",
   "metadata": {
    "execution": {
     "iopub.execute_input": "2025-07-30T14:13:51.948434Z",
     "iopub.status.busy": "2025-07-30T14:13:51.947828Z",
     "iopub.status.idle": "2025-07-30T14:13:51.955983Z",
     "shell.execute_reply": "2025-07-30T14:13:51.954993Z"
    },
    "papermill": {
     "duration": 0.032683,
     "end_time": "2025-07-30T14:13:51.957520",
     "exception": false,
     "start_time": "2025-07-30T14:13:51.924837",
     "status": "completed"
    },
    "tags": []
   },
   "outputs": [
    {
     "data": {
      "text/plain": [
       "(5000, 164)"
      ]
     },
     "execution_count": 18,
     "metadata": {},
     "output_type": "execute_result"
    }
   ],
   "source": [
    "siab_train.shape"
   ]
  },
  {
   "cell_type": "code",
   "execution_count": 19,
   "id": "d582db68-1a4c-47fb-84fc-08518dc1975a",
   "metadata": {
    "execution": {
     "iopub.execute_input": "2025-07-30T14:13:52.002812Z",
     "iopub.status.busy": "2025-07-30T14:13:52.002308Z",
     "iopub.status.idle": "2025-07-30T14:13:52.012279Z",
     "shell.execute_reply": "2025-07-30T14:13:52.011254Z"
    },
    "papermill": {
     "duration": 0.035268,
     "end_time": "2025-07-30T14:13:52.013771",
     "exception": false,
     "start_time": "2025-07-30T14:13:51.978503",
     "status": "completed"
    },
    "tags": []
   },
   "outputs": [
    {
     "data": {
      "text/plain": [
       "year\n",
       "2010    1000\n",
       "2011    1000\n",
       "2012    1000\n",
       "2013    1000\n",
       "2014    1000\n",
       "dtype: int64"
      ]
     },
     "metadata": {},
     "output_type": "display_data"
    }
   ],
   "source": [
    "display(siab_train.groupby(\"year\").size())"
   ]
  },
  {
   "cell_type": "code",
   "execution_count": 20,
   "id": "a561edb4-d032-42cb-8256-22eac1111c64",
   "metadata": {
    "execution": {
     "iopub.execute_input": "2025-07-30T14:13:52.057739Z",
     "iopub.status.busy": "2025-07-30T14:13:52.057273Z",
     "iopub.status.idle": "2025-07-30T14:13:52.321975Z",
     "shell.execute_reply": "2025-07-30T14:13:52.321082Z"
    },
    "papermill": {
     "duration": 0.289533,
     "end_time": "2025-07-30T14:13:52.323855",
     "exception": false,
     "start_time": "2025-07-30T14:13:52.034322",
     "status": "completed"
    },
    "tags": []
   },
   "outputs": [],
   "source": [
    "#siab_train = siab_s[siab_s.year < 2015]\n",
    "siab_calib = siab[siab.year == 2015]\n",
    "siab_test = siab[siab.year == 2016]"
   ]
  },
  {
   "cell_type": "code",
   "execution_count": 21,
   "id": "472de16f-c3db-4916-846b-1f0de9cf1746",
   "metadata": {
    "execution": {
     "iopub.execute_input": "2025-07-30T14:13:52.367619Z",
     "iopub.status.busy": "2025-07-30T14:13:52.366959Z",
     "iopub.status.idle": "2025-07-30T14:13:52.375005Z",
     "shell.execute_reply": "2025-07-30T14:13:52.374035Z"
    },
    "papermill": {
     "duration": 0.03181,
     "end_time": "2025-07-30T14:13:52.376620",
     "exception": false,
     "start_time": "2025-07-30T14:13:52.344810",
     "status": "completed"
    },
    "tags": []
   },
   "outputs": [],
   "source": [
    "X_train = siab_train.iloc[:,4:164]\n",
    "y_train = siab_train.iloc[:, [3]]"
   ]
  },
  {
   "cell_type": "code",
   "execution_count": 22,
   "id": "828c96af-f43a-4ed6-ba47-8ac73a47d56c",
   "metadata": {
    "execution": {
     "iopub.execute_input": "2025-07-30T14:13:52.421435Z",
     "iopub.status.busy": "2025-07-30T14:13:52.420767Z",
     "iopub.status.idle": "2025-07-30T14:13:52.472079Z",
     "shell.execute_reply": "2025-07-30T14:13:52.470987Z"
    },
    "papermill": {
     "duration": 0.074818,
     "end_time": "2025-07-30T14:13:52.473882",
     "exception": false,
     "start_time": "2025-07-30T14:13:52.399064",
     "status": "completed"
    },
    "tags": []
   },
   "outputs": [],
   "source": [
    "X_calib = siab_calib.iloc[:,4:164]\n",
    "y_calib = siab_calib.iloc[:, [3]]"
   ]
  },
  {
   "cell_type": "code",
   "execution_count": 23,
   "id": "c34be9c3-6bd6-476e-acd3-845840e303be",
   "metadata": {
    "execution": {
     "iopub.execute_input": "2025-07-30T14:13:52.519428Z",
     "iopub.status.busy": "2025-07-30T14:13:52.518778Z",
     "iopub.status.idle": "2025-07-30T14:13:52.570729Z",
     "shell.execute_reply": "2025-07-30T14:13:52.569580Z"
    },
    "papermill": {
     "duration": 0.075636,
     "end_time": "2025-07-30T14:13:52.572318",
     "exception": false,
     "start_time": "2025-07-30T14:13:52.496682",
     "status": "completed"
    },
    "tags": []
   },
   "outputs": [],
   "source": [
    "X_test = siab_test.iloc[:,4:164]\n",
    "y_true = siab_test.iloc[:, [3]]"
   ]
  },
  {
   "cell_type": "markdown",
   "id": "9901737e-04df-44f0-9100-f5ad144ed040",
   "metadata": {
    "papermill": {
     "duration": 0.021839,
     "end_time": "2025-07-30T14:13:52.615709",
     "exception": false,
     "start_time": "2025-07-30T14:13:52.593870",
     "status": "completed"
    },
    "tags": []
   },
   "source": [
    "# Splitting Data and Setting Training Data Size OLD VERSION"
   ]
  },
  {
   "cell_type": "code",
   "execution_count": 24,
   "id": "acbc8f7d-8fc8-4e86-8c59-5dcb0f58384b",
   "metadata": {
    "execution": {
     "iopub.execute_input": "2025-07-30T14:13:52.663672Z",
     "iopub.status.busy": "2025-07-30T14:13:52.663016Z",
     "iopub.status.idle": "2025-07-30T14:13:52.668313Z",
     "shell.execute_reply": "2025-07-30T14:13:52.667429Z"
    },
    "papermill": {
     "duration": 0.031789,
     "end_time": "2025-07-30T14:13:52.669908",
     "exception": false,
     "start_time": "2025-07-30T14:13:52.638119",
     "status": "completed"
    },
    "tags": []
   },
   "outputs": [],
   "source": [
    "#def sample_by_year(df, training_size, random_state=42):\n",
    "#    if training_size == \"2014\":\n",
    "#        return df[df[\"year\"] == 2014].reset_index(drop=True)\n",
    "#    \n",
    "#    size_map = {\n",
    "#        \"25k\": 5000,\n",
    "#        \"5k\": 1000,\n",
    "#        \"1k\": 200\n",
    "#    }\n",
    "#\n",
    "#    if training_size not in size_map:\n",
    "#        return df.reset_index(drop=True)  # use all data\n",
    "#\n",
    "#    n_per_year = size_map[training_size]\n",
    "#    grouped = df.groupby(\"year\")\n",
    "#    sampled = grouped.apply(lambda x: x.sample(n=min(n_per_year, len(x)), random_state=random_state))\n",
    "#    return sampled.reset_index(drop=True)"
   ]
  },
  {
   "cell_type": "code",
   "execution_count": 25,
   "id": "6d931f52-beaf-43ff-9e78-9d44a448d54e",
   "metadata": {
    "execution": {
     "iopub.execute_input": "2025-07-30T14:13:52.714116Z",
     "iopub.status.busy": "2025-07-30T14:13:52.713441Z",
     "iopub.status.idle": "2025-07-30T14:13:52.719094Z",
     "shell.execute_reply": "2025-07-30T14:13:52.718201Z"
    },
    "papermill": {
     "duration": 0.029704,
     "end_time": "2025-07-30T14:13:52.720804",
     "exception": false,
     "start_time": "2025-07-30T14:13:52.691100",
     "status": "completed"
    },
    "tags": []
   },
   "outputs": [],
   "source": [
    "#siab_s = sample_by_year(siab, universe[\"training_size\"])"
   ]
  },
  {
   "cell_type": "code",
   "execution_count": 26,
   "id": "5db0a40e-a4e2-4920-be85-b12ae061d70d",
   "metadata": {
    "execution": {
     "iopub.execute_input": "2025-07-30T14:13:52.766412Z",
     "iopub.status.busy": "2025-07-30T14:13:52.765747Z",
     "iopub.status.idle": "2025-07-30T14:13:52.770707Z",
     "shell.execute_reply": "2025-07-30T14:13:52.769808Z"
    },
    "papermill": {
     "duration": 0.029334,
     "end_time": "2025-07-30T14:13:52.772433",
     "exception": false,
     "start_time": "2025-07-30T14:13:52.743099",
     "status": "completed"
    },
    "tags": []
   },
   "outputs": [],
   "source": [
    "#display(siab_s.groupby(\"year\").size())"
   ]
  },
  {
   "cell_type": "code",
   "execution_count": 27,
   "id": "e6c733c5",
   "metadata": {
    "execution": {
     "iopub.execute_input": "2025-07-30T14:13:52.817439Z",
     "iopub.status.busy": "2025-07-30T14:13:52.816788Z",
     "iopub.status.idle": "2025-07-30T14:13:52.910204Z",
     "shell.execute_reply": "2025-07-30T14:13:52.909352Z"
    },
    "papermill": {
     "duration": 0.116951,
     "end_time": "2025-07-30T14:13:52.911963",
     "exception": false,
     "start_time": "2025-07-30T14:13:52.795012",
     "status": "completed"
    },
    "tags": []
   },
   "outputs": [],
   "source": [
    "# Auxiliary data needed downstream in the pipeline\n",
    "\n",
    "org_train = X_train.copy()\n",
    "org_test = X_test.copy()\n",
    "org_calib = X_calib.copy()"
   ]
  },
  {
   "cell_type": "code",
   "execution_count": 28,
   "id": "1466abac-c6da-4492-a62f-4240ae3783af",
   "metadata": {
    "execution": {
     "iopub.execute_input": "2025-07-30T14:13:52.957668Z",
     "iopub.status.busy": "2025-07-30T14:13:52.956981Z",
     "iopub.status.idle": "2025-07-30T14:13:52.962581Z",
     "shell.execute_reply": "2025-07-30T14:13:52.961537Z"
    },
    "papermill": {
     "duration": 0.03104,
     "end_time": "2025-07-30T14:13:52.964098",
     "exception": false,
     "start_time": "2025-07-30T14:13:52.933058",
     "status": "completed"
    },
    "tags": []
   },
   "outputs": [],
   "source": [
    "# put in other script?\n",
    "# Group sizes\n",
    "\n",
    "#def calculate_percentages(df, df_name):\n",
    "#    total_entries = len(df)\n",
    "#\n",
    "#    female_pct = (df['frau1'] == 1).mean() * 100\n",
    "#    non_german_pct = ((df['maxdeutsch1'] == 0) & (df['maxdeutsch.Missing.'] == 0)).mean() * 100\n",
    "#    non_german_male_pct = ((df['frau1'] == 0) & (df['maxdeutsch1'] == 0) & (df['maxdeutsch.Missing.'] == 0)).mean() * 100\n",
    "#    non_german_female_pct = ((df['frau1'] == 1) & (df['maxdeutsch1'] == 0) & (df['maxdeutsch.Missing.'] == 0)).mean() * 100\n",
    "#\n",
    "#    print(f\"--- {df_name} ---\")\n",
    "#    print(f\"Female: {female_pct:.2f}%\")\n",
    "#    print(f\"Non-German: {non_german_pct:.2f}%\")\n",
    "#    print(f\"Non-German Male: {non_german_male_pct:.2f}%\")\n",
    "#    print(f\"Non-German Female: {non_german_female_pct:.2f}%\\n\")\n",
    "#\n",
    "## Calculate for each DataFrame\n",
    "#calculate_percentages(siab_calib, \"siab_calib\")\n",
    "#calculate_percentages(siab_test, \"siab_test\")\n",
    "#calculate_percentages(siab_train, \"siab_train\")"
   ]
  },
  {
   "cell_type": "markdown",
   "id": "0a4a1b33",
   "metadata": {
    "papermill": {
     "duration": 0.022365,
     "end_time": "2025-07-30T14:13:53.007372",
     "exception": false,
     "start_time": "2025-07-30T14:13:52.985007",
     "status": "completed"
    },
    "tags": []
   },
   "source": [
    "# Preprocessing Data"
   ]
  },
  {
   "cell_type": "code",
   "execution_count": 29,
   "id": "ca879031",
   "metadata": {
    "execution": {
     "iopub.execute_input": "2025-07-30T14:13:53.051721Z",
     "iopub.status.busy": "2025-07-30T14:13:53.051226Z",
     "iopub.status.idle": "2025-07-30T14:13:53.058437Z",
     "shell.execute_reply": "2025-07-30T14:13:53.057241Z"
    },
    "papermill": {
     "duration": 0.031603,
     "end_time": "2025-07-30T14:13:53.060055",
     "exception": false,
     "start_time": "2025-07-30T14:13:53.028452",
     "status": "completed"
    },
    "tags": []
   },
   "outputs": [],
   "source": [
    "# EXCLUDE PROTECTED FEATURES\n",
    "# ----------------------\n",
    "# \"exclude_features\": \"none\", # \"nationality\", \"sex\", \"nationality-sex\"\n",
    "\n",
    "excluded_features = universe[\"exclude_features\"].split(\"-\") # split, e.g.: \"nationality-sex\" -> [\"nationality\", \"sex\"]\n",
    "excluded_features_dictionary = {\n",
    "    \"nationality\": [\"maxdeutsch1\", \"maxdeutsch.Missing.\"],\n",
    "    \"sex\": [\"frau1\"],\n",
    "    \"age\": [\"age\"],\n",
    "}\n"
   ]
  },
  {
   "cell_type": "code",
   "execution_count": 30,
   "id": "b745ac60",
   "metadata": {
    "execution": {
     "iopub.execute_input": "2025-07-30T14:13:53.106142Z",
     "iopub.status.busy": "2025-07-30T14:13:53.105197Z",
     "iopub.status.idle": "2025-07-30T14:13:53.111829Z",
     "shell.execute_reply": "2025-07-30T14:13:53.110595Z"
    },
    "papermill": {
     "duration": 0.03241,
     "end_time": "2025-07-30T14:13:53.114289",
     "exception": false,
     "start_time": "2025-07-30T14:13:53.081879",
     "status": "completed"
    },
    "tags": []
   },
   "outputs": [],
   "source": [
    "# Code nice names to column names\n",
    "\n",
    "excluded_features_columns = [\n",
    "    excluded_features_dictionary[f] for f in excluded_features if len(f) > 0 and f != \"none\"\n",
    "]"
   ]
  },
  {
   "cell_type": "code",
   "execution_count": 31,
   "id": "f84f73a2",
   "metadata": {
    "execution": {
     "iopub.execute_input": "2025-07-30T14:13:53.171620Z",
     "iopub.status.busy": "2025-07-30T14:13:53.170522Z",
     "iopub.status.idle": "2025-07-30T14:13:53.177499Z",
     "shell.execute_reply": "2025-07-30T14:13:53.176631Z"
    },
    "papermill": {
     "duration": 0.032428,
     "end_time": "2025-07-30T14:13:53.179144",
     "exception": false,
     "start_time": "2025-07-30T14:13:53.146716",
     "status": "completed"
    },
    "tags": []
   },
   "outputs": [],
   "source": [
    "from utils import flatten_once\n",
    "\n",
    "excluded_features_columns = flatten_once(excluded_features_columns)"
   ]
  },
  {
   "cell_type": "code",
   "execution_count": 32,
   "id": "884dea22",
   "metadata": {
    "execution": {
     "iopub.execute_input": "2025-07-30T14:13:53.226080Z",
     "iopub.status.busy": "2025-07-30T14:13:53.225420Z",
     "iopub.status.idle": "2025-07-30T14:13:53.231992Z",
     "shell.execute_reply": "2025-07-30T14:13:53.231112Z"
    },
    "papermill": {
     "duration": 0.032322,
     "end_time": "2025-07-30T14:13:53.233618",
     "exception": false,
     "start_time": "2025-07-30T14:13:53.201296",
     "status": "completed"
    },
    "tags": []
   },
   "outputs": [],
   "source": [
    "if len(excluded_features_columns) > 0:\n",
    "    print(f\"Dropping features: {excluded_features_columns}\")\n",
    "    X_train.drop(excluded_features_columns, axis=1, inplace=True)"
   ]
  },
  {
   "cell_type": "code",
   "execution_count": 33,
   "id": "95ab8b16",
   "metadata": {
    "execution": {
     "iopub.execute_input": "2025-07-30T14:13:53.280244Z",
     "iopub.status.busy": "2025-07-30T14:13:53.279371Z",
     "iopub.status.idle": "2025-07-30T14:13:53.285552Z",
     "shell.execute_reply": "2025-07-30T14:13:53.284674Z"
    },
    "papermill": {
     "duration": 0.029003,
     "end_time": "2025-07-30T14:13:53.287116",
     "exception": false,
     "start_time": "2025-07-30T14:13:53.258113",
     "status": "completed"
    },
    "tags": []
   },
   "outputs": [],
   "source": [
    "if len(excluded_features_columns) > 0:\n",
    "    print(f\"Dropping features: {excluded_features_columns}\")\n",
    "    X_test.drop(excluded_features_columns, axis=1, inplace=True)"
   ]
  },
  {
   "cell_type": "code",
   "execution_count": 34,
   "id": "1853aaf5-fb9f-46cb-a2b5-8ea4ae2237e4",
   "metadata": {
    "execution": {
     "iopub.execute_input": "2025-07-30T14:13:53.332799Z",
     "iopub.status.busy": "2025-07-30T14:13:53.332362Z",
     "iopub.status.idle": "2025-07-30T14:13:53.339592Z",
     "shell.execute_reply": "2025-07-30T14:13:53.338624Z"
    },
    "papermill": {
     "duration": 0.031586,
     "end_time": "2025-07-30T14:13:53.341302",
     "exception": false,
     "start_time": "2025-07-30T14:13:53.309716",
     "status": "completed"
    },
    "tags": []
   },
   "outputs": [],
   "source": [
    "if len(excluded_features_columns) > 0:\n",
    "    print(f\"Dropping features: {excluded_features_columns}\")\n",
    "    X_calib.drop(excluded_features_columns, axis=1, inplace=True)"
   ]
  },
  {
   "cell_type": "code",
   "execution_count": 35,
   "id": "6727d079-03e5-481e-9d38-292a90b7a0a8",
   "metadata": {
    "execution": {
     "iopub.execute_input": "2025-07-30T14:13:53.389027Z",
     "iopub.status.busy": "2025-07-30T14:13:53.388190Z",
     "iopub.status.idle": "2025-07-30T14:13:53.393256Z",
     "shell.execute_reply": "2025-07-30T14:13:53.392283Z"
    },
    "papermill": {
     "duration": 0.031542,
     "end_time": "2025-07-30T14:13:53.394923",
     "exception": false,
     "start_time": "2025-07-30T14:13:53.363381",
     "status": "completed"
    },
    "tags": []
   },
   "outputs": [],
   "source": [
    "# SPLIT & STRATIFY DATA\n",
    "# ----------------------"
   ]
  },
  {
   "cell_type": "code",
   "execution_count": 36,
   "id": "76c4dc6d",
   "metadata": {
    "execution": {
     "iopub.execute_input": "2025-07-30T14:13:53.440955Z",
     "iopub.status.busy": "2025-07-30T14:13:53.440148Z",
     "iopub.status.idle": "2025-07-30T14:13:53.445850Z",
     "shell.execute_reply": "2025-07-30T14:13:53.444911Z"
    },
    "papermill": {
     "duration": 0.029372,
     "end_time": "2025-07-30T14:13:53.447357",
     "exception": false,
     "start_time": "2025-07-30T14:13:53.417985",
     "status": "completed"
    },
    "tags": []
   },
   "outputs": [],
   "source": [
    "# EXCLUDE CERTAIN SUBGROUPS\n",
    "# ----------------------\n",
    "\n",
    "mode = universe.get(\"exclude_subgroups\", \"keep-all\") \n",
    "# Fetches the exclude_subgroups setting from the universe dict.\n",
    "# Defaults to \"keep-all\" if the key is missing."
   ]
  },
  {
   "cell_type": "code",
   "execution_count": 37,
   "id": "21994072",
   "metadata": {
    "execution": {
     "iopub.execute_input": "2025-07-30T14:13:53.494639Z",
     "iopub.status.busy": "2025-07-30T14:13:53.494056Z",
     "iopub.status.idle": "2025-07-30T14:13:53.502935Z",
     "shell.execute_reply": "2025-07-30T14:13:53.501976Z"
    },
    "papermill": {
     "duration": 0.043228,
     "end_time": "2025-07-30T14:13:53.514323",
     "exception": false,
     "start_time": "2025-07-30T14:13:53.471095",
     "status": "completed"
    },
    "tags": []
   },
   "outputs": [],
   "source": [
    "if mode == \"keep-all\":\n",
    "    keep_mask = pd.Series(True, index=org_train.index)\n",
    "\n",
    "# org_train contains the original feature columns from features_org (in Simson)\n",
    "# features_org contains unprocessed features, for me X_train at beginning ???\n",
    "# For keep-all, creates a boolean Series (keep_mask) of all True, so no rows are removed.\n",
    "\n",
    "elif mode == \"drop-non-german\":\n",
    "    keep_mask = org_train[\"maxdeutsch1\"] == 1 # ??? what about missing values?\n",
    "\n",
    "else:\n",
    "    raise ValueError(f\"Unsupported mode for exclude_subgroups: {mode}\")\n"
   ]
  },
  {
   "cell_type": "code",
   "execution_count": 38,
   "id": "71651440",
   "metadata": {
    "execution": {
     "iopub.execute_input": "2025-07-30T14:13:53.565027Z",
     "iopub.status.busy": "2025-07-30T14:13:53.564610Z",
     "iopub.status.idle": "2025-07-30T14:13:53.570590Z",
     "shell.execute_reply": "2025-07-30T14:13:53.569730Z"
    },
    "papermill": {
     "duration": 0.029357,
     "end_time": "2025-07-30T14:13:53.572127",
     "exception": false,
     "start_time": "2025-07-30T14:13:53.542770",
     "status": "completed"
    },
    "tags": []
   },
   "outputs": [],
   "source": [
    "n_drop = (~keep_mask).sum() # Calculates how many rows are set to be dropped\n",
    "if n_drop > 0:\n",
    "    pct = n_drop / len(keep_mask) * 100\n",
    "    print(f\"Dropping {n_drop} rows ({pct:.2f}%) where mode='{mode}'\")"
   ]
  },
  {
   "cell_type": "code",
   "execution_count": 39,
   "id": "5fb8eee5",
   "metadata": {
    "execution": {
     "iopub.execute_input": "2025-07-30T14:13:53.618643Z",
     "iopub.status.busy": "2025-07-30T14:13:53.618280Z",
     "iopub.status.idle": "2025-07-30T14:13:53.625319Z",
     "shell.execute_reply": "2025-07-30T14:13:53.624342Z"
    },
    "papermill": {
     "duration": 0.033708,
     "end_time": "2025-07-30T14:13:53.627181",
     "exception": false,
     "start_time": "2025-07-30T14:13:53.593473",
     "status": "completed"
    },
    "tags": []
   },
   "outputs": [],
   "source": [
    "X_train = X_train[keep_mask]"
   ]
  },
  {
   "cell_type": "code",
   "execution_count": 40,
   "id": "b202bb3a",
   "metadata": {
    "execution": {
     "iopub.execute_input": "2025-07-30T14:13:53.672184Z",
     "iopub.status.busy": "2025-07-30T14:13:53.671823Z",
     "iopub.status.idle": "2025-07-30T14:13:53.677516Z",
     "shell.execute_reply": "2025-07-30T14:13:53.676554Z"
    },
    "papermill": {
     "duration": 0.030135,
     "end_time": "2025-07-30T14:13:53.679044",
     "exception": false,
     "start_time": "2025-07-30T14:13:53.648909",
     "status": "completed"
    },
    "tags": []
   },
   "outputs": [],
   "source": [
    "y_train = y_train[keep_mask]"
   ]
  },
  {
   "cell_type": "markdown",
   "id": "493e2ac3",
   "metadata": {
    "papermill": {
     "duration": 0.023461,
     "end_time": "2025-07-30T14:13:53.724298",
     "exception": false,
     "start_time": "2025-07-30T14:13:53.700837",
     "status": "completed"
    },
    "tags": []
   },
   "source": [
    "# Model Training"
   ]
  },
  {
   "cell_type": "code",
   "execution_count": 41,
   "id": "679e1268",
   "metadata": {
    "execution": {
     "iopub.execute_input": "2025-07-30T14:13:53.771658Z",
     "iopub.status.busy": "2025-07-30T14:13:53.771193Z",
     "iopub.status.idle": "2025-07-30T14:13:53.874906Z",
     "shell.execute_reply": "2025-07-30T14:13:53.873989Z"
    },
    "papermill": {
     "duration": 0.131671,
     "end_time": "2025-07-30T14:13:53.876856",
     "exception": false,
     "start_time": "2025-07-30T14:13:53.745185",
     "status": "completed"
    },
    "tags": []
   },
   "outputs": [],
   "source": [
    "from sklearn.linear_model import LogisticRegression\n",
    "from sklearn.ensemble import GradientBoostingClassifier, RandomForestClassifier\n",
    "\n",
    "if (universe[\"model\"] == \"logreg\"):\n",
    "    model = LogisticRegression() #penalty=\"none\") #, solver=\"newton-cg\", max_iter=1) # include random_state=19 ?\n",
    "elif (universe[\"model\"] == \"penalized_logreg\"):\n",
    "    model = LogisticRegression(penalty=\"l2\", C=1.0) #, solver=\"newton-cg\", max_iter=1)\n",
    "elif (universe[\"model\"] == \"rf\"):\n",
    "    model = RandomForestClassifier(n_estimators=100, n_jobs=-1)\n",
    "elif (universe[\"model\"] == \"gbm\"):\n",
    "    model = GradientBoostingClassifier()\n",
    "elif (universe[\"model\"] == \"elasticnet\"):\n",
    "    model = LogisticRegression(penalty = 'elasticnet', solver = 'saga', l1_ratio = 0.5, max_iter=5000) # which solver to use?\n",
    "else:\n",
    "    raise \"Unsupported universe.model\""
   ]
  },
  {
   "cell_type": "code",
   "execution_count": 42,
   "id": "0cc8f744",
   "metadata": {
    "execution": {
     "iopub.execute_input": "2025-07-30T14:13:53.925129Z",
     "iopub.status.busy": "2025-07-30T14:13:53.924274Z",
     "iopub.status.idle": "2025-07-30T14:13:53.930564Z",
     "shell.execute_reply": "2025-07-30T14:13:53.929660Z"
    },
    "papermill": {
     "duration": 0.031368,
     "end_time": "2025-07-30T14:13:53.932296",
     "exception": false,
     "start_time": "2025-07-30T14:13:53.900928",
     "status": "completed"
    },
    "tags": []
   },
   "outputs": [],
   "source": [
    "import numpy as np\n",
    "from sklearn.pipeline import Pipeline\n",
    "from sklearn.preprocessing import StandardScaler\n",
    "\n",
    "model = Pipeline([\n",
    "    #(\"continuous_processor\", continuous_processor),\n",
    "    #(\"categorical_preprocessor\", categorical_preprocessor),\n",
    "    (\"scale\", StandardScaler() if universe[\"scale\"] == \"scale\" else None), \n",
    "    (\"model\", model),\n",
    "])"
   ]
  },
  {
   "cell_type": "code",
   "execution_count": 43,
   "id": "9442c04d",
   "metadata": {
    "execution": {
     "iopub.execute_input": "2025-07-30T14:13:53.978478Z",
     "iopub.status.busy": "2025-07-30T14:13:53.977839Z",
     "iopub.status.idle": "2025-07-30T14:13:54.906044Z",
     "shell.execute_reply": "2025-07-30T14:13:54.905199Z"
    },
    "papermill": {
     "duration": 0.952758,
     "end_time": "2025-07-30T14:13:54.907552",
     "exception": false,
     "start_time": "2025-07-30T14:13:53.954794",
     "status": "completed"
    },
    "tags": []
   },
   "outputs": [
    {
     "data": {
      "text/html": [
       "<style>#sk-container-id-1 {color: black;background-color: white;}#sk-container-id-1 pre{padding: 0;}#sk-container-id-1 div.sk-toggleable {background-color: white;}#sk-container-id-1 label.sk-toggleable__label {cursor: pointer;display: block;width: 100%;margin-bottom: 0;padding: 0.3em;box-sizing: border-box;text-align: center;}#sk-container-id-1 label.sk-toggleable__label-arrow:before {content: \"▸\";float: left;margin-right: 0.25em;color: #696969;}#sk-container-id-1 label.sk-toggleable__label-arrow:hover:before {color: black;}#sk-container-id-1 div.sk-estimator:hover label.sk-toggleable__label-arrow:before {color: black;}#sk-container-id-1 div.sk-toggleable__content {max-height: 0;max-width: 0;overflow: hidden;text-align: left;background-color: #f0f8ff;}#sk-container-id-1 div.sk-toggleable__content pre {margin: 0.2em;color: black;border-radius: 0.25em;background-color: #f0f8ff;}#sk-container-id-1 input.sk-toggleable__control:checked~div.sk-toggleable__content {max-height: 200px;max-width: 100%;overflow: auto;}#sk-container-id-1 input.sk-toggleable__control:checked~label.sk-toggleable__label-arrow:before {content: \"▾\";}#sk-container-id-1 div.sk-estimator input.sk-toggleable__control:checked~label.sk-toggleable__label {background-color: #d4ebff;}#sk-container-id-1 div.sk-label input.sk-toggleable__control:checked~label.sk-toggleable__label {background-color: #d4ebff;}#sk-container-id-1 input.sk-hidden--visually {border: 0;clip: rect(1px 1px 1px 1px);clip: rect(1px, 1px, 1px, 1px);height: 1px;margin: -1px;overflow: hidden;padding: 0;position: absolute;width: 1px;}#sk-container-id-1 div.sk-estimator {font-family: monospace;background-color: #f0f8ff;border: 1px dotted black;border-radius: 0.25em;box-sizing: border-box;margin-bottom: 0.5em;}#sk-container-id-1 div.sk-estimator:hover {background-color: #d4ebff;}#sk-container-id-1 div.sk-parallel-item::after {content: \"\";width: 100%;border-bottom: 1px solid gray;flex-grow: 1;}#sk-container-id-1 div.sk-label:hover label.sk-toggleable__label {background-color: #d4ebff;}#sk-container-id-1 div.sk-serial::before {content: \"\";position: absolute;border-left: 1px solid gray;box-sizing: border-box;top: 0;bottom: 0;left: 50%;z-index: 0;}#sk-container-id-1 div.sk-serial {display: flex;flex-direction: column;align-items: center;background-color: white;padding-right: 0.2em;padding-left: 0.2em;position: relative;}#sk-container-id-1 div.sk-item {position: relative;z-index: 1;}#sk-container-id-1 div.sk-parallel {display: flex;align-items: stretch;justify-content: center;background-color: white;position: relative;}#sk-container-id-1 div.sk-item::before, #sk-container-id-1 div.sk-parallel-item::before {content: \"\";position: absolute;border-left: 1px solid gray;box-sizing: border-box;top: 0;bottom: 0;left: 50%;z-index: -1;}#sk-container-id-1 div.sk-parallel-item {display: flex;flex-direction: column;z-index: 1;position: relative;background-color: white;}#sk-container-id-1 div.sk-parallel-item:first-child::after {align-self: flex-end;width: 50%;}#sk-container-id-1 div.sk-parallel-item:last-child::after {align-self: flex-start;width: 50%;}#sk-container-id-1 div.sk-parallel-item:only-child::after {width: 0;}#sk-container-id-1 div.sk-dashed-wrapped {border: 1px dashed gray;margin: 0 0.4em 0.5em 0.4em;box-sizing: border-box;padding-bottom: 0.4em;background-color: white;}#sk-container-id-1 div.sk-label label {font-family: monospace;font-weight: bold;display: inline-block;line-height: 1.2em;}#sk-container-id-1 div.sk-label-container {text-align: center;}#sk-container-id-1 div.sk-container {/* jupyter's `normalize.less` sets `[hidden] { display: none; }` but bootstrap.min.css set `[hidden] { display: none !important; }` so we also need the `!important` here to be able to override the default hidden behavior on the sphinx rendered scikit-learn.org. See: https://github.com/scikit-learn/scikit-learn/issues/21755 */display: inline-block !important;position: relative;}#sk-container-id-1 div.sk-text-repr-fallback {display: none;}</style><div id=\"sk-container-id-1\" class=\"sk-top-container\"><div class=\"sk-text-repr-fallback\"><pre>Pipeline(steps=[(&#x27;scale&#x27;, None), (&#x27;model&#x27;, RandomForestClassifier(n_jobs=-1))])</pre><b>In a Jupyter environment, please rerun this cell to show the HTML representation or trust the notebook. <br />On GitHub, the HTML representation is unable to render, please try loading this page with nbviewer.org.</b></div><div class=\"sk-container\" hidden><div class=\"sk-item sk-dashed-wrapped\"><div class=\"sk-label-container\"><div class=\"sk-label sk-toggleable\"><input class=\"sk-toggleable__control sk-hidden--visually\" id=\"sk-estimator-id-1\" type=\"checkbox\" ><label for=\"sk-estimator-id-1\" class=\"sk-toggleable__label sk-toggleable__label-arrow\">Pipeline</label><div class=\"sk-toggleable__content\"><pre>Pipeline(steps=[(&#x27;scale&#x27;, None), (&#x27;model&#x27;, RandomForestClassifier(n_jobs=-1))])</pre></div></div></div><div class=\"sk-serial\"><div class=\"sk-item\"><div class=\"sk-estimator sk-toggleable\"><input class=\"sk-toggleable__control sk-hidden--visually\" id=\"sk-estimator-id-2\" type=\"checkbox\" ><label for=\"sk-estimator-id-2\" class=\"sk-toggleable__label sk-toggleable__label-arrow\">None</label><div class=\"sk-toggleable__content\"><pre>None</pre></div></div></div><div class=\"sk-item\"><div class=\"sk-estimator sk-toggleable\"><input class=\"sk-toggleable__control sk-hidden--visually\" id=\"sk-estimator-id-3\" type=\"checkbox\" ><label for=\"sk-estimator-id-3\" class=\"sk-toggleable__label sk-toggleable__label-arrow\">RandomForestClassifier</label><div class=\"sk-toggleable__content\"><pre>RandomForestClassifier(n_jobs=-1)</pre></div></div></div></div></div></div></div>"
      ],
      "text/plain": [
       "Pipeline(steps=[('scale', None), ('model', RandomForestClassifier(n_jobs=-1))])"
      ]
     },
     "execution_count": 43,
     "metadata": {},
     "output_type": "execute_result"
    }
   ],
   "source": [
    "model.fit(X_train, y_train.values.ravel())"
   ]
  },
  {
   "cell_type": "code",
   "execution_count": 44,
   "id": "af59f8c0",
   "metadata": {
    "execution": {
     "iopub.execute_input": "2025-07-30T14:13:54.955603Z",
     "iopub.status.busy": "2025-07-30T14:13:54.955137Z",
     "iopub.status.idle": "2025-07-30T14:13:54.960262Z",
     "shell.execute_reply": "2025-07-30T14:13:54.959397Z"
    },
    "papermill": {
     "duration": 0.031741,
     "end_time": "2025-07-30T14:13:54.962031",
     "exception": false,
     "start_time": "2025-07-30T14:13:54.930290",
     "status": "completed"
    },
    "tags": []
   },
   "outputs": [],
   "source": [
    "from fairness_multiverse.universe import predict_w_threshold"
   ]
  },
  {
   "cell_type": "code",
   "execution_count": 45,
   "id": "a7cf2e16",
   "metadata": {
    "execution": {
     "iopub.execute_input": "2025-07-30T14:13:55.006132Z",
     "iopub.status.busy": "2025-07-30T14:13:55.005808Z",
     "iopub.status.idle": "2025-07-30T14:13:55.958676Z",
     "shell.execute_reply": "2025-07-30T14:13:55.957777Z"
    },
    "papermill": {
     "duration": 0.976545,
     "end_time": "2025-07-30T14:13:55.960419",
     "exception": false,
     "start_time": "2025-07-30T14:13:54.983874",
     "status": "completed"
    },
    "tags": []
   },
   "outputs": [
    {
     "data": {
      "text/plain": [
       "0.867439527365957"
      ]
     },
     "execution_count": 45,
     "metadata": {},
     "output_type": "execute_result"
    }
   ],
   "source": [
    "probs_test = model.predict_proba(X_test)\n",
    "\n",
    "'''\n",
    "Below code returns a boolean array (or binary 0/1 array depending on how it’s used) where each element \n",
    "is True if the probability of class 1 is greater than or equal to the threshold, and False otherwise.\n",
    "'''\n",
    "y_pred_default = predict_w_threshold(probs_test, 0.5)\n",
    "\n",
    "from sklearn.metrics import accuracy_score\n",
    "\n",
    "# Naive prediction\n",
    "accuracy_score(y_true = y_true, y_pred = y_pred_default)"
   ]
  },
  {
   "cell_type": "code",
   "execution_count": 46,
   "id": "081964c3",
   "metadata": {
    "execution": {
     "iopub.execute_input": "2025-07-30T14:13:56.010138Z",
     "iopub.status.busy": "2025-07-30T14:13:56.009690Z",
     "iopub.status.idle": "2025-07-30T14:13:56.927338Z",
     "shell.execute_reply": "2025-07-30T14:13:56.926356Z"
    },
    "papermill": {
     "duration": 0.946488,
     "end_time": "2025-07-30T14:13:56.929508",
     "exception": false,
     "start_time": "2025-07-30T14:13:55.983020",
     "status": "completed"
    },
    "tags": []
   },
   "outputs": [
    {
     "data": {
      "text/plain": [
       "array([0, 0, 0, ..., 0, 0, 0])"
      ]
     },
     "execution_count": 46,
     "metadata": {},
     "output_type": "execute_result"
    }
   ],
   "source": [
    "model.predict(X_test)"
   ]
  },
  {
   "cell_type": "markdown",
   "id": "56c9705b",
   "metadata": {
    "papermill": {
     "duration": 0.054738,
     "end_time": "2025-07-30T14:13:57.011678",
     "exception": false,
     "start_time": "2025-07-30T14:13:56.956940",
     "status": "completed"
    },
    "tags": []
   },
   "source": [
    "# Conformal Prediction"
   ]
  },
  {
   "cell_type": "code",
   "execution_count": 47,
   "id": "160ec6ff",
   "metadata": {
    "execution": {
     "iopub.execute_input": "2025-07-30T14:13:57.068653Z",
     "iopub.status.busy": "2025-07-30T14:13:57.067799Z",
     "iopub.status.idle": "2025-07-30T14:13:57.074001Z",
     "shell.execute_reply": "2025-07-30T14:13:57.072761Z"
    },
    "papermill": {
     "duration": 0.043113,
     "end_time": "2025-07-30T14:13:57.078394",
     "exception": false,
     "start_time": "2025-07-30T14:13:57.035281",
     "status": "completed"
    },
    "tags": []
   },
   "outputs": [],
   "source": [
    "# Miscoverage level for conformal prediction (10% allowed error rate => 90% target coverage)\n",
    "alpha = 0.1"
   ]
  },
  {
   "cell_type": "code",
   "execution_count": 48,
   "id": "eadf4555-3dd3-440e-8e35-f82a4ad9f855",
   "metadata": {
    "execution": {
     "iopub.execute_input": "2025-07-30T14:13:57.132177Z",
     "iopub.status.busy": "2025-07-30T14:13:57.131705Z",
     "iopub.status.idle": "2025-07-30T14:13:58.008956Z",
     "shell.execute_reply": "2025-07-30T14:13:58.007878Z"
    },
    "papermill": {
     "duration": 0.90516,
     "end_time": "2025-07-30T14:13:58.010595",
     "exception": false,
     "start_time": "2025-07-30T14:13:57.105435",
     "status": "completed"
    },
    "tags": []
   },
   "outputs": [],
   "source": [
    "probs_calib = model.predict_proba(X_calib)"
   ]
  },
  {
   "cell_type": "code",
   "execution_count": 49,
   "id": "2ed93547-6d5d-4983-9b36-1ecb300da49a",
   "metadata": {
    "execution": {
     "iopub.execute_input": "2025-07-30T14:13:58.088319Z",
     "iopub.status.busy": "2025-07-30T14:13:58.087431Z",
     "iopub.status.idle": "2025-07-30T14:13:58.093079Z",
     "shell.execute_reply": "2025-07-30T14:13:58.092005Z"
    },
    "papermill": {
     "duration": 0.033761,
     "end_time": "2025-07-30T14:13:58.094679",
     "exception": false,
     "start_time": "2025-07-30T14:13:58.060918",
     "status": "completed"
    },
    "tags": []
   },
   "outputs": [],
   "source": [
    "y_calib = y_calib.values.ravel().astype(int)"
   ]
  },
  {
   "cell_type": "code",
   "execution_count": 50,
   "id": "65d1320d-f588-4b38-9072-62af1ae97f7d",
   "metadata": {
    "execution": {
     "iopub.execute_input": "2025-07-30T14:13:58.147335Z",
     "iopub.status.busy": "2025-07-30T14:13:58.146568Z",
     "iopub.status.idle": "2025-07-30T14:13:58.155529Z",
     "shell.execute_reply": "2025-07-30T14:13:58.154611Z"
    },
    "papermill": {
     "duration": 0.037888,
     "end_time": "2025-07-30T14:13:58.157375",
     "exception": false,
     "start_time": "2025-07-30T14:13:58.119487",
     "status": "completed"
    },
    "tags": []
   },
   "outputs": [],
   "source": [
    "from fairness_multiverse.conformal import compute_nc_scores\n",
    "\n",
    "# Compute nonconformity scores on calibration set (1 - probability of true class)\n",
    "nc_scores = compute_nc_scores(probs_calib, y_calib)"
   ]
  },
  {
   "cell_type": "code",
   "execution_count": 51,
   "id": "df3b8ca3-53b7-43d5-9667-7c85da7aeda2",
   "metadata": {
    "execution": {
     "iopub.execute_input": "2025-07-30T14:13:58.205816Z",
     "iopub.status.busy": "2025-07-30T14:13:58.205103Z",
     "iopub.status.idle": "2025-07-30T14:13:58.213005Z",
     "shell.execute_reply": "2025-07-30T14:13:58.212083Z"
    },
    "papermill": {
     "duration": 0.033725,
     "end_time": "2025-07-30T14:13:58.214654",
     "exception": false,
     "start_time": "2025-07-30T14:13:58.180929",
     "status": "completed"
    },
    "tags": []
   },
   "outputs": [],
   "source": [
    "from fairness_multiverse.conformal import find_threshold\n",
    "\n",
    "# Find conformal threshold q_hat for the given alpha (split conformal method)\n",
    "q_hat = find_threshold(nc_scores, alpha)"
   ]
  },
  {
   "cell_type": "code",
   "execution_count": 52,
   "id": "4d29e6c1-0ef6-4aa4-b8fe-4fe79b0d033a",
   "metadata": {
    "execution": {
     "iopub.execute_input": "2025-07-30T14:13:58.265534Z",
     "iopub.status.busy": "2025-07-30T14:13:58.265067Z",
     "iopub.status.idle": "2025-07-30T14:13:58.275608Z",
     "shell.execute_reply": "2025-07-30T14:13:58.274426Z"
    },
    "papermill": {
     "duration": 0.037985,
     "end_time": "2025-07-30T14:13:58.277772",
     "exception": false,
     "start_time": "2025-07-30T14:13:58.239787",
     "status": "completed"
    },
    "tags": []
   },
   "outputs": [
    {
     "data": {
      "text/plain": [
       "0.6699999999999999"
      ]
     },
     "execution_count": 52,
     "metadata": {},
     "output_type": "execute_result"
    }
   ],
   "source": [
    "q_hat"
   ]
  },
  {
   "cell_type": "code",
   "execution_count": 53,
   "id": "92460794-cdac-4be2-ba28-f28c0515a6fb",
   "metadata": {
    "execution": {
     "iopub.execute_input": "2025-07-30T14:13:58.330578Z",
     "iopub.status.busy": "2025-07-30T14:13:58.330135Z",
     "iopub.status.idle": "2025-07-30T14:13:59.972675Z",
     "shell.execute_reply": "2025-07-30T14:13:59.971415Z"
    },
    "papermill": {
     "duration": 1.671144,
     "end_time": "2025-07-30T14:13:59.974714",
     "exception": false,
     "start_time": "2025-07-30T14:13:58.303570",
     "status": "completed"
    },
    "tags": []
   },
   "outputs": [],
   "source": [
    "from fairness_multiverse.conformal import predict_conformal_sets\n",
    "\n",
    "# Generate prediction sets for each test example\n",
    "pred_sets = predict_conformal_sets(model, X_test, q_hat)"
   ]
  },
  {
   "cell_type": "code",
   "execution_count": 54,
   "id": "d90c9a65-e6db-4f5d-80cd-e68fb7e46829",
   "metadata": {
    "execution": {
     "iopub.execute_input": "2025-07-30T14:14:00.036685Z",
     "iopub.status.busy": "2025-07-30T14:14:00.036153Z",
     "iopub.status.idle": "2025-07-30T14:14:00.042567Z",
     "shell.execute_reply": "2025-07-30T14:14:00.041522Z"
    },
    "papermill": {
     "duration": 0.034638,
     "end_time": "2025-07-30T14:14:00.044307",
     "exception": false,
     "start_time": "2025-07-30T14:14:00.009669",
     "status": "completed"
    },
    "tags": []
   },
   "outputs": [],
   "source": [
    "y_true = y_true.squeeze()"
   ]
  },
  {
   "cell_type": "code",
   "execution_count": 55,
   "id": "3a58a54a-1e68-46b9-927a-df01f18aebc8",
   "metadata": {
    "execution": {
     "iopub.execute_input": "2025-07-30T14:14:00.105703Z",
     "iopub.status.busy": "2025-07-30T14:14:00.105186Z",
     "iopub.status.idle": "2025-07-30T14:14:01.069020Z",
     "shell.execute_reply": "2025-07-30T14:14:01.067899Z"
    },
    "papermill": {
     "duration": 0.987511,
     "end_time": "2025-07-30T14:14:01.071411",
     "exception": false,
     "start_time": "2025-07-30T14:14:00.083900",
     "status": "completed"
    },
    "tags": []
   },
   "outputs": [],
   "source": [
    "from fairness_multiverse.conformal import evaluate_sets\n",
    "\n",
    "# Evaluate coverage and average set size on test data\n",
    "metrics = evaluate_sets(pred_sets, y_true)"
   ]
  },
  {
   "cell_type": "markdown",
   "id": "2b569c12-9aaa-4c88-98c9-bbcd0cf3ebb8",
   "metadata": {
    "papermill": {
     "duration": 0.025461,
     "end_time": "2025-07-30T14:14:01.131605",
     "exception": false,
     "start_time": "2025-07-30T14:14:01.106144",
     "status": "completed"
    },
    "tags": []
   },
   "source": [
    "# CP Metrics"
   ]
  },
  {
   "cell_type": "code",
   "execution_count": 56,
   "id": "5ce0a5cb-201f-45a0-ade5-94c7f0bd6095",
   "metadata": {
    "execution": {
     "iopub.execute_input": "2025-07-30T14:14:01.181302Z",
     "iopub.status.busy": "2025-07-30T14:14:01.180782Z",
     "iopub.status.idle": "2025-07-30T14:14:01.188085Z",
     "shell.execute_reply": "2025-07-30T14:14:01.187161Z"
    },
    "papermill": {
     "duration": 0.033051,
     "end_time": "2025-07-30T14:14:01.189643",
     "exception": false,
     "start_time": "2025-07-30T14:14:01.156592",
     "status": "completed"
    },
    "tags": []
   },
   "outputs": [
    {
     "data": {
      "text/plain": [
       "{'coverage': 0.9160628692453461, 'avg_size': 1.1492810166090737}"
      ]
     },
     "execution_count": 56,
     "metadata": {},
     "output_type": "execute_result"
    }
   ],
   "source": [
    "metrics"
   ]
  },
  {
   "cell_type": "code",
   "execution_count": 57,
   "id": "9b9a838d-31c9-430b-ae14-12baee460d17",
   "metadata": {
    "execution": {
     "iopub.execute_input": "2025-07-30T14:14:01.241928Z",
     "iopub.status.busy": "2025-07-30T14:14:01.241490Z",
     "iopub.status.idle": "2025-07-30T14:14:01.248008Z",
     "shell.execute_reply": "2025-07-30T14:14:01.246942Z"
    },
    "papermill": {
     "duration": 0.034657,
     "end_time": "2025-07-30T14:14:01.249823",
     "exception": false,
     "start_time": "2025-07-30T14:14:01.215166",
     "status": "completed"
    },
    "tags": []
   },
   "outputs": [],
   "source": [
    "example_universe = universe.copy()\n",
    "universe_training_size = example_universe.get(\"training_size\")\n",
    "universe_scale = example_universe.get(\"scale\")\n",
    "universe_model = example_universe.get(\"model\")\n",
    "universe_exclude_features = example_universe.get(\"exclude_features\")\n",
    "universe_exclude_subgroups = example_universe.get(\"exclude_subgroups\")"
   ]
  },
  {
   "cell_type": "code",
   "execution_count": 58,
   "id": "f4b6a8ac-9dc0-4245-8a91-5b3b5999c4f9",
   "metadata": {
    "execution": {
     "iopub.execute_input": "2025-07-30T14:14:01.306921Z",
     "iopub.status.busy": "2025-07-30T14:14:01.306016Z",
     "iopub.status.idle": "2025-07-30T14:14:01.312429Z",
     "shell.execute_reply": "2025-07-30T14:14:01.311388Z"
    },
    "papermill": {
     "duration": 0.036256,
     "end_time": "2025-07-30T14:14:01.314105",
     "exception": false,
     "start_time": "2025-07-30T14:14:01.277849",
     "status": "completed"
    },
    "tags": []
   },
   "outputs": [],
   "source": [
    "cp_metrics_dict = {\n",
    "    \"universe_id\": [universe_id],\n",
    "    \"universe_training_size\": [universe_training_size],\n",
    "    \"universe_scale\": [universe_scale],\n",
    "    \"universe_model\": [universe_model],\n",
    "    \"universe_exclude_features\": [universe_exclude_features],\n",
    "    \"universe_exclude_subgroups\": [universe_exclude_subgroups],\n",
    "    \"q_hat\": [q_hat],\n",
    "    \"coverage\": [metrics[\"coverage\"]],\n",
    "    \"avg_size\": [metrics[\"avg_size\"]],\n",
    "}"
   ]
  },
  {
   "cell_type": "code",
   "execution_count": 59,
   "id": "908acbb1-0371-4915-85ca-3fa520d2efe2",
   "metadata": {
    "execution": {
     "iopub.execute_input": "2025-07-30T14:14:01.369385Z",
     "iopub.status.busy": "2025-07-30T14:14:01.368734Z",
     "iopub.status.idle": "2025-07-30T14:14:01.377547Z",
     "shell.execute_reply": "2025-07-30T14:14:01.376318Z"
    },
    "papermill": {
     "duration": 0.037977,
     "end_time": "2025-07-30T14:14:01.379323",
     "exception": false,
     "start_time": "2025-07-30T14:14:01.341346",
     "status": "completed"
    },
    "tags": []
   },
   "outputs": [
    {
     "data": {
      "text/plain": [
       "{'universe_id': ['3944db13bce95e94302b82c28e34da25'],\n",
       " 'universe_training_size': ['5k'],\n",
       " 'universe_scale': ['do-not-scale'],\n",
       " 'universe_model': ['rf'],\n",
       " 'universe_exclude_features': ['none'],\n",
       " 'universe_exclude_subgroups': ['keep-all'],\n",
       " 'q_hat': [0.6699999999999999],\n",
       " 'coverage': [0.9160628692453461],\n",
       " 'avg_size': [1.1492810166090737]}"
      ]
     },
     "execution_count": 59,
     "metadata": {},
     "output_type": "execute_result"
    }
   ],
   "source": [
    "cp_metrics_dict"
   ]
  },
  {
   "cell_type": "code",
   "execution_count": 60,
   "id": "33007efc-14e9-4ec6-97ac-56a455c82265",
   "metadata": {
    "execution": {
     "iopub.execute_input": "2025-07-30T14:14:01.436281Z",
     "iopub.status.busy": "2025-07-30T14:14:01.435469Z",
     "iopub.status.idle": "2025-07-30T14:14:01.442158Z",
     "shell.execute_reply": "2025-07-30T14:14:01.441173Z"
    },
    "papermill": {
     "duration": 0.038076,
     "end_time": "2025-07-30T14:14:01.444132",
     "exception": false,
     "start_time": "2025-07-30T14:14:01.406056",
     "status": "completed"
    },
    "tags": []
   },
   "outputs": [],
   "source": [
    "cp_metrics_df = pd.DataFrame(cp_metrics_dict)"
   ]
  },
  {
   "cell_type": "code",
   "execution_count": 61,
   "id": "db12611b-57b2-4910-b9d0-355adfd6e7bf",
   "metadata": {
    "execution": {
     "iopub.execute_input": "2025-07-30T14:14:01.504507Z",
     "iopub.status.busy": "2025-07-30T14:14:01.503830Z",
     "iopub.status.idle": "2025-07-30T14:14:01.522040Z",
     "shell.execute_reply": "2025-07-30T14:14:01.520796Z"
    },
    "papermill": {
     "duration": 0.049473,
     "end_time": "2025-07-30T14:14:01.524335",
     "exception": false,
     "start_time": "2025-07-30T14:14:01.474862",
     "status": "completed"
    },
    "tags": []
   },
   "outputs": [
    {
     "data": {
      "text/html": [
       "<div>\n",
       "<style scoped>\n",
       "    .dataframe tbody tr th:only-of-type {\n",
       "        vertical-align: middle;\n",
       "    }\n",
       "\n",
       "    .dataframe tbody tr th {\n",
       "        vertical-align: top;\n",
       "    }\n",
       "\n",
       "    .dataframe thead th {\n",
       "        text-align: right;\n",
       "    }\n",
       "</style>\n",
       "<table border=\"1\" class=\"dataframe\">\n",
       "  <thead>\n",
       "    <tr style=\"text-align: right;\">\n",
       "      <th></th>\n",
       "      <th>universe_id</th>\n",
       "      <th>universe_training_size</th>\n",
       "      <th>universe_scale</th>\n",
       "      <th>universe_model</th>\n",
       "      <th>universe_exclude_features</th>\n",
       "      <th>universe_exclude_subgroups</th>\n",
       "      <th>q_hat</th>\n",
       "      <th>coverage</th>\n",
       "      <th>avg_size</th>\n",
       "    </tr>\n",
       "  </thead>\n",
       "  <tbody>\n",
       "    <tr>\n",
       "      <th>0</th>\n",
       "      <td>3944db13bce95e94302b82c28e34da25</td>\n",
       "      <td>5k</td>\n",
       "      <td>do-not-scale</td>\n",
       "      <td>rf</td>\n",
       "      <td>none</td>\n",
       "      <td>keep-all</td>\n",
       "      <td>0.67</td>\n",
       "      <td>0.916063</td>\n",
       "      <td>1.149281</td>\n",
       "    </tr>\n",
       "  </tbody>\n",
       "</table>\n",
       "</div>"
      ],
      "text/plain": [
       "                        universe_id universe_training_size universe_scale  \\\n",
       "0  3944db13bce95e94302b82c28e34da25                     5k   do-not-scale   \n",
       "\n",
       "  universe_model universe_exclude_features universe_exclude_subgroups  q_hat  \\\n",
       "0             rf                      none                   keep-all   0.67   \n",
       "\n",
       "   coverage  avg_size  \n",
       "0  0.916063  1.149281  "
      ]
     },
     "execution_count": 61,
     "metadata": {},
     "output_type": "execute_result"
    }
   ],
   "source": [
    "cp_metrics_df"
   ]
  },
  {
   "cell_type": "code",
   "execution_count": 62,
   "id": "b7fbde55-a0a1-47e4-9af6-fe4a17fa8c61",
   "metadata": {
    "execution": {
     "iopub.execute_input": "2025-07-30T14:14:01.584005Z",
     "iopub.status.busy": "2025-07-30T14:14:01.583603Z",
     "iopub.status.idle": "2025-07-30T14:14:01.588780Z",
     "shell.execute_reply": "2025-07-30T14:14:01.587709Z"
    },
    "papermill": {
     "duration": 0.041238,
     "end_time": "2025-07-30T14:14:01.594433",
     "exception": false,
     "start_time": "2025-07-30T14:14:01.553195",
     "status": "completed"
    },
    "tags": []
   },
   "outputs": [],
   "source": [
    "# Conditional Coverage & looking at subgroups"
   ]
  },
  {
   "cell_type": "code",
   "execution_count": 63,
   "id": "027ae886-68dd-4141-96c7-805a5450e1ef",
   "metadata": {
    "execution": {
     "iopub.execute_input": "2025-07-30T14:14:01.656871Z",
     "iopub.status.busy": "2025-07-30T14:14:01.656386Z",
     "iopub.status.idle": "2025-07-30T14:14:01.908619Z",
     "shell.execute_reply": "2025-07-30T14:14:01.907565Z"
    },
    "papermill": {
     "duration": 0.284756,
     "end_time": "2025-07-30T14:14:01.910633",
     "exception": false,
     "start_time": "2025-07-30T14:14:01.625877",
     "status": "completed"
    },
    "tags": []
   },
   "outputs": [],
   "source": [
    "from fairness_multiverse.conformal import build_cp_groups\n",
    "\n",
    "cp_groups_df = build_cp_groups(pred_sets, y_true, X_test.index, org_test)\n",
    "#needs universe_id and setting"
   ]
  },
  {
   "cell_type": "code",
   "execution_count": 64,
   "id": "01d5802c-663a-4d1f-9d69-e036faaffbf7",
   "metadata": {
    "execution": {
     "iopub.execute_input": "2025-07-30T14:14:01.966931Z",
     "iopub.status.busy": "2025-07-30T14:14:01.966395Z",
     "iopub.status.idle": "2025-07-30T14:14:01.971932Z",
     "shell.execute_reply": "2025-07-30T14:14:01.970697Z"
    },
    "papermill": {
     "duration": 0.034412,
     "end_time": "2025-07-30T14:14:01.973643",
     "exception": false,
     "start_time": "2025-07-30T14:14:01.939231",
     "status": "completed"
    },
    "tags": []
   },
   "outputs": [],
   "source": [
    "#delete\n",
    "#cp_groups_df"
   ]
  },
  {
   "cell_type": "code",
   "execution_count": 65,
   "id": "fa424af1-d1eb-443d-b717-2d279ada8408",
   "metadata": {
    "execution": {
     "iopub.execute_input": "2025-07-30T14:14:02.029597Z",
     "iopub.status.busy": "2025-07-30T14:14:02.029111Z",
     "iopub.status.idle": "2025-07-30T14:14:02.034188Z",
     "shell.execute_reply": "2025-07-30T14:14:02.033382Z"
    },
    "papermill": {
     "duration": 0.035368,
     "end_time": "2025-07-30T14:14:02.036262",
     "exception": false,
     "start_time": "2025-07-30T14:14:02.000894",
     "status": "completed"
    },
    "tags": []
   },
   "outputs": [],
   "source": [
    "#delete\n",
    "#percentage = (cp_groups_df['nongerman_female'] == 1).mean() * 100\n",
    "#print(percentage)\n"
   ]
  },
  {
   "cell_type": "code",
   "execution_count": 66,
   "id": "6cbdab96-b2b2-45af-ad54-d0516db2e28d",
   "metadata": {
    "execution": {
     "iopub.execute_input": "2025-07-30T14:14:02.092172Z",
     "iopub.status.busy": "2025-07-30T14:14:02.091636Z",
     "iopub.status.idle": "2025-07-30T14:14:03.667359Z",
     "shell.execute_reply": "2025-07-30T14:14:03.666368Z"
    },
    "papermill": {
     "duration": 1.605874,
     "end_time": "2025-07-30T14:14:03.669153",
     "exception": false,
     "start_time": "2025-07-30T14:14:02.063279",
     "status": "completed"
    },
    "tags": []
   },
   "outputs": [],
   "source": [
    "# Define covered = 1 if true_label is in the predicted set\n",
    "cp_groups_df['covered'] = cp_groups_df.apply(\n",
    "    lambda r: int(r['true_label'] in r['pred_set']),\n",
    "    axis=1\n",
    ")"
   ]
  },
  {
   "cell_type": "code",
   "execution_count": 67,
   "id": "338ff529-1a6b-4b87-a931-8e4788d52aad",
   "metadata": {
    "execution": {
     "iopub.execute_input": "2025-07-30T14:14:03.723409Z",
     "iopub.status.busy": "2025-07-30T14:14:03.722565Z",
     "iopub.status.idle": "2025-07-30T14:14:03.727518Z",
     "shell.execute_reply": "2025-07-30T14:14:03.726579Z"
    },
    "papermill": {
     "duration": 0.033824,
     "end_time": "2025-07-30T14:14:03.729079",
     "exception": false,
     "start_time": "2025-07-30T14:14:03.695255",
     "status": "completed"
    },
    "tags": []
   },
   "outputs": [],
   "source": [
    "#cp_groups_df"
   ]
  },
  {
   "cell_type": "code",
   "execution_count": 68,
   "id": "90032e27-66df-4540-9169-4e89cfbaa758",
   "metadata": {
    "execution": {
     "iopub.execute_input": "2025-07-30T14:14:03.783278Z",
     "iopub.status.busy": "2025-07-30T14:14:03.782371Z",
     "iopub.status.idle": "2025-07-30T14:14:03.794191Z",
     "shell.execute_reply": "2025-07-30T14:14:03.793199Z"
    },
    "papermill": {
     "duration": 0.041065,
     "end_time": "2025-07-30T14:14:03.795964",
     "exception": false,
     "start_time": "2025-07-30T14:14:03.754899",
     "status": "completed"
    },
    "tags": []
   },
   "outputs": [],
   "source": [
    "subgroups = ['frau1','nongerman','nongerman_male','nongerman_female']\n",
    "\n",
    "# Conditional coverage for subgroup==1\n",
    "cond_coverage = {\n",
    "    g: cp_groups_df.loc[cp_groups_df[g]==1, 'covered'].mean()\n",
    "    for g in subgroups\n",
    "}"
   ]
  },
  {
   "cell_type": "code",
   "execution_count": 69,
   "id": "1e348fb1-b9c3-45bc-ba23-f016827a7e0d",
   "metadata": {
    "execution": {
     "iopub.execute_input": "2025-07-30T14:14:03.849788Z",
     "iopub.status.busy": "2025-07-30T14:14:03.849107Z",
     "iopub.status.idle": "2025-07-30T14:14:03.856856Z",
     "shell.execute_reply": "2025-07-30T14:14:03.855948Z"
    },
    "papermill": {
     "duration": 0.036835,
     "end_time": "2025-07-30T14:14:03.858517",
     "exception": false,
     "start_time": "2025-07-30T14:14:03.821682",
     "status": "completed"
    },
    "tags": []
   },
   "outputs": [
    {
     "data": {
      "text/plain": [
       "{'frau1': 0.9145167812373636,\n",
       " 'nongerman': 0.9111323190927973,\n",
       " 'nongerman_male': 0.9250652976672972,\n",
       " 'nongerman_female': 0.8880774962742176}"
      ]
     },
     "execution_count": 69,
     "metadata": {},
     "output_type": "execute_result"
    }
   ],
   "source": [
    "cond_coverage"
   ]
  },
  {
   "cell_type": "code",
   "execution_count": 70,
   "id": "f5093324-c3dd-4d63-bc4c-8d945e5c8bbb",
   "metadata": {
    "execution": {
     "iopub.execute_input": "2025-07-30T14:14:03.911927Z",
     "iopub.status.busy": "2025-07-30T14:14:03.910985Z",
     "iopub.status.idle": "2025-07-30T14:14:03.918505Z",
     "shell.execute_reply": "2025-07-30T14:14:03.917558Z"
    },
    "papermill": {
     "duration": 0.035759,
     "end_time": "2025-07-30T14:14:03.920259",
     "exception": false,
     "start_time": "2025-07-30T14:14:03.884500",
     "status": "completed"
    },
    "tags": []
   },
   "outputs": [],
   "source": [
    "for subgroup, cov in cond_coverage.items():\n",
    "    cp_metrics_df[f\"cov_{subgroup}\"] = cov"
   ]
  },
  {
   "cell_type": "code",
   "execution_count": 71,
   "id": "6e872e10-dbe5-49e8-b554-5030c98ff75d",
   "metadata": {
    "execution": {
     "iopub.execute_input": "2025-07-30T14:14:03.974918Z",
     "iopub.status.busy": "2025-07-30T14:14:03.974054Z",
     "iopub.status.idle": "2025-07-30T14:14:03.992901Z",
     "shell.execute_reply": "2025-07-30T14:14:03.991948Z"
    },
    "papermill": {
     "duration": 0.04752,
     "end_time": "2025-07-30T14:14:03.994515",
     "exception": false,
     "start_time": "2025-07-30T14:14:03.946995",
     "status": "completed"
    },
    "tags": []
   },
   "outputs": [
    {
     "data": {
      "text/html": [
       "<div>\n",
       "<style scoped>\n",
       "    .dataframe tbody tr th:only-of-type {\n",
       "        vertical-align: middle;\n",
       "    }\n",
       "\n",
       "    .dataframe tbody tr th {\n",
       "        vertical-align: top;\n",
       "    }\n",
       "\n",
       "    .dataframe thead th {\n",
       "        text-align: right;\n",
       "    }\n",
       "</style>\n",
       "<table border=\"1\" class=\"dataframe\">\n",
       "  <thead>\n",
       "    <tr style=\"text-align: right;\">\n",
       "      <th></th>\n",
       "      <th>universe_id</th>\n",
       "      <th>universe_training_size</th>\n",
       "      <th>universe_scale</th>\n",
       "      <th>universe_model</th>\n",
       "      <th>universe_exclude_features</th>\n",
       "      <th>universe_exclude_subgroups</th>\n",
       "      <th>q_hat</th>\n",
       "      <th>coverage</th>\n",
       "      <th>avg_size</th>\n",
       "      <th>cov_frau1</th>\n",
       "      <th>cov_nongerman</th>\n",
       "      <th>cov_nongerman_male</th>\n",
       "      <th>cov_nongerman_female</th>\n",
       "    </tr>\n",
       "  </thead>\n",
       "  <tbody>\n",
       "    <tr>\n",
       "      <th>0</th>\n",
       "      <td>3944db13bce95e94302b82c28e34da25</td>\n",
       "      <td>5k</td>\n",
       "      <td>do-not-scale</td>\n",
       "      <td>rf</td>\n",
       "      <td>none</td>\n",
       "      <td>keep-all</td>\n",
       "      <td>0.67</td>\n",
       "      <td>0.916063</td>\n",
       "      <td>1.149281</td>\n",
       "      <td>0.914517</td>\n",
       "      <td>0.911132</td>\n",
       "      <td>0.925065</td>\n",
       "      <td>0.888077</td>\n",
       "    </tr>\n",
       "  </tbody>\n",
       "</table>\n",
       "</div>"
      ],
      "text/plain": [
       "                        universe_id universe_training_size universe_scale  \\\n",
       "0  3944db13bce95e94302b82c28e34da25                     5k   do-not-scale   \n",
       "\n",
       "  universe_model universe_exclude_features universe_exclude_subgroups  q_hat  \\\n",
       "0             rf                      none                   keep-all   0.67   \n",
       "\n",
       "   coverage  avg_size  cov_frau1  cov_nongerman  cov_nongerman_male  \\\n",
       "0  0.916063  1.149281   0.914517       0.911132            0.925065   \n",
       "\n",
       "   cov_nongerman_female  \n",
       "0              0.888077  "
      ]
     },
     "execution_count": 71,
     "metadata": {},
     "output_type": "execute_result"
    }
   ],
   "source": [
    "cp_metrics_df"
   ]
  },
  {
   "cell_type": "markdown",
   "id": "33774451",
   "metadata": {
    "papermill": {
     "duration": 0.027246,
     "end_time": "2025-07-30T14:14:04.048737",
     "exception": false,
     "start_time": "2025-07-30T14:14:04.021491",
     "status": "completed"
    },
    "tags": []
   },
   "source": [
    "# (Fairness) Metrics"
   ]
  },
  {
   "cell_type": "code",
   "execution_count": 72,
   "id": "debc5d62",
   "metadata": {
    "execution": {
     "iopub.execute_input": "2025-07-30T14:14:04.103989Z",
     "iopub.status.busy": "2025-07-30T14:14:04.103398Z",
     "iopub.status.idle": "2025-07-30T14:14:04.124219Z",
     "shell.execute_reply": "2025-07-30T14:14:04.123273Z"
    },
    "papermill": {
     "duration": 0.051167,
     "end_time": "2025-07-30T14:14:04.125885",
     "exception": false,
     "start_time": "2025-07-30T14:14:04.074718",
     "status": "completed"
    },
    "tags": []
   },
   "outputs": [],
   "source": [
    "# do I need to include maxdeutsch1.missing?\n",
    "\n",
    "import numpy as np\n",
    "\n",
    "colname_to_bin = \"maxdeutsch1\"\n",
    "majority_value = org_train[colname_to_bin].mode()[0]\n",
    "\n",
    "org_test[\"majmin\"] = np.where(org_test[colname_to_bin] == majority_value, \"majority\", \"minority\")"
   ]
  },
  {
   "cell_type": "code",
   "execution_count": 73,
   "id": "06a50de5",
   "metadata": {
    "execution": {
     "iopub.execute_input": "2025-07-30T14:14:04.183289Z",
     "iopub.status.busy": "2025-07-30T14:14:04.182617Z",
     "iopub.status.idle": "2025-07-30T14:14:06.948847Z",
     "shell.execute_reply": "2025-07-30T14:14:06.947834Z"
    },
    "papermill": {
     "duration": 2.796172,
     "end_time": "2025-07-30T14:14:06.950797",
     "exception": false,
     "start_time": "2025-07-30T14:14:04.154625",
     "status": "completed"
    },
    "tags": []
   },
   "outputs": [],
   "source": [
    "example_universe = universe.copy()\n",
    "example_universe[\"cutoff\"] = example_universe[\"cutoff\"][0]\n",
    "example_universe[\"eval_fairness_grouping\"] = example_universe[\"eval_fairness_grouping\"][0]\n",
    "fairness_dict, metric_frame = universe_analysis.compute_metrics(\n",
    "    example_universe,\n",
    "    y_pred_prob=probs_test,\n",
    "    y_test=y_true,\n",
    "    org_test=org_test,\n",
    ")"
   ]
  },
  {
   "cell_type": "markdown",
   "id": "f95d4e02",
   "metadata": {
    "papermill": {
     "duration": 0.02641,
     "end_time": "2025-07-30T14:14:07.007181",
     "exception": false,
     "start_time": "2025-07-30T14:14:06.980771",
     "status": "completed"
    },
    "tags": []
   },
   "source": [
    "# Overall"
   ]
  },
  {
   "cell_type": "markdown",
   "id": "bdee4871",
   "metadata": {
    "papermill": {
     "duration": 0.026829,
     "end_time": "2025-07-30T14:14:07.060728",
     "exception": false,
     "start_time": "2025-07-30T14:14:07.033899",
     "status": "completed"
    },
    "tags": []
   },
   "source": [
    "Fairness\n",
    "Main fairness target: Equalized Odds. Seems to be a better fit than equal opportunity, since we're not only interested in Y = 1. Seems to be a better fit than demographic parity, since we also care about accuracy, not just equal distribution of preds.\n",
    "\n",
    "Pick column for computation of fairness metrics\n",
    "\n",
    "Performance\n",
    "Overall performance measures, most interesting in relation to the measures split by group below"
   ]
  },
  {
   "cell_type": "code",
   "execution_count": 74,
   "id": "c4e067c6",
   "metadata": {
    "execution": {
     "iopub.execute_input": "2025-07-30T14:14:07.116329Z",
     "iopub.status.busy": "2025-07-30T14:14:07.115376Z",
     "iopub.status.idle": "2025-07-30T14:14:07.124396Z",
     "shell.execute_reply": "2025-07-30T14:14:07.123380Z"
    },
    "papermill": {
     "duration": 0.038326,
     "end_time": "2025-07-30T14:14:07.125978",
     "exception": false,
     "start_time": "2025-07-30T14:14:07.087652",
     "status": "completed"
    },
    "tags": []
   },
   "outputs": [
    {
     "data": {
      "text/plain": [
       "accuracy                   0.198094\n",
       "balanced accuracy          0.530076\n",
       "f1                         0.238072\n",
       "precision                  0.135558\n",
       "false positive rate        0.916473\n",
       "false negative rate        0.023375\n",
       "selection rate             0.924189\n",
       "count                  89710.000000\n",
       "dtype: float64"
      ]
     },
     "execution_count": 74,
     "metadata": {},
     "output_type": "execute_result"
    }
   ],
   "source": [
    "metric_frame.overall"
   ]
  },
  {
   "cell_type": "markdown",
   "id": "e968fe9d",
   "metadata": {
    "papermill": {
     "duration": 0.026744,
     "end_time": "2025-07-30T14:14:07.181269",
     "exception": false,
     "start_time": "2025-07-30T14:14:07.154525",
     "status": "completed"
    },
    "tags": []
   },
   "source": [
    "By Group"
   ]
  },
  {
   "cell_type": "code",
   "execution_count": 75,
   "id": "ec325bce",
   "metadata": {
    "execution": {
     "iopub.execute_input": "2025-07-30T14:14:07.237536Z",
     "iopub.status.busy": "2025-07-30T14:14:07.236890Z",
     "iopub.status.idle": "2025-07-30T14:14:07.252127Z",
     "shell.execute_reply": "2025-07-30T14:14:07.251180Z"
    },
    "papermill": {
     "duration": 0.045537,
     "end_time": "2025-07-30T14:14:07.253744",
     "exception": false,
     "start_time": "2025-07-30T14:14:07.208207",
     "status": "completed"
    },
    "tags": []
   },
   "outputs": [
    {
     "data": {
      "text/html": [
       "<div>\n",
       "<style scoped>\n",
       "    .dataframe tbody tr th:only-of-type {\n",
       "        vertical-align: middle;\n",
       "    }\n",
       "\n",
       "    .dataframe tbody tr th {\n",
       "        vertical-align: top;\n",
       "    }\n",
       "\n",
       "    .dataframe thead th {\n",
       "        text-align: right;\n",
       "    }\n",
       "</style>\n",
       "<table border=\"1\" class=\"dataframe\">\n",
       "  <thead>\n",
       "    <tr style=\"text-align: right;\">\n",
       "      <th></th>\n",
       "      <th>accuracy</th>\n",
       "      <th>balanced accuracy</th>\n",
       "      <th>f1</th>\n",
       "      <th>precision</th>\n",
       "      <th>false positive rate</th>\n",
       "      <th>false negative rate</th>\n",
       "      <th>selection rate</th>\n",
       "      <th>count</th>\n",
       "    </tr>\n",
       "    <tr>\n",
       "      <th>majmin</th>\n",
       "      <th></th>\n",
       "      <th></th>\n",
       "      <th></th>\n",
       "      <th></th>\n",
       "      <th></th>\n",
       "      <th></th>\n",
       "      <th></th>\n",
       "      <th></th>\n",
       "    </tr>\n",
       "  </thead>\n",
       "  <tbody>\n",
       "    <tr>\n",
       "      <th>majority</th>\n",
       "      <td>0.189490</td>\n",
       "      <td>0.529703</td>\n",
       "      <td>0.244424</td>\n",
       "      <td>0.139381</td>\n",
       "      <td>0.932717</td>\n",
       "      <td>0.007877</td>\n",
       "      <td>0.940567</td>\n",
       "      <td>69170.0</td>\n",
       "    </tr>\n",
       "    <tr>\n",
       "      <th>minority</th>\n",
       "      <td>0.227069</td>\n",
       "      <td>0.526998</td>\n",
       "      <td>0.214759</td>\n",
       "      <td>0.121625</td>\n",
       "      <td>0.862811</td>\n",
       "      <td>0.083193</td>\n",
       "      <td>0.869036</td>\n",
       "      <td>20540.0</td>\n",
       "    </tr>\n",
       "  </tbody>\n",
       "</table>\n",
       "</div>"
      ],
      "text/plain": [
       "          accuracy  balanced accuracy        f1  precision  \\\n",
       "majmin                                                       \n",
       "majority  0.189490           0.529703  0.244424   0.139381   \n",
       "minority  0.227069           0.526998  0.214759   0.121625   \n",
       "\n",
       "          false positive rate  false negative rate  selection rate    count  \n",
       "majmin                                                                       \n",
       "majority             0.932717             0.007877        0.940567  69170.0  \n",
       "minority             0.862811             0.083193        0.869036  20540.0  "
      ]
     },
     "execution_count": 75,
     "metadata": {},
     "output_type": "execute_result"
    }
   ],
   "source": [
    "metric_frame.by_group"
   ]
  },
  {
   "cell_type": "code",
   "execution_count": 76,
   "id": "a9ddbe63",
   "metadata": {
    "execution": {
     "iopub.execute_input": "2025-07-30T14:14:07.311447Z",
     "iopub.status.busy": "2025-07-30T14:14:07.310580Z",
     "iopub.status.idle": "2025-07-30T14:14:09.705805Z",
     "shell.execute_reply": "2025-07-30T14:14:09.704834Z"
    },
    "papermill": {
     "duration": 2.425204,
     "end_time": "2025-07-30T14:14:09.707431",
     "exception": false,
     "start_time": "2025-07-30T14:14:07.282227",
     "status": "completed"
    },
    "tags": []
   },
   "outputs": [
    {
     "data": {
      "text/plain": [
       "array([[<Axes: title={'center': 'accuracy'}, xlabel='majmin'>,\n",
       "        <Axes: title={'center': 'balanced accuracy'}, xlabel='majmin'>,\n",
       "        <Axes: title={'center': 'f1'}, xlabel='majmin'>],\n",
       "       [<Axes: title={'center': 'precision'}, xlabel='majmin'>,\n",
       "        <Axes: title={'center': 'false positive rate'}, xlabel='majmin'>,\n",
       "        <Axes: title={'center': 'false negative rate'}, xlabel='majmin'>],\n",
       "       [<Axes: title={'center': 'selection rate'}, xlabel='majmin'>,\n",
       "        <Axes: title={'center': 'count'}, xlabel='majmin'>,\n",
       "        <Axes: xlabel='majmin'>]], dtype=object)"
      ]
     },
     "execution_count": 76,
     "metadata": {},
     "output_type": "execute_result"
    },
    {
     "data": {
      "image/png": "[encoded data removed]",
      "text/plain": [
       "<Figure size 1200x800 with 9 Axes>"
      ]
     },
     "metadata": {},
     "output_type": "display_data"
    }
   ],
   "source": [
    "# In a graphic\n",
    "metric_frame.by_group.plot.bar(\n",
    "    subplots=True,\n",
    "    layout=[3, 3],\n",
    "    legend=False,\n",
    "    figsize=[12, 8],\n",
    "    title=\"Show all metrics\",\n",
    ")"
   ]
  },
  {
   "cell_type": "markdown",
   "id": "f57a0bac",
   "metadata": {
    "papermill": {
     "duration": 0.027634,
     "end_time": "2025-07-30T14:14:09.766782",
     "exception": false,
     "start_time": "2025-07-30T14:14:09.739148",
     "status": "completed"
    },
    "tags": []
   },
   "source": [
    "# Final Output"
   ]
  },
  {
   "cell_type": "code",
   "execution_count": 77,
   "id": "96d280a3",
   "metadata": {
    "execution": {
     "iopub.execute_input": "2025-07-30T14:14:09.825165Z",
     "iopub.status.busy": "2025-07-30T14:14:09.824505Z",
     "iopub.status.idle": "2025-07-30T14:14:09.833350Z",
     "shell.execute_reply": "2025-07-30T14:14:09.832318Z"
    },
    "papermill": {
     "duration": 0.039503,
     "end_time": "2025-07-30T14:14:09.834996",
     "exception": false,
     "start_time": "2025-07-30T14:14:09.795493",
     "status": "completed"
    },
    "tags": []
   },
   "outputs": [
    {
     "data": {
      "text/plain": [
       "4"
      ]
     },
     "execution_count": 77,
     "metadata": {},
     "output_type": "execute_result"
    }
   ],
   "source": [
    "sub_universes = universe_analysis.generate_sub_universes()\n",
    "len(sub_universes)"
   ]
  },
  {
   "cell_type": "code",
   "execution_count": 78,
   "id": "92adf7ba",
   "metadata": {
    "execution": {
     "iopub.execute_input": "2025-07-30T14:14:09.896989Z",
     "iopub.status.busy": "2025-07-30T14:14:09.896319Z",
     "iopub.status.idle": "2025-07-30T14:14:09.903217Z",
     "shell.execute_reply": "2025-07-30T14:14:09.902118Z"
    },
    "papermill": {
     "duration": 0.03929,
     "end_time": "2025-07-30T14:14:09.905045",
     "exception": false,
     "start_time": "2025-07-30T14:14:09.865755",
     "status": "completed"
    },
    "tags": []
   },
   "outputs": [],
   "source": [
    "def filter_sub_universe_data(sub_universe, org_test):\n",
    "    # Keep all rows — no filtering\n",
    "    keep_rows_mask = np.ones(org_test.shape[0], dtype=bool)\n",
    "\n",
    "    print(f\"[INFO] Keeping all rows: {keep_rows_mask.sum()} rows retained.\")\n",
    "    return keep_rows_mask"
   ]
  },
  {
   "cell_type": "code",
   "execution_count": 79,
   "id": "4a759155",
   "metadata": {
    "execution": {
     "iopub.execute_input": "2025-07-30T14:14:09.967203Z",
     "iopub.status.busy": "2025-07-30T14:14:09.966418Z",
     "iopub.status.idle": "2025-07-30T14:14:21.542942Z",
     "shell.execute_reply": "2025-07-30T14:14:21.541911Z"
    },
    "papermill": {
     "duration": 11.609244,
     "end_time": "2025-07-30T14:14:21.544904",
     "exception": false,
     "start_time": "2025-07-30T14:14:09.935660",
     "status": "completed"
    },
    "tags": []
   },
   "outputs": [
    {
     "name": "stdout",
     "output_type": "stream",
     "text": [
      "Stopping execution_time clock.\n",
      "[INFO] Keeping all rows: 89710 rows retained.\n"
     ]
    },
    {
     "name": "stdout",
     "output_type": "stream",
     "text": [
      "[INFO] Keeping all rows: 89710 rows retained.\n"
     ]
    },
    {
     "name": "stdout",
     "output_type": "stream",
     "text": [
      "[INFO] Keeping all rows: 89710 rows retained.\n"
     ]
    },
    {
     "name": "stdout",
     "output_type": "stream",
     "text": [
      "[INFO] Keeping all rows: 89710 rows retained.\n"
     ]
    },
    {
     "data": {
      "text/html": [
       "<div>\n",
       "<style scoped>\n",
       "    .dataframe tbody tr th:only-of-type {\n",
       "        vertical-align: middle;\n",
       "    }\n",
       "\n",
       "    .dataframe tbody tr th {\n",
       "        vertical-align: top;\n",
       "    }\n",
       "\n",
       "    .dataframe thead th {\n",
       "        text-align: right;\n",
       "    }\n",
       "</style>\n",
       "<table border=\"1\" class=\"dataframe\">\n",
       "  <thead>\n",
       "    <tr style=\"text-align: right;\">\n",
       "      <th></th>\n",
       "      <th>run_no</th>\n",
       "      <th>universe_id</th>\n",
       "      <th>universe_settings</th>\n",
       "      <th>execution_time</th>\n",
       "      <th>test_size_n</th>\n",
       "      <th>test_size_frac</th>\n",
       "      <th>fair_main_equalized_odds_difference</th>\n",
       "      <th>fair_main_equalized_odds_ratio</th>\n",
       "      <th>fair_main_demographic_parity_difference</th>\n",
       "      <th>fair_main_demographic_parity_ratio</th>\n",
       "      <th>...</th>\n",
       "      <th>perf_grp_precision_0</th>\n",
       "      <th>perf_grp_precision_1</th>\n",
       "      <th>perf_grp_false positive rate_0</th>\n",
       "      <th>perf_grp_false positive rate_1</th>\n",
       "      <th>perf_grp_false negative rate_0</th>\n",
       "      <th>perf_grp_false negative rate_1</th>\n",
       "      <th>perf_grp_selection rate_0</th>\n",
       "      <th>perf_grp_selection rate_1</th>\n",
       "      <th>perf_grp_count_0</th>\n",
       "      <th>perf_grp_count_1</th>\n",
       "    </tr>\n",
       "  </thead>\n",
       "  <tbody>\n",
       "    <tr>\n",
       "      <th>0</th>\n",
       "      <td>12</td>\n",
       "      <td>3944db13bce95e94302b82c28e34da25</td>\n",
       "      <td>{\"cutoff\": \"quantile_0.1\", \"eval_fairness_grou...</td>\n",
       "      <td>31.577369</td>\n",
       "      <td>89710</td>\n",
       "      <td>1.0</td>\n",
       "      <td>0.075315</td>\n",
       "      <td>0.924087</td>\n",
       "      <td>0.071531</td>\n",
       "      <td>0.923949</td>\n",
       "      <td>...</td>\n",
       "      <td>NaN</td>\n",
       "      <td>NaN</td>\n",
       "      <td>NaN</td>\n",
       "      <td>NaN</td>\n",
       "      <td>NaN</td>\n",
       "      <td>NaN</td>\n",
       "      <td>NaN</td>\n",
       "      <td>NaN</td>\n",
       "      <td>NaN</td>\n",
       "      <td>NaN</td>\n",
       "    </tr>\n",
       "    <tr>\n",
       "      <th>0</th>\n",
       "      <td>12</td>\n",
       "      <td>3944db13bce95e94302b82c28e34da25</td>\n",
       "      <td>{\"cutoff\": \"quantile_0.1\", \"eval_fairness_grou...</td>\n",
       "      <td>31.577369</td>\n",
       "      <td>89710</td>\n",
       "      <td>1.0</td>\n",
       "      <td>0.075315</td>\n",
       "      <td>0.924087</td>\n",
       "      <td>0.071531</td>\n",
       "      <td>0.923949</td>\n",
       "      <td>...</td>\n",
       "      <td>0.121625</td>\n",
       "      <td>0.139381</td>\n",
       "      <td>0.862811</td>\n",
       "      <td>0.932717</td>\n",
       "      <td>0.083193</td>\n",
       "      <td>0.007877</td>\n",
       "      <td>0.869036</td>\n",
       "      <td>0.940567</td>\n",
       "      <td>20540.0</td>\n",
       "      <td>69170.0</td>\n",
       "    </tr>\n",
       "    <tr>\n",
       "      <th>0</th>\n",
       "      <td>12</td>\n",
       "      <td>3944db13bce95e94302b82c28e34da25</td>\n",
       "      <td>{\"cutoff\": \"quantile_0.25\", \"eval_fairness_gro...</td>\n",
       "      <td>31.577369</td>\n",
       "      <td>89710</td>\n",
       "      <td>1.0</td>\n",
       "      <td>0.128750</td>\n",
       "      <td>0.865802</td>\n",
       "      <td>0.083388</td>\n",
       "      <td>0.895777</td>\n",
       "      <td>...</td>\n",
       "      <td>NaN</td>\n",
       "      <td>NaN</td>\n",
       "      <td>NaN</td>\n",
       "      <td>NaN</td>\n",
       "      <td>NaN</td>\n",
       "      <td>NaN</td>\n",
       "      <td>NaN</td>\n",
       "      <td>NaN</td>\n",
       "      <td>NaN</td>\n",
       "      <td>NaN</td>\n",
       "    </tr>\n",
       "    <tr>\n",
       "      <th>0</th>\n",
       "      <td>12</td>\n",
       "      <td>3944db13bce95e94302b82c28e34da25</td>\n",
       "      <td>{\"cutoff\": \"quantile_0.25\", \"eval_fairness_gro...</td>\n",
       "      <td>31.577369</td>\n",
       "      <td>89710</td>\n",
       "      <td>1.0</td>\n",
       "      <td>0.128750</td>\n",
       "      <td>0.865802</td>\n",
       "      <td>0.083388</td>\n",
       "      <td>0.895777</td>\n",
       "      <td>...</td>\n",
       "      <td>0.133619</td>\n",
       "      <td>0.158451</td>\n",
       "      <td>0.701849</td>\n",
       "      <td>0.775829</td>\n",
       "      <td>0.169341</td>\n",
       "      <td>0.040591</td>\n",
       "      <td>0.716699</td>\n",
       "      <td>0.800087</td>\n",
       "      <td>20540.0</td>\n",
       "      <td>69170.0</td>\n",
       "    </tr>\n",
       "  </tbody>\n",
       "</table>\n",
       "<p>4 rows × 50 columns</p>\n",
       "</div>"
      ],
      "text/plain": [
       "  run_no                       universe_id  \\\n",
       "0     12  3944db13bce95e94302b82c28e34da25   \n",
       "0     12  3944db13bce95e94302b82c28e34da25   \n",
       "0     12  3944db13bce95e94302b82c28e34da25   \n",
       "0     12  3944db13bce95e94302b82c28e34da25   \n",
       "\n",
       "                                   universe_settings  execution_time  \\\n",
       "0  {\"cutoff\": \"quantile_0.1\", \"eval_fairness_grou...       31.577369   \n",
       "0  {\"cutoff\": \"quantile_0.1\", \"eval_fairness_grou...       31.577369   \n",
       "0  {\"cutoff\": \"quantile_0.25\", \"eval_fairness_gro...       31.577369   \n",
       "0  {\"cutoff\": \"quantile_0.25\", \"eval_fairness_gro...       31.577369   \n",
       "\n",
       "   test_size_n  test_size_frac  fair_main_equalized_odds_difference  \\\n",
       "0        89710             1.0                             0.075315   \n",
       "0        89710             1.0                             0.075315   \n",
       "0        89710             1.0                             0.128750   \n",
       "0        89710             1.0                             0.128750   \n",
       "\n",
       "   fair_main_equalized_odds_ratio  fair_main_demographic_parity_difference  \\\n",
       "0                        0.924087                                 0.071531   \n",
       "0                        0.924087                                 0.071531   \n",
       "0                        0.865802                                 0.083388   \n",
       "0                        0.865802                                 0.083388   \n",
       "\n",
       "   fair_main_demographic_parity_ratio  ...  perf_grp_precision_0  \\\n",
       "0                            0.923949  ...                   NaN   \n",
       "0                            0.923949  ...              0.121625   \n",
       "0                            0.895777  ...                   NaN   \n",
       "0                            0.895777  ...              0.133619   \n",
       "\n",
       "   perf_grp_precision_1  perf_grp_false positive rate_0  \\\n",
       "0                   NaN                             NaN   \n",
       "0              0.139381                        0.862811   \n",
       "0                   NaN                             NaN   \n",
       "0              0.158451                        0.701849   \n",
       "\n",
       "   perf_grp_false positive rate_1  perf_grp_false negative rate_0  \\\n",
       "0                             NaN                             NaN   \n",
       "0                        0.932717                        0.083193   \n",
       "0                             NaN                             NaN   \n",
       "0                        0.775829                        0.169341   \n",
       "\n",
       "   perf_grp_false negative rate_1  perf_grp_selection rate_0  \\\n",
       "0                             NaN                        NaN   \n",
       "0                        0.007877                   0.869036   \n",
       "0                             NaN                        NaN   \n",
       "0                        0.040591                   0.716699   \n",
       "\n",
       "   perf_grp_selection rate_1  perf_grp_count_0  perf_grp_count_1  \n",
       "0                        NaN               NaN               NaN  \n",
       "0                   0.940567           20540.0           69170.0  \n",
       "0                        NaN               NaN               NaN  \n",
       "0                   0.800087           20540.0           69170.0  \n",
       "\n",
       "[4 rows x 50 columns]"
      ]
     },
     "execution_count": 79,
     "metadata": {},
     "output_type": "execute_result"
    }
   ],
   "source": [
    "final_output = universe_analysis.generate_final_output(\n",
    "    y_pred_prob=probs_test,\n",
    "    y_test=y_true,\n",
    "    org_test=org_test,\n",
    "    filter_data=filter_sub_universe_data,\n",
    "    cp_metrics_df=cp_metrics_df,\n",
    "    save=True,\n",
    ")\n",
    "final_output"
   ]
  },
  {
   "cell_type": "code",
   "execution_count": null,
   "id": "721ff514-cb11-46f8-b6fc-50392f74b5cb",
   "metadata": {
    "papermill": {
     "duration": 0.065188,
     "end_time": "2025-07-30T14:14:21.645422",
     "exception": false,
     "start_time": "2025-07-30T14:14:21.580234",
     "status": "completed"
    },
    "tags": []
   },
   "outputs": [],
   "source": []
  }
 ],
 "metadata": {
  "celltoolbar": "Tags",
  "kernelspec": {
   "display_name": "Python (CMA Fairness)",
   "language": "python",
   "name": "cma_fair_env"
  },
  "language_info": {
   "codemirror_mode": {
    "name": "ipython",
    "version": 3
   },
   "file_extension": ".py",
   "mimetype": "text/x-python",
   "name": "python",
   "nbconvert_exporter": "python",
   "pygments_lexer": "ipython3",
   "version": "3.10.12"
  },
  "papermill": {
   "default_parameters": {},
   "duration": 47.931755,
   "end_time": "2025-07-30T14:14:22.864080",
   "environment_variables": {},
   "exception": null,
   "input_path": "universe_analysis.ipynb",
   "output_path": "output/runs/12/notebooks/m_12-3944db13bce95e94302b82c28e34da25.ipynb",
   "parameters": {
    "output_dir": "output",
    "run_no": "12",
    "seed": "2023",
    "universe": "{\"cutoff\": [\"quantile_0.1\", \"quantile_0.25\"], \"eval_fairness_grouping\": [\"majority-minority\", \"nationality-all\"], \"exclude_features\": \"none\", \"exclude_subgroups\": \"keep-all\", \"model\": \"rf\", \"scale\": \"do-not-scale\", \"training_size\": \"5k\", \"training_year\": \"2010_14\"}",
    "universe_id": "3944db13bce95e94302b82c28e34da25"
   },
   "start_time": "2025-07-30T14:13:34.932325",
   "version": "2.6.0"
  }
 },
 "nbformat": 4,
 "nbformat_minor": 5
}