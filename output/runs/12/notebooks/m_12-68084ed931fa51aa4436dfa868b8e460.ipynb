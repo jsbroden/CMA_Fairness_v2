{
 "cells": [
  {
   "cell_type": "code",
   "execution_count": 1,
   "id": "f159f837-637b-42ba-96b5-ec9a68c44524",
   "metadata": {
    "execution": {
     "iopub.execute_input": "2025-07-30T14:21:58.378086Z",
     "iopub.status.busy": "2025-07-30T14:21:58.377615Z",
     "iopub.status.idle": "2025-07-30T14:21:58.390640Z",
     "shell.execute_reply": "2025-07-30T14:21:58.389769Z"
    },
    "papermill": {
     "duration": 0.038036,
     "end_time": "2025-07-30T14:21:58.392700",
     "exception": false,
     "start_time": "2025-07-30T14:21:58.354664",
     "status": "completed"
    },
    "tags": []
   },
   "outputs": [
    {
     "name": "stdout",
     "output_type": "stream",
     "text": [
      "/dss/dsshome1/0C/ra93lal2/cma/CMA_Fairness_v2\n"
     ]
    },
    {
     "name": "stderr",
     "output_type": "stream",
     "text": [
      "/dss/dsshome1/0C/ra93lal2/.local/share/virtualenvs/CMA_Fairness_v2-3j10GkSs/lib/python3.10/site-packages/IPython/core/magics/osm.py:393: UserWarning: This is now an optional IPython functionality, using bookmarks requires you to install the `pickleshare` library.\n",
      "  bkms = self.shell.db.get('bookmarks', {})\n",
      "/dss/dsshome1/0C/ra93lal2/.local/share/virtualenvs/CMA_Fairness_v2-3j10GkSs/lib/python3.10/site-packages/IPython/core/magics/osm.py:417: UserWarning: This is now an optional IPython functionality, setting dhist requires you to install the `pickleshare` library.\n",
      "  self.shell.db['dhist'] = compress_dhist(dhist)[-100:]\n"
     ]
    }
   ],
   "source": [
    "%cd ~/cma/CMA_Fairness_v2"
   ]
  },
  {
   "cell_type": "markdown",
   "id": "de2603b9",
   "metadata": {
    "papermill": {
     "duration": 0.018203,
     "end_time": "2025-07-30T14:21:58.432730",
     "exception": false,
     "start_time": "2025-07-30T14:21:58.414527",
     "status": "completed"
    },
    "tags": []
   },
   "source": [
    "The following cell holds the definition of our parameters, these values can be overriden by rendering the with e.g. the following command:\n",
    "\n",
    "papermill -p alpha 0.2 -p ratio 0.3 universe_analysis.ipynb output/test_run.ipynb"
   ]
  },
  {
   "cell_type": "code",
   "execution_count": 2,
   "id": "a80968a0-40bb-4fa9-85ef-2d5eefb01975",
   "metadata": {
    "execution": {
     "iopub.execute_input": "2025-07-30T14:21:58.477358Z",
     "iopub.status.busy": "2025-07-30T14:21:58.476858Z",
     "iopub.status.idle": "2025-07-30T14:21:58.482952Z",
     "shell.execute_reply": "2025-07-30T14:21:58.482044Z"
    },
    "papermill": {
     "duration": 0.029844,
     "end_time": "2025-07-30T14:21:58.484667",
     "exception": false,
     "start_time": "2025-07-30T14:21:58.454823",
     "status": "completed"
    },
    "tags": []
   },
   "outputs": [
    {
     "name": "stdout",
     "output_type": "stream",
     "text": [
      "Current working directory: /dss/dsshome1/0C/ra93lal2/cma/CMA_Fairness_v2\n"
     ]
    }
   ],
   "source": [
    "import os\n",
    "print(\"Current working directory:\", os.getcwd())"
   ]
  },
  {
   "cell_type": "code",
   "execution_count": 3,
   "id": "2dce4c03",
   "metadata": {
    "execution": {
     "iopub.execute_input": "2025-07-30T14:21:58.536496Z",
     "iopub.status.busy": "2025-07-30T14:21:58.535983Z",
     "iopub.status.idle": "2025-07-30T14:21:58.543805Z",
     "shell.execute_reply": "2025-07-30T14:21:58.542799Z"
    },
    "papermill": {
     "duration": 0.036958,
     "end_time": "2025-07-30T14:21:58.545833",
     "exception": false,
     "start_time": "2025-07-30T14:21:58.508875",
     "status": "completed"
    },
    "tags": [
     "parameters"
    ]
   },
   "outputs": [],
   "source": [
    "run_no = 0\n",
    "universe_id = \"test\"\n",
    "universe = {\n",
    "    \"training_size\": \"25k\", # \"25k\", \"5k\", \"1k\"\n",
    "    \"training_year\": \"2014\", # \"2014\", \"2012_14\", \"2010_14\"\n",
    "    \"scale\": \"scale\", # \"scale\", \"do-not-scale\",\n",
    "    #\"stratify_split\": \"target\", # \"none\", \"target\", \"protected-attribute\", \"both\",\n",
    "    \"model\": \"elasticnet\", # \"logreg\", \"penalized_logreg\", \"rf\", \"gbm\", \"elasticnet\"\n",
    "    \"cutoff\": [\"quantile_0.15\", \"quantile_0.30\"],\n",
    "    \"exclude_features\": \"age\", # \"none\", \"nationality\", \"sex\", \"nationality-sex\", \"age\"\n",
    "    \"exclude_subgroups\": \"keep-all\", # \"keep-all\", \"drop-non-german\"\n",
    "    \"eval_fairness_grouping\": [\"majority-minority\", \"nationality-all\"]\n",
    "}\n",
    "\n",
    "output_dir=\"./output\"\n",
    "seed=0"
   ]
  },
  {
   "cell_type": "code",
   "execution_count": 4,
   "id": "406e05f5",
   "metadata": {
    "execution": {
     "iopub.execute_input": "2025-07-30T14:21:58.595151Z",
     "iopub.status.busy": "2025-07-30T14:21:58.594142Z",
     "iopub.status.idle": "2025-07-30T14:21:58.601054Z",
     "shell.execute_reply": "2025-07-30T14:21:58.599321Z"
    },
    "papermill": {
     "duration": 0.029876,
     "end_time": "2025-07-30T14:21:58.603324",
     "exception": false,
     "start_time": "2025-07-30T14:21:58.573448",
     "status": "completed"
    },
    "tags": [
     "injected-parameters"
    ]
   },
   "outputs": [],
   "source": [
    "# Parameters\n",
    "universe_id = \"68084ed931fa51aa4436dfa868b8e460\"\n",
    "run_no = \"12\"\n",
    "universe = \"{\\\"cutoff\\\": [\\\"quantile_0.1\\\", \\\"quantile_0.25\\\"], \\\"eval_fairness_grouping\\\": [\\\"majority-minority\\\", \\\"nationality-all\\\"], \\\"exclude_features\\\": \\\"none\\\", \\\"exclude_subgroups\\\": \\\"drop-non-german\\\", \\\"model\\\": \\\"gbm\\\", \\\"scale\\\": \\\"scale\\\", \\\"training_size\\\": \\\"1k\\\", \\\"training_year\\\": \\\"2014\\\"}\"\n",
    "output_dir = \"output\"\n",
    "seed = \"2023\"\n"
   ]
  },
  {
   "cell_type": "code",
   "execution_count": 5,
   "id": "1650acaf",
   "metadata": {
    "execution": {
     "iopub.execute_input": "2025-07-30T14:21:58.634633Z",
     "iopub.status.busy": "2025-07-30T14:21:58.634261Z",
     "iopub.status.idle": "2025-07-30T14:21:58.638784Z",
     "shell.execute_reply": "2025-07-30T14:21:58.638006Z"
    },
    "papermill": {
     "duration": 0.017983,
     "end_time": "2025-07-30T14:21:58.640111",
     "exception": false,
     "start_time": "2025-07-30T14:21:58.622128",
     "status": "completed"
    },
    "tags": []
   },
   "outputs": [],
   "source": [
    "import json\n",
    "# Parse universe into dict if it is passed as a string\n",
    "if isinstance(universe, str):\n",
    "    universe = json.loads(universe)"
   ]
  },
  {
   "cell_type": "code",
   "execution_count": 6,
   "id": "16620c48",
   "metadata": {
    "execution": {
     "iopub.execute_input": "2025-07-30T14:21:58.667055Z",
     "iopub.status.busy": "2025-07-30T14:21:58.666568Z",
     "iopub.status.idle": "2025-07-30T14:21:58.695883Z",
     "shell.execute_reply": "2025-07-30T14:21:58.695207Z"
    },
    "papermill": {
     "duration": 0.044263,
     "end_time": "2025-07-30T14:21:58.697367",
     "exception": false,
     "start_time": "2025-07-30T14:21:58.653104",
     "status": "completed"
    },
    "tags": []
   },
   "outputs": [],
   "source": [
    "# Auto-reload the custom package\n",
    "%load_ext autoreload\n",
    "%autoreload 1\n",
    "%aimport fairness_multiverse"
   ]
  },
  {
   "cell_type": "code",
   "execution_count": 7,
   "id": "01c5c9f3",
   "metadata": {
    "execution": {
     "iopub.execute_input": "2025-07-30T14:21:58.720598Z",
     "iopub.status.busy": "2025-07-30T14:21:58.720114Z",
     "iopub.status.idle": "2025-07-30T14:22:00.449105Z",
     "shell.execute_reply": "2025-07-30T14:22:00.448107Z"
    },
    "papermill": {
     "duration": 1.74251,
     "end_time": "2025-07-30T14:22:00.451041",
     "exception": false,
     "start_time": "2025-07-30T14:21:58.708531",
     "status": "completed"
    },
    "tags": []
   },
   "outputs": [],
   "source": [
    "from fairness_multiverse.universe import UniverseAnalysis\n",
    "\n",
    "universe_analysis = UniverseAnalysis(\n",
    "    run_no = run_no,\n",
    "    universe_id = universe_id,\n",
    "    universe = universe,\n",
    "    output_dir=output_dir,\n",
    ")"
   ]
  },
  {
   "cell_type": "code",
   "execution_count": 8,
   "id": "106241f5",
   "metadata": {
    "execution": {
     "iopub.execute_input": "2025-07-30T14:22:00.489870Z",
     "iopub.status.busy": "2025-07-30T14:22:00.489473Z",
     "iopub.status.idle": "2025-07-30T14:22:00.495242Z",
     "shell.execute_reply": "2025-07-30T14:22:00.494429Z"
    },
    "papermill": {
     "duration": 0.026723,
     "end_time": "2025-07-30T14:22:00.496878",
     "exception": false,
     "start_time": "2025-07-30T14:22:00.470155",
     "status": "completed"
    },
    "tags": []
   },
   "outputs": [
    {
     "name": "stdout",
     "output_type": "stream",
     "text": [
      "Using Seed: 2023\n"
     ]
    }
   ],
   "source": [
    "import numpy as np\n",
    "parsed_seed = int(seed)\n",
    "np.random.seed(parsed_seed)\n",
    "print(f\"Using Seed: {parsed_seed}\")"
   ]
  },
  {
   "cell_type": "markdown",
   "id": "e0ebdc57",
   "metadata": {
    "papermill": {
     "duration": 0.018651,
     "end_time": "2025-07-30T14:22:00.536141",
     "exception": false,
     "start_time": "2025-07-30T14:22:00.517490",
     "status": "completed"
    },
    "tags": []
   },
   "source": [
    "# Loading Data"
   ]
  },
  {
   "cell_type": "markdown",
   "id": "681925a3",
   "metadata": {
    "papermill": {
     "duration": 0.018086,
     "end_time": "2025-07-30T14:22:00.574340",
     "exception": false,
     "start_time": "2025-07-30T14:22:00.556254",
     "status": "completed"
    },
    "tags": []
   },
   "source": [
    "Load siab_train, siab_test, siab_calib and/or \n",
    "load siab_train_features, siab_train_labels"
   ]
  },
  {
   "cell_type": "code",
   "execution_count": 9,
   "id": "f0496b8a",
   "metadata": {
    "execution": {
     "iopub.execute_input": "2025-07-30T14:22:00.614388Z",
     "iopub.status.busy": "2025-07-30T14:22:00.613575Z",
     "iopub.status.idle": "2025-07-30T14:22:12.941496Z",
     "shell.execute_reply": "2025-07-30T14:22:12.940217Z"
    },
    "papermill": {
     "duration": 12.350453,
     "end_time": "2025-07-30T14:22:12.943569",
     "exception": false,
     "start_time": "2025-07-30T14:22:00.593116",
     "status": "completed"
    },
    "tags": []
   },
   "outputs": [
    {
     "name": "stdout",
     "output_type": "stream",
     "text": [
      "Loading SIAB data from cache: data/siab_cached.csv.gz\n"
     ]
    },
    {
     "name": "stdout",
     "output_type": "stream",
     "text": [
      "(643690, 164)\n"
     ]
    }
   ],
   "source": [
    "from pathlib import Path\n",
    "import pandas as pd\n",
    "\n",
    "# File paths\n",
    "raw_file = Path(\"data/raw/siab.csv\")\n",
    "cache_file = Path(\"data/siab_cached.csv.gz\")\n",
    "\n",
    "# Ensure cache directory exists\n",
    "cache_file.parent.mkdir(parents=True, exist_ok=True)\n",
    "\n",
    "# Load with simple caching\n",
    "if cache_file.exists():\n",
    "    print(f\"Loading SIAB data from cache: {cache_file}\")\n",
    "    siab = pd.read_csv(cache_file, compression='gzip')\n",
    "else:\n",
    "    print(f\"Cache not found. Reading raw SIAB data: {raw_file}\")\n",
    "    siab = pd.read_csv(raw_file)\n",
    "    siab.to_csv(cache_file, index=False, compression='gzip')\n",
    "    print(f\"Cached SIAB data to: {cache_file}\")\n",
    "\n",
    "# Now use `siab` DataFrame as needed\n",
    "print(siab.shape)"
   ]
  },
  {
   "cell_type": "code",
   "execution_count": 10,
   "id": "db0ca512-5f53-4dba-abdb-a2888bca41ba",
   "metadata": {
    "execution": {
     "iopub.execute_input": "2025-07-30T14:22:12.999295Z",
     "iopub.status.busy": "2025-07-30T14:22:12.998731Z",
     "iopub.status.idle": "2025-07-30T14:22:13.005279Z",
     "shell.execute_reply": "2025-07-30T14:22:13.004069Z"
    },
    "papermill": {
     "duration": 0.036353,
     "end_time": "2025-07-30T14:22:13.007619",
     "exception": false,
     "start_time": "2025-07-30T14:22:12.971266",
     "status": "completed"
    },
    "tags": []
   },
   "outputs": [],
   "source": [
    "#siab"
   ]
  },
  {
   "cell_type": "code",
   "execution_count": 11,
   "id": "a0edb063",
   "metadata": {
    "execution": {
     "iopub.execute_input": "2025-07-30T14:22:13.063774Z",
     "iopub.status.busy": "2025-07-30T14:22:13.063246Z",
     "iopub.status.idle": "2025-07-30T14:22:13.068897Z",
     "shell.execute_reply": "2025-07-30T14:22:13.067906Z"
    },
    "papermill": {
     "duration": 0.035824,
     "end_time": "2025-07-30T14:22:13.070902",
     "exception": false,
     "start_time": "2025-07-30T14:22:13.035078",
     "status": "completed"
    },
    "tags": []
   },
   "outputs": [],
   "source": [
    "#import pandas as pd\n",
    "#\n",
    "#X_train = pd.read_csv(\"./data/X_train.csv\")\n",
    "#y_train = pd.read_csv(\"./data/y_train.csv\")"
   ]
  },
  {
   "cell_type": "code",
   "execution_count": 12,
   "id": "63d08085",
   "metadata": {
    "execution": {
     "iopub.execute_input": "2025-07-30T14:22:13.129583Z",
     "iopub.status.busy": "2025-07-30T14:22:13.128783Z",
     "iopub.status.idle": "2025-07-30T14:22:13.134545Z",
     "shell.execute_reply": "2025-07-30T14:22:13.133376Z"
    },
    "papermill": {
     "duration": 0.037172,
     "end_time": "2025-07-30T14:22:13.136934",
     "exception": false,
     "start_time": "2025-07-30T14:22:13.099762",
     "status": "completed"
    },
    "tags": []
   },
   "outputs": [],
   "source": [
    "#X_test = pd.read_csv(\"./data/X_test.csv\")\n",
    "#y_true = pd.read_csv(\"./data/y_test.csv\")"
   ]
  },
  {
   "cell_type": "code",
   "execution_count": 13,
   "id": "98a8d0fa-1d3d-4ed8-bb2c-281470e24add",
   "metadata": {
    "execution": {
     "iopub.execute_input": "2025-07-30T14:22:13.202014Z",
     "iopub.status.busy": "2025-07-30T14:22:13.201192Z",
     "iopub.status.idle": "2025-07-30T14:22:13.207426Z",
     "shell.execute_reply": "2025-07-30T14:22:13.206326Z"
    },
    "papermill": {
     "duration": 0.041245,
     "end_time": "2025-07-30T14:22:13.209793",
     "exception": false,
     "start_time": "2025-07-30T14:22:13.168548",
     "status": "completed"
    },
    "tags": []
   },
   "outputs": [],
   "source": [
    "# Calibration data for conformal\n",
    "#X_calib = pd.read_csv(\"./data/X_calib.csv\")\n",
    "#y_calib = pd.read_csv(\"./data/y_calib.csv\")"
   ]
  },
  {
   "cell_type": "markdown",
   "id": "997051c5-15bd-4b69-9786-c3001a3ce484",
   "metadata": {
    "papermill": {
     "duration": 0.030865,
     "end_time": "2025-07-30T14:22:13.271917",
     "exception": false,
     "start_time": "2025-07-30T14:22:13.241052",
     "status": "completed"
    },
    "tags": []
   },
   "source": [
    "# Splitting Data and Setting Training Data Size"
   ]
  },
  {
   "cell_type": "code",
   "execution_count": 14,
   "id": "e993b61f-042d-41a6-8c81-f55681f86335",
   "metadata": {
    "execution": {
     "iopub.execute_input": "2025-07-30T14:22:13.334924Z",
     "iopub.status.busy": "2025-07-30T14:22:13.334590Z",
     "iopub.status.idle": "2025-07-30T14:22:13.343503Z",
     "shell.execute_reply": "2025-07-30T14:22:13.342828Z"
    },
    "papermill": {
     "duration": 0.042404,
     "end_time": "2025-07-30T14:22:13.345154",
     "exception": false,
     "start_time": "2025-07-30T14:22:13.302750",
     "status": "completed"
    },
    "tags": []
   },
   "outputs": [],
   "source": [
    "def sample_by_year_size(df,\n",
    "                        training_year: str,\n",
    "                        training_size: str,\n",
    "                        random_state: int = 42):\n",
    "    # --- parse training_year into a list of int years ---\n",
    "    if \"_\" in training_year:\n",
    "        start_str, end_str = training_year.split(\"_\", 1)\n",
    "        start = int(start_str)\n",
    "        end   = int(end_str) if len(end_str) == 4 else (int(end_str) + (start // 100)*100)\n",
    "        years = list(range(start, end + 1))\n",
    "    else:\n",
    "        years = [int(training_year)]\n",
    "\n",
    "    df = df[df[\"year\"].isin(years)].reset_index(drop=True)\n",
    "\n",
    "    # --- map training_size to total number of samples ---\n",
    "    total_map = {\"25k\": 25_000, \"5k\": 5_000, \"1k\": 1_000}\n",
    "    if training_size not in total_map:\n",
    "        return df  # e.g. \"all\"\n",
    "\n",
    "    total_samples = total_map[training_size]\n",
    "    n_years       = len(years)\n",
    "    base          = total_samples // n_years\n",
    "    remainder     = total_samples % n_years\n",
    "\n",
    "    # --- build a dict: year -> how many to sample ---\n",
    "    # give +1 to the first `remainder` years in ascending order\n",
    "    quotas = {\n",
    "        year: base + (1 if idx < remainder else 0)\n",
    "        for idx, year in enumerate(sorted(years))\n",
    "    }\n",
    "\n",
    "    # --- sample per‐year according to the quota dict ---\n",
    "    sampled = (\n",
    "        df\n",
    "        .groupby(\"year\", group_keys=False)\n",
    "        .apply(lambda grp: grp.sample(\n",
    "            n=min(len(grp), quotas[grp.name]),\n",
    "            random_state=random_state))\n",
    "        .reset_index(drop=True)\n",
    "    )\n",
    "\n",
    "    return sampled"
   ]
  },
  {
   "cell_type": "code",
   "execution_count": 15,
   "id": "c0ccd338-0e02-41f3-a09d-f56f9266e3fb",
   "metadata": {
    "execution": {
     "iopub.execute_input": "2025-07-30T14:22:13.392351Z",
     "iopub.status.busy": "2025-07-30T14:22:13.391663Z",
     "iopub.status.idle": "2025-07-30T14:22:13.408358Z",
     "shell.execute_reply": "2025-07-30T14:22:13.406955Z"
    },
    "papermill": {
     "duration": 0.042117,
     "end_time": "2025-07-30T14:22:13.410342",
     "exception": false,
     "start_time": "2025-07-30T14:22:13.368225",
     "status": "completed"
    },
    "tags": []
   },
   "outputs": [
    {
     "data": {
      "text/plain": [
       "'1k'"
      ]
     },
     "execution_count": 15,
     "metadata": {},
     "output_type": "execute_result"
    }
   ],
   "source": [
    "universe[\"training_size\"]"
   ]
  },
  {
   "cell_type": "code",
   "execution_count": 16,
   "id": "ca707fd7-8047-4acd-bfa5-66248fbbf8e6",
   "metadata": {
    "execution": {
     "iopub.execute_input": "2025-07-30T14:22:13.457510Z",
     "iopub.status.busy": "2025-07-30T14:22:13.456961Z",
     "iopub.status.idle": "2025-07-30T14:22:13.466234Z",
     "shell.execute_reply": "2025-07-30T14:22:13.464816Z"
    },
    "papermill": {
     "duration": 0.035996,
     "end_time": "2025-07-30T14:22:13.468784",
     "exception": false,
     "start_time": "2025-07-30T14:22:13.432788",
     "status": "completed"
    },
    "tags": []
   },
   "outputs": [
    {
     "data": {
      "text/plain": [
       "'2014'"
      ]
     },
     "execution_count": 16,
     "metadata": {},
     "output_type": "execute_result"
    }
   ],
   "source": [
    "universe[\"training_year\"]"
   ]
  },
  {
   "cell_type": "code",
   "execution_count": 17,
   "id": "aea9c6ef-6f46-42c8-85eb-5a62025c1508",
   "metadata": {
    "execution": {
     "iopub.execute_input": "2025-07-30T14:22:13.533250Z",
     "iopub.status.busy": "2025-07-30T14:22:13.532511Z",
     "iopub.status.idle": "2025-07-30T14:22:13.994263Z",
     "shell.execute_reply": "2025-07-30T14:22:13.992955Z"
    },
    "papermill": {
     "duration": 0.497445,
     "end_time": "2025-07-30T14:22:13.996989",
     "exception": false,
     "start_time": "2025-07-30T14:22:13.499544",
     "status": "completed"
    },
    "tags": []
   },
   "outputs": [],
   "source": [
    "siab_train = sample_by_year_size(siab,\n",
    "                               training_year=universe[\"training_year\"],\n",
    "                               training_size=universe[\"training_size\"])"
   ]
  },
  {
   "cell_type": "code",
   "execution_count": 18,
   "id": "8d3afb32-789d-442c-8d5d-9f5aa8dd2eed",
   "metadata": {
    "execution": {
     "iopub.execute_input": "2025-07-30T14:22:14.074216Z",
     "iopub.status.busy": "2025-07-30T14:22:14.073608Z",
     "iopub.status.idle": "2025-07-30T14:22:14.084807Z",
     "shell.execute_reply": "2025-07-30T14:22:14.083591Z"
    },
    "papermill": {
     "duration": 0.047222,
     "end_time": "2025-07-30T14:22:14.086577",
     "exception": false,
     "start_time": "2025-07-30T14:22:14.039355",
     "status": "completed"
    },
    "tags": []
   },
   "outputs": [
    {
     "data": {
      "text/plain": [
       "(1000, 164)"
      ]
     },
     "execution_count": 18,
     "metadata": {},
     "output_type": "execute_result"
    }
   ],
   "source": [
    "siab_train.shape"
   ]
  },
  {
   "cell_type": "code",
   "execution_count": 19,
   "id": "d582db68-1a4c-47fb-84fc-08518dc1975a",
   "metadata": {
    "execution": {
     "iopub.execute_input": "2025-07-30T14:22:14.135274Z",
     "iopub.status.busy": "2025-07-30T14:22:14.134296Z",
     "iopub.status.idle": "2025-07-30T14:22:14.146898Z",
     "shell.execute_reply": "2025-07-30T14:22:14.145712Z"
    },
    "papermill": {
     "duration": 0.038997,
     "end_time": "2025-07-30T14:22:14.149021",
     "exception": false,
     "start_time": "2025-07-30T14:22:14.110024",
     "status": "completed"
    },
    "tags": []
   },
   "outputs": [
    {
     "data": {
      "text/plain": [
       "year\n",
       "2014    1000\n",
       "dtype: int64"
      ]
     },
     "metadata": {},
     "output_type": "display_data"
    }
   ],
   "source": [
    "display(siab_train.groupby(\"year\").size())"
   ]
  },
  {
   "cell_type": "code",
   "execution_count": 20,
   "id": "a561edb4-d032-42cb-8256-22eac1111c64",
   "metadata": {
    "execution": {
     "iopub.execute_input": "2025-07-30T14:22:14.197906Z",
     "iopub.status.busy": "2025-07-30T14:22:14.197400Z",
     "iopub.status.idle": "2025-07-30T14:22:14.469796Z",
     "shell.execute_reply": "2025-07-30T14:22:14.468713Z"
    },
    "papermill": {
     "duration": 0.298798,
     "end_time": "2025-07-30T14:22:14.471954",
     "exception": false,
     "start_time": "2025-07-30T14:22:14.173156",
     "status": "completed"
    },
    "tags": []
   },
   "outputs": [],
   "source": [
    "#siab_train = siab_s[siab_s.year < 2015]\n",
    "siab_calib = siab[siab.year == 2015]\n",
    "siab_test = siab[siab.year == 2016]"
   ]
  },
  {
   "cell_type": "code",
   "execution_count": 21,
   "id": "472de16f-c3db-4916-846b-1f0de9cf1746",
   "metadata": {
    "execution": {
     "iopub.execute_input": "2025-07-30T14:22:14.529494Z",
     "iopub.status.busy": "2025-07-30T14:22:14.528541Z",
     "iopub.status.idle": "2025-07-30T14:22:14.535714Z",
     "shell.execute_reply": "2025-07-30T14:22:14.534669Z"
    },
    "papermill": {
     "duration": 0.0408,
     "end_time": "2025-07-30T14:22:14.537419",
     "exception": false,
     "start_time": "2025-07-30T14:22:14.496619",
     "status": "completed"
    },
    "tags": []
   },
   "outputs": [],
   "source": [
    "X_train = siab_train.iloc[:,4:164]\n",
    "y_train = siab_train.iloc[:, [3]]"
   ]
  },
  {
   "cell_type": "code",
   "execution_count": 22,
   "id": "828c96af-f43a-4ed6-ba47-8ac73a47d56c",
   "metadata": {
    "execution": {
     "iopub.execute_input": "2025-07-30T14:22:14.578582Z",
     "iopub.status.busy": "2025-07-30T14:22:14.577805Z",
     "iopub.status.idle": "2025-07-30T14:22:14.635338Z",
     "shell.execute_reply": "2025-07-30T14:22:14.634187Z"
    },
    "papermill": {
     "duration": 0.07724,
     "end_time": "2025-07-30T14:22:14.637233",
     "exception": false,
     "start_time": "2025-07-30T14:22:14.559993",
     "status": "completed"
    },
    "tags": []
   },
   "outputs": [],
   "source": [
    "X_calib = siab_calib.iloc[:,4:164]\n",
    "y_calib = siab_calib.iloc[:, [3]]"
   ]
  },
  {
   "cell_type": "code",
   "execution_count": 23,
   "id": "c34be9c3-6bd6-476e-acd3-845840e303be",
   "metadata": {
    "execution": {
     "iopub.execute_input": "2025-07-30T14:22:14.688356Z",
     "iopub.status.busy": "2025-07-30T14:22:14.687737Z",
     "iopub.status.idle": "2025-07-30T14:22:14.754245Z",
     "shell.execute_reply": "2025-07-30T14:22:14.753088Z"
    },
    "papermill": {
     "duration": 0.093953,
     "end_time": "2025-07-30T14:22:14.756237",
     "exception": false,
     "start_time": "2025-07-30T14:22:14.662284",
     "status": "completed"
    },
    "tags": []
   },
   "outputs": [],
   "source": [
    "X_test = siab_test.iloc[:,4:164]\n",
    "y_true = siab_test.iloc[:, [3]]"
   ]
  },
  {
   "cell_type": "markdown",
   "id": "9901737e-04df-44f0-9100-f5ad144ed040",
   "metadata": {
    "papermill": {
     "duration": 0.033405,
     "end_time": "2025-07-30T14:22:14.816468",
     "exception": false,
     "start_time": "2025-07-30T14:22:14.783063",
     "status": "completed"
    },
    "tags": []
   },
   "source": [
    "# Splitting Data and Setting Training Data Size OLD VERSION"
   ]
  },
  {
   "cell_type": "code",
   "execution_count": 24,
   "id": "acbc8f7d-8fc8-4e86-8c59-5dcb0f58384b",
   "metadata": {
    "execution": {
     "iopub.execute_input": "2025-07-30T14:22:14.883791Z",
     "iopub.status.busy": "2025-07-30T14:22:14.882867Z",
     "iopub.status.idle": "2025-07-30T14:22:14.888774Z",
     "shell.execute_reply": "2025-07-30T14:22:14.887793Z"
    },
    "papermill": {
     "duration": 0.048218,
     "end_time": "2025-07-30T14:22:14.897403",
     "exception": false,
     "start_time": "2025-07-30T14:22:14.849185",
     "status": "completed"
    },
    "tags": []
   },
   "outputs": [],
   "source": [
    "#def sample_by_year(df, training_size, random_state=42):\n",
    "#    if training_size == \"2014\":\n",
    "#        return df[df[\"year\"] == 2014].reset_index(drop=True)\n",
    "#    \n",
    "#    size_map = {\n",
    "#        \"25k\": 5000,\n",
    "#        \"5k\": 1000,\n",
    "#        \"1k\": 200\n",
    "#    }\n",
    "#\n",
    "#    if training_size not in size_map:\n",
    "#        return df.reset_index(drop=True)  # use all data\n",
    "#\n",
    "#    n_per_year = size_map[training_size]\n",
    "#    grouped = df.groupby(\"year\")\n",
    "#    sampled = grouped.apply(lambda x: x.sample(n=min(n_per_year, len(x)), random_state=random_state))\n",
    "#    return sampled.reset_index(drop=True)"
   ]
  },
  {
   "cell_type": "code",
   "execution_count": 25,
   "id": "6d931f52-beaf-43ff-9e78-9d44a448d54e",
   "metadata": {
    "execution": {
     "iopub.execute_input": "2025-07-30T14:22:14.952244Z",
     "iopub.status.busy": "2025-07-30T14:22:14.951795Z",
     "iopub.status.idle": "2025-07-30T14:22:14.956482Z",
     "shell.execute_reply": "2025-07-30T14:22:14.955692Z"
    },
    "papermill": {
     "duration": 0.03614,
     "end_time": "2025-07-30T14:22:14.957773",
     "exception": false,
     "start_time": "2025-07-30T14:22:14.921633",
     "status": "completed"
    },
    "tags": []
   },
   "outputs": [],
   "source": [
    "#siab_s = sample_by_year(siab, universe[\"training_size\"])"
   ]
  },
  {
   "cell_type": "code",
   "execution_count": 26,
   "id": "5db0a40e-a4e2-4920-be85-b12ae061d70d",
   "metadata": {
    "execution": {
     "iopub.execute_input": "2025-07-30T14:22:14.999800Z",
     "iopub.status.busy": "2025-07-30T14:22:14.999278Z",
     "iopub.status.idle": "2025-07-30T14:22:15.004798Z",
     "shell.execute_reply": "2025-07-30T14:22:15.003806Z"
    },
    "papermill": {
     "duration": 0.032162,
     "end_time": "2025-07-30T14:22:15.006549",
     "exception": false,
     "start_time": "2025-07-30T14:22:14.974387",
     "status": "completed"
    },
    "tags": []
   },
   "outputs": [],
   "source": [
    "#display(siab_s.groupby(\"year\").size())"
   ]
  },
  {
   "cell_type": "code",
   "execution_count": 27,
   "id": "e6c733c5",
   "metadata": {
    "execution": {
     "iopub.execute_input": "2025-07-30T14:22:15.057403Z",
     "iopub.status.busy": "2025-07-30T14:22:15.056886Z",
     "iopub.status.idle": "2025-07-30T14:22:15.156089Z",
     "shell.execute_reply": "2025-07-30T14:22:15.154980Z"
    },
    "papermill": {
     "duration": 0.126505,
     "end_time": "2025-07-30T14:22:15.158113",
     "exception": false,
     "start_time": "2025-07-30T14:22:15.031608",
     "status": "completed"
    },
    "tags": []
   },
   "outputs": [],
   "source": [
    "# Auxiliary data needed downstream in the pipeline\n",
    "\n",
    "org_train = X_train.copy()\n",
    "org_test = X_test.copy()\n",
    "org_calib = X_calib.copy()"
   ]
  },
  {
   "cell_type": "code",
   "execution_count": 28,
   "id": "1466abac-c6da-4492-a62f-4240ae3783af",
   "metadata": {
    "execution": {
     "iopub.execute_input": "2025-07-30T14:22:15.195627Z",
     "iopub.status.busy": "2025-07-30T14:22:15.195188Z",
     "iopub.status.idle": "2025-07-30T14:22:15.201549Z",
     "shell.execute_reply": "2025-07-30T14:22:15.200572Z"
    },
    "papermill": {
     "duration": 0.024694,
     "end_time": "2025-07-30T14:22:15.203284",
     "exception": false,
     "start_time": "2025-07-30T14:22:15.178590",
     "status": "completed"
    },
    "tags": []
   },
   "outputs": [],
   "source": [
    "# put in other script?\n",
    "# Group sizes\n",
    "\n",
    "#def calculate_percentages(df, df_name):\n",
    "#    total_entries = len(df)\n",
    "#\n",
    "#    female_pct = (df['frau1'] == 1).mean() * 100\n",
    "#    non_german_pct = ((df['maxdeutsch1'] == 0) & (df['maxdeutsch.Missing.'] == 0)).mean() * 100\n",
    "#    non_german_male_pct = ((df['frau1'] == 0) & (df['maxdeutsch1'] == 0) & (df['maxdeutsch.Missing.'] == 0)).mean() * 100\n",
    "#    non_german_female_pct = ((df['frau1'] == 1) & (df['maxdeutsch1'] == 0) & (df['maxdeutsch.Missing.'] == 0)).mean() * 100\n",
    "#\n",
    "#    print(f\"--- {df_name} ---\")\n",
    "#    print(f\"Female: {female_pct:.2f}%\")\n",
    "#    print(f\"Non-German: {non_german_pct:.2f}%\")\n",
    "#    print(f\"Non-German Male: {non_german_male_pct:.2f}%\")\n",
    "#    print(f\"Non-German Female: {non_german_female_pct:.2f}%\\n\")\n",
    "#\n",
    "## Calculate for each DataFrame\n",
    "#calculate_percentages(siab_calib, \"siab_calib\")\n",
    "#calculate_percentages(siab_test, \"siab_test\")\n",
    "#calculate_percentages(siab_train, \"siab_train\")"
   ]
  },
  {
   "cell_type": "markdown",
   "id": "0a4a1b33",
   "metadata": {
    "papermill": {
     "duration": 0.02356,
     "end_time": "2025-07-30T14:22:15.250895",
     "exception": false,
     "start_time": "2025-07-30T14:22:15.227335",
     "status": "completed"
    },
    "tags": []
   },
   "source": [
    "# Preprocessing Data"
   ]
  },
  {
   "cell_type": "code",
   "execution_count": 29,
   "id": "ca879031",
   "metadata": {
    "execution": {
     "iopub.execute_input": "2025-07-30T14:22:15.298473Z",
     "iopub.status.busy": "2025-07-30T14:22:15.298047Z",
     "iopub.status.idle": "2025-07-30T14:22:15.304024Z",
     "shell.execute_reply": "2025-07-30T14:22:15.303134Z"
    },
    "papermill": {
     "duration": 0.032579,
     "end_time": "2025-07-30T14:22:15.305748",
     "exception": false,
     "start_time": "2025-07-30T14:22:15.273169",
     "status": "completed"
    },
    "tags": []
   },
   "outputs": [],
   "source": [
    "# EXCLUDE PROTECTED FEATURES\n",
    "# ----------------------\n",
    "# \"exclude_features\": \"none\", # \"nationality\", \"sex\", \"nationality-sex\"\n",
    "\n",
    "excluded_features = universe[\"exclude_features\"].split(\"-\") # split, e.g.: \"nationality-sex\" -> [\"nationality\", \"sex\"]\n",
    "excluded_features_dictionary = {\n",
    "    \"nationality\": [\"maxdeutsch1\", \"maxdeutsch.Missing.\"],\n",
    "    \"sex\": [\"frau1\"],\n",
    "    \"age\": [\"age\"],\n",
    "}\n"
   ]
  },
  {
   "cell_type": "code",
   "execution_count": 30,
   "id": "b745ac60",
   "metadata": {
    "execution": {
     "iopub.execute_input": "2025-07-30T14:22:15.353495Z",
     "iopub.status.busy": "2025-07-30T14:22:15.352823Z",
     "iopub.status.idle": "2025-07-30T14:22:15.358518Z",
     "shell.execute_reply": "2025-07-30T14:22:15.357681Z"
    },
    "papermill": {
     "duration": 0.031418,
     "end_time": "2025-07-30T14:22:15.360186",
     "exception": false,
     "start_time": "2025-07-30T14:22:15.328768",
     "status": "completed"
    },
    "tags": []
   },
   "outputs": [],
   "source": [
    "# Code nice names to column names\n",
    "\n",
    "excluded_features_columns = [\n",
    "    excluded_features_dictionary[f] for f in excluded_features if len(f) > 0 and f != \"none\"\n",
    "]"
   ]
  },
  {
   "cell_type": "code",
   "execution_count": 31,
   "id": "f84f73a2",
   "metadata": {
    "execution": {
     "iopub.execute_input": "2025-07-30T14:22:15.413474Z",
     "iopub.status.busy": "2025-07-30T14:22:15.412871Z",
     "iopub.status.idle": "2025-07-30T14:22:15.420974Z",
     "shell.execute_reply": "2025-07-30T14:22:15.419832Z"
    },
    "papermill": {
     "duration": 0.038634,
     "end_time": "2025-07-30T14:22:15.422864",
     "exception": false,
     "start_time": "2025-07-30T14:22:15.384230",
     "status": "completed"
    },
    "tags": []
   },
   "outputs": [],
   "source": [
    "from utils import flatten_once\n",
    "\n",
    "excluded_features_columns = flatten_once(excluded_features_columns)"
   ]
  },
  {
   "cell_type": "code",
   "execution_count": 32,
   "id": "884dea22",
   "metadata": {
    "execution": {
     "iopub.execute_input": "2025-07-30T14:22:15.472135Z",
     "iopub.status.busy": "2025-07-30T14:22:15.471607Z",
     "iopub.status.idle": "2025-07-30T14:22:15.477627Z",
     "shell.execute_reply": "2025-07-30T14:22:15.476653Z"
    },
    "papermill": {
     "duration": 0.031653,
     "end_time": "2025-07-30T14:22:15.479313",
     "exception": false,
     "start_time": "2025-07-30T14:22:15.447660",
     "status": "completed"
    },
    "tags": []
   },
   "outputs": [],
   "source": [
    "if len(excluded_features_columns) > 0:\n",
    "    print(f\"Dropping features: {excluded_features_columns}\")\n",
    "    X_train.drop(excluded_features_columns, axis=1, inplace=True)"
   ]
  },
  {
   "cell_type": "code",
   "execution_count": 33,
   "id": "95ab8b16",
   "metadata": {
    "execution": {
     "iopub.execute_input": "2025-07-30T14:22:15.529386Z",
     "iopub.status.busy": "2025-07-30T14:22:15.528770Z",
     "iopub.status.idle": "2025-07-30T14:22:15.535435Z",
     "shell.execute_reply": "2025-07-30T14:22:15.534484Z"
    },
    "papermill": {
     "duration": 0.033709,
     "end_time": "2025-07-30T14:22:15.537219",
     "exception": false,
     "start_time": "2025-07-30T14:22:15.503510",
     "status": "completed"
    },
    "tags": []
   },
   "outputs": [],
   "source": [
    "if len(excluded_features_columns) > 0:\n",
    "    print(f\"Dropping features: {excluded_features_columns}\")\n",
    "    X_test.drop(excluded_features_columns, axis=1, inplace=True)"
   ]
  },
  {
   "cell_type": "code",
   "execution_count": 34,
   "id": "1853aaf5-fb9f-46cb-a2b5-8ea4ae2237e4",
   "metadata": {
    "execution": {
     "iopub.execute_input": "2025-07-30T14:22:15.583434Z",
     "iopub.status.busy": "2025-07-30T14:22:15.582947Z",
     "iopub.status.idle": "2025-07-30T14:22:15.589054Z",
     "shell.execute_reply": "2025-07-30T14:22:15.588054Z"
    },
    "papermill": {
     "duration": 0.031905,
     "end_time": "2025-07-30T14:22:15.590929",
     "exception": false,
     "start_time": "2025-07-30T14:22:15.559024",
     "status": "completed"
    },
    "tags": []
   },
   "outputs": [],
   "source": [
    "if len(excluded_features_columns) > 0:\n",
    "    print(f\"Dropping features: {excluded_features_columns}\")\n",
    "    X_calib.drop(excluded_features_columns, axis=1, inplace=True)"
   ]
  },
  {
   "cell_type": "code",
   "execution_count": 35,
   "id": "6727d079-03e5-481e-9d38-292a90b7a0a8",
   "metadata": {
    "execution": {
     "iopub.execute_input": "2025-07-30T14:22:15.637504Z",
     "iopub.status.busy": "2025-07-30T14:22:15.637125Z",
     "iopub.status.idle": "2025-07-30T14:22:15.642184Z",
     "shell.execute_reply": "2025-07-30T14:22:15.640877Z"
    },
    "papermill": {
     "duration": 0.030647,
     "end_time": "2025-07-30T14:22:15.644234",
     "exception": false,
     "start_time": "2025-07-30T14:22:15.613587",
     "status": "completed"
    },
    "tags": []
   },
   "outputs": [],
   "source": [
    "# SPLIT & STRATIFY DATA\n",
    "# ----------------------"
   ]
  },
  {
   "cell_type": "code",
   "execution_count": 36,
   "id": "76c4dc6d",
   "metadata": {
    "execution": {
     "iopub.execute_input": "2025-07-30T14:22:15.693523Z",
     "iopub.status.busy": "2025-07-30T14:22:15.693023Z",
     "iopub.status.idle": "2025-07-30T14:22:15.698493Z",
     "shell.execute_reply": "2025-07-30T14:22:15.697572Z"
    },
    "papermill": {
     "duration": 0.030726,
     "end_time": "2025-07-30T14:22:15.700110",
     "exception": false,
     "start_time": "2025-07-30T14:22:15.669384",
     "status": "completed"
    },
    "tags": []
   },
   "outputs": [],
   "source": [
    "# EXCLUDE CERTAIN SUBGROUPS\n",
    "# ----------------------\n",
    "\n",
    "mode = universe.get(\"exclude_subgroups\", \"keep-all\") \n",
    "# Fetches the exclude_subgroups setting from the universe dict.\n",
    "# Defaults to \"keep-all\" if the key is missing."
   ]
  },
  {
   "cell_type": "code",
   "execution_count": 37,
   "id": "21994072",
   "metadata": {
    "execution": {
     "iopub.execute_input": "2025-07-30T14:22:15.747012Z",
     "iopub.status.busy": "2025-07-30T14:22:15.746209Z",
     "iopub.status.idle": "2025-07-30T14:22:15.753203Z",
     "shell.execute_reply": "2025-07-30T14:22:15.751921Z"
    },
    "papermill": {
     "duration": 0.032458,
     "end_time": "2025-07-30T14:22:15.754940",
     "exception": false,
     "start_time": "2025-07-30T14:22:15.722482",
     "status": "completed"
    },
    "tags": []
   },
   "outputs": [],
   "source": [
    "if mode == \"keep-all\":\n",
    "    keep_mask = pd.Series(True, index=org_train.index)\n",
    "\n",
    "# org_train contains the original feature columns from features_org (in Simson)\n",
    "# features_org contains unprocessed features, for me X_train at beginning ???\n",
    "# For keep-all, creates a boolean Series (keep_mask) of all True, so no rows are removed.\n",
    "\n",
    "elif mode == \"drop-non-german\":\n",
    "    keep_mask = org_train[\"maxdeutsch1\"] == 1 # ??? what about missing values?\n",
    "\n",
    "else:\n",
    "    raise ValueError(f\"Unsupported mode for exclude_subgroups: {mode}\")\n"
   ]
  },
  {
   "cell_type": "code",
   "execution_count": 38,
   "id": "71651440",
   "metadata": {
    "execution": {
     "iopub.execute_input": "2025-07-30T14:22:15.801403Z",
     "iopub.status.busy": "2025-07-30T14:22:15.800742Z",
     "iopub.status.idle": "2025-07-30T14:22:15.809137Z",
     "shell.execute_reply": "2025-07-30T14:22:15.808167Z"
    },
    "papermill": {
     "duration": 0.033063,
     "end_time": "2025-07-30T14:22:15.810758",
     "exception": false,
     "start_time": "2025-07-30T14:22:15.777695",
     "status": "completed"
    },
    "tags": []
   },
   "outputs": [
    {
     "name": "stdout",
     "output_type": "stream",
     "text": [
      "Dropping 147 rows (14.70%) where mode='drop-non-german'\n"
     ]
    }
   ],
   "source": [
    "n_drop = (~keep_mask).sum() # Calculates how many rows are set to be dropped\n",
    "if n_drop > 0:\n",
    "    pct = n_drop / len(keep_mask) * 100\n",
    "    print(f\"Dropping {n_drop} rows ({pct:.2f}%) where mode='{mode}'\")"
   ]
  },
  {
   "cell_type": "code",
   "execution_count": 39,
   "id": "5fb8eee5",
   "metadata": {
    "execution": {
     "iopub.execute_input": "2025-07-30T14:22:15.856185Z",
     "iopub.status.busy": "2025-07-30T14:22:15.855706Z",
     "iopub.status.idle": "2025-07-30T14:22:15.861561Z",
     "shell.execute_reply": "2025-07-30T14:22:15.860671Z"
    },
    "papermill": {
     "duration": 0.02963,
     "end_time": "2025-07-30T14:22:15.863218",
     "exception": false,
     "start_time": "2025-07-30T14:22:15.833588",
     "status": "completed"
    },
    "tags": []
   },
   "outputs": [],
   "source": [
    "X_train = X_train[keep_mask]"
   ]
  },
  {
   "cell_type": "code",
   "execution_count": 40,
   "id": "b202bb3a",
   "metadata": {
    "execution": {
     "iopub.execute_input": "2025-07-30T14:22:15.910642Z",
     "iopub.status.busy": "2025-07-30T14:22:15.910197Z",
     "iopub.status.idle": "2025-07-30T14:22:15.916012Z",
     "shell.execute_reply": "2025-07-30T14:22:15.915055Z"
    },
    "papermill": {
     "duration": 0.030915,
     "end_time": "2025-07-30T14:22:15.917612",
     "exception": false,
     "start_time": "2025-07-30T14:22:15.886697",
     "status": "completed"
    },
    "tags": []
   },
   "outputs": [],
   "source": [
    "y_train = y_train[keep_mask]"
   ]
  },
  {
   "cell_type": "markdown",
   "id": "493e2ac3",
   "metadata": {
    "papermill": {
     "duration": 0.021387,
     "end_time": "2025-07-30T14:22:15.963249",
     "exception": false,
     "start_time": "2025-07-30T14:22:15.941862",
     "status": "completed"
    },
    "tags": []
   },
   "source": [
    "# Model Training"
   ]
  },
  {
   "cell_type": "code",
   "execution_count": 41,
   "id": "679e1268",
   "metadata": {
    "execution": {
     "iopub.execute_input": "2025-07-30T14:22:16.013204Z",
     "iopub.status.busy": "2025-07-30T14:22:16.012702Z",
     "iopub.status.idle": "2025-07-30T14:22:16.117241Z",
     "shell.execute_reply": "2025-07-30T14:22:16.116284Z"
    },
    "papermill": {
     "duration": 0.13406,
     "end_time": "2025-07-30T14:22:16.119296",
     "exception": false,
     "start_time": "2025-07-30T14:22:15.985236",
     "status": "completed"
    },
    "tags": []
   },
   "outputs": [],
   "source": [
    "from sklearn.linear_model import LogisticRegression\n",
    "from sklearn.ensemble import GradientBoostingClassifier, RandomForestClassifier\n",
    "\n",
    "if (universe[\"model\"] == \"logreg\"):\n",
    "    model = LogisticRegression() #penalty=\"none\") #, solver=\"newton-cg\", max_iter=1) # include random_state=19 ?\n",
    "elif (universe[\"model\"] == \"penalized_logreg\"):\n",
    "    model = LogisticRegression(penalty=\"l2\", C=1.0) #, solver=\"newton-cg\", max_iter=1)\n",
    "elif (universe[\"model\"] == \"rf\"):\n",
    "    model = RandomForestClassifier(n_estimators=100, n_jobs=-1)\n",
    "elif (universe[\"model\"] == \"gbm\"):\n",
    "    model = GradientBoostingClassifier()\n",
    "elif (universe[\"model\"] == \"elasticnet\"):\n",
    "    model = LogisticRegression(penalty = 'elasticnet', solver = 'saga', l1_ratio = 0.5, max_iter=5000) # which solver to use?\n",
    "else:\n",
    "    raise \"Unsupported universe.model\""
   ]
  },
  {
   "cell_type": "code",
   "execution_count": 42,
   "id": "0cc8f744",
   "metadata": {
    "execution": {
     "iopub.execute_input": "2025-07-30T14:22:16.169250Z",
     "iopub.status.busy": "2025-07-30T14:22:16.168875Z",
     "iopub.status.idle": "2025-07-30T14:22:16.174948Z",
     "shell.execute_reply": "2025-07-30T14:22:16.174058Z"
    },
    "papermill": {
     "duration": 0.042668,
     "end_time": "2025-07-30T14:22:16.186262",
     "exception": false,
     "start_time": "2025-07-30T14:22:16.143594",
     "status": "completed"
    },
    "tags": []
   },
   "outputs": [],
   "source": [
    "import numpy as np\n",
    "from sklearn.pipeline import Pipeline\n",
    "from sklearn.preprocessing import StandardScaler\n",
    "\n",
    "model = Pipeline([\n",
    "    #(\"continuous_processor\", continuous_processor),\n",
    "    #(\"categorical_preprocessor\", categorical_preprocessor),\n",
    "    (\"scale\", StandardScaler() if universe[\"scale\"] == \"scale\" else None), \n",
    "    (\"model\", model),\n",
    "])"
   ]
  },
  {
   "cell_type": "code",
   "execution_count": 43,
   "id": "9442c04d",
   "metadata": {
    "execution": {
     "iopub.execute_input": "2025-07-30T14:22:16.254609Z",
     "iopub.status.busy": "2025-07-30T14:22:16.253621Z",
     "iopub.status.idle": "2025-07-30T14:22:17.217897Z",
     "shell.execute_reply": "2025-07-30T14:22:17.216984Z"
    },
    "papermill": {
     "duration": 0.991845,
     "end_time": "2025-07-30T14:22:17.219664",
     "exception": false,
     "start_time": "2025-07-30T14:22:16.227819",
     "status": "completed"
    },
    "tags": []
   },
   "outputs": [
    {
     "data": {
      "text/html": [
       "<style>#sk-container-id-1 {color: black;background-color: white;}#sk-container-id-1 pre{padding: 0;}#sk-container-id-1 div.sk-toggleable {background-color: white;}#sk-container-id-1 label.sk-toggleable__label {cursor: pointer;display: block;width: 100%;margin-bottom: 0;padding: 0.3em;box-sizing: border-box;text-align: center;}#sk-container-id-1 label.sk-toggleable__label-arrow:before {content: \"▸\";float: left;margin-right: 0.25em;color: #696969;}#sk-container-id-1 label.sk-toggleable__label-arrow:hover:before {color: black;}#sk-container-id-1 div.sk-estimator:hover label.sk-toggleable__label-arrow:before {color: black;}#sk-container-id-1 div.sk-toggleable__content {max-height: 0;max-width: 0;overflow: hidden;text-align: left;background-color: #f0f8ff;}#sk-container-id-1 div.sk-toggleable__content pre {margin: 0.2em;color: black;border-radius: 0.25em;background-color: #f0f8ff;}#sk-container-id-1 input.sk-toggleable__control:checked~div.sk-toggleable__content {max-height: 200px;max-width: 100%;overflow: auto;}#sk-container-id-1 input.sk-toggleable__control:checked~label.sk-toggleable__label-arrow:before {content: \"▾\";}#sk-container-id-1 div.sk-estimator input.sk-toggleable__control:checked~label.sk-toggleable__label {background-color: #d4ebff;}#sk-container-id-1 div.sk-label input.sk-toggleable__control:checked~label.sk-toggleable__label {background-color: #d4ebff;}#sk-container-id-1 input.sk-hidden--visually {border: 0;clip: rect(1px 1px 1px 1px);clip: rect(1px, 1px, 1px, 1px);height: 1px;margin: -1px;overflow: hidden;padding: 0;position: absolute;width: 1px;}#sk-container-id-1 div.sk-estimator {font-family: monospace;background-color: #f0f8ff;border: 1px dotted black;border-radius: 0.25em;box-sizing: border-box;margin-bottom: 0.5em;}#sk-container-id-1 div.sk-estimator:hover {background-color: #d4ebff;}#sk-container-id-1 div.sk-parallel-item::after {content: \"\";width: 100%;border-bottom: 1px solid gray;flex-grow: 1;}#sk-container-id-1 div.sk-label:hover label.sk-toggleable__label {background-color: #d4ebff;}#sk-container-id-1 div.sk-serial::before {content: \"\";position: absolute;border-left: 1px solid gray;box-sizing: border-box;top: 0;bottom: 0;left: 50%;z-index: 0;}#sk-container-id-1 div.sk-serial {display: flex;flex-direction: column;align-items: center;background-color: white;padding-right: 0.2em;padding-left: 0.2em;position: relative;}#sk-container-id-1 div.sk-item {position: relative;z-index: 1;}#sk-container-id-1 div.sk-parallel {display: flex;align-items: stretch;justify-content: center;background-color: white;position: relative;}#sk-container-id-1 div.sk-item::before, #sk-container-id-1 div.sk-parallel-item::before {content: \"\";position: absolute;border-left: 1px solid gray;box-sizing: border-box;top: 0;bottom: 0;left: 50%;z-index: -1;}#sk-container-id-1 div.sk-parallel-item {display: flex;flex-direction: column;z-index: 1;position: relative;background-color: white;}#sk-container-id-1 div.sk-parallel-item:first-child::after {align-self: flex-end;width: 50%;}#sk-container-id-1 div.sk-parallel-item:last-child::after {align-self: flex-start;width: 50%;}#sk-container-id-1 div.sk-parallel-item:only-child::after {width: 0;}#sk-container-id-1 div.sk-dashed-wrapped {border: 1px dashed gray;margin: 0 0.4em 0.5em 0.4em;box-sizing: border-box;padding-bottom: 0.4em;background-color: white;}#sk-container-id-1 div.sk-label label {font-family: monospace;font-weight: bold;display: inline-block;line-height: 1.2em;}#sk-container-id-1 div.sk-label-container {text-align: center;}#sk-container-id-1 div.sk-container {/* jupyter's `normalize.less` sets `[hidden] { display: none; }` but bootstrap.min.css set `[hidden] { display: none !important; }` so we also need the `!important` here to be able to override the default hidden behavior on the sphinx rendered scikit-learn.org. See: https://github.com/scikit-learn/scikit-learn/issues/21755 */display: inline-block !important;position: relative;}#sk-container-id-1 div.sk-text-repr-fallback {display: none;}</style><div id=\"sk-container-id-1\" class=\"sk-top-container\"><div class=\"sk-text-repr-fallback\"><pre>Pipeline(steps=[(&#x27;scale&#x27;, StandardScaler()),\n",
       "                (&#x27;model&#x27;, GradientBoostingClassifier())])</pre><b>In a Jupyter environment, please rerun this cell to show the HTML representation or trust the notebook. <br />On GitHub, the HTML representation is unable to render, please try loading this page with nbviewer.org.</b></div><div class=\"sk-container\" hidden><div class=\"sk-item sk-dashed-wrapped\"><div class=\"sk-label-container\"><div class=\"sk-label sk-toggleable\"><input class=\"sk-toggleable__control sk-hidden--visually\" id=\"sk-estimator-id-1\" type=\"checkbox\" ><label for=\"sk-estimator-id-1\" class=\"sk-toggleable__label sk-toggleable__label-arrow\">Pipeline</label><div class=\"sk-toggleable__content\"><pre>Pipeline(steps=[(&#x27;scale&#x27;, StandardScaler()),\n",
       "                (&#x27;model&#x27;, GradientBoostingClassifier())])</pre></div></div></div><div class=\"sk-serial\"><div class=\"sk-item\"><div class=\"sk-estimator sk-toggleable\"><input class=\"sk-toggleable__control sk-hidden--visually\" id=\"sk-estimator-id-2\" type=\"checkbox\" ><label for=\"sk-estimator-id-2\" class=\"sk-toggleable__label sk-toggleable__label-arrow\">StandardScaler</label><div class=\"sk-toggleable__content\"><pre>StandardScaler()</pre></div></div></div><div class=\"sk-item\"><div class=\"sk-estimator sk-toggleable\"><input class=\"sk-toggleable__control sk-hidden--visually\" id=\"sk-estimator-id-3\" type=\"checkbox\" ><label for=\"sk-estimator-id-3\" class=\"sk-toggleable__label sk-toggleable__label-arrow\">GradientBoostingClassifier</label><div class=\"sk-toggleable__content\"><pre>GradientBoostingClassifier()</pre></div></div></div></div></div></div></div>"
      ],
      "text/plain": [
       "Pipeline(steps=[('scale', StandardScaler()),\n",
       "                ('model', GradientBoostingClassifier())])"
      ]
     },
     "execution_count": 43,
     "metadata": {},
     "output_type": "execute_result"
    }
   ],
   "source": [
    "model.fit(X_train, y_train.values.ravel())"
   ]
  },
  {
   "cell_type": "code",
   "execution_count": 44,
   "id": "af59f8c0",
   "metadata": {
    "execution": {
     "iopub.execute_input": "2025-07-30T14:22:17.271063Z",
     "iopub.status.busy": "2025-07-30T14:22:17.270539Z",
     "iopub.status.idle": "2025-07-30T14:22:17.276386Z",
     "shell.execute_reply": "2025-07-30T14:22:17.275383Z"
    },
    "papermill": {
     "duration": 0.032259,
     "end_time": "2025-07-30T14:22:17.278193",
     "exception": false,
     "start_time": "2025-07-30T14:22:17.245934",
     "status": "completed"
    },
    "tags": []
   },
   "outputs": [],
   "source": [
    "from fairness_multiverse.universe import predict_w_threshold"
   ]
  },
  {
   "cell_type": "code",
   "execution_count": 45,
   "id": "a7cf2e16",
   "metadata": {
    "execution": {
     "iopub.execute_input": "2025-07-30T14:22:17.326099Z",
     "iopub.status.busy": "2025-07-30T14:22:17.325481Z",
     "iopub.status.idle": "2025-07-30T14:22:18.064408Z",
     "shell.execute_reply": "2025-07-30T14:22:18.063544Z"
    },
    "papermill": {
     "duration": 0.763343,
     "end_time": "2025-07-30T14:22:18.065982",
     "exception": false,
     "start_time": "2025-07-30T14:22:17.302639",
     "status": "completed"
    },
    "tags": []
   },
   "outputs": [
    {
     "data": {
      "text/plain": [
       "0.8482443428826217"
      ]
     },
     "execution_count": 45,
     "metadata": {},
     "output_type": "execute_result"
    }
   ],
   "source": [
    "probs_test = model.predict_proba(X_test)\n",
    "\n",
    "'''\n",
    "Below code returns a boolean array (or binary 0/1 array depending on how it’s used) where each element \n",
    "is True if the probability of class 1 is greater than or equal to the threshold, and False otherwise.\n",
    "'''\n",
    "y_pred_default = predict_w_threshold(probs_test, 0.5)\n",
    "\n",
    "from sklearn.metrics import accuracy_score\n",
    "\n",
    "# Naive prediction\n",
    "accuracy_score(y_true = y_true, y_pred = y_pred_default)"
   ]
  },
  {
   "cell_type": "code",
   "execution_count": 46,
   "id": "081964c3",
   "metadata": {
    "execution": {
     "iopub.execute_input": "2025-07-30T14:22:18.113367Z",
     "iopub.status.busy": "2025-07-30T14:22:18.112800Z",
     "iopub.status.idle": "2025-07-30T14:22:18.948204Z",
     "shell.execute_reply": "2025-07-30T14:22:18.947267Z"
    },
    "papermill": {
     "duration": 0.861189,
     "end_time": "2025-07-30T14:22:18.950096",
     "exception": false,
     "start_time": "2025-07-30T14:22:18.088907",
     "status": "completed"
    },
    "tags": []
   },
   "outputs": [
    {
     "data": {
      "text/plain": [
       "array([0, 0, 0, ..., 0, 0, 0])"
      ]
     },
     "execution_count": 46,
     "metadata": {},
     "output_type": "execute_result"
    }
   ],
   "source": [
    "model.predict(X_test)"
   ]
  },
  {
   "cell_type": "markdown",
   "id": "56c9705b",
   "metadata": {
    "papermill": {
     "duration": 0.023582,
     "end_time": "2025-07-30T14:22:19.001010",
     "exception": false,
     "start_time": "2025-07-30T14:22:18.977428",
     "status": "completed"
    },
    "tags": []
   },
   "source": [
    "# Conformal Prediction"
   ]
  },
  {
   "cell_type": "code",
   "execution_count": 47,
   "id": "160ec6ff",
   "metadata": {
    "execution": {
     "iopub.execute_input": "2025-07-30T14:22:19.055936Z",
     "iopub.status.busy": "2025-07-30T14:22:19.055560Z",
     "iopub.status.idle": "2025-07-30T14:22:19.060633Z",
     "shell.execute_reply": "2025-07-30T14:22:19.059715Z"
    },
    "papermill": {
     "duration": 0.036651,
     "end_time": "2025-07-30T14:22:19.062357",
     "exception": false,
     "start_time": "2025-07-30T14:22:19.025706",
     "status": "completed"
    },
    "tags": []
   },
   "outputs": [],
   "source": [
    "# Miscoverage level for conformal prediction (10% allowed error rate => 90% target coverage)\n",
    "alpha = 0.1"
   ]
  },
  {
   "cell_type": "code",
   "execution_count": 48,
   "id": "eadf4555-3dd3-440e-8e35-f82a4ad9f855",
   "metadata": {
    "execution": {
     "iopub.execute_input": "2025-07-30T14:22:19.115582Z",
     "iopub.status.busy": "2025-07-30T14:22:19.114660Z",
     "iopub.status.idle": "2025-07-30T14:22:19.896099Z",
     "shell.execute_reply": "2025-07-30T14:22:19.895068Z"
    },
    "papermill": {
     "duration": 0.808969,
     "end_time": "2025-07-30T14:22:19.898014",
     "exception": false,
     "start_time": "2025-07-30T14:22:19.089045",
     "status": "completed"
    },
    "tags": []
   },
   "outputs": [],
   "source": [
    "probs_calib = model.predict_proba(X_calib)"
   ]
  },
  {
   "cell_type": "code",
   "execution_count": 49,
   "id": "2ed93547-6d5d-4983-9b36-1ecb300da49a",
   "metadata": {
    "execution": {
     "iopub.execute_input": "2025-07-30T14:22:19.951667Z",
     "iopub.status.busy": "2025-07-30T14:22:19.950829Z",
     "iopub.status.idle": "2025-07-30T14:22:19.956896Z",
     "shell.execute_reply": "2025-07-30T14:22:19.955814Z"
    },
    "papermill": {
     "duration": 0.037584,
     "end_time": "2025-07-30T14:22:19.961439",
     "exception": false,
     "start_time": "2025-07-30T14:22:19.923855",
     "status": "completed"
    },
    "tags": []
   },
   "outputs": [],
   "source": [
    "y_calib = y_calib.values.ravel().astype(int)"
   ]
  },
  {
   "cell_type": "code",
   "execution_count": 50,
   "id": "65d1320d-f588-4b38-9072-62af1ae97f7d",
   "metadata": {
    "execution": {
     "iopub.execute_input": "2025-07-30T14:22:20.014380Z",
     "iopub.status.busy": "2025-07-30T14:22:20.013913Z",
     "iopub.status.idle": "2025-07-30T14:22:20.022681Z",
     "shell.execute_reply": "2025-07-30T14:22:20.021634Z"
    },
    "papermill": {
     "duration": 0.037178,
     "end_time": "2025-07-30T14:22:20.024543",
     "exception": false,
     "start_time": "2025-07-30T14:22:19.987365",
     "status": "completed"
    },
    "tags": []
   },
   "outputs": [],
   "source": [
    "from fairness_multiverse.conformal import compute_nc_scores\n",
    "\n",
    "# Compute nonconformity scores on calibration set (1 - probability of true class)\n",
    "nc_scores = compute_nc_scores(probs_calib, y_calib)"
   ]
  },
  {
   "cell_type": "code",
   "execution_count": 51,
   "id": "df3b8ca3-53b7-43d5-9667-7c85da7aeda2",
   "metadata": {
    "execution": {
     "iopub.execute_input": "2025-07-30T14:22:20.077967Z",
     "iopub.status.busy": "2025-07-30T14:22:20.077474Z",
     "iopub.status.idle": "2025-07-30T14:22:20.084323Z",
     "shell.execute_reply": "2025-07-30T14:22:20.083298Z"
    },
    "papermill": {
     "duration": 0.035667,
     "end_time": "2025-07-30T14:22:20.086118",
     "exception": false,
     "start_time": "2025-07-30T14:22:20.050451",
     "status": "completed"
    },
    "tags": []
   },
   "outputs": [],
   "source": [
    "from fairness_multiverse.conformal import find_threshold\n",
    "\n",
    "# Find conformal threshold q_hat for the given alpha (split conformal method)\n",
    "q_hat = find_threshold(nc_scores, alpha)"
   ]
  },
  {
   "cell_type": "code",
   "execution_count": 52,
   "id": "4d29e6c1-0ef6-4aa4-b8fe-4fe79b0d033a",
   "metadata": {
    "execution": {
     "iopub.execute_input": "2025-07-30T14:22:20.144108Z",
     "iopub.status.busy": "2025-07-30T14:22:20.142797Z",
     "iopub.status.idle": "2025-07-30T14:22:20.151645Z",
     "shell.execute_reply": "2025-07-30T14:22:20.150552Z"
    },
    "papermill": {
     "duration": 0.041262,
     "end_time": "2025-07-30T14:22:20.154124",
     "exception": false,
     "start_time": "2025-07-30T14:22:20.112862",
     "status": "completed"
    },
    "tags": []
   },
   "outputs": [
    {
     "data": {
      "text/plain": [
       "0.7581141932575634"
      ]
     },
     "execution_count": 52,
     "metadata": {},
     "output_type": "execute_result"
    }
   ],
   "source": [
    "q_hat"
   ]
  },
  {
   "cell_type": "code",
   "execution_count": 53,
   "id": "92460794-cdac-4be2-ba28-f28c0515a6fb",
   "metadata": {
    "execution": {
     "iopub.execute_input": "2025-07-30T14:22:20.226017Z",
     "iopub.status.busy": "2025-07-30T14:22:20.225272Z",
     "iopub.status.idle": "2025-07-30T14:22:21.844401Z",
     "shell.execute_reply": "2025-07-30T14:22:21.841168Z"
    },
    "papermill": {
     "duration": 1.667856,
     "end_time": "2025-07-30T14:22:21.857406",
     "exception": false,
     "start_time": "2025-07-30T14:22:20.189550",
     "status": "completed"
    },
    "tags": []
   },
   "outputs": [],
   "source": [
    "from fairness_multiverse.conformal import predict_conformal_sets\n",
    "\n",
    "# Generate prediction sets for each test example\n",
    "pred_sets = predict_conformal_sets(model, X_test, q_hat)"
   ]
  },
  {
   "cell_type": "code",
   "execution_count": 54,
   "id": "d90c9a65-e6db-4f5d-80cd-e68fb7e46829",
   "metadata": {
    "execution": {
     "iopub.execute_input": "2025-07-30T14:22:21.911212Z",
     "iopub.status.busy": "2025-07-30T14:22:21.910153Z",
     "iopub.status.idle": "2025-07-30T14:22:21.916645Z",
     "shell.execute_reply": "2025-07-30T14:22:21.915509Z"
    },
    "papermill": {
     "duration": 0.034175,
     "end_time": "2025-07-30T14:22:21.918406",
     "exception": false,
     "start_time": "2025-07-30T14:22:21.884231",
     "status": "completed"
    },
    "tags": []
   },
   "outputs": [],
   "source": [
    "y_true = y_true.squeeze()"
   ]
  },
  {
   "cell_type": "code",
   "execution_count": 55,
   "id": "3a58a54a-1e68-46b9-927a-df01f18aebc8",
   "metadata": {
    "execution": {
     "iopub.execute_input": "2025-07-30T14:22:21.966214Z",
     "iopub.status.busy": "2025-07-30T14:22:21.965770Z",
     "iopub.status.idle": "2025-07-30T14:22:22.956496Z",
     "shell.execute_reply": "2025-07-30T14:22:22.955724Z"
    },
    "papermill": {
     "duration": 1.011867,
     "end_time": "2025-07-30T14:22:22.957819",
     "exception": false,
     "start_time": "2025-07-30T14:22:21.945952",
     "status": "completed"
    },
    "tags": []
   },
   "outputs": [],
   "source": [
    "from fairness_multiverse.conformal import evaluate_sets\n",
    "\n",
    "# Evaluate coverage and average set size on test data\n",
    "metrics = evaluate_sets(pred_sets, y_true)"
   ]
  },
  {
   "cell_type": "markdown",
   "id": "2b569c12-9aaa-4c88-98c9-bbcd0cf3ebb8",
   "metadata": {
    "papermill": {
     "duration": 0.018242,
     "end_time": "2025-07-30T14:22:22.989639",
     "exception": false,
     "start_time": "2025-07-30T14:22:22.971397",
     "status": "completed"
    },
    "tags": []
   },
   "source": [
    "# CP Metrics"
   ]
  },
  {
   "cell_type": "code",
   "execution_count": 56,
   "id": "5ce0a5cb-201f-45a0-ade5-94c7f0bd6095",
   "metadata": {
    "execution": {
     "iopub.execute_input": "2025-07-30T14:22:23.042779Z",
     "iopub.status.busy": "2025-07-30T14:22:23.042340Z",
     "iopub.status.idle": "2025-07-30T14:22:23.049243Z",
     "shell.execute_reply": "2025-07-30T14:22:23.048371Z"
    },
    "papermill": {
     "duration": 0.035872,
     "end_time": "2025-07-30T14:22:23.051021",
     "exception": false,
     "start_time": "2025-07-30T14:22:23.015149",
     "status": "completed"
    },
    "tags": []
   },
   "outputs": [
    {
     "data": {
      "text/plain": [
       "{'coverage': 0.909263181362167, 'avg_size': 1.1591684316129751}"
      ]
     },
     "execution_count": 56,
     "metadata": {},
     "output_type": "execute_result"
    }
   ],
   "source": [
    "metrics"
   ]
  },
  {
   "cell_type": "code",
   "execution_count": 57,
   "id": "9b9a838d-31c9-430b-ae14-12baee460d17",
   "metadata": {
    "execution": {
     "iopub.execute_input": "2025-07-30T14:22:23.106623Z",
     "iopub.status.busy": "2025-07-30T14:22:23.106163Z",
     "iopub.status.idle": "2025-07-30T14:22:23.112925Z",
     "shell.execute_reply": "2025-07-30T14:22:23.111830Z"
    },
    "papermill": {
     "duration": 0.036164,
     "end_time": "2025-07-30T14:22:23.114468",
     "exception": false,
     "start_time": "2025-07-30T14:22:23.078304",
     "status": "completed"
    },
    "tags": []
   },
   "outputs": [],
   "source": [
    "example_universe = universe.copy()\n",
    "universe_training_size = example_universe.get(\"training_size\")\n",
    "universe_scale = example_universe.get(\"scale\")\n",
    "universe_model = example_universe.get(\"model\")\n",
    "universe_exclude_features = example_universe.get(\"exclude_features\")\n",
    "universe_exclude_subgroups = example_universe.get(\"exclude_subgroups\")"
   ]
  },
  {
   "cell_type": "code",
   "execution_count": 58,
   "id": "f4b6a8ac-9dc0-4245-8a91-5b3b5999c4f9",
   "metadata": {
    "execution": {
     "iopub.execute_input": "2025-07-30T14:22:23.168040Z",
     "iopub.status.busy": "2025-07-30T14:22:23.167030Z",
     "iopub.status.idle": "2025-07-30T14:22:23.174374Z",
     "shell.execute_reply": "2025-07-30T14:22:23.173403Z"
    },
    "papermill": {
     "duration": 0.033288,
     "end_time": "2025-07-30T14:22:23.175947",
     "exception": false,
     "start_time": "2025-07-30T14:22:23.142659",
     "status": "completed"
    },
    "tags": []
   },
   "outputs": [],
   "source": [
    "cp_metrics_dict = {\n",
    "    \"universe_id\": [universe_id],\n",
    "    \"universe_training_size\": [universe_training_size],\n",
    "    \"universe_scale\": [universe_scale],\n",
    "    \"universe_model\": [universe_model],\n",
    "    \"universe_exclude_features\": [universe_exclude_features],\n",
    "    \"universe_exclude_subgroups\": [universe_exclude_subgroups],\n",
    "    \"q_hat\": [q_hat],\n",
    "    \"coverage\": [metrics[\"coverage\"]],\n",
    "    \"avg_size\": [metrics[\"avg_size\"]],\n",
    "}"
   ]
  },
  {
   "cell_type": "code",
   "execution_count": 59,
   "id": "908acbb1-0371-4915-85ca-3fa520d2efe2",
   "metadata": {
    "execution": {
     "iopub.execute_input": "2025-07-30T14:22:23.233898Z",
     "iopub.status.busy": "2025-07-30T14:22:23.233097Z",
     "iopub.status.idle": "2025-07-30T14:22:23.241032Z",
     "shell.execute_reply": "2025-07-30T14:22:23.240083Z"
    },
    "papermill": {
     "duration": 0.037584,
     "end_time": "2025-07-30T14:22:23.242568",
     "exception": false,
     "start_time": "2025-07-30T14:22:23.204984",
     "status": "completed"
    },
    "tags": []
   },
   "outputs": [
    {
     "data": {
      "text/plain": [
       "{'universe_id': ['68084ed931fa51aa4436dfa868b8e460'],\n",
       " 'universe_training_size': ['1k'],\n",
       " 'universe_scale': ['scale'],\n",
       " 'universe_model': ['gbm'],\n",
       " 'universe_exclude_features': ['none'],\n",
       " 'universe_exclude_subgroups': ['drop-non-german'],\n",
       " 'q_hat': [0.7581141932575634],\n",
       " 'coverage': [0.909263181362167],\n",
       " 'avg_size': [1.1591684316129751]}"
      ]
     },
     "execution_count": 59,
     "metadata": {},
     "output_type": "execute_result"
    }
   ],
   "source": [
    "cp_metrics_dict"
   ]
  },
  {
   "cell_type": "code",
   "execution_count": 60,
   "id": "33007efc-14e9-4ec6-97ac-56a455c82265",
   "metadata": {
    "execution": {
     "iopub.execute_input": "2025-07-30T14:22:23.301300Z",
     "iopub.status.busy": "2025-07-30T14:22:23.300809Z",
     "iopub.status.idle": "2025-07-30T14:22:23.307508Z",
     "shell.execute_reply": "2025-07-30T14:22:23.306545Z"
    },
    "papermill": {
     "duration": 0.0373,
     "end_time": "2025-07-30T14:22:23.309426",
     "exception": false,
     "start_time": "2025-07-30T14:22:23.272126",
     "status": "completed"
    },
    "tags": []
   },
   "outputs": [],
   "source": [
    "cp_metrics_df = pd.DataFrame(cp_metrics_dict)"
   ]
  },
  {
   "cell_type": "code",
   "execution_count": 61,
   "id": "db12611b-57b2-4910-b9d0-355adfd6e7bf",
   "metadata": {
    "execution": {
     "iopub.execute_input": "2025-07-30T14:22:23.368209Z",
     "iopub.status.busy": "2025-07-30T14:22:23.367463Z",
     "iopub.status.idle": "2025-07-30T14:22:23.385461Z",
     "shell.execute_reply": "2025-07-30T14:22:23.384546Z"
    },
    "papermill": {
     "duration": 0.048059,
     "end_time": "2025-07-30T14:22:23.387149",
     "exception": false,
     "start_time": "2025-07-30T14:22:23.339090",
     "status": "completed"
    },
    "tags": []
   },
   "outputs": [
    {
     "data": {
      "text/html": [
       "<div>\n",
       "<style scoped>\n",
       "    .dataframe tbody tr th:only-of-type {\n",
       "        vertical-align: middle;\n",
       "    }\n",
       "\n",
       "    .dataframe tbody tr th {\n",
       "        vertical-align: top;\n",
       "    }\n",
       "\n",
       "    .dataframe thead th {\n",
       "        text-align: right;\n",
       "    }\n",
       "</style>\n",
       "<table border=\"1\" class=\"dataframe\">\n",
       "  <thead>\n",
       "    <tr style=\"text-align: right;\">\n",
       "      <th></th>\n",
       "      <th>universe_id</th>\n",
       "      <th>universe_training_size</th>\n",
       "      <th>universe_scale</th>\n",
       "      <th>universe_model</th>\n",
       "      <th>universe_exclude_features</th>\n",
       "      <th>universe_exclude_subgroups</th>\n",
       "      <th>q_hat</th>\n",
       "      <th>coverage</th>\n",
       "      <th>avg_size</th>\n",
       "    </tr>\n",
       "  </thead>\n",
       "  <tbody>\n",
       "    <tr>\n",
       "      <th>0</th>\n",
       "      <td>68084ed931fa51aa4436dfa868b8e460</td>\n",
       "      <td>1k</td>\n",
       "      <td>scale</td>\n",
       "      <td>gbm</td>\n",
       "      <td>none</td>\n",
       "      <td>drop-non-german</td>\n",
       "      <td>0.758114</td>\n",
       "      <td>0.909263</td>\n",
       "      <td>1.159168</td>\n",
       "    </tr>\n",
       "  </tbody>\n",
       "</table>\n",
       "</div>"
      ],
      "text/plain": [
       "                        universe_id universe_training_size universe_scale  \\\n",
       "0  68084ed931fa51aa4436dfa868b8e460                     1k          scale   \n",
       "\n",
       "  universe_model universe_exclude_features universe_exclude_subgroups  \\\n",
       "0            gbm                      none            drop-non-german   \n",
       "\n",
       "      q_hat  coverage  avg_size  \n",
       "0  0.758114  0.909263  1.159168  "
      ]
     },
     "execution_count": 61,
     "metadata": {},
     "output_type": "execute_result"
    }
   ],
   "source": [
    "cp_metrics_df"
   ]
  },
  {
   "cell_type": "code",
   "execution_count": 62,
   "id": "b7fbde55-a0a1-47e4-9af6-fe4a17fa8c61",
   "metadata": {
    "execution": {
     "iopub.execute_input": "2025-07-30T14:22:23.444651Z",
     "iopub.status.busy": "2025-07-30T14:22:23.443716Z",
     "iopub.status.idle": "2025-07-30T14:22:23.449022Z",
     "shell.execute_reply": "2025-07-30T14:22:23.447960Z"
    },
    "papermill": {
     "duration": 0.03447,
     "end_time": "2025-07-30T14:22:23.450603",
     "exception": false,
     "start_time": "2025-07-30T14:22:23.416133",
     "status": "completed"
    },
    "tags": []
   },
   "outputs": [],
   "source": [
    "# Conditional Coverage & looking at subgroups"
   ]
  },
  {
   "cell_type": "code",
   "execution_count": 63,
   "id": "027ae886-68dd-4141-96c7-805a5450e1ef",
   "metadata": {
    "execution": {
     "iopub.execute_input": "2025-07-30T14:22:23.506049Z",
     "iopub.status.busy": "2025-07-30T14:22:23.505170Z",
     "iopub.status.idle": "2025-07-30T14:22:23.784013Z",
     "shell.execute_reply": "2025-07-30T14:22:23.782793Z"
    },
    "papermill": {
     "duration": 0.308588,
     "end_time": "2025-07-30T14:22:23.785997",
     "exception": false,
     "start_time": "2025-07-30T14:22:23.477409",
     "status": "completed"
    },
    "tags": []
   },
   "outputs": [],
   "source": [
    "from fairness_multiverse.conformal import build_cp_groups\n",
    "\n",
    "cp_groups_df = build_cp_groups(pred_sets, y_true, X_test.index, org_test)\n",
    "#needs universe_id and setting"
   ]
  },
  {
   "cell_type": "code",
   "execution_count": 64,
   "id": "01d5802c-663a-4d1f-9d69-e036faaffbf7",
   "metadata": {
    "execution": {
     "iopub.execute_input": "2025-07-30T14:22:23.841352Z",
     "iopub.status.busy": "2025-07-30T14:22:23.840847Z",
     "iopub.status.idle": "2025-07-30T14:22:23.845638Z",
     "shell.execute_reply": "2025-07-30T14:22:23.844733Z"
    },
    "papermill": {
     "duration": 0.032579,
     "end_time": "2025-07-30T14:22:23.847288",
     "exception": false,
     "start_time": "2025-07-30T14:22:23.814709",
     "status": "completed"
    },
    "tags": []
   },
   "outputs": [],
   "source": [
    "#delete\n",
    "#cp_groups_df"
   ]
  },
  {
   "cell_type": "code",
   "execution_count": 65,
   "id": "fa424af1-d1eb-443d-b717-2d279ada8408",
   "metadata": {
    "execution": {
     "iopub.execute_input": "2025-07-30T14:22:23.910208Z",
     "iopub.status.busy": "2025-07-30T14:22:23.909377Z",
     "iopub.status.idle": "2025-07-30T14:22:23.914663Z",
     "shell.execute_reply": "2025-07-30T14:22:23.913732Z"
    },
    "papermill": {
     "duration": 0.036253,
     "end_time": "2025-07-30T14:22:23.916242",
     "exception": false,
     "start_time": "2025-07-30T14:22:23.879989",
     "status": "completed"
    },
    "tags": []
   },
   "outputs": [],
   "source": [
    "#delete\n",
    "#percentage = (cp_groups_df['nongerman_female'] == 1).mean() * 100\n",
    "#print(percentage)\n"
   ]
  },
  {
   "cell_type": "code",
   "execution_count": 66,
   "id": "6cbdab96-b2b2-45af-ad54-d0516db2e28d",
   "metadata": {
    "execution": {
     "iopub.execute_input": "2025-07-30T14:22:23.973307Z",
     "iopub.status.busy": "2025-07-30T14:22:23.972820Z",
     "iopub.status.idle": "2025-07-30T14:22:25.609509Z",
     "shell.execute_reply": "2025-07-30T14:22:25.608510Z"
    },
    "papermill": {
     "duration": 1.667505,
     "end_time": "2025-07-30T14:22:25.611405",
     "exception": false,
     "start_time": "2025-07-30T14:22:23.943900",
     "status": "completed"
    },
    "tags": []
   },
   "outputs": [],
   "source": [
    "# Define covered = 1 if true_label is in the predicted set\n",
    "cp_groups_df['covered'] = cp_groups_df.apply(\n",
    "    lambda r: int(r['true_label'] in r['pred_set']),\n",
    "    axis=1\n",
    ")"
   ]
  },
  {
   "cell_type": "code",
   "execution_count": 67,
   "id": "338ff529-1a6b-4b87-a931-8e4788d52aad",
   "metadata": {
    "execution": {
     "iopub.execute_input": "2025-07-30T14:22:25.667705Z",
     "iopub.status.busy": "2025-07-30T14:22:25.666682Z",
     "iopub.status.idle": "2025-07-30T14:22:25.672147Z",
     "shell.execute_reply": "2025-07-30T14:22:25.671089Z"
    },
    "papermill": {
     "duration": 0.036163,
     "end_time": "2025-07-30T14:22:25.673709",
     "exception": false,
     "start_time": "2025-07-30T14:22:25.637546",
     "status": "completed"
    },
    "tags": []
   },
   "outputs": [],
   "source": [
    "#cp_groups_df"
   ]
  },
  {
   "cell_type": "code",
   "execution_count": 68,
   "id": "90032e27-66df-4540-9169-4e89cfbaa758",
   "metadata": {
    "execution": {
     "iopub.execute_input": "2025-07-30T14:22:25.729221Z",
     "iopub.status.busy": "2025-07-30T14:22:25.728646Z",
     "iopub.status.idle": "2025-07-30T14:22:25.740213Z",
     "shell.execute_reply": "2025-07-30T14:22:25.739133Z"
    },
    "papermill": {
     "duration": 0.041116,
     "end_time": "2025-07-30T14:22:25.741836",
     "exception": false,
     "start_time": "2025-07-30T14:22:25.700720",
     "status": "completed"
    },
    "tags": []
   },
   "outputs": [],
   "source": [
    "subgroups = ['frau1','nongerman','nongerman_male','nongerman_female']\n",
    "\n",
    "# Conditional coverage for subgroup==1\n",
    "cond_coverage = {\n",
    "    g: cp_groups_df.loc[cp_groups_df[g]==1, 'covered'].mean()\n",
    "    for g in subgroups\n",
    "}"
   ]
  },
  {
   "cell_type": "code",
   "execution_count": 69,
   "id": "1e348fb1-b9c3-45bc-ba23-f016827a7e0d",
   "metadata": {
    "execution": {
     "iopub.execute_input": "2025-07-30T14:22:25.801374Z",
     "iopub.status.busy": "2025-07-30T14:22:25.800968Z",
     "iopub.status.idle": "2025-07-30T14:22:25.807799Z",
     "shell.execute_reply": "2025-07-30T14:22:25.806862Z"
    },
    "papermill": {
     "duration": 0.041188,
     "end_time": "2025-07-30T14:22:25.809430",
     "exception": false,
     "start_time": "2025-07-30T14:22:25.768242",
     "status": "completed"
    },
    "tags": []
   },
   "outputs": [
    {
     "data": {
      "text/plain": [
       "{'frau1': 0.907912117536056,\n",
       " 'nongerman': 0.9078201313647336,\n",
       " 'nongerman_male': 0.9237143114473566,\n",
       " 'nongerman_female': 0.8815201192250373}"
      ]
     },
     "execution_count": 69,
     "metadata": {},
     "output_type": "execute_result"
    }
   ],
   "source": [
    "cond_coverage"
   ]
  },
  {
   "cell_type": "code",
   "execution_count": 70,
   "id": "f5093324-c3dd-4d63-bc4c-8d945e5c8bbb",
   "metadata": {
    "execution": {
     "iopub.execute_input": "2025-07-30T14:22:25.869402Z",
     "iopub.status.busy": "2025-07-30T14:22:25.868894Z",
     "iopub.status.idle": "2025-07-30T14:22:25.876442Z",
     "shell.execute_reply": "2025-07-30T14:22:25.875463Z"
    },
    "papermill": {
     "duration": 0.04132,
     "end_time": "2025-07-30T14:22:25.878188",
     "exception": false,
     "start_time": "2025-07-30T14:22:25.836868",
     "status": "completed"
    },
    "tags": []
   },
   "outputs": [],
   "source": [
    "for subgroup, cov in cond_coverage.items():\n",
    "    cp_metrics_df[f\"cov_{subgroup}\"] = cov"
   ]
  },
  {
   "cell_type": "code",
   "execution_count": 71,
   "id": "6e872e10-dbe5-49e8-b554-5030c98ff75d",
   "metadata": {
    "execution": {
     "iopub.execute_input": "2025-07-30T14:22:25.923084Z",
     "iopub.status.busy": "2025-07-30T14:22:25.922659Z",
     "iopub.status.idle": "2025-07-30T14:22:25.942017Z",
     "shell.execute_reply": "2025-07-30T14:22:25.941068Z"
    },
    "papermill": {
     "duration": 0.038728,
     "end_time": "2025-07-30T14:22:25.944021",
     "exception": false,
     "start_time": "2025-07-30T14:22:25.905293",
     "status": "completed"
    },
    "tags": []
   },
   "outputs": [
    {
     "data": {
      "text/html": [
       "<div>\n",
       "<style scoped>\n",
       "    .dataframe tbody tr th:only-of-type {\n",
       "        vertical-align: middle;\n",
       "    }\n",
       "\n",
       "    .dataframe tbody tr th {\n",
       "        vertical-align: top;\n",
       "    }\n",
       "\n",
       "    .dataframe thead th {\n",
       "        text-align: right;\n",
       "    }\n",
       "</style>\n",
       "<table border=\"1\" class=\"dataframe\">\n",
       "  <thead>\n",
       "    <tr style=\"text-align: right;\">\n",
       "      <th></th>\n",
       "      <th>universe_id</th>\n",
       "      <th>universe_training_size</th>\n",
       "      <th>universe_scale</th>\n",
       "      <th>universe_model</th>\n",
       "      <th>universe_exclude_features</th>\n",
       "      <th>universe_exclude_subgroups</th>\n",
       "      <th>q_hat</th>\n",
       "      <th>coverage</th>\n",
       "      <th>avg_size</th>\n",
       "      <th>cov_frau1</th>\n",
       "      <th>cov_nongerman</th>\n",
       "      <th>cov_nongerman_male</th>\n",
       "      <th>cov_nongerman_female</th>\n",
       "    </tr>\n",
       "  </thead>\n",
       "  <tbody>\n",
       "    <tr>\n",
       "      <th>0</th>\n",
       "      <td>68084ed931fa51aa4436dfa868b8e460</td>\n",
       "      <td>1k</td>\n",
       "      <td>scale</td>\n",
       "      <td>gbm</td>\n",
       "      <td>none</td>\n",
       "      <td>drop-non-german</td>\n",
       "      <td>0.758114</td>\n",
       "      <td>0.909263</td>\n",
       "      <td>1.159168</td>\n",
       "      <td>0.907912</td>\n",
       "      <td>0.90782</td>\n",
       "      <td>0.923714</td>\n",
       "      <td>0.88152</td>\n",
       "    </tr>\n",
       "  </tbody>\n",
       "</table>\n",
       "</div>"
      ],
      "text/plain": [
       "                        universe_id universe_training_size universe_scale  \\\n",
       "0  68084ed931fa51aa4436dfa868b8e460                     1k          scale   \n",
       "\n",
       "  universe_model universe_exclude_features universe_exclude_subgroups  \\\n",
       "0            gbm                      none            drop-non-german   \n",
       "\n",
       "      q_hat  coverage  avg_size  cov_frau1  cov_nongerman  cov_nongerman_male  \\\n",
       "0  0.758114  0.909263  1.159168   0.907912        0.90782            0.923714   \n",
       "\n",
       "   cov_nongerman_female  \n",
       "0               0.88152  "
      ]
     },
     "execution_count": 71,
     "metadata": {},
     "output_type": "execute_result"
    }
   ],
   "source": [
    "cp_metrics_df"
   ]
  },
  {
   "cell_type": "markdown",
   "id": "33774451",
   "metadata": {
    "papermill": {
     "duration": 0.028386,
     "end_time": "2025-07-30T14:22:26.002963",
     "exception": false,
     "start_time": "2025-07-30T14:22:25.974577",
     "status": "completed"
    },
    "tags": []
   },
   "source": [
    "# (Fairness) Metrics"
   ]
  },
  {
   "cell_type": "code",
   "execution_count": 72,
   "id": "debc5d62",
   "metadata": {
    "execution": {
     "iopub.execute_input": "2025-07-30T14:22:26.059876Z",
     "iopub.status.busy": "2025-07-30T14:22:26.059415Z",
     "iopub.status.idle": "2025-07-30T14:22:26.081444Z",
     "shell.execute_reply": "2025-07-30T14:22:26.080419Z"
    },
    "papermill": {
     "duration": 0.051637,
     "end_time": "2025-07-30T14:22:26.083209",
     "exception": false,
     "start_time": "2025-07-30T14:22:26.031572",
     "status": "completed"
    },
    "tags": []
   },
   "outputs": [],
   "source": [
    "# do I need to include maxdeutsch1.missing?\n",
    "\n",
    "import numpy as np\n",
    "\n",
    "colname_to_bin = \"maxdeutsch1\"\n",
    "majority_value = org_train[colname_to_bin].mode()[0]\n",
    "\n",
    "org_test[\"majmin\"] = np.where(org_test[colname_to_bin] == majority_value, \"majority\", \"minority\")"
   ]
  },
  {
   "cell_type": "code",
   "execution_count": 73,
   "id": "06a50de5",
   "metadata": {
    "execution": {
     "iopub.execute_input": "2025-07-30T14:22:26.141510Z",
     "iopub.status.busy": "2025-07-30T14:22:26.140859Z",
     "iopub.status.idle": "2025-07-30T14:22:29.081211Z",
     "shell.execute_reply": "2025-07-30T14:22:29.080189Z"
    },
    "papermill": {
     "duration": 2.971667,
     "end_time": "2025-07-30T14:22:29.083217",
     "exception": false,
     "start_time": "2025-07-30T14:22:26.111550",
     "status": "completed"
    },
    "tags": []
   },
   "outputs": [],
   "source": [
    "example_universe = universe.copy()\n",
    "example_universe[\"cutoff\"] = example_universe[\"cutoff\"][0]\n",
    "example_universe[\"eval_fairness_grouping\"] = example_universe[\"eval_fairness_grouping\"][0]\n",
    "fairness_dict, metric_frame = universe_analysis.compute_metrics(\n",
    "    example_universe,\n",
    "    y_pred_prob=probs_test,\n",
    "    y_test=y_true,\n",
    "    org_test=org_test,\n",
    ")"
   ]
  },
  {
   "cell_type": "markdown",
   "id": "f95d4e02",
   "metadata": {
    "papermill": {
     "duration": 0.014664,
     "end_time": "2025-07-30T14:22:29.129998",
     "exception": false,
     "start_time": "2025-07-30T14:22:29.115334",
     "status": "completed"
    },
    "tags": []
   },
   "source": [
    "# Overall"
   ]
  },
  {
   "cell_type": "markdown",
   "id": "bdee4871",
   "metadata": {
    "papermill": {
     "duration": 0.03028,
     "end_time": "2025-07-30T14:22:29.185928",
     "exception": false,
     "start_time": "2025-07-30T14:22:29.155648",
     "status": "completed"
    },
    "tags": []
   },
   "source": [
    "Fairness\n",
    "Main fairness target: Equalized Odds. Seems to be a better fit than equal opportunity, since we're not only interested in Y = 1. Seems to be a better fit than demographic parity, since we also care about accuracy, not just equal distribution of preds.\n",
    "\n",
    "Pick column for computation of fairness metrics\n",
    "\n",
    "Performance\n",
    "Overall performance measures, most interesting in relation to the measures split by group below"
   ]
  },
  {
   "cell_type": "code",
   "execution_count": 74,
   "id": "c4e067c6",
   "metadata": {
    "execution": {
     "iopub.execute_input": "2025-07-30T14:22:29.245214Z",
     "iopub.status.busy": "2025-07-30T14:22:29.244708Z",
     "iopub.status.idle": "2025-07-30T14:22:29.253526Z",
     "shell.execute_reply": "2025-07-30T14:22:29.252378Z"
    },
    "papermill": {
     "duration": 0.040081,
     "end_time": "2025-07-30T14:22:29.255291",
     "exception": false,
     "start_time": "2025-07-30T14:22:29.215210",
     "status": "completed"
    },
    "tags": []
   },
   "outputs": [
    {
     "data": {
      "text/plain": [
       "accuracy                   0.221101\n",
       "balanced accuracy          0.541309\n",
       "f1                         0.242523\n",
       "precision                  0.138545\n",
       "false positive rate        0.889402\n",
       "false negative rate        0.027981\n",
       "selection rate             0.900000\n",
       "count                  89710.000000\n",
       "dtype: float64"
      ]
     },
     "execution_count": 74,
     "metadata": {},
     "output_type": "execute_result"
    }
   ],
   "source": [
    "metric_frame.overall"
   ]
  },
  {
   "cell_type": "markdown",
   "id": "e968fe9d",
   "metadata": {
    "papermill": {
     "duration": 0.028352,
     "end_time": "2025-07-30T14:22:29.313033",
     "exception": false,
     "start_time": "2025-07-30T14:22:29.284681",
     "status": "completed"
    },
    "tags": []
   },
   "source": [
    "By Group"
   ]
  },
  {
   "cell_type": "code",
   "execution_count": 75,
   "id": "ec325bce",
   "metadata": {
    "execution": {
     "iopub.execute_input": "2025-07-30T14:22:29.373119Z",
     "iopub.status.busy": "2025-07-30T14:22:29.372630Z",
     "iopub.status.idle": "2025-07-30T14:22:29.389953Z",
     "shell.execute_reply": "2025-07-30T14:22:29.388968Z"
    },
    "papermill": {
     "duration": 0.049102,
     "end_time": "2025-07-30T14:22:29.391565",
     "exception": false,
     "start_time": "2025-07-30T14:22:29.342463",
     "status": "completed"
    },
    "tags": []
   },
   "outputs": [
    {
     "data": {
      "text/html": [
       "<div>\n",
       "<style scoped>\n",
       "    .dataframe tbody tr th:only-of-type {\n",
       "        vertical-align: middle;\n",
       "    }\n",
       "\n",
       "    .dataframe tbody tr th {\n",
       "        vertical-align: top;\n",
       "    }\n",
       "\n",
       "    .dataframe thead th {\n",
       "        text-align: right;\n",
       "    }\n",
       "</style>\n",
       "<table border=\"1\" class=\"dataframe\">\n",
       "  <thead>\n",
       "    <tr style=\"text-align: right;\">\n",
       "      <th></th>\n",
       "      <th>accuracy</th>\n",
       "      <th>balanced accuracy</th>\n",
       "      <th>f1</th>\n",
       "      <th>precision</th>\n",
       "      <th>false positive rate</th>\n",
       "      <th>false negative rate</th>\n",
       "      <th>selection rate</th>\n",
       "      <th>count</th>\n",
       "    </tr>\n",
       "    <tr>\n",
       "      <th>majmin</th>\n",
       "      <th></th>\n",
       "      <th></th>\n",
       "      <th></th>\n",
       "      <th></th>\n",
       "      <th></th>\n",
       "      <th></th>\n",
       "      <th></th>\n",
       "      <th></th>\n",
       "    </tr>\n",
       "  </thead>\n",
       "  <tbody>\n",
       "    <tr>\n",
       "      <th>majority</th>\n",
       "      <td>0.240379</td>\n",
       "      <td>0.549097</td>\n",
       "      <td>0.252068</td>\n",
       "      <td>0.144884</td>\n",
       "      <td>0.870515</td>\n",
       "      <td>0.031291</td>\n",
       "      <td>0.883490</td>\n",
       "      <td>69170.0</td>\n",
       "    </tr>\n",
       "    <tr>\n",
       "      <th>minority</th>\n",
       "      <td>0.156183</td>\n",
       "      <td>0.516502</td>\n",
       "      <td>0.212039</td>\n",
       "      <td>0.118810</td>\n",
       "      <td>0.951794</td>\n",
       "      <td>0.015203</td>\n",
       "      <td>0.955599</td>\n",
       "      <td>20540.0</td>\n",
       "    </tr>\n",
       "  </tbody>\n",
       "</table>\n",
       "</div>"
      ],
      "text/plain": [
       "          accuracy  balanced accuracy        f1  precision  \\\n",
       "majmin                                                       \n",
       "majority  0.240379           0.549097  0.252068   0.144884   \n",
       "minority  0.156183           0.516502  0.212039   0.118810   \n",
       "\n",
       "          false positive rate  false negative rate  selection rate    count  \n",
       "majmin                                                                       \n",
       "majority             0.870515             0.031291        0.883490  69170.0  \n",
       "minority             0.951794             0.015203        0.955599  20540.0  "
      ]
     },
     "execution_count": 75,
     "metadata": {},
     "output_type": "execute_result"
    }
   ],
   "source": [
    "metric_frame.by_group"
   ]
  },
  {
   "cell_type": "code",
   "execution_count": 76,
   "id": "a9ddbe63",
   "metadata": {
    "execution": {
     "iopub.execute_input": "2025-07-30T14:22:29.450967Z",
     "iopub.status.busy": "2025-07-30T14:22:29.450449Z",
     "iopub.status.idle": "2025-07-30T14:22:31.781236Z",
     "shell.execute_reply": "2025-07-30T14:22:31.779985Z"
    },
    "papermill": {
     "duration": 2.361897,
     "end_time": "2025-07-30T14:22:31.782829",
     "exception": false,
     "start_time": "2025-07-30T14:22:29.420932",
     "status": "completed"
    },
    "tags": []
   },
   "outputs": [
    {
     "data": {
      "text/plain": [
       "array([[<Axes: title={'center': 'accuracy'}, xlabel='majmin'>,\n",
       "        <Axes: title={'center': 'balanced accuracy'}, xlabel='majmin'>,\n",
       "        <Axes: title={'center': 'f1'}, xlabel='majmin'>],\n",
       "       [<Axes: title={'center': 'precision'}, xlabel='majmin'>,\n",
       "        <Axes: title={'center': 'false positive rate'}, xlabel='majmin'>,\n",
       "        <Axes: title={'center': 'false negative rate'}, xlabel='majmin'>],\n",
       "       [<Axes: title={'center': 'selection rate'}, xlabel='majmin'>,\n",
       "        <Axes: title={'center': 'count'}, xlabel='majmin'>,\n",
       "        <Axes: xlabel='majmin'>]], dtype=object)"
      ]
     },
     "execution_count": 76,
     "metadata": {},
     "output_type": "execute_result"
    },
    {
     "data": {
      "image/png": "[encoded data removed]",
      "text/plain": [
       "<Figure size 1200x800 with 9 Axes>"
      ]
     },
     "metadata": {},
     "output_type": "display_data"
    }
   ],
   "source": [
    "# In a graphic\n",
    "metric_frame.by_group.plot.bar(\n",
    "    subplots=True,\n",
    "    layout=[3, 3],\n",
    "    legend=False,\n",
    "    figsize=[12, 8],\n",
    "    title=\"Show all metrics\",\n",
    ")"
   ]
  },
  {
   "cell_type": "markdown",
   "id": "f57a0bac",
   "metadata": {
    "papermill": {
     "duration": 0.020428,
     "end_time": "2025-07-30T14:22:31.821884",
     "exception": false,
     "start_time": "2025-07-30T14:22:31.801456",
     "status": "completed"
    },
    "tags": []
   },
   "source": [
    "# Final Output"
   ]
  },
  {
   "cell_type": "code",
   "execution_count": 77,
   "id": "96d280a3",
   "metadata": {
    "execution": {
     "iopub.execute_input": "2025-07-30T14:22:31.873674Z",
     "iopub.status.busy": "2025-07-30T14:22:31.872993Z",
     "iopub.status.idle": "2025-07-30T14:22:31.881851Z",
     "shell.execute_reply": "2025-07-30T14:22:31.880847Z"
    },
    "papermill": {
     "duration": 0.04415,
     "end_time": "2025-07-30T14:22:31.884288",
     "exception": false,
     "start_time": "2025-07-30T14:22:31.840138",
     "status": "completed"
    },
    "tags": []
   },
   "outputs": [
    {
     "data": {
      "text/plain": [
       "4"
      ]
     },
     "execution_count": 77,
     "metadata": {},
     "output_type": "execute_result"
    }
   ],
   "source": [
    "sub_universes = universe_analysis.generate_sub_universes()\n",
    "len(sub_universes)"
   ]
  },
  {
   "cell_type": "code",
   "execution_count": 78,
   "id": "92adf7ba",
   "metadata": {
    "execution": {
     "iopub.execute_input": "2025-07-30T14:22:31.949524Z",
     "iopub.status.busy": "2025-07-30T14:22:31.948798Z",
     "iopub.status.idle": "2025-07-30T14:22:31.956162Z",
     "shell.execute_reply": "2025-07-30T14:22:31.955186Z"
    },
    "papermill": {
     "duration": 0.041675,
     "end_time": "2025-07-30T14:22:31.957977",
     "exception": false,
     "start_time": "2025-07-30T14:22:31.916302",
     "status": "completed"
    },
    "tags": []
   },
   "outputs": [],
   "source": [
    "def filter_sub_universe_data(sub_universe, org_test):\n",
    "    # Keep all rows — no filtering\n",
    "    keep_rows_mask = np.ones(org_test.shape[0], dtype=bool)\n",
    "\n",
    "    print(f\"[INFO] Keeping all rows: {keep_rows_mask.sum()} rows retained.\")\n",
    "    return keep_rows_mask"
   ]
  },
  {
   "cell_type": "code",
   "execution_count": 79,
   "id": "4a759155",
   "metadata": {
    "execution": {
     "iopub.execute_input": "2025-07-30T14:22:32.024859Z",
     "iopub.status.busy": "2025-07-30T14:22:32.023867Z",
     "iopub.status.idle": "2025-07-30T14:22:42.455546Z",
     "shell.execute_reply": "2025-07-30T14:22:42.454393Z"
    },
    "papermill": {
     "duration": 10.4672,
     "end_time": "2025-07-30T14:22:42.457424",
     "exception": false,
     "start_time": "2025-07-30T14:22:31.990224",
     "status": "completed"
    },
    "tags": []
   },
   "outputs": [
    {
     "name": "stdout",
     "output_type": "stream",
     "text": [
      "Stopping execution_time clock.\n",
      "[INFO] Keeping all rows: 89710 rows retained.\n"
     ]
    },
    {
     "name": "stdout",
     "output_type": "stream",
     "text": [
      "[INFO] Keeping all rows: 89710 rows retained.\n"
     ]
    },
    {
     "name": "stdout",
     "output_type": "stream",
     "text": [
      "[INFO] Keeping all rows: 89710 rows retained.\n"
     ]
    },
    {
     "name": "stdout",
     "output_type": "stream",
     "text": [
      "[INFO] Keeping all rows: 89710 rows retained.\n"
     ]
    },
    {
     "data": {
      "text/html": [
       "<div>\n",
       "<style scoped>\n",
       "    .dataframe tbody tr th:only-of-type {\n",
       "        vertical-align: middle;\n",
       "    }\n",
       "\n",
       "    .dataframe tbody tr th {\n",
       "        vertical-align: top;\n",
       "    }\n",
       "\n",
       "    .dataframe thead th {\n",
       "        text-align: right;\n",
       "    }\n",
       "</style>\n",
       "<table border=\"1\" class=\"dataframe\">\n",
       "  <thead>\n",
       "    <tr style=\"text-align: right;\">\n",
       "      <th></th>\n",
       "      <th>run_no</th>\n",
       "      <th>universe_id</th>\n",
       "      <th>universe_settings</th>\n",
       "      <th>execution_time</th>\n",
       "      <th>test_size_n</th>\n",
       "      <th>test_size_frac</th>\n",
       "      <th>fair_main_equalized_odds_difference</th>\n",
       "      <th>fair_main_equalized_odds_ratio</th>\n",
       "      <th>fair_main_demographic_parity_difference</th>\n",
       "      <th>fair_main_demographic_parity_ratio</th>\n",
       "      <th>...</th>\n",
       "      <th>perf_grp_precision_0</th>\n",
       "      <th>perf_grp_precision_1</th>\n",
       "      <th>perf_grp_false positive rate_0</th>\n",
       "      <th>perf_grp_false positive rate_1</th>\n",
       "      <th>perf_grp_false negative rate_0</th>\n",
       "      <th>perf_grp_false negative rate_1</th>\n",
       "      <th>perf_grp_selection rate_0</th>\n",
       "      <th>perf_grp_selection rate_1</th>\n",
       "      <th>perf_grp_count_0</th>\n",
       "      <th>perf_grp_count_1</th>\n",
       "    </tr>\n",
       "  </thead>\n",
       "  <tbody>\n",
       "    <tr>\n",
       "      <th>0</th>\n",
       "      <td>12</td>\n",
       "      <td>68084ed931fa51aa4436dfa868b8e460</td>\n",
       "      <td>{\"cutoff\": \"quantile_0.1\", \"eval_fairness_grou...</td>\n",
       "      <td>31.634923</td>\n",
       "      <td>89710</td>\n",
       "      <td>1.0</td>\n",
       "      <td>0.081279</td>\n",
       "      <td>0.914604</td>\n",
       "      <td>0.072109</td>\n",
       "      <td>0.924541</td>\n",
       "      <td>...</td>\n",
       "      <td>NaN</td>\n",
       "      <td>NaN</td>\n",
       "      <td>NaN</td>\n",
       "      <td>NaN</td>\n",
       "      <td>NaN</td>\n",
       "      <td>NaN</td>\n",
       "      <td>NaN</td>\n",
       "      <td>NaN</td>\n",
       "      <td>NaN</td>\n",
       "      <td>NaN</td>\n",
       "    </tr>\n",
       "    <tr>\n",
       "      <th>0</th>\n",
       "      <td>12</td>\n",
       "      <td>68084ed931fa51aa4436dfa868b8e460</td>\n",
       "      <td>{\"cutoff\": \"quantile_0.1\", \"eval_fairness_grou...</td>\n",
       "      <td>31.634923</td>\n",
       "      <td>89710</td>\n",
       "      <td>1.0</td>\n",
       "      <td>0.081279</td>\n",
       "      <td>0.914604</td>\n",
       "      <td>0.072109</td>\n",
       "      <td>0.924541</td>\n",
       "      <td>...</td>\n",
       "      <td>0.118810</td>\n",
       "      <td>0.144884</td>\n",
       "      <td>0.951794</td>\n",
       "      <td>0.870515</td>\n",
       "      <td>0.015203</td>\n",
       "      <td>0.031291</td>\n",
       "      <td>0.955599</td>\n",
       "      <td>0.883490</td>\n",
       "      <td>20540.0</td>\n",
       "      <td>69170.0</td>\n",
       "    </tr>\n",
       "    <tr>\n",
       "      <th>0</th>\n",
       "      <td>12</td>\n",
       "      <td>68084ed931fa51aa4436dfa868b8e460</td>\n",
       "      <td>{\"cutoff\": \"quantile_0.25\", \"eval_fairness_gro...</td>\n",
       "      <td>31.634923</td>\n",
       "      <td>89710</td>\n",
       "      <td>1.0</td>\n",
       "      <td>0.177368</td>\n",
       "      <td>0.794640</td>\n",
       "      <td>0.158247</td>\n",
       "      <td>0.818809</td>\n",
       "      <td>...</td>\n",
       "      <td>NaN</td>\n",
       "      <td>NaN</td>\n",
       "      <td>NaN</td>\n",
       "      <td>NaN</td>\n",
       "      <td>NaN</td>\n",
       "      <td>NaN</td>\n",
       "      <td>NaN</td>\n",
       "      <td>NaN</td>\n",
       "      <td>NaN</td>\n",
       "      <td>NaN</td>\n",
       "    </tr>\n",
       "    <tr>\n",
       "      <th>0</th>\n",
       "      <td>12</td>\n",
       "      <td>68084ed931fa51aa4436dfa868b8e460</td>\n",
       "      <td>{\"cutoff\": \"quantile_0.25\", \"eval_fairness_gro...</td>\n",
       "      <td>31.634923</td>\n",
       "      <td>89710</td>\n",
       "      <td>1.0</td>\n",
       "      <td>0.177368</td>\n",
       "      <td>0.794640</td>\n",
       "      <td>0.158247</td>\n",
       "      <td>0.818809</td>\n",
       "      <td>...</td>\n",
       "      <td>0.125091</td>\n",
       "      <td>0.167088</td>\n",
       "      <td>0.863691</td>\n",
       "      <td>0.686324</td>\n",
       "      <td>0.052365</td>\n",
       "      <td>0.095733</td>\n",
       "      <td>0.873369</td>\n",
       "      <td>0.715122</td>\n",
       "      <td>20540.0</td>\n",
       "      <td>69170.0</td>\n",
       "    </tr>\n",
       "  </tbody>\n",
       "</table>\n",
       "<p>4 rows × 50 columns</p>\n",
       "</div>"
      ],
      "text/plain": [
       "  run_no                       universe_id  \\\n",
       "0     12  68084ed931fa51aa4436dfa868b8e460   \n",
       "0     12  68084ed931fa51aa4436dfa868b8e460   \n",
       "0     12  68084ed931fa51aa4436dfa868b8e460   \n",
       "0     12  68084ed931fa51aa4436dfa868b8e460   \n",
       "\n",
       "                                   universe_settings  execution_time  \\\n",
       "0  {\"cutoff\": \"quantile_0.1\", \"eval_fairness_grou...       31.634923   \n",
       "0  {\"cutoff\": \"quantile_0.1\", \"eval_fairness_grou...       31.634923   \n",
       "0  {\"cutoff\": \"quantile_0.25\", \"eval_fairness_gro...       31.634923   \n",
       "0  {\"cutoff\": \"quantile_0.25\", \"eval_fairness_gro...       31.634923   \n",
       "\n",
       "   test_size_n  test_size_frac  fair_main_equalized_odds_difference  \\\n",
       "0        89710             1.0                             0.081279   \n",
       "0        89710             1.0                             0.081279   \n",
       "0        89710             1.0                             0.177368   \n",
       "0        89710             1.0                             0.177368   \n",
       "\n",
       "   fair_main_equalized_odds_ratio  fair_main_demographic_parity_difference  \\\n",
       "0                        0.914604                                 0.072109   \n",
       "0                        0.914604                                 0.072109   \n",
       "0                        0.794640                                 0.158247   \n",
       "0                        0.794640                                 0.158247   \n",
       "\n",
       "   fair_main_demographic_parity_ratio  ...  perf_grp_precision_0  \\\n",
       "0                            0.924541  ...                   NaN   \n",
       "0                            0.924541  ...              0.118810   \n",
       "0                            0.818809  ...                   NaN   \n",
       "0                            0.818809  ...              0.125091   \n",
       "\n",
       "   perf_grp_precision_1  perf_grp_false positive rate_0  \\\n",
       "0                   NaN                             NaN   \n",
       "0              0.144884                        0.951794   \n",
       "0                   NaN                             NaN   \n",
       "0              0.167088                        0.863691   \n",
       "\n",
       "   perf_grp_false positive rate_1  perf_grp_false negative rate_0  \\\n",
       "0                             NaN                             NaN   \n",
       "0                        0.870515                        0.015203   \n",
       "0                             NaN                             NaN   \n",
       "0                        0.686324                        0.052365   \n",
       "\n",
       "   perf_grp_false negative rate_1  perf_grp_selection rate_0  \\\n",
       "0                             NaN                        NaN   \n",
       "0                        0.031291                   0.955599   \n",
       "0                             NaN                        NaN   \n",
       "0                        0.095733                   0.873369   \n",
       "\n",
       "   perf_grp_selection rate_1  perf_grp_count_0  perf_grp_count_1  \n",
       "0                        NaN               NaN               NaN  \n",
       "0                   0.883490           20540.0           69170.0  \n",
       "0                        NaN               NaN               NaN  \n",
       "0                   0.715122           20540.0           69170.0  \n",
       "\n",
       "[4 rows x 50 columns]"
      ]
     },
     "execution_count": 79,
     "metadata": {},
     "output_type": "execute_result"
    }
   ],
   "source": [
    "final_output = universe_analysis.generate_final_output(\n",
    "    y_pred_prob=probs_test,\n",
    "    y_test=y_true,\n",
    "    org_test=org_test,\n",
    "    filter_data=filter_sub_universe_data,\n",
    "    cp_metrics_df=cp_metrics_df,\n",
    "    save=True,\n",
    ")\n",
    "final_output"
   ]
  },
  {
   "cell_type": "code",
   "execution_count": null,
   "id": "721ff514-cb11-46f8-b6fc-50392f74b5cb",
   "metadata": {
    "papermill": {
     "duration": 0.028349,
     "end_time": "2025-07-30T14:22:42.516954",
     "exception": false,
     "start_time": "2025-07-30T14:22:42.488605",
     "status": "completed"
    },
    "tags": []
   },
   "outputs": [],
   "source": []
  }
 ],
 "metadata": {
  "celltoolbar": "Tags",
  "kernelspec": {
   "display_name": "Python (CMA Fairness)",
   "language": "python",
   "name": "cma_fair_env"
  },
  "language_info": {
   "codemirror_mode": {
    "name": "ipython",
    "version": 3
   },
   "file_extension": ".py",
   "mimetype": "text/x-python",
   "name": "python",
   "nbconvert_exporter": "python",
   "pygments_lexer": "ipython3",
   "version": "3.10.12"
  },
  "papermill": {
   "default_parameters": {},
   "duration": 46.11851,
   "end_time": "2025-07-30T14:22:43.362767",
   "environment_variables": {},
   "exception": null,
   "input_path": "universe_analysis.ipynb",
   "output_path": "output/runs/12/notebooks/m_12-68084ed931fa51aa4436dfa868b8e460.ipynb",
   "parameters": {
    "output_dir": "output",
    "run_no": "12",
    "seed": "2023",
    "universe": "{\"cutoff\": [\"quantile_0.1\", \"quantile_0.25\"], \"eval_fairness_grouping\": [\"majority-minority\", \"nationality-all\"], \"exclude_features\": \"none\", \"exclude_subgroups\": \"drop-non-german\", \"model\": \"gbm\", \"scale\": \"scale\", \"training_size\": \"1k\", \"training_year\": \"2014\"}",
    "universe_id": "68084ed931fa51aa4436dfa868b8e460"
   },
   "start_time": "2025-07-30T14:21:57.244257",
   "version": "2.6.0"
  }
 },
 "nbformat": 4,
 "nbformat_minor": 5
}