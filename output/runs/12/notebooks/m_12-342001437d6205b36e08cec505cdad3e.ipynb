{
 "cells": [
  {
   "cell_type": "code",
   "execution_count": 1,
   "id": "f159f837-637b-42ba-96b5-ec9a68c44524",
   "metadata": {
    "execution": {
     "iopub.execute_input": "2025-07-30T12:52:51.145823Z",
     "iopub.status.busy": "2025-07-30T12:52:51.145363Z",
     "iopub.status.idle": "2025-07-30T12:52:51.158773Z",
     "shell.execute_reply": "2025-07-30T12:52:51.157815Z"
    },
    "papermill": {
     "duration": 0.036912,
     "end_time": "2025-07-30T12:52:51.160606",
     "exception": false,
     "start_time": "2025-07-30T12:52:51.123694",
     "status": "completed"
    },
    "tags": []
   },
   "outputs": [
    {
     "name": "stdout",
     "output_type": "stream",
     "text": [
      "/dss/dsshome1/0C/ra93lal2/cma/CMA_Fairness_v2\n"
     ]
    },
    {
     "name": "stderr",
     "output_type": "stream",
     "text": [
      "/dss/dsshome1/0C/ra93lal2/.local/share/virtualenvs/CMA_Fairness_v2-3j10GkSs/lib/python3.10/site-packages/IPython/core/magics/osm.py:393: UserWarning: This is now an optional IPython functionality, using bookmarks requires you to install the `pickleshare` library.\n",
      "  bkms = self.shell.db.get('bookmarks', {})\n",
      "/dss/dsshome1/0C/ra93lal2/.local/share/virtualenvs/CMA_Fairness_v2-3j10GkSs/lib/python3.10/site-packages/IPython/core/magics/osm.py:417: UserWarning: This is now an optional IPython functionality, setting dhist requires you to install the `pickleshare` library.\n",
      "  self.shell.db['dhist'] = compress_dhist(dhist)[-100:]\n"
     ]
    }
   ],
   "source": [
    "%cd ~/cma/CMA_Fairness_v2"
   ]
  },
  {
   "cell_type": "markdown",
   "id": "de2603b9",
   "metadata": {
    "papermill": {
     "duration": 0.020768,
     "end_time": "2025-07-30T12:52:51.202643",
     "exception": false,
     "start_time": "2025-07-30T12:52:51.181875",
     "status": "completed"
    },
    "tags": []
   },
   "source": [
    "The following cell holds the definition of our parameters, these values can be overriden by rendering the with e.g. the following command:\n",
    "\n",
    "papermill -p alpha 0.2 -p ratio 0.3 universe_analysis.ipynb output/test_run.ipynb"
   ]
  },
  {
   "cell_type": "code",
   "execution_count": 2,
   "id": "a80968a0-40bb-4fa9-85ef-2d5eefb01975",
   "metadata": {
    "execution": {
     "iopub.execute_input": "2025-07-30T12:52:51.245851Z",
     "iopub.status.busy": "2025-07-30T12:52:51.245343Z",
     "iopub.status.idle": "2025-07-30T12:52:51.251351Z",
     "shell.execute_reply": "2025-07-30T12:52:51.250325Z"
    },
    "papermill": {
     "duration": 0.029779,
     "end_time": "2025-07-30T12:52:51.253074",
     "exception": false,
     "start_time": "2025-07-30T12:52:51.223295",
     "status": "completed"
    },
    "tags": []
   },
   "outputs": [
    {
     "name": "stdout",
     "output_type": "stream",
     "text": [
      "Current working directory: /dss/dsshome1/0C/ra93lal2/cma/CMA_Fairness_v2\n"
     ]
    }
   ],
   "source": [
    "import os\n",
    "print(\"Current working directory:\", os.getcwd())"
   ]
  },
  {
   "cell_type": "code",
   "execution_count": 3,
   "id": "2dce4c03",
   "metadata": {
    "execution": {
     "iopub.execute_input": "2025-07-30T12:52:51.296270Z",
     "iopub.status.busy": "2025-07-30T12:52:51.295873Z",
     "iopub.status.idle": "2025-07-30T12:52:51.302604Z",
     "shell.execute_reply": "2025-07-30T12:52:51.301573Z"
    },
    "papermill": {
     "duration": 0.03003,
     "end_time": "2025-07-30T12:52:51.304362",
     "exception": false,
     "start_time": "2025-07-30T12:52:51.274332",
     "status": "completed"
    },
    "tags": [
     "parameters"
    ]
   },
   "outputs": [],
   "source": [
    "run_no = 0\n",
    "universe_id = \"test\"\n",
    "universe = {\n",
    "    \"training_size\": \"25k\", # \"25k\", \"5k\", \"1k\"\n",
    "    \"training_year\": \"2014\", # \"2014\", \"2012_14\", \"2010_14\"\n",
    "    \"scale\": \"scale\", # \"scale\", \"do-not-scale\",\n",
    "    #\"stratify_split\": \"target\", # \"none\", \"target\", \"protected-attribute\", \"both\",\n",
    "    \"model\": \"elasticnet\", # \"logreg\", \"penalized_logreg\", \"rf\", \"gbm\", \"elasticnet\"\n",
    "    \"cutoff\": [\"quantile_0.15\", \"quantile_0.30\"],\n",
    "    \"exclude_features\": \"age\", # \"none\", \"nationality\", \"sex\", \"nationality-sex\", \"age\"\n",
    "    \"exclude_subgroups\": \"keep-all\", # \"keep-all\", \"drop-non-german\"\n",
    "    \"eval_fairness_grouping\": [\"majority-minority\", \"nationality-all\"]\n",
    "}\n",
    "\n",
    "output_dir=\"./output\"\n",
    "seed=0"
   ]
  },
  {
   "cell_type": "code",
   "execution_count": 4,
   "id": "1a76975e",
   "metadata": {
    "execution": {
     "iopub.execute_input": "2025-07-30T12:52:51.348069Z",
     "iopub.status.busy": "2025-07-30T12:52:51.347379Z",
     "iopub.status.idle": "2025-07-30T12:52:51.352771Z",
     "shell.execute_reply": "2025-07-30T12:52:51.351783Z"
    },
    "papermill": {
     "duration": 0.028801,
     "end_time": "2025-07-30T12:52:51.354486",
     "exception": false,
     "start_time": "2025-07-30T12:52:51.325685",
     "status": "completed"
    },
    "tags": [
     "injected-parameters"
    ]
   },
   "outputs": [],
   "source": [
    "# Parameters\n",
    "universe_id = \"342001437d6205b36e08cec505cdad3e\"\n",
    "run_no = \"12\"\n",
    "universe = \"{\\\"cutoff\\\": [\\\"quantile_0.1\\\", \\\"quantile_0.25\\\"], \\\"eval_fairness_grouping\\\": [\\\"majority-minority\\\", \\\"nationality-all\\\"], \\\"exclude_features\\\": \\\"sex\\\", \\\"exclude_subgroups\\\": \\\"keep-all\\\", \\\"model\\\": \\\"logreg\\\", \\\"scale\\\": \\\"do-not-scale\\\", \\\"training_size\\\": \\\"25k\\\", \\\"training_year\\\": \\\"2014\\\"}\"\n",
    "output_dir = \"output\"\n",
    "seed = \"2023\"\n"
   ]
  },
  {
   "cell_type": "code",
   "execution_count": 5,
   "id": "1650acaf",
   "metadata": {
    "execution": {
     "iopub.execute_input": "2025-07-30T12:52:51.399162Z",
     "iopub.status.busy": "2025-07-30T12:52:51.398447Z",
     "iopub.status.idle": "2025-07-30T12:52:51.403971Z",
     "shell.execute_reply": "2025-07-30T12:52:51.402988Z"
    },
    "papermill": {
     "duration": 0.029508,
     "end_time": "2025-07-30T12:52:51.405984",
     "exception": false,
     "start_time": "2025-07-30T12:52:51.376476",
     "status": "completed"
    },
    "tags": []
   },
   "outputs": [],
   "source": [
    "import json\n",
    "# Parse universe into dict if it is passed as a string\n",
    "if isinstance(universe, str):\n",
    "    universe = json.loads(universe)"
   ]
  },
  {
   "cell_type": "code",
   "execution_count": 6,
   "id": "16620c48",
   "metadata": {
    "execution": {
     "iopub.execute_input": "2025-07-30T12:52:51.451778Z",
     "iopub.status.busy": "2025-07-30T12:52:51.451302Z",
     "iopub.status.idle": "2025-07-30T12:52:51.498515Z",
     "shell.execute_reply": "2025-07-30T12:52:51.497629Z"
    },
    "papermill": {
     "duration": 0.070523,
     "end_time": "2025-07-30T12:52:51.500392",
     "exception": false,
     "start_time": "2025-07-30T12:52:51.429869",
     "status": "completed"
    },
    "tags": []
   },
   "outputs": [],
   "source": [
    "# Auto-reload the custom package\n",
    "%load_ext autoreload\n",
    "%autoreload 1\n",
    "%aimport fairness_multiverse"
   ]
  },
  {
   "cell_type": "code",
   "execution_count": 7,
   "id": "01c5c9f3",
   "metadata": {
    "execution": {
     "iopub.execute_input": "2025-07-30T12:52:51.542966Z",
     "iopub.status.busy": "2025-07-30T12:52:51.541980Z",
     "iopub.status.idle": "2025-07-30T12:52:53.514410Z",
     "shell.execute_reply": "2025-07-30T12:52:53.513333Z"
    },
    "papermill": {
     "duration": 1.995974,
     "end_time": "2025-07-30T12:52:53.516404",
     "exception": false,
     "start_time": "2025-07-30T12:52:51.520430",
     "status": "completed"
    },
    "tags": []
   },
   "outputs": [],
   "source": [
    "from fairness_multiverse.universe import UniverseAnalysis\n",
    "\n",
    "universe_analysis = UniverseAnalysis(\n",
    "    run_no = run_no,\n",
    "    universe_id = universe_id,\n",
    "    universe = universe,\n",
    "    output_dir=output_dir,\n",
    ")"
   ]
  },
  {
   "cell_type": "code",
   "execution_count": 8,
   "id": "106241f5",
   "metadata": {
    "execution": {
     "iopub.execute_input": "2025-07-30T12:52:53.558821Z",
     "iopub.status.busy": "2025-07-30T12:52:53.558334Z",
     "iopub.status.idle": "2025-07-30T12:52:53.565041Z",
     "shell.execute_reply": "2025-07-30T12:52:53.564070Z"
    },
    "papermill": {
     "duration": 0.029233,
     "end_time": "2025-07-30T12:52:53.566712",
     "exception": false,
     "start_time": "2025-07-30T12:52:53.537479",
     "status": "completed"
    },
    "tags": []
   },
   "outputs": [
    {
     "name": "stdout",
     "output_type": "stream",
     "text": [
      "Using Seed: 2023\n"
     ]
    }
   ],
   "source": [
    "import numpy as np\n",
    "parsed_seed = int(seed)\n",
    "np.random.seed(parsed_seed)\n",
    "print(f\"Using Seed: {parsed_seed}\")"
   ]
  },
  {
   "cell_type": "markdown",
   "id": "e0ebdc57",
   "metadata": {
    "papermill": {
     "duration": 0.021381,
     "end_time": "2025-07-30T12:52:53.610438",
     "exception": false,
     "start_time": "2025-07-30T12:52:53.589057",
     "status": "completed"
    },
    "tags": []
   },
   "source": [
    "# Loading Data"
   ]
  },
  {
   "cell_type": "markdown",
   "id": "681925a3",
   "metadata": {
    "papermill": {
     "duration": 0.02195,
     "end_time": "2025-07-30T12:52:53.654111",
     "exception": false,
     "start_time": "2025-07-30T12:52:53.632161",
     "status": "completed"
    },
    "tags": []
   },
   "source": [
    "Load siab_train, siab_test, siab_calib and/or \n",
    "load siab_train_features, siab_train_labels"
   ]
  },
  {
   "cell_type": "code",
   "execution_count": 9,
   "id": "f0496b8a",
   "metadata": {
    "execution": {
     "iopub.execute_input": "2025-07-30T12:52:53.699760Z",
     "iopub.status.busy": "2025-07-30T12:52:53.698851Z",
     "iopub.status.idle": "2025-07-30T12:53:06.751922Z",
     "shell.execute_reply": "2025-07-30T12:53:06.750888Z"
    },
    "papermill": {
     "duration": 13.077204,
     "end_time": "2025-07-30T12:53:06.753426",
     "exception": false,
     "start_time": "2025-07-30T12:52:53.676222",
     "status": "completed"
    },
    "tags": []
   },
   "outputs": [
    {
     "name": "stdout",
     "output_type": "stream",
     "text": [
      "Loading SIAB data from cache: data/siab_cached.csv.gz\n"
     ]
    },
    {
     "name": "stdout",
     "output_type": "stream",
     "text": [
      "(643690, 164)\n"
     ]
    }
   ],
   "source": [
    "from pathlib import Path\n",
    "import pandas as pd\n",
    "\n",
    "# File paths\n",
    "raw_file = Path(\"data/raw/siab.csv\")\n",
    "cache_file = Path(\"data/siab_cached.csv.gz\")\n",
    "\n",
    "# Ensure cache directory exists\n",
    "cache_file.parent.mkdir(parents=True, exist_ok=True)\n",
    "\n",
    "# Load with simple caching\n",
    "if cache_file.exists():\n",
    "    print(f\"Loading SIAB data from cache: {cache_file}\")\n",
    "    siab = pd.read_csv(cache_file, compression='gzip')\n",
    "else:\n",
    "    print(f\"Cache not found. Reading raw SIAB data: {raw_file}\")\n",
    "    siab = pd.read_csv(raw_file)\n",
    "    siab.to_csv(cache_file, index=False, compression='gzip')\n",
    "    print(f\"Cached SIAB data to: {cache_file}\")\n",
    "\n",
    "# Now use `siab` DataFrame as needed\n",
    "print(siab.shape)"
   ]
  },
  {
   "cell_type": "code",
   "execution_count": 10,
   "id": "db0ca512-5f53-4dba-abdb-a2888bca41ba",
   "metadata": {
    "execution": {
     "iopub.execute_input": "2025-07-30T12:53:06.783068Z",
     "iopub.status.busy": "2025-07-30T12:53:06.782548Z",
     "iopub.status.idle": "2025-07-30T12:53:06.787727Z",
     "shell.execute_reply": "2025-07-30T12:53:06.786812Z"
    },
    "papermill": {
     "duration": 0.020166,
     "end_time": "2025-07-30T12:53:06.789217",
     "exception": false,
     "start_time": "2025-07-30T12:53:06.769051",
     "status": "completed"
    },
    "tags": []
   },
   "outputs": [],
   "source": [
    "#siab"
   ]
  },
  {
   "cell_type": "code",
   "execution_count": 11,
   "id": "a0edb063",
   "metadata": {
    "execution": {
     "iopub.execute_input": "2025-07-30T12:53:06.818355Z",
     "iopub.status.busy": "2025-07-30T12:53:06.817830Z",
     "iopub.status.idle": "2025-07-30T12:53:06.822283Z",
     "shell.execute_reply": "2025-07-30T12:53:06.821390Z"
    },
    "papermill": {
     "duration": 0.019733,
     "end_time": "2025-07-30T12:53:06.824474",
     "exception": false,
     "start_time": "2025-07-30T12:53:06.804741",
     "status": "completed"
    },
    "tags": []
   },
   "outputs": [],
   "source": [
    "#import pandas as pd\n",
    "#\n",
    "#X_train = pd.read_csv(\"./data/X_train.csv\")\n",
    "#y_train = pd.read_csv(\"./data/y_train.csv\")"
   ]
  },
  {
   "cell_type": "code",
   "execution_count": 12,
   "id": "63d08085",
   "metadata": {
    "execution": {
     "iopub.execute_input": "2025-07-30T12:53:06.889222Z",
     "iopub.status.busy": "2025-07-30T12:53:06.888755Z",
     "iopub.status.idle": "2025-07-30T12:53:06.893439Z",
     "shell.execute_reply": "2025-07-30T12:53:06.892344Z"
    },
    "papermill": {
     "duration": 0.029796,
     "end_time": "2025-07-30T12:53:06.895534",
     "exception": false,
     "start_time": "2025-07-30T12:53:06.865738",
     "status": "completed"
    },
    "tags": []
   },
   "outputs": [],
   "source": [
    "#X_test = pd.read_csv(\"./data/X_test.csv\")\n",
    "#y_true = pd.read_csv(\"./data/y_test.csv\")"
   ]
  },
  {
   "cell_type": "code",
   "execution_count": 13,
   "id": "98a8d0fa-1d3d-4ed8-bb2c-281470e24add",
   "metadata": {
    "execution": {
     "iopub.execute_input": "2025-07-30T12:53:06.945467Z",
     "iopub.status.busy": "2025-07-30T12:53:06.944869Z",
     "iopub.status.idle": "2025-07-30T12:53:06.954863Z",
     "shell.execute_reply": "2025-07-30T12:53:06.949458Z"
    },
    "papermill": {
     "duration": 0.036489,
     "end_time": "2025-07-30T12:53:06.957199",
     "exception": false,
     "start_time": "2025-07-30T12:53:06.920710",
     "status": "completed"
    },
    "tags": []
   },
   "outputs": [],
   "source": [
    "# Calibration data for conformal\n",
    "#X_calib = pd.read_csv(\"./data/X_calib.csv\")\n",
    "#y_calib = pd.read_csv(\"./data/y_calib.csv\")"
   ]
  },
  {
   "cell_type": "markdown",
   "id": "997051c5-15bd-4b69-9786-c3001a3ce484",
   "metadata": {
    "papermill": {
     "duration": 0.022785,
     "end_time": "2025-07-30T12:53:07.004092",
     "exception": false,
     "start_time": "2025-07-30T12:53:06.981307",
     "status": "completed"
    },
    "tags": []
   },
   "source": [
    "# Splitting Data and Setting Training Data Size"
   ]
  },
  {
   "cell_type": "code",
   "execution_count": 14,
   "id": "e993b61f-042d-41a6-8c81-f55681f86335",
   "metadata": {
    "execution": {
     "iopub.execute_input": "2025-07-30T12:53:07.048586Z",
     "iopub.status.busy": "2025-07-30T12:53:07.048050Z",
     "iopub.status.idle": "2025-07-30T12:53:07.062979Z",
     "shell.execute_reply": "2025-07-30T12:53:07.061888Z"
    },
    "papermill": {
     "duration": 0.041571,
     "end_time": "2025-07-30T12:53:07.065090",
     "exception": false,
     "start_time": "2025-07-30T12:53:07.023519",
     "status": "completed"
    },
    "tags": []
   },
   "outputs": [],
   "source": [
    "def sample_by_year_size(df,\n",
    "                        training_year: str,\n",
    "                        training_size: str,\n",
    "                        random_state: int = 42):\n",
    "    # --- parse training_year into a list of int years ---\n",
    "    if \"_\" in training_year:\n",
    "        start_str, end_str = training_year.split(\"_\", 1)\n",
    "        start = int(start_str)\n",
    "        end   = int(end_str) if len(end_str) == 4 else (int(end_str) + (start // 100)*100)\n",
    "        years = list(range(start, end + 1))\n",
    "    else:\n",
    "        years = [int(training_year)]\n",
    "\n",
    "    df = df[df[\"year\"].isin(years)].reset_index(drop=True)\n",
    "\n",
    "    # --- map training_size to total number of samples ---\n",
    "    total_map = {\"25k\": 25_000, \"5k\": 5_000, \"1k\": 1_000}\n",
    "    if training_size not in total_map:\n",
    "        return df  # e.g. \"all\"\n",
    "\n",
    "    total_samples = total_map[training_size]\n",
    "    n_years       = len(years)\n",
    "    base          = total_samples // n_years\n",
    "    remainder     = total_samples % n_years\n",
    "\n",
    "    # --- build a dict: year -> how many to sample ---\n",
    "    # give +1 to the first `remainder` years in ascending order\n",
    "    quotas = {\n",
    "        year: base + (1 if idx < remainder else 0)\n",
    "        for idx, year in enumerate(sorted(years))\n",
    "    }\n",
    "\n",
    "    # --- sample per‐year according to the quota dict ---\n",
    "    sampled = (\n",
    "        df\n",
    "        .groupby(\"year\", group_keys=False)\n",
    "        .apply(lambda grp: grp.sample(\n",
    "            n=min(len(grp), quotas[grp.name]),\n",
    "            random_state=random_state))\n",
    "        .reset_index(drop=True)\n",
    "    )\n",
    "\n",
    "    return sampled"
   ]
  },
  {
   "cell_type": "code",
   "execution_count": 15,
   "id": "c0ccd338-0e02-41f3-a09d-f56f9266e3fb",
   "metadata": {
    "execution": {
     "iopub.execute_input": "2025-07-30T12:53:07.116240Z",
     "iopub.status.busy": "2025-07-30T12:53:07.115707Z",
     "iopub.status.idle": "2025-07-30T12:53:07.128448Z",
     "shell.execute_reply": "2025-07-30T12:53:07.127288Z"
    },
    "papermill": {
     "duration": 0.039724,
     "end_time": "2025-07-30T12:53:07.130419",
     "exception": false,
     "start_time": "2025-07-30T12:53:07.090695",
     "status": "completed"
    },
    "tags": []
   },
   "outputs": [
    {
     "data": {
      "text/plain": [
       "'25k'"
      ]
     },
     "execution_count": 15,
     "metadata": {},
     "output_type": "execute_result"
    }
   ],
   "source": [
    "universe[\"training_size\"]"
   ]
  },
  {
   "cell_type": "code",
   "execution_count": 16,
   "id": "ca707fd7-8047-4acd-bfa5-66248fbbf8e6",
   "metadata": {
    "execution": {
     "iopub.execute_input": "2025-07-30T12:53:07.183038Z",
     "iopub.status.busy": "2025-07-30T12:53:07.182411Z",
     "iopub.status.idle": "2025-07-30T12:53:07.192172Z",
     "shell.execute_reply": "2025-07-30T12:53:07.190793Z"
    },
    "papermill": {
     "duration": 0.037796,
     "end_time": "2025-07-30T12:53:07.194347",
     "exception": false,
     "start_time": "2025-07-30T12:53:07.156551",
     "status": "completed"
    },
    "tags": []
   },
   "outputs": [
    {
     "data": {
      "text/plain": [
       "'2014'"
      ]
     },
     "execution_count": 16,
     "metadata": {},
     "output_type": "execute_result"
    }
   ],
   "source": [
    "universe[\"training_year\"]"
   ]
  },
  {
   "cell_type": "code",
   "execution_count": 17,
   "id": "aea9c6ef-6f46-42c8-85eb-5a62025c1508",
   "metadata": {
    "execution": {
     "iopub.execute_input": "2025-07-30T12:53:07.239879Z",
     "iopub.status.busy": "2025-07-30T12:53:07.239147Z",
     "iopub.status.idle": "2025-07-30T12:53:07.538908Z",
     "shell.execute_reply": "2025-07-30T12:53:07.537879Z"
    },
    "papermill": {
     "duration": 0.322869,
     "end_time": "2025-07-30T12:53:07.540943",
     "exception": false,
     "start_time": "2025-07-30T12:53:07.218074",
     "status": "completed"
    },
    "tags": []
   },
   "outputs": [],
   "source": [
    "siab_train = sample_by_year_size(siab,\n",
    "                               training_year=universe[\"training_year\"],\n",
    "                               training_size=universe[\"training_size\"])"
   ]
  },
  {
   "cell_type": "code",
   "execution_count": 18,
   "id": "8d3afb32-789d-442c-8d5d-9f5aa8dd2eed",
   "metadata": {
    "execution": {
     "iopub.execute_input": "2025-07-30T12:53:07.591466Z",
     "iopub.status.busy": "2025-07-30T12:53:07.590938Z",
     "iopub.status.idle": "2025-07-30T12:53:07.599665Z",
     "shell.execute_reply": "2025-07-30T12:53:07.598565Z"
    },
    "papermill": {
     "duration": 0.036043,
     "end_time": "2025-07-30T12:53:07.601524",
     "exception": false,
     "start_time": "2025-07-30T12:53:07.565481",
     "status": "completed"
    },
    "tags": []
   },
   "outputs": [
    {
     "data": {
      "text/plain": [
       "(25000, 164)"
      ]
     },
     "execution_count": 18,
     "metadata": {},
     "output_type": "execute_result"
    }
   ],
   "source": [
    "siab_train.shape"
   ]
  },
  {
   "cell_type": "code",
   "execution_count": 19,
   "id": "d582db68-1a4c-47fb-84fc-08518dc1975a",
   "metadata": {
    "execution": {
     "iopub.execute_input": "2025-07-30T12:53:07.651486Z",
     "iopub.status.busy": "2025-07-30T12:53:07.650532Z",
     "iopub.status.idle": "2025-07-30T12:53:07.659930Z",
     "shell.execute_reply": "2025-07-30T12:53:07.659204Z"
    },
    "papermill": {
     "duration": 0.036233,
     "end_time": "2025-07-30T12:53:07.661835",
     "exception": false,
     "start_time": "2025-07-30T12:53:07.625602",
     "status": "completed"
    },
    "tags": []
   },
   "outputs": [
    {
     "data": {
      "text/plain": [
       "year\n",
       "2014    25000\n",
       "dtype: int64"
      ]
     },
     "metadata": {},
     "output_type": "display_data"
    }
   ],
   "source": [
    "display(siab_train.groupby(\"year\").size())"
   ]
  },
  {
   "cell_type": "code",
   "execution_count": 20,
   "id": "a561edb4-d032-42cb-8256-22eac1111c64",
   "metadata": {
    "execution": {
     "iopub.execute_input": "2025-07-30T12:53:07.705152Z",
     "iopub.status.busy": "2025-07-30T12:53:07.704677Z",
     "iopub.status.idle": "2025-07-30T12:53:07.954346Z",
     "shell.execute_reply": "2025-07-30T12:53:07.953368Z"
    },
    "papermill": {
     "duration": 0.275165,
     "end_time": "2025-07-30T12:53:07.956386",
     "exception": false,
     "start_time": "2025-07-30T12:53:07.681221",
     "status": "completed"
    },
    "tags": []
   },
   "outputs": [],
   "source": [
    "#siab_train = siab_s[siab_s.year < 2015]\n",
    "siab_calib = siab[siab.year == 2015]\n",
    "siab_test = siab[siab.year == 2016]"
   ]
  },
  {
   "cell_type": "code",
   "execution_count": 21,
   "id": "472de16f-c3db-4916-846b-1f0de9cf1746",
   "metadata": {
    "execution": {
     "iopub.execute_input": "2025-07-30T12:53:08.006931Z",
     "iopub.status.busy": "2025-07-30T12:53:08.006252Z",
     "iopub.status.idle": "2025-07-30T12:53:08.022105Z",
     "shell.execute_reply": "2025-07-30T12:53:08.021018Z"
    },
    "papermill": {
     "duration": 0.043475,
     "end_time": "2025-07-30T12:53:08.024207",
     "exception": false,
     "start_time": "2025-07-30T12:53:07.980732",
     "status": "completed"
    },
    "tags": []
   },
   "outputs": [],
   "source": [
    "X_train = siab_train.iloc[:,4:164]\n",
    "y_train = siab_train.iloc[:, [3]]"
   ]
  },
  {
   "cell_type": "code",
   "execution_count": 22,
   "id": "828c96af-f43a-4ed6-ba47-8ac73a47d56c",
   "metadata": {
    "execution": {
     "iopub.execute_input": "2025-07-30T12:53:08.075909Z",
     "iopub.status.busy": "2025-07-30T12:53:08.075292Z",
     "iopub.status.idle": "2025-07-30T12:53:08.129464Z",
     "shell.execute_reply": "2025-07-30T12:53:08.128085Z"
    },
    "papermill": {
     "duration": 0.083775,
     "end_time": "2025-07-30T12:53:08.133356",
     "exception": false,
     "start_time": "2025-07-30T12:53:08.049581",
     "status": "completed"
    },
    "tags": []
   },
   "outputs": [],
   "source": [
    "X_calib = siab_calib.iloc[:,4:164]\n",
    "y_calib = siab_calib.iloc[:, [3]]"
   ]
  },
  {
   "cell_type": "code",
   "execution_count": 23,
   "id": "c34be9c3-6bd6-476e-acd3-845840e303be",
   "metadata": {
    "execution": {
     "iopub.execute_input": "2025-07-30T12:53:08.183342Z",
     "iopub.status.busy": "2025-07-30T12:53:08.182362Z",
     "iopub.status.idle": "2025-07-30T12:53:08.246052Z",
     "shell.execute_reply": "2025-07-30T12:53:08.244555Z"
    },
    "papermill": {
     "duration": 0.089508,
     "end_time": "2025-07-30T12:53:08.248118",
     "exception": false,
     "start_time": "2025-07-30T12:53:08.158610",
     "status": "completed"
    },
    "tags": []
   },
   "outputs": [],
   "source": [
    "X_test = siab_test.iloc[:,4:164]\n",
    "y_true = siab_test.iloc[:, [3]]"
   ]
  },
  {
   "cell_type": "markdown",
   "id": "9901737e-04df-44f0-9100-f5ad144ed040",
   "metadata": {
    "papermill": {
     "duration": 0.023108,
     "end_time": "2025-07-30T12:53:08.297305",
     "exception": false,
     "start_time": "2025-07-30T12:53:08.274197",
     "status": "completed"
    },
    "tags": []
   },
   "source": [
    "# Splitting Data and Setting Training Data Size OLD VERSION"
   ]
  },
  {
   "cell_type": "code",
   "execution_count": 24,
   "id": "acbc8f7d-8fc8-4e86-8c59-5dcb0f58384b",
   "metadata": {
    "execution": {
     "iopub.execute_input": "2025-07-30T12:53:08.351915Z",
     "iopub.status.busy": "2025-07-30T12:53:08.351365Z",
     "iopub.status.idle": "2025-07-30T12:53:08.357511Z",
     "shell.execute_reply": "2025-07-30T12:53:08.356319Z"
    },
    "papermill": {
     "duration": 0.03588,
     "end_time": "2025-07-30T12:53:08.359724",
     "exception": false,
     "start_time": "2025-07-30T12:53:08.323844",
     "status": "completed"
    },
    "tags": []
   },
   "outputs": [],
   "source": [
    "#def sample_by_year(df, training_size, random_state=42):\n",
    "#    if training_size == \"2014\":\n",
    "#        return df[df[\"year\"] == 2014].reset_index(drop=True)\n",
    "#    \n",
    "#    size_map = {\n",
    "#        \"25k\": 5000,\n",
    "#        \"5k\": 1000,\n",
    "#        \"1k\": 200\n",
    "#    }\n",
    "#\n",
    "#    if training_size not in size_map:\n",
    "#        return df.reset_index(drop=True)  # use all data\n",
    "#\n",
    "#    n_per_year = size_map[training_size]\n",
    "#    grouped = df.groupby(\"year\")\n",
    "#    sampled = grouped.apply(lambda x: x.sample(n=min(n_per_year, len(x)), random_state=random_state))\n",
    "#    return sampled.reset_index(drop=True)"
   ]
  },
  {
   "cell_type": "code",
   "execution_count": 25,
   "id": "6d931f52-beaf-43ff-9e78-9d44a448d54e",
   "metadata": {
    "execution": {
     "iopub.execute_input": "2025-07-30T12:53:08.414441Z",
     "iopub.status.busy": "2025-07-30T12:53:08.413730Z",
     "iopub.status.idle": "2025-07-30T12:53:08.419178Z",
     "shell.execute_reply": "2025-07-30T12:53:08.418050Z"
    },
    "papermill": {
     "duration": 0.034573,
     "end_time": "2025-07-30T12:53:08.421239",
     "exception": false,
     "start_time": "2025-07-30T12:53:08.386666",
     "status": "completed"
    },
    "tags": []
   },
   "outputs": [],
   "source": [
    "#siab_s = sample_by_year(siab, universe[\"training_size\"])"
   ]
  },
  {
   "cell_type": "code",
   "execution_count": 26,
   "id": "5db0a40e-a4e2-4920-be85-b12ae061d70d",
   "metadata": {
    "execution": {
     "iopub.execute_input": "2025-07-30T12:53:08.475949Z",
     "iopub.status.busy": "2025-07-30T12:53:08.475267Z",
     "iopub.status.idle": "2025-07-30T12:53:08.480716Z",
     "shell.execute_reply": "2025-07-30T12:53:08.479593Z"
    },
    "papermill": {
     "duration": 0.034777,
     "end_time": "2025-07-30T12:53:08.482675",
     "exception": false,
     "start_time": "2025-07-30T12:53:08.447898",
     "status": "completed"
    },
    "tags": []
   },
   "outputs": [],
   "source": [
    "#display(siab_s.groupby(\"year\").size())"
   ]
  },
  {
   "cell_type": "code",
   "execution_count": 27,
   "id": "e6c733c5",
   "metadata": {
    "execution": {
     "iopub.execute_input": "2025-07-30T12:53:08.537718Z",
     "iopub.status.busy": "2025-07-30T12:53:08.536992Z",
     "iopub.status.idle": "2025-07-30T12:53:08.658254Z",
     "shell.execute_reply": "2025-07-30T12:53:08.657237Z"
    },
    "papermill": {
     "duration": 0.150279,
     "end_time": "2025-07-30T12:53:08.659738",
     "exception": false,
     "start_time": "2025-07-30T12:53:08.509459",
     "status": "completed"
    },
    "tags": []
   },
   "outputs": [],
   "source": [
    "# Auxiliary data needed downstream in the pipeline\n",
    "\n",
    "org_train = X_train.copy()\n",
    "org_test = X_test.copy()\n",
    "org_calib = X_calib.copy()"
   ]
  },
  {
   "cell_type": "code",
   "execution_count": 28,
   "id": "1466abac-c6da-4492-a62f-4240ae3783af",
   "metadata": {
    "execution": {
     "iopub.execute_input": "2025-07-30T12:53:08.711707Z",
     "iopub.status.busy": "2025-07-30T12:53:08.710785Z",
     "iopub.status.idle": "2025-07-30T12:53:08.716849Z",
     "shell.execute_reply": "2025-07-30T12:53:08.715929Z"
    },
    "papermill": {
     "duration": 0.034232,
     "end_time": "2025-07-30T12:53:08.718549",
     "exception": false,
     "start_time": "2025-07-30T12:53:08.684317",
     "status": "completed"
    },
    "tags": []
   },
   "outputs": [],
   "source": [
    "# put in other script?\n",
    "# Group sizes\n",
    "\n",
    "#def calculate_percentages(df, df_name):\n",
    "#    total_entries = len(df)\n",
    "#\n",
    "#    female_pct = (df['frau1'] == 1).mean() * 100\n",
    "#    non_german_pct = ((df['maxdeutsch1'] == 0) & (df['maxdeutsch.Missing.'] == 0)).mean() * 100\n",
    "#    non_german_male_pct = ((df['frau1'] == 0) & (df['maxdeutsch1'] == 0) & (df['maxdeutsch.Missing.'] == 0)).mean() * 100\n",
    "#    non_german_female_pct = ((df['frau1'] == 1) & (df['maxdeutsch1'] == 0) & (df['maxdeutsch.Missing.'] == 0)).mean() * 100\n",
    "#\n",
    "#    print(f\"--- {df_name} ---\")\n",
    "#    print(f\"Female: {female_pct:.2f}%\")\n",
    "#    print(f\"Non-German: {non_german_pct:.2f}%\")\n",
    "#    print(f\"Non-German Male: {non_german_male_pct:.2f}%\")\n",
    "#    print(f\"Non-German Female: {non_german_female_pct:.2f}%\\n\")\n",
    "#\n",
    "## Calculate for each DataFrame\n",
    "#calculate_percentages(siab_calib, \"siab_calib\")\n",
    "#calculate_percentages(siab_test, \"siab_test\")\n",
    "#calculate_percentages(siab_train, \"siab_train\")"
   ]
  },
  {
   "cell_type": "markdown",
   "id": "0a4a1b33",
   "metadata": {
    "papermill": {
     "duration": 0.02419,
     "end_time": "2025-07-30T12:53:08.769007",
     "exception": false,
     "start_time": "2025-07-30T12:53:08.744817",
     "status": "completed"
    },
    "tags": []
   },
   "source": [
    "# Preprocessing Data"
   ]
  },
  {
   "cell_type": "code",
   "execution_count": 29,
   "id": "ca879031",
   "metadata": {
    "execution": {
     "iopub.execute_input": "2025-07-30T12:53:08.821013Z",
     "iopub.status.busy": "2025-07-30T12:53:08.820527Z",
     "iopub.status.idle": "2025-07-30T12:53:08.827404Z",
     "shell.execute_reply": "2025-07-30T12:53:08.826240Z"
    },
    "papermill": {
     "duration": 0.035012,
     "end_time": "2025-07-30T12:53:08.829695",
     "exception": false,
     "start_time": "2025-07-30T12:53:08.794683",
     "status": "completed"
    },
    "tags": []
   },
   "outputs": [],
   "source": [
    "# EXCLUDE PROTECTED FEATURES\n",
    "# ----------------------\n",
    "# \"exclude_features\": \"none\", # \"nationality\", \"sex\", \"nationality-sex\"\n",
    "\n",
    "excluded_features = universe[\"exclude_features\"].split(\"-\") # split, e.g.: \"nationality-sex\" -> [\"nationality\", \"sex\"]\n",
    "excluded_features_dictionary = {\n",
    "    \"nationality\": [\"maxdeutsch1\", \"maxdeutsch.Missing.\"],\n",
    "    \"sex\": [\"frau1\"],\n",
    "    \"age\": [\"age\"],\n",
    "}\n"
   ]
  },
  {
   "cell_type": "code",
   "execution_count": 30,
   "id": "b745ac60",
   "metadata": {
    "execution": {
     "iopub.execute_input": "2025-07-30T12:53:08.878938Z",
     "iopub.status.busy": "2025-07-30T12:53:08.878313Z",
     "iopub.status.idle": "2025-07-30T12:53:08.883491Z",
     "shell.execute_reply": "2025-07-30T12:53:08.882701Z"
    },
    "papermill": {
     "duration": 0.022176,
     "end_time": "2025-07-30T12:53:08.884824",
     "exception": false,
     "start_time": "2025-07-30T12:53:08.862648",
     "status": "completed"
    },
    "tags": []
   },
   "outputs": [],
   "source": [
    "# Code nice names to column names\n",
    "\n",
    "excluded_features_columns = [\n",
    "    excluded_features_dictionary[f] for f in excluded_features if len(f) > 0 and f != \"none\"\n",
    "]"
   ]
  },
  {
   "cell_type": "code",
   "execution_count": 31,
   "id": "f84f73a2",
   "metadata": {
    "execution": {
     "iopub.execute_input": "2025-07-30T12:53:08.913406Z",
     "iopub.status.busy": "2025-07-30T12:53:08.912989Z",
     "iopub.status.idle": "2025-07-30T12:53:08.918420Z",
     "shell.execute_reply": "2025-07-30T12:53:08.917677Z"
    },
    "papermill": {
     "duration": 0.019499,
     "end_time": "2025-07-30T12:53:08.919731",
     "exception": false,
     "start_time": "2025-07-30T12:53:08.900232",
     "status": "completed"
    },
    "tags": []
   },
   "outputs": [],
   "source": [
    "from utils import flatten_once\n",
    "\n",
    "excluded_features_columns = flatten_once(excluded_features_columns)"
   ]
  },
  {
   "cell_type": "code",
   "execution_count": 32,
   "id": "884dea22",
   "metadata": {
    "execution": {
     "iopub.execute_input": "2025-07-30T12:53:08.948770Z",
     "iopub.status.busy": "2025-07-30T12:53:08.948404Z",
     "iopub.status.idle": "2025-07-30T12:53:08.964696Z",
     "shell.execute_reply": "2025-07-30T12:53:08.963442Z"
    },
    "papermill": {
     "duration": 0.031155,
     "end_time": "2025-07-30T12:53:08.966701",
     "exception": false,
     "start_time": "2025-07-30T12:53:08.935546",
     "status": "completed"
    },
    "tags": []
   },
   "outputs": [
    {
     "name": "stdout",
     "output_type": "stream",
     "text": [
      "Dropping features: ['frau1']\n"
     ]
    }
   ],
   "source": [
    "if len(excluded_features_columns) > 0:\n",
    "    print(f\"Dropping features: {excluded_features_columns}\")\n",
    "    X_train.drop(excluded_features_columns, axis=1, inplace=True)"
   ]
  },
  {
   "cell_type": "code",
   "execution_count": 33,
   "id": "95ab8b16",
   "metadata": {
    "execution": {
     "iopub.execute_input": "2025-07-30T12:53:09.000474Z",
     "iopub.status.busy": "2025-07-30T12:53:09.000115Z",
     "iopub.status.idle": "2025-07-30T12:53:09.052712Z",
     "shell.execute_reply": "2025-07-30T12:53:09.051747Z"
    },
    "papermill": {
     "duration": 0.067999,
     "end_time": "2025-07-30T12:53:09.054266",
     "exception": false,
     "start_time": "2025-07-30T12:53:08.986267",
     "status": "completed"
    },
    "tags": []
   },
   "outputs": [
    {
     "name": "stdout",
     "output_type": "stream",
     "text": [
      "Dropping features: ['frau1']\n"
     ]
    }
   ],
   "source": [
    "if len(excluded_features_columns) > 0:\n",
    "    print(f\"Dropping features: {excluded_features_columns}\")\n",
    "    X_test.drop(excluded_features_columns, axis=1, inplace=True)"
   ]
  },
  {
   "cell_type": "code",
   "execution_count": 34,
   "id": "1853aaf5-fb9f-46cb-a2b5-8ea4ae2237e4",
   "metadata": {
    "execution": {
     "iopub.execute_input": "2025-07-30T12:53:09.081681Z",
     "iopub.status.busy": "2025-07-30T12:53:09.081297Z",
     "iopub.status.idle": "2025-07-30T12:53:09.134041Z",
     "shell.execute_reply": "2025-07-30T12:53:09.132680Z"
    },
    "papermill": {
     "duration": 0.067428,
     "end_time": "2025-07-30T12:53:09.135608",
     "exception": false,
     "start_time": "2025-07-30T12:53:09.068180",
     "status": "completed"
    },
    "tags": []
   },
   "outputs": [
    {
     "name": "stdout",
     "output_type": "stream",
     "text": [
      "Dropping features: ['frau1']\n"
     ]
    }
   ],
   "source": [
    "if len(excluded_features_columns) > 0:\n",
    "    print(f\"Dropping features: {excluded_features_columns}\")\n",
    "    X_calib.drop(excluded_features_columns, axis=1, inplace=True)"
   ]
  },
  {
   "cell_type": "code",
   "execution_count": 35,
   "id": "6727d079-03e5-481e-9d38-292a90b7a0a8",
   "metadata": {
    "execution": {
     "iopub.execute_input": "2025-07-30T12:53:09.207554Z",
     "iopub.status.busy": "2025-07-30T12:53:09.207079Z",
     "iopub.status.idle": "2025-07-30T12:53:09.211845Z",
     "shell.execute_reply": "2025-07-30T12:53:09.211017Z"
    },
    "papermill": {
     "duration": 0.042811,
     "end_time": "2025-07-30T12:53:09.213856",
     "exception": false,
     "start_time": "2025-07-30T12:53:09.171045",
     "status": "completed"
    },
    "tags": []
   },
   "outputs": [],
   "source": [
    "# SPLIT & STRATIFY DATA\n",
    "# ----------------------"
   ]
  },
  {
   "cell_type": "code",
   "execution_count": 36,
   "id": "76c4dc6d",
   "metadata": {
    "execution": {
     "iopub.execute_input": "2025-07-30T12:53:09.253839Z",
     "iopub.status.busy": "2025-07-30T12:53:09.253138Z",
     "iopub.status.idle": "2025-07-30T12:53:09.303815Z",
     "shell.execute_reply": "2025-07-30T12:53:09.302701Z"
    },
    "papermill": {
     "duration": 0.06668,
     "end_time": "2025-07-30T12:53:09.305857",
     "exception": false,
     "start_time": "2025-07-30T12:53:09.239177",
     "status": "completed"
    },
    "tags": []
   },
   "outputs": [],
   "source": [
    "# EXCLUDE CERTAIN SUBGROUPS\n",
    "# ----------------------\n",
    "\n",
    "mode = universe.get(\"exclude_subgroups\", \"keep-all\") \n",
    "# Fetches the exclude_subgroups setting from the universe dict.\n",
    "# Defaults to \"keep-all\" if the key is missing."
   ]
  },
  {
   "cell_type": "code",
   "execution_count": 37,
   "id": "21994072",
   "metadata": {
    "execution": {
     "iopub.execute_input": "2025-07-30T12:53:09.357828Z",
     "iopub.status.busy": "2025-07-30T12:53:09.357319Z",
     "iopub.status.idle": "2025-07-30T12:53:09.369085Z",
     "shell.execute_reply": "2025-07-30T12:53:09.368362Z"
    },
    "papermill": {
     "duration": 0.039959,
     "end_time": "2025-07-30T12:53:09.370612",
     "exception": false,
     "start_time": "2025-07-30T12:53:09.330653",
     "status": "completed"
    },
    "tags": []
   },
   "outputs": [],
   "source": [
    "if mode == \"keep-all\":\n",
    "    keep_mask = pd.Series(True, index=org_train.index)\n",
    "\n",
    "# org_train contains the original feature columns from features_org (in Simson)\n",
    "# features_org contains unprocessed features, for me X_train at beginning ???\n",
    "# For keep-all, creates a boolean Series (keep_mask) of all True, so no rows are removed.\n",
    "\n",
    "elif mode == \"drop-non-german\":\n",
    "    keep_mask = org_train[\"maxdeutsch1\"] == 1 # ??? what about missing values?\n",
    "\n",
    "else:\n",
    "    raise ValueError(f\"Unsupported mode for exclude_subgroups: {mode}\")\n"
   ]
  },
  {
   "cell_type": "code",
   "execution_count": 38,
   "id": "71651440",
   "metadata": {
    "execution": {
     "iopub.execute_input": "2025-07-30T12:53:09.418892Z",
     "iopub.status.busy": "2025-07-30T12:53:09.418452Z",
     "iopub.status.idle": "2025-07-30T12:53:09.426101Z",
     "shell.execute_reply": "2025-07-30T12:53:09.424976Z"
    },
    "papermill": {
     "duration": 0.033767,
     "end_time": "2025-07-30T12:53:09.427914",
     "exception": false,
     "start_time": "2025-07-30T12:53:09.394147",
     "status": "completed"
    },
    "tags": []
   },
   "outputs": [],
   "source": [
    "n_drop = (~keep_mask).sum() # Calculates how many rows are set to be dropped\n",
    "if n_drop > 0:\n",
    "    pct = n_drop / len(keep_mask) * 100\n",
    "    print(f\"Dropping {n_drop} rows ({pct:.2f}%) where mode='{mode}'\")"
   ]
  },
  {
   "cell_type": "code",
   "execution_count": 39,
   "id": "5fb8eee5",
   "metadata": {
    "execution": {
     "iopub.execute_input": "2025-07-30T12:53:09.474554Z",
     "iopub.status.busy": "2025-07-30T12:53:09.473867Z",
     "iopub.status.idle": "2025-07-30T12:53:09.491182Z",
     "shell.execute_reply": "2025-07-30T12:53:09.490177Z"
    },
    "papermill": {
     "duration": 0.038512,
     "end_time": "2025-07-30T12:53:09.492804",
     "exception": false,
     "start_time": "2025-07-30T12:53:09.454292",
     "status": "completed"
    },
    "tags": []
   },
   "outputs": [],
   "source": [
    "X_train = X_train[keep_mask]"
   ]
  },
  {
   "cell_type": "code",
   "execution_count": 40,
   "id": "b202bb3a",
   "metadata": {
    "execution": {
     "iopub.execute_input": "2025-07-30T12:53:09.523273Z",
     "iopub.status.busy": "2025-07-30T12:53:09.522423Z",
     "iopub.status.idle": "2025-07-30T12:53:09.529288Z",
     "shell.execute_reply": "2025-07-30T12:53:09.528319Z"
    },
    "papermill": {
     "duration": 0.022476,
     "end_time": "2025-07-30T12:53:09.530790",
     "exception": false,
     "start_time": "2025-07-30T12:53:09.508314",
     "status": "completed"
    },
    "tags": []
   },
   "outputs": [],
   "source": [
    "y_train = y_train[keep_mask]"
   ]
  },
  {
   "cell_type": "markdown",
   "id": "493e2ac3",
   "metadata": {
    "papermill": {
     "duration": 0.012872,
     "end_time": "2025-07-30T12:53:09.566936",
     "exception": false,
     "start_time": "2025-07-30T12:53:09.554064",
     "status": "completed"
    },
    "tags": []
   },
   "source": [
    "# Model Training"
   ]
  },
  {
   "cell_type": "code",
   "execution_count": 41,
   "id": "679e1268",
   "metadata": {
    "execution": {
     "iopub.execute_input": "2025-07-30T12:53:09.594453Z",
     "iopub.status.busy": "2025-07-30T12:53:09.594038Z",
     "iopub.status.idle": "2025-07-30T12:53:09.701353Z",
     "shell.execute_reply": "2025-07-30T12:53:09.700417Z"
    },
    "papermill": {
     "duration": 0.122535,
     "end_time": "2025-07-30T12:53:09.703554",
     "exception": false,
     "start_time": "2025-07-30T12:53:09.581019",
     "status": "completed"
    },
    "tags": []
   },
   "outputs": [],
   "source": [
    "from sklearn.linear_model import LogisticRegression\n",
    "from sklearn.ensemble import GradientBoostingClassifier, RandomForestClassifier\n",
    "\n",
    "if (universe[\"model\"] == \"logreg\"):\n",
    "    model = LogisticRegression() #penalty=\"none\") #, solver=\"newton-cg\", max_iter=1) # include random_state=19 ?\n",
    "elif (universe[\"model\"] == \"penalized_logreg\"):\n",
    "    model = LogisticRegression(penalty=\"l2\", C=1.0) #, solver=\"newton-cg\", max_iter=1)\n",
    "elif (universe[\"model\"] == \"rf\"):\n",
    "    model = RandomForestClassifier(n_estimators=100, n_jobs=-1)\n",
    "elif (universe[\"model\"] == \"gbm\"):\n",
    "    model = GradientBoostingClassifier()\n",
    "elif (universe[\"model\"] == \"elasticnet\"):\n",
    "    model = LogisticRegression(penalty = 'elasticnet', solver = 'saga', l1_ratio = 0.5, max_iter=5000) # which solver to use?\n",
    "else:\n",
    "    raise \"Unsupported universe.model\""
   ]
  },
  {
   "cell_type": "code",
   "execution_count": 42,
   "id": "0cc8f744",
   "metadata": {
    "execution": {
     "iopub.execute_input": "2025-07-30T12:53:09.776923Z",
     "iopub.status.busy": "2025-07-30T12:53:09.776392Z",
     "iopub.status.idle": "2025-07-30T12:53:09.784263Z",
     "shell.execute_reply": "2025-07-30T12:53:09.782952Z"
    },
    "papermill": {
     "duration": 0.038434,
     "end_time": "2025-07-30T12:53:09.786619",
     "exception": false,
     "start_time": "2025-07-30T12:53:09.748185",
     "status": "completed"
    },
    "tags": []
   },
   "outputs": [],
   "source": [
    "import numpy as np\n",
    "from sklearn.pipeline import Pipeline\n",
    "from sklearn.preprocessing import StandardScaler\n",
    "\n",
    "model = Pipeline([\n",
    "    #(\"continuous_processor\", continuous_processor),\n",
    "    #(\"categorical_preprocessor\", categorical_preprocessor),\n",
    "    (\"scale\", StandardScaler() if universe[\"scale\"] == \"scale\" else None), \n",
    "    (\"model\", model),\n",
    "])"
   ]
  },
  {
   "cell_type": "code",
   "execution_count": 43,
   "id": "9442c04d",
   "metadata": {
    "execution": {
     "iopub.execute_input": "2025-07-30T12:53:09.825688Z",
     "iopub.status.busy": "2025-07-30T12:53:09.825338Z",
     "iopub.status.idle": "2025-07-30T12:53:10.451844Z",
     "shell.execute_reply": "2025-07-30T12:53:10.450770Z"
    },
    "papermill": {
     "duration": 0.642223,
     "end_time": "2025-07-30T12:53:10.453330",
     "exception": false,
     "start_time": "2025-07-30T12:53:09.811107",
     "status": "completed"
    },
    "tags": []
   },
   "outputs": [
    {
     "name": "stderr",
     "output_type": "stream",
     "text": [
      "/dss/dsshome1/0C/ra93lal2/.local/share/virtualenvs/CMA_Fairness_v2-3j10GkSs/lib/python3.10/site-packages/sklearn/linear_model/_logistic.py:444: ConvergenceWarning: lbfgs failed to converge (status=1):\n",
      "STOP: TOTAL NO. of ITERATIONS REACHED LIMIT.\n",
      "\n",
      "Increase the number of iterations (max_iter) or scale the data as shown in:\n",
      "    https://scikit-learn.org/stable/modules/preprocessing.html\n",
      "Please also refer to the documentation for alternative solver options:\n",
      "    https://scikit-learn.org/stable/modules/linear_model.html#logistic-regression\n",
      "  n_iter_i = _check_optimize_result(\n"
     ]
    },
    {
     "data": {
      "text/html": [
       "<style>#sk-container-id-1 {color: black;background-color: white;}#sk-container-id-1 pre{padding: 0;}#sk-container-id-1 div.sk-toggleable {background-color: white;}#sk-container-id-1 label.sk-toggleable__label {cursor: pointer;display: block;width: 100%;margin-bottom: 0;padding: 0.3em;box-sizing: border-box;text-align: center;}#sk-container-id-1 label.sk-toggleable__label-arrow:before {content: \"▸\";float: left;margin-right: 0.25em;color: #696969;}#sk-container-id-1 label.sk-toggleable__label-arrow:hover:before {color: black;}#sk-container-id-1 div.sk-estimator:hover label.sk-toggleable__label-arrow:before {color: black;}#sk-container-id-1 div.sk-toggleable__content {max-height: 0;max-width: 0;overflow: hidden;text-align: left;background-color: #f0f8ff;}#sk-container-id-1 div.sk-toggleable__content pre {margin: 0.2em;color: black;border-radius: 0.25em;background-color: #f0f8ff;}#sk-container-id-1 input.sk-toggleable__control:checked~div.sk-toggleable__content {max-height: 200px;max-width: 100%;overflow: auto;}#sk-container-id-1 input.sk-toggleable__control:checked~label.sk-toggleable__label-arrow:before {content: \"▾\";}#sk-container-id-1 div.sk-estimator input.sk-toggleable__control:checked~label.sk-toggleable__label {background-color: #d4ebff;}#sk-container-id-1 div.sk-label input.sk-toggleable__control:checked~label.sk-toggleable__label {background-color: #d4ebff;}#sk-container-id-1 input.sk-hidden--visually {border: 0;clip: rect(1px 1px 1px 1px);clip: rect(1px, 1px, 1px, 1px);height: 1px;margin: -1px;overflow: hidden;padding: 0;position: absolute;width: 1px;}#sk-container-id-1 div.sk-estimator {font-family: monospace;background-color: #f0f8ff;border: 1px dotted black;border-radius: 0.25em;box-sizing: border-box;margin-bottom: 0.5em;}#sk-container-id-1 div.sk-estimator:hover {background-color: #d4ebff;}#sk-container-id-1 div.sk-parallel-item::after {content: \"\";width: 100%;border-bottom: 1px solid gray;flex-grow: 1;}#sk-container-id-1 div.sk-label:hover label.sk-toggleable__label {background-color: #d4ebff;}#sk-container-id-1 div.sk-serial::before {content: \"\";position: absolute;border-left: 1px solid gray;box-sizing: border-box;top: 0;bottom: 0;left: 50%;z-index: 0;}#sk-container-id-1 div.sk-serial {display: flex;flex-direction: column;align-items: center;background-color: white;padding-right: 0.2em;padding-left: 0.2em;position: relative;}#sk-container-id-1 div.sk-item {position: relative;z-index: 1;}#sk-container-id-1 div.sk-parallel {display: flex;align-items: stretch;justify-content: center;background-color: white;position: relative;}#sk-container-id-1 div.sk-item::before, #sk-container-id-1 div.sk-parallel-item::before {content: \"\";position: absolute;border-left: 1px solid gray;box-sizing: border-box;top: 0;bottom: 0;left: 50%;z-index: -1;}#sk-container-id-1 div.sk-parallel-item {display: flex;flex-direction: column;z-index: 1;position: relative;background-color: white;}#sk-container-id-1 div.sk-parallel-item:first-child::after {align-self: flex-end;width: 50%;}#sk-container-id-1 div.sk-parallel-item:last-child::after {align-self: flex-start;width: 50%;}#sk-container-id-1 div.sk-parallel-item:only-child::after {width: 0;}#sk-container-id-1 div.sk-dashed-wrapped {border: 1px dashed gray;margin: 0 0.4em 0.5em 0.4em;box-sizing: border-box;padding-bottom: 0.4em;background-color: white;}#sk-container-id-1 div.sk-label label {font-family: monospace;font-weight: bold;display: inline-block;line-height: 1.2em;}#sk-container-id-1 div.sk-label-container {text-align: center;}#sk-container-id-1 div.sk-container {/* jupyter's `normalize.less` sets `[hidden] { display: none; }` but bootstrap.min.css set `[hidden] { display: none !important; }` so we also need the `!important` here to be able to override the default hidden behavior on the sphinx rendered scikit-learn.org. See: https://github.com/scikit-learn/scikit-learn/issues/21755 */display: inline-block !important;position: relative;}#sk-container-id-1 div.sk-text-repr-fallback {display: none;}</style><div id=\"sk-container-id-1\" class=\"sk-top-container\"><div class=\"sk-text-repr-fallback\"><pre>Pipeline(steps=[(&#x27;scale&#x27;, None), (&#x27;model&#x27;, LogisticRegression())])</pre><b>In a Jupyter environment, please rerun this cell to show the HTML representation or trust the notebook. <br />On GitHub, the HTML representation is unable to render, please try loading this page with nbviewer.org.</b></div><div class=\"sk-container\" hidden><div class=\"sk-item sk-dashed-wrapped\"><div class=\"sk-label-container\"><div class=\"sk-label sk-toggleable\"><input class=\"sk-toggleable__control sk-hidden--visually\" id=\"sk-estimator-id-1\" type=\"checkbox\" ><label for=\"sk-estimator-id-1\" class=\"sk-toggleable__label sk-toggleable__label-arrow\">Pipeline</label><div class=\"sk-toggleable__content\"><pre>Pipeline(steps=[(&#x27;scale&#x27;, None), (&#x27;model&#x27;, LogisticRegression())])</pre></div></div></div><div class=\"sk-serial\"><div class=\"sk-item\"><div class=\"sk-estimator sk-toggleable\"><input class=\"sk-toggleable__control sk-hidden--visually\" id=\"sk-estimator-id-2\" type=\"checkbox\" ><label for=\"sk-estimator-id-2\" class=\"sk-toggleable__label sk-toggleable__label-arrow\">None</label><div class=\"sk-toggleable__content\"><pre>None</pre></div></div></div><div class=\"sk-item\"><div class=\"sk-estimator sk-toggleable\"><input class=\"sk-toggleable__control sk-hidden--visually\" id=\"sk-estimator-id-3\" type=\"checkbox\" ><label for=\"sk-estimator-id-3\" class=\"sk-toggleable__label sk-toggleable__label-arrow\">LogisticRegression</label><div class=\"sk-toggleable__content\"><pre>LogisticRegression()</pre></div></div></div></div></div></div></div>"
      ],
      "text/plain": [
       "Pipeline(steps=[('scale', None), ('model', LogisticRegression())])"
      ]
     },
     "execution_count": 43,
     "metadata": {},
     "output_type": "execute_result"
    }
   ],
   "source": [
    "model.fit(X_train, y_train.values.ravel())"
   ]
  },
  {
   "cell_type": "code",
   "execution_count": 44,
   "id": "af59f8c0",
   "metadata": {
    "execution": {
     "iopub.execute_input": "2025-07-30T12:53:10.480726Z",
     "iopub.status.busy": "2025-07-30T12:53:10.480110Z",
     "iopub.status.idle": "2025-07-30T12:53:10.484704Z",
     "shell.execute_reply": "2025-07-30T12:53:10.483944Z"
    },
    "papermill": {
     "duration": 0.018903,
     "end_time": "2025-07-30T12:53:10.485977",
     "exception": false,
     "start_time": "2025-07-30T12:53:10.467074",
     "status": "completed"
    },
    "tags": []
   },
   "outputs": [],
   "source": [
    "from fairness_multiverse.universe import predict_w_threshold"
   ]
  },
  {
   "cell_type": "code",
   "execution_count": 45,
   "id": "a7cf2e16",
   "metadata": {
    "execution": {
     "iopub.execute_input": "2025-07-30T12:53:10.513025Z",
     "iopub.status.busy": "2025-07-30T12:53:10.512799Z",
     "iopub.status.idle": "2025-07-30T12:53:10.630376Z",
     "shell.execute_reply": "2025-07-30T12:53:10.629415Z"
    },
    "papermill": {
     "duration": 0.132876,
     "end_time": "2025-07-30T12:53:10.632148",
     "exception": false,
     "start_time": "2025-07-30T12:53:10.499272",
     "status": "completed"
    },
    "tags": []
   },
   "outputs": [
    {
     "data": {
      "text/plain": [
       "0.8634711849292164"
      ]
     },
     "execution_count": 45,
     "metadata": {},
     "output_type": "execute_result"
    }
   ],
   "source": [
    "probs_test = model.predict_proba(X_test)\n",
    "\n",
    "'''\n",
    "Below code returns a boolean array (or binary 0/1 array depending on how it’s used) where each element \n",
    "is True if the probability of class 1 is greater than or equal to the threshold, and False otherwise.\n",
    "'''\n",
    "y_pred_default = predict_w_threshold(probs_test, 0.5)\n",
    "\n",
    "from sklearn.metrics import accuracy_score\n",
    "\n",
    "# Naive prediction\n",
    "accuracy_score(y_true = y_true, y_pred = y_pred_default)"
   ]
  },
  {
   "cell_type": "code",
   "execution_count": 46,
   "id": "081964c3",
   "metadata": {
    "execution": {
     "iopub.execute_input": "2025-07-30T12:53:10.688719Z",
     "iopub.status.busy": "2025-07-30T12:53:10.687589Z",
     "iopub.status.idle": "2025-07-30T12:53:10.791342Z",
     "shell.execute_reply": "2025-07-30T12:53:10.790135Z"
    },
    "papermill": {
     "duration": 0.133278,
     "end_time": "2025-07-30T12:53:10.793009",
     "exception": false,
     "start_time": "2025-07-30T12:53:10.659731",
     "status": "completed"
    },
    "tags": []
   },
   "outputs": [
    {
     "data": {
      "text/plain": [
       "array([0, 0, 0, ..., 0, 0, 0])"
      ]
     },
     "execution_count": 46,
     "metadata": {},
     "output_type": "execute_result"
    }
   ],
   "source": [
    "model.predict(X_test)"
   ]
  },
  {
   "cell_type": "markdown",
   "id": "56c9705b",
   "metadata": {
    "papermill": {
     "duration": 0.012516,
     "end_time": "2025-07-30T12:53:10.820212",
     "exception": false,
     "start_time": "2025-07-30T12:53:10.807696",
     "status": "completed"
    },
    "tags": []
   },
   "source": [
    "# Conformal Prediction"
   ]
  },
  {
   "cell_type": "code",
   "execution_count": 47,
   "id": "160ec6ff",
   "metadata": {
    "execution": {
     "iopub.execute_input": "2025-07-30T12:53:10.847300Z",
     "iopub.status.busy": "2025-07-30T12:53:10.846841Z",
     "iopub.status.idle": "2025-07-30T12:53:10.852671Z",
     "shell.execute_reply": "2025-07-30T12:53:10.851490Z"
    },
    "papermill": {
     "duration": 0.021549,
     "end_time": "2025-07-30T12:53:10.854521",
     "exception": false,
     "start_time": "2025-07-30T12:53:10.832972",
     "status": "completed"
    },
    "tags": []
   },
   "outputs": [],
   "source": [
    "# Miscoverage level for conformal prediction (10% allowed error rate => 90% target coverage)\n",
    "alpha = 0.1"
   ]
  },
  {
   "cell_type": "code",
   "execution_count": 48,
   "id": "eadf4555-3dd3-440e-8e35-f82a4ad9f855",
   "metadata": {
    "execution": {
     "iopub.execute_input": "2025-07-30T12:53:10.909239Z",
     "iopub.status.busy": "2025-07-30T12:53:10.908066Z",
     "iopub.status.idle": "2025-07-30T12:53:10.998647Z",
     "shell.execute_reply": "2025-07-30T12:53:10.997593Z"
    },
    "papermill": {
     "duration": 0.119621,
     "end_time": "2025-07-30T12:53:11.000613",
     "exception": false,
     "start_time": "2025-07-30T12:53:10.880992",
     "status": "completed"
    },
    "tags": []
   },
   "outputs": [],
   "source": [
    "probs_calib = model.predict_proba(X_calib)"
   ]
  },
  {
   "cell_type": "code",
   "execution_count": 49,
   "id": "2ed93547-6d5d-4983-9b36-1ecb300da49a",
   "metadata": {
    "execution": {
     "iopub.execute_input": "2025-07-30T12:53:11.049294Z",
     "iopub.status.busy": "2025-07-30T12:53:11.048848Z",
     "iopub.status.idle": "2025-07-30T12:53:11.054309Z",
     "shell.execute_reply": "2025-07-30T12:53:11.053388Z"
    },
    "papermill": {
     "duration": 0.033764,
     "end_time": "2025-07-30T12:53:11.056276",
     "exception": false,
     "start_time": "2025-07-30T12:53:11.022512",
     "status": "completed"
    },
    "tags": []
   },
   "outputs": [],
   "source": [
    "y_calib = y_calib.values.ravel().astype(int)"
   ]
  },
  {
   "cell_type": "code",
   "execution_count": 50,
   "id": "65d1320d-f588-4b38-9072-62af1ae97f7d",
   "metadata": {
    "execution": {
     "iopub.execute_input": "2025-07-30T12:53:11.114461Z",
     "iopub.status.busy": "2025-07-30T12:53:11.113988Z",
     "iopub.status.idle": "2025-07-30T12:53:11.122994Z",
     "shell.execute_reply": "2025-07-30T12:53:11.121942Z"
    },
    "papermill": {
     "duration": 0.039238,
     "end_time": "2025-07-30T12:53:11.124842",
     "exception": false,
     "start_time": "2025-07-30T12:53:11.085604",
     "status": "completed"
    },
    "tags": []
   },
   "outputs": [],
   "source": [
    "from fairness_multiverse.conformal import compute_nc_scores\n",
    "\n",
    "# Compute nonconformity scores on calibration set (1 - probability of true class)\n",
    "nc_scores = compute_nc_scores(probs_calib, y_calib)"
   ]
  },
  {
   "cell_type": "code",
   "execution_count": 51,
   "id": "df3b8ca3-53b7-43d5-9667-7c85da7aeda2",
   "metadata": {
    "execution": {
     "iopub.execute_input": "2025-07-30T12:53:11.157265Z",
     "iopub.status.busy": "2025-07-30T12:53:11.156761Z",
     "iopub.status.idle": "2025-07-30T12:53:11.165047Z",
     "shell.execute_reply": "2025-07-30T12:53:11.164201Z"
    },
    "papermill": {
     "duration": 0.024393,
     "end_time": "2025-07-30T12:53:11.166389",
     "exception": false,
     "start_time": "2025-07-30T12:53:11.141996",
     "status": "completed"
    },
    "tags": []
   },
   "outputs": [],
   "source": [
    "from fairness_multiverse.conformal import find_threshold\n",
    "\n",
    "# Find conformal threshold q_hat for the given alpha (split conformal method)\n",
    "q_hat = find_threshold(nc_scores, alpha)"
   ]
  },
  {
   "cell_type": "code",
   "execution_count": 52,
   "id": "4d29e6c1-0ef6-4aa4-b8fe-4fe79b0d033a",
   "metadata": {
    "execution": {
     "iopub.execute_input": "2025-07-30T12:53:11.197729Z",
     "iopub.status.busy": "2025-07-30T12:53:11.197285Z",
     "iopub.status.idle": "2025-07-30T12:53:11.205312Z",
     "shell.execute_reply": "2025-07-30T12:53:11.204096Z"
    },
    "papermill": {
     "duration": 0.0278,
     "end_time": "2025-07-30T12:53:11.207641",
     "exception": false,
     "start_time": "2025-07-30T12:53:11.179841",
     "status": "completed"
    },
    "tags": []
   },
   "outputs": [
    {
     "data": {
      "text/plain": [
       "0.678739435026627"
      ]
     },
     "execution_count": 52,
     "metadata": {},
     "output_type": "execute_result"
    }
   ],
   "source": [
    "q_hat"
   ]
  },
  {
   "cell_type": "code",
   "execution_count": 53,
   "id": "92460794-cdac-4be2-ba28-f28c0515a6fb",
   "metadata": {
    "execution": {
     "iopub.execute_input": "2025-07-30T12:53:11.279733Z",
     "iopub.status.busy": "2025-07-30T12:53:11.279232Z",
     "iopub.status.idle": "2025-07-30T12:53:11.921831Z",
     "shell.execute_reply": "2025-07-30T12:53:11.920508Z"
    },
    "papermill": {
     "duration": 0.680613,
     "end_time": "2025-07-30T12:53:11.923661",
     "exception": false,
     "start_time": "2025-07-30T12:53:11.243048",
     "status": "completed"
    },
    "tags": []
   },
   "outputs": [],
   "source": [
    "from fairness_multiverse.conformal import predict_conformal_sets\n",
    "\n",
    "# Generate prediction sets for each test example\n",
    "pred_sets = predict_conformal_sets(model, X_test, q_hat)"
   ]
  },
  {
   "cell_type": "code",
   "execution_count": 54,
   "id": "d90c9a65-e6db-4f5d-80cd-e68fb7e46829",
   "metadata": {
    "execution": {
     "iopub.execute_input": "2025-07-30T12:53:11.953945Z",
     "iopub.status.busy": "2025-07-30T12:53:11.953382Z",
     "iopub.status.idle": "2025-07-30T12:53:11.958457Z",
     "shell.execute_reply": "2025-07-30T12:53:11.957390Z"
    },
    "papermill": {
     "duration": 0.022214,
     "end_time": "2025-07-30T12:53:11.960444",
     "exception": false,
     "start_time": "2025-07-30T12:53:11.938230",
     "status": "completed"
    },
    "tags": []
   },
   "outputs": [],
   "source": [
    "y_true = y_true.squeeze()"
   ]
  },
  {
   "cell_type": "code",
   "execution_count": 55,
   "id": "3a58a54a-1e68-46b9-927a-df01f18aebc8",
   "metadata": {
    "execution": {
     "iopub.execute_input": "2025-07-30T12:53:12.002228Z",
     "iopub.status.busy": "2025-07-30T12:53:12.001791Z",
     "iopub.status.idle": "2025-07-30T12:53:12.601225Z",
     "shell.execute_reply": "2025-07-30T12:53:12.600328Z"
    },
    "papermill": {
     "duration": 0.618423,
     "end_time": "2025-07-30T12:53:12.603045",
     "exception": false,
     "start_time": "2025-07-30T12:53:11.984622",
     "status": "completed"
    },
    "tags": []
   },
   "outputs": [],
   "source": [
    "from fairness_multiverse.conformal import evaluate_sets\n",
    "\n",
    "# Evaluate coverage and average set size on test data\n",
    "metrics = evaluate_sets(pred_sets, y_true)"
   ]
  },
  {
   "cell_type": "markdown",
   "id": "2b569c12-9aaa-4c88-98c9-bbcd0cf3ebb8",
   "metadata": {
    "papermill": {
     "duration": 0.025638,
     "end_time": "2025-07-30T12:53:12.654695",
     "exception": false,
     "start_time": "2025-07-30T12:53:12.629057",
     "status": "completed"
    },
    "tags": []
   },
   "source": [
    "# CP Metrics"
   ]
  },
  {
   "cell_type": "code",
   "execution_count": 56,
   "id": "5ce0a5cb-201f-45a0-ade5-94c7f0bd6095",
   "metadata": {
    "execution": {
     "iopub.execute_input": "2025-07-30T12:53:12.704789Z",
     "iopub.status.busy": "2025-07-30T12:53:12.704016Z",
     "iopub.status.idle": "2025-07-30T12:53:12.711193Z",
     "shell.execute_reply": "2025-07-30T12:53:12.710182Z"
    },
    "papermill": {
     "duration": 0.034087,
     "end_time": "2025-07-30T12:53:12.712967",
     "exception": false,
     "start_time": "2025-07-30T12:53:12.678880",
     "status": "completed"
    },
    "tags": []
   },
   "outputs": [
    {
     "data": {
      "text/plain": [
       "{'coverage': 0.9124623787760562, 'avg_size': 1.2030319919741388}"
      ]
     },
     "execution_count": 56,
     "metadata": {},
     "output_type": "execute_result"
    }
   ],
   "source": [
    "metrics"
   ]
  },
  {
   "cell_type": "code",
   "execution_count": 57,
   "id": "9b9a838d-31c9-430b-ae14-12baee460d17",
   "metadata": {
    "execution": {
     "iopub.execute_input": "2025-07-30T12:53:12.781417Z",
     "iopub.status.busy": "2025-07-30T12:53:12.780917Z",
     "iopub.status.idle": "2025-07-30T12:53:12.787683Z",
     "shell.execute_reply": "2025-07-30T12:53:12.786561Z"
    },
    "papermill": {
     "duration": 0.049586,
     "end_time": "2025-07-30T12:53:12.789601",
     "exception": false,
     "start_time": "2025-07-30T12:53:12.740015",
     "status": "completed"
    },
    "tags": []
   },
   "outputs": [],
   "source": [
    "example_universe = universe.copy()\n",
    "universe_training_size = example_universe.get(\"training_size\")\n",
    "universe_scale = example_universe.get(\"scale\")\n",
    "universe_model = example_universe.get(\"model\")\n",
    "universe_exclude_features = example_universe.get(\"exclude_features\")\n",
    "universe_exclude_subgroups = example_universe.get(\"exclude_subgroups\")"
   ]
  },
  {
   "cell_type": "code",
   "execution_count": 58,
   "id": "f4b6a8ac-9dc0-4245-8a91-5b3b5999c4f9",
   "metadata": {
    "execution": {
     "iopub.execute_input": "2025-07-30T12:53:12.843112Z",
     "iopub.status.busy": "2025-07-30T12:53:12.841969Z",
     "iopub.status.idle": "2025-07-30T12:53:12.849061Z",
     "shell.execute_reply": "2025-07-30T12:53:12.848194Z"
    },
    "papermill": {
     "duration": 0.034204,
     "end_time": "2025-07-30T12:53:12.850703",
     "exception": false,
     "start_time": "2025-07-30T12:53:12.816499",
     "status": "completed"
    },
    "tags": []
   },
   "outputs": [],
   "source": [
    "cp_metrics_dict = {\n",
    "    \"universe_id\": [universe_id],\n",
    "    \"universe_training_size\": [universe_training_size],\n",
    "    \"universe_scale\": [universe_scale],\n",
    "    \"universe_model\": [universe_model],\n",
    "    \"universe_exclude_features\": [universe_exclude_features],\n",
    "    \"universe_exclude_subgroups\": [universe_exclude_subgroups],\n",
    "    \"q_hat\": [q_hat],\n",
    "    \"coverage\": [metrics[\"coverage\"]],\n",
    "    \"avg_size\": [metrics[\"avg_size\"]],\n",
    "}"
   ]
  },
  {
   "cell_type": "code",
   "execution_count": 59,
   "id": "908acbb1-0371-4915-85ca-3fa520d2efe2",
   "metadata": {
    "execution": {
     "iopub.execute_input": "2025-07-30T12:53:12.902186Z",
     "iopub.status.busy": "2025-07-30T12:53:12.901303Z",
     "iopub.status.idle": "2025-07-30T12:53:12.909671Z",
     "shell.execute_reply": "2025-07-30T12:53:12.908727Z"
    },
    "papermill": {
     "duration": 0.034973,
     "end_time": "2025-07-30T12:53:12.911257",
     "exception": false,
     "start_time": "2025-07-30T12:53:12.876284",
     "status": "completed"
    },
    "tags": []
   },
   "outputs": [
    {
     "data": {
      "text/plain": [
       "{'universe_id': ['342001437d6205b36e08cec505cdad3e'],\n",
       " 'universe_training_size': ['25k'],\n",
       " 'universe_scale': ['do-not-scale'],\n",
       " 'universe_model': ['logreg'],\n",
       " 'universe_exclude_features': ['sex'],\n",
       " 'universe_exclude_subgroups': ['keep-all'],\n",
       " 'q_hat': [0.678739435026627],\n",
       " 'coverage': [0.9124623787760562],\n",
       " 'avg_size': [1.2030319919741388]}"
      ]
     },
     "execution_count": 59,
     "metadata": {},
     "output_type": "execute_result"
    }
   ],
   "source": [
    "cp_metrics_dict"
   ]
  },
  {
   "cell_type": "code",
   "execution_count": 60,
   "id": "33007efc-14e9-4ec6-97ac-56a455c82265",
   "metadata": {
    "execution": {
     "iopub.execute_input": "2025-07-30T12:53:12.967789Z",
     "iopub.status.busy": "2025-07-30T12:53:12.967211Z",
     "iopub.status.idle": "2025-07-30T12:53:12.973848Z",
     "shell.execute_reply": "2025-07-30T12:53:12.972759Z"
    },
    "papermill": {
     "duration": 0.039262,
     "end_time": "2025-07-30T12:53:12.975689",
     "exception": false,
     "start_time": "2025-07-30T12:53:12.936427",
     "status": "completed"
    },
    "tags": []
   },
   "outputs": [],
   "source": [
    "cp_metrics_df = pd.DataFrame(cp_metrics_dict)"
   ]
  },
  {
   "cell_type": "code",
   "execution_count": 61,
   "id": "db12611b-57b2-4910-b9d0-355adfd6e7bf",
   "metadata": {
    "execution": {
     "iopub.execute_input": "2025-07-30T12:53:13.034047Z",
     "iopub.status.busy": "2025-07-30T12:53:13.033394Z",
     "iopub.status.idle": "2025-07-30T12:53:13.051613Z",
     "shell.execute_reply": "2025-07-30T12:53:13.050398Z"
    },
    "papermill": {
     "duration": 0.048463,
     "end_time": "2025-07-30T12:53:13.053421",
     "exception": false,
     "start_time": "2025-07-30T12:53:13.004958",
     "status": "completed"
    },
    "tags": []
   },
   "outputs": [
    {
     "data": {
      "text/html": [
       "<div>\n",
       "<style scoped>\n",
       "    .dataframe tbody tr th:only-of-type {\n",
       "        vertical-align: middle;\n",
       "    }\n",
       "\n",
       "    .dataframe tbody tr th {\n",
       "        vertical-align: top;\n",
       "    }\n",
       "\n",
       "    .dataframe thead th {\n",
       "        text-align: right;\n",
       "    }\n",
       "</style>\n",
       "<table border=\"1\" class=\"dataframe\">\n",
       "  <thead>\n",
       "    <tr style=\"text-align: right;\">\n",
       "      <th></th>\n",
       "      <th>universe_id</th>\n",
       "      <th>universe_training_size</th>\n",
       "      <th>universe_scale</th>\n",
       "      <th>universe_model</th>\n",
       "      <th>universe_exclude_features</th>\n",
       "      <th>universe_exclude_subgroups</th>\n",
       "      <th>q_hat</th>\n",
       "      <th>coverage</th>\n",
       "      <th>avg_size</th>\n",
       "    </tr>\n",
       "  </thead>\n",
       "  <tbody>\n",
       "    <tr>\n",
       "      <th>0</th>\n",
       "      <td>342001437d6205b36e08cec505cdad3e</td>\n",
       "      <td>25k</td>\n",
       "      <td>do-not-scale</td>\n",
       "      <td>logreg</td>\n",
       "      <td>sex</td>\n",
       "      <td>keep-all</td>\n",
       "      <td>0.678739</td>\n",
       "      <td>0.912462</td>\n",
       "      <td>1.203032</td>\n",
       "    </tr>\n",
       "  </tbody>\n",
       "</table>\n",
       "</div>"
      ],
      "text/plain": [
       "                        universe_id universe_training_size universe_scale  \\\n",
       "0  342001437d6205b36e08cec505cdad3e                    25k   do-not-scale   \n",
       "\n",
       "  universe_model universe_exclude_features universe_exclude_subgroups  \\\n",
       "0         logreg                       sex                   keep-all   \n",
       "\n",
       "      q_hat  coverage  avg_size  \n",
       "0  0.678739  0.912462  1.203032  "
      ]
     },
     "execution_count": 61,
     "metadata": {},
     "output_type": "execute_result"
    }
   ],
   "source": [
    "cp_metrics_df"
   ]
  },
  {
   "cell_type": "code",
   "execution_count": 62,
   "id": "b7fbde55-a0a1-47e4-9af6-fe4a17fa8c61",
   "metadata": {
    "execution": {
     "iopub.execute_input": "2025-07-30T12:53:13.110801Z",
     "iopub.status.busy": "2025-07-30T12:53:13.110072Z",
     "iopub.status.idle": "2025-07-30T12:53:13.115465Z",
     "shell.execute_reply": "2025-07-30T12:53:13.114522Z"
    },
    "papermill": {
     "duration": 0.035939,
     "end_time": "2025-07-30T12:53:13.117358",
     "exception": false,
     "start_time": "2025-07-30T12:53:13.081419",
     "status": "completed"
    },
    "tags": []
   },
   "outputs": [],
   "source": [
    "# Conditional Coverage & looking at subgroups"
   ]
  },
  {
   "cell_type": "code",
   "execution_count": 63,
   "id": "027ae886-68dd-4141-96c7-805a5450e1ef",
   "metadata": {
    "execution": {
     "iopub.execute_input": "2025-07-30T12:53:13.176236Z",
     "iopub.status.busy": "2025-07-30T12:53:13.175298Z",
     "iopub.status.idle": "2025-07-30T12:53:13.422513Z",
     "shell.execute_reply": "2025-07-30T12:53:13.421601Z"
    },
    "papermill": {
     "duration": 0.278226,
     "end_time": "2025-07-30T12:53:13.424576",
     "exception": false,
     "start_time": "2025-07-30T12:53:13.146350",
     "status": "completed"
    },
    "tags": []
   },
   "outputs": [],
   "source": [
    "from fairness_multiverse.conformal import build_cp_groups\n",
    "\n",
    "cp_groups_df = build_cp_groups(pred_sets, y_true, X_test.index, org_test)\n",
    "#needs universe_id and setting"
   ]
  },
  {
   "cell_type": "code",
   "execution_count": 64,
   "id": "01d5802c-663a-4d1f-9d69-e036faaffbf7",
   "metadata": {
    "execution": {
     "iopub.execute_input": "2025-07-30T12:53:13.481393Z",
     "iopub.status.busy": "2025-07-30T12:53:13.480779Z",
     "iopub.status.idle": "2025-07-30T12:53:13.485804Z",
     "shell.execute_reply": "2025-07-30T12:53:13.484786Z"
    },
    "papermill": {
     "duration": 0.034341,
     "end_time": "2025-07-30T12:53:13.487606",
     "exception": false,
     "start_time": "2025-07-30T12:53:13.453265",
     "status": "completed"
    },
    "tags": []
   },
   "outputs": [],
   "source": [
    "#delete\n",
    "#cp_groups_df"
   ]
  },
  {
   "cell_type": "code",
   "execution_count": 65,
   "id": "fa424af1-d1eb-443d-b717-2d279ada8408",
   "metadata": {
    "execution": {
     "iopub.execute_input": "2025-07-30T12:53:13.540122Z",
     "iopub.status.busy": "2025-07-30T12:53:13.539208Z",
     "iopub.status.idle": "2025-07-30T12:53:13.544702Z",
     "shell.execute_reply": "2025-07-30T12:53:13.543689Z"
    },
    "papermill": {
     "duration": 0.035169,
     "end_time": "2025-07-30T12:53:13.546543",
     "exception": false,
     "start_time": "2025-07-30T12:53:13.511374",
     "status": "completed"
    },
    "tags": []
   },
   "outputs": [],
   "source": [
    "#delete\n",
    "#percentage = (cp_groups_df['nongerman_female'] == 1).mean() * 100\n",
    "#print(percentage)\n"
   ]
  },
  {
   "cell_type": "code",
   "execution_count": 66,
   "id": "6cbdab96-b2b2-45af-ad54-d0516db2e28d",
   "metadata": {
    "execution": {
     "iopub.execute_input": "2025-07-30T12:53:13.604452Z",
     "iopub.status.busy": "2025-07-30T12:53:13.603808Z",
     "iopub.status.idle": "2025-07-30T12:53:15.047299Z",
     "shell.execute_reply": "2025-07-30T12:53:15.045896Z"
    },
    "papermill": {
     "duration": 1.474287,
     "end_time": "2025-07-30T12:53:15.049275",
     "exception": false,
     "start_time": "2025-07-30T12:53:13.574988",
     "status": "completed"
    },
    "tags": []
   },
   "outputs": [],
   "source": [
    "# Define covered = 1 if true_label is in the predicted set\n",
    "cp_groups_df['covered'] = cp_groups_df.apply(\n",
    "    lambda r: int(r['true_label'] in r['pred_set']),\n",
    "    axis=1\n",
    ")"
   ]
  },
  {
   "cell_type": "code",
   "execution_count": 67,
   "id": "338ff529-1a6b-4b87-a931-8e4788d52aad",
   "metadata": {
    "execution": {
     "iopub.execute_input": "2025-07-30T12:53:15.096026Z",
     "iopub.status.busy": "2025-07-30T12:53:15.095675Z",
     "iopub.status.idle": "2025-07-30T12:53:15.100144Z",
     "shell.execute_reply": "2025-07-30T12:53:15.099253Z"
    },
    "papermill": {
     "duration": 0.021729,
     "end_time": "2025-07-30T12:53:15.101636",
     "exception": false,
     "start_time": "2025-07-30T12:53:15.079907",
     "status": "completed"
    },
    "tags": []
   },
   "outputs": [],
   "source": [
    "#cp_groups_df"
   ]
  },
  {
   "cell_type": "code",
   "execution_count": 68,
   "id": "90032e27-66df-4540-9169-4e89cfbaa758",
   "metadata": {
    "execution": {
     "iopub.execute_input": "2025-07-30T12:53:15.131549Z",
     "iopub.status.busy": "2025-07-30T12:53:15.131197Z",
     "iopub.status.idle": "2025-07-30T12:53:15.140987Z",
     "shell.execute_reply": "2025-07-30T12:53:15.140241Z"
    },
    "papermill": {
     "duration": 0.025669,
     "end_time": "2025-07-30T12:53:15.142557",
     "exception": false,
     "start_time": "2025-07-30T12:53:15.116888",
     "status": "completed"
    },
    "tags": []
   },
   "outputs": [],
   "source": [
    "subgroups = ['frau1','nongerman','nongerman_male','nongerman_female']\n",
    "\n",
    "# Conditional coverage for subgroup==1\n",
    "cond_coverage = {\n",
    "    g: cp_groups_df.loc[cp_groups_df[g]==1, 'covered'].mean()\n",
    "    for g in subgroups\n",
    "}"
   ]
  },
  {
   "cell_type": "code",
   "execution_count": 69,
   "id": "1e348fb1-b9c3-45bc-ba23-f016827a7e0d",
   "metadata": {
    "execution": {
     "iopub.execute_input": "2025-07-30T12:53:15.182172Z",
     "iopub.status.busy": "2025-07-30T12:53:15.181653Z",
     "iopub.status.idle": "2025-07-30T12:53:15.189457Z",
     "shell.execute_reply": "2025-07-30T12:53:15.188422Z"
    },
    "papermill": {
     "duration": 0.029974,
     "end_time": "2025-07-30T12:53:15.191148",
     "exception": false,
     "start_time": "2025-07-30T12:53:15.161174",
     "status": "completed"
    },
    "tags": []
   },
   "outputs": [
    {
     "data": {
      "text/plain": [
       "{'frau1': 0.9108235611268365,\n",
       " 'nongerman': 0.9303879189356088,\n",
       " 'nongerman_male': 0.9437989732504728,\n",
       " 'nongerman_female': 0.9081967213114754}"
      ]
     },
     "execution_count": 69,
     "metadata": {},
     "output_type": "execute_result"
    }
   ],
   "source": [
    "cond_coverage"
   ]
  },
  {
   "cell_type": "code",
   "execution_count": 70,
   "id": "f5093324-c3dd-4d63-bc4c-8d945e5c8bbb",
   "metadata": {
    "execution": {
     "iopub.execute_input": "2025-07-30T12:53:15.245617Z",
     "iopub.status.busy": "2025-07-30T12:53:15.244874Z",
     "iopub.status.idle": "2025-07-30T12:53:15.252947Z",
     "shell.execute_reply": "2025-07-30T12:53:15.251897Z"
    },
    "papermill": {
     "duration": 0.035833,
     "end_time": "2025-07-30T12:53:15.254686",
     "exception": false,
     "start_time": "2025-07-30T12:53:15.218853",
     "status": "completed"
    },
    "tags": []
   },
   "outputs": [],
   "source": [
    "for subgroup, cov in cond_coverage.items():\n",
    "    cp_metrics_df[f\"cov_{subgroup}\"] = cov"
   ]
  },
  {
   "cell_type": "code",
   "execution_count": 71,
   "id": "6e872e10-dbe5-49e8-b554-5030c98ff75d",
   "metadata": {
    "execution": {
     "iopub.execute_input": "2025-07-30T12:53:15.315561Z",
     "iopub.status.busy": "2025-07-30T12:53:15.314689Z",
     "iopub.status.idle": "2025-07-30T12:53:15.334783Z",
     "shell.execute_reply": "2025-07-30T12:53:15.333653Z"
    },
    "papermill": {
     "duration": 0.050594,
     "end_time": "2025-07-30T12:53:15.336660",
     "exception": false,
     "start_time": "2025-07-30T12:53:15.286066",
     "status": "completed"
    },
    "tags": []
   },
   "outputs": [
    {
     "data": {
      "text/html": [
       "<div>\n",
       "<style scoped>\n",
       "    .dataframe tbody tr th:only-of-type {\n",
       "        vertical-align: middle;\n",
       "    }\n",
       "\n",
       "    .dataframe tbody tr th {\n",
       "        vertical-align: top;\n",
       "    }\n",
       "\n",
       "    .dataframe thead th {\n",
       "        text-align: right;\n",
       "    }\n",
       "</style>\n",
       "<table border=\"1\" class=\"dataframe\">\n",
       "  <thead>\n",
       "    <tr style=\"text-align: right;\">\n",
       "      <th></th>\n",
       "      <th>universe_id</th>\n",
       "      <th>universe_training_size</th>\n",
       "      <th>universe_scale</th>\n",
       "      <th>universe_model</th>\n",
       "      <th>universe_exclude_features</th>\n",
       "      <th>universe_exclude_subgroups</th>\n",
       "      <th>q_hat</th>\n",
       "      <th>coverage</th>\n",
       "      <th>avg_size</th>\n",
       "      <th>cov_frau1</th>\n",
       "      <th>cov_nongerman</th>\n",
       "      <th>cov_nongerman_male</th>\n",
       "      <th>cov_nongerman_female</th>\n",
       "    </tr>\n",
       "  </thead>\n",
       "  <tbody>\n",
       "    <tr>\n",
       "      <th>0</th>\n",
       "      <td>342001437d6205b36e08cec505cdad3e</td>\n",
       "      <td>25k</td>\n",
       "      <td>do-not-scale</td>\n",
       "      <td>logreg</td>\n",
       "      <td>sex</td>\n",
       "      <td>keep-all</td>\n",
       "      <td>0.678739</td>\n",
       "      <td>0.912462</td>\n",
       "      <td>1.203032</td>\n",
       "      <td>0.910824</td>\n",
       "      <td>0.930388</td>\n",
       "      <td>0.943799</td>\n",
       "      <td>0.908197</td>\n",
       "    </tr>\n",
       "  </tbody>\n",
       "</table>\n",
       "</div>"
      ],
      "text/plain": [
       "                        universe_id universe_training_size universe_scale  \\\n",
       "0  342001437d6205b36e08cec505cdad3e                    25k   do-not-scale   \n",
       "\n",
       "  universe_model universe_exclude_features universe_exclude_subgroups  \\\n",
       "0         logreg                       sex                   keep-all   \n",
       "\n",
       "      q_hat  coverage  avg_size  cov_frau1  cov_nongerman  cov_nongerman_male  \\\n",
       "0  0.678739  0.912462  1.203032   0.910824       0.930388            0.943799   \n",
       "\n",
       "   cov_nongerman_female  \n",
       "0              0.908197  "
      ]
     },
     "execution_count": 71,
     "metadata": {},
     "output_type": "execute_result"
    }
   ],
   "source": [
    "cp_metrics_df"
   ]
  },
  {
   "cell_type": "markdown",
   "id": "33774451",
   "metadata": {
    "papermill": {
     "duration": 0.02656,
     "end_time": "2025-07-30T12:53:15.392683",
     "exception": false,
     "start_time": "2025-07-30T12:53:15.366123",
     "status": "completed"
    },
    "tags": []
   },
   "source": [
    "# (Fairness) Metrics"
   ]
  },
  {
   "cell_type": "code",
   "execution_count": 72,
   "id": "debc5d62",
   "metadata": {
    "execution": {
     "iopub.execute_input": "2025-07-30T12:53:15.452354Z",
     "iopub.status.busy": "2025-07-30T12:53:15.451513Z",
     "iopub.status.idle": "2025-07-30T12:53:15.474569Z",
     "shell.execute_reply": "2025-07-30T12:53:15.473508Z"
    },
    "papermill": {
     "duration": 0.055328,
     "end_time": "2025-07-30T12:53:15.476257",
     "exception": false,
     "start_time": "2025-07-30T12:53:15.420929",
     "status": "completed"
    },
    "tags": []
   },
   "outputs": [],
   "source": [
    "# do I need to include maxdeutsch1.missing?\n",
    "\n",
    "import numpy as np\n",
    "\n",
    "colname_to_bin = \"maxdeutsch1\"\n",
    "majority_value = org_train[colname_to_bin].mode()[0]\n",
    "\n",
    "org_test[\"majmin\"] = np.where(org_test[colname_to_bin] == majority_value, \"majority\", \"minority\")"
   ]
  },
  {
   "cell_type": "code",
   "execution_count": 73,
   "id": "06a50de5",
   "metadata": {
    "execution": {
     "iopub.execute_input": "2025-07-30T12:53:15.533533Z",
     "iopub.status.busy": "2025-07-30T12:53:15.533009Z",
     "iopub.status.idle": "2025-07-30T12:53:17.511105Z",
     "shell.execute_reply": "2025-07-30T12:53:17.510359Z"
    },
    "papermill": {
     "duration": 2.00831,
     "end_time": "2025-07-30T12:53:17.512618",
     "exception": false,
     "start_time": "2025-07-30T12:53:15.504308",
     "status": "completed"
    },
    "tags": []
   },
   "outputs": [],
   "source": [
    "example_universe = universe.copy()\n",
    "example_universe[\"cutoff\"] = example_universe[\"cutoff\"][0]\n",
    "example_universe[\"eval_fairness_grouping\"] = example_universe[\"eval_fairness_grouping\"][0]\n",
    "fairness_dict, metric_frame = universe_analysis.compute_metrics(\n",
    "    example_universe,\n",
    "    y_pred_prob=probs_test,\n",
    "    y_test=y_true,\n",
    "    org_test=org_test,\n",
    ")"
   ]
  },
  {
   "cell_type": "markdown",
   "id": "f95d4e02",
   "metadata": {
    "papermill": {
     "duration": 0.014946,
     "end_time": "2025-07-30T12:53:17.544401",
     "exception": false,
     "start_time": "2025-07-30T12:53:17.529455",
     "status": "completed"
    },
    "tags": []
   },
   "source": [
    "# Overall"
   ]
  },
  {
   "cell_type": "markdown",
   "id": "bdee4871",
   "metadata": {
    "papermill": {
     "duration": 0.014663,
     "end_time": "2025-07-30T12:53:17.573461",
     "exception": false,
     "start_time": "2025-07-30T12:53:17.558798",
     "status": "completed"
    },
    "tags": []
   },
   "source": [
    "Fairness\n",
    "Main fairness target: Equalized Odds. Seems to be a better fit than equal opportunity, since we're not only interested in Y = 1. Seems to be a better fit than demographic parity, since we also care about accuracy, not just equal distribution of preds.\n",
    "\n",
    "Pick column for computation of fairness metrics\n",
    "\n",
    "Performance\n",
    "Overall performance measures, most interesting in relation to the measures split by group below"
   ]
  },
  {
   "cell_type": "code",
   "execution_count": 74,
   "id": "c4e067c6",
   "metadata": {
    "execution": {
     "iopub.execute_input": "2025-07-30T12:53:17.610622Z",
     "iopub.status.busy": "2025-07-30T12:53:17.609120Z",
     "iopub.status.idle": "2025-07-30T12:53:17.623238Z",
     "shell.execute_reply": "2025-07-30T12:53:17.622012Z"
    },
    "papermill": {
     "duration": 0.037803,
     "end_time": "2025-07-30T12:53:17.625552",
     "exception": false,
     "start_time": "2025-07-30T12:53:17.587749",
     "status": "completed"
    },
    "tags": []
   },
   "outputs": [
    {
     "data": {
      "text/plain": [
       "accuracy                   0.217267\n",
       "balanced accuracy          0.532736\n",
       "f1                         0.238794\n",
       "precision                  0.136415\n",
       "false positive rate        0.891601\n",
       "false negative rate        0.042927\n",
       "selection rate             0.900000\n",
       "count                  89710.000000\n",
       "dtype: float64"
      ]
     },
     "execution_count": 74,
     "metadata": {},
     "output_type": "execute_result"
    }
   ],
   "source": [
    "metric_frame.overall"
   ]
  },
  {
   "cell_type": "markdown",
   "id": "e968fe9d",
   "metadata": {
    "papermill": {
     "duration": 0.014521,
     "end_time": "2025-07-30T12:53:17.664855",
     "exception": false,
     "start_time": "2025-07-30T12:53:17.650334",
     "status": "completed"
    },
    "tags": []
   },
   "source": [
    "By Group"
   ]
  },
  {
   "cell_type": "code",
   "execution_count": 75,
   "id": "ec325bce",
   "metadata": {
    "execution": {
     "iopub.execute_input": "2025-07-30T12:53:17.694682Z",
     "iopub.status.busy": "2025-07-30T12:53:17.694332Z",
     "iopub.status.idle": "2025-07-30T12:53:17.708819Z",
     "shell.execute_reply": "2025-07-30T12:53:17.707568Z"
    },
    "papermill": {
     "duration": 0.03163,
     "end_time": "2025-07-30T12:53:17.710710",
     "exception": false,
     "start_time": "2025-07-30T12:53:17.679080",
     "status": "completed"
    },
    "tags": []
   },
   "outputs": [
    {
     "data": {
      "text/html": [
       "<div>\n",
       "<style scoped>\n",
       "    .dataframe tbody tr th:only-of-type {\n",
       "        vertical-align: middle;\n",
       "    }\n",
       "\n",
       "    .dataframe tbody tr th {\n",
       "        vertical-align: top;\n",
       "    }\n",
       "\n",
       "    .dataframe thead th {\n",
       "        text-align: right;\n",
       "    }\n",
       "</style>\n",
       "<table border=\"1\" class=\"dataframe\">\n",
       "  <thead>\n",
       "    <tr style=\"text-align: right;\">\n",
       "      <th></th>\n",
       "      <th>accuracy</th>\n",
       "      <th>balanced accuracy</th>\n",
       "      <th>f1</th>\n",
       "      <th>precision</th>\n",
       "      <th>false positive rate</th>\n",
       "      <th>false negative rate</th>\n",
       "      <th>selection rate</th>\n",
       "      <th>count</th>\n",
       "    </tr>\n",
       "    <tr>\n",
       "      <th>majmin</th>\n",
       "      <th></th>\n",
       "      <th></th>\n",
       "      <th></th>\n",
       "      <th></th>\n",
       "      <th></th>\n",
       "      <th></th>\n",
       "      <th></th>\n",
       "      <th></th>\n",
       "    </tr>\n",
       "  </thead>\n",
       "  <tbody>\n",
       "    <tr>\n",
       "      <th>majority</th>\n",
       "      <td>0.239193</td>\n",
       "      <td>0.540067</td>\n",
       "      <td>0.247924</td>\n",
       "      <td>0.142587</td>\n",
       "      <td>0.868882</td>\n",
       "      <td>0.050985</td>\n",
       "      <td>0.879471</td>\n",
       "      <td>69170.0</td>\n",
       "    </tr>\n",
       "    <tr>\n",
       "      <th>minority</th>\n",
       "      <td>0.143427</td>\n",
       "      <td>0.510762</td>\n",
       "      <td>0.210110</td>\n",
       "      <td>0.117552</td>\n",
       "      <td>0.966652</td>\n",
       "      <td>0.011824</td>\n",
       "      <td>0.969133</td>\n",
       "      <td>20540.0</td>\n",
       "    </tr>\n",
       "  </tbody>\n",
       "</table>\n",
       "</div>"
      ],
      "text/plain": [
       "          accuracy  balanced accuracy        f1  precision  \\\n",
       "majmin                                                       \n",
       "majority  0.239193           0.540067  0.247924   0.142587   \n",
       "minority  0.143427           0.510762  0.210110   0.117552   \n",
       "\n",
       "          false positive rate  false negative rate  selection rate    count  \n",
       "majmin                                                                       \n",
       "majority             0.868882             0.050985        0.879471  69170.0  \n",
       "minority             0.966652             0.011824        0.969133  20540.0  "
      ]
     },
     "execution_count": 75,
     "metadata": {},
     "output_type": "execute_result"
    }
   ],
   "source": [
    "metric_frame.by_group"
   ]
  },
  {
   "cell_type": "code",
   "execution_count": 76,
   "id": "a9ddbe63",
   "metadata": {
    "execution": {
     "iopub.execute_input": "2025-07-30T12:53:17.774071Z",
     "iopub.status.busy": "2025-07-30T12:53:17.773196Z",
     "iopub.status.idle": "2025-07-30T12:53:20.145967Z",
     "shell.execute_reply": "2025-07-30T12:53:20.145109Z"
    },
    "papermill": {
     "duration": 2.406269,
     "end_time": "2025-07-30T12:53:20.147466",
     "exception": false,
     "start_time": "2025-07-30T12:53:17.741197",
     "status": "completed"
    },
    "tags": []
   },
   "outputs": [
    {
     "data": {
      "text/plain": [
       "array([[<Axes: title={'center': 'accuracy'}, xlabel='majmin'>,\n",
       "        <Axes: title={'center': 'balanced accuracy'}, xlabel='majmin'>,\n",
       "        <Axes: title={'center': 'f1'}, xlabel='majmin'>],\n",
       "       [<Axes: title={'center': 'precision'}, xlabel='majmin'>,\n",
       "        <Axes: title={'center': 'false positive rate'}, xlabel='majmin'>,\n",
       "        <Axes: title={'center': 'false negative rate'}, xlabel='majmin'>],\n",
       "       [<Axes: title={'center': 'selection rate'}, xlabel='majmin'>,\n",
       "        <Axes: title={'center': 'count'}, xlabel='majmin'>,\n",
       "        <Axes: xlabel='majmin'>]], dtype=object)"
      ]
     },
     "execution_count": 76,
     "metadata": {},
     "output_type": "execute_result"
    },
    {
     "data": {
      "image/png": "[encoded data removed]",
      "text/plain": [
       "<Figure size 1200x800 with 9 Axes>"
      ]
     },
     "metadata": {},
     "output_type": "display_data"
    }
   ],
   "source": [
    "# In a graphic\n",
    "metric_frame.by_group.plot.bar(\n",
    "    subplots=True,\n",
    "    layout=[3, 3],\n",
    "    legend=False,\n",
    "    figsize=[12, 8],\n",
    "    title=\"Show all metrics\",\n",
    ")"
   ]
  },
  {
   "cell_type": "markdown",
   "id": "f57a0bac",
   "metadata": {
    "papermill": {
     "duration": 0.014996,
     "end_time": "2025-07-30T12:53:20.181460",
     "exception": false,
     "start_time": "2025-07-30T12:53:20.166464",
     "status": "completed"
    },
    "tags": []
   },
   "source": [
    "# Final Output"
   ]
  },
  {
   "cell_type": "code",
   "execution_count": 77,
   "id": "96d280a3",
   "metadata": {
    "execution": {
     "iopub.execute_input": "2025-07-30T12:53:20.229674Z",
     "iopub.status.busy": "2025-07-30T12:53:20.229220Z",
     "iopub.status.idle": "2025-07-30T12:53:20.236383Z",
     "shell.execute_reply": "2025-07-30T12:53:20.235535Z"
    },
    "papermill": {
     "duration": 0.041035,
     "end_time": "2025-07-30T12:53:20.237664",
     "exception": false,
     "start_time": "2025-07-30T12:53:20.196629",
     "status": "completed"
    },
    "tags": []
   },
   "outputs": [
    {
     "data": {
      "text/plain": [
       "4"
      ]
     },
     "execution_count": 77,
     "metadata": {},
     "output_type": "execute_result"
    }
   ],
   "source": [
    "sub_universes = universe_analysis.generate_sub_universes()\n",
    "len(sub_universes)"
   ]
  },
  {
   "cell_type": "code",
   "execution_count": 78,
   "id": "92adf7ba",
   "metadata": {
    "execution": {
     "iopub.execute_input": "2025-07-30T12:53:20.269641Z",
     "iopub.status.busy": "2025-07-30T12:53:20.269120Z",
     "iopub.status.idle": "2025-07-30T12:53:20.292409Z",
     "shell.execute_reply": "2025-07-30T12:53:20.290893Z"
    },
    "papermill": {
     "duration": 0.041624,
     "end_time": "2025-07-30T12:53:20.294772",
     "exception": false,
     "start_time": "2025-07-30T12:53:20.253148",
     "status": "completed"
    },
    "tags": []
   },
   "outputs": [],
   "source": [
    "def filter_sub_universe_data(sub_universe, org_test):\n",
    "    # Keep all rows — no filtering\n",
    "    keep_rows_mask = np.ones(org_test.shape[0], dtype=bool)\n",
    "\n",
    "    print(f\"[INFO] Keeping all rows: {keep_rows_mask.sum()} rows retained.\")\n",
    "    return keep_rows_mask"
   ]
  },
  {
   "cell_type": "code",
   "execution_count": 79,
   "id": "4a759155",
   "metadata": {
    "execution": {
     "iopub.execute_input": "2025-07-30T12:53:20.375421Z",
     "iopub.status.busy": "2025-07-30T12:53:20.374794Z",
     "iopub.status.idle": "2025-07-30T12:53:28.817993Z",
     "shell.execute_reply": "2025-07-30T12:53:28.816996Z"
    },
    "papermill": {
     "duration": 8.485765,
     "end_time": "2025-07-30T12:53:28.819600",
     "exception": false,
     "start_time": "2025-07-30T12:53:20.333835",
     "status": "completed"
    },
    "tags": []
   },
   "outputs": [
    {
     "name": "stdout",
     "output_type": "stream",
     "text": [
      "Stopping execution_time clock.\n",
      "[INFO] Keeping all rows: 89710 rows retained.\n"
     ]
    },
    {
     "name": "stdout",
     "output_type": "stream",
     "text": [
      "[INFO] Keeping all rows: 89710 rows retained.\n"
     ]
    },
    {
     "name": "stdout",
     "output_type": "stream",
     "text": [
      "[INFO] Keeping all rows: 89710 rows retained.\n"
     ]
    },
    {
     "name": "stdout",
     "output_type": "stream",
     "text": [
      "[INFO] Keeping all rows: 89710 rows retained.\n"
     ]
    },
    {
     "data": {
      "text/html": [
       "<div>\n",
       "<style scoped>\n",
       "    .dataframe tbody tr th:only-of-type {\n",
       "        vertical-align: middle;\n",
       "    }\n",
       "\n",
       "    .dataframe tbody tr th {\n",
       "        vertical-align: top;\n",
       "    }\n",
       "\n",
       "    .dataframe thead th {\n",
       "        text-align: right;\n",
       "    }\n",
       "</style>\n",
       "<table border=\"1\" class=\"dataframe\">\n",
       "  <thead>\n",
       "    <tr style=\"text-align: right;\">\n",
       "      <th></th>\n",
       "      <th>run_no</th>\n",
       "      <th>universe_id</th>\n",
       "      <th>universe_settings</th>\n",
       "      <th>execution_time</th>\n",
       "      <th>test_size_n</th>\n",
       "      <th>test_size_frac</th>\n",
       "      <th>fair_main_equalized_odds_difference</th>\n",
       "      <th>fair_main_equalized_odds_ratio</th>\n",
       "      <th>fair_main_demographic_parity_difference</th>\n",
       "      <th>fair_main_demographic_parity_ratio</th>\n",
       "      <th>...</th>\n",
       "      <th>perf_grp_precision_0</th>\n",
       "      <th>perf_grp_precision_1</th>\n",
       "      <th>perf_grp_false positive rate_0</th>\n",
       "      <th>perf_grp_false positive rate_1</th>\n",
       "      <th>perf_grp_false negative rate_0</th>\n",
       "      <th>perf_grp_false negative rate_1</th>\n",
       "      <th>perf_grp_selection rate_0</th>\n",
       "      <th>perf_grp_selection rate_1</th>\n",
       "      <th>perf_grp_count_0</th>\n",
       "      <th>perf_grp_count_1</th>\n",
       "    </tr>\n",
       "  </thead>\n",
       "  <tbody>\n",
       "    <tr>\n",
       "      <th>0</th>\n",
       "      <td>12</td>\n",
       "      <td>342001437d6205b36e08cec505cdad3e</td>\n",
       "      <td>{\"cutoff\": \"quantile_0.1\", \"eval_fairness_grou...</td>\n",
       "      <td>26.922531</td>\n",
       "      <td>89710</td>\n",
       "      <td>1.0</td>\n",
       "      <td>0.097770</td>\n",
       "      <td>0.898857</td>\n",
       "      <td>0.089663</td>\n",
       "      <td>0.907482</td>\n",
       "      <td>...</td>\n",
       "      <td>NaN</td>\n",
       "      <td>NaN</td>\n",
       "      <td>NaN</td>\n",
       "      <td>NaN</td>\n",
       "      <td>NaN</td>\n",
       "      <td>NaN</td>\n",
       "      <td>NaN</td>\n",
       "      <td>NaN</td>\n",
       "      <td>NaN</td>\n",
       "      <td>NaN</td>\n",
       "    </tr>\n",
       "    <tr>\n",
       "      <th>0</th>\n",
       "      <td>12</td>\n",
       "      <td>342001437d6205b36e08cec505cdad3e</td>\n",
       "      <td>{\"cutoff\": \"quantile_0.1\", \"eval_fairness_grou...</td>\n",
       "      <td>26.922531</td>\n",
       "      <td>89710</td>\n",
       "      <td>1.0</td>\n",
       "      <td>0.097770</td>\n",
       "      <td>0.898857</td>\n",
       "      <td>0.089663</td>\n",
       "      <td>0.907482</td>\n",
       "      <td>...</td>\n",
       "      <td>0.117552</td>\n",
       "      <td>0.142587</td>\n",
       "      <td>0.966652</td>\n",
       "      <td>0.868882</td>\n",
       "      <td>0.011824</td>\n",
       "      <td>0.050985</td>\n",
       "      <td>0.969133</td>\n",
       "      <td>0.879471</td>\n",
       "      <td>20540.0</td>\n",
       "      <td>69170.0</td>\n",
       "    </tr>\n",
       "    <tr>\n",
       "      <th>0</th>\n",
       "      <td>12</td>\n",
       "      <td>342001437d6205b36e08cec505cdad3e</td>\n",
       "      <td>{\"cutoff\": \"quantile_0.25\", \"eval_fairness_gro...</td>\n",
       "      <td>26.922531</td>\n",
       "      <td>89710</td>\n",
       "      <td>1.0</td>\n",
       "      <td>0.214888</td>\n",
       "      <td>0.759887</td>\n",
       "      <td>0.196886</td>\n",
       "      <td>0.781675</td>\n",
       "      <td>...</td>\n",
       "      <td>NaN</td>\n",
       "      <td>NaN</td>\n",
       "      <td>NaN</td>\n",
       "      <td>NaN</td>\n",
       "      <td>NaN</td>\n",
       "      <td>NaN</td>\n",
       "      <td>NaN</td>\n",
       "      <td>NaN</td>\n",
       "      <td>NaN</td>\n",
       "      <td>NaN</td>\n",
       "    </tr>\n",
       "    <tr>\n",
       "      <th>0</th>\n",
       "      <td>12</td>\n",
       "      <td>342001437d6205b36e08cec505cdad3e</td>\n",
       "      <td>{\"cutoff\": \"quantile_0.25\", \"eval_fairness_gro...</td>\n",
       "      <td>26.922531</td>\n",
       "      <td>89710</td>\n",
       "      <td>1.0</td>\n",
       "      <td>0.214888</td>\n",
       "      <td>0.759887</td>\n",
       "      <td>0.196886</td>\n",
       "      <td>0.781675</td>\n",
       "      <td>...</td>\n",
       "      <td>0.122010</td>\n",
       "      <td>0.162739</td>\n",
       "      <td>0.894948</td>\n",
       "      <td>0.680060</td>\n",
       "      <td>0.045608</td>\n",
       "      <td>0.131838</td>\n",
       "      <td>0.901801</td>\n",
       "      <td>0.704915</td>\n",
       "      <td>20540.0</td>\n",
       "      <td>69170.0</td>\n",
       "    </tr>\n",
       "  </tbody>\n",
       "</table>\n",
       "<p>4 rows × 50 columns</p>\n",
       "</div>"
      ],
      "text/plain": [
       "  run_no                       universe_id  \\\n",
       "0     12  342001437d6205b36e08cec505cdad3e   \n",
       "0     12  342001437d6205b36e08cec505cdad3e   \n",
       "0     12  342001437d6205b36e08cec505cdad3e   \n",
       "0     12  342001437d6205b36e08cec505cdad3e   \n",
       "\n",
       "                                   universe_settings  execution_time  \\\n",
       "0  {\"cutoff\": \"quantile_0.1\", \"eval_fairness_grou...       26.922531   \n",
       "0  {\"cutoff\": \"quantile_0.1\", \"eval_fairness_grou...       26.922531   \n",
       "0  {\"cutoff\": \"quantile_0.25\", \"eval_fairness_gro...       26.922531   \n",
       "0  {\"cutoff\": \"quantile_0.25\", \"eval_fairness_gro...       26.922531   \n",
       "\n",
       "   test_size_n  test_size_frac  fair_main_equalized_odds_difference  \\\n",
       "0        89710             1.0                             0.097770   \n",
       "0        89710             1.0                             0.097770   \n",
       "0        89710             1.0                             0.214888   \n",
       "0        89710             1.0                             0.214888   \n",
       "\n",
       "   fair_main_equalized_odds_ratio  fair_main_demographic_parity_difference  \\\n",
       "0                        0.898857                                 0.089663   \n",
       "0                        0.898857                                 0.089663   \n",
       "0                        0.759887                                 0.196886   \n",
       "0                        0.759887                                 0.196886   \n",
       "\n",
       "   fair_main_demographic_parity_ratio  ...  perf_grp_precision_0  \\\n",
       "0                            0.907482  ...                   NaN   \n",
       "0                            0.907482  ...              0.117552   \n",
       "0                            0.781675  ...                   NaN   \n",
       "0                            0.781675  ...              0.122010   \n",
       "\n",
       "   perf_grp_precision_1  perf_grp_false positive rate_0  \\\n",
       "0                   NaN                             NaN   \n",
       "0              0.142587                        0.966652   \n",
       "0                   NaN                             NaN   \n",
       "0              0.162739                        0.894948   \n",
       "\n",
       "   perf_grp_false positive rate_1  perf_grp_false negative rate_0  \\\n",
       "0                             NaN                             NaN   \n",
       "0                        0.868882                        0.011824   \n",
       "0                             NaN                             NaN   \n",
       "0                        0.680060                        0.045608   \n",
       "\n",
       "   perf_grp_false negative rate_1  perf_grp_selection rate_0  \\\n",
       "0                             NaN                        NaN   \n",
       "0                        0.050985                   0.969133   \n",
       "0                             NaN                        NaN   \n",
       "0                        0.131838                   0.901801   \n",
       "\n",
       "   perf_grp_selection rate_1  perf_grp_count_0  perf_grp_count_1  \n",
       "0                        NaN               NaN               NaN  \n",
       "0                   0.879471           20540.0           69170.0  \n",
       "0                        NaN               NaN               NaN  \n",
       "0                   0.704915           20540.0           69170.0  \n",
       "\n",
       "[4 rows x 50 columns]"
      ]
     },
     "execution_count": 79,
     "metadata": {},
     "output_type": "execute_result"
    }
   ],
   "source": [
    "final_output = universe_analysis.generate_final_output(\n",
    "    y_pred_prob=probs_test,\n",
    "    y_test=y_true,\n",
    "    org_test=org_test,\n",
    "    filter_data=filter_sub_universe_data,\n",
    "    cp_metrics_df=cp_metrics_df,\n",
    "    save=True,\n",
    ")\n",
    "final_output"
   ]
  },
  {
   "cell_type": "code",
   "execution_count": null,
   "id": "721ff514-cb11-46f8-b6fc-50392f74b5cb",
   "metadata": {
    "papermill": {
     "duration": 0.029767,
     "end_time": "2025-07-30T12:53:28.881464",
     "exception": false,
     "start_time": "2025-07-30T12:53:28.851697",
     "status": "completed"
    },
    "tags": []
   },
   "outputs": [],
   "source": []
  }
 ],
 "metadata": {
  "celltoolbar": "Tags",
  "kernelspec": {
   "display_name": "Python (CMA Fairness)",
   "language": "python",
   "name": "cma_fair_env"
  },
  "language_info": {
   "codemirror_mode": {
    "name": "ipython",
    "version": 3
   },
   "file_extension": ".py",
   "mimetype": "text/x-python",
   "name": "python",
   "nbconvert_exporter": "python",
   "pygments_lexer": "ipython3",
   "version": "3.10.12"
  },
  "papermill": {
   "default_parameters": {},
   "duration": 39.651595,
   "end_time": "2025-07-30T12:53:29.630159",
   "environment_variables": {},
   "exception": null,
   "input_path": "universe_analysis.ipynb",
   "output_path": "output/runs/12/notebooks/m_12-342001437d6205b36e08cec505cdad3e.ipynb",
   "parameters": {
    "output_dir": "output",
    "run_no": "12",
    "seed": "2023",
    "universe": "{\"cutoff\": [\"quantile_0.1\", \"quantile_0.25\"], \"eval_fairness_grouping\": [\"majority-minority\", \"nationality-all\"], \"exclude_features\": \"sex\", \"exclude_subgroups\": \"keep-all\", \"model\": \"logreg\", \"scale\": \"do-not-scale\", \"training_size\": \"25k\", \"training_year\": \"2014\"}",
    "universe_id": "342001437d6205b36e08cec505cdad3e"
   },
   "start_time": "2025-07-30T12:52:49.978564",
   "version": "2.6.0"
  }
 },
 "nbformat": 4,
 "nbformat_minor": 5
}