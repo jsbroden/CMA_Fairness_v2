{
 "cells": [
  {
   "cell_type": "code",
   "execution_count": 1,
   "id": "f159f837-637b-42ba-96b5-ec9a68c44524",
   "metadata": {
    "execution": {
     "iopub.execute_input": "2025-07-30T14:07:21.421110Z",
     "iopub.status.busy": "2025-07-30T14:07:21.420704Z",
     "iopub.status.idle": "2025-07-30T14:07:21.436024Z",
     "shell.execute_reply": "2025-07-30T14:07:21.435026Z"
    },
    "papermill": {
     "duration": 0.038386,
     "end_time": "2025-07-30T14:07:21.437801",
     "exception": false,
     "start_time": "2025-07-30T14:07:21.399415",
     "status": "completed"
    },
    "tags": []
   },
   "outputs": [
    {
     "name": "stdout",
     "output_type": "stream",
     "text": [
      "/dss/dsshome1/0C/ra93lal2/cma/CMA_Fairness_v2\n"
     ]
    },
    {
     "name": "stderr",
     "output_type": "stream",
     "text": [
      "/dss/dsshome1/0C/ra93lal2/.local/share/virtualenvs/CMA_Fairness_v2-3j10GkSs/lib/python3.10/site-packages/IPython/core/magics/osm.py:393: UserWarning: This is now an optional IPython functionality, using bookmarks requires you to install the `pickleshare` library.\n",
      "  bkms = self.shell.db.get('bookmarks', {})\n",
      "/dss/dsshome1/0C/ra93lal2/.local/share/virtualenvs/CMA_Fairness_v2-3j10GkSs/lib/python3.10/site-packages/IPython/core/magics/osm.py:417: UserWarning: This is now an optional IPython functionality, setting dhist requires you to install the `pickleshare` library.\n",
      "  self.shell.db['dhist'] = compress_dhist(dhist)[-100:]\n"
     ]
    }
   ],
   "source": [
    "%cd ~/cma/CMA_Fairness_v2"
   ]
  },
  {
   "cell_type": "markdown",
   "id": "de2603b9",
   "metadata": {
    "papermill": {
     "duration": 0.019432,
     "end_time": "2025-07-30T14:07:21.477523",
     "exception": false,
     "start_time": "2025-07-30T14:07:21.458091",
     "status": "completed"
    },
    "tags": []
   },
   "source": [
    "The following cell holds the definition of our parameters, these values can be overriden by rendering the with e.g. the following command:\n",
    "\n",
    "papermill -p alpha 0.2 -p ratio 0.3 universe_analysis.ipynb output/test_run.ipynb"
   ]
  },
  {
   "cell_type": "code",
   "execution_count": 2,
   "id": "a80968a0-40bb-4fa9-85ef-2d5eefb01975",
   "metadata": {
    "execution": {
     "iopub.execute_input": "2025-07-30T14:07:21.519700Z",
     "iopub.status.busy": "2025-07-30T14:07:21.519253Z",
     "iopub.status.idle": "2025-07-30T14:07:21.524941Z",
     "shell.execute_reply": "2025-07-30T14:07:21.524078Z"
    },
    "papermill": {
     "duration": 0.028105,
     "end_time": "2025-07-30T14:07:21.526594",
     "exception": false,
     "start_time": "2025-07-30T14:07:21.498489",
     "status": "completed"
    },
    "tags": []
   },
   "outputs": [
    {
     "name": "stdout",
     "output_type": "stream",
     "text": [
      "Current working directory: /dss/dsshome1/0C/ra93lal2/cma/CMA_Fairness_v2\n"
     ]
    }
   ],
   "source": [
    "import os\n",
    "print(\"Current working directory:\", os.getcwd())"
   ]
  },
  {
   "cell_type": "code",
   "execution_count": 3,
   "id": "2dce4c03",
   "metadata": {
    "execution": {
     "iopub.execute_input": "2025-07-30T14:07:21.568940Z",
     "iopub.status.busy": "2025-07-30T14:07:21.567993Z",
     "iopub.status.idle": "2025-07-30T14:07:21.574675Z",
     "shell.execute_reply": "2025-07-30T14:07:21.573704Z"
    },
    "papermill": {
     "duration": 0.029387,
     "end_time": "2025-07-30T14:07:21.576289",
     "exception": false,
     "start_time": "2025-07-30T14:07:21.546902",
     "status": "completed"
    },
    "tags": [
     "parameters"
    ]
   },
   "outputs": [],
   "source": [
    "run_no = 0\n",
    "universe_id = \"test\"\n",
    "universe = {\n",
    "    \"training_size\": \"25k\", # \"25k\", \"5k\", \"1k\"\n",
    "    \"training_year\": \"2014\", # \"2014\", \"2012_14\", \"2010_14\"\n",
    "    \"scale\": \"scale\", # \"scale\", \"do-not-scale\",\n",
    "    #\"stratify_split\": \"target\", # \"none\", \"target\", \"protected-attribute\", \"both\",\n",
    "    \"model\": \"elasticnet\", # \"logreg\", \"penalized_logreg\", \"rf\", \"gbm\", \"elasticnet\"\n",
    "    \"cutoff\": [\"quantile_0.15\", \"quantile_0.30\"],\n",
    "    \"exclude_features\": \"age\", # \"none\", \"nationality\", \"sex\", \"nationality-sex\", \"age\"\n",
    "    \"exclude_subgroups\": \"keep-all\", # \"keep-all\", \"drop-non-german\"\n",
    "    \"eval_fairness_grouping\": [\"majority-minority\", \"nationality-all\"]\n",
    "}\n",
    "\n",
    "output_dir=\"./output\"\n",
    "seed=0"
   ]
  },
  {
   "cell_type": "code",
   "execution_count": 4,
   "id": "7110c610",
   "metadata": {
    "execution": {
     "iopub.execute_input": "2025-07-30T14:07:21.618772Z",
     "iopub.status.busy": "2025-07-30T14:07:21.618327Z",
     "iopub.status.idle": "2025-07-30T14:07:21.623969Z",
     "shell.execute_reply": "2025-07-30T14:07:21.622771Z"
    },
    "papermill": {
     "duration": 0.028575,
     "end_time": "2025-07-30T14:07:21.625766",
     "exception": false,
     "start_time": "2025-07-30T14:07:21.597191",
     "status": "completed"
    },
    "tags": [
     "injected-parameters"
    ]
   },
   "outputs": [],
   "source": [
    "# Parameters\n",
    "universe_id = \"01ad57a06f1e1b6acf43537ae97981e4\"\n",
    "run_no = \"12\"\n",
    "universe = \"{\\\"cutoff\\\": [\\\"quantile_0.1\\\", \\\"quantile_0.25\\\"], \\\"eval_fairness_grouping\\\": [\\\"majority-minority\\\", \\\"nationality-all\\\"], \\\"exclude_features\\\": \\\"sex\\\", \\\"exclude_subgroups\\\": \\\"keep-all\\\", \\\"model\\\": \\\"penalized_logreg\\\", \\\"scale\\\": \\\"scale\\\", \\\"training_size\\\": \\\"5k\\\", \\\"training_year\\\": \\\"2010_14\\\"}\"\n",
    "output_dir = \"output\"\n",
    "seed = \"2023\"\n"
   ]
  },
  {
   "cell_type": "code",
   "execution_count": 5,
   "id": "1650acaf",
   "metadata": {
    "execution": {
     "iopub.execute_input": "2025-07-30T14:07:21.668917Z",
     "iopub.status.busy": "2025-07-30T14:07:21.668400Z",
     "iopub.status.idle": "2025-07-30T14:07:21.673592Z",
     "shell.execute_reply": "2025-07-30T14:07:21.672642Z"
    },
    "papermill": {
     "duration": 0.028586,
     "end_time": "2025-07-30T14:07:21.675475",
     "exception": false,
     "start_time": "2025-07-30T14:07:21.646889",
     "status": "completed"
    },
    "tags": []
   },
   "outputs": [],
   "source": [
    "import json\n",
    "# Parse universe into dict if it is passed as a string\n",
    "if isinstance(universe, str):\n",
    "    universe = json.loads(universe)"
   ]
  },
  {
   "cell_type": "code",
   "execution_count": 6,
   "id": "16620c48",
   "metadata": {
    "execution": {
     "iopub.execute_input": "2025-07-30T14:07:21.719210Z",
     "iopub.status.busy": "2025-07-30T14:07:21.718734Z",
     "iopub.status.idle": "2025-07-30T14:07:21.764498Z",
     "shell.execute_reply": "2025-07-30T14:07:21.763445Z"
    },
    "papermill": {
     "duration": 0.06899,
     "end_time": "2025-07-30T14:07:21.766395",
     "exception": false,
     "start_time": "2025-07-30T14:07:21.697405",
     "status": "completed"
    },
    "tags": []
   },
   "outputs": [],
   "source": [
    "# Auto-reload the custom package\n",
    "%load_ext autoreload\n",
    "%autoreload 1\n",
    "%aimport fairness_multiverse"
   ]
  },
  {
   "cell_type": "code",
   "execution_count": 7,
   "id": "01c5c9f3",
   "metadata": {
    "execution": {
     "iopub.execute_input": "2025-07-30T14:07:21.810053Z",
     "iopub.status.busy": "2025-07-30T14:07:21.809543Z",
     "iopub.status.idle": "2025-07-30T14:07:23.760468Z",
     "shell.execute_reply": "2025-07-30T14:07:23.759474Z"
    },
    "papermill": {
     "duration": 1.974796,
     "end_time": "2025-07-30T14:07:23.762370",
     "exception": false,
     "start_time": "2025-07-30T14:07:21.787574",
     "status": "completed"
    },
    "tags": []
   },
   "outputs": [],
   "source": [
    "from fairness_multiverse.universe import UniverseAnalysis\n",
    "\n",
    "universe_analysis = UniverseAnalysis(\n",
    "    run_no = run_no,\n",
    "    universe_id = universe_id,\n",
    "    universe = universe,\n",
    "    output_dir=output_dir,\n",
    ")"
   ]
  },
  {
   "cell_type": "code",
   "execution_count": 8,
   "id": "106241f5",
   "metadata": {
    "execution": {
     "iopub.execute_input": "2025-07-30T14:07:23.805799Z",
     "iopub.status.busy": "2025-07-30T14:07:23.805136Z",
     "iopub.status.idle": "2025-07-30T14:07:23.812962Z",
     "shell.execute_reply": "2025-07-30T14:07:23.811645Z"
    },
    "papermill": {
     "duration": 0.033136,
     "end_time": "2025-07-30T14:07:23.815767",
     "exception": false,
     "start_time": "2025-07-30T14:07:23.782631",
     "status": "completed"
    },
    "tags": []
   },
   "outputs": [
    {
     "name": "stdout",
     "output_type": "stream",
     "text": [
      "Using Seed: 2023\n"
     ]
    }
   ],
   "source": [
    "import numpy as np\n",
    "parsed_seed = int(seed)\n",
    "np.random.seed(parsed_seed)\n",
    "print(f\"Using Seed: {parsed_seed}\")"
   ]
  },
  {
   "cell_type": "markdown",
   "id": "e0ebdc57",
   "metadata": {
    "papermill": {
     "duration": 0.020613,
     "end_time": "2025-07-30T14:07:23.857430",
     "exception": false,
     "start_time": "2025-07-30T14:07:23.836817",
     "status": "completed"
    },
    "tags": []
   },
   "source": [
    "# Loading Data"
   ]
  },
  {
   "cell_type": "markdown",
   "id": "681925a3",
   "metadata": {
    "papermill": {
     "duration": 0.021195,
     "end_time": "2025-07-30T14:07:23.899995",
     "exception": false,
     "start_time": "2025-07-30T14:07:23.878800",
     "status": "completed"
    },
    "tags": []
   },
   "source": [
    "Load siab_train, siab_test, siab_calib and/or \n",
    "load siab_train_features, siab_train_labels"
   ]
  },
  {
   "cell_type": "code",
   "execution_count": 9,
   "id": "f0496b8a",
   "metadata": {
    "execution": {
     "iopub.execute_input": "2025-07-30T14:07:23.945054Z",
     "iopub.status.busy": "2025-07-30T14:07:23.944208Z",
     "iopub.status.idle": "2025-07-30T14:07:36.937105Z",
     "shell.execute_reply": "2025-07-30T14:07:36.936084Z"
    },
    "papermill": {
     "duration": 13.017642,
     "end_time": "2025-07-30T14:07:36.938697",
     "exception": false,
     "start_time": "2025-07-30T14:07:23.921055",
     "status": "completed"
    },
    "tags": []
   },
   "outputs": [
    {
     "name": "stdout",
     "output_type": "stream",
     "text": [
      "Loading SIAB data from cache: data/siab_cached.csv.gz\n"
     ]
    },
    {
     "name": "stdout",
     "output_type": "stream",
     "text": [
      "(643690, 164)\n"
     ]
    }
   ],
   "source": [
    "from pathlib import Path\n",
    "import pandas as pd\n",
    "\n",
    "# File paths\n",
    "raw_file = Path(\"data/raw/siab.csv\")\n",
    "cache_file = Path(\"data/siab_cached.csv.gz\")\n",
    "\n",
    "# Ensure cache directory exists\n",
    "cache_file.parent.mkdir(parents=True, exist_ok=True)\n",
    "\n",
    "# Load with simple caching\n",
    "if cache_file.exists():\n",
    "    print(f\"Loading SIAB data from cache: {cache_file}\")\n",
    "    siab = pd.read_csv(cache_file, compression='gzip')\n",
    "else:\n",
    "    print(f\"Cache not found. Reading raw SIAB data: {raw_file}\")\n",
    "    siab = pd.read_csv(raw_file)\n",
    "    siab.to_csv(cache_file, index=False, compression='gzip')\n",
    "    print(f\"Cached SIAB data to: {cache_file}\")\n",
    "\n",
    "# Now use `siab` DataFrame as needed\n",
    "print(siab.shape)"
   ]
  },
  {
   "cell_type": "code",
   "execution_count": 10,
   "id": "db0ca512-5f53-4dba-abdb-a2888bca41ba",
   "metadata": {
    "execution": {
     "iopub.execute_input": "2025-07-30T14:07:36.982937Z",
     "iopub.status.busy": "2025-07-30T14:07:36.982428Z",
     "iopub.status.idle": "2025-07-30T14:07:36.987991Z",
     "shell.execute_reply": "2025-07-30T14:07:36.987030Z"
    },
    "papermill": {
     "duration": 0.028542,
     "end_time": "2025-07-30T14:07:36.989730",
     "exception": false,
     "start_time": "2025-07-30T14:07:36.961188",
     "status": "completed"
    },
    "tags": []
   },
   "outputs": [],
   "source": [
    "#siab"
   ]
  },
  {
   "cell_type": "code",
   "execution_count": 11,
   "id": "a0edb063",
   "metadata": {
    "execution": {
     "iopub.execute_input": "2025-07-30T14:07:37.031787Z",
     "iopub.status.busy": "2025-07-30T14:07:37.031276Z",
     "iopub.status.idle": "2025-07-30T14:07:37.036977Z",
     "shell.execute_reply": "2025-07-30T14:07:37.035937Z"
    },
    "papermill": {
     "duration": 0.028485,
     "end_time": "2025-07-30T14:07:37.038736",
     "exception": false,
     "start_time": "2025-07-30T14:07:37.010251",
     "status": "completed"
    },
    "tags": []
   },
   "outputs": [],
   "source": [
    "#import pandas as pd\n",
    "#\n",
    "#X_train = pd.read_csv(\"./data/X_train.csv\")\n",
    "#y_train = pd.read_csv(\"./data/y_train.csv\")"
   ]
  },
  {
   "cell_type": "code",
   "execution_count": 12,
   "id": "63d08085",
   "metadata": {
    "execution": {
     "iopub.execute_input": "2025-07-30T14:07:37.081021Z",
     "iopub.status.busy": "2025-07-30T14:07:37.080521Z",
     "iopub.status.idle": "2025-07-30T14:07:37.085314Z",
     "shell.execute_reply": "2025-07-30T14:07:37.084315Z"
    },
    "papermill": {
     "duration": 0.027556,
     "end_time": "2025-07-30T14:07:37.087001",
     "exception": false,
     "start_time": "2025-07-30T14:07:37.059445",
     "status": "completed"
    },
    "tags": []
   },
   "outputs": [],
   "source": [
    "#X_test = pd.read_csv(\"./data/X_test.csv\")\n",
    "#y_true = pd.read_csv(\"./data/y_test.csv\")"
   ]
  },
  {
   "cell_type": "code",
   "execution_count": 13,
   "id": "98a8d0fa-1d3d-4ed8-bb2c-281470e24add",
   "metadata": {
    "execution": {
     "iopub.execute_input": "2025-07-30T14:07:37.129498Z",
     "iopub.status.busy": "2025-07-30T14:07:37.129082Z",
     "iopub.status.idle": "2025-07-30T14:07:37.133839Z",
     "shell.execute_reply": "2025-07-30T14:07:37.133018Z"
    },
    "papermill": {
     "duration": 0.026902,
     "end_time": "2025-07-30T14:07:37.135471",
     "exception": false,
     "start_time": "2025-07-30T14:07:37.108569",
     "status": "completed"
    },
    "tags": []
   },
   "outputs": [],
   "source": [
    "# Calibration data for conformal\n",
    "#X_calib = pd.read_csv(\"./data/X_calib.csv\")\n",
    "#y_calib = pd.read_csv(\"./data/y_calib.csv\")"
   ]
  },
  {
   "cell_type": "markdown",
   "id": "997051c5-15bd-4b69-9786-c3001a3ce484",
   "metadata": {
    "papermill": {
     "duration": 0.019015,
     "end_time": "2025-07-30T14:07:37.174431",
     "exception": false,
     "start_time": "2025-07-30T14:07:37.155416",
     "status": "completed"
    },
    "tags": []
   },
   "source": [
    "# Splitting Data and Setting Training Data Size"
   ]
  },
  {
   "cell_type": "code",
   "execution_count": 14,
   "id": "e993b61f-042d-41a6-8c81-f55681f86335",
   "metadata": {
    "execution": {
     "iopub.execute_input": "2025-07-30T14:07:37.217635Z",
     "iopub.status.busy": "2025-07-30T14:07:37.217100Z",
     "iopub.status.idle": "2025-07-30T14:07:37.226301Z",
     "shell.execute_reply": "2025-07-30T14:07:37.225535Z"
    },
    "papermill": {
     "duration": 0.032323,
     "end_time": "2025-07-30T14:07:37.227522",
     "exception": false,
     "start_time": "2025-07-30T14:07:37.195199",
     "status": "completed"
    },
    "tags": []
   },
   "outputs": [],
   "source": [
    "def sample_by_year_size(df,\n",
    "                        training_year: str,\n",
    "                        training_size: str,\n",
    "                        random_state: int = 42):\n",
    "    # --- parse training_year into a list of int years ---\n",
    "    if \"_\" in training_year:\n",
    "        start_str, end_str = training_year.split(\"_\", 1)\n",
    "        start = int(start_str)\n",
    "        end   = int(end_str) if len(end_str) == 4 else (int(end_str) + (start // 100)*100)\n",
    "        years = list(range(start, end + 1))\n",
    "    else:\n",
    "        years = [int(training_year)]\n",
    "\n",
    "    df = df[df[\"year\"].isin(years)].reset_index(drop=True)\n",
    "\n",
    "    # --- map training_size to total number of samples ---\n",
    "    total_map = {\"25k\": 25_000, \"5k\": 5_000, \"1k\": 1_000}\n",
    "    if training_size not in total_map:\n",
    "        return df  # e.g. \"all\"\n",
    "\n",
    "    total_samples = total_map[training_size]\n",
    "    n_years       = len(years)\n",
    "    base          = total_samples // n_years\n",
    "    remainder     = total_samples % n_years\n",
    "\n",
    "    # --- build a dict: year -> how many to sample ---\n",
    "    # give +1 to the first `remainder` years in ascending order\n",
    "    quotas = {\n",
    "        year: base + (1 if idx < remainder else 0)\n",
    "        for idx, year in enumerate(sorted(years))\n",
    "    }\n",
    "\n",
    "    # --- sample per‐year according to the quota dict ---\n",
    "    sampled = (\n",
    "        df\n",
    "        .groupby(\"year\", group_keys=False)\n",
    "        .apply(lambda grp: grp.sample(\n",
    "            n=min(len(grp), quotas[grp.name]),\n",
    "            random_state=random_state))\n",
    "        .reset_index(drop=True)\n",
    "    )\n",
    "\n",
    "    return sampled"
   ]
  },
  {
   "cell_type": "code",
   "execution_count": 15,
   "id": "c0ccd338-0e02-41f3-a09d-f56f9266e3fb",
   "metadata": {
    "execution": {
     "iopub.execute_input": "2025-07-30T14:07:37.251113Z",
     "iopub.status.busy": "2025-07-30T14:07:37.250652Z",
     "iopub.status.idle": "2025-07-30T14:07:37.261111Z",
     "shell.execute_reply": "2025-07-30T14:07:37.260391Z"
    },
    "papermill": {
     "duration": 0.023415,
     "end_time": "2025-07-30T14:07:37.262316",
     "exception": false,
     "start_time": "2025-07-30T14:07:37.238901",
     "status": "completed"
    },
    "tags": []
   },
   "outputs": [
    {
     "data": {
      "text/plain": [
       "'5k'"
      ]
     },
     "execution_count": 15,
     "metadata": {},
     "output_type": "execute_result"
    }
   ],
   "source": [
    "universe[\"training_size\"]"
   ]
  },
  {
   "cell_type": "code",
   "execution_count": 16,
   "id": "ca707fd7-8047-4acd-bfa5-66248fbbf8e6",
   "metadata": {
    "execution": {
     "iopub.execute_input": "2025-07-30T14:07:37.309533Z",
     "iopub.status.busy": "2025-07-30T14:07:37.309029Z",
     "iopub.status.idle": "2025-07-30T14:07:37.316582Z",
     "shell.execute_reply": "2025-07-30T14:07:37.315566Z"
    },
    "papermill": {
     "duration": 0.033949,
     "end_time": "2025-07-30T14:07:37.319466",
     "exception": false,
     "start_time": "2025-07-30T14:07:37.285517",
     "status": "completed"
    },
    "tags": []
   },
   "outputs": [
    {
     "data": {
      "text/plain": [
       "'2010_14'"
      ]
     },
     "execution_count": 16,
     "metadata": {},
     "output_type": "execute_result"
    }
   ],
   "source": [
    "universe[\"training_year\"]"
   ]
  },
  {
   "cell_type": "code",
   "execution_count": 17,
   "id": "aea9c6ef-6f46-42c8-85eb-5a62025c1508",
   "metadata": {
    "execution": {
     "iopub.execute_input": "2025-07-30T14:07:37.367269Z",
     "iopub.status.busy": "2025-07-30T14:07:37.366776Z",
     "iopub.status.idle": "2025-07-30T14:07:38.416191Z",
     "shell.execute_reply": "2025-07-30T14:07:38.415080Z"
    },
    "papermill": {
     "duration": 1.07595,
     "end_time": "2025-07-30T14:07:38.418396",
     "exception": false,
     "start_time": "2025-07-30T14:07:37.342446",
     "status": "completed"
    },
    "tags": []
   },
   "outputs": [],
   "source": [
    "siab_train = sample_by_year_size(siab,\n",
    "                               training_year=universe[\"training_year\"],\n",
    "                               training_size=universe[\"training_size\"])"
   ]
  },
  {
   "cell_type": "code",
   "execution_count": 18,
   "id": "8d3afb32-789d-442c-8d5d-9f5aa8dd2eed",
   "metadata": {
    "execution": {
     "iopub.execute_input": "2025-07-30T14:07:38.465810Z",
     "iopub.status.busy": "2025-07-30T14:07:38.465369Z",
     "iopub.status.idle": "2025-07-30T14:07:38.473656Z",
     "shell.execute_reply": "2025-07-30T14:07:38.472585Z"
    },
    "papermill": {
     "duration": 0.034926,
     "end_time": "2025-07-30T14:07:38.475358",
     "exception": false,
     "start_time": "2025-07-30T14:07:38.440432",
     "status": "completed"
    },
    "tags": []
   },
   "outputs": [
    {
     "data": {
      "text/plain": [
       "(5000, 164)"
      ]
     },
     "execution_count": 18,
     "metadata": {},
     "output_type": "execute_result"
    }
   ],
   "source": [
    "siab_train.shape"
   ]
  },
  {
   "cell_type": "code",
   "execution_count": 19,
   "id": "d582db68-1a4c-47fb-84fc-08518dc1975a",
   "metadata": {
    "execution": {
     "iopub.execute_input": "2025-07-30T14:07:38.521756Z",
     "iopub.status.busy": "2025-07-30T14:07:38.521053Z",
     "iopub.status.idle": "2025-07-30T14:07:38.531384Z",
     "shell.execute_reply": "2025-07-30T14:07:38.530208Z"
    },
    "papermill": {
     "duration": 0.034044,
     "end_time": "2025-07-30T14:07:38.533070",
     "exception": false,
     "start_time": "2025-07-30T14:07:38.499026",
     "status": "completed"
    },
    "tags": []
   },
   "outputs": [
    {
     "data": {
      "text/plain": [
       "year\n",
       "2010    1000\n",
       "2011    1000\n",
       "2012    1000\n",
       "2013    1000\n",
       "2014    1000\n",
       "dtype: int64"
      ]
     },
     "metadata": {},
     "output_type": "display_data"
    }
   ],
   "source": [
    "display(siab_train.groupby(\"year\").size())"
   ]
  },
  {
   "cell_type": "code",
   "execution_count": 20,
   "id": "a561edb4-d032-42cb-8256-22eac1111c64",
   "metadata": {
    "execution": {
     "iopub.execute_input": "2025-07-30T14:07:38.579309Z",
     "iopub.status.busy": "2025-07-30T14:07:38.578431Z",
     "iopub.status.idle": "2025-07-30T14:07:38.899790Z",
     "shell.execute_reply": "2025-07-30T14:07:38.898626Z"
    },
    "papermill": {
     "duration": 0.346327,
     "end_time": "2025-07-30T14:07:38.902031",
     "exception": false,
     "start_time": "2025-07-30T14:07:38.555704",
     "status": "completed"
    },
    "tags": []
   },
   "outputs": [],
   "source": [
    "#siab_train = siab_s[siab_s.year < 2015]\n",
    "siab_calib = siab[siab.year == 2015]\n",
    "siab_test = siab[siab.year == 2016]"
   ]
  },
  {
   "cell_type": "code",
   "execution_count": 21,
   "id": "472de16f-c3db-4916-846b-1f0de9cf1746",
   "metadata": {
    "execution": {
     "iopub.execute_input": "2025-07-30T14:07:38.938938Z",
     "iopub.status.busy": "2025-07-30T14:07:38.938426Z",
     "iopub.status.idle": "2025-07-30T14:07:38.945233Z",
     "shell.execute_reply": "2025-07-30T14:07:38.944463Z"
    },
    "papermill": {
     "duration": 0.020005,
     "end_time": "2025-07-30T14:07:38.946472",
     "exception": false,
     "start_time": "2025-07-30T14:07:38.926467",
     "status": "completed"
    },
    "tags": []
   },
   "outputs": [],
   "source": [
    "X_train = siab_train.iloc[:,4:164]\n",
    "y_train = siab_train.iloc[:, [3]]"
   ]
  },
  {
   "cell_type": "code",
   "execution_count": 22,
   "id": "828c96af-f43a-4ed6-ba47-8ac73a47d56c",
   "metadata": {
    "execution": {
     "iopub.execute_input": "2025-07-30T14:07:38.975218Z",
     "iopub.status.busy": "2025-07-30T14:07:38.974778Z",
     "iopub.status.idle": "2025-07-30T14:07:39.027764Z",
     "shell.execute_reply": "2025-07-30T14:07:39.026804Z"
    },
    "papermill": {
     "duration": 0.071881,
     "end_time": "2025-07-30T14:07:39.029847",
     "exception": false,
     "start_time": "2025-07-30T14:07:38.957966",
     "status": "completed"
    },
    "tags": []
   },
   "outputs": [],
   "source": [
    "X_calib = siab_calib.iloc[:,4:164]\n",
    "y_calib = siab_calib.iloc[:, [3]]"
   ]
  },
  {
   "cell_type": "code",
   "execution_count": 23,
   "id": "c34be9c3-6bd6-476e-acd3-845840e303be",
   "metadata": {
    "execution": {
     "iopub.execute_input": "2025-07-30T14:07:39.081783Z",
     "iopub.status.busy": "2025-07-30T14:07:39.080831Z",
     "iopub.status.idle": "2025-07-30T14:07:39.134268Z",
     "shell.execute_reply": "2025-07-30T14:07:39.133104Z"
    },
    "papermill": {
     "duration": 0.081102,
     "end_time": "2025-07-30T14:07:39.136658",
     "exception": false,
     "start_time": "2025-07-30T14:07:39.055556",
     "status": "completed"
    },
    "tags": []
   },
   "outputs": [],
   "source": [
    "X_test = siab_test.iloc[:,4:164]\n",
    "y_true = siab_test.iloc[:, [3]]"
   ]
  },
  {
   "cell_type": "markdown",
   "id": "9901737e-04df-44f0-9100-f5ad144ed040",
   "metadata": {
    "papermill": {
     "duration": 0.024116,
     "end_time": "2025-07-30T14:07:39.187591",
     "exception": false,
     "start_time": "2025-07-30T14:07:39.163475",
     "status": "completed"
    },
    "tags": []
   },
   "source": [
    "# Splitting Data and Setting Training Data Size OLD VERSION"
   ]
  },
  {
   "cell_type": "code",
   "execution_count": 24,
   "id": "acbc8f7d-8fc8-4e86-8c59-5dcb0f58384b",
   "metadata": {
    "execution": {
     "iopub.execute_input": "2025-07-30T14:07:39.236841Z",
     "iopub.status.busy": "2025-07-30T14:07:39.236280Z",
     "iopub.status.idle": "2025-07-30T14:07:39.242115Z",
     "shell.execute_reply": "2025-07-30T14:07:39.241038Z"
    },
    "papermill": {
     "duration": 0.033063,
     "end_time": "2025-07-30T14:07:39.243695",
     "exception": false,
     "start_time": "2025-07-30T14:07:39.210632",
     "status": "completed"
    },
    "tags": []
   },
   "outputs": [],
   "source": [
    "#def sample_by_year(df, training_size, random_state=42):\n",
    "#    if training_size == \"2014\":\n",
    "#        return df[df[\"year\"] == 2014].reset_index(drop=True)\n",
    "#    \n",
    "#    size_map = {\n",
    "#        \"25k\": 5000,\n",
    "#        \"5k\": 1000,\n",
    "#        \"1k\": 200\n",
    "#    }\n",
    "#\n",
    "#    if training_size not in size_map:\n",
    "#        return df.reset_index(drop=True)  # use all data\n",
    "#\n",
    "#    n_per_year = size_map[training_size]\n",
    "#    grouped = df.groupby(\"year\")\n",
    "#    sampled = grouped.apply(lambda x: x.sample(n=min(n_per_year, len(x)), random_state=random_state))\n",
    "#    return sampled.reset_index(drop=True)"
   ]
  },
  {
   "cell_type": "code",
   "execution_count": 25,
   "id": "6d931f52-beaf-43ff-9e78-9d44a448d54e",
   "metadata": {
    "execution": {
     "iopub.execute_input": "2025-07-30T14:07:39.289111Z",
     "iopub.status.busy": "2025-07-30T14:07:39.288635Z",
     "iopub.status.idle": "2025-07-30T14:07:39.293876Z",
     "shell.execute_reply": "2025-07-30T14:07:39.292927Z"
    },
    "papermill": {
     "duration": 0.029504,
     "end_time": "2025-07-30T14:07:39.295650",
     "exception": false,
     "start_time": "2025-07-30T14:07:39.266146",
     "status": "completed"
    },
    "tags": []
   },
   "outputs": [],
   "source": [
    "#siab_s = sample_by_year(siab, universe[\"training_size\"])"
   ]
  },
  {
   "cell_type": "code",
   "execution_count": 26,
   "id": "5db0a40e-a4e2-4920-be85-b12ae061d70d",
   "metadata": {
    "execution": {
     "iopub.execute_input": "2025-07-30T14:07:39.339867Z",
     "iopub.status.busy": "2025-07-30T14:07:39.339208Z",
     "iopub.status.idle": "2025-07-30T14:07:39.344801Z",
     "shell.execute_reply": "2025-07-30T14:07:39.343796Z"
    },
    "papermill": {
     "duration": 0.029921,
     "end_time": "2025-07-30T14:07:39.346509",
     "exception": false,
     "start_time": "2025-07-30T14:07:39.316588",
     "status": "completed"
    },
    "tags": []
   },
   "outputs": [],
   "source": [
    "#display(siab_s.groupby(\"year\").size())"
   ]
  },
  {
   "cell_type": "code",
   "execution_count": 27,
   "id": "e6c733c5",
   "metadata": {
    "execution": {
     "iopub.execute_input": "2025-07-30T14:07:39.395233Z",
     "iopub.status.busy": "2025-07-30T14:07:39.394561Z",
     "iopub.status.idle": "2025-07-30T14:07:39.490034Z",
     "shell.execute_reply": "2025-07-30T14:07:39.489133Z"
    },
    "papermill": {
     "duration": 0.121994,
     "end_time": "2025-07-30T14:07:39.491856",
     "exception": false,
     "start_time": "2025-07-30T14:07:39.369862",
     "status": "completed"
    },
    "tags": []
   },
   "outputs": [],
   "source": [
    "# Auxiliary data needed downstream in the pipeline\n",
    "\n",
    "org_train = X_train.copy()\n",
    "org_test = X_test.copy()\n",
    "org_calib = X_calib.copy()"
   ]
  },
  {
   "cell_type": "code",
   "execution_count": 28,
   "id": "1466abac-c6da-4492-a62f-4240ae3783af",
   "metadata": {
    "execution": {
     "iopub.execute_input": "2025-07-30T14:07:39.533982Z",
     "iopub.status.busy": "2025-07-30T14:07:39.533321Z",
     "iopub.status.idle": "2025-07-30T14:07:39.538674Z",
     "shell.execute_reply": "2025-07-30T14:07:39.537855Z"
    },
    "papermill": {
     "duration": 0.027562,
     "end_time": "2025-07-30T14:07:39.540173",
     "exception": false,
     "start_time": "2025-07-30T14:07:39.512611",
     "status": "completed"
    },
    "tags": []
   },
   "outputs": [],
   "source": [
    "# put in other script?\n",
    "# Group sizes\n",
    "\n",
    "#def calculate_percentages(df, df_name):\n",
    "#    total_entries = len(df)\n",
    "#\n",
    "#    female_pct = (df['frau1'] == 1).mean() * 100\n",
    "#    non_german_pct = ((df['maxdeutsch1'] == 0) & (df['maxdeutsch.Missing.'] == 0)).mean() * 100\n",
    "#    non_german_male_pct = ((df['frau1'] == 0) & (df['maxdeutsch1'] == 0) & (df['maxdeutsch.Missing.'] == 0)).mean() * 100\n",
    "#    non_german_female_pct = ((df['frau1'] == 1) & (df['maxdeutsch1'] == 0) & (df['maxdeutsch.Missing.'] == 0)).mean() * 100\n",
    "#\n",
    "#    print(f\"--- {df_name} ---\")\n",
    "#    print(f\"Female: {female_pct:.2f}%\")\n",
    "#    print(f\"Non-German: {non_german_pct:.2f}%\")\n",
    "#    print(f\"Non-German Male: {non_german_male_pct:.2f}%\")\n",
    "#    print(f\"Non-German Female: {non_german_female_pct:.2f}%\\n\")\n",
    "#\n",
    "## Calculate for each DataFrame\n",
    "#calculate_percentages(siab_calib, \"siab_calib\")\n",
    "#calculate_percentages(siab_test, \"siab_test\")\n",
    "#calculate_percentages(siab_train, \"siab_train\")"
   ]
  },
  {
   "cell_type": "markdown",
   "id": "0a4a1b33",
   "metadata": {
    "papermill": {
     "duration": 0.020207,
     "end_time": "2025-07-30T14:07:39.583653",
     "exception": false,
     "start_time": "2025-07-30T14:07:39.563446",
     "status": "completed"
    },
    "tags": []
   },
   "source": [
    "# Preprocessing Data"
   ]
  },
  {
   "cell_type": "code",
   "execution_count": 29,
   "id": "ca879031",
   "metadata": {
    "execution": {
     "iopub.execute_input": "2025-07-30T14:07:39.628837Z",
     "iopub.status.busy": "2025-07-30T14:07:39.628178Z",
     "iopub.status.idle": "2025-07-30T14:07:39.634671Z",
     "shell.execute_reply": "2025-07-30T14:07:39.633836Z"
    },
    "papermill": {
     "duration": 0.030436,
     "end_time": "2025-07-30T14:07:39.636243",
     "exception": false,
     "start_time": "2025-07-30T14:07:39.605807",
     "status": "completed"
    },
    "tags": []
   },
   "outputs": [],
   "source": [
    "# EXCLUDE PROTECTED FEATURES\n",
    "# ----------------------\n",
    "# \"exclude_features\": \"none\", # \"nationality\", \"sex\", \"nationality-sex\"\n",
    "\n",
    "excluded_features = universe[\"exclude_features\"].split(\"-\") # split, e.g.: \"nationality-sex\" -> [\"nationality\", \"sex\"]\n",
    "excluded_features_dictionary = {\n",
    "    \"nationality\": [\"maxdeutsch1\", \"maxdeutsch.Missing.\"],\n",
    "    \"sex\": [\"frau1\"],\n",
    "    \"age\": [\"age\"],\n",
    "}\n"
   ]
  },
  {
   "cell_type": "code",
   "execution_count": 30,
   "id": "b745ac60",
   "metadata": {
    "execution": {
     "iopub.execute_input": "2025-07-30T14:07:39.683877Z",
     "iopub.status.busy": "2025-07-30T14:07:39.683370Z",
     "iopub.status.idle": "2025-07-30T14:07:39.689108Z",
     "shell.execute_reply": "2025-07-30T14:07:39.688180Z"
    },
    "papermill": {
     "duration": 0.030169,
     "end_time": "2025-07-30T14:07:39.690698",
     "exception": false,
     "start_time": "2025-07-30T14:07:39.660529",
     "status": "completed"
    },
    "tags": []
   },
   "outputs": [],
   "source": [
    "# Code nice names to column names\n",
    "\n",
    "excluded_features_columns = [\n",
    "    excluded_features_dictionary[f] for f in excluded_features if len(f) > 0 and f != \"none\"\n",
    "]"
   ]
  },
  {
   "cell_type": "code",
   "execution_count": 31,
   "id": "f84f73a2",
   "metadata": {
    "execution": {
     "iopub.execute_input": "2025-07-30T14:07:39.734444Z",
     "iopub.status.busy": "2025-07-30T14:07:39.733916Z",
     "iopub.status.idle": "2025-07-30T14:07:39.740624Z",
     "shell.execute_reply": "2025-07-30T14:07:39.739750Z"
    },
    "papermill": {
     "duration": 0.030771,
     "end_time": "2025-07-30T14:07:39.742330",
     "exception": false,
     "start_time": "2025-07-30T14:07:39.711559",
     "status": "completed"
    },
    "tags": []
   },
   "outputs": [],
   "source": [
    "from utils import flatten_once\n",
    "\n",
    "excluded_features_columns = flatten_once(excluded_features_columns)"
   ]
  },
  {
   "cell_type": "code",
   "execution_count": 32,
   "id": "884dea22",
   "metadata": {
    "execution": {
     "iopub.execute_input": "2025-07-30T14:07:39.786929Z",
     "iopub.status.busy": "2025-07-30T14:07:39.786461Z",
     "iopub.status.idle": "2025-07-30T14:07:39.794958Z",
     "shell.execute_reply": "2025-07-30T14:07:39.794061Z"
    },
    "papermill": {
     "duration": 0.031454,
     "end_time": "2025-07-30T14:07:39.796446",
     "exception": false,
     "start_time": "2025-07-30T14:07:39.764992",
     "status": "completed"
    },
    "tags": []
   },
   "outputs": [
    {
     "name": "stdout",
     "output_type": "stream",
     "text": [
      "Dropping features: ['frau1']\n"
     ]
    }
   ],
   "source": [
    "if len(excluded_features_columns) > 0:\n",
    "    print(f\"Dropping features: {excluded_features_columns}\")\n",
    "    X_train.drop(excluded_features_columns, axis=1, inplace=True)"
   ]
  },
  {
   "cell_type": "code",
   "execution_count": 33,
   "id": "95ab8b16",
   "metadata": {
    "execution": {
     "iopub.execute_input": "2025-07-30T14:07:39.840343Z",
     "iopub.status.busy": "2025-07-30T14:07:39.839717Z",
     "iopub.status.idle": "2025-07-30T14:07:39.895373Z",
     "shell.execute_reply": "2025-07-30T14:07:39.894329Z"
    },
    "papermill": {
     "duration": 0.079118,
     "end_time": "2025-07-30T14:07:39.897369",
     "exception": false,
     "start_time": "2025-07-30T14:07:39.818251",
     "status": "completed"
    },
    "tags": []
   },
   "outputs": [
    {
     "name": "stdout",
     "output_type": "stream",
     "text": [
      "Dropping features: ['frau1']\n"
     ]
    }
   ],
   "source": [
    "if len(excluded_features_columns) > 0:\n",
    "    print(f\"Dropping features: {excluded_features_columns}\")\n",
    "    X_test.drop(excluded_features_columns, axis=1, inplace=True)"
   ]
  },
  {
   "cell_type": "code",
   "execution_count": 34,
   "id": "1853aaf5-fb9f-46cb-a2b5-8ea4ae2237e4",
   "metadata": {
    "execution": {
     "iopub.execute_input": "2025-07-30T14:07:39.944114Z",
     "iopub.status.busy": "2025-07-30T14:07:39.943435Z",
     "iopub.status.idle": "2025-07-30T14:07:39.997188Z",
     "shell.execute_reply": "2025-07-30T14:07:39.996071Z"
    },
    "papermill": {
     "duration": 0.080001,
     "end_time": "2025-07-30T14:07:39.999016",
     "exception": false,
     "start_time": "2025-07-30T14:07:39.919015",
     "status": "completed"
    },
    "tags": []
   },
   "outputs": [
    {
     "name": "stdout",
     "output_type": "stream",
     "text": [
      "Dropping features: ['frau1']\n"
     ]
    }
   ],
   "source": [
    "if len(excluded_features_columns) > 0:\n",
    "    print(f\"Dropping features: {excluded_features_columns}\")\n",
    "    X_calib.drop(excluded_features_columns, axis=1, inplace=True)"
   ]
  },
  {
   "cell_type": "code",
   "execution_count": 35,
   "id": "6727d079-03e5-481e-9d38-292a90b7a0a8",
   "metadata": {
    "execution": {
     "iopub.execute_input": "2025-07-30T14:07:40.049408Z",
     "iopub.status.busy": "2025-07-30T14:07:40.048542Z",
     "iopub.status.idle": "2025-07-30T14:07:40.053491Z",
     "shell.execute_reply": "2025-07-30T14:07:40.052613Z"
    },
    "papermill": {
     "duration": 0.032938,
     "end_time": "2025-07-30T14:07:40.055193",
     "exception": false,
     "start_time": "2025-07-30T14:07:40.022255",
     "status": "completed"
    },
    "tags": []
   },
   "outputs": [],
   "source": [
    "# SPLIT & STRATIFY DATA\n",
    "# ----------------------"
   ]
  },
  {
   "cell_type": "code",
   "execution_count": 36,
   "id": "76c4dc6d",
   "metadata": {
    "execution": {
     "iopub.execute_input": "2025-07-30T14:07:40.100605Z",
     "iopub.status.busy": "2025-07-30T14:07:40.099926Z",
     "iopub.status.idle": "2025-07-30T14:07:40.105078Z",
     "shell.execute_reply": "2025-07-30T14:07:40.104173Z"
    },
    "papermill": {
     "duration": 0.029719,
     "end_time": "2025-07-30T14:07:40.106587",
     "exception": false,
     "start_time": "2025-07-30T14:07:40.076868",
     "status": "completed"
    },
    "tags": []
   },
   "outputs": [],
   "source": [
    "# EXCLUDE CERTAIN SUBGROUPS\n",
    "# ----------------------\n",
    "\n",
    "mode = universe.get(\"exclude_subgroups\", \"keep-all\") \n",
    "# Fetches the exclude_subgroups setting from the universe dict.\n",
    "# Defaults to \"keep-all\" if the key is missing."
   ]
  },
  {
   "cell_type": "code",
   "execution_count": 37,
   "id": "21994072",
   "metadata": {
    "execution": {
     "iopub.execute_input": "2025-07-30T14:07:40.157359Z",
     "iopub.status.busy": "2025-07-30T14:07:40.156749Z",
     "iopub.status.idle": "2025-07-30T14:07:40.163979Z",
     "shell.execute_reply": "2025-07-30T14:07:40.163050Z"
    },
    "papermill": {
     "duration": 0.042623,
     "end_time": "2025-07-30T14:07:40.170641",
     "exception": false,
     "start_time": "2025-07-30T14:07:40.128018",
     "status": "completed"
    },
    "tags": []
   },
   "outputs": [],
   "source": [
    "if mode == \"keep-all\":\n",
    "    keep_mask = pd.Series(True, index=org_train.index)\n",
    "\n",
    "# org_train contains the original feature columns from features_org (in Simson)\n",
    "# features_org contains unprocessed features, for me X_train at beginning ???\n",
    "# For keep-all, creates a boolean Series (keep_mask) of all True, so no rows are removed.\n",
    "\n",
    "elif mode == \"drop-non-german\":\n",
    "    keep_mask = org_train[\"maxdeutsch1\"] == 1 # ??? what about missing values?\n",
    "\n",
    "else:\n",
    "    raise ValueError(f\"Unsupported mode for exclude_subgroups: {mode}\")\n"
   ]
  },
  {
   "cell_type": "code",
   "execution_count": 38,
   "id": "71651440",
   "metadata": {
    "execution": {
     "iopub.execute_input": "2025-07-30T14:07:40.223112Z",
     "iopub.status.busy": "2025-07-30T14:07:40.222689Z",
     "iopub.status.idle": "2025-07-30T14:07:40.229142Z",
     "shell.execute_reply": "2025-07-30T14:07:40.228140Z"
    },
    "papermill": {
     "duration": 0.03393,
     "end_time": "2025-07-30T14:07:40.230602",
     "exception": false,
     "start_time": "2025-07-30T14:07:40.196672",
     "status": "completed"
    },
    "tags": []
   },
   "outputs": [],
   "source": [
    "n_drop = (~keep_mask).sum() # Calculates how many rows are set to be dropped\n",
    "if n_drop > 0:\n",
    "    pct = n_drop / len(keep_mask) * 100\n",
    "    print(f\"Dropping {n_drop} rows ({pct:.2f}%) where mode='{mode}'\")"
   ]
  },
  {
   "cell_type": "code",
   "execution_count": 39,
   "id": "5fb8eee5",
   "metadata": {
    "execution": {
     "iopub.execute_input": "2025-07-30T14:07:40.278952Z",
     "iopub.status.busy": "2025-07-30T14:07:40.278424Z",
     "iopub.status.idle": "2025-07-30T14:07:40.285563Z",
     "shell.execute_reply": "2025-07-30T14:07:40.284598Z"
    },
    "papermill": {
     "duration": 0.032805,
     "end_time": "2025-07-30T14:07:40.287320",
     "exception": false,
     "start_time": "2025-07-30T14:07:40.254515",
     "status": "completed"
    },
    "tags": []
   },
   "outputs": [],
   "source": [
    "X_train = X_train[keep_mask]"
   ]
  },
  {
   "cell_type": "code",
   "execution_count": 40,
   "id": "b202bb3a",
   "metadata": {
    "execution": {
     "iopub.execute_input": "2025-07-30T14:07:40.335563Z",
     "iopub.status.busy": "2025-07-30T14:07:40.334746Z",
     "iopub.status.idle": "2025-07-30T14:07:40.340938Z",
     "shell.execute_reply": "2025-07-30T14:07:40.339944Z"
    },
    "papermill": {
     "duration": 0.031866,
     "end_time": "2025-07-30T14:07:40.342377",
     "exception": false,
     "start_time": "2025-07-30T14:07:40.310511",
     "status": "completed"
    },
    "tags": []
   },
   "outputs": [],
   "source": [
    "y_train = y_train[keep_mask]"
   ]
  },
  {
   "cell_type": "markdown",
   "id": "493e2ac3",
   "metadata": {
    "papermill": {
     "duration": 0.021062,
     "end_time": "2025-07-30T14:07:40.385914",
     "exception": false,
     "start_time": "2025-07-30T14:07:40.364852",
     "status": "completed"
    },
    "tags": []
   },
   "source": [
    "# Model Training"
   ]
  },
  {
   "cell_type": "code",
   "execution_count": 41,
   "id": "679e1268",
   "metadata": {
    "execution": {
     "iopub.execute_input": "2025-07-30T14:07:40.438053Z",
     "iopub.status.busy": "2025-07-30T14:07:40.437522Z",
     "iopub.status.idle": "2025-07-30T14:07:40.533279Z",
     "shell.execute_reply": "2025-07-30T14:07:40.532269Z"
    },
    "papermill": {
     "duration": 0.125095,
     "end_time": "2025-07-30T14:07:40.535512",
     "exception": false,
     "start_time": "2025-07-30T14:07:40.410417",
     "status": "completed"
    },
    "tags": []
   },
   "outputs": [],
   "source": [
    "from sklearn.linear_model import LogisticRegression\n",
    "from sklearn.ensemble import GradientBoostingClassifier, RandomForestClassifier\n",
    "\n",
    "if (universe[\"model\"] == \"logreg\"):\n",
    "    model = LogisticRegression() #penalty=\"none\") #, solver=\"newton-cg\", max_iter=1) # include random_state=19 ?\n",
    "elif (universe[\"model\"] == \"penalized_logreg\"):\n",
    "    model = LogisticRegression(penalty=\"l2\", C=1.0) #, solver=\"newton-cg\", max_iter=1)\n",
    "elif (universe[\"model\"] == \"rf\"):\n",
    "    model = RandomForestClassifier(n_estimators=100, n_jobs=-1)\n",
    "elif (universe[\"model\"] == \"gbm\"):\n",
    "    model = GradientBoostingClassifier()\n",
    "elif (universe[\"model\"] == \"elasticnet\"):\n",
    "    model = LogisticRegression(penalty = 'elasticnet', solver = 'saga', l1_ratio = 0.5, max_iter=5000) # which solver to use?\n",
    "else:\n",
    "    raise \"Unsupported universe.model\""
   ]
  },
  {
   "cell_type": "code",
   "execution_count": 42,
   "id": "0cc8f744",
   "metadata": {
    "execution": {
     "iopub.execute_input": "2025-07-30T14:07:40.597746Z",
     "iopub.status.busy": "2025-07-30T14:07:40.597232Z",
     "iopub.status.idle": "2025-07-30T14:07:40.604563Z",
     "shell.execute_reply": "2025-07-30T14:07:40.603333Z"
    },
    "papermill": {
     "duration": 0.049115,
     "end_time": "2025-07-30T14:07:40.606968",
     "exception": false,
     "start_time": "2025-07-30T14:07:40.557853",
     "status": "completed"
    },
    "tags": []
   },
   "outputs": [],
   "source": [
    "import numpy as np\n",
    "from sklearn.pipeline import Pipeline\n",
    "from sklearn.preprocessing import StandardScaler\n",
    "\n",
    "model = Pipeline([\n",
    "    #(\"continuous_processor\", continuous_processor),\n",
    "    #(\"categorical_preprocessor\", categorical_preprocessor),\n",
    "    (\"scale\", StandardScaler() if universe[\"scale\"] == \"scale\" else None), \n",
    "    (\"model\", model),\n",
    "])"
   ]
  },
  {
   "cell_type": "code",
   "execution_count": 43,
   "id": "9442c04d",
   "metadata": {
    "execution": {
     "iopub.execute_input": "2025-07-30T14:07:40.671959Z",
     "iopub.status.busy": "2025-07-30T14:07:40.671241Z",
     "iopub.status.idle": "2025-07-30T14:07:40.827900Z",
     "shell.execute_reply": "2025-07-30T14:07:40.826796Z"
    },
    "papermill": {
     "duration": 0.190987,
     "end_time": "2025-07-30T14:07:40.830419",
     "exception": false,
     "start_time": "2025-07-30T14:07:40.639432",
     "status": "completed"
    },
    "tags": []
   },
   "outputs": [
    {
     "name": "stderr",
     "output_type": "stream",
     "text": [
      "/dss/dsshome1/0C/ra93lal2/.local/share/virtualenvs/CMA_Fairness_v2-3j10GkSs/lib/python3.10/site-packages/sklearn/linear_model/_logistic.py:444: ConvergenceWarning: lbfgs failed to converge (status=1):\n",
      "STOP: TOTAL NO. of ITERATIONS REACHED LIMIT.\n",
      "\n",
      "Increase the number of iterations (max_iter) or scale the data as shown in:\n",
      "    https://scikit-learn.org/stable/modules/preprocessing.html\n",
      "Please also refer to the documentation for alternative solver options:\n",
      "    https://scikit-learn.org/stable/modules/linear_model.html#logistic-regression\n",
      "  n_iter_i = _check_optimize_result(\n"
     ]
    },
    {
     "data": {
      "text/html": [
       "<style>#sk-container-id-1 {color: black;background-color: white;}#sk-container-id-1 pre{padding: 0;}#sk-container-id-1 div.sk-toggleable {background-color: white;}#sk-container-id-1 label.sk-toggleable__label {cursor: pointer;display: block;width: 100%;margin-bottom: 0;padding: 0.3em;box-sizing: border-box;text-align: center;}#sk-container-id-1 label.sk-toggleable__label-arrow:before {content: \"▸\";float: left;margin-right: 0.25em;color: #696969;}#sk-container-id-1 label.sk-toggleable__label-arrow:hover:before {color: black;}#sk-container-id-1 div.sk-estimator:hover label.sk-toggleable__label-arrow:before {color: black;}#sk-container-id-1 div.sk-toggleable__content {max-height: 0;max-width: 0;overflow: hidden;text-align: left;background-color: #f0f8ff;}#sk-container-id-1 div.sk-toggleable__content pre {margin: 0.2em;color: black;border-radius: 0.25em;background-color: #f0f8ff;}#sk-container-id-1 input.sk-toggleable__control:checked~div.sk-toggleable__content {max-height: 200px;max-width: 100%;overflow: auto;}#sk-container-id-1 input.sk-toggleable__control:checked~label.sk-toggleable__label-arrow:before {content: \"▾\";}#sk-container-id-1 div.sk-estimator input.sk-toggleable__control:checked~label.sk-toggleable__label {background-color: #d4ebff;}#sk-container-id-1 div.sk-label input.sk-toggleable__control:checked~label.sk-toggleable__label {background-color: #d4ebff;}#sk-container-id-1 input.sk-hidden--visually {border: 0;clip: rect(1px 1px 1px 1px);clip: rect(1px, 1px, 1px, 1px);height: 1px;margin: -1px;overflow: hidden;padding: 0;position: absolute;width: 1px;}#sk-container-id-1 div.sk-estimator {font-family: monospace;background-color: #f0f8ff;border: 1px dotted black;border-radius: 0.25em;box-sizing: border-box;margin-bottom: 0.5em;}#sk-container-id-1 div.sk-estimator:hover {background-color: #d4ebff;}#sk-container-id-1 div.sk-parallel-item::after {content: \"\";width: 100%;border-bottom: 1px solid gray;flex-grow: 1;}#sk-container-id-1 div.sk-label:hover label.sk-toggleable__label {background-color: #d4ebff;}#sk-container-id-1 div.sk-serial::before {content: \"\";position: absolute;border-left: 1px solid gray;box-sizing: border-box;top: 0;bottom: 0;left: 50%;z-index: 0;}#sk-container-id-1 div.sk-serial {display: flex;flex-direction: column;align-items: center;background-color: white;padding-right: 0.2em;padding-left: 0.2em;position: relative;}#sk-container-id-1 div.sk-item {position: relative;z-index: 1;}#sk-container-id-1 div.sk-parallel {display: flex;align-items: stretch;justify-content: center;background-color: white;position: relative;}#sk-container-id-1 div.sk-item::before, #sk-container-id-1 div.sk-parallel-item::before {content: \"\";position: absolute;border-left: 1px solid gray;box-sizing: border-box;top: 0;bottom: 0;left: 50%;z-index: -1;}#sk-container-id-1 div.sk-parallel-item {display: flex;flex-direction: column;z-index: 1;position: relative;background-color: white;}#sk-container-id-1 div.sk-parallel-item:first-child::after {align-self: flex-end;width: 50%;}#sk-container-id-1 div.sk-parallel-item:last-child::after {align-self: flex-start;width: 50%;}#sk-container-id-1 div.sk-parallel-item:only-child::after {width: 0;}#sk-container-id-1 div.sk-dashed-wrapped {border: 1px dashed gray;margin: 0 0.4em 0.5em 0.4em;box-sizing: border-box;padding-bottom: 0.4em;background-color: white;}#sk-container-id-1 div.sk-label label {font-family: monospace;font-weight: bold;display: inline-block;line-height: 1.2em;}#sk-container-id-1 div.sk-label-container {text-align: center;}#sk-container-id-1 div.sk-container {/* jupyter's `normalize.less` sets `[hidden] { display: none; }` but bootstrap.min.css set `[hidden] { display: none !important; }` so we also need the `!important` here to be able to override the default hidden behavior on the sphinx rendered scikit-learn.org. See: https://github.com/scikit-learn/scikit-learn/issues/21755 */display: inline-block !important;position: relative;}#sk-container-id-1 div.sk-text-repr-fallback {display: none;}</style><div id=\"sk-container-id-1\" class=\"sk-top-container\"><div class=\"sk-text-repr-fallback\"><pre>Pipeline(steps=[(&#x27;scale&#x27;, StandardScaler()), (&#x27;model&#x27;, LogisticRegression())])</pre><b>In a Jupyter environment, please rerun this cell to show the HTML representation or trust the notebook. <br />On GitHub, the HTML representation is unable to render, please try loading this page with nbviewer.org.</b></div><div class=\"sk-container\" hidden><div class=\"sk-item sk-dashed-wrapped\"><div class=\"sk-label-container\"><div class=\"sk-label sk-toggleable\"><input class=\"sk-toggleable__control sk-hidden--visually\" id=\"sk-estimator-id-1\" type=\"checkbox\" ><label for=\"sk-estimator-id-1\" class=\"sk-toggleable__label sk-toggleable__label-arrow\">Pipeline</label><div class=\"sk-toggleable__content\"><pre>Pipeline(steps=[(&#x27;scale&#x27;, StandardScaler()), (&#x27;model&#x27;, LogisticRegression())])</pre></div></div></div><div class=\"sk-serial\"><div class=\"sk-item\"><div class=\"sk-estimator sk-toggleable\"><input class=\"sk-toggleable__control sk-hidden--visually\" id=\"sk-estimator-id-2\" type=\"checkbox\" ><label for=\"sk-estimator-id-2\" class=\"sk-toggleable__label sk-toggleable__label-arrow\">StandardScaler</label><div class=\"sk-toggleable__content\"><pre>StandardScaler()</pre></div></div></div><div class=\"sk-item\"><div class=\"sk-estimator sk-toggleable\"><input class=\"sk-toggleable__control sk-hidden--visually\" id=\"sk-estimator-id-3\" type=\"checkbox\" ><label for=\"sk-estimator-id-3\" class=\"sk-toggleable__label sk-toggleable__label-arrow\">LogisticRegression</label><div class=\"sk-toggleable__content\"><pre>LogisticRegression()</pre></div></div></div></div></div></div></div>"
      ],
      "text/plain": [
       "Pipeline(steps=[('scale', StandardScaler()), ('model', LogisticRegression())])"
      ]
     },
     "execution_count": 43,
     "metadata": {},
     "output_type": "execute_result"
    }
   ],
   "source": [
    "model.fit(X_train, y_train.values.ravel())"
   ]
  },
  {
   "cell_type": "code",
   "execution_count": 44,
   "id": "af59f8c0",
   "metadata": {
    "execution": {
     "iopub.execute_input": "2025-07-30T14:07:40.892688Z",
     "iopub.status.busy": "2025-07-30T14:07:40.892208Z",
     "iopub.status.idle": "2025-07-30T14:07:40.898146Z",
     "shell.execute_reply": "2025-07-30T14:07:40.897071Z"
    },
    "papermill": {
     "duration": 0.037662,
     "end_time": "2025-07-30T14:07:40.899910",
     "exception": false,
     "start_time": "2025-07-30T14:07:40.862248",
     "status": "completed"
    },
    "tags": []
   },
   "outputs": [],
   "source": [
    "from fairness_multiverse.universe import predict_w_threshold"
   ]
  },
  {
   "cell_type": "code",
   "execution_count": 45,
   "id": "a7cf2e16",
   "metadata": {
    "execution": {
     "iopub.execute_input": "2025-07-30T14:07:40.940233Z",
     "iopub.status.busy": "2025-07-30T14:07:40.939846Z",
     "iopub.status.idle": "2025-07-30T14:07:41.163006Z",
     "shell.execute_reply": "2025-07-30T14:07:41.161663Z"
    },
    "papermill": {
     "duration": 0.241654,
     "end_time": "2025-07-30T14:07:41.164894",
     "exception": false,
     "start_time": "2025-07-30T14:07:40.923240",
     "status": "completed"
    },
    "tags": []
   },
   "outputs": [
    {
     "data": {
      "text/plain": [
       "0.8525359491695463"
      ]
     },
     "execution_count": 45,
     "metadata": {},
     "output_type": "execute_result"
    }
   ],
   "source": [
    "probs_test = model.predict_proba(X_test)\n",
    "\n",
    "'''\n",
    "Below code returns a boolean array (or binary 0/1 array depending on how it’s used) where each element \n",
    "is True if the probability of class 1 is greater than or equal to the threshold, and False otherwise.\n",
    "'''\n",
    "y_pred_default = predict_w_threshold(probs_test, 0.5)\n",
    "\n",
    "from sklearn.metrics import accuracy_score\n",
    "\n",
    "# Naive prediction\n",
    "accuracy_score(y_true = y_true, y_pred = y_pred_default)"
   ]
  },
  {
   "cell_type": "code",
   "execution_count": 46,
   "id": "081964c3",
   "metadata": {
    "execution": {
     "iopub.execute_input": "2025-07-30T14:07:41.220610Z",
     "iopub.status.busy": "2025-07-30T14:07:41.219887Z",
     "iopub.status.idle": "2025-07-30T14:07:41.424524Z",
     "shell.execute_reply": "2025-07-30T14:07:41.423435Z"
    },
    "papermill": {
     "duration": 0.23313,
     "end_time": "2025-07-30T14:07:41.426098",
     "exception": false,
     "start_time": "2025-07-30T14:07:41.192968",
     "status": "completed"
    },
    "tags": []
   },
   "outputs": [
    {
     "data": {
      "text/plain": [
       "array([0, 0, 0, ..., 0, 0, 0])"
      ]
     },
     "execution_count": 46,
     "metadata": {},
     "output_type": "execute_result"
    }
   ],
   "source": [
    "model.predict(X_test)"
   ]
  },
  {
   "cell_type": "markdown",
   "id": "56c9705b",
   "metadata": {
    "papermill": {
     "duration": 0.026427,
     "end_time": "2025-07-30T14:07:41.476308",
     "exception": false,
     "start_time": "2025-07-30T14:07:41.449881",
     "status": "completed"
    },
    "tags": []
   },
   "source": [
    "# Conformal Prediction"
   ]
  },
  {
   "cell_type": "code",
   "execution_count": 47,
   "id": "160ec6ff",
   "metadata": {
    "execution": {
     "iopub.execute_input": "2025-07-30T14:07:41.531270Z",
     "iopub.status.busy": "2025-07-30T14:07:41.530434Z",
     "iopub.status.idle": "2025-07-30T14:07:41.535576Z",
     "shell.execute_reply": "2025-07-30T14:07:41.534619Z"
    },
    "papermill": {
     "duration": 0.034692,
     "end_time": "2025-07-30T14:07:41.537192",
     "exception": false,
     "start_time": "2025-07-30T14:07:41.502500",
     "status": "completed"
    },
    "tags": []
   },
   "outputs": [],
   "source": [
    "# Miscoverage level for conformal prediction (10% allowed error rate => 90% target coverage)\n",
    "alpha = 0.1"
   ]
  },
  {
   "cell_type": "code",
   "execution_count": 48,
   "id": "eadf4555-3dd3-440e-8e35-f82a4ad9f855",
   "metadata": {
    "execution": {
     "iopub.execute_input": "2025-07-30T14:07:41.582972Z",
     "iopub.status.busy": "2025-07-30T14:07:41.582595Z",
     "iopub.status.idle": "2025-07-30T14:07:41.767856Z",
     "shell.execute_reply": "2025-07-30T14:07:41.766938Z"
    },
    "papermill": {
     "duration": 0.205777,
     "end_time": "2025-07-30T14:07:41.769736",
     "exception": false,
     "start_time": "2025-07-30T14:07:41.563959",
     "status": "completed"
    },
    "tags": []
   },
   "outputs": [],
   "source": [
    "probs_calib = model.predict_proba(X_calib)"
   ]
  },
  {
   "cell_type": "code",
   "execution_count": 49,
   "id": "2ed93547-6d5d-4983-9b36-1ecb300da49a",
   "metadata": {
    "execution": {
     "iopub.execute_input": "2025-07-30T14:07:41.817912Z",
     "iopub.status.busy": "2025-07-30T14:07:41.817400Z",
     "iopub.status.idle": "2025-07-30T14:07:41.823334Z",
     "shell.execute_reply": "2025-07-30T14:07:41.822378Z"
    },
    "papermill": {
     "duration": 0.031807,
     "end_time": "2025-07-30T14:07:41.824899",
     "exception": false,
     "start_time": "2025-07-30T14:07:41.793092",
     "status": "completed"
    },
    "tags": []
   },
   "outputs": [],
   "source": [
    "y_calib = y_calib.values.ravel().astype(int)"
   ]
  },
  {
   "cell_type": "code",
   "execution_count": 50,
   "id": "65d1320d-f588-4b38-9072-62af1ae97f7d",
   "metadata": {
    "execution": {
     "iopub.execute_input": "2025-07-30T14:07:41.875007Z",
     "iopub.status.busy": "2025-07-30T14:07:41.874537Z",
     "iopub.status.idle": "2025-07-30T14:07:41.883347Z",
     "shell.execute_reply": "2025-07-30T14:07:41.882432Z"
    },
    "papermill": {
     "duration": 0.035767,
     "end_time": "2025-07-30T14:07:41.885064",
     "exception": false,
     "start_time": "2025-07-30T14:07:41.849297",
     "status": "completed"
    },
    "tags": []
   },
   "outputs": [],
   "source": [
    "from fairness_multiverse.conformal import compute_nc_scores\n",
    "\n",
    "# Compute nonconformity scores on calibration set (1 - probability of true class)\n",
    "nc_scores = compute_nc_scores(probs_calib, y_calib)"
   ]
  },
  {
   "cell_type": "code",
   "execution_count": 51,
   "id": "df3b8ca3-53b7-43d5-9667-7c85da7aeda2",
   "metadata": {
    "execution": {
     "iopub.execute_input": "2025-07-30T14:07:41.935098Z",
     "iopub.status.busy": "2025-07-30T14:07:41.934596Z",
     "iopub.status.idle": "2025-07-30T14:07:41.941387Z",
     "shell.execute_reply": "2025-07-30T14:07:41.940528Z"
    },
    "papermill": {
     "duration": 0.032885,
     "end_time": "2025-07-30T14:07:41.943327",
     "exception": false,
     "start_time": "2025-07-30T14:07:41.910442",
     "status": "completed"
    },
    "tags": []
   },
   "outputs": [],
   "source": [
    "from fairness_multiverse.conformal import find_threshold\n",
    "\n",
    "# Find conformal threshold q_hat for the given alpha (split conformal method)\n",
    "q_hat = find_threshold(nc_scores, alpha)"
   ]
  },
  {
   "cell_type": "code",
   "execution_count": 52,
   "id": "4d29e6c1-0ef6-4aa4-b8fe-4fe79b0d033a",
   "metadata": {
    "execution": {
     "iopub.execute_input": "2025-07-30T14:07:41.994844Z",
     "iopub.status.busy": "2025-07-30T14:07:41.994322Z",
     "iopub.status.idle": "2025-07-30T14:07:42.001799Z",
     "shell.execute_reply": "2025-07-30T14:07:42.000896Z"
    },
    "papermill": {
     "duration": 0.033788,
     "end_time": "2025-07-30T14:07:42.003458",
     "exception": false,
     "start_time": "2025-07-30T14:07:41.969670",
     "status": "completed"
    },
    "tags": []
   },
   "outputs": [
    {
     "data": {
      "text/plain": [
       "0.6802962526098277"
      ]
     },
     "execution_count": 52,
     "metadata": {},
     "output_type": "execute_result"
    }
   ],
   "source": [
    "q_hat"
   ]
  },
  {
   "cell_type": "code",
   "execution_count": 53,
   "id": "92460794-cdac-4be2-ba28-f28c0515a6fb",
   "metadata": {
    "execution": {
     "iopub.execute_input": "2025-07-30T14:07:42.052966Z",
     "iopub.status.busy": "2025-07-30T14:07:42.052177Z",
     "iopub.status.idle": "2025-07-30T14:07:42.997964Z",
     "shell.execute_reply": "2025-07-30T14:07:42.997002Z"
    },
    "papermill": {
     "duration": 0.972403,
     "end_time": "2025-07-30T14:07:42.999786",
     "exception": false,
     "start_time": "2025-07-30T14:07:42.027383",
     "status": "completed"
    },
    "tags": []
   },
   "outputs": [],
   "source": [
    "from fairness_multiverse.conformal import predict_conformal_sets\n",
    "\n",
    "# Generate prediction sets for each test example\n",
    "pred_sets = predict_conformal_sets(model, X_test, q_hat)"
   ]
  },
  {
   "cell_type": "code",
   "execution_count": 54,
   "id": "d90c9a65-e6db-4f5d-80cd-e68fb7e46829",
   "metadata": {
    "execution": {
     "iopub.execute_input": "2025-07-30T14:07:43.065739Z",
     "iopub.status.busy": "2025-07-30T14:07:43.065247Z",
     "iopub.status.idle": "2025-07-30T14:07:43.070524Z",
     "shell.execute_reply": "2025-07-30T14:07:43.069554Z"
    },
    "papermill": {
     "duration": 0.031344,
     "end_time": "2025-07-30T14:07:43.071921",
     "exception": false,
     "start_time": "2025-07-30T14:07:43.040577",
     "status": "completed"
    },
    "tags": []
   },
   "outputs": [],
   "source": [
    "y_true = y_true.squeeze()"
   ]
  },
  {
   "cell_type": "code",
   "execution_count": 55,
   "id": "3a58a54a-1e68-46b9-927a-df01f18aebc8",
   "metadata": {
    "execution": {
     "iopub.execute_input": "2025-07-30T14:07:43.124423Z",
     "iopub.status.busy": "2025-07-30T14:07:43.123525Z",
     "iopub.status.idle": "2025-07-30T14:07:43.979414Z",
     "shell.execute_reply": "2025-07-30T14:07:43.978485Z"
    },
    "papermill": {
     "duration": 0.885798,
     "end_time": "2025-07-30T14:07:43.981451",
     "exception": false,
     "start_time": "2025-07-30T14:07:43.095653",
     "status": "completed"
    },
    "tags": []
   },
   "outputs": [],
   "source": [
    "from fairness_multiverse.conformal import evaluate_sets\n",
    "\n",
    "# Evaluate coverage and average set size on test data\n",
    "metrics = evaluate_sets(pred_sets, y_true)"
   ]
  },
  {
   "cell_type": "markdown",
   "id": "2b569c12-9aaa-4c88-98c9-bbcd0cf3ebb8",
   "metadata": {
    "papermill": {
     "duration": 0.024559,
     "end_time": "2025-07-30T14:07:44.033603",
     "exception": false,
     "start_time": "2025-07-30T14:07:44.009044",
     "status": "completed"
    },
    "tags": []
   },
   "source": [
    "# CP Metrics"
   ]
  },
  {
   "cell_type": "code",
   "execution_count": 56,
   "id": "5ce0a5cb-201f-45a0-ade5-94c7f0bd6095",
   "metadata": {
    "execution": {
     "iopub.execute_input": "2025-07-30T14:07:44.084883Z",
     "iopub.status.busy": "2025-07-30T14:07:44.084387Z",
     "iopub.status.idle": "2025-07-30T14:07:44.091496Z",
     "shell.execute_reply": "2025-07-30T14:07:44.090612Z"
    },
    "papermill": {
     "duration": 0.034562,
     "end_time": "2025-07-30T14:07:44.093078",
     "exception": false,
     "start_time": "2025-07-30T14:07:44.058516",
     "status": "completed"
    },
    "tags": []
   },
   "outputs": [
    {
     "data": {
      "text/plain": [
       "{'coverage': 0.9106900011147029, 'avg_size': 1.1457028201984172}"
      ]
     },
     "execution_count": 56,
     "metadata": {},
     "output_type": "execute_result"
    }
   ],
   "source": [
    "metrics"
   ]
  },
  {
   "cell_type": "code",
   "execution_count": 57,
   "id": "9b9a838d-31c9-430b-ae14-12baee460d17",
   "metadata": {
    "execution": {
     "iopub.execute_input": "2025-07-30T14:07:44.143794Z",
     "iopub.status.busy": "2025-07-30T14:07:44.143149Z",
     "iopub.status.idle": "2025-07-30T14:07:44.150216Z",
     "shell.execute_reply": "2025-07-30T14:07:44.148778Z"
    },
    "papermill": {
     "duration": 0.03618,
     "end_time": "2025-07-30T14:07:44.154279",
     "exception": false,
     "start_time": "2025-07-30T14:07:44.118099",
     "status": "completed"
    },
    "tags": []
   },
   "outputs": [],
   "source": [
    "example_universe = universe.copy()\n",
    "universe_training_size = example_universe.get(\"training_size\")\n",
    "universe_scale = example_universe.get(\"scale\")\n",
    "universe_model = example_universe.get(\"model\")\n",
    "universe_exclude_features = example_universe.get(\"exclude_features\")\n",
    "universe_exclude_subgroups = example_universe.get(\"exclude_subgroups\")"
   ]
  },
  {
   "cell_type": "code",
   "execution_count": 58,
   "id": "f4b6a8ac-9dc0-4245-8a91-5b3b5999c4f9",
   "metadata": {
    "execution": {
     "iopub.execute_input": "2025-07-30T14:07:44.209892Z",
     "iopub.status.busy": "2025-07-30T14:07:44.208811Z",
     "iopub.status.idle": "2025-07-30T14:07:44.216976Z",
     "shell.execute_reply": "2025-07-30T14:07:44.215900Z"
    },
    "papermill": {
     "duration": 0.037152,
     "end_time": "2025-07-30T14:07:44.218554",
     "exception": false,
     "start_time": "2025-07-30T14:07:44.181402",
     "status": "completed"
    },
    "tags": []
   },
   "outputs": [],
   "source": [
    "cp_metrics_dict = {\n",
    "    \"universe_id\": [universe_id],\n",
    "    \"universe_training_size\": [universe_training_size],\n",
    "    \"universe_scale\": [universe_scale],\n",
    "    \"universe_model\": [universe_model],\n",
    "    \"universe_exclude_features\": [universe_exclude_features],\n",
    "    \"universe_exclude_subgroups\": [universe_exclude_subgroups],\n",
    "    \"q_hat\": [q_hat],\n",
    "    \"coverage\": [metrics[\"coverage\"]],\n",
    "    \"avg_size\": [metrics[\"avg_size\"]],\n",
    "}"
   ]
  },
  {
   "cell_type": "code",
   "execution_count": 59,
   "id": "908acbb1-0371-4915-85ca-3fa520d2efe2",
   "metadata": {
    "execution": {
     "iopub.execute_input": "2025-07-30T14:07:44.269588Z",
     "iopub.status.busy": "2025-07-30T14:07:44.269183Z",
     "iopub.status.idle": "2025-07-30T14:07:44.276925Z",
     "shell.execute_reply": "2025-07-30T14:07:44.275994Z"
    },
    "papermill": {
     "duration": 0.034502,
     "end_time": "2025-07-30T14:07:44.278742",
     "exception": false,
     "start_time": "2025-07-30T14:07:44.244240",
     "status": "completed"
    },
    "tags": []
   },
   "outputs": [
    {
     "data": {
      "text/plain": [
       "{'universe_id': ['01ad57a06f1e1b6acf43537ae97981e4'],\n",
       " 'universe_training_size': ['5k'],\n",
       " 'universe_scale': ['scale'],\n",
       " 'universe_model': ['penalized_logreg'],\n",
       " 'universe_exclude_features': ['sex'],\n",
       " 'universe_exclude_subgroups': ['keep-all'],\n",
       " 'q_hat': [0.6802962526098277],\n",
       " 'coverage': [0.9106900011147029],\n",
       " 'avg_size': [1.1457028201984172]}"
      ]
     },
     "execution_count": 59,
     "metadata": {},
     "output_type": "execute_result"
    }
   ],
   "source": [
    "cp_metrics_dict"
   ]
  },
  {
   "cell_type": "code",
   "execution_count": 60,
   "id": "33007efc-14e9-4ec6-97ac-56a455c82265",
   "metadata": {
    "execution": {
     "iopub.execute_input": "2025-07-30T14:07:44.331680Z",
     "iopub.status.busy": "2025-07-30T14:07:44.331131Z",
     "iopub.status.idle": "2025-07-30T14:07:44.337386Z",
     "shell.execute_reply": "2025-07-30T14:07:44.336516Z"
    },
    "papermill": {
     "duration": 0.033743,
     "end_time": "2025-07-30T14:07:44.338986",
     "exception": false,
     "start_time": "2025-07-30T14:07:44.305243",
     "status": "completed"
    },
    "tags": []
   },
   "outputs": [],
   "source": [
    "cp_metrics_df = pd.DataFrame(cp_metrics_dict)"
   ]
  },
  {
   "cell_type": "code",
   "execution_count": 61,
   "id": "db12611b-57b2-4910-b9d0-355adfd6e7bf",
   "metadata": {
    "execution": {
     "iopub.execute_input": "2025-07-30T14:07:44.390658Z",
     "iopub.status.busy": "2025-07-30T14:07:44.389891Z",
     "iopub.status.idle": "2025-07-30T14:07:44.406936Z",
     "shell.execute_reply": "2025-07-30T14:07:44.406046Z"
    },
    "papermill": {
     "duration": 0.044256,
     "end_time": "2025-07-30T14:07:44.408506",
     "exception": false,
     "start_time": "2025-07-30T14:07:44.364250",
     "status": "completed"
    },
    "tags": []
   },
   "outputs": [
    {
     "data": {
      "text/html": [
       "<div>\n",
       "<style scoped>\n",
       "    .dataframe tbody tr th:only-of-type {\n",
       "        vertical-align: middle;\n",
       "    }\n",
       "\n",
       "    .dataframe tbody tr th {\n",
       "        vertical-align: top;\n",
       "    }\n",
       "\n",
       "    .dataframe thead th {\n",
       "        text-align: right;\n",
       "    }\n",
       "</style>\n",
       "<table border=\"1\" class=\"dataframe\">\n",
       "  <thead>\n",
       "    <tr style=\"text-align: right;\">\n",
       "      <th></th>\n",
       "      <th>universe_id</th>\n",
       "      <th>universe_training_size</th>\n",
       "      <th>universe_scale</th>\n",
       "      <th>universe_model</th>\n",
       "      <th>universe_exclude_features</th>\n",
       "      <th>universe_exclude_subgroups</th>\n",
       "      <th>q_hat</th>\n",
       "      <th>coverage</th>\n",
       "      <th>avg_size</th>\n",
       "    </tr>\n",
       "  </thead>\n",
       "  <tbody>\n",
       "    <tr>\n",
       "      <th>0</th>\n",
       "      <td>01ad57a06f1e1b6acf43537ae97981e4</td>\n",
       "      <td>5k</td>\n",
       "      <td>scale</td>\n",
       "      <td>penalized_logreg</td>\n",
       "      <td>sex</td>\n",
       "      <td>keep-all</td>\n",
       "      <td>0.680296</td>\n",
       "      <td>0.91069</td>\n",
       "      <td>1.145703</td>\n",
       "    </tr>\n",
       "  </tbody>\n",
       "</table>\n",
       "</div>"
      ],
      "text/plain": [
       "                        universe_id universe_training_size universe_scale  \\\n",
       "0  01ad57a06f1e1b6acf43537ae97981e4                     5k          scale   \n",
       "\n",
       "     universe_model universe_exclude_features universe_exclude_subgroups  \\\n",
       "0  penalized_logreg                       sex                   keep-all   \n",
       "\n",
       "      q_hat  coverage  avg_size  \n",
       "0  0.680296   0.91069  1.145703  "
      ]
     },
     "execution_count": 61,
     "metadata": {},
     "output_type": "execute_result"
    }
   ],
   "source": [
    "cp_metrics_df"
   ]
  },
  {
   "cell_type": "code",
   "execution_count": 62,
   "id": "b7fbde55-a0a1-47e4-9af6-fe4a17fa8c61",
   "metadata": {
    "execution": {
     "iopub.execute_input": "2025-07-30T14:07:44.458973Z",
     "iopub.status.busy": "2025-07-30T14:07:44.458046Z",
     "iopub.status.idle": "2025-07-30T14:07:44.463140Z",
     "shell.execute_reply": "2025-07-30T14:07:44.462261Z"
    },
    "papermill": {
     "duration": 0.032004,
     "end_time": "2025-07-30T14:07:44.464702",
     "exception": false,
     "start_time": "2025-07-30T14:07:44.432698",
     "status": "completed"
    },
    "tags": []
   },
   "outputs": [],
   "source": [
    "# Conditional Coverage & looking at subgroups"
   ]
  },
  {
   "cell_type": "code",
   "execution_count": 63,
   "id": "027ae886-68dd-4141-96c7-805a5450e1ef",
   "metadata": {
    "execution": {
     "iopub.execute_input": "2025-07-30T14:07:44.514810Z",
     "iopub.status.busy": "2025-07-30T14:07:44.514065Z",
     "iopub.status.idle": "2025-07-30T14:07:44.753989Z",
     "shell.execute_reply": "2025-07-30T14:07:44.753122Z"
    },
    "papermill": {
     "duration": 0.266866,
     "end_time": "2025-07-30T14:07:44.755781",
     "exception": false,
     "start_time": "2025-07-30T14:07:44.488915",
     "status": "completed"
    },
    "tags": []
   },
   "outputs": [],
   "source": [
    "from fairness_multiverse.conformal import build_cp_groups\n",
    "\n",
    "cp_groups_df = build_cp_groups(pred_sets, y_true, X_test.index, org_test)\n",
    "#needs universe_id and setting"
   ]
  },
  {
   "cell_type": "code",
   "execution_count": 64,
   "id": "01d5802c-663a-4d1f-9d69-e036faaffbf7",
   "metadata": {
    "execution": {
     "iopub.execute_input": "2025-07-30T14:07:44.822557Z",
     "iopub.status.busy": "2025-07-30T14:07:44.821944Z",
     "iopub.status.idle": "2025-07-30T14:07:44.826640Z",
     "shell.execute_reply": "2025-07-30T14:07:44.825708Z"
    },
    "papermill": {
     "duration": 0.031477,
     "end_time": "2025-07-30T14:07:44.828287",
     "exception": false,
     "start_time": "2025-07-30T14:07:44.796810",
     "status": "completed"
    },
    "tags": []
   },
   "outputs": [],
   "source": [
    "#delete\n",
    "#cp_groups_df"
   ]
  },
  {
   "cell_type": "code",
   "execution_count": 65,
   "id": "fa424af1-d1eb-443d-b717-2d279ada8408",
   "metadata": {
    "execution": {
     "iopub.execute_input": "2025-07-30T14:07:44.879063Z",
     "iopub.status.busy": "2025-07-30T14:07:44.878445Z",
     "iopub.status.idle": "2025-07-30T14:07:44.883241Z",
     "shell.execute_reply": "2025-07-30T14:07:44.882355Z"
    },
    "papermill": {
     "duration": 0.031458,
     "end_time": "2025-07-30T14:07:44.884829",
     "exception": false,
     "start_time": "2025-07-30T14:07:44.853371",
     "status": "completed"
    },
    "tags": []
   },
   "outputs": [],
   "source": [
    "#delete\n",
    "#percentage = (cp_groups_df['nongerman_female'] == 1).mean() * 100\n",
    "#print(percentage)\n"
   ]
  },
  {
   "cell_type": "code",
   "execution_count": 66,
   "id": "6cbdab96-b2b2-45af-ad54-d0516db2e28d",
   "metadata": {
    "execution": {
     "iopub.execute_input": "2025-07-30T14:07:44.935267Z",
     "iopub.status.busy": "2025-07-30T14:07:44.934528Z",
     "iopub.status.idle": "2025-07-30T14:07:46.462539Z",
     "shell.execute_reply": "2025-07-30T14:07:46.461488Z"
    },
    "papermill": {
     "duration": 1.555134,
     "end_time": "2025-07-30T14:07:46.464454",
     "exception": false,
     "start_time": "2025-07-30T14:07:44.909320",
     "status": "completed"
    },
    "tags": []
   },
   "outputs": [],
   "source": [
    "# Define covered = 1 if true_label is in the predicted set\n",
    "cp_groups_df['covered'] = cp_groups_df.apply(\n",
    "    lambda r: int(r['true_label'] in r['pred_set']),\n",
    "    axis=1\n",
    ")"
   ]
  },
  {
   "cell_type": "code",
   "execution_count": 67,
   "id": "338ff529-1a6b-4b87-a931-8e4788d52aad",
   "metadata": {
    "execution": {
     "iopub.execute_input": "2025-07-30T14:07:46.519029Z",
     "iopub.status.busy": "2025-07-30T14:07:46.518233Z",
     "iopub.status.idle": "2025-07-30T14:07:46.523541Z",
     "shell.execute_reply": "2025-07-30T14:07:46.522637Z"
    },
    "papermill": {
     "duration": 0.033234,
     "end_time": "2025-07-30T14:07:46.525294",
     "exception": false,
     "start_time": "2025-07-30T14:07:46.492060",
     "status": "completed"
    },
    "tags": []
   },
   "outputs": [],
   "source": [
    "#cp_groups_df"
   ]
  },
  {
   "cell_type": "code",
   "execution_count": 68,
   "id": "90032e27-66df-4540-9169-4e89cfbaa758",
   "metadata": {
    "execution": {
     "iopub.execute_input": "2025-07-30T14:07:46.579142Z",
     "iopub.status.busy": "2025-07-30T14:07:46.578510Z",
     "iopub.status.idle": "2025-07-30T14:07:46.590068Z",
     "shell.execute_reply": "2025-07-30T14:07:46.589172Z"
    },
    "papermill": {
     "duration": 0.039675,
     "end_time": "2025-07-30T14:07:46.591634",
     "exception": false,
     "start_time": "2025-07-30T14:07:46.551959",
     "status": "completed"
    },
    "tags": []
   },
   "outputs": [],
   "source": [
    "subgroups = ['frau1','nongerman','nongerman_male','nongerman_female']\n",
    "\n",
    "# Conditional coverage for subgroup==1\n",
    "cond_coverage = {\n",
    "    g: cp_groups_df.loc[cp_groups_df[g]==1, 'covered'].mean()\n",
    "    for g in subgroups\n",
    "}"
   ]
  },
  {
   "cell_type": "code",
   "execution_count": 69,
   "id": "1e348fb1-b9c3-45bc-ba23-f016827a7e0d",
   "metadata": {
    "execution": {
     "iopub.execute_input": "2025-07-30T14:07:46.644144Z",
     "iopub.status.busy": "2025-07-30T14:07:46.643468Z",
     "iopub.status.idle": "2025-07-30T14:07:46.650160Z",
     "shell.execute_reply": "2025-07-30T14:07:46.649460Z"
    },
    "papermill": {
     "duration": 0.033533,
     "end_time": "2025-07-30T14:07:46.651521",
     "exception": false,
     "start_time": "2025-07-30T14:07:46.617988",
     "status": "completed"
    },
    "tags": []
   },
   "outputs": [
    {
     "data": {
      "text/plain": [
       "{'frau1': 0.9092060924652918,\n",
       " 'nongerman': 0.9104586537921743,\n",
       " 'nongerman_male': 0.9262361523912456,\n",
       " 'nongerman_female': 0.8843517138599106}"
      ]
     },
     "execution_count": 69,
     "metadata": {},
     "output_type": "execute_result"
    }
   ],
   "source": [
    "cond_coverage"
   ]
  },
  {
   "cell_type": "code",
   "execution_count": 70,
   "id": "f5093324-c3dd-4d63-bc4c-8d945e5c8bbb",
   "metadata": {
    "execution": {
     "iopub.execute_input": "2025-07-30T14:07:46.683947Z",
     "iopub.status.busy": "2025-07-30T14:07:46.683422Z",
     "iopub.status.idle": "2025-07-30T14:07:46.689741Z",
     "shell.execute_reply": "2025-07-30T14:07:46.688984Z"
    },
    "papermill": {
     "duration": 0.023774,
     "end_time": "2025-07-30T14:07:46.691241",
     "exception": false,
     "start_time": "2025-07-30T14:07:46.667467",
     "status": "completed"
    },
    "tags": []
   },
   "outputs": [],
   "source": [
    "for subgroup, cov in cond_coverage.items():\n",
    "    cp_metrics_df[f\"cov_{subgroup}\"] = cov"
   ]
  },
  {
   "cell_type": "code",
   "execution_count": 71,
   "id": "6e872e10-dbe5-49e8-b554-5030c98ff75d",
   "metadata": {
    "execution": {
     "iopub.execute_input": "2025-07-30T14:07:46.721672Z",
     "iopub.status.busy": "2025-07-30T14:07:46.720988Z",
     "iopub.status.idle": "2025-07-30T14:07:46.735048Z",
     "shell.execute_reply": "2025-07-30T14:07:46.734153Z"
    },
    "papermill": {
     "duration": 0.030414,
     "end_time": "2025-07-30T14:07:46.736701",
     "exception": false,
     "start_time": "2025-07-30T14:07:46.706287",
     "status": "completed"
    },
    "tags": []
   },
   "outputs": [
    {
     "data": {
      "text/html": [
       "<div>\n",
       "<style scoped>\n",
       "    .dataframe tbody tr th:only-of-type {\n",
       "        vertical-align: middle;\n",
       "    }\n",
       "\n",
       "    .dataframe tbody tr th {\n",
       "        vertical-align: top;\n",
       "    }\n",
       "\n",
       "    .dataframe thead th {\n",
       "        text-align: right;\n",
       "    }\n",
       "</style>\n",
       "<table border=\"1\" class=\"dataframe\">\n",
       "  <thead>\n",
       "    <tr style=\"text-align: right;\">\n",
       "      <th></th>\n",
       "      <th>universe_id</th>\n",
       "      <th>universe_training_size</th>\n",
       "      <th>universe_scale</th>\n",
       "      <th>universe_model</th>\n",
       "      <th>universe_exclude_features</th>\n",
       "      <th>universe_exclude_subgroups</th>\n",
       "      <th>q_hat</th>\n",
       "      <th>coverage</th>\n",
       "      <th>avg_size</th>\n",
       "      <th>cov_frau1</th>\n",
       "      <th>cov_nongerman</th>\n",
       "      <th>cov_nongerman_male</th>\n",
       "      <th>cov_nongerman_female</th>\n",
       "    </tr>\n",
       "  </thead>\n",
       "  <tbody>\n",
       "    <tr>\n",
       "      <th>0</th>\n",
       "      <td>01ad57a06f1e1b6acf43537ae97981e4</td>\n",
       "      <td>5k</td>\n",
       "      <td>scale</td>\n",
       "      <td>penalized_logreg</td>\n",
       "      <td>sex</td>\n",
       "      <td>keep-all</td>\n",
       "      <td>0.680296</td>\n",
       "      <td>0.91069</td>\n",
       "      <td>1.145703</td>\n",
       "      <td>0.909206</td>\n",
       "      <td>0.910459</td>\n",
       "      <td>0.926236</td>\n",
       "      <td>0.884352</td>\n",
       "    </tr>\n",
       "  </tbody>\n",
       "</table>\n",
       "</div>"
      ],
      "text/plain": [
       "                        universe_id universe_training_size universe_scale  \\\n",
       "0  01ad57a06f1e1b6acf43537ae97981e4                     5k          scale   \n",
       "\n",
       "     universe_model universe_exclude_features universe_exclude_subgroups  \\\n",
       "0  penalized_logreg                       sex                   keep-all   \n",
       "\n",
       "      q_hat  coverage  avg_size  cov_frau1  cov_nongerman  cov_nongerman_male  \\\n",
       "0  0.680296   0.91069  1.145703   0.909206       0.910459            0.926236   \n",
       "\n",
       "   cov_nongerman_female  \n",
       "0              0.884352  "
      ]
     },
     "execution_count": 71,
     "metadata": {},
     "output_type": "execute_result"
    }
   ],
   "source": [
    "cp_metrics_df"
   ]
  },
  {
   "cell_type": "markdown",
   "id": "33774451",
   "metadata": {
    "papermill": {
     "duration": 0.029469,
     "end_time": "2025-07-30T14:07:46.796671",
     "exception": false,
     "start_time": "2025-07-30T14:07:46.767202",
     "status": "completed"
    },
    "tags": []
   },
   "source": [
    "# (Fairness) Metrics"
   ]
  },
  {
   "cell_type": "code",
   "execution_count": 72,
   "id": "debc5d62",
   "metadata": {
    "execution": {
     "iopub.execute_input": "2025-07-30T14:07:46.853823Z",
     "iopub.status.busy": "2025-07-30T14:07:46.853363Z",
     "iopub.status.idle": "2025-07-30T14:07:46.875050Z",
     "shell.execute_reply": "2025-07-30T14:07:46.874078Z"
    },
    "papermill": {
     "duration": 0.051625,
     "end_time": "2025-07-30T14:07:46.876661",
     "exception": false,
     "start_time": "2025-07-30T14:07:46.825036",
     "status": "completed"
    },
    "tags": []
   },
   "outputs": [],
   "source": [
    "# do I need to include maxdeutsch1.missing?\n",
    "\n",
    "import numpy as np\n",
    "\n",
    "colname_to_bin = \"maxdeutsch1\"\n",
    "majority_value = org_train[colname_to_bin].mode()[0]\n",
    "\n",
    "org_test[\"majmin\"] = np.where(org_test[colname_to_bin] == majority_value, \"majority\", \"minority\")"
   ]
  },
  {
   "cell_type": "code",
   "execution_count": 73,
   "id": "06a50de5",
   "metadata": {
    "execution": {
     "iopub.execute_input": "2025-07-30T14:07:46.908850Z",
     "iopub.status.busy": "2025-07-30T14:07:46.908384Z",
     "iopub.status.idle": "2025-07-30T14:07:48.983505Z",
     "shell.execute_reply": "2025-07-30T14:07:48.982722Z"
    },
    "papermill": {
     "duration": 2.092575,
     "end_time": "2025-07-30T14:07:48.985089",
     "exception": false,
     "start_time": "2025-07-30T14:07:46.892514",
     "status": "completed"
    },
    "tags": []
   },
   "outputs": [],
   "source": [
    "example_universe = universe.copy()\n",
    "example_universe[\"cutoff\"] = example_universe[\"cutoff\"][0]\n",
    "example_universe[\"eval_fairness_grouping\"] = example_universe[\"eval_fairness_grouping\"][0]\n",
    "fairness_dict, metric_frame = universe_analysis.compute_metrics(\n",
    "    example_universe,\n",
    "    y_pred_prob=probs_test,\n",
    "    y_test=y_true,\n",
    "    org_test=org_test,\n",
    ")"
   ]
  },
  {
   "cell_type": "markdown",
   "id": "f95d4e02",
   "metadata": {
    "papermill": {
     "duration": 0.020916,
     "end_time": "2025-07-30T14:07:49.024472",
     "exception": false,
     "start_time": "2025-07-30T14:07:49.003556",
     "status": "completed"
    },
    "tags": []
   },
   "source": [
    "# Overall"
   ]
  },
  {
   "cell_type": "markdown",
   "id": "bdee4871",
   "metadata": {
    "papermill": {
     "duration": 0.013813,
     "end_time": "2025-07-30T14:07:49.055684",
     "exception": false,
     "start_time": "2025-07-30T14:07:49.041871",
     "status": "completed"
    },
    "tags": []
   },
   "source": [
    "Fairness\n",
    "Main fairness target: Equalized Odds. Seems to be a better fit than equal opportunity, since we're not only interested in Y = 1. Seems to be a better fit than demographic parity, since we also care about accuracy, not just equal distribution of preds.\n",
    "\n",
    "Pick column for computation of fairness metrics\n",
    "\n",
    "Performance\n",
    "Overall performance measures, most interesting in relation to the measures split by group below"
   ]
  },
  {
   "cell_type": "code",
   "execution_count": 74,
   "id": "c4e067c6",
   "metadata": {
    "execution": {
     "iopub.execute_input": "2025-07-30T14:07:49.084829Z",
     "iopub.status.busy": "2025-07-30T14:07:49.084315Z",
     "iopub.status.idle": "2025-07-30T14:07:49.091954Z",
     "shell.execute_reply": "2025-07-30T14:07:49.091160Z"
    },
    "papermill": {
     "duration": 0.02374,
     "end_time": "2025-07-30T14:07:49.093373",
     "exception": false,
     "start_time": "2025-07-30T14:07:49.069633",
     "status": "completed"
    },
    "tags": []
   },
   "outputs": [
    {
     "data": {
      "text/plain": [
       "accuracy                   0.223375\n",
       "balanced accuracy          0.546393\n",
       "f1                         0.244734\n",
       "precision                  0.139809\n",
       "false positive rate        0.888097\n",
       "false negative rate        0.019117\n",
       "selection rate             0.900000\n",
       "count                  89710.000000\n",
       "dtype: float64"
      ]
     },
     "execution_count": 74,
     "metadata": {},
     "output_type": "execute_result"
    }
   ],
   "source": [
    "metric_frame.overall"
   ]
  },
  {
   "cell_type": "markdown",
   "id": "e968fe9d",
   "metadata": {
    "papermill": {
     "duration": 0.01414,
     "end_time": "2025-07-30T14:07:49.122938",
     "exception": false,
     "start_time": "2025-07-30T14:07:49.108798",
     "status": "completed"
    },
    "tags": []
   },
   "source": [
    "By Group"
   ]
  },
  {
   "cell_type": "code",
   "execution_count": 75,
   "id": "ec325bce",
   "metadata": {
    "execution": {
     "iopub.execute_input": "2025-07-30T14:07:49.154300Z",
     "iopub.status.busy": "2025-07-30T14:07:49.153494Z",
     "iopub.status.idle": "2025-07-30T14:07:49.167160Z",
     "shell.execute_reply": "2025-07-30T14:07:49.166414Z"
    },
    "papermill": {
     "duration": 0.031082,
     "end_time": "2025-07-30T14:07:49.168471",
     "exception": false,
     "start_time": "2025-07-30T14:07:49.137389",
     "status": "completed"
    },
    "tags": []
   },
   "outputs": [
    {
     "data": {
      "text/html": [
       "<div>\n",
       "<style scoped>\n",
       "    .dataframe tbody tr th:only-of-type {\n",
       "        vertical-align: middle;\n",
       "    }\n",
       "\n",
       "    .dataframe tbody tr th {\n",
       "        vertical-align: top;\n",
       "    }\n",
       "\n",
       "    .dataframe thead th {\n",
       "        text-align: right;\n",
       "    }\n",
       "</style>\n",
       "<table border=\"1\" class=\"dataframe\">\n",
       "  <thead>\n",
       "    <tr style=\"text-align: right;\">\n",
       "      <th></th>\n",
       "      <th>accuracy</th>\n",
       "      <th>balanced accuracy</th>\n",
       "      <th>f1</th>\n",
       "      <th>precision</th>\n",
       "      <th>false positive rate</th>\n",
       "      <th>false negative rate</th>\n",
       "      <th>selection rate</th>\n",
       "      <th>count</th>\n",
       "    </tr>\n",
       "    <tr>\n",
       "      <th>majmin</th>\n",
       "      <th></th>\n",
       "      <th></th>\n",
       "      <th></th>\n",
       "      <th></th>\n",
       "      <th></th>\n",
       "      <th></th>\n",
       "      <th></th>\n",
       "      <th></th>\n",
       "    </tr>\n",
       "  </thead>\n",
       "  <tbody>\n",
       "    <tr>\n",
       "      <th>majority</th>\n",
       "      <td>0.243675</td>\n",
       "      <td>0.555680</td>\n",
       "      <td>0.255037</td>\n",
       "      <td>0.146599</td>\n",
       "      <td>0.868399</td>\n",
       "      <td>0.020241</td>\n",
       "      <td>0.883114</td>\n",
       "      <td>69170.0</td>\n",
       "    </tr>\n",
       "    <tr>\n",
       "      <th>minority</th>\n",
       "      <td>0.155015</td>\n",
       "      <td>0.516025</td>\n",
       "      <td>0.211879</td>\n",
       "      <td>0.118704</td>\n",
       "      <td>0.953170</td>\n",
       "      <td>0.014780</td>\n",
       "      <td>0.956865</td>\n",
       "      <td>20540.0</td>\n",
       "    </tr>\n",
       "  </tbody>\n",
       "</table>\n",
       "</div>"
      ],
      "text/plain": [
       "          accuracy  balanced accuracy        f1  precision  \\\n",
       "majmin                                                       \n",
       "majority  0.243675           0.555680  0.255037   0.146599   \n",
       "minority  0.155015           0.516025  0.211879   0.118704   \n",
       "\n",
       "          false positive rate  false negative rate  selection rate    count  \n",
       "majmin                                                                       \n",
       "majority             0.868399             0.020241        0.883114  69170.0  \n",
       "minority             0.953170             0.014780        0.956865  20540.0  "
      ]
     },
     "execution_count": 75,
     "metadata": {},
     "output_type": "execute_result"
    }
   ],
   "source": [
    "metric_frame.by_group"
   ]
  },
  {
   "cell_type": "code",
   "execution_count": 76,
   "id": "a9ddbe63",
   "metadata": {
    "execution": {
     "iopub.execute_input": "2025-07-30T14:07:49.200404Z",
     "iopub.status.busy": "2025-07-30T14:07:49.199897Z",
     "iopub.status.idle": "2025-07-30T14:07:51.505837Z",
     "shell.execute_reply": "2025-07-30T14:07:51.505148Z"
    },
    "papermill": {
     "duration": 2.322335,
     "end_time": "2025-07-30T14:07:51.507347",
     "exception": false,
     "start_time": "2025-07-30T14:07:49.185012",
     "status": "completed"
    },
    "tags": []
   },
   "outputs": [
    {
     "data": {
      "text/plain": [
       "array([[<Axes: title={'center': 'accuracy'}, xlabel='majmin'>,\n",
       "        <Axes: title={'center': 'balanced accuracy'}, xlabel='majmin'>,\n",
       "        <Axes: title={'center': 'f1'}, xlabel='majmin'>],\n",
       "       [<Axes: title={'center': 'precision'}, xlabel='majmin'>,\n",
       "        <Axes: title={'center': 'false positive rate'}, xlabel='majmin'>,\n",
       "        <Axes: title={'center': 'false negative rate'}, xlabel='majmin'>],\n",
       "       [<Axes: title={'center': 'selection rate'}, xlabel='majmin'>,\n",
       "        <Axes: title={'center': 'count'}, xlabel='majmin'>,\n",
       "        <Axes: xlabel='majmin'>]], dtype=object)"
      ]
     },
     "execution_count": 76,
     "metadata": {},
     "output_type": "execute_result"
    },
    {
     "data": {
      "image/png": "[encoded data removed]",
      "text/plain": [
       "<Figure size 1200x800 with 9 Axes>"
      ]
     },
     "metadata": {},
     "output_type": "display_data"
    }
   ],
   "source": [
    "# In a graphic\n",
    "metric_frame.by_group.plot.bar(\n",
    "    subplots=True,\n",
    "    layout=[3, 3],\n",
    "    legend=False,\n",
    "    figsize=[12, 8],\n",
    "    title=\"Show all metrics\",\n",
    ")"
   ]
  },
  {
   "cell_type": "markdown",
   "id": "f57a0bac",
   "metadata": {
    "papermill": {
     "duration": 0.030077,
     "end_time": "2025-07-30T14:07:51.575465",
     "exception": false,
     "start_time": "2025-07-30T14:07:51.545388",
     "status": "completed"
    },
    "tags": []
   },
   "source": [
    "# Final Output"
   ]
  },
  {
   "cell_type": "code",
   "execution_count": 77,
   "id": "96d280a3",
   "metadata": {
    "execution": {
     "iopub.execute_input": "2025-07-30T14:07:51.635559Z",
     "iopub.status.busy": "2025-07-30T14:07:51.634899Z",
     "iopub.status.idle": "2025-07-30T14:07:51.644325Z",
     "shell.execute_reply": "2025-07-30T14:07:51.643233Z"
    },
    "papermill": {
     "duration": 0.042574,
     "end_time": "2025-07-30T14:07:51.646077",
     "exception": false,
     "start_time": "2025-07-30T14:07:51.603503",
     "status": "completed"
    },
    "tags": []
   },
   "outputs": [
    {
     "data": {
      "text/plain": [
       "4"
      ]
     },
     "execution_count": 77,
     "metadata": {},
     "output_type": "execute_result"
    }
   ],
   "source": [
    "sub_universes = universe_analysis.generate_sub_universes()\n",
    "len(sub_universes)"
   ]
  },
  {
   "cell_type": "code",
   "execution_count": 78,
   "id": "92adf7ba",
   "metadata": {
    "execution": {
     "iopub.execute_input": "2025-07-30T14:07:51.709178Z",
     "iopub.status.busy": "2025-07-30T14:07:51.708421Z",
     "iopub.status.idle": "2025-07-30T14:07:51.715127Z",
     "shell.execute_reply": "2025-07-30T14:07:51.714139Z"
    },
    "papermill": {
     "duration": 0.041269,
     "end_time": "2025-07-30T14:07:51.716931",
     "exception": false,
     "start_time": "2025-07-30T14:07:51.675662",
     "status": "completed"
    },
    "tags": []
   },
   "outputs": [],
   "source": [
    "def filter_sub_universe_data(sub_universe, org_test):\n",
    "    # Keep all rows — no filtering\n",
    "    keep_rows_mask = np.ones(org_test.shape[0], dtype=bool)\n",
    "\n",
    "    print(f\"[INFO] Keeping all rows: {keep_rows_mask.sum()} rows retained.\")\n",
    "    return keep_rows_mask"
   ]
  },
  {
   "cell_type": "code",
   "execution_count": 79,
   "id": "4a759155",
   "metadata": {
    "execution": {
     "iopub.execute_input": "2025-07-30T14:07:51.780630Z",
     "iopub.status.busy": "2025-07-30T14:07:51.780123Z",
     "iopub.status.idle": "2025-07-30T14:08:02.344144Z",
     "shell.execute_reply": "2025-07-30T14:08:02.343012Z"
    },
    "papermill": {
     "duration": 10.598462,
     "end_time": "2025-07-30T14:08:02.345908",
     "exception": false,
     "start_time": "2025-07-30T14:07:51.747446",
     "status": "completed"
    },
    "tags": []
   },
   "outputs": [
    {
     "name": "stdout",
     "output_type": "stream",
     "text": [
      "Stopping execution_time clock.\n",
      "[INFO] Keeping all rows: 89710 rows retained.\n"
     ]
    },
    {
     "name": "stdout",
     "output_type": "stream",
     "text": [
      "[INFO] Keeping all rows: 89710 rows retained.\n"
     ]
    },
    {
     "name": "stdout",
     "output_type": "stream",
     "text": [
      "[INFO] Keeping all rows: 89710 rows retained.\n"
     ]
    },
    {
     "name": "stdout",
     "output_type": "stream",
     "text": [
      "[INFO] Keeping all rows: 89710 rows retained.\n"
     ]
    },
    {
     "data": {
      "text/html": [
       "<div>\n",
       "<style scoped>\n",
       "    .dataframe tbody tr th:only-of-type {\n",
       "        vertical-align: middle;\n",
       "    }\n",
       "\n",
       "    .dataframe tbody tr th {\n",
       "        vertical-align: top;\n",
       "    }\n",
       "\n",
       "    .dataframe thead th {\n",
       "        text-align: right;\n",
       "    }\n",
       "</style>\n",
       "<table border=\"1\" class=\"dataframe\">\n",
       "  <thead>\n",
       "    <tr style=\"text-align: right;\">\n",
       "      <th></th>\n",
       "      <th>run_no</th>\n",
       "      <th>universe_id</th>\n",
       "      <th>universe_settings</th>\n",
       "      <th>execution_time</th>\n",
       "      <th>test_size_n</th>\n",
       "      <th>test_size_frac</th>\n",
       "      <th>fair_main_equalized_odds_difference</th>\n",
       "      <th>fair_main_equalized_odds_ratio</th>\n",
       "      <th>fair_main_demographic_parity_difference</th>\n",
       "      <th>fair_main_demographic_parity_ratio</th>\n",
       "      <th>...</th>\n",
       "      <th>perf_grp_precision_0</th>\n",
       "      <th>perf_grp_precision_1</th>\n",
       "      <th>perf_grp_false positive rate_0</th>\n",
       "      <th>perf_grp_false positive rate_1</th>\n",
       "      <th>perf_grp_false negative rate_0</th>\n",
       "      <th>perf_grp_false negative rate_1</th>\n",
       "      <th>perf_grp_selection rate_0</th>\n",
       "      <th>perf_grp_selection rate_1</th>\n",
       "      <th>perf_grp_count_0</th>\n",
       "      <th>perf_grp_count_1</th>\n",
       "    </tr>\n",
       "  </thead>\n",
       "  <tbody>\n",
       "    <tr>\n",
       "      <th>0</th>\n",
       "      <td>12</td>\n",
       "      <td>01ad57a06f1e1b6acf43537ae97981e4</td>\n",
       "      <td>{\"cutoff\": \"quantile_0.1\", \"eval_fairness_grou...</td>\n",
       "      <td>28.079893</td>\n",
       "      <td>89710</td>\n",
       "      <td>1.0</td>\n",
       "      <td>0.084771</td>\n",
       "      <td>0.911065</td>\n",
       "      <td>0.073751</td>\n",
       "      <td>0.922925</td>\n",
       "      <td>...</td>\n",
       "      <td>NaN</td>\n",
       "      <td>NaN</td>\n",
       "      <td>NaN</td>\n",
       "      <td>NaN</td>\n",
       "      <td>NaN</td>\n",
       "      <td>NaN</td>\n",
       "      <td>NaN</td>\n",
       "      <td>NaN</td>\n",
       "      <td>NaN</td>\n",
       "      <td>NaN</td>\n",
       "    </tr>\n",
       "    <tr>\n",
       "      <th>0</th>\n",
       "      <td>12</td>\n",
       "      <td>01ad57a06f1e1b6acf43537ae97981e4</td>\n",
       "      <td>{\"cutoff\": \"quantile_0.1\", \"eval_fairness_grou...</td>\n",
       "      <td>28.079893</td>\n",
       "      <td>89710</td>\n",
       "      <td>1.0</td>\n",
       "      <td>0.084771</td>\n",
       "      <td>0.911065</td>\n",
       "      <td>0.073751</td>\n",
       "      <td>0.922925</td>\n",
       "      <td>...</td>\n",
       "      <td>0.118704</td>\n",
       "      <td>0.146599</td>\n",
       "      <td>0.95317</td>\n",
       "      <td>0.868399</td>\n",
       "      <td>0.014780</td>\n",
       "      <td>0.020241</td>\n",
       "      <td>0.956865</td>\n",
       "      <td>0.883114</td>\n",
       "      <td>20540.0</td>\n",
       "      <td>69170.0</td>\n",
       "    </tr>\n",
       "    <tr>\n",
       "      <th>0</th>\n",
       "      <td>12</td>\n",
       "      <td>01ad57a06f1e1b6acf43537ae97981e4</td>\n",
       "      <td>{\"cutoff\": \"quantile_0.25\", \"eval_fairness_gro...</td>\n",
       "      <td>28.079893</td>\n",
       "      <td>89710</td>\n",
       "      <td>1.0</td>\n",
       "      <td>0.155433</td>\n",
       "      <td>0.815474</td>\n",
       "      <td>0.135259</td>\n",
       "      <td>0.841670</td>\n",
       "      <td>...</td>\n",
       "      <td>NaN</td>\n",
       "      <td>NaN</td>\n",
       "      <td>NaN</td>\n",
       "      <td>NaN</td>\n",
       "      <td>NaN</td>\n",
       "      <td>NaN</td>\n",
       "      <td>NaN</td>\n",
       "      <td>NaN</td>\n",
       "      <td>NaN</td>\n",
       "      <td>NaN</td>\n",
       "    </tr>\n",
       "    <tr>\n",
       "      <th>0</th>\n",
       "      <td>12</td>\n",
       "      <td>01ad57a06f1e1b6acf43537ae97981e4</td>\n",
       "      <td>{\"cutoff\": \"quantile_0.25\", \"eval_fairness_gro...</td>\n",
       "      <td>28.079893</td>\n",
       "      <td>89710</td>\n",
       "      <td>1.0</td>\n",
       "      <td>0.155433</td>\n",
       "      <td>0.815474</td>\n",
       "      <td>0.135259</td>\n",
       "      <td>0.841670</td>\n",
       "      <td>...</td>\n",
       "      <td>0.127657</td>\n",
       "      <td>0.170906</td>\n",
       "      <td>0.84234</td>\n",
       "      <td>0.686907</td>\n",
       "      <td>0.054054</td>\n",
       "      <td>0.070022</td>\n",
       "      <td>0.854284</td>\n",
       "      <td>0.719026</td>\n",
       "      <td>20540.0</td>\n",
       "      <td>69170.0</td>\n",
       "    </tr>\n",
       "  </tbody>\n",
       "</table>\n",
       "<p>4 rows × 50 columns</p>\n",
       "</div>"
      ],
      "text/plain": [
       "  run_no                       universe_id  \\\n",
       "0     12  01ad57a06f1e1b6acf43537ae97981e4   \n",
       "0     12  01ad57a06f1e1b6acf43537ae97981e4   \n",
       "0     12  01ad57a06f1e1b6acf43537ae97981e4   \n",
       "0     12  01ad57a06f1e1b6acf43537ae97981e4   \n",
       "\n",
       "                                   universe_settings  execution_time  \\\n",
       "0  {\"cutoff\": \"quantile_0.1\", \"eval_fairness_grou...       28.079893   \n",
       "0  {\"cutoff\": \"quantile_0.1\", \"eval_fairness_grou...       28.079893   \n",
       "0  {\"cutoff\": \"quantile_0.25\", \"eval_fairness_gro...       28.079893   \n",
       "0  {\"cutoff\": \"quantile_0.25\", \"eval_fairness_gro...       28.079893   \n",
       "\n",
       "   test_size_n  test_size_frac  fair_main_equalized_odds_difference  \\\n",
       "0        89710             1.0                             0.084771   \n",
       "0        89710             1.0                             0.084771   \n",
       "0        89710             1.0                             0.155433   \n",
       "0        89710             1.0                             0.155433   \n",
       "\n",
       "   fair_main_equalized_odds_ratio  fair_main_demographic_parity_difference  \\\n",
       "0                        0.911065                                 0.073751   \n",
       "0                        0.911065                                 0.073751   \n",
       "0                        0.815474                                 0.135259   \n",
       "0                        0.815474                                 0.135259   \n",
       "\n",
       "   fair_main_demographic_parity_ratio  ...  perf_grp_precision_0  \\\n",
       "0                            0.922925  ...                   NaN   \n",
       "0                            0.922925  ...              0.118704   \n",
       "0                            0.841670  ...                   NaN   \n",
       "0                            0.841670  ...              0.127657   \n",
       "\n",
       "   perf_grp_precision_1  perf_grp_false positive rate_0  \\\n",
       "0                   NaN                             NaN   \n",
       "0              0.146599                         0.95317   \n",
       "0                   NaN                             NaN   \n",
       "0              0.170906                         0.84234   \n",
       "\n",
       "   perf_grp_false positive rate_1  perf_grp_false negative rate_0  \\\n",
       "0                             NaN                             NaN   \n",
       "0                        0.868399                        0.014780   \n",
       "0                             NaN                             NaN   \n",
       "0                        0.686907                        0.054054   \n",
       "\n",
       "   perf_grp_false negative rate_1  perf_grp_selection rate_0  \\\n",
       "0                             NaN                        NaN   \n",
       "0                        0.020241                   0.956865   \n",
       "0                             NaN                        NaN   \n",
       "0                        0.070022                   0.854284   \n",
       "\n",
       "   perf_grp_selection rate_1  perf_grp_count_0  perf_grp_count_1  \n",
       "0                        NaN               NaN               NaN  \n",
       "0                   0.883114           20540.0           69170.0  \n",
       "0                        NaN               NaN               NaN  \n",
       "0                   0.719026           20540.0           69170.0  \n",
       "\n",
       "[4 rows x 50 columns]"
      ]
     },
     "execution_count": 79,
     "metadata": {},
     "output_type": "execute_result"
    }
   ],
   "source": [
    "final_output = universe_analysis.generate_final_output(\n",
    "    y_pred_prob=probs_test,\n",
    "    y_test=y_true,\n",
    "    org_test=org_test,\n",
    "    filter_data=filter_sub_universe_data,\n",
    "    cp_metrics_df=cp_metrics_df,\n",
    "    save=True,\n",
    ")\n",
    "final_output"
   ]
  },
  {
   "cell_type": "code",
   "execution_count": null,
   "id": "721ff514-cb11-46f8-b6fc-50392f74b5cb",
   "metadata": {
    "papermill": {
     "duration": 0.030766,
     "end_time": "2025-07-30T14:08:02.410932",
     "exception": false,
     "start_time": "2025-07-30T14:08:02.380166",
     "status": "completed"
    },
    "tags": []
   },
   "outputs": [],
   "source": []
  }
 ],
 "metadata": {
  "celltoolbar": "Tags",
  "kernelspec": {
   "display_name": "Python (CMA Fairness)",
   "language": "python",
   "name": "cma_fair_env"
  },
  "language_info": {
   "codemirror_mode": {
    "name": "ipython",
    "version": 3
   },
   "file_extension": ".py",
   "mimetype": "text/x-python",
   "name": "python",
   "nbconvert_exporter": "python",
   "pygments_lexer": "ipython3",
   "version": "3.10.12"
  },
  "papermill": {
   "default_parameters": {},
   "duration": 43.177711,
   "end_time": "2025-07-30T14:08:03.262601",
   "environment_variables": {},
   "exception": null,
   "input_path": "universe_analysis.ipynb",
   "output_path": "output/runs/12/notebooks/m_12-01ad57a06f1e1b6acf43537ae97981e4.ipynb",
   "parameters": {
    "output_dir": "output",
    "run_no": "12",
    "seed": "2023",
    "universe": "{\"cutoff\": [\"quantile_0.1\", \"quantile_0.25\"], \"eval_fairness_grouping\": [\"majority-minority\", \"nationality-all\"], \"exclude_features\": \"sex\", \"exclude_subgroups\": \"keep-all\", \"model\": \"penalized_logreg\", \"scale\": \"scale\", \"training_size\": \"5k\", \"training_year\": \"2010_14\"}",
    "universe_id": "01ad57a06f1e1b6acf43537ae97981e4"
   },
   "start_time": "2025-07-30T14:07:20.084890",
   "version": "2.6.0"
  }
 },
 "nbformat": 4,
 "nbformat_minor": 5
}