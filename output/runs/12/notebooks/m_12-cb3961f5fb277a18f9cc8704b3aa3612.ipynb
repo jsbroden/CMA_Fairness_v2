{
 "cells": [
  {
   "cell_type": "code",
   "execution_count": 1,
   "id": "f159f837-637b-42ba-96b5-ec9a68c44524",
   "metadata": {
    "execution": {
     "iopub.execute_input": "2025-07-30T13:48:24.750890Z",
     "iopub.status.busy": "2025-07-30T13:48:24.749741Z",
     "iopub.status.idle": "2025-07-30T13:48:24.764132Z",
     "shell.execute_reply": "2025-07-30T13:48:24.763146Z"
    },
    "papermill": {
     "duration": 0.038897,
     "end_time": "2025-07-30T13:48:24.765911",
     "exception": false,
     "start_time": "2025-07-30T13:48:24.727014",
     "status": "completed"
    },
    "tags": []
   },
   "outputs": [
    {
     "name": "stdout",
     "output_type": "stream",
     "text": [
      "/dss/dsshome1/0C/ra93lal2/cma/CMA_Fairness_v2\n"
     ]
    },
    {
     "name": "stderr",
     "output_type": "stream",
     "text": [
      "/dss/dsshome1/0C/ra93lal2/.local/share/virtualenvs/CMA_Fairness_v2-3j10GkSs/lib/python3.10/site-packages/IPython/core/magics/osm.py:393: UserWarning: This is now an optional IPython functionality, using bookmarks requires you to install the `pickleshare` library.\n",
      "  bkms = self.shell.db.get('bookmarks', {})\n",
      "/dss/dsshome1/0C/ra93lal2/.local/share/virtualenvs/CMA_Fairness_v2-3j10GkSs/lib/python3.10/site-packages/IPython/core/magics/osm.py:417: UserWarning: This is now an optional IPython functionality, setting dhist requires you to install the `pickleshare` library.\n",
      "  self.shell.db['dhist'] = compress_dhist(dhist)[-100:]\n"
     ]
    }
   ],
   "source": [
    "%cd ~/cma/CMA_Fairness_v2"
   ]
  },
  {
   "cell_type": "markdown",
   "id": "de2603b9",
   "metadata": {
    "papermill": {
     "duration": 0.020347,
     "end_time": "2025-07-30T13:48:24.806193",
     "exception": false,
     "start_time": "2025-07-30T13:48:24.785846",
     "status": "completed"
    },
    "tags": []
   },
   "source": [
    "The following cell holds the definition of our parameters, these values can be overriden by rendering the with e.g. the following command:\n",
    "\n",
    "papermill -p alpha 0.2 -p ratio 0.3 universe_analysis.ipynb output/test_run.ipynb"
   ]
  },
  {
   "cell_type": "code",
   "execution_count": 2,
   "id": "a80968a0-40bb-4fa9-85ef-2d5eefb01975",
   "metadata": {
    "execution": {
     "iopub.execute_input": "2025-07-30T13:48:24.847206Z",
     "iopub.status.busy": "2025-07-30T13:48:24.846583Z",
     "iopub.status.idle": "2025-07-30T13:48:24.852233Z",
     "shell.execute_reply": "2025-07-30T13:48:24.851339Z"
    },
    "papermill": {
     "duration": 0.027487,
     "end_time": "2025-07-30T13:48:24.853826",
     "exception": false,
     "start_time": "2025-07-30T13:48:24.826339",
     "status": "completed"
    },
    "tags": []
   },
   "outputs": [
    {
     "name": "stdout",
     "output_type": "stream",
     "text": [
      "Current working directory: /dss/dsshome1/0C/ra93lal2/cma/CMA_Fairness_v2\n"
     ]
    }
   ],
   "source": [
    "import os\n",
    "print(\"Current working directory:\", os.getcwd())"
   ]
  },
  {
   "cell_type": "code",
   "execution_count": 3,
   "id": "2dce4c03",
   "metadata": {
    "execution": {
     "iopub.execute_input": "2025-07-30T13:48:24.894989Z",
     "iopub.status.busy": "2025-07-30T13:48:24.894435Z",
     "iopub.status.idle": "2025-07-30T13:48:24.900500Z",
     "shell.execute_reply": "2025-07-30T13:48:24.899565Z"
    },
    "papermill": {
     "duration": 0.028359,
     "end_time": "2025-07-30T13:48:24.902069",
     "exception": false,
     "start_time": "2025-07-30T13:48:24.873710",
     "status": "completed"
    },
    "tags": [
     "parameters"
    ]
   },
   "outputs": [],
   "source": [
    "run_no = 0\n",
    "universe_id = \"test\"\n",
    "universe = {\n",
    "    \"training_size\": \"25k\", # \"25k\", \"5k\", \"1k\"\n",
    "    \"training_year\": \"2014\", # \"2014\", \"2012_14\", \"2010_14\"\n",
    "    \"scale\": \"scale\", # \"scale\", \"do-not-scale\",\n",
    "    #\"stratify_split\": \"target\", # \"none\", \"target\", \"protected-attribute\", \"both\",\n",
    "    \"model\": \"elasticnet\", # \"logreg\", \"penalized_logreg\", \"rf\", \"gbm\", \"elasticnet\"\n",
    "    \"cutoff\": [\"quantile_0.15\", \"quantile_0.30\"],\n",
    "    \"exclude_features\": \"age\", # \"none\", \"nationality\", \"sex\", \"nationality-sex\", \"age\"\n",
    "    \"exclude_subgroups\": \"keep-all\", # \"keep-all\", \"drop-non-german\"\n",
    "    \"eval_fairness_grouping\": [\"majority-minority\", \"nationality-all\"]\n",
    "}\n",
    "\n",
    "output_dir=\"./output\"\n",
    "seed=0"
   ]
  },
  {
   "cell_type": "code",
   "execution_count": 4,
   "id": "552cc648",
   "metadata": {
    "execution": {
     "iopub.execute_input": "2025-07-30T13:48:24.941505Z",
     "iopub.status.busy": "2025-07-30T13:48:24.940681Z",
     "iopub.status.idle": "2025-07-30T13:48:24.946087Z",
     "shell.execute_reply": "2025-07-30T13:48:24.945189Z"
    },
    "papermill": {
     "duration": 0.026389,
     "end_time": "2025-07-30T13:48:24.947621",
     "exception": false,
     "start_time": "2025-07-30T13:48:24.921232",
     "status": "completed"
    },
    "tags": [
     "injected-parameters"
    ]
   },
   "outputs": [],
   "source": [
    "# Parameters\n",
    "universe_id = \"cb3961f5fb277a18f9cc8704b3aa3612\"\n",
    "run_no = \"12\"\n",
    "universe = \"{\\\"cutoff\\\": [\\\"quantile_0.1\\\", \\\"quantile_0.25\\\"], \\\"eval_fairness_grouping\\\": [\\\"majority-minority\\\", \\\"nationality-all\\\"], \\\"exclude_features\\\": \\\"nationality-sex\\\", \\\"exclude_subgroups\\\": \\\"drop-non-german\\\", \\\"model\\\": \\\"penalized_logreg\\\", \\\"scale\\\": \\\"do-not-scale\\\", \\\"training_size\\\": \\\"5k\\\", \\\"training_year\\\": \\\"2014\\\"}\"\n",
    "output_dir = \"output\"\n",
    "seed = \"2023\"\n"
   ]
  },
  {
   "cell_type": "code",
   "execution_count": 5,
   "id": "1650acaf",
   "metadata": {
    "execution": {
     "iopub.execute_input": "2025-07-30T13:48:24.989012Z",
     "iopub.status.busy": "2025-07-30T13:48:24.988494Z",
     "iopub.status.idle": "2025-07-30T13:48:24.993449Z",
     "shell.execute_reply": "2025-07-30T13:48:24.992444Z"
    },
    "papermill": {
     "duration": 0.028712,
     "end_time": "2025-07-30T13:48:24.994945",
     "exception": false,
     "start_time": "2025-07-30T13:48:24.966233",
     "status": "completed"
    },
    "tags": []
   },
   "outputs": [],
   "source": [
    "import json\n",
    "# Parse universe into dict if it is passed as a string\n",
    "if isinstance(universe, str):\n",
    "    universe = json.loads(universe)"
   ]
  },
  {
   "cell_type": "code",
   "execution_count": 6,
   "id": "16620c48",
   "metadata": {
    "execution": {
     "iopub.execute_input": "2025-07-30T13:48:25.034183Z",
     "iopub.status.busy": "2025-07-30T13:48:25.033455Z",
     "iopub.status.idle": "2025-07-30T13:48:25.077464Z",
     "shell.execute_reply": "2025-07-30T13:48:25.076604Z"
    },
    "papermill": {
     "duration": 0.066642,
     "end_time": "2025-07-30T13:48:25.079209",
     "exception": false,
     "start_time": "2025-07-30T13:48:25.012567",
     "status": "completed"
    },
    "tags": []
   },
   "outputs": [],
   "source": [
    "# Auto-reload the custom package\n",
    "%load_ext autoreload\n",
    "%autoreload 1\n",
    "%aimport fairness_multiverse"
   ]
  },
  {
   "cell_type": "code",
   "execution_count": 7,
   "id": "01c5c9f3",
   "metadata": {
    "execution": {
     "iopub.execute_input": "2025-07-30T13:48:25.120598Z",
     "iopub.status.busy": "2025-07-30T13:48:25.119747Z",
     "iopub.status.idle": "2025-07-30T13:48:26.923588Z",
     "shell.execute_reply": "2025-07-30T13:48:26.922531Z"
    },
    "papermill": {
     "duration": 1.82629,
     "end_time": "2025-07-30T13:48:26.925187",
     "exception": false,
     "start_time": "2025-07-30T13:48:25.098897",
     "status": "completed"
    },
    "tags": []
   },
   "outputs": [],
   "source": [
    "from fairness_multiverse.universe import UniverseAnalysis\n",
    "\n",
    "universe_analysis = UniverseAnalysis(\n",
    "    run_no = run_no,\n",
    "    universe_id = universe_id,\n",
    "    universe = universe,\n",
    "    output_dir=output_dir,\n",
    ")"
   ]
  },
  {
   "cell_type": "code",
   "execution_count": 8,
   "id": "106241f5",
   "metadata": {
    "execution": {
     "iopub.execute_input": "2025-07-30T13:48:26.965420Z",
     "iopub.status.busy": "2025-07-30T13:48:26.964615Z",
     "iopub.status.idle": "2025-07-30T13:48:26.971406Z",
     "shell.execute_reply": "2025-07-30T13:48:26.970403Z"
    },
    "papermill": {
     "duration": 0.029575,
     "end_time": "2025-07-30T13:48:26.973204",
     "exception": false,
     "start_time": "2025-07-30T13:48:26.943629",
     "status": "completed"
    },
    "tags": []
   },
   "outputs": [
    {
     "name": "stdout",
     "output_type": "stream",
     "text": [
      "Using Seed: 2023\n"
     ]
    }
   ],
   "source": [
    "import numpy as np\n",
    "parsed_seed = int(seed)\n",
    "np.random.seed(parsed_seed)\n",
    "print(f\"Using Seed: {parsed_seed}\")"
   ]
  },
  {
   "cell_type": "markdown",
   "id": "e0ebdc57",
   "metadata": {
    "papermill": {
     "duration": 0.020562,
     "end_time": "2025-07-30T13:48:27.016279",
     "exception": false,
     "start_time": "2025-07-30T13:48:26.995717",
     "status": "completed"
    },
    "tags": []
   },
   "source": [
    "# Loading Data"
   ]
  },
  {
   "cell_type": "markdown",
   "id": "681925a3",
   "metadata": {
    "papermill": {
     "duration": 0.020382,
     "end_time": "2025-07-30T13:48:27.057380",
     "exception": false,
     "start_time": "2025-07-30T13:48:27.036998",
     "status": "completed"
    },
    "tags": []
   },
   "source": [
    "Load siab_train, siab_test, siab_calib and/or \n",
    "load siab_train_features, siab_train_labels"
   ]
  },
  {
   "cell_type": "code",
   "execution_count": 9,
   "id": "f0496b8a",
   "metadata": {
    "execution": {
     "iopub.execute_input": "2025-07-30T13:48:27.099501Z",
     "iopub.status.busy": "2025-07-30T13:48:27.098360Z",
     "iopub.status.idle": "2025-07-30T13:48:39.193922Z",
     "shell.execute_reply": "2025-07-30T13:48:39.192697Z"
    },
    "papermill": {
     "duration": 12.11859,
     "end_time": "2025-07-30T13:48:39.195761",
     "exception": false,
     "start_time": "2025-07-30T13:48:27.077171",
     "status": "completed"
    },
    "tags": []
   },
   "outputs": [
    {
     "name": "stdout",
     "output_type": "stream",
     "text": [
      "Loading SIAB data from cache: data/siab_cached.csv.gz\n"
     ]
    },
    {
     "name": "stdout",
     "output_type": "stream",
     "text": [
      "(643690, 164)\n"
     ]
    }
   ],
   "source": [
    "from pathlib import Path\n",
    "import pandas as pd\n",
    "\n",
    "# File paths\n",
    "raw_file = Path(\"data/raw/siab.csv\")\n",
    "cache_file = Path(\"data/siab_cached.csv.gz\")\n",
    "\n",
    "# Ensure cache directory exists\n",
    "cache_file.parent.mkdir(parents=True, exist_ok=True)\n",
    "\n",
    "# Load with simple caching\n",
    "if cache_file.exists():\n",
    "    print(f\"Loading SIAB data from cache: {cache_file}\")\n",
    "    siab = pd.read_csv(cache_file, compression='gzip')\n",
    "else:\n",
    "    print(f\"Cache not found. Reading raw SIAB data: {raw_file}\")\n",
    "    siab = pd.read_csv(raw_file)\n",
    "    siab.to_csv(cache_file, index=False, compression='gzip')\n",
    "    print(f\"Cached SIAB data to: {cache_file}\")\n",
    "\n",
    "# Now use `siab` DataFrame as needed\n",
    "print(siab.shape)"
   ]
  },
  {
   "cell_type": "code",
   "execution_count": 10,
   "id": "db0ca512-5f53-4dba-abdb-a2888bca41ba",
   "metadata": {
    "execution": {
     "iopub.execute_input": "2025-07-30T13:48:39.238319Z",
     "iopub.status.busy": "2025-07-30T13:48:39.237727Z",
     "iopub.status.idle": "2025-07-30T13:48:39.243750Z",
     "shell.execute_reply": "2025-07-30T13:48:39.242767Z"
    },
    "papermill": {
     "duration": 0.025271,
     "end_time": "2025-07-30T13:48:39.245582",
     "exception": false,
     "start_time": "2025-07-30T13:48:39.220311",
     "status": "completed"
    },
    "tags": []
   },
   "outputs": [],
   "source": [
    "#siab"
   ]
  },
  {
   "cell_type": "code",
   "execution_count": 11,
   "id": "a0edb063",
   "metadata": {
    "execution": {
     "iopub.execute_input": "2025-07-30T13:48:39.289596Z",
     "iopub.status.busy": "2025-07-30T13:48:39.288891Z",
     "iopub.status.idle": "2025-07-30T13:48:39.294279Z",
     "shell.execute_reply": "2025-07-30T13:48:39.293393Z"
    },
    "papermill": {
     "duration": 0.028401,
     "end_time": "2025-07-30T13:48:39.295774",
     "exception": false,
     "start_time": "2025-07-30T13:48:39.267373",
     "status": "completed"
    },
    "tags": []
   },
   "outputs": [],
   "source": [
    "#import pandas as pd\n",
    "#\n",
    "#X_train = pd.read_csv(\"./data/X_train.csv\")\n",
    "#y_train = pd.read_csv(\"./data/y_train.csv\")"
   ]
  },
  {
   "cell_type": "code",
   "execution_count": 12,
   "id": "63d08085",
   "metadata": {
    "execution": {
     "iopub.execute_input": "2025-07-30T13:48:39.342166Z",
     "iopub.status.busy": "2025-07-30T13:48:39.341518Z",
     "iopub.status.idle": "2025-07-30T13:48:39.346443Z",
     "shell.execute_reply": "2025-07-30T13:48:39.345584Z"
    },
    "papermill": {
     "duration": 0.031293,
     "end_time": "2025-07-30T13:48:39.348161",
     "exception": false,
     "start_time": "2025-07-30T13:48:39.316868",
     "status": "completed"
    },
    "tags": []
   },
   "outputs": [],
   "source": [
    "#X_test = pd.read_csv(\"./data/X_test.csv\")\n",
    "#y_true = pd.read_csv(\"./data/y_test.csv\")"
   ]
  },
  {
   "cell_type": "code",
   "execution_count": 13,
   "id": "98a8d0fa-1d3d-4ed8-bb2c-281470e24add",
   "metadata": {
    "execution": {
     "iopub.execute_input": "2025-07-30T13:48:39.393376Z",
     "iopub.status.busy": "2025-07-30T13:48:39.392852Z",
     "iopub.status.idle": "2025-07-30T13:48:39.398450Z",
     "shell.execute_reply": "2025-07-30T13:48:39.397491Z"
    },
    "papermill": {
     "duration": 0.029085,
     "end_time": "2025-07-30T13:48:39.400282",
     "exception": false,
     "start_time": "2025-07-30T13:48:39.371197",
     "status": "completed"
    },
    "tags": []
   },
   "outputs": [],
   "source": [
    "# Calibration data for conformal\n",
    "#X_calib = pd.read_csv(\"./data/X_calib.csv\")\n",
    "#y_calib = pd.read_csv(\"./data/y_calib.csv\")"
   ]
  },
  {
   "cell_type": "markdown",
   "id": "997051c5-15bd-4b69-9786-c3001a3ce484",
   "metadata": {
    "papermill": {
     "duration": 0.020973,
     "end_time": "2025-07-30T13:48:39.441799",
     "exception": false,
     "start_time": "2025-07-30T13:48:39.420826",
     "status": "completed"
    },
    "tags": []
   },
   "source": [
    "# Splitting Data and Setting Training Data Size"
   ]
  },
  {
   "cell_type": "code",
   "execution_count": 14,
   "id": "e993b61f-042d-41a6-8c81-f55681f86335",
   "metadata": {
    "execution": {
     "iopub.execute_input": "2025-07-30T13:48:39.487164Z",
     "iopub.status.busy": "2025-07-30T13:48:39.486697Z",
     "iopub.status.idle": "2025-07-30T13:48:39.501121Z",
     "shell.execute_reply": "2025-07-30T13:48:39.499012Z"
    },
    "papermill": {
     "duration": 0.038202,
     "end_time": "2025-07-30T13:48:39.502946",
     "exception": false,
     "start_time": "2025-07-30T13:48:39.464744",
     "status": "completed"
    },
    "tags": []
   },
   "outputs": [],
   "source": [
    "def sample_by_year_size(df,\n",
    "                        training_year: str,\n",
    "                        training_size: str,\n",
    "                        random_state: int = 42):\n",
    "    # --- parse training_year into a list of int years ---\n",
    "    if \"_\" in training_year:\n",
    "        start_str, end_str = training_year.split(\"_\", 1)\n",
    "        start = int(start_str)\n",
    "        end   = int(end_str) if len(end_str) == 4 else (int(end_str) + (start // 100)*100)\n",
    "        years = list(range(start, end + 1))\n",
    "    else:\n",
    "        years = [int(training_year)]\n",
    "\n",
    "    df = df[df[\"year\"].isin(years)].reset_index(drop=True)\n",
    "\n",
    "    # --- map training_size to total number of samples ---\n",
    "    total_map = {\"25k\": 25_000, \"5k\": 5_000, \"1k\": 1_000}\n",
    "    if training_size not in total_map:\n",
    "        return df  # e.g. \"all\"\n",
    "\n",
    "    total_samples = total_map[training_size]\n",
    "    n_years       = len(years)\n",
    "    base          = total_samples // n_years\n",
    "    remainder     = total_samples % n_years\n",
    "\n",
    "    # --- build a dict: year -> how many to sample ---\n",
    "    # give +1 to the first `remainder` years in ascending order\n",
    "    quotas = {\n",
    "        year: base + (1 if idx < remainder else 0)\n",
    "        for idx, year in enumerate(sorted(years))\n",
    "    }\n",
    "\n",
    "    # --- sample per‐year according to the quota dict ---\n",
    "    sampled = (\n",
    "        df\n",
    "        .groupby(\"year\", group_keys=False)\n",
    "        .apply(lambda grp: grp.sample(\n",
    "            n=min(len(grp), quotas[grp.name]),\n",
    "            random_state=random_state))\n",
    "        .reset_index(drop=True)\n",
    "    )\n",
    "\n",
    "    return sampled"
   ]
  },
  {
   "cell_type": "code",
   "execution_count": 15,
   "id": "c0ccd338-0e02-41f3-a09d-f56f9266e3fb",
   "metadata": {
    "execution": {
     "iopub.execute_input": "2025-07-30T13:48:39.549594Z",
     "iopub.status.busy": "2025-07-30T13:48:39.548719Z",
     "iopub.status.idle": "2025-07-30T13:48:39.559820Z",
     "shell.execute_reply": "2025-07-30T13:48:39.558903Z"
    },
    "papermill": {
     "duration": 0.036562,
     "end_time": "2025-07-30T13:48:39.561633",
     "exception": false,
     "start_time": "2025-07-30T13:48:39.525071",
     "status": "completed"
    },
    "tags": []
   },
   "outputs": [
    {
     "data": {
      "text/plain": [
       "'5k'"
      ]
     },
     "execution_count": 15,
     "metadata": {},
     "output_type": "execute_result"
    }
   ],
   "source": [
    "universe[\"training_size\"]"
   ]
  },
  {
   "cell_type": "code",
   "execution_count": 16,
   "id": "ca707fd7-8047-4acd-bfa5-66248fbbf8e6",
   "metadata": {
    "execution": {
     "iopub.execute_input": "2025-07-30T13:48:39.603603Z",
     "iopub.status.busy": "2025-07-30T13:48:39.603182Z",
     "iopub.status.idle": "2025-07-30T13:48:39.610659Z",
     "shell.execute_reply": "2025-07-30T13:48:39.609633Z"
    },
    "papermill": {
     "duration": 0.029926,
     "end_time": "2025-07-30T13:48:39.612701",
     "exception": false,
     "start_time": "2025-07-30T13:48:39.582775",
     "status": "completed"
    },
    "tags": []
   },
   "outputs": [
    {
     "data": {
      "text/plain": [
       "'2014'"
      ]
     },
     "execution_count": 16,
     "metadata": {},
     "output_type": "execute_result"
    }
   ],
   "source": [
    "universe[\"training_year\"]"
   ]
  },
  {
   "cell_type": "code",
   "execution_count": 17,
   "id": "aea9c6ef-6f46-42c8-85eb-5a62025c1508",
   "metadata": {
    "execution": {
     "iopub.execute_input": "2025-07-30T13:48:39.655612Z",
     "iopub.status.busy": "2025-07-30T13:48:39.655267Z",
     "iopub.status.idle": "2025-07-30T13:48:39.843078Z",
     "shell.execute_reply": "2025-07-30T13:48:39.842351Z"
    },
    "papermill": {
     "duration": 0.208166,
     "end_time": "2025-07-30T13:48:39.844502",
     "exception": false,
     "start_time": "2025-07-30T13:48:39.636336",
     "status": "completed"
    },
    "tags": []
   },
   "outputs": [],
   "source": [
    "siab_train = sample_by_year_size(siab,\n",
    "                               training_year=universe[\"training_year\"],\n",
    "                               training_size=universe[\"training_size\"])"
   ]
  },
  {
   "cell_type": "code",
   "execution_count": 18,
   "id": "8d3afb32-789d-442c-8d5d-9f5aa8dd2eed",
   "metadata": {
    "execution": {
     "iopub.execute_input": "2025-07-30T13:48:39.879847Z",
     "iopub.status.busy": "2025-07-30T13:48:39.879411Z",
     "iopub.status.idle": "2025-07-30T13:48:39.886724Z",
     "shell.execute_reply": "2025-07-30T13:48:39.885722Z"
    },
    "papermill": {
     "duration": 0.031667,
     "end_time": "2025-07-30T13:48:39.888437",
     "exception": false,
     "start_time": "2025-07-30T13:48:39.856770",
     "status": "completed"
    },
    "tags": []
   },
   "outputs": [
    {
     "data": {
      "text/plain": [
       "(5000, 164)"
      ]
     },
     "execution_count": 18,
     "metadata": {},
     "output_type": "execute_result"
    }
   ],
   "source": [
    "siab_train.shape"
   ]
  },
  {
   "cell_type": "code",
   "execution_count": 19,
   "id": "d582db68-1a4c-47fb-84fc-08518dc1975a",
   "metadata": {
    "execution": {
     "iopub.execute_input": "2025-07-30T13:48:39.937085Z",
     "iopub.status.busy": "2025-07-30T13:48:39.936515Z",
     "iopub.status.idle": "2025-07-30T13:48:39.946912Z",
     "shell.execute_reply": "2025-07-30T13:48:39.945951Z"
    },
    "papermill": {
     "duration": 0.036976,
     "end_time": "2025-07-30T13:48:39.948611",
     "exception": false,
     "start_time": "2025-07-30T13:48:39.911635",
     "status": "completed"
    },
    "tags": []
   },
   "outputs": [
    {
     "data": {
      "text/plain": [
       "year\n",
       "2014    5000\n",
       "dtype: int64"
      ]
     },
     "metadata": {},
     "output_type": "display_data"
    }
   ],
   "source": [
    "display(siab_train.groupby(\"year\").size())"
   ]
  },
  {
   "cell_type": "code",
   "execution_count": 20,
   "id": "a561edb4-d032-42cb-8256-22eac1111c64",
   "metadata": {
    "execution": {
     "iopub.execute_input": "2025-07-30T13:48:40.001656Z",
     "iopub.status.busy": "2025-07-30T13:48:40.000685Z",
     "iopub.status.idle": "2025-07-30T13:48:40.226490Z",
     "shell.execute_reply": "2025-07-30T13:48:40.225395Z"
    },
    "papermill": {
     "duration": 0.253378,
     "end_time": "2025-07-30T13:48:40.228691",
     "exception": false,
     "start_time": "2025-07-30T13:48:39.975313",
     "status": "completed"
    },
    "tags": []
   },
   "outputs": [],
   "source": [
    "#siab_train = siab_s[siab_s.year < 2015]\n",
    "siab_calib = siab[siab.year == 2015]\n",
    "siab_test = siab[siab.year == 2016]"
   ]
  },
  {
   "cell_type": "code",
   "execution_count": 21,
   "id": "472de16f-c3db-4916-846b-1f0de9cf1746",
   "metadata": {
    "execution": {
     "iopub.execute_input": "2025-07-30T13:48:40.282983Z",
     "iopub.status.busy": "2025-07-30T13:48:40.282432Z",
     "iopub.status.idle": "2025-07-30T13:48:40.291553Z",
     "shell.execute_reply": "2025-07-30T13:48:40.290335Z"
    },
    "papermill": {
     "duration": 0.038432,
     "end_time": "2025-07-30T13:48:40.293690",
     "exception": false,
     "start_time": "2025-07-30T13:48:40.255258",
     "status": "completed"
    },
    "tags": []
   },
   "outputs": [],
   "source": [
    "X_train = siab_train.iloc[:,4:164]\n",
    "y_train = siab_train.iloc[:, [3]]"
   ]
  },
  {
   "cell_type": "code",
   "execution_count": 22,
   "id": "828c96af-f43a-4ed6-ba47-8ac73a47d56c",
   "metadata": {
    "execution": {
     "iopub.execute_input": "2025-07-30T13:48:40.345371Z",
     "iopub.status.busy": "2025-07-30T13:48:40.344843Z",
     "iopub.status.idle": "2025-07-30T13:48:40.401241Z",
     "shell.execute_reply": "2025-07-30T13:48:40.399967Z"
    },
    "papermill": {
     "duration": 0.083613,
     "end_time": "2025-07-30T13:48:40.403309",
     "exception": false,
     "start_time": "2025-07-30T13:48:40.319696",
     "status": "completed"
    },
    "tags": []
   },
   "outputs": [],
   "source": [
    "X_calib = siab_calib.iloc[:,4:164]\n",
    "y_calib = siab_calib.iloc[:, [3]]"
   ]
  },
  {
   "cell_type": "code",
   "execution_count": 23,
   "id": "c34be9c3-6bd6-476e-acd3-845840e303be",
   "metadata": {
    "execution": {
     "iopub.execute_input": "2025-07-30T13:48:40.434696Z",
     "iopub.status.busy": "2025-07-30T13:48:40.434232Z",
     "iopub.status.idle": "2025-07-30T13:48:40.490882Z",
     "shell.execute_reply": "2025-07-30T13:48:40.489667Z"
    },
    "papermill": {
     "duration": 0.071976,
     "end_time": "2025-07-30T13:48:40.492674",
     "exception": false,
     "start_time": "2025-07-30T13:48:40.420698",
     "status": "completed"
    },
    "tags": []
   },
   "outputs": [],
   "source": [
    "X_test = siab_test.iloc[:,4:164]\n",
    "y_true = siab_test.iloc[:, [3]]"
   ]
  },
  {
   "cell_type": "markdown",
   "id": "9901737e-04df-44f0-9100-f5ad144ed040",
   "metadata": {
    "papermill": {
     "duration": 0.025111,
     "end_time": "2025-07-30T13:48:40.541974",
     "exception": false,
     "start_time": "2025-07-30T13:48:40.516863",
     "status": "completed"
    },
    "tags": []
   },
   "source": [
    "# Splitting Data and Setting Training Data Size OLD VERSION"
   ]
  },
  {
   "cell_type": "code",
   "execution_count": 24,
   "id": "acbc8f7d-8fc8-4e86-8c59-5dcb0f58384b",
   "metadata": {
    "execution": {
     "iopub.execute_input": "2025-07-30T13:48:40.593234Z",
     "iopub.status.busy": "2025-07-30T13:48:40.592641Z",
     "iopub.status.idle": "2025-07-30T13:48:40.599171Z",
     "shell.execute_reply": "2025-07-30T13:48:40.598142Z"
    },
    "papermill": {
     "duration": 0.034371,
     "end_time": "2025-07-30T13:48:40.601189",
     "exception": false,
     "start_time": "2025-07-30T13:48:40.566818",
     "status": "completed"
    },
    "tags": []
   },
   "outputs": [],
   "source": [
    "#def sample_by_year(df, training_size, random_state=42):\n",
    "#    if training_size == \"2014\":\n",
    "#        return df[df[\"year\"] == 2014].reset_index(drop=True)\n",
    "#    \n",
    "#    size_map = {\n",
    "#        \"25k\": 5000,\n",
    "#        \"5k\": 1000,\n",
    "#        \"1k\": 200\n",
    "#    }\n",
    "#\n",
    "#    if training_size not in size_map:\n",
    "#        return df.reset_index(drop=True)  # use all data\n",
    "#\n",
    "#    n_per_year = size_map[training_size]\n",
    "#    grouped = df.groupby(\"year\")\n",
    "#    sampled = grouped.apply(lambda x: x.sample(n=min(n_per_year, len(x)), random_state=random_state))\n",
    "#    return sampled.reset_index(drop=True)"
   ]
  },
  {
   "cell_type": "code",
   "execution_count": 25,
   "id": "6d931f52-beaf-43ff-9e78-9d44a448d54e",
   "metadata": {
    "execution": {
     "iopub.execute_input": "2025-07-30T13:48:40.654088Z",
     "iopub.status.busy": "2025-07-30T13:48:40.653647Z",
     "iopub.status.idle": "2025-07-30T13:48:40.659195Z",
     "shell.execute_reply": "2025-07-30T13:48:40.658117Z"
    },
    "papermill": {
     "duration": 0.034003,
     "end_time": "2025-07-30T13:48:40.661056",
     "exception": false,
     "start_time": "2025-07-30T13:48:40.627053",
     "status": "completed"
    },
    "tags": []
   },
   "outputs": [],
   "source": [
    "#siab_s = sample_by_year(siab, universe[\"training_size\"])"
   ]
  },
  {
   "cell_type": "code",
   "execution_count": 26,
   "id": "5db0a40e-a4e2-4920-be85-b12ae061d70d",
   "metadata": {
    "execution": {
     "iopub.execute_input": "2025-07-30T13:48:40.705128Z",
     "iopub.status.busy": "2025-07-30T13:48:40.704404Z",
     "iopub.status.idle": "2025-07-30T13:48:40.709087Z",
     "shell.execute_reply": "2025-07-30T13:48:40.708241Z"
    },
    "papermill": {
     "duration": 0.030889,
     "end_time": "2025-07-30T13:48:40.710846",
     "exception": false,
     "start_time": "2025-07-30T13:48:40.679957",
     "status": "completed"
    },
    "tags": []
   },
   "outputs": [],
   "source": [
    "#display(siab_s.groupby(\"year\").size())"
   ]
  },
  {
   "cell_type": "code",
   "execution_count": 27,
   "id": "e6c733c5",
   "metadata": {
    "execution": {
     "iopub.execute_input": "2025-07-30T13:48:40.755316Z",
     "iopub.status.busy": "2025-07-30T13:48:40.754890Z",
     "iopub.status.idle": "2025-07-30T13:48:40.845304Z",
     "shell.execute_reply": "2025-07-30T13:48:40.844560Z"
    },
    "papermill": {
     "duration": 0.11322,
     "end_time": "2025-07-30T13:48:40.847309",
     "exception": false,
     "start_time": "2025-07-30T13:48:40.734089",
     "status": "completed"
    },
    "tags": []
   },
   "outputs": [],
   "source": [
    "# Auxiliary data needed downstream in the pipeline\n",
    "\n",
    "org_train = X_train.copy()\n",
    "org_test = X_test.copy()\n",
    "org_calib = X_calib.copy()"
   ]
  },
  {
   "cell_type": "code",
   "execution_count": 28,
   "id": "1466abac-c6da-4492-a62f-4240ae3783af",
   "metadata": {
    "execution": {
     "iopub.execute_input": "2025-07-30T13:48:40.902472Z",
     "iopub.status.busy": "2025-07-30T13:48:40.902104Z",
     "iopub.status.idle": "2025-07-30T13:48:40.907058Z",
     "shell.execute_reply": "2025-07-30T13:48:40.906143Z"
    },
    "papermill": {
     "duration": 0.028234,
     "end_time": "2025-07-30T13:48:40.908426",
     "exception": false,
     "start_time": "2025-07-30T13:48:40.880192",
     "status": "completed"
    },
    "tags": []
   },
   "outputs": [],
   "source": [
    "# put in other script?\n",
    "# Group sizes\n",
    "\n",
    "#def calculate_percentages(df, df_name):\n",
    "#    total_entries = len(df)\n",
    "#\n",
    "#    female_pct = (df['frau1'] == 1).mean() * 100\n",
    "#    non_german_pct = ((df['maxdeutsch1'] == 0) & (df['maxdeutsch.Missing.'] == 0)).mean() * 100\n",
    "#    non_german_male_pct = ((df['frau1'] == 0) & (df['maxdeutsch1'] == 0) & (df['maxdeutsch.Missing.'] == 0)).mean() * 100\n",
    "#    non_german_female_pct = ((df['frau1'] == 1) & (df['maxdeutsch1'] == 0) & (df['maxdeutsch.Missing.'] == 0)).mean() * 100\n",
    "#\n",
    "#    print(f\"--- {df_name} ---\")\n",
    "#    print(f\"Female: {female_pct:.2f}%\")\n",
    "#    print(f\"Non-German: {non_german_pct:.2f}%\")\n",
    "#    print(f\"Non-German Male: {non_german_male_pct:.2f}%\")\n",
    "#    print(f\"Non-German Female: {non_german_female_pct:.2f}%\\n\")\n",
    "#\n",
    "## Calculate for each DataFrame\n",
    "#calculate_percentages(siab_calib, \"siab_calib\")\n",
    "#calculate_percentages(siab_test, \"siab_test\")\n",
    "#calculate_percentages(siab_train, \"siab_train\")"
   ]
  },
  {
   "cell_type": "markdown",
   "id": "0a4a1b33",
   "metadata": {
    "papermill": {
     "duration": 0.023171,
     "end_time": "2025-07-30T13:48:40.954696",
     "exception": false,
     "start_time": "2025-07-30T13:48:40.931525",
     "status": "completed"
    },
    "tags": []
   },
   "source": [
    "# Preprocessing Data"
   ]
  },
  {
   "cell_type": "code",
   "execution_count": 29,
   "id": "ca879031",
   "metadata": {
    "execution": {
     "iopub.execute_input": "2025-07-30T13:48:41.002699Z",
     "iopub.status.busy": "2025-07-30T13:48:41.002239Z",
     "iopub.status.idle": "2025-07-30T13:48:41.010025Z",
     "shell.execute_reply": "2025-07-30T13:48:41.008635Z"
    },
    "papermill": {
     "duration": 0.033998,
     "end_time": "2025-07-30T13:48:41.011886",
     "exception": false,
     "start_time": "2025-07-30T13:48:40.977888",
     "status": "completed"
    },
    "tags": []
   },
   "outputs": [],
   "source": [
    "# EXCLUDE PROTECTED FEATURES\n",
    "# ----------------------\n",
    "# \"exclude_features\": \"none\", # \"nationality\", \"sex\", \"nationality-sex\"\n",
    "\n",
    "excluded_features = universe[\"exclude_features\"].split(\"-\") # split, e.g.: \"nationality-sex\" -> [\"nationality\", \"sex\"]\n",
    "excluded_features_dictionary = {\n",
    "    \"nationality\": [\"maxdeutsch1\", \"maxdeutsch.Missing.\"],\n",
    "    \"sex\": [\"frau1\"],\n",
    "    \"age\": [\"age\"],\n",
    "}\n"
   ]
  },
  {
   "cell_type": "code",
   "execution_count": 30,
   "id": "b745ac60",
   "metadata": {
    "execution": {
     "iopub.execute_input": "2025-07-30T13:48:41.060209Z",
     "iopub.status.busy": "2025-07-30T13:48:41.059652Z",
     "iopub.status.idle": "2025-07-30T13:48:41.065706Z",
     "shell.execute_reply": "2025-07-30T13:48:41.064771Z"
    },
    "papermill": {
     "duration": 0.034298,
     "end_time": "2025-07-30T13:48:41.067547",
     "exception": false,
     "start_time": "2025-07-30T13:48:41.033249",
     "status": "completed"
    },
    "tags": []
   },
   "outputs": [],
   "source": [
    "# Code nice names to column names\n",
    "\n",
    "excluded_features_columns = [\n",
    "    excluded_features_dictionary[f] for f in excluded_features if len(f) > 0 and f != \"none\"\n",
    "]"
   ]
  },
  {
   "cell_type": "code",
   "execution_count": 31,
   "id": "f84f73a2",
   "metadata": {
    "execution": {
     "iopub.execute_input": "2025-07-30T13:48:41.105969Z",
     "iopub.status.busy": "2025-07-30T13:48:41.105545Z",
     "iopub.status.idle": "2025-07-30T13:48:41.111202Z",
     "shell.execute_reply": "2025-07-30T13:48:41.110436Z"
    },
    "papermill": {
     "duration": 0.021595,
     "end_time": "2025-07-30T13:48:41.112698",
     "exception": false,
     "start_time": "2025-07-30T13:48:41.091103",
     "status": "completed"
    },
    "tags": []
   },
   "outputs": [],
   "source": [
    "from utils import flatten_once\n",
    "\n",
    "excluded_features_columns = flatten_once(excluded_features_columns)"
   ]
  },
  {
   "cell_type": "code",
   "execution_count": 32,
   "id": "884dea22",
   "metadata": {
    "execution": {
     "iopub.execute_input": "2025-07-30T13:48:41.175491Z",
     "iopub.status.busy": "2025-07-30T13:48:41.175132Z",
     "iopub.status.idle": "2025-07-30T13:48:41.192466Z",
     "shell.execute_reply": "2025-07-30T13:48:41.183959Z"
    },
    "papermill": {
     "duration": 0.031721,
     "end_time": "2025-07-30T13:48:41.194135",
     "exception": false,
     "start_time": "2025-07-30T13:48:41.162414",
     "status": "completed"
    },
    "tags": []
   },
   "outputs": [
    {
     "name": "stdout",
     "output_type": "stream",
     "text": [
      "Dropping features: ['maxdeutsch1', 'maxdeutsch.Missing.', 'frau1']\n"
     ]
    }
   ],
   "source": [
    "if len(excluded_features_columns) > 0:\n",
    "    print(f\"Dropping features: {excluded_features_columns}\")\n",
    "    X_train.drop(excluded_features_columns, axis=1, inplace=True)"
   ]
  },
  {
   "cell_type": "code",
   "execution_count": 33,
   "id": "95ab8b16",
   "metadata": {
    "execution": {
     "iopub.execute_input": "2025-07-30T13:48:41.234070Z",
     "iopub.status.busy": "2025-07-30T13:48:41.233433Z",
     "iopub.status.idle": "2025-07-30T13:48:41.293865Z",
     "shell.execute_reply": "2025-07-30T13:48:41.292559Z"
    },
    "papermill": {
     "duration": 0.076829,
     "end_time": "2025-07-30T13:48:41.295874",
     "exception": false,
     "start_time": "2025-07-30T13:48:41.219045",
     "status": "completed"
    },
    "tags": []
   },
   "outputs": [
    {
     "name": "stdout",
     "output_type": "stream",
     "text": [
      "Dropping features: ['maxdeutsch1', 'maxdeutsch.Missing.', 'frau1']\n"
     ]
    }
   ],
   "source": [
    "if len(excluded_features_columns) > 0:\n",
    "    print(f\"Dropping features: {excluded_features_columns}\")\n",
    "    X_test.drop(excluded_features_columns, axis=1, inplace=True)"
   ]
  },
  {
   "cell_type": "code",
   "execution_count": 34,
   "id": "1853aaf5-fb9f-46cb-a2b5-8ea4ae2237e4",
   "metadata": {
    "execution": {
     "iopub.execute_input": "2025-07-30T13:48:41.349580Z",
     "iopub.status.busy": "2025-07-30T13:48:41.349056Z",
     "iopub.status.idle": "2025-07-30T13:48:41.402127Z",
     "shell.execute_reply": "2025-07-30T13:48:41.400978Z"
    },
    "papermill": {
     "duration": 0.081148,
     "end_time": "2025-07-30T13:48:41.403928",
     "exception": false,
     "start_time": "2025-07-30T13:48:41.322780",
     "status": "completed"
    },
    "tags": []
   },
   "outputs": [
    {
     "name": "stdout",
     "output_type": "stream",
     "text": [
      "Dropping features: ['maxdeutsch1', 'maxdeutsch.Missing.', 'frau1']\n"
     ]
    }
   ],
   "source": [
    "if len(excluded_features_columns) > 0:\n",
    "    print(f\"Dropping features: {excluded_features_columns}\")\n",
    "    X_calib.drop(excluded_features_columns, axis=1, inplace=True)"
   ]
  },
  {
   "cell_type": "code",
   "execution_count": 35,
   "id": "6727d079-03e5-481e-9d38-292a90b7a0a8",
   "metadata": {
    "execution": {
     "iopub.execute_input": "2025-07-30T13:48:41.459378Z",
     "iopub.status.busy": "2025-07-30T13:48:41.458902Z",
     "iopub.status.idle": "2025-07-30T13:48:41.463891Z",
     "shell.execute_reply": "2025-07-30T13:48:41.462822Z"
    },
    "papermill": {
     "duration": 0.033819,
     "end_time": "2025-07-30T13:48:41.465679",
     "exception": false,
     "start_time": "2025-07-30T13:48:41.431860",
     "status": "completed"
    },
    "tags": []
   },
   "outputs": [],
   "source": [
    "# SPLIT & STRATIFY DATA\n",
    "# ----------------------"
   ]
  },
  {
   "cell_type": "code",
   "execution_count": 36,
   "id": "76c4dc6d",
   "metadata": {
    "execution": {
     "iopub.execute_input": "2025-07-30T13:48:41.518538Z",
     "iopub.status.busy": "2025-07-30T13:48:41.517893Z",
     "iopub.status.idle": "2025-07-30T13:48:41.523253Z",
     "shell.execute_reply": "2025-07-30T13:48:41.522290Z"
    },
    "papermill": {
     "duration": 0.033468,
     "end_time": "2025-07-30T13:48:41.525010",
     "exception": false,
     "start_time": "2025-07-30T13:48:41.491542",
     "status": "completed"
    },
    "tags": []
   },
   "outputs": [],
   "source": [
    "# EXCLUDE CERTAIN SUBGROUPS\n",
    "# ----------------------\n",
    "\n",
    "mode = universe.get(\"exclude_subgroups\", \"keep-all\") \n",
    "# Fetches the exclude_subgroups setting from the universe dict.\n",
    "# Defaults to \"keep-all\" if the key is missing."
   ]
  },
  {
   "cell_type": "code",
   "execution_count": 37,
   "id": "21994072",
   "metadata": {
    "execution": {
     "iopub.execute_input": "2025-07-30T13:48:41.594995Z",
     "iopub.status.busy": "2025-07-30T13:48:41.594518Z",
     "iopub.status.idle": "2025-07-30T13:48:41.601478Z",
     "shell.execute_reply": "2025-07-30T13:48:41.600342Z"
    },
    "papermill": {
     "duration": 0.038293,
     "end_time": "2025-07-30T13:48:41.604317",
     "exception": false,
     "start_time": "2025-07-30T13:48:41.566024",
     "status": "completed"
    },
    "tags": []
   },
   "outputs": [],
   "source": [
    "if mode == \"keep-all\":\n",
    "    keep_mask = pd.Series(True, index=org_train.index)\n",
    "\n",
    "# org_train contains the original feature columns from features_org (in Simson)\n",
    "# features_org contains unprocessed features, for me X_train at beginning ???\n",
    "# For keep-all, creates a boolean Series (keep_mask) of all True, so no rows are removed.\n",
    "\n",
    "elif mode == \"drop-non-german\":\n",
    "    keep_mask = org_train[\"maxdeutsch1\"] == 1 # ??? what about missing values?\n",
    "\n",
    "else:\n",
    "    raise ValueError(f\"Unsupported mode for exclude_subgroups: {mode}\")\n"
   ]
  },
  {
   "cell_type": "code",
   "execution_count": 38,
   "id": "71651440",
   "metadata": {
    "execution": {
     "iopub.execute_input": "2025-07-30T13:48:41.661531Z",
     "iopub.status.busy": "2025-07-30T13:48:41.660864Z",
     "iopub.status.idle": "2025-07-30T13:48:41.671057Z",
     "shell.execute_reply": "2025-07-30T13:48:41.669932Z"
    },
    "papermill": {
     "duration": 0.046509,
     "end_time": "2025-07-30T13:48:41.679373",
     "exception": false,
     "start_time": "2025-07-30T13:48:41.632864",
     "status": "completed"
    },
    "tags": []
   },
   "outputs": [
    {
     "name": "stdout",
     "output_type": "stream",
     "text": [
      "Dropping 741 rows (14.82%) where mode='drop-non-german'\n"
     ]
    }
   ],
   "source": [
    "n_drop = (~keep_mask).sum() # Calculates how many rows are set to be dropped\n",
    "if n_drop > 0:\n",
    "    pct = n_drop / len(keep_mask) * 100\n",
    "    print(f\"Dropping {n_drop} rows ({pct:.2f}%) where mode='{mode}'\")"
   ]
  },
  {
   "cell_type": "code",
   "execution_count": 39,
   "id": "5fb8eee5",
   "metadata": {
    "execution": {
     "iopub.execute_input": "2025-07-30T13:48:41.736419Z",
     "iopub.status.busy": "2025-07-30T13:48:41.735636Z",
     "iopub.status.idle": "2025-07-30T13:48:41.745954Z",
     "shell.execute_reply": "2025-07-30T13:48:41.744675Z"
    },
    "papermill": {
     "duration": 0.040756,
     "end_time": "2025-07-30T13:48:41.747973",
     "exception": false,
     "start_time": "2025-07-30T13:48:41.707217",
     "status": "completed"
    },
    "tags": []
   },
   "outputs": [],
   "source": [
    "X_train = X_train[keep_mask]"
   ]
  },
  {
   "cell_type": "code",
   "execution_count": 40,
   "id": "b202bb3a",
   "metadata": {
    "execution": {
     "iopub.execute_input": "2025-07-30T13:48:41.806479Z",
     "iopub.status.busy": "2025-07-30T13:48:41.805811Z",
     "iopub.status.idle": "2025-07-30T13:48:41.812910Z",
     "shell.execute_reply": "2025-07-30T13:48:41.811917Z"
    },
    "papermill": {
     "duration": 0.036737,
     "end_time": "2025-07-30T13:48:41.814778",
     "exception": false,
     "start_time": "2025-07-30T13:48:41.778041",
     "status": "completed"
    },
    "tags": []
   },
   "outputs": [],
   "source": [
    "y_train = y_train[keep_mask]"
   ]
  },
  {
   "cell_type": "markdown",
   "id": "493e2ac3",
   "metadata": {
    "papermill": {
     "duration": 0.021103,
     "end_time": "2025-07-30T13:48:41.861699",
     "exception": false,
     "start_time": "2025-07-30T13:48:41.840596",
     "status": "completed"
    },
    "tags": []
   },
   "source": [
    "# Model Training"
   ]
  },
  {
   "cell_type": "code",
   "execution_count": 41,
   "id": "679e1268",
   "metadata": {
    "execution": {
     "iopub.execute_input": "2025-07-30T13:48:41.913489Z",
     "iopub.status.busy": "2025-07-30T13:48:41.912295Z",
     "iopub.status.idle": "2025-07-30T13:48:42.050010Z",
     "shell.execute_reply": "2025-07-30T13:48:42.048638Z"
    },
    "papermill": {
     "duration": 0.164268,
     "end_time": "2025-07-30T13:48:42.052095",
     "exception": false,
     "start_time": "2025-07-30T13:48:41.887827",
     "status": "completed"
    },
    "tags": []
   },
   "outputs": [],
   "source": [
    "from sklearn.linear_model import LogisticRegression\n",
    "from sklearn.ensemble import GradientBoostingClassifier, RandomForestClassifier\n",
    "\n",
    "if (universe[\"model\"] == \"logreg\"):\n",
    "    model = LogisticRegression() #penalty=\"none\") #, solver=\"newton-cg\", max_iter=1) # include random_state=19 ?\n",
    "elif (universe[\"model\"] == \"penalized_logreg\"):\n",
    "    model = LogisticRegression(penalty=\"l2\", C=1.0) #, solver=\"newton-cg\", max_iter=1)\n",
    "elif (universe[\"model\"] == \"rf\"):\n",
    "    model = RandomForestClassifier(n_estimators=100, n_jobs=-1)\n",
    "elif (universe[\"model\"] == \"gbm\"):\n",
    "    model = GradientBoostingClassifier()\n",
    "elif (universe[\"model\"] == \"elasticnet\"):\n",
    "    model = LogisticRegression(penalty = 'elasticnet', solver = 'saga', l1_ratio = 0.5, max_iter=5000) # which solver to use?\n",
    "else:\n",
    "    raise \"Unsupported universe.model\""
   ]
  },
  {
   "cell_type": "code",
   "execution_count": 42,
   "id": "0cc8f744",
   "metadata": {
    "execution": {
     "iopub.execute_input": "2025-07-30T13:48:42.107269Z",
     "iopub.status.busy": "2025-07-30T13:48:42.106490Z",
     "iopub.status.idle": "2025-07-30T13:48:42.114668Z",
     "shell.execute_reply": "2025-07-30T13:48:42.113510Z"
    },
    "papermill": {
     "duration": 0.038672,
     "end_time": "2025-07-30T13:48:42.116953",
     "exception": false,
     "start_time": "2025-07-30T13:48:42.078281",
     "status": "completed"
    },
    "tags": []
   },
   "outputs": [],
   "source": [
    "import numpy as np\n",
    "from sklearn.pipeline import Pipeline\n",
    "from sklearn.preprocessing import StandardScaler\n",
    "\n",
    "model = Pipeline([\n",
    "    #(\"continuous_processor\", continuous_processor),\n",
    "    #(\"categorical_preprocessor\", categorical_preprocessor),\n",
    "    (\"scale\", StandardScaler() if universe[\"scale\"] == \"scale\" else None), \n",
    "    (\"model\", model),\n",
    "])"
   ]
  },
  {
   "cell_type": "code",
   "execution_count": 43,
   "id": "9442c04d",
   "metadata": {
    "execution": {
     "iopub.execute_input": "2025-07-30T13:48:42.171746Z",
     "iopub.status.busy": "2025-07-30T13:48:42.170828Z",
     "iopub.status.idle": "2025-07-30T13:48:42.305434Z",
     "shell.execute_reply": "2025-07-30T13:48:42.304649Z"
    },
    "papermill": {
     "duration": 0.164326,
     "end_time": "2025-07-30T13:48:42.306905",
     "exception": false,
     "start_time": "2025-07-30T13:48:42.142579",
     "status": "completed"
    },
    "tags": []
   },
   "outputs": [
    {
     "name": "stderr",
     "output_type": "stream",
     "text": [
      "/dss/dsshome1/0C/ra93lal2/.local/share/virtualenvs/CMA_Fairness_v2-3j10GkSs/lib/python3.10/site-packages/sklearn/linear_model/_logistic.py:444: ConvergenceWarning: lbfgs failed to converge (status=1):\n",
      "STOP: TOTAL NO. of ITERATIONS REACHED LIMIT.\n",
      "\n",
      "Increase the number of iterations (max_iter) or scale the data as shown in:\n",
      "    https://scikit-learn.org/stable/modules/preprocessing.html\n",
      "Please also refer to the documentation for alternative solver options:\n",
      "    https://scikit-learn.org/stable/modules/linear_model.html#logistic-regression\n",
      "  n_iter_i = _check_optimize_result(\n"
     ]
    },
    {
     "data": {
      "text/html": [
       "<style>#sk-container-id-1 {color: black;background-color: white;}#sk-container-id-1 pre{padding: 0;}#sk-container-id-1 div.sk-toggleable {background-color: white;}#sk-container-id-1 label.sk-toggleable__label {cursor: pointer;display: block;width: 100%;margin-bottom: 0;padding: 0.3em;box-sizing: border-box;text-align: center;}#sk-container-id-1 label.sk-toggleable__label-arrow:before {content: \"▸\";float: left;margin-right: 0.25em;color: #696969;}#sk-container-id-1 label.sk-toggleable__label-arrow:hover:before {color: black;}#sk-container-id-1 div.sk-estimator:hover label.sk-toggleable__label-arrow:before {color: black;}#sk-container-id-1 div.sk-toggleable__content {max-height: 0;max-width: 0;overflow: hidden;text-align: left;background-color: #f0f8ff;}#sk-container-id-1 div.sk-toggleable__content pre {margin: 0.2em;color: black;border-radius: 0.25em;background-color: #f0f8ff;}#sk-container-id-1 input.sk-toggleable__control:checked~div.sk-toggleable__content {max-height: 200px;max-width: 100%;overflow: auto;}#sk-container-id-1 input.sk-toggleable__control:checked~label.sk-toggleable__label-arrow:before {content: \"▾\";}#sk-container-id-1 div.sk-estimator input.sk-toggleable__control:checked~label.sk-toggleable__label {background-color: #d4ebff;}#sk-container-id-1 div.sk-label input.sk-toggleable__control:checked~label.sk-toggleable__label {background-color: #d4ebff;}#sk-container-id-1 input.sk-hidden--visually {border: 0;clip: rect(1px 1px 1px 1px);clip: rect(1px, 1px, 1px, 1px);height: 1px;margin: -1px;overflow: hidden;padding: 0;position: absolute;width: 1px;}#sk-container-id-1 div.sk-estimator {font-family: monospace;background-color: #f0f8ff;border: 1px dotted black;border-radius: 0.25em;box-sizing: border-box;margin-bottom: 0.5em;}#sk-container-id-1 div.sk-estimator:hover {background-color: #d4ebff;}#sk-container-id-1 div.sk-parallel-item::after {content: \"\";width: 100%;border-bottom: 1px solid gray;flex-grow: 1;}#sk-container-id-1 div.sk-label:hover label.sk-toggleable__label {background-color: #d4ebff;}#sk-container-id-1 div.sk-serial::before {content: \"\";position: absolute;border-left: 1px solid gray;box-sizing: border-box;top: 0;bottom: 0;left: 50%;z-index: 0;}#sk-container-id-1 div.sk-serial {display: flex;flex-direction: column;align-items: center;background-color: white;padding-right: 0.2em;padding-left: 0.2em;position: relative;}#sk-container-id-1 div.sk-item {position: relative;z-index: 1;}#sk-container-id-1 div.sk-parallel {display: flex;align-items: stretch;justify-content: center;background-color: white;position: relative;}#sk-container-id-1 div.sk-item::before, #sk-container-id-1 div.sk-parallel-item::before {content: \"\";position: absolute;border-left: 1px solid gray;box-sizing: border-box;top: 0;bottom: 0;left: 50%;z-index: -1;}#sk-container-id-1 div.sk-parallel-item {display: flex;flex-direction: column;z-index: 1;position: relative;background-color: white;}#sk-container-id-1 div.sk-parallel-item:first-child::after {align-self: flex-end;width: 50%;}#sk-container-id-1 div.sk-parallel-item:last-child::after {align-self: flex-start;width: 50%;}#sk-container-id-1 div.sk-parallel-item:only-child::after {width: 0;}#sk-container-id-1 div.sk-dashed-wrapped {border: 1px dashed gray;margin: 0 0.4em 0.5em 0.4em;box-sizing: border-box;padding-bottom: 0.4em;background-color: white;}#sk-container-id-1 div.sk-label label {font-family: monospace;font-weight: bold;display: inline-block;line-height: 1.2em;}#sk-container-id-1 div.sk-label-container {text-align: center;}#sk-container-id-1 div.sk-container {/* jupyter's `normalize.less` sets `[hidden] { display: none; }` but bootstrap.min.css set `[hidden] { display: none !important; }` so we also need the `!important` here to be able to override the default hidden behavior on the sphinx rendered scikit-learn.org. See: https://github.com/scikit-learn/scikit-learn/issues/21755 */display: inline-block !important;position: relative;}#sk-container-id-1 div.sk-text-repr-fallback {display: none;}</style><div id=\"sk-container-id-1\" class=\"sk-top-container\"><div class=\"sk-text-repr-fallback\"><pre>Pipeline(steps=[(&#x27;scale&#x27;, None), (&#x27;model&#x27;, LogisticRegression())])</pre><b>In a Jupyter environment, please rerun this cell to show the HTML representation or trust the notebook. <br />On GitHub, the HTML representation is unable to render, please try loading this page with nbviewer.org.</b></div><div class=\"sk-container\" hidden><div class=\"sk-item sk-dashed-wrapped\"><div class=\"sk-label-container\"><div class=\"sk-label sk-toggleable\"><input class=\"sk-toggleable__control sk-hidden--visually\" id=\"sk-estimator-id-1\" type=\"checkbox\" ><label for=\"sk-estimator-id-1\" class=\"sk-toggleable__label sk-toggleable__label-arrow\">Pipeline</label><div class=\"sk-toggleable__content\"><pre>Pipeline(steps=[(&#x27;scale&#x27;, None), (&#x27;model&#x27;, LogisticRegression())])</pre></div></div></div><div class=\"sk-serial\"><div class=\"sk-item\"><div class=\"sk-estimator sk-toggleable\"><input class=\"sk-toggleable__control sk-hidden--visually\" id=\"sk-estimator-id-2\" type=\"checkbox\" ><label for=\"sk-estimator-id-2\" class=\"sk-toggleable__label sk-toggleable__label-arrow\">None</label><div class=\"sk-toggleable__content\"><pre>None</pre></div></div></div><div class=\"sk-item\"><div class=\"sk-estimator sk-toggleable\"><input class=\"sk-toggleable__control sk-hidden--visually\" id=\"sk-estimator-id-3\" type=\"checkbox\" ><label for=\"sk-estimator-id-3\" class=\"sk-toggleable__label sk-toggleable__label-arrow\">LogisticRegression</label><div class=\"sk-toggleable__content\"><pre>LogisticRegression()</pre></div></div></div></div></div></div></div>"
      ],
      "text/plain": [
       "Pipeline(steps=[('scale', None), ('model', LogisticRegression())])"
      ]
     },
     "execution_count": 43,
     "metadata": {},
     "output_type": "execute_result"
    }
   ],
   "source": [
    "model.fit(X_train, y_train.values.ravel())"
   ]
  },
  {
   "cell_type": "code",
   "execution_count": 44,
   "id": "af59f8c0",
   "metadata": {
    "execution": {
     "iopub.execute_input": "2025-07-30T13:48:42.359135Z",
     "iopub.status.busy": "2025-07-30T13:48:42.358691Z",
     "iopub.status.idle": "2025-07-30T13:48:42.364856Z",
     "shell.execute_reply": "2025-07-30T13:48:42.363812Z"
    },
    "papermill": {
     "duration": 0.034584,
     "end_time": "2025-07-30T13:48:42.366262",
     "exception": false,
     "start_time": "2025-07-30T13:48:42.331678",
     "status": "completed"
    },
    "tags": []
   },
   "outputs": [],
   "source": [
    "from fairness_multiverse.universe import predict_w_threshold"
   ]
  },
  {
   "cell_type": "code",
   "execution_count": 45,
   "id": "a7cf2e16",
   "metadata": {
    "execution": {
     "iopub.execute_input": "2025-07-30T13:48:42.396019Z",
     "iopub.status.busy": "2025-07-30T13:48:42.395668Z",
     "iopub.status.idle": "2025-07-30T13:48:42.488059Z",
     "shell.execute_reply": "2025-07-30T13:48:42.487337Z"
    },
    "papermill": {
     "duration": 0.107508,
     "end_time": "2025-07-30T13:48:42.489422",
     "exception": false,
     "start_time": "2025-07-30T13:48:42.381914",
     "status": "completed"
    },
    "tags": []
   },
   "outputs": [
    {
     "data": {
      "text/plain": [
       "0.8573737598929885"
      ]
     },
     "execution_count": 45,
     "metadata": {},
     "output_type": "execute_result"
    }
   ],
   "source": [
    "probs_test = model.predict_proba(X_test)\n",
    "\n",
    "'''\n",
    "Below code returns a boolean array (or binary 0/1 array depending on how it’s used) where each element \n",
    "is True if the probability of class 1 is greater than or equal to the threshold, and False otherwise.\n",
    "'''\n",
    "y_pred_default = predict_w_threshold(probs_test, 0.5)\n",
    "\n",
    "from sklearn.metrics import accuracy_score\n",
    "\n",
    "# Naive prediction\n",
    "accuracy_score(y_true = y_true, y_pred = y_pred_default)"
   ]
  },
  {
   "cell_type": "code",
   "execution_count": 46,
   "id": "081964c3",
   "metadata": {
    "execution": {
     "iopub.execute_input": "2025-07-30T13:48:42.519438Z",
     "iopub.status.busy": "2025-07-30T13:48:42.518466Z",
     "iopub.status.idle": "2025-07-30T13:48:42.598848Z",
     "shell.execute_reply": "2025-07-30T13:48:42.598158Z"
    },
    "papermill": {
     "duration": 0.09698,
     "end_time": "2025-07-30T13:48:42.600103",
     "exception": false,
     "start_time": "2025-07-30T13:48:42.503123",
     "status": "completed"
    },
    "tags": []
   },
   "outputs": [
    {
     "data": {
      "text/plain": [
       "array([0, 0, 0, ..., 0, 0, 0])"
      ]
     },
     "execution_count": 46,
     "metadata": {},
     "output_type": "execute_result"
    }
   ],
   "source": [
    "model.predict(X_test)"
   ]
  },
  {
   "cell_type": "markdown",
   "id": "56c9705b",
   "metadata": {
    "papermill": {
     "duration": 0.016135,
     "end_time": "2025-07-30T13:48:42.629735",
     "exception": false,
     "start_time": "2025-07-30T13:48:42.613600",
     "status": "completed"
    },
    "tags": []
   },
   "source": [
    "# Conformal Prediction"
   ]
  },
  {
   "cell_type": "code",
   "execution_count": 47,
   "id": "160ec6ff",
   "metadata": {
    "execution": {
     "iopub.execute_input": "2025-07-30T13:48:42.688114Z",
     "iopub.status.busy": "2025-07-30T13:48:42.687184Z",
     "iopub.status.idle": "2025-07-30T13:48:42.692906Z",
     "shell.execute_reply": "2025-07-30T13:48:42.691850Z"
    },
    "papermill": {
     "duration": 0.049507,
     "end_time": "2025-07-30T13:48:42.694615",
     "exception": false,
     "start_time": "2025-07-30T13:48:42.645108",
     "status": "completed"
    },
    "tags": []
   },
   "outputs": [],
   "source": [
    "# Miscoverage level for conformal prediction (10% allowed error rate => 90% target coverage)\n",
    "alpha = 0.1"
   ]
  },
  {
   "cell_type": "code",
   "execution_count": 48,
   "id": "eadf4555-3dd3-440e-8e35-f82a4ad9f855",
   "metadata": {
    "execution": {
     "iopub.execute_input": "2025-07-30T13:48:42.749820Z",
     "iopub.status.busy": "2025-07-30T13:48:42.749350Z",
     "iopub.status.idle": "2025-07-30T13:48:42.829233Z",
     "shell.execute_reply": "2025-07-30T13:48:42.827915Z"
    },
    "papermill": {
     "duration": 0.109546,
     "end_time": "2025-07-30T13:48:42.831720",
     "exception": false,
     "start_time": "2025-07-30T13:48:42.722174",
     "status": "completed"
    },
    "tags": []
   },
   "outputs": [],
   "source": [
    "probs_calib = model.predict_proba(X_calib)"
   ]
  },
  {
   "cell_type": "code",
   "execution_count": 49,
   "id": "2ed93547-6d5d-4983-9b36-1ecb300da49a",
   "metadata": {
    "execution": {
     "iopub.execute_input": "2025-07-30T13:48:42.912555Z",
     "iopub.status.busy": "2025-07-30T13:48:42.911817Z",
     "iopub.status.idle": "2025-07-30T13:48:42.917529Z",
     "shell.execute_reply": "2025-07-30T13:48:42.916874Z"
    },
    "papermill": {
     "duration": 0.047276,
     "end_time": "2025-07-30T13:48:42.918828",
     "exception": false,
     "start_time": "2025-07-30T13:48:42.871552",
     "status": "completed"
    },
    "tags": []
   },
   "outputs": [],
   "source": [
    "y_calib = y_calib.values.ravel().astype(int)"
   ]
  },
  {
   "cell_type": "code",
   "execution_count": 50,
   "id": "65d1320d-f588-4b38-9072-62af1ae97f7d",
   "metadata": {
    "execution": {
     "iopub.execute_input": "2025-07-30T13:48:42.969527Z",
     "iopub.status.busy": "2025-07-30T13:48:42.968598Z",
     "iopub.status.idle": "2025-07-30T13:48:42.979031Z",
     "shell.execute_reply": "2025-07-30T13:48:42.977620Z"
    },
    "papermill": {
     "duration": 0.045627,
     "end_time": "2025-07-30T13:48:42.981681",
     "exception": false,
     "start_time": "2025-07-30T13:48:42.936054",
     "status": "completed"
    },
    "tags": []
   },
   "outputs": [],
   "source": [
    "from fairness_multiverse.conformal import compute_nc_scores\n",
    "\n",
    "# Compute nonconformity scores on calibration set (1 - probability of true class)\n",
    "nc_scores = compute_nc_scores(probs_calib, y_calib)"
   ]
  },
  {
   "cell_type": "code",
   "execution_count": 51,
   "id": "df3b8ca3-53b7-43d5-9667-7c85da7aeda2",
   "metadata": {
    "execution": {
     "iopub.execute_input": "2025-07-30T13:48:43.040575Z",
     "iopub.status.busy": "2025-07-30T13:48:43.039798Z",
     "iopub.status.idle": "2025-07-30T13:48:43.048907Z",
     "shell.execute_reply": "2025-07-30T13:48:43.047787Z"
    },
    "papermill": {
     "duration": 0.037299,
     "end_time": "2025-07-30T13:48:43.050905",
     "exception": false,
     "start_time": "2025-07-30T13:48:43.013606",
     "status": "completed"
    },
    "tags": []
   },
   "outputs": [],
   "source": [
    "from fairness_multiverse.conformal import find_threshold\n",
    "\n",
    "# Find conformal threshold q_hat for the given alpha (split conformal method)\n",
    "q_hat = find_threshold(nc_scores, alpha)"
   ]
  },
  {
   "cell_type": "code",
   "execution_count": 52,
   "id": "4d29e6c1-0ef6-4aa4-b8fe-4fe79b0d033a",
   "metadata": {
    "execution": {
     "iopub.execute_input": "2025-07-30T13:48:43.102285Z",
     "iopub.status.busy": "2025-07-30T13:48:43.101607Z",
     "iopub.status.idle": "2025-07-30T13:48:43.110621Z",
     "shell.execute_reply": "2025-07-30T13:48:43.109520Z"
    },
    "papermill": {
     "duration": 0.036605,
     "end_time": "2025-07-30T13:48:43.112287",
     "exception": false,
     "start_time": "2025-07-30T13:48:43.075682",
     "status": "completed"
    },
    "tags": []
   },
   "outputs": [
    {
     "data": {
      "text/plain": [
       "0.6676771736720664"
      ]
     },
     "execution_count": 52,
     "metadata": {},
     "output_type": "execute_result"
    }
   ],
   "source": [
    "q_hat"
   ]
  },
  {
   "cell_type": "code",
   "execution_count": 53,
   "id": "92460794-cdac-4be2-ba28-f28c0515a6fb",
   "metadata": {
    "execution": {
     "iopub.execute_input": "2025-07-30T13:48:43.164138Z",
     "iopub.status.busy": "2025-07-30T13:48:43.163181Z",
     "iopub.status.idle": "2025-07-30T13:48:43.781010Z",
     "shell.execute_reply": "2025-07-30T13:48:43.780305Z"
    },
    "papermill": {
     "duration": 0.644763,
     "end_time": "2025-07-30T13:48:43.782394",
     "exception": false,
     "start_time": "2025-07-30T13:48:43.137631",
     "status": "completed"
    },
    "tags": []
   },
   "outputs": [],
   "source": [
    "from fairness_multiverse.conformal import predict_conformal_sets\n",
    "\n",
    "# Generate prediction sets for each test example\n",
    "pred_sets = predict_conformal_sets(model, X_test, q_hat)"
   ]
  },
  {
   "cell_type": "code",
   "execution_count": 54,
   "id": "d90c9a65-e6db-4f5d-80cd-e68fb7e46829",
   "metadata": {
    "execution": {
     "iopub.execute_input": "2025-07-30T13:48:43.817793Z",
     "iopub.status.busy": "2025-07-30T13:48:43.817359Z",
     "iopub.status.idle": "2025-07-30T13:48:43.822245Z",
     "shell.execute_reply": "2025-07-30T13:48:43.821569Z"
    },
    "papermill": {
     "duration": 0.027403,
     "end_time": "2025-07-30T13:48:43.823556",
     "exception": false,
     "start_time": "2025-07-30T13:48:43.796153",
     "status": "completed"
    },
    "tags": []
   },
   "outputs": [],
   "source": [
    "y_true = y_true.squeeze()"
   ]
  },
  {
   "cell_type": "code",
   "execution_count": 55,
   "id": "3a58a54a-1e68-46b9-927a-df01f18aebc8",
   "metadata": {
    "execution": {
     "iopub.execute_input": "2025-07-30T13:48:43.850542Z",
     "iopub.status.busy": "2025-07-30T13:48:43.849963Z",
     "iopub.status.idle": "2025-07-30T13:48:44.681837Z",
     "shell.execute_reply": "2025-07-30T13:48:44.680528Z"
    },
    "papermill": {
     "duration": 0.84715,
     "end_time": "2025-07-30T13:48:44.683951",
     "exception": false,
     "start_time": "2025-07-30T13:48:43.836801",
     "status": "completed"
    },
    "tags": []
   },
   "outputs": [],
   "source": [
    "from fairness_multiverse.conformal import evaluate_sets\n",
    "\n",
    "# Evaluate coverage and average set size on test data\n",
    "metrics = evaluate_sets(pred_sets, y_true)"
   ]
  },
  {
   "cell_type": "markdown",
   "id": "2b569c12-9aaa-4c88-98c9-bbcd0cf3ebb8",
   "metadata": {
    "papermill": {
     "duration": 0.028126,
     "end_time": "2025-07-30T13:48:44.739695",
     "exception": false,
     "start_time": "2025-07-30T13:48:44.711569",
     "status": "completed"
    },
    "tags": []
   },
   "source": [
    "# CP Metrics"
   ]
  },
  {
   "cell_type": "code",
   "execution_count": 56,
   "id": "5ce0a5cb-201f-45a0-ade5-94c7f0bd6095",
   "metadata": {
    "execution": {
     "iopub.execute_input": "2025-07-30T13:48:44.797554Z",
     "iopub.status.busy": "2025-07-30T13:48:44.796711Z",
     "iopub.status.idle": "2025-07-30T13:48:44.805938Z",
     "shell.execute_reply": "2025-07-30T13:48:44.804253Z"
    },
    "papermill": {
     "duration": 0.049735,
     "end_time": "2025-07-30T13:48:44.807535",
     "exception": false,
     "start_time": "2025-07-30T13:48:44.757800",
     "status": "completed"
    },
    "tags": []
   },
   "outputs": [
    {
     "data": {
      "text/plain": [
       "{'coverage': 0.9107011481440196, 'avg_size': 1.2147029316687104}"
      ]
     },
     "execution_count": 56,
     "metadata": {},
     "output_type": "execute_result"
    }
   ],
   "source": [
    "metrics"
   ]
  },
  {
   "cell_type": "code",
   "execution_count": 57,
   "id": "9b9a838d-31c9-430b-ae14-12baee460d17",
   "metadata": {
    "execution": {
     "iopub.execute_input": "2025-07-30T13:48:44.864579Z",
     "iopub.status.busy": "2025-07-30T13:48:44.864074Z",
     "iopub.status.idle": "2025-07-30T13:48:44.870826Z",
     "shell.execute_reply": "2025-07-30T13:48:44.869906Z"
    },
    "papermill": {
     "duration": 0.036251,
     "end_time": "2025-07-30T13:48:44.872497",
     "exception": false,
     "start_time": "2025-07-30T13:48:44.836246",
     "status": "completed"
    },
    "tags": []
   },
   "outputs": [],
   "source": [
    "example_universe = universe.copy()\n",
    "universe_training_size = example_universe.get(\"training_size\")\n",
    "universe_scale = example_universe.get(\"scale\")\n",
    "universe_model = example_universe.get(\"model\")\n",
    "universe_exclude_features = example_universe.get(\"exclude_features\")\n",
    "universe_exclude_subgroups = example_universe.get(\"exclude_subgroups\")"
   ]
  },
  {
   "cell_type": "code",
   "execution_count": 58,
   "id": "f4b6a8ac-9dc0-4245-8a91-5b3b5999c4f9",
   "metadata": {
    "execution": {
     "iopub.execute_input": "2025-07-30T13:48:44.928732Z",
     "iopub.status.busy": "2025-07-30T13:48:44.928047Z",
     "iopub.status.idle": "2025-07-30T13:48:44.935257Z",
     "shell.execute_reply": "2025-07-30T13:48:44.934175Z"
    },
    "papermill": {
     "duration": 0.037857,
     "end_time": "2025-07-30T13:48:44.937145",
     "exception": false,
     "start_time": "2025-07-30T13:48:44.899288",
     "status": "completed"
    },
    "tags": []
   },
   "outputs": [],
   "source": [
    "cp_metrics_dict = {\n",
    "    \"universe_id\": [universe_id],\n",
    "    \"universe_training_size\": [universe_training_size],\n",
    "    \"universe_scale\": [universe_scale],\n",
    "    \"universe_model\": [universe_model],\n",
    "    \"universe_exclude_features\": [universe_exclude_features],\n",
    "    \"universe_exclude_subgroups\": [universe_exclude_subgroups],\n",
    "    \"q_hat\": [q_hat],\n",
    "    \"coverage\": [metrics[\"coverage\"]],\n",
    "    \"avg_size\": [metrics[\"avg_size\"]],\n",
    "}"
   ]
  },
  {
   "cell_type": "code",
   "execution_count": 59,
   "id": "908acbb1-0371-4915-85ca-3fa520d2efe2",
   "metadata": {
    "execution": {
     "iopub.execute_input": "2025-07-30T13:48:44.992223Z",
     "iopub.status.busy": "2025-07-30T13:48:44.991191Z",
     "iopub.status.idle": "2025-07-30T13:48:44.999844Z",
     "shell.execute_reply": "2025-07-30T13:48:44.998852Z"
    },
    "papermill": {
     "duration": 0.037925,
     "end_time": "2025-07-30T13:48:45.001109",
     "exception": false,
     "start_time": "2025-07-30T13:48:44.963184",
     "status": "completed"
    },
    "tags": []
   },
   "outputs": [
    {
     "data": {
      "text/plain": [
       "{'universe_id': ['cb3961f5fb277a18f9cc8704b3aa3612'],\n",
       " 'universe_training_size': ['5k'],\n",
       " 'universe_scale': ['do-not-scale'],\n",
       " 'universe_model': ['penalized_logreg'],\n",
       " 'universe_exclude_features': ['nationality-sex'],\n",
       " 'universe_exclude_subgroups': ['drop-non-german'],\n",
       " 'q_hat': [0.6676771736720664],\n",
       " 'coverage': [0.9107011481440196],\n",
       " 'avg_size': [1.2147029316687104]}"
      ]
     },
     "execution_count": 59,
     "metadata": {},
     "output_type": "execute_result"
    }
   ],
   "source": [
    "cp_metrics_dict"
   ]
  },
  {
   "cell_type": "code",
   "execution_count": 60,
   "id": "33007efc-14e9-4ec6-97ac-56a455c82265",
   "metadata": {
    "execution": {
     "iopub.execute_input": "2025-07-30T13:48:45.053105Z",
     "iopub.status.busy": "2025-07-30T13:48:45.052429Z",
     "iopub.status.idle": "2025-07-30T13:48:45.058656Z",
     "shell.execute_reply": "2025-07-30T13:48:45.057741Z"
    },
    "papermill": {
     "duration": 0.036383,
     "end_time": "2025-07-30T13:48:45.061038",
     "exception": false,
     "start_time": "2025-07-30T13:48:45.024655",
     "status": "completed"
    },
    "tags": []
   },
   "outputs": [],
   "source": [
    "cp_metrics_df = pd.DataFrame(cp_metrics_dict)"
   ]
  },
  {
   "cell_type": "code",
   "execution_count": 61,
   "id": "db12611b-57b2-4910-b9d0-355adfd6e7bf",
   "metadata": {
    "execution": {
     "iopub.execute_input": "2025-07-30T13:48:45.141455Z",
     "iopub.status.busy": "2025-07-30T13:48:45.140432Z",
     "iopub.status.idle": "2025-07-30T13:48:45.170978Z",
     "shell.execute_reply": "2025-07-30T13:48:45.170278Z"
    },
    "papermill": {
     "duration": 0.071453,
     "end_time": "2025-07-30T13:48:45.172314",
     "exception": false,
     "start_time": "2025-07-30T13:48:45.100861",
     "status": "completed"
    },
    "tags": []
   },
   "outputs": [
    {
     "data": {
      "text/html": [
       "<div>\n",
       "<style scoped>\n",
       "    .dataframe tbody tr th:only-of-type {\n",
       "        vertical-align: middle;\n",
       "    }\n",
       "\n",
       "    .dataframe tbody tr th {\n",
       "        vertical-align: top;\n",
       "    }\n",
       "\n",
       "    .dataframe thead th {\n",
       "        text-align: right;\n",
       "    }\n",
       "</style>\n",
       "<table border=\"1\" class=\"dataframe\">\n",
       "  <thead>\n",
       "    <tr style=\"text-align: right;\">\n",
       "      <th></th>\n",
       "      <th>universe_id</th>\n",
       "      <th>universe_training_size</th>\n",
       "      <th>universe_scale</th>\n",
       "      <th>universe_model</th>\n",
       "      <th>universe_exclude_features</th>\n",
       "      <th>universe_exclude_subgroups</th>\n",
       "      <th>q_hat</th>\n",
       "      <th>coverage</th>\n",
       "      <th>avg_size</th>\n",
       "    </tr>\n",
       "  </thead>\n",
       "  <tbody>\n",
       "    <tr>\n",
       "      <th>0</th>\n",
       "      <td>cb3961f5fb277a18f9cc8704b3aa3612</td>\n",
       "      <td>5k</td>\n",
       "      <td>do-not-scale</td>\n",
       "      <td>penalized_logreg</td>\n",
       "      <td>nationality-sex</td>\n",
       "      <td>drop-non-german</td>\n",
       "      <td>0.667677</td>\n",
       "      <td>0.910701</td>\n",
       "      <td>1.214703</td>\n",
       "    </tr>\n",
       "  </tbody>\n",
       "</table>\n",
       "</div>"
      ],
      "text/plain": [
       "                        universe_id universe_training_size universe_scale  \\\n",
       "0  cb3961f5fb277a18f9cc8704b3aa3612                     5k   do-not-scale   \n",
       "\n",
       "     universe_model universe_exclude_features universe_exclude_subgroups  \\\n",
       "0  penalized_logreg           nationality-sex            drop-non-german   \n",
       "\n",
       "      q_hat  coverage  avg_size  \n",
       "0  0.667677  0.910701  1.214703  "
      ]
     },
     "execution_count": 61,
     "metadata": {},
     "output_type": "execute_result"
    }
   ],
   "source": [
    "cp_metrics_df"
   ]
  },
  {
   "cell_type": "code",
   "execution_count": 62,
   "id": "b7fbde55-a0a1-47e4-9af6-fe4a17fa8c61",
   "metadata": {
    "execution": {
     "iopub.execute_input": "2025-07-30T13:48:45.200921Z",
     "iopub.status.busy": "2025-07-30T13:48:45.200628Z",
     "iopub.status.idle": "2025-07-30T13:48:45.204595Z",
     "shell.execute_reply": "2025-07-30T13:48:45.203832Z"
    },
    "papermill": {
     "duration": 0.019461,
     "end_time": "2025-07-30T13:48:45.205920",
     "exception": false,
     "start_time": "2025-07-30T13:48:45.186459",
     "status": "completed"
    },
    "tags": []
   },
   "outputs": [],
   "source": [
    "# Conditional Coverage & looking at subgroups"
   ]
  },
  {
   "cell_type": "code",
   "execution_count": 63,
   "id": "027ae886-68dd-4141-96c7-805a5450e1ef",
   "metadata": {
    "execution": {
     "iopub.execute_input": "2025-07-30T13:48:45.239426Z",
     "iopub.status.busy": "2025-07-30T13:48:45.239004Z",
     "iopub.status.idle": "2025-07-30T13:48:45.420256Z",
     "shell.execute_reply": "2025-07-30T13:48:45.419534Z"
    },
    "papermill": {
     "duration": 0.1968,
     "end_time": "2025-07-30T13:48:45.421703",
     "exception": false,
     "start_time": "2025-07-30T13:48:45.224903",
     "status": "completed"
    },
    "tags": []
   },
   "outputs": [],
   "source": [
    "from fairness_multiverse.conformal import build_cp_groups\n",
    "\n",
    "cp_groups_df = build_cp_groups(pred_sets, y_true, X_test.index, org_test)\n",
    "#needs universe_id and setting"
   ]
  },
  {
   "cell_type": "code",
   "execution_count": 64,
   "id": "01d5802c-663a-4d1f-9d69-e036faaffbf7",
   "metadata": {
    "execution": {
     "iopub.execute_input": "2025-07-30T13:48:45.456286Z",
     "iopub.status.busy": "2025-07-30T13:48:45.455248Z",
     "iopub.status.idle": "2025-07-30T13:48:45.459677Z",
     "shell.execute_reply": "2025-07-30T13:48:45.459017Z"
    },
    "papermill": {
     "duration": 0.020625,
     "end_time": "2025-07-30T13:48:45.460866",
     "exception": false,
     "start_time": "2025-07-30T13:48:45.440241",
     "status": "completed"
    },
    "tags": []
   },
   "outputs": [],
   "source": [
    "#delete\n",
    "#cp_groups_df"
   ]
  },
  {
   "cell_type": "code",
   "execution_count": 65,
   "id": "fa424af1-d1eb-443d-b717-2d279ada8408",
   "metadata": {
    "execution": {
     "iopub.execute_input": "2025-07-30T13:48:45.488644Z",
     "iopub.status.busy": "2025-07-30T13:48:45.488361Z",
     "iopub.status.idle": "2025-07-30T13:48:45.491904Z",
     "shell.execute_reply": "2025-07-30T13:48:45.491243Z"
    },
    "papermill": {
     "duration": 0.018676,
     "end_time": "2025-07-30T13:48:45.493153",
     "exception": false,
     "start_time": "2025-07-30T13:48:45.474477",
     "status": "completed"
    },
    "tags": []
   },
   "outputs": [],
   "source": [
    "#delete\n",
    "#percentage = (cp_groups_df['nongerman_female'] == 1).mean() * 100\n",
    "#print(percentage)\n"
   ]
  },
  {
   "cell_type": "code",
   "execution_count": 66,
   "id": "6cbdab96-b2b2-45af-ad54-d0516db2e28d",
   "metadata": {
    "execution": {
     "iopub.execute_input": "2025-07-30T13:48:45.528777Z",
     "iopub.status.busy": "2025-07-30T13:48:45.528323Z",
     "iopub.status.idle": "2025-07-30T13:48:46.560244Z",
     "shell.execute_reply": "2025-07-30T13:48:46.559413Z"
    },
    "papermill": {
     "duration": 1.054515,
     "end_time": "2025-07-30T13:48:46.561730",
     "exception": false,
     "start_time": "2025-07-30T13:48:45.507215",
     "status": "completed"
    },
    "tags": []
   },
   "outputs": [],
   "source": [
    "# Define covered = 1 if true_label is in the predicted set\n",
    "cp_groups_df['covered'] = cp_groups_df.apply(\n",
    "    lambda r: int(r['true_label'] in r['pred_set']),\n",
    "    axis=1\n",
    ")"
   ]
  },
  {
   "cell_type": "code",
   "execution_count": 67,
   "id": "338ff529-1a6b-4b87-a931-8e4788d52aad",
   "metadata": {
    "execution": {
     "iopub.execute_input": "2025-07-30T13:48:46.607193Z",
     "iopub.status.busy": "2025-07-30T13:48:46.606327Z",
     "iopub.status.idle": "2025-07-30T13:48:46.611159Z",
     "shell.execute_reply": "2025-07-30T13:48:46.610236Z"
    },
    "papermill": {
     "duration": 0.03654,
     "end_time": "2025-07-30T13:48:46.612855",
     "exception": false,
     "start_time": "2025-07-30T13:48:46.576315",
     "status": "completed"
    },
    "tags": []
   },
   "outputs": [],
   "source": [
    "#cp_groups_df"
   ]
  },
  {
   "cell_type": "code",
   "execution_count": 68,
   "id": "90032e27-66df-4540-9169-4e89cfbaa758",
   "metadata": {
    "execution": {
     "iopub.execute_input": "2025-07-30T13:48:46.651932Z",
     "iopub.status.busy": "2025-07-30T13:48:46.651477Z",
     "iopub.status.idle": "2025-07-30T13:48:46.660488Z",
     "shell.execute_reply": "2025-07-30T13:48:46.659671Z"
    },
    "papermill": {
     "duration": 0.025164,
     "end_time": "2025-07-30T13:48:46.661820",
     "exception": false,
     "start_time": "2025-07-30T13:48:46.636656",
     "status": "completed"
    },
    "tags": []
   },
   "outputs": [],
   "source": [
    "subgroups = ['frau1','nongerman','nongerman_male','nongerman_female']\n",
    "\n",
    "# Conditional coverage for subgroup==1\n",
    "cond_coverage = {\n",
    "    g: cp_groups_df.loc[cp_groups_df[g]==1, 'covered'].mean()\n",
    "    for g in subgroups\n",
    "}"
   ]
  },
  {
   "cell_type": "code",
   "execution_count": 69,
   "id": "1e348fb1-b9c3-45bc-ba23-f016827a7e0d",
   "metadata": {
    "execution": {
     "iopub.execute_input": "2025-07-30T13:48:46.697952Z",
     "iopub.status.busy": "2025-07-30T13:48:46.697498Z",
     "iopub.status.idle": "2025-07-30T13:48:46.705384Z",
     "shell.execute_reply": "2025-07-30T13:48:46.704332Z"
    },
    "papermill": {
     "duration": 0.031812,
     "end_time": "2025-07-30T13:48:46.707494",
     "exception": false,
     "start_time": "2025-07-30T13:48:46.675682",
     "status": "completed"
    },
    "tags": []
   },
   "outputs": [
    {
     "data": {
      "text/plain": [
       "{'frau1': 0.9085321471896483,\n",
       " 'nongerman': 0.9335878291135687,\n",
       " 'nongerman_male': 0.9470413401783302,\n",
       " 'nongerman_female': 0.9113263785394933}"
      ]
     },
     "execution_count": 69,
     "metadata": {},
     "output_type": "execute_result"
    }
   ],
   "source": [
    "cond_coverage"
   ]
  },
  {
   "cell_type": "code",
   "execution_count": 70,
   "id": "f5093324-c3dd-4d63-bc4c-8d945e5c8bbb",
   "metadata": {
    "execution": {
     "iopub.execute_input": "2025-07-30T13:48:46.783488Z",
     "iopub.status.busy": "2025-07-30T13:48:46.782744Z",
     "iopub.status.idle": "2025-07-30T13:48:46.790137Z",
     "shell.execute_reply": "2025-07-30T13:48:46.789136Z"
    },
    "papermill": {
     "duration": 0.045834,
     "end_time": "2025-07-30T13:48:46.791876",
     "exception": false,
     "start_time": "2025-07-30T13:48:46.746042",
     "status": "completed"
    },
    "tags": []
   },
   "outputs": [],
   "source": [
    "for subgroup, cov in cond_coverage.items():\n",
    "    cp_metrics_df[f\"cov_{subgroup}\"] = cov"
   ]
  },
  {
   "cell_type": "code",
   "execution_count": 71,
   "id": "6e872e10-dbe5-49e8-b554-5030c98ff75d",
   "metadata": {
    "execution": {
     "iopub.execute_input": "2025-07-30T13:48:46.857495Z",
     "iopub.status.busy": "2025-07-30T13:48:46.857050Z",
     "iopub.status.idle": "2025-07-30T13:48:46.871121Z",
     "shell.execute_reply": "2025-07-30T13:48:46.870326Z"
    },
    "papermill": {
     "duration": 0.051725,
     "end_time": "2025-07-30T13:48:46.872519",
     "exception": false,
     "start_time": "2025-07-30T13:48:46.820794",
     "status": "completed"
    },
    "tags": []
   },
   "outputs": [
    {
     "data": {
      "text/html": [
       "<div>\n",
       "<style scoped>\n",
       "    .dataframe tbody tr th:only-of-type {\n",
       "        vertical-align: middle;\n",
       "    }\n",
       "\n",
       "    .dataframe tbody tr th {\n",
       "        vertical-align: top;\n",
       "    }\n",
       "\n",
       "    .dataframe thead th {\n",
       "        text-align: right;\n",
       "    }\n",
       "</style>\n",
       "<table border=\"1\" class=\"dataframe\">\n",
       "  <thead>\n",
       "    <tr style=\"text-align: right;\">\n",
       "      <th></th>\n",
       "      <th>universe_id</th>\n",
       "      <th>universe_training_size</th>\n",
       "      <th>universe_scale</th>\n",
       "      <th>universe_model</th>\n",
       "      <th>universe_exclude_features</th>\n",
       "      <th>universe_exclude_subgroups</th>\n",
       "      <th>q_hat</th>\n",
       "      <th>coverage</th>\n",
       "      <th>avg_size</th>\n",
       "      <th>cov_frau1</th>\n",
       "      <th>cov_nongerman</th>\n",
       "      <th>cov_nongerman_male</th>\n",
       "      <th>cov_nongerman_female</th>\n",
       "    </tr>\n",
       "  </thead>\n",
       "  <tbody>\n",
       "    <tr>\n",
       "      <th>0</th>\n",
       "      <td>cb3961f5fb277a18f9cc8704b3aa3612</td>\n",
       "      <td>5k</td>\n",
       "      <td>do-not-scale</td>\n",
       "      <td>penalized_logreg</td>\n",
       "      <td>nationality-sex</td>\n",
       "      <td>drop-non-german</td>\n",
       "      <td>0.667677</td>\n",
       "      <td>0.910701</td>\n",
       "      <td>1.214703</td>\n",
       "      <td>0.908532</td>\n",
       "      <td>0.933588</td>\n",
       "      <td>0.947041</td>\n",
       "      <td>0.911326</td>\n",
       "    </tr>\n",
       "  </tbody>\n",
       "</table>\n",
       "</div>"
      ],
      "text/plain": [
       "                        universe_id universe_training_size universe_scale  \\\n",
       "0  cb3961f5fb277a18f9cc8704b3aa3612                     5k   do-not-scale   \n",
       "\n",
       "     universe_model universe_exclude_features universe_exclude_subgroups  \\\n",
       "0  penalized_logreg           nationality-sex            drop-non-german   \n",
       "\n",
       "      q_hat  coverage  avg_size  cov_frau1  cov_nongerman  cov_nongerman_male  \\\n",
       "0  0.667677  0.910701  1.214703   0.908532       0.933588            0.947041   \n",
       "\n",
       "   cov_nongerman_female  \n",
       "0              0.911326  "
      ]
     },
     "execution_count": 71,
     "metadata": {},
     "output_type": "execute_result"
    }
   ],
   "source": [
    "cp_metrics_df"
   ]
  },
  {
   "cell_type": "markdown",
   "id": "33774451",
   "metadata": {
    "papermill": {
     "duration": 0.014516,
     "end_time": "2025-07-30T13:48:46.910526",
     "exception": false,
     "start_time": "2025-07-30T13:48:46.896010",
     "status": "completed"
    },
    "tags": []
   },
   "source": [
    "# (Fairness) Metrics"
   ]
  },
  {
   "cell_type": "code",
   "execution_count": 72,
   "id": "debc5d62",
   "metadata": {
    "execution": {
     "iopub.execute_input": "2025-07-30T13:48:46.958603Z",
     "iopub.status.busy": "2025-07-30T13:48:46.958155Z",
     "iopub.status.idle": "2025-07-30T13:48:46.979104Z",
     "shell.execute_reply": "2025-07-30T13:48:46.978385Z"
    },
    "papermill": {
     "duration": 0.050931,
     "end_time": "2025-07-30T13:48:46.980681",
     "exception": false,
     "start_time": "2025-07-30T13:48:46.929750",
     "status": "completed"
    },
    "tags": []
   },
   "outputs": [],
   "source": [
    "# do I need to include maxdeutsch1.missing?\n",
    "\n",
    "import numpy as np\n",
    "\n",
    "colname_to_bin = \"maxdeutsch1\"\n",
    "majority_value = org_train[colname_to_bin].mode()[0]\n",
    "\n",
    "org_test[\"majmin\"] = np.where(org_test[colname_to_bin] == majority_value, \"majority\", \"minority\")"
   ]
  },
  {
   "cell_type": "code",
   "execution_count": 73,
   "id": "06a50de5",
   "metadata": {
    "execution": {
     "iopub.execute_input": "2025-07-30T13:48:47.042299Z",
     "iopub.status.busy": "2025-07-30T13:48:47.041502Z",
     "iopub.status.idle": "2025-07-30T13:48:49.072236Z",
     "shell.execute_reply": "2025-07-30T13:48:49.071356Z"
    },
    "papermill": {
     "duration": 2.064632,
     "end_time": "2025-07-30T13:48:49.073603",
     "exception": false,
     "start_time": "2025-07-30T13:48:47.008971",
     "status": "completed"
    },
    "tags": []
   },
   "outputs": [],
   "source": [
    "example_universe = universe.copy()\n",
    "example_universe[\"cutoff\"] = example_universe[\"cutoff\"][0]\n",
    "example_universe[\"eval_fairness_grouping\"] = example_universe[\"eval_fairness_grouping\"][0]\n",
    "fairness_dict, metric_frame = universe_analysis.compute_metrics(\n",
    "    example_universe,\n",
    "    y_pred_prob=probs_test,\n",
    "    y_test=y_true,\n",
    "    org_test=org_test,\n",
    ")"
   ]
  },
  {
   "cell_type": "markdown",
   "id": "f95d4e02",
   "metadata": {
    "papermill": {
     "duration": 0.01364,
     "end_time": "2025-07-30T13:48:49.101635",
     "exception": false,
     "start_time": "2025-07-30T13:48:49.087995",
     "status": "completed"
    },
    "tags": []
   },
   "source": [
    "# Overall"
   ]
  },
  {
   "cell_type": "markdown",
   "id": "bdee4871",
   "metadata": {
    "papermill": {
     "duration": 0.01385,
     "end_time": "2025-07-30T13:48:49.134024",
     "exception": false,
     "start_time": "2025-07-30T13:48:49.120174",
     "status": "completed"
    },
    "tags": []
   },
   "source": [
    "Fairness\n",
    "Main fairness target: Equalized Odds. Seems to be a better fit than equal opportunity, since we're not only interested in Y = 1. Seems to be a better fit than demographic parity, since we also care about accuracy, not just equal distribution of preds.\n",
    "\n",
    "Pick column for computation of fairness metrics\n",
    "\n",
    "Performance\n",
    "Overall performance measures, most interesting in relation to the measures split by group below"
   ]
  },
  {
   "cell_type": "code",
   "execution_count": 74,
   "id": "c4e067c6",
   "metadata": {
    "execution": {
     "iopub.execute_input": "2025-07-30T13:48:49.162987Z",
     "iopub.status.busy": "2025-07-30T13:48:49.162494Z",
     "iopub.status.idle": "2025-07-30T13:48:49.171844Z",
     "shell.execute_reply": "2025-07-30T13:48:49.170973Z"
    },
    "papermill": {
     "duration": 0.02593,
     "end_time": "2025-07-30T13:48:49.173685",
     "exception": false,
     "start_time": "2025-07-30T13:48:49.147755",
     "status": "completed"
    },
    "tags": []
   },
   "outputs": [
    {
     "data": {
      "text/plain": [
       "accuracy                   0.216977\n",
       "balanced accuracy          0.532088\n",
       "f1                         0.238512\n",
       "precision                  0.136254\n",
       "false positive rate        0.891767\n",
       "false negative rate        0.044056\n",
       "selection rate             0.900000\n",
       "count                  89710.000000\n",
       "dtype: float64"
      ]
     },
     "execution_count": 74,
     "metadata": {},
     "output_type": "execute_result"
    }
   ],
   "source": [
    "metric_frame.overall"
   ]
  },
  {
   "cell_type": "markdown",
   "id": "e968fe9d",
   "metadata": {
    "papermill": {
     "duration": 0.026635,
     "end_time": "2025-07-30T13:48:49.230261",
     "exception": false,
     "start_time": "2025-07-30T13:48:49.203626",
     "status": "completed"
    },
    "tags": []
   },
   "source": [
    "By Group"
   ]
  },
  {
   "cell_type": "code",
   "execution_count": 75,
   "id": "ec325bce",
   "metadata": {
    "execution": {
     "iopub.execute_input": "2025-07-30T13:48:49.288385Z",
     "iopub.status.busy": "2025-07-30T13:48:49.287832Z",
     "iopub.status.idle": "2025-07-30T13:48:49.305406Z",
     "shell.execute_reply": "2025-07-30T13:48:49.304449Z"
    },
    "papermill": {
     "duration": 0.048908,
     "end_time": "2025-07-30T13:48:49.307009",
     "exception": false,
     "start_time": "2025-07-30T13:48:49.258101",
     "status": "completed"
    },
    "tags": []
   },
   "outputs": [
    {
     "data": {
      "text/html": [
       "<div>\n",
       "<style scoped>\n",
       "    .dataframe tbody tr th:only-of-type {\n",
       "        vertical-align: middle;\n",
       "    }\n",
       "\n",
       "    .dataframe tbody tr th {\n",
       "        vertical-align: top;\n",
       "    }\n",
       "\n",
       "    .dataframe thead th {\n",
       "        text-align: right;\n",
       "    }\n",
       "</style>\n",
       "<table border=\"1\" class=\"dataframe\">\n",
       "  <thead>\n",
       "    <tr style=\"text-align: right;\">\n",
       "      <th></th>\n",
       "      <th>accuracy</th>\n",
       "      <th>balanced accuracy</th>\n",
       "      <th>f1</th>\n",
       "      <th>precision</th>\n",
       "      <th>false positive rate</th>\n",
       "      <th>false negative rate</th>\n",
       "      <th>selection rate</th>\n",
       "      <th>count</th>\n",
       "    </tr>\n",
       "    <tr>\n",
       "      <th>majmin</th>\n",
       "      <th></th>\n",
       "      <th></th>\n",
       "      <th></th>\n",
       "      <th></th>\n",
       "      <th></th>\n",
       "      <th></th>\n",
       "      <th></th>\n",
       "      <th></th>\n",
       "    </tr>\n",
       "  </thead>\n",
       "  <tbody>\n",
       "    <tr>\n",
       "      <th>majority</th>\n",
       "      <td>0.238702</td>\n",
       "      <td>0.539551</td>\n",
       "      <td>0.247696</td>\n",
       "      <td>0.142449</td>\n",
       "      <td>0.869365</td>\n",
       "      <td>0.051532</td>\n",
       "      <td>0.879818</td>\n",
       "      <td>69170.0</td>\n",
       "    </tr>\n",
       "    <tr>\n",
       "      <th>minority</th>\n",
       "      <td>0.143817</td>\n",
       "      <td>0.509513</td>\n",
       "      <td>0.209618</td>\n",
       "      <td>0.117292</td>\n",
       "      <td>0.965772</td>\n",
       "      <td>0.015203</td>\n",
       "      <td>0.967965</td>\n",
       "      <td>20540.0</td>\n",
       "    </tr>\n",
       "  </tbody>\n",
       "</table>\n",
       "</div>"
      ],
      "text/plain": [
       "          accuracy  balanced accuracy        f1  precision  \\\n",
       "majmin                                                       \n",
       "majority  0.238702           0.539551  0.247696   0.142449   \n",
       "minority  0.143817           0.509513  0.209618   0.117292   \n",
       "\n",
       "          false positive rate  false negative rate  selection rate    count  \n",
       "majmin                                                                       \n",
       "majority             0.869365             0.051532        0.879818  69170.0  \n",
       "minority             0.965772             0.015203        0.967965  20540.0  "
      ]
     },
     "execution_count": 75,
     "metadata": {},
     "output_type": "execute_result"
    }
   ],
   "source": [
    "metric_frame.by_group"
   ]
  },
  {
   "cell_type": "code",
   "execution_count": 76,
   "id": "a9ddbe63",
   "metadata": {
    "execution": {
     "iopub.execute_input": "2025-07-30T13:48:49.364727Z",
     "iopub.status.busy": "2025-07-30T13:48:49.363684Z",
     "iopub.status.idle": "2025-07-30T13:48:51.018049Z",
     "shell.execute_reply": "2025-07-30T13:48:51.016952Z"
    },
    "papermill": {
     "duration": 1.682583,
     "end_time": "2025-07-30T13:48:51.019701",
     "exception": false,
     "start_time": "2025-07-30T13:48:49.337118",
     "status": "completed"
    },
    "tags": []
   },
   "outputs": [
    {
     "data": {
      "text/plain": [
       "array([[<Axes: title={'center': 'accuracy'}, xlabel='majmin'>,\n",
       "        <Axes: title={'center': 'balanced accuracy'}, xlabel='majmin'>,\n",
       "        <Axes: title={'center': 'f1'}, xlabel='majmin'>],\n",
       "       [<Axes: title={'center': 'precision'}, xlabel='majmin'>,\n",
       "        <Axes: title={'center': 'false positive rate'}, xlabel='majmin'>,\n",
       "        <Axes: title={'center': 'false negative rate'}, xlabel='majmin'>],\n",
       "       [<Axes: title={'center': 'selection rate'}, xlabel='majmin'>,\n",
       "        <Axes: title={'center': 'count'}, xlabel='majmin'>,\n",
       "        <Axes: xlabel='majmin'>]], dtype=object)"
      ]
     },
     "execution_count": 76,
     "metadata": {},
     "output_type": "execute_result"
    },
    {
     "data": {
      "image/png": "[encoded data removed]",
      "text/plain": [
       "<Figure size 1200x800 with 9 Axes>"
      ]
     },
     "metadata": {},
     "output_type": "display_data"
    }
   ],
   "source": [
    "# In a graphic\n",
    "metric_frame.by_group.plot.bar(\n",
    "    subplots=True,\n",
    "    layout=[3, 3],\n",
    "    legend=False,\n",
    "    figsize=[12, 8],\n",
    "    title=\"Show all metrics\",\n",
    ")"
   ]
  },
  {
   "cell_type": "markdown",
   "id": "f57a0bac",
   "metadata": {
    "papermill": {
     "duration": 0.018316,
     "end_time": "2025-07-30T13:48:51.059152",
     "exception": false,
     "start_time": "2025-07-30T13:48:51.040836",
     "status": "completed"
    },
    "tags": []
   },
   "source": [
    "# Final Output"
   ]
  },
  {
   "cell_type": "code",
   "execution_count": 77,
   "id": "96d280a3",
   "metadata": {
    "execution": {
     "iopub.execute_input": "2025-07-30T13:48:51.095702Z",
     "iopub.status.busy": "2025-07-30T13:48:51.095147Z",
     "iopub.status.idle": "2025-07-30T13:48:51.102484Z",
     "shell.execute_reply": "2025-07-30T13:48:51.101777Z"
    },
    "papermill": {
     "duration": 0.027079,
     "end_time": "2025-07-30T13:48:51.103750",
     "exception": false,
     "start_time": "2025-07-30T13:48:51.076671",
     "status": "completed"
    },
    "tags": []
   },
   "outputs": [
    {
     "data": {
      "text/plain": [
       "4"
      ]
     },
     "execution_count": 77,
     "metadata": {},
     "output_type": "execute_result"
    }
   ],
   "source": [
    "sub_universes = universe_analysis.generate_sub_universes()\n",
    "len(sub_universes)"
   ]
  },
  {
   "cell_type": "code",
   "execution_count": 78,
   "id": "92adf7ba",
   "metadata": {
    "execution": {
     "iopub.execute_input": "2025-07-30T13:48:51.141043Z",
     "iopub.status.busy": "2025-07-30T13:48:51.140535Z",
     "iopub.status.idle": "2025-07-30T13:48:51.146129Z",
     "shell.execute_reply": "2025-07-30T13:48:51.145424Z"
    },
    "papermill": {
     "duration": 0.025696,
     "end_time": "2025-07-30T13:48:51.147547",
     "exception": false,
     "start_time": "2025-07-30T13:48:51.121851",
     "status": "completed"
    },
    "tags": []
   },
   "outputs": [],
   "source": [
    "def filter_sub_universe_data(sub_universe, org_test):\n",
    "    # Keep all rows — no filtering\n",
    "    keep_rows_mask = np.ones(org_test.shape[0], dtype=bool)\n",
    "\n",
    "    print(f\"[INFO] Keeping all rows: {keep_rows_mask.sum()} rows retained.\")\n",
    "    return keep_rows_mask"
   ]
  },
  {
   "cell_type": "code",
   "execution_count": 79,
   "id": "4a759155",
   "metadata": {
    "execution": {
     "iopub.execute_input": "2025-07-30T13:48:51.181395Z",
     "iopub.status.busy": "2025-07-30T13:48:51.180744Z",
     "iopub.status.idle": "2025-07-30T13:49:01.646957Z",
     "shell.execute_reply": "2025-07-30T13:49:01.646071Z"
    },
    "papermill": {
     "duration": 10.483857,
     "end_time": "2025-07-30T13:49:01.648375",
     "exception": false,
     "start_time": "2025-07-30T13:48:51.164518",
     "status": "completed"
    },
    "tags": []
   },
   "outputs": [
    {
     "name": "stdout",
     "output_type": "stream",
     "text": [
      "Stopping execution_time clock.\n",
      "[INFO] Keeping all rows: 89710 rows retained.\n"
     ]
    },
    {
     "name": "stdout",
     "output_type": "stream",
     "text": [
      "[INFO] Keeping all rows: 89710 rows retained.\n"
     ]
    },
    {
     "name": "stdout",
     "output_type": "stream",
     "text": [
      "[INFO] Keeping all rows: 89710 rows retained.\n"
     ]
    },
    {
     "name": "stdout",
     "output_type": "stream",
     "text": [
      "[INFO] Keeping all rows: 89710 rows retained.\n"
     ]
    },
    {
     "data": {
      "text/html": [
       "<div>\n",
       "<style scoped>\n",
       "    .dataframe tbody tr th:only-of-type {\n",
       "        vertical-align: middle;\n",
       "    }\n",
       "\n",
       "    .dataframe tbody tr th {\n",
       "        vertical-align: top;\n",
       "    }\n",
       "\n",
       "    .dataframe thead th {\n",
       "        text-align: right;\n",
       "    }\n",
       "</style>\n",
       "<table border=\"1\" class=\"dataframe\">\n",
       "  <thead>\n",
       "    <tr style=\"text-align: right;\">\n",
       "      <th></th>\n",
       "      <th>run_no</th>\n",
       "      <th>universe_id</th>\n",
       "      <th>universe_settings</th>\n",
       "      <th>execution_time</th>\n",
       "      <th>test_size_n</th>\n",
       "      <th>test_size_frac</th>\n",
       "      <th>fair_main_equalized_odds_difference</th>\n",
       "      <th>fair_main_equalized_odds_ratio</th>\n",
       "      <th>fair_main_demographic_parity_difference</th>\n",
       "      <th>fair_main_demographic_parity_ratio</th>\n",
       "      <th>...</th>\n",
       "      <th>perf_grp_precision_0</th>\n",
       "      <th>perf_grp_precision_1</th>\n",
       "      <th>perf_grp_false positive rate_0</th>\n",
       "      <th>perf_grp_false positive rate_1</th>\n",
       "      <th>perf_grp_false negative rate_0</th>\n",
       "      <th>perf_grp_false negative rate_1</th>\n",
       "      <th>perf_grp_selection rate_0</th>\n",
       "      <th>perf_grp_selection rate_1</th>\n",
       "      <th>perf_grp_count_0</th>\n",
       "      <th>perf_grp_count_1</th>\n",
       "    </tr>\n",
       "  </thead>\n",
       "  <tbody>\n",
       "    <tr>\n",
       "      <th>0</th>\n",
       "      <td>12</td>\n",
       "      <td>cb3961f5fb277a18f9cc8704b3aa3612</td>\n",
       "      <td>{\"cutoff\": \"quantile_0.1\", \"eval_fairness_grou...</td>\n",
       "      <td>24.31949</td>\n",
       "      <td>89710</td>\n",
       "      <td>1.0</td>\n",
       "      <td>0.096406</td>\n",
       "      <td>0.900177</td>\n",
       "      <td>0.088147</td>\n",
       "      <td>0.908936</td>\n",
       "      <td>...</td>\n",
       "      <td>NaN</td>\n",
       "      <td>NaN</td>\n",
       "      <td>NaN</td>\n",
       "      <td>NaN</td>\n",
       "      <td>NaN</td>\n",
       "      <td>NaN</td>\n",
       "      <td>NaN</td>\n",
       "      <td>NaN</td>\n",
       "      <td>NaN</td>\n",
       "      <td>NaN</td>\n",
       "    </tr>\n",
       "    <tr>\n",
       "      <th>0</th>\n",
       "      <td>12</td>\n",
       "      <td>cb3961f5fb277a18f9cc8704b3aa3612</td>\n",
       "      <td>{\"cutoff\": \"quantile_0.1\", \"eval_fairness_grou...</td>\n",
       "      <td>24.31949</td>\n",
       "      <td>89710</td>\n",
       "      <td>1.0</td>\n",
       "      <td>0.096406</td>\n",
       "      <td>0.900177</td>\n",
       "      <td>0.088147</td>\n",
       "      <td>0.908936</td>\n",
       "      <td>...</td>\n",
       "      <td>0.117292</td>\n",
       "      <td>0.142449</td>\n",
       "      <td>0.965772</td>\n",
       "      <td>0.869365</td>\n",
       "      <td>0.015203</td>\n",
       "      <td>0.051532</td>\n",
       "      <td>0.967965</td>\n",
       "      <td>0.879818</td>\n",
       "      <td>20540.0</td>\n",
       "      <td>69170.0</td>\n",
       "    </tr>\n",
       "    <tr>\n",
       "      <th>0</th>\n",
       "      <td>12</td>\n",
       "      <td>cb3961f5fb277a18f9cc8704b3aa3612</td>\n",
       "      <td>{\"cutoff\": \"quantile_0.25\", \"eval_fairness_gro...</td>\n",
       "      <td>24.31949</td>\n",
       "      <td>89710</td>\n",
       "      <td>1.0</td>\n",
       "      <td>0.219643</td>\n",
       "      <td>0.755686</td>\n",
       "      <td>0.201369</td>\n",
       "      <td>0.777556</td>\n",
       "      <td>...</td>\n",
       "      <td>NaN</td>\n",
       "      <td>NaN</td>\n",
       "      <td>NaN</td>\n",
       "      <td>NaN</td>\n",
       "      <td>NaN</td>\n",
       "      <td>NaN</td>\n",
       "      <td>NaN</td>\n",
       "      <td>NaN</td>\n",
       "      <td>NaN</td>\n",
       "      <td>NaN</td>\n",
       "    </tr>\n",
       "    <tr>\n",
       "      <th>0</th>\n",
       "      <td>12</td>\n",
       "      <td>cb3961f5fb277a18f9cc8704b3aa3612</td>\n",
       "      <td>{\"cutoff\": \"quantile_0.25\", \"eval_fairness_gro...</td>\n",
       "      <td>24.31949</td>\n",
       "      <td>89710</td>\n",
       "      <td>1.0</td>\n",
       "      <td>0.219643</td>\n",
       "      <td>0.755686</td>\n",
       "      <td>0.201369</td>\n",
       "      <td>0.777556</td>\n",
       "      <td>...</td>\n",
       "      <td>0.121383</td>\n",
       "      <td>0.162360</td>\n",
       "      <td>0.899020</td>\n",
       "      <td>0.679377</td>\n",
       "      <td>0.046875</td>\n",
       "      <td>0.135120</td>\n",
       "      <td>0.905258</td>\n",
       "      <td>0.703889</td>\n",
       "      <td>20540.0</td>\n",
       "      <td>69170.0</td>\n",
       "    </tr>\n",
       "  </tbody>\n",
       "</table>\n",
       "<p>4 rows × 50 columns</p>\n",
       "</div>"
      ],
      "text/plain": [
       "  run_no                       universe_id  \\\n",
       "0     12  cb3961f5fb277a18f9cc8704b3aa3612   \n",
       "0     12  cb3961f5fb277a18f9cc8704b3aa3612   \n",
       "0     12  cb3961f5fb277a18f9cc8704b3aa3612   \n",
       "0     12  cb3961f5fb277a18f9cc8704b3aa3612   \n",
       "\n",
       "                                   universe_settings  execution_time  \\\n",
       "0  {\"cutoff\": \"quantile_0.1\", \"eval_fairness_grou...        24.31949   \n",
       "0  {\"cutoff\": \"quantile_0.1\", \"eval_fairness_grou...        24.31949   \n",
       "0  {\"cutoff\": \"quantile_0.25\", \"eval_fairness_gro...        24.31949   \n",
       "0  {\"cutoff\": \"quantile_0.25\", \"eval_fairness_gro...        24.31949   \n",
       "\n",
       "   test_size_n  test_size_frac  fair_main_equalized_odds_difference  \\\n",
       "0        89710             1.0                             0.096406   \n",
       "0        89710             1.0                             0.096406   \n",
       "0        89710             1.0                             0.219643   \n",
       "0        89710             1.0                             0.219643   \n",
       "\n",
       "   fair_main_equalized_odds_ratio  fair_main_demographic_parity_difference  \\\n",
       "0                        0.900177                                 0.088147   \n",
       "0                        0.900177                                 0.088147   \n",
       "0                        0.755686                                 0.201369   \n",
       "0                        0.755686                                 0.201369   \n",
       "\n",
       "   fair_main_demographic_parity_ratio  ...  perf_grp_precision_0  \\\n",
       "0                            0.908936  ...                   NaN   \n",
       "0                            0.908936  ...              0.117292   \n",
       "0                            0.777556  ...                   NaN   \n",
       "0                            0.777556  ...              0.121383   \n",
       "\n",
       "   perf_grp_precision_1  perf_grp_false positive rate_0  \\\n",
       "0                   NaN                             NaN   \n",
       "0              0.142449                        0.965772   \n",
       "0                   NaN                             NaN   \n",
       "0              0.162360                        0.899020   \n",
       "\n",
       "   perf_grp_false positive rate_1  perf_grp_false negative rate_0  \\\n",
       "0                             NaN                             NaN   \n",
       "0                        0.869365                        0.015203   \n",
       "0                             NaN                             NaN   \n",
       "0                        0.679377                        0.046875   \n",
       "\n",
       "   perf_grp_false negative rate_1  perf_grp_selection rate_0  \\\n",
       "0                             NaN                        NaN   \n",
       "0                        0.051532                   0.967965   \n",
       "0                             NaN                        NaN   \n",
       "0                        0.135120                   0.905258   \n",
       "\n",
       "   perf_grp_selection rate_1  perf_grp_count_0  perf_grp_count_1  \n",
       "0                        NaN               NaN               NaN  \n",
       "0                   0.879818           20540.0           69170.0  \n",
       "0                        NaN               NaN               NaN  \n",
       "0                   0.703889           20540.0           69170.0  \n",
       "\n",
       "[4 rows x 50 columns]"
      ]
     },
     "execution_count": 79,
     "metadata": {},
     "output_type": "execute_result"
    }
   ],
   "source": [
    "final_output = universe_analysis.generate_final_output(\n",
    "    y_pred_prob=probs_test,\n",
    "    y_test=y_true,\n",
    "    org_test=org_test,\n",
    "    filter_data=filter_sub_universe_data,\n",
    "    cp_metrics_df=cp_metrics_df,\n",
    "    save=True,\n",
    ")\n",
    "final_output"
   ]
  },
  {
   "cell_type": "code",
   "execution_count": null,
   "id": "721ff514-cb11-46f8-b6fc-50392f74b5cb",
   "metadata": {
    "papermill": {
     "duration": 0.026688,
     "end_time": "2025-07-30T13:49:01.707003",
     "exception": false,
     "start_time": "2025-07-30T13:49:01.680315",
     "status": "completed"
    },
    "tags": []
   },
   "outputs": [],
   "source": []
  }
 ],
 "metadata": {
  "celltoolbar": "Tags",
  "kernelspec": {
   "display_name": "Python (CMA Fairness)",
   "language": "python",
   "name": "cma_fair_env"
  },
  "language_info": {
   "codemirror_mode": {
    "name": "ipython",
    "version": 3
   },
   "file_extension": ".py",
   "mimetype": "text/x-python",
   "name": "python",
   "nbconvert_exporter": "python",
   "pygments_lexer": "ipython3",
   "version": "3.10.12"
  },
  "papermill": {
   "default_parameters": {},
   "duration": 39.194006,
   "end_time": "2025-07-30T13:49:02.755878",
   "environment_variables": {},
   "exception": null,
   "input_path": "universe_analysis.ipynb",
   "output_path": "output/runs/12/notebooks/m_12-cb3961f5fb277a18f9cc8704b3aa3612.ipynb",
   "parameters": {
    "output_dir": "output",
    "run_no": "12",
    "seed": "2023",
    "universe": "{\"cutoff\": [\"quantile_0.1\", \"quantile_0.25\"], \"eval_fairness_grouping\": [\"majority-minority\", \"nationality-all\"], \"exclude_features\": \"nationality-sex\", \"exclude_subgroups\": \"drop-non-german\", \"model\": \"penalized_logreg\", \"scale\": \"do-not-scale\", \"training_size\": \"5k\", \"training_year\": \"2014\"}",
    "universe_id": "cb3961f5fb277a18f9cc8704b3aa3612"
   },
   "start_time": "2025-07-30T13:48:23.561872",
   "version": "2.6.0"
  }
 },
 "nbformat": 4,
 "nbformat_minor": 5
}