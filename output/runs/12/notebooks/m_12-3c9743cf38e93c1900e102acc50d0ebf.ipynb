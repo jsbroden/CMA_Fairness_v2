{
 "cells": [
  {
   "cell_type": "code",
   "execution_count": 1,
   "id": "f159f837-637b-42ba-96b5-ec9a68c44524",
   "metadata": {
    "execution": {
     "iopub.execute_input": "2025-07-30T13:44:11.197081Z",
     "iopub.status.busy": "2025-07-30T13:44:11.196326Z",
     "iopub.status.idle": "2025-07-30T13:44:11.210013Z",
     "shell.execute_reply": "2025-07-30T13:44:11.209167Z"
    },
    "papermill": {
     "duration": 0.036488,
     "end_time": "2025-07-30T13:44:11.211637",
     "exception": false,
     "start_time": "2025-07-30T13:44:11.175149",
     "status": "completed"
    },
    "tags": []
   },
   "outputs": [
    {
     "name": "stdout",
     "output_type": "stream",
     "text": [
      "/dss/dsshome1/0C/ra93lal2/cma/CMA_Fairness_v2\n"
     ]
    },
    {
     "name": "stderr",
     "output_type": "stream",
     "text": [
      "/dss/dsshome1/0C/ra93lal2/.local/share/virtualenvs/CMA_Fairness_v2-3j10GkSs/lib/python3.10/site-packages/IPython/core/magics/osm.py:393: UserWarning: This is now an optional IPython functionality, using bookmarks requires you to install the `pickleshare` library.\n",
      "  bkms = self.shell.db.get('bookmarks', {})\n",
      "/dss/dsshome1/0C/ra93lal2/.local/share/virtualenvs/CMA_Fairness_v2-3j10GkSs/lib/python3.10/site-packages/IPython/core/magics/osm.py:417: UserWarning: This is now an optional IPython functionality, setting dhist requires you to install the `pickleshare` library.\n",
      "  self.shell.db['dhist'] = compress_dhist(dhist)[-100:]\n"
     ]
    }
   ],
   "source": [
    "%cd ~/cma/CMA_Fairness_v2"
   ]
  },
  {
   "cell_type": "markdown",
   "id": "de2603b9",
   "metadata": {
    "papermill": {
     "duration": 0.019208,
     "end_time": "2025-07-30T13:44:11.249271",
     "exception": false,
     "start_time": "2025-07-30T13:44:11.230063",
     "status": "completed"
    },
    "tags": []
   },
   "source": [
    "The following cell holds the definition of our parameters, these values can be overriden by rendering the with e.g. the following command:\n",
    "\n",
    "papermill -p alpha 0.2 -p ratio 0.3 universe_analysis.ipynb output/test_run.ipynb"
   ]
  },
  {
   "cell_type": "code",
   "execution_count": 2,
   "id": "a80968a0-40bb-4fa9-85ef-2d5eefb01975",
   "metadata": {
    "execution": {
     "iopub.execute_input": "2025-07-30T13:44:11.286151Z",
     "iopub.status.busy": "2025-07-30T13:44:11.285683Z",
     "iopub.status.idle": "2025-07-30T13:44:11.290790Z",
     "shell.execute_reply": "2025-07-30T13:44:11.289909Z"
    },
    "papermill": {
     "duration": 0.025512,
     "end_time": "2025-07-30T13:44:11.292376",
     "exception": false,
     "start_time": "2025-07-30T13:44:11.266864",
     "status": "completed"
    },
    "tags": []
   },
   "outputs": [
    {
     "name": "stdout",
     "output_type": "stream",
     "text": [
      "Current working directory: /dss/dsshome1/0C/ra93lal2/cma/CMA_Fairness_v2\n"
     ]
    }
   ],
   "source": [
    "import os\n",
    "print(\"Current working directory:\", os.getcwd())"
   ]
  },
  {
   "cell_type": "code",
   "execution_count": 3,
   "id": "2dce4c03",
   "metadata": {
    "execution": {
     "iopub.execute_input": "2025-07-30T13:44:11.329574Z",
     "iopub.status.busy": "2025-07-30T13:44:11.329004Z",
     "iopub.status.idle": "2025-07-30T13:44:11.335344Z",
     "shell.execute_reply": "2025-07-30T13:44:11.334465Z"
    },
    "papermill": {
     "duration": 0.026637,
     "end_time": "2025-07-30T13:44:11.337009",
     "exception": false,
     "start_time": "2025-07-30T13:44:11.310372",
     "status": "completed"
    },
    "tags": [
     "parameters"
    ]
   },
   "outputs": [],
   "source": [
    "run_no = 0\n",
    "universe_id = \"test\"\n",
    "universe = {\n",
    "    \"training_size\": \"25k\", # \"25k\", \"5k\", \"1k\"\n",
    "    \"training_year\": \"2014\", # \"2014\", \"2012_14\", \"2010_14\"\n",
    "    \"scale\": \"scale\", # \"scale\", \"do-not-scale\",\n",
    "    #\"stratify_split\": \"target\", # \"none\", \"target\", \"protected-attribute\", \"both\",\n",
    "    \"model\": \"elasticnet\", # \"logreg\", \"penalized_logreg\", \"rf\", \"gbm\", \"elasticnet\"\n",
    "    \"cutoff\": [\"quantile_0.15\", \"quantile_0.30\"],\n",
    "    \"exclude_features\": \"age\", # \"none\", \"nationality\", \"sex\", \"nationality-sex\", \"age\"\n",
    "    \"exclude_subgroups\": \"keep-all\", # \"keep-all\", \"drop-non-german\"\n",
    "    \"eval_fairness_grouping\": [\"majority-minority\", \"nationality-all\"]\n",
    "}\n",
    "\n",
    "output_dir=\"./output\"\n",
    "seed=0"
   ]
  },
  {
   "cell_type": "code",
   "execution_count": 4,
   "id": "de575cff",
   "metadata": {
    "execution": {
     "iopub.execute_input": "2025-07-30T13:44:11.375750Z",
     "iopub.status.busy": "2025-07-30T13:44:11.375157Z",
     "iopub.status.idle": "2025-07-30T13:44:11.380920Z",
     "shell.execute_reply": "2025-07-30T13:44:11.379921Z"
    },
    "papermill": {
     "duration": 0.026668,
     "end_time": "2025-07-30T13:44:11.382803",
     "exception": false,
     "start_time": "2025-07-30T13:44:11.356135",
     "status": "completed"
    },
    "tags": [
     "injected-parameters"
    ]
   },
   "outputs": [],
   "source": [
    "# Parameters\n",
    "universe_id = \"3c9743cf38e93c1900e102acc50d0ebf\"\n",
    "run_no = \"12\"\n",
    "universe = \"{\\\"cutoff\\\": [\\\"quantile_0.1\\\", \\\"quantile_0.25\\\"], \\\"eval_fairness_grouping\\\": [\\\"majority-minority\\\", \\\"nationality-all\\\"], \\\"exclude_features\\\": \\\"sex\\\", \\\"exclude_subgroups\\\": \\\"keep-all\\\", \\\"model\\\": \\\"gbm\\\", \\\"scale\\\": \\\"scale\\\", \\\"training_size\\\": \\\"5k\\\", \\\"training_year\\\": \\\"2014\\\"}\"\n",
    "output_dir = \"output\"\n",
    "seed = \"2023\"\n"
   ]
  },
  {
   "cell_type": "code",
   "execution_count": 5,
   "id": "1650acaf",
   "metadata": {
    "execution": {
     "iopub.execute_input": "2025-07-30T13:44:11.421058Z",
     "iopub.status.busy": "2025-07-30T13:44:11.420596Z",
     "iopub.status.idle": "2025-07-30T13:44:11.425729Z",
     "shell.execute_reply": "2025-07-30T13:44:11.424828Z"
    },
    "papermill": {
     "duration": 0.025563,
     "end_time": "2025-07-30T13:44:11.427353",
     "exception": false,
     "start_time": "2025-07-30T13:44:11.401790",
     "status": "completed"
    },
    "tags": []
   },
   "outputs": [],
   "source": [
    "import json\n",
    "# Parse universe into dict if it is passed as a string\n",
    "if isinstance(universe, str):\n",
    "    universe = json.loads(universe)"
   ]
  },
  {
   "cell_type": "code",
   "execution_count": 6,
   "id": "16620c48",
   "metadata": {
    "execution": {
     "iopub.execute_input": "2025-07-30T13:44:11.465099Z",
     "iopub.status.busy": "2025-07-30T13:44:11.464724Z",
     "iopub.status.idle": "2025-07-30T13:44:11.508958Z",
     "shell.execute_reply": "2025-07-30T13:44:11.508127Z"
    },
    "papermill": {
     "duration": 0.064822,
     "end_time": "2025-07-30T13:44:11.510581",
     "exception": false,
     "start_time": "2025-07-30T13:44:11.445759",
     "status": "completed"
    },
    "tags": []
   },
   "outputs": [],
   "source": [
    "# Auto-reload the custom package\n",
    "%load_ext autoreload\n",
    "%autoreload 1\n",
    "%aimport fairness_multiverse"
   ]
  },
  {
   "cell_type": "code",
   "execution_count": 7,
   "id": "01c5c9f3",
   "metadata": {
    "execution": {
     "iopub.execute_input": "2025-07-30T13:44:11.553269Z",
     "iopub.status.busy": "2025-07-30T13:44:11.552465Z",
     "iopub.status.idle": "2025-07-30T13:44:13.516808Z",
     "shell.execute_reply": "2025-07-30T13:44:13.515837Z"
    },
    "papermill": {
     "duration": 1.98691,
     "end_time": "2025-07-30T13:44:13.518778",
     "exception": false,
     "start_time": "2025-07-30T13:44:11.531868",
     "status": "completed"
    },
    "tags": []
   },
   "outputs": [],
   "source": [
    "from fairness_multiverse.universe import UniverseAnalysis\n",
    "\n",
    "universe_analysis = UniverseAnalysis(\n",
    "    run_no = run_no,\n",
    "    universe_id = universe_id,\n",
    "    universe = universe,\n",
    "    output_dir=output_dir,\n",
    ")"
   ]
  },
  {
   "cell_type": "code",
   "execution_count": 8,
   "id": "106241f5",
   "metadata": {
    "execution": {
     "iopub.execute_input": "2025-07-30T13:44:13.561811Z",
     "iopub.status.busy": "2025-07-30T13:44:13.561120Z",
     "iopub.status.idle": "2025-07-30T13:44:13.567970Z",
     "shell.execute_reply": "2025-07-30T13:44:13.566941Z"
    },
    "papermill": {
     "duration": 0.030547,
     "end_time": "2025-07-30T13:44:13.569742",
     "exception": false,
     "start_time": "2025-07-30T13:44:13.539195",
     "status": "completed"
    },
    "tags": []
   },
   "outputs": [
    {
     "name": "stdout",
     "output_type": "stream",
     "text": [
      "Using Seed: 2023\n"
     ]
    }
   ],
   "source": [
    "import numpy as np\n",
    "parsed_seed = int(seed)\n",
    "np.random.seed(parsed_seed)\n",
    "print(f\"Using Seed: {parsed_seed}\")"
   ]
  },
  {
   "cell_type": "markdown",
   "id": "e0ebdc57",
   "metadata": {
    "papermill": {
     "duration": 0.01879,
     "end_time": "2025-07-30T13:44:13.607834",
     "exception": false,
     "start_time": "2025-07-30T13:44:13.589044",
     "status": "completed"
    },
    "tags": []
   },
   "source": [
    "# Loading Data"
   ]
  },
  {
   "cell_type": "markdown",
   "id": "681925a3",
   "metadata": {
    "papermill": {
     "duration": 0.019059,
     "end_time": "2025-07-30T13:44:13.647659",
     "exception": false,
     "start_time": "2025-07-30T13:44:13.628600",
     "status": "completed"
    },
    "tags": []
   },
   "source": [
    "Load siab_train, siab_test, siab_calib and/or \n",
    "load siab_train_features, siab_train_labels"
   ]
  },
  {
   "cell_type": "code",
   "execution_count": 9,
   "id": "f0496b8a",
   "metadata": {
    "execution": {
     "iopub.execute_input": "2025-07-30T13:44:13.687491Z",
     "iopub.status.busy": "2025-07-30T13:44:13.686815Z",
     "iopub.status.idle": "2025-07-30T13:44:25.595451Z",
     "shell.execute_reply": "2025-07-30T13:44:25.594371Z"
    },
    "papermill": {
     "duration": 11.930307,
     "end_time": "2025-07-30T13:44:25.597074",
     "exception": false,
     "start_time": "2025-07-30T13:44:13.666767",
     "status": "completed"
    },
    "tags": []
   },
   "outputs": [
    {
     "name": "stdout",
     "output_type": "stream",
     "text": [
      "Loading SIAB data from cache: data/siab_cached.csv.gz\n"
     ]
    },
    {
     "name": "stdout",
     "output_type": "stream",
     "text": [
      "(643690, 164)\n"
     ]
    }
   ],
   "source": [
    "from pathlib import Path\n",
    "import pandas as pd\n",
    "\n",
    "# File paths\n",
    "raw_file = Path(\"data/raw/siab.csv\")\n",
    "cache_file = Path(\"data/siab_cached.csv.gz\")\n",
    "\n",
    "# Ensure cache directory exists\n",
    "cache_file.parent.mkdir(parents=True, exist_ok=True)\n",
    "\n",
    "# Load with simple caching\n",
    "if cache_file.exists():\n",
    "    print(f\"Loading SIAB data from cache: {cache_file}\")\n",
    "    siab = pd.read_csv(cache_file, compression='gzip')\n",
    "else:\n",
    "    print(f\"Cache not found. Reading raw SIAB data: {raw_file}\")\n",
    "    siab = pd.read_csv(raw_file)\n",
    "    siab.to_csv(cache_file, index=False, compression='gzip')\n",
    "    print(f\"Cached SIAB data to: {cache_file}\")\n",
    "\n",
    "# Now use `siab` DataFrame as needed\n",
    "print(siab.shape)"
   ]
  },
  {
   "cell_type": "code",
   "execution_count": 10,
   "id": "db0ca512-5f53-4dba-abdb-a2888bca41ba",
   "metadata": {
    "execution": {
     "iopub.execute_input": "2025-07-30T13:44:25.639492Z",
     "iopub.status.busy": "2025-07-30T13:44:25.638557Z",
     "iopub.status.idle": "2025-07-30T13:44:25.644178Z",
     "shell.execute_reply": "2025-07-30T13:44:25.643113Z"
    },
    "papermill": {
     "duration": 0.027836,
     "end_time": "2025-07-30T13:44:25.646079",
     "exception": false,
     "start_time": "2025-07-30T13:44:25.618243",
     "status": "completed"
    },
    "tags": []
   },
   "outputs": [],
   "source": [
    "#siab"
   ]
  },
  {
   "cell_type": "code",
   "execution_count": 11,
   "id": "a0edb063",
   "metadata": {
    "execution": {
     "iopub.execute_input": "2025-07-30T13:44:25.690932Z",
     "iopub.status.busy": "2025-07-30T13:44:25.690547Z",
     "iopub.status.idle": "2025-07-30T13:44:25.694934Z",
     "shell.execute_reply": "2025-07-30T13:44:25.694011Z"
    },
    "papermill": {
     "duration": 0.028779,
     "end_time": "2025-07-30T13:44:25.696990",
     "exception": false,
     "start_time": "2025-07-30T13:44:25.668211",
     "status": "completed"
    },
    "tags": []
   },
   "outputs": [],
   "source": [
    "#import pandas as pd\n",
    "#\n",
    "#X_train = pd.read_csv(\"./data/X_train.csv\")\n",
    "#y_train = pd.read_csv(\"./data/y_train.csv\")"
   ]
  },
  {
   "cell_type": "code",
   "execution_count": 12,
   "id": "63d08085",
   "metadata": {
    "execution": {
     "iopub.execute_input": "2025-07-30T13:44:25.736714Z",
     "iopub.status.busy": "2025-07-30T13:44:25.735880Z",
     "iopub.status.idle": "2025-07-30T13:44:25.741237Z",
     "shell.execute_reply": "2025-07-30T13:44:25.740333Z"
    },
    "papermill": {
     "duration": 0.027013,
     "end_time": "2025-07-30T13:44:25.742802",
     "exception": false,
     "start_time": "2025-07-30T13:44:25.715789",
     "status": "completed"
    },
    "tags": []
   },
   "outputs": [],
   "source": [
    "#X_test = pd.read_csv(\"./data/X_test.csv\")\n",
    "#y_true = pd.read_csv(\"./data/y_test.csv\")"
   ]
  },
  {
   "cell_type": "code",
   "execution_count": 13,
   "id": "98a8d0fa-1d3d-4ed8-bb2c-281470e24add",
   "metadata": {
    "execution": {
     "iopub.execute_input": "2025-07-30T13:44:25.781319Z",
     "iopub.status.busy": "2025-07-30T13:44:25.780858Z",
     "iopub.status.idle": "2025-07-30T13:44:25.785642Z",
     "shell.execute_reply": "2025-07-30T13:44:25.784705Z"
    },
    "papermill": {
     "duration": 0.025754,
     "end_time": "2025-07-30T13:44:25.787308",
     "exception": false,
     "start_time": "2025-07-30T13:44:25.761554",
     "status": "completed"
    },
    "tags": []
   },
   "outputs": [],
   "source": [
    "# Calibration data for conformal\n",
    "#X_calib = pd.read_csv(\"./data/X_calib.csv\")\n",
    "#y_calib = pd.read_csv(\"./data/y_calib.csv\")"
   ]
  },
  {
   "cell_type": "markdown",
   "id": "997051c5-15bd-4b69-9786-c3001a3ce484",
   "metadata": {
    "papermill": {
     "duration": 0.01902,
     "end_time": "2025-07-30T13:44:25.827625",
     "exception": false,
     "start_time": "2025-07-30T13:44:25.808605",
     "status": "completed"
    },
    "tags": []
   },
   "source": [
    "# Splitting Data and Setting Training Data Size"
   ]
  },
  {
   "cell_type": "code",
   "execution_count": 14,
   "id": "e993b61f-042d-41a6-8c81-f55681f86335",
   "metadata": {
    "execution": {
     "iopub.execute_input": "2025-07-30T13:44:25.866985Z",
     "iopub.status.busy": "2025-07-30T13:44:25.866191Z",
     "iopub.status.idle": "2025-07-30T13:44:25.878974Z",
     "shell.execute_reply": "2025-07-30T13:44:25.878036Z"
    },
    "papermill": {
     "duration": 0.034301,
     "end_time": "2025-07-30T13:44:25.880885",
     "exception": false,
     "start_time": "2025-07-30T13:44:25.846584",
     "status": "completed"
    },
    "tags": []
   },
   "outputs": [],
   "source": [
    "def sample_by_year_size(df,\n",
    "                        training_year: str,\n",
    "                        training_size: str,\n",
    "                        random_state: int = 42):\n",
    "    # --- parse training_year into a list of int years ---\n",
    "    if \"_\" in training_year:\n",
    "        start_str, end_str = training_year.split(\"_\", 1)\n",
    "        start = int(start_str)\n",
    "        end   = int(end_str) if len(end_str) == 4 else (int(end_str) + (start // 100)*100)\n",
    "        years = list(range(start, end + 1))\n",
    "    else:\n",
    "        years = [int(training_year)]\n",
    "\n",
    "    df = df[df[\"year\"].isin(years)].reset_index(drop=True)\n",
    "\n",
    "    # --- map training_size to total number of samples ---\n",
    "    total_map = {\"25k\": 25_000, \"5k\": 5_000, \"1k\": 1_000}\n",
    "    if training_size not in total_map:\n",
    "        return df  # e.g. \"all\"\n",
    "\n",
    "    total_samples = total_map[training_size]\n",
    "    n_years       = len(years)\n",
    "    base          = total_samples // n_years\n",
    "    remainder     = total_samples % n_years\n",
    "\n",
    "    # --- build a dict: year -> how many to sample ---\n",
    "    # give +1 to the first `remainder` years in ascending order\n",
    "    quotas = {\n",
    "        year: base + (1 if idx < remainder else 0)\n",
    "        for idx, year in enumerate(sorted(years))\n",
    "    }\n",
    "\n",
    "    # --- sample per‐year according to the quota dict ---\n",
    "    sampled = (\n",
    "        df\n",
    "        .groupby(\"year\", group_keys=False)\n",
    "        .apply(lambda grp: grp.sample(\n",
    "            n=min(len(grp), quotas[grp.name]),\n",
    "            random_state=random_state))\n",
    "        .reset_index(drop=True)\n",
    "    )\n",
    "\n",
    "    return sampled"
   ]
  },
  {
   "cell_type": "code",
   "execution_count": 15,
   "id": "c0ccd338-0e02-41f3-a09d-f56f9266e3fb",
   "metadata": {
    "execution": {
     "iopub.execute_input": "2025-07-30T13:44:25.924637Z",
     "iopub.status.busy": "2025-07-30T13:44:25.924004Z",
     "iopub.status.idle": "2025-07-30T13:44:25.934278Z",
     "shell.execute_reply": "2025-07-30T13:44:25.933414Z"
    },
    "papermill": {
     "duration": 0.033757,
     "end_time": "2025-07-30T13:44:25.936171",
     "exception": false,
     "start_time": "2025-07-30T13:44:25.902414",
     "status": "completed"
    },
    "tags": []
   },
   "outputs": [
    {
     "data": {
      "text/plain": [
       "'5k'"
      ]
     },
     "execution_count": 15,
     "metadata": {},
     "output_type": "execute_result"
    }
   ],
   "source": [
    "universe[\"training_size\"]"
   ]
  },
  {
   "cell_type": "code",
   "execution_count": 16,
   "id": "ca707fd7-8047-4acd-bfa5-66248fbbf8e6",
   "metadata": {
    "execution": {
     "iopub.execute_input": "2025-07-30T13:44:25.980718Z",
     "iopub.status.busy": "2025-07-30T13:44:25.980076Z",
     "iopub.status.idle": "2025-07-30T13:44:25.991484Z",
     "shell.execute_reply": "2025-07-30T13:44:25.990660Z"
    },
    "papermill": {
     "duration": 0.039143,
     "end_time": "2025-07-30T13:44:25.997100",
     "exception": false,
     "start_time": "2025-07-30T13:44:25.957957",
     "status": "completed"
    },
    "tags": []
   },
   "outputs": [
    {
     "data": {
      "text/plain": [
       "'2014'"
      ]
     },
     "execution_count": 16,
     "metadata": {},
     "output_type": "execute_result"
    }
   ],
   "source": [
    "universe[\"training_year\"]"
   ]
  },
  {
   "cell_type": "code",
   "execution_count": 17,
   "id": "aea9c6ef-6f46-42c8-85eb-5a62025c1508",
   "metadata": {
    "execution": {
     "iopub.execute_input": "2025-07-30T13:44:26.044054Z",
     "iopub.status.busy": "2025-07-30T13:44:26.043368Z",
     "iopub.status.idle": "2025-07-30T13:44:26.324672Z",
     "shell.execute_reply": "2025-07-30T13:44:26.323750Z"
    },
    "papermill": {
     "duration": 0.30559,
     "end_time": "2025-07-30T13:44:26.326585",
     "exception": false,
     "start_time": "2025-07-30T13:44:26.020995",
     "status": "completed"
    },
    "tags": []
   },
   "outputs": [],
   "source": [
    "siab_train = sample_by_year_size(siab,\n",
    "                               training_year=universe[\"training_year\"],\n",
    "                               training_size=universe[\"training_size\"])"
   ]
  },
  {
   "cell_type": "code",
   "execution_count": 18,
   "id": "8d3afb32-789d-442c-8d5d-9f5aa8dd2eed",
   "metadata": {
    "execution": {
     "iopub.execute_input": "2025-07-30T13:44:26.367326Z",
     "iopub.status.busy": "2025-07-30T13:44:26.366870Z",
     "iopub.status.idle": "2025-07-30T13:44:26.374461Z",
     "shell.execute_reply": "2025-07-30T13:44:26.373745Z"
    },
    "papermill": {
     "duration": 0.029376,
     "end_time": "2025-07-30T13:44:26.376405",
     "exception": false,
     "start_time": "2025-07-30T13:44:26.347029",
     "status": "completed"
    },
    "tags": []
   },
   "outputs": [
    {
     "data": {
      "text/plain": [
       "(5000, 164)"
      ]
     },
     "execution_count": 18,
     "metadata": {},
     "output_type": "execute_result"
    }
   ],
   "source": [
    "siab_train.shape"
   ]
  },
  {
   "cell_type": "code",
   "execution_count": 19,
   "id": "d582db68-1a4c-47fb-84fc-08518dc1975a",
   "metadata": {
    "execution": {
     "iopub.execute_input": "2025-07-30T13:44:26.417332Z",
     "iopub.status.busy": "2025-07-30T13:44:26.416451Z",
     "iopub.status.idle": "2025-07-30T13:44:26.426637Z",
     "shell.execute_reply": "2025-07-30T13:44:26.425734Z"
    },
    "papermill": {
     "duration": 0.032128,
     "end_time": "2025-07-30T13:44:26.428351",
     "exception": false,
     "start_time": "2025-07-30T13:44:26.396223",
     "status": "completed"
    },
    "tags": []
   },
   "outputs": [
    {
     "data": {
      "text/plain": [
       "year\n",
       "2014    5000\n",
       "dtype: int64"
      ]
     },
     "metadata": {},
     "output_type": "display_data"
    }
   ],
   "source": [
    "display(siab_train.groupby(\"year\").size())"
   ]
  },
  {
   "cell_type": "code",
   "execution_count": 20,
   "id": "a561edb4-d032-42cb-8256-22eac1111c64",
   "metadata": {
    "execution": {
     "iopub.execute_input": "2025-07-30T13:44:26.469629Z",
     "iopub.status.busy": "2025-07-30T13:44:26.469153Z",
     "iopub.status.idle": "2025-07-30T13:44:26.711284Z",
     "shell.execute_reply": "2025-07-30T13:44:26.710369Z"
    },
    "papermill": {
     "duration": 0.264445,
     "end_time": "2025-07-30T13:44:26.713169",
     "exception": false,
     "start_time": "2025-07-30T13:44:26.448724",
     "status": "completed"
    },
    "tags": []
   },
   "outputs": [],
   "source": [
    "#siab_train = siab_s[siab_s.year < 2015]\n",
    "siab_calib = siab[siab.year == 2015]\n",
    "siab_test = siab[siab.year == 2016]"
   ]
  },
  {
   "cell_type": "code",
   "execution_count": 21,
   "id": "472de16f-c3db-4916-846b-1f0de9cf1746",
   "metadata": {
    "execution": {
     "iopub.execute_input": "2025-07-30T13:44:26.754435Z",
     "iopub.status.busy": "2025-07-30T13:44:26.753592Z",
     "iopub.status.idle": "2025-07-30T13:44:26.761848Z",
     "shell.execute_reply": "2025-07-30T13:44:26.760914Z"
    },
    "papermill": {
     "duration": 0.030134,
     "end_time": "2025-07-30T13:44:26.763412",
     "exception": false,
     "start_time": "2025-07-30T13:44:26.733278",
     "status": "completed"
    },
    "tags": []
   },
   "outputs": [],
   "source": [
    "X_train = siab_train.iloc[:,4:164]\n",
    "y_train = siab_train.iloc[:, [3]]"
   ]
  },
  {
   "cell_type": "code",
   "execution_count": 22,
   "id": "828c96af-f43a-4ed6-ba47-8ac73a47d56c",
   "metadata": {
    "execution": {
     "iopub.execute_input": "2025-07-30T13:44:26.804935Z",
     "iopub.status.busy": "2025-07-30T13:44:26.804167Z",
     "iopub.status.idle": "2025-07-30T13:44:26.855774Z",
     "shell.execute_reply": "2025-07-30T13:44:26.854743Z"
    },
    "papermill": {
     "duration": 0.074381,
     "end_time": "2025-07-30T13:44:26.857884",
     "exception": false,
     "start_time": "2025-07-30T13:44:26.783503",
     "status": "completed"
    },
    "tags": []
   },
   "outputs": [],
   "source": [
    "X_calib = siab_calib.iloc[:,4:164]\n",
    "y_calib = siab_calib.iloc[:, [3]]"
   ]
  },
  {
   "cell_type": "code",
   "execution_count": 23,
   "id": "c34be9c3-6bd6-476e-acd3-845840e303be",
   "metadata": {
    "execution": {
     "iopub.execute_input": "2025-07-30T13:44:26.899748Z",
     "iopub.status.busy": "2025-07-30T13:44:26.899114Z",
     "iopub.status.idle": "2025-07-30T13:44:26.951561Z",
     "shell.execute_reply": "2025-07-30T13:44:26.950501Z"
    },
    "papermill": {
     "duration": 0.074661,
     "end_time": "2025-07-30T13:44:26.953282",
     "exception": false,
     "start_time": "2025-07-30T13:44:26.878621",
     "status": "completed"
    },
    "tags": []
   },
   "outputs": [],
   "source": [
    "X_test = siab_test.iloc[:,4:164]\n",
    "y_true = siab_test.iloc[:, [3]]"
   ]
  },
  {
   "cell_type": "markdown",
   "id": "9901737e-04df-44f0-9100-f5ad144ed040",
   "metadata": {
    "papermill": {
     "duration": 0.023114,
     "end_time": "2025-07-30T13:44:27.000963",
     "exception": false,
     "start_time": "2025-07-30T13:44:26.977849",
     "status": "completed"
    },
    "tags": []
   },
   "source": [
    "# Splitting Data and Setting Training Data Size OLD VERSION"
   ]
  },
  {
   "cell_type": "code",
   "execution_count": 24,
   "id": "acbc8f7d-8fc8-4e86-8c59-5dcb0f58384b",
   "metadata": {
    "execution": {
     "iopub.execute_input": "2025-07-30T13:44:27.048934Z",
     "iopub.status.busy": "2025-07-30T13:44:27.048299Z",
     "iopub.status.idle": "2025-07-30T13:44:27.053675Z",
     "shell.execute_reply": "2025-07-30T13:44:27.052771Z"
    },
    "papermill": {
     "duration": 0.031142,
     "end_time": "2025-07-30T13:44:27.055217",
     "exception": false,
     "start_time": "2025-07-30T13:44:27.024075",
     "status": "completed"
    },
    "tags": []
   },
   "outputs": [],
   "source": [
    "#def sample_by_year(df, training_size, random_state=42):\n",
    "#    if training_size == \"2014\":\n",
    "#        return df[df[\"year\"] == 2014].reset_index(drop=True)\n",
    "#    \n",
    "#    size_map = {\n",
    "#        \"25k\": 5000,\n",
    "#        \"5k\": 1000,\n",
    "#        \"1k\": 200\n",
    "#    }\n",
    "#\n",
    "#    if training_size not in size_map:\n",
    "#        return df.reset_index(drop=True)  # use all data\n",
    "#\n",
    "#    n_per_year = size_map[training_size]\n",
    "#    grouped = df.groupby(\"year\")\n",
    "#    sampled = grouped.apply(lambda x: x.sample(n=min(n_per_year, len(x)), random_state=random_state))\n",
    "#    return sampled.reset_index(drop=True)"
   ]
  },
  {
   "cell_type": "code",
   "execution_count": 25,
   "id": "6d931f52-beaf-43ff-9e78-9d44a448d54e",
   "metadata": {
    "execution": {
     "iopub.execute_input": "2025-07-30T13:44:27.104738Z",
     "iopub.status.busy": "2025-07-30T13:44:27.103862Z",
     "iopub.status.idle": "2025-07-30T13:44:27.109102Z",
     "shell.execute_reply": "2025-07-30T13:44:27.108201Z"
    },
    "papermill": {
     "duration": 0.031233,
     "end_time": "2025-07-30T13:44:27.110717",
     "exception": false,
     "start_time": "2025-07-30T13:44:27.079484",
     "status": "completed"
    },
    "tags": []
   },
   "outputs": [],
   "source": [
    "#siab_s = sample_by_year(siab, universe[\"training_size\"])"
   ]
  },
  {
   "cell_type": "code",
   "execution_count": 26,
   "id": "5db0a40e-a4e2-4920-be85-b12ae061d70d",
   "metadata": {
    "execution": {
     "iopub.execute_input": "2025-07-30T13:44:27.159629Z",
     "iopub.status.busy": "2025-07-30T13:44:27.158975Z",
     "iopub.status.idle": "2025-07-30T13:44:27.163962Z",
     "shell.execute_reply": "2025-07-30T13:44:27.163057Z"
    },
    "papermill": {
     "duration": 0.031406,
     "end_time": "2025-07-30T13:44:27.165652",
     "exception": false,
     "start_time": "2025-07-30T13:44:27.134246",
     "status": "completed"
    },
    "tags": []
   },
   "outputs": [],
   "source": [
    "#display(siab_s.groupby(\"year\").size())"
   ]
  },
  {
   "cell_type": "code",
   "execution_count": 27,
   "id": "e6c733c5",
   "metadata": {
    "execution": {
     "iopub.execute_input": "2025-07-30T13:44:27.215499Z",
     "iopub.status.busy": "2025-07-30T13:44:27.214708Z",
     "iopub.status.idle": "2025-07-30T13:44:27.308436Z",
     "shell.execute_reply": "2025-07-30T13:44:27.307456Z"
    },
    "papermill": {
     "duration": 0.120732,
     "end_time": "2025-07-30T13:44:27.310313",
     "exception": false,
     "start_time": "2025-07-30T13:44:27.189581",
     "status": "completed"
    },
    "tags": []
   },
   "outputs": [],
   "source": [
    "# Auxiliary data needed downstream in the pipeline\n",
    "\n",
    "org_train = X_train.copy()\n",
    "org_test = X_test.copy()\n",
    "org_calib = X_calib.copy()"
   ]
  },
  {
   "cell_type": "code",
   "execution_count": 28,
   "id": "1466abac-c6da-4492-a62f-4240ae3783af",
   "metadata": {
    "execution": {
     "iopub.execute_input": "2025-07-30T13:44:27.351969Z",
     "iopub.status.busy": "2025-07-30T13:44:27.351362Z",
     "iopub.status.idle": "2025-07-30T13:44:27.356871Z",
     "shell.execute_reply": "2025-07-30T13:44:27.355979Z"
    },
    "papermill": {
     "duration": 0.027429,
     "end_time": "2025-07-30T13:44:27.358339",
     "exception": false,
     "start_time": "2025-07-30T13:44:27.330910",
     "status": "completed"
    },
    "tags": []
   },
   "outputs": [],
   "source": [
    "# put in other script?\n",
    "# Group sizes\n",
    "\n",
    "#def calculate_percentages(df, df_name):\n",
    "#    total_entries = len(df)\n",
    "#\n",
    "#    female_pct = (df['frau1'] == 1).mean() * 100\n",
    "#    non_german_pct = ((df['maxdeutsch1'] == 0) & (df['maxdeutsch.Missing.'] == 0)).mean() * 100\n",
    "#    non_german_male_pct = ((df['frau1'] == 0) & (df['maxdeutsch1'] == 0) & (df['maxdeutsch.Missing.'] == 0)).mean() * 100\n",
    "#    non_german_female_pct = ((df['frau1'] == 1) & (df['maxdeutsch1'] == 0) & (df['maxdeutsch.Missing.'] == 0)).mean() * 100\n",
    "#\n",
    "#    print(f\"--- {df_name} ---\")\n",
    "#    print(f\"Female: {female_pct:.2f}%\")\n",
    "#    print(f\"Non-German: {non_german_pct:.2f}%\")\n",
    "#    print(f\"Non-German Male: {non_german_male_pct:.2f}%\")\n",
    "#    print(f\"Non-German Female: {non_german_female_pct:.2f}%\\n\")\n",
    "#\n",
    "## Calculate for each DataFrame\n",
    "#calculate_percentages(siab_calib, \"siab_calib\")\n",
    "#calculate_percentages(siab_test, \"siab_test\")\n",
    "#calculate_percentages(siab_train, \"siab_train\")"
   ]
  },
  {
   "cell_type": "markdown",
   "id": "0a4a1b33",
   "metadata": {
    "papermill": {
     "duration": 0.019505,
     "end_time": "2025-07-30T13:44:27.397771",
     "exception": false,
     "start_time": "2025-07-30T13:44:27.378266",
     "status": "completed"
    },
    "tags": []
   },
   "source": [
    "# Preprocessing Data"
   ]
  },
  {
   "cell_type": "code",
   "execution_count": 29,
   "id": "ca879031",
   "metadata": {
    "execution": {
     "iopub.execute_input": "2025-07-30T13:44:27.438931Z",
     "iopub.status.busy": "2025-07-30T13:44:27.438437Z",
     "iopub.status.idle": "2025-07-30T13:44:27.444472Z",
     "shell.execute_reply": "2025-07-30T13:44:27.443520Z"
    },
    "papermill": {
     "duration": 0.028331,
     "end_time": "2025-07-30T13:44:27.445935",
     "exception": false,
     "start_time": "2025-07-30T13:44:27.417604",
     "status": "completed"
    },
    "tags": []
   },
   "outputs": [],
   "source": [
    "# EXCLUDE PROTECTED FEATURES\n",
    "# ----------------------\n",
    "# \"exclude_features\": \"none\", # \"nationality\", \"sex\", \"nationality-sex\"\n",
    "\n",
    "excluded_features = universe[\"exclude_features\"].split(\"-\") # split, e.g.: \"nationality-sex\" -> [\"nationality\", \"sex\"]\n",
    "excluded_features_dictionary = {\n",
    "    \"nationality\": [\"maxdeutsch1\", \"maxdeutsch.Missing.\"],\n",
    "    \"sex\": [\"frau1\"],\n",
    "    \"age\": [\"age\"],\n",
    "}\n"
   ]
  },
  {
   "cell_type": "code",
   "execution_count": 30,
   "id": "b745ac60",
   "metadata": {
    "execution": {
     "iopub.execute_input": "2025-07-30T13:44:27.497415Z",
     "iopub.status.busy": "2025-07-30T13:44:27.496890Z",
     "iopub.status.idle": "2025-07-30T13:44:27.502490Z",
     "shell.execute_reply": "2025-07-30T13:44:27.501605Z"
    },
    "papermill": {
     "duration": 0.037416,
     "end_time": "2025-07-30T13:44:27.504002",
     "exception": false,
     "start_time": "2025-07-30T13:44:27.466586",
     "status": "completed"
    },
    "tags": []
   },
   "outputs": [],
   "source": [
    "# Code nice names to column names\n",
    "\n",
    "excluded_features_columns = [\n",
    "    excluded_features_dictionary[f] for f in excluded_features if len(f) > 0 and f != \"none\"\n",
    "]"
   ]
  },
  {
   "cell_type": "code",
   "execution_count": 31,
   "id": "f84f73a2",
   "metadata": {
    "execution": {
     "iopub.execute_input": "2025-07-30T13:44:27.547915Z",
     "iopub.status.busy": "2025-07-30T13:44:27.547192Z",
     "iopub.status.idle": "2025-07-30T13:44:27.554230Z",
     "shell.execute_reply": "2025-07-30T13:44:27.553374Z"
    },
    "papermill": {
     "duration": 0.030541,
     "end_time": "2025-07-30T13:44:27.555812",
     "exception": false,
     "start_time": "2025-07-30T13:44:27.525271",
     "status": "completed"
    },
    "tags": []
   },
   "outputs": [],
   "source": [
    "from utils import flatten_once\n",
    "\n",
    "excluded_features_columns = flatten_once(excluded_features_columns)"
   ]
  },
  {
   "cell_type": "code",
   "execution_count": 32,
   "id": "884dea22",
   "metadata": {
    "execution": {
     "iopub.execute_input": "2025-07-30T13:44:27.598240Z",
     "iopub.status.busy": "2025-07-30T13:44:27.597466Z",
     "iopub.status.idle": "2025-07-30T13:44:27.606653Z",
     "shell.execute_reply": "2025-07-30T13:44:27.605532Z"
    },
    "papermill": {
     "duration": 0.03154,
     "end_time": "2025-07-30T13:44:27.608198",
     "exception": false,
     "start_time": "2025-07-30T13:44:27.576658",
     "status": "completed"
    },
    "tags": []
   },
   "outputs": [
    {
     "name": "stdout",
     "output_type": "stream",
     "text": [
      "Dropping features: ['frau1']\n"
     ]
    }
   ],
   "source": [
    "if len(excluded_features_columns) > 0:\n",
    "    print(f\"Dropping features: {excluded_features_columns}\")\n",
    "    X_train.drop(excluded_features_columns, axis=1, inplace=True)"
   ]
  },
  {
   "cell_type": "code",
   "execution_count": 33,
   "id": "95ab8b16",
   "metadata": {
    "execution": {
     "iopub.execute_input": "2025-07-30T13:44:27.650497Z",
     "iopub.status.busy": "2025-07-30T13:44:27.649703Z",
     "iopub.status.idle": "2025-07-30T13:44:27.711193Z",
     "shell.execute_reply": "2025-07-30T13:44:27.710188Z"
    },
    "papermill": {
     "duration": 0.083981,
     "end_time": "2025-07-30T13:44:27.712747",
     "exception": false,
     "start_time": "2025-07-30T13:44:27.628766",
     "status": "completed"
    },
    "tags": []
   },
   "outputs": [
    {
     "name": "stdout",
     "output_type": "stream",
     "text": [
      "Dropping features: ['frau1']\n"
     ]
    }
   ],
   "source": [
    "if len(excluded_features_columns) > 0:\n",
    "    print(f\"Dropping features: {excluded_features_columns}\")\n",
    "    X_test.drop(excluded_features_columns, axis=1, inplace=True)"
   ]
  },
  {
   "cell_type": "code",
   "execution_count": 34,
   "id": "1853aaf5-fb9f-46cb-a2b5-8ea4ae2237e4",
   "metadata": {
    "execution": {
     "iopub.execute_input": "2025-07-30T13:44:27.756361Z",
     "iopub.status.busy": "2025-07-30T13:44:27.755666Z",
     "iopub.status.idle": "2025-07-30T13:44:27.809520Z",
     "shell.execute_reply": "2025-07-30T13:44:27.808502Z"
    },
    "papermill": {
     "duration": 0.076734,
     "end_time": "2025-07-30T13:44:27.811189",
     "exception": false,
     "start_time": "2025-07-30T13:44:27.734455",
     "status": "completed"
    },
    "tags": []
   },
   "outputs": [
    {
     "name": "stdout",
     "output_type": "stream",
     "text": [
      "Dropping features: ['frau1']\n"
     ]
    }
   ],
   "source": [
    "if len(excluded_features_columns) > 0:\n",
    "    print(f\"Dropping features: {excluded_features_columns}\")\n",
    "    X_calib.drop(excluded_features_columns, axis=1, inplace=True)"
   ]
  },
  {
   "cell_type": "code",
   "execution_count": 35,
   "id": "6727d079-03e5-481e-9d38-292a90b7a0a8",
   "metadata": {
    "execution": {
     "iopub.execute_input": "2025-07-30T13:44:27.861086Z",
     "iopub.status.busy": "2025-07-30T13:44:27.860407Z",
     "iopub.status.idle": "2025-07-30T13:44:27.865668Z",
     "shell.execute_reply": "2025-07-30T13:44:27.864723Z"
    },
    "papermill": {
     "duration": 0.031243,
     "end_time": "2025-07-30T13:44:27.867554",
     "exception": false,
     "start_time": "2025-07-30T13:44:27.836311",
     "status": "completed"
    },
    "tags": []
   },
   "outputs": [],
   "source": [
    "# SPLIT & STRATIFY DATA\n",
    "# ----------------------"
   ]
  },
  {
   "cell_type": "code",
   "execution_count": 36,
   "id": "76c4dc6d",
   "metadata": {
    "execution": {
     "iopub.execute_input": "2025-07-30T13:44:27.917736Z",
     "iopub.status.busy": "2025-07-30T13:44:27.917249Z",
     "iopub.status.idle": "2025-07-30T13:44:27.922510Z",
     "shell.execute_reply": "2025-07-30T13:44:27.921587Z"
    },
    "papermill": {
     "duration": 0.031036,
     "end_time": "2025-07-30T13:44:27.924231",
     "exception": false,
     "start_time": "2025-07-30T13:44:27.893195",
     "status": "completed"
    },
    "tags": []
   },
   "outputs": [],
   "source": [
    "# EXCLUDE CERTAIN SUBGROUPS\n",
    "# ----------------------\n",
    "\n",
    "mode = universe.get(\"exclude_subgroups\", \"keep-all\") \n",
    "# Fetches the exclude_subgroups setting from the universe dict.\n",
    "# Defaults to \"keep-all\" if the key is missing."
   ]
  },
  {
   "cell_type": "code",
   "execution_count": 37,
   "id": "21994072",
   "metadata": {
    "execution": {
     "iopub.execute_input": "2025-07-30T13:44:27.971354Z",
     "iopub.status.busy": "2025-07-30T13:44:27.970923Z",
     "iopub.status.idle": "2025-07-30T13:44:27.977120Z",
     "shell.execute_reply": "2025-07-30T13:44:27.976269Z"
    },
    "papermill": {
     "duration": 0.032488,
     "end_time": "2025-07-30T13:44:27.978843",
     "exception": false,
     "start_time": "2025-07-30T13:44:27.946355",
     "status": "completed"
    },
    "tags": []
   },
   "outputs": [],
   "source": [
    "if mode == \"keep-all\":\n",
    "    keep_mask = pd.Series(True, index=org_train.index)\n",
    "\n",
    "# org_train contains the original feature columns from features_org (in Simson)\n",
    "# features_org contains unprocessed features, for me X_train at beginning ???\n",
    "# For keep-all, creates a boolean Series (keep_mask) of all True, so no rows are removed.\n",
    "\n",
    "elif mode == \"drop-non-german\":\n",
    "    keep_mask = org_train[\"maxdeutsch1\"] == 1 # ??? what about missing values?\n",
    "\n",
    "else:\n",
    "    raise ValueError(f\"Unsupported mode for exclude_subgroups: {mode}\")\n"
   ]
  },
  {
   "cell_type": "code",
   "execution_count": 38,
   "id": "71651440",
   "metadata": {
    "execution": {
     "iopub.execute_input": "2025-07-30T13:44:28.020119Z",
     "iopub.status.busy": "2025-07-30T13:44:28.019659Z",
     "iopub.status.idle": "2025-07-30T13:44:28.025703Z",
     "shell.execute_reply": "2025-07-30T13:44:28.024791Z"
    },
    "papermill": {
     "duration": 0.031802,
     "end_time": "2025-07-30T13:44:28.027322",
     "exception": false,
     "start_time": "2025-07-30T13:44:27.995520",
     "status": "completed"
    },
    "tags": []
   },
   "outputs": [],
   "source": [
    "n_drop = (~keep_mask).sum() # Calculates how many rows are set to be dropped\n",
    "if n_drop > 0:\n",
    "    pct = n_drop / len(keep_mask) * 100\n",
    "    print(f\"Dropping {n_drop} rows ({pct:.2f}%) where mode='{mode}'\")"
   ]
  },
  {
   "cell_type": "code",
   "execution_count": 39,
   "id": "5fb8eee5",
   "metadata": {
    "execution": {
     "iopub.execute_input": "2025-07-30T13:44:28.075644Z",
     "iopub.status.busy": "2025-07-30T13:44:28.074992Z",
     "iopub.status.idle": "2025-07-30T13:44:28.082723Z",
     "shell.execute_reply": "2025-07-30T13:44:28.081757Z"
    },
    "papermill": {
     "duration": 0.034409,
     "end_time": "2025-07-30T13:44:28.084526",
     "exception": false,
     "start_time": "2025-07-30T13:44:28.050117",
     "status": "completed"
    },
    "tags": []
   },
   "outputs": [],
   "source": [
    "X_train = X_train[keep_mask]"
   ]
  },
  {
   "cell_type": "code",
   "execution_count": 40,
   "id": "b202bb3a",
   "metadata": {
    "execution": {
     "iopub.execute_input": "2025-07-30T13:44:28.131901Z",
     "iopub.status.busy": "2025-07-30T13:44:28.131242Z",
     "iopub.status.idle": "2025-07-30T13:44:28.137253Z",
     "shell.execute_reply": "2025-07-30T13:44:28.136443Z"
    },
    "papermill": {
     "duration": 0.030053,
     "end_time": "2025-07-30T13:44:28.138800",
     "exception": false,
     "start_time": "2025-07-30T13:44:28.108747",
     "status": "completed"
    },
    "tags": []
   },
   "outputs": [],
   "source": [
    "y_train = y_train[keep_mask]"
   ]
  },
  {
   "cell_type": "markdown",
   "id": "493e2ac3",
   "metadata": {
    "papermill": {
     "duration": 0.01676,
     "end_time": "2025-07-30T13:44:28.180659",
     "exception": false,
     "start_time": "2025-07-30T13:44:28.163899",
     "status": "completed"
    },
    "tags": []
   },
   "source": [
    "# Model Training"
   ]
  },
  {
   "cell_type": "code",
   "execution_count": 41,
   "id": "679e1268",
   "metadata": {
    "execution": {
     "iopub.execute_input": "2025-07-30T13:44:28.230507Z",
     "iopub.status.busy": "2025-07-30T13:44:28.230049Z",
     "iopub.status.idle": "2025-07-30T13:44:28.335023Z",
     "shell.execute_reply": "2025-07-30T13:44:28.332397Z"
    },
    "papermill": {
     "duration": 0.13175,
     "end_time": "2025-07-30T13:44:28.336979",
     "exception": false,
     "start_time": "2025-07-30T13:44:28.205229",
     "status": "completed"
    },
    "tags": []
   },
   "outputs": [],
   "source": [
    "from sklearn.linear_model import LogisticRegression\n",
    "from sklearn.ensemble import GradientBoostingClassifier, RandomForestClassifier\n",
    "\n",
    "if (universe[\"model\"] == \"logreg\"):\n",
    "    model = LogisticRegression() #penalty=\"none\") #, solver=\"newton-cg\", max_iter=1) # include random_state=19 ?\n",
    "elif (universe[\"model\"] == \"penalized_logreg\"):\n",
    "    model = LogisticRegression(penalty=\"l2\", C=1.0) #, solver=\"newton-cg\", max_iter=1)\n",
    "elif (universe[\"model\"] == \"rf\"):\n",
    "    model = RandomForestClassifier(n_estimators=100, n_jobs=-1)\n",
    "elif (universe[\"model\"] == \"gbm\"):\n",
    "    model = GradientBoostingClassifier()\n",
    "elif (universe[\"model\"] == \"elasticnet\"):\n",
    "    model = LogisticRegression(penalty = 'elasticnet', solver = 'saga', l1_ratio = 0.5, max_iter=5000) # which solver to use?\n",
    "else:\n",
    "    raise \"Unsupported universe.model\""
   ]
  },
  {
   "cell_type": "code",
   "execution_count": 42,
   "id": "0cc8f744",
   "metadata": {
    "execution": {
     "iopub.execute_input": "2025-07-30T13:44:28.387436Z",
     "iopub.status.busy": "2025-07-30T13:44:28.386862Z",
     "iopub.status.idle": "2025-07-30T13:44:28.393423Z",
     "shell.execute_reply": "2025-07-30T13:44:28.392473Z"
    },
    "papermill": {
     "duration": 0.03322,
     "end_time": "2025-07-30T13:44:28.395199",
     "exception": false,
     "start_time": "2025-07-30T13:44:28.361979",
     "status": "completed"
    },
    "tags": []
   },
   "outputs": [],
   "source": [
    "import numpy as np\n",
    "from sklearn.pipeline import Pipeline\n",
    "from sklearn.preprocessing import StandardScaler\n",
    "\n",
    "model = Pipeline([\n",
    "    #(\"continuous_processor\", continuous_processor),\n",
    "    #(\"categorical_preprocessor\", categorical_preprocessor),\n",
    "    (\"scale\", StandardScaler() if universe[\"scale\"] == \"scale\" else None), \n",
    "    (\"model\", model),\n",
    "])"
   ]
  },
  {
   "cell_type": "code",
   "execution_count": 43,
   "id": "9442c04d",
   "metadata": {
    "execution": {
     "iopub.execute_input": "2025-07-30T13:44:28.444717Z",
     "iopub.status.busy": "2025-07-30T13:44:28.444082Z",
     "iopub.status.idle": "2025-07-30T13:44:33.598061Z",
     "shell.execute_reply": "2025-07-30T13:44:33.597172Z"
    },
    "papermill": {
     "duration": 5.180652,
     "end_time": "2025-07-30T13:44:33.599750",
     "exception": false,
     "start_time": "2025-07-30T13:44:28.419098",
     "status": "completed"
    },
    "tags": []
   },
   "outputs": [
    {
     "data": {
      "text/html": [
       "<style>#sk-container-id-1 {color: black;background-color: white;}#sk-container-id-1 pre{padding: 0;}#sk-container-id-1 div.sk-toggleable {background-color: white;}#sk-container-id-1 label.sk-toggleable__label {cursor: pointer;display: block;width: 100%;margin-bottom: 0;padding: 0.3em;box-sizing: border-box;text-align: center;}#sk-container-id-1 label.sk-toggleable__label-arrow:before {content: \"▸\";float: left;margin-right: 0.25em;color: #696969;}#sk-container-id-1 label.sk-toggleable__label-arrow:hover:before {color: black;}#sk-container-id-1 div.sk-estimator:hover label.sk-toggleable__label-arrow:before {color: black;}#sk-container-id-1 div.sk-toggleable__content {max-height: 0;max-width: 0;overflow: hidden;text-align: left;background-color: #f0f8ff;}#sk-container-id-1 div.sk-toggleable__content pre {margin: 0.2em;color: black;border-radius: 0.25em;background-color: #f0f8ff;}#sk-container-id-1 input.sk-toggleable__control:checked~div.sk-toggleable__content {max-height: 200px;max-width: 100%;overflow: auto;}#sk-container-id-1 input.sk-toggleable__control:checked~label.sk-toggleable__label-arrow:before {content: \"▾\";}#sk-container-id-1 div.sk-estimator input.sk-toggleable__control:checked~label.sk-toggleable__label {background-color: #d4ebff;}#sk-container-id-1 div.sk-label input.sk-toggleable__control:checked~label.sk-toggleable__label {background-color: #d4ebff;}#sk-container-id-1 input.sk-hidden--visually {border: 0;clip: rect(1px 1px 1px 1px);clip: rect(1px, 1px, 1px, 1px);height: 1px;margin: -1px;overflow: hidden;padding: 0;position: absolute;width: 1px;}#sk-container-id-1 div.sk-estimator {font-family: monospace;background-color: #f0f8ff;border: 1px dotted black;border-radius: 0.25em;box-sizing: border-box;margin-bottom: 0.5em;}#sk-container-id-1 div.sk-estimator:hover {background-color: #d4ebff;}#sk-container-id-1 div.sk-parallel-item::after {content: \"\";width: 100%;border-bottom: 1px solid gray;flex-grow: 1;}#sk-container-id-1 div.sk-label:hover label.sk-toggleable__label {background-color: #d4ebff;}#sk-container-id-1 div.sk-serial::before {content: \"\";position: absolute;border-left: 1px solid gray;box-sizing: border-box;top: 0;bottom: 0;left: 50%;z-index: 0;}#sk-container-id-1 div.sk-serial {display: flex;flex-direction: column;align-items: center;background-color: white;padding-right: 0.2em;padding-left: 0.2em;position: relative;}#sk-container-id-1 div.sk-item {position: relative;z-index: 1;}#sk-container-id-1 div.sk-parallel {display: flex;align-items: stretch;justify-content: center;background-color: white;position: relative;}#sk-container-id-1 div.sk-item::before, #sk-container-id-1 div.sk-parallel-item::before {content: \"\";position: absolute;border-left: 1px solid gray;box-sizing: border-box;top: 0;bottom: 0;left: 50%;z-index: -1;}#sk-container-id-1 div.sk-parallel-item {display: flex;flex-direction: column;z-index: 1;position: relative;background-color: white;}#sk-container-id-1 div.sk-parallel-item:first-child::after {align-self: flex-end;width: 50%;}#sk-container-id-1 div.sk-parallel-item:last-child::after {align-self: flex-start;width: 50%;}#sk-container-id-1 div.sk-parallel-item:only-child::after {width: 0;}#sk-container-id-1 div.sk-dashed-wrapped {border: 1px dashed gray;margin: 0 0.4em 0.5em 0.4em;box-sizing: border-box;padding-bottom: 0.4em;background-color: white;}#sk-container-id-1 div.sk-label label {font-family: monospace;font-weight: bold;display: inline-block;line-height: 1.2em;}#sk-container-id-1 div.sk-label-container {text-align: center;}#sk-container-id-1 div.sk-container {/* jupyter's `normalize.less` sets `[hidden] { display: none; }` but bootstrap.min.css set `[hidden] { display: none !important; }` so we also need the `!important` here to be able to override the default hidden behavior on the sphinx rendered scikit-learn.org. See: https://github.com/scikit-learn/scikit-learn/issues/21755 */display: inline-block !important;position: relative;}#sk-container-id-1 div.sk-text-repr-fallback {display: none;}</style><div id=\"sk-container-id-1\" class=\"sk-top-container\"><div class=\"sk-text-repr-fallback\"><pre>Pipeline(steps=[(&#x27;scale&#x27;, StandardScaler()),\n",
       "                (&#x27;model&#x27;, GradientBoostingClassifier())])</pre><b>In a Jupyter environment, please rerun this cell to show the HTML representation or trust the notebook. <br />On GitHub, the HTML representation is unable to render, please try loading this page with nbviewer.org.</b></div><div class=\"sk-container\" hidden><div class=\"sk-item sk-dashed-wrapped\"><div class=\"sk-label-container\"><div class=\"sk-label sk-toggleable\"><input class=\"sk-toggleable__control sk-hidden--visually\" id=\"sk-estimator-id-1\" type=\"checkbox\" ><label for=\"sk-estimator-id-1\" class=\"sk-toggleable__label sk-toggleable__label-arrow\">Pipeline</label><div class=\"sk-toggleable__content\"><pre>Pipeline(steps=[(&#x27;scale&#x27;, StandardScaler()),\n",
       "                (&#x27;model&#x27;, GradientBoostingClassifier())])</pre></div></div></div><div class=\"sk-serial\"><div class=\"sk-item\"><div class=\"sk-estimator sk-toggleable\"><input class=\"sk-toggleable__control sk-hidden--visually\" id=\"sk-estimator-id-2\" type=\"checkbox\" ><label for=\"sk-estimator-id-2\" class=\"sk-toggleable__label sk-toggleable__label-arrow\">StandardScaler</label><div class=\"sk-toggleable__content\"><pre>StandardScaler()</pre></div></div></div><div class=\"sk-item\"><div class=\"sk-estimator sk-toggleable\"><input class=\"sk-toggleable__control sk-hidden--visually\" id=\"sk-estimator-id-3\" type=\"checkbox\" ><label for=\"sk-estimator-id-3\" class=\"sk-toggleable__label sk-toggleable__label-arrow\">GradientBoostingClassifier</label><div class=\"sk-toggleable__content\"><pre>GradientBoostingClassifier()</pre></div></div></div></div></div></div></div>"
      ],
      "text/plain": [
       "Pipeline(steps=[('scale', StandardScaler()),\n",
       "                ('model', GradientBoostingClassifier())])"
      ]
     },
     "execution_count": 43,
     "metadata": {},
     "output_type": "execute_result"
    }
   ],
   "source": [
    "model.fit(X_train, y_train.values.ravel())"
   ]
  },
  {
   "cell_type": "code",
   "execution_count": 44,
   "id": "af59f8c0",
   "metadata": {
    "execution": {
     "iopub.execute_input": "2025-07-30T13:44:33.659003Z",
     "iopub.status.busy": "2025-07-30T13:44:33.658147Z",
     "iopub.status.idle": "2025-07-30T13:44:33.664018Z",
     "shell.execute_reply": "2025-07-30T13:44:33.663102Z"
    },
    "papermill": {
     "duration": 0.041942,
     "end_time": "2025-07-30T13:44:33.665690",
     "exception": false,
     "start_time": "2025-07-30T13:44:33.623748",
     "status": "completed"
    },
    "tags": []
   },
   "outputs": [],
   "source": [
    "from fairness_multiverse.universe import predict_w_threshold"
   ]
  },
  {
   "cell_type": "code",
   "execution_count": 45,
   "id": "a7cf2e16",
   "metadata": {
    "execution": {
     "iopub.execute_input": "2025-07-30T13:44:33.712755Z",
     "iopub.status.busy": "2025-07-30T13:44:33.712300Z",
     "iopub.status.idle": "2025-07-30T13:44:34.385045Z",
     "shell.execute_reply": "2025-07-30T13:44:34.384077Z"
    },
    "papermill": {
     "duration": 0.697996,
     "end_time": "2025-07-30T13:44:34.386970",
     "exception": false,
     "start_time": "2025-07-30T13:44:33.688974",
     "status": "completed"
    },
    "tags": []
   },
   "outputs": [
    {
     "data": {
      "text/plain": [
       "0.8661018838479545"
      ]
     },
     "execution_count": 45,
     "metadata": {},
     "output_type": "execute_result"
    }
   ],
   "source": [
    "probs_test = model.predict_proba(X_test)\n",
    "\n",
    "'''\n",
    "Below code returns a boolean array (or binary 0/1 array depending on how it’s used) where each element \n",
    "is True if the probability of class 1 is greater than or equal to the threshold, and False otherwise.\n",
    "'''\n",
    "y_pred_default = predict_w_threshold(probs_test, 0.5)\n",
    "\n",
    "from sklearn.metrics import accuracy_score\n",
    "\n",
    "# Naive prediction\n",
    "accuracy_score(y_true = y_true, y_pred = y_pred_default)"
   ]
  },
  {
   "cell_type": "code",
   "execution_count": 46,
   "id": "081964c3",
   "metadata": {
    "execution": {
     "iopub.execute_input": "2025-07-30T13:44:34.448596Z",
     "iopub.status.busy": "2025-07-30T13:44:34.447932Z",
     "iopub.status.idle": "2025-07-30T13:44:35.095713Z",
     "shell.execute_reply": "2025-07-30T13:44:35.094857Z"
    },
    "papermill": {
     "duration": 0.6779,
     "end_time": "2025-07-30T13:44:35.097311",
     "exception": false,
     "start_time": "2025-07-30T13:44:34.419411",
     "status": "completed"
    },
    "tags": []
   },
   "outputs": [
    {
     "data": {
      "text/plain": [
       "array([0, 0, 0, ..., 0, 0, 0])"
      ]
     },
     "execution_count": 46,
     "metadata": {},
     "output_type": "execute_result"
    }
   ],
   "source": [
    "model.predict(X_test)"
   ]
  },
  {
   "cell_type": "markdown",
   "id": "56c9705b",
   "metadata": {
    "papermill": {
     "duration": 0.024826,
     "end_time": "2025-07-30T13:44:35.145093",
     "exception": false,
     "start_time": "2025-07-30T13:44:35.120267",
     "status": "completed"
    },
    "tags": []
   },
   "source": [
    "# Conformal Prediction"
   ]
  },
  {
   "cell_type": "code",
   "execution_count": 47,
   "id": "160ec6ff",
   "metadata": {
    "execution": {
     "iopub.execute_input": "2025-07-30T13:44:35.191998Z",
     "iopub.status.busy": "2025-07-30T13:44:35.191360Z",
     "iopub.status.idle": "2025-07-30T13:44:35.196397Z",
     "shell.execute_reply": "2025-07-30T13:44:35.195426Z"
    },
    "papermill": {
     "duration": 0.029738,
     "end_time": "2025-07-30T13:44:35.198056",
     "exception": false,
     "start_time": "2025-07-30T13:44:35.168318",
     "status": "completed"
    },
    "tags": []
   },
   "outputs": [],
   "source": [
    "# Miscoverage level for conformal prediction (10% allowed error rate => 90% target coverage)\n",
    "alpha = 0.1"
   ]
  },
  {
   "cell_type": "code",
   "execution_count": 48,
   "id": "eadf4555-3dd3-440e-8e35-f82a4ad9f855",
   "metadata": {
    "execution": {
     "iopub.execute_input": "2025-07-30T13:44:35.244409Z",
     "iopub.status.busy": "2025-07-30T13:44:35.243458Z",
     "iopub.status.idle": "2025-07-30T13:44:35.864530Z",
     "shell.execute_reply": "2025-07-30T13:44:35.863657Z"
    },
    "papermill": {
     "duration": 0.645823,
     "end_time": "2025-07-30T13:44:35.866515",
     "exception": false,
     "start_time": "2025-07-30T13:44:35.220692",
     "status": "completed"
    },
    "tags": []
   },
   "outputs": [],
   "source": [
    "probs_calib = model.predict_proba(X_calib)"
   ]
  },
  {
   "cell_type": "code",
   "execution_count": 49,
   "id": "2ed93547-6d5d-4983-9b36-1ecb300da49a",
   "metadata": {
    "execution": {
     "iopub.execute_input": "2025-07-30T13:44:35.916462Z",
     "iopub.status.busy": "2025-07-30T13:44:35.916011Z",
     "iopub.status.idle": "2025-07-30T13:44:35.921558Z",
     "shell.execute_reply": "2025-07-30T13:44:35.920815Z"
    },
    "papermill": {
     "duration": 0.030627,
     "end_time": "2025-07-30T13:44:35.922964",
     "exception": false,
     "start_time": "2025-07-30T13:44:35.892337",
     "status": "completed"
    },
    "tags": []
   },
   "outputs": [],
   "source": [
    "y_calib = y_calib.values.ravel().astype(int)"
   ]
  },
  {
   "cell_type": "code",
   "execution_count": 50,
   "id": "65d1320d-f588-4b38-9072-62af1ae97f7d",
   "metadata": {
    "execution": {
     "iopub.execute_input": "2025-07-30T13:44:35.969589Z",
     "iopub.status.busy": "2025-07-30T13:44:35.968673Z",
     "iopub.status.idle": "2025-07-30T13:44:35.976328Z",
     "shell.execute_reply": "2025-07-30T13:44:35.975476Z"
    },
    "papermill": {
     "duration": 0.032671,
     "end_time": "2025-07-30T13:44:35.978047",
     "exception": false,
     "start_time": "2025-07-30T13:44:35.945376",
     "status": "completed"
    },
    "tags": []
   },
   "outputs": [],
   "source": [
    "from fairness_multiverse.conformal import compute_nc_scores\n",
    "\n",
    "# Compute nonconformity scores on calibration set (1 - probability of true class)\n",
    "nc_scores = compute_nc_scores(probs_calib, y_calib)"
   ]
  },
  {
   "cell_type": "code",
   "execution_count": 51,
   "id": "df3b8ca3-53b7-43d5-9667-7c85da7aeda2",
   "metadata": {
    "execution": {
     "iopub.execute_input": "2025-07-30T13:44:36.025986Z",
     "iopub.status.busy": "2025-07-30T13:44:36.025155Z",
     "iopub.status.idle": "2025-07-30T13:44:36.031841Z",
     "shell.execute_reply": "2025-07-30T13:44:36.030990Z"
    },
    "papermill": {
     "duration": 0.031763,
     "end_time": "2025-07-30T13:44:36.033276",
     "exception": false,
     "start_time": "2025-07-30T13:44:36.001513",
     "status": "completed"
    },
    "tags": []
   },
   "outputs": [],
   "source": [
    "from fairness_multiverse.conformal import find_threshold\n",
    "\n",
    "# Find conformal threshold q_hat for the given alpha (split conformal method)\n",
    "q_hat = find_threshold(nc_scores, alpha)"
   ]
  },
  {
   "cell_type": "code",
   "execution_count": 52,
   "id": "4d29e6c1-0ef6-4aa4-b8fe-4fe79b0d033a",
   "metadata": {
    "execution": {
     "iopub.execute_input": "2025-07-30T13:44:36.086773Z",
     "iopub.status.busy": "2025-07-30T13:44:36.086156Z",
     "iopub.status.idle": "2025-07-30T13:44:36.093682Z",
     "shell.execute_reply": "2025-07-30T13:44:36.092731Z"
    },
    "papermill": {
     "duration": 0.03711,
     "end_time": "2025-07-30T13:44:36.095210",
     "exception": false,
     "start_time": "2025-07-30T13:44:36.058100",
     "status": "completed"
    },
    "tags": []
   },
   "outputs": [
    {
     "data": {
      "text/plain": [
       "0.7210493504406232"
      ]
     },
     "execution_count": 52,
     "metadata": {},
     "output_type": "execute_result"
    }
   ],
   "source": [
    "q_hat"
   ]
  },
  {
   "cell_type": "code",
   "execution_count": 53,
   "id": "92460794-cdac-4be2-ba28-f28c0515a6fb",
   "metadata": {
    "execution": {
     "iopub.execute_input": "2025-07-30T13:44:36.162201Z",
     "iopub.status.busy": "2025-07-30T13:44:36.161456Z",
     "iopub.status.idle": "2025-07-30T13:44:37.558604Z",
     "shell.execute_reply": "2025-07-30T13:44:37.557642Z"
    },
    "papermill": {
     "duration": 1.433264,
     "end_time": "2025-07-30T13:44:37.560447",
     "exception": false,
     "start_time": "2025-07-30T13:44:36.127183",
     "status": "completed"
    },
    "tags": []
   },
   "outputs": [],
   "source": [
    "from fairness_multiverse.conformal import predict_conformal_sets\n",
    "\n",
    "# Generate prediction sets for each test example\n",
    "pred_sets = predict_conformal_sets(model, X_test, q_hat)"
   ]
  },
  {
   "cell_type": "code",
   "execution_count": 54,
   "id": "d90c9a65-e6db-4f5d-80cd-e68fb7e46829",
   "metadata": {
    "execution": {
     "iopub.execute_input": "2025-07-30T13:44:37.611209Z",
     "iopub.status.busy": "2025-07-30T13:44:37.610561Z",
     "iopub.status.idle": "2025-07-30T13:44:37.615941Z",
     "shell.execute_reply": "2025-07-30T13:44:37.615067Z"
    },
    "papermill": {
     "duration": 0.032285,
     "end_time": "2025-07-30T13:44:37.617785",
     "exception": false,
     "start_time": "2025-07-30T13:44:37.585500",
     "status": "completed"
    },
    "tags": []
   },
   "outputs": [],
   "source": [
    "y_true = y_true.squeeze()"
   ]
  },
  {
   "cell_type": "code",
   "execution_count": 55,
   "id": "3a58a54a-1e68-46b9-927a-df01f18aebc8",
   "metadata": {
    "execution": {
     "iopub.execute_input": "2025-07-30T13:44:37.667461Z",
     "iopub.status.busy": "2025-07-30T13:44:37.667025Z",
     "iopub.status.idle": "2025-07-30T13:44:38.342077Z",
     "shell.execute_reply": "2025-07-30T13:44:38.341333Z"
    },
    "papermill": {
     "duration": 0.701492,
     "end_time": "2025-07-30T13:44:38.343951",
     "exception": false,
     "start_time": "2025-07-30T13:44:37.642459",
     "status": "completed"
    },
    "tags": []
   },
   "outputs": [],
   "source": [
    "from fairness_multiverse.conformal import evaluate_sets\n",
    "\n",
    "# Evaluate coverage and average set size on test data\n",
    "metrics = evaluate_sets(pred_sets, y_true)"
   ]
  },
  {
   "cell_type": "markdown",
   "id": "2b569c12-9aaa-4c88-98c9-bbcd0cf3ebb8",
   "metadata": {
    "papermill": {
     "duration": 0.02336,
     "end_time": "2025-07-30T13:44:38.392787",
     "exception": false,
     "start_time": "2025-07-30T13:44:38.369427",
     "status": "completed"
    },
    "tags": []
   },
   "source": [
    "# CP Metrics"
   ]
  },
  {
   "cell_type": "code",
   "execution_count": 56,
   "id": "5ce0a5cb-201f-45a0-ade5-94c7f0bd6095",
   "metadata": {
    "execution": {
     "iopub.execute_input": "2025-07-30T13:44:38.442273Z",
     "iopub.status.busy": "2025-07-30T13:44:38.441824Z",
     "iopub.status.idle": "2025-07-30T13:44:38.448444Z",
     "shell.execute_reply": "2025-07-30T13:44:38.447546Z"
    },
    "papermill": {
     "duration": 0.033131,
     "end_time": "2025-07-30T13:44:38.450051",
     "exception": false,
     "start_time": "2025-07-30T13:44:38.416920",
     "status": "completed"
    },
    "tags": []
   },
   "outputs": [
    {
     "data": {
      "text/plain": [
       "{'coverage': 0.9123397614535727, 'avg_size': 1.1334633820086948}"
      ]
     },
     "execution_count": 56,
     "metadata": {},
     "output_type": "execute_result"
    }
   ],
   "source": [
    "metrics"
   ]
  },
  {
   "cell_type": "code",
   "execution_count": 57,
   "id": "9b9a838d-31c9-430b-ae14-12baee460d17",
   "metadata": {
    "execution": {
     "iopub.execute_input": "2025-07-30T13:44:38.498696Z",
     "iopub.status.busy": "2025-07-30T13:44:38.498239Z",
     "iopub.status.idle": "2025-07-30T13:44:38.504161Z",
     "shell.execute_reply": "2025-07-30T13:44:38.503342Z"
    },
    "papermill": {
     "duration": 0.031581,
     "end_time": "2025-07-30T13:44:38.505560",
     "exception": false,
     "start_time": "2025-07-30T13:44:38.473979",
     "status": "completed"
    },
    "tags": []
   },
   "outputs": [],
   "source": [
    "example_universe = universe.copy()\n",
    "universe_training_size = example_universe.get(\"training_size\")\n",
    "universe_scale = example_universe.get(\"scale\")\n",
    "universe_model = example_universe.get(\"model\")\n",
    "universe_exclude_features = example_universe.get(\"exclude_features\")\n",
    "universe_exclude_subgroups = example_universe.get(\"exclude_subgroups\")"
   ]
  },
  {
   "cell_type": "code",
   "execution_count": 58,
   "id": "f4b6a8ac-9dc0-4245-8a91-5b3b5999c4f9",
   "metadata": {
    "execution": {
     "iopub.execute_input": "2025-07-30T13:44:38.553690Z",
     "iopub.status.busy": "2025-07-30T13:44:38.553194Z",
     "iopub.status.idle": "2025-07-30T13:44:38.559224Z",
     "shell.execute_reply": "2025-07-30T13:44:38.558366Z"
    },
    "papermill": {
     "duration": 0.031937,
     "end_time": "2025-07-30T13:44:38.560744",
     "exception": false,
     "start_time": "2025-07-30T13:44:38.528807",
     "status": "completed"
    },
    "tags": []
   },
   "outputs": [],
   "source": [
    "cp_metrics_dict = {\n",
    "    \"universe_id\": [universe_id],\n",
    "    \"universe_training_size\": [universe_training_size],\n",
    "    \"universe_scale\": [universe_scale],\n",
    "    \"universe_model\": [universe_model],\n",
    "    \"universe_exclude_features\": [universe_exclude_features],\n",
    "    \"universe_exclude_subgroups\": [universe_exclude_subgroups],\n",
    "    \"q_hat\": [q_hat],\n",
    "    \"coverage\": [metrics[\"coverage\"]],\n",
    "    \"avg_size\": [metrics[\"avg_size\"]],\n",
    "}"
   ]
  },
  {
   "cell_type": "code",
   "execution_count": 59,
   "id": "908acbb1-0371-4915-85ca-3fa520d2efe2",
   "metadata": {
    "execution": {
     "iopub.execute_input": "2025-07-30T13:44:38.651771Z",
     "iopub.status.busy": "2025-07-30T13:44:38.651279Z",
     "iopub.status.idle": "2025-07-30T13:44:38.658745Z",
     "shell.execute_reply": "2025-07-30T13:44:38.657878Z"
    },
    "papermill": {
     "duration": 0.034225,
     "end_time": "2025-07-30T13:44:38.660326",
     "exception": false,
     "start_time": "2025-07-30T13:44:38.626101",
     "status": "completed"
    },
    "tags": []
   },
   "outputs": [
    {
     "data": {
      "text/plain": [
       "{'universe_id': ['3c9743cf38e93c1900e102acc50d0ebf'],\n",
       " 'universe_training_size': ['5k'],\n",
       " 'universe_scale': ['scale'],\n",
       " 'universe_model': ['gbm'],\n",
       " 'universe_exclude_features': ['sex'],\n",
       " 'universe_exclude_subgroups': ['keep-all'],\n",
       " 'q_hat': [0.7210493504406232],\n",
       " 'coverage': [0.9123397614535727],\n",
       " 'avg_size': [1.1334633820086948]}"
      ]
     },
     "execution_count": 59,
     "metadata": {},
     "output_type": "execute_result"
    }
   ],
   "source": [
    "cp_metrics_dict"
   ]
  },
  {
   "cell_type": "code",
   "execution_count": 60,
   "id": "33007efc-14e9-4ec6-97ac-56a455c82265",
   "metadata": {
    "execution": {
     "iopub.execute_input": "2025-07-30T13:44:38.710958Z",
     "iopub.status.busy": "2025-07-30T13:44:38.710322Z",
     "iopub.status.idle": "2025-07-30T13:44:38.716883Z",
     "shell.execute_reply": "2025-07-30T13:44:38.715951Z"
    },
    "papermill": {
     "duration": 0.033586,
     "end_time": "2025-07-30T13:44:38.718421",
     "exception": false,
     "start_time": "2025-07-30T13:44:38.684835",
     "status": "completed"
    },
    "tags": []
   },
   "outputs": [],
   "source": [
    "cp_metrics_df = pd.DataFrame(cp_metrics_dict)"
   ]
  },
  {
   "cell_type": "code",
   "execution_count": 61,
   "id": "db12611b-57b2-4910-b9d0-355adfd6e7bf",
   "metadata": {
    "execution": {
     "iopub.execute_input": "2025-07-30T13:44:38.768168Z",
     "iopub.status.busy": "2025-07-30T13:44:38.767692Z",
     "iopub.status.idle": "2025-07-30T13:44:38.784302Z",
     "shell.execute_reply": "2025-07-30T13:44:38.783500Z"
    },
    "papermill": {
     "duration": 0.042642,
     "end_time": "2025-07-30T13:44:38.785760",
     "exception": false,
     "start_time": "2025-07-30T13:44:38.743118",
     "status": "completed"
    },
    "tags": []
   },
   "outputs": [
    {
     "data": {
      "text/html": [
       "<div>\n",
       "<style scoped>\n",
       "    .dataframe tbody tr th:only-of-type {\n",
       "        vertical-align: middle;\n",
       "    }\n",
       "\n",
       "    .dataframe tbody tr th {\n",
       "        vertical-align: top;\n",
       "    }\n",
       "\n",
       "    .dataframe thead th {\n",
       "        text-align: right;\n",
       "    }\n",
       "</style>\n",
       "<table border=\"1\" class=\"dataframe\">\n",
       "  <thead>\n",
       "    <tr style=\"text-align: right;\">\n",
       "      <th></th>\n",
       "      <th>universe_id</th>\n",
       "      <th>universe_training_size</th>\n",
       "      <th>universe_scale</th>\n",
       "      <th>universe_model</th>\n",
       "      <th>universe_exclude_features</th>\n",
       "      <th>universe_exclude_subgroups</th>\n",
       "      <th>q_hat</th>\n",
       "      <th>coverage</th>\n",
       "      <th>avg_size</th>\n",
       "    </tr>\n",
       "  </thead>\n",
       "  <tbody>\n",
       "    <tr>\n",
       "      <th>0</th>\n",
       "      <td>3c9743cf38e93c1900e102acc50d0ebf</td>\n",
       "      <td>5k</td>\n",
       "      <td>scale</td>\n",
       "      <td>gbm</td>\n",
       "      <td>sex</td>\n",
       "      <td>keep-all</td>\n",
       "      <td>0.721049</td>\n",
       "      <td>0.91234</td>\n",
       "      <td>1.133463</td>\n",
       "    </tr>\n",
       "  </tbody>\n",
       "</table>\n",
       "</div>"
      ],
      "text/plain": [
       "                        universe_id universe_training_size universe_scale  \\\n",
       "0  3c9743cf38e93c1900e102acc50d0ebf                     5k          scale   \n",
       "\n",
       "  universe_model universe_exclude_features universe_exclude_subgroups  \\\n",
       "0            gbm                       sex                   keep-all   \n",
       "\n",
       "      q_hat  coverage  avg_size  \n",
       "0  0.721049   0.91234  1.133463  "
      ]
     },
     "execution_count": 61,
     "metadata": {},
     "output_type": "execute_result"
    }
   ],
   "source": [
    "cp_metrics_df"
   ]
  },
  {
   "cell_type": "code",
   "execution_count": 62,
   "id": "b7fbde55-a0a1-47e4-9af6-fe4a17fa8c61",
   "metadata": {
    "execution": {
     "iopub.execute_input": "2025-07-30T13:44:38.834765Z",
     "iopub.status.busy": "2025-07-30T13:44:38.833996Z",
     "iopub.status.idle": "2025-07-30T13:44:38.838773Z",
     "shell.execute_reply": "2025-07-30T13:44:38.837917Z"
    },
    "papermill": {
     "duration": 0.030599,
     "end_time": "2025-07-30T13:44:38.840311",
     "exception": false,
     "start_time": "2025-07-30T13:44:38.809712",
     "status": "completed"
    },
    "tags": []
   },
   "outputs": [],
   "source": [
    "# Conditional Coverage & looking at subgroups"
   ]
  },
  {
   "cell_type": "code",
   "execution_count": 63,
   "id": "027ae886-68dd-4141-96c7-805a5450e1ef",
   "metadata": {
    "execution": {
     "iopub.execute_input": "2025-07-30T13:44:38.889061Z",
     "iopub.status.busy": "2025-07-30T13:44:38.888408Z",
     "iopub.status.idle": "2025-07-30T13:44:39.162270Z",
     "shell.execute_reply": "2025-07-30T13:44:39.161413Z"
    },
    "papermill": {
     "duration": 0.300255,
     "end_time": "2025-07-30T13:44:39.164359",
     "exception": false,
     "start_time": "2025-07-30T13:44:38.864104",
     "status": "completed"
    },
    "tags": []
   },
   "outputs": [],
   "source": [
    "from fairness_multiverse.conformal import build_cp_groups\n",
    "\n",
    "cp_groups_df = build_cp_groups(pred_sets, y_true, X_test.index, org_test)\n",
    "#needs universe_id and setting"
   ]
  },
  {
   "cell_type": "code",
   "execution_count": 64,
   "id": "01d5802c-663a-4d1f-9d69-e036faaffbf7",
   "metadata": {
    "execution": {
     "iopub.execute_input": "2025-07-30T13:44:39.218347Z",
     "iopub.status.busy": "2025-07-30T13:44:39.217954Z",
     "iopub.status.idle": "2025-07-30T13:44:39.222908Z",
     "shell.execute_reply": "2025-07-30T13:44:39.222046Z"
    },
    "papermill": {
     "duration": 0.033609,
     "end_time": "2025-07-30T13:44:39.224507",
     "exception": false,
     "start_time": "2025-07-30T13:44:39.190898",
     "status": "completed"
    },
    "tags": []
   },
   "outputs": [],
   "source": [
    "#delete\n",
    "#cp_groups_df"
   ]
  },
  {
   "cell_type": "code",
   "execution_count": 65,
   "id": "fa424af1-d1eb-443d-b717-2d279ada8408",
   "metadata": {
    "execution": {
     "iopub.execute_input": "2025-07-30T13:44:39.277649Z",
     "iopub.status.busy": "2025-07-30T13:44:39.276766Z",
     "iopub.status.idle": "2025-07-30T13:44:39.282138Z",
     "shell.execute_reply": "2025-07-30T13:44:39.281212Z"
    },
    "papermill": {
     "duration": 0.03352,
     "end_time": "2025-07-30T13:44:39.283572",
     "exception": false,
     "start_time": "2025-07-30T13:44:39.250052",
     "status": "completed"
    },
    "tags": []
   },
   "outputs": [],
   "source": [
    "#delete\n",
    "#percentage = (cp_groups_df['nongerman_female'] == 1).mean() * 100\n",
    "#print(percentage)\n"
   ]
  },
  {
   "cell_type": "code",
   "execution_count": 66,
   "id": "6cbdab96-b2b2-45af-ad54-d0516db2e28d",
   "metadata": {
    "execution": {
     "iopub.execute_input": "2025-07-30T13:44:39.335864Z",
     "iopub.status.busy": "2025-07-30T13:44:39.335261Z",
     "iopub.status.idle": "2025-07-30T13:44:40.905208Z",
     "shell.execute_reply": "2025-07-30T13:44:40.904316Z"
    },
    "papermill": {
     "duration": 1.598518,
     "end_time": "2025-07-30T13:44:40.907106",
     "exception": false,
     "start_time": "2025-07-30T13:44:39.308588",
     "status": "completed"
    },
    "tags": []
   },
   "outputs": [],
   "source": [
    "# Define covered = 1 if true_label is in the predicted set\n",
    "cp_groups_df['covered'] = cp_groups_df.apply(\n",
    "    lambda r: int(r['true_label'] in r['pred_set']),\n",
    "    axis=1\n",
    ")"
   ]
  },
  {
   "cell_type": "code",
   "execution_count": 67,
   "id": "338ff529-1a6b-4b87-a931-8e4788d52aad",
   "metadata": {
    "execution": {
     "iopub.execute_input": "2025-07-30T13:44:40.960682Z",
     "iopub.status.busy": "2025-07-30T13:44:40.959748Z",
     "iopub.status.idle": "2025-07-30T13:44:40.965683Z",
     "shell.execute_reply": "2025-07-30T13:44:40.964780Z"
    },
    "papermill": {
     "duration": 0.032867,
     "end_time": "2025-07-30T13:44:40.967206",
     "exception": false,
     "start_time": "2025-07-30T13:44:40.934339",
     "status": "completed"
    },
    "tags": []
   },
   "outputs": [],
   "source": [
    "#cp_groups_df"
   ]
  },
  {
   "cell_type": "code",
   "execution_count": 68,
   "id": "90032e27-66df-4540-9169-4e89cfbaa758",
   "metadata": {
    "execution": {
     "iopub.execute_input": "2025-07-30T13:44:41.022576Z",
     "iopub.status.busy": "2025-07-30T13:44:41.021923Z",
     "iopub.status.idle": "2025-07-30T13:44:41.033904Z",
     "shell.execute_reply": "2025-07-30T13:44:41.033009Z"
    },
    "papermill": {
     "duration": 0.041723,
     "end_time": "2025-07-30T13:44:41.035556",
     "exception": false,
     "start_time": "2025-07-30T13:44:40.993833",
     "status": "completed"
    },
    "tags": []
   },
   "outputs": [],
   "source": [
    "subgroups = ['frau1','nongerman','nongerman_male','nongerman_female']\n",
    "\n",
    "# Conditional coverage for subgroup==1\n",
    "cond_coverage = {\n",
    "    g: cp_groups_df.loc[cp_groups_df[g]==1, 'covered'].mean()\n",
    "    for g in subgroups\n",
    "}"
   ]
  },
  {
   "cell_type": "code",
   "execution_count": 69,
   "id": "1e348fb1-b9c3-45bc-ba23-f016827a7e0d",
   "metadata": {
    "execution": {
     "iopub.execute_input": "2025-07-30T13:44:41.088531Z",
     "iopub.status.busy": "2025-07-30T13:44:41.087967Z",
     "iopub.status.idle": "2025-07-30T13:44:41.095976Z",
     "shell.execute_reply": "2025-07-30T13:44:41.095004Z"
    },
    "papermill": {
     "duration": 0.036991,
     "end_time": "2025-07-30T13:44:41.097717",
     "exception": false,
     "start_time": "2025-07-30T13:44:41.060726",
     "status": "completed"
    },
    "tags": []
   },
   "outputs": [
    {
     "data": {
      "text/plain": [
       "{'frau1': 0.9092330502763175,\n",
       " 'nongerman': 0.9113007354179532,\n",
       " 'nongerman_male': 0.927136809871206,\n",
       " 'nongerman_female': 0.885096870342772}"
      ]
     },
     "execution_count": 69,
     "metadata": {},
     "output_type": "execute_result"
    }
   ],
   "source": [
    "cond_coverage"
   ]
  },
  {
   "cell_type": "code",
   "execution_count": 70,
   "id": "f5093324-c3dd-4d63-bc4c-8d945e5c8bbb",
   "metadata": {
    "execution": {
     "iopub.execute_input": "2025-07-30T13:44:41.156929Z",
     "iopub.status.busy": "2025-07-30T13:44:41.156249Z",
     "iopub.status.idle": "2025-07-30T13:44:41.163753Z",
     "shell.execute_reply": "2025-07-30T13:44:41.163001Z"
    },
    "papermill": {
     "duration": 0.038827,
     "end_time": "2025-07-30T13:44:41.165389",
     "exception": false,
     "start_time": "2025-07-30T13:44:41.126562",
     "status": "completed"
    },
    "tags": []
   },
   "outputs": [],
   "source": [
    "for subgroup, cov in cond_coverage.items():\n",
    "    cp_metrics_df[f\"cov_{subgroup}\"] = cov"
   ]
  },
  {
   "cell_type": "code",
   "execution_count": 71,
   "id": "6e872e10-dbe5-49e8-b554-5030c98ff75d",
   "metadata": {
    "execution": {
     "iopub.execute_input": "2025-07-30T13:44:41.218754Z",
     "iopub.status.busy": "2025-07-30T13:44:41.218092Z",
     "iopub.status.idle": "2025-07-30T13:44:41.237667Z",
     "shell.execute_reply": "2025-07-30T13:44:41.236614Z"
    },
    "papermill": {
     "duration": 0.047782,
     "end_time": "2025-07-30T13:44:41.239411",
     "exception": false,
     "start_time": "2025-07-30T13:44:41.191629",
     "status": "completed"
    },
    "tags": []
   },
   "outputs": [
    {
     "data": {
      "text/html": [
       "<div>\n",
       "<style scoped>\n",
       "    .dataframe tbody tr th:only-of-type {\n",
       "        vertical-align: middle;\n",
       "    }\n",
       "\n",
       "    .dataframe tbody tr th {\n",
       "        vertical-align: top;\n",
       "    }\n",
       "\n",
       "    .dataframe thead th {\n",
       "        text-align: right;\n",
       "    }\n",
       "</style>\n",
       "<table border=\"1\" class=\"dataframe\">\n",
       "  <thead>\n",
       "    <tr style=\"text-align: right;\">\n",
       "      <th></th>\n",
       "      <th>universe_id</th>\n",
       "      <th>universe_training_size</th>\n",
       "      <th>universe_scale</th>\n",
       "      <th>universe_model</th>\n",
       "      <th>universe_exclude_features</th>\n",
       "      <th>universe_exclude_subgroups</th>\n",
       "      <th>q_hat</th>\n",
       "      <th>coverage</th>\n",
       "      <th>avg_size</th>\n",
       "      <th>cov_frau1</th>\n",
       "      <th>cov_nongerman</th>\n",
       "      <th>cov_nongerman_male</th>\n",
       "      <th>cov_nongerman_female</th>\n",
       "    </tr>\n",
       "  </thead>\n",
       "  <tbody>\n",
       "    <tr>\n",
       "      <th>0</th>\n",
       "      <td>3c9743cf38e93c1900e102acc50d0ebf</td>\n",
       "      <td>5k</td>\n",
       "      <td>scale</td>\n",
       "      <td>gbm</td>\n",
       "      <td>sex</td>\n",
       "      <td>keep-all</td>\n",
       "      <td>0.721049</td>\n",
       "      <td>0.91234</td>\n",
       "      <td>1.133463</td>\n",
       "      <td>0.909233</td>\n",
       "      <td>0.911301</td>\n",
       "      <td>0.927137</td>\n",
       "      <td>0.885097</td>\n",
       "    </tr>\n",
       "  </tbody>\n",
       "</table>\n",
       "</div>"
      ],
      "text/plain": [
       "                        universe_id universe_training_size universe_scale  \\\n",
       "0  3c9743cf38e93c1900e102acc50d0ebf                     5k          scale   \n",
       "\n",
       "  universe_model universe_exclude_features universe_exclude_subgroups  \\\n",
       "0            gbm                       sex                   keep-all   \n",
       "\n",
       "      q_hat  coverage  avg_size  cov_frau1  cov_nongerman  cov_nongerman_male  \\\n",
       "0  0.721049   0.91234  1.133463   0.909233       0.911301            0.927137   \n",
       "\n",
       "   cov_nongerman_female  \n",
       "0              0.885097  "
      ]
     },
     "execution_count": 71,
     "metadata": {},
     "output_type": "execute_result"
    }
   ],
   "source": [
    "cp_metrics_df"
   ]
  },
  {
   "cell_type": "markdown",
   "id": "33774451",
   "metadata": {
    "papermill": {
     "duration": 0.029178,
     "end_time": "2025-07-30T13:44:41.298109",
     "exception": false,
     "start_time": "2025-07-30T13:44:41.268931",
     "status": "completed"
    },
    "tags": []
   },
   "source": [
    "# (Fairness) Metrics"
   ]
  },
  {
   "cell_type": "code",
   "execution_count": 72,
   "id": "debc5d62",
   "metadata": {
    "execution": {
     "iopub.execute_input": "2025-07-30T13:44:41.356696Z",
     "iopub.status.busy": "2025-07-30T13:44:41.355973Z",
     "iopub.status.idle": "2025-07-30T13:44:41.378502Z",
     "shell.execute_reply": "2025-07-30T13:44:41.377626Z"
    },
    "papermill": {
     "duration": 0.053837,
     "end_time": "2025-07-30T13:44:41.380202",
     "exception": false,
     "start_time": "2025-07-30T13:44:41.326365",
     "status": "completed"
    },
    "tags": []
   },
   "outputs": [],
   "source": [
    "# do I need to include maxdeutsch1.missing?\n",
    "\n",
    "import numpy as np\n",
    "\n",
    "colname_to_bin = \"maxdeutsch1\"\n",
    "majority_value = org_train[colname_to_bin].mode()[0]\n",
    "\n",
    "org_test[\"majmin\"] = np.where(org_test[colname_to_bin] == majority_value, \"majority\", \"minority\")"
   ]
  },
  {
   "cell_type": "code",
   "execution_count": 73,
   "id": "06a50de5",
   "metadata": {
    "execution": {
     "iopub.execute_input": "2025-07-30T13:44:41.434506Z",
     "iopub.status.busy": "2025-07-30T13:44:41.433614Z",
     "iopub.status.idle": "2025-07-30T13:44:44.270360Z",
     "shell.execute_reply": "2025-07-30T13:44:44.269493Z"
    },
    "papermill": {
     "duration": 2.865155,
     "end_time": "2025-07-30T13:44:44.272119",
     "exception": false,
     "start_time": "2025-07-30T13:44:41.406964",
     "status": "completed"
    },
    "tags": []
   },
   "outputs": [],
   "source": [
    "example_universe = universe.copy()\n",
    "example_universe[\"cutoff\"] = example_universe[\"cutoff\"][0]\n",
    "example_universe[\"eval_fairness_grouping\"] = example_universe[\"eval_fairness_grouping\"][0]\n",
    "fairness_dict, metric_frame = universe_analysis.compute_metrics(\n",
    "    example_universe,\n",
    "    y_pred_prob=probs_test,\n",
    "    y_test=y_true,\n",
    "    org_test=org_test,\n",
    ")"
   ]
  },
  {
   "cell_type": "markdown",
   "id": "f95d4e02",
   "metadata": {
    "papermill": {
     "duration": 0.025236,
     "end_time": "2025-07-30T13:44:44.343573",
     "exception": false,
     "start_time": "2025-07-30T13:44:44.318337",
     "status": "completed"
    },
    "tags": []
   },
   "source": [
    "# Overall"
   ]
  },
  {
   "cell_type": "markdown",
   "id": "bdee4871",
   "metadata": {
    "papermill": {
     "duration": 0.024877,
     "end_time": "2025-07-30T13:44:44.392826",
     "exception": false,
     "start_time": "2025-07-30T13:44:44.367949",
     "status": "completed"
    },
    "tags": []
   },
   "source": [
    "Fairness\n",
    "Main fairness target: Equalized Odds. Seems to be a better fit than equal opportunity, since we're not only interested in Y = 1. Seems to be a better fit than demographic parity, since we also care about accuracy, not just equal distribution of preds.\n",
    "\n",
    "Pick column for computation of fairness metrics\n",
    "\n",
    "Performance\n",
    "Overall performance measures, most interesting in relation to the measures split by group below"
   ]
  },
  {
   "cell_type": "code",
   "execution_count": 74,
   "id": "c4e067c6",
   "metadata": {
    "execution": {
     "iopub.execute_input": "2025-07-30T13:44:44.445581Z",
     "iopub.status.busy": "2025-07-30T13:44:44.445056Z",
     "iopub.status.idle": "2025-07-30T13:44:44.453879Z",
     "shell.execute_reply": "2025-07-30T13:44:44.452833Z"
    },
    "papermill": {
     "duration": 0.037217,
     "end_time": "2025-07-30T13:44:44.455426",
     "exception": false,
     "start_time": "2025-07-30T13:44:44.418209",
     "status": "completed"
    },
    "tags": []
   },
   "outputs": [
    {
     "data": {
      "text/plain": [
       "accuracy                   0.224758\n",
       "balanced accuracy          0.549483\n",
       "f1                         0.246078\n",
       "precision                  0.140576\n",
       "false positive rate        0.887305\n",
       "false negative rate        0.013730\n",
       "selection rate             0.900000\n",
       "count                  89710.000000\n",
       "dtype: float64"
      ]
     },
     "execution_count": 74,
     "metadata": {},
     "output_type": "execute_result"
    }
   ],
   "source": [
    "metric_frame.overall"
   ]
  },
  {
   "cell_type": "markdown",
   "id": "e968fe9d",
   "metadata": {
    "papermill": {
     "duration": 0.028369,
     "end_time": "2025-07-30T13:44:44.512225",
     "exception": false,
     "start_time": "2025-07-30T13:44:44.483856",
     "status": "completed"
    },
    "tags": []
   },
   "source": [
    "By Group"
   ]
  },
  {
   "cell_type": "code",
   "execution_count": 75,
   "id": "ec325bce",
   "metadata": {
    "execution": {
     "iopub.execute_input": "2025-07-30T13:44:44.571854Z",
     "iopub.status.busy": "2025-07-30T13:44:44.571392Z",
     "iopub.status.idle": "2025-07-30T13:44:44.587779Z",
     "shell.execute_reply": "2025-07-30T13:44:44.586829Z"
    },
    "papermill": {
     "duration": 0.048058,
     "end_time": "2025-07-30T13:44:44.589495",
     "exception": false,
     "start_time": "2025-07-30T13:44:44.541437",
     "status": "completed"
    },
    "tags": []
   },
   "outputs": [
    {
     "data": {
      "text/html": [
       "<div>\n",
       "<style scoped>\n",
       "    .dataframe tbody tr th:only-of-type {\n",
       "        vertical-align: middle;\n",
       "    }\n",
       "\n",
       "    .dataframe tbody tr th {\n",
       "        vertical-align: top;\n",
       "    }\n",
       "\n",
       "    .dataframe thead th {\n",
       "        text-align: right;\n",
       "    }\n",
       "</style>\n",
       "<table border=\"1\" class=\"dataframe\">\n",
       "  <thead>\n",
       "    <tr style=\"text-align: right;\">\n",
       "      <th></th>\n",
       "      <th>accuracy</th>\n",
       "      <th>balanced accuracy</th>\n",
       "      <th>f1</th>\n",
       "      <th>precision</th>\n",
       "      <th>false positive rate</th>\n",
       "      <th>false negative rate</th>\n",
       "      <th>selection rate</th>\n",
       "      <th>count</th>\n",
       "    </tr>\n",
       "    <tr>\n",
       "      <th>majmin</th>\n",
       "      <th></th>\n",
       "      <th></th>\n",
       "      <th></th>\n",
       "      <th></th>\n",
       "      <th></th>\n",
       "      <th></th>\n",
       "      <th></th>\n",
       "      <th></th>\n",
       "    </tr>\n",
       "  </thead>\n",
       "  <tbody>\n",
       "    <tr>\n",
       "      <th>majority</th>\n",
       "      <td>0.247159</td>\n",
       "      <td>0.559357</td>\n",
       "      <td>0.256680</td>\n",
       "      <td>0.147597</td>\n",
       "      <td>0.864984</td>\n",
       "      <td>0.016302</td>\n",
       "      <td>0.880671</td>\n",
       "      <td>69170.0</td>\n",
       "    </tr>\n",
       "    <tr>\n",
       "      <th>minority</th>\n",
       "      <td>0.149318</td>\n",
       "      <td>0.517580</td>\n",
       "      <td>0.212609</td>\n",
       "      <td>0.119003</td>\n",
       "      <td>0.961039</td>\n",
       "      <td>0.003801</td>\n",
       "      <td>0.965093</td>\n",
       "      <td>20540.0</td>\n",
       "    </tr>\n",
       "  </tbody>\n",
       "</table>\n",
       "</div>"
      ],
      "text/plain": [
       "          accuracy  balanced accuracy        f1  precision  \\\n",
       "majmin                                                       \n",
       "majority  0.247159           0.559357  0.256680   0.147597   \n",
       "minority  0.149318           0.517580  0.212609   0.119003   \n",
       "\n",
       "          false positive rate  false negative rate  selection rate    count  \n",
       "majmin                                                                       \n",
       "majority             0.864984             0.016302        0.880671  69170.0  \n",
       "minority             0.961039             0.003801        0.965093  20540.0  "
      ]
     },
     "execution_count": 75,
     "metadata": {},
     "output_type": "execute_result"
    }
   ],
   "source": [
    "metric_frame.by_group"
   ]
  },
  {
   "cell_type": "code",
   "execution_count": 76,
   "id": "a9ddbe63",
   "metadata": {
    "execution": {
     "iopub.execute_input": "2025-07-30T13:44:44.650091Z",
     "iopub.status.busy": "2025-07-30T13:44:44.649381Z",
     "iopub.status.idle": "2025-07-30T13:44:47.125201Z",
     "shell.execute_reply": "2025-07-30T13:44:47.124308Z"
    },
    "papermill": {
     "duration": 2.508358,
     "end_time": "2025-07-30T13:44:47.126786",
     "exception": false,
     "start_time": "2025-07-30T13:44:44.618428",
     "status": "completed"
    },
    "tags": []
   },
   "outputs": [
    {
     "data": {
      "text/plain": [
       "array([[<Axes: title={'center': 'accuracy'}, xlabel='majmin'>,\n",
       "        <Axes: title={'center': 'balanced accuracy'}, xlabel='majmin'>,\n",
       "        <Axes: title={'center': 'f1'}, xlabel='majmin'>],\n",
       "       [<Axes: title={'center': 'precision'}, xlabel='majmin'>,\n",
       "        <Axes: title={'center': 'false positive rate'}, xlabel='majmin'>,\n",
       "        <Axes: title={'center': 'false negative rate'}, xlabel='majmin'>],\n",
       "       [<Axes: title={'center': 'selection rate'}, xlabel='majmin'>,\n",
       "        <Axes: title={'center': 'count'}, xlabel='majmin'>,\n",
       "        <Axes: xlabel='majmin'>]], dtype=object)"
      ]
     },
     "execution_count": 76,
     "metadata": {},
     "output_type": "execute_result"
    },
    {
     "data": {
      "image/png": "[encoded data removed]",
      "text/plain": [
       "<Figure size 1200x800 with 9 Axes>"
      ]
     },
     "metadata": {},
     "output_type": "display_data"
    }
   ],
   "source": [
    "# In a graphic\n",
    "metric_frame.by_group.plot.bar(\n",
    "    subplots=True,\n",
    "    layout=[3, 3],\n",
    "    legend=False,\n",
    "    figsize=[12, 8],\n",
    "    title=\"Show all metrics\",\n",
    ")"
   ]
  },
  {
   "cell_type": "markdown",
   "id": "f57a0bac",
   "metadata": {
    "papermill": {
     "duration": 0.027342,
     "end_time": "2025-07-30T13:44:47.184365",
     "exception": false,
     "start_time": "2025-07-30T13:44:47.157023",
     "status": "completed"
    },
    "tags": []
   },
   "source": [
    "# Final Output"
   ]
  },
  {
   "cell_type": "code",
   "execution_count": 77,
   "id": "96d280a3",
   "metadata": {
    "execution": {
     "iopub.execute_input": "2025-07-30T13:44:47.241998Z",
     "iopub.status.busy": "2025-07-30T13:44:47.241066Z",
     "iopub.status.idle": "2025-07-30T13:44:47.249435Z",
     "shell.execute_reply": "2025-07-30T13:44:47.248510Z"
    },
    "papermill": {
     "duration": 0.039021,
     "end_time": "2025-07-30T13:44:47.251035",
     "exception": false,
     "start_time": "2025-07-30T13:44:47.212014",
     "status": "completed"
    },
    "tags": []
   },
   "outputs": [
    {
     "data": {
      "text/plain": [
       "4"
      ]
     },
     "execution_count": 77,
     "metadata": {},
     "output_type": "execute_result"
    }
   ],
   "source": [
    "sub_universes = universe_analysis.generate_sub_universes()\n",
    "len(sub_universes)"
   ]
  },
  {
   "cell_type": "code",
   "execution_count": 78,
   "id": "92adf7ba",
   "metadata": {
    "execution": {
     "iopub.execute_input": "2025-07-30T13:44:47.310744Z",
     "iopub.status.busy": "2025-07-30T13:44:47.309871Z",
     "iopub.status.idle": "2025-07-30T13:44:47.316343Z",
     "shell.execute_reply": "2025-07-30T13:44:47.315379Z"
    },
    "papermill": {
     "duration": 0.037681,
     "end_time": "2025-07-30T13:44:47.318233",
     "exception": false,
     "start_time": "2025-07-30T13:44:47.280552",
     "status": "completed"
    },
    "tags": []
   },
   "outputs": [],
   "source": [
    "def filter_sub_universe_data(sub_universe, org_test):\n",
    "    # Keep all rows — no filtering\n",
    "    keep_rows_mask = np.ones(org_test.shape[0], dtype=bool)\n",
    "\n",
    "    print(f\"[INFO] Keeping all rows: {keep_rows_mask.sum()} rows retained.\")\n",
    "    return keep_rows_mask"
   ]
  },
  {
   "cell_type": "code",
   "execution_count": 79,
   "id": "4a759155",
   "metadata": {
    "execution": {
     "iopub.execute_input": "2025-07-30T13:44:47.375983Z",
     "iopub.status.busy": "2025-07-30T13:44:47.375520Z",
     "iopub.status.idle": "2025-07-30T13:44:56.374675Z",
     "shell.execute_reply": "2025-07-30T13:44:56.373843Z"
    },
    "papermill": {
     "duration": 9.029812,
     "end_time": "2025-07-30T13:44:56.376749",
     "exception": false,
     "start_time": "2025-07-30T13:44:47.346937",
     "status": "completed"
    },
    "tags": []
   },
   "outputs": [
    {
     "name": "stdout",
     "output_type": "stream",
     "text": [
      "Stopping execution_time clock.\n",
      "[INFO] Keeping all rows: 89710 rows retained.\n"
     ]
    },
    {
     "name": "stdout",
     "output_type": "stream",
     "text": [
      "[INFO] Keeping all rows: 89710 rows retained.\n"
     ]
    },
    {
     "name": "stdout",
     "output_type": "stream",
     "text": [
      "[INFO] Keeping all rows: 89710 rows retained.\n"
     ]
    },
    {
     "name": "stdout",
     "output_type": "stream",
     "text": [
      "[INFO] Keeping all rows: 89710 rows retained.\n"
     ]
    },
    {
     "data": {
      "text/html": [
       "<div>\n",
       "<style scoped>\n",
       "    .dataframe tbody tr th:only-of-type {\n",
       "        vertical-align: middle;\n",
       "    }\n",
       "\n",
       "    .dataframe tbody tr th {\n",
       "        vertical-align: top;\n",
       "    }\n",
       "\n",
       "    .dataframe thead th {\n",
       "        text-align: right;\n",
       "    }\n",
       "</style>\n",
       "<table border=\"1\" class=\"dataframe\">\n",
       "  <thead>\n",
       "    <tr style=\"text-align: right;\">\n",
       "      <th></th>\n",
       "      <th>run_no</th>\n",
       "      <th>universe_id</th>\n",
       "      <th>universe_settings</th>\n",
       "      <th>execution_time</th>\n",
       "      <th>test_size_n</th>\n",
       "      <th>test_size_frac</th>\n",
       "      <th>fair_main_equalized_odds_difference</th>\n",
       "      <th>fair_main_equalized_odds_ratio</th>\n",
       "      <th>fair_main_demographic_parity_difference</th>\n",
       "      <th>fair_main_demographic_parity_ratio</th>\n",
       "      <th>...</th>\n",
       "      <th>perf_grp_precision_0</th>\n",
       "      <th>perf_grp_precision_1</th>\n",
       "      <th>perf_grp_false positive rate_0</th>\n",
       "      <th>perf_grp_false positive rate_1</th>\n",
       "      <th>perf_grp_false negative rate_0</th>\n",
       "      <th>perf_grp_false negative rate_1</th>\n",
       "      <th>perf_grp_selection rate_0</th>\n",
       "      <th>perf_grp_selection rate_1</th>\n",
       "      <th>perf_grp_count_0</th>\n",
       "      <th>perf_grp_count_1</th>\n",
       "    </tr>\n",
       "  </thead>\n",
       "  <tbody>\n",
       "    <tr>\n",
       "      <th>0</th>\n",
       "      <td>12</td>\n",
       "      <td>3c9743cf38e93c1900e102acc50d0ebf</td>\n",
       "      <td>{\"cutoff\": \"quantile_0.1\", \"eval_fairness_grou...</td>\n",
       "      <td>33.916007</td>\n",
       "      <td>89710</td>\n",
       "      <td>1.0</td>\n",
       "      <td>0.096055</td>\n",
       "      <td>0.900051</td>\n",
       "      <td>0.084422</td>\n",
       "      <td>0.912525</td>\n",
       "      <td>...</td>\n",
       "      <td>NaN</td>\n",
       "      <td>NaN</td>\n",
       "      <td>NaN</td>\n",
       "      <td>NaN</td>\n",
       "      <td>NaN</td>\n",
       "      <td>NaN</td>\n",
       "      <td>NaN</td>\n",
       "      <td>NaN</td>\n",
       "      <td>NaN</td>\n",
       "      <td>NaN</td>\n",
       "    </tr>\n",
       "    <tr>\n",
       "      <th>0</th>\n",
       "      <td>12</td>\n",
       "      <td>3c9743cf38e93c1900e102acc50d0ebf</td>\n",
       "      <td>{\"cutoff\": \"quantile_0.1\", \"eval_fairness_grou...</td>\n",
       "      <td>33.916007</td>\n",
       "      <td>89710</td>\n",
       "      <td>1.0</td>\n",
       "      <td>0.096055</td>\n",
       "      <td>0.900051</td>\n",
       "      <td>0.084422</td>\n",
       "      <td>0.912525</td>\n",
       "      <td>...</td>\n",
       "      <td>0.119003</td>\n",
       "      <td>0.147597</td>\n",
       "      <td>0.961039</td>\n",
       "      <td>0.864984</td>\n",
       "      <td>0.003801</td>\n",
       "      <td>0.016302</td>\n",
       "      <td>0.965093</td>\n",
       "      <td>0.880671</td>\n",
       "      <td>20540.0</td>\n",
       "      <td>69170.0</td>\n",
       "    </tr>\n",
       "    <tr>\n",
       "      <th>0</th>\n",
       "      <td>12</td>\n",
       "      <td>3c9743cf38e93c1900e102acc50d0ebf</td>\n",
       "      <td>{\"cutoff\": \"quantile_0.25\", \"eval_fairness_gro...</td>\n",
       "      <td>33.916007</td>\n",
       "      <td>89710</td>\n",
       "      <td>1.0</td>\n",
       "      <td>0.071260</td>\n",
       "      <td>0.908232</td>\n",
       "      <td>0.057846</td>\n",
       "      <td>0.927201</td>\n",
       "      <td>...</td>\n",
       "      <td>NaN</td>\n",
       "      <td>NaN</td>\n",
       "      <td>NaN</td>\n",
       "      <td>NaN</td>\n",
       "      <td>NaN</td>\n",
       "      <td>NaN</td>\n",
       "      <td>NaN</td>\n",
       "      <td>NaN</td>\n",
       "      <td>NaN</td>\n",
       "      <td>NaN</td>\n",
       "    </tr>\n",
       "    <tr>\n",
       "      <th>0</th>\n",
       "      <td>12</td>\n",
       "      <td>3c9743cf38e93c1900e102acc50d0ebf</td>\n",
       "      <td>{\"cutoff\": \"quantile_0.25\", \"eval_fairness_gro...</td>\n",
       "      <td>33.916007</td>\n",
       "      <td>89710</td>\n",
       "      <td>1.0</td>\n",
       "      <td>0.071260</td>\n",
       "      <td>0.908232</td>\n",
       "      <td>0.057846</td>\n",
       "      <td>0.927201</td>\n",
       "      <td>...</td>\n",
       "      <td>0.135408</td>\n",
       "      <td>0.169227</td>\n",
       "      <td>0.776524</td>\n",
       "      <td>0.705264</td>\n",
       "      <td>0.066723</td>\n",
       "      <td>0.056455</td>\n",
       "      <td>0.794596</td>\n",
       "      <td>0.736750</td>\n",
       "      <td>20540.0</td>\n",
       "      <td>69170.0</td>\n",
       "    </tr>\n",
       "  </tbody>\n",
       "</table>\n",
       "<p>4 rows × 50 columns</p>\n",
       "</div>"
      ],
      "text/plain": [
       "  run_no                       universe_id  \\\n",
       "0     12  3c9743cf38e93c1900e102acc50d0ebf   \n",
       "0     12  3c9743cf38e93c1900e102acc50d0ebf   \n",
       "0     12  3c9743cf38e93c1900e102acc50d0ebf   \n",
       "0     12  3c9743cf38e93c1900e102acc50d0ebf   \n",
       "\n",
       "                                   universe_settings  execution_time  \\\n",
       "0  {\"cutoff\": \"quantile_0.1\", \"eval_fairness_grou...       33.916007   \n",
       "0  {\"cutoff\": \"quantile_0.1\", \"eval_fairness_grou...       33.916007   \n",
       "0  {\"cutoff\": \"quantile_0.25\", \"eval_fairness_gro...       33.916007   \n",
       "0  {\"cutoff\": \"quantile_0.25\", \"eval_fairness_gro...       33.916007   \n",
       "\n",
       "   test_size_n  test_size_frac  fair_main_equalized_odds_difference  \\\n",
       "0        89710             1.0                             0.096055   \n",
       "0        89710             1.0                             0.096055   \n",
       "0        89710             1.0                             0.071260   \n",
       "0        89710             1.0                             0.071260   \n",
       "\n",
       "   fair_main_equalized_odds_ratio  fair_main_demographic_parity_difference  \\\n",
       "0                        0.900051                                 0.084422   \n",
       "0                        0.900051                                 0.084422   \n",
       "0                        0.908232                                 0.057846   \n",
       "0                        0.908232                                 0.057846   \n",
       "\n",
       "   fair_main_demographic_parity_ratio  ...  perf_grp_precision_0  \\\n",
       "0                            0.912525  ...                   NaN   \n",
       "0                            0.912525  ...              0.119003   \n",
       "0                            0.927201  ...                   NaN   \n",
       "0                            0.927201  ...              0.135408   \n",
       "\n",
       "   perf_grp_precision_1  perf_grp_false positive rate_0  \\\n",
       "0                   NaN                             NaN   \n",
       "0              0.147597                        0.961039   \n",
       "0                   NaN                             NaN   \n",
       "0              0.169227                        0.776524   \n",
       "\n",
       "   perf_grp_false positive rate_1  perf_grp_false negative rate_0  \\\n",
       "0                             NaN                             NaN   \n",
       "0                        0.864984                        0.003801   \n",
       "0                             NaN                             NaN   \n",
       "0                        0.705264                        0.066723   \n",
       "\n",
       "   perf_grp_false negative rate_1  perf_grp_selection rate_0  \\\n",
       "0                             NaN                        NaN   \n",
       "0                        0.016302                   0.965093   \n",
       "0                             NaN                        NaN   \n",
       "0                        0.056455                   0.794596   \n",
       "\n",
       "   perf_grp_selection rate_1  perf_grp_count_0  perf_grp_count_1  \n",
       "0                        NaN               NaN               NaN  \n",
       "0                   0.880671           20540.0           69170.0  \n",
       "0                        NaN               NaN               NaN  \n",
       "0                   0.736750           20540.0           69170.0  \n",
       "\n",
       "[4 rows x 50 columns]"
      ]
     },
     "execution_count": 79,
     "metadata": {},
     "output_type": "execute_result"
    }
   ],
   "source": [
    "final_output = universe_analysis.generate_final_output(\n",
    "    y_pred_prob=probs_test,\n",
    "    y_test=y_true,\n",
    "    org_test=org_test,\n",
    "    filter_data=filter_sub_universe_data,\n",
    "    cp_metrics_df=cp_metrics_df,\n",
    "    save=True,\n",
    ")\n",
    "final_output"
   ]
  },
  {
   "cell_type": "code",
   "execution_count": null,
   "id": "721ff514-cb11-46f8-b6fc-50392f74b5cb",
   "metadata": {
    "papermill": {
     "duration": 0.032584,
     "end_time": "2025-07-30T13:44:56.487088",
     "exception": false,
     "start_time": "2025-07-30T13:44:56.454504",
     "status": "completed"
    },
    "tags": []
   },
   "outputs": [],
   "source": []
  }
 ],
 "metadata": {
  "celltoolbar": "Tags",
  "kernelspec": {
   "display_name": "Python (CMA Fairness)",
   "language": "python",
   "name": "cma_fair_env"
  },
  "language_info": {
   "codemirror_mode": {
    "name": "ipython",
    "version": 3
   },
   "file_extension": ".py",
   "mimetype": "text/x-python",
   "name": "python",
   "nbconvert_exporter": "python",
   "pygments_lexer": "ipython3",
   "version": "3.10.12"
  },
  "papermill": {
   "default_parameters": {},
   "duration": 47.542461,
   "end_time": "2025-07-30T13:44:57.635964",
   "environment_variables": {},
   "exception": null,
   "input_path": "universe_analysis.ipynb",
   "output_path": "output/runs/12/notebooks/m_12-3c9743cf38e93c1900e102acc50d0ebf.ipynb",
   "parameters": {
    "output_dir": "output",
    "run_no": "12",
    "seed": "2023",
    "universe": "{\"cutoff\": [\"quantile_0.1\", \"quantile_0.25\"], \"eval_fairness_grouping\": [\"majority-minority\", \"nationality-all\"], \"exclude_features\": \"sex\", \"exclude_subgroups\": \"keep-all\", \"model\": \"gbm\", \"scale\": \"scale\", \"training_size\": \"5k\", \"training_year\": \"2014\"}",
    "universe_id": "3c9743cf38e93c1900e102acc50d0ebf"
   },
   "start_time": "2025-07-30T13:44:10.093503",
   "version": "2.6.0"
  }
 },
 "nbformat": 4,
 "nbformat_minor": 5
}