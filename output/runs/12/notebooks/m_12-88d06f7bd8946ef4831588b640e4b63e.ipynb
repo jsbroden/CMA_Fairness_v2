{
 "cells": [
  {
   "cell_type": "code",
   "execution_count": 1,
   "id": "f159f837-637b-42ba-96b5-ec9a68c44524",
   "metadata": {
    "execution": {
     "iopub.execute_input": "2025-07-30T12:45:56.243963Z",
     "iopub.status.busy": "2025-07-30T12:45:56.243194Z",
     "iopub.status.idle": "2025-07-30T12:45:56.256511Z",
     "shell.execute_reply": "2025-07-30T12:45:56.255708Z"
    },
    "papermill": {
     "duration": 0.027752,
     "end_time": "2025-07-30T12:45:56.258090",
     "exception": false,
     "start_time": "2025-07-30T12:45:56.230338",
     "status": "completed"
    },
    "tags": []
   },
   "outputs": [
    {
     "name": "stdout",
     "output_type": "stream",
     "text": [
      "/dss/dsshome1/0C/ra93lal2/cma/CMA_Fairness_v2\n"
     ]
    },
    {
     "name": "stderr",
     "output_type": "stream",
     "text": [
      "/dss/dsshome1/0C/ra93lal2/.local/share/virtualenvs/CMA_Fairness_v2-3j10GkSs/lib/python3.10/site-packages/IPython/core/magics/osm.py:393: UserWarning: This is now an optional IPython functionality, using bookmarks requires you to install the `pickleshare` library.\n",
      "  bkms = self.shell.db.get('bookmarks', {})\n",
      "/dss/dsshome1/0C/ra93lal2/.local/share/virtualenvs/CMA_Fairness_v2-3j10GkSs/lib/python3.10/site-packages/IPython/core/magics/osm.py:417: UserWarning: This is now an optional IPython functionality, setting dhist requires you to install the `pickleshare` library.\n",
      "  self.shell.db['dhist'] = compress_dhist(dhist)[-100:]\n"
     ]
    }
   ],
   "source": [
    "%cd ~/cma/CMA_Fairness_v2"
   ]
  },
  {
   "cell_type": "markdown",
   "id": "de2603b9",
   "metadata": {
    "papermill": {
     "duration": 0.023484,
     "end_time": "2025-07-30T12:45:56.304603",
     "exception": false,
     "start_time": "2025-07-30T12:45:56.281119",
     "status": "completed"
    },
    "tags": []
   },
   "source": [
    "The following cell holds the definition of our parameters, these values can be overriden by rendering the with e.g. the following command:\n",
    "\n",
    "papermill -p alpha 0.2 -p ratio 0.3 universe_analysis.ipynb output/test_run.ipynb"
   ]
  },
  {
   "cell_type": "code",
   "execution_count": 2,
   "id": "a80968a0-40bb-4fa9-85ef-2d5eefb01975",
   "metadata": {
    "execution": {
     "iopub.execute_input": "2025-07-30T12:45:56.342694Z",
     "iopub.status.busy": "2025-07-30T12:45:56.342441Z",
     "iopub.status.idle": "2025-07-30T12:45:56.370114Z",
     "shell.execute_reply": "2025-07-30T12:45:56.369270Z"
    },
    "papermill": {
     "duration": 0.044503,
     "end_time": "2025-07-30T12:45:56.371856",
     "exception": false,
     "start_time": "2025-07-30T12:45:56.327353",
     "status": "completed"
    },
    "tags": []
   },
   "outputs": [
    {
     "name": "stdout",
     "output_type": "stream",
     "text": [
      "Current working directory: /dss/dsshome1/0C/ra93lal2/cma/CMA_Fairness_v2\n"
     ]
    }
   ],
   "source": [
    "import os\n",
    "print(\"Current working directory:\", os.getcwd())"
   ]
  },
  {
   "cell_type": "code",
   "execution_count": 3,
   "id": "2dce4c03",
   "metadata": {
    "execution": {
     "iopub.execute_input": "2025-07-30T12:45:56.398116Z",
     "iopub.status.busy": "2025-07-30T12:45:56.397534Z",
     "iopub.status.idle": "2025-07-30T12:45:56.402016Z",
     "shell.execute_reply": "2025-07-30T12:45:56.401414Z"
    },
    "papermill": {
     "duration": 0.019346,
     "end_time": "2025-07-30T12:45:56.403086",
     "exception": false,
     "start_time": "2025-07-30T12:45:56.383740",
     "status": "completed"
    },
    "tags": [
     "parameters"
    ]
   },
   "outputs": [],
   "source": [
    "run_no = 0\n",
    "universe_id = \"test\"\n",
    "universe = {\n",
    "    \"training_size\": \"25k\", # \"25k\", \"5k\", \"1k\"\n",
    "    \"training_year\": \"2014\", # \"2014\", \"2012_14\", \"2010_14\"\n",
    "    \"scale\": \"scale\", # \"scale\", \"do-not-scale\",\n",
    "    #\"stratify_split\": \"target\", # \"none\", \"target\", \"protected-attribute\", \"both\",\n",
    "    \"model\": \"elasticnet\", # \"logreg\", \"penalized_logreg\", \"rf\", \"gbm\", \"elasticnet\"\n",
    "    \"cutoff\": [\"quantile_0.15\", \"quantile_0.30\"],\n",
    "    \"exclude_features\": \"age\", # \"none\", \"nationality\", \"sex\", \"nationality-sex\", \"age\"\n",
    "    \"exclude_subgroups\": \"keep-all\", # \"keep-all\", \"drop-non-german\"\n",
    "    \"eval_fairness_grouping\": [\"majority-minority\", \"nationality-all\"]\n",
    "}\n",
    "\n",
    "output_dir=\"./output\"\n",
    "seed=0"
   ]
  },
  {
   "cell_type": "code",
   "execution_count": 4,
   "id": "9fb2ced9",
   "metadata": {
    "execution": {
     "iopub.execute_input": "2025-07-30T12:45:56.429510Z",
     "iopub.status.busy": "2025-07-30T12:45:56.429170Z",
     "iopub.status.idle": "2025-07-30T12:45:56.434444Z",
     "shell.execute_reply": "2025-07-30T12:45:56.433494Z"
    },
    "papermill": {
     "duration": 0.018937,
     "end_time": "2025-07-30T12:45:56.435826",
     "exception": false,
     "start_time": "2025-07-30T12:45:56.416889",
     "status": "completed"
    },
    "tags": [
     "injected-parameters"
    ]
   },
   "outputs": [],
   "source": [
    "# Parameters\n",
    "universe_id = \"88d06f7bd8946ef4831588b640e4b63e\"\n",
    "run_no = \"12\"\n",
    "universe = \"{\\\"cutoff\\\": [\\\"quantile_0.1\\\", \\\"quantile_0.25\\\"], \\\"eval_fairness_grouping\\\": [\\\"majority-minority\\\", \\\"nationality-all\\\"], \\\"exclude_features\\\": \\\"none\\\", \\\"exclude_subgroups\\\": \\\"keep-all\\\", \\\"model\\\": \\\"logreg\\\", \\\"scale\\\": \\\"scale\\\", \\\"training_size\\\": \\\"25k\\\", \\\"training_year\\\": \\\"2014\\\"}\"\n",
    "output_dir = \"output\"\n",
    "seed = \"2023\"\n"
   ]
  },
  {
   "cell_type": "code",
   "execution_count": 5,
   "id": "1650acaf",
   "metadata": {
    "execution": {
     "iopub.execute_input": "2025-07-30T12:45:56.460910Z",
     "iopub.status.busy": "2025-07-30T12:45:56.460637Z",
     "iopub.status.idle": "2025-07-30T12:45:56.498082Z",
     "shell.execute_reply": "2025-07-30T12:45:56.497362Z"
    },
    "papermill": {
     "duration": 0.049755,
     "end_time": "2025-07-30T12:45:56.499323",
     "exception": false,
     "start_time": "2025-07-30T12:45:56.449568",
     "status": "completed"
    },
    "tags": []
   },
   "outputs": [],
   "source": [
    "import json\n",
    "# Parse universe into dict if it is passed as a string\n",
    "if isinstance(universe, str):\n",
    "    universe = json.loads(universe)"
   ]
  },
  {
   "cell_type": "code",
   "execution_count": 6,
   "id": "16620c48",
   "metadata": {
    "execution": {
     "iopub.execute_input": "2025-07-30T12:45:56.544401Z",
     "iopub.status.busy": "2025-07-30T12:45:56.543916Z",
     "iopub.status.idle": "2025-07-30T12:45:56.610154Z",
     "shell.execute_reply": "2025-07-30T12:45:56.609047Z"
    },
    "papermill": {
     "duration": 0.092314,
     "end_time": "2025-07-30T12:45:56.611645",
     "exception": false,
     "start_time": "2025-07-30T12:45:56.519331",
     "status": "completed"
    },
    "tags": []
   },
   "outputs": [],
   "source": [
    "# Auto-reload the custom package\n",
    "%load_ext autoreload\n",
    "%autoreload 1\n",
    "%aimport fairness_multiverse"
   ]
  },
  {
   "cell_type": "code",
   "execution_count": 7,
   "id": "01c5c9f3",
   "metadata": {
    "execution": {
     "iopub.execute_input": "2025-07-30T12:45:56.636882Z",
     "iopub.status.busy": "2025-07-30T12:45:56.636503Z",
     "iopub.status.idle": "2025-07-30T12:46:03.105456Z",
     "shell.execute_reply": "2025-07-30T12:46:03.104462Z"
    },
    "papermill": {
     "duration": 6.482513,
     "end_time": "2025-07-30T12:46:03.106969",
     "exception": false,
     "start_time": "2025-07-30T12:45:56.624456",
     "status": "completed"
    },
    "tags": []
   },
   "outputs": [],
   "source": [
    "from fairness_multiverse.universe import UniverseAnalysis\n",
    "\n",
    "universe_analysis = UniverseAnalysis(\n",
    "    run_no = run_no,\n",
    "    universe_id = universe_id,\n",
    "    universe = universe,\n",
    "    output_dir=output_dir,\n",
    ")"
   ]
  },
  {
   "cell_type": "code",
   "execution_count": 8,
   "id": "106241f5",
   "metadata": {
    "execution": {
     "iopub.execute_input": "2025-07-30T12:46:03.135947Z",
     "iopub.status.busy": "2025-07-30T12:46:03.135456Z",
     "iopub.status.idle": "2025-07-30T12:46:03.142860Z",
     "shell.execute_reply": "2025-07-30T12:46:03.141908Z"
    },
    "papermill": {
     "duration": 0.024083,
     "end_time": "2025-07-30T12:46:03.144281",
     "exception": false,
     "start_time": "2025-07-30T12:46:03.120198",
     "status": "completed"
    },
    "tags": []
   },
   "outputs": [
    {
     "name": "stdout",
     "output_type": "stream",
     "text": [
      "Using Seed: 2023\n"
     ]
    }
   ],
   "source": [
    "import numpy as np\n",
    "parsed_seed = int(seed)\n",
    "np.random.seed(parsed_seed)\n",
    "print(f\"Using Seed: {parsed_seed}\")"
   ]
  },
  {
   "cell_type": "markdown",
   "id": "e0ebdc57",
   "metadata": {
    "papermill": {
     "duration": 0.021626,
     "end_time": "2025-07-30T12:46:03.186382",
     "exception": false,
     "start_time": "2025-07-30T12:46:03.164756",
     "status": "completed"
    },
    "tags": []
   },
   "source": [
    "# Loading Data"
   ]
  },
  {
   "cell_type": "markdown",
   "id": "681925a3",
   "metadata": {
    "papermill": {
     "duration": 0.021123,
     "end_time": "2025-07-30T12:46:03.228662",
     "exception": false,
     "start_time": "2025-07-30T12:46:03.207539",
     "status": "completed"
    },
    "tags": []
   },
   "source": [
    "Load siab_train, siab_test, siab_calib and/or \n",
    "load siab_train_features, siab_train_labels"
   ]
  },
  {
   "cell_type": "code",
   "execution_count": 9,
   "id": "f0496b8a",
   "metadata": {
    "execution": {
     "iopub.execute_input": "2025-07-30T12:46:03.273379Z",
     "iopub.status.busy": "2025-07-30T12:46:03.272861Z",
     "iopub.status.idle": "2025-07-30T12:46:16.005145Z",
     "shell.execute_reply": "2025-07-30T12:46:16.004149Z"
    },
    "papermill": {
     "duration": 12.755871,
     "end_time": "2025-07-30T12:46:16.006475",
     "exception": false,
     "start_time": "2025-07-30T12:46:03.250604",
     "status": "completed"
    },
    "tags": []
   },
   "outputs": [
    {
     "name": "stdout",
     "output_type": "stream",
     "text": [
      "Loading SIAB data from cache: data/siab_cached.csv.gz\n"
     ]
    },
    {
     "name": "stdout",
     "output_type": "stream",
     "text": [
      "(643690, 164)\n"
     ]
    }
   ],
   "source": [
    "from pathlib import Path\n",
    "import pandas as pd\n",
    "\n",
    "# File paths\n",
    "raw_file = Path(\"data/raw/siab.csv\")\n",
    "cache_file = Path(\"data/siab_cached.csv.gz\")\n",
    "\n",
    "# Ensure cache directory exists\n",
    "cache_file.parent.mkdir(parents=True, exist_ok=True)\n",
    "\n",
    "# Load with simple caching\n",
    "if cache_file.exists():\n",
    "    print(f\"Loading SIAB data from cache: {cache_file}\")\n",
    "    siab = pd.read_csv(cache_file, compression='gzip')\n",
    "else:\n",
    "    print(f\"Cache not found. Reading raw SIAB data: {raw_file}\")\n",
    "    siab = pd.read_csv(raw_file)\n",
    "    siab.to_csv(cache_file, index=False, compression='gzip')\n",
    "    print(f\"Cached SIAB data to: {cache_file}\")\n",
    "\n",
    "# Now use `siab` DataFrame as needed\n",
    "print(siab.shape)"
   ]
  },
  {
   "cell_type": "code",
   "execution_count": 10,
   "id": "db0ca512-5f53-4dba-abdb-a2888bca41ba",
   "metadata": {
    "execution": {
     "iopub.execute_input": "2025-07-30T12:46:16.048969Z",
     "iopub.status.busy": "2025-07-30T12:46:16.048586Z",
     "iopub.status.idle": "2025-07-30T12:46:16.053185Z",
     "shell.execute_reply": "2025-07-30T12:46:16.052419Z"
    },
    "papermill": {
     "duration": 0.032001,
     "end_time": "2025-07-30T12:46:16.054810",
     "exception": false,
     "start_time": "2025-07-30T12:46:16.022809",
     "status": "completed"
    },
    "tags": []
   },
   "outputs": [],
   "source": [
    "#siab"
   ]
  },
  {
   "cell_type": "code",
   "execution_count": 11,
   "id": "a0edb063",
   "metadata": {
    "execution": {
     "iopub.execute_input": "2025-07-30T12:46:16.098947Z",
     "iopub.status.busy": "2025-07-30T12:46:16.098184Z",
     "iopub.status.idle": "2025-07-30T12:46:16.103474Z",
     "shell.execute_reply": "2025-07-30T12:46:16.102486Z"
    },
    "papermill": {
     "duration": 0.030648,
     "end_time": "2025-07-30T12:46:16.105267",
     "exception": false,
     "start_time": "2025-07-30T12:46:16.074619",
     "status": "completed"
    },
    "tags": []
   },
   "outputs": [],
   "source": [
    "#import pandas as pd\n",
    "#\n",
    "#X_train = pd.read_csv(\"./data/X_train.csv\")\n",
    "#y_train = pd.read_csv(\"./data/y_train.csv\")"
   ]
  },
  {
   "cell_type": "code",
   "execution_count": 12,
   "id": "63d08085",
   "metadata": {
    "execution": {
     "iopub.execute_input": "2025-07-30T12:46:16.153534Z",
     "iopub.status.busy": "2025-07-30T12:46:16.152690Z",
     "iopub.status.idle": "2025-07-30T12:46:16.158361Z",
     "shell.execute_reply": "2025-07-30T12:46:16.157233Z"
    },
    "papermill": {
     "duration": 0.033378,
     "end_time": "2025-07-30T12:46:16.161315",
     "exception": false,
     "start_time": "2025-07-30T12:46:16.127937",
     "status": "completed"
    },
    "tags": []
   },
   "outputs": [],
   "source": [
    "#X_test = pd.read_csv(\"./data/X_test.csv\")\n",
    "#y_true = pd.read_csv(\"./data/y_test.csv\")"
   ]
  },
  {
   "cell_type": "code",
   "execution_count": 13,
   "id": "98a8d0fa-1d3d-4ed8-bb2c-281470e24add",
   "metadata": {
    "execution": {
     "iopub.execute_input": "2025-07-30T12:46:16.203259Z",
     "iopub.status.busy": "2025-07-30T12:46:16.202497Z",
     "iopub.status.idle": "2025-07-30T12:46:16.208215Z",
     "shell.execute_reply": "2025-07-30T12:46:16.207070Z"
    },
    "papermill": {
     "duration": 0.031913,
     "end_time": "2025-07-30T12:46:16.210024",
     "exception": false,
     "start_time": "2025-07-30T12:46:16.178111",
     "status": "completed"
    },
    "tags": []
   },
   "outputs": [],
   "source": [
    "# Calibration data for conformal\n",
    "#X_calib = pd.read_csv(\"./data/X_calib.csv\")\n",
    "#y_calib = pd.read_csv(\"./data/y_calib.csv\")"
   ]
  },
  {
   "cell_type": "markdown",
   "id": "997051c5-15bd-4b69-9786-c3001a3ce484",
   "metadata": {
    "papermill": {
     "duration": 0.021606,
     "end_time": "2025-07-30T12:46:16.249128",
     "exception": false,
     "start_time": "2025-07-30T12:46:16.227522",
     "status": "completed"
    },
    "tags": []
   },
   "source": [
    "# Splitting Data and Setting Training Data Size"
   ]
  },
  {
   "cell_type": "code",
   "execution_count": 14,
   "id": "e993b61f-042d-41a6-8c81-f55681f86335",
   "metadata": {
    "execution": {
     "iopub.execute_input": "2025-07-30T12:46:16.293199Z",
     "iopub.status.busy": "2025-07-30T12:46:16.292620Z",
     "iopub.status.idle": "2025-07-30T12:46:16.306953Z",
     "shell.execute_reply": "2025-07-30T12:46:16.305737Z"
    },
    "papermill": {
     "duration": 0.036741,
     "end_time": "2025-07-30T12:46:16.308823",
     "exception": false,
     "start_time": "2025-07-30T12:46:16.272082",
     "status": "completed"
    },
    "tags": []
   },
   "outputs": [],
   "source": [
    "def sample_by_year_size(df,\n",
    "                        training_year: str,\n",
    "                        training_size: str,\n",
    "                        random_state: int = 42):\n",
    "    # --- parse training_year into a list of int years ---\n",
    "    if \"_\" in training_year:\n",
    "        start_str, end_str = training_year.split(\"_\", 1)\n",
    "        start = int(start_str)\n",
    "        end   = int(end_str) if len(end_str) == 4 else (int(end_str) + (start // 100)*100)\n",
    "        years = list(range(start, end + 1))\n",
    "    else:\n",
    "        years = [int(training_year)]\n",
    "\n",
    "    df = df[df[\"year\"].isin(years)].reset_index(drop=True)\n",
    "\n",
    "    # --- map training_size to total number of samples ---\n",
    "    total_map = {\"25k\": 25_000, \"5k\": 5_000, \"1k\": 1_000}\n",
    "    if training_size not in total_map:\n",
    "        return df  # e.g. \"all\"\n",
    "\n",
    "    total_samples = total_map[training_size]\n",
    "    n_years       = len(years)\n",
    "    base          = total_samples // n_years\n",
    "    remainder     = total_samples % n_years\n",
    "\n",
    "    # --- build a dict: year -> how many to sample ---\n",
    "    # give +1 to the first `remainder` years in ascending order\n",
    "    quotas = {\n",
    "        year: base + (1 if idx < remainder else 0)\n",
    "        for idx, year in enumerate(sorted(years))\n",
    "    }\n",
    "\n",
    "    # --- sample per‐year according to the quota dict ---\n",
    "    sampled = (\n",
    "        df\n",
    "        .groupby(\"year\", group_keys=False)\n",
    "        .apply(lambda grp: grp.sample(\n",
    "            n=min(len(grp), quotas[grp.name]),\n",
    "            random_state=random_state))\n",
    "        .reset_index(drop=True)\n",
    "    )\n",
    "\n",
    "    return sampled"
   ]
  },
  {
   "cell_type": "code",
   "execution_count": 15,
   "id": "c0ccd338-0e02-41f3-a09d-f56f9266e3fb",
   "metadata": {
    "execution": {
     "iopub.execute_input": "2025-07-30T12:46:16.365603Z",
     "iopub.status.busy": "2025-07-30T12:46:16.365095Z",
     "iopub.status.idle": "2025-07-30T12:46:16.375136Z",
     "shell.execute_reply": "2025-07-30T12:46:16.373913Z"
    },
    "papermill": {
     "duration": 0.044912,
     "end_time": "2025-07-30T12:46:16.376785",
     "exception": false,
     "start_time": "2025-07-30T12:46:16.331873",
     "status": "completed"
    },
    "tags": []
   },
   "outputs": [
    {
     "data": {
      "text/plain": [
       "'25k'"
      ]
     },
     "execution_count": 15,
     "metadata": {},
     "output_type": "execute_result"
    }
   ],
   "source": [
    "universe[\"training_size\"]"
   ]
  },
  {
   "cell_type": "code",
   "execution_count": 16,
   "id": "ca707fd7-8047-4acd-bfa5-66248fbbf8e6",
   "metadata": {
    "execution": {
     "iopub.execute_input": "2025-07-30T12:46:16.402026Z",
     "iopub.status.busy": "2025-07-30T12:46:16.401508Z",
     "iopub.status.idle": "2025-07-30T12:46:16.408086Z",
     "shell.execute_reply": "2025-07-30T12:46:16.407286Z"
    },
    "papermill": {
     "duration": 0.02067,
     "end_time": "2025-07-30T12:46:16.409484",
     "exception": false,
     "start_time": "2025-07-30T12:46:16.388814",
     "status": "completed"
    },
    "tags": []
   },
   "outputs": [
    {
     "data": {
      "text/plain": [
       "'2014'"
      ]
     },
     "execution_count": 16,
     "metadata": {},
     "output_type": "execute_result"
    }
   ],
   "source": [
    "universe[\"training_year\"]"
   ]
  },
  {
   "cell_type": "code",
   "execution_count": 17,
   "id": "aea9c6ef-6f46-42c8-85eb-5a62025c1508",
   "metadata": {
    "execution": {
     "iopub.execute_input": "2025-07-30T12:46:16.435234Z",
     "iopub.status.busy": "2025-07-30T12:46:16.434642Z",
     "iopub.status.idle": "2025-07-30T12:46:16.681729Z",
     "shell.execute_reply": "2025-07-30T12:46:16.680936Z"
    },
    "papermill": {
     "duration": 0.261635,
     "end_time": "2025-07-30T12:46:16.683254",
     "exception": false,
     "start_time": "2025-07-30T12:46:16.421619",
     "status": "completed"
    },
    "tags": []
   },
   "outputs": [],
   "source": [
    "siab_train = sample_by_year_size(siab,\n",
    "                               training_year=universe[\"training_year\"],\n",
    "                               training_size=universe[\"training_size\"])"
   ]
  },
  {
   "cell_type": "code",
   "execution_count": 18,
   "id": "8d3afb32-789d-442c-8d5d-9f5aa8dd2eed",
   "metadata": {
    "execution": {
     "iopub.execute_input": "2025-07-30T12:46:16.779713Z",
     "iopub.status.busy": "2025-07-30T12:46:16.779013Z",
     "iopub.status.idle": "2025-07-30T12:46:16.788700Z",
     "shell.execute_reply": "2025-07-30T12:46:16.787501Z"
    },
    "papermill": {
     "duration": 0.095636,
     "end_time": "2025-07-30T12:46:16.790647",
     "exception": false,
     "start_time": "2025-07-30T12:46:16.695011",
     "status": "completed"
    },
    "tags": []
   },
   "outputs": [
    {
     "data": {
      "text/plain": [
       "(25000, 164)"
      ]
     },
     "execution_count": 18,
     "metadata": {},
     "output_type": "execute_result"
    }
   ],
   "source": [
    "siab_train.shape"
   ]
  },
  {
   "cell_type": "code",
   "execution_count": 19,
   "id": "d582db68-1a4c-47fb-84fc-08518dc1975a",
   "metadata": {
    "execution": {
     "iopub.execute_input": "2025-07-30T12:46:16.838237Z",
     "iopub.status.busy": "2025-07-30T12:46:16.837683Z",
     "iopub.status.idle": "2025-07-30T12:46:16.849304Z",
     "shell.execute_reply": "2025-07-30T12:46:16.848081Z"
    },
    "papermill": {
     "duration": 0.036036,
     "end_time": "2025-07-30T12:46:16.851000",
     "exception": false,
     "start_time": "2025-07-30T12:46:16.814964",
     "status": "completed"
    },
    "tags": []
   },
   "outputs": [
    {
     "data": {
      "text/plain": [
       "year\n",
       "2014    25000\n",
       "dtype: int64"
      ]
     },
     "metadata": {},
     "output_type": "display_data"
    }
   ],
   "source": [
    "display(siab_train.groupby(\"year\").size())"
   ]
  },
  {
   "cell_type": "code",
   "execution_count": 20,
   "id": "a561edb4-d032-42cb-8256-22eac1111c64",
   "metadata": {
    "execution": {
     "iopub.execute_input": "2025-07-30T12:46:16.899708Z",
     "iopub.status.busy": "2025-07-30T12:46:16.899001Z",
     "iopub.status.idle": "2025-07-30T12:46:17.195578Z",
     "shell.execute_reply": "2025-07-30T12:46:17.194288Z"
    },
    "papermill": {
     "duration": 0.322034,
     "end_time": "2025-07-30T12:46:17.198138",
     "exception": false,
     "start_time": "2025-07-30T12:46:16.876104",
     "status": "completed"
    },
    "tags": []
   },
   "outputs": [],
   "source": [
    "#siab_train = siab_s[siab_s.year < 2015]\n",
    "siab_calib = siab[siab.year == 2015]\n",
    "siab_test = siab[siab.year == 2016]"
   ]
  },
  {
   "cell_type": "code",
   "execution_count": 21,
   "id": "472de16f-c3db-4916-846b-1f0de9cf1746",
   "metadata": {
    "execution": {
     "iopub.execute_input": "2025-07-30T12:46:17.261017Z",
     "iopub.status.busy": "2025-07-30T12:46:17.260388Z",
     "iopub.status.idle": "2025-07-30T12:46:17.279736Z",
     "shell.execute_reply": "2025-07-30T12:46:17.278417Z"
    },
    "papermill": {
     "duration": 0.053305,
     "end_time": "2025-07-30T12:46:17.281636",
     "exception": false,
     "start_time": "2025-07-30T12:46:17.228331",
     "status": "completed"
    },
    "tags": []
   },
   "outputs": [],
   "source": [
    "X_train = siab_train.iloc[:,4:164]\n",
    "y_train = siab_train.iloc[:, [3]]"
   ]
  },
  {
   "cell_type": "code",
   "execution_count": 22,
   "id": "828c96af-f43a-4ed6-ba47-8ac73a47d56c",
   "metadata": {
    "execution": {
     "iopub.execute_input": "2025-07-30T12:46:17.329527Z",
     "iopub.status.busy": "2025-07-30T12:46:17.328504Z",
     "iopub.status.idle": "2025-07-30T12:46:17.389550Z",
     "shell.execute_reply": "2025-07-30T12:46:17.386525Z"
    },
    "papermill": {
     "duration": 0.088718,
     "end_time": "2025-07-30T12:46:17.391846",
     "exception": false,
     "start_time": "2025-07-30T12:46:17.303128",
     "status": "completed"
    },
    "tags": []
   },
   "outputs": [],
   "source": [
    "X_calib = siab_calib.iloc[:,4:164]\n",
    "y_calib = siab_calib.iloc[:, [3]]"
   ]
  },
  {
   "cell_type": "code",
   "execution_count": 23,
   "id": "c34be9c3-6bd6-476e-acd3-845840e303be",
   "metadata": {
    "execution": {
     "iopub.execute_input": "2025-07-30T12:46:17.452161Z",
     "iopub.status.busy": "2025-07-30T12:46:17.451671Z",
     "iopub.status.idle": "2025-07-30T12:46:17.511784Z",
     "shell.execute_reply": "2025-07-30T12:46:17.510622Z"
    },
    "papermill": {
     "duration": 0.094546,
     "end_time": "2025-07-30T12:46:17.513635",
     "exception": false,
     "start_time": "2025-07-30T12:46:17.419089",
     "status": "completed"
    },
    "tags": []
   },
   "outputs": [],
   "source": [
    "X_test = siab_test.iloc[:,4:164]\n",
    "y_true = siab_test.iloc[:, [3]]"
   ]
  },
  {
   "cell_type": "markdown",
   "id": "9901737e-04df-44f0-9100-f5ad144ed040",
   "metadata": {
    "papermill": {
     "duration": 0.023836,
     "end_time": "2025-07-30T12:46:17.555930",
     "exception": false,
     "start_time": "2025-07-30T12:46:17.532094",
     "status": "completed"
    },
    "tags": []
   },
   "source": [
    "# Splitting Data and Setting Training Data Size OLD VERSION"
   ]
  },
  {
   "cell_type": "code",
   "execution_count": 24,
   "id": "acbc8f7d-8fc8-4e86-8c59-5dcb0f58384b",
   "metadata": {
    "execution": {
     "iopub.execute_input": "2025-07-30T12:46:17.597590Z",
     "iopub.status.busy": "2025-07-30T12:46:17.597090Z",
     "iopub.status.idle": "2025-07-30T12:46:17.644322Z",
     "shell.execute_reply": "2025-07-30T12:46:17.643565Z"
    },
    "papermill": {
     "duration": 0.073453,
     "end_time": "2025-07-30T12:46:17.645632",
     "exception": false,
     "start_time": "2025-07-30T12:46:17.572179",
     "status": "completed"
    },
    "tags": []
   },
   "outputs": [],
   "source": [
    "#def sample_by_year(df, training_size, random_state=42):\n",
    "#    if training_size == \"2014\":\n",
    "#        return df[df[\"year\"] == 2014].reset_index(drop=True)\n",
    "#    \n",
    "#    size_map = {\n",
    "#        \"25k\": 5000,\n",
    "#        \"5k\": 1000,\n",
    "#        \"1k\": 200\n",
    "#    }\n",
    "#\n",
    "#    if training_size not in size_map:\n",
    "#        return df.reset_index(drop=True)  # use all data\n",
    "#\n",
    "#    n_per_year = size_map[training_size]\n",
    "#    grouped = df.groupby(\"year\")\n",
    "#    sampled = grouped.apply(lambda x: x.sample(n=min(n_per_year, len(x)), random_state=random_state))\n",
    "#    return sampled.reset_index(drop=True)"
   ]
  },
  {
   "cell_type": "code",
   "execution_count": 25,
   "id": "6d931f52-beaf-43ff-9e78-9d44a448d54e",
   "metadata": {
    "execution": {
     "iopub.execute_input": "2025-07-30T12:46:17.674614Z",
     "iopub.status.busy": "2025-07-30T12:46:17.673899Z",
     "iopub.status.idle": "2025-07-30T12:46:17.678560Z",
     "shell.execute_reply": "2025-07-30T12:46:17.677756Z"
    },
    "papermill": {
     "duration": 0.021994,
     "end_time": "2025-07-30T12:46:17.680364",
     "exception": false,
     "start_time": "2025-07-30T12:46:17.658370",
     "status": "completed"
    },
    "tags": []
   },
   "outputs": [],
   "source": [
    "#siab_s = sample_by_year(siab, universe[\"training_size\"])"
   ]
  },
  {
   "cell_type": "code",
   "execution_count": 26,
   "id": "5db0a40e-a4e2-4920-be85-b12ae061d70d",
   "metadata": {
    "execution": {
     "iopub.execute_input": "2025-07-30T12:46:17.726440Z",
     "iopub.status.busy": "2025-07-30T12:46:17.725848Z",
     "iopub.status.idle": "2025-07-30T12:46:17.731086Z",
     "shell.execute_reply": "2025-07-30T12:46:17.730404Z"
    },
    "papermill": {
     "duration": 0.028361,
     "end_time": "2025-07-30T12:46:17.733098",
     "exception": false,
     "start_time": "2025-07-30T12:46:17.704737",
     "status": "completed"
    },
    "tags": []
   },
   "outputs": [],
   "source": [
    "#display(siab_s.groupby(\"year\").size())"
   ]
  },
  {
   "cell_type": "code",
   "execution_count": 27,
   "id": "e6c733c5",
   "metadata": {
    "execution": {
     "iopub.execute_input": "2025-07-30T12:46:17.801661Z",
     "iopub.status.busy": "2025-07-30T12:46:17.801101Z",
     "iopub.status.idle": "2025-07-30T12:46:17.915035Z",
     "shell.execute_reply": "2025-07-30T12:46:17.914076Z"
    },
    "papermill": {
     "duration": 0.151615,
     "end_time": "2025-07-30T12:46:17.917395",
     "exception": false,
     "start_time": "2025-07-30T12:46:17.765780",
     "status": "completed"
    },
    "tags": []
   },
   "outputs": [],
   "source": [
    "# Auxiliary data needed downstream in the pipeline\n",
    "\n",
    "org_train = X_train.copy()\n",
    "org_test = X_test.copy()\n",
    "org_calib = X_calib.copy()"
   ]
  },
  {
   "cell_type": "code",
   "execution_count": 28,
   "id": "1466abac-c6da-4492-a62f-4240ae3783af",
   "metadata": {
    "execution": {
     "iopub.execute_input": "2025-07-30T12:46:17.983957Z",
     "iopub.status.busy": "2025-07-30T12:46:17.983239Z",
     "iopub.status.idle": "2025-07-30T12:46:17.990712Z",
     "shell.execute_reply": "2025-07-30T12:46:17.989392Z"
    },
    "papermill": {
     "duration": 0.046791,
     "end_time": "2025-07-30T12:46:17.994773",
     "exception": false,
     "start_time": "2025-07-30T12:46:17.947982",
     "status": "completed"
    },
    "tags": []
   },
   "outputs": [],
   "source": [
    "# put in other script?\n",
    "# Group sizes\n",
    "\n",
    "#def calculate_percentages(df, df_name):\n",
    "#    total_entries = len(df)\n",
    "#\n",
    "#    female_pct = (df['frau1'] == 1).mean() * 100\n",
    "#    non_german_pct = ((df['maxdeutsch1'] == 0) & (df['maxdeutsch.Missing.'] == 0)).mean() * 100\n",
    "#    non_german_male_pct = ((df['frau1'] == 0) & (df['maxdeutsch1'] == 0) & (df['maxdeutsch.Missing.'] == 0)).mean() * 100\n",
    "#    non_german_female_pct = ((df['frau1'] == 1) & (df['maxdeutsch1'] == 0) & (df['maxdeutsch.Missing.'] == 0)).mean() * 100\n",
    "#\n",
    "#    print(f\"--- {df_name} ---\")\n",
    "#    print(f\"Female: {female_pct:.2f}%\")\n",
    "#    print(f\"Non-German: {non_german_pct:.2f}%\")\n",
    "#    print(f\"Non-German Male: {non_german_male_pct:.2f}%\")\n",
    "#    print(f\"Non-German Female: {non_german_female_pct:.2f}%\\n\")\n",
    "#\n",
    "## Calculate for each DataFrame\n",
    "#calculate_percentages(siab_calib, \"siab_calib\")\n",
    "#calculate_percentages(siab_test, \"siab_test\")\n",
    "#calculate_percentages(siab_train, \"siab_train\")"
   ]
  },
  {
   "cell_type": "markdown",
   "id": "0a4a1b33",
   "metadata": {
    "papermill": {
     "duration": 0.018849,
     "end_time": "2025-07-30T12:46:18.038744",
     "exception": false,
     "start_time": "2025-07-30T12:46:18.019895",
     "status": "completed"
    },
    "tags": []
   },
   "source": [
    "# Preprocessing Data"
   ]
  },
  {
   "cell_type": "code",
   "execution_count": 29,
   "id": "ca879031",
   "metadata": {
    "execution": {
     "iopub.execute_input": "2025-07-30T12:46:18.097832Z",
     "iopub.status.busy": "2025-07-30T12:46:18.097270Z",
     "iopub.status.idle": "2025-07-30T12:46:18.103533Z",
     "shell.execute_reply": "2025-07-30T12:46:18.102546Z"
    },
    "papermill": {
     "duration": 0.040724,
     "end_time": "2025-07-30T12:46:18.105636",
     "exception": false,
     "start_time": "2025-07-30T12:46:18.064912",
     "status": "completed"
    },
    "tags": []
   },
   "outputs": [],
   "source": [
    "# EXCLUDE PROTECTED FEATURES\n",
    "# ----------------------\n",
    "# \"exclude_features\": \"none\", # \"nationality\", \"sex\", \"nationality-sex\"\n",
    "\n",
    "excluded_features = universe[\"exclude_features\"].split(\"-\") # split, e.g.: \"nationality-sex\" -> [\"nationality\", \"sex\"]\n",
    "excluded_features_dictionary = {\n",
    "    \"nationality\": [\"maxdeutsch1\", \"maxdeutsch.Missing.\"],\n",
    "    \"sex\": [\"frau1\"],\n",
    "    \"age\": [\"age\"],\n",
    "}\n"
   ]
  },
  {
   "cell_type": "code",
   "execution_count": 30,
   "id": "b745ac60",
   "metadata": {
    "execution": {
     "iopub.execute_input": "2025-07-30T12:46:18.168605Z",
     "iopub.status.busy": "2025-07-30T12:46:18.168176Z",
     "iopub.status.idle": "2025-07-30T12:46:18.174826Z",
     "shell.execute_reply": "2025-07-30T12:46:18.173610Z"
    },
    "papermill": {
     "duration": 0.040884,
     "end_time": "2025-07-30T12:46:18.176829",
     "exception": false,
     "start_time": "2025-07-30T12:46:18.135945",
     "status": "completed"
    },
    "tags": []
   },
   "outputs": [],
   "source": [
    "# Code nice names to column names\n",
    "\n",
    "excluded_features_columns = [\n",
    "    excluded_features_dictionary[f] for f in excluded_features if len(f) > 0 and f != \"none\"\n",
    "]"
   ]
  },
  {
   "cell_type": "code",
   "execution_count": 31,
   "id": "f84f73a2",
   "metadata": {
    "execution": {
     "iopub.execute_input": "2025-07-30T12:46:18.233633Z",
     "iopub.status.busy": "2025-07-30T12:46:18.232747Z",
     "iopub.status.idle": "2025-07-30T12:46:18.240320Z",
     "shell.execute_reply": "2025-07-30T12:46:18.239143Z"
    },
    "papermill": {
     "duration": 0.04363,
     "end_time": "2025-07-30T12:46:18.241825",
     "exception": false,
     "start_time": "2025-07-30T12:46:18.198195",
     "status": "completed"
    },
    "tags": []
   },
   "outputs": [],
   "source": [
    "from utils import flatten_once\n",
    "\n",
    "excluded_features_columns = flatten_once(excluded_features_columns)"
   ]
  },
  {
   "cell_type": "code",
   "execution_count": 32,
   "id": "884dea22",
   "metadata": {
    "execution": {
     "iopub.execute_input": "2025-07-30T12:46:18.293515Z",
     "iopub.status.busy": "2025-07-30T12:46:18.292691Z",
     "iopub.status.idle": "2025-07-30T12:46:18.300320Z",
     "shell.execute_reply": "2025-07-30T12:46:18.298953Z"
    },
    "papermill": {
     "duration": 0.036667,
     "end_time": "2025-07-30T12:46:18.302309",
     "exception": false,
     "start_time": "2025-07-30T12:46:18.265642",
     "status": "completed"
    },
    "tags": []
   },
   "outputs": [],
   "source": [
    "if len(excluded_features_columns) > 0:\n",
    "    print(f\"Dropping features: {excluded_features_columns}\")\n",
    "    X_train.drop(excluded_features_columns, axis=1, inplace=True)"
   ]
  },
  {
   "cell_type": "code",
   "execution_count": 33,
   "id": "95ab8b16",
   "metadata": {
    "execution": {
     "iopub.execute_input": "2025-07-30T12:46:18.343920Z",
     "iopub.status.busy": "2025-07-30T12:46:18.343005Z",
     "iopub.status.idle": "2025-07-30T12:46:18.351111Z",
     "shell.execute_reply": "2025-07-30T12:46:18.350132Z"
    },
    "papermill": {
     "duration": 0.036866,
     "end_time": "2025-07-30T12:46:18.352562",
     "exception": false,
     "start_time": "2025-07-30T12:46:18.315696",
     "status": "completed"
    },
    "tags": []
   },
   "outputs": [],
   "source": [
    "if len(excluded_features_columns) > 0:\n",
    "    print(f\"Dropping features: {excluded_features_columns}\")\n",
    "    X_test.drop(excluded_features_columns, axis=1, inplace=True)"
   ]
  },
  {
   "cell_type": "code",
   "execution_count": 34,
   "id": "1853aaf5-fb9f-46cb-a2b5-8ea4ae2237e4",
   "metadata": {
    "execution": {
     "iopub.execute_input": "2025-07-30T12:46:18.385638Z",
     "iopub.status.busy": "2025-07-30T12:46:18.385027Z",
     "iopub.status.idle": "2025-07-30T12:46:18.390721Z",
     "shell.execute_reply": "2025-07-30T12:46:18.389928Z"
    },
    "papermill": {
     "duration": 0.026983,
     "end_time": "2025-07-30T12:46:18.392212",
     "exception": false,
     "start_time": "2025-07-30T12:46:18.365229",
     "status": "completed"
    },
    "tags": []
   },
   "outputs": [],
   "source": [
    "if len(excluded_features_columns) > 0:\n",
    "    print(f\"Dropping features: {excluded_features_columns}\")\n",
    "    X_calib.drop(excluded_features_columns, axis=1, inplace=True)"
   ]
  },
  {
   "cell_type": "code",
   "execution_count": 35,
   "id": "6727d079-03e5-481e-9d38-292a90b7a0a8",
   "metadata": {
    "execution": {
     "iopub.execute_input": "2025-07-30T12:46:18.420225Z",
     "iopub.status.busy": "2025-07-30T12:46:18.419710Z",
     "iopub.status.idle": "2025-07-30T12:46:18.424214Z",
     "shell.execute_reply": "2025-07-30T12:46:18.423449Z"
    },
    "papermill": {
     "duration": 0.020194,
     "end_time": "2025-07-30T12:46:18.425621",
     "exception": false,
     "start_time": "2025-07-30T12:46:18.405427",
     "status": "completed"
    },
    "tags": []
   },
   "outputs": [],
   "source": [
    "# SPLIT & STRATIFY DATA\n",
    "# ----------------------"
   ]
  },
  {
   "cell_type": "code",
   "execution_count": 36,
   "id": "76c4dc6d",
   "metadata": {
    "execution": {
     "iopub.execute_input": "2025-07-30T12:46:18.470020Z",
     "iopub.status.busy": "2025-07-30T12:46:18.469506Z",
     "iopub.status.idle": "2025-07-30T12:46:18.476260Z",
     "shell.execute_reply": "2025-07-30T12:46:18.475026Z"
    },
    "papermill": {
     "duration": 0.036525,
     "end_time": "2025-07-30T12:46:18.477936",
     "exception": false,
     "start_time": "2025-07-30T12:46:18.441411",
     "status": "completed"
    },
    "tags": []
   },
   "outputs": [],
   "source": [
    "# EXCLUDE CERTAIN SUBGROUPS\n",
    "# ----------------------\n",
    "\n",
    "mode = universe.get(\"exclude_subgroups\", \"keep-all\") \n",
    "# Fetches the exclude_subgroups setting from the universe dict.\n",
    "# Defaults to \"keep-all\" if the key is missing."
   ]
  },
  {
   "cell_type": "code",
   "execution_count": 37,
   "id": "21994072",
   "metadata": {
    "execution": {
     "iopub.execute_input": "2025-07-30T12:46:18.536430Z",
     "iopub.status.busy": "2025-07-30T12:46:18.536006Z",
     "iopub.status.idle": "2025-07-30T12:46:18.542078Z",
     "shell.execute_reply": "2025-07-30T12:46:18.541068Z"
    },
    "papermill": {
     "duration": 0.037511,
     "end_time": "2025-07-30T12:46:18.543460",
     "exception": false,
     "start_time": "2025-07-30T12:46:18.505949",
     "status": "completed"
    },
    "tags": []
   },
   "outputs": [],
   "source": [
    "if mode == \"keep-all\":\n",
    "    keep_mask = pd.Series(True, index=org_train.index)\n",
    "\n",
    "# org_train contains the original feature columns from features_org (in Simson)\n",
    "# features_org contains unprocessed features, for me X_train at beginning ???\n",
    "# For keep-all, creates a boolean Series (keep_mask) of all True, so no rows are removed.\n",
    "\n",
    "elif mode == \"drop-non-german\":\n",
    "    keep_mask = org_train[\"maxdeutsch1\"] == 1 # ??? what about missing values?\n",
    "\n",
    "else:\n",
    "    raise ValueError(f\"Unsupported mode for exclude_subgroups: {mode}\")\n"
   ]
  },
  {
   "cell_type": "code",
   "execution_count": 38,
   "id": "71651440",
   "metadata": {
    "execution": {
     "iopub.execute_input": "2025-07-30T12:46:18.590435Z",
     "iopub.status.busy": "2025-07-30T12:46:18.589835Z",
     "iopub.status.idle": "2025-07-30T12:46:18.785362Z",
     "shell.execute_reply": "2025-07-30T12:46:18.784105Z"
    },
    "papermill": {
     "duration": 0.22456,
     "end_time": "2025-07-30T12:46:18.787043",
     "exception": false,
     "start_time": "2025-07-30T12:46:18.562483",
     "status": "completed"
    },
    "tags": []
   },
   "outputs": [],
   "source": [
    "n_drop = (~keep_mask).sum() # Calculates how many rows are set to be dropped\n",
    "if n_drop > 0:\n",
    "    pct = n_drop / len(keep_mask) * 100\n",
    "    print(f\"Dropping {n_drop} rows ({pct:.2f}%) where mode='{mode}'\")"
   ]
  },
  {
   "cell_type": "code",
   "execution_count": 39,
   "id": "5fb8eee5",
   "metadata": {
    "execution": {
     "iopub.execute_input": "2025-07-30T12:46:18.846912Z",
     "iopub.status.busy": "2025-07-30T12:46:18.846353Z",
     "iopub.status.idle": "2025-07-30T12:46:18.869912Z",
     "shell.execute_reply": "2025-07-30T12:46:18.868730Z"
    },
    "papermill": {
     "duration": 0.05786,
     "end_time": "2025-07-30T12:46:18.872092",
     "exception": false,
     "start_time": "2025-07-30T12:46:18.814232",
     "status": "completed"
    },
    "tags": []
   },
   "outputs": [],
   "source": [
    "X_train = X_train[keep_mask]"
   ]
  },
  {
   "cell_type": "code",
   "execution_count": 40,
   "id": "b202bb3a",
   "metadata": {
    "execution": {
     "iopub.execute_input": "2025-07-30T12:46:18.929297Z",
     "iopub.status.busy": "2025-07-30T12:46:18.928831Z",
     "iopub.status.idle": "2025-07-30T12:46:18.935494Z",
     "shell.execute_reply": "2025-07-30T12:46:18.934396Z"
    },
    "papermill": {
     "duration": 0.039546,
     "end_time": "2025-07-30T12:46:18.937765",
     "exception": false,
     "start_time": "2025-07-30T12:46:18.898219",
     "status": "completed"
    },
    "tags": []
   },
   "outputs": [],
   "source": [
    "y_train = y_train[keep_mask]"
   ]
  },
  {
   "cell_type": "markdown",
   "id": "493e2ac3",
   "metadata": {
    "papermill": {
     "duration": 0.014858,
     "end_time": "2025-07-30T12:46:18.985226",
     "exception": false,
     "start_time": "2025-07-30T12:46:18.970368",
     "status": "completed"
    },
    "tags": []
   },
   "source": [
    "# Model Training"
   ]
  },
  {
   "cell_type": "code",
   "execution_count": 41,
   "id": "679e1268",
   "metadata": {
    "execution": {
     "iopub.execute_input": "2025-07-30T12:46:19.036335Z",
     "iopub.status.busy": "2025-07-30T12:46:19.035746Z",
     "iopub.status.idle": "2025-07-30T12:46:19.162123Z",
     "shell.execute_reply": "2025-07-30T12:46:19.161344Z"
    },
    "papermill": {
     "duration": 0.157523,
     "end_time": "2025-07-30T12:46:19.163677",
     "exception": false,
     "start_time": "2025-07-30T12:46:19.006154",
     "status": "completed"
    },
    "tags": []
   },
   "outputs": [],
   "source": [
    "from sklearn.linear_model import LogisticRegression\n",
    "from sklearn.ensemble import GradientBoostingClassifier, RandomForestClassifier\n",
    "\n",
    "if (universe[\"model\"] == \"logreg\"):\n",
    "    model = LogisticRegression() #penalty=\"none\") #, solver=\"newton-cg\", max_iter=1) # include random_state=19 ?\n",
    "elif (universe[\"model\"] == \"penalized_logreg\"):\n",
    "    model = LogisticRegression(penalty=\"l2\", C=1.0) #, solver=\"newton-cg\", max_iter=1)\n",
    "elif (universe[\"model\"] == \"rf\"):\n",
    "    model = RandomForestClassifier(n_estimators=100, n_jobs=-1)\n",
    "elif (universe[\"model\"] == \"gbm\"):\n",
    "    model = GradientBoostingClassifier()\n",
    "elif (universe[\"model\"] == \"elasticnet\"):\n",
    "    model = LogisticRegression(penalty = 'elasticnet', solver = 'saga', l1_ratio = 0.5, max_iter=5000) # which solver to use?\n",
    "else:\n",
    "    raise \"Unsupported universe.model\""
   ]
  },
  {
   "cell_type": "code",
   "execution_count": 42,
   "id": "0cc8f744",
   "metadata": {
    "execution": {
     "iopub.execute_input": "2025-07-30T12:46:19.210385Z",
     "iopub.status.busy": "2025-07-30T12:46:19.209803Z",
     "iopub.status.idle": "2025-07-30T12:46:19.217220Z",
     "shell.execute_reply": "2025-07-30T12:46:19.216088Z"
    },
    "papermill": {
     "duration": 0.028273,
     "end_time": "2025-07-30T12:46:19.219120",
     "exception": false,
     "start_time": "2025-07-30T12:46:19.190847",
     "status": "completed"
    },
    "tags": []
   },
   "outputs": [],
   "source": [
    "import numpy as np\n",
    "from sklearn.pipeline import Pipeline\n",
    "from sklearn.preprocessing import StandardScaler\n",
    "\n",
    "model = Pipeline([\n",
    "    #(\"continuous_processor\", continuous_processor),\n",
    "    #(\"categorical_preprocessor\", categorical_preprocessor),\n",
    "    (\"scale\", StandardScaler() if universe[\"scale\"] == \"scale\" else None), \n",
    "    (\"model\", model),\n",
    "])"
   ]
  },
  {
   "cell_type": "code",
   "execution_count": 43,
   "id": "9442c04d",
   "metadata": {
    "execution": {
     "iopub.execute_input": "2025-07-30T12:46:19.277625Z",
     "iopub.status.busy": "2025-07-30T12:46:19.277141Z",
     "iopub.status.idle": "2025-07-30T12:46:20.303531Z",
     "shell.execute_reply": "2025-07-30T12:46:20.302169Z"
    },
    "papermill": {
     "duration": 1.062159,
     "end_time": "2025-07-30T12:46:20.309147",
     "exception": false,
     "start_time": "2025-07-30T12:46:19.246988",
     "status": "completed"
    },
    "tags": []
   },
   "outputs": [
    {
     "name": "stderr",
     "output_type": "stream",
     "text": [
      "/dss/dsshome1/0C/ra93lal2/.local/share/virtualenvs/CMA_Fairness_v2-3j10GkSs/lib/python3.10/site-packages/sklearn/linear_model/_logistic.py:444: ConvergenceWarning: lbfgs failed to converge (status=1):\n",
      "STOP: TOTAL NO. of ITERATIONS REACHED LIMIT.\n",
      "\n",
      "Increase the number of iterations (max_iter) or scale the data as shown in:\n",
      "    https://scikit-learn.org/stable/modules/preprocessing.html\n",
      "Please also refer to the documentation for alternative solver options:\n",
      "    https://scikit-learn.org/stable/modules/linear_model.html#logistic-regression\n",
      "  n_iter_i = _check_optimize_result(\n"
     ]
    },
    {
     "data": {
      "text/html": [
       "<style>#sk-container-id-1 {color: black;background-color: white;}#sk-container-id-1 pre{padding: 0;}#sk-container-id-1 div.sk-toggleable {background-color: white;}#sk-container-id-1 label.sk-toggleable__label {cursor: pointer;display: block;width: 100%;margin-bottom: 0;padding: 0.3em;box-sizing: border-box;text-align: center;}#sk-container-id-1 label.sk-toggleable__label-arrow:before {content: \"▸\";float: left;margin-right: 0.25em;color: #696969;}#sk-container-id-1 label.sk-toggleable__label-arrow:hover:before {color: black;}#sk-container-id-1 div.sk-estimator:hover label.sk-toggleable__label-arrow:before {color: black;}#sk-container-id-1 div.sk-toggleable__content {max-height: 0;max-width: 0;overflow: hidden;text-align: left;background-color: #f0f8ff;}#sk-container-id-1 div.sk-toggleable__content pre {margin: 0.2em;color: black;border-radius: 0.25em;background-color: #f0f8ff;}#sk-container-id-1 input.sk-toggleable__control:checked~div.sk-toggleable__content {max-height: 200px;max-width: 100%;overflow: auto;}#sk-container-id-1 input.sk-toggleable__control:checked~label.sk-toggleable__label-arrow:before {content: \"▾\";}#sk-container-id-1 div.sk-estimator input.sk-toggleable__control:checked~label.sk-toggleable__label {background-color: #d4ebff;}#sk-container-id-1 div.sk-label input.sk-toggleable__control:checked~label.sk-toggleable__label {background-color: #d4ebff;}#sk-container-id-1 input.sk-hidden--visually {border: 0;clip: rect(1px 1px 1px 1px);clip: rect(1px, 1px, 1px, 1px);height: 1px;margin: -1px;overflow: hidden;padding: 0;position: absolute;width: 1px;}#sk-container-id-1 div.sk-estimator {font-family: monospace;background-color: #f0f8ff;border: 1px dotted black;border-radius: 0.25em;box-sizing: border-box;margin-bottom: 0.5em;}#sk-container-id-1 div.sk-estimator:hover {background-color: #d4ebff;}#sk-container-id-1 div.sk-parallel-item::after {content: \"\";width: 100%;border-bottom: 1px solid gray;flex-grow: 1;}#sk-container-id-1 div.sk-label:hover label.sk-toggleable__label {background-color: #d4ebff;}#sk-container-id-1 div.sk-serial::before {content: \"\";position: absolute;border-left: 1px solid gray;box-sizing: border-box;top: 0;bottom: 0;left: 50%;z-index: 0;}#sk-container-id-1 div.sk-serial {display: flex;flex-direction: column;align-items: center;background-color: white;padding-right: 0.2em;padding-left: 0.2em;position: relative;}#sk-container-id-1 div.sk-item {position: relative;z-index: 1;}#sk-container-id-1 div.sk-parallel {display: flex;align-items: stretch;justify-content: center;background-color: white;position: relative;}#sk-container-id-1 div.sk-item::before, #sk-container-id-1 div.sk-parallel-item::before {content: \"\";position: absolute;border-left: 1px solid gray;box-sizing: border-box;top: 0;bottom: 0;left: 50%;z-index: -1;}#sk-container-id-1 div.sk-parallel-item {display: flex;flex-direction: column;z-index: 1;position: relative;background-color: white;}#sk-container-id-1 div.sk-parallel-item:first-child::after {align-self: flex-end;width: 50%;}#sk-container-id-1 div.sk-parallel-item:last-child::after {align-self: flex-start;width: 50%;}#sk-container-id-1 div.sk-parallel-item:only-child::after {width: 0;}#sk-container-id-1 div.sk-dashed-wrapped {border: 1px dashed gray;margin: 0 0.4em 0.5em 0.4em;box-sizing: border-box;padding-bottom: 0.4em;background-color: white;}#sk-container-id-1 div.sk-label label {font-family: monospace;font-weight: bold;display: inline-block;line-height: 1.2em;}#sk-container-id-1 div.sk-label-container {text-align: center;}#sk-container-id-1 div.sk-container {/* jupyter's `normalize.less` sets `[hidden] { display: none; }` but bootstrap.min.css set `[hidden] { display: none !important; }` so we also need the `!important` here to be able to override the default hidden behavior on the sphinx rendered scikit-learn.org. See: https://github.com/scikit-learn/scikit-learn/issues/21755 */display: inline-block !important;position: relative;}#sk-container-id-1 div.sk-text-repr-fallback {display: none;}</style><div id=\"sk-container-id-1\" class=\"sk-top-container\"><div class=\"sk-text-repr-fallback\"><pre>Pipeline(steps=[(&#x27;scale&#x27;, StandardScaler()), (&#x27;model&#x27;, LogisticRegression())])</pre><b>In a Jupyter environment, please rerun this cell to show the HTML representation or trust the notebook. <br />On GitHub, the HTML representation is unable to render, please try loading this page with nbviewer.org.</b></div><div class=\"sk-container\" hidden><div class=\"sk-item sk-dashed-wrapped\"><div class=\"sk-label-container\"><div class=\"sk-label sk-toggleable\"><input class=\"sk-toggleable__control sk-hidden--visually\" id=\"sk-estimator-id-1\" type=\"checkbox\" ><label for=\"sk-estimator-id-1\" class=\"sk-toggleable__label sk-toggleable__label-arrow\">Pipeline</label><div class=\"sk-toggleable__content\"><pre>Pipeline(steps=[(&#x27;scale&#x27;, StandardScaler()), (&#x27;model&#x27;, LogisticRegression())])</pre></div></div></div><div class=\"sk-serial\"><div class=\"sk-item\"><div class=\"sk-estimator sk-toggleable\"><input class=\"sk-toggleable__control sk-hidden--visually\" id=\"sk-estimator-id-2\" type=\"checkbox\" ><label for=\"sk-estimator-id-2\" class=\"sk-toggleable__label sk-toggleable__label-arrow\">StandardScaler</label><div class=\"sk-toggleable__content\"><pre>StandardScaler()</pre></div></div></div><div class=\"sk-item\"><div class=\"sk-estimator sk-toggleable\"><input class=\"sk-toggleable__control sk-hidden--visually\" id=\"sk-estimator-id-3\" type=\"checkbox\" ><label for=\"sk-estimator-id-3\" class=\"sk-toggleable__label sk-toggleable__label-arrow\">LogisticRegression</label><div class=\"sk-toggleable__content\"><pre>LogisticRegression()</pre></div></div></div></div></div></div></div>"
      ],
      "text/plain": [
       "Pipeline(steps=[('scale', StandardScaler()), ('model', LogisticRegression())])"
      ]
     },
     "execution_count": 43,
     "metadata": {},
     "output_type": "execute_result"
    }
   ],
   "source": [
    "model.fit(X_train, y_train.values.ravel())"
   ]
  },
  {
   "cell_type": "code",
   "execution_count": 44,
   "id": "af59f8c0",
   "metadata": {
    "execution": {
     "iopub.execute_input": "2025-07-30T12:46:20.344473Z",
     "iopub.status.busy": "2025-07-30T12:46:20.343422Z",
     "iopub.status.idle": "2025-07-30T12:46:20.350149Z",
     "shell.execute_reply": "2025-07-30T12:46:20.349202Z"
    },
    "papermill": {
     "duration": 0.026334,
     "end_time": "2025-07-30T12:46:20.351853",
     "exception": false,
     "start_time": "2025-07-30T12:46:20.325519",
     "status": "completed"
    },
    "tags": []
   },
   "outputs": [],
   "source": [
    "from fairness_multiverse.universe import predict_w_threshold"
   ]
  },
  {
   "cell_type": "code",
   "execution_count": 45,
   "id": "a7cf2e16",
   "metadata": {
    "execution": {
     "iopub.execute_input": "2025-07-30T12:46:20.390692Z",
     "iopub.status.busy": "2025-07-30T12:46:20.390332Z",
     "iopub.status.idle": "2025-07-30T12:46:20.592313Z",
     "shell.execute_reply": "2025-07-30T12:46:20.591552Z"
    },
    "papermill": {
     "duration": 0.217841,
     "end_time": "2025-07-30T12:46:20.594043",
     "exception": false,
     "start_time": "2025-07-30T12:46:20.376202",
     "status": "completed"
    },
    "tags": []
   },
   "outputs": [
    {
     "data": {
      "text/plain": [
       "0.8652212685319363"
      ]
     },
     "execution_count": 45,
     "metadata": {},
     "output_type": "execute_result"
    }
   ],
   "source": [
    "probs_test = model.predict_proba(X_test)\n",
    "\n",
    "'''\n",
    "Below code returns a boolean array (or binary 0/1 array depending on how it’s used) where each element \n",
    "is True if the probability of class 1 is greater than or equal to the threshold, and False otherwise.\n",
    "'''\n",
    "y_pred_default = predict_w_threshold(probs_test, 0.5)\n",
    "\n",
    "from sklearn.metrics import accuracy_score\n",
    "\n",
    "# Naive prediction\n",
    "accuracy_score(y_true = y_true, y_pred = y_pred_default)"
   ]
  },
  {
   "cell_type": "code",
   "execution_count": 46,
   "id": "081964c3",
   "metadata": {
    "execution": {
     "iopub.execute_input": "2025-07-30T12:46:20.645710Z",
     "iopub.status.busy": "2025-07-30T12:46:20.645201Z",
     "iopub.status.idle": "2025-07-30T12:46:20.847813Z",
     "shell.execute_reply": "2025-07-30T12:46:20.846521Z"
    },
    "papermill": {
     "duration": 0.233097,
     "end_time": "2025-07-30T12:46:20.850378",
     "exception": false,
     "start_time": "2025-07-30T12:46:20.617281",
     "status": "completed"
    },
    "tags": []
   },
   "outputs": [
    {
     "data": {
      "text/plain": [
       "array([0, 0, 0, ..., 0, 0, 0])"
      ]
     },
     "execution_count": 46,
     "metadata": {},
     "output_type": "execute_result"
    }
   ],
   "source": [
    "model.predict(X_test)"
   ]
  },
  {
   "cell_type": "markdown",
   "id": "56c9705b",
   "metadata": {
    "papermill": {
     "duration": 0.025567,
     "end_time": "2025-07-30T12:46:20.906997",
     "exception": false,
     "start_time": "2025-07-30T12:46:20.881430",
     "status": "completed"
    },
    "tags": []
   },
   "source": [
    "# Conformal Prediction"
   ]
  },
  {
   "cell_type": "code",
   "execution_count": 47,
   "id": "160ec6ff",
   "metadata": {
    "execution": {
     "iopub.execute_input": "2025-07-30T12:46:20.958394Z",
     "iopub.status.busy": "2025-07-30T12:46:20.957788Z",
     "iopub.status.idle": "2025-07-30T12:46:20.964200Z",
     "shell.execute_reply": "2025-07-30T12:46:20.962902Z"
    },
    "papermill": {
     "duration": 0.037748,
     "end_time": "2025-07-30T12:46:20.966501",
     "exception": false,
     "start_time": "2025-07-30T12:46:20.928753",
     "status": "completed"
    },
    "tags": []
   },
   "outputs": [],
   "source": [
    "# Miscoverage level for conformal prediction (10% allowed error rate => 90% target coverage)\n",
    "alpha = 0.1"
   ]
  },
  {
   "cell_type": "code",
   "execution_count": 48,
   "id": "eadf4555-3dd3-440e-8e35-f82a4ad9f855",
   "metadata": {
    "execution": {
     "iopub.execute_input": "2025-07-30T12:46:21.020144Z",
     "iopub.status.busy": "2025-07-30T12:46:21.019595Z",
     "iopub.status.idle": "2025-07-30T12:46:21.254807Z",
     "shell.execute_reply": "2025-07-30T12:46:21.253430Z"
    },
    "papermill": {
     "duration": 0.267506,
     "end_time": "2025-07-30T12:46:21.257486",
     "exception": false,
     "start_time": "2025-07-30T12:46:20.989980",
     "status": "completed"
    },
    "tags": []
   },
   "outputs": [],
   "source": [
    "probs_calib = model.predict_proba(X_calib)"
   ]
  },
  {
   "cell_type": "code",
   "execution_count": 49,
   "id": "2ed93547-6d5d-4983-9b36-1ecb300da49a",
   "metadata": {
    "execution": {
     "iopub.execute_input": "2025-07-30T12:46:21.346706Z",
     "iopub.status.busy": "2025-07-30T12:46:21.346245Z",
     "iopub.status.idle": "2025-07-30T12:46:21.353288Z",
     "shell.execute_reply": "2025-07-30T12:46:21.351728Z"
    },
    "papermill": {
     "duration": 0.046448,
     "end_time": "2025-07-30T12:46:21.356291",
     "exception": false,
     "start_time": "2025-07-30T12:46:21.309843",
     "status": "completed"
    },
    "tags": []
   },
   "outputs": [],
   "source": [
    "y_calib = y_calib.values.ravel().astype(int)"
   ]
  },
  {
   "cell_type": "code",
   "execution_count": 50,
   "id": "65d1320d-f588-4b38-9072-62af1ae97f7d",
   "metadata": {
    "execution": {
     "iopub.execute_input": "2025-07-30T12:46:21.423616Z",
     "iopub.status.busy": "2025-07-30T12:46:21.422682Z",
     "iopub.status.idle": "2025-07-30T12:46:21.432359Z",
     "shell.execute_reply": "2025-07-30T12:46:21.431236Z"
    },
    "papermill": {
     "duration": 0.044533,
     "end_time": "2025-07-30T12:46:21.434688",
     "exception": false,
     "start_time": "2025-07-30T12:46:21.390155",
     "status": "completed"
    },
    "tags": []
   },
   "outputs": [],
   "source": [
    "from fairness_multiverse.conformal import compute_nc_scores\n",
    "\n",
    "# Compute nonconformity scores on calibration set (1 - probability of true class)\n",
    "nc_scores = compute_nc_scores(probs_calib, y_calib)"
   ]
  },
  {
   "cell_type": "code",
   "execution_count": 51,
   "id": "df3b8ca3-53b7-43d5-9667-7c85da7aeda2",
   "metadata": {
    "execution": {
     "iopub.execute_input": "2025-07-30T12:46:21.488544Z",
     "iopub.status.busy": "2025-07-30T12:46:21.487958Z",
     "iopub.status.idle": "2025-07-30T12:46:21.495377Z",
     "shell.execute_reply": "2025-07-30T12:46:21.494159Z"
    },
    "papermill": {
     "duration": 0.03493,
     "end_time": "2025-07-30T12:46:21.497435",
     "exception": false,
     "start_time": "2025-07-30T12:46:21.462505",
     "status": "completed"
    },
    "tags": []
   },
   "outputs": [],
   "source": [
    "from fairness_multiverse.conformal import find_threshold\n",
    "\n",
    "# Find conformal threshold q_hat for the given alpha (split conformal method)\n",
    "q_hat = find_threshold(nc_scores, alpha)"
   ]
  },
  {
   "cell_type": "code",
   "execution_count": 52,
   "id": "4d29e6c1-0ef6-4aa4-b8fe-4fe79b0d033a",
   "metadata": {
    "execution": {
     "iopub.execute_input": "2025-07-30T12:46:21.557702Z",
     "iopub.status.busy": "2025-07-30T12:46:21.556589Z",
     "iopub.status.idle": "2025-07-30T12:46:21.565221Z",
     "shell.execute_reply": "2025-07-30T12:46:21.564085Z"
    },
    "papermill": {
     "duration": 0.040669,
     "end_time": "2025-07-30T12:46:21.567062",
     "exception": false,
     "start_time": "2025-07-30T12:46:21.526393",
     "status": "completed"
    },
    "tags": []
   },
   "outputs": [
    {
     "data": {
      "text/plain": [
       "0.6757075416421396"
      ]
     },
     "execution_count": 52,
     "metadata": {},
     "output_type": "execute_result"
    }
   ],
   "source": [
    "q_hat"
   ]
  },
  {
   "cell_type": "code",
   "execution_count": 53,
   "id": "92460794-cdac-4be2-ba28-f28c0515a6fb",
   "metadata": {
    "execution": {
     "iopub.execute_input": "2025-07-30T12:46:21.627444Z",
     "iopub.status.busy": "2025-07-30T12:46:21.626349Z",
     "iopub.status.idle": "2025-07-30T12:46:22.742290Z",
     "shell.execute_reply": "2025-07-30T12:46:22.740984Z"
    },
    "papermill": {
     "duration": 1.148817,
     "end_time": "2025-07-30T12:46:22.744775",
     "exception": false,
     "start_time": "2025-07-30T12:46:21.595958",
     "status": "completed"
    },
    "tags": []
   },
   "outputs": [],
   "source": [
    "from fairness_multiverse.conformal import predict_conformal_sets\n",
    "\n",
    "# Generate prediction sets for each test example\n",
    "pred_sets = predict_conformal_sets(model, X_test, q_hat)"
   ]
  },
  {
   "cell_type": "code",
   "execution_count": 54,
   "id": "d90c9a65-e6db-4f5d-80cd-e68fb7e46829",
   "metadata": {
    "execution": {
     "iopub.execute_input": "2025-07-30T12:46:22.823622Z",
     "iopub.status.busy": "2025-07-30T12:46:22.822657Z",
     "iopub.status.idle": "2025-07-30T12:46:22.829653Z",
     "shell.execute_reply": "2025-07-30T12:46:22.828432Z"
    },
    "papermill": {
     "duration": 0.049179,
     "end_time": "2025-07-30T12:46:22.831735",
     "exception": false,
     "start_time": "2025-07-30T12:46:22.782556",
     "status": "completed"
    },
    "tags": []
   },
   "outputs": [],
   "source": [
    "y_true = y_true.squeeze()"
   ]
  },
  {
   "cell_type": "code",
   "execution_count": 55,
   "id": "3a58a54a-1e68-46b9-927a-df01f18aebc8",
   "metadata": {
    "execution": {
     "iopub.execute_input": "2025-07-30T12:46:22.891731Z",
     "iopub.status.busy": "2025-07-30T12:46:22.891279Z",
     "iopub.status.idle": "2025-07-30T12:46:23.917939Z",
     "shell.execute_reply": "2025-07-30T12:46:23.916272Z"
    },
    "papermill": {
     "duration": 1.054964,
     "end_time": "2025-07-30T12:46:23.920691",
     "exception": false,
     "start_time": "2025-07-30T12:46:22.865727",
     "status": "completed"
    },
    "tags": []
   },
   "outputs": [],
   "source": [
    "from fairness_multiverse.conformal import evaluate_sets\n",
    "\n",
    "# Evaluate coverage and average set size on test data\n",
    "metrics = evaluate_sets(pred_sets, y_true)"
   ]
  },
  {
   "cell_type": "markdown",
   "id": "2b569c12-9aaa-4c88-98c9-bbcd0cf3ebb8",
   "metadata": {
    "papermill": {
     "duration": 0.039552,
     "end_time": "2025-07-30T12:46:23.996502",
     "exception": false,
     "start_time": "2025-07-30T12:46:23.956950",
     "status": "completed"
    },
    "tags": []
   },
   "source": [
    "# CP Metrics"
   ]
  },
  {
   "cell_type": "code",
   "execution_count": 56,
   "id": "5ce0a5cb-201f-45a0-ade5-94c7f0bd6095",
   "metadata": {
    "execution": {
     "iopub.execute_input": "2025-07-30T12:46:24.066079Z",
     "iopub.status.busy": "2025-07-30T12:46:24.065567Z",
     "iopub.status.idle": "2025-07-30T12:46:24.073361Z",
     "shell.execute_reply": "2025-07-30T12:46:24.072379Z"
    },
    "papermill": {
     "duration": 0.043719,
     "end_time": "2025-07-30T12:46:24.074976",
     "exception": false,
     "start_time": "2025-07-30T12:46:24.031257",
     "status": "completed"
    },
    "tags": []
   },
   "outputs": [
    {
     "data": {
      "text/plain": [
       "{'coverage': 0.9124512317467395, 'avg_size': 1.1253594916954632}"
      ]
     },
     "execution_count": 56,
     "metadata": {},
     "output_type": "execute_result"
    }
   ],
   "source": [
    "metrics"
   ]
  },
  {
   "cell_type": "code",
   "execution_count": 57,
   "id": "9b9a838d-31c9-430b-ae14-12baee460d17",
   "metadata": {
    "execution": {
     "iopub.execute_input": "2025-07-30T12:46:24.137551Z",
     "iopub.status.busy": "2025-07-30T12:46:24.136664Z",
     "iopub.status.idle": "2025-07-30T12:46:24.142758Z",
     "shell.execute_reply": "2025-07-30T12:46:24.141740Z"
    },
    "papermill": {
     "duration": 0.040271,
     "end_time": "2025-07-30T12:46:24.144911",
     "exception": false,
     "start_time": "2025-07-30T12:46:24.104640",
     "status": "completed"
    },
    "tags": []
   },
   "outputs": [],
   "source": [
    "example_universe = universe.copy()\n",
    "universe_training_size = example_universe.get(\"training_size\")\n",
    "universe_scale = example_universe.get(\"scale\")\n",
    "universe_model = example_universe.get(\"model\")\n",
    "universe_exclude_features = example_universe.get(\"exclude_features\")\n",
    "universe_exclude_subgroups = example_universe.get(\"exclude_subgroups\")"
   ]
  },
  {
   "cell_type": "code",
   "execution_count": 58,
   "id": "f4b6a8ac-9dc0-4245-8a91-5b3b5999c4f9",
   "metadata": {
    "execution": {
     "iopub.execute_input": "2025-07-30T12:46:24.205042Z",
     "iopub.status.busy": "2025-07-30T12:46:24.204557Z",
     "iopub.status.idle": "2025-07-30T12:46:24.211204Z",
     "shell.execute_reply": "2025-07-30T12:46:24.210083Z"
    },
    "papermill": {
     "duration": 0.039839,
     "end_time": "2025-07-30T12:46:24.215391",
     "exception": false,
     "start_time": "2025-07-30T12:46:24.175552",
     "status": "completed"
    },
    "tags": []
   },
   "outputs": [],
   "source": [
    "cp_metrics_dict = {\n",
    "    \"universe_id\": [universe_id],\n",
    "    \"universe_training_size\": [universe_training_size],\n",
    "    \"universe_scale\": [universe_scale],\n",
    "    \"universe_model\": [universe_model],\n",
    "    \"universe_exclude_features\": [universe_exclude_features],\n",
    "    \"universe_exclude_subgroups\": [universe_exclude_subgroups],\n",
    "    \"q_hat\": [q_hat],\n",
    "    \"coverage\": [metrics[\"coverage\"]],\n",
    "    \"avg_size\": [metrics[\"avg_size\"]],\n",
    "}"
   ]
  },
  {
   "cell_type": "code",
   "execution_count": 59,
   "id": "908acbb1-0371-4915-85ca-3fa520d2efe2",
   "metadata": {
    "execution": {
     "iopub.execute_input": "2025-07-30T12:46:24.276084Z",
     "iopub.status.busy": "2025-07-30T12:46:24.275467Z",
     "iopub.status.idle": "2025-07-30T12:46:24.283512Z",
     "shell.execute_reply": "2025-07-30T12:46:24.282339Z"
    },
    "papermill": {
     "duration": 0.040583,
     "end_time": "2025-07-30T12:46:24.285167",
     "exception": false,
     "start_time": "2025-07-30T12:46:24.244584",
     "status": "completed"
    },
    "tags": []
   },
   "outputs": [
    {
     "data": {
      "text/plain": [
       "{'universe_id': ['88d06f7bd8946ef4831588b640e4b63e'],\n",
       " 'universe_training_size': ['25k'],\n",
       " 'universe_scale': ['scale'],\n",
       " 'universe_model': ['logreg'],\n",
       " 'universe_exclude_features': ['none'],\n",
       " 'universe_exclude_subgroups': ['keep-all'],\n",
       " 'q_hat': [0.6757075416421396],\n",
       " 'coverage': [0.9124512317467395],\n",
       " 'avg_size': [1.1253594916954632]}"
      ]
     },
     "execution_count": 59,
     "metadata": {},
     "output_type": "execute_result"
    }
   ],
   "source": [
    "cp_metrics_dict"
   ]
  },
  {
   "cell_type": "code",
   "execution_count": 60,
   "id": "33007efc-14e9-4ec6-97ac-56a455c82265",
   "metadata": {
    "execution": {
     "iopub.execute_input": "2025-07-30T12:46:24.316641Z",
     "iopub.status.busy": "2025-07-30T12:46:24.316167Z",
     "iopub.status.idle": "2025-07-30T12:46:24.321323Z",
     "shell.execute_reply": "2025-07-30T12:46:24.320455Z"
    },
    "papermill": {
     "duration": 0.021315,
     "end_time": "2025-07-30T12:46:24.322723",
     "exception": false,
     "start_time": "2025-07-30T12:46:24.301408",
     "status": "completed"
    },
    "tags": []
   },
   "outputs": [],
   "source": [
    "cp_metrics_df = pd.DataFrame(cp_metrics_dict)"
   ]
  },
  {
   "cell_type": "code",
   "execution_count": 61,
   "id": "db12611b-57b2-4910-b9d0-355adfd6e7bf",
   "metadata": {
    "execution": {
     "iopub.execute_input": "2025-07-30T12:46:24.351966Z",
     "iopub.status.busy": "2025-07-30T12:46:24.351523Z",
     "iopub.status.idle": "2025-07-30T12:46:24.369848Z",
     "shell.execute_reply": "2025-07-30T12:46:24.369185Z"
    },
    "papermill": {
     "duration": 0.034205,
     "end_time": "2025-07-30T12:46:24.371148",
     "exception": false,
     "start_time": "2025-07-30T12:46:24.336943",
     "status": "completed"
    },
    "tags": []
   },
   "outputs": [
    {
     "data": {
      "text/html": [
       "<div>\n",
       "<style scoped>\n",
       "    .dataframe tbody tr th:only-of-type {\n",
       "        vertical-align: middle;\n",
       "    }\n",
       "\n",
       "    .dataframe tbody tr th {\n",
       "        vertical-align: top;\n",
       "    }\n",
       "\n",
       "    .dataframe thead th {\n",
       "        text-align: right;\n",
       "    }\n",
       "</style>\n",
       "<table border=\"1\" class=\"dataframe\">\n",
       "  <thead>\n",
       "    <tr style=\"text-align: right;\">\n",
       "      <th></th>\n",
       "      <th>universe_id</th>\n",
       "      <th>universe_training_size</th>\n",
       "      <th>universe_scale</th>\n",
       "      <th>universe_model</th>\n",
       "      <th>universe_exclude_features</th>\n",
       "      <th>universe_exclude_subgroups</th>\n",
       "      <th>q_hat</th>\n",
       "      <th>coverage</th>\n",
       "      <th>avg_size</th>\n",
       "    </tr>\n",
       "  </thead>\n",
       "  <tbody>\n",
       "    <tr>\n",
       "      <th>0</th>\n",
       "      <td>88d06f7bd8946ef4831588b640e4b63e</td>\n",
       "      <td>25k</td>\n",
       "      <td>scale</td>\n",
       "      <td>logreg</td>\n",
       "      <td>none</td>\n",
       "      <td>keep-all</td>\n",
       "      <td>0.675708</td>\n",
       "      <td>0.912451</td>\n",
       "      <td>1.125359</td>\n",
       "    </tr>\n",
       "  </tbody>\n",
       "</table>\n",
       "</div>"
      ],
      "text/plain": [
       "                        universe_id universe_training_size universe_scale  \\\n",
       "0  88d06f7bd8946ef4831588b640e4b63e                    25k          scale   \n",
       "\n",
       "  universe_model universe_exclude_features universe_exclude_subgroups  \\\n",
       "0         logreg                      none                   keep-all   \n",
       "\n",
       "      q_hat  coverage  avg_size  \n",
       "0  0.675708  0.912451  1.125359  "
      ]
     },
     "execution_count": 61,
     "metadata": {},
     "output_type": "execute_result"
    }
   ],
   "source": [
    "cp_metrics_df"
   ]
  },
  {
   "cell_type": "code",
   "execution_count": 62,
   "id": "b7fbde55-a0a1-47e4-9af6-fe4a17fa8c61",
   "metadata": {
    "execution": {
     "iopub.execute_input": "2025-07-30T12:46:24.402819Z",
     "iopub.status.busy": "2025-07-30T12:46:24.402019Z",
     "iopub.status.idle": "2025-07-30T12:46:24.406702Z",
     "shell.execute_reply": "2025-07-30T12:46:24.405807Z"
    },
    "papermill": {
     "duration": 0.02094,
     "end_time": "2025-07-30T12:46:24.408163",
     "exception": false,
     "start_time": "2025-07-30T12:46:24.387223",
     "status": "completed"
    },
    "tags": []
   },
   "outputs": [],
   "source": [
    "# Conditional Coverage & looking at subgroups"
   ]
  },
  {
   "cell_type": "code",
   "execution_count": 63,
   "id": "027ae886-68dd-4141-96c7-805a5450e1ef",
   "metadata": {
    "execution": {
     "iopub.execute_input": "2025-07-30T12:46:24.437355Z",
     "iopub.status.busy": "2025-07-30T12:46:24.436744Z",
     "iopub.status.idle": "2025-07-30T12:46:24.699585Z",
     "shell.execute_reply": "2025-07-30T12:46:24.698369Z"
    },
    "papermill": {
     "duration": 0.279224,
     "end_time": "2025-07-30T12:46:24.701480",
     "exception": false,
     "start_time": "2025-07-30T12:46:24.422256",
     "status": "completed"
    },
    "tags": []
   },
   "outputs": [],
   "source": [
    "from fairness_multiverse.conformal import build_cp_groups\n",
    "\n",
    "cp_groups_df = build_cp_groups(pred_sets, y_true, X_test.index, org_test)\n",
    "#needs universe_id and setting"
   ]
  },
  {
   "cell_type": "code",
   "execution_count": 64,
   "id": "01d5802c-663a-4d1f-9d69-e036faaffbf7",
   "metadata": {
    "execution": {
     "iopub.execute_input": "2025-07-30T12:46:24.764326Z",
     "iopub.status.busy": "2025-07-30T12:46:24.763812Z",
     "iopub.status.idle": "2025-07-30T12:46:24.768951Z",
     "shell.execute_reply": "2025-07-30T12:46:24.767809Z"
    },
    "papermill": {
     "duration": 0.038568,
     "end_time": "2025-07-30T12:46:24.770967",
     "exception": false,
     "start_time": "2025-07-30T12:46:24.732399",
     "status": "completed"
    },
    "tags": []
   },
   "outputs": [],
   "source": [
    "#delete\n",
    "#cp_groups_df"
   ]
  },
  {
   "cell_type": "code",
   "execution_count": 65,
   "id": "fa424af1-d1eb-443d-b717-2d279ada8408",
   "metadata": {
    "execution": {
     "iopub.execute_input": "2025-07-30T12:46:24.833363Z",
     "iopub.status.busy": "2025-07-30T12:46:24.832677Z",
     "iopub.status.idle": "2025-07-30T12:46:24.837514Z",
     "shell.execute_reply": "2025-07-30T12:46:24.836621Z"
    },
    "papermill": {
     "duration": 0.038505,
     "end_time": "2025-07-30T12:46:24.839089",
     "exception": false,
     "start_time": "2025-07-30T12:46:24.800584",
     "status": "completed"
    },
    "tags": []
   },
   "outputs": [],
   "source": [
    "#delete\n",
    "#percentage = (cp_groups_df['nongerman_female'] == 1).mean() * 100\n",
    "#print(percentage)\n"
   ]
  },
  {
   "cell_type": "code",
   "execution_count": 66,
   "id": "6cbdab96-b2b2-45af-ad54-d0516db2e28d",
   "metadata": {
    "execution": {
     "iopub.execute_input": "2025-07-30T12:46:24.869397Z",
     "iopub.status.busy": "2025-07-30T12:46:24.868881Z",
     "iopub.status.idle": "2025-07-30T12:46:26.701755Z",
     "shell.execute_reply": "2025-07-30T12:46:26.700632Z"
    },
    "papermill": {
     "duration": 1.849765,
     "end_time": "2025-07-30T12:46:26.703811",
     "exception": false,
     "start_time": "2025-07-30T12:46:24.854046",
     "status": "completed"
    },
    "tags": []
   },
   "outputs": [],
   "source": [
    "# Define covered = 1 if true_label is in the predicted set\n",
    "cp_groups_df['covered'] = cp_groups_df.apply(\n",
    "    lambda r: int(r['true_label'] in r['pred_set']),\n",
    "    axis=1\n",
    ")"
   ]
  },
  {
   "cell_type": "code",
   "execution_count": 67,
   "id": "338ff529-1a6b-4b87-a931-8e4788d52aad",
   "metadata": {
    "execution": {
     "iopub.execute_input": "2025-07-30T12:46:26.769610Z",
     "iopub.status.busy": "2025-07-30T12:46:26.769007Z",
     "iopub.status.idle": "2025-07-30T12:46:26.779880Z",
     "shell.execute_reply": "2025-07-30T12:46:26.778771Z"
    },
    "papermill": {
     "duration": 0.046183,
     "end_time": "2025-07-30T12:46:26.781760",
     "exception": false,
     "start_time": "2025-07-30T12:46:26.735577",
     "status": "completed"
    },
    "tags": []
   },
   "outputs": [],
   "source": [
    "#cp_groups_df"
   ]
  },
  {
   "cell_type": "code",
   "execution_count": 68,
   "id": "90032e27-66df-4540-9169-4e89cfbaa758",
   "metadata": {
    "execution": {
     "iopub.execute_input": "2025-07-30T12:46:26.847892Z",
     "iopub.status.busy": "2025-07-30T12:46:26.847159Z",
     "iopub.status.idle": "2025-07-30T12:46:26.856366Z",
     "shell.execute_reply": "2025-07-30T12:46:26.855563Z"
    },
    "papermill": {
     "duration": 0.044527,
     "end_time": "2025-07-30T12:46:26.858141",
     "exception": false,
     "start_time": "2025-07-30T12:46:26.813614",
     "status": "completed"
    },
    "tags": []
   },
   "outputs": [],
   "source": [
    "subgroups = ['frau1','nongerman','nongerman_male','nongerman_female']\n",
    "\n",
    "# Conditional coverage for subgroup==1\n",
    "cond_coverage = {\n",
    "    g: cp_groups_df.loc[cp_groups_df[g]==1, 'covered'].mean()\n",
    "    for g in subgroups\n",
    "}"
   ]
  },
  {
   "cell_type": "code",
   "execution_count": 69,
   "id": "1e348fb1-b9c3-45bc-ba23-f016827a7e0d",
   "metadata": {
    "execution": {
     "iopub.execute_input": "2025-07-30T12:46:26.922372Z",
     "iopub.status.busy": "2025-07-30T12:46:26.921903Z",
     "iopub.status.idle": "2025-07-30T12:46:26.928019Z",
     "shell.execute_reply": "2025-07-30T12:46:26.927145Z"
    },
    "papermill": {
     "duration": 0.043155,
     "end_time": "2025-07-30T12:46:26.931946",
     "exception": false,
     "start_time": "2025-07-30T12:46:26.888791",
     "status": "completed"
    },
    "tags": []
   },
   "outputs": [
    {
     "data": {
      "text/plain": [
       "{'frau1': 0.9111740126701712,\n",
       " 'nongerman': 0.9128726211194071,\n",
       " 'nongerman_male': 0.9279474016031704,\n",
       " 'nongerman_female': 0.8879284649776453}"
      ]
     },
     "execution_count": 69,
     "metadata": {},
     "output_type": "execute_result"
    }
   ],
   "source": [
    "cond_coverage"
   ]
  },
  {
   "cell_type": "code",
   "execution_count": 70,
   "id": "f5093324-c3dd-4d63-bc4c-8d945e5c8bbb",
   "metadata": {
    "execution": {
     "iopub.execute_input": "2025-07-30T12:46:26.994125Z",
     "iopub.status.busy": "2025-07-30T12:46:26.993153Z",
     "iopub.status.idle": "2025-07-30T12:46:27.001015Z",
     "shell.execute_reply": "2025-07-30T12:46:26.999881Z"
    },
    "papermill": {
     "duration": 0.040938,
     "end_time": "2025-07-30T12:46:27.002950",
     "exception": false,
     "start_time": "2025-07-30T12:46:26.962012",
     "status": "completed"
    },
    "tags": []
   },
   "outputs": [],
   "source": [
    "for subgroup, cov in cond_coverage.items():\n",
    "    cp_metrics_df[f\"cov_{subgroup}\"] = cov"
   ]
  },
  {
   "cell_type": "code",
   "execution_count": 71,
   "id": "6e872e10-dbe5-49e8-b554-5030c98ff75d",
   "metadata": {
    "execution": {
     "iopub.execute_input": "2025-07-30T12:46:27.066911Z",
     "iopub.status.busy": "2025-07-30T12:46:27.066408Z",
     "iopub.status.idle": "2025-07-30T12:46:27.081467Z",
     "shell.execute_reply": "2025-07-30T12:46:27.080589Z"
    },
    "papermill": {
     "duration": 0.04833,
     "end_time": "2025-07-30T12:46:27.082998",
     "exception": false,
     "start_time": "2025-07-30T12:46:27.034668",
     "status": "completed"
    },
    "tags": []
   },
   "outputs": [
    {
     "data": {
      "text/html": [
       "<div>\n",
       "<style scoped>\n",
       "    .dataframe tbody tr th:only-of-type {\n",
       "        vertical-align: middle;\n",
       "    }\n",
       "\n",
       "    .dataframe tbody tr th {\n",
       "        vertical-align: top;\n",
       "    }\n",
       "\n",
       "    .dataframe thead th {\n",
       "        text-align: right;\n",
       "    }\n",
       "</style>\n",
       "<table border=\"1\" class=\"dataframe\">\n",
       "  <thead>\n",
       "    <tr style=\"text-align: right;\">\n",
       "      <th></th>\n",
       "      <th>universe_id</th>\n",
       "      <th>universe_training_size</th>\n",
       "      <th>universe_scale</th>\n",
       "      <th>universe_model</th>\n",
       "      <th>universe_exclude_features</th>\n",
       "      <th>universe_exclude_subgroups</th>\n",
       "      <th>q_hat</th>\n",
       "      <th>coverage</th>\n",
       "      <th>avg_size</th>\n",
       "      <th>cov_frau1</th>\n",
       "      <th>cov_nongerman</th>\n",
       "      <th>cov_nongerman_male</th>\n",
       "      <th>cov_nongerman_female</th>\n",
       "    </tr>\n",
       "  </thead>\n",
       "  <tbody>\n",
       "    <tr>\n",
       "      <th>0</th>\n",
       "      <td>88d06f7bd8946ef4831588b640e4b63e</td>\n",
       "      <td>25k</td>\n",
       "      <td>scale</td>\n",
       "      <td>logreg</td>\n",
       "      <td>none</td>\n",
       "      <td>keep-all</td>\n",
       "      <td>0.675708</td>\n",
       "      <td>0.912451</td>\n",
       "      <td>1.125359</td>\n",
       "      <td>0.911174</td>\n",
       "      <td>0.912873</td>\n",
       "      <td>0.927947</td>\n",
       "      <td>0.887928</td>\n",
       "    </tr>\n",
       "  </tbody>\n",
       "</table>\n",
       "</div>"
      ],
      "text/plain": [
       "                        universe_id universe_training_size universe_scale  \\\n",
       "0  88d06f7bd8946ef4831588b640e4b63e                    25k          scale   \n",
       "\n",
       "  universe_model universe_exclude_features universe_exclude_subgroups  \\\n",
       "0         logreg                      none                   keep-all   \n",
       "\n",
       "      q_hat  coverage  avg_size  cov_frau1  cov_nongerman  cov_nongerman_male  \\\n",
       "0  0.675708  0.912451  1.125359   0.911174       0.912873            0.927947   \n",
       "\n",
       "   cov_nongerman_female  \n",
       "0              0.887928  "
      ]
     },
     "execution_count": 71,
     "metadata": {},
     "output_type": "execute_result"
    }
   ],
   "source": [
    "cp_metrics_df"
   ]
  },
  {
   "cell_type": "markdown",
   "id": "33774451",
   "metadata": {
    "papermill": {
     "duration": 0.014633,
     "end_time": "2025-07-30T12:46:27.112995",
     "exception": false,
     "start_time": "2025-07-30T12:46:27.098362",
     "status": "completed"
    },
    "tags": []
   },
   "source": [
    "# (Fairness) Metrics"
   ]
  },
  {
   "cell_type": "code",
   "execution_count": 72,
   "id": "debc5d62",
   "metadata": {
    "execution": {
     "iopub.execute_input": "2025-07-30T12:46:27.165312Z",
     "iopub.status.busy": "2025-07-30T12:46:27.164814Z",
     "iopub.status.idle": "2025-07-30T12:46:27.189390Z",
     "shell.execute_reply": "2025-07-30T12:46:27.188378Z"
    },
    "papermill": {
     "duration": 0.059228,
     "end_time": "2025-07-30T12:46:27.191347",
     "exception": false,
     "start_time": "2025-07-30T12:46:27.132119",
     "status": "completed"
    },
    "tags": []
   },
   "outputs": [],
   "source": [
    "# do I need to include maxdeutsch1.missing?\n",
    "\n",
    "import numpy as np\n",
    "\n",
    "colname_to_bin = \"maxdeutsch1\"\n",
    "majority_value = org_train[colname_to_bin].mode()[0]\n",
    "\n",
    "org_test[\"majmin\"] = np.where(org_test[colname_to_bin] == majority_value, \"majority\", \"minority\")"
   ]
  },
  {
   "cell_type": "code",
   "execution_count": 73,
   "id": "06a50de5",
   "metadata": {
    "execution": {
     "iopub.execute_input": "2025-07-30T12:46:27.253903Z",
     "iopub.status.busy": "2025-07-30T12:46:27.253229Z",
     "iopub.status.idle": "2025-07-30T12:46:30.069199Z",
     "shell.execute_reply": "2025-07-30T12:46:30.068272Z"
    },
    "papermill": {
     "duration": 2.848584,
     "end_time": "2025-07-30T12:46:30.071126",
     "exception": false,
     "start_time": "2025-07-30T12:46:27.222542",
     "status": "completed"
    },
    "tags": []
   },
   "outputs": [],
   "source": [
    "example_universe = universe.copy()\n",
    "example_universe[\"cutoff\"] = example_universe[\"cutoff\"][0]\n",
    "example_universe[\"eval_fairness_grouping\"] = example_universe[\"eval_fairness_grouping\"][0]\n",
    "fairness_dict, metric_frame = universe_analysis.compute_metrics(\n",
    "    example_universe,\n",
    "    y_pred_prob=probs_test,\n",
    "    y_test=y_true,\n",
    "    org_test=org_test,\n",
    ")"
   ]
  },
  {
   "cell_type": "markdown",
   "id": "f95d4e02",
   "metadata": {
    "papermill": {
     "duration": 0.029345,
     "end_time": "2025-07-30T12:46:30.132275",
     "exception": false,
     "start_time": "2025-07-30T12:46:30.102930",
     "status": "completed"
    },
    "tags": []
   },
   "source": [
    "# Overall"
   ]
  },
  {
   "cell_type": "markdown",
   "id": "bdee4871",
   "metadata": {
    "papermill": {
     "duration": 0.028455,
     "end_time": "2025-07-30T12:46:30.190892",
     "exception": false,
     "start_time": "2025-07-30T12:46:30.162437",
     "status": "completed"
    },
    "tags": []
   },
   "source": [
    "Fairness\n",
    "Main fairness target: Equalized Odds. Seems to be a better fit than equal opportunity, since we're not only interested in Y = 1. Seems to be a better fit than demographic parity, since we also care about accuracy, not just equal distribution of preds.\n",
    "\n",
    "Pick column for computation of fairness metrics\n",
    "\n",
    "Performance\n",
    "Overall performance measures, most interesting in relation to the measures split by group below"
   ]
  },
  {
   "cell_type": "code",
   "execution_count": 74,
   "id": "c4e067c6",
   "metadata": {
    "execution": {
     "iopub.execute_input": "2025-07-30T12:46:30.249613Z",
     "iopub.status.busy": "2025-07-30T12:46:30.249087Z",
     "iopub.status.idle": "2025-07-30T12:46:30.257764Z",
     "shell.execute_reply": "2025-07-30T12:46:30.256936Z"
    },
    "papermill": {
     "duration": 0.041095,
     "end_time": "2025-07-30T12:46:30.260078",
     "exception": false,
     "start_time": "2025-07-30T12:46:30.218983",
     "status": "completed"
    },
    "tags": []
   },
   "outputs": [
    {
     "data": {
      "text/plain": [
       "accuracy                   0.225516\n",
       "balanced accuracy          0.551177\n",
       "f1                         0.246816\n",
       "precision                  0.140998\n",
       "false positive rate        0.886870\n",
       "false negative rate        0.010775\n",
       "selection rate             0.900000\n",
       "count                  89710.000000\n",
       "dtype: float64"
      ]
     },
     "execution_count": 74,
     "metadata": {},
     "output_type": "execute_result"
    }
   ],
   "source": [
    "metric_frame.overall"
   ]
  },
  {
   "cell_type": "markdown",
   "id": "e968fe9d",
   "metadata": {
    "papermill": {
     "duration": 0.014537,
     "end_time": "2025-07-30T12:46:30.296363",
     "exception": false,
     "start_time": "2025-07-30T12:46:30.281826",
     "status": "completed"
    },
    "tags": []
   },
   "source": [
    "By Group"
   ]
  },
  {
   "cell_type": "code",
   "execution_count": 75,
   "id": "ec325bce",
   "metadata": {
    "execution": {
     "iopub.execute_input": "2025-07-30T12:46:30.351217Z",
     "iopub.status.busy": "2025-07-30T12:46:30.350423Z",
     "iopub.status.idle": "2025-07-30T12:46:30.384124Z",
     "shell.execute_reply": "2025-07-30T12:46:30.383161Z"
    },
    "papermill": {
     "duration": 0.06538,
     "end_time": "2025-07-30T12:46:30.385816",
     "exception": false,
     "start_time": "2025-07-30T12:46:30.320436",
     "status": "completed"
    },
    "tags": []
   },
   "outputs": [
    {
     "data": {
      "text/html": [
       "<div>\n",
       "<style scoped>\n",
       "    .dataframe tbody tr th:only-of-type {\n",
       "        vertical-align: middle;\n",
       "    }\n",
       "\n",
       "    .dataframe tbody tr th {\n",
       "        vertical-align: top;\n",
       "    }\n",
       "\n",
       "    .dataframe thead th {\n",
       "        text-align: right;\n",
       "    }\n",
       "</style>\n",
       "<table border=\"1\" class=\"dataframe\">\n",
       "  <thead>\n",
       "    <tr style=\"text-align: right;\">\n",
       "      <th></th>\n",
       "      <th>accuracy</th>\n",
       "      <th>balanced accuracy</th>\n",
       "      <th>f1</th>\n",
       "      <th>precision</th>\n",
       "      <th>false positive rate</th>\n",
       "      <th>false negative rate</th>\n",
       "      <th>selection rate</th>\n",
       "      <th>count</th>\n",
       "    </tr>\n",
       "    <tr>\n",
       "      <th>majmin</th>\n",
       "      <th></th>\n",
       "      <th></th>\n",
       "      <th></th>\n",
       "      <th></th>\n",
       "      <th></th>\n",
       "      <th></th>\n",
       "      <th></th>\n",
       "      <th></th>\n",
       "    </tr>\n",
       "  </thead>\n",
       "  <tbody>\n",
       "    <tr>\n",
       "      <th>majority</th>\n",
       "      <td>0.247550</td>\n",
       "      <td>0.561344</td>\n",
       "      <td>0.257585</td>\n",
       "      <td>0.148101</td>\n",
       "      <td>0.865167</td>\n",
       "      <td>0.012144</td>\n",
       "      <td>0.881379</td>\n",
       "      <td>69170.0</td>\n",
       "    </tr>\n",
       "    <tr>\n",
       "      <th>minority</th>\n",
       "      <td>0.151315</td>\n",
       "      <td>0.517974</td>\n",
       "      <td>0.212718</td>\n",
       "      <td>0.119096</td>\n",
       "      <td>0.958563</td>\n",
       "      <td>0.005490</td>\n",
       "      <td>0.962707</td>\n",
       "      <td>20540.0</td>\n",
       "    </tr>\n",
       "  </tbody>\n",
       "</table>\n",
       "</div>"
      ],
      "text/plain": [
       "          accuracy  balanced accuracy        f1  precision  \\\n",
       "majmin                                                       \n",
       "majority  0.247550           0.561344  0.257585   0.148101   \n",
       "minority  0.151315           0.517974  0.212718   0.119096   \n",
       "\n",
       "          false positive rate  false negative rate  selection rate    count  \n",
       "majmin                                                                       \n",
       "majority             0.865167             0.012144        0.881379  69170.0  \n",
       "minority             0.958563             0.005490        0.962707  20540.0  "
      ]
     },
     "execution_count": 75,
     "metadata": {},
     "output_type": "execute_result"
    }
   ],
   "source": [
    "metric_frame.by_group"
   ]
  },
  {
   "cell_type": "code",
   "execution_count": 76,
   "id": "a9ddbe63",
   "metadata": {
    "execution": {
     "iopub.execute_input": "2025-07-30T12:46:30.444135Z",
     "iopub.status.busy": "2025-07-30T12:46:30.443506Z",
     "iopub.status.idle": "2025-07-30T12:46:32.780915Z",
     "shell.execute_reply": "2025-07-30T12:46:32.779800Z"
    },
    "papermill": {
     "duration": 2.36915,
     "end_time": "2025-07-30T12:46:32.782806",
     "exception": false,
     "start_time": "2025-07-30T12:46:30.413656",
     "status": "completed"
    },
    "tags": []
   },
   "outputs": [
    {
     "data": {
      "text/plain": [
       "array([[<Axes: title={'center': 'accuracy'}, xlabel='majmin'>,\n",
       "        <Axes: title={'center': 'balanced accuracy'}, xlabel='majmin'>,\n",
       "        <Axes: title={'center': 'f1'}, xlabel='majmin'>],\n",
       "       [<Axes: title={'center': 'precision'}, xlabel='majmin'>,\n",
       "        <Axes: title={'center': 'false positive rate'}, xlabel='majmin'>,\n",
       "        <Axes: title={'center': 'false negative rate'}, xlabel='majmin'>],\n",
       "       [<Axes: title={'center': 'selection rate'}, xlabel='majmin'>,\n",
       "        <Axes: title={'center': 'count'}, xlabel='majmin'>,\n",
       "        <Axes: xlabel='majmin'>]], dtype=object)"
      ]
     },
     "execution_count": 76,
     "metadata": {},
     "output_type": "execute_result"
    },
    {
     "data": {
      "image/png": "[encoded data removed]",
      "text/plain": [
       "<Figure size 1200x800 with 9 Axes>"
      ]
     },
     "metadata": {},
     "output_type": "display_data"
    }
   ],
   "source": [
    "# In a graphic\n",
    "metric_frame.by_group.plot.bar(\n",
    "    subplots=True,\n",
    "    layout=[3, 3],\n",
    "    legend=False,\n",
    "    figsize=[12, 8],\n",
    "    title=\"Show all metrics\",\n",
    ")"
   ]
  },
  {
   "cell_type": "markdown",
   "id": "f57a0bac",
   "metadata": {
    "papermill": {
     "duration": 0.033442,
     "end_time": "2025-07-30T12:46:32.854370",
     "exception": false,
     "start_time": "2025-07-30T12:46:32.820928",
     "status": "completed"
    },
    "tags": []
   },
   "source": [
    "# Final Output"
   ]
  },
  {
   "cell_type": "code",
   "execution_count": 77,
   "id": "96d280a3",
   "metadata": {
    "execution": {
     "iopub.execute_input": "2025-07-30T12:46:32.925894Z",
     "iopub.status.busy": "2025-07-30T12:46:32.925213Z",
     "iopub.status.idle": "2025-07-30T12:46:32.934316Z",
     "shell.execute_reply": "2025-07-30T12:46:32.933216Z"
    },
    "papermill": {
     "duration": 0.045494,
     "end_time": "2025-07-30T12:46:32.935741",
     "exception": false,
     "start_time": "2025-07-30T12:46:32.890247",
     "status": "completed"
    },
    "tags": []
   },
   "outputs": [
    {
     "data": {
      "text/plain": [
       "4"
      ]
     },
     "execution_count": 77,
     "metadata": {},
     "output_type": "execute_result"
    }
   ],
   "source": [
    "sub_universes = universe_analysis.generate_sub_universes()\n",
    "len(sub_universes)"
   ]
  },
  {
   "cell_type": "code",
   "execution_count": 78,
   "id": "92adf7ba",
   "metadata": {
    "execution": {
     "iopub.execute_input": "2025-07-30T12:46:33.005342Z",
     "iopub.status.busy": "2025-07-30T12:46:33.004825Z",
     "iopub.status.idle": "2025-07-30T12:46:33.011670Z",
     "shell.execute_reply": "2025-07-30T12:46:33.010587Z"
    },
    "papermill": {
     "duration": 0.042339,
     "end_time": "2025-07-30T12:46:33.013461",
     "exception": false,
     "start_time": "2025-07-30T12:46:32.971122",
     "status": "completed"
    },
    "tags": []
   },
   "outputs": [],
   "source": [
    "def filter_sub_universe_data(sub_universe, org_test):\n",
    "    # Keep all rows — no filtering\n",
    "    keep_rows_mask = np.ones(org_test.shape[0], dtype=bool)\n",
    "\n",
    "    print(f\"[INFO] Keeping all rows: {keep_rows_mask.sum()} rows retained.\")\n",
    "    return keep_rows_mask"
   ]
  },
  {
   "cell_type": "code",
   "execution_count": 79,
   "id": "4a759155",
   "metadata": {
    "execution": {
     "iopub.execute_input": "2025-07-30T12:46:33.077294Z",
     "iopub.status.busy": "2025-07-30T12:46:33.076577Z",
     "iopub.status.idle": "2025-07-30T12:46:44.204257Z",
     "shell.execute_reply": "2025-07-30T12:46:44.203219Z"
    },
    "papermill": {
     "duration": 11.159794,
     "end_time": "2025-07-30T12:46:44.205890",
     "exception": false,
     "start_time": "2025-07-30T12:46:33.046096",
     "status": "completed"
    },
    "tags": []
   },
   "outputs": [
    {
     "name": "stdout",
     "output_type": "stream",
     "text": [
      "Stopping execution_time clock.\n",
      "[INFO] Keeping all rows: 89710 rows retained.\n"
     ]
    },
    {
     "name": "stdout",
     "output_type": "stream",
     "text": [
      "[INFO] Keeping all rows: 89710 rows retained.\n"
     ]
    },
    {
     "name": "stdout",
     "output_type": "stream",
     "text": [
      "[INFO] Keeping all rows: 89710 rows retained.\n"
     ]
    },
    {
     "name": "stdout",
     "output_type": "stream",
     "text": [
      "[INFO] Keeping all rows: 89710 rows retained.\n"
     ]
    },
    {
     "data": {
      "text/html": [
       "<div>\n",
       "<style scoped>\n",
       "    .dataframe tbody tr th:only-of-type {\n",
       "        vertical-align: middle;\n",
       "    }\n",
       "\n",
       "    .dataframe tbody tr th {\n",
       "        vertical-align: top;\n",
       "    }\n",
       "\n",
       "    .dataframe thead th {\n",
       "        text-align: right;\n",
       "    }\n",
       "</style>\n",
       "<table border=\"1\" class=\"dataframe\">\n",
       "  <thead>\n",
       "    <tr style=\"text-align: right;\">\n",
       "      <th></th>\n",
       "      <th>run_no</th>\n",
       "      <th>universe_id</th>\n",
       "      <th>universe_settings</th>\n",
       "      <th>execution_time</th>\n",
       "      <th>test_size_n</th>\n",
       "      <th>test_size_frac</th>\n",
       "      <th>fair_main_equalized_odds_difference</th>\n",
       "      <th>fair_main_equalized_odds_ratio</th>\n",
       "      <th>fair_main_demographic_parity_difference</th>\n",
       "      <th>fair_main_demographic_parity_ratio</th>\n",
       "      <th>...</th>\n",
       "      <th>perf_grp_precision_0</th>\n",
       "      <th>perf_grp_precision_1</th>\n",
       "      <th>perf_grp_false positive rate_0</th>\n",
       "      <th>perf_grp_false positive rate_1</th>\n",
       "      <th>perf_grp_false negative rate_0</th>\n",
       "      <th>perf_grp_false negative rate_1</th>\n",
       "      <th>perf_grp_selection rate_0</th>\n",
       "      <th>perf_grp_selection rate_1</th>\n",
       "      <th>perf_grp_count_0</th>\n",
       "      <th>perf_grp_count_1</th>\n",
       "    </tr>\n",
       "  </thead>\n",
       "  <tbody>\n",
       "    <tr>\n",
       "      <th>0</th>\n",
       "      <td>12</td>\n",
       "      <td>88d06f7bd8946ef4831588b640e4b63e</td>\n",
       "      <td>{\"cutoff\": \"quantile_0.1\", \"eval_fairness_grou...</td>\n",
       "      <td>30.05037</td>\n",
       "      <td>89710</td>\n",
       "      <td>1.0</td>\n",
       "      <td>0.093395</td>\n",
       "      <td>0.902567</td>\n",
       "      <td>0.081328</td>\n",
       "      <td>0.915522</td>\n",
       "      <td>...</td>\n",
       "      <td>NaN</td>\n",
       "      <td>NaN</td>\n",
       "      <td>NaN</td>\n",
       "      <td>NaN</td>\n",
       "      <td>NaN</td>\n",
       "      <td>NaN</td>\n",
       "      <td>NaN</td>\n",
       "      <td>NaN</td>\n",
       "      <td>NaN</td>\n",
       "      <td>NaN</td>\n",
       "    </tr>\n",
       "    <tr>\n",
       "      <th>0</th>\n",
       "      <td>12</td>\n",
       "      <td>88d06f7bd8946ef4831588b640e4b63e</td>\n",
       "      <td>{\"cutoff\": \"quantile_0.1\", \"eval_fairness_grou...</td>\n",
       "      <td>30.05037</td>\n",
       "      <td>89710</td>\n",
       "      <td>1.0</td>\n",
       "      <td>0.093395</td>\n",
       "      <td>0.902567</td>\n",
       "      <td>0.081328</td>\n",
       "      <td>0.915522</td>\n",
       "      <td>...</td>\n",
       "      <td>0.119096</td>\n",
       "      <td>0.148101</td>\n",
       "      <td>0.958563</td>\n",
       "      <td>0.865167</td>\n",
       "      <td>0.005490</td>\n",
       "      <td>0.012144</td>\n",
       "      <td>0.962707</td>\n",
       "      <td>0.881379</td>\n",
       "      <td>20540.0</td>\n",
       "      <td>69170.0</td>\n",
       "    </tr>\n",
       "    <tr>\n",
       "      <th>0</th>\n",
       "      <td>12</td>\n",
       "      <td>88d06f7bd8946ef4831588b640e4b63e</td>\n",
       "      <td>{\"cutoff\": \"quantile_0.25\", \"eval_fairness_gro...</td>\n",
       "      <td>30.05037</td>\n",
       "      <td>89710</td>\n",
       "      <td>1.0</td>\n",
       "      <td>0.176038</td>\n",
       "      <td>0.794199</td>\n",
       "      <td>0.153128</td>\n",
       "      <td>0.823598</td>\n",
       "      <td>...</td>\n",
       "      <td>NaN</td>\n",
       "      <td>NaN</td>\n",
       "      <td>NaN</td>\n",
       "      <td>NaN</td>\n",
       "      <td>NaN</td>\n",
       "      <td>NaN</td>\n",
       "      <td>NaN</td>\n",
       "      <td>NaN</td>\n",
       "      <td>NaN</td>\n",
       "      <td>NaN</td>\n",
       "    </tr>\n",
       "    <tr>\n",
       "      <th>0</th>\n",
       "      <td>12</td>\n",
       "      <td>88d06f7bd8946ef4831588b640e4b63e</td>\n",
       "      <td>{\"cutoff\": \"quantile_0.25\", \"eval_fairness_gro...</td>\n",
       "      <td>30.05037</td>\n",
       "      <td>89710</td>\n",
       "      <td>1.0</td>\n",
       "      <td>0.176038</td>\n",
       "      <td>0.794199</td>\n",
       "      <td>0.153128</td>\n",
       "      <td>0.823598</td>\n",
       "      <td>...</td>\n",
       "      <td>0.128211</td>\n",
       "      <td>0.175342</td>\n",
       "      <td>0.855382</td>\n",
       "      <td>0.679344</td>\n",
       "      <td>0.034628</td>\n",
       "      <td>0.051313</td>\n",
       "      <td>0.868062</td>\n",
       "      <td>0.714934</td>\n",
       "      <td>20540.0</td>\n",
       "      <td>69170.0</td>\n",
       "    </tr>\n",
       "  </tbody>\n",
       "</table>\n",
       "<p>4 rows × 50 columns</p>\n",
       "</div>"
      ],
      "text/plain": [
       "  run_no                       universe_id  \\\n",
       "0     12  88d06f7bd8946ef4831588b640e4b63e   \n",
       "0     12  88d06f7bd8946ef4831588b640e4b63e   \n",
       "0     12  88d06f7bd8946ef4831588b640e4b63e   \n",
       "0     12  88d06f7bd8946ef4831588b640e4b63e   \n",
       "\n",
       "                                   universe_settings  execution_time  \\\n",
       "0  {\"cutoff\": \"quantile_0.1\", \"eval_fairness_grou...        30.05037   \n",
       "0  {\"cutoff\": \"quantile_0.1\", \"eval_fairness_grou...        30.05037   \n",
       "0  {\"cutoff\": \"quantile_0.25\", \"eval_fairness_gro...        30.05037   \n",
       "0  {\"cutoff\": \"quantile_0.25\", \"eval_fairness_gro...        30.05037   \n",
       "\n",
       "   test_size_n  test_size_frac  fair_main_equalized_odds_difference  \\\n",
       "0        89710             1.0                             0.093395   \n",
       "0        89710             1.0                             0.093395   \n",
       "0        89710             1.0                             0.176038   \n",
       "0        89710             1.0                             0.176038   \n",
       "\n",
       "   fair_main_equalized_odds_ratio  fair_main_demographic_parity_difference  \\\n",
       "0                        0.902567                                 0.081328   \n",
       "0                        0.902567                                 0.081328   \n",
       "0                        0.794199                                 0.153128   \n",
       "0                        0.794199                                 0.153128   \n",
       "\n",
       "   fair_main_demographic_parity_ratio  ...  perf_grp_precision_0  \\\n",
       "0                            0.915522  ...                   NaN   \n",
       "0                            0.915522  ...              0.119096   \n",
       "0                            0.823598  ...                   NaN   \n",
       "0                            0.823598  ...              0.128211   \n",
       "\n",
       "   perf_grp_precision_1  perf_grp_false positive rate_0  \\\n",
       "0                   NaN                             NaN   \n",
       "0              0.148101                        0.958563   \n",
       "0                   NaN                             NaN   \n",
       "0              0.175342                        0.855382   \n",
       "\n",
       "   perf_grp_false positive rate_1  perf_grp_false negative rate_0  \\\n",
       "0                             NaN                             NaN   \n",
       "0                        0.865167                        0.005490   \n",
       "0                             NaN                             NaN   \n",
       "0                        0.679344                        0.034628   \n",
       "\n",
       "   perf_grp_false negative rate_1  perf_grp_selection rate_0  \\\n",
       "0                             NaN                        NaN   \n",
       "0                        0.012144                   0.962707   \n",
       "0                             NaN                        NaN   \n",
       "0                        0.051313                   0.868062   \n",
       "\n",
       "   perf_grp_selection rate_1  perf_grp_count_0  perf_grp_count_1  \n",
       "0                        NaN               NaN               NaN  \n",
       "0                   0.881379           20540.0           69170.0  \n",
       "0                        NaN               NaN               NaN  \n",
       "0                   0.714934           20540.0           69170.0  \n",
       "\n",
       "[4 rows x 50 columns]"
      ]
     },
     "execution_count": 79,
     "metadata": {},
     "output_type": "execute_result"
    }
   ],
   "source": [
    "final_output = universe_analysis.generate_final_output(\n",
    "    y_pred_prob=probs_test,\n",
    "    y_test=y_true,\n",
    "    org_test=org_test,\n",
    "    filter_data=filter_sub_universe_data,\n",
    "    cp_metrics_df=cp_metrics_df,\n",
    "    save=True,\n",
    ")\n",
    "final_output"
   ]
  },
  {
   "cell_type": "code",
   "execution_count": null,
   "id": "721ff514-cb11-46f8-b6fc-50392f74b5cb",
   "metadata": {
    "papermill": {
     "duration": 0.037084,
     "end_time": "2025-07-30T12:46:44.279520",
     "exception": false,
     "start_time": "2025-07-30T12:46:44.242436",
     "status": "completed"
    },
    "tags": []
   },
   "outputs": [],
   "source": []
  }
 ],
 "metadata": {
  "celltoolbar": "Tags",
  "kernelspec": {
   "display_name": "Python (CMA Fairness)",
   "language": "python",
   "name": "cma_fair_env"
  },
  "language_info": {
   "codemirror_mode": {
    "name": "ipython",
    "version": 3
   },
   "file_extension": ".py",
   "mimetype": "text/x-python",
   "name": "python",
   "nbconvert_exporter": "python",
   "pygments_lexer": "ipython3",
   "version": "3.10.12"
  },
  "papermill": {
   "default_parameters": {},
   "duration": 52.389509,
   "end_time": "2025-07-30T12:46:45.132396",
   "environment_variables": {},
   "exception": null,
   "input_path": "universe_analysis.ipynb",
   "output_path": "output/runs/12/notebooks/m_12-88d06f7bd8946ef4831588b640e4b63e.ipynb",
   "parameters": {
    "output_dir": "output",
    "run_no": "12",
    "seed": "2023",
    "universe": "{\"cutoff\": [\"quantile_0.1\", \"quantile_0.25\"], \"eval_fairness_grouping\": [\"majority-minority\", \"nationality-all\"], \"exclude_features\": \"none\", \"exclude_subgroups\": \"keep-all\", \"model\": \"logreg\", \"scale\": \"scale\", \"training_size\": \"25k\", \"training_year\": \"2014\"}",
    "universe_id": "88d06f7bd8946ef4831588b640e4b63e"
   },
   "start_time": "2025-07-30T12:45:52.742887",
   "version": "2.6.0"
  }
 },
 "nbformat": 4,
 "nbformat_minor": 5
}