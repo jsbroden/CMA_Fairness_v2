{
 "cells": [
  {
   "cell_type": "code",
   "execution_count": 1,
   "id": "f159f837-637b-42ba-96b5-ec9a68c44524",
   "metadata": {
    "execution": {
     "iopub.execute_input": "2025-07-30T14:12:12.370599Z",
     "iopub.status.busy": "2025-07-30T14:12:12.370115Z",
     "iopub.status.idle": "2025-07-30T14:12:12.385197Z",
     "shell.execute_reply": "2025-07-30T14:12:12.384087Z"
    },
    "papermill": {
     "duration": 0.033094,
     "end_time": "2025-07-30T14:12:12.387034",
     "exception": false,
     "start_time": "2025-07-30T14:12:12.353940",
     "status": "completed"
    },
    "tags": []
   },
   "outputs": [
    {
     "name": "stdout",
     "output_type": "stream",
     "text": [
      "/dss/dsshome1/0C/ra93lal2/cma/CMA_Fairness_v2\n"
     ]
    },
    {
     "name": "stderr",
     "output_type": "stream",
     "text": [
      "/dss/dsshome1/0C/ra93lal2/.local/share/virtualenvs/CMA_Fairness_v2-3j10GkSs/lib/python3.10/site-packages/IPython/core/magics/osm.py:393: UserWarning: This is now an optional IPython functionality, using bookmarks requires you to install the `pickleshare` library.\n",
      "  bkms = self.shell.db.get('bookmarks', {})\n",
      "/dss/dsshome1/0C/ra93lal2/.local/share/virtualenvs/CMA_Fairness_v2-3j10GkSs/lib/python3.10/site-packages/IPython/core/magics/osm.py:417: UserWarning: This is now an optional IPython functionality, setting dhist requires you to install the `pickleshare` library.\n",
      "  self.shell.db['dhist'] = compress_dhist(dhist)[-100:]\n"
     ]
    }
   ],
   "source": [
    "%cd ~/cma/CMA_Fairness_v2"
   ]
  },
  {
   "cell_type": "markdown",
   "id": "de2603b9",
   "metadata": {
    "papermill": {
     "duration": 0.023409,
     "end_time": "2025-07-30T14:12:12.434045",
     "exception": false,
     "start_time": "2025-07-30T14:12:12.410636",
     "status": "completed"
    },
    "tags": []
   },
   "source": [
    "The following cell holds the definition of our parameters, these values can be overriden by rendering the with e.g. the following command:\n",
    "\n",
    "papermill -p alpha 0.2 -p ratio 0.3 universe_analysis.ipynb output/test_run.ipynb"
   ]
  },
  {
   "cell_type": "code",
   "execution_count": 2,
   "id": "a80968a0-40bb-4fa9-85ef-2d5eefb01975",
   "metadata": {
    "execution": {
     "iopub.execute_input": "2025-07-30T14:12:12.475999Z",
     "iopub.status.busy": "2025-07-30T14:12:12.475600Z",
     "iopub.status.idle": "2025-07-30T14:12:12.482486Z",
     "shell.execute_reply": "2025-07-30T14:12:12.481048Z"
    },
    "papermill": {
     "duration": 0.027664,
     "end_time": "2025-07-30T14:12:12.484811",
     "exception": false,
     "start_time": "2025-07-30T14:12:12.457147",
     "status": "completed"
    },
    "tags": []
   },
   "outputs": [
    {
     "name": "stdout",
     "output_type": "stream",
     "text": [
      "Current working directory: /dss/dsshome1/0C/ra93lal2/cma/CMA_Fairness_v2\n"
     ]
    }
   ],
   "source": [
    "import os\n",
    "print(\"Current working directory:\", os.getcwd())"
   ]
  },
  {
   "cell_type": "code",
   "execution_count": 3,
   "id": "2dce4c03",
   "metadata": {
    "execution": {
     "iopub.execute_input": "2025-07-30T14:12:12.546595Z",
     "iopub.status.busy": "2025-07-30T14:12:12.546057Z",
     "iopub.status.idle": "2025-07-30T14:12:12.553188Z",
     "shell.execute_reply": "2025-07-30T14:12:12.552086Z"
    },
    "papermill": {
     "duration": 0.040017,
     "end_time": "2025-07-30T14:12:12.555167",
     "exception": false,
     "start_time": "2025-07-30T14:12:12.515150",
     "status": "completed"
    },
    "tags": [
     "parameters"
    ]
   },
   "outputs": [],
   "source": [
    "run_no = 0\n",
    "universe_id = \"test\"\n",
    "universe = {\n",
    "    \"training_size\": \"25k\", # \"25k\", \"5k\", \"1k\"\n",
    "    \"training_year\": \"2014\", # \"2014\", \"2012_14\", \"2010_14\"\n",
    "    \"scale\": \"scale\", # \"scale\", \"do-not-scale\",\n",
    "    #\"stratify_split\": \"target\", # \"none\", \"target\", \"protected-attribute\", \"both\",\n",
    "    \"model\": \"elasticnet\", # \"logreg\", \"penalized_logreg\", \"rf\", \"gbm\", \"elasticnet\"\n",
    "    \"cutoff\": [\"quantile_0.15\", \"quantile_0.30\"],\n",
    "    \"exclude_features\": \"age\", # \"none\", \"nationality\", \"sex\", \"nationality-sex\", \"age\"\n",
    "    \"exclude_subgroups\": \"keep-all\", # \"keep-all\", \"drop-non-german\"\n",
    "    \"eval_fairness_grouping\": [\"majority-minority\", \"nationality-all\"]\n",
    "}\n",
    "\n",
    "output_dir=\"./output\"\n",
    "seed=0"
   ]
  },
  {
   "cell_type": "code",
   "execution_count": 4,
   "id": "e6857796",
   "metadata": {
    "execution": {
     "iopub.execute_input": "2025-07-30T14:12:12.604612Z",
     "iopub.status.busy": "2025-07-30T14:12:12.603504Z",
     "iopub.status.idle": "2025-07-30T14:12:12.609558Z",
     "shell.execute_reply": "2025-07-30T14:12:12.608472Z"
    },
    "papermill": {
     "duration": 0.032642,
     "end_time": "2025-07-30T14:12:12.611692",
     "exception": false,
     "start_time": "2025-07-30T14:12:12.579050",
     "status": "completed"
    },
    "tags": [
     "injected-parameters"
    ]
   },
   "outputs": [],
   "source": [
    "# Parameters\n",
    "universe_id = \"20375702cf166e0ceb02bed128a0c9df\"\n",
    "run_no = \"12\"\n",
    "universe = \"{\\\"cutoff\\\": [\\\"quantile_0.1\\\", \\\"quantile_0.25\\\"], \\\"eval_fairness_grouping\\\": [\\\"majority-minority\\\", \\\"nationality-all\\\"], \\\"exclude_features\\\": \\\"nationality-sex\\\", \\\"exclude_subgroups\\\": \\\"drop-non-german\\\", \\\"model\\\": \\\"logreg\\\", \\\"scale\\\": \\\"do-not-scale\\\", \\\"training_size\\\": \\\"5k\\\", \\\"training_year\\\": \\\"2010_14\\\"}\"\n",
    "output_dir = \"output\"\n",
    "seed = \"2023\"\n"
   ]
  },
  {
   "cell_type": "code",
   "execution_count": 5,
   "id": "1650acaf",
   "metadata": {
    "execution": {
     "iopub.execute_input": "2025-07-30T14:12:12.662045Z",
     "iopub.status.busy": "2025-07-30T14:12:12.661560Z",
     "iopub.status.idle": "2025-07-30T14:12:12.667197Z",
     "shell.execute_reply": "2025-07-30T14:12:12.666269Z"
    },
    "papermill": {
     "duration": 0.03202,
     "end_time": "2025-07-30T14:12:12.669116",
     "exception": false,
     "start_time": "2025-07-30T14:12:12.637096",
     "status": "completed"
    },
    "tags": []
   },
   "outputs": [],
   "source": [
    "import json\n",
    "# Parse universe into dict if it is passed as a string\n",
    "if isinstance(universe, str):\n",
    "    universe = json.loads(universe)"
   ]
  },
  {
   "cell_type": "code",
   "execution_count": 6,
   "id": "16620c48",
   "metadata": {
    "execution": {
     "iopub.execute_input": "2025-07-30T14:12:12.717177Z",
     "iopub.status.busy": "2025-07-30T14:12:12.716698Z",
     "iopub.status.idle": "2025-07-30T14:12:12.764550Z",
     "shell.execute_reply": "2025-07-30T14:12:12.763549Z"
    },
    "papermill": {
     "duration": 0.073488,
     "end_time": "2025-07-30T14:12:12.766597",
     "exception": false,
     "start_time": "2025-07-30T14:12:12.693109",
     "status": "completed"
    },
    "tags": []
   },
   "outputs": [],
   "source": [
    "# Auto-reload the custom package\n",
    "%load_ext autoreload\n",
    "%autoreload 1\n",
    "%aimport fairness_multiverse"
   ]
  },
  {
   "cell_type": "code",
   "execution_count": 7,
   "id": "01c5c9f3",
   "metadata": {
    "execution": {
     "iopub.execute_input": "2025-07-30T14:12:12.812134Z",
     "iopub.status.busy": "2025-07-30T14:12:12.811426Z",
     "iopub.status.idle": "2025-07-30T14:12:14.815587Z",
     "shell.execute_reply": "2025-07-30T14:12:14.814805Z"
    },
    "papermill": {
     "duration": 2.02873,
     "end_time": "2025-07-30T14:12:14.816933",
     "exception": false,
     "start_time": "2025-07-30T14:12:12.788203",
     "status": "completed"
    },
    "tags": []
   },
   "outputs": [],
   "source": [
    "from fairness_multiverse.universe import UniverseAnalysis\n",
    "\n",
    "universe_analysis = UniverseAnalysis(\n",
    "    run_no = run_no,\n",
    "    universe_id = universe_id,\n",
    "    universe = universe,\n",
    "    output_dir=output_dir,\n",
    ")"
   ]
  },
  {
   "cell_type": "code",
   "execution_count": 8,
   "id": "106241f5",
   "metadata": {
    "execution": {
     "iopub.execute_input": "2025-07-30T14:12:14.850139Z",
     "iopub.status.busy": "2025-07-30T14:12:14.849490Z",
     "iopub.status.idle": "2025-07-30T14:12:14.857048Z",
     "shell.execute_reply": "2025-07-30T14:12:14.856276Z"
    },
    "papermill": {
     "duration": 0.022217,
     "end_time": "2025-07-30T14:12:14.858427",
     "exception": false,
     "start_time": "2025-07-30T14:12:14.836210",
     "status": "completed"
    },
    "tags": []
   },
   "outputs": [
    {
     "name": "stdout",
     "output_type": "stream",
     "text": [
      "Using Seed: 2023\n"
     ]
    }
   ],
   "source": [
    "import numpy as np\n",
    "parsed_seed = int(seed)\n",
    "np.random.seed(parsed_seed)\n",
    "print(f\"Using Seed: {parsed_seed}\")"
   ]
  },
  {
   "cell_type": "markdown",
   "id": "e0ebdc57",
   "metadata": {
    "papermill": {
     "duration": 0.011289,
     "end_time": "2025-07-30T14:12:14.881405",
     "exception": false,
     "start_time": "2025-07-30T14:12:14.870116",
     "status": "completed"
    },
    "tags": []
   },
   "source": [
    "# Loading Data"
   ]
  },
  {
   "cell_type": "markdown",
   "id": "681925a3",
   "metadata": {
    "papermill": {
     "duration": 0.010939,
     "end_time": "2025-07-30T14:12:14.906178",
     "exception": false,
     "start_time": "2025-07-30T14:12:14.895239",
     "status": "completed"
    },
    "tags": []
   },
   "source": [
    "Load siab_train, siab_test, siab_calib and/or \n",
    "load siab_train_features, siab_train_labels"
   ]
  },
  {
   "cell_type": "code",
   "execution_count": 9,
   "id": "f0496b8a",
   "metadata": {
    "execution": {
     "iopub.execute_input": "2025-07-30T14:12:14.928892Z",
     "iopub.status.busy": "2025-07-30T14:12:14.928544Z",
     "iopub.status.idle": "2025-07-30T14:12:26.792048Z",
     "shell.execute_reply": "2025-07-30T14:12:26.790882Z"
    },
    "papermill": {
     "duration": 11.876894,
     "end_time": "2025-07-30T14:12:26.793628",
     "exception": false,
     "start_time": "2025-07-30T14:12:14.916734",
     "status": "completed"
    },
    "tags": []
   },
   "outputs": [
    {
     "name": "stdout",
     "output_type": "stream",
     "text": [
      "Loading SIAB data from cache: data/siab_cached.csv.gz\n"
     ]
    },
    {
     "name": "stdout",
     "output_type": "stream",
     "text": [
      "(643690, 164)\n"
     ]
    }
   ],
   "source": [
    "from pathlib import Path\n",
    "import pandas as pd\n",
    "\n",
    "# File paths\n",
    "raw_file = Path(\"data/raw/siab.csv\")\n",
    "cache_file = Path(\"data/siab_cached.csv.gz\")\n",
    "\n",
    "# Ensure cache directory exists\n",
    "cache_file.parent.mkdir(parents=True, exist_ok=True)\n",
    "\n",
    "# Load with simple caching\n",
    "if cache_file.exists():\n",
    "    print(f\"Loading SIAB data from cache: {cache_file}\")\n",
    "    siab = pd.read_csv(cache_file, compression='gzip')\n",
    "else:\n",
    "    print(f\"Cache not found. Reading raw SIAB data: {raw_file}\")\n",
    "    siab = pd.read_csv(raw_file)\n",
    "    siab.to_csv(cache_file, index=False, compression='gzip')\n",
    "    print(f\"Cached SIAB data to: {cache_file}\")\n",
    "\n",
    "# Now use `siab` DataFrame as needed\n",
    "print(siab.shape)"
   ]
  },
  {
   "cell_type": "code",
   "execution_count": 10,
   "id": "db0ca512-5f53-4dba-abdb-a2888bca41ba",
   "metadata": {
    "execution": {
     "iopub.execute_input": "2025-07-30T14:12:26.839297Z",
     "iopub.status.busy": "2025-07-30T14:12:26.838780Z",
     "iopub.status.idle": "2025-07-30T14:12:26.844219Z",
     "shell.execute_reply": "2025-07-30T14:12:26.843365Z"
    },
    "papermill": {
     "duration": 0.037982,
     "end_time": "2025-07-30T14:12:26.854311",
     "exception": false,
     "start_time": "2025-07-30T14:12:26.816329",
     "status": "completed"
    },
    "tags": []
   },
   "outputs": [],
   "source": [
    "#siab"
   ]
  },
  {
   "cell_type": "code",
   "execution_count": 11,
   "id": "a0edb063",
   "metadata": {
    "execution": {
     "iopub.execute_input": "2025-07-30T14:12:26.897973Z",
     "iopub.status.busy": "2025-07-30T14:12:26.897520Z",
     "iopub.status.idle": "2025-07-30T14:12:26.902509Z",
     "shell.execute_reply": "2025-07-30T14:12:26.901643Z"
    },
    "papermill": {
     "duration": 0.028716,
     "end_time": "2025-07-30T14:12:26.904125",
     "exception": false,
     "start_time": "2025-07-30T14:12:26.875409",
     "status": "completed"
    },
    "tags": []
   },
   "outputs": [],
   "source": [
    "#import pandas as pd\n",
    "#\n",
    "#X_train = pd.read_csv(\"./data/X_train.csv\")\n",
    "#y_train = pd.read_csv(\"./data/y_train.csv\")"
   ]
  },
  {
   "cell_type": "code",
   "execution_count": 12,
   "id": "63d08085",
   "metadata": {
    "execution": {
     "iopub.execute_input": "2025-07-30T14:12:26.946305Z",
     "iopub.status.busy": "2025-07-30T14:12:26.945495Z",
     "iopub.status.idle": "2025-07-30T14:12:26.950925Z",
     "shell.execute_reply": "2025-07-30T14:12:26.949846Z"
    },
    "papermill": {
     "duration": 0.028026,
     "end_time": "2025-07-30T14:12:26.952571",
     "exception": false,
     "start_time": "2025-07-30T14:12:26.924545",
     "status": "completed"
    },
    "tags": []
   },
   "outputs": [],
   "source": [
    "#X_test = pd.read_csv(\"./data/X_test.csv\")\n",
    "#y_true = pd.read_csv(\"./data/y_test.csv\")"
   ]
  },
  {
   "cell_type": "code",
   "execution_count": 13,
   "id": "98a8d0fa-1d3d-4ed8-bb2c-281470e24add",
   "metadata": {
    "execution": {
     "iopub.execute_input": "2025-07-30T14:12:26.996790Z",
     "iopub.status.busy": "2025-07-30T14:12:26.996027Z",
     "iopub.status.idle": "2025-07-30T14:12:27.003954Z",
     "shell.execute_reply": "2025-07-30T14:12:27.002797Z"
    },
    "papermill": {
     "duration": 0.033263,
     "end_time": "2025-07-30T14:12:27.007236",
     "exception": false,
     "start_time": "2025-07-30T14:12:26.973973",
     "status": "completed"
    },
    "tags": []
   },
   "outputs": [],
   "source": [
    "# Calibration data for conformal\n",
    "#X_calib = pd.read_csv(\"./data/X_calib.csv\")\n",
    "#y_calib = pd.read_csv(\"./data/y_calib.csv\")"
   ]
  },
  {
   "cell_type": "markdown",
   "id": "997051c5-15bd-4b69-9786-c3001a3ce484",
   "metadata": {
    "papermill": {
     "duration": 0.019824,
     "end_time": "2025-07-30T14:12:27.049314",
     "exception": false,
     "start_time": "2025-07-30T14:12:27.029490",
     "status": "completed"
    },
    "tags": []
   },
   "source": [
    "# Splitting Data and Setting Training Data Size"
   ]
  },
  {
   "cell_type": "code",
   "execution_count": 14,
   "id": "e993b61f-042d-41a6-8c81-f55681f86335",
   "metadata": {
    "execution": {
     "iopub.execute_input": "2025-07-30T14:12:27.089104Z",
     "iopub.status.busy": "2025-07-30T14:12:27.088649Z",
     "iopub.status.idle": "2025-07-30T14:12:27.101225Z",
     "shell.execute_reply": "2025-07-30T14:12:27.100409Z"
    },
    "papermill": {
     "duration": 0.034424,
     "end_time": "2025-07-30T14:12:27.102762",
     "exception": false,
     "start_time": "2025-07-30T14:12:27.068338",
     "status": "completed"
    },
    "tags": []
   },
   "outputs": [],
   "source": [
    "def sample_by_year_size(df,\n",
    "                        training_year: str,\n",
    "                        training_size: str,\n",
    "                        random_state: int = 42):\n",
    "    # --- parse training_year into a list of int years ---\n",
    "    if \"_\" in training_year:\n",
    "        start_str, end_str = training_year.split(\"_\", 1)\n",
    "        start = int(start_str)\n",
    "        end   = int(end_str) if len(end_str) == 4 else (int(end_str) + (start // 100)*100)\n",
    "        years = list(range(start, end + 1))\n",
    "    else:\n",
    "        years = [int(training_year)]\n",
    "\n",
    "    df = df[df[\"year\"].isin(years)].reset_index(drop=True)\n",
    "\n",
    "    # --- map training_size to total number of samples ---\n",
    "    total_map = {\"25k\": 25_000, \"5k\": 5_000, \"1k\": 1_000}\n",
    "    if training_size not in total_map:\n",
    "        return df  # e.g. \"all\"\n",
    "\n",
    "    total_samples = total_map[training_size]\n",
    "    n_years       = len(years)\n",
    "    base          = total_samples // n_years\n",
    "    remainder     = total_samples % n_years\n",
    "\n",
    "    # --- build a dict: year -> how many to sample ---\n",
    "    # give +1 to the first `remainder` years in ascending order\n",
    "    quotas = {\n",
    "        year: base + (1 if idx < remainder else 0)\n",
    "        for idx, year in enumerate(sorted(years))\n",
    "    }\n",
    "\n",
    "    # --- sample per‐year according to the quota dict ---\n",
    "    sampled = (\n",
    "        df\n",
    "        .groupby(\"year\", group_keys=False)\n",
    "        .apply(lambda grp: grp.sample(\n",
    "            n=min(len(grp), quotas[grp.name]),\n",
    "            random_state=random_state))\n",
    "        .reset_index(drop=True)\n",
    "    )\n",
    "\n",
    "    return sampled"
   ]
  },
  {
   "cell_type": "code",
   "execution_count": 15,
   "id": "c0ccd338-0e02-41f3-a09d-f56f9266e3fb",
   "metadata": {
    "execution": {
     "iopub.execute_input": "2025-07-30T14:12:27.144809Z",
     "iopub.status.busy": "2025-07-30T14:12:27.144157Z",
     "iopub.status.idle": "2025-07-30T14:12:27.155103Z",
     "shell.execute_reply": "2025-07-30T14:12:27.154250Z"
    },
    "papermill": {
     "duration": 0.033269,
     "end_time": "2025-07-30T14:12:27.156980",
     "exception": false,
     "start_time": "2025-07-30T14:12:27.123711",
     "status": "completed"
    },
    "tags": []
   },
   "outputs": [
    {
     "data": {
      "text/plain": [
       "'5k'"
      ]
     },
     "execution_count": 15,
     "metadata": {},
     "output_type": "execute_result"
    }
   ],
   "source": [
    "universe[\"training_size\"]"
   ]
  },
  {
   "cell_type": "code",
   "execution_count": 16,
   "id": "ca707fd7-8047-4acd-bfa5-66248fbbf8e6",
   "metadata": {
    "execution": {
     "iopub.execute_input": "2025-07-30T14:12:27.197818Z",
     "iopub.status.busy": "2025-07-30T14:12:27.197151Z",
     "iopub.status.idle": "2025-07-30T14:12:27.204511Z",
     "shell.execute_reply": "2025-07-30T14:12:27.203625Z"
    },
    "papermill": {
     "duration": 0.02898,
     "end_time": "2025-07-30T14:12:27.206173",
     "exception": false,
     "start_time": "2025-07-30T14:12:27.177193",
     "status": "completed"
    },
    "tags": []
   },
   "outputs": [
    {
     "data": {
      "text/plain": [
       "'2010_14'"
      ]
     },
     "execution_count": 16,
     "metadata": {},
     "output_type": "execute_result"
    }
   ],
   "source": [
    "universe[\"training_year\"]"
   ]
  },
  {
   "cell_type": "code",
   "execution_count": 17,
   "id": "aea9c6ef-6f46-42c8-85eb-5a62025c1508",
   "metadata": {
    "execution": {
     "iopub.execute_input": "2025-07-30T14:12:27.248692Z",
     "iopub.status.busy": "2025-07-30T14:12:27.248088Z",
     "iopub.status.idle": "2025-07-30T14:12:28.258482Z",
     "shell.execute_reply": "2025-07-30T14:12:28.257721Z"
    },
    "papermill": {
     "duration": 1.03271,
     "end_time": "2025-07-30T14:12:28.259904",
     "exception": false,
     "start_time": "2025-07-30T14:12:27.227194",
     "status": "completed"
    },
    "tags": []
   },
   "outputs": [],
   "source": [
    "siab_train = sample_by_year_size(siab,\n",
    "                               training_year=universe[\"training_year\"],\n",
    "                               training_size=universe[\"training_size\"])"
   ]
  },
  {
   "cell_type": "code",
   "execution_count": 18,
   "id": "8d3afb32-789d-442c-8d5d-9f5aa8dd2eed",
   "metadata": {
    "execution": {
     "iopub.execute_input": "2025-07-30T14:12:28.283752Z",
     "iopub.status.busy": "2025-07-30T14:12:28.283251Z",
     "iopub.status.idle": "2025-07-30T14:12:28.289467Z",
     "shell.execute_reply": "2025-07-30T14:12:28.288800Z"
    },
    "papermill": {
     "duration": 0.019528,
     "end_time": "2025-07-30T14:12:28.290786",
     "exception": false,
     "start_time": "2025-07-30T14:12:28.271258",
     "status": "completed"
    },
    "tags": []
   },
   "outputs": [
    {
     "data": {
      "text/plain": [
       "(5000, 164)"
      ]
     },
     "execution_count": 18,
     "metadata": {},
     "output_type": "execute_result"
    }
   ],
   "source": [
    "siab_train.shape"
   ]
  },
  {
   "cell_type": "code",
   "execution_count": 19,
   "id": "d582db68-1a4c-47fb-84fc-08518dc1975a",
   "metadata": {
    "execution": {
     "iopub.execute_input": "2025-07-30T14:12:28.315083Z",
     "iopub.status.busy": "2025-07-30T14:12:28.314582Z",
     "iopub.status.idle": "2025-07-30T14:12:28.322681Z",
     "shell.execute_reply": "2025-07-30T14:12:28.321936Z"
    },
    "papermill": {
     "duration": 0.021139,
     "end_time": "2025-07-30T14:12:28.323978",
     "exception": false,
     "start_time": "2025-07-30T14:12:28.302839",
     "status": "completed"
    },
    "tags": []
   },
   "outputs": [
    {
     "data": {
      "text/plain": [
       "year\n",
       "2010    1000\n",
       "2011    1000\n",
       "2012    1000\n",
       "2013    1000\n",
       "2014    1000\n",
       "dtype: int64"
      ]
     },
     "metadata": {},
     "output_type": "display_data"
    }
   ],
   "source": [
    "display(siab_train.groupby(\"year\").size())"
   ]
  },
  {
   "cell_type": "code",
   "execution_count": 20,
   "id": "a561edb4-d032-42cb-8256-22eac1111c64",
   "metadata": {
    "execution": {
     "iopub.execute_input": "2025-07-30T14:12:28.349870Z",
     "iopub.status.busy": "2025-07-30T14:12:28.349365Z",
     "iopub.status.idle": "2025-07-30T14:12:28.585031Z",
     "shell.execute_reply": "2025-07-30T14:12:28.584082Z"
    },
    "papermill": {
     "duration": 0.250127,
     "end_time": "2025-07-30T14:12:28.586603",
     "exception": false,
     "start_time": "2025-07-30T14:12:28.336476",
     "status": "completed"
    },
    "tags": []
   },
   "outputs": [],
   "source": [
    "#siab_train = siab_s[siab_s.year < 2015]\n",
    "siab_calib = siab[siab.year == 2015]\n",
    "siab_test = siab[siab.year == 2016]"
   ]
  },
  {
   "cell_type": "code",
   "execution_count": 21,
   "id": "472de16f-c3db-4916-846b-1f0de9cf1746",
   "metadata": {
    "execution": {
     "iopub.execute_input": "2025-07-30T14:12:28.627572Z",
     "iopub.status.busy": "2025-07-30T14:12:28.627157Z",
     "iopub.status.idle": "2025-07-30T14:12:28.635045Z",
     "shell.execute_reply": "2025-07-30T14:12:28.634171Z"
    },
    "papermill": {
     "duration": 0.027852,
     "end_time": "2025-07-30T14:12:28.636471",
     "exception": false,
     "start_time": "2025-07-30T14:12:28.608619",
     "status": "completed"
    },
    "tags": []
   },
   "outputs": [],
   "source": [
    "X_train = siab_train.iloc[:,4:164]\n",
    "y_train = siab_train.iloc[:, [3]]"
   ]
  },
  {
   "cell_type": "code",
   "execution_count": 22,
   "id": "828c96af-f43a-4ed6-ba47-8ac73a47d56c",
   "metadata": {
    "execution": {
     "iopub.execute_input": "2025-07-30T14:12:28.662207Z",
     "iopub.status.busy": "2025-07-30T14:12:28.661701Z",
     "iopub.status.idle": "2025-07-30T14:12:28.715313Z",
     "shell.execute_reply": "2025-07-30T14:12:28.714235Z"
    },
    "papermill": {
     "duration": 0.068266,
     "end_time": "2025-07-30T14:12:28.717117",
     "exception": false,
     "start_time": "2025-07-30T14:12:28.648851",
     "status": "completed"
    },
    "tags": []
   },
   "outputs": [],
   "source": [
    "X_calib = siab_calib.iloc[:,4:164]\n",
    "y_calib = siab_calib.iloc[:, [3]]"
   ]
  },
  {
   "cell_type": "code",
   "execution_count": 23,
   "id": "c34be9c3-6bd6-476e-acd3-845840e303be",
   "metadata": {
    "execution": {
     "iopub.execute_input": "2025-07-30T14:12:28.765346Z",
     "iopub.status.busy": "2025-07-30T14:12:28.764767Z",
     "iopub.status.idle": "2025-07-30T14:12:28.820336Z",
     "shell.execute_reply": "2025-07-30T14:12:28.819314Z"
    },
    "papermill": {
     "duration": 0.080438,
     "end_time": "2025-07-30T14:12:28.821927",
     "exception": false,
     "start_time": "2025-07-30T14:12:28.741489",
     "status": "completed"
    },
    "tags": []
   },
   "outputs": [],
   "source": [
    "X_test = siab_test.iloc[:,4:164]\n",
    "y_true = siab_test.iloc[:, [3]]"
   ]
  },
  {
   "cell_type": "markdown",
   "id": "9901737e-04df-44f0-9100-f5ad144ed040",
   "metadata": {
    "papermill": {
     "duration": 0.02419,
     "end_time": "2025-07-30T14:12:28.866897",
     "exception": false,
     "start_time": "2025-07-30T14:12:28.842707",
     "status": "completed"
    },
    "tags": []
   },
   "source": [
    "# Splitting Data and Setting Training Data Size OLD VERSION"
   ]
  },
  {
   "cell_type": "code",
   "execution_count": 24,
   "id": "acbc8f7d-8fc8-4e86-8c59-5dcb0f58384b",
   "metadata": {
    "execution": {
     "iopub.execute_input": "2025-07-30T14:12:28.907712Z",
     "iopub.status.busy": "2025-07-30T14:12:28.907268Z",
     "iopub.status.idle": "2025-07-30T14:12:28.912769Z",
     "shell.execute_reply": "2025-07-30T14:12:28.911879Z"
    },
    "papermill": {
     "duration": 0.02764,
     "end_time": "2025-07-30T14:12:28.914588",
     "exception": false,
     "start_time": "2025-07-30T14:12:28.886948",
     "status": "completed"
    },
    "tags": []
   },
   "outputs": [],
   "source": [
    "#def sample_by_year(df, training_size, random_state=42):\n",
    "#    if training_size == \"2014\":\n",
    "#        return df[df[\"year\"] == 2014].reset_index(drop=True)\n",
    "#    \n",
    "#    size_map = {\n",
    "#        \"25k\": 5000,\n",
    "#        \"5k\": 1000,\n",
    "#        \"1k\": 200\n",
    "#    }\n",
    "#\n",
    "#    if training_size not in size_map:\n",
    "#        return df.reset_index(drop=True)  # use all data\n",
    "#\n",
    "#    n_per_year = size_map[training_size]\n",
    "#    grouped = df.groupby(\"year\")\n",
    "#    sampled = grouped.apply(lambda x: x.sample(n=min(n_per_year, len(x)), random_state=random_state))\n",
    "#    return sampled.reset_index(drop=True)"
   ]
  },
  {
   "cell_type": "code",
   "execution_count": 25,
   "id": "6d931f52-beaf-43ff-9e78-9d44a448d54e",
   "metadata": {
    "execution": {
     "iopub.execute_input": "2025-07-30T14:12:28.955682Z",
     "iopub.status.busy": "2025-07-30T14:12:28.955130Z",
     "iopub.status.idle": "2025-07-30T14:12:28.959859Z",
     "shell.execute_reply": "2025-07-30T14:12:28.959126Z"
    },
    "papermill": {
     "duration": 0.02284,
     "end_time": "2025-07-30T14:12:28.961550",
     "exception": false,
     "start_time": "2025-07-30T14:12:28.938710",
     "status": "completed"
    },
    "tags": []
   },
   "outputs": [],
   "source": [
    "#siab_s = sample_by_year(siab, universe[\"training_size\"])"
   ]
  },
  {
   "cell_type": "code",
   "execution_count": 26,
   "id": "5db0a40e-a4e2-4920-be85-b12ae061d70d",
   "metadata": {
    "execution": {
     "iopub.execute_input": "2025-07-30T14:12:29.021569Z",
     "iopub.status.busy": "2025-07-30T14:12:29.020936Z",
     "iopub.status.idle": "2025-07-30T14:12:29.027054Z",
     "shell.execute_reply": "2025-07-30T14:12:29.025974Z"
    },
    "papermill": {
     "duration": 0.038679,
     "end_time": "2025-07-30T14:12:29.029057",
     "exception": false,
     "start_time": "2025-07-30T14:12:28.990378",
     "status": "completed"
    },
    "tags": []
   },
   "outputs": [],
   "source": [
    "#display(siab_s.groupby(\"year\").size())"
   ]
  },
  {
   "cell_type": "code",
   "execution_count": 27,
   "id": "e6c733c5",
   "metadata": {
    "execution": {
     "iopub.execute_input": "2025-07-30T14:12:29.089369Z",
     "iopub.status.busy": "2025-07-30T14:12:29.088894Z",
     "iopub.status.idle": "2025-07-30T14:12:29.187076Z",
     "shell.execute_reply": "2025-07-30T14:12:29.186206Z"
    },
    "papermill": {
     "duration": 0.130168,
     "end_time": "2025-07-30T14:12:29.189254",
     "exception": false,
     "start_time": "2025-07-30T14:12:29.059086",
     "status": "completed"
    },
    "tags": []
   },
   "outputs": [],
   "source": [
    "# Auxiliary data needed downstream in the pipeline\n",
    "\n",
    "org_train = X_train.copy()\n",
    "org_test = X_test.copy()\n",
    "org_calib = X_calib.copy()"
   ]
  },
  {
   "cell_type": "code",
   "execution_count": 28,
   "id": "1466abac-c6da-4492-a62f-4240ae3783af",
   "metadata": {
    "execution": {
     "iopub.execute_input": "2025-07-30T14:12:29.271664Z",
     "iopub.status.busy": "2025-07-30T14:12:29.271144Z",
     "iopub.status.idle": "2025-07-30T14:12:29.277569Z",
     "shell.execute_reply": "2025-07-30T14:12:29.276475Z"
    },
    "papermill": {
     "duration": 0.037915,
     "end_time": "2025-07-30T14:12:29.279348",
     "exception": false,
     "start_time": "2025-07-30T14:12:29.241433",
     "status": "completed"
    },
    "tags": []
   },
   "outputs": [],
   "source": [
    "# put in other script?\n",
    "# Group sizes\n",
    "\n",
    "#def calculate_percentages(df, df_name):\n",
    "#    total_entries = len(df)\n",
    "#\n",
    "#    female_pct = (df['frau1'] == 1).mean() * 100\n",
    "#    non_german_pct = ((df['maxdeutsch1'] == 0) & (df['maxdeutsch.Missing.'] == 0)).mean() * 100\n",
    "#    non_german_male_pct = ((df['frau1'] == 0) & (df['maxdeutsch1'] == 0) & (df['maxdeutsch.Missing.'] == 0)).mean() * 100\n",
    "#    non_german_female_pct = ((df['frau1'] == 1) & (df['maxdeutsch1'] == 0) & (df['maxdeutsch.Missing.'] == 0)).mean() * 100\n",
    "#\n",
    "#    print(f\"--- {df_name} ---\")\n",
    "#    print(f\"Female: {female_pct:.2f}%\")\n",
    "#    print(f\"Non-German: {non_german_pct:.2f}%\")\n",
    "#    print(f\"Non-German Male: {non_german_male_pct:.2f}%\")\n",
    "#    print(f\"Non-German Female: {non_german_female_pct:.2f}%\\n\")\n",
    "#\n",
    "## Calculate for each DataFrame\n",
    "#calculate_percentages(siab_calib, \"siab_calib\")\n",
    "#calculate_percentages(siab_test, \"siab_test\")\n",
    "#calculate_percentages(siab_train, \"siab_train\")"
   ]
  },
  {
   "cell_type": "markdown",
   "id": "0a4a1b33",
   "metadata": {
    "papermill": {
     "duration": 0.021613,
     "end_time": "2025-07-30T14:12:29.324234",
     "exception": false,
     "start_time": "2025-07-30T14:12:29.302621",
     "status": "completed"
    },
    "tags": []
   },
   "source": [
    "# Preprocessing Data"
   ]
  },
  {
   "cell_type": "code",
   "execution_count": 29,
   "id": "ca879031",
   "metadata": {
    "execution": {
     "iopub.execute_input": "2025-07-30T14:12:29.369793Z",
     "iopub.status.busy": "2025-07-30T14:12:29.369274Z",
     "iopub.status.idle": "2025-07-30T14:12:29.375622Z",
     "shell.execute_reply": "2025-07-30T14:12:29.374696Z"
    },
    "papermill": {
     "duration": 0.031117,
     "end_time": "2025-07-30T14:12:29.377330",
     "exception": false,
     "start_time": "2025-07-30T14:12:29.346213",
     "status": "completed"
    },
    "tags": []
   },
   "outputs": [],
   "source": [
    "# EXCLUDE PROTECTED FEATURES\n",
    "# ----------------------\n",
    "# \"exclude_features\": \"none\", # \"nationality\", \"sex\", \"nationality-sex\"\n",
    "\n",
    "excluded_features = universe[\"exclude_features\"].split(\"-\") # split, e.g.: \"nationality-sex\" -> [\"nationality\", \"sex\"]\n",
    "excluded_features_dictionary = {\n",
    "    \"nationality\": [\"maxdeutsch1\", \"maxdeutsch.Missing.\"],\n",
    "    \"sex\": [\"frau1\"],\n",
    "    \"age\": [\"age\"],\n",
    "}\n"
   ]
  },
  {
   "cell_type": "code",
   "execution_count": 30,
   "id": "b745ac60",
   "metadata": {
    "execution": {
     "iopub.execute_input": "2025-07-30T14:12:29.421185Z",
     "iopub.status.busy": "2025-07-30T14:12:29.420854Z",
     "iopub.status.idle": "2025-07-30T14:12:29.425183Z",
     "shell.execute_reply": "2025-07-30T14:12:29.424400Z"
    },
    "papermill": {
     "duration": 0.027959,
     "end_time": "2025-07-30T14:12:29.426981",
     "exception": false,
     "start_time": "2025-07-30T14:12:29.399022",
     "status": "completed"
    },
    "tags": []
   },
   "outputs": [],
   "source": [
    "# Code nice names to column names\n",
    "\n",
    "excluded_features_columns = [\n",
    "    excluded_features_dictionary[f] for f in excluded_features if len(f) > 0 and f != \"none\"\n",
    "]"
   ]
  },
  {
   "cell_type": "code",
   "execution_count": 31,
   "id": "f84f73a2",
   "metadata": {
    "execution": {
     "iopub.execute_input": "2025-07-30T14:12:29.471049Z",
     "iopub.status.busy": "2025-07-30T14:12:29.470283Z",
     "iopub.status.idle": "2025-07-30T14:12:29.477143Z",
     "shell.execute_reply": "2025-07-30T14:12:29.476199Z"
    },
    "papermill": {
     "duration": 0.030545,
     "end_time": "2025-07-30T14:12:29.478791",
     "exception": false,
     "start_time": "2025-07-30T14:12:29.448246",
     "status": "completed"
    },
    "tags": []
   },
   "outputs": [],
   "source": [
    "from utils import flatten_once\n",
    "\n",
    "excluded_features_columns = flatten_once(excluded_features_columns)"
   ]
  },
  {
   "cell_type": "code",
   "execution_count": 32,
   "id": "884dea22",
   "metadata": {
    "execution": {
     "iopub.execute_input": "2025-07-30T14:12:29.524659Z",
     "iopub.status.busy": "2025-07-30T14:12:29.524158Z",
     "iopub.status.idle": "2025-07-30T14:12:29.533917Z",
     "shell.execute_reply": "2025-07-30T14:12:29.532673Z"
    },
    "papermill": {
     "duration": 0.034639,
     "end_time": "2025-07-30T14:12:29.535588",
     "exception": false,
     "start_time": "2025-07-30T14:12:29.500949",
     "status": "completed"
    },
    "tags": []
   },
   "outputs": [
    {
     "name": "stdout",
     "output_type": "stream",
     "text": [
      "Dropping features: ['maxdeutsch1', 'maxdeutsch.Missing.', 'frau1']\n"
     ]
    }
   ],
   "source": [
    "if len(excluded_features_columns) > 0:\n",
    "    print(f\"Dropping features: {excluded_features_columns}\")\n",
    "    X_train.drop(excluded_features_columns, axis=1, inplace=True)"
   ]
  },
  {
   "cell_type": "code",
   "execution_count": 33,
   "id": "95ab8b16",
   "metadata": {
    "execution": {
     "iopub.execute_input": "2025-07-30T14:12:29.582074Z",
     "iopub.status.busy": "2025-07-30T14:12:29.581582Z",
     "iopub.status.idle": "2025-07-30T14:12:29.653629Z",
     "shell.execute_reply": "2025-07-30T14:12:29.652571Z"
    },
    "papermill": {
     "duration": 0.09586,
     "end_time": "2025-07-30T14:12:29.655455",
     "exception": false,
     "start_time": "2025-07-30T14:12:29.559595",
     "status": "completed"
    },
    "tags": []
   },
   "outputs": [
    {
     "name": "stdout",
     "output_type": "stream",
     "text": [
      "Dropping features: ['maxdeutsch1', 'maxdeutsch.Missing.', 'frau1']\n"
     ]
    }
   ],
   "source": [
    "if len(excluded_features_columns) > 0:\n",
    "    print(f\"Dropping features: {excluded_features_columns}\")\n",
    "    X_test.drop(excluded_features_columns, axis=1, inplace=True)"
   ]
  },
  {
   "cell_type": "code",
   "execution_count": 34,
   "id": "1853aaf5-fb9f-46cb-a2b5-8ea4ae2237e4",
   "metadata": {
    "execution": {
     "iopub.execute_input": "2025-07-30T14:12:29.706003Z",
     "iopub.status.busy": "2025-07-30T14:12:29.705301Z",
     "iopub.status.idle": "2025-07-30T14:12:29.753545Z",
     "shell.execute_reply": "2025-07-30T14:12:29.752369Z"
    },
    "papermill": {
     "duration": 0.07495,
     "end_time": "2025-07-30T14:12:29.754936",
     "exception": false,
     "start_time": "2025-07-30T14:12:29.679986",
     "status": "completed"
    },
    "tags": []
   },
   "outputs": [
    {
     "name": "stdout",
     "output_type": "stream",
     "text": [
      "Dropping features: ['maxdeutsch1', 'maxdeutsch.Missing.', 'frau1']\n"
     ]
    }
   ],
   "source": [
    "if len(excluded_features_columns) > 0:\n",
    "    print(f\"Dropping features: {excluded_features_columns}\")\n",
    "    X_calib.drop(excluded_features_columns, axis=1, inplace=True)"
   ]
  },
  {
   "cell_type": "code",
   "execution_count": 35,
   "id": "6727d079-03e5-481e-9d38-292a90b7a0a8",
   "metadata": {
    "execution": {
     "iopub.execute_input": "2025-07-30T14:12:29.782541Z",
     "iopub.status.busy": "2025-07-30T14:12:29.781949Z",
     "iopub.status.idle": "2025-07-30T14:12:29.796909Z",
     "shell.execute_reply": "2025-07-30T14:12:29.796027Z"
    },
    "papermill": {
     "duration": 0.029605,
     "end_time": "2025-07-30T14:12:29.798434",
     "exception": false,
     "start_time": "2025-07-30T14:12:29.768829",
     "status": "completed"
    },
    "tags": []
   },
   "outputs": [],
   "source": [
    "# SPLIT & STRATIFY DATA\n",
    "# ----------------------"
   ]
  },
  {
   "cell_type": "code",
   "execution_count": 36,
   "id": "76c4dc6d",
   "metadata": {
    "execution": {
     "iopub.execute_input": "2025-07-30T14:12:29.827536Z",
     "iopub.status.busy": "2025-07-30T14:12:29.827042Z",
     "iopub.status.idle": "2025-07-30T14:12:29.831764Z",
     "shell.execute_reply": "2025-07-30T14:12:29.831043Z"
    },
    "papermill": {
     "duration": 0.018808,
     "end_time": "2025-07-30T14:12:29.832996",
     "exception": false,
     "start_time": "2025-07-30T14:12:29.814188",
     "status": "completed"
    },
    "tags": []
   },
   "outputs": [],
   "source": [
    "# EXCLUDE CERTAIN SUBGROUPS\n",
    "# ----------------------\n",
    "\n",
    "mode = universe.get(\"exclude_subgroups\", \"keep-all\") \n",
    "# Fetches the exclude_subgroups setting from the universe dict.\n",
    "# Defaults to \"keep-all\" if the key is missing."
   ]
  },
  {
   "cell_type": "code",
   "execution_count": 37,
   "id": "21994072",
   "metadata": {
    "execution": {
     "iopub.execute_input": "2025-07-30T14:12:29.871545Z",
     "iopub.status.busy": "2025-07-30T14:12:29.871108Z",
     "iopub.status.idle": "2025-07-30T14:12:29.877690Z",
     "shell.execute_reply": "2025-07-30T14:12:29.876673Z"
    },
    "papermill": {
     "duration": 0.033954,
     "end_time": "2025-07-30T14:12:29.879304",
     "exception": false,
     "start_time": "2025-07-30T14:12:29.845350",
     "status": "completed"
    },
    "tags": []
   },
   "outputs": [],
   "source": [
    "if mode == \"keep-all\":\n",
    "    keep_mask = pd.Series(True, index=org_train.index)\n",
    "\n",
    "# org_train contains the original feature columns from features_org (in Simson)\n",
    "# features_org contains unprocessed features, for me X_train at beginning ???\n",
    "# For keep-all, creates a boolean Series (keep_mask) of all True, so no rows are removed.\n",
    "\n",
    "elif mode == \"drop-non-german\":\n",
    "    keep_mask = org_train[\"maxdeutsch1\"] == 1 # ??? what about missing values?\n",
    "\n",
    "else:\n",
    "    raise ValueError(f\"Unsupported mode for exclude_subgroups: {mode}\")\n"
   ]
  },
  {
   "cell_type": "code",
   "execution_count": 38,
   "id": "71651440",
   "metadata": {
    "execution": {
     "iopub.execute_input": "2025-07-30T14:12:29.927376Z",
     "iopub.status.busy": "2025-07-30T14:12:29.926886Z",
     "iopub.status.idle": "2025-07-30T14:12:29.934094Z",
     "shell.execute_reply": "2025-07-30T14:12:29.933112Z"
    },
    "papermill": {
     "duration": 0.034038,
     "end_time": "2025-07-30T14:12:29.935649",
     "exception": false,
     "start_time": "2025-07-30T14:12:29.901611",
     "status": "completed"
    },
    "tags": []
   },
   "outputs": [
    {
     "name": "stdout",
     "output_type": "stream",
     "text": [
      "Dropping 657 rows (13.14%) where mode='drop-non-german'\n"
     ]
    }
   ],
   "source": [
    "n_drop = (~keep_mask).sum() # Calculates how many rows are set to be dropped\n",
    "if n_drop > 0:\n",
    "    pct = n_drop / len(keep_mask) * 100\n",
    "    print(f\"Dropping {n_drop} rows ({pct:.2f}%) where mode='{mode}'\")"
   ]
  },
  {
   "cell_type": "code",
   "execution_count": 39,
   "id": "5fb8eee5",
   "metadata": {
    "execution": {
     "iopub.execute_input": "2025-07-30T14:12:29.983005Z",
     "iopub.status.busy": "2025-07-30T14:12:29.982115Z",
     "iopub.status.idle": "2025-07-30T14:12:29.989704Z",
     "shell.execute_reply": "2025-07-30T14:12:29.988748Z"
    },
    "papermill": {
     "duration": 0.032613,
     "end_time": "2025-07-30T14:12:29.991264",
     "exception": false,
     "start_time": "2025-07-30T14:12:29.958651",
     "status": "completed"
    },
    "tags": []
   },
   "outputs": [],
   "source": [
    "X_train = X_train[keep_mask]"
   ]
  },
  {
   "cell_type": "code",
   "execution_count": 40,
   "id": "b202bb3a",
   "metadata": {
    "execution": {
     "iopub.execute_input": "2025-07-30T14:12:30.040182Z",
     "iopub.status.busy": "2025-07-30T14:12:30.039672Z",
     "iopub.status.idle": "2025-07-30T14:12:30.045530Z",
     "shell.execute_reply": "2025-07-30T14:12:30.044714Z"
    },
    "papermill": {
     "duration": 0.032032,
     "end_time": "2025-07-30T14:12:30.047320",
     "exception": false,
     "start_time": "2025-07-30T14:12:30.015288",
     "status": "completed"
    },
    "tags": []
   },
   "outputs": [],
   "source": [
    "y_train = y_train[keep_mask]"
   ]
  },
  {
   "cell_type": "markdown",
   "id": "493e2ac3",
   "metadata": {
    "papermill": {
     "duration": 0.021445,
     "end_time": "2025-07-30T14:12:30.092264",
     "exception": false,
     "start_time": "2025-07-30T14:12:30.070819",
     "status": "completed"
    },
    "tags": []
   },
   "source": [
    "# Model Training"
   ]
  },
  {
   "cell_type": "code",
   "execution_count": 41,
   "id": "679e1268",
   "metadata": {
    "execution": {
     "iopub.execute_input": "2025-07-30T14:12:30.138185Z",
     "iopub.status.busy": "2025-07-30T14:12:30.137718Z",
     "iopub.status.idle": "2025-07-30T14:12:30.241704Z",
     "shell.execute_reply": "2025-07-30T14:12:30.240740Z"
    },
    "papermill": {
     "duration": 0.129259,
     "end_time": "2025-07-30T14:12:30.243581",
     "exception": false,
     "start_time": "2025-07-30T14:12:30.114322",
     "status": "completed"
    },
    "tags": []
   },
   "outputs": [],
   "source": [
    "from sklearn.linear_model import LogisticRegression\n",
    "from sklearn.ensemble import GradientBoostingClassifier, RandomForestClassifier\n",
    "\n",
    "if (universe[\"model\"] == \"logreg\"):\n",
    "    model = LogisticRegression() #penalty=\"none\") #, solver=\"newton-cg\", max_iter=1) # include random_state=19 ?\n",
    "elif (universe[\"model\"] == \"penalized_logreg\"):\n",
    "    model = LogisticRegression(penalty=\"l2\", C=1.0) #, solver=\"newton-cg\", max_iter=1)\n",
    "elif (universe[\"model\"] == \"rf\"):\n",
    "    model = RandomForestClassifier(n_estimators=100, n_jobs=-1)\n",
    "elif (universe[\"model\"] == \"gbm\"):\n",
    "    model = GradientBoostingClassifier()\n",
    "elif (universe[\"model\"] == \"elasticnet\"):\n",
    "    model = LogisticRegression(penalty = 'elasticnet', solver = 'saga', l1_ratio = 0.5, max_iter=5000) # which solver to use?\n",
    "else:\n",
    "    raise \"Unsupported universe.model\""
   ]
  },
  {
   "cell_type": "code",
   "execution_count": 42,
   "id": "0cc8f744",
   "metadata": {
    "execution": {
     "iopub.execute_input": "2025-07-30T14:12:30.292742Z",
     "iopub.status.busy": "2025-07-30T14:12:30.292353Z",
     "iopub.status.idle": "2025-07-30T14:12:30.298150Z",
     "shell.execute_reply": "2025-07-30T14:12:30.297476Z"
    },
    "papermill": {
     "duration": 0.03312,
     "end_time": "2025-07-30T14:12:30.299448",
     "exception": false,
     "start_time": "2025-07-30T14:12:30.266328",
     "status": "completed"
    },
    "tags": []
   },
   "outputs": [],
   "source": [
    "import numpy as np\n",
    "from sklearn.pipeline import Pipeline\n",
    "from sklearn.preprocessing import StandardScaler\n",
    "\n",
    "model = Pipeline([\n",
    "    #(\"continuous_processor\", continuous_processor),\n",
    "    #(\"categorical_preprocessor\", categorical_preprocessor),\n",
    "    (\"scale\", StandardScaler() if universe[\"scale\"] == \"scale\" else None), \n",
    "    (\"model\", model),\n",
    "])"
   ]
  },
  {
   "cell_type": "code",
   "execution_count": 43,
   "id": "9442c04d",
   "metadata": {
    "execution": {
     "iopub.execute_input": "2025-07-30T14:12:30.331406Z",
     "iopub.status.busy": "2025-07-30T14:12:30.330938Z",
     "iopub.status.idle": "2025-07-30T14:12:30.446107Z",
     "shell.execute_reply": "2025-07-30T14:12:30.444953Z"
    },
    "papermill": {
     "duration": 0.135117,
     "end_time": "2025-07-30T14:12:30.448068",
     "exception": false,
     "start_time": "2025-07-30T14:12:30.312951",
     "status": "completed"
    },
    "tags": []
   },
   "outputs": [
    {
     "name": "stderr",
     "output_type": "stream",
     "text": [
      "/dss/dsshome1/0C/ra93lal2/.local/share/virtualenvs/CMA_Fairness_v2-3j10GkSs/lib/python3.10/site-packages/sklearn/linear_model/_logistic.py:444: ConvergenceWarning: lbfgs failed to converge (status=1):\n",
      "STOP: TOTAL NO. of ITERATIONS REACHED LIMIT.\n",
      "\n",
      "Increase the number of iterations (max_iter) or scale the data as shown in:\n",
      "    https://scikit-learn.org/stable/modules/preprocessing.html\n",
      "Please also refer to the documentation for alternative solver options:\n",
      "    https://scikit-learn.org/stable/modules/linear_model.html#logistic-regression\n",
      "  n_iter_i = _check_optimize_result(\n"
     ]
    },
    {
     "data": {
      "text/html": [
       "<style>#sk-container-id-1 {color: black;background-color: white;}#sk-container-id-1 pre{padding: 0;}#sk-container-id-1 div.sk-toggleable {background-color: white;}#sk-container-id-1 label.sk-toggleable__label {cursor: pointer;display: block;width: 100%;margin-bottom: 0;padding: 0.3em;box-sizing: border-box;text-align: center;}#sk-container-id-1 label.sk-toggleable__label-arrow:before {content: \"▸\";float: left;margin-right: 0.25em;color: #696969;}#sk-container-id-1 label.sk-toggleable__label-arrow:hover:before {color: black;}#sk-container-id-1 div.sk-estimator:hover label.sk-toggleable__label-arrow:before {color: black;}#sk-container-id-1 div.sk-toggleable__content {max-height: 0;max-width: 0;overflow: hidden;text-align: left;background-color: #f0f8ff;}#sk-container-id-1 div.sk-toggleable__content pre {margin: 0.2em;color: black;border-radius: 0.25em;background-color: #f0f8ff;}#sk-container-id-1 input.sk-toggleable__control:checked~div.sk-toggleable__content {max-height: 200px;max-width: 100%;overflow: auto;}#sk-container-id-1 input.sk-toggleable__control:checked~label.sk-toggleable__label-arrow:before {content: \"▾\";}#sk-container-id-1 div.sk-estimator input.sk-toggleable__control:checked~label.sk-toggleable__label {background-color: #d4ebff;}#sk-container-id-1 div.sk-label input.sk-toggleable__control:checked~label.sk-toggleable__label {background-color: #d4ebff;}#sk-container-id-1 input.sk-hidden--visually {border: 0;clip: rect(1px 1px 1px 1px);clip: rect(1px, 1px, 1px, 1px);height: 1px;margin: -1px;overflow: hidden;padding: 0;position: absolute;width: 1px;}#sk-container-id-1 div.sk-estimator {font-family: monospace;background-color: #f0f8ff;border: 1px dotted black;border-radius: 0.25em;box-sizing: border-box;margin-bottom: 0.5em;}#sk-container-id-1 div.sk-estimator:hover {background-color: #d4ebff;}#sk-container-id-1 div.sk-parallel-item::after {content: \"\";width: 100%;border-bottom: 1px solid gray;flex-grow: 1;}#sk-container-id-1 div.sk-label:hover label.sk-toggleable__label {background-color: #d4ebff;}#sk-container-id-1 div.sk-serial::before {content: \"\";position: absolute;border-left: 1px solid gray;box-sizing: border-box;top: 0;bottom: 0;left: 50%;z-index: 0;}#sk-container-id-1 div.sk-serial {display: flex;flex-direction: column;align-items: center;background-color: white;padding-right: 0.2em;padding-left: 0.2em;position: relative;}#sk-container-id-1 div.sk-item {position: relative;z-index: 1;}#sk-container-id-1 div.sk-parallel {display: flex;align-items: stretch;justify-content: center;background-color: white;position: relative;}#sk-container-id-1 div.sk-item::before, #sk-container-id-1 div.sk-parallel-item::before {content: \"\";position: absolute;border-left: 1px solid gray;box-sizing: border-box;top: 0;bottom: 0;left: 50%;z-index: -1;}#sk-container-id-1 div.sk-parallel-item {display: flex;flex-direction: column;z-index: 1;position: relative;background-color: white;}#sk-container-id-1 div.sk-parallel-item:first-child::after {align-self: flex-end;width: 50%;}#sk-container-id-1 div.sk-parallel-item:last-child::after {align-self: flex-start;width: 50%;}#sk-container-id-1 div.sk-parallel-item:only-child::after {width: 0;}#sk-container-id-1 div.sk-dashed-wrapped {border: 1px dashed gray;margin: 0 0.4em 0.5em 0.4em;box-sizing: border-box;padding-bottom: 0.4em;background-color: white;}#sk-container-id-1 div.sk-label label {font-family: monospace;font-weight: bold;display: inline-block;line-height: 1.2em;}#sk-container-id-1 div.sk-label-container {text-align: center;}#sk-container-id-1 div.sk-container {/* jupyter's `normalize.less` sets `[hidden] { display: none; }` but bootstrap.min.css set `[hidden] { display: none !important; }` so we also need the `!important` here to be able to override the default hidden behavior on the sphinx rendered scikit-learn.org. See: https://github.com/scikit-learn/scikit-learn/issues/21755 */display: inline-block !important;position: relative;}#sk-container-id-1 div.sk-text-repr-fallback {display: none;}</style><div id=\"sk-container-id-1\" class=\"sk-top-container\"><div class=\"sk-text-repr-fallback\"><pre>Pipeline(steps=[(&#x27;scale&#x27;, None), (&#x27;model&#x27;, LogisticRegression())])</pre><b>In a Jupyter environment, please rerun this cell to show the HTML representation or trust the notebook. <br />On GitHub, the HTML representation is unable to render, please try loading this page with nbviewer.org.</b></div><div class=\"sk-container\" hidden><div class=\"sk-item sk-dashed-wrapped\"><div class=\"sk-label-container\"><div class=\"sk-label sk-toggleable\"><input class=\"sk-toggleable__control sk-hidden--visually\" id=\"sk-estimator-id-1\" type=\"checkbox\" ><label for=\"sk-estimator-id-1\" class=\"sk-toggleable__label sk-toggleable__label-arrow\">Pipeline</label><div class=\"sk-toggleable__content\"><pre>Pipeline(steps=[(&#x27;scale&#x27;, None), (&#x27;model&#x27;, LogisticRegression())])</pre></div></div></div><div class=\"sk-serial\"><div class=\"sk-item\"><div class=\"sk-estimator sk-toggleable\"><input class=\"sk-toggleable__control sk-hidden--visually\" id=\"sk-estimator-id-2\" type=\"checkbox\" ><label for=\"sk-estimator-id-2\" class=\"sk-toggleable__label sk-toggleable__label-arrow\">None</label><div class=\"sk-toggleable__content\"><pre>None</pre></div></div></div><div class=\"sk-item\"><div class=\"sk-estimator sk-toggleable\"><input class=\"sk-toggleable__control sk-hidden--visually\" id=\"sk-estimator-id-3\" type=\"checkbox\" ><label for=\"sk-estimator-id-3\" class=\"sk-toggleable__label sk-toggleable__label-arrow\">LogisticRegression</label><div class=\"sk-toggleable__content\"><pre>LogisticRegression()</pre></div></div></div></div></div></div></div>"
      ],
      "text/plain": [
       "Pipeline(steps=[('scale', None), ('model', LogisticRegression())])"
      ]
     },
     "execution_count": 43,
     "metadata": {},
     "output_type": "execute_result"
    }
   ],
   "source": [
    "model.fit(X_train, y_train.values.ravel())"
   ]
  },
  {
   "cell_type": "code",
   "execution_count": 44,
   "id": "af59f8c0",
   "metadata": {
    "execution": {
     "iopub.execute_input": "2025-07-30T14:12:30.503210Z",
     "iopub.status.busy": "2025-07-30T14:12:30.502762Z",
     "iopub.status.idle": "2025-07-30T14:12:30.509198Z",
     "shell.execute_reply": "2025-07-30T14:12:30.508143Z"
    },
    "papermill": {
     "duration": 0.03216,
     "end_time": "2025-07-30T14:12:30.510553",
     "exception": false,
     "start_time": "2025-07-30T14:12:30.478393",
     "status": "completed"
    },
    "tags": []
   },
   "outputs": [],
   "source": [
    "from fairness_multiverse.universe import predict_w_threshold"
   ]
  },
  {
   "cell_type": "code",
   "execution_count": 45,
   "id": "a7cf2e16",
   "metadata": {
    "execution": {
     "iopub.execute_input": "2025-07-30T14:12:30.562678Z",
     "iopub.status.busy": "2025-07-30T14:12:30.562369Z",
     "iopub.status.idle": "2025-07-30T14:12:30.658302Z",
     "shell.execute_reply": "2025-07-30T14:12:30.657427Z"
    },
    "papermill": {
     "duration": 0.124079,
     "end_time": "2025-07-30T14:12:30.659894",
     "exception": false,
     "start_time": "2025-07-30T14:12:30.535815",
     "status": "completed"
    },
    "tags": []
   },
   "outputs": [
    {
     "data": {
      "text/plain": [
       "0.8609965444209118"
      ]
     },
     "execution_count": 45,
     "metadata": {},
     "output_type": "execute_result"
    }
   ],
   "source": [
    "probs_test = model.predict_proba(X_test)\n",
    "\n",
    "'''\n",
    "Below code returns a boolean array (or binary 0/1 array depending on how it’s used) where each element \n",
    "is True if the probability of class 1 is greater than or equal to the threshold, and False otherwise.\n",
    "'''\n",
    "y_pred_default = predict_w_threshold(probs_test, 0.5)\n",
    "\n",
    "from sklearn.metrics import accuracy_score\n",
    "\n",
    "# Naive prediction\n",
    "accuracy_score(y_true = y_true, y_pred = y_pred_default)"
   ]
  },
  {
   "cell_type": "code",
   "execution_count": 46,
   "id": "081964c3",
   "metadata": {
    "execution": {
     "iopub.execute_input": "2025-07-30T14:12:30.711785Z",
     "iopub.status.busy": "2025-07-30T14:12:30.711205Z",
     "iopub.status.idle": "2025-07-30T14:12:30.801054Z",
     "shell.execute_reply": "2025-07-30T14:12:30.800086Z"
    },
    "papermill": {
     "duration": 0.114548,
     "end_time": "2025-07-30T14:12:30.802749",
     "exception": false,
     "start_time": "2025-07-30T14:12:30.688201",
     "status": "completed"
    },
    "tags": []
   },
   "outputs": [
    {
     "data": {
      "text/plain": [
       "array([0, 0, 0, ..., 0, 0, 0])"
      ]
     },
     "execution_count": 46,
     "metadata": {},
     "output_type": "execute_result"
    }
   ],
   "source": [
    "model.predict(X_test)"
   ]
  },
  {
   "cell_type": "markdown",
   "id": "56c9705b",
   "metadata": {
    "papermill": {
     "duration": 0.015134,
     "end_time": "2025-07-30T14:12:30.844158",
     "exception": false,
     "start_time": "2025-07-30T14:12:30.829024",
     "status": "completed"
    },
    "tags": []
   },
   "source": [
    "# Conformal Prediction"
   ]
  },
  {
   "cell_type": "code",
   "execution_count": 47,
   "id": "160ec6ff",
   "metadata": {
    "execution": {
     "iopub.execute_input": "2025-07-30T14:12:30.871267Z",
     "iopub.status.busy": "2025-07-30T14:12:30.870884Z",
     "iopub.status.idle": "2025-07-30T14:12:30.875960Z",
     "shell.execute_reply": "2025-07-30T14:12:30.875267Z"
    },
    "papermill": {
     "duration": 0.020839,
     "end_time": "2025-07-30T14:12:30.877799",
     "exception": false,
     "start_time": "2025-07-30T14:12:30.856960",
     "status": "completed"
    },
    "tags": []
   },
   "outputs": [],
   "source": [
    "# Miscoverage level for conformal prediction (10% allowed error rate => 90% target coverage)\n",
    "alpha = 0.1"
   ]
  },
  {
   "cell_type": "code",
   "execution_count": 48,
   "id": "eadf4555-3dd3-440e-8e35-f82a4ad9f855",
   "metadata": {
    "execution": {
     "iopub.execute_input": "2025-07-30T14:12:30.920590Z",
     "iopub.status.busy": "2025-07-30T14:12:30.920088Z",
     "iopub.status.idle": "2025-07-30T14:12:31.001172Z",
     "shell.execute_reply": "2025-07-30T14:12:31.000177Z"
    },
    "papermill": {
     "duration": 0.110667,
     "end_time": "2025-07-30T14:12:31.003167",
     "exception": false,
     "start_time": "2025-07-30T14:12:30.892500",
     "status": "completed"
    },
    "tags": []
   },
   "outputs": [],
   "source": [
    "probs_calib = model.predict_proba(X_calib)"
   ]
  },
  {
   "cell_type": "code",
   "execution_count": 49,
   "id": "2ed93547-6d5d-4983-9b36-1ecb300da49a",
   "metadata": {
    "execution": {
     "iopub.execute_input": "2025-07-30T14:12:31.052945Z",
     "iopub.status.busy": "2025-07-30T14:12:31.052510Z",
     "iopub.status.idle": "2025-07-30T14:12:31.058089Z",
     "shell.execute_reply": "2025-07-30T14:12:31.057045Z"
    },
    "papermill": {
     "duration": 0.030998,
     "end_time": "2025-07-30T14:12:31.059971",
     "exception": false,
     "start_time": "2025-07-30T14:12:31.028973",
     "status": "completed"
    },
    "tags": []
   },
   "outputs": [],
   "source": [
    "y_calib = y_calib.values.ravel().astype(int)"
   ]
  },
  {
   "cell_type": "code",
   "execution_count": 50,
   "id": "65d1320d-f588-4b38-9072-62af1ae97f7d",
   "metadata": {
    "execution": {
     "iopub.execute_input": "2025-07-30T14:12:31.112023Z",
     "iopub.status.busy": "2025-07-30T14:12:31.111128Z",
     "iopub.status.idle": "2025-07-30T14:12:31.120286Z",
     "shell.execute_reply": "2025-07-30T14:12:31.119282Z"
    },
    "papermill": {
     "duration": 0.035688,
     "end_time": "2025-07-30T14:12:31.122072",
     "exception": false,
     "start_time": "2025-07-30T14:12:31.086384",
     "status": "completed"
    },
    "tags": []
   },
   "outputs": [],
   "source": [
    "from fairness_multiverse.conformal import compute_nc_scores\n",
    "\n",
    "# Compute nonconformity scores on calibration set (1 - probability of true class)\n",
    "nc_scores = compute_nc_scores(probs_calib, y_calib)"
   ]
  },
  {
   "cell_type": "code",
   "execution_count": 51,
   "id": "df3b8ca3-53b7-43d5-9667-7c85da7aeda2",
   "metadata": {
    "execution": {
     "iopub.execute_input": "2025-07-30T14:12:31.185534Z",
     "iopub.status.busy": "2025-07-30T14:12:31.184947Z",
     "iopub.status.idle": "2025-07-30T14:12:31.192306Z",
     "shell.execute_reply": "2025-07-30T14:12:31.191273Z"
    },
    "papermill": {
     "duration": 0.042765,
     "end_time": "2025-07-30T14:12:31.194328",
     "exception": false,
     "start_time": "2025-07-30T14:12:31.151563",
     "status": "completed"
    },
    "tags": []
   },
   "outputs": [],
   "source": [
    "from fairness_multiverse.conformal import find_threshold\n",
    "\n",
    "# Find conformal threshold q_hat for the given alpha (split conformal method)\n",
    "q_hat = find_threshold(nc_scores, alpha)"
   ]
  },
  {
   "cell_type": "code",
   "execution_count": 52,
   "id": "4d29e6c1-0ef6-4aa4-b8fe-4fe79b0d033a",
   "metadata": {
    "execution": {
     "iopub.execute_input": "2025-07-30T14:12:31.252763Z",
     "iopub.status.busy": "2025-07-30T14:12:31.251911Z",
     "iopub.status.idle": "2025-07-30T14:12:31.259055Z",
     "shell.execute_reply": "2025-07-30T14:12:31.258119Z"
    },
    "papermill": {
     "duration": 0.035847,
     "end_time": "2025-07-30T14:12:31.260617",
     "exception": false,
     "start_time": "2025-07-30T14:12:31.224770",
     "status": "completed"
    },
    "tags": []
   },
   "outputs": [
    {
     "data": {
      "text/plain": [
       "0.6749912393154968"
      ]
     },
     "execution_count": 52,
     "metadata": {},
     "output_type": "execute_result"
    }
   ],
   "source": [
    "q_hat"
   ]
  },
  {
   "cell_type": "code",
   "execution_count": 53,
   "id": "92460794-cdac-4be2-ba28-f28c0515a6fb",
   "metadata": {
    "execution": {
     "iopub.execute_input": "2025-07-30T14:12:31.305328Z",
     "iopub.status.busy": "2025-07-30T14:12:31.304878Z",
     "iopub.status.idle": "2025-07-30T14:12:31.967848Z",
     "shell.execute_reply": "2025-07-30T14:12:31.966932Z"
    },
    "papermill": {
     "duration": 0.682582,
     "end_time": "2025-07-30T14:12:31.969501",
     "exception": false,
     "start_time": "2025-07-30T14:12:31.286919",
     "status": "completed"
    },
    "tags": []
   },
   "outputs": [],
   "source": [
    "from fairness_multiverse.conformal import predict_conformal_sets\n",
    "\n",
    "# Generate prediction sets for each test example\n",
    "pred_sets = predict_conformal_sets(model, X_test, q_hat)"
   ]
  },
  {
   "cell_type": "code",
   "execution_count": 54,
   "id": "d90c9a65-e6db-4f5d-80cd-e68fb7e46829",
   "metadata": {
    "execution": {
     "iopub.execute_input": "2025-07-30T14:12:32.021559Z",
     "iopub.status.busy": "2025-07-30T14:12:32.021111Z",
     "iopub.status.idle": "2025-07-30T14:12:32.026424Z",
     "shell.execute_reply": "2025-07-30T14:12:32.025596Z"
    },
    "papermill": {
     "duration": 0.03332,
     "end_time": "2025-07-30T14:12:32.027778",
     "exception": false,
     "start_time": "2025-07-30T14:12:31.994458",
     "status": "completed"
    },
    "tags": []
   },
   "outputs": [],
   "source": [
    "y_true = y_true.squeeze()"
   ]
  },
  {
   "cell_type": "code",
   "execution_count": 55,
   "id": "3a58a54a-1e68-46b9-927a-df01f18aebc8",
   "metadata": {
    "execution": {
     "iopub.execute_input": "2025-07-30T14:12:32.080563Z",
     "iopub.status.busy": "2025-07-30T14:12:32.080155Z",
     "iopub.status.idle": "2025-07-30T14:12:32.925205Z",
     "shell.execute_reply": "2025-07-30T14:12:32.924279Z"
    },
    "papermill": {
     "duration": 0.873799,
     "end_time": "2025-07-30T14:12:32.926964",
     "exception": false,
     "start_time": "2025-07-30T14:12:32.053165",
     "status": "completed"
    },
    "tags": []
   },
   "outputs": [],
   "source": [
    "from fairness_multiverse.conformal import evaluate_sets\n",
    "\n",
    "# Evaluate coverage and average set size on test data\n",
    "metrics = evaluate_sets(pred_sets, y_true)"
   ]
  },
  {
   "cell_type": "markdown",
   "id": "2b569c12-9aaa-4c88-98c9-bbcd0cf3ebb8",
   "metadata": {
    "papermill": {
     "duration": 0.0237,
     "end_time": "2025-07-30T14:12:32.980762",
     "exception": false,
     "start_time": "2025-07-30T14:12:32.957062",
     "status": "completed"
    },
    "tags": []
   },
   "source": [
    "# CP Metrics"
   ]
  },
  {
   "cell_type": "code",
   "execution_count": 56,
   "id": "5ce0a5cb-201f-45a0-ade5-94c7f0bd6095",
   "metadata": {
    "execution": {
     "iopub.execute_input": "2025-07-30T14:12:33.033980Z",
     "iopub.status.busy": "2025-07-30T14:12:33.033487Z",
     "iopub.status.idle": "2025-07-30T14:12:33.040489Z",
     "shell.execute_reply": "2025-07-30T14:12:33.039529Z"
    },
    "papermill": {
     "duration": 0.03745,
     "end_time": "2025-07-30T14:12:33.041986",
     "exception": false,
     "start_time": "2025-07-30T14:12:33.004536",
     "status": "completed"
    },
    "tags": []
   },
   "outputs": [
    {
     "data": {
      "text/plain": [
       "{'coverage': 0.9128748188607736, 'avg_size': 1.222661910600825}"
      ]
     },
     "execution_count": 56,
     "metadata": {},
     "output_type": "execute_result"
    }
   ],
   "source": [
    "metrics"
   ]
  },
  {
   "cell_type": "code",
   "execution_count": 57,
   "id": "9b9a838d-31c9-430b-ae14-12baee460d17",
   "metadata": {
    "execution": {
     "iopub.execute_input": "2025-07-30T14:12:33.090601Z",
     "iopub.status.busy": "2025-07-30T14:12:33.090114Z",
     "iopub.status.idle": "2025-07-30T14:12:33.096764Z",
     "shell.execute_reply": "2025-07-30T14:12:33.095819Z"
    },
    "papermill": {
     "duration": 0.032716,
     "end_time": "2025-07-30T14:12:33.098400",
     "exception": false,
     "start_time": "2025-07-30T14:12:33.065684",
     "status": "completed"
    },
    "tags": []
   },
   "outputs": [],
   "source": [
    "example_universe = universe.copy()\n",
    "universe_training_size = example_universe.get(\"training_size\")\n",
    "universe_scale = example_universe.get(\"scale\")\n",
    "universe_model = example_universe.get(\"model\")\n",
    "universe_exclude_features = example_universe.get(\"exclude_features\")\n",
    "universe_exclude_subgroups = example_universe.get(\"exclude_subgroups\")"
   ]
  },
  {
   "cell_type": "code",
   "execution_count": 58,
   "id": "f4b6a8ac-9dc0-4245-8a91-5b3b5999c4f9",
   "metadata": {
    "execution": {
     "iopub.execute_input": "2025-07-30T14:12:33.149155Z",
     "iopub.status.busy": "2025-07-30T14:12:33.148289Z",
     "iopub.status.idle": "2025-07-30T14:12:33.154857Z",
     "shell.execute_reply": "2025-07-30T14:12:33.154017Z"
    },
    "papermill": {
     "duration": 0.03264,
     "end_time": "2025-07-30T14:12:33.156519",
     "exception": false,
     "start_time": "2025-07-30T14:12:33.123879",
     "status": "completed"
    },
    "tags": []
   },
   "outputs": [],
   "source": [
    "cp_metrics_dict = {\n",
    "    \"universe_id\": [universe_id],\n",
    "    \"universe_training_size\": [universe_training_size],\n",
    "    \"universe_scale\": [universe_scale],\n",
    "    \"universe_model\": [universe_model],\n",
    "    \"universe_exclude_features\": [universe_exclude_features],\n",
    "    \"universe_exclude_subgroups\": [universe_exclude_subgroups],\n",
    "    \"q_hat\": [q_hat],\n",
    "    \"coverage\": [metrics[\"coverage\"]],\n",
    "    \"avg_size\": [metrics[\"avg_size\"]],\n",
    "}"
   ]
  },
  {
   "cell_type": "code",
   "execution_count": 59,
   "id": "908acbb1-0371-4915-85ca-3fa520d2efe2",
   "metadata": {
    "execution": {
     "iopub.execute_input": "2025-07-30T14:12:33.206113Z",
     "iopub.status.busy": "2025-07-30T14:12:33.205479Z",
     "iopub.status.idle": "2025-07-30T14:12:33.217350Z",
     "shell.execute_reply": "2025-07-30T14:12:33.216354Z"
    },
    "papermill": {
     "duration": 0.03802,
     "end_time": "2025-07-30T14:12:33.219070",
     "exception": false,
     "start_time": "2025-07-30T14:12:33.181050",
     "status": "completed"
    },
    "tags": []
   },
   "outputs": [
    {
     "data": {
      "text/plain": [
       "{'universe_id': ['20375702cf166e0ceb02bed128a0c9df'],\n",
       " 'universe_training_size': ['5k'],\n",
       " 'universe_scale': ['do-not-scale'],\n",
       " 'universe_model': ['logreg'],\n",
       " 'universe_exclude_features': ['nationality-sex'],\n",
       " 'universe_exclude_subgroups': ['drop-non-german'],\n",
       " 'q_hat': [0.6749912393154968],\n",
       " 'coverage': [0.9128748188607736],\n",
       " 'avg_size': [1.222661910600825]}"
      ]
     },
     "execution_count": 59,
     "metadata": {},
     "output_type": "execute_result"
    }
   ],
   "source": [
    "cp_metrics_dict"
   ]
  },
  {
   "cell_type": "code",
   "execution_count": 60,
   "id": "33007efc-14e9-4ec6-97ac-56a455c82265",
   "metadata": {
    "execution": {
     "iopub.execute_input": "2025-07-30T14:12:33.267441Z",
     "iopub.status.busy": "2025-07-30T14:12:33.267134Z",
     "iopub.status.idle": "2025-07-30T14:12:33.271862Z",
     "shell.execute_reply": "2025-07-30T14:12:33.271209Z"
    },
    "papermill": {
     "duration": 0.030233,
     "end_time": "2025-07-30T14:12:33.273436",
     "exception": false,
     "start_time": "2025-07-30T14:12:33.243203",
     "status": "completed"
    },
    "tags": []
   },
   "outputs": [],
   "source": [
    "cp_metrics_df = pd.DataFrame(cp_metrics_dict)"
   ]
  },
  {
   "cell_type": "code",
   "execution_count": 61,
   "id": "db12611b-57b2-4910-b9d0-355adfd6e7bf",
   "metadata": {
    "execution": {
     "iopub.execute_input": "2025-07-30T14:12:33.322622Z",
     "iopub.status.busy": "2025-07-30T14:12:33.322001Z",
     "iopub.status.idle": "2025-07-30T14:12:33.341161Z",
     "shell.execute_reply": "2025-07-30T14:12:33.338602Z"
    },
    "papermill": {
     "duration": 0.044722,
     "end_time": "2025-07-30T14:12:33.342658",
     "exception": false,
     "start_time": "2025-07-30T14:12:33.297936",
     "status": "completed"
    },
    "tags": []
   },
   "outputs": [
    {
     "data": {
      "text/html": [
       "<div>\n",
       "<style scoped>\n",
       "    .dataframe tbody tr th:only-of-type {\n",
       "        vertical-align: middle;\n",
       "    }\n",
       "\n",
       "    .dataframe tbody tr th {\n",
       "        vertical-align: top;\n",
       "    }\n",
       "\n",
       "    .dataframe thead th {\n",
       "        text-align: right;\n",
       "    }\n",
       "</style>\n",
       "<table border=\"1\" class=\"dataframe\">\n",
       "  <thead>\n",
       "    <tr style=\"text-align: right;\">\n",
       "      <th></th>\n",
       "      <th>universe_id</th>\n",
       "      <th>universe_training_size</th>\n",
       "      <th>universe_scale</th>\n",
       "      <th>universe_model</th>\n",
       "      <th>universe_exclude_features</th>\n",
       "      <th>universe_exclude_subgroups</th>\n",
       "      <th>q_hat</th>\n",
       "      <th>coverage</th>\n",
       "      <th>avg_size</th>\n",
       "    </tr>\n",
       "  </thead>\n",
       "  <tbody>\n",
       "    <tr>\n",
       "      <th>0</th>\n",
       "      <td>20375702cf166e0ceb02bed128a0c9df</td>\n",
       "      <td>5k</td>\n",
       "      <td>do-not-scale</td>\n",
       "      <td>logreg</td>\n",
       "      <td>nationality-sex</td>\n",
       "      <td>drop-non-german</td>\n",
       "      <td>0.674991</td>\n",
       "      <td>0.912875</td>\n",
       "      <td>1.222662</td>\n",
       "    </tr>\n",
       "  </tbody>\n",
       "</table>\n",
       "</div>"
      ],
      "text/plain": [
       "                        universe_id universe_training_size universe_scale  \\\n",
       "0  20375702cf166e0ceb02bed128a0c9df                     5k   do-not-scale   \n",
       "\n",
       "  universe_model universe_exclude_features universe_exclude_subgroups  \\\n",
       "0         logreg           nationality-sex            drop-non-german   \n",
       "\n",
       "      q_hat  coverage  avg_size  \n",
       "0  0.674991  0.912875  1.222662  "
      ]
     },
     "execution_count": 61,
     "metadata": {},
     "output_type": "execute_result"
    }
   ],
   "source": [
    "cp_metrics_df"
   ]
  },
  {
   "cell_type": "code",
   "execution_count": 62,
   "id": "b7fbde55-a0a1-47e4-9af6-fe4a17fa8c61",
   "metadata": {
    "execution": {
     "iopub.execute_input": "2025-07-30T14:12:33.392107Z",
     "iopub.status.busy": "2025-07-30T14:12:33.391536Z",
     "iopub.status.idle": "2025-07-30T14:12:33.396100Z",
     "shell.execute_reply": "2025-07-30T14:12:33.395048Z"
    },
    "papermill": {
     "duration": 0.030538,
     "end_time": "2025-07-30T14:12:33.397968",
     "exception": false,
     "start_time": "2025-07-30T14:12:33.367430",
     "status": "completed"
    },
    "tags": []
   },
   "outputs": [],
   "source": [
    "# Conditional Coverage & looking at subgroups"
   ]
  },
  {
   "cell_type": "code",
   "execution_count": 63,
   "id": "027ae886-68dd-4141-96c7-805a5450e1ef",
   "metadata": {
    "execution": {
     "iopub.execute_input": "2025-07-30T14:12:33.449594Z",
     "iopub.status.busy": "2025-07-30T14:12:33.448946Z",
     "iopub.status.idle": "2025-07-30T14:12:33.689611Z",
     "shell.execute_reply": "2025-07-30T14:12:33.688498Z"
    },
    "papermill": {
     "duration": 0.267677,
     "end_time": "2025-07-30T14:12:33.691507",
     "exception": false,
     "start_time": "2025-07-30T14:12:33.423830",
     "status": "completed"
    },
    "tags": []
   },
   "outputs": [],
   "source": [
    "from fairness_multiverse.conformal import build_cp_groups\n",
    "\n",
    "cp_groups_df = build_cp_groups(pred_sets, y_true, X_test.index, org_test)\n",
    "#needs universe_id and setting"
   ]
  },
  {
   "cell_type": "code",
   "execution_count": 64,
   "id": "01d5802c-663a-4d1f-9d69-e036faaffbf7",
   "metadata": {
    "execution": {
     "iopub.execute_input": "2025-07-30T14:12:33.742016Z",
     "iopub.status.busy": "2025-07-30T14:12:33.741417Z",
     "iopub.status.idle": "2025-07-30T14:12:33.746114Z",
     "shell.execute_reply": "2025-07-30T14:12:33.745110Z"
    },
    "papermill": {
     "duration": 0.031608,
     "end_time": "2025-07-30T14:12:33.747820",
     "exception": false,
     "start_time": "2025-07-30T14:12:33.716212",
     "status": "completed"
    },
    "tags": []
   },
   "outputs": [],
   "source": [
    "#delete\n",
    "#cp_groups_df"
   ]
  },
  {
   "cell_type": "code",
   "execution_count": 65,
   "id": "fa424af1-d1eb-443d-b717-2d279ada8408",
   "metadata": {
    "execution": {
     "iopub.execute_input": "2025-07-30T14:12:33.798388Z",
     "iopub.status.busy": "2025-07-30T14:12:33.797708Z",
     "iopub.status.idle": "2025-07-30T14:12:33.803231Z",
     "shell.execute_reply": "2025-07-30T14:12:33.802036Z"
    },
    "papermill": {
     "duration": 0.032905,
     "end_time": "2025-07-30T14:12:33.804983",
     "exception": false,
     "start_time": "2025-07-30T14:12:33.772078",
     "status": "completed"
    },
    "tags": []
   },
   "outputs": [],
   "source": [
    "#delete\n",
    "#percentage = (cp_groups_df['nongerman_female'] == 1).mean() * 100\n",
    "#print(percentage)\n"
   ]
  },
  {
   "cell_type": "code",
   "execution_count": 66,
   "id": "6cbdab96-b2b2-45af-ad54-d0516db2e28d",
   "metadata": {
    "execution": {
     "iopub.execute_input": "2025-07-30T14:12:33.855618Z",
     "iopub.status.busy": "2025-07-30T14:12:33.855064Z",
     "iopub.status.idle": "2025-07-30T14:12:35.265564Z",
     "shell.execute_reply": "2025-07-30T14:12:35.264502Z"
    },
    "papermill": {
     "duration": 1.437834,
     "end_time": "2025-07-30T14:12:35.267505",
     "exception": false,
     "start_time": "2025-07-30T14:12:33.829671",
     "status": "completed"
    },
    "tags": []
   },
   "outputs": [],
   "source": [
    "# Define covered = 1 if true_label is in the predicted set\n",
    "cp_groups_df['covered'] = cp_groups_df.apply(\n",
    "    lambda r: int(r['true_label'] in r['pred_set']),\n",
    "    axis=1\n",
    ")"
   ]
  },
  {
   "cell_type": "code",
   "execution_count": 67,
   "id": "338ff529-1a6b-4b87-a931-8e4788d52aad",
   "metadata": {
    "execution": {
     "iopub.execute_input": "2025-07-30T14:12:35.330806Z",
     "iopub.status.busy": "2025-07-30T14:12:35.329946Z",
     "iopub.status.idle": "2025-07-30T14:12:35.335380Z",
     "shell.execute_reply": "2025-07-30T14:12:35.334465Z"
    },
    "papermill": {
     "duration": 0.03852,
     "end_time": "2025-07-30T14:12:35.336985",
     "exception": false,
     "start_time": "2025-07-30T14:12:35.298465",
     "status": "completed"
    },
    "tags": []
   },
   "outputs": [],
   "source": [
    "#cp_groups_df"
   ]
  },
  {
   "cell_type": "code",
   "execution_count": 68,
   "id": "90032e27-66df-4540-9169-4e89cfbaa758",
   "metadata": {
    "execution": {
     "iopub.execute_input": "2025-07-30T14:12:35.394842Z",
     "iopub.status.busy": "2025-07-30T14:12:35.394103Z",
     "iopub.status.idle": "2025-07-30T14:12:35.406284Z",
     "shell.execute_reply": "2025-07-30T14:12:35.405293Z"
    },
    "papermill": {
     "duration": 0.042644,
     "end_time": "2025-07-30T14:12:35.408130",
     "exception": false,
     "start_time": "2025-07-30T14:12:35.365486",
     "status": "completed"
    },
    "tags": []
   },
   "outputs": [],
   "source": [
    "subgroups = ['frau1','nongerman','nongerman_male','nongerman_female']\n",
    "\n",
    "# Conditional coverage for subgroup==1\n",
    "cond_coverage = {\n",
    "    g: cp_groups_df.loc[cp_groups_df[g]==1, 'covered'].mean()\n",
    "    for g in subgroups\n",
    "}"
   ]
  },
  {
   "cell_type": "code",
   "execution_count": 69,
   "id": "1e348fb1-b9c3-45bc-ba23-f016827a7e0d",
   "metadata": {
    "execution": {
     "iopub.execute_input": "2025-07-30T14:12:35.468691Z",
     "iopub.status.busy": "2025-07-30T14:12:35.467678Z",
     "iopub.status.idle": "2025-07-30T14:12:35.475233Z",
     "shell.execute_reply": "2025-07-30T14:12:35.474276Z"
    },
    "papermill": {
     "duration": 0.039611,
     "end_time": "2025-07-30T14:12:35.476960",
     "exception": false,
     "start_time": "2025-07-30T14:12:35.437349",
     "status": "completed"
    },
    "tags": []
   },
   "outputs": [
    {
     "data": {
      "text/plain": [
       "{'frau1': 0.9128993125758188,\n",
       " 'nongerman': 0.9431314208723965,\n",
       " 'nongerman_male': 0.9519949563181123,\n",
       " 'nongerman_female': 0.9284649776453056}"
      ]
     },
     "execution_count": 69,
     "metadata": {},
     "output_type": "execute_result"
    }
   ],
   "source": [
    "cond_coverage"
   ]
  },
  {
   "cell_type": "code",
   "execution_count": 70,
   "id": "f5093324-c3dd-4d63-bc4c-8d945e5c8bbb",
   "metadata": {
    "execution": {
     "iopub.execute_input": "2025-07-30T14:12:35.534596Z",
     "iopub.status.busy": "2025-07-30T14:12:35.534307Z",
     "iopub.status.idle": "2025-07-30T14:12:35.539786Z",
     "shell.execute_reply": "2025-07-30T14:12:35.539093Z"
    },
    "papermill": {
     "duration": 0.035151,
     "end_time": "2025-07-30T14:12:35.541321",
     "exception": false,
     "start_time": "2025-07-30T14:12:35.506170",
     "status": "completed"
    },
    "tags": []
   },
   "outputs": [],
   "source": [
    "for subgroup, cov in cond_coverage.items():\n",
    "    cp_metrics_df[f\"cov_{subgroup}\"] = cov"
   ]
  },
  {
   "cell_type": "code",
   "execution_count": 71,
   "id": "6e872e10-dbe5-49e8-b554-5030c98ff75d",
   "metadata": {
    "execution": {
     "iopub.execute_input": "2025-07-30T14:12:35.596080Z",
     "iopub.status.busy": "2025-07-30T14:12:35.595526Z",
     "iopub.status.idle": "2025-07-30T14:12:35.610263Z",
     "shell.execute_reply": "2025-07-30T14:12:35.609421Z"
    },
    "papermill": {
     "duration": 0.043029,
     "end_time": "2025-07-30T14:12:35.611393",
     "exception": false,
     "start_time": "2025-07-30T14:12:35.568364",
     "status": "completed"
    },
    "tags": []
   },
   "outputs": [
    {
     "data": {
      "text/html": [
       "<div>\n",
       "<style scoped>\n",
       "    .dataframe tbody tr th:only-of-type {\n",
       "        vertical-align: middle;\n",
       "    }\n",
       "\n",
       "    .dataframe tbody tr th {\n",
       "        vertical-align: top;\n",
       "    }\n",
       "\n",
       "    .dataframe thead th {\n",
       "        text-align: right;\n",
       "    }\n",
       "</style>\n",
       "<table border=\"1\" class=\"dataframe\">\n",
       "  <thead>\n",
       "    <tr style=\"text-align: right;\">\n",
       "      <th></th>\n",
       "      <th>universe_id</th>\n",
       "      <th>universe_training_size</th>\n",
       "      <th>universe_scale</th>\n",
       "      <th>universe_model</th>\n",
       "      <th>universe_exclude_features</th>\n",
       "      <th>universe_exclude_subgroups</th>\n",
       "      <th>q_hat</th>\n",
       "      <th>coverage</th>\n",
       "      <th>avg_size</th>\n",
       "      <th>cov_frau1</th>\n",
       "      <th>cov_nongerman</th>\n",
       "      <th>cov_nongerman_male</th>\n",
       "      <th>cov_nongerman_female</th>\n",
       "    </tr>\n",
       "  </thead>\n",
       "  <tbody>\n",
       "    <tr>\n",
       "      <th>0</th>\n",
       "      <td>20375702cf166e0ceb02bed128a0c9df</td>\n",
       "      <td>5k</td>\n",
       "      <td>do-not-scale</td>\n",
       "      <td>logreg</td>\n",
       "      <td>nationality-sex</td>\n",
       "      <td>drop-non-german</td>\n",
       "      <td>0.674991</td>\n",
       "      <td>0.912875</td>\n",
       "      <td>1.222662</td>\n",
       "      <td>0.912899</td>\n",
       "      <td>0.943131</td>\n",
       "      <td>0.951995</td>\n",
       "      <td>0.928465</td>\n",
       "    </tr>\n",
       "  </tbody>\n",
       "</table>\n",
       "</div>"
      ],
      "text/plain": [
       "                        universe_id universe_training_size universe_scale  \\\n",
       "0  20375702cf166e0ceb02bed128a0c9df                     5k   do-not-scale   \n",
       "\n",
       "  universe_model universe_exclude_features universe_exclude_subgroups  \\\n",
       "0         logreg           nationality-sex            drop-non-german   \n",
       "\n",
       "      q_hat  coverage  avg_size  cov_frau1  cov_nongerman  cov_nongerman_male  \\\n",
       "0  0.674991  0.912875  1.222662   0.912899       0.943131            0.951995   \n",
       "\n",
       "   cov_nongerman_female  \n",
       "0              0.928465  "
      ]
     },
     "execution_count": 71,
     "metadata": {},
     "output_type": "execute_result"
    }
   ],
   "source": [
    "cp_metrics_df"
   ]
  },
  {
   "cell_type": "markdown",
   "id": "33774451",
   "metadata": {
    "papermill": {
     "duration": 0.020748,
     "end_time": "2025-07-30T14:12:35.647442",
     "exception": false,
     "start_time": "2025-07-30T14:12:35.626694",
     "status": "completed"
    },
    "tags": []
   },
   "source": [
    "# (Fairness) Metrics"
   ]
  },
  {
   "cell_type": "code",
   "execution_count": 72,
   "id": "debc5d62",
   "metadata": {
    "execution": {
     "iopub.execute_input": "2025-07-30T14:12:35.684118Z",
     "iopub.status.busy": "2025-07-30T14:12:35.683733Z",
     "iopub.status.idle": "2025-07-30T14:12:35.697895Z",
     "shell.execute_reply": "2025-07-30T14:12:35.697244Z"
    },
    "papermill": {
     "duration": 0.029898,
     "end_time": "2025-07-30T14:12:35.699290",
     "exception": false,
     "start_time": "2025-07-30T14:12:35.669392",
     "status": "completed"
    },
    "tags": []
   },
   "outputs": [],
   "source": [
    "# do I need to include maxdeutsch1.missing?\n",
    "\n",
    "import numpy as np\n",
    "\n",
    "colname_to_bin = \"maxdeutsch1\"\n",
    "majority_value = org_train[colname_to_bin].mode()[0]\n",
    "\n",
    "org_test[\"majmin\"] = np.where(org_test[colname_to_bin] == majority_value, \"majority\", \"minority\")"
   ]
  },
  {
   "cell_type": "code",
   "execution_count": 73,
   "id": "06a50de5",
   "metadata": {
    "execution": {
     "iopub.execute_input": "2025-07-30T14:12:35.749967Z",
     "iopub.status.busy": "2025-07-30T14:12:35.749376Z",
     "iopub.status.idle": "2025-07-30T14:12:38.100748Z",
     "shell.execute_reply": "2025-07-30T14:12:38.099822Z"
    },
    "papermill": {
     "duration": 2.378216,
     "end_time": "2025-07-30T14:12:38.102538",
     "exception": false,
     "start_time": "2025-07-30T14:12:35.724322",
     "status": "completed"
    },
    "tags": []
   },
   "outputs": [],
   "source": [
    "example_universe = universe.copy()\n",
    "example_universe[\"cutoff\"] = example_universe[\"cutoff\"][0]\n",
    "example_universe[\"eval_fairness_grouping\"] = example_universe[\"eval_fairness_grouping\"][0]\n",
    "fairness_dict, metric_frame = universe_analysis.compute_metrics(\n",
    "    example_universe,\n",
    "    y_pred_prob=probs_test,\n",
    "    y_test=y_true,\n",
    "    org_test=org_test,\n",
    ")"
   ]
  },
  {
   "cell_type": "markdown",
   "id": "f95d4e02",
   "metadata": {
    "papermill": {
     "duration": 0.024188,
     "end_time": "2025-07-30T14:12:38.155041",
     "exception": false,
     "start_time": "2025-07-30T14:12:38.130853",
     "status": "completed"
    },
    "tags": []
   },
   "source": [
    "# Overall"
   ]
  },
  {
   "cell_type": "markdown",
   "id": "bdee4871",
   "metadata": {
    "papermill": {
     "duration": 0.024535,
     "end_time": "2025-07-30T14:12:38.207031",
     "exception": false,
     "start_time": "2025-07-30T14:12:38.182496",
     "status": "completed"
    },
    "tags": []
   },
   "source": [
    "Fairness\n",
    "Main fairness target: Equalized Odds. Seems to be a better fit than equal opportunity, since we're not only interested in Y = 1. Seems to be a better fit than demographic parity, since we also care about accuracy, not just equal distribution of preds.\n",
    "\n",
    "Pick column for computation of fairness metrics\n",
    "\n",
    "Performance\n",
    "Overall performance measures, most interesting in relation to the measures split by group below"
   ]
  },
  {
   "cell_type": "code",
   "execution_count": 74,
   "id": "c4e067c6",
   "metadata": {
    "execution": {
     "iopub.execute_input": "2025-07-30T14:12:38.263715Z",
     "iopub.status.busy": "2025-07-30T14:12:38.263214Z",
     "iopub.status.idle": "2025-07-30T14:12:38.272392Z",
     "shell.execute_reply": "2025-07-30T14:12:38.271459Z"
    },
    "papermill": {
     "duration": 0.03852,
     "end_time": "2025-07-30T14:12:38.273875",
     "exception": false,
     "start_time": "2025-07-30T14:12:38.235355",
     "status": "completed"
    },
    "tags": []
   },
   "outputs": [
    {
     "data": {
      "text/plain": [
       "accuracy                   0.218270\n",
       "balanced accuracy          0.534979\n",
       "f1                         0.239769\n",
       "precision                  0.136972\n",
       "false positive rate        0.891026\n",
       "false negative rate        0.039016\n",
       "selection rate             0.900000\n",
       "count                  89710.000000\n",
       "dtype: float64"
      ]
     },
     "execution_count": 74,
     "metadata": {},
     "output_type": "execute_result"
    }
   ],
   "source": [
    "metric_frame.overall"
   ]
  },
  {
   "cell_type": "markdown",
   "id": "e968fe9d",
   "metadata": {
    "papermill": {
     "duration": 0.02494,
     "end_time": "2025-07-30T14:12:38.324920",
     "exception": false,
     "start_time": "2025-07-30T14:12:38.299980",
     "status": "completed"
    },
    "tags": []
   },
   "source": [
    "By Group"
   ]
  },
  {
   "cell_type": "code",
   "execution_count": 75,
   "id": "ec325bce",
   "metadata": {
    "execution": {
     "iopub.execute_input": "2025-07-30T14:12:38.378167Z",
     "iopub.status.busy": "2025-07-30T14:12:38.377718Z",
     "iopub.status.idle": "2025-07-30T14:12:38.394950Z",
     "shell.execute_reply": "2025-07-30T14:12:38.393883Z"
    },
    "papermill": {
     "duration": 0.044698,
     "end_time": "2025-07-30T14:12:38.396356",
     "exception": false,
     "start_time": "2025-07-30T14:12:38.351658",
     "status": "completed"
    },
    "tags": []
   },
   "outputs": [
    {
     "data": {
      "text/html": [
       "<div>\n",
       "<style scoped>\n",
       "    .dataframe tbody tr th:only-of-type {\n",
       "        vertical-align: middle;\n",
       "    }\n",
       "\n",
       "    .dataframe tbody tr th {\n",
       "        vertical-align: top;\n",
       "    }\n",
       "\n",
       "    .dataframe thead th {\n",
       "        text-align: right;\n",
       "    }\n",
       "</style>\n",
       "<table border=\"1\" class=\"dataframe\">\n",
       "  <thead>\n",
       "    <tr style=\"text-align: right;\">\n",
       "      <th></th>\n",
       "      <th>accuracy</th>\n",
       "      <th>balanced accuracy</th>\n",
       "      <th>f1</th>\n",
       "      <th>precision</th>\n",
       "      <th>false positive rate</th>\n",
       "      <th>false negative rate</th>\n",
       "      <th>selection rate</th>\n",
       "      <th>count</th>\n",
       "    </tr>\n",
       "    <tr>\n",
       "      <th>majmin</th>\n",
       "      <th></th>\n",
       "      <th></th>\n",
       "      <th></th>\n",
       "      <th></th>\n",
       "      <th></th>\n",
       "      <th></th>\n",
       "      <th></th>\n",
       "      <th></th>\n",
       "    </tr>\n",
       "  </thead>\n",
       "  <tbody>\n",
       "    <tr>\n",
       "      <th>majority</th>\n",
       "      <td>0.239656</td>\n",
       "      <td>0.542976</td>\n",
       "      <td>0.249261</td>\n",
       "      <td>0.143331</td>\n",
       "      <td>0.869299</td>\n",
       "      <td>0.044748</td>\n",
       "      <td>0.880656</td>\n",
       "      <td>69170.0</td>\n",
       "    </tr>\n",
       "    <tr>\n",
       "      <th>minority</th>\n",
       "      <td>0.146251</td>\n",
       "      <td>0.510154</td>\n",
       "      <td>0.209805</td>\n",
       "      <td>0.117433</td>\n",
       "      <td>0.962800</td>\n",
       "      <td>0.016892</td>\n",
       "      <td>0.965141</td>\n",
       "      <td>20540.0</td>\n",
       "    </tr>\n",
       "  </tbody>\n",
       "</table>\n",
       "</div>"
      ],
      "text/plain": [
       "          accuracy  balanced accuracy        f1  precision  \\\n",
       "majmin                                                       \n",
       "majority  0.239656           0.542976  0.249261   0.143331   \n",
       "minority  0.146251           0.510154  0.209805   0.117433   \n",
       "\n",
       "          false positive rate  false negative rate  selection rate    count  \n",
       "majmin                                                                       \n",
       "majority             0.869299             0.044748        0.880656  69170.0  \n",
       "minority             0.962800             0.016892        0.965141  20540.0  "
      ]
     },
     "execution_count": 75,
     "metadata": {},
     "output_type": "execute_result"
    }
   ],
   "source": [
    "metric_frame.by_group"
   ]
  },
  {
   "cell_type": "code",
   "execution_count": 76,
   "id": "a9ddbe63",
   "metadata": {
    "execution": {
     "iopub.execute_input": "2025-07-30T14:12:38.451799Z",
     "iopub.status.busy": "2025-07-30T14:12:38.450980Z",
     "iopub.status.idle": "2025-07-30T14:12:40.899468Z",
     "shell.execute_reply": "2025-07-30T14:12:40.898503Z"
    },
    "papermill": {
     "duration": 2.478557,
     "end_time": "2025-07-30T14:12:40.901280",
     "exception": false,
     "start_time": "2025-07-30T14:12:38.422723",
     "status": "completed"
    },
    "tags": []
   },
   "outputs": [
    {
     "data": {
      "text/plain": [
       "array([[<Axes: title={'center': 'accuracy'}, xlabel='majmin'>,\n",
       "        <Axes: title={'center': 'balanced accuracy'}, xlabel='majmin'>,\n",
       "        <Axes: title={'center': 'f1'}, xlabel='majmin'>],\n",
       "       [<Axes: title={'center': 'precision'}, xlabel='majmin'>,\n",
       "        <Axes: title={'center': 'false positive rate'}, xlabel='majmin'>,\n",
       "        <Axes: title={'center': 'false negative rate'}, xlabel='majmin'>],\n",
       "       [<Axes: title={'center': 'selection rate'}, xlabel='majmin'>,\n",
       "        <Axes: title={'center': 'count'}, xlabel='majmin'>,\n",
       "        <Axes: xlabel='majmin'>]], dtype=object)"
      ]
     },
     "execution_count": 76,
     "metadata": {},
     "output_type": "execute_result"
    },
    {
     "data": {
      "image/png": "[encoded data removed]",
      "text/plain": [
       "<Figure size 1200x800 with 9 Axes>"
      ]
     },
     "metadata": {},
     "output_type": "display_data"
    }
   ],
   "source": [
    "# In a graphic\n",
    "metric_frame.by_group.plot.bar(\n",
    "    subplots=True,\n",
    "    layout=[3, 3],\n",
    "    legend=False,\n",
    "    figsize=[12, 8],\n",
    "    title=\"Show all metrics\",\n",
    ")"
   ]
  },
  {
   "cell_type": "markdown",
   "id": "f57a0bac",
   "metadata": {
    "papermill": {
     "duration": 0.028868,
     "end_time": "2025-07-30T14:12:40.960180",
     "exception": false,
     "start_time": "2025-07-30T14:12:40.931312",
     "status": "completed"
    },
    "tags": []
   },
   "source": [
    "# Final Output"
   ]
  },
  {
   "cell_type": "code",
   "execution_count": 77,
   "id": "96d280a3",
   "metadata": {
    "execution": {
     "iopub.execute_input": "2025-07-30T14:12:41.019990Z",
     "iopub.status.busy": "2025-07-30T14:12:41.019119Z",
     "iopub.status.idle": "2025-07-30T14:12:41.027481Z",
     "shell.execute_reply": "2025-07-30T14:12:41.026511Z"
    },
    "papermill": {
     "duration": 0.040283,
     "end_time": "2025-07-30T14:12:41.029335",
     "exception": false,
     "start_time": "2025-07-30T14:12:40.989052",
     "status": "completed"
    },
    "tags": []
   },
   "outputs": [
    {
     "data": {
      "text/plain": [
       "4"
      ]
     },
     "execution_count": 77,
     "metadata": {},
     "output_type": "execute_result"
    }
   ],
   "source": [
    "sub_universes = universe_analysis.generate_sub_universes()\n",
    "len(sub_universes)"
   ]
  },
  {
   "cell_type": "code",
   "execution_count": 78,
   "id": "92adf7ba",
   "metadata": {
    "execution": {
     "iopub.execute_input": "2025-07-30T14:12:41.090961Z",
     "iopub.status.busy": "2025-07-30T14:12:41.090014Z",
     "iopub.status.idle": "2025-07-30T14:12:41.096421Z",
     "shell.execute_reply": "2025-07-30T14:12:41.095432Z"
    },
    "papermill": {
     "duration": 0.037352,
     "end_time": "2025-07-30T14:12:41.098171",
     "exception": false,
     "start_time": "2025-07-30T14:12:41.060819",
     "status": "completed"
    },
    "tags": []
   },
   "outputs": [],
   "source": [
    "def filter_sub_universe_data(sub_universe, org_test):\n",
    "    # Keep all rows — no filtering\n",
    "    keep_rows_mask = np.ones(org_test.shape[0], dtype=bool)\n",
    "\n",
    "    print(f\"[INFO] Keeping all rows: {keep_rows_mask.sum()} rows retained.\")\n",
    "    return keep_rows_mask"
   ]
  },
  {
   "cell_type": "code",
   "execution_count": 79,
   "id": "4a759155",
   "metadata": {
    "execution": {
     "iopub.execute_input": "2025-07-30T14:12:41.158927Z",
     "iopub.status.busy": "2025-07-30T14:12:41.157987Z",
     "iopub.status.idle": "2025-07-30T14:12:51.245787Z",
     "shell.execute_reply": "2025-07-30T14:12:51.244734Z"
    },
    "papermill": {
     "duration": 10.118814,
     "end_time": "2025-07-30T14:12:51.247378",
     "exception": false,
     "start_time": "2025-07-30T14:12:41.128564",
     "status": "completed"
    },
    "tags": []
   },
   "outputs": [
    {
     "name": "stdout",
     "output_type": "stream",
     "text": [
      "Stopping execution_time clock.\n",
      "[INFO] Keeping all rows: 89710 rows retained.\n"
     ]
    },
    {
     "name": "stdout",
     "output_type": "stream",
     "text": [
      "[INFO] Keeping all rows: 89710 rows retained.\n"
     ]
    },
    {
     "name": "stdout",
     "output_type": "stream",
     "text": [
      "[INFO] Keeping all rows: 89710 rows retained.\n"
     ]
    },
    {
     "name": "stdout",
     "output_type": "stream",
     "text": [
      "[INFO] Keeping all rows: 89710 rows retained.\n"
     ]
    },
    {
     "data": {
      "text/html": [
       "<div>\n",
       "<style scoped>\n",
       "    .dataframe tbody tr th:only-of-type {\n",
       "        vertical-align: middle;\n",
       "    }\n",
       "\n",
       "    .dataframe tbody tr th {\n",
       "        vertical-align: top;\n",
       "    }\n",
       "\n",
       "    .dataframe thead th {\n",
       "        text-align: right;\n",
       "    }\n",
       "</style>\n",
       "<table border=\"1\" class=\"dataframe\">\n",
       "  <thead>\n",
       "    <tr style=\"text-align: right;\">\n",
       "      <th></th>\n",
       "      <th>run_no</th>\n",
       "      <th>universe_id</th>\n",
       "      <th>universe_settings</th>\n",
       "      <th>execution_time</th>\n",
       "      <th>test_size_n</th>\n",
       "      <th>test_size_frac</th>\n",
       "      <th>fair_main_equalized_odds_difference</th>\n",
       "      <th>fair_main_equalized_odds_ratio</th>\n",
       "      <th>fair_main_demographic_parity_difference</th>\n",
       "      <th>fair_main_demographic_parity_ratio</th>\n",
       "      <th>...</th>\n",
       "      <th>perf_grp_precision_0</th>\n",
       "      <th>perf_grp_precision_1</th>\n",
       "      <th>perf_grp_false positive rate_0</th>\n",
       "      <th>perf_grp_false positive rate_1</th>\n",
       "      <th>perf_grp_false negative rate_0</th>\n",
       "      <th>perf_grp_false negative rate_1</th>\n",
       "      <th>perf_grp_selection rate_0</th>\n",
       "      <th>perf_grp_selection rate_1</th>\n",
       "      <th>perf_grp_count_0</th>\n",
       "      <th>perf_grp_count_1</th>\n",
       "    </tr>\n",
       "  </thead>\n",
       "  <tbody>\n",
       "    <tr>\n",
       "      <th>0</th>\n",
       "      <td>12</td>\n",
       "      <td>20375702cf166e0ceb02bed128a0c9df</td>\n",
       "      <td>{\"cutoff\": \"quantile_0.1\", \"eval_fairness_grou...</td>\n",
       "      <td>26.385498</td>\n",
       "      <td>89710</td>\n",
       "      <td>1.0</td>\n",
       "      <td>0.093501</td>\n",
       "      <td>0.902886</td>\n",
       "      <td>0.084485</td>\n",
       "      <td>0.912464</td>\n",
       "      <td>...</td>\n",
       "      <td>NaN</td>\n",
       "      <td>NaN</td>\n",
       "      <td>NaN</td>\n",
       "      <td>NaN</td>\n",
       "      <td>NaN</td>\n",
       "      <td>NaN</td>\n",
       "      <td>NaN</td>\n",
       "      <td>NaN</td>\n",
       "      <td>NaN</td>\n",
       "      <td>NaN</td>\n",
       "    </tr>\n",
       "    <tr>\n",
       "      <th>0</th>\n",
       "      <td>12</td>\n",
       "      <td>20375702cf166e0ceb02bed128a0c9df</td>\n",
       "      <td>{\"cutoff\": \"quantile_0.1\", \"eval_fairness_grou...</td>\n",
       "      <td>26.385498</td>\n",
       "      <td>89710</td>\n",
       "      <td>1.0</td>\n",
       "      <td>0.093501</td>\n",
       "      <td>0.902886</td>\n",
       "      <td>0.084485</td>\n",
       "      <td>0.912464</td>\n",
       "      <td>...</td>\n",
       "      <td>0.117433</td>\n",
       "      <td>0.143331</td>\n",
       "      <td>0.962800</td>\n",
       "      <td>0.869299</td>\n",
       "      <td>0.016892</td>\n",
       "      <td>0.044748</td>\n",
       "      <td>0.965141</td>\n",
       "      <td>0.880656</td>\n",
       "      <td>20540.0</td>\n",
       "      <td>69170.0</td>\n",
       "    </tr>\n",
       "    <tr>\n",
       "      <th>0</th>\n",
       "      <td>12</td>\n",
       "      <td>20375702cf166e0ceb02bed128a0c9df</td>\n",
       "      <td>{\"cutoff\": \"quantile_0.25\", \"eval_fairness_gro...</td>\n",
       "      <td>26.385498</td>\n",
       "      <td>89710</td>\n",
       "      <td>1.0</td>\n",
       "      <td>0.219054</td>\n",
       "      <td>0.756371</td>\n",
       "      <td>0.200485</td>\n",
       "      <td>0.778366</td>\n",
       "      <td>...</td>\n",
       "      <td>NaN</td>\n",
       "      <td>NaN</td>\n",
       "      <td>NaN</td>\n",
       "      <td>NaN</td>\n",
       "      <td>NaN</td>\n",
       "      <td>NaN</td>\n",
       "      <td>NaN</td>\n",
       "      <td>NaN</td>\n",
       "      <td>NaN</td>\n",
       "      <td>NaN</td>\n",
       "    </tr>\n",
       "    <tr>\n",
       "      <th>0</th>\n",
       "      <td>12</td>\n",
       "      <td>20375702cf166e0ceb02bed128a0c9df</td>\n",
       "      <td>{\"cutoff\": \"quantile_0.25\", \"eval_fairness_gro...</td>\n",
       "      <td>26.385498</td>\n",
       "      <td>89710</td>\n",
       "      <td>1.0</td>\n",
       "      <td>0.219054</td>\n",
       "      <td>0.756371</td>\n",
       "      <td>0.200485</td>\n",
       "      <td>0.778366</td>\n",
       "      <td>...</td>\n",
       "      <td>0.120614</td>\n",
       "      <td>0.161739</td>\n",
       "      <td>0.899131</td>\n",
       "      <td>0.680077</td>\n",
       "      <td>0.053632</td>\n",
       "      <td>0.138184</td>\n",
       "      <td>0.904576</td>\n",
       "      <td>0.704091</td>\n",
       "      <td>20540.0</td>\n",
       "      <td>69170.0</td>\n",
       "    </tr>\n",
       "  </tbody>\n",
       "</table>\n",
       "<p>4 rows × 50 columns</p>\n",
       "</div>"
      ],
      "text/plain": [
       "  run_no                       universe_id  \\\n",
       "0     12  20375702cf166e0ceb02bed128a0c9df   \n",
       "0     12  20375702cf166e0ceb02bed128a0c9df   \n",
       "0     12  20375702cf166e0ceb02bed128a0c9df   \n",
       "0     12  20375702cf166e0ceb02bed128a0c9df   \n",
       "\n",
       "                                   universe_settings  execution_time  \\\n",
       "0  {\"cutoff\": \"quantile_0.1\", \"eval_fairness_grou...       26.385498   \n",
       "0  {\"cutoff\": \"quantile_0.1\", \"eval_fairness_grou...       26.385498   \n",
       "0  {\"cutoff\": \"quantile_0.25\", \"eval_fairness_gro...       26.385498   \n",
       "0  {\"cutoff\": \"quantile_0.25\", \"eval_fairness_gro...       26.385498   \n",
       "\n",
       "   test_size_n  test_size_frac  fair_main_equalized_odds_difference  \\\n",
       "0        89710             1.0                             0.093501   \n",
       "0        89710             1.0                             0.093501   \n",
       "0        89710             1.0                             0.219054   \n",
       "0        89710             1.0                             0.219054   \n",
       "\n",
       "   fair_main_equalized_odds_ratio  fair_main_demographic_parity_difference  \\\n",
       "0                        0.902886                                 0.084485   \n",
       "0                        0.902886                                 0.084485   \n",
       "0                        0.756371                                 0.200485   \n",
       "0                        0.756371                                 0.200485   \n",
       "\n",
       "   fair_main_demographic_parity_ratio  ...  perf_grp_precision_0  \\\n",
       "0                            0.912464  ...                   NaN   \n",
       "0                            0.912464  ...              0.117433   \n",
       "0                            0.778366  ...                   NaN   \n",
       "0                            0.778366  ...              0.120614   \n",
       "\n",
       "   perf_grp_precision_1  perf_grp_false positive rate_0  \\\n",
       "0                   NaN                             NaN   \n",
       "0              0.143331                        0.962800   \n",
       "0                   NaN                             NaN   \n",
       "0              0.161739                        0.899131   \n",
       "\n",
       "   perf_grp_false positive rate_1  perf_grp_false negative rate_0  \\\n",
       "0                             NaN                             NaN   \n",
       "0                        0.869299                        0.016892   \n",
       "0                             NaN                             NaN   \n",
       "0                        0.680077                        0.053632   \n",
       "\n",
       "   perf_grp_false negative rate_1  perf_grp_selection rate_0  \\\n",
       "0                             NaN                        NaN   \n",
       "0                        0.044748                   0.965141   \n",
       "0                             NaN                        NaN   \n",
       "0                        0.138184                   0.904576   \n",
       "\n",
       "   perf_grp_selection rate_1  perf_grp_count_0  perf_grp_count_1  \n",
       "0                        NaN               NaN               NaN  \n",
       "0                   0.880656           20540.0           69170.0  \n",
       "0                        NaN               NaN               NaN  \n",
       "0                   0.704091           20540.0           69170.0  \n",
       "\n",
       "[4 rows x 50 columns]"
      ]
     },
     "execution_count": 79,
     "metadata": {},
     "output_type": "execute_result"
    }
   ],
   "source": [
    "final_output = universe_analysis.generate_final_output(\n",
    "    y_pred_prob=probs_test,\n",
    "    y_test=y_true,\n",
    "    org_test=org_test,\n",
    "    filter_data=filter_sub_universe_data,\n",
    "    cp_metrics_df=cp_metrics_df,\n",
    "    save=True,\n",
    ")\n",
    "final_output"
   ]
  },
  {
   "cell_type": "code",
   "execution_count": null,
   "id": "721ff514-cb11-46f8-b6fc-50392f74b5cb",
   "metadata": {
    "papermill": {
     "duration": 0.032071,
     "end_time": "2025-07-30T14:12:51.311155",
     "exception": false,
     "start_time": "2025-07-30T14:12:51.279084",
     "status": "completed"
    },
    "tags": []
   },
   "outputs": [],
   "source": []
  }
 ],
 "metadata": {
  "celltoolbar": "Tags",
  "kernelspec": {
   "display_name": "Python (CMA Fairness)",
   "language": "python",
   "name": "cma_fair_env"
  },
  "language_info": {
   "codemirror_mode": {
    "name": "ipython",
    "version": 3
   },
   "file_extension": ".py",
   "mimetype": "text/x-python",
   "name": "python",
   "nbconvert_exporter": "python",
   "pygments_lexer": "ipython3",
   "version": "3.10.12"
  },
  "papermill": {
   "default_parameters": {},
   "duration": 40.854477,
   "end_time": "2025-07-30T14:12:52.150477",
   "environment_variables": {},
   "exception": null,
   "input_path": "universe_analysis.ipynb",
   "output_path": "output/runs/12/notebooks/m_12-20375702cf166e0ceb02bed128a0c9df.ipynb",
   "parameters": {
    "output_dir": "output",
    "run_no": "12",
    "seed": "2023",
    "universe": "{\"cutoff\": [\"quantile_0.1\", \"quantile_0.25\"], \"eval_fairness_grouping\": [\"majority-minority\", \"nationality-all\"], \"exclude_features\": \"nationality-sex\", \"exclude_subgroups\": \"drop-non-german\", \"model\": \"logreg\", \"scale\": \"do-not-scale\", \"training_size\": \"5k\", \"training_year\": \"2010_14\"}",
    "universe_id": "20375702cf166e0ceb02bed128a0c9df"
   },
   "start_time": "2025-07-30T14:12:11.296000",
   "version": "2.6.0"
  }
 },
 "nbformat": 4,
 "nbformat_minor": 5
}