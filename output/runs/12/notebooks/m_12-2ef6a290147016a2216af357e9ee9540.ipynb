{
 "cells": [
  {
   "cell_type": "code",
   "execution_count": 1,
   "id": "f159f837-637b-42ba-96b5-ec9a68c44524",
   "metadata": {
    "execution": {
     "iopub.execute_input": "2025-07-30T14:14:47.154645Z",
     "iopub.status.busy": "2025-07-30T14:14:47.154246Z",
     "iopub.status.idle": "2025-07-30T14:14:47.171809Z",
     "shell.execute_reply": "2025-07-30T14:14:47.170880Z"
    },
    "papermill": {
     "duration": 0.080367,
     "end_time": "2025-07-30T14:14:47.205328",
     "exception": false,
     "start_time": "2025-07-30T14:14:47.124961",
     "status": "completed"
    },
    "tags": []
   },
   "outputs": [
    {
     "name": "stdout",
     "output_type": "stream",
     "text": [
      "/dss/dsshome1/0C/ra93lal2/cma/CMA_Fairness_v2\n"
     ]
    },
    {
     "name": "stderr",
     "output_type": "stream",
     "text": [
      "/dss/dsshome1/0C/ra93lal2/.local/share/virtualenvs/CMA_Fairness_v2-3j10GkSs/lib/python3.10/site-packages/IPython/core/magics/osm.py:393: UserWarning: This is now an optional IPython functionality, using bookmarks requires you to install the `pickleshare` library.\n",
      "  bkms = self.shell.db.get('bookmarks', {})\n",
      "/dss/dsshome1/0C/ra93lal2/.local/share/virtualenvs/CMA_Fairness_v2-3j10GkSs/lib/python3.10/site-packages/IPython/core/magics/osm.py:417: UserWarning: This is now an optional IPython functionality, setting dhist requires you to install the `pickleshare` library.\n",
      "  self.shell.db['dhist'] = compress_dhist(dhist)[-100:]\n"
     ]
    }
   ],
   "source": [
    "%cd ~/cma/CMA_Fairness_v2"
   ]
  },
  {
   "cell_type": "markdown",
   "id": "de2603b9",
   "metadata": {
    "papermill": {
     "duration": 0.026416,
     "end_time": "2025-07-30T14:14:47.274991",
     "exception": false,
     "start_time": "2025-07-30T14:14:47.248575",
     "status": "completed"
    },
    "tags": []
   },
   "source": [
    "The following cell holds the definition of our parameters, these values can be overriden by rendering the with e.g. the following command:\n",
    "\n",
    "papermill -p alpha 0.2 -p ratio 0.3 universe_analysis.ipynb output/test_run.ipynb"
   ]
  },
  {
   "cell_type": "code",
   "execution_count": 2,
   "id": "a80968a0-40bb-4fa9-85ef-2d5eefb01975",
   "metadata": {
    "execution": {
     "iopub.execute_input": "2025-07-30T14:14:47.331420Z",
     "iopub.status.busy": "2025-07-30T14:14:47.330868Z",
     "iopub.status.idle": "2025-07-30T14:14:47.337115Z",
     "shell.execute_reply": "2025-07-30T14:14:47.336112Z"
    },
    "papermill": {
     "duration": 0.040268,
     "end_time": "2025-07-30T14:14:47.340493",
     "exception": false,
     "start_time": "2025-07-30T14:14:47.300225",
     "status": "completed"
    },
    "tags": []
   },
   "outputs": [
    {
     "name": "stdout",
     "output_type": "stream",
     "text": [
      "Current working directory: /dss/dsshome1/0C/ra93lal2/cma/CMA_Fairness_v2\n"
     ]
    }
   ],
   "source": [
    "import os\n",
    "print(\"Current working directory:\", os.getcwd())"
   ]
  },
  {
   "cell_type": "code",
   "execution_count": 3,
   "id": "2dce4c03",
   "metadata": {
    "execution": {
     "iopub.execute_input": "2025-07-30T14:14:47.392439Z",
     "iopub.status.busy": "2025-07-30T14:14:47.391935Z",
     "iopub.status.idle": "2025-07-30T14:14:47.398562Z",
     "shell.execute_reply": "2025-07-30T14:14:47.397479Z"
    },
    "papermill": {
     "duration": 0.029193,
     "end_time": "2025-07-30T14:14:47.400143",
     "exception": false,
     "start_time": "2025-07-30T14:14:47.370950",
     "status": "completed"
    },
    "tags": [
     "parameters"
    ]
   },
   "outputs": [],
   "source": [
    "run_no = 0\n",
    "universe_id = \"test\"\n",
    "universe = {\n",
    "    \"training_size\": \"25k\", # \"25k\", \"5k\", \"1k\"\n",
    "    \"training_year\": \"2014\", # \"2014\", \"2012_14\", \"2010_14\"\n",
    "    \"scale\": \"scale\", # \"scale\", \"do-not-scale\",\n",
    "    #\"stratify_split\": \"target\", # \"none\", \"target\", \"protected-attribute\", \"both\",\n",
    "    \"model\": \"elasticnet\", # \"logreg\", \"penalized_logreg\", \"rf\", \"gbm\", \"elasticnet\"\n",
    "    \"cutoff\": [\"quantile_0.15\", \"quantile_0.30\"],\n",
    "    \"exclude_features\": \"age\", # \"none\", \"nationality\", \"sex\", \"nationality-sex\", \"age\"\n",
    "    \"exclude_subgroups\": \"keep-all\", # \"keep-all\", \"drop-non-german\"\n",
    "    \"eval_fairness_grouping\": [\"majority-minority\", \"nationality-all\"]\n",
    "}\n",
    "\n",
    "output_dir=\"./output\"\n",
    "seed=0"
   ]
  },
  {
   "cell_type": "code",
   "execution_count": 4,
   "id": "e5e5b0fc",
   "metadata": {
    "execution": {
     "iopub.execute_input": "2025-07-30T14:14:47.444886Z",
     "iopub.status.busy": "2025-07-30T14:14:47.444429Z",
     "iopub.status.idle": "2025-07-30T14:14:47.450764Z",
     "shell.execute_reply": "2025-07-30T14:14:47.449600Z"
    },
    "papermill": {
     "duration": 0.030403,
     "end_time": "2025-07-30T14:14:47.452986",
     "exception": false,
     "start_time": "2025-07-30T14:14:47.422583",
     "status": "completed"
    },
    "tags": [
     "injected-parameters"
    ]
   },
   "outputs": [],
   "source": [
    "# Parameters\n",
    "universe_id = \"2ef6a290147016a2216af357e9ee9540\"\n",
    "run_no = \"12\"\n",
    "universe = \"{\\\"cutoff\\\": [\\\"quantile_0.1\\\", \\\"quantile_0.25\\\"], \\\"eval_fairness_grouping\\\": [\\\"majority-minority\\\", \\\"nationality-all\\\"], \\\"exclude_features\\\": \\\"age\\\", \\\"exclude_subgroups\\\": \\\"drop-non-german\\\", \\\"model\\\": \\\"rf\\\", \\\"scale\\\": \\\"do-not-scale\\\", \\\"training_size\\\": \\\"5k\\\", \\\"training_year\\\": \\\"2010_14\\\"}\"\n",
    "output_dir = \"output\"\n",
    "seed = \"2023\"\n"
   ]
  },
  {
   "cell_type": "code",
   "execution_count": 5,
   "id": "1650acaf",
   "metadata": {
    "execution": {
     "iopub.execute_input": "2025-07-30T14:14:47.523193Z",
     "iopub.status.busy": "2025-07-30T14:14:47.522657Z",
     "iopub.status.idle": "2025-07-30T14:14:47.528186Z",
     "shell.execute_reply": "2025-07-30T14:14:47.527115Z"
    },
    "papermill": {
     "duration": 0.031801,
     "end_time": "2025-07-30T14:14:47.530859",
     "exception": false,
     "start_time": "2025-07-30T14:14:47.499058",
     "status": "completed"
    },
    "tags": []
   },
   "outputs": [],
   "source": [
    "import json\n",
    "# Parse universe into dict if it is passed as a string\n",
    "if isinstance(universe, str):\n",
    "    universe = json.loads(universe)"
   ]
  },
  {
   "cell_type": "code",
   "execution_count": 6,
   "id": "16620c48",
   "metadata": {
    "execution": {
     "iopub.execute_input": "2025-07-30T14:14:47.577386Z",
     "iopub.status.busy": "2025-07-30T14:14:47.576909Z",
     "iopub.status.idle": "2025-07-30T14:14:47.627037Z",
     "shell.execute_reply": "2025-07-30T14:14:47.626059Z"
    },
    "papermill": {
     "duration": 0.074826,
     "end_time": "2025-07-30T14:14:47.629202",
     "exception": false,
     "start_time": "2025-07-30T14:14:47.554376",
     "status": "completed"
    },
    "tags": []
   },
   "outputs": [],
   "source": [
    "# Auto-reload the custom package\n",
    "%load_ext autoreload\n",
    "%autoreload 1\n",
    "%aimport fairness_multiverse"
   ]
  },
  {
   "cell_type": "code",
   "execution_count": 7,
   "id": "01c5c9f3",
   "metadata": {
    "execution": {
     "iopub.execute_input": "2025-07-30T14:14:47.671053Z",
     "iopub.status.busy": "2025-07-30T14:14:47.670679Z",
     "iopub.status.idle": "2025-07-30T14:14:50.265948Z",
     "shell.execute_reply": "2025-07-30T14:14:50.264780Z"
    },
    "papermill": {
     "duration": 2.618557,
     "end_time": "2025-07-30T14:14:50.267937",
     "exception": false,
     "start_time": "2025-07-30T14:14:47.649380",
     "status": "completed"
    },
    "tags": []
   },
   "outputs": [],
   "source": [
    "from fairness_multiverse.universe import UniverseAnalysis\n",
    "\n",
    "universe_analysis = UniverseAnalysis(\n",
    "    run_no = run_no,\n",
    "    universe_id = universe_id,\n",
    "    universe = universe,\n",
    "    output_dir=output_dir,\n",
    ")"
   ]
  },
  {
   "cell_type": "code",
   "execution_count": 8,
   "id": "106241f5",
   "metadata": {
    "execution": {
     "iopub.execute_input": "2025-07-30T14:14:50.315989Z",
     "iopub.status.busy": "2025-07-30T14:14:50.315251Z",
     "iopub.status.idle": "2025-07-30T14:14:50.322260Z",
     "shell.execute_reply": "2025-07-30T14:14:50.321187Z"
    },
    "papermill": {
     "duration": 0.032264,
     "end_time": "2025-07-30T14:14:50.324160",
     "exception": false,
     "start_time": "2025-07-30T14:14:50.291896",
     "status": "completed"
    },
    "tags": []
   },
   "outputs": [
    {
     "name": "stdout",
     "output_type": "stream",
     "text": [
      "Using Seed: 2023\n"
     ]
    }
   ],
   "source": [
    "import numpy as np\n",
    "parsed_seed = int(seed)\n",
    "np.random.seed(parsed_seed)\n",
    "print(f\"Using Seed: {parsed_seed}\")"
   ]
  },
  {
   "cell_type": "markdown",
   "id": "e0ebdc57",
   "metadata": {
    "papermill": {
     "duration": 0.021703,
     "end_time": "2025-07-30T14:14:50.368891",
     "exception": false,
     "start_time": "2025-07-30T14:14:50.347188",
     "status": "completed"
    },
    "tags": []
   },
   "source": [
    "# Loading Data"
   ]
  },
  {
   "cell_type": "markdown",
   "id": "681925a3",
   "metadata": {
    "papermill": {
     "duration": 0.021706,
     "end_time": "2025-07-30T14:14:50.412184",
     "exception": false,
     "start_time": "2025-07-30T14:14:50.390478",
     "status": "completed"
    },
    "tags": []
   },
   "source": [
    "Load siab_train, siab_test, siab_calib and/or \n",
    "load siab_train_features, siab_train_labels"
   ]
  },
  {
   "cell_type": "code",
   "execution_count": 9,
   "id": "f0496b8a",
   "metadata": {
    "execution": {
     "iopub.execute_input": "2025-07-30T14:14:50.435148Z",
     "iopub.status.busy": "2025-07-30T14:14:50.434720Z",
     "iopub.status.idle": "2025-07-30T14:15:02.323737Z",
     "shell.execute_reply": "2025-07-30T14:15:02.322386Z"
    },
    "papermill": {
     "duration": 11.902555,
     "end_time": "2025-07-30T14:15:02.325579",
     "exception": false,
     "start_time": "2025-07-30T14:14:50.423024",
     "status": "completed"
    },
    "tags": []
   },
   "outputs": [
    {
     "name": "stdout",
     "output_type": "stream",
     "text": [
      "Loading SIAB data from cache: data/siab_cached.csv.gz\n"
     ]
    },
    {
     "name": "stdout",
     "output_type": "stream",
     "text": [
      "(643690, 164)\n"
     ]
    }
   ],
   "source": [
    "from pathlib import Path\n",
    "import pandas as pd\n",
    "\n",
    "# File paths\n",
    "raw_file = Path(\"data/raw/siab.csv\")\n",
    "cache_file = Path(\"data/siab_cached.csv.gz\")\n",
    "\n",
    "# Ensure cache directory exists\n",
    "cache_file.parent.mkdir(parents=True, exist_ok=True)\n",
    "\n",
    "# Load with simple caching\n",
    "if cache_file.exists():\n",
    "    print(f\"Loading SIAB data from cache: {cache_file}\")\n",
    "    siab = pd.read_csv(cache_file, compression='gzip')\n",
    "else:\n",
    "    print(f\"Cache not found. Reading raw SIAB data: {raw_file}\")\n",
    "    siab = pd.read_csv(raw_file)\n",
    "    siab.to_csv(cache_file, index=False, compression='gzip')\n",
    "    print(f\"Cached SIAB data to: {cache_file}\")\n",
    "\n",
    "# Now use `siab` DataFrame as needed\n",
    "print(siab.shape)"
   ]
  },
  {
   "cell_type": "code",
   "execution_count": 10,
   "id": "db0ca512-5f53-4dba-abdb-a2888bca41ba",
   "metadata": {
    "execution": {
     "iopub.execute_input": "2025-07-30T14:15:02.373355Z",
     "iopub.status.busy": "2025-07-30T14:15:02.372274Z",
     "iopub.status.idle": "2025-07-30T14:15:02.379075Z",
     "shell.execute_reply": "2025-07-30T14:15:02.377888Z"
    },
    "papermill": {
     "duration": 0.03192,
     "end_time": "2025-07-30T14:15:02.380926",
     "exception": false,
     "start_time": "2025-07-30T14:15:02.349006",
     "status": "completed"
    },
    "tags": []
   },
   "outputs": [],
   "source": [
    "#siab"
   ]
  },
  {
   "cell_type": "code",
   "execution_count": 11,
   "id": "a0edb063",
   "metadata": {
    "execution": {
     "iopub.execute_input": "2025-07-30T14:15:02.426540Z",
     "iopub.status.busy": "2025-07-30T14:15:02.425834Z",
     "iopub.status.idle": "2025-07-30T14:15:02.432210Z",
     "shell.execute_reply": "2025-07-30T14:15:02.430964Z"
    },
    "papermill": {
     "duration": 0.031923,
     "end_time": "2025-07-30T14:15:02.433982",
     "exception": false,
     "start_time": "2025-07-30T14:15:02.402059",
     "status": "completed"
    },
    "tags": []
   },
   "outputs": [],
   "source": [
    "#import pandas as pd\n",
    "#\n",
    "#X_train = pd.read_csv(\"./data/X_train.csv\")\n",
    "#y_train = pd.read_csv(\"./data/y_train.csv\")"
   ]
  },
  {
   "cell_type": "code",
   "execution_count": 12,
   "id": "63d08085",
   "metadata": {
    "execution": {
     "iopub.execute_input": "2025-07-30T14:15:02.480086Z",
     "iopub.status.busy": "2025-07-30T14:15:02.479087Z",
     "iopub.status.idle": "2025-07-30T14:15:02.484521Z",
     "shell.execute_reply": "2025-07-30T14:15:02.483466Z"
    },
    "papermill": {
     "duration": 0.029342,
     "end_time": "2025-07-30T14:15:02.486639",
     "exception": false,
     "start_time": "2025-07-30T14:15:02.457297",
     "status": "completed"
    },
    "tags": []
   },
   "outputs": [],
   "source": [
    "#X_test = pd.read_csv(\"./data/X_test.csv\")\n",
    "#y_true = pd.read_csv(\"./data/y_test.csv\")"
   ]
  },
  {
   "cell_type": "code",
   "execution_count": 13,
   "id": "98a8d0fa-1d3d-4ed8-bb2c-281470e24add",
   "metadata": {
    "execution": {
     "iopub.execute_input": "2025-07-30T14:15:02.549369Z",
     "iopub.status.busy": "2025-07-30T14:15:02.548606Z",
     "iopub.status.idle": "2025-07-30T14:15:02.554993Z",
     "shell.execute_reply": "2025-07-30T14:15:02.553868Z"
    },
    "papermill": {
     "duration": 0.040094,
     "end_time": "2025-07-30T14:15:02.557270",
     "exception": false,
     "start_time": "2025-07-30T14:15:02.517176",
     "status": "completed"
    },
    "tags": []
   },
   "outputs": [],
   "source": [
    "# Calibration data for conformal\n",
    "#X_calib = pd.read_csv(\"./data/X_calib.csv\")\n",
    "#y_calib = pd.read_csv(\"./data/y_calib.csv\")"
   ]
  },
  {
   "cell_type": "markdown",
   "id": "997051c5-15bd-4b69-9786-c3001a3ce484",
   "metadata": {
    "papermill": {
     "duration": 0.029989,
     "end_time": "2025-07-30T14:15:02.617662",
     "exception": false,
     "start_time": "2025-07-30T14:15:02.587673",
     "status": "completed"
    },
    "tags": []
   },
   "source": [
    "# Splitting Data and Setting Training Data Size"
   ]
  },
  {
   "cell_type": "code",
   "execution_count": 14,
   "id": "e993b61f-042d-41a6-8c81-f55681f86335",
   "metadata": {
    "execution": {
     "iopub.execute_input": "2025-07-30T14:15:02.679329Z",
     "iopub.status.busy": "2025-07-30T14:15:02.678794Z",
     "iopub.status.idle": "2025-07-30T14:15:02.693076Z",
     "shell.execute_reply": "2025-07-30T14:15:02.691752Z"
    },
    "papermill": {
     "duration": 0.047775,
     "end_time": "2025-07-30T14:15:02.695459",
     "exception": false,
     "start_time": "2025-07-30T14:15:02.647684",
     "status": "completed"
    },
    "tags": []
   },
   "outputs": [],
   "source": [
    "def sample_by_year_size(df,\n",
    "                        training_year: str,\n",
    "                        training_size: str,\n",
    "                        random_state: int = 42):\n",
    "    # --- parse training_year into a list of int years ---\n",
    "    if \"_\" in training_year:\n",
    "        start_str, end_str = training_year.split(\"_\", 1)\n",
    "        start = int(start_str)\n",
    "        end   = int(end_str) if len(end_str) == 4 else (int(end_str) + (start // 100)*100)\n",
    "        years = list(range(start, end + 1))\n",
    "    else:\n",
    "        years = [int(training_year)]\n",
    "\n",
    "    df = df[df[\"year\"].isin(years)].reset_index(drop=True)\n",
    "\n",
    "    # --- map training_size to total number of samples ---\n",
    "    total_map = {\"25k\": 25_000, \"5k\": 5_000, \"1k\": 1_000}\n",
    "    if training_size not in total_map:\n",
    "        return df  # e.g. \"all\"\n",
    "\n",
    "    total_samples = total_map[training_size]\n",
    "    n_years       = len(years)\n",
    "    base          = total_samples // n_years\n",
    "    remainder     = total_samples % n_years\n",
    "\n",
    "    # --- build a dict: year -> how many to sample ---\n",
    "    # give +1 to the first `remainder` years in ascending order\n",
    "    quotas = {\n",
    "        year: base + (1 if idx < remainder else 0)\n",
    "        for idx, year in enumerate(sorted(years))\n",
    "    }\n",
    "\n",
    "    # --- sample per‐year according to the quota dict ---\n",
    "    sampled = (\n",
    "        df\n",
    "        .groupby(\"year\", group_keys=False)\n",
    "        .apply(lambda grp: grp.sample(\n",
    "            n=min(len(grp), quotas[grp.name]),\n",
    "            random_state=random_state))\n",
    "        .reset_index(drop=True)\n",
    "    )\n",
    "\n",
    "    return sampled"
   ]
  },
  {
   "cell_type": "code",
   "execution_count": 15,
   "id": "c0ccd338-0e02-41f3-a09d-f56f9266e3fb",
   "metadata": {
    "execution": {
     "iopub.execute_input": "2025-07-30T14:15:02.757483Z",
     "iopub.status.busy": "2025-07-30T14:15:02.756598Z",
     "iopub.status.idle": "2025-07-30T14:15:02.770638Z",
     "shell.execute_reply": "2025-07-30T14:15:02.769423Z"
    },
    "papermill": {
     "duration": 0.047416,
     "end_time": "2025-07-30T14:15:02.772737",
     "exception": false,
     "start_time": "2025-07-30T14:15:02.725321",
     "status": "completed"
    },
    "tags": []
   },
   "outputs": [
    {
     "data": {
      "text/plain": [
       "'5k'"
      ]
     },
     "execution_count": 15,
     "metadata": {},
     "output_type": "execute_result"
    }
   ],
   "source": [
    "universe[\"training_size\"]"
   ]
  },
  {
   "cell_type": "code",
   "execution_count": 16,
   "id": "ca707fd7-8047-4acd-bfa5-66248fbbf8e6",
   "metadata": {
    "execution": {
     "iopub.execute_input": "2025-07-30T14:15:02.836718Z",
     "iopub.status.busy": "2025-07-30T14:15:02.835580Z",
     "iopub.status.idle": "2025-07-30T14:15:02.844143Z",
     "shell.execute_reply": "2025-07-30T14:15:02.843002Z"
    },
    "papermill": {
     "duration": 0.042741,
     "end_time": "2025-07-30T14:15:02.846373",
     "exception": false,
     "start_time": "2025-07-30T14:15:02.803632",
     "status": "completed"
    },
    "tags": []
   },
   "outputs": [
    {
     "data": {
      "text/plain": [
       "'2010_14'"
      ]
     },
     "execution_count": 16,
     "metadata": {},
     "output_type": "execute_result"
    }
   ],
   "source": [
    "universe[\"training_year\"]"
   ]
  },
  {
   "cell_type": "code",
   "execution_count": 17,
   "id": "aea9c6ef-6f46-42c8-85eb-5a62025c1508",
   "metadata": {
    "execution": {
     "iopub.execute_input": "2025-07-30T14:15:02.910651Z",
     "iopub.status.busy": "2025-07-30T14:15:02.909868Z",
     "iopub.status.idle": "2025-07-30T14:15:04.190514Z",
     "shell.execute_reply": "2025-07-30T14:15:04.189759Z"
    },
    "papermill": {
     "duration": 1.314803,
     "end_time": "2025-07-30T14:15:04.191940",
     "exception": false,
     "start_time": "2025-07-30T14:15:02.877137",
     "status": "completed"
    },
    "tags": []
   },
   "outputs": [],
   "source": [
    "siab_train = sample_by_year_size(siab,\n",
    "                               training_year=universe[\"training_year\"],\n",
    "                               training_size=universe[\"training_size\"])"
   ]
  },
  {
   "cell_type": "code",
   "execution_count": 18,
   "id": "8d3afb32-789d-442c-8d5d-9f5aa8dd2eed",
   "metadata": {
    "execution": {
     "iopub.execute_input": "2025-07-30T14:15:04.215501Z",
     "iopub.status.busy": "2025-07-30T14:15:04.215071Z",
     "iopub.status.idle": "2025-07-30T14:15:04.221875Z",
     "shell.execute_reply": "2025-07-30T14:15:04.220840Z"
    },
    "papermill": {
     "duration": 0.020635,
     "end_time": "2025-07-30T14:15:04.223899",
     "exception": false,
     "start_time": "2025-07-30T14:15:04.203264",
     "status": "completed"
    },
    "tags": []
   },
   "outputs": [
    {
     "data": {
      "text/plain": [
       "(5000, 164)"
      ]
     },
     "execution_count": 18,
     "metadata": {},
     "output_type": "execute_result"
    }
   ],
   "source": [
    "siab_train.shape"
   ]
  },
  {
   "cell_type": "code",
   "execution_count": 19,
   "id": "d582db68-1a4c-47fb-84fc-08518dc1975a",
   "metadata": {
    "execution": {
     "iopub.execute_input": "2025-07-30T14:15:04.255553Z",
     "iopub.status.busy": "2025-07-30T14:15:04.255049Z",
     "iopub.status.idle": "2025-07-30T14:15:04.262909Z",
     "shell.execute_reply": "2025-07-30T14:15:04.262215Z"
    },
    "papermill": {
     "duration": 0.021731,
     "end_time": "2025-07-30T14:15:04.264406",
     "exception": false,
     "start_time": "2025-07-30T14:15:04.242675",
     "status": "completed"
    },
    "tags": []
   },
   "outputs": [
    {
     "data": {
      "text/plain": [
       "year\n",
       "2010    1000\n",
       "2011    1000\n",
       "2012    1000\n",
       "2013    1000\n",
       "2014    1000\n",
       "dtype: int64"
      ]
     },
     "metadata": {},
     "output_type": "display_data"
    }
   ],
   "source": [
    "display(siab_train.groupby(\"year\").size())"
   ]
  },
  {
   "cell_type": "code",
   "execution_count": 20,
   "id": "a561edb4-d032-42cb-8256-22eac1111c64",
   "metadata": {
    "execution": {
     "iopub.execute_input": "2025-07-30T14:15:04.296497Z",
     "iopub.status.busy": "2025-07-30T14:15:04.295964Z",
     "iopub.status.idle": "2025-07-30T14:15:04.553124Z",
     "shell.execute_reply": "2025-07-30T14:15:04.551941Z"
    },
    "papermill": {
     "duration": 0.278893,
     "end_time": "2025-07-30T14:15:04.555446",
     "exception": false,
     "start_time": "2025-07-30T14:15:04.276553",
     "status": "completed"
    },
    "tags": []
   },
   "outputs": [],
   "source": [
    "#siab_train = siab_s[siab_s.year < 2015]\n",
    "siab_calib = siab[siab.year == 2015]\n",
    "siab_test = siab[siab.year == 2016]"
   ]
  },
  {
   "cell_type": "code",
   "execution_count": 21,
   "id": "472de16f-c3db-4916-846b-1f0de9cf1746",
   "metadata": {
    "execution": {
     "iopub.execute_input": "2025-07-30T14:15:04.615917Z",
     "iopub.status.busy": "2025-07-30T14:15:04.615363Z",
     "iopub.status.idle": "2025-07-30T14:15:04.623694Z",
     "shell.execute_reply": "2025-07-30T14:15:04.622588Z"
    },
    "papermill": {
     "duration": 0.040994,
     "end_time": "2025-07-30T14:15:04.625728",
     "exception": false,
     "start_time": "2025-07-30T14:15:04.584734",
     "status": "completed"
    },
    "tags": []
   },
   "outputs": [],
   "source": [
    "X_train = siab_train.iloc[:,4:164]\n",
    "y_train = siab_train.iloc[:, [3]]"
   ]
  },
  {
   "cell_type": "code",
   "execution_count": 22,
   "id": "828c96af-f43a-4ed6-ba47-8ac73a47d56c",
   "metadata": {
    "execution": {
     "iopub.execute_input": "2025-07-30T14:15:04.688320Z",
     "iopub.status.busy": "2025-07-30T14:15:04.687694Z",
     "iopub.status.idle": "2025-07-30T14:15:04.742058Z",
     "shell.execute_reply": "2025-07-30T14:15:04.740965Z"
    },
    "papermill": {
     "duration": 0.088158,
     "end_time": "2025-07-30T14:15:04.744608",
     "exception": false,
     "start_time": "2025-07-30T14:15:04.656450",
     "status": "completed"
    },
    "tags": []
   },
   "outputs": [],
   "source": [
    "X_calib = siab_calib.iloc[:,4:164]\n",
    "y_calib = siab_calib.iloc[:, [3]]"
   ]
  },
  {
   "cell_type": "code",
   "execution_count": 23,
   "id": "c34be9c3-6bd6-476e-acd3-845840e303be",
   "metadata": {
    "execution": {
     "iopub.execute_input": "2025-07-30T14:15:04.809515Z",
     "iopub.status.busy": "2025-07-30T14:15:04.808723Z",
     "iopub.status.idle": "2025-07-30T14:15:04.865363Z",
     "shell.execute_reply": "2025-07-30T14:15:04.864240Z"
    },
    "papermill": {
     "duration": 0.092538,
     "end_time": "2025-07-30T14:15:04.868155",
     "exception": false,
     "start_time": "2025-07-30T14:15:04.775617",
     "status": "completed"
    },
    "tags": []
   },
   "outputs": [],
   "source": [
    "X_test = siab_test.iloc[:,4:164]\n",
    "y_true = siab_test.iloc[:, [3]]"
   ]
  },
  {
   "cell_type": "markdown",
   "id": "9901737e-04df-44f0-9100-f5ad144ed040",
   "metadata": {
    "papermill": {
     "duration": 0.032169,
     "end_time": "2025-07-30T14:15:04.932908",
     "exception": false,
     "start_time": "2025-07-30T14:15:04.900739",
     "status": "completed"
    },
    "tags": []
   },
   "source": [
    "# Splitting Data and Setting Training Data Size OLD VERSION"
   ]
  },
  {
   "cell_type": "code",
   "execution_count": 24,
   "id": "acbc8f7d-8fc8-4e86-8c59-5dcb0f58384b",
   "metadata": {
    "execution": {
     "iopub.execute_input": "2025-07-30T14:15:04.999119Z",
     "iopub.status.busy": "2025-07-30T14:15:04.998484Z",
     "iopub.status.idle": "2025-07-30T14:15:05.005752Z",
     "shell.execute_reply": "2025-07-30T14:15:05.004560Z"
    },
    "papermill": {
     "duration": 0.042567,
     "end_time": "2025-07-30T14:15:05.007358",
     "exception": false,
     "start_time": "2025-07-30T14:15:04.964791",
     "status": "completed"
    },
    "tags": []
   },
   "outputs": [],
   "source": [
    "#def sample_by_year(df, training_size, random_state=42):\n",
    "#    if training_size == \"2014\":\n",
    "#        return df[df[\"year\"] == 2014].reset_index(drop=True)\n",
    "#    \n",
    "#    size_map = {\n",
    "#        \"25k\": 5000,\n",
    "#        \"5k\": 1000,\n",
    "#        \"1k\": 200\n",
    "#    }\n",
    "#\n",
    "#    if training_size not in size_map:\n",
    "#        return df.reset_index(drop=True)  # use all data\n",
    "#\n",
    "#    n_per_year = size_map[training_size]\n",
    "#    grouped = df.groupby(\"year\")\n",
    "#    sampled = grouped.apply(lambda x: x.sample(n=min(n_per_year, len(x)), random_state=random_state))\n",
    "#    return sampled.reset_index(drop=True)"
   ]
  },
  {
   "cell_type": "code",
   "execution_count": 25,
   "id": "6d931f52-beaf-43ff-9e78-9d44a448d54e",
   "metadata": {
    "execution": {
     "iopub.execute_input": "2025-07-30T14:15:05.053755Z",
     "iopub.status.busy": "2025-07-30T14:15:05.053203Z",
     "iopub.status.idle": "2025-07-30T14:15:05.061282Z",
     "shell.execute_reply": "2025-07-30T14:15:05.060133Z"
    },
    "papermill": {
     "duration": 0.043668,
     "end_time": "2025-07-30T14:15:05.073321",
     "exception": false,
     "start_time": "2025-07-30T14:15:05.029653",
     "status": "completed"
    },
    "tags": []
   },
   "outputs": [],
   "source": [
    "#siab_s = sample_by_year(siab, universe[\"training_size\"])"
   ]
  },
  {
   "cell_type": "code",
   "execution_count": 26,
   "id": "5db0a40e-a4e2-4920-be85-b12ae061d70d",
   "metadata": {
    "execution": {
     "iopub.execute_input": "2025-07-30T14:15:05.117159Z",
     "iopub.status.busy": "2025-07-30T14:15:05.116451Z",
     "iopub.status.idle": "2025-07-30T14:15:05.122466Z",
     "shell.execute_reply": "2025-07-30T14:15:05.120724Z"
    },
    "papermill": {
     "duration": 0.029322,
     "end_time": "2025-07-30T14:15:05.124091",
     "exception": false,
     "start_time": "2025-07-30T14:15:05.094769",
     "status": "completed"
    },
    "tags": []
   },
   "outputs": [],
   "source": [
    "#display(siab_s.groupby(\"year\").size())"
   ]
  },
  {
   "cell_type": "code",
   "execution_count": 27,
   "id": "e6c733c5",
   "metadata": {
    "execution": {
     "iopub.execute_input": "2025-07-30T14:15:05.168699Z",
     "iopub.status.busy": "2025-07-30T14:15:05.168188Z",
     "iopub.status.idle": "2025-07-30T14:15:05.266643Z",
     "shell.execute_reply": "2025-07-30T14:15:05.265186Z"
    },
    "papermill": {
     "duration": 0.12253,
     "end_time": "2025-07-30T14:15:05.268465",
     "exception": false,
     "start_time": "2025-07-30T14:15:05.145935",
     "status": "completed"
    },
    "tags": []
   },
   "outputs": [],
   "source": [
    "# Auxiliary data needed downstream in the pipeline\n",
    "\n",
    "org_train = X_train.copy()\n",
    "org_test = X_test.copy()\n",
    "org_calib = X_calib.copy()"
   ]
  },
  {
   "cell_type": "code",
   "execution_count": 28,
   "id": "1466abac-c6da-4492-a62f-4240ae3783af",
   "metadata": {
    "execution": {
     "iopub.execute_input": "2025-07-30T14:15:05.315195Z",
     "iopub.status.busy": "2025-07-30T14:15:05.314504Z",
     "iopub.status.idle": "2025-07-30T14:15:05.321095Z",
     "shell.execute_reply": "2025-07-30T14:15:05.320158Z"
    },
    "papermill": {
     "duration": 0.031665,
     "end_time": "2025-07-30T14:15:05.322845",
     "exception": false,
     "start_time": "2025-07-30T14:15:05.291180",
     "status": "completed"
    },
    "tags": []
   },
   "outputs": [],
   "source": [
    "# put in other script?\n",
    "# Group sizes\n",
    "\n",
    "#def calculate_percentages(df, df_name):\n",
    "#    total_entries = len(df)\n",
    "#\n",
    "#    female_pct = (df['frau1'] == 1).mean() * 100\n",
    "#    non_german_pct = ((df['maxdeutsch1'] == 0) & (df['maxdeutsch.Missing.'] == 0)).mean() * 100\n",
    "#    non_german_male_pct = ((df['frau1'] == 0) & (df['maxdeutsch1'] == 0) & (df['maxdeutsch.Missing.'] == 0)).mean() * 100\n",
    "#    non_german_female_pct = ((df['frau1'] == 1) & (df['maxdeutsch1'] == 0) & (df['maxdeutsch.Missing.'] == 0)).mean() * 100\n",
    "#\n",
    "#    print(f\"--- {df_name} ---\")\n",
    "#    print(f\"Female: {female_pct:.2f}%\")\n",
    "#    print(f\"Non-German: {non_german_pct:.2f}%\")\n",
    "#    print(f\"Non-German Male: {non_german_male_pct:.2f}%\")\n",
    "#    print(f\"Non-German Female: {non_german_female_pct:.2f}%\\n\")\n",
    "#\n",
    "## Calculate for each DataFrame\n",
    "#calculate_percentages(siab_calib, \"siab_calib\")\n",
    "#calculate_percentages(siab_test, \"siab_test\")\n",
    "#calculate_percentages(siab_train, \"siab_train\")"
   ]
  },
  {
   "cell_type": "markdown",
   "id": "0a4a1b33",
   "metadata": {
    "papermill": {
     "duration": 0.021558,
     "end_time": "2025-07-30T14:15:05.367722",
     "exception": false,
     "start_time": "2025-07-30T14:15:05.346164",
     "status": "completed"
    },
    "tags": []
   },
   "source": [
    "# Preprocessing Data"
   ]
  },
  {
   "cell_type": "code",
   "execution_count": 29,
   "id": "ca879031",
   "metadata": {
    "execution": {
     "iopub.execute_input": "2025-07-30T14:15:05.417135Z",
     "iopub.status.busy": "2025-07-30T14:15:05.416263Z",
     "iopub.status.idle": "2025-07-30T14:15:05.422583Z",
     "shell.execute_reply": "2025-07-30T14:15:05.421470Z"
    },
    "papermill": {
     "duration": 0.03466,
     "end_time": "2025-07-30T14:15:05.424198",
     "exception": false,
     "start_time": "2025-07-30T14:15:05.389538",
     "status": "completed"
    },
    "tags": []
   },
   "outputs": [],
   "source": [
    "# EXCLUDE PROTECTED FEATURES\n",
    "# ----------------------\n",
    "# \"exclude_features\": \"none\", # \"nationality\", \"sex\", \"nationality-sex\"\n",
    "\n",
    "excluded_features = universe[\"exclude_features\"].split(\"-\") # split, e.g.: \"nationality-sex\" -> [\"nationality\", \"sex\"]\n",
    "excluded_features_dictionary = {\n",
    "    \"nationality\": [\"maxdeutsch1\", \"maxdeutsch.Missing.\"],\n",
    "    \"sex\": [\"frau1\"],\n",
    "    \"age\": [\"age\"],\n",
    "}\n"
   ]
  },
  {
   "cell_type": "code",
   "execution_count": 30,
   "id": "b745ac60",
   "metadata": {
    "execution": {
     "iopub.execute_input": "2025-07-30T14:15:05.469270Z",
     "iopub.status.busy": "2025-07-30T14:15:05.468309Z",
     "iopub.status.idle": "2025-07-30T14:15:05.475208Z",
     "shell.execute_reply": "2025-07-30T14:15:05.474221Z"
    },
    "papermill": {
     "duration": 0.031312,
     "end_time": "2025-07-30T14:15:05.476954",
     "exception": false,
     "start_time": "2025-07-30T14:15:05.445642",
     "status": "completed"
    },
    "tags": []
   },
   "outputs": [],
   "source": [
    "# Code nice names to column names\n",
    "\n",
    "excluded_features_columns = [\n",
    "    excluded_features_dictionary[f] for f in excluded_features if len(f) > 0 and f != \"none\"\n",
    "]"
   ]
  },
  {
   "cell_type": "code",
   "execution_count": 31,
   "id": "f84f73a2",
   "metadata": {
    "execution": {
     "iopub.execute_input": "2025-07-30T14:15:05.522170Z",
     "iopub.status.busy": "2025-07-30T14:15:05.521668Z",
     "iopub.status.idle": "2025-07-30T14:15:05.527170Z",
     "shell.execute_reply": "2025-07-30T14:15:05.526486Z"
    },
    "papermill": {
     "duration": 0.02945,
     "end_time": "2025-07-30T14:15:05.528414",
     "exception": false,
     "start_time": "2025-07-30T14:15:05.498964",
     "status": "completed"
    },
    "tags": []
   },
   "outputs": [],
   "source": [
    "from utils import flatten_once\n",
    "\n",
    "excluded_features_columns = flatten_once(excluded_features_columns)"
   ]
  },
  {
   "cell_type": "code",
   "execution_count": 32,
   "id": "884dea22",
   "metadata": {
    "execution": {
     "iopub.execute_input": "2025-07-30T14:15:05.558197Z",
     "iopub.status.busy": "2025-07-30T14:15:05.557779Z",
     "iopub.status.idle": "2025-07-30T14:15:05.567133Z",
     "shell.execute_reply": "2025-07-30T14:15:05.566472Z"
    },
    "papermill": {
     "duration": 0.023504,
     "end_time": "2025-07-30T14:15:05.568404",
     "exception": false,
     "start_time": "2025-07-30T14:15:05.544900",
     "status": "completed"
    },
    "tags": []
   },
   "outputs": [
    {
     "name": "stdout",
     "output_type": "stream",
     "text": [
      "Dropping features: ['age']\n"
     ]
    }
   ],
   "source": [
    "if len(excluded_features_columns) > 0:\n",
    "    print(f\"Dropping features: {excluded_features_columns}\")\n",
    "    X_train.drop(excluded_features_columns, axis=1, inplace=True)"
   ]
  },
  {
   "cell_type": "code",
   "execution_count": 33,
   "id": "95ab8b16",
   "metadata": {
    "execution": {
     "iopub.execute_input": "2025-07-30T14:15:05.603720Z",
     "iopub.status.busy": "2025-07-30T14:15:05.603151Z",
     "iopub.status.idle": "2025-07-30T14:15:05.668012Z",
     "shell.execute_reply": "2025-07-30T14:15:05.667044Z"
    },
    "papermill": {
     "duration": 0.084559,
     "end_time": "2025-07-30T14:15:05.669650",
     "exception": false,
     "start_time": "2025-07-30T14:15:05.585091",
     "status": "completed"
    },
    "tags": []
   },
   "outputs": [
    {
     "name": "stdout",
     "output_type": "stream",
     "text": [
      "Dropping features: ['age']\n"
     ]
    }
   ],
   "source": [
    "if len(excluded_features_columns) > 0:\n",
    "    print(f\"Dropping features: {excluded_features_columns}\")\n",
    "    X_test.drop(excluded_features_columns, axis=1, inplace=True)"
   ]
  },
  {
   "cell_type": "code",
   "execution_count": 34,
   "id": "1853aaf5-fb9f-46cb-a2b5-8ea4ae2237e4",
   "metadata": {
    "execution": {
     "iopub.execute_input": "2025-07-30T14:15:05.718507Z",
     "iopub.status.busy": "2025-07-30T14:15:05.717343Z",
     "iopub.status.idle": "2025-07-30T14:15:05.791026Z",
     "shell.execute_reply": "2025-07-30T14:15:05.789988Z"
    },
    "papermill": {
     "duration": 0.098472,
     "end_time": "2025-07-30T14:15:05.792951",
     "exception": false,
     "start_time": "2025-07-30T14:15:05.694479",
     "status": "completed"
    },
    "tags": []
   },
   "outputs": [
    {
     "name": "stdout",
     "output_type": "stream",
     "text": [
      "Dropping features: ['age']\n"
     ]
    }
   ],
   "source": [
    "if len(excluded_features_columns) > 0:\n",
    "    print(f\"Dropping features: {excluded_features_columns}\")\n",
    "    X_calib.drop(excluded_features_columns, axis=1, inplace=True)"
   ]
  },
  {
   "cell_type": "code",
   "execution_count": 35,
   "id": "6727d079-03e5-481e-9d38-292a90b7a0a8",
   "metadata": {
    "execution": {
     "iopub.execute_input": "2025-07-30T14:15:05.839091Z",
     "iopub.status.busy": "2025-07-30T14:15:05.838356Z",
     "iopub.status.idle": "2025-07-30T14:15:05.843787Z",
     "shell.execute_reply": "2025-07-30T14:15:05.842819Z"
    },
    "papermill": {
     "duration": 0.030478,
     "end_time": "2025-07-30T14:15:05.845763",
     "exception": false,
     "start_time": "2025-07-30T14:15:05.815285",
     "status": "completed"
    },
    "tags": []
   },
   "outputs": [],
   "source": [
    "# SPLIT & STRATIFY DATA\n",
    "# ----------------------"
   ]
  },
  {
   "cell_type": "code",
   "execution_count": 36,
   "id": "76c4dc6d",
   "metadata": {
    "execution": {
     "iopub.execute_input": "2025-07-30T14:15:05.895700Z",
     "iopub.status.busy": "2025-07-30T14:15:05.895291Z",
     "iopub.status.idle": "2025-07-30T14:15:05.899767Z",
     "shell.execute_reply": "2025-07-30T14:15:05.899102Z"
    },
    "papermill": {
     "duration": 0.03103,
     "end_time": "2025-07-30T14:15:05.901585",
     "exception": false,
     "start_time": "2025-07-30T14:15:05.870555",
     "status": "completed"
    },
    "tags": []
   },
   "outputs": [],
   "source": [
    "# EXCLUDE CERTAIN SUBGROUPS\n",
    "# ----------------------\n",
    "\n",
    "mode = universe.get(\"exclude_subgroups\", \"keep-all\") \n",
    "# Fetches the exclude_subgroups setting from the universe dict.\n",
    "# Defaults to \"keep-all\" if the key is missing."
   ]
  },
  {
   "cell_type": "code",
   "execution_count": 37,
   "id": "21994072",
   "metadata": {
    "execution": {
     "iopub.execute_input": "2025-07-30T14:15:05.951987Z",
     "iopub.status.busy": "2025-07-30T14:15:05.951719Z",
     "iopub.status.idle": "2025-07-30T14:15:05.958691Z",
     "shell.execute_reply": "2025-07-30T14:15:05.957317Z"
    },
    "papermill": {
     "duration": 0.025826,
     "end_time": "2025-07-30T14:15:05.960546",
     "exception": false,
     "start_time": "2025-07-30T14:15:05.934720",
     "status": "completed"
    },
    "tags": []
   },
   "outputs": [],
   "source": [
    "if mode == \"keep-all\":\n",
    "    keep_mask = pd.Series(True, index=org_train.index)\n",
    "\n",
    "# org_train contains the original feature columns from features_org (in Simson)\n",
    "# features_org contains unprocessed features, for me X_train at beginning ???\n",
    "# For keep-all, creates a boolean Series (keep_mask) of all True, so no rows are removed.\n",
    "\n",
    "elif mode == \"drop-non-german\":\n",
    "    keep_mask = org_train[\"maxdeutsch1\"] == 1 # ??? what about missing values?\n",
    "\n",
    "else:\n",
    "    raise ValueError(f\"Unsupported mode for exclude_subgroups: {mode}\")\n"
   ]
  },
  {
   "cell_type": "code",
   "execution_count": 38,
   "id": "71651440",
   "metadata": {
    "execution": {
     "iopub.execute_input": "2025-07-30T14:15:06.011214Z",
     "iopub.status.busy": "2025-07-30T14:15:06.010617Z",
     "iopub.status.idle": "2025-07-30T14:15:06.017980Z",
     "shell.execute_reply": "2025-07-30T14:15:06.016910Z"
    },
    "papermill": {
     "duration": 0.038945,
     "end_time": "2025-07-30T14:15:06.024549",
     "exception": false,
     "start_time": "2025-07-30T14:15:05.985604",
     "status": "completed"
    },
    "tags": []
   },
   "outputs": [
    {
     "name": "stdout",
     "output_type": "stream",
     "text": [
      "Dropping 657 rows (13.14%) where mode='drop-non-german'\n"
     ]
    }
   ],
   "source": [
    "n_drop = (~keep_mask).sum() # Calculates how many rows are set to be dropped\n",
    "if n_drop > 0:\n",
    "    pct = n_drop / len(keep_mask) * 100\n",
    "    print(f\"Dropping {n_drop} rows ({pct:.2f}%) where mode='{mode}'\")"
   ]
  },
  {
   "cell_type": "code",
   "execution_count": 39,
   "id": "5fb8eee5",
   "metadata": {
    "execution": {
     "iopub.execute_input": "2025-07-30T14:15:06.094615Z",
     "iopub.status.busy": "2025-07-30T14:15:06.094205Z",
     "iopub.status.idle": "2025-07-30T14:15:06.104434Z",
     "shell.execute_reply": "2025-07-30T14:15:06.101654Z"
    },
    "papermill": {
     "duration": 0.047002,
     "end_time": "2025-07-30T14:15:06.106540",
     "exception": false,
     "start_time": "2025-07-30T14:15:06.059538",
     "status": "completed"
    },
    "tags": []
   },
   "outputs": [],
   "source": [
    "X_train = X_train[keep_mask]"
   ]
  },
  {
   "cell_type": "code",
   "execution_count": 40,
   "id": "b202bb3a",
   "metadata": {
    "execution": {
     "iopub.execute_input": "2025-07-30T14:15:06.153572Z",
     "iopub.status.busy": "2025-07-30T14:15:06.153003Z",
     "iopub.status.idle": "2025-07-30T14:15:06.159203Z",
     "shell.execute_reply": "2025-07-30T14:15:06.158327Z"
    },
    "papermill": {
     "duration": 0.031246,
     "end_time": "2025-07-30T14:15:06.160954",
     "exception": false,
     "start_time": "2025-07-30T14:15:06.129708",
     "status": "completed"
    },
    "tags": []
   },
   "outputs": [],
   "source": [
    "y_train = y_train[keep_mask]"
   ]
  },
  {
   "cell_type": "markdown",
   "id": "493e2ac3",
   "metadata": {
    "papermill": {
     "duration": 0.021749,
     "end_time": "2025-07-30T14:15:06.206298",
     "exception": false,
     "start_time": "2025-07-30T14:15:06.184549",
     "status": "completed"
    },
    "tags": []
   },
   "source": [
    "# Model Training"
   ]
  },
  {
   "cell_type": "code",
   "execution_count": 41,
   "id": "679e1268",
   "metadata": {
    "execution": {
     "iopub.execute_input": "2025-07-30T14:15:06.253789Z",
     "iopub.status.busy": "2025-07-30T14:15:06.252960Z",
     "iopub.status.idle": "2025-07-30T14:15:06.353793Z",
     "shell.execute_reply": "2025-07-30T14:15:06.352849Z"
    },
    "papermill": {
     "duration": 0.127424,
     "end_time": "2025-07-30T14:15:06.355590",
     "exception": false,
     "start_time": "2025-07-30T14:15:06.228166",
     "status": "completed"
    },
    "tags": []
   },
   "outputs": [],
   "source": [
    "from sklearn.linear_model import LogisticRegression\n",
    "from sklearn.ensemble import GradientBoostingClassifier, RandomForestClassifier\n",
    "\n",
    "if (universe[\"model\"] == \"logreg\"):\n",
    "    model = LogisticRegression() #penalty=\"none\") #, solver=\"newton-cg\", max_iter=1) # include random_state=19 ?\n",
    "elif (universe[\"model\"] == \"penalized_logreg\"):\n",
    "    model = LogisticRegression(penalty=\"l2\", C=1.0) #, solver=\"newton-cg\", max_iter=1)\n",
    "elif (universe[\"model\"] == \"rf\"):\n",
    "    model = RandomForestClassifier(n_estimators=100, n_jobs=-1)\n",
    "elif (universe[\"model\"] == \"gbm\"):\n",
    "    model = GradientBoostingClassifier()\n",
    "elif (universe[\"model\"] == \"elasticnet\"):\n",
    "    model = LogisticRegression(penalty = 'elasticnet', solver = 'saga', l1_ratio = 0.5, max_iter=5000) # which solver to use?\n",
    "else:\n",
    "    raise \"Unsupported universe.model\""
   ]
  },
  {
   "cell_type": "code",
   "execution_count": 42,
   "id": "0cc8f744",
   "metadata": {
    "execution": {
     "iopub.execute_input": "2025-07-30T14:15:06.406706Z",
     "iopub.status.busy": "2025-07-30T14:15:06.405768Z",
     "iopub.status.idle": "2025-07-30T14:15:06.412021Z",
     "shell.execute_reply": "2025-07-30T14:15:06.411138Z"
    },
    "papermill": {
     "duration": 0.033098,
     "end_time": "2025-07-30T14:15:06.413803",
     "exception": false,
     "start_time": "2025-07-30T14:15:06.380705",
     "status": "completed"
    },
    "tags": []
   },
   "outputs": [],
   "source": [
    "import numpy as np\n",
    "from sklearn.pipeline import Pipeline\n",
    "from sklearn.preprocessing import StandardScaler\n",
    "\n",
    "model = Pipeline([\n",
    "    #(\"continuous_processor\", continuous_processor),\n",
    "    #(\"categorical_preprocessor\", categorical_preprocessor),\n",
    "    (\"scale\", StandardScaler() if universe[\"scale\"] == \"scale\" else None), \n",
    "    (\"model\", model),\n",
    "])"
   ]
  },
  {
   "cell_type": "code",
   "execution_count": 43,
   "id": "9442c04d",
   "metadata": {
    "execution": {
     "iopub.execute_input": "2025-07-30T14:15:06.465604Z",
     "iopub.status.busy": "2025-07-30T14:15:06.464958Z",
     "iopub.status.idle": "2025-07-30T14:15:07.397077Z",
     "shell.execute_reply": "2025-07-30T14:15:07.396154Z"
    },
    "papermill": {
     "duration": 0.959217,
     "end_time": "2025-07-30T14:15:07.398614",
     "exception": false,
     "start_time": "2025-07-30T14:15:06.439397",
     "status": "completed"
    },
    "tags": []
   },
   "outputs": [
    {
     "data": {
      "text/html": [
       "<style>#sk-container-id-1 {color: black;background-color: white;}#sk-container-id-1 pre{padding: 0;}#sk-container-id-1 div.sk-toggleable {background-color: white;}#sk-container-id-1 label.sk-toggleable__label {cursor: pointer;display: block;width: 100%;margin-bottom: 0;padding: 0.3em;box-sizing: border-box;text-align: center;}#sk-container-id-1 label.sk-toggleable__label-arrow:before {content: \"▸\";float: left;margin-right: 0.25em;color: #696969;}#sk-container-id-1 label.sk-toggleable__label-arrow:hover:before {color: black;}#sk-container-id-1 div.sk-estimator:hover label.sk-toggleable__label-arrow:before {color: black;}#sk-container-id-1 div.sk-toggleable__content {max-height: 0;max-width: 0;overflow: hidden;text-align: left;background-color: #f0f8ff;}#sk-container-id-1 div.sk-toggleable__content pre {margin: 0.2em;color: black;border-radius: 0.25em;background-color: #f0f8ff;}#sk-container-id-1 input.sk-toggleable__control:checked~div.sk-toggleable__content {max-height: 200px;max-width: 100%;overflow: auto;}#sk-container-id-1 input.sk-toggleable__control:checked~label.sk-toggleable__label-arrow:before {content: \"▾\";}#sk-container-id-1 div.sk-estimator input.sk-toggleable__control:checked~label.sk-toggleable__label {background-color: #d4ebff;}#sk-container-id-1 div.sk-label input.sk-toggleable__control:checked~label.sk-toggleable__label {background-color: #d4ebff;}#sk-container-id-1 input.sk-hidden--visually {border: 0;clip: rect(1px 1px 1px 1px);clip: rect(1px, 1px, 1px, 1px);height: 1px;margin: -1px;overflow: hidden;padding: 0;position: absolute;width: 1px;}#sk-container-id-1 div.sk-estimator {font-family: monospace;background-color: #f0f8ff;border: 1px dotted black;border-radius: 0.25em;box-sizing: border-box;margin-bottom: 0.5em;}#sk-container-id-1 div.sk-estimator:hover {background-color: #d4ebff;}#sk-container-id-1 div.sk-parallel-item::after {content: \"\";width: 100%;border-bottom: 1px solid gray;flex-grow: 1;}#sk-container-id-1 div.sk-label:hover label.sk-toggleable__label {background-color: #d4ebff;}#sk-container-id-1 div.sk-serial::before {content: \"\";position: absolute;border-left: 1px solid gray;box-sizing: border-box;top: 0;bottom: 0;left: 50%;z-index: 0;}#sk-container-id-1 div.sk-serial {display: flex;flex-direction: column;align-items: center;background-color: white;padding-right: 0.2em;padding-left: 0.2em;position: relative;}#sk-container-id-1 div.sk-item {position: relative;z-index: 1;}#sk-container-id-1 div.sk-parallel {display: flex;align-items: stretch;justify-content: center;background-color: white;position: relative;}#sk-container-id-1 div.sk-item::before, #sk-container-id-1 div.sk-parallel-item::before {content: \"\";position: absolute;border-left: 1px solid gray;box-sizing: border-box;top: 0;bottom: 0;left: 50%;z-index: -1;}#sk-container-id-1 div.sk-parallel-item {display: flex;flex-direction: column;z-index: 1;position: relative;background-color: white;}#sk-container-id-1 div.sk-parallel-item:first-child::after {align-self: flex-end;width: 50%;}#sk-container-id-1 div.sk-parallel-item:last-child::after {align-self: flex-start;width: 50%;}#sk-container-id-1 div.sk-parallel-item:only-child::after {width: 0;}#sk-container-id-1 div.sk-dashed-wrapped {border: 1px dashed gray;margin: 0 0.4em 0.5em 0.4em;box-sizing: border-box;padding-bottom: 0.4em;background-color: white;}#sk-container-id-1 div.sk-label label {font-family: monospace;font-weight: bold;display: inline-block;line-height: 1.2em;}#sk-container-id-1 div.sk-label-container {text-align: center;}#sk-container-id-1 div.sk-container {/* jupyter's `normalize.less` sets `[hidden] { display: none; }` but bootstrap.min.css set `[hidden] { display: none !important; }` so we also need the `!important` here to be able to override the default hidden behavior on the sphinx rendered scikit-learn.org. See: https://github.com/scikit-learn/scikit-learn/issues/21755 */display: inline-block !important;position: relative;}#sk-container-id-1 div.sk-text-repr-fallback {display: none;}</style><div id=\"sk-container-id-1\" class=\"sk-top-container\"><div class=\"sk-text-repr-fallback\"><pre>Pipeline(steps=[(&#x27;scale&#x27;, None), (&#x27;model&#x27;, RandomForestClassifier(n_jobs=-1))])</pre><b>In a Jupyter environment, please rerun this cell to show the HTML representation or trust the notebook. <br />On GitHub, the HTML representation is unable to render, please try loading this page with nbviewer.org.</b></div><div class=\"sk-container\" hidden><div class=\"sk-item sk-dashed-wrapped\"><div class=\"sk-label-container\"><div class=\"sk-label sk-toggleable\"><input class=\"sk-toggleable__control sk-hidden--visually\" id=\"sk-estimator-id-1\" type=\"checkbox\" ><label for=\"sk-estimator-id-1\" class=\"sk-toggleable__label sk-toggleable__label-arrow\">Pipeline</label><div class=\"sk-toggleable__content\"><pre>Pipeline(steps=[(&#x27;scale&#x27;, None), (&#x27;model&#x27;, RandomForestClassifier(n_jobs=-1))])</pre></div></div></div><div class=\"sk-serial\"><div class=\"sk-item\"><div class=\"sk-estimator sk-toggleable\"><input class=\"sk-toggleable__control sk-hidden--visually\" id=\"sk-estimator-id-2\" type=\"checkbox\" ><label for=\"sk-estimator-id-2\" class=\"sk-toggleable__label sk-toggleable__label-arrow\">None</label><div class=\"sk-toggleable__content\"><pre>None</pre></div></div></div><div class=\"sk-item\"><div class=\"sk-estimator sk-toggleable\"><input class=\"sk-toggleable__control sk-hidden--visually\" id=\"sk-estimator-id-3\" type=\"checkbox\" ><label for=\"sk-estimator-id-3\" class=\"sk-toggleable__label sk-toggleable__label-arrow\">RandomForestClassifier</label><div class=\"sk-toggleable__content\"><pre>RandomForestClassifier(n_jobs=-1)</pre></div></div></div></div></div></div></div>"
      ],
      "text/plain": [
       "Pipeline(steps=[('scale', None), ('model', RandomForestClassifier(n_jobs=-1))])"
      ]
     },
     "execution_count": 43,
     "metadata": {},
     "output_type": "execute_result"
    }
   ],
   "source": [
    "model.fit(X_train, y_train.values.ravel())"
   ]
  },
  {
   "cell_type": "code",
   "execution_count": 44,
   "id": "af59f8c0",
   "metadata": {
    "execution": {
     "iopub.execute_input": "2025-07-30T14:15:07.448589Z",
     "iopub.status.busy": "2025-07-30T14:15:07.448100Z",
     "iopub.status.idle": "2025-07-30T14:15:07.453339Z",
     "shell.execute_reply": "2025-07-30T14:15:07.452375Z"
    },
    "papermill": {
     "duration": 0.032357,
     "end_time": "2025-07-30T14:15:07.455042",
     "exception": false,
     "start_time": "2025-07-30T14:15:07.422685",
     "status": "completed"
    },
    "tags": []
   },
   "outputs": [],
   "source": [
    "from fairness_multiverse.universe import predict_w_threshold"
   ]
  },
  {
   "cell_type": "code",
   "execution_count": 45,
   "id": "a7cf2e16",
   "metadata": {
    "execution": {
     "iopub.execute_input": "2025-07-30T14:15:07.519781Z",
     "iopub.status.busy": "2025-07-30T14:15:07.519087Z",
     "iopub.status.idle": "2025-07-30T14:15:08.483189Z",
     "shell.execute_reply": "2025-07-30T14:15:08.482305Z"
    },
    "papermill": {
     "duration": 0.990154,
     "end_time": "2025-07-30T14:15:08.484760",
     "exception": false,
     "start_time": "2025-07-30T14:15:07.494606",
     "status": "completed"
    },
    "tags": []
   },
   "outputs": [
    {
     "data": {
      "text/plain": [
       "0.8646304759781518"
      ]
     },
     "execution_count": 45,
     "metadata": {},
     "output_type": "execute_result"
    }
   ],
   "source": [
    "probs_test = model.predict_proba(X_test)\n",
    "\n",
    "'''\n",
    "Below code returns a boolean array (or binary 0/1 array depending on how it’s used) where each element \n",
    "is True if the probability of class 1 is greater than or equal to the threshold, and False otherwise.\n",
    "'''\n",
    "y_pred_default = predict_w_threshold(probs_test, 0.5)\n",
    "\n",
    "from sklearn.metrics import accuracy_score\n",
    "\n",
    "# Naive prediction\n",
    "accuracy_score(y_true = y_true, y_pred = y_pred_default)"
   ]
  },
  {
   "cell_type": "code",
   "execution_count": 46,
   "id": "081964c3",
   "metadata": {
    "execution": {
     "iopub.execute_input": "2025-07-30T14:15:08.536578Z",
     "iopub.status.busy": "2025-07-30T14:15:08.535665Z",
     "iopub.status.idle": "2025-07-30T14:15:09.448681Z",
     "shell.execute_reply": "2025-07-30T14:15:09.447939Z"
    },
    "papermill": {
     "duration": 0.938732,
     "end_time": "2025-07-30T14:15:09.449880",
     "exception": false,
     "start_time": "2025-07-30T14:15:08.511148",
     "status": "completed"
    },
    "tags": []
   },
   "outputs": [
    {
     "data": {
      "text/plain": [
       "array([0, 0, 0, ..., 0, 0, 0])"
      ]
     },
     "execution_count": 46,
     "metadata": {},
     "output_type": "execute_result"
    }
   ],
   "source": [
    "model.predict(X_test)"
   ]
  },
  {
   "cell_type": "markdown",
   "id": "56c9705b",
   "metadata": {
    "papermill": {
     "duration": 0.012197,
     "end_time": "2025-07-30T14:15:09.475416",
     "exception": false,
     "start_time": "2025-07-30T14:15:09.463219",
     "status": "completed"
    },
    "tags": []
   },
   "source": [
    "# Conformal Prediction"
   ]
  },
  {
   "cell_type": "code",
   "execution_count": 47,
   "id": "160ec6ff",
   "metadata": {
    "execution": {
     "iopub.execute_input": "2025-07-30T14:15:09.513670Z",
     "iopub.status.busy": "2025-07-30T14:15:09.513077Z",
     "iopub.status.idle": "2025-07-30T14:15:09.518270Z",
     "shell.execute_reply": "2025-07-30T14:15:09.517291Z"
    },
    "papermill": {
     "duration": 0.03215,
     "end_time": "2025-07-30T14:15:09.520091",
     "exception": false,
     "start_time": "2025-07-30T14:15:09.487941",
     "status": "completed"
    },
    "tags": []
   },
   "outputs": [],
   "source": [
    "# Miscoverage level for conformal prediction (10% allowed error rate => 90% target coverage)\n",
    "alpha = 0.1"
   ]
  },
  {
   "cell_type": "code",
   "execution_count": 48,
   "id": "eadf4555-3dd3-440e-8e35-f82a4ad9f855",
   "metadata": {
    "execution": {
     "iopub.execute_input": "2025-07-30T14:15:09.553663Z",
     "iopub.status.busy": "2025-07-30T14:15:09.553308Z",
     "iopub.status.idle": "2025-07-30T14:15:10.506637Z",
     "shell.execute_reply": "2025-07-30T14:15:10.505576Z"
    },
    "papermill": {
     "duration": 0.968288,
     "end_time": "2025-07-30T14:15:10.508304",
     "exception": false,
     "start_time": "2025-07-30T14:15:09.540016",
     "status": "completed"
    },
    "tags": []
   },
   "outputs": [],
   "source": [
    "probs_calib = model.predict_proba(X_calib)"
   ]
  },
  {
   "cell_type": "code",
   "execution_count": 49,
   "id": "2ed93547-6d5d-4983-9b36-1ecb300da49a",
   "metadata": {
    "execution": {
     "iopub.execute_input": "2025-07-30T14:15:10.557711Z",
     "iopub.status.busy": "2025-07-30T14:15:10.556840Z",
     "iopub.status.idle": "2025-07-30T14:15:10.562806Z",
     "shell.execute_reply": "2025-07-30T14:15:10.561803Z"
    },
    "papermill": {
     "duration": 0.034444,
     "end_time": "2025-07-30T14:15:10.564674",
     "exception": false,
     "start_time": "2025-07-30T14:15:10.530230",
     "status": "completed"
    },
    "tags": []
   },
   "outputs": [],
   "source": [
    "y_calib = y_calib.values.ravel().astype(int)"
   ]
  },
  {
   "cell_type": "code",
   "execution_count": 50,
   "id": "65d1320d-f588-4b38-9072-62af1ae97f7d",
   "metadata": {
    "execution": {
     "iopub.execute_input": "2025-07-30T14:15:10.616276Z",
     "iopub.status.busy": "2025-07-30T14:15:10.615754Z",
     "iopub.status.idle": "2025-07-30T14:15:10.624488Z",
     "shell.execute_reply": "2025-07-30T14:15:10.623543Z"
    },
    "papermill": {
     "duration": 0.036938,
     "end_time": "2025-07-30T14:15:10.626017",
     "exception": false,
     "start_time": "2025-07-30T14:15:10.589079",
     "status": "completed"
    },
    "tags": []
   },
   "outputs": [],
   "source": [
    "from fairness_multiverse.conformal import compute_nc_scores\n",
    "\n",
    "# Compute nonconformity scores on calibration set (1 - probability of true class)\n",
    "nc_scores = compute_nc_scores(probs_calib, y_calib)"
   ]
  },
  {
   "cell_type": "code",
   "execution_count": 51,
   "id": "df3b8ca3-53b7-43d5-9667-7c85da7aeda2",
   "metadata": {
    "execution": {
     "iopub.execute_input": "2025-07-30T14:15:10.678206Z",
     "iopub.status.busy": "2025-07-30T14:15:10.677750Z",
     "iopub.status.idle": "2025-07-30T14:15:10.684253Z",
     "shell.execute_reply": "2025-07-30T14:15:10.683218Z"
    },
    "papermill": {
     "duration": 0.035619,
     "end_time": "2025-07-30T14:15:10.685839",
     "exception": false,
     "start_time": "2025-07-30T14:15:10.650220",
     "status": "completed"
    },
    "tags": []
   },
   "outputs": [],
   "source": [
    "from fairness_multiverse.conformal import find_threshold\n",
    "\n",
    "# Find conformal threshold q_hat for the given alpha (split conformal method)\n",
    "q_hat = find_threshold(nc_scores, alpha)"
   ]
  },
  {
   "cell_type": "code",
   "execution_count": 52,
   "id": "4d29e6c1-0ef6-4aa4-b8fe-4fe79b0d033a",
   "metadata": {
    "execution": {
     "iopub.execute_input": "2025-07-30T14:15:10.738707Z",
     "iopub.status.busy": "2025-07-30T14:15:10.737874Z",
     "iopub.status.idle": "2025-07-30T14:15:10.747734Z",
     "shell.execute_reply": "2025-07-30T14:15:10.746636Z"
    },
    "papermill": {
     "duration": 0.038626,
     "end_time": "2025-07-30T14:15:10.749539",
     "exception": false,
     "start_time": "2025-07-30T14:15:10.710913",
     "status": "completed"
    },
    "tags": []
   },
   "outputs": [
    {
     "data": {
      "text/plain": [
       "0.6699999999999999"
      ]
     },
     "execution_count": 52,
     "metadata": {},
     "output_type": "execute_result"
    }
   ],
   "source": [
    "q_hat"
   ]
  },
  {
   "cell_type": "code",
   "execution_count": 53,
   "id": "92460794-cdac-4be2-ba28-f28c0515a6fb",
   "metadata": {
    "execution": {
     "iopub.execute_input": "2025-07-30T14:15:10.806598Z",
     "iopub.status.busy": "2025-07-30T14:15:10.805630Z",
     "iopub.status.idle": "2025-07-30T14:15:12.350009Z",
     "shell.execute_reply": "2025-07-30T14:15:12.349077Z"
    },
    "papermill": {
     "duration": 1.574691,
     "end_time": "2025-07-30T14:15:12.352062",
     "exception": false,
     "start_time": "2025-07-30T14:15:10.777371",
     "status": "completed"
    },
    "tags": []
   },
   "outputs": [],
   "source": [
    "from fairness_multiverse.conformal import predict_conformal_sets\n",
    "\n",
    "# Generate prediction sets for each test example\n",
    "pred_sets = predict_conformal_sets(model, X_test, q_hat)"
   ]
  },
  {
   "cell_type": "code",
   "execution_count": 54,
   "id": "d90c9a65-e6db-4f5d-80cd-e68fb7e46829",
   "metadata": {
    "execution": {
     "iopub.execute_input": "2025-07-30T14:15:12.406897Z",
     "iopub.status.busy": "2025-07-30T14:15:12.406020Z",
     "iopub.status.idle": "2025-07-30T14:15:12.411522Z",
     "shell.execute_reply": "2025-07-30T14:15:12.410687Z"
    },
    "papermill": {
     "duration": 0.034414,
     "end_time": "2025-07-30T14:15:12.413223",
     "exception": false,
     "start_time": "2025-07-30T14:15:12.378809",
     "status": "completed"
    },
    "tags": []
   },
   "outputs": [],
   "source": [
    "y_true = y_true.squeeze()"
   ]
  },
  {
   "cell_type": "code",
   "execution_count": 55,
   "id": "3a58a54a-1e68-46b9-927a-df01f18aebc8",
   "metadata": {
    "execution": {
     "iopub.execute_input": "2025-07-30T14:15:12.467248Z",
     "iopub.status.busy": "2025-07-30T14:15:12.466726Z",
     "iopub.status.idle": "2025-07-30T14:15:13.408806Z",
     "shell.execute_reply": "2025-07-30T14:15:13.407563Z"
    },
    "papermill": {
     "duration": 0.972175,
     "end_time": "2025-07-30T14:15:13.410891",
     "exception": false,
     "start_time": "2025-07-30T14:15:12.438716",
     "status": "completed"
    },
    "tags": []
   },
   "outputs": [],
   "source": [
    "from fairness_multiverse.conformal import evaluate_sets\n",
    "\n",
    "# Evaluate coverage and average set size on test data\n",
    "metrics = evaluate_sets(pred_sets, y_true)"
   ]
  },
  {
   "cell_type": "markdown",
   "id": "2b569c12-9aaa-4c88-98c9-bbcd0cf3ebb8",
   "metadata": {
    "papermill": {
     "duration": 0.028823,
     "end_time": "2025-07-30T14:15:13.468250",
     "exception": false,
     "start_time": "2025-07-30T14:15:13.439427",
     "status": "completed"
    },
    "tags": []
   },
   "source": [
    "# CP Metrics"
   ]
  },
  {
   "cell_type": "code",
   "execution_count": 56,
   "id": "5ce0a5cb-201f-45a0-ade5-94c7f0bd6095",
   "metadata": {
    "execution": {
     "iopub.execute_input": "2025-07-30T14:15:13.526444Z",
     "iopub.status.busy": "2025-07-30T14:15:13.525570Z",
     "iopub.status.idle": "2025-07-30T14:15:13.533773Z",
     "shell.execute_reply": "2025-07-30T14:15:13.532774Z"
    },
    "papermill": {
     "duration": 0.039683,
     "end_time": "2025-07-30T14:15:13.535466",
     "exception": false,
     "start_time": "2025-07-30T14:15:13.495783",
     "status": "completed"
    },
    "tags": []
   },
   "outputs": [
    {
     "data": {
      "text/plain": [
       "{'coverage': 0.9120387916620221, 'avg_size': 1.1486456359380226}"
      ]
     },
     "execution_count": 56,
     "metadata": {},
     "output_type": "execute_result"
    }
   ],
   "source": [
    "metrics"
   ]
  },
  {
   "cell_type": "code",
   "execution_count": 57,
   "id": "9b9a838d-31c9-430b-ae14-12baee460d17",
   "metadata": {
    "execution": {
     "iopub.execute_input": "2025-07-30T14:15:13.591382Z",
     "iopub.status.busy": "2025-07-30T14:15:13.590860Z",
     "iopub.status.idle": "2025-07-30T14:15:13.597692Z",
     "shell.execute_reply": "2025-07-30T14:15:13.596640Z"
    },
    "papermill": {
     "duration": 0.036428,
     "end_time": "2025-07-30T14:15:13.599546",
     "exception": false,
     "start_time": "2025-07-30T14:15:13.563118",
     "status": "completed"
    },
    "tags": []
   },
   "outputs": [],
   "source": [
    "example_universe = universe.copy()\n",
    "universe_training_size = example_universe.get(\"training_size\")\n",
    "universe_scale = example_universe.get(\"scale\")\n",
    "universe_model = example_universe.get(\"model\")\n",
    "universe_exclude_features = example_universe.get(\"exclude_features\")\n",
    "universe_exclude_subgroups = example_universe.get(\"exclude_subgroups\")"
   ]
  },
  {
   "cell_type": "code",
   "execution_count": 58,
   "id": "f4b6a8ac-9dc0-4245-8a91-5b3b5999c4f9",
   "metadata": {
    "execution": {
     "iopub.execute_input": "2025-07-30T14:15:13.657364Z",
     "iopub.status.busy": "2025-07-30T14:15:13.656843Z",
     "iopub.status.idle": "2025-07-30T14:15:13.663902Z",
     "shell.execute_reply": "2025-07-30T14:15:13.662919Z"
    },
    "papermill": {
     "duration": 0.037437,
     "end_time": "2025-07-30T14:15:13.665518",
     "exception": false,
     "start_time": "2025-07-30T14:15:13.628081",
     "status": "completed"
    },
    "tags": []
   },
   "outputs": [],
   "source": [
    "cp_metrics_dict = {\n",
    "    \"universe_id\": [universe_id],\n",
    "    \"universe_training_size\": [universe_training_size],\n",
    "    \"universe_scale\": [universe_scale],\n",
    "    \"universe_model\": [universe_model],\n",
    "    \"universe_exclude_features\": [universe_exclude_features],\n",
    "    \"universe_exclude_subgroups\": [universe_exclude_subgroups],\n",
    "    \"q_hat\": [q_hat],\n",
    "    \"coverage\": [metrics[\"coverage\"]],\n",
    "    \"avg_size\": [metrics[\"avg_size\"]],\n",
    "}"
   ]
  },
  {
   "cell_type": "code",
   "execution_count": 59,
   "id": "908acbb1-0371-4915-85ca-3fa520d2efe2",
   "metadata": {
    "execution": {
     "iopub.execute_input": "2025-07-30T14:15:13.721405Z",
     "iopub.status.busy": "2025-07-30T14:15:13.720439Z",
     "iopub.status.idle": "2025-07-30T14:15:13.727246Z",
     "shell.execute_reply": "2025-07-30T14:15:13.726381Z"
    },
    "papermill": {
     "duration": 0.037808,
     "end_time": "2025-07-30T14:15:13.729037",
     "exception": false,
     "start_time": "2025-07-30T14:15:13.691229",
     "status": "completed"
    },
    "tags": []
   },
   "outputs": [
    {
     "data": {
      "text/plain": [
       "{'universe_id': ['2ef6a290147016a2216af357e9ee9540'],\n",
       " 'universe_training_size': ['5k'],\n",
       " 'universe_scale': ['do-not-scale'],\n",
       " 'universe_model': ['rf'],\n",
       " 'universe_exclude_features': ['age'],\n",
       " 'universe_exclude_subgroups': ['drop-non-german'],\n",
       " 'q_hat': [0.6699999999999999],\n",
       " 'coverage': [0.9120387916620221],\n",
       " 'avg_size': [1.1486456359380226]}"
      ]
     },
     "execution_count": 59,
     "metadata": {},
     "output_type": "execute_result"
    }
   ],
   "source": [
    "cp_metrics_dict"
   ]
  },
  {
   "cell_type": "code",
   "execution_count": 60,
   "id": "33007efc-14e9-4ec6-97ac-56a455c82265",
   "metadata": {
    "execution": {
     "iopub.execute_input": "2025-07-30T14:15:13.788766Z",
     "iopub.status.busy": "2025-07-30T14:15:13.787990Z",
     "iopub.status.idle": "2025-07-30T14:15:13.795074Z",
     "shell.execute_reply": "2025-07-30T14:15:13.793943Z"
    },
    "papermill": {
     "duration": 0.039079,
     "end_time": "2025-07-30T14:15:13.796859",
     "exception": false,
     "start_time": "2025-07-30T14:15:13.757780",
     "status": "completed"
    },
    "tags": []
   },
   "outputs": [],
   "source": [
    "cp_metrics_df = pd.DataFrame(cp_metrics_dict)"
   ]
  },
  {
   "cell_type": "code",
   "execution_count": 61,
   "id": "db12611b-57b2-4910-b9d0-355adfd6e7bf",
   "metadata": {
    "execution": {
     "iopub.execute_input": "2025-07-30T14:15:13.841470Z",
     "iopub.status.busy": "2025-07-30T14:15:13.840980Z",
     "iopub.status.idle": "2025-07-30T14:15:13.858536Z",
     "shell.execute_reply": "2025-07-30T14:15:13.857643Z"
    },
    "papermill": {
     "duration": 0.03592,
     "end_time": "2025-07-30T14:15:13.859782",
     "exception": false,
     "start_time": "2025-07-30T14:15:13.823862",
     "status": "completed"
    },
    "tags": []
   },
   "outputs": [
    {
     "data": {
      "text/html": [
       "<div>\n",
       "<style scoped>\n",
       "    .dataframe tbody tr th:only-of-type {\n",
       "        vertical-align: middle;\n",
       "    }\n",
       "\n",
       "    .dataframe tbody tr th {\n",
       "        vertical-align: top;\n",
       "    }\n",
       "\n",
       "    .dataframe thead th {\n",
       "        text-align: right;\n",
       "    }\n",
       "</style>\n",
       "<table border=\"1\" class=\"dataframe\">\n",
       "  <thead>\n",
       "    <tr style=\"text-align: right;\">\n",
       "      <th></th>\n",
       "      <th>universe_id</th>\n",
       "      <th>universe_training_size</th>\n",
       "      <th>universe_scale</th>\n",
       "      <th>universe_model</th>\n",
       "      <th>universe_exclude_features</th>\n",
       "      <th>universe_exclude_subgroups</th>\n",
       "      <th>q_hat</th>\n",
       "      <th>coverage</th>\n",
       "      <th>avg_size</th>\n",
       "    </tr>\n",
       "  </thead>\n",
       "  <tbody>\n",
       "    <tr>\n",
       "      <th>0</th>\n",
       "      <td>2ef6a290147016a2216af357e9ee9540</td>\n",
       "      <td>5k</td>\n",
       "      <td>do-not-scale</td>\n",
       "      <td>rf</td>\n",
       "      <td>age</td>\n",
       "      <td>drop-non-german</td>\n",
       "      <td>0.67</td>\n",
       "      <td>0.912039</td>\n",
       "      <td>1.148646</td>\n",
       "    </tr>\n",
       "  </tbody>\n",
       "</table>\n",
       "</div>"
      ],
      "text/plain": [
       "                        universe_id universe_training_size universe_scale  \\\n",
       "0  2ef6a290147016a2216af357e9ee9540                     5k   do-not-scale   \n",
       "\n",
       "  universe_model universe_exclude_features universe_exclude_subgroups  q_hat  \\\n",
       "0             rf                       age            drop-non-german   0.67   \n",
       "\n",
       "   coverage  avg_size  \n",
       "0  0.912039  1.148646  "
      ]
     },
     "execution_count": 61,
     "metadata": {},
     "output_type": "execute_result"
    }
   ],
   "source": [
    "cp_metrics_df"
   ]
  },
  {
   "cell_type": "code",
   "execution_count": 62,
   "id": "b7fbde55-a0a1-47e4-9af6-fe4a17fa8c61",
   "metadata": {
    "execution": {
     "iopub.execute_input": "2025-07-30T14:15:13.892900Z",
     "iopub.status.busy": "2025-07-30T14:15:13.892388Z",
     "iopub.status.idle": "2025-07-30T14:15:13.896973Z",
     "shell.execute_reply": "2025-07-30T14:15:13.896277Z"
    },
    "papermill": {
     "duration": 0.021273,
     "end_time": "2025-07-30T14:15:13.898289",
     "exception": false,
     "start_time": "2025-07-30T14:15:13.877016",
     "status": "completed"
    },
    "tags": []
   },
   "outputs": [],
   "source": [
    "# Conditional Coverage & looking at subgroups"
   ]
  },
  {
   "cell_type": "code",
   "execution_count": 63,
   "id": "027ae886-68dd-4141-96c7-805a5450e1ef",
   "metadata": {
    "execution": {
     "iopub.execute_input": "2025-07-30T14:15:13.929193Z",
     "iopub.status.busy": "2025-07-30T14:15:13.928650Z",
     "iopub.status.idle": "2025-07-30T14:15:14.212828Z",
     "shell.execute_reply": "2025-07-30T14:15:14.211774Z"
    },
    "papermill": {
     "duration": 0.301243,
     "end_time": "2025-07-30T14:15:14.214416",
     "exception": false,
     "start_time": "2025-07-30T14:15:13.913173",
     "status": "completed"
    },
    "tags": []
   },
   "outputs": [],
   "source": [
    "from fairness_multiverse.conformal import build_cp_groups\n",
    "\n",
    "cp_groups_df = build_cp_groups(pred_sets, y_true, X_test.index, org_test)\n",
    "#needs universe_id and setting"
   ]
  },
  {
   "cell_type": "code",
   "execution_count": 64,
   "id": "01d5802c-663a-4d1f-9d69-e036faaffbf7",
   "metadata": {
    "execution": {
     "iopub.execute_input": "2025-07-30T14:15:14.269219Z",
     "iopub.status.busy": "2025-07-30T14:15:14.268769Z",
     "iopub.status.idle": "2025-07-30T14:15:14.274018Z",
     "shell.execute_reply": "2025-07-30T14:15:14.273048Z"
    },
    "papermill": {
     "duration": 0.035471,
     "end_time": "2025-07-30T14:15:14.275722",
     "exception": false,
     "start_time": "2025-07-30T14:15:14.240251",
     "status": "completed"
    },
    "tags": []
   },
   "outputs": [],
   "source": [
    "#delete\n",
    "#cp_groups_df"
   ]
  },
  {
   "cell_type": "code",
   "execution_count": 65,
   "id": "fa424af1-d1eb-443d-b717-2d279ada8408",
   "metadata": {
    "execution": {
     "iopub.execute_input": "2025-07-30T14:15:14.332392Z",
     "iopub.status.busy": "2025-07-30T14:15:14.331534Z",
     "iopub.status.idle": "2025-07-30T14:15:14.337541Z",
     "shell.execute_reply": "2025-07-30T14:15:14.336523Z"
    },
    "papermill": {
     "duration": 0.036702,
     "end_time": "2025-07-30T14:15:14.339346",
     "exception": false,
     "start_time": "2025-07-30T14:15:14.302644",
     "status": "completed"
    },
    "tags": []
   },
   "outputs": [],
   "source": [
    "#delete\n",
    "#percentage = (cp_groups_df['nongerman_female'] == 1).mean() * 100\n",
    "#print(percentage)\n"
   ]
  },
  {
   "cell_type": "code",
   "execution_count": 66,
   "id": "6cbdab96-b2b2-45af-ad54-d0516db2e28d",
   "metadata": {
    "execution": {
     "iopub.execute_input": "2025-07-30T14:15:14.394351Z",
     "iopub.status.busy": "2025-07-30T14:15:14.393807Z",
     "iopub.status.idle": "2025-07-30T14:15:15.659545Z",
     "shell.execute_reply": "2025-07-30T14:15:15.658775Z"
    },
    "papermill": {
     "duration": 1.294732,
     "end_time": "2025-07-30T14:15:15.661091",
     "exception": false,
     "start_time": "2025-07-30T14:15:14.366359",
     "status": "completed"
    },
    "tags": []
   },
   "outputs": [],
   "source": [
    "# Define covered = 1 if true_label is in the predicted set\n",
    "cp_groups_df['covered'] = cp_groups_df.apply(\n",
    "    lambda r: int(r['true_label'] in r['pred_set']),\n",
    "    axis=1\n",
    ")"
   ]
  },
  {
   "cell_type": "code",
   "execution_count": 67,
   "id": "338ff529-1a6b-4b87-a931-8e4788d52aad",
   "metadata": {
    "execution": {
     "iopub.execute_input": "2025-07-30T14:15:15.692825Z",
     "iopub.status.busy": "2025-07-30T14:15:15.692104Z",
     "iopub.status.idle": "2025-07-30T14:15:15.696707Z",
     "shell.execute_reply": "2025-07-30T14:15:15.695888Z"
    },
    "papermill": {
     "duration": 0.021976,
     "end_time": "2025-07-30T14:15:15.698078",
     "exception": false,
     "start_time": "2025-07-30T14:15:15.676102",
     "status": "completed"
    },
    "tags": []
   },
   "outputs": [],
   "source": [
    "#cp_groups_df"
   ]
  },
  {
   "cell_type": "code",
   "execution_count": 68,
   "id": "90032e27-66df-4540-9169-4e89cfbaa758",
   "metadata": {
    "execution": {
     "iopub.execute_input": "2025-07-30T14:15:15.729775Z",
     "iopub.status.busy": "2025-07-30T14:15:15.729269Z",
     "iopub.status.idle": "2025-07-30T14:15:15.738507Z",
     "shell.execute_reply": "2025-07-30T14:15:15.737728Z"
    },
    "papermill": {
     "duration": 0.026653,
     "end_time": "2025-07-30T14:15:15.740154",
     "exception": false,
     "start_time": "2025-07-30T14:15:15.713501",
     "status": "completed"
    },
    "tags": []
   },
   "outputs": [],
   "source": [
    "subgroups = ['frau1','nongerman','nongerman_male','nongerman_female']\n",
    "\n",
    "# Conditional coverage for subgroup==1\n",
    "cond_coverage = {\n",
    "    g: cp_groups_df.loc[cp_groups_df[g]==1, 'covered'].mean()\n",
    "    for g in subgroups\n",
    "}"
   ]
  },
  {
   "cell_type": "code",
   "execution_count": 69,
   "id": "1e348fb1-b9c3-45bc-ba23-f016827a7e0d",
   "metadata": {
    "execution": {
     "iopub.execute_input": "2025-07-30T14:15:15.771467Z",
     "iopub.status.busy": "2025-07-30T14:15:15.770952Z",
     "iopub.status.idle": "2025-07-30T14:15:15.777734Z",
     "shell.execute_reply": "2025-07-30T14:15:15.776945Z"
    },
    "papermill": {
     "duration": 0.023873,
     "end_time": "2025-07-30T14:15:15.779188",
     "exception": false,
     "start_time": "2025-07-30T14:15:15.755315",
     "status": "completed"
    },
    "tags": []
   },
   "outputs": [
    {
     "data": {
      "text/plain": [
       "{'frau1': 0.9128993125758188,\n",
       " 'nongerman': 0.8954134620782574,\n",
       " 'nongerman_male': 0.9034495181482483,\n",
       " 'nongerman_female': 0.8821162444113264}"
      ]
     },
     "execution_count": 69,
     "metadata": {},
     "output_type": "execute_result"
    }
   ],
   "source": [
    "cond_coverage"
   ]
  },
  {
   "cell_type": "code",
   "execution_count": 70,
   "id": "f5093324-c3dd-4d63-bc4c-8d945e5c8bbb",
   "metadata": {
    "execution": {
     "iopub.execute_input": "2025-07-30T14:15:15.811073Z",
     "iopub.status.busy": "2025-07-30T14:15:15.810569Z",
     "iopub.status.idle": "2025-07-30T14:15:15.817136Z",
     "shell.execute_reply": "2025-07-30T14:15:15.816293Z"
    },
    "papermill": {
     "duration": 0.023586,
     "end_time": "2025-07-30T14:15:15.818383",
     "exception": false,
     "start_time": "2025-07-30T14:15:15.794797",
     "status": "completed"
    },
    "tags": []
   },
   "outputs": [],
   "source": [
    "for subgroup, cov in cond_coverage.items():\n",
    "    cp_metrics_df[f\"cov_{subgroup}\"] = cov"
   ]
  },
  {
   "cell_type": "code",
   "execution_count": 71,
   "id": "6e872e10-dbe5-49e8-b554-5030c98ff75d",
   "metadata": {
    "execution": {
     "iopub.execute_input": "2025-07-30T14:15:15.850188Z",
     "iopub.status.busy": "2025-07-30T14:15:15.849678Z",
     "iopub.status.idle": "2025-07-30T14:15:15.863984Z",
     "shell.execute_reply": "2025-07-30T14:15:15.863275Z"
    },
    "papermill": {
     "duration": 0.031537,
     "end_time": "2025-07-30T14:15:15.865386",
     "exception": false,
     "start_time": "2025-07-30T14:15:15.833849",
     "status": "completed"
    },
    "tags": []
   },
   "outputs": [
    {
     "data": {
      "text/html": [
       "<div>\n",
       "<style scoped>\n",
       "    .dataframe tbody tr th:only-of-type {\n",
       "        vertical-align: middle;\n",
       "    }\n",
       "\n",
       "    .dataframe tbody tr th {\n",
       "        vertical-align: top;\n",
       "    }\n",
       "\n",
       "    .dataframe thead th {\n",
       "        text-align: right;\n",
       "    }\n",
       "</style>\n",
       "<table border=\"1\" class=\"dataframe\">\n",
       "  <thead>\n",
       "    <tr style=\"text-align: right;\">\n",
       "      <th></th>\n",
       "      <th>universe_id</th>\n",
       "      <th>universe_training_size</th>\n",
       "      <th>universe_scale</th>\n",
       "      <th>universe_model</th>\n",
       "      <th>universe_exclude_features</th>\n",
       "      <th>universe_exclude_subgroups</th>\n",
       "      <th>q_hat</th>\n",
       "      <th>coverage</th>\n",
       "      <th>avg_size</th>\n",
       "      <th>cov_frau1</th>\n",
       "      <th>cov_nongerman</th>\n",
       "      <th>cov_nongerman_male</th>\n",
       "      <th>cov_nongerman_female</th>\n",
       "    </tr>\n",
       "  </thead>\n",
       "  <tbody>\n",
       "    <tr>\n",
       "      <th>0</th>\n",
       "      <td>2ef6a290147016a2216af357e9ee9540</td>\n",
       "      <td>5k</td>\n",
       "      <td>do-not-scale</td>\n",
       "      <td>rf</td>\n",
       "      <td>age</td>\n",
       "      <td>drop-non-german</td>\n",
       "      <td>0.67</td>\n",
       "      <td>0.912039</td>\n",
       "      <td>1.148646</td>\n",
       "      <td>0.912899</td>\n",
       "      <td>0.895413</td>\n",
       "      <td>0.90345</td>\n",
       "      <td>0.882116</td>\n",
       "    </tr>\n",
       "  </tbody>\n",
       "</table>\n",
       "</div>"
      ],
      "text/plain": [
       "                        universe_id universe_training_size universe_scale  \\\n",
       "0  2ef6a290147016a2216af357e9ee9540                     5k   do-not-scale   \n",
       "\n",
       "  universe_model universe_exclude_features universe_exclude_subgroups  q_hat  \\\n",
       "0             rf                       age            drop-non-german   0.67   \n",
       "\n",
       "   coverage  avg_size  cov_frau1  cov_nongerman  cov_nongerman_male  \\\n",
       "0  0.912039  1.148646   0.912899       0.895413             0.90345   \n",
       "\n",
       "   cov_nongerman_female  \n",
       "0              0.882116  "
      ]
     },
     "execution_count": 71,
     "metadata": {},
     "output_type": "execute_result"
    }
   ],
   "source": [
    "cp_metrics_df"
   ]
  },
  {
   "cell_type": "markdown",
   "id": "33774451",
   "metadata": {
    "papermill": {
     "duration": 0.014507,
     "end_time": "2025-07-30T14:15:15.895232",
     "exception": false,
     "start_time": "2025-07-30T14:15:15.880725",
     "status": "completed"
    },
    "tags": []
   },
   "source": [
    "# (Fairness) Metrics"
   ]
  },
  {
   "cell_type": "code",
   "execution_count": 72,
   "id": "debc5d62",
   "metadata": {
    "execution": {
     "iopub.execute_input": "2025-07-30T14:15:15.925894Z",
     "iopub.status.busy": "2025-07-30T14:15:15.925395Z",
     "iopub.status.idle": "2025-07-30T14:15:15.939873Z",
     "shell.execute_reply": "2025-07-30T14:15:15.939059Z"
    },
    "papermill": {
     "duration": 0.031462,
     "end_time": "2025-07-30T14:15:15.941486",
     "exception": false,
     "start_time": "2025-07-30T14:15:15.910024",
     "status": "completed"
    },
    "tags": []
   },
   "outputs": [],
   "source": [
    "# do I need to include maxdeutsch1.missing?\n",
    "\n",
    "import numpy as np\n",
    "\n",
    "colname_to_bin = \"maxdeutsch1\"\n",
    "majority_value = org_train[colname_to_bin].mode()[0]\n",
    "\n",
    "org_test[\"majmin\"] = np.where(org_test[colname_to_bin] == majority_value, \"majority\", \"minority\")"
   ]
  },
  {
   "cell_type": "code",
   "execution_count": 73,
   "id": "06a50de5",
   "metadata": {
    "execution": {
     "iopub.execute_input": "2025-07-30T14:15:15.972764Z",
     "iopub.status.busy": "2025-07-30T14:15:15.972237Z",
     "iopub.status.idle": "2025-07-30T14:15:17.842302Z",
     "shell.execute_reply": "2025-07-30T14:15:17.841558Z"
    },
    "papermill": {
     "duration": 1.887047,
     "end_time": "2025-07-30T14:15:17.843714",
     "exception": false,
     "start_time": "2025-07-30T14:15:15.956667",
     "status": "completed"
    },
    "tags": []
   },
   "outputs": [],
   "source": [
    "example_universe = universe.copy()\n",
    "example_universe[\"cutoff\"] = example_universe[\"cutoff\"][0]\n",
    "example_universe[\"eval_fairness_grouping\"] = example_universe[\"eval_fairness_grouping\"][0]\n",
    "fairness_dict, metric_frame = universe_analysis.compute_metrics(\n",
    "    example_universe,\n",
    "    y_pred_prob=probs_test,\n",
    "    y_test=y_true,\n",
    "    org_test=org_test,\n",
    ")"
   ]
  },
  {
   "cell_type": "markdown",
   "id": "f95d4e02",
   "metadata": {
    "papermill": {
     "duration": 0.013934,
     "end_time": "2025-07-30T14:15:17.875893",
     "exception": false,
     "start_time": "2025-07-30T14:15:17.861959",
     "status": "completed"
    },
    "tags": []
   },
   "source": [
    "# Overall"
   ]
  },
  {
   "cell_type": "markdown",
   "id": "bdee4871",
   "metadata": {
    "papermill": {
     "duration": 0.014562,
     "end_time": "2025-07-30T14:15:17.908680",
     "exception": false,
     "start_time": "2025-07-30T14:15:17.894118",
     "status": "completed"
    },
    "tags": []
   },
   "source": [
    "Fairness\n",
    "Main fairness target: Equalized Odds. Seems to be a better fit than equal opportunity, since we're not only interested in Y = 1. Seems to be a better fit than demographic parity, since we also care about accuracy, not just equal distribution of preds.\n",
    "\n",
    "Pick column for computation of fairness metrics\n",
    "\n",
    "Performance\n",
    "Overall performance measures, most interesting in relation to the measures split by group below"
   ]
  },
  {
   "cell_type": "code",
   "execution_count": 74,
   "id": "c4e067c6",
   "metadata": {
    "execution": {
     "iopub.execute_input": "2025-07-30T14:15:17.941338Z",
     "iopub.status.busy": "2025-07-30T14:15:17.940981Z",
     "iopub.status.idle": "2025-07-30T14:15:17.948099Z",
     "shell.execute_reply": "2025-07-30T14:15:17.947340Z"
    },
    "papermill": {
     "duration": 0.023417,
     "end_time": "2025-07-30T14:15:17.949450",
     "exception": false,
     "start_time": "2025-07-30T14:15:17.926033",
     "status": "completed"
    },
    "tags": []
   },
   "outputs": [
    {
     "data": {
      "text/plain": [
       "accuracy                   0.192966\n",
       "balanced accuracy          0.527765\n",
       "f1                         0.237191\n",
       "precision                  0.134959\n",
       "false positive rate        0.922572\n",
       "false negative rate        0.021898\n",
       "selection rate             0.929696\n",
       "count                  89710.000000\n",
       "dtype: float64"
      ]
     },
     "execution_count": 74,
     "metadata": {},
     "output_type": "execute_result"
    }
   ],
   "source": [
    "metric_frame.overall"
   ]
  },
  {
   "cell_type": "markdown",
   "id": "e968fe9d",
   "metadata": {
    "papermill": {
     "duration": 0.021894,
     "end_time": "2025-07-30T14:15:17.986539",
     "exception": false,
     "start_time": "2025-07-30T14:15:17.964645",
     "status": "completed"
    },
    "tags": []
   },
   "source": [
    "By Group"
   ]
  },
  {
   "cell_type": "code",
   "execution_count": 75,
   "id": "ec325bce",
   "metadata": {
    "execution": {
     "iopub.execute_input": "2025-07-30T14:15:18.022118Z",
     "iopub.status.busy": "2025-07-30T14:15:18.021660Z",
     "iopub.status.idle": "2025-07-30T14:15:18.037856Z",
     "shell.execute_reply": "2025-07-30T14:15:18.036874Z"
    },
    "papermill": {
     "duration": 0.03404,
     "end_time": "2025-07-30T14:15:18.039787",
     "exception": false,
     "start_time": "2025-07-30T14:15:18.005747",
     "status": "completed"
    },
    "tags": []
   },
   "outputs": [
    {
     "data": {
      "text/html": [
       "<div>\n",
       "<style scoped>\n",
       "    .dataframe tbody tr th:only-of-type {\n",
       "        vertical-align: middle;\n",
       "    }\n",
       "\n",
       "    .dataframe tbody tr th {\n",
       "        vertical-align: top;\n",
       "    }\n",
       "\n",
       "    .dataframe thead th {\n",
       "        text-align: right;\n",
       "    }\n",
       "</style>\n",
       "<table border=\"1\" class=\"dataframe\">\n",
       "  <thead>\n",
       "    <tr style=\"text-align: right;\">\n",
       "      <th></th>\n",
       "      <th>accuracy</th>\n",
       "      <th>balanced accuracy</th>\n",
       "      <th>f1</th>\n",
       "      <th>precision</th>\n",
       "      <th>false positive rate</th>\n",
       "      <th>false negative rate</th>\n",
       "      <th>selection rate</th>\n",
       "      <th>count</th>\n",
       "    </tr>\n",
       "    <tr>\n",
       "      <th>majmin</th>\n",
       "      <th></th>\n",
       "      <th></th>\n",
       "      <th></th>\n",
       "      <th></th>\n",
       "      <th></th>\n",
       "      <th></th>\n",
       "      <th></th>\n",
       "      <th></th>\n",
       "    </tr>\n",
       "  </thead>\n",
       "  <tbody>\n",
       "    <tr>\n",
       "      <th>majority</th>\n",
       "      <td>0.189316</td>\n",
       "      <td>0.528954</td>\n",
       "      <td>0.244099</td>\n",
       "      <td>0.139200</td>\n",
       "      <td>0.932684</td>\n",
       "      <td>0.009409</td>\n",
       "      <td>0.940335</td>\n",
       "      <td>69170.0</td>\n",
       "    </tr>\n",
       "    <tr>\n",
       "      <th>minority</th>\n",
       "      <td>0.205258</td>\n",
       "      <td>0.520364</td>\n",
       "      <td>0.212466</td>\n",
       "      <td>0.119935</td>\n",
       "      <td>0.889170</td>\n",
       "      <td>0.070101</td>\n",
       "      <td>0.893866</td>\n",
       "      <td>20540.0</td>\n",
       "    </tr>\n",
       "  </tbody>\n",
       "</table>\n",
       "</div>"
      ],
      "text/plain": [
       "          accuracy  balanced accuracy        f1  precision  \\\n",
       "majmin                                                       \n",
       "majority  0.189316           0.528954  0.244099   0.139200   \n",
       "minority  0.205258           0.520364  0.212466   0.119935   \n",
       "\n",
       "          false positive rate  false negative rate  selection rate    count  \n",
       "majmin                                                                       \n",
       "majority             0.932684             0.009409        0.940335  69170.0  \n",
       "minority             0.889170             0.070101        0.893866  20540.0  "
      ]
     },
     "execution_count": 75,
     "metadata": {},
     "output_type": "execute_result"
    }
   ],
   "source": [
    "metric_frame.by_group"
   ]
  },
  {
   "cell_type": "code",
   "execution_count": 76,
   "id": "a9ddbe63",
   "metadata": {
    "execution": {
     "iopub.execute_input": "2025-07-30T14:15:18.096229Z",
     "iopub.status.busy": "2025-07-30T14:15:18.095413Z",
     "iopub.status.idle": "2025-07-30T14:15:20.433908Z",
     "shell.execute_reply": "2025-07-30T14:15:20.432899Z"
    },
    "papermill": {
     "duration": 2.368438,
     "end_time": "2025-07-30T14:15:20.435596",
     "exception": false,
     "start_time": "2025-07-30T14:15:18.067158",
     "status": "completed"
    },
    "tags": []
   },
   "outputs": [
    {
     "data": {
      "text/plain": [
       "array([[<Axes: title={'center': 'accuracy'}, xlabel='majmin'>,\n",
       "        <Axes: title={'center': 'balanced accuracy'}, xlabel='majmin'>,\n",
       "        <Axes: title={'center': 'f1'}, xlabel='majmin'>],\n",
       "       [<Axes: title={'center': 'precision'}, xlabel='majmin'>,\n",
       "        <Axes: title={'center': 'false positive rate'}, xlabel='majmin'>,\n",
       "        <Axes: title={'center': 'false negative rate'}, xlabel='majmin'>],\n",
       "       [<Axes: title={'center': 'selection rate'}, xlabel='majmin'>,\n",
       "        <Axes: title={'center': 'count'}, xlabel='majmin'>,\n",
       "        <Axes: xlabel='majmin'>]], dtype=object)"
      ]
     },
     "execution_count": 76,
     "metadata": {},
     "output_type": "execute_result"
    },
    {
     "data": {
      "image/png": "[encoded data removed]",
      "text/plain": [
       "<Figure size 1200x800 with 9 Axes>"
      ]
     },
     "metadata": {},
     "output_type": "display_data"
    }
   ],
   "source": [
    "# In a graphic\n",
    "metric_frame.by_group.plot.bar(\n",
    "    subplots=True,\n",
    "    layout=[3, 3],\n",
    "    legend=False,\n",
    "    figsize=[12, 8],\n",
    "    title=\"Show all metrics\",\n",
    ")"
   ]
  },
  {
   "cell_type": "markdown",
   "id": "f57a0bac",
   "metadata": {
    "papermill": {
     "duration": 0.028078,
     "end_time": "2025-07-30T14:15:20.502946",
     "exception": false,
     "start_time": "2025-07-30T14:15:20.474868",
     "status": "completed"
    },
    "tags": []
   },
   "source": [
    "# Final Output"
   ]
  },
  {
   "cell_type": "code",
   "execution_count": 77,
   "id": "96d280a3",
   "metadata": {
    "execution": {
     "iopub.execute_input": "2025-07-30T14:15:20.552843Z",
     "iopub.status.busy": "2025-07-30T14:15:20.552240Z",
     "iopub.status.idle": "2025-07-30T14:15:20.560217Z",
     "shell.execute_reply": "2025-07-30T14:15:20.559323Z"
    },
    "papermill": {
     "duration": 0.028943,
     "end_time": "2025-07-30T14:15:20.561810",
     "exception": false,
     "start_time": "2025-07-30T14:15:20.532867",
     "status": "completed"
    },
    "tags": []
   },
   "outputs": [
    {
     "data": {
      "text/plain": [
       "4"
      ]
     },
     "execution_count": 77,
     "metadata": {},
     "output_type": "execute_result"
    }
   ],
   "source": [
    "sub_universes = universe_analysis.generate_sub_universes()\n",
    "len(sub_universes)"
   ]
  },
  {
   "cell_type": "code",
   "execution_count": 78,
   "id": "92adf7ba",
   "metadata": {
    "execution": {
     "iopub.execute_input": "2025-07-30T14:15:20.623297Z",
     "iopub.status.busy": "2025-07-30T14:15:20.622789Z",
     "iopub.status.idle": "2025-07-30T14:15:20.629054Z",
     "shell.execute_reply": "2025-07-30T14:15:20.628094Z"
    },
    "papermill": {
     "duration": 0.038713,
     "end_time": "2025-07-30T14:15:20.630591",
     "exception": false,
     "start_time": "2025-07-30T14:15:20.591878",
     "status": "completed"
    },
    "tags": []
   },
   "outputs": [],
   "source": [
    "def filter_sub_universe_data(sub_universe, org_test):\n",
    "    # Keep all rows — no filtering\n",
    "    keep_rows_mask = np.ones(org_test.shape[0], dtype=bool)\n",
    "\n",
    "    print(f\"[INFO] Keeping all rows: {keep_rows_mask.sum()} rows retained.\")\n",
    "    return keep_rows_mask"
   ]
  },
  {
   "cell_type": "code",
   "execution_count": 79,
   "id": "4a759155",
   "metadata": {
    "execution": {
     "iopub.execute_input": "2025-07-30T14:15:20.694128Z",
     "iopub.status.busy": "2025-07-30T14:15:20.693245Z",
     "iopub.status.idle": "2025-07-30T14:15:29.645845Z",
     "shell.execute_reply": "2025-07-30T14:15:29.644749Z"
    },
    "papermill": {
     "duration": 8.985964,
     "end_time": "2025-07-30T14:15:29.647595",
     "exception": false,
     "start_time": "2025-07-30T14:15:20.661631",
     "status": "completed"
    },
    "tags": []
   },
   "outputs": [
    {
     "name": "stdout",
     "output_type": "stream",
     "text": [
      "Stopping execution_time clock.\n",
      "[INFO] Keeping all rows: 89710 rows retained.\n"
     ]
    },
    {
     "name": "stdout",
     "output_type": "stream",
     "text": [
      "[INFO] Keeping all rows: 89710 rows retained.\n"
     ]
    },
    {
     "name": "stdout",
     "output_type": "stream",
     "text": [
      "[INFO] Keeping all rows: 89710 rows retained.\n"
     ]
    },
    {
     "name": "stdout",
     "output_type": "stream",
     "text": [
      "[INFO] Keeping all rows: 89710 rows retained.\n"
     ]
    },
    {
     "data": {
      "text/html": [
       "<div>\n",
       "<style scoped>\n",
       "    .dataframe tbody tr th:only-of-type {\n",
       "        vertical-align: middle;\n",
       "    }\n",
       "\n",
       "    .dataframe tbody tr th {\n",
       "        vertical-align: top;\n",
       "    }\n",
       "\n",
       "    .dataframe thead th {\n",
       "        text-align: right;\n",
       "    }\n",
       "</style>\n",
       "<table border=\"1\" class=\"dataframe\">\n",
       "  <thead>\n",
       "    <tr style=\"text-align: right;\">\n",
       "      <th></th>\n",
       "      <th>run_no</th>\n",
       "      <th>universe_id</th>\n",
       "      <th>universe_settings</th>\n",
       "      <th>execution_time</th>\n",
       "      <th>test_size_n</th>\n",
       "      <th>test_size_frac</th>\n",
       "      <th>fair_main_equalized_odds_difference</th>\n",
       "      <th>fair_main_equalized_odds_ratio</th>\n",
       "      <th>fair_main_demographic_parity_difference</th>\n",
       "      <th>fair_main_demographic_parity_ratio</th>\n",
       "      <th>...</th>\n",
       "      <th>perf_grp_precision_0</th>\n",
       "      <th>perf_grp_precision_1</th>\n",
       "      <th>perf_grp_false positive rate_0</th>\n",
       "      <th>perf_grp_false positive rate_1</th>\n",
       "      <th>perf_grp_false negative rate_0</th>\n",
       "      <th>perf_grp_false negative rate_1</th>\n",
       "      <th>perf_grp_selection rate_0</th>\n",
       "      <th>perf_grp_selection rate_1</th>\n",
       "      <th>perf_grp_count_0</th>\n",
       "      <th>perf_grp_count_1</th>\n",
       "    </tr>\n",
       "  </thead>\n",
       "  <tbody>\n",
       "    <tr>\n",
       "      <th>0</th>\n",
       "      <td>12</td>\n",
       "      <td>2ef6a290147016a2216af357e9ee9540</td>\n",
       "      <td>{\"cutoff\": \"quantile_0.1\", \"eval_fairness_grou...</td>\n",
       "      <td>30.490973</td>\n",
       "      <td>89710</td>\n",
       "      <td>1.0</td>\n",
       "      <td>0.060692</td>\n",
       "      <td>0.938731</td>\n",
       "      <td>0.046470</td>\n",
       "      <td>0.950582</td>\n",
       "      <td>...</td>\n",
       "      <td>NaN</td>\n",
       "      <td>NaN</td>\n",
       "      <td>NaN</td>\n",
       "      <td>NaN</td>\n",
       "      <td>NaN</td>\n",
       "      <td>NaN</td>\n",
       "      <td>NaN</td>\n",
       "      <td>NaN</td>\n",
       "      <td>NaN</td>\n",
       "      <td>NaN</td>\n",
       "    </tr>\n",
       "    <tr>\n",
       "      <th>0</th>\n",
       "      <td>12</td>\n",
       "      <td>2ef6a290147016a2216af357e9ee9540</td>\n",
       "      <td>{\"cutoff\": \"quantile_0.1\", \"eval_fairness_grou...</td>\n",
       "      <td>30.490973</td>\n",
       "      <td>89710</td>\n",
       "      <td>1.0</td>\n",
       "      <td>0.060692</td>\n",
       "      <td>0.938731</td>\n",
       "      <td>0.046470</td>\n",
       "      <td>0.950582</td>\n",
       "      <td>...</td>\n",
       "      <td>0.119935</td>\n",
       "      <td>0.139200</td>\n",
       "      <td>0.889170</td>\n",
       "      <td>0.932684</td>\n",
       "      <td>0.070101</td>\n",
       "      <td>0.009409</td>\n",
       "      <td>0.893866</td>\n",
       "      <td>0.940335</td>\n",
       "      <td>20540.0</td>\n",
       "      <td>69170.0</td>\n",
       "    </tr>\n",
       "    <tr>\n",
       "      <th>0</th>\n",
       "      <td>12</td>\n",
       "      <td>2ef6a290147016a2216af357e9ee9540</td>\n",
       "      <td>{\"cutoff\": \"quantile_0.25\", \"eval_fairness_gro...</td>\n",
       "      <td>30.490973</td>\n",
       "      <td>89710</td>\n",
       "      <td>1.0</td>\n",
       "      <td>0.125610</td>\n",
       "      <td>0.868355</td>\n",
       "      <td>0.065471</td>\n",
       "      <td>0.917830</td>\n",
       "      <td>...</td>\n",
       "      <td>NaN</td>\n",
       "      <td>NaN</td>\n",
       "      <td>NaN</td>\n",
       "      <td>NaN</td>\n",
       "      <td>NaN</td>\n",
       "      <td>NaN</td>\n",
       "      <td>NaN</td>\n",
       "      <td>NaN</td>\n",
       "      <td>NaN</td>\n",
       "      <td>NaN</td>\n",
       "    </tr>\n",
       "    <tr>\n",
       "      <th>0</th>\n",
       "      <td>12</td>\n",
       "      <td>2ef6a290147016a2216af357e9ee9540</td>\n",
       "      <td>{\"cutoff\": \"quantile_0.25\", \"eval_fairness_gro...</td>\n",
       "      <td>30.490973</td>\n",
       "      <td>89710</td>\n",
       "      <td>1.0</td>\n",
       "      <td>0.125610</td>\n",
       "      <td>0.868355</td>\n",
       "      <td>0.065471</td>\n",
       "      <td>0.917830</td>\n",
       "      <td>...</td>\n",
       "      <td>0.130617</td>\n",
       "      <td>0.158239</td>\n",
       "      <td>0.718633</td>\n",
       "      <td>0.772814</td>\n",
       "      <td>0.171453</td>\n",
       "      <td>0.045842</td>\n",
       "      <td>0.731305</td>\n",
       "      <td>0.796776</td>\n",
       "      <td>20540.0</td>\n",
       "      <td>69170.0</td>\n",
       "    </tr>\n",
       "  </tbody>\n",
       "</table>\n",
       "<p>4 rows × 50 columns</p>\n",
       "</div>"
      ],
      "text/plain": [
       "  run_no                       universe_id  \\\n",
       "0     12  2ef6a290147016a2216af357e9ee9540   \n",
       "0     12  2ef6a290147016a2216af357e9ee9540   \n",
       "0     12  2ef6a290147016a2216af357e9ee9540   \n",
       "0     12  2ef6a290147016a2216af357e9ee9540   \n",
       "\n",
       "                                   universe_settings  execution_time  \\\n",
       "0  {\"cutoff\": \"quantile_0.1\", \"eval_fairness_grou...       30.490973   \n",
       "0  {\"cutoff\": \"quantile_0.1\", \"eval_fairness_grou...       30.490973   \n",
       "0  {\"cutoff\": \"quantile_0.25\", \"eval_fairness_gro...       30.490973   \n",
       "0  {\"cutoff\": \"quantile_0.25\", \"eval_fairness_gro...       30.490973   \n",
       "\n",
       "   test_size_n  test_size_frac  fair_main_equalized_odds_difference  \\\n",
       "0        89710             1.0                             0.060692   \n",
       "0        89710             1.0                             0.060692   \n",
       "0        89710             1.0                             0.125610   \n",
       "0        89710             1.0                             0.125610   \n",
       "\n",
       "   fair_main_equalized_odds_ratio  fair_main_demographic_parity_difference  \\\n",
       "0                        0.938731                                 0.046470   \n",
       "0                        0.938731                                 0.046470   \n",
       "0                        0.868355                                 0.065471   \n",
       "0                        0.868355                                 0.065471   \n",
       "\n",
       "   fair_main_demographic_parity_ratio  ...  perf_grp_precision_0  \\\n",
       "0                            0.950582  ...                   NaN   \n",
       "0                            0.950582  ...              0.119935   \n",
       "0                            0.917830  ...                   NaN   \n",
       "0                            0.917830  ...              0.130617   \n",
       "\n",
       "   perf_grp_precision_1  perf_grp_false positive rate_0  \\\n",
       "0                   NaN                             NaN   \n",
       "0              0.139200                        0.889170   \n",
       "0                   NaN                             NaN   \n",
       "0              0.158239                        0.718633   \n",
       "\n",
       "   perf_grp_false positive rate_1  perf_grp_false negative rate_0  \\\n",
       "0                             NaN                             NaN   \n",
       "0                        0.932684                        0.070101   \n",
       "0                             NaN                             NaN   \n",
       "0                        0.772814                        0.171453   \n",
       "\n",
       "   perf_grp_false negative rate_1  perf_grp_selection rate_0  \\\n",
       "0                             NaN                        NaN   \n",
       "0                        0.009409                   0.893866   \n",
       "0                             NaN                        NaN   \n",
       "0                        0.045842                   0.731305   \n",
       "\n",
       "   perf_grp_selection rate_1  perf_grp_count_0  perf_grp_count_1  \n",
       "0                        NaN               NaN               NaN  \n",
       "0                   0.940335           20540.0           69170.0  \n",
       "0                        NaN               NaN               NaN  \n",
       "0                   0.796776           20540.0           69170.0  \n",
       "\n",
       "[4 rows x 50 columns]"
      ]
     },
     "execution_count": 79,
     "metadata": {},
     "output_type": "execute_result"
    }
   ],
   "source": [
    "final_output = universe_analysis.generate_final_output(\n",
    "    y_pred_prob=probs_test,\n",
    "    y_test=y_true,\n",
    "    org_test=org_test,\n",
    "    filter_data=filter_sub_universe_data,\n",
    "    cp_metrics_df=cp_metrics_df,\n",
    "    save=True,\n",
    ")\n",
    "final_output"
   ]
  },
  {
   "cell_type": "code",
   "execution_count": null,
   "id": "721ff514-cb11-46f8-b6fc-50392f74b5cb",
   "metadata": {
    "papermill": {
     "duration": 0.03608,
     "end_time": "2025-07-30T14:15:29.720348",
     "exception": false,
     "start_time": "2025-07-30T14:15:29.684268",
     "status": "completed"
    },
    "tags": []
   },
   "outputs": [],
   "source": []
  }
 ],
 "metadata": {
  "celltoolbar": "Tags",
  "kernelspec": {
   "display_name": "Python (CMA Fairness)",
   "language": "python",
   "name": "cma_fair_env"
  },
  "language_info": {
   "codemirror_mode": {
    "name": "ipython",
    "version": 3
   },
   "file_extension": ".py",
   "mimetype": "text/x-python",
   "name": "python",
   "nbconvert_exporter": "python",
   "pygments_lexer": "ipython3",
   "version": "3.10.12"
  },
  "papermill": {
   "default_parameters": {},
   "duration": 45.367575,
   "end_time": "2025-07-30T14:15:30.676082",
   "environment_variables": {},
   "exception": null,
   "input_path": "universe_analysis.ipynb",
   "output_path": "output/runs/12/notebooks/m_12-2ef6a290147016a2216af357e9ee9540.ipynb",
   "parameters": {
    "output_dir": "output",
    "run_no": "12",
    "seed": "2023",
    "universe": "{\"cutoff\": [\"quantile_0.1\", \"quantile_0.25\"], \"eval_fairness_grouping\": [\"majority-minority\", \"nationality-all\"], \"exclude_features\": \"age\", \"exclude_subgroups\": \"drop-non-german\", \"model\": \"rf\", \"scale\": \"do-not-scale\", \"training_size\": \"5k\", \"training_year\": \"2010_14\"}",
    "universe_id": "2ef6a290147016a2216af357e9ee9540"
   },
   "start_time": "2025-07-30T14:14:45.308507",
   "version": "2.6.0"
  }
 },
 "nbformat": 4,
 "nbformat_minor": 5
}