{
 "cells": [
  {
   "cell_type": "code",
   "execution_count": 1,
   "id": "f159f837-637b-42ba-96b5-ec9a68c44524",
   "metadata": {
    "execution": {
     "iopub.execute_input": "2025-07-30T14:11:15.942053Z",
     "iopub.status.busy": "2025-07-30T14:11:15.941587Z",
     "iopub.status.idle": "2025-07-30T14:11:15.955093Z",
     "shell.execute_reply": "2025-07-30T14:11:15.953936Z"
    },
    "papermill": {
     "duration": 0.03754,
     "end_time": "2025-07-30T14:11:15.957045",
     "exception": false,
     "start_time": "2025-07-30T14:11:15.919505",
     "status": "completed"
    },
    "tags": []
   },
   "outputs": [
    {
     "name": "stdout",
     "output_type": "stream",
     "text": [
      "/dss/dsshome1/0C/ra93lal2/cma/CMA_Fairness_v2\n"
     ]
    },
    {
     "name": "stderr",
     "output_type": "stream",
     "text": [
      "/dss/dsshome1/0C/ra93lal2/.local/share/virtualenvs/CMA_Fairness_v2-3j10GkSs/lib/python3.10/site-packages/IPython/core/magics/osm.py:393: UserWarning: This is now an optional IPython functionality, using bookmarks requires you to install the `pickleshare` library.\n",
      "  bkms = self.shell.db.get('bookmarks', {})\n",
      "/dss/dsshome1/0C/ra93lal2/.local/share/virtualenvs/CMA_Fairness_v2-3j10GkSs/lib/python3.10/site-packages/IPython/core/magics/osm.py:417: UserWarning: This is now an optional IPython functionality, setting dhist requires you to install the `pickleshare` library.\n",
      "  self.shell.db['dhist'] = compress_dhist(dhist)[-100:]\n"
     ]
    }
   ],
   "source": [
    "%cd ~/cma/CMA_Fairness_v2"
   ]
  },
  {
   "cell_type": "markdown",
   "id": "de2603b9",
   "metadata": {
    "papermill": {
     "duration": 0.019723,
     "end_time": "2025-07-30T14:11:16.026243",
     "exception": false,
     "start_time": "2025-07-30T14:11:16.006520",
     "status": "completed"
    },
    "tags": []
   },
   "source": [
    "The following cell holds the definition of our parameters, these values can be overriden by rendering the with e.g. the following command:\n",
    "\n",
    "papermill -p alpha 0.2 -p ratio 0.3 universe_analysis.ipynb output/test_run.ipynb"
   ]
  },
  {
   "cell_type": "code",
   "execution_count": 2,
   "id": "a80968a0-40bb-4fa9-85ef-2d5eefb01975",
   "metadata": {
    "execution": {
     "iopub.execute_input": "2025-07-30T14:11:16.065293Z",
     "iopub.status.busy": "2025-07-30T14:11:16.064842Z",
     "iopub.status.idle": "2025-07-30T14:11:16.070502Z",
     "shell.execute_reply": "2025-07-30T14:11:16.069629Z"
    },
    "papermill": {
     "duration": 0.027056,
     "end_time": "2025-07-30T14:11:16.072418",
     "exception": false,
     "start_time": "2025-07-30T14:11:16.045362",
     "status": "completed"
    },
    "tags": []
   },
   "outputs": [
    {
     "name": "stdout",
     "output_type": "stream",
     "text": [
      "Current working directory: /dss/dsshome1/0C/ra93lal2/cma/CMA_Fairness_v2\n"
     ]
    }
   ],
   "source": [
    "import os\n",
    "print(\"Current working directory:\", os.getcwd())"
   ]
  },
  {
   "cell_type": "code",
   "execution_count": 3,
   "id": "2dce4c03",
   "metadata": {
    "execution": {
     "iopub.execute_input": "2025-07-30T14:11:16.118019Z",
     "iopub.status.busy": "2025-07-30T14:11:16.117539Z",
     "iopub.status.idle": "2025-07-30T14:11:16.123264Z",
     "shell.execute_reply": "2025-07-30T14:11:16.122451Z"
    },
    "papermill": {
     "duration": 0.030593,
     "end_time": "2025-07-30T14:11:16.124790",
     "exception": false,
     "start_time": "2025-07-30T14:11:16.094197",
     "status": "completed"
    },
    "tags": [
     "parameters"
    ]
   },
   "outputs": [],
   "source": [
    "run_no = 0\n",
    "universe_id = \"test\"\n",
    "universe = {\n",
    "    \"training_size\": \"25k\", # \"25k\", \"5k\", \"1k\"\n",
    "    \"training_year\": \"2014\", # \"2014\", \"2012_14\", \"2010_14\"\n",
    "    \"scale\": \"scale\", # \"scale\", \"do-not-scale\",\n",
    "    #\"stratify_split\": \"target\", # \"none\", \"target\", \"protected-attribute\", \"both\",\n",
    "    \"model\": \"elasticnet\", # \"logreg\", \"penalized_logreg\", \"rf\", \"gbm\", \"elasticnet\"\n",
    "    \"cutoff\": [\"quantile_0.15\", \"quantile_0.30\"],\n",
    "    \"exclude_features\": \"age\", # \"none\", \"nationality\", \"sex\", \"nationality-sex\", \"age\"\n",
    "    \"exclude_subgroups\": \"keep-all\", # \"keep-all\", \"drop-non-german\"\n",
    "    \"eval_fairness_grouping\": [\"majority-minority\", \"nationality-all\"]\n",
    "}\n",
    "\n",
    "output_dir=\"./output\"\n",
    "seed=0"
   ]
  },
  {
   "cell_type": "code",
   "execution_count": 4,
   "id": "7cd0d3b7",
   "metadata": {
    "execution": {
     "iopub.execute_input": "2025-07-30T14:11:16.166502Z",
     "iopub.status.busy": "2025-07-30T14:11:16.165871Z",
     "iopub.status.idle": "2025-07-30T14:11:16.213266Z",
     "shell.execute_reply": "2025-07-30T14:11:16.212266Z"
    },
    "papermill": {
     "duration": 0.070843,
     "end_time": "2025-07-30T14:11:16.215313",
     "exception": false,
     "start_time": "2025-07-30T14:11:16.144470",
     "status": "completed"
    },
    "tags": [
     "injected-parameters"
    ]
   },
   "outputs": [],
   "source": [
    "# Parameters\n",
    "universe_id = \"67337a5360b223787e041b2e623f840c\"\n",
    "run_no = \"12\"\n",
    "universe = \"{\\\"cutoff\\\": [\\\"quantile_0.1\\\", \\\"quantile_0.25\\\"], \\\"eval_fairness_grouping\\\": [\\\"majority-minority\\\", \\\"nationality-all\\\"], \\\"exclude_features\\\": \\\"nationality-sex\\\", \\\"exclude_subgroups\\\": \\\"drop-non-german\\\", \\\"model\\\": \\\"elasticnet\\\", \\\"scale\\\": \\\"scale\\\", \\\"training_size\\\": \\\"5k\\\", \\\"training_year\\\": \\\"2010_14\\\"}\"\n",
    "output_dir = \"output\"\n",
    "seed = \"2023\"\n"
   ]
  },
  {
   "cell_type": "code",
   "execution_count": 5,
   "id": "1650acaf",
   "metadata": {
    "execution": {
     "iopub.execute_input": "2025-07-30T14:11:16.259616Z",
     "iopub.status.busy": "2025-07-30T14:11:16.259166Z",
     "iopub.status.idle": "2025-07-30T14:11:16.264327Z",
     "shell.execute_reply": "2025-07-30T14:11:16.263282Z"
    },
    "papermill": {
     "duration": 0.027196,
     "end_time": "2025-07-30T14:11:16.266146",
     "exception": false,
     "start_time": "2025-07-30T14:11:16.238950",
     "status": "completed"
    },
    "tags": []
   },
   "outputs": [],
   "source": [
    "import json\n",
    "# Parse universe into dict if it is passed as a string\n",
    "if isinstance(universe, str):\n",
    "    universe = json.loads(universe)"
   ]
  },
  {
   "cell_type": "code",
   "execution_count": 6,
   "id": "16620c48",
   "metadata": {
    "execution": {
     "iopub.execute_input": "2025-07-30T14:11:16.310511Z",
     "iopub.status.busy": "2025-07-30T14:11:16.310052Z",
     "iopub.status.idle": "2025-07-30T14:11:16.353205Z",
     "shell.execute_reply": "2025-07-30T14:11:16.352063Z"
    },
    "papermill": {
     "duration": 0.06653,
     "end_time": "2025-07-30T14:11:16.355420",
     "exception": false,
     "start_time": "2025-07-30T14:11:16.288890",
     "status": "completed"
    },
    "tags": []
   },
   "outputs": [],
   "source": [
    "# Auto-reload the custom package\n",
    "%load_ext autoreload\n",
    "%autoreload 1\n",
    "%aimport fairness_multiverse"
   ]
  },
  {
   "cell_type": "code",
   "execution_count": 7,
   "id": "01c5c9f3",
   "metadata": {
    "execution": {
     "iopub.execute_input": "2025-07-30T14:11:16.397638Z",
     "iopub.status.busy": "2025-07-30T14:11:16.397307Z",
     "iopub.status.idle": "2025-07-30T14:11:18.329932Z",
     "shell.execute_reply": "2025-07-30T14:11:18.329044Z"
    },
    "papermill": {
     "duration": 1.955257,
     "end_time": "2025-07-30T14:11:18.331793",
     "exception": false,
     "start_time": "2025-07-30T14:11:16.376536",
     "status": "completed"
    },
    "tags": []
   },
   "outputs": [],
   "source": [
    "from fairness_multiverse.universe import UniverseAnalysis\n",
    "\n",
    "universe_analysis = UniverseAnalysis(\n",
    "    run_no = run_no,\n",
    "    universe_id = universe_id,\n",
    "    universe = universe,\n",
    "    output_dir=output_dir,\n",
    ")"
   ]
  },
  {
   "cell_type": "code",
   "execution_count": 8,
   "id": "106241f5",
   "metadata": {
    "execution": {
     "iopub.execute_input": "2025-07-30T14:11:18.371111Z",
     "iopub.status.busy": "2025-07-30T14:11:18.370601Z",
     "iopub.status.idle": "2025-07-30T14:11:18.376779Z",
     "shell.execute_reply": "2025-07-30T14:11:18.375706Z"
    },
    "papermill": {
     "duration": 0.028037,
     "end_time": "2025-07-30T14:11:18.378548",
     "exception": false,
     "start_time": "2025-07-30T14:11:18.350511",
     "status": "completed"
    },
    "tags": []
   },
   "outputs": [
    {
     "name": "stdout",
     "output_type": "stream",
     "text": [
      "Using Seed: 2023\n"
     ]
    }
   ],
   "source": [
    "import numpy as np\n",
    "parsed_seed = int(seed)\n",
    "np.random.seed(parsed_seed)\n",
    "print(f\"Using Seed: {parsed_seed}\")"
   ]
  },
  {
   "cell_type": "markdown",
   "id": "e0ebdc57",
   "metadata": {
    "papermill": {
     "duration": 0.018849,
     "end_time": "2025-07-30T14:11:18.417358",
     "exception": false,
     "start_time": "2025-07-30T14:11:18.398509",
     "status": "completed"
    },
    "tags": []
   },
   "source": [
    "# Loading Data"
   ]
  },
  {
   "cell_type": "markdown",
   "id": "681925a3",
   "metadata": {
    "papermill": {
     "duration": 0.018405,
     "end_time": "2025-07-30T14:11:18.454873",
     "exception": false,
     "start_time": "2025-07-30T14:11:18.436468",
     "status": "completed"
    },
    "tags": []
   },
   "source": [
    "Load siab_train, siab_test, siab_calib and/or \n",
    "load siab_train_features, siab_train_labels"
   ]
  },
  {
   "cell_type": "code",
   "execution_count": 9,
   "id": "f0496b8a",
   "metadata": {
    "execution": {
     "iopub.execute_input": "2025-07-30T14:11:18.495462Z",
     "iopub.status.busy": "2025-07-30T14:11:18.494891Z",
     "iopub.status.idle": "2025-07-30T14:11:30.450486Z",
     "shell.execute_reply": "2025-07-30T14:11:30.449084Z"
    },
    "papermill": {
     "duration": 11.97784,
     "end_time": "2025-07-30T14:11:30.452482",
     "exception": false,
     "start_time": "2025-07-30T14:11:18.474642",
     "status": "completed"
    },
    "tags": []
   },
   "outputs": [
    {
     "name": "stdout",
     "output_type": "stream",
     "text": [
      "Loading SIAB data from cache: data/siab_cached.csv.gz\n"
     ]
    },
    {
     "name": "stdout",
     "output_type": "stream",
     "text": [
      "(643690, 164)\n"
     ]
    }
   ],
   "source": [
    "from pathlib import Path\n",
    "import pandas as pd\n",
    "\n",
    "# File paths\n",
    "raw_file = Path(\"data/raw/siab.csv\")\n",
    "cache_file = Path(\"data/siab_cached.csv.gz\")\n",
    "\n",
    "# Ensure cache directory exists\n",
    "cache_file.parent.mkdir(parents=True, exist_ok=True)\n",
    "\n",
    "# Load with simple caching\n",
    "if cache_file.exists():\n",
    "    print(f\"Loading SIAB data from cache: {cache_file}\")\n",
    "    siab = pd.read_csv(cache_file, compression='gzip')\n",
    "else:\n",
    "    print(f\"Cache not found. Reading raw SIAB data: {raw_file}\")\n",
    "    siab = pd.read_csv(raw_file)\n",
    "    siab.to_csv(cache_file, index=False, compression='gzip')\n",
    "    print(f\"Cached SIAB data to: {cache_file}\")\n",
    "\n",
    "# Now use `siab` DataFrame as needed\n",
    "print(siab.shape)"
   ]
  },
  {
   "cell_type": "code",
   "execution_count": 10,
   "id": "db0ca512-5f53-4dba-abdb-a2888bca41ba",
   "metadata": {
    "execution": {
     "iopub.execute_input": "2025-07-30T14:11:30.509777Z",
     "iopub.status.busy": "2025-07-30T14:11:30.508883Z",
     "iopub.status.idle": "2025-07-30T14:11:30.515445Z",
     "shell.execute_reply": "2025-07-30T14:11:30.514306Z"
    },
    "papermill": {
     "duration": 0.035915,
     "end_time": "2025-07-30T14:11:30.517135",
     "exception": false,
     "start_time": "2025-07-30T14:11:30.481220",
     "status": "completed"
    },
    "tags": []
   },
   "outputs": [],
   "source": [
    "#siab"
   ]
  },
  {
   "cell_type": "code",
   "execution_count": 11,
   "id": "a0edb063",
   "metadata": {
    "execution": {
     "iopub.execute_input": "2025-07-30T14:11:30.558722Z",
     "iopub.status.busy": "2025-07-30T14:11:30.557840Z",
     "iopub.status.idle": "2025-07-30T14:11:30.563275Z",
     "shell.execute_reply": "2025-07-30T14:11:30.562240Z"
    },
    "papermill": {
     "duration": 0.027259,
     "end_time": "2025-07-30T14:11:30.564994",
     "exception": false,
     "start_time": "2025-07-30T14:11:30.537735",
     "status": "completed"
    },
    "tags": []
   },
   "outputs": [],
   "source": [
    "#import pandas as pd\n",
    "#\n",
    "#X_train = pd.read_csv(\"./data/X_train.csv\")\n",
    "#y_train = pd.read_csv(\"./data/y_train.csv\")"
   ]
  },
  {
   "cell_type": "code",
   "execution_count": 12,
   "id": "63d08085",
   "metadata": {
    "execution": {
     "iopub.execute_input": "2025-07-30T14:11:30.606077Z",
     "iopub.status.busy": "2025-07-30T14:11:30.605374Z",
     "iopub.status.idle": "2025-07-30T14:11:30.610490Z",
     "shell.execute_reply": "2025-07-30T14:11:30.609529Z"
    },
    "papermill": {
     "duration": 0.027058,
     "end_time": "2025-07-30T14:11:30.612100",
     "exception": false,
     "start_time": "2025-07-30T14:11:30.585042",
     "status": "completed"
    },
    "tags": []
   },
   "outputs": [],
   "source": [
    "#X_test = pd.read_csv(\"./data/X_test.csv\")\n",
    "#y_true = pd.read_csv(\"./data/y_test.csv\")"
   ]
  },
  {
   "cell_type": "code",
   "execution_count": 13,
   "id": "98a8d0fa-1d3d-4ed8-bb2c-281470e24add",
   "metadata": {
    "execution": {
     "iopub.execute_input": "2025-07-30T14:11:30.653334Z",
     "iopub.status.busy": "2025-07-30T14:11:30.652915Z",
     "iopub.status.idle": "2025-07-30T14:11:30.658087Z",
     "shell.execute_reply": "2025-07-30T14:11:30.657133Z"
    },
    "papermill": {
     "duration": 0.027718,
     "end_time": "2025-07-30T14:11:30.659851",
     "exception": false,
     "start_time": "2025-07-30T14:11:30.632133",
     "status": "completed"
    },
    "tags": []
   },
   "outputs": [],
   "source": [
    "# Calibration data for conformal\n",
    "#X_calib = pd.read_csv(\"./data/X_calib.csv\")\n",
    "#y_calib = pd.read_csv(\"./data/y_calib.csv\")"
   ]
  },
  {
   "cell_type": "markdown",
   "id": "997051c5-15bd-4b69-9786-c3001a3ce484",
   "metadata": {
    "papermill": {
     "duration": 0.019442,
     "end_time": "2025-07-30T14:11:30.702498",
     "exception": false,
     "start_time": "2025-07-30T14:11:30.683056",
     "status": "completed"
    },
    "tags": []
   },
   "source": [
    "# Splitting Data and Setting Training Data Size"
   ]
  },
  {
   "cell_type": "code",
   "execution_count": 14,
   "id": "e993b61f-042d-41a6-8c81-f55681f86335",
   "metadata": {
    "execution": {
     "iopub.execute_input": "2025-07-30T14:11:30.751604Z",
     "iopub.status.busy": "2025-07-30T14:11:30.750948Z",
     "iopub.status.idle": "2025-07-30T14:11:30.764311Z",
     "shell.execute_reply": "2025-07-30T14:11:30.763335Z"
    },
    "papermill": {
     "duration": 0.040955,
     "end_time": "2025-07-30T14:11:30.766172",
     "exception": false,
     "start_time": "2025-07-30T14:11:30.725217",
     "status": "completed"
    },
    "tags": []
   },
   "outputs": [],
   "source": [
    "def sample_by_year_size(df,\n",
    "                        training_year: str,\n",
    "                        training_size: str,\n",
    "                        random_state: int = 42):\n",
    "    # --- parse training_year into a list of int years ---\n",
    "    if \"_\" in training_year:\n",
    "        start_str, end_str = training_year.split(\"_\", 1)\n",
    "        start = int(start_str)\n",
    "        end   = int(end_str) if len(end_str) == 4 else (int(end_str) + (start // 100)*100)\n",
    "        years = list(range(start, end + 1))\n",
    "    else:\n",
    "        years = [int(training_year)]\n",
    "\n",
    "    df = df[df[\"year\"].isin(years)].reset_index(drop=True)\n",
    "\n",
    "    # --- map training_size to total number of samples ---\n",
    "    total_map = {\"25k\": 25_000, \"5k\": 5_000, \"1k\": 1_000}\n",
    "    if training_size not in total_map:\n",
    "        return df  # e.g. \"all\"\n",
    "\n",
    "    total_samples = total_map[training_size]\n",
    "    n_years       = len(years)\n",
    "    base          = total_samples // n_years\n",
    "    remainder     = total_samples % n_years\n",
    "\n",
    "    # --- build a dict: year -> how many to sample ---\n",
    "    # give +1 to the first `remainder` years in ascending order\n",
    "    quotas = {\n",
    "        year: base + (1 if idx < remainder else 0)\n",
    "        for idx, year in enumerate(sorted(years))\n",
    "    }\n",
    "\n",
    "    # --- sample per‐year according to the quota dict ---\n",
    "    sampled = (\n",
    "        df\n",
    "        .groupby(\"year\", group_keys=False)\n",
    "        .apply(lambda grp: grp.sample(\n",
    "            n=min(len(grp), quotas[grp.name]),\n",
    "            random_state=random_state))\n",
    "        .reset_index(drop=True)\n",
    "    )\n",
    "\n",
    "    return sampled"
   ]
  },
  {
   "cell_type": "code",
   "execution_count": 15,
   "id": "c0ccd338-0e02-41f3-a09d-f56f9266e3fb",
   "metadata": {
    "execution": {
     "iopub.execute_input": "2025-07-30T14:11:30.816871Z",
     "iopub.status.busy": "2025-07-30T14:11:30.816192Z",
     "iopub.status.idle": "2025-07-30T14:11:30.827662Z",
     "shell.execute_reply": "2025-07-30T14:11:30.826556Z"
    },
    "papermill": {
     "duration": 0.038398,
     "end_time": "2025-07-30T14:11:30.829490",
     "exception": false,
     "start_time": "2025-07-30T14:11:30.791092",
     "status": "completed"
    },
    "tags": []
   },
   "outputs": [
    {
     "data": {
      "text/plain": [
       "'5k'"
      ]
     },
     "execution_count": 15,
     "metadata": {},
     "output_type": "execute_result"
    }
   ],
   "source": [
    "universe[\"training_size\"]"
   ]
  },
  {
   "cell_type": "code",
   "execution_count": 16,
   "id": "ca707fd7-8047-4acd-bfa5-66248fbbf8e6",
   "metadata": {
    "execution": {
     "iopub.execute_input": "2025-07-30T14:11:30.881844Z",
     "iopub.status.busy": "2025-07-30T14:11:30.881236Z",
     "iopub.status.idle": "2025-07-30T14:11:30.888999Z",
     "shell.execute_reply": "2025-07-30T14:11:30.887874Z"
    },
    "papermill": {
     "duration": 0.035792,
     "end_time": "2025-07-30T14:11:30.890821",
     "exception": false,
     "start_time": "2025-07-30T14:11:30.855029",
     "status": "completed"
    },
    "tags": []
   },
   "outputs": [
    {
     "data": {
      "text/plain": [
       "'2010_14'"
      ]
     },
     "execution_count": 16,
     "metadata": {},
     "output_type": "execute_result"
    }
   ],
   "source": [
    "universe[\"training_year\"]"
   ]
  },
  {
   "cell_type": "code",
   "execution_count": 17,
   "id": "aea9c6ef-6f46-42c8-85eb-5a62025c1508",
   "metadata": {
    "execution": {
     "iopub.execute_input": "2025-07-30T14:11:30.941503Z",
     "iopub.status.busy": "2025-07-30T14:11:30.940780Z",
     "iopub.status.idle": "2025-07-30T14:11:31.954817Z",
     "shell.execute_reply": "2025-07-30T14:11:31.953906Z"
    },
    "papermill": {
     "duration": 1.041064,
     "end_time": "2025-07-30T14:11:31.956614",
     "exception": false,
     "start_time": "2025-07-30T14:11:30.915550",
     "status": "completed"
    },
    "tags": []
   },
   "outputs": [],
   "source": [
    "siab_train = sample_by_year_size(siab,\n",
    "                               training_year=universe[\"training_year\"],\n",
    "                               training_size=universe[\"training_size\"])"
   ]
  },
  {
   "cell_type": "code",
   "execution_count": 18,
   "id": "8d3afb32-789d-442c-8d5d-9f5aa8dd2eed",
   "metadata": {
    "execution": {
     "iopub.execute_input": "2025-07-30T14:11:31.997913Z",
     "iopub.status.busy": "2025-07-30T14:11:31.997261Z",
     "iopub.status.idle": "2025-07-30T14:11:32.004825Z",
     "shell.execute_reply": "2025-07-30T14:11:32.003901Z"
    },
    "papermill": {
     "duration": 0.029908,
     "end_time": "2025-07-30T14:11:32.006417",
     "exception": false,
     "start_time": "2025-07-30T14:11:31.976509",
     "status": "completed"
    },
    "tags": []
   },
   "outputs": [
    {
     "data": {
      "text/plain": [
       "(5000, 164)"
      ]
     },
     "execution_count": 18,
     "metadata": {},
     "output_type": "execute_result"
    }
   ],
   "source": [
    "siab_train.shape"
   ]
  },
  {
   "cell_type": "code",
   "execution_count": 19,
   "id": "d582db68-1a4c-47fb-84fc-08518dc1975a",
   "metadata": {
    "execution": {
     "iopub.execute_input": "2025-07-30T14:11:32.049015Z",
     "iopub.status.busy": "2025-07-30T14:11:32.048262Z",
     "iopub.status.idle": "2025-07-30T14:11:32.058568Z",
     "shell.execute_reply": "2025-07-30T14:11:32.057627Z"
    },
    "papermill": {
     "duration": 0.033086,
     "end_time": "2025-07-30T14:11:32.060297",
     "exception": false,
     "start_time": "2025-07-30T14:11:32.027211",
     "status": "completed"
    },
    "tags": []
   },
   "outputs": [
    {
     "data": {
      "text/plain": [
       "year\n",
       "2010    1000\n",
       "2011    1000\n",
       "2012    1000\n",
       "2013    1000\n",
       "2014    1000\n",
       "dtype: int64"
      ]
     },
     "metadata": {},
     "output_type": "display_data"
    }
   ],
   "source": [
    "display(siab_train.groupby(\"year\").size())"
   ]
  },
  {
   "cell_type": "code",
   "execution_count": 20,
   "id": "a561edb4-d032-42cb-8256-22eac1111c64",
   "metadata": {
    "execution": {
     "iopub.execute_input": "2025-07-30T14:11:32.103153Z",
     "iopub.status.busy": "2025-07-30T14:11:32.102234Z",
     "iopub.status.idle": "2025-07-30T14:11:32.344353Z",
     "shell.execute_reply": "2025-07-30T14:11:32.343151Z"
    },
    "papermill": {
     "duration": 0.265021,
     "end_time": "2025-07-30T14:11:32.346073",
     "exception": false,
     "start_time": "2025-07-30T14:11:32.081052",
     "status": "completed"
    },
    "tags": []
   },
   "outputs": [],
   "source": [
    "#siab_train = siab_s[siab_s.year < 2015]\n",
    "siab_calib = siab[siab.year == 2015]\n",
    "siab_test = siab[siab.year == 2016]"
   ]
  },
  {
   "cell_type": "code",
   "execution_count": 21,
   "id": "472de16f-c3db-4916-846b-1f0de9cf1746",
   "metadata": {
    "execution": {
     "iopub.execute_input": "2025-07-30T14:11:32.388125Z",
     "iopub.status.busy": "2025-07-30T14:11:32.387414Z",
     "iopub.status.idle": "2025-07-30T14:11:32.395837Z",
     "shell.execute_reply": "2025-07-30T14:11:32.394900Z"
    },
    "papermill": {
     "duration": 0.03071,
     "end_time": "2025-07-30T14:11:32.397548",
     "exception": false,
     "start_time": "2025-07-30T14:11:32.366838",
     "status": "completed"
    },
    "tags": []
   },
   "outputs": [],
   "source": [
    "X_train = siab_train.iloc[:,4:164]\n",
    "y_train = siab_train.iloc[:, [3]]"
   ]
  },
  {
   "cell_type": "code",
   "execution_count": 22,
   "id": "828c96af-f43a-4ed6-ba47-8ac73a47d56c",
   "metadata": {
    "execution": {
     "iopub.execute_input": "2025-07-30T14:11:32.441347Z",
     "iopub.status.busy": "2025-07-30T14:11:32.440917Z",
     "iopub.status.idle": "2025-07-30T14:11:32.495878Z",
     "shell.execute_reply": "2025-07-30T14:11:32.494841Z"
    },
    "papermill": {
     "duration": 0.079062,
     "end_time": "2025-07-30T14:11:32.497796",
     "exception": false,
     "start_time": "2025-07-30T14:11:32.418734",
     "status": "completed"
    },
    "tags": []
   },
   "outputs": [],
   "source": [
    "X_calib = siab_calib.iloc[:,4:164]\n",
    "y_calib = siab_calib.iloc[:, [3]]"
   ]
  },
  {
   "cell_type": "code",
   "execution_count": 23,
   "id": "c34be9c3-6bd6-476e-acd3-845840e303be",
   "metadata": {
    "execution": {
     "iopub.execute_input": "2025-07-30T14:11:32.543542Z",
     "iopub.status.busy": "2025-07-30T14:11:32.543079Z",
     "iopub.status.idle": "2025-07-30T14:11:32.596481Z",
     "shell.execute_reply": "2025-07-30T14:11:32.595534Z"
    },
    "papermill": {
     "duration": 0.077389,
     "end_time": "2025-07-30T14:11:32.598416",
     "exception": false,
     "start_time": "2025-07-30T14:11:32.521027",
     "status": "completed"
    },
    "tags": []
   },
   "outputs": [],
   "source": [
    "X_test = siab_test.iloc[:,4:164]\n",
    "y_true = siab_test.iloc[:, [3]]"
   ]
  },
  {
   "cell_type": "markdown",
   "id": "9901737e-04df-44f0-9100-f5ad144ed040",
   "metadata": {
    "papermill": {
     "duration": 0.026461,
     "end_time": "2025-07-30T14:11:32.649820",
     "exception": false,
     "start_time": "2025-07-30T14:11:32.623359",
     "status": "completed"
    },
    "tags": []
   },
   "source": [
    "# Splitting Data and Setting Training Data Size OLD VERSION"
   ]
  },
  {
   "cell_type": "code",
   "execution_count": 24,
   "id": "acbc8f7d-8fc8-4e86-8c59-5dcb0f58384b",
   "metadata": {
    "execution": {
     "iopub.execute_input": "2025-07-30T14:11:32.696080Z",
     "iopub.status.busy": "2025-07-30T14:11:32.695576Z",
     "iopub.status.idle": "2025-07-30T14:11:32.701507Z",
     "shell.execute_reply": "2025-07-30T14:11:32.700454Z"
    },
    "papermill": {
     "duration": 0.032906,
     "end_time": "2025-07-30T14:11:32.705100",
     "exception": false,
     "start_time": "2025-07-30T14:11:32.672194",
     "status": "completed"
    },
    "tags": []
   },
   "outputs": [],
   "source": [
    "#def sample_by_year(df, training_size, random_state=42):\n",
    "#    if training_size == \"2014\":\n",
    "#        return df[df[\"year\"] == 2014].reset_index(drop=True)\n",
    "#    \n",
    "#    size_map = {\n",
    "#        \"25k\": 5000,\n",
    "#        \"5k\": 1000,\n",
    "#        \"1k\": 200\n",
    "#    }\n",
    "#\n",
    "#    if training_size not in size_map:\n",
    "#        return df.reset_index(drop=True)  # use all data\n",
    "#\n",
    "#    n_per_year = size_map[training_size]\n",
    "#    grouped = df.groupby(\"year\")\n",
    "#    sampled = grouped.apply(lambda x: x.sample(n=min(n_per_year, len(x)), random_state=random_state))\n",
    "#    return sampled.reset_index(drop=True)"
   ]
  },
  {
   "cell_type": "code",
   "execution_count": 25,
   "id": "6d931f52-beaf-43ff-9e78-9d44a448d54e",
   "metadata": {
    "execution": {
     "iopub.execute_input": "2025-07-30T14:11:32.753553Z",
     "iopub.status.busy": "2025-07-30T14:11:32.753046Z",
     "iopub.status.idle": "2025-07-30T14:11:32.758182Z",
     "shell.execute_reply": "2025-07-30T14:11:32.757270Z"
    },
    "papermill": {
     "duration": 0.029953,
     "end_time": "2025-07-30T14:11:32.759640",
     "exception": false,
     "start_time": "2025-07-30T14:11:32.729687",
     "status": "completed"
    },
    "tags": []
   },
   "outputs": [],
   "source": [
    "#siab_s = sample_by_year(siab, universe[\"training_size\"])"
   ]
  },
  {
   "cell_type": "code",
   "execution_count": 26,
   "id": "5db0a40e-a4e2-4920-be85-b12ae061d70d",
   "metadata": {
    "execution": {
     "iopub.execute_input": "2025-07-30T14:11:32.785841Z",
     "iopub.status.busy": "2025-07-30T14:11:32.785344Z",
     "iopub.status.idle": "2025-07-30T14:11:32.789962Z",
     "shell.execute_reply": "2025-07-30T14:11:32.789158Z"
    },
    "papermill": {
     "duration": 0.018496,
     "end_time": "2025-07-30T14:11:32.791369",
     "exception": false,
     "start_time": "2025-07-30T14:11:32.772873",
     "status": "completed"
    },
    "tags": []
   },
   "outputs": [],
   "source": [
    "#display(siab_s.groupby(\"year\").size())"
   ]
  },
  {
   "cell_type": "code",
   "execution_count": 27,
   "id": "e6c733c5",
   "metadata": {
    "execution": {
     "iopub.execute_input": "2025-07-30T14:11:32.818300Z",
     "iopub.status.busy": "2025-07-30T14:11:32.817881Z",
     "iopub.status.idle": "2025-07-30T14:11:32.914053Z",
     "shell.execute_reply": "2025-07-30T14:11:32.913017Z"
    },
    "papermill": {
     "duration": 0.111295,
     "end_time": "2025-07-30T14:11:32.915986",
     "exception": false,
     "start_time": "2025-07-30T14:11:32.804691",
     "status": "completed"
    },
    "tags": []
   },
   "outputs": [],
   "source": [
    "# Auxiliary data needed downstream in the pipeline\n",
    "\n",
    "org_train = X_train.copy()\n",
    "org_test = X_test.copy()\n",
    "org_calib = X_calib.copy()"
   ]
  },
  {
   "cell_type": "code",
   "execution_count": 28,
   "id": "1466abac-c6da-4492-a62f-4240ae3783af",
   "metadata": {
    "execution": {
     "iopub.execute_input": "2025-07-30T14:11:32.965892Z",
     "iopub.status.busy": "2025-07-30T14:11:32.965155Z",
     "iopub.status.idle": "2025-07-30T14:11:32.971296Z",
     "shell.execute_reply": "2025-07-30T14:11:32.970272Z"
    },
    "papermill": {
     "duration": 0.033354,
     "end_time": "2025-07-30T14:11:32.973219",
     "exception": false,
     "start_time": "2025-07-30T14:11:32.939865",
     "status": "completed"
    },
    "tags": []
   },
   "outputs": [],
   "source": [
    "# put in other script?\n",
    "# Group sizes\n",
    "\n",
    "#def calculate_percentages(df, df_name):\n",
    "#    total_entries = len(df)\n",
    "#\n",
    "#    female_pct = (df['frau1'] == 1).mean() * 100\n",
    "#    non_german_pct = ((df['maxdeutsch1'] == 0) & (df['maxdeutsch.Missing.'] == 0)).mean() * 100\n",
    "#    non_german_male_pct = ((df['frau1'] == 0) & (df['maxdeutsch1'] == 0) & (df['maxdeutsch.Missing.'] == 0)).mean() * 100\n",
    "#    non_german_female_pct = ((df['frau1'] == 1) & (df['maxdeutsch1'] == 0) & (df['maxdeutsch.Missing.'] == 0)).mean() * 100\n",
    "#\n",
    "#    print(f\"--- {df_name} ---\")\n",
    "#    print(f\"Female: {female_pct:.2f}%\")\n",
    "#    print(f\"Non-German: {non_german_pct:.2f}%\")\n",
    "#    print(f\"Non-German Male: {non_german_male_pct:.2f}%\")\n",
    "#    print(f\"Non-German Female: {non_german_female_pct:.2f}%\\n\")\n",
    "#\n",
    "## Calculate for each DataFrame\n",
    "#calculate_percentages(siab_calib, \"siab_calib\")\n",
    "#calculate_percentages(siab_test, \"siab_test\")\n",
    "#calculate_percentages(siab_train, \"siab_train\")"
   ]
  },
  {
   "cell_type": "markdown",
   "id": "0a4a1b33",
   "metadata": {
    "papermill": {
     "duration": 0.024195,
     "end_time": "2025-07-30T14:11:33.024343",
     "exception": false,
     "start_time": "2025-07-30T14:11:33.000148",
     "status": "completed"
    },
    "tags": []
   },
   "source": [
    "# Preprocessing Data"
   ]
  },
  {
   "cell_type": "code",
   "execution_count": 29,
   "id": "ca879031",
   "metadata": {
    "execution": {
     "iopub.execute_input": "2025-07-30T14:11:33.072208Z",
     "iopub.status.busy": "2025-07-30T14:11:33.071477Z",
     "iopub.status.idle": "2025-07-30T14:11:33.078299Z",
     "shell.execute_reply": "2025-07-30T14:11:33.077308Z"
    },
    "papermill": {
     "duration": 0.032652,
     "end_time": "2025-07-30T14:11:33.079892",
     "exception": false,
     "start_time": "2025-07-30T14:11:33.047240",
     "status": "completed"
    },
    "tags": []
   },
   "outputs": [],
   "source": [
    "# EXCLUDE PROTECTED FEATURES\n",
    "# ----------------------\n",
    "# \"exclude_features\": \"none\", # \"nationality\", \"sex\", \"nationality-sex\"\n",
    "\n",
    "excluded_features = universe[\"exclude_features\"].split(\"-\") # split, e.g.: \"nationality-sex\" -> [\"nationality\", \"sex\"]\n",
    "excluded_features_dictionary = {\n",
    "    \"nationality\": [\"maxdeutsch1\", \"maxdeutsch.Missing.\"],\n",
    "    \"sex\": [\"frau1\"],\n",
    "    \"age\": [\"age\"],\n",
    "}\n"
   ]
  },
  {
   "cell_type": "code",
   "execution_count": 30,
   "id": "b745ac60",
   "metadata": {
    "execution": {
     "iopub.execute_input": "2025-07-30T14:11:33.130239Z",
     "iopub.status.busy": "2025-07-30T14:11:33.129598Z",
     "iopub.status.idle": "2025-07-30T14:11:33.135361Z",
     "shell.execute_reply": "2025-07-30T14:11:33.134351Z"
    },
    "papermill": {
     "duration": 0.031547,
     "end_time": "2025-07-30T14:11:33.137041",
     "exception": false,
     "start_time": "2025-07-30T14:11:33.105494",
     "status": "completed"
    },
    "tags": []
   },
   "outputs": [],
   "source": [
    "# Code nice names to column names\n",
    "\n",
    "excluded_features_columns = [\n",
    "    excluded_features_dictionary[f] for f in excluded_features if len(f) > 0 and f != \"none\"\n",
    "]"
   ]
  },
  {
   "cell_type": "code",
   "execution_count": 31,
   "id": "f84f73a2",
   "metadata": {
    "execution": {
     "iopub.execute_input": "2025-07-30T14:11:33.185702Z",
     "iopub.status.busy": "2025-07-30T14:11:33.185014Z",
     "iopub.status.idle": "2025-07-30T14:11:33.193015Z",
     "shell.execute_reply": "2025-07-30T14:11:33.191897Z"
    },
    "papermill": {
     "duration": 0.035127,
     "end_time": "2025-07-30T14:11:33.195257",
     "exception": false,
     "start_time": "2025-07-30T14:11:33.160130",
     "status": "completed"
    },
    "tags": []
   },
   "outputs": [],
   "source": [
    "from utils import flatten_once\n",
    "\n",
    "excluded_features_columns = flatten_once(excluded_features_columns)"
   ]
  },
  {
   "cell_type": "code",
   "execution_count": 32,
   "id": "884dea22",
   "metadata": {
    "execution": {
     "iopub.execute_input": "2025-07-30T14:11:33.247686Z",
     "iopub.status.busy": "2025-07-30T14:11:33.247041Z",
     "iopub.status.idle": "2025-07-30T14:11:33.259742Z",
     "shell.execute_reply": "2025-07-30T14:11:33.258689Z"
    },
    "papermill": {
     "duration": 0.050417,
     "end_time": "2025-07-30T14:11:33.271539",
     "exception": false,
     "start_time": "2025-07-30T14:11:33.221122",
     "status": "completed"
    },
    "tags": []
   },
   "outputs": [
    {
     "name": "stdout",
     "output_type": "stream",
     "text": [
      "Dropping features: ['maxdeutsch1', 'maxdeutsch.Missing.', 'frau1']\n"
     ]
    }
   ],
   "source": [
    "if len(excluded_features_columns) > 0:\n",
    "    print(f\"Dropping features: {excluded_features_columns}\")\n",
    "    X_train.drop(excluded_features_columns, axis=1, inplace=True)"
   ]
  },
  {
   "cell_type": "code",
   "execution_count": 33,
   "id": "95ab8b16",
   "metadata": {
    "execution": {
     "iopub.execute_input": "2025-07-30T14:11:33.325332Z",
     "iopub.status.busy": "2025-07-30T14:11:33.324632Z",
     "iopub.status.idle": "2025-07-30T14:11:33.379364Z",
     "shell.execute_reply": "2025-07-30T14:11:33.378336Z"
    },
    "papermill": {
     "duration": 0.084241,
     "end_time": "2025-07-30T14:11:33.381515",
     "exception": false,
     "start_time": "2025-07-30T14:11:33.297274",
     "status": "completed"
    },
    "tags": []
   },
   "outputs": [
    {
     "name": "stdout",
     "output_type": "stream",
     "text": [
      "Dropping features: ['maxdeutsch1', 'maxdeutsch.Missing.', 'frau1']\n"
     ]
    }
   ],
   "source": [
    "if len(excluded_features_columns) > 0:\n",
    "    print(f\"Dropping features: {excluded_features_columns}\")\n",
    "    X_test.drop(excluded_features_columns, axis=1, inplace=True)"
   ]
  },
  {
   "cell_type": "code",
   "execution_count": 34,
   "id": "1853aaf5-fb9f-46cb-a2b5-8ea4ae2237e4",
   "metadata": {
    "execution": {
     "iopub.execute_input": "2025-07-30T14:11:33.432246Z",
     "iopub.status.busy": "2025-07-30T14:11:33.431406Z",
     "iopub.status.idle": "2025-07-30T14:11:33.483611Z",
     "shell.execute_reply": "2025-07-30T14:11:33.482412Z"
    },
    "papermill": {
     "duration": 0.079395,
     "end_time": "2025-07-30T14:11:33.485466",
     "exception": false,
     "start_time": "2025-07-30T14:11:33.406071",
     "status": "completed"
    },
    "tags": []
   },
   "outputs": [
    {
     "name": "stdout",
     "output_type": "stream",
     "text": [
      "Dropping features: ['maxdeutsch1', 'maxdeutsch.Missing.', 'frau1']\n"
     ]
    }
   ],
   "source": [
    "if len(excluded_features_columns) > 0:\n",
    "    print(f\"Dropping features: {excluded_features_columns}\")\n",
    "    X_calib.drop(excluded_features_columns, axis=1, inplace=True)"
   ]
  },
  {
   "cell_type": "code",
   "execution_count": 35,
   "id": "6727d079-03e5-481e-9d38-292a90b7a0a8",
   "metadata": {
    "execution": {
     "iopub.execute_input": "2025-07-30T14:11:33.534007Z",
     "iopub.status.busy": "2025-07-30T14:11:33.533303Z",
     "iopub.status.idle": "2025-07-30T14:11:33.538585Z",
     "shell.execute_reply": "2025-07-30T14:11:33.537518Z"
    },
    "papermill": {
     "duration": 0.031188,
     "end_time": "2025-07-30T14:11:33.540389",
     "exception": false,
     "start_time": "2025-07-30T14:11:33.509201",
     "status": "completed"
    },
    "tags": []
   },
   "outputs": [],
   "source": [
    "# SPLIT & STRATIFY DATA\n",
    "# ----------------------"
   ]
  },
  {
   "cell_type": "code",
   "execution_count": 36,
   "id": "76c4dc6d",
   "metadata": {
    "execution": {
     "iopub.execute_input": "2025-07-30T14:11:33.589689Z",
     "iopub.status.busy": "2025-07-30T14:11:33.588664Z",
     "iopub.status.idle": "2025-07-30T14:11:33.595518Z",
     "shell.execute_reply": "2025-07-30T14:11:33.594624Z"
    },
    "papermill": {
     "duration": 0.032567,
     "end_time": "2025-07-30T14:11:33.597278",
     "exception": false,
     "start_time": "2025-07-30T14:11:33.564711",
     "status": "completed"
    },
    "tags": []
   },
   "outputs": [],
   "source": [
    "# EXCLUDE CERTAIN SUBGROUPS\n",
    "# ----------------------\n",
    "\n",
    "mode = universe.get(\"exclude_subgroups\", \"keep-all\") \n",
    "# Fetches the exclude_subgroups setting from the universe dict.\n",
    "# Defaults to \"keep-all\" if the key is missing."
   ]
  },
  {
   "cell_type": "code",
   "execution_count": 37,
   "id": "21994072",
   "metadata": {
    "execution": {
     "iopub.execute_input": "2025-07-30T14:11:33.649269Z",
     "iopub.status.busy": "2025-07-30T14:11:33.648476Z",
     "iopub.status.idle": "2025-07-30T14:11:33.655320Z",
     "shell.execute_reply": "2025-07-30T14:11:33.654383Z"
    },
    "papermill": {
     "duration": 0.034097,
     "end_time": "2025-07-30T14:11:33.657153",
     "exception": false,
     "start_time": "2025-07-30T14:11:33.623056",
     "status": "completed"
    },
    "tags": []
   },
   "outputs": [],
   "source": [
    "if mode == \"keep-all\":\n",
    "    keep_mask = pd.Series(True, index=org_train.index)\n",
    "\n",
    "# org_train contains the original feature columns from features_org (in Simson)\n",
    "# features_org contains unprocessed features, for me X_train at beginning ???\n",
    "# For keep-all, creates a boolean Series (keep_mask) of all True, so no rows are removed.\n",
    "\n",
    "elif mode == \"drop-non-german\":\n",
    "    keep_mask = org_train[\"maxdeutsch1\"] == 1 # ??? what about missing values?\n",
    "\n",
    "else:\n",
    "    raise ValueError(f\"Unsupported mode for exclude_subgroups: {mode}\")\n"
   ]
  },
  {
   "cell_type": "code",
   "execution_count": 38,
   "id": "71651440",
   "metadata": {
    "execution": {
     "iopub.execute_input": "2025-07-30T14:11:33.699903Z",
     "iopub.status.busy": "2025-07-30T14:11:33.699576Z",
     "iopub.status.idle": "2025-07-30T14:11:33.705559Z",
     "shell.execute_reply": "2025-07-30T14:11:33.704840Z"
    },
    "papermill": {
     "duration": 0.027196,
     "end_time": "2025-07-30T14:11:33.706800",
     "exception": false,
     "start_time": "2025-07-30T14:11:33.679604",
     "status": "completed"
    },
    "tags": []
   },
   "outputs": [
    {
     "name": "stdout",
     "output_type": "stream",
     "text": [
      "Dropping 657 rows (13.14%) where mode='drop-non-german'\n"
     ]
    }
   ],
   "source": [
    "n_drop = (~keep_mask).sum() # Calculates how many rows are set to be dropped\n",
    "if n_drop > 0:\n",
    "    pct = n_drop / len(keep_mask) * 100\n",
    "    print(f\"Dropping {n_drop} rows ({pct:.2f}%) where mode='{mode}'\")"
   ]
  },
  {
   "cell_type": "code",
   "execution_count": 39,
   "id": "5fb8eee5",
   "metadata": {
    "execution": {
     "iopub.execute_input": "2025-07-30T14:11:33.733396Z",
     "iopub.status.busy": "2025-07-30T14:11:33.733082Z",
     "iopub.status.idle": "2025-07-30T14:11:33.738819Z",
     "shell.execute_reply": "2025-07-30T14:11:33.738122Z"
    },
    "papermill": {
     "duration": 0.020769,
     "end_time": "2025-07-30T14:11:33.740331",
     "exception": false,
     "start_time": "2025-07-30T14:11:33.719562",
     "status": "completed"
    },
    "tags": []
   },
   "outputs": [],
   "source": [
    "X_train = X_train[keep_mask]"
   ]
  },
  {
   "cell_type": "code",
   "execution_count": 40,
   "id": "b202bb3a",
   "metadata": {
    "execution": {
     "iopub.execute_input": "2025-07-30T14:11:33.799021Z",
     "iopub.status.busy": "2025-07-30T14:11:33.798501Z",
     "iopub.status.idle": "2025-07-30T14:11:33.805576Z",
     "shell.execute_reply": "2025-07-30T14:11:33.804393Z"
    },
    "papermill": {
     "duration": 0.044401,
     "end_time": "2025-07-30T14:11:33.807858",
     "exception": false,
     "start_time": "2025-07-30T14:11:33.763457",
     "status": "completed"
    },
    "tags": []
   },
   "outputs": [],
   "source": [
    "y_train = y_train[keep_mask]"
   ]
  },
  {
   "cell_type": "markdown",
   "id": "493e2ac3",
   "metadata": {
    "papermill": {
     "duration": 0.032983,
     "end_time": "2025-07-30T14:11:33.874164",
     "exception": false,
     "start_time": "2025-07-30T14:11:33.841181",
     "status": "completed"
    },
    "tags": []
   },
   "source": [
    "# Model Training"
   ]
  },
  {
   "cell_type": "code",
   "execution_count": 41,
   "id": "679e1268",
   "metadata": {
    "execution": {
     "iopub.execute_input": "2025-07-30T14:11:33.940066Z",
     "iopub.status.busy": "2025-07-30T14:11:33.939352Z",
     "iopub.status.idle": "2025-07-30T14:11:34.055034Z",
     "shell.execute_reply": "2025-07-30T14:11:34.054138Z"
    },
    "papermill": {
     "duration": 0.150407,
     "end_time": "2025-07-30T14:11:34.056989",
     "exception": false,
     "start_time": "2025-07-30T14:11:33.906582",
     "status": "completed"
    },
    "tags": []
   },
   "outputs": [],
   "source": [
    "from sklearn.linear_model import LogisticRegression\n",
    "from sklearn.ensemble import GradientBoostingClassifier, RandomForestClassifier\n",
    "\n",
    "if (universe[\"model\"] == \"logreg\"):\n",
    "    model = LogisticRegression() #penalty=\"none\") #, solver=\"newton-cg\", max_iter=1) # include random_state=19 ?\n",
    "elif (universe[\"model\"] == \"penalized_logreg\"):\n",
    "    model = LogisticRegression(penalty=\"l2\", C=1.0) #, solver=\"newton-cg\", max_iter=1)\n",
    "elif (universe[\"model\"] == \"rf\"):\n",
    "    model = RandomForestClassifier(n_estimators=100, n_jobs=-1)\n",
    "elif (universe[\"model\"] == \"gbm\"):\n",
    "    model = GradientBoostingClassifier()\n",
    "elif (universe[\"model\"] == \"elasticnet\"):\n",
    "    model = LogisticRegression(penalty = 'elasticnet', solver = 'saga', l1_ratio = 0.5, max_iter=5000) # which solver to use?\n",
    "else:\n",
    "    raise \"Unsupported universe.model\""
   ]
  },
  {
   "cell_type": "code",
   "execution_count": 42,
   "id": "0cc8f744",
   "metadata": {
    "execution": {
     "iopub.execute_input": "2025-07-30T14:11:34.103185Z",
     "iopub.status.busy": "2025-07-30T14:11:34.102674Z",
     "iopub.status.idle": "2025-07-30T14:11:34.108004Z",
     "shell.execute_reply": "2025-07-30T14:11:34.107016Z"
    },
    "papermill": {
     "duration": 0.027087,
     "end_time": "2025-07-30T14:11:34.109430",
     "exception": false,
     "start_time": "2025-07-30T14:11:34.082343",
     "status": "completed"
    },
    "tags": []
   },
   "outputs": [],
   "source": [
    "import numpy as np\n",
    "from sklearn.pipeline import Pipeline\n",
    "from sklearn.preprocessing import StandardScaler\n",
    "\n",
    "model = Pipeline([\n",
    "    #(\"continuous_processor\", continuous_processor),\n",
    "    #(\"categorical_preprocessor\", categorical_preprocessor),\n",
    "    (\"scale\", StandardScaler() if universe[\"scale\"] == \"scale\" else None), \n",
    "    (\"model\", model),\n",
    "])"
   ]
  },
  {
   "cell_type": "code",
   "execution_count": 43,
   "id": "9442c04d",
   "metadata": {
    "execution": {
     "iopub.execute_input": "2025-07-30T14:11:34.138071Z",
     "iopub.status.busy": "2025-07-30T14:11:34.137709Z",
     "iopub.status.idle": "2025-07-30T14:11:46.755335Z",
     "shell.execute_reply": "2025-07-30T14:11:46.754510Z"
    },
    "papermill": {
     "duration": 12.633399,
     "end_time": "2025-07-30T14:11:46.756967",
     "exception": false,
     "start_time": "2025-07-30T14:11:34.123568",
     "status": "completed"
    },
    "tags": []
   },
   "outputs": [
    {
     "data": {
      "text/html": [
       "<style>#sk-container-id-1 {color: black;background-color: white;}#sk-container-id-1 pre{padding: 0;}#sk-container-id-1 div.sk-toggleable {background-color: white;}#sk-container-id-1 label.sk-toggleable__label {cursor: pointer;display: block;width: 100%;margin-bottom: 0;padding: 0.3em;box-sizing: border-box;text-align: center;}#sk-container-id-1 label.sk-toggleable__label-arrow:before {content: \"▸\";float: left;margin-right: 0.25em;color: #696969;}#sk-container-id-1 label.sk-toggleable__label-arrow:hover:before {color: black;}#sk-container-id-1 div.sk-estimator:hover label.sk-toggleable__label-arrow:before {color: black;}#sk-container-id-1 div.sk-toggleable__content {max-height: 0;max-width: 0;overflow: hidden;text-align: left;background-color: #f0f8ff;}#sk-container-id-1 div.sk-toggleable__content pre {margin: 0.2em;color: black;border-radius: 0.25em;background-color: #f0f8ff;}#sk-container-id-1 input.sk-toggleable__control:checked~div.sk-toggleable__content {max-height: 200px;max-width: 100%;overflow: auto;}#sk-container-id-1 input.sk-toggleable__control:checked~label.sk-toggleable__label-arrow:before {content: \"▾\";}#sk-container-id-1 div.sk-estimator input.sk-toggleable__control:checked~label.sk-toggleable__label {background-color: #d4ebff;}#sk-container-id-1 div.sk-label input.sk-toggleable__control:checked~label.sk-toggleable__label {background-color: #d4ebff;}#sk-container-id-1 input.sk-hidden--visually {border: 0;clip: rect(1px 1px 1px 1px);clip: rect(1px, 1px, 1px, 1px);height: 1px;margin: -1px;overflow: hidden;padding: 0;position: absolute;width: 1px;}#sk-container-id-1 div.sk-estimator {font-family: monospace;background-color: #f0f8ff;border: 1px dotted black;border-radius: 0.25em;box-sizing: border-box;margin-bottom: 0.5em;}#sk-container-id-1 div.sk-estimator:hover {background-color: #d4ebff;}#sk-container-id-1 div.sk-parallel-item::after {content: \"\";width: 100%;border-bottom: 1px solid gray;flex-grow: 1;}#sk-container-id-1 div.sk-label:hover label.sk-toggleable__label {background-color: #d4ebff;}#sk-container-id-1 div.sk-serial::before {content: \"\";position: absolute;border-left: 1px solid gray;box-sizing: border-box;top: 0;bottom: 0;left: 50%;z-index: 0;}#sk-container-id-1 div.sk-serial {display: flex;flex-direction: column;align-items: center;background-color: white;padding-right: 0.2em;padding-left: 0.2em;position: relative;}#sk-container-id-1 div.sk-item {position: relative;z-index: 1;}#sk-container-id-1 div.sk-parallel {display: flex;align-items: stretch;justify-content: center;background-color: white;position: relative;}#sk-container-id-1 div.sk-item::before, #sk-container-id-1 div.sk-parallel-item::before {content: \"\";position: absolute;border-left: 1px solid gray;box-sizing: border-box;top: 0;bottom: 0;left: 50%;z-index: -1;}#sk-container-id-1 div.sk-parallel-item {display: flex;flex-direction: column;z-index: 1;position: relative;background-color: white;}#sk-container-id-1 div.sk-parallel-item:first-child::after {align-self: flex-end;width: 50%;}#sk-container-id-1 div.sk-parallel-item:last-child::after {align-self: flex-start;width: 50%;}#sk-container-id-1 div.sk-parallel-item:only-child::after {width: 0;}#sk-container-id-1 div.sk-dashed-wrapped {border: 1px dashed gray;margin: 0 0.4em 0.5em 0.4em;box-sizing: border-box;padding-bottom: 0.4em;background-color: white;}#sk-container-id-1 div.sk-label label {font-family: monospace;font-weight: bold;display: inline-block;line-height: 1.2em;}#sk-container-id-1 div.sk-label-container {text-align: center;}#sk-container-id-1 div.sk-container {/* jupyter's `normalize.less` sets `[hidden] { display: none; }` but bootstrap.min.css set `[hidden] { display: none !important; }` so we also need the `!important` here to be able to override the default hidden behavior on the sphinx rendered scikit-learn.org. See: https://github.com/scikit-learn/scikit-learn/issues/21755 */display: inline-block !important;position: relative;}#sk-container-id-1 div.sk-text-repr-fallback {display: none;}</style><div id=\"sk-container-id-1\" class=\"sk-top-container\"><div class=\"sk-text-repr-fallback\"><pre>Pipeline(steps=[(&#x27;scale&#x27;, StandardScaler()),\n",
       "                (&#x27;model&#x27;,\n",
       "                 LogisticRegression(l1_ratio=0.5, max_iter=5000,\n",
       "                                    penalty=&#x27;elasticnet&#x27;, solver=&#x27;saga&#x27;))])</pre><b>In a Jupyter environment, please rerun this cell to show the HTML representation or trust the notebook. <br />On GitHub, the HTML representation is unable to render, please try loading this page with nbviewer.org.</b></div><div class=\"sk-container\" hidden><div class=\"sk-item sk-dashed-wrapped\"><div class=\"sk-label-container\"><div class=\"sk-label sk-toggleable\"><input class=\"sk-toggleable__control sk-hidden--visually\" id=\"sk-estimator-id-1\" type=\"checkbox\" ><label for=\"sk-estimator-id-1\" class=\"sk-toggleable__label sk-toggleable__label-arrow\">Pipeline</label><div class=\"sk-toggleable__content\"><pre>Pipeline(steps=[(&#x27;scale&#x27;, StandardScaler()),\n",
       "                (&#x27;model&#x27;,\n",
       "                 LogisticRegression(l1_ratio=0.5, max_iter=5000,\n",
       "                                    penalty=&#x27;elasticnet&#x27;, solver=&#x27;saga&#x27;))])</pre></div></div></div><div class=\"sk-serial\"><div class=\"sk-item\"><div class=\"sk-estimator sk-toggleable\"><input class=\"sk-toggleable__control sk-hidden--visually\" id=\"sk-estimator-id-2\" type=\"checkbox\" ><label for=\"sk-estimator-id-2\" class=\"sk-toggleable__label sk-toggleable__label-arrow\">StandardScaler</label><div class=\"sk-toggleable__content\"><pre>StandardScaler()</pre></div></div></div><div class=\"sk-item\"><div class=\"sk-estimator sk-toggleable\"><input class=\"sk-toggleable__control sk-hidden--visually\" id=\"sk-estimator-id-3\" type=\"checkbox\" ><label for=\"sk-estimator-id-3\" class=\"sk-toggleable__label sk-toggleable__label-arrow\">LogisticRegression</label><div class=\"sk-toggleable__content\"><pre>LogisticRegression(l1_ratio=0.5, max_iter=5000, penalty=&#x27;elasticnet&#x27;,\n",
       "                   solver=&#x27;saga&#x27;)</pre></div></div></div></div></div></div></div>"
      ],
      "text/plain": [
       "Pipeline(steps=[('scale', StandardScaler()),\n",
       "                ('model',\n",
       "                 LogisticRegression(l1_ratio=0.5, max_iter=5000,\n",
       "                                    penalty='elasticnet', solver='saga'))])"
      ]
     },
     "execution_count": 43,
     "metadata": {},
     "output_type": "execute_result"
    }
   ],
   "source": [
    "model.fit(X_train, y_train.values.ravel())"
   ]
  },
  {
   "cell_type": "code",
   "execution_count": 44,
   "id": "af59f8c0",
   "metadata": {
    "execution": {
     "iopub.execute_input": "2025-07-30T14:11:46.807504Z",
     "iopub.status.busy": "2025-07-30T14:11:46.806762Z",
     "iopub.status.idle": "2025-07-30T14:11:46.811973Z",
     "shell.execute_reply": "2025-07-30T14:11:46.811098Z"
    },
    "papermill": {
     "duration": 0.030956,
     "end_time": "2025-07-30T14:11:46.813636",
     "exception": false,
     "start_time": "2025-07-30T14:11:46.782680",
     "status": "completed"
    },
    "tags": []
   },
   "outputs": [],
   "source": [
    "from fairness_multiverse.universe import predict_w_threshold"
   ]
  },
  {
   "cell_type": "code",
   "execution_count": 45,
   "id": "a7cf2e16",
   "metadata": {
    "execution": {
     "iopub.execute_input": "2025-07-30T14:11:46.860625Z",
     "iopub.status.busy": "2025-07-30T14:11:46.860151Z",
     "iopub.status.idle": "2025-07-30T14:11:47.065717Z",
     "shell.execute_reply": "2025-07-30T14:11:47.064885Z"
    },
    "papermill": {
     "duration": 0.231102,
     "end_time": "2025-07-30T14:11:47.067200",
     "exception": false,
     "start_time": "2025-07-30T14:11:46.836098",
     "status": "completed"
    },
    "tags": []
   },
   "outputs": [
    {
     "data": {
      "text/plain": [
       "0.8530264184594806"
      ]
     },
     "execution_count": 45,
     "metadata": {},
     "output_type": "execute_result"
    }
   ],
   "source": [
    "probs_test = model.predict_proba(X_test)\n",
    "\n",
    "'''\n",
    "Below code returns a boolean array (or binary 0/1 array depending on how it’s used) where each element \n",
    "is True if the probability of class 1 is greater than or equal to the threshold, and False otherwise.\n",
    "'''\n",
    "y_pred_default = predict_w_threshold(probs_test, 0.5)\n",
    "\n",
    "from sklearn.metrics import accuracy_score\n",
    "\n",
    "# Naive prediction\n",
    "accuracy_score(y_true = y_true, y_pred = y_pred_default)"
   ]
  },
  {
   "cell_type": "code",
   "execution_count": 46,
   "id": "081964c3",
   "metadata": {
    "execution": {
     "iopub.execute_input": "2025-07-30T14:11:47.114338Z",
     "iopub.status.busy": "2025-07-30T14:11:47.113870Z",
     "iopub.status.idle": "2025-07-30T14:11:47.285131Z",
     "shell.execute_reply": "2025-07-30T14:11:47.284235Z"
    },
    "papermill": {
     "duration": 0.19611,
     "end_time": "2025-07-30T14:11:47.286866",
     "exception": false,
     "start_time": "2025-07-30T14:11:47.090756",
     "status": "completed"
    },
    "tags": []
   },
   "outputs": [
    {
     "data": {
      "text/plain": [
       "array([0, 0, 0, ..., 0, 0, 0])"
      ]
     },
     "execution_count": 46,
     "metadata": {},
     "output_type": "execute_result"
    }
   ],
   "source": [
    "model.predict(X_test)"
   ]
  },
  {
   "cell_type": "markdown",
   "id": "56c9705b",
   "metadata": {
    "papermill": {
     "duration": 0.02295,
     "end_time": "2025-07-30T14:11:47.333504",
     "exception": false,
     "start_time": "2025-07-30T14:11:47.310554",
     "status": "completed"
    },
    "tags": []
   },
   "source": [
    "# Conformal Prediction"
   ]
  },
  {
   "cell_type": "code",
   "execution_count": 47,
   "id": "160ec6ff",
   "metadata": {
    "execution": {
     "iopub.execute_input": "2025-07-30T14:11:47.379476Z",
     "iopub.status.busy": "2025-07-30T14:11:47.379022Z",
     "iopub.status.idle": "2025-07-30T14:11:47.384376Z",
     "shell.execute_reply": "2025-07-30T14:11:47.383401Z"
    },
    "papermill": {
     "duration": 0.030268,
     "end_time": "2025-07-30T14:11:47.385926",
     "exception": false,
     "start_time": "2025-07-30T14:11:47.355658",
     "status": "completed"
    },
    "tags": []
   },
   "outputs": [],
   "source": [
    "# Miscoverage level for conformal prediction (10% allowed error rate => 90% target coverage)\n",
    "alpha = 0.1"
   ]
  },
  {
   "cell_type": "code",
   "execution_count": 48,
   "id": "eadf4555-3dd3-440e-8e35-f82a4ad9f855",
   "metadata": {
    "execution": {
     "iopub.execute_input": "2025-07-30T14:11:47.437300Z",
     "iopub.status.busy": "2025-07-30T14:11:47.436273Z",
     "iopub.status.idle": "2025-07-30T14:11:47.678071Z",
     "shell.execute_reply": "2025-07-30T14:11:47.677339Z"
    },
    "papermill": {
     "duration": 0.271775,
     "end_time": "2025-07-30T14:11:47.681373",
     "exception": false,
     "start_time": "2025-07-30T14:11:47.409598",
     "status": "completed"
    },
    "tags": []
   },
   "outputs": [],
   "source": [
    "probs_calib = model.predict_proba(X_calib)"
   ]
  },
  {
   "cell_type": "code",
   "execution_count": 49,
   "id": "2ed93547-6d5d-4983-9b36-1ecb300da49a",
   "metadata": {
    "execution": {
     "iopub.execute_input": "2025-07-30T14:11:47.741256Z",
     "iopub.status.busy": "2025-07-30T14:11:47.740691Z",
     "iopub.status.idle": "2025-07-30T14:11:47.747356Z",
     "shell.execute_reply": "2025-07-30T14:11:47.746152Z"
    },
    "papermill": {
     "duration": 0.033402,
     "end_time": "2025-07-30T14:11:47.749374",
     "exception": false,
     "start_time": "2025-07-30T14:11:47.715972",
     "status": "completed"
    },
    "tags": []
   },
   "outputs": [],
   "source": [
    "y_calib = y_calib.values.ravel().astype(int)"
   ]
  },
  {
   "cell_type": "code",
   "execution_count": 50,
   "id": "65d1320d-f588-4b38-9072-62af1ae97f7d",
   "metadata": {
    "execution": {
     "iopub.execute_input": "2025-07-30T14:11:47.799064Z",
     "iopub.status.busy": "2025-07-30T14:11:47.798215Z",
     "iopub.status.idle": "2025-07-30T14:11:47.808212Z",
     "shell.execute_reply": "2025-07-30T14:11:47.807133Z"
    },
    "papermill": {
     "duration": 0.036566,
     "end_time": "2025-07-30T14:11:47.810007",
     "exception": false,
     "start_time": "2025-07-30T14:11:47.773441",
     "status": "completed"
    },
    "tags": []
   },
   "outputs": [],
   "source": [
    "from fairness_multiverse.conformal import compute_nc_scores\n",
    "\n",
    "# Compute nonconformity scores on calibration set (1 - probability of true class)\n",
    "nc_scores = compute_nc_scores(probs_calib, y_calib)"
   ]
  },
  {
   "cell_type": "code",
   "execution_count": 51,
   "id": "df3b8ca3-53b7-43d5-9667-7c85da7aeda2",
   "metadata": {
    "execution": {
     "iopub.execute_input": "2025-07-30T14:11:47.859371Z",
     "iopub.status.busy": "2025-07-30T14:11:47.858712Z",
     "iopub.status.idle": "2025-07-30T14:11:47.865891Z",
     "shell.execute_reply": "2025-07-30T14:11:47.864745Z"
    },
    "papermill": {
     "duration": 0.034229,
     "end_time": "2025-07-30T14:11:47.868103",
     "exception": false,
     "start_time": "2025-07-30T14:11:47.833874",
     "status": "completed"
    },
    "tags": []
   },
   "outputs": [],
   "source": [
    "from fairness_multiverse.conformal import find_threshold\n",
    "\n",
    "# Find conformal threshold q_hat for the given alpha (split conformal method)\n",
    "q_hat = find_threshold(nc_scores, alpha)"
   ]
  },
  {
   "cell_type": "code",
   "execution_count": 52,
   "id": "4d29e6c1-0ef6-4aa4-b8fe-4fe79b0d033a",
   "metadata": {
    "execution": {
     "iopub.execute_input": "2025-07-30T14:11:47.913203Z",
     "iopub.status.busy": "2025-07-30T14:11:47.912815Z",
     "iopub.status.idle": "2025-07-30T14:11:47.919336Z",
     "shell.execute_reply": "2025-07-30T14:11:47.918629Z"
    },
    "papermill": {
     "duration": 0.023599,
     "end_time": "2025-07-30T14:11:47.920724",
     "exception": false,
     "start_time": "2025-07-30T14:11:47.897125",
     "status": "completed"
    },
    "tags": []
   },
   "outputs": [
    {
     "data": {
      "text/plain": [
       "0.6835882179367617"
      ]
     },
     "execution_count": 52,
     "metadata": {},
     "output_type": "execute_result"
    }
   ],
   "source": [
    "q_hat"
   ]
  },
  {
   "cell_type": "code",
   "execution_count": 53,
   "id": "92460794-cdac-4be2-ba28-f28c0515a6fb",
   "metadata": {
    "execution": {
     "iopub.execute_input": "2025-07-30T14:11:47.947504Z",
     "iopub.status.busy": "2025-07-30T14:11:47.946898Z",
     "iopub.status.idle": "2025-07-30T14:11:48.607584Z",
     "shell.execute_reply": "2025-07-30T14:11:48.606833Z"
    },
    "papermill": {
     "duration": 0.67499,
     "end_time": "2025-07-30T14:11:48.609043",
     "exception": false,
     "start_time": "2025-07-30T14:11:47.934053",
     "status": "completed"
    },
    "tags": []
   },
   "outputs": [],
   "source": [
    "from fairness_multiverse.conformal import predict_conformal_sets\n",
    "\n",
    "# Generate prediction sets for each test example\n",
    "pred_sets = predict_conformal_sets(model, X_test, q_hat)"
   ]
  },
  {
   "cell_type": "code",
   "execution_count": 54,
   "id": "d90c9a65-e6db-4f5d-80cd-e68fb7e46829",
   "metadata": {
    "execution": {
     "iopub.execute_input": "2025-07-30T14:11:48.636959Z",
     "iopub.status.busy": "2025-07-30T14:11:48.636459Z",
     "iopub.status.idle": "2025-07-30T14:11:48.641098Z",
     "shell.execute_reply": "2025-07-30T14:11:48.640089Z"
    },
    "papermill": {
     "duration": 0.020058,
     "end_time": "2025-07-30T14:11:48.642487",
     "exception": false,
     "start_time": "2025-07-30T14:11:48.622429",
     "status": "completed"
    },
    "tags": []
   },
   "outputs": [],
   "source": [
    "y_true = y_true.squeeze()"
   ]
  },
  {
   "cell_type": "code",
   "execution_count": 55,
   "id": "3a58a54a-1e68-46b9-927a-df01f18aebc8",
   "metadata": {
    "execution": {
     "iopub.execute_input": "2025-07-30T14:11:48.672502Z",
     "iopub.status.busy": "2025-07-30T14:11:48.671984Z",
     "iopub.status.idle": "2025-07-30T14:11:49.237065Z",
     "shell.execute_reply": "2025-07-30T14:11:49.235882Z"
    },
    "papermill": {
     "duration": 0.581377,
     "end_time": "2025-07-30T14:11:49.238770",
     "exception": false,
     "start_time": "2025-07-30T14:11:48.657393",
     "status": "completed"
    },
    "tags": []
   },
   "outputs": [],
   "source": [
    "from fairness_multiverse.conformal import evaluate_sets\n",
    "\n",
    "# Evaluate coverage and average set size on test data\n",
    "metrics = evaluate_sets(pred_sets, y_true)"
   ]
  },
  {
   "cell_type": "markdown",
   "id": "2b569c12-9aaa-4c88-98c9-bbcd0cf3ebb8",
   "metadata": {
    "papermill": {
     "duration": 0.040643,
     "end_time": "2025-07-30T14:11:49.305890",
     "exception": false,
     "start_time": "2025-07-30T14:11:49.265247",
     "status": "completed"
    },
    "tags": []
   },
   "source": [
    "# CP Metrics"
   ]
  },
  {
   "cell_type": "code",
   "execution_count": 56,
   "id": "5ce0a5cb-201f-45a0-ade5-94c7f0bd6095",
   "metadata": {
    "execution": {
     "iopub.execute_input": "2025-07-30T14:11:49.362309Z",
     "iopub.status.busy": "2025-07-30T14:11:49.361362Z",
     "iopub.status.idle": "2025-07-30T14:11:49.368814Z",
     "shell.execute_reply": "2025-07-30T14:11:49.367694Z"
    },
    "papermill": {
     "duration": 0.038246,
     "end_time": "2025-07-30T14:11:49.370538",
     "exception": false,
     "start_time": "2025-07-30T14:11:49.332292",
     "status": "completed"
    },
    "tags": []
   },
   "outputs": [
    {
     "data": {
      "text/plain": [
       "{'coverage': 0.9107457362612864, 'avg_size': 1.1468621112473525}"
      ]
     },
     "execution_count": 56,
     "metadata": {},
     "output_type": "execute_result"
    }
   ],
   "source": [
    "metrics"
   ]
  },
  {
   "cell_type": "code",
   "execution_count": 57,
   "id": "9b9a838d-31c9-430b-ae14-12baee460d17",
   "metadata": {
    "execution": {
     "iopub.execute_input": "2025-07-30T14:11:49.424417Z",
     "iopub.status.busy": "2025-07-30T14:11:49.423869Z",
     "iopub.status.idle": "2025-07-30T14:11:49.430758Z",
     "shell.execute_reply": "2025-07-30T14:11:49.429692Z"
    },
    "papermill": {
     "duration": 0.037329,
     "end_time": "2025-07-30T14:11:49.432555",
     "exception": false,
     "start_time": "2025-07-30T14:11:49.395226",
     "status": "completed"
    },
    "tags": []
   },
   "outputs": [],
   "source": [
    "example_universe = universe.copy()\n",
    "universe_training_size = example_universe.get(\"training_size\")\n",
    "universe_scale = example_universe.get(\"scale\")\n",
    "universe_model = example_universe.get(\"model\")\n",
    "universe_exclude_features = example_universe.get(\"exclude_features\")\n",
    "universe_exclude_subgroups = example_universe.get(\"exclude_subgroups\")"
   ]
  },
  {
   "cell_type": "code",
   "execution_count": 58,
   "id": "f4b6a8ac-9dc0-4245-8a91-5b3b5999c4f9",
   "metadata": {
    "execution": {
     "iopub.execute_input": "2025-07-30T14:11:49.466395Z",
     "iopub.status.busy": "2025-07-30T14:11:49.466032Z",
     "iopub.status.idle": "2025-07-30T14:11:49.472472Z",
     "shell.execute_reply": "2025-07-30T14:11:49.471502Z"
    },
    "papermill": {
     "duration": 0.021694,
     "end_time": "2025-07-30T14:11:49.474170",
     "exception": false,
     "start_time": "2025-07-30T14:11:49.452476",
     "status": "completed"
    },
    "tags": []
   },
   "outputs": [],
   "source": [
    "cp_metrics_dict = {\n",
    "    \"universe_id\": [universe_id],\n",
    "    \"universe_training_size\": [universe_training_size],\n",
    "    \"universe_scale\": [universe_scale],\n",
    "    \"universe_model\": [universe_model],\n",
    "    \"universe_exclude_features\": [universe_exclude_features],\n",
    "    \"universe_exclude_subgroups\": [universe_exclude_subgroups],\n",
    "    \"q_hat\": [q_hat],\n",
    "    \"coverage\": [metrics[\"coverage\"]],\n",
    "    \"avg_size\": [metrics[\"avg_size\"]],\n",
    "}"
   ]
  },
  {
   "cell_type": "code",
   "execution_count": 59,
   "id": "908acbb1-0371-4915-85ca-3fa520d2efe2",
   "metadata": {
    "execution": {
     "iopub.execute_input": "2025-07-30T14:11:49.532609Z",
     "iopub.status.busy": "2025-07-30T14:11:49.532137Z",
     "iopub.status.idle": "2025-07-30T14:11:49.539734Z",
     "shell.execute_reply": "2025-07-30T14:11:49.538789Z"
    },
    "papermill": {
     "duration": 0.038425,
     "end_time": "2025-07-30T14:11:49.541583",
     "exception": false,
     "start_time": "2025-07-30T14:11:49.503158",
     "status": "completed"
    },
    "tags": []
   },
   "outputs": [
    {
     "data": {
      "text/plain": [
       "{'universe_id': ['67337a5360b223787e041b2e623f840c'],\n",
       " 'universe_training_size': ['5k'],\n",
       " 'universe_scale': ['scale'],\n",
       " 'universe_model': ['elasticnet'],\n",
       " 'universe_exclude_features': ['nationality-sex'],\n",
       " 'universe_exclude_subgroups': ['drop-non-german'],\n",
       " 'q_hat': [0.6835882179367617],\n",
       " 'coverage': [0.9107457362612864],\n",
       " 'avg_size': [1.1468621112473525]}"
      ]
     },
     "execution_count": 59,
     "metadata": {},
     "output_type": "execute_result"
    }
   ],
   "source": [
    "cp_metrics_dict"
   ]
  },
  {
   "cell_type": "code",
   "execution_count": 60,
   "id": "33007efc-14e9-4ec6-97ac-56a455c82265",
   "metadata": {
    "execution": {
     "iopub.execute_input": "2025-07-30T14:11:49.601354Z",
     "iopub.status.busy": "2025-07-30T14:11:49.600657Z",
     "iopub.status.idle": "2025-07-30T14:11:49.607714Z",
     "shell.execute_reply": "2025-07-30T14:11:49.606680Z"
    },
    "papermill": {
     "duration": 0.038998,
     "end_time": "2025-07-30T14:11:49.609494",
     "exception": false,
     "start_time": "2025-07-30T14:11:49.570496",
     "status": "completed"
    },
    "tags": []
   },
   "outputs": [],
   "source": [
    "cp_metrics_df = pd.DataFrame(cp_metrics_dict)"
   ]
  },
  {
   "cell_type": "code",
   "execution_count": 61,
   "id": "db12611b-57b2-4910-b9d0-355adfd6e7bf",
   "metadata": {
    "execution": {
     "iopub.execute_input": "2025-07-30T14:11:49.670342Z",
     "iopub.status.busy": "2025-07-30T14:11:49.669386Z",
     "iopub.status.idle": "2025-07-30T14:11:49.686965Z",
     "shell.execute_reply": "2025-07-30T14:11:49.685955Z"
    },
    "papermill": {
     "duration": 0.049436,
     "end_time": "2025-07-30T14:11:49.688978",
     "exception": false,
     "start_time": "2025-07-30T14:11:49.639542",
     "status": "completed"
    },
    "tags": []
   },
   "outputs": [
    {
     "data": {
      "text/html": [
       "<div>\n",
       "<style scoped>\n",
       "    .dataframe tbody tr th:only-of-type {\n",
       "        vertical-align: middle;\n",
       "    }\n",
       "\n",
       "    .dataframe tbody tr th {\n",
       "        vertical-align: top;\n",
       "    }\n",
       "\n",
       "    .dataframe thead th {\n",
       "        text-align: right;\n",
       "    }\n",
       "</style>\n",
       "<table border=\"1\" class=\"dataframe\">\n",
       "  <thead>\n",
       "    <tr style=\"text-align: right;\">\n",
       "      <th></th>\n",
       "      <th>universe_id</th>\n",
       "      <th>universe_training_size</th>\n",
       "      <th>universe_scale</th>\n",
       "      <th>universe_model</th>\n",
       "      <th>universe_exclude_features</th>\n",
       "      <th>universe_exclude_subgroups</th>\n",
       "      <th>q_hat</th>\n",
       "      <th>coverage</th>\n",
       "      <th>avg_size</th>\n",
       "    </tr>\n",
       "  </thead>\n",
       "  <tbody>\n",
       "    <tr>\n",
       "      <th>0</th>\n",
       "      <td>67337a5360b223787e041b2e623f840c</td>\n",
       "      <td>5k</td>\n",
       "      <td>scale</td>\n",
       "      <td>elasticnet</td>\n",
       "      <td>nationality-sex</td>\n",
       "      <td>drop-non-german</td>\n",
       "      <td>0.683588</td>\n",
       "      <td>0.910746</td>\n",
       "      <td>1.146862</td>\n",
       "    </tr>\n",
       "  </tbody>\n",
       "</table>\n",
       "</div>"
      ],
      "text/plain": [
       "                        universe_id universe_training_size universe_scale  \\\n",
       "0  67337a5360b223787e041b2e623f840c                     5k          scale   \n",
       "\n",
       "  universe_model universe_exclude_features universe_exclude_subgroups  \\\n",
       "0     elasticnet           nationality-sex            drop-non-german   \n",
       "\n",
       "      q_hat  coverage  avg_size  \n",
       "0  0.683588  0.910746  1.146862  "
      ]
     },
     "execution_count": 61,
     "metadata": {},
     "output_type": "execute_result"
    }
   ],
   "source": [
    "cp_metrics_df"
   ]
  },
  {
   "cell_type": "code",
   "execution_count": 62,
   "id": "b7fbde55-a0a1-47e4-9af6-fe4a17fa8c61",
   "metadata": {
    "execution": {
     "iopub.execute_input": "2025-07-30T14:11:49.745318Z",
     "iopub.status.busy": "2025-07-30T14:11:49.744400Z",
     "iopub.status.idle": "2025-07-30T14:11:49.750230Z",
     "shell.execute_reply": "2025-07-30T14:11:49.749245Z"
    },
    "papermill": {
     "duration": 0.037557,
     "end_time": "2025-07-30T14:11:49.751811",
     "exception": false,
     "start_time": "2025-07-30T14:11:49.714254",
     "status": "completed"
    },
    "tags": []
   },
   "outputs": [],
   "source": [
    "# Conditional Coverage & looking at subgroups"
   ]
  },
  {
   "cell_type": "code",
   "execution_count": 63,
   "id": "027ae886-68dd-4141-96c7-805a5450e1ef",
   "metadata": {
    "execution": {
     "iopub.execute_input": "2025-07-30T14:11:49.805934Z",
     "iopub.status.busy": "2025-07-30T14:11:49.805069Z",
     "iopub.status.idle": "2025-07-30T14:11:50.102340Z",
     "shell.execute_reply": "2025-07-30T14:11:50.101256Z"
    },
    "papermill": {
     "duration": 0.326004,
     "end_time": "2025-07-30T14:11:50.104273",
     "exception": false,
     "start_time": "2025-07-30T14:11:49.778269",
     "status": "completed"
    },
    "tags": []
   },
   "outputs": [],
   "source": [
    "from fairness_multiverse.conformal import build_cp_groups\n",
    "\n",
    "cp_groups_df = build_cp_groups(pred_sets, y_true, X_test.index, org_test)\n",
    "#needs universe_id and setting"
   ]
  },
  {
   "cell_type": "code",
   "execution_count": 64,
   "id": "01d5802c-663a-4d1f-9d69-e036faaffbf7",
   "metadata": {
    "execution": {
     "iopub.execute_input": "2025-07-30T14:11:50.158939Z",
     "iopub.status.busy": "2025-07-30T14:11:50.158417Z",
     "iopub.status.idle": "2025-07-30T14:11:50.163656Z",
     "shell.execute_reply": "2025-07-30T14:11:50.162814Z"
    },
    "papermill": {
     "duration": 0.032772,
     "end_time": "2025-07-30T14:11:50.165668",
     "exception": false,
     "start_time": "2025-07-30T14:11:50.132896",
     "status": "completed"
    },
    "tags": []
   },
   "outputs": [],
   "source": [
    "#delete\n",
    "#cp_groups_df"
   ]
  },
  {
   "cell_type": "code",
   "execution_count": 65,
   "id": "fa424af1-d1eb-443d-b717-2d279ada8408",
   "metadata": {
    "execution": {
     "iopub.execute_input": "2025-07-30T14:11:50.220725Z",
     "iopub.status.busy": "2025-07-30T14:11:50.220128Z",
     "iopub.status.idle": "2025-07-30T14:11:50.224829Z",
     "shell.execute_reply": "2025-07-30T14:11:50.223781Z"
    },
    "papermill": {
     "duration": 0.033951,
     "end_time": "2025-07-30T14:11:50.226576",
     "exception": false,
     "start_time": "2025-07-30T14:11:50.192625",
     "status": "completed"
    },
    "tags": []
   },
   "outputs": [],
   "source": [
    "#delete\n",
    "#percentage = (cp_groups_df['nongerman_female'] == 1).mean() * 100\n",
    "#print(percentage)\n"
   ]
  },
  {
   "cell_type": "code",
   "execution_count": 66,
   "id": "6cbdab96-b2b2-45af-ad54-d0516db2e28d",
   "metadata": {
    "execution": {
     "iopub.execute_input": "2025-07-30T14:11:50.280171Z",
     "iopub.status.busy": "2025-07-30T14:11:50.279747Z",
     "iopub.status.idle": "2025-07-30T14:11:51.731317Z",
     "shell.execute_reply": "2025-07-30T14:11:51.730613Z"
    },
    "papermill": {
     "duration": 1.479222,
     "end_time": "2025-07-30T14:11:51.732745",
     "exception": false,
     "start_time": "2025-07-30T14:11:50.253523",
     "status": "completed"
    },
    "tags": []
   },
   "outputs": [],
   "source": [
    "# Define covered = 1 if true_label is in the predicted set\n",
    "cp_groups_df['covered'] = cp_groups_df.apply(\n",
    "    lambda r: int(r['true_label'] in r['pred_set']),\n",
    "    axis=1\n",
    ")"
   ]
  },
  {
   "cell_type": "code",
   "execution_count": 67,
   "id": "338ff529-1a6b-4b87-a931-8e4788d52aad",
   "metadata": {
    "execution": {
     "iopub.execute_input": "2025-07-30T14:11:51.762264Z",
     "iopub.status.busy": "2025-07-30T14:11:51.761767Z",
     "iopub.status.idle": "2025-07-30T14:11:51.767458Z",
     "shell.execute_reply": "2025-07-30T14:11:51.766111Z"
    },
    "papermill": {
     "duration": 0.022084,
     "end_time": "2025-07-30T14:11:51.769366",
     "exception": false,
     "start_time": "2025-07-30T14:11:51.747282",
     "status": "completed"
    },
    "tags": []
   },
   "outputs": [],
   "source": [
    "#cp_groups_df"
   ]
  },
  {
   "cell_type": "code",
   "execution_count": 68,
   "id": "90032e27-66df-4540-9169-4e89cfbaa758",
   "metadata": {
    "execution": {
     "iopub.execute_input": "2025-07-30T14:11:51.802785Z",
     "iopub.status.busy": "2025-07-30T14:11:51.802141Z",
     "iopub.status.idle": "2025-07-30T14:11:51.810876Z",
     "shell.execute_reply": "2025-07-30T14:11:51.810129Z"
    },
    "papermill": {
     "duration": 0.02451,
     "end_time": "2025-07-30T14:11:51.812310",
     "exception": false,
     "start_time": "2025-07-30T14:11:51.787800",
     "status": "completed"
    },
    "tags": []
   },
   "outputs": [],
   "source": [
    "subgroups = ['frau1','nongerman','nongerman_male','nongerman_female']\n",
    "\n",
    "# Conditional coverage for subgroup==1\n",
    "cond_coverage = {\n",
    "    g: cp_groups_df.loc[cp_groups_df[g]==1, 'covered'].mean()\n",
    "    for g in subgroups\n",
    "}"
   ]
  },
  {
   "cell_type": "code",
   "execution_count": 69,
   "id": "1e348fb1-b9c3-45bc-ba23-f016827a7e0d",
   "metadata": {
    "execution": {
     "iopub.execute_input": "2025-07-30T14:11:51.843520Z",
     "iopub.status.busy": "2025-07-30T14:11:51.843248Z",
     "iopub.status.idle": "2025-07-30T14:11:51.850172Z",
     "shell.execute_reply": "2025-07-30T14:11:51.849473Z"
    },
    "papermill": {
     "duration": 0.024835,
     "end_time": "2025-07-30T14:11:51.851421",
     "exception": false,
     "start_time": "2025-07-30T14:11:51.826586",
     "status": "completed"
    },
    "tags": []
   },
   "outputs": [
    {
     "data": {
      "text/plain": [
       "{'frau1': 0.9094487127645235,\n",
       " 'nongerman': 0.9128726211194071,\n",
       " 'nongerman_male': 0.92704674412321,\n",
       " 'nongerman_female': 0.8894187779433681}"
      ]
     },
     "execution_count": 69,
     "metadata": {},
     "output_type": "execute_result"
    }
   ],
   "source": [
    "cond_coverage"
   ]
  },
  {
   "cell_type": "code",
   "execution_count": 70,
   "id": "f5093324-c3dd-4d63-bc4c-8d945e5c8bbb",
   "metadata": {
    "execution": {
     "iopub.execute_input": "2025-07-30T14:11:51.881950Z",
     "iopub.status.busy": "2025-07-30T14:11:51.881392Z",
     "iopub.status.idle": "2025-07-30T14:11:51.887462Z",
     "shell.execute_reply": "2025-07-30T14:11:51.886673Z"
    },
    "papermill": {
     "duration": 0.022011,
     "end_time": "2025-07-30T14:11:51.888735",
     "exception": false,
     "start_time": "2025-07-30T14:11:51.866724",
     "status": "completed"
    },
    "tags": []
   },
   "outputs": [],
   "source": [
    "for subgroup, cov in cond_coverage.items():\n",
    "    cp_metrics_df[f\"cov_{subgroup}\"] = cov"
   ]
  },
  {
   "cell_type": "code",
   "execution_count": 71,
   "id": "6e872e10-dbe5-49e8-b554-5030c98ff75d",
   "metadata": {
    "execution": {
     "iopub.execute_input": "2025-07-30T14:11:51.923019Z",
     "iopub.status.busy": "2025-07-30T14:11:51.922016Z",
     "iopub.status.idle": "2025-07-30T14:11:51.934894Z",
     "shell.execute_reply": "2025-07-30T14:11:51.934182Z"
    },
    "papermill": {
     "duration": 0.033209,
     "end_time": "2025-07-30T14:11:51.936246",
     "exception": false,
     "start_time": "2025-07-30T14:11:51.903037",
     "status": "completed"
    },
    "tags": []
   },
   "outputs": [
    {
     "data": {
      "text/html": [
       "<div>\n",
       "<style scoped>\n",
       "    .dataframe tbody tr th:only-of-type {\n",
       "        vertical-align: middle;\n",
       "    }\n",
       "\n",
       "    .dataframe tbody tr th {\n",
       "        vertical-align: top;\n",
       "    }\n",
       "\n",
       "    .dataframe thead th {\n",
       "        text-align: right;\n",
       "    }\n",
       "</style>\n",
       "<table border=\"1\" class=\"dataframe\">\n",
       "  <thead>\n",
       "    <tr style=\"text-align: right;\">\n",
       "      <th></th>\n",
       "      <th>universe_id</th>\n",
       "      <th>universe_training_size</th>\n",
       "      <th>universe_scale</th>\n",
       "      <th>universe_model</th>\n",
       "      <th>universe_exclude_features</th>\n",
       "      <th>universe_exclude_subgroups</th>\n",
       "      <th>q_hat</th>\n",
       "      <th>coverage</th>\n",
       "      <th>avg_size</th>\n",
       "      <th>cov_frau1</th>\n",
       "      <th>cov_nongerman</th>\n",
       "      <th>cov_nongerman_male</th>\n",
       "      <th>cov_nongerman_female</th>\n",
       "    </tr>\n",
       "  </thead>\n",
       "  <tbody>\n",
       "    <tr>\n",
       "      <th>0</th>\n",
       "      <td>67337a5360b223787e041b2e623f840c</td>\n",
       "      <td>5k</td>\n",
       "      <td>scale</td>\n",
       "      <td>elasticnet</td>\n",
       "      <td>nationality-sex</td>\n",
       "      <td>drop-non-german</td>\n",
       "      <td>0.683588</td>\n",
       "      <td>0.910746</td>\n",
       "      <td>1.146862</td>\n",
       "      <td>0.909449</td>\n",
       "      <td>0.912873</td>\n",
       "      <td>0.927047</td>\n",
       "      <td>0.889419</td>\n",
       "    </tr>\n",
       "  </tbody>\n",
       "</table>\n",
       "</div>"
      ],
      "text/plain": [
       "                        universe_id universe_training_size universe_scale  \\\n",
       "0  67337a5360b223787e041b2e623f840c                     5k          scale   \n",
       "\n",
       "  universe_model universe_exclude_features universe_exclude_subgroups  \\\n",
       "0     elasticnet           nationality-sex            drop-non-german   \n",
       "\n",
       "      q_hat  coverage  avg_size  cov_frau1  cov_nongerman  cov_nongerman_male  \\\n",
       "0  0.683588  0.910746  1.146862   0.909449       0.912873            0.927047   \n",
       "\n",
       "   cov_nongerman_female  \n",
       "0              0.889419  "
      ]
     },
     "execution_count": 71,
     "metadata": {},
     "output_type": "execute_result"
    }
   ],
   "source": [
    "cp_metrics_df"
   ]
  },
  {
   "cell_type": "markdown",
   "id": "33774451",
   "metadata": {
    "papermill": {
     "duration": 0.013427,
     "end_time": "2025-07-30T14:11:51.964024",
     "exception": false,
     "start_time": "2025-07-30T14:11:51.950597",
     "status": "completed"
    },
    "tags": []
   },
   "source": [
    "# (Fairness) Metrics"
   ]
  },
  {
   "cell_type": "code",
   "execution_count": 72,
   "id": "debc5d62",
   "metadata": {
    "execution": {
     "iopub.execute_input": "2025-07-30T14:11:52.002058Z",
     "iopub.status.busy": "2025-07-30T14:11:52.001689Z",
     "iopub.status.idle": "2025-07-30T14:11:52.021874Z",
     "shell.execute_reply": "2025-07-30T14:11:52.021187Z"
    },
    "papermill": {
     "duration": 0.044858,
     "end_time": "2025-07-30T14:11:52.023341",
     "exception": false,
     "start_time": "2025-07-30T14:11:51.978483",
     "status": "completed"
    },
    "tags": []
   },
   "outputs": [],
   "source": [
    "# do I need to include maxdeutsch1.missing?\n",
    "\n",
    "import numpy as np\n",
    "\n",
    "colname_to_bin = \"maxdeutsch1\"\n",
    "majority_value = org_train[colname_to_bin].mode()[0]\n",
    "\n",
    "org_test[\"majmin\"] = np.where(org_test[colname_to_bin] == majority_value, \"majority\", \"minority\")"
   ]
  },
  {
   "cell_type": "code",
   "execution_count": 73,
   "id": "06a50de5",
   "metadata": {
    "execution": {
     "iopub.execute_input": "2025-07-30T14:11:52.074378Z",
     "iopub.status.busy": "2025-07-30T14:11:52.073719Z",
     "iopub.status.idle": "2025-07-30T14:11:54.999302Z",
     "shell.execute_reply": "2025-07-30T14:11:54.998037Z"
    },
    "papermill": {
     "duration": 2.952673,
     "end_time": "2025-07-30T14:11:55.001246",
     "exception": false,
     "start_time": "2025-07-30T14:11:52.048573",
     "status": "completed"
    },
    "tags": []
   },
   "outputs": [],
   "source": [
    "example_universe = universe.copy()\n",
    "example_universe[\"cutoff\"] = example_universe[\"cutoff\"][0]\n",
    "example_universe[\"eval_fairness_grouping\"] = example_universe[\"eval_fairness_grouping\"][0]\n",
    "fairness_dict, metric_frame = universe_analysis.compute_metrics(\n",
    "    example_universe,\n",
    "    y_pred_prob=probs_test,\n",
    "    y_test=y_true,\n",
    "    org_test=org_test,\n",
    ")"
   ]
  },
  {
   "cell_type": "markdown",
   "id": "f95d4e02",
   "metadata": {
    "papermill": {
     "duration": 0.025135,
     "end_time": "2025-07-30T14:11:55.056724",
     "exception": false,
     "start_time": "2025-07-30T14:11:55.031589",
     "status": "completed"
    },
    "tags": []
   },
   "source": [
    "# Overall"
   ]
  },
  {
   "cell_type": "markdown",
   "id": "bdee4871",
   "metadata": {
    "papermill": {
     "duration": 0.025714,
     "end_time": "2025-07-30T14:11:55.108698",
     "exception": false,
     "start_time": "2025-07-30T14:11:55.082984",
     "status": "completed"
    },
    "tags": []
   },
   "source": [
    "Fairness\n",
    "Main fairness target: Equalized Odds. Seems to be a better fit than equal opportunity, since we're not only interested in Y = 1. Seems to be a better fit than demographic parity, since we also care about accuracy, not just equal distribution of preds.\n",
    "\n",
    "Pick column for computation of fairness metrics\n",
    "\n",
    "Performance\n",
    "Overall performance measures, most interesting in relation to the measures split by group below"
   ]
  },
  {
   "cell_type": "code",
   "execution_count": 74,
   "id": "c4e067c6",
   "metadata": {
    "execution": {
     "iopub.execute_input": "2025-07-30T14:11:55.163116Z",
     "iopub.status.busy": "2025-07-30T14:11:55.162357Z",
     "iopub.status.idle": "2025-07-30T14:11:55.175704Z",
     "shell.execute_reply": "2025-07-30T14:11:55.174680Z"
    },
    "papermill": {
     "duration": 0.042711,
     "end_time": "2025-07-30T14:11:55.177748",
     "exception": false,
     "start_time": "2025-07-30T14:11:55.135037",
     "status": "completed"
    },
    "tags": []
   },
   "outputs": [
    {
     "data": {
      "text/plain": [
       "accuracy                   0.222974\n",
       "balanced accuracy          0.545496\n",
       "f1                         0.244344\n",
       "precision                  0.139586\n",
       "false positive rate        0.888328\n",
       "false negative rate        0.020681\n",
       "selection rate             0.900000\n",
       "count                  89710.000000\n",
       "dtype: float64"
      ]
     },
     "execution_count": 74,
     "metadata": {},
     "output_type": "execute_result"
    }
   ],
   "source": [
    "metric_frame.overall"
   ]
  },
  {
   "cell_type": "markdown",
   "id": "e968fe9d",
   "metadata": {
    "papermill": {
     "duration": 0.029678,
     "end_time": "2025-07-30T14:11:55.239616",
     "exception": false,
     "start_time": "2025-07-30T14:11:55.209938",
     "status": "completed"
    },
    "tags": []
   },
   "source": [
    "By Group"
   ]
  },
  {
   "cell_type": "code",
   "execution_count": 75,
   "id": "ec325bce",
   "metadata": {
    "execution": {
     "iopub.execute_input": "2025-07-30T14:11:55.303830Z",
     "iopub.status.busy": "2025-07-30T14:11:55.303429Z",
     "iopub.status.idle": "2025-07-30T14:11:55.319565Z",
     "shell.execute_reply": "2025-07-30T14:11:55.318456Z"
    },
    "papermill": {
     "duration": 0.053465,
     "end_time": "2025-07-30T14:11:55.321378",
     "exception": false,
     "start_time": "2025-07-30T14:11:55.267913",
     "status": "completed"
    },
    "tags": []
   },
   "outputs": [
    {
     "data": {
      "text/html": [
       "<div>\n",
       "<style scoped>\n",
       "    .dataframe tbody tr th:only-of-type {\n",
       "        vertical-align: middle;\n",
       "    }\n",
       "\n",
       "    .dataframe tbody tr th {\n",
       "        vertical-align: top;\n",
       "    }\n",
       "\n",
       "    .dataframe thead th {\n",
       "        text-align: right;\n",
       "    }\n",
       "</style>\n",
       "<table border=\"1\" class=\"dataframe\">\n",
       "  <thead>\n",
       "    <tr style=\"text-align: right;\">\n",
       "      <th></th>\n",
       "      <th>accuracy</th>\n",
       "      <th>balanced accuracy</th>\n",
       "      <th>f1</th>\n",
       "      <th>precision</th>\n",
       "      <th>false positive rate</th>\n",
       "      <th>false negative rate</th>\n",
       "      <th>selection rate</th>\n",
       "      <th>count</th>\n",
       "    </tr>\n",
       "    <tr>\n",
       "      <th>majmin</th>\n",
       "      <th></th>\n",
       "      <th></th>\n",
       "      <th></th>\n",
       "      <th></th>\n",
       "      <th></th>\n",
       "      <th></th>\n",
       "      <th></th>\n",
       "      <th></th>\n",
       "    </tr>\n",
       "  </thead>\n",
       "  <tbody>\n",
       "    <tr>\n",
       "      <th>majority</th>\n",
       "      <td>0.242822</td>\n",
       "      <td>0.554308</td>\n",
       "      <td>0.254420</td>\n",
       "      <td>0.146238</td>\n",
       "      <td>0.869065</td>\n",
       "      <td>0.022319</td>\n",
       "      <td>0.883418</td>\n",
       "      <td>69170.0</td>\n",
       "    </tr>\n",
       "    <tr>\n",
       "      <th>minority</th>\n",
       "      <td>0.156134</td>\n",
       "      <td>0.516841</td>\n",
       "      <td>0.212172</td>\n",
       "      <td>0.118881</td>\n",
       "      <td>0.951959</td>\n",
       "      <td>0.014358</td>\n",
       "      <td>0.955842</td>\n",
       "      <td>20540.0</td>\n",
       "    </tr>\n",
       "  </tbody>\n",
       "</table>\n",
       "</div>"
      ],
      "text/plain": [
       "          accuracy  balanced accuracy        f1  precision  \\\n",
       "majmin                                                       \n",
       "majority  0.242822           0.554308  0.254420   0.146238   \n",
       "minority  0.156134           0.516841  0.212172   0.118881   \n",
       "\n",
       "          false positive rate  false negative rate  selection rate    count  \n",
       "majmin                                                                       \n",
       "majority             0.869065             0.022319        0.883418  69170.0  \n",
       "minority             0.951959             0.014358        0.955842  20540.0  "
      ]
     },
     "execution_count": 75,
     "metadata": {},
     "output_type": "execute_result"
    }
   ],
   "source": [
    "metric_frame.by_group"
   ]
  },
  {
   "cell_type": "code",
   "execution_count": 76,
   "id": "a9ddbe63",
   "metadata": {
    "execution": {
     "iopub.execute_input": "2025-07-30T14:11:55.386521Z",
     "iopub.status.busy": "2025-07-30T14:11:55.386065Z",
     "iopub.status.idle": "2025-07-30T14:11:57.751334Z",
     "shell.execute_reply": "2025-07-30T14:11:57.750217Z"
    },
    "papermill": {
     "duration": 2.396734,
     "end_time": "2025-07-30T14:11:57.753306",
     "exception": false,
     "start_time": "2025-07-30T14:11:55.356572",
     "status": "completed"
    },
    "tags": []
   },
   "outputs": [
    {
     "data": {
      "text/plain": [
       "array([[<Axes: title={'center': 'accuracy'}, xlabel='majmin'>,\n",
       "        <Axes: title={'center': 'balanced accuracy'}, xlabel='majmin'>,\n",
       "        <Axes: title={'center': 'f1'}, xlabel='majmin'>],\n",
       "       [<Axes: title={'center': 'precision'}, xlabel='majmin'>,\n",
       "        <Axes: title={'center': 'false positive rate'}, xlabel='majmin'>,\n",
       "        <Axes: title={'center': 'false negative rate'}, xlabel='majmin'>],\n",
       "       [<Axes: title={'center': 'selection rate'}, xlabel='majmin'>,\n",
       "        <Axes: title={'center': 'count'}, xlabel='majmin'>,\n",
       "        <Axes: xlabel='majmin'>]], dtype=object)"
      ]
     },
     "execution_count": 76,
     "metadata": {},
     "output_type": "execute_result"
    },
    {
     "data": {
      "image/png": "[encoded data removed]",
      "text/plain": [
       "<Figure size 1200x800 with 9 Axes>"
      ]
     },
     "metadata": {},
     "output_type": "display_data"
    }
   ],
   "source": [
    "# In a graphic\n",
    "metric_frame.by_group.plot.bar(\n",
    "    subplots=True,\n",
    "    layout=[3, 3],\n",
    "    legend=False,\n",
    "    figsize=[12, 8],\n",
    "    title=\"Show all metrics\",\n",
    ")"
   ]
  },
  {
   "cell_type": "markdown",
   "id": "f57a0bac",
   "metadata": {
    "papermill": {
     "duration": 0.030595,
     "end_time": "2025-07-30T14:11:57.818568",
     "exception": false,
     "start_time": "2025-07-30T14:11:57.787973",
     "status": "completed"
    },
    "tags": []
   },
   "source": [
    "# Final Output"
   ]
  },
  {
   "cell_type": "code",
   "execution_count": 77,
   "id": "96d280a3",
   "metadata": {
    "execution": {
     "iopub.execute_input": "2025-07-30T14:11:57.882383Z",
     "iopub.status.busy": "2025-07-30T14:11:57.881195Z",
     "iopub.status.idle": "2025-07-30T14:11:57.890486Z",
     "shell.execute_reply": "2025-07-30T14:11:57.889492Z"
    },
    "papermill": {
     "duration": 0.042925,
     "end_time": "2025-07-30T14:11:57.892198",
     "exception": false,
     "start_time": "2025-07-30T14:11:57.849273",
     "status": "completed"
    },
    "tags": []
   },
   "outputs": [
    {
     "data": {
      "text/plain": [
       "4"
      ]
     },
     "execution_count": 77,
     "metadata": {},
     "output_type": "execute_result"
    }
   ],
   "source": [
    "sub_universes = universe_analysis.generate_sub_universes()\n",
    "len(sub_universes)"
   ]
  },
  {
   "cell_type": "code",
   "execution_count": 78,
   "id": "92adf7ba",
   "metadata": {
    "execution": {
     "iopub.execute_input": "2025-07-30T14:11:57.959128Z",
     "iopub.status.busy": "2025-07-30T14:11:57.958455Z",
     "iopub.status.idle": "2025-07-30T14:11:57.965293Z",
     "shell.execute_reply": "2025-07-30T14:11:57.964218Z"
    },
    "papermill": {
     "duration": 0.043011,
     "end_time": "2025-07-30T14:11:57.967236",
     "exception": false,
     "start_time": "2025-07-30T14:11:57.924225",
     "status": "completed"
    },
    "tags": []
   },
   "outputs": [],
   "source": [
    "def filter_sub_universe_data(sub_universe, org_test):\n",
    "    # Keep all rows — no filtering\n",
    "    keep_rows_mask = np.ones(org_test.shape[0], dtype=bool)\n",
    "\n",
    "    print(f\"[INFO] Keeping all rows: {keep_rows_mask.sum()} rows retained.\")\n",
    "    return keep_rows_mask"
   ]
  },
  {
   "cell_type": "code",
   "execution_count": 79,
   "id": "4a759155",
   "metadata": {
    "execution": {
     "iopub.execute_input": "2025-07-30T14:11:58.033531Z",
     "iopub.status.busy": "2025-07-30T14:11:58.032778Z",
     "iopub.status.idle": "2025-07-30T14:12:08.750356Z",
     "shell.execute_reply": "2025-07-30T14:12:08.749437Z"
    },
    "papermill": {
     "duration": 10.749665,
     "end_time": "2025-07-30T14:12:08.751997",
     "exception": false,
     "start_time": "2025-07-30T14:11:58.002332",
     "status": "completed"
    },
    "tags": []
   },
   "outputs": [
    {
     "name": "stdout",
     "output_type": "stream",
     "text": [
      "Stopping execution_time clock.\n",
      "[INFO] Keeping all rows: 89710 rows retained.\n"
     ]
    },
    {
     "name": "stdout",
     "output_type": "stream",
     "text": [
      "[INFO] Keeping all rows: 89710 rows retained.\n"
     ]
    },
    {
     "name": "stdout",
     "output_type": "stream",
     "text": [
      "[INFO] Keeping all rows: 89710 rows retained.\n"
     ]
    },
    {
     "name": "stdout",
     "output_type": "stream",
     "text": [
      "[INFO] Keeping all rows: 89710 rows retained.\n"
     ]
    },
    {
     "data": {
      "text/html": [
       "<div>\n",
       "<style scoped>\n",
       "    .dataframe tbody tr th:only-of-type {\n",
       "        vertical-align: middle;\n",
       "    }\n",
       "\n",
       "    .dataframe tbody tr th {\n",
       "        vertical-align: top;\n",
       "    }\n",
       "\n",
       "    .dataframe thead th {\n",
       "        text-align: right;\n",
       "    }\n",
       "</style>\n",
       "<table border=\"1\" class=\"dataframe\">\n",
       "  <thead>\n",
       "    <tr style=\"text-align: right;\">\n",
       "      <th></th>\n",
       "      <th>run_no</th>\n",
       "      <th>universe_id</th>\n",
       "      <th>universe_settings</th>\n",
       "      <th>execution_time</th>\n",
       "      <th>test_size_n</th>\n",
       "      <th>test_size_frac</th>\n",
       "      <th>fair_main_equalized_odds_difference</th>\n",
       "      <th>fair_main_equalized_odds_ratio</th>\n",
       "      <th>fair_main_demographic_parity_difference</th>\n",
       "      <th>fair_main_demographic_parity_ratio</th>\n",
       "      <th>...</th>\n",
       "      <th>perf_grp_precision_0</th>\n",
       "      <th>perf_grp_precision_1</th>\n",
       "      <th>perf_grp_false positive rate_0</th>\n",
       "      <th>perf_grp_false positive rate_1</th>\n",
       "      <th>perf_grp_false negative rate_0</th>\n",
       "      <th>perf_grp_false negative rate_1</th>\n",
       "      <th>perf_grp_selection rate_0</th>\n",
       "      <th>perf_grp_selection rate_1</th>\n",
       "      <th>perf_grp_count_0</th>\n",
       "      <th>perf_grp_count_1</th>\n",
       "    </tr>\n",
       "  </thead>\n",
       "  <tbody>\n",
       "    <tr>\n",
       "      <th>0</th>\n",
       "      <td>12</td>\n",
       "      <td>67337a5360b223787e041b2e623f840c</td>\n",
       "      <td>{\"cutoff\": \"quantile_0.1\", \"eval_fairness_grou...</td>\n",
       "      <td>39.764083</td>\n",
       "      <td>89710</td>\n",
       "      <td>1.0</td>\n",
       "      <td>0.082894</td>\n",
       "      <td>0.912923</td>\n",
       "      <td>0.072425</td>\n",
       "      <td>0.924230</td>\n",
       "      <td>...</td>\n",
       "      <td>NaN</td>\n",
       "      <td>NaN</td>\n",
       "      <td>NaN</td>\n",
       "      <td>NaN</td>\n",
       "      <td>NaN</td>\n",
       "      <td>NaN</td>\n",
       "      <td>NaN</td>\n",
       "      <td>NaN</td>\n",
       "      <td>NaN</td>\n",
       "      <td>NaN</td>\n",
       "    </tr>\n",
       "    <tr>\n",
       "      <th>0</th>\n",
       "      <td>12</td>\n",
       "      <td>67337a5360b223787e041b2e623f840c</td>\n",
       "      <td>{\"cutoff\": \"quantile_0.1\", \"eval_fairness_grou...</td>\n",
       "      <td>39.764083</td>\n",
       "      <td>89710</td>\n",
       "      <td>1.0</td>\n",
       "      <td>0.082894</td>\n",
       "      <td>0.912923</td>\n",
       "      <td>0.072425</td>\n",
       "      <td>0.924230</td>\n",
       "      <td>...</td>\n",
       "      <td>0.118881</td>\n",
       "      <td>0.146238</td>\n",
       "      <td>0.951959</td>\n",
       "      <td>0.869065</td>\n",
       "      <td>0.014358</td>\n",
       "      <td>0.022319</td>\n",
       "      <td>0.955842</td>\n",
       "      <td>0.883418</td>\n",
       "      <td>20540.0</td>\n",
       "      <td>69170.0</td>\n",
       "    </tr>\n",
       "    <tr>\n",
       "      <th>0</th>\n",
       "      <td>12</td>\n",
       "      <td>67337a5360b223787e041b2e623f840c</td>\n",
       "      <td>{\"cutoff\": \"quantile_0.25\", \"eval_fairness_gro...</td>\n",
       "      <td>39.764083</td>\n",
       "      <td>89710</td>\n",
       "      <td>1.0</td>\n",
       "      <td>0.183854</td>\n",
       "      <td>0.787280</td>\n",
       "      <td>0.161463</td>\n",
       "      <td>0.815363</td>\n",
       "      <td>...</td>\n",
       "      <td>NaN</td>\n",
       "      <td>NaN</td>\n",
       "      <td>NaN</td>\n",
       "      <td>NaN</td>\n",
       "      <td>NaN</td>\n",
       "      <td>NaN</td>\n",
       "      <td>NaN</td>\n",
       "      <td>NaN</td>\n",
       "      <td>NaN</td>\n",
       "      <td>NaN</td>\n",
       "    </tr>\n",
       "    <tr>\n",
       "      <th>0</th>\n",
       "      <td>12</td>\n",
       "      <td>67337a5360b223787e041b2e623f840c</td>\n",
       "      <td>{\"cutoff\": \"quantile_0.25\", \"eval_fairness_gro...</td>\n",
       "      <td>39.764083</td>\n",
       "      <td>89710</td>\n",
       "      <td>1.0</td>\n",
       "      <td>0.183854</td>\n",
       "      <td>0.787280</td>\n",
       "      <td>0.161463</td>\n",
       "      <td>0.815363</td>\n",
       "      <td>...</td>\n",
       "      <td>0.125598</td>\n",
       "      <td>0.171796</td>\n",
       "      <td>0.864297</td>\n",
       "      <td>0.680443</td>\n",
       "      <td>0.047297</td>\n",
       "      <td>0.072976</td>\n",
       "      <td>0.874489</td>\n",
       "      <td>0.713026</td>\n",
       "      <td>20540.0</td>\n",
       "      <td>69170.0</td>\n",
       "    </tr>\n",
       "  </tbody>\n",
       "</table>\n",
       "<p>4 rows × 50 columns</p>\n",
       "</div>"
      ],
      "text/plain": [
       "  run_no                       universe_id  \\\n",
       "0     12  67337a5360b223787e041b2e623f840c   \n",
       "0     12  67337a5360b223787e041b2e623f840c   \n",
       "0     12  67337a5360b223787e041b2e623f840c   \n",
       "0     12  67337a5360b223787e041b2e623f840c   \n",
       "\n",
       "                                   universe_settings  execution_time  \\\n",
       "0  {\"cutoff\": \"quantile_0.1\", \"eval_fairness_grou...       39.764083   \n",
       "0  {\"cutoff\": \"quantile_0.1\", \"eval_fairness_grou...       39.764083   \n",
       "0  {\"cutoff\": \"quantile_0.25\", \"eval_fairness_gro...       39.764083   \n",
       "0  {\"cutoff\": \"quantile_0.25\", \"eval_fairness_gro...       39.764083   \n",
       "\n",
       "   test_size_n  test_size_frac  fair_main_equalized_odds_difference  \\\n",
       "0        89710             1.0                             0.082894   \n",
       "0        89710             1.0                             0.082894   \n",
       "0        89710             1.0                             0.183854   \n",
       "0        89710             1.0                             0.183854   \n",
       "\n",
       "   fair_main_equalized_odds_ratio  fair_main_demographic_parity_difference  \\\n",
       "0                        0.912923                                 0.072425   \n",
       "0                        0.912923                                 0.072425   \n",
       "0                        0.787280                                 0.161463   \n",
       "0                        0.787280                                 0.161463   \n",
       "\n",
       "   fair_main_demographic_parity_ratio  ...  perf_grp_precision_0  \\\n",
       "0                            0.924230  ...                   NaN   \n",
       "0                            0.924230  ...              0.118881   \n",
       "0                            0.815363  ...                   NaN   \n",
       "0                            0.815363  ...              0.125598   \n",
       "\n",
       "   perf_grp_precision_1  perf_grp_false positive rate_0  \\\n",
       "0                   NaN                             NaN   \n",
       "0              0.146238                        0.951959   \n",
       "0                   NaN                             NaN   \n",
       "0              0.171796                        0.864297   \n",
       "\n",
       "   perf_grp_false positive rate_1  perf_grp_false negative rate_0  \\\n",
       "0                             NaN                             NaN   \n",
       "0                        0.869065                        0.014358   \n",
       "0                             NaN                             NaN   \n",
       "0                        0.680443                        0.047297   \n",
       "\n",
       "   perf_grp_false negative rate_1  perf_grp_selection rate_0  \\\n",
       "0                             NaN                        NaN   \n",
       "0                        0.022319                   0.955842   \n",
       "0                             NaN                        NaN   \n",
       "0                        0.072976                   0.874489   \n",
       "\n",
       "   perf_grp_selection rate_1  perf_grp_count_0  perf_grp_count_1  \n",
       "0                        NaN               NaN               NaN  \n",
       "0                   0.883418           20540.0           69170.0  \n",
       "0                        NaN               NaN               NaN  \n",
       "0                   0.713026           20540.0           69170.0  \n",
       "\n",
       "[4 rows x 50 columns]"
      ]
     },
     "execution_count": 79,
     "metadata": {},
     "output_type": "execute_result"
    }
   ],
   "source": [
    "final_output = universe_analysis.generate_final_output(\n",
    "    y_pred_prob=probs_test,\n",
    "    y_test=y_true,\n",
    "    org_test=org_test,\n",
    "    filter_data=filter_sub_universe_data,\n",
    "    cp_metrics_df=cp_metrics_df,\n",
    "    save=True,\n",
    ")\n",
    "final_output"
   ]
  },
  {
   "cell_type": "code",
   "execution_count": null,
   "id": "721ff514-cb11-46f8-b6fc-50392f74b5cb",
   "metadata": {
    "papermill": {
     "duration": 0.030585,
     "end_time": "2025-07-30T14:12:08.816828",
     "exception": false,
     "start_time": "2025-07-30T14:12:08.786243",
     "status": "completed"
    },
    "tags": []
   },
   "outputs": [],
   "source": []
  }
 ],
 "metadata": {
  "celltoolbar": "Tags",
  "kernelspec": {
   "display_name": "Python (CMA Fairness)",
   "language": "python",
   "name": "cma_fair_env"
  },
  "language_info": {
   "codemirror_mode": {
    "name": "ipython",
    "version": 3
   },
   "file_extension": ".py",
   "mimetype": "text/x-python",
   "name": "python",
   "nbconvert_exporter": "python",
   "pygments_lexer": "ipython3",
   "version": "3.10.12"
  },
  "papermill": {
   "default_parameters": {},
   "duration": 55.002678,
   "end_time": "2025-07-30T14:12:09.768227",
   "environment_variables": {},
   "exception": null,
   "input_path": "universe_analysis.ipynb",
   "output_path": "output/runs/12/notebooks/m_12-67337a5360b223787e041b2e623f840c.ipynb",
   "parameters": {
    "output_dir": "output",
    "run_no": "12",
    "seed": "2023",
    "universe": "{\"cutoff\": [\"quantile_0.1\", \"quantile_0.25\"], \"eval_fairness_grouping\": [\"majority-minority\", \"nationality-all\"], \"exclude_features\": \"nationality-sex\", \"exclude_subgroups\": \"drop-non-german\", \"model\": \"elasticnet\", \"scale\": \"scale\", \"training_size\": \"5k\", \"training_year\": \"2010_14\"}",
    "universe_id": "67337a5360b223787e041b2e623f840c"
   },
   "start_time": "2025-07-30T14:11:14.765549",
   "version": "2.6.0"
  }
 },
 "nbformat": 4,
 "nbformat_minor": 5
}