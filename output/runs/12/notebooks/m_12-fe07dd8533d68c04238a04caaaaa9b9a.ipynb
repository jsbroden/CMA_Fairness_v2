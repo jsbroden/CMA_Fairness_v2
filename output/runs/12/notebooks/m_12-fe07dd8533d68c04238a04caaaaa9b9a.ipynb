{
 "cells": [
  {
   "cell_type": "code",
   "execution_count": 1,
   "id": "f159f837-637b-42ba-96b5-ec9a68c44524",
   "metadata": {
    "execution": {
     "iopub.execute_input": "2025-07-30T13:31:38.529430Z",
     "iopub.status.busy": "2025-07-30T13:31:38.528988Z",
     "iopub.status.idle": "2025-07-30T13:31:38.542364Z",
     "shell.execute_reply": "2025-07-30T13:31:38.541406Z"
    },
    "papermill": {
     "duration": 0.035185,
     "end_time": "2025-07-30T13:31:38.543967",
     "exception": false,
     "start_time": "2025-07-30T13:31:38.508782",
     "status": "completed"
    },
    "tags": []
   },
   "outputs": [
    {
     "name": "stdout",
     "output_type": "stream",
     "text": [
      "/dss/dsshome1/0C/ra93lal2/cma/CMA_Fairness_v2\n"
     ]
    },
    {
     "name": "stderr",
     "output_type": "stream",
     "text": [
      "/dss/dsshome1/0C/ra93lal2/.local/share/virtualenvs/CMA_Fairness_v2-3j10GkSs/lib/python3.10/site-packages/IPython/core/magics/osm.py:393: UserWarning: This is now an optional IPython functionality, using bookmarks requires you to install the `pickleshare` library.\n",
      "  bkms = self.shell.db.get('bookmarks', {})\n",
      "/dss/dsshome1/0C/ra93lal2/.local/share/virtualenvs/CMA_Fairness_v2-3j10GkSs/lib/python3.10/site-packages/IPython/core/magics/osm.py:417: UserWarning: This is now an optional IPython functionality, setting dhist requires you to install the `pickleshare` library.\n",
      "  self.shell.db['dhist'] = compress_dhist(dhist)[-100:]\n"
     ]
    }
   ],
   "source": [
    "%cd ~/cma/CMA_Fairness_v2"
   ]
  },
  {
   "cell_type": "markdown",
   "id": "de2603b9",
   "metadata": {
    "papermill": {
     "duration": 0.018406,
     "end_time": "2025-07-30T13:31:38.581362",
     "exception": false,
     "start_time": "2025-07-30T13:31:38.562956",
     "status": "completed"
    },
    "tags": []
   },
   "source": [
    "The following cell holds the definition of our parameters, these values can be overriden by rendering the with e.g. the following command:\n",
    "\n",
    "papermill -p alpha 0.2 -p ratio 0.3 universe_analysis.ipynb output/test_run.ipynb"
   ]
  },
  {
   "cell_type": "code",
   "execution_count": 2,
   "id": "a80968a0-40bb-4fa9-85ef-2d5eefb01975",
   "metadata": {
    "execution": {
     "iopub.execute_input": "2025-07-30T13:31:38.618560Z",
     "iopub.status.busy": "2025-07-30T13:31:38.618069Z",
     "iopub.status.idle": "2025-07-30T13:31:38.623203Z",
     "shell.execute_reply": "2025-07-30T13:31:38.622325Z"
    },
    "papermill": {
     "duration": 0.026088,
     "end_time": "2025-07-30T13:31:38.625104",
     "exception": false,
     "start_time": "2025-07-30T13:31:38.599016",
     "status": "completed"
    },
    "tags": []
   },
   "outputs": [
    {
     "name": "stdout",
     "output_type": "stream",
     "text": [
      "Current working directory: /dss/dsshome1/0C/ra93lal2/cma/CMA_Fairness_v2\n"
     ]
    }
   ],
   "source": [
    "import os\n",
    "print(\"Current working directory:\", os.getcwd())"
   ]
  },
  {
   "cell_type": "code",
   "execution_count": 3,
   "id": "2dce4c03",
   "metadata": {
    "execution": {
     "iopub.execute_input": "2025-07-30T13:31:38.664243Z",
     "iopub.status.busy": "2025-07-30T13:31:38.663889Z",
     "iopub.status.idle": "2025-07-30T13:31:38.669983Z",
     "shell.execute_reply": "2025-07-30T13:31:38.669086Z"
    },
    "papermill": {
     "duration": 0.02647,
     "end_time": "2025-07-30T13:31:38.671537",
     "exception": false,
     "start_time": "2025-07-30T13:31:38.645067",
     "status": "completed"
    },
    "tags": [
     "parameters"
    ]
   },
   "outputs": [],
   "source": [
    "run_no = 0\n",
    "universe_id = \"test\"\n",
    "universe = {\n",
    "    \"training_size\": \"25k\", # \"25k\", \"5k\", \"1k\"\n",
    "    \"training_year\": \"2014\", # \"2014\", \"2012_14\", \"2010_14\"\n",
    "    \"scale\": \"scale\", # \"scale\", \"do-not-scale\",\n",
    "    #\"stratify_split\": \"target\", # \"none\", \"target\", \"protected-attribute\", \"both\",\n",
    "    \"model\": \"elasticnet\", # \"logreg\", \"penalized_logreg\", \"rf\", \"gbm\", \"elasticnet\"\n",
    "    \"cutoff\": [\"quantile_0.15\", \"quantile_0.30\"],\n",
    "    \"exclude_features\": \"age\", # \"none\", \"nationality\", \"sex\", \"nationality-sex\", \"age\"\n",
    "    \"exclude_subgroups\": \"keep-all\", # \"keep-all\", \"drop-non-german\"\n",
    "    \"eval_fairness_grouping\": [\"majority-minority\", \"nationality-all\"]\n",
    "}\n",
    "\n",
    "output_dir=\"./output\"\n",
    "seed=0"
   ]
  },
  {
   "cell_type": "code",
   "execution_count": 4,
   "id": "eac17b36",
   "metadata": {
    "execution": {
     "iopub.execute_input": "2025-07-30T13:31:38.711216Z",
     "iopub.status.busy": "2025-07-30T13:31:38.710491Z",
     "iopub.status.idle": "2025-07-30T13:31:38.715859Z",
     "shell.execute_reply": "2025-07-30T13:31:38.714962Z"
    },
    "papermill": {
     "duration": 0.026291,
     "end_time": "2025-07-30T13:31:38.717727",
     "exception": false,
     "start_time": "2025-07-30T13:31:38.691436",
     "status": "completed"
    },
    "tags": [
     "injected-parameters"
    ]
   },
   "outputs": [],
   "source": [
    "# Parameters\n",
    "universe_id = \"fe07dd8533d68c04238a04caaaaa9b9a\"\n",
    "run_no = \"12\"\n",
    "universe = \"{\\\"cutoff\\\": [\\\"quantile_0.1\\\", \\\"quantile_0.25\\\"], \\\"eval_fairness_grouping\\\": [\\\"majority-minority\\\", \\\"nationality-all\\\"], \\\"exclude_features\\\": \\\"age\\\", \\\"exclude_subgroups\\\": \\\"keep-all\\\", \\\"model\\\": \\\"penalized_logreg\\\", \\\"scale\\\": \\\"do-not-scale\\\", \\\"training_size\\\": \\\"25k\\\", \\\"training_year\\\": \\\"2010_14\\\"}\"\n",
    "output_dir = \"output\"\n",
    "seed = \"2023\"\n"
   ]
  },
  {
   "cell_type": "code",
   "execution_count": 5,
   "id": "1650acaf",
   "metadata": {
    "execution": {
     "iopub.execute_input": "2025-07-30T13:31:38.758411Z",
     "iopub.status.busy": "2025-07-30T13:31:38.757983Z",
     "iopub.status.idle": "2025-07-30T13:31:38.762887Z",
     "shell.execute_reply": "2025-07-30T13:31:38.761820Z"
    },
    "papermill": {
     "duration": 0.025731,
     "end_time": "2025-07-30T13:31:38.764598",
     "exception": false,
     "start_time": "2025-07-30T13:31:38.738867",
     "status": "completed"
    },
    "tags": []
   },
   "outputs": [],
   "source": [
    "import json\n",
    "# Parse universe into dict if it is passed as a string\n",
    "if isinstance(universe, str):\n",
    "    universe = json.loads(universe)"
   ]
  },
  {
   "cell_type": "code",
   "execution_count": 6,
   "id": "16620c48",
   "metadata": {
    "execution": {
     "iopub.execute_input": "2025-07-30T13:31:38.806976Z",
     "iopub.status.busy": "2025-07-30T13:31:38.806541Z",
     "iopub.status.idle": "2025-07-30T13:31:38.848929Z",
     "shell.execute_reply": "2025-07-30T13:31:38.848064Z"
    },
    "papermill": {
     "duration": 0.065324,
     "end_time": "2025-07-30T13:31:38.851108",
     "exception": false,
     "start_time": "2025-07-30T13:31:38.785784",
     "status": "completed"
    },
    "tags": []
   },
   "outputs": [],
   "source": [
    "# Auto-reload the custom package\n",
    "%load_ext autoreload\n",
    "%autoreload 1\n",
    "%aimport fairness_multiverse"
   ]
  },
  {
   "cell_type": "code",
   "execution_count": 7,
   "id": "01c5c9f3",
   "metadata": {
    "execution": {
     "iopub.execute_input": "2025-07-30T13:31:38.891879Z",
     "iopub.status.busy": "2025-07-30T13:31:38.891060Z",
     "iopub.status.idle": "2025-07-30T13:31:40.791479Z",
     "shell.execute_reply": "2025-07-30T13:31:40.790598Z"
    },
    "papermill": {
     "duration": 1.922961,
     "end_time": "2025-07-30T13:31:40.793423",
     "exception": false,
     "start_time": "2025-07-30T13:31:38.870462",
     "status": "completed"
    },
    "tags": []
   },
   "outputs": [],
   "source": [
    "from fairness_multiverse.universe import UniverseAnalysis\n",
    "\n",
    "universe_analysis = UniverseAnalysis(\n",
    "    run_no = run_no,\n",
    "    universe_id = universe_id,\n",
    "    universe = universe,\n",
    "    output_dir=output_dir,\n",
    ")"
   ]
  },
  {
   "cell_type": "code",
   "execution_count": 8,
   "id": "106241f5",
   "metadata": {
    "execution": {
     "iopub.execute_input": "2025-07-30T13:31:40.833713Z",
     "iopub.status.busy": "2025-07-30T13:31:40.832945Z",
     "iopub.status.idle": "2025-07-30T13:31:40.839534Z",
     "shell.execute_reply": "2025-07-30T13:31:40.838682Z"
    },
    "papermill": {
     "duration": 0.027995,
     "end_time": "2025-07-30T13:31:40.841058",
     "exception": false,
     "start_time": "2025-07-30T13:31:40.813063",
     "status": "completed"
    },
    "tags": []
   },
   "outputs": [
    {
     "name": "stdout",
     "output_type": "stream",
     "text": [
      "Using Seed: 2023\n"
     ]
    }
   ],
   "source": [
    "import numpy as np\n",
    "parsed_seed = int(seed)\n",
    "np.random.seed(parsed_seed)\n",
    "print(f\"Using Seed: {parsed_seed}\")"
   ]
  },
  {
   "cell_type": "markdown",
   "id": "e0ebdc57",
   "metadata": {
    "papermill": {
     "duration": 0.018744,
     "end_time": "2025-07-30T13:31:40.880485",
     "exception": false,
     "start_time": "2025-07-30T13:31:40.861741",
     "status": "completed"
    },
    "tags": []
   },
   "source": [
    "# Loading Data"
   ]
  },
  {
   "cell_type": "markdown",
   "id": "681925a3",
   "metadata": {
    "papermill": {
     "duration": 0.018891,
     "end_time": "2025-07-30T13:31:40.917673",
     "exception": false,
     "start_time": "2025-07-30T13:31:40.898782",
     "status": "completed"
    },
    "tags": []
   },
   "source": [
    "Load siab_train, siab_test, siab_calib and/or \n",
    "load siab_train_features, siab_train_labels"
   ]
  },
  {
   "cell_type": "code",
   "execution_count": 9,
   "id": "f0496b8a",
   "metadata": {
    "execution": {
     "iopub.execute_input": "2025-07-30T13:31:40.957217Z",
     "iopub.status.busy": "2025-07-30T13:31:40.956763Z",
     "iopub.status.idle": "2025-07-30T13:31:53.331082Z",
     "shell.execute_reply": "2025-07-30T13:31:53.329899Z"
    },
    "papermill": {
     "duration": 12.396868,
     "end_time": "2025-07-30T13:31:53.332819",
     "exception": false,
     "start_time": "2025-07-30T13:31:40.935951",
     "status": "completed"
    },
    "tags": []
   },
   "outputs": [
    {
     "name": "stdout",
     "output_type": "stream",
     "text": [
      "Loading SIAB data from cache: data/siab_cached.csv.gz\n"
     ]
    },
    {
     "name": "stdout",
     "output_type": "stream",
     "text": [
      "(643690, 164)\n"
     ]
    }
   ],
   "source": [
    "from pathlib import Path\n",
    "import pandas as pd\n",
    "\n",
    "# File paths\n",
    "raw_file = Path(\"data/raw/siab.csv\")\n",
    "cache_file = Path(\"data/siab_cached.csv.gz\")\n",
    "\n",
    "# Ensure cache directory exists\n",
    "cache_file.parent.mkdir(parents=True, exist_ok=True)\n",
    "\n",
    "# Load with simple caching\n",
    "if cache_file.exists():\n",
    "    print(f\"Loading SIAB data from cache: {cache_file}\")\n",
    "    siab = pd.read_csv(cache_file, compression='gzip')\n",
    "else:\n",
    "    print(f\"Cache not found. Reading raw SIAB data: {raw_file}\")\n",
    "    siab = pd.read_csv(raw_file)\n",
    "    siab.to_csv(cache_file, index=False, compression='gzip')\n",
    "    print(f\"Cached SIAB data to: {cache_file}\")\n",
    "\n",
    "# Now use `siab` DataFrame as needed\n",
    "print(siab.shape)"
   ]
  },
  {
   "cell_type": "code",
   "execution_count": 10,
   "id": "db0ca512-5f53-4dba-abdb-a2888bca41ba",
   "metadata": {
    "execution": {
     "iopub.execute_input": "2025-07-30T13:31:53.379688Z",
     "iopub.status.busy": "2025-07-30T13:31:53.379193Z",
     "iopub.status.idle": "2025-07-30T13:31:53.385098Z",
     "shell.execute_reply": "2025-07-30T13:31:53.384090Z"
    },
    "papermill": {
     "duration": 0.0306,
     "end_time": "2025-07-30T13:31:53.386747",
     "exception": false,
     "start_time": "2025-07-30T13:31:53.356147",
     "status": "completed"
    },
    "tags": []
   },
   "outputs": [],
   "source": [
    "#siab"
   ]
  },
  {
   "cell_type": "code",
   "execution_count": 11,
   "id": "a0edb063",
   "metadata": {
    "execution": {
     "iopub.execute_input": "2025-07-30T13:31:53.431613Z",
     "iopub.status.busy": "2025-07-30T13:31:53.430621Z",
     "iopub.status.idle": "2025-07-30T13:31:53.436016Z",
     "shell.execute_reply": "2025-07-30T13:31:53.435062Z"
    },
    "papermill": {
     "duration": 0.029551,
     "end_time": "2025-07-30T13:31:53.437764",
     "exception": false,
     "start_time": "2025-07-30T13:31:53.408213",
     "status": "completed"
    },
    "tags": []
   },
   "outputs": [],
   "source": [
    "#import pandas as pd\n",
    "#\n",
    "#X_train = pd.read_csv(\"./data/X_train.csv\")\n",
    "#y_train = pd.read_csv(\"./data/y_train.csv\")"
   ]
  },
  {
   "cell_type": "code",
   "execution_count": 12,
   "id": "63d08085",
   "metadata": {
    "execution": {
     "iopub.execute_input": "2025-07-30T13:31:53.482989Z",
     "iopub.status.busy": "2025-07-30T13:31:53.482222Z",
     "iopub.status.idle": "2025-07-30T13:31:53.487778Z",
     "shell.execute_reply": "2025-07-30T13:31:53.486823Z"
    },
    "papermill": {
     "duration": 0.030415,
     "end_time": "2025-07-30T13:31:53.489528",
     "exception": false,
     "start_time": "2025-07-30T13:31:53.459113",
     "status": "completed"
    },
    "tags": []
   },
   "outputs": [],
   "source": [
    "#X_test = pd.read_csv(\"./data/X_test.csv\")\n",
    "#y_true = pd.read_csv(\"./data/y_test.csv\")"
   ]
  },
  {
   "cell_type": "code",
   "execution_count": 13,
   "id": "98a8d0fa-1d3d-4ed8-bb2c-281470e24add",
   "metadata": {
    "execution": {
     "iopub.execute_input": "2025-07-30T13:31:53.535083Z",
     "iopub.status.busy": "2025-07-30T13:31:53.534389Z",
     "iopub.status.idle": "2025-07-30T13:31:53.540134Z",
     "shell.execute_reply": "2025-07-30T13:31:53.539013Z"
    },
    "papermill": {
     "duration": 0.030257,
     "end_time": "2025-07-30T13:31:53.542093",
     "exception": false,
     "start_time": "2025-07-30T13:31:53.511836",
     "status": "completed"
    },
    "tags": []
   },
   "outputs": [],
   "source": [
    "# Calibration data for conformal\n",
    "#X_calib = pd.read_csv(\"./data/X_calib.csv\")\n",
    "#y_calib = pd.read_csv(\"./data/y_calib.csv\")"
   ]
  },
  {
   "cell_type": "markdown",
   "id": "997051c5-15bd-4b69-9786-c3001a3ce484",
   "metadata": {
    "papermill": {
     "duration": 0.02118,
     "end_time": "2025-07-30T13:31:53.585528",
     "exception": false,
     "start_time": "2025-07-30T13:31:53.564348",
     "status": "completed"
    },
    "tags": []
   },
   "source": [
    "# Splitting Data and Setting Training Data Size"
   ]
  },
  {
   "cell_type": "code",
   "execution_count": 14,
   "id": "e993b61f-042d-41a6-8c81-f55681f86335",
   "metadata": {
    "execution": {
     "iopub.execute_input": "2025-07-30T13:31:53.629792Z",
     "iopub.status.busy": "2025-07-30T13:31:53.629295Z",
     "iopub.status.idle": "2025-07-30T13:31:53.642732Z",
     "shell.execute_reply": "2025-07-30T13:31:53.641733Z"
    },
    "papermill": {
     "duration": 0.038062,
     "end_time": "2025-07-30T13:31:53.644375",
     "exception": false,
     "start_time": "2025-07-30T13:31:53.606313",
     "status": "completed"
    },
    "tags": []
   },
   "outputs": [],
   "source": [
    "def sample_by_year_size(df,\n",
    "                        training_year: str,\n",
    "                        training_size: str,\n",
    "                        random_state: int = 42):\n",
    "    # --- parse training_year into a list of int years ---\n",
    "    if \"_\" in training_year:\n",
    "        start_str, end_str = training_year.split(\"_\", 1)\n",
    "        start = int(start_str)\n",
    "        end   = int(end_str) if len(end_str) == 4 else (int(end_str) + (start // 100)*100)\n",
    "        years = list(range(start, end + 1))\n",
    "    else:\n",
    "        years = [int(training_year)]\n",
    "\n",
    "    df = df[df[\"year\"].isin(years)].reset_index(drop=True)\n",
    "\n",
    "    # --- map training_size to total number of samples ---\n",
    "    total_map = {\"25k\": 25_000, \"5k\": 5_000, \"1k\": 1_000}\n",
    "    if training_size not in total_map:\n",
    "        return df  # e.g. \"all\"\n",
    "\n",
    "    total_samples = total_map[training_size]\n",
    "    n_years       = len(years)\n",
    "    base          = total_samples // n_years\n",
    "    remainder     = total_samples % n_years\n",
    "\n",
    "    # --- build a dict: year -> how many to sample ---\n",
    "    # give +1 to the first `remainder` years in ascending order\n",
    "    quotas = {\n",
    "        year: base + (1 if idx < remainder else 0)\n",
    "        for idx, year in enumerate(sorted(years))\n",
    "    }\n",
    "\n",
    "    # --- sample per‐year according to the quota dict ---\n",
    "    sampled = (\n",
    "        df\n",
    "        .groupby(\"year\", group_keys=False)\n",
    "        .apply(lambda grp: grp.sample(\n",
    "            n=min(len(grp), quotas[grp.name]),\n",
    "            random_state=random_state))\n",
    "        .reset_index(drop=True)\n",
    "    )\n",
    "\n",
    "    return sampled"
   ]
  },
  {
   "cell_type": "code",
   "execution_count": 15,
   "id": "c0ccd338-0e02-41f3-a09d-f56f9266e3fb",
   "metadata": {
    "execution": {
     "iopub.execute_input": "2025-07-30T13:31:53.690064Z",
     "iopub.status.busy": "2025-07-30T13:31:53.689367Z",
     "iopub.status.idle": "2025-07-30T13:31:53.701350Z",
     "shell.execute_reply": "2025-07-30T13:31:53.700286Z"
    },
    "papermill": {
     "duration": 0.036616,
     "end_time": "2025-07-30T13:31:53.702959",
     "exception": false,
     "start_time": "2025-07-30T13:31:53.666343",
     "status": "completed"
    },
    "tags": []
   },
   "outputs": [
    {
     "data": {
      "text/plain": [
       "'25k'"
      ]
     },
     "execution_count": 15,
     "metadata": {},
     "output_type": "execute_result"
    }
   ],
   "source": [
    "universe[\"training_size\"]"
   ]
  },
  {
   "cell_type": "code",
   "execution_count": 16,
   "id": "ca707fd7-8047-4acd-bfa5-66248fbbf8e6",
   "metadata": {
    "execution": {
     "iopub.execute_input": "2025-07-30T13:31:53.747783Z",
     "iopub.status.busy": "2025-07-30T13:31:53.747110Z",
     "iopub.status.idle": "2025-07-30T13:31:53.754477Z",
     "shell.execute_reply": "2025-07-30T13:31:53.753552Z"
    },
    "papermill": {
     "duration": 0.031989,
     "end_time": "2025-07-30T13:31:53.756360",
     "exception": false,
     "start_time": "2025-07-30T13:31:53.724371",
     "status": "completed"
    },
    "tags": []
   },
   "outputs": [
    {
     "data": {
      "text/plain": [
       "'2010_14'"
      ]
     },
     "execution_count": 16,
     "metadata": {},
     "output_type": "execute_result"
    }
   ],
   "source": [
    "universe[\"training_year\"]"
   ]
  },
  {
   "cell_type": "code",
   "execution_count": 17,
   "id": "aea9c6ef-6f46-42c8-85eb-5a62025c1508",
   "metadata": {
    "execution": {
     "iopub.execute_input": "2025-07-30T13:31:53.801963Z",
     "iopub.status.busy": "2025-07-30T13:31:53.801003Z",
     "iopub.status.idle": "2025-07-30T13:31:54.952790Z",
     "shell.execute_reply": "2025-07-30T13:31:54.951693Z"
    },
    "papermill": {
     "duration": 1.176026,
     "end_time": "2025-07-30T13:31:54.954699",
     "exception": false,
     "start_time": "2025-07-30T13:31:53.778673",
     "status": "completed"
    },
    "tags": []
   },
   "outputs": [],
   "source": [
    "siab_train = sample_by_year_size(siab,\n",
    "                               training_year=universe[\"training_year\"],\n",
    "                               training_size=universe[\"training_size\"])"
   ]
  },
  {
   "cell_type": "code",
   "execution_count": 18,
   "id": "8d3afb32-789d-442c-8d5d-9f5aa8dd2eed",
   "metadata": {
    "execution": {
     "iopub.execute_input": "2025-07-30T13:31:55.002096Z",
     "iopub.status.busy": "2025-07-30T13:31:55.001443Z",
     "iopub.status.idle": "2025-07-30T13:31:55.008832Z",
     "shell.execute_reply": "2025-07-30T13:31:55.007666Z"
    },
    "papermill": {
     "duration": 0.031872,
     "end_time": "2025-07-30T13:31:55.010459",
     "exception": false,
     "start_time": "2025-07-30T13:31:54.978587",
     "status": "completed"
    },
    "tags": []
   },
   "outputs": [
    {
     "data": {
      "text/plain": [
       "(25000, 164)"
      ]
     },
     "execution_count": 18,
     "metadata": {},
     "output_type": "execute_result"
    }
   ],
   "source": [
    "siab_train.shape"
   ]
  },
  {
   "cell_type": "code",
   "execution_count": 19,
   "id": "d582db68-1a4c-47fb-84fc-08518dc1975a",
   "metadata": {
    "execution": {
     "iopub.execute_input": "2025-07-30T13:31:55.054355Z",
     "iopub.status.busy": "2025-07-30T13:31:55.053571Z",
     "iopub.status.idle": "2025-07-30T13:31:55.063632Z",
     "shell.execute_reply": "2025-07-30T13:31:55.062767Z"
    },
    "papermill": {
     "duration": 0.033608,
     "end_time": "2025-07-30T13:31:55.065284",
     "exception": false,
     "start_time": "2025-07-30T13:31:55.031676",
     "status": "completed"
    },
    "tags": []
   },
   "outputs": [
    {
     "data": {
      "text/plain": [
       "year\n",
       "2010    5000\n",
       "2011    5000\n",
       "2012    5000\n",
       "2013    5000\n",
       "2014    5000\n",
       "dtype: int64"
      ]
     },
     "metadata": {},
     "output_type": "display_data"
    }
   ],
   "source": [
    "display(siab_train.groupby(\"year\").size())"
   ]
  },
  {
   "cell_type": "code",
   "execution_count": 20,
   "id": "a561edb4-d032-42cb-8256-22eac1111c64",
   "metadata": {
    "execution": {
     "iopub.execute_input": "2025-07-30T13:31:55.109952Z",
     "iopub.status.busy": "2025-07-30T13:31:55.109140Z",
     "iopub.status.idle": "2025-07-30T13:31:55.362505Z",
     "shell.execute_reply": "2025-07-30T13:31:55.361577Z"
    },
    "papermill": {
     "duration": 0.277669,
     "end_time": "2025-07-30T13:31:55.364316",
     "exception": false,
     "start_time": "2025-07-30T13:31:55.086647",
     "status": "completed"
    },
    "tags": []
   },
   "outputs": [],
   "source": [
    "#siab_train = siab_s[siab_s.year < 2015]\n",
    "siab_calib = siab[siab.year == 2015]\n",
    "siab_test = siab[siab.year == 2016]"
   ]
  },
  {
   "cell_type": "code",
   "execution_count": 21,
   "id": "472de16f-c3db-4916-846b-1f0de9cf1746",
   "metadata": {
    "execution": {
     "iopub.execute_input": "2025-07-30T13:31:55.452175Z",
     "iopub.status.busy": "2025-07-30T13:31:55.451480Z",
     "iopub.status.idle": "2025-07-30T13:31:55.466669Z",
     "shell.execute_reply": "2025-07-30T13:31:55.465655Z"
    },
    "papermill": {
     "duration": 0.038529,
     "end_time": "2025-07-30T13:31:55.468556",
     "exception": false,
     "start_time": "2025-07-30T13:31:55.430027",
     "status": "completed"
    },
    "tags": []
   },
   "outputs": [],
   "source": [
    "X_train = siab_train.iloc[:,4:164]\n",
    "y_train = siab_train.iloc[:, [3]]"
   ]
  },
  {
   "cell_type": "code",
   "execution_count": 22,
   "id": "828c96af-f43a-4ed6-ba47-8ac73a47d56c",
   "metadata": {
    "execution": {
     "iopub.execute_input": "2025-07-30T13:31:55.513133Z",
     "iopub.status.busy": "2025-07-30T13:31:55.512282Z",
     "iopub.status.idle": "2025-07-30T13:31:55.569222Z",
     "shell.execute_reply": "2025-07-30T13:31:55.568106Z"
    },
    "papermill": {
     "duration": 0.080963,
     "end_time": "2025-07-30T13:31:55.570909",
     "exception": false,
     "start_time": "2025-07-30T13:31:55.489946",
     "status": "completed"
    },
    "tags": []
   },
   "outputs": [],
   "source": [
    "X_calib = siab_calib.iloc[:,4:164]\n",
    "y_calib = siab_calib.iloc[:, [3]]"
   ]
  },
  {
   "cell_type": "code",
   "execution_count": 23,
   "id": "c34be9c3-6bd6-476e-acd3-845840e303be",
   "metadata": {
    "execution": {
     "iopub.execute_input": "2025-07-30T13:31:55.618547Z",
     "iopub.status.busy": "2025-07-30T13:31:55.618128Z",
     "iopub.status.idle": "2025-07-30T13:31:55.672024Z",
     "shell.execute_reply": "2025-07-30T13:31:55.670975Z"
    },
    "papermill": {
     "duration": 0.078936,
     "end_time": "2025-07-30T13:31:55.674037",
     "exception": false,
     "start_time": "2025-07-30T13:31:55.595101",
     "status": "completed"
    },
    "tags": []
   },
   "outputs": [],
   "source": [
    "X_test = siab_test.iloc[:,4:164]\n",
    "y_true = siab_test.iloc[:, [3]]"
   ]
  },
  {
   "cell_type": "markdown",
   "id": "9901737e-04df-44f0-9100-f5ad144ed040",
   "metadata": {
    "papermill": {
     "duration": 0.020513,
     "end_time": "2025-07-30T13:31:55.717174",
     "exception": false,
     "start_time": "2025-07-30T13:31:55.696661",
     "status": "completed"
    },
    "tags": []
   },
   "source": [
    "# Splitting Data and Setting Training Data Size OLD VERSION"
   ]
  },
  {
   "cell_type": "code",
   "execution_count": 24,
   "id": "acbc8f7d-8fc8-4e86-8c59-5dcb0f58384b",
   "metadata": {
    "execution": {
     "iopub.execute_input": "2025-07-30T13:31:55.761980Z",
     "iopub.status.busy": "2025-07-30T13:31:55.761070Z",
     "iopub.status.idle": "2025-07-30T13:31:55.766624Z",
     "shell.execute_reply": "2025-07-30T13:31:55.765777Z"
    },
    "papermill": {
     "duration": 0.029855,
     "end_time": "2025-07-30T13:31:55.768166",
     "exception": false,
     "start_time": "2025-07-30T13:31:55.738311",
     "status": "completed"
    },
    "tags": []
   },
   "outputs": [],
   "source": [
    "#def sample_by_year(df, training_size, random_state=42):\n",
    "#    if training_size == \"2014\":\n",
    "#        return df[df[\"year\"] == 2014].reset_index(drop=True)\n",
    "#    \n",
    "#    size_map = {\n",
    "#        \"25k\": 5000,\n",
    "#        \"5k\": 1000,\n",
    "#        \"1k\": 200\n",
    "#    }\n",
    "#\n",
    "#    if training_size not in size_map:\n",
    "#        return df.reset_index(drop=True)  # use all data\n",
    "#\n",
    "#    n_per_year = size_map[training_size]\n",
    "#    grouped = df.groupby(\"year\")\n",
    "#    sampled = grouped.apply(lambda x: x.sample(n=min(n_per_year, len(x)), random_state=random_state))\n",
    "#    return sampled.reset_index(drop=True)"
   ]
  },
  {
   "cell_type": "code",
   "execution_count": 25,
   "id": "6d931f52-beaf-43ff-9e78-9d44a448d54e",
   "metadata": {
    "execution": {
     "iopub.execute_input": "2025-07-30T13:31:55.814483Z",
     "iopub.status.busy": "2025-07-30T13:31:55.813975Z",
     "iopub.status.idle": "2025-07-30T13:31:55.819275Z",
     "shell.execute_reply": "2025-07-30T13:31:55.818330Z"
    },
    "papermill": {
     "duration": 0.029762,
     "end_time": "2025-07-30T13:31:55.820965",
     "exception": false,
     "start_time": "2025-07-30T13:31:55.791203",
     "status": "completed"
    },
    "tags": []
   },
   "outputs": [],
   "source": [
    "#siab_s = sample_by_year(siab, universe[\"training_size\"])"
   ]
  },
  {
   "cell_type": "code",
   "execution_count": 26,
   "id": "5db0a40e-a4e2-4920-be85-b12ae061d70d",
   "metadata": {
    "execution": {
     "iopub.execute_input": "2025-07-30T13:31:55.867204Z",
     "iopub.status.busy": "2025-07-30T13:31:55.866684Z",
     "iopub.status.idle": "2025-07-30T13:31:55.871636Z",
     "shell.execute_reply": "2025-07-30T13:31:55.870767Z"
    },
    "papermill": {
     "duration": 0.029311,
     "end_time": "2025-07-30T13:31:55.873348",
     "exception": false,
     "start_time": "2025-07-30T13:31:55.844037",
     "status": "completed"
    },
    "tags": []
   },
   "outputs": [],
   "source": [
    "#display(siab_s.groupby(\"year\").size())"
   ]
  },
  {
   "cell_type": "code",
   "execution_count": 27,
   "id": "e6c733c5",
   "metadata": {
    "execution": {
     "iopub.execute_input": "2025-07-30T13:31:55.922559Z",
     "iopub.status.busy": "2025-07-30T13:31:55.921675Z",
     "iopub.status.idle": "2025-07-30T13:31:56.023804Z",
     "shell.execute_reply": "2025-07-30T13:31:56.022840Z"
    },
    "papermill": {
     "duration": 0.128136,
     "end_time": "2025-07-30T13:31:56.025644",
     "exception": false,
     "start_time": "2025-07-30T13:31:55.897508",
     "status": "completed"
    },
    "tags": []
   },
   "outputs": [],
   "source": [
    "# Auxiliary data needed downstream in the pipeline\n",
    "\n",
    "org_train = X_train.copy()\n",
    "org_test = X_test.copy()\n",
    "org_calib = X_calib.copy()"
   ]
  },
  {
   "cell_type": "code",
   "execution_count": 28,
   "id": "1466abac-c6da-4492-a62f-4240ae3783af",
   "metadata": {
    "execution": {
     "iopub.execute_input": "2025-07-30T13:31:56.071311Z",
     "iopub.status.busy": "2025-07-30T13:31:56.070493Z",
     "iopub.status.idle": "2025-07-30T13:31:56.077050Z",
     "shell.execute_reply": "2025-07-30T13:31:56.076005Z"
    },
    "papermill": {
     "duration": 0.030751,
     "end_time": "2025-07-30T13:31:56.078842",
     "exception": false,
     "start_time": "2025-07-30T13:31:56.048091",
     "status": "completed"
    },
    "tags": []
   },
   "outputs": [],
   "source": [
    "# put in other script?\n",
    "# Group sizes\n",
    "\n",
    "#def calculate_percentages(df, df_name):\n",
    "#    total_entries = len(df)\n",
    "#\n",
    "#    female_pct = (df['frau1'] == 1).mean() * 100\n",
    "#    non_german_pct = ((df['maxdeutsch1'] == 0) & (df['maxdeutsch.Missing.'] == 0)).mean() * 100\n",
    "#    non_german_male_pct = ((df['frau1'] == 0) & (df['maxdeutsch1'] == 0) & (df['maxdeutsch.Missing.'] == 0)).mean() * 100\n",
    "#    non_german_female_pct = ((df['frau1'] == 1) & (df['maxdeutsch1'] == 0) & (df['maxdeutsch.Missing.'] == 0)).mean() * 100\n",
    "#\n",
    "#    print(f\"--- {df_name} ---\")\n",
    "#    print(f\"Female: {female_pct:.2f}%\")\n",
    "#    print(f\"Non-German: {non_german_pct:.2f}%\")\n",
    "#    print(f\"Non-German Male: {non_german_male_pct:.2f}%\")\n",
    "#    print(f\"Non-German Female: {non_german_female_pct:.2f}%\\n\")\n",
    "#\n",
    "## Calculate for each DataFrame\n",
    "#calculate_percentages(siab_calib, \"siab_calib\")\n",
    "#calculate_percentages(siab_test, \"siab_test\")\n",
    "#calculate_percentages(siab_train, \"siab_train\")"
   ]
  },
  {
   "cell_type": "markdown",
   "id": "0a4a1b33",
   "metadata": {
    "papermill": {
     "duration": 0.020825,
     "end_time": "2025-07-30T13:31:56.122174",
     "exception": false,
     "start_time": "2025-07-30T13:31:56.101349",
     "status": "completed"
    },
    "tags": []
   },
   "source": [
    "# Preprocessing Data"
   ]
  },
  {
   "cell_type": "code",
   "execution_count": 29,
   "id": "ca879031",
   "metadata": {
    "execution": {
     "iopub.execute_input": "2025-07-30T13:31:56.167556Z",
     "iopub.status.busy": "2025-07-30T13:31:56.167058Z",
     "iopub.status.idle": "2025-07-30T13:31:56.173659Z",
     "shell.execute_reply": "2025-07-30T13:31:56.172706Z"
    },
    "papermill": {
     "duration": 0.030986,
     "end_time": "2025-07-30T13:31:56.175175",
     "exception": false,
     "start_time": "2025-07-30T13:31:56.144189",
     "status": "completed"
    },
    "tags": []
   },
   "outputs": [],
   "source": [
    "# EXCLUDE PROTECTED FEATURES\n",
    "# ----------------------\n",
    "# \"exclude_features\": \"none\", # \"nationality\", \"sex\", \"nationality-sex\"\n",
    "\n",
    "excluded_features = universe[\"exclude_features\"].split(\"-\") # split, e.g.: \"nationality-sex\" -> [\"nationality\", \"sex\"]\n",
    "excluded_features_dictionary = {\n",
    "    \"nationality\": [\"maxdeutsch1\", \"maxdeutsch.Missing.\"],\n",
    "    \"sex\": [\"frau1\"],\n",
    "    \"age\": [\"age\"],\n",
    "}\n"
   ]
  },
  {
   "cell_type": "code",
   "execution_count": 30,
   "id": "b745ac60",
   "metadata": {
    "execution": {
     "iopub.execute_input": "2025-07-30T13:31:56.223202Z",
     "iopub.status.busy": "2025-07-30T13:31:56.222686Z",
     "iopub.status.idle": "2025-07-30T13:31:56.228568Z",
     "shell.execute_reply": "2025-07-30T13:31:56.227607Z"
    },
    "papermill": {
     "duration": 0.031518,
     "end_time": "2025-07-30T13:31:56.230050",
     "exception": false,
     "start_time": "2025-07-30T13:31:56.198532",
     "status": "completed"
    },
    "tags": []
   },
   "outputs": [],
   "source": [
    "# Code nice names to column names\n",
    "\n",
    "excluded_features_columns = [\n",
    "    excluded_features_dictionary[f] for f in excluded_features if len(f) > 0 and f != \"none\"\n",
    "]"
   ]
  },
  {
   "cell_type": "code",
   "execution_count": 31,
   "id": "f84f73a2",
   "metadata": {
    "execution": {
     "iopub.execute_input": "2025-07-30T13:31:56.276516Z",
     "iopub.status.busy": "2025-07-30T13:31:56.276011Z",
     "iopub.status.idle": "2025-07-30T13:31:56.282692Z",
     "shell.execute_reply": "2025-07-30T13:31:56.281740Z"
    },
    "papermill": {
     "duration": 0.032447,
     "end_time": "2025-07-30T13:31:56.284450",
     "exception": false,
     "start_time": "2025-07-30T13:31:56.252003",
     "status": "completed"
    },
    "tags": []
   },
   "outputs": [],
   "source": [
    "from utils import flatten_once\n",
    "\n",
    "excluded_features_columns = flatten_once(excluded_features_columns)"
   ]
  },
  {
   "cell_type": "code",
   "execution_count": 32,
   "id": "884dea22",
   "metadata": {
    "execution": {
     "iopub.execute_input": "2025-07-30T13:31:56.330058Z",
     "iopub.status.busy": "2025-07-30T13:31:56.329454Z",
     "iopub.status.idle": "2025-07-30T13:31:56.348351Z",
     "shell.execute_reply": "2025-07-30T13:31:56.347388Z"
    },
    "papermill": {
     "duration": 0.043078,
     "end_time": "2025-07-30T13:31:56.350179",
     "exception": false,
     "start_time": "2025-07-30T13:31:56.307101",
     "status": "completed"
    },
    "tags": []
   },
   "outputs": [
    {
     "name": "stdout",
     "output_type": "stream",
     "text": [
      "Dropping features: ['age']\n"
     ]
    }
   ],
   "source": [
    "if len(excluded_features_columns) > 0:\n",
    "    print(f\"Dropping features: {excluded_features_columns}\")\n",
    "    X_train.drop(excluded_features_columns, axis=1, inplace=True)"
   ]
  },
  {
   "cell_type": "code",
   "execution_count": 33,
   "id": "95ab8b16",
   "metadata": {
    "execution": {
     "iopub.execute_input": "2025-07-30T13:31:56.398576Z",
     "iopub.status.busy": "2025-07-30T13:31:56.398087Z",
     "iopub.status.idle": "2025-07-30T13:31:56.466138Z",
     "shell.execute_reply": "2025-07-30T13:31:56.465048Z"
    },
    "papermill": {
     "duration": 0.09411,
     "end_time": "2025-07-30T13:31:56.467780",
     "exception": false,
     "start_time": "2025-07-30T13:31:56.373670",
     "status": "completed"
    },
    "tags": []
   },
   "outputs": [
    {
     "name": "stdout",
     "output_type": "stream",
     "text": [
      "Dropping features: ['age']\n"
     ]
    }
   ],
   "source": [
    "if len(excluded_features_columns) > 0:\n",
    "    print(f\"Dropping features: {excluded_features_columns}\")\n",
    "    X_test.drop(excluded_features_columns, axis=1, inplace=True)"
   ]
  },
  {
   "cell_type": "code",
   "execution_count": 34,
   "id": "1853aaf5-fb9f-46cb-a2b5-8ea4ae2237e4",
   "metadata": {
    "execution": {
     "iopub.execute_input": "2025-07-30T13:31:56.515070Z",
     "iopub.status.busy": "2025-07-30T13:31:56.514175Z",
     "iopub.status.idle": "2025-07-30T13:31:56.569200Z",
     "shell.execute_reply": "2025-07-30T13:31:56.568096Z"
    },
    "papermill": {
     "duration": 0.079751,
     "end_time": "2025-07-30T13:31:56.570900",
     "exception": false,
     "start_time": "2025-07-30T13:31:56.491149",
     "status": "completed"
    },
    "tags": []
   },
   "outputs": [
    {
     "name": "stdout",
     "output_type": "stream",
     "text": [
      "Dropping features: ['age']\n"
     ]
    }
   ],
   "source": [
    "if len(excluded_features_columns) > 0:\n",
    "    print(f\"Dropping features: {excluded_features_columns}\")\n",
    "    X_calib.drop(excluded_features_columns, axis=1, inplace=True)"
   ]
  },
  {
   "cell_type": "code",
   "execution_count": 35,
   "id": "6727d079-03e5-481e-9d38-292a90b7a0a8",
   "metadata": {
    "execution": {
     "iopub.execute_input": "2025-07-30T13:31:56.620209Z",
     "iopub.status.busy": "2025-07-30T13:31:56.619584Z",
     "iopub.status.idle": "2025-07-30T13:31:56.625539Z",
     "shell.execute_reply": "2025-07-30T13:31:56.624502Z"
    },
    "papermill": {
     "duration": 0.0336,
     "end_time": "2025-07-30T13:31:56.627761",
     "exception": false,
     "start_time": "2025-07-30T13:31:56.594161",
     "status": "completed"
    },
    "tags": []
   },
   "outputs": [],
   "source": [
    "# SPLIT & STRATIFY DATA\n",
    "# ----------------------"
   ]
  },
  {
   "cell_type": "code",
   "execution_count": 36,
   "id": "76c4dc6d",
   "metadata": {
    "execution": {
     "iopub.execute_input": "2025-07-30T13:31:56.690843Z",
     "iopub.status.busy": "2025-07-30T13:31:56.690122Z",
     "iopub.status.idle": "2025-07-30T13:31:56.695930Z",
     "shell.execute_reply": "2025-07-30T13:31:56.694870Z"
    },
    "papermill": {
     "duration": 0.039131,
     "end_time": "2025-07-30T13:31:56.697843",
     "exception": false,
     "start_time": "2025-07-30T13:31:56.658712",
     "status": "completed"
    },
    "tags": []
   },
   "outputs": [],
   "source": [
    "# EXCLUDE CERTAIN SUBGROUPS\n",
    "# ----------------------\n",
    "\n",
    "mode = universe.get(\"exclude_subgroups\", \"keep-all\") \n",
    "# Fetches the exclude_subgroups setting from the universe dict.\n",
    "# Defaults to \"keep-all\" if the key is missing."
   ]
  },
  {
   "cell_type": "code",
   "execution_count": 37,
   "id": "21994072",
   "metadata": {
    "execution": {
     "iopub.execute_input": "2025-07-30T13:31:56.761828Z",
     "iopub.status.busy": "2025-07-30T13:31:56.761108Z",
     "iopub.status.idle": "2025-07-30T13:31:56.768950Z",
     "shell.execute_reply": "2025-07-30T13:31:56.767520Z"
    },
    "papermill": {
     "duration": 0.042079,
     "end_time": "2025-07-30T13:31:56.771183",
     "exception": false,
     "start_time": "2025-07-30T13:31:56.729104",
     "status": "completed"
    },
    "tags": []
   },
   "outputs": [],
   "source": [
    "if mode == \"keep-all\":\n",
    "    keep_mask = pd.Series(True, index=org_train.index)\n",
    "\n",
    "# org_train contains the original feature columns from features_org (in Simson)\n",
    "# features_org contains unprocessed features, for me X_train at beginning ???\n",
    "# For keep-all, creates a boolean Series (keep_mask) of all True, so no rows are removed.\n",
    "\n",
    "elif mode == \"drop-non-german\":\n",
    "    keep_mask = org_train[\"maxdeutsch1\"] == 1 # ??? what about missing values?\n",
    "\n",
    "else:\n",
    "    raise ValueError(f\"Unsupported mode for exclude_subgroups: {mode}\")\n"
   ]
  },
  {
   "cell_type": "code",
   "execution_count": 38,
   "id": "71651440",
   "metadata": {
    "execution": {
     "iopub.execute_input": "2025-07-30T13:31:56.835266Z",
     "iopub.status.busy": "2025-07-30T13:31:56.834723Z",
     "iopub.status.idle": "2025-07-30T13:31:56.842322Z",
     "shell.execute_reply": "2025-07-30T13:31:56.841085Z"
    },
    "papermill": {
     "duration": 0.042185,
     "end_time": "2025-07-30T13:31:56.844621",
     "exception": false,
     "start_time": "2025-07-30T13:31:56.802436",
     "status": "completed"
    },
    "tags": []
   },
   "outputs": [],
   "source": [
    "n_drop = (~keep_mask).sum() # Calculates how many rows are set to be dropped\n",
    "if n_drop > 0:\n",
    "    pct = n_drop / len(keep_mask) * 100\n",
    "    print(f\"Dropping {n_drop} rows ({pct:.2f}%) where mode='{mode}'\")"
   ]
  },
  {
   "cell_type": "code",
   "execution_count": 39,
   "id": "5fb8eee5",
   "metadata": {
    "execution": {
     "iopub.execute_input": "2025-07-30T13:31:56.908269Z",
     "iopub.status.busy": "2025-07-30T13:31:56.907735Z",
     "iopub.status.idle": "2025-07-30T13:31:56.923626Z",
     "shell.execute_reply": "2025-07-30T13:31:56.922377Z"
    },
    "papermill": {
     "duration": 0.050254,
     "end_time": "2025-07-30T13:31:56.925964",
     "exception": false,
     "start_time": "2025-07-30T13:31:56.875710",
     "status": "completed"
    },
    "tags": []
   },
   "outputs": [],
   "source": [
    "X_train = X_train[keep_mask]"
   ]
  },
  {
   "cell_type": "code",
   "execution_count": 40,
   "id": "b202bb3a",
   "metadata": {
    "execution": {
     "iopub.execute_input": "2025-07-30T13:31:56.989516Z",
     "iopub.status.busy": "2025-07-30T13:31:56.988987Z",
     "iopub.status.idle": "2025-07-30T13:31:56.996418Z",
     "shell.execute_reply": "2025-07-30T13:31:56.995170Z"
    },
    "papermill": {
     "duration": 0.044691,
     "end_time": "2025-07-30T13:31:57.001656",
     "exception": false,
     "start_time": "2025-07-30T13:31:56.956965",
     "status": "completed"
    },
    "tags": []
   },
   "outputs": [],
   "source": [
    "y_train = y_train[keep_mask]"
   ]
  },
  {
   "cell_type": "markdown",
   "id": "493e2ac3",
   "metadata": {
    "papermill": {
     "duration": 0.012835,
     "end_time": "2025-07-30T13:31:57.032310",
     "exception": false,
     "start_time": "2025-07-30T13:31:57.019475",
     "status": "completed"
    },
    "tags": []
   },
   "source": [
    "# Model Training"
   ]
  },
  {
   "cell_type": "code",
   "execution_count": 41,
   "id": "679e1268",
   "metadata": {
    "execution": {
     "iopub.execute_input": "2025-07-30T13:31:57.060284Z",
     "iopub.status.busy": "2025-07-30T13:31:57.059902Z",
     "iopub.status.idle": "2025-07-30T13:31:57.140017Z",
     "shell.execute_reply": "2025-07-30T13:31:57.139243Z"
    },
    "papermill": {
     "duration": 0.096293,
     "end_time": "2025-07-30T13:31:57.141660",
     "exception": false,
     "start_time": "2025-07-30T13:31:57.045367",
     "status": "completed"
    },
    "tags": []
   },
   "outputs": [],
   "source": [
    "from sklearn.linear_model import LogisticRegression\n",
    "from sklearn.ensemble import GradientBoostingClassifier, RandomForestClassifier\n",
    "\n",
    "if (universe[\"model\"] == \"logreg\"):\n",
    "    model = LogisticRegression() #penalty=\"none\") #, solver=\"newton-cg\", max_iter=1) # include random_state=19 ?\n",
    "elif (universe[\"model\"] == \"penalized_logreg\"):\n",
    "    model = LogisticRegression(penalty=\"l2\", C=1.0) #, solver=\"newton-cg\", max_iter=1)\n",
    "elif (universe[\"model\"] == \"rf\"):\n",
    "    model = RandomForestClassifier(n_estimators=100, n_jobs=-1)\n",
    "elif (universe[\"model\"] == \"gbm\"):\n",
    "    model = GradientBoostingClassifier()\n",
    "elif (universe[\"model\"] == \"elasticnet\"):\n",
    "    model = LogisticRegression(penalty = 'elasticnet', solver = 'saga', l1_ratio = 0.5, max_iter=5000) # which solver to use?\n",
    "else:\n",
    "    raise \"Unsupported universe.model\""
   ]
  },
  {
   "cell_type": "code",
   "execution_count": 42,
   "id": "0cc8f744",
   "metadata": {
    "execution": {
     "iopub.execute_input": "2025-07-30T13:31:57.171073Z",
     "iopub.status.busy": "2025-07-30T13:31:57.170546Z",
     "iopub.status.idle": "2025-07-30T13:31:57.176420Z",
     "shell.execute_reply": "2025-07-30T13:31:57.175605Z"
    },
    "papermill": {
     "duration": 0.022282,
     "end_time": "2025-07-30T13:31:57.177831",
     "exception": false,
     "start_time": "2025-07-30T13:31:57.155549",
     "status": "completed"
    },
    "tags": []
   },
   "outputs": [],
   "source": [
    "import numpy as np\n",
    "from sklearn.pipeline import Pipeline\n",
    "from sklearn.preprocessing import StandardScaler\n",
    "\n",
    "model = Pipeline([\n",
    "    #(\"continuous_processor\", continuous_processor),\n",
    "    #(\"categorical_preprocessor\", categorical_preprocessor),\n",
    "    (\"scale\", StandardScaler() if universe[\"scale\"] == \"scale\" else None), \n",
    "    (\"model\", model),\n",
    "])"
   ]
  },
  {
   "cell_type": "code",
   "execution_count": 43,
   "id": "9442c04d",
   "metadata": {
    "execution": {
     "iopub.execute_input": "2025-07-30T13:31:57.206930Z",
     "iopub.status.busy": "2025-07-30T13:31:57.206161Z",
     "iopub.status.idle": "2025-07-30T13:31:58.130442Z",
     "shell.execute_reply": "2025-07-30T13:31:58.129495Z"
    },
    "papermill": {
     "duration": 0.940457,
     "end_time": "2025-07-30T13:31:58.132198",
     "exception": false,
     "start_time": "2025-07-30T13:31:57.191741",
     "status": "completed"
    },
    "tags": []
   },
   "outputs": [
    {
     "name": "stderr",
     "output_type": "stream",
     "text": [
      "/dss/dsshome1/0C/ra93lal2/.local/share/virtualenvs/CMA_Fairness_v2-3j10GkSs/lib/python3.10/site-packages/sklearn/linear_model/_logistic.py:444: ConvergenceWarning: lbfgs failed to converge (status=1):\n",
      "STOP: TOTAL NO. of ITERATIONS REACHED LIMIT.\n",
      "\n",
      "Increase the number of iterations (max_iter) or scale the data as shown in:\n",
      "    https://scikit-learn.org/stable/modules/preprocessing.html\n",
      "Please also refer to the documentation for alternative solver options:\n",
      "    https://scikit-learn.org/stable/modules/linear_model.html#logistic-regression\n",
      "  n_iter_i = _check_optimize_result(\n"
     ]
    },
    {
     "data": {
      "text/html": [
       "<style>#sk-container-id-1 {color: black;background-color: white;}#sk-container-id-1 pre{padding: 0;}#sk-container-id-1 div.sk-toggleable {background-color: white;}#sk-container-id-1 label.sk-toggleable__label {cursor: pointer;display: block;width: 100%;margin-bottom: 0;padding: 0.3em;box-sizing: border-box;text-align: center;}#sk-container-id-1 label.sk-toggleable__label-arrow:before {content: \"▸\";float: left;margin-right: 0.25em;color: #696969;}#sk-container-id-1 label.sk-toggleable__label-arrow:hover:before {color: black;}#sk-container-id-1 div.sk-estimator:hover label.sk-toggleable__label-arrow:before {color: black;}#sk-container-id-1 div.sk-toggleable__content {max-height: 0;max-width: 0;overflow: hidden;text-align: left;background-color: #f0f8ff;}#sk-container-id-1 div.sk-toggleable__content pre {margin: 0.2em;color: black;border-radius: 0.25em;background-color: #f0f8ff;}#sk-container-id-1 input.sk-toggleable__control:checked~div.sk-toggleable__content {max-height: 200px;max-width: 100%;overflow: auto;}#sk-container-id-1 input.sk-toggleable__control:checked~label.sk-toggleable__label-arrow:before {content: \"▾\";}#sk-container-id-1 div.sk-estimator input.sk-toggleable__control:checked~label.sk-toggleable__label {background-color: #d4ebff;}#sk-container-id-1 div.sk-label input.sk-toggleable__control:checked~label.sk-toggleable__label {background-color: #d4ebff;}#sk-container-id-1 input.sk-hidden--visually {border: 0;clip: rect(1px 1px 1px 1px);clip: rect(1px, 1px, 1px, 1px);height: 1px;margin: -1px;overflow: hidden;padding: 0;position: absolute;width: 1px;}#sk-container-id-1 div.sk-estimator {font-family: monospace;background-color: #f0f8ff;border: 1px dotted black;border-radius: 0.25em;box-sizing: border-box;margin-bottom: 0.5em;}#sk-container-id-1 div.sk-estimator:hover {background-color: #d4ebff;}#sk-container-id-1 div.sk-parallel-item::after {content: \"\";width: 100%;border-bottom: 1px solid gray;flex-grow: 1;}#sk-container-id-1 div.sk-label:hover label.sk-toggleable__label {background-color: #d4ebff;}#sk-container-id-1 div.sk-serial::before {content: \"\";position: absolute;border-left: 1px solid gray;box-sizing: border-box;top: 0;bottom: 0;left: 50%;z-index: 0;}#sk-container-id-1 div.sk-serial {display: flex;flex-direction: column;align-items: center;background-color: white;padding-right: 0.2em;padding-left: 0.2em;position: relative;}#sk-container-id-1 div.sk-item {position: relative;z-index: 1;}#sk-container-id-1 div.sk-parallel {display: flex;align-items: stretch;justify-content: center;background-color: white;position: relative;}#sk-container-id-1 div.sk-item::before, #sk-container-id-1 div.sk-parallel-item::before {content: \"\";position: absolute;border-left: 1px solid gray;box-sizing: border-box;top: 0;bottom: 0;left: 50%;z-index: -1;}#sk-container-id-1 div.sk-parallel-item {display: flex;flex-direction: column;z-index: 1;position: relative;background-color: white;}#sk-container-id-1 div.sk-parallel-item:first-child::after {align-self: flex-end;width: 50%;}#sk-container-id-1 div.sk-parallel-item:last-child::after {align-self: flex-start;width: 50%;}#sk-container-id-1 div.sk-parallel-item:only-child::after {width: 0;}#sk-container-id-1 div.sk-dashed-wrapped {border: 1px dashed gray;margin: 0 0.4em 0.5em 0.4em;box-sizing: border-box;padding-bottom: 0.4em;background-color: white;}#sk-container-id-1 div.sk-label label {font-family: monospace;font-weight: bold;display: inline-block;line-height: 1.2em;}#sk-container-id-1 div.sk-label-container {text-align: center;}#sk-container-id-1 div.sk-container {/* jupyter's `normalize.less` sets `[hidden] { display: none; }` but bootstrap.min.css set `[hidden] { display: none !important; }` so we also need the `!important` here to be able to override the default hidden behavior on the sphinx rendered scikit-learn.org. See: https://github.com/scikit-learn/scikit-learn/issues/21755 */display: inline-block !important;position: relative;}#sk-container-id-1 div.sk-text-repr-fallback {display: none;}</style><div id=\"sk-container-id-1\" class=\"sk-top-container\"><div class=\"sk-text-repr-fallback\"><pre>Pipeline(steps=[(&#x27;scale&#x27;, None), (&#x27;model&#x27;, LogisticRegression())])</pre><b>In a Jupyter environment, please rerun this cell to show the HTML representation or trust the notebook. <br />On GitHub, the HTML representation is unable to render, please try loading this page with nbviewer.org.</b></div><div class=\"sk-container\" hidden><div class=\"sk-item sk-dashed-wrapped\"><div class=\"sk-label-container\"><div class=\"sk-label sk-toggleable\"><input class=\"sk-toggleable__control sk-hidden--visually\" id=\"sk-estimator-id-1\" type=\"checkbox\" ><label for=\"sk-estimator-id-1\" class=\"sk-toggleable__label sk-toggleable__label-arrow\">Pipeline</label><div class=\"sk-toggleable__content\"><pre>Pipeline(steps=[(&#x27;scale&#x27;, None), (&#x27;model&#x27;, LogisticRegression())])</pre></div></div></div><div class=\"sk-serial\"><div class=\"sk-item\"><div class=\"sk-estimator sk-toggleable\"><input class=\"sk-toggleable__control sk-hidden--visually\" id=\"sk-estimator-id-2\" type=\"checkbox\" ><label for=\"sk-estimator-id-2\" class=\"sk-toggleable__label sk-toggleable__label-arrow\">None</label><div class=\"sk-toggleable__content\"><pre>None</pre></div></div></div><div class=\"sk-item\"><div class=\"sk-estimator sk-toggleable\"><input class=\"sk-toggleable__control sk-hidden--visually\" id=\"sk-estimator-id-3\" type=\"checkbox\" ><label for=\"sk-estimator-id-3\" class=\"sk-toggleable__label sk-toggleable__label-arrow\">LogisticRegression</label><div class=\"sk-toggleable__content\"><pre>LogisticRegression()</pre></div></div></div></div></div></div></div>"
      ],
      "text/plain": [
       "Pipeline(steps=[('scale', None), ('model', LogisticRegression())])"
      ]
     },
     "execution_count": 43,
     "metadata": {},
     "output_type": "execute_result"
    }
   ],
   "source": [
    "model.fit(X_train, y_train.values.ravel())"
   ]
  },
  {
   "cell_type": "code",
   "execution_count": 44,
   "id": "af59f8c0",
   "metadata": {
    "execution": {
     "iopub.execute_input": "2025-07-30T13:31:58.185182Z",
     "iopub.status.busy": "2025-07-30T13:31:58.184464Z",
     "iopub.status.idle": "2025-07-30T13:31:58.190130Z",
     "shell.execute_reply": "2025-07-30T13:31:58.189208Z"
    },
    "papermill": {
     "duration": 0.034833,
     "end_time": "2025-07-30T13:31:58.191833",
     "exception": false,
     "start_time": "2025-07-30T13:31:58.157000",
     "status": "completed"
    },
    "tags": []
   },
   "outputs": [],
   "source": [
    "from fairness_multiverse.universe import predict_w_threshold"
   ]
  },
  {
   "cell_type": "code",
   "execution_count": 45,
   "id": "a7cf2e16",
   "metadata": {
    "execution": {
     "iopub.execute_input": "2025-07-30T13:31:58.243205Z",
     "iopub.status.busy": "2025-07-30T13:31:58.242466Z",
     "iopub.status.idle": "2025-07-30T13:31:58.345440Z",
     "shell.execute_reply": "2025-07-30T13:31:58.344114Z"
    },
    "papermill": {
     "duration": 0.129315,
     "end_time": "2025-07-30T13:31:58.347067",
     "exception": false,
     "start_time": "2025-07-30T13:31:58.217752",
     "status": "completed"
    },
    "tags": []
   },
   "outputs": [
    {
     "data": {
      "text/plain": [
       "0.8623341879389143"
      ]
     },
     "execution_count": 45,
     "metadata": {},
     "output_type": "execute_result"
    }
   ],
   "source": [
    "probs_test = model.predict_proba(X_test)\n",
    "\n",
    "'''\n",
    "Below code returns a boolean array (or binary 0/1 array depending on how it’s used) where each element \n",
    "is True if the probability of class 1 is greater than or equal to the threshold, and False otherwise.\n",
    "'''\n",
    "y_pred_default = predict_w_threshold(probs_test, 0.5)\n",
    "\n",
    "from sklearn.metrics import accuracy_score\n",
    "\n",
    "# Naive prediction\n",
    "accuracy_score(y_true = y_true, y_pred = y_pred_default)"
   ]
  },
  {
   "cell_type": "code",
   "execution_count": 46,
   "id": "081964c3",
   "metadata": {
    "execution": {
     "iopub.execute_input": "2025-07-30T13:31:58.415569Z",
     "iopub.status.busy": "2025-07-30T13:31:58.415034Z",
     "iopub.status.idle": "2025-07-30T13:31:58.541072Z",
     "shell.execute_reply": "2025-07-30T13:31:58.539879Z"
    },
    "papermill": {
     "duration": 0.163478,
     "end_time": "2025-07-30T13:31:58.542970",
     "exception": false,
     "start_time": "2025-07-30T13:31:58.379492",
     "status": "completed"
    },
    "tags": []
   },
   "outputs": [
    {
     "data": {
      "text/plain": [
       "array([0, 0, 0, ..., 0, 0, 0])"
      ]
     },
     "execution_count": 46,
     "metadata": {},
     "output_type": "execute_result"
    }
   ],
   "source": [
    "model.predict(X_test)"
   ]
  },
  {
   "cell_type": "markdown",
   "id": "56c9705b",
   "metadata": {
    "papermill": {
     "duration": 0.026389,
     "end_time": "2025-07-30T13:31:58.595094",
     "exception": false,
     "start_time": "2025-07-30T13:31:58.568705",
     "status": "completed"
    },
    "tags": []
   },
   "source": [
    "# Conformal Prediction"
   ]
  },
  {
   "cell_type": "code",
   "execution_count": 47,
   "id": "160ec6ff",
   "metadata": {
    "execution": {
     "iopub.execute_input": "2025-07-30T13:31:58.648296Z",
     "iopub.status.busy": "2025-07-30T13:31:58.647655Z",
     "iopub.status.idle": "2025-07-30T13:31:58.654028Z",
     "shell.execute_reply": "2025-07-30T13:31:58.652860Z"
    },
    "papermill": {
     "duration": 0.034335,
     "end_time": "2025-07-30T13:31:58.655826",
     "exception": false,
     "start_time": "2025-07-30T13:31:58.621491",
     "status": "completed"
    },
    "tags": []
   },
   "outputs": [],
   "source": [
    "# Miscoverage level for conformal prediction (10% allowed error rate => 90% target coverage)\n",
    "alpha = 0.1"
   ]
  },
  {
   "cell_type": "code",
   "execution_count": 48,
   "id": "eadf4555-3dd3-440e-8e35-f82a4ad9f855",
   "metadata": {
    "execution": {
     "iopub.execute_input": "2025-07-30T13:31:58.709300Z",
     "iopub.status.busy": "2025-07-30T13:31:58.708269Z",
     "iopub.status.idle": "2025-07-30T13:31:58.848298Z",
     "shell.execute_reply": "2025-07-30T13:31:58.847091Z"
    },
    "papermill": {
     "duration": 0.168468,
     "end_time": "2025-07-30T13:31:58.850408",
     "exception": false,
     "start_time": "2025-07-30T13:31:58.681940",
     "status": "completed"
    },
    "tags": []
   },
   "outputs": [],
   "source": [
    "probs_calib = model.predict_proba(X_calib)"
   ]
  },
  {
   "cell_type": "code",
   "execution_count": 49,
   "id": "2ed93547-6d5d-4983-9b36-1ecb300da49a",
   "metadata": {
    "execution": {
     "iopub.execute_input": "2025-07-30T13:31:58.905612Z",
     "iopub.status.busy": "2025-07-30T13:31:58.905014Z",
     "iopub.status.idle": "2025-07-30T13:31:58.912811Z",
     "shell.execute_reply": "2025-07-30T13:31:58.911394Z"
    },
    "papermill": {
     "duration": 0.037739,
     "end_time": "2025-07-30T13:31:58.914914",
     "exception": false,
     "start_time": "2025-07-30T13:31:58.877175",
     "status": "completed"
    },
    "tags": []
   },
   "outputs": [],
   "source": [
    "y_calib = y_calib.values.ravel().astype(int)"
   ]
  },
  {
   "cell_type": "code",
   "execution_count": 50,
   "id": "65d1320d-f588-4b38-9072-62af1ae97f7d",
   "metadata": {
    "execution": {
     "iopub.execute_input": "2025-07-30T13:31:58.981862Z",
     "iopub.status.busy": "2025-07-30T13:31:58.981006Z",
     "iopub.status.idle": "2025-07-30T13:31:58.992638Z",
     "shell.execute_reply": "2025-07-30T13:31:58.991332Z"
    },
    "papermill": {
     "duration": 0.047887,
     "end_time": "2025-07-30T13:31:58.995022",
     "exception": false,
     "start_time": "2025-07-30T13:31:58.947135",
     "status": "completed"
    },
    "tags": []
   },
   "outputs": [],
   "source": [
    "from fairness_multiverse.conformal import compute_nc_scores\n",
    "\n",
    "# Compute nonconformity scores on calibration set (1 - probability of true class)\n",
    "nc_scores = compute_nc_scores(probs_calib, y_calib)"
   ]
  },
  {
   "cell_type": "code",
   "execution_count": 51,
   "id": "df3b8ca3-53b7-43d5-9667-7c85da7aeda2",
   "metadata": {
    "execution": {
     "iopub.execute_input": "2025-07-30T13:31:59.061650Z",
     "iopub.status.busy": "2025-07-30T13:31:59.060709Z",
     "iopub.status.idle": "2025-07-30T13:31:59.069670Z",
     "shell.execute_reply": "2025-07-30T13:31:59.068431Z"
    },
    "papermill": {
     "duration": 0.044746,
     "end_time": "2025-07-30T13:31:59.071972",
     "exception": false,
     "start_time": "2025-07-30T13:31:59.027226",
     "status": "completed"
    },
    "tags": []
   },
   "outputs": [],
   "source": [
    "from fairness_multiverse.conformal import find_threshold\n",
    "\n",
    "# Find conformal threshold q_hat for the given alpha (split conformal method)\n",
    "q_hat = find_threshold(nc_scores, alpha)"
   ]
  },
  {
   "cell_type": "code",
   "execution_count": 52,
   "id": "4d29e6c1-0ef6-4aa4-b8fe-4fe79b0d033a",
   "metadata": {
    "execution": {
     "iopub.execute_input": "2025-07-30T13:31:59.144678Z",
     "iopub.status.busy": "2025-07-30T13:31:59.143897Z",
     "iopub.status.idle": "2025-07-30T13:31:59.153229Z",
     "shell.execute_reply": "2025-07-30T13:31:59.151764Z"
    },
    "papermill": {
     "duration": 0.048256,
     "end_time": "2025-07-30T13:31:59.155441",
     "exception": false,
     "start_time": "2025-07-30T13:31:59.107185",
     "status": "completed"
    },
    "tags": []
   },
   "outputs": [
    {
     "data": {
      "text/plain": [
       "0.661675076099686"
      ]
     },
     "execution_count": 52,
     "metadata": {},
     "output_type": "execute_result"
    }
   ],
   "source": [
    "q_hat"
   ]
  },
  {
   "cell_type": "code",
   "execution_count": 53,
   "id": "92460794-cdac-4be2-ba28-f28c0515a6fb",
   "metadata": {
    "execution": {
     "iopub.execute_input": "2025-07-30T13:31:59.228621Z",
     "iopub.status.busy": "2025-07-30T13:31:59.227554Z",
     "iopub.status.idle": "2025-07-30T13:31:59.951858Z",
     "shell.execute_reply": "2025-07-30T13:31:59.951094Z"
    },
    "papermill": {
     "duration": 0.762448,
     "end_time": "2025-07-30T13:31:59.953435",
     "exception": false,
     "start_time": "2025-07-30T13:31:59.190987",
     "status": "completed"
    },
    "tags": []
   },
   "outputs": [],
   "source": [
    "from fairness_multiverse.conformal import predict_conformal_sets\n",
    "\n",
    "# Generate prediction sets for each test example\n",
    "pred_sets = predict_conformal_sets(model, X_test, q_hat)"
   ]
  },
  {
   "cell_type": "code",
   "execution_count": 54,
   "id": "d90c9a65-e6db-4f5d-80cd-e68fb7e46829",
   "metadata": {
    "execution": {
     "iopub.execute_input": "2025-07-30T13:31:59.995200Z",
     "iopub.status.busy": "2025-07-30T13:31:59.994726Z",
     "iopub.status.idle": "2025-07-30T13:32:00.016106Z",
     "shell.execute_reply": "2025-07-30T13:31:59.999337Z"
    },
    "papermill": {
     "duration": 0.04838,
     "end_time": "2025-07-30T13:32:00.017582",
     "exception": false,
     "start_time": "2025-07-30T13:31:59.969202",
     "status": "completed"
    },
    "tags": []
   },
   "outputs": [],
   "source": [
    "y_true = y_true.squeeze()"
   ]
  },
  {
   "cell_type": "code",
   "execution_count": 55,
   "id": "3a58a54a-1e68-46b9-927a-df01f18aebc8",
   "metadata": {
    "execution": {
     "iopub.execute_input": "2025-07-30T13:32:00.075154Z",
     "iopub.status.busy": "2025-07-30T13:32:00.074657Z",
     "iopub.status.idle": "2025-07-30T13:32:00.999657Z",
     "shell.execute_reply": "2025-07-30T13:32:00.998364Z"
    },
    "papermill": {
     "duration": 0.955438,
     "end_time": "2025-07-30T13:32:01.002383",
     "exception": false,
     "start_time": "2025-07-30T13:32:00.046945",
     "status": "completed"
    },
    "tags": []
   },
   "outputs": [],
   "source": [
    "from fairness_multiverse.conformal import evaluate_sets\n",
    "\n",
    "# Evaluate coverage and average set size on test data\n",
    "metrics = evaluate_sets(pred_sets, y_true)"
   ]
  },
  {
   "cell_type": "markdown",
   "id": "2b569c12-9aaa-4c88-98c9-bbcd0cf3ebb8",
   "metadata": {
    "papermill": {
     "duration": 0.038875,
     "end_time": "2025-07-30T13:32:01.078557",
     "exception": false,
     "start_time": "2025-07-30T13:32:01.039682",
     "status": "completed"
    },
    "tags": []
   },
   "source": [
    "# CP Metrics"
   ]
  },
  {
   "cell_type": "code",
   "execution_count": 56,
   "id": "5ce0a5cb-201f-45a0-ade5-94c7f0bd6095",
   "metadata": {
    "execution": {
     "iopub.execute_input": "2025-07-30T13:32:01.145497Z",
     "iopub.status.busy": "2025-07-30T13:32:01.144425Z",
     "iopub.status.idle": "2025-07-30T13:32:01.151819Z",
     "shell.execute_reply": "2025-07-30T13:32:01.150805Z"
    },
    "papermill": {
     "duration": 0.04812,
     "end_time": "2025-07-30T13:32:01.154186",
     "exception": false,
     "start_time": "2025-07-30T13:32:01.106066",
     "status": "completed"
    },
    "tags": []
   },
   "outputs": [
    {
     "data": {
      "text/plain": [
       "{'coverage': 0.9129194069780403, 'avg_size': 1.2514658343551444}"
      ]
     },
     "execution_count": 56,
     "metadata": {},
     "output_type": "execute_result"
    }
   ],
   "source": [
    "metrics"
   ]
  },
  {
   "cell_type": "code",
   "execution_count": 57,
   "id": "9b9a838d-31c9-430b-ae14-12baee460d17",
   "metadata": {
    "execution": {
     "iopub.execute_input": "2025-07-30T13:32:01.230622Z",
     "iopub.status.busy": "2025-07-30T13:32:01.229947Z",
     "iopub.status.idle": "2025-07-30T13:32:01.238498Z",
     "shell.execute_reply": "2025-07-30T13:32:01.237221Z"
    },
    "papermill": {
     "duration": 0.048902,
     "end_time": "2025-07-30T13:32:01.240656",
     "exception": false,
     "start_time": "2025-07-30T13:32:01.191754",
     "status": "completed"
    },
    "tags": []
   },
   "outputs": [],
   "source": [
    "example_universe = universe.copy()\n",
    "universe_training_size = example_universe.get(\"training_size\")\n",
    "universe_scale = example_universe.get(\"scale\")\n",
    "universe_model = example_universe.get(\"model\")\n",
    "universe_exclude_features = example_universe.get(\"exclude_features\")\n",
    "universe_exclude_subgroups = example_universe.get(\"exclude_subgroups\")"
   ]
  },
  {
   "cell_type": "code",
   "execution_count": 58,
   "id": "f4b6a8ac-9dc0-4245-8a91-5b3b5999c4f9",
   "metadata": {
    "execution": {
     "iopub.execute_input": "2025-07-30T13:32:01.316270Z",
     "iopub.status.busy": "2025-07-30T13:32:01.315438Z",
     "iopub.status.idle": "2025-07-30T13:32:01.324395Z",
     "shell.execute_reply": "2025-07-30T13:32:01.322832Z"
    },
    "papermill": {
     "duration": 0.051149,
     "end_time": "2025-07-30T13:32:01.327967",
     "exception": false,
     "start_time": "2025-07-30T13:32:01.276818",
     "status": "completed"
    },
    "tags": []
   },
   "outputs": [],
   "source": [
    "cp_metrics_dict = {\n",
    "    \"universe_id\": [universe_id],\n",
    "    \"universe_training_size\": [universe_training_size],\n",
    "    \"universe_scale\": [universe_scale],\n",
    "    \"universe_model\": [universe_model],\n",
    "    \"universe_exclude_features\": [universe_exclude_features],\n",
    "    \"universe_exclude_subgroups\": [universe_exclude_subgroups],\n",
    "    \"q_hat\": [q_hat],\n",
    "    \"coverage\": [metrics[\"coverage\"]],\n",
    "    \"avg_size\": [metrics[\"avg_size\"]],\n",
    "}"
   ]
  },
  {
   "cell_type": "code",
   "execution_count": 59,
   "id": "908acbb1-0371-4915-85ca-3fa520d2efe2",
   "metadata": {
    "execution": {
     "iopub.execute_input": "2025-07-30T13:32:01.403377Z",
     "iopub.status.busy": "2025-07-30T13:32:01.402721Z",
     "iopub.status.idle": "2025-07-30T13:32:01.412009Z",
     "shell.execute_reply": "2025-07-30T13:32:01.410915Z"
    },
    "papermill": {
     "duration": 0.049504,
     "end_time": "2025-07-30T13:32:01.414665",
     "exception": false,
     "start_time": "2025-07-30T13:32:01.365161",
     "status": "completed"
    },
    "tags": []
   },
   "outputs": [
    {
     "data": {
      "text/plain": [
       "{'universe_id': ['fe07dd8533d68c04238a04caaaaa9b9a'],\n",
       " 'universe_training_size': ['25k'],\n",
       " 'universe_scale': ['do-not-scale'],\n",
       " 'universe_model': ['penalized_logreg'],\n",
       " 'universe_exclude_features': ['age'],\n",
       " 'universe_exclude_subgroups': ['keep-all'],\n",
       " 'q_hat': [0.661675076099686],\n",
       " 'coverage': [0.9129194069780403],\n",
       " 'avg_size': [1.2514658343551444]}"
      ]
     },
     "execution_count": 59,
     "metadata": {},
     "output_type": "execute_result"
    }
   ],
   "source": [
    "cp_metrics_dict"
   ]
  },
  {
   "cell_type": "code",
   "execution_count": 60,
   "id": "33007efc-14e9-4ec6-97ac-56a455c82265",
   "metadata": {
    "execution": {
     "iopub.execute_input": "2025-07-30T13:32:01.493664Z",
     "iopub.status.busy": "2025-07-30T13:32:01.493121Z",
     "iopub.status.idle": "2025-07-30T13:32:01.501620Z",
     "shell.execute_reply": "2025-07-30T13:32:01.500454Z"
    },
    "papermill": {
     "duration": 0.049267,
     "end_time": "2025-07-30T13:32:01.503391",
     "exception": false,
     "start_time": "2025-07-30T13:32:01.454124",
     "status": "completed"
    },
    "tags": []
   },
   "outputs": [],
   "source": [
    "cp_metrics_df = pd.DataFrame(cp_metrics_dict)"
   ]
  },
  {
   "cell_type": "code",
   "execution_count": 61,
   "id": "db12611b-57b2-4910-b9d0-355adfd6e7bf",
   "metadata": {
    "execution": {
     "iopub.execute_input": "2025-07-30T13:32:01.537349Z",
     "iopub.status.busy": "2025-07-30T13:32:01.536385Z",
     "iopub.status.idle": "2025-07-30T13:32:01.558906Z",
     "shell.execute_reply": "2025-07-30T13:32:01.557884Z"
    },
    "papermill": {
     "duration": 0.041872,
     "end_time": "2025-07-30T13:32:01.561024",
     "exception": false,
     "start_time": "2025-07-30T13:32:01.519152",
     "status": "completed"
    },
    "tags": []
   },
   "outputs": [
    {
     "data": {
      "text/html": [
       "<div>\n",
       "<style scoped>\n",
       "    .dataframe tbody tr th:only-of-type {\n",
       "        vertical-align: middle;\n",
       "    }\n",
       "\n",
       "    .dataframe tbody tr th {\n",
       "        vertical-align: top;\n",
       "    }\n",
       "\n",
       "    .dataframe thead th {\n",
       "        text-align: right;\n",
       "    }\n",
       "</style>\n",
       "<table border=\"1\" class=\"dataframe\">\n",
       "  <thead>\n",
       "    <tr style=\"text-align: right;\">\n",
       "      <th></th>\n",
       "      <th>universe_id</th>\n",
       "      <th>universe_training_size</th>\n",
       "      <th>universe_scale</th>\n",
       "      <th>universe_model</th>\n",
       "      <th>universe_exclude_features</th>\n",
       "      <th>universe_exclude_subgroups</th>\n",
       "      <th>q_hat</th>\n",
       "      <th>coverage</th>\n",
       "      <th>avg_size</th>\n",
       "    </tr>\n",
       "  </thead>\n",
       "  <tbody>\n",
       "    <tr>\n",
       "      <th>0</th>\n",
       "      <td>fe07dd8533d68c04238a04caaaaa9b9a</td>\n",
       "      <td>25k</td>\n",
       "      <td>do-not-scale</td>\n",
       "      <td>penalized_logreg</td>\n",
       "      <td>age</td>\n",
       "      <td>keep-all</td>\n",
       "      <td>0.661675</td>\n",
       "      <td>0.912919</td>\n",
       "      <td>1.251466</td>\n",
       "    </tr>\n",
       "  </tbody>\n",
       "</table>\n",
       "</div>"
      ],
      "text/plain": [
       "                        universe_id universe_training_size universe_scale  \\\n",
       "0  fe07dd8533d68c04238a04caaaaa9b9a                    25k   do-not-scale   \n",
       "\n",
       "     universe_model universe_exclude_features universe_exclude_subgroups  \\\n",
       "0  penalized_logreg                       age                   keep-all   \n",
       "\n",
       "      q_hat  coverage  avg_size  \n",
       "0  0.661675  0.912919  1.251466  "
      ]
     },
     "execution_count": 61,
     "metadata": {},
     "output_type": "execute_result"
    }
   ],
   "source": [
    "cp_metrics_df"
   ]
  },
  {
   "cell_type": "code",
   "execution_count": 62,
   "id": "b7fbde55-a0a1-47e4-9af6-fe4a17fa8c61",
   "metadata": {
    "execution": {
     "iopub.execute_input": "2025-07-30T13:32:01.617347Z",
     "iopub.status.busy": "2025-07-30T13:32:01.616215Z",
     "iopub.status.idle": "2025-07-30T13:32:01.623171Z",
     "shell.execute_reply": "2025-07-30T13:32:01.622038Z"
    },
    "papermill": {
     "duration": 0.037428,
     "end_time": "2025-07-30T13:32:01.624854",
     "exception": false,
     "start_time": "2025-07-30T13:32:01.587426",
     "status": "completed"
    },
    "tags": []
   },
   "outputs": [],
   "source": [
    "# Conditional Coverage & looking at subgroups"
   ]
  },
  {
   "cell_type": "code",
   "execution_count": 63,
   "id": "027ae886-68dd-4141-96c7-805a5450e1ef",
   "metadata": {
    "execution": {
     "iopub.execute_input": "2025-07-30T13:32:01.679193Z",
     "iopub.status.busy": "2025-07-30T13:32:01.678537Z",
     "iopub.status.idle": "2025-07-30T13:32:01.995956Z",
     "shell.execute_reply": "2025-07-30T13:32:01.995014Z"
    },
    "papermill": {
     "duration": 0.346135,
     "end_time": "2025-07-30T13:32:01.998001",
     "exception": false,
     "start_time": "2025-07-30T13:32:01.651866",
     "status": "completed"
    },
    "tags": []
   },
   "outputs": [],
   "source": [
    "from fairness_multiverse.conformal import build_cp_groups\n",
    "\n",
    "cp_groups_df = build_cp_groups(pred_sets, y_true, X_test.index, org_test)\n",
    "#needs universe_id and setting"
   ]
  },
  {
   "cell_type": "code",
   "execution_count": 64,
   "id": "01d5802c-663a-4d1f-9d69-e036faaffbf7",
   "metadata": {
    "execution": {
     "iopub.execute_input": "2025-07-30T13:32:02.054362Z",
     "iopub.status.busy": "2025-07-30T13:32:02.053875Z",
     "iopub.status.idle": "2025-07-30T13:32:02.060213Z",
     "shell.execute_reply": "2025-07-30T13:32:02.058922Z"
    },
    "papermill": {
     "duration": 0.04503,
     "end_time": "2025-07-30T13:32:02.069787",
     "exception": false,
     "start_time": "2025-07-30T13:32:02.024757",
     "status": "completed"
    },
    "tags": []
   },
   "outputs": [],
   "source": [
    "#delete\n",
    "#cp_groups_df"
   ]
  },
  {
   "cell_type": "code",
   "execution_count": 65,
   "id": "fa424af1-d1eb-443d-b717-2d279ada8408",
   "metadata": {
    "execution": {
     "iopub.execute_input": "2025-07-30T13:32:02.170794Z",
     "iopub.status.busy": "2025-07-30T13:32:02.170410Z",
     "iopub.status.idle": "2025-07-30T13:32:02.175517Z",
     "shell.execute_reply": "2025-07-30T13:32:02.174564Z"
    },
    "papermill": {
     "duration": 0.060948,
     "end_time": "2025-07-30T13:32:02.177601",
     "exception": false,
     "start_time": "2025-07-30T13:32:02.116653",
     "status": "completed"
    },
    "tags": []
   },
   "outputs": [],
   "source": [
    "#delete\n",
    "#percentage = (cp_groups_df['nongerman_female'] == 1).mean() * 100\n",
    "#print(percentage)\n"
   ]
  },
  {
   "cell_type": "code",
   "execution_count": 66,
   "id": "6cbdab96-b2b2-45af-ad54-d0516db2e28d",
   "metadata": {
    "execution": {
     "iopub.execute_input": "2025-07-30T13:32:02.297373Z",
     "iopub.status.busy": "2025-07-30T13:32:02.296953Z",
     "iopub.status.idle": "2025-07-30T13:32:05.326335Z",
     "shell.execute_reply": "2025-07-30T13:32:05.325239Z"
    },
    "papermill": {
     "duration": 3.080227,
     "end_time": "2025-07-30T13:32:05.328480",
     "exception": false,
     "start_time": "2025-07-30T13:32:02.248253",
     "status": "completed"
    },
    "tags": []
   },
   "outputs": [],
   "source": [
    "# Define covered = 1 if true_label is in the predicted set\n",
    "cp_groups_df['covered'] = cp_groups_df.apply(\n",
    "    lambda r: int(r['true_label'] in r['pred_set']),\n",
    "    axis=1\n",
    ")"
   ]
  },
  {
   "cell_type": "code",
   "execution_count": 67,
   "id": "338ff529-1a6b-4b87-a931-8e4788d52aad",
   "metadata": {
    "execution": {
     "iopub.execute_input": "2025-07-30T13:32:05.487417Z",
     "iopub.status.busy": "2025-07-30T13:32:05.486704Z",
     "iopub.status.idle": "2025-07-30T13:32:05.492162Z",
     "shell.execute_reply": "2025-07-30T13:32:05.490996Z"
    },
    "papermill": {
     "duration": 0.087851,
     "end_time": "2025-07-30T13:32:05.494420",
     "exception": false,
     "start_time": "2025-07-30T13:32:05.406569",
     "status": "completed"
    },
    "tags": []
   },
   "outputs": [],
   "source": [
    "#cp_groups_df"
   ]
  },
  {
   "cell_type": "code",
   "execution_count": 68,
   "id": "90032e27-66df-4540-9169-4e89cfbaa758",
   "metadata": {
    "execution": {
     "iopub.execute_input": "2025-07-30T13:32:05.553644Z",
     "iopub.status.busy": "2025-07-30T13:32:05.551619Z",
     "iopub.status.idle": "2025-07-30T13:32:05.566148Z",
     "shell.execute_reply": "2025-07-30T13:32:05.564832Z"
    },
    "papermill": {
     "duration": 0.047006,
     "end_time": "2025-07-30T13:32:05.570031",
     "exception": false,
     "start_time": "2025-07-30T13:32:05.523025",
     "status": "completed"
    },
    "tags": []
   },
   "outputs": [],
   "source": [
    "subgroups = ['frau1','nongerman','nongerman_male','nongerman_female']\n",
    "\n",
    "# Conditional coverage for subgroup==1\n",
    "cond_coverage = {\n",
    "    g: cp_groups_df.loc[cp_groups_df[g]==1, 'covered'].mean()\n",
    "    for g in subgroups\n",
    "}"
   ]
  },
  {
   "cell_type": "code",
   "execution_count": 69,
   "id": "1e348fb1-b9c3-45bc-ba23-f016827a7e0d",
   "metadata": {
    "execution": {
     "iopub.execute_input": "2025-07-30T13:32:05.716678Z",
     "iopub.status.busy": "2025-07-30T13:32:05.715887Z",
     "iopub.status.idle": "2025-07-30T13:32:05.724006Z",
     "shell.execute_reply": "2025-07-30T13:32:05.722925Z"
    },
    "papermill": {
     "duration": 0.090873,
     "end_time": "2025-07-30T13:32:05.725554",
     "exception": false,
     "start_time": "2025-07-30T13:32:05.634681",
     "status": "completed"
    },
    "tags": []
   },
   "outputs": [
    {
     "data": {
      "text/plain": [
       "{'frau1': 0.913088017252999,\n",
       " 'nongerman': 0.9627238533655196,\n",
       " 'nongerman_male': 0.968386922453391,\n",
       " 'nongerman_female': 0.9533532041728763}"
      ]
     },
     "execution_count": 69,
     "metadata": {},
     "output_type": "execute_result"
    }
   ],
   "source": [
    "cond_coverage"
   ]
  },
  {
   "cell_type": "code",
   "execution_count": 70,
   "id": "f5093324-c3dd-4d63-bc4c-8d945e5c8bbb",
   "metadata": {
    "execution": {
     "iopub.execute_input": "2025-07-30T13:32:05.789292Z",
     "iopub.status.busy": "2025-07-30T13:32:05.788840Z",
     "iopub.status.idle": "2025-07-30T13:32:05.797489Z",
     "shell.execute_reply": "2025-07-30T13:32:05.796083Z"
    },
    "papermill": {
     "duration": 0.030436,
     "end_time": "2025-07-30T13:32:05.799355",
     "exception": false,
     "start_time": "2025-07-30T13:32:05.768919",
     "status": "completed"
    },
    "tags": []
   },
   "outputs": [],
   "source": [
    "for subgroup, cov in cond_coverage.items():\n",
    "    cp_metrics_df[f\"cov_{subgroup}\"] = cov"
   ]
  },
  {
   "cell_type": "code",
   "execution_count": 71,
   "id": "6e872e10-dbe5-49e8-b554-5030c98ff75d",
   "metadata": {
    "execution": {
     "iopub.execute_input": "2025-07-30T13:32:05.858837Z",
     "iopub.status.busy": "2025-07-30T13:32:05.858002Z",
     "iopub.status.idle": "2025-07-30T13:32:05.872850Z",
     "shell.execute_reply": "2025-07-30T13:32:05.872023Z"
    },
    "papermill": {
     "duration": 0.046486,
     "end_time": "2025-07-30T13:32:05.874119",
     "exception": false,
     "start_time": "2025-07-30T13:32:05.827633",
     "status": "completed"
    },
    "tags": []
   },
   "outputs": [
    {
     "data": {
      "text/html": [
       "<div>\n",
       "<style scoped>\n",
       "    .dataframe tbody tr th:only-of-type {\n",
       "        vertical-align: middle;\n",
       "    }\n",
       "\n",
       "    .dataframe tbody tr th {\n",
       "        vertical-align: top;\n",
       "    }\n",
       "\n",
       "    .dataframe thead th {\n",
       "        text-align: right;\n",
       "    }\n",
       "</style>\n",
       "<table border=\"1\" class=\"dataframe\">\n",
       "  <thead>\n",
       "    <tr style=\"text-align: right;\">\n",
       "      <th></th>\n",
       "      <th>universe_id</th>\n",
       "      <th>universe_training_size</th>\n",
       "      <th>universe_scale</th>\n",
       "      <th>universe_model</th>\n",
       "      <th>universe_exclude_features</th>\n",
       "      <th>universe_exclude_subgroups</th>\n",
       "      <th>q_hat</th>\n",
       "      <th>coverage</th>\n",
       "      <th>avg_size</th>\n",
       "      <th>cov_frau1</th>\n",
       "      <th>cov_nongerman</th>\n",
       "      <th>cov_nongerman_male</th>\n",
       "      <th>cov_nongerman_female</th>\n",
       "    </tr>\n",
       "  </thead>\n",
       "  <tbody>\n",
       "    <tr>\n",
       "      <th>0</th>\n",
       "      <td>fe07dd8533d68c04238a04caaaaa9b9a</td>\n",
       "      <td>25k</td>\n",
       "      <td>do-not-scale</td>\n",
       "      <td>penalized_logreg</td>\n",
       "      <td>age</td>\n",
       "      <td>keep-all</td>\n",
       "      <td>0.661675</td>\n",
       "      <td>0.912919</td>\n",
       "      <td>1.251466</td>\n",
       "      <td>0.913088</td>\n",
       "      <td>0.962724</td>\n",
       "      <td>0.968387</td>\n",
       "      <td>0.953353</td>\n",
       "    </tr>\n",
       "  </tbody>\n",
       "</table>\n",
       "</div>"
      ],
      "text/plain": [
       "                        universe_id universe_training_size universe_scale  \\\n",
       "0  fe07dd8533d68c04238a04caaaaa9b9a                    25k   do-not-scale   \n",
       "\n",
       "     universe_model universe_exclude_features universe_exclude_subgroups  \\\n",
       "0  penalized_logreg                       age                   keep-all   \n",
       "\n",
       "      q_hat  coverage  avg_size  cov_frau1  cov_nongerman  cov_nongerman_male  \\\n",
       "0  0.661675  0.912919  1.251466   0.913088       0.962724            0.968387   \n",
       "\n",
       "   cov_nongerman_female  \n",
       "0              0.953353  "
      ]
     },
     "execution_count": 71,
     "metadata": {},
     "output_type": "execute_result"
    }
   ],
   "source": [
    "cp_metrics_df"
   ]
  },
  {
   "cell_type": "markdown",
   "id": "33774451",
   "metadata": {
    "papermill": {
     "duration": 0.038008,
     "end_time": "2025-07-30T13:32:05.929138",
     "exception": false,
     "start_time": "2025-07-30T13:32:05.891130",
     "status": "completed"
    },
    "tags": []
   },
   "source": [
    "# (Fairness) Metrics"
   ]
  },
  {
   "cell_type": "code",
   "execution_count": 72,
   "id": "debc5d62",
   "metadata": {
    "execution": {
     "iopub.execute_input": "2025-07-30T13:32:06.004008Z",
     "iopub.status.busy": "2025-07-30T13:32:06.003603Z",
     "iopub.status.idle": "2025-07-30T13:32:06.041291Z",
     "shell.execute_reply": "2025-07-30T13:32:06.040098Z"
    },
    "papermill": {
     "duration": 0.072622,
     "end_time": "2025-07-30T13:32:06.042791",
     "exception": false,
     "start_time": "2025-07-30T13:32:05.970169",
     "status": "completed"
    },
    "tags": []
   },
   "outputs": [],
   "source": [
    "# do I need to include maxdeutsch1.missing?\n",
    "\n",
    "import numpy as np\n",
    "\n",
    "colname_to_bin = \"maxdeutsch1\"\n",
    "majority_value = org_train[colname_to_bin].mode()[0]\n",
    "\n",
    "org_test[\"majmin\"] = np.where(org_test[colname_to_bin] == majority_value, \"majority\", \"minority\")"
   ]
  },
  {
   "cell_type": "code",
   "execution_count": 73,
   "id": "06a50de5",
   "metadata": {
    "execution": {
     "iopub.execute_input": "2025-07-30T13:32:06.177470Z",
     "iopub.status.busy": "2025-07-30T13:32:06.177034Z",
     "iopub.status.idle": "2025-07-30T13:32:11.888729Z",
     "shell.execute_reply": "2025-07-30T13:32:11.887629Z"
    },
    "papermill": {
     "duration": 5.79403,
     "end_time": "2025-07-30T13:32:11.890692",
     "exception": false,
     "start_time": "2025-07-30T13:32:06.096662",
     "status": "completed"
    },
    "tags": []
   },
   "outputs": [],
   "source": [
    "example_universe = universe.copy()\n",
    "example_universe[\"cutoff\"] = example_universe[\"cutoff\"][0]\n",
    "example_universe[\"eval_fairness_grouping\"] = example_universe[\"eval_fairness_grouping\"][0]\n",
    "fairness_dict, metric_frame = universe_analysis.compute_metrics(\n",
    "    example_universe,\n",
    "    y_pred_prob=probs_test,\n",
    "    y_test=y_true,\n",
    "    org_test=org_test,\n",
    ")"
   ]
  },
  {
   "cell_type": "markdown",
   "id": "f95d4e02",
   "metadata": {
    "papermill": {
     "duration": 0.120191,
     "end_time": "2025-07-30T13:32:12.140373",
     "exception": false,
     "start_time": "2025-07-30T13:32:12.020182",
     "status": "completed"
    },
    "tags": []
   },
   "source": [
    "# Overall"
   ]
  },
  {
   "cell_type": "markdown",
   "id": "bdee4871",
   "metadata": {
    "papermill": {
     "duration": 0.07805,
     "end_time": "2025-07-30T13:32:12.289947",
     "exception": false,
     "start_time": "2025-07-30T13:32:12.211897",
     "status": "completed"
    },
    "tags": []
   },
   "source": [
    "Fairness\n",
    "Main fairness target: Equalized Odds. Seems to be a better fit than equal opportunity, since we're not only interested in Y = 1. Seems to be a better fit than demographic parity, since we also care about accuracy, not just equal distribution of preds.\n",
    "\n",
    "Pick column for computation of fairness metrics\n",
    "\n",
    "Performance\n",
    "Overall performance measures, most interesting in relation to the measures split by group below"
   ]
  },
  {
   "cell_type": "code",
   "execution_count": 74,
   "id": "c4e067c6",
   "metadata": {
    "execution": {
     "iopub.execute_input": "2025-07-30T13:32:12.360270Z",
     "iopub.status.busy": "2025-07-30T13:32:12.359208Z",
     "iopub.status.idle": "2025-07-30T13:32:12.369001Z",
     "shell.execute_reply": "2025-07-30T13:32:12.367786Z"
    },
    "papermill": {
     "duration": 0.043123,
     "end_time": "2025-07-30T13:32:12.372995",
     "exception": false,
     "start_time": "2025-07-30T13:32:12.329872",
     "status": "completed"
    },
    "tags": []
   },
   "outputs": [
    {
     "data": {
      "text/plain": [
       "accuracy                   0.216420\n",
       "balanced accuracy          0.530842\n",
       "f1                         0.237970\n",
       "precision                  0.135944\n",
       "false positive rate        0.892087\n",
       "false negative rate        0.046229\n",
       "selection rate             0.900000\n",
       "count                  89710.000000\n",
       "dtype: float64"
      ]
     },
     "execution_count": 74,
     "metadata": {},
     "output_type": "execute_result"
    }
   ],
   "source": [
    "metric_frame.overall"
   ]
  },
  {
   "cell_type": "markdown",
   "id": "e968fe9d",
   "metadata": {
    "papermill": {
     "duration": 0.081459,
     "end_time": "2025-07-30T13:32:12.510157",
     "exception": false,
     "start_time": "2025-07-30T13:32:12.428698",
     "status": "completed"
    },
    "tags": []
   },
   "source": [
    "By Group"
   ]
  },
  {
   "cell_type": "code",
   "execution_count": 75,
   "id": "ec325bce",
   "metadata": {
    "execution": {
     "iopub.execute_input": "2025-07-30T13:32:12.730118Z",
     "iopub.status.busy": "2025-07-30T13:32:12.729705Z",
     "iopub.status.idle": "2025-07-30T13:32:12.769302Z",
     "shell.execute_reply": "2025-07-30T13:32:12.768131Z"
    },
    "papermill": {
     "duration": 0.131211,
     "end_time": "2025-07-30T13:32:12.771404",
     "exception": false,
     "start_time": "2025-07-30T13:32:12.640193",
     "status": "completed"
    },
    "tags": []
   },
   "outputs": [
    {
     "data": {
      "text/html": [
       "<div>\n",
       "<style scoped>\n",
       "    .dataframe tbody tr th:only-of-type {\n",
       "        vertical-align: middle;\n",
       "    }\n",
       "\n",
       "    .dataframe tbody tr th {\n",
       "        vertical-align: top;\n",
       "    }\n",
       "\n",
       "    .dataframe thead th {\n",
       "        text-align: right;\n",
       "    }\n",
       "</style>\n",
       "<table border=\"1\" class=\"dataframe\">\n",
       "  <thead>\n",
       "    <tr style=\"text-align: right;\">\n",
       "      <th></th>\n",
       "      <th>accuracy</th>\n",
       "      <th>balanced accuracy</th>\n",
       "      <th>f1</th>\n",
       "      <th>precision</th>\n",
       "      <th>false positive rate</th>\n",
       "      <th>false negative rate</th>\n",
       "      <th>selection rate</th>\n",
       "      <th>count</th>\n",
       "    </tr>\n",
       "    <tr>\n",
       "      <th>majmin</th>\n",
       "      <th></th>\n",
       "      <th></th>\n",
       "      <th></th>\n",
       "      <th></th>\n",
       "      <th></th>\n",
       "      <th></th>\n",
       "      <th></th>\n",
       "      <th></th>\n",
       "    </tr>\n",
       "  </thead>\n",
       "  <tbody>\n",
       "    <tr>\n",
       "      <th>majority</th>\n",
       "      <td>0.238788</td>\n",
       "      <td>0.538257</td>\n",
       "      <td>0.247094</td>\n",
       "      <td>0.142122</td>\n",
       "      <td>0.868782</td>\n",
       "      <td>0.054705</td>\n",
       "      <td>0.878893</td>\n",
       "      <td>69170.0</td>\n",
       "    </tr>\n",
       "    <tr>\n",
       "      <th>minority</th>\n",
       "      <td>0.141091</td>\n",
       "      <td>0.508707</td>\n",
       "      <td>0.209375</td>\n",
       "      <td>0.117116</td>\n",
       "      <td>0.969073</td>\n",
       "      <td>0.013514</td>\n",
       "      <td>0.971081</td>\n",
       "      <td>20540.0</td>\n",
       "    </tr>\n",
       "  </tbody>\n",
       "</table>\n",
       "</div>"
      ],
      "text/plain": [
       "          accuracy  balanced accuracy        f1  precision  \\\n",
       "majmin                                                       \n",
       "majority  0.238788           0.538257  0.247094   0.142122   \n",
       "minority  0.141091           0.508707  0.209375   0.117116   \n",
       "\n",
       "          false positive rate  false negative rate  selection rate    count  \n",
       "majmin                                                                       \n",
       "majority             0.868782             0.054705        0.878893  69170.0  \n",
       "minority             0.969073             0.013514        0.971081  20540.0  "
      ]
     },
     "execution_count": 75,
     "metadata": {},
     "output_type": "execute_result"
    }
   ],
   "source": [
    "metric_frame.by_group"
   ]
  },
  {
   "cell_type": "code",
   "execution_count": 76,
   "id": "a9ddbe63",
   "metadata": {
    "execution": {
     "iopub.execute_input": "2025-07-30T13:32:13.015939Z",
     "iopub.status.busy": "2025-07-30T13:32:13.015540Z",
     "iopub.status.idle": "2025-07-30T13:32:16.531893Z",
     "shell.execute_reply": "2025-07-30T13:32:16.530922Z"
    },
    "papermill": {
     "duration": 3.65753,
     "end_time": "2025-07-30T13:32:16.533742",
     "exception": false,
     "start_time": "2025-07-30T13:32:12.876212",
     "status": "completed"
    },
    "tags": []
   },
   "outputs": [
    {
     "data": {
      "text/plain": [
       "array([[<Axes: title={'center': 'accuracy'}, xlabel='majmin'>,\n",
       "        <Axes: title={'center': 'balanced accuracy'}, xlabel='majmin'>,\n",
       "        <Axes: title={'center': 'f1'}, xlabel='majmin'>],\n",
       "       [<Axes: title={'center': 'precision'}, xlabel='majmin'>,\n",
       "        <Axes: title={'center': 'false positive rate'}, xlabel='majmin'>,\n",
       "        <Axes: title={'center': 'false negative rate'}, xlabel='majmin'>],\n",
       "       [<Axes: title={'center': 'selection rate'}, xlabel='majmin'>,\n",
       "        <Axes: title={'center': 'count'}, xlabel='majmin'>,\n",
       "        <Axes: xlabel='majmin'>]], dtype=object)"
      ]
     },
     "execution_count": 76,
     "metadata": {},
     "output_type": "execute_result"
    },
    {
     "data": {
      "image/png": "[encoded data removed]",
      "text/plain": [
       "<Figure size 1200x800 with 9 Axes>"
      ]
     },
     "metadata": {},
     "output_type": "display_data"
    }
   ],
   "source": [
    "# In a graphic\n",
    "metric_frame.by_group.plot.bar(\n",
    "    subplots=True,\n",
    "    layout=[3, 3],\n",
    "    legend=False,\n",
    "    figsize=[12, 8],\n",
    "    title=\"Show all metrics\",\n",
    ")"
   ]
  },
  {
   "cell_type": "markdown",
   "id": "f57a0bac",
   "metadata": {
    "papermill": {
     "duration": 0.036137,
     "end_time": "2025-07-30T13:32:16.608611",
     "exception": false,
     "start_time": "2025-07-30T13:32:16.572474",
     "status": "completed"
    },
    "tags": []
   },
   "source": [
    "# Final Output"
   ]
  },
  {
   "cell_type": "code",
   "execution_count": 77,
   "id": "96d280a3",
   "metadata": {
    "execution": {
     "iopub.execute_input": "2025-07-30T13:32:16.682572Z",
     "iopub.status.busy": "2025-07-30T13:32:16.681885Z",
     "iopub.status.idle": "2025-07-30T13:32:16.690485Z",
     "shell.execute_reply": "2025-07-30T13:32:16.689463Z"
    },
    "papermill": {
     "duration": 0.048184,
     "end_time": "2025-07-30T13:32:16.692480",
     "exception": false,
     "start_time": "2025-07-30T13:32:16.644296",
     "status": "completed"
    },
    "tags": []
   },
   "outputs": [
    {
     "data": {
      "text/plain": [
       "4"
      ]
     },
     "execution_count": 77,
     "metadata": {},
     "output_type": "execute_result"
    }
   ],
   "source": [
    "sub_universes = universe_analysis.generate_sub_universes()\n",
    "len(sub_universes)"
   ]
  },
  {
   "cell_type": "code",
   "execution_count": 78,
   "id": "92adf7ba",
   "metadata": {
    "execution": {
     "iopub.execute_input": "2025-07-30T13:32:16.764524Z",
     "iopub.status.busy": "2025-07-30T13:32:16.764026Z",
     "iopub.status.idle": "2025-07-30T13:32:16.771161Z",
     "shell.execute_reply": "2025-07-30T13:32:16.769962Z"
    },
    "papermill": {
     "duration": 0.044655,
     "end_time": "2025-07-30T13:32:16.774191",
     "exception": false,
     "start_time": "2025-07-30T13:32:16.729536",
     "status": "completed"
    },
    "tags": []
   },
   "outputs": [],
   "source": [
    "def filter_sub_universe_data(sub_universe, org_test):\n",
    "    # Keep all rows — no filtering\n",
    "    keep_rows_mask = np.ones(org_test.shape[0], dtype=bool)\n",
    "\n",
    "    print(f\"[INFO] Keeping all rows: {keep_rows_mask.sum()} rows retained.\")\n",
    "    return keep_rows_mask"
   ]
  },
  {
   "cell_type": "code",
   "execution_count": 79,
   "id": "4a759155",
   "metadata": {
    "execution": {
     "iopub.execute_input": "2025-07-30T13:32:16.908991Z",
     "iopub.status.busy": "2025-07-30T13:32:16.908508Z",
     "iopub.status.idle": "2025-07-30T13:32:26.642696Z",
     "shell.execute_reply": "2025-07-30T13:32:26.641924Z"
    },
    "papermill": {
     "duration": 9.799265,
     "end_time": "2025-07-30T13:32:26.644136",
     "exception": false,
     "start_time": "2025-07-30T13:32:16.844871",
     "status": "completed"
    },
    "tags": []
   },
   "outputs": [
    {
     "name": "stdout",
     "output_type": "stream",
     "text": [
      "Stopping execution_time clock.\n",
      "[INFO] Keeping all rows: 89710 rows retained.\n"
     ]
    },
    {
     "name": "stdout",
     "output_type": "stream",
     "text": [
      "[INFO] Keeping all rows: 89710 rows retained.\n"
     ]
    },
    {
     "name": "stdout",
     "output_type": "stream",
     "text": [
      "[INFO] Keeping all rows: 89710 rows retained.\n"
     ]
    },
    {
     "name": "stdout",
     "output_type": "stream",
     "text": [
      "[INFO] Keeping all rows: 89710 rows retained.\n"
     ]
    },
    {
     "data": {
      "text/html": [
       "<div>\n",
       "<style scoped>\n",
       "    .dataframe tbody tr th:only-of-type {\n",
       "        vertical-align: middle;\n",
       "    }\n",
       "\n",
       "    .dataframe tbody tr th {\n",
       "        vertical-align: top;\n",
       "    }\n",
       "\n",
       "    .dataframe thead th {\n",
       "        text-align: right;\n",
       "    }\n",
       "</style>\n",
       "<table border=\"1\" class=\"dataframe\">\n",
       "  <thead>\n",
       "    <tr style=\"text-align: right;\">\n",
       "      <th></th>\n",
       "      <th>run_no</th>\n",
       "      <th>universe_id</th>\n",
       "      <th>universe_settings</th>\n",
       "      <th>execution_time</th>\n",
       "      <th>test_size_n</th>\n",
       "      <th>test_size_frac</th>\n",
       "      <th>fair_main_equalized_odds_difference</th>\n",
       "      <th>fair_main_equalized_odds_ratio</th>\n",
       "      <th>fair_main_demographic_parity_difference</th>\n",
       "      <th>fair_main_demographic_parity_ratio</th>\n",
       "      <th>...</th>\n",
       "      <th>perf_grp_precision_0</th>\n",
       "      <th>perf_grp_precision_1</th>\n",
       "      <th>perf_grp_false positive rate_0</th>\n",
       "      <th>perf_grp_false positive rate_1</th>\n",
       "      <th>perf_grp_false negative rate_0</th>\n",
       "      <th>perf_grp_false negative rate_1</th>\n",
       "      <th>perf_grp_selection rate_0</th>\n",
       "      <th>perf_grp_selection rate_1</th>\n",
       "      <th>perf_grp_count_0</th>\n",
       "      <th>perf_grp_count_1</th>\n",
       "    </tr>\n",
       "  </thead>\n",
       "  <tbody>\n",
       "    <tr>\n",
       "      <th>0</th>\n",
       "      <td>12</td>\n",
       "      <td>fe07dd8533d68c04238a04caaaaa9b9a</td>\n",
       "      <td>{\"cutoff\": \"quantile_0.1\", \"eval_fairness_grou...</td>\n",
       "      <td>36.176193</td>\n",
       "      <td>89710</td>\n",
       "      <td>1.0</td>\n",
       "      <td>0.100291</td>\n",
       "      <td>0.896508</td>\n",
       "      <td>0.092188</td>\n",
       "      <td>0.905066</td>\n",
       "      <td>...</td>\n",
       "      <td>NaN</td>\n",
       "      <td>NaN</td>\n",
       "      <td>NaN</td>\n",
       "      <td>NaN</td>\n",
       "      <td>NaN</td>\n",
       "      <td>NaN</td>\n",
       "      <td>NaN</td>\n",
       "      <td>NaN</td>\n",
       "      <td>NaN</td>\n",
       "      <td>NaN</td>\n",
       "    </tr>\n",
       "    <tr>\n",
       "      <th>0</th>\n",
       "      <td>12</td>\n",
       "      <td>fe07dd8533d68c04238a04caaaaa9b9a</td>\n",
       "      <td>{\"cutoff\": \"quantile_0.1\", \"eval_fairness_grou...</td>\n",
       "      <td>36.176193</td>\n",
       "      <td>89710</td>\n",
       "      <td>1.0</td>\n",
       "      <td>0.100291</td>\n",
       "      <td>0.896508</td>\n",
       "      <td>0.092188</td>\n",
       "      <td>0.905066</td>\n",
       "      <td>...</td>\n",
       "      <td>0.117116</td>\n",
       "      <td>0.142122</td>\n",
       "      <td>0.969073</td>\n",
       "      <td>0.868782</td>\n",
       "      <td>0.013514</td>\n",
       "      <td>0.054705</td>\n",
       "      <td>0.971081</td>\n",
       "      <td>0.878893</td>\n",
       "      <td>20540.0</td>\n",
       "      <td>69170.0</td>\n",
       "    </tr>\n",
       "    <tr>\n",
       "      <th>0</th>\n",
       "      <td>12</td>\n",
       "      <td>fe07dd8533d68c04238a04caaaaa9b9a</td>\n",
       "      <td>{\"cutoff\": \"quantile_0.25\", \"eval_fairness_gro...</td>\n",
       "      <td>36.176193</td>\n",
       "      <td>89710</td>\n",
       "      <td>1.0</td>\n",
       "      <td>0.235569</td>\n",
       "      <td>0.742030</td>\n",
       "      <td>0.217407</td>\n",
       "      <td>0.763076</td>\n",
       "      <td>...</td>\n",
       "      <td>NaN</td>\n",
       "      <td>NaN</td>\n",
       "      <td>NaN</td>\n",
       "      <td>NaN</td>\n",
       "      <td>NaN</td>\n",
       "      <td>NaN</td>\n",
       "      <td>NaN</td>\n",
       "      <td>NaN</td>\n",
       "      <td>NaN</td>\n",
       "      <td>NaN</td>\n",
       "    </tr>\n",
       "    <tr>\n",
       "      <th>0</th>\n",
       "      <td>12</td>\n",
       "      <td>fe07dd8533d68c04238a04caaaaa9b9a</td>\n",
       "      <td>{\"cutoff\": \"quantile_0.25\", \"eval_fairness_gro...</td>\n",
       "      <td>36.176193</td>\n",
       "      <td>89710</td>\n",
       "      <td>1.0</td>\n",
       "      <td>0.235569</td>\n",
       "      <td>0.742030</td>\n",
       "      <td>0.217407</td>\n",
       "      <td>0.763076</td>\n",
       "      <td>...</td>\n",
       "      <td>0.119588</td>\n",
       "      <td>0.160177</td>\n",
       "      <td>0.913163</td>\n",
       "      <td>0.677595</td>\n",
       "      <td>0.048142</td>\n",
       "      <td>0.151204</td>\n",
       "      <td>0.917624</td>\n",
       "      <td>0.700217</td>\n",
       "      <td>20540.0</td>\n",
       "      <td>69170.0</td>\n",
       "    </tr>\n",
       "  </tbody>\n",
       "</table>\n",
       "<p>4 rows × 50 columns</p>\n",
       "</div>"
      ],
      "text/plain": [
       "  run_no                       universe_id  \\\n",
       "0     12  fe07dd8533d68c04238a04caaaaa9b9a   \n",
       "0     12  fe07dd8533d68c04238a04caaaaa9b9a   \n",
       "0     12  fe07dd8533d68c04238a04caaaaa9b9a   \n",
       "0     12  fe07dd8533d68c04238a04caaaaa9b9a   \n",
       "\n",
       "                                   universe_settings  execution_time  \\\n",
       "0  {\"cutoff\": \"quantile_0.1\", \"eval_fairness_grou...       36.176193   \n",
       "0  {\"cutoff\": \"quantile_0.1\", \"eval_fairness_grou...       36.176193   \n",
       "0  {\"cutoff\": \"quantile_0.25\", \"eval_fairness_gro...       36.176193   \n",
       "0  {\"cutoff\": \"quantile_0.25\", \"eval_fairness_gro...       36.176193   \n",
       "\n",
       "   test_size_n  test_size_frac  fair_main_equalized_odds_difference  \\\n",
       "0        89710             1.0                             0.100291   \n",
       "0        89710             1.0                             0.100291   \n",
       "0        89710             1.0                             0.235569   \n",
       "0        89710             1.0                             0.235569   \n",
       "\n",
       "   fair_main_equalized_odds_ratio  fair_main_demographic_parity_difference  \\\n",
       "0                        0.896508                                 0.092188   \n",
       "0                        0.896508                                 0.092188   \n",
       "0                        0.742030                                 0.217407   \n",
       "0                        0.742030                                 0.217407   \n",
       "\n",
       "   fair_main_demographic_parity_ratio  ...  perf_grp_precision_0  \\\n",
       "0                            0.905066  ...                   NaN   \n",
       "0                            0.905066  ...              0.117116   \n",
       "0                            0.763076  ...                   NaN   \n",
       "0                            0.763076  ...              0.119588   \n",
       "\n",
       "   perf_grp_precision_1  perf_grp_false positive rate_0  \\\n",
       "0                   NaN                             NaN   \n",
       "0              0.142122                        0.969073   \n",
       "0                   NaN                             NaN   \n",
       "0              0.160177                        0.913163   \n",
       "\n",
       "   perf_grp_false positive rate_1  perf_grp_false negative rate_0  \\\n",
       "0                             NaN                             NaN   \n",
       "0                        0.868782                        0.013514   \n",
       "0                             NaN                             NaN   \n",
       "0                        0.677595                        0.048142   \n",
       "\n",
       "   perf_grp_false negative rate_1  perf_grp_selection rate_0  \\\n",
       "0                             NaN                        NaN   \n",
       "0                        0.054705                   0.971081   \n",
       "0                             NaN                        NaN   \n",
       "0                        0.151204                   0.917624   \n",
       "\n",
       "   perf_grp_selection rate_1  perf_grp_count_0  perf_grp_count_1  \n",
       "0                        NaN               NaN               NaN  \n",
       "0                   0.878893           20540.0           69170.0  \n",
       "0                        NaN               NaN               NaN  \n",
       "0                   0.700217           20540.0           69170.0  \n",
       "\n",
       "[4 rows x 50 columns]"
      ]
     },
     "execution_count": 79,
     "metadata": {},
     "output_type": "execute_result"
    }
   ],
   "source": [
    "final_output = universe_analysis.generate_final_output(\n",
    "    y_pred_prob=probs_test,\n",
    "    y_test=y_true,\n",
    "    org_test=org_test,\n",
    "    filter_data=filter_sub_universe_data,\n",
    "    cp_metrics_df=cp_metrics_df,\n",
    "    save=True,\n",
    ")\n",
    "final_output"
   ]
  },
  {
   "cell_type": "code",
   "execution_count": null,
   "id": "721ff514-cb11-46f8-b6fc-50392f74b5cb",
   "metadata": {
    "papermill": {
     "duration": 0.015689,
     "end_time": "2025-07-30T13:32:26.678661",
     "exception": false,
     "start_time": "2025-07-30T13:32:26.662972",
     "status": "completed"
    },
    "tags": []
   },
   "outputs": [],
   "source": []
  }
 ],
 "metadata": {
  "celltoolbar": "Tags",
  "kernelspec": {
   "display_name": "Python (CMA Fairness)",
   "language": "python",
   "name": "cma_fair_env"
  },
  "language_info": {
   "codemirror_mode": {
    "name": "ipython",
    "version": 3
   },
   "file_extension": ".py",
   "mimetype": "text/x-python",
   "name": "python",
   "nbconvert_exporter": "python",
   "pygments_lexer": "ipython3",
   "version": "3.10.12"
  },
  "papermill": {
   "default_parameters": {},
   "duration": 50.135484,
   "end_time": "2025-07-30T13:32:27.513027",
   "environment_variables": {},
   "exception": null,
   "input_path": "universe_analysis.ipynb",
   "output_path": "output/runs/12/notebooks/m_12-fe07dd8533d68c04238a04caaaaa9b9a.ipynb",
   "parameters": {
    "output_dir": "output",
    "run_no": "12",
    "seed": "2023",
    "universe": "{\"cutoff\": [\"quantile_0.1\", \"quantile_0.25\"], \"eval_fairness_grouping\": [\"majority-minority\", \"nationality-all\"], \"exclude_features\": \"age\", \"exclude_subgroups\": \"keep-all\", \"model\": \"penalized_logreg\", \"scale\": \"do-not-scale\", \"training_size\": \"25k\", \"training_year\": \"2010_14\"}",
    "universe_id": "fe07dd8533d68c04238a04caaaaa9b9a"
   },
   "start_time": "2025-07-30T13:31:37.377543",
   "version": "2.6.0"
  }
 },
 "nbformat": 4,
 "nbformat_minor": 5
}