{
 "cells": [
  {
   "cell_type": "code",
   "execution_count": 1,
   "id": "f159f837-637b-42ba-96b5-ec9a68c44524",
   "metadata": {
    "execution": {
     "iopub.execute_input": "2025-07-30T13:45:32.406424Z",
     "iopub.status.busy": "2025-07-30T13:45:32.405779Z",
     "iopub.status.idle": "2025-07-30T13:45:32.418594Z",
     "shell.execute_reply": "2025-07-30T13:45:32.417730Z"
    },
    "papermill": {
     "duration": 0.035768,
     "end_time": "2025-07-30T13:45:32.420139",
     "exception": false,
     "start_time": "2025-07-30T13:45:32.384371",
     "status": "completed"
    },
    "tags": []
   },
   "outputs": [
    {
     "name": "stdout",
     "output_type": "stream",
     "text": [
      "/dss/dsshome1/0C/ra93lal2/cma/CMA_Fairness_v2\n"
     ]
    },
    {
     "name": "stderr",
     "output_type": "stream",
     "text": [
      "/dss/dsshome1/0C/ra93lal2/.local/share/virtualenvs/CMA_Fairness_v2-3j10GkSs/lib/python3.10/site-packages/IPython/core/magics/osm.py:393: UserWarning: This is now an optional IPython functionality, using bookmarks requires you to install the `pickleshare` library.\n",
      "  bkms = self.shell.db.get('bookmarks', {})\n",
      "/dss/dsshome1/0C/ra93lal2/.local/share/virtualenvs/CMA_Fairness_v2-3j10GkSs/lib/python3.10/site-packages/IPython/core/magics/osm.py:417: UserWarning: This is now an optional IPython functionality, setting dhist requires you to install the `pickleshare` library.\n",
      "  self.shell.db['dhist'] = compress_dhist(dhist)[-100:]\n"
     ]
    }
   ],
   "source": [
    "%cd ~/cma/CMA_Fairness_v2"
   ]
  },
  {
   "cell_type": "markdown",
   "id": "de2603b9",
   "metadata": {
    "papermill": {
     "duration": 0.018002,
     "end_time": "2025-07-30T13:45:32.457221",
     "exception": false,
     "start_time": "2025-07-30T13:45:32.439219",
     "status": "completed"
    },
    "tags": []
   },
   "source": [
    "The following cell holds the definition of our parameters, these values can be overriden by rendering the with e.g. the following command:\n",
    "\n",
    "papermill -p alpha 0.2 -p ratio 0.3 universe_analysis.ipynb output/test_run.ipynb"
   ]
  },
  {
   "cell_type": "code",
   "execution_count": 2,
   "id": "a80968a0-40bb-4fa9-85ef-2d5eefb01975",
   "metadata": {
    "execution": {
     "iopub.execute_input": "2025-07-30T13:45:32.494082Z",
     "iopub.status.busy": "2025-07-30T13:45:32.493461Z",
     "iopub.status.idle": "2025-07-30T13:45:32.499079Z",
     "shell.execute_reply": "2025-07-30T13:45:32.498228Z"
    },
    "papermill": {
     "duration": 0.025973,
     "end_time": "2025-07-30T13:45:32.500670",
     "exception": false,
     "start_time": "2025-07-30T13:45:32.474697",
     "status": "completed"
    },
    "tags": []
   },
   "outputs": [
    {
     "name": "stdout",
     "output_type": "stream",
     "text": [
      "Current working directory: /dss/dsshome1/0C/ra93lal2/cma/CMA_Fairness_v2\n"
     ]
    }
   ],
   "source": [
    "import os\n",
    "print(\"Current working directory:\", os.getcwd())"
   ]
  },
  {
   "cell_type": "code",
   "execution_count": 3,
   "id": "2dce4c03",
   "metadata": {
    "execution": {
     "iopub.execute_input": "2025-07-30T13:45:32.539226Z",
     "iopub.status.busy": "2025-07-30T13:45:32.538567Z",
     "iopub.status.idle": "2025-07-30T13:45:32.544525Z",
     "shell.execute_reply": "2025-07-30T13:45:32.543654Z"
    },
    "papermill": {
     "duration": 0.026523,
     "end_time": "2025-07-30T13:45:32.545975",
     "exception": false,
     "start_time": "2025-07-30T13:45:32.519452",
     "status": "completed"
    },
    "tags": [
     "parameters"
    ]
   },
   "outputs": [],
   "source": [
    "run_no = 0\n",
    "universe_id = \"test\"\n",
    "universe = {\n",
    "    \"training_size\": \"25k\", # \"25k\", \"5k\", \"1k\"\n",
    "    \"training_year\": \"2014\", # \"2014\", \"2012_14\", \"2010_14\"\n",
    "    \"scale\": \"scale\", # \"scale\", \"do-not-scale\",\n",
    "    #\"stratify_split\": \"target\", # \"none\", \"target\", \"protected-attribute\", \"both\",\n",
    "    \"model\": \"elasticnet\", # \"logreg\", \"penalized_logreg\", \"rf\", \"gbm\", \"elasticnet\"\n",
    "    \"cutoff\": [\"quantile_0.15\", \"quantile_0.30\"],\n",
    "    \"exclude_features\": \"age\", # \"none\", \"nationality\", \"sex\", \"nationality-sex\", \"age\"\n",
    "    \"exclude_subgroups\": \"keep-all\", # \"keep-all\", \"drop-non-german\"\n",
    "    \"eval_fairness_grouping\": [\"majority-minority\", \"nationality-all\"]\n",
    "}\n",
    "\n",
    "output_dir=\"./output\"\n",
    "seed=0"
   ]
  },
  {
   "cell_type": "code",
   "execution_count": 4,
   "id": "ff4ae785",
   "metadata": {
    "execution": {
     "iopub.execute_input": "2025-07-30T13:45:32.584278Z",
     "iopub.status.busy": "2025-07-30T13:45:32.583654Z",
     "iopub.status.idle": "2025-07-30T13:45:32.588768Z",
     "shell.execute_reply": "2025-07-30T13:45:32.587785Z"
    },
    "papermill": {
     "duration": 0.025481,
     "end_time": "2025-07-30T13:45:32.590514",
     "exception": false,
     "start_time": "2025-07-30T13:45:32.565033",
     "status": "completed"
    },
    "tags": [
     "injected-parameters"
    ]
   },
   "outputs": [],
   "source": [
    "# Parameters\n",
    "universe_id = \"2be3e277838ba440bc4352c92e002947\"\n",
    "run_no = \"12\"\n",
    "universe = \"{\\\"cutoff\\\": [\\\"quantile_0.1\\\", \\\"quantile_0.25\\\"], \\\"eval_fairness_grouping\\\": [\\\"majority-minority\\\", \\\"nationality-all\\\"], \\\"exclude_features\\\": \\\"nationality\\\", \\\"exclude_subgroups\\\": \\\"drop-non-german\\\", \\\"model\\\": \\\"elasticnet\\\", \\\"scale\\\": \\\"scale\\\", \\\"training_size\\\": \\\"5k\\\", \\\"training_year\\\": \\\"2014\\\"}\"\n",
    "output_dir = \"output\"\n",
    "seed = \"2023\"\n"
   ]
  },
  {
   "cell_type": "code",
   "execution_count": 5,
   "id": "1650acaf",
   "metadata": {
    "execution": {
     "iopub.execute_input": "2025-07-30T13:45:32.629377Z",
     "iopub.status.busy": "2025-07-30T13:45:32.628772Z",
     "iopub.status.idle": "2025-07-30T13:45:32.633515Z",
     "shell.execute_reply": "2025-07-30T13:45:32.632558Z"
    },
    "papermill": {
     "duration": 0.02531,
     "end_time": "2025-07-30T13:45:32.635025",
     "exception": false,
     "start_time": "2025-07-30T13:45:32.609715",
     "status": "completed"
    },
    "tags": []
   },
   "outputs": [],
   "source": [
    "import json\n",
    "# Parse universe into dict if it is passed as a string\n",
    "if isinstance(universe, str):\n",
    "    universe = json.loads(universe)"
   ]
  },
  {
   "cell_type": "code",
   "execution_count": 6,
   "id": "16620c48",
   "metadata": {
    "execution": {
     "iopub.execute_input": "2025-07-30T13:45:32.673628Z",
     "iopub.status.busy": "2025-07-30T13:45:32.673007Z",
     "iopub.status.idle": "2025-07-30T13:45:32.715259Z",
     "shell.execute_reply": "2025-07-30T13:45:32.714451Z"
    },
    "papermill": {
     "duration": 0.062841,
     "end_time": "2025-07-30T13:45:32.717060",
     "exception": false,
     "start_time": "2025-07-30T13:45:32.654219",
     "status": "completed"
    },
    "tags": []
   },
   "outputs": [],
   "source": [
    "# Auto-reload the custom package\n",
    "%load_ext autoreload\n",
    "%autoreload 1\n",
    "%aimport fairness_multiverse"
   ]
  },
  {
   "cell_type": "code",
   "execution_count": 7,
   "id": "01c5c9f3",
   "metadata": {
    "execution": {
     "iopub.execute_input": "2025-07-30T13:45:32.755179Z",
     "iopub.status.busy": "2025-07-30T13:45:32.754561Z",
     "iopub.status.idle": "2025-07-30T13:45:34.619657Z",
     "shell.execute_reply": "2025-07-30T13:45:34.618764Z"
    },
    "papermill": {
     "duration": 1.886032,
     "end_time": "2025-07-30T13:45:34.621559",
     "exception": false,
     "start_time": "2025-07-30T13:45:32.735527",
     "status": "completed"
    },
    "tags": []
   },
   "outputs": [],
   "source": [
    "from fairness_multiverse.universe import UniverseAnalysis\n",
    "\n",
    "universe_analysis = UniverseAnalysis(\n",
    "    run_no = run_no,\n",
    "    universe_id = universe_id,\n",
    "    universe = universe,\n",
    "    output_dir=output_dir,\n",
    ")"
   ]
  },
  {
   "cell_type": "code",
   "execution_count": 8,
   "id": "106241f5",
   "metadata": {
    "execution": {
     "iopub.execute_input": "2025-07-30T13:45:34.662968Z",
     "iopub.status.busy": "2025-07-30T13:45:34.662510Z",
     "iopub.status.idle": "2025-07-30T13:45:34.668760Z",
     "shell.execute_reply": "2025-07-30T13:45:34.667783Z"
    },
    "papermill": {
     "duration": 0.027304,
     "end_time": "2025-07-30T13:45:34.670265",
     "exception": false,
     "start_time": "2025-07-30T13:45:34.642961",
     "status": "completed"
    },
    "tags": []
   },
   "outputs": [
    {
     "name": "stdout",
     "output_type": "stream",
     "text": [
      "Using Seed: 2023\n"
     ]
    }
   ],
   "source": [
    "import numpy as np\n",
    "parsed_seed = int(seed)\n",
    "np.random.seed(parsed_seed)\n",
    "print(f\"Using Seed: {parsed_seed}\")"
   ]
  },
  {
   "cell_type": "markdown",
   "id": "e0ebdc57",
   "metadata": {
    "papermill": {
     "duration": 0.018116,
     "end_time": "2025-07-30T13:45:34.707867",
     "exception": false,
     "start_time": "2025-07-30T13:45:34.689751",
     "status": "completed"
    },
    "tags": []
   },
   "source": [
    "# Loading Data"
   ]
  },
  {
   "cell_type": "markdown",
   "id": "681925a3",
   "metadata": {
    "papermill": {
     "duration": 0.018182,
     "end_time": "2025-07-30T13:45:34.744383",
     "exception": false,
     "start_time": "2025-07-30T13:45:34.726201",
     "status": "completed"
    },
    "tags": []
   },
   "source": [
    "Load siab_train, siab_test, siab_calib and/or \n",
    "load siab_train_features, siab_train_labels"
   ]
  },
  {
   "cell_type": "code",
   "execution_count": 9,
   "id": "f0496b8a",
   "metadata": {
    "execution": {
     "iopub.execute_input": "2025-07-30T13:45:34.783972Z",
     "iopub.status.busy": "2025-07-30T13:45:34.783517Z",
     "iopub.status.idle": "2025-07-30T13:45:46.822966Z",
     "shell.execute_reply": "2025-07-30T13:45:46.821868Z"
    },
    "papermill": {
     "duration": 12.061817,
     "end_time": "2025-07-30T13:45:46.824535",
     "exception": false,
     "start_time": "2025-07-30T13:45:34.762718",
     "status": "completed"
    },
    "tags": []
   },
   "outputs": [
    {
     "name": "stdout",
     "output_type": "stream",
     "text": [
      "Loading SIAB data from cache: data/siab_cached.csv.gz\n"
     ]
    },
    {
     "name": "stdout",
     "output_type": "stream",
     "text": [
      "(643690, 164)\n"
     ]
    }
   ],
   "source": [
    "from pathlib import Path\n",
    "import pandas as pd\n",
    "\n",
    "# File paths\n",
    "raw_file = Path(\"data/raw/siab.csv\")\n",
    "cache_file = Path(\"data/siab_cached.csv.gz\")\n",
    "\n",
    "# Ensure cache directory exists\n",
    "cache_file.parent.mkdir(parents=True, exist_ok=True)\n",
    "\n",
    "# Load with simple caching\n",
    "if cache_file.exists():\n",
    "    print(f\"Loading SIAB data from cache: {cache_file}\")\n",
    "    siab = pd.read_csv(cache_file, compression='gzip')\n",
    "else:\n",
    "    print(f\"Cache not found. Reading raw SIAB data: {raw_file}\")\n",
    "    siab = pd.read_csv(raw_file)\n",
    "    siab.to_csv(cache_file, index=False, compression='gzip')\n",
    "    print(f\"Cached SIAB data to: {cache_file}\")\n",
    "\n",
    "# Now use `siab` DataFrame as needed\n",
    "print(siab.shape)"
   ]
  },
  {
   "cell_type": "code",
   "execution_count": 10,
   "id": "db0ca512-5f53-4dba-abdb-a2888bca41ba",
   "metadata": {
    "execution": {
     "iopub.execute_input": "2025-07-30T13:45:46.865894Z",
     "iopub.status.busy": "2025-07-30T13:45:46.865227Z",
     "iopub.status.idle": "2025-07-30T13:45:46.870587Z",
     "shell.execute_reply": "2025-07-30T13:45:46.869669Z"
    },
    "papermill": {
     "duration": 0.026543,
     "end_time": "2025-07-30T13:45:46.872286",
     "exception": false,
     "start_time": "2025-07-30T13:45:46.845743",
     "status": "completed"
    },
    "tags": []
   },
   "outputs": [],
   "source": [
    "#siab"
   ]
  },
  {
   "cell_type": "code",
   "execution_count": 11,
   "id": "a0edb063",
   "metadata": {
    "execution": {
     "iopub.execute_input": "2025-07-30T13:45:46.911615Z",
     "iopub.status.busy": "2025-07-30T13:45:46.911023Z",
     "iopub.status.idle": "2025-07-30T13:45:46.915590Z",
     "shell.execute_reply": "2025-07-30T13:45:46.914734Z"
    },
    "papermill": {
     "duration": 0.025158,
     "end_time": "2025-07-30T13:45:46.917117",
     "exception": false,
     "start_time": "2025-07-30T13:45:46.891959",
     "status": "completed"
    },
    "tags": []
   },
   "outputs": [],
   "source": [
    "#import pandas as pd\n",
    "#\n",
    "#X_train = pd.read_csv(\"./data/X_train.csv\")\n",
    "#y_train = pd.read_csv(\"./data/y_train.csv\")"
   ]
  },
  {
   "cell_type": "code",
   "execution_count": 12,
   "id": "63d08085",
   "metadata": {
    "execution": {
     "iopub.execute_input": "2025-07-30T13:45:46.956293Z",
     "iopub.status.busy": "2025-07-30T13:45:46.955686Z",
     "iopub.status.idle": "2025-07-30T13:45:46.960203Z",
     "shell.execute_reply": "2025-07-30T13:45:46.959341Z"
    },
    "papermill": {
     "duration": 0.025348,
     "end_time": "2025-07-30T13:45:46.961899",
     "exception": false,
     "start_time": "2025-07-30T13:45:46.936551",
     "status": "completed"
    },
    "tags": []
   },
   "outputs": [],
   "source": [
    "#X_test = pd.read_csv(\"./data/X_test.csv\")\n",
    "#y_true = pd.read_csv(\"./data/y_test.csv\")"
   ]
  },
  {
   "cell_type": "code",
   "execution_count": 13,
   "id": "98a8d0fa-1d3d-4ed8-bb2c-281470e24add",
   "metadata": {
    "execution": {
     "iopub.execute_input": "2025-07-30T13:45:47.001305Z",
     "iopub.status.busy": "2025-07-30T13:45:47.000710Z",
     "iopub.status.idle": "2025-07-30T13:45:47.005289Z",
     "shell.execute_reply": "2025-07-30T13:45:47.004408Z"
    },
    "papermill": {
     "duration": 0.02548,
     "end_time": "2025-07-30T13:45:47.006793",
     "exception": false,
     "start_time": "2025-07-30T13:45:46.981313",
     "status": "completed"
    },
    "tags": []
   },
   "outputs": [],
   "source": [
    "# Calibration data for conformal\n",
    "#X_calib = pd.read_csv(\"./data/X_calib.csv\")\n",
    "#y_calib = pd.read_csv(\"./data/y_calib.csv\")"
   ]
  },
  {
   "cell_type": "markdown",
   "id": "997051c5-15bd-4b69-9786-c3001a3ce484",
   "metadata": {
    "papermill": {
     "duration": 0.018492,
     "end_time": "2025-07-30T13:45:47.044769",
     "exception": false,
     "start_time": "2025-07-30T13:45:47.026277",
     "status": "completed"
    },
    "tags": []
   },
   "source": [
    "# Splitting Data and Setting Training Data Size"
   ]
  },
  {
   "cell_type": "code",
   "execution_count": 14,
   "id": "e993b61f-042d-41a6-8c81-f55681f86335",
   "metadata": {
    "execution": {
     "iopub.execute_input": "2025-07-30T13:45:47.083498Z",
     "iopub.status.busy": "2025-07-30T13:45:47.082863Z",
     "iopub.status.idle": "2025-07-30T13:45:47.095738Z",
     "shell.execute_reply": "2025-07-30T13:45:47.094797Z"
    },
    "papermill": {
     "duration": 0.034458,
     "end_time": "2025-07-30T13:45:47.097566",
     "exception": false,
     "start_time": "2025-07-30T13:45:47.063108",
     "status": "completed"
    },
    "tags": []
   },
   "outputs": [],
   "source": [
    "def sample_by_year_size(df,\n",
    "                        training_year: str,\n",
    "                        training_size: str,\n",
    "                        random_state: int = 42):\n",
    "    # --- parse training_year into a list of int years ---\n",
    "    if \"_\" in training_year:\n",
    "        start_str, end_str = training_year.split(\"_\", 1)\n",
    "        start = int(start_str)\n",
    "        end   = int(end_str) if len(end_str) == 4 else (int(end_str) + (start // 100)*100)\n",
    "        years = list(range(start, end + 1))\n",
    "    else:\n",
    "        years = [int(training_year)]\n",
    "\n",
    "    df = df[df[\"year\"].isin(years)].reset_index(drop=True)\n",
    "\n",
    "    # --- map training_size to total number of samples ---\n",
    "    total_map = {\"25k\": 25_000, \"5k\": 5_000, \"1k\": 1_000}\n",
    "    if training_size not in total_map:\n",
    "        return df  # e.g. \"all\"\n",
    "\n",
    "    total_samples = total_map[training_size]\n",
    "    n_years       = len(years)\n",
    "    base          = total_samples // n_years\n",
    "    remainder     = total_samples % n_years\n",
    "\n",
    "    # --- build a dict: year -> how many to sample ---\n",
    "    # give +1 to the first `remainder` years in ascending order\n",
    "    quotas = {\n",
    "        year: base + (1 if idx < remainder else 0)\n",
    "        for idx, year in enumerate(sorted(years))\n",
    "    }\n",
    "\n",
    "    # --- sample per‐year according to the quota dict ---\n",
    "    sampled = (\n",
    "        df\n",
    "        .groupby(\"year\", group_keys=False)\n",
    "        .apply(lambda grp: grp.sample(\n",
    "            n=min(len(grp), quotas[grp.name]),\n",
    "            random_state=random_state))\n",
    "        .reset_index(drop=True)\n",
    "    )\n",
    "\n",
    "    return sampled"
   ]
  },
  {
   "cell_type": "code",
   "execution_count": 15,
   "id": "c0ccd338-0e02-41f3-a09d-f56f9266e3fb",
   "metadata": {
    "execution": {
     "iopub.execute_input": "2025-07-30T13:45:47.138357Z",
     "iopub.status.busy": "2025-07-30T13:45:47.137686Z",
     "iopub.status.idle": "2025-07-30T13:45:47.148299Z",
     "shell.execute_reply": "2025-07-30T13:45:47.147493Z"
    },
    "papermill": {
     "duration": 0.031933,
     "end_time": "2025-07-30T13:45:47.149822",
     "exception": false,
     "start_time": "2025-07-30T13:45:47.117889",
     "status": "completed"
    },
    "tags": []
   },
   "outputs": [
    {
     "data": {
      "text/plain": [
       "'5k'"
      ]
     },
     "execution_count": 15,
     "metadata": {},
     "output_type": "execute_result"
    }
   ],
   "source": [
    "universe[\"training_size\"]"
   ]
  },
  {
   "cell_type": "code",
   "execution_count": 16,
   "id": "ca707fd7-8047-4acd-bfa5-66248fbbf8e6",
   "metadata": {
    "execution": {
     "iopub.execute_input": "2025-07-30T13:45:47.190133Z",
     "iopub.status.busy": "2025-07-30T13:45:47.189518Z",
     "iopub.status.idle": "2025-07-30T13:45:47.196450Z",
     "shell.execute_reply": "2025-07-30T13:45:47.195501Z"
    },
    "papermill": {
     "duration": 0.028339,
     "end_time": "2025-07-30T13:45:47.197997",
     "exception": false,
     "start_time": "2025-07-30T13:45:47.169658",
     "status": "completed"
    },
    "tags": []
   },
   "outputs": [
    {
     "data": {
      "text/plain": [
       "'2014'"
      ]
     },
     "execution_count": 16,
     "metadata": {},
     "output_type": "execute_result"
    }
   ],
   "source": [
    "universe[\"training_year\"]"
   ]
  },
  {
   "cell_type": "code",
   "execution_count": 17,
   "id": "aea9c6ef-6f46-42c8-85eb-5a62025c1508",
   "metadata": {
    "execution": {
     "iopub.execute_input": "2025-07-30T13:45:47.238676Z",
     "iopub.status.busy": "2025-07-30T13:45:47.238243Z",
     "iopub.status.idle": "2025-07-30T13:45:47.448857Z",
     "shell.execute_reply": "2025-07-30T13:45:47.447990Z"
    },
    "papermill": {
     "duration": 0.232409,
     "end_time": "2025-07-30T13:45:47.450634",
     "exception": false,
     "start_time": "2025-07-30T13:45:47.218225",
     "status": "completed"
    },
    "tags": []
   },
   "outputs": [],
   "source": [
    "siab_train = sample_by_year_size(siab,\n",
    "                               training_year=universe[\"training_year\"],\n",
    "                               training_size=universe[\"training_size\"])"
   ]
  },
  {
   "cell_type": "code",
   "execution_count": 18,
   "id": "8d3afb32-789d-442c-8d5d-9f5aa8dd2eed",
   "metadata": {
    "execution": {
     "iopub.execute_input": "2025-07-30T13:45:47.491343Z",
     "iopub.status.busy": "2025-07-30T13:45:47.490566Z",
     "iopub.status.idle": "2025-07-30T13:45:47.497463Z",
     "shell.execute_reply": "2025-07-30T13:45:47.496550Z"
    },
    "papermill": {
     "duration": 0.028437,
     "end_time": "2025-07-30T13:45:47.499101",
     "exception": false,
     "start_time": "2025-07-30T13:45:47.470664",
     "status": "completed"
    },
    "tags": []
   },
   "outputs": [
    {
     "data": {
      "text/plain": [
       "(5000, 164)"
      ]
     },
     "execution_count": 18,
     "metadata": {},
     "output_type": "execute_result"
    }
   ],
   "source": [
    "siab_train.shape"
   ]
  },
  {
   "cell_type": "code",
   "execution_count": 19,
   "id": "d582db68-1a4c-47fb-84fc-08518dc1975a",
   "metadata": {
    "execution": {
     "iopub.execute_input": "2025-07-30T13:45:47.540935Z",
     "iopub.status.busy": "2025-07-30T13:45:47.540302Z",
     "iopub.status.idle": "2025-07-30T13:45:47.549806Z",
     "shell.execute_reply": "2025-07-30T13:45:47.548972Z"
    },
    "papermill": {
     "duration": 0.03179,
     "end_time": "2025-07-30T13:45:47.551684",
     "exception": false,
     "start_time": "2025-07-30T13:45:47.519894",
     "status": "completed"
    },
    "tags": []
   },
   "outputs": [
    {
     "data": {
      "text/plain": [
       "year\n",
       "2014    5000\n",
       "dtype: int64"
      ]
     },
     "metadata": {},
     "output_type": "display_data"
    }
   ],
   "source": [
    "display(siab_train.groupby(\"year\").size())"
   ]
  },
  {
   "cell_type": "code",
   "execution_count": 20,
   "id": "a561edb4-d032-42cb-8256-22eac1111c64",
   "metadata": {
    "execution": {
     "iopub.execute_input": "2025-07-30T13:45:47.593283Z",
     "iopub.status.busy": "2025-07-30T13:45:47.592684Z",
     "iopub.status.idle": "2025-07-30T13:45:47.804915Z",
     "shell.execute_reply": "2025-07-30T13:45:47.804072Z"
    },
    "papermill": {
     "duration": 0.234401,
     "end_time": "2025-07-30T13:45:47.806722",
     "exception": false,
     "start_time": "2025-07-30T13:45:47.572321",
     "status": "completed"
    },
    "tags": []
   },
   "outputs": [],
   "source": [
    "#siab_train = siab_s[siab_s.year < 2015]\n",
    "siab_calib = siab[siab.year == 2015]\n",
    "siab_test = siab[siab.year == 2016]"
   ]
  },
  {
   "cell_type": "code",
   "execution_count": 21,
   "id": "472de16f-c3db-4916-846b-1f0de9cf1746",
   "metadata": {
    "execution": {
     "iopub.execute_input": "2025-07-30T13:45:47.848129Z",
     "iopub.status.busy": "2025-07-30T13:45:47.847465Z",
     "iopub.status.idle": "2025-07-30T13:45:47.854904Z",
     "shell.execute_reply": "2025-07-30T13:45:47.854018Z"
    },
    "papermill": {
     "duration": 0.029436,
     "end_time": "2025-07-30T13:45:47.856468",
     "exception": false,
     "start_time": "2025-07-30T13:45:47.827032",
     "status": "completed"
    },
    "tags": []
   },
   "outputs": [],
   "source": [
    "X_train = siab_train.iloc[:,4:164]\n",
    "y_train = siab_train.iloc[:, [3]]"
   ]
  },
  {
   "cell_type": "code",
   "execution_count": 22,
   "id": "828c96af-f43a-4ed6-ba47-8ac73a47d56c",
   "metadata": {
    "execution": {
     "iopub.execute_input": "2025-07-30T13:45:47.899268Z",
     "iopub.status.busy": "2025-07-30T13:45:47.898371Z",
     "iopub.status.idle": "2025-07-30T13:45:47.928429Z",
     "shell.execute_reply": "2025-07-30T13:45:47.927534Z"
    },
    "papermill": {
     "duration": 0.052517,
     "end_time": "2025-07-30T13:45:47.930251",
     "exception": false,
     "start_time": "2025-07-30T13:45:47.877734",
     "status": "completed"
    },
    "tags": []
   },
   "outputs": [],
   "source": [
    "X_calib = siab_calib.iloc[:,4:164]\n",
    "y_calib = siab_calib.iloc[:, [3]]"
   ]
  },
  {
   "cell_type": "code",
   "execution_count": 23,
   "id": "c34be9c3-6bd6-476e-acd3-845840e303be",
   "metadata": {
    "execution": {
     "iopub.execute_input": "2025-07-30T13:45:47.973186Z",
     "iopub.status.busy": "2025-07-30T13:45:47.972558Z",
     "iopub.status.idle": "2025-07-30T13:45:48.021376Z",
     "shell.execute_reply": "2025-07-30T13:45:48.020253Z"
    },
    "papermill": {
     "duration": 0.071599,
     "end_time": "2025-07-30T13:45:48.023138",
     "exception": false,
     "start_time": "2025-07-30T13:45:47.951539",
     "status": "completed"
    },
    "tags": []
   },
   "outputs": [],
   "source": [
    "X_test = siab_test.iloc[:,4:164]\n",
    "y_true = siab_test.iloc[:, [3]]"
   ]
  },
  {
   "cell_type": "markdown",
   "id": "9901737e-04df-44f0-9100-f5ad144ed040",
   "metadata": {
    "papermill": {
     "duration": 0.020241,
     "end_time": "2025-07-30T13:45:48.064785",
     "exception": false,
     "start_time": "2025-07-30T13:45:48.044544",
     "status": "completed"
    },
    "tags": []
   },
   "source": [
    "# Splitting Data and Setting Training Data Size OLD VERSION"
   ]
  },
  {
   "cell_type": "code",
   "execution_count": 24,
   "id": "acbc8f7d-8fc8-4e86-8c59-5dcb0f58384b",
   "metadata": {
    "execution": {
     "iopub.execute_input": "2025-07-30T13:45:48.106446Z",
     "iopub.status.busy": "2025-07-30T13:45:48.105990Z",
     "iopub.status.idle": "2025-07-30T13:45:48.111467Z",
     "shell.execute_reply": "2025-07-30T13:45:48.110650Z"
    },
    "papermill": {
     "duration": 0.028169,
     "end_time": "2025-07-30T13:45:48.113277",
     "exception": false,
     "start_time": "2025-07-30T13:45:48.085108",
     "status": "completed"
    },
    "tags": []
   },
   "outputs": [],
   "source": [
    "#def sample_by_year(df, training_size, random_state=42):\n",
    "#    if training_size == \"2014\":\n",
    "#        return df[df[\"year\"] == 2014].reset_index(drop=True)\n",
    "#    \n",
    "#    size_map = {\n",
    "#        \"25k\": 5000,\n",
    "#        \"5k\": 1000,\n",
    "#        \"1k\": 200\n",
    "#    }\n",
    "#\n",
    "#    if training_size not in size_map:\n",
    "#        return df.reset_index(drop=True)  # use all data\n",
    "#\n",
    "#    n_per_year = size_map[training_size]\n",
    "#    grouped = df.groupby(\"year\")\n",
    "#    sampled = grouped.apply(lambda x: x.sample(n=min(n_per_year, len(x)), random_state=random_state))\n",
    "#    return sampled.reset_index(drop=True)"
   ]
  },
  {
   "cell_type": "code",
   "execution_count": 25,
   "id": "6d931f52-beaf-43ff-9e78-9d44a448d54e",
   "metadata": {
    "execution": {
     "iopub.execute_input": "2025-07-30T13:45:48.156467Z",
     "iopub.status.busy": "2025-07-30T13:45:48.156079Z",
     "iopub.status.idle": "2025-07-30T13:45:48.161010Z",
     "shell.execute_reply": "2025-07-30T13:45:48.160146Z"
    },
    "papermill": {
     "duration": 0.028643,
     "end_time": "2025-07-30T13:45:48.163242",
     "exception": false,
     "start_time": "2025-07-30T13:45:48.134599",
     "status": "completed"
    },
    "tags": []
   },
   "outputs": [],
   "source": [
    "#siab_s = sample_by_year(siab, universe[\"training_size\"])"
   ]
  },
  {
   "cell_type": "code",
   "execution_count": 26,
   "id": "5db0a40e-a4e2-4920-be85-b12ae061d70d",
   "metadata": {
    "execution": {
     "iopub.execute_input": "2025-07-30T13:45:48.206476Z",
     "iopub.status.busy": "2025-07-30T13:45:48.206098Z",
     "iopub.status.idle": "2025-07-30T13:45:48.210854Z",
     "shell.execute_reply": "2025-07-30T13:45:48.209994Z"
    },
    "papermill": {
     "duration": 0.028221,
     "end_time": "2025-07-30T13:45:48.212831",
     "exception": false,
     "start_time": "2025-07-30T13:45:48.184610",
     "status": "completed"
    },
    "tags": []
   },
   "outputs": [],
   "source": [
    "#display(siab_s.groupby(\"year\").size())"
   ]
  },
  {
   "cell_type": "code",
   "execution_count": 27,
   "id": "e6c733c5",
   "metadata": {
    "execution": {
     "iopub.execute_input": "2025-07-30T13:45:48.257952Z",
     "iopub.status.busy": "2025-07-30T13:45:48.257116Z",
     "iopub.status.idle": "2025-07-30T13:45:48.361865Z",
     "shell.execute_reply": "2025-07-30T13:45:48.360042Z"
    },
    "papermill": {
     "duration": 0.127713,
     "end_time": "2025-07-30T13:45:48.363631",
     "exception": false,
     "start_time": "2025-07-30T13:45:48.235918",
     "status": "completed"
    },
    "tags": []
   },
   "outputs": [],
   "source": [
    "# Auxiliary data needed downstream in the pipeline\n",
    "\n",
    "org_train = X_train.copy()\n",
    "org_test = X_test.copy()\n",
    "org_calib = X_calib.copy()"
   ]
  },
  {
   "cell_type": "code",
   "execution_count": 28,
   "id": "1466abac-c6da-4492-a62f-4240ae3783af",
   "metadata": {
    "execution": {
     "iopub.execute_input": "2025-07-30T13:45:48.412354Z",
     "iopub.status.busy": "2025-07-30T13:45:48.411386Z",
     "iopub.status.idle": "2025-07-30T13:45:48.418283Z",
     "shell.execute_reply": "2025-07-30T13:45:48.417377Z"
    },
    "papermill": {
     "duration": 0.035157,
     "end_time": "2025-07-30T13:45:48.419937",
     "exception": false,
     "start_time": "2025-07-30T13:45:48.384780",
     "status": "completed"
    },
    "tags": []
   },
   "outputs": [],
   "source": [
    "# put in other script?\n",
    "# Group sizes\n",
    "\n",
    "#def calculate_percentages(df, df_name):\n",
    "#    total_entries = len(df)\n",
    "#\n",
    "#    female_pct = (df['frau1'] == 1).mean() * 100\n",
    "#    non_german_pct = ((df['maxdeutsch1'] == 0) & (df['maxdeutsch.Missing.'] == 0)).mean() * 100\n",
    "#    non_german_male_pct = ((df['frau1'] == 0) & (df['maxdeutsch1'] == 0) & (df['maxdeutsch.Missing.'] == 0)).mean() * 100\n",
    "#    non_german_female_pct = ((df['frau1'] == 1) & (df['maxdeutsch1'] == 0) & (df['maxdeutsch.Missing.'] == 0)).mean() * 100\n",
    "#\n",
    "#    print(f\"--- {df_name} ---\")\n",
    "#    print(f\"Female: {female_pct:.2f}%\")\n",
    "#    print(f\"Non-German: {non_german_pct:.2f}%\")\n",
    "#    print(f\"Non-German Male: {non_german_male_pct:.2f}%\")\n",
    "#    print(f\"Non-German Female: {non_german_female_pct:.2f}%\\n\")\n",
    "#\n",
    "## Calculate for each DataFrame\n",
    "#calculate_percentages(siab_calib, \"siab_calib\")\n",
    "#calculate_percentages(siab_test, \"siab_test\")\n",
    "#calculate_percentages(siab_train, \"siab_train\")"
   ]
  },
  {
   "cell_type": "markdown",
   "id": "0a4a1b33",
   "metadata": {
    "papermill": {
     "duration": 0.022358,
     "end_time": "2025-07-30T13:45:48.490885",
     "exception": false,
     "start_time": "2025-07-30T13:45:48.468527",
     "status": "completed"
    },
    "tags": []
   },
   "source": [
    "# Preprocessing Data"
   ]
  },
  {
   "cell_type": "code",
   "execution_count": 29,
   "id": "ca879031",
   "metadata": {
    "execution": {
     "iopub.execute_input": "2025-07-30T13:45:48.536875Z",
     "iopub.status.busy": "2025-07-30T13:45:48.536498Z",
     "iopub.status.idle": "2025-07-30T13:45:48.542644Z",
     "shell.execute_reply": "2025-07-30T13:45:48.541749Z"
    },
    "papermill": {
     "duration": 0.030642,
     "end_time": "2025-07-30T13:45:48.544491",
     "exception": false,
     "start_time": "2025-07-30T13:45:48.513849",
     "status": "completed"
    },
    "tags": []
   },
   "outputs": [],
   "source": [
    "# EXCLUDE PROTECTED FEATURES\n",
    "# ----------------------\n",
    "# \"exclude_features\": \"none\", # \"nationality\", \"sex\", \"nationality-sex\"\n",
    "\n",
    "excluded_features = universe[\"exclude_features\"].split(\"-\") # split, e.g.: \"nationality-sex\" -> [\"nationality\", \"sex\"]\n",
    "excluded_features_dictionary = {\n",
    "    \"nationality\": [\"maxdeutsch1\", \"maxdeutsch.Missing.\"],\n",
    "    \"sex\": [\"frau1\"],\n",
    "    \"age\": [\"age\"],\n",
    "}\n"
   ]
  },
  {
   "cell_type": "code",
   "execution_count": 30,
   "id": "b745ac60",
   "metadata": {
    "execution": {
     "iopub.execute_input": "2025-07-30T13:45:48.590231Z",
     "iopub.status.busy": "2025-07-30T13:45:48.589771Z",
     "iopub.status.idle": "2025-07-30T13:45:48.595616Z",
     "shell.execute_reply": "2025-07-30T13:45:48.594762Z"
    },
    "papermill": {
     "duration": 0.029619,
     "end_time": "2025-07-30T13:45:48.597119",
     "exception": false,
     "start_time": "2025-07-30T13:45:48.567500",
     "status": "completed"
    },
    "tags": []
   },
   "outputs": [],
   "source": [
    "# Code nice names to column names\n",
    "\n",
    "excluded_features_columns = [\n",
    "    excluded_features_dictionary[f] for f in excluded_features if len(f) > 0 and f != \"none\"\n",
    "]"
   ]
  },
  {
   "cell_type": "code",
   "execution_count": 31,
   "id": "f84f73a2",
   "metadata": {
    "execution": {
     "iopub.execute_input": "2025-07-30T13:45:48.641188Z",
     "iopub.status.busy": "2025-07-30T13:45:48.640721Z",
     "iopub.status.idle": "2025-07-30T13:45:48.647006Z",
     "shell.execute_reply": "2025-07-30T13:45:48.646133Z"
    },
    "papermill": {
     "duration": 0.029367,
     "end_time": "2025-07-30T13:45:48.648697",
     "exception": false,
     "start_time": "2025-07-30T13:45:48.619330",
     "status": "completed"
    },
    "tags": []
   },
   "outputs": [],
   "source": [
    "from utils import flatten_once\n",
    "\n",
    "excluded_features_columns = flatten_once(excluded_features_columns)"
   ]
  },
  {
   "cell_type": "code",
   "execution_count": 32,
   "id": "884dea22",
   "metadata": {
    "execution": {
     "iopub.execute_input": "2025-07-30T13:45:48.692962Z",
     "iopub.status.busy": "2025-07-30T13:45:48.692502Z",
     "iopub.status.idle": "2025-07-30T13:45:48.701304Z",
     "shell.execute_reply": "2025-07-30T13:45:48.700431Z"
    },
    "papermill": {
     "duration": 0.032756,
     "end_time": "2025-07-30T13:45:48.703006",
     "exception": false,
     "start_time": "2025-07-30T13:45:48.670250",
     "status": "completed"
    },
    "tags": []
   },
   "outputs": [
    {
     "name": "stdout",
     "output_type": "stream",
     "text": [
      "Dropping features: ['maxdeutsch1', 'maxdeutsch.Missing.']\n"
     ]
    }
   ],
   "source": [
    "if len(excluded_features_columns) > 0:\n",
    "    print(f\"Dropping features: {excluded_features_columns}\")\n",
    "    X_train.drop(excluded_features_columns, axis=1, inplace=True)"
   ]
  },
  {
   "cell_type": "code",
   "execution_count": 33,
   "id": "95ab8b16",
   "metadata": {
    "execution": {
     "iopub.execute_input": "2025-07-30T13:45:48.748614Z",
     "iopub.status.busy": "2025-07-30T13:45:48.747940Z",
     "iopub.status.idle": "2025-07-30T13:45:48.799283Z",
     "shell.execute_reply": "2025-07-30T13:45:48.798160Z"
    },
    "papermill": {
     "duration": 0.076074,
     "end_time": "2025-07-30T13:45:48.801623",
     "exception": false,
     "start_time": "2025-07-30T13:45:48.725549",
     "status": "completed"
    },
    "tags": []
   },
   "outputs": [
    {
     "name": "stdout",
     "output_type": "stream",
     "text": [
      "Dropping features: ['maxdeutsch1', 'maxdeutsch.Missing.']\n"
     ]
    }
   ],
   "source": [
    "if len(excluded_features_columns) > 0:\n",
    "    print(f\"Dropping features: {excluded_features_columns}\")\n",
    "    X_test.drop(excluded_features_columns, axis=1, inplace=True)"
   ]
  },
  {
   "cell_type": "code",
   "execution_count": 34,
   "id": "1853aaf5-fb9f-46cb-a2b5-8ea4ae2237e4",
   "metadata": {
    "execution": {
     "iopub.execute_input": "2025-07-30T13:45:48.847296Z",
     "iopub.status.busy": "2025-07-30T13:45:48.846817Z",
     "iopub.status.idle": "2025-07-30T13:45:48.895328Z",
     "shell.execute_reply": "2025-07-30T13:45:48.894485Z"
    },
    "papermill": {
     "duration": 0.072773,
     "end_time": "2025-07-30T13:45:48.896850",
     "exception": false,
     "start_time": "2025-07-30T13:45:48.824077",
     "status": "completed"
    },
    "tags": []
   },
   "outputs": [
    {
     "name": "stdout",
     "output_type": "stream",
     "text": [
      "Dropping features: ['maxdeutsch1', 'maxdeutsch.Missing.']\n"
     ]
    }
   ],
   "source": [
    "if len(excluded_features_columns) > 0:\n",
    "    print(f\"Dropping features: {excluded_features_columns}\")\n",
    "    X_calib.drop(excluded_features_columns, axis=1, inplace=True)"
   ]
  },
  {
   "cell_type": "code",
   "execution_count": 35,
   "id": "6727d079-03e5-481e-9d38-292a90b7a0a8",
   "metadata": {
    "execution": {
     "iopub.execute_input": "2025-07-30T13:45:48.955486Z",
     "iopub.status.busy": "2025-07-30T13:45:48.955027Z",
     "iopub.status.idle": "2025-07-30T13:45:48.959594Z",
     "shell.execute_reply": "2025-07-30T13:45:48.958777Z"
    },
    "papermill": {
     "duration": 0.027649,
     "end_time": "2025-07-30T13:45:48.961311",
     "exception": false,
     "start_time": "2025-07-30T13:45:48.933662",
     "status": "completed"
    },
    "tags": []
   },
   "outputs": [],
   "source": [
    "# SPLIT & STRATIFY DATA\n",
    "# ----------------------"
   ]
  },
  {
   "cell_type": "code",
   "execution_count": 36,
   "id": "76c4dc6d",
   "metadata": {
    "execution": {
     "iopub.execute_input": "2025-07-30T13:45:49.005639Z",
     "iopub.status.busy": "2025-07-30T13:45:49.005200Z",
     "iopub.status.idle": "2025-07-30T13:45:49.010195Z",
     "shell.execute_reply": "2025-07-30T13:45:49.009386Z"
    },
    "papermill": {
     "duration": 0.02802,
     "end_time": "2025-07-30T13:45:49.011669",
     "exception": false,
     "start_time": "2025-07-30T13:45:48.983649",
     "status": "completed"
    },
    "tags": []
   },
   "outputs": [],
   "source": [
    "# EXCLUDE CERTAIN SUBGROUPS\n",
    "# ----------------------\n",
    "\n",
    "mode = universe.get(\"exclude_subgroups\", \"keep-all\") \n",
    "# Fetches the exclude_subgroups setting from the universe dict.\n",
    "# Defaults to \"keep-all\" if the key is missing."
   ]
  },
  {
   "cell_type": "code",
   "execution_count": 37,
   "id": "21994072",
   "metadata": {
    "execution": {
     "iopub.execute_input": "2025-07-30T13:45:49.057318Z",
     "iopub.status.busy": "2025-07-30T13:45:49.056856Z",
     "iopub.status.idle": "2025-07-30T13:45:49.063941Z",
     "shell.execute_reply": "2025-07-30T13:45:49.063042Z"
    },
    "papermill": {
     "duration": 0.032005,
     "end_time": "2025-07-30T13:45:49.065663",
     "exception": false,
     "start_time": "2025-07-30T13:45:49.033658",
     "status": "completed"
    },
    "tags": []
   },
   "outputs": [],
   "source": [
    "if mode == \"keep-all\":\n",
    "    keep_mask = pd.Series(True, index=org_train.index)\n",
    "\n",
    "# org_train contains the original feature columns from features_org (in Simson)\n",
    "# features_org contains unprocessed features, for me X_train at beginning ???\n",
    "# For keep-all, creates a boolean Series (keep_mask) of all True, so no rows are removed.\n",
    "\n",
    "elif mode == \"drop-non-german\":\n",
    "    keep_mask = org_train[\"maxdeutsch1\"] == 1 # ??? what about missing values?\n",
    "\n",
    "else:\n",
    "    raise ValueError(f\"Unsupported mode for exclude_subgroups: {mode}\")\n"
   ]
  },
  {
   "cell_type": "code",
   "execution_count": 38,
   "id": "71651440",
   "metadata": {
    "execution": {
     "iopub.execute_input": "2025-07-30T13:45:49.111298Z",
     "iopub.status.busy": "2025-07-30T13:45:49.110655Z",
     "iopub.status.idle": "2025-07-30T13:45:49.118760Z",
     "shell.execute_reply": "2025-07-30T13:45:49.117755Z"
    },
    "papermill": {
     "duration": 0.032133,
     "end_time": "2025-07-30T13:45:49.120231",
     "exception": false,
     "start_time": "2025-07-30T13:45:49.088098",
     "status": "completed"
    },
    "tags": []
   },
   "outputs": [
    {
     "name": "stdout",
     "output_type": "stream",
     "text": [
      "Dropping 741 rows (14.82%) where mode='drop-non-german'\n"
     ]
    }
   ],
   "source": [
    "n_drop = (~keep_mask).sum() # Calculates how many rows are set to be dropped\n",
    "if n_drop > 0:\n",
    "    pct = n_drop / len(keep_mask) * 100\n",
    "    print(f\"Dropping {n_drop} rows ({pct:.2f}%) where mode='{mode}'\")"
   ]
  },
  {
   "cell_type": "code",
   "execution_count": 39,
   "id": "5fb8eee5",
   "metadata": {
    "execution": {
     "iopub.execute_input": "2025-07-30T13:45:49.166448Z",
     "iopub.status.busy": "2025-07-30T13:45:49.165807Z",
     "iopub.status.idle": "2025-07-30T13:45:49.173618Z",
     "shell.execute_reply": "2025-07-30T13:45:49.172708Z"
    },
    "papermill": {
     "duration": 0.032797,
     "end_time": "2025-07-30T13:45:49.175516",
     "exception": false,
     "start_time": "2025-07-30T13:45:49.142719",
     "status": "completed"
    },
    "tags": []
   },
   "outputs": [],
   "source": [
    "X_train = X_train[keep_mask]"
   ]
  },
  {
   "cell_type": "code",
   "execution_count": 40,
   "id": "b202bb3a",
   "metadata": {
    "execution": {
     "iopub.execute_input": "2025-07-30T13:45:49.224277Z",
     "iopub.status.busy": "2025-07-30T13:45:49.219689Z",
     "iopub.status.idle": "2025-07-30T13:45:49.229766Z",
     "shell.execute_reply": "2025-07-30T13:45:49.228955Z"
    },
    "papermill": {
     "duration": 0.033526,
     "end_time": "2025-07-30T13:45:49.231304",
     "exception": false,
     "start_time": "2025-07-30T13:45:49.197778",
     "status": "completed"
    },
    "tags": []
   },
   "outputs": [],
   "source": [
    "y_train = y_train[keep_mask]"
   ]
  },
  {
   "cell_type": "markdown",
   "id": "493e2ac3",
   "metadata": {
    "papermill": {
     "duration": 0.021211,
     "end_time": "2025-07-30T13:45:49.274839",
     "exception": false,
     "start_time": "2025-07-30T13:45:49.253628",
     "status": "completed"
    },
    "tags": []
   },
   "source": [
    "# Model Training"
   ]
  },
  {
   "cell_type": "code",
   "execution_count": 41,
   "id": "679e1268",
   "metadata": {
    "execution": {
     "iopub.execute_input": "2025-07-30T13:45:49.320412Z",
     "iopub.status.busy": "2025-07-30T13:45:49.319913Z",
     "iopub.status.idle": "2025-07-30T13:45:49.420553Z",
     "shell.execute_reply": "2025-07-30T13:45:49.419570Z"
    },
    "papermill": {
     "duration": 0.126685,
     "end_time": "2025-07-30T13:45:49.422381",
     "exception": false,
     "start_time": "2025-07-30T13:45:49.295696",
     "status": "completed"
    },
    "tags": []
   },
   "outputs": [],
   "source": [
    "from sklearn.linear_model import LogisticRegression\n",
    "from sklearn.ensemble import GradientBoostingClassifier, RandomForestClassifier\n",
    "\n",
    "if (universe[\"model\"] == \"logreg\"):\n",
    "    model = LogisticRegression() #penalty=\"none\") #, solver=\"newton-cg\", max_iter=1) # include random_state=19 ?\n",
    "elif (universe[\"model\"] == \"penalized_logreg\"):\n",
    "    model = LogisticRegression(penalty=\"l2\", C=1.0) #, solver=\"newton-cg\", max_iter=1)\n",
    "elif (universe[\"model\"] == \"rf\"):\n",
    "    model = RandomForestClassifier(n_estimators=100, n_jobs=-1)\n",
    "elif (universe[\"model\"] == \"gbm\"):\n",
    "    model = GradientBoostingClassifier()\n",
    "elif (universe[\"model\"] == \"elasticnet\"):\n",
    "    model = LogisticRegression(penalty = 'elasticnet', solver = 'saga', l1_ratio = 0.5, max_iter=5000) # which solver to use?\n",
    "else:\n",
    "    raise \"Unsupported universe.model\""
   ]
  },
  {
   "cell_type": "code",
   "execution_count": 42,
   "id": "0cc8f744",
   "metadata": {
    "execution": {
     "iopub.execute_input": "2025-07-30T13:45:49.468008Z",
     "iopub.status.busy": "2025-07-30T13:45:49.467390Z",
     "iopub.status.idle": "2025-07-30T13:45:49.474368Z",
     "shell.execute_reply": "2025-07-30T13:45:49.473414Z"
    },
    "papermill": {
     "duration": 0.032186,
     "end_time": "2025-07-30T13:45:49.476348",
     "exception": false,
     "start_time": "2025-07-30T13:45:49.444162",
     "status": "completed"
    },
    "tags": []
   },
   "outputs": [],
   "source": [
    "import numpy as np\n",
    "from sklearn.pipeline import Pipeline\n",
    "from sklearn.preprocessing import StandardScaler\n",
    "\n",
    "model = Pipeline([\n",
    "    #(\"continuous_processor\", continuous_processor),\n",
    "    #(\"categorical_preprocessor\", categorical_preprocessor),\n",
    "    (\"scale\", StandardScaler() if universe[\"scale\"] == \"scale\" else None), \n",
    "    (\"model\", model),\n",
    "])"
   ]
  },
  {
   "cell_type": "code",
   "execution_count": 43,
   "id": "9442c04d",
   "metadata": {
    "execution": {
     "iopub.execute_input": "2025-07-30T13:45:49.524901Z",
     "iopub.status.busy": "2025-07-30T13:45:49.524256Z",
     "iopub.status.idle": "2025-07-30T13:45:56.988282Z",
     "shell.execute_reply": "2025-07-30T13:45:56.987477Z"
    },
    "papermill": {
     "duration": 7.48958,
     "end_time": "2025-07-30T13:45:56.989742",
     "exception": false,
     "start_time": "2025-07-30T13:45:49.500162",
     "status": "completed"
    },
    "tags": []
   },
   "outputs": [
    {
     "data": {
      "text/html": [
       "<style>#sk-container-id-1 {color: black;background-color: white;}#sk-container-id-1 pre{padding: 0;}#sk-container-id-1 div.sk-toggleable {background-color: white;}#sk-container-id-1 label.sk-toggleable__label {cursor: pointer;display: block;width: 100%;margin-bottom: 0;padding: 0.3em;box-sizing: border-box;text-align: center;}#sk-container-id-1 label.sk-toggleable__label-arrow:before {content: \"▸\";float: left;margin-right: 0.25em;color: #696969;}#sk-container-id-1 label.sk-toggleable__label-arrow:hover:before {color: black;}#sk-container-id-1 div.sk-estimator:hover label.sk-toggleable__label-arrow:before {color: black;}#sk-container-id-1 div.sk-toggleable__content {max-height: 0;max-width: 0;overflow: hidden;text-align: left;background-color: #f0f8ff;}#sk-container-id-1 div.sk-toggleable__content pre {margin: 0.2em;color: black;border-radius: 0.25em;background-color: #f0f8ff;}#sk-container-id-1 input.sk-toggleable__control:checked~div.sk-toggleable__content {max-height: 200px;max-width: 100%;overflow: auto;}#sk-container-id-1 input.sk-toggleable__control:checked~label.sk-toggleable__label-arrow:before {content: \"▾\";}#sk-container-id-1 div.sk-estimator input.sk-toggleable__control:checked~label.sk-toggleable__label {background-color: #d4ebff;}#sk-container-id-1 div.sk-label input.sk-toggleable__control:checked~label.sk-toggleable__label {background-color: #d4ebff;}#sk-container-id-1 input.sk-hidden--visually {border: 0;clip: rect(1px 1px 1px 1px);clip: rect(1px, 1px, 1px, 1px);height: 1px;margin: -1px;overflow: hidden;padding: 0;position: absolute;width: 1px;}#sk-container-id-1 div.sk-estimator {font-family: monospace;background-color: #f0f8ff;border: 1px dotted black;border-radius: 0.25em;box-sizing: border-box;margin-bottom: 0.5em;}#sk-container-id-1 div.sk-estimator:hover {background-color: #d4ebff;}#sk-container-id-1 div.sk-parallel-item::after {content: \"\";width: 100%;border-bottom: 1px solid gray;flex-grow: 1;}#sk-container-id-1 div.sk-label:hover label.sk-toggleable__label {background-color: #d4ebff;}#sk-container-id-1 div.sk-serial::before {content: \"\";position: absolute;border-left: 1px solid gray;box-sizing: border-box;top: 0;bottom: 0;left: 50%;z-index: 0;}#sk-container-id-1 div.sk-serial {display: flex;flex-direction: column;align-items: center;background-color: white;padding-right: 0.2em;padding-left: 0.2em;position: relative;}#sk-container-id-1 div.sk-item {position: relative;z-index: 1;}#sk-container-id-1 div.sk-parallel {display: flex;align-items: stretch;justify-content: center;background-color: white;position: relative;}#sk-container-id-1 div.sk-item::before, #sk-container-id-1 div.sk-parallel-item::before {content: \"\";position: absolute;border-left: 1px solid gray;box-sizing: border-box;top: 0;bottom: 0;left: 50%;z-index: -1;}#sk-container-id-1 div.sk-parallel-item {display: flex;flex-direction: column;z-index: 1;position: relative;background-color: white;}#sk-container-id-1 div.sk-parallel-item:first-child::after {align-self: flex-end;width: 50%;}#sk-container-id-1 div.sk-parallel-item:last-child::after {align-self: flex-start;width: 50%;}#sk-container-id-1 div.sk-parallel-item:only-child::after {width: 0;}#sk-container-id-1 div.sk-dashed-wrapped {border: 1px dashed gray;margin: 0 0.4em 0.5em 0.4em;box-sizing: border-box;padding-bottom: 0.4em;background-color: white;}#sk-container-id-1 div.sk-label label {font-family: monospace;font-weight: bold;display: inline-block;line-height: 1.2em;}#sk-container-id-1 div.sk-label-container {text-align: center;}#sk-container-id-1 div.sk-container {/* jupyter's `normalize.less` sets `[hidden] { display: none; }` but bootstrap.min.css set `[hidden] { display: none !important; }` so we also need the `!important` here to be able to override the default hidden behavior on the sphinx rendered scikit-learn.org. See: https://github.com/scikit-learn/scikit-learn/issues/21755 */display: inline-block !important;position: relative;}#sk-container-id-1 div.sk-text-repr-fallback {display: none;}</style><div id=\"sk-container-id-1\" class=\"sk-top-container\"><div class=\"sk-text-repr-fallback\"><pre>Pipeline(steps=[(&#x27;scale&#x27;, StandardScaler()),\n",
       "                (&#x27;model&#x27;,\n",
       "                 LogisticRegression(l1_ratio=0.5, max_iter=5000,\n",
       "                                    penalty=&#x27;elasticnet&#x27;, solver=&#x27;saga&#x27;))])</pre><b>In a Jupyter environment, please rerun this cell to show the HTML representation or trust the notebook. <br />On GitHub, the HTML representation is unable to render, please try loading this page with nbviewer.org.</b></div><div class=\"sk-container\" hidden><div class=\"sk-item sk-dashed-wrapped\"><div class=\"sk-label-container\"><div class=\"sk-label sk-toggleable\"><input class=\"sk-toggleable__control sk-hidden--visually\" id=\"sk-estimator-id-1\" type=\"checkbox\" ><label for=\"sk-estimator-id-1\" class=\"sk-toggleable__label sk-toggleable__label-arrow\">Pipeline</label><div class=\"sk-toggleable__content\"><pre>Pipeline(steps=[(&#x27;scale&#x27;, StandardScaler()),\n",
       "                (&#x27;model&#x27;,\n",
       "                 LogisticRegression(l1_ratio=0.5, max_iter=5000,\n",
       "                                    penalty=&#x27;elasticnet&#x27;, solver=&#x27;saga&#x27;))])</pre></div></div></div><div class=\"sk-serial\"><div class=\"sk-item\"><div class=\"sk-estimator sk-toggleable\"><input class=\"sk-toggleable__control sk-hidden--visually\" id=\"sk-estimator-id-2\" type=\"checkbox\" ><label for=\"sk-estimator-id-2\" class=\"sk-toggleable__label sk-toggleable__label-arrow\">StandardScaler</label><div class=\"sk-toggleable__content\"><pre>StandardScaler()</pre></div></div></div><div class=\"sk-item\"><div class=\"sk-estimator sk-toggleable\"><input class=\"sk-toggleable__control sk-hidden--visually\" id=\"sk-estimator-id-3\" type=\"checkbox\" ><label for=\"sk-estimator-id-3\" class=\"sk-toggleable__label sk-toggleable__label-arrow\">LogisticRegression</label><div class=\"sk-toggleable__content\"><pre>LogisticRegression(l1_ratio=0.5, max_iter=5000, penalty=&#x27;elasticnet&#x27;,\n",
       "                   solver=&#x27;saga&#x27;)</pre></div></div></div></div></div></div></div>"
      ],
      "text/plain": [
       "Pipeline(steps=[('scale', StandardScaler()),\n",
       "                ('model',\n",
       "                 LogisticRegression(l1_ratio=0.5, max_iter=5000,\n",
       "                                    penalty='elasticnet', solver='saga'))])"
      ]
     },
     "execution_count": 43,
     "metadata": {},
     "output_type": "execute_result"
    }
   ],
   "source": [
    "model.fit(X_train, y_train.values.ravel())"
   ]
  },
  {
   "cell_type": "code",
   "execution_count": 44,
   "id": "af59f8c0",
   "metadata": {
    "execution": {
     "iopub.execute_input": "2025-07-30T13:45:57.038801Z",
     "iopub.status.busy": "2025-07-30T13:45:57.038180Z",
     "iopub.status.idle": "2025-07-30T13:45:57.043296Z",
     "shell.execute_reply": "2025-07-30T13:45:57.042430Z"
    },
    "papermill": {
     "duration": 0.030224,
     "end_time": "2025-07-30T13:45:57.044771",
     "exception": false,
     "start_time": "2025-07-30T13:45:57.014547",
     "status": "completed"
    },
    "tags": []
   },
   "outputs": [],
   "source": [
    "from fairness_multiverse.universe import predict_w_threshold"
   ]
  },
  {
   "cell_type": "code",
   "execution_count": 45,
   "id": "a7cf2e16",
   "metadata": {
    "execution": {
     "iopub.execute_input": "2025-07-30T13:45:57.095614Z",
     "iopub.status.busy": "2025-07-30T13:45:57.094833Z",
     "iopub.status.idle": "2025-07-30T13:45:57.271555Z",
     "shell.execute_reply": "2025-07-30T13:45:57.270624Z"
    },
    "papermill": {
     "duration": 0.200903,
     "end_time": "2025-07-30T13:45:57.273290",
     "exception": false,
     "start_time": "2025-07-30T13:45:57.072387",
     "status": "completed"
    },
    "tags": []
   },
   "outputs": [
    {
     "data": {
      "text/plain": [
       "0.8564039683424367"
      ]
     },
     "execution_count": 45,
     "metadata": {},
     "output_type": "execute_result"
    }
   ],
   "source": [
    "probs_test = model.predict_proba(X_test)\n",
    "\n",
    "'''\n",
    "Below code returns a boolean array (or binary 0/1 array depending on how it’s used) where each element \n",
    "is True if the probability of class 1 is greater than or equal to the threshold, and False otherwise.\n",
    "'''\n",
    "y_pred_default = predict_w_threshold(probs_test, 0.5)\n",
    "\n",
    "from sklearn.metrics import accuracy_score\n",
    "\n",
    "# Naive prediction\n",
    "accuracy_score(y_true = y_true, y_pred = y_pred_default)"
   ]
  },
  {
   "cell_type": "code",
   "execution_count": 46,
   "id": "081964c3",
   "metadata": {
    "execution": {
     "iopub.execute_input": "2025-07-30T13:45:57.302274Z",
     "iopub.status.busy": "2025-07-30T13:45:57.301957Z",
     "iopub.status.idle": "2025-07-30T13:45:57.478211Z",
     "shell.execute_reply": "2025-07-30T13:45:57.477242Z"
    },
    "papermill": {
     "duration": 0.19032,
     "end_time": "2025-07-30T13:45:57.479508",
     "exception": false,
     "start_time": "2025-07-30T13:45:57.289188",
     "status": "completed"
    },
    "tags": []
   },
   "outputs": [
    {
     "data": {
      "text/plain": [
       "array([0, 0, 0, ..., 0, 0, 0])"
      ]
     },
     "execution_count": 46,
     "metadata": {},
     "output_type": "execute_result"
    }
   ],
   "source": [
    "model.predict(X_test)"
   ]
  },
  {
   "cell_type": "markdown",
   "id": "56c9705b",
   "metadata": {
    "papermill": {
     "duration": 0.013848,
     "end_time": "2025-07-30T13:45:57.507388",
     "exception": false,
     "start_time": "2025-07-30T13:45:57.493540",
     "status": "completed"
    },
    "tags": []
   },
   "source": [
    "# Conformal Prediction"
   ]
  },
  {
   "cell_type": "code",
   "execution_count": 47,
   "id": "160ec6ff",
   "metadata": {
    "execution": {
     "iopub.execute_input": "2025-07-30T13:45:57.551678Z",
     "iopub.status.busy": "2025-07-30T13:45:57.551186Z",
     "iopub.status.idle": "2025-07-30T13:45:57.557531Z",
     "shell.execute_reply": "2025-07-30T13:45:57.556453Z"
    },
    "papermill": {
     "duration": 0.03618,
     "end_time": "2025-07-30T13:45:57.559433",
     "exception": false,
     "start_time": "2025-07-30T13:45:57.523253",
     "status": "completed"
    },
    "tags": []
   },
   "outputs": [],
   "source": [
    "# Miscoverage level for conformal prediction (10% allowed error rate => 90% target coverage)\n",
    "alpha = 0.1"
   ]
  },
  {
   "cell_type": "code",
   "execution_count": 48,
   "id": "eadf4555-3dd3-440e-8e35-f82a4ad9f855",
   "metadata": {
    "execution": {
     "iopub.execute_input": "2025-07-30T13:45:57.613716Z",
     "iopub.status.busy": "2025-07-30T13:45:57.613263Z",
     "iopub.status.idle": "2025-07-30T13:45:57.788494Z",
     "shell.execute_reply": "2025-07-30T13:45:57.787403Z"
    },
    "papermill": {
     "duration": 0.203789,
     "end_time": "2025-07-30T13:45:57.790627",
     "exception": false,
     "start_time": "2025-07-30T13:45:57.586838",
     "status": "completed"
    },
    "tags": []
   },
   "outputs": [],
   "source": [
    "probs_calib = model.predict_proba(X_calib)"
   ]
  },
  {
   "cell_type": "code",
   "execution_count": 49,
   "id": "2ed93547-6d5d-4983-9b36-1ecb300da49a",
   "metadata": {
    "execution": {
     "iopub.execute_input": "2025-07-30T13:45:57.851453Z",
     "iopub.status.busy": "2025-07-30T13:45:57.850925Z",
     "iopub.status.idle": "2025-07-30T13:45:57.856922Z",
     "shell.execute_reply": "2025-07-30T13:45:57.855843Z"
    },
    "papermill": {
     "duration": 0.039019,
     "end_time": "2025-07-30T13:45:57.858388",
     "exception": false,
     "start_time": "2025-07-30T13:45:57.819369",
     "status": "completed"
    },
    "tags": []
   },
   "outputs": [],
   "source": [
    "y_calib = y_calib.values.ravel().astype(int)"
   ]
  },
  {
   "cell_type": "code",
   "execution_count": 50,
   "id": "65d1320d-f588-4b38-9072-62af1ae97f7d",
   "metadata": {
    "execution": {
     "iopub.execute_input": "2025-07-30T13:45:57.914956Z",
     "iopub.status.busy": "2025-07-30T13:45:57.914430Z",
     "iopub.status.idle": "2025-07-30T13:45:57.923837Z",
     "shell.execute_reply": "2025-07-30T13:45:57.922669Z"
    },
    "papermill": {
     "duration": 0.041491,
     "end_time": "2025-07-30T13:45:57.927416",
     "exception": false,
     "start_time": "2025-07-30T13:45:57.885925",
     "status": "completed"
    },
    "tags": []
   },
   "outputs": [],
   "source": [
    "from fairness_multiverse.conformal import compute_nc_scores\n",
    "\n",
    "# Compute nonconformity scores on calibration set (1 - probability of true class)\n",
    "nc_scores = compute_nc_scores(probs_calib, y_calib)"
   ]
  },
  {
   "cell_type": "code",
   "execution_count": 51,
   "id": "df3b8ca3-53b7-43d5-9667-7c85da7aeda2",
   "metadata": {
    "execution": {
     "iopub.execute_input": "2025-07-30T13:45:57.985226Z",
     "iopub.status.busy": "2025-07-30T13:45:57.984423Z",
     "iopub.status.idle": "2025-07-30T13:45:57.991545Z",
     "shell.execute_reply": "2025-07-30T13:45:57.990620Z"
    },
    "papermill": {
     "duration": 0.037263,
     "end_time": "2025-07-30T13:45:57.993219",
     "exception": false,
     "start_time": "2025-07-30T13:45:57.955956",
     "status": "completed"
    },
    "tags": []
   },
   "outputs": [],
   "source": [
    "from fairness_multiverse.conformal import find_threshold\n",
    "\n",
    "# Find conformal threshold q_hat for the given alpha (split conformal method)\n",
    "q_hat = find_threshold(nc_scores, alpha)"
   ]
  },
  {
   "cell_type": "code",
   "execution_count": 52,
   "id": "4d29e6c1-0ef6-4aa4-b8fe-4fe79b0d033a",
   "metadata": {
    "execution": {
     "iopub.execute_input": "2025-07-30T13:45:58.043793Z",
     "iopub.status.busy": "2025-07-30T13:45:58.042970Z",
     "iopub.status.idle": "2025-07-30T13:45:58.050836Z",
     "shell.execute_reply": "2025-07-30T13:45:58.049885Z"
    },
    "papermill": {
     "duration": 0.035974,
     "end_time": "2025-07-30T13:45:58.052672",
     "exception": false,
     "start_time": "2025-07-30T13:45:58.016698",
     "status": "completed"
    },
    "tags": []
   },
   "outputs": [
    {
     "data": {
      "text/plain": [
       "0.6901717154527456"
      ]
     },
     "execution_count": 52,
     "metadata": {},
     "output_type": "execute_result"
    }
   ],
   "source": [
    "q_hat"
   ]
  },
  {
   "cell_type": "code",
   "execution_count": 53,
   "id": "92460794-cdac-4be2-ba28-f28c0515a6fb",
   "metadata": {
    "execution": {
     "iopub.execute_input": "2025-07-30T13:45:58.086003Z",
     "iopub.status.busy": "2025-07-30T13:45:58.085530Z",
     "iopub.status.idle": "2025-07-30T13:45:58.934972Z",
     "shell.execute_reply": "2025-07-30T13:45:58.934045Z"
    },
    "papermill": {
     "duration": 0.86577,
     "end_time": "2025-07-30T13:45:58.936926",
     "exception": false,
     "start_time": "2025-07-30T13:45:58.071156",
     "status": "completed"
    },
    "tags": []
   },
   "outputs": [],
   "source": [
    "from fairness_multiverse.conformal import predict_conformal_sets\n",
    "\n",
    "# Generate prediction sets for each test example\n",
    "pred_sets = predict_conformal_sets(model, X_test, q_hat)"
   ]
  },
  {
   "cell_type": "code",
   "execution_count": 54,
   "id": "d90c9a65-e6db-4f5d-80cd-e68fb7e46829",
   "metadata": {
    "execution": {
     "iopub.execute_input": "2025-07-30T13:45:58.992403Z",
     "iopub.status.busy": "2025-07-30T13:45:58.991742Z",
     "iopub.status.idle": "2025-07-30T13:45:58.997305Z",
     "shell.execute_reply": "2025-07-30T13:45:58.996398Z"
    },
    "papermill": {
     "duration": 0.034807,
     "end_time": "2025-07-30T13:45:58.999187",
     "exception": false,
     "start_time": "2025-07-30T13:45:58.964380",
     "status": "completed"
    },
    "tags": []
   },
   "outputs": [],
   "source": [
    "y_true = y_true.squeeze()"
   ]
  },
  {
   "cell_type": "code",
   "execution_count": 55,
   "id": "3a58a54a-1e68-46b9-927a-df01f18aebc8",
   "metadata": {
    "execution": {
     "iopub.execute_input": "2025-07-30T13:45:59.050775Z",
     "iopub.status.busy": "2025-07-30T13:45:59.050282Z",
     "iopub.status.idle": "2025-07-30T13:46:00.081184Z",
     "shell.execute_reply": "2025-07-30T13:46:00.080267Z"
    },
    "papermill": {
     "duration": 1.056389,
     "end_time": "2025-07-30T13:46:00.083037",
     "exception": false,
     "start_time": "2025-07-30T13:45:59.026648",
     "status": "completed"
    },
    "tags": []
   },
   "outputs": [],
   "source": [
    "from fairness_multiverse.conformal import evaluate_sets\n",
    "\n",
    "# Evaluate coverage and average set size on test data\n",
    "metrics = evaluate_sets(pred_sets, y_true)"
   ]
  },
  {
   "cell_type": "markdown",
   "id": "2b569c12-9aaa-4c88-98c9-bbcd0cf3ebb8",
   "metadata": {
    "papermill": {
     "duration": 0.024637,
     "end_time": "2025-07-30T13:46:00.131824",
     "exception": false,
     "start_time": "2025-07-30T13:46:00.107187",
     "status": "completed"
    },
    "tags": []
   },
   "source": [
    "# CP Metrics"
   ]
  },
  {
   "cell_type": "code",
   "execution_count": 56,
   "id": "5ce0a5cb-201f-45a0-ade5-94c7f0bd6095",
   "metadata": {
    "execution": {
     "iopub.execute_input": "2025-07-30T13:46:00.183272Z",
     "iopub.status.busy": "2025-07-30T13:46:00.182741Z",
     "iopub.status.idle": "2025-07-30T13:46:00.190049Z",
     "shell.execute_reply": "2025-07-30T13:46:00.189032Z"
    },
    "papermill": {
     "duration": 0.033802,
     "end_time": "2025-07-30T13:46:00.191635",
     "exception": false,
     "start_time": "2025-07-30T13:46:00.157833",
     "status": "completed"
    },
    "tags": []
   },
   "outputs": [
    {
     "data": {
      "text/plain": [
       "{'coverage': 0.910010032326385, 'avg_size': 1.1372199308884183}"
      ]
     },
     "execution_count": 56,
     "metadata": {},
     "output_type": "execute_result"
    }
   ],
   "source": [
    "metrics"
   ]
  },
  {
   "cell_type": "code",
   "execution_count": 57,
   "id": "9b9a838d-31c9-430b-ae14-12baee460d17",
   "metadata": {
    "execution": {
     "iopub.execute_input": "2025-07-30T13:46:00.243237Z",
     "iopub.status.busy": "2025-07-30T13:46:00.242593Z",
     "iopub.status.idle": "2025-07-30T13:46:00.248831Z",
     "shell.execute_reply": "2025-07-30T13:46:00.247749Z"
    },
    "papermill": {
     "duration": 0.032659,
     "end_time": "2025-07-30T13:46:00.250567",
     "exception": false,
     "start_time": "2025-07-30T13:46:00.217908",
     "status": "completed"
    },
    "tags": []
   },
   "outputs": [],
   "source": [
    "example_universe = universe.copy()\n",
    "universe_training_size = example_universe.get(\"training_size\")\n",
    "universe_scale = example_universe.get(\"scale\")\n",
    "universe_model = example_universe.get(\"model\")\n",
    "universe_exclude_features = example_universe.get(\"exclude_features\")\n",
    "universe_exclude_subgroups = example_universe.get(\"exclude_subgroups\")"
   ]
  },
  {
   "cell_type": "code",
   "execution_count": 58,
   "id": "f4b6a8ac-9dc0-4245-8a91-5b3b5999c4f9",
   "metadata": {
    "execution": {
     "iopub.execute_input": "2025-07-30T13:46:00.302810Z",
     "iopub.status.busy": "2025-07-30T13:46:00.302343Z",
     "iopub.status.idle": "2025-07-30T13:46:00.309034Z",
     "shell.execute_reply": "2025-07-30T13:46:00.308057Z"
    },
    "papermill": {
     "duration": 0.032908,
     "end_time": "2025-07-30T13:46:00.310686",
     "exception": false,
     "start_time": "2025-07-30T13:46:00.277778",
     "status": "completed"
    },
    "tags": []
   },
   "outputs": [],
   "source": [
    "cp_metrics_dict = {\n",
    "    \"universe_id\": [universe_id],\n",
    "    \"universe_training_size\": [universe_training_size],\n",
    "    \"universe_scale\": [universe_scale],\n",
    "    \"universe_model\": [universe_model],\n",
    "    \"universe_exclude_features\": [universe_exclude_features],\n",
    "    \"universe_exclude_subgroups\": [universe_exclude_subgroups],\n",
    "    \"q_hat\": [q_hat],\n",
    "    \"coverage\": [metrics[\"coverage\"]],\n",
    "    \"avg_size\": [metrics[\"avg_size\"]],\n",
    "}"
   ]
  },
  {
   "cell_type": "code",
   "execution_count": 59,
   "id": "908acbb1-0371-4915-85ca-3fa520d2efe2",
   "metadata": {
    "execution": {
     "iopub.execute_input": "2025-07-30T13:46:00.362439Z",
     "iopub.status.busy": "2025-07-30T13:46:00.361923Z",
     "iopub.status.idle": "2025-07-30T13:46:00.369277Z",
     "shell.execute_reply": "2025-07-30T13:46:00.368283Z"
    },
    "papermill": {
     "duration": 0.034023,
     "end_time": "2025-07-30T13:46:00.371006",
     "exception": false,
     "start_time": "2025-07-30T13:46:00.336983",
     "status": "completed"
    },
    "tags": []
   },
   "outputs": [
    {
     "data": {
      "text/plain": [
       "{'universe_id': ['2be3e277838ba440bc4352c92e002947'],\n",
       " 'universe_training_size': ['5k'],\n",
       " 'universe_scale': ['scale'],\n",
       " 'universe_model': ['elasticnet'],\n",
       " 'universe_exclude_features': ['nationality'],\n",
       " 'universe_exclude_subgroups': ['drop-non-german'],\n",
       " 'q_hat': [0.6901717154527456],\n",
       " 'coverage': [0.910010032326385],\n",
       " 'avg_size': [1.1372199308884183]}"
      ]
     },
     "execution_count": 59,
     "metadata": {},
     "output_type": "execute_result"
    }
   ],
   "source": [
    "cp_metrics_dict"
   ]
  },
  {
   "cell_type": "code",
   "execution_count": 60,
   "id": "33007efc-14e9-4ec6-97ac-56a455c82265",
   "metadata": {
    "execution": {
     "iopub.execute_input": "2025-07-30T13:46:00.423143Z",
     "iopub.status.busy": "2025-07-30T13:46:00.422686Z",
     "iopub.status.idle": "2025-07-30T13:46:00.428579Z",
     "shell.execute_reply": "2025-07-30T13:46:00.427707Z"
    },
    "papermill": {
     "duration": 0.033915,
     "end_time": "2025-07-30T13:46:00.430180",
     "exception": false,
     "start_time": "2025-07-30T13:46:00.396265",
     "status": "completed"
    },
    "tags": []
   },
   "outputs": [],
   "source": [
    "cp_metrics_df = pd.DataFrame(cp_metrics_dict)"
   ]
  },
  {
   "cell_type": "code",
   "execution_count": 61,
   "id": "db12611b-57b2-4910-b9d0-355adfd6e7bf",
   "metadata": {
    "execution": {
     "iopub.execute_input": "2025-07-30T13:46:00.481483Z",
     "iopub.status.busy": "2025-07-30T13:46:00.480829Z",
     "iopub.status.idle": "2025-07-30T13:46:00.498879Z",
     "shell.execute_reply": "2025-07-30T13:46:00.497922Z"
    },
    "papermill": {
     "duration": 0.044565,
     "end_time": "2025-07-30T13:46:00.500463",
     "exception": false,
     "start_time": "2025-07-30T13:46:00.455898",
     "status": "completed"
    },
    "tags": []
   },
   "outputs": [
    {
     "data": {
      "text/html": [
       "<div>\n",
       "<style scoped>\n",
       "    .dataframe tbody tr th:only-of-type {\n",
       "        vertical-align: middle;\n",
       "    }\n",
       "\n",
       "    .dataframe tbody tr th {\n",
       "        vertical-align: top;\n",
       "    }\n",
       "\n",
       "    .dataframe thead th {\n",
       "        text-align: right;\n",
       "    }\n",
       "</style>\n",
       "<table border=\"1\" class=\"dataframe\">\n",
       "  <thead>\n",
       "    <tr style=\"text-align: right;\">\n",
       "      <th></th>\n",
       "      <th>universe_id</th>\n",
       "      <th>universe_training_size</th>\n",
       "      <th>universe_scale</th>\n",
       "      <th>universe_model</th>\n",
       "      <th>universe_exclude_features</th>\n",
       "      <th>universe_exclude_subgroups</th>\n",
       "      <th>q_hat</th>\n",
       "      <th>coverage</th>\n",
       "      <th>avg_size</th>\n",
       "    </tr>\n",
       "  </thead>\n",
       "  <tbody>\n",
       "    <tr>\n",
       "      <th>0</th>\n",
       "      <td>2be3e277838ba440bc4352c92e002947</td>\n",
       "      <td>5k</td>\n",
       "      <td>scale</td>\n",
       "      <td>elasticnet</td>\n",
       "      <td>nationality</td>\n",
       "      <td>drop-non-german</td>\n",
       "      <td>0.690172</td>\n",
       "      <td>0.91001</td>\n",
       "      <td>1.13722</td>\n",
       "    </tr>\n",
       "  </tbody>\n",
       "</table>\n",
       "</div>"
      ],
      "text/plain": [
       "                        universe_id universe_training_size universe_scale  \\\n",
       "0  2be3e277838ba440bc4352c92e002947                     5k          scale   \n",
       "\n",
       "  universe_model universe_exclude_features universe_exclude_subgroups  \\\n",
       "0     elasticnet               nationality            drop-non-german   \n",
       "\n",
       "      q_hat  coverage  avg_size  \n",
       "0  0.690172   0.91001   1.13722  "
      ]
     },
     "execution_count": 61,
     "metadata": {},
     "output_type": "execute_result"
    }
   ],
   "source": [
    "cp_metrics_df"
   ]
  },
  {
   "cell_type": "code",
   "execution_count": 62,
   "id": "b7fbde55-a0a1-47e4-9af6-fe4a17fa8c61",
   "metadata": {
    "execution": {
     "iopub.execute_input": "2025-07-30T13:46:00.554519Z",
     "iopub.status.busy": "2025-07-30T13:46:00.554060Z",
     "iopub.status.idle": "2025-07-30T13:46:00.558952Z",
     "shell.execute_reply": "2025-07-30T13:46:00.557988Z"
    },
    "papermill": {
     "duration": 0.031991,
     "end_time": "2025-07-30T13:46:00.560594",
     "exception": false,
     "start_time": "2025-07-30T13:46:00.528603",
     "status": "completed"
    },
    "tags": []
   },
   "outputs": [],
   "source": [
    "# Conditional Coverage & looking at subgroups"
   ]
  },
  {
   "cell_type": "code",
   "execution_count": 63,
   "id": "027ae886-68dd-4141-96c7-805a5450e1ef",
   "metadata": {
    "execution": {
     "iopub.execute_input": "2025-07-30T13:46:00.614050Z",
     "iopub.status.busy": "2025-07-30T13:46:00.613564Z",
     "iopub.status.idle": "2025-07-30T13:46:00.875472Z",
     "shell.execute_reply": "2025-07-30T13:46:00.874589Z"
    },
    "papermill": {
     "duration": 0.290218,
     "end_time": "2025-07-30T13:46:00.877207",
     "exception": false,
     "start_time": "2025-07-30T13:46:00.586989",
     "status": "completed"
    },
    "tags": []
   },
   "outputs": [],
   "source": [
    "from fairness_multiverse.conformal import build_cp_groups\n",
    "\n",
    "cp_groups_df = build_cp_groups(pred_sets, y_true, X_test.index, org_test)\n",
    "#needs universe_id and setting"
   ]
  },
  {
   "cell_type": "code",
   "execution_count": 64,
   "id": "01d5802c-663a-4d1f-9d69-e036faaffbf7",
   "metadata": {
    "execution": {
     "iopub.execute_input": "2025-07-30T13:46:00.930505Z",
     "iopub.status.busy": "2025-07-30T13:46:00.930037Z",
     "iopub.status.idle": "2025-07-30T13:46:00.934623Z",
     "shell.execute_reply": "2025-07-30T13:46:00.933758Z"
    },
    "papermill": {
     "duration": 0.032092,
     "end_time": "2025-07-30T13:46:00.936285",
     "exception": false,
     "start_time": "2025-07-30T13:46:00.904193",
     "status": "completed"
    },
    "tags": []
   },
   "outputs": [],
   "source": [
    "#delete\n",
    "#cp_groups_df"
   ]
  },
  {
   "cell_type": "code",
   "execution_count": 65,
   "id": "fa424af1-d1eb-443d-b717-2d279ada8408",
   "metadata": {
    "execution": {
     "iopub.execute_input": "2025-07-30T13:46:00.991978Z",
     "iopub.status.busy": "2025-07-30T13:46:00.991502Z",
     "iopub.status.idle": "2025-07-30T13:46:00.996835Z",
     "shell.execute_reply": "2025-07-30T13:46:00.995673Z"
    },
    "papermill": {
     "duration": 0.0362,
     "end_time": "2025-07-30T13:46:00.998669",
     "exception": false,
     "start_time": "2025-07-30T13:46:00.962469",
     "status": "completed"
    },
    "tags": []
   },
   "outputs": [],
   "source": [
    "#delete\n",
    "#percentage = (cp_groups_df['nongerman_female'] == 1).mean() * 100\n",
    "#print(percentage)\n"
   ]
  },
  {
   "cell_type": "code",
   "execution_count": 66,
   "id": "6cbdab96-b2b2-45af-ad54-d0516db2e28d",
   "metadata": {
    "execution": {
     "iopub.execute_input": "2025-07-30T13:46:01.065824Z",
     "iopub.status.busy": "2025-07-30T13:46:01.065335Z",
     "iopub.status.idle": "2025-07-30T13:46:02.600361Z",
     "shell.execute_reply": "2025-07-30T13:46:02.599400Z"
    },
    "papermill": {
     "duration": 1.573128,
     "end_time": "2025-07-30T13:46:02.602049",
     "exception": false,
     "start_time": "2025-07-30T13:46:01.028921",
     "status": "completed"
    },
    "tags": []
   },
   "outputs": [],
   "source": [
    "# Define covered = 1 if true_label is in the predicted set\n",
    "cp_groups_df['covered'] = cp_groups_df.apply(\n",
    "    lambda r: int(r['true_label'] in r['pred_set']),\n",
    "    axis=1\n",
    ")"
   ]
  },
  {
   "cell_type": "code",
   "execution_count": 67,
   "id": "338ff529-1a6b-4b87-a931-8e4788d52aad",
   "metadata": {
    "execution": {
     "iopub.execute_input": "2025-07-30T13:46:02.655146Z",
     "iopub.status.busy": "2025-07-30T13:46:02.654268Z",
     "iopub.status.idle": "2025-07-30T13:46:02.659253Z",
     "shell.execute_reply": "2025-07-30T13:46:02.658365Z"
    },
    "papermill": {
     "duration": 0.032734,
     "end_time": "2025-07-30T13:46:02.660962",
     "exception": false,
     "start_time": "2025-07-30T13:46:02.628228",
     "status": "completed"
    },
    "tags": []
   },
   "outputs": [],
   "source": [
    "#cp_groups_df"
   ]
  },
  {
   "cell_type": "code",
   "execution_count": 68,
   "id": "90032e27-66df-4540-9169-4e89cfbaa758",
   "metadata": {
    "execution": {
     "iopub.execute_input": "2025-07-30T13:46:02.713470Z",
     "iopub.status.busy": "2025-07-30T13:46:02.712694Z",
     "iopub.status.idle": "2025-07-30T13:46:02.724236Z",
     "shell.execute_reply": "2025-07-30T13:46:02.723360Z"
    },
    "papermill": {
     "duration": 0.039054,
     "end_time": "2025-07-30T13:46:02.725817",
     "exception": false,
     "start_time": "2025-07-30T13:46:02.686763",
     "status": "completed"
    },
    "tags": []
   },
   "outputs": [],
   "source": [
    "subgroups = ['frau1','nongerman','nongerman_male','nongerman_female']\n",
    "\n",
    "# Conditional coverage for subgroup==1\n",
    "cond_coverage = {\n",
    "    g: cp_groups_df.loc[cp_groups_df[g]==1, 'covered'].mean()\n",
    "    for g in subgroups\n",
    "}"
   ]
  },
  {
   "cell_type": "code",
   "execution_count": 69,
   "id": "1e348fb1-b9c3-45bc-ba23-f016827a7e0d",
   "metadata": {
    "execution": {
     "iopub.execute_input": "2025-07-30T13:46:02.778256Z",
     "iopub.status.busy": "2025-07-30T13:46:02.777635Z",
     "iopub.status.idle": "2025-07-30T13:46:02.785295Z",
     "shell.execute_reply": "2025-07-30T13:46:02.784364Z"
    },
    "papermill": {
     "duration": 0.036165,
     "end_time": "2025-07-30T13:46:02.786832",
     "exception": false,
     "start_time": "2025-07-30T13:46:02.750667",
     "status": "completed"
    },
    "tags": []
   },
   "outputs": [
    {
     "data": {
      "text/plain": [
       "{'frau1': 0.9068068472840005,\n",
       " 'nongerman': 0.9079324089148375,\n",
       " 'nongerman_male': 0.92704674412321,\n",
       " 'nongerman_female': 0.8763040238450075}"
      ]
     },
     "execution_count": 69,
     "metadata": {},
     "output_type": "execute_result"
    }
   ],
   "source": [
    "cond_coverage"
   ]
  },
  {
   "cell_type": "code",
   "execution_count": 70,
   "id": "f5093324-c3dd-4d63-bc4c-8d945e5c8bbb",
   "metadata": {
    "execution": {
     "iopub.execute_input": "2025-07-30T13:46:02.841939Z",
     "iopub.status.busy": "2025-07-30T13:46:02.841292Z",
     "iopub.status.idle": "2025-07-30T13:46:02.849630Z",
     "shell.execute_reply": "2025-07-30T13:46:02.848678Z"
    },
    "papermill": {
     "duration": 0.03821,
     "end_time": "2025-07-30T13:46:02.851359",
     "exception": false,
     "start_time": "2025-07-30T13:46:02.813149",
     "status": "completed"
    },
    "tags": []
   },
   "outputs": [],
   "source": [
    "for subgroup, cov in cond_coverage.items():\n",
    "    cp_metrics_df[f\"cov_{subgroup}\"] = cov"
   ]
  },
  {
   "cell_type": "code",
   "execution_count": 71,
   "id": "6e872e10-dbe5-49e8-b554-5030c98ff75d",
   "metadata": {
    "execution": {
     "iopub.execute_input": "2025-07-30T13:46:02.920424Z",
     "iopub.status.busy": "2025-07-30T13:46:02.919949Z",
     "iopub.status.idle": "2025-07-30T13:46:02.937822Z",
     "shell.execute_reply": "2025-07-30T13:46:02.936948Z"
    },
    "papermill": {
     "duration": 0.056906,
     "end_time": "2025-07-30T13:46:02.939450",
     "exception": false,
     "start_time": "2025-07-30T13:46:02.882544",
     "status": "completed"
    },
    "tags": []
   },
   "outputs": [
    {
     "data": {
      "text/html": [
       "<div>\n",
       "<style scoped>\n",
       "    .dataframe tbody tr th:only-of-type {\n",
       "        vertical-align: middle;\n",
       "    }\n",
       "\n",
       "    .dataframe tbody tr th {\n",
       "        vertical-align: top;\n",
       "    }\n",
       "\n",
       "    .dataframe thead th {\n",
       "        text-align: right;\n",
       "    }\n",
       "</style>\n",
       "<table border=\"1\" class=\"dataframe\">\n",
       "  <thead>\n",
       "    <tr style=\"text-align: right;\">\n",
       "      <th></th>\n",
       "      <th>universe_id</th>\n",
       "      <th>universe_training_size</th>\n",
       "      <th>universe_scale</th>\n",
       "      <th>universe_model</th>\n",
       "      <th>universe_exclude_features</th>\n",
       "      <th>universe_exclude_subgroups</th>\n",
       "      <th>q_hat</th>\n",
       "      <th>coverage</th>\n",
       "      <th>avg_size</th>\n",
       "      <th>cov_frau1</th>\n",
       "      <th>cov_nongerman</th>\n",
       "      <th>cov_nongerman_male</th>\n",
       "      <th>cov_nongerman_female</th>\n",
       "    </tr>\n",
       "  </thead>\n",
       "  <tbody>\n",
       "    <tr>\n",
       "      <th>0</th>\n",
       "      <td>2be3e277838ba440bc4352c92e002947</td>\n",
       "      <td>5k</td>\n",
       "      <td>scale</td>\n",
       "      <td>elasticnet</td>\n",
       "      <td>nationality</td>\n",
       "      <td>drop-non-german</td>\n",
       "      <td>0.690172</td>\n",
       "      <td>0.91001</td>\n",
       "      <td>1.13722</td>\n",
       "      <td>0.906807</td>\n",
       "      <td>0.907932</td>\n",
       "      <td>0.927047</td>\n",
       "      <td>0.876304</td>\n",
       "    </tr>\n",
       "  </tbody>\n",
       "</table>\n",
       "</div>"
      ],
      "text/plain": [
       "                        universe_id universe_training_size universe_scale  \\\n",
       "0  2be3e277838ba440bc4352c92e002947                     5k          scale   \n",
       "\n",
       "  universe_model universe_exclude_features universe_exclude_subgroups  \\\n",
       "0     elasticnet               nationality            drop-non-german   \n",
       "\n",
       "      q_hat  coverage  avg_size  cov_frau1  cov_nongerman  cov_nongerman_male  \\\n",
       "0  0.690172   0.91001   1.13722   0.906807       0.907932            0.927047   \n",
       "\n",
       "   cov_nongerman_female  \n",
       "0              0.876304  "
      ]
     },
     "execution_count": 71,
     "metadata": {},
     "output_type": "execute_result"
    }
   ],
   "source": [
    "cp_metrics_df"
   ]
  },
  {
   "cell_type": "markdown",
   "id": "33774451",
   "metadata": {
    "papermill": {
     "duration": 0.024222,
     "end_time": "2025-07-30T13:46:02.991057",
     "exception": false,
     "start_time": "2025-07-30T13:46:02.966835",
     "status": "completed"
    },
    "tags": []
   },
   "source": [
    "# (Fairness) Metrics"
   ]
  },
  {
   "cell_type": "code",
   "execution_count": 72,
   "id": "debc5d62",
   "metadata": {
    "execution": {
     "iopub.execute_input": "2025-07-30T13:46:03.042191Z",
     "iopub.status.busy": "2025-07-30T13:46:03.041410Z",
     "iopub.status.idle": "2025-07-30T13:46:03.065102Z",
     "shell.execute_reply": "2025-07-30T13:46:03.064218Z"
    },
    "papermill": {
     "duration": 0.050766,
     "end_time": "2025-07-30T13:46:03.066790",
     "exception": false,
     "start_time": "2025-07-30T13:46:03.016024",
     "status": "completed"
    },
    "tags": []
   },
   "outputs": [],
   "source": [
    "# do I need to include maxdeutsch1.missing?\n",
    "\n",
    "import numpy as np\n",
    "\n",
    "colname_to_bin = \"maxdeutsch1\"\n",
    "majority_value = org_train[colname_to_bin].mode()[0]\n",
    "\n",
    "org_test[\"majmin\"] = np.where(org_test[colname_to_bin] == majority_value, \"majority\", \"minority\")"
   ]
  },
  {
   "cell_type": "code",
   "execution_count": 73,
   "id": "06a50de5",
   "metadata": {
    "execution": {
     "iopub.execute_input": "2025-07-30T13:46:03.119175Z",
     "iopub.status.busy": "2025-07-30T13:46:03.118219Z",
     "iopub.status.idle": "2025-07-30T13:46:05.999860Z",
     "shell.execute_reply": "2025-07-30T13:46:05.998954Z"
    },
    "papermill": {
     "duration": 2.909395,
     "end_time": "2025-07-30T13:46:06.001596",
     "exception": false,
     "start_time": "2025-07-30T13:46:03.092201",
     "status": "completed"
    },
    "tags": []
   },
   "outputs": [],
   "source": [
    "example_universe = universe.copy()\n",
    "example_universe[\"cutoff\"] = example_universe[\"cutoff\"][0]\n",
    "example_universe[\"eval_fairness_grouping\"] = example_universe[\"eval_fairness_grouping\"][0]\n",
    "fairness_dict, metric_frame = universe_analysis.compute_metrics(\n",
    "    example_universe,\n",
    "    y_pred_prob=probs_test,\n",
    "    y_test=y_true,\n",
    "    org_test=org_test,\n",
    ")"
   ]
  },
  {
   "cell_type": "markdown",
   "id": "f95d4e02",
   "metadata": {
    "papermill": {
     "duration": 0.043493,
     "end_time": "2025-07-30T13:46:06.073210",
     "exception": false,
     "start_time": "2025-07-30T13:46:06.029717",
     "status": "completed"
    },
    "tags": []
   },
   "source": [
    "# Overall"
   ]
  },
  {
   "cell_type": "markdown",
   "id": "bdee4871",
   "metadata": {
    "papermill": {
     "duration": 0.024279,
     "end_time": "2025-07-30T13:46:06.121989",
     "exception": false,
     "start_time": "2025-07-30T13:46:06.097710",
     "status": "completed"
    },
    "tags": []
   },
   "source": [
    "Fairness\n",
    "Main fairness target: Equalized Odds. Seems to be a better fit than equal opportunity, since we're not only interested in Y = 1. Seems to be a better fit than demographic parity, since we also care about accuracy, not just equal distribution of preds.\n",
    "\n",
    "Pick column for computation of fairness metrics\n",
    "\n",
    "Performance\n",
    "Overall performance measures, most interesting in relation to the measures split by group below"
   ]
  },
  {
   "cell_type": "code",
   "execution_count": 74,
   "id": "c4e067c6",
   "metadata": {
    "execution": {
     "iopub.execute_input": "2025-07-30T13:46:06.175774Z",
     "iopub.status.busy": "2025-07-30T13:46:06.175315Z",
     "iopub.status.idle": "2025-07-30T13:46:06.183250Z",
     "shell.execute_reply": "2025-07-30T13:46:06.182430Z"
    },
    "papermill": {
     "duration": 0.039308,
     "end_time": "2025-07-30T13:46:06.186309",
     "exception": false,
     "start_time": "2025-07-30T13:46:06.147001",
     "status": "completed"
    },
    "tags": []
   },
   "outputs": [
    {
     "data": {
      "text/plain": [
       "accuracy                   0.223464\n",
       "balanced accuracy          0.546592\n",
       "f1                         0.244821\n",
       "precision                  0.139858\n",
       "false positive rate        0.888046\n",
       "false negative rate        0.018770\n",
       "selection rate             0.900000\n",
       "count                  89710.000000\n",
       "dtype: float64"
      ]
     },
     "execution_count": 74,
     "metadata": {},
     "output_type": "execute_result"
    }
   ],
   "source": [
    "metric_frame.overall"
   ]
  },
  {
   "cell_type": "markdown",
   "id": "e968fe9d",
   "metadata": {
    "papermill": {
     "duration": 0.029881,
     "end_time": "2025-07-30T13:46:06.243126",
     "exception": false,
     "start_time": "2025-07-30T13:46:06.213245",
     "status": "completed"
    },
    "tags": []
   },
   "source": [
    "By Group"
   ]
  },
  {
   "cell_type": "code",
   "execution_count": 75,
   "id": "ec325bce",
   "metadata": {
    "execution": {
     "iopub.execute_input": "2025-07-30T13:46:06.295898Z",
     "iopub.status.busy": "2025-07-30T13:46:06.295447Z",
     "iopub.status.idle": "2025-07-30T13:46:06.311080Z",
     "shell.execute_reply": "2025-07-30T13:46:06.310237Z"
    },
    "papermill": {
     "duration": 0.045019,
     "end_time": "2025-07-30T13:46:06.314562",
     "exception": false,
     "start_time": "2025-07-30T13:46:06.269543",
     "status": "completed"
    },
    "tags": []
   },
   "outputs": [
    {
     "data": {
      "text/html": [
       "<div>\n",
       "<style scoped>\n",
       "    .dataframe tbody tr th:only-of-type {\n",
       "        vertical-align: middle;\n",
       "    }\n",
       "\n",
       "    .dataframe tbody tr th {\n",
       "        vertical-align: top;\n",
       "    }\n",
       "\n",
       "    .dataframe thead th {\n",
       "        text-align: right;\n",
       "    }\n",
       "</style>\n",
       "<table border=\"1\" class=\"dataframe\">\n",
       "  <thead>\n",
       "    <tr style=\"text-align: right;\">\n",
       "      <th></th>\n",
       "      <th>accuracy</th>\n",
       "      <th>balanced accuracy</th>\n",
       "      <th>f1</th>\n",
       "      <th>precision</th>\n",
       "      <th>false positive rate</th>\n",
       "      <th>false negative rate</th>\n",
       "      <th>selection rate</th>\n",
       "      <th>count</th>\n",
       "    </tr>\n",
       "    <tr>\n",
       "      <th>majmin</th>\n",
       "      <th></th>\n",
       "      <th></th>\n",
       "      <th></th>\n",
       "      <th></th>\n",
       "      <th></th>\n",
       "      <th></th>\n",
       "      <th></th>\n",
       "      <th></th>\n",
       "    </tr>\n",
       "  </thead>\n",
       "  <tbody>\n",
       "    <tr>\n",
       "      <th>majority</th>\n",
       "      <td>0.235767</td>\n",
       "      <td>0.552376</td>\n",
       "      <td>0.253636</td>\n",
       "      <td>0.145608</td>\n",
       "      <td>0.877961</td>\n",
       "      <td>0.017287</td>\n",
       "      <td>0.891803</td>\n",
       "      <td>69170.0</td>\n",
       "    </tr>\n",
       "    <tr>\n",
       "      <th>minority</th>\n",
       "      <td>0.182035</td>\n",
       "      <td>0.527072</td>\n",
       "      <td>0.215676</td>\n",
       "      <td>0.121241</td>\n",
       "      <td>0.921363</td>\n",
       "      <td>0.024493</td>\n",
       "      <td>0.927605</td>\n",
       "      <td>20540.0</td>\n",
       "    </tr>\n",
       "  </tbody>\n",
       "</table>\n",
       "</div>"
      ],
      "text/plain": [
       "          accuracy  balanced accuracy        f1  precision  \\\n",
       "majmin                                                       \n",
       "majority  0.235767           0.552376  0.253636   0.145608   \n",
       "minority  0.182035           0.527072  0.215676   0.121241   \n",
       "\n",
       "          false positive rate  false negative rate  selection rate    count  \n",
       "majmin                                                                       \n",
       "majority             0.877961             0.017287        0.891803  69170.0  \n",
       "minority             0.921363             0.024493        0.927605  20540.0  "
      ]
     },
     "execution_count": 75,
     "metadata": {},
     "output_type": "execute_result"
    }
   ],
   "source": [
    "metric_frame.by_group"
   ]
  },
  {
   "cell_type": "code",
   "execution_count": 76,
   "id": "a9ddbe63",
   "metadata": {
    "execution": {
     "iopub.execute_input": "2025-07-30T13:46:06.371262Z",
     "iopub.status.busy": "2025-07-30T13:46:06.370809Z",
     "iopub.status.idle": "2025-07-30T13:46:08.616348Z",
     "shell.execute_reply": "2025-07-30T13:46:08.615419Z"
    },
    "papermill": {
     "duration": 2.275262,
     "end_time": "2025-07-30T13:46:08.618320",
     "exception": false,
     "start_time": "2025-07-30T13:46:06.343058",
     "status": "completed"
    },
    "tags": []
   },
   "outputs": [
    {
     "data": {
      "text/plain": [
       "array([[<Axes: title={'center': 'accuracy'}, xlabel='majmin'>,\n",
       "        <Axes: title={'center': 'balanced accuracy'}, xlabel='majmin'>,\n",
       "        <Axes: title={'center': 'f1'}, xlabel='majmin'>],\n",
       "       [<Axes: title={'center': 'precision'}, xlabel='majmin'>,\n",
       "        <Axes: title={'center': 'false positive rate'}, xlabel='majmin'>,\n",
       "        <Axes: title={'center': 'false negative rate'}, xlabel='majmin'>],\n",
       "       [<Axes: title={'center': 'selection rate'}, xlabel='majmin'>,\n",
       "        <Axes: title={'center': 'count'}, xlabel='majmin'>,\n",
       "        <Axes: xlabel='majmin'>]], dtype=object)"
      ]
     },
     "execution_count": 76,
     "metadata": {},
     "output_type": "execute_result"
    },
    {
     "data": {
      "image/png": "[encoded data removed]",
      "text/plain": [
       "<Figure size 1200x800 with 9 Axes>"
      ]
     },
     "metadata": {},
     "output_type": "display_data"
    }
   ],
   "source": [
    "# In a graphic\n",
    "metric_frame.by_group.plot.bar(\n",
    "    subplots=True,\n",
    "    layout=[3, 3],\n",
    "    legend=False,\n",
    "    figsize=[12, 8],\n",
    "    title=\"Show all metrics\",\n",
    ")"
   ]
  },
  {
   "cell_type": "markdown",
   "id": "f57a0bac",
   "metadata": {
    "papermill": {
     "duration": 0.027639,
     "end_time": "2025-07-30T13:46:08.676594",
     "exception": false,
     "start_time": "2025-07-30T13:46:08.648955",
     "status": "completed"
    },
    "tags": []
   },
   "source": [
    "# Final Output"
   ]
  },
  {
   "cell_type": "code",
   "execution_count": 77,
   "id": "96d280a3",
   "metadata": {
    "execution": {
     "iopub.execute_input": "2025-07-30T13:46:08.734649Z",
     "iopub.status.busy": "2025-07-30T13:46:08.733583Z",
     "iopub.status.idle": "2025-07-30T13:46:08.742946Z",
     "shell.execute_reply": "2025-07-30T13:46:08.741742Z"
    },
    "papermill": {
     "duration": 0.041411,
     "end_time": "2025-07-30T13:46:08.744965",
     "exception": false,
     "start_time": "2025-07-30T13:46:08.703554",
     "status": "completed"
    },
    "tags": []
   },
   "outputs": [
    {
     "data": {
      "text/plain": [
       "4"
      ]
     },
     "execution_count": 77,
     "metadata": {},
     "output_type": "execute_result"
    }
   ],
   "source": [
    "sub_universes = universe_analysis.generate_sub_universes()\n",
    "len(sub_universes)"
   ]
  },
  {
   "cell_type": "code",
   "execution_count": 78,
   "id": "92adf7ba",
   "metadata": {
    "execution": {
     "iopub.execute_input": "2025-07-30T13:46:08.811575Z",
     "iopub.status.busy": "2025-07-30T13:46:08.810859Z",
     "iopub.status.idle": "2025-07-30T13:46:08.816975Z",
     "shell.execute_reply": "2025-07-30T13:46:08.816040Z"
    },
    "papermill": {
     "duration": 0.03815,
     "end_time": "2025-07-30T13:46:08.818492",
     "exception": false,
     "start_time": "2025-07-30T13:46:08.780342",
     "status": "completed"
    },
    "tags": []
   },
   "outputs": [],
   "source": [
    "def filter_sub_universe_data(sub_universe, org_test):\n",
    "    # Keep all rows — no filtering\n",
    "    keep_rows_mask = np.ones(org_test.shape[0], dtype=bool)\n",
    "\n",
    "    print(f\"[INFO] Keeping all rows: {keep_rows_mask.sum()} rows retained.\")\n",
    "    return keep_rows_mask"
   ]
  },
  {
   "cell_type": "code",
   "execution_count": 79,
   "id": "4a759155",
   "metadata": {
    "execution": {
     "iopub.execute_input": "2025-07-30T13:46:08.878792Z",
     "iopub.status.busy": "2025-07-30T13:46:08.878119Z",
     "iopub.status.idle": "2025-07-30T13:46:17.654336Z",
     "shell.execute_reply": "2025-07-30T13:46:17.653269Z"
    },
    "papermill": {
     "duration": 8.807826,
     "end_time": "2025-07-30T13:46:17.655968",
     "exception": false,
     "start_time": "2025-07-30T13:46:08.848142",
     "status": "completed"
    },
    "tags": []
   },
   "outputs": [
    {
     "name": "stdout",
     "output_type": "stream",
     "text": [
      "Stopping execution_time clock.\n",
      "[INFO] Keeping all rows: 89710 rows retained.\n"
     ]
    },
    {
     "name": "stdout",
     "output_type": "stream",
     "text": [
      "[INFO] Keeping all rows: 89710 rows retained.\n"
     ]
    },
    {
     "name": "stdout",
     "output_type": "stream",
     "text": [
      "[INFO] Keeping all rows: 89710 rows retained.\n"
     ]
    },
    {
     "name": "stdout",
     "output_type": "stream",
     "text": [
      "[INFO] Keeping all rows: 89710 rows retained.\n"
     ]
    },
    {
     "data": {
      "text/html": [
       "<div>\n",
       "<style scoped>\n",
       "    .dataframe tbody tr th:only-of-type {\n",
       "        vertical-align: middle;\n",
       "    }\n",
       "\n",
       "    .dataframe tbody tr th {\n",
       "        vertical-align: top;\n",
       "    }\n",
       "\n",
       "    .dataframe thead th {\n",
       "        text-align: right;\n",
       "    }\n",
       "</style>\n",
       "<table border=\"1\" class=\"dataframe\">\n",
       "  <thead>\n",
       "    <tr style=\"text-align: right;\">\n",
       "      <th></th>\n",
       "      <th>run_no</th>\n",
       "      <th>universe_id</th>\n",
       "      <th>universe_settings</th>\n",
       "      <th>execution_time</th>\n",
       "      <th>test_size_n</th>\n",
       "      <th>test_size_frac</th>\n",
       "      <th>fair_main_equalized_odds_difference</th>\n",
       "      <th>fair_main_equalized_odds_ratio</th>\n",
       "      <th>fair_main_demographic_parity_difference</th>\n",
       "      <th>fair_main_demographic_parity_ratio</th>\n",
       "      <th>...</th>\n",
       "      <th>perf_grp_precision_0</th>\n",
       "      <th>perf_grp_precision_1</th>\n",
       "      <th>perf_grp_false positive rate_0</th>\n",
       "      <th>perf_grp_false positive rate_1</th>\n",
       "      <th>perf_grp_false negative rate_0</th>\n",
       "      <th>perf_grp_false negative rate_1</th>\n",
       "      <th>perf_grp_selection rate_0</th>\n",
       "      <th>perf_grp_selection rate_1</th>\n",
       "      <th>perf_grp_count_0</th>\n",
       "      <th>perf_grp_count_1</th>\n",
       "    </tr>\n",
       "  </thead>\n",
       "  <tbody>\n",
       "    <tr>\n",
       "      <th>0</th>\n",
       "      <td>12</td>\n",
       "      <td>2be3e277838ba440bc4352c92e002947</td>\n",
       "      <td>{\"cutoff\": \"quantile_0.1\", \"eval_fairness_grou...</td>\n",
       "      <td>34.31663</td>\n",
       "      <td>89710</td>\n",
       "      <td>1.0</td>\n",
       "      <td>0.043402</td>\n",
       "      <td>0.952894</td>\n",
       "      <td>0.035802</td>\n",
       "      <td>0.961404</td>\n",
       "      <td>...</td>\n",
       "      <td>NaN</td>\n",
       "      <td>NaN</td>\n",
       "      <td>NaN</td>\n",
       "      <td>NaN</td>\n",
       "      <td>NaN</td>\n",
       "      <td>NaN</td>\n",
       "      <td>NaN</td>\n",
       "      <td>NaN</td>\n",
       "      <td>NaN</td>\n",
       "      <td>NaN</td>\n",
       "    </tr>\n",
       "    <tr>\n",
       "      <th>0</th>\n",
       "      <td>12</td>\n",
       "      <td>2be3e277838ba440bc4352c92e002947</td>\n",
       "      <td>{\"cutoff\": \"quantile_0.1\", \"eval_fairness_grou...</td>\n",
       "      <td>34.31663</td>\n",
       "      <td>89710</td>\n",
       "      <td>1.0</td>\n",
       "      <td>0.043402</td>\n",
       "      <td>0.952894</td>\n",
       "      <td>0.035802</td>\n",
       "      <td>0.961404</td>\n",
       "      <td>...</td>\n",
       "      <td>0.121241</td>\n",
       "      <td>0.145608</td>\n",
       "      <td>0.921363</td>\n",
       "      <td>0.877961</td>\n",
       "      <td>0.024493</td>\n",
       "      <td>0.017287</td>\n",
       "      <td>0.927605</td>\n",
       "      <td>0.891803</td>\n",
       "      <td>20540.0</td>\n",
       "      <td>69170.0</td>\n",
       "    </tr>\n",
       "    <tr>\n",
       "      <th>0</th>\n",
       "      <td>12</td>\n",
       "      <td>2be3e277838ba440bc4352c92e002947</td>\n",
       "      <td>{\"cutoff\": \"quantile_0.25\", \"eval_fairness_gro...</td>\n",
       "      <td>34.31663</td>\n",
       "      <td>89710</td>\n",
       "      <td>1.0</td>\n",
       "      <td>0.109477</td>\n",
       "      <td>0.864435</td>\n",
       "      <td>0.091311</td>\n",
       "      <td>0.888699</td>\n",
       "      <td>...</td>\n",
       "      <td>NaN</td>\n",
       "      <td>NaN</td>\n",
       "      <td>NaN</td>\n",
       "      <td>NaN</td>\n",
       "      <td>NaN</td>\n",
       "      <td>NaN</td>\n",
       "      <td>NaN</td>\n",
       "      <td>NaN</td>\n",
       "      <td>NaN</td>\n",
       "      <td>NaN</td>\n",
       "    </tr>\n",
       "    <tr>\n",
       "      <th>0</th>\n",
       "      <td>12</td>\n",
       "      <td>2be3e277838ba440bc4352c92e002947</td>\n",
       "      <td>{\"cutoff\": \"quantile_0.25\", \"eval_fairness_gro...</td>\n",
       "      <td>34.31663</td>\n",
       "      <td>89710</td>\n",
       "      <td>1.0</td>\n",
       "      <td>0.109477</td>\n",
       "      <td>0.864435</td>\n",
       "      <td>0.091311</td>\n",
       "      <td>0.888699</td>\n",
       "      <td>...</td>\n",
       "      <td>0.129132</td>\n",
       "      <td>0.169043</td>\n",
       "      <td>0.807561</td>\n",
       "      <td>0.698084</td>\n",
       "      <td>0.081081</td>\n",
       "      <td>0.067287</td>\n",
       "      <td>0.820399</td>\n",
       "      <td>0.729088</td>\n",
       "      <td>20540.0</td>\n",
       "      <td>69170.0</td>\n",
       "    </tr>\n",
       "  </tbody>\n",
       "</table>\n",
       "<p>4 rows × 50 columns</p>\n",
       "</div>"
      ],
      "text/plain": [
       "  run_no                       universe_id  \\\n",
       "0     12  2be3e277838ba440bc4352c92e002947   \n",
       "0     12  2be3e277838ba440bc4352c92e002947   \n",
       "0     12  2be3e277838ba440bc4352c92e002947   \n",
       "0     12  2be3e277838ba440bc4352c92e002947   \n",
       "\n",
       "                                   universe_settings  execution_time  \\\n",
       "0  {\"cutoff\": \"quantile_0.1\", \"eval_fairness_grou...        34.31663   \n",
       "0  {\"cutoff\": \"quantile_0.1\", \"eval_fairness_grou...        34.31663   \n",
       "0  {\"cutoff\": \"quantile_0.25\", \"eval_fairness_gro...        34.31663   \n",
       "0  {\"cutoff\": \"quantile_0.25\", \"eval_fairness_gro...        34.31663   \n",
       "\n",
       "   test_size_n  test_size_frac  fair_main_equalized_odds_difference  \\\n",
       "0        89710             1.0                             0.043402   \n",
       "0        89710             1.0                             0.043402   \n",
       "0        89710             1.0                             0.109477   \n",
       "0        89710             1.0                             0.109477   \n",
       "\n",
       "   fair_main_equalized_odds_ratio  fair_main_demographic_parity_difference  \\\n",
       "0                        0.952894                                 0.035802   \n",
       "0                        0.952894                                 0.035802   \n",
       "0                        0.864435                                 0.091311   \n",
       "0                        0.864435                                 0.091311   \n",
       "\n",
       "   fair_main_demographic_parity_ratio  ...  perf_grp_precision_0  \\\n",
       "0                            0.961404  ...                   NaN   \n",
       "0                            0.961404  ...              0.121241   \n",
       "0                            0.888699  ...                   NaN   \n",
       "0                            0.888699  ...              0.129132   \n",
       "\n",
       "   perf_grp_precision_1  perf_grp_false positive rate_0  \\\n",
       "0                   NaN                             NaN   \n",
       "0              0.145608                        0.921363   \n",
       "0                   NaN                             NaN   \n",
       "0              0.169043                        0.807561   \n",
       "\n",
       "   perf_grp_false positive rate_1  perf_grp_false negative rate_0  \\\n",
       "0                             NaN                             NaN   \n",
       "0                        0.877961                        0.024493   \n",
       "0                             NaN                             NaN   \n",
       "0                        0.698084                        0.081081   \n",
       "\n",
       "   perf_grp_false negative rate_1  perf_grp_selection rate_0  \\\n",
       "0                             NaN                        NaN   \n",
       "0                        0.017287                   0.927605   \n",
       "0                             NaN                        NaN   \n",
       "0                        0.067287                   0.820399   \n",
       "\n",
       "   perf_grp_selection rate_1  perf_grp_count_0  perf_grp_count_1  \n",
       "0                        NaN               NaN               NaN  \n",
       "0                   0.891803           20540.0           69170.0  \n",
       "0                        NaN               NaN               NaN  \n",
       "0                   0.729088           20540.0           69170.0  \n",
       "\n",
       "[4 rows x 50 columns]"
      ]
     },
     "execution_count": 79,
     "metadata": {},
     "output_type": "execute_result"
    }
   ],
   "source": [
    "final_output = universe_analysis.generate_final_output(\n",
    "    y_pred_prob=probs_test,\n",
    "    y_test=y_true,\n",
    "    org_test=org_test,\n",
    "    filter_data=filter_sub_universe_data,\n",
    "    cp_metrics_df=cp_metrics_df,\n",
    "    save=True,\n",
    ")\n",
    "final_output"
   ]
  },
  {
   "cell_type": "code",
   "execution_count": null,
   "id": "721ff514-cb11-46f8-b6fc-50392f74b5cb",
   "metadata": {
    "papermill": {
     "duration": 0.031303,
     "end_time": "2025-07-30T13:46:17.722474",
     "exception": false,
     "start_time": "2025-07-30T13:46:17.691171",
     "status": "completed"
    },
    "tags": []
   },
   "outputs": [],
   "source": []
  }
 ],
 "metadata": {
  "celltoolbar": "Tags",
  "kernelspec": {
   "display_name": "Python (CMA Fairness)",
   "language": "python",
   "name": "cma_fair_env"
  },
  "language_info": {
   "codemirror_mode": {
    "name": "ipython",
    "version": 3
   },
   "file_extension": ".py",
   "mimetype": "text/x-python",
   "name": "python",
   "nbconvert_exporter": "python",
   "pygments_lexer": "ipython3",
   "version": "3.10.12"
  },
  "papermill": {
   "default_parameters": {},
   "duration": 47.315961,
   "end_time": "2025-07-30T13:46:18.573124",
   "environment_variables": {},
   "exception": null,
   "input_path": "universe_analysis.ipynb",
   "output_path": "output/runs/12/notebooks/m_12-2be3e277838ba440bc4352c92e002947.ipynb",
   "parameters": {
    "output_dir": "output",
    "run_no": "12",
    "seed": "2023",
    "universe": "{\"cutoff\": [\"quantile_0.1\", \"quantile_0.25\"], \"eval_fairness_grouping\": [\"majority-minority\", \"nationality-all\"], \"exclude_features\": \"nationality\", \"exclude_subgroups\": \"drop-non-german\", \"model\": \"elasticnet\", \"scale\": \"scale\", \"training_size\": \"5k\", \"training_year\": \"2014\"}",
    "universe_id": "2be3e277838ba440bc4352c92e002947"
   },
   "start_time": "2025-07-30T13:45:31.257163",
   "version": "2.6.0"
  }
 },
 "nbformat": 4,
 "nbformat_minor": 5
}