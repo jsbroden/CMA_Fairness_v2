{
 "cells": [
  {
   "cell_type": "code",
   "execution_count": 1,
   "id": "f159f837-637b-42ba-96b5-ec9a68c44524",
   "metadata": {
    "execution": {
     "iopub.execute_input": "2025-07-30T14:09:31.569795Z",
     "iopub.status.busy": "2025-07-30T14:09:31.569350Z",
     "iopub.status.idle": "2025-07-30T14:09:31.583063Z",
     "shell.execute_reply": "2025-07-30T14:09:31.582192Z"
    },
    "papermill": {
     "duration": 0.035357,
     "end_time": "2025-07-30T14:09:31.584557",
     "exception": false,
     "start_time": "2025-07-30T14:09:31.549200",
     "status": "completed"
    },
    "tags": []
   },
   "outputs": [
    {
     "name": "stdout",
     "output_type": "stream",
     "text": [
      "/dss/dsshome1/0C/ra93lal2/cma/CMA_Fairness_v2\n"
     ]
    },
    {
     "name": "stderr",
     "output_type": "stream",
     "text": [
      "/dss/dsshome1/0C/ra93lal2/.local/share/virtualenvs/CMA_Fairness_v2-3j10GkSs/lib/python3.10/site-packages/IPython/core/magics/osm.py:393: UserWarning: This is now an optional IPython functionality, using bookmarks requires you to install the `pickleshare` library.\n",
      "  bkms = self.shell.db.get('bookmarks', {})\n",
      "/dss/dsshome1/0C/ra93lal2/.local/share/virtualenvs/CMA_Fairness_v2-3j10GkSs/lib/python3.10/site-packages/IPython/core/magics/osm.py:417: UserWarning: This is now an optional IPython functionality, setting dhist requires you to install the `pickleshare` library.\n",
      "  self.shell.db['dhist'] = compress_dhist(dhist)[-100:]\n"
     ]
    }
   ],
   "source": [
    "%cd ~/cma/CMA_Fairness_v2"
   ]
  },
  {
   "cell_type": "markdown",
   "id": "de2603b9",
   "metadata": {
    "papermill": {
     "duration": 0.018235,
     "end_time": "2025-07-30T14:09:31.622145",
     "exception": false,
     "start_time": "2025-07-30T14:09:31.603910",
     "status": "completed"
    },
    "tags": []
   },
   "source": [
    "The following cell holds the definition of our parameters, these values can be overriden by rendering the with e.g. the following command:\n",
    "\n",
    "papermill -p alpha 0.2 -p ratio 0.3 universe_analysis.ipynb output/test_run.ipynb"
   ]
  },
  {
   "cell_type": "code",
   "execution_count": 2,
   "id": "a80968a0-40bb-4fa9-85ef-2d5eefb01975",
   "metadata": {
    "execution": {
     "iopub.execute_input": "2025-07-30T14:09:31.662558Z",
     "iopub.status.busy": "2025-07-30T14:09:31.662042Z",
     "iopub.status.idle": "2025-07-30T14:09:31.667991Z",
     "shell.execute_reply": "2025-07-30T14:09:31.666960Z"
    },
    "papermill": {
     "duration": 0.028408,
     "end_time": "2025-07-30T14:09:31.669980",
     "exception": false,
     "start_time": "2025-07-30T14:09:31.641572",
     "status": "completed"
    },
    "tags": []
   },
   "outputs": [
    {
     "name": "stdout",
     "output_type": "stream",
     "text": [
      "Current working directory: /dss/dsshome1/0C/ra93lal2/cma/CMA_Fairness_v2\n"
     ]
    }
   ],
   "source": [
    "import os\n",
    "print(\"Current working directory:\", os.getcwd())"
   ]
  },
  {
   "cell_type": "code",
   "execution_count": 3,
   "id": "2dce4c03",
   "metadata": {
    "execution": {
     "iopub.execute_input": "2025-07-30T14:09:31.710430Z",
     "iopub.status.busy": "2025-07-30T14:09:31.709904Z",
     "iopub.status.idle": "2025-07-30T14:09:31.716148Z",
     "shell.execute_reply": "2025-07-30T14:09:31.715283Z"
    },
    "papermill": {
     "duration": 0.028432,
     "end_time": "2025-07-30T14:09:31.717696",
     "exception": false,
     "start_time": "2025-07-30T14:09:31.689264",
     "status": "completed"
    },
    "tags": [
     "parameters"
    ]
   },
   "outputs": [],
   "source": [
    "run_no = 0\n",
    "universe_id = \"test\"\n",
    "universe = {\n",
    "    \"training_size\": \"25k\", # \"25k\", \"5k\", \"1k\"\n",
    "    \"training_year\": \"2014\", # \"2014\", \"2012_14\", \"2010_14\"\n",
    "    \"scale\": \"scale\", # \"scale\", \"do-not-scale\",\n",
    "    #\"stratify_split\": \"target\", # \"none\", \"target\", \"protected-attribute\", \"both\",\n",
    "    \"model\": \"elasticnet\", # \"logreg\", \"penalized_logreg\", \"rf\", \"gbm\", \"elasticnet\"\n",
    "    \"cutoff\": [\"quantile_0.15\", \"quantile_0.30\"],\n",
    "    \"exclude_features\": \"age\", # \"none\", \"nationality\", \"sex\", \"nationality-sex\", \"age\"\n",
    "    \"exclude_subgroups\": \"keep-all\", # \"keep-all\", \"drop-non-german\"\n",
    "    \"eval_fairness_grouping\": [\"majority-minority\", \"nationality-all\"]\n",
    "}\n",
    "\n",
    "output_dir=\"./output\"\n",
    "seed=0"
   ]
  },
  {
   "cell_type": "code",
   "execution_count": 4,
   "id": "1645e435",
   "metadata": {
    "execution": {
     "iopub.execute_input": "2025-07-30T14:09:31.760384Z",
     "iopub.status.busy": "2025-07-30T14:09:31.759928Z",
     "iopub.status.idle": "2025-07-30T14:09:31.765294Z",
     "shell.execute_reply": "2025-07-30T14:09:31.764286Z"
    },
    "papermill": {
     "duration": 0.028336,
     "end_time": "2025-07-30T14:09:31.767202",
     "exception": false,
     "start_time": "2025-07-30T14:09:31.738866",
     "status": "completed"
    },
    "tags": [
     "injected-parameters"
    ]
   },
   "outputs": [],
   "source": [
    "# Parameters\n",
    "universe_id = \"d8331663d8c1e9eba1793926b5fbbde1\"\n",
    "run_no = \"12\"\n",
    "universe = \"{\\\"cutoff\\\": [\\\"quantile_0.1\\\", \\\"quantile_0.25\\\"], \\\"eval_fairness_grouping\\\": [\\\"majority-minority\\\", \\\"nationality-all\\\"], \\\"exclude_features\\\": \\\"nationality\\\", \\\"exclude_subgroups\\\": \\\"keep-all\\\", \\\"model\\\": \\\"gbm\\\", \\\"scale\\\": \\\"scale\\\", \\\"training_size\\\": \\\"5k\\\", \\\"training_year\\\": \\\"2010_14\\\"}\"\n",
    "output_dir = \"output\"\n",
    "seed = \"2023\"\n"
   ]
  },
  {
   "cell_type": "code",
   "execution_count": 5,
   "id": "1650acaf",
   "metadata": {
    "execution": {
     "iopub.execute_input": "2025-07-30T14:09:31.809161Z",
     "iopub.status.busy": "2025-07-30T14:09:31.808750Z",
     "iopub.status.idle": "2025-07-30T14:09:31.813346Z",
     "shell.execute_reply": "2025-07-30T14:09:31.812425Z"
    },
    "papermill": {
     "duration": 0.027212,
     "end_time": "2025-07-30T14:09:31.815027",
     "exception": false,
     "start_time": "2025-07-30T14:09:31.787815",
     "status": "completed"
    },
    "tags": []
   },
   "outputs": [],
   "source": [
    "import json\n",
    "# Parse universe into dict if it is passed as a string\n",
    "if isinstance(universe, str):\n",
    "    universe = json.loads(universe)"
   ]
  },
  {
   "cell_type": "code",
   "execution_count": 6,
   "id": "16620c48",
   "metadata": {
    "execution": {
     "iopub.execute_input": "2025-07-30T14:09:31.855965Z",
     "iopub.status.busy": "2025-07-30T14:09:31.855231Z",
     "iopub.status.idle": "2025-07-30T14:09:31.899225Z",
     "shell.execute_reply": "2025-07-30T14:09:31.898292Z"
    },
    "papermill": {
     "duration": 0.06677,
     "end_time": "2025-07-30T14:09:31.901080",
     "exception": false,
     "start_time": "2025-07-30T14:09:31.834310",
     "status": "completed"
    },
    "tags": []
   },
   "outputs": [],
   "source": [
    "# Auto-reload the custom package\n",
    "%load_ext autoreload\n",
    "%autoreload 1\n",
    "%aimport fairness_multiverse"
   ]
  },
  {
   "cell_type": "code",
   "execution_count": 7,
   "id": "01c5c9f3",
   "metadata": {
    "execution": {
     "iopub.execute_input": "2025-07-30T14:09:31.939820Z",
     "iopub.status.busy": "2025-07-30T14:09:31.939353Z",
     "iopub.status.idle": "2025-07-30T14:09:33.957167Z",
     "shell.execute_reply": "2025-07-30T14:09:33.956119Z"
    },
    "papermill": {
     "duration": 2.03911,
     "end_time": "2025-07-30T14:09:33.959021",
     "exception": false,
     "start_time": "2025-07-30T14:09:31.919911",
     "status": "completed"
    },
    "tags": []
   },
   "outputs": [],
   "source": [
    "from fairness_multiverse.universe import UniverseAnalysis\n",
    "\n",
    "universe_analysis = UniverseAnalysis(\n",
    "    run_no = run_no,\n",
    "    universe_id = universe_id,\n",
    "    universe = universe,\n",
    "    output_dir=output_dir,\n",
    ")"
   ]
  },
  {
   "cell_type": "code",
   "execution_count": 8,
   "id": "106241f5",
   "metadata": {
    "execution": {
     "iopub.execute_input": "2025-07-30T14:09:34.004442Z",
     "iopub.status.busy": "2025-07-30T14:09:34.003525Z",
     "iopub.status.idle": "2025-07-30T14:09:34.010188Z",
     "shell.execute_reply": "2025-07-30T14:09:34.009338Z"
    },
    "papermill": {
     "duration": 0.029945,
     "end_time": "2025-07-30T14:09:34.011778",
     "exception": false,
     "start_time": "2025-07-30T14:09:33.981833",
     "status": "completed"
    },
    "tags": []
   },
   "outputs": [
    {
     "name": "stdout",
     "output_type": "stream",
     "text": [
      "Using Seed: 2023\n"
     ]
    }
   ],
   "source": [
    "import numpy as np\n",
    "parsed_seed = int(seed)\n",
    "np.random.seed(parsed_seed)\n",
    "print(f\"Using Seed: {parsed_seed}\")"
   ]
  },
  {
   "cell_type": "markdown",
   "id": "e0ebdc57",
   "metadata": {
    "papermill": {
     "duration": 0.019884,
     "end_time": "2025-07-30T14:09:34.052725",
     "exception": false,
     "start_time": "2025-07-30T14:09:34.032841",
     "status": "completed"
    },
    "tags": []
   },
   "source": [
    "# Loading Data"
   ]
  },
  {
   "cell_type": "markdown",
   "id": "681925a3",
   "metadata": {
    "papermill": {
     "duration": 0.020443,
     "end_time": "2025-07-30T14:09:34.093730",
     "exception": false,
     "start_time": "2025-07-30T14:09:34.073287",
     "status": "completed"
    },
    "tags": []
   },
   "source": [
    "Load siab_train, siab_test, siab_calib and/or \n",
    "load siab_train_features, siab_train_labels"
   ]
  },
  {
   "cell_type": "code",
   "execution_count": 9,
   "id": "f0496b8a",
   "metadata": {
    "execution": {
     "iopub.execute_input": "2025-07-30T14:09:34.135424Z",
     "iopub.status.busy": "2025-07-30T14:09:34.134779Z",
     "iopub.status.idle": "2025-07-30T14:09:46.326127Z",
     "shell.execute_reply": "2025-07-30T14:09:46.324852Z"
    },
    "papermill": {
     "duration": 12.214267,
     "end_time": "2025-07-30T14:09:46.327847",
     "exception": false,
     "start_time": "2025-07-30T14:09:34.113580",
     "status": "completed"
    },
    "tags": []
   },
   "outputs": [
    {
     "name": "stdout",
     "output_type": "stream",
     "text": [
      "Loading SIAB data from cache: data/siab_cached.csv.gz\n"
     ]
    },
    {
     "name": "stdout",
     "output_type": "stream",
     "text": [
      "(643690, 164)\n"
     ]
    }
   ],
   "source": [
    "from pathlib import Path\n",
    "import pandas as pd\n",
    "\n",
    "# File paths\n",
    "raw_file = Path(\"data/raw/siab.csv\")\n",
    "cache_file = Path(\"data/siab_cached.csv.gz\")\n",
    "\n",
    "# Ensure cache directory exists\n",
    "cache_file.parent.mkdir(parents=True, exist_ok=True)\n",
    "\n",
    "# Load with simple caching\n",
    "if cache_file.exists():\n",
    "    print(f\"Loading SIAB data from cache: {cache_file}\")\n",
    "    siab = pd.read_csv(cache_file, compression='gzip')\n",
    "else:\n",
    "    print(f\"Cache not found. Reading raw SIAB data: {raw_file}\")\n",
    "    siab = pd.read_csv(raw_file)\n",
    "    siab.to_csv(cache_file, index=False, compression='gzip')\n",
    "    print(f\"Cached SIAB data to: {cache_file}\")\n",
    "\n",
    "# Now use `siab` DataFrame as needed\n",
    "print(siab.shape)"
   ]
  },
  {
   "cell_type": "code",
   "execution_count": 10,
   "id": "db0ca512-5f53-4dba-abdb-a2888bca41ba",
   "metadata": {
    "execution": {
     "iopub.execute_input": "2025-07-30T14:09:46.375302Z",
     "iopub.status.busy": "2025-07-30T14:09:46.374506Z",
     "iopub.status.idle": "2025-07-30T14:09:46.380605Z",
     "shell.execute_reply": "2025-07-30T14:09:46.379593Z"
    },
    "papermill": {
     "duration": 0.030884,
     "end_time": "2025-07-30T14:09:46.382253",
     "exception": false,
     "start_time": "2025-07-30T14:09:46.351369",
     "status": "completed"
    },
    "tags": []
   },
   "outputs": [],
   "source": [
    "#siab"
   ]
  },
  {
   "cell_type": "code",
   "execution_count": 11,
   "id": "a0edb063",
   "metadata": {
    "execution": {
     "iopub.execute_input": "2025-07-30T14:09:46.429042Z",
     "iopub.status.busy": "2025-07-30T14:09:46.428260Z",
     "iopub.status.idle": "2025-07-30T14:09:46.434200Z",
     "shell.execute_reply": "2025-07-30T14:09:46.433163Z"
    },
    "papermill": {
     "duration": 0.031285,
     "end_time": "2025-07-30T14:09:46.435855",
     "exception": false,
     "start_time": "2025-07-30T14:09:46.404570",
     "status": "completed"
    },
    "tags": []
   },
   "outputs": [],
   "source": [
    "#import pandas as pd\n",
    "#\n",
    "#X_train = pd.read_csv(\"./data/X_train.csv\")\n",
    "#y_train = pd.read_csv(\"./data/y_train.csv\")"
   ]
  },
  {
   "cell_type": "code",
   "execution_count": 12,
   "id": "63d08085",
   "metadata": {
    "execution": {
     "iopub.execute_input": "2025-07-30T14:09:46.479952Z",
     "iopub.status.busy": "2025-07-30T14:09:46.479018Z",
     "iopub.status.idle": "2025-07-30T14:09:46.484164Z",
     "shell.execute_reply": "2025-07-30T14:09:46.483257Z"
    },
    "papermill": {
     "duration": 0.027763,
     "end_time": "2025-07-30T14:09:46.485584",
     "exception": false,
     "start_time": "2025-07-30T14:09:46.457821",
     "status": "completed"
    },
    "tags": []
   },
   "outputs": [],
   "source": [
    "#X_test = pd.read_csv(\"./data/X_test.csv\")\n",
    "#y_true = pd.read_csv(\"./data/y_test.csv\")"
   ]
  },
  {
   "cell_type": "code",
   "execution_count": 13,
   "id": "98a8d0fa-1d3d-4ed8-bb2c-281470e24add",
   "metadata": {
    "execution": {
     "iopub.execute_input": "2025-07-30T14:09:46.531590Z",
     "iopub.status.busy": "2025-07-30T14:09:46.531095Z",
     "iopub.status.idle": "2025-07-30T14:09:46.536205Z",
     "shell.execute_reply": "2025-07-30T14:09:46.535131Z"
    },
    "papermill": {
     "duration": 0.030276,
     "end_time": "2025-07-30T14:09:46.538040",
     "exception": false,
     "start_time": "2025-07-30T14:09:46.507764",
     "status": "completed"
    },
    "tags": []
   },
   "outputs": [],
   "source": [
    "# Calibration data for conformal\n",
    "#X_calib = pd.read_csv(\"./data/X_calib.csv\")\n",
    "#y_calib = pd.read_csv(\"./data/y_calib.csv\")"
   ]
  },
  {
   "cell_type": "markdown",
   "id": "997051c5-15bd-4b69-9786-c3001a3ce484",
   "metadata": {
    "papermill": {
     "duration": 0.012055,
     "end_time": "2025-07-30T14:09:46.562888",
     "exception": false,
     "start_time": "2025-07-30T14:09:46.550833",
     "status": "completed"
    },
    "tags": []
   },
   "source": [
    "# Splitting Data and Setting Training Data Size"
   ]
  },
  {
   "cell_type": "code",
   "execution_count": 14,
   "id": "e993b61f-042d-41a6-8c81-f55681f86335",
   "metadata": {
    "execution": {
     "iopub.execute_input": "2025-07-30T14:09:46.586162Z",
     "iopub.status.busy": "2025-07-30T14:09:46.585813Z",
     "iopub.status.idle": "2025-07-30T14:09:46.595425Z",
     "shell.execute_reply": "2025-07-30T14:09:46.594642Z"
    },
    "papermill": {
     "duration": 0.022763,
     "end_time": "2025-07-30T14:09:46.596792",
     "exception": false,
     "start_time": "2025-07-30T14:09:46.574029",
     "status": "completed"
    },
    "tags": []
   },
   "outputs": [],
   "source": [
    "def sample_by_year_size(df,\n",
    "                        training_year: str,\n",
    "                        training_size: str,\n",
    "                        random_state: int = 42):\n",
    "    # --- parse training_year into a list of int years ---\n",
    "    if \"_\" in training_year:\n",
    "        start_str, end_str = training_year.split(\"_\", 1)\n",
    "        start = int(start_str)\n",
    "        end   = int(end_str) if len(end_str) == 4 else (int(end_str) + (start // 100)*100)\n",
    "        years = list(range(start, end + 1))\n",
    "    else:\n",
    "        years = [int(training_year)]\n",
    "\n",
    "    df = df[df[\"year\"].isin(years)].reset_index(drop=True)\n",
    "\n",
    "    # --- map training_size to total number of samples ---\n",
    "    total_map = {\"25k\": 25_000, \"5k\": 5_000, \"1k\": 1_000}\n",
    "    if training_size not in total_map:\n",
    "        return df  # e.g. \"all\"\n",
    "\n",
    "    total_samples = total_map[training_size]\n",
    "    n_years       = len(years)\n",
    "    base          = total_samples // n_years\n",
    "    remainder     = total_samples % n_years\n",
    "\n",
    "    # --- build a dict: year -> how many to sample ---\n",
    "    # give +1 to the first `remainder` years in ascending order\n",
    "    quotas = {\n",
    "        year: base + (1 if idx < remainder else 0)\n",
    "        for idx, year in enumerate(sorted(years))\n",
    "    }\n",
    "\n",
    "    # --- sample per‐year according to the quota dict ---\n",
    "    sampled = (\n",
    "        df\n",
    "        .groupby(\"year\", group_keys=False)\n",
    "        .apply(lambda grp: grp.sample(\n",
    "            n=min(len(grp), quotas[grp.name]),\n",
    "            random_state=random_state))\n",
    "        .reset_index(drop=True)\n",
    "    )\n",
    "\n",
    "    return sampled"
   ]
  },
  {
   "cell_type": "code",
   "execution_count": 15,
   "id": "c0ccd338-0e02-41f3-a09d-f56f9266e3fb",
   "metadata": {
    "execution": {
     "iopub.execute_input": "2025-07-30T14:09:46.621097Z",
     "iopub.status.busy": "2025-07-30T14:09:46.620594Z",
     "iopub.status.idle": "2025-07-30T14:09:46.629944Z",
     "shell.execute_reply": "2025-07-30T14:09:46.629160Z"
    },
    "papermill": {
     "duration": 0.022169,
     "end_time": "2025-07-30T14:09:46.631180",
     "exception": false,
     "start_time": "2025-07-30T14:09:46.609011",
     "status": "completed"
    },
    "tags": []
   },
   "outputs": [
    {
     "data": {
      "text/plain": [
       "'5k'"
      ]
     },
     "execution_count": 15,
     "metadata": {},
     "output_type": "execute_result"
    }
   ],
   "source": [
    "universe[\"training_size\"]"
   ]
  },
  {
   "cell_type": "code",
   "execution_count": 16,
   "id": "ca707fd7-8047-4acd-bfa5-66248fbbf8e6",
   "metadata": {
    "execution": {
     "iopub.execute_input": "2025-07-30T14:09:46.655305Z",
     "iopub.status.busy": "2025-07-30T14:09:46.654586Z",
     "iopub.status.idle": "2025-07-30T14:09:46.660904Z",
     "shell.execute_reply": "2025-07-30T14:09:46.660205Z"
    },
    "papermill": {
     "duration": 0.019101,
     "end_time": "2025-07-30T14:09:46.662172",
     "exception": false,
     "start_time": "2025-07-30T14:09:46.643071",
     "status": "completed"
    },
    "tags": []
   },
   "outputs": [
    {
     "data": {
      "text/plain": [
       "'2010_14'"
      ]
     },
     "execution_count": 16,
     "metadata": {},
     "output_type": "execute_result"
    }
   ],
   "source": [
    "universe[\"training_year\"]"
   ]
  },
  {
   "cell_type": "code",
   "execution_count": 17,
   "id": "aea9c6ef-6f46-42c8-85eb-5a62025c1508",
   "metadata": {
    "execution": {
     "iopub.execute_input": "2025-07-30T14:09:46.705810Z",
     "iopub.status.busy": "2025-07-30T14:09:46.705315Z",
     "iopub.status.idle": "2025-07-30T14:09:47.748235Z",
     "shell.execute_reply": "2025-07-30T14:09:47.747215Z"
    },
    "papermill": {
     "duration": 1.069545,
     "end_time": "2025-07-30T14:09:47.750410",
     "exception": false,
     "start_time": "2025-07-30T14:09:46.680865",
     "status": "completed"
    },
    "tags": []
   },
   "outputs": [],
   "source": [
    "siab_train = sample_by_year_size(siab,\n",
    "                               training_year=universe[\"training_year\"],\n",
    "                               training_size=universe[\"training_size\"])"
   ]
  },
  {
   "cell_type": "code",
   "execution_count": 18,
   "id": "8d3afb32-789d-442c-8d5d-9f5aa8dd2eed",
   "metadata": {
    "execution": {
     "iopub.execute_input": "2025-07-30T14:09:47.796266Z",
     "iopub.status.busy": "2025-07-30T14:09:47.795134Z",
     "iopub.status.idle": "2025-07-30T14:09:47.803123Z",
     "shell.execute_reply": "2025-07-30T14:09:47.802211Z"
    },
    "papermill": {
     "duration": 0.032627,
     "end_time": "2025-07-30T14:09:47.804789",
     "exception": false,
     "start_time": "2025-07-30T14:09:47.772162",
     "status": "completed"
    },
    "tags": []
   },
   "outputs": [
    {
     "data": {
      "text/plain": [
       "(5000, 164)"
      ]
     },
     "execution_count": 18,
     "metadata": {},
     "output_type": "execute_result"
    }
   ],
   "source": [
    "siab_train.shape"
   ]
  },
  {
   "cell_type": "code",
   "execution_count": 19,
   "id": "d582db68-1a4c-47fb-84fc-08518dc1975a",
   "metadata": {
    "execution": {
     "iopub.execute_input": "2025-07-30T14:09:47.852116Z",
     "iopub.status.busy": "2025-07-30T14:09:47.851378Z",
     "iopub.status.idle": "2025-07-30T14:09:47.861723Z",
     "shell.execute_reply": "2025-07-30T14:09:47.860778Z"
    },
    "papermill": {
     "duration": 0.034499,
     "end_time": "2025-07-30T14:09:47.863539",
     "exception": false,
     "start_time": "2025-07-30T14:09:47.829040",
     "status": "completed"
    },
    "tags": []
   },
   "outputs": [
    {
     "data": {
      "text/plain": [
       "year\n",
       "2010    1000\n",
       "2011    1000\n",
       "2012    1000\n",
       "2013    1000\n",
       "2014    1000\n",
       "dtype: int64"
      ]
     },
     "metadata": {},
     "output_type": "display_data"
    }
   ],
   "source": [
    "display(siab_train.groupby(\"year\").size())"
   ]
  },
  {
   "cell_type": "code",
   "execution_count": 20,
   "id": "a561edb4-d032-42cb-8256-22eac1111c64",
   "metadata": {
    "execution": {
     "iopub.execute_input": "2025-07-30T14:09:47.909676Z",
     "iopub.status.busy": "2025-07-30T14:09:47.908819Z",
     "iopub.status.idle": "2025-07-30T14:09:48.158881Z",
     "shell.execute_reply": "2025-07-30T14:09:48.157829Z"
    },
    "papermill": {
     "duration": 0.274749,
     "end_time": "2025-07-30T14:09:48.160981",
     "exception": false,
     "start_time": "2025-07-30T14:09:47.886232",
     "status": "completed"
    },
    "tags": []
   },
   "outputs": [],
   "source": [
    "#siab_train = siab_s[siab_s.year < 2015]\n",
    "siab_calib = siab[siab.year == 2015]\n",
    "siab_test = siab[siab.year == 2016]"
   ]
  },
  {
   "cell_type": "code",
   "execution_count": 21,
   "id": "472de16f-c3db-4916-846b-1f0de9cf1746",
   "metadata": {
    "execution": {
     "iopub.execute_input": "2025-07-30T14:09:48.208216Z",
     "iopub.status.busy": "2025-07-30T14:09:48.207305Z",
     "iopub.status.idle": "2025-07-30T14:09:48.215581Z",
     "shell.execute_reply": "2025-07-30T14:09:48.214542Z"
    },
    "papermill": {
     "duration": 0.033631,
     "end_time": "2025-07-30T14:09:48.217465",
     "exception": false,
     "start_time": "2025-07-30T14:09:48.183834",
     "status": "completed"
    },
    "tags": []
   },
   "outputs": [],
   "source": [
    "X_train = siab_train.iloc[:,4:164]\n",
    "y_train = siab_train.iloc[:, [3]]"
   ]
  },
  {
   "cell_type": "code",
   "execution_count": 22,
   "id": "828c96af-f43a-4ed6-ba47-8ac73a47d56c",
   "metadata": {
    "execution": {
     "iopub.execute_input": "2025-07-30T14:09:48.264648Z",
     "iopub.status.busy": "2025-07-30T14:09:48.263908Z",
     "iopub.status.idle": "2025-07-30T14:09:48.314810Z",
     "shell.execute_reply": "2025-07-30T14:09:48.313783Z"
    },
    "papermill": {
     "duration": 0.076964,
     "end_time": "2025-07-30T14:09:48.316572",
     "exception": false,
     "start_time": "2025-07-30T14:09:48.239608",
     "status": "completed"
    },
    "tags": []
   },
   "outputs": [],
   "source": [
    "X_calib = siab_calib.iloc[:,4:164]\n",
    "y_calib = siab_calib.iloc[:, [3]]"
   ]
  },
  {
   "cell_type": "code",
   "execution_count": 23,
   "id": "c34be9c3-6bd6-476e-acd3-845840e303be",
   "metadata": {
    "execution": {
     "iopub.execute_input": "2025-07-30T14:09:48.363721Z",
     "iopub.status.busy": "2025-07-30T14:09:48.362778Z",
     "iopub.status.idle": "2025-07-30T14:09:48.415625Z",
     "shell.execute_reply": "2025-07-30T14:09:48.414546Z"
    },
    "papermill": {
     "duration": 0.078155,
     "end_time": "2025-07-30T14:09:48.417530",
     "exception": false,
     "start_time": "2025-07-30T14:09:48.339375",
     "status": "completed"
    },
    "tags": []
   },
   "outputs": [],
   "source": [
    "X_test = siab_test.iloc[:,4:164]\n",
    "y_true = siab_test.iloc[:, [3]]"
   ]
  },
  {
   "cell_type": "markdown",
   "id": "9901737e-04df-44f0-9100-f5ad144ed040",
   "metadata": {
    "papermill": {
     "duration": 0.023119,
     "end_time": "2025-07-30T14:09:48.463257",
     "exception": false,
     "start_time": "2025-07-30T14:09:48.440138",
     "status": "completed"
    },
    "tags": []
   },
   "source": [
    "# Splitting Data and Setting Training Data Size OLD VERSION"
   ]
  },
  {
   "cell_type": "code",
   "execution_count": 24,
   "id": "acbc8f7d-8fc8-4e86-8c59-5dcb0f58384b",
   "metadata": {
    "execution": {
     "iopub.execute_input": "2025-07-30T14:09:48.509676Z",
     "iopub.status.busy": "2025-07-30T14:09:48.508947Z",
     "iopub.status.idle": "2025-07-30T14:09:48.515229Z",
     "shell.execute_reply": "2025-07-30T14:09:48.514318Z"
    },
    "papermill": {
     "duration": 0.030818,
     "end_time": "2025-07-30T14:09:48.516848",
     "exception": false,
     "start_time": "2025-07-30T14:09:48.486030",
     "status": "completed"
    },
    "tags": []
   },
   "outputs": [],
   "source": [
    "#def sample_by_year(df, training_size, random_state=42):\n",
    "#    if training_size == \"2014\":\n",
    "#        return df[df[\"year\"] == 2014].reset_index(drop=True)\n",
    "#    \n",
    "#    size_map = {\n",
    "#        \"25k\": 5000,\n",
    "#        \"5k\": 1000,\n",
    "#        \"1k\": 200\n",
    "#    }\n",
    "#\n",
    "#    if training_size not in size_map:\n",
    "#        return df.reset_index(drop=True)  # use all data\n",
    "#\n",
    "#    n_per_year = size_map[training_size]\n",
    "#    grouped = df.groupby(\"year\")\n",
    "#    sampled = grouped.apply(lambda x: x.sample(n=min(n_per_year, len(x)), random_state=random_state))\n",
    "#    return sampled.reset_index(drop=True)"
   ]
  },
  {
   "cell_type": "code",
   "execution_count": 25,
   "id": "6d931f52-beaf-43ff-9e78-9d44a448d54e",
   "metadata": {
    "execution": {
     "iopub.execute_input": "2025-07-30T14:09:48.563493Z",
     "iopub.status.busy": "2025-07-30T14:09:48.562894Z",
     "iopub.status.idle": "2025-07-30T14:09:48.567844Z",
     "shell.execute_reply": "2025-07-30T14:09:48.566969Z"
    },
    "papermill": {
     "duration": 0.029778,
     "end_time": "2025-07-30T14:09:48.569408",
     "exception": false,
     "start_time": "2025-07-30T14:09:48.539630",
     "status": "completed"
    },
    "tags": []
   },
   "outputs": [],
   "source": [
    "#siab_s = sample_by_year(siab, universe[\"training_size\"])"
   ]
  },
  {
   "cell_type": "code",
   "execution_count": 26,
   "id": "5db0a40e-a4e2-4920-be85-b12ae061d70d",
   "metadata": {
    "execution": {
     "iopub.execute_input": "2025-07-30T14:09:48.616645Z",
     "iopub.status.busy": "2025-07-30T14:09:48.616133Z",
     "iopub.status.idle": "2025-07-30T14:09:48.620926Z",
     "shell.execute_reply": "2025-07-30T14:09:48.620082Z"
    },
    "papermill": {
     "duration": 0.030676,
     "end_time": "2025-07-30T14:09:48.622448",
     "exception": false,
     "start_time": "2025-07-30T14:09:48.591772",
     "status": "completed"
    },
    "tags": []
   },
   "outputs": [],
   "source": [
    "#display(siab_s.groupby(\"year\").size())"
   ]
  },
  {
   "cell_type": "code",
   "execution_count": 27,
   "id": "e6c733c5",
   "metadata": {
    "execution": {
     "iopub.execute_input": "2025-07-30T14:09:48.669990Z",
     "iopub.status.busy": "2025-07-30T14:09:48.669185Z",
     "iopub.status.idle": "2025-07-30T14:09:48.764609Z",
     "shell.execute_reply": "2025-07-30T14:09:48.763545Z"
    },
    "papermill": {
     "duration": 0.12264,
     "end_time": "2025-07-30T14:09:48.766630",
     "exception": false,
     "start_time": "2025-07-30T14:09:48.643990",
     "status": "completed"
    },
    "tags": []
   },
   "outputs": [],
   "source": [
    "# Auxiliary data needed downstream in the pipeline\n",
    "\n",
    "org_train = X_train.copy()\n",
    "org_test = X_test.copy()\n",
    "org_calib = X_calib.copy()"
   ]
  },
  {
   "cell_type": "code",
   "execution_count": 28,
   "id": "1466abac-c6da-4492-a62f-4240ae3783af",
   "metadata": {
    "execution": {
     "iopub.execute_input": "2025-07-30T14:09:48.813437Z",
     "iopub.status.busy": "2025-07-30T14:09:48.812400Z",
     "iopub.status.idle": "2025-07-30T14:09:48.818421Z",
     "shell.execute_reply": "2025-07-30T14:09:48.817473Z"
    },
    "papermill": {
     "duration": 0.031236,
     "end_time": "2025-07-30T14:09:48.820268",
     "exception": false,
     "start_time": "2025-07-30T14:09:48.789032",
     "status": "completed"
    },
    "tags": []
   },
   "outputs": [],
   "source": [
    "# put in other script?\n",
    "# Group sizes\n",
    "\n",
    "#def calculate_percentages(df, df_name):\n",
    "#    total_entries = len(df)\n",
    "#\n",
    "#    female_pct = (df['frau1'] == 1).mean() * 100\n",
    "#    non_german_pct = ((df['maxdeutsch1'] == 0) & (df['maxdeutsch.Missing.'] == 0)).mean() * 100\n",
    "#    non_german_male_pct = ((df['frau1'] == 0) & (df['maxdeutsch1'] == 0) & (df['maxdeutsch.Missing.'] == 0)).mean() * 100\n",
    "#    non_german_female_pct = ((df['frau1'] == 1) & (df['maxdeutsch1'] == 0) & (df['maxdeutsch.Missing.'] == 0)).mean() * 100\n",
    "#\n",
    "#    print(f\"--- {df_name} ---\")\n",
    "#    print(f\"Female: {female_pct:.2f}%\")\n",
    "#    print(f\"Non-German: {non_german_pct:.2f}%\")\n",
    "#    print(f\"Non-German Male: {non_german_male_pct:.2f}%\")\n",
    "#    print(f\"Non-German Female: {non_german_female_pct:.2f}%\\n\")\n",
    "#\n",
    "## Calculate for each DataFrame\n",
    "#calculate_percentages(siab_calib, \"siab_calib\")\n",
    "#calculate_percentages(siab_test, \"siab_test\")\n",
    "#calculate_percentages(siab_train, \"siab_train\")"
   ]
  },
  {
   "cell_type": "markdown",
   "id": "0a4a1b33",
   "metadata": {
    "papermill": {
     "duration": 0.022332,
     "end_time": "2025-07-30T14:09:48.867256",
     "exception": false,
     "start_time": "2025-07-30T14:09:48.844924",
     "status": "completed"
    },
    "tags": []
   },
   "source": [
    "# Preprocessing Data"
   ]
  },
  {
   "cell_type": "code",
   "execution_count": 29,
   "id": "ca879031",
   "metadata": {
    "execution": {
     "iopub.execute_input": "2025-07-30T14:09:48.915207Z",
     "iopub.status.busy": "2025-07-30T14:09:48.914283Z",
     "iopub.status.idle": "2025-07-30T14:09:48.920514Z",
     "shell.execute_reply": "2025-07-30T14:09:48.919580Z"
    },
    "papermill": {
     "duration": 0.032561,
     "end_time": "2025-07-30T14:09:48.922041",
     "exception": false,
     "start_time": "2025-07-30T14:09:48.889480",
     "status": "completed"
    },
    "tags": []
   },
   "outputs": [],
   "source": [
    "# EXCLUDE PROTECTED FEATURES\n",
    "# ----------------------\n",
    "# \"exclude_features\": \"none\", # \"nationality\", \"sex\", \"nationality-sex\"\n",
    "\n",
    "excluded_features = universe[\"exclude_features\"].split(\"-\") # split, e.g.: \"nationality-sex\" -> [\"nationality\", \"sex\"]\n",
    "excluded_features_dictionary = {\n",
    "    \"nationality\": [\"maxdeutsch1\", \"maxdeutsch.Missing.\"],\n",
    "    \"sex\": [\"frau1\"],\n",
    "    \"age\": [\"age\"],\n",
    "}\n"
   ]
  },
  {
   "cell_type": "code",
   "execution_count": 30,
   "id": "b745ac60",
   "metadata": {
    "execution": {
     "iopub.execute_input": "2025-07-30T14:09:48.969531Z",
     "iopub.status.busy": "2025-07-30T14:09:48.968665Z",
     "iopub.status.idle": "2025-07-30T14:09:48.974700Z",
     "shell.execute_reply": "2025-07-30T14:09:48.973610Z"
    },
    "papermill": {
     "duration": 0.031631,
     "end_time": "2025-07-30T14:09:48.976306",
     "exception": false,
     "start_time": "2025-07-30T14:09:48.944675",
     "status": "completed"
    },
    "tags": []
   },
   "outputs": [],
   "source": [
    "# Code nice names to column names\n",
    "\n",
    "excluded_features_columns = [\n",
    "    excluded_features_dictionary[f] for f in excluded_features if len(f) > 0 and f != \"none\"\n",
    "]"
   ]
  },
  {
   "cell_type": "code",
   "execution_count": 31,
   "id": "f84f73a2",
   "metadata": {
    "execution": {
     "iopub.execute_input": "2025-07-30T14:09:49.025310Z",
     "iopub.status.busy": "2025-07-30T14:09:49.024792Z",
     "iopub.status.idle": "2025-07-30T14:09:49.031875Z",
     "shell.execute_reply": "2025-07-30T14:09:49.030903Z"
    },
    "papermill": {
     "duration": 0.031834,
     "end_time": "2025-07-30T14:09:49.033553",
     "exception": false,
     "start_time": "2025-07-30T14:09:49.001719",
     "status": "completed"
    },
    "tags": []
   },
   "outputs": [],
   "source": [
    "from utils import flatten_once\n",
    "\n",
    "excluded_features_columns = flatten_once(excluded_features_columns)"
   ]
  },
  {
   "cell_type": "code",
   "execution_count": 32,
   "id": "884dea22",
   "metadata": {
    "execution": {
     "iopub.execute_input": "2025-07-30T14:09:49.082968Z",
     "iopub.status.busy": "2025-07-30T14:09:49.082489Z",
     "iopub.status.idle": "2025-07-30T14:09:49.091672Z",
     "shell.execute_reply": "2025-07-30T14:09:49.090609Z"
    },
    "papermill": {
     "duration": 0.03535,
     "end_time": "2025-07-30T14:09:49.093380",
     "exception": false,
     "start_time": "2025-07-30T14:09:49.058030",
     "status": "completed"
    },
    "tags": []
   },
   "outputs": [
    {
     "name": "stdout",
     "output_type": "stream",
     "text": [
      "Dropping features: ['maxdeutsch1', 'maxdeutsch.Missing.']\n"
     ]
    }
   ],
   "source": [
    "if len(excluded_features_columns) > 0:\n",
    "    print(f\"Dropping features: {excluded_features_columns}\")\n",
    "    X_train.drop(excluded_features_columns, axis=1, inplace=True)"
   ]
  },
  {
   "cell_type": "code",
   "execution_count": 33,
   "id": "95ab8b16",
   "metadata": {
    "execution": {
     "iopub.execute_input": "2025-07-30T14:09:49.144768Z",
     "iopub.status.busy": "2025-07-30T14:09:49.144378Z",
     "iopub.status.idle": "2025-07-30T14:09:49.200562Z",
     "shell.execute_reply": "2025-07-30T14:09:49.199623Z"
    },
    "papermill": {
     "duration": 0.084271,
     "end_time": "2025-07-30T14:09:49.202200",
     "exception": false,
     "start_time": "2025-07-30T14:09:49.117929",
     "status": "completed"
    },
    "tags": []
   },
   "outputs": [
    {
     "name": "stdout",
     "output_type": "stream",
     "text": [
      "Dropping features: ['maxdeutsch1', 'maxdeutsch.Missing.']\n"
     ]
    }
   ],
   "source": [
    "if len(excluded_features_columns) > 0:\n",
    "    print(f\"Dropping features: {excluded_features_columns}\")\n",
    "    X_test.drop(excluded_features_columns, axis=1, inplace=True)"
   ]
  },
  {
   "cell_type": "code",
   "execution_count": 34,
   "id": "1853aaf5-fb9f-46cb-a2b5-8ea4ae2237e4",
   "metadata": {
    "execution": {
     "iopub.execute_input": "2025-07-30T14:09:49.251271Z",
     "iopub.status.busy": "2025-07-30T14:09:49.250618Z",
     "iopub.status.idle": "2025-07-30T14:09:49.303291Z",
     "shell.execute_reply": "2025-07-30T14:09:49.302312Z"
    },
    "papermill": {
     "duration": 0.079582,
     "end_time": "2025-07-30T14:09:49.305214",
     "exception": false,
     "start_time": "2025-07-30T14:09:49.225632",
     "status": "completed"
    },
    "tags": []
   },
   "outputs": [
    {
     "name": "stdout",
     "output_type": "stream",
     "text": [
      "Dropping features: ['maxdeutsch1', 'maxdeutsch.Missing.']\n"
     ]
    }
   ],
   "source": [
    "if len(excluded_features_columns) > 0:\n",
    "    print(f\"Dropping features: {excluded_features_columns}\")\n",
    "    X_calib.drop(excluded_features_columns, axis=1, inplace=True)"
   ]
  },
  {
   "cell_type": "code",
   "execution_count": 35,
   "id": "6727d079-03e5-481e-9d38-292a90b7a0a8",
   "metadata": {
    "execution": {
     "iopub.execute_input": "2025-07-30T14:09:49.354970Z",
     "iopub.status.busy": "2025-07-30T14:09:49.354087Z",
     "iopub.status.idle": "2025-07-30T14:09:49.359259Z",
     "shell.execute_reply": "2025-07-30T14:09:49.358338Z"
    },
    "papermill": {
     "duration": 0.030622,
     "end_time": "2025-07-30T14:09:49.360829",
     "exception": false,
     "start_time": "2025-07-30T14:09:49.330207",
     "status": "completed"
    },
    "tags": []
   },
   "outputs": [],
   "source": [
    "# SPLIT & STRATIFY DATA\n",
    "# ----------------------"
   ]
  },
  {
   "cell_type": "code",
   "execution_count": 36,
   "id": "76c4dc6d",
   "metadata": {
    "execution": {
     "iopub.execute_input": "2025-07-30T14:09:49.409970Z",
     "iopub.status.busy": "2025-07-30T14:09:49.409273Z",
     "iopub.status.idle": "2025-07-30T14:09:49.414791Z",
     "shell.execute_reply": "2025-07-30T14:09:49.413807Z"
    },
    "papermill": {
     "duration": 0.03187,
     "end_time": "2025-07-30T14:09:49.416447",
     "exception": false,
     "start_time": "2025-07-30T14:09:49.384577",
     "status": "completed"
    },
    "tags": []
   },
   "outputs": [],
   "source": [
    "# EXCLUDE CERTAIN SUBGROUPS\n",
    "# ----------------------\n",
    "\n",
    "mode = universe.get(\"exclude_subgroups\", \"keep-all\") \n",
    "# Fetches the exclude_subgroups setting from the universe dict.\n",
    "# Defaults to \"keep-all\" if the key is missing."
   ]
  },
  {
   "cell_type": "code",
   "execution_count": 37,
   "id": "21994072",
   "metadata": {
    "execution": {
     "iopub.execute_input": "2025-07-30T14:09:49.466923Z",
     "iopub.status.busy": "2025-07-30T14:09:49.466432Z",
     "iopub.status.idle": "2025-07-30T14:09:49.473611Z",
     "shell.execute_reply": "2025-07-30T14:09:49.472623Z"
    },
    "papermill": {
     "duration": 0.033865,
     "end_time": "2025-07-30T14:09:49.475420",
     "exception": false,
     "start_time": "2025-07-30T14:09:49.441555",
     "status": "completed"
    },
    "tags": []
   },
   "outputs": [],
   "source": [
    "if mode == \"keep-all\":\n",
    "    keep_mask = pd.Series(True, index=org_train.index)\n",
    "\n",
    "# org_train contains the original feature columns from features_org (in Simson)\n",
    "# features_org contains unprocessed features, for me X_train at beginning ???\n",
    "# For keep-all, creates a boolean Series (keep_mask) of all True, so no rows are removed.\n",
    "\n",
    "elif mode == \"drop-non-german\":\n",
    "    keep_mask = org_train[\"maxdeutsch1\"] == 1 # ??? what about missing values?\n",
    "\n",
    "else:\n",
    "    raise ValueError(f\"Unsupported mode for exclude_subgroups: {mode}\")\n"
   ]
  },
  {
   "cell_type": "code",
   "execution_count": 38,
   "id": "71651440",
   "metadata": {
    "execution": {
     "iopub.execute_input": "2025-07-30T14:09:49.526038Z",
     "iopub.status.busy": "2025-07-30T14:09:49.525561Z",
     "iopub.status.idle": "2025-07-30T14:09:49.532521Z",
     "shell.execute_reply": "2025-07-30T14:09:49.531575Z"
    },
    "papermill": {
     "duration": 0.033618,
     "end_time": "2025-07-30T14:09:49.534445",
     "exception": false,
     "start_time": "2025-07-30T14:09:49.500827",
     "status": "completed"
    },
    "tags": []
   },
   "outputs": [],
   "source": [
    "n_drop = (~keep_mask).sum() # Calculates how many rows are set to be dropped\n",
    "if n_drop > 0:\n",
    "    pct = n_drop / len(keep_mask) * 100\n",
    "    print(f\"Dropping {n_drop} rows ({pct:.2f}%) where mode='{mode}'\")"
   ]
  },
  {
   "cell_type": "code",
   "execution_count": 39,
   "id": "5fb8eee5",
   "metadata": {
    "execution": {
     "iopub.execute_input": "2025-07-30T14:09:49.585453Z",
     "iopub.status.busy": "2025-07-30T14:09:49.584957Z",
     "iopub.status.idle": "2025-07-30T14:09:49.594792Z",
     "shell.execute_reply": "2025-07-30T14:09:49.593851Z"
    },
    "papermill": {
     "duration": 0.037705,
     "end_time": "2025-07-30T14:09:49.596797",
     "exception": false,
     "start_time": "2025-07-30T14:09:49.559092",
     "status": "completed"
    },
    "tags": []
   },
   "outputs": [],
   "source": [
    "X_train = X_train[keep_mask]"
   ]
  },
  {
   "cell_type": "code",
   "execution_count": 40,
   "id": "b202bb3a",
   "metadata": {
    "execution": {
     "iopub.execute_input": "2025-07-30T14:09:49.647415Z",
     "iopub.status.busy": "2025-07-30T14:09:49.646737Z",
     "iopub.status.idle": "2025-07-30T14:09:49.653202Z",
     "shell.execute_reply": "2025-07-30T14:09:49.652185Z"
    },
    "papermill": {
     "duration": 0.033178,
     "end_time": "2025-07-30T14:09:49.654720",
     "exception": false,
     "start_time": "2025-07-30T14:09:49.621542",
     "status": "completed"
    },
    "tags": []
   },
   "outputs": [],
   "source": [
    "y_train = y_train[keep_mask]"
   ]
  },
  {
   "cell_type": "markdown",
   "id": "493e2ac3",
   "metadata": {
    "papermill": {
     "duration": 0.025322,
     "end_time": "2025-07-30T14:09:49.704026",
     "exception": false,
     "start_time": "2025-07-30T14:09:49.678704",
     "status": "completed"
    },
    "tags": []
   },
   "source": [
    "# Model Training"
   ]
  },
  {
   "cell_type": "code",
   "execution_count": 41,
   "id": "679e1268",
   "metadata": {
    "execution": {
     "iopub.execute_input": "2025-07-30T14:09:49.755190Z",
     "iopub.status.busy": "2025-07-30T14:09:49.754688Z",
     "iopub.status.idle": "2025-07-30T14:09:49.866094Z",
     "shell.execute_reply": "2025-07-30T14:09:49.865080Z"
    },
    "papermill": {
     "duration": 0.139561,
     "end_time": "2025-07-30T14:09:49.868013",
     "exception": false,
     "start_time": "2025-07-30T14:09:49.728452",
     "status": "completed"
    },
    "tags": []
   },
   "outputs": [],
   "source": [
    "from sklearn.linear_model import LogisticRegression\n",
    "from sklearn.ensemble import GradientBoostingClassifier, RandomForestClassifier\n",
    "\n",
    "if (universe[\"model\"] == \"logreg\"):\n",
    "    model = LogisticRegression() #penalty=\"none\") #, solver=\"newton-cg\", max_iter=1) # include random_state=19 ?\n",
    "elif (universe[\"model\"] == \"penalized_logreg\"):\n",
    "    model = LogisticRegression(penalty=\"l2\", C=1.0) #, solver=\"newton-cg\", max_iter=1)\n",
    "elif (universe[\"model\"] == \"rf\"):\n",
    "    model = RandomForestClassifier(n_estimators=100, n_jobs=-1)\n",
    "elif (universe[\"model\"] == \"gbm\"):\n",
    "    model = GradientBoostingClassifier()\n",
    "elif (universe[\"model\"] == \"elasticnet\"):\n",
    "    model = LogisticRegression(penalty = 'elasticnet', solver = 'saga', l1_ratio = 0.5, max_iter=5000) # which solver to use?\n",
    "else:\n",
    "    raise \"Unsupported universe.model\""
   ]
  },
  {
   "cell_type": "code",
   "execution_count": 42,
   "id": "0cc8f744",
   "metadata": {
    "execution": {
     "iopub.execute_input": "2025-07-30T14:09:49.918140Z",
     "iopub.status.busy": "2025-07-30T14:09:49.917624Z",
     "iopub.status.idle": "2025-07-30T14:09:49.925732Z",
     "shell.execute_reply": "2025-07-30T14:09:49.924645Z"
    },
    "papermill": {
     "duration": 0.035158,
     "end_time": "2025-07-30T14:09:49.927735",
     "exception": false,
     "start_time": "2025-07-30T14:09:49.892577",
     "status": "completed"
    },
    "tags": []
   },
   "outputs": [],
   "source": [
    "import numpy as np\n",
    "from sklearn.pipeline import Pipeline\n",
    "from sklearn.preprocessing import StandardScaler\n",
    "\n",
    "model = Pipeline([\n",
    "    #(\"continuous_processor\", continuous_processor),\n",
    "    #(\"categorical_preprocessor\", categorical_preprocessor),\n",
    "    (\"scale\", StandardScaler() if universe[\"scale\"] == \"scale\" else None), \n",
    "    (\"model\", model),\n",
    "])"
   ]
  },
  {
   "cell_type": "code",
   "execution_count": 43,
   "id": "9442c04d",
   "metadata": {
    "execution": {
     "iopub.execute_input": "2025-07-30T14:09:49.980598Z",
     "iopub.status.busy": "2025-07-30T14:09:49.980070Z",
     "iopub.status.idle": "2025-07-30T14:09:55.599190Z",
     "shell.execute_reply": "2025-07-30T14:09:55.597936Z"
    },
    "papermill": {
     "duration": 5.648295,
     "end_time": "2025-07-30T14:09:55.601582",
     "exception": false,
     "start_time": "2025-07-30T14:09:49.953287",
     "status": "completed"
    },
    "tags": []
   },
   "outputs": [
    {
     "data": {
      "text/html": [
       "<style>#sk-container-id-1 {color: black;background-color: white;}#sk-container-id-1 pre{padding: 0;}#sk-container-id-1 div.sk-toggleable {background-color: white;}#sk-container-id-1 label.sk-toggleable__label {cursor: pointer;display: block;width: 100%;margin-bottom: 0;padding: 0.3em;box-sizing: border-box;text-align: center;}#sk-container-id-1 label.sk-toggleable__label-arrow:before {content: \"▸\";float: left;margin-right: 0.25em;color: #696969;}#sk-container-id-1 label.sk-toggleable__label-arrow:hover:before {color: black;}#sk-container-id-1 div.sk-estimator:hover label.sk-toggleable__label-arrow:before {color: black;}#sk-container-id-1 div.sk-toggleable__content {max-height: 0;max-width: 0;overflow: hidden;text-align: left;background-color: #f0f8ff;}#sk-container-id-1 div.sk-toggleable__content pre {margin: 0.2em;color: black;border-radius: 0.25em;background-color: #f0f8ff;}#sk-container-id-1 input.sk-toggleable__control:checked~div.sk-toggleable__content {max-height: 200px;max-width: 100%;overflow: auto;}#sk-container-id-1 input.sk-toggleable__control:checked~label.sk-toggleable__label-arrow:before {content: \"▾\";}#sk-container-id-1 div.sk-estimator input.sk-toggleable__control:checked~label.sk-toggleable__label {background-color: #d4ebff;}#sk-container-id-1 div.sk-label input.sk-toggleable__control:checked~label.sk-toggleable__label {background-color: #d4ebff;}#sk-container-id-1 input.sk-hidden--visually {border: 0;clip: rect(1px 1px 1px 1px);clip: rect(1px, 1px, 1px, 1px);height: 1px;margin: -1px;overflow: hidden;padding: 0;position: absolute;width: 1px;}#sk-container-id-1 div.sk-estimator {font-family: monospace;background-color: #f0f8ff;border: 1px dotted black;border-radius: 0.25em;box-sizing: border-box;margin-bottom: 0.5em;}#sk-container-id-1 div.sk-estimator:hover {background-color: #d4ebff;}#sk-container-id-1 div.sk-parallel-item::after {content: \"\";width: 100%;border-bottom: 1px solid gray;flex-grow: 1;}#sk-container-id-1 div.sk-label:hover label.sk-toggleable__label {background-color: #d4ebff;}#sk-container-id-1 div.sk-serial::before {content: \"\";position: absolute;border-left: 1px solid gray;box-sizing: border-box;top: 0;bottom: 0;left: 50%;z-index: 0;}#sk-container-id-1 div.sk-serial {display: flex;flex-direction: column;align-items: center;background-color: white;padding-right: 0.2em;padding-left: 0.2em;position: relative;}#sk-container-id-1 div.sk-item {position: relative;z-index: 1;}#sk-container-id-1 div.sk-parallel {display: flex;align-items: stretch;justify-content: center;background-color: white;position: relative;}#sk-container-id-1 div.sk-item::before, #sk-container-id-1 div.sk-parallel-item::before {content: \"\";position: absolute;border-left: 1px solid gray;box-sizing: border-box;top: 0;bottom: 0;left: 50%;z-index: -1;}#sk-container-id-1 div.sk-parallel-item {display: flex;flex-direction: column;z-index: 1;position: relative;background-color: white;}#sk-container-id-1 div.sk-parallel-item:first-child::after {align-self: flex-end;width: 50%;}#sk-container-id-1 div.sk-parallel-item:last-child::after {align-self: flex-start;width: 50%;}#sk-container-id-1 div.sk-parallel-item:only-child::after {width: 0;}#sk-container-id-1 div.sk-dashed-wrapped {border: 1px dashed gray;margin: 0 0.4em 0.5em 0.4em;box-sizing: border-box;padding-bottom: 0.4em;background-color: white;}#sk-container-id-1 div.sk-label label {font-family: monospace;font-weight: bold;display: inline-block;line-height: 1.2em;}#sk-container-id-1 div.sk-label-container {text-align: center;}#sk-container-id-1 div.sk-container {/* jupyter's `normalize.less` sets `[hidden] { display: none; }` but bootstrap.min.css set `[hidden] { display: none !important; }` so we also need the `!important` here to be able to override the default hidden behavior on the sphinx rendered scikit-learn.org. See: https://github.com/scikit-learn/scikit-learn/issues/21755 */display: inline-block !important;position: relative;}#sk-container-id-1 div.sk-text-repr-fallback {display: none;}</style><div id=\"sk-container-id-1\" class=\"sk-top-container\"><div class=\"sk-text-repr-fallback\"><pre>Pipeline(steps=[(&#x27;scale&#x27;, StandardScaler()),\n",
       "                (&#x27;model&#x27;, GradientBoostingClassifier())])</pre><b>In a Jupyter environment, please rerun this cell to show the HTML representation or trust the notebook. <br />On GitHub, the HTML representation is unable to render, please try loading this page with nbviewer.org.</b></div><div class=\"sk-container\" hidden><div class=\"sk-item sk-dashed-wrapped\"><div class=\"sk-label-container\"><div class=\"sk-label sk-toggleable\"><input class=\"sk-toggleable__control sk-hidden--visually\" id=\"sk-estimator-id-1\" type=\"checkbox\" ><label for=\"sk-estimator-id-1\" class=\"sk-toggleable__label sk-toggleable__label-arrow\">Pipeline</label><div class=\"sk-toggleable__content\"><pre>Pipeline(steps=[(&#x27;scale&#x27;, StandardScaler()),\n",
       "                (&#x27;model&#x27;, GradientBoostingClassifier())])</pre></div></div></div><div class=\"sk-serial\"><div class=\"sk-item\"><div class=\"sk-estimator sk-toggleable\"><input class=\"sk-toggleable__control sk-hidden--visually\" id=\"sk-estimator-id-2\" type=\"checkbox\" ><label for=\"sk-estimator-id-2\" class=\"sk-toggleable__label sk-toggleable__label-arrow\">StandardScaler</label><div class=\"sk-toggleable__content\"><pre>StandardScaler()</pre></div></div></div><div class=\"sk-item\"><div class=\"sk-estimator sk-toggleable\"><input class=\"sk-toggleable__control sk-hidden--visually\" id=\"sk-estimator-id-3\" type=\"checkbox\" ><label for=\"sk-estimator-id-3\" class=\"sk-toggleable__label sk-toggleable__label-arrow\">GradientBoostingClassifier</label><div class=\"sk-toggleable__content\"><pre>GradientBoostingClassifier()</pre></div></div></div></div></div></div></div>"
      ],
      "text/plain": [
       "Pipeline(steps=[('scale', StandardScaler()),\n",
       "                ('model', GradientBoostingClassifier())])"
      ]
     },
     "execution_count": 43,
     "metadata": {},
     "output_type": "execute_result"
    }
   ],
   "source": [
    "model.fit(X_train, y_train.values.ravel())"
   ]
  },
  {
   "cell_type": "code",
   "execution_count": 44,
   "id": "af59f8c0",
   "metadata": {
    "execution": {
     "iopub.execute_input": "2025-07-30T14:09:55.656360Z",
     "iopub.status.busy": "2025-07-30T14:09:55.655616Z",
     "iopub.status.idle": "2025-07-30T14:09:55.661675Z",
     "shell.execute_reply": "2025-07-30T14:09:55.660735Z"
    },
    "papermill": {
     "duration": 0.035732,
     "end_time": "2025-07-30T14:09:55.663617",
     "exception": false,
     "start_time": "2025-07-30T14:09:55.627885",
     "status": "completed"
    },
    "tags": []
   },
   "outputs": [],
   "source": [
    "from fairness_multiverse.universe import predict_w_threshold"
   ]
  },
  {
   "cell_type": "code",
   "execution_count": 45,
   "id": "a7cf2e16",
   "metadata": {
    "execution": {
     "iopub.execute_input": "2025-07-30T14:09:55.718447Z",
     "iopub.status.busy": "2025-07-30T14:09:55.717952Z",
     "iopub.status.idle": "2025-07-30T14:09:56.484699Z",
     "shell.execute_reply": "2025-07-30T14:09:56.483700Z"
    },
    "papermill": {
     "duration": 0.795507,
     "end_time": "2025-07-30T14:09:56.486366",
     "exception": false,
     "start_time": "2025-07-30T14:09:55.690859",
     "status": "completed"
    },
    "tags": []
   },
   "outputs": [
    {
     "data": {
      "text/plain": [
       "0.8603165756325939"
      ]
     },
     "execution_count": 45,
     "metadata": {},
     "output_type": "execute_result"
    }
   ],
   "source": [
    "probs_test = model.predict_proba(X_test)\n",
    "\n",
    "'''\n",
    "Below code returns a boolean array (or binary 0/1 array depending on how it’s used) where each element \n",
    "is True if the probability of class 1 is greater than or equal to the threshold, and False otherwise.\n",
    "'''\n",
    "y_pred_default = predict_w_threshold(probs_test, 0.5)\n",
    "\n",
    "from sklearn.metrics import accuracy_score\n",
    "\n",
    "# Naive prediction\n",
    "accuracy_score(y_true = y_true, y_pred = y_pred_default)"
   ]
  },
  {
   "cell_type": "code",
   "execution_count": 46,
   "id": "081964c3",
   "metadata": {
    "execution": {
     "iopub.execute_input": "2025-07-30T14:09:56.543530Z",
     "iopub.status.busy": "2025-07-30T14:09:56.542639Z",
     "iopub.status.idle": "2025-07-30T14:09:57.276659Z",
     "shell.execute_reply": "2025-07-30T14:09:57.275954Z"
    },
    "papermill": {
     "duration": 0.763948,
     "end_time": "2025-07-30T14:09:57.278203",
     "exception": false,
     "start_time": "2025-07-30T14:09:56.514255",
     "status": "completed"
    },
    "tags": []
   },
   "outputs": [
    {
     "data": {
      "text/plain": [
       "array([0, 0, 0, ..., 0, 0, 0])"
      ]
     },
     "execution_count": 46,
     "metadata": {},
     "output_type": "execute_result"
    }
   ],
   "source": [
    "model.predict(X_test)"
   ]
  },
  {
   "cell_type": "markdown",
   "id": "56c9705b",
   "metadata": {
    "papermill": {
     "duration": 0.025525,
     "end_time": "2025-07-30T14:09:57.328462",
     "exception": false,
     "start_time": "2025-07-30T14:09:57.302937",
     "status": "completed"
    },
    "tags": []
   },
   "source": [
    "# Conformal Prediction"
   ]
  },
  {
   "cell_type": "code",
   "execution_count": 47,
   "id": "160ec6ff",
   "metadata": {
    "execution": {
     "iopub.execute_input": "2025-07-30T14:09:57.382536Z",
     "iopub.status.busy": "2025-07-30T14:09:57.381754Z",
     "iopub.status.idle": "2025-07-30T14:09:57.387160Z",
     "shell.execute_reply": "2025-07-30T14:09:57.386248Z"
    },
    "papermill": {
     "duration": 0.034607,
     "end_time": "2025-07-30T14:09:57.389003",
     "exception": false,
     "start_time": "2025-07-30T14:09:57.354396",
     "status": "completed"
    },
    "tags": []
   },
   "outputs": [],
   "source": [
    "# Miscoverage level for conformal prediction (10% allowed error rate => 90% target coverage)\n",
    "alpha = 0.1"
   ]
  },
  {
   "cell_type": "code",
   "execution_count": 48,
   "id": "eadf4555-3dd3-440e-8e35-f82a4ad9f855",
   "metadata": {
    "execution": {
     "iopub.execute_input": "2025-07-30T14:09:57.443455Z",
     "iopub.status.busy": "2025-07-30T14:09:57.442985Z",
     "iopub.status.idle": "2025-07-30T14:09:58.194855Z",
     "shell.execute_reply": "2025-07-30T14:09:58.193930Z"
    },
    "papermill": {
     "duration": 0.782058,
     "end_time": "2025-07-30T14:09:58.197314",
     "exception": false,
     "start_time": "2025-07-30T14:09:57.415256",
     "status": "completed"
    },
    "tags": []
   },
   "outputs": [],
   "source": [
    "probs_calib = model.predict_proba(X_calib)"
   ]
  },
  {
   "cell_type": "code",
   "execution_count": 49,
   "id": "2ed93547-6d5d-4983-9b36-1ecb300da49a",
   "metadata": {
    "execution": {
     "iopub.execute_input": "2025-07-30T14:09:58.268571Z",
     "iopub.status.busy": "2025-07-30T14:09:58.268097Z",
     "iopub.status.idle": "2025-07-30T14:09:58.274195Z",
     "shell.execute_reply": "2025-07-30T14:09:58.273289Z"
    },
    "papermill": {
     "duration": 0.04298,
     "end_time": "2025-07-30T14:09:58.275926",
     "exception": false,
     "start_time": "2025-07-30T14:09:58.232946",
     "status": "completed"
    },
    "tags": []
   },
   "outputs": [],
   "source": [
    "y_calib = y_calib.values.ravel().astype(int)"
   ]
  },
  {
   "cell_type": "code",
   "execution_count": 50,
   "id": "65d1320d-f588-4b38-9072-62af1ae97f7d",
   "metadata": {
    "execution": {
     "iopub.execute_input": "2025-07-30T14:09:58.328187Z",
     "iopub.status.busy": "2025-07-30T14:09:58.327709Z",
     "iopub.status.idle": "2025-07-30T14:09:58.336097Z",
     "shell.execute_reply": "2025-07-30T14:09:58.335247Z"
    },
    "papermill": {
     "duration": 0.035642,
     "end_time": "2025-07-30T14:09:58.337728",
     "exception": false,
     "start_time": "2025-07-30T14:09:58.302086",
     "status": "completed"
    },
    "tags": []
   },
   "outputs": [],
   "source": [
    "from fairness_multiverse.conformal import compute_nc_scores\n",
    "\n",
    "# Compute nonconformity scores on calibration set (1 - probability of true class)\n",
    "nc_scores = compute_nc_scores(probs_calib, y_calib)"
   ]
  },
  {
   "cell_type": "code",
   "execution_count": 51,
   "id": "df3b8ca3-53b7-43d5-9667-7c85da7aeda2",
   "metadata": {
    "execution": {
     "iopub.execute_input": "2025-07-30T14:09:58.390210Z",
     "iopub.status.busy": "2025-07-30T14:09:58.389545Z",
     "iopub.status.idle": "2025-07-30T14:09:58.396327Z",
     "shell.execute_reply": "2025-07-30T14:09:58.395408Z"
    },
    "papermill": {
     "duration": 0.034242,
     "end_time": "2025-07-30T14:09:58.398006",
     "exception": false,
     "start_time": "2025-07-30T14:09:58.363764",
     "status": "completed"
    },
    "tags": []
   },
   "outputs": [],
   "source": [
    "from fairness_multiverse.conformal import find_threshold\n",
    "\n",
    "# Find conformal threshold q_hat for the given alpha (split conformal method)\n",
    "q_hat = find_threshold(nc_scores, alpha)"
   ]
  },
  {
   "cell_type": "code",
   "execution_count": 52,
   "id": "4d29e6c1-0ef6-4aa4-b8fe-4fe79b0d033a",
   "metadata": {
    "execution": {
     "iopub.execute_input": "2025-07-30T14:09:58.450475Z",
     "iopub.status.busy": "2025-07-30T14:09:58.449819Z",
     "iopub.status.idle": "2025-07-30T14:09:58.457182Z",
     "shell.execute_reply": "2025-07-30T14:09:58.456183Z"
    },
    "papermill": {
     "duration": 0.034735,
     "end_time": "2025-07-30T14:09:58.458855",
     "exception": false,
     "start_time": "2025-07-30T14:09:58.424120",
     "status": "completed"
    },
    "tags": []
   },
   "outputs": [
    {
     "data": {
      "text/plain": [
       "0.6823386720391488"
      ]
     },
     "execution_count": 52,
     "metadata": {},
     "output_type": "execute_result"
    }
   ],
   "source": [
    "q_hat"
   ]
  },
  {
   "cell_type": "code",
   "execution_count": 53,
   "id": "92460794-cdac-4be2-ba28-f28c0515a6fb",
   "metadata": {
    "execution": {
     "iopub.execute_input": "2025-07-30T14:09:58.511518Z",
     "iopub.status.busy": "2025-07-30T14:09:58.510861Z",
     "iopub.status.idle": "2025-07-30T14:09:59.963927Z",
     "shell.execute_reply": "2025-07-30T14:09:59.962925Z"
    },
    "papermill": {
     "duration": 1.480935,
     "end_time": "2025-07-30T14:09:59.966091",
     "exception": false,
     "start_time": "2025-07-30T14:09:58.485156",
     "status": "completed"
    },
    "tags": []
   },
   "outputs": [],
   "source": [
    "from fairness_multiverse.conformal import predict_conformal_sets\n",
    "\n",
    "# Generate prediction sets for each test example\n",
    "pred_sets = predict_conformal_sets(model, X_test, q_hat)"
   ]
  },
  {
   "cell_type": "code",
   "execution_count": 54,
   "id": "d90c9a65-e6db-4f5d-80cd-e68fb7e46829",
   "metadata": {
    "execution": {
     "iopub.execute_input": "2025-07-30T14:10:00.022526Z",
     "iopub.status.busy": "2025-07-30T14:10:00.021598Z",
     "iopub.status.idle": "2025-07-30T14:10:00.027283Z",
     "shell.execute_reply": "2025-07-30T14:10:00.026306Z"
    },
    "papermill": {
     "duration": 0.034894,
     "end_time": "2025-07-30T14:10:00.028968",
     "exception": false,
     "start_time": "2025-07-30T14:09:59.994074",
     "status": "completed"
    },
    "tags": []
   },
   "outputs": [],
   "source": [
    "y_true = y_true.squeeze()"
   ]
  },
  {
   "cell_type": "code",
   "execution_count": 55,
   "id": "3a58a54a-1e68-46b9-927a-df01f18aebc8",
   "metadata": {
    "execution": {
     "iopub.execute_input": "2025-07-30T14:10:00.061087Z",
     "iopub.status.busy": "2025-07-30T14:10:00.060733Z",
     "iopub.status.idle": "2025-07-30T14:10:01.030786Z",
     "shell.execute_reply": "2025-07-30T14:10:01.029729Z"
    },
    "papermill": {
     "duration": 0.987699,
     "end_time": "2025-07-30T14:10:01.032605",
     "exception": false,
     "start_time": "2025-07-30T14:10:00.044906",
     "status": "completed"
    },
    "tags": []
   },
   "outputs": [],
   "source": [
    "from fairness_multiverse.conformal import evaluate_sets\n",
    "\n",
    "# Evaluate coverage and average set size on test data\n",
    "metrics = evaluate_sets(pred_sets, y_true)"
   ]
  },
  {
   "cell_type": "markdown",
   "id": "2b569c12-9aaa-4c88-98c9-bbcd0cf3ebb8",
   "metadata": {
    "papermill": {
     "duration": 0.026644,
     "end_time": "2025-07-30T14:10:01.086607",
     "exception": false,
     "start_time": "2025-07-30T14:10:01.059963",
     "status": "completed"
    },
    "tags": []
   },
   "source": [
    "# CP Metrics"
   ]
  },
  {
   "cell_type": "code",
   "execution_count": 56,
   "id": "5ce0a5cb-201f-45a0-ade5-94c7f0bd6095",
   "metadata": {
    "execution": {
     "iopub.execute_input": "2025-07-30T14:10:01.139619Z",
     "iopub.status.busy": "2025-07-30T14:10:01.139275Z",
     "iopub.status.idle": "2025-07-30T14:10:01.144742Z",
     "shell.execute_reply": "2025-07-30T14:10:01.143970Z"
    },
    "papermill": {
     "duration": 0.037376,
     "end_time": "2025-07-30T14:10:01.146404",
     "exception": false,
     "start_time": "2025-07-30T14:10:01.109028",
     "status": "completed"
    },
    "tags": []
   },
   "outputs": [
    {
     "data": {
      "text/plain": [
       "{'coverage': 0.9109798238769368, 'avg_size': 1.1323598261063426}"
      ]
     },
     "execution_count": 56,
     "metadata": {},
     "output_type": "execute_result"
    }
   ],
   "source": [
    "metrics"
   ]
  },
  {
   "cell_type": "code",
   "execution_count": 57,
   "id": "9b9a838d-31c9-430b-ae14-12baee460d17",
   "metadata": {
    "execution": {
     "iopub.execute_input": "2025-07-30T14:10:01.206860Z",
     "iopub.status.busy": "2025-07-30T14:10:01.206367Z",
     "iopub.status.idle": "2025-07-30T14:10:01.213261Z",
     "shell.execute_reply": "2025-07-30T14:10:01.211721Z"
    },
    "papermill": {
     "duration": 0.038406,
     "end_time": "2025-07-30T14:10:01.214996",
     "exception": false,
     "start_time": "2025-07-30T14:10:01.176590",
     "status": "completed"
    },
    "tags": []
   },
   "outputs": [],
   "source": [
    "example_universe = universe.copy()\n",
    "universe_training_size = example_universe.get(\"training_size\")\n",
    "universe_scale = example_universe.get(\"scale\")\n",
    "universe_model = example_universe.get(\"model\")\n",
    "universe_exclude_features = example_universe.get(\"exclude_features\")\n",
    "universe_exclude_subgroups = example_universe.get(\"exclude_subgroups\")"
   ]
  },
  {
   "cell_type": "code",
   "execution_count": 58,
   "id": "f4b6a8ac-9dc0-4245-8a91-5b3b5999c4f9",
   "metadata": {
    "execution": {
     "iopub.execute_input": "2025-07-30T14:10:01.277645Z",
     "iopub.status.busy": "2025-07-30T14:10:01.277134Z",
     "iopub.status.idle": "2025-07-30T14:10:01.283750Z",
     "shell.execute_reply": "2025-07-30T14:10:01.282826Z"
    },
    "papermill": {
     "duration": 0.040373,
     "end_time": "2025-07-30T14:10:01.285450",
     "exception": false,
     "start_time": "2025-07-30T14:10:01.245077",
     "status": "completed"
    },
    "tags": []
   },
   "outputs": [],
   "source": [
    "cp_metrics_dict = {\n",
    "    \"universe_id\": [universe_id],\n",
    "    \"universe_training_size\": [universe_training_size],\n",
    "    \"universe_scale\": [universe_scale],\n",
    "    \"universe_model\": [universe_model],\n",
    "    \"universe_exclude_features\": [universe_exclude_features],\n",
    "    \"universe_exclude_subgroups\": [universe_exclude_subgroups],\n",
    "    \"q_hat\": [q_hat],\n",
    "    \"coverage\": [metrics[\"coverage\"]],\n",
    "    \"avg_size\": [metrics[\"avg_size\"]],\n",
    "}"
   ]
  },
  {
   "cell_type": "code",
   "execution_count": 59,
   "id": "908acbb1-0371-4915-85ca-3fa520d2efe2",
   "metadata": {
    "execution": {
     "iopub.execute_input": "2025-07-30T14:10:01.344960Z",
     "iopub.status.busy": "2025-07-30T14:10:01.344434Z",
     "iopub.status.idle": "2025-07-30T14:10:01.352741Z",
     "shell.execute_reply": "2025-07-30T14:10:01.351679Z"
    },
    "papermill": {
     "duration": 0.039856,
     "end_time": "2025-07-30T14:10:01.354373",
     "exception": false,
     "start_time": "2025-07-30T14:10:01.314517",
     "status": "completed"
    },
    "tags": []
   },
   "outputs": [
    {
     "data": {
      "text/plain": [
       "{'universe_id': ['d8331663d8c1e9eba1793926b5fbbde1'],\n",
       " 'universe_training_size': ['5k'],\n",
       " 'universe_scale': ['scale'],\n",
       " 'universe_model': ['gbm'],\n",
       " 'universe_exclude_features': ['nationality'],\n",
       " 'universe_exclude_subgroups': ['keep-all'],\n",
       " 'q_hat': [0.6823386720391488],\n",
       " 'coverage': [0.9109798238769368],\n",
       " 'avg_size': [1.1323598261063426]}"
      ]
     },
     "execution_count": 59,
     "metadata": {},
     "output_type": "execute_result"
    }
   ],
   "source": [
    "cp_metrics_dict"
   ]
  },
  {
   "cell_type": "code",
   "execution_count": 60,
   "id": "33007efc-14e9-4ec6-97ac-56a455c82265",
   "metadata": {
    "execution": {
     "iopub.execute_input": "2025-07-30T14:10:01.409519Z",
     "iopub.status.busy": "2025-07-30T14:10:01.409080Z",
     "iopub.status.idle": "2025-07-30T14:10:01.416009Z",
     "shell.execute_reply": "2025-07-30T14:10:01.414813Z"
    },
    "papermill": {
     "duration": 0.036176,
     "end_time": "2025-07-30T14:10:01.417585",
     "exception": false,
     "start_time": "2025-07-30T14:10:01.381409",
     "status": "completed"
    },
    "tags": []
   },
   "outputs": [],
   "source": [
    "cp_metrics_df = pd.DataFrame(cp_metrics_dict)"
   ]
  },
  {
   "cell_type": "code",
   "execution_count": 61,
   "id": "db12611b-57b2-4910-b9d0-355adfd6e7bf",
   "metadata": {
    "execution": {
     "iopub.execute_input": "2025-07-30T14:10:01.475309Z",
     "iopub.status.busy": "2025-07-30T14:10:01.474764Z",
     "iopub.status.idle": "2025-07-30T14:10:01.494068Z",
     "shell.execute_reply": "2025-07-30T14:10:01.492985Z"
    },
    "papermill": {
     "duration": 0.05061,
     "end_time": "2025-07-30T14:10:01.495856",
     "exception": false,
     "start_time": "2025-07-30T14:10:01.445246",
     "status": "completed"
    },
    "tags": []
   },
   "outputs": [
    {
     "data": {
      "text/html": [
       "<div>\n",
       "<style scoped>\n",
       "    .dataframe tbody tr th:only-of-type {\n",
       "        vertical-align: middle;\n",
       "    }\n",
       "\n",
       "    .dataframe tbody tr th {\n",
       "        vertical-align: top;\n",
       "    }\n",
       "\n",
       "    .dataframe thead th {\n",
       "        text-align: right;\n",
       "    }\n",
       "</style>\n",
       "<table border=\"1\" class=\"dataframe\">\n",
       "  <thead>\n",
       "    <tr style=\"text-align: right;\">\n",
       "      <th></th>\n",
       "      <th>universe_id</th>\n",
       "      <th>universe_training_size</th>\n",
       "      <th>universe_scale</th>\n",
       "      <th>universe_model</th>\n",
       "      <th>universe_exclude_features</th>\n",
       "      <th>universe_exclude_subgroups</th>\n",
       "      <th>q_hat</th>\n",
       "      <th>coverage</th>\n",
       "      <th>avg_size</th>\n",
       "    </tr>\n",
       "  </thead>\n",
       "  <tbody>\n",
       "    <tr>\n",
       "      <th>0</th>\n",
       "      <td>d8331663d8c1e9eba1793926b5fbbde1</td>\n",
       "      <td>5k</td>\n",
       "      <td>scale</td>\n",
       "      <td>gbm</td>\n",
       "      <td>nationality</td>\n",
       "      <td>keep-all</td>\n",
       "      <td>0.682339</td>\n",
       "      <td>0.91098</td>\n",
       "      <td>1.13236</td>\n",
       "    </tr>\n",
       "  </tbody>\n",
       "</table>\n",
       "</div>"
      ],
      "text/plain": [
       "                        universe_id universe_training_size universe_scale  \\\n",
       "0  d8331663d8c1e9eba1793926b5fbbde1                     5k          scale   \n",
       "\n",
       "  universe_model universe_exclude_features universe_exclude_subgroups  \\\n",
       "0            gbm               nationality                   keep-all   \n",
       "\n",
       "      q_hat  coverage  avg_size  \n",
       "0  0.682339   0.91098   1.13236  "
      ]
     },
     "execution_count": 61,
     "metadata": {},
     "output_type": "execute_result"
    }
   ],
   "source": [
    "cp_metrics_df"
   ]
  },
  {
   "cell_type": "code",
   "execution_count": 62,
   "id": "b7fbde55-a0a1-47e4-9af6-fe4a17fa8c61",
   "metadata": {
    "execution": {
     "iopub.execute_input": "2025-07-30T14:10:01.552528Z",
     "iopub.status.busy": "2025-07-30T14:10:01.551994Z",
     "iopub.status.idle": "2025-07-30T14:10:01.557243Z",
     "shell.execute_reply": "2025-07-30T14:10:01.556198Z"
    },
    "papermill": {
     "duration": 0.036086,
     "end_time": "2025-07-30T14:10:01.559131",
     "exception": false,
     "start_time": "2025-07-30T14:10:01.523045",
     "status": "completed"
    },
    "tags": []
   },
   "outputs": [],
   "source": [
    "# Conditional Coverage & looking at subgroups"
   ]
  },
  {
   "cell_type": "code",
   "execution_count": 63,
   "id": "027ae886-68dd-4141-96c7-805a5450e1ef",
   "metadata": {
    "execution": {
     "iopub.execute_input": "2025-07-30T14:10:01.615536Z",
     "iopub.status.busy": "2025-07-30T14:10:01.614936Z",
     "iopub.status.idle": "2025-07-30T14:10:01.911448Z",
     "shell.execute_reply": "2025-07-30T14:10:01.910415Z"
    },
    "papermill": {
     "duration": 0.327589,
     "end_time": "2025-07-30T14:10:01.913455",
     "exception": false,
     "start_time": "2025-07-30T14:10:01.585866",
     "status": "completed"
    },
    "tags": []
   },
   "outputs": [],
   "source": [
    "from fairness_multiverse.conformal import build_cp_groups\n",
    "\n",
    "cp_groups_df = build_cp_groups(pred_sets, y_true, X_test.index, org_test)\n",
    "#needs universe_id and setting"
   ]
  },
  {
   "cell_type": "code",
   "execution_count": 64,
   "id": "01d5802c-663a-4d1f-9d69-e036faaffbf7",
   "metadata": {
    "execution": {
     "iopub.execute_input": "2025-07-30T14:10:01.977735Z",
     "iopub.status.busy": "2025-07-30T14:10:01.977167Z",
     "iopub.status.idle": "2025-07-30T14:10:01.982707Z",
     "shell.execute_reply": "2025-07-30T14:10:01.981642Z"
    },
    "papermill": {
     "duration": 0.040756,
     "end_time": "2025-07-30T14:10:01.984510",
     "exception": false,
     "start_time": "2025-07-30T14:10:01.943754",
     "status": "completed"
    },
    "tags": []
   },
   "outputs": [],
   "source": [
    "#delete\n",
    "#cp_groups_df"
   ]
  },
  {
   "cell_type": "code",
   "execution_count": 65,
   "id": "fa424af1-d1eb-443d-b717-2d279ada8408",
   "metadata": {
    "execution": {
     "iopub.execute_input": "2025-07-30T14:10:02.048753Z",
     "iopub.status.busy": "2025-07-30T14:10:02.047827Z",
     "iopub.status.idle": "2025-07-30T14:10:02.053544Z",
     "shell.execute_reply": "2025-07-30T14:10:02.052490Z"
    },
    "papermill": {
     "duration": 0.040786,
     "end_time": "2025-07-30T14:10:02.055547",
     "exception": false,
     "start_time": "2025-07-30T14:10:02.014761",
     "status": "completed"
    },
    "tags": []
   },
   "outputs": [],
   "source": [
    "#delete\n",
    "#percentage = (cp_groups_df['nongerman_female'] == 1).mean() * 100\n",
    "#print(percentage)\n"
   ]
  },
  {
   "cell_type": "code",
   "execution_count": 66,
   "id": "6cbdab96-b2b2-45af-ad54-d0516db2e28d",
   "metadata": {
    "execution": {
     "iopub.execute_input": "2025-07-30T14:10:02.117404Z",
     "iopub.status.busy": "2025-07-30T14:10:02.116861Z",
     "iopub.status.idle": "2025-07-30T14:10:03.661176Z",
     "shell.execute_reply": "2025-07-30T14:10:03.659987Z"
    },
    "papermill": {
     "duration": 1.57726,
     "end_time": "2025-07-30T14:10:03.662933",
     "exception": false,
     "start_time": "2025-07-30T14:10:02.085673",
     "status": "completed"
    },
    "tags": []
   },
   "outputs": [],
   "source": [
    "# Define covered = 1 if true_label is in the predicted set\n",
    "cp_groups_df['covered'] = cp_groups_df.apply(\n",
    "    lambda r: int(r['true_label'] in r['pred_set']),\n",
    "    axis=1\n",
    ")"
   ]
  },
  {
   "cell_type": "code",
   "execution_count": 67,
   "id": "338ff529-1a6b-4b87-a931-8e4788d52aad",
   "metadata": {
    "execution": {
     "iopub.execute_input": "2025-07-30T14:10:03.717544Z",
     "iopub.status.busy": "2025-07-30T14:10:03.716855Z",
     "iopub.status.idle": "2025-07-30T14:10:03.722469Z",
     "shell.execute_reply": "2025-07-30T14:10:03.721465Z"
    },
    "papermill": {
     "duration": 0.035497,
     "end_time": "2025-07-30T14:10:03.724157",
     "exception": false,
     "start_time": "2025-07-30T14:10:03.688660",
     "status": "completed"
    },
    "tags": []
   },
   "outputs": [],
   "source": [
    "#cp_groups_df"
   ]
  },
  {
   "cell_type": "code",
   "execution_count": 68,
   "id": "90032e27-66df-4540-9169-4e89cfbaa758",
   "metadata": {
    "execution": {
     "iopub.execute_input": "2025-07-30T14:10:03.777739Z",
     "iopub.status.busy": "2025-07-30T14:10:03.777036Z",
     "iopub.status.idle": "2025-07-30T14:10:03.789160Z",
     "shell.execute_reply": "2025-07-30T14:10:03.788022Z"
    },
    "papermill": {
     "duration": 0.040654,
     "end_time": "2025-07-30T14:10:03.790914",
     "exception": false,
     "start_time": "2025-07-30T14:10:03.750260",
     "status": "completed"
    },
    "tags": []
   },
   "outputs": [],
   "source": [
    "subgroups = ['frau1','nongerman','nongerman_male','nongerman_female']\n",
    "\n",
    "# Conditional coverage for subgroup==1\n",
    "cond_coverage = {\n",
    "    g: cp_groups_df.loc[cp_groups_df[g]==1, 'covered'].mean()\n",
    "    for g in subgroups\n",
    "}"
   ]
  },
  {
   "cell_type": "code",
   "execution_count": 69,
   "id": "1e348fb1-b9c3-45bc-ba23-f016827a7e0d",
   "metadata": {
    "execution": {
     "iopub.execute_input": "2025-07-30T14:10:03.845747Z",
     "iopub.status.busy": "2025-07-30T14:10:03.845065Z",
     "iopub.status.idle": "2025-07-30T14:10:03.852699Z",
     "shell.execute_reply": "2025-07-30T14:10:03.851520Z"
    },
    "papermill": {
     "duration": 0.036125,
     "end_time": "2025-07-30T14:10:03.854305",
     "exception": false,
     "start_time": "2025-07-30T14:10:03.818180",
     "status": "completed"
    },
    "tags": []
   },
   "outputs": [
    {
     "data": {
      "text/plain": [
       "{'frau1': 0.9109853079929909,\n",
       " 'nongerman': 0.9108516252175377,\n",
       " 'nongerman_male': 0.9256957579032694,\n",
       " 'nongerman_female': 0.8862891207153503}"
      ]
     },
     "execution_count": 69,
     "metadata": {},
     "output_type": "execute_result"
    }
   ],
   "source": [
    "cond_coverage"
   ]
  },
  {
   "cell_type": "code",
   "execution_count": 70,
   "id": "f5093324-c3dd-4d63-bc4c-8d945e5c8bbb",
   "metadata": {
    "execution": {
     "iopub.execute_input": "2025-07-30T14:10:03.909102Z",
     "iopub.status.busy": "2025-07-30T14:10:03.908358Z",
     "iopub.status.idle": "2025-07-30T14:10:03.916205Z",
     "shell.execute_reply": "2025-07-30T14:10:03.915180Z"
    },
    "papermill": {
     "duration": 0.036486,
     "end_time": "2025-07-30T14:10:03.917902",
     "exception": false,
     "start_time": "2025-07-30T14:10:03.881416",
     "status": "completed"
    },
    "tags": []
   },
   "outputs": [],
   "source": [
    "for subgroup, cov in cond_coverage.items():\n",
    "    cp_metrics_df[f\"cov_{subgroup}\"] = cov"
   ]
  },
  {
   "cell_type": "code",
   "execution_count": 71,
   "id": "6e872e10-dbe5-49e8-b554-5030c98ff75d",
   "metadata": {
    "execution": {
     "iopub.execute_input": "2025-07-30T14:10:03.975405Z",
     "iopub.status.busy": "2025-07-30T14:10:03.974823Z",
     "iopub.status.idle": "2025-07-30T14:10:03.993864Z",
     "shell.execute_reply": "2025-07-30T14:10:03.992892Z"
    },
    "papermill": {
     "duration": 0.050215,
     "end_time": "2025-07-30T14:10:03.995780",
     "exception": false,
     "start_time": "2025-07-30T14:10:03.945565",
     "status": "completed"
    },
    "tags": []
   },
   "outputs": [
    {
     "data": {
      "text/html": [
       "<div>\n",
       "<style scoped>\n",
       "    .dataframe tbody tr th:only-of-type {\n",
       "        vertical-align: middle;\n",
       "    }\n",
       "\n",
       "    .dataframe tbody tr th {\n",
       "        vertical-align: top;\n",
       "    }\n",
       "\n",
       "    .dataframe thead th {\n",
       "        text-align: right;\n",
       "    }\n",
       "</style>\n",
       "<table border=\"1\" class=\"dataframe\">\n",
       "  <thead>\n",
       "    <tr style=\"text-align: right;\">\n",
       "      <th></th>\n",
       "      <th>universe_id</th>\n",
       "      <th>universe_training_size</th>\n",
       "      <th>universe_scale</th>\n",
       "      <th>universe_model</th>\n",
       "      <th>universe_exclude_features</th>\n",
       "      <th>universe_exclude_subgroups</th>\n",
       "      <th>q_hat</th>\n",
       "      <th>coverage</th>\n",
       "      <th>avg_size</th>\n",
       "      <th>cov_frau1</th>\n",
       "      <th>cov_nongerman</th>\n",
       "      <th>cov_nongerman_male</th>\n",
       "      <th>cov_nongerman_female</th>\n",
       "    </tr>\n",
       "  </thead>\n",
       "  <tbody>\n",
       "    <tr>\n",
       "      <th>0</th>\n",
       "      <td>d8331663d8c1e9eba1793926b5fbbde1</td>\n",
       "      <td>5k</td>\n",
       "      <td>scale</td>\n",
       "      <td>gbm</td>\n",
       "      <td>nationality</td>\n",
       "      <td>keep-all</td>\n",
       "      <td>0.682339</td>\n",
       "      <td>0.91098</td>\n",
       "      <td>1.13236</td>\n",
       "      <td>0.910985</td>\n",
       "      <td>0.910852</td>\n",
       "      <td>0.925696</td>\n",
       "      <td>0.886289</td>\n",
       "    </tr>\n",
       "  </tbody>\n",
       "</table>\n",
       "</div>"
      ],
      "text/plain": [
       "                        universe_id universe_training_size universe_scale  \\\n",
       "0  d8331663d8c1e9eba1793926b5fbbde1                     5k          scale   \n",
       "\n",
       "  universe_model universe_exclude_features universe_exclude_subgroups  \\\n",
       "0            gbm               nationality                   keep-all   \n",
       "\n",
       "      q_hat  coverage  avg_size  cov_frau1  cov_nongerman  cov_nongerman_male  \\\n",
       "0  0.682339   0.91098   1.13236   0.910985       0.910852            0.925696   \n",
       "\n",
       "   cov_nongerman_female  \n",
       "0              0.886289  "
      ]
     },
     "execution_count": 71,
     "metadata": {},
     "output_type": "execute_result"
    }
   ],
   "source": [
    "cp_metrics_df"
   ]
  },
  {
   "cell_type": "markdown",
   "id": "33774451",
   "metadata": {
    "papermill": {
     "duration": 0.027534,
     "end_time": "2025-07-30T14:10:04.051799",
     "exception": false,
     "start_time": "2025-07-30T14:10:04.024265",
     "status": "completed"
    },
    "tags": []
   },
   "source": [
    "# (Fairness) Metrics"
   ]
  },
  {
   "cell_type": "code",
   "execution_count": 72,
   "id": "debc5d62",
   "metadata": {
    "execution": {
     "iopub.execute_input": "2025-07-30T14:10:04.109192Z",
     "iopub.status.busy": "2025-07-30T14:10:04.108529Z",
     "iopub.status.idle": "2025-07-30T14:10:04.130752Z",
     "shell.execute_reply": "2025-07-30T14:10:04.129604Z"
    },
    "papermill": {
     "duration": 0.05308,
     "end_time": "2025-07-30T14:10:04.132757",
     "exception": false,
     "start_time": "2025-07-30T14:10:04.079677",
     "status": "completed"
    },
    "tags": []
   },
   "outputs": [],
   "source": [
    "# do I need to include maxdeutsch1.missing?\n",
    "\n",
    "import numpy as np\n",
    "\n",
    "colname_to_bin = \"maxdeutsch1\"\n",
    "majority_value = org_train[colname_to_bin].mode()[0]\n",
    "\n",
    "org_test[\"majmin\"] = np.where(org_test[colname_to_bin] == majority_value, \"majority\", \"minority\")"
   ]
  },
  {
   "cell_type": "code",
   "execution_count": 73,
   "id": "06a50de5",
   "metadata": {
    "execution": {
     "iopub.execute_input": "2025-07-30T14:10:04.188323Z",
     "iopub.status.busy": "2025-07-30T14:10:04.187830Z",
     "iopub.status.idle": "2025-07-30T14:10:07.063920Z",
     "shell.execute_reply": "2025-07-30T14:10:07.062950Z"
    },
    "papermill": {
     "duration": 2.905511,
     "end_time": "2025-07-30T14:10:07.065820",
     "exception": false,
     "start_time": "2025-07-30T14:10:04.160309",
     "status": "completed"
    },
    "tags": []
   },
   "outputs": [],
   "source": [
    "example_universe = universe.copy()\n",
    "example_universe[\"cutoff\"] = example_universe[\"cutoff\"][0]\n",
    "example_universe[\"eval_fairness_grouping\"] = example_universe[\"eval_fairness_grouping\"][0]\n",
    "fairness_dict, metric_frame = universe_analysis.compute_metrics(\n",
    "    example_universe,\n",
    "    y_pred_prob=probs_test,\n",
    "    y_test=y_true,\n",
    "    org_test=org_test,\n",
    ")"
   ]
  },
  {
   "cell_type": "markdown",
   "id": "f95d4e02",
   "metadata": {
    "papermill": {
     "duration": 0.026786,
     "end_time": "2025-07-30T14:10:07.121839",
     "exception": false,
     "start_time": "2025-07-30T14:10:07.095053",
     "status": "completed"
    },
    "tags": []
   },
   "source": [
    "# Overall"
   ]
  },
  {
   "cell_type": "markdown",
   "id": "bdee4871",
   "metadata": {
    "papermill": {
     "duration": 0.027352,
     "end_time": "2025-07-30T14:10:07.176421",
     "exception": false,
     "start_time": "2025-07-30T14:10:07.149069",
     "status": "completed"
    },
    "tags": []
   },
   "source": [
    "Fairness\n",
    "Main fairness target: Equalized Odds. Seems to be a better fit than equal opportunity, since we're not only interested in Y = 1. Seems to be a better fit than demographic parity, since we also care about accuracy, not just equal distribution of preds.\n",
    "\n",
    "Pick column for computation of fairness metrics\n",
    "\n",
    "Performance\n",
    "Overall performance measures, most interesting in relation to the measures split by group below"
   ]
  },
  {
   "cell_type": "code",
   "execution_count": 74,
   "id": "c4e067c6",
   "metadata": {
    "execution": {
     "iopub.execute_input": "2025-07-30T14:10:07.233478Z",
     "iopub.status.busy": "2025-07-30T14:10:07.232916Z",
     "iopub.status.idle": "2025-07-30T14:10:07.242179Z",
     "shell.execute_reply": "2025-07-30T14:10:07.241164Z"
    },
    "papermill": {
     "duration": 0.03967,
     "end_time": "2025-07-30T14:10:07.243777",
     "exception": false,
     "start_time": "2025-07-30T14:10:07.204107",
     "status": "completed"
    },
    "tags": []
   },
   "outputs": [
    {
     "data": {
      "text/plain": [
       "accuracy                   0.224802\n",
       "balanced accuracy          0.549583\n",
       "f1                         0.246122\n",
       "precision                  0.140601\n",
       "false positive rate        0.887279\n",
       "false negative rate        0.013556\n",
       "selection rate             0.900000\n",
       "count                  89710.000000\n",
       "dtype: float64"
      ]
     },
     "execution_count": 74,
     "metadata": {},
     "output_type": "execute_result"
    }
   ],
   "source": [
    "metric_frame.overall"
   ]
  },
  {
   "cell_type": "markdown",
   "id": "e968fe9d",
   "metadata": {
    "papermill": {
     "duration": 0.026785,
     "end_time": "2025-07-30T14:10:07.297823",
     "exception": false,
     "start_time": "2025-07-30T14:10:07.271038",
     "status": "completed"
    },
    "tags": []
   },
   "source": [
    "By Group"
   ]
  },
  {
   "cell_type": "code",
   "execution_count": 75,
   "id": "ec325bce",
   "metadata": {
    "execution": {
     "iopub.execute_input": "2025-07-30T14:10:07.353578Z",
     "iopub.status.busy": "2025-07-30T14:10:07.353098Z",
     "iopub.status.idle": "2025-07-30T14:10:07.368467Z",
     "shell.execute_reply": "2025-07-30T14:10:07.367422Z"
    },
    "papermill": {
     "duration": 0.045425,
     "end_time": "2025-07-30T14:10:07.370124",
     "exception": false,
     "start_time": "2025-07-30T14:10:07.324699",
     "status": "completed"
    },
    "tags": []
   },
   "outputs": [
    {
     "data": {
      "text/html": [
       "<div>\n",
       "<style scoped>\n",
       "    .dataframe tbody tr th:only-of-type {\n",
       "        vertical-align: middle;\n",
       "    }\n",
       "\n",
       "    .dataframe tbody tr th {\n",
       "        vertical-align: top;\n",
       "    }\n",
       "\n",
       "    .dataframe thead th {\n",
       "        text-align: right;\n",
       "    }\n",
       "</style>\n",
       "<table border=\"1\" class=\"dataframe\">\n",
       "  <thead>\n",
       "    <tr style=\"text-align: right;\">\n",
       "      <th></th>\n",
       "      <th>accuracy</th>\n",
       "      <th>balanced accuracy</th>\n",
       "      <th>f1</th>\n",
       "      <th>precision</th>\n",
       "      <th>false positive rate</th>\n",
       "      <th>false negative rate</th>\n",
       "      <th>selection rate</th>\n",
       "      <th>count</th>\n",
       "    </tr>\n",
       "    <tr>\n",
       "      <th>majmin</th>\n",
       "      <th></th>\n",
       "      <th></th>\n",
       "      <th></th>\n",
       "      <th></th>\n",
       "      <th></th>\n",
       "      <th></th>\n",
       "      <th></th>\n",
       "      <th></th>\n",
       "    </tr>\n",
       "  </thead>\n",
       "  <tbody>\n",
       "    <tr>\n",
       "      <th>majority</th>\n",
       "      <td>0.243848</td>\n",
       "      <td>0.558052</td>\n",
       "      <td>0.256119</td>\n",
       "      <td>0.147194</td>\n",
       "      <td>0.869015</td>\n",
       "      <td>0.014880</td>\n",
       "      <td>0.884357</td>\n",
       "      <td>69170.0</td>\n",
       "    </tr>\n",
       "    <tr>\n",
       "      <th>minority</th>\n",
       "      <td>0.160662</td>\n",
       "      <td>0.521971</td>\n",
       "      <td>0.214077</td>\n",
       "      <td>0.119992</td>\n",
       "      <td>0.947612</td>\n",
       "      <td>0.008446</td>\n",
       "      <td>0.952678</td>\n",
       "      <td>20540.0</td>\n",
       "    </tr>\n",
       "  </tbody>\n",
       "</table>\n",
       "</div>"
      ],
      "text/plain": [
       "          accuracy  balanced accuracy        f1  precision  \\\n",
       "majmin                                                       \n",
       "majority  0.243848           0.558052  0.256119   0.147194   \n",
       "minority  0.160662           0.521971  0.214077   0.119992   \n",
       "\n",
       "          false positive rate  false negative rate  selection rate    count  \n",
       "majmin                                                                       \n",
       "majority             0.869015             0.014880        0.884357  69170.0  \n",
       "minority             0.947612             0.008446        0.952678  20540.0  "
      ]
     },
     "execution_count": 75,
     "metadata": {},
     "output_type": "execute_result"
    }
   ],
   "source": [
    "metric_frame.by_group"
   ]
  },
  {
   "cell_type": "code",
   "execution_count": 76,
   "id": "a9ddbe63",
   "metadata": {
    "execution": {
     "iopub.execute_input": "2025-07-30T14:10:07.425790Z",
     "iopub.status.busy": "2025-07-30T14:10:07.425406Z",
     "iopub.status.idle": "2025-07-30T14:10:09.845345Z",
     "shell.execute_reply": "2025-07-30T14:10:09.844186Z"
    },
    "papermill": {
     "duration": 2.44908,
     "end_time": "2025-07-30T14:10:09.847027",
     "exception": false,
     "start_time": "2025-07-30T14:10:07.397947",
     "status": "completed"
    },
    "tags": []
   },
   "outputs": [
    {
     "data": {
      "text/plain": [
       "array([[<Axes: title={'center': 'accuracy'}, xlabel='majmin'>,\n",
       "        <Axes: title={'center': 'balanced accuracy'}, xlabel='majmin'>,\n",
       "        <Axes: title={'center': 'f1'}, xlabel='majmin'>],\n",
       "       [<Axes: title={'center': 'precision'}, xlabel='majmin'>,\n",
       "        <Axes: title={'center': 'false positive rate'}, xlabel='majmin'>,\n",
       "        <Axes: title={'center': 'false negative rate'}, xlabel='majmin'>],\n",
       "       [<Axes: title={'center': 'selection rate'}, xlabel='majmin'>,\n",
       "        <Axes: title={'center': 'count'}, xlabel='majmin'>,\n",
       "        <Axes: xlabel='majmin'>]], dtype=object)"
      ]
     },
     "execution_count": 76,
     "metadata": {},
     "output_type": "execute_result"
    },
    {
     "data": {
      "image/png": "[encoded data removed]",
      "text/plain": [
       "<Figure size 1200x800 with 9 Axes>"
      ]
     },
     "metadata": {},
     "output_type": "display_data"
    }
   ],
   "source": [
    "# In a graphic\n",
    "metric_frame.by_group.plot.bar(\n",
    "    subplots=True,\n",
    "    layout=[3, 3],\n",
    "    legend=False,\n",
    "    figsize=[12, 8],\n",
    "    title=\"Show all metrics\",\n",
    ")"
   ]
  },
  {
   "cell_type": "markdown",
   "id": "f57a0bac",
   "metadata": {
    "papermill": {
     "duration": 0.02956,
     "end_time": "2025-07-30T14:10:09.906726",
     "exception": false,
     "start_time": "2025-07-30T14:10:09.877166",
     "status": "completed"
    },
    "tags": []
   },
   "source": [
    "# Final Output"
   ]
  },
  {
   "cell_type": "code",
   "execution_count": 77,
   "id": "96d280a3",
   "metadata": {
    "execution": {
     "iopub.execute_input": "2025-07-30T14:10:09.969183Z",
     "iopub.status.busy": "2025-07-30T14:10:09.967886Z",
     "iopub.status.idle": "2025-07-30T14:10:09.977957Z",
     "shell.execute_reply": "2025-07-30T14:10:09.976971Z"
    },
    "papermill": {
     "duration": 0.044394,
     "end_time": "2025-07-30T14:10:09.979589",
     "exception": false,
     "start_time": "2025-07-30T14:10:09.935195",
     "status": "completed"
    },
    "tags": []
   },
   "outputs": [
    {
     "data": {
      "text/plain": [
       "4"
      ]
     },
     "execution_count": 77,
     "metadata": {},
     "output_type": "execute_result"
    }
   ],
   "source": [
    "sub_universes = universe_analysis.generate_sub_universes()\n",
    "len(sub_universes)"
   ]
  },
  {
   "cell_type": "code",
   "execution_count": 78,
   "id": "92adf7ba",
   "metadata": {
    "execution": {
     "iopub.execute_input": "2025-07-30T14:10:10.040781Z",
     "iopub.status.busy": "2025-07-30T14:10:10.039902Z",
     "iopub.status.idle": "2025-07-30T14:10:10.046232Z",
     "shell.execute_reply": "2025-07-30T14:10:10.045353Z"
    },
    "papermill": {
     "duration": 0.039441,
     "end_time": "2025-07-30T14:10:10.047820",
     "exception": false,
     "start_time": "2025-07-30T14:10:10.008379",
     "status": "completed"
    },
    "tags": []
   },
   "outputs": [],
   "source": [
    "def filter_sub_universe_data(sub_universe, org_test):\n",
    "    # Keep all rows — no filtering\n",
    "    keep_rows_mask = np.ones(org_test.shape[0], dtype=bool)\n",
    "\n",
    "    print(f\"[INFO] Keeping all rows: {keep_rows_mask.sum()} rows retained.\")\n",
    "    return keep_rows_mask"
   ]
  },
  {
   "cell_type": "code",
   "execution_count": 79,
   "id": "4a759155",
   "metadata": {
    "execution": {
     "iopub.execute_input": "2025-07-30T14:10:10.107123Z",
     "iopub.status.busy": "2025-07-30T14:10:10.106321Z",
     "iopub.status.idle": "2025-07-30T14:10:18.860445Z",
     "shell.execute_reply": "2025-07-30T14:10:18.859453Z"
    },
    "papermill": {
     "duration": 8.785688,
     "end_time": "2025-07-30T14:10:18.862088",
     "exception": false,
     "start_time": "2025-07-30T14:10:10.076400",
     "status": "completed"
    },
    "tags": []
   },
   "outputs": [
    {
     "name": "stdout",
     "output_type": "stream",
     "text": [
      "Stopping execution_time clock.\n",
      "[INFO] Keeping all rows: 89710 rows retained.\n"
     ]
    },
    {
     "name": "stdout",
     "output_type": "stream",
     "text": [
      "[INFO] Keeping all rows: 89710 rows retained.\n"
     ]
    },
    {
     "name": "stdout",
     "output_type": "stream",
     "text": [
      "[INFO] Keeping all rows: 89710 rows retained.\n"
     ]
    },
    {
     "name": "stdout",
     "output_type": "stream",
     "text": [
      "[INFO] Keeping all rows: 89710 rows retained.\n"
     ]
    },
    {
     "data": {
      "text/html": [
       "<div>\n",
       "<style scoped>\n",
       "    .dataframe tbody tr th:only-of-type {\n",
       "        vertical-align: middle;\n",
       "    }\n",
       "\n",
       "    .dataframe tbody tr th {\n",
       "        vertical-align: top;\n",
       "    }\n",
       "\n",
       "    .dataframe thead th {\n",
       "        text-align: right;\n",
       "    }\n",
       "</style>\n",
       "<table border=\"1\" class=\"dataframe\">\n",
       "  <thead>\n",
       "    <tr style=\"text-align: right;\">\n",
       "      <th></th>\n",
       "      <th>run_no</th>\n",
       "      <th>universe_id</th>\n",
       "      <th>universe_settings</th>\n",
       "      <th>execution_time</th>\n",
       "      <th>test_size_n</th>\n",
       "      <th>test_size_frac</th>\n",
       "      <th>fair_main_equalized_odds_difference</th>\n",
       "      <th>fair_main_equalized_odds_ratio</th>\n",
       "      <th>fair_main_demographic_parity_difference</th>\n",
       "      <th>fair_main_demographic_parity_ratio</th>\n",
       "      <th>...</th>\n",
       "      <th>perf_grp_precision_0</th>\n",
       "      <th>perf_grp_precision_1</th>\n",
       "      <th>perf_grp_false positive rate_0</th>\n",
       "      <th>perf_grp_false positive rate_1</th>\n",
       "      <th>perf_grp_false negative rate_0</th>\n",
       "      <th>perf_grp_false negative rate_1</th>\n",
       "      <th>perf_grp_selection rate_0</th>\n",
       "      <th>perf_grp_selection rate_1</th>\n",
       "      <th>perf_grp_count_0</th>\n",
       "      <th>perf_grp_count_1</th>\n",
       "    </tr>\n",
       "  </thead>\n",
       "  <tbody>\n",
       "    <tr>\n",
       "      <th>0</th>\n",
       "      <td>12</td>\n",
       "      <td>d8331663d8c1e9eba1793926b5fbbde1</td>\n",
       "      <td>{\"cutoff\": \"quantile_0.1\", \"eval_fairness_grou...</td>\n",
       "      <td>36.212413</td>\n",
       "      <td>89710</td>\n",
       "      <td>1.0</td>\n",
       "      <td>0.078596</td>\n",
       "      <td>0.917059</td>\n",
       "      <td>0.068320</td>\n",
       "      <td>0.928286</td>\n",
       "      <td>...</td>\n",
       "      <td>NaN</td>\n",
       "      <td>NaN</td>\n",
       "      <td>NaN</td>\n",
       "      <td>NaN</td>\n",
       "      <td>NaN</td>\n",
       "      <td>NaN</td>\n",
       "      <td>NaN</td>\n",
       "      <td>NaN</td>\n",
       "      <td>NaN</td>\n",
       "      <td>NaN</td>\n",
       "    </tr>\n",
       "    <tr>\n",
       "      <th>0</th>\n",
       "      <td>12</td>\n",
       "      <td>d8331663d8c1e9eba1793926b5fbbde1</td>\n",
       "      <td>{\"cutoff\": \"quantile_0.1\", \"eval_fairness_grou...</td>\n",
       "      <td>36.212413</td>\n",
       "      <td>89710</td>\n",
       "      <td>1.0</td>\n",
       "      <td>0.078596</td>\n",
       "      <td>0.917059</td>\n",
       "      <td>0.068320</td>\n",
       "      <td>0.928286</td>\n",
       "      <td>...</td>\n",
       "      <td>0.119992</td>\n",
       "      <td>0.147194</td>\n",
       "      <td>0.947612</td>\n",
       "      <td>0.869015</td>\n",
       "      <td>0.008446</td>\n",
       "      <td>0.014880</td>\n",
       "      <td>0.952678</td>\n",
       "      <td>0.884357</td>\n",
       "      <td>20540.0</td>\n",
       "      <td>69170.0</td>\n",
       "    </tr>\n",
       "    <tr>\n",
       "      <th>0</th>\n",
       "      <td>12</td>\n",
       "      <td>d8331663d8c1e9eba1793926b5fbbde1</td>\n",
       "      <td>{\"cutoff\": \"quantile_0.25\", \"eval_fairness_gro...</td>\n",
       "      <td>36.212413</td>\n",
       "      <td>89710</td>\n",
       "      <td>1.0</td>\n",
       "      <td>0.063568</td>\n",
       "      <td>0.917506</td>\n",
       "      <td>0.050016</td>\n",
       "      <td>0.936573</td>\n",
       "      <td>...</td>\n",
       "      <td>NaN</td>\n",
       "      <td>NaN</td>\n",
       "      <td>NaN</td>\n",
       "      <td>NaN</td>\n",
       "      <td>NaN</td>\n",
       "      <td>NaN</td>\n",
       "      <td>NaN</td>\n",
       "      <td>NaN</td>\n",
       "      <td>NaN</td>\n",
       "      <td>NaN</td>\n",
       "    </tr>\n",
       "    <tr>\n",
       "      <th>0</th>\n",
       "      <td>12</td>\n",
       "      <td>d8331663d8c1e9eba1793926b5fbbde1</td>\n",
       "      <td>{\"cutoff\": \"quantile_0.25\", \"eval_fairness_gro...</td>\n",
       "      <td>36.212413</td>\n",
       "      <td>89710</td>\n",
       "      <td>1.0</td>\n",
       "      <td>0.063568</td>\n",
       "      <td>0.917506</td>\n",
       "      <td>0.050016</td>\n",
       "      <td>0.936573</td>\n",
       "      <td>...</td>\n",
       "      <td>0.135457</td>\n",
       "      <td>0.169189</td>\n",
       "      <td>0.770581</td>\n",
       "      <td>0.707013</td>\n",
       "      <td>0.073480</td>\n",
       "      <td>0.054376</td>\n",
       "      <td>0.788559</td>\n",
       "      <td>0.738543</td>\n",
       "      <td>20540.0</td>\n",
       "      <td>69170.0</td>\n",
       "    </tr>\n",
       "  </tbody>\n",
       "</table>\n",
       "<p>4 rows × 50 columns</p>\n",
       "</div>"
      ],
      "text/plain": [
       "  run_no                       universe_id  \\\n",
       "0     12  d8331663d8c1e9eba1793926b5fbbde1   \n",
       "0     12  d8331663d8c1e9eba1793926b5fbbde1   \n",
       "0     12  d8331663d8c1e9eba1793926b5fbbde1   \n",
       "0     12  d8331663d8c1e9eba1793926b5fbbde1   \n",
       "\n",
       "                                   universe_settings  execution_time  \\\n",
       "0  {\"cutoff\": \"quantile_0.1\", \"eval_fairness_grou...       36.212413   \n",
       "0  {\"cutoff\": \"quantile_0.1\", \"eval_fairness_grou...       36.212413   \n",
       "0  {\"cutoff\": \"quantile_0.25\", \"eval_fairness_gro...       36.212413   \n",
       "0  {\"cutoff\": \"quantile_0.25\", \"eval_fairness_gro...       36.212413   \n",
       "\n",
       "   test_size_n  test_size_frac  fair_main_equalized_odds_difference  \\\n",
       "0        89710             1.0                             0.078596   \n",
       "0        89710             1.0                             0.078596   \n",
       "0        89710             1.0                             0.063568   \n",
       "0        89710             1.0                             0.063568   \n",
       "\n",
       "   fair_main_equalized_odds_ratio  fair_main_demographic_parity_difference  \\\n",
       "0                        0.917059                                 0.068320   \n",
       "0                        0.917059                                 0.068320   \n",
       "0                        0.917506                                 0.050016   \n",
       "0                        0.917506                                 0.050016   \n",
       "\n",
       "   fair_main_demographic_parity_ratio  ...  perf_grp_precision_0  \\\n",
       "0                            0.928286  ...                   NaN   \n",
       "0                            0.928286  ...              0.119992   \n",
       "0                            0.936573  ...                   NaN   \n",
       "0                            0.936573  ...              0.135457   \n",
       "\n",
       "   perf_grp_precision_1  perf_grp_false positive rate_0  \\\n",
       "0                   NaN                             NaN   \n",
       "0              0.147194                        0.947612   \n",
       "0                   NaN                             NaN   \n",
       "0              0.169189                        0.770581   \n",
       "\n",
       "   perf_grp_false positive rate_1  perf_grp_false negative rate_0  \\\n",
       "0                             NaN                             NaN   \n",
       "0                        0.869015                        0.008446   \n",
       "0                             NaN                             NaN   \n",
       "0                        0.707013                        0.073480   \n",
       "\n",
       "   perf_grp_false negative rate_1  perf_grp_selection rate_0  \\\n",
       "0                             NaN                        NaN   \n",
       "0                        0.014880                   0.952678   \n",
       "0                             NaN                        NaN   \n",
       "0                        0.054376                   0.788559   \n",
       "\n",
       "   perf_grp_selection rate_1  perf_grp_count_0  perf_grp_count_1  \n",
       "0                        NaN               NaN               NaN  \n",
       "0                   0.884357           20540.0           69170.0  \n",
       "0                        NaN               NaN               NaN  \n",
       "0                   0.738543           20540.0           69170.0  \n",
       "\n",
       "[4 rows x 50 columns]"
      ]
     },
     "execution_count": 79,
     "metadata": {},
     "output_type": "execute_result"
    }
   ],
   "source": [
    "final_output = universe_analysis.generate_final_output(\n",
    "    y_pred_prob=probs_test,\n",
    "    y_test=y_true,\n",
    "    org_test=org_test,\n",
    "    filter_data=filter_sub_universe_data,\n",
    "    cp_metrics_df=cp_metrics_df,\n",
    "    save=True,\n",
    ")\n",
    "final_output"
   ]
  },
  {
   "cell_type": "code",
   "execution_count": null,
   "id": "721ff514-cb11-46f8-b6fc-50392f74b5cb",
   "metadata": {
    "papermill": {
     "duration": 0.033669,
     "end_time": "2025-07-30T14:10:18.926688",
     "exception": false,
     "start_time": "2025-07-30T14:10:18.893019",
     "status": "completed"
    },
    "tags": []
   },
   "outputs": [],
   "source": []
  }
 ],
 "metadata": {
  "celltoolbar": "Tags",
  "kernelspec": {
   "display_name": "Python (CMA Fairness)",
   "language": "python",
   "name": "cma_fair_env"
  },
  "language_info": {
   "codemirror_mode": {
    "name": "ipython",
    "version": 3
   },
   "file_extension": ".py",
   "mimetype": "text/x-python",
   "name": "python",
   "nbconvert_exporter": "python",
   "pygments_lexer": "ipython3",
   "version": "3.10.12"
  },
  "papermill": {
   "default_parameters": {},
   "duration": 49.329835,
   "end_time": "2025-07-30T14:10:19.777848",
   "environment_variables": {},
   "exception": null,
   "input_path": "universe_analysis.ipynb",
   "output_path": "output/runs/12/notebooks/m_12-d8331663d8c1e9eba1793926b5fbbde1.ipynb",
   "parameters": {
    "output_dir": "output",
    "run_no": "12",
    "seed": "2023",
    "universe": "{\"cutoff\": [\"quantile_0.1\", \"quantile_0.25\"], \"eval_fairness_grouping\": [\"majority-minority\", \"nationality-all\"], \"exclude_features\": \"nationality\", \"exclude_subgroups\": \"keep-all\", \"model\": \"gbm\", \"scale\": \"scale\", \"training_size\": \"5k\", \"training_year\": \"2010_14\"}",
    "universe_id": "d8331663d8c1e9eba1793926b5fbbde1"
   },
   "start_time": "2025-07-30T14:09:30.448013",
   "version": "2.6.0"
  }
 },
 "nbformat": 4,
 "nbformat_minor": 5
}