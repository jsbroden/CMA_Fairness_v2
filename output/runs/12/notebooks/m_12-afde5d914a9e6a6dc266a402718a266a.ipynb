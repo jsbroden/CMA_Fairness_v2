{
 "cells": [
  {
   "cell_type": "code",
   "execution_count": 1,
   "id": "f159f837-637b-42ba-96b5-ec9a68c44524",
   "metadata": {
    "execution": {
     "iopub.execute_input": "2025-07-30T14:22:20.710246Z",
     "iopub.status.busy": "2025-07-30T14:22:20.709728Z",
     "iopub.status.idle": "2025-07-30T14:22:20.725276Z",
     "shell.execute_reply": "2025-07-30T14:22:20.724079Z"
    },
    "papermill": {
     "duration": 0.046378,
     "end_time": "2025-07-30T14:22:20.727271",
     "exception": false,
     "start_time": "2025-07-30T14:22:20.680893",
     "status": "completed"
    },
    "tags": []
   },
   "outputs": [
    {
     "name": "stdout",
     "output_type": "stream",
     "text": [
      "/dss/dsshome1/0C/ra93lal2/cma/CMA_Fairness_v2\n"
     ]
    },
    {
     "name": "stderr",
     "output_type": "stream",
     "text": [
      "/dss/dsshome1/0C/ra93lal2/.local/share/virtualenvs/CMA_Fairness_v2-3j10GkSs/lib/python3.10/site-packages/IPython/core/magics/osm.py:393: UserWarning: This is now an optional IPython functionality, using bookmarks requires you to install the `pickleshare` library.\n",
      "  bkms = self.shell.db.get('bookmarks', {})\n",
      "/dss/dsshome1/0C/ra93lal2/.local/share/virtualenvs/CMA_Fairness_v2-3j10GkSs/lib/python3.10/site-packages/IPython/core/magics/osm.py:417: UserWarning: This is now an optional IPython functionality, setting dhist requires you to install the `pickleshare` library.\n",
      "  self.shell.db['dhist'] = compress_dhist(dhist)[-100:]\n"
     ]
    }
   ],
   "source": [
    "%cd ~/cma/CMA_Fairness_v2"
   ]
  },
  {
   "cell_type": "markdown",
   "id": "de2603b9",
   "metadata": {
    "papermill": {
     "duration": 0.020478,
     "end_time": "2025-07-30T14:22:20.769271",
     "exception": false,
     "start_time": "2025-07-30T14:22:20.748793",
     "status": "completed"
    },
    "tags": []
   },
   "source": [
    "The following cell holds the definition of our parameters, these values can be overriden by rendering the with e.g. the following command:\n",
    "\n",
    "papermill -p alpha 0.2 -p ratio 0.3 universe_analysis.ipynb output/test_run.ipynb"
   ]
  },
  {
   "cell_type": "code",
   "execution_count": 2,
   "id": "a80968a0-40bb-4fa9-85ef-2d5eefb01975",
   "metadata": {
    "execution": {
     "iopub.execute_input": "2025-07-30T14:22:20.814111Z",
     "iopub.status.busy": "2025-07-30T14:22:20.813465Z",
     "iopub.status.idle": "2025-07-30T14:22:20.818956Z",
     "shell.execute_reply": "2025-07-30T14:22:20.818140Z"
    },
    "papermill": {
     "duration": 0.029907,
     "end_time": "2025-07-30T14:22:20.820621",
     "exception": false,
     "start_time": "2025-07-30T14:22:20.790714",
     "status": "completed"
    },
    "tags": []
   },
   "outputs": [
    {
     "name": "stdout",
     "output_type": "stream",
     "text": [
      "Current working directory: /dss/dsshome1/0C/ra93lal2/cma/CMA_Fairness_v2\n"
     ]
    }
   ],
   "source": [
    "import os\n",
    "print(\"Current working directory:\", os.getcwd())"
   ]
  },
  {
   "cell_type": "code",
   "execution_count": 3,
   "id": "2dce4c03",
   "metadata": {
    "execution": {
     "iopub.execute_input": "2025-07-30T14:22:20.864294Z",
     "iopub.status.busy": "2025-07-30T14:22:20.863539Z",
     "iopub.status.idle": "2025-07-30T14:22:20.870754Z",
     "shell.execute_reply": "2025-07-30T14:22:20.869790Z"
    },
    "papermill": {
     "duration": 0.031246,
     "end_time": "2025-07-30T14:22:20.872443",
     "exception": false,
     "start_time": "2025-07-30T14:22:20.841197",
     "status": "completed"
    },
    "tags": [
     "parameters"
    ]
   },
   "outputs": [],
   "source": [
    "run_no = 0\n",
    "universe_id = \"test\"\n",
    "universe = {\n",
    "    \"training_size\": \"25k\", # \"25k\", \"5k\", \"1k\"\n",
    "    \"training_year\": \"2014\", # \"2014\", \"2012_14\", \"2010_14\"\n",
    "    \"scale\": \"scale\", # \"scale\", \"do-not-scale\",\n",
    "    #\"stratify_split\": \"target\", # \"none\", \"target\", \"protected-attribute\", \"both\",\n",
    "    \"model\": \"elasticnet\", # \"logreg\", \"penalized_logreg\", \"rf\", \"gbm\", \"elasticnet\"\n",
    "    \"cutoff\": [\"quantile_0.15\", \"quantile_0.30\"],\n",
    "    \"exclude_features\": \"age\", # \"none\", \"nationality\", \"sex\", \"nationality-sex\", \"age\"\n",
    "    \"exclude_subgroups\": \"keep-all\", # \"keep-all\", \"drop-non-german\"\n",
    "    \"eval_fairness_grouping\": [\"majority-minority\", \"nationality-all\"]\n",
    "}\n",
    "\n",
    "output_dir=\"./output\"\n",
    "seed=0"
   ]
  },
  {
   "cell_type": "code",
   "execution_count": 4,
   "id": "00619494",
   "metadata": {
    "execution": {
     "iopub.execute_input": "2025-07-30T14:22:20.917015Z",
     "iopub.status.busy": "2025-07-30T14:22:20.916285Z",
     "iopub.status.idle": "2025-07-30T14:22:20.922544Z",
     "shell.execute_reply": "2025-07-30T14:22:20.921474Z"
    },
    "papermill": {
     "duration": 0.031014,
     "end_time": "2025-07-30T14:22:20.924451",
     "exception": false,
     "start_time": "2025-07-30T14:22:20.893437",
     "status": "completed"
    },
    "tags": [
     "injected-parameters"
    ]
   },
   "outputs": [],
   "source": [
    "# Parameters\n",
    "universe_id = \"afde5d914a9e6a6dc266a402718a266a\"\n",
    "run_no = \"12\"\n",
    "universe = \"{\\\"cutoff\\\": [\\\"quantile_0.1\\\", \\\"quantile_0.25\\\"], \\\"eval_fairness_grouping\\\": [\\\"majority-minority\\\", \\\"nationality-all\\\"], \\\"exclude_features\\\": \\\"nationality-sex\\\", \\\"exclude_subgroups\\\": \\\"drop-non-german\\\", \\\"model\\\": \\\"gbm\\\", \\\"scale\\\": \\\"scale\\\", \\\"training_size\\\": \\\"1k\\\", \\\"training_year\\\": \\\"2014\\\"}\"\n",
    "output_dir = \"output\"\n",
    "seed = \"2023\"\n"
   ]
  },
  {
   "cell_type": "code",
   "execution_count": 5,
   "id": "1650acaf",
   "metadata": {
    "execution": {
     "iopub.execute_input": "2025-07-30T14:22:20.969143Z",
     "iopub.status.busy": "2025-07-30T14:22:20.968743Z",
     "iopub.status.idle": "2025-07-30T14:22:20.973840Z",
     "shell.execute_reply": "2025-07-30T14:22:20.972870Z"
    },
    "papermill": {
     "duration": 0.029617,
     "end_time": "2025-07-30T14:22:20.975514",
     "exception": false,
     "start_time": "2025-07-30T14:22:20.945897",
     "status": "completed"
    },
    "tags": []
   },
   "outputs": [],
   "source": [
    "import json\n",
    "# Parse universe into dict if it is passed as a string\n",
    "if isinstance(universe, str):\n",
    "    universe = json.loads(universe)"
   ]
  },
  {
   "cell_type": "code",
   "execution_count": 6,
   "id": "16620c48",
   "metadata": {
    "execution": {
     "iopub.execute_input": "2025-07-30T14:22:21.034277Z",
     "iopub.status.busy": "2025-07-30T14:22:21.033582Z",
     "iopub.status.idle": "2025-07-30T14:22:21.079411Z",
     "shell.execute_reply": "2025-07-30T14:22:21.078431Z"
    },
    "papermill": {
     "duration": 0.069542,
     "end_time": "2025-07-30T14:22:21.081435",
     "exception": false,
     "start_time": "2025-07-30T14:22:21.011893",
     "status": "completed"
    },
    "tags": []
   },
   "outputs": [],
   "source": [
    "# Auto-reload the custom package\n",
    "%load_ext autoreload\n",
    "%autoreload 1\n",
    "%aimport fairness_multiverse"
   ]
  },
  {
   "cell_type": "code",
   "execution_count": 7,
   "id": "01c5c9f3",
   "metadata": {
    "execution": {
     "iopub.execute_input": "2025-07-30T14:22:21.127572Z",
     "iopub.status.busy": "2025-07-30T14:22:21.126908Z",
     "iopub.status.idle": "2025-07-30T14:22:22.979350Z",
     "shell.execute_reply": "2025-07-30T14:22:22.978360Z"
    },
    "papermill": {
     "duration": 1.877441,
     "end_time": "2025-07-30T14:22:22.981345",
     "exception": false,
     "start_time": "2025-07-30T14:22:21.103904",
     "status": "completed"
    },
    "tags": []
   },
   "outputs": [],
   "source": [
    "from fairness_multiverse.universe import UniverseAnalysis\n",
    "\n",
    "universe_analysis = UniverseAnalysis(\n",
    "    run_no = run_no,\n",
    "    universe_id = universe_id,\n",
    "    universe = universe,\n",
    "    output_dir=output_dir,\n",
    ")"
   ]
  },
  {
   "cell_type": "code",
   "execution_count": 8,
   "id": "106241f5",
   "metadata": {
    "execution": {
     "iopub.execute_input": "2025-07-30T14:22:23.026681Z",
     "iopub.status.busy": "2025-07-30T14:22:23.026199Z",
     "iopub.status.idle": "2025-07-30T14:22:23.032509Z",
     "shell.execute_reply": "2025-07-30T14:22:23.031561Z"
    },
    "papermill": {
     "duration": 0.030072,
     "end_time": "2025-07-30T14:22:23.034237",
     "exception": false,
     "start_time": "2025-07-30T14:22:23.004165",
     "status": "completed"
    },
    "tags": []
   },
   "outputs": [
    {
     "name": "stdout",
     "output_type": "stream",
     "text": [
      "Using Seed: 2023\n"
     ]
    }
   ],
   "source": [
    "import numpy as np\n",
    "parsed_seed = int(seed)\n",
    "np.random.seed(parsed_seed)\n",
    "print(f\"Using Seed: {parsed_seed}\")"
   ]
  },
  {
   "cell_type": "markdown",
   "id": "e0ebdc57",
   "metadata": {
    "papermill": {
     "duration": 0.022792,
     "end_time": "2025-07-30T14:22:23.078119",
     "exception": false,
     "start_time": "2025-07-30T14:22:23.055327",
     "status": "completed"
    },
    "tags": []
   },
   "source": [
    "# Loading Data"
   ]
  },
  {
   "cell_type": "markdown",
   "id": "681925a3",
   "metadata": {
    "papermill": {
     "duration": 0.01565,
     "end_time": "2025-07-30T14:22:23.115773",
     "exception": false,
     "start_time": "2025-07-30T14:22:23.100123",
     "status": "completed"
    },
    "tags": []
   },
   "source": [
    "Load siab_train, siab_test, siab_calib and/or \n",
    "load siab_train_features, siab_train_labels"
   ]
  },
  {
   "cell_type": "code",
   "execution_count": 9,
   "id": "f0496b8a",
   "metadata": {
    "execution": {
     "iopub.execute_input": "2025-07-30T14:22:23.161491Z",
     "iopub.status.busy": "2025-07-30T14:22:23.160838Z",
     "iopub.status.idle": "2025-07-30T14:22:34.599756Z",
     "shell.execute_reply": "2025-07-30T14:22:34.598359Z"
    },
    "papermill": {
     "duration": 11.46337,
     "end_time": "2025-07-30T14:22:34.601709",
     "exception": false,
     "start_time": "2025-07-30T14:22:23.138339",
     "status": "completed"
    },
    "tags": []
   },
   "outputs": [
    {
     "name": "stdout",
     "output_type": "stream",
     "text": [
      "Loading SIAB data from cache: data/siab_cached.csv.gz\n"
     ]
    },
    {
     "name": "stdout",
     "output_type": "stream",
     "text": [
      "(643690, 164)\n"
     ]
    }
   ],
   "source": [
    "from pathlib import Path\n",
    "import pandas as pd\n",
    "\n",
    "# File paths\n",
    "raw_file = Path(\"data/raw/siab.csv\")\n",
    "cache_file = Path(\"data/siab_cached.csv.gz\")\n",
    "\n",
    "# Ensure cache directory exists\n",
    "cache_file.parent.mkdir(parents=True, exist_ok=True)\n",
    "\n",
    "# Load with simple caching\n",
    "if cache_file.exists():\n",
    "    print(f\"Loading SIAB data from cache: {cache_file}\")\n",
    "    siab = pd.read_csv(cache_file, compression='gzip')\n",
    "else:\n",
    "    print(f\"Cache not found. Reading raw SIAB data: {raw_file}\")\n",
    "    siab = pd.read_csv(raw_file)\n",
    "    siab.to_csv(cache_file, index=False, compression='gzip')\n",
    "    print(f\"Cached SIAB data to: {cache_file}\")\n",
    "\n",
    "# Now use `siab` DataFrame as needed\n",
    "print(siab.shape)"
   ]
  },
  {
   "cell_type": "code",
   "execution_count": 10,
   "id": "db0ca512-5f53-4dba-abdb-a2888bca41ba",
   "metadata": {
    "execution": {
     "iopub.execute_input": "2025-07-30T14:22:34.653900Z",
     "iopub.status.busy": "2025-07-30T14:22:34.653208Z",
     "iopub.status.idle": "2025-07-30T14:22:34.659126Z",
     "shell.execute_reply": "2025-07-30T14:22:34.658225Z"
    },
    "papermill": {
     "duration": 0.034698,
     "end_time": "2025-07-30T14:22:34.661266",
     "exception": false,
     "start_time": "2025-07-30T14:22:34.626568",
     "status": "completed"
    },
    "tags": []
   },
   "outputs": [],
   "source": [
    "#siab"
   ]
  },
  {
   "cell_type": "code",
   "execution_count": 11,
   "id": "a0edb063",
   "metadata": {
    "execution": {
     "iopub.execute_input": "2025-07-30T14:22:34.710239Z",
     "iopub.status.busy": "2025-07-30T14:22:34.709581Z",
     "iopub.status.idle": "2025-07-30T14:22:34.714734Z",
     "shell.execute_reply": "2025-07-30T14:22:34.713697Z"
    },
    "papermill": {
     "duration": 0.030944,
     "end_time": "2025-07-30T14:22:34.716605",
     "exception": false,
     "start_time": "2025-07-30T14:22:34.685661",
     "status": "completed"
    },
    "tags": []
   },
   "outputs": [],
   "source": [
    "#import pandas as pd\n",
    "#\n",
    "#X_train = pd.read_csv(\"./data/X_train.csv\")\n",
    "#y_train = pd.read_csv(\"./data/y_train.csv\")"
   ]
  },
  {
   "cell_type": "code",
   "execution_count": 12,
   "id": "63d08085",
   "metadata": {
    "execution": {
     "iopub.execute_input": "2025-07-30T14:22:34.763313Z",
     "iopub.status.busy": "2025-07-30T14:22:34.762613Z",
     "iopub.status.idle": "2025-07-30T14:22:34.769053Z",
     "shell.execute_reply": "2025-07-30T14:22:34.767728Z"
    },
    "papermill": {
     "duration": 0.032477,
     "end_time": "2025-07-30T14:22:34.771288",
     "exception": false,
     "start_time": "2025-07-30T14:22:34.738811",
     "status": "completed"
    },
    "tags": []
   },
   "outputs": [],
   "source": [
    "#X_test = pd.read_csv(\"./data/X_test.csv\")\n",
    "#y_true = pd.read_csv(\"./data/y_test.csv\")"
   ]
  },
  {
   "cell_type": "code",
   "execution_count": 13,
   "id": "98a8d0fa-1d3d-4ed8-bb2c-281470e24add",
   "metadata": {
    "execution": {
     "iopub.execute_input": "2025-07-30T14:22:34.814319Z",
     "iopub.status.busy": "2025-07-30T14:22:34.813920Z",
     "iopub.status.idle": "2025-07-30T14:22:34.818628Z",
     "shell.execute_reply": "2025-07-30T14:22:34.817595Z"
    },
    "papermill": {
     "duration": 0.030208,
     "end_time": "2025-07-30T14:22:34.820216",
     "exception": false,
     "start_time": "2025-07-30T14:22:34.790008",
     "status": "completed"
    },
    "tags": []
   },
   "outputs": [],
   "source": [
    "# Calibration data for conformal\n",
    "#X_calib = pd.read_csv(\"./data/X_calib.csv\")\n",
    "#y_calib = pd.read_csv(\"./data/y_calib.csv\")"
   ]
  },
  {
   "cell_type": "markdown",
   "id": "997051c5-15bd-4b69-9786-c3001a3ce484",
   "metadata": {
    "papermill": {
     "duration": 0.014264,
     "end_time": "2025-07-30T14:22:34.856887",
     "exception": false,
     "start_time": "2025-07-30T14:22:34.842623",
     "status": "completed"
    },
    "tags": []
   },
   "source": [
    "# Splitting Data and Setting Training Data Size"
   ]
  },
  {
   "cell_type": "code",
   "execution_count": 14,
   "id": "e993b61f-042d-41a6-8c81-f55681f86335",
   "metadata": {
    "execution": {
     "iopub.execute_input": "2025-07-30T14:22:34.882787Z",
     "iopub.status.busy": "2025-07-30T14:22:34.882437Z",
     "iopub.status.idle": "2025-07-30T14:22:34.892745Z",
     "shell.execute_reply": "2025-07-30T14:22:34.891981Z"
    },
    "papermill": {
     "duration": 0.023389,
     "end_time": "2025-07-30T14:22:34.893982",
     "exception": false,
     "start_time": "2025-07-30T14:22:34.870593",
     "status": "completed"
    },
    "tags": []
   },
   "outputs": [],
   "source": [
    "def sample_by_year_size(df,\n",
    "                        training_year: str,\n",
    "                        training_size: str,\n",
    "                        random_state: int = 42):\n",
    "    # --- parse training_year into a list of int years ---\n",
    "    if \"_\" in training_year:\n",
    "        start_str, end_str = training_year.split(\"_\", 1)\n",
    "        start = int(start_str)\n",
    "        end   = int(end_str) if len(end_str) == 4 else (int(end_str) + (start // 100)*100)\n",
    "        years = list(range(start, end + 1))\n",
    "    else:\n",
    "        years = [int(training_year)]\n",
    "\n",
    "    df = df[df[\"year\"].isin(years)].reset_index(drop=True)\n",
    "\n",
    "    # --- map training_size to total number of samples ---\n",
    "    total_map = {\"25k\": 25_000, \"5k\": 5_000, \"1k\": 1_000}\n",
    "    if training_size not in total_map:\n",
    "        return df  # e.g. \"all\"\n",
    "\n",
    "    total_samples = total_map[training_size]\n",
    "    n_years       = len(years)\n",
    "    base          = total_samples // n_years\n",
    "    remainder     = total_samples % n_years\n",
    "\n",
    "    # --- build a dict: year -> how many to sample ---\n",
    "    # give +1 to the first `remainder` years in ascending order\n",
    "    quotas = {\n",
    "        year: base + (1 if idx < remainder else 0)\n",
    "        for idx, year in enumerate(sorted(years))\n",
    "    }\n",
    "\n",
    "    # --- sample per‐year according to the quota dict ---\n",
    "    sampled = (\n",
    "        df\n",
    "        .groupby(\"year\", group_keys=False)\n",
    "        .apply(lambda grp: grp.sample(\n",
    "            n=min(len(grp), quotas[grp.name]),\n",
    "            random_state=random_state))\n",
    "        .reset_index(drop=True)\n",
    "    )\n",
    "\n",
    "    return sampled"
   ]
  },
  {
   "cell_type": "code",
   "execution_count": 15,
   "id": "c0ccd338-0e02-41f3-a09d-f56f9266e3fb",
   "metadata": {
    "execution": {
     "iopub.execute_input": "2025-07-30T14:22:34.918387Z",
     "iopub.status.busy": "2025-07-30T14:22:34.917924Z",
     "iopub.status.idle": "2025-07-30T14:22:34.929227Z",
     "shell.execute_reply": "2025-07-30T14:22:34.928160Z"
    },
    "papermill": {
     "duration": 0.025091,
     "end_time": "2025-07-30T14:22:34.930954",
     "exception": false,
     "start_time": "2025-07-30T14:22:34.905863",
     "status": "completed"
    },
    "tags": []
   },
   "outputs": [
    {
     "data": {
      "text/plain": [
       "'1k'"
      ]
     },
     "execution_count": 15,
     "metadata": {},
     "output_type": "execute_result"
    }
   ],
   "source": [
    "universe[\"training_size\"]"
   ]
  },
  {
   "cell_type": "code",
   "execution_count": 16,
   "id": "ca707fd7-8047-4acd-bfa5-66248fbbf8e6",
   "metadata": {
    "execution": {
     "iopub.execute_input": "2025-07-30T14:22:34.978551Z",
     "iopub.status.busy": "2025-07-30T14:22:34.977860Z",
     "iopub.status.idle": "2025-07-30T14:22:34.985598Z",
     "shell.execute_reply": "2025-07-30T14:22:34.984275Z"
    },
    "papermill": {
     "duration": 0.037343,
     "end_time": "2025-07-30T14:22:34.991331",
     "exception": false,
     "start_time": "2025-07-30T14:22:34.953988",
     "status": "completed"
    },
    "tags": []
   },
   "outputs": [
    {
     "data": {
      "text/plain": [
       "'2014'"
      ]
     },
     "execution_count": 16,
     "metadata": {},
     "output_type": "execute_result"
    }
   ],
   "source": [
    "universe[\"training_year\"]"
   ]
  },
  {
   "cell_type": "code",
   "execution_count": 17,
   "id": "aea9c6ef-6f46-42c8-85eb-5a62025c1508",
   "metadata": {
    "execution": {
     "iopub.execute_input": "2025-07-30T14:22:35.037395Z",
     "iopub.status.busy": "2025-07-30T14:22:35.036730Z",
     "iopub.status.idle": "2025-07-30T14:22:35.212214Z",
     "shell.execute_reply": "2025-07-30T14:22:35.211168Z"
    },
    "papermill": {
     "duration": 0.205025,
     "end_time": "2025-07-30T14:22:35.217481",
     "exception": false,
     "start_time": "2025-07-30T14:22:35.012456",
     "status": "completed"
    },
    "tags": []
   },
   "outputs": [],
   "source": [
    "siab_train = sample_by_year_size(siab,\n",
    "                               training_year=universe[\"training_year\"],\n",
    "                               training_size=universe[\"training_size\"])"
   ]
  },
  {
   "cell_type": "code",
   "execution_count": 18,
   "id": "8d3afb32-789d-442c-8d5d-9f5aa8dd2eed",
   "metadata": {
    "execution": {
     "iopub.execute_input": "2025-07-30T14:22:35.264585Z",
     "iopub.status.busy": "2025-07-30T14:22:35.263719Z",
     "iopub.status.idle": "2025-07-30T14:22:35.272460Z",
     "shell.execute_reply": "2025-07-30T14:22:35.271262Z"
    },
    "papermill": {
     "duration": 0.034353,
     "end_time": "2025-07-30T14:22:35.274254",
     "exception": false,
     "start_time": "2025-07-30T14:22:35.239901",
     "status": "completed"
    },
    "tags": []
   },
   "outputs": [
    {
     "data": {
      "text/plain": [
       "(1000, 164)"
      ]
     },
     "execution_count": 18,
     "metadata": {},
     "output_type": "execute_result"
    }
   ],
   "source": [
    "siab_train.shape"
   ]
  },
  {
   "cell_type": "code",
   "execution_count": 19,
   "id": "d582db68-1a4c-47fb-84fc-08518dc1975a",
   "metadata": {
    "execution": {
     "iopub.execute_input": "2025-07-30T14:22:35.323058Z",
     "iopub.status.busy": "2025-07-30T14:22:35.322398Z",
     "iopub.status.idle": "2025-07-30T14:22:35.337210Z",
     "shell.execute_reply": "2025-07-30T14:22:35.336108Z"
    },
    "papermill": {
     "duration": 0.04099,
     "end_time": "2025-07-30T14:22:35.338950",
     "exception": false,
     "start_time": "2025-07-30T14:22:35.297960",
     "status": "completed"
    },
    "tags": []
   },
   "outputs": [
    {
     "data": {
      "text/plain": [
       "year\n",
       "2014    1000\n",
       "dtype: int64"
      ]
     },
     "metadata": {},
     "output_type": "display_data"
    }
   ],
   "source": [
    "display(siab_train.groupby(\"year\").size())"
   ]
  },
  {
   "cell_type": "code",
   "execution_count": 20,
   "id": "a561edb4-d032-42cb-8256-22eac1111c64",
   "metadata": {
    "execution": {
     "iopub.execute_input": "2025-07-30T14:22:35.384276Z",
     "iopub.status.busy": "2025-07-30T14:22:35.383563Z",
     "iopub.status.idle": "2025-07-30T14:22:35.590393Z",
     "shell.execute_reply": "2025-07-30T14:22:35.589508Z"
    },
    "papermill": {
     "duration": 0.23003,
     "end_time": "2025-07-30T14:22:35.592236",
     "exception": false,
     "start_time": "2025-07-30T14:22:35.362206",
     "status": "completed"
    },
    "tags": []
   },
   "outputs": [],
   "source": [
    "#siab_train = siab_s[siab_s.year < 2015]\n",
    "siab_calib = siab[siab.year == 2015]\n",
    "siab_test = siab[siab.year == 2016]"
   ]
  },
  {
   "cell_type": "code",
   "execution_count": 21,
   "id": "472de16f-c3db-4916-846b-1f0de9cf1746",
   "metadata": {
    "execution": {
     "iopub.execute_input": "2025-07-30T14:22:35.637187Z",
     "iopub.status.busy": "2025-07-30T14:22:35.636312Z",
     "iopub.status.idle": "2025-07-30T14:22:35.643482Z",
     "shell.execute_reply": "2025-07-30T14:22:35.642562Z"
    },
    "papermill": {
     "duration": 0.031388,
     "end_time": "2025-07-30T14:22:35.644954",
     "exception": false,
     "start_time": "2025-07-30T14:22:35.613566",
     "status": "completed"
    },
    "tags": []
   },
   "outputs": [],
   "source": [
    "X_train = siab_train.iloc[:,4:164]\n",
    "y_train = siab_train.iloc[:, [3]]"
   ]
  },
  {
   "cell_type": "code",
   "execution_count": 22,
   "id": "828c96af-f43a-4ed6-ba47-8ac73a47d56c",
   "metadata": {
    "execution": {
     "iopub.execute_input": "2025-07-30T14:22:35.686232Z",
     "iopub.status.busy": "2025-07-30T14:22:35.685902Z",
     "iopub.status.idle": "2025-07-30T14:22:35.734566Z",
     "shell.execute_reply": "2025-07-30T14:22:35.733562Z"
    },
    "papermill": {
     "duration": 0.070776,
     "end_time": "2025-07-30T14:22:35.736130",
     "exception": false,
     "start_time": "2025-07-30T14:22:35.665354",
     "status": "completed"
    },
    "tags": []
   },
   "outputs": [],
   "source": [
    "X_calib = siab_calib.iloc[:,4:164]\n",
    "y_calib = siab_calib.iloc[:, [3]]"
   ]
  },
  {
   "cell_type": "code",
   "execution_count": 23,
   "id": "c34be9c3-6bd6-476e-acd3-845840e303be",
   "metadata": {
    "execution": {
     "iopub.execute_input": "2025-07-30T14:22:35.778001Z",
     "iopub.status.busy": "2025-07-30T14:22:35.777273Z",
     "iopub.status.idle": "2025-07-30T14:22:35.832535Z",
     "shell.execute_reply": "2025-07-30T14:22:35.831494Z"
    },
    "papermill": {
     "duration": 0.077438,
     "end_time": "2025-07-30T14:22:35.834175",
     "exception": false,
     "start_time": "2025-07-30T14:22:35.756737",
     "status": "completed"
    },
    "tags": []
   },
   "outputs": [],
   "source": [
    "X_test = siab_test.iloc[:,4:164]\n",
    "y_true = siab_test.iloc[:, [3]]"
   ]
  },
  {
   "cell_type": "markdown",
   "id": "9901737e-04df-44f0-9100-f5ad144ed040",
   "metadata": {
    "papermill": {
     "duration": 0.019708,
     "end_time": "2025-07-30T14:22:35.876140",
     "exception": false,
     "start_time": "2025-07-30T14:22:35.856432",
     "status": "completed"
    },
    "tags": []
   },
   "source": [
    "# Splitting Data and Setting Training Data Size OLD VERSION"
   ]
  },
  {
   "cell_type": "code",
   "execution_count": 24,
   "id": "acbc8f7d-8fc8-4e86-8c59-5dcb0f58384b",
   "metadata": {
    "execution": {
     "iopub.execute_input": "2025-07-30T14:22:35.918314Z",
     "iopub.status.busy": "2025-07-30T14:22:35.917709Z",
     "iopub.status.idle": "2025-07-30T14:22:35.922884Z",
     "shell.execute_reply": "2025-07-30T14:22:35.922070Z"
    },
    "papermill": {
     "duration": 0.028808,
     "end_time": "2025-07-30T14:22:35.924496",
     "exception": false,
     "start_time": "2025-07-30T14:22:35.895688",
     "status": "completed"
    },
    "tags": []
   },
   "outputs": [],
   "source": [
    "#def sample_by_year(df, training_size, random_state=42):\n",
    "#    if training_size == \"2014\":\n",
    "#        return df[df[\"year\"] == 2014].reset_index(drop=True)\n",
    "#    \n",
    "#    size_map = {\n",
    "#        \"25k\": 5000,\n",
    "#        \"5k\": 1000,\n",
    "#        \"1k\": 200\n",
    "#    }\n",
    "#\n",
    "#    if training_size not in size_map:\n",
    "#        return df.reset_index(drop=True)  # use all data\n",
    "#\n",
    "#    n_per_year = size_map[training_size]\n",
    "#    grouped = df.groupby(\"year\")\n",
    "#    sampled = grouped.apply(lambda x: x.sample(n=min(n_per_year, len(x)), random_state=random_state))\n",
    "#    return sampled.reset_index(drop=True)"
   ]
  },
  {
   "cell_type": "code",
   "execution_count": 25,
   "id": "6d931f52-beaf-43ff-9e78-9d44a448d54e",
   "metadata": {
    "execution": {
     "iopub.execute_input": "2025-07-30T14:22:35.966276Z",
     "iopub.status.busy": "2025-07-30T14:22:35.965707Z",
     "iopub.status.idle": "2025-07-30T14:22:35.970943Z",
     "shell.execute_reply": "2025-07-30T14:22:35.970071Z"
    },
    "papermill": {
     "duration": 0.027659,
     "end_time": "2025-07-30T14:22:35.972402",
     "exception": false,
     "start_time": "2025-07-30T14:22:35.944743",
     "status": "completed"
    },
    "tags": []
   },
   "outputs": [],
   "source": [
    "#siab_s = sample_by_year(siab, universe[\"training_size\"])"
   ]
  },
  {
   "cell_type": "code",
   "execution_count": 26,
   "id": "5db0a40e-a4e2-4920-be85-b12ae061d70d",
   "metadata": {
    "execution": {
     "iopub.execute_input": "2025-07-30T14:22:36.016673Z",
     "iopub.status.busy": "2025-07-30T14:22:36.015978Z",
     "iopub.status.idle": "2025-07-30T14:22:36.020772Z",
     "shell.execute_reply": "2025-07-30T14:22:36.019824Z"
    },
    "papermill": {
     "duration": 0.027879,
     "end_time": "2025-07-30T14:22:36.022248",
     "exception": false,
     "start_time": "2025-07-30T14:22:35.994369",
     "status": "completed"
    },
    "tags": []
   },
   "outputs": [],
   "source": [
    "#display(siab_s.groupby(\"year\").size())"
   ]
  },
  {
   "cell_type": "code",
   "execution_count": 27,
   "id": "e6c733c5",
   "metadata": {
    "execution": {
     "iopub.execute_input": "2025-07-30T14:22:36.065357Z",
     "iopub.status.busy": "2025-07-30T14:22:36.064951Z",
     "iopub.status.idle": "2025-07-30T14:22:36.171714Z",
     "shell.execute_reply": "2025-07-30T14:22:36.170838Z"
    },
    "papermill": {
     "duration": 0.130312,
     "end_time": "2025-07-30T14:22:36.173568",
     "exception": false,
     "start_time": "2025-07-30T14:22:36.043256",
     "status": "completed"
    },
    "tags": []
   },
   "outputs": [],
   "source": [
    "# Auxiliary data needed downstream in the pipeline\n",
    "\n",
    "org_train = X_train.copy()\n",
    "org_test = X_test.copy()\n",
    "org_calib = X_calib.copy()"
   ]
  },
  {
   "cell_type": "code",
   "execution_count": 28,
   "id": "1466abac-c6da-4492-a62f-4240ae3783af",
   "metadata": {
    "execution": {
     "iopub.execute_input": "2025-07-30T14:22:36.217086Z",
     "iopub.status.busy": "2025-07-30T14:22:36.216683Z",
     "iopub.status.idle": "2025-07-30T14:22:36.222086Z",
     "shell.execute_reply": "2025-07-30T14:22:36.221200Z"
    },
    "papermill": {
     "duration": 0.028898,
     "end_time": "2025-07-30T14:22:36.223515",
     "exception": false,
     "start_time": "2025-07-30T14:22:36.194617",
     "status": "completed"
    },
    "tags": []
   },
   "outputs": [],
   "source": [
    "# put in other script?\n",
    "# Group sizes\n",
    "\n",
    "#def calculate_percentages(df, df_name):\n",
    "#    total_entries = len(df)\n",
    "#\n",
    "#    female_pct = (df['frau1'] == 1).mean() * 100\n",
    "#    non_german_pct = ((df['maxdeutsch1'] == 0) & (df['maxdeutsch.Missing.'] == 0)).mean() * 100\n",
    "#    non_german_male_pct = ((df['frau1'] == 0) & (df['maxdeutsch1'] == 0) & (df['maxdeutsch.Missing.'] == 0)).mean() * 100\n",
    "#    non_german_female_pct = ((df['frau1'] == 1) & (df['maxdeutsch1'] == 0) & (df['maxdeutsch.Missing.'] == 0)).mean() * 100\n",
    "#\n",
    "#    print(f\"--- {df_name} ---\")\n",
    "#    print(f\"Female: {female_pct:.2f}%\")\n",
    "#    print(f\"Non-German: {non_german_pct:.2f}%\")\n",
    "#    print(f\"Non-German Male: {non_german_male_pct:.2f}%\")\n",
    "#    print(f\"Non-German Female: {non_german_female_pct:.2f}%\\n\")\n",
    "#\n",
    "## Calculate for each DataFrame\n",
    "#calculate_percentages(siab_calib, \"siab_calib\")\n",
    "#calculate_percentages(siab_test, \"siab_test\")\n",
    "#calculate_percentages(siab_train, \"siab_train\")"
   ]
  },
  {
   "cell_type": "markdown",
   "id": "0a4a1b33",
   "metadata": {
    "papermill": {
     "duration": 0.020804,
     "end_time": "2025-07-30T14:22:36.265102",
     "exception": false,
     "start_time": "2025-07-30T14:22:36.244298",
     "status": "completed"
    },
    "tags": []
   },
   "source": [
    "# Preprocessing Data"
   ]
  },
  {
   "cell_type": "code",
   "execution_count": 29,
   "id": "ca879031",
   "metadata": {
    "execution": {
     "iopub.execute_input": "2025-07-30T14:22:36.307425Z",
     "iopub.status.busy": "2025-07-30T14:22:36.306733Z",
     "iopub.status.idle": "2025-07-30T14:22:36.312533Z",
     "shell.execute_reply": "2025-07-30T14:22:36.311581Z"
    },
    "papermill": {
     "duration": 0.028755,
     "end_time": "2025-07-30T14:22:36.314077",
     "exception": false,
     "start_time": "2025-07-30T14:22:36.285322",
     "status": "completed"
    },
    "tags": []
   },
   "outputs": [],
   "source": [
    "# EXCLUDE PROTECTED FEATURES\n",
    "# ----------------------\n",
    "# \"exclude_features\": \"none\", # \"nationality\", \"sex\", \"nationality-sex\"\n",
    "\n",
    "excluded_features = universe[\"exclude_features\"].split(\"-\") # split, e.g.: \"nationality-sex\" -> [\"nationality\", \"sex\"]\n",
    "excluded_features_dictionary = {\n",
    "    \"nationality\": [\"maxdeutsch1\", \"maxdeutsch.Missing.\"],\n",
    "    \"sex\": [\"frau1\"],\n",
    "    \"age\": [\"age\"],\n",
    "}\n"
   ]
  },
  {
   "cell_type": "code",
   "execution_count": 30,
   "id": "b745ac60",
   "metadata": {
    "execution": {
     "iopub.execute_input": "2025-07-30T14:22:36.356345Z",
     "iopub.status.busy": "2025-07-30T14:22:36.355723Z",
     "iopub.status.idle": "2025-07-30T14:22:36.361166Z",
     "shell.execute_reply": "2025-07-30T14:22:36.360150Z"
    },
    "papermill": {
     "duration": 0.02797,
     "end_time": "2025-07-30T14:22:36.362808",
     "exception": false,
     "start_time": "2025-07-30T14:22:36.334838",
     "status": "completed"
    },
    "tags": []
   },
   "outputs": [],
   "source": [
    "# Code nice names to column names\n",
    "\n",
    "excluded_features_columns = [\n",
    "    excluded_features_dictionary[f] for f in excluded_features if len(f) > 0 and f != \"none\"\n",
    "]"
   ]
  },
  {
   "cell_type": "code",
   "execution_count": 31,
   "id": "f84f73a2",
   "metadata": {
    "execution": {
     "iopub.execute_input": "2025-07-30T14:22:36.412095Z",
     "iopub.status.busy": "2025-07-30T14:22:36.411786Z",
     "iopub.status.idle": "2025-07-30T14:22:36.418160Z",
     "shell.execute_reply": "2025-07-30T14:22:36.417021Z"
    },
    "papermill": {
     "duration": 0.032975,
     "end_time": "2025-07-30T14:22:36.419911",
     "exception": false,
     "start_time": "2025-07-30T14:22:36.386936",
     "status": "completed"
    },
    "tags": []
   },
   "outputs": [],
   "source": [
    "from utils import flatten_once\n",
    "\n",
    "excluded_features_columns = flatten_once(excluded_features_columns)"
   ]
  },
  {
   "cell_type": "code",
   "execution_count": 32,
   "id": "884dea22",
   "metadata": {
    "execution": {
     "iopub.execute_input": "2025-07-30T14:22:36.477260Z",
     "iopub.status.busy": "2025-07-30T14:22:36.476761Z",
     "iopub.status.idle": "2025-07-30T14:22:36.485434Z",
     "shell.execute_reply": "2025-07-30T14:22:36.484572Z"
    },
    "papermill": {
     "duration": 0.045592,
     "end_time": "2025-07-30T14:22:36.487292",
     "exception": false,
     "start_time": "2025-07-30T14:22:36.441700",
     "status": "completed"
    },
    "tags": []
   },
   "outputs": [
    {
     "name": "stdout",
     "output_type": "stream",
     "text": [
      "Dropping features: ['maxdeutsch1', 'maxdeutsch.Missing.', 'frau1']\n"
     ]
    }
   ],
   "source": [
    "if len(excluded_features_columns) > 0:\n",
    "    print(f\"Dropping features: {excluded_features_columns}\")\n",
    "    X_train.drop(excluded_features_columns, axis=1, inplace=True)"
   ]
  },
  {
   "cell_type": "code",
   "execution_count": 33,
   "id": "95ab8b16",
   "metadata": {
    "execution": {
     "iopub.execute_input": "2025-07-30T14:22:36.531019Z",
     "iopub.status.busy": "2025-07-30T14:22:36.530350Z",
     "iopub.status.idle": "2025-07-30T14:22:36.581303Z",
     "shell.execute_reply": "2025-07-30T14:22:36.580238Z"
    },
    "papermill": {
     "duration": 0.074723,
     "end_time": "2025-07-30T14:22:36.583452",
     "exception": false,
     "start_time": "2025-07-30T14:22:36.508729",
     "status": "completed"
    },
    "tags": []
   },
   "outputs": [
    {
     "name": "stdout",
     "output_type": "stream",
     "text": [
      "Dropping features: ['maxdeutsch1', 'maxdeutsch.Missing.', 'frau1']\n"
     ]
    }
   ],
   "source": [
    "if len(excluded_features_columns) > 0:\n",
    "    print(f\"Dropping features: {excluded_features_columns}\")\n",
    "    X_test.drop(excluded_features_columns, axis=1, inplace=True)"
   ]
  },
  {
   "cell_type": "code",
   "execution_count": 34,
   "id": "1853aaf5-fb9f-46cb-a2b5-8ea4ae2237e4",
   "metadata": {
    "execution": {
     "iopub.execute_input": "2025-07-30T14:22:36.634976Z",
     "iopub.status.busy": "2025-07-30T14:22:36.633964Z",
     "iopub.status.idle": "2025-07-30T14:22:36.683064Z",
     "shell.execute_reply": "2025-07-30T14:22:36.682111Z"
    },
    "papermill": {
     "duration": 0.076717,
     "end_time": "2025-07-30T14:22:36.684813",
     "exception": false,
     "start_time": "2025-07-30T14:22:36.608096",
     "status": "completed"
    },
    "tags": []
   },
   "outputs": [
    {
     "name": "stdout",
     "output_type": "stream",
     "text": [
      "Dropping features: ['maxdeutsch1', 'maxdeutsch.Missing.', 'frau1']\n"
     ]
    }
   ],
   "source": [
    "if len(excluded_features_columns) > 0:\n",
    "    print(f\"Dropping features: {excluded_features_columns}\")\n",
    "    X_calib.drop(excluded_features_columns, axis=1, inplace=True)"
   ]
  },
  {
   "cell_type": "code",
   "execution_count": 35,
   "id": "6727d079-03e5-481e-9d38-292a90b7a0a8",
   "metadata": {
    "execution": {
     "iopub.execute_input": "2025-07-30T14:22:36.736704Z",
     "iopub.status.busy": "2025-07-30T14:22:36.736002Z",
     "iopub.status.idle": "2025-07-30T14:22:36.741053Z",
     "shell.execute_reply": "2025-07-30T14:22:36.740047Z"
    },
    "papermill": {
     "duration": 0.032714,
     "end_time": "2025-07-30T14:22:36.742782",
     "exception": false,
     "start_time": "2025-07-30T14:22:36.710068",
     "status": "completed"
    },
    "tags": []
   },
   "outputs": [],
   "source": [
    "# SPLIT & STRATIFY DATA\n",
    "# ----------------------"
   ]
  },
  {
   "cell_type": "code",
   "execution_count": 36,
   "id": "76c4dc6d",
   "metadata": {
    "execution": {
     "iopub.execute_input": "2025-07-30T14:22:36.806433Z",
     "iopub.status.busy": "2025-07-30T14:22:36.805936Z",
     "iopub.status.idle": "2025-07-30T14:22:36.811734Z",
     "shell.execute_reply": "2025-07-30T14:22:36.810703Z"
    },
    "papermill": {
     "duration": 0.03882,
     "end_time": "2025-07-30T14:22:36.813428",
     "exception": false,
     "start_time": "2025-07-30T14:22:36.774608",
     "status": "completed"
    },
    "tags": []
   },
   "outputs": [],
   "source": [
    "# EXCLUDE CERTAIN SUBGROUPS\n",
    "# ----------------------\n",
    "\n",
    "mode = universe.get(\"exclude_subgroups\", \"keep-all\") \n",
    "# Fetches the exclude_subgroups setting from the universe dict.\n",
    "# Defaults to \"keep-all\" if the key is missing."
   ]
  },
  {
   "cell_type": "code",
   "execution_count": 37,
   "id": "21994072",
   "metadata": {
    "execution": {
     "iopub.execute_input": "2025-07-30T14:22:36.859587Z",
     "iopub.status.busy": "2025-07-30T14:22:36.858770Z",
     "iopub.status.idle": "2025-07-30T14:22:36.865568Z",
     "shell.execute_reply": "2025-07-30T14:22:36.864600Z"
    },
    "papermill": {
     "duration": 0.030882,
     "end_time": "2025-07-30T14:22:36.867247",
     "exception": false,
     "start_time": "2025-07-30T14:22:36.836365",
     "status": "completed"
    },
    "tags": []
   },
   "outputs": [],
   "source": [
    "if mode == \"keep-all\":\n",
    "    keep_mask = pd.Series(True, index=org_train.index)\n",
    "\n",
    "# org_train contains the original feature columns from features_org (in Simson)\n",
    "# features_org contains unprocessed features, for me X_train at beginning ???\n",
    "# For keep-all, creates a boolean Series (keep_mask) of all True, so no rows are removed.\n",
    "\n",
    "elif mode == \"drop-non-german\":\n",
    "    keep_mask = org_train[\"maxdeutsch1\"] == 1 # ??? what about missing values?\n",
    "\n",
    "else:\n",
    "    raise ValueError(f\"Unsupported mode for exclude_subgroups: {mode}\")\n"
   ]
  },
  {
   "cell_type": "code",
   "execution_count": 38,
   "id": "71651440",
   "metadata": {
    "execution": {
     "iopub.execute_input": "2025-07-30T14:22:36.915997Z",
     "iopub.status.busy": "2025-07-30T14:22:36.915368Z",
     "iopub.status.idle": "2025-07-30T14:22:36.922761Z",
     "shell.execute_reply": "2025-07-30T14:22:36.921854Z"
    },
    "papermill": {
     "duration": 0.033473,
     "end_time": "2025-07-30T14:22:36.924449",
     "exception": false,
     "start_time": "2025-07-30T14:22:36.890976",
     "status": "completed"
    },
    "tags": []
   },
   "outputs": [
    {
     "name": "stdout",
     "output_type": "stream",
     "text": [
      "Dropping 147 rows (14.70%) where mode='drop-non-german'\n"
     ]
    }
   ],
   "source": [
    "n_drop = (~keep_mask).sum() # Calculates how many rows are set to be dropped\n",
    "if n_drop > 0:\n",
    "    pct = n_drop / len(keep_mask) * 100\n",
    "    print(f\"Dropping {n_drop} rows ({pct:.2f}%) where mode='{mode}'\")"
   ]
  },
  {
   "cell_type": "code",
   "execution_count": 39,
   "id": "5fb8eee5",
   "metadata": {
    "execution": {
     "iopub.execute_input": "2025-07-30T14:22:36.970601Z",
     "iopub.status.busy": "2025-07-30T14:22:36.970147Z",
     "iopub.status.idle": "2025-07-30T14:22:36.976511Z",
     "shell.execute_reply": "2025-07-30T14:22:36.975515Z"
    },
    "papermill": {
     "duration": 0.031182,
     "end_time": "2025-07-30T14:22:36.978021",
     "exception": false,
     "start_time": "2025-07-30T14:22:36.946839",
     "status": "completed"
    },
    "tags": []
   },
   "outputs": [],
   "source": [
    "X_train = X_train[keep_mask]"
   ]
  },
  {
   "cell_type": "code",
   "execution_count": 40,
   "id": "b202bb3a",
   "metadata": {
    "execution": {
     "iopub.execute_input": "2025-07-30T14:22:37.025494Z",
     "iopub.status.busy": "2025-07-30T14:22:37.024998Z",
     "iopub.status.idle": "2025-07-30T14:22:37.031126Z",
     "shell.execute_reply": "2025-07-30T14:22:37.030248Z"
    },
    "papermill": {
     "duration": 0.032235,
     "end_time": "2025-07-30T14:22:37.032887",
     "exception": false,
     "start_time": "2025-07-30T14:22:37.000652",
     "status": "completed"
    },
    "tags": []
   },
   "outputs": [],
   "source": [
    "y_train = y_train[keep_mask]"
   ]
  },
  {
   "cell_type": "markdown",
   "id": "493e2ac3",
   "metadata": {
    "papermill": {
     "duration": 0.024224,
     "end_time": "2025-07-30T14:22:37.079978",
     "exception": false,
     "start_time": "2025-07-30T14:22:37.055754",
     "status": "completed"
    },
    "tags": []
   },
   "source": [
    "# Model Training"
   ]
  },
  {
   "cell_type": "code",
   "execution_count": 41,
   "id": "679e1268",
   "metadata": {
    "execution": {
     "iopub.execute_input": "2025-07-30T14:22:37.125965Z",
     "iopub.status.busy": "2025-07-30T14:22:37.125104Z",
     "iopub.status.idle": "2025-07-30T14:22:37.266604Z",
     "shell.execute_reply": "2025-07-30T14:22:37.265657Z"
    },
    "papermill": {
     "duration": 0.166584,
     "end_time": "2025-07-30T14:22:37.268497",
     "exception": false,
     "start_time": "2025-07-30T14:22:37.101913",
     "status": "completed"
    },
    "tags": []
   },
   "outputs": [],
   "source": [
    "from sklearn.linear_model import LogisticRegression\n",
    "from sklearn.ensemble import GradientBoostingClassifier, RandomForestClassifier\n",
    "\n",
    "if (universe[\"model\"] == \"logreg\"):\n",
    "    model = LogisticRegression() #penalty=\"none\") #, solver=\"newton-cg\", max_iter=1) # include random_state=19 ?\n",
    "elif (universe[\"model\"] == \"penalized_logreg\"):\n",
    "    model = LogisticRegression(penalty=\"l2\", C=1.0) #, solver=\"newton-cg\", max_iter=1)\n",
    "elif (universe[\"model\"] == \"rf\"):\n",
    "    model = RandomForestClassifier(n_estimators=100, n_jobs=-1)\n",
    "elif (universe[\"model\"] == \"gbm\"):\n",
    "    model = GradientBoostingClassifier()\n",
    "elif (universe[\"model\"] == \"elasticnet\"):\n",
    "    model = LogisticRegression(penalty = 'elasticnet', solver = 'saga', l1_ratio = 0.5, max_iter=5000) # which solver to use?\n",
    "else:\n",
    "    raise \"Unsupported universe.model\""
   ]
  },
  {
   "cell_type": "code",
   "execution_count": 42,
   "id": "0cc8f744",
   "metadata": {
    "execution": {
     "iopub.execute_input": "2025-07-30T14:22:37.315104Z",
     "iopub.status.busy": "2025-07-30T14:22:37.314664Z",
     "iopub.status.idle": "2025-07-30T14:22:37.325276Z",
     "shell.execute_reply": "2025-07-30T14:22:37.324140Z"
    },
    "papermill": {
     "duration": 0.035235,
     "end_time": "2025-07-30T14:22:37.327122",
     "exception": false,
     "start_time": "2025-07-30T14:22:37.291887",
     "status": "completed"
    },
    "tags": []
   },
   "outputs": [],
   "source": [
    "import numpy as np\n",
    "from sklearn.pipeline import Pipeline\n",
    "from sklearn.preprocessing import StandardScaler\n",
    "\n",
    "model = Pipeline([\n",
    "    #(\"continuous_processor\", continuous_processor),\n",
    "    #(\"categorical_preprocessor\", categorical_preprocessor),\n",
    "    (\"scale\", StandardScaler() if universe[\"scale\"] == \"scale\" else None), \n",
    "    (\"model\", model),\n",
    "])"
   ]
  },
  {
   "cell_type": "code",
   "execution_count": 43,
   "id": "9442c04d",
   "metadata": {
    "execution": {
     "iopub.execute_input": "2025-07-30T14:22:37.374759Z",
     "iopub.status.busy": "2025-07-30T14:22:37.374186Z",
     "iopub.status.idle": "2025-07-30T14:22:38.333015Z",
     "shell.execute_reply": "2025-07-30T14:22:38.332083Z"
    },
    "papermill": {
     "duration": 0.983882,
     "end_time": "2025-07-30T14:22:38.334588",
     "exception": false,
     "start_time": "2025-07-30T14:22:37.350706",
     "status": "completed"
    },
    "tags": []
   },
   "outputs": [
    {
     "data": {
      "text/html": [
       "<style>#sk-container-id-1 {color: black;background-color: white;}#sk-container-id-1 pre{padding: 0;}#sk-container-id-1 div.sk-toggleable {background-color: white;}#sk-container-id-1 label.sk-toggleable__label {cursor: pointer;display: block;width: 100%;margin-bottom: 0;padding: 0.3em;box-sizing: border-box;text-align: center;}#sk-container-id-1 label.sk-toggleable__label-arrow:before {content: \"▸\";float: left;margin-right: 0.25em;color: #696969;}#sk-container-id-1 label.sk-toggleable__label-arrow:hover:before {color: black;}#sk-container-id-1 div.sk-estimator:hover label.sk-toggleable__label-arrow:before {color: black;}#sk-container-id-1 div.sk-toggleable__content {max-height: 0;max-width: 0;overflow: hidden;text-align: left;background-color: #f0f8ff;}#sk-container-id-1 div.sk-toggleable__content pre {margin: 0.2em;color: black;border-radius: 0.25em;background-color: #f0f8ff;}#sk-container-id-1 input.sk-toggleable__control:checked~div.sk-toggleable__content {max-height: 200px;max-width: 100%;overflow: auto;}#sk-container-id-1 input.sk-toggleable__control:checked~label.sk-toggleable__label-arrow:before {content: \"▾\";}#sk-container-id-1 div.sk-estimator input.sk-toggleable__control:checked~label.sk-toggleable__label {background-color: #d4ebff;}#sk-container-id-1 div.sk-label input.sk-toggleable__control:checked~label.sk-toggleable__label {background-color: #d4ebff;}#sk-container-id-1 input.sk-hidden--visually {border: 0;clip: rect(1px 1px 1px 1px);clip: rect(1px, 1px, 1px, 1px);height: 1px;margin: -1px;overflow: hidden;padding: 0;position: absolute;width: 1px;}#sk-container-id-1 div.sk-estimator {font-family: monospace;background-color: #f0f8ff;border: 1px dotted black;border-radius: 0.25em;box-sizing: border-box;margin-bottom: 0.5em;}#sk-container-id-1 div.sk-estimator:hover {background-color: #d4ebff;}#sk-container-id-1 div.sk-parallel-item::after {content: \"\";width: 100%;border-bottom: 1px solid gray;flex-grow: 1;}#sk-container-id-1 div.sk-label:hover label.sk-toggleable__label {background-color: #d4ebff;}#sk-container-id-1 div.sk-serial::before {content: \"\";position: absolute;border-left: 1px solid gray;box-sizing: border-box;top: 0;bottom: 0;left: 50%;z-index: 0;}#sk-container-id-1 div.sk-serial {display: flex;flex-direction: column;align-items: center;background-color: white;padding-right: 0.2em;padding-left: 0.2em;position: relative;}#sk-container-id-1 div.sk-item {position: relative;z-index: 1;}#sk-container-id-1 div.sk-parallel {display: flex;align-items: stretch;justify-content: center;background-color: white;position: relative;}#sk-container-id-1 div.sk-item::before, #sk-container-id-1 div.sk-parallel-item::before {content: \"\";position: absolute;border-left: 1px solid gray;box-sizing: border-box;top: 0;bottom: 0;left: 50%;z-index: -1;}#sk-container-id-1 div.sk-parallel-item {display: flex;flex-direction: column;z-index: 1;position: relative;background-color: white;}#sk-container-id-1 div.sk-parallel-item:first-child::after {align-self: flex-end;width: 50%;}#sk-container-id-1 div.sk-parallel-item:last-child::after {align-self: flex-start;width: 50%;}#sk-container-id-1 div.sk-parallel-item:only-child::after {width: 0;}#sk-container-id-1 div.sk-dashed-wrapped {border: 1px dashed gray;margin: 0 0.4em 0.5em 0.4em;box-sizing: border-box;padding-bottom: 0.4em;background-color: white;}#sk-container-id-1 div.sk-label label {font-family: monospace;font-weight: bold;display: inline-block;line-height: 1.2em;}#sk-container-id-1 div.sk-label-container {text-align: center;}#sk-container-id-1 div.sk-container {/* jupyter's `normalize.less` sets `[hidden] { display: none; }` but bootstrap.min.css set `[hidden] { display: none !important; }` so we also need the `!important` here to be able to override the default hidden behavior on the sphinx rendered scikit-learn.org. See: https://github.com/scikit-learn/scikit-learn/issues/21755 */display: inline-block !important;position: relative;}#sk-container-id-1 div.sk-text-repr-fallback {display: none;}</style><div id=\"sk-container-id-1\" class=\"sk-top-container\"><div class=\"sk-text-repr-fallback\"><pre>Pipeline(steps=[(&#x27;scale&#x27;, StandardScaler()),\n",
       "                (&#x27;model&#x27;, GradientBoostingClassifier())])</pre><b>In a Jupyter environment, please rerun this cell to show the HTML representation or trust the notebook. <br />On GitHub, the HTML representation is unable to render, please try loading this page with nbviewer.org.</b></div><div class=\"sk-container\" hidden><div class=\"sk-item sk-dashed-wrapped\"><div class=\"sk-label-container\"><div class=\"sk-label sk-toggleable\"><input class=\"sk-toggleable__control sk-hidden--visually\" id=\"sk-estimator-id-1\" type=\"checkbox\" ><label for=\"sk-estimator-id-1\" class=\"sk-toggleable__label sk-toggleable__label-arrow\">Pipeline</label><div class=\"sk-toggleable__content\"><pre>Pipeline(steps=[(&#x27;scale&#x27;, StandardScaler()),\n",
       "                (&#x27;model&#x27;, GradientBoostingClassifier())])</pre></div></div></div><div class=\"sk-serial\"><div class=\"sk-item\"><div class=\"sk-estimator sk-toggleable\"><input class=\"sk-toggleable__control sk-hidden--visually\" id=\"sk-estimator-id-2\" type=\"checkbox\" ><label for=\"sk-estimator-id-2\" class=\"sk-toggleable__label sk-toggleable__label-arrow\">StandardScaler</label><div class=\"sk-toggleable__content\"><pre>StandardScaler()</pre></div></div></div><div class=\"sk-item\"><div class=\"sk-estimator sk-toggleable\"><input class=\"sk-toggleable__control sk-hidden--visually\" id=\"sk-estimator-id-3\" type=\"checkbox\" ><label for=\"sk-estimator-id-3\" class=\"sk-toggleable__label sk-toggleable__label-arrow\">GradientBoostingClassifier</label><div class=\"sk-toggleable__content\"><pre>GradientBoostingClassifier()</pre></div></div></div></div></div></div></div>"
      ],
      "text/plain": [
       "Pipeline(steps=[('scale', StandardScaler()),\n",
       "                ('model', GradientBoostingClassifier())])"
      ]
     },
     "execution_count": 43,
     "metadata": {},
     "output_type": "execute_result"
    }
   ],
   "source": [
    "model.fit(X_train, y_train.values.ravel())"
   ]
  },
  {
   "cell_type": "code",
   "execution_count": 44,
   "id": "af59f8c0",
   "metadata": {
    "execution": {
     "iopub.execute_input": "2025-07-30T14:22:38.381390Z",
     "iopub.status.busy": "2025-07-30T14:22:38.380749Z",
     "iopub.status.idle": "2025-07-30T14:22:38.386379Z",
     "shell.execute_reply": "2025-07-30T14:22:38.385329Z"
    },
    "papermill": {
     "duration": 0.030319,
     "end_time": "2025-07-30T14:22:38.388139",
     "exception": false,
     "start_time": "2025-07-30T14:22:38.357820",
     "status": "completed"
    },
    "tags": []
   },
   "outputs": [],
   "source": [
    "from fairness_multiverse.universe import predict_w_threshold"
   ]
  },
  {
   "cell_type": "code",
   "execution_count": 45,
   "id": "a7cf2e16",
   "metadata": {
    "execution": {
     "iopub.execute_input": "2025-07-30T14:22:38.441616Z",
     "iopub.status.busy": "2025-07-30T14:22:38.440739Z",
     "iopub.status.idle": "2025-07-30T14:22:39.110968Z",
     "shell.execute_reply": "2025-07-30T14:22:39.109935Z"
    },
    "papermill": {
     "duration": 0.698429,
     "end_time": "2025-07-30T14:22:39.112845",
     "exception": false,
     "start_time": "2025-07-30T14:22:38.414416",
     "status": "completed"
    },
    "tags": []
   },
   "outputs": [
    {
     "data": {
      "text/plain": [
       "0.8476424032995207"
      ]
     },
     "execution_count": 45,
     "metadata": {},
     "output_type": "execute_result"
    }
   ],
   "source": [
    "probs_test = model.predict_proba(X_test)\n",
    "\n",
    "'''\n",
    "Below code returns a boolean array (or binary 0/1 array depending on how it’s used) where each element \n",
    "is True if the probability of class 1 is greater than or equal to the threshold, and False otherwise.\n",
    "'''\n",
    "y_pred_default = predict_w_threshold(probs_test, 0.5)\n",
    "\n",
    "from sklearn.metrics import accuracy_score\n",
    "\n",
    "# Naive prediction\n",
    "accuracy_score(y_true = y_true, y_pred = y_pred_default)"
   ]
  },
  {
   "cell_type": "code",
   "execution_count": 46,
   "id": "081964c3",
   "metadata": {
    "execution": {
     "iopub.execute_input": "2025-07-30T14:22:39.176525Z",
     "iopub.status.busy": "2025-07-30T14:22:39.175784Z",
     "iopub.status.idle": "2025-07-30T14:22:39.824426Z",
     "shell.execute_reply": "2025-07-30T14:22:39.823571Z"
    },
    "papermill": {
     "duration": 0.689826,
     "end_time": "2025-07-30T14:22:39.825897",
     "exception": false,
     "start_time": "2025-07-30T14:22:39.136071",
     "status": "completed"
    },
    "tags": []
   },
   "outputs": [
    {
     "data": {
      "text/plain": [
       "array([0, 0, 0, ..., 0, 0, 0])"
      ]
     },
     "execution_count": 46,
     "metadata": {},
     "output_type": "execute_result"
    }
   ],
   "source": [
    "model.predict(X_test)"
   ]
  },
  {
   "cell_type": "markdown",
   "id": "56c9705b",
   "metadata": {
    "papermill": {
     "duration": 0.022239,
     "end_time": "2025-07-30T14:22:39.871977",
     "exception": false,
     "start_time": "2025-07-30T14:22:39.849738",
     "status": "completed"
    },
    "tags": []
   },
   "source": [
    "# Conformal Prediction"
   ]
  },
  {
   "cell_type": "code",
   "execution_count": 47,
   "id": "160ec6ff",
   "metadata": {
    "execution": {
     "iopub.execute_input": "2025-07-30T14:22:39.919699Z",
     "iopub.status.busy": "2025-07-30T14:22:39.919160Z",
     "iopub.status.idle": "2025-07-30T14:22:39.924727Z",
     "shell.execute_reply": "2025-07-30T14:22:39.923799Z"
    },
    "papermill": {
     "duration": 0.031139,
     "end_time": "2025-07-30T14:22:39.926209",
     "exception": false,
     "start_time": "2025-07-30T14:22:39.895070",
     "status": "completed"
    },
    "tags": []
   },
   "outputs": [],
   "source": [
    "# Miscoverage level for conformal prediction (10% allowed error rate => 90% target coverage)\n",
    "alpha = 0.1"
   ]
  },
  {
   "cell_type": "code",
   "execution_count": 48,
   "id": "eadf4555-3dd3-440e-8e35-f82a4ad9f855",
   "metadata": {
    "execution": {
     "iopub.execute_input": "2025-07-30T14:22:39.973024Z",
     "iopub.status.busy": "2025-07-30T14:22:39.972455Z",
     "iopub.status.idle": "2025-07-30T14:22:40.534523Z",
     "shell.execute_reply": "2025-07-30T14:22:40.533762Z"
    },
    "papermill": {
     "duration": 0.587501,
     "end_time": "2025-07-30T14:22:40.536554",
     "exception": false,
     "start_time": "2025-07-30T14:22:39.949053",
     "status": "completed"
    },
    "tags": []
   },
   "outputs": [],
   "source": [
    "probs_calib = model.predict_proba(X_calib)"
   ]
  },
  {
   "cell_type": "code",
   "execution_count": 49,
   "id": "2ed93547-6d5d-4983-9b36-1ecb300da49a",
   "metadata": {
    "execution": {
     "iopub.execute_input": "2025-07-30T14:22:40.588228Z",
     "iopub.status.busy": "2025-07-30T14:22:40.587699Z",
     "iopub.status.idle": "2025-07-30T14:22:40.593206Z",
     "shell.execute_reply": "2025-07-30T14:22:40.592358Z"
    },
    "papermill": {
     "duration": 0.032388,
     "end_time": "2025-07-30T14:22:40.594951",
     "exception": false,
     "start_time": "2025-07-30T14:22:40.562563",
     "status": "completed"
    },
    "tags": []
   },
   "outputs": [],
   "source": [
    "y_calib = y_calib.values.ravel().astype(int)"
   ]
  },
  {
   "cell_type": "code",
   "execution_count": 50,
   "id": "65d1320d-f588-4b38-9072-62af1ae97f7d",
   "metadata": {
    "execution": {
     "iopub.execute_input": "2025-07-30T14:22:40.641996Z",
     "iopub.status.busy": "2025-07-30T14:22:40.641544Z",
     "iopub.status.idle": "2025-07-30T14:22:40.649265Z",
     "shell.execute_reply": "2025-07-30T14:22:40.648433Z"
    },
    "papermill": {
     "duration": 0.033341,
     "end_time": "2025-07-30T14:22:40.650772",
     "exception": false,
     "start_time": "2025-07-30T14:22:40.617431",
     "status": "completed"
    },
    "tags": []
   },
   "outputs": [],
   "source": [
    "from fairness_multiverse.conformal import compute_nc_scores\n",
    "\n",
    "# Compute nonconformity scores on calibration set (1 - probability of true class)\n",
    "nc_scores = compute_nc_scores(probs_calib, y_calib)"
   ]
  },
  {
   "cell_type": "code",
   "execution_count": 51,
   "id": "df3b8ca3-53b7-43d5-9667-7c85da7aeda2",
   "metadata": {
    "execution": {
     "iopub.execute_input": "2025-07-30T14:22:40.700951Z",
     "iopub.status.busy": "2025-07-30T14:22:40.699881Z",
     "iopub.status.idle": "2025-07-30T14:22:40.706314Z",
     "shell.execute_reply": "2025-07-30T14:22:40.705426Z"
    },
    "papermill": {
     "duration": 0.032833,
     "end_time": "2025-07-30T14:22:40.707869",
     "exception": false,
     "start_time": "2025-07-30T14:22:40.675036",
     "status": "completed"
    },
    "tags": []
   },
   "outputs": [],
   "source": [
    "from fairness_multiverse.conformal import find_threshold\n",
    "\n",
    "# Find conformal threshold q_hat for the given alpha (split conformal method)\n",
    "q_hat = find_threshold(nc_scores, alpha)"
   ]
  },
  {
   "cell_type": "code",
   "execution_count": 52,
   "id": "4d29e6c1-0ef6-4aa4-b8fe-4fe79b0d033a",
   "metadata": {
    "execution": {
     "iopub.execute_input": "2025-07-30T14:22:40.758016Z",
     "iopub.status.busy": "2025-07-30T14:22:40.757628Z",
     "iopub.status.idle": "2025-07-30T14:22:40.764399Z",
     "shell.execute_reply": "2025-07-30T14:22:40.763588Z"
    },
    "papermill": {
     "duration": 0.03439,
     "end_time": "2025-07-30T14:22:40.765872",
     "exception": false,
     "start_time": "2025-07-30T14:22:40.731482",
     "status": "completed"
    },
    "tags": []
   },
   "outputs": [
    {
     "data": {
      "text/plain": [
       "0.7592762802936929"
      ]
     },
     "execution_count": 52,
     "metadata": {},
     "output_type": "execute_result"
    }
   ],
   "source": [
    "q_hat"
   ]
  },
  {
   "cell_type": "code",
   "execution_count": 53,
   "id": "92460794-cdac-4be2-ba28-f28c0515a6fb",
   "metadata": {
    "execution": {
     "iopub.execute_input": "2025-07-30T14:22:40.817278Z",
     "iopub.status.busy": "2025-07-30T14:22:40.816817Z",
     "iopub.status.idle": "2025-07-30T14:22:42.185867Z",
     "shell.execute_reply": "2025-07-30T14:22:42.184953Z"
    },
    "papermill": {
     "duration": 1.396657,
     "end_time": "2025-07-30T14:22:42.187616",
     "exception": false,
     "start_time": "2025-07-30T14:22:40.790959",
     "status": "completed"
    },
    "tags": []
   },
   "outputs": [],
   "source": [
    "from fairness_multiverse.conformal import predict_conformal_sets\n",
    "\n",
    "# Generate prediction sets for each test example\n",
    "pred_sets = predict_conformal_sets(model, X_test, q_hat)"
   ]
  },
  {
   "cell_type": "code",
   "execution_count": 54,
   "id": "d90c9a65-e6db-4f5d-80cd-e68fb7e46829",
   "metadata": {
    "execution": {
     "iopub.execute_input": "2025-07-30T14:22:42.237134Z",
     "iopub.status.busy": "2025-07-30T14:22:42.236670Z",
     "iopub.status.idle": "2025-07-30T14:22:42.242342Z",
     "shell.execute_reply": "2025-07-30T14:22:42.241397Z"
    },
    "papermill": {
     "duration": 0.031934,
     "end_time": "2025-07-30T14:22:42.244373",
     "exception": false,
     "start_time": "2025-07-30T14:22:42.212439",
     "status": "completed"
    },
    "tags": []
   },
   "outputs": [],
   "source": [
    "y_true = y_true.squeeze()"
   ]
  },
  {
   "cell_type": "code",
   "execution_count": 55,
   "id": "3a58a54a-1e68-46b9-927a-df01f18aebc8",
   "metadata": {
    "execution": {
     "iopub.execute_input": "2025-07-30T14:22:42.303182Z",
     "iopub.status.busy": "2025-07-30T14:22:42.302697Z",
     "iopub.status.idle": "2025-07-30T14:22:43.273472Z",
     "shell.execute_reply": "2025-07-30T14:22:43.272389Z"
    },
    "papermill": {
     "duration": 1.001652,
     "end_time": "2025-07-30T14:22:43.275461",
     "exception": false,
     "start_time": "2025-07-30T14:22:42.273809",
     "status": "completed"
    },
    "tags": []
   },
   "outputs": [],
   "source": [
    "from fairness_multiverse.conformal import evaluate_sets\n",
    "\n",
    "# Evaluate coverage and average set size on test data\n",
    "metrics = evaluate_sets(pred_sets, y_true)"
   ]
  },
  {
   "cell_type": "markdown",
   "id": "2b569c12-9aaa-4c88-98c9-bbcd0cf3ebb8",
   "metadata": {
    "papermill": {
     "duration": 0.025646,
     "end_time": "2025-07-30T14:22:43.329184",
     "exception": false,
     "start_time": "2025-07-30T14:22:43.303538",
     "status": "completed"
    },
    "tags": []
   },
   "source": [
    "# CP Metrics"
   ]
  },
  {
   "cell_type": "code",
   "execution_count": 56,
   "id": "5ce0a5cb-201f-45a0-ade5-94c7f0bd6095",
   "metadata": {
    "execution": {
     "iopub.execute_input": "2025-07-30T14:22:43.383380Z",
     "iopub.status.busy": "2025-07-30T14:22:43.382920Z",
     "iopub.status.idle": "2025-07-30T14:22:43.389305Z",
     "shell.execute_reply": "2025-07-30T14:22:43.388543Z"
    },
    "papermill": {
     "duration": 0.037135,
     "end_time": "2025-07-30T14:22:43.390625",
     "exception": false,
     "start_time": "2025-07-30T14:22:43.353490",
     "status": "completed"
    },
    "tags": []
   },
   "outputs": [
    {
     "data": {
      "text/plain": [
       "{'coverage': 0.9091071229517333, 'avg_size': 1.159246460818192}"
      ]
     },
     "execution_count": 56,
     "metadata": {},
     "output_type": "execute_result"
    }
   ],
   "source": [
    "metrics"
   ]
  },
  {
   "cell_type": "code",
   "execution_count": 57,
   "id": "9b9a838d-31c9-430b-ae14-12baee460d17",
   "metadata": {
    "execution": {
     "iopub.execute_input": "2025-07-30T14:22:43.439569Z",
     "iopub.status.busy": "2025-07-30T14:22:43.438953Z",
     "iopub.status.idle": "2025-07-30T14:22:43.444740Z",
     "shell.execute_reply": "2025-07-30T14:22:43.443916Z"
    },
    "papermill": {
     "duration": 0.031199,
     "end_time": "2025-07-30T14:22:43.446199",
     "exception": false,
     "start_time": "2025-07-30T14:22:43.415000",
     "status": "completed"
    },
    "tags": []
   },
   "outputs": [],
   "source": [
    "example_universe = universe.copy()\n",
    "universe_training_size = example_universe.get(\"training_size\")\n",
    "universe_scale = example_universe.get(\"scale\")\n",
    "universe_model = example_universe.get(\"model\")\n",
    "universe_exclude_features = example_universe.get(\"exclude_features\")\n",
    "universe_exclude_subgroups = example_universe.get(\"exclude_subgroups\")"
   ]
  },
  {
   "cell_type": "code",
   "execution_count": 58,
   "id": "f4b6a8ac-9dc0-4245-8a91-5b3b5999c4f9",
   "metadata": {
    "execution": {
     "iopub.execute_input": "2025-07-30T14:22:43.496209Z",
     "iopub.status.busy": "2025-07-30T14:22:43.495938Z",
     "iopub.status.idle": "2025-07-30T14:22:43.504773Z",
     "shell.execute_reply": "2025-07-30T14:22:43.500186Z"
    },
    "papermill": {
     "duration": 0.035469,
     "end_time": "2025-07-30T14:22:43.506987",
     "exception": false,
     "start_time": "2025-07-30T14:22:43.471518",
     "status": "completed"
    },
    "tags": []
   },
   "outputs": [],
   "source": [
    "cp_metrics_dict = {\n",
    "    \"universe_id\": [universe_id],\n",
    "    \"universe_training_size\": [universe_training_size],\n",
    "    \"universe_scale\": [universe_scale],\n",
    "    \"universe_model\": [universe_model],\n",
    "    \"universe_exclude_features\": [universe_exclude_features],\n",
    "    \"universe_exclude_subgroups\": [universe_exclude_subgroups],\n",
    "    \"q_hat\": [q_hat],\n",
    "    \"coverage\": [metrics[\"coverage\"]],\n",
    "    \"avg_size\": [metrics[\"avg_size\"]],\n",
    "}"
   ]
  },
  {
   "cell_type": "code",
   "execution_count": 59,
   "id": "908acbb1-0371-4915-85ca-3fa520d2efe2",
   "metadata": {
    "execution": {
     "iopub.execute_input": "2025-07-30T14:22:43.557890Z",
     "iopub.status.busy": "2025-07-30T14:22:43.557153Z",
     "iopub.status.idle": "2025-07-30T14:22:43.565410Z",
     "shell.execute_reply": "2025-07-30T14:22:43.564291Z"
    },
    "papermill": {
     "duration": 0.038337,
     "end_time": "2025-07-30T14:22:43.567215",
     "exception": false,
     "start_time": "2025-07-30T14:22:43.528878",
     "status": "completed"
    },
    "tags": []
   },
   "outputs": [
    {
     "data": {
      "text/plain": [
       "{'universe_id': ['afde5d914a9e6a6dc266a402718a266a'],\n",
       " 'universe_training_size': ['1k'],\n",
       " 'universe_scale': ['scale'],\n",
       " 'universe_model': ['gbm'],\n",
       " 'universe_exclude_features': ['nationality-sex'],\n",
       " 'universe_exclude_subgroups': ['drop-non-german'],\n",
       " 'q_hat': [0.7592762802936929],\n",
       " 'coverage': [0.9091071229517333],\n",
       " 'avg_size': [1.159246460818192]}"
      ]
     },
     "execution_count": 59,
     "metadata": {},
     "output_type": "execute_result"
    }
   ],
   "source": [
    "cp_metrics_dict"
   ]
  },
  {
   "cell_type": "code",
   "execution_count": 60,
   "id": "33007efc-14e9-4ec6-97ac-56a455c82265",
   "metadata": {
    "execution": {
     "iopub.execute_input": "2025-07-30T14:22:43.628634Z",
     "iopub.status.busy": "2025-07-30T14:22:43.627937Z",
     "iopub.status.idle": "2025-07-30T14:22:43.634571Z",
     "shell.execute_reply": "2025-07-30T14:22:43.633450Z"
    },
    "papermill": {
     "duration": 0.039292,
     "end_time": "2025-07-30T14:22:43.636247",
     "exception": false,
     "start_time": "2025-07-30T14:22:43.596955",
     "status": "completed"
    },
    "tags": []
   },
   "outputs": [],
   "source": [
    "cp_metrics_df = pd.DataFrame(cp_metrics_dict)"
   ]
  },
  {
   "cell_type": "code",
   "execution_count": 61,
   "id": "db12611b-57b2-4910-b9d0-355adfd6e7bf",
   "metadata": {
    "execution": {
     "iopub.execute_input": "2025-07-30T14:22:43.669897Z",
     "iopub.status.busy": "2025-07-30T14:22:43.669510Z",
     "iopub.status.idle": "2025-07-30T14:22:43.685432Z",
     "shell.execute_reply": "2025-07-30T14:22:43.684703Z"
    },
    "papermill": {
     "duration": 0.031451,
     "end_time": "2025-07-30T14:22:43.686671",
     "exception": false,
     "start_time": "2025-07-30T14:22:43.655220",
     "status": "completed"
    },
    "tags": []
   },
   "outputs": [
    {
     "data": {
      "text/html": [
       "<div>\n",
       "<style scoped>\n",
       "    .dataframe tbody tr th:only-of-type {\n",
       "        vertical-align: middle;\n",
       "    }\n",
       "\n",
       "    .dataframe tbody tr th {\n",
       "        vertical-align: top;\n",
       "    }\n",
       "\n",
       "    .dataframe thead th {\n",
       "        text-align: right;\n",
       "    }\n",
       "</style>\n",
       "<table border=\"1\" class=\"dataframe\">\n",
       "  <thead>\n",
       "    <tr style=\"text-align: right;\">\n",
       "      <th></th>\n",
       "      <th>universe_id</th>\n",
       "      <th>universe_training_size</th>\n",
       "      <th>universe_scale</th>\n",
       "      <th>universe_model</th>\n",
       "      <th>universe_exclude_features</th>\n",
       "      <th>universe_exclude_subgroups</th>\n",
       "      <th>q_hat</th>\n",
       "      <th>coverage</th>\n",
       "      <th>avg_size</th>\n",
       "    </tr>\n",
       "  </thead>\n",
       "  <tbody>\n",
       "    <tr>\n",
       "      <th>0</th>\n",
       "      <td>afde5d914a9e6a6dc266a402718a266a</td>\n",
       "      <td>1k</td>\n",
       "      <td>scale</td>\n",
       "      <td>gbm</td>\n",
       "      <td>nationality-sex</td>\n",
       "      <td>drop-non-german</td>\n",
       "      <td>0.759276</td>\n",
       "      <td>0.909107</td>\n",
       "      <td>1.159246</td>\n",
       "    </tr>\n",
       "  </tbody>\n",
       "</table>\n",
       "</div>"
      ],
      "text/plain": [
       "                        universe_id universe_training_size universe_scale  \\\n",
       "0  afde5d914a9e6a6dc266a402718a266a                     1k          scale   \n",
       "\n",
       "  universe_model universe_exclude_features universe_exclude_subgroups  \\\n",
       "0            gbm           nationality-sex            drop-non-german   \n",
       "\n",
       "      q_hat  coverage  avg_size  \n",
       "0  0.759276  0.909107  1.159246  "
      ]
     },
     "execution_count": 61,
     "metadata": {},
     "output_type": "execute_result"
    }
   ],
   "source": [
    "cp_metrics_df"
   ]
  },
  {
   "cell_type": "code",
   "execution_count": 62,
   "id": "b7fbde55-a0a1-47e4-9af6-fe4a17fa8c61",
   "metadata": {
    "execution": {
     "iopub.execute_input": "2025-07-30T14:22:43.716897Z",
     "iopub.status.busy": "2025-07-30T14:22:43.716444Z",
     "iopub.status.idle": "2025-07-30T14:22:43.721371Z",
     "shell.execute_reply": "2025-07-30T14:22:43.720383Z"
    },
    "papermill": {
     "duration": 0.021331,
     "end_time": "2025-07-30T14:22:43.723123",
     "exception": false,
     "start_time": "2025-07-30T14:22:43.701792",
     "status": "completed"
    },
    "tags": []
   },
   "outputs": [],
   "source": [
    "# Conditional Coverage & looking at subgroups"
   ]
  },
  {
   "cell_type": "code",
   "execution_count": 63,
   "id": "027ae886-68dd-4141-96c7-805a5450e1ef",
   "metadata": {
    "execution": {
     "iopub.execute_input": "2025-07-30T14:22:43.778849Z",
     "iopub.status.busy": "2025-07-30T14:22:43.778379Z",
     "iopub.status.idle": "2025-07-30T14:22:44.045752Z",
     "shell.execute_reply": "2025-07-30T14:22:44.044781Z"
    },
    "papermill": {
     "duration": 0.297679,
     "end_time": "2025-07-30T14:22:44.048018",
     "exception": false,
     "start_time": "2025-07-30T14:22:43.750339",
     "status": "completed"
    },
    "tags": []
   },
   "outputs": [],
   "source": [
    "from fairness_multiverse.conformal import build_cp_groups\n",
    "\n",
    "cp_groups_df = build_cp_groups(pred_sets, y_true, X_test.index, org_test)\n",
    "#needs universe_id and setting"
   ]
  },
  {
   "cell_type": "code",
   "execution_count": 64,
   "id": "01d5802c-663a-4d1f-9d69-e036faaffbf7",
   "metadata": {
    "execution": {
     "iopub.execute_input": "2025-07-30T14:22:44.105227Z",
     "iopub.status.busy": "2025-07-30T14:22:44.104441Z",
     "iopub.status.idle": "2025-07-30T14:22:44.109585Z",
     "shell.execute_reply": "2025-07-30T14:22:44.108600Z"
    },
    "papermill": {
     "duration": 0.033748,
     "end_time": "2025-07-30T14:22:44.111141",
     "exception": false,
     "start_time": "2025-07-30T14:22:44.077393",
     "status": "completed"
    },
    "tags": []
   },
   "outputs": [],
   "source": [
    "#delete\n",
    "#cp_groups_df"
   ]
  },
  {
   "cell_type": "code",
   "execution_count": 65,
   "id": "fa424af1-d1eb-443d-b717-2d279ada8408",
   "metadata": {
    "execution": {
     "iopub.execute_input": "2025-07-30T14:22:44.169591Z",
     "iopub.status.busy": "2025-07-30T14:22:44.168834Z",
     "iopub.status.idle": "2025-07-30T14:22:44.174210Z",
     "shell.execute_reply": "2025-07-30T14:22:44.173205Z"
    },
    "papermill": {
     "duration": 0.036487,
     "end_time": "2025-07-30T14:22:44.176081",
     "exception": false,
     "start_time": "2025-07-30T14:22:44.139594",
     "status": "completed"
    },
    "tags": []
   },
   "outputs": [],
   "source": [
    "#delete\n",
    "#percentage = (cp_groups_df['nongerman_female'] == 1).mean() * 100\n",
    "#print(percentage)\n"
   ]
  },
  {
   "cell_type": "code",
   "execution_count": 66,
   "id": "6cbdab96-b2b2-45af-ad54-d0516db2e28d",
   "metadata": {
    "execution": {
     "iopub.execute_input": "2025-07-30T14:22:44.234406Z",
     "iopub.status.busy": "2025-07-30T14:22:44.233899Z",
     "iopub.status.idle": "2025-07-30T14:22:45.906981Z",
     "shell.execute_reply": "2025-07-30T14:22:45.905979Z"
    },
    "papermill": {
     "duration": 1.704315,
     "end_time": "2025-07-30T14:22:45.908814",
     "exception": false,
     "start_time": "2025-07-30T14:22:44.204499",
     "status": "completed"
    },
    "tags": []
   },
   "outputs": [],
   "source": [
    "# Define covered = 1 if true_label is in the predicted set\n",
    "cp_groups_df['covered'] = cp_groups_df.apply(\n",
    "    lambda r: int(r['true_label'] in r['pred_set']),\n",
    "    axis=1\n",
    ")"
   ]
  },
  {
   "cell_type": "code",
   "execution_count": 67,
   "id": "338ff529-1a6b-4b87-a931-8e4788d52aad",
   "metadata": {
    "execution": {
     "iopub.execute_input": "2025-07-30T14:22:45.964581Z",
     "iopub.status.busy": "2025-07-30T14:22:45.963719Z",
     "iopub.status.idle": "2025-07-30T14:22:45.968931Z",
     "shell.execute_reply": "2025-07-30T14:22:45.967932Z"
    },
    "papermill": {
     "duration": 0.034809,
     "end_time": "2025-07-30T14:22:45.970705",
     "exception": false,
     "start_time": "2025-07-30T14:22:45.935896",
     "status": "completed"
    },
    "tags": []
   },
   "outputs": [],
   "source": [
    "#cp_groups_df"
   ]
  },
  {
   "cell_type": "code",
   "execution_count": 68,
   "id": "90032e27-66df-4540-9169-4e89cfbaa758",
   "metadata": {
    "execution": {
     "iopub.execute_input": "2025-07-30T14:22:46.026998Z",
     "iopub.status.busy": "2025-07-30T14:22:46.026485Z",
     "iopub.status.idle": "2025-07-30T14:22:46.038226Z",
     "shell.execute_reply": "2025-07-30T14:22:46.037422Z"
    },
    "papermill": {
     "duration": 0.041493,
     "end_time": "2025-07-30T14:22:46.039897",
     "exception": false,
     "start_time": "2025-07-30T14:22:45.998404",
     "status": "completed"
    },
    "tags": []
   },
   "outputs": [],
   "source": [
    "subgroups = ['frau1','nongerman','nongerman_male','nongerman_female']\n",
    "\n",
    "# Conditional coverage for subgroup==1\n",
    "cond_coverage = {\n",
    "    g: cp_groups_df.loc[cp_groups_df[g]==1, 'covered'].mean()\n",
    "    for g in subgroups\n",
    "}"
   ]
  },
  {
   "cell_type": "code",
   "execution_count": 69,
   "id": "1e348fb1-b9c3-45bc-ba23-f016827a7e0d",
   "metadata": {
    "execution": {
     "iopub.execute_input": "2025-07-30T14:22:46.096342Z",
     "iopub.status.busy": "2025-07-30T14:22:46.095603Z",
     "iopub.status.idle": "2025-07-30T14:22:46.103170Z",
     "shell.execute_reply": "2025-07-30T14:22:46.102193Z"
    },
    "papermill": {
     "duration": 0.037665,
     "end_time": "2025-07-30T14:22:46.104709",
     "exception": false,
     "start_time": "2025-07-30T14:22:46.067044",
     "status": "completed"
    },
    "tags": []
   },
   "outputs": [
    {
     "data": {
      "text/plain": [
       "{'frau1': 0.9076694972368243,\n",
       " 'nongerman': 0.9077078538146298,\n",
       " 'nongerman_male': 0.9234441142033685,\n",
       " 'nongerman_female': 0.8816691505216095}"
      ]
     },
     "execution_count": 69,
     "metadata": {},
     "output_type": "execute_result"
    }
   ],
   "source": [
    "cond_coverage"
   ]
  },
  {
   "cell_type": "code",
   "execution_count": 70,
   "id": "f5093324-c3dd-4d63-bc4c-8d945e5c8bbb",
   "metadata": {
    "execution": {
     "iopub.execute_input": "2025-07-30T14:22:46.161564Z",
     "iopub.status.busy": "2025-07-30T14:22:46.160877Z",
     "iopub.status.idle": "2025-07-30T14:22:46.168357Z",
     "shell.execute_reply": "2025-07-30T14:22:46.167281Z"
    },
    "papermill": {
     "duration": 0.038397,
     "end_time": "2025-07-30T14:22:46.169856",
     "exception": false,
     "start_time": "2025-07-30T14:22:46.131459",
     "status": "completed"
    },
    "tags": []
   },
   "outputs": [],
   "source": [
    "for subgroup, cov in cond_coverage.items():\n",
    "    cp_metrics_df[f\"cov_{subgroup}\"] = cov"
   ]
  },
  {
   "cell_type": "code",
   "execution_count": 71,
   "id": "6e872e10-dbe5-49e8-b554-5030c98ff75d",
   "metadata": {
    "execution": {
     "iopub.execute_input": "2025-07-30T14:22:46.227046Z",
     "iopub.status.busy": "2025-07-30T14:22:46.226373Z",
     "iopub.status.idle": "2025-07-30T14:22:46.245893Z",
     "shell.execute_reply": "2025-07-30T14:22:46.244824Z"
    },
    "papermill": {
     "duration": 0.050965,
     "end_time": "2025-07-30T14:22:46.247664",
     "exception": false,
     "start_time": "2025-07-30T14:22:46.196699",
     "status": "completed"
    },
    "tags": []
   },
   "outputs": [
    {
     "data": {
      "text/html": [
       "<div>\n",
       "<style scoped>\n",
       "    .dataframe tbody tr th:only-of-type {\n",
       "        vertical-align: middle;\n",
       "    }\n",
       "\n",
       "    .dataframe tbody tr th {\n",
       "        vertical-align: top;\n",
       "    }\n",
       "\n",
       "    .dataframe thead th {\n",
       "        text-align: right;\n",
       "    }\n",
       "</style>\n",
       "<table border=\"1\" class=\"dataframe\">\n",
       "  <thead>\n",
       "    <tr style=\"text-align: right;\">\n",
       "      <th></th>\n",
       "      <th>universe_id</th>\n",
       "      <th>universe_training_size</th>\n",
       "      <th>universe_scale</th>\n",
       "      <th>universe_model</th>\n",
       "      <th>universe_exclude_features</th>\n",
       "      <th>universe_exclude_subgroups</th>\n",
       "      <th>q_hat</th>\n",
       "      <th>coverage</th>\n",
       "      <th>avg_size</th>\n",
       "      <th>cov_frau1</th>\n",
       "      <th>cov_nongerman</th>\n",
       "      <th>cov_nongerman_male</th>\n",
       "      <th>cov_nongerman_female</th>\n",
       "    </tr>\n",
       "  </thead>\n",
       "  <tbody>\n",
       "    <tr>\n",
       "      <th>0</th>\n",
       "      <td>afde5d914a9e6a6dc266a402718a266a</td>\n",
       "      <td>1k</td>\n",
       "      <td>scale</td>\n",
       "      <td>gbm</td>\n",
       "      <td>nationality-sex</td>\n",
       "      <td>drop-non-german</td>\n",
       "      <td>0.759276</td>\n",
       "      <td>0.909107</td>\n",
       "      <td>1.159246</td>\n",
       "      <td>0.907669</td>\n",
       "      <td>0.907708</td>\n",
       "      <td>0.923444</td>\n",
       "      <td>0.881669</td>\n",
       "    </tr>\n",
       "  </tbody>\n",
       "</table>\n",
       "</div>"
      ],
      "text/plain": [
       "                        universe_id universe_training_size universe_scale  \\\n",
       "0  afde5d914a9e6a6dc266a402718a266a                     1k          scale   \n",
       "\n",
       "  universe_model universe_exclude_features universe_exclude_subgroups  \\\n",
       "0            gbm           nationality-sex            drop-non-german   \n",
       "\n",
       "      q_hat  coverage  avg_size  cov_frau1  cov_nongerman  cov_nongerman_male  \\\n",
       "0  0.759276  0.909107  1.159246   0.907669       0.907708            0.923444   \n",
       "\n",
       "   cov_nongerman_female  \n",
       "0              0.881669  "
      ]
     },
     "execution_count": 71,
     "metadata": {},
     "output_type": "execute_result"
    }
   ],
   "source": [
    "cp_metrics_df"
   ]
  },
  {
   "cell_type": "markdown",
   "id": "33774451",
   "metadata": {
    "papermill": {
     "duration": 0.026765,
     "end_time": "2025-07-30T14:22:46.301422",
     "exception": false,
     "start_time": "2025-07-30T14:22:46.274657",
     "status": "completed"
    },
    "tags": []
   },
   "source": [
    "# (Fairness) Metrics"
   ]
  },
  {
   "cell_type": "code",
   "execution_count": 72,
   "id": "debc5d62",
   "metadata": {
    "execution": {
     "iopub.execute_input": "2025-07-30T14:22:46.353990Z",
     "iopub.status.busy": "2025-07-30T14:22:46.353283Z",
     "iopub.status.idle": "2025-07-30T14:22:46.373904Z",
     "shell.execute_reply": "2025-07-30T14:22:46.372929Z"
    },
    "papermill": {
     "duration": 0.049222,
     "end_time": "2025-07-30T14:22:46.375711",
     "exception": false,
     "start_time": "2025-07-30T14:22:46.326489",
     "status": "completed"
    },
    "tags": []
   },
   "outputs": [],
   "source": [
    "# do I need to include maxdeutsch1.missing?\n",
    "\n",
    "import numpy as np\n",
    "\n",
    "colname_to_bin = \"maxdeutsch1\"\n",
    "majority_value = org_train[colname_to_bin].mode()[0]\n",
    "\n",
    "org_test[\"majmin\"] = np.where(org_test[colname_to_bin] == majority_value, \"majority\", \"minority\")"
   ]
  },
  {
   "cell_type": "code",
   "execution_count": 73,
   "id": "06a50de5",
   "metadata": {
    "execution": {
     "iopub.execute_input": "2025-07-30T14:22:46.429130Z",
     "iopub.status.busy": "2025-07-30T14:22:46.428733Z",
     "iopub.status.idle": "2025-07-30T14:22:49.197292Z",
     "shell.execute_reply": "2025-07-30T14:22:49.196295Z"
    },
    "papermill": {
     "duration": 2.797332,
     "end_time": "2025-07-30T14:22:49.199284",
     "exception": false,
     "start_time": "2025-07-30T14:22:46.401952",
     "status": "completed"
    },
    "tags": []
   },
   "outputs": [],
   "source": [
    "example_universe = universe.copy()\n",
    "example_universe[\"cutoff\"] = example_universe[\"cutoff\"][0]\n",
    "example_universe[\"eval_fairness_grouping\"] = example_universe[\"eval_fairness_grouping\"][0]\n",
    "fairness_dict, metric_frame = universe_analysis.compute_metrics(\n",
    "    example_universe,\n",
    "    y_pred_prob=probs_test,\n",
    "    y_test=y_true,\n",
    "    org_test=org_test,\n",
    ")"
   ]
  },
  {
   "cell_type": "markdown",
   "id": "f95d4e02",
   "metadata": {
    "papermill": {
     "duration": 0.027113,
     "end_time": "2025-07-30T14:22:49.255027",
     "exception": false,
     "start_time": "2025-07-30T14:22:49.227914",
     "status": "completed"
    },
    "tags": []
   },
   "source": [
    "# Overall"
   ]
  },
  {
   "cell_type": "markdown",
   "id": "bdee4871",
   "metadata": {
    "papermill": {
     "duration": 0.027631,
     "end_time": "2025-07-30T14:22:49.310550",
     "exception": false,
     "start_time": "2025-07-30T14:22:49.282919",
     "status": "completed"
    },
    "tags": []
   },
   "source": [
    "Fairness\n",
    "Main fairness target: Equalized Odds. Seems to be a better fit than equal opportunity, since we're not only interested in Y = 1. Seems to be a better fit than demographic parity, since we also care about accuracy, not just equal distribution of preds.\n",
    "\n",
    "Pick column for computation of fairness metrics\n",
    "\n",
    "Performance\n",
    "Overall performance measures, most interesting in relation to the measures split by group below"
   ]
  },
  {
   "cell_type": "code",
   "execution_count": 74,
   "id": "c4e067c6",
   "metadata": {
    "execution": {
     "iopub.execute_input": "2025-07-30T14:22:49.366486Z",
     "iopub.status.busy": "2025-07-30T14:22:49.365829Z",
     "iopub.status.idle": "2025-07-30T14:22:49.375724Z",
     "shell.execute_reply": "2025-07-30T14:22:49.374626Z"
    },
    "papermill": {
     "duration": 0.039963,
     "end_time": "2025-07-30T14:22:49.377332",
     "exception": false,
     "start_time": "2025-07-30T14:22:49.337369",
     "status": "completed"
    },
    "tags": []
   },
   "outputs": [
    {
     "data": {
      "text/plain": [
       "accuracy                   0.219518\n",
       "balanced accuracy          0.540549\n",
       "f1                         0.242216\n",
       "precision                  0.138338\n",
       "false positive rate        0.891269\n",
       "false negative rate        0.027633\n",
       "selection rate             0.901672\n",
       "count                  89710.000000\n",
       "dtype: float64"
      ]
     },
     "execution_count": 74,
     "metadata": {},
     "output_type": "execute_result"
    }
   ],
   "source": [
    "metric_frame.overall"
   ]
  },
  {
   "cell_type": "markdown",
   "id": "e968fe9d",
   "metadata": {
    "papermill": {
     "duration": 0.028095,
     "end_time": "2025-07-30T14:22:49.433030",
     "exception": false,
     "start_time": "2025-07-30T14:22:49.404935",
     "status": "completed"
    },
    "tags": []
   },
   "source": [
    "By Group"
   ]
  },
  {
   "cell_type": "code",
   "execution_count": 75,
   "id": "ec325bce",
   "metadata": {
    "execution": {
     "iopub.execute_input": "2025-07-30T14:22:49.489785Z",
     "iopub.status.busy": "2025-07-30T14:22:49.489049Z",
     "iopub.status.idle": "2025-07-30T14:22:49.505778Z",
     "shell.execute_reply": "2025-07-30T14:22:49.504891Z"
    },
    "papermill": {
     "duration": 0.046636,
     "end_time": "2025-07-30T14:22:49.507583",
     "exception": false,
     "start_time": "2025-07-30T14:22:49.460947",
     "status": "completed"
    },
    "tags": []
   },
   "outputs": [
    {
     "data": {
      "text/html": [
       "<div>\n",
       "<style scoped>\n",
       "    .dataframe tbody tr th:only-of-type {\n",
       "        vertical-align: middle;\n",
       "    }\n",
       "\n",
       "    .dataframe tbody tr th {\n",
       "        vertical-align: top;\n",
       "    }\n",
       "\n",
       "    .dataframe thead th {\n",
       "        text-align: right;\n",
       "    }\n",
       "</style>\n",
       "<table border=\"1\" class=\"dataframe\">\n",
       "  <thead>\n",
       "    <tr style=\"text-align: right;\">\n",
       "      <th></th>\n",
       "      <th>accuracy</th>\n",
       "      <th>balanced accuracy</th>\n",
       "      <th>f1</th>\n",
       "      <th>precision</th>\n",
       "      <th>false positive rate</th>\n",
       "      <th>false negative rate</th>\n",
       "      <th>selection rate</th>\n",
       "      <th>count</th>\n",
       "    </tr>\n",
       "    <tr>\n",
       "      <th>majmin</th>\n",
       "      <th></th>\n",
       "      <th></th>\n",
       "      <th></th>\n",
       "      <th></th>\n",
       "      <th></th>\n",
       "      <th></th>\n",
       "      <th></th>\n",
       "      <th></th>\n",
       "    </tr>\n",
       "  </thead>\n",
       "  <tbody>\n",
       "    <tr>\n",
       "      <th>majority</th>\n",
       "      <td>0.238948</td>\n",
       "      <td>0.548365</td>\n",
       "      <td>0.251755</td>\n",
       "      <td>0.144673</td>\n",
       "      <td>0.872197</td>\n",
       "      <td>0.031072</td>\n",
       "      <td>0.884979</td>\n",
       "      <td>69170.0</td>\n",
       "    </tr>\n",
       "    <tr>\n",
       "      <th>minority</th>\n",
       "      <td>0.154090</td>\n",
       "      <td>0.515686</td>\n",
       "      <td>0.211768</td>\n",
       "      <td>0.118628</td>\n",
       "      <td>0.954270</td>\n",
       "      <td>0.014358</td>\n",
       "      <td>0.957887</td>\n",
       "      <td>20540.0</td>\n",
       "    </tr>\n",
       "  </tbody>\n",
       "</table>\n",
       "</div>"
      ],
      "text/plain": [
       "          accuracy  balanced accuracy        f1  precision  \\\n",
       "majmin                                                       \n",
       "majority  0.238948           0.548365  0.251755   0.144673   \n",
       "minority  0.154090           0.515686  0.211768   0.118628   \n",
       "\n",
       "          false positive rate  false negative rate  selection rate    count  \n",
       "majmin                                                                       \n",
       "majority             0.872197             0.031072        0.884979  69170.0  \n",
       "minority             0.954270             0.014358        0.957887  20540.0  "
      ]
     },
     "execution_count": 75,
     "metadata": {},
     "output_type": "execute_result"
    }
   ],
   "source": [
    "metric_frame.by_group"
   ]
  },
  {
   "cell_type": "code",
   "execution_count": 76,
   "id": "a9ddbe63",
   "metadata": {
    "execution": {
     "iopub.execute_input": "2025-07-30T14:22:49.566021Z",
     "iopub.status.busy": "2025-07-30T14:22:49.565571Z",
     "iopub.status.idle": "2025-07-30T14:22:51.920764Z",
     "shell.execute_reply": "2025-07-30T14:22:51.919787Z"
    },
    "papermill": {
     "duration": 2.386312,
     "end_time": "2025-07-30T14:22:51.922410",
     "exception": false,
     "start_time": "2025-07-30T14:22:49.536098",
     "status": "completed"
    },
    "tags": []
   },
   "outputs": [
    {
     "data": {
      "text/plain": [
       "array([[<Axes: title={'center': 'accuracy'}, xlabel='majmin'>,\n",
       "        <Axes: title={'center': 'balanced accuracy'}, xlabel='majmin'>,\n",
       "        <Axes: title={'center': 'f1'}, xlabel='majmin'>],\n",
       "       [<Axes: title={'center': 'precision'}, xlabel='majmin'>,\n",
       "        <Axes: title={'center': 'false positive rate'}, xlabel='majmin'>,\n",
       "        <Axes: title={'center': 'false negative rate'}, xlabel='majmin'>],\n",
       "       [<Axes: title={'center': 'selection rate'}, xlabel='majmin'>,\n",
       "        <Axes: title={'center': 'count'}, xlabel='majmin'>,\n",
       "        <Axes: xlabel='majmin'>]], dtype=object)"
      ]
     },
     "execution_count": 76,
     "metadata": {},
     "output_type": "execute_result"
    },
    {
     "data": {
      "image/png": "[encoded data removed]",
      "text/plain": [
       "<Figure size 1200x800 with 9 Axes>"
      ]
     },
     "metadata": {},
     "output_type": "display_data"
    }
   ],
   "source": [
    "# In a graphic\n",
    "metric_frame.by_group.plot.bar(\n",
    "    subplots=True,\n",
    "    layout=[3, 3],\n",
    "    legend=False,\n",
    "    figsize=[12, 8],\n",
    "    title=\"Show all metrics\",\n",
    ")"
   ]
  },
  {
   "cell_type": "markdown",
   "id": "f57a0bac",
   "metadata": {
    "papermill": {
     "duration": 0.032676,
     "end_time": "2025-07-30T14:22:51.987626",
     "exception": false,
     "start_time": "2025-07-30T14:22:51.954950",
     "status": "completed"
    },
    "tags": []
   },
   "source": [
    "# Final Output"
   ]
  },
  {
   "cell_type": "code",
   "execution_count": 77,
   "id": "96d280a3",
   "metadata": {
    "execution": {
     "iopub.execute_input": "2025-07-30T14:22:52.056072Z",
     "iopub.status.busy": "2025-07-30T14:22:52.055370Z",
     "iopub.status.idle": "2025-07-30T14:22:52.064429Z",
     "shell.execute_reply": "2025-07-30T14:22:52.063408Z"
    },
    "papermill": {
     "duration": 0.043202,
     "end_time": "2025-07-30T14:22:52.065785",
     "exception": false,
     "start_time": "2025-07-30T14:22:52.022583",
     "status": "completed"
    },
    "tags": []
   },
   "outputs": [
    {
     "data": {
      "text/plain": [
       "4"
      ]
     },
     "execution_count": 77,
     "metadata": {},
     "output_type": "execute_result"
    }
   ],
   "source": [
    "sub_universes = universe_analysis.generate_sub_universes()\n",
    "len(sub_universes)"
   ]
  },
  {
   "cell_type": "code",
   "execution_count": 78,
   "id": "92adf7ba",
   "metadata": {
    "execution": {
     "iopub.execute_input": "2025-07-30T14:22:52.131416Z",
     "iopub.status.busy": "2025-07-30T14:22:52.130613Z",
     "iopub.status.idle": "2025-07-30T14:22:52.137338Z",
     "shell.execute_reply": "2025-07-30T14:22:52.136459Z"
    },
    "papermill": {
     "duration": 0.042283,
     "end_time": "2025-07-30T14:22:52.139190",
     "exception": false,
     "start_time": "2025-07-30T14:22:52.096907",
     "status": "completed"
    },
    "tags": []
   },
   "outputs": [],
   "source": [
    "def filter_sub_universe_data(sub_universe, org_test):\n",
    "    # Keep all rows — no filtering\n",
    "    keep_rows_mask = np.ones(org_test.shape[0], dtype=bool)\n",
    "\n",
    "    print(f\"[INFO] Keeping all rows: {keep_rows_mask.sum()} rows retained.\")\n",
    "    return keep_rows_mask"
   ]
  },
  {
   "cell_type": "code",
   "execution_count": 79,
   "id": "4a759155",
   "metadata": {
    "execution": {
     "iopub.execute_input": "2025-07-30T14:22:52.202157Z",
     "iopub.status.busy": "2025-07-30T14:22:52.201234Z",
     "iopub.status.idle": "2025-07-30T14:23:02.341516Z",
     "shell.execute_reply": "2025-07-30T14:23:02.340428Z"
    },
    "papermill": {
     "duration": 10.173549,
     "end_time": "2025-07-30T14:23:02.343252",
     "exception": false,
     "start_time": "2025-07-30T14:22:52.169703",
     "status": "completed"
    },
    "tags": []
   },
   "outputs": [
    {
     "name": "stdout",
     "output_type": "stream",
     "text": [
      "Stopping execution_time clock.\n",
      "[INFO] Keeping all rows: 89710 rows retained.\n"
     ]
    },
    {
     "name": "stdout",
     "output_type": "stream",
     "text": [
      "[INFO] Keeping all rows: 89710 rows retained.\n"
     ]
    },
    {
     "name": "stdout",
     "output_type": "stream",
     "text": [
      "[INFO] Keeping all rows: 89710 rows retained.\n"
     ]
    },
    {
     "name": "stdout",
     "output_type": "stream",
     "text": [
      "[INFO] Keeping all rows: 89710 rows retained.\n"
     ]
    },
    {
     "data": {
      "text/html": [
       "<div>\n",
       "<style scoped>\n",
       "    .dataframe tbody tr th:only-of-type {\n",
       "        vertical-align: middle;\n",
       "    }\n",
       "\n",
       "    .dataframe tbody tr th {\n",
       "        vertical-align: top;\n",
       "    }\n",
       "\n",
       "    .dataframe thead th {\n",
       "        text-align: right;\n",
       "    }\n",
       "</style>\n",
       "<table border=\"1\" class=\"dataframe\">\n",
       "  <thead>\n",
       "    <tr style=\"text-align: right;\">\n",
       "      <th></th>\n",
       "      <th>run_no</th>\n",
       "      <th>universe_id</th>\n",
       "      <th>universe_settings</th>\n",
       "      <th>execution_time</th>\n",
       "      <th>test_size_n</th>\n",
       "      <th>test_size_frac</th>\n",
       "      <th>fair_main_equalized_odds_difference</th>\n",
       "      <th>fair_main_equalized_odds_ratio</th>\n",
       "      <th>fair_main_demographic_parity_difference</th>\n",
       "      <th>fair_main_demographic_parity_ratio</th>\n",
       "      <th>...</th>\n",
       "      <th>perf_grp_precision_0</th>\n",
       "      <th>perf_grp_precision_1</th>\n",
       "      <th>perf_grp_false positive rate_0</th>\n",
       "      <th>perf_grp_false positive rate_1</th>\n",
       "      <th>perf_grp_false negative rate_0</th>\n",
       "      <th>perf_grp_false negative rate_1</th>\n",
       "      <th>perf_grp_selection rate_0</th>\n",
       "      <th>perf_grp_selection rate_1</th>\n",
       "      <th>perf_grp_count_0</th>\n",
       "      <th>perf_grp_count_1</th>\n",
       "    </tr>\n",
       "  </thead>\n",
       "  <tbody>\n",
       "    <tr>\n",
       "      <th>0</th>\n",
       "      <td>12</td>\n",
       "      <td>afde5d914a9e6a6dc266a402718a266a</td>\n",
       "      <td>{\"cutoff\": \"quantile_0.1\", \"eval_fairness_grou...</td>\n",
       "      <td>29.286354</td>\n",
       "      <td>89710</td>\n",
       "      <td>1.0</td>\n",
       "      <td>0.082073</td>\n",
       "      <td>0.913994</td>\n",
       "      <td>0.072908</td>\n",
       "      <td>0.923887</td>\n",
       "      <td>...</td>\n",
       "      <td>NaN</td>\n",
       "      <td>NaN</td>\n",
       "      <td>NaN</td>\n",
       "      <td>NaN</td>\n",
       "      <td>NaN</td>\n",
       "      <td>NaN</td>\n",
       "      <td>NaN</td>\n",
       "      <td>NaN</td>\n",
       "      <td>NaN</td>\n",
       "      <td>NaN</td>\n",
       "    </tr>\n",
       "    <tr>\n",
       "      <th>0</th>\n",
       "      <td>12</td>\n",
       "      <td>afde5d914a9e6a6dc266a402718a266a</td>\n",
       "      <td>{\"cutoff\": \"quantile_0.1\", \"eval_fairness_grou...</td>\n",
       "      <td>29.286354</td>\n",
       "      <td>89710</td>\n",
       "      <td>1.0</td>\n",
       "      <td>0.082073</td>\n",
       "      <td>0.913994</td>\n",
       "      <td>0.072908</td>\n",
       "      <td>0.923887</td>\n",
       "      <td>...</td>\n",
       "      <td>0.118628</td>\n",
       "      <td>0.144673</td>\n",
       "      <td>0.954270</td>\n",
       "      <td>0.872197</td>\n",
       "      <td>0.014358</td>\n",
       "      <td>0.031072</td>\n",
       "      <td>0.957887</td>\n",
       "      <td>0.884979</td>\n",
       "      <td>20540.0</td>\n",
       "      <td>69170.0</td>\n",
       "    </tr>\n",
       "    <tr>\n",
       "      <th>0</th>\n",
       "      <td>12</td>\n",
       "      <td>afde5d914a9e6a6dc266a402718a266a</td>\n",
       "      <td>{\"cutoff\": \"quantile_0.25\", \"eval_fairness_gro...</td>\n",
       "      <td>29.286354</td>\n",
       "      <td>89710</td>\n",
       "      <td>1.0</td>\n",
       "      <td>0.177563</td>\n",
       "      <td>0.794401</td>\n",
       "      <td>0.158372</td>\n",
       "      <td>0.818656</td>\n",
       "      <td>...</td>\n",
       "      <td>NaN</td>\n",
       "      <td>NaN</td>\n",
       "      <td>NaN</td>\n",
       "      <td>NaN</td>\n",
       "      <td>NaN</td>\n",
       "      <td>NaN</td>\n",
       "      <td>NaN</td>\n",
       "      <td>NaN</td>\n",
       "      <td>NaN</td>\n",
       "      <td>NaN</td>\n",
       "    </tr>\n",
       "    <tr>\n",
       "      <th>0</th>\n",
       "      <td>12</td>\n",
       "      <td>afde5d914a9e6a6dc266a402718a266a</td>\n",
       "      <td>{\"cutoff\": \"quantile_0.25\", \"eval_fairness_gro...</td>\n",
       "      <td>29.286354</td>\n",
       "      <td>89710</td>\n",
       "      <td>1.0</td>\n",
       "      <td>0.177563</td>\n",
       "      <td>0.794401</td>\n",
       "      <td>0.158372</td>\n",
       "      <td>0.818656</td>\n",
       "      <td>...</td>\n",
       "      <td>0.125098</td>\n",
       "      <td>0.167189</td>\n",
       "      <td>0.863636</td>\n",
       "      <td>0.686074</td>\n",
       "      <td>0.052365</td>\n",
       "      <td>0.095405</td>\n",
       "      <td>0.873320</td>\n",
       "      <td>0.714949</td>\n",
       "      <td>20540.0</td>\n",
       "      <td>69170.0</td>\n",
       "    </tr>\n",
       "  </tbody>\n",
       "</table>\n",
       "<p>4 rows × 50 columns</p>\n",
       "</div>"
      ],
      "text/plain": [
       "  run_no                       universe_id  \\\n",
       "0     12  afde5d914a9e6a6dc266a402718a266a   \n",
       "0     12  afde5d914a9e6a6dc266a402718a266a   \n",
       "0     12  afde5d914a9e6a6dc266a402718a266a   \n",
       "0     12  afde5d914a9e6a6dc266a402718a266a   \n",
       "\n",
       "                                   universe_settings  execution_time  \\\n",
       "0  {\"cutoff\": \"quantile_0.1\", \"eval_fairness_grou...       29.286354   \n",
       "0  {\"cutoff\": \"quantile_0.1\", \"eval_fairness_grou...       29.286354   \n",
       "0  {\"cutoff\": \"quantile_0.25\", \"eval_fairness_gro...       29.286354   \n",
       "0  {\"cutoff\": \"quantile_0.25\", \"eval_fairness_gro...       29.286354   \n",
       "\n",
       "   test_size_n  test_size_frac  fair_main_equalized_odds_difference  \\\n",
       "0        89710             1.0                             0.082073   \n",
       "0        89710             1.0                             0.082073   \n",
       "0        89710             1.0                             0.177563   \n",
       "0        89710             1.0                             0.177563   \n",
       "\n",
       "   fair_main_equalized_odds_ratio  fair_main_demographic_parity_difference  \\\n",
       "0                        0.913994                                 0.072908   \n",
       "0                        0.913994                                 0.072908   \n",
       "0                        0.794401                                 0.158372   \n",
       "0                        0.794401                                 0.158372   \n",
       "\n",
       "   fair_main_demographic_parity_ratio  ...  perf_grp_precision_0  \\\n",
       "0                            0.923887  ...                   NaN   \n",
       "0                            0.923887  ...              0.118628   \n",
       "0                            0.818656  ...                   NaN   \n",
       "0                            0.818656  ...              0.125098   \n",
       "\n",
       "   perf_grp_precision_1  perf_grp_false positive rate_0  \\\n",
       "0                   NaN                             NaN   \n",
       "0              0.144673                        0.954270   \n",
       "0                   NaN                             NaN   \n",
       "0              0.167189                        0.863636   \n",
       "\n",
       "   perf_grp_false positive rate_1  perf_grp_false negative rate_0  \\\n",
       "0                             NaN                             NaN   \n",
       "0                        0.872197                        0.014358   \n",
       "0                             NaN                             NaN   \n",
       "0                        0.686074                        0.052365   \n",
       "\n",
       "   perf_grp_false negative rate_1  perf_grp_selection rate_0  \\\n",
       "0                             NaN                        NaN   \n",
       "0                        0.031072                   0.957887   \n",
       "0                             NaN                        NaN   \n",
       "0                        0.095405                   0.873320   \n",
       "\n",
       "   perf_grp_selection rate_1  perf_grp_count_0  perf_grp_count_1  \n",
       "0                        NaN               NaN               NaN  \n",
       "0                   0.884979           20540.0           69170.0  \n",
       "0                        NaN               NaN               NaN  \n",
       "0                   0.714949           20540.0           69170.0  \n",
       "\n",
       "[4 rows x 50 columns]"
      ]
     },
     "execution_count": 79,
     "metadata": {},
     "output_type": "execute_result"
    }
   ],
   "source": [
    "final_output = universe_analysis.generate_final_output(\n",
    "    y_pred_prob=probs_test,\n",
    "    y_test=y_true,\n",
    "    org_test=org_test,\n",
    "    filter_data=filter_sub_universe_data,\n",
    "    cp_metrics_df=cp_metrics_df,\n",
    "    save=True,\n",
    ")\n",
    "final_output"
   ]
  },
  {
   "cell_type": "code",
   "execution_count": null,
   "id": "721ff514-cb11-46f8-b6fc-50392f74b5cb",
   "metadata": {
    "papermill": {
     "duration": 0.032833,
     "end_time": "2025-07-30T14:23:02.410687",
     "exception": false,
     "start_time": "2025-07-30T14:23:02.377854",
     "status": "completed"
    },
    "tags": []
   },
   "outputs": [],
   "source": []
  }
 ],
 "metadata": {
  "celltoolbar": "Tags",
  "kernelspec": {
   "display_name": "Python (CMA Fairness)",
   "language": "python",
   "name": "cma_fair_env"
  },
  "language_info": {
   "codemirror_mode": {
    "name": "ipython",
    "version": 3
   },
   "file_extension": ".py",
   "mimetype": "text/x-python",
   "name": "python",
   "nbconvert_exporter": "python",
   "pygments_lexer": "ipython3",
   "version": "3.10.12"
  },
  "papermill": {
   "default_parameters": {},
   "duration": 43.790759,
   "end_time": "2025-07-30T14:23:03.364844",
   "environment_variables": {},
   "exception": null,
   "input_path": "universe_analysis.ipynb",
   "output_path": "output/runs/12/notebooks/m_12-afde5d914a9e6a6dc266a402718a266a.ipynb",
   "parameters": {
    "output_dir": "output",
    "run_no": "12",
    "seed": "2023",
    "universe": "{\"cutoff\": [\"quantile_0.1\", \"quantile_0.25\"], \"eval_fairness_grouping\": [\"majority-minority\", \"nationality-all\"], \"exclude_features\": \"nationality-sex\", \"exclude_subgroups\": \"drop-non-german\", \"model\": \"gbm\", \"scale\": \"scale\", \"training_size\": \"1k\", \"training_year\": \"2014\"}",
    "universe_id": "afde5d914a9e6a6dc266a402718a266a"
   },
   "start_time": "2025-07-30T14:22:19.574085",
   "version": "2.6.0"
  }
 },
 "nbformat": 4,
 "nbformat_minor": 5
}