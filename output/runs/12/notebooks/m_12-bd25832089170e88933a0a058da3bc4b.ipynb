{
 "cells": [
  {
   "cell_type": "code",
   "execution_count": 1,
   "id": "f159f837-637b-42ba-96b5-ec9a68c44524",
   "metadata": {
    "execution": {
     "iopub.execute_input": "2025-07-30T13:04:47.371531Z",
     "iopub.status.busy": "2025-07-30T13:04:47.371106Z",
     "iopub.status.idle": "2025-07-30T13:04:47.385318Z",
     "shell.execute_reply": "2025-07-30T13:04:47.384096Z"
    },
    "papermill": {
     "duration": 0.035377,
     "end_time": "2025-07-30T13:04:47.386928",
     "exception": false,
     "start_time": "2025-07-30T13:04:47.351551",
     "status": "completed"
    },
    "tags": []
   },
   "outputs": [
    {
     "name": "stdout",
     "output_type": "stream",
     "text": [
      "/dss/dsshome1/0C/ra93lal2/cma/CMA_Fairness_v2\n"
     ]
    },
    {
     "name": "stderr",
     "output_type": "stream",
     "text": [
      "/dss/dsshome1/0C/ra93lal2/.local/share/virtualenvs/CMA_Fairness_v2-3j10GkSs/lib/python3.10/site-packages/IPython/core/magics/osm.py:393: UserWarning: This is now an optional IPython functionality, using bookmarks requires you to install the `pickleshare` library.\n",
      "  bkms = self.shell.db.get('bookmarks', {})\n",
      "/dss/dsshome1/0C/ra93lal2/.local/share/virtualenvs/CMA_Fairness_v2-3j10GkSs/lib/python3.10/site-packages/IPython/core/magics/osm.py:417: UserWarning: This is now an optional IPython functionality, setting dhist requires you to install the `pickleshare` library.\n",
      "  self.shell.db['dhist'] = compress_dhist(dhist)[-100:]\n"
     ]
    }
   ],
   "source": [
    "%cd ~/cma/CMA_Fairness_v2"
   ]
  },
  {
   "cell_type": "markdown",
   "id": "de2603b9",
   "metadata": {
    "papermill": {
     "duration": 0.01799,
     "end_time": "2025-07-30T13:04:47.424187",
     "exception": false,
     "start_time": "2025-07-30T13:04:47.406197",
     "status": "completed"
    },
    "tags": []
   },
   "source": [
    "The following cell holds the definition of our parameters, these values can be overriden by rendering the with e.g. the following command:\n",
    "\n",
    "papermill -p alpha 0.2 -p ratio 0.3 universe_analysis.ipynb output/test_run.ipynb"
   ]
  },
  {
   "cell_type": "code",
   "execution_count": 2,
   "id": "a80968a0-40bb-4fa9-85ef-2d5eefb01975",
   "metadata": {
    "execution": {
     "iopub.execute_input": "2025-07-30T13:04:47.463458Z",
     "iopub.status.busy": "2025-07-30T13:04:47.462576Z",
     "iopub.status.idle": "2025-07-30T13:04:47.468363Z",
     "shell.execute_reply": "2025-07-30T13:04:47.467416Z"
    },
    "papermill": {
     "duration": 0.027151,
     "end_time": "2025-07-30T13:04:47.469872",
     "exception": false,
     "start_time": "2025-07-30T13:04:47.442721",
     "status": "completed"
    },
    "tags": []
   },
   "outputs": [
    {
     "name": "stdout",
     "output_type": "stream",
     "text": [
      "Current working directory: /dss/dsshome1/0C/ra93lal2/cma/CMA_Fairness_v2\n"
     ]
    }
   ],
   "source": [
    "import os\n",
    "print(\"Current working directory:\", os.getcwd())"
   ]
  },
  {
   "cell_type": "code",
   "execution_count": 3,
   "id": "2dce4c03",
   "metadata": {
    "execution": {
     "iopub.execute_input": "2025-07-30T13:04:47.510329Z",
     "iopub.status.busy": "2025-07-30T13:04:47.508912Z",
     "iopub.status.idle": "2025-07-30T13:04:47.515668Z",
     "shell.execute_reply": "2025-07-30T13:04:47.514711Z"
    },
    "papermill": {
     "duration": 0.028356,
     "end_time": "2025-07-30T13:04:47.517651",
     "exception": false,
     "start_time": "2025-07-30T13:04:47.489295",
     "status": "completed"
    },
    "tags": [
     "parameters"
    ]
   },
   "outputs": [],
   "source": [
    "run_no = 0\n",
    "universe_id = \"test\"\n",
    "universe = {\n",
    "    \"training_size\": \"25k\", # \"25k\", \"5k\", \"1k\"\n",
    "    \"training_year\": \"2014\", # \"2014\", \"2012_14\", \"2010_14\"\n",
    "    \"scale\": \"scale\", # \"scale\", \"do-not-scale\",\n",
    "    #\"stratify_split\": \"target\", # \"none\", \"target\", \"protected-attribute\", \"both\",\n",
    "    \"model\": \"elasticnet\", # \"logreg\", \"penalized_logreg\", \"rf\", \"gbm\", \"elasticnet\"\n",
    "    \"cutoff\": [\"quantile_0.15\", \"quantile_0.30\"],\n",
    "    \"exclude_features\": \"age\", # \"none\", \"nationality\", \"sex\", \"nationality-sex\", \"age\"\n",
    "    \"exclude_subgroups\": \"keep-all\", # \"keep-all\", \"drop-non-german\"\n",
    "    \"eval_fairness_grouping\": [\"majority-minority\", \"nationality-all\"]\n",
    "}\n",
    "\n",
    "output_dir=\"./output\"\n",
    "seed=0"
   ]
  },
  {
   "cell_type": "code",
   "execution_count": 4,
   "id": "471949f4",
   "metadata": {
    "execution": {
     "iopub.execute_input": "2025-07-30T13:04:47.557458Z",
     "iopub.status.busy": "2025-07-30T13:04:47.556997Z",
     "iopub.status.idle": "2025-07-30T13:04:47.562535Z",
     "shell.execute_reply": "2025-07-30T13:04:47.561576Z"
    },
    "papermill": {
     "duration": 0.026701,
     "end_time": "2025-07-30T13:04:47.564090",
     "exception": false,
     "start_time": "2025-07-30T13:04:47.537389",
     "status": "completed"
    },
    "tags": [
     "injected-parameters"
    ]
   },
   "outputs": [],
   "source": [
    "# Parameters\n",
    "universe_id = \"bd25832089170e88933a0a058da3bc4b\"\n",
    "run_no = \"12\"\n",
    "universe = \"{\\\"cutoff\\\": [\\\"quantile_0.1\\\", \\\"quantile_0.25\\\"], \\\"eval_fairness_grouping\\\": [\\\"majority-minority\\\", \\\"nationality-all\\\"], \\\"exclude_features\\\": \\\"age\\\", \\\"exclude_subgroups\\\": \\\"keep-all\\\", \\\"model\\\": \\\"logreg\\\", \\\"scale\\\": \\\"scale\\\", \\\"training_size\\\": \\\"25k\\\", \\\"training_year\\\": \\\"2012_14\\\"}\"\n",
    "output_dir = \"output\"\n",
    "seed = \"2023\"\n"
   ]
  },
  {
   "cell_type": "code",
   "execution_count": 5,
   "id": "1650acaf",
   "metadata": {
    "execution": {
     "iopub.execute_input": "2025-07-30T13:04:47.603404Z",
     "iopub.status.busy": "2025-07-30T13:04:47.602909Z",
     "iopub.status.idle": "2025-07-30T13:04:47.608366Z",
     "shell.execute_reply": "2025-07-30T13:04:47.607320Z"
    },
    "papermill": {
     "duration": 0.026716,
     "end_time": "2025-07-30T13:04:47.610013",
     "exception": false,
     "start_time": "2025-07-30T13:04:47.583297",
     "status": "completed"
    },
    "tags": []
   },
   "outputs": [],
   "source": [
    "import json\n",
    "# Parse universe into dict if it is passed as a string\n",
    "if isinstance(universe, str):\n",
    "    universe = json.loads(universe)"
   ]
  },
  {
   "cell_type": "code",
   "execution_count": 6,
   "id": "16620c48",
   "metadata": {
    "execution": {
     "iopub.execute_input": "2025-07-30T13:04:47.649912Z",
     "iopub.status.busy": "2025-07-30T13:04:47.649121Z",
     "iopub.status.idle": "2025-07-30T13:04:47.694599Z",
     "shell.execute_reply": "2025-07-30T13:04:47.693692Z"
    },
    "papermill": {
     "duration": 0.067144,
     "end_time": "2025-07-30T13:04:47.696603",
     "exception": false,
     "start_time": "2025-07-30T13:04:47.629459",
     "status": "completed"
    },
    "tags": []
   },
   "outputs": [],
   "source": [
    "# Auto-reload the custom package\n",
    "%load_ext autoreload\n",
    "%autoreload 1\n",
    "%aimport fairness_multiverse"
   ]
  },
  {
   "cell_type": "code",
   "execution_count": 7,
   "id": "01c5c9f3",
   "metadata": {
    "execution": {
     "iopub.execute_input": "2025-07-30T13:04:47.736074Z",
     "iopub.status.busy": "2025-07-30T13:04:47.735222Z",
     "iopub.status.idle": "2025-07-30T13:04:49.661814Z",
     "shell.execute_reply": "2025-07-30T13:04:49.660884Z"
    },
    "papermill": {
     "duration": 1.948067,
     "end_time": "2025-07-30T13:04:49.663503",
     "exception": false,
     "start_time": "2025-07-30T13:04:47.715436",
     "status": "completed"
    },
    "tags": []
   },
   "outputs": [],
   "source": [
    "from fairness_multiverse.universe import UniverseAnalysis\n",
    "\n",
    "universe_analysis = UniverseAnalysis(\n",
    "    run_no = run_no,\n",
    "    universe_id = universe_id,\n",
    "    universe = universe,\n",
    "    output_dir=output_dir,\n",
    ")"
   ]
  },
  {
   "cell_type": "code",
   "execution_count": 8,
   "id": "106241f5",
   "metadata": {
    "execution": {
     "iopub.execute_input": "2025-07-30T13:04:49.719303Z",
     "iopub.status.busy": "2025-07-30T13:04:49.718436Z",
     "iopub.status.idle": "2025-07-30T13:04:49.724833Z",
     "shell.execute_reply": "2025-07-30T13:04:49.723852Z"
    },
    "papermill": {
     "duration": 0.027538,
     "end_time": "2025-07-30T13:04:49.726525",
     "exception": false,
     "start_time": "2025-07-30T13:04:49.698987",
     "status": "completed"
    },
    "tags": []
   },
   "outputs": [
    {
     "name": "stdout",
     "output_type": "stream",
     "text": [
      "Using Seed: 2023\n"
     ]
    }
   ],
   "source": [
    "import numpy as np\n",
    "parsed_seed = int(seed)\n",
    "np.random.seed(parsed_seed)\n",
    "print(f\"Using Seed: {parsed_seed}\")"
   ]
  },
  {
   "cell_type": "markdown",
   "id": "e0ebdc57",
   "metadata": {
    "papermill": {
     "duration": 0.019322,
     "end_time": "2025-07-30T13:04:49.767119",
     "exception": false,
     "start_time": "2025-07-30T13:04:49.747797",
     "status": "completed"
    },
    "tags": []
   },
   "source": [
    "# Loading Data"
   ]
  },
  {
   "cell_type": "markdown",
   "id": "681925a3",
   "metadata": {
    "papermill": {
     "duration": 0.020136,
     "end_time": "2025-07-30T13:04:49.807705",
     "exception": false,
     "start_time": "2025-07-30T13:04:49.787569",
     "status": "completed"
    },
    "tags": []
   },
   "source": [
    "Load siab_train, siab_test, siab_calib and/or \n",
    "load siab_train_features, siab_train_labels"
   ]
  },
  {
   "cell_type": "code",
   "execution_count": 9,
   "id": "f0496b8a",
   "metadata": {
    "execution": {
     "iopub.execute_input": "2025-07-30T13:04:49.849115Z",
     "iopub.status.busy": "2025-07-30T13:04:49.848614Z",
     "iopub.status.idle": "2025-07-30T13:05:01.806853Z",
     "shell.execute_reply": "2025-07-30T13:05:01.805731Z"
    },
    "papermill": {
     "duration": 11.980798,
     "end_time": "2025-07-30T13:05:01.808423",
     "exception": false,
     "start_time": "2025-07-30T13:04:49.827625",
     "status": "completed"
    },
    "tags": []
   },
   "outputs": [
    {
     "name": "stdout",
     "output_type": "stream",
     "text": [
      "Loading SIAB data from cache: data/siab_cached.csv.gz\n"
     ]
    },
    {
     "name": "stdout",
     "output_type": "stream",
     "text": [
      "(643690, 164)\n"
     ]
    }
   ],
   "source": [
    "from pathlib import Path\n",
    "import pandas as pd\n",
    "\n",
    "# File paths\n",
    "raw_file = Path(\"data/raw/siab.csv\")\n",
    "cache_file = Path(\"data/siab_cached.csv.gz\")\n",
    "\n",
    "# Ensure cache directory exists\n",
    "cache_file.parent.mkdir(parents=True, exist_ok=True)\n",
    "\n",
    "# Load with simple caching\n",
    "if cache_file.exists():\n",
    "    print(f\"Loading SIAB data from cache: {cache_file}\")\n",
    "    siab = pd.read_csv(cache_file, compression='gzip')\n",
    "else:\n",
    "    print(f\"Cache not found. Reading raw SIAB data: {raw_file}\")\n",
    "    siab = pd.read_csv(raw_file)\n",
    "    siab.to_csv(cache_file, index=False, compression='gzip')\n",
    "    print(f\"Cached SIAB data to: {cache_file}\")\n",
    "\n",
    "# Now use `siab` DataFrame as needed\n",
    "print(siab.shape)"
   ]
  },
  {
   "cell_type": "code",
   "execution_count": 10,
   "id": "db0ca512-5f53-4dba-abdb-a2888bca41ba",
   "metadata": {
    "execution": {
     "iopub.execute_input": "2025-07-30T13:05:01.861902Z",
     "iopub.status.busy": "2025-07-30T13:05:01.861005Z",
     "iopub.status.idle": "2025-07-30T13:05:01.869077Z",
     "shell.execute_reply": "2025-07-30T13:05:01.868146Z"
    },
    "papermill": {
     "duration": 0.029795,
     "end_time": "2025-07-30T13:05:01.870633",
     "exception": false,
     "start_time": "2025-07-30T13:05:01.840838",
     "status": "completed"
    },
    "tags": []
   },
   "outputs": [],
   "source": [
    "#siab"
   ]
  },
  {
   "cell_type": "code",
   "execution_count": 11,
   "id": "a0edb063",
   "metadata": {
    "execution": {
     "iopub.execute_input": "2025-07-30T13:05:01.911225Z",
     "iopub.status.busy": "2025-07-30T13:05:01.910579Z",
     "iopub.status.idle": "2025-07-30T13:05:01.915332Z",
     "shell.execute_reply": "2025-07-30T13:05:01.914466Z"
    },
    "papermill": {
     "duration": 0.026486,
     "end_time": "2025-07-30T13:05:01.916828",
     "exception": false,
     "start_time": "2025-07-30T13:05:01.890342",
     "status": "completed"
    },
    "tags": []
   },
   "outputs": [],
   "source": [
    "#import pandas as pd\n",
    "#\n",
    "#X_train = pd.read_csv(\"./data/X_train.csv\")\n",
    "#y_train = pd.read_csv(\"./data/y_train.csv\")"
   ]
  },
  {
   "cell_type": "code",
   "execution_count": 12,
   "id": "63d08085",
   "metadata": {
    "execution": {
     "iopub.execute_input": "2025-07-30T13:05:01.961244Z",
     "iopub.status.busy": "2025-07-30T13:05:01.960759Z",
     "iopub.status.idle": "2025-07-30T13:05:01.965819Z",
     "shell.execute_reply": "2025-07-30T13:05:01.964783Z"
    },
    "papermill": {
     "duration": 0.029269,
     "end_time": "2025-07-30T13:05:01.967534",
     "exception": false,
     "start_time": "2025-07-30T13:05:01.938265",
     "status": "completed"
    },
    "tags": []
   },
   "outputs": [],
   "source": [
    "#X_test = pd.read_csv(\"./data/X_test.csv\")\n",
    "#y_true = pd.read_csv(\"./data/y_test.csv\")"
   ]
  },
  {
   "cell_type": "code",
   "execution_count": 13,
   "id": "98a8d0fa-1d3d-4ed8-bb2c-281470e24add",
   "metadata": {
    "execution": {
     "iopub.execute_input": "2025-07-30T13:05:02.008327Z",
     "iopub.status.busy": "2025-07-30T13:05:02.007835Z",
     "iopub.status.idle": "2025-07-30T13:05:02.012842Z",
     "shell.execute_reply": "2025-07-30T13:05:02.011810Z"
    },
    "papermill": {
     "duration": 0.026639,
     "end_time": "2025-07-30T13:05:02.014433",
     "exception": false,
     "start_time": "2025-07-30T13:05:01.987794",
     "status": "completed"
    },
    "tags": []
   },
   "outputs": [],
   "source": [
    "# Calibration data for conformal\n",
    "#X_calib = pd.read_csv(\"./data/X_calib.csv\")\n",
    "#y_calib = pd.read_csv(\"./data/y_calib.csv\")"
   ]
  },
  {
   "cell_type": "markdown",
   "id": "997051c5-15bd-4b69-9786-c3001a3ce484",
   "metadata": {
    "papermill": {
     "duration": 0.019615,
     "end_time": "2025-07-30T13:05:02.054286",
     "exception": false,
     "start_time": "2025-07-30T13:05:02.034671",
     "status": "completed"
    },
    "tags": []
   },
   "source": [
    "# Splitting Data and Setting Training Data Size"
   ]
  },
  {
   "cell_type": "code",
   "execution_count": 14,
   "id": "e993b61f-042d-41a6-8c81-f55681f86335",
   "metadata": {
    "execution": {
     "iopub.execute_input": "2025-07-30T13:05:02.094440Z",
     "iopub.status.busy": "2025-07-30T13:05:02.093911Z",
     "iopub.status.idle": "2025-07-30T13:05:02.107276Z",
     "shell.execute_reply": "2025-07-30T13:05:02.106295Z"
    },
    "papermill": {
     "duration": 0.034925,
     "end_time": "2025-07-30T13:05:02.108865",
     "exception": false,
     "start_time": "2025-07-30T13:05:02.073940",
     "status": "completed"
    },
    "tags": []
   },
   "outputs": [],
   "source": [
    "def sample_by_year_size(df,\n",
    "                        training_year: str,\n",
    "                        training_size: str,\n",
    "                        random_state: int = 42):\n",
    "    # --- parse training_year into a list of int years ---\n",
    "    if \"_\" in training_year:\n",
    "        start_str, end_str = training_year.split(\"_\", 1)\n",
    "        start = int(start_str)\n",
    "        end   = int(end_str) if len(end_str) == 4 else (int(end_str) + (start // 100)*100)\n",
    "        years = list(range(start, end + 1))\n",
    "    else:\n",
    "        years = [int(training_year)]\n",
    "\n",
    "    df = df[df[\"year\"].isin(years)].reset_index(drop=True)\n",
    "\n",
    "    # --- map training_size to total number of samples ---\n",
    "    total_map = {\"25k\": 25_000, \"5k\": 5_000, \"1k\": 1_000}\n",
    "    if training_size not in total_map:\n",
    "        return df  # e.g. \"all\"\n",
    "\n",
    "    total_samples = total_map[training_size]\n",
    "    n_years       = len(years)\n",
    "    base          = total_samples // n_years\n",
    "    remainder     = total_samples % n_years\n",
    "\n",
    "    # --- build a dict: year -> how many to sample ---\n",
    "    # give +1 to the first `remainder` years in ascending order\n",
    "    quotas = {\n",
    "        year: base + (1 if idx < remainder else 0)\n",
    "        for idx, year in enumerate(sorted(years))\n",
    "    }\n",
    "\n",
    "    # --- sample per‐year according to the quota dict ---\n",
    "    sampled = (\n",
    "        df\n",
    "        .groupby(\"year\", group_keys=False)\n",
    "        .apply(lambda grp: grp.sample(\n",
    "            n=min(len(grp), quotas[grp.name]),\n",
    "            random_state=random_state))\n",
    "        .reset_index(drop=True)\n",
    "    )\n",
    "\n",
    "    return sampled"
   ]
  },
  {
   "cell_type": "code",
   "execution_count": 15,
   "id": "c0ccd338-0e02-41f3-a09d-f56f9266e3fb",
   "metadata": {
    "execution": {
     "iopub.execute_input": "2025-07-30T13:05:02.149231Z",
     "iopub.status.busy": "2025-07-30T13:05:02.148626Z",
     "iopub.status.idle": "2025-07-30T13:05:02.160065Z",
     "shell.execute_reply": "2025-07-30T13:05:02.159086Z"
    },
    "papermill": {
     "duration": 0.032782,
     "end_time": "2025-07-30T13:05:02.161543",
     "exception": false,
     "start_time": "2025-07-30T13:05:02.128761",
     "status": "completed"
    },
    "tags": []
   },
   "outputs": [
    {
     "data": {
      "text/plain": [
       "'25k'"
      ]
     },
     "execution_count": 15,
     "metadata": {},
     "output_type": "execute_result"
    }
   ],
   "source": [
    "universe[\"training_size\"]"
   ]
  },
  {
   "cell_type": "code",
   "execution_count": 16,
   "id": "ca707fd7-8047-4acd-bfa5-66248fbbf8e6",
   "metadata": {
    "execution": {
     "iopub.execute_input": "2025-07-30T13:05:02.204105Z",
     "iopub.status.busy": "2025-07-30T13:05:02.202984Z",
     "iopub.status.idle": "2025-07-30T13:05:02.210469Z",
     "shell.execute_reply": "2025-07-30T13:05:02.209535Z"
    },
    "papermill": {
     "duration": 0.029891,
     "end_time": "2025-07-30T13:05:02.211939",
     "exception": false,
     "start_time": "2025-07-30T13:05:02.182048",
     "status": "completed"
    },
    "tags": []
   },
   "outputs": [
    {
     "data": {
      "text/plain": [
       "'2012_14'"
      ]
     },
     "execution_count": 16,
     "metadata": {},
     "output_type": "execute_result"
    }
   ],
   "source": [
    "universe[\"training_year\"]"
   ]
  },
  {
   "cell_type": "code",
   "execution_count": 17,
   "id": "aea9c6ef-6f46-42c8-85eb-5a62025c1508",
   "metadata": {
    "execution": {
     "iopub.execute_input": "2025-07-30T13:05:02.254360Z",
     "iopub.status.busy": "2025-07-30T13:05:02.253952Z",
     "iopub.status.idle": "2025-07-30T13:05:02.926241Z",
     "shell.execute_reply": "2025-07-30T13:05:02.925302Z"
    },
    "papermill": {
     "duration": 0.695523,
     "end_time": "2025-07-30T13:05:02.928089",
     "exception": false,
     "start_time": "2025-07-30T13:05:02.232566",
     "status": "completed"
    },
    "tags": []
   },
   "outputs": [],
   "source": [
    "siab_train = sample_by_year_size(siab,\n",
    "                               training_year=universe[\"training_year\"],\n",
    "                               training_size=universe[\"training_size\"])"
   ]
  },
  {
   "cell_type": "code",
   "execution_count": 18,
   "id": "8d3afb32-789d-442c-8d5d-9f5aa8dd2eed",
   "metadata": {
    "execution": {
     "iopub.execute_input": "2025-07-30T13:05:02.969949Z",
     "iopub.status.busy": "2025-07-30T13:05:02.969280Z",
     "iopub.status.idle": "2025-07-30T13:05:02.977066Z",
     "shell.execute_reply": "2025-07-30T13:05:02.976130Z"
    },
    "papermill": {
     "duration": 0.030379,
     "end_time": "2025-07-30T13:05:02.978652",
     "exception": false,
     "start_time": "2025-07-30T13:05:02.948273",
     "status": "completed"
    },
    "tags": []
   },
   "outputs": [
    {
     "data": {
      "text/plain": [
       "(25000, 164)"
      ]
     },
     "execution_count": 18,
     "metadata": {},
     "output_type": "execute_result"
    }
   ],
   "source": [
    "siab_train.shape"
   ]
  },
  {
   "cell_type": "code",
   "execution_count": 19,
   "id": "d582db68-1a4c-47fb-84fc-08518dc1975a",
   "metadata": {
    "execution": {
     "iopub.execute_input": "2025-07-30T13:05:03.024239Z",
     "iopub.status.busy": "2025-07-30T13:05:03.023790Z",
     "iopub.status.idle": "2025-07-30T13:05:03.034586Z",
     "shell.execute_reply": "2025-07-30T13:05:03.033717Z"
    },
    "papermill": {
     "duration": 0.03556,
     "end_time": "2025-07-30T13:05:03.036449",
     "exception": false,
     "start_time": "2025-07-30T13:05:03.000889",
     "status": "completed"
    },
    "tags": []
   },
   "outputs": [
    {
     "data": {
      "text/plain": [
       "year\n",
       "2012    8334\n",
       "2013    8333\n",
       "2014    8333\n",
       "dtype: int64"
      ]
     },
     "metadata": {},
     "output_type": "display_data"
    }
   ],
   "source": [
    "display(siab_train.groupby(\"year\").size())"
   ]
  },
  {
   "cell_type": "code",
   "execution_count": 20,
   "id": "a561edb4-d032-42cb-8256-22eac1111c64",
   "metadata": {
    "execution": {
     "iopub.execute_input": "2025-07-30T13:05:03.082878Z",
     "iopub.status.busy": "2025-07-30T13:05:03.081295Z",
     "iopub.status.idle": "2025-07-30T13:05:03.327709Z",
     "shell.execute_reply": "2025-07-30T13:05:03.326780Z"
    },
    "papermill": {
     "duration": 0.270473,
     "end_time": "2025-07-30T13:05:03.329738",
     "exception": false,
     "start_time": "2025-07-30T13:05:03.059265",
     "status": "completed"
    },
    "tags": []
   },
   "outputs": [],
   "source": [
    "#siab_train = siab_s[siab_s.year < 2015]\n",
    "siab_calib = siab[siab.year == 2015]\n",
    "siab_test = siab[siab.year == 2016]"
   ]
  },
  {
   "cell_type": "code",
   "execution_count": 21,
   "id": "472de16f-c3db-4916-846b-1f0de9cf1746",
   "metadata": {
    "execution": {
     "iopub.execute_input": "2025-07-30T13:05:03.375089Z",
     "iopub.status.busy": "2025-07-30T13:05:03.374595Z",
     "iopub.status.idle": "2025-07-30T13:05:03.390066Z",
     "shell.execute_reply": "2025-07-30T13:05:03.389027Z"
    },
    "papermill": {
     "duration": 0.039558,
     "end_time": "2025-07-30T13:05:03.391680",
     "exception": false,
     "start_time": "2025-07-30T13:05:03.352122",
     "status": "completed"
    },
    "tags": []
   },
   "outputs": [],
   "source": [
    "X_train = siab_train.iloc[:,4:164]\n",
    "y_train = siab_train.iloc[:, [3]]"
   ]
  },
  {
   "cell_type": "code",
   "execution_count": 22,
   "id": "828c96af-f43a-4ed6-ba47-8ac73a47d56c",
   "metadata": {
    "execution": {
     "iopub.execute_input": "2025-07-30T13:05:03.435368Z",
     "iopub.status.busy": "2025-07-30T13:05:03.434709Z",
     "iopub.status.idle": "2025-07-30T13:05:03.485631Z",
     "shell.execute_reply": "2025-07-30T13:05:03.484607Z"
    },
    "papermill": {
     "duration": 0.074178,
     "end_time": "2025-07-30T13:05:03.487392",
     "exception": false,
     "start_time": "2025-07-30T13:05:03.413214",
     "status": "completed"
    },
    "tags": []
   },
   "outputs": [],
   "source": [
    "X_calib = siab_calib.iloc[:,4:164]\n",
    "y_calib = siab_calib.iloc[:, [3]]"
   ]
  },
  {
   "cell_type": "code",
   "execution_count": 23,
   "id": "c34be9c3-6bd6-476e-acd3-845840e303be",
   "metadata": {
    "execution": {
     "iopub.execute_input": "2025-07-30T13:05:03.535586Z",
     "iopub.status.busy": "2025-07-30T13:05:03.534892Z",
     "iopub.status.idle": "2025-07-30T13:05:03.584626Z",
     "shell.execute_reply": "2025-07-30T13:05:03.583594Z"
    },
    "papermill": {
     "duration": 0.074355,
     "end_time": "2025-07-30T13:05:03.586220",
     "exception": false,
     "start_time": "2025-07-30T13:05:03.511865",
     "status": "completed"
    },
    "tags": []
   },
   "outputs": [],
   "source": [
    "X_test = siab_test.iloc[:,4:164]\n",
    "y_true = siab_test.iloc[:, [3]]"
   ]
  },
  {
   "cell_type": "markdown",
   "id": "9901737e-04df-44f0-9100-f5ad144ed040",
   "metadata": {
    "papermill": {
     "duration": 0.02216,
     "end_time": "2025-07-30T13:05:03.630997",
     "exception": false,
     "start_time": "2025-07-30T13:05:03.608837",
     "status": "completed"
    },
    "tags": []
   },
   "source": [
    "# Splitting Data and Setting Training Data Size OLD VERSION"
   ]
  },
  {
   "cell_type": "code",
   "execution_count": 24,
   "id": "acbc8f7d-8fc8-4e86-8c59-5dcb0f58384b",
   "metadata": {
    "execution": {
     "iopub.execute_input": "2025-07-30T13:05:03.678088Z",
     "iopub.status.busy": "2025-07-30T13:05:03.677412Z",
     "iopub.status.idle": "2025-07-30T13:05:03.682838Z",
     "shell.execute_reply": "2025-07-30T13:05:03.681928Z"
    },
    "papermill": {
     "duration": 0.03072,
     "end_time": "2025-07-30T13:05:03.684513",
     "exception": false,
     "start_time": "2025-07-30T13:05:03.653793",
     "status": "completed"
    },
    "tags": []
   },
   "outputs": [],
   "source": [
    "#def sample_by_year(df, training_size, random_state=42):\n",
    "#    if training_size == \"2014\":\n",
    "#        return df[df[\"year\"] == 2014].reset_index(drop=True)\n",
    "#    \n",
    "#    size_map = {\n",
    "#        \"25k\": 5000,\n",
    "#        \"5k\": 1000,\n",
    "#        \"1k\": 200\n",
    "#    }\n",
    "#\n",
    "#    if training_size not in size_map:\n",
    "#        return df.reset_index(drop=True)  # use all data\n",
    "#\n",
    "#    n_per_year = size_map[training_size]\n",
    "#    grouped = df.groupby(\"year\")\n",
    "#    sampled = grouped.apply(lambda x: x.sample(n=min(n_per_year, len(x)), random_state=random_state))\n",
    "#    return sampled.reset_index(drop=True)"
   ]
  },
  {
   "cell_type": "code",
   "execution_count": 25,
   "id": "6d931f52-beaf-43ff-9e78-9d44a448d54e",
   "metadata": {
    "execution": {
     "iopub.execute_input": "2025-07-30T13:05:03.728760Z",
     "iopub.status.busy": "2025-07-30T13:05:03.727930Z",
     "iopub.status.idle": "2025-07-30T13:05:03.732997Z",
     "shell.execute_reply": "2025-07-30T13:05:03.732137Z"
    },
    "papermill": {
     "duration": 0.028544,
     "end_time": "2025-07-30T13:05:03.734668",
     "exception": false,
     "start_time": "2025-07-30T13:05:03.706124",
     "status": "completed"
    },
    "tags": []
   },
   "outputs": [],
   "source": [
    "#siab_s = sample_by_year(siab, universe[\"training_size\"])"
   ]
  },
  {
   "cell_type": "code",
   "execution_count": 26,
   "id": "5db0a40e-a4e2-4920-be85-b12ae061d70d",
   "metadata": {
    "execution": {
     "iopub.execute_input": "2025-07-30T13:05:03.782756Z",
     "iopub.status.busy": "2025-07-30T13:05:03.782379Z",
     "iopub.status.idle": "2025-07-30T13:05:03.787162Z",
     "shell.execute_reply": "2025-07-30T13:05:03.786186Z"
    },
    "papermill": {
     "duration": 0.030764,
     "end_time": "2025-07-30T13:05:03.788968",
     "exception": false,
     "start_time": "2025-07-30T13:05:03.758204",
     "status": "completed"
    },
    "tags": []
   },
   "outputs": [],
   "source": [
    "#display(siab_s.groupby(\"year\").size())"
   ]
  },
  {
   "cell_type": "code",
   "execution_count": 27,
   "id": "e6c733c5",
   "metadata": {
    "execution": {
     "iopub.execute_input": "2025-07-30T13:05:03.836280Z",
     "iopub.status.busy": "2025-07-30T13:05:03.835605Z",
     "iopub.status.idle": "2025-07-30T13:05:03.931311Z",
     "shell.execute_reply": "2025-07-30T13:05:03.930358Z"
    },
    "papermill": {
     "duration": 0.121524,
     "end_time": "2025-07-30T13:05:03.933194",
     "exception": false,
     "start_time": "2025-07-30T13:05:03.811670",
     "status": "completed"
    },
    "tags": []
   },
   "outputs": [],
   "source": [
    "# Auxiliary data needed downstream in the pipeline\n",
    "\n",
    "org_train = X_train.copy()\n",
    "org_test = X_test.copy()\n",
    "org_calib = X_calib.copy()"
   ]
  },
  {
   "cell_type": "code",
   "execution_count": 28,
   "id": "1466abac-c6da-4492-a62f-4240ae3783af",
   "metadata": {
    "execution": {
     "iopub.execute_input": "2025-07-30T13:05:03.979853Z",
     "iopub.status.busy": "2025-07-30T13:05:03.979157Z",
     "iopub.status.idle": "2025-07-30T13:05:03.985324Z",
     "shell.execute_reply": "2025-07-30T13:05:03.984355Z"
    },
    "papermill": {
     "duration": 0.031603,
     "end_time": "2025-07-30T13:05:03.987260",
     "exception": false,
     "start_time": "2025-07-30T13:05:03.955657",
     "status": "completed"
    },
    "tags": []
   },
   "outputs": [],
   "source": [
    "# put in other script?\n",
    "# Group sizes\n",
    "\n",
    "#def calculate_percentages(df, df_name):\n",
    "#    total_entries = len(df)\n",
    "#\n",
    "#    female_pct = (df['frau1'] == 1).mean() * 100\n",
    "#    non_german_pct = ((df['maxdeutsch1'] == 0) & (df['maxdeutsch.Missing.'] == 0)).mean() * 100\n",
    "#    non_german_male_pct = ((df['frau1'] == 0) & (df['maxdeutsch1'] == 0) & (df['maxdeutsch.Missing.'] == 0)).mean() * 100\n",
    "#    non_german_female_pct = ((df['frau1'] == 1) & (df['maxdeutsch1'] == 0) & (df['maxdeutsch.Missing.'] == 0)).mean() * 100\n",
    "#\n",
    "#    print(f\"--- {df_name} ---\")\n",
    "#    print(f\"Female: {female_pct:.2f}%\")\n",
    "#    print(f\"Non-German: {non_german_pct:.2f}%\")\n",
    "#    print(f\"Non-German Male: {non_german_male_pct:.2f}%\")\n",
    "#    print(f\"Non-German Female: {non_german_female_pct:.2f}%\\n\")\n",
    "#\n",
    "## Calculate for each DataFrame\n",
    "#calculate_percentages(siab_calib, \"siab_calib\")\n",
    "#calculate_percentages(siab_test, \"siab_test\")\n",
    "#calculate_percentages(siab_train, \"siab_train\")"
   ]
  },
  {
   "cell_type": "markdown",
   "id": "0a4a1b33",
   "metadata": {
    "papermill": {
     "duration": 0.02226,
     "end_time": "2025-07-30T13:05:04.033648",
     "exception": false,
     "start_time": "2025-07-30T13:05:04.011388",
     "status": "completed"
    },
    "tags": []
   },
   "source": [
    "# Preprocessing Data"
   ]
  },
  {
   "cell_type": "code",
   "execution_count": 29,
   "id": "ca879031",
   "metadata": {
    "execution": {
     "iopub.execute_input": "2025-07-30T13:05:04.082382Z",
     "iopub.status.busy": "2025-07-30T13:05:04.081074Z",
     "iopub.status.idle": "2025-07-30T13:05:04.087989Z",
     "shell.execute_reply": "2025-07-30T13:05:04.086872Z"
    },
    "papermill": {
     "duration": 0.033444,
     "end_time": "2025-07-30T13:05:04.090080",
     "exception": false,
     "start_time": "2025-07-30T13:05:04.056636",
     "status": "completed"
    },
    "tags": []
   },
   "outputs": [],
   "source": [
    "# EXCLUDE PROTECTED FEATURES\n",
    "# ----------------------\n",
    "# \"exclude_features\": \"none\", # \"nationality\", \"sex\", \"nationality-sex\"\n",
    "\n",
    "excluded_features = universe[\"exclude_features\"].split(\"-\") # split, e.g.: \"nationality-sex\" -> [\"nationality\", \"sex\"]\n",
    "excluded_features_dictionary = {\n",
    "    \"nationality\": [\"maxdeutsch1\", \"maxdeutsch.Missing.\"],\n",
    "    \"sex\": [\"frau1\"],\n",
    "    \"age\": [\"age\"],\n",
    "}\n"
   ]
  },
  {
   "cell_type": "code",
   "execution_count": 30,
   "id": "b745ac60",
   "metadata": {
    "execution": {
     "iopub.execute_input": "2025-07-30T13:05:04.137111Z",
     "iopub.status.busy": "2025-07-30T13:05:04.136609Z",
     "iopub.status.idle": "2025-07-30T13:05:04.142337Z",
     "shell.execute_reply": "2025-07-30T13:05:04.141417Z"
    },
    "papermill": {
     "duration": 0.031281,
     "end_time": "2025-07-30T13:05:04.143912",
     "exception": false,
     "start_time": "2025-07-30T13:05:04.112631",
     "status": "completed"
    },
    "tags": []
   },
   "outputs": [],
   "source": [
    "# Code nice names to column names\n",
    "\n",
    "excluded_features_columns = [\n",
    "    excluded_features_dictionary[f] for f in excluded_features if len(f) > 0 and f != \"none\"\n",
    "]"
   ]
  },
  {
   "cell_type": "code",
   "execution_count": 31,
   "id": "f84f73a2",
   "metadata": {
    "execution": {
     "iopub.execute_input": "2025-07-30T13:05:04.187987Z",
     "iopub.status.busy": "2025-07-30T13:05:04.187027Z",
     "iopub.status.idle": "2025-07-30T13:05:04.193559Z",
     "shell.execute_reply": "2025-07-30T13:05:04.192690Z"
    },
    "papermill": {
     "duration": 0.029685,
     "end_time": "2025-07-30T13:05:04.195297",
     "exception": false,
     "start_time": "2025-07-30T13:05:04.165612",
     "status": "completed"
    },
    "tags": []
   },
   "outputs": [],
   "source": [
    "from utils import flatten_once\n",
    "\n",
    "excluded_features_columns = flatten_once(excluded_features_columns)"
   ]
  },
  {
   "cell_type": "code",
   "execution_count": 32,
   "id": "884dea22",
   "metadata": {
    "execution": {
     "iopub.execute_input": "2025-07-30T13:05:04.241535Z",
     "iopub.status.busy": "2025-07-30T13:05:04.240835Z",
     "iopub.status.idle": "2025-07-30T13:05:04.266875Z",
     "shell.execute_reply": "2025-07-30T13:05:04.265874Z"
    },
    "papermill": {
     "duration": 0.051196,
     "end_time": "2025-07-30T13:05:04.268754",
     "exception": false,
     "start_time": "2025-07-30T13:05:04.217558",
     "status": "completed"
    },
    "tags": []
   },
   "outputs": [
    {
     "name": "stdout",
     "output_type": "stream",
     "text": [
      "Dropping features: ['age']\n"
     ]
    }
   ],
   "source": [
    "if len(excluded_features_columns) > 0:\n",
    "    print(f\"Dropping features: {excluded_features_columns}\")\n",
    "    X_train.drop(excluded_features_columns, axis=1, inplace=True)"
   ]
  },
  {
   "cell_type": "code",
   "execution_count": 33,
   "id": "95ab8b16",
   "metadata": {
    "execution": {
     "iopub.execute_input": "2025-07-30T13:05:04.318967Z",
     "iopub.status.busy": "2025-07-30T13:05:04.318302Z",
     "iopub.status.idle": "2025-07-30T13:05:04.370146Z",
     "shell.execute_reply": "2025-07-30T13:05:04.369166Z"
    },
    "papermill": {
     "duration": 0.078604,
     "end_time": "2025-07-30T13:05:04.372120",
     "exception": false,
     "start_time": "2025-07-30T13:05:04.293516",
     "status": "completed"
    },
    "tags": []
   },
   "outputs": [
    {
     "name": "stdout",
     "output_type": "stream",
     "text": [
      "Dropping features: ['age']\n"
     ]
    }
   ],
   "source": [
    "if len(excluded_features_columns) > 0:\n",
    "    print(f\"Dropping features: {excluded_features_columns}\")\n",
    "    X_test.drop(excluded_features_columns, axis=1, inplace=True)"
   ]
  },
  {
   "cell_type": "code",
   "execution_count": 34,
   "id": "1853aaf5-fb9f-46cb-a2b5-8ea4ae2237e4",
   "metadata": {
    "execution": {
     "iopub.execute_input": "2025-07-30T13:05:04.421956Z",
     "iopub.status.busy": "2025-07-30T13:05:04.421311Z",
     "iopub.status.idle": "2025-07-30T13:05:04.490255Z",
     "shell.execute_reply": "2025-07-30T13:05:04.489161Z"
    },
    "papermill": {
     "duration": 0.09295,
     "end_time": "2025-07-30T13:05:04.492166",
     "exception": false,
     "start_time": "2025-07-30T13:05:04.399216",
     "status": "completed"
    },
    "tags": []
   },
   "outputs": [
    {
     "name": "stdout",
     "output_type": "stream",
     "text": [
      "Dropping features: ['age']\n"
     ]
    }
   ],
   "source": [
    "if len(excluded_features_columns) > 0:\n",
    "    print(f\"Dropping features: {excluded_features_columns}\")\n",
    "    X_calib.drop(excluded_features_columns, axis=1, inplace=True)"
   ]
  },
  {
   "cell_type": "code",
   "execution_count": 35,
   "id": "6727d079-03e5-481e-9d38-292a90b7a0a8",
   "metadata": {
    "execution": {
     "iopub.execute_input": "2025-07-30T13:05:04.537477Z",
     "iopub.status.busy": "2025-07-30T13:05:04.536827Z",
     "iopub.status.idle": "2025-07-30T13:05:04.541601Z",
     "shell.execute_reply": "2025-07-30T13:05:04.540722Z"
    },
    "papermill": {
     "duration": 0.029219,
     "end_time": "2025-07-30T13:05:04.543312",
     "exception": false,
     "start_time": "2025-07-30T13:05:04.514093",
     "status": "completed"
    },
    "tags": []
   },
   "outputs": [],
   "source": [
    "# SPLIT & STRATIFY DATA\n",
    "# ----------------------"
   ]
  },
  {
   "cell_type": "code",
   "execution_count": 36,
   "id": "76c4dc6d",
   "metadata": {
    "execution": {
     "iopub.execute_input": "2025-07-30T13:05:04.589585Z",
     "iopub.status.busy": "2025-07-30T13:05:04.589127Z",
     "iopub.status.idle": "2025-07-30T13:05:04.594742Z",
     "shell.execute_reply": "2025-07-30T13:05:04.593870Z"
    },
    "papermill": {
     "duration": 0.030482,
     "end_time": "2025-07-30T13:05:04.596730",
     "exception": false,
     "start_time": "2025-07-30T13:05:04.566248",
     "status": "completed"
    },
    "tags": []
   },
   "outputs": [],
   "source": [
    "# EXCLUDE CERTAIN SUBGROUPS\n",
    "# ----------------------\n",
    "\n",
    "mode = universe.get(\"exclude_subgroups\", \"keep-all\") \n",
    "# Fetches the exclude_subgroups setting from the universe dict.\n",
    "# Defaults to \"keep-all\" if the key is missing."
   ]
  },
  {
   "cell_type": "code",
   "execution_count": 37,
   "id": "21994072",
   "metadata": {
    "execution": {
     "iopub.execute_input": "2025-07-30T13:05:04.641672Z",
     "iopub.status.busy": "2025-07-30T13:05:04.641221Z",
     "iopub.status.idle": "2025-07-30T13:05:04.648258Z",
     "shell.execute_reply": "2025-07-30T13:05:04.647336Z"
    },
    "papermill": {
     "duration": 0.030646,
     "end_time": "2025-07-30T13:05:04.649738",
     "exception": false,
     "start_time": "2025-07-30T13:05:04.619092",
     "status": "completed"
    },
    "tags": []
   },
   "outputs": [],
   "source": [
    "if mode == \"keep-all\":\n",
    "    keep_mask = pd.Series(True, index=org_train.index)\n",
    "\n",
    "# org_train contains the original feature columns from features_org (in Simson)\n",
    "# features_org contains unprocessed features, for me X_train at beginning ???\n",
    "# For keep-all, creates a boolean Series (keep_mask) of all True, so no rows are removed.\n",
    "\n",
    "elif mode == \"drop-non-german\":\n",
    "    keep_mask = org_train[\"maxdeutsch1\"] == 1 # ??? what about missing values?\n",
    "\n",
    "else:\n",
    "    raise ValueError(f\"Unsupported mode for exclude_subgroups: {mode}\")\n"
   ]
  },
  {
   "cell_type": "code",
   "execution_count": 38,
   "id": "71651440",
   "metadata": {
    "execution": {
     "iopub.execute_input": "2025-07-30T13:05:04.695099Z",
     "iopub.status.busy": "2025-07-30T13:05:04.694471Z",
     "iopub.status.idle": "2025-07-30T13:05:04.701123Z",
     "shell.execute_reply": "2025-07-30T13:05:04.700244Z"
    },
    "papermill": {
     "duration": 0.03065,
     "end_time": "2025-07-30T13:05:04.702786",
     "exception": false,
     "start_time": "2025-07-30T13:05:04.672136",
     "status": "completed"
    },
    "tags": []
   },
   "outputs": [],
   "source": [
    "n_drop = (~keep_mask).sum() # Calculates how many rows are set to be dropped\n",
    "if n_drop > 0:\n",
    "    pct = n_drop / len(keep_mask) * 100\n",
    "    print(f\"Dropping {n_drop} rows ({pct:.2f}%) where mode='{mode}'\")"
   ]
  },
  {
   "cell_type": "code",
   "execution_count": 39,
   "id": "5fb8eee5",
   "metadata": {
    "execution": {
     "iopub.execute_input": "2025-07-30T13:05:04.748310Z",
     "iopub.status.busy": "2025-07-30T13:05:04.747601Z",
     "iopub.status.idle": "2025-07-30T13:05:04.764519Z",
     "shell.execute_reply": "2025-07-30T13:05:04.763207Z"
    },
    "papermill": {
     "duration": 0.04098,
     "end_time": "2025-07-30T13:05:04.766520",
     "exception": false,
     "start_time": "2025-07-30T13:05:04.725540",
     "status": "completed"
    },
    "tags": []
   },
   "outputs": [],
   "source": [
    "X_train = X_train[keep_mask]"
   ]
  },
  {
   "cell_type": "code",
   "execution_count": 40,
   "id": "b202bb3a",
   "metadata": {
    "execution": {
     "iopub.execute_input": "2025-07-30T13:05:04.812800Z",
     "iopub.status.busy": "2025-07-30T13:05:04.811963Z",
     "iopub.status.idle": "2025-07-30T13:05:04.818267Z",
     "shell.execute_reply": "2025-07-30T13:05:04.817280Z"
    },
    "papermill": {
     "duration": 0.031005,
     "end_time": "2025-07-30T13:05:04.820167",
     "exception": false,
     "start_time": "2025-07-30T13:05:04.789162",
     "status": "completed"
    },
    "tags": []
   },
   "outputs": [],
   "source": [
    "y_train = y_train[keep_mask]"
   ]
  },
  {
   "cell_type": "markdown",
   "id": "493e2ac3",
   "metadata": {
    "papermill": {
     "duration": 0.026587,
     "end_time": "2025-07-30T13:05:04.871754",
     "exception": false,
     "start_time": "2025-07-30T13:05:04.845167",
     "status": "completed"
    },
    "tags": []
   },
   "source": [
    "# Model Training"
   ]
  },
  {
   "cell_type": "code",
   "execution_count": 41,
   "id": "679e1268",
   "metadata": {
    "execution": {
     "iopub.execute_input": "2025-07-30T13:05:04.933619Z",
     "iopub.status.busy": "2025-07-30T13:05:04.932863Z",
     "iopub.status.idle": "2025-07-30T13:05:05.042341Z",
     "shell.execute_reply": "2025-07-30T13:05:05.041472Z"
    },
    "papermill": {
     "duration": 0.142598,
     "end_time": "2025-07-30T13:05:05.044165",
     "exception": false,
     "start_time": "2025-07-30T13:05:04.901567",
     "status": "completed"
    },
    "tags": []
   },
   "outputs": [],
   "source": [
    "from sklearn.linear_model import LogisticRegression\n",
    "from sklearn.ensemble import GradientBoostingClassifier, RandomForestClassifier\n",
    "\n",
    "if (universe[\"model\"] == \"logreg\"):\n",
    "    model = LogisticRegression() #penalty=\"none\") #, solver=\"newton-cg\", max_iter=1) # include random_state=19 ?\n",
    "elif (universe[\"model\"] == \"penalized_logreg\"):\n",
    "    model = LogisticRegression(penalty=\"l2\", C=1.0) #, solver=\"newton-cg\", max_iter=1)\n",
    "elif (universe[\"model\"] == \"rf\"):\n",
    "    model = RandomForestClassifier(n_estimators=100, n_jobs=-1)\n",
    "elif (universe[\"model\"] == \"gbm\"):\n",
    "    model = GradientBoostingClassifier()\n",
    "elif (universe[\"model\"] == \"elasticnet\"):\n",
    "    model = LogisticRegression(penalty = 'elasticnet', solver = 'saga', l1_ratio = 0.5, max_iter=5000) # which solver to use?\n",
    "else:\n",
    "    raise \"Unsupported universe.model\""
   ]
  },
  {
   "cell_type": "code",
   "execution_count": 42,
   "id": "0cc8f744",
   "metadata": {
    "execution": {
     "iopub.execute_input": "2025-07-30T13:05:05.090429Z",
     "iopub.status.busy": "2025-07-30T13:05:05.089965Z",
     "iopub.status.idle": "2025-07-30T13:05:05.096573Z",
     "shell.execute_reply": "2025-07-30T13:05:05.095656Z"
    },
    "papermill": {
     "duration": 0.031505,
     "end_time": "2025-07-30T13:05:05.098017",
     "exception": false,
     "start_time": "2025-07-30T13:05:05.066512",
     "status": "completed"
    },
    "tags": []
   },
   "outputs": [],
   "source": [
    "import numpy as np\n",
    "from sklearn.pipeline import Pipeline\n",
    "from sklearn.preprocessing import StandardScaler\n",
    "\n",
    "model = Pipeline([\n",
    "    #(\"continuous_processor\", continuous_processor),\n",
    "    #(\"categorical_preprocessor\", categorical_preprocessor),\n",
    "    (\"scale\", StandardScaler() if universe[\"scale\"] == \"scale\" else None), \n",
    "    (\"model\", model),\n",
    "])"
   ]
  },
  {
   "cell_type": "code",
   "execution_count": 43,
   "id": "9442c04d",
   "metadata": {
    "execution": {
     "iopub.execute_input": "2025-07-30T13:05:05.144892Z",
     "iopub.status.busy": "2025-07-30T13:05:05.143982Z",
     "iopub.status.idle": "2025-07-30T13:05:06.020248Z",
     "shell.execute_reply": "2025-07-30T13:05:06.019362Z"
    },
    "papermill": {
     "duration": 0.900871,
     "end_time": "2025-07-30T13:05:06.021785",
     "exception": false,
     "start_time": "2025-07-30T13:05:05.120914",
     "status": "completed"
    },
    "tags": []
   },
   "outputs": [
    {
     "name": "stderr",
     "output_type": "stream",
     "text": [
      "/dss/dsshome1/0C/ra93lal2/.local/share/virtualenvs/CMA_Fairness_v2-3j10GkSs/lib/python3.10/site-packages/sklearn/linear_model/_logistic.py:444: ConvergenceWarning: lbfgs failed to converge (status=1):\n",
      "STOP: TOTAL NO. of ITERATIONS REACHED LIMIT.\n",
      "\n",
      "Increase the number of iterations (max_iter) or scale the data as shown in:\n",
      "    https://scikit-learn.org/stable/modules/preprocessing.html\n",
      "Please also refer to the documentation for alternative solver options:\n",
      "    https://scikit-learn.org/stable/modules/linear_model.html#logistic-regression\n",
      "  n_iter_i = _check_optimize_result(\n"
     ]
    },
    {
     "data": {
      "text/html": [
       "<style>#sk-container-id-1 {color: black;background-color: white;}#sk-container-id-1 pre{padding: 0;}#sk-container-id-1 div.sk-toggleable {background-color: white;}#sk-container-id-1 label.sk-toggleable__label {cursor: pointer;display: block;width: 100%;margin-bottom: 0;padding: 0.3em;box-sizing: border-box;text-align: center;}#sk-container-id-1 label.sk-toggleable__label-arrow:before {content: \"▸\";float: left;margin-right: 0.25em;color: #696969;}#sk-container-id-1 label.sk-toggleable__label-arrow:hover:before {color: black;}#sk-container-id-1 div.sk-estimator:hover label.sk-toggleable__label-arrow:before {color: black;}#sk-container-id-1 div.sk-toggleable__content {max-height: 0;max-width: 0;overflow: hidden;text-align: left;background-color: #f0f8ff;}#sk-container-id-1 div.sk-toggleable__content pre {margin: 0.2em;color: black;border-radius: 0.25em;background-color: #f0f8ff;}#sk-container-id-1 input.sk-toggleable__control:checked~div.sk-toggleable__content {max-height: 200px;max-width: 100%;overflow: auto;}#sk-container-id-1 input.sk-toggleable__control:checked~label.sk-toggleable__label-arrow:before {content: \"▾\";}#sk-container-id-1 div.sk-estimator input.sk-toggleable__control:checked~label.sk-toggleable__label {background-color: #d4ebff;}#sk-container-id-1 div.sk-label input.sk-toggleable__control:checked~label.sk-toggleable__label {background-color: #d4ebff;}#sk-container-id-1 input.sk-hidden--visually {border: 0;clip: rect(1px 1px 1px 1px);clip: rect(1px, 1px, 1px, 1px);height: 1px;margin: -1px;overflow: hidden;padding: 0;position: absolute;width: 1px;}#sk-container-id-1 div.sk-estimator {font-family: monospace;background-color: #f0f8ff;border: 1px dotted black;border-radius: 0.25em;box-sizing: border-box;margin-bottom: 0.5em;}#sk-container-id-1 div.sk-estimator:hover {background-color: #d4ebff;}#sk-container-id-1 div.sk-parallel-item::after {content: \"\";width: 100%;border-bottom: 1px solid gray;flex-grow: 1;}#sk-container-id-1 div.sk-label:hover label.sk-toggleable__label {background-color: #d4ebff;}#sk-container-id-1 div.sk-serial::before {content: \"\";position: absolute;border-left: 1px solid gray;box-sizing: border-box;top: 0;bottom: 0;left: 50%;z-index: 0;}#sk-container-id-1 div.sk-serial {display: flex;flex-direction: column;align-items: center;background-color: white;padding-right: 0.2em;padding-left: 0.2em;position: relative;}#sk-container-id-1 div.sk-item {position: relative;z-index: 1;}#sk-container-id-1 div.sk-parallel {display: flex;align-items: stretch;justify-content: center;background-color: white;position: relative;}#sk-container-id-1 div.sk-item::before, #sk-container-id-1 div.sk-parallel-item::before {content: \"\";position: absolute;border-left: 1px solid gray;box-sizing: border-box;top: 0;bottom: 0;left: 50%;z-index: -1;}#sk-container-id-1 div.sk-parallel-item {display: flex;flex-direction: column;z-index: 1;position: relative;background-color: white;}#sk-container-id-1 div.sk-parallel-item:first-child::after {align-self: flex-end;width: 50%;}#sk-container-id-1 div.sk-parallel-item:last-child::after {align-self: flex-start;width: 50%;}#sk-container-id-1 div.sk-parallel-item:only-child::after {width: 0;}#sk-container-id-1 div.sk-dashed-wrapped {border: 1px dashed gray;margin: 0 0.4em 0.5em 0.4em;box-sizing: border-box;padding-bottom: 0.4em;background-color: white;}#sk-container-id-1 div.sk-label label {font-family: monospace;font-weight: bold;display: inline-block;line-height: 1.2em;}#sk-container-id-1 div.sk-label-container {text-align: center;}#sk-container-id-1 div.sk-container {/* jupyter's `normalize.less` sets `[hidden] { display: none; }` but bootstrap.min.css set `[hidden] { display: none !important; }` so we also need the `!important` here to be able to override the default hidden behavior on the sphinx rendered scikit-learn.org. See: https://github.com/scikit-learn/scikit-learn/issues/21755 */display: inline-block !important;position: relative;}#sk-container-id-1 div.sk-text-repr-fallback {display: none;}</style><div id=\"sk-container-id-1\" class=\"sk-top-container\"><div class=\"sk-text-repr-fallback\"><pre>Pipeline(steps=[(&#x27;scale&#x27;, StandardScaler()), (&#x27;model&#x27;, LogisticRegression())])</pre><b>In a Jupyter environment, please rerun this cell to show the HTML representation or trust the notebook. <br />On GitHub, the HTML representation is unable to render, please try loading this page with nbviewer.org.</b></div><div class=\"sk-container\" hidden><div class=\"sk-item sk-dashed-wrapped\"><div class=\"sk-label-container\"><div class=\"sk-label sk-toggleable\"><input class=\"sk-toggleable__control sk-hidden--visually\" id=\"sk-estimator-id-1\" type=\"checkbox\" ><label for=\"sk-estimator-id-1\" class=\"sk-toggleable__label sk-toggleable__label-arrow\">Pipeline</label><div class=\"sk-toggleable__content\"><pre>Pipeline(steps=[(&#x27;scale&#x27;, StandardScaler()), (&#x27;model&#x27;, LogisticRegression())])</pre></div></div></div><div class=\"sk-serial\"><div class=\"sk-item\"><div class=\"sk-estimator sk-toggleable\"><input class=\"sk-toggleable__control sk-hidden--visually\" id=\"sk-estimator-id-2\" type=\"checkbox\" ><label for=\"sk-estimator-id-2\" class=\"sk-toggleable__label sk-toggleable__label-arrow\">StandardScaler</label><div class=\"sk-toggleable__content\"><pre>StandardScaler()</pre></div></div></div><div class=\"sk-item\"><div class=\"sk-estimator sk-toggleable\"><input class=\"sk-toggleable__control sk-hidden--visually\" id=\"sk-estimator-id-3\" type=\"checkbox\" ><label for=\"sk-estimator-id-3\" class=\"sk-toggleable__label sk-toggleable__label-arrow\">LogisticRegression</label><div class=\"sk-toggleable__content\"><pre>LogisticRegression()</pre></div></div></div></div></div></div></div>"
      ],
      "text/plain": [
       "Pipeline(steps=[('scale', StandardScaler()), ('model', LogisticRegression())])"
      ]
     },
     "execution_count": 43,
     "metadata": {},
     "output_type": "execute_result"
    }
   ],
   "source": [
    "model.fit(X_train, y_train.values.ravel())"
   ]
  },
  {
   "cell_type": "code",
   "execution_count": 44,
   "id": "af59f8c0",
   "metadata": {
    "execution": {
     "iopub.execute_input": "2025-07-30T13:05:06.068852Z",
     "iopub.status.busy": "2025-07-30T13:05:06.068178Z",
     "iopub.status.idle": "2025-07-30T13:05:06.073388Z",
     "shell.execute_reply": "2025-07-30T13:05:06.072475Z"
    },
    "papermill": {
     "duration": 0.030495,
     "end_time": "2025-07-30T13:05:06.074892",
     "exception": false,
     "start_time": "2025-07-30T13:05:06.044397",
     "status": "completed"
    },
    "tags": []
   },
   "outputs": [],
   "source": [
    "from fairness_multiverse.universe import predict_w_threshold"
   ]
  },
  {
   "cell_type": "code",
   "execution_count": 45,
   "id": "a7cf2e16",
   "metadata": {
    "execution": {
     "iopub.execute_input": "2025-07-30T13:05:06.122301Z",
     "iopub.status.busy": "2025-07-30T13:05:06.121649Z",
     "iopub.status.idle": "2025-07-30T13:05:06.309887Z",
     "shell.execute_reply": "2025-07-30T13:05:06.308993Z"
    },
    "papermill": {
     "duration": 0.21315,
     "end_time": "2025-07-30T13:05:06.311601",
     "exception": false,
     "start_time": "2025-07-30T13:05:06.098451",
     "status": "completed"
    },
    "tags": []
   },
   "outputs": [
    {
     "data": {
      "text/plain": [
       "0.860706721658678"
      ]
     },
     "execution_count": 45,
     "metadata": {},
     "output_type": "execute_result"
    }
   ],
   "source": [
    "probs_test = model.predict_proba(X_test)\n",
    "\n",
    "'''\n",
    "Below code returns a boolean array (or binary 0/1 array depending on how it’s used) where each element \n",
    "is True if the probability of class 1 is greater than or equal to the threshold, and False otherwise.\n",
    "'''\n",
    "y_pred_default = predict_w_threshold(probs_test, 0.5)\n",
    "\n",
    "from sklearn.metrics import accuracy_score\n",
    "\n",
    "# Naive prediction\n",
    "accuracy_score(y_true = y_true, y_pred = y_pred_default)"
   ]
  },
  {
   "cell_type": "code",
   "execution_count": 46,
   "id": "081964c3",
   "metadata": {
    "execution": {
     "iopub.execute_input": "2025-07-30T13:05:06.358638Z",
     "iopub.status.busy": "2025-07-30T13:05:06.357949Z",
     "iopub.status.idle": "2025-07-30T13:05:06.534100Z",
     "shell.execute_reply": "2025-07-30T13:05:06.533208Z"
    },
    "papermill": {
     "duration": 0.201409,
     "end_time": "2025-07-30T13:05:06.535766",
     "exception": false,
     "start_time": "2025-07-30T13:05:06.334357",
     "status": "completed"
    },
    "tags": []
   },
   "outputs": [
    {
     "data": {
      "text/plain": [
       "array([0, 0, 0, ..., 0, 0, 0])"
      ]
     },
     "execution_count": 46,
     "metadata": {},
     "output_type": "execute_result"
    }
   ],
   "source": [
    "model.predict(X_test)"
   ]
  },
  {
   "cell_type": "markdown",
   "id": "56c9705b",
   "metadata": {
    "papermill": {
     "duration": 0.022633,
     "end_time": "2025-07-30T13:05:06.581482",
     "exception": false,
     "start_time": "2025-07-30T13:05:06.558849",
     "status": "completed"
    },
    "tags": []
   },
   "source": [
    "# Conformal Prediction"
   ]
  },
  {
   "cell_type": "code",
   "execution_count": 47,
   "id": "160ec6ff",
   "metadata": {
    "execution": {
     "iopub.execute_input": "2025-07-30T13:05:06.628504Z",
     "iopub.status.busy": "2025-07-30T13:05:06.627971Z",
     "iopub.status.idle": "2025-07-30T13:05:06.634192Z",
     "shell.execute_reply": "2025-07-30T13:05:06.632952Z"
    },
    "papermill": {
     "duration": 0.032952,
     "end_time": "2025-07-30T13:05:06.636950",
     "exception": false,
     "start_time": "2025-07-30T13:05:06.603998",
     "status": "completed"
    },
    "tags": []
   },
   "outputs": [],
   "source": [
    "# Miscoverage level for conformal prediction (10% allowed error rate => 90% target coverage)\n",
    "alpha = 0.1"
   ]
  },
  {
   "cell_type": "code",
   "execution_count": 48,
   "id": "eadf4555-3dd3-440e-8e35-f82a4ad9f855",
   "metadata": {
    "execution": {
     "iopub.execute_input": "2025-07-30T13:05:06.695669Z",
     "iopub.status.busy": "2025-07-30T13:05:06.695248Z",
     "iopub.status.idle": "2025-07-30T13:05:06.870362Z",
     "shell.execute_reply": "2025-07-30T13:05:06.869607Z"
    },
    "papermill": {
     "duration": 0.201439,
     "end_time": "2025-07-30T13:05:06.871815",
     "exception": false,
     "start_time": "2025-07-30T13:05:06.670376",
     "status": "completed"
    },
    "tags": []
   },
   "outputs": [],
   "source": [
    "probs_calib = model.predict_proba(X_calib)"
   ]
  },
  {
   "cell_type": "code",
   "execution_count": 49,
   "id": "2ed93547-6d5d-4983-9b36-1ecb300da49a",
   "metadata": {
    "execution": {
     "iopub.execute_input": "2025-07-30T13:05:06.902040Z",
     "iopub.status.busy": "2025-07-30T13:05:06.901621Z",
     "iopub.status.idle": "2025-07-30T13:05:06.905986Z",
     "shell.execute_reply": "2025-07-30T13:05:06.905281Z"
    },
    "papermill": {
     "duration": 0.019184,
     "end_time": "2025-07-30T13:05:06.907288",
     "exception": false,
     "start_time": "2025-07-30T13:05:06.888104",
     "status": "completed"
    },
    "tags": []
   },
   "outputs": [],
   "source": [
    "y_calib = y_calib.values.ravel().astype(int)"
   ]
  },
  {
   "cell_type": "code",
   "execution_count": 50,
   "id": "65d1320d-f588-4b38-9072-62af1ae97f7d",
   "metadata": {
    "execution": {
     "iopub.execute_input": "2025-07-30T13:05:06.938641Z",
     "iopub.status.busy": "2025-07-30T13:05:06.938227Z",
     "iopub.status.idle": "2025-07-30T13:05:06.944906Z",
     "shell.execute_reply": "2025-07-30T13:05:06.944116Z"
    },
    "papermill": {
     "duration": 0.025084,
     "end_time": "2025-07-30T13:05:06.946237",
     "exception": false,
     "start_time": "2025-07-30T13:05:06.921153",
     "status": "completed"
    },
    "tags": []
   },
   "outputs": [],
   "source": [
    "from fairness_multiverse.conformal import compute_nc_scores\n",
    "\n",
    "# Compute nonconformity scores on calibration set (1 - probability of true class)\n",
    "nc_scores = compute_nc_scores(probs_calib, y_calib)"
   ]
  },
  {
   "cell_type": "code",
   "execution_count": 51,
   "id": "df3b8ca3-53b7-43d5-9667-7c85da7aeda2",
   "metadata": {
    "execution": {
     "iopub.execute_input": "2025-07-30T13:05:06.973054Z",
     "iopub.status.busy": "2025-07-30T13:05:06.972552Z",
     "iopub.status.idle": "2025-07-30T13:05:06.977977Z",
     "shell.execute_reply": "2025-07-30T13:05:06.977296Z"
    },
    "papermill": {
     "duration": 0.019915,
     "end_time": "2025-07-30T13:05:06.979446",
     "exception": false,
     "start_time": "2025-07-30T13:05:06.959531",
     "status": "completed"
    },
    "tags": []
   },
   "outputs": [],
   "source": [
    "from fairness_multiverse.conformal import find_threshold\n",
    "\n",
    "# Find conformal threshold q_hat for the given alpha (split conformal method)\n",
    "q_hat = find_threshold(nc_scores, alpha)"
   ]
  },
  {
   "cell_type": "code",
   "execution_count": 52,
   "id": "4d29e6c1-0ef6-4aa4-b8fe-4fe79b0d033a",
   "metadata": {
    "execution": {
     "iopub.execute_input": "2025-07-30T13:05:07.006500Z",
     "iopub.status.busy": "2025-07-30T13:05:07.005905Z",
     "iopub.status.idle": "2025-07-30T13:05:07.013336Z",
     "shell.execute_reply": "2025-07-30T13:05:07.012281Z"
    },
    "papermill": {
     "duration": 0.022179,
     "end_time": "2025-07-30T13:05:07.015113",
     "exception": false,
     "start_time": "2025-07-30T13:05:06.992934",
     "status": "completed"
    },
    "tags": []
   },
   "outputs": [
    {
     "data": {
      "text/plain": [
       "0.6669216713484384"
      ]
     },
     "execution_count": 52,
     "metadata": {},
     "output_type": "execute_result"
    }
   ],
   "source": [
    "q_hat"
   ]
  },
  {
   "cell_type": "code",
   "execution_count": 53,
   "id": "92460794-cdac-4be2-ba28-f28c0515a6fb",
   "metadata": {
    "execution": {
     "iopub.execute_input": "2025-07-30T13:05:07.046931Z",
     "iopub.status.busy": "2025-07-30T13:05:07.046559Z",
     "iopub.status.idle": "2025-07-30T13:05:07.674812Z",
     "shell.execute_reply": "2025-07-30T13:05:07.673722Z"
    },
    "papermill": {
     "duration": 0.643648,
     "end_time": "2025-07-30T13:05:07.677145",
     "exception": false,
     "start_time": "2025-07-30T13:05:07.033497",
     "status": "completed"
    },
    "tags": []
   },
   "outputs": [],
   "source": [
    "from fairness_multiverse.conformal import predict_conformal_sets\n",
    "\n",
    "# Generate prediction sets for each test example\n",
    "pred_sets = predict_conformal_sets(model, X_test, q_hat)"
   ]
  },
  {
   "cell_type": "code",
   "execution_count": 54,
   "id": "d90c9a65-e6db-4f5d-80cd-e68fb7e46829",
   "metadata": {
    "execution": {
     "iopub.execute_input": "2025-07-30T13:05:07.750130Z",
     "iopub.status.busy": "2025-07-30T13:05:07.749247Z",
     "iopub.status.idle": "2025-07-30T13:05:07.754658Z",
     "shell.execute_reply": "2025-07-30T13:05:07.753780Z"
    },
    "papermill": {
     "duration": 0.042538,
     "end_time": "2025-07-30T13:05:07.756399",
     "exception": false,
     "start_time": "2025-07-30T13:05:07.713861",
     "status": "completed"
    },
    "tags": []
   },
   "outputs": [],
   "source": [
    "y_true = y_true.squeeze()"
   ]
  },
  {
   "cell_type": "code",
   "execution_count": 55,
   "id": "3a58a54a-1e68-46b9-927a-df01f18aebc8",
   "metadata": {
    "execution": {
     "iopub.execute_input": "2025-07-30T13:05:07.813424Z",
     "iopub.status.busy": "2025-07-30T13:05:07.812911Z",
     "iopub.status.idle": "2025-07-30T13:05:08.689836Z",
     "shell.execute_reply": "2025-07-30T13:05:08.688839Z"
    },
    "papermill": {
     "duration": 0.906805,
     "end_time": "2025-07-30T13:05:08.691398",
     "exception": false,
     "start_time": "2025-07-30T13:05:07.784593",
     "status": "completed"
    },
    "tags": []
   },
   "outputs": [],
   "source": [
    "from fairness_multiverse.conformal import evaluate_sets\n",
    "\n",
    "# Evaluate coverage and average set size on test data\n",
    "metrics = evaluate_sets(pred_sets, y_true)"
   ]
  },
  {
   "cell_type": "markdown",
   "id": "2b569c12-9aaa-4c88-98c9-bbcd0cf3ebb8",
   "metadata": {
    "papermill": {
     "duration": 0.027453,
     "end_time": "2025-07-30T13:05:08.746317",
     "exception": false,
     "start_time": "2025-07-30T13:05:08.718864",
     "status": "completed"
    },
    "tags": []
   },
   "source": [
    "# CP Metrics"
   ]
  },
  {
   "cell_type": "code",
   "execution_count": 56,
   "id": "5ce0a5cb-201f-45a0-ade5-94c7f0bd6095",
   "metadata": {
    "execution": {
     "iopub.execute_input": "2025-07-30T13:05:08.802672Z",
     "iopub.status.busy": "2025-07-30T13:05:08.802210Z",
     "iopub.status.idle": "2025-07-30T13:05:08.809498Z",
     "shell.execute_reply": "2025-07-30T13:05:08.808466Z"
    },
    "papermill": {
     "duration": 0.037452,
     "end_time": "2025-07-30T13:05:08.811184",
     "exception": false,
     "start_time": "2025-07-30T13:05:08.773732",
     "status": "completed"
    },
    "tags": []
   },
   "outputs": [
    {
     "data": {
      "text/plain": [
       "{'coverage': 0.9109463827889868, 'avg_size': 1.1260951956303644}"
      ]
     },
     "execution_count": 56,
     "metadata": {},
     "output_type": "execute_result"
    }
   ],
   "source": [
    "metrics"
   ]
  },
  {
   "cell_type": "code",
   "execution_count": 57,
   "id": "9b9a838d-31c9-430b-ae14-12baee460d17",
   "metadata": {
    "execution": {
     "iopub.execute_input": "2025-07-30T13:05:08.870075Z",
     "iopub.status.busy": "2025-07-30T13:05:08.869625Z",
     "iopub.status.idle": "2025-07-30T13:05:08.876175Z",
     "shell.execute_reply": "2025-07-30T13:05:08.875172Z"
    },
    "papermill": {
     "duration": 0.038868,
     "end_time": "2025-07-30T13:05:08.879759",
     "exception": false,
     "start_time": "2025-07-30T13:05:08.840891",
     "status": "completed"
    },
    "tags": []
   },
   "outputs": [],
   "source": [
    "example_universe = universe.copy()\n",
    "universe_training_size = example_universe.get(\"training_size\")\n",
    "universe_scale = example_universe.get(\"scale\")\n",
    "universe_model = example_universe.get(\"model\")\n",
    "universe_exclude_features = example_universe.get(\"exclude_features\")\n",
    "universe_exclude_subgroups = example_universe.get(\"exclude_subgroups\")"
   ]
  },
  {
   "cell_type": "code",
   "execution_count": 58,
   "id": "f4b6a8ac-9dc0-4245-8a91-5b3b5999c4f9",
   "metadata": {
    "execution": {
     "iopub.execute_input": "2025-07-30T13:05:08.939299Z",
     "iopub.status.busy": "2025-07-30T13:05:08.938857Z",
     "iopub.status.idle": "2025-07-30T13:05:08.945538Z",
     "shell.execute_reply": "2025-07-30T13:05:08.944570Z"
    },
    "papermill": {
     "duration": 0.037934,
     "end_time": "2025-07-30T13:05:08.947319",
     "exception": false,
     "start_time": "2025-07-30T13:05:08.909385",
     "status": "completed"
    },
    "tags": []
   },
   "outputs": [],
   "source": [
    "cp_metrics_dict = {\n",
    "    \"universe_id\": [universe_id],\n",
    "    \"universe_training_size\": [universe_training_size],\n",
    "    \"universe_scale\": [universe_scale],\n",
    "    \"universe_model\": [universe_model],\n",
    "    \"universe_exclude_features\": [universe_exclude_features],\n",
    "    \"universe_exclude_subgroups\": [universe_exclude_subgroups],\n",
    "    \"q_hat\": [q_hat],\n",
    "    \"coverage\": [metrics[\"coverage\"]],\n",
    "    \"avg_size\": [metrics[\"avg_size\"]],\n",
    "}"
   ]
  },
  {
   "cell_type": "code",
   "execution_count": 59,
   "id": "908acbb1-0371-4915-85ca-3fa520d2efe2",
   "metadata": {
    "execution": {
     "iopub.execute_input": "2025-07-30T13:05:09.002197Z",
     "iopub.status.busy": "2025-07-30T13:05:09.001692Z",
     "iopub.status.idle": "2025-07-30T13:05:09.009741Z",
     "shell.execute_reply": "2025-07-30T13:05:09.008765Z"
    },
    "papermill": {
     "duration": 0.035546,
     "end_time": "2025-07-30T13:05:09.011656",
     "exception": false,
     "start_time": "2025-07-30T13:05:08.976110",
     "status": "completed"
    },
    "tags": []
   },
   "outputs": [
    {
     "data": {
      "text/plain": [
       "{'universe_id': ['bd25832089170e88933a0a058da3bc4b'],\n",
       " 'universe_training_size': ['25k'],\n",
       " 'universe_scale': ['scale'],\n",
       " 'universe_model': ['logreg'],\n",
       " 'universe_exclude_features': ['age'],\n",
       " 'universe_exclude_subgroups': ['keep-all'],\n",
       " 'q_hat': [0.6669216713484384],\n",
       " 'coverage': [0.9109463827889868],\n",
       " 'avg_size': [1.1260951956303644]}"
      ]
     },
     "execution_count": 59,
     "metadata": {},
     "output_type": "execute_result"
    }
   ],
   "source": [
    "cp_metrics_dict"
   ]
  },
  {
   "cell_type": "code",
   "execution_count": 60,
   "id": "33007efc-14e9-4ec6-97ac-56a455c82265",
   "metadata": {
    "execution": {
     "iopub.execute_input": "2025-07-30T13:05:09.061791Z",
     "iopub.status.busy": "2025-07-30T13:05:09.061294Z",
     "iopub.status.idle": "2025-07-30T13:05:09.067188Z",
     "shell.execute_reply": "2025-07-30T13:05:09.066322Z"
    },
    "papermill": {
     "duration": 0.033008,
     "end_time": "2025-07-30T13:05:09.068700",
     "exception": false,
     "start_time": "2025-07-30T13:05:09.035692",
     "status": "completed"
    },
    "tags": []
   },
   "outputs": [],
   "source": [
    "cp_metrics_df = pd.DataFrame(cp_metrics_dict)"
   ]
  },
  {
   "cell_type": "code",
   "execution_count": 61,
   "id": "db12611b-57b2-4910-b9d0-355adfd6e7bf",
   "metadata": {
    "execution": {
     "iopub.execute_input": "2025-07-30T13:05:09.119800Z",
     "iopub.status.busy": "2025-07-30T13:05:09.118967Z",
     "iopub.status.idle": "2025-07-30T13:05:09.136117Z",
     "shell.execute_reply": "2025-07-30T13:05:09.135112Z"
    },
    "papermill": {
     "duration": 0.044019,
     "end_time": "2025-07-30T13:05:09.137600",
     "exception": false,
     "start_time": "2025-07-30T13:05:09.093581",
     "status": "completed"
    },
    "tags": []
   },
   "outputs": [
    {
     "data": {
      "text/html": [
       "<div>\n",
       "<style scoped>\n",
       "    .dataframe tbody tr th:only-of-type {\n",
       "        vertical-align: middle;\n",
       "    }\n",
       "\n",
       "    .dataframe tbody tr th {\n",
       "        vertical-align: top;\n",
       "    }\n",
       "\n",
       "    .dataframe thead th {\n",
       "        text-align: right;\n",
       "    }\n",
       "</style>\n",
       "<table border=\"1\" class=\"dataframe\">\n",
       "  <thead>\n",
       "    <tr style=\"text-align: right;\">\n",
       "      <th></th>\n",
       "      <th>universe_id</th>\n",
       "      <th>universe_training_size</th>\n",
       "      <th>universe_scale</th>\n",
       "      <th>universe_model</th>\n",
       "      <th>universe_exclude_features</th>\n",
       "      <th>universe_exclude_subgroups</th>\n",
       "      <th>q_hat</th>\n",
       "      <th>coverage</th>\n",
       "      <th>avg_size</th>\n",
       "    </tr>\n",
       "  </thead>\n",
       "  <tbody>\n",
       "    <tr>\n",
       "      <th>0</th>\n",
       "      <td>bd25832089170e88933a0a058da3bc4b</td>\n",
       "      <td>25k</td>\n",
       "      <td>scale</td>\n",
       "      <td>logreg</td>\n",
       "      <td>age</td>\n",
       "      <td>keep-all</td>\n",
       "      <td>0.666922</td>\n",
       "      <td>0.910946</td>\n",
       "      <td>1.126095</td>\n",
       "    </tr>\n",
       "  </tbody>\n",
       "</table>\n",
       "</div>"
      ],
      "text/plain": [
       "                        universe_id universe_training_size universe_scale  \\\n",
       "0  bd25832089170e88933a0a058da3bc4b                    25k          scale   \n",
       "\n",
       "  universe_model universe_exclude_features universe_exclude_subgroups  \\\n",
       "0         logreg                       age                   keep-all   \n",
       "\n",
       "      q_hat  coverage  avg_size  \n",
       "0  0.666922  0.910946  1.126095  "
      ]
     },
     "execution_count": 61,
     "metadata": {},
     "output_type": "execute_result"
    }
   ],
   "source": [
    "cp_metrics_df"
   ]
  },
  {
   "cell_type": "code",
   "execution_count": 62,
   "id": "b7fbde55-a0a1-47e4-9af6-fe4a17fa8c61",
   "metadata": {
    "execution": {
     "iopub.execute_input": "2025-07-30T13:05:09.188384Z",
     "iopub.status.busy": "2025-07-30T13:05:09.187866Z",
     "iopub.status.idle": "2025-07-30T13:05:09.192994Z",
     "shell.execute_reply": "2025-07-30T13:05:09.192016Z"
    },
    "papermill": {
     "duration": 0.032215,
     "end_time": "2025-07-30T13:05:09.194548",
     "exception": false,
     "start_time": "2025-07-30T13:05:09.162333",
     "status": "completed"
    },
    "tags": []
   },
   "outputs": [],
   "source": [
    "# Conditional Coverage & looking at subgroups"
   ]
  },
  {
   "cell_type": "code",
   "execution_count": 63,
   "id": "027ae886-68dd-4141-96c7-805a5450e1ef",
   "metadata": {
    "execution": {
     "iopub.execute_input": "2025-07-30T13:05:09.245743Z",
     "iopub.status.busy": "2025-07-30T13:05:09.245290Z",
     "iopub.status.idle": "2025-07-30T13:05:09.495976Z",
     "shell.execute_reply": "2025-07-30T13:05:09.495083Z"
    },
    "papermill": {
     "duration": 0.277019,
     "end_time": "2025-07-30T13:05:09.497830",
     "exception": false,
     "start_time": "2025-07-30T13:05:09.220811",
     "status": "completed"
    },
    "tags": []
   },
   "outputs": [],
   "source": [
    "from fairness_multiverse.conformal import build_cp_groups\n",
    "\n",
    "cp_groups_df = build_cp_groups(pred_sets, y_true, X_test.index, org_test)\n",
    "#needs universe_id and setting"
   ]
  },
  {
   "cell_type": "code",
   "execution_count": 64,
   "id": "01d5802c-663a-4d1f-9d69-e036faaffbf7",
   "metadata": {
    "execution": {
     "iopub.execute_input": "2025-07-30T13:05:09.548371Z",
     "iopub.status.busy": "2025-07-30T13:05:09.547900Z",
     "iopub.status.idle": "2025-07-30T13:05:09.552679Z",
     "shell.execute_reply": "2025-07-30T13:05:09.551781Z"
    },
    "papermill": {
     "duration": 0.031156,
     "end_time": "2025-07-30T13:05:09.554159",
     "exception": false,
     "start_time": "2025-07-30T13:05:09.523003",
     "status": "completed"
    },
    "tags": []
   },
   "outputs": [],
   "source": [
    "#delete\n",
    "#cp_groups_df"
   ]
  },
  {
   "cell_type": "code",
   "execution_count": 65,
   "id": "fa424af1-d1eb-443d-b717-2d279ada8408",
   "metadata": {
    "execution": {
     "iopub.execute_input": "2025-07-30T13:05:09.604897Z",
     "iopub.status.busy": "2025-07-30T13:05:09.604413Z",
     "iopub.status.idle": "2025-07-30T13:05:09.609357Z",
     "shell.execute_reply": "2025-07-30T13:05:09.608359Z"
    },
    "papermill": {
     "duration": 0.031804,
     "end_time": "2025-07-30T13:05:09.611242",
     "exception": false,
     "start_time": "2025-07-30T13:05:09.579438",
     "status": "completed"
    },
    "tags": []
   },
   "outputs": [],
   "source": [
    "#delete\n",
    "#percentage = (cp_groups_df['nongerman_female'] == 1).mean() * 100\n",
    "#print(percentage)\n"
   ]
  },
  {
   "cell_type": "code",
   "execution_count": 66,
   "id": "6cbdab96-b2b2-45af-ad54-d0516db2e28d",
   "metadata": {
    "execution": {
     "iopub.execute_input": "2025-07-30T13:05:09.670602Z",
     "iopub.status.busy": "2025-07-30T13:05:09.670135Z",
     "iopub.status.idle": "2025-07-30T13:05:11.253967Z",
     "shell.execute_reply": "2025-07-30T13:05:11.253091Z"
    },
    "papermill": {
     "duration": 1.615395,
     "end_time": "2025-07-30T13:05:11.255845",
     "exception": false,
     "start_time": "2025-07-30T13:05:09.640450",
     "status": "completed"
    },
    "tags": []
   },
   "outputs": [],
   "source": [
    "# Define covered = 1 if true_label is in the predicted set\n",
    "cp_groups_df['covered'] = cp_groups_df.apply(\n",
    "    lambda r: int(r['true_label'] in r['pred_set']),\n",
    "    axis=1\n",
    ")"
   ]
  },
  {
   "cell_type": "code",
   "execution_count": 67,
   "id": "338ff529-1a6b-4b87-a931-8e4788d52aad",
   "metadata": {
    "execution": {
     "iopub.execute_input": "2025-07-30T13:05:11.307871Z",
     "iopub.status.busy": "2025-07-30T13:05:11.307222Z",
     "iopub.status.idle": "2025-07-30T13:05:11.312617Z",
     "shell.execute_reply": "2025-07-30T13:05:11.311635Z"
    },
    "papermill": {
     "duration": 0.032185,
     "end_time": "2025-07-30T13:05:11.314176",
     "exception": false,
     "start_time": "2025-07-30T13:05:11.281991",
     "status": "completed"
    },
    "tags": []
   },
   "outputs": [],
   "source": [
    "#cp_groups_df"
   ]
  },
  {
   "cell_type": "code",
   "execution_count": 68,
   "id": "90032e27-66df-4540-9169-4e89cfbaa758",
   "metadata": {
    "execution": {
     "iopub.execute_input": "2025-07-30T13:05:11.367481Z",
     "iopub.status.busy": "2025-07-30T13:05:11.366601Z",
     "iopub.status.idle": "2025-07-30T13:05:11.378084Z",
     "shell.execute_reply": "2025-07-30T13:05:11.377135Z"
    },
    "papermill": {
     "duration": 0.039326,
     "end_time": "2025-07-30T13:05:11.379997",
     "exception": false,
     "start_time": "2025-07-30T13:05:11.340671",
     "status": "completed"
    },
    "tags": []
   },
   "outputs": [],
   "source": [
    "subgroups = ['frau1','nongerman','nongerman_male','nongerman_female']\n",
    "\n",
    "# Conditional coverage for subgroup==1\n",
    "cond_coverage = {\n",
    "    g: cp_groups_df.loc[cp_groups_df[g]==1, 'covered'].mean()\n",
    "    for g in subgroups\n",
    "}"
   ]
  },
  {
   "cell_type": "code",
   "execution_count": 69,
   "id": "1e348fb1-b9c3-45bc-ba23-f016827a7e0d",
   "metadata": {
    "execution": {
     "iopub.execute_input": "2025-07-30T13:05:11.431977Z",
     "iopub.status.busy": "2025-07-30T13:05:11.431329Z",
     "iopub.status.idle": "2025-07-30T13:05:11.438497Z",
     "shell.execute_reply": "2025-07-30T13:05:11.437541Z"
    },
    "papermill": {
     "duration": 0.034634,
     "end_time": "2025-07-30T13:05:11.440119",
     "exception": false,
     "start_time": "2025-07-30T13:05:11.405485",
     "status": "completed"
    },
    "tags": []
   },
   "outputs": [
    {
     "data": {
      "text/plain": [
       "{'frau1': 0.9087478096778542,\n",
       " 'nongerman': 0.9081008252399932,\n",
       " 'nongerman_male': 0.9251553634152931,\n",
       " 'nongerman_female': 0.8798807749627422}"
      ]
     },
     "execution_count": 69,
     "metadata": {},
     "output_type": "execute_result"
    }
   ],
   "source": [
    "cond_coverage"
   ]
  },
  {
   "cell_type": "code",
   "execution_count": 70,
   "id": "f5093324-c3dd-4d63-bc4c-8d945e5c8bbb",
   "metadata": {
    "execution": {
     "iopub.execute_input": "2025-07-30T13:05:11.492931Z",
     "iopub.status.busy": "2025-07-30T13:05:11.492264Z",
     "iopub.status.idle": "2025-07-30T13:05:11.499768Z",
     "shell.execute_reply": "2025-07-30T13:05:11.498709Z"
    },
    "papermill": {
     "duration": 0.035075,
     "end_time": "2025-07-30T13:05:11.501270",
     "exception": false,
     "start_time": "2025-07-30T13:05:11.466195",
     "status": "completed"
    },
    "tags": []
   },
   "outputs": [],
   "source": [
    "for subgroup, cov in cond_coverage.items():\n",
    "    cp_metrics_df[f\"cov_{subgroup}\"] = cov"
   ]
  },
  {
   "cell_type": "code",
   "execution_count": 71,
   "id": "6e872e10-dbe5-49e8-b554-5030c98ff75d",
   "metadata": {
    "execution": {
     "iopub.execute_input": "2025-07-30T13:05:11.554792Z",
     "iopub.status.busy": "2025-07-30T13:05:11.554325Z",
     "iopub.status.idle": "2025-07-30T13:05:11.572079Z",
     "shell.execute_reply": "2025-07-30T13:05:11.570966Z"
    },
    "papermill": {
     "duration": 0.045793,
     "end_time": "2025-07-30T13:05:11.573766",
     "exception": false,
     "start_time": "2025-07-30T13:05:11.527973",
     "status": "completed"
    },
    "tags": []
   },
   "outputs": [
    {
     "data": {
      "text/html": [
       "<div>\n",
       "<style scoped>\n",
       "    .dataframe tbody tr th:only-of-type {\n",
       "        vertical-align: middle;\n",
       "    }\n",
       "\n",
       "    .dataframe tbody tr th {\n",
       "        vertical-align: top;\n",
       "    }\n",
       "\n",
       "    .dataframe thead th {\n",
       "        text-align: right;\n",
       "    }\n",
       "</style>\n",
       "<table border=\"1\" class=\"dataframe\">\n",
       "  <thead>\n",
       "    <tr style=\"text-align: right;\">\n",
       "      <th></th>\n",
       "      <th>universe_id</th>\n",
       "      <th>universe_training_size</th>\n",
       "      <th>universe_scale</th>\n",
       "      <th>universe_model</th>\n",
       "      <th>universe_exclude_features</th>\n",
       "      <th>universe_exclude_subgroups</th>\n",
       "      <th>q_hat</th>\n",
       "      <th>coverage</th>\n",
       "      <th>avg_size</th>\n",
       "      <th>cov_frau1</th>\n",
       "      <th>cov_nongerman</th>\n",
       "      <th>cov_nongerman_male</th>\n",
       "      <th>cov_nongerman_female</th>\n",
       "    </tr>\n",
       "  </thead>\n",
       "  <tbody>\n",
       "    <tr>\n",
       "      <th>0</th>\n",
       "      <td>bd25832089170e88933a0a058da3bc4b</td>\n",
       "      <td>25k</td>\n",
       "      <td>scale</td>\n",
       "      <td>logreg</td>\n",
       "      <td>age</td>\n",
       "      <td>keep-all</td>\n",
       "      <td>0.666922</td>\n",
       "      <td>0.910946</td>\n",
       "      <td>1.126095</td>\n",
       "      <td>0.908748</td>\n",
       "      <td>0.908101</td>\n",
       "      <td>0.925155</td>\n",
       "      <td>0.879881</td>\n",
       "    </tr>\n",
       "  </tbody>\n",
       "</table>\n",
       "</div>"
      ],
      "text/plain": [
       "                        universe_id universe_training_size universe_scale  \\\n",
       "0  bd25832089170e88933a0a058da3bc4b                    25k          scale   \n",
       "\n",
       "  universe_model universe_exclude_features universe_exclude_subgroups  \\\n",
       "0         logreg                       age                   keep-all   \n",
       "\n",
       "      q_hat  coverage  avg_size  cov_frau1  cov_nongerman  cov_nongerman_male  \\\n",
       "0  0.666922  0.910946  1.126095   0.908748       0.908101            0.925155   \n",
       "\n",
       "   cov_nongerman_female  \n",
       "0              0.879881  "
      ]
     },
     "execution_count": 71,
     "metadata": {},
     "output_type": "execute_result"
    }
   ],
   "source": [
    "cp_metrics_df"
   ]
  },
  {
   "cell_type": "markdown",
   "id": "33774451",
   "metadata": {
    "papermill": {
     "duration": 0.025663,
     "end_time": "2025-07-30T13:05:11.626272",
     "exception": false,
     "start_time": "2025-07-30T13:05:11.600609",
     "status": "completed"
    },
    "tags": []
   },
   "source": [
    "# (Fairness) Metrics"
   ]
  },
  {
   "cell_type": "code",
   "execution_count": 72,
   "id": "debc5d62",
   "metadata": {
    "execution": {
     "iopub.execute_input": "2025-07-30T13:05:11.679694Z",
     "iopub.status.busy": "2025-07-30T13:05:11.679046Z",
     "iopub.status.idle": "2025-07-30T13:05:11.701160Z",
     "shell.execute_reply": "2025-07-30T13:05:11.700278Z"
    },
    "papermill": {
     "duration": 0.051139,
     "end_time": "2025-07-30T13:05:11.703000",
     "exception": false,
     "start_time": "2025-07-30T13:05:11.651861",
     "status": "completed"
    },
    "tags": []
   },
   "outputs": [],
   "source": [
    "# do I need to include maxdeutsch1.missing?\n",
    "\n",
    "import numpy as np\n",
    "\n",
    "colname_to_bin = \"maxdeutsch1\"\n",
    "majority_value = org_train[colname_to_bin].mode()[0]\n",
    "\n",
    "org_test[\"majmin\"] = np.where(org_test[colname_to_bin] == majority_value, \"majority\", \"minority\")"
   ]
  },
  {
   "cell_type": "code",
   "execution_count": 73,
   "id": "06a50de5",
   "metadata": {
    "execution": {
     "iopub.execute_input": "2025-07-30T13:05:11.755150Z",
     "iopub.status.busy": "2025-07-30T13:05:11.754660Z",
     "iopub.status.idle": "2025-07-30T13:05:13.726110Z",
     "shell.execute_reply": "2025-07-30T13:05:13.725400Z"
    },
    "papermill": {
     "duration": 1.999014,
     "end_time": "2025-07-30T13:05:13.727515",
     "exception": false,
     "start_time": "2025-07-30T13:05:11.728501",
     "status": "completed"
    },
    "tags": []
   },
   "outputs": [],
   "source": [
    "example_universe = universe.copy()\n",
    "example_universe[\"cutoff\"] = example_universe[\"cutoff\"][0]\n",
    "example_universe[\"eval_fairness_grouping\"] = example_universe[\"eval_fairness_grouping\"][0]\n",
    "fairness_dict, metric_frame = universe_analysis.compute_metrics(\n",
    "    example_universe,\n",
    "    y_pred_prob=probs_test,\n",
    "    y_test=y_true,\n",
    "    org_test=org_test,\n",
    ")"
   ]
  },
  {
   "cell_type": "markdown",
   "id": "f95d4e02",
   "metadata": {
    "papermill": {
     "duration": 0.014216,
     "end_time": "2025-07-30T13:05:13.758304",
     "exception": false,
     "start_time": "2025-07-30T13:05:13.744088",
     "status": "completed"
    },
    "tags": []
   },
   "source": [
    "# Overall"
   ]
  },
  {
   "cell_type": "markdown",
   "id": "bdee4871",
   "metadata": {
    "papermill": {
     "duration": 0.013476,
     "end_time": "2025-07-30T13:05:13.788409",
     "exception": false,
     "start_time": "2025-07-30T13:05:13.774933",
     "status": "completed"
    },
    "tags": []
   },
   "source": [
    "Fairness\n",
    "Main fairness target: Equalized Odds. Seems to be a better fit than equal opportunity, since we're not only interested in Y = 1. Seems to be a better fit than demographic parity, since we also care about accuracy, not just equal distribution of preds.\n",
    "\n",
    "Pick column for computation of fairness metrics\n",
    "\n",
    "Performance\n",
    "Overall performance measures, most interesting in relation to the measures split by group below"
   ]
  },
  {
   "cell_type": "code",
   "execution_count": 74,
   "id": "c4e067c6",
   "metadata": {
    "execution": {
     "iopub.execute_input": "2025-07-30T13:05:13.821631Z",
     "iopub.status.busy": "2025-07-30T13:05:13.820746Z",
     "iopub.status.idle": "2025-07-30T13:05:13.828445Z",
     "shell.execute_reply": "2025-07-30T13:05:13.827570Z"
    },
    "papermill": {
     "duration": 0.027928,
     "end_time": "2025-07-30T13:05:13.830226",
     "exception": false,
     "start_time": "2025-07-30T13:05:13.802298",
     "status": "completed"
    },
    "tags": []
   },
   "outputs": [
    {
     "data": {
      "text/plain": [
       "accuracy                   0.225203\n",
       "balanced accuracy          0.550480\n",
       "f1                         0.246512\n",
       "precision                  0.140824\n",
       "false positive rate        0.887049\n",
       "false negative rate        0.011992\n",
       "selection rate             0.900000\n",
       "count                  89710.000000\n",
       "dtype: float64"
      ]
     },
     "execution_count": 74,
     "metadata": {},
     "output_type": "execute_result"
    }
   ],
   "source": [
    "metric_frame.overall"
   ]
  },
  {
   "cell_type": "markdown",
   "id": "e968fe9d",
   "metadata": {
    "papermill": {
     "duration": 0.02913,
     "end_time": "2025-07-30T13:05:13.888717",
     "exception": false,
     "start_time": "2025-07-30T13:05:13.859587",
     "status": "completed"
    },
    "tags": []
   },
   "source": [
    "By Group"
   ]
  },
  {
   "cell_type": "code",
   "execution_count": 75,
   "id": "ec325bce",
   "metadata": {
    "execution": {
     "iopub.execute_input": "2025-07-30T13:05:13.946021Z",
     "iopub.status.busy": "2025-07-30T13:05:13.945355Z",
     "iopub.status.idle": "2025-07-30T13:05:13.961929Z",
     "shell.execute_reply": "2025-07-30T13:05:13.960965Z"
    },
    "papermill": {
     "duration": 0.046742,
     "end_time": "2025-07-30T13:05:13.963473",
     "exception": false,
     "start_time": "2025-07-30T13:05:13.916731",
     "status": "completed"
    },
    "tags": []
   },
   "outputs": [
    {
     "data": {
      "text/html": [
       "<div>\n",
       "<style scoped>\n",
       "    .dataframe tbody tr th:only-of-type {\n",
       "        vertical-align: middle;\n",
       "    }\n",
       "\n",
       "    .dataframe tbody tr th {\n",
       "        vertical-align: top;\n",
       "    }\n",
       "\n",
       "    .dataframe thead th {\n",
       "        text-align: right;\n",
       "    }\n",
       "</style>\n",
       "<table border=\"1\" class=\"dataframe\">\n",
       "  <thead>\n",
       "    <tr style=\"text-align: right;\">\n",
       "      <th></th>\n",
       "      <th>accuracy</th>\n",
       "      <th>balanced accuracy</th>\n",
       "      <th>f1</th>\n",
       "      <th>precision</th>\n",
       "      <th>false positive rate</th>\n",
       "      <th>false negative rate</th>\n",
       "      <th>selection rate</th>\n",
       "      <th>count</th>\n",
       "    </tr>\n",
       "    <tr>\n",
       "      <th>majmin</th>\n",
       "      <th></th>\n",
       "      <th></th>\n",
       "      <th></th>\n",
       "      <th></th>\n",
       "      <th></th>\n",
       "      <th></th>\n",
       "      <th></th>\n",
       "      <th></th>\n",
       "    </tr>\n",
       "  </thead>\n",
       "  <tbody>\n",
       "    <tr>\n",
       "      <th>majority</th>\n",
       "      <td>0.247896</td>\n",
       "      <td>0.561034</td>\n",
       "      <td>0.257440</td>\n",
       "      <td>0.148033</td>\n",
       "      <td>0.864584</td>\n",
       "      <td>0.013348</td>\n",
       "      <td>0.880714</td>\n",
       "      <td>69170.0</td>\n",
       "    </tr>\n",
       "    <tr>\n",
       "      <th>minority</th>\n",
       "      <td>0.148783</td>\n",
       "      <td>0.515992</td>\n",
       "      <td>0.212006</td>\n",
       "      <td>0.118668</td>\n",
       "      <td>0.961259</td>\n",
       "      <td>0.006757</td>\n",
       "      <td>0.964946</td>\n",
       "      <td>20540.0</td>\n",
       "    </tr>\n",
       "  </tbody>\n",
       "</table>\n",
       "</div>"
      ],
      "text/plain": [
       "          accuracy  balanced accuracy        f1  precision  \\\n",
       "majmin                                                       \n",
       "majority  0.247896           0.561034  0.257440   0.148033   \n",
       "minority  0.148783           0.515992  0.212006   0.118668   \n",
       "\n",
       "          false positive rate  false negative rate  selection rate    count  \n",
       "majmin                                                                       \n",
       "majority             0.864584             0.013348        0.880714  69170.0  \n",
       "minority             0.961259             0.006757        0.964946  20540.0  "
      ]
     },
     "execution_count": 75,
     "metadata": {},
     "output_type": "execute_result"
    }
   ],
   "source": [
    "metric_frame.by_group"
   ]
  },
  {
   "cell_type": "code",
   "execution_count": 76,
   "id": "a9ddbe63",
   "metadata": {
    "execution": {
     "iopub.execute_input": "2025-07-30T13:05:14.017137Z",
     "iopub.status.busy": "2025-07-30T13:05:14.016557Z",
     "iopub.status.idle": "2025-07-30T13:05:16.468108Z",
     "shell.execute_reply": "2025-07-30T13:05:16.467244Z"
    },
    "papermill": {
     "duration": 2.479539,
     "end_time": "2025-07-30T13:05:16.469630",
     "exception": false,
     "start_time": "2025-07-30T13:05:13.990091",
     "status": "completed"
    },
    "tags": []
   },
   "outputs": [
    {
     "data": {
      "text/plain": [
       "array([[<Axes: title={'center': 'accuracy'}, xlabel='majmin'>,\n",
       "        <Axes: title={'center': 'balanced accuracy'}, xlabel='majmin'>,\n",
       "        <Axes: title={'center': 'f1'}, xlabel='majmin'>],\n",
       "       [<Axes: title={'center': 'precision'}, xlabel='majmin'>,\n",
       "        <Axes: title={'center': 'false positive rate'}, xlabel='majmin'>,\n",
       "        <Axes: title={'center': 'false negative rate'}, xlabel='majmin'>],\n",
       "       [<Axes: title={'center': 'selection rate'}, xlabel='majmin'>,\n",
       "        <Axes: title={'center': 'count'}, xlabel='majmin'>,\n",
       "        <Axes: xlabel='majmin'>]], dtype=object)"
      ]
     },
     "execution_count": 76,
     "metadata": {},
     "output_type": "execute_result"
    },
    {
     "data": {
      "image/png": "[encoded data removed]",
      "text/plain": [
       "<Figure size 1200x800 with 9 Axes>"
      ]
     },
     "metadata": {},
     "output_type": "display_data"
    }
   ],
   "source": [
    "# In a graphic\n",
    "metric_frame.by_group.plot.bar(\n",
    "    subplots=True,\n",
    "    layout=[3, 3],\n",
    "    legend=False,\n",
    "    figsize=[12, 8],\n",
    "    title=\"Show all metrics\",\n",
    ")"
   ]
  },
  {
   "cell_type": "markdown",
   "id": "f57a0bac",
   "metadata": {
    "papermill": {
     "duration": 0.026518,
     "end_time": "2025-07-30T13:05:16.523750",
     "exception": false,
     "start_time": "2025-07-30T13:05:16.497232",
     "status": "completed"
    },
    "tags": []
   },
   "source": [
    "# Final Output"
   ]
  },
  {
   "cell_type": "code",
   "execution_count": 77,
   "id": "96d280a3",
   "metadata": {
    "execution": {
     "iopub.execute_input": "2025-07-30T13:05:16.579203Z",
     "iopub.status.busy": "2025-07-30T13:05:16.578532Z",
     "iopub.status.idle": "2025-07-30T13:05:16.586725Z",
     "shell.execute_reply": "2025-07-30T13:05:16.585848Z"
    },
    "papermill": {
     "duration": 0.037835,
     "end_time": "2025-07-30T13:05:16.588337",
     "exception": false,
     "start_time": "2025-07-30T13:05:16.550502",
     "status": "completed"
    },
    "tags": []
   },
   "outputs": [
    {
     "data": {
      "text/plain": [
       "4"
      ]
     },
     "execution_count": 77,
     "metadata": {},
     "output_type": "execute_result"
    }
   ],
   "source": [
    "sub_universes = universe_analysis.generate_sub_universes()\n",
    "len(sub_universes)"
   ]
  },
  {
   "cell_type": "code",
   "execution_count": 78,
   "id": "92adf7ba",
   "metadata": {
    "execution": {
     "iopub.execute_input": "2025-07-30T13:05:16.645965Z",
     "iopub.status.busy": "2025-07-30T13:05:16.645336Z",
     "iopub.status.idle": "2025-07-30T13:05:16.651465Z",
     "shell.execute_reply": "2025-07-30T13:05:16.650582Z"
    },
    "papermill": {
     "duration": 0.036851,
     "end_time": "2025-07-30T13:05:16.653008",
     "exception": false,
     "start_time": "2025-07-30T13:05:16.616157",
     "status": "completed"
    },
    "tags": []
   },
   "outputs": [],
   "source": [
    "def filter_sub_universe_data(sub_universe, org_test):\n",
    "    # Keep all rows — no filtering\n",
    "    keep_rows_mask = np.ones(org_test.shape[0], dtype=bool)\n",
    "\n",
    "    print(f\"[INFO] Keeping all rows: {keep_rows_mask.sum()} rows retained.\")\n",
    "    return keep_rows_mask"
   ]
  },
  {
   "cell_type": "code",
   "execution_count": 79,
   "id": "4a759155",
   "metadata": {
    "execution": {
     "iopub.execute_input": "2025-07-30T13:05:16.710025Z",
     "iopub.status.busy": "2025-07-30T13:05:16.709168Z",
     "iopub.status.idle": "2025-07-30T13:05:26.906308Z",
     "shell.execute_reply": "2025-07-30T13:05:26.905442Z"
    },
    "papermill": {
     "duration": 10.226793,
     "end_time": "2025-07-30T13:05:26.907882",
     "exception": false,
     "start_time": "2025-07-30T13:05:16.681089",
     "status": "completed"
    },
    "tags": []
   },
   "outputs": [
    {
     "name": "stdout",
     "output_type": "stream",
     "text": [
      "Stopping execution_time clock.\n",
      "[INFO] Keeping all rows: 89710 rows retained.\n"
     ]
    },
    {
     "name": "stdout",
     "output_type": "stream",
     "text": [
      "[INFO] Keeping all rows: 89710 rows retained.\n"
     ]
    },
    {
     "name": "stdout",
     "output_type": "stream",
     "text": [
      "[INFO] Keeping all rows: 89710 rows retained.\n"
     ]
    },
    {
     "name": "stdout",
     "output_type": "stream",
     "text": [
      "[INFO] Keeping all rows: 89710 rows retained.\n"
     ]
    },
    {
     "data": {
      "text/html": [
       "<div>\n",
       "<style scoped>\n",
       "    .dataframe tbody tr th:only-of-type {\n",
       "        vertical-align: middle;\n",
       "    }\n",
       "\n",
       "    .dataframe tbody tr th {\n",
       "        vertical-align: top;\n",
       "    }\n",
       "\n",
       "    .dataframe thead th {\n",
       "        text-align: right;\n",
       "    }\n",
       "</style>\n",
       "<table border=\"1\" class=\"dataframe\">\n",
       "  <thead>\n",
       "    <tr style=\"text-align: right;\">\n",
       "      <th></th>\n",
       "      <th>run_no</th>\n",
       "      <th>universe_id</th>\n",
       "      <th>universe_settings</th>\n",
       "      <th>execution_time</th>\n",
       "      <th>test_size_n</th>\n",
       "      <th>test_size_frac</th>\n",
       "      <th>fair_main_equalized_odds_difference</th>\n",
       "      <th>fair_main_equalized_odds_ratio</th>\n",
       "      <th>fair_main_demographic_parity_difference</th>\n",
       "      <th>fair_main_demographic_parity_ratio</th>\n",
       "      <th>...</th>\n",
       "      <th>perf_grp_precision_0</th>\n",
       "      <th>perf_grp_precision_1</th>\n",
       "      <th>perf_grp_false positive rate_0</th>\n",
       "      <th>perf_grp_false positive rate_1</th>\n",
       "      <th>perf_grp_false negative rate_0</th>\n",
       "      <th>perf_grp_false negative rate_1</th>\n",
       "      <th>perf_grp_selection rate_0</th>\n",
       "      <th>perf_grp_selection rate_1</th>\n",
       "      <th>perf_grp_count_0</th>\n",
       "      <th>perf_grp_count_1</th>\n",
       "    </tr>\n",
       "  </thead>\n",
       "  <tbody>\n",
       "    <tr>\n",
       "      <th>0</th>\n",
       "      <td>12</td>\n",
       "      <td>bd25832089170e88933a0a058da3bc4b</td>\n",
       "      <td>{\"cutoff\": \"quantile_0.1\", \"eval_fairness_grou...</td>\n",
       "      <td>27.109092</td>\n",
       "      <td>89710</td>\n",
       "      <td>1.0</td>\n",
       "      <td>0.096675</td>\n",
       "      <td>0.899429</td>\n",
       "      <td>0.084232</td>\n",
       "      <td>0.912708</td>\n",
       "      <td>...</td>\n",
       "      <td>NaN</td>\n",
       "      <td>NaN</td>\n",
       "      <td>NaN</td>\n",
       "      <td>NaN</td>\n",
       "      <td>NaN</td>\n",
       "      <td>NaN</td>\n",
       "      <td>NaN</td>\n",
       "      <td>NaN</td>\n",
       "      <td>NaN</td>\n",
       "      <td>NaN</td>\n",
       "    </tr>\n",
       "    <tr>\n",
       "      <th>0</th>\n",
       "      <td>12</td>\n",
       "      <td>bd25832089170e88933a0a058da3bc4b</td>\n",
       "      <td>{\"cutoff\": \"quantile_0.1\", \"eval_fairness_grou...</td>\n",
       "      <td>27.109092</td>\n",
       "      <td>89710</td>\n",
       "      <td>1.0</td>\n",
       "      <td>0.096675</td>\n",
       "      <td>0.899429</td>\n",
       "      <td>0.084232</td>\n",
       "      <td>0.912708</td>\n",
       "      <td>...</td>\n",
       "      <td>0.118668</td>\n",
       "      <td>0.148033</td>\n",
       "      <td>0.961259</td>\n",
       "      <td>0.864584</td>\n",
       "      <td>0.006757</td>\n",
       "      <td>0.013348</td>\n",
       "      <td>0.964946</td>\n",
       "      <td>0.880714</td>\n",
       "      <td>20540.0</td>\n",
       "      <td>69170.0</td>\n",
       "    </tr>\n",
       "    <tr>\n",
       "      <th>0</th>\n",
       "      <td>12</td>\n",
       "      <td>bd25832089170e88933a0a058da3bc4b</td>\n",
       "      <td>{\"cutoff\": \"quantile_0.25\", \"eval_fairness_gro...</td>\n",
       "      <td>27.109092</td>\n",
       "      <td>89710</td>\n",
       "      <td>1.0</td>\n",
       "      <td>0.172091</td>\n",
       "      <td>0.798217</td>\n",
       "      <td>0.150097</td>\n",
       "      <td>0.826623</td>\n",
       "      <td>...</td>\n",
       "      <td>NaN</td>\n",
       "      <td>NaN</td>\n",
       "      <td>NaN</td>\n",
       "      <td>NaN</td>\n",
       "      <td>NaN</td>\n",
       "      <td>NaN</td>\n",
       "      <td>NaN</td>\n",
       "      <td>NaN</td>\n",
       "      <td>NaN</td>\n",
       "      <td>NaN</td>\n",
       "    </tr>\n",
       "    <tr>\n",
       "      <th>0</th>\n",
       "      <td>12</td>\n",
       "      <td>bd25832089170e88933a0a058da3bc4b</td>\n",
       "      <td>{\"cutoff\": \"quantile_0.25\", \"eval_fairness_gro...</td>\n",
       "      <td>27.109092</td>\n",
       "      <td>89710</td>\n",
       "      <td>1.0</td>\n",
       "      <td>0.172091</td>\n",
       "      <td>0.798217</td>\n",
       "      <td>0.150097</td>\n",
       "      <td>0.826623</td>\n",
       "      <td>...</td>\n",
       "      <td>0.128444</td>\n",
       "      <td>0.174424</td>\n",
       "      <td>0.852851</td>\n",
       "      <td>0.680760</td>\n",
       "      <td>0.035473</td>\n",
       "      <td>0.055361</td>\n",
       "      <td>0.865725</td>\n",
       "      <td>0.715628</td>\n",
       "      <td>20540.0</td>\n",
       "      <td>69170.0</td>\n",
       "    </tr>\n",
       "  </tbody>\n",
       "</table>\n",
       "<p>4 rows × 50 columns</p>\n",
       "</div>"
      ],
      "text/plain": [
       "  run_no                       universe_id  \\\n",
       "0     12  bd25832089170e88933a0a058da3bc4b   \n",
       "0     12  bd25832089170e88933a0a058da3bc4b   \n",
       "0     12  bd25832089170e88933a0a058da3bc4b   \n",
       "0     12  bd25832089170e88933a0a058da3bc4b   \n",
       "\n",
       "                                   universe_settings  execution_time  \\\n",
       "0  {\"cutoff\": \"quantile_0.1\", \"eval_fairness_grou...       27.109092   \n",
       "0  {\"cutoff\": \"quantile_0.1\", \"eval_fairness_grou...       27.109092   \n",
       "0  {\"cutoff\": \"quantile_0.25\", \"eval_fairness_gro...       27.109092   \n",
       "0  {\"cutoff\": \"quantile_0.25\", \"eval_fairness_gro...       27.109092   \n",
       "\n",
       "   test_size_n  test_size_frac  fair_main_equalized_odds_difference  \\\n",
       "0        89710             1.0                             0.096675   \n",
       "0        89710             1.0                             0.096675   \n",
       "0        89710             1.0                             0.172091   \n",
       "0        89710             1.0                             0.172091   \n",
       "\n",
       "   fair_main_equalized_odds_ratio  fair_main_demographic_parity_difference  \\\n",
       "0                        0.899429                                 0.084232   \n",
       "0                        0.899429                                 0.084232   \n",
       "0                        0.798217                                 0.150097   \n",
       "0                        0.798217                                 0.150097   \n",
       "\n",
       "   fair_main_demographic_parity_ratio  ...  perf_grp_precision_0  \\\n",
       "0                            0.912708  ...                   NaN   \n",
       "0                            0.912708  ...              0.118668   \n",
       "0                            0.826623  ...                   NaN   \n",
       "0                            0.826623  ...              0.128444   \n",
       "\n",
       "   perf_grp_precision_1  perf_grp_false positive rate_0  \\\n",
       "0                   NaN                             NaN   \n",
       "0              0.148033                        0.961259   \n",
       "0                   NaN                             NaN   \n",
       "0              0.174424                        0.852851   \n",
       "\n",
       "   perf_grp_false positive rate_1  perf_grp_false negative rate_0  \\\n",
       "0                             NaN                             NaN   \n",
       "0                        0.864584                        0.006757   \n",
       "0                             NaN                             NaN   \n",
       "0                        0.680760                        0.035473   \n",
       "\n",
       "   perf_grp_false negative rate_1  perf_grp_selection rate_0  \\\n",
       "0                             NaN                        NaN   \n",
       "0                        0.013348                   0.964946   \n",
       "0                             NaN                        NaN   \n",
       "0                        0.055361                   0.865725   \n",
       "\n",
       "   perf_grp_selection rate_1  perf_grp_count_0  perf_grp_count_1  \n",
       "0                        NaN               NaN               NaN  \n",
       "0                   0.880714           20540.0           69170.0  \n",
       "0                        NaN               NaN               NaN  \n",
       "0                   0.715628           20540.0           69170.0  \n",
       "\n",
       "[4 rows x 50 columns]"
      ]
     },
     "execution_count": 79,
     "metadata": {},
     "output_type": "execute_result"
    }
   ],
   "source": [
    "final_output = universe_analysis.generate_final_output(\n",
    "    y_pred_prob=probs_test,\n",
    "    y_test=y_true,\n",
    "    org_test=org_test,\n",
    "    filter_data=filter_sub_universe_data,\n",
    "    cp_metrics_df=cp_metrics_df,\n",
    "    save=True,\n",
    ")\n",
    "final_output"
   ]
  },
  {
   "cell_type": "code",
   "execution_count": null,
   "id": "721ff514-cb11-46f8-b6fc-50392f74b5cb",
   "metadata": {
    "papermill": {
     "duration": 0.028319,
     "end_time": "2025-07-30T13:05:26.967827",
     "exception": false,
     "start_time": "2025-07-30T13:05:26.939508",
     "status": "completed"
    },
    "tags": []
   },
   "outputs": [],
   "source": []
  }
 ],
 "metadata": {
  "celltoolbar": "Tags",
  "kernelspec": {
   "display_name": "Python (CMA Fairness)",
   "language": "python",
   "name": "cma_fair_env"
  },
  "language_info": {
   "codemirror_mode": {
    "name": "ipython",
    "version": 3
   },
   "file_extension": ".py",
   "mimetype": "text/x-python",
   "name": "python",
   "nbconvert_exporter": "python",
   "pygments_lexer": "ipython3",
   "version": "3.10.12"
  },
  "papermill": {
   "default_parameters": {},
   "duration": 41.613722,
   "end_time": "2025-07-30T13:05:27.821173",
   "environment_variables": {},
   "exception": null,
   "input_path": "universe_analysis.ipynb",
   "output_path": "output/runs/12/notebooks/m_12-bd25832089170e88933a0a058da3bc4b.ipynb",
   "parameters": {
    "output_dir": "output",
    "run_no": "12",
    "seed": "2023",
    "universe": "{\"cutoff\": [\"quantile_0.1\", \"quantile_0.25\"], \"eval_fairness_grouping\": [\"majority-minority\", \"nationality-all\"], \"exclude_features\": \"age\", \"exclude_subgroups\": \"keep-all\", \"model\": \"logreg\", \"scale\": \"scale\", \"training_size\": \"25k\", \"training_year\": \"2012_14\"}",
    "universe_id": "bd25832089170e88933a0a058da3bc4b"
   },
   "start_time": "2025-07-30T13:04:46.207451",
   "version": "2.6.0"
  }
 },
 "nbformat": 4,
 "nbformat_minor": 5
}