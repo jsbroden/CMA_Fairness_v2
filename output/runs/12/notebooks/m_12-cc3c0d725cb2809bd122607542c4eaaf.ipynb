{
 "cells": [
  {
   "cell_type": "code",
   "execution_count": 1,
   "id": "f159f837-637b-42ba-96b5-ec9a68c44524",
   "metadata": {
    "execution": {
     "iopub.execute_input": "2025-07-30T13:10:00.403116Z",
     "iopub.status.busy": "2025-07-30T13:10:00.402610Z",
     "iopub.status.idle": "2025-07-30T13:10:00.416853Z",
     "shell.execute_reply": "2025-07-30T13:10:00.415898Z"
    },
    "papermill": {
     "duration": 0.037889,
     "end_time": "2025-07-30T13:10:00.418555",
     "exception": false,
     "start_time": "2025-07-30T13:10:00.380666",
     "status": "completed"
    },
    "tags": []
   },
   "outputs": [
    {
     "name": "stdout",
     "output_type": "stream",
     "text": [
      "/dss/dsshome1/0C/ra93lal2/cma/CMA_Fairness_v2\n"
     ]
    },
    {
     "name": "stderr",
     "output_type": "stream",
     "text": [
      "/dss/dsshome1/0C/ra93lal2/.local/share/virtualenvs/CMA_Fairness_v2-3j10GkSs/lib/python3.10/site-packages/IPython/core/magics/osm.py:393: UserWarning: This is now an optional IPython functionality, using bookmarks requires you to install the `pickleshare` library.\n",
      "  bkms = self.shell.db.get('bookmarks', {})\n",
      "/dss/dsshome1/0C/ra93lal2/.local/share/virtualenvs/CMA_Fairness_v2-3j10GkSs/lib/python3.10/site-packages/IPython/core/magics/osm.py:417: UserWarning: This is now an optional IPython functionality, setting dhist requires you to install the `pickleshare` library.\n",
      "  self.shell.db['dhist'] = compress_dhist(dhist)[-100:]\n"
     ]
    }
   ],
   "source": [
    "%cd ~/cma/CMA_Fairness_v2"
   ]
  },
  {
   "cell_type": "markdown",
   "id": "de2603b9",
   "metadata": {
    "papermill": {
     "duration": 0.020065,
     "end_time": "2025-07-30T13:10:00.458033",
     "exception": false,
     "start_time": "2025-07-30T13:10:00.437968",
     "status": "completed"
    },
    "tags": []
   },
   "source": [
    "The following cell holds the definition of our parameters, these values can be overriden by rendering the with e.g. the following command:\n",
    "\n",
    "papermill -p alpha 0.2 -p ratio 0.3 universe_analysis.ipynb output/test_run.ipynb"
   ]
  },
  {
   "cell_type": "code",
   "execution_count": 2,
   "id": "a80968a0-40bb-4fa9-85ef-2d5eefb01975",
   "metadata": {
    "execution": {
     "iopub.execute_input": "2025-07-30T13:10:00.498269Z",
     "iopub.status.busy": "2025-07-30T13:10:00.497777Z",
     "iopub.status.idle": "2025-07-30T13:10:00.503281Z",
     "shell.execute_reply": "2025-07-30T13:10:00.502302Z"
    },
    "papermill": {
     "duration": 0.027476,
     "end_time": "2025-07-30T13:10:00.504878",
     "exception": false,
     "start_time": "2025-07-30T13:10:00.477402",
     "status": "completed"
    },
    "tags": []
   },
   "outputs": [
    {
     "name": "stdout",
     "output_type": "stream",
     "text": [
      "Current working directory: /dss/dsshome1/0C/ra93lal2/cma/CMA_Fairness_v2\n"
     ]
    }
   ],
   "source": [
    "import os\n",
    "print(\"Current working directory:\", os.getcwd())"
   ]
  },
  {
   "cell_type": "code",
   "execution_count": 3,
   "id": "2dce4c03",
   "metadata": {
    "execution": {
     "iopub.execute_input": "2025-07-30T13:10:00.548473Z",
     "iopub.status.busy": "2025-07-30T13:10:00.547355Z",
     "iopub.status.idle": "2025-07-30T13:10:00.555836Z",
     "shell.execute_reply": "2025-07-30T13:10:00.554580Z"
    },
    "papermill": {
     "duration": 0.031789,
     "end_time": "2025-07-30T13:10:00.557920",
     "exception": false,
     "start_time": "2025-07-30T13:10:00.526131",
     "status": "completed"
    },
    "tags": [
     "parameters"
    ]
   },
   "outputs": [],
   "source": [
    "run_no = 0\n",
    "universe_id = \"test\"\n",
    "universe = {\n",
    "    \"training_size\": \"25k\", # \"25k\", \"5k\", \"1k\"\n",
    "    \"training_year\": \"2014\", # \"2014\", \"2012_14\", \"2010_14\"\n",
    "    \"scale\": \"scale\", # \"scale\", \"do-not-scale\",\n",
    "    #\"stratify_split\": \"target\", # \"none\", \"target\", \"protected-attribute\", \"both\",\n",
    "    \"model\": \"elasticnet\", # \"logreg\", \"penalized_logreg\", \"rf\", \"gbm\", \"elasticnet\"\n",
    "    \"cutoff\": [\"quantile_0.15\", \"quantile_0.30\"],\n",
    "    \"exclude_features\": \"age\", # \"none\", \"nationality\", \"sex\", \"nationality-sex\", \"age\"\n",
    "    \"exclude_subgroups\": \"keep-all\", # \"keep-all\", \"drop-non-german\"\n",
    "    \"eval_fairness_grouping\": [\"majority-minority\", \"nationality-all\"]\n",
    "}\n",
    "\n",
    "output_dir=\"./output\"\n",
    "seed=0"
   ]
  },
  {
   "cell_type": "code",
   "execution_count": 4,
   "id": "869decdf",
   "metadata": {
    "execution": {
     "iopub.execute_input": "2025-07-30T13:10:00.604590Z",
     "iopub.status.busy": "2025-07-30T13:10:00.603931Z",
     "iopub.status.idle": "2025-07-30T13:10:00.610127Z",
     "shell.execute_reply": "2025-07-30T13:10:00.608216Z"
    },
    "papermill": {
     "duration": 0.030207,
     "end_time": "2025-07-30T13:10:00.611809",
     "exception": false,
     "start_time": "2025-07-30T13:10:00.581602",
     "status": "completed"
    },
    "tags": [
     "injected-parameters"
    ]
   },
   "outputs": [],
   "source": [
    "# Parameters\n",
    "universe_id = \"cc3c0d725cb2809bd122607542c4eaaf\"\n",
    "run_no = \"12\"\n",
    "universe = \"{\\\"cutoff\\\": [\\\"quantile_0.1\\\", \\\"quantile_0.25\\\"], \\\"eval_fairness_grouping\\\": [\\\"majority-minority\\\", \\\"nationality-all\\\"], \\\"exclude_features\\\": \\\"nationality\\\", \\\"exclude_subgroups\\\": \\\"keep-all\\\", \\\"model\\\": \\\"elasticnet\\\", \\\"scale\\\": \\\"scale\\\", \\\"training_size\\\": \\\"25k\\\", \\\"training_year\\\": \\\"2012_14\\\"}\"\n",
    "output_dir = \"output\"\n",
    "seed = \"2023\"\n"
   ]
  },
  {
   "cell_type": "code",
   "execution_count": 5,
   "id": "1650acaf",
   "metadata": {
    "execution": {
     "iopub.execute_input": "2025-07-30T13:10:00.655568Z",
     "iopub.status.busy": "2025-07-30T13:10:00.654913Z",
     "iopub.status.idle": "2025-07-30T13:10:00.661521Z",
     "shell.execute_reply": "2025-07-30T13:10:00.660474Z"
    },
    "papermill": {
     "duration": 0.029919,
     "end_time": "2025-07-30T13:10:00.663120",
     "exception": false,
     "start_time": "2025-07-30T13:10:00.633201",
     "status": "completed"
    },
    "tags": []
   },
   "outputs": [],
   "source": [
    "import json\n",
    "# Parse universe into dict if it is passed as a string\n",
    "if isinstance(universe, str):\n",
    "    universe = json.loads(universe)"
   ]
  },
  {
   "cell_type": "code",
   "execution_count": 6,
   "id": "16620c48",
   "metadata": {
    "execution": {
     "iopub.execute_input": "2025-07-30T13:10:00.708178Z",
     "iopub.status.busy": "2025-07-30T13:10:00.707760Z",
     "iopub.status.idle": "2025-07-30T13:10:00.755216Z",
     "shell.execute_reply": "2025-07-30T13:10:00.754290Z"
    },
    "papermill": {
     "duration": 0.071405,
     "end_time": "2025-07-30T13:10:00.757132",
     "exception": false,
     "start_time": "2025-07-30T13:10:00.685727",
     "status": "completed"
    },
    "tags": []
   },
   "outputs": [],
   "source": [
    "# Auto-reload the custom package\n",
    "%load_ext autoreload\n",
    "%autoreload 1\n",
    "%aimport fairness_multiverse"
   ]
  },
  {
   "cell_type": "code",
   "execution_count": 7,
   "id": "01c5c9f3",
   "metadata": {
    "execution": {
     "iopub.execute_input": "2025-07-30T13:10:00.802766Z",
     "iopub.status.busy": "2025-07-30T13:10:00.801889Z",
     "iopub.status.idle": "2025-07-30T13:10:02.831940Z",
     "shell.execute_reply": "2025-07-30T13:10:02.830886Z"
    },
    "papermill": {
     "duration": 2.055004,
     "end_time": "2025-07-30T13:10:02.834011",
     "exception": false,
     "start_time": "2025-07-30T13:10:00.779007",
     "status": "completed"
    },
    "tags": []
   },
   "outputs": [],
   "source": [
    "from fairness_multiverse.universe import UniverseAnalysis\n",
    "\n",
    "universe_analysis = UniverseAnalysis(\n",
    "    run_no = run_no,\n",
    "    universe_id = universe_id,\n",
    "    universe = universe,\n",
    "    output_dir=output_dir,\n",
    ")"
   ]
  },
  {
   "cell_type": "code",
   "execution_count": 8,
   "id": "106241f5",
   "metadata": {
    "execution": {
     "iopub.execute_input": "2025-07-30T13:10:02.879487Z",
     "iopub.status.busy": "2025-07-30T13:10:02.878990Z",
     "iopub.status.idle": "2025-07-30T13:10:02.885343Z",
     "shell.execute_reply": "2025-07-30T13:10:02.884166Z"
    },
    "papermill": {
     "duration": 0.029672,
     "end_time": "2025-07-30T13:10:02.887292",
     "exception": false,
     "start_time": "2025-07-30T13:10:02.857620",
     "status": "completed"
    },
    "tags": []
   },
   "outputs": [
    {
     "name": "stdout",
     "output_type": "stream",
     "text": [
      "Using Seed: 2023\n"
     ]
    }
   ],
   "source": [
    "import numpy as np\n",
    "parsed_seed = int(seed)\n",
    "np.random.seed(parsed_seed)\n",
    "print(f\"Using Seed: {parsed_seed}\")"
   ]
  },
  {
   "cell_type": "markdown",
   "id": "e0ebdc57",
   "metadata": {
    "papermill": {
     "duration": 0.019323,
     "end_time": "2025-07-30T13:10:02.929679",
     "exception": false,
     "start_time": "2025-07-30T13:10:02.910356",
     "status": "completed"
    },
    "tags": []
   },
   "source": [
    "# Loading Data"
   ]
  },
  {
   "cell_type": "markdown",
   "id": "681925a3",
   "metadata": {
    "papermill": {
     "duration": 0.021241,
     "end_time": "2025-07-30T13:10:02.970694",
     "exception": false,
     "start_time": "2025-07-30T13:10:02.949453",
     "status": "completed"
    },
    "tags": []
   },
   "source": [
    "Load siab_train, siab_test, siab_calib and/or \n",
    "load siab_train_features, siab_train_labels"
   ]
  },
  {
   "cell_type": "code",
   "execution_count": 9,
   "id": "f0496b8a",
   "metadata": {
    "execution": {
     "iopub.execute_input": "2025-07-30T13:10:03.012662Z",
     "iopub.status.busy": "2025-07-30T13:10:03.011927Z",
     "iopub.status.idle": "2025-07-30T13:10:15.850767Z",
     "shell.execute_reply": "2025-07-30T13:10:15.849461Z"
    },
    "papermill": {
     "duration": 12.862629,
     "end_time": "2025-07-30T13:10:15.853123",
     "exception": false,
     "start_time": "2025-07-30T13:10:02.990494",
     "status": "completed"
    },
    "tags": []
   },
   "outputs": [
    {
     "name": "stdout",
     "output_type": "stream",
     "text": [
      "Loading SIAB data from cache: data/siab_cached.csv.gz\n"
     ]
    },
    {
     "name": "stdout",
     "output_type": "stream",
     "text": [
      "(643690, 164)\n"
     ]
    }
   ],
   "source": [
    "from pathlib import Path\n",
    "import pandas as pd\n",
    "\n",
    "# File paths\n",
    "raw_file = Path(\"data/raw/siab.csv\")\n",
    "cache_file = Path(\"data/siab_cached.csv.gz\")\n",
    "\n",
    "# Ensure cache directory exists\n",
    "cache_file.parent.mkdir(parents=True, exist_ok=True)\n",
    "\n",
    "# Load with simple caching\n",
    "if cache_file.exists():\n",
    "    print(f\"Loading SIAB data from cache: {cache_file}\")\n",
    "    siab = pd.read_csv(cache_file, compression='gzip')\n",
    "else:\n",
    "    print(f\"Cache not found. Reading raw SIAB data: {raw_file}\")\n",
    "    siab = pd.read_csv(raw_file)\n",
    "    siab.to_csv(cache_file, index=False, compression='gzip')\n",
    "    print(f\"Cached SIAB data to: {cache_file}\")\n",
    "\n",
    "# Now use `siab` DataFrame as needed\n",
    "print(siab.shape)"
   ]
  },
  {
   "cell_type": "code",
   "execution_count": 10,
   "id": "db0ca512-5f53-4dba-abdb-a2888bca41ba",
   "metadata": {
    "execution": {
     "iopub.execute_input": "2025-07-30T13:10:15.916891Z",
     "iopub.status.busy": "2025-07-30T13:10:15.916049Z",
     "iopub.status.idle": "2025-07-30T13:10:15.922475Z",
     "shell.execute_reply": "2025-07-30T13:10:15.921390Z"
    },
    "papermill": {
     "duration": 0.039566,
     "end_time": "2025-07-30T13:10:15.924846",
     "exception": false,
     "start_time": "2025-07-30T13:10:15.885280",
     "status": "completed"
    },
    "tags": []
   },
   "outputs": [],
   "source": [
    "#siab"
   ]
  },
  {
   "cell_type": "code",
   "execution_count": 11,
   "id": "a0edb063",
   "metadata": {
    "execution": {
     "iopub.execute_input": "2025-07-30T13:10:15.986635Z",
     "iopub.status.busy": "2025-07-30T13:10:15.985882Z",
     "iopub.status.idle": "2025-07-30T13:10:15.992380Z",
     "shell.execute_reply": "2025-07-30T13:10:15.991217Z"
    },
    "papermill": {
     "duration": 0.039345,
     "end_time": "2025-07-30T13:10:15.994464",
     "exception": false,
     "start_time": "2025-07-30T13:10:15.955119",
     "status": "completed"
    },
    "tags": []
   },
   "outputs": [],
   "source": [
    "#import pandas as pd\n",
    "#\n",
    "#X_train = pd.read_csv(\"./data/X_train.csv\")\n",
    "#y_train = pd.read_csv(\"./data/y_train.csv\")"
   ]
  },
  {
   "cell_type": "code",
   "execution_count": 12,
   "id": "63d08085",
   "metadata": {
    "execution": {
     "iopub.execute_input": "2025-07-30T13:10:16.038816Z",
     "iopub.status.busy": "2025-07-30T13:10:16.038020Z",
     "iopub.status.idle": "2025-07-30T13:10:16.043897Z",
     "shell.execute_reply": "2025-07-30T13:10:16.042732Z"
    },
    "papermill": {
     "duration": 0.030343,
     "end_time": "2025-07-30T13:10:16.045797",
     "exception": false,
     "start_time": "2025-07-30T13:10:16.015454",
     "status": "completed"
    },
    "tags": []
   },
   "outputs": [],
   "source": [
    "#X_test = pd.read_csv(\"./data/X_test.csv\")\n",
    "#y_true = pd.read_csv(\"./data/y_test.csv\")"
   ]
  },
  {
   "cell_type": "code",
   "execution_count": 13,
   "id": "98a8d0fa-1d3d-4ed8-bb2c-281470e24add",
   "metadata": {
    "execution": {
     "iopub.execute_input": "2025-07-30T13:10:16.089925Z",
     "iopub.status.busy": "2025-07-30T13:10:16.089245Z",
     "iopub.status.idle": "2025-07-30T13:10:16.095688Z",
     "shell.execute_reply": "2025-07-30T13:10:16.094332Z"
    },
    "papermill": {
     "duration": 0.031446,
     "end_time": "2025-07-30T13:10:16.098623",
     "exception": false,
     "start_time": "2025-07-30T13:10:16.067177",
     "status": "completed"
    },
    "tags": []
   },
   "outputs": [],
   "source": [
    "# Calibration data for conformal\n",
    "#X_calib = pd.read_csv(\"./data/X_calib.csv\")\n",
    "#y_calib = pd.read_csv(\"./data/y_calib.csv\")"
   ]
  },
  {
   "cell_type": "markdown",
   "id": "997051c5-15bd-4b69-9786-c3001a3ce484",
   "metadata": {
    "papermill": {
     "duration": 0.022292,
     "end_time": "2025-07-30T13:10:16.143690",
     "exception": false,
     "start_time": "2025-07-30T13:10:16.121398",
     "status": "completed"
    },
    "tags": []
   },
   "source": [
    "# Splitting Data and Setting Training Data Size"
   ]
  },
  {
   "cell_type": "code",
   "execution_count": 14,
   "id": "e993b61f-042d-41a6-8c81-f55681f86335",
   "metadata": {
    "execution": {
     "iopub.execute_input": "2025-07-30T13:10:16.195833Z",
     "iopub.status.busy": "2025-07-30T13:10:16.193791Z",
     "iopub.status.idle": "2025-07-30T13:10:16.209135Z",
     "shell.execute_reply": "2025-07-30T13:10:16.208088Z"
    },
    "papermill": {
     "duration": 0.045514,
     "end_time": "2025-07-30T13:10:16.211490",
     "exception": false,
     "start_time": "2025-07-30T13:10:16.165976",
     "status": "completed"
    },
    "tags": []
   },
   "outputs": [],
   "source": [
    "def sample_by_year_size(df,\n",
    "                        training_year: str,\n",
    "                        training_size: str,\n",
    "                        random_state: int = 42):\n",
    "    # --- parse training_year into a list of int years ---\n",
    "    if \"_\" in training_year:\n",
    "        start_str, end_str = training_year.split(\"_\", 1)\n",
    "        start = int(start_str)\n",
    "        end   = int(end_str) if len(end_str) == 4 else (int(end_str) + (start // 100)*100)\n",
    "        years = list(range(start, end + 1))\n",
    "    else:\n",
    "        years = [int(training_year)]\n",
    "\n",
    "    df = df[df[\"year\"].isin(years)].reset_index(drop=True)\n",
    "\n",
    "    # --- map training_size to total number of samples ---\n",
    "    total_map = {\"25k\": 25_000, \"5k\": 5_000, \"1k\": 1_000}\n",
    "    if training_size not in total_map:\n",
    "        return df  # e.g. \"all\"\n",
    "\n",
    "    total_samples = total_map[training_size]\n",
    "    n_years       = len(years)\n",
    "    base          = total_samples // n_years\n",
    "    remainder     = total_samples % n_years\n",
    "\n",
    "    # --- build a dict: year -> how many to sample ---\n",
    "    # give +1 to the first `remainder` years in ascending order\n",
    "    quotas = {\n",
    "        year: base + (1 if idx < remainder else 0)\n",
    "        for idx, year in enumerate(sorted(years))\n",
    "    }\n",
    "\n",
    "    # --- sample per‐year according to the quota dict ---\n",
    "    sampled = (\n",
    "        df\n",
    "        .groupby(\"year\", group_keys=False)\n",
    "        .apply(lambda grp: grp.sample(\n",
    "            n=min(len(grp), quotas[grp.name]),\n",
    "            random_state=random_state))\n",
    "        .reset_index(drop=True)\n",
    "    )\n",
    "\n",
    "    return sampled"
   ]
  },
  {
   "cell_type": "code",
   "execution_count": 15,
   "id": "c0ccd338-0e02-41f3-a09d-f56f9266e3fb",
   "metadata": {
    "execution": {
     "iopub.execute_input": "2025-07-30T13:10:16.258223Z",
     "iopub.status.busy": "2025-07-30T13:10:16.257598Z",
     "iopub.status.idle": "2025-07-30T13:10:16.268961Z",
     "shell.execute_reply": "2025-07-30T13:10:16.267915Z"
    },
    "papermill": {
     "duration": 0.03455,
     "end_time": "2025-07-30T13:10:16.270577",
     "exception": false,
     "start_time": "2025-07-30T13:10:16.236027",
     "status": "completed"
    },
    "tags": []
   },
   "outputs": [
    {
     "data": {
      "text/plain": [
       "'25k'"
      ]
     },
     "execution_count": 15,
     "metadata": {},
     "output_type": "execute_result"
    }
   ],
   "source": [
    "universe[\"training_size\"]"
   ]
  },
  {
   "cell_type": "code",
   "execution_count": 16,
   "id": "ca707fd7-8047-4acd-bfa5-66248fbbf8e6",
   "metadata": {
    "execution": {
     "iopub.execute_input": "2025-07-30T13:10:16.311574Z",
     "iopub.status.busy": "2025-07-30T13:10:16.310948Z",
     "iopub.status.idle": "2025-07-30T13:10:16.318242Z",
     "shell.execute_reply": "2025-07-30T13:10:16.317279Z"
    },
    "papermill": {
     "duration": 0.029421,
     "end_time": "2025-07-30T13:10:16.319977",
     "exception": false,
     "start_time": "2025-07-30T13:10:16.290556",
     "status": "completed"
    },
    "tags": []
   },
   "outputs": [
    {
     "data": {
      "text/plain": [
       "'2012_14'"
      ]
     },
     "execution_count": 16,
     "metadata": {},
     "output_type": "execute_result"
    }
   ],
   "source": [
    "universe[\"training_year\"]"
   ]
  },
  {
   "cell_type": "code",
   "execution_count": 17,
   "id": "aea9c6ef-6f46-42c8-85eb-5a62025c1508",
   "metadata": {
    "execution": {
     "iopub.execute_input": "2025-07-30T13:10:16.362693Z",
     "iopub.status.busy": "2025-07-30T13:10:16.362170Z",
     "iopub.status.idle": "2025-07-30T13:10:17.063712Z",
     "shell.execute_reply": "2025-07-30T13:10:17.062785Z"
    },
    "papermill": {
     "duration": 0.723753,
     "end_time": "2025-07-30T13:10:17.065713",
     "exception": false,
     "start_time": "2025-07-30T13:10:16.341960",
     "status": "completed"
    },
    "tags": []
   },
   "outputs": [],
   "source": [
    "siab_train = sample_by_year_size(siab,\n",
    "                               training_year=universe[\"training_year\"],\n",
    "                               training_size=universe[\"training_size\"])"
   ]
  },
  {
   "cell_type": "code",
   "execution_count": 18,
   "id": "8d3afb32-789d-442c-8d5d-9f5aa8dd2eed",
   "metadata": {
    "execution": {
     "iopub.execute_input": "2025-07-30T13:10:17.122744Z",
     "iopub.status.busy": "2025-07-30T13:10:17.122004Z",
     "iopub.status.idle": "2025-07-30T13:10:17.129907Z",
     "shell.execute_reply": "2025-07-30T13:10:17.128907Z"
    },
    "papermill": {
     "duration": 0.039659,
     "end_time": "2025-07-30T13:10:17.131983",
     "exception": false,
     "start_time": "2025-07-30T13:10:17.092324",
     "status": "completed"
    },
    "tags": []
   },
   "outputs": [
    {
     "data": {
      "text/plain": [
       "(25000, 164)"
      ]
     },
     "execution_count": 18,
     "metadata": {},
     "output_type": "execute_result"
    }
   ],
   "source": [
    "siab_train.shape"
   ]
  },
  {
   "cell_type": "code",
   "execution_count": 19,
   "id": "d582db68-1a4c-47fb-84fc-08518dc1975a",
   "metadata": {
    "execution": {
     "iopub.execute_input": "2025-07-30T13:10:17.192701Z",
     "iopub.status.busy": "2025-07-30T13:10:17.192211Z",
     "iopub.status.idle": "2025-07-30T13:10:17.204222Z",
     "shell.execute_reply": "2025-07-30T13:10:17.203047Z"
    },
    "papermill": {
     "duration": 0.04441,
     "end_time": "2025-07-30T13:10:17.206141",
     "exception": false,
     "start_time": "2025-07-30T13:10:17.161731",
     "status": "completed"
    },
    "tags": []
   },
   "outputs": [
    {
     "data": {
      "text/plain": [
       "year\n",
       "2012    8334\n",
       "2013    8333\n",
       "2014    8333\n",
       "dtype: int64"
      ]
     },
     "metadata": {},
     "output_type": "display_data"
    }
   ],
   "source": [
    "display(siab_train.groupby(\"year\").size())"
   ]
  },
  {
   "cell_type": "code",
   "execution_count": 20,
   "id": "a561edb4-d032-42cb-8256-22eac1111c64",
   "metadata": {
    "execution": {
     "iopub.execute_input": "2025-07-30T13:10:17.253351Z",
     "iopub.status.busy": "2025-07-30T13:10:17.252536Z",
     "iopub.status.idle": "2025-07-30T13:10:17.529332Z",
     "shell.execute_reply": "2025-07-30T13:10:17.528221Z"
    },
    "papermill": {
     "duration": 0.30257,
     "end_time": "2025-07-30T13:10:17.531209",
     "exception": false,
     "start_time": "2025-07-30T13:10:17.228639",
     "status": "completed"
    },
    "tags": []
   },
   "outputs": [],
   "source": [
    "#siab_train = siab_s[siab_s.year < 2015]\n",
    "siab_calib = siab[siab.year == 2015]\n",
    "siab_test = siab[siab.year == 2016]"
   ]
  },
  {
   "cell_type": "code",
   "execution_count": 21,
   "id": "472de16f-c3db-4916-846b-1f0de9cf1746",
   "metadata": {
    "execution": {
     "iopub.execute_input": "2025-07-30T13:10:17.569445Z",
     "iopub.status.busy": "2025-07-30T13:10:17.569096Z",
     "iopub.status.idle": "2025-07-30T13:10:17.584785Z",
     "shell.execute_reply": "2025-07-30T13:10:17.583777Z"
    },
    "papermill": {
     "duration": 0.031267,
     "end_time": "2025-07-30T13:10:17.586377",
     "exception": false,
     "start_time": "2025-07-30T13:10:17.555110",
     "status": "completed"
    },
    "tags": []
   },
   "outputs": [],
   "source": [
    "X_train = siab_train.iloc[:,4:164]\n",
    "y_train = siab_train.iloc[:, [3]]"
   ]
  },
  {
   "cell_type": "code",
   "execution_count": 22,
   "id": "828c96af-f43a-4ed6-ba47-8ac73a47d56c",
   "metadata": {
    "execution": {
     "iopub.execute_input": "2025-07-30T13:10:17.637926Z",
     "iopub.status.busy": "2025-07-30T13:10:17.637478Z",
     "iopub.status.idle": "2025-07-30T13:10:17.700778Z",
     "shell.execute_reply": "2025-07-30T13:10:17.698921Z"
    },
    "papermill": {
     "duration": 0.095262,
     "end_time": "2025-07-30T13:10:17.702720",
     "exception": false,
     "start_time": "2025-07-30T13:10:17.607458",
     "status": "completed"
    },
    "tags": []
   },
   "outputs": [],
   "source": [
    "X_calib = siab_calib.iloc[:,4:164]\n",
    "y_calib = siab_calib.iloc[:, [3]]"
   ]
  },
  {
   "cell_type": "code",
   "execution_count": 23,
   "id": "c34be9c3-6bd6-476e-acd3-845840e303be",
   "metadata": {
    "execution": {
     "iopub.execute_input": "2025-07-30T13:10:17.762926Z",
     "iopub.status.busy": "2025-07-30T13:10:17.762217Z",
     "iopub.status.idle": "2025-07-30T13:10:17.830350Z",
     "shell.execute_reply": "2025-07-30T13:10:17.829146Z"
    },
    "papermill": {
     "duration": 0.100525,
     "end_time": "2025-07-30T13:10:17.832473",
     "exception": false,
     "start_time": "2025-07-30T13:10:17.731948",
     "status": "completed"
    },
    "tags": []
   },
   "outputs": [],
   "source": [
    "X_test = siab_test.iloc[:,4:164]\n",
    "y_true = siab_test.iloc[:, [3]]"
   ]
  },
  {
   "cell_type": "markdown",
   "id": "9901737e-04df-44f0-9100-f5ad144ed040",
   "metadata": {
    "papermill": {
     "duration": 0.021185,
     "end_time": "2025-07-30T13:10:17.879271",
     "exception": false,
     "start_time": "2025-07-30T13:10:17.858086",
     "status": "completed"
    },
    "tags": []
   },
   "source": [
    "# Splitting Data and Setting Training Data Size OLD VERSION"
   ]
  },
  {
   "cell_type": "code",
   "execution_count": 24,
   "id": "acbc8f7d-8fc8-4e86-8c59-5dcb0f58384b",
   "metadata": {
    "execution": {
     "iopub.execute_input": "2025-07-30T13:10:17.925458Z",
     "iopub.status.busy": "2025-07-30T13:10:17.924972Z",
     "iopub.status.idle": "2025-07-30T13:10:17.930547Z",
     "shell.execute_reply": "2025-07-30T13:10:17.929786Z"
    },
    "papermill": {
     "duration": 0.031375,
     "end_time": "2025-07-30T13:10:17.931793",
     "exception": false,
     "start_time": "2025-07-30T13:10:17.900418",
     "status": "completed"
    },
    "tags": []
   },
   "outputs": [],
   "source": [
    "#def sample_by_year(df, training_size, random_state=42):\n",
    "#    if training_size == \"2014\":\n",
    "#        return df[df[\"year\"] == 2014].reset_index(drop=True)\n",
    "#    \n",
    "#    size_map = {\n",
    "#        \"25k\": 5000,\n",
    "#        \"5k\": 1000,\n",
    "#        \"1k\": 200\n",
    "#    }\n",
    "#\n",
    "#    if training_size not in size_map:\n",
    "#        return df.reset_index(drop=True)  # use all data\n",
    "#\n",
    "#    n_per_year = size_map[training_size]\n",
    "#    grouped = df.groupby(\"year\")\n",
    "#    sampled = grouped.apply(lambda x: x.sample(n=min(n_per_year, len(x)), random_state=random_state))\n",
    "#    return sampled.reset_index(drop=True)"
   ]
  },
  {
   "cell_type": "code",
   "execution_count": 25,
   "id": "6d931f52-beaf-43ff-9e78-9d44a448d54e",
   "metadata": {
    "execution": {
     "iopub.execute_input": "2025-07-30T13:10:17.956719Z",
     "iopub.status.busy": "2025-07-30T13:10:17.956434Z",
     "iopub.status.idle": "2025-07-30T13:10:17.960377Z",
     "shell.execute_reply": "2025-07-30T13:10:17.959558Z"
    },
    "papermill": {
     "duration": 0.017465,
     "end_time": "2025-07-30T13:10:17.961739",
     "exception": false,
     "start_time": "2025-07-30T13:10:17.944274",
     "status": "completed"
    },
    "tags": []
   },
   "outputs": [],
   "source": [
    "#siab_s = sample_by_year(siab, universe[\"training_size\"])"
   ]
  },
  {
   "cell_type": "code",
   "execution_count": 26,
   "id": "5db0a40e-a4e2-4920-be85-b12ae061d70d",
   "metadata": {
    "execution": {
     "iopub.execute_input": "2025-07-30T13:10:18.017621Z",
     "iopub.status.busy": "2025-07-30T13:10:18.016975Z",
     "iopub.status.idle": "2025-07-30T13:10:18.022610Z",
     "shell.execute_reply": "2025-07-30T13:10:18.021702Z"
    },
    "papermill": {
     "duration": 0.030761,
     "end_time": "2025-07-30T13:10:18.024166",
     "exception": false,
     "start_time": "2025-07-30T13:10:17.993405",
     "status": "completed"
    },
    "tags": []
   },
   "outputs": [],
   "source": [
    "#display(siab_s.groupby(\"year\").size())"
   ]
  },
  {
   "cell_type": "code",
   "execution_count": 27,
   "id": "e6c733c5",
   "metadata": {
    "execution": {
     "iopub.execute_input": "2025-07-30T13:10:18.081289Z",
     "iopub.status.busy": "2025-07-30T13:10:18.080878Z",
     "iopub.status.idle": "2025-07-30T13:10:18.178352Z",
     "shell.execute_reply": "2025-07-30T13:10:18.177599Z"
    },
    "papermill": {
     "duration": 0.131855,
     "end_time": "2025-07-30T13:10:18.179778",
     "exception": false,
     "start_time": "2025-07-30T13:10:18.047923",
     "status": "completed"
    },
    "tags": []
   },
   "outputs": [],
   "source": [
    "# Auxiliary data needed downstream in the pipeline\n",
    "\n",
    "org_train = X_train.copy()\n",
    "org_test = X_test.copy()\n",
    "org_calib = X_calib.copy()"
   ]
  },
  {
   "cell_type": "code",
   "execution_count": 28,
   "id": "1466abac-c6da-4492-a62f-4240ae3783af",
   "metadata": {
    "execution": {
     "iopub.execute_input": "2025-07-30T13:10:18.223313Z",
     "iopub.status.busy": "2025-07-30T13:10:18.222886Z",
     "iopub.status.idle": "2025-07-30T13:10:18.227616Z",
     "shell.execute_reply": "2025-07-30T13:10:18.226890Z"
    },
    "papermill": {
     "duration": 0.030807,
     "end_time": "2025-07-30T13:10:18.229029",
     "exception": false,
     "start_time": "2025-07-30T13:10:18.198222",
     "status": "completed"
    },
    "tags": []
   },
   "outputs": [],
   "source": [
    "# put in other script?\n",
    "# Group sizes\n",
    "\n",
    "#def calculate_percentages(df, df_name):\n",
    "#    total_entries = len(df)\n",
    "#\n",
    "#    female_pct = (df['frau1'] == 1).mean() * 100\n",
    "#    non_german_pct = ((df['maxdeutsch1'] == 0) & (df['maxdeutsch.Missing.'] == 0)).mean() * 100\n",
    "#    non_german_male_pct = ((df['frau1'] == 0) & (df['maxdeutsch1'] == 0) & (df['maxdeutsch.Missing.'] == 0)).mean() * 100\n",
    "#    non_german_female_pct = ((df['frau1'] == 1) & (df['maxdeutsch1'] == 0) & (df['maxdeutsch.Missing.'] == 0)).mean() * 100\n",
    "#\n",
    "#    print(f\"--- {df_name} ---\")\n",
    "#    print(f\"Female: {female_pct:.2f}%\")\n",
    "#    print(f\"Non-German: {non_german_pct:.2f}%\")\n",
    "#    print(f\"Non-German Male: {non_german_male_pct:.2f}%\")\n",
    "#    print(f\"Non-German Female: {non_german_female_pct:.2f}%\\n\")\n",
    "#\n",
    "## Calculate for each DataFrame\n",
    "#calculate_percentages(siab_calib, \"siab_calib\")\n",
    "#calculate_percentages(siab_test, \"siab_test\")\n",
    "#calculate_percentages(siab_train, \"siab_train\")"
   ]
  },
  {
   "cell_type": "markdown",
   "id": "0a4a1b33",
   "metadata": {
    "papermill": {
     "duration": 0.024686,
     "end_time": "2025-07-30T13:10:18.266487",
     "exception": false,
     "start_time": "2025-07-30T13:10:18.241801",
     "status": "completed"
    },
    "tags": []
   },
   "source": [
    "# Preprocessing Data"
   ]
  },
  {
   "cell_type": "code",
   "execution_count": 29,
   "id": "ca879031",
   "metadata": {
    "execution": {
     "iopub.execute_input": "2025-07-30T13:10:18.324428Z",
     "iopub.status.busy": "2025-07-30T13:10:18.323922Z",
     "iopub.status.idle": "2025-07-30T13:10:18.330294Z",
     "shell.execute_reply": "2025-07-30T13:10:18.329187Z"
    },
    "papermill": {
     "duration": 0.034119,
     "end_time": "2025-07-30T13:10:18.331906",
     "exception": false,
     "start_time": "2025-07-30T13:10:18.297787",
     "status": "completed"
    },
    "tags": []
   },
   "outputs": [],
   "source": [
    "# EXCLUDE PROTECTED FEATURES\n",
    "# ----------------------\n",
    "# \"exclude_features\": \"none\", # \"nationality\", \"sex\", \"nationality-sex\"\n",
    "\n",
    "excluded_features = universe[\"exclude_features\"].split(\"-\") # split, e.g.: \"nationality-sex\" -> [\"nationality\", \"sex\"]\n",
    "excluded_features_dictionary = {\n",
    "    \"nationality\": [\"maxdeutsch1\", \"maxdeutsch.Missing.\"],\n",
    "    \"sex\": [\"frau1\"],\n",
    "    \"age\": [\"age\"],\n",
    "}\n"
   ]
  },
  {
   "cell_type": "code",
   "execution_count": 30,
   "id": "b745ac60",
   "metadata": {
    "execution": {
     "iopub.execute_input": "2025-07-30T13:10:18.358091Z",
     "iopub.status.busy": "2025-07-30T13:10:18.357725Z",
     "iopub.status.idle": "2025-07-30T13:10:18.362549Z",
     "shell.execute_reply": "2025-07-30T13:10:18.361755Z"
    },
    "papermill": {
     "duration": 0.018924,
     "end_time": "2025-07-30T13:10:18.363852",
     "exception": false,
     "start_time": "2025-07-30T13:10:18.344928",
     "status": "completed"
    },
    "tags": []
   },
   "outputs": [],
   "source": [
    "# Code nice names to column names\n",
    "\n",
    "excluded_features_columns = [\n",
    "    excluded_features_dictionary[f] for f in excluded_features if len(f) > 0 and f != \"none\"\n",
    "]"
   ]
  },
  {
   "cell_type": "code",
   "execution_count": 31,
   "id": "f84f73a2",
   "metadata": {
    "execution": {
     "iopub.execute_input": "2025-07-30T13:10:18.392698Z",
     "iopub.status.busy": "2025-07-30T13:10:18.392336Z",
     "iopub.status.idle": "2025-07-30T13:10:18.398356Z",
     "shell.execute_reply": "2025-07-30T13:10:18.397623Z"
    },
    "papermill": {
     "duration": 0.021319,
     "end_time": "2025-07-30T13:10:18.399741",
     "exception": false,
     "start_time": "2025-07-30T13:10:18.378422",
     "status": "completed"
    },
    "tags": []
   },
   "outputs": [],
   "source": [
    "from utils import flatten_once\n",
    "\n",
    "excluded_features_columns = flatten_once(excluded_features_columns)"
   ]
  },
  {
   "cell_type": "code",
   "execution_count": 32,
   "id": "884dea22",
   "metadata": {
    "execution": {
     "iopub.execute_input": "2025-07-30T13:10:18.430259Z",
     "iopub.status.busy": "2025-07-30T13:10:18.429582Z",
     "iopub.status.idle": "2025-07-30T13:10:18.443644Z",
     "shell.execute_reply": "2025-07-30T13:10:18.442873Z"
    },
    "papermill": {
     "duration": 0.030435,
     "end_time": "2025-07-30T13:10:18.445089",
     "exception": false,
     "start_time": "2025-07-30T13:10:18.414654",
     "status": "completed"
    },
    "tags": []
   },
   "outputs": [
    {
     "name": "stdout",
     "output_type": "stream",
     "text": [
      "Dropping features: ['maxdeutsch1', 'maxdeutsch.Missing.']\n"
     ]
    }
   ],
   "source": [
    "if len(excluded_features_columns) > 0:\n",
    "    print(f\"Dropping features: {excluded_features_columns}\")\n",
    "    X_train.drop(excluded_features_columns, axis=1, inplace=True)"
   ]
  },
  {
   "cell_type": "code",
   "execution_count": 33,
   "id": "95ab8b16",
   "metadata": {
    "execution": {
     "iopub.execute_input": "2025-07-30T13:10:18.471949Z",
     "iopub.status.busy": "2025-07-30T13:10:18.471314Z",
     "iopub.status.idle": "2025-07-30T13:10:18.529746Z",
     "shell.execute_reply": "2025-07-30T13:10:18.528526Z"
    },
    "papermill": {
     "duration": 0.073718,
     "end_time": "2025-07-30T13:10:18.531586",
     "exception": false,
     "start_time": "2025-07-30T13:10:18.457868",
     "status": "completed"
    },
    "tags": []
   },
   "outputs": [
    {
     "name": "stdout",
     "output_type": "stream",
     "text": [
      "Dropping features: ['maxdeutsch1', 'maxdeutsch.Missing.']\n"
     ]
    }
   ],
   "source": [
    "if len(excluded_features_columns) > 0:\n",
    "    print(f\"Dropping features: {excluded_features_columns}\")\n",
    "    X_test.drop(excluded_features_columns, axis=1, inplace=True)"
   ]
  },
  {
   "cell_type": "code",
   "execution_count": 34,
   "id": "1853aaf5-fb9f-46cb-a2b5-8ea4ae2237e4",
   "metadata": {
    "execution": {
     "iopub.execute_input": "2025-07-30T13:10:18.582690Z",
     "iopub.status.busy": "2025-07-30T13:10:18.582265Z",
     "iopub.status.idle": "2025-07-30T13:10:18.637512Z",
     "shell.execute_reply": "2025-07-30T13:10:18.636393Z"
    },
    "papermill": {
     "duration": 0.084288,
     "end_time": "2025-07-30T13:10:18.640349",
     "exception": false,
     "start_time": "2025-07-30T13:10:18.556061",
     "status": "completed"
    },
    "tags": []
   },
   "outputs": [
    {
     "name": "stdout",
     "output_type": "stream",
     "text": [
      "Dropping features: ['maxdeutsch1', 'maxdeutsch.Missing.']\n"
     ]
    }
   ],
   "source": [
    "if len(excluded_features_columns) > 0:\n",
    "    print(f\"Dropping features: {excluded_features_columns}\")\n",
    "    X_calib.drop(excluded_features_columns, axis=1, inplace=True)"
   ]
  },
  {
   "cell_type": "code",
   "execution_count": 35,
   "id": "6727d079-03e5-481e-9d38-292a90b7a0a8",
   "metadata": {
    "execution": {
     "iopub.execute_input": "2025-07-30T13:10:18.690595Z",
     "iopub.status.busy": "2025-07-30T13:10:18.689734Z",
     "iopub.status.idle": "2025-07-30T13:10:18.695277Z",
     "shell.execute_reply": "2025-07-30T13:10:18.694286Z"
    },
    "papermill": {
     "duration": 0.032416,
     "end_time": "2025-07-30T13:10:18.697110",
     "exception": false,
     "start_time": "2025-07-30T13:10:18.664694",
     "status": "completed"
    },
    "tags": []
   },
   "outputs": [],
   "source": [
    "# SPLIT & STRATIFY DATA\n",
    "# ----------------------"
   ]
  },
  {
   "cell_type": "code",
   "execution_count": 36,
   "id": "76c4dc6d",
   "metadata": {
    "execution": {
     "iopub.execute_input": "2025-07-30T13:10:18.737456Z",
     "iopub.status.busy": "2025-07-30T13:10:18.736511Z",
     "iopub.status.idle": "2025-07-30T13:10:18.741999Z",
     "shell.execute_reply": "2025-07-30T13:10:18.741085Z"
    },
    "papermill": {
     "duration": 0.026388,
     "end_time": "2025-07-30T13:10:18.743632",
     "exception": false,
     "start_time": "2025-07-30T13:10:18.717244",
     "status": "completed"
    },
    "tags": []
   },
   "outputs": [],
   "source": [
    "# EXCLUDE CERTAIN SUBGROUPS\n",
    "# ----------------------\n",
    "\n",
    "mode = universe.get(\"exclude_subgroups\", \"keep-all\") \n",
    "# Fetches the exclude_subgroups setting from the universe dict.\n",
    "# Defaults to \"keep-all\" if the key is missing."
   ]
  },
  {
   "cell_type": "code",
   "execution_count": 37,
   "id": "21994072",
   "metadata": {
    "execution": {
     "iopub.execute_input": "2025-07-30T13:10:18.787565Z",
     "iopub.status.busy": "2025-07-30T13:10:18.787162Z",
     "iopub.status.idle": "2025-07-30T13:10:18.793943Z",
     "shell.execute_reply": "2025-07-30T13:10:18.793124Z"
    },
    "papermill": {
     "duration": 0.026034,
     "end_time": "2025-07-30T13:10:18.795320",
     "exception": false,
     "start_time": "2025-07-30T13:10:18.769286",
     "status": "completed"
    },
    "tags": []
   },
   "outputs": [],
   "source": [
    "if mode == \"keep-all\":\n",
    "    keep_mask = pd.Series(True, index=org_train.index)\n",
    "\n",
    "# org_train contains the original feature columns from features_org (in Simson)\n",
    "# features_org contains unprocessed features, for me X_train at beginning ???\n",
    "# For keep-all, creates a boolean Series (keep_mask) of all True, so no rows are removed.\n",
    "\n",
    "elif mode == \"drop-non-german\":\n",
    "    keep_mask = org_train[\"maxdeutsch1\"] == 1 # ??? what about missing values?\n",
    "\n",
    "else:\n",
    "    raise ValueError(f\"Unsupported mode for exclude_subgroups: {mode}\")\n"
   ]
  },
  {
   "cell_type": "code",
   "execution_count": 38,
   "id": "71651440",
   "metadata": {
    "execution": {
     "iopub.execute_input": "2025-07-30T13:10:18.822958Z",
     "iopub.status.busy": "2025-07-30T13:10:18.822443Z",
     "iopub.status.idle": "2025-07-30T13:10:18.828480Z",
     "shell.execute_reply": "2025-07-30T13:10:18.827693Z"
    },
    "papermill": {
     "duration": 0.021061,
     "end_time": "2025-07-30T13:10:18.829884",
     "exception": false,
     "start_time": "2025-07-30T13:10:18.808823",
     "status": "completed"
    },
    "tags": []
   },
   "outputs": [],
   "source": [
    "n_drop = (~keep_mask).sum() # Calculates how many rows are set to be dropped\n",
    "if n_drop > 0:\n",
    "    pct = n_drop / len(keep_mask) * 100\n",
    "    print(f\"Dropping {n_drop} rows ({pct:.2f}%) where mode='{mode}'\")"
   ]
  },
  {
   "cell_type": "code",
   "execution_count": 39,
   "id": "5fb8eee5",
   "metadata": {
    "execution": {
     "iopub.execute_input": "2025-07-30T13:10:18.865380Z",
     "iopub.status.busy": "2025-07-30T13:10:18.864982Z",
     "iopub.status.idle": "2025-07-30T13:10:18.878055Z",
     "shell.execute_reply": "2025-07-30T13:10:18.877321Z"
    },
    "papermill": {
     "duration": 0.027963,
     "end_time": "2025-07-30T13:10:18.879373",
     "exception": false,
     "start_time": "2025-07-30T13:10:18.851410",
     "status": "completed"
    },
    "tags": []
   },
   "outputs": [],
   "source": [
    "X_train = X_train[keep_mask]"
   ]
  },
  {
   "cell_type": "code",
   "execution_count": 40,
   "id": "b202bb3a",
   "metadata": {
    "execution": {
     "iopub.execute_input": "2025-07-30T13:10:18.924025Z",
     "iopub.status.busy": "2025-07-30T13:10:18.923563Z",
     "iopub.status.idle": "2025-07-30T13:10:18.930438Z",
     "shell.execute_reply": "2025-07-30T13:10:18.929373Z"
    },
    "papermill": {
     "duration": 0.039692,
     "end_time": "2025-07-30T13:10:18.932475",
     "exception": false,
     "start_time": "2025-07-30T13:10:18.892783",
     "status": "completed"
    },
    "tags": []
   },
   "outputs": [],
   "source": [
    "y_train = y_train[keep_mask]"
   ]
  },
  {
   "cell_type": "markdown",
   "id": "493e2ac3",
   "metadata": {
    "papermill": {
     "duration": 0.014031,
     "end_time": "2025-07-30T13:10:18.975138",
     "exception": false,
     "start_time": "2025-07-30T13:10:18.961107",
     "status": "completed"
    },
    "tags": []
   },
   "source": [
    "# Model Training"
   ]
  },
  {
   "cell_type": "code",
   "execution_count": 41,
   "id": "679e1268",
   "metadata": {
    "execution": {
     "iopub.execute_input": "2025-07-30T13:10:19.001106Z",
     "iopub.status.busy": "2025-07-30T13:10:19.000752Z",
     "iopub.status.idle": "2025-07-30T13:10:19.115600Z",
     "shell.execute_reply": "2025-07-30T13:10:19.114631Z"
    },
    "papermill": {
     "duration": 0.129711,
     "end_time": "2025-07-30T13:10:19.117592",
     "exception": false,
     "start_time": "2025-07-30T13:10:18.987881",
     "status": "completed"
    },
    "tags": []
   },
   "outputs": [],
   "source": [
    "from sklearn.linear_model import LogisticRegression\n",
    "from sklearn.ensemble import GradientBoostingClassifier, RandomForestClassifier\n",
    "\n",
    "if (universe[\"model\"] == \"logreg\"):\n",
    "    model = LogisticRegression() #penalty=\"none\") #, solver=\"newton-cg\", max_iter=1) # include random_state=19 ?\n",
    "elif (universe[\"model\"] == \"penalized_logreg\"):\n",
    "    model = LogisticRegression(penalty=\"l2\", C=1.0) #, solver=\"newton-cg\", max_iter=1)\n",
    "elif (universe[\"model\"] == \"rf\"):\n",
    "    model = RandomForestClassifier(n_estimators=100, n_jobs=-1)\n",
    "elif (universe[\"model\"] == \"gbm\"):\n",
    "    model = GradientBoostingClassifier()\n",
    "elif (universe[\"model\"] == \"elasticnet\"):\n",
    "    model = LogisticRegression(penalty = 'elasticnet', solver = 'saga', l1_ratio = 0.5, max_iter=5000) # which solver to use?\n",
    "else:\n",
    "    raise \"Unsupported universe.model\""
   ]
  },
  {
   "cell_type": "code",
   "execution_count": 42,
   "id": "0cc8f744",
   "metadata": {
    "execution": {
     "iopub.execute_input": "2025-07-30T13:10:19.163738Z",
     "iopub.status.busy": "2025-07-30T13:10:19.163274Z",
     "iopub.status.idle": "2025-07-30T13:10:19.170467Z",
     "shell.execute_reply": "2025-07-30T13:10:19.169342Z"
    },
    "papermill": {
     "duration": 0.032723,
     "end_time": "2025-07-30T13:10:19.173580",
     "exception": false,
     "start_time": "2025-07-30T13:10:19.140857",
     "status": "completed"
    },
    "tags": []
   },
   "outputs": [],
   "source": [
    "import numpy as np\n",
    "from sklearn.pipeline import Pipeline\n",
    "from sklearn.preprocessing import StandardScaler\n",
    "\n",
    "model = Pipeline([\n",
    "    #(\"continuous_processor\", continuous_processor),\n",
    "    #(\"categorical_preprocessor\", categorical_preprocessor),\n",
    "    (\"scale\", StandardScaler() if universe[\"scale\"] == \"scale\" else None), \n",
    "    (\"model\", model),\n",
    "])"
   ]
  },
  {
   "cell_type": "code",
   "execution_count": 43,
   "id": "9442c04d",
   "metadata": {
    "execution": {
     "iopub.execute_input": "2025-07-30T13:10:19.227287Z",
     "iopub.status.busy": "2025-07-30T13:10:19.226534Z",
     "iopub.status.idle": "2025-07-30T13:10:41.528360Z",
     "shell.execute_reply": "2025-07-30T13:10:41.527468Z"
    },
    "papermill": {
     "duration": 22.329943,
     "end_time": "2025-07-30T13:10:41.529643",
     "exception": false,
     "start_time": "2025-07-30T13:10:19.199700",
     "status": "completed"
    },
    "tags": []
   },
   "outputs": [
    {
     "data": {
      "text/html": [
       "<style>#sk-container-id-1 {color: black;background-color: white;}#sk-container-id-1 pre{padding: 0;}#sk-container-id-1 div.sk-toggleable {background-color: white;}#sk-container-id-1 label.sk-toggleable__label {cursor: pointer;display: block;width: 100%;margin-bottom: 0;padding: 0.3em;box-sizing: border-box;text-align: center;}#sk-container-id-1 label.sk-toggleable__label-arrow:before {content: \"▸\";float: left;margin-right: 0.25em;color: #696969;}#sk-container-id-1 label.sk-toggleable__label-arrow:hover:before {color: black;}#sk-container-id-1 div.sk-estimator:hover label.sk-toggleable__label-arrow:before {color: black;}#sk-container-id-1 div.sk-toggleable__content {max-height: 0;max-width: 0;overflow: hidden;text-align: left;background-color: #f0f8ff;}#sk-container-id-1 div.sk-toggleable__content pre {margin: 0.2em;color: black;border-radius: 0.25em;background-color: #f0f8ff;}#sk-container-id-1 input.sk-toggleable__control:checked~div.sk-toggleable__content {max-height: 200px;max-width: 100%;overflow: auto;}#sk-container-id-1 input.sk-toggleable__control:checked~label.sk-toggleable__label-arrow:before {content: \"▾\";}#sk-container-id-1 div.sk-estimator input.sk-toggleable__control:checked~label.sk-toggleable__label {background-color: #d4ebff;}#sk-container-id-1 div.sk-label input.sk-toggleable__control:checked~label.sk-toggleable__label {background-color: #d4ebff;}#sk-container-id-1 input.sk-hidden--visually {border: 0;clip: rect(1px 1px 1px 1px);clip: rect(1px, 1px, 1px, 1px);height: 1px;margin: -1px;overflow: hidden;padding: 0;position: absolute;width: 1px;}#sk-container-id-1 div.sk-estimator {font-family: monospace;background-color: #f0f8ff;border: 1px dotted black;border-radius: 0.25em;box-sizing: border-box;margin-bottom: 0.5em;}#sk-container-id-1 div.sk-estimator:hover {background-color: #d4ebff;}#sk-container-id-1 div.sk-parallel-item::after {content: \"\";width: 100%;border-bottom: 1px solid gray;flex-grow: 1;}#sk-container-id-1 div.sk-label:hover label.sk-toggleable__label {background-color: #d4ebff;}#sk-container-id-1 div.sk-serial::before {content: \"\";position: absolute;border-left: 1px solid gray;box-sizing: border-box;top: 0;bottom: 0;left: 50%;z-index: 0;}#sk-container-id-1 div.sk-serial {display: flex;flex-direction: column;align-items: center;background-color: white;padding-right: 0.2em;padding-left: 0.2em;position: relative;}#sk-container-id-1 div.sk-item {position: relative;z-index: 1;}#sk-container-id-1 div.sk-parallel {display: flex;align-items: stretch;justify-content: center;background-color: white;position: relative;}#sk-container-id-1 div.sk-item::before, #sk-container-id-1 div.sk-parallel-item::before {content: \"\";position: absolute;border-left: 1px solid gray;box-sizing: border-box;top: 0;bottom: 0;left: 50%;z-index: -1;}#sk-container-id-1 div.sk-parallel-item {display: flex;flex-direction: column;z-index: 1;position: relative;background-color: white;}#sk-container-id-1 div.sk-parallel-item:first-child::after {align-self: flex-end;width: 50%;}#sk-container-id-1 div.sk-parallel-item:last-child::after {align-self: flex-start;width: 50%;}#sk-container-id-1 div.sk-parallel-item:only-child::after {width: 0;}#sk-container-id-1 div.sk-dashed-wrapped {border: 1px dashed gray;margin: 0 0.4em 0.5em 0.4em;box-sizing: border-box;padding-bottom: 0.4em;background-color: white;}#sk-container-id-1 div.sk-label label {font-family: monospace;font-weight: bold;display: inline-block;line-height: 1.2em;}#sk-container-id-1 div.sk-label-container {text-align: center;}#sk-container-id-1 div.sk-container {/* jupyter's `normalize.less` sets `[hidden] { display: none; }` but bootstrap.min.css set `[hidden] { display: none !important; }` so we also need the `!important` here to be able to override the default hidden behavior on the sphinx rendered scikit-learn.org. See: https://github.com/scikit-learn/scikit-learn/issues/21755 */display: inline-block !important;position: relative;}#sk-container-id-1 div.sk-text-repr-fallback {display: none;}</style><div id=\"sk-container-id-1\" class=\"sk-top-container\"><div class=\"sk-text-repr-fallback\"><pre>Pipeline(steps=[(&#x27;scale&#x27;, StandardScaler()),\n",
       "                (&#x27;model&#x27;,\n",
       "                 LogisticRegression(l1_ratio=0.5, max_iter=5000,\n",
       "                                    penalty=&#x27;elasticnet&#x27;, solver=&#x27;saga&#x27;))])</pre><b>In a Jupyter environment, please rerun this cell to show the HTML representation or trust the notebook. <br />On GitHub, the HTML representation is unable to render, please try loading this page with nbviewer.org.</b></div><div class=\"sk-container\" hidden><div class=\"sk-item sk-dashed-wrapped\"><div class=\"sk-label-container\"><div class=\"sk-label sk-toggleable\"><input class=\"sk-toggleable__control sk-hidden--visually\" id=\"sk-estimator-id-1\" type=\"checkbox\" ><label for=\"sk-estimator-id-1\" class=\"sk-toggleable__label sk-toggleable__label-arrow\">Pipeline</label><div class=\"sk-toggleable__content\"><pre>Pipeline(steps=[(&#x27;scale&#x27;, StandardScaler()),\n",
       "                (&#x27;model&#x27;,\n",
       "                 LogisticRegression(l1_ratio=0.5, max_iter=5000,\n",
       "                                    penalty=&#x27;elasticnet&#x27;, solver=&#x27;saga&#x27;))])</pre></div></div></div><div class=\"sk-serial\"><div class=\"sk-item\"><div class=\"sk-estimator sk-toggleable\"><input class=\"sk-toggleable__control sk-hidden--visually\" id=\"sk-estimator-id-2\" type=\"checkbox\" ><label for=\"sk-estimator-id-2\" class=\"sk-toggleable__label sk-toggleable__label-arrow\">StandardScaler</label><div class=\"sk-toggleable__content\"><pre>StandardScaler()</pre></div></div></div><div class=\"sk-item\"><div class=\"sk-estimator sk-toggleable\"><input class=\"sk-toggleable__control sk-hidden--visually\" id=\"sk-estimator-id-3\" type=\"checkbox\" ><label for=\"sk-estimator-id-3\" class=\"sk-toggleable__label sk-toggleable__label-arrow\">LogisticRegression</label><div class=\"sk-toggleable__content\"><pre>LogisticRegression(l1_ratio=0.5, max_iter=5000, penalty=&#x27;elasticnet&#x27;,\n",
       "                   solver=&#x27;saga&#x27;)</pre></div></div></div></div></div></div></div>"
      ],
      "text/plain": [
       "Pipeline(steps=[('scale', StandardScaler()),\n",
       "                ('model',\n",
       "                 LogisticRegression(l1_ratio=0.5, max_iter=5000,\n",
       "                                    penalty='elasticnet', solver='saga'))])"
      ]
     },
     "execution_count": 43,
     "metadata": {},
     "output_type": "execute_result"
    }
   ],
   "source": [
    "model.fit(X_train, y_train.values.ravel())"
   ]
  },
  {
   "cell_type": "code",
   "execution_count": 44,
   "id": "af59f8c0",
   "metadata": {
    "execution": {
     "iopub.execute_input": "2025-07-30T13:10:41.588964Z",
     "iopub.status.busy": "2025-07-30T13:10:41.588395Z",
     "iopub.status.idle": "2025-07-30T13:10:41.594839Z",
     "shell.execute_reply": "2025-07-30T13:10:41.593738Z"
    },
    "papermill": {
     "duration": 0.045356,
     "end_time": "2025-07-30T13:10:41.596808",
     "exception": false,
     "start_time": "2025-07-30T13:10:41.551452",
     "status": "completed"
    },
    "tags": []
   },
   "outputs": [],
   "source": [
    "from fairness_multiverse.universe import predict_w_threshold"
   ]
  },
  {
   "cell_type": "code",
   "execution_count": 45,
   "id": "a7cf2e16",
   "metadata": {
    "execution": {
     "iopub.execute_input": "2025-07-30T13:10:41.668242Z",
     "iopub.status.busy": "2025-07-30T13:10:41.667559Z",
     "iopub.status.idle": "2025-07-30T13:10:41.958890Z",
     "shell.execute_reply": "2025-07-30T13:10:41.957848Z"
    },
    "papermill": {
     "duration": 0.329384,
     "end_time": "2025-07-30T13:10:41.960705",
     "exception": false,
     "start_time": "2025-07-30T13:10:41.631321",
     "status": "completed"
    },
    "tags": []
   },
   "outputs": [
    {
     "data": {
      "text/plain": [
       "0.8621112473525805"
      ]
     },
     "execution_count": 45,
     "metadata": {},
     "output_type": "execute_result"
    }
   ],
   "source": [
    "probs_test = model.predict_proba(X_test)\n",
    "\n",
    "'''\n",
    "Below code returns a boolean array (or binary 0/1 array depending on how it’s used) where each element \n",
    "is True if the probability of class 1 is greater than or equal to the threshold, and False otherwise.\n",
    "'''\n",
    "y_pred_default = predict_w_threshold(probs_test, 0.5)\n",
    "\n",
    "from sklearn.metrics import accuracy_score\n",
    "\n",
    "# Naive prediction\n",
    "accuracy_score(y_true = y_true, y_pred = y_pred_default)"
   ]
  },
  {
   "cell_type": "code",
   "execution_count": 46,
   "id": "081964c3",
   "metadata": {
    "execution": {
     "iopub.execute_input": "2025-07-30T13:10:42.009184Z",
     "iopub.status.busy": "2025-07-30T13:10:42.008290Z",
     "iopub.status.idle": "2025-07-30T13:10:42.188424Z",
     "shell.execute_reply": "2025-07-30T13:10:42.187523Z"
    },
    "papermill": {
     "duration": 0.205623,
     "end_time": "2025-07-30T13:10:42.190324",
     "exception": false,
     "start_time": "2025-07-30T13:10:41.984701",
     "status": "completed"
    },
    "tags": []
   },
   "outputs": [
    {
     "data": {
      "text/plain": [
       "array([0, 0, 0, ..., 0, 0, 0])"
      ]
     },
     "execution_count": 46,
     "metadata": {},
     "output_type": "execute_result"
    }
   ],
   "source": [
    "model.predict(X_test)"
   ]
  },
  {
   "cell_type": "markdown",
   "id": "56c9705b",
   "metadata": {
    "papermill": {
     "duration": 0.02671,
     "end_time": "2025-07-30T13:10:42.244019",
     "exception": false,
     "start_time": "2025-07-30T13:10:42.217309",
     "status": "completed"
    },
    "tags": []
   },
   "source": [
    "# Conformal Prediction"
   ]
  },
  {
   "cell_type": "code",
   "execution_count": 47,
   "id": "160ec6ff",
   "metadata": {
    "execution": {
     "iopub.execute_input": "2025-07-30T13:10:42.310260Z",
     "iopub.status.busy": "2025-07-30T13:10:42.309765Z",
     "iopub.status.idle": "2025-07-30T13:10:42.316624Z",
     "shell.execute_reply": "2025-07-30T13:10:42.315462Z"
    },
    "papermill": {
     "duration": 0.046896,
     "end_time": "2025-07-30T13:10:42.318318",
     "exception": false,
     "start_time": "2025-07-30T13:10:42.271422",
     "status": "completed"
    },
    "tags": []
   },
   "outputs": [],
   "source": [
    "# Miscoverage level for conformal prediction (10% allowed error rate => 90% target coverage)\n",
    "alpha = 0.1"
   ]
  },
  {
   "cell_type": "code",
   "execution_count": 48,
   "id": "eadf4555-3dd3-440e-8e35-f82a4ad9f855",
   "metadata": {
    "execution": {
     "iopub.execute_input": "2025-07-30T13:10:42.368269Z",
     "iopub.status.busy": "2025-07-30T13:10:42.367743Z",
     "iopub.status.idle": "2025-07-30T13:10:42.548407Z",
     "shell.execute_reply": "2025-07-30T13:10:42.547550Z"
    },
    "papermill": {
     "duration": 0.207813,
     "end_time": "2025-07-30T13:10:42.550344",
     "exception": false,
     "start_time": "2025-07-30T13:10:42.342531",
     "status": "completed"
    },
    "tags": []
   },
   "outputs": [],
   "source": [
    "probs_calib = model.predict_proba(X_calib)"
   ]
  },
  {
   "cell_type": "code",
   "execution_count": 49,
   "id": "2ed93547-6d5d-4983-9b36-1ecb300da49a",
   "metadata": {
    "execution": {
     "iopub.execute_input": "2025-07-30T13:10:42.605003Z",
     "iopub.status.busy": "2025-07-30T13:10:42.604491Z",
     "iopub.status.idle": "2025-07-30T13:10:42.611326Z",
     "shell.execute_reply": "2025-07-30T13:10:42.610340Z"
    },
    "papermill": {
     "duration": 0.036144,
     "end_time": "2025-07-30T13:10:42.613133",
     "exception": false,
     "start_time": "2025-07-30T13:10:42.576989",
     "status": "completed"
    },
    "tags": []
   },
   "outputs": [],
   "source": [
    "y_calib = y_calib.values.ravel().astype(int)"
   ]
  },
  {
   "cell_type": "code",
   "execution_count": 50,
   "id": "65d1320d-f588-4b38-9072-62af1ae97f7d",
   "metadata": {
    "execution": {
     "iopub.execute_input": "2025-07-30T13:10:42.665983Z",
     "iopub.status.busy": "2025-07-30T13:10:42.665465Z",
     "iopub.status.idle": "2025-07-30T13:10:42.674339Z",
     "shell.execute_reply": "2025-07-30T13:10:42.673342Z"
    },
    "papermill": {
     "duration": 0.037046,
     "end_time": "2025-07-30T13:10:42.676269",
     "exception": false,
     "start_time": "2025-07-30T13:10:42.639223",
     "status": "completed"
    },
    "tags": []
   },
   "outputs": [],
   "source": [
    "from fairness_multiverse.conformal import compute_nc_scores\n",
    "\n",
    "# Compute nonconformity scores on calibration set (1 - probability of true class)\n",
    "nc_scores = compute_nc_scores(probs_calib, y_calib)"
   ]
  },
  {
   "cell_type": "code",
   "execution_count": 51,
   "id": "df3b8ca3-53b7-43d5-9667-7c85da7aeda2",
   "metadata": {
    "execution": {
     "iopub.execute_input": "2025-07-30T13:10:42.728181Z",
     "iopub.status.busy": "2025-07-30T13:10:42.727700Z",
     "iopub.status.idle": "2025-07-30T13:10:42.734818Z",
     "shell.execute_reply": "2025-07-30T13:10:42.733911Z"
    },
    "papermill": {
     "duration": 0.034114,
     "end_time": "2025-07-30T13:10:42.736463",
     "exception": false,
     "start_time": "2025-07-30T13:10:42.702349",
     "status": "completed"
    },
    "tags": []
   },
   "outputs": [],
   "source": [
    "from fairness_multiverse.conformal import find_threshold\n",
    "\n",
    "# Find conformal threshold q_hat for the given alpha (split conformal method)\n",
    "q_hat = find_threshold(nc_scores, alpha)"
   ]
  },
  {
   "cell_type": "code",
   "execution_count": 52,
   "id": "4d29e6c1-0ef6-4aa4-b8fe-4fe79b0d033a",
   "metadata": {
    "execution": {
     "iopub.execute_input": "2025-07-30T13:10:42.787552Z",
     "iopub.status.busy": "2025-07-30T13:10:42.787060Z",
     "iopub.status.idle": "2025-07-30T13:10:42.795086Z",
     "shell.execute_reply": "2025-07-30T13:10:42.794132Z"
    },
    "papermill": {
     "duration": 0.035456,
     "end_time": "2025-07-30T13:10:42.796940",
     "exception": false,
     "start_time": "2025-07-30T13:10:42.761484",
     "status": "completed"
    },
    "tags": []
   },
   "outputs": [
    {
     "data": {
      "text/plain": [
       "0.6635613031914009"
      ]
     },
     "execution_count": 52,
     "metadata": {},
     "output_type": "execute_result"
    }
   ],
   "source": [
    "q_hat"
   ]
  },
  {
   "cell_type": "code",
   "execution_count": 53,
   "id": "92460794-cdac-4be2-ba28-f28c0515a6fb",
   "metadata": {
    "execution": {
     "iopub.execute_input": "2025-07-30T13:10:42.850149Z",
     "iopub.status.busy": "2025-07-30T13:10:42.849609Z",
     "iopub.status.idle": "2025-07-30T13:10:43.739576Z",
     "shell.execute_reply": "2025-07-30T13:10:43.738596Z"
    },
    "papermill": {
     "duration": 0.918605,
     "end_time": "2025-07-30T13:10:43.741592",
     "exception": false,
     "start_time": "2025-07-30T13:10:42.822987",
     "status": "completed"
    },
    "tags": []
   },
   "outputs": [],
   "source": [
    "from fairness_multiverse.conformal import predict_conformal_sets\n",
    "\n",
    "# Generate prediction sets for each test example\n",
    "pred_sets = predict_conformal_sets(model, X_test, q_hat)"
   ]
  },
  {
   "cell_type": "code",
   "execution_count": 54,
   "id": "d90c9a65-e6db-4f5d-80cd-e68fb7e46829",
   "metadata": {
    "execution": {
     "iopub.execute_input": "2025-07-30T13:10:43.796496Z",
     "iopub.status.busy": "2025-07-30T13:10:43.795934Z",
     "iopub.status.idle": "2025-07-30T13:10:43.802167Z",
     "shell.execute_reply": "2025-07-30T13:10:43.800830Z"
    },
    "papermill": {
     "duration": 0.035217,
     "end_time": "2025-07-30T13:10:43.804489",
     "exception": false,
     "start_time": "2025-07-30T13:10:43.769272",
     "status": "completed"
    },
    "tags": []
   },
   "outputs": [],
   "source": [
    "y_true = y_true.squeeze()"
   ]
  },
  {
   "cell_type": "code",
   "execution_count": 55,
   "id": "3a58a54a-1e68-46b9-927a-df01f18aebc8",
   "metadata": {
    "execution": {
     "iopub.execute_input": "2025-07-30T13:10:43.861709Z",
     "iopub.status.busy": "2025-07-30T13:10:43.861247Z",
     "iopub.status.idle": "2025-07-30T13:10:44.811105Z",
     "shell.execute_reply": "2025-07-30T13:10:44.809955Z"
    },
    "papermill": {
     "duration": 0.968006,
     "end_time": "2025-07-30T13:10:44.813269",
     "exception": false,
     "start_time": "2025-07-30T13:10:43.845263",
     "status": "completed"
    },
    "tags": []
   },
   "outputs": [],
   "source": [
    "from fairness_multiverse.conformal import evaluate_sets\n",
    "\n",
    "# Evaluate coverage and average set size on test data\n",
    "metrics = evaluate_sets(pred_sets, y_true)"
   ]
  },
  {
   "cell_type": "markdown",
   "id": "2b569c12-9aaa-4c88-98c9-bbcd0cf3ebb8",
   "metadata": {
    "papermill": {
     "duration": 0.023509,
     "end_time": "2025-07-30T13:10:44.864131",
     "exception": false,
     "start_time": "2025-07-30T13:10:44.840622",
     "status": "completed"
    },
    "tags": []
   },
   "source": [
    "# CP Metrics"
   ]
  },
  {
   "cell_type": "code",
   "execution_count": 56,
   "id": "5ce0a5cb-201f-45a0-ade5-94c7f0bd6095",
   "metadata": {
    "execution": {
     "iopub.execute_input": "2025-07-30T13:10:44.912408Z",
     "iopub.status.busy": "2025-07-30T13:10:44.911858Z",
     "iopub.status.idle": "2025-07-30T13:10:44.920164Z",
     "shell.execute_reply": "2025-07-30T13:10:44.919080Z"
    },
    "papermill": {
     "duration": 0.03429,
     "end_time": "2025-07-30T13:10:44.921748",
     "exception": false,
     "start_time": "2025-07-30T13:10:44.887458",
     "status": "completed"
    },
    "tags": []
   },
   "outputs": [
    {
     "data": {
      "text/plain": [
       "{'coverage': 0.9115037342548211, 'avg_size': 1.1246237877605618}"
      ]
     },
     "execution_count": 56,
     "metadata": {},
     "output_type": "execute_result"
    }
   ],
   "source": [
    "metrics"
   ]
  },
  {
   "cell_type": "code",
   "execution_count": 57,
   "id": "9b9a838d-31c9-430b-ae14-12baee460d17",
   "metadata": {
    "execution": {
     "iopub.execute_input": "2025-07-30T13:10:44.970617Z",
     "iopub.status.busy": "2025-07-30T13:10:44.970120Z",
     "iopub.status.idle": "2025-07-30T13:10:44.977211Z",
     "shell.execute_reply": "2025-07-30T13:10:44.976163Z"
    },
    "papermill": {
     "duration": 0.033165,
     "end_time": "2025-07-30T13:10:44.979133",
     "exception": false,
     "start_time": "2025-07-30T13:10:44.945968",
     "status": "completed"
    },
    "tags": []
   },
   "outputs": [],
   "source": [
    "example_universe = universe.copy()\n",
    "universe_training_size = example_universe.get(\"training_size\")\n",
    "universe_scale = example_universe.get(\"scale\")\n",
    "universe_model = example_universe.get(\"model\")\n",
    "universe_exclude_features = example_universe.get(\"exclude_features\")\n",
    "universe_exclude_subgroups = example_universe.get(\"exclude_subgroups\")"
   ]
  },
  {
   "cell_type": "code",
   "execution_count": 58,
   "id": "f4b6a8ac-9dc0-4245-8a91-5b3b5999c4f9",
   "metadata": {
    "execution": {
     "iopub.execute_input": "2025-07-30T13:10:45.036436Z",
     "iopub.status.busy": "2025-07-30T13:10:45.035438Z",
     "iopub.status.idle": "2025-07-30T13:10:45.042086Z",
     "shell.execute_reply": "2025-07-30T13:10:45.041058Z"
    },
    "papermill": {
     "duration": 0.039563,
     "end_time": "2025-07-30T13:10:45.043734",
     "exception": false,
     "start_time": "2025-07-30T13:10:45.004171",
     "status": "completed"
    },
    "tags": []
   },
   "outputs": [],
   "source": [
    "cp_metrics_dict = {\n",
    "    \"universe_id\": [universe_id],\n",
    "    \"universe_training_size\": [universe_training_size],\n",
    "    \"universe_scale\": [universe_scale],\n",
    "    \"universe_model\": [universe_model],\n",
    "    \"universe_exclude_features\": [universe_exclude_features],\n",
    "    \"universe_exclude_subgroups\": [universe_exclude_subgroups],\n",
    "    \"q_hat\": [q_hat],\n",
    "    \"coverage\": [metrics[\"coverage\"]],\n",
    "    \"avg_size\": [metrics[\"avg_size\"]],\n",
    "}"
   ]
  },
  {
   "cell_type": "code",
   "execution_count": 59,
   "id": "908acbb1-0371-4915-85ca-3fa520d2efe2",
   "metadata": {
    "execution": {
     "iopub.execute_input": "2025-07-30T13:10:45.095812Z",
     "iopub.status.busy": "2025-07-30T13:10:45.094968Z",
     "iopub.status.idle": "2025-07-30T13:10:45.102453Z",
     "shell.execute_reply": "2025-07-30T13:10:45.101580Z"
    },
    "papermill": {
     "duration": 0.035479,
     "end_time": "2025-07-30T13:10:45.104340",
     "exception": false,
     "start_time": "2025-07-30T13:10:45.068861",
     "status": "completed"
    },
    "tags": []
   },
   "outputs": [
    {
     "data": {
      "text/plain": [
       "{'universe_id': ['cc3c0d725cb2809bd122607542c4eaaf'],\n",
       " 'universe_training_size': ['25k'],\n",
       " 'universe_scale': ['scale'],\n",
       " 'universe_model': ['elasticnet'],\n",
       " 'universe_exclude_features': ['nationality'],\n",
       " 'universe_exclude_subgroups': ['keep-all'],\n",
       " 'q_hat': [0.6635613031914009],\n",
       " 'coverage': [0.9115037342548211],\n",
       " 'avg_size': [1.1246237877605618]}"
      ]
     },
     "execution_count": 59,
     "metadata": {},
     "output_type": "execute_result"
    }
   ],
   "source": [
    "cp_metrics_dict"
   ]
  },
  {
   "cell_type": "code",
   "execution_count": 60,
   "id": "33007efc-14e9-4ec6-97ac-56a455c82265",
   "metadata": {
    "execution": {
     "iopub.execute_input": "2025-07-30T13:10:45.163683Z",
     "iopub.status.busy": "2025-07-30T13:10:45.163223Z",
     "iopub.status.idle": "2025-07-30T13:10:45.169517Z",
     "shell.execute_reply": "2025-07-30T13:10:45.168438Z"
    },
    "papermill": {
     "duration": 0.036912,
     "end_time": "2025-07-30T13:10:45.171072",
     "exception": false,
     "start_time": "2025-07-30T13:10:45.134160",
     "status": "completed"
    },
    "tags": []
   },
   "outputs": [],
   "source": [
    "cp_metrics_df = pd.DataFrame(cp_metrics_dict)"
   ]
  },
  {
   "cell_type": "code",
   "execution_count": 61,
   "id": "db12611b-57b2-4910-b9d0-355adfd6e7bf",
   "metadata": {
    "execution": {
     "iopub.execute_input": "2025-07-30T13:10:45.229651Z",
     "iopub.status.busy": "2025-07-30T13:10:45.229181Z",
     "iopub.status.idle": "2025-07-30T13:10:45.246273Z",
     "shell.execute_reply": "2025-07-30T13:10:45.245420Z"
    },
    "papermill": {
     "duration": 0.048262,
     "end_time": "2025-07-30T13:10:45.248126",
     "exception": false,
     "start_time": "2025-07-30T13:10:45.199864",
     "status": "completed"
    },
    "tags": []
   },
   "outputs": [
    {
     "data": {
      "text/html": [
       "<div>\n",
       "<style scoped>\n",
       "    .dataframe tbody tr th:only-of-type {\n",
       "        vertical-align: middle;\n",
       "    }\n",
       "\n",
       "    .dataframe tbody tr th {\n",
       "        vertical-align: top;\n",
       "    }\n",
       "\n",
       "    .dataframe thead th {\n",
       "        text-align: right;\n",
       "    }\n",
       "</style>\n",
       "<table border=\"1\" class=\"dataframe\">\n",
       "  <thead>\n",
       "    <tr style=\"text-align: right;\">\n",
       "      <th></th>\n",
       "      <th>universe_id</th>\n",
       "      <th>universe_training_size</th>\n",
       "      <th>universe_scale</th>\n",
       "      <th>universe_model</th>\n",
       "      <th>universe_exclude_features</th>\n",
       "      <th>universe_exclude_subgroups</th>\n",
       "      <th>q_hat</th>\n",
       "      <th>coverage</th>\n",
       "      <th>avg_size</th>\n",
       "    </tr>\n",
       "  </thead>\n",
       "  <tbody>\n",
       "    <tr>\n",
       "      <th>0</th>\n",
       "      <td>cc3c0d725cb2809bd122607542c4eaaf</td>\n",
       "      <td>25k</td>\n",
       "      <td>scale</td>\n",
       "      <td>elasticnet</td>\n",
       "      <td>nationality</td>\n",
       "      <td>keep-all</td>\n",
       "      <td>0.663561</td>\n",
       "      <td>0.911504</td>\n",
       "      <td>1.124624</td>\n",
       "    </tr>\n",
       "  </tbody>\n",
       "</table>\n",
       "</div>"
      ],
      "text/plain": [
       "                        universe_id universe_training_size universe_scale  \\\n",
       "0  cc3c0d725cb2809bd122607542c4eaaf                    25k          scale   \n",
       "\n",
       "  universe_model universe_exclude_features universe_exclude_subgroups  \\\n",
       "0     elasticnet               nationality                   keep-all   \n",
       "\n",
       "      q_hat  coverage  avg_size  \n",
       "0  0.663561  0.911504  1.124624  "
      ]
     },
     "execution_count": 61,
     "metadata": {},
     "output_type": "execute_result"
    }
   ],
   "source": [
    "cp_metrics_df"
   ]
  },
  {
   "cell_type": "code",
   "execution_count": 62,
   "id": "b7fbde55-a0a1-47e4-9af6-fe4a17fa8c61",
   "metadata": {
    "execution": {
     "iopub.execute_input": "2025-07-30T13:10:45.302632Z",
     "iopub.status.busy": "2025-07-30T13:10:45.301875Z",
     "iopub.status.idle": "2025-07-30T13:10:45.306847Z",
     "shell.execute_reply": "2025-07-30T13:10:45.305809Z"
    },
    "papermill": {
     "duration": 0.033365,
     "end_time": "2025-07-30T13:10:45.308493",
     "exception": false,
     "start_time": "2025-07-30T13:10:45.275128",
     "status": "completed"
    },
    "tags": []
   },
   "outputs": [],
   "source": [
    "# Conditional Coverage & looking at subgroups"
   ]
  },
  {
   "cell_type": "code",
   "execution_count": 63,
   "id": "027ae886-68dd-4141-96c7-805a5450e1ef",
   "metadata": {
    "execution": {
     "iopub.execute_input": "2025-07-30T13:10:45.363442Z",
     "iopub.status.busy": "2025-07-30T13:10:45.362817Z",
     "iopub.status.idle": "2025-07-30T13:10:45.627698Z",
     "shell.execute_reply": "2025-07-30T13:10:45.626767Z"
    },
    "papermill": {
     "duration": 0.293625,
     "end_time": "2025-07-30T13:10:45.629536",
     "exception": false,
     "start_time": "2025-07-30T13:10:45.335911",
     "status": "completed"
    },
    "tags": []
   },
   "outputs": [],
   "source": [
    "from fairness_multiverse.conformal import build_cp_groups\n",
    "\n",
    "cp_groups_df = build_cp_groups(pred_sets, y_true, X_test.index, org_test)\n",
    "#needs universe_id and setting"
   ]
  },
  {
   "cell_type": "code",
   "execution_count": 64,
   "id": "01d5802c-663a-4d1f-9d69-e036faaffbf7",
   "metadata": {
    "execution": {
     "iopub.execute_input": "2025-07-30T13:10:45.680344Z",
     "iopub.status.busy": "2025-07-30T13:10:45.679435Z",
     "iopub.status.idle": "2025-07-30T13:10:45.684487Z",
     "shell.execute_reply": "2025-07-30T13:10:45.683474Z"
    },
    "papermill": {
     "duration": 0.031329,
     "end_time": "2025-07-30T13:10:45.685948",
     "exception": false,
     "start_time": "2025-07-30T13:10:45.654619",
     "status": "completed"
    },
    "tags": []
   },
   "outputs": [],
   "source": [
    "#delete\n",
    "#cp_groups_df"
   ]
  },
  {
   "cell_type": "code",
   "execution_count": 65,
   "id": "fa424af1-d1eb-443d-b717-2d279ada8408",
   "metadata": {
    "execution": {
     "iopub.execute_input": "2025-07-30T13:10:45.737066Z",
     "iopub.status.busy": "2025-07-30T13:10:45.736439Z",
     "iopub.status.idle": "2025-07-30T13:10:45.741421Z",
     "shell.execute_reply": "2025-07-30T13:10:45.740435Z"
    },
    "papermill": {
     "duration": 0.031686,
     "end_time": "2025-07-30T13:10:45.743125",
     "exception": false,
     "start_time": "2025-07-30T13:10:45.711439",
     "status": "completed"
    },
    "tags": []
   },
   "outputs": [],
   "source": [
    "#delete\n",
    "#percentage = (cp_groups_df['nongerman_female'] == 1).mean() * 100\n",
    "#print(percentage)\n"
   ]
  },
  {
   "cell_type": "code",
   "execution_count": 66,
   "id": "6cbdab96-b2b2-45af-ad54-d0516db2e28d",
   "metadata": {
    "execution": {
     "iopub.execute_input": "2025-07-30T13:10:45.794820Z",
     "iopub.status.busy": "2025-07-30T13:10:45.794333Z",
     "iopub.status.idle": "2025-07-30T13:10:47.517437Z",
     "shell.execute_reply": "2025-07-30T13:10:47.516470Z"
    },
    "papermill": {
     "duration": 1.75186,
     "end_time": "2025-07-30T13:10:47.519609",
     "exception": false,
     "start_time": "2025-07-30T13:10:45.767749",
     "status": "completed"
    },
    "tags": []
   },
   "outputs": [],
   "source": [
    "# Define covered = 1 if true_label is in the predicted set\n",
    "cp_groups_df['covered'] = cp_groups_df.apply(\n",
    "    lambda r: int(r['true_label'] in r['pred_set']),\n",
    "    axis=1\n",
    ")"
   ]
  },
  {
   "cell_type": "code",
   "execution_count": 67,
   "id": "338ff529-1a6b-4b87-a931-8e4788d52aad",
   "metadata": {
    "execution": {
     "iopub.execute_input": "2025-07-30T13:10:47.574725Z",
     "iopub.status.busy": "2025-07-30T13:10:47.574207Z",
     "iopub.status.idle": "2025-07-30T13:10:47.579103Z",
     "shell.execute_reply": "2025-07-30T13:10:47.578114Z"
    },
    "papermill": {
     "duration": 0.034742,
     "end_time": "2025-07-30T13:10:47.580960",
     "exception": false,
     "start_time": "2025-07-30T13:10:47.546218",
     "status": "completed"
    },
    "tags": []
   },
   "outputs": [],
   "source": [
    "#cp_groups_df"
   ]
  },
  {
   "cell_type": "code",
   "execution_count": 68,
   "id": "90032e27-66df-4540-9169-4e89cfbaa758",
   "metadata": {
    "execution": {
     "iopub.execute_input": "2025-07-30T13:10:47.633991Z",
     "iopub.status.busy": "2025-07-30T13:10:47.633491Z",
     "iopub.status.idle": "2025-07-30T13:10:47.644557Z",
     "shell.execute_reply": "2025-07-30T13:10:47.643703Z"
    },
    "papermill": {
     "duration": 0.039228,
     "end_time": "2025-07-30T13:10:47.646174",
     "exception": false,
     "start_time": "2025-07-30T13:10:47.606946",
     "status": "completed"
    },
    "tags": []
   },
   "outputs": [],
   "source": [
    "subgroups = ['frau1','nongerman','nongerman_male','nongerman_female']\n",
    "\n",
    "# Conditional coverage for subgroup==1\n",
    "cond_coverage = {\n",
    "    g: cp_groups_df.loc[cp_groups_df[g]==1, 'covered'].mean()\n",
    "    for g in subgroups\n",
    "}"
   ]
  },
  {
   "cell_type": "code",
   "execution_count": 69,
   "id": "1e348fb1-b9c3-45bc-ba23-f016827a7e0d",
   "metadata": {
    "execution": {
     "iopub.execute_input": "2025-07-30T13:10:47.698682Z",
     "iopub.status.busy": "2025-07-30T13:10:47.698034Z",
     "iopub.status.idle": "2025-07-30T13:10:47.705043Z",
     "shell.execute_reply": "2025-07-30T13:10:47.704207Z"
    },
    "papermill": {
     "duration": 0.03368,
     "end_time": "2025-07-30T13:10:47.706460",
     "exception": false,
     "start_time": "2025-07-30T13:10:47.672780",
     "status": "completed"
    },
    "tags": []
   },
   "outputs": [
    {
     "data": {
      "text/plain": [
       "{'frau1': 0.9095835018196522,\n",
       " 'nongerman': 0.9105147925672262,\n",
       " 'nongerman_male': 0.9268666126272179,\n",
       " 'nongerman_female': 0.8834575260804769}"
      ]
     },
     "execution_count": 69,
     "metadata": {},
     "output_type": "execute_result"
    }
   ],
   "source": [
    "cond_coverage"
   ]
  },
  {
   "cell_type": "code",
   "execution_count": 70,
   "id": "f5093324-c3dd-4d63-bc4c-8d945e5c8bbb",
   "metadata": {
    "execution": {
     "iopub.execute_input": "2025-07-30T13:10:47.757666Z",
     "iopub.status.busy": "2025-07-30T13:10:47.756986Z",
     "iopub.status.idle": "2025-07-30T13:10:47.765360Z",
     "shell.execute_reply": "2025-07-30T13:10:47.764481Z"
    },
    "papermill": {
     "duration": 0.03559,
     "end_time": "2025-07-30T13:10:47.766810",
     "exception": false,
     "start_time": "2025-07-30T13:10:47.731220",
     "status": "completed"
    },
    "tags": []
   },
   "outputs": [],
   "source": [
    "for subgroup, cov in cond_coverage.items():\n",
    "    cp_metrics_df[f\"cov_{subgroup}\"] = cov"
   ]
  },
  {
   "cell_type": "code",
   "execution_count": 71,
   "id": "6e872e10-dbe5-49e8-b554-5030c98ff75d",
   "metadata": {
    "execution": {
     "iopub.execute_input": "2025-07-30T13:10:47.820331Z",
     "iopub.status.busy": "2025-07-30T13:10:47.819791Z",
     "iopub.status.idle": "2025-07-30T13:10:47.840006Z",
     "shell.execute_reply": "2025-07-30T13:10:47.839067Z"
    },
    "papermill": {
     "duration": 0.050175,
     "end_time": "2025-07-30T13:10:47.841676",
     "exception": false,
     "start_time": "2025-07-30T13:10:47.791501",
     "status": "completed"
    },
    "tags": []
   },
   "outputs": [
    {
     "data": {
      "text/html": [
       "<div>\n",
       "<style scoped>\n",
       "    .dataframe tbody tr th:only-of-type {\n",
       "        vertical-align: middle;\n",
       "    }\n",
       "\n",
       "    .dataframe tbody tr th {\n",
       "        vertical-align: top;\n",
       "    }\n",
       "\n",
       "    .dataframe thead th {\n",
       "        text-align: right;\n",
       "    }\n",
       "</style>\n",
       "<table border=\"1\" class=\"dataframe\">\n",
       "  <thead>\n",
       "    <tr style=\"text-align: right;\">\n",
       "      <th></th>\n",
       "      <th>universe_id</th>\n",
       "      <th>universe_training_size</th>\n",
       "      <th>universe_scale</th>\n",
       "      <th>universe_model</th>\n",
       "      <th>universe_exclude_features</th>\n",
       "      <th>universe_exclude_subgroups</th>\n",
       "      <th>q_hat</th>\n",
       "      <th>coverage</th>\n",
       "      <th>avg_size</th>\n",
       "      <th>cov_frau1</th>\n",
       "      <th>cov_nongerman</th>\n",
       "      <th>cov_nongerman_male</th>\n",
       "      <th>cov_nongerman_female</th>\n",
       "    </tr>\n",
       "  </thead>\n",
       "  <tbody>\n",
       "    <tr>\n",
       "      <th>0</th>\n",
       "      <td>cc3c0d725cb2809bd122607542c4eaaf</td>\n",
       "      <td>25k</td>\n",
       "      <td>scale</td>\n",
       "      <td>elasticnet</td>\n",
       "      <td>nationality</td>\n",
       "      <td>keep-all</td>\n",
       "      <td>0.663561</td>\n",
       "      <td>0.911504</td>\n",
       "      <td>1.124624</td>\n",
       "      <td>0.909584</td>\n",
       "      <td>0.910515</td>\n",
       "      <td>0.926867</td>\n",
       "      <td>0.883458</td>\n",
       "    </tr>\n",
       "  </tbody>\n",
       "</table>\n",
       "</div>"
      ],
      "text/plain": [
       "                        universe_id universe_training_size universe_scale  \\\n",
       "0  cc3c0d725cb2809bd122607542c4eaaf                    25k          scale   \n",
       "\n",
       "  universe_model universe_exclude_features universe_exclude_subgroups  \\\n",
       "0     elasticnet               nationality                   keep-all   \n",
       "\n",
       "      q_hat  coverage  avg_size  cov_frau1  cov_nongerman  cov_nongerman_male  \\\n",
       "0  0.663561  0.911504  1.124624   0.909584       0.910515            0.926867   \n",
       "\n",
       "   cov_nongerman_female  \n",
       "0              0.883458  "
      ]
     },
     "execution_count": 71,
     "metadata": {},
     "output_type": "execute_result"
    }
   ],
   "source": [
    "cp_metrics_df"
   ]
  },
  {
   "cell_type": "markdown",
   "id": "33774451",
   "metadata": {
    "papermill": {
     "duration": 0.02851,
     "end_time": "2025-07-30T13:10:47.896128",
     "exception": false,
     "start_time": "2025-07-30T13:10:47.867618",
     "status": "completed"
    },
    "tags": []
   },
   "source": [
    "# (Fairness) Metrics"
   ]
  },
  {
   "cell_type": "code",
   "execution_count": 72,
   "id": "debc5d62",
   "metadata": {
    "execution": {
     "iopub.execute_input": "2025-07-30T13:10:47.949487Z",
     "iopub.status.busy": "2025-07-30T13:10:47.948791Z",
     "iopub.status.idle": "2025-07-30T13:10:47.997664Z",
     "shell.execute_reply": "2025-07-30T13:10:47.996730Z"
    },
    "papermill": {
     "duration": 0.077307,
     "end_time": "2025-07-30T13:10:47.999449",
     "exception": false,
     "start_time": "2025-07-30T13:10:47.922142",
     "status": "completed"
    },
    "tags": []
   },
   "outputs": [],
   "source": [
    "# do I need to include maxdeutsch1.missing?\n",
    "\n",
    "import numpy as np\n",
    "\n",
    "colname_to_bin = \"maxdeutsch1\"\n",
    "majority_value = org_train[colname_to_bin].mode()[0]\n",
    "\n",
    "org_test[\"majmin\"] = np.where(org_test[colname_to_bin] == majority_value, \"majority\", \"minority\")"
   ]
  },
  {
   "cell_type": "code",
   "execution_count": 73,
   "id": "06a50de5",
   "metadata": {
    "execution": {
     "iopub.execute_input": "2025-07-30T13:10:48.054344Z",
     "iopub.status.busy": "2025-07-30T13:10:48.053440Z",
     "iopub.status.idle": "2025-07-30T13:10:50.870287Z",
     "shell.execute_reply": "2025-07-30T13:10:50.869427Z"
    },
    "papermill": {
     "duration": 2.845558,
     "end_time": "2025-07-30T13:10:50.872110",
     "exception": false,
     "start_time": "2025-07-30T13:10:48.026552",
     "status": "completed"
    },
    "tags": []
   },
   "outputs": [],
   "source": [
    "example_universe = universe.copy()\n",
    "example_universe[\"cutoff\"] = example_universe[\"cutoff\"][0]\n",
    "example_universe[\"eval_fairness_grouping\"] = example_universe[\"eval_fairness_grouping\"][0]\n",
    "fairness_dict, metric_frame = universe_analysis.compute_metrics(\n",
    "    example_universe,\n",
    "    y_pred_prob=probs_test,\n",
    "    y_test=y_true,\n",
    "    org_test=org_test,\n",
    ")"
   ]
  },
  {
   "cell_type": "markdown",
   "id": "f95d4e02",
   "metadata": {
    "papermill": {
     "duration": 0.02699,
     "end_time": "2025-07-30T13:10:50.926064",
     "exception": false,
     "start_time": "2025-07-30T13:10:50.899074",
     "status": "completed"
    },
    "tags": []
   },
   "source": [
    "# Overall"
   ]
  },
  {
   "cell_type": "markdown",
   "id": "bdee4871",
   "metadata": {
    "papermill": {
     "duration": 0.025641,
     "end_time": "2025-07-30T13:10:50.980118",
     "exception": false,
     "start_time": "2025-07-30T13:10:50.954477",
     "status": "completed"
    },
    "tags": []
   },
   "source": [
    "Fairness\n",
    "Main fairness target: Equalized Odds. Seems to be a better fit than equal opportunity, since we're not only interested in Y = 1. Seems to be a better fit than demographic parity, since we also care about accuracy, not just equal distribution of preds.\n",
    "\n",
    "Pick column for computation of fairness metrics\n",
    "\n",
    "Performance\n",
    "Overall performance measures, most interesting in relation to the measures split by group below"
   ]
  },
  {
   "cell_type": "code",
   "execution_count": 74,
   "id": "c4e067c6",
   "metadata": {
    "execution": {
     "iopub.execute_input": "2025-07-30T13:10:51.032913Z",
     "iopub.status.busy": "2025-07-30T13:10:51.032244Z",
     "iopub.status.idle": "2025-07-30T13:10:51.040683Z",
     "shell.execute_reply": "2025-07-30T13:10:51.039786Z"
    },
    "papermill": {
     "duration": 0.036661,
     "end_time": "2025-07-30T13:10:51.042377",
     "exception": false,
     "start_time": "2025-07-30T13:10:51.005716",
     "status": "completed"
    },
    "tags": []
   },
   "outputs": [
    {
     "data": {
      "text/plain": [
       "accuracy                   0.225426\n",
       "balanced accuracy          0.550978\n",
       "f1                         0.246729\n",
       "precision                  0.140948\n",
       "false positive rate        0.886921\n",
       "false negative rate        0.011123\n",
       "selection rate             0.900000\n",
       "count                  89710.000000\n",
       "dtype: float64"
      ]
     },
     "execution_count": 74,
     "metadata": {},
     "output_type": "execute_result"
    }
   ],
   "source": [
    "metric_frame.overall"
   ]
  },
  {
   "cell_type": "markdown",
   "id": "e968fe9d",
   "metadata": {
    "papermill": {
     "duration": 0.025599,
     "end_time": "2025-07-30T13:10:51.095321",
     "exception": false,
     "start_time": "2025-07-30T13:10:51.069722",
     "status": "completed"
    },
    "tags": []
   },
   "source": [
    "By Group"
   ]
  },
  {
   "cell_type": "code",
   "execution_count": 75,
   "id": "ec325bce",
   "metadata": {
    "execution": {
     "iopub.execute_input": "2025-07-30T13:10:51.148457Z",
     "iopub.status.busy": "2025-07-30T13:10:51.147989Z",
     "iopub.status.idle": "2025-07-30T13:10:51.164677Z",
     "shell.execute_reply": "2025-07-30T13:10:51.163586Z"
    },
    "papermill": {
     "duration": 0.045296,
     "end_time": "2025-07-30T13:10:51.166112",
     "exception": false,
     "start_time": "2025-07-30T13:10:51.120816",
     "status": "completed"
    },
    "tags": []
   },
   "outputs": [
    {
     "data": {
      "text/html": [
       "<div>\n",
       "<style scoped>\n",
       "    .dataframe tbody tr th:only-of-type {\n",
       "        vertical-align: middle;\n",
       "    }\n",
       "\n",
       "    .dataframe tbody tr th {\n",
       "        vertical-align: top;\n",
       "    }\n",
       "\n",
       "    .dataframe thead th {\n",
       "        text-align: right;\n",
       "    }\n",
       "</style>\n",
       "<table border=\"1\" class=\"dataframe\">\n",
       "  <thead>\n",
       "    <tr style=\"text-align: right;\">\n",
       "      <th></th>\n",
       "      <th>accuracy</th>\n",
       "      <th>balanced accuracy</th>\n",
       "      <th>f1</th>\n",
       "      <th>precision</th>\n",
       "      <th>false positive rate</th>\n",
       "      <th>false negative rate</th>\n",
       "      <th>selection rate</th>\n",
       "      <th>count</th>\n",
       "    </tr>\n",
       "    <tr>\n",
       "      <th>majmin</th>\n",
       "      <th></th>\n",
       "      <th></th>\n",
       "      <th></th>\n",
       "      <th></th>\n",
       "      <th></th>\n",
       "      <th></th>\n",
       "      <th></th>\n",
       "      <th></th>\n",
       "    </tr>\n",
       "  </thead>\n",
       "  <tbody>\n",
       "    <tr>\n",
       "      <th>majority</th>\n",
       "      <td>0.247709</td>\n",
       "      <td>0.561343</td>\n",
       "      <td>0.257583</td>\n",
       "      <td>0.148105</td>\n",
       "      <td>0.864951</td>\n",
       "      <td>0.012363</td>\n",
       "      <td>0.881162</td>\n",
       "      <td>69170.0</td>\n",
       "    </tr>\n",
       "    <tr>\n",
       "      <th>minority</th>\n",
       "      <td>0.150389</td>\n",
       "      <td>0.517084</td>\n",
       "      <td>0.212393</td>\n",
       "      <td>0.118904</td>\n",
       "      <td>0.959498</td>\n",
       "      <td>0.006334</td>\n",
       "      <td>0.963437</td>\n",
       "      <td>20540.0</td>\n",
       "    </tr>\n",
       "  </tbody>\n",
       "</table>\n",
       "</div>"
      ],
      "text/plain": [
       "          accuracy  balanced accuracy        f1  precision  \\\n",
       "majmin                                                       \n",
       "majority  0.247709           0.561343  0.257583   0.148105   \n",
       "minority  0.150389           0.517084  0.212393   0.118904   \n",
       "\n",
       "          false positive rate  false negative rate  selection rate    count  \n",
       "majmin                                                                       \n",
       "majority             0.864951             0.012363        0.881162  69170.0  \n",
       "minority             0.959498             0.006334        0.963437  20540.0  "
      ]
     },
     "execution_count": 75,
     "metadata": {},
     "output_type": "execute_result"
    }
   ],
   "source": [
    "metric_frame.by_group"
   ]
  },
  {
   "cell_type": "code",
   "execution_count": 76,
   "id": "a9ddbe63",
   "metadata": {
    "execution": {
     "iopub.execute_input": "2025-07-30T13:10:51.222231Z",
     "iopub.status.busy": "2025-07-30T13:10:51.221593Z",
     "iopub.status.idle": "2025-07-30T13:10:53.714092Z",
     "shell.execute_reply": "2025-07-30T13:10:53.713059Z"
    },
    "papermill": {
     "duration": 2.523124,
     "end_time": "2025-07-30T13:10:53.715815",
     "exception": false,
     "start_time": "2025-07-30T13:10:51.192691",
     "status": "completed"
    },
    "tags": []
   },
   "outputs": [
    {
     "data": {
      "text/plain": [
       "array([[<Axes: title={'center': 'accuracy'}, xlabel='majmin'>,\n",
       "        <Axes: title={'center': 'balanced accuracy'}, xlabel='majmin'>,\n",
       "        <Axes: title={'center': 'f1'}, xlabel='majmin'>],\n",
       "       [<Axes: title={'center': 'precision'}, xlabel='majmin'>,\n",
       "        <Axes: title={'center': 'false positive rate'}, xlabel='majmin'>,\n",
       "        <Axes: title={'center': 'false negative rate'}, xlabel='majmin'>],\n",
       "       [<Axes: title={'center': 'selection rate'}, xlabel='majmin'>,\n",
       "        <Axes: title={'center': 'count'}, xlabel='majmin'>,\n",
       "        <Axes: xlabel='majmin'>]], dtype=object)"
      ]
     },
     "execution_count": 76,
     "metadata": {},
     "output_type": "execute_result"
    },
    {
     "data": {
      "image/png": "[encoded data removed]",
      "text/plain": [
       "<Figure size 1200x800 with 9 Axes>"
      ]
     },
     "metadata": {},
     "output_type": "display_data"
    }
   ],
   "source": [
    "# In a graphic\n",
    "metric_frame.by_group.plot.bar(\n",
    "    subplots=True,\n",
    "    layout=[3, 3],\n",
    "    legend=False,\n",
    "    figsize=[12, 8],\n",
    "    title=\"Show all metrics\",\n",
    ")"
   ]
  },
  {
   "cell_type": "markdown",
   "id": "f57a0bac",
   "metadata": {
    "papermill": {
     "duration": 0.027898,
     "end_time": "2025-07-30T13:10:53.774028",
     "exception": false,
     "start_time": "2025-07-30T13:10:53.746130",
     "status": "completed"
    },
    "tags": []
   },
   "source": [
    "# Final Output"
   ]
  },
  {
   "cell_type": "code",
   "execution_count": 77,
   "id": "96d280a3",
   "metadata": {
    "execution": {
     "iopub.execute_input": "2025-07-30T13:10:53.837628Z",
     "iopub.status.busy": "2025-07-30T13:10:53.836626Z",
     "iopub.status.idle": "2025-07-30T13:10:53.845467Z",
     "shell.execute_reply": "2025-07-30T13:10:53.844579Z"
    },
    "papermill": {
     "duration": 0.04299,
     "end_time": "2025-07-30T13:10:53.847168",
     "exception": false,
     "start_time": "2025-07-30T13:10:53.804178",
     "status": "completed"
    },
    "tags": []
   },
   "outputs": [
    {
     "data": {
      "text/plain": [
       "4"
      ]
     },
     "execution_count": 77,
     "metadata": {},
     "output_type": "execute_result"
    }
   ],
   "source": [
    "sub_universes = universe_analysis.generate_sub_universes()\n",
    "len(sub_universes)"
   ]
  },
  {
   "cell_type": "code",
   "execution_count": 78,
   "id": "92adf7ba",
   "metadata": {
    "execution": {
     "iopub.execute_input": "2025-07-30T13:10:53.906090Z",
     "iopub.status.busy": "2025-07-30T13:10:53.905637Z",
     "iopub.status.idle": "2025-07-30T13:10:53.935203Z",
     "shell.execute_reply": "2025-07-30T13:10:53.934120Z"
    },
    "papermill": {
     "duration": 0.061795,
     "end_time": "2025-07-30T13:10:53.937622",
     "exception": false,
     "start_time": "2025-07-30T13:10:53.875827",
     "status": "completed"
    },
    "tags": []
   },
   "outputs": [],
   "source": [
    "def filter_sub_universe_data(sub_universe, org_test):\n",
    "    # Keep all rows — no filtering\n",
    "    keep_rows_mask = np.ones(org_test.shape[0], dtype=bool)\n",
    "\n",
    "    print(f\"[INFO] Keeping all rows: {keep_rows_mask.sum()} rows retained.\")\n",
    "    return keep_rows_mask"
   ]
  },
  {
   "cell_type": "code",
   "execution_count": 79,
   "id": "4a759155",
   "metadata": {
    "execution": {
     "iopub.execute_input": "2025-07-30T13:10:54.015122Z",
     "iopub.status.busy": "2025-07-30T13:10:54.014337Z",
     "iopub.status.idle": "2025-07-30T13:11:03.668960Z",
     "shell.execute_reply": "2025-07-30T13:11:03.668089Z"
    },
    "papermill": {
     "duration": 9.693779,
     "end_time": "2025-07-30T13:11:03.670284",
     "exception": false,
     "start_time": "2025-07-30T13:10:53.976505",
     "status": "completed"
    },
    "tags": []
   },
   "outputs": [
    {
     "name": "stdout",
     "output_type": "stream",
     "text": [
      "Stopping execution_time clock.\n",
      "[INFO] Keeping all rows: 89710 rows retained.\n"
     ]
    },
    {
     "name": "stdout",
     "output_type": "stream",
     "text": [
      "[INFO] Keeping all rows: 89710 rows retained.\n"
     ]
    },
    {
     "name": "stdout",
     "output_type": "stream",
     "text": [
      "[INFO] Keeping all rows: 89710 rows retained.\n"
     ]
    },
    {
     "name": "stdout",
     "output_type": "stream",
     "text": [
      "[INFO] Keeping all rows: 89710 rows retained.\n"
     ]
    },
    {
     "data": {
      "text/html": [
       "<div>\n",
       "<style scoped>\n",
       "    .dataframe tbody tr th:only-of-type {\n",
       "        vertical-align: middle;\n",
       "    }\n",
       "\n",
       "    .dataframe tbody tr th {\n",
       "        vertical-align: top;\n",
       "    }\n",
       "\n",
       "    .dataframe thead th {\n",
       "        text-align: right;\n",
       "    }\n",
       "</style>\n",
       "<table border=\"1\" class=\"dataframe\">\n",
       "  <thead>\n",
       "    <tr style=\"text-align: right;\">\n",
       "      <th></th>\n",
       "      <th>run_no</th>\n",
       "      <th>universe_id</th>\n",
       "      <th>universe_settings</th>\n",
       "      <th>execution_time</th>\n",
       "      <th>test_size_n</th>\n",
       "      <th>test_size_frac</th>\n",
       "      <th>fair_main_equalized_odds_difference</th>\n",
       "      <th>fair_main_equalized_odds_ratio</th>\n",
       "      <th>fair_main_demographic_parity_difference</th>\n",
       "      <th>fair_main_demographic_parity_ratio</th>\n",
       "      <th>...</th>\n",
       "      <th>perf_grp_precision_0</th>\n",
       "      <th>perf_grp_precision_1</th>\n",
       "      <th>perf_grp_false positive rate_0</th>\n",
       "      <th>perf_grp_false positive rate_1</th>\n",
       "      <th>perf_grp_false negative rate_0</th>\n",
       "      <th>perf_grp_false negative rate_1</th>\n",
       "      <th>perf_grp_selection rate_0</th>\n",
       "      <th>perf_grp_selection rate_1</th>\n",
       "      <th>perf_grp_count_0</th>\n",
       "      <th>perf_grp_count_1</th>\n",
       "    </tr>\n",
       "  </thead>\n",
       "  <tbody>\n",
       "    <tr>\n",
       "      <th>0</th>\n",
       "      <td>12</td>\n",
       "      <td>cc3c0d725cb2809bd122607542c4eaaf</td>\n",
       "      <td>{\"cutoff\": \"quantile_0.1\", \"eval_fairness_grou...</td>\n",
       "      <td>51.248381</td>\n",
       "      <td>89710</td>\n",
       "      <td>1.0</td>\n",
       "      <td>0.094547</td>\n",
       "      <td>0.901462</td>\n",
       "      <td>0.082275</td>\n",
       "      <td>0.914603</td>\n",
       "      <td>...</td>\n",
       "      <td>NaN</td>\n",
       "      <td>NaN</td>\n",
       "      <td>NaN</td>\n",
       "      <td>NaN</td>\n",
       "      <td>NaN</td>\n",
       "      <td>NaN</td>\n",
       "      <td>NaN</td>\n",
       "      <td>NaN</td>\n",
       "      <td>NaN</td>\n",
       "      <td>NaN</td>\n",
       "    </tr>\n",
       "    <tr>\n",
       "      <th>0</th>\n",
       "      <td>12</td>\n",
       "      <td>cc3c0d725cb2809bd122607542c4eaaf</td>\n",
       "      <td>{\"cutoff\": \"quantile_0.1\", \"eval_fairness_grou...</td>\n",
       "      <td>51.248381</td>\n",
       "      <td>89710</td>\n",
       "      <td>1.0</td>\n",
       "      <td>0.094547</td>\n",
       "      <td>0.901462</td>\n",
       "      <td>0.082275</td>\n",
       "      <td>0.914603</td>\n",
       "      <td>...</td>\n",
       "      <td>0.118904</td>\n",
       "      <td>0.148105</td>\n",
       "      <td>0.959498</td>\n",
       "      <td>0.864951</td>\n",
       "      <td>0.006334</td>\n",
       "      <td>0.012363</td>\n",
       "      <td>0.963437</td>\n",
       "      <td>0.881162</td>\n",
       "      <td>20540.0</td>\n",
       "      <td>69170.0</td>\n",
       "    </tr>\n",
       "    <tr>\n",
       "      <th>0</th>\n",
       "      <td>12</td>\n",
       "      <td>cc3c0d725cb2809bd122607542c4eaaf</td>\n",
       "      <td>{\"cutoff\": \"quantile_0.25\", \"eval_fairness_gro...</td>\n",
       "      <td>51.248381</td>\n",
       "      <td>89710</td>\n",
       "      <td>1.0</td>\n",
       "      <td>0.166376</td>\n",
       "      <td>0.803830</td>\n",
       "      <td>0.144414</td>\n",
       "      <td>0.832338</td>\n",
       "      <td>...</td>\n",
       "      <td>NaN</td>\n",
       "      <td>NaN</td>\n",
       "      <td>NaN</td>\n",
       "      <td>NaN</td>\n",
       "      <td>NaN</td>\n",
       "      <td>NaN</td>\n",
       "      <td>NaN</td>\n",
       "      <td>NaN</td>\n",
       "      <td>NaN</td>\n",
       "      <td>NaN</td>\n",
       "    </tr>\n",
       "    <tr>\n",
       "      <th>0</th>\n",
       "      <td>12</td>\n",
       "      <td>cc3c0d725cb2809bd122607542c4eaaf</td>\n",
       "      <td>{\"cutoff\": \"quantile_0.25\", \"eval_fairness_gro...</td>\n",
       "      <td>51.248381</td>\n",
       "      <td>89710</td>\n",
       "      <td>1.0</td>\n",
       "      <td>0.166376</td>\n",
       "      <td>0.803830</td>\n",
       "      <td>0.144414</td>\n",
       "      <td>0.832338</td>\n",
       "      <td>...</td>\n",
       "      <td>0.128872</td>\n",
       "      <td>0.174733</td>\n",
       "      <td>0.848118</td>\n",
       "      <td>0.681742</td>\n",
       "      <td>0.037162</td>\n",
       "      <td>0.051969</td>\n",
       "      <td>0.861344</td>\n",
       "      <td>0.716929</td>\n",
       "      <td>20540.0</td>\n",
       "      <td>69170.0</td>\n",
       "    </tr>\n",
       "  </tbody>\n",
       "</table>\n",
       "<p>4 rows × 50 columns</p>\n",
       "</div>"
      ],
      "text/plain": [
       "  run_no                       universe_id  \\\n",
       "0     12  cc3c0d725cb2809bd122607542c4eaaf   \n",
       "0     12  cc3c0d725cb2809bd122607542c4eaaf   \n",
       "0     12  cc3c0d725cb2809bd122607542c4eaaf   \n",
       "0     12  cc3c0d725cb2809bd122607542c4eaaf   \n",
       "\n",
       "                                   universe_settings  execution_time  \\\n",
       "0  {\"cutoff\": \"quantile_0.1\", \"eval_fairness_grou...       51.248381   \n",
       "0  {\"cutoff\": \"quantile_0.1\", \"eval_fairness_grou...       51.248381   \n",
       "0  {\"cutoff\": \"quantile_0.25\", \"eval_fairness_gro...       51.248381   \n",
       "0  {\"cutoff\": \"quantile_0.25\", \"eval_fairness_gro...       51.248381   \n",
       "\n",
       "   test_size_n  test_size_frac  fair_main_equalized_odds_difference  \\\n",
       "0        89710             1.0                             0.094547   \n",
       "0        89710             1.0                             0.094547   \n",
       "0        89710             1.0                             0.166376   \n",
       "0        89710             1.0                             0.166376   \n",
       "\n",
       "   fair_main_equalized_odds_ratio  fair_main_demographic_parity_difference  \\\n",
       "0                        0.901462                                 0.082275   \n",
       "0                        0.901462                                 0.082275   \n",
       "0                        0.803830                                 0.144414   \n",
       "0                        0.803830                                 0.144414   \n",
       "\n",
       "   fair_main_demographic_parity_ratio  ...  perf_grp_precision_0  \\\n",
       "0                            0.914603  ...                   NaN   \n",
       "0                            0.914603  ...              0.118904   \n",
       "0                            0.832338  ...                   NaN   \n",
       "0                            0.832338  ...              0.128872   \n",
       "\n",
       "   perf_grp_precision_1  perf_grp_false positive rate_0  \\\n",
       "0                   NaN                             NaN   \n",
       "0              0.148105                        0.959498   \n",
       "0                   NaN                             NaN   \n",
       "0              0.174733                        0.848118   \n",
       "\n",
       "   perf_grp_false positive rate_1  perf_grp_false negative rate_0  \\\n",
       "0                             NaN                             NaN   \n",
       "0                        0.864951                        0.006334   \n",
       "0                             NaN                             NaN   \n",
       "0                        0.681742                        0.037162   \n",
       "\n",
       "   perf_grp_false negative rate_1  perf_grp_selection rate_0  \\\n",
       "0                             NaN                        NaN   \n",
       "0                        0.012363                   0.963437   \n",
       "0                             NaN                        NaN   \n",
       "0                        0.051969                   0.861344   \n",
       "\n",
       "   perf_grp_selection rate_1  perf_grp_count_0  perf_grp_count_1  \n",
       "0                        NaN               NaN               NaN  \n",
       "0                   0.881162           20540.0           69170.0  \n",
       "0                        NaN               NaN               NaN  \n",
       "0                   0.716929           20540.0           69170.0  \n",
       "\n",
       "[4 rows x 50 columns]"
      ]
     },
     "execution_count": 79,
     "metadata": {},
     "output_type": "execute_result"
    }
   ],
   "source": [
    "final_output = universe_analysis.generate_final_output(\n",
    "    y_pred_prob=probs_test,\n",
    "    y_test=y_true,\n",
    "    org_test=org_test,\n",
    "    filter_data=filter_sub_universe_data,\n",
    "    cp_metrics_df=cp_metrics_df,\n",
    "    save=True,\n",
    ")\n",
    "final_output"
   ]
  },
  {
   "cell_type": "code",
   "execution_count": null,
   "id": "721ff514-cb11-46f8-b6fc-50392f74b5cb",
   "metadata": {
    "papermill": {
     "duration": 0.015796,
     "end_time": "2025-07-30T13:11:03.705004",
     "exception": false,
     "start_time": "2025-07-30T13:11:03.689208",
     "status": "completed"
    },
    "tags": []
   },
   "outputs": [],
   "source": []
  }
 ],
 "metadata": {
  "celltoolbar": "Tags",
  "kernelspec": {
   "display_name": "Python (CMA Fairness)",
   "language": "python",
   "name": "cma_fair_env"
  },
  "language_info": {
   "codemirror_mode": {
    "name": "ipython",
    "version": 3
   },
   "file_extension": ".py",
   "mimetype": "text/x-python",
   "name": "python",
   "nbconvert_exporter": "python",
   "pygments_lexer": "ipython3",
   "version": "3.10.12"
  },
  "papermill": {
   "default_parameters": {},
   "duration": 65.106765,
   "end_time": "2025-07-30T13:11:04.337892",
   "environment_variables": {},
   "exception": null,
   "input_path": "universe_analysis.ipynb",
   "output_path": "output/runs/12/notebooks/m_12-cc3c0d725cb2809bd122607542c4eaaf.ipynb",
   "parameters": {
    "output_dir": "output",
    "run_no": "12",
    "seed": "2023",
    "universe": "{\"cutoff\": [\"quantile_0.1\", \"quantile_0.25\"], \"eval_fairness_grouping\": [\"majority-minority\", \"nationality-all\"], \"exclude_features\": \"nationality\", \"exclude_subgroups\": \"keep-all\", \"model\": \"elasticnet\", \"scale\": \"scale\", \"training_size\": \"25k\", \"training_year\": \"2012_14\"}",
    "universe_id": "cc3c0d725cb2809bd122607542c4eaaf"
   },
   "start_time": "2025-07-30T13:09:59.231127",
   "version": "2.6.0"
  }
 },
 "nbformat": 4,
 "nbformat_minor": 5
}