{
 "cells": [
  {
   "cell_type": "code",
   "execution_count": 1,
   "id": "f159f837-637b-42ba-96b5-ec9a68c44524",
   "metadata": {
    "execution": {
     "iopub.execute_input": "2025-07-30T13:32:28.717615Z",
     "iopub.status.busy": "2025-07-30T13:32:28.717238Z",
     "iopub.status.idle": "2025-07-30T13:32:28.727936Z",
     "shell.execute_reply": "2025-07-30T13:32:28.726828Z"
    },
    "papermill": {
     "duration": 0.02414,
     "end_time": "2025-07-30T13:32:28.729326",
     "exception": false,
     "start_time": "2025-07-30T13:32:28.705186",
     "status": "completed"
    },
    "tags": []
   },
   "outputs": [
    {
     "name": "stdout",
     "output_type": "stream",
     "text": [
      "/dss/dsshome1/0C/ra93lal2/cma/CMA_Fairness_v2\n"
     ]
    },
    {
     "name": "stderr",
     "output_type": "stream",
     "text": [
      "/dss/dsshome1/0C/ra93lal2/.local/share/virtualenvs/CMA_Fairness_v2-3j10GkSs/lib/python3.10/site-packages/IPython/core/magics/osm.py:393: UserWarning: This is now an optional IPython functionality, using bookmarks requires you to install the `pickleshare` library.\n",
      "  bkms = self.shell.db.get('bookmarks', {})\n",
      "/dss/dsshome1/0C/ra93lal2/.local/share/virtualenvs/CMA_Fairness_v2-3j10GkSs/lib/python3.10/site-packages/IPython/core/magics/osm.py:417: UserWarning: This is now an optional IPython functionality, setting dhist requires you to install the `pickleshare` library.\n",
      "  self.shell.db['dhist'] = compress_dhist(dhist)[-100:]\n"
     ]
    }
   ],
   "source": [
    "%cd ~/cma/CMA_Fairness_v2"
   ]
  },
  {
   "cell_type": "markdown",
   "id": "de2603b9",
   "metadata": {
    "papermill": {
     "duration": 0.0102,
     "end_time": "2025-07-30T13:32:28.750211",
     "exception": false,
     "start_time": "2025-07-30T13:32:28.740011",
     "status": "completed"
    },
    "tags": []
   },
   "source": [
    "The following cell holds the definition of our parameters, these values can be overriden by rendering the with e.g. the following command:\n",
    "\n",
    "papermill -p alpha 0.2 -p ratio 0.3 universe_analysis.ipynb output/test_run.ipynb"
   ]
  },
  {
   "cell_type": "code",
   "execution_count": 2,
   "id": "a80968a0-40bb-4fa9-85ef-2d5eefb01975",
   "metadata": {
    "execution": {
     "iopub.execute_input": "2025-07-30T13:32:28.771655Z",
     "iopub.status.busy": "2025-07-30T13:32:28.771008Z",
     "iopub.status.idle": "2025-07-30T13:32:28.775776Z",
     "shell.execute_reply": "2025-07-30T13:32:28.774965Z"
    },
    "papermill": {
     "duration": 0.017153,
     "end_time": "2025-07-30T13:32:28.777085",
     "exception": false,
     "start_time": "2025-07-30T13:32:28.759932",
     "status": "completed"
    },
    "tags": []
   },
   "outputs": [
    {
     "name": "stdout",
     "output_type": "stream",
     "text": [
      "Current working directory: /dss/dsshome1/0C/ra93lal2/cma/CMA_Fairness_v2\n"
     ]
    }
   ],
   "source": [
    "import os\n",
    "print(\"Current working directory:\", os.getcwd())"
   ]
  },
  {
   "cell_type": "code",
   "execution_count": 3,
   "id": "2dce4c03",
   "metadata": {
    "execution": {
     "iopub.execute_input": "2025-07-30T13:32:28.799004Z",
     "iopub.status.busy": "2025-07-30T13:32:28.798371Z",
     "iopub.status.idle": "2025-07-30T13:32:28.803453Z",
     "shell.execute_reply": "2025-07-30T13:32:28.802730Z"
    },
    "papermill": {
     "duration": 0.01721,
     "end_time": "2025-07-30T13:32:28.804784",
     "exception": false,
     "start_time": "2025-07-30T13:32:28.787574",
     "status": "completed"
    },
    "tags": [
     "parameters"
    ]
   },
   "outputs": [],
   "source": [
    "run_no = 0\n",
    "universe_id = \"test\"\n",
    "universe = {\n",
    "    \"training_size\": \"25k\", # \"25k\", \"5k\", \"1k\"\n",
    "    \"training_year\": \"2014\", # \"2014\", \"2012_14\", \"2010_14\"\n",
    "    \"scale\": \"scale\", # \"scale\", \"do-not-scale\",\n",
    "    #\"stratify_split\": \"target\", # \"none\", \"target\", \"protected-attribute\", \"both\",\n",
    "    \"model\": \"elasticnet\", # \"logreg\", \"penalized_logreg\", \"rf\", \"gbm\", \"elasticnet\"\n",
    "    \"cutoff\": [\"quantile_0.15\", \"quantile_0.30\"],\n",
    "    \"exclude_features\": \"age\", # \"none\", \"nationality\", \"sex\", \"nationality-sex\", \"age\"\n",
    "    \"exclude_subgroups\": \"keep-all\", # \"keep-all\", \"drop-non-german\"\n",
    "    \"eval_fairness_grouping\": [\"majority-minority\", \"nationality-all\"]\n",
    "}\n",
    "\n",
    "output_dir=\"./output\"\n",
    "seed=0"
   ]
  },
  {
   "cell_type": "code",
   "execution_count": 4,
   "id": "27229379",
   "metadata": {
    "execution": {
     "iopub.execute_input": "2025-07-30T13:32:28.826864Z",
     "iopub.status.busy": "2025-07-30T13:32:28.826273Z",
     "iopub.status.idle": "2025-07-30T13:32:28.830783Z",
     "shell.execute_reply": "2025-07-30T13:32:28.830116Z"
    },
    "papermill": {
     "duration": 0.016742,
     "end_time": "2025-07-30T13:32:28.832161",
     "exception": false,
     "start_time": "2025-07-30T13:32:28.815419",
     "status": "completed"
    },
    "tags": [
     "injected-parameters"
    ]
   },
   "outputs": [],
   "source": [
    "# Parameters\n",
    "universe_id = \"fda625380468d7c6aae5812936f1d2a7\"\n",
    "run_no = \"12\"\n",
    "universe = \"{\\\"cutoff\\\": [\\\"quantile_0.1\\\", \\\"quantile_0.25\\\"], \\\"eval_fairness_grouping\\\": [\\\"majority-minority\\\", \\\"nationality-all\\\"], \\\"exclude_features\\\": \\\"sex\\\", \\\"exclude_subgroups\\\": \\\"drop-non-german\\\", \\\"model\\\": \\\"rf\\\", \\\"scale\\\": \\\"do-not-scale\\\", \\\"training_size\\\": \\\"25k\\\", \\\"training_year\\\": \\\"2010_14\\\"}\"\n",
    "output_dir = \"output\"\n",
    "seed = \"2023\"\n"
   ]
  },
  {
   "cell_type": "code",
   "execution_count": 5,
   "id": "1650acaf",
   "metadata": {
    "execution": {
     "iopub.execute_input": "2025-07-30T13:32:28.853782Z",
     "iopub.status.busy": "2025-07-30T13:32:28.853180Z",
     "iopub.status.idle": "2025-07-30T13:32:28.857453Z",
     "shell.execute_reply": "2025-07-30T13:32:28.856711Z"
    },
    "papermill": {
     "duration": 0.016348,
     "end_time": "2025-07-30T13:32:28.858891",
     "exception": false,
     "start_time": "2025-07-30T13:32:28.842543",
     "status": "completed"
    },
    "tags": []
   },
   "outputs": [],
   "source": [
    "import json\n",
    "# Parse universe into dict if it is passed as a string\n",
    "if isinstance(universe, str):\n",
    "    universe = json.loads(universe)"
   ]
  },
  {
   "cell_type": "code",
   "execution_count": 6,
   "id": "16620c48",
   "metadata": {
    "execution": {
     "iopub.execute_input": "2025-07-30T13:32:28.880872Z",
     "iopub.status.busy": "2025-07-30T13:32:28.880161Z",
     "iopub.status.idle": "2025-07-30T13:32:28.907769Z",
     "shell.execute_reply": "2025-07-30T13:32:28.907110Z"
    },
    "papermill": {
     "duration": 0.039671,
     "end_time": "2025-07-30T13:32:28.909133",
     "exception": false,
     "start_time": "2025-07-30T13:32:28.869462",
     "status": "completed"
    },
    "tags": []
   },
   "outputs": [],
   "source": [
    "# Auto-reload the custom package\n",
    "%load_ext autoreload\n",
    "%autoreload 1\n",
    "%aimport fairness_multiverse"
   ]
  },
  {
   "cell_type": "code",
   "execution_count": 7,
   "id": "01c5c9f3",
   "metadata": {
    "execution": {
     "iopub.execute_input": "2025-07-30T13:32:28.931063Z",
     "iopub.status.busy": "2025-07-30T13:32:28.930474Z",
     "iopub.status.idle": "2025-07-30T13:32:30.428199Z",
     "shell.execute_reply": "2025-07-30T13:32:30.427027Z"
    },
    "papermill": {
     "duration": 1.510678,
     "end_time": "2025-07-30T13:32:30.430178",
     "exception": false,
     "start_time": "2025-07-30T13:32:28.919500",
     "status": "completed"
    },
    "tags": []
   },
   "outputs": [],
   "source": [
    "from fairness_multiverse.universe import UniverseAnalysis\n",
    "\n",
    "universe_analysis = UniverseAnalysis(\n",
    "    run_no = run_no,\n",
    "    universe_id = universe_id,\n",
    "    universe = universe,\n",
    "    output_dir=output_dir,\n",
    ")"
   ]
  },
  {
   "cell_type": "code",
   "execution_count": 8,
   "id": "106241f5",
   "metadata": {
    "execution": {
     "iopub.execute_input": "2025-07-30T13:32:30.475664Z",
     "iopub.status.busy": "2025-07-30T13:32:30.474973Z",
     "iopub.status.idle": "2025-07-30T13:32:30.481645Z",
     "shell.execute_reply": "2025-07-30T13:32:30.480661Z"
    },
    "papermill": {
     "duration": 0.031656,
     "end_time": "2025-07-30T13:32:30.483867",
     "exception": false,
     "start_time": "2025-07-30T13:32:30.452211",
     "status": "completed"
    },
    "tags": []
   },
   "outputs": [
    {
     "name": "stdout",
     "output_type": "stream",
     "text": [
      "Using Seed: 2023\n"
     ]
    }
   ],
   "source": [
    "import numpy as np\n",
    "parsed_seed = int(seed)\n",
    "np.random.seed(parsed_seed)\n",
    "print(f\"Using Seed: {parsed_seed}\")"
   ]
  },
  {
   "cell_type": "markdown",
   "id": "e0ebdc57",
   "metadata": {
    "papermill": {
     "duration": 0.02193,
     "end_time": "2025-07-30T13:32:30.525151",
     "exception": false,
     "start_time": "2025-07-30T13:32:30.503221",
     "status": "completed"
    },
    "tags": []
   },
   "source": [
    "# Loading Data"
   ]
  },
  {
   "cell_type": "markdown",
   "id": "681925a3",
   "metadata": {
    "papermill": {
     "duration": 0.019049,
     "end_time": "2025-07-30T13:32:30.564799",
     "exception": false,
     "start_time": "2025-07-30T13:32:30.545750",
     "status": "completed"
    },
    "tags": []
   },
   "source": [
    "Load siab_train, siab_test, siab_calib and/or \n",
    "load siab_train_features, siab_train_labels"
   ]
  },
  {
   "cell_type": "code",
   "execution_count": 9,
   "id": "f0496b8a",
   "metadata": {
    "execution": {
     "iopub.execute_input": "2025-07-30T13:32:30.606167Z",
     "iopub.status.busy": "2025-07-30T13:32:30.605283Z",
     "iopub.status.idle": "2025-07-30T13:32:42.064928Z",
     "shell.execute_reply": "2025-07-30T13:32:42.063847Z"
    },
    "papermill": {
     "duration": 11.482993,
     "end_time": "2025-07-30T13:32:42.066626",
     "exception": false,
     "start_time": "2025-07-30T13:32:30.583633",
     "status": "completed"
    },
    "tags": []
   },
   "outputs": [
    {
     "name": "stdout",
     "output_type": "stream",
     "text": [
      "Loading SIAB data from cache: data/siab_cached.csv.gz\n"
     ]
    },
    {
     "name": "stdout",
     "output_type": "stream",
     "text": [
      "(643690, 164)\n"
     ]
    }
   ],
   "source": [
    "from pathlib import Path\n",
    "import pandas as pd\n",
    "\n",
    "# File paths\n",
    "raw_file = Path(\"data/raw/siab.csv\")\n",
    "cache_file = Path(\"data/siab_cached.csv.gz\")\n",
    "\n",
    "# Ensure cache directory exists\n",
    "cache_file.parent.mkdir(parents=True, exist_ok=True)\n",
    "\n",
    "# Load with simple caching\n",
    "if cache_file.exists():\n",
    "    print(f\"Loading SIAB data from cache: {cache_file}\")\n",
    "    siab = pd.read_csv(cache_file, compression='gzip')\n",
    "else:\n",
    "    print(f\"Cache not found. Reading raw SIAB data: {raw_file}\")\n",
    "    siab = pd.read_csv(raw_file)\n",
    "    siab.to_csv(cache_file, index=False, compression='gzip')\n",
    "    print(f\"Cached SIAB data to: {cache_file}\")\n",
    "\n",
    "# Now use `siab` DataFrame as needed\n",
    "print(siab.shape)"
   ]
  },
  {
   "cell_type": "code",
   "execution_count": 10,
   "id": "db0ca512-5f53-4dba-abdb-a2888bca41ba",
   "metadata": {
    "execution": {
     "iopub.execute_input": "2025-07-30T13:32:42.114812Z",
     "iopub.status.busy": "2025-07-30T13:32:42.114085Z",
     "iopub.status.idle": "2025-07-30T13:32:42.119649Z",
     "shell.execute_reply": "2025-07-30T13:32:42.118769Z"
    },
    "papermill": {
     "duration": 0.03084,
     "end_time": "2025-07-30T13:32:42.121300",
     "exception": false,
     "start_time": "2025-07-30T13:32:42.090460",
     "status": "completed"
    },
    "tags": []
   },
   "outputs": [],
   "source": [
    "#siab"
   ]
  },
  {
   "cell_type": "code",
   "execution_count": 11,
   "id": "a0edb063",
   "metadata": {
    "execution": {
     "iopub.execute_input": "2025-07-30T13:32:42.149014Z",
     "iopub.status.busy": "2025-07-30T13:32:42.147935Z",
     "iopub.status.idle": "2025-07-30T13:32:42.153417Z",
     "shell.execute_reply": "2025-07-30T13:32:42.152062Z"
    },
    "papermill": {
     "duration": 0.020875,
     "end_time": "2025-07-30T13:32:42.155249",
     "exception": false,
     "start_time": "2025-07-30T13:32:42.134374",
     "status": "completed"
    },
    "tags": []
   },
   "outputs": [],
   "source": [
    "#import pandas as pd\n",
    "#\n",
    "#X_train = pd.read_csv(\"./data/X_train.csv\")\n",
    "#y_train = pd.read_csv(\"./data/y_train.csv\")"
   ]
  },
  {
   "cell_type": "code",
   "execution_count": 12,
   "id": "63d08085",
   "metadata": {
    "execution": {
     "iopub.execute_input": "2025-07-30T13:32:42.203610Z",
     "iopub.status.busy": "2025-07-30T13:32:42.202873Z",
     "iopub.status.idle": "2025-07-30T13:32:42.208526Z",
     "shell.execute_reply": "2025-07-30T13:32:42.207439Z"
    },
    "papermill": {
     "duration": 0.031727,
     "end_time": "2025-07-30T13:32:42.210381",
     "exception": false,
     "start_time": "2025-07-30T13:32:42.178654",
     "status": "completed"
    },
    "tags": []
   },
   "outputs": [],
   "source": [
    "#X_test = pd.read_csv(\"./data/X_test.csv\")\n",
    "#y_true = pd.read_csv(\"./data/y_test.csv\")"
   ]
  },
  {
   "cell_type": "code",
   "execution_count": 13,
   "id": "98a8d0fa-1d3d-4ed8-bb2c-281470e24add",
   "metadata": {
    "execution": {
     "iopub.execute_input": "2025-07-30T13:32:42.257858Z",
     "iopub.status.busy": "2025-07-30T13:32:42.257405Z",
     "iopub.status.idle": "2025-07-30T13:32:42.263134Z",
     "shell.execute_reply": "2025-07-30T13:32:42.261948Z"
    },
    "papermill": {
     "duration": 0.031898,
     "end_time": "2025-07-30T13:32:42.265681",
     "exception": false,
     "start_time": "2025-07-30T13:32:42.233783",
     "status": "completed"
    },
    "tags": []
   },
   "outputs": [],
   "source": [
    "# Calibration data for conformal\n",
    "#X_calib = pd.read_csv(\"./data/X_calib.csv\")\n",
    "#y_calib = pd.read_csv(\"./data/y_calib.csv\")"
   ]
  },
  {
   "cell_type": "markdown",
   "id": "997051c5-15bd-4b69-9786-c3001a3ce484",
   "metadata": {
    "papermill": {
     "duration": 0.019724,
     "end_time": "2025-07-30T13:32:42.317856",
     "exception": false,
     "start_time": "2025-07-30T13:32:42.298132",
     "status": "completed"
    },
    "tags": []
   },
   "source": [
    "# Splitting Data and Setting Training Data Size"
   ]
  },
  {
   "cell_type": "code",
   "execution_count": 14,
   "id": "e993b61f-042d-41a6-8c81-f55681f86335",
   "metadata": {
    "execution": {
     "iopub.execute_input": "2025-07-30T13:32:42.361765Z",
     "iopub.status.busy": "2025-07-30T13:32:42.361343Z",
     "iopub.status.idle": "2025-07-30T13:32:42.372905Z",
     "shell.execute_reply": "2025-07-30T13:32:42.371903Z"
    },
    "papermill": {
     "duration": 0.036066,
     "end_time": "2025-07-30T13:32:42.375027",
     "exception": false,
     "start_time": "2025-07-30T13:32:42.338961",
     "status": "completed"
    },
    "tags": []
   },
   "outputs": [],
   "source": [
    "def sample_by_year_size(df,\n",
    "                        training_year: str,\n",
    "                        training_size: str,\n",
    "                        random_state: int = 42):\n",
    "    # --- parse training_year into a list of int years ---\n",
    "    if \"_\" in training_year:\n",
    "        start_str, end_str = training_year.split(\"_\", 1)\n",
    "        start = int(start_str)\n",
    "        end   = int(end_str) if len(end_str) == 4 else (int(end_str) + (start // 100)*100)\n",
    "        years = list(range(start, end + 1))\n",
    "    else:\n",
    "        years = [int(training_year)]\n",
    "\n",
    "    df = df[df[\"year\"].isin(years)].reset_index(drop=True)\n",
    "\n",
    "    # --- map training_size to total number of samples ---\n",
    "    total_map = {\"25k\": 25_000, \"5k\": 5_000, \"1k\": 1_000}\n",
    "    if training_size not in total_map:\n",
    "        return df  # e.g. \"all\"\n",
    "\n",
    "    total_samples = total_map[training_size]\n",
    "    n_years       = len(years)\n",
    "    base          = total_samples // n_years\n",
    "    remainder     = total_samples % n_years\n",
    "\n",
    "    # --- build a dict: year -> how many to sample ---\n",
    "    # give +1 to the first `remainder` years in ascending order\n",
    "    quotas = {\n",
    "        year: base + (1 if idx < remainder else 0)\n",
    "        for idx, year in enumerate(sorted(years))\n",
    "    }\n",
    "\n",
    "    # --- sample per‐year according to the quota dict ---\n",
    "    sampled = (\n",
    "        df\n",
    "        .groupby(\"year\", group_keys=False)\n",
    "        .apply(lambda grp: grp.sample(\n",
    "            n=min(len(grp), quotas[grp.name]),\n",
    "            random_state=random_state))\n",
    "        .reset_index(drop=True)\n",
    "    )\n",
    "\n",
    "    return sampled"
   ]
  },
  {
   "cell_type": "code",
   "execution_count": 15,
   "id": "c0ccd338-0e02-41f3-a09d-f56f9266e3fb",
   "metadata": {
    "execution": {
     "iopub.execute_input": "2025-07-30T13:32:42.420663Z",
     "iopub.status.busy": "2025-07-30T13:32:42.420259Z",
     "iopub.status.idle": "2025-07-30T13:32:42.432625Z",
     "shell.execute_reply": "2025-07-30T13:32:42.431556Z"
    },
    "papermill": {
     "duration": 0.039147,
     "end_time": "2025-07-30T13:32:42.436927",
     "exception": false,
     "start_time": "2025-07-30T13:32:42.397780",
     "status": "completed"
    },
    "tags": []
   },
   "outputs": [
    {
     "data": {
      "text/plain": [
       "'25k'"
      ]
     },
     "execution_count": 15,
     "metadata": {},
     "output_type": "execute_result"
    }
   ],
   "source": [
    "universe[\"training_size\"]"
   ]
  },
  {
   "cell_type": "code",
   "execution_count": 16,
   "id": "ca707fd7-8047-4acd-bfa5-66248fbbf8e6",
   "metadata": {
    "execution": {
     "iopub.execute_input": "2025-07-30T13:32:42.480326Z",
     "iopub.status.busy": "2025-07-30T13:32:42.479858Z",
     "iopub.status.idle": "2025-07-30T13:32:42.487526Z",
     "shell.execute_reply": "2025-07-30T13:32:42.486595Z"
    },
    "papermill": {
     "duration": 0.033254,
     "end_time": "2025-07-30T13:32:42.492006",
     "exception": false,
     "start_time": "2025-07-30T13:32:42.458752",
     "status": "completed"
    },
    "tags": []
   },
   "outputs": [
    {
     "data": {
      "text/plain": [
       "'2010_14'"
      ]
     },
     "execution_count": 16,
     "metadata": {},
     "output_type": "execute_result"
    }
   ],
   "source": [
    "universe[\"training_year\"]"
   ]
  },
  {
   "cell_type": "code",
   "execution_count": 17,
   "id": "aea9c6ef-6f46-42c8-85eb-5a62025c1508",
   "metadata": {
    "execution": {
     "iopub.execute_input": "2025-07-30T13:32:42.550551Z",
     "iopub.status.busy": "2025-07-30T13:32:42.550141Z",
     "iopub.status.idle": "2025-07-30T13:32:43.876447Z",
     "shell.execute_reply": "2025-07-30T13:32:43.875355Z"
    },
    "papermill": {
     "duration": 1.363809,
     "end_time": "2025-07-30T13:32:43.878688",
     "exception": false,
     "start_time": "2025-07-30T13:32:42.514879",
     "status": "completed"
    },
    "tags": []
   },
   "outputs": [],
   "source": [
    "siab_train = sample_by_year_size(siab,\n",
    "                               training_year=universe[\"training_year\"],\n",
    "                               training_size=universe[\"training_size\"])"
   ]
  },
  {
   "cell_type": "code",
   "execution_count": 18,
   "id": "8d3afb32-789d-442c-8d5d-9f5aa8dd2eed",
   "metadata": {
    "execution": {
     "iopub.execute_input": "2025-07-30T13:32:43.924479Z",
     "iopub.status.busy": "2025-07-30T13:32:43.923974Z",
     "iopub.status.idle": "2025-07-30T13:32:43.931080Z",
     "shell.execute_reply": "2025-07-30T13:32:43.930161Z"
    },
    "papermill": {
     "duration": 0.031394,
     "end_time": "2025-07-30T13:32:43.932805",
     "exception": false,
     "start_time": "2025-07-30T13:32:43.901411",
     "status": "completed"
    },
    "tags": []
   },
   "outputs": [
    {
     "data": {
      "text/plain": [
       "(25000, 164)"
      ]
     },
     "execution_count": 18,
     "metadata": {},
     "output_type": "execute_result"
    }
   ],
   "source": [
    "siab_train.shape"
   ]
  },
  {
   "cell_type": "code",
   "execution_count": 19,
   "id": "d582db68-1a4c-47fb-84fc-08518dc1975a",
   "metadata": {
    "execution": {
     "iopub.execute_input": "2025-07-30T13:32:44.008042Z",
     "iopub.status.busy": "2025-07-30T13:32:44.007628Z",
     "iopub.status.idle": "2025-07-30T13:32:44.018165Z",
     "shell.execute_reply": "2025-07-30T13:32:44.017177Z"
    },
    "papermill": {
     "duration": 0.036644,
     "end_time": "2025-07-30T13:32:44.020494",
     "exception": false,
     "start_time": "2025-07-30T13:32:43.983850",
     "status": "completed"
    },
    "tags": []
   },
   "outputs": [
    {
     "data": {
      "text/plain": [
       "year\n",
       "2010    5000\n",
       "2011    5000\n",
       "2012    5000\n",
       "2013    5000\n",
       "2014    5000\n",
       "dtype: int64"
      ]
     },
     "metadata": {},
     "output_type": "display_data"
    }
   ],
   "source": [
    "display(siab_train.groupby(\"year\").size())"
   ]
  },
  {
   "cell_type": "code",
   "execution_count": 20,
   "id": "a561edb4-d032-42cb-8256-22eac1111c64",
   "metadata": {
    "execution": {
     "iopub.execute_input": "2025-07-30T13:32:44.130349Z",
     "iopub.status.busy": "2025-07-30T13:32:44.129951Z",
     "iopub.status.idle": "2025-07-30T13:32:44.451428Z",
     "shell.execute_reply": "2025-07-30T13:32:44.450415Z"
    },
    "papermill": {
     "duration": 0.384663,
     "end_time": "2025-07-30T13:32:44.453457",
     "exception": false,
     "start_time": "2025-07-30T13:32:44.068794",
     "status": "completed"
    },
    "tags": []
   },
   "outputs": [],
   "source": [
    "#siab_train = siab_s[siab_s.year < 2015]\n",
    "siab_calib = siab[siab.year == 2015]\n",
    "siab_test = siab[siab.year == 2016]"
   ]
  },
  {
   "cell_type": "code",
   "execution_count": 21,
   "id": "472de16f-c3db-4916-846b-1f0de9cf1746",
   "metadata": {
    "execution": {
     "iopub.execute_input": "2025-07-30T13:32:44.500124Z",
     "iopub.status.busy": "2025-07-30T13:32:44.499556Z",
     "iopub.status.idle": "2025-07-30T13:32:44.516006Z",
     "shell.execute_reply": "2025-07-30T13:32:44.514843Z"
    },
    "papermill": {
     "duration": 0.04194,
     "end_time": "2025-07-30T13:32:44.518163",
     "exception": false,
     "start_time": "2025-07-30T13:32:44.476223",
     "status": "completed"
    },
    "tags": []
   },
   "outputs": [],
   "source": [
    "X_train = siab_train.iloc[:,4:164]\n",
    "y_train = siab_train.iloc[:, [3]]"
   ]
  },
  {
   "cell_type": "code",
   "execution_count": 22,
   "id": "828c96af-f43a-4ed6-ba47-8ac73a47d56c",
   "metadata": {
    "execution": {
     "iopub.execute_input": "2025-07-30T13:32:44.565897Z",
     "iopub.status.busy": "2025-07-30T13:32:44.565217Z",
     "iopub.status.idle": "2025-07-30T13:32:44.625208Z",
     "shell.execute_reply": "2025-07-30T13:32:44.624194Z"
    },
    "papermill": {
     "duration": 0.08597,
     "end_time": "2025-07-30T13:32:44.627311",
     "exception": false,
     "start_time": "2025-07-30T13:32:44.541341",
     "status": "completed"
    },
    "tags": []
   },
   "outputs": [],
   "source": [
    "X_calib = siab_calib.iloc[:,4:164]\n",
    "y_calib = siab_calib.iloc[:, [3]]"
   ]
  },
  {
   "cell_type": "code",
   "execution_count": 23,
   "id": "c34be9c3-6bd6-476e-acd3-845840e303be",
   "metadata": {
    "execution": {
     "iopub.execute_input": "2025-07-30T13:32:44.676295Z",
     "iopub.status.busy": "2025-07-30T13:32:44.675324Z",
     "iopub.status.idle": "2025-07-30T13:32:44.746285Z",
     "shell.execute_reply": "2025-07-30T13:32:44.745212Z"
    },
    "papermill": {
     "duration": 0.097409,
     "end_time": "2025-07-30T13:32:44.748394",
     "exception": false,
     "start_time": "2025-07-30T13:32:44.650985",
     "status": "completed"
    },
    "tags": []
   },
   "outputs": [],
   "source": [
    "X_test = siab_test.iloc[:,4:164]\n",
    "y_true = siab_test.iloc[:, [3]]"
   ]
  },
  {
   "cell_type": "markdown",
   "id": "9901737e-04df-44f0-9100-f5ad144ed040",
   "metadata": {
    "papermill": {
     "duration": 0.021758,
     "end_time": "2025-07-30T13:32:44.807501",
     "exception": false,
     "start_time": "2025-07-30T13:32:44.785743",
     "status": "completed"
    },
    "tags": []
   },
   "source": [
    "# Splitting Data and Setting Training Data Size OLD VERSION"
   ]
  },
  {
   "cell_type": "code",
   "execution_count": 24,
   "id": "acbc8f7d-8fc8-4e86-8c59-5dcb0f58384b",
   "metadata": {
    "execution": {
     "iopub.execute_input": "2025-07-30T13:32:44.872015Z",
     "iopub.status.busy": "2025-07-30T13:32:44.871612Z",
     "iopub.status.idle": "2025-07-30T13:32:44.877614Z",
     "shell.execute_reply": "2025-07-30T13:32:44.876361Z"
    },
    "papermill": {
     "duration": 0.02551,
     "end_time": "2025-07-30T13:32:44.880675",
     "exception": false,
     "start_time": "2025-07-30T13:32:44.855165",
     "status": "completed"
    },
    "tags": []
   },
   "outputs": [],
   "source": [
    "#def sample_by_year(df, training_size, random_state=42):\n",
    "#    if training_size == \"2014\":\n",
    "#        return df[df[\"year\"] == 2014].reset_index(drop=True)\n",
    "#    \n",
    "#    size_map = {\n",
    "#        \"25k\": 5000,\n",
    "#        \"5k\": 1000,\n",
    "#        \"1k\": 200\n",
    "#    }\n",
    "#\n",
    "#    if training_size not in size_map:\n",
    "#        return df.reset_index(drop=True)  # use all data\n",
    "#\n",
    "#    n_per_year = size_map[training_size]\n",
    "#    grouped = df.groupby(\"year\")\n",
    "#    sampled = grouped.apply(lambda x: x.sample(n=min(n_per_year, len(x)), random_state=random_state))\n",
    "#    return sampled.reset_index(drop=True)"
   ]
  },
  {
   "cell_type": "code",
   "execution_count": 25,
   "id": "6d931f52-beaf-43ff-9e78-9d44a448d54e",
   "metadata": {
    "execution": {
     "iopub.execute_input": "2025-07-30T13:32:44.969917Z",
     "iopub.status.busy": "2025-07-30T13:32:44.969501Z",
     "iopub.status.idle": "2025-07-30T13:32:44.975991Z",
     "shell.execute_reply": "2025-07-30T13:32:44.975071Z"
    },
    "papermill": {
     "duration": 0.061248,
     "end_time": "2025-07-30T13:32:44.977985",
     "exception": false,
     "start_time": "2025-07-30T13:32:44.916737",
     "status": "completed"
    },
    "tags": []
   },
   "outputs": [],
   "source": [
    "#siab_s = sample_by_year(siab, universe[\"training_size\"])"
   ]
  },
  {
   "cell_type": "code",
   "execution_count": 26,
   "id": "5db0a40e-a4e2-4920-be85-b12ae061d70d",
   "metadata": {
    "execution": {
     "iopub.execute_input": "2025-07-30T13:32:45.067336Z",
     "iopub.status.busy": "2025-07-30T13:32:45.066927Z",
     "iopub.status.idle": "2025-07-30T13:32:45.071895Z",
     "shell.execute_reply": "2025-07-30T13:32:45.071031Z"
    },
    "papermill": {
     "duration": 0.043475,
     "end_time": "2025-07-30T13:32:45.073876",
     "exception": false,
     "start_time": "2025-07-30T13:32:45.030401",
     "status": "completed"
    },
    "tags": []
   },
   "outputs": [],
   "source": [
    "#display(siab_s.groupby(\"year\").size())"
   ]
  },
  {
   "cell_type": "code",
   "execution_count": 27,
   "id": "e6c733c5",
   "metadata": {
    "execution": {
     "iopub.execute_input": "2025-07-30T13:32:45.163991Z",
     "iopub.status.busy": "2025-07-30T13:32:45.163504Z",
     "iopub.status.idle": "2025-07-30T13:32:45.313651Z",
     "shell.execute_reply": "2025-07-30T13:32:45.312623Z"
    },
    "papermill": {
     "duration": 0.193919,
     "end_time": "2025-07-30T13:32:45.315597",
     "exception": false,
     "start_time": "2025-07-30T13:32:45.121678",
     "status": "completed"
    },
    "tags": []
   },
   "outputs": [],
   "source": [
    "# Auxiliary data needed downstream in the pipeline\n",
    "\n",
    "org_train = X_train.copy()\n",
    "org_test = X_test.copy()\n",
    "org_calib = X_calib.copy()"
   ]
  },
  {
   "cell_type": "code",
   "execution_count": 28,
   "id": "1466abac-c6da-4492-a62f-4240ae3783af",
   "metadata": {
    "execution": {
     "iopub.execute_input": "2025-07-30T13:32:45.370390Z",
     "iopub.status.busy": "2025-07-30T13:32:45.369975Z",
     "iopub.status.idle": "2025-07-30T13:32:45.376105Z",
     "shell.execute_reply": "2025-07-30T13:32:45.375176Z"
    },
    "papermill": {
     "duration": 0.033318,
     "end_time": "2025-07-30T13:32:45.379095",
     "exception": false,
     "start_time": "2025-07-30T13:32:45.345777",
     "status": "completed"
    },
    "tags": []
   },
   "outputs": [],
   "source": [
    "# put in other script?\n",
    "# Group sizes\n",
    "\n",
    "#def calculate_percentages(df, df_name):\n",
    "#    total_entries = len(df)\n",
    "#\n",
    "#    female_pct = (df['frau1'] == 1).mean() * 100\n",
    "#    non_german_pct = ((df['maxdeutsch1'] == 0) & (df['maxdeutsch.Missing.'] == 0)).mean() * 100\n",
    "#    non_german_male_pct = ((df['frau1'] == 0) & (df['maxdeutsch1'] == 0) & (df['maxdeutsch.Missing.'] == 0)).mean() * 100\n",
    "#    non_german_female_pct = ((df['frau1'] == 1) & (df['maxdeutsch1'] == 0) & (df['maxdeutsch.Missing.'] == 0)).mean() * 100\n",
    "#\n",
    "#    print(f\"--- {df_name} ---\")\n",
    "#    print(f\"Female: {female_pct:.2f}%\")\n",
    "#    print(f\"Non-German: {non_german_pct:.2f}%\")\n",
    "#    print(f\"Non-German Male: {non_german_male_pct:.2f}%\")\n",
    "#    print(f\"Non-German Female: {non_german_female_pct:.2f}%\\n\")\n",
    "#\n",
    "## Calculate for each DataFrame\n",
    "#calculate_percentages(siab_calib, \"siab_calib\")\n",
    "#calculate_percentages(siab_test, \"siab_test\")\n",
    "#calculate_percentages(siab_train, \"siab_train\")"
   ]
  },
  {
   "cell_type": "markdown",
   "id": "0a4a1b33",
   "metadata": {
    "papermill": {
     "duration": 0.026507,
     "end_time": "2025-07-30T13:32:45.428465",
     "exception": false,
     "start_time": "2025-07-30T13:32:45.401958",
     "status": "completed"
    },
    "tags": []
   },
   "source": [
    "# Preprocessing Data"
   ]
  },
  {
   "cell_type": "code",
   "execution_count": 29,
   "id": "ca879031",
   "metadata": {
    "execution": {
     "iopub.execute_input": "2025-07-30T13:32:45.475425Z",
     "iopub.status.busy": "2025-07-30T13:32:45.475011Z",
     "iopub.status.idle": "2025-07-30T13:32:45.481493Z",
     "shell.execute_reply": "2025-07-30T13:32:45.480474Z"
    },
    "papermill": {
     "duration": 0.03376,
     "end_time": "2025-07-30T13:32:45.485160",
     "exception": false,
     "start_time": "2025-07-30T13:32:45.451400",
     "status": "completed"
    },
    "tags": []
   },
   "outputs": [],
   "source": [
    "# EXCLUDE PROTECTED FEATURES\n",
    "# ----------------------\n",
    "# \"exclude_features\": \"none\", # \"nationality\", \"sex\", \"nationality-sex\"\n",
    "\n",
    "excluded_features = universe[\"exclude_features\"].split(\"-\") # split, e.g.: \"nationality-sex\" -> [\"nationality\", \"sex\"]\n",
    "excluded_features_dictionary = {\n",
    "    \"nationality\": [\"maxdeutsch1\", \"maxdeutsch.Missing.\"],\n",
    "    \"sex\": [\"frau1\"],\n",
    "    \"age\": [\"age\"],\n",
    "}\n"
   ]
  },
  {
   "cell_type": "code",
   "execution_count": 30,
   "id": "b745ac60",
   "metadata": {
    "execution": {
     "iopub.execute_input": "2025-07-30T13:32:45.534566Z",
     "iopub.status.busy": "2025-07-30T13:32:45.534074Z",
     "iopub.status.idle": "2025-07-30T13:32:45.539757Z",
     "shell.execute_reply": "2025-07-30T13:32:45.538825Z"
    },
    "papermill": {
     "duration": 0.032479,
     "end_time": "2025-07-30T13:32:45.541535",
     "exception": false,
     "start_time": "2025-07-30T13:32:45.509056",
     "status": "completed"
    },
    "tags": []
   },
   "outputs": [],
   "source": [
    "# Code nice names to column names\n",
    "\n",
    "excluded_features_columns = [\n",
    "    excluded_features_dictionary[f] for f in excluded_features if len(f) > 0 and f != \"none\"\n",
    "]"
   ]
  },
  {
   "cell_type": "code",
   "execution_count": 31,
   "id": "f84f73a2",
   "metadata": {
    "execution": {
     "iopub.execute_input": "2025-07-30T13:32:45.590092Z",
     "iopub.status.busy": "2025-07-30T13:32:45.589645Z",
     "iopub.status.idle": "2025-07-30T13:32:45.596228Z",
     "shell.execute_reply": "2025-07-30T13:32:45.595156Z"
    },
    "papermill": {
     "duration": 0.032717,
     "end_time": "2025-07-30T13:32:45.597906",
     "exception": false,
     "start_time": "2025-07-30T13:32:45.565189",
     "status": "completed"
    },
    "tags": []
   },
   "outputs": [],
   "source": [
    "from utils import flatten_once\n",
    "\n",
    "excluded_features_columns = flatten_once(excluded_features_columns)"
   ]
  },
  {
   "cell_type": "code",
   "execution_count": 32,
   "id": "884dea22",
   "metadata": {
    "execution": {
     "iopub.execute_input": "2025-07-30T13:32:45.647072Z",
     "iopub.status.busy": "2025-07-30T13:32:45.646287Z",
     "iopub.status.idle": "2025-07-30T13:32:45.662172Z",
     "shell.execute_reply": "2025-07-30T13:32:45.661209Z"
    },
    "papermill": {
     "duration": 0.042124,
     "end_time": "2025-07-30T13:32:45.663970",
     "exception": false,
     "start_time": "2025-07-30T13:32:45.621846",
     "status": "completed"
    },
    "tags": []
   },
   "outputs": [
    {
     "name": "stdout",
     "output_type": "stream",
     "text": [
      "Dropping features: ['frau1']\n"
     ]
    }
   ],
   "source": [
    "if len(excluded_features_columns) > 0:\n",
    "    print(f\"Dropping features: {excluded_features_columns}\")\n",
    "    X_train.drop(excluded_features_columns, axis=1, inplace=True)"
   ]
  },
  {
   "cell_type": "code",
   "execution_count": 33,
   "id": "95ab8b16",
   "metadata": {
    "execution": {
     "iopub.execute_input": "2025-07-30T13:32:45.712462Z",
     "iopub.status.busy": "2025-07-30T13:32:45.711652Z",
     "iopub.status.idle": "2025-07-30T13:32:45.766537Z",
     "shell.execute_reply": "2025-07-30T13:32:45.765364Z"
    },
    "papermill": {
     "duration": 0.081209,
     "end_time": "2025-07-30T13:32:45.768295",
     "exception": false,
     "start_time": "2025-07-30T13:32:45.687086",
     "status": "completed"
    },
    "tags": []
   },
   "outputs": [
    {
     "name": "stdout",
     "output_type": "stream",
     "text": [
      "Dropping features: ['frau1']\n"
     ]
    }
   ],
   "source": [
    "if len(excluded_features_columns) > 0:\n",
    "    print(f\"Dropping features: {excluded_features_columns}\")\n",
    "    X_test.drop(excluded_features_columns, axis=1, inplace=True)"
   ]
  },
  {
   "cell_type": "code",
   "execution_count": 34,
   "id": "1853aaf5-fb9f-46cb-a2b5-8ea4ae2237e4",
   "metadata": {
    "execution": {
     "iopub.execute_input": "2025-07-30T13:32:45.817305Z",
     "iopub.status.busy": "2025-07-30T13:32:45.816707Z",
     "iopub.status.idle": "2025-07-30T13:32:45.887637Z",
     "shell.execute_reply": "2025-07-30T13:32:45.886496Z"
    },
    "papermill": {
     "duration": 0.097919,
     "end_time": "2025-07-30T13:32:45.889879",
     "exception": false,
     "start_time": "2025-07-30T13:32:45.791960",
     "status": "completed"
    },
    "tags": []
   },
   "outputs": [
    {
     "name": "stdout",
     "output_type": "stream",
     "text": [
      "Dropping features: ['frau1']\n"
     ]
    }
   ],
   "source": [
    "if len(excluded_features_columns) > 0:\n",
    "    print(f\"Dropping features: {excluded_features_columns}\")\n",
    "    X_calib.drop(excluded_features_columns, axis=1, inplace=True)"
   ]
  },
  {
   "cell_type": "code",
   "execution_count": 35,
   "id": "6727d079-03e5-481e-9d38-292a90b7a0a8",
   "metadata": {
    "execution": {
     "iopub.execute_input": "2025-07-30T13:32:45.949978Z",
     "iopub.status.busy": "2025-07-30T13:32:45.949460Z",
     "iopub.status.idle": "2025-07-30T13:32:45.955886Z",
     "shell.execute_reply": "2025-07-30T13:32:45.954776Z"
    },
    "papermill": {
     "duration": 0.040526,
     "end_time": "2025-07-30T13:32:45.959753",
     "exception": false,
     "start_time": "2025-07-30T13:32:45.919227",
     "status": "completed"
    },
    "tags": []
   },
   "outputs": [],
   "source": [
    "# SPLIT & STRATIFY DATA\n",
    "# ----------------------"
   ]
  },
  {
   "cell_type": "code",
   "execution_count": 36,
   "id": "76c4dc6d",
   "metadata": {
    "execution": {
     "iopub.execute_input": "2025-07-30T13:32:46.020554Z",
     "iopub.status.busy": "2025-07-30T13:32:46.020019Z",
     "iopub.status.idle": "2025-07-30T13:32:46.027166Z",
     "shell.execute_reply": "2025-07-30T13:32:46.025858Z"
    },
    "papermill": {
     "duration": 0.042301,
     "end_time": "2025-07-30T13:32:46.031497",
     "exception": false,
     "start_time": "2025-07-30T13:32:45.989196",
     "status": "completed"
    },
    "tags": []
   },
   "outputs": [],
   "source": [
    "# EXCLUDE CERTAIN SUBGROUPS\n",
    "# ----------------------\n",
    "\n",
    "mode = universe.get(\"exclude_subgroups\", \"keep-all\") \n",
    "# Fetches the exclude_subgroups setting from the universe dict.\n",
    "# Defaults to \"keep-all\" if the key is missing."
   ]
  },
  {
   "cell_type": "code",
   "execution_count": 37,
   "id": "21994072",
   "metadata": {
    "execution": {
     "iopub.execute_input": "2025-07-30T13:32:46.121496Z",
     "iopub.status.busy": "2025-07-30T13:32:46.121022Z",
     "iopub.status.idle": "2025-07-30T13:32:46.134973Z",
     "shell.execute_reply": "2025-07-30T13:32:46.133771Z"
    },
    "papermill": {
     "duration": 0.07562,
     "end_time": "2025-07-30T13:32:46.137334",
     "exception": false,
     "start_time": "2025-07-30T13:32:46.061714",
     "status": "completed"
    },
    "tags": []
   },
   "outputs": [],
   "source": [
    "if mode == \"keep-all\":\n",
    "    keep_mask = pd.Series(True, index=org_train.index)\n",
    "\n",
    "# org_train contains the original feature columns from features_org (in Simson)\n",
    "# features_org contains unprocessed features, for me X_train at beginning ???\n",
    "# For keep-all, creates a boolean Series (keep_mask) of all True, so no rows are removed.\n",
    "\n",
    "elif mode == \"drop-non-german\":\n",
    "    keep_mask = org_train[\"maxdeutsch1\"] == 1 # ??? what about missing values?\n",
    "\n",
    "else:\n",
    "    raise ValueError(f\"Unsupported mode for exclude_subgroups: {mode}\")\n"
   ]
  },
  {
   "cell_type": "code",
   "execution_count": 38,
   "id": "71651440",
   "metadata": {
    "execution": {
     "iopub.execute_input": "2025-07-30T13:32:46.246899Z",
     "iopub.status.busy": "2025-07-30T13:32:46.246494Z",
     "iopub.status.idle": "2025-07-30T13:32:46.254653Z",
     "shell.execute_reply": "2025-07-30T13:32:46.253414Z"
    },
    "papermill": {
     "duration": 0.05213,
     "end_time": "2025-07-30T13:32:46.256828",
     "exception": false,
     "start_time": "2025-07-30T13:32:46.204698",
     "status": "completed"
    },
    "tags": []
   },
   "outputs": [
    {
     "name": "stdout",
     "output_type": "stream",
     "text": [
      "Dropping 3312 rows (13.25%) where mode='drop-non-german'\n"
     ]
    }
   ],
   "source": [
    "n_drop = (~keep_mask).sum() # Calculates how many rows are set to be dropped\n",
    "if n_drop > 0:\n",
    "    pct = n_drop / len(keep_mask) * 100\n",
    "    print(f\"Dropping {n_drop} rows ({pct:.2f}%) where mode='{mode}'\")"
   ]
  },
  {
   "cell_type": "code",
   "execution_count": 39,
   "id": "5fb8eee5",
   "metadata": {
    "execution": {
     "iopub.execute_input": "2025-07-30T13:32:46.349792Z",
     "iopub.status.busy": "2025-07-30T13:32:46.349387Z",
     "iopub.status.idle": "2025-07-30T13:32:46.365179Z",
     "shell.execute_reply": "2025-07-30T13:32:46.364061Z"
    },
    "papermill": {
     "duration": 0.054565,
     "end_time": "2025-07-30T13:32:46.367234",
     "exception": false,
     "start_time": "2025-07-30T13:32:46.312669",
     "status": "completed"
    },
    "tags": []
   },
   "outputs": [],
   "source": [
    "X_train = X_train[keep_mask]"
   ]
  },
  {
   "cell_type": "code",
   "execution_count": 40,
   "id": "b202bb3a",
   "metadata": {
    "execution": {
     "iopub.execute_input": "2025-07-30T13:32:46.425179Z",
     "iopub.status.busy": "2025-07-30T13:32:46.424672Z",
     "iopub.status.idle": "2025-07-30T13:32:46.432186Z",
     "shell.execute_reply": "2025-07-30T13:32:46.431185Z"
    },
    "papermill": {
     "duration": 0.041406,
     "end_time": "2025-07-30T13:32:46.435597",
     "exception": false,
     "start_time": "2025-07-30T13:32:46.394191",
     "status": "completed"
    },
    "tags": []
   },
   "outputs": [],
   "source": [
    "y_train = y_train[keep_mask]"
   ]
  },
  {
   "cell_type": "markdown",
   "id": "493e2ac3",
   "metadata": {
    "papermill": {
     "duration": 0.024531,
     "end_time": "2025-07-30T13:32:46.485610",
     "exception": false,
     "start_time": "2025-07-30T13:32:46.461079",
     "status": "completed"
    },
    "tags": []
   },
   "source": [
    "# Model Training"
   ]
  },
  {
   "cell_type": "code",
   "execution_count": 41,
   "id": "679e1268",
   "metadata": {
    "execution": {
     "iopub.execute_input": "2025-07-30T13:32:46.534721Z",
     "iopub.status.busy": "2025-07-30T13:32:46.534265Z",
     "iopub.status.idle": "2025-07-30T13:32:46.685208Z",
     "shell.execute_reply": "2025-07-30T13:32:46.684094Z"
    },
    "papermill": {
     "duration": 0.177592,
     "end_time": "2025-07-30T13:32:46.687057",
     "exception": false,
     "start_time": "2025-07-30T13:32:46.509465",
     "status": "completed"
    },
    "tags": []
   },
   "outputs": [],
   "source": [
    "from sklearn.linear_model import LogisticRegression\n",
    "from sklearn.ensemble import GradientBoostingClassifier, RandomForestClassifier\n",
    "\n",
    "if (universe[\"model\"] == \"logreg\"):\n",
    "    model = LogisticRegression() #penalty=\"none\") #, solver=\"newton-cg\", max_iter=1) # include random_state=19 ?\n",
    "elif (universe[\"model\"] == \"penalized_logreg\"):\n",
    "    model = LogisticRegression(penalty=\"l2\", C=1.0) #, solver=\"newton-cg\", max_iter=1)\n",
    "elif (universe[\"model\"] == \"rf\"):\n",
    "    model = RandomForestClassifier(n_estimators=100, n_jobs=-1)\n",
    "elif (universe[\"model\"] == \"gbm\"):\n",
    "    model = GradientBoostingClassifier()\n",
    "elif (universe[\"model\"] == \"elasticnet\"):\n",
    "    model = LogisticRegression(penalty = 'elasticnet', solver = 'saga', l1_ratio = 0.5, max_iter=5000) # which solver to use?\n",
    "else:\n",
    "    raise \"Unsupported universe.model\""
   ]
  },
  {
   "cell_type": "code",
   "execution_count": 42,
   "id": "0cc8f744",
   "metadata": {
    "execution": {
     "iopub.execute_input": "2025-07-30T13:32:46.766755Z",
     "iopub.status.busy": "2025-07-30T13:32:46.766312Z",
     "iopub.status.idle": "2025-07-30T13:32:46.774354Z",
     "shell.execute_reply": "2025-07-30T13:32:46.773501Z"
    },
    "papermill": {
     "duration": 0.056224,
     "end_time": "2025-07-30T13:32:46.776160",
     "exception": false,
     "start_time": "2025-07-30T13:32:46.719936",
     "status": "completed"
    },
    "tags": []
   },
   "outputs": [],
   "source": [
    "import numpy as np\n",
    "from sklearn.pipeline import Pipeline\n",
    "from sklearn.preprocessing import StandardScaler\n",
    "\n",
    "model = Pipeline([\n",
    "    #(\"continuous_processor\", continuous_processor),\n",
    "    #(\"categorical_preprocessor\", categorical_preprocessor),\n",
    "    (\"scale\", StandardScaler() if universe[\"scale\"] == \"scale\" else None), \n",
    "    (\"model\", model),\n",
    "])"
   ]
  },
  {
   "cell_type": "code",
   "execution_count": 43,
   "id": "9442c04d",
   "metadata": {
    "execution": {
     "iopub.execute_input": "2025-07-30T13:32:46.898128Z",
     "iopub.status.busy": "2025-07-30T13:32:46.897723Z",
     "iopub.status.idle": "2025-07-30T13:32:50.215408Z",
     "shell.execute_reply": "2025-07-30T13:32:50.214345Z"
    },
    "papermill": {
     "duration": 3.389198,
     "end_time": "2025-07-30T13:32:50.217363",
     "exception": false,
     "start_time": "2025-07-30T13:32:46.828165",
     "status": "completed"
    },
    "tags": []
   },
   "outputs": [
    {
     "data": {
      "text/html": [
       "<style>#sk-container-id-1 {color: black;background-color: white;}#sk-container-id-1 pre{padding: 0;}#sk-container-id-1 div.sk-toggleable {background-color: white;}#sk-container-id-1 label.sk-toggleable__label {cursor: pointer;display: block;width: 100%;margin-bottom: 0;padding: 0.3em;box-sizing: border-box;text-align: center;}#sk-container-id-1 label.sk-toggleable__label-arrow:before {content: \"▸\";float: left;margin-right: 0.25em;color: #696969;}#sk-container-id-1 label.sk-toggleable__label-arrow:hover:before {color: black;}#sk-container-id-1 div.sk-estimator:hover label.sk-toggleable__label-arrow:before {color: black;}#sk-container-id-1 div.sk-toggleable__content {max-height: 0;max-width: 0;overflow: hidden;text-align: left;background-color: #f0f8ff;}#sk-container-id-1 div.sk-toggleable__content pre {margin: 0.2em;color: black;border-radius: 0.25em;background-color: #f0f8ff;}#sk-container-id-1 input.sk-toggleable__control:checked~div.sk-toggleable__content {max-height: 200px;max-width: 100%;overflow: auto;}#sk-container-id-1 input.sk-toggleable__control:checked~label.sk-toggleable__label-arrow:before {content: \"▾\";}#sk-container-id-1 div.sk-estimator input.sk-toggleable__control:checked~label.sk-toggleable__label {background-color: #d4ebff;}#sk-container-id-1 div.sk-label input.sk-toggleable__control:checked~label.sk-toggleable__label {background-color: #d4ebff;}#sk-container-id-1 input.sk-hidden--visually {border: 0;clip: rect(1px 1px 1px 1px);clip: rect(1px, 1px, 1px, 1px);height: 1px;margin: -1px;overflow: hidden;padding: 0;position: absolute;width: 1px;}#sk-container-id-1 div.sk-estimator {font-family: monospace;background-color: #f0f8ff;border: 1px dotted black;border-radius: 0.25em;box-sizing: border-box;margin-bottom: 0.5em;}#sk-container-id-1 div.sk-estimator:hover {background-color: #d4ebff;}#sk-container-id-1 div.sk-parallel-item::after {content: \"\";width: 100%;border-bottom: 1px solid gray;flex-grow: 1;}#sk-container-id-1 div.sk-label:hover label.sk-toggleable__label {background-color: #d4ebff;}#sk-container-id-1 div.sk-serial::before {content: \"\";position: absolute;border-left: 1px solid gray;box-sizing: border-box;top: 0;bottom: 0;left: 50%;z-index: 0;}#sk-container-id-1 div.sk-serial {display: flex;flex-direction: column;align-items: center;background-color: white;padding-right: 0.2em;padding-left: 0.2em;position: relative;}#sk-container-id-1 div.sk-item {position: relative;z-index: 1;}#sk-container-id-1 div.sk-parallel {display: flex;align-items: stretch;justify-content: center;background-color: white;position: relative;}#sk-container-id-1 div.sk-item::before, #sk-container-id-1 div.sk-parallel-item::before {content: \"\";position: absolute;border-left: 1px solid gray;box-sizing: border-box;top: 0;bottom: 0;left: 50%;z-index: -1;}#sk-container-id-1 div.sk-parallel-item {display: flex;flex-direction: column;z-index: 1;position: relative;background-color: white;}#sk-container-id-1 div.sk-parallel-item:first-child::after {align-self: flex-end;width: 50%;}#sk-container-id-1 div.sk-parallel-item:last-child::after {align-self: flex-start;width: 50%;}#sk-container-id-1 div.sk-parallel-item:only-child::after {width: 0;}#sk-container-id-1 div.sk-dashed-wrapped {border: 1px dashed gray;margin: 0 0.4em 0.5em 0.4em;box-sizing: border-box;padding-bottom: 0.4em;background-color: white;}#sk-container-id-1 div.sk-label label {font-family: monospace;font-weight: bold;display: inline-block;line-height: 1.2em;}#sk-container-id-1 div.sk-label-container {text-align: center;}#sk-container-id-1 div.sk-container {/* jupyter's `normalize.less` sets `[hidden] { display: none; }` but bootstrap.min.css set `[hidden] { display: none !important; }` so we also need the `!important` here to be able to override the default hidden behavior on the sphinx rendered scikit-learn.org. See: https://github.com/scikit-learn/scikit-learn/issues/21755 */display: inline-block !important;position: relative;}#sk-container-id-1 div.sk-text-repr-fallback {display: none;}</style><div id=\"sk-container-id-1\" class=\"sk-top-container\"><div class=\"sk-text-repr-fallback\"><pre>Pipeline(steps=[(&#x27;scale&#x27;, None), (&#x27;model&#x27;, RandomForestClassifier(n_jobs=-1))])</pre><b>In a Jupyter environment, please rerun this cell to show the HTML representation or trust the notebook. <br />On GitHub, the HTML representation is unable to render, please try loading this page with nbviewer.org.</b></div><div class=\"sk-container\" hidden><div class=\"sk-item sk-dashed-wrapped\"><div class=\"sk-label-container\"><div class=\"sk-label sk-toggleable\"><input class=\"sk-toggleable__control sk-hidden--visually\" id=\"sk-estimator-id-1\" type=\"checkbox\" ><label for=\"sk-estimator-id-1\" class=\"sk-toggleable__label sk-toggleable__label-arrow\">Pipeline</label><div class=\"sk-toggleable__content\"><pre>Pipeline(steps=[(&#x27;scale&#x27;, None), (&#x27;model&#x27;, RandomForestClassifier(n_jobs=-1))])</pre></div></div></div><div class=\"sk-serial\"><div class=\"sk-item\"><div class=\"sk-estimator sk-toggleable\"><input class=\"sk-toggleable__control sk-hidden--visually\" id=\"sk-estimator-id-2\" type=\"checkbox\" ><label for=\"sk-estimator-id-2\" class=\"sk-toggleable__label sk-toggleable__label-arrow\">None</label><div class=\"sk-toggleable__content\"><pre>None</pre></div></div></div><div class=\"sk-item\"><div class=\"sk-estimator sk-toggleable\"><input class=\"sk-toggleable__control sk-hidden--visually\" id=\"sk-estimator-id-3\" type=\"checkbox\" ><label for=\"sk-estimator-id-3\" class=\"sk-toggleable__label sk-toggleable__label-arrow\">RandomForestClassifier</label><div class=\"sk-toggleable__content\"><pre>RandomForestClassifier(n_jobs=-1)</pre></div></div></div></div></div></div></div>"
      ],
      "text/plain": [
       "Pipeline(steps=[('scale', None), ('model', RandomForestClassifier(n_jobs=-1))])"
      ]
     },
     "execution_count": 43,
     "metadata": {},
     "output_type": "execute_result"
    }
   ],
   "source": [
    "model.fit(X_train, y_train.values.ravel())"
   ]
  },
  {
   "cell_type": "code",
   "execution_count": 44,
   "id": "af59f8c0",
   "metadata": {
    "execution": {
     "iopub.execute_input": "2025-07-30T13:32:50.272192Z",
     "iopub.status.busy": "2025-07-30T13:32:50.271587Z",
     "iopub.status.idle": "2025-07-30T13:32:50.278438Z",
     "shell.execute_reply": "2025-07-30T13:32:50.277213Z"
    },
    "papermill": {
     "duration": 0.035817,
     "end_time": "2025-07-30T13:32:50.280319",
     "exception": false,
     "start_time": "2025-07-30T13:32:50.244502",
     "status": "completed"
    },
    "tags": []
   },
   "outputs": [],
   "source": [
    "from fairness_multiverse.universe import predict_w_threshold"
   ]
  },
  {
   "cell_type": "code",
   "execution_count": 45,
   "id": "a7cf2e16",
   "metadata": {
    "execution": {
     "iopub.execute_input": "2025-07-30T13:32:50.333689Z",
     "iopub.status.busy": "2025-07-30T13:32:50.332763Z",
     "iopub.status.idle": "2025-07-30T13:32:51.480176Z",
     "shell.execute_reply": "2025-07-30T13:32:51.479112Z"
    },
    "papermill": {
     "duration": 1.176102,
     "end_time": "2025-07-30T13:32:51.481898",
     "exception": false,
     "start_time": "2025-07-30T13:32:50.305796",
     "status": "completed"
    },
    "tags": []
   },
   "outputs": [
    {
     "data": {
      "text/plain": [
       "0.8672388808382566"
      ]
     },
     "execution_count": 45,
     "metadata": {},
     "output_type": "execute_result"
    }
   ],
   "source": [
    "probs_test = model.predict_proba(X_test)\n",
    "\n",
    "'''\n",
    "Below code returns a boolean array (or binary 0/1 array depending on how it’s used) where each element \n",
    "is True if the probability of class 1 is greater than or equal to the threshold, and False otherwise.\n",
    "'''\n",
    "y_pred_default = predict_w_threshold(probs_test, 0.5)\n",
    "\n",
    "from sklearn.metrics import accuracy_score\n",
    "\n",
    "# Naive prediction\n",
    "accuracy_score(y_true = y_true, y_pred = y_pred_default)"
   ]
  },
  {
   "cell_type": "code",
   "execution_count": 46,
   "id": "081964c3",
   "metadata": {
    "execution": {
     "iopub.execute_input": "2025-07-30T13:32:51.539518Z",
     "iopub.status.busy": "2025-07-30T13:32:51.538500Z",
     "iopub.status.idle": "2025-07-30T13:32:52.644830Z",
     "shell.execute_reply": "2025-07-30T13:32:52.643985Z"
    },
    "papermill": {
     "duration": 1.136241,
     "end_time": "2025-07-30T13:32:52.646088",
     "exception": false,
     "start_time": "2025-07-30T13:32:51.509847",
     "status": "completed"
    },
    "tags": []
   },
   "outputs": [
    {
     "data": {
      "text/plain": [
       "array([0, 0, 0, ..., 0, 0, 0])"
      ]
     },
     "execution_count": 46,
     "metadata": {},
     "output_type": "execute_result"
    }
   ],
   "source": [
    "model.predict(X_test)"
   ]
  },
  {
   "cell_type": "markdown",
   "id": "56c9705b",
   "metadata": {
    "papermill": {
     "duration": 0.012374,
     "end_time": "2025-07-30T13:32:52.671695",
     "exception": false,
     "start_time": "2025-07-30T13:32:52.659321",
     "status": "completed"
    },
    "tags": []
   },
   "source": [
    "# Conformal Prediction"
   ]
  },
  {
   "cell_type": "code",
   "execution_count": 47,
   "id": "160ec6ff",
   "metadata": {
    "execution": {
     "iopub.execute_input": "2025-07-30T13:32:52.703565Z",
     "iopub.status.busy": "2025-07-30T13:32:52.702853Z",
     "iopub.status.idle": "2025-07-30T13:32:52.707511Z",
     "shell.execute_reply": "2025-07-30T13:32:52.706838Z"
    },
    "papermill": {
     "duration": 0.024866,
     "end_time": "2025-07-30T13:32:52.708815",
     "exception": false,
     "start_time": "2025-07-30T13:32:52.683949",
     "status": "completed"
    },
    "tags": []
   },
   "outputs": [],
   "source": [
    "# Miscoverage level for conformal prediction (10% allowed error rate => 90% target coverage)\n",
    "alpha = 0.1"
   ]
  },
  {
   "cell_type": "code",
   "execution_count": 48,
   "id": "eadf4555-3dd3-440e-8e35-f82a4ad9f855",
   "metadata": {
    "execution": {
     "iopub.execute_input": "2025-07-30T13:32:52.736151Z",
     "iopub.status.busy": "2025-07-30T13:32:52.735472Z",
     "iopub.status.idle": "2025-07-30T13:32:53.730208Z",
     "shell.execute_reply": "2025-07-30T13:32:53.729174Z"
    },
    "papermill": {
     "duration": 1.009677,
     "end_time": "2025-07-30T13:32:53.732020",
     "exception": false,
     "start_time": "2025-07-30T13:32:52.722343",
     "status": "completed"
    },
    "tags": []
   },
   "outputs": [],
   "source": [
    "probs_calib = model.predict_proba(X_calib)"
   ]
  },
  {
   "cell_type": "code",
   "execution_count": 49,
   "id": "2ed93547-6d5d-4983-9b36-1ecb300da49a",
   "metadata": {
    "execution": {
     "iopub.execute_input": "2025-07-30T13:32:53.832541Z",
     "iopub.status.busy": "2025-07-30T13:32:53.832127Z",
     "iopub.status.idle": "2025-07-30T13:32:53.838444Z",
     "shell.execute_reply": "2025-07-30T13:32:53.837325Z"
    },
    "papermill": {
     "duration": 0.061278,
     "end_time": "2025-07-30T13:32:53.841555",
     "exception": false,
     "start_time": "2025-07-30T13:32:53.780277",
     "status": "completed"
    },
    "tags": []
   },
   "outputs": [],
   "source": [
    "y_calib = y_calib.values.ravel().astype(int)"
   ]
  },
  {
   "cell_type": "code",
   "execution_count": 50,
   "id": "65d1320d-f588-4b38-9072-62af1ae97f7d",
   "metadata": {
    "execution": {
     "iopub.execute_input": "2025-07-30T13:32:53.960162Z",
     "iopub.status.busy": "2025-07-30T13:32:53.959710Z",
     "iopub.status.idle": "2025-07-30T13:32:53.966924Z",
     "shell.execute_reply": "2025-07-30T13:32:53.966145Z"
    },
    "papermill": {
     "duration": 0.057657,
     "end_time": "2025-07-30T13:32:53.970305",
     "exception": false,
     "start_time": "2025-07-30T13:32:53.912648",
     "status": "completed"
    },
    "tags": []
   },
   "outputs": [],
   "source": [
    "from fairness_multiverse.conformal import compute_nc_scores\n",
    "\n",
    "# Compute nonconformity scores on calibration set (1 - probability of true class)\n",
    "nc_scores = compute_nc_scores(probs_calib, y_calib)"
   ]
  },
  {
   "cell_type": "code",
   "execution_count": 51,
   "id": "df3b8ca3-53b7-43d5-9667-7c85da7aeda2",
   "metadata": {
    "execution": {
     "iopub.execute_input": "2025-07-30T13:32:54.047099Z",
     "iopub.status.busy": "2025-07-30T13:32:54.045921Z",
     "iopub.status.idle": "2025-07-30T13:32:54.053351Z",
     "shell.execute_reply": "2025-07-30T13:32:54.051971Z"
    },
    "papermill": {
     "duration": 0.042862,
     "end_time": "2025-07-30T13:32:54.055237",
     "exception": false,
     "start_time": "2025-07-30T13:32:54.012375",
     "status": "completed"
    },
    "tags": []
   },
   "outputs": [],
   "source": [
    "from fairness_multiverse.conformal import find_threshold\n",
    "\n",
    "# Find conformal threshold q_hat for the given alpha (split conformal method)\n",
    "q_hat = find_threshold(nc_scores, alpha)"
   ]
  },
  {
   "cell_type": "code",
   "execution_count": 52,
   "id": "4d29e6c1-0ef6-4aa4-b8fe-4fe79b0d033a",
   "metadata": {
    "execution": {
     "iopub.execute_input": "2025-07-30T13:32:54.121706Z",
     "iopub.status.busy": "2025-07-30T13:32:54.121293Z",
     "iopub.status.idle": "2025-07-30T13:32:54.130409Z",
     "shell.execute_reply": "2025-07-30T13:32:54.129408Z"
    },
    "papermill": {
     "duration": 0.048233,
     "end_time": "2025-07-30T13:32:54.131850",
     "exception": false,
     "start_time": "2025-07-30T13:32:54.083617",
     "status": "completed"
    },
    "tags": []
   },
   "outputs": [
    {
     "data": {
      "text/plain": [
       "0.65"
      ]
     },
     "execution_count": 52,
     "metadata": {},
     "output_type": "execute_result"
    }
   ],
   "source": [
    "q_hat"
   ]
  },
  {
   "cell_type": "code",
   "execution_count": 53,
   "id": "92460794-cdac-4be2-ba28-f28c0515a6fb",
   "metadata": {
    "execution": {
     "iopub.execute_input": "2025-07-30T13:32:54.243253Z",
     "iopub.status.busy": "2025-07-30T13:32:54.242830Z",
     "iopub.status.idle": "2025-07-30T13:32:56.907601Z",
     "shell.execute_reply": "2025-07-30T13:32:56.906134Z"
    },
    "papermill": {
     "duration": 2.719001,
     "end_time": "2025-07-30T13:32:56.909814",
     "exception": false,
     "start_time": "2025-07-30T13:32:54.190813",
     "status": "completed"
    },
    "tags": []
   },
   "outputs": [],
   "source": [
    "from fairness_multiverse.conformal import predict_conformal_sets\n",
    "\n",
    "# Generate prediction sets for each test example\n",
    "pred_sets = predict_conformal_sets(model, X_test, q_hat)"
   ]
  },
  {
   "cell_type": "code",
   "execution_count": 54,
   "id": "d90c9a65-e6db-4f5d-80cd-e68fb7e46829",
   "metadata": {
    "execution": {
     "iopub.execute_input": "2025-07-30T13:32:56.959568Z",
     "iopub.status.busy": "2025-07-30T13:32:56.959213Z",
     "iopub.status.idle": "2025-07-30T13:32:56.964691Z",
     "shell.execute_reply": "2025-07-30T13:32:56.963857Z"
    },
    "papermill": {
     "duration": 0.028773,
     "end_time": "2025-07-30T13:32:56.966032",
     "exception": false,
     "start_time": "2025-07-30T13:32:56.937259",
     "status": "completed"
    },
    "tags": []
   },
   "outputs": [],
   "source": [
    "y_true = y_true.squeeze()"
   ]
  },
  {
   "cell_type": "code",
   "execution_count": 55,
   "id": "3a58a54a-1e68-46b9-927a-df01f18aebc8",
   "metadata": {
    "execution": {
     "iopub.execute_input": "2025-07-30T13:32:56.997126Z",
     "iopub.status.busy": "2025-07-30T13:32:56.996610Z",
     "iopub.status.idle": "2025-07-30T13:32:58.014652Z",
     "shell.execute_reply": "2025-07-30T13:32:58.008298Z"
    },
    "papermill": {
     "duration": 1.034801,
     "end_time": "2025-07-30T13:32:58.016301",
     "exception": false,
     "start_time": "2025-07-30T13:32:56.981500",
     "status": "completed"
    },
    "tags": []
   },
   "outputs": [],
   "source": [
    "from fairness_multiverse.conformal import evaluate_sets\n",
    "\n",
    "# Evaluate coverage and average set size on test data\n",
    "metrics = evaluate_sets(pred_sets, y_true)"
   ]
  },
  {
   "cell_type": "markdown",
   "id": "2b569c12-9aaa-4c88-98c9-bbcd0cf3ebb8",
   "metadata": {
    "papermill": {
     "duration": 0.023951,
     "end_time": "2025-07-30T13:32:58.062636",
     "exception": false,
     "start_time": "2025-07-30T13:32:58.038685",
     "status": "completed"
    },
    "tags": []
   },
   "source": [
    "# CP Metrics"
   ]
  },
  {
   "cell_type": "code",
   "execution_count": 56,
   "id": "5ce0a5cb-201f-45a0-ade5-94c7f0bd6095",
   "metadata": {
    "execution": {
     "iopub.execute_input": "2025-07-30T13:32:58.192901Z",
     "iopub.status.busy": "2025-07-30T13:32:58.192437Z",
     "iopub.status.idle": "2025-07-30T13:32:58.204809Z",
     "shell.execute_reply": "2025-07-30T13:32:58.203099Z"
    },
    "papermill": {
     "duration": 0.084759,
     "end_time": "2025-07-30T13:32:58.208107",
     "exception": false,
     "start_time": "2025-07-30T13:32:58.123348",
     "status": "completed"
    },
    "tags": []
   },
   "outputs": [
    {
     "data": {
      "text/plain": [
       "{'coverage': 0.914000668821759, 'avg_size': 1.1392709842826887}"
      ]
     },
     "execution_count": 56,
     "metadata": {},
     "output_type": "execute_result"
    }
   ],
   "source": [
    "metrics"
   ]
  },
  {
   "cell_type": "code",
   "execution_count": 57,
   "id": "9b9a838d-31c9-430b-ae14-12baee460d17",
   "metadata": {
    "execution": {
     "iopub.execute_input": "2025-07-30T13:32:58.327420Z",
     "iopub.status.busy": "2025-07-30T13:32:58.326881Z",
     "iopub.status.idle": "2025-07-30T13:32:58.335325Z",
     "shell.execute_reply": "2025-07-30T13:32:58.333968Z"
    },
    "papermill": {
     "duration": 0.064213,
     "end_time": "2025-07-30T13:32:58.339516",
     "exception": false,
     "start_time": "2025-07-30T13:32:58.275303",
     "status": "completed"
    },
    "tags": []
   },
   "outputs": [],
   "source": [
    "example_universe = universe.copy()\n",
    "universe_training_size = example_universe.get(\"training_size\")\n",
    "universe_scale = example_universe.get(\"scale\")\n",
    "universe_model = example_universe.get(\"model\")\n",
    "universe_exclude_features = example_universe.get(\"exclude_features\")\n",
    "universe_exclude_subgroups = example_universe.get(\"exclude_subgroups\")"
   ]
  },
  {
   "cell_type": "code",
   "execution_count": 58,
   "id": "f4b6a8ac-9dc0-4245-8a91-5b3b5999c4f9",
   "metadata": {
    "execution": {
     "iopub.execute_input": "2025-07-30T13:32:58.412689Z",
     "iopub.status.busy": "2025-07-30T13:32:58.412187Z",
     "iopub.status.idle": "2025-07-30T13:32:58.421824Z",
     "shell.execute_reply": "2025-07-30T13:32:58.420526Z"
    },
    "papermill": {
     "duration": 0.048319,
     "end_time": "2025-07-30T13:32:58.424313",
     "exception": false,
     "start_time": "2025-07-30T13:32:58.375994",
     "status": "completed"
    },
    "tags": []
   },
   "outputs": [],
   "source": [
    "cp_metrics_dict = {\n",
    "    \"universe_id\": [universe_id],\n",
    "    \"universe_training_size\": [universe_training_size],\n",
    "    \"universe_scale\": [universe_scale],\n",
    "    \"universe_model\": [universe_model],\n",
    "    \"universe_exclude_features\": [universe_exclude_features],\n",
    "    \"universe_exclude_subgroups\": [universe_exclude_subgroups],\n",
    "    \"q_hat\": [q_hat],\n",
    "    \"coverage\": [metrics[\"coverage\"]],\n",
    "    \"avg_size\": [metrics[\"avg_size\"]],\n",
    "}"
   ]
  },
  {
   "cell_type": "code",
   "execution_count": 59,
   "id": "908acbb1-0371-4915-85ca-3fa520d2efe2",
   "metadata": {
    "execution": {
     "iopub.execute_input": "2025-07-30T13:32:58.497653Z",
     "iopub.status.busy": "2025-07-30T13:32:58.496864Z",
     "iopub.status.idle": "2025-07-30T13:32:58.505762Z",
     "shell.execute_reply": "2025-07-30T13:32:58.504611Z"
    },
    "papermill": {
     "duration": 0.047816,
     "end_time": "2025-07-30T13:32:58.507781",
     "exception": false,
     "start_time": "2025-07-30T13:32:58.459965",
     "status": "completed"
    },
    "tags": []
   },
   "outputs": [
    {
     "data": {
      "text/plain": [
       "{'universe_id': ['fda625380468d7c6aae5812936f1d2a7'],\n",
       " 'universe_training_size': ['25k'],\n",
       " 'universe_scale': ['do-not-scale'],\n",
       " 'universe_model': ['rf'],\n",
       " 'universe_exclude_features': ['sex'],\n",
       " 'universe_exclude_subgroups': ['drop-non-german'],\n",
       " 'q_hat': [0.65],\n",
       " 'coverage': [0.914000668821759],\n",
       " 'avg_size': [1.1392709842826887]}"
      ]
     },
     "execution_count": 59,
     "metadata": {},
     "output_type": "execute_result"
    }
   ],
   "source": [
    "cp_metrics_dict"
   ]
  },
  {
   "cell_type": "code",
   "execution_count": 60,
   "id": "33007efc-14e9-4ec6-97ac-56a455c82265",
   "metadata": {
    "execution": {
     "iopub.execute_input": "2025-07-30T13:32:58.584169Z",
     "iopub.status.busy": "2025-07-30T13:32:58.583627Z",
     "iopub.status.idle": "2025-07-30T13:32:58.592672Z",
     "shell.execute_reply": "2025-07-30T13:32:58.591368Z"
    },
    "papermill": {
     "duration": 0.052457,
     "end_time": "2025-07-30T13:32:58.595217",
     "exception": false,
     "start_time": "2025-07-30T13:32:58.542760",
     "status": "completed"
    },
    "tags": []
   },
   "outputs": [],
   "source": [
    "cp_metrics_df = pd.DataFrame(cp_metrics_dict)"
   ]
  },
  {
   "cell_type": "code",
   "execution_count": 61,
   "id": "db12611b-57b2-4910-b9d0-355adfd6e7bf",
   "metadata": {
    "execution": {
     "iopub.execute_input": "2025-07-30T13:32:58.686029Z",
     "iopub.status.busy": "2025-07-30T13:32:58.685590Z",
     "iopub.status.idle": "2025-07-30T13:32:58.708923Z",
     "shell.execute_reply": "2025-07-30T13:32:58.707872Z"
    },
    "papermill": {
     "duration": 0.05557,
     "end_time": "2025-07-30T13:32:58.710933",
     "exception": false,
     "start_time": "2025-07-30T13:32:58.655363",
     "status": "completed"
    },
    "tags": []
   },
   "outputs": [
    {
     "data": {
      "text/html": [
       "<div>\n",
       "<style scoped>\n",
       "    .dataframe tbody tr th:only-of-type {\n",
       "        vertical-align: middle;\n",
       "    }\n",
       "\n",
       "    .dataframe tbody tr th {\n",
       "        vertical-align: top;\n",
       "    }\n",
       "\n",
       "    .dataframe thead th {\n",
       "        text-align: right;\n",
       "    }\n",
       "</style>\n",
       "<table border=\"1\" class=\"dataframe\">\n",
       "  <thead>\n",
       "    <tr style=\"text-align: right;\">\n",
       "      <th></th>\n",
       "      <th>universe_id</th>\n",
       "      <th>universe_training_size</th>\n",
       "      <th>universe_scale</th>\n",
       "      <th>universe_model</th>\n",
       "      <th>universe_exclude_features</th>\n",
       "      <th>universe_exclude_subgroups</th>\n",
       "      <th>q_hat</th>\n",
       "      <th>coverage</th>\n",
       "      <th>avg_size</th>\n",
       "    </tr>\n",
       "  </thead>\n",
       "  <tbody>\n",
       "    <tr>\n",
       "      <th>0</th>\n",
       "      <td>fda625380468d7c6aae5812936f1d2a7</td>\n",
       "      <td>25k</td>\n",
       "      <td>do-not-scale</td>\n",
       "      <td>rf</td>\n",
       "      <td>sex</td>\n",
       "      <td>drop-non-german</td>\n",
       "      <td>0.65</td>\n",
       "      <td>0.914001</td>\n",
       "      <td>1.139271</td>\n",
       "    </tr>\n",
       "  </tbody>\n",
       "</table>\n",
       "</div>"
      ],
      "text/plain": [
       "                        universe_id universe_training_size universe_scale  \\\n",
       "0  fda625380468d7c6aae5812936f1d2a7                    25k   do-not-scale   \n",
       "\n",
       "  universe_model universe_exclude_features universe_exclude_subgroups  q_hat  \\\n",
       "0             rf                       sex            drop-non-german   0.65   \n",
       "\n",
       "   coverage  avg_size  \n",
       "0  0.914001  1.139271  "
      ]
     },
     "execution_count": 61,
     "metadata": {},
     "output_type": "execute_result"
    }
   ],
   "source": [
    "cp_metrics_df"
   ]
  },
  {
   "cell_type": "code",
   "execution_count": 62,
   "id": "b7fbde55-a0a1-47e4-9af6-fe4a17fa8c61",
   "metadata": {
    "execution": {
     "iopub.execute_input": "2025-07-30T13:32:58.793290Z",
     "iopub.status.busy": "2025-07-30T13:32:58.792773Z",
     "iopub.status.idle": "2025-07-30T13:32:58.799355Z",
     "shell.execute_reply": "2025-07-30T13:32:58.798153Z"
    },
    "papermill": {
     "duration": 0.039281,
     "end_time": "2025-07-30T13:32:58.803611",
     "exception": false,
     "start_time": "2025-07-30T13:32:58.764330",
     "status": "completed"
    },
    "tags": []
   },
   "outputs": [],
   "source": [
    "# Conditional Coverage & looking at subgroups"
   ]
  },
  {
   "cell_type": "code",
   "execution_count": 63,
   "id": "027ae886-68dd-4141-96c7-805a5450e1ef",
   "metadata": {
    "execution": {
     "iopub.execute_input": "2025-07-30T13:32:58.903113Z",
     "iopub.status.busy": "2025-07-30T13:32:58.902711Z",
     "iopub.status.idle": "2025-07-30T13:32:59.265851Z",
     "shell.execute_reply": "2025-07-30T13:32:59.264141Z"
    },
    "papermill": {
     "duration": 0.41657,
     "end_time": "2025-07-30T13:32:59.268904",
     "exception": false,
     "start_time": "2025-07-30T13:32:58.852334",
     "status": "completed"
    },
    "tags": []
   },
   "outputs": [],
   "source": [
    "from fairness_multiverse.conformal import build_cp_groups\n",
    "\n",
    "cp_groups_df = build_cp_groups(pred_sets, y_true, X_test.index, org_test)\n",
    "#needs universe_id and setting"
   ]
  },
  {
   "cell_type": "code",
   "execution_count": 64,
   "id": "01d5802c-663a-4d1f-9d69-e036faaffbf7",
   "metadata": {
    "execution": {
     "iopub.execute_input": "2025-07-30T13:32:59.382344Z",
     "iopub.status.busy": "2025-07-30T13:32:59.381929Z",
     "iopub.status.idle": "2025-07-30T13:32:59.388412Z",
     "shell.execute_reply": "2025-07-30T13:32:59.386915Z"
    },
    "papermill": {
     "duration": 0.072436,
     "end_time": "2025-07-30T13:32:59.391637",
     "exception": false,
     "start_time": "2025-07-30T13:32:59.319201",
     "status": "completed"
    },
    "tags": []
   },
   "outputs": [],
   "source": [
    "#delete\n",
    "#cp_groups_df"
   ]
  },
  {
   "cell_type": "code",
   "execution_count": 65,
   "id": "fa424af1-d1eb-443d-b717-2d279ada8408",
   "metadata": {
    "execution": {
     "iopub.execute_input": "2025-07-30T13:32:59.501048Z",
     "iopub.status.busy": "2025-07-30T13:32:59.500609Z",
     "iopub.status.idle": "2025-07-30T13:32:59.506988Z",
     "shell.execute_reply": "2025-07-30T13:32:59.505786Z"
    },
    "papermill": {
     "duration": 0.068435,
     "end_time": "2025-07-30T13:32:59.508794",
     "exception": false,
     "start_time": "2025-07-30T13:32:59.440359",
     "status": "completed"
    },
    "tags": []
   },
   "outputs": [],
   "source": [
    "#delete\n",
    "#percentage = (cp_groups_df['nongerman_female'] == 1).mean() * 100\n",
    "#print(percentage)\n"
   ]
  },
  {
   "cell_type": "code",
   "execution_count": 66,
   "id": "6cbdab96-b2b2-45af-ad54-d0516db2e28d",
   "metadata": {
    "execution": {
     "iopub.execute_input": "2025-07-30T13:32:59.592800Z",
     "iopub.status.busy": "2025-07-30T13:32:59.592511Z",
     "iopub.status.idle": "2025-07-30T13:33:01.732802Z",
     "shell.execute_reply": "2025-07-30T13:33:01.729286Z"
    },
    "papermill": {
     "duration": 2.164348,
     "end_time": "2025-07-30T13:33:01.735297",
     "exception": false,
     "start_time": "2025-07-30T13:32:59.570949",
     "status": "completed"
    },
    "tags": []
   },
   "outputs": [],
   "source": [
    "# Define covered = 1 if true_label is in the predicted set\n",
    "cp_groups_df['covered'] = cp_groups_df.apply(\n",
    "    lambda r: int(r['true_label'] in r['pred_set']),\n",
    "    axis=1\n",
    ")"
   ]
  },
  {
   "cell_type": "code",
   "execution_count": 67,
   "id": "338ff529-1a6b-4b87-a931-8e4788d52aad",
   "metadata": {
    "execution": {
     "iopub.execute_input": "2025-07-30T13:33:01.800634Z",
     "iopub.status.busy": "2025-07-30T13:33:01.800068Z",
     "iopub.status.idle": "2025-07-30T13:33:01.807801Z",
     "shell.execute_reply": "2025-07-30T13:33:01.806040Z"
    },
    "papermill": {
     "duration": 0.042228,
     "end_time": "2025-07-30T13:33:01.810124",
     "exception": false,
     "start_time": "2025-07-30T13:33:01.767896",
     "status": "completed"
    },
    "tags": []
   },
   "outputs": [],
   "source": [
    "#cp_groups_df"
   ]
  },
  {
   "cell_type": "code",
   "execution_count": 68,
   "id": "90032e27-66df-4540-9169-4e89cfbaa758",
   "metadata": {
    "execution": {
     "iopub.execute_input": "2025-07-30T13:33:01.880114Z",
     "iopub.status.busy": "2025-07-30T13:33:01.879604Z",
     "iopub.status.idle": "2025-07-30T13:33:01.912254Z",
     "shell.execute_reply": "2025-07-30T13:33:01.910982Z"
    },
    "papermill": {
     "duration": 0.06849,
     "end_time": "2025-07-30T13:33:01.914215",
     "exception": false,
     "start_time": "2025-07-30T13:33:01.845725",
     "status": "completed"
    },
    "tags": []
   },
   "outputs": [],
   "source": [
    "subgroups = ['frau1','nongerman','nongerman_male','nongerman_female']\n",
    "\n",
    "# Conditional coverage for subgroup==1\n",
    "cond_coverage = {\n",
    "    g: cp_groups_df.loc[cp_groups_df[g]==1, 'covered'].mean()\n",
    "    for g in subgroups\n",
    "}"
   ]
  },
  {
   "cell_type": "code",
   "execution_count": 69,
   "id": "1e348fb1-b9c3-45bc-ba23-f016827a7e0d",
   "metadata": {
    "execution": {
     "iopub.execute_input": "2025-07-30T13:33:02.021398Z",
     "iopub.status.busy": "2025-07-30T13:33:02.020929Z",
     "iopub.status.idle": "2025-07-30T13:33:02.029867Z",
     "shell.execute_reply": "2025-07-30T13:33:02.028295Z"
    },
    "papermill": {
     "duration": 0.067103,
     "end_time": "2025-07-30T13:33:02.039372",
     "exception": false,
     "start_time": "2025-07-30T13:33:01.972269",
     "status": "completed"
    },
    "tags": []
   },
   "outputs": [
    {
     "data": {
      "text/plain": [
       "{'frau1': 0.9133306375522308,\n",
       " 'nongerman': 0.9084937966653568,\n",
       " 'nongerman_male': 0.9232639827073764,\n",
       " 'nongerman_female': 0.884053651266766}"
      ]
     },
     "execution_count": 69,
     "metadata": {},
     "output_type": "execute_result"
    }
   ],
   "source": [
    "cond_coverage"
   ]
  },
  {
   "cell_type": "code",
   "execution_count": 70,
   "id": "f5093324-c3dd-4d63-bc4c-8d945e5c8bbb",
   "metadata": {
    "execution": {
     "iopub.execute_input": "2025-07-30T13:33:02.144469Z",
     "iopub.status.busy": "2025-07-30T13:33:02.144020Z",
     "iopub.status.idle": "2025-07-30T13:33:02.152146Z",
     "shell.execute_reply": "2025-07-30T13:33:02.150913Z"
    },
    "papermill": {
     "duration": 0.080428,
     "end_time": "2025-07-30T13:33:02.154021",
     "exception": false,
     "start_time": "2025-07-30T13:33:02.073593",
     "status": "completed"
    },
    "tags": []
   },
   "outputs": [],
   "source": [
    "for subgroup, cov in cond_coverage.items():\n",
    "    cp_metrics_df[f\"cov_{subgroup}\"] = cov"
   ]
  },
  {
   "cell_type": "code",
   "execution_count": 71,
   "id": "6e872e10-dbe5-49e8-b554-5030c98ff75d",
   "metadata": {
    "execution": {
     "iopub.execute_input": "2025-07-30T13:33:02.243038Z",
     "iopub.status.busy": "2025-07-30T13:33:02.242632Z",
     "iopub.status.idle": "2025-07-30T13:33:02.269528Z",
     "shell.execute_reply": "2025-07-30T13:33:02.266358Z"
    },
    "papermill": {
     "duration": 0.07184,
     "end_time": "2025-07-30T13:33:02.271401",
     "exception": false,
     "start_time": "2025-07-30T13:33:02.199561",
     "status": "completed"
    },
    "tags": []
   },
   "outputs": [
    {
     "data": {
      "text/html": [
       "<div>\n",
       "<style scoped>\n",
       "    .dataframe tbody tr th:only-of-type {\n",
       "        vertical-align: middle;\n",
       "    }\n",
       "\n",
       "    .dataframe tbody tr th {\n",
       "        vertical-align: top;\n",
       "    }\n",
       "\n",
       "    .dataframe thead th {\n",
       "        text-align: right;\n",
       "    }\n",
       "</style>\n",
       "<table border=\"1\" class=\"dataframe\">\n",
       "  <thead>\n",
       "    <tr style=\"text-align: right;\">\n",
       "      <th></th>\n",
       "      <th>universe_id</th>\n",
       "      <th>universe_training_size</th>\n",
       "      <th>universe_scale</th>\n",
       "      <th>universe_model</th>\n",
       "      <th>universe_exclude_features</th>\n",
       "      <th>universe_exclude_subgroups</th>\n",
       "      <th>q_hat</th>\n",
       "      <th>coverage</th>\n",
       "      <th>avg_size</th>\n",
       "      <th>cov_frau1</th>\n",
       "      <th>cov_nongerman</th>\n",
       "      <th>cov_nongerman_male</th>\n",
       "      <th>cov_nongerman_female</th>\n",
       "    </tr>\n",
       "  </thead>\n",
       "  <tbody>\n",
       "    <tr>\n",
       "      <th>0</th>\n",
       "      <td>fda625380468d7c6aae5812936f1d2a7</td>\n",
       "      <td>25k</td>\n",
       "      <td>do-not-scale</td>\n",
       "      <td>rf</td>\n",
       "      <td>sex</td>\n",
       "      <td>drop-non-german</td>\n",
       "      <td>0.65</td>\n",
       "      <td>0.914001</td>\n",
       "      <td>1.139271</td>\n",
       "      <td>0.913331</td>\n",
       "      <td>0.908494</td>\n",
       "      <td>0.923264</td>\n",
       "      <td>0.884054</td>\n",
       "    </tr>\n",
       "  </tbody>\n",
       "</table>\n",
       "</div>"
      ],
      "text/plain": [
       "                        universe_id universe_training_size universe_scale  \\\n",
       "0  fda625380468d7c6aae5812936f1d2a7                    25k   do-not-scale   \n",
       "\n",
       "  universe_model universe_exclude_features universe_exclude_subgroups  q_hat  \\\n",
       "0             rf                       sex            drop-non-german   0.65   \n",
       "\n",
       "   coverage  avg_size  cov_frau1  cov_nongerman  cov_nongerman_male  \\\n",
       "0  0.914001  1.139271   0.913331       0.908494            0.923264   \n",
       "\n",
       "   cov_nongerman_female  \n",
       "0              0.884054  "
      ]
     },
     "execution_count": 71,
     "metadata": {},
     "output_type": "execute_result"
    }
   ],
   "source": [
    "cp_metrics_df"
   ]
  },
  {
   "cell_type": "markdown",
   "id": "33774451",
   "metadata": {
    "papermill": {
     "duration": 0.05961,
     "end_time": "2025-07-30T13:33:02.364614",
     "exception": false,
     "start_time": "2025-07-30T13:33:02.305004",
     "status": "completed"
    },
    "tags": []
   },
   "source": [
    "# (Fairness) Metrics"
   ]
  },
  {
   "cell_type": "code",
   "execution_count": 72,
   "id": "debc5d62",
   "metadata": {
    "execution": {
     "iopub.execute_input": "2025-07-30T13:33:02.458866Z",
     "iopub.status.busy": "2025-07-30T13:33:02.458423Z",
     "iopub.status.idle": "2025-07-30T13:33:02.474687Z",
     "shell.execute_reply": "2025-07-30T13:33:02.473910Z"
    },
    "papermill": {
     "duration": 0.059767,
     "end_time": "2025-07-30T13:33:02.476858",
     "exception": false,
     "start_time": "2025-07-30T13:33:02.417091",
     "status": "completed"
    },
    "tags": []
   },
   "outputs": [],
   "source": [
    "# do I need to include maxdeutsch1.missing?\n",
    "\n",
    "import numpy as np\n",
    "\n",
    "colname_to_bin = \"maxdeutsch1\"\n",
    "majority_value = org_train[colname_to_bin].mode()[0]\n",
    "\n",
    "org_test[\"majmin\"] = np.where(org_test[colname_to_bin] == majority_value, \"majority\", \"minority\")"
   ]
  },
  {
   "cell_type": "code",
   "execution_count": 73,
   "id": "06a50de5",
   "metadata": {
    "execution": {
     "iopub.execute_input": "2025-07-30T13:33:02.522771Z",
     "iopub.status.busy": "2025-07-30T13:33:02.522406Z",
     "iopub.status.idle": "2025-07-30T13:33:08.055994Z",
     "shell.execute_reply": "2025-07-30T13:33:08.054860Z"
    },
    "papermill": {
     "duration": 5.556357,
     "end_time": "2025-07-30T13:33:08.057883",
     "exception": false,
     "start_time": "2025-07-30T13:33:02.501526",
     "status": "completed"
    },
    "tags": []
   },
   "outputs": [],
   "source": [
    "example_universe = universe.copy()\n",
    "example_universe[\"cutoff\"] = example_universe[\"cutoff\"][0]\n",
    "example_universe[\"eval_fairness_grouping\"] = example_universe[\"eval_fairness_grouping\"][0]\n",
    "fairness_dict, metric_frame = universe_analysis.compute_metrics(\n",
    "    example_universe,\n",
    "    y_pred_prob=probs_test,\n",
    "    y_test=y_true,\n",
    "    org_test=org_test,\n",
    ")"
   ]
  },
  {
   "cell_type": "markdown",
   "id": "f95d4e02",
   "metadata": {
    "papermill": {
     "duration": 0.064292,
     "end_time": "2025-07-30T13:33:08.228443",
     "exception": false,
     "start_time": "2025-07-30T13:33:08.164151",
     "status": "completed"
    },
    "tags": []
   },
   "source": [
    "# Overall"
   ]
  },
  {
   "cell_type": "markdown",
   "id": "bdee4871",
   "metadata": {
    "papermill": {
     "duration": 0.053711,
     "end_time": "2025-07-30T13:33:08.344811",
     "exception": false,
     "start_time": "2025-07-30T13:33:08.291100",
     "status": "completed"
    },
    "tags": []
   },
   "source": [
    "Fairness\n",
    "Main fairness target: Equalized Odds. Seems to be a better fit than equal opportunity, since we're not only interested in Y = 1. Seems to be a better fit than demographic parity, since we also care about accuracy, not just equal distribution of preds.\n",
    "\n",
    "Pick column for computation of fairness metrics\n",
    "\n",
    "Performance\n",
    "Overall performance measures, most interesting in relation to the measures split by group below"
   ]
  },
  {
   "cell_type": "code",
   "execution_count": 74,
   "id": "c4e067c6",
   "metadata": {
    "execution": {
     "iopub.execute_input": "2025-07-30T13:33:08.418807Z",
     "iopub.status.busy": "2025-07-30T13:33:08.418364Z",
     "iopub.status.idle": "2025-07-30T13:33:08.428663Z",
     "shell.execute_reply": "2025-07-30T13:33:08.427434Z"
    },
    "papermill": {
     "duration": 0.056832,
     "end_time": "2025-07-30T13:33:08.430427",
     "exception": false,
     "start_time": "2025-07-30T13:33:08.373595",
     "status": "completed"
    },
    "tags": []
   },
   "outputs": [
    {
     "data": {
      "text/plain": [
       "accuracy                   0.195586\n",
       "balanced accuracy          0.530194\n",
       "f1                         0.238182\n",
       "precision                  0.135560\n",
       "false positive rate        0.919887\n",
       "false negative rate        0.019725\n",
       "selection rate             0.927633\n",
       "count                  89710.000000\n",
       "dtype: float64"
      ]
     },
     "execution_count": 74,
     "metadata": {},
     "output_type": "execute_result"
    }
   ],
   "source": [
    "metric_frame.overall"
   ]
  },
  {
   "cell_type": "markdown",
   "id": "e968fe9d",
   "metadata": {
    "papermill": {
     "duration": 0.040974,
     "end_time": "2025-07-30T13:33:08.533206",
     "exception": false,
     "start_time": "2025-07-30T13:33:08.492232",
     "status": "completed"
    },
    "tags": []
   },
   "source": [
    "By Group"
   ]
  },
  {
   "cell_type": "code",
   "execution_count": 75,
   "id": "ec325bce",
   "metadata": {
    "execution": {
     "iopub.execute_input": "2025-07-30T13:33:08.621933Z",
     "iopub.status.busy": "2025-07-30T13:33:08.621518Z",
     "iopub.status.idle": "2025-07-30T13:33:08.644560Z",
     "shell.execute_reply": "2025-07-30T13:33:08.643322Z"
    },
    "papermill": {
     "duration": 0.078479,
     "end_time": "2025-07-30T13:33:08.646642",
     "exception": false,
     "start_time": "2025-07-30T13:33:08.568163",
     "status": "completed"
    },
    "tags": []
   },
   "outputs": [
    {
     "data": {
      "text/html": [
       "<div>\n",
       "<style scoped>\n",
       "    .dataframe tbody tr th:only-of-type {\n",
       "        vertical-align: middle;\n",
       "    }\n",
       "\n",
       "    .dataframe tbody tr th {\n",
       "        vertical-align: top;\n",
       "    }\n",
       "\n",
       "    .dataframe thead th {\n",
       "        text-align: right;\n",
       "    }\n",
       "</style>\n",
       "<table border=\"1\" class=\"dataframe\">\n",
       "  <thead>\n",
       "    <tr style=\"text-align: right;\">\n",
       "      <th></th>\n",
       "      <th>accuracy</th>\n",
       "      <th>balanced accuracy</th>\n",
       "      <th>f1</th>\n",
       "      <th>precision</th>\n",
       "      <th>false positive rate</th>\n",
       "      <th>false negative rate</th>\n",
       "      <th>selection rate</th>\n",
       "      <th>count</th>\n",
       "    </tr>\n",
       "    <tr>\n",
       "      <th>majmin</th>\n",
       "      <th></th>\n",
       "      <th></th>\n",
       "      <th></th>\n",
       "      <th></th>\n",
       "      <th></th>\n",
       "      <th></th>\n",
       "      <th></th>\n",
       "      <th></th>\n",
       "    </tr>\n",
       "  </thead>\n",
       "  <tbody>\n",
       "    <tr>\n",
       "      <th>majority</th>\n",
       "      <td>0.191456</td>\n",
       "      <td>0.530279</td>\n",
       "      <td>0.244628</td>\n",
       "      <td>0.139540</td>\n",
       "      <td>0.930252</td>\n",
       "      <td>0.009190</td>\n",
       "      <td>0.938254</td>\n",
       "      <td>69170.0</td>\n",
       "    </tr>\n",
       "    <tr>\n",
       "      <th>minority</th>\n",
       "      <td>0.209494</td>\n",
       "      <td>0.526982</td>\n",
       "      <td>0.215111</td>\n",
       "      <td>0.121459</td>\n",
       "      <td>0.885648</td>\n",
       "      <td>0.060389</td>\n",
       "      <td>0.891870</td>\n",
       "      <td>20540.0</td>\n",
       "    </tr>\n",
       "  </tbody>\n",
       "</table>\n",
       "</div>"
      ],
      "text/plain": [
       "          accuracy  balanced accuracy        f1  precision  \\\n",
       "majmin                                                       \n",
       "majority  0.191456           0.530279  0.244628   0.139540   \n",
       "minority  0.209494           0.526982  0.215111   0.121459   \n",
       "\n",
       "          false positive rate  false negative rate  selection rate    count  \n",
       "majmin                                                                       \n",
       "majority             0.930252             0.009190        0.938254  69170.0  \n",
       "minority             0.885648             0.060389        0.891870  20540.0  "
      ]
     },
     "execution_count": 75,
     "metadata": {},
     "output_type": "execute_result"
    }
   ],
   "source": [
    "metric_frame.by_group"
   ]
  },
  {
   "cell_type": "code",
   "execution_count": 76,
   "id": "a9ddbe63",
   "metadata": {
    "execution": {
     "iopub.execute_input": "2025-07-30T13:33:08.790538Z",
     "iopub.status.busy": "2025-07-30T13:33:08.790124Z",
     "iopub.status.idle": "2025-07-30T13:33:13.395070Z",
     "shell.execute_reply": "2025-07-30T13:33:13.394176Z"
    },
    "papermill": {
     "duration": 4.703217,
     "end_time": "2025-07-30T13:33:13.396998",
     "exception": false,
     "start_time": "2025-07-30T13:33:08.693781",
     "status": "completed"
    },
    "tags": []
   },
   "outputs": [
    {
     "data": {
      "text/plain": [
       "array([[<Axes: title={'center': 'accuracy'}, xlabel='majmin'>,\n",
       "        <Axes: title={'center': 'balanced accuracy'}, xlabel='majmin'>,\n",
       "        <Axes: title={'center': 'f1'}, xlabel='majmin'>],\n",
       "       [<Axes: title={'center': 'precision'}, xlabel='majmin'>,\n",
       "        <Axes: title={'center': 'false positive rate'}, xlabel='majmin'>,\n",
       "        <Axes: title={'center': 'false negative rate'}, xlabel='majmin'>],\n",
       "       [<Axes: title={'center': 'selection rate'}, xlabel='majmin'>,\n",
       "        <Axes: title={'center': 'count'}, xlabel='majmin'>,\n",
       "        <Axes: xlabel='majmin'>]], dtype=object)"
      ]
     },
     "execution_count": 76,
     "metadata": {},
     "output_type": "execute_result"
    },
    {
     "data": {
      "image/png": "[encoded data removed]",
      "text/plain": [
       "<Figure size 1200x800 with 9 Axes>"
      ]
     },
     "metadata": {},
     "output_type": "display_data"
    }
   ],
   "source": [
    "# In a graphic\n",
    "metric_frame.by_group.plot.bar(\n",
    "    subplots=True,\n",
    "    layout=[3, 3],\n",
    "    legend=False,\n",
    "    figsize=[12, 8],\n",
    "    title=\"Show all metrics\",\n",
    ")"
   ]
  },
  {
   "cell_type": "markdown",
   "id": "f57a0bac",
   "metadata": {
    "papermill": {
     "duration": 0.041909,
     "end_time": "2025-07-30T13:33:13.500826",
     "exception": false,
     "start_time": "2025-07-30T13:33:13.458917",
     "status": "completed"
    },
    "tags": []
   },
   "source": [
    "# Final Output"
   ]
  },
  {
   "cell_type": "code",
   "execution_count": 77,
   "id": "96d280a3",
   "metadata": {
    "execution": {
     "iopub.execute_input": "2025-07-30T13:33:13.642393Z",
     "iopub.status.busy": "2025-07-30T13:33:13.641768Z",
     "iopub.status.idle": "2025-07-30T13:33:13.650762Z",
     "shell.execute_reply": "2025-07-30T13:33:13.649625Z"
    },
    "papermill": {
     "duration": 0.080511,
     "end_time": "2025-07-30T13:33:13.664900",
     "exception": false,
     "start_time": "2025-07-30T13:33:13.584389",
     "status": "completed"
    },
    "tags": []
   },
   "outputs": [
    {
     "data": {
      "text/plain": [
       "4"
      ]
     },
     "execution_count": 77,
     "metadata": {},
     "output_type": "execute_result"
    }
   ],
   "source": [
    "sub_universes = universe_analysis.generate_sub_universes()\n",
    "len(sub_universes)"
   ]
  },
  {
   "cell_type": "code",
   "execution_count": 78,
   "id": "92adf7ba",
   "metadata": {
    "execution": {
     "iopub.execute_input": "2025-07-30T13:33:13.771382Z",
     "iopub.status.busy": "2025-07-30T13:33:13.770998Z",
     "iopub.status.idle": "2025-07-30T13:33:13.777114Z",
     "shell.execute_reply": "2025-07-30T13:33:13.776238Z"
    },
    "papermill": {
     "duration": 0.042637,
     "end_time": "2025-07-30T13:33:13.778973",
     "exception": false,
     "start_time": "2025-07-30T13:33:13.736336",
     "status": "completed"
    },
    "tags": []
   },
   "outputs": [],
   "source": [
    "def filter_sub_universe_data(sub_universe, org_test):\n",
    "    # Keep all rows — no filtering\n",
    "    keep_rows_mask = np.ones(org_test.shape[0], dtype=bool)\n",
    "\n",
    "    print(f\"[INFO] Keeping all rows: {keep_rows_mask.sum()} rows retained.\")\n",
    "    return keep_rows_mask"
   ]
  },
  {
   "cell_type": "code",
   "execution_count": 79,
   "id": "4a759155",
   "metadata": {
    "execution": {
     "iopub.execute_input": "2025-07-30T13:33:13.837990Z",
     "iopub.status.busy": "2025-07-30T13:33:13.837457Z",
     "iopub.status.idle": "2025-07-30T13:33:23.396614Z",
     "shell.execute_reply": "2025-07-30T13:33:23.395870Z"
    },
    "papermill": {
     "duration": 9.589174,
     "end_time": "2025-07-30T13:33:23.397879",
     "exception": false,
     "start_time": "2025-07-30T13:33:13.808705",
     "status": "completed"
    },
    "tags": []
   },
   "outputs": [
    {
     "name": "stdout",
     "output_type": "stream",
     "text": [
      "Stopping execution_time clock.\n",
      "[INFO] Keeping all rows: 89710 rows retained.\n"
     ]
    },
    {
     "name": "stdout",
     "output_type": "stream",
     "text": [
      "[INFO] Keeping all rows: 89710 rows retained.\n"
     ]
    },
    {
     "name": "stdout",
     "output_type": "stream",
     "text": [
      "[INFO] Keeping all rows: 89710 rows retained.\n"
     ]
    },
    {
     "name": "stdout",
     "output_type": "stream",
     "text": [
      "[INFO] Keeping all rows: 89710 rows retained.\n"
     ]
    },
    {
     "data": {
      "text/html": [
       "<div>\n",
       "<style scoped>\n",
       "    .dataframe tbody tr th:only-of-type {\n",
       "        vertical-align: middle;\n",
       "    }\n",
       "\n",
       "    .dataframe tbody tr th {\n",
       "        vertical-align: top;\n",
       "    }\n",
       "\n",
       "    .dataframe thead th {\n",
       "        text-align: right;\n",
       "    }\n",
       "</style>\n",
       "<table border=\"1\" class=\"dataframe\">\n",
       "  <thead>\n",
       "    <tr style=\"text-align: right;\">\n",
       "      <th></th>\n",
       "      <th>run_no</th>\n",
       "      <th>universe_id</th>\n",
       "      <th>universe_settings</th>\n",
       "      <th>execution_time</th>\n",
       "      <th>test_size_n</th>\n",
       "      <th>test_size_frac</th>\n",
       "      <th>fair_main_equalized_odds_difference</th>\n",
       "      <th>fair_main_equalized_odds_ratio</th>\n",
       "      <th>fair_main_demographic_parity_difference</th>\n",
       "      <th>fair_main_demographic_parity_ratio</th>\n",
       "      <th>...</th>\n",
       "      <th>perf_grp_precision_0</th>\n",
       "      <th>perf_grp_precision_1</th>\n",
       "      <th>perf_grp_false positive rate_0</th>\n",
       "      <th>perf_grp_false positive rate_1</th>\n",
       "      <th>perf_grp_false negative rate_0</th>\n",
       "      <th>perf_grp_false negative rate_1</th>\n",
       "      <th>perf_grp_selection rate_0</th>\n",
       "      <th>perf_grp_selection rate_1</th>\n",
       "      <th>perf_grp_count_0</th>\n",
       "      <th>perf_grp_count_1</th>\n",
       "    </tr>\n",
       "  </thead>\n",
       "  <tbody>\n",
       "    <tr>\n",
       "      <th>0</th>\n",
       "      <td>12</td>\n",
       "      <td>fda625380468d7c6aae5812936f1d2a7</td>\n",
       "      <td>{\"cutoff\": \"quantile_0.1\", \"eval_fairness_grou...</td>\n",
       "      <td>43.472737</td>\n",
       "      <td>89710</td>\n",
       "      <td>1.0</td>\n",
       "      <td>0.051198</td>\n",
       "      <td>0.948327</td>\n",
       "      <td>0.046384</td>\n",
       "      <td>0.950563</td>\n",
       "      <td>...</td>\n",
       "      <td>NaN</td>\n",
       "      <td>NaN</td>\n",
       "      <td>NaN</td>\n",
       "      <td>NaN</td>\n",
       "      <td>NaN</td>\n",
       "      <td>NaN</td>\n",
       "      <td>NaN</td>\n",
       "      <td>NaN</td>\n",
       "      <td>NaN</td>\n",
       "      <td>NaN</td>\n",
       "    </tr>\n",
       "    <tr>\n",
       "      <th>0</th>\n",
       "      <td>12</td>\n",
       "      <td>fda625380468d7c6aae5812936f1d2a7</td>\n",
       "      <td>{\"cutoff\": \"quantile_0.1\", \"eval_fairness_grou...</td>\n",
       "      <td>43.472737</td>\n",
       "      <td>89710</td>\n",
       "      <td>1.0</td>\n",
       "      <td>0.051198</td>\n",
       "      <td>0.948327</td>\n",
       "      <td>0.046384</td>\n",
       "      <td>0.950563</td>\n",
       "      <td>...</td>\n",
       "      <td>0.121459</td>\n",
       "      <td>0.139540</td>\n",
       "      <td>0.885648</td>\n",
       "      <td>0.930252</td>\n",
       "      <td>0.060389</td>\n",
       "      <td>0.009190</td>\n",
       "      <td>0.891870</td>\n",
       "      <td>0.938254</td>\n",
       "      <td>20540.0</td>\n",
       "      <td>69170.0</td>\n",
       "    </tr>\n",
       "    <tr>\n",
       "      <th>0</th>\n",
       "      <td>12</td>\n",
       "      <td>fda625380468d7c6aae5812936f1d2a7</td>\n",
       "      <td>{\"cutoff\": \"quantile_0.25\", \"eval_fairness_gro...</td>\n",
       "      <td>43.472737</td>\n",
       "      <td>89710</td>\n",
       "      <td>1.0</td>\n",
       "      <td>0.099739</td>\n",
       "      <td>0.895780</td>\n",
       "      <td>0.061401</td>\n",
       "      <td>0.922433</td>\n",
       "      <td>...</td>\n",
       "      <td>NaN</td>\n",
       "      <td>NaN</td>\n",
       "      <td>NaN</td>\n",
       "      <td>NaN</td>\n",
       "      <td>NaN</td>\n",
       "      <td>NaN</td>\n",
       "      <td>NaN</td>\n",
       "      <td>NaN</td>\n",
       "      <td>NaN</td>\n",
       "      <td>NaN</td>\n",
       "    </tr>\n",
       "    <tr>\n",
       "      <th>0</th>\n",
       "      <td>12</td>\n",
       "      <td>fda625380468d7c6aae5812936f1d2a7</td>\n",
       "      <td>{\"cutoff\": \"quantile_0.25\", \"eval_fairness_gro...</td>\n",
       "      <td>43.472737</td>\n",
       "      <td>89710</td>\n",
       "      <td>1.0</td>\n",
       "      <td>0.099739</td>\n",
       "      <td>0.895780</td>\n",
       "      <td>0.061401</td>\n",
       "      <td>0.922433</td>\n",
       "      <td>...</td>\n",
       "      <td>0.135351</td>\n",
       "      <td>0.159751</td>\n",
       "      <td>0.713625</td>\n",
       "      <td>0.766400</td>\n",
       "      <td>0.142736</td>\n",
       "      <td>0.042998</td>\n",
       "      <td>0.730185</td>\n",
       "      <td>0.791586</td>\n",
       "      <td>20540.0</td>\n",
       "      <td>69170.0</td>\n",
       "    </tr>\n",
       "  </tbody>\n",
       "</table>\n",
       "<p>4 rows × 50 columns</p>\n",
       "</div>"
      ],
      "text/plain": [
       "  run_no                       universe_id  \\\n",
       "0     12  fda625380468d7c6aae5812936f1d2a7   \n",
       "0     12  fda625380468d7c6aae5812936f1d2a7   \n",
       "0     12  fda625380468d7c6aae5812936f1d2a7   \n",
       "0     12  fda625380468d7c6aae5812936f1d2a7   \n",
       "\n",
       "                                   universe_settings  execution_time  \\\n",
       "0  {\"cutoff\": \"quantile_0.1\", \"eval_fairness_grou...       43.472737   \n",
       "0  {\"cutoff\": \"quantile_0.1\", \"eval_fairness_grou...       43.472737   \n",
       "0  {\"cutoff\": \"quantile_0.25\", \"eval_fairness_gro...       43.472737   \n",
       "0  {\"cutoff\": \"quantile_0.25\", \"eval_fairness_gro...       43.472737   \n",
       "\n",
       "   test_size_n  test_size_frac  fair_main_equalized_odds_difference  \\\n",
       "0        89710             1.0                             0.051198   \n",
       "0        89710             1.0                             0.051198   \n",
       "0        89710             1.0                             0.099739   \n",
       "0        89710             1.0                             0.099739   \n",
       "\n",
       "   fair_main_equalized_odds_ratio  fair_main_demographic_parity_difference  \\\n",
       "0                        0.948327                                 0.046384   \n",
       "0                        0.948327                                 0.046384   \n",
       "0                        0.895780                                 0.061401   \n",
       "0                        0.895780                                 0.061401   \n",
       "\n",
       "   fair_main_demographic_parity_ratio  ...  perf_grp_precision_0  \\\n",
       "0                            0.950563  ...                   NaN   \n",
       "0                            0.950563  ...              0.121459   \n",
       "0                            0.922433  ...                   NaN   \n",
       "0                            0.922433  ...              0.135351   \n",
       "\n",
       "   perf_grp_precision_1  perf_grp_false positive rate_0  \\\n",
       "0                   NaN                             NaN   \n",
       "0              0.139540                        0.885648   \n",
       "0                   NaN                             NaN   \n",
       "0              0.159751                        0.713625   \n",
       "\n",
       "   perf_grp_false positive rate_1  perf_grp_false negative rate_0  \\\n",
       "0                             NaN                             NaN   \n",
       "0                        0.930252                        0.060389   \n",
       "0                             NaN                             NaN   \n",
       "0                        0.766400                        0.142736   \n",
       "\n",
       "   perf_grp_false negative rate_1  perf_grp_selection rate_0  \\\n",
       "0                             NaN                        NaN   \n",
       "0                        0.009190                   0.891870   \n",
       "0                             NaN                        NaN   \n",
       "0                        0.042998                   0.730185   \n",
       "\n",
       "   perf_grp_selection rate_1  perf_grp_count_0  perf_grp_count_1  \n",
       "0                        NaN               NaN               NaN  \n",
       "0                   0.938254           20540.0           69170.0  \n",
       "0                        NaN               NaN               NaN  \n",
       "0                   0.791586           20540.0           69170.0  \n",
       "\n",
       "[4 rows x 50 columns]"
      ]
     },
     "execution_count": 79,
     "metadata": {},
     "output_type": "execute_result"
    }
   ],
   "source": [
    "final_output = universe_analysis.generate_final_output(\n",
    "    y_pred_prob=probs_test,\n",
    "    y_test=y_true,\n",
    "    org_test=org_test,\n",
    "    filter_data=filter_sub_universe_data,\n",
    "    cp_metrics_df=cp_metrics_df,\n",
    "    save=True,\n",
    ")\n",
    "final_output"
   ]
  },
  {
   "cell_type": "code",
   "execution_count": null,
   "id": "721ff514-cb11-46f8-b6fc-50392f74b5cb",
   "metadata": {
    "papermill": {
     "duration": 0.015395,
     "end_time": "2025-07-30T13:33:23.432234",
     "exception": false,
     "start_time": "2025-07-30T13:33:23.416839",
     "status": "completed"
    },
    "tags": []
   },
   "outputs": [],
   "source": []
  }
 ],
 "metadata": {
  "celltoolbar": "Tags",
  "kernelspec": {
   "display_name": "Python (CMA Fairness)",
   "language": "python",
   "name": "cma_fair_env"
  },
  "language_info": {
   "codemirror_mode": {
    "name": "ipython",
    "version": 3
   },
   "file_extension": ".py",
   "mimetype": "text/x-python",
   "name": "python",
   "nbconvert_exporter": "python",
   "pygments_lexer": "ipython3",
   "version": "3.10.12"
  },
  "papermill": {
   "default_parameters": {},
   "duration": 56.472078,
   "end_time": "2025-07-30T13:33:24.064978",
   "environment_variables": {},
   "exception": null,
   "input_path": "universe_analysis.ipynb",
   "output_path": "output/runs/12/notebooks/m_12-fda625380468d7c6aae5812936f1d2a7.ipynb",
   "parameters": {
    "output_dir": "output",
    "run_no": "12",
    "seed": "2023",
    "universe": "{\"cutoff\": [\"quantile_0.1\", \"quantile_0.25\"], \"eval_fairness_grouping\": [\"majority-minority\", \"nationality-all\"], \"exclude_features\": \"sex\", \"exclude_subgroups\": \"drop-non-german\", \"model\": \"rf\", \"scale\": \"do-not-scale\", \"training_size\": \"25k\", \"training_year\": \"2010_14\"}",
    "universe_id": "fda625380468d7c6aae5812936f1d2a7"
   },
   "start_time": "2025-07-30T13:32:27.592900",
   "version": "2.6.0"
  }
 },
 "nbformat": 4,
 "nbformat_minor": 5
}