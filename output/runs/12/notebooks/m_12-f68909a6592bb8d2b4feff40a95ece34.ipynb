{
 "cells": [
  {
   "cell_type": "code",
   "execution_count": 1,
   "id": "f159f837-637b-42ba-96b5-ec9a68c44524",
   "metadata": {
    "execution": {
     "iopub.execute_input": "2025-07-30T14:05:15.306666Z",
     "iopub.status.busy": "2025-07-30T14:05:15.306082Z",
     "iopub.status.idle": "2025-07-30T14:05:15.318948Z",
     "shell.execute_reply": "2025-07-30T14:05:15.318091Z"
    },
    "papermill": {
     "duration": 0.034165,
     "end_time": "2025-07-30T14:05:15.320469",
     "exception": false,
     "start_time": "2025-07-30T14:05:15.286304",
     "status": "completed"
    },
    "tags": []
   },
   "outputs": [
    {
     "name": "stdout",
     "output_type": "stream",
     "text": [
      "/dss/dsshome1/0C/ra93lal2/cma/CMA_Fairness_v2\n"
     ]
    },
    {
     "name": "stderr",
     "output_type": "stream",
     "text": [
      "/dss/dsshome1/0C/ra93lal2/.local/share/virtualenvs/CMA_Fairness_v2-3j10GkSs/lib/python3.10/site-packages/IPython/core/magics/osm.py:393: UserWarning: This is now an optional IPython functionality, using bookmarks requires you to install the `pickleshare` library.\n",
      "  bkms = self.shell.db.get('bookmarks', {})\n",
      "/dss/dsshome1/0C/ra93lal2/.local/share/virtualenvs/CMA_Fairness_v2-3j10GkSs/lib/python3.10/site-packages/IPython/core/magics/osm.py:417: UserWarning: This is now an optional IPython functionality, setting dhist requires you to install the `pickleshare` library.\n",
      "  self.shell.db['dhist'] = compress_dhist(dhist)[-100:]\n"
     ]
    }
   ],
   "source": [
    "%cd ~/cma/CMA_Fairness_v2"
   ]
  },
  {
   "cell_type": "markdown",
   "id": "de2603b9",
   "metadata": {
    "papermill": {
     "duration": 0.017754,
     "end_time": "2025-07-30T14:05:15.356337",
     "exception": false,
     "start_time": "2025-07-30T14:05:15.338583",
     "status": "completed"
    },
    "tags": []
   },
   "source": [
    "The following cell holds the definition of our parameters, these values can be overriden by rendering the with e.g. the following command:\n",
    "\n",
    "papermill -p alpha 0.2 -p ratio 0.3 universe_analysis.ipynb output/test_run.ipynb"
   ]
  },
  {
   "cell_type": "code",
   "execution_count": 2,
   "id": "a80968a0-40bb-4fa9-85ef-2d5eefb01975",
   "metadata": {
    "execution": {
     "iopub.execute_input": "2025-07-30T14:05:15.393272Z",
     "iopub.status.busy": "2025-07-30T14:05:15.392579Z",
     "iopub.status.idle": "2025-07-30T14:05:15.397747Z",
     "shell.execute_reply": "2025-07-30T14:05:15.396942Z"
    },
    "papermill": {
     "duration": 0.025279,
     "end_time": "2025-07-30T14:05:15.399289",
     "exception": false,
     "start_time": "2025-07-30T14:05:15.374010",
     "status": "completed"
    },
    "tags": []
   },
   "outputs": [
    {
     "name": "stdout",
     "output_type": "stream",
     "text": [
      "Current working directory: /dss/dsshome1/0C/ra93lal2/cma/CMA_Fairness_v2\n"
     ]
    }
   ],
   "source": [
    "import os\n",
    "print(\"Current working directory:\", os.getcwd())"
   ]
  },
  {
   "cell_type": "code",
   "execution_count": 3,
   "id": "2dce4c03",
   "metadata": {
    "execution": {
     "iopub.execute_input": "2025-07-30T14:05:15.436651Z",
     "iopub.status.busy": "2025-07-30T14:05:15.435900Z",
     "iopub.status.idle": "2025-07-30T14:05:15.441775Z",
     "shell.execute_reply": "2025-07-30T14:05:15.440957Z"
    },
    "papermill": {
     "duration": 0.026035,
     "end_time": "2025-07-30T14:05:15.443282",
     "exception": false,
     "start_time": "2025-07-30T14:05:15.417247",
     "status": "completed"
    },
    "tags": [
     "parameters"
    ]
   },
   "outputs": [],
   "source": [
    "run_no = 0\n",
    "universe_id = \"test\"\n",
    "universe = {\n",
    "    \"training_size\": \"25k\", # \"25k\", \"5k\", \"1k\"\n",
    "    \"training_year\": \"2014\", # \"2014\", \"2012_14\", \"2010_14\"\n",
    "    \"scale\": \"scale\", # \"scale\", \"do-not-scale\",\n",
    "    #\"stratify_split\": \"target\", # \"none\", \"target\", \"protected-attribute\", \"both\",\n",
    "    \"model\": \"elasticnet\", # \"logreg\", \"penalized_logreg\", \"rf\", \"gbm\", \"elasticnet\"\n",
    "    \"cutoff\": [\"quantile_0.15\", \"quantile_0.30\"],\n",
    "    \"exclude_features\": \"age\", # \"none\", \"nationality\", \"sex\", \"nationality-sex\", \"age\"\n",
    "    \"exclude_subgroups\": \"keep-all\", # \"keep-all\", \"drop-non-german\"\n",
    "    \"eval_fairness_grouping\": [\"majority-minority\", \"nationality-all\"]\n",
    "}\n",
    "\n",
    "output_dir=\"./output\"\n",
    "seed=0"
   ]
  },
  {
   "cell_type": "code",
   "execution_count": 4,
   "id": "afb4ac3e",
   "metadata": {
    "execution": {
     "iopub.execute_input": "2025-07-30T14:05:15.480828Z",
     "iopub.status.busy": "2025-07-30T14:05:15.480126Z",
     "iopub.status.idle": "2025-07-30T14:05:15.485242Z",
     "shell.execute_reply": "2025-07-30T14:05:15.484350Z"
    },
    "papermill": {
     "duration": 0.025254,
     "end_time": "2025-07-30T14:05:15.486678",
     "exception": false,
     "start_time": "2025-07-30T14:05:15.461424",
     "status": "completed"
    },
    "tags": [
     "injected-parameters"
    ]
   },
   "outputs": [],
   "source": [
    "# Parameters\n",
    "universe_id = \"f68909a6592bb8d2b4feff40a95ece34\"\n",
    "run_no = \"12\"\n",
    "universe = \"{\\\"cutoff\\\": [\\\"quantile_0.1\\\", \\\"quantile_0.25\\\"], \\\"eval_fairness_grouping\\\": [\\\"majority-minority\\\", \\\"nationality-all\\\"], \\\"exclude_features\\\": \\\"age\\\", \\\"exclude_subgroups\\\": \\\"keep-all\\\", \\\"model\\\": \\\"elasticnet\\\", \\\"scale\\\": \\\"do-not-scale\\\", \\\"training_size\\\": \\\"5k\\\", \\\"training_year\\\": \\\"2012_14\\\"}\"\n",
    "output_dir = \"output\"\n",
    "seed = \"2023\"\n"
   ]
  },
  {
   "cell_type": "code",
   "execution_count": 5,
   "id": "1650acaf",
   "metadata": {
    "execution": {
     "iopub.execute_input": "2025-07-30T14:05:15.524169Z",
     "iopub.status.busy": "2025-07-30T14:05:15.523464Z",
     "iopub.status.idle": "2025-07-30T14:05:15.528148Z",
     "shell.execute_reply": "2025-07-30T14:05:15.527297Z"
    },
    "papermill": {
     "duration": 0.024882,
     "end_time": "2025-07-30T14:05:15.529673",
     "exception": false,
     "start_time": "2025-07-30T14:05:15.504791",
     "status": "completed"
    },
    "tags": []
   },
   "outputs": [],
   "source": [
    "import json\n",
    "# Parse universe into dict if it is passed as a string\n",
    "if isinstance(universe, str):\n",
    "    universe = json.loads(universe)"
   ]
  },
  {
   "cell_type": "code",
   "execution_count": 6,
   "id": "16620c48",
   "metadata": {
    "execution": {
     "iopub.execute_input": "2025-07-30T14:05:15.567318Z",
     "iopub.status.busy": "2025-07-30T14:05:15.566618Z",
     "iopub.status.idle": "2025-07-30T14:05:15.607833Z",
     "shell.execute_reply": "2025-07-30T14:05:15.607085Z"
    },
    "papermill": {
     "duration": 0.061504,
     "end_time": "2025-07-30T14:05:15.609415",
     "exception": false,
     "start_time": "2025-07-30T14:05:15.547911",
     "status": "completed"
    },
    "tags": []
   },
   "outputs": [],
   "source": [
    "# Auto-reload the custom package\n",
    "%load_ext autoreload\n",
    "%autoreload 1\n",
    "%aimport fairness_multiverse"
   ]
  },
  {
   "cell_type": "code",
   "execution_count": 7,
   "id": "01c5c9f3",
   "metadata": {
    "execution": {
     "iopub.execute_input": "2025-07-30T14:05:15.647278Z",
     "iopub.status.busy": "2025-07-30T14:05:15.646557Z",
     "iopub.status.idle": "2025-07-30T14:05:17.495669Z",
     "shell.execute_reply": "2025-07-30T14:05:17.494800Z"
    },
    "papermill": {
     "duration": 1.869754,
     "end_time": "2025-07-30T14:05:17.497403",
     "exception": false,
     "start_time": "2025-07-30T14:05:15.627649",
     "status": "completed"
    },
    "tags": []
   },
   "outputs": [],
   "source": [
    "from fairness_multiverse.universe import UniverseAnalysis\n",
    "\n",
    "universe_analysis = UniverseAnalysis(\n",
    "    run_no = run_no,\n",
    "    universe_id = universe_id,\n",
    "    universe = universe,\n",
    "    output_dir=output_dir,\n",
    ")"
   ]
  },
  {
   "cell_type": "code",
   "execution_count": 8,
   "id": "106241f5",
   "metadata": {
    "execution": {
     "iopub.execute_input": "2025-07-30T14:05:17.536528Z",
     "iopub.status.busy": "2025-07-30T14:05:17.535650Z",
     "iopub.status.idle": "2025-07-30T14:05:17.541527Z",
     "shell.execute_reply": "2025-07-30T14:05:17.540741Z"
    },
    "papermill": {
     "duration": 0.026142,
     "end_time": "2025-07-30T14:05:17.542902",
     "exception": false,
     "start_time": "2025-07-30T14:05:17.516760",
     "status": "completed"
    },
    "tags": []
   },
   "outputs": [
    {
     "name": "stdout",
     "output_type": "stream",
     "text": [
      "Using Seed: 2023\n"
     ]
    }
   ],
   "source": [
    "import numpy as np\n",
    "parsed_seed = int(seed)\n",
    "np.random.seed(parsed_seed)\n",
    "print(f\"Using Seed: {parsed_seed}\")"
   ]
  },
  {
   "cell_type": "markdown",
   "id": "e0ebdc57",
   "metadata": {
    "papermill": {
     "duration": 0.018217,
     "end_time": "2025-07-30T14:05:17.579908",
     "exception": false,
     "start_time": "2025-07-30T14:05:17.561691",
     "status": "completed"
    },
    "tags": []
   },
   "source": [
    "# Loading Data"
   ]
  },
  {
   "cell_type": "markdown",
   "id": "681925a3",
   "metadata": {
    "papermill": {
     "duration": 0.018582,
     "end_time": "2025-07-30T14:05:17.616704",
     "exception": false,
     "start_time": "2025-07-30T14:05:17.598122",
     "status": "completed"
    },
    "tags": []
   },
   "source": [
    "Load siab_train, siab_test, siab_calib and/or \n",
    "load siab_train_features, siab_train_labels"
   ]
  },
  {
   "cell_type": "code",
   "execution_count": 9,
   "id": "f0496b8a",
   "metadata": {
    "execution": {
     "iopub.execute_input": "2025-07-30T14:05:17.692578Z",
     "iopub.status.busy": "2025-07-30T14:05:17.692118Z",
     "iopub.status.idle": "2025-07-30T14:05:29.299956Z",
     "shell.execute_reply": "2025-07-30T14:05:29.299052Z"
    },
    "papermill": {
     "duration": 11.666688,
     "end_time": "2025-07-30T14:05:29.301729",
     "exception": false,
     "start_time": "2025-07-30T14:05:17.635041",
     "status": "completed"
    },
    "tags": []
   },
   "outputs": [
    {
     "name": "stdout",
     "output_type": "stream",
     "text": [
      "Loading SIAB data from cache: data/siab_cached.csv.gz\n"
     ]
    },
    {
     "name": "stdout",
     "output_type": "stream",
     "text": [
      "(643690, 164)\n"
     ]
    }
   ],
   "source": [
    "from pathlib import Path\n",
    "import pandas as pd\n",
    "\n",
    "# File paths\n",
    "raw_file = Path(\"data/raw/siab.csv\")\n",
    "cache_file = Path(\"data/siab_cached.csv.gz\")\n",
    "\n",
    "# Ensure cache directory exists\n",
    "cache_file.parent.mkdir(parents=True, exist_ok=True)\n",
    "\n",
    "# Load with simple caching\n",
    "if cache_file.exists():\n",
    "    print(f\"Loading SIAB data from cache: {cache_file}\")\n",
    "    siab = pd.read_csv(cache_file, compression='gzip')\n",
    "else:\n",
    "    print(f\"Cache not found. Reading raw SIAB data: {raw_file}\")\n",
    "    siab = pd.read_csv(raw_file)\n",
    "    siab.to_csv(cache_file, index=False, compression='gzip')\n",
    "    print(f\"Cached SIAB data to: {cache_file}\")\n",
    "\n",
    "# Now use `siab` DataFrame as needed\n",
    "print(siab.shape)"
   ]
  },
  {
   "cell_type": "code",
   "execution_count": 10,
   "id": "db0ca512-5f53-4dba-abdb-a2888bca41ba",
   "metadata": {
    "execution": {
     "iopub.execute_input": "2025-07-30T14:05:29.328381Z",
     "iopub.status.busy": "2025-07-30T14:05:29.327954Z",
     "iopub.status.idle": "2025-07-30T14:05:29.332580Z",
     "shell.execute_reply": "2025-07-30T14:05:29.331849Z"
    },
    "papermill": {
     "duration": 0.018308,
     "end_time": "2025-07-30T14:05:29.333767",
     "exception": false,
     "start_time": "2025-07-30T14:05:29.315459",
     "status": "completed"
    },
    "tags": []
   },
   "outputs": [],
   "source": [
    "#siab"
   ]
  },
  {
   "cell_type": "code",
   "execution_count": 11,
   "id": "a0edb063",
   "metadata": {
    "execution": {
     "iopub.execute_input": "2025-07-30T14:05:29.357257Z",
     "iopub.status.busy": "2025-07-30T14:05:29.356933Z",
     "iopub.status.idle": "2025-07-30T14:05:29.360714Z",
     "shell.execute_reply": "2025-07-30T14:05:29.360062Z"
    },
    "papermill": {
     "duration": 0.016108,
     "end_time": "2025-07-30T14:05:29.361927",
     "exception": false,
     "start_time": "2025-07-30T14:05:29.345819",
     "status": "completed"
    },
    "tags": []
   },
   "outputs": [],
   "source": [
    "#import pandas as pd\n",
    "#\n",
    "#X_train = pd.read_csv(\"./data/X_train.csv\")\n",
    "#y_train = pd.read_csv(\"./data/y_train.csv\")"
   ]
  },
  {
   "cell_type": "code",
   "execution_count": 12,
   "id": "63d08085",
   "metadata": {
    "execution": {
     "iopub.execute_input": "2025-07-30T14:05:29.389061Z",
     "iopub.status.busy": "2025-07-30T14:05:29.388639Z",
     "iopub.status.idle": "2025-07-30T14:05:29.393540Z",
     "shell.execute_reply": "2025-07-30T14:05:29.392373Z"
    },
    "papermill": {
     "duration": 0.022434,
     "end_time": "2025-07-30T14:05:29.395368",
     "exception": false,
     "start_time": "2025-07-30T14:05:29.372934",
     "status": "completed"
    },
    "tags": []
   },
   "outputs": [],
   "source": [
    "#X_test = pd.read_csv(\"./data/X_test.csv\")\n",
    "#y_true = pd.read_csv(\"./data/y_test.csv\")"
   ]
  },
  {
   "cell_type": "code",
   "execution_count": 13,
   "id": "98a8d0fa-1d3d-4ed8-bb2c-281470e24add",
   "metadata": {
    "execution": {
     "iopub.execute_input": "2025-07-30T14:05:29.438993Z",
     "iopub.status.busy": "2025-07-30T14:05:29.438524Z",
     "iopub.status.idle": "2025-07-30T14:05:29.443122Z",
     "shell.execute_reply": "2025-07-30T14:05:29.442398Z"
    },
    "papermill": {
     "duration": 0.026179,
     "end_time": "2025-07-30T14:05:29.444446",
     "exception": false,
     "start_time": "2025-07-30T14:05:29.418267",
     "status": "completed"
    },
    "tags": []
   },
   "outputs": [],
   "source": [
    "# Calibration data for conformal\n",
    "#X_calib = pd.read_csv(\"./data/X_calib.csv\")\n",
    "#y_calib = pd.read_csv(\"./data/y_calib.csv\")"
   ]
  },
  {
   "cell_type": "markdown",
   "id": "997051c5-15bd-4b69-9786-c3001a3ce484",
   "metadata": {
    "papermill": {
     "duration": 0.011675,
     "end_time": "2025-07-30T14:05:29.468387",
     "exception": false,
     "start_time": "2025-07-30T14:05:29.456712",
     "status": "completed"
    },
    "tags": []
   },
   "source": [
    "# Splitting Data and Setting Training Data Size"
   ]
  },
  {
   "cell_type": "code",
   "execution_count": 14,
   "id": "e993b61f-042d-41a6-8c81-f55681f86335",
   "metadata": {
    "execution": {
     "iopub.execute_input": "2025-07-30T14:05:29.508079Z",
     "iopub.status.busy": "2025-07-30T14:05:29.507490Z",
     "iopub.status.idle": "2025-07-30T14:05:29.522710Z",
     "shell.execute_reply": "2025-07-30T14:05:29.521577Z"
    },
    "papermill": {
     "duration": 0.040775,
     "end_time": "2025-07-30T14:05:29.524560",
     "exception": false,
     "start_time": "2025-07-30T14:05:29.483785",
     "status": "completed"
    },
    "tags": []
   },
   "outputs": [],
   "source": [
    "def sample_by_year_size(df,\n",
    "                        training_year: str,\n",
    "                        training_size: str,\n",
    "                        random_state: int = 42):\n",
    "    # --- parse training_year into a list of int years ---\n",
    "    if \"_\" in training_year:\n",
    "        start_str, end_str = training_year.split(\"_\", 1)\n",
    "        start = int(start_str)\n",
    "        end   = int(end_str) if len(end_str) == 4 else (int(end_str) + (start // 100)*100)\n",
    "        years = list(range(start, end + 1))\n",
    "    else:\n",
    "        years = [int(training_year)]\n",
    "\n",
    "    df = df[df[\"year\"].isin(years)].reset_index(drop=True)\n",
    "\n",
    "    # --- map training_size to total number of samples ---\n",
    "    total_map = {\"25k\": 25_000, \"5k\": 5_000, \"1k\": 1_000}\n",
    "    if training_size not in total_map:\n",
    "        return df  # e.g. \"all\"\n",
    "\n",
    "    total_samples = total_map[training_size]\n",
    "    n_years       = len(years)\n",
    "    base          = total_samples // n_years\n",
    "    remainder     = total_samples % n_years\n",
    "\n",
    "    # --- build a dict: year -> how many to sample ---\n",
    "    # give +1 to the first `remainder` years in ascending order\n",
    "    quotas = {\n",
    "        year: base + (1 if idx < remainder else 0)\n",
    "        for idx, year in enumerate(sorted(years))\n",
    "    }\n",
    "\n",
    "    # --- sample per‐year according to the quota dict ---\n",
    "    sampled = (\n",
    "        df\n",
    "        .groupby(\"year\", group_keys=False)\n",
    "        .apply(lambda grp: grp.sample(\n",
    "            n=min(len(grp), quotas[grp.name]),\n",
    "            random_state=random_state))\n",
    "        .reset_index(drop=True)\n",
    "    )\n",
    "\n",
    "    return sampled"
   ]
  },
  {
   "cell_type": "code",
   "execution_count": 15,
   "id": "c0ccd338-0e02-41f3-a09d-f56f9266e3fb",
   "metadata": {
    "execution": {
     "iopub.execute_input": "2025-07-30T14:05:29.571464Z",
     "iopub.status.busy": "2025-07-30T14:05:29.571027Z",
     "iopub.status.idle": "2025-07-30T14:05:29.584164Z",
     "shell.execute_reply": "2025-07-30T14:05:29.583166Z"
    },
    "papermill": {
     "duration": 0.03757,
     "end_time": "2025-07-30T14:05:29.586123",
     "exception": false,
     "start_time": "2025-07-30T14:05:29.548553",
     "status": "completed"
    },
    "tags": []
   },
   "outputs": [
    {
     "data": {
      "text/plain": [
       "'5k'"
      ]
     },
     "execution_count": 15,
     "metadata": {},
     "output_type": "execute_result"
    }
   ],
   "source": [
    "universe[\"training_size\"]"
   ]
  },
  {
   "cell_type": "code",
   "execution_count": 16,
   "id": "ca707fd7-8047-4acd-bfa5-66248fbbf8e6",
   "metadata": {
    "execution": {
     "iopub.execute_input": "2025-07-30T14:05:29.646964Z",
     "iopub.status.busy": "2025-07-30T14:05:29.646326Z",
     "iopub.status.idle": "2025-07-30T14:05:29.657329Z",
     "shell.execute_reply": "2025-07-30T14:05:29.656622Z"
    },
    "papermill": {
     "duration": 0.043393,
     "end_time": "2025-07-30T14:05:29.658632",
     "exception": false,
     "start_time": "2025-07-30T14:05:29.615239",
     "status": "completed"
    },
    "tags": []
   },
   "outputs": [
    {
     "data": {
      "text/plain": [
       "'2012_14'"
      ]
     },
     "execution_count": 16,
     "metadata": {},
     "output_type": "execute_result"
    }
   ],
   "source": [
    "universe[\"training_year\"]"
   ]
  },
  {
   "cell_type": "code",
   "execution_count": 17,
   "id": "aea9c6ef-6f46-42c8-85eb-5a62025c1508",
   "metadata": {
    "execution": {
     "iopub.execute_input": "2025-07-30T14:05:29.683492Z",
     "iopub.status.busy": "2025-07-30T14:05:29.683138Z",
     "iopub.status.idle": "2025-07-30T14:05:30.240341Z",
     "shell.execute_reply": "2025-07-30T14:05:30.239582Z"
    },
    "papermill": {
     "duration": 0.571798,
     "end_time": "2025-07-30T14:05:30.242262",
     "exception": false,
     "start_time": "2025-07-30T14:05:29.670464",
     "status": "completed"
    },
    "tags": []
   },
   "outputs": [],
   "source": [
    "siab_train = sample_by_year_size(siab,\n",
    "                               training_year=universe[\"training_year\"],\n",
    "                               training_size=universe[\"training_size\"])"
   ]
  },
  {
   "cell_type": "code",
   "execution_count": 18,
   "id": "8d3afb32-789d-442c-8d5d-9f5aa8dd2eed",
   "metadata": {
    "execution": {
     "iopub.execute_input": "2025-07-30T14:05:30.272465Z",
     "iopub.status.busy": "2025-07-30T14:05:30.272001Z",
     "iopub.status.idle": "2025-07-30T14:05:30.279668Z",
     "shell.execute_reply": "2025-07-30T14:05:30.278526Z"
    },
    "papermill": {
     "duration": 0.022271,
     "end_time": "2025-07-30T14:05:30.281809",
     "exception": false,
     "start_time": "2025-07-30T14:05:30.259538",
     "status": "completed"
    },
    "tags": []
   },
   "outputs": [
    {
     "data": {
      "text/plain": [
       "(5000, 164)"
      ]
     },
     "execution_count": 18,
     "metadata": {},
     "output_type": "execute_result"
    }
   ],
   "source": [
    "siab_train.shape"
   ]
  },
  {
   "cell_type": "code",
   "execution_count": 19,
   "id": "d582db68-1a4c-47fb-84fc-08518dc1975a",
   "metadata": {
    "execution": {
     "iopub.execute_input": "2025-07-30T14:05:30.344367Z",
     "iopub.status.busy": "2025-07-30T14:05:30.343592Z",
     "iopub.status.idle": "2025-07-30T14:05:30.354971Z",
     "shell.execute_reply": "2025-07-30T14:05:30.353885Z"
    },
    "papermill": {
     "duration": 0.044754,
     "end_time": "2025-07-30T14:05:30.356776",
     "exception": false,
     "start_time": "2025-07-30T14:05:30.312022",
     "status": "completed"
    },
    "tags": []
   },
   "outputs": [
    {
     "data": {
      "text/plain": [
       "year\n",
       "2012    1667\n",
       "2013    1667\n",
       "2014    1666\n",
       "dtype: int64"
      ]
     },
     "metadata": {},
     "output_type": "display_data"
    }
   ],
   "source": [
    "display(siab_train.groupby(\"year\").size())"
   ]
  },
  {
   "cell_type": "code",
   "execution_count": 20,
   "id": "a561edb4-d032-42cb-8256-22eac1111c64",
   "metadata": {
    "execution": {
     "iopub.execute_input": "2025-07-30T14:05:30.406960Z",
     "iopub.status.busy": "2025-07-30T14:05:30.406074Z",
     "iopub.status.idle": "2025-07-30T14:05:30.657696Z",
     "shell.execute_reply": "2025-07-30T14:05:30.656761Z"
    },
    "papermill": {
     "duration": 0.277705,
     "end_time": "2025-07-30T14:05:30.659317",
     "exception": false,
     "start_time": "2025-07-30T14:05:30.381612",
     "status": "completed"
    },
    "tags": []
   },
   "outputs": [],
   "source": [
    "#siab_train = siab_s[siab_s.year < 2015]\n",
    "siab_calib = siab[siab.year == 2015]\n",
    "siab_test = siab[siab.year == 2016]"
   ]
  },
  {
   "cell_type": "code",
   "execution_count": 21,
   "id": "472de16f-c3db-4916-846b-1f0de9cf1746",
   "metadata": {
    "execution": {
     "iopub.execute_input": "2025-07-30T14:05:30.700461Z",
     "iopub.status.busy": "2025-07-30T14:05:30.699999Z",
     "iopub.status.idle": "2025-07-30T14:05:30.709172Z",
     "shell.execute_reply": "2025-07-30T14:05:30.708153Z"
    },
    "papermill": {
     "duration": 0.035871,
     "end_time": "2025-07-30T14:05:30.710844",
     "exception": false,
     "start_time": "2025-07-30T14:05:30.674973",
     "status": "completed"
    },
    "tags": []
   },
   "outputs": [],
   "source": [
    "X_train = siab_train.iloc[:,4:164]\n",
    "y_train = siab_train.iloc[:, [3]]"
   ]
  },
  {
   "cell_type": "code",
   "execution_count": 22,
   "id": "828c96af-f43a-4ed6-ba47-8ac73a47d56c",
   "metadata": {
    "execution": {
     "iopub.execute_input": "2025-07-30T14:05:30.759422Z",
     "iopub.status.busy": "2025-07-30T14:05:30.758696Z",
     "iopub.status.idle": "2025-07-30T14:05:30.814266Z",
     "shell.execute_reply": "2025-07-30T14:05:30.813071Z"
    },
    "papermill": {
     "duration": 0.081534,
     "end_time": "2025-07-30T14:05:30.816341",
     "exception": false,
     "start_time": "2025-07-30T14:05:30.734807",
     "status": "completed"
    },
    "tags": []
   },
   "outputs": [],
   "source": [
    "X_calib = siab_calib.iloc[:,4:164]\n",
    "y_calib = siab_calib.iloc[:, [3]]"
   ]
  },
  {
   "cell_type": "code",
   "execution_count": 23,
   "id": "c34be9c3-6bd6-476e-acd3-845840e303be",
   "metadata": {
    "execution": {
     "iopub.execute_input": "2025-07-30T14:05:30.865903Z",
     "iopub.status.busy": "2025-07-30T14:05:30.865044Z",
     "iopub.status.idle": "2025-07-30T14:05:30.921704Z",
     "shell.execute_reply": "2025-07-30T14:05:30.920690Z"
    },
    "papermill": {
     "duration": 0.082688,
     "end_time": "2025-07-30T14:05:30.923759",
     "exception": false,
     "start_time": "2025-07-30T14:05:30.841071",
     "status": "completed"
    },
    "tags": []
   },
   "outputs": [],
   "source": [
    "X_test = siab_test.iloc[:,4:164]\n",
    "y_true = siab_test.iloc[:, [3]]"
   ]
  },
  {
   "cell_type": "markdown",
   "id": "9901737e-04df-44f0-9100-f5ad144ed040",
   "metadata": {
    "papermill": {
     "duration": 0.024576,
     "end_time": "2025-07-30T14:05:30.972521",
     "exception": false,
     "start_time": "2025-07-30T14:05:30.947945",
     "status": "completed"
    },
    "tags": []
   },
   "source": [
    "# Splitting Data and Setting Training Data Size OLD VERSION"
   ]
  },
  {
   "cell_type": "code",
   "execution_count": 24,
   "id": "acbc8f7d-8fc8-4e86-8c59-5dcb0f58384b",
   "metadata": {
    "execution": {
     "iopub.execute_input": "2025-07-30T14:05:30.996282Z",
     "iopub.status.busy": "2025-07-30T14:05:30.995711Z",
     "iopub.status.idle": "2025-07-30T14:05:31.000623Z",
     "shell.execute_reply": "2025-07-30T14:05:30.999567Z"
    },
    "papermill": {
     "duration": 0.018633,
     "end_time": "2025-07-30T14:05:31.002524",
     "exception": false,
     "start_time": "2025-07-30T14:05:30.983891",
     "status": "completed"
    },
    "tags": []
   },
   "outputs": [],
   "source": [
    "#def sample_by_year(df, training_size, random_state=42):\n",
    "#    if training_size == \"2014\":\n",
    "#        return df[df[\"year\"] == 2014].reset_index(drop=True)\n",
    "#    \n",
    "#    size_map = {\n",
    "#        \"25k\": 5000,\n",
    "#        \"5k\": 1000,\n",
    "#        \"1k\": 200\n",
    "#    }\n",
    "#\n",
    "#    if training_size not in size_map:\n",
    "#        return df.reset_index(drop=True)  # use all data\n",
    "#\n",
    "#    n_per_year = size_map[training_size]\n",
    "#    grouped = df.groupby(\"year\")\n",
    "#    sampled = grouped.apply(lambda x: x.sample(n=min(n_per_year, len(x)), random_state=random_state))\n",
    "#    return sampled.reset_index(drop=True)"
   ]
  },
  {
   "cell_type": "code",
   "execution_count": 25,
   "id": "6d931f52-beaf-43ff-9e78-9d44a448d54e",
   "metadata": {
    "execution": {
     "iopub.execute_input": "2025-07-30T14:05:31.055141Z",
     "iopub.status.busy": "2025-07-30T14:05:31.054209Z",
     "iopub.status.idle": "2025-07-30T14:05:31.058548Z",
     "shell.execute_reply": "2025-07-30T14:05:31.057861Z"
    },
    "papermill": {
     "duration": 0.032806,
     "end_time": "2025-07-30T14:05:31.059729",
     "exception": false,
     "start_time": "2025-07-30T14:05:31.026923",
     "status": "completed"
    },
    "tags": []
   },
   "outputs": [],
   "source": [
    "#siab_s = sample_by_year(siab, universe[\"training_size\"])"
   ]
  },
  {
   "cell_type": "code",
   "execution_count": 26,
   "id": "5db0a40e-a4e2-4920-be85-b12ae061d70d",
   "metadata": {
    "execution": {
     "iopub.execute_input": "2025-07-30T14:05:31.084583Z",
     "iopub.status.busy": "2025-07-30T14:05:31.083987Z",
     "iopub.status.idle": "2025-07-30T14:05:31.088284Z",
     "shell.execute_reply": "2025-07-30T14:05:31.087574Z"
    },
    "papermill": {
     "duration": 0.018191,
     "end_time": "2025-07-30T14:05:31.089478",
     "exception": false,
     "start_time": "2025-07-30T14:05:31.071287",
     "status": "completed"
    },
    "tags": []
   },
   "outputs": [],
   "source": [
    "#display(siab_s.groupby(\"year\").size())"
   ]
  },
  {
   "cell_type": "code",
   "execution_count": 27,
   "id": "e6c733c5",
   "metadata": {
    "execution": {
     "iopub.execute_input": "2025-07-30T14:05:31.113523Z",
     "iopub.status.busy": "2025-07-30T14:05:31.112780Z",
     "iopub.status.idle": "2025-07-30T14:05:31.197915Z",
     "shell.execute_reply": "2025-07-30T14:05:31.197180Z"
    },
    "papermill": {
     "duration": 0.098337,
     "end_time": "2025-07-30T14:05:31.199372",
     "exception": false,
     "start_time": "2025-07-30T14:05:31.101035",
     "status": "completed"
    },
    "tags": []
   },
   "outputs": [],
   "source": [
    "# Auxiliary data needed downstream in the pipeline\n",
    "\n",
    "org_train = X_train.copy()\n",
    "org_test = X_test.copy()\n",
    "org_calib = X_calib.copy()"
   ]
  },
  {
   "cell_type": "code",
   "execution_count": 28,
   "id": "1466abac-c6da-4492-a62f-4240ae3783af",
   "metadata": {
    "execution": {
     "iopub.execute_input": "2025-07-30T14:05:31.223827Z",
     "iopub.status.busy": "2025-07-30T14:05:31.223212Z",
     "iopub.status.idle": "2025-07-30T14:05:31.227936Z",
     "shell.execute_reply": "2025-07-30T14:05:31.227251Z"
    },
    "papermill": {
     "duration": 0.017886,
     "end_time": "2025-07-30T14:05:31.229228",
     "exception": false,
     "start_time": "2025-07-30T14:05:31.211342",
     "status": "completed"
    },
    "tags": []
   },
   "outputs": [],
   "source": [
    "# put in other script?\n",
    "# Group sizes\n",
    "\n",
    "#def calculate_percentages(df, df_name):\n",
    "#    total_entries = len(df)\n",
    "#\n",
    "#    female_pct = (df['frau1'] == 1).mean() * 100\n",
    "#    non_german_pct = ((df['maxdeutsch1'] == 0) & (df['maxdeutsch.Missing.'] == 0)).mean() * 100\n",
    "#    non_german_male_pct = ((df['frau1'] == 0) & (df['maxdeutsch1'] == 0) & (df['maxdeutsch.Missing.'] == 0)).mean() * 100\n",
    "#    non_german_female_pct = ((df['frau1'] == 1) & (df['maxdeutsch1'] == 0) & (df['maxdeutsch.Missing.'] == 0)).mean() * 100\n",
    "#\n",
    "#    print(f\"--- {df_name} ---\")\n",
    "#    print(f\"Female: {female_pct:.2f}%\")\n",
    "#    print(f\"Non-German: {non_german_pct:.2f}%\")\n",
    "#    print(f\"Non-German Male: {non_german_male_pct:.2f}%\")\n",
    "#    print(f\"Non-German Female: {non_german_female_pct:.2f}%\\n\")\n",
    "#\n",
    "## Calculate for each DataFrame\n",
    "#calculate_percentages(siab_calib, \"siab_calib\")\n",
    "#calculate_percentages(siab_test, \"siab_test\")\n",
    "#calculate_percentages(siab_train, \"siab_train\")"
   ]
  },
  {
   "cell_type": "markdown",
   "id": "0a4a1b33",
   "metadata": {
    "papermill": {
     "duration": 0.011028,
     "end_time": "2025-07-30T14:05:31.251805",
     "exception": false,
     "start_time": "2025-07-30T14:05:31.240777",
     "status": "completed"
    },
    "tags": []
   },
   "source": [
    "# Preprocessing Data"
   ]
  },
  {
   "cell_type": "code",
   "execution_count": 29,
   "id": "ca879031",
   "metadata": {
    "execution": {
     "iopub.execute_input": "2025-07-30T14:05:31.275658Z",
     "iopub.status.busy": "2025-07-30T14:05:31.275154Z",
     "iopub.status.idle": "2025-07-30T14:05:31.279594Z",
     "shell.execute_reply": "2025-07-30T14:05:31.278900Z"
    },
    "papermill": {
     "duration": 0.017836,
     "end_time": "2025-07-30T14:05:31.280985",
     "exception": false,
     "start_time": "2025-07-30T14:05:31.263149",
     "status": "completed"
    },
    "tags": []
   },
   "outputs": [],
   "source": [
    "# EXCLUDE PROTECTED FEATURES\n",
    "# ----------------------\n",
    "# \"exclude_features\": \"none\", # \"nationality\", \"sex\", \"nationality-sex\"\n",
    "\n",
    "excluded_features = universe[\"exclude_features\"].split(\"-\") # split, e.g.: \"nationality-sex\" -> [\"nationality\", \"sex\"]\n",
    "excluded_features_dictionary = {\n",
    "    \"nationality\": [\"maxdeutsch1\", \"maxdeutsch.Missing.\"],\n",
    "    \"sex\": [\"frau1\"],\n",
    "    \"age\": [\"age\"],\n",
    "}\n"
   ]
  },
  {
   "cell_type": "code",
   "execution_count": 30,
   "id": "b745ac60",
   "metadata": {
    "execution": {
     "iopub.execute_input": "2025-07-30T14:05:31.305027Z",
     "iopub.status.busy": "2025-07-30T14:05:31.304697Z",
     "iopub.status.idle": "2025-07-30T14:05:31.308991Z",
     "shell.execute_reply": "2025-07-30T14:05:31.308216Z"
    },
    "papermill": {
     "duration": 0.017375,
     "end_time": "2025-07-30T14:05:31.310180",
     "exception": false,
     "start_time": "2025-07-30T14:05:31.292805",
     "status": "completed"
    },
    "tags": []
   },
   "outputs": [],
   "source": [
    "# Code nice names to column names\n",
    "\n",
    "excluded_features_columns = [\n",
    "    excluded_features_dictionary[f] for f in excluded_features if len(f) > 0 and f != \"none\"\n",
    "]"
   ]
  },
  {
   "cell_type": "code",
   "execution_count": 31,
   "id": "f84f73a2",
   "metadata": {
    "execution": {
     "iopub.execute_input": "2025-07-30T14:05:31.334651Z",
     "iopub.status.busy": "2025-07-30T14:05:31.334007Z",
     "iopub.status.idle": "2025-07-30T14:05:31.339326Z",
     "shell.execute_reply": "2025-07-30T14:05:31.338661Z"
    },
    "papermill": {
     "duration": 0.018809,
     "end_time": "2025-07-30T14:05:31.340690",
     "exception": false,
     "start_time": "2025-07-30T14:05:31.321881",
     "status": "completed"
    },
    "tags": []
   },
   "outputs": [],
   "source": [
    "from utils import flatten_once\n",
    "\n",
    "excluded_features_columns = flatten_once(excluded_features_columns)"
   ]
  },
  {
   "cell_type": "code",
   "execution_count": 32,
   "id": "884dea22",
   "metadata": {
    "execution": {
     "iopub.execute_input": "2025-07-30T14:05:31.365024Z",
     "iopub.status.busy": "2025-07-30T14:05:31.364544Z",
     "iopub.status.idle": "2025-07-30T14:05:31.372135Z",
     "shell.execute_reply": "2025-07-30T14:05:31.371189Z"
    },
    "papermill": {
     "duration": 0.020968,
     "end_time": "2025-07-30T14:05:31.373463",
     "exception": false,
     "start_time": "2025-07-30T14:05:31.352495",
     "status": "completed"
    },
    "tags": []
   },
   "outputs": [
    {
     "name": "stdout",
     "output_type": "stream",
     "text": [
      "Dropping features: ['age']\n"
     ]
    }
   ],
   "source": [
    "if len(excluded_features_columns) > 0:\n",
    "    print(f\"Dropping features: {excluded_features_columns}\")\n",
    "    X_train.drop(excluded_features_columns, axis=1, inplace=True)"
   ]
  },
  {
   "cell_type": "code",
   "execution_count": 33,
   "id": "95ab8b16",
   "metadata": {
    "execution": {
     "iopub.execute_input": "2025-07-30T14:05:31.398009Z",
     "iopub.status.busy": "2025-07-30T14:05:31.397729Z",
     "iopub.status.idle": "2025-07-30T14:05:31.444692Z",
     "shell.execute_reply": "2025-07-30T14:05:31.443592Z"
    },
    "papermill": {
     "duration": 0.060379,
     "end_time": "2025-07-30T14:05:31.446035",
     "exception": false,
     "start_time": "2025-07-30T14:05:31.385656",
     "status": "completed"
    },
    "tags": []
   },
   "outputs": [
    {
     "name": "stdout",
     "output_type": "stream",
     "text": [
      "Dropping features: ['age']\n"
     ]
    }
   ],
   "source": [
    "if len(excluded_features_columns) > 0:\n",
    "    print(f\"Dropping features: {excluded_features_columns}\")\n",
    "    X_test.drop(excluded_features_columns, axis=1, inplace=True)"
   ]
  },
  {
   "cell_type": "code",
   "execution_count": 34,
   "id": "1853aaf5-fb9f-46cb-a2b5-8ea4ae2237e4",
   "metadata": {
    "execution": {
     "iopub.execute_input": "2025-07-30T14:05:31.471383Z",
     "iopub.status.busy": "2025-07-30T14:05:31.470759Z",
     "iopub.status.idle": "2025-07-30T14:05:31.517087Z",
     "shell.execute_reply": "2025-07-30T14:05:31.516159Z"
    },
    "papermill": {
     "duration": 0.059784,
     "end_time": "2025-07-30T14:05:31.518313",
     "exception": false,
     "start_time": "2025-07-30T14:05:31.458529",
     "status": "completed"
    },
    "tags": []
   },
   "outputs": [
    {
     "name": "stdout",
     "output_type": "stream",
     "text": [
      "Dropping features: ['age']\n"
     ]
    }
   ],
   "source": [
    "if len(excluded_features_columns) > 0:\n",
    "    print(f\"Dropping features: {excluded_features_columns}\")\n",
    "    X_calib.drop(excluded_features_columns, axis=1, inplace=True)"
   ]
  },
  {
   "cell_type": "code",
   "execution_count": 35,
   "id": "6727d079-03e5-481e-9d38-292a90b7a0a8",
   "metadata": {
    "execution": {
     "iopub.execute_input": "2025-07-30T14:05:31.544981Z",
     "iopub.status.busy": "2025-07-30T14:05:31.544367Z",
     "iopub.status.idle": "2025-07-30T14:05:31.548273Z",
     "shell.execute_reply": "2025-07-30T14:05:31.547599Z"
    },
    "papermill": {
     "duration": 0.017439,
     "end_time": "2025-07-30T14:05:31.549545",
     "exception": false,
     "start_time": "2025-07-30T14:05:31.532106",
     "status": "completed"
    },
    "tags": []
   },
   "outputs": [],
   "source": [
    "# SPLIT & STRATIFY DATA\n",
    "# ----------------------"
   ]
  },
  {
   "cell_type": "code",
   "execution_count": 36,
   "id": "76c4dc6d",
   "metadata": {
    "execution": {
     "iopub.execute_input": "2025-07-30T14:05:31.574628Z",
     "iopub.status.busy": "2025-07-30T14:05:31.574042Z",
     "iopub.status.idle": "2025-07-30T14:05:31.578414Z",
     "shell.execute_reply": "2025-07-30T14:05:31.577707Z"
    },
    "papermill": {
     "duration": 0.017882,
     "end_time": "2025-07-30T14:05:31.579713",
     "exception": false,
     "start_time": "2025-07-30T14:05:31.561831",
     "status": "completed"
    },
    "tags": []
   },
   "outputs": [],
   "source": [
    "# EXCLUDE CERTAIN SUBGROUPS\n",
    "# ----------------------\n",
    "\n",
    "mode = universe.get(\"exclude_subgroups\", \"keep-all\") \n",
    "# Fetches the exclude_subgroups setting from the universe dict.\n",
    "# Defaults to \"keep-all\" if the key is missing."
   ]
  },
  {
   "cell_type": "code",
   "execution_count": 37,
   "id": "21994072",
   "metadata": {
    "execution": {
     "iopub.execute_input": "2025-07-30T14:05:31.604493Z",
     "iopub.status.busy": "2025-07-30T14:05:31.603993Z",
     "iopub.status.idle": "2025-07-30T14:05:31.608701Z",
     "shell.execute_reply": "2025-07-30T14:05:31.607965Z"
    },
    "papermill": {
     "duration": 0.018164,
     "end_time": "2025-07-30T14:05:31.610060",
     "exception": false,
     "start_time": "2025-07-30T14:05:31.591896",
     "status": "completed"
    },
    "tags": []
   },
   "outputs": [],
   "source": [
    "if mode == \"keep-all\":\n",
    "    keep_mask = pd.Series(True, index=org_train.index)\n",
    "\n",
    "# org_train contains the original feature columns from features_org (in Simson)\n",
    "# features_org contains unprocessed features, for me X_train at beginning ???\n",
    "# For keep-all, creates a boolean Series (keep_mask) of all True, so no rows are removed.\n",
    "\n",
    "elif mode == \"drop-non-german\":\n",
    "    keep_mask = org_train[\"maxdeutsch1\"] == 1 # ??? what about missing values?\n",
    "\n",
    "else:\n",
    "    raise ValueError(f\"Unsupported mode for exclude_subgroups: {mode}\")\n"
   ]
  },
  {
   "cell_type": "code",
   "execution_count": 38,
   "id": "71651440",
   "metadata": {
    "execution": {
     "iopub.execute_input": "2025-07-30T14:05:31.634819Z",
     "iopub.status.busy": "2025-07-30T14:05:31.634340Z",
     "iopub.status.idle": "2025-07-30T14:05:31.639718Z",
     "shell.execute_reply": "2025-07-30T14:05:31.638752Z"
    },
    "papermill": {
     "duration": 0.020382,
     "end_time": "2025-07-30T14:05:31.642492",
     "exception": false,
     "start_time": "2025-07-30T14:05:31.622110",
     "status": "completed"
    },
    "tags": []
   },
   "outputs": [],
   "source": [
    "n_drop = (~keep_mask).sum() # Calculates how many rows are set to be dropped\n",
    "if n_drop > 0:\n",
    "    pct = n_drop / len(keep_mask) * 100\n",
    "    print(f\"Dropping {n_drop} rows ({pct:.2f}%) where mode='{mode}'\")"
   ]
  },
  {
   "cell_type": "code",
   "execution_count": 39,
   "id": "5fb8eee5",
   "metadata": {
    "execution": {
     "iopub.execute_input": "2025-07-30T14:05:31.669977Z",
     "iopub.status.busy": "2025-07-30T14:05:31.669378Z",
     "iopub.status.idle": "2025-07-30T14:05:31.675756Z",
     "shell.execute_reply": "2025-07-30T14:05:31.674996Z"
    },
    "papermill": {
     "duration": 0.020266,
     "end_time": "2025-07-30T14:05:31.677097",
     "exception": false,
     "start_time": "2025-07-30T14:05:31.656831",
     "status": "completed"
    },
    "tags": []
   },
   "outputs": [],
   "source": [
    "X_train = X_train[keep_mask]"
   ]
  },
  {
   "cell_type": "code",
   "execution_count": 40,
   "id": "b202bb3a",
   "metadata": {
    "execution": {
     "iopub.execute_input": "2025-07-30T14:05:31.703234Z",
     "iopub.status.busy": "2025-07-30T14:05:31.703003Z",
     "iopub.status.idle": "2025-07-30T14:05:31.708333Z",
     "shell.execute_reply": "2025-07-30T14:05:31.707394Z"
    },
    "papermill": {
     "duration": 0.020073,
     "end_time": "2025-07-30T14:05:31.709745",
     "exception": false,
     "start_time": "2025-07-30T14:05:31.689672",
     "status": "completed"
    },
    "tags": []
   },
   "outputs": [],
   "source": [
    "y_train = y_train[keep_mask]"
   ]
  },
  {
   "cell_type": "markdown",
   "id": "493e2ac3",
   "metadata": {
    "papermill": {
     "duration": 0.012784,
     "end_time": "2025-07-30T14:05:31.734919",
     "exception": false,
     "start_time": "2025-07-30T14:05:31.722135",
     "status": "completed"
    },
    "tags": []
   },
   "source": [
    "# Model Training"
   ]
  },
  {
   "cell_type": "code",
   "execution_count": 41,
   "id": "679e1268",
   "metadata": {
    "execution": {
     "iopub.execute_input": "2025-07-30T14:05:31.759877Z",
     "iopub.status.busy": "2025-07-30T14:05:31.759249Z",
     "iopub.status.idle": "2025-07-30T14:05:31.838347Z",
     "shell.execute_reply": "2025-07-30T14:05:31.837453Z"
    },
    "papermill": {
     "duration": 0.093288,
     "end_time": "2025-07-30T14:05:31.840061",
     "exception": false,
     "start_time": "2025-07-30T14:05:31.746773",
     "status": "completed"
    },
    "tags": []
   },
   "outputs": [],
   "source": [
    "from sklearn.linear_model import LogisticRegression\n",
    "from sklearn.ensemble import GradientBoostingClassifier, RandomForestClassifier\n",
    "\n",
    "if (universe[\"model\"] == \"logreg\"):\n",
    "    model = LogisticRegression() #penalty=\"none\") #, solver=\"newton-cg\", max_iter=1) # include random_state=19 ?\n",
    "elif (universe[\"model\"] == \"penalized_logreg\"):\n",
    "    model = LogisticRegression(penalty=\"l2\", C=1.0) #, solver=\"newton-cg\", max_iter=1)\n",
    "elif (universe[\"model\"] == \"rf\"):\n",
    "    model = RandomForestClassifier(n_estimators=100, n_jobs=-1)\n",
    "elif (universe[\"model\"] == \"gbm\"):\n",
    "    model = GradientBoostingClassifier()\n",
    "elif (universe[\"model\"] == \"elasticnet\"):\n",
    "    model = LogisticRegression(penalty = 'elasticnet', solver = 'saga', l1_ratio = 0.5, max_iter=5000) # which solver to use?\n",
    "else:\n",
    "    raise \"Unsupported universe.model\""
   ]
  },
  {
   "cell_type": "code",
   "execution_count": 42,
   "id": "0cc8f744",
   "metadata": {
    "execution": {
     "iopub.execute_input": "2025-07-30T14:05:31.866787Z",
     "iopub.status.busy": "2025-07-30T14:05:31.866168Z",
     "iopub.status.idle": "2025-07-30T14:05:31.871431Z",
     "shell.execute_reply": "2025-07-30T14:05:31.870682Z"
    },
    "papermill": {
     "duration": 0.018976,
     "end_time": "2025-07-30T14:05:31.872764",
     "exception": false,
     "start_time": "2025-07-30T14:05:31.853788",
     "status": "completed"
    },
    "tags": []
   },
   "outputs": [],
   "source": [
    "import numpy as np\n",
    "from sklearn.pipeline import Pipeline\n",
    "from sklearn.preprocessing import StandardScaler\n",
    "\n",
    "model = Pipeline([\n",
    "    #(\"continuous_processor\", continuous_processor),\n",
    "    #(\"categorical_preprocessor\", categorical_preprocessor),\n",
    "    (\"scale\", StandardScaler() if universe[\"scale\"] == \"scale\" else None), \n",
    "    (\"model\", model),\n",
    "])"
   ]
  },
  {
   "cell_type": "code",
   "execution_count": 43,
   "id": "9442c04d",
   "metadata": {
    "execution": {
     "iopub.execute_input": "2025-07-30T14:05:31.898131Z",
     "iopub.status.busy": "2025-07-30T14:05:31.897637Z",
     "iopub.status.idle": "2025-07-30T14:06:42.170145Z",
     "shell.execute_reply": "2025-07-30T14:06:42.168991Z"
    },
    "papermill": {
     "duration": 70.298812,
     "end_time": "2025-07-30T14:06:42.183815",
     "exception": false,
     "start_time": "2025-07-30T14:05:31.885003",
     "status": "completed"
    },
    "tags": []
   },
   "outputs": [
    {
     "data": {
      "text/html": [
       "<style>#sk-container-id-1 {color: black;background-color: white;}#sk-container-id-1 pre{padding: 0;}#sk-container-id-1 div.sk-toggleable {background-color: white;}#sk-container-id-1 label.sk-toggleable__label {cursor: pointer;display: block;width: 100%;margin-bottom: 0;padding: 0.3em;box-sizing: border-box;text-align: center;}#sk-container-id-1 label.sk-toggleable__label-arrow:before {content: \"▸\";float: left;margin-right: 0.25em;color: #696969;}#sk-container-id-1 label.sk-toggleable__label-arrow:hover:before {color: black;}#sk-container-id-1 div.sk-estimator:hover label.sk-toggleable__label-arrow:before {color: black;}#sk-container-id-1 div.sk-toggleable__content {max-height: 0;max-width: 0;overflow: hidden;text-align: left;background-color: #f0f8ff;}#sk-container-id-1 div.sk-toggleable__content pre {margin: 0.2em;color: black;border-radius: 0.25em;background-color: #f0f8ff;}#sk-container-id-1 input.sk-toggleable__control:checked~div.sk-toggleable__content {max-height: 200px;max-width: 100%;overflow: auto;}#sk-container-id-1 input.sk-toggleable__control:checked~label.sk-toggleable__label-arrow:before {content: \"▾\";}#sk-container-id-1 div.sk-estimator input.sk-toggleable__control:checked~label.sk-toggleable__label {background-color: #d4ebff;}#sk-container-id-1 div.sk-label input.sk-toggleable__control:checked~label.sk-toggleable__label {background-color: #d4ebff;}#sk-container-id-1 input.sk-hidden--visually {border: 0;clip: rect(1px 1px 1px 1px);clip: rect(1px, 1px, 1px, 1px);height: 1px;margin: -1px;overflow: hidden;padding: 0;position: absolute;width: 1px;}#sk-container-id-1 div.sk-estimator {font-family: monospace;background-color: #f0f8ff;border: 1px dotted black;border-radius: 0.25em;box-sizing: border-box;margin-bottom: 0.5em;}#sk-container-id-1 div.sk-estimator:hover {background-color: #d4ebff;}#sk-container-id-1 div.sk-parallel-item::after {content: \"\";width: 100%;border-bottom: 1px solid gray;flex-grow: 1;}#sk-container-id-1 div.sk-label:hover label.sk-toggleable__label {background-color: #d4ebff;}#sk-container-id-1 div.sk-serial::before {content: \"\";position: absolute;border-left: 1px solid gray;box-sizing: border-box;top: 0;bottom: 0;left: 50%;z-index: 0;}#sk-container-id-1 div.sk-serial {display: flex;flex-direction: column;align-items: center;background-color: white;padding-right: 0.2em;padding-left: 0.2em;position: relative;}#sk-container-id-1 div.sk-item {position: relative;z-index: 1;}#sk-container-id-1 div.sk-parallel {display: flex;align-items: stretch;justify-content: center;background-color: white;position: relative;}#sk-container-id-1 div.sk-item::before, #sk-container-id-1 div.sk-parallel-item::before {content: \"\";position: absolute;border-left: 1px solid gray;box-sizing: border-box;top: 0;bottom: 0;left: 50%;z-index: -1;}#sk-container-id-1 div.sk-parallel-item {display: flex;flex-direction: column;z-index: 1;position: relative;background-color: white;}#sk-container-id-1 div.sk-parallel-item:first-child::after {align-self: flex-end;width: 50%;}#sk-container-id-1 div.sk-parallel-item:last-child::after {align-self: flex-start;width: 50%;}#sk-container-id-1 div.sk-parallel-item:only-child::after {width: 0;}#sk-container-id-1 div.sk-dashed-wrapped {border: 1px dashed gray;margin: 0 0.4em 0.5em 0.4em;box-sizing: border-box;padding-bottom: 0.4em;background-color: white;}#sk-container-id-1 div.sk-label label {font-family: monospace;font-weight: bold;display: inline-block;line-height: 1.2em;}#sk-container-id-1 div.sk-label-container {text-align: center;}#sk-container-id-1 div.sk-container {/* jupyter's `normalize.less` sets `[hidden] { display: none; }` but bootstrap.min.css set `[hidden] { display: none !important; }` so we also need the `!important` here to be able to override the default hidden behavior on the sphinx rendered scikit-learn.org. See: https://github.com/scikit-learn/scikit-learn/issues/21755 */display: inline-block !important;position: relative;}#sk-container-id-1 div.sk-text-repr-fallback {display: none;}</style><div id=\"sk-container-id-1\" class=\"sk-top-container\"><div class=\"sk-text-repr-fallback\"><pre>Pipeline(steps=[(&#x27;scale&#x27;, None),\n",
       "                (&#x27;model&#x27;,\n",
       "                 LogisticRegression(l1_ratio=0.5, max_iter=5000,\n",
       "                                    penalty=&#x27;elasticnet&#x27;, solver=&#x27;saga&#x27;))])</pre><b>In a Jupyter environment, please rerun this cell to show the HTML representation or trust the notebook. <br />On GitHub, the HTML representation is unable to render, please try loading this page with nbviewer.org.</b></div><div class=\"sk-container\" hidden><div class=\"sk-item sk-dashed-wrapped\"><div class=\"sk-label-container\"><div class=\"sk-label sk-toggleable\"><input class=\"sk-toggleable__control sk-hidden--visually\" id=\"sk-estimator-id-1\" type=\"checkbox\" ><label for=\"sk-estimator-id-1\" class=\"sk-toggleable__label sk-toggleable__label-arrow\">Pipeline</label><div class=\"sk-toggleable__content\"><pre>Pipeline(steps=[(&#x27;scale&#x27;, None),\n",
       "                (&#x27;model&#x27;,\n",
       "                 LogisticRegression(l1_ratio=0.5, max_iter=5000,\n",
       "                                    penalty=&#x27;elasticnet&#x27;, solver=&#x27;saga&#x27;))])</pre></div></div></div><div class=\"sk-serial\"><div class=\"sk-item\"><div class=\"sk-estimator sk-toggleable\"><input class=\"sk-toggleable__control sk-hidden--visually\" id=\"sk-estimator-id-2\" type=\"checkbox\" ><label for=\"sk-estimator-id-2\" class=\"sk-toggleable__label sk-toggleable__label-arrow\">None</label><div class=\"sk-toggleable__content\"><pre>None</pre></div></div></div><div class=\"sk-item\"><div class=\"sk-estimator sk-toggleable\"><input class=\"sk-toggleable__control sk-hidden--visually\" id=\"sk-estimator-id-3\" type=\"checkbox\" ><label for=\"sk-estimator-id-3\" class=\"sk-toggleable__label sk-toggleable__label-arrow\">LogisticRegression</label><div class=\"sk-toggleable__content\"><pre>LogisticRegression(l1_ratio=0.5, max_iter=5000, penalty=&#x27;elasticnet&#x27;,\n",
       "                   solver=&#x27;saga&#x27;)</pre></div></div></div></div></div></div></div>"
      ],
      "text/plain": [
       "Pipeline(steps=[('scale', None),\n",
       "                ('model',\n",
       "                 LogisticRegression(l1_ratio=0.5, max_iter=5000,\n",
       "                                    penalty='elasticnet', solver='saga'))])"
      ]
     },
     "execution_count": 43,
     "metadata": {},
     "output_type": "execute_result"
    }
   ],
   "source": [
    "model.fit(X_train, y_train.values.ravel())"
   ]
  },
  {
   "cell_type": "code",
   "execution_count": 44,
   "id": "af59f8c0",
   "metadata": {
    "execution": {
     "iopub.execute_input": "2025-07-30T14:06:42.211197Z",
     "iopub.status.busy": "2025-07-30T14:06:42.210676Z",
     "iopub.status.idle": "2025-07-30T14:06:42.215613Z",
     "shell.execute_reply": "2025-07-30T14:06:42.214931Z"
    },
    "papermill": {
     "duration": 0.020501,
     "end_time": "2025-07-30T14:06:42.217003",
     "exception": false,
     "start_time": "2025-07-30T14:06:42.196502",
     "status": "completed"
    },
    "tags": []
   },
   "outputs": [],
   "source": [
    "from fairness_multiverse.universe import predict_w_threshold"
   ]
  },
  {
   "cell_type": "code",
   "execution_count": 45,
   "id": "a7cf2e16",
   "metadata": {
    "execution": {
     "iopub.execute_input": "2025-07-30T14:06:42.244438Z",
     "iopub.status.busy": "2025-07-30T14:06:42.243721Z",
     "iopub.status.idle": "2025-07-30T14:06:42.336565Z",
     "shell.execute_reply": "2025-07-30T14:06:42.335490Z"
    },
    "papermill": {
     "duration": 0.107488,
     "end_time": "2025-07-30T14:06:42.337811",
     "exception": false,
     "start_time": "2025-07-30T14:06:42.230323",
     "status": "completed"
    },
    "tags": []
   },
   "outputs": [
    {
     "data": {
      "text/plain": [
       "0.8605729573068777"
      ]
     },
     "execution_count": 45,
     "metadata": {},
     "output_type": "execute_result"
    }
   ],
   "source": [
    "probs_test = model.predict_proba(X_test)\n",
    "\n",
    "'''\n",
    "Below code returns a boolean array (or binary 0/1 array depending on how it’s used) where each element \n",
    "is True if the probability of class 1 is greater than or equal to the threshold, and False otherwise.\n",
    "'''\n",
    "y_pred_default = predict_w_threshold(probs_test, 0.5)\n",
    "\n",
    "from sklearn.metrics import accuracy_score\n",
    "\n",
    "# Naive prediction\n",
    "accuracy_score(y_true = y_true, y_pred = y_pred_default)"
   ]
  },
  {
   "cell_type": "code",
   "execution_count": 46,
   "id": "081964c3",
   "metadata": {
    "execution": {
     "iopub.execute_input": "2025-07-30T14:06:42.364385Z",
     "iopub.status.busy": "2025-07-30T14:06:42.363984Z",
     "iopub.status.idle": "2025-07-30T14:06:42.439520Z",
     "shell.execute_reply": "2025-07-30T14:06:42.438514Z"
    },
    "papermill": {
     "duration": 0.090488,
     "end_time": "2025-07-30T14:06:42.441281",
     "exception": false,
     "start_time": "2025-07-30T14:06:42.350793",
     "status": "completed"
    },
    "tags": []
   },
   "outputs": [
    {
     "data": {
      "text/plain": [
       "array([0, 0, 0, ..., 0, 0, 0])"
      ]
     },
     "execution_count": 46,
     "metadata": {},
     "output_type": "execute_result"
    }
   ],
   "source": [
    "model.predict(X_test)"
   ]
  },
  {
   "cell_type": "markdown",
   "id": "56c9705b",
   "metadata": {
    "papermill": {
     "duration": 0.024523,
     "end_time": "2025-07-30T14:06:42.491839",
     "exception": false,
     "start_time": "2025-07-30T14:06:42.467316",
     "status": "completed"
    },
    "tags": []
   },
   "source": [
    "# Conformal Prediction"
   ]
  },
  {
   "cell_type": "code",
   "execution_count": 47,
   "id": "160ec6ff",
   "metadata": {
    "execution": {
     "iopub.execute_input": "2025-07-30T14:06:42.545618Z",
     "iopub.status.busy": "2025-07-30T14:06:42.544953Z",
     "iopub.status.idle": "2025-07-30T14:06:42.550205Z",
     "shell.execute_reply": "2025-07-30T14:06:42.549257Z"
    },
    "papermill": {
     "duration": 0.033887,
     "end_time": "2025-07-30T14:06:42.551869",
     "exception": false,
     "start_time": "2025-07-30T14:06:42.517982",
     "status": "completed"
    },
    "tags": []
   },
   "outputs": [],
   "source": [
    "# Miscoverage level for conformal prediction (10% allowed error rate => 90% target coverage)\n",
    "alpha = 0.1"
   ]
  },
  {
   "cell_type": "code",
   "execution_count": 48,
   "id": "eadf4555-3dd3-440e-8e35-f82a4ad9f855",
   "metadata": {
    "execution": {
     "iopub.execute_input": "2025-07-30T14:06:42.606367Z",
     "iopub.status.busy": "2025-07-30T14:06:42.605662Z",
     "iopub.status.idle": "2025-07-30T14:06:42.696438Z",
     "shell.execute_reply": "2025-07-30T14:06:42.695395Z"
    },
    "papermill": {
     "duration": 0.118896,
     "end_time": "2025-07-30T14:06:42.698083",
     "exception": false,
     "start_time": "2025-07-30T14:06:42.579187",
     "status": "completed"
    },
    "tags": []
   },
   "outputs": [],
   "source": [
    "probs_calib = model.predict_proba(X_calib)"
   ]
  },
  {
   "cell_type": "code",
   "execution_count": 49,
   "id": "2ed93547-6d5d-4983-9b36-1ecb300da49a",
   "metadata": {
    "execution": {
     "iopub.execute_input": "2025-07-30T14:06:42.750570Z",
     "iopub.status.busy": "2025-07-30T14:06:42.749533Z",
     "iopub.status.idle": "2025-07-30T14:06:42.756545Z",
     "shell.execute_reply": "2025-07-30T14:06:42.755455Z"
    },
    "papermill": {
     "duration": 0.035376,
     "end_time": "2025-07-30T14:06:42.758223",
     "exception": false,
     "start_time": "2025-07-30T14:06:42.722847",
     "status": "completed"
    },
    "tags": []
   },
   "outputs": [],
   "source": [
    "y_calib = y_calib.values.ravel().astype(int)"
   ]
  },
  {
   "cell_type": "code",
   "execution_count": 50,
   "id": "65d1320d-f588-4b38-9072-62af1ae97f7d",
   "metadata": {
    "execution": {
     "iopub.execute_input": "2025-07-30T14:06:42.811100Z",
     "iopub.status.busy": "2025-07-30T14:06:42.810199Z",
     "iopub.status.idle": "2025-07-30T14:06:42.819672Z",
     "shell.execute_reply": "2025-07-30T14:06:42.818734Z"
    },
    "papermill": {
     "duration": 0.037452,
     "end_time": "2025-07-30T14:06:42.821335",
     "exception": false,
     "start_time": "2025-07-30T14:06:42.783883",
     "status": "completed"
    },
    "tags": []
   },
   "outputs": [],
   "source": [
    "from fairness_multiverse.conformal import compute_nc_scores\n",
    "\n",
    "# Compute nonconformity scores on calibration set (1 - probability of true class)\n",
    "nc_scores = compute_nc_scores(probs_calib, y_calib)"
   ]
  },
  {
   "cell_type": "code",
   "execution_count": 51,
   "id": "df3b8ca3-53b7-43d5-9667-7c85da7aeda2",
   "metadata": {
    "execution": {
     "iopub.execute_input": "2025-07-30T14:06:42.874518Z",
     "iopub.status.busy": "2025-07-30T14:06:42.874006Z",
     "iopub.status.idle": "2025-07-30T14:06:42.882009Z",
     "shell.execute_reply": "2025-07-30T14:06:42.881088Z"
    },
    "papermill": {
     "duration": 0.036501,
     "end_time": "2025-07-30T14:06:42.883734",
     "exception": false,
     "start_time": "2025-07-30T14:06:42.847233",
     "status": "completed"
    },
    "tags": []
   },
   "outputs": [],
   "source": [
    "from fairness_multiverse.conformal import find_threshold\n",
    "\n",
    "# Find conformal threshold q_hat for the given alpha (split conformal method)\n",
    "q_hat = find_threshold(nc_scores, alpha)"
   ]
  },
  {
   "cell_type": "code",
   "execution_count": 52,
   "id": "4d29e6c1-0ef6-4aa4-b8fe-4fe79b0d033a",
   "metadata": {
    "execution": {
     "iopub.execute_input": "2025-07-30T14:06:42.939197Z",
     "iopub.status.busy": "2025-07-30T14:06:42.938275Z",
     "iopub.status.idle": "2025-07-30T14:06:42.945773Z",
     "shell.execute_reply": "2025-07-30T14:06:42.944839Z"
    },
    "papermill": {
     "duration": 0.036959,
     "end_time": "2025-07-30T14:06:42.947351",
     "exception": false,
     "start_time": "2025-07-30T14:06:42.910392",
     "status": "completed"
    },
    "tags": []
   },
   "outputs": [
    {
     "data": {
      "text/plain": [
       "0.6633128665550251"
      ]
     },
     "execution_count": 52,
     "metadata": {},
     "output_type": "execute_result"
    }
   ],
   "source": [
    "q_hat"
   ]
  },
  {
   "cell_type": "code",
   "execution_count": 53,
   "id": "92460794-cdac-4be2-ba28-f28c0515a6fb",
   "metadata": {
    "execution": {
     "iopub.execute_input": "2025-07-30T14:06:42.986936Z",
     "iopub.status.busy": "2025-07-30T14:06:42.986600Z",
     "iopub.status.idle": "2025-07-30T14:06:43.695474Z",
     "shell.execute_reply": "2025-07-30T14:06:43.694477Z"
    },
    "papermill": {
     "duration": 0.724318,
     "end_time": "2025-07-30T14:06:43.697076",
     "exception": false,
     "start_time": "2025-07-30T14:06:42.972758",
     "status": "completed"
    },
    "tags": []
   },
   "outputs": [],
   "source": [
    "from fairness_multiverse.conformal import predict_conformal_sets\n",
    "\n",
    "# Generate prediction sets for each test example\n",
    "pred_sets = predict_conformal_sets(model, X_test, q_hat)"
   ]
  },
  {
   "cell_type": "code",
   "execution_count": 54,
   "id": "d90c9a65-e6db-4f5d-80cd-e68fb7e46829",
   "metadata": {
    "execution": {
     "iopub.execute_input": "2025-07-30T14:06:43.746686Z",
     "iopub.status.busy": "2025-07-30T14:06:43.746236Z",
     "iopub.status.idle": "2025-07-30T14:06:43.752067Z",
     "shell.execute_reply": "2025-07-30T14:06:43.751113Z"
    },
    "papermill": {
     "duration": 0.034204,
     "end_time": "2025-07-30T14:06:43.753542",
     "exception": false,
     "start_time": "2025-07-30T14:06:43.719338",
     "status": "completed"
    },
    "tags": []
   },
   "outputs": [],
   "source": [
    "y_true = y_true.squeeze()"
   ]
  },
  {
   "cell_type": "code",
   "execution_count": 55,
   "id": "3a58a54a-1e68-46b9-927a-df01f18aebc8",
   "metadata": {
    "execution": {
     "iopub.execute_input": "2025-07-30T14:06:43.805906Z",
     "iopub.status.busy": "2025-07-30T14:06:43.805425Z",
     "iopub.status.idle": "2025-07-30T14:06:44.728906Z",
     "shell.execute_reply": "2025-07-30T14:06:44.727905Z"
    },
    "papermill": {
     "duration": 0.951487,
     "end_time": "2025-07-30T14:06:44.730410",
     "exception": false,
     "start_time": "2025-07-30T14:06:43.778923",
     "status": "completed"
    },
    "tags": []
   },
   "outputs": [],
   "source": [
    "from fairness_multiverse.conformal import evaluate_sets\n",
    "\n",
    "# Evaluate coverage and average set size on test data\n",
    "metrics = evaluate_sets(pred_sets, y_true)"
   ]
  },
  {
   "cell_type": "markdown",
   "id": "2b569c12-9aaa-4c88-98c9-bbcd0cf3ebb8",
   "metadata": {
    "papermill": {
     "duration": 0.026032,
     "end_time": "2025-07-30T14:06:44.781677",
     "exception": false,
     "start_time": "2025-07-30T14:06:44.755645",
     "status": "completed"
    },
    "tags": []
   },
   "source": [
    "# CP Metrics"
   ]
  },
  {
   "cell_type": "code",
   "execution_count": 56,
   "id": "5ce0a5cb-201f-45a0-ade5-94c7f0bd6095",
   "metadata": {
    "execution": {
     "iopub.execute_input": "2025-07-30T14:06:44.834904Z",
     "iopub.status.busy": "2025-07-30T14:06:44.833972Z",
     "iopub.status.idle": "2025-07-30T14:06:44.842502Z",
     "shell.execute_reply": "2025-07-30T14:06:44.841544Z"
    },
    "papermill": {
     "duration": 0.037755,
     "end_time": "2025-07-30T14:06:44.843980",
     "exception": false,
     "start_time": "2025-07-30T14:06:44.806225",
     "status": "completed"
    },
    "tags": []
   },
   "outputs": [
    {
     "data": {
      "text/plain": [
       "{'coverage': 0.9140564039683424, 'avg_size': 1.2494370750195074}"
      ]
     },
     "execution_count": 56,
     "metadata": {},
     "output_type": "execute_result"
    }
   ],
   "source": [
    "metrics"
   ]
  },
  {
   "cell_type": "code",
   "execution_count": 57,
   "id": "9b9a838d-31c9-430b-ae14-12baee460d17",
   "metadata": {
    "execution": {
     "iopub.execute_input": "2025-07-30T14:06:44.898087Z",
     "iopub.status.busy": "2025-07-30T14:06:44.897141Z",
     "iopub.status.idle": "2025-07-30T14:06:44.903934Z",
     "shell.execute_reply": "2025-07-30T14:06:44.902980Z"
    },
    "papermill": {
     "duration": 0.036082,
     "end_time": "2025-07-30T14:06:44.905782",
     "exception": false,
     "start_time": "2025-07-30T14:06:44.869700",
     "status": "completed"
    },
    "tags": []
   },
   "outputs": [],
   "source": [
    "example_universe = universe.copy()\n",
    "universe_training_size = example_universe.get(\"training_size\")\n",
    "universe_scale = example_universe.get(\"scale\")\n",
    "universe_model = example_universe.get(\"model\")\n",
    "universe_exclude_features = example_universe.get(\"exclude_features\")\n",
    "universe_exclude_subgroups = example_universe.get(\"exclude_subgroups\")"
   ]
  },
  {
   "cell_type": "code",
   "execution_count": 58,
   "id": "f4b6a8ac-9dc0-4245-8a91-5b3b5999c4f9",
   "metadata": {
    "execution": {
     "iopub.execute_input": "2025-07-30T14:06:44.960318Z",
     "iopub.status.busy": "2025-07-30T14:06:44.959659Z",
     "iopub.status.idle": "2025-07-30T14:06:44.966051Z",
     "shell.execute_reply": "2025-07-30T14:06:44.965079Z"
    },
    "papermill": {
     "duration": 0.034866,
     "end_time": "2025-07-30T14:06:44.967657",
     "exception": false,
     "start_time": "2025-07-30T14:06:44.932791",
     "status": "completed"
    },
    "tags": []
   },
   "outputs": [],
   "source": [
    "cp_metrics_dict = {\n",
    "    \"universe_id\": [universe_id],\n",
    "    \"universe_training_size\": [universe_training_size],\n",
    "    \"universe_scale\": [universe_scale],\n",
    "    \"universe_model\": [universe_model],\n",
    "    \"universe_exclude_features\": [universe_exclude_features],\n",
    "    \"universe_exclude_subgroups\": [universe_exclude_subgroups],\n",
    "    \"q_hat\": [q_hat],\n",
    "    \"coverage\": [metrics[\"coverage\"]],\n",
    "    \"avg_size\": [metrics[\"avg_size\"]],\n",
    "}"
   ]
  },
  {
   "cell_type": "code",
   "execution_count": 59,
   "id": "908acbb1-0371-4915-85ca-3fa520d2efe2",
   "metadata": {
    "execution": {
     "iopub.execute_input": "2025-07-30T14:06:45.022844Z",
     "iopub.status.busy": "2025-07-30T14:06:45.022120Z",
     "iopub.status.idle": "2025-07-30T14:06:45.030322Z",
     "shell.execute_reply": "2025-07-30T14:06:45.029334Z"
    },
    "papermill": {
     "duration": 0.036701,
     "end_time": "2025-07-30T14:06:45.031983",
     "exception": false,
     "start_time": "2025-07-30T14:06:44.995282",
     "status": "completed"
    },
    "tags": []
   },
   "outputs": [
    {
     "data": {
      "text/plain": [
       "{'universe_id': ['f68909a6592bb8d2b4feff40a95ece34'],\n",
       " 'universe_training_size': ['5k'],\n",
       " 'universe_scale': ['do-not-scale'],\n",
       " 'universe_model': ['elasticnet'],\n",
       " 'universe_exclude_features': ['age'],\n",
       " 'universe_exclude_subgroups': ['keep-all'],\n",
       " 'q_hat': [0.6633128665550251],\n",
       " 'coverage': [0.9140564039683424],\n",
       " 'avg_size': [1.2494370750195074]}"
      ]
     },
     "execution_count": 59,
     "metadata": {},
     "output_type": "execute_result"
    }
   ],
   "source": [
    "cp_metrics_dict"
   ]
  },
  {
   "cell_type": "code",
   "execution_count": 60,
   "id": "33007efc-14e9-4ec6-97ac-56a455c82265",
   "metadata": {
    "execution": {
     "iopub.execute_input": "2025-07-30T14:06:45.087668Z",
     "iopub.status.busy": "2025-07-30T14:06:45.086823Z",
     "iopub.status.idle": "2025-07-30T14:06:45.093698Z",
     "shell.execute_reply": "2025-07-30T14:06:45.092671Z"
    },
    "papermill": {
     "duration": 0.035682,
     "end_time": "2025-07-30T14:06:45.095428",
     "exception": false,
     "start_time": "2025-07-30T14:06:45.059746",
     "status": "completed"
    },
    "tags": []
   },
   "outputs": [],
   "source": [
    "cp_metrics_df = pd.DataFrame(cp_metrics_dict)"
   ]
  },
  {
   "cell_type": "code",
   "execution_count": 61,
   "id": "db12611b-57b2-4910-b9d0-355adfd6e7bf",
   "metadata": {
    "execution": {
     "iopub.execute_input": "2025-07-30T14:06:45.150977Z",
     "iopub.status.busy": "2025-07-30T14:06:45.150027Z",
     "iopub.status.idle": "2025-07-30T14:06:45.168428Z",
     "shell.execute_reply": "2025-07-30T14:06:45.167417Z"
    },
    "papermill": {
     "duration": 0.048669,
     "end_time": "2025-07-30T14:06:45.170202",
     "exception": false,
     "start_time": "2025-07-30T14:06:45.121533",
     "status": "completed"
    },
    "tags": []
   },
   "outputs": [
    {
     "data": {
      "text/html": [
       "<div>\n",
       "<style scoped>\n",
       "    .dataframe tbody tr th:only-of-type {\n",
       "        vertical-align: middle;\n",
       "    }\n",
       "\n",
       "    .dataframe tbody tr th {\n",
       "        vertical-align: top;\n",
       "    }\n",
       "\n",
       "    .dataframe thead th {\n",
       "        text-align: right;\n",
       "    }\n",
       "</style>\n",
       "<table border=\"1\" class=\"dataframe\">\n",
       "  <thead>\n",
       "    <tr style=\"text-align: right;\">\n",
       "      <th></th>\n",
       "      <th>universe_id</th>\n",
       "      <th>universe_training_size</th>\n",
       "      <th>universe_scale</th>\n",
       "      <th>universe_model</th>\n",
       "      <th>universe_exclude_features</th>\n",
       "      <th>universe_exclude_subgroups</th>\n",
       "      <th>q_hat</th>\n",
       "      <th>coverage</th>\n",
       "      <th>avg_size</th>\n",
       "    </tr>\n",
       "  </thead>\n",
       "  <tbody>\n",
       "    <tr>\n",
       "      <th>0</th>\n",
       "      <td>f68909a6592bb8d2b4feff40a95ece34</td>\n",
       "      <td>5k</td>\n",
       "      <td>do-not-scale</td>\n",
       "      <td>elasticnet</td>\n",
       "      <td>age</td>\n",
       "      <td>keep-all</td>\n",
       "      <td>0.663313</td>\n",
       "      <td>0.914056</td>\n",
       "      <td>1.249437</td>\n",
       "    </tr>\n",
       "  </tbody>\n",
       "</table>\n",
       "</div>"
      ],
      "text/plain": [
       "                        universe_id universe_training_size universe_scale  \\\n",
       "0  f68909a6592bb8d2b4feff40a95ece34                     5k   do-not-scale   \n",
       "\n",
       "  universe_model universe_exclude_features universe_exclude_subgroups  \\\n",
       "0     elasticnet                       age                   keep-all   \n",
       "\n",
       "      q_hat  coverage  avg_size  \n",
       "0  0.663313  0.914056  1.249437  "
      ]
     },
     "execution_count": 61,
     "metadata": {},
     "output_type": "execute_result"
    }
   ],
   "source": [
    "cp_metrics_df"
   ]
  },
  {
   "cell_type": "code",
   "execution_count": 62,
   "id": "b7fbde55-a0a1-47e4-9af6-fe4a17fa8c61",
   "metadata": {
    "execution": {
     "iopub.execute_input": "2025-07-30T14:06:45.226409Z",
     "iopub.status.busy": "2025-07-30T14:06:45.225535Z",
     "iopub.status.idle": "2025-07-30T14:06:45.231001Z",
     "shell.execute_reply": "2025-07-30T14:06:45.230095Z"
    },
    "papermill": {
     "duration": 0.035973,
     "end_time": "2025-07-30T14:06:45.232667",
     "exception": false,
     "start_time": "2025-07-30T14:06:45.196694",
     "status": "completed"
    },
    "tags": []
   },
   "outputs": [],
   "source": [
    "# Conditional Coverage & looking at subgroups"
   ]
  },
  {
   "cell_type": "code",
   "execution_count": 63,
   "id": "027ae886-68dd-4141-96c7-805a5450e1ef",
   "metadata": {
    "execution": {
     "iopub.execute_input": "2025-07-30T14:06:45.288291Z",
     "iopub.status.busy": "2025-07-30T14:06:45.287314Z",
     "iopub.status.idle": "2025-07-30T14:06:45.571124Z",
     "shell.execute_reply": "2025-07-30T14:06:45.570158Z"
    },
    "papermill": {
     "duration": 0.314006,
     "end_time": "2025-07-30T14:06:45.573238",
     "exception": false,
     "start_time": "2025-07-30T14:06:45.259232",
     "status": "completed"
    },
    "tags": []
   },
   "outputs": [],
   "source": [
    "from fairness_multiverse.conformal import build_cp_groups\n",
    "\n",
    "cp_groups_df = build_cp_groups(pred_sets, y_true, X_test.index, org_test)\n",
    "#needs universe_id and setting"
   ]
  },
  {
   "cell_type": "code",
   "execution_count": 64,
   "id": "01d5802c-663a-4d1f-9d69-e036faaffbf7",
   "metadata": {
    "execution": {
     "iopub.execute_input": "2025-07-30T14:06:45.629351Z",
     "iopub.status.busy": "2025-07-30T14:06:45.628415Z",
     "iopub.status.idle": "2025-07-30T14:06:45.633827Z",
     "shell.execute_reply": "2025-07-30T14:06:45.632890Z"
    },
    "papermill": {
     "duration": 0.034605,
     "end_time": "2025-07-30T14:06:45.635402",
     "exception": false,
     "start_time": "2025-07-30T14:06:45.600797",
     "status": "completed"
    },
    "tags": []
   },
   "outputs": [],
   "source": [
    "#delete\n",
    "#cp_groups_df"
   ]
  },
  {
   "cell_type": "code",
   "execution_count": 65,
   "id": "fa424af1-d1eb-443d-b717-2d279ada8408",
   "metadata": {
    "execution": {
     "iopub.execute_input": "2025-07-30T14:06:45.691954Z",
     "iopub.status.busy": "2025-07-30T14:06:45.691362Z",
     "iopub.status.idle": "2025-07-30T14:06:45.696506Z",
     "shell.execute_reply": "2025-07-30T14:06:45.695535Z"
    },
    "papermill": {
     "duration": 0.034671,
     "end_time": "2025-07-30T14:06:45.698256",
     "exception": false,
     "start_time": "2025-07-30T14:06:45.663585",
     "status": "completed"
    },
    "tags": []
   },
   "outputs": [],
   "source": [
    "#delete\n",
    "#percentage = (cp_groups_df['nongerman_female'] == 1).mean() * 100\n",
    "#print(percentage)\n"
   ]
  },
  {
   "cell_type": "code",
   "execution_count": 66,
   "id": "6cbdab96-b2b2-45af-ad54-d0516db2e28d",
   "metadata": {
    "execution": {
     "iopub.execute_input": "2025-07-30T14:06:45.756264Z",
     "iopub.status.busy": "2025-07-30T14:06:45.755588Z",
     "iopub.status.idle": "2025-07-30T14:06:47.429251Z",
     "shell.execute_reply": "2025-07-30T14:06:47.428295Z"
    },
    "papermill": {
     "duration": 1.704202,
     "end_time": "2025-07-30T14:06:47.431058",
     "exception": false,
     "start_time": "2025-07-30T14:06:45.726856",
     "status": "completed"
    },
    "tags": []
   },
   "outputs": [],
   "source": [
    "# Define covered = 1 if true_label is in the predicted set\n",
    "cp_groups_df['covered'] = cp_groups_df.apply(\n",
    "    lambda r: int(r['true_label'] in r['pred_set']),\n",
    "    axis=1\n",
    ")"
   ]
  },
  {
   "cell_type": "code",
   "execution_count": 67,
   "id": "338ff529-1a6b-4b87-a931-8e4788d52aad",
   "metadata": {
    "execution": {
     "iopub.execute_input": "2025-07-30T14:06:47.485927Z",
     "iopub.status.busy": "2025-07-30T14:06:47.485427Z",
     "iopub.status.idle": "2025-07-30T14:06:47.490382Z",
     "shell.execute_reply": "2025-07-30T14:06:47.489518Z"
    },
    "papermill": {
     "duration": 0.035766,
     "end_time": "2025-07-30T14:06:47.492097",
     "exception": false,
     "start_time": "2025-07-30T14:06:47.456331",
     "status": "completed"
    },
    "tags": []
   },
   "outputs": [],
   "source": [
    "#cp_groups_df"
   ]
  },
  {
   "cell_type": "code",
   "execution_count": 68,
   "id": "90032e27-66df-4540-9169-4e89cfbaa758",
   "metadata": {
    "execution": {
     "iopub.execute_input": "2025-07-30T14:06:47.546460Z",
     "iopub.status.busy": "2025-07-30T14:06:47.545959Z",
     "iopub.status.idle": "2025-07-30T14:06:47.557604Z",
     "shell.execute_reply": "2025-07-30T14:06:47.556578Z"
    },
    "papermill": {
     "duration": 0.041518,
     "end_time": "2025-07-30T14:06:47.559452",
     "exception": false,
     "start_time": "2025-07-30T14:06:47.517934",
     "status": "completed"
    },
    "tags": []
   },
   "outputs": [],
   "source": [
    "subgroups = ['frau1','nongerman','nongerman_male','nongerman_female']\n",
    "\n",
    "# Conditional coverage for subgroup==1\n",
    "cond_coverage = {\n",
    "    g: cp_groups_df.loc[cp_groups_df[g]==1, 'covered'].mean()\n",
    "    for g in subgroups\n",
    "}"
   ]
  },
  {
   "cell_type": "code",
   "execution_count": 69,
   "id": "1e348fb1-b9c3-45bc-ba23-f016827a7e0d",
   "metadata": {
    "execution": {
     "iopub.execute_input": "2025-07-30T14:06:47.613670Z",
     "iopub.status.busy": "2025-07-30T14:06:47.612954Z",
     "iopub.status.idle": "2025-07-30T14:06:47.620880Z",
     "shell.execute_reply": "2025-07-30T14:06:47.619941Z"
    },
    "papermill": {
     "duration": 0.036342,
     "end_time": "2025-07-30T14:06:47.622402",
     "exception": false,
     "start_time": "2025-07-30T14:06:47.586060",
     "status": "completed"
    },
    "tags": []
   },
   "outputs": [
    {
     "data": {
      "text/plain": [
       "{'frau1': 0.9118749157568405,\n",
       " 'nongerman': 0.9614326615393252,\n",
       " 'nongerman_male': 0.9677564622174187,\n",
       " 'nongerman_female': 0.9509687034277198}"
      ]
     },
     "execution_count": 69,
     "metadata": {},
     "output_type": "execute_result"
    }
   ],
   "source": [
    "cond_coverage"
   ]
  },
  {
   "cell_type": "code",
   "execution_count": 70,
   "id": "f5093324-c3dd-4d63-bc4c-8d945e5c8bbb",
   "metadata": {
    "execution": {
     "iopub.execute_input": "2025-07-30T14:06:47.676754Z",
     "iopub.status.busy": "2025-07-30T14:06:47.676008Z",
     "iopub.status.idle": "2025-07-30T14:06:47.684242Z",
     "shell.execute_reply": "2025-07-30T14:06:47.683230Z"
    },
    "papermill": {
     "duration": 0.037136,
     "end_time": "2025-07-30T14:06:47.685857",
     "exception": false,
     "start_time": "2025-07-30T14:06:47.648721",
     "status": "completed"
    },
    "tags": []
   },
   "outputs": [],
   "source": [
    "for subgroup, cov in cond_coverage.items():\n",
    "    cp_metrics_df[f\"cov_{subgroup}\"] = cov"
   ]
  },
  {
   "cell_type": "code",
   "execution_count": 71,
   "id": "6e872e10-dbe5-49e8-b554-5030c98ff75d",
   "metadata": {
    "execution": {
     "iopub.execute_input": "2025-07-30T14:06:47.739277Z",
     "iopub.status.busy": "2025-07-30T14:06:47.738801Z",
     "iopub.status.idle": "2025-07-30T14:06:47.758229Z",
     "shell.execute_reply": "2025-07-30T14:06:47.757281Z"
    },
    "papermill": {
     "duration": 0.048113,
     "end_time": "2025-07-30T14:06:47.760184",
     "exception": false,
     "start_time": "2025-07-30T14:06:47.712071",
     "status": "completed"
    },
    "tags": []
   },
   "outputs": [
    {
     "data": {
      "text/html": [
       "<div>\n",
       "<style scoped>\n",
       "    .dataframe tbody tr th:only-of-type {\n",
       "        vertical-align: middle;\n",
       "    }\n",
       "\n",
       "    .dataframe tbody tr th {\n",
       "        vertical-align: top;\n",
       "    }\n",
       "\n",
       "    .dataframe thead th {\n",
       "        text-align: right;\n",
       "    }\n",
       "</style>\n",
       "<table border=\"1\" class=\"dataframe\">\n",
       "  <thead>\n",
       "    <tr style=\"text-align: right;\">\n",
       "      <th></th>\n",
       "      <th>universe_id</th>\n",
       "      <th>universe_training_size</th>\n",
       "      <th>universe_scale</th>\n",
       "      <th>universe_model</th>\n",
       "      <th>universe_exclude_features</th>\n",
       "      <th>universe_exclude_subgroups</th>\n",
       "      <th>q_hat</th>\n",
       "      <th>coverage</th>\n",
       "      <th>avg_size</th>\n",
       "      <th>cov_frau1</th>\n",
       "      <th>cov_nongerman</th>\n",
       "      <th>cov_nongerman_male</th>\n",
       "      <th>cov_nongerman_female</th>\n",
       "    </tr>\n",
       "  </thead>\n",
       "  <tbody>\n",
       "    <tr>\n",
       "      <th>0</th>\n",
       "      <td>f68909a6592bb8d2b4feff40a95ece34</td>\n",
       "      <td>5k</td>\n",
       "      <td>do-not-scale</td>\n",
       "      <td>elasticnet</td>\n",
       "      <td>age</td>\n",
       "      <td>keep-all</td>\n",
       "      <td>0.663313</td>\n",
       "      <td>0.914056</td>\n",
       "      <td>1.249437</td>\n",
       "      <td>0.911875</td>\n",
       "      <td>0.961433</td>\n",
       "      <td>0.967756</td>\n",
       "      <td>0.950969</td>\n",
       "    </tr>\n",
       "  </tbody>\n",
       "</table>\n",
       "</div>"
      ],
      "text/plain": [
       "                        universe_id universe_training_size universe_scale  \\\n",
       "0  f68909a6592bb8d2b4feff40a95ece34                     5k   do-not-scale   \n",
       "\n",
       "  universe_model universe_exclude_features universe_exclude_subgroups  \\\n",
       "0     elasticnet                       age                   keep-all   \n",
       "\n",
       "      q_hat  coverage  avg_size  cov_frau1  cov_nongerman  cov_nongerman_male  \\\n",
       "0  0.663313  0.914056  1.249437   0.911875       0.961433            0.967756   \n",
       "\n",
       "   cov_nongerman_female  \n",
       "0              0.950969  "
      ]
     },
     "execution_count": 71,
     "metadata": {},
     "output_type": "execute_result"
    }
   ],
   "source": [
    "cp_metrics_df"
   ]
  },
  {
   "cell_type": "markdown",
   "id": "33774451",
   "metadata": {
    "papermill": {
     "duration": 0.027673,
     "end_time": "2025-07-30T14:06:47.817520",
     "exception": false,
     "start_time": "2025-07-30T14:06:47.789847",
     "status": "completed"
    },
    "tags": []
   },
   "source": [
    "# (Fairness) Metrics"
   ]
  },
  {
   "cell_type": "code",
   "execution_count": 72,
   "id": "debc5d62",
   "metadata": {
    "execution": {
     "iopub.execute_input": "2025-07-30T14:06:47.877300Z",
     "iopub.status.busy": "2025-07-30T14:06:47.876804Z",
     "iopub.status.idle": "2025-07-30T14:06:47.898349Z",
     "shell.execute_reply": "2025-07-30T14:06:47.897402Z"
    },
    "papermill": {
     "duration": 0.054657,
     "end_time": "2025-07-30T14:06:47.900388",
     "exception": false,
     "start_time": "2025-07-30T14:06:47.845731",
     "status": "completed"
    },
    "tags": []
   },
   "outputs": [],
   "source": [
    "# do I need to include maxdeutsch1.missing?\n",
    "\n",
    "import numpy as np\n",
    "\n",
    "colname_to_bin = \"maxdeutsch1\"\n",
    "majority_value = org_train[colname_to_bin].mode()[0]\n",
    "\n",
    "org_test[\"majmin\"] = np.where(org_test[colname_to_bin] == majority_value, \"majority\", \"minority\")"
   ]
  },
  {
   "cell_type": "code",
   "execution_count": 73,
   "id": "06a50de5",
   "metadata": {
    "execution": {
     "iopub.execute_input": "2025-07-30T14:06:47.959844Z",
     "iopub.status.busy": "2025-07-30T14:06:47.959346Z",
     "iopub.status.idle": "2025-07-30T14:06:50.859673Z",
     "shell.execute_reply": "2025-07-30T14:06:50.858346Z"
    },
    "papermill": {
     "duration": 2.932159,
     "end_time": "2025-07-30T14:06:50.862185",
     "exception": false,
     "start_time": "2025-07-30T14:06:47.930026",
     "status": "completed"
    },
    "tags": []
   },
   "outputs": [],
   "source": [
    "example_universe = universe.copy()\n",
    "example_universe[\"cutoff\"] = example_universe[\"cutoff\"][0]\n",
    "example_universe[\"eval_fairness_grouping\"] = example_universe[\"eval_fairness_grouping\"][0]\n",
    "fairness_dict, metric_frame = universe_analysis.compute_metrics(\n",
    "    example_universe,\n",
    "    y_pred_prob=probs_test,\n",
    "    y_test=y_true,\n",
    "    org_test=org_test,\n",
    ")"
   ]
  },
  {
   "cell_type": "markdown",
   "id": "f95d4e02",
   "metadata": {
    "papermill": {
     "duration": 0.037428,
     "end_time": "2025-07-30T14:06:50.938951",
     "exception": false,
     "start_time": "2025-07-30T14:06:50.901523",
     "status": "completed"
    },
    "tags": []
   },
   "source": [
    "# Overall"
   ]
  },
  {
   "cell_type": "markdown",
   "id": "bdee4871",
   "metadata": {
    "papermill": {
     "duration": 0.040683,
     "end_time": "2025-07-30T14:06:51.018201",
     "exception": false,
     "start_time": "2025-07-30T14:06:50.977518",
     "status": "completed"
    },
    "tags": []
   },
   "source": [
    "Fairness\n",
    "Main fairness target: Equalized Odds. Seems to be a better fit than equal opportunity, since we're not only interested in Y = 1. Seems to be a better fit than demographic parity, since we also care about accuracy, not just equal distribution of preds.\n",
    "\n",
    "Pick column for computation of fairness metrics\n",
    "\n",
    "Performance\n",
    "Overall performance measures, most interesting in relation to the measures split by group below"
   ]
  },
  {
   "cell_type": "code",
   "execution_count": 74,
   "id": "c4e067c6",
   "metadata": {
    "execution": {
     "iopub.execute_input": "2025-07-30T14:06:51.102910Z",
     "iopub.status.busy": "2025-07-30T14:06:51.102293Z",
     "iopub.status.idle": "2025-07-30T14:06:51.113314Z",
     "shell.execute_reply": "2025-07-30T14:06:51.112074Z"
    },
    "papermill": {
     "duration": 0.055485,
     "end_time": "2025-07-30T14:06:51.115152",
     "exception": false,
     "start_time": "2025-07-30T14:06:51.059667",
     "status": "completed"
    },
    "tags": []
   },
   "outputs": [
    {
     "data": {
      "text/plain": [
       "accuracy                   0.218337\n",
       "balanced accuracy          0.535128\n",
       "f1                         0.239834\n",
       "precision                  0.137009\n",
       "false positive rate        0.890987\n",
       "false negative rate        0.038756\n",
       "selection rate             0.900000\n",
       "count                  89710.000000\n",
       "dtype: float64"
      ]
     },
     "execution_count": 74,
     "metadata": {},
     "output_type": "execute_result"
    }
   ],
   "source": [
    "metric_frame.overall"
   ]
  },
  {
   "cell_type": "markdown",
   "id": "e968fe9d",
   "metadata": {
    "papermill": {
     "duration": 0.030362,
     "end_time": "2025-07-30T14:06:51.176812",
     "exception": false,
     "start_time": "2025-07-30T14:06:51.146450",
     "status": "completed"
    },
    "tags": []
   },
   "source": [
    "By Group"
   ]
  },
  {
   "cell_type": "code",
   "execution_count": 75,
   "id": "ec325bce",
   "metadata": {
    "execution": {
     "iopub.execute_input": "2025-07-30T14:06:51.238612Z",
     "iopub.status.busy": "2025-07-30T14:06:51.238029Z",
     "iopub.status.idle": "2025-07-30T14:06:51.259059Z",
     "shell.execute_reply": "2025-07-30T14:06:51.258052Z"
    },
    "papermill": {
     "duration": 0.055339,
     "end_time": "2025-07-30T14:06:51.262041",
     "exception": false,
     "start_time": "2025-07-30T14:06:51.206702",
     "status": "completed"
    },
    "tags": []
   },
   "outputs": [
    {
     "data": {
      "text/html": [
       "<div>\n",
       "<style scoped>\n",
       "    .dataframe tbody tr th:only-of-type {\n",
       "        vertical-align: middle;\n",
       "    }\n",
       "\n",
       "    .dataframe tbody tr th {\n",
       "        vertical-align: top;\n",
       "    }\n",
       "\n",
       "    .dataframe thead th {\n",
       "        text-align: right;\n",
       "    }\n",
       "</style>\n",
       "<table border=\"1\" class=\"dataframe\">\n",
       "  <thead>\n",
       "    <tr style=\"text-align: right;\">\n",
       "      <th></th>\n",
       "      <th>accuracy</th>\n",
       "      <th>balanced accuracy</th>\n",
       "      <th>f1</th>\n",
       "      <th>precision</th>\n",
       "      <th>false positive rate</th>\n",
       "      <th>false negative rate</th>\n",
       "      <th>selection rate</th>\n",
       "      <th>count</th>\n",
       "    </tr>\n",
       "    <tr>\n",
       "      <th>majmin</th>\n",
       "      <th></th>\n",
       "      <th></th>\n",
       "      <th></th>\n",
       "      <th></th>\n",
       "      <th></th>\n",
       "      <th></th>\n",
       "      <th></th>\n",
       "      <th></th>\n",
       "    </tr>\n",
       "  </thead>\n",
       "  <tbody>\n",
       "    <tr>\n",
       "      <th>majority</th>\n",
       "      <td>0.241174</td>\n",
       "      <td>0.543944</td>\n",
       "      <td>0.249678</td>\n",
       "      <td>0.143602</td>\n",
       "      <td>0.867583</td>\n",
       "      <td>0.04453</td>\n",
       "      <td>0.879196</td>\n",
       "      <td>69170.0</td>\n",
       "    </tr>\n",
       "    <tr>\n",
       "      <th>minority</th>\n",
       "      <td>0.141431</td>\n",
       "      <td>0.507614</td>\n",
       "      <td>0.208945</td>\n",
       "      <td>0.116888</td>\n",
       "      <td>0.968303</td>\n",
       "      <td>0.01647</td>\n",
       "      <td>0.970058</td>\n",
       "      <td>20540.0</td>\n",
       "    </tr>\n",
       "  </tbody>\n",
       "</table>\n",
       "</div>"
      ],
      "text/plain": [
       "          accuracy  balanced accuracy        f1  precision  \\\n",
       "majmin                                                       \n",
       "majority  0.241174           0.543944  0.249678   0.143602   \n",
       "minority  0.141431           0.507614  0.208945   0.116888   \n",
       "\n",
       "          false positive rate  false negative rate  selection rate    count  \n",
       "majmin                                                                       \n",
       "majority             0.867583              0.04453        0.879196  69170.0  \n",
       "minority             0.968303              0.01647        0.970058  20540.0  "
      ]
     },
     "execution_count": 75,
     "metadata": {},
     "output_type": "execute_result"
    }
   ],
   "source": [
    "metric_frame.by_group"
   ]
  },
  {
   "cell_type": "code",
   "execution_count": 76,
   "id": "a9ddbe63",
   "metadata": {
    "execution": {
     "iopub.execute_input": "2025-07-30T14:06:51.340851Z",
     "iopub.status.busy": "2025-07-30T14:06:51.340293Z",
     "iopub.status.idle": "2025-07-30T14:06:53.827393Z",
     "shell.execute_reply": "2025-07-30T14:06:53.826422Z"
    },
    "papermill": {
     "duration": 2.528511,
     "end_time": "2025-07-30T14:06:53.829019",
     "exception": false,
     "start_time": "2025-07-30T14:06:51.300508",
     "status": "completed"
    },
    "tags": []
   },
   "outputs": [
    {
     "data": {
      "text/plain": [
       "array([[<Axes: title={'center': 'accuracy'}, xlabel='majmin'>,\n",
       "        <Axes: title={'center': 'balanced accuracy'}, xlabel='majmin'>,\n",
       "        <Axes: title={'center': 'f1'}, xlabel='majmin'>],\n",
       "       [<Axes: title={'center': 'precision'}, xlabel='majmin'>,\n",
       "        <Axes: title={'center': 'false positive rate'}, xlabel='majmin'>,\n",
       "        <Axes: title={'center': 'false negative rate'}, xlabel='majmin'>],\n",
       "       [<Axes: title={'center': 'selection rate'}, xlabel='majmin'>,\n",
       "        <Axes: title={'center': 'count'}, xlabel='majmin'>,\n",
       "        <Axes: xlabel='majmin'>]], dtype=object)"
      ]
     },
     "execution_count": 76,
     "metadata": {},
     "output_type": "execute_result"
    },
    {
     "data": {
      "image/png": "[encoded data removed]",
      "text/plain": [
       "<Figure size 1200x800 with 9 Axes>"
      ]
     },
     "metadata": {},
     "output_type": "display_data"
    }
   ],
   "source": [
    "# In a graphic\n",
    "metric_frame.by_group.plot.bar(\n",
    "    subplots=True,\n",
    "    layout=[3, 3],\n",
    "    legend=False,\n",
    "    figsize=[12, 8],\n",
    "    title=\"Show all metrics\",\n",
    ")"
   ]
  },
  {
   "cell_type": "markdown",
   "id": "f57a0bac",
   "metadata": {
    "papermill": {
     "duration": 0.032987,
     "end_time": "2025-07-30T14:06:53.896154",
     "exception": false,
     "start_time": "2025-07-30T14:06:53.863167",
     "status": "completed"
    },
    "tags": []
   },
   "source": [
    "# Final Output"
   ]
  },
  {
   "cell_type": "code",
   "execution_count": 77,
   "id": "96d280a3",
   "metadata": {
    "execution": {
     "iopub.execute_input": "2025-07-30T14:06:53.971312Z",
     "iopub.status.busy": "2025-07-30T14:06:53.970190Z",
     "iopub.status.idle": "2025-07-30T14:06:53.978586Z",
     "shell.execute_reply": "2025-07-30T14:06:53.977553Z"
    },
    "papermill": {
     "duration": 0.047776,
     "end_time": "2025-07-30T14:06:53.980419",
     "exception": false,
     "start_time": "2025-07-30T14:06:53.932643",
     "status": "completed"
    },
    "tags": []
   },
   "outputs": [
    {
     "data": {
      "text/plain": [
       "4"
      ]
     },
     "execution_count": 77,
     "metadata": {},
     "output_type": "execute_result"
    }
   ],
   "source": [
    "sub_universes = universe_analysis.generate_sub_universes()\n",
    "len(sub_universes)"
   ]
  },
  {
   "cell_type": "code",
   "execution_count": 78,
   "id": "92adf7ba",
   "metadata": {
    "execution": {
     "iopub.execute_input": "2025-07-30T14:06:54.031188Z",
     "iopub.status.busy": "2025-07-30T14:06:54.030663Z",
     "iopub.status.idle": "2025-07-30T14:06:54.037744Z",
     "shell.execute_reply": "2025-07-30T14:06:54.036797Z"
    },
    "papermill": {
     "duration": 0.029795,
     "end_time": "2025-07-30T14:06:54.039423",
     "exception": false,
     "start_time": "2025-07-30T14:06:54.009628",
     "status": "completed"
    },
    "tags": []
   },
   "outputs": [],
   "source": [
    "def filter_sub_universe_data(sub_universe, org_test):\n",
    "    # Keep all rows — no filtering\n",
    "    keep_rows_mask = np.ones(org_test.shape[0], dtype=bool)\n",
    "\n",
    "    print(f\"[INFO] Keeping all rows: {keep_rows_mask.sum()} rows retained.\")\n",
    "    return keep_rows_mask"
   ]
  },
  {
   "cell_type": "code",
   "execution_count": 79,
   "id": "4a759155",
   "metadata": {
    "execution": {
     "iopub.execute_input": "2025-07-30T14:06:54.108669Z",
     "iopub.status.busy": "2025-07-30T14:06:54.107855Z",
     "iopub.status.idle": "2025-07-30T14:07:03.661830Z",
     "shell.execute_reply": "2025-07-30T14:07:03.661078Z"
    },
    "papermill": {
     "duration": 9.589376,
     "end_time": "2025-07-30T14:07:03.663092",
     "exception": false,
     "start_time": "2025-07-30T14:06:54.073716",
     "status": "completed"
    },
    "tags": []
   },
   "outputs": [
    {
     "name": "stdout",
     "output_type": "stream",
     "text": [
      "Stopping execution_time clock.\n",
      "[INFO] Keeping all rows: 89710 rows retained.\n"
     ]
    },
    {
     "name": "stdout",
     "output_type": "stream",
     "text": [
      "[INFO] Keeping all rows: 89710 rows retained.\n"
     ]
    },
    {
     "name": "stdout",
     "output_type": "stream",
     "text": [
      "[INFO] Keeping all rows: 89710 rows retained.\n"
     ]
    },
    {
     "name": "stdout",
     "output_type": "stream",
     "text": [
      "[INFO] Keeping all rows: 89710 rows retained.\n"
     ]
    },
    {
     "data": {
      "text/html": [
       "<div>\n",
       "<style scoped>\n",
       "    .dataframe tbody tr th:only-of-type {\n",
       "        vertical-align: middle;\n",
       "    }\n",
       "\n",
       "    .dataframe tbody tr th {\n",
       "        vertical-align: top;\n",
       "    }\n",
       "\n",
       "    .dataframe thead th {\n",
       "        text-align: right;\n",
       "    }\n",
       "</style>\n",
       "<table border=\"1\" class=\"dataframe\">\n",
       "  <thead>\n",
       "    <tr style=\"text-align: right;\">\n",
       "      <th></th>\n",
       "      <th>run_no</th>\n",
       "      <th>universe_id</th>\n",
       "      <th>universe_settings</th>\n",
       "      <th>execution_time</th>\n",
       "      <th>test_size_n</th>\n",
       "      <th>test_size_frac</th>\n",
       "      <th>fair_main_equalized_odds_difference</th>\n",
       "      <th>fair_main_equalized_odds_ratio</th>\n",
       "      <th>fair_main_demographic_parity_difference</th>\n",
       "      <th>fair_main_demographic_parity_ratio</th>\n",
       "      <th>...</th>\n",
       "      <th>perf_grp_precision_0</th>\n",
       "      <th>perf_grp_precision_1</th>\n",
       "      <th>perf_grp_false positive rate_0</th>\n",
       "      <th>perf_grp_false positive rate_1</th>\n",
       "      <th>perf_grp_false negative rate_0</th>\n",
       "      <th>perf_grp_false negative rate_1</th>\n",
       "      <th>perf_grp_selection rate_0</th>\n",
       "      <th>perf_grp_selection rate_1</th>\n",
       "      <th>perf_grp_count_0</th>\n",
       "      <th>perf_grp_count_1</th>\n",
       "    </tr>\n",
       "  </thead>\n",
       "  <tbody>\n",
       "    <tr>\n",
       "      <th>0</th>\n",
       "      <td>12</td>\n",
       "      <td>f68909a6592bb8d2b4feff40a95ece34</td>\n",
       "      <td>{\"cutoff\": \"quantile_0.1\", \"eval_fairness_grou...</td>\n",
       "      <td>96.670904</td>\n",
       "      <td>89710</td>\n",
       "      <td>1.0</td>\n",
       "      <td>0.100720</td>\n",
       "      <td>0.895983</td>\n",
       "      <td>0.090862</td>\n",
       "      <td>0.906333</td>\n",
       "      <td>...</td>\n",
       "      <td>NaN</td>\n",
       "      <td>NaN</td>\n",
       "      <td>NaN</td>\n",
       "      <td>NaN</td>\n",
       "      <td>NaN</td>\n",
       "      <td>NaN</td>\n",
       "      <td>NaN</td>\n",
       "      <td>NaN</td>\n",
       "      <td>NaN</td>\n",
       "      <td>NaN</td>\n",
       "    </tr>\n",
       "    <tr>\n",
       "      <th>0</th>\n",
       "      <td>12</td>\n",
       "      <td>f68909a6592bb8d2b4feff40a95ece34</td>\n",
       "      <td>{\"cutoff\": \"quantile_0.1\", \"eval_fairness_grou...</td>\n",
       "      <td>96.670904</td>\n",
       "      <td>89710</td>\n",
       "      <td>1.0</td>\n",
       "      <td>0.100720</td>\n",
       "      <td>0.895983</td>\n",
       "      <td>0.090862</td>\n",
       "      <td>0.906333</td>\n",
       "      <td>...</td>\n",
       "      <td>0.116888</td>\n",
       "      <td>0.143602</td>\n",
       "      <td>0.968303</td>\n",
       "      <td>0.867583</td>\n",
       "      <td>0.016470</td>\n",
       "      <td>0.044530</td>\n",
       "      <td>0.970058</td>\n",
       "      <td>0.879196</td>\n",
       "      <td>20540.0</td>\n",
       "      <td>69170.0</td>\n",
       "    </tr>\n",
       "    <tr>\n",
       "      <th>0</th>\n",
       "      <td>12</td>\n",
       "      <td>f68909a6592bb8d2b4feff40a95ece34</td>\n",
       "      <td>{\"cutoff\": \"quantile_0.25\", \"eval_fairness_gro...</td>\n",
       "      <td>96.670904</td>\n",
       "      <td>89710</td>\n",
       "      <td>1.0</td>\n",
       "      <td>0.237885</td>\n",
       "      <td>0.739651</td>\n",
       "      <td>0.217723</td>\n",
       "      <td>0.762795</td>\n",
       "      <td>...</td>\n",
       "      <td>NaN</td>\n",
       "      <td>NaN</td>\n",
       "      <td>NaN</td>\n",
       "      <td>NaN</td>\n",
       "      <td>NaN</td>\n",
       "      <td>NaN</td>\n",
       "      <td>NaN</td>\n",
       "      <td>NaN</td>\n",
       "      <td>NaN</td>\n",
       "      <td>NaN</td>\n",
       "    </tr>\n",
       "    <tr>\n",
       "      <th>0</th>\n",
       "      <td>12</td>\n",
       "      <td>f68909a6592bb8d2b4feff40a95ece34</td>\n",
       "      <td>{\"cutoff\": \"quantile_0.25\", \"eval_fairness_gro...</td>\n",
       "      <td>96.670904</td>\n",
       "      <td>89710</td>\n",
       "      <td>1.0</td>\n",
       "      <td>0.237885</td>\n",
       "      <td>0.739651</td>\n",
       "      <td>0.217723</td>\n",
       "      <td>0.762795</td>\n",
       "      <td>...</td>\n",
       "      <td>0.119291</td>\n",
       "      <td>0.162279</td>\n",
       "      <td>0.913713</td>\n",
       "      <td>0.675829</td>\n",
       "      <td>0.050253</td>\n",
       "      <td>0.140153</td>\n",
       "      <td>0.917868</td>\n",
       "      <td>0.700145</td>\n",
       "      <td>20540.0</td>\n",
       "      <td>69170.0</td>\n",
       "    </tr>\n",
       "  </tbody>\n",
       "</table>\n",
       "<p>4 rows × 50 columns</p>\n",
       "</div>"
      ],
      "text/plain": [
       "  run_no                       universe_id  \\\n",
       "0     12  f68909a6592bb8d2b4feff40a95ece34   \n",
       "0     12  f68909a6592bb8d2b4feff40a95ece34   \n",
       "0     12  f68909a6592bb8d2b4feff40a95ece34   \n",
       "0     12  f68909a6592bb8d2b4feff40a95ece34   \n",
       "\n",
       "                                   universe_settings  execution_time  \\\n",
       "0  {\"cutoff\": \"quantile_0.1\", \"eval_fairness_grou...       96.670904   \n",
       "0  {\"cutoff\": \"quantile_0.1\", \"eval_fairness_grou...       96.670904   \n",
       "0  {\"cutoff\": \"quantile_0.25\", \"eval_fairness_gro...       96.670904   \n",
       "0  {\"cutoff\": \"quantile_0.25\", \"eval_fairness_gro...       96.670904   \n",
       "\n",
       "   test_size_n  test_size_frac  fair_main_equalized_odds_difference  \\\n",
       "0        89710             1.0                             0.100720   \n",
       "0        89710             1.0                             0.100720   \n",
       "0        89710             1.0                             0.237885   \n",
       "0        89710             1.0                             0.237885   \n",
       "\n",
       "   fair_main_equalized_odds_ratio  fair_main_demographic_parity_difference  \\\n",
       "0                        0.895983                                 0.090862   \n",
       "0                        0.895983                                 0.090862   \n",
       "0                        0.739651                                 0.217723   \n",
       "0                        0.739651                                 0.217723   \n",
       "\n",
       "   fair_main_demographic_parity_ratio  ...  perf_grp_precision_0  \\\n",
       "0                            0.906333  ...                   NaN   \n",
       "0                            0.906333  ...              0.116888   \n",
       "0                            0.762795  ...                   NaN   \n",
       "0                            0.762795  ...              0.119291   \n",
       "\n",
       "   perf_grp_precision_1  perf_grp_false positive rate_0  \\\n",
       "0                   NaN                             NaN   \n",
       "0              0.143602                        0.968303   \n",
       "0                   NaN                             NaN   \n",
       "0              0.162279                        0.913713   \n",
       "\n",
       "   perf_grp_false positive rate_1  perf_grp_false negative rate_0  \\\n",
       "0                             NaN                             NaN   \n",
       "0                        0.867583                        0.016470   \n",
       "0                             NaN                             NaN   \n",
       "0                        0.675829                        0.050253   \n",
       "\n",
       "   perf_grp_false negative rate_1  perf_grp_selection rate_0  \\\n",
       "0                             NaN                        NaN   \n",
       "0                        0.044530                   0.970058   \n",
       "0                             NaN                        NaN   \n",
       "0                        0.140153                   0.917868   \n",
       "\n",
       "   perf_grp_selection rate_1  perf_grp_count_0  perf_grp_count_1  \n",
       "0                        NaN               NaN               NaN  \n",
       "0                   0.879196           20540.0           69170.0  \n",
       "0                        NaN               NaN               NaN  \n",
       "0                   0.700145           20540.0           69170.0  \n",
       "\n",
       "[4 rows x 50 columns]"
      ]
     },
     "execution_count": 79,
     "metadata": {},
     "output_type": "execute_result"
    }
   ],
   "source": [
    "final_output = universe_analysis.generate_final_output(\n",
    "    y_pred_prob=probs_test,\n",
    "    y_test=y_true,\n",
    "    org_test=org_test,\n",
    "    filter_data=filter_sub_universe_data,\n",
    "    cp_metrics_df=cp_metrics_df,\n",
    "    save=True,\n",
    ")\n",
    "final_output"
   ]
  },
  {
   "cell_type": "code",
   "execution_count": null,
   "id": "721ff514-cb11-46f8-b6fc-50392f74b5cb",
   "metadata": {
    "papermill": {
     "duration": 0.02359,
     "end_time": "2025-07-30T14:07:03.705262",
     "exception": false,
     "start_time": "2025-07-30T14:07:03.681672",
     "status": "completed"
    },
    "tags": []
   },
   "outputs": [],
   "source": []
  }
 ],
 "metadata": {
  "celltoolbar": "Tags",
  "kernelspec": {
   "display_name": "Python (CMA Fairness)",
   "language": "python",
   "name": "cma_fair_env"
  },
  "language_info": {
   "codemirror_mode": {
    "name": "ipython",
    "version": 3
   },
   "file_extension": ".py",
   "mimetype": "text/x-python",
   "name": "python",
   "nbconvert_exporter": "python",
   "pygments_lexer": "ipython3",
   "version": "3.10.12"
  },
  "papermill": {
   "default_parameters": {},
   "duration": 110.267232,
   "end_time": "2025-07-30T14:07:04.466130",
   "environment_variables": {},
   "exception": null,
   "input_path": "universe_analysis.ipynb",
   "output_path": "output/runs/12/notebooks/m_12-f68909a6592bb8d2b4feff40a95ece34.ipynb",
   "parameters": {
    "output_dir": "output",
    "run_no": "12",
    "seed": "2023",
    "universe": "{\"cutoff\": [\"quantile_0.1\", \"quantile_0.25\"], \"eval_fairness_grouping\": [\"majority-minority\", \"nationality-all\"], \"exclude_features\": \"age\", \"exclude_subgroups\": \"keep-all\", \"model\": \"elasticnet\", \"scale\": \"do-not-scale\", \"training_size\": \"5k\", \"training_year\": \"2012_14\"}",
    "universe_id": "f68909a6592bb8d2b4feff40a95ece34"
   },
   "start_time": "2025-07-30T14:05:14.198898",
   "version": "2.6.0"
  }
 },
 "nbformat": 4,
 "nbformat_minor": 5
}