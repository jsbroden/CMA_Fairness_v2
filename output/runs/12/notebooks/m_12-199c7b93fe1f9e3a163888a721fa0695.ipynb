{
 "cells": [
  {
   "cell_type": "code",
   "execution_count": 1,
   "id": "f159f837-637b-42ba-96b5-ec9a68c44524",
   "metadata": {
    "execution": {
     "iopub.execute_input": "2025-07-30T13:32:38.902052Z",
     "iopub.status.busy": "2025-07-30T13:32:38.901499Z",
     "iopub.status.idle": "2025-07-30T13:32:38.915664Z",
     "shell.execute_reply": "2025-07-30T13:32:38.914779Z"
    },
    "papermill": {
     "duration": 0.040138,
     "end_time": "2025-07-30T13:32:38.917863",
     "exception": false,
     "start_time": "2025-07-30T13:32:38.877725",
     "status": "completed"
    },
    "tags": []
   },
   "outputs": [
    {
     "name": "stdout",
     "output_type": "stream",
     "text": [
      "/dss/dsshome1/0C/ra93lal2/cma/CMA_Fairness_v2\n"
     ]
    },
    {
     "name": "stderr",
     "output_type": "stream",
     "text": [
      "/dss/dsshome1/0C/ra93lal2/.local/share/virtualenvs/CMA_Fairness_v2-3j10GkSs/lib/python3.10/site-packages/IPython/core/magics/osm.py:393: UserWarning: This is now an optional IPython functionality, using bookmarks requires you to install the `pickleshare` library.\n",
      "  bkms = self.shell.db.get('bookmarks', {})\n",
      "/dss/dsshome1/0C/ra93lal2/.local/share/virtualenvs/CMA_Fairness_v2-3j10GkSs/lib/python3.10/site-packages/IPython/core/magics/osm.py:417: UserWarning: This is now an optional IPython functionality, setting dhist requires you to install the `pickleshare` library.\n",
      "  self.shell.db['dhist'] = compress_dhist(dhist)[-100:]\n"
     ]
    }
   ],
   "source": [
    "%cd ~/cma/CMA_Fairness_v2"
   ]
  },
  {
   "cell_type": "markdown",
   "id": "de2603b9",
   "metadata": {
    "papermill": {
     "duration": 0.018168,
     "end_time": "2025-07-30T13:32:38.954685",
     "exception": false,
     "start_time": "2025-07-30T13:32:38.936517",
     "status": "completed"
    },
    "tags": []
   },
   "source": [
    "The following cell holds the definition of our parameters, these values can be overriden by rendering the with e.g. the following command:\n",
    "\n",
    "papermill -p alpha 0.2 -p ratio 0.3 universe_analysis.ipynb output/test_run.ipynb"
   ]
  },
  {
   "cell_type": "code",
   "execution_count": 2,
   "id": "a80968a0-40bb-4fa9-85ef-2d5eefb01975",
   "metadata": {
    "execution": {
     "iopub.execute_input": "2025-07-30T13:32:38.994935Z",
     "iopub.status.busy": "2025-07-30T13:32:38.994348Z",
     "iopub.status.idle": "2025-07-30T13:32:38.999860Z",
     "shell.execute_reply": "2025-07-30T13:32:38.998835Z"
    },
    "papermill": {
     "duration": 0.027859,
     "end_time": "2025-07-30T13:32:39.001572",
     "exception": false,
     "start_time": "2025-07-30T13:32:38.973713",
     "status": "completed"
    },
    "tags": []
   },
   "outputs": [
    {
     "name": "stdout",
     "output_type": "stream",
     "text": [
      "Current working directory: /dss/dsshome1/0C/ra93lal2/cma/CMA_Fairness_v2\n"
     ]
    }
   ],
   "source": [
    "import os\n",
    "print(\"Current working directory:\", os.getcwd())"
   ]
  },
  {
   "cell_type": "code",
   "execution_count": 3,
   "id": "2dce4c03",
   "metadata": {
    "execution": {
     "iopub.execute_input": "2025-07-30T13:32:39.042585Z",
     "iopub.status.busy": "2025-07-30T13:32:39.042155Z",
     "iopub.status.idle": "2025-07-30T13:32:39.048784Z",
     "shell.execute_reply": "2025-07-30T13:32:39.047804Z"
    },
    "papermill": {
     "duration": 0.028979,
     "end_time": "2025-07-30T13:32:39.050346",
     "exception": false,
     "start_time": "2025-07-30T13:32:39.021367",
     "status": "completed"
    },
    "tags": [
     "parameters"
    ]
   },
   "outputs": [],
   "source": [
    "run_no = 0\n",
    "universe_id = \"test\"\n",
    "universe = {\n",
    "    \"training_size\": \"25k\", # \"25k\", \"5k\", \"1k\"\n",
    "    \"training_year\": \"2014\", # \"2014\", \"2012_14\", \"2010_14\"\n",
    "    \"scale\": \"scale\", # \"scale\", \"do-not-scale\",\n",
    "    #\"stratify_split\": \"target\", # \"none\", \"target\", \"protected-attribute\", \"both\",\n",
    "    \"model\": \"elasticnet\", # \"logreg\", \"penalized_logreg\", \"rf\", \"gbm\", \"elasticnet\"\n",
    "    \"cutoff\": [\"quantile_0.15\", \"quantile_0.30\"],\n",
    "    \"exclude_features\": \"age\", # \"none\", \"nationality\", \"sex\", \"nationality-sex\", \"age\"\n",
    "    \"exclude_subgroups\": \"keep-all\", # \"keep-all\", \"drop-non-german\"\n",
    "    \"eval_fairness_grouping\": [\"majority-minority\", \"nationality-all\"]\n",
    "}\n",
    "\n",
    "output_dir=\"./output\"\n",
    "seed=0"
   ]
  },
  {
   "cell_type": "code",
   "execution_count": 4,
   "id": "b7db04ed",
   "metadata": {
    "execution": {
     "iopub.execute_input": "2025-07-30T13:32:39.091864Z",
     "iopub.status.busy": "2025-07-30T13:32:39.090935Z",
     "iopub.status.idle": "2025-07-30T13:32:39.096613Z",
     "shell.execute_reply": "2025-07-30T13:32:39.095665Z"
    },
    "papermill": {
     "duration": 0.029607,
     "end_time": "2025-07-30T13:32:39.099120",
     "exception": false,
     "start_time": "2025-07-30T13:32:39.069513",
     "status": "completed"
    },
    "tags": [
     "injected-parameters"
    ]
   },
   "outputs": [],
   "source": [
    "# Parameters\n",
    "universe_id = \"199c7b93fe1f9e3a163888a721fa0695\"\n",
    "run_no = \"12\"\n",
    "universe = \"{\\\"cutoff\\\": [\\\"quantile_0.1\\\", \\\"quantile_0.25\\\"], \\\"eval_fairness_grouping\\\": [\\\"majority-minority\\\", \\\"nationality-all\\\"], \\\"exclude_features\\\": \\\"age\\\", \\\"exclude_subgroups\\\": \\\"keep-all\\\", \\\"model\\\": \\\"rf\\\", \\\"scale\\\": \\\"do-not-scale\\\", \\\"training_size\\\": \\\"25k\\\", \\\"training_year\\\": \\\"2010_14\\\"}\"\n",
    "output_dir = \"output\"\n",
    "seed = \"2023\"\n"
   ]
  },
  {
   "cell_type": "code",
   "execution_count": 5,
   "id": "1650acaf",
   "metadata": {
    "execution": {
     "iopub.execute_input": "2025-07-30T13:32:39.142996Z",
     "iopub.status.busy": "2025-07-30T13:32:39.142289Z",
     "iopub.status.idle": "2025-07-30T13:32:39.147304Z",
     "shell.execute_reply": "2025-07-30T13:32:39.146489Z"
    },
    "papermill": {
     "duration": 0.028742,
     "end_time": "2025-07-30T13:32:39.149274",
     "exception": false,
     "start_time": "2025-07-30T13:32:39.120532",
     "status": "completed"
    },
    "tags": []
   },
   "outputs": [],
   "source": [
    "import json\n",
    "# Parse universe into dict if it is passed as a string\n",
    "if isinstance(universe, str):\n",
    "    universe = json.loads(universe)"
   ]
  },
  {
   "cell_type": "code",
   "execution_count": 6,
   "id": "16620c48",
   "metadata": {
    "execution": {
     "iopub.execute_input": "2025-07-30T13:32:39.293938Z",
     "iopub.status.busy": "2025-07-30T13:32:39.293574Z",
     "iopub.status.idle": "2025-07-30T13:32:39.385993Z",
     "shell.execute_reply": "2025-07-30T13:32:39.385013Z"
    },
    "papermill": {
     "duration": 0.217762,
     "end_time": "2025-07-30T13:32:39.388079",
     "exception": false,
     "start_time": "2025-07-30T13:32:39.170317",
     "status": "completed"
    },
    "tags": []
   },
   "outputs": [],
   "source": [
    "# Auto-reload the custom package\n",
    "%load_ext autoreload\n",
    "%autoreload 1\n",
    "%aimport fairness_multiverse"
   ]
  },
  {
   "cell_type": "code",
   "execution_count": 7,
   "id": "01c5c9f3",
   "metadata": {
    "execution": {
     "iopub.execute_input": "2025-07-30T13:32:39.486526Z",
     "iopub.status.busy": "2025-07-30T13:32:39.486079Z",
     "iopub.status.idle": "2025-07-30T13:32:42.746689Z",
     "shell.execute_reply": "2025-07-30T13:32:42.745403Z"
    },
    "papermill": {
     "duration": 3.325146,
     "end_time": "2025-07-30T13:32:42.749021",
     "exception": false,
     "start_time": "2025-07-30T13:32:39.423875",
     "status": "completed"
    },
    "tags": []
   },
   "outputs": [],
   "source": [
    "from fairness_multiverse.universe import UniverseAnalysis\n",
    "\n",
    "universe_analysis = UniverseAnalysis(\n",
    "    run_no = run_no,\n",
    "    universe_id = universe_id,\n",
    "    universe = universe,\n",
    "    output_dir=output_dir,\n",
    ")"
   ]
  },
  {
   "cell_type": "code",
   "execution_count": 8,
   "id": "106241f5",
   "metadata": {
    "execution": {
     "iopub.execute_input": "2025-07-30T13:32:42.846614Z",
     "iopub.status.busy": "2025-07-30T13:32:42.846204Z",
     "iopub.status.idle": "2025-07-30T13:32:42.852930Z",
     "shell.execute_reply": "2025-07-30T13:32:42.851797Z"
    },
    "papermill": {
     "duration": 0.054783,
     "end_time": "2025-07-30T13:32:42.854460",
     "exception": false,
     "start_time": "2025-07-30T13:32:42.799677",
     "status": "completed"
    },
    "tags": []
   },
   "outputs": [
    {
     "name": "stdout",
     "output_type": "stream",
     "text": [
      "Using Seed: 2023\n"
     ]
    }
   ],
   "source": [
    "import numpy as np\n",
    "parsed_seed = int(seed)\n",
    "np.random.seed(parsed_seed)\n",
    "print(f\"Using Seed: {parsed_seed}\")"
   ]
  },
  {
   "cell_type": "markdown",
   "id": "e0ebdc57",
   "metadata": {
    "papermill": {
     "duration": 0.018398,
     "end_time": "2025-07-30T13:32:42.902710",
     "exception": false,
     "start_time": "2025-07-30T13:32:42.884312",
     "status": "completed"
    },
    "tags": []
   },
   "source": [
    "# Loading Data"
   ]
  },
  {
   "cell_type": "markdown",
   "id": "681925a3",
   "metadata": {
    "papermill": {
     "duration": 0.020045,
     "end_time": "2025-07-30T13:32:42.943853",
     "exception": false,
     "start_time": "2025-07-30T13:32:42.923808",
     "status": "completed"
    },
    "tags": []
   },
   "source": [
    "Load siab_train, siab_test, siab_calib and/or \n",
    "load siab_train_features, siab_train_labels"
   ]
  },
  {
   "cell_type": "code",
   "execution_count": 9,
   "id": "f0496b8a",
   "metadata": {
    "execution": {
     "iopub.execute_input": "2025-07-30T13:32:42.988415Z",
     "iopub.status.busy": "2025-07-30T13:32:42.987940Z",
     "iopub.status.idle": "2025-07-30T13:32:58.804577Z",
     "shell.execute_reply": "2025-07-30T13:32:58.803227Z"
    },
    "papermill": {
     "duration": 15.841118,
     "end_time": "2025-07-30T13:32:58.806729",
     "exception": false,
     "start_time": "2025-07-30T13:32:42.965611",
     "status": "completed"
    },
    "tags": []
   },
   "outputs": [
    {
     "name": "stdout",
     "output_type": "stream",
     "text": [
      "Loading SIAB data from cache: data/siab_cached.csv.gz\n"
     ]
    },
    {
     "name": "stdout",
     "output_type": "stream",
     "text": [
      "(643690, 164)\n"
     ]
    }
   ],
   "source": [
    "from pathlib import Path\n",
    "import pandas as pd\n",
    "\n",
    "# File paths\n",
    "raw_file = Path(\"data/raw/siab.csv\")\n",
    "cache_file = Path(\"data/siab_cached.csv.gz\")\n",
    "\n",
    "# Ensure cache directory exists\n",
    "cache_file.parent.mkdir(parents=True, exist_ok=True)\n",
    "\n",
    "# Load with simple caching\n",
    "if cache_file.exists():\n",
    "    print(f\"Loading SIAB data from cache: {cache_file}\")\n",
    "    siab = pd.read_csv(cache_file, compression='gzip')\n",
    "else:\n",
    "    print(f\"Cache not found. Reading raw SIAB data: {raw_file}\")\n",
    "    siab = pd.read_csv(raw_file)\n",
    "    siab.to_csv(cache_file, index=False, compression='gzip')\n",
    "    print(f\"Cached SIAB data to: {cache_file}\")\n",
    "\n",
    "# Now use `siab` DataFrame as needed\n",
    "print(siab.shape)"
   ]
  },
  {
   "cell_type": "code",
   "execution_count": 10,
   "id": "db0ca512-5f53-4dba-abdb-a2888bca41ba",
   "metadata": {
    "execution": {
     "iopub.execute_input": "2025-07-30T13:32:58.926702Z",
     "iopub.status.busy": "2025-07-30T13:32:58.926201Z",
     "iopub.status.idle": "2025-07-30T13:32:58.933047Z",
     "shell.execute_reply": "2025-07-30T13:32:58.931891Z"
    },
    "papermill": {
     "duration": 0.04809,
     "end_time": "2025-07-30T13:32:58.934620",
     "exception": false,
     "start_time": "2025-07-30T13:32:58.886530",
     "status": "completed"
    },
    "tags": []
   },
   "outputs": [],
   "source": [
    "#siab"
   ]
  },
  {
   "cell_type": "code",
   "execution_count": 11,
   "id": "a0edb063",
   "metadata": {
    "execution": {
     "iopub.execute_input": "2025-07-30T13:32:59.021555Z",
     "iopub.status.busy": "2025-07-30T13:32:59.021134Z",
     "iopub.status.idle": "2025-07-30T13:32:59.026602Z",
     "shell.execute_reply": "2025-07-30T13:32:59.025549Z"
    },
    "papermill": {
     "duration": 0.053683,
     "end_time": "2025-07-30T13:32:59.050463",
     "exception": false,
     "start_time": "2025-07-30T13:32:58.996780",
     "status": "completed"
    },
    "tags": []
   },
   "outputs": [],
   "source": [
    "#import pandas as pd\n",
    "#\n",
    "#X_train = pd.read_csv(\"./data/X_train.csv\")\n",
    "#y_train = pd.read_csv(\"./data/y_train.csv\")"
   ]
  },
  {
   "cell_type": "code",
   "execution_count": 12,
   "id": "63d08085",
   "metadata": {
    "execution": {
     "iopub.execute_input": "2025-07-30T13:32:59.114557Z",
     "iopub.status.busy": "2025-07-30T13:32:59.114121Z",
     "iopub.status.idle": "2025-07-30T13:32:59.119494Z",
     "shell.execute_reply": "2025-07-30T13:32:59.118490Z"
    },
    "papermill": {
     "duration": 0.050359,
     "end_time": "2025-07-30T13:32:59.122754",
     "exception": false,
     "start_time": "2025-07-30T13:32:59.072395",
     "status": "completed"
    },
    "tags": []
   },
   "outputs": [],
   "source": [
    "#X_test = pd.read_csv(\"./data/X_test.csv\")\n",
    "#y_true = pd.read_csv(\"./data/y_test.csv\")"
   ]
  },
  {
   "cell_type": "code",
   "execution_count": 13,
   "id": "98a8d0fa-1d3d-4ed8-bb2c-281470e24add",
   "metadata": {
    "execution": {
     "iopub.execute_input": "2025-07-30T13:32:59.258386Z",
     "iopub.status.busy": "2025-07-30T13:32:59.257992Z",
     "iopub.status.idle": "2025-07-30T13:32:59.263440Z",
     "shell.execute_reply": "2025-07-30T13:32:59.262278Z"
    },
    "papermill": {
     "duration": 0.052844,
     "end_time": "2025-07-30T13:32:59.266457",
     "exception": false,
     "start_time": "2025-07-30T13:32:59.213613",
     "status": "completed"
    },
    "tags": []
   },
   "outputs": [],
   "source": [
    "# Calibration data for conformal\n",
    "#X_calib = pd.read_csv(\"./data/X_calib.csv\")\n",
    "#y_calib = pd.read_csv(\"./data/y_calib.csv\")"
   ]
  },
  {
   "cell_type": "markdown",
   "id": "997051c5-15bd-4b69-9786-c3001a3ce484",
   "metadata": {
    "papermill": {
     "duration": 0.053615,
     "end_time": "2025-07-30T13:32:59.360791",
     "exception": false,
     "start_time": "2025-07-30T13:32:59.307176",
     "status": "completed"
    },
    "tags": []
   },
   "source": [
    "# Splitting Data and Setting Training Data Size"
   ]
  },
  {
   "cell_type": "code",
   "execution_count": 14,
   "id": "e993b61f-042d-41a6-8c81-f55681f86335",
   "metadata": {
    "execution": {
     "iopub.execute_input": "2025-07-30T13:32:59.416697Z",
     "iopub.status.busy": "2025-07-30T13:32:59.416254Z",
     "iopub.status.idle": "2025-07-30T13:32:59.434729Z",
     "shell.execute_reply": "2025-07-30T13:32:59.433689Z"
    },
    "papermill": {
     "duration": 0.05161,
     "end_time": "2025-07-30T13:32:59.441890",
     "exception": false,
     "start_time": "2025-07-30T13:32:59.390280",
     "status": "completed"
    },
    "tags": []
   },
   "outputs": [],
   "source": [
    "def sample_by_year_size(df,\n",
    "                        training_year: str,\n",
    "                        training_size: str,\n",
    "                        random_state: int = 42):\n",
    "    # --- parse training_year into a list of int years ---\n",
    "    if \"_\" in training_year:\n",
    "        start_str, end_str = training_year.split(\"_\", 1)\n",
    "        start = int(start_str)\n",
    "        end   = int(end_str) if len(end_str) == 4 else (int(end_str) + (start // 100)*100)\n",
    "        years = list(range(start, end + 1))\n",
    "    else:\n",
    "        years = [int(training_year)]\n",
    "\n",
    "    df = df[df[\"year\"].isin(years)].reset_index(drop=True)\n",
    "\n",
    "    # --- map training_size to total number of samples ---\n",
    "    total_map = {\"25k\": 25_000, \"5k\": 5_000, \"1k\": 1_000}\n",
    "    if training_size not in total_map:\n",
    "        return df  # e.g. \"all\"\n",
    "\n",
    "    total_samples = total_map[training_size]\n",
    "    n_years       = len(years)\n",
    "    base          = total_samples // n_years\n",
    "    remainder     = total_samples % n_years\n",
    "\n",
    "    # --- build a dict: year -> how many to sample ---\n",
    "    # give +1 to the first `remainder` years in ascending order\n",
    "    quotas = {\n",
    "        year: base + (1 if idx < remainder else 0)\n",
    "        for idx, year in enumerate(sorted(years))\n",
    "    }\n",
    "\n",
    "    # --- sample per‐year according to the quota dict ---\n",
    "    sampled = (\n",
    "        df\n",
    "        .groupby(\"year\", group_keys=False)\n",
    "        .apply(lambda grp: grp.sample(\n",
    "            n=min(len(grp), quotas[grp.name]),\n",
    "            random_state=random_state))\n",
    "        .reset_index(drop=True)\n",
    "    )\n",
    "\n",
    "    return sampled"
   ]
  },
  {
   "cell_type": "code",
   "execution_count": 15,
   "id": "c0ccd338-0e02-41f3-a09d-f56f9266e3fb",
   "metadata": {
    "execution": {
     "iopub.execute_input": "2025-07-30T13:32:59.530334Z",
     "iopub.status.busy": "2025-07-30T13:32:59.529907Z",
     "iopub.status.idle": "2025-07-30T13:32:59.541627Z",
     "shell.execute_reply": "2025-07-30T13:32:59.540581Z"
    },
    "papermill": {
     "duration": 0.047915,
     "end_time": "2025-07-30T13:32:59.557328",
     "exception": false,
     "start_time": "2025-07-30T13:32:59.509413",
     "status": "completed"
    },
    "tags": []
   },
   "outputs": [
    {
     "data": {
      "text/plain": [
       "'25k'"
      ]
     },
     "execution_count": 15,
     "metadata": {},
     "output_type": "execute_result"
    }
   ],
   "source": [
    "universe[\"training_size\"]"
   ]
  },
  {
   "cell_type": "code",
   "execution_count": 16,
   "id": "ca707fd7-8047-4acd-bfa5-66248fbbf8e6",
   "metadata": {
    "execution": {
     "iopub.execute_input": "2025-07-30T13:32:59.606729Z",
     "iopub.status.busy": "2025-07-30T13:32:59.606190Z",
     "iopub.status.idle": "2025-07-30T13:32:59.614302Z",
     "shell.execute_reply": "2025-07-30T13:32:59.613207Z"
    },
    "papermill": {
     "duration": 0.041,
     "end_time": "2025-07-30T13:32:59.621715",
     "exception": false,
     "start_time": "2025-07-30T13:32:59.580715",
     "status": "completed"
    },
    "tags": []
   },
   "outputs": [
    {
     "data": {
      "text/plain": [
       "'2010_14'"
      ]
     },
     "execution_count": 16,
     "metadata": {},
     "output_type": "execute_result"
    }
   ],
   "source": [
    "universe[\"training_year\"]"
   ]
  },
  {
   "cell_type": "code",
   "execution_count": 17,
   "id": "aea9c6ef-6f46-42c8-85eb-5a62025c1508",
   "metadata": {
    "execution": {
     "iopub.execute_input": "2025-07-30T13:32:59.682577Z",
     "iopub.status.busy": "2025-07-30T13:32:59.681831Z",
     "iopub.status.idle": "2025-07-30T13:33:00.835617Z",
     "shell.execute_reply": "2025-07-30T13:33:00.834544Z"
    },
    "papermill": {
     "duration": 1.18627,
     "end_time": "2025-07-30T13:33:00.837575",
     "exception": false,
     "start_time": "2025-07-30T13:32:59.651305",
     "status": "completed"
    },
    "tags": []
   },
   "outputs": [],
   "source": [
    "siab_train = sample_by_year_size(siab,\n",
    "                               training_year=universe[\"training_year\"],\n",
    "                               training_size=universe[\"training_size\"])"
   ]
  },
  {
   "cell_type": "code",
   "execution_count": 18,
   "id": "8d3afb32-789d-442c-8d5d-9f5aa8dd2eed",
   "metadata": {
    "execution": {
     "iopub.execute_input": "2025-07-30T13:33:00.903415Z",
     "iopub.status.busy": "2025-07-30T13:33:00.902530Z",
     "iopub.status.idle": "2025-07-30T13:33:00.913099Z",
     "shell.execute_reply": "2025-07-30T13:33:00.911849Z"
    },
    "papermill": {
     "duration": 0.052814,
     "end_time": "2025-07-30T13:33:00.914902",
     "exception": false,
     "start_time": "2025-07-30T13:33:00.862088",
     "status": "completed"
    },
    "tags": []
   },
   "outputs": [
    {
     "data": {
      "text/plain": [
       "(25000, 164)"
      ]
     },
     "execution_count": 18,
     "metadata": {},
     "output_type": "execute_result"
    }
   ],
   "source": [
    "siab_train.shape"
   ]
  },
  {
   "cell_type": "code",
   "execution_count": 19,
   "id": "d582db68-1a4c-47fb-84fc-08518dc1975a",
   "metadata": {
    "execution": {
     "iopub.execute_input": "2025-07-30T13:33:00.982209Z",
     "iopub.status.busy": "2025-07-30T13:33:00.981774Z",
     "iopub.status.idle": "2025-07-30T13:33:00.995900Z",
     "shell.execute_reply": "2025-07-30T13:33:00.994890Z"
    },
    "papermill": {
     "duration": 0.043625,
     "end_time": "2025-07-30T13:33:00.997889",
     "exception": false,
     "start_time": "2025-07-30T13:33:00.954264",
     "status": "completed"
    },
    "tags": []
   },
   "outputs": [
    {
     "data": {
      "text/plain": [
       "year\n",
       "2010    5000\n",
       "2011    5000\n",
       "2012    5000\n",
       "2013    5000\n",
       "2014    5000\n",
       "dtype: int64"
      ]
     },
     "metadata": {},
     "output_type": "display_data"
    }
   ],
   "source": [
    "display(siab_train.groupby(\"year\").size())"
   ]
  },
  {
   "cell_type": "code",
   "execution_count": 20,
   "id": "a561edb4-d032-42cb-8256-22eac1111c64",
   "metadata": {
    "execution": {
     "iopub.execute_input": "2025-07-30T13:33:01.063441Z",
     "iopub.status.busy": "2025-07-30T13:33:01.062932Z",
     "iopub.status.idle": "2025-07-30T13:33:01.311791Z",
     "shell.execute_reply": "2025-07-30T13:33:01.310978Z"
    },
    "papermill": {
     "duration": 0.275213,
     "end_time": "2025-07-30T13:33:01.313656",
     "exception": false,
     "start_time": "2025-07-30T13:33:01.038443",
     "status": "completed"
    },
    "tags": []
   },
   "outputs": [],
   "source": [
    "#siab_train = siab_s[siab_s.year < 2015]\n",
    "siab_calib = siab[siab.year == 2015]\n",
    "siab_test = siab[siab.year == 2016]"
   ]
  },
  {
   "cell_type": "code",
   "execution_count": 21,
   "id": "472de16f-c3db-4916-846b-1f0de9cf1746",
   "metadata": {
    "execution": {
     "iopub.execute_input": "2025-07-30T13:33:01.380312Z",
     "iopub.status.busy": "2025-07-30T13:33:01.379833Z",
     "iopub.status.idle": "2025-07-30T13:33:01.395857Z",
     "shell.execute_reply": "2025-07-30T13:33:01.394639Z"
    },
    "papermill": {
     "duration": 0.044594,
     "end_time": "2025-07-30T13:33:01.397746",
     "exception": false,
     "start_time": "2025-07-30T13:33:01.353152",
     "status": "completed"
    },
    "tags": []
   },
   "outputs": [],
   "source": [
    "X_train = siab_train.iloc[:,4:164]\n",
    "y_train = siab_train.iloc[:, [3]]"
   ]
  },
  {
   "cell_type": "code",
   "execution_count": 22,
   "id": "828c96af-f43a-4ed6-ba47-8ac73a47d56c",
   "metadata": {
    "execution": {
     "iopub.execute_input": "2025-07-30T13:33:01.448850Z",
     "iopub.status.busy": "2025-07-30T13:33:01.448302Z",
     "iopub.status.idle": "2025-07-30T13:33:01.504253Z",
     "shell.execute_reply": "2025-07-30T13:33:01.503223Z"
    },
    "papermill": {
     "duration": 0.08351,
     "end_time": "2025-07-30T13:33:01.506031",
     "exception": false,
     "start_time": "2025-07-30T13:33:01.422521",
     "status": "completed"
    },
    "tags": []
   },
   "outputs": [],
   "source": [
    "X_calib = siab_calib.iloc[:,4:164]\n",
    "y_calib = siab_calib.iloc[:, [3]]"
   ]
  },
  {
   "cell_type": "code",
   "execution_count": 23,
   "id": "c34be9c3-6bd6-476e-acd3-845840e303be",
   "metadata": {
    "execution": {
     "iopub.execute_input": "2025-07-30T13:33:01.554656Z",
     "iopub.status.busy": "2025-07-30T13:33:01.554140Z",
     "iopub.status.idle": "2025-07-30T13:33:01.636461Z",
     "shell.execute_reply": "2025-07-30T13:33:01.628102Z"
    },
    "papermill": {
     "duration": 0.109107,
     "end_time": "2025-07-30T13:33:01.638278",
     "exception": false,
     "start_time": "2025-07-30T13:33:01.529171",
     "status": "completed"
    },
    "tags": []
   },
   "outputs": [],
   "source": [
    "X_test = siab_test.iloc[:,4:164]\n",
    "y_true = siab_test.iloc[:, [3]]"
   ]
  },
  {
   "cell_type": "markdown",
   "id": "9901737e-04df-44f0-9100-f5ad144ed040",
   "metadata": {
    "papermill": {
     "duration": 0.016027,
     "end_time": "2025-07-30T13:33:01.681314",
     "exception": false,
     "start_time": "2025-07-30T13:33:01.665287",
     "status": "completed"
    },
    "tags": []
   },
   "source": [
    "# Splitting Data and Setting Training Data Size OLD VERSION"
   ]
  },
  {
   "cell_type": "code",
   "execution_count": 24,
   "id": "acbc8f7d-8fc8-4e86-8c59-5dcb0f58384b",
   "metadata": {
    "execution": {
     "iopub.execute_input": "2025-07-30T13:33:01.786564Z",
     "iopub.status.busy": "2025-07-30T13:33:01.786144Z",
     "iopub.status.idle": "2025-07-30T13:33:01.793608Z",
     "shell.execute_reply": "2025-07-30T13:33:01.791900Z"
    },
    "papermill": {
     "duration": 0.066293,
     "end_time": "2025-07-30T13:33:01.795992",
     "exception": false,
     "start_time": "2025-07-30T13:33:01.729699",
     "status": "completed"
    },
    "tags": []
   },
   "outputs": [],
   "source": [
    "#def sample_by_year(df, training_size, random_state=42):\n",
    "#    if training_size == \"2014\":\n",
    "#        return df[df[\"year\"] == 2014].reset_index(drop=True)\n",
    "#    \n",
    "#    size_map = {\n",
    "#        \"25k\": 5000,\n",
    "#        \"5k\": 1000,\n",
    "#        \"1k\": 200\n",
    "#    }\n",
    "#\n",
    "#    if training_size not in size_map:\n",
    "#        return df.reset_index(drop=True)  # use all data\n",
    "#\n",
    "#    n_per_year = size_map[training_size]\n",
    "#    grouped = df.groupby(\"year\")\n",
    "#    sampled = grouped.apply(lambda x: x.sample(n=min(n_per_year, len(x)), random_state=random_state))\n",
    "#    return sampled.reset_index(drop=True)"
   ]
  },
  {
   "cell_type": "code",
   "execution_count": 25,
   "id": "6d931f52-beaf-43ff-9e78-9d44a448d54e",
   "metadata": {
    "execution": {
     "iopub.execute_input": "2025-07-30T13:33:01.874480Z",
     "iopub.status.busy": "2025-07-30T13:33:01.873383Z",
     "iopub.status.idle": "2025-07-30T13:33:01.879164Z",
     "shell.execute_reply": "2025-07-30T13:33:01.878093Z"
    },
    "papermill": {
     "duration": 0.054562,
     "end_time": "2025-07-30T13:33:01.889206",
     "exception": false,
     "start_time": "2025-07-30T13:33:01.834644",
     "status": "completed"
    },
    "tags": []
   },
   "outputs": [],
   "source": [
    "#siab_s = sample_by_year(siab, universe[\"training_size\"])"
   ]
  },
  {
   "cell_type": "code",
   "execution_count": 26,
   "id": "5db0a40e-a4e2-4920-be85-b12ae061d70d",
   "metadata": {
    "execution": {
     "iopub.execute_input": "2025-07-30T13:33:01.973480Z",
     "iopub.status.busy": "2025-07-30T13:33:01.973068Z",
     "iopub.status.idle": "2025-07-30T13:33:01.987137Z",
     "shell.execute_reply": "2025-07-30T13:33:01.985967Z"
    },
    "papermill": {
     "duration": 0.045352,
     "end_time": "2025-07-30T13:33:01.989199",
     "exception": false,
     "start_time": "2025-07-30T13:33:01.943847",
     "status": "completed"
    },
    "tags": []
   },
   "outputs": [],
   "source": [
    "#display(siab_s.groupby(\"year\").size())"
   ]
  },
  {
   "cell_type": "code",
   "execution_count": 27,
   "id": "e6c733c5",
   "metadata": {
    "execution": {
     "iopub.execute_input": "2025-07-30T13:33:02.061959Z",
     "iopub.status.busy": "2025-07-30T13:33:02.061446Z",
     "iopub.status.idle": "2025-07-30T13:33:02.203603Z",
     "shell.execute_reply": "2025-07-30T13:33:02.202573Z"
    },
    "papermill": {
     "duration": 0.185594,
     "end_time": "2025-07-30T13:33:02.205929",
     "exception": false,
     "start_time": "2025-07-30T13:33:02.020335",
     "status": "completed"
    },
    "tags": []
   },
   "outputs": [],
   "source": [
    "# Auxiliary data needed downstream in the pipeline\n",
    "\n",
    "org_train = X_train.copy()\n",
    "org_test = X_test.copy()\n",
    "org_calib = X_calib.copy()"
   ]
  },
  {
   "cell_type": "code",
   "execution_count": 28,
   "id": "1466abac-c6da-4492-a62f-4240ae3783af",
   "metadata": {
    "execution": {
     "iopub.execute_input": "2025-07-30T13:33:02.261594Z",
     "iopub.status.busy": "2025-07-30T13:33:02.261138Z",
     "iopub.status.idle": "2025-07-30T13:33:02.267701Z",
     "shell.execute_reply": "2025-07-30T13:33:02.266714Z"
    },
    "papermill": {
     "duration": 0.034094,
     "end_time": "2025-07-30T13:33:02.270685",
     "exception": false,
     "start_time": "2025-07-30T13:33:02.236591",
     "status": "completed"
    },
    "tags": []
   },
   "outputs": [],
   "source": [
    "# put in other script?\n",
    "# Group sizes\n",
    "\n",
    "#def calculate_percentages(df, df_name):\n",
    "#    total_entries = len(df)\n",
    "#\n",
    "#    female_pct = (df['frau1'] == 1).mean() * 100\n",
    "#    non_german_pct = ((df['maxdeutsch1'] == 0) & (df['maxdeutsch.Missing.'] == 0)).mean() * 100\n",
    "#    non_german_male_pct = ((df['frau1'] == 0) & (df['maxdeutsch1'] == 0) & (df['maxdeutsch.Missing.'] == 0)).mean() * 100\n",
    "#    non_german_female_pct = ((df['frau1'] == 1) & (df['maxdeutsch1'] == 0) & (df['maxdeutsch.Missing.'] == 0)).mean() * 100\n",
    "#\n",
    "#    print(f\"--- {df_name} ---\")\n",
    "#    print(f\"Female: {female_pct:.2f}%\")\n",
    "#    print(f\"Non-German: {non_german_pct:.2f}%\")\n",
    "#    print(f\"Non-German Male: {non_german_male_pct:.2f}%\")\n",
    "#    print(f\"Non-German Female: {non_german_female_pct:.2f}%\\n\")\n",
    "#\n",
    "## Calculate for each DataFrame\n",
    "#calculate_percentages(siab_calib, \"siab_calib\")\n",
    "#calculate_percentages(siab_test, \"siab_test\")\n",
    "#calculate_percentages(siab_train, \"siab_train\")"
   ]
  },
  {
   "cell_type": "markdown",
   "id": "0a4a1b33",
   "metadata": {
    "papermill": {
     "duration": 0.023197,
     "end_time": "2025-07-30T13:33:02.334108",
     "exception": false,
     "start_time": "2025-07-30T13:33:02.310911",
     "status": "completed"
    },
    "tags": []
   },
   "source": [
    "# Preprocessing Data"
   ]
  },
  {
   "cell_type": "code",
   "execution_count": 29,
   "id": "ca879031",
   "metadata": {
    "execution": {
     "iopub.execute_input": "2025-07-30T13:33:02.380936Z",
     "iopub.status.busy": "2025-07-30T13:33:02.380545Z",
     "iopub.status.idle": "2025-07-30T13:33:02.387204Z",
     "shell.execute_reply": "2025-07-30T13:33:02.386231Z"
    },
    "papermill": {
     "duration": 0.033324,
     "end_time": "2025-07-30T13:33:02.390554",
     "exception": false,
     "start_time": "2025-07-30T13:33:02.357230",
     "status": "completed"
    },
    "tags": []
   },
   "outputs": [],
   "source": [
    "# EXCLUDE PROTECTED FEATURES\n",
    "# ----------------------\n",
    "# \"exclude_features\": \"none\", # \"nationality\", \"sex\", \"nationality-sex\"\n",
    "\n",
    "excluded_features = universe[\"exclude_features\"].split(\"-\") # split, e.g.: \"nationality-sex\" -> [\"nationality\", \"sex\"]\n",
    "excluded_features_dictionary = {\n",
    "    \"nationality\": [\"maxdeutsch1\", \"maxdeutsch.Missing.\"],\n",
    "    \"sex\": [\"frau1\"],\n",
    "    \"age\": [\"age\"],\n",
    "}\n"
   ]
  },
  {
   "cell_type": "code",
   "execution_count": 30,
   "id": "b745ac60",
   "metadata": {
    "execution": {
     "iopub.execute_input": "2025-07-30T13:33:02.438637Z",
     "iopub.status.busy": "2025-07-30T13:33:02.438208Z",
     "iopub.status.idle": "2025-07-30T13:33:02.444075Z",
     "shell.execute_reply": "2025-07-30T13:33:02.443177Z"
    },
    "papermill": {
     "duration": 0.031881,
     "end_time": "2025-07-30T13:33:02.446307",
     "exception": false,
     "start_time": "2025-07-30T13:33:02.414426",
     "status": "completed"
    },
    "tags": []
   },
   "outputs": [],
   "source": [
    "# Code nice names to column names\n",
    "\n",
    "excluded_features_columns = [\n",
    "    excluded_features_dictionary[f] for f in excluded_features if len(f) > 0 and f != \"none\"\n",
    "]"
   ]
  },
  {
   "cell_type": "code",
   "execution_count": 31,
   "id": "f84f73a2",
   "metadata": {
    "execution": {
     "iopub.execute_input": "2025-07-30T13:33:02.494864Z",
     "iopub.status.busy": "2025-07-30T13:33:02.494424Z",
     "iopub.status.idle": "2025-07-30T13:33:02.500747Z",
     "shell.execute_reply": "2025-07-30T13:33:02.499593Z"
    },
    "papermill": {
     "duration": 0.033659,
     "end_time": "2025-07-30T13:33:02.502665",
     "exception": false,
     "start_time": "2025-07-30T13:33:02.469006",
     "status": "completed"
    },
    "tags": []
   },
   "outputs": [],
   "source": [
    "from utils import flatten_once\n",
    "\n",
    "excluded_features_columns = flatten_once(excluded_features_columns)"
   ]
  },
  {
   "cell_type": "code",
   "execution_count": 32,
   "id": "884dea22",
   "metadata": {
    "execution": {
     "iopub.execute_input": "2025-07-30T13:33:02.552874Z",
     "iopub.status.busy": "2025-07-30T13:33:02.552549Z",
     "iopub.status.idle": "2025-07-30T13:33:02.568086Z",
     "shell.execute_reply": "2025-07-30T13:33:02.567096Z"
    },
    "papermill": {
     "duration": 0.042143,
     "end_time": "2025-07-30T13:33:02.570072",
     "exception": false,
     "start_time": "2025-07-30T13:33:02.527929",
     "status": "completed"
    },
    "tags": []
   },
   "outputs": [
    {
     "name": "stdout",
     "output_type": "stream",
     "text": [
      "Dropping features: ['age']\n"
     ]
    }
   ],
   "source": [
    "if len(excluded_features_columns) > 0:\n",
    "    print(f\"Dropping features: {excluded_features_columns}\")\n",
    "    X_train.drop(excluded_features_columns, axis=1, inplace=True)"
   ]
  },
  {
   "cell_type": "code",
   "execution_count": 33,
   "id": "95ab8b16",
   "metadata": {
    "execution": {
     "iopub.execute_input": "2025-07-30T13:33:02.618508Z",
     "iopub.status.busy": "2025-07-30T13:33:02.617971Z",
     "iopub.status.idle": "2025-07-30T13:33:02.675322Z",
     "shell.execute_reply": "2025-07-30T13:33:02.673399Z"
    },
    "papermill": {
     "duration": 0.082752,
     "end_time": "2025-07-30T13:33:02.678699",
     "exception": false,
     "start_time": "2025-07-30T13:33:02.595947",
     "status": "completed"
    },
    "tags": []
   },
   "outputs": [
    {
     "name": "stdout",
     "output_type": "stream",
     "text": [
      "Dropping features: ['age']\n"
     ]
    }
   ],
   "source": [
    "if len(excluded_features_columns) > 0:\n",
    "    print(f\"Dropping features: {excluded_features_columns}\")\n",
    "    X_test.drop(excluded_features_columns, axis=1, inplace=True)"
   ]
  },
  {
   "cell_type": "code",
   "execution_count": 34,
   "id": "1853aaf5-fb9f-46cb-a2b5-8ea4ae2237e4",
   "metadata": {
    "execution": {
     "iopub.execute_input": "2025-07-30T13:33:02.726487Z",
     "iopub.status.busy": "2025-07-30T13:33:02.725173Z",
     "iopub.status.idle": "2025-07-30T13:33:02.780145Z",
     "shell.execute_reply": "2025-07-30T13:33:02.779170Z"
    },
    "papermill": {
     "duration": 0.080519,
     "end_time": "2025-07-30T13:33:02.781930",
     "exception": false,
     "start_time": "2025-07-30T13:33:02.701411",
     "status": "completed"
    },
    "tags": []
   },
   "outputs": [
    {
     "name": "stdout",
     "output_type": "stream",
     "text": [
      "Dropping features: ['age']\n"
     ]
    }
   ],
   "source": [
    "if len(excluded_features_columns) > 0:\n",
    "    print(f\"Dropping features: {excluded_features_columns}\")\n",
    "    X_calib.drop(excluded_features_columns, axis=1, inplace=True)"
   ]
  },
  {
   "cell_type": "code",
   "execution_count": 35,
   "id": "6727d079-03e5-481e-9d38-292a90b7a0a8",
   "metadata": {
    "execution": {
     "iopub.execute_input": "2025-07-30T13:33:02.847576Z",
     "iopub.status.busy": "2025-07-30T13:33:02.847196Z",
     "iopub.status.idle": "2025-07-30T13:33:02.852701Z",
     "shell.execute_reply": "2025-07-30T13:33:02.851746Z"
    },
    "papermill": {
     "duration": 0.046178,
     "end_time": "2025-07-30T13:33:02.854878",
     "exception": false,
     "start_time": "2025-07-30T13:33:02.808700",
     "status": "completed"
    },
    "tags": []
   },
   "outputs": [],
   "source": [
    "# SPLIT & STRATIFY DATA\n",
    "# ----------------------"
   ]
  },
  {
   "cell_type": "code",
   "execution_count": 36,
   "id": "76c4dc6d",
   "metadata": {
    "execution": {
     "iopub.execute_input": "2025-07-30T13:33:02.974063Z",
     "iopub.status.busy": "2025-07-30T13:33:02.973646Z",
     "iopub.status.idle": "2025-07-30T13:33:02.979259Z",
     "shell.execute_reply": "2025-07-30T13:33:02.978328Z"
    },
    "papermill": {
     "duration": 0.058166,
     "end_time": "2025-07-30T13:33:02.982326",
     "exception": false,
     "start_time": "2025-07-30T13:33:02.924160",
     "status": "completed"
    },
    "tags": []
   },
   "outputs": [],
   "source": [
    "# EXCLUDE CERTAIN SUBGROUPS\n",
    "# ----------------------\n",
    "\n",
    "mode = universe.get(\"exclude_subgroups\", \"keep-all\") \n",
    "# Fetches the exclude_subgroups setting from the universe dict.\n",
    "# Defaults to \"keep-all\" if the key is missing."
   ]
  },
  {
   "cell_type": "code",
   "execution_count": 37,
   "id": "21994072",
   "metadata": {
    "execution": {
     "iopub.execute_input": "2025-07-30T13:33:03.062643Z",
     "iopub.status.busy": "2025-07-30T13:33:03.062185Z",
     "iopub.status.idle": "2025-07-30T13:33:03.069053Z",
     "shell.execute_reply": "2025-07-30T13:33:03.068187Z"
    },
    "papermill": {
     "duration": 0.045279,
     "end_time": "2025-07-30T13:33:03.078425",
     "exception": false,
     "start_time": "2025-07-30T13:33:03.033146",
     "status": "completed"
    },
    "tags": []
   },
   "outputs": [],
   "source": [
    "if mode == \"keep-all\":\n",
    "    keep_mask = pd.Series(True, index=org_train.index)\n",
    "\n",
    "# org_train contains the original feature columns from features_org (in Simson)\n",
    "# features_org contains unprocessed features, for me X_train at beginning ???\n",
    "# For keep-all, creates a boolean Series (keep_mask) of all True, so no rows are removed.\n",
    "\n",
    "elif mode == \"drop-non-german\":\n",
    "    keep_mask = org_train[\"maxdeutsch1\"] == 1 # ??? what about missing values?\n",
    "\n",
    "else:\n",
    "    raise ValueError(f\"Unsupported mode for exclude_subgroups: {mode}\")\n"
   ]
  },
  {
   "cell_type": "code",
   "execution_count": 38,
   "id": "71651440",
   "metadata": {
    "execution": {
     "iopub.execute_input": "2025-07-30T13:33:03.228941Z",
     "iopub.status.busy": "2025-07-30T13:33:03.228531Z",
     "iopub.status.idle": "2025-07-30T13:33:03.237385Z",
     "shell.execute_reply": "2025-07-30T13:33:03.236260Z"
    },
    "papermill": {
     "duration": 0.09525,
     "end_time": "2025-07-30T13:33:03.239792",
     "exception": false,
     "start_time": "2025-07-30T13:33:03.144542",
     "status": "completed"
    },
    "tags": []
   },
   "outputs": [],
   "source": [
    "n_drop = (~keep_mask).sum() # Calculates how many rows are set to be dropped\n",
    "if n_drop > 0:\n",
    "    pct = n_drop / len(keep_mask) * 100\n",
    "    print(f\"Dropping {n_drop} rows ({pct:.2f}%) where mode='{mode}'\")"
   ]
  },
  {
   "cell_type": "code",
   "execution_count": 39,
   "id": "5fb8eee5",
   "metadata": {
    "execution": {
     "iopub.execute_input": "2025-07-30T13:33:03.426598Z",
     "iopub.status.busy": "2025-07-30T13:33:03.426172Z",
     "iopub.status.idle": "2025-07-30T13:33:03.454974Z",
     "shell.execute_reply": "2025-07-30T13:33:03.453783Z"
    },
    "papermill": {
     "duration": 0.116556,
     "end_time": "2025-07-30T13:33:03.457185",
     "exception": false,
     "start_time": "2025-07-30T13:33:03.340629",
     "status": "completed"
    },
    "tags": []
   },
   "outputs": [],
   "source": [
    "X_train = X_train[keep_mask]"
   ]
  },
  {
   "cell_type": "code",
   "execution_count": 40,
   "id": "b202bb3a",
   "metadata": {
    "execution": {
     "iopub.execute_input": "2025-07-30T13:33:03.594777Z",
     "iopub.status.busy": "2025-07-30T13:33:03.594341Z",
     "iopub.status.idle": "2025-07-30T13:33:03.601120Z",
     "shell.execute_reply": "2025-07-30T13:33:03.600074Z"
    },
    "papermill": {
     "duration": 0.070651,
     "end_time": "2025-07-30T13:33:03.602893",
     "exception": false,
     "start_time": "2025-07-30T13:33:03.532242",
     "status": "completed"
    },
    "tags": []
   },
   "outputs": [],
   "source": [
    "y_train = y_train[keep_mask]"
   ]
  },
  {
   "cell_type": "markdown",
   "id": "493e2ac3",
   "metadata": {
    "papermill": {
     "duration": 0.025738,
     "end_time": "2025-07-30T13:33:03.677057",
     "exception": false,
     "start_time": "2025-07-30T13:33:03.651319",
     "status": "completed"
    },
    "tags": []
   },
   "source": [
    "# Model Training"
   ]
  },
  {
   "cell_type": "code",
   "execution_count": 41,
   "id": "679e1268",
   "metadata": {
    "execution": {
     "iopub.execute_input": "2025-07-30T13:33:03.723021Z",
     "iopub.status.busy": "2025-07-30T13:33:03.722635Z",
     "iopub.status.idle": "2025-07-30T13:33:03.870123Z",
     "shell.execute_reply": "2025-07-30T13:33:03.869234Z"
    },
    "papermill": {
     "duration": 0.172936,
     "end_time": "2025-07-30T13:33:03.872058",
     "exception": false,
     "start_time": "2025-07-30T13:33:03.699122",
     "status": "completed"
    },
    "tags": []
   },
   "outputs": [],
   "source": [
    "from sklearn.linear_model import LogisticRegression\n",
    "from sklearn.ensemble import GradientBoostingClassifier, RandomForestClassifier\n",
    "\n",
    "if (universe[\"model\"] == \"logreg\"):\n",
    "    model = LogisticRegression() #penalty=\"none\") #, solver=\"newton-cg\", max_iter=1) # include random_state=19 ?\n",
    "elif (universe[\"model\"] == \"penalized_logreg\"):\n",
    "    model = LogisticRegression(penalty=\"l2\", C=1.0) #, solver=\"newton-cg\", max_iter=1)\n",
    "elif (universe[\"model\"] == \"rf\"):\n",
    "    model = RandomForestClassifier(n_estimators=100, n_jobs=-1)\n",
    "elif (universe[\"model\"] == \"gbm\"):\n",
    "    model = GradientBoostingClassifier()\n",
    "elif (universe[\"model\"] == \"elasticnet\"):\n",
    "    model = LogisticRegression(penalty = 'elasticnet', solver = 'saga', l1_ratio = 0.5, max_iter=5000) # which solver to use?\n",
    "else:\n",
    "    raise \"Unsupported universe.model\""
   ]
  },
  {
   "cell_type": "code",
   "execution_count": 42,
   "id": "0cc8f744",
   "metadata": {
    "execution": {
     "iopub.execute_input": "2025-07-30T13:33:03.921191Z",
     "iopub.status.busy": "2025-07-30T13:33:03.920774Z",
     "iopub.status.idle": "2025-07-30T13:33:03.927561Z",
     "shell.execute_reply": "2025-07-30T13:33:03.926604Z"
    },
    "papermill": {
     "duration": 0.034357,
     "end_time": "2025-07-30T13:33:03.930982",
     "exception": false,
     "start_time": "2025-07-30T13:33:03.896625",
     "status": "completed"
    },
    "tags": []
   },
   "outputs": [],
   "source": [
    "import numpy as np\n",
    "from sklearn.pipeline import Pipeline\n",
    "from sklearn.preprocessing import StandardScaler\n",
    "\n",
    "model = Pipeline([\n",
    "    #(\"continuous_processor\", continuous_processor),\n",
    "    #(\"categorical_preprocessor\", categorical_preprocessor),\n",
    "    (\"scale\", StandardScaler() if universe[\"scale\"] == \"scale\" else None), \n",
    "    (\"model\", model),\n",
    "])"
   ]
  },
  {
   "cell_type": "code",
   "execution_count": 43,
   "id": "9442c04d",
   "metadata": {
    "execution": {
     "iopub.execute_input": "2025-07-30T13:33:04.043480Z",
     "iopub.status.busy": "2025-07-30T13:33:04.043096Z",
     "iopub.status.idle": "2025-07-30T13:33:08.824113Z",
     "shell.execute_reply": "2025-07-30T13:33:08.822709Z"
    },
    "papermill": {
     "duration": 4.829079,
     "end_time": "2025-07-30T13:33:08.826541",
     "exception": false,
     "start_time": "2025-07-30T13:33:03.997462",
     "status": "completed"
    },
    "tags": []
   },
   "outputs": [
    {
     "data": {
      "text/html": [
       "<style>#sk-container-id-1 {color: black;background-color: white;}#sk-container-id-1 pre{padding: 0;}#sk-container-id-1 div.sk-toggleable {background-color: white;}#sk-container-id-1 label.sk-toggleable__label {cursor: pointer;display: block;width: 100%;margin-bottom: 0;padding: 0.3em;box-sizing: border-box;text-align: center;}#sk-container-id-1 label.sk-toggleable__label-arrow:before {content: \"▸\";float: left;margin-right: 0.25em;color: #696969;}#sk-container-id-1 label.sk-toggleable__label-arrow:hover:before {color: black;}#sk-container-id-1 div.sk-estimator:hover label.sk-toggleable__label-arrow:before {color: black;}#sk-container-id-1 div.sk-toggleable__content {max-height: 0;max-width: 0;overflow: hidden;text-align: left;background-color: #f0f8ff;}#sk-container-id-1 div.sk-toggleable__content pre {margin: 0.2em;color: black;border-radius: 0.25em;background-color: #f0f8ff;}#sk-container-id-1 input.sk-toggleable__control:checked~div.sk-toggleable__content {max-height: 200px;max-width: 100%;overflow: auto;}#sk-container-id-1 input.sk-toggleable__control:checked~label.sk-toggleable__label-arrow:before {content: \"▾\";}#sk-container-id-1 div.sk-estimator input.sk-toggleable__control:checked~label.sk-toggleable__label {background-color: #d4ebff;}#sk-container-id-1 div.sk-label input.sk-toggleable__control:checked~label.sk-toggleable__label {background-color: #d4ebff;}#sk-container-id-1 input.sk-hidden--visually {border: 0;clip: rect(1px 1px 1px 1px);clip: rect(1px, 1px, 1px, 1px);height: 1px;margin: -1px;overflow: hidden;padding: 0;position: absolute;width: 1px;}#sk-container-id-1 div.sk-estimator {font-family: monospace;background-color: #f0f8ff;border: 1px dotted black;border-radius: 0.25em;box-sizing: border-box;margin-bottom: 0.5em;}#sk-container-id-1 div.sk-estimator:hover {background-color: #d4ebff;}#sk-container-id-1 div.sk-parallel-item::after {content: \"\";width: 100%;border-bottom: 1px solid gray;flex-grow: 1;}#sk-container-id-1 div.sk-label:hover label.sk-toggleable__label {background-color: #d4ebff;}#sk-container-id-1 div.sk-serial::before {content: \"\";position: absolute;border-left: 1px solid gray;box-sizing: border-box;top: 0;bottom: 0;left: 50%;z-index: 0;}#sk-container-id-1 div.sk-serial {display: flex;flex-direction: column;align-items: center;background-color: white;padding-right: 0.2em;padding-left: 0.2em;position: relative;}#sk-container-id-1 div.sk-item {position: relative;z-index: 1;}#sk-container-id-1 div.sk-parallel {display: flex;align-items: stretch;justify-content: center;background-color: white;position: relative;}#sk-container-id-1 div.sk-item::before, #sk-container-id-1 div.sk-parallel-item::before {content: \"\";position: absolute;border-left: 1px solid gray;box-sizing: border-box;top: 0;bottom: 0;left: 50%;z-index: -1;}#sk-container-id-1 div.sk-parallel-item {display: flex;flex-direction: column;z-index: 1;position: relative;background-color: white;}#sk-container-id-1 div.sk-parallel-item:first-child::after {align-self: flex-end;width: 50%;}#sk-container-id-1 div.sk-parallel-item:last-child::after {align-self: flex-start;width: 50%;}#sk-container-id-1 div.sk-parallel-item:only-child::after {width: 0;}#sk-container-id-1 div.sk-dashed-wrapped {border: 1px dashed gray;margin: 0 0.4em 0.5em 0.4em;box-sizing: border-box;padding-bottom: 0.4em;background-color: white;}#sk-container-id-1 div.sk-label label {font-family: monospace;font-weight: bold;display: inline-block;line-height: 1.2em;}#sk-container-id-1 div.sk-label-container {text-align: center;}#sk-container-id-1 div.sk-container {/* jupyter's `normalize.less` sets `[hidden] { display: none; }` but bootstrap.min.css set `[hidden] { display: none !important; }` so we also need the `!important` here to be able to override the default hidden behavior on the sphinx rendered scikit-learn.org. See: https://github.com/scikit-learn/scikit-learn/issues/21755 */display: inline-block !important;position: relative;}#sk-container-id-1 div.sk-text-repr-fallback {display: none;}</style><div id=\"sk-container-id-1\" class=\"sk-top-container\"><div class=\"sk-text-repr-fallback\"><pre>Pipeline(steps=[(&#x27;scale&#x27;, None), (&#x27;model&#x27;, RandomForestClassifier(n_jobs=-1))])</pre><b>In a Jupyter environment, please rerun this cell to show the HTML representation or trust the notebook. <br />On GitHub, the HTML representation is unable to render, please try loading this page with nbviewer.org.</b></div><div class=\"sk-container\" hidden><div class=\"sk-item sk-dashed-wrapped\"><div class=\"sk-label-container\"><div class=\"sk-label sk-toggleable\"><input class=\"sk-toggleable__control sk-hidden--visually\" id=\"sk-estimator-id-1\" type=\"checkbox\" ><label for=\"sk-estimator-id-1\" class=\"sk-toggleable__label sk-toggleable__label-arrow\">Pipeline</label><div class=\"sk-toggleable__content\"><pre>Pipeline(steps=[(&#x27;scale&#x27;, None), (&#x27;model&#x27;, RandomForestClassifier(n_jobs=-1))])</pre></div></div></div><div class=\"sk-serial\"><div class=\"sk-item\"><div class=\"sk-estimator sk-toggleable\"><input class=\"sk-toggleable__control sk-hidden--visually\" id=\"sk-estimator-id-2\" type=\"checkbox\" ><label for=\"sk-estimator-id-2\" class=\"sk-toggleable__label sk-toggleable__label-arrow\">None</label><div class=\"sk-toggleable__content\"><pre>None</pre></div></div></div><div class=\"sk-item\"><div class=\"sk-estimator sk-toggleable\"><input class=\"sk-toggleable__control sk-hidden--visually\" id=\"sk-estimator-id-3\" type=\"checkbox\" ><label for=\"sk-estimator-id-3\" class=\"sk-toggleable__label sk-toggleable__label-arrow\">RandomForestClassifier</label><div class=\"sk-toggleable__content\"><pre>RandomForestClassifier(n_jobs=-1)</pre></div></div></div></div></div></div></div>"
      ],
      "text/plain": [
       "Pipeline(steps=[('scale', None), ('model', RandomForestClassifier(n_jobs=-1))])"
      ]
     },
     "execution_count": 43,
     "metadata": {},
     "output_type": "execute_result"
    }
   ],
   "source": [
    "model.fit(X_train, y_train.values.ravel())"
   ]
  },
  {
   "cell_type": "code",
   "execution_count": 44,
   "id": "af59f8c0",
   "metadata": {
    "execution": {
     "iopub.execute_input": "2025-07-30T13:33:08.949972Z",
     "iopub.status.busy": "2025-07-30T13:33:08.949573Z",
     "iopub.status.idle": "2025-07-30T13:33:08.955243Z",
     "shell.execute_reply": "2025-07-30T13:33:08.954209Z"
    },
    "papermill": {
     "duration": 0.069907,
     "end_time": "2025-07-30T13:33:08.957401",
     "exception": false,
     "start_time": "2025-07-30T13:33:08.887494",
     "status": "completed"
    },
    "tags": []
   },
   "outputs": [],
   "source": [
    "from fairness_multiverse.universe import predict_w_threshold"
   ]
  },
  {
   "cell_type": "code",
   "execution_count": 45,
   "id": "a7cf2e16",
   "metadata": {
    "execution": {
     "iopub.execute_input": "2025-07-30T13:33:09.017323Z",
     "iopub.status.busy": "2025-07-30T13:33:09.016904Z",
     "iopub.status.idle": "2025-07-30T13:33:10.553325Z",
     "shell.execute_reply": "2025-07-30T13:33:10.552406Z"
    },
    "papermill": {
     "duration": 1.565441,
     "end_time": "2025-07-30T13:33:10.555387",
     "exception": false,
     "start_time": "2025-07-30T13:33:08.989946",
     "status": "completed"
    },
    "tags": []
   },
   "outputs": [
    {
     "data": {
      "text/plain": [
       "0.8676624679522907"
      ]
     },
     "execution_count": 45,
     "metadata": {},
     "output_type": "execute_result"
    }
   ],
   "source": [
    "probs_test = model.predict_proba(X_test)\n",
    "\n",
    "'''\n",
    "Below code returns a boolean array (or binary 0/1 array depending on how it’s used) where each element \n",
    "is True if the probability of class 1 is greater than or equal to the threshold, and False otherwise.\n",
    "'''\n",
    "y_pred_default = predict_w_threshold(probs_test, 0.5)\n",
    "\n",
    "from sklearn.metrics import accuracy_score\n",
    "\n",
    "# Naive prediction\n",
    "accuracy_score(y_true = y_true, y_pred = y_pred_default)"
   ]
  },
  {
   "cell_type": "code",
   "execution_count": 46,
   "id": "081964c3",
   "metadata": {
    "execution": {
     "iopub.execute_input": "2025-07-30T13:33:10.670286Z",
     "iopub.status.busy": "2025-07-30T13:33:10.669852Z",
     "iopub.status.idle": "2025-07-30T13:33:12.082984Z",
     "shell.execute_reply": "2025-07-30T13:33:12.082112Z"
    },
    "papermill": {
     "duration": 1.496697,
     "end_time": "2025-07-30T13:33:12.084949",
     "exception": false,
     "start_time": "2025-07-30T13:33:10.588252",
     "status": "completed"
    },
    "tags": []
   },
   "outputs": [
    {
     "data": {
      "text/plain": [
       "array([0, 0, 0, ..., 0, 0, 0])"
      ]
     },
     "execution_count": 46,
     "metadata": {},
     "output_type": "execute_result"
    }
   ],
   "source": [
    "model.predict(X_test)"
   ]
  },
  {
   "cell_type": "markdown",
   "id": "56c9705b",
   "metadata": {
    "papermill": {
     "duration": 0.023381,
     "end_time": "2025-07-30T13:33:12.170274",
     "exception": false,
     "start_time": "2025-07-30T13:33:12.146893",
     "status": "completed"
    },
    "tags": []
   },
   "source": [
    "# Conformal Prediction"
   ]
  },
  {
   "cell_type": "code",
   "execution_count": 47,
   "id": "160ec6ff",
   "metadata": {
    "execution": {
     "iopub.execute_input": "2025-07-30T13:33:12.259232Z",
     "iopub.status.busy": "2025-07-30T13:33:12.258747Z",
     "iopub.status.idle": "2025-07-30T13:33:12.264426Z",
     "shell.execute_reply": "2025-07-30T13:33:12.263588Z"
    },
    "papermill": {
     "duration": 0.082082,
     "end_time": "2025-07-30T13:33:12.278261",
     "exception": false,
     "start_time": "2025-07-30T13:33:12.196179",
     "status": "completed"
    },
    "tags": []
   },
   "outputs": [],
   "source": [
    "# Miscoverage level for conformal prediction (10% allowed error rate => 90% target coverage)\n",
    "alpha = 0.1"
   ]
  },
  {
   "cell_type": "code",
   "execution_count": 48,
   "id": "eadf4555-3dd3-440e-8e35-f82a4ad9f855",
   "metadata": {
    "execution": {
     "iopub.execute_input": "2025-07-30T13:33:12.436678Z",
     "iopub.status.busy": "2025-07-30T13:33:12.436237Z",
     "iopub.status.idle": "2025-07-30T13:33:13.789841Z",
     "shell.execute_reply": "2025-07-30T13:33:13.788723Z"
    },
    "papermill": {
     "duration": 1.431399,
     "end_time": "2025-07-30T13:33:13.791742",
     "exception": false,
     "start_time": "2025-07-30T13:33:12.360343",
     "status": "completed"
    },
    "tags": []
   },
   "outputs": [],
   "source": [
    "probs_calib = model.predict_proba(X_calib)"
   ]
  },
  {
   "cell_type": "code",
   "execution_count": 49,
   "id": "2ed93547-6d5d-4983-9b36-1ecb300da49a",
   "metadata": {
    "execution": {
     "iopub.execute_input": "2025-07-30T13:33:13.850628Z",
     "iopub.status.busy": "2025-07-30T13:33:13.850059Z",
     "iopub.status.idle": "2025-07-30T13:33:13.855658Z",
     "shell.execute_reply": "2025-07-30T13:33:13.854657Z"
    },
    "papermill": {
     "duration": 0.036174,
     "end_time": "2025-07-30T13:33:13.857535",
     "exception": false,
     "start_time": "2025-07-30T13:33:13.821361",
     "status": "completed"
    },
    "tags": []
   },
   "outputs": [],
   "source": [
    "y_calib = y_calib.values.ravel().astype(int)"
   ]
  },
  {
   "cell_type": "code",
   "execution_count": 50,
   "id": "65d1320d-f588-4b38-9072-62af1ae97f7d",
   "metadata": {
    "execution": {
     "iopub.execute_input": "2025-07-30T13:33:13.914365Z",
     "iopub.status.busy": "2025-07-30T13:33:13.913717Z",
     "iopub.status.idle": "2025-07-30T13:33:13.922163Z",
     "shell.execute_reply": "2025-07-30T13:33:13.921289Z"
    },
    "papermill": {
     "duration": 0.038379,
     "end_time": "2025-07-30T13:33:13.923827",
     "exception": false,
     "start_time": "2025-07-30T13:33:13.885448",
     "status": "completed"
    },
    "tags": []
   },
   "outputs": [],
   "source": [
    "from fairness_multiverse.conformal import compute_nc_scores\n",
    "\n",
    "# Compute nonconformity scores on calibration set (1 - probability of true class)\n",
    "nc_scores = compute_nc_scores(probs_calib, y_calib)"
   ]
  },
  {
   "cell_type": "code",
   "execution_count": 51,
   "id": "df3b8ca3-53b7-43d5-9667-7c85da7aeda2",
   "metadata": {
    "execution": {
     "iopub.execute_input": "2025-07-30T13:33:13.979043Z",
     "iopub.status.busy": "2025-07-30T13:33:13.978388Z",
     "iopub.status.idle": "2025-07-30T13:33:13.985457Z",
     "shell.execute_reply": "2025-07-30T13:33:13.984461Z"
    },
    "papermill": {
     "duration": 0.036441,
     "end_time": "2025-07-30T13:33:13.987248",
     "exception": false,
     "start_time": "2025-07-30T13:33:13.950807",
     "status": "completed"
    },
    "tags": []
   },
   "outputs": [],
   "source": [
    "from fairness_multiverse.conformal import find_threshold\n",
    "\n",
    "# Find conformal threshold q_hat for the given alpha (split conformal method)\n",
    "q_hat = find_threshold(nc_scores, alpha)"
   ]
  },
  {
   "cell_type": "code",
   "execution_count": 52,
   "id": "4d29e6c1-0ef6-4aa4-b8fe-4fe79b0d033a",
   "metadata": {
    "execution": {
     "iopub.execute_input": "2025-07-30T13:33:14.016429Z",
     "iopub.status.busy": "2025-07-30T13:33:14.016015Z",
     "iopub.status.idle": "2025-07-30T13:33:14.022400Z",
     "shell.execute_reply": "2025-07-30T13:33:14.021665Z"
    },
    "papermill": {
     "duration": 0.021492,
     "end_time": "2025-07-30T13:33:14.024566",
     "exception": false,
     "start_time": "2025-07-30T13:33:14.003074",
     "status": "completed"
    },
    "tags": []
   },
   "outputs": [
    {
     "data": {
      "text/plain": [
       "0.6599999999999999"
      ]
     },
     "execution_count": 52,
     "metadata": {},
     "output_type": "execute_result"
    }
   ],
   "source": [
    "q_hat"
   ]
  },
  {
   "cell_type": "code",
   "execution_count": 53,
   "id": "92460794-cdac-4be2-ba28-f28c0515a6fb",
   "metadata": {
    "execution": {
     "iopub.execute_input": "2025-07-30T13:33:14.076779Z",
     "iopub.status.busy": "2025-07-30T13:33:14.076310Z",
     "iopub.status.idle": "2025-07-30T13:33:15.920207Z",
     "shell.execute_reply": "2025-07-30T13:33:15.919108Z"
    },
    "papermill": {
     "duration": 1.871299,
     "end_time": "2025-07-30T13:33:15.922142",
     "exception": false,
     "start_time": "2025-07-30T13:33:14.050843",
     "status": "completed"
    },
    "tags": []
   },
   "outputs": [],
   "source": [
    "from fairness_multiverse.conformal import predict_conformal_sets\n",
    "\n",
    "# Generate prediction sets for each test example\n",
    "pred_sets = predict_conformal_sets(model, X_test, q_hat)"
   ]
  },
  {
   "cell_type": "code",
   "execution_count": 54,
   "id": "d90c9a65-e6db-4f5d-80cd-e68fb7e46829",
   "metadata": {
    "execution": {
     "iopub.execute_input": "2025-07-30T13:33:15.978555Z",
     "iopub.status.busy": "2025-07-30T13:33:15.978075Z",
     "iopub.status.idle": "2025-07-30T13:33:15.983647Z",
     "shell.execute_reply": "2025-07-30T13:33:15.982805Z"
    },
    "papermill": {
     "duration": 0.034704,
     "end_time": "2025-07-30T13:33:15.985144",
     "exception": false,
     "start_time": "2025-07-30T13:33:15.950440",
     "status": "completed"
    },
    "tags": []
   },
   "outputs": [],
   "source": [
    "y_true = y_true.squeeze()"
   ]
  },
  {
   "cell_type": "code",
   "execution_count": 55,
   "id": "3a58a54a-1e68-46b9-927a-df01f18aebc8",
   "metadata": {
    "execution": {
     "iopub.execute_input": "2025-07-30T13:33:16.039693Z",
     "iopub.status.busy": "2025-07-30T13:33:16.038517Z",
     "iopub.status.idle": "2025-07-30T13:33:16.966551Z",
     "shell.execute_reply": "2025-07-30T13:33:16.965554Z"
    },
    "papermill": {
     "duration": 0.957261,
     "end_time": "2025-07-30T13:33:16.968468",
     "exception": false,
     "start_time": "2025-07-30T13:33:16.011207",
     "status": "completed"
    },
    "tags": []
   },
   "outputs": [],
   "source": [
    "from fairness_multiverse.conformal import evaluate_sets\n",
    "\n",
    "# Evaluate coverage and average set size on test data\n",
    "metrics = evaluate_sets(pred_sets, y_true)"
   ]
  },
  {
   "cell_type": "markdown",
   "id": "2b569c12-9aaa-4c88-98c9-bbcd0cf3ebb8",
   "metadata": {
    "papermill": {
     "duration": 0.027283,
     "end_time": "2025-07-30T13:33:17.024796",
     "exception": false,
     "start_time": "2025-07-30T13:33:16.997513",
     "status": "completed"
    },
    "tags": []
   },
   "source": [
    "# CP Metrics"
   ]
  },
  {
   "cell_type": "code",
   "execution_count": 56,
   "id": "5ce0a5cb-201f-45a0-ade5-94c7f0bd6095",
   "metadata": {
    "execution": {
     "iopub.execute_input": "2025-07-30T13:33:17.082172Z",
     "iopub.status.busy": "2025-07-30T13:33:17.081511Z",
     "iopub.status.idle": "2025-07-30T13:33:17.088760Z",
     "shell.execute_reply": "2025-07-30T13:33:17.087763Z"
    },
    "papermill": {
     "duration": 0.038258,
     "end_time": "2025-07-30T13:33:17.090431",
     "exception": false,
     "start_time": "2025-07-30T13:33:17.052173",
     "status": "completed"
    },
    "tags": []
   },
   "outputs": [
    {
     "data": {
      "text/plain": [
       "{'coverage': 0.9144576970237431, 'avg_size': 1.1418793891427934}"
      ]
     },
     "execution_count": 56,
     "metadata": {},
     "output_type": "execute_result"
    }
   ],
   "source": [
    "metrics"
   ]
  },
  {
   "cell_type": "code",
   "execution_count": 57,
   "id": "9b9a838d-31c9-430b-ae14-12baee460d17",
   "metadata": {
    "execution": {
     "iopub.execute_input": "2025-07-30T13:33:17.148367Z",
     "iopub.status.busy": "2025-07-30T13:33:17.147558Z",
     "iopub.status.idle": "2025-07-30T13:33:17.153756Z",
     "shell.execute_reply": "2025-07-30T13:33:17.152808Z"
    },
    "papermill": {
     "duration": 0.036842,
     "end_time": "2025-07-30T13:33:17.155518",
     "exception": false,
     "start_time": "2025-07-30T13:33:17.118676",
     "status": "completed"
    },
    "tags": []
   },
   "outputs": [],
   "source": [
    "example_universe = universe.copy()\n",
    "universe_training_size = example_universe.get(\"training_size\")\n",
    "universe_scale = example_universe.get(\"scale\")\n",
    "universe_model = example_universe.get(\"model\")\n",
    "universe_exclude_features = example_universe.get(\"exclude_features\")\n",
    "universe_exclude_subgroups = example_universe.get(\"exclude_subgroups\")"
   ]
  },
  {
   "cell_type": "code",
   "execution_count": 58,
   "id": "f4b6a8ac-9dc0-4245-8a91-5b3b5999c4f9",
   "metadata": {
    "execution": {
     "iopub.execute_input": "2025-07-30T13:33:17.214315Z",
     "iopub.status.busy": "2025-07-30T13:33:17.212773Z",
     "iopub.status.idle": "2025-07-30T13:33:17.219748Z",
     "shell.execute_reply": "2025-07-30T13:33:17.218726Z"
    },
    "papermill": {
     "duration": 0.037671,
     "end_time": "2025-07-30T13:33:17.221534",
     "exception": false,
     "start_time": "2025-07-30T13:33:17.183863",
     "status": "completed"
    },
    "tags": []
   },
   "outputs": [],
   "source": [
    "cp_metrics_dict = {\n",
    "    \"universe_id\": [universe_id],\n",
    "    \"universe_training_size\": [universe_training_size],\n",
    "    \"universe_scale\": [universe_scale],\n",
    "    \"universe_model\": [universe_model],\n",
    "    \"universe_exclude_features\": [universe_exclude_features],\n",
    "    \"universe_exclude_subgroups\": [universe_exclude_subgroups],\n",
    "    \"q_hat\": [q_hat],\n",
    "    \"coverage\": [metrics[\"coverage\"]],\n",
    "    \"avg_size\": [metrics[\"avg_size\"]],\n",
    "}"
   ]
  },
  {
   "cell_type": "code",
   "execution_count": 59,
   "id": "908acbb1-0371-4915-85ca-3fa520d2efe2",
   "metadata": {
    "execution": {
     "iopub.execute_input": "2025-07-30T13:33:17.278693Z",
     "iopub.status.busy": "2025-07-30T13:33:17.278385Z",
     "iopub.status.idle": "2025-07-30T13:33:17.285357Z",
     "shell.execute_reply": "2025-07-30T13:33:17.284388Z"
    },
    "papermill": {
     "duration": 0.037191,
     "end_time": "2025-07-30T13:33:17.286991",
     "exception": false,
     "start_time": "2025-07-30T13:33:17.249800",
     "status": "completed"
    },
    "tags": []
   },
   "outputs": [
    {
     "data": {
      "text/plain": [
       "{'universe_id': ['199c7b93fe1f9e3a163888a721fa0695'],\n",
       " 'universe_training_size': ['25k'],\n",
       " 'universe_scale': ['do-not-scale'],\n",
       " 'universe_model': ['rf'],\n",
       " 'universe_exclude_features': ['age'],\n",
       " 'universe_exclude_subgroups': ['keep-all'],\n",
       " 'q_hat': [0.6599999999999999],\n",
       " 'coverage': [0.9144576970237431],\n",
       " 'avg_size': [1.1418793891427934]}"
      ]
     },
     "execution_count": 59,
     "metadata": {},
     "output_type": "execute_result"
    }
   ],
   "source": [
    "cp_metrics_dict"
   ]
  },
  {
   "cell_type": "code",
   "execution_count": 60,
   "id": "33007efc-14e9-4ec6-97ac-56a455c82265",
   "metadata": {
    "execution": {
     "iopub.execute_input": "2025-07-30T13:33:17.344115Z",
     "iopub.status.busy": "2025-07-30T13:33:17.343781Z",
     "iopub.status.idle": "2025-07-30T13:33:17.349014Z",
     "shell.execute_reply": "2025-07-30T13:33:17.347975Z"
    },
    "papermill": {
     "duration": 0.035698,
     "end_time": "2025-07-30T13:33:17.350704",
     "exception": false,
     "start_time": "2025-07-30T13:33:17.315006",
     "status": "completed"
    },
    "tags": []
   },
   "outputs": [],
   "source": [
    "cp_metrics_df = pd.DataFrame(cp_metrics_dict)"
   ]
  },
  {
   "cell_type": "code",
   "execution_count": 61,
   "id": "db12611b-57b2-4910-b9d0-355adfd6e7bf",
   "metadata": {
    "execution": {
     "iopub.execute_input": "2025-07-30T13:33:17.408059Z",
     "iopub.status.busy": "2025-07-30T13:33:17.407459Z",
     "iopub.status.idle": "2025-07-30T13:33:17.428533Z",
     "shell.execute_reply": "2025-07-30T13:33:17.427510Z"
    },
    "papermill": {
     "duration": 0.051446,
     "end_time": "2025-07-30T13:33:17.430301",
     "exception": false,
     "start_time": "2025-07-30T13:33:17.378855",
     "status": "completed"
    },
    "tags": []
   },
   "outputs": [
    {
     "data": {
      "text/html": [
       "<div>\n",
       "<style scoped>\n",
       "    .dataframe tbody tr th:only-of-type {\n",
       "        vertical-align: middle;\n",
       "    }\n",
       "\n",
       "    .dataframe tbody tr th {\n",
       "        vertical-align: top;\n",
       "    }\n",
       "\n",
       "    .dataframe thead th {\n",
       "        text-align: right;\n",
       "    }\n",
       "</style>\n",
       "<table border=\"1\" class=\"dataframe\">\n",
       "  <thead>\n",
       "    <tr style=\"text-align: right;\">\n",
       "      <th></th>\n",
       "      <th>universe_id</th>\n",
       "      <th>universe_training_size</th>\n",
       "      <th>universe_scale</th>\n",
       "      <th>universe_model</th>\n",
       "      <th>universe_exclude_features</th>\n",
       "      <th>universe_exclude_subgroups</th>\n",
       "      <th>q_hat</th>\n",
       "      <th>coverage</th>\n",
       "      <th>avg_size</th>\n",
       "    </tr>\n",
       "  </thead>\n",
       "  <tbody>\n",
       "    <tr>\n",
       "      <th>0</th>\n",
       "      <td>199c7b93fe1f9e3a163888a721fa0695</td>\n",
       "      <td>25k</td>\n",
       "      <td>do-not-scale</td>\n",
       "      <td>rf</td>\n",
       "      <td>age</td>\n",
       "      <td>keep-all</td>\n",
       "      <td>0.66</td>\n",
       "      <td>0.914458</td>\n",
       "      <td>1.141879</td>\n",
       "    </tr>\n",
       "  </tbody>\n",
       "</table>\n",
       "</div>"
      ],
      "text/plain": [
       "                        universe_id universe_training_size universe_scale  \\\n",
       "0  199c7b93fe1f9e3a163888a721fa0695                    25k   do-not-scale   \n",
       "\n",
       "  universe_model universe_exclude_features universe_exclude_subgroups  q_hat  \\\n",
       "0             rf                       age                   keep-all   0.66   \n",
       "\n",
       "   coverage  avg_size  \n",
       "0  0.914458  1.141879  "
      ]
     },
     "execution_count": 61,
     "metadata": {},
     "output_type": "execute_result"
    }
   ],
   "source": [
    "cp_metrics_df"
   ]
  },
  {
   "cell_type": "code",
   "execution_count": 62,
   "id": "b7fbde55-a0a1-47e4-9af6-fe4a17fa8c61",
   "metadata": {
    "execution": {
     "iopub.execute_input": "2025-07-30T13:33:17.488957Z",
     "iopub.status.busy": "2025-07-30T13:33:17.488549Z",
     "iopub.status.idle": "2025-07-30T13:33:17.493338Z",
     "shell.execute_reply": "2025-07-30T13:33:17.492372Z"
    },
    "papermill": {
     "duration": 0.036077,
     "end_time": "2025-07-30T13:33:17.495133",
     "exception": false,
     "start_time": "2025-07-30T13:33:17.459056",
     "status": "completed"
    },
    "tags": []
   },
   "outputs": [],
   "source": [
    "# Conditional Coverage & looking at subgroups"
   ]
  },
  {
   "cell_type": "code",
   "execution_count": 63,
   "id": "027ae886-68dd-4141-96c7-805a5450e1ef",
   "metadata": {
    "execution": {
     "iopub.execute_input": "2025-07-30T13:33:17.553703Z",
     "iopub.status.busy": "2025-07-30T13:33:17.552820Z",
     "iopub.status.idle": "2025-07-30T13:33:17.824232Z",
     "shell.execute_reply": "2025-07-30T13:33:17.823161Z"
    },
    "papermill": {
     "duration": 0.302568,
     "end_time": "2025-07-30T13:33:17.826279",
     "exception": false,
     "start_time": "2025-07-30T13:33:17.523711",
     "status": "completed"
    },
    "tags": []
   },
   "outputs": [],
   "source": [
    "from fairness_multiverse.conformal import build_cp_groups\n",
    "\n",
    "cp_groups_df = build_cp_groups(pred_sets, y_true, X_test.index, org_test)\n",
    "#needs universe_id and setting"
   ]
  },
  {
   "cell_type": "code",
   "execution_count": 64,
   "id": "01d5802c-663a-4d1f-9d69-e036faaffbf7",
   "metadata": {
    "execution": {
     "iopub.execute_input": "2025-07-30T13:33:17.880251Z",
     "iopub.status.busy": "2025-07-30T13:33:17.879670Z",
     "iopub.status.idle": "2025-07-30T13:33:17.885245Z",
     "shell.execute_reply": "2025-07-30T13:33:17.884225Z"
    },
    "papermill": {
     "duration": 0.032689,
     "end_time": "2025-07-30T13:33:17.886928",
     "exception": false,
     "start_time": "2025-07-30T13:33:17.854239",
     "status": "completed"
    },
    "tags": []
   },
   "outputs": [],
   "source": [
    "#delete\n",
    "#cp_groups_df"
   ]
  },
  {
   "cell_type": "code",
   "execution_count": 65,
   "id": "fa424af1-d1eb-443d-b717-2d279ada8408",
   "metadata": {
    "execution": {
     "iopub.execute_input": "2025-07-30T13:33:17.948861Z",
     "iopub.status.busy": "2025-07-30T13:33:17.948324Z",
     "iopub.status.idle": "2025-07-30T13:33:17.953313Z",
     "shell.execute_reply": "2025-07-30T13:33:17.952434Z"
    },
    "papermill": {
     "duration": 0.03878,
     "end_time": "2025-07-30T13:33:17.955054",
     "exception": false,
     "start_time": "2025-07-30T13:33:17.916274",
     "status": "completed"
    },
    "tags": []
   },
   "outputs": [],
   "source": [
    "#delete\n",
    "#percentage = (cp_groups_df['nongerman_female'] == 1).mean() * 100\n",
    "#print(percentage)\n"
   ]
  },
  {
   "cell_type": "code",
   "execution_count": 66,
   "id": "6cbdab96-b2b2-45af-ad54-d0516db2e28d",
   "metadata": {
    "execution": {
     "iopub.execute_input": "2025-07-30T13:33:17.993907Z",
     "iopub.status.busy": "2025-07-30T13:33:17.993426Z",
     "iopub.status.idle": "2025-07-30T13:33:19.385745Z",
     "shell.execute_reply": "2025-07-30T13:33:19.384957Z"
    },
    "papermill": {
     "duration": 1.409764,
     "end_time": "2025-07-30T13:33:19.387302",
     "exception": false,
     "start_time": "2025-07-30T13:33:17.977538",
     "status": "completed"
    },
    "tags": []
   },
   "outputs": [],
   "source": [
    "# Define covered = 1 if true_label is in the predicted set\n",
    "cp_groups_df['covered'] = cp_groups_df.apply(\n",
    "    lambda r: int(r['true_label'] in r['pred_set']),\n",
    "    axis=1\n",
    ")"
   ]
  },
  {
   "cell_type": "code",
   "execution_count": 67,
   "id": "338ff529-1a6b-4b87-a931-8e4788d52aad",
   "metadata": {
    "execution": {
     "iopub.execute_input": "2025-07-30T13:33:19.417099Z",
     "iopub.status.busy": "2025-07-30T13:33:19.416601Z",
     "iopub.status.idle": "2025-07-30T13:33:19.421106Z",
     "shell.execute_reply": "2025-07-30T13:33:19.420233Z"
    },
    "papermill": {
     "duration": 0.020352,
     "end_time": "2025-07-30T13:33:19.422578",
     "exception": false,
     "start_time": "2025-07-30T13:33:19.402226",
     "status": "completed"
    },
    "tags": []
   },
   "outputs": [],
   "source": [
    "#cp_groups_df"
   ]
  },
  {
   "cell_type": "code",
   "execution_count": 68,
   "id": "90032e27-66df-4540-9169-4e89cfbaa758",
   "metadata": {
    "execution": {
     "iopub.execute_input": "2025-07-30T13:33:19.481437Z",
     "iopub.status.busy": "2025-07-30T13:33:19.481011Z",
     "iopub.status.idle": "2025-07-30T13:33:19.494092Z",
     "shell.execute_reply": "2025-07-30T13:33:19.492963Z"
    },
    "papermill": {
     "duration": 0.044238,
     "end_time": "2025-07-30T13:33:19.495838",
     "exception": false,
     "start_time": "2025-07-30T13:33:19.451600",
     "status": "completed"
    },
    "tags": []
   },
   "outputs": [],
   "source": [
    "subgroups = ['frau1','nongerman','nongerman_male','nongerman_female']\n",
    "\n",
    "# Conditional coverage for subgroup==1\n",
    "cond_coverage = {\n",
    "    g: cp_groups_df.loc[cp_groups_df[g]==1, 'covered'].mean()\n",
    "    for g in subgroups\n",
    "}"
   ]
  },
  {
   "cell_type": "code",
   "execution_count": 69,
   "id": "1e348fb1-b9c3-45bc-ba23-f016827a7e0d",
   "metadata": {
    "execution": {
     "iopub.execute_input": "2025-07-30T13:33:19.549057Z",
     "iopub.status.busy": "2025-07-30T13:33:19.548697Z",
     "iopub.status.idle": "2025-07-30T13:33:19.555084Z",
     "shell.execute_reply": "2025-07-30T13:33:19.553930Z"
    },
    "papermill": {
     "duration": 0.032083,
     "end_time": "2025-07-30T13:33:19.556983",
     "exception": false,
     "start_time": "2025-07-30T13:33:19.524900",
     "status": "completed"
    },
    "tags": []
   },
   "outputs": [
    {
     "data": {
      "text/plain": [
       "{'frau1': 0.9132497641191535,\n",
       " 'nongerman': 0.9097288497164991,\n",
       " 'nongerman_male': 0.924795100423309,\n",
       " 'nongerman_female': 0.8847988077496274}"
      ]
     },
     "execution_count": 69,
     "metadata": {},
     "output_type": "execute_result"
    }
   ],
   "source": [
    "cond_coverage"
   ]
  },
  {
   "cell_type": "code",
   "execution_count": 70,
   "id": "f5093324-c3dd-4d63-bc4c-8d945e5c8bbb",
   "metadata": {
    "execution": {
     "iopub.execute_input": "2025-07-30T13:33:19.603967Z",
     "iopub.status.busy": "2025-07-30T13:33:19.603522Z",
     "iopub.status.idle": "2025-07-30T13:33:19.610711Z",
     "shell.execute_reply": "2025-07-30T13:33:19.610005Z"
    },
    "papermill": {
     "duration": 0.026356,
     "end_time": "2025-07-30T13:33:19.611851",
     "exception": false,
     "start_time": "2025-07-30T13:33:19.585495",
     "status": "completed"
    },
    "tags": []
   },
   "outputs": [],
   "source": [
    "for subgroup, cov in cond_coverage.items():\n",
    "    cp_metrics_df[f\"cov_{subgroup}\"] = cov"
   ]
  },
  {
   "cell_type": "code",
   "execution_count": 71,
   "id": "6e872e10-dbe5-49e8-b554-5030c98ff75d",
   "metadata": {
    "execution": {
     "iopub.execute_input": "2025-07-30T13:33:19.639700Z",
     "iopub.status.busy": "2025-07-30T13:33:19.639365Z",
     "iopub.status.idle": "2025-07-30T13:33:19.656089Z",
     "shell.execute_reply": "2025-07-30T13:33:19.655318Z"
    },
    "papermill": {
     "duration": 0.031821,
     "end_time": "2025-07-30T13:33:19.657487",
     "exception": false,
     "start_time": "2025-07-30T13:33:19.625666",
     "status": "completed"
    },
    "tags": []
   },
   "outputs": [
    {
     "data": {
      "text/html": [
       "<div>\n",
       "<style scoped>\n",
       "    .dataframe tbody tr th:only-of-type {\n",
       "        vertical-align: middle;\n",
       "    }\n",
       "\n",
       "    .dataframe tbody tr th {\n",
       "        vertical-align: top;\n",
       "    }\n",
       "\n",
       "    .dataframe thead th {\n",
       "        text-align: right;\n",
       "    }\n",
       "</style>\n",
       "<table border=\"1\" class=\"dataframe\">\n",
       "  <thead>\n",
       "    <tr style=\"text-align: right;\">\n",
       "      <th></th>\n",
       "      <th>universe_id</th>\n",
       "      <th>universe_training_size</th>\n",
       "      <th>universe_scale</th>\n",
       "      <th>universe_model</th>\n",
       "      <th>universe_exclude_features</th>\n",
       "      <th>universe_exclude_subgroups</th>\n",
       "      <th>q_hat</th>\n",
       "      <th>coverage</th>\n",
       "      <th>avg_size</th>\n",
       "      <th>cov_frau1</th>\n",
       "      <th>cov_nongerman</th>\n",
       "      <th>cov_nongerman_male</th>\n",
       "      <th>cov_nongerman_female</th>\n",
       "    </tr>\n",
       "  </thead>\n",
       "  <tbody>\n",
       "    <tr>\n",
       "      <th>0</th>\n",
       "      <td>199c7b93fe1f9e3a163888a721fa0695</td>\n",
       "      <td>25k</td>\n",
       "      <td>do-not-scale</td>\n",
       "      <td>rf</td>\n",
       "      <td>age</td>\n",
       "      <td>keep-all</td>\n",
       "      <td>0.66</td>\n",
       "      <td>0.914458</td>\n",
       "      <td>1.141879</td>\n",
       "      <td>0.91325</td>\n",
       "      <td>0.909729</td>\n",
       "      <td>0.924795</td>\n",
       "      <td>0.884799</td>\n",
       "    </tr>\n",
       "  </tbody>\n",
       "</table>\n",
       "</div>"
      ],
      "text/plain": [
       "                        universe_id universe_training_size universe_scale  \\\n",
       "0  199c7b93fe1f9e3a163888a721fa0695                    25k   do-not-scale   \n",
       "\n",
       "  universe_model universe_exclude_features universe_exclude_subgroups  q_hat  \\\n",
       "0             rf                       age                   keep-all   0.66   \n",
       "\n",
       "   coverage  avg_size  cov_frau1  cov_nongerman  cov_nongerman_male  \\\n",
       "0  0.914458  1.141879    0.91325       0.909729            0.924795   \n",
       "\n",
       "   cov_nongerman_female  \n",
       "0              0.884799  "
      ]
     },
     "execution_count": 71,
     "metadata": {},
     "output_type": "execute_result"
    }
   ],
   "source": [
    "cp_metrics_df"
   ]
  },
  {
   "cell_type": "markdown",
   "id": "33774451",
   "metadata": {
    "papermill": {
     "duration": 0.013326,
     "end_time": "2025-07-30T13:33:19.685466",
     "exception": false,
     "start_time": "2025-07-30T13:33:19.672140",
     "status": "completed"
    },
    "tags": []
   },
   "source": [
    "# (Fairness) Metrics"
   ]
  },
  {
   "cell_type": "code",
   "execution_count": 72,
   "id": "debc5d62",
   "metadata": {
    "execution": {
     "iopub.execute_input": "2025-07-30T13:33:19.713611Z",
     "iopub.status.busy": "2025-07-30T13:33:19.713227Z",
     "iopub.status.idle": "2025-07-30T13:33:19.727899Z",
     "shell.execute_reply": "2025-07-30T13:33:19.727052Z"
    },
    "papermill": {
     "duration": 0.030512,
     "end_time": "2025-07-30T13:33:19.729211",
     "exception": false,
     "start_time": "2025-07-30T13:33:19.698699",
     "status": "completed"
    },
    "tags": []
   },
   "outputs": [],
   "source": [
    "# do I need to include maxdeutsch1.missing?\n",
    "\n",
    "import numpy as np\n",
    "\n",
    "colname_to_bin = \"maxdeutsch1\"\n",
    "majority_value = org_train[colname_to_bin].mode()[0]\n",
    "\n",
    "org_test[\"majmin\"] = np.where(org_test[colname_to_bin] == majority_value, \"majority\", \"minority\")"
   ]
  },
  {
   "cell_type": "code",
   "execution_count": 73,
   "id": "06a50de5",
   "metadata": {
    "execution": {
     "iopub.execute_input": "2025-07-30T13:33:19.760134Z",
     "iopub.status.busy": "2025-07-30T13:33:19.759818Z",
     "iopub.status.idle": "2025-07-30T13:33:21.257564Z",
     "shell.execute_reply": "2025-07-30T13:33:21.256641Z"
    },
    "papermill": {
     "duration": 1.515016,
     "end_time": "2025-07-30T13:33:21.259338",
     "exception": false,
     "start_time": "2025-07-30T13:33:19.744322",
     "status": "completed"
    },
    "tags": []
   },
   "outputs": [],
   "source": [
    "example_universe = universe.copy()\n",
    "example_universe[\"cutoff\"] = example_universe[\"cutoff\"][0]\n",
    "example_universe[\"eval_fairness_grouping\"] = example_universe[\"eval_fairness_grouping\"][0]\n",
    "fairness_dict, metric_frame = universe_analysis.compute_metrics(\n",
    "    example_universe,\n",
    "    y_pred_prob=probs_test,\n",
    "    y_test=y_true,\n",
    "    org_test=org_test,\n",
    ")"
   ]
  },
  {
   "cell_type": "markdown",
   "id": "f95d4e02",
   "metadata": {
    "papermill": {
     "duration": 0.029578,
     "end_time": "2025-07-30T13:33:21.317572",
     "exception": false,
     "start_time": "2025-07-30T13:33:21.287994",
     "status": "completed"
    },
    "tags": []
   },
   "source": [
    "# Overall"
   ]
  },
  {
   "cell_type": "markdown",
   "id": "bdee4871",
   "metadata": {
    "papermill": {
     "duration": 0.028611,
     "end_time": "2025-07-30T13:33:21.375172",
     "exception": false,
     "start_time": "2025-07-30T13:33:21.346561",
     "status": "completed"
    },
    "tags": []
   },
   "source": [
    "Fairness\n",
    "Main fairness target: Equalized Odds. Seems to be a better fit than equal opportunity, since we're not only interested in Y = 1. Seems to be a better fit than demographic parity, since we also care about accuracy, not just equal distribution of preds.\n",
    "\n",
    "Pick column for computation of fairness metrics\n",
    "\n",
    "Performance\n",
    "Overall performance measures, most interesting in relation to the measures split by group below"
   ]
  },
  {
   "cell_type": "code",
   "execution_count": 74,
   "id": "c4e067c6",
   "metadata": {
    "execution": {
     "iopub.execute_input": "2025-07-30T13:33:21.433583Z",
     "iopub.status.busy": "2025-07-30T13:33:21.432721Z",
     "iopub.status.idle": "2025-07-30T13:33:21.440800Z",
     "shell.execute_reply": "2025-07-30T13:33:21.439762Z"
    },
    "papermill": {
     "duration": 0.039367,
     "end_time": "2025-07-30T13:33:21.442468",
     "exception": false,
     "start_time": "2025-07-30T13:33:21.403101",
     "status": "completed"
    },
    "tags": []
   },
   "outputs": [
    {
     "data": {
      "text/plain": [
       "accuracy                   0.219507\n",
       "balanced accuracy          0.543211\n",
       "f1                         0.243392\n",
       "precision                  0.138979\n",
       "false positive rate        0.892202\n",
       "false negative rate        0.021376\n",
       "selection rate             0.903288\n",
       "count                  89710.000000\n",
       "dtype: float64"
      ]
     },
     "execution_count": 74,
     "metadata": {},
     "output_type": "execute_result"
    }
   ],
   "source": [
    "metric_frame.overall"
   ]
  },
  {
   "cell_type": "markdown",
   "id": "e968fe9d",
   "metadata": {
    "papermill": {
     "duration": 0.02971,
     "end_time": "2025-07-30T13:33:21.497588",
     "exception": false,
     "start_time": "2025-07-30T13:33:21.467878",
     "status": "completed"
    },
    "tags": []
   },
   "source": [
    "By Group"
   ]
  },
  {
   "cell_type": "code",
   "execution_count": 75,
   "id": "ec325bce",
   "metadata": {
    "execution": {
     "iopub.execute_input": "2025-07-30T13:33:21.546823Z",
     "iopub.status.busy": "2025-07-30T13:33:21.546424Z",
     "iopub.status.idle": "2025-07-30T13:33:21.561052Z",
     "shell.execute_reply": "2025-07-30T13:33:21.560178Z"
    },
    "papermill": {
     "duration": 0.036453,
     "end_time": "2025-07-30T13:33:21.562669",
     "exception": false,
     "start_time": "2025-07-30T13:33:21.526216",
     "status": "completed"
    },
    "tags": []
   },
   "outputs": [
    {
     "data": {
      "text/html": [
       "<div>\n",
       "<style scoped>\n",
       "    .dataframe tbody tr th:only-of-type {\n",
       "        vertical-align: middle;\n",
       "    }\n",
       "\n",
       "    .dataframe tbody tr th {\n",
       "        vertical-align: top;\n",
       "    }\n",
       "\n",
       "    .dataframe thead th {\n",
       "        text-align: right;\n",
       "    }\n",
       "</style>\n",
       "<table border=\"1\" class=\"dataframe\">\n",
       "  <thead>\n",
       "    <tr style=\"text-align: right;\">\n",
       "      <th></th>\n",
       "      <th>accuracy</th>\n",
       "      <th>balanced accuracy</th>\n",
       "      <th>f1</th>\n",
       "      <th>precision</th>\n",
       "      <th>false positive rate</th>\n",
       "      <th>false negative rate</th>\n",
       "      <th>selection rate</th>\n",
       "      <th>count</th>\n",
       "    </tr>\n",
       "    <tr>\n",
       "      <th>majmin</th>\n",
       "      <th></th>\n",
       "      <th></th>\n",
       "      <th></th>\n",
       "      <th></th>\n",
       "      <th></th>\n",
       "      <th></th>\n",
       "      <th></th>\n",
       "      <th></th>\n",
       "    </tr>\n",
       "  </thead>\n",
       "  <tbody>\n",
       "    <tr>\n",
       "      <th>majority</th>\n",
       "      <td>0.215513</td>\n",
       "      <td>0.542377</td>\n",
       "      <td>0.249464</td>\n",
       "      <td>0.142783</td>\n",
       "      <td>0.901899</td>\n",
       "      <td>0.013348</td>\n",
       "      <td>0.913098</td>\n",
       "      <td>69170.0</td>\n",
       "    </tr>\n",
       "    <tr>\n",
       "      <th>minority</th>\n",
       "      <td>0.232960</td>\n",
       "      <td>0.543733</td>\n",
       "      <td>0.221706</td>\n",
       "      <td>0.125538</td>\n",
       "      <td>0.860169</td>\n",
       "      <td>0.052365</td>\n",
       "      <td>0.870253</td>\n",
       "      <td>20540.0</td>\n",
       "    </tr>\n",
       "  </tbody>\n",
       "</table>\n",
       "</div>"
      ],
      "text/plain": [
       "          accuracy  balanced accuracy        f1  precision  \\\n",
       "majmin                                                       \n",
       "majority  0.215513           0.542377  0.249464   0.142783   \n",
       "minority  0.232960           0.543733  0.221706   0.125538   \n",
       "\n",
       "          false positive rate  false negative rate  selection rate    count  \n",
       "majmin                                                                       \n",
       "majority             0.901899             0.013348        0.913098  69170.0  \n",
       "minority             0.860169             0.052365        0.870253  20540.0  "
      ]
     },
     "execution_count": 75,
     "metadata": {},
     "output_type": "execute_result"
    }
   ],
   "source": [
    "metric_frame.by_group"
   ]
  },
  {
   "cell_type": "code",
   "execution_count": 76,
   "id": "a9ddbe63",
   "metadata": {
    "execution": {
     "iopub.execute_input": "2025-07-30T13:33:21.621759Z",
     "iopub.status.busy": "2025-07-30T13:33:21.621311Z",
     "iopub.status.idle": "2025-07-30T13:33:23.949311Z",
     "shell.execute_reply": "2025-07-30T13:33:23.948293Z"
    },
    "papermill": {
     "duration": 2.359317,
     "end_time": "2025-07-30T13:33:23.950975",
     "exception": false,
     "start_time": "2025-07-30T13:33:21.591658",
     "status": "completed"
    },
    "tags": []
   },
   "outputs": [
    {
     "data": {
      "text/plain": [
       "array([[<Axes: title={'center': 'accuracy'}, xlabel='majmin'>,\n",
       "        <Axes: title={'center': 'balanced accuracy'}, xlabel='majmin'>,\n",
       "        <Axes: title={'center': 'f1'}, xlabel='majmin'>],\n",
       "       [<Axes: title={'center': 'precision'}, xlabel='majmin'>,\n",
       "        <Axes: title={'center': 'false positive rate'}, xlabel='majmin'>,\n",
       "        <Axes: title={'center': 'false negative rate'}, xlabel='majmin'>],\n",
       "       [<Axes: title={'center': 'selection rate'}, xlabel='majmin'>,\n",
       "        <Axes: title={'center': 'count'}, xlabel='majmin'>,\n",
       "        <Axes: xlabel='majmin'>]], dtype=object)"
      ]
     },
     "execution_count": 76,
     "metadata": {},
     "output_type": "execute_result"
    },
    {
     "data": {
      "image/png": "[encoded data removed]",
      "text/plain": [
       "<Figure size 1200x800 with 9 Axes>"
      ]
     },
     "metadata": {},
     "output_type": "display_data"
    }
   ],
   "source": [
    "# In a graphic\n",
    "metric_frame.by_group.plot.bar(\n",
    "    subplots=True,\n",
    "    layout=[3, 3],\n",
    "    legend=False,\n",
    "    figsize=[12, 8],\n",
    "    title=\"Show all metrics\",\n",
    ")"
   ]
  },
  {
   "cell_type": "markdown",
   "id": "f57a0bac",
   "metadata": {
    "papermill": {
     "duration": 0.0299,
     "end_time": "2025-07-30T13:33:24.011751",
     "exception": false,
     "start_time": "2025-07-30T13:33:23.981851",
     "status": "completed"
    },
    "tags": []
   },
   "source": [
    "# Final Output"
   ]
  },
  {
   "cell_type": "code",
   "execution_count": 77,
   "id": "96d280a3",
   "metadata": {
    "execution": {
     "iopub.execute_input": "2025-07-30T13:33:24.070862Z",
     "iopub.status.busy": "2025-07-30T13:33:24.070190Z",
     "iopub.status.idle": "2025-07-30T13:33:24.077731Z",
     "shell.execute_reply": "2025-07-30T13:33:24.076846Z"
    },
    "papermill": {
     "duration": 0.039006,
     "end_time": "2025-07-30T13:33:24.079303",
     "exception": false,
     "start_time": "2025-07-30T13:33:24.040297",
     "status": "completed"
    },
    "tags": []
   },
   "outputs": [
    {
     "data": {
      "text/plain": [
       "4"
      ]
     },
     "execution_count": 77,
     "metadata": {},
     "output_type": "execute_result"
    }
   ],
   "source": [
    "sub_universes = universe_analysis.generate_sub_universes()\n",
    "len(sub_universes)"
   ]
  },
  {
   "cell_type": "code",
   "execution_count": 78,
   "id": "92adf7ba",
   "metadata": {
    "execution": {
     "iopub.execute_input": "2025-07-30T13:33:24.140584Z",
     "iopub.status.busy": "2025-07-30T13:33:24.139787Z",
     "iopub.status.idle": "2025-07-30T13:33:24.162210Z",
     "shell.execute_reply": "2025-07-30T13:33:24.161075Z"
    },
    "papermill": {
     "duration": 0.054553,
     "end_time": "2025-07-30T13:33:24.164147",
     "exception": false,
     "start_time": "2025-07-30T13:33:24.109594",
     "status": "completed"
    },
    "tags": []
   },
   "outputs": [],
   "source": [
    "def filter_sub_universe_data(sub_universe, org_test):\n",
    "    # Keep all rows — no filtering\n",
    "    keep_rows_mask = np.ones(org_test.shape[0], dtype=bool)\n",
    "\n",
    "    print(f\"[INFO] Keeping all rows: {keep_rows_mask.sum()} rows retained.\")\n",
    "    return keep_rows_mask"
   ]
  },
  {
   "cell_type": "code",
   "execution_count": 79,
   "id": "4a759155",
   "metadata": {
    "execution": {
     "iopub.execute_input": "2025-07-30T13:33:24.227313Z",
     "iopub.status.busy": "2025-07-30T13:33:24.226860Z",
     "iopub.status.idle": "2025-07-30T13:33:35.085258Z",
     "shell.execute_reply": "2025-07-30T13:33:35.084129Z"
    },
    "papermill": {
     "duration": 10.892787,
     "end_time": "2025-07-30T13:33:35.086909",
     "exception": false,
     "start_time": "2025-07-30T13:33:24.194122",
     "status": "completed"
    },
    "tags": []
   },
   "outputs": [
    {
     "name": "stdout",
     "output_type": "stream",
     "text": [
      "Stopping execution_time clock.\n",
      "[INFO] Keeping all rows: 89710 rows retained.\n"
     ]
    },
    {
     "name": "stdout",
     "output_type": "stream",
     "text": [
      "[INFO] Keeping all rows: 89710 rows retained.\n"
     ]
    },
    {
     "name": "stdout",
     "output_type": "stream",
     "text": [
      "[INFO] Keeping all rows: 89710 rows retained.\n"
     ]
    },
    {
     "name": "stdout",
     "output_type": "stream",
     "text": [
      "[INFO] Keeping all rows: 89710 rows retained.\n"
     ]
    },
    {
     "data": {
      "text/html": [
       "<div>\n",
       "<style scoped>\n",
       "    .dataframe tbody tr th:only-of-type {\n",
       "        vertical-align: middle;\n",
       "    }\n",
       "\n",
       "    .dataframe tbody tr th {\n",
       "        vertical-align: top;\n",
       "    }\n",
       "\n",
       "    .dataframe thead th {\n",
       "        text-align: right;\n",
       "    }\n",
       "</style>\n",
       "<table border=\"1\" class=\"dataframe\">\n",
       "  <thead>\n",
       "    <tr style=\"text-align: right;\">\n",
       "      <th></th>\n",
       "      <th>run_no</th>\n",
       "      <th>universe_id</th>\n",
       "      <th>universe_settings</th>\n",
       "      <th>execution_time</th>\n",
       "      <th>test_size_n</th>\n",
       "      <th>test_size_frac</th>\n",
       "      <th>fair_main_equalized_odds_difference</th>\n",
       "      <th>fair_main_equalized_odds_ratio</th>\n",
       "      <th>fair_main_demographic_parity_difference</th>\n",
       "      <th>fair_main_demographic_parity_ratio</th>\n",
       "      <th>...</th>\n",
       "      <th>perf_grp_precision_0</th>\n",
       "      <th>perf_grp_precision_1</th>\n",
       "      <th>perf_grp_false positive rate_0</th>\n",
       "      <th>perf_grp_false positive rate_1</th>\n",
       "      <th>perf_grp_false negative rate_0</th>\n",
       "      <th>perf_grp_false negative rate_1</th>\n",
       "      <th>perf_grp_selection rate_0</th>\n",
       "      <th>perf_grp_selection rate_1</th>\n",
       "      <th>perf_grp_count_0</th>\n",
       "      <th>perf_grp_count_1</th>\n",
       "    </tr>\n",
       "  </thead>\n",
       "  <tbody>\n",
       "    <tr>\n",
       "      <th>0</th>\n",
       "      <td>12</td>\n",
       "      <td>199c7b93fe1f9e3a163888a721fa0695</td>\n",
       "      <td>{\"cutoff\": \"quantile_0.1\", \"eval_fairness_grou...</td>\n",
       "      <td>41.580477</td>\n",
       "      <td>89710</td>\n",
       "      <td>1.0</td>\n",
       "      <td>0.041730</td>\n",
       "      <td>0.953731</td>\n",
       "      <td>0.042845</td>\n",
       "      <td>0.953077</td>\n",
       "      <td>...</td>\n",
       "      <td>NaN</td>\n",
       "      <td>NaN</td>\n",
       "      <td>NaN</td>\n",
       "      <td>NaN</td>\n",
       "      <td>NaN</td>\n",
       "      <td>NaN</td>\n",
       "      <td>NaN</td>\n",
       "      <td>NaN</td>\n",
       "      <td>NaN</td>\n",
       "      <td>NaN</td>\n",
       "    </tr>\n",
       "    <tr>\n",
       "      <th>0</th>\n",
       "      <td>12</td>\n",
       "      <td>199c7b93fe1f9e3a163888a721fa0695</td>\n",
       "      <td>{\"cutoff\": \"quantile_0.1\", \"eval_fairness_grou...</td>\n",
       "      <td>41.580477</td>\n",
       "      <td>89710</td>\n",
       "      <td>1.0</td>\n",
       "      <td>0.041730</td>\n",
       "      <td>0.953731</td>\n",
       "      <td>0.042845</td>\n",
       "      <td>0.953077</td>\n",
       "      <td>...</td>\n",
       "      <td>0.125538</td>\n",
       "      <td>0.142783</td>\n",
       "      <td>0.860169</td>\n",
       "      <td>0.901899</td>\n",
       "      <td>0.052365</td>\n",
       "      <td>0.013348</td>\n",
       "      <td>0.870253</td>\n",
       "      <td>0.913098</td>\n",
       "      <td>20540.0</td>\n",
       "      <td>69170.0</td>\n",
       "    </tr>\n",
       "    <tr>\n",
       "      <th>0</th>\n",
       "      <td>12</td>\n",
       "      <td>199c7b93fe1f9e3a163888a721fa0695</td>\n",
       "      <td>{\"cutoff\": \"quantile_0.25\", \"eval_fairness_gro...</td>\n",
       "      <td>41.580477</td>\n",
       "      <td>89710</td>\n",
       "      <td>1.0</td>\n",
       "      <td>0.069854</td>\n",
       "      <td>0.926529</td>\n",
       "      <td>0.044108</td>\n",
       "      <td>0.942704</td>\n",
       "      <td>...</td>\n",
       "      <td>NaN</td>\n",
       "      <td>NaN</td>\n",
       "      <td>NaN</td>\n",
       "      <td>NaN</td>\n",
       "      <td>NaN</td>\n",
       "      <td>NaN</td>\n",
       "      <td>NaN</td>\n",
       "      <td>NaN</td>\n",
       "      <td>NaN</td>\n",
       "      <td>NaN</td>\n",
       "    </tr>\n",
       "    <tr>\n",
       "      <th>0</th>\n",
       "      <td>12</td>\n",
       "      <td>199c7b93fe1f9e3a163888a721fa0695</td>\n",
       "      <td>{\"cutoff\": \"quantile_0.25\", \"eval_fairness_gro...</td>\n",
       "      <td>41.580477</td>\n",
       "      <td>89710</td>\n",
       "      <td>1.0</td>\n",
       "      <td>0.069854</td>\n",
       "      <td>0.926529</td>\n",
       "      <td>0.044108</td>\n",
       "      <td>0.942704</td>\n",
       "      <td>...</td>\n",
       "      <td>0.139944</td>\n",
       "      <td>0.163199</td>\n",
       "      <td>0.705481</td>\n",
       "      <td>0.742262</td>\n",
       "      <td>0.119088</td>\n",
       "      <td>0.049234</td>\n",
       "      <td>0.725706</td>\n",
       "      <td>0.769814</td>\n",
       "      <td>20540.0</td>\n",
       "      <td>69170.0</td>\n",
       "    </tr>\n",
       "  </tbody>\n",
       "</table>\n",
       "<p>4 rows × 50 columns</p>\n",
       "</div>"
      ],
      "text/plain": [
       "  run_no                       universe_id  \\\n",
       "0     12  199c7b93fe1f9e3a163888a721fa0695   \n",
       "0     12  199c7b93fe1f9e3a163888a721fa0695   \n",
       "0     12  199c7b93fe1f9e3a163888a721fa0695   \n",
       "0     12  199c7b93fe1f9e3a163888a721fa0695   \n",
       "\n",
       "                                   universe_settings  execution_time  \\\n",
       "0  {\"cutoff\": \"quantile_0.1\", \"eval_fairness_grou...       41.580477   \n",
       "0  {\"cutoff\": \"quantile_0.1\", \"eval_fairness_grou...       41.580477   \n",
       "0  {\"cutoff\": \"quantile_0.25\", \"eval_fairness_gro...       41.580477   \n",
       "0  {\"cutoff\": \"quantile_0.25\", \"eval_fairness_gro...       41.580477   \n",
       "\n",
       "   test_size_n  test_size_frac  fair_main_equalized_odds_difference  \\\n",
       "0        89710             1.0                             0.041730   \n",
       "0        89710             1.0                             0.041730   \n",
       "0        89710             1.0                             0.069854   \n",
       "0        89710             1.0                             0.069854   \n",
       "\n",
       "   fair_main_equalized_odds_ratio  fair_main_demographic_parity_difference  \\\n",
       "0                        0.953731                                 0.042845   \n",
       "0                        0.953731                                 0.042845   \n",
       "0                        0.926529                                 0.044108   \n",
       "0                        0.926529                                 0.044108   \n",
       "\n",
       "   fair_main_demographic_parity_ratio  ...  perf_grp_precision_0  \\\n",
       "0                            0.953077  ...                   NaN   \n",
       "0                            0.953077  ...              0.125538   \n",
       "0                            0.942704  ...                   NaN   \n",
       "0                            0.942704  ...              0.139944   \n",
       "\n",
       "   perf_grp_precision_1  perf_grp_false positive rate_0  \\\n",
       "0                   NaN                             NaN   \n",
       "0              0.142783                        0.860169   \n",
       "0                   NaN                             NaN   \n",
       "0              0.163199                        0.705481   \n",
       "\n",
       "   perf_grp_false positive rate_1  perf_grp_false negative rate_0  \\\n",
       "0                             NaN                             NaN   \n",
       "0                        0.901899                        0.052365   \n",
       "0                             NaN                             NaN   \n",
       "0                        0.742262                        0.119088   \n",
       "\n",
       "   perf_grp_false negative rate_1  perf_grp_selection rate_0  \\\n",
       "0                             NaN                        NaN   \n",
       "0                        0.013348                   0.870253   \n",
       "0                             NaN                        NaN   \n",
       "0                        0.049234                   0.725706   \n",
       "\n",
       "   perf_grp_selection rate_1  perf_grp_count_0  perf_grp_count_1  \n",
       "0                        NaN               NaN               NaN  \n",
       "0                   0.913098           20540.0           69170.0  \n",
       "0                        NaN               NaN               NaN  \n",
       "0                   0.769814           20540.0           69170.0  \n",
       "\n",
       "[4 rows x 50 columns]"
      ]
     },
     "execution_count": 79,
     "metadata": {},
     "output_type": "execute_result"
    }
   ],
   "source": [
    "final_output = universe_analysis.generate_final_output(\n",
    "    y_pred_prob=probs_test,\n",
    "    y_test=y_true,\n",
    "    org_test=org_test,\n",
    "    filter_data=filter_sub_universe_data,\n",
    "    cp_metrics_df=cp_metrics_df,\n",
    "    save=True,\n",
    ")\n",
    "final_output"
   ]
  },
  {
   "cell_type": "code",
   "execution_count": null,
   "id": "721ff514-cb11-46f8-b6fc-50392f74b5cb",
   "metadata": {
    "papermill": {
     "duration": 0.031452,
     "end_time": "2025-07-30T13:33:35.153372",
     "exception": false,
     "start_time": "2025-07-30T13:33:35.121920",
     "status": "completed"
    },
    "tags": []
   },
   "outputs": [],
   "source": []
  }
 ],
 "metadata": {
  "celltoolbar": "Tags",
  "kernelspec": {
   "display_name": "Python (CMA Fairness)",
   "language": "python",
   "name": "cma_fair_env"
  },
  "language_info": {
   "codemirror_mode": {
    "name": "ipython",
    "version": 3
   },
   "file_extension": ".py",
   "mimetype": "text/x-python",
   "name": "python",
   "nbconvert_exporter": "python",
   "pygments_lexer": "ipython3",
   "version": "3.10.12"
  },
  "papermill": {
   "default_parameters": {},
   "duration": 58.281875,
   "end_time": "2025-07-30T13:33:36.001458",
   "environment_variables": {},
   "exception": null,
   "input_path": "universe_analysis.ipynb",
   "output_path": "output/runs/12/notebooks/m_12-199c7b93fe1f9e3a163888a721fa0695.ipynb",
   "parameters": {
    "output_dir": "output",
    "run_no": "12",
    "seed": "2023",
    "universe": "{\"cutoff\": [\"quantile_0.1\", \"quantile_0.25\"], \"eval_fairness_grouping\": [\"majority-minority\", \"nationality-all\"], \"exclude_features\": \"age\", \"exclude_subgroups\": \"keep-all\", \"model\": \"rf\", \"scale\": \"do-not-scale\", \"training_size\": \"25k\", \"training_year\": \"2010_14\"}",
    "universe_id": "199c7b93fe1f9e3a163888a721fa0695"
   },
   "start_time": "2025-07-30T13:32:37.719583",
   "version": "2.6.0"
  }
 },
 "nbformat": 4,
 "nbformat_minor": 5
}