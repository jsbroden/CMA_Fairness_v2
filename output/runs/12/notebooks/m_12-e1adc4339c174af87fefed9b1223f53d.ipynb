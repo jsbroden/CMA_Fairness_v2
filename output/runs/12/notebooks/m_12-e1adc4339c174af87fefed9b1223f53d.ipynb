{
 "cells": [
  {
   "cell_type": "code",
   "execution_count": 1,
   "id": "f159f837-637b-42ba-96b5-ec9a68c44524",
   "metadata": {
    "execution": {
     "iopub.execute_input": "2025-07-30T12:50:37.415201Z",
     "iopub.status.busy": "2025-07-30T12:50:37.414707Z",
     "iopub.status.idle": "2025-07-30T12:50:37.428917Z",
     "shell.execute_reply": "2025-07-30T12:50:37.427899Z"
    },
    "papermill": {
     "duration": 0.0363,
     "end_time": "2025-07-30T12:50:37.430462",
     "exception": false,
     "start_time": "2025-07-30T12:50:37.394162",
     "status": "completed"
    },
    "tags": []
   },
   "outputs": [
    {
     "name": "stdout",
     "output_type": "stream",
     "text": [
      "/dss/dsshome1/0C/ra93lal2/cma/CMA_Fairness_v2\n"
     ]
    },
    {
     "name": "stderr",
     "output_type": "stream",
     "text": [
      "/dss/dsshome1/0C/ra93lal2/.local/share/virtualenvs/CMA_Fairness_v2-3j10GkSs/lib/python3.10/site-packages/IPython/core/magics/osm.py:393: UserWarning: This is now an optional IPython functionality, using bookmarks requires you to install the `pickleshare` library.\n",
      "  bkms = self.shell.db.get('bookmarks', {})\n",
      "/dss/dsshome1/0C/ra93lal2/.local/share/virtualenvs/CMA_Fairness_v2-3j10GkSs/lib/python3.10/site-packages/IPython/core/magics/osm.py:417: UserWarning: This is now an optional IPython functionality, setting dhist requires you to install the `pickleshare` library.\n",
      "  self.shell.db['dhist'] = compress_dhist(dhist)[-100:]\n"
     ]
    }
   ],
   "source": [
    "%cd ~/cma/CMA_Fairness_v2"
   ]
  },
  {
   "cell_type": "markdown",
   "id": "de2603b9",
   "metadata": {
    "papermill": {
     "duration": 0.019071,
     "end_time": "2025-07-30T12:50:37.469822",
     "exception": false,
     "start_time": "2025-07-30T12:50:37.450751",
     "status": "completed"
    },
    "tags": []
   },
   "source": [
    "The following cell holds the definition of our parameters, these values can be overriden by rendering the with e.g. the following command:\n",
    "\n",
    "papermill -p alpha 0.2 -p ratio 0.3 universe_analysis.ipynb output/test_run.ipynb"
   ]
  },
  {
   "cell_type": "code",
   "execution_count": 2,
   "id": "a80968a0-40bb-4fa9-85ef-2d5eefb01975",
   "metadata": {
    "execution": {
     "iopub.execute_input": "2025-07-30T12:50:37.510669Z",
     "iopub.status.busy": "2025-07-30T12:50:37.510164Z",
     "iopub.status.idle": "2025-07-30T12:50:37.516310Z",
     "shell.execute_reply": "2025-07-30T12:50:37.515142Z"
    },
    "papermill": {
     "duration": 0.029837,
     "end_time": "2025-07-30T12:50:37.518932",
     "exception": false,
     "start_time": "2025-07-30T12:50:37.489095",
     "status": "completed"
    },
    "tags": []
   },
   "outputs": [
    {
     "name": "stdout",
     "output_type": "stream",
     "text": [
      "Current working directory: /dss/dsshome1/0C/ra93lal2/cma/CMA_Fairness_v2\n"
     ]
    }
   ],
   "source": [
    "import os\n",
    "print(\"Current working directory:\", os.getcwd())"
   ]
  },
  {
   "cell_type": "code",
   "execution_count": 3,
   "id": "2dce4c03",
   "metadata": {
    "execution": {
     "iopub.execute_input": "2025-07-30T12:50:37.561593Z",
     "iopub.status.busy": "2025-07-30T12:50:37.561113Z",
     "iopub.status.idle": "2025-07-30T12:50:37.567800Z",
     "shell.execute_reply": "2025-07-30T12:50:37.566708Z"
    },
    "papermill": {
     "duration": 0.029736,
     "end_time": "2025-07-30T12:50:37.569618",
     "exception": false,
     "start_time": "2025-07-30T12:50:37.539882",
     "status": "completed"
    },
    "tags": [
     "parameters"
    ]
   },
   "outputs": [],
   "source": [
    "run_no = 0\n",
    "universe_id = \"test\"\n",
    "universe = {\n",
    "    \"training_size\": \"25k\", # \"25k\", \"5k\", \"1k\"\n",
    "    \"training_year\": \"2014\", # \"2014\", \"2012_14\", \"2010_14\"\n",
    "    \"scale\": \"scale\", # \"scale\", \"do-not-scale\",\n",
    "    #\"stratify_split\": \"target\", # \"none\", \"target\", \"protected-attribute\", \"both\",\n",
    "    \"model\": \"elasticnet\", # \"logreg\", \"penalized_logreg\", \"rf\", \"gbm\", \"elasticnet\"\n",
    "    \"cutoff\": [\"quantile_0.15\", \"quantile_0.30\"],\n",
    "    \"exclude_features\": \"age\", # \"none\", \"nationality\", \"sex\", \"nationality-sex\", \"age\"\n",
    "    \"exclude_subgroups\": \"keep-all\", # \"keep-all\", \"drop-non-german\"\n",
    "    \"eval_fairness_grouping\": [\"majority-minority\", \"nationality-all\"]\n",
    "}\n",
    "\n",
    "output_dir=\"./output\"\n",
    "seed=0"
   ]
  },
  {
   "cell_type": "code",
   "execution_count": 4,
   "id": "b55a2efb",
   "metadata": {
    "execution": {
     "iopub.execute_input": "2025-07-30T12:50:37.612836Z",
     "iopub.status.busy": "2025-07-30T12:50:37.612125Z",
     "iopub.status.idle": "2025-07-30T12:50:37.618091Z",
     "shell.execute_reply": "2025-07-30T12:50:37.617040Z"
    },
    "papermill": {
     "duration": 0.029383,
     "end_time": "2025-07-30T12:50:37.619825",
     "exception": false,
     "start_time": "2025-07-30T12:50:37.590442",
     "status": "completed"
    },
    "tags": [
     "injected-parameters"
    ]
   },
   "outputs": [],
   "source": [
    "# Parameters\n",
    "universe_id = \"e1adc4339c174af87fefed9b1223f53d\"\n",
    "run_no = \"12\"\n",
    "universe = \"{\\\"cutoff\\\": [\\\"quantile_0.1\\\", \\\"quantile_0.25\\\"], \\\"eval_fairness_grouping\\\": [\\\"majority-minority\\\", \\\"nationality-all\\\"], \\\"exclude_features\\\": \\\"none\\\", \\\"exclude_subgroups\\\": \\\"keep-all\\\", \\\"model\\\": \\\"elasticnet\\\", \\\"scale\\\": \\\"scale\\\", \\\"training_size\\\": \\\"25k\\\", \\\"training_year\\\": \\\"2014\\\"}\"\n",
    "output_dir = \"output\"\n",
    "seed = \"2023\"\n"
   ]
  },
  {
   "cell_type": "code",
   "execution_count": 5,
   "id": "1650acaf",
   "metadata": {
    "execution": {
     "iopub.execute_input": "2025-07-30T12:50:37.663394Z",
     "iopub.status.busy": "2025-07-30T12:50:37.662503Z",
     "iopub.status.idle": "2025-07-30T12:50:37.667994Z",
     "shell.execute_reply": "2025-07-30T12:50:37.666993Z"
    },
    "papermill": {
     "duration": 0.029149,
     "end_time": "2025-07-30T12:50:37.669968",
     "exception": false,
     "start_time": "2025-07-30T12:50:37.640819",
     "status": "completed"
    },
    "tags": []
   },
   "outputs": [],
   "source": [
    "import json\n",
    "# Parse universe into dict if it is passed as a string\n",
    "if isinstance(universe, str):\n",
    "    universe = json.loads(universe)"
   ]
  },
  {
   "cell_type": "code",
   "execution_count": 6,
   "id": "16620c48",
   "metadata": {
    "execution": {
     "iopub.execute_input": "2025-07-30T12:50:37.712196Z",
     "iopub.status.busy": "2025-07-30T12:50:37.711769Z",
     "iopub.status.idle": "2025-07-30T12:50:37.758505Z",
     "shell.execute_reply": "2025-07-30T12:50:37.757484Z"
    },
    "papermill": {
     "duration": 0.069309,
     "end_time": "2025-07-30T12:50:37.760437",
     "exception": false,
     "start_time": "2025-07-30T12:50:37.691128",
     "status": "completed"
    },
    "tags": []
   },
   "outputs": [],
   "source": [
    "# Auto-reload the custom package\n",
    "%load_ext autoreload\n",
    "%autoreload 1\n",
    "%aimport fairness_multiverse"
   ]
  },
  {
   "cell_type": "code",
   "execution_count": 7,
   "id": "01c5c9f3",
   "metadata": {
    "execution": {
     "iopub.execute_input": "2025-07-30T12:50:37.805445Z",
     "iopub.status.busy": "2025-07-30T12:50:37.804786Z",
     "iopub.status.idle": "2025-07-30T12:50:39.837502Z",
     "shell.execute_reply": "2025-07-30T12:50:39.836434Z"
    },
    "papermill": {
     "duration": 2.057663,
     "end_time": "2025-07-30T12:50:39.839725",
     "exception": false,
     "start_time": "2025-07-30T12:50:37.782062",
     "status": "completed"
    },
    "tags": []
   },
   "outputs": [],
   "source": [
    "from fairness_multiverse.universe import UniverseAnalysis\n",
    "\n",
    "universe_analysis = UniverseAnalysis(\n",
    "    run_no = run_no,\n",
    "    universe_id = universe_id,\n",
    "    universe = universe,\n",
    "    output_dir=output_dir,\n",
    ")"
   ]
  },
  {
   "cell_type": "code",
   "execution_count": 8,
   "id": "106241f5",
   "metadata": {
    "execution": {
     "iopub.execute_input": "2025-07-30T12:50:39.886932Z",
     "iopub.status.busy": "2025-07-30T12:50:39.886175Z",
     "iopub.status.idle": "2025-07-30T12:50:39.893608Z",
     "shell.execute_reply": "2025-07-30T12:50:39.892499Z"
    },
    "papermill": {
     "duration": 0.031256,
     "end_time": "2025-07-30T12:50:39.895702",
     "exception": false,
     "start_time": "2025-07-30T12:50:39.864446",
     "status": "completed"
    },
    "tags": []
   },
   "outputs": [
    {
     "name": "stdout",
     "output_type": "stream",
     "text": [
      "Using Seed: 2023\n"
     ]
    }
   ],
   "source": [
    "import numpy as np\n",
    "parsed_seed = int(seed)\n",
    "np.random.seed(parsed_seed)\n",
    "print(f\"Using Seed: {parsed_seed}\")"
   ]
  },
  {
   "cell_type": "markdown",
   "id": "e0ebdc57",
   "metadata": {
    "papermill": {
     "duration": 0.020937,
     "end_time": "2025-07-30T12:50:39.938464",
     "exception": false,
     "start_time": "2025-07-30T12:50:39.917527",
     "status": "completed"
    },
    "tags": []
   },
   "source": [
    "# Loading Data"
   ]
  },
  {
   "cell_type": "markdown",
   "id": "681925a3",
   "metadata": {
    "papermill": {
     "duration": 0.020486,
     "end_time": "2025-07-30T12:50:39.979333",
     "exception": false,
     "start_time": "2025-07-30T12:50:39.958847",
     "status": "completed"
    },
    "tags": []
   },
   "source": [
    "Load siab_train, siab_test, siab_calib and/or \n",
    "load siab_train_features, siab_train_labels"
   ]
  },
  {
   "cell_type": "code",
   "execution_count": 9,
   "id": "f0496b8a",
   "metadata": {
    "execution": {
     "iopub.execute_input": "2025-07-30T12:50:40.022691Z",
     "iopub.status.busy": "2025-07-30T12:50:40.022102Z",
     "iopub.status.idle": "2025-07-30T12:50:53.348712Z",
     "shell.execute_reply": "2025-07-30T12:50:53.347516Z"
    },
    "papermill": {
     "duration": 13.349715,
     "end_time": "2025-07-30T12:50:53.350445",
     "exception": false,
     "start_time": "2025-07-30T12:50:40.000730",
     "status": "completed"
    },
    "tags": []
   },
   "outputs": [
    {
     "name": "stdout",
     "output_type": "stream",
     "text": [
      "Loading SIAB data from cache: data/siab_cached.csv.gz\n"
     ]
    },
    {
     "name": "stdout",
     "output_type": "stream",
     "text": [
      "(643690, 164)\n"
     ]
    }
   ],
   "source": [
    "from pathlib import Path\n",
    "import pandas as pd\n",
    "\n",
    "# File paths\n",
    "raw_file = Path(\"data/raw/siab.csv\")\n",
    "cache_file = Path(\"data/siab_cached.csv.gz\")\n",
    "\n",
    "# Ensure cache directory exists\n",
    "cache_file.parent.mkdir(parents=True, exist_ok=True)\n",
    "\n",
    "# Load with simple caching\n",
    "if cache_file.exists():\n",
    "    print(f\"Loading SIAB data from cache: {cache_file}\")\n",
    "    siab = pd.read_csv(cache_file, compression='gzip')\n",
    "else:\n",
    "    print(f\"Cache not found. Reading raw SIAB data: {raw_file}\")\n",
    "    siab = pd.read_csv(raw_file)\n",
    "    siab.to_csv(cache_file, index=False, compression='gzip')\n",
    "    print(f\"Cached SIAB data to: {cache_file}\")\n",
    "\n",
    "# Now use `siab` DataFrame as needed\n",
    "print(siab.shape)"
   ]
  },
  {
   "cell_type": "code",
   "execution_count": 10,
   "id": "db0ca512-5f53-4dba-abdb-a2888bca41ba",
   "metadata": {
    "execution": {
     "iopub.execute_input": "2025-07-30T12:50:53.397034Z",
     "iopub.status.busy": "2025-07-30T12:50:53.396229Z",
     "iopub.status.idle": "2025-07-30T12:50:53.402421Z",
     "shell.execute_reply": "2025-07-30T12:50:53.401373Z"
    },
    "papermill": {
     "duration": 0.030585,
     "end_time": "2025-07-30T12:50:53.404255",
     "exception": false,
     "start_time": "2025-07-30T12:50:53.373670",
     "status": "completed"
    },
    "tags": []
   },
   "outputs": [],
   "source": [
    "#siab"
   ]
  },
  {
   "cell_type": "code",
   "execution_count": 11,
   "id": "a0edb063",
   "metadata": {
    "execution": {
     "iopub.execute_input": "2025-07-30T12:50:53.449596Z",
     "iopub.status.busy": "2025-07-30T12:50:53.449069Z",
     "iopub.status.idle": "2025-07-30T12:50:53.454118Z",
     "shell.execute_reply": "2025-07-30T12:50:53.453173Z"
    },
    "papermill": {
     "duration": 0.029669,
     "end_time": "2025-07-30T12:50:53.455770",
     "exception": false,
     "start_time": "2025-07-30T12:50:53.426101",
     "status": "completed"
    },
    "tags": []
   },
   "outputs": [],
   "source": [
    "#import pandas as pd\n",
    "#\n",
    "#X_train = pd.read_csv(\"./data/X_train.csv\")\n",
    "#y_train = pd.read_csv(\"./data/y_train.csv\")"
   ]
  },
  {
   "cell_type": "code",
   "execution_count": 12,
   "id": "63d08085",
   "metadata": {
    "execution": {
     "iopub.execute_input": "2025-07-30T12:50:53.500992Z",
     "iopub.status.busy": "2025-07-30T12:50:53.500509Z",
     "iopub.status.idle": "2025-07-30T12:50:53.505703Z",
     "shell.execute_reply": "2025-07-30T12:50:53.504713Z"
    },
    "papermill": {
     "duration": 0.030821,
     "end_time": "2025-07-30T12:50:53.507386",
     "exception": false,
     "start_time": "2025-07-30T12:50:53.476565",
     "status": "completed"
    },
    "tags": []
   },
   "outputs": [],
   "source": [
    "#X_test = pd.read_csv(\"./data/X_test.csv\")\n",
    "#y_true = pd.read_csv(\"./data/y_test.csv\")"
   ]
  },
  {
   "cell_type": "code",
   "execution_count": 13,
   "id": "98a8d0fa-1d3d-4ed8-bb2c-281470e24add",
   "metadata": {
    "execution": {
     "iopub.execute_input": "2025-07-30T12:50:53.551561Z",
     "iopub.status.busy": "2025-07-30T12:50:53.551048Z",
     "iopub.status.idle": "2025-07-30T12:50:53.556215Z",
     "shell.execute_reply": "2025-07-30T12:50:53.555117Z"
    },
    "papermill": {
     "duration": 0.028816,
     "end_time": "2025-07-30T12:50:53.557963",
     "exception": false,
     "start_time": "2025-07-30T12:50:53.529147",
     "status": "completed"
    },
    "tags": []
   },
   "outputs": [],
   "source": [
    "# Calibration data for conformal\n",
    "#X_calib = pd.read_csv(\"./data/X_calib.csv\")\n",
    "#y_calib = pd.read_csv(\"./data/y_calib.csv\")"
   ]
  },
  {
   "cell_type": "markdown",
   "id": "997051c5-15bd-4b69-9786-c3001a3ce484",
   "metadata": {
    "papermill": {
     "duration": 0.022732,
     "end_time": "2025-07-30T12:50:53.602849",
     "exception": false,
     "start_time": "2025-07-30T12:50:53.580117",
     "status": "completed"
    },
    "tags": []
   },
   "source": [
    "# Splitting Data and Setting Training Data Size"
   ]
  },
  {
   "cell_type": "code",
   "execution_count": 14,
   "id": "e993b61f-042d-41a6-8c81-f55681f86335",
   "metadata": {
    "execution": {
     "iopub.execute_input": "2025-07-30T12:50:53.647555Z",
     "iopub.status.busy": "2025-07-30T12:50:53.647041Z",
     "iopub.status.idle": "2025-07-30T12:50:53.662321Z",
     "shell.execute_reply": "2025-07-30T12:50:53.661166Z"
    },
    "papermill": {
     "duration": 0.040183,
     "end_time": "2025-07-30T12:50:53.664657",
     "exception": false,
     "start_time": "2025-07-30T12:50:53.624474",
     "status": "completed"
    },
    "tags": []
   },
   "outputs": [],
   "source": [
    "def sample_by_year_size(df,\n",
    "                        training_year: str,\n",
    "                        training_size: str,\n",
    "                        random_state: int = 42):\n",
    "    # --- parse training_year into a list of int years ---\n",
    "    if \"_\" in training_year:\n",
    "        start_str, end_str = training_year.split(\"_\", 1)\n",
    "        start = int(start_str)\n",
    "        end   = int(end_str) if len(end_str) == 4 else (int(end_str) + (start // 100)*100)\n",
    "        years = list(range(start, end + 1))\n",
    "    else:\n",
    "        years = [int(training_year)]\n",
    "\n",
    "    df = df[df[\"year\"].isin(years)].reset_index(drop=True)\n",
    "\n",
    "    # --- map training_size to total number of samples ---\n",
    "    total_map = {\"25k\": 25_000, \"5k\": 5_000, \"1k\": 1_000}\n",
    "    if training_size not in total_map:\n",
    "        return df  # e.g. \"all\"\n",
    "\n",
    "    total_samples = total_map[training_size]\n",
    "    n_years       = len(years)\n",
    "    base          = total_samples // n_years\n",
    "    remainder     = total_samples % n_years\n",
    "\n",
    "    # --- build a dict: year -> how many to sample ---\n",
    "    # give +1 to the first `remainder` years in ascending order\n",
    "    quotas = {\n",
    "        year: base + (1 if idx < remainder else 0)\n",
    "        for idx, year in enumerate(sorted(years))\n",
    "    }\n",
    "\n",
    "    # --- sample per‐year according to the quota dict ---\n",
    "    sampled = (\n",
    "        df\n",
    "        .groupby(\"year\", group_keys=False)\n",
    "        .apply(lambda grp: grp.sample(\n",
    "            n=min(len(grp), quotas[grp.name]),\n",
    "            random_state=random_state))\n",
    "        .reset_index(drop=True)\n",
    "    )\n",
    "\n",
    "    return sampled"
   ]
  },
  {
   "cell_type": "code",
   "execution_count": 15,
   "id": "c0ccd338-0e02-41f3-a09d-f56f9266e3fb",
   "metadata": {
    "execution": {
     "iopub.execute_input": "2025-07-30T12:50:53.710975Z",
     "iopub.status.busy": "2025-07-30T12:50:53.710247Z",
     "iopub.status.idle": "2025-07-30T12:50:53.723328Z",
     "shell.execute_reply": "2025-07-30T12:50:53.722295Z"
    },
    "papermill": {
     "duration": 0.038024,
     "end_time": "2025-07-30T12:50:53.725243",
     "exception": false,
     "start_time": "2025-07-30T12:50:53.687219",
     "status": "completed"
    },
    "tags": []
   },
   "outputs": [
    {
     "data": {
      "text/plain": [
       "'25k'"
      ]
     },
     "execution_count": 15,
     "metadata": {},
     "output_type": "execute_result"
    }
   ],
   "source": [
    "universe[\"training_size\"]"
   ]
  },
  {
   "cell_type": "code",
   "execution_count": 16,
   "id": "ca707fd7-8047-4acd-bfa5-66248fbbf8e6",
   "metadata": {
    "execution": {
     "iopub.execute_input": "2025-07-30T12:50:53.775520Z",
     "iopub.status.busy": "2025-07-30T12:50:53.774825Z",
     "iopub.status.idle": "2025-07-30T12:50:53.782538Z",
     "shell.execute_reply": "2025-07-30T12:50:53.781447Z"
    },
    "papermill": {
     "duration": 0.034922,
     "end_time": "2025-07-30T12:50:53.784445",
     "exception": false,
     "start_time": "2025-07-30T12:50:53.749523",
     "status": "completed"
    },
    "tags": []
   },
   "outputs": [
    {
     "data": {
      "text/plain": [
       "'2014'"
      ]
     },
     "execution_count": 16,
     "metadata": {},
     "output_type": "execute_result"
    }
   ],
   "source": [
    "universe[\"training_year\"]"
   ]
  },
  {
   "cell_type": "code",
   "execution_count": 17,
   "id": "aea9c6ef-6f46-42c8-85eb-5a62025c1508",
   "metadata": {
    "execution": {
     "iopub.execute_input": "2025-07-30T12:50:53.835478Z",
     "iopub.status.busy": "2025-07-30T12:50:53.834778Z",
     "iopub.status.idle": "2025-07-30T12:50:54.171425Z",
     "shell.execute_reply": "2025-07-30T12:50:54.170415Z"
    },
    "papermill": {
     "duration": 0.364459,
     "end_time": "2025-07-30T12:50:54.173481",
     "exception": false,
     "start_time": "2025-07-30T12:50:53.809022",
     "status": "completed"
    },
    "tags": []
   },
   "outputs": [],
   "source": [
    "siab_train = sample_by_year_size(siab,\n",
    "                               training_year=universe[\"training_year\"],\n",
    "                               training_size=universe[\"training_size\"])"
   ]
  },
  {
   "cell_type": "code",
   "execution_count": 18,
   "id": "8d3afb32-789d-442c-8d5d-9f5aa8dd2eed",
   "metadata": {
    "execution": {
     "iopub.execute_input": "2025-07-30T12:50:54.223820Z",
     "iopub.status.busy": "2025-07-30T12:50:54.223143Z",
     "iopub.status.idle": "2025-07-30T12:50:54.232256Z",
     "shell.execute_reply": "2025-07-30T12:50:54.231215Z"
    },
    "papermill": {
     "duration": 0.037351,
     "end_time": "2025-07-30T12:50:54.235277",
     "exception": false,
     "start_time": "2025-07-30T12:50:54.197926",
     "status": "completed"
    },
    "tags": []
   },
   "outputs": [
    {
     "data": {
      "text/plain": [
       "(25000, 164)"
      ]
     },
     "execution_count": 18,
     "metadata": {},
     "output_type": "execute_result"
    }
   ],
   "source": [
    "siab_train.shape"
   ]
  },
  {
   "cell_type": "code",
   "execution_count": 19,
   "id": "d582db68-1a4c-47fb-84fc-08518dc1975a",
   "metadata": {
    "execution": {
     "iopub.execute_input": "2025-07-30T12:50:54.287000Z",
     "iopub.status.busy": "2025-07-30T12:50:54.286465Z",
     "iopub.status.idle": "2025-07-30T12:50:54.298501Z",
     "shell.execute_reply": "2025-07-30T12:50:54.297468Z"
    },
    "papermill": {
     "duration": 0.039545,
     "end_time": "2025-07-30T12:50:54.300251",
     "exception": false,
     "start_time": "2025-07-30T12:50:54.260706",
     "status": "completed"
    },
    "tags": []
   },
   "outputs": [
    {
     "data": {
      "text/plain": [
       "year\n",
       "2014    25000\n",
       "dtype: int64"
      ]
     },
     "metadata": {},
     "output_type": "display_data"
    }
   ],
   "source": [
    "display(siab_train.groupby(\"year\").size())"
   ]
  },
  {
   "cell_type": "code",
   "execution_count": 20,
   "id": "a561edb4-d032-42cb-8256-22eac1111c64",
   "metadata": {
    "execution": {
     "iopub.execute_input": "2025-07-30T12:50:54.336214Z",
     "iopub.status.busy": "2025-07-30T12:50:54.335822Z",
     "iopub.status.idle": "2025-07-30T12:50:54.699351Z",
     "shell.execute_reply": "2025-07-30T12:50:54.698005Z"
    },
    "papermill": {
     "duration": 0.378281,
     "end_time": "2025-07-30T12:50:54.701058",
     "exception": false,
     "start_time": "2025-07-30T12:50:54.322777",
     "status": "completed"
    },
    "tags": []
   },
   "outputs": [],
   "source": [
    "#siab_train = siab_s[siab_s.year < 2015]\n",
    "siab_calib = siab[siab.year == 2015]\n",
    "siab_test = siab[siab.year == 2016]"
   ]
  },
  {
   "cell_type": "code",
   "execution_count": 21,
   "id": "472de16f-c3db-4916-846b-1f0de9cf1746",
   "metadata": {
    "execution": {
     "iopub.execute_input": "2025-07-30T12:50:54.744105Z",
     "iopub.status.busy": "2025-07-30T12:50:54.743537Z",
     "iopub.status.idle": "2025-07-30T12:50:54.759598Z",
     "shell.execute_reply": "2025-07-30T12:50:54.758569Z"
    },
    "papermill": {
     "duration": 0.040749,
     "end_time": "2025-07-30T12:50:54.761524",
     "exception": false,
     "start_time": "2025-07-30T12:50:54.720775",
     "status": "completed"
    },
    "tags": []
   },
   "outputs": [],
   "source": [
    "X_train = siab_train.iloc[:,4:164]\n",
    "y_train = siab_train.iloc[:, [3]]"
   ]
  },
  {
   "cell_type": "code",
   "execution_count": 22,
   "id": "828c96af-f43a-4ed6-ba47-8ac73a47d56c",
   "metadata": {
    "execution": {
     "iopub.execute_input": "2025-07-30T12:50:54.814416Z",
     "iopub.status.busy": "2025-07-30T12:50:54.813808Z",
     "iopub.status.idle": "2025-07-30T12:50:54.867234Z",
     "shell.execute_reply": "2025-07-30T12:50:54.866210Z"
    },
    "papermill": {
     "duration": 0.080605,
     "end_time": "2025-07-30T12:50:54.869241",
     "exception": false,
     "start_time": "2025-07-30T12:50:54.788636",
     "status": "completed"
    },
    "tags": []
   },
   "outputs": [],
   "source": [
    "X_calib = siab_calib.iloc[:,4:164]\n",
    "y_calib = siab_calib.iloc[:, [3]]"
   ]
  },
  {
   "cell_type": "code",
   "execution_count": 23,
   "id": "c34be9c3-6bd6-476e-acd3-845840e303be",
   "metadata": {
    "execution": {
     "iopub.execute_input": "2025-07-30T12:50:54.915656Z",
     "iopub.status.busy": "2025-07-30T12:50:54.915132Z",
     "iopub.status.idle": "2025-07-30T12:50:54.977923Z",
     "shell.execute_reply": "2025-07-30T12:50:54.976736Z"
    },
    "papermill": {
     "duration": 0.089675,
     "end_time": "2025-07-30T12:50:54.979952",
     "exception": false,
     "start_time": "2025-07-30T12:50:54.890277",
     "status": "completed"
    },
    "tags": []
   },
   "outputs": [],
   "source": [
    "X_test = siab_test.iloc[:,4:164]\n",
    "y_true = siab_test.iloc[:, [3]]"
   ]
  },
  {
   "cell_type": "markdown",
   "id": "9901737e-04df-44f0-9100-f5ad144ed040",
   "metadata": {
    "papermill": {
     "duration": 0.018803,
     "end_time": "2025-07-30T12:50:55.023684",
     "exception": false,
     "start_time": "2025-07-30T12:50:55.004881",
     "status": "completed"
    },
    "tags": []
   },
   "source": [
    "# Splitting Data and Setting Training Data Size OLD VERSION"
   ]
  },
  {
   "cell_type": "code",
   "execution_count": 24,
   "id": "acbc8f7d-8fc8-4e86-8c59-5dcb0f58384b",
   "metadata": {
    "execution": {
     "iopub.execute_input": "2025-07-30T12:50:55.073670Z",
     "iopub.status.busy": "2025-07-30T12:50:55.072998Z",
     "iopub.status.idle": "2025-07-30T12:50:55.082180Z",
     "shell.execute_reply": "2025-07-30T12:50:55.081082Z"
    },
    "papermill": {
     "duration": 0.036502,
     "end_time": "2025-07-30T12:50:55.084107",
     "exception": false,
     "start_time": "2025-07-30T12:50:55.047605",
     "status": "completed"
    },
    "tags": []
   },
   "outputs": [],
   "source": [
    "#def sample_by_year(df, training_size, random_state=42):\n",
    "#    if training_size == \"2014\":\n",
    "#        return df[df[\"year\"] == 2014].reset_index(drop=True)\n",
    "#    \n",
    "#    size_map = {\n",
    "#        \"25k\": 5000,\n",
    "#        \"5k\": 1000,\n",
    "#        \"1k\": 200\n",
    "#    }\n",
    "#\n",
    "#    if training_size not in size_map:\n",
    "#        return df.reset_index(drop=True)  # use all data\n",
    "#\n",
    "#    n_per_year = size_map[training_size]\n",
    "#    grouped = df.groupby(\"year\")\n",
    "#    sampled = grouped.apply(lambda x: x.sample(n=min(n_per_year, len(x)), random_state=random_state))\n",
    "#    return sampled.reset_index(drop=True)"
   ]
  },
  {
   "cell_type": "code",
   "execution_count": 25,
   "id": "6d931f52-beaf-43ff-9e78-9d44a448d54e",
   "metadata": {
    "execution": {
     "iopub.execute_input": "2025-07-30T12:50:55.134288Z",
     "iopub.status.busy": "2025-07-30T12:50:55.133589Z",
     "iopub.status.idle": "2025-07-30T12:50:55.139007Z",
     "shell.execute_reply": "2025-07-30T12:50:55.138158Z"
    },
    "papermill": {
     "duration": 0.032016,
     "end_time": "2025-07-30T12:50:55.140874",
     "exception": false,
     "start_time": "2025-07-30T12:50:55.108858",
     "status": "completed"
    },
    "tags": []
   },
   "outputs": [],
   "source": [
    "#siab_s = sample_by_year(siab, universe[\"training_size\"])"
   ]
  },
  {
   "cell_type": "code",
   "execution_count": 26,
   "id": "5db0a40e-a4e2-4920-be85-b12ae061d70d",
   "metadata": {
    "execution": {
     "iopub.execute_input": "2025-07-30T12:50:55.169143Z",
     "iopub.status.busy": "2025-07-30T12:50:55.168593Z",
     "iopub.status.idle": "2025-07-30T12:50:55.173476Z",
     "shell.execute_reply": "2025-07-30T12:50:55.172384Z"
    },
    "papermill": {
     "duration": 0.020425,
     "end_time": "2025-07-30T12:50:55.175306",
     "exception": false,
     "start_time": "2025-07-30T12:50:55.154881",
     "status": "completed"
    },
    "tags": []
   },
   "outputs": [],
   "source": [
    "#display(siab_s.groupby(\"year\").size())"
   ]
  },
  {
   "cell_type": "code",
   "execution_count": 27,
   "id": "e6c733c5",
   "metadata": {
    "execution": {
     "iopub.execute_input": "2025-07-30T12:50:55.223962Z",
     "iopub.status.busy": "2025-07-30T12:50:55.223466Z",
     "iopub.status.idle": "2025-07-30T12:50:55.323581Z",
     "shell.execute_reply": "2025-07-30T12:50:55.322641Z"
    },
    "papermill": {
     "duration": 0.12638,
     "end_time": "2025-07-30T12:50:55.325635",
     "exception": false,
     "start_time": "2025-07-30T12:50:55.199255",
     "status": "completed"
    },
    "tags": []
   },
   "outputs": [],
   "source": [
    "# Auxiliary data needed downstream in the pipeline\n",
    "\n",
    "org_train = X_train.copy()\n",
    "org_test = X_test.copy()\n",
    "org_calib = X_calib.copy()"
   ]
  },
  {
   "cell_type": "code",
   "execution_count": 28,
   "id": "1466abac-c6da-4492-a62f-4240ae3783af",
   "metadata": {
    "execution": {
     "iopub.execute_input": "2025-07-30T12:50:55.371148Z",
     "iopub.status.busy": "2025-07-30T12:50:55.370088Z",
     "iopub.status.idle": "2025-07-30T12:50:55.376668Z",
     "shell.execute_reply": "2025-07-30T12:50:55.375614Z"
    },
    "papermill": {
     "duration": 0.031622,
     "end_time": "2025-07-30T12:50:55.378354",
     "exception": false,
     "start_time": "2025-07-30T12:50:55.346732",
     "status": "completed"
    },
    "tags": []
   },
   "outputs": [],
   "source": [
    "# put in other script?\n",
    "# Group sizes\n",
    "\n",
    "#def calculate_percentages(df, df_name):\n",
    "#    total_entries = len(df)\n",
    "#\n",
    "#    female_pct = (df['frau1'] == 1).mean() * 100\n",
    "#    non_german_pct = ((df['maxdeutsch1'] == 0) & (df['maxdeutsch.Missing.'] == 0)).mean() * 100\n",
    "#    non_german_male_pct = ((df['frau1'] == 0) & (df['maxdeutsch1'] == 0) & (df['maxdeutsch.Missing.'] == 0)).mean() * 100\n",
    "#    non_german_female_pct = ((df['frau1'] == 1) & (df['maxdeutsch1'] == 0) & (df['maxdeutsch.Missing.'] == 0)).mean() * 100\n",
    "#\n",
    "#    print(f\"--- {df_name} ---\")\n",
    "#    print(f\"Female: {female_pct:.2f}%\")\n",
    "#    print(f\"Non-German: {non_german_pct:.2f}%\")\n",
    "#    print(f\"Non-German Male: {non_german_male_pct:.2f}%\")\n",
    "#    print(f\"Non-German Female: {non_german_female_pct:.2f}%\\n\")\n",
    "#\n",
    "## Calculate for each DataFrame\n",
    "#calculate_percentages(siab_calib, \"siab_calib\")\n",
    "#calculate_percentages(siab_test, \"siab_test\")\n",
    "#calculate_percentages(siab_train, \"siab_train\")"
   ]
  },
  {
   "cell_type": "markdown",
   "id": "0a4a1b33",
   "metadata": {
    "papermill": {
     "duration": 0.024176,
     "end_time": "2025-07-30T12:50:55.426960",
     "exception": false,
     "start_time": "2025-07-30T12:50:55.402784",
     "status": "completed"
    },
    "tags": []
   },
   "source": [
    "# Preprocessing Data"
   ]
  },
  {
   "cell_type": "code",
   "execution_count": 29,
   "id": "ca879031",
   "metadata": {
    "execution": {
     "iopub.execute_input": "2025-07-30T12:50:55.475622Z",
     "iopub.status.busy": "2025-07-30T12:50:55.475272Z",
     "iopub.status.idle": "2025-07-30T12:50:55.479936Z",
     "shell.execute_reply": "2025-07-30T12:50:55.479255Z"
    },
    "papermill": {
     "duration": 0.036466,
     "end_time": "2025-07-30T12:50:55.487688",
     "exception": false,
     "start_time": "2025-07-30T12:50:55.451222",
     "status": "completed"
    },
    "tags": []
   },
   "outputs": [],
   "source": [
    "# EXCLUDE PROTECTED FEATURES\n",
    "# ----------------------\n",
    "# \"exclude_features\": \"none\", # \"nationality\", \"sex\", \"nationality-sex\"\n",
    "\n",
    "excluded_features = universe[\"exclude_features\"].split(\"-\") # split, e.g.: \"nationality-sex\" -> [\"nationality\", \"sex\"]\n",
    "excluded_features_dictionary = {\n",
    "    \"nationality\": [\"maxdeutsch1\", \"maxdeutsch.Missing.\"],\n",
    "    \"sex\": [\"frau1\"],\n",
    "    \"age\": [\"age\"],\n",
    "}\n"
   ]
  },
  {
   "cell_type": "code",
   "execution_count": 30,
   "id": "b745ac60",
   "metadata": {
    "execution": {
     "iopub.execute_input": "2025-07-30T12:50:55.537409Z",
     "iopub.status.busy": "2025-07-30T12:50:55.536671Z",
     "iopub.status.idle": "2025-07-30T12:50:55.543678Z",
     "shell.execute_reply": "2025-07-30T12:50:55.542457Z"
    },
    "papermill": {
     "duration": 0.034953,
     "end_time": "2025-07-30T12:50:55.545682",
     "exception": false,
     "start_time": "2025-07-30T12:50:55.510729",
     "status": "completed"
    },
    "tags": []
   },
   "outputs": [],
   "source": [
    "# Code nice names to column names\n",
    "\n",
    "excluded_features_columns = [\n",
    "    excluded_features_dictionary[f] for f in excluded_features if len(f) > 0 and f != \"none\"\n",
    "]"
   ]
  },
  {
   "cell_type": "code",
   "execution_count": 31,
   "id": "f84f73a2",
   "metadata": {
    "execution": {
     "iopub.execute_input": "2025-07-30T12:50:55.596272Z",
     "iopub.status.busy": "2025-07-30T12:50:55.595374Z",
     "iopub.status.idle": "2025-07-30T12:50:55.603729Z",
     "shell.execute_reply": "2025-07-30T12:50:55.602570Z"
    },
    "papermill": {
     "duration": 0.036173,
     "end_time": "2025-07-30T12:50:55.605869",
     "exception": false,
     "start_time": "2025-07-30T12:50:55.569696",
     "status": "completed"
    },
    "tags": []
   },
   "outputs": [],
   "source": [
    "from utils import flatten_once\n",
    "\n",
    "excluded_features_columns = flatten_once(excluded_features_columns)"
   ]
  },
  {
   "cell_type": "code",
   "execution_count": 32,
   "id": "884dea22",
   "metadata": {
    "execution": {
     "iopub.execute_input": "2025-07-30T12:50:55.656143Z",
     "iopub.status.busy": "2025-07-30T12:50:55.655414Z",
     "iopub.status.idle": "2025-07-30T12:50:55.661072Z",
     "shell.execute_reply": "2025-07-30T12:50:55.660116Z"
    },
    "papermill": {
     "duration": 0.032561,
     "end_time": "2025-07-30T12:50:55.662953",
     "exception": false,
     "start_time": "2025-07-30T12:50:55.630392",
     "status": "completed"
    },
    "tags": []
   },
   "outputs": [],
   "source": [
    "if len(excluded_features_columns) > 0:\n",
    "    print(f\"Dropping features: {excluded_features_columns}\")\n",
    "    X_train.drop(excluded_features_columns, axis=1, inplace=True)"
   ]
  },
  {
   "cell_type": "code",
   "execution_count": 33,
   "id": "95ab8b16",
   "metadata": {
    "execution": {
     "iopub.execute_input": "2025-07-30T12:50:55.713294Z",
     "iopub.status.busy": "2025-07-30T12:50:55.712768Z",
     "iopub.status.idle": "2025-07-30T12:50:55.719609Z",
     "shell.execute_reply": "2025-07-30T12:50:55.718481Z"
    },
    "papermill": {
     "duration": 0.034207,
     "end_time": "2025-07-30T12:50:55.721772",
     "exception": false,
     "start_time": "2025-07-30T12:50:55.687565",
     "status": "completed"
    },
    "tags": []
   },
   "outputs": [],
   "source": [
    "if len(excluded_features_columns) > 0:\n",
    "    print(f\"Dropping features: {excluded_features_columns}\")\n",
    "    X_test.drop(excluded_features_columns, axis=1, inplace=True)"
   ]
  },
  {
   "cell_type": "code",
   "execution_count": 34,
   "id": "1853aaf5-fb9f-46cb-a2b5-8ea4ae2237e4",
   "metadata": {
    "execution": {
     "iopub.execute_input": "2025-07-30T12:50:55.771707Z",
     "iopub.status.busy": "2025-07-30T12:50:55.770964Z",
     "iopub.status.idle": "2025-07-30T12:50:55.777184Z",
     "shell.execute_reply": "2025-07-30T12:50:55.776090Z"
    },
    "papermill": {
     "duration": 0.033025,
     "end_time": "2025-07-30T12:50:55.778923",
     "exception": false,
     "start_time": "2025-07-30T12:50:55.745898",
     "status": "completed"
    },
    "tags": []
   },
   "outputs": [],
   "source": [
    "if len(excluded_features_columns) > 0:\n",
    "    print(f\"Dropping features: {excluded_features_columns}\")\n",
    "    X_calib.drop(excluded_features_columns, axis=1, inplace=True)"
   ]
  },
  {
   "cell_type": "code",
   "execution_count": 35,
   "id": "6727d079-03e5-481e-9d38-292a90b7a0a8",
   "metadata": {
    "execution": {
     "iopub.execute_input": "2025-07-30T12:50:55.829332Z",
     "iopub.status.busy": "2025-07-30T12:50:55.828632Z",
     "iopub.status.idle": "2025-07-30T12:50:55.833718Z",
     "shell.execute_reply": "2025-07-30T12:50:55.832742Z"
    },
    "papermill": {
     "duration": 0.03245,
     "end_time": "2025-07-30T12:50:55.835787",
     "exception": false,
     "start_time": "2025-07-30T12:50:55.803337",
     "status": "completed"
    },
    "tags": []
   },
   "outputs": [],
   "source": [
    "# SPLIT & STRATIFY DATA\n",
    "# ----------------------"
   ]
  },
  {
   "cell_type": "code",
   "execution_count": 36,
   "id": "76c4dc6d",
   "metadata": {
    "execution": {
     "iopub.execute_input": "2025-07-30T12:50:55.886648Z",
     "iopub.status.busy": "2025-07-30T12:50:55.885643Z",
     "iopub.status.idle": "2025-07-30T12:50:55.891373Z",
     "shell.execute_reply": "2025-07-30T12:50:55.890439Z"
    },
    "papermill": {
     "duration": 0.032409,
     "end_time": "2025-07-30T12:50:55.892951",
     "exception": false,
     "start_time": "2025-07-30T12:50:55.860542",
     "status": "completed"
    },
    "tags": []
   },
   "outputs": [],
   "source": [
    "# EXCLUDE CERTAIN SUBGROUPS\n",
    "# ----------------------\n",
    "\n",
    "mode = universe.get(\"exclude_subgroups\", \"keep-all\") \n",
    "# Fetches the exclude_subgroups setting from the universe dict.\n",
    "# Defaults to \"keep-all\" if the key is missing."
   ]
  },
  {
   "cell_type": "code",
   "execution_count": 37,
   "id": "21994072",
   "metadata": {
    "execution": {
     "iopub.execute_input": "2025-07-30T12:50:55.943048Z",
     "iopub.status.busy": "2025-07-30T12:50:55.942551Z",
     "iopub.status.idle": "2025-07-30T12:50:55.949935Z",
     "shell.execute_reply": "2025-07-30T12:50:55.948842Z"
    },
    "papermill": {
     "duration": 0.034166,
     "end_time": "2025-07-30T12:50:55.951821",
     "exception": false,
     "start_time": "2025-07-30T12:50:55.917655",
     "status": "completed"
    },
    "tags": []
   },
   "outputs": [],
   "source": [
    "if mode == \"keep-all\":\n",
    "    keep_mask = pd.Series(True, index=org_train.index)\n",
    "\n",
    "# org_train contains the original feature columns from features_org (in Simson)\n",
    "# features_org contains unprocessed features, for me X_train at beginning ???\n",
    "# For keep-all, creates a boolean Series (keep_mask) of all True, so no rows are removed.\n",
    "\n",
    "elif mode == \"drop-non-german\":\n",
    "    keep_mask = org_train[\"maxdeutsch1\"] == 1 # ??? what about missing values?\n",
    "\n",
    "else:\n",
    "    raise ValueError(f\"Unsupported mode for exclude_subgroups: {mode}\")\n"
   ]
  },
  {
   "cell_type": "code",
   "execution_count": 38,
   "id": "71651440",
   "metadata": {
    "execution": {
     "iopub.execute_input": "2025-07-30T12:50:55.999365Z",
     "iopub.status.busy": "2025-07-30T12:50:55.998851Z",
     "iopub.status.idle": "2025-07-30T12:50:56.005737Z",
     "shell.execute_reply": "2025-07-30T12:50:56.004757Z"
    },
    "papermill": {
     "duration": 0.033374,
     "end_time": "2025-07-30T12:50:56.007747",
     "exception": false,
     "start_time": "2025-07-30T12:50:55.974373",
     "status": "completed"
    },
    "tags": []
   },
   "outputs": [],
   "source": [
    "n_drop = (~keep_mask).sum() # Calculates how many rows are set to be dropped\n",
    "if n_drop > 0:\n",
    "    pct = n_drop / len(keep_mask) * 100\n",
    "    print(f\"Dropping {n_drop} rows ({pct:.2f}%) where mode='{mode}'\")"
   ]
  },
  {
   "cell_type": "code",
   "execution_count": 39,
   "id": "5fb8eee5",
   "metadata": {
    "execution": {
     "iopub.execute_input": "2025-07-30T12:50:56.058921Z",
     "iopub.status.busy": "2025-07-30T12:50:56.058466Z",
     "iopub.status.idle": "2025-07-30T12:50:56.082321Z",
     "shell.execute_reply": "2025-07-30T12:50:56.081243Z"
    },
    "papermill": {
     "duration": 0.051388,
     "end_time": "2025-07-30T12:50:56.084532",
     "exception": false,
     "start_time": "2025-07-30T12:50:56.033144",
     "status": "completed"
    },
    "tags": []
   },
   "outputs": [],
   "source": [
    "X_train = X_train[keep_mask]"
   ]
  },
  {
   "cell_type": "code",
   "execution_count": 40,
   "id": "b202bb3a",
   "metadata": {
    "execution": {
     "iopub.execute_input": "2025-07-30T12:50:56.136428Z",
     "iopub.status.busy": "2025-07-30T12:50:56.135650Z",
     "iopub.status.idle": "2025-07-30T12:50:56.143194Z",
     "shell.execute_reply": "2025-07-30T12:50:56.142231Z"
    },
    "papermill": {
     "duration": 0.034937,
     "end_time": "2025-07-30T12:50:56.144999",
     "exception": false,
     "start_time": "2025-07-30T12:50:56.110062",
     "status": "completed"
    },
    "tags": []
   },
   "outputs": [],
   "source": [
    "y_train = y_train[keep_mask]"
   ]
  },
  {
   "cell_type": "markdown",
   "id": "493e2ac3",
   "metadata": {
    "papermill": {
     "duration": 0.024822,
     "end_time": "2025-07-30T12:50:56.194976",
     "exception": false,
     "start_time": "2025-07-30T12:50:56.170154",
     "status": "completed"
    },
    "tags": []
   },
   "source": [
    "# Model Training"
   ]
  },
  {
   "cell_type": "code",
   "execution_count": 41,
   "id": "679e1268",
   "metadata": {
    "execution": {
     "iopub.execute_input": "2025-07-30T12:50:56.244077Z",
     "iopub.status.busy": "2025-07-30T12:50:56.243351Z",
     "iopub.status.idle": "2025-07-30T12:50:56.349869Z",
     "shell.execute_reply": "2025-07-30T12:50:56.348877Z"
    },
    "papermill": {
     "duration": 0.132727,
     "end_time": "2025-07-30T12:50:56.351727",
     "exception": false,
     "start_time": "2025-07-30T12:50:56.219000",
     "status": "completed"
    },
    "tags": []
   },
   "outputs": [],
   "source": [
    "from sklearn.linear_model import LogisticRegression\n",
    "from sklearn.ensemble import GradientBoostingClassifier, RandomForestClassifier\n",
    "\n",
    "if (universe[\"model\"] == \"logreg\"):\n",
    "    model = LogisticRegression() #penalty=\"none\") #, solver=\"newton-cg\", max_iter=1) # include random_state=19 ?\n",
    "elif (universe[\"model\"] == \"penalized_logreg\"):\n",
    "    model = LogisticRegression(penalty=\"l2\", C=1.0) #, solver=\"newton-cg\", max_iter=1)\n",
    "elif (universe[\"model\"] == \"rf\"):\n",
    "    model = RandomForestClassifier(n_estimators=100, n_jobs=-1)\n",
    "elif (universe[\"model\"] == \"gbm\"):\n",
    "    model = GradientBoostingClassifier()\n",
    "elif (universe[\"model\"] == \"elasticnet\"):\n",
    "    model = LogisticRegression(penalty = 'elasticnet', solver = 'saga', l1_ratio = 0.5, max_iter=5000) # which solver to use?\n",
    "else:\n",
    "    raise \"Unsupported universe.model\""
   ]
  },
  {
   "cell_type": "code",
   "execution_count": 42,
   "id": "0cc8f744",
   "metadata": {
    "execution": {
     "iopub.execute_input": "2025-07-30T12:50:56.403369Z",
     "iopub.status.busy": "2025-07-30T12:50:56.402712Z",
     "iopub.status.idle": "2025-07-30T12:50:56.409381Z",
     "shell.execute_reply": "2025-07-30T12:50:56.408288Z"
    },
    "papermill": {
     "duration": 0.034039,
     "end_time": "2025-07-30T12:50:56.411274",
     "exception": false,
     "start_time": "2025-07-30T12:50:56.377235",
     "status": "completed"
    },
    "tags": []
   },
   "outputs": [],
   "source": [
    "import numpy as np\n",
    "from sklearn.pipeline import Pipeline\n",
    "from sklearn.preprocessing import StandardScaler\n",
    "\n",
    "model = Pipeline([\n",
    "    #(\"continuous_processor\", continuous_processor),\n",
    "    #(\"categorical_preprocessor\", categorical_preprocessor),\n",
    "    (\"scale\", StandardScaler() if universe[\"scale\"] == \"scale\" else None), \n",
    "    (\"model\", model),\n",
    "])"
   ]
  },
  {
   "cell_type": "code",
   "execution_count": 43,
   "id": "9442c04d",
   "metadata": {
    "execution": {
     "iopub.execute_input": "2025-07-30T12:50:56.463466Z",
     "iopub.status.busy": "2025-07-30T12:50:56.462802Z",
     "iopub.status.idle": "2025-07-30T12:51:25.676575Z",
     "shell.execute_reply": "2025-07-30T12:51:25.675239Z"
    },
    "papermill": {
     "duration": 29.241406,
     "end_time": "2025-07-30T12:51:25.678312",
     "exception": false,
     "start_time": "2025-07-30T12:50:56.436906",
     "status": "completed"
    },
    "tags": []
   },
   "outputs": [
    {
     "data": {
      "text/html": [
       "<style>#sk-container-id-1 {color: black;background-color: white;}#sk-container-id-1 pre{padding: 0;}#sk-container-id-1 div.sk-toggleable {background-color: white;}#sk-container-id-1 label.sk-toggleable__label {cursor: pointer;display: block;width: 100%;margin-bottom: 0;padding: 0.3em;box-sizing: border-box;text-align: center;}#sk-container-id-1 label.sk-toggleable__label-arrow:before {content: \"▸\";float: left;margin-right: 0.25em;color: #696969;}#sk-container-id-1 label.sk-toggleable__label-arrow:hover:before {color: black;}#sk-container-id-1 div.sk-estimator:hover label.sk-toggleable__label-arrow:before {color: black;}#sk-container-id-1 div.sk-toggleable__content {max-height: 0;max-width: 0;overflow: hidden;text-align: left;background-color: #f0f8ff;}#sk-container-id-1 div.sk-toggleable__content pre {margin: 0.2em;color: black;border-radius: 0.25em;background-color: #f0f8ff;}#sk-container-id-1 input.sk-toggleable__control:checked~div.sk-toggleable__content {max-height: 200px;max-width: 100%;overflow: auto;}#sk-container-id-1 input.sk-toggleable__control:checked~label.sk-toggleable__label-arrow:before {content: \"▾\";}#sk-container-id-1 div.sk-estimator input.sk-toggleable__control:checked~label.sk-toggleable__label {background-color: #d4ebff;}#sk-container-id-1 div.sk-label input.sk-toggleable__control:checked~label.sk-toggleable__label {background-color: #d4ebff;}#sk-container-id-1 input.sk-hidden--visually {border: 0;clip: rect(1px 1px 1px 1px);clip: rect(1px, 1px, 1px, 1px);height: 1px;margin: -1px;overflow: hidden;padding: 0;position: absolute;width: 1px;}#sk-container-id-1 div.sk-estimator {font-family: monospace;background-color: #f0f8ff;border: 1px dotted black;border-radius: 0.25em;box-sizing: border-box;margin-bottom: 0.5em;}#sk-container-id-1 div.sk-estimator:hover {background-color: #d4ebff;}#sk-container-id-1 div.sk-parallel-item::after {content: \"\";width: 100%;border-bottom: 1px solid gray;flex-grow: 1;}#sk-container-id-1 div.sk-label:hover label.sk-toggleable__label {background-color: #d4ebff;}#sk-container-id-1 div.sk-serial::before {content: \"\";position: absolute;border-left: 1px solid gray;box-sizing: border-box;top: 0;bottom: 0;left: 50%;z-index: 0;}#sk-container-id-1 div.sk-serial {display: flex;flex-direction: column;align-items: center;background-color: white;padding-right: 0.2em;padding-left: 0.2em;position: relative;}#sk-container-id-1 div.sk-item {position: relative;z-index: 1;}#sk-container-id-1 div.sk-parallel {display: flex;align-items: stretch;justify-content: center;background-color: white;position: relative;}#sk-container-id-1 div.sk-item::before, #sk-container-id-1 div.sk-parallel-item::before {content: \"\";position: absolute;border-left: 1px solid gray;box-sizing: border-box;top: 0;bottom: 0;left: 50%;z-index: -1;}#sk-container-id-1 div.sk-parallel-item {display: flex;flex-direction: column;z-index: 1;position: relative;background-color: white;}#sk-container-id-1 div.sk-parallel-item:first-child::after {align-self: flex-end;width: 50%;}#sk-container-id-1 div.sk-parallel-item:last-child::after {align-self: flex-start;width: 50%;}#sk-container-id-1 div.sk-parallel-item:only-child::after {width: 0;}#sk-container-id-1 div.sk-dashed-wrapped {border: 1px dashed gray;margin: 0 0.4em 0.5em 0.4em;box-sizing: border-box;padding-bottom: 0.4em;background-color: white;}#sk-container-id-1 div.sk-label label {font-family: monospace;font-weight: bold;display: inline-block;line-height: 1.2em;}#sk-container-id-1 div.sk-label-container {text-align: center;}#sk-container-id-1 div.sk-container {/* jupyter's `normalize.less` sets `[hidden] { display: none; }` but bootstrap.min.css set `[hidden] { display: none !important; }` so we also need the `!important` here to be able to override the default hidden behavior on the sphinx rendered scikit-learn.org. See: https://github.com/scikit-learn/scikit-learn/issues/21755 */display: inline-block !important;position: relative;}#sk-container-id-1 div.sk-text-repr-fallback {display: none;}</style><div id=\"sk-container-id-1\" class=\"sk-top-container\"><div class=\"sk-text-repr-fallback\"><pre>Pipeline(steps=[(&#x27;scale&#x27;, StandardScaler()),\n",
       "                (&#x27;model&#x27;,\n",
       "                 LogisticRegression(l1_ratio=0.5, max_iter=5000,\n",
       "                                    penalty=&#x27;elasticnet&#x27;, solver=&#x27;saga&#x27;))])</pre><b>In a Jupyter environment, please rerun this cell to show the HTML representation or trust the notebook. <br />On GitHub, the HTML representation is unable to render, please try loading this page with nbviewer.org.</b></div><div class=\"sk-container\" hidden><div class=\"sk-item sk-dashed-wrapped\"><div class=\"sk-label-container\"><div class=\"sk-label sk-toggleable\"><input class=\"sk-toggleable__control sk-hidden--visually\" id=\"sk-estimator-id-1\" type=\"checkbox\" ><label for=\"sk-estimator-id-1\" class=\"sk-toggleable__label sk-toggleable__label-arrow\">Pipeline</label><div class=\"sk-toggleable__content\"><pre>Pipeline(steps=[(&#x27;scale&#x27;, StandardScaler()),\n",
       "                (&#x27;model&#x27;,\n",
       "                 LogisticRegression(l1_ratio=0.5, max_iter=5000,\n",
       "                                    penalty=&#x27;elasticnet&#x27;, solver=&#x27;saga&#x27;))])</pre></div></div></div><div class=\"sk-serial\"><div class=\"sk-item\"><div class=\"sk-estimator sk-toggleable\"><input class=\"sk-toggleable__control sk-hidden--visually\" id=\"sk-estimator-id-2\" type=\"checkbox\" ><label for=\"sk-estimator-id-2\" class=\"sk-toggleable__label sk-toggleable__label-arrow\">StandardScaler</label><div class=\"sk-toggleable__content\"><pre>StandardScaler()</pre></div></div></div><div class=\"sk-item\"><div class=\"sk-estimator sk-toggleable\"><input class=\"sk-toggleable__control sk-hidden--visually\" id=\"sk-estimator-id-3\" type=\"checkbox\" ><label for=\"sk-estimator-id-3\" class=\"sk-toggleable__label sk-toggleable__label-arrow\">LogisticRegression</label><div class=\"sk-toggleable__content\"><pre>LogisticRegression(l1_ratio=0.5, max_iter=5000, penalty=&#x27;elasticnet&#x27;,\n",
       "                   solver=&#x27;saga&#x27;)</pre></div></div></div></div></div></div></div>"
      ],
      "text/plain": [
       "Pipeline(steps=[('scale', StandardScaler()),\n",
       "                ('model',\n",
       "                 LogisticRegression(l1_ratio=0.5, max_iter=5000,\n",
       "                                    penalty='elasticnet', solver='saga'))])"
      ]
     },
     "execution_count": 43,
     "metadata": {},
     "output_type": "execute_result"
    }
   ],
   "source": [
    "model.fit(X_train, y_train.values.ravel())"
   ]
  },
  {
   "cell_type": "code",
   "execution_count": 44,
   "id": "af59f8c0",
   "metadata": {
    "execution": {
     "iopub.execute_input": "2025-07-30T12:51:25.728980Z",
     "iopub.status.busy": "2025-07-30T12:51:25.728381Z",
     "iopub.status.idle": "2025-07-30T12:51:25.735344Z",
     "shell.execute_reply": "2025-07-30T12:51:25.734137Z"
    },
    "papermill": {
     "duration": 0.033244,
     "end_time": "2025-07-30T12:51:25.736917",
     "exception": false,
     "start_time": "2025-07-30T12:51:25.703673",
     "status": "completed"
    },
    "tags": []
   },
   "outputs": [],
   "source": [
    "from fairness_multiverse.universe import predict_w_threshold"
   ]
  },
  {
   "cell_type": "code",
   "execution_count": 45,
   "id": "a7cf2e16",
   "metadata": {
    "execution": {
     "iopub.execute_input": "2025-07-30T12:51:25.784836Z",
     "iopub.status.busy": "2025-07-30T12:51:25.784133Z",
     "iopub.status.idle": "2025-07-30T12:51:25.990331Z",
     "shell.execute_reply": "2025-07-30T12:51:25.989335Z"
    },
    "papermill": {
     "duration": 0.231786,
     "end_time": "2025-07-30T12:51:25.991902",
     "exception": false,
     "start_time": "2025-07-30T12:51:25.760116",
     "status": "completed"
    },
    "tags": []
   },
   "outputs": [
    {
     "data": {
      "text/plain": [
       "0.8653438858544198"
      ]
     },
     "execution_count": 45,
     "metadata": {},
     "output_type": "execute_result"
    }
   ],
   "source": [
    "probs_test = model.predict_proba(X_test)\n",
    "\n",
    "'''\n",
    "Below code returns a boolean array (or binary 0/1 array depending on how it’s used) where each element \n",
    "is True if the probability of class 1 is greater than or equal to the threshold, and False otherwise.\n",
    "'''\n",
    "y_pred_default = predict_w_threshold(probs_test, 0.5)\n",
    "\n",
    "from sklearn.metrics import accuracy_score\n",
    "\n",
    "# Naive prediction\n",
    "accuracy_score(y_true = y_true, y_pred = y_pred_default)"
   ]
  },
  {
   "cell_type": "code",
   "execution_count": 46,
   "id": "081964c3",
   "metadata": {
    "execution": {
     "iopub.execute_input": "2025-07-30T12:51:26.041227Z",
     "iopub.status.busy": "2025-07-30T12:51:26.040728Z",
     "iopub.status.idle": "2025-07-30T12:51:26.233869Z",
     "shell.execute_reply": "2025-07-30T12:51:26.233002Z"
    },
    "papermill": {
     "duration": 0.219853,
     "end_time": "2025-07-30T12:51:26.235187",
     "exception": false,
     "start_time": "2025-07-30T12:51:26.015334",
     "status": "completed"
    },
    "tags": []
   },
   "outputs": [
    {
     "data": {
      "text/plain": [
       "array([0, 0, 0, ..., 0, 0, 0])"
      ]
     },
     "execution_count": 46,
     "metadata": {},
     "output_type": "execute_result"
    }
   ],
   "source": [
    "model.predict(X_test)"
   ]
  },
  {
   "cell_type": "markdown",
   "id": "56c9705b",
   "metadata": {
    "papermill": {
     "duration": 0.011895,
     "end_time": "2025-07-30T12:51:26.259807",
     "exception": false,
     "start_time": "2025-07-30T12:51:26.247912",
     "status": "completed"
    },
    "tags": []
   },
   "source": [
    "# Conformal Prediction"
   ]
  },
  {
   "cell_type": "code",
   "execution_count": 47,
   "id": "160ec6ff",
   "metadata": {
    "execution": {
     "iopub.execute_input": "2025-07-30T12:51:26.292440Z",
     "iopub.status.busy": "2025-07-30T12:51:26.291602Z",
     "iopub.status.idle": "2025-07-30T12:51:26.296928Z",
     "shell.execute_reply": "2025-07-30T12:51:26.296022Z"
    },
    "papermill": {
     "duration": 0.021165,
     "end_time": "2025-07-30T12:51:26.298627",
     "exception": false,
     "start_time": "2025-07-30T12:51:26.277462",
     "status": "completed"
    },
    "tags": []
   },
   "outputs": [],
   "source": [
    "# Miscoverage level for conformal prediction (10% allowed error rate => 90% target coverage)\n",
    "alpha = 0.1"
   ]
  },
  {
   "cell_type": "code",
   "execution_count": 48,
   "id": "eadf4555-3dd3-440e-8e35-f82a4ad9f855",
   "metadata": {
    "execution": {
     "iopub.execute_input": "2025-07-30T12:51:26.326955Z",
     "iopub.status.busy": "2025-07-30T12:51:26.326529Z",
     "iopub.status.idle": "2025-07-30T12:51:26.516987Z",
     "shell.execute_reply": "2025-07-30T12:51:26.516050Z"
    },
    "papermill": {
     "duration": 0.206381,
     "end_time": "2025-07-30T12:51:26.518878",
     "exception": false,
     "start_time": "2025-07-30T12:51:26.312497",
     "status": "completed"
    },
    "tags": []
   },
   "outputs": [],
   "source": [
    "probs_calib = model.predict_proba(X_calib)"
   ]
  },
  {
   "cell_type": "code",
   "execution_count": 49,
   "id": "2ed93547-6d5d-4983-9b36-1ecb300da49a",
   "metadata": {
    "execution": {
     "iopub.execute_input": "2025-07-30T12:51:26.570759Z",
     "iopub.status.busy": "2025-07-30T12:51:26.570360Z",
     "iopub.status.idle": "2025-07-30T12:51:26.575641Z",
     "shell.execute_reply": "2025-07-30T12:51:26.574713Z"
    },
    "papermill": {
     "duration": 0.033174,
     "end_time": "2025-07-30T12:51:26.577509",
     "exception": false,
     "start_time": "2025-07-30T12:51:26.544335",
     "status": "completed"
    },
    "tags": []
   },
   "outputs": [],
   "source": [
    "y_calib = y_calib.values.ravel().astype(int)"
   ]
  },
  {
   "cell_type": "code",
   "execution_count": 50,
   "id": "65d1320d-f588-4b38-9072-62af1ae97f7d",
   "metadata": {
    "execution": {
     "iopub.execute_input": "2025-07-30T12:51:26.630862Z",
     "iopub.status.busy": "2025-07-30T12:51:26.630067Z",
     "iopub.status.idle": "2025-07-30T12:51:26.639037Z",
     "shell.execute_reply": "2025-07-30T12:51:26.638169Z"
    },
    "papermill": {
     "duration": 0.038991,
     "end_time": "2025-07-30T12:51:26.640771",
     "exception": false,
     "start_time": "2025-07-30T12:51:26.601780",
     "status": "completed"
    },
    "tags": []
   },
   "outputs": [],
   "source": [
    "from fairness_multiverse.conformal import compute_nc_scores\n",
    "\n",
    "# Compute nonconformity scores on calibration set (1 - probability of true class)\n",
    "nc_scores = compute_nc_scores(probs_calib, y_calib)"
   ]
  },
  {
   "cell_type": "code",
   "execution_count": 51,
   "id": "df3b8ca3-53b7-43d5-9667-7c85da7aeda2",
   "metadata": {
    "execution": {
     "iopub.execute_input": "2025-07-30T12:51:26.692191Z",
     "iopub.status.busy": "2025-07-30T12:51:26.691653Z",
     "iopub.status.idle": "2025-07-30T12:51:26.698334Z",
     "shell.execute_reply": "2025-07-30T12:51:26.697336Z"
    },
    "papermill": {
     "duration": 0.034348,
     "end_time": "2025-07-30T12:51:26.700007",
     "exception": false,
     "start_time": "2025-07-30T12:51:26.665659",
     "status": "completed"
    },
    "tags": []
   },
   "outputs": [],
   "source": [
    "from fairness_multiverse.conformal import find_threshold\n",
    "\n",
    "# Find conformal threshold q_hat for the given alpha (split conformal method)\n",
    "q_hat = find_threshold(nc_scores, alpha)"
   ]
  },
  {
   "cell_type": "code",
   "execution_count": 52,
   "id": "4d29e6c1-0ef6-4aa4-b8fe-4fe79b0d033a",
   "metadata": {
    "execution": {
     "iopub.execute_input": "2025-07-30T12:51:26.750093Z",
     "iopub.status.busy": "2025-07-30T12:51:26.749561Z",
     "iopub.status.idle": "2025-07-30T12:51:26.757321Z",
     "shell.execute_reply": "2025-07-30T12:51:26.756466Z"
    },
    "papermill": {
     "duration": 0.031564,
     "end_time": "2025-07-30T12:51:26.758640",
     "exception": false,
     "start_time": "2025-07-30T12:51:26.727076",
     "status": "completed"
    },
    "tags": []
   },
   "outputs": [
    {
     "data": {
      "text/plain": [
       "0.6756811326937426"
      ]
     },
     "execution_count": 52,
     "metadata": {},
     "output_type": "execute_result"
    }
   ],
   "source": [
    "q_hat"
   ]
  },
  {
   "cell_type": "code",
   "execution_count": 53,
   "id": "92460794-cdac-4be2-ba28-f28c0515a6fb",
   "metadata": {
    "execution": {
     "iopub.execute_input": "2025-07-30T12:51:26.786352Z",
     "iopub.status.busy": "2025-07-30T12:51:26.785812Z",
     "iopub.status.idle": "2025-07-30T12:51:27.599487Z",
     "shell.execute_reply": "2025-07-30T12:51:27.598734Z"
    },
    "papermill": {
     "duration": 0.828708,
     "end_time": "2025-07-30T12:51:27.601002",
     "exception": false,
     "start_time": "2025-07-30T12:51:26.772294",
     "status": "completed"
    },
    "tags": []
   },
   "outputs": [],
   "source": [
    "from fairness_multiverse.conformal import predict_conformal_sets\n",
    "\n",
    "# Generate prediction sets for each test example\n",
    "pred_sets = predict_conformal_sets(model, X_test, q_hat)"
   ]
  },
  {
   "cell_type": "code",
   "execution_count": 54,
   "id": "d90c9a65-e6db-4f5d-80cd-e68fb7e46829",
   "metadata": {
    "execution": {
     "iopub.execute_input": "2025-07-30T12:51:27.627802Z",
     "iopub.status.busy": "2025-07-30T12:51:27.627292Z",
     "iopub.status.idle": "2025-07-30T12:51:27.632171Z",
     "shell.execute_reply": "2025-07-30T12:51:27.631453Z"
    },
    "papermill": {
     "duration": 0.019679,
     "end_time": "2025-07-30T12:51:27.633725",
     "exception": false,
     "start_time": "2025-07-30T12:51:27.614046",
     "status": "completed"
    },
    "tags": []
   },
   "outputs": [],
   "source": [
    "y_true = y_true.squeeze()"
   ]
  },
  {
   "cell_type": "code",
   "execution_count": 55,
   "id": "3a58a54a-1e68-46b9-927a-df01f18aebc8",
   "metadata": {
    "execution": {
     "iopub.execute_input": "2025-07-30T12:51:27.698102Z",
     "iopub.status.busy": "2025-07-30T12:51:27.697549Z",
     "iopub.status.idle": "2025-07-30T12:51:29.069210Z",
     "shell.execute_reply": "2025-07-30T12:51:29.068193Z"
    },
    "papermill": {
     "duration": 1.40773,
     "end_time": "2025-07-30T12:51:29.070991",
     "exception": false,
     "start_time": "2025-07-30T12:51:27.663261",
     "status": "completed"
    },
    "tags": []
   },
   "outputs": [],
   "source": [
    "from fairness_multiverse.conformal import evaluate_sets\n",
    "\n",
    "# Evaluate coverage and average set size on test data\n",
    "metrics = evaluate_sets(pred_sets, y_true)"
   ]
  },
  {
   "cell_type": "markdown",
   "id": "2b569c12-9aaa-4c88-98c9-bbcd0cf3ebb8",
   "metadata": {
    "papermill": {
     "duration": 0.01822,
     "end_time": "2025-07-30T12:51:29.112120",
     "exception": false,
     "start_time": "2025-07-30T12:51:29.093900",
     "status": "completed"
    },
    "tags": []
   },
   "source": [
    "# CP Metrics"
   ]
  },
  {
   "cell_type": "code",
   "execution_count": 56,
   "id": "5ce0a5cb-201f-45a0-ade5-94c7f0bd6095",
   "metadata": {
    "execution": {
     "iopub.execute_input": "2025-07-30T12:51:29.139989Z",
     "iopub.status.busy": "2025-07-30T12:51:29.139541Z",
     "iopub.status.idle": "2025-07-30T12:51:29.146703Z",
     "shell.execute_reply": "2025-07-30T12:51:29.145703Z"
    },
    "papermill": {
     "duration": 0.023284,
     "end_time": "2025-07-30T12:51:29.148453",
     "exception": false,
     "start_time": "2025-07-30T12:51:29.125169",
     "status": "completed"
    },
    "tags": []
   },
   "outputs": [
    {
     "data": {
      "text/plain": [
       "{'coverage': 0.9124289376881061, 'avg_size': 1.1252034332850296}"
      ]
     },
     "execution_count": 56,
     "metadata": {},
     "output_type": "execute_result"
    }
   ],
   "source": [
    "metrics"
   ]
  },
  {
   "cell_type": "code",
   "execution_count": 57,
   "id": "9b9a838d-31c9-430b-ae14-12baee460d17",
   "metadata": {
    "execution": {
     "iopub.execute_input": "2025-07-30T12:51:29.205078Z",
     "iopub.status.busy": "2025-07-30T12:51:29.204677Z",
     "iopub.status.idle": "2025-07-30T12:51:29.211191Z",
     "shell.execute_reply": "2025-07-30T12:51:29.209865Z"
    },
    "papermill": {
     "duration": 0.037993,
     "end_time": "2025-07-30T12:51:29.212909",
     "exception": false,
     "start_time": "2025-07-30T12:51:29.174916",
     "status": "completed"
    },
    "tags": []
   },
   "outputs": [],
   "source": [
    "example_universe = universe.copy()\n",
    "universe_training_size = example_universe.get(\"training_size\")\n",
    "universe_scale = example_universe.get(\"scale\")\n",
    "universe_model = example_universe.get(\"model\")\n",
    "universe_exclude_features = example_universe.get(\"exclude_features\")\n",
    "universe_exclude_subgroups = example_universe.get(\"exclude_subgroups\")"
   ]
  },
  {
   "cell_type": "code",
   "execution_count": 58,
   "id": "f4b6a8ac-9dc0-4245-8a91-5b3b5999c4f9",
   "metadata": {
    "execution": {
     "iopub.execute_input": "2025-07-30T12:51:29.266345Z",
     "iopub.status.busy": "2025-07-30T12:51:29.265745Z",
     "iopub.status.idle": "2025-07-30T12:51:29.272216Z",
     "shell.execute_reply": "2025-07-30T12:51:29.271262Z"
    },
    "papermill": {
     "duration": 0.033199,
     "end_time": "2025-07-30T12:51:29.273872",
     "exception": false,
     "start_time": "2025-07-30T12:51:29.240673",
     "status": "completed"
    },
    "tags": []
   },
   "outputs": [],
   "source": [
    "cp_metrics_dict = {\n",
    "    \"universe_id\": [universe_id],\n",
    "    \"universe_training_size\": [universe_training_size],\n",
    "    \"universe_scale\": [universe_scale],\n",
    "    \"universe_model\": [universe_model],\n",
    "    \"universe_exclude_features\": [universe_exclude_features],\n",
    "    \"universe_exclude_subgroups\": [universe_exclude_subgroups],\n",
    "    \"q_hat\": [q_hat],\n",
    "    \"coverage\": [metrics[\"coverage\"]],\n",
    "    \"avg_size\": [metrics[\"avg_size\"]],\n",
    "}"
   ]
  },
  {
   "cell_type": "code",
   "execution_count": 59,
   "id": "908acbb1-0371-4915-85ca-3fa520d2efe2",
   "metadata": {
    "execution": {
     "iopub.execute_input": "2025-07-30T12:51:29.329260Z",
     "iopub.status.busy": "2025-07-30T12:51:29.328797Z",
     "iopub.status.idle": "2025-07-30T12:51:29.337153Z",
     "shell.execute_reply": "2025-07-30T12:51:29.336118Z"
    },
    "papermill": {
     "duration": 0.037655,
     "end_time": "2025-07-30T12:51:29.339504",
     "exception": false,
     "start_time": "2025-07-30T12:51:29.301849",
     "status": "completed"
    },
    "tags": []
   },
   "outputs": [
    {
     "data": {
      "text/plain": [
       "{'universe_id': ['e1adc4339c174af87fefed9b1223f53d'],\n",
       " 'universe_training_size': ['25k'],\n",
       " 'universe_scale': ['scale'],\n",
       " 'universe_model': ['elasticnet'],\n",
       " 'universe_exclude_features': ['none'],\n",
       " 'universe_exclude_subgroups': ['keep-all'],\n",
       " 'q_hat': [0.6756811326937426],\n",
       " 'coverage': [0.9124289376881061],\n",
       " 'avg_size': [1.1252034332850296]}"
      ]
     },
     "execution_count": 59,
     "metadata": {},
     "output_type": "execute_result"
    }
   ],
   "source": [
    "cp_metrics_dict"
   ]
  },
  {
   "cell_type": "code",
   "execution_count": 60,
   "id": "33007efc-14e9-4ec6-97ac-56a455c82265",
   "metadata": {
    "execution": {
     "iopub.execute_input": "2025-07-30T12:51:29.387843Z",
     "iopub.status.busy": "2025-07-30T12:51:29.387505Z",
     "iopub.status.idle": "2025-07-30T12:51:29.392847Z",
     "shell.execute_reply": "2025-07-30T12:51:29.391827Z"
    },
    "papermill": {
     "duration": 0.027319,
     "end_time": "2025-07-30T12:51:29.394292",
     "exception": false,
     "start_time": "2025-07-30T12:51:29.366973",
     "status": "completed"
    },
    "tags": []
   },
   "outputs": [],
   "source": [
    "cp_metrics_df = pd.DataFrame(cp_metrics_dict)"
   ]
  },
  {
   "cell_type": "code",
   "execution_count": 61,
   "id": "db12611b-57b2-4910-b9d0-355adfd6e7bf",
   "metadata": {
    "execution": {
     "iopub.execute_input": "2025-07-30T12:51:29.425731Z",
     "iopub.status.busy": "2025-07-30T12:51:29.425377Z",
     "iopub.status.idle": "2025-07-30T12:51:29.439506Z",
     "shell.execute_reply": "2025-07-30T12:51:29.438786Z"
    },
    "papermill": {
     "duration": 0.031097,
     "end_time": "2025-07-30T12:51:29.440838",
     "exception": false,
     "start_time": "2025-07-30T12:51:29.409741",
     "status": "completed"
    },
    "tags": []
   },
   "outputs": [
    {
     "data": {
      "text/html": [
       "<div>\n",
       "<style scoped>\n",
       "    .dataframe tbody tr th:only-of-type {\n",
       "        vertical-align: middle;\n",
       "    }\n",
       "\n",
       "    .dataframe tbody tr th {\n",
       "        vertical-align: top;\n",
       "    }\n",
       "\n",
       "    .dataframe thead th {\n",
       "        text-align: right;\n",
       "    }\n",
       "</style>\n",
       "<table border=\"1\" class=\"dataframe\">\n",
       "  <thead>\n",
       "    <tr style=\"text-align: right;\">\n",
       "      <th></th>\n",
       "      <th>universe_id</th>\n",
       "      <th>universe_training_size</th>\n",
       "      <th>universe_scale</th>\n",
       "      <th>universe_model</th>\n",
       "      <th>universe_exclude_features</th>\n",
       "      <th>universe_exclude_subgroups</th>\n",
       "      <th>q_hat</th>\n",
       "      <th>coverage</th>\n",
       "      <th>avg_size</th>\n",
       "    </tr>\n",
       "  </thead>\n",
       "  <tbody>\n",
       "    <tr>\n",
       "      <th>0</th>\n",
       "      <td>e1adc4339c174af87fefed9b1223f53d</td>\n",
       "      <td>25k</td>\n",
       "      <td>scale</td>\n",
       "      <td>elasticnet</td>\n",
       "      <td>none</td>\n",
       "      <td>keep-all</td>\n",
       "      <td>0.675681</td>\n",
       "      <td>0.912429</td>\n",
       "      <td>1.125203</td>\n",
       "    </tr>\n",
       "  </tbody>\n",
       "</table>\n",
       "</div>"
      ],
      "text/plain": [
       "                        universe_id universe_training_size universe_scale  \\\n",
       "0  e1adc4339c174af87fefed9b1223f53d                    25k          scale   \n",
       "\n",
       "  universe_model universe_exclude_features universe_exclude_subgroups  \\\n",
       "0     elasticnet                      none                   keep-all   \n",
       "\n",
       "      q_hat  coverage  avg_size  \n",
       "0  0.675681  0.912429  1.125203  "
      ]
     },
     "execution_count": 61,
     "metadata": {},
     "output_type": "execute_result"
    }
   ],
   "source": [
    "cp_metrics_df"
   ]
  },
  {
   "cell_type": "code",
   "execution_count": 62,
   "id": "b7fbde55-a0a1-47e4-9af6-fe4a17fa8c61",
   "metadata": {
    "execution": {
     "iopub.execute_input": "2025-07-30T12:51:29.470270Z",
     "iopub.status.busy": "2025-07-30T12:51:29.469767Z",
     "iopub.status.idle": "2025-07-30T12:51:29.547680Z",
     "shell.execute_reply": "2025-07-30T12:51:29.546644Z"
    },
    "papermill": {
     "duration": 0.094657,
     "end_time": "2025-07-30T12:51:29.549443",
     "exception": false,
     "start_time": "2025-07-30T12:51:29.454786",
     "status": "completed"
    },
    "tags": []
   },
   "outputs": [],
   "source": [
    "# Conditional Coverage & looking at subgroups"
   ]
  },
  {
   "cell_type": "code",
   "execution_count": 63,
   "id": "027ae886-68dd-4141-96c7-805a5450e1ef",
   "metadata": {
    "execution": {
     "iopub.execute_input": "2025-07-30T12:51:29.603931Z",
     "iopub.status.busy": "2025-07-30T12:51:29.603420Z",
     "iopub.status.idle": "2025-07-30T12:51:29.875668Z",
     "shell.execute_reply": "2025-07-30T12:51:29.874660Z"
    },
    "papermill": {
     "duration": 0.301893,
     "end_time": "2025-07-30T12:51:29.877616",
     "exception": false,
     "start_time": "2025-07-30T12:51:29.575723",
     "status": "completed"
    },
    "tags": []
   },
   "outputs": [],
   "source": [
    "from fairness_multiverse.conformal import build_cp_groups\n",
    "\n",
    "cp_groups_df = build_cp_groups(pred_sets, y_true, X_test.index, org_test)\n",
    "#needs universe_id and setting"
   ]
  },
  {
   "cell_type": "code",
   "execution_count": 64,
   "id": "01d5802c-663a-4d1f-9d69-e036faaffbf7",
   "metadata": {
    "execution": {
     "iopub.execute_input": "2025-07-30T12:51:29.932002Z",
     "iopub.status.busy": "2025-07-30T12:51:29.931215Z",
     "iopub.status.idle": "2025-07-30T12:51:29.937184Z",
     "shell.execute_reply": "2025-07-30T12:51:29.935762Z"
    },
    "papermill": {
     "duration": 0.035286,
     "end_time": "2025-07-30T12:51:29.939279",
     "exception": false,
     "start_time": "2025-07-30T12:51:29.903993",
     "status": "completed"
    },
    "tags": []
   },
   "outputs": [],
   "source": [
    "#delete\n",
    "#cp_groups_df"
   ]
  },
  {
   "cell_type": "code",
   "execution_count": 65,
   "id": "fa424af1-d1eb-443d-b717-2d279ada8408",
   "metadata": {
    "execution": {
     "iopub.execute_input": "2025-07-30T12:51:29.997483Z",
     "iopub.status.busy": "2025-07-30T12:51:29.996797Z",
     "iopub.status.idle": "2025-07-30T12:51:30.001561Z",
     "shell.execute_reply": "2025-07-30T12:51:30.000846Z"
    },
    "papermill": {
     "duration": 0.035226,
     "end_time": "2025-07-30T12:51:30.003181",
     "exception": false,
     "start_time": "2025-07-30T12:51:29.967955",
     "status": "completed"
    },
    "tags": []
   },
   "outputs": [],
   "source": [
    "#delete\n",
    "#percentage = (cp_groups_df['nongerman_female'] == 1).mean() * 100\n",
    "#print(percentage)\n"
   ]
  },
  {
   "cell_type": "code",
   "execution_count": 66,
   "id": "6cbdab96-b2b2-45af-ad54-d0516db2e28d",
   "metadata": {
    "execution": {
     "iopub.execute_input": "2025-07-30T12:51:30.034379Z",
     "iopub.status.busy": "2025-07-30T12:51:30.033878Z",
     "iopub.status.idle": "2025-07-30T12:51:31.677105Z",
     "shell.execute_reply": "2025-07-30T12:51:31.675993Z"
    },
    "papermill": {
     "duration": 1.660273,
     "end_time": "2025-07-30T12:51:31.678925",
     "exception": false,
     "start_time": "2025-07-30T12:51:30.018652",
     "status": "completed"
    },
    "tags": []
   },
   "outputs": [],
   "source": [
    "# Define covered = 1 if true_label is in the predicted set\n",
    "cp_groups_df['covered'] = cp_groups_df.apply(\n",
    "    lambda r: int(r['true_label'] in r['pred_set']),\n",
    "    axis=1\n",
    ")"
   ]
  },
  {
   "cell_type": "code",
   "execution_count": 67,
   "id": "338ff529-1a6b-4b87-a931-8e4788d52aad",
   "metadata": {
    "execution": {
     "iopub.execute_input": "2025-07-30T12:51:31.730651Z",
     "iopub.status.busy": "2025-07-30T12:51:31.729873Z",
     "iopub.status.idle": "2025-07-30T12:51:31.735669Z",
     "shell.execute_reply": "2025-07-30T12:51:31.734636Z"
    },
    "papermill": {
     "duration": 0.033742,
     "end_time": "2025-07-30T12:51:31.737485",
     "exception": false,
     "start_time": "2025-07-30T12:51:31.703743",
     "status": "completed"
    },
    "tags": []
   },
   "outputs": [],
   "source": [
    "#cp_groups_df"
   ]
  },
  {
   "cell_type": "code",
   "execution_count": 68,
   "id": "90032e27-66df-4540-9169-4e89cfbaa758",
   "metadata": {
    "execution": {
     "iopub.execute_input": "2025-07-30T12:51:31.793060Z",
     "iopub.status.busy": "2025-07-30T12:51:31.792522Z",
     "iopub.status.idle": "2025-07-30T12:51:31.805640Z",
     "shell.execute_reply": "2025-07-30T12:51:31.804715Z"
    },
    "papermill": {
     "duration": 0.043674,
     "end_time": "2025-07-30T12:51:31.807367",
     "exception": false,
     "start_time": "2025-07-30T12:51:31.763693",
     "status": "completed"
    },
    "tags": []
   },
   "outputs": [],
   "source": [
    "subgroups = ['frau1','nongerman','nongerman_male','nongerman_female']\n",
    "\n",
    "# Conditional coverage for subgroup==1\n",
    "cond_coverage = {\n",
    "    g: cp_groups_df.loc[cp_groups_df[g]==1, 'covered'].mean()\n",
    "    for g in subgroups\n",
    "}"
   ]
  },
  {
   "cell_type": "code",
   "execution_count": 69,
   "id": "1e348fb1-b9c3-45bc-ba23-f016827a7e0d",
   "metadata": {
    "execution": {
     "iopub.execute_input": "2025-07-30T12:51:31.860834Z",
     "iopub.status.busy": "2025-07-30T12:51:31.860321Z",
     "iopub.status.idle": "2025-07-30T12:51:31.868419Z",
     "shell.execute_reply": "2025-07-30T12:51:31.867284Z"
    },
    "papermill": {
     "duration": 0.037308,
     "end_time": "2025-07-30T12:51:31.870799",
     "exception": false,
     "start_time": "2025-07-30T12:51:31.833491",
     "status": "completed"
    },
    "tags": []
   },
   "outputs": [
    {
     "data": {
      "text/plain": [
       "{'frau1': 0.9110392236150424,\n",
       " 'nongerman': 0.9128164823443552,\n",
       " 'nongerman_male': 0.9280374673511663,\n",
       " 'nongerman_female': 0.8876304023845007}"
      ]
     },
     "execution_count": 69,
     "metadata": {},
     "output_type": "execute_result"
    }
   ],
   "source": [
    "cond_coverage"
   ]
  },
  {
   "cell_type": "code",
   "execution_count": 70,
   "id": "f5093324-c3dd-4d63-bc4c-8d945e5c8bbb",
   "metadata": {
    "execution": {
     "iopub.execute_input": "2025-07-30T12:51:31.932587Z",
     "iopub.status.busy": "2025-07-30T12:51:31.932129Z",
     "iopub.status.idle": "2025-07-30T12:51:31.940020Z",
     "shell.execute_reply": "2025-07-30T12:51:31.938961Z"
    },
    "papermill": {
     "duration": 0.040769,
     "end_time": "2025-07-30T12:51:31.941924",
     "exception": false,
     "start_time": "2025-07-30T12:51:31.901155",
     "status": "completed"
    },
    "tags": []
   },
   "outputs": [],
   "source": [
    "for subgroup, cov in cond_coverage.items():\n",
    "    cp_metrics_df[f\"cov_{subgroup}\"] = cov"
   ]
  },
  {
   "cell_type": "code",
   "execution_count": 71,
   "id": "6e872e10-dbe5-49e8-b554-5030c98ff75d",
   "metadata": {
    "execution": {
     "iopub.execute_input": "2025-07-30T12:51:32.006679Z",
     "iopub.status.busy": "2025-07-30T12:51:32.006188Z",
     "iopub.status.idle": "2025-07-30T12:51:32.025735Z",
     "shell.execute_reply": "2025-07-30T12:51:32.024736Z"
    },
    "papermill": {
     "duration": 0.054418,
     "end_time": "2025-07-30T12:51:32.027759",
     "exception": false,
     "start_time": "2025-07-30T12:51:31.973341",
     "status": "completed"
    },
    "tags": []
   },
   "outputs": [
    {
     "data": {
      "text/html": [
       "<div>\n",
       "<style scoped>\n",
       "    .dataframe tbody tr th:only-of-type {\n",
       "        vertical-align: middle;\n",
       "    }\n",
       "\n",
       "    .dataframe tbody tr th {\n",
       "        vertical-align: top;\n",
       "    }\n",
       "\n",
       "    .dataframe thead th {\n",
       "        text-align: right;\n",
       "    }\n",
       "</style>\n",
       "<table border=\"1\" class=\"dataframe\">\n",
       "  <thead>\n",
       "    <tr style=\"text-align: right;\">\n",
       "      <th></th>\n",
       "      <th>universe_id</th>\n",
       "      <th>universe_training_size</th>\n",
       "      <th>universe_scale</th>\n",
       "      <th>universe_model</th>\n",
       "      <th>universe_exclude_features</th>\n",
       "      <th>universe_exclude_subgroups</th>\n",
       "      <th>q_hat</th>\n",
       "      <th>coverage</th>\n",
       "      <th>avg_size</th>\n",
       "      <th>cov_frau1</th>\n",
       "      <th>cov_nongerman</th>\n",
       "      <th>cov_nongerman_male</th>\n",
       "      <th>cov_nongerman_female</th>\n",
       "    </tr>\n",
       "  </thead>\n",
       "  <tbody>\n",
       "    <tr>\n",
       "      <th>0</th>\n",
       "      <td>e1adc4339c174af87fefed9b1223f53d</td>\n",
       "      <td>25k</td>\n",
       "      <td>scale</td>\n",
       "      <td>elasticnet</td>\n",
       "      <td>none</td>\n",
       "      <td>keep-all</td>\n",
       "      <td>0.675681</td>\n",
       "      <td>0.912429</td>\n",
       "      <td>1.125203</td>\n",
       "      <td>0.911039</td>\n",
       "      <td>0.912816</td>\n",
       "      <td>0.928037</td>\n",
       "      <td>0.88763</td>\n",
       "    </tr>\n",
       "  </tbody>\n",
       "</table>\n",
       "</div>"
      ],
      "text/plain": [
       "                        universe_id universe_training_size universe_scale  \\\n",
       "0  e1adc4339c174af87fefed9b1223f53d                    25k          scale   \n",
       "\n",
       "  universe_model universe_exclude_features universe_exclude_subgroups  \\\n",
       "0     elasticnet                      none                   keep-all   \n",
       "\n",
       "      q_hat  coverage  avg_size  cov_frau1  cov_nongerman  cov_nongerman_male  \\\n",
       "0  0.675681  0.912429  1.125203   0.911039       0.912816            0.928037   \n",
       "\n",
       "   cov_nongerman_female  \n",
       "0               0.88763  "
      ]
     },
     "execution_count": 71,
     "metadata": {},
     "output_type": "execute_result"
    }
   ],
   "source": [
    "cp_metrics_df"
   ]
  },
  {
   "cell_type": "markdown",
   "id": "33774451",
   "metadata": {
    "papermill": {
     "duration": 0.028229,
     "end_time": "2025-07-30T12:51:32.088267",
     "exception": false,
     "start_time": "2025-07-30T12:51:32.060038",
     "status": "completed"
    },
    "tags": []
   },
   "source": [
    "# (Fairness) Metrics"
   ]
  },
  {
   "cell_type": "code",
   "execution_count": 72,
   "id": "debc5d62",
   "metadata": {
    "execution": {
     "iopub.execute_input": "2025-07-30T12:51:32.137682Z",
     "iopub.status.busy": "2025-07-30T12:51:32.137042Z",
     "iopub.status.idle": "2025-07-30T12:51:32.161020Z",
     "shell.execute_reply": "2025-07-30T12:51:32.160086Z"
    },
    "papermill": {
     "duration": 0.049926,
     "end_time": "2025-07-30T12:51:32.162315",
     "exception": false,
     "start_time": "2025-07-30T12:51:32.112389",
     "status": "completed"
    },
    "tags": []
   },
   "outputs": [],
   "source": [
    "# do I need to include maxdeutsch1.missing?\n",
    "\n",
    "import numpy as np\n",
    "\n",
    "colname_to_bin = \"maxdeutsch1\"\n",
    "majority_value = org_train[colname_to_bin].mode()[0]\n",
    "\n",
    "org_test[\"majmin\"] = np.where(org_test[colname_to_bin] == majority_value, \"majority\", \"minority\")"
   ]
  },
  {
   "cell_type": "code",
   "execution_count": 73,
   "id": "06a50de5",
   "metadata": {
    "execution": {
     "iopub.execute_input": "2025-07-30T12:51:32.217604Z",
     "iopub.status.busy": "2025-07-30T12:51:32.216821Z",
     "iopub.status.idle": "2025-07-30T12:51:35.115183Z",
     "shell.execute_reply": "2025-07-30T12:51:35.113901Z"
    },
    "papermill": {
     "duration": 2.928313,
     "end_time": "2025-07-30T12:51:35.117219",
     "exception": false,
     "start_time": "2025-07-30T12:51:32.188906",
     "status": "completed"
    },
    "tags": []
   },
   "outputs": [],
   "source": [
    "example_universe = universe.copy()\n",
    "example_universe[\"cutoff\"] = example_universe[\"cutoff\"][0]\n",
    "example_universe[\"eval_fairness_grouping\"] = example_universe[\"eval_fairness_grouping\"][0]\n",
    "fairness_dict, metric_frame = universe_analysis.compute_metrics(\n",
    "    example_universe,\n",
    "    y_pred_prob=probs_test,\n",
    "    y_test=y_true,\n",
    "    org_test=org_test,\n",
    ")"
   ]
  },
  {
   "cell_type": "markdown",
   "id": "f95d4e02",
   "metadata": {
    "papermill": {
     "duration": 0.032444,
     "end_time": "2025-07-30T12:51:35.179928",
     "exception": false,
     "start_time": "2025-07-30T12:51:35.147484",
     "status": "completed"
    },
    "tags": []
   },
   "source": [
    "# Overall"
   ]
  },
  {
   "cell_type": "markdown",
   "id": "bdee4871",
   "metadata": {
    "papermill": {
     "duration": 0.025428,
     "end_time": "2025-07-30T12:51:35.240270",
     "exception": false,
     "start_time": "2025-07-30T12:51:35.214842",
     "status": "completed"
    },
    "tags": []
   },
   "source": [
    "Fairness\n",
    "Main fairness target: Equalized Odds. Seems to be a better fit than equal opportunity, since we're not only interested in Y = 1. Seems to be a better fit than demographic parity, since we also care about accuracy, not just equal distribution of preds.\n",
    "\n",
    "Pick column for computation of fairness metrics\n",
    "\n",
    "Performance\n",
    "Overall performance measures, most interesting in relation to the measures split by group below"
   ]
  },
  {
   "cell_type": "code",
   "execution_count": 74,
   "id": "c4e067c6",
   "metadata": {
    "execution": {
     "iopub.execute_input": "2025-07-30T12:51:35.292830Z",
     "iopub.status.busy": "2025-07-30T12:51:35.292289Z",
     "iopub.status.idle": "2025-07-30T12:51:35.302463Z",
     "shell.execute_reply": "2025-07-30T12:51:35.301611Z"
    },
    "papermill": {
     "duration": 0.038797,
     "end_time": "2025-07-30T12:51:35.304162",
     "exception": false,
     "start_time": "2025-07-30T12:51:35.265365",
     "status": "completed"
    },
    "tags": []
   },
   "outputs": [
    {
     "data": {
      "text/plain": [
       "accuracy                   0.225538\n",
       "balanced accuracy          0.551227\n",
       "f1                         0.246837\n",
       "precision                  0.141010\n",
       "false positive rate        0.886857\n",
       "false negative rate        0.010688\n",
       "selection rate             0.900000\n",
       "count                  89710.000000\n",
       "dtype: float64"
      ]
     },
     "execution_count": 74,
     "metadata": {},
     "output_type": "execute_result"
    }
   ],
   "source": [
    "metric_frame.overall"
   ]
  },
  {
   "cell_type": "markdown",
   "id": "e968fe9d",
   "metadata": {
    "papermill": {
     "duration": 0.024975,
     "end_time": "2025-07-30T12:51:35.355368",
     "exception": false,
     "start_time": "2025-07-30T12:51:35.330393",
     "status": "completed"
    },
    "tags": []
   },
   "source": [
    "By Group"
   ]
  },
  {
   "cell_type": "code",
   "execution_count": 75,
   "id": "ec325bce",
   "metadata": {
    "execution": {
     "iopub.execute_input": "2025-07-30T12:51:35.407938Z",
     "iopub.status.busy": "2025-07-30T12:51:35.407295Z",
     "iopub.status.idle": "2025-07-30T12:51:35.422689Z",
     "shell.execute_reply": "2025-07-30T12:51:35.421783Z"
    },
    "papermill": {
     "duration": 0.043863,
     "end_time": "2025-07-30T12:51:35.424281",
     "exception": false,
     "start_time": "2025-07-30T12:51:35.380418",
     "status": "completed"
    },
    "tags": []
   },
   "outputs": [
    {
     "data": {
      "text/html": [
       "<div>\n",
       "<style scoped>\n",
       "    .dataframe tbody tr th:only-of-type {\n",
       "        vertical-align: middle;\n",
       "    }\n",
       "\n",
       "    .dataframe tbody tr th {\n",
       "        vertical-align: top;\n",
       "    }\n",
       "\n",
       "    .dataframe thead th {\n",
       "        text-align: right;\n",
       "    }\n",
       "</style>\n",
       "<table border=\"1\" class=\"dataframe\">\n",
       "  <thead>\n",
       "    <tr style=\"text-align: right;\">\n",
       "      <th></th>\n",
       "      <th>accuracy</th>\n",
       "      <th>balanced accuracy</th>\n",
       "      <th>f1</th>\n",
       "      <th>precision</th>\n",
       "      <th>false positive rate</th>\n",
       "      <th>false negative rate</th>\n",
       "      <th>selection rate</th>\n",
       "      <th>count</th>\n",
       "    </tr>\n",
       "    <tr>\n",
       "      <th>majmin</th>\n",
       "      <th></th>\n",
       "      <th></th>\n",
       "      <th></th>\n",
       "      <th></th>\n",
       "      <th></th>\n",
       "      <th></th>\n",
       "      <th></th>\n",
       "      <th></th>\n",
       "    </tr>\n",
       "  </thead>\n",
       "  <tbody>\n",
       "    <tr>\n",
       "      <th>majority</th>\n",
       "      <td>0.247636</td>\n",
       "      <td>0.561440</td>\n",
       "      <td>0.257628</td>\n",
       "      <td>0.148127</td>\n",
       "      <td>0.865084</td>\n",
       "      <td>0.012035</td>\n",
       "      <td>0.881321</td>\n",
       "      <td>69170.0</td>\n",
       "    </tr>\n",
       "    <tr>\n",
       "      <th>minority</th>\n",
       "      <td>0.151120</td>\n",
       "      <td>0.517864</td>\n",
       "      <td>0.212679</td>\n",
       "      <td>0.119072</td>\n",
       "      <td>0.958783</td>\n",
       "      <td>0.005490</td>\n",
       "      <td>0.962902</td>\n",
       "      <td>20540.0</td>\n",
       "    </tr>\n",
       "  </tbody>\n",
       "</table>\n",
       "</div>"
      ],
      "text/plain": [
       "          accuracy  balanced accuracy        f1  precision  \\\n",
       "majmin                                                       \n",
       "majority  0.247636           0.561440  0.257628   0.148127   \n",
       "minority  0.151120           0.517864  0.212679   0.119072   \n",
       "\n",
       "          false positive rate  false negative rate  selection rate    count  \n",
       "majmin                                                                       \n",
       "majority             0.865084             0.012035        0.881321  69170.0  \n",
       "minority             0.958783             0.005490        0.962902  20540.0  "
      ]
     },
     "execution_count": 75,
     "metadata": {},
     "output_type": "execute_result"
    }
   ],
   "source": [
    "metric_frame.by_group"
   ]
  },
  {
   "cell_type": "code",
   "execution_count": 76,
   "id": "a9ddbe63",
   "metadata": {
    "execution": {
     "iopub.execute_input": "2025-07-30T12:51:35.477771Z",
     "iopub.status.busy": "2025-07-30T12:51:35.477138Z",
     "iopub.status.idle": "2025-07-30T12:51:37.728706Z",
     "shell.execute_reply": "2025-07-30T12:51:37.727718Z"
    },
    "papermill": {
     "duration": 2.279277,
     "end_time": "2025-07-30T12:51:37.730301",
     "exception": false,
     "start_time": "2025-07-30T12:51:35.451024",
     "status": "completed"
    },
    "tags": []
   },
   "outputs": [
    {
     "data": {
      "text/plain": [
       "array([[<Axes: title={'center': 'accuracy'}, xlabel='majmin'>,\n",
       "        <Axes: title={'center': 'balanced accuracy'}, xlabel='majmin'>,\n",
       "        <Axes: title={'center': 'f1'}, xlabel='majmin'>],\n",
       "       [<Axes: title={'center': 'precision'}, xlabel='majmin'>,\n",
       "        <Axes: title={'center': 'false positive rate'}, xlabel='majmin'>,\n",
       "        <Axes: title={'center': 'false negative rate'}, xlabel='majmin'>],\n",
       "       [<Axes: title={'center': 'selection rate'}, xlabel='majmin'>,\n",
       "        <Axes: title={'center': 'count'}, xlabel='majmin'>,\n",
       "        <Axes: xlabel='majmin'>]], dtype=object)"
      ]
     },
     "execution_count": 76,
     "metadata": {},
     "output_type": "execute_result"
    },
    {
     "data": {
      "image/png": "[encoded data removed]",
      "text/plain": [
       "<Figure size 1200x800 with 9 Axes>"
      ]
     },
     "metadata": {},
     "output_type": "display_data"
    }
   ],
   "source": [
    "# In a graphic\n",
    "metric_frame.by_group.plot.bar(\n",
    "    subplots=True,\n",
    "    layout=[3, 3],\n",
    "    legend=False,\n",
    "    figsize=[12, 8],\n",
    "    title=\"Show all metrics\",\n",
    ")"
   ]
  },
  {
   "cell_type": "markdown",
   "id": "f57a0bac",
   "metadata": {
    "papermill": {
     "duration": 0.026483,
     "end_time": "2025-07-30T12:51:37.784885",
     "exception": false,
     "start_time": "2025-07-30T12:51:37.758402",
     "status": "completed"
    },
    "tags": []
   },
   "source": [
    "# Final Output"
   ]
  },
  {
   "cell_type": "code",
   "execution_count": 77,
   "id": "96d280a3",
   "metadata": {
    "execution": {
     "iopub.execute_input": "2025-07-30T12:51:37.841623Z",
     "iopub.status.busy": "2025-07-30T12:51:37.841009Z",
     "iopub.status.idle": "2025-07-30T12:51:37.849174Z",
     "shell.execute_reply": "2025-07-30T12:51:37.848283Z"
    },
    "papermill": {
     "duration": 0.038139,
     "end_time": "2025-07-30T12:51:37.850672",
     "exception": false,
     "start_time": "2025-07-30T12:51:37.812533",
     "status": "completed"
    },
    "tags": []
   },
   "outputs": [
    {
     "data": {
      "text/plain": [
       "4"
      ]
     },
     "execution_count": 77,
     "metadata": {},
     "output_type": "execute_result"
    }
   ],
   "source": [
    "sub_universes = universe_analysis.generate_sub_universes()\n",
    "len(sub_universes)"
   ]
  },
  {
   "cell_type": "code",
   "execution_count": 78,
   "id": "92adf7ba",
   "metadata": {
    "execution": {
     "iopub.execute_input": "2025-07-30T12:51:37.909783Z",
     "iopub.status.busy": "2025-07-30T12:51:37.909142Z",
     "iopub.status.idle": "2025-07-30T12:51:37.915326Z",
     "shell.execute_reply": "2025-07-30T12:51:37.914408Z"
    },
    "papermill": {
     "duration": 0.037123,
     "end_time": "2025-07-30T12:51:37.917050",
     "exception": false,
     "start_time": "2025-07-30T12:51:37.879927",
     "status": "completed"
    },
    "tags": []
   },
   "outputs": [],
   "source": [
    "def filter_sub_universe_data(sub_universe, org_test):\n",
    "    # Keep all rows — no filtering\n",
    "    keep_rows_mask = np.ones(org_test.shape[0], dtype=bool)\n",
    "\n",
    "    print(f\"[INFO] Keeping all rows: {keep_rows_mask.sum()} rows retained.\")\n",
    "    return keep_rows_mask"
   ]
  },
  {
   "cell_type": "code",
   "execution_count": 79,
   "id": "4a759155",
   "metadata": {
    "execution": {
     "iopub.execute_input": "2025-07-30T12:51:37.972979Z",
     "iopub.status.busy": "2025-07-30T12:51:37.972230Z",
     "iopub.status.idle": "2025-07-30T12:51:47.450696Z",
     "shell.execute_reply": "2025-07-30T12:51:47.449861Z"
    },
    "papermill": {
     "duration": 9.507288,
     "end_time": "2025-07-30T12:51:47.452184",
     "exception": false,
     "start_time": "2025-07-30T12:51:37.944896",
     "status": "completed"
    },
    "tags": []
   },
   "outputs": [
    {
     "name": "stdout",
     "output_type": "stream",
     "text": [
      "Stopping execution_time clock.\n",
      "[INFO] Keeping all rows: 89710 rows retained.\n"
     ]
    },
    {
     "name": "stdout",
     "output_type": "stream",
     "text": [
      "[INFO] Keeping all rows: 89710 rows retained.\n"
     ]
    },
    {
     "name": "stdout",
     "output_type": "stream",
     "text": [
      "[INFO] Keeping all rows: 89710 rows retained.\n"
     ]
    },
    {
     "name": "stdout",
     "output_type": "stream",
     "text": [
      "[INFO] Keeping all rows: 89710 rows retained.\n"
     ]
    },
    {
     "data": {
      "text/html": [
       "<div>\n",
       "<style scoped>\n",
       "    .dataframe tbody tr th:only-of-type {\n",
       "        vertical-align: middle;\n",
       "    }\n",
       "\n",
       "    .dataframe tbody tr th {\n",
       "        vertical-align: top;\n",
       "    }\n",
       "\n",
       "    .dataframe thead th {\n",
       "        text-align: right;\n",
       "    }\n",
       "</style>\n",
       "<table border=\"1\" class=\"dataframe\">\n",
       "  <thead>\n",
       "    <tr style=\"text-align: right;\">\n",
       "      <th></th>\n",
       "      <th>run_no</th>\n",
       "      <th>universe_id</th>\n",
       "      <th>universe_settings</th>\n",
       "      <th>execution_time</th>\n",
       "      <th>test_size_n</th>\n",
       "      <th>test_size_frac</th>\n",
       "      <th>fair_main_equalized_odds_difference</th>\n",
       "      <th>fair_main_equalized_odds_ratio</th>\n",
       "      <th>fair_main_demographic_parity_difference</th>\n",
       "      <th>fair_main_demographic_parity_ratio</th>\n",
       "      <th>...</th>\n",
       "      <th>perf_grp_precision_0</th>\n",
       "      <th>perf_grp_precision_1</th>\n",
       "      <th>perf_grp_false positive rate_0</th>\n",
       "      <th>perf_grp_false positive rate_1</th>\n",
       "      <th>perf_grp_false negative rate_0</th>\n",
       "      <th>perf_grp_false negative rate_1</th>\n",
       "      <th>perf_grp_selection rate_0</th>\n",
       "      <th>perf_grp_selection rate_1</th>\n",
       "      <th>perf_grp_count_0</th>\n",
       "      <th>perf_grp_count_1</th>\n",
       "    </tr>\n",
       "  </thead>\n",
       "  <tbody>\n",
       "    <tr>\n",
       "      <th>0</th>\n",
       "      <td>12</td>\n",
       "      <td>e1adc4339c174af87fefed9b1223f53d</td>\n",
       "      <td>{\"cutoff\": \"quantile_0.1\", \"eval_fairness_grou...</td>\n",
       "      <td>58.203291</td>\n",
       "      <td>89710</td>\n",
       "      <td>1.0</td>\n",
       "      <td>0.093699</td>\n",
       "      <td>0.902273</td>\n",
       "      <td>0.081580</td>\n",
       "      <td>0.915277</td>\n",
       "      <td>...</td>\n",
       "      <td>NaN</td>\n",
       "      <td>NaN</td>\n",
       "      <td>NaN</td>\n",
       "      <td>NaN</td>\n",
       "      <td>NaN</td>\n",
       "      <td>NaN</td>\n",
       "      <td>NaN</td>\n",
       "      <td>NaN</td>\n",
       "      <td>NaN</td>\n",
       "      <td>NaN</td>\n",
       "    </tr>\n",
       "    <tr>\n",
       "      <th>0</th>\n",
       "      <td>12</td>\n",
       "      <td>e1adc4339c174af87fefed9b1223f53d</td>\n",
       "      <td>{\"cutoff\": \"quantile_0.1\", \"eval_fairness_grou...</td>\n",
       "      <td>58.203291</td>\n",
       "      <td>89710</td>\n",
       "      <td>1.0</td>\n",
       "      <td>0.093699</td>\n",
       "      <td>0.902273</td>\n",
       "      <td>0.081580</td>\n",
       "      <td>0.915277</td>\n",
       "      <td>...</td>\n",
       "      <td>0.119072</td>\n",
       "      <td>0.148127</td>\n",
       "      <td>0.958783</td>\n",
       "      <td>0.865084</td>\n",
       "      <td>0.005490</td>\n",
       "      <td>0.012035</td>\n",
       "      <td>0.962902</td>\n",
       "      <td>0.881321</td>\n",
       "      <td>20540.0</td>\n",
       "      <td>69170.0</td>\n",
       "    </tr>\n",
       "    <tr>\n",
       "      <th>0</th>\n",
       "      <td>12</td>\n",
       "      <td>e1adc4339c174af87fefed9b1223f53d</td>\n",
       "      <td>{\"cutoff\": \"quantile_0.25\", \"eval_fairness_gro...</td>\n",
       "      <td>58.203291</td>\n",
       "      <td>89710</td>\n",
       "      <td>1.0</td>\n",
       "      <td>0.175266</td>\n",
       "      <td>0.794957</td>\n",
       "      <td>0.152497</td>\n",
       "      <td>0.824227</td>\n",
       "      <td>...</td>\n",
       "      <td>NaN</td>\n",
       "      <td>NaN</td>\n",
       "      <td>NaN</td>\n",
       "      <td>NaN</td>\n",
       "      <td>NaN</td>\n",
       "      <td>NaN</td>\n",
       "      <td>NaN</td>\n",
       "      <td>NaN</td>\n",
       "      <td>NaN</td>\n",
       "      <td>NaN</td>\n",
       "    </tr>\n",
       "    <tr>\n",
       "      <th>0</th>\n",
       "      <td>12</td>\n",
       "      <td>e1adc4339c174af87fefed9b1223f53d</td>\n",
       "      <td>{\"cutoff\": \"quantile_0.25\", \"eval_fairness_gro...</td>\n",
       "      <td>58.203291</td>\n",
       "      <td>89710</td>\n",
       "      <td>1.0</td>\n",
       "      <td>0.175266</td>\n",
       "      <td>0.794957</td>\n",
       "      <td>0.152497</td>\n",
       "      <td>0.824227</td>\n",
       "      <td>...</td>\n",
       "      <td>0.128339</td>\n",
       "      <td>0.175306</td>\n",
       "      <td>0.854777</td>\n",
       "      <td>0.679510</td>\n",
       "      <td>0.034206</td>\n",
       "      <td>0.051313</td>\n",
       "      <td>0.867575</td>\n",
       "      <td>0.715079</td>\n",
       "      <td>20540.0</td>\n",
       "      <td>69170.0</td>\n",
       "    </tr>\n",
       "  </tbody>\n",
       "</table>\n",
       "<p>4 rows × 50 columns</p>\n",
       "</div>"
      ],
      "text/plain": [
       "  run_no                       universe_id  \\\n",
       "0     12  e1adc4339c174af87fefed9b1223f53d   \n",
       "0     12  e1adc4339c174af87fefed9b1223f53d   \n",
       "0     12  e1adc4339c174af87fefed9b1223f53d   \n",
       "0     12  e1adc4339c174af87fefed9b1223f53d   \n",
       "\n",
       "                                   universe_settings  execution_time  \\\n",
       "0  {\"cutoff\": \"quantile_0.1\", \"eval_fairness_grou...       58.203291   \n",
       "0  {\"cutoff\": \"quantile_0.1\", \"eval_fairness_grou...       58.203291   \n",
       "0  {\"cutoff\": \"quantile_0.25\", \"eval_fairness_gro...       58.203291   \n",
       "0  {\"cutoff\": \"quantile_0.25\", \"eval_fairness_gro...       58.203291   \n",
       "\n",
       "   test_size_n  test_size_frac  fair_main_equalized_odds_difference  \\\n",
       "0        89710             1.0                             0.093699   \n",
       "0        89710             1.0                             0.093699   \n",
       "0        89710             1.0                             0.175266   \n",
       "0        89710             1.0                             0.175266   \n",
       "\n",
       "   fair_main_equalized_odds_ratio  fair_main_demographic_parity_difference  \\\n",
       "0                        0.902273                                 0.081580   \n",
       "0                        0.902273                                 0.081580   \n",
       "0                        0.794957                                 0.152497   \n",
       "0                        0.794957                                 0.152497   \n",
       "\n",
       "   fair_main_demographic_parity_ratio  ...  perf_grp_precision_0  \\\n",
       "0                            0.915277  ...                   NaN   \n",
       "0                            0.915277  ...              0.119072   \n",
       "0                            0.824227  ...                   NaN   \n",
       "0                            0.824227  ...              0.128339   \n",
       "\n",
       "   perf_grp_precision_1  perf_grp_false positive rate_0  \\\n",
       "0                   NaN                             NaN   \n",
       "0              0.148127                        0.958783   \n",
       "0                   NaN                             NaN   \n",
       "0              0.175306                        0.854777   \n",
       "\n",
       "   perf_grp_false positive rate_1  perf_grp_false negative rate_0  \\\n",
       "0                             NaN                             NaN   \n",
       "0                        0.865084                        0.005490   \n",
       "0                             NaN                             NaN   \n",
       "0                        0.679510                        0.034206   \n",
       "\n",
       "   perf_grp_false negative rate_1  perf_grp_selection rate_0  \\\n",
       "0                             NaN                        NaN   \n",
       "0                        0.012035                   0.962902   \n",
       "0                             NaN                        NaN   \n",
       "0                        0.051313                   0.867575   \n",
       "\n",
       "   perf_grp_selection rate_1  perf_grp_count_0  perf_grp_count_1  \n",
       "0                        NaN               NaN               NaN  \n",
       "0                   0.881321           20540.0           69170.0  \n",
       "0                        NaN               NaN               NaN  \n",
       "0                   0.715079           20540.0           69170.0  \n",
       "\n",
       "[4 rows x 50 columns]"
      ]
     },
     "execution_count": 79,
     "metadata": {},
     "output_type": "execute_result"
    }
   ],
   "source": [
    "final_output = universe_analysis.generate_final_output(\n",
    "    y_pred_prob=probs_test,\n",
    "    y_test=y_true,\n",
    "    org_test=org_test,\n",
    "    filter_data=filter_sub_universe_data,\n",
    "    cp_metrics_df=cp_metrics_df,\n",
    "    save=True,\n",
    ")\n",
    "final_output"
   ]
  },
  {
   "cell_type": "code",
   "execution_count": null,
   "id": "721ff514-cb11-46f8-b6fc-50392f74b5cb",
   "metadata": {
    "papermill": {
     "duration": 0.027283,
     "end_time": "2025-07-30T12:51:47.510122",
     "exception": false,
     "start_time": "2025-07-30T12:51:47.482839",
     "status": "completed"
    },
    "tags": []
   },
   "outputs": [],
   "source": []
  }
 ],
 "metadata": {
  "celltoolbar": "Tags",
  "kernelspec": {
   "display_name": "Python (CMA Fairness)",
   "language": "python",
   "name": "cma_fair_env"
  },
  "language_info": {
   "codemirror_mode": {
    "name": "ipython",
    "version": 3
   },
   "file_extension": ".py",
   "mimetype": "text/x-python",
   "name": "python",
   "nbconvert_exporter": "python",
   "pygments_lexer": "ipython3",
   "version": "3.10.12"
  },
  "papermill": {
   "default_parameters": {},
   "duration": 71.967086,
   "end_time": "2025-07-30T12:51:48.256578",
   "environment_variables": {},
   "exception": null,
   "input_path": "universe_analysis.ipynb",
   "output_path": "output/runs/12/notebooks/m_12-e1adc4339c174af87fefed9b1223f53d.ipynb",
   "parameters": {
    "output_dir": "output",
    "run_no": "12",
    "seed": "2023",
    "universe": "{\"cutoff\": [\"quantile_0.1\", \"quantile_0.25\"], \"eval_fairness_grouping\": [\"majority-minority\", \"nationality-all\"], \"exclude_features\": \"none\", \"exclude_subgroups\": \"keep-all\", \"model\": \"elasticnet\", \"scale\": \"scale\", \"training_size\": \"25k\", \"training_year\": \"2014\"}",
    "universe_id": "e1adc4339c174af87fefed9b1223f53d"
   },
   "start_time": "2025-07-30T12:50:36.289492",
   "version": "2.6.0"
  }
 },
 "nbformat": 4,
 "nbformat_minor": 5
}