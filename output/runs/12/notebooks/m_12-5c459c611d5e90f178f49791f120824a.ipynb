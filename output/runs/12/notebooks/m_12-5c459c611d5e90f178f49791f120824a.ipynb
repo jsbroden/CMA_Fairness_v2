{
 "cells": [
  {
   "cell_type": "code",
   "execution_count": 1,
   "id": "f159f837-637b-42ba-96b5-ec9a68c44524",
   "metadata": {
    "execution": {
     "iopub.execute_input": "2025-07-30T13:55:32.757203Z",
     "iopub.status.busy": "2025-07-30T13:55:32.755344Z",
     "iopub.status.idle": "2025-07-30T13:55:32.770754Z",
     "shell.execute_reply": "2025-07-30T13:55:32.769789Z"
    },
    "papermill": {
     "duration": 0.047328,
     "end_time": "2025-07-30T13:55:32.779369",
     "exception": false,
     "start_time": "2025-07-30T13:55:32.732041",
     "status": "completed"
    },
    "tags": []
   },
   "outputs": [
    {
     "name": "stdout",
     "output_type": "stream",
     "text": [
      "/dss/dsshome1/0C/ra93lal2/cma/CMA_Fairness_v2\n"
     ]
    },
    {
     "name": "stderr",
     "output_type": "stream",
     "text": [
      "/dss/dsshome1/0C/ra93lal2/.local/share/virtualenvs/CMA_Fairness_v2-3j10GkSs/lib/python3.10/site-packages/IPython/core/magics/osm.py:393: UserWarning: This is now an optional IPython functionality, using bookmarks requires you to install the `pickleshare` library.\n",
      "  bkms = self.shell.db.get('bookmarks', {})\n",
      "/dss/dsshome1/0C/ra93lal2/.local/share/virtualenvs/CMA_Fairness_v2-3j10GkSs/lib/python3.10/site-packages/IPython/core/magics/osm.py:417: UserWarning: This is now an optional IPython functionality, setting dhist requires you to install the `pickleshare` library.\n",
      "  self.shell.db['dhist'] = compress_dhist(dhist)[-100:]\n"
     ]
    }
   ],
   "source": [
    "%cd ~/cma/CMA_Fairness_v2"
   ]
  },
  {
   "cell_type": "markdown",
   "id": "de2603b9",
   "metadata": {
    "papermill": {
     "duration": 0.019955,
     "end_time": "2025-07-30T13:55:32.818557",
     "exception": false,
     "start_time": "2025-07-30T13:55:32.798602",
     "status": "completed"
    },
    "tags": []
   },
   "source": [
    "The following cell holds the definition of our parameters, these values can be overriden by rendering the with e.g. the following command:\n",
    "\n",
    "papermill -p alpha 0.2 -p ratio 0.3 universe_analysis.ipynb output/test_run.ipynb"
   ]
  },
  {
   "cell_type": "code",
   "execution_count": 2,
   "id": "a80968a0-40bb-4fa9-85ef-2d5eefb01975",
   "metadata": {
    "execution": {
     "iopub.execute_input": "2025-07-30T13:55:32.859981Z",
     "iopub.status.busy": "2025-07-30T13:55:32.859536Z",
     "iopub.status.idle": "2025-07-30T13:55:32.864906Z",
     "shell.execute_reply": "2025-07-30T13:55:32.863833Z"
    },
    "papermill": {
     "duration": 0.027949,
     "end_time": "2025-07-30T13:55:32.866642",
     "exception": false,
     "start_time": "2025-07-30T13:55:32.838693",
     "status": "completed"
    },
    "tags": []
   },
   "outputs": [
    {
     "name": "stdout",
     "output_type": "stream",
     "text": [
      "Current working directory: /dss/dsshome1/0C/ra93lal2/cma/CMA_Fairness_v2\n"
     ]
    }
   ],
   "source": [
    "import os\n",
    "print(\"Current working directory:\", os.getcwd())"
   ]
  },
  {
   "cell_type": "code",
   "execution_count": 3,
   "id": "2dce4c03",
   "metadata": {
    "execution": {
     "iopub.execute_input": "2025-07-30T13:55:32.908282Z",
     "iopub.status.busy": "2025-07-30T13:55:32.907760Z",
     "iopub.status.idle": "2025-07-30T13:55:32.914110Z",
     "shell.execute_reply": "2025-07-30T13:55:32.913036Z"
    },
    "papermill": {
     "duration": 0.028912,
     "end_time": "2025-07-30T13:55:32.915731",
     "exception": false,
     "start_time": "2025-07-30T13:55:32.886819",
     "status": "completed"
    },
    "tags": [
     "parameters"
    ]
   },
   "outputs": [],
   "source": [
    "run_no = 0\n",
    "universe_id = \"test\"\n",
    "universe = {\n",
    "    \"training_size\": \"25k\", # \"25k\", \"5k\", \"1k\"\n",
    "    \"training_year\": \"2014\", # \"2014\", \"2012_14\", \"2010_14\"\n",
    "    \"scale\": \"scale\", # \"scale\", \"do-not-scale\",\n",
    "    #\"stratify_split\": \"target\", # \"none\", \"target\", \"protected-attribute\", \"both\",\n",
    "    \"model\": \"elasticnet\", # \"logreg\", \"penalized_logreg\", \"rf\", \"gbm\", \"elasticnet\"\n",
    "    \"cutoff\": [\"quantile_0.15\", \"quantile_0.30\"],\n",
    "    \"exclude_features\": \"age\", # \"none\", \"nationality\", \"sex\", \"nationality-sex\", \"age\"\n",
    "    \"exclude_subgroups\": \"keep-all\", # \"keep-all\", \"drop-non-german\"\n",
    "    \"eval_fairness_grouping\": [\"majority-minority\", \"nationality-all\"]\n",
    "}\n",
    "\n",
    "output_dir=\"./output\"\n",
    "seed=0"
   ]
  },
  {
   "cell_type": "code",
   "execution_count": 4,
   "id": "2bdec17b",
   "metadata": {
    "execution": {
     "iopub.execute_input": "2025-07-30T13:55:32.956095Z",
     "iopub.status.busy": "2025-07-30T13:55:32.955613Z",
     "iopub.status.idle": "2025-07-30T13:55:32.961036Z",
     "shell.execute_reply": "2025-07-30T13:55:32.959920Z"
    },
    "papermill": {
     "duration": 0.027135,
     "end_time": "2025-07-30T13:55:32.962655",
     "exception": false,
     "start_time": "2025-07-30T13:55:32.935520",
     "status": "completed"
    },
    "tags": [
     "injected-parameters"
    ]
   },
   "outputs": [],
   "source": [
    "# Parameters\n",
    "universe_id = \"5c459c611d5e90f178f49791f120824a\"\n",
    "run_no = \"12\"\n",
    "universe = \"{\\\"cutoff\\\": [\\\"quantile_0.1\\\", \\\"quantile_0.25\\\"], \\\"eval_fairness_grouping\\\": [\\\"majority-minority\\\", \\\"nationality-all\\\"], \\\"exclude_features\\\": \\\"none\\\", \\\"exclude_subgroups\\\": \\\"drop-non-german\\\", \\\"model\\\": \\\"rf\\\", \\\"scale\\\": \\\"scale\\\", \\\"training_size\\\": \\\"5k\\\", \\\"training_year\\\": \\\"2012_14\\\"}\"\n",
    "output_dir = \"output\"\n",
    "seed = \"2023\"\n"
   ]
  },
  {
   "cell_type": "code",
   "execution_count": 5,
   "id": "1650acaf",
   "metadata": {
    "execution": {
     "iopub.execute_input": "2025-07-30T13:55:33.004580Z",
     "iopub.status.busy": "2025-07-30T13:55:33.003675Z",
     "iopub.status.idle": "2025-07-30T13:55:33.009143Z",
     "shell.execute_reply": "2025-07-30T13:55:33.007990Z"
    },
    "papermill": {
     "duration": 0.027689,
     "end_time": "2025-07-30T13:55:33.010875",
     "exception": false,
     "start_time": "2025-07-30T13:55:32.983186",
     "status": "completed"
    },
    "tags": []
   },
   "outputs": [],
   "source": [
    "import json\n",
    "# Parse universe into dict if it is passed as a string\n",
    "if isinstance(universe, str):\n",
    "    universe = json.loads(universe)"
   ]
  },
  {
   "cell_type": "code",
   "execution_count": 6,
   "id": "16620c48",
   "metadata": {
    "execution": {
     "iopub.execute_input": "2025-07-30T13:55:33.053115Z",
     "iopub.status.busy": "2025-07-30T13:55:33.052314Z",
     "iopub.status.idle": "2025-07-30T13:55:33.097082Z",
     "shell.execute_reply": "2025-07-30T13:55:33.096115Z"
    },
    "papermill": {
     "duration": 0.070003,
     "end_time": "2025-07-30T13:55:33.101496",
     "exception": false,
     "start_time": "2025-07-30T13:55:33.031493",
     "status": "completed"
    },
    "tags": []
   },
   "outputs": [],
   "source": [
    "# Auto-reload the custom package\n",
    "%load_ext autoreload\n",
    "%autoreload 1\n",
    "%aimport fairness_multiverse"
   ]
  },
  {
   "cell_type": "code",
   "execution_count": 7,
   "id": "01c5c9f3",
   "metadata": {
    "execution": {
     "iopub.execute_input": "2025-07-30T13:55:33.144251Z",
     "iopub.status.busy": "2025-07-30T13:55:33.143321Z",
     "iopub.status.idle": "2025-07-30T13:55:35.157797Z",
     "shell.execute_reply": "2025-07-30T13:55:35.156570Z"
    },
    "papermill": {
     "duration": 2.037313,
     "end_time": "2025-07-30T13:55:35.159883",
     "exception": false,
     "start_time": "2025-07-30T13:55:33.122570",
     "status": "completed"
    },
    "tags": []
   },
   "outputs": [],
   "source": [
    "from fairness_multiverse.universe import UniverseAnalysis\n",
    "\n",
    "universe_analysis = UniverseAnalysis(\n",
    "    run_no = run_no,\n",
    "    universe_id = universe_id,\n",
    "    universe = universe,\n",
    "    output_dir=output_dir,\n",
    ")"
   ]
  },
  {
   "cell_type": "code",
   "execution_count": 8,
   "id": "106241f5",
   "metadata": {
    "execution": {
     "iopub.execute_input": "2025-07-30T13:55:35.203249Z",
     "iopub.status.busy": "2025-07-30T13:55:35.202283Z",
     "iopub.status.idle": "2025-07-30T13:55:35.211097Z",
     "shell.execute_reply": "2025-07-30T13:55:35.209895Z"
    },
    "papermill": {
     "duration": 0.033443,
     "end_time": "2025-07-30T13:55:35.214039",
     "exception": false,
     "start_time": "2025-07-30T13:55:35.180596",
     "status": "completed"
    },
    "tags": []
   },
   "outputs": [
    {
     "name": "stdout",
     "output_type": "stream",
     "text": [
      "Using Seed: 2023\n"
     ]
    }
   ],
   "source": [
    "import numpy as np\n",
    "parsed_seed = int(seed)\n",
    "np.random.seed(parsed_seed)\n",
    "print(f\"Using Seed: {parsed_seed}\")"
   ]
  },
  {
   "cell_type": "markdown",
   "id": "e0ebdc57",
   "metadata": {
    "papermill": {
     "duration": 0.020167,
     "end_time": "2025-07-30T13:55:35.255901",
     "exception": false,
     "start_time": "2025-07-30T13:55:35.235734",
     "status": "completed"
    },
    "tags": []
   },
   "source": [
    "# Loading Data"
   ]
  },
  {
   "cell_type": "markdown",
   "id": "681925a3",
   "metadata": {
    "papermill": {
     "duration": 0.020481,
     "end_time": "2025-07-30T13:55:35.295937",
     "exception": false,
     "start_time": "2025-07-30T13:55:35.275456",
     "status": "completed"
    },
    "tags": []
   },
   "source": [
    "Load siab_train, siab_test, siab_calib and/or \n",
    "load siab_train_features, siab_train_labels"
   ]
  },
  {
   "cell_type": "code",
   "execution_count": 9,
   "id": "f0496b8a",
   "metadata": {
    "execution": {
     "iopub.execute_input": "2025-07-30T13:55:35.340295Z",
     "iopub.status.busy": "2025-07-30T13:55:35.339380Z",
     "iopub.status.idle": "2025-07-30T13:55:47.454659Z",
     "shell.execute_reply": "2025-07-30T13:55:47.453530Z"
    },
    "papermill": {
     "duration": 12.139443,
     "end_time": "2025-07-30T13:55:47.455997",
     "exception": false,
     "start_time": "2025-07-30T13:55:35.316554",
     "status": "completed"
    },
    "tags": []
   },
   "outputs": [
    {
     "name": "stdout",
     "output_type": "stream",
     "text": [
      "Loading SIAB data from cache: data/siab_cached.csv.gz\n"
     ]
    },
    {
     "name": "stdout",
     "output_type": "stream",
     "text": [
      "(643690, 164)\n"
     ]
    }
   ],
   "source": [
    "from pathlib import Path\n",
    "import pandas as pd\n",
    "\n",
    "# File paths\n",
    "raw_file = Path(\"data/raw/siab.csv\")\n",
    "cache_file = Path(\"data/siab_cached.csv.gz\")\n",
    "\n",
    "# Ensure cache directory exists\n",
    "cache_file.parent.mkdir(parents=True, exist_ok=True)\n",
    "\n",
    "# Load with simple caching\n",
    "if cache_file.exists():\n",
    "    print(f\"Loading SIAB data from cache: {cache_file}\")\n",
    "    siab = pd.read_csv(cache_file, compression='gzip')\n",
    "else:\n",
    "    print(f\"Cache not found. Reading raw SIAB data: {raw_file}\")\n",
    "    siab = pd.read_csv(raw_file)\n",
    "    siab.to_csv(cache_file, index=False, compression='gzip')\n",
    "    print(f\"Cached SIAB data to: {cache_file}\")\n",
    "\n",
    "# Now use `siab` DataFrame as needed\n",
    "print(siab.shape)"
   ]
  },
  {
   "cell_type": "code",
   "execution_count": 10,
   "id": "db0ca512-5f53-4dba-abdb-a2888bca41ba",
   "metadata": {
    "execution": {
     "iopub.execute_input": "2025-07-30T13:55:47.486849Z",
     "iopub.status.busy": "2025-07-30T13:55:47.485924Z",
     "iopub.status.idle": "2025-07-30T13:55:47.491101Z",
     "shell.execute_reply": "2025-07-30T13:55:47.490301Z"
    },
    "papermill": {
     "duration": 0.023827,
     "end_time": "2025-07-30T13:55:47.492737",
     "exception": false,
     "start_time": "2025-07-30T13:55:47.468910",
     "status": "completed"
    },
    "tags": []
   },
   "outputs": [],
   "source": [
    "#siab"
   ]
  },
  {
   "cell_type": "code",
   "execution_count": 11,
   "id": "a0edb063",
   "metadata": {
    "execution": {
     "iopub.execute_input": "2025-07-30T13:55:47.516790Z",
     "iopub.status.busy": "2025-07-30T13:55:47.516257Z",
     "iopub.status.idle": "2025-07-30T13:55:47.520856Z",
     "shell.execute_reply": "2025-07-30T13:55:47.520023Z"
    },
    "papermill": {
     "duration": 0.017552,
     "end_time": "2025-07-30T13:55:47.522185",
     "exception": false,
     "start_time": "2025-07-30T13:55:47.504633",
     "status": "completed"
    },
    "tags": []
   },
   "outputs": [],
   "source": [
    "#import pandas as pd\n",
    "#\n",
    "#X_train = pd.read_csv(\"./data/X_train.csv\")\n",
    "#y_train = pd.read_csv(\"./data/y_train.csv\")"
   ]
  },
  {
   "cell_type": "code",
   "execution_count": 12,
   "id": "63d08085",
   "metadata": {
    "execution": {
     "iopub.execute_input": "2025-07-30T13:55:47.545763Z",
     "iopub.status.busy": "2025-07-30T13:55:47.545399Z",
     "iopub.status.idle": "2025-07-30T13:55:47.552991Z",
     "shell.execute_reply": "2025-07-30T13:55:47.549353Z"
    },
    "papermill": {
     "duration": 0.02027,
     "end_time": "2025-07-30T13:55:47.554358",
     "exception": false,
     "start_time": "2025-07-30T13:55:47.534088",
     "status": "completed"
    },
    "tags": []
   },
   "outputs": [],
   "source": [
    "#X_test = pd.read_csv(\"./data/X_test.csv\")\n",
    "#y_true = pd.read_csv(\"./data/y_test.csv\")"
   ]
  },
  {
   "cell_type": "code",
   "execution_count": 13,
   "id": "98a8d0fa-1d3d-4ed8-bb2c-281470e24add",
   "metadata": {
    "execution": {
     "iopub.execute_input": "2025-07-30T13:55:47.606362Z",
     "iopub.status.busy": "2025-07-30T13:55:47.605978Z",
     "iopub.status.idle": "2025-07-30T13:55:47.611618Z",
     "shell.execute_reply": "2025-07-30T13:55:47.610537Z"
    },
    "papermill": {
     "duration": 0.044856,
     "end_time": "2025-07-30T13:55:47.613521",
     "exception": false,
     "start_time": "2025-07-30T13:55:47.568665",
     "status": "completed"
    },
    "tags": []
   },
   "outputs": [],
   "source": [
    "# Calibration data for conformal\n",
    "#X_calib = pd.read_csv(\"./data/X_calib.csv\")\n",
    "#y_calib = pd.read_csv(\"./data/y_calib.csv\")"
   ]
  },
  {
   "cell_type": "markdown",
   "id": "997051c5-15bd-4b69-9786-c3001a3ce484",
   "metadata": {
    "papermill": {
     "duration": 0.043579,
     "end_time": "2025-07-30T13:55:47.677647",
     "exception": false,
     "start_time": "2025-07-30T13:55:47.634068",
     "status": "completed"
    },
    "tags": []
   },
   "source": [
    "# Splitting Data and Setting Training Data Size"
   ]
  },
  {
   "cell_type": "code",
   "execution_count": 14,
   "id": "e993b61f-042d-41a6-8c81-f55681f86335",
   "metadata": {
    "execution": {
     "iopub.execute_input": "2025-07-30T13:55:47.765676Z",
     "iopub.status.busy": "2025-07-30T13:55:47.765178Z",
     "iopub.status.idle": "2025-07-30T13:55:47.780663Z",
     "shell.execute_reply": "2025-07-30T13:55:47.779558Z"
    },
    "papermill": {
     "duration": 0.06343,
     "end_time": "2025-07-30T13:55:47.787286",
     "exception": false,
     "start_time": "2025-07-30T13:55:47.723856",
     "status": "completed"
    },
    "tags": []
   },
   "outputs": [],
   "source": [
    "def sample_by_year_size(df,\n",
    "                        training_year: str,\n",
    "                        training_size: str,\n",
    "                        random_state: int = 42):\n",
    "    # --- parse training_year into a list of int years ---\n",
    "    if \"_\" in training_year:\n",
    "        start_str, end_str = training_year.split(\"_\", 1)\n",
    "        start = int(start_str)\n",
    "        end   = int(end_str) if len(end_str) == 4 else (int(end_str) + (start // 100)*100)\n",
    "        years = list(range(start, end + 1))\n",
    "    else:\n",
    "        years = [int(training_year)]\n",
    "\n",
    "    df = df[df[\"year\"].isin(years)].reset_index(drop=True)\n",
    "\n",
    "    # --- map training_size to total number of samples ---\n",
    "    total_map = {\"25k\": 25_000, \"5k\": 5_000, \"1k\": 1_000}\n",
    "    if training_size not in total_map:\n",
    "        return df  # e.g. \"all\"\n",
    "\n",
    "    total_samples = total_map[training_size]\n",
    "    n_years       = len(years)\n",
    "    base          = total_samples // n_years\n",
    "    remainder     = total_samples % n_years\n",
    "\n",
    "    # --- build a dict: year -> how many to sample ---\n",
    "    # give +1 to the first `remainder` years in ascending order\n",
    "    quotas = {\n",
    "        year: base + (1 if idx < remainder else 0)\n",
    "        for idx, year in enumerate(sorted(years))\n",
    "    }\n",
    "\n",
    "    # --- sample per‐year according to the quota dict ---\n",
    "    sampled = (\n",
    "        df\n",
    "        .groupby(\"year\", group_keys=False)\n",
    "        .apply(lambda grp: grp.sample(\n",
    "            n=min(len(grp), quotas[grp.name]),\n",
    "            random_state=random_state))\n",
    "        .reset_index(drop=True)\n",
    "    )\n",
    "\n",
    "    return sampled"
   ]
  },
  {
   "cell_type": "code",
   "execution_count": 15,
   "id": "c0ccd338-0e02-41f3-a09d-f56f9266e3fb",
   "metadata": {
    "execution": {
     "iopub.execute_input": "2025-07-30T13:55:47.900740Z",
     "iopub.status.busy": "2025-07-30T13:55:47.900312Z",
     "iopub.status.idle": "2025-07-30T13:55:47.915754Z",
     "shell.execute_reply": "2025-07-30T13:55:47.914716Z"
    },
    "papermill": {
     "duration": 0.069864,
     "end_time": "2025-07-30T13:55:47.918015",
     "exception": false,
     "start_time": "2025-07-30T13:55:47.848151",
     "status": "completed"
    },
    "tags": []
   },
   "outputs": [
    {
     "data": {
      "text/plain": [
       "'5k'"
      ]
     },
     "execution_count": 15,
     "metadata": {},
     "output_type": "execute_result"
    }
   ],
   "source": [
    "universe[\"training_size\"]"
   ]
  },
  {
   "cell_type": "code",
   "execution_count": 16,
   "id": "ca707fd7-8047-4acd-bfa5-66248fbbf8e6",
   "metadata": {
    "execution": {
     "iopub.execute_input": "2025-07-30T13:55:47.982374Z",
     "iopub.status.busy": "2025-07-30T13:55:47.981972Z",
     "iopub.status.idle": "2025-07-30T13:55:47.988809Z",
     "shell.execute_reply": "2025-07-30T13:55:47.987661Z"
    },
    "papermill": {
     "duration": 0.03184,
     "end_time": "2025-07-30T13:55:47.992230",
     "exception": false,
     "start_time": "2025-07-30T13:55:47.960390",
     "status": "completed"
    },
    "tags": []
   },
   "outputs": [
    {
     "data": {
      "text/plain": [
       "'2012_14'"
      ]
     },
     "execution_count": 16,
     "metadata": {},
     "output_type": "execute_result"
    }
   ],
   "source": [
    "universe[\"training_year\"]"
   ]
  },
  {
   "cell_type": "code",
   "execution_count": 17,
   "id": "aea9c6ef-6f46-42c8-85eb-5a62025c1508",
   "metadata": {
    "execution": {
     "iopub.execute_input": "2025-07-30T13:55:48.067029Z",
     "iopub.status.busy": "2025-07-30T13:55:48.066578Z",
     "iopub.status.idle": "2025-07-30T13:55:48.771074Z",
     "shell.execute_reply": "2025-07-30T13:55:48.770072Z"
    },
    "papermill": {
     "duration": 0.726449,
     "end_time": "2025-07-30T13:55:48.772892",
     "exception": false,
     "start_time": "2025-07-30T13:55:48.046443",
     "status": "completed"
    },
    "tags": []
   },
   "outputs": [],
   "source": [
    "siab_train = sample_by_year_size(siab,\n",
    "                               training_year=universe[\"training_year\"],\n",
    "                               training_size=universe[\"training_size\"])"
   ]
  },
  {
   "cell_type": "code",
   "execution_count": 18,
   "id": "8d3afb32-789d-442c-8d5d-9f5aa8dd2eed",
   "metadata": {
    "execution": {
     "iopub.execute_input": "2025-07-30T13:55:48.858803Z",
     "iopub.status.busy": "2025-07-30T13:55:48.858408Z",
     "iopub.status.idle": "2025-07-30T13:55:48.868745Z",
     "shell.execute_reply": "2025-07-30T13:55:48.867850Z"
    },
    "papermill": {
     "duration": 0.060894,
     "end_time": "2025-07-30T13:55:48.870294",
     "exception": false,
     "start_time": "2025-07-30T13:55:48.809400",
     "status": "completed"
    },
    "tags": []
   },
   "outputs": [
    {
     "data": {
      "text/plain": [
       "(5000, 164)"
      ]
     },
     "execution_count": 18,
     "metadata": {},
     "output_type": "execute_result"
    }
   ],
   "source": [
    "siab_train.shape"
   ]
  },
  {
   "cell_type": "code",
   "execution_count": 19,
   "id": "d582db68-1a4c-47fb-84fc-08518dc1975a",
   "metadata": {
    "execution": {
     "iopub.execute_input": "2025-07-30T13:55:48.962995Z",
     "iopub.status.busy": "2025-07-30T13:55:48.962542Z",
     "iopub.status.idle": "2025-07-30T13:55:48.975500Z",
     "shell.execute_reply": "2025-07-30T13:55:48.974598Z"
    },
    "papermill": {
     "duration": 0.066459,
     "end_time": "2025-07-30T13:55:48.977277",
     "exception": false,
     "start_time": "2025-07-30T13:55:48.910818",
     "status": "completed"
    },
    "tags": []
   },
   "outputs": [
    {
     "data": {
      "text/plain": [
       "year\n",
       "2012    1667\n",
       "2013    1667\n",
       "2014    1666\n",
       "dtype: int64"
      ]
     },
     "metadata": {},
     "output_type": "display_data"
    }
   ],
   "source": [
    "display(siab_train.groupby(\"year\").size())"
   ]
  },
  {
   "cell_type": "code",
   "execution_count": 20,
   "id": "a561edb4-d032-42cb-8256-22eac1111c64",
   "metadata": {
    "execution": {
     "iopub.execute_input": "2025-07-30T13:55:49.078526Z",
     "iopub.status.busy": "2025-07-30T13:55:49.077548Z",
     "iopub.status.idle": "2025-07-30T13:55:49.378242Z",
     "shell.execute_reply": "2025-07-30T13:55:49.377217Z"
    },
    "papermill": {
     "duration": 0.340153,
     "end_time": "2025-07-30T13:55:49.380312",
     "exception": false,
     "start_time": "2025-07-30T13:55:49.040159",
     "status": "completed"
    },
    "tags": []
   },
   "outputs": [],
   "source": [
    "#siab_train = siab_s[siab_s.year < 2015]\n",
    "siab_calib = siab[siab.year == 2015]\n",
    "siab_test = siab[siab.year == 2016]"
   ]
  },
  {
   "cell_type": "code",
   "execution_count": 21,
   "id": "472de16f-c3db-4916-846b-1f0de9cf1746",
   "metadata": {
    "execution": {
     "iopub.execute_input": "2025-07-30T13:55:49.427822Z",
     "iopub.status.busy": "2025-07-30T13:55:49.427301Z",
     "iopub.status.idle": "2025-07-30T13:55:49.435654Z",
     "shell.execute_reply": "2025-07-30T13:55:49.434590Z"
    },
    "papermill": {
     "duration": 0.035118,
     "end_time": "2025-07-30T13:55:49.437291",
     "exception": false,
     "start_time": "2025-07-30T13:55:49.402173",
     "status": "completed"
    },
    "tags": []
   },
   "outputs": [],
   "source": [
    "X_train = siab_train.iloc[:,4:164]\n",
    "y_train = siab_train.iloc[:, [3]]"
   ]
  },
  {
   "cell_type": "code",
   "execution_count": 22,
   "id": "828c96af-f43a-4ed6-ba47-8ac73a47d56c",
   "metadata": {
    "execution": {
     "iopub.execute_input": "2025-07-30T13:55:49.480781Z",
     "iopub.status.busy": "2025-07-30T13:55:49.480241Z",
     "iopub.status.idle": "2025-07-30T13:55:49.533266Z",
     "shell.execute_reply": "2025-07-30T13:55:49.532346Z"
    },
    "papermill": {
     "duration": 0.076457,
     "end_time": "2025-07-30T13:55:49.535114",
     "exception": false,
     "start_time": "2025-07-30T13:55:49.458657",
     "status": "completed"
    },
    "tags": []
   },
   "outputs": [],
   "source": [
    "X_calib = siab_calib.iloc[:,4:164]\n",
    "y_calib = siab_calib.iloc[:, [3]]"
   ]
  },
  {
   "cell_type": "code",
   "execution_count": 23,
   "id": "c34be9c3-6bd6-476e-acd3-845840e303be",
   "metadata": {
    "execution": {
     "iopub.execute_input": "2025-07-30T13:55:49.581284Z",
     "iopub.status.busy": "2025-07-30T13:55:49.580884Z",
     "iopub.status.idle": "2025-07-30T13:55:49.629644Z",
     "shell.execute_reply": "2025-07-30T13:55:49.628605Z"
    },
    "papermill": {
     "duration": 0.072277,
     "end_time": "2025-07-30T13:55:49.631017",
     "exception": false,
     "start_time": "2025-07-30T13:55:49.558740",
     "status": "completed"
    },
    "tags": []
   },
   "outputs": [],
   "source": [
    "X_test = siab_test.iloc[:,4:164]\n",
    "y_true = siab_test.iloc[:, [3]]"
   ]
  },
  {
   "cell_type": "markdown",
   "id": "9901737e-04df-44f0-9100-f5ad144ed040",
   "metadata": {
    "papermill": {
     "duration": 0.014045,
     "end_time": "2025-07-30T13:55:49.661216",
     "exception": false,
     "start_time": "2025-07-30T13:55:49.647171",
     "status": "completed"
    },
    "tags": []
   },
   "source": [
    "# Splitting Data and Setting Training Data Size OLD VERSION"
   ]
  },
  {
   "cell_type": "code",
   "execution_count": 24,
   "id": "acbc8f7d-8fc8-4e86-8c59-5dcb0f58384b",
   "metadata": {
    "execution": {
     "iopub.execute_input": "2025-07-30T13:55:49.686369Z",
     "iopub.status.busy": "2025-07-30T13:55:49.686023Z",
     "iopub.status.idle": "2025-07-30T13:55:49.690913Z",
     "shell.execute_reply": "2025-07-30T13:55:49.690152Z"
    },
    "papermill": {
     "duration": 0.019645,
     "end_time": "2025-07-30T13:55:49.692391",
     "exception": false,
     "start_time": "2025-07-30T13:55:49.672746",
     "status": "completed"
    },
    "tags": []
   },
   "outputs": [],
   "source": [
    "#def sample_by_year(df, training_size, random_state=42):\n",
    "#    if training_size == \"2014\":\n",
    "#        return df[df[\"year\"] == 2014].reset_index(drop=True)\n",
    "#    \n",
    "#    size_map = {\n",
    "#        \"25k\": 5000,\n",
    "#        \"5k\": 1000,\n",
    "#        \"1k\": 200\n",
    "#    }\n",
    "#\n",
    "#    if training_size not in size_map:\n",
    "#        return df.reset_index(drop=True)  # use all data\n",
    "#\n",
    "#    n_per_year = size_map[training_size]\n",
    "#    grouped = df.groupby(\"year\")\n",
    "#    sampled = grouped.apply(lambda x: x.sample(n=min(n_per_year, len(x)), random_state=random_state))\n",
    "#    return sampled.reset_index(drop=True)"
   ]
  },
  {
   "cell_type": "code",
   "execution_count": 25,
   "id": "6d931f52-beaf-43ff-9e78-9d44a448d54e",
   "metadata": {
    "execution": {
     "iopub.execute_input": "2025-07-30T13:55:49.718286Z",
     "iopub.status.busy": "2025-07-30T13:55:49.717789Z",
     "iopub.status.idle": "2025-07-30T13:55:49.722538Z",
     "shell.execute_reply": "2025-07-30T13:55:49.721676Z"
    },
    "papermill": {
     "duration": 0.018555,
     "end_time": "2025-07-30T13:55:49.723926",
     "exception": false,
     "start_time": "2025-07-30T13:55:49.705371",
     "status": "completed"
    },
    "tags": []
   },
   "outputs": [],
   "source": [
    "#siab_s = sample_by_year(siab, universe[\"training_size\"])"
   ]
  },
  {
   "cell_type": "code",
   "execution_count": 26,
   "id": "5db0a40e-a4e2-4920-be85-b12ae061d70d",
   "metadata": {
    "execution": {
     "iopub.execute_input": "2025-07-30T13:55:49.749481Z",
     "iopub.status.busy": "2025-07-30T13:55:49.748985Z",
     "iopub.status.idle": "2025-07-30T13:55:49.753510Z",
     "shell.execute_reply": "2025-07-30T13:55:49.752713Z"
    },
    "papermill": {
     "duration": 0.018653,
     "end_time": "2025-07-30T13:55:49.754822",
     "exception": false,
     "start_time": "2025-07-30T13:55:49.736169",
     "status": "completed"
    },
    "tags": []
   },
   "outputs": [],
   "source": [
    "#display(siab_s.groupby(\"year\").size())"
   ]
  },
  {
   "cell_type": "code",
   "execution_count": 27,
   "id": "e6c733c5",
   "metadata": {
    "execution": {
     "iopub.execute_input": "2025-07-30T13:55:49.791351Z",
     "iopub.status.busy": "2025-07-30T13:55:49.790956Z",
     "iopub.status.idle": "2025-07-30T13:55:49.916230Z",
     "shell.execute_reply": "2025-07-30T13:55:49.915258Z"
    },
    "papermill": {
     "duration": 0.150803,
     "end_time": "2025-07-30T13:55:49.918322",
     "exception": false,
     "start_time": "2025-07-30T13:55:49.767519",
     "status": "completed"
    },
    "tags": []
   },
   "outputs": [],
   "source": [
    "# Auxiliary data needed downstream in the pipeline\n",
    "\n",
    "org_train = X_train.copy()\n",
    "org_test = X_test.copy()\n",
    "org_calib = X_calib.copy()"
   ]
  },
  {
   "cell_type": "code",
   "execution_count": 28,
   "id": "1466abac-c6da-4492-a62f-4240ae3783af",
   "metadata": {
    "execution": {
     "iopub.execute_input": "2025-07-30T13:55:49.986310Z",
     "iopub.status.busy": "2025-07-30T13:55:49.985929Z",
     "iopub.status.idle": "2025-07-30T13:55:49.991709Z",
     "shell.execute_reply": "2025-07-30T13:55:49.990713Z"
    },
    "papermill": {
     "duration": 0.029364,
     "end_time": "2025-07-30T13:55:49.994223",
     "exception": false,
     "start_time": "2025-07-30T13:55:49.964859",
     "status": "completed"
    },
    "tags": []
   },
   "outputs": [],
   "source": [
    "# put in other script?\n",
    "# Group sizes\n",
    "\n",
    "#def calculate_percentages(df, df_name):\n",
    "#    total_entries = len(df)\n",
    "#\n",
    "#    female_pct = (df['frau1'] == 1).mean() * 100\n",
    "#    non_german_pct = ((df['maxdeutsch1'] == 0) & (df['maxdeutsch.Missing.'] == 0)).mean() * 100\n",
    "#    non_german_male_pct = ((df['frau1'] == 0) & (df['maxdeutsch1'] == 0) & (df['maxdeutsch.Missing.'] == 0)).mean() * 100\n",
    "#    non_german_female_pct = ((df['frau1'] == 1) & (df['maxdeutsch1'] == 0) & (df['maxdeutsch.Missing.'] == 0)).mean() * 100\n",
    "#\n",
    "#    print(f\"--- {df_name} ---\")\n",
    "#    print(f\"Female: {female_pct:.2f}%\")\n",
    "#    print(f\"Non-German: {non_german_pct:.2f}%\")\n",
    "#    print(f\"Non-German Male: {non_german_male_pct:.2f}%\")\n",
    "#    print(f\"Non-German Female: {non_german_female_pct:.2f}%\\n\")\n",
    "#\n",
    "## Calculate for each DataFrame\n",
    "#calculate_percentages(siab_calib, \"siab_calib\")\n",
    "#calculate_percentages(siab_test, \"siab_test\")\n",
    "#calculate_percentages(siab_train, \"siab_train\")"
   ]
  },
  {
   "cell_type": "markdown",
   "id": "0a4a1b33",
   "metadata": {
    "papermill": {
     "duration": 0.016895,
     "end_time": "2025-07-30T13:55:50.047149",
     "exception": false,
     "start_time": "2025-07-30T13:55:50.030254",
     "status": "completed"
    },
    "tags": []
   },
   "source": [
    "# Preprocessing Data"
   ]
  },
  {
   "cell_type": "code",
   "execution_count": 29,
   "id": "ca879031",
   "metadata": {
    "execution": {
     "iopub.execute_input": "2025-07-30T13:55:50.108715Z",
     "iopub.status.busy": "2025-07-30T13:55:50.107796Z",
     "iopub.status.idle": "2025-07-30T13:55:50.114426Z",
     "shell.execute_reply": "2025-07-30T13:55:50.113402Z"
    },
    "papermill": {
     "duration": 0.029948,
     "end_time": "2025-07-30T13:55:50.117797",
     "exception": false,
     "start_time": "2025-07-30T13:55:50.087849",
     "status": "completed"
    },
    "tags": []
   },
   "outputs": [],
   "source": [
    "# EXCLUDE PROTECTED FEATURES\n",
    "# ----------------------\n",
    "# \"exclude_features\": \"none\", # \"nationality\", \"sex\", \"nationality-sex\"\n",
    "\n",
    "excluded_features = universe[\"exclude_features\"].split(\"-\") # split, e.g.: \"nationality-sex\" -> [\"nationality\", \"sex\"]\n",
    "excluded_features_dictionary = {\n",
    "    \"nationality\": [\"maxdeutsch1\", \"maxdeutsch.Missing.\"],\n",
    "    \"sex\": [\"frau1\"],\n",
    "    \"age\": [\"age\"],\n",
    "}\n"
   ]
  },
  {
   "cell_type": "code",
   "execution_count": 30,
   "id": "b745ac60",
   "metadata": {
    "execution": {
     "iopub.execute_input": "2025-07-30T13:55:50.184316Z",
     "iopub.status.busy": "2025-07-30T13:55:50.180476Z",
     "iopub.status.idle": "2025-07-30T13:55:50.190392Z",
     "shell.execute_reply": "2025-07-30T13:55:50.189184Z"
    },
    "papermill": {
     "duration": 0.053195,
     "end_time": "2025-07-30T13:55:50.198648",
     "exception": false,
     "start_time": "2025-07-30T13:55:50.145453",
     "status": "completed"
    },
    "tags": []
   },
   "outputs": [],
   "source": [
    "# Code nice names to column names\n",
    "\n",
    "excluded_features_columns = [\n",
    "    excluded_features_dictionary[f] for f in excluded_features if len(f) > 0 and f != \"none\"\n",
    "]"
   ]
  },
  {
   "cell_type": "code",
   "execution_count": 31,
   "id": "f84f73a2",
   "metadata": {
    "execution": {
     "iopub.execute_input": "2025-07-30T13:55:50.270929Z",
     "iopub.status.busy": "2025-07-30T13:55:50.270541Z",
     "iopub.status.idle": "2025-07-30T13:55:50.277349Z",
     "shell.execute_reply": "2025-07-30T13:55:50.276343Z"
    },
    "papermill": {
     "duration": 0.055285,
     "end_time": "2025-07-30T13:55:50.279357",
     "exception": false,
     "start_time": "2025-07-30T13:55:50.224072",
     "status": "completed"
    },
    "tags": []
   },
   "outputs": [],
   "source": [
    "from utils import flatten_once\n",
    "\n",
    "excluded_features_columns = flatten_once(excluded_features_columns)"
   ]
  },
  {
   "cell_type": "code",
   "execution_count": 32,
   "id": "884dea22",
   "metadata": {
    "execution": {
     "iopub.execute_input": "2025-07-30T13:55:50.350319Z",
     "iopub.status.busy": "2025-07-30T13:55:50.349938Z",
     "iopub.status.idle": "2025-07-30T13:55:50.356625Z",
     "shell.execute_reply": "2025-07-30T13:55:50.355702Z"
    },
    "papermill": {
     "duration": 0.054215,
     "end_time": "2025-07-30T13:55:50.358633",
     "exception": false,
     "start_time": "2025-07-30T13:55:50.304418",
     "status": "completed"
    },
    "tags": []
   },
   "outputs": [],
   "source": [
    "if len(excluded_features_columns) > 0:\n",
    "    print(f\"Dropping features: {excluded_features_columns}\")\n",
    "    X_train.drop(excluded_features_columns, axis=1, inplace=True)"
   ]
  },
  {
   "cell_type": "code",
   "execution_count": 33,
   "id": "95ab8b16",
   "metadata": {
    "execution": {
     "iopub.execute_input": "2025-07-30T13:55:50.403248Z",
     "iopub.status.busy": "2025-07-30T13:55:50.402882Z",
     "iopub.status.idle": "2025-07-30T13:55:50.408821Z",
     "shell.execute_reply": "2025-07-30T13:55:50.407790Z"
    },
    "papermill": {
     "duration": 0.034446,
     "end_time": "2025-07-30T13:55:50.415437",
     "exception": false,
     "start_time": "2025-07-30T13:55:50.380991",
     "status": "completed"
    },
    "tags": []
   },
   "outputs": [],
   "source": [
    "if len(excluded_features_columns) > 0:\n",
    "    print(f\"Dropping features: {excluded_features_columns}\")\n",
    "    X_test.drop(excluded_features_columns, axis=1, inplace=True)"
   ]
  },
  {
   "cell_type": "code",
   "execution_count": 34,
   "id": "1853aaf5-fb9f-46cb-a2b5-8ea4ae2237e4",
   "metadata": {
    "execution": {
     "iopub.execute_input": "2025-07-30T13:55:50.468748Z",
     "iopub.status.busy": "2025-07-30T13:55:50.468345Z",
     "iopub.status.idle": "2025-07-30T13:55:50.474341Z",
     "shell.execute_reply": "2025-07-30T13:55:50.473170Z"
    },
    "papermill": {
     "duration": 0.031374,
     "end_time": "2025-07-30T13:55:50.477363",
     "exception": false,
     "start_time": "2025-07-30T13:55:50.445989",
     "status": "completed"
    },
    "tags": []
   },
   "outputs": [],
   "source": [
    "if len(excluded_features_columns) > 0:\n",
    "    print(f\"Dropping features: {excluded_features_columns}\")\n",
    "    X_calib.drop(excluded_features_columns, axis=1, inplace=True)"
   ]
  },
  {
   "cell_type": "code",
   "execution_count": 35,
   "id": "6727d079-03e5-481e-9d38-292a90b7a0a8",
   "metadata": {
    "execution": {
     "iopub.execute_input": "2025-07-30T13:55:50.523871Z",
     "iopub.status.busy": "2025-07-30T13:55:50.523406Z",
     "iopub.status.idle": "2025-07-30T13:55:50.528437Z",
     "shell.execute_reply": "2025-07-30T13:55:50.527342Z"
    },
    "papermill": {
     "duration": 0.029268,
     "end_time": "2025-07-30T13:55:50.529938",
     "exception": false,
     "start_time": "2025-07-30T13:55:50.500670",
     "status": "completed"
    },
    "tags": []
   },
   "outputs": [],
   "source": [
    "# SPLIT & STRATIFY DATA\n",
    "# ----------------------"
   ]
  },
  {
   "cell_type": "code",
   "execution_count": 36,
   "id": "76c4dc6d",
   "metadata": {
    "execution": {
     "iopub.execute_input": "2025-07-30T13:55:50.580312Z",
     "iopub.status.busy": "2025-07-30T13:55:50.579773Z",
     "iopub.status.idle": "2025-07-30T13:55:50.585842Z",
     "shell.execute_reply": "2025-07-30T13:55:50.584808Z"
    },
    "papermill": {
     "duration": 0.034553,
     "end_time": "2025-07-30T13:55:50.587840",
     "exception": false,
     "start_time": "2025-07-30T13:55:50.553287",
     "status": "completed"
    },
    "tags": []
   },
   "outputs": [],
   "source": [
    "# EXCLUDE CERTAIN SUBGROUPS\n",
    "# ----------------------\n",
    "\n",
    "mode = universe.get(\"exclude_subgroups\", \"keep-all\") \n",
    "# Fetches the exclude_subgroups setting from the universe dict.\n",
    "# Defaults to \"keep-all\" if the key is missing."
   ]
  },
  {
   "cell_type": "code",
   "execution_count": 37,
   "id": "21994072",
   "metadata": {
    "execution": {
     "iopub.execute_input": "2025-07-30T13:55:50.637009Z",
     "iopub.status.busy": "2025-07-30T13:55:50.636173Z",
     "iopub.status.idle": "2025-07-30T13:55:50.643813Z",
     "shell.execute_reply": "2025-07-30T13:55:50.642880Z"
    },
    "papermill": {
     "duration": 0.033081,
     "end_time": "2025-07-30T13:55:50.645668",
     "exception": false,
     "start_time": "2025-07-30T13:55:50.612587",
     "status": "completed"
    },
    "tags": []
   },
   "outputs": [],
   "source": [
    "if mode == \"keep-all\":\n",
    "    keep_mask = pd.Series(True, index=org_train.index)\n",
    "\n",
    "# org_train contains the original feature columns from features_org (in Simson)\n",
    "# features_org contains unprocessed features, for me X_train at beginning ???\n",
    "# For keep-all, creates a boolean Series (keep_mask) of all True, so no rows are removed.\n",
    "\n",
    "elif mode == \"drop-non-german\":\n",
    "    keep_mask = org_train[\"maxdeutsch1\"] == 1 # ??? what about missing values?\n",
    "\n",
    "else:\n",
    "    raise ValueError(f\"Unsupported mode for exclude_subgroups: {mode}\")\n"
   ]
  },
  {
   "cell_type": "code",
   "execution_count": 38,
   "id": "71651440",
   "metadata": {
    "execution": {
     "iopub.execute_input": "2025-07-30T13:55:50.692936Z",
     "iopub.status.busy": "2025-07-30T13:55:50.692603Z",
     "iopub.status.idle": "2025-07-30T13:55:50.699439Z",
     "shell.execute_reply": "2025-07-30T13:55:50.698452Z"
    },
    "papermill": {
     "duration": 0.031109,
     "end_time": "2025-07-30T13:55:50.701143",
     "exception": false,
     "start_time": "2025-07-30T13:55:50.670034",
     "status": "completed"
    },
    "tags": []
   },
   "outputs": [
    {
     "name": "stdout",
     "output_type": "stream",
     "text": [
      "Dropping 665 rows (13.30%) where mode='drop-non-german'\n"
     ]
    }
   ],
   "source": [
    "n_drop = (~keep_mask).sum() # Calculates how many rows are set to be dropped\n",
    "if n_drop > 0:\n",
    "    pct = n_drop / len(keep_mask) * 100\n",
    "    print(f\"Dropping {n_drop} rows ({pct:.2f}%) where mode='{mode}'\")"
   ]
  },
  {
   "cell_type": "code",
   "execution_count": 39,
   "id": "5fb8eee5",
   "metadata": {
    "execution": {
     "iopub.execute_input": "2025-07-30T13:55:50.748140Z",
     "iopub.status.busy": "2025-07-30T13:55:50.747389Z",
     "iopub.status.idle": "2025-07-30T13:55:50.754924Z",
     "shell.execute_reply": "2025-07-30T13:55:50.754077Z"
    },
    "papermill": {
     "duration": 0.031961,
     "end_time": "2025-07-30T13:55:50.756583",
     "exception": false,
     "start_time": "2025-07-30T13:55:50.724622",
     "status": "completed"
    },
    "tags": []
   },
   "outputs": [],
   "source": [
    "X_train = X_train[keep_mask]"
   ]
  },
  {
   "cell_type": "code",
   "execution_count": 40,
   "id": "b202bb3a",
   "metadata": {
    "execution": {
     "iopub.execute_input": "2025-07-30T13:55:50.803871Z",
     "iopub.status.busy": "2025-07-30T13:55:50.803419Z",
     "iopub.status.idle": "2025-07-30T13:55:50.809642Z",
     "shell.execute_reply": "2025-07-30T13:55:50.808511Z"
    },
    "papermill": {
     "duration": 0.030471,
     "end_time": "2025-07-30T13:55:50.811284",
     "exception": false,
     "start_time": "2025-07-30T13:55:50.780813",
     "status": "completed"
    },
    "tags": []
   },
   "outputs": [],
   "source": [
    "y_train = y_train[keep_mask]"
   ]
  },
  {
   "cell_type": "markdown",
   "id": "493e2ac3",
   "metadata": {
    "papermill": {
     "duration": 0.022354,
     "end_time": "2025-07-30T13:55:50.858890",
     "exception": false,
     "start_time": "2025-07-30T13:55:50.836536",
     "status": "completed"
    },
    "tags": []
   },
   "source": [
    "# Model Training"
   ]
  },
  {
   "cell_type": "code",
   "execution_count": 41,
   "id": "679e1268",
   "metadata": {
    "execution": {
     "iopub.execute_input": "2025-07-30T13:55:50.905645Z",
     "iopub.status.busy": "2025-07-30T13:55:50.905125Z",
     "iopub.status.idle": "2025-07-30T13:55:51.016197Z",
     "shell.execute_reply": "2025-07-30T13:55:51.015110Z"
    },
    "papermill": {
     "duration": 0.136939,
     "end_time": "2025-07-30T13:55:51.018059",
     "exception": false,
     "start_time": "2025-07-30T13:55:50.881120",
     "status": "completed"
    },
    "tags": []
   },
   "outputs": [],
   "source": [
    "from sklearn.linear_model import LogisticRegression\n",
    "from sklearn.ensemble import GradientBoostingClassifier, RandomForestClassifier\n",
    "\n",
    "if (universe[\"model\"] == \"logreg\"):\n",
    "    model = LogisticRegression() #penalty=\"none\") #, solver=\"newton-cg\", max_iter=1) # include random_state=19 ?\n",
    "elif (universe[\"model\"] == \"penalized_logreg\"):\n",
    "    model = LogisticRegression(penalty=\"l2\", C=1.0) #, solver=\"newton-cg\", max_iter=1)\n",
    "elif (universe[\"model\"] == \"rf\"):\n",
    "    model = RandomForestClassifier(n_estimators=100, n_jobs=-1)\n",
    "elif (universe[\"model\"] == \"gbm\"):\n",
    "    model = GradientBoostingClassifier()\n",
    "elif (universe[\"model\"] == \"elasticnet\"):\n",
    "    model = LogisticRegression(penalty = 'elasticnet', solver = 'saga', l1_ratio = 0.5, max_iter=5000) # which solver to use?\n",
    "else:\n",
    "    raise \"Unsupported universe.model\""
   ]
  },
  {
   "cell_type": "code",
   "execution_count": 42,
   "id": "0cc8f744",
   "metadata": {
    "execution": {
     "iopub.execute_input": "2025-07-30T13:55:51.064581Z",
     "iopub.status.busy": "2025-07-30T13:55:51.064153Z",
     "iopub.status.idle": "2025-07-30T13:55:51.070850Z",
     "shell.execute_reply": "2025-07-30T13:55:51.069834Z"
    },
    "papermill": {
     "duration": 0.033713,
     "end_time": "2025-07-30T13:55:51.073731",
     "exception": false,
     "start_time": "2025-07-30T13:55:51.040018",
     "status": "completed"
    },
    "tags": []
   },
   "outputs": [],
   "source": [
    "import numpy as np\n",
    "from sklearn.pipeline import Pipeline\n",
    "from sklearn.preprocessing import StandardScaler\n",
    "\n",
    "model = Pipeline([\n",
    "    #(\"continuous_processor\", continuous_processor),\n",
    "    #(\"categorical_preprocessor\", categorical_preprocessor),\n",
    "    (\"scale\", StandardScaler() if universe[\"scale\"] == \"scale\" else None), \n",
    "    (\"model\", model),\n",
    "])"
   ]
  },
  {
   "cell_type": "code",
   "execution_count": 43,
   "id": "9442c04d",
   "metadata": {
    "execution": {
     "iopub.execute_input": "2025-07-30T13:55:51.121310Z",
     "iopub.status.busy": "2025-07-30T13:55:51.120925Z",
     "iopub.status.idle": "2025-07-30T13:55:52.185005Z",
     "shell.execute_reply": "2025-07-30T13:55:52.184208Z"
    },
    "papermill": {
     "duration": 1.089619,
     "end_time": "2025-07-30T13:55:52.186300",
     "exception": false,
     "start_time": "2025-07-30T13:55:51.096681",
     "status": "completed"
    },
    "tags": []
   },
   "outputs": [
    {
     "data": {
      "text/html": [
       "<style>#sk-container-id-1 {color: black;background-color: white;}#sk-container-id-1 pre{padding: 0;}#sk-container-id-1 div.sk-toggleable {background-color: white;}#sk-container-id-1 label.sk-toggleable__label {cursor: pointer;display: block;width: 100%;margin-bottom: 0;padding: 0.3em;box-sizing: border-box;text-align: center;}#sk-container-id-1 label.sk-toggleable__label-arrow:before {content: \"▸\";float: left;margin-right: 0.25em;color: #696969;}#sk-container-id-1 label.sk-toggleable__label-arrow:hover:before {color: black;}#sk-container-id-1 div.sk-estimator:hover label.sk-toggleable__label-arrow:before {color: black;}#sk-container-id-1 div.sk-toggleable__content {max-height: 0;max-width: 0;overflow: hidden;text-align: left;background-color: #f0f8ff;}#sk-container-id-1 div.sk-toggleable__content pre {margin: 0.2em;color: black;border-radius: 0.25em;background-color: #f0f8ff;}#sk-container-id-1 input.sk-toggleable__control:checked~div.sk-toggleable__content {max-height: 200px;max-width: 100%;overflow: auto;}#sk-container-id-1 input.sk-toggleable__control:checked~label.sk-toggleable__label-arrow:before {content: \"▾\";}#sk-container-id-1 div.sk-estimator input.sk-toggleable__control:checked~label.sk-toggleable__label {background-color: #d4ebff;}#sk-container-id-1 div.sk-label input.sk-toggleable__control:checked~label.sk-toggleable__label {background-color: #d4ebff;}#sk-container-id-1 input.sk-hidden--visually {border: 0;clip: rect(1px 1px 1px 1px);clip: rect(1px, 1px, 1px, 1px);height: 1px;margin: -1px;overflow: hidden;padding: 0;position: absolute;width: 1px;}#sk-container-id-1 div.sk-estimator {font-family: monospace;background-color: #f0f8ff;border: 1px dotted black;border-radius: 0.25em;box-sizing: border-box;margin-bottom: 0.5em;}#sk-container-id-1 div.sk-estimator:hover {background-color: #d4ebff;}#sk-container-id-1 div.sk-parallel-item::after {content: \"\";width: 100%;border-bottom: 1px solid gray;flex-grow: 1;}#sk-container-id-1 div.sk-label:hover label.sk-toggleable__label {background-color: #d4ebff;}#sk-container-id-1 div.sk-serial::before {content: \"\";position: absolute;border-left: 1px solid gray;box-sizing: border-box;top: 0;bottom: 0;left: 50%;z-index: 0;}#sk-container-id-1 div.sk-serial {display: flex;flex-direction: column;align-items: center;background-color: white;padding-right: 0.2em;padding-left: 0.2em;position: relative;}#sk-container-id-1 div.sk-item {position: relative;z-index: 1;}#sk-container-id-1 div.sk-parallel {display: flex;align-items: stretch;justify-content: center;background-color: white;position: relative;}#sk-container-id-1 div.sk-item::before, #sk-container-id-1 div.sk-parallel-item::before {content: \"\";position: absolute;border-left: 1px solid gray;box-sizing: border-box;top: 0;bottom: 0;left: 50%;z-index: -1;}#sk-container-id-1 div.sk-parallel-item {display: flex;flex-direction: column;z-index: 1;position: relative;background-color: white;}#sk-container-id-1 div.sk-parallel-item:first-child::after {align-self: flex-end;width: 50%;}#sk-container-id-1 div.sk-parallel-item:last-child::after {align-self: flex-start;width: 50%;}#sk-container-id-1 div.sk-parallel-item:only-child::after {width: 0;}#sk-container-id-1 div.sk-dashed-wrapped {border: 1px dashed gray;margin: 0 0.4em 0.5em 0.4em;box-sizing: border-box;padding-bottom: 0.4em;background-color: white;}#sk-container-id-1 div.sk-label label {font-family: monospace;font-weight: bold;display: inline-block;line-height: 1.2em;}#sk-container-id-1 div.sk-label-container {text-align: center;}#sk-container-id-1 div.sk-container {/* jupyter's `normalize.less` sets `[hidden] { display: none; }` but bootstrap.min.css set `[hidden] { display: none !important; }` so we also need the `!important` here to be able to override the default hidden behavior on the sphinx rendered scikit-learn.org. See: https://github.com/scikit-learn/scikit-learn/issues/21755 */display: inline-block !important;position: relative;}#sk-container-id-1 div.sk-text-repr-fallback {display: none;}</style><div id=\"sk-container-id-1\" class=\"sk-top-container\"><div class=\"sk-text-repr-fallback\"><pre>Pipeline(steps=[(&#x27;scale&#x27;, StandardScaler()),\n",
       "                (&#x27;model&#x27;, RandomForestClassifier(n_jobs=-1))])</pre><b>In a Jupyter environment, please rerun this cell to show the HTML representation or trust the notebook. <br />On GitHub, the HTML representation is unable to render, please try loading this page with nbviewer.org.</b></div><div class=\"sk-container\" hidden><div class=\"sk-item sk-dashed-wrapped\"><div class=\"sk-label-container\"><div class=\"sk-label sk-toggleable\"><input class=\"sk-toggleable__control sk-hidden--visually\" id=\"sk-estimator-id-1\" type=\"checkbox\" ><label for=\"sk-estimator-id-1\" class=\"sk-toggleable__label sk-toggleable__label-arrow\">Pipeline</label><div class=\"sk-toggleable__content\"><pre>Pipeline(steps=[(&#x27;scale&#x27;, StandardScaler()),\n",
       "                (&#x27;model&#x27;, RandomForestClassifier(n_jobs=-1))])</pre></div></div></div><div class=\"sk-serial\"><div class=\"sk-item\"><div class=\"sk-estimator sk-toggleable\"><input class=\"sk-toggleable__control sk-hidden--visually\" id=\"sk-estimator-id-2\" type=\"checkbox\" ><label for=\"sk-estimator-id-2\" class=\"sk-toggleable__label sk-toggleable__label-arrow\">StandardScaler</label><div class=\"sk-toggleable__content\"><pre>StandardScaler()</pre></div></div></div><div class=\"sk-item\"><div class=\"sk-estimator sk-toggleable\"><input class=\"sk-toggleable__control sk-hidden--visually\" id=\"sk-estimator-id-3\" type=\"checkbox\" ><label for=\"sk-estimator-id-3\" class=\"sk-toggleable__label sk-toggleable__label-arrow\">RandomForestClassifier</label><div class=\"sk-toggleable__content\"><pre>RandomForestClassifier(n_jobs=-1)</pre></div></div></div></div></div></div></div>"
      ],
      "text/plain": [
       "Pipeline(steps=[('scale', StandardScaler()),\n",
       "                ('model', RandomForestClassifier(n_jobs=-1))])"
      ]
     },
     "execution_count": 43,
     "metadata": {},
     "output_type": "execute_result"
    }
   ],
   "source": [
    "model.fit(X_train, y_train.values.ravel())"
   ]
  },
  {
   "cell_type": "code",
   "execution_count": 44,
   "id": "af59f8c0",
   "metadata": {
    "execution": {
     "iopub.execute_input": "2025-07-30T13:55:52.214317Z",
     "iopub.status.busy": "2025-07-30T13:55:52.213650Z",
     "iopub.status.idle": "2025-07-30T13:55:52.218004Z",
     "shell.execute_reply": "2025-07-30T13:55:52.217332Z"
    },
    "papermill": {
     "duration": 0.018398,
     "end_time": "2025-07-30T13:55:52.219387",
     "exception": false,
     "start_time": "2025-07-30T13:55:52.200989",
     "status": "completed"
    },
    "tags": []
   },
   "outputs": [],
   "source": [
    "from fairness_multiverse.universe import predict_w_threshold"
   ]
  },
  {
   "cell_type": "code",
   "execution_count": 45,
   "id": "a7cf2e16",
   "metadata": {
    "execution": {
     "iopub.execute_input": "2025-07-30T13:55:52.259522Z",
     "iopub.status.busy": "2025-07-30T13:55:52.258972Z",
     "iopub.status.idle": "2025-07-30T13:55:53.205089Z",
     "shell.execute_reply": "2025-07-30T13:55:53.204090Z"
    },
    "papermill": {
     "duration": 0.972948,
     "end_time": "2025-07-30T13:55:53.206789",
     "exception": false,
     "start_time": "2025-07-30T13:55:52.233841",
     "status": "completed"
    },
    "tags": []
   },
   "outputs": [
    {
     "data": {
      "text/plain": [
       "0.8635938022516999"
      ]
     },
     "execution_count": 45,
     "metadata": {},
     "output_type": "execute_result"
    }
   ],
   "source": [
    "probs_test = model.predict_proba(X_test)\n",
    "\n",
    "'''\n",
    "Below code returns a boolean array (or binary 0/1 array depending on how it’s used) where each element \n",
    "is True if the probability of class 1 is greater than or equal to the threshold, and False otherwise.\n",
    "'''\n",
    "y_pred_default = predict_w_threshold(probs_test, 0.5)\n",
    "\n",
    "from sklearn.metrics import accuracy_score\n",
    "\n",
    "# Naive prediction\n",
    "accuracy_score(y_true = y_true, y_pred = y_pred_default)"
   ]
  },
  {
   "cell_type": "code",
   "execution_count": 46,
   "id": "081964c3",
   "metadata": {
    "execution": {
     "iopub.execute_input": "2025-07-30T13:55:53.264846Z",
     "iopub.status.busy": "2025-07-30T13:55:53.264372Z",
     "iopub.status.idle": "2025-07-30T13:55:54.138549Z",
     "shell.execute_reply": "2025-07-30T13:55:54.137531Z"
    },
    "papermill": {
     "duration": 0.90315,
     "end_time": "2025-07-30T13:55:54.140058",
     "exception": false,
     "start_time": "2025-07-30T13:55:53.236908",
     "status": "completed"
    },
    "tags": []
   },
   "outputs": [
    {
     "data": {
      "text/plain": [
       "array([0, 0, 0, ..., 0, 0, 0])"
      ]
     },
     "execution_count": 46,
     "metadata": {},
     "output_type": "execute_result"
    }
   ],
   "source": [
    "model.predict(X_test)"
   ]
  },
  {
   "cell_type": "markdown",
   "id": "56c9705b",
   "metadata": {
    "papermill": {
     "duration": 0.012166,
     "end_time": "2025-07-30T13:55:54.165663",
     "exception": false,
     "start_time": "2025-07-30T13:55:54.153497",
     "status": "completed"
    },
    "tags": []
   },
   "source": [
    "# Conformal Prediction"
   ]
  },
  {
   "cell_type": "code",
   "execution_count": 47,
   "id": "160ec6ff",
   "metadata": {
    "execution": {
     "iopub.execute_input": "2025-07-30T13:55:54.195712Z",
     "iopub.status.busy": "2025-07-30T13:55:54.195427Z",
     "iopub.status.idle": "2025-07-30T13:55:54.199788Z",
     "shell.execute_reply": "2025-07-30T13:55:54.198963Z"
    },
    "papermill": {
     "duration": 0.023402,
     "end_time": "2025-07-30T13:55:54.201311",
     "exception": false,
     "start_time": "2025-07-30T13:55:54.177909",
     "status": "completed"
    },
    "tags": []
   },
   "outputs": [],
   "source": [
    "# Miscoverage level for conformal prediction (10% allowed error rate => 90% target coverage)\n",
    "alpha = 0.1"
   ]
  },
  {
   "cell_type": "code",
   "execution_count": 48,
   "id": "eadf4555-3dd3-440e-8e35-f82a4ad9f855",
   "metadata": {
    "execution": {
     "iopub.execute_input": "2025-07-30T13:55:54.228780Z",
     "iopub.status.busy": "2025-07-30T13:55:54.228454Z",
     "iopub.status.idle": "2025-07-30T13:55:55.081805Z",
     "shell.execute_reply": "2025-07-30T13:55:55.081066Z"
    },
    "papermill": {
     "duration": 0.868618,
     "end_time": "2025-07-30T13:55:55.083507",
     "exception": false,
     "start_time": "2025-07-30T13:55:54.214889",
     "status": "completed"
    },
    "tags": []
   },
   "outputs": [],
   "source": [
    "probs_calib = model.predict_proba(X_calib)"
   ]
  },
  {
   "cell_type": "code",
   "execution_count": 49,
   "id": "2ed93547-6d5d-4983-9b36-1ecb300da49a",
   "metadata": {
    "execution": {
     "iopub.execute_input": "2025-07-30T13:55:55.114210Z",
     "iopub.status.busy": "2025-07-30T13:55:55.113778Z",
     "iopub.status.idle": "2025-07-30T13:55:55.119852Z",
     "shell.execute_reply": "2025-07-30T13:55:55.118824Z"
    },
    "papermill": {
     "duration": 0.020777,
     "end_time": "2025-07-30T13:55:55.121692",
     "exception": false,
     "start_time": "2025-07-30T13:55:55.100915",
     "status": "completed"
    },
    "tags": []
   },
   "outputs": [],
   "source": [
    "y_calib = y_calib.values.ravel().astype(int)"
   ]
  },
  {
   "cell_type": "code",
   "execution_count": 50,
   "id": "65d1320d-f588-4b38-9072-62af1ae97f7d",
   "metadata": {
    "execution": {
     "iopub.execute_input": "2025-07-30T13:55:55.171067Z",
     "iopub.status.busy": "2025-07-30T13:55:55.170358Z",
     "iopub.status.idle": "2025-07-30T13:55:55.179558Z",
     "shell.execute_reply": "2025-07-30T13:55:55.178539Z"
    },
    "papermill": {
     "duration": 0.036665,
     "end_time": "2025-07-30T13:55:55.181138",
     "exception": false,
     "start_time": "2025-07-30T13:55:55.144473",
     "status": "completed"
    },
    "tags": []
   },
   "outputs": [],
   "source": [
    "from fairness_multiverse.conformal import compute_nc_scores\n",
    "\n",
    "# Compute nonconformity scores on calibration set (1 - probability of true class)\n",
    "nc_scores = compute_nc_scores(probs_calib, y_calib)"
   ]
  },
  {
   "cell_type": "code",
   "execution_count": 51,
   "id": "df3b8ca3-53b7-43d5-9667-7c85da7aeda2",
   "metadata": {
    "execution": {
     "iopub.execute_input": "2025-07-30T13:55:55.230563Z",
     "iopub.status.busy": "2025-07-30T13:55:55.229792Z",
     "iopub.status.idle": "2025-07-30T13:55:55.237253Z",
     "shell.execute_reply": "2025-07-30T13:55:55.236163Z"
    },
    "papermill": {
     "duration": 0.039695,
     "end_time": "2025-07-30T13:55:55.245274",
     "exception": false,
     "start_time": "2025-07-30T13:55:55.205579",
     "status": "completed"
    },
    "tags": []
   },
   "outputs": [],
   "source": [
    "from fairness_multiverse.conformal import find_threshold\n",
    "\n",
    "# Find conformal threshold q_hat for the given alpha (split conformal method)\n",
    "q_hat = find_threshold(nc_scores, alpha)"
   ]
  },
  {
   "cell_type": "code",
   "execution_count": 52,
   "id": "4d29e6c1-0ef6-4aa4-b8fe-4fe79b0d033a",
   "metadata": {
    "execution": {
     "iopub.execute_input": "2025-07-30T13:55:55.300197Z",
     "iopub.status.busy": "2025-07-30T13:55:55.299742Z",
     "iopub.status.idle": "2025-07-30T13:55:55.307571Z",
     "shell.execute_reply": "2025-07-30T13:55:55.306491Z"
    },
    "papermill": {
     "duration": 0.035964,
     "end_time": "2025-07-30T13:55:55.309339",
     "exception": false,
     "start_time": "2025-07-30T13:55:55.273375",
     "status": "completed"
    },
    "tags": []
   },
   "outputs": [
    {
     "data": {
      "text/plain": [
       "0.6799999999999999"
      ]
     },
     "execution_count": 52,
     "metadata": {},
     "output_type": "execute_result"
    }
   ],
   "source": [
    "q_hat"
   ]
  },
  {
   "cell_type": "code",
   "execution_count": 53,
   "id": "92460794-cdac-4be2-ba28-f28c0515a6fb",
   "metadata": {
    "execution": {
     "iopub.execute_input": "2025-07-30T13:55:55.361027Z",
     "iopub.status.busy": "2025-07-30T13:55:55.360534Z",
     "iopub.status.idle": "2025-07-30T13:55:56.866770Z",
     "shell.execute_reply": "2025-07-30T13:55:56.865737Z"
    },
    "papermill": {
     "duration": 1.53291,
     "end_time": "2025-07-30T13:55:56.868813",
     "exception": false,
     "start_time": "2025-07-30T13:55:55.335903",
     "status": "completed"
    },
    "tags": []
   },
   "outputs": [],
   "source": [
    "from fairness_multiverse.conformal import predict_conformal_sets\n",
    "\n",
    "# Generate prediction sets for each test example\n",
    "pred_sets = predict_conformal_sets(model, X_test, q_hat)"
   ]
  },
  {
   "cell_type": "code",
   "execution_count": 54,
   "id": "d90c9a65-e6db-4f5d-80cd-e68fb7e46829",
   "metadata": {
    "execution": {
     "iopub.execute_input": "2025-07-30T13:55:56.908987Z",
     "iopub.status.busy": "2025-07-30T13:55:56.908567Z",
     "iopub.status.idle": "2025-07-30T13:55:56.913780Z",
     "shell.execute_reply": "2025-07-30T13:55:56.913056Z"
    },
    "papermill": {
     "duration": 0.021533,
     "end_time": "2025-07-30T13:55:56.915464",
     "exception": false,
     "start_time": "2025-07-30T13:55:56.893931",
     "status": "completed"
    },
    "tags": []
   },
   "outputs": [],
   "source": [
    "y_true = y_true.squeeze()"
   ]
  },
  {
   "cell_type": "code",
   "execution_count": 55,
   "id": "3a58a54a-1e68-46b9-927a-df01f18aebc8",
   "metadata": {
    "execution": {
     "iopub.execute_input": "2025-07-30T13:55:56.965676Z",
     "iopub.status.busy": "2025-07-30T13:55:56.965188Z",
     "iopub.status.idle": "2025-07-30T13:55:57.852346Z",
     "shell.execute_reply": "2025-07-30T13:55:57.851564Z"
    },
    "papermill": {
     "duration": 0.913866,
     "end_time": "2025-07-30T13:55:57.854217",
     "exception": false,
     "start_time": "2025-07-30T13:55:56.940351",
     "status": "completed"
    },
    "tags": []
   },
   "outputs": [],
   "source": [
    "from fairness_multiverse.conformal import evaluate_sets\n",
    "\n",
    "# Evaluate coverage and average set size on test data\n",
    "metrics = evaluate_sets(pred_sets, y_true)"
   ]
  },
  {
   "cell_type": "markdown",
   "id": "2b569c12-9aaa-4c88-98c9-bbcd0cf3ebb8",
   "metadata": {
    "papermill": {
     "duration": 0.023,
     "end_time": "2025-07-30T13:55:57.902503",
     "exception": false,
     "start_time": "2025-07-30T13:55:57.879503",
     "status": "completed"
    },
    "tags": []
   },
   "source": [
    "# CP Metrics"
   ]
  },
  {
   "cell_type": "code",
   "execution_count": 56,
   "id": "5ce0a5cb-201f-45a0-ade5-94c7f0bd6095",
   "metadata": {
    "execution": {
     "iopub.execute_input": "2025-07-30T13:55:57.951638Z",
     "iopub.status.busy": "2025-07-30T13:55:57.950760Z",
     "iopub.status.idle": "2025-07-30T13:55:57.958382Z",
     "shell.execute_reply": "2025-07-30T13:55:57.957495Z"
    },
    "papermill": {
     "duration": 0.034473,
     "end_time": "2025-07-30T13:55:57.960284",
     "exception": false,
     "start_time": "2025-07-30T13:55:57.925811",
     "status": "completed"
    },
    "tags": []
   },
   "outputs": [
    {
     "data": {
      "text/plain": [
       "{'coverage': 0.9134098762679745, 'avg_size': 1.147386021625237}"
      ]
     },
     "execution_count": 56,
     "metadata": {},
     "output_type": "execute_result"
    }
   ],
   "source": [
    "metrics"
   ]
  },
  {
   "cell_type": "code",
   "execution_count": 57,
   "id": "9b9a838d-31c9-430b-ae14-12baee460d17",
   "metadata": {
    "execution": {
     "iopub.execute_input": "2025-07-30T13:55:58.019459Z",
     "iopub.status.busy": "2025-07-30T13:55:58.018795Z",
     "iopub.status.idle": "2025-07-30T13:55:58.025312Z",
     "shell.execute_reply": "2025-07-30T13:55:58.024123Z"
    },
    "papermill": {
     "duration": 0.037885,
     "end_time": "2025-07-30T13:55:58.027166",
     "exception": false,
     "start_time": "2025-07-30T13:55:57.989281",
     "status": "completed"
    },
    "tags": []
   },
   "outputs": [],
   "source": [
    "example_universe = universe.copy()\n",
    "universe_training_size = example_universe.get(\"training_size\")\n",
    "universe_scale = example_universe.get(\"scale\")\n",
    "universe_model = example_universe.get(\"model\")\n",
    "universe_exclude_features = example_universe.get(\"exclude_features\")\n",
    "universe_exclude_subgroups = example_universe.get(\"exclude_subgroups\")"
   ]
  },
  {
   "cell_type": "code",
   "execution_count": 58,
   "id": "f4b6a8ac-9dc0-4245-8a91-5b3b5999c4f9",
   "metadata": {
    "execution": {
     "iopub.execute_input": "2025-07-30T13:55:58.087564Z",
     "iopub.status.busy": "2025-07-30T13:55:58.086938Z",
     "iopub.status.idle": "2025-07-30T13:55:58.093673Z",
     "shell.execute_reply": "2025-07-30T13:55:58.092725Z"
    },
    "papermill": {
     "duration": 0.038488,
     "end_time": "2025-07-30T13:55:58.095103",
     "exception": false,
     "start_time": "2025-07-30T13:55:58.056615",
     "status": "completed"
    },
    "tags": []
   },
   "outputs": [],
   "source": [
    "cp_metrics_dict = {\n",
    "    \"universe_id\": [universe_id],\n",
    "    \"universe_training_size\": [universe_training_size],\n",
    "    \"universe_scale\": [universe_scale],\n",
    "    \"universe_model\": [universe_model],\n",
    "    \"universe_exclude_features\": [universe_exclude_features],\n",
    "    \"universe_exclude_subgroups\": [universe_exclude_subgroups],\n",
    "    \"q_hat\": [q_hat],\n",
    "    \"coverage\": [metrics[\"coverage\"]],\n",
    "    \"avg_size\": [metrics[\"avg_size\"]],\n",
    "}"
   ]
  },
  {
   "cell_type": "code",
   "execution_count": 59,
   "id": "908acbb1-0371-4915-85ca-3fa520d2efe2",
   "metadata": {
    "execution": {
     "iopub.execute_input": "2025-07-30T13:55:58.148011Z",
     "iopub.status.busy": "2025-07-30T13:55:58.147497Z",
     "iopub.status.idle": "2025-07-30T13:55:58.155933Z",
     "shell.execute_reply": "2025-07-30T13:55:58.154869Z"
    },
    "papermill": {
     "duration": 0.036934,
     "end_time": "2025-07-30T13:55:58.157702",
     "exception": false,
     "start_time": "2025-07-30T13:55:58.120768",
     "status": "completed"
    },
    "tags": []
   },
   "outputs": [
    {
     "data": {
      "text/plain": [
       "{'universe_id': ['5c459c611d5e90f178f49791f120824a'],\n",
       " 'universe_training_size': ['5k'],\n",
       " 'universe_scale': ['scale'],\n",
       " 'universe_model': ['rf'],\n",
       " 'universe_exclude_features': ['none'],\n",
       " 'universe_exclude_subgroups': ['drop-non-german'],\n",
       " 'q_hat': [0.6799999999999999],\n",
       " 'coverage': [0.9134098762679745],\n",
       " 'avg_size': [1.147386021625237]}"
      ]
     },
     "execution_count": 59,
     "metadata": {},
     "output_type": "execute_result"
    }
   ],
   "source": [
    "cp_metrics_dict"
   ]
  },
  {
   "cell_type": "code",
   "execution_count": 60,
   "id": "33007efc-14e9-4ec6-97ac-56a455c82265",
   "metadata": {
    "execution": {
     "iopub.execute_input": "2025-07-30T13:55:58.209404Z",
     "iopub.status.busy": "2025-07-30T13:55:58.208841Z",
     "iopub.status.idle": "2025-07-30T13:55:58.215781Z",
     "shell.execute_reply": "2025-07-30T13:55:58.214859Z"
    },
    "papermill": {
     "duration": 0.035374,
     "end_time": "2025-07-30T13:55:58.217628",
     "exception": false,
     "start_time": "2025-07-30T13:55:58.182254",
     "status": "completed"
    },
    "tags": []
   },
   "outputs": [],
   "source": [
    "cp_metrics_df = pd.DataFrame(cp_metrics_dict)"
   ]
  },
  {
   "cell_type": "code",
   "execution_count": 61,
   "id": "db12611b-57b2-4910-b9d0-355adfd6e7bf",
   "metadata": {
    "execution": {
     "iopub.execute_input": "2025-07-30T13:55:58.277602Z",
     "iopub.status.busy": "2025-07-30T13:55:58.276935Z",
     "iopub.status.idle": "2025-07-30T13:55:58.296614Z",
     "shell.execute_reply": "2025-07-30T13:55:58.295623Z"
    },
    "papermill": {
     "duration": 0.050961,
     "end_time": "2025-07-30T13:55:58.298086",
     "exception": false,
     "start_time": "2025-07-30T13:55:58.247125",
     "status": "completed"
    },
    "tags": []
   },
   "outputs": [
    {
     "data": {
      "text/html": [
       "<div>\n",
       "<style scoped>\n",
       "    .dataframe tbody tr th:only-of-type {\n",
       "        vertical-align: middle;\n",
       "    }\n",
       "\n",
       "    .dataframe tbody tr th {\n",
       "        vertical-align: top;\n",
       "    }\n",
       "\n",
       "    .dataframe thead th {\n",
       "        text-align: right;\n",
       "    }\n",
       "</style>\n",
       "<table border=\"1\" class=\"dataframe\">\n",
       "  <thead>\n",
       "    <tr style=\"text-align: right;\">\n",
       "      <th></th>\n",
       "      <th>universe_id</th>\n",
       "      <th>universe_training_size</th>\n",
       "      <th>universe_scale</th>\n",
       "      <th>universe_model</th>\n",
       "      <th>universe_exclude_features</th>\n",
       "      <th>universe_exclude_subgroups</th>\n",
       "      <th>q_hat</th>\n",
       "      <th>coverage</th>\n",
       "      <th>avg_size</th>\n",
       "    </tr>\n",
       "  </thead>\n",
       "  <tbody>\n",
       "    <tr>\n",
       "      <th>0</th>\n",
       "      <td>5c459c611d5e90f178f49791f120824a</td>\n",
       "      <td>5k</td>\n",
       "      <td>scale</td>\n",
       "      <td>rf</td>\n",
       "      <td>none</td>\n",
       "      <td>drop-non-german</td>\n",
       "      <td>0.68</td>\n",
       "      <td>0.91341</td>\n",
       "      <td>1.147386</td>\n",
       "    </tr>\n",
       "  </tbody>\n",
       "</table>\n",
       "</div>"
      ],
      "text/plain": [
       "                        universe_id universe_training_size universe_scale  \\\n",
       "0  5c459c611d5e90f178f49791f120824a                     5k          scale   \n",
       "\n",
       "  universe_model universe_exclude_features universe_exclude_subgroups  q_hat  \\\n",
       "0             rf                      none            drop-non-german   0.68   \n",
       "\n",
       "   coverage  avg_size  \n",
       "0   0.91341  1.147386  "
      ]
     },
     "execution_count": 61,
     "metadata": {},
     "output_type": "execute_result"
    }
   ],
   "source": [
    "cp_metrics_df"
   ]
  },
  {
   "cell_type": "code",
   "execution_count": 62,
   "id": "b7fbde55-a0a1-47e4-9af6-fe4a17fa8c61",
   "metadata": {
    "execution": {
     "iopub.execute_input": "2025-07-30T13:55:58.349656Z",
     "iopub.status.busy": "2025-07-30T13:55:58.348801Z",
     "iopub.status.idle": "2025-07-30T13:55:58.354150Z",
     "shell.execute_reply": "2025-07-30T13:55:58.353094Z"
    },
    "papermill": {
     "duration": 0.032734,
     "end_time": "2025-07-30T13:55:58.355911",
     "exception": false,
     "start_time": "2025-07-30T13:55:58.323177",
     "status": "completed"
    },
    "tags": []
   },
   "outputs": [],
   "source": [
    "# Conditional Coverage & looking at subgroups"
   ]
  },
  {
   "cell_type": "code",
   "execution_count": 63,
   "id": "027ae886-68dd-4141-96c7-805a5450e1ef",
   "metadata": {
    "execution": {
     "iopub.execute_input": "2025-07-30T13:55:58.416944Z",
     "iopub.status.busy": "2025-07-30T13:55:58.416248Z",
     "iopub.status.idle": "2025-07-30T13:55:58.700694Z",
     "shell.execute_reply": "2025-07-30T13:55:58.699584Z"
    },
    "papermill": {
     "duration": 0.316504,
     "end_time": "2025-07-30T13:55:58.702603",
     "exception": false,
     "start_time": "2025-07-30T13:55:58.386099",
     "status": "completed"
    },
    "tags": []
   },
   "outputs": [],
   "source": [
    "from fairness_multiverse.conformal import build_cp_groups\n",
    "\n",
    "cp_groups_df = build_cp_groups(pred_sets, y_true, X_test.index, org_test)\n",
    "#needs universe_id and setting"
   ]
  },
  {
   "cell_type": "code",
   "execution_count": 64,
   "id": "01d5802c-663a-4d1f-9d69-e036faaffbf7",
   "metadata": {
    "execution": {
     "iopub.execute_input": "2025-07-30T13:55:58.754784Z",
     "iopub.status.busy": "2025-07-30T13:55:58.753979Z",
     "iopub.status.idle": "2025-07-30T13:55:58.760462Z",
     "shell.execute_reply": "2025-07-30T13:55:58.759330Z"
    },
    "papermill": {
     "duration": 0.03369,
     "end_time": "2025-07-30T13:55:58.762471",
     "exception": false,
     "start_time": "2025-07-30T13:55:58.728781",
     "status": "completed"
    },
    "tags": []
   },
   "outputs": [],
   "source": [
    "#delete\n",
    "#cp_groups_df"
   ]
  },
  {
   "cell_type": "code",
   "execution_count": 65,
   "id": "fa424af1-d1eb-443d-b717-2d279ada8408",
   "metadata": {
    "execution": {
     "iopub.execute_input": "2025-07-30T13:55:58.825070Z",
     "iopub.status.busy": "2025-07-30T13:55:58.824366Z",
     "iopub.status.idle": "2025-07-30T13:55:58.830182Z",
     "shell.execute_reply": "2025-07-30T13:55:58.829141Z"
    },
    "papermill": {
     "duration": 0.039111,
     "end_time": "2025-07-30T13:55:58.832007",
     "exception": false,
     "start_time": "2025-07-30T13:55:58.792896",
     "status": "completed"
    },
    "tags": []
   },
   "outputs": [],
   "source": [
    "#delete\n",
    "#percentage = (cp_groups_df['nongerman_female'] == 1).mean() * 100\n",
    "#print(percentage)\n"
   ]
  },
  {
   "cell_type": "code",
   "execution_count": 66,
   "id": "6cbdab96-b2b2-45af-ad54-d0516db2e28d",
   "metadata": {
    "execution": {
     "iopub.execute_input": "2025-07-30T13:55:58.895501Z",
     "iopub.status.busy": "2025-07-30T13:55:58.894818Z",
     "iopub.status.idle": "2025-07-30T13:56:00.271136Z",
     "shell.execute_reply": "2025-07-30T13:56:00.270324Z"
    },
    "papermill": {
     "duration": 1.40991,
     "end_time": "2025-07-30T13:56:00.272791",
     "exception": false,
     "start_time": "2025-07-30T13:55:58.862881",
     "status": "completed"
    },
    "tags": []
   },
   "outputs": [],
   "source": [
    "# Define covered = 1 if true_label is in the predicted set\n",
    "cp_groups_df['covered'] = cp_groups_df.apply(\n",
    "    lambda r: int(r['true_label'] in r['pred_set']),\n",
    "    axis=1\n",
    ")"
   ]
  },
  {
   "cell_type": "code",
   "execution_count": 67,
   "id": "338ff529-1a6b-4b87-a931-8e4788d52aad",
   "metadata": {
    "execution": {
     "iopub.execute_input": "2025-07-30T13:56:00.302637Z",
     "iopub.status.busy": "2025-07-30T13:56:00.302047Z",
     "iopub.status.idle": "2025-07-30T13:56:00.306350Z",
     "shell.execute_reply": "2025-07-30T13:56:00.305599Z"
    },
    "papermill": {
     "duration": 0.01981,
     "end_time": "2025-07-30T13:56:00.307644",
     "exception": false,
     "start_time": "2025-07-30T13:56:00.287834",
     "status": "completed"
    },
    "tags": []
   },
   "outputs": [],
   "source": [
    "#cp_groups_df"
   ]
  },
  {
   "cell_type": "code",
   "execution_count": 68,
   "id": "90032e27-66df-4540-9169-4e89cfbaa758",
   "metadata": {
    "execution": {
     "iopub.execute_input": "2025-07-30T13:56:00.336806Z",
     "iopub.status.busy": "2025-07-30T13:56:00.336311Z",
     "iopub.status.idle": "2025-07-30T13:56:00.345519Z",
     "shell.execute_reply": "2025-07-30T13:56:00.344756Z"
    },
    "papermill": {
     "duration": 0.024883,
     "end_time": "2025-07-30T13:56:00.346935",
     "exception": false,
     "start_time": "2025-07-30T13:56:00.322052",
     "status": "completed"
    },
    "tags": []
   },
   "outputs": [],
   "source": [
    "subgroups = ['frau1','nongerman','nongerman_male','nongerman_female']\n",
    "\n",
    "# Conditional coverage for subgroup==1\n",
    "cond_coverage = {\n",
    "    g: cp_groups_df.loc[cp_groups_df[g]==1, 'covered'].mean()\n",
    "    for g in subgroups\n",
    "}"
   ]
  },
  {
   "cell_type": "code",
   "execution_count": 69,
   "id": "1e348fb1-b9c3-45bc-ba23-f016827a7e0d",
   "metadata": {
    "execution": {
     "iopub.execute_input": "2025-07-30T13:56:00.377405Z",
     "iopub.status.busy": "2025-07-30T13:56:00.376905Z",
     "iopub.status.idle": "2025-07-30T13:56:00.383205Z",
     "shell.execute_reply": "2025-07-30T13:56:00.382519Z"
    },
    "papermill": {
     "duration": 0.022748,
     "end_time": "2025-07-30T13:56:00.384542",
     "exception": false,
     "start_time": "2025-07-30T13:56:00.361794",
     "status": "completed"
    },
    "tags": []
   },
   "outputs": [
    {
     "data": {
      "text/plain": [
       "{'frau1': 0.9073999191265669,\n",
       " 'nongerman': 0.9096727109414473,\n",
       " 'nongerman_male': 0.9306493740430515,\n",
       " 'nongerman_female': 0.8749627421758569}"
      ]
     },
     "execution_count": 69,
     "metadata": {},
     "output_type": "execute_result"
    }
   ],
   "source": [
    "cond_coverage"
   ]
  },
  {
   "cell_type": "code",
   "execution_count": 70,
   "id": "f5093324-c3dd-4d63-bc4c-8d945e5c8bbb",
   "metadata": {
    "execution": {
     "iopub.execute_input": "2025-07-30T13:56:00.466597Z",
     "iopub.status.busy": "2025-07-30T13:56:00.466070Z",
     "iopub.status.idle": "2025-07-30T13:56:00.472298Z",
     "shell.execute_reply": "2025-07-30T13:56:00.471407Z"
    },
    "papermill": {
     "duration": 0.023905,
     "end_time": "2025-07-30T13:56:00.473602",
     "exception": false,
     "start_time": "2025-07-30T13:56:00.449697",
     "status": "completed"
    },
    "tags": []
   },
   "outputs": [],
   "source": [
    "for subgroup, cov in cond_coverage.items():\n",
    "    cp_metrics_df[f\"cov_{subgroup}\"] = cov"
   ]
  },
  {
   "cell_type": "code",
   "execution_count": 71,
   "id": "6e872e10-dbe5-49e8-b554-5030c98ff75d",
   "metadata": {
    "execution": {
     "iopub.execute_input": "2025-07-30T13:56:00.502333Z",
     "iopub.status.busy": "2025-07-30T13:56:00.501715Z",
     "iopub.status.idle": "2025-07-30T13:56:00.514931Z",
     "shell.execute_reply": "2025-07-30T13:56:00.514166Z"
    },
    "papermill": {
     "duration": 0.028627,
     "end_time": "2025-07-30T13:56:00.516258",
     "exception": false,
     "start_time": "2025-07-30T13:56:00.487631",
     "status": "completed"
    },
    "tags": []
   },
   "outputs": [
    {
     "data": {
      "text/html": [
       "<div>\n",
       "<style scoped>\n",
       "    .dataframe tbody tr th:only-of-type {\n",
       "        vertical-align: middle;\n",
       "    }\n",
       "\n",
       "    .dataframe tbody tr th {\n",
       "        vertical-align: top;\n",
       "    }\n",
       "\n",
       "    .dataframe thead th {\n",
       "        text-align: right;\n",
       "    }\n",
       "</style>\n",
       "<table border=\"1\" class=\"dataframe\">\n",
       "  <thead>\n",
       "    <tr style=\"text-align: right;\">\n",
       "      <th></th>\n",
       "      <th>universe_id</th>\n",
       "      <th>universe_training_size</th>\n",
       "      <th>universe_scale</th>\n",
       "      <th>universe_model</th>\n",
       "      <th>universe_exclude_features</th>\n",
       "      <th>universe_exclude_subgroups</th>\n",
       "      <th>q_hat</th>\n",
       "      <th>coverage</th>\n",
       "      <th>avg_size</th>\n",
       "      <th>cov_frau1</th>\n",
       "      <th>cov_nongerman</th>\n",
       "      <th>cov_nongerman_male</th>\n",
       "      <th>cov_nongerman_female</th>\n",
       "    </tr>\n",
       "  </thead>\n",
       "  <tbody>\n",
       "    <tr>\n",
       "      <th>0</th>\n",
       "      <td>5c459c611d5e90f178f49791f120824a</td>\n",
       "      <td>5k</td>\n",
       "      <td>scale</td>\n",
       "      <td>rf</td>\n",
       "      <td>none</td>\n",
       "      <td>drop-non-german</td>\n",
       "      <td>0.68</td>\n",
       "      <td>0.91341</td>\n",
       "      <td>1.147386</td>\n",
       "      <td>0.9074</td>\n",
       "      <td>0.909673</td>\n",
       "      <td>0.930649</td>\n",
       "      <td>0.874963</td>\n",
       "    </tr>\n",
       "  </tbody>\n",
       "</table>\n",
       "</div>"
      ],
      "text/plain": [
       "                        universe_id universe_training_size universe_scale  \\\n",
       "0  5c459c611d5e90f178f49791f120824a                     5k          scale   \n",
       "\n",
       "  universe_model universe_exclude_features universe_exclude_subgroups  q_hat  \\\n",
       "0             rf                      none            drop-non-german   0.68   \n",
       "\n",
       "   coverage  avg_size  cov_frau1  cov_nongerman  cov_nongerman_male  \\\n",
       "0   0.91341  1.147386     0.9074       0.909673            0.930649   \n",
       "\n",
       "   cov_nongerman_female  \n",
       "0              0.874963  "
      ]
     },
     "execution_count": 71,
     "metadata": {},
     "output_type": "execute_result"
    }
   ],
   "source": [
    "cp_metrics_df"
   ]
  },
  {
   "cell_type": "markdown",
   "id": "33774451",
   "metadata": {
    "papermill": {
     "duration": 0.013988,
     "end_time": "2025-07-30T13:56:00.544719",
     "exception": false,
     "start_time": "2025-07-30T13:56:00.530731",
     "status": "completed"
    },
    "tags": []
   },
   "source": [
    "# (Fairness) Metrics"
   ]
  },
  {
   "cell_type": "code",
   "execution_count": 72,
   "id": "debc5d62",
   "metadata": {
    "execution": {
     "iopub.execute_input": "2025-07-30T13:56:00.574095Z",
     "iopub.status.busy": "2025-07-30T13:56:00.573434Z",
     "iopub.status.idle": "2025-07-30T13:56:00.587664Z",
     "shell.execute_reply": "2025-07-30T13:56:00.586878Z"
    },
    "papermill": {
     "duration": 0.030633,
     "end_time": "2025-07-30T13:56:00.589177",
     "exception": false,
     "start_time": "2025-07-30T13:56:00.558544",
     "status": "completed"
    },
    "tags": []
   },
   "outputs": [],
   "source": [
    "# do I need to include maxdeutsch1.missing?\n",
    "\n",
    "import numpy as np\n",
    "\n",
    "colname_to_bin = \"maxdeutsch1\"\n",
    "majority_value = org_train[colname_to_bin].mode()[0]\n",
    "\n",
    "org_test[\"majmin\"] = np.where(org_test[colname_to_bin] == majority_value, \"majority\", \"minority\")"
   ]
  },
  {
   "cell_type": "code",
   "execution_count": 73,
   "id": "06a50de5",
   "metadata": {
    "execution": {
     "iopub.execute_input": "2025-07-30T13:56:00.619262Z",
     "iopub.status.busy": "2025-07-30T13:56:00.618786Z",
     "iopub.status.idle": "2025-07-30T13:56:02.121671Z",
     "shell.execute_reply": "2025-07-30T13:56:02.120932Z"
    },
    "papermill": {
     "duration": 1.519181,
     "end_time": "2025-07-30T13:56:02.123061",
     "exception": false,
     "start_time": "2025-07-30T13:56:00.603880",
     "status": "completed"
    },
    "tags": []
   },
   "outputs": [],
   "source": [
    "example_universe = universe.copy()\n",
    "example_universe[\"cutoff\"] = example_universe[\"cutoff\"][0]\n",
    "example_universe[\"eval_fairness_grouping\"] = example_universe[\"eval_fairness_grouping\"][0]\n",
    "fairness_dict, metric_frame = universe_analysis.compute_metrics(\n",
    "    example_universe,\n",
    "    y_pred_prob=probs_test,\n",
    "    y_test=y_true,\n",
    "    org_test=org_test,\n",
    ")"
   ]
  },
  {
   "cell_type": "markdown",
   "id": "f95d4e02",
   "metadata": {
    "papermill": {
     "duration": 0.013756,
     "end_time": "2025-07-30T13:56:02.154558",
     "exception": false,
     "start_time": "2025-07-30T13:56:02.140802",
     "status": "completed"
    },
    "tags": []
   },
   "source": [
    "# Overall"
   ]
  },
  {
   "cell_type": "markdown",
   "id": "bdee4871",
   "metadata": {
    "papermill": {
     "duration": 0.025539,
     "end_time": "2025-07-30T13:56:02.207243",
     "exception": false,
     "start_time": "2025-07-30T13:56:02.181704",
     "status": "completed"
    },
    "tags": []
   },
   "source": [
    "Fairness\n",
    "Main fairness target: Equalized Odds. Seems to be a better fit than equal opportunity, since we're not only interested in Y = 1. Seems to be a better fit than demographic parity, since we also care about accuracy, not just equal distribution of preds.\n",
    "\n",
    "Pick column for computation of fairness metrics\n",
    "\n",
    "Performance\n",
    "Overall performance measures, most interesting in relation to the measures split by group below"
   ]
  },
  {
   "cell_type": "code",
   "execution_count": 74,
   "id": "c4e067c6",
   "metadata": {
    "execution": {
     "iopub.execute_input": "2025-07-30T13:56:02.264193Z",
     "iopub.status.busy": "2025-07-30T13:56:02.263246Z",
     "iopub.status.idle": "2025-07-30T13:56:02.271928Z",
     "shell.execute_reply": "2025-07-30T13:56:02.270900Z"
    },
    "papermill": {
     "duration": 0.039545,
     "end_time": "2025-07-30T13:56:02.273785",
     "exception": false,
     "start_time": "2025-07-30T13:56:02.234240",
     "status": "completed"
    },
    "tags": []
   },
   "outputs": [
    {
     "data": {
      "text/plain": [
       "accuracy                   0.196589\n",
       "balanced accuracy          0.533289\n",
       "f1                         0.239501\n",
       "precision                  0.136301\n",
       "false positive rate        0.919606\n",
       "false negative rate        0.013816\n",
       "selection rate             0.928146\n",
       "count                  89710.000000\n",
       "dtype: float64"
      ]
     },
     "execution_count": 74,
     "metadata": {},
     "output_type": "execute_result"
    }
   ],
   "source": [
    "metric_frame.overall"
   ]
  },
  {
   "cell_type": "markdown",
   "id": "e968fe9d",
   "metadata": {
    "papermill": {
     "duration": 0.028178,
     "end_time": "2025-07-30T13:56:02.330928",
     "exception": false,
     "start_time": "2025-07-30T13:56:02.302750",
     "status": "completed"
    },
    "tags": []
   },
   "source": [
    "By Group"
   ]
  },
  {
   "cell_type": "code",
   "execution_count": 75,
   "id": "ec325bce",
   "metadata": {
    "execution": {
     "iopub.execute_input": "2025-07-30T13:56:02.364101Z",
     "iopub.status.busy": "2025-07-30T13:56:02.363583Z",
     "iopub.status.idle": "2025-07-30T13:56:02.378853Z",
     "shell.execute_reply": "2025-07-30T13:56:02.377814Z"
    },
    "papermill": {
     "duration": 0.035225,
     "end_time": "2025-07-30T13:56:02.383612",
     "exception": false,
     "start_time": "2025-07-30T13:56:02.348387",
     "status": "completed"
    },
    "tags": []
   },
   "outputs": [
    {
     "data": {
      "text/html": [
       "<div>\n",
       "<style scoped>\n",
       "    .dataframe tbody tr th:only-of-type {\n",
       "        vertical-align: middle;\n",
       "    }\n",
       "\n",
       "    .dataframe tbody tr th {\n",
       "        vertical-align: top;\n",
       "    }\n",
       "\n",
       "    .dataframe thead th {\n",
       "        text-align: right;\n",
       "    }\n",
       "</style>\n",
       "<table border=\"1\" class=\"dataframe\">\n",
       "  <thead>\n",
       "    <tr style=\"text-align: right;\">\n",
       "      <th></th>\n",
       "      <th>accuracy</th>\n",
       "      <th>balanced accuracy</th>\n",
       "      <th>f1</th>\n",
       "      <th>precision</th>\n",
       "      <th>false positive rate</th>\n",
       "      <th>false negative rate</th>\n",
       "      <th>selection rate</th>\n",
       "      <th>count</th>\n",
       "    </tr>\n",
       "    <tr>\n",
       "      <th>majmin</th>\n",
       "      <th></th>\n",
       "      <th></th>\n",
       "      <th></th>\n",
       "      <th></th>\n",
       "      <th></th>\n",
       "      <th></th>\n",
       "      <th></th>\n",
       "      <th></th>\n",
       "    </tr>\n",
       "  </thead>\n",
       "  <tbody>\n",
       "    <tr>\n",
       "      <th>majority</th>\n",
       "      <td>0.203513</td>\n",
       "      <td>0.535788</td>\n",
       "      <td>0.246777</td>\n",
       "      <td>0.141009</td>\n",
       "      <td>0.915842</td>\n",
       "      <td>0.012582</td>\n",
       "      <td>0.925300</td>\n",
       "      <td>69170.0</td>\n",
       "    </tr>\n",
       "    <tr>\n",
       "      <th>minority</th>\n",
       "      <td>0.173272</td>\n",
       "      <td>0.524690</td>\n",
       "      <td>0.214897</td>\n",
       "      <td>0.120658</td>\n",
       "      <td>0.932038</td>\n",
       "      <td>0.018581</td>\n",
       "      <td>0.937731</td>\n",
       "      <td>20540.0</td>\n",
       "    </tr>\n",
       "  </tbody>\n",
       "</table>\n",
       "</div>"
      ],
      "text/plain": [
       "          accuracy  balanced accuracy        f1  precision  \\\n",
       "majmin                                                       \n",
       "majority  0.203513           0.535788  0.246777   0.141009   \n",
       "minority  0.173272           0.524690  0.214897   0.120658   \n",
       "\n",
       "          false positive rate  false negative rate  selection rate    count  \n",
       "majmin                                                                       \n",
       "majority             0.915842             0.012582        0.925300  69170.0  \n",
       "minority             0.932038             0.018581        0.937731  20540.0  "
      ]
     },
     "execution_count": 75,
     "metadata": {},
     "output_type": "execute_result"
    }
   ],
   "source": [
    "metric_frame.by_group"
   ]
  },
  {
   "cell_type": "code",
   "execution_count": 76,
   "id": "a9ddbe63",
   "metadata": {
    "execution": {
     "iopub.execute_input": "2025-07-30T13:56:02.457386Z",
     "iopub.status.busy": "2025-07-30T13:56:02.456978Z",
     "iopub.status.idle": "2025-07-30T13:56:04.692903Z",
     "shell.execute_reply": "2025-07-30T13:56:04.691922Z"
    },
    "papermill": {
     "duration": 2.281317,
     "end_time": "2025-07-30T13:56:04.694713",
     "exception": false,
     "start_time": "2025-07-30T13:56:02.413396",
     "status": "completed"
    },
    "tags": []
   },
   "outputs": [
    {
     "data": {
      "text/plain": [
       "array([[<Axes: title={'center': 'accuracy'}, xlabel='majmin'>,\n",
       "        <Axes: title={'center': 'balanced accuracy'}, xlabel='majmin'>,\n",
       "        <Axes: title={'center': 'f1'}, xlabel='majmin'>],\n",
       "       [<Axes: title={'center': 'precision'}, xlabel='majmin'>,\n",
       "        <Axes: title={'center': 'false positive rate'}, xlabel='majmin'>,\n",
       "        <Axes: title={'center': 'false negative rate'}, xlabel='majmin'>],\n",
       "       [<Axes: title={'center': 'selection rate'}, xlabel='majmin'>,\n",
       "        <Axes: title={'center': 'count'}, xlabel='majmin'>,\n",
       "        <Axes: xlabel='majmin'>]], dtype=object)"
      ]
     },
     "execution_count": 76,
     "metadata": {},
     "output_type": "execute_result"
    },
    {
     "data": {
      "image/png": "[encoded data removed]",
      "text/plain": [
       "<Figure size 1200x800 with 9 Axes>"
      ]
     },
     "metadata": {},
     "output_type": "display_data"
    }
   ],
   "source": [
    "# In a graphic\n",
    "metric_frame.by_group.plot.bar(\n",
    "    subplots=True,\n",
    "    layout=[3, 3],\n",
    "    legend=False,\n",
    "    figsize=[12, 8],\n",
    "    title=\"Show all metrics\",\n",
    ")"
   ]
  },
  {
   "cell_type": "markdown",
   "id": "f57a0bac",
   "metadata": {
    "papermill": {
     "duration": 0.027788,
     "end_time": "2025-07-30T13:56:04.751791",
     "exception": false,
     "start_time": "2025-07-30T13:56:04.724003",
     "status": "completed"
    },
    "tags": []
   },
   "source": [
    "# Final Output"
   ]
  },
  {
   "cell_type": "code",
   "execution_count": 77,
   "id": "96d280a3",
   "metadata": {
    "execution": {
     "iopub.execute_input": "2025-07-30T13:56:04.809821Z",
     "iopub.status.busy": "2025-07-30T13:56:04.809213Z",
     "iopub.status.idle": "2025-07-30T13:56:04.816989Z",
     "shell.execute_reply": "2025-07-30T13:56:04.816099Z"
    },
    "papermill": {
     "duration": 0.037874,
     "end_time": "2025-07-30T13:56:04.818564",
     "exception": false,
     "start_time": "2025-07-30T13:56:04.780690",
     "status": "completed"
    },
    "tags": []
   },
   "outputs": [
    {
     "data": {
      "text/plain": [
       "4"
      ]
     },
     "execution_count": 77,
     "metadata": {},
     "output_type": "execute_result"
    }
   ],
   "source": [
    "sub_universes = universe_analysis.generate_sub_universes()\n",
    "len(sub_universes)"
   ]
  },
  {
   "cell_type": "code",
   "execution_count": 78,
   "id": "92adf7ba",
   "metadata": {
    "execution": {
     "iopub.execute_input": "2025-07-30T13:56:04.878872Z",
     "iopub.status.busy": "2025-07-30T13:56:04.878322Z",
     "iopub.status.idle": "2025-07-30T13:56:04.885302Z",
     "shell.execute_reply": "2025-07-30T13:56:04.884283Z"
    },
    "papermill": {
     "duration": 0.039352,
     "end_time": "2025-07-30T13:56:04.886969",
     "exception": false,
     "start_time": "2025-07-30T13:56:04.847617",
     "status": "completed"
    },
    "tags": []
   },
   "outputs": [],
   "source": [
    "def filter_sub_universe_data(sub_universe, org_test):\n",
    "    # Keep all rows — no filtering\n",
    "    keep_rows_mask = np.ones(org_test.shape[0], dtype=bool)\n",
    "\n",
    "    print(f\"[INFO] Keeping all rows: {keep_rows_mask.sum()} rows retained.\")\n",
    "    return keep_rows_mask"
   ]
  },
  {
   "cell_type": "code",
   "execution_count": 79,
   "id": "4a759155",
   "metadata": {
    "execution": {
     "iopub.execute_input": "2025-07-30T13:56:04.952163Z",
     "iopub.status.busy": "2025-07-30T13:56:04.951463Z",
     "iopub.status.idle": "2025-07-30T13:56:12.802216Z",
     "shell.execute_reply": "2025-07-30T13:56:12.801262Z"
    },
    "papermill": {
     "duration": 7.886738,
     "end_time": "2025-07-30T13:56:12.803963",
     "exception": false,
     "start_time": "2025-07-30T13:56:04.917225",
     "status": "completed"
    },
    "tags": []
   },
   "outputs": [
    {
     "name": "stdout",
     "output_type": "stream",
     "text": [
      "Stopping execution_time clock.\n",
      "[INFO] Keeping all rows: 89710 rows retained.\n"
     ]
    },
    {
     "name": "stdout",
     "output_type": "stream",
     "text": [
      "[INFO] Keeping all rows: 89710 rows retained.\n"
     ]
    },
    {
     "name": "stdout",
     "output_type": "stream",
     "text": [
      "[INFO] Keeping all rows: 89710 rows retained.\n"
     ]
    },
    {
     "name": "stdout",
     "output_type": "stream",
     "text": [
      "[INFO] Keeping all rows: 89710 rows retained.\n"
     ]
    },
    {
     "data": {
      "text/html": [
       "<div>\n",
       "<style scoped>\n",
       "    .dataframe tbody tr th:only-of-type {\n",
       "        vertical-align: middle;\n",
       "    }\n",
       "\n",
       "    .dataframe tbody tr th {\n",
       "        vertical-align: top;\n",
       "    }\n",
       "\n",
       "    .dataframe thead th {\n",
       "        text-align: right;\n",
       "    }\n",
       "</style>\n",
       "<table border=\"1\" class=\"dataframe\">\n",
       "  <thead>\n",
       "    <tr style=\"text-align: right;\">\n",
       "      <th></th>\n",
       "      <th>run_no</th>\n",
       "      <th>universe_id</th>\n",
       "      <th>universe_settings</th>\n",
       "      <th>execution_time</th>\n",
       "      <th>test_size_n</th>\n",
       "      <th>test_size_frac</th>\n",
       "      <th>fair_main_equalized_odds_difference</th>\n",
       "      <th>fair_main_equalized_odds_ratio</th>\n",
       "      <th>fair_main_demographic_parity_difference</th>\n",
       "      <th>fair_main_demographic_parity_ratio</th>\n",
       "      <th>...</th>\n",
       "      <th>perf_grp_precision_0</th>\n",
       "      <th>perf_grp_precision_1</th>\n",
       "      <th>perf_grp_false positive rate_0</th>\n",
       "      <th>perf_grp_false positive rate_1</th>\n",
       "      <th>perf_grp_false negative rate_0</th>\n",
       "      <th>perf_grp_false negative rate_1</th>\n",
       "      <th>perf_grp_selection rate_0</th>\n",
       "      <th>perf_grp_selection rate_1</th>\n",
       "      <th>perf_grp_count_0</th>\n",
       "      <th>perf_grp_count_1</th>\n",
       "    </tr>\n",
       "  </thead>\n",
       "  <tbody>\n",
       "    <tr>\n",
       "      <th>0</th>\n",
       "      <td>12</td>\n",
       "      <td>5c459c611d5e90f178f49791f120824a</td>\n",
       "      <td>{\"cutoff\": \"quantile_0.1\", \"eval_fairness_grou...</td>\n",
       "      <td>29.863221</td>\n",
       "      <td>89710</td>\n",
       "      <td>1.0</td>\n",
       "      <td>0.016196</td>\n",
       "      <td>0.982623</td>\n",
       "      <td>0.012431</td>\n",
       "      <td>0.986743</td>\n",
       "      <td>...</td>\n",
       "      <td>NaN</td>\n",
       "      <td>NaN</td>\n",
       "      <td>NaN</td>\n",
       "      <td>NaN</td>\n",
       "      <td>NaN</td>\n",
       "      <td>NaN</td>\n",
       "      <td>NaN</td>\n",
       "      <td>NaN</td>\n",
       "      <td>NaN</td>\n",
       "      <td>NaN</td>\n",
       "    </tr>\n",
       "    <tr>\n",
       "      <th>0</th>\n",
       "      <td>12</td>\n",
       "      <td>5c459c611d5e90f178f49791f120824a</td>\n",
       "      <td>{\"cutoff\": \"quantile_0.1\", \"eval_fairness_grou...</td>\n",
       "      <td>29.863221</td>\n",
       "      <td>89710</td>\n",
       "      <td>1.0</td>\n",
       "      <td>0.016196</td>\n",
       "      <td>0.982623</td>\n",
       "      <td>0.012431</td>\n",
       "      <td>0.986743</td>\n",
       "      <td>...</td>\n",
       "      <td>0.120658</td>\n",
       "      <td>0.141009</td>\n",
       "      <td>0.932038</td>\n",
       "      <td>0.915842</td>\n",
       "      <td>0.018581</td>\n",
       "      <td>0.012582</td>\n",
       "      <td>0.937731</td>\n",
       "      <td>0.925300</td>\n",
       "      <td>20540.0</td>\n",
       "      <td>69170.0</td>\n",
       "    </tr>\n",
       "    <tr>\n",
       "      <th>0</th>\n",
       "      <td>12</td>\n",
       "      <td>5c459c611d5e90f178f49791f120824a</td>\n",
       "      <td>{\"cutoff\": \"quantile_0.25\", \"eval_fairness_gro...</td>\n",
       "      <td>29.863221</td>\n",
       "      <td>89710</td>\n",
       "      <td>1.0</td>\n",
       "      <td>0.041940</td>\n",
       "      <td>0.948888</td>\n",
       "      <td>0.026465</td>\n",
       "      <td>0.966336</td>\n",
       "      <td>...</td>\n",
       "      <td>NaN</td>\n",
       "      <td>NaN</td>\n",
       "      <td>NaN</td>\n",
       "      <td>NaN</td>\n",
       "      <td>NaN</td>\n",
       "      <td>NaN</td>\n",
       "      <td>NaN</td>\n",
       "      <td>NaN</td>\n",
       "      <td>NaN</td>\n",
       "      <td>NaN</td>\n",
       "    </tr>\n",
       "    <tr>\n",
       "      <th>0</th>\n",
       "      <td>12</td>\n",
       "      <td>5c459c611d5e90f178f49791f120824a</td>\n",
       "      <td>{\"cutoff\": \"quantile_0.25\", \"eval_fairness_gro...</td>\n",
       "      <td>29.863221</td>\n",
       "      <td>89710</td>\n",
       "      <td>1.0</td>\n",
       "      <td>0.041940</td>\n",
       "      <td>0.948888</td>\n",
       "      <td>0.026465</td>\n",
       "      <td>0.966336</td>\n",
       "      <td>...</td>\n",
       "      <td>0.132215</td>\n",
       "      <td>0.164113</td>\n",
       "      <td>0.771131</td>\n",
       "      <td>0.731717</td>\n",
       "      <td>0.098395</td>\n",
       "      <td>0.056455</td>\n",
       "      <td>0.786173</td>\n",
       "      <td>0.759708</td>\n",
       "      <td>20540.0</td>\n",
       "      <td>69170.0</td>\n",
       "    </tr>\n",
       "  </tbody>\n",
       "</table>\n",
       "<p>4 rows × 50 columns</p>\n",
       "</div>"
      ],
      "text/plain": [
       "  run_no                       universe_id  \\\n",
       "0     12  5c459c611d5e90f178f49791f120824a   \n",
       "0     12  5c459c611d5e90f178f49791f120824a   \n",
       "0     12  5c459c611d5e90f178f49791f120824a   \n",
       "0     12  5c459c611d5e90f178f49791f120824a   \n",
       "\n",
       "                                   universe_settings  execution_time  \\\n",
       "0  {\"cutoff\": \"quantile_0.1\", \"eval_fairness_grou...       29.863221   \n",
       "0  {\"cutoff\": \"quantile_0.1\", \"eval_fairness_grou...       29.863221   \n",
       "0  {\"cutoff\": \"quantile_0.25\", \"eval_fairness_gro...       29.863221   \n",
       "0  {\"cutoff\": \"quantile_0.25\", \"eval_fairness_gro...       29.863221   \n",
       "\n",
       "   test_size_n  test_size_frac  fair_main_equalized_odds_difference  \\\n",
       "0        89710             1.0                             0.016196   \n",
       "0        89710             1.0                             0.016196   \n",
       "0        89710             1.0                             0.041940   \n",
       "0        89710             1.0                             0.041940   \n",
       "\n",
       "   fair_main_equalized_odds_ratio  fair_main_demographic_parity_difference  \\\n",
       "0                        0.982623                                 0.012431   \n",
       "0                        0.982623                                 0.012431   \n",
       "0                        0.948888                                 0.026465   \n",
       "0                        0.948888                                 0.026465   \n",
       "\n",
       "   fair_main_demographic_parity_ratio  ...  perf_grp_precision_0  \\\n",
       "0                            0.986743  ...                   NaN   \n",
       "0                            0.986743  ...              0.120658   \n",
       "0                            0.966336  ...                   NaN   \n",
       "0                            0.966336  ...              0.132215   \n",
       "\n",
       "   perf_grp_precision_1  perf_grp_false positive rate_0  \\\n",
       "0                   NaN                             NaN   \n",
       "0              0.141009                        0.932038   \n",
       "0                   NaN                             NaN   \n",
       "0              0.164113                        0.771131   \n",
       "\n",
       "   perf_grp_false positive rate_1  perf_grp_false negative rate_0  \\\n",
       "0                             NaN                             NaN   \n",
       "0                        0.915842                        0.018581   \n",
       "0                             NaN                             NaN   \n",
       "0                        0.731717                        0.098395   \n",
       "\n",
       "   perf_grp_false negative rate_1  perf_grp_selection rate_0  \\\n",
       "0                             NaN                        NaN   \n",
       "0                        0.012582                   0.937731   \n",
       "0                             NaN                        NaN   \n",
       "0                        0.056455                   0.786173   \n",
       "\n",
       "   perf_grp_selection rate_1  perf_grp_count_0  perf_grp_count_1  \n",
       "0                        NaN               NaN               NaN  \n",
       "0                   0.925300           20540.0           69170.0  \n",
       "0                        NaN               NaN               NaN  \n",
       "0                   0.759708           20540.0           69170.0  \n",
       "\n",
       "[4 rows x 50 columns]"
      ]
     },
     "execution_count": 79,
     "metadata": {},
     "output_type": "execute_result"
    }
   ],
   "source": [
    "final_output = universe_analysis.generate_final_output(\n",
    "    y_pred_prob=probs_test,\n",
    "    y_test=y_true,\n",
    "    org_test=org_test,\n",
    "    filter_data=filter_sub_universe_data,\n",
    "    cp_metrics_df=cp_metrics_df,\n",
    "    save=True,\n",
    ")\n",
    "final_output"
   ]
  },
  {
   "cell_type": "code",
   "execution_count": null,
   "id": "721ff514-cb11-46f8-b6fc-50392f74b5cb",
   "metadata": {
    "papermill": {
     "duration": 0.032865,
     "end_time": "2025-07-30T13:56:12.869120",
     "exception": false,
     "start_time": "2025-07-30T13:56:12.836255",
     "status": "completed"
    },
    "tags": []
   },
   "outputs": [],
   "source": []
  }
 ],
 "metadata": {
  "celltoolbar": "Tags",
  "kernelspec": {
   "display_name": "Python (CMA Fairness)",
   "language": "python",
   "name": "cma_fair_env"
  },
  "language_info": {
   "codemirror_mode": {
    "name": "ipython",
    "version": 3
   },
   "file_extension": ".py",
   "mimetype": "text/x-python",
   "name": "python",
   "nbconvert_exporter": "python",
   "pygments_lexer": "ipython3",
   "version": "3.10.12"
  },
  "papermill": {
   "default_parameters": {},
   "duration": 42.150052,
   "end_time": "2025-07-30T13:56:13.720907",
   "environment_variables": {},
   "exception": null,
   "input_path": "universe_analysis.ipynb",
   "output_path": "output/runs/12/notebooks/m_12-5c459c611d5e90f178f49791f120824a.ipynb",
   "parameters": {
    "output_dir": "output",
    "run_no": "12",
    "seed": "2023",
    "universe": "{\"cutoff\": [\"quantile_0.1\", \"quantile_0.25\"], \"eval_fairness_grouping\": [\"majority-minority\", \"nationality-all\"], \"exclude_features\": \"none\", \"exclude_subgroups\": \"drop-non-german\", \"model\": \"rf\", \"scale\": \"scale\", \"training_size\": \"5k\", \"training_year\": \"2012_14\"}",
    "universe_id": "5c459c611d5e90f178f49791f120824a"
   },
   "start_time": "2025-07-30T13:55:31.570855",
   "version": "2.6.0"
  }
 },
 "nbformat": 4,
 "nbformat_minor": 5
}