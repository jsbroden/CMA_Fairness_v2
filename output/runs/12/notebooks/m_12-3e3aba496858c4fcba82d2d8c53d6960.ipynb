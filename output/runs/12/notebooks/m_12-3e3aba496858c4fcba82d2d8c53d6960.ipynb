{
 "cells": [
  {
   "cell_type": "code",
   "execution_count": 1,
   "id": "f159f837-637b-42ba-96b5-ec9a68c44524",
   "metadata": {
    "execution": {
     "iopub.execute_input": "2025-07-30T14:05:19.593452Z",
     "iopub.status.busy": "2025-07-30T14:05:19.592651Z",
     "iopub.status.idle": "2025-07-30T14:05:19.605549Z",
     "shell.execute_reply": "2025-07-30T14:05:19.604594Z"
    },
    "papermill": {
     "duration": 0.034339,
     "end_time": "2025-07-30T14:05:19.607062",
     "exception": false,
     "start_time": "2025-07-30T14:05:19.572723",
     "status": "completed"
    },
    "tags": []
   },
   "outputs": [
    {
     "name": "stdout",
     "output_type": "stream",
     "text": [
      "/dss/dsshome1/0C/ra93lal2/cma/CMA_Fairness_v2\n"
     ]
    },
    {
     "name": "stderr",
     "output_type": "stream",
     "text": [
      "/dss/dsshome1/0C/ra93lal2/.local/share/virtualenvs/CMA_Fairness_v2-3j10GkSs/lib/python3.10/site-packages/IPython/core/magics/osm.py:393: UserWarning: This is now an optional IPython functionality, using bookmarks requires you to install the `pickleshare` library.\n",
      "  bkms = self.shell.db.get('bookmarks', {})\n",
      "/dss/dsshome1/0C/ra93lal2/.local/share/virtualenvs/CMA_Fairness_v2-3j10GkSs/lib/python3.10/site-packages/IPython/core/magics/osm.py:417: UserWarning: This is now an optional IPython functionality, setting dhist requires you to install the `pickleshare` library.\n",
      "  self.shell.db['dhist'] = compress_dhist(dhist)[-100:]\n"
     ]
    }
   ],
   "source": [
    "%cd ~/cma/CMA_Fairness_v2"
   ]
  },
  {
   "cell_type": "markdown",
   "id": "de2603b9",
   "metadata": {
    "papermill": {
     "duration": 0.017662,
     "end_time": "2025-07-30T14:05:19.643037",
     "exception": false,
     "start_time": "2025-07-30T14:05:19.625375",
     "status": "completed"
    },
    "tags": []
   },
   "source": [
    "The following cell holds the definition of our parameters, these values can be overriden by rendering the with e.g. the following command:\n",
    "\n",
    "papermill -p alpha 0.2 -p ratio 0.3 universe_analysis.ipynb output/test_run.ipynb"
   ]
  },
  {
   "cell_type": "code",
   "execution_count": 2,
   "id": "a80968a0-40bb-4fa9-85ef-2d5eefb01975",
   "metadata": {
    "execution": {
     "iopub.execute_input": "2025-07-30T14:05:19.679869Z",
     "iopub.status.busy": "2025-07-30T14:05:19.679268Z",
     "iopub.status.idle": "2025-07-30T14:05:19.684910Z",
     "shell.execute_reply": "2025-07-30T14:05:19.683895Z"
    },
    "papermill": {
     "duration": 0.025837,
     "end_time": "2025-07-30T14:05:19.686559",
     "exception": false,
     "start_time": "2025-07-30T14:05:19.660722",
     "status": "completed"
    },
    "tags": []
   },
   "outputs": [
    {
     "name": "stdout",
     "output_type": "stream",
     "text": [
      "Current working directory: /dss/dsshome1/0C/ra93lal2/cma/CMA_Fairness_v2\n"
     ]
    }
   ],
   "source": [
    "import os\n",
    "print(\"Current working directory:\", os.getcwd())"
   ]
  },
  {
   "cell_type": "code",
   "execution_count": 3,
   "id": "2dce4c03",
   "metadata": {
    "execution": {
     "iopub.execute_input": "2025-07-30T14:05:19.724454Z",
     "iopub.status.busy": "2025-07-30T14:05:19.723685Z",
     "iopub.status.idle": "2025-07-30T14:05:19.729786Z",
     "shell.execute_reply": "2025-07-30T14:05:19.728892Z"
    },
    "papermill": {
     "duration": 0.026232,
     "end_time": "2025-07-30T14:05:19.731440",
     "exception": false,
     "start_time": "2025-07-30T14:05:19.705208",
     "status": "completed"
    },
    "tags": [
     "parameters"
    ]
   },
   "outputs": [],
   "source": [
    "run_no = 0\n",
    "universe_id = \"test\"\n",
    "universe = {\n",
    "    \"training_size\": \"25k\", # \"25k\", \"5k\", \"1k\"\n",
    "    \"training_year\": \"2014\", # \"2014\", \"2012_14\", \"2010_14\"\n",
    "    \"scale\": \"scale\", # \"scale\", \"do-not-scale\",\n",
    "    #\"stratify_split\": \"target\", # \"none\", \"target\", \"protected-attribute\", \"both\",\n",
    "    \"model\": \"elasticnet\", # \"logreg\", \"penalized_logreg\", \"rf\", \"gbm\", \"elasticnet\"\n",
    "    \"cutoff\": [\"quantile_0.15\", \"quantile_0.30\"],\n",
    "    \"exclude_features\": \"age\", # \"none\", \"nationality\", \"sex\", \"nationality-sex\", \"age\"\n",
    "    \"exclude_subgroups\": \"keep-all\", # \"keep-all\", \"drop-non-german\"\n",
    "    \"eval_fairness_grouping\": [\"majority-minority\", \"nationality-all\"]\n",
    "}\n",
    "\n",
    "output_dir=\"./output\"\n",
    "seed=0"
   ]
  },
  {
   "cell_type": "code",
   "execution_count": 4,
   "id": "e14899ca",
   "metadata": {
    "execution": {
     "iopub.execute_input": "2025-07-30T14:05:19.769472Z",
     "iopub.status.busy": "2025-07-30T14:05:19.768802Z",
     "iopub.status.idle": "2025-07-30T14:05:19.774651Z",
     "shell.execute_reply": "2025-07-30T14:05:19.773797Z"
    },
    "papermill": {
     "duration": 0.025874,
     "end_time": "2025-07-30T14:05:19.776130",
     "exception": false,
     "start_time": "2025-07-30T14:05:19.750256",
     "status": "completed"
    },
    "tags": [
     "injected-parameters"
    ]
   },
   "outputs": [],
   "source": [
    "# Parameters\n",
    "universe_id = \"3e3aba496858c4fcba82d2d8c53d6960\"\n",
    "run_no = \"12\"\n",
    "universe = \"{\\\"cutoff\\\": [\\\"quantile_0.1\\\", \\\"quantile_0.25\\\"], \\\"eval_fairness_grouping\\\": [\\\"majority-minority\\\", \\\"nationality-all\\\"], \\\"exclude_features\\\": \\\"age\\\", \\\"exclude_subgroups\\\": \\\"drop-non-german\\\", \\\"model\\\": \\\"elasticnet\\\", \\\"scale\\\": \\\"do-not-scale\\\", \\\"training_size\\\": \\\"5k\\\", \\\"training_year\\\": \\\"2012_14\\\"}\"\n",
    "output_dir = \"output\"\n",
    "seed = \"2023\"\n"
   ]
  },
  {
   "cell_type": "code",
   "execution_count": 5,
   "id": "1650acaf",
   "metadata": {
    "execution": {
     "iopub.execute_input": "2025-07-30T14:05:19.814524Z",
     "iopub.status.busy": "2025-07-30T14:05:19.813944Z",
     "iopub.status.idle": "2025-07-30T14:05:19.818689Z",
     "shell.execute_reply": "2025-07-30T14:05:19.817843Z"
    },
    "papermill": {
     "duration": 0.025327,
     "end_time": "2025-07-30T14:05:19.820254",
     "exception": false,
     "start_time": "2025-07-30T14:05:19.794927",
     "status": "completed"
    },
    "tags": []
   },
   "outputs": [],
   "source": [
    "import json\n",
    "# Parse universe into dict if it is passed as a string\n",
    "if isinstance(universe, str):\n",
    "    universe = json.loads(universe)"
   ]
  },
  {
   "cell_type": "code",
   "execution_count": 6,
   "id": "16620c48",
   "metadata": {
    "execution": {
     "iopub.execute_input": "2025-07-30T14:05:19.858822Z",
     "iopub.status.busy": "2025-07-30T14:05:19.858258Z",
     "iopub.status.idle": "2025-07-30T14:05:19.900564Z",
     "shell.execute_reply": "2025-07-30T14:05:19.899721Z"
    },
    "papermill": {
     "duration": 0.062773,
     "end_time": "2025-07-30T14:05:19.902147",
     "exception": false,
     "start_time": "2025-07-30T14:05:19.839374",
     "status": "completed"
    },
    "tags": []
   },
   "outputs": [],
   "source": [
    "# Auto-reload the custom package\n",
    "%load_ext autoreload\n",
    "%autoreload 1\n",
    "%aimport fairness_multiverse"
   ]
  },
  {
   "cell_type": "code",
   "execution_count": 7,
   "id": "01c5c9f3",
   "metadata": {
    "execution": {
     "iopub.execute_input": "2025-07-30T14:05:19.940522Z",
     "iopub.status.busy": "2025-07-30T14:05:19.939738Z",
     "iopub.status.idle": "2025-07-30T14:05:21.747071Z",
     "shell.execute_reply": "2025-07-30T14:05:21.746067Z"
    },
    "papermill": {
     "duration": 1.828192,
     "end_time": "2025-07-30T14:05:21.748949",
     "exception": false,
     "start_time": "2025-07-30T14:05:19.920757",
     "status": "completed"
    },
    "tags": []
   },
   "outputs": [],
   "source": [
    "from fairness_multiverse.universe import UniverseAnalysis\n",
    "\n",
    "universe_analysis = UniverseAnalysis(\n",
    "    run_no = run_no,\n",
    "    universe_id = universe_id,\n",
    "    universe = universe,\n",
    "    output_dir=output_dir,\n",
    ")"
   ]
  },
  {
   "cell_type": "code",
   "execution_count": 8,
   "id": "106241f5",
   "metadata": {
    "execution": {
     "iopub.execute_input": "2025-07-30T14:05:21.788239Z",
     "iopub.status.busy": "2025-07-30T14:05:21.787413Z",
     "iopub.status.idle": "2025-07-30T14:05:21.793921Z",
     "shell.execute_reply": "2025-07-30T14:05:21.792861Z"
    },
    "papermill": {
     "duration": 0.027386,
     "end_time": "2025-07-30T14:05:21.795490",
     "exception": false,
     "start_time": "2025-07-30T14:05:21.768104",
     "status": "completed"
    },
    "tags": []
   },
   "outputs": [
    {
     "name": "stdout",
     "output_type": "stream",
     "text": [
      "Using Seed: 2023\n"
     ]
    }
   ],
   "source": [
    "import numpy as np\n",
    "parsed_seed = int(seed)\n",
    "np.random.seed(parsed_seed)\n",
    "print(f\"Using Seed: {parsed_seed}\")"
   ]
  },
  {
   "cell_type": "markdown",
   "id": "e0ebdc57",
   "metadata": {
    "papermill": {
     "duration": 0.018332,
     "end_time": "2025-07-30T14:05:21.833377",
     "exception": false,
     "start_time": "2025-07-30T14:05:21.815045",
     "status": "completed"
    },
    "tags": []
   },
   "source": [
    "# Loading Data"
   ]
  },
  {
   "cell_type": "markdown",
   "id": "681925a3",
   "metadata": {
    "papermill": {
     "duration": 0.018326,
     "end_time": "2025-07-30T14:05:21.869979",
     "exception": false,
     "start_time": "2025-07-30T14:05:21.851653",
     "status": "completed"
    },
    "tags": []
   },
   "source": [
    "Load siab_train, siab_test, siab_calib and/or \n",
    "load siab_train_features, siab_train_labels"
   ]
  },
  {
   "cell_type": "code",
   "execution_count": 9,
   "id": "f0496b8a",
   "metadata": {
    "execution": {
     "iopub.execute_input": "2025-07-30T14:05:21.908426Z",
     "iopub.status.busy": "2025-07-30T14:05:21.907732Z",
     "iopub.status.idle": "2025-07-30T14:05:33.630538Z",
     "shell.execute_reply": "2025-07-30T14:05:33.629518Z"
    },
    "papermill": {
     "duration": 11.743829,
     "end_time": "2025-07-30T14:05:33.632111",
     "exception": false,
     "start_time": "2025-07-30T14:05:21.888282",
     "status": "completed"
    },
    "tags": []
   },
   "outputs": [
    {
     "name": "stdout",
     "output_type": "stream",
     "text": [
      "Loading SIAB data from cache: data/siab_cached.csv.gz\n"
     ]
    },
    {
     "name": "stdout",
     "output_type": "stream",
     "text": [
      "(643690, 164)\n"
     ]
    }
   ],
   "source": [
    "from pathlib import Path\n",
    "import pandas as pd\n",
    "\n",
    "# File paths\n",
    "raw_file = Path(\"data/raw/siab.csv\")\n",
    "cache_file = Path(\"data/siab_cached.csv.gz\")\n",
    "\n",
    "# Ensure cache directory exists\n",
    "cache_file.parent.mkdir(parents=True, exist_ok=True)\n",
    "\n",
    "# Load with simple caching\n",
    "if cache_file.exists():\n",
    "    print(f\"Loading SIAB data from cache: {cache_file}\")\n",
    "    siab = pd.read_csv(cache_file, compression='gzip')\n",
    "else:\n",
    "    print(f\"Cache not found. Reading raw SIAB data: {raw_file}\")\n",
    "    siab = pd.read_csv(raw_file)\n",
    "    siab.to_csv(cache_file, index=False, compression='gzip')\n",
    "    print(f\"Cached SIAB data to: {cache_file}\")\n",
    "\n",
    "# Now use `siab` DataFrame as needed\n",
    "print(siab.shape)"
   ]
  },
  {
   "cell_type": "code",
   "execution_count": 10,
   "id": "db0ca512-5f53-4dba-abdb-a2888bca41ba",
   "metadata": {
    "execution": {
     "iopub.execute_input": "2025-07-30T14:05:33.673130Z",
     "iopub.status.busy": "2025-07-30T14:05:33.672725Z",
     "iopub.status.idle": "2025-07-30T14:05:33.677616Z",
     "shell.execute_reply": "2025-07-30T14:05:33.676733Z"
    },
    "papermill": {
     "duration": 0.025679,
     "end_time": "2025-07-30T14:05:33.679089",
     "exception": false,
     "start_time": "2025-07-30T14:05:33.653410",
     "status": "completed"
    },
    "tags": []
   },
   "outputs": [],
   "source": [
    "#siab"
   ]
  },
  {
   "cell_type": "code",
   "execution_count": 11,
   "id": "a0edb063",
   "metadata": {
    "execution": {
     "iopub.execute_input": "2025-07-30T14:05:33.717670Z",
     "iopub.status.busy": "2025-07-30T14:05:33.717078Z",
     "iopub.status.idle": "2025-07-30T14:05:33.721337Z",
     "shell.execute_reply": "2025-07-30T14:05:33.720369Z"
    },
    "papermill": {
     "duration": 0.02477,
     "end_time": "2025-07-30T14:05:33.722882",
     "exception": false,
     "start_time": "2025-07-30T14:05:33.698112",
     "status": "completed"
    },
    "tags": []
   },
   "outputs": [],
   "source": [
    "#import pandas as pd\n",
    "#\n",
    "#X_train = pd.read_csv(\"./data/X_train.csv\")\n",
    "#y_train = pd.read_csv(\"./data/y_train.csv\")"
   ]
  },
  {
   "cell_type": "code",
   "execution_count": 12,
   "id": "63d08085",
   "metadata": {
    "execution": {
     "iopub.execute_input": "2025-07-30T14:05:33.761472Z",
     "iopub.status.busy": "2025-07-30T14:05:33.760887Z",
     "iopub.status.idle": "2025-07-30T14:05:33.765093Z",
     "shell.execute_reply": "2025-07-30T14:05:33.764156Z"
    },
    "papermill": {
     "duration": 0.024595,
     "end_time": "2025-07-30T14:05:33.766602",
     "exception": false,
     "start_time": "2025-07-30T14:05:33.742007",
     "status": "completed"
    },
    "tags": []
   },
   "outputs": [],
   "source": [
    "#X_test = pd.read_csv(\"./data/X_test.csv\")\n",
    "#y_true = pd.read_csv(\"./data/y_test.csv\")"
   ]
  },
  {
   "cell_type": "code",
   "execution_count": 13,
   "id": "98a8d0fa-1d3d-4ed8-bb2c-281470e24add",
   "metadata": {
    "execution": {
     "iopub.execute_input": "2025-07-30T14:05:33.805491Z",
     "iopub.status.busy": "2025-07-30T14:05:33.804810Z",
     "iopub.status.idle": "2025-07-30T14:05:33.809256Z",
     "shell.execute_reply": "2025-07-30T14:05:33.808407Z"
    },
    "papermill": {
     "duration": 0.025192,
     "end_time": "2025-07-30T14:05:33.810963",
     "exception": false,
     "start_time": "2025-07-30T14:05:33.785771",
     "status": "completed"
    },
    "tags": []
   },
   "outputs": [],
   "source": [
    "# Calibration data for conformal\n",
    "#X_calib = pd.read_csv(\"./data/X_calib.csv\")\n",
    "#y_calib = pd.read_csv(\"./data/y_calib.csv\")"
   ]
  },
  {
   "cell_type": "markdown",
   "id": "997051c5-15bd-4b69-9786-c3001a3ce484",
   "metadata": {
    "papermill": {
     "duration": 0.018671,
     "end_time": "2025-07-30T14:05:33.849069",
     "exception": false,
     "start_time": "2025-07-30T14:05:33.830398",
     "status": "completed"
    },
    "tags": []
   },
   "source": [
    "# Splitting Data and Setting Training Data Size"
   ]
  },
  {
   "cell_type": "code",
   "execution_count": 14,
   "id": "e993b61f-042d-41a6-8c81-f55681f86335",
   "metadata": {
    "execution": {
     "iopub.execute_input": "2025-07-30T14:05:33.887769Z",
     "iopub.status.busy": "2025-07-30T14:05:33.887074Z",
     "iopub.status.idle": "2025-07-30T14:05:33.899422Z",
     "shell.execute_reply": "2025-07-30T14:05:33.898532Z"
    },
    "papermill": {
     "duration": 0.033381,
     "end_time": "2025-07-30T14:05:33.900963",
     "exception": false,
     "start_time": "2025-07-30T14:05:33.867582",
     "status": "completed"
    },
    "tags": []
   },
   "outputs": [],
   "source": [
    "def sample_by_year_size(df,\n",
    "                        training_year: str,\n",
    "                        training_size: str,\n",
    "                        random_state: int = 42):\n",
    "    # --- parse training_year into a list of int years ---\n",
    "    if \"_\" in training_year:\n",
    "        start_str, end_str = training_year.split(\"_\", 1)\n",
    "        start = int(start_str)\n",
    "        end   = int(end_str) if len(end_str) == 4 else (int(end_str) + (start // 100)*100)\n",
    "        years = list(range(start, end + 1))\n",
    "    else:\n",
    "        years = [int(training_year)]\n",
    "\n",
    "    df = df[df[\"year\"].isin(years)].reset_index(drop=True)\n",
    "\n",
    "    # --- map training_size to total number of samples ---\n",
    "    total_map = {\"25k\": 25_000, \"5k\": 5_000, \"1k\": 1_000}\n",
    "    if training_size not in total_map:\n",
    "        return df  # e.g. \"all\"\n",
    "\n",
    "    total_samples = total_map[training_size]\n",
    "    n_years       = len(years)\n",
    "    base          = total_samples // n_years\n",
    "    remainder     = total_samples % n_years\n",
    "\n",
    "    # --- build a dict: year -> how many to sample ---\n",
    "    # give +1 to the first `remainder` years in ascending order\n",
    "    quotas = {\n",
    "        year: base + (1 if idx < remainder else 0)\n",
    "        for idx, year in enumerate(sorted(years))\n",
    "    }\n",
    "\n",
    "    # --- sample per‐year according to the quota dict ---\n",
    "    sampled = (\n",
    "        df\n",
    "        .groupby(\"year\", group_keys=False)\n",
    "        .apply(lambda grp: grp.sample(\n",
    "            n=min(len(grp), quotas[grp.name]),\n",
    "            random_state=random_state))\n",
    "        .reset_index(drop=True)\n",
    "    )\n",
    "\n",
    "    return sampled"
   ]
  },
  {
   "cell_type": "code",
   "execution_count": 15,
   "id": "c0ccd338-0e02-41f3-a09d-f56f9266e3fb",
   "metadata": {
    "execution": {
     "iopub.execute_input": "2025-07-30T14:05:33.940693Z",
     "iopub.status.busy": "2025-07-30T14:05:33.939953Z",
     "iopub.status.idle": "2025-07-30T14:05:33.950168Z",
     "shell.execute_reply": "2025-07-30T14:05:33.949263Z"
    },
    "papermill": {
     "duration": 0.031118,
     "end_time": "2025-07-30T14:05:33.951714",
     "exception": false,
     "start_time": "2025-07-30T14:05:33.920596",
     "status": "completed"
    },
    "tags": []
   },
   "outputs": [
    {
     "data": {
      "text/plain": [
       "'5k'"
      ]
     },
     "execution_count": 15,
     "metadata": {},
     "output_type": "execute_result"
    }
   ],
   "source": [
    "universe[\"training_size\"]"
   ]
  },
  {
   "cell_type": "code",
   "execution_count": 16,
   "id": "ca707fd7-8047-4acd-bfa5-66248fbbf8e6",
   "metadata": {
    "execution": {
     "iopub.execute_input": "2025-07-30T14:05:33.991579Z",
     "iopub.status.busy": "2025-07-30T14:05:33.990819Z",
     "iopub.status.idle": "2025-07-30T14:05:33.997763Z",
     "shell.execute_reply": "2025-07-30T14:05:33.996786Z"
    },
    "papermill": {
     "duration": 0.037575,
     "end_time": "2025-07-30T14:05:34.008899",
     "exception": false,
     "start_time": "2025-07-30T14:05:33.971324",
     "status": "completed"
    },
    "tags": []
   },
   "outputs": [
    {
     "data": {
      "text/plain": [
       "'2012_14'"
      ]
     },
     "execution_count": 16,
     "metadata": {},
     "output_type": "execute_result"
    }
   ],
   "source": [
    "universe[\"training_year\"]"
   ]
  },
  {
   "cell_type": "code",
   "execution_count": 17,
   "id": "aea9c6ef-6f46-42c8-85eb-5a62025c1508",
   "metadata": {
    "execution": {
     "iopub.execute_input": "2025-07-30T14:05:34.050074Z",
     "iopub.status.busy": "2025-07-30T14:05:34.049298Z",
     "iopub.status.idle": "2025-07-30T14:05:34.610483Z",
     "shell.execute_reply": "2025-07-30T14:05:34.609564Z"
    },
    "papermill": {
     "duration": 0.582834,
     "end_time": "2025-07-30T14:05:34.612348",
     "exception": false,
     "start_time": "2025-07-30T14:05:34.029514",
     "status": "completed"
    },
    "tags": []
   },
   "outputs": [],
   "source": [
    "siab_train = sample_by_year_size(siab,\n",
    "                               training_year=universe[\"training_year\"],\n",
    "                               training_size=universe[\"training_size\"])"
   ]
  },
  {
   "cell_type": "code",
   "execution_count": 18,
   "id": "8d3afb32-789d-442c-8d5d-9f5aa8dd2eed",
   "metadata": {
    "execution": {
     "iopub.execute_input": "2025-07-30T14:05:34.654169Z",
     "iopub.status.busy": "2025-07-30T14:05:34.653734Z",
     "iopub.status.idle": "2025-07-30T14:05:34.660339Z",
     "shell.execute_reply": "2025-07-30T14:05:34.659398Z"
    },
    "papermill": {
     "duration": 0.028747,
     "end_time": "2025-07-30T14:05:34.662016",
     "exception": false,
     "start_time": "2025-07-30T14:05:34.633269",
     "status": "completed"
    },
    "tags": []
   },
   "outputs": [
    {
     "data": {
      "text/plain": [
       "(5000, 164)"
      ]
     },
     "execution_count": 18,
     "metadata": {},
     "output_type": "execute_result"
    }
   ],
   "source": [
    "siab_train.shape"
   ]
  },
  {
   "cell_type": "code",
   "execution_count": 19,
   "id": "d582db68-1a4c-47fb-84fc-08518dc1975a",
   "metadata": {
    "execution": {
     "iopub.execute_input": "2025-07-30T14:05:34.703539Z",
     "iopub.status.busy": "2025-07-30T14:05:34.703145Z",
     "iopub.status.idle": "2025-07-30T14:05:34.712117Z",
     "shell.execute_reply": "2025-07-30T14:05:34.711160Z"
    },
    "papermill": {
     "duration": 0.031455,
     "end_time": "2025-07-30T14:05:34.713672",
     "exception": false,
     "start_time": "2025-07-30T14:05:34.682217",
     "status": "completed"
    },
    "tags": []
   },
   "outputs": [
    {
     "data": {
      "text/plain": [
       "year\n",
       "2012    1667\n",
       "2013    1667\n",
       "2014    1666\n",
       "dtype: int64"
      ]
     },
     "metadata": {},
     "output_type": "display_data"
    }
   ],
   "source": [
    "display(siab_train.groupby(\"year\").size())"
   ]
  },
  {
   "cell_type": "code",
   "execution_count": 20,
   "id": "a561edb4-d032-42cb-8256-22eac1111c64",
   "metadata": {
    "execution": {
     "iopub.execute_input": "2025-07-30T14:05:34.756888Z",
     "iopub.status.busy": "2025-07-30T14:05:34.756174Z",
     "iopub.status.idle": "2025-07-30T14:05:34.974020Z",
     "shell.execute_reply": "2025-07-30T14:05:34.973133Z"
    },
    "papermill": {
     "duration": 0.241438,
     "end_time": "2025-07-30T14:05:34.975907",
     "exception": false,
     "start_time": "2025-07-30T14:05:34.734469",
     "status": "completed"
    },
    "tags": []
   },
   "outputs": [],
   "source": [
    "#siab_train = siab_s[siab_s.year < 2015]\n",
    "siab_calib = siab[siab.year == 2015]\n",
    "siab_test = siab[siab.year == 2016]"
   ]
  },
  {
   "cell_type": "code",
   "execution_count": 21,
   "id": "472de16f-c3db-4916-846b-1f0de9cf1746",
   "metadata": {
    "execution": {
     "iopub.execute_input": "2025-07-30T14:05:35.018557Z",
     "iopub.status.busy": "2025-07-30T14:05:35.017947Z",
     "iopub.status.idle": "2025-07-30T14:05:35.025454Z",
     "shell.execute_reply": "2025-07-30T14:05:35.024567Z"
    },
    "papermill": {
     "duration": 0.029857,
     "end_time": "2025-07-30T14:05:35.027077",
     "exception": false,
     "start_time": "2025-07-30T14:05:34.997220",
     "status": "completed"
    },
    "tags": []
   },
   "outputs": [],
   "source": [
    "X_train = siab_train.iloc[:,4:164]\n",
    "y_train = siab_train.iloc[:, [3]]"
   ]
  },
  {
   "cell_type": "code",
   "execution_count": 22,
   "id": "828c96af-f43a-4ed6-ba47-8ac73a47d56c",
   "metadata": {
    "execution": {
     "iopub.execute_input": "2025-07-30T14:05:35.069929Z",
     "iopub.status.busy": "2025-07-30T14:05:35.069198Z",
     "iopub.status.idle": "2025-07-30T14:05:35.117139Z",
     "shell.execute_reply": "2025-07-30T14:05:35.115937Z"
    },
    "papermill": {
     "duration": 0.070749,
     "end_time": "2025-07-30T14:05:35.119323",
     "exception": false,
     "start_time": "2025-07-30T14:05:35.048574",
     "status": "completed"
    },
    "tags": []
   },
   "outputs": [],
   "source": [
    "X_calib = siab_calib.iloc[:,4:164]\n",
    "y_calib = siab_calib.iloc[:, [3]]"
   ]
  },
  {
   "cell_type": "code",
   "execution_count": 23,
   "id": "c34be9c3-6bd6-476e-acd3-845840e303be",
   "metadata": {
    "execution": {
     "iopub.execute_input": "2025-07-30T14:05:35.161876Z",
     "iopub.status.busy": "2025-07-30T14:05:35.161161Z",
     "iopub.status.idle": "2025-07-30T14:05:35.214024Z",
     "shell.execute_reply": "2025-07-30T14:05:35.212999Z"
    },
    "papermill": {
     "duration": 0.075199,
     "end_time": "2025-07-30T14:05:35.215821",
     "exception": false,
     "start_time": "2025-07-30T14:05:35.140622",
     "status": "completed"
    },
    "tags": []
   },
   "outputs": [],
   "source": [
    "X_test = siab_test.iloc[:,4:164]\n",
    "y_true = siab_test.iloc[:, [3]]"
   ]
  },
  {
   "cell_type": "markdown",
   "id": "9901737e-04df-44f0-9100-f5ad144ed040",
   "metadata": {
    "papermill": {
     "duration": 0.019656,
     "end_time": "2025-07-30T14:05:35.256670",
     "exception": false,
     "start_time": "2025-07-30T14:05:35.237014",
     "status": "completed"
    },
    "tags": []
   },
   "source": [
    "# Splitting Data and Setting Training Data Size OLD VERSION"
   ]
  },
  {
   "cell_type": "code",
   "execution_count": 24,
   "id": "acbc8f7d-8fc8-4e86-8c59-5dcb0f58384b",
   "metadata": {
    "execution": {
     "iopub.execute_input": "2025-07-30T14:05:35.298005Z",
     "iopub.status.busy": "2025-07-30T14:05:35.297357Z",
     "iopub.status.idle": "2025-07-30T14:05:35.302774Z",
     "shell.execute_reply": "2025-07-30T14:05:35.301869Z"
    },
    "papermill": {
     "duration": 0.027863,
     "end_time": "2025-07-30T14:05:35.304310",
     "exception": false,
     "start_time": "2025-07-30T14:05:35.276447",
     "status": "completed"
    },
    "tags": []
   },
   "outputs": [],
   "source": [
    "#def sample_by_year(df, training_size, random_state=42):\n",
    "#    if training_size == \"2014\":\n",
    "#        return df[df[\"year\"] == 2014].reset_index(drop=True)\n",
    "#    \n",
    "#    size_map = {\n",
    "#        \"25k\": 5000,\n",
    "#        \"5k\": 1000,\n",
    "#        \"1k\": 200\n",
    "#    }\n",
    "#\n",
    "#    if training_size not in size_map:\n",
    "#        return df.reset_index(drop=True)  # use all data\n",
    "#\n",
    "#    n_per_year = size_map[training_size]\n",
    "#    grouped = df.groupby(\"year\")\n",
    "#    sampled = grouped.apply(lambda x: x.sample(n=min(n_per_year, len(x)), random_state=random_state))\n",
    "#    return sampled.reset_index(drop=True)"
   ]
  },
  {
   "cell_type": "code",
   "execution_count": 25,
   "id": "6d931f52-beaf-43ff-9e78-9d44a448d54e",
   "metadata": {
    "execution": {
     "iopub.execute_input": "2025-07-30T14:05:35.346962Z",
     "iopub.status.busy": "2025-07-30T14:05:35.346107Z",
     "iopub.status.idle": "2025-07-30T14:05:35.354718Z",
     "shell.execute_reply": "2025-07-30T14:05:35.353925Z"
    },
    "papermill": {
     "duration": 0.031211,
     "end_time": "2025-07-30T14:05:35.356384",
     "exception": false,
     "start_time": "2025-07-30T14:05:35.325173",
     "status": "completed"
    },
    "tags": []
   },
   "outputs": [],
   "source": [
    "#siab_s = sample_by_year(siab, universe[\"training_size\"])"
   ]
  },
  {
   "cell_type": "code",
   "execution_count": 26,
   "id": "5db0a40e-a4e2-4920-be85-b12ae061d70d",
   "metadata": {
    "execution": {
     "iopub.execute_input": "2025-07-30T14:05:35.399092Z",
     "iopub.status.busy": "2025-07-30T14:05:35.398479Z",
     "iopub.status.idle": "2025-07-30T14:05:35.403377Z",
     "shell.execute_reply": "2025-07-30T14:05:35.402419Z"
    },
    "papermill": {
     "duration": 0.027362,
     "end_time": "2025-07-30T14:05:35.404886",
     "exception": false,
     "start_time": "2025-07-30T14:05:35.377524",
     "status": "completed"
    },
    "tags": []
   },
   "outputs": [],
   "source": [
    "#display(siab_s.groupby(\"year\").size())"
   ]
  },
  {
   "cell_type": "code",
   "execution_count": 27,
   "id": "e6c733c5",
   "metadata": {
    "execution": {
     "iopub.execute_input": "2025-07-30T14:05:35.447506Z",
     "iopub.status.busy": "2025-07-30T14:05:35.446643Z",
     "iopub.status.idle": "2025-07-30T14:05:35.540554Z",
     "shell.execute_reply": "2025-07-30T14:05:35.539581Z"
    },
    "papermill": {
     "duration": 0.116586,
     "end_time": "2025-07-30T14:05:35.542407",
     "exception": false,
     "start_time": "2025-07-30T14:05:35.425821",
     "status": "completed"
    },
    "tags": []
   },
   "outputs": [],
   "source": [
    "# Auxiliary data needed downstream in the pipeline\n",
    "\n",
    "org_train = X_train.copy()\n",
    "org_test = X_test.copy()\n",
    "org_calib = X_calib.copy()"
   ]
  },
  {
   "cell_type": "code",
   "execution_count": 28,
   "id": "1466abac-c6da-4492-a62f-4240ae3783af",
   "metadata": {
    "execution": {
     "iopub.execute_input": "2025-07-30T14:05:35.584689Z",
     "iopub.status.busy": "2025-07-30T14:05:35.583887Z",
     "iopub.status.idle": "2025-07-30T14:05:35.589488Z",
     "shell.execute_reply": "2025-07-30T14:05:35.588622Z"
    },
    "papermill": {
     "duration": 0.027772,
     "end_time": "2025-07-30T14:05:35.591107",
     "exception": false,
     "start_time": "2025-07-30T14:05:35.563335",
     "status": "completed"
    },
    "tags": []
   },
   "outputs": [],
   "source": [
    "# put in other script?\n",
    "# Group sizes\n",
    "\n",
    "#def calculate_percentages(df, df_name):\n",
    "#    total_entries = len(df)\n",
    "#\n",
    "#    female_pct = (df['frau1'] == 1).mean() * 100\n",
    "#    non_german_pct = ((df['maxdeutsch1'] == 0) & (df['maxdeutsch.Missing.'] == 0)).mean() * 100\n",
    "#    non_german_male_pct = ((df['frau1'] == 0) & (df['maxdeutsch1'] == 0) & (df['maxdeutsch.Missing.'] == 0)).mean() * 100\n",
    "#    non_german_female_pct = ((df['frau1'] == 1) & (df['maxdeutsch1'] == 0) & (df['maxdeutsch.Missing.'] == 0)).mean() * 100\n",
    "#\n",
    "#    print(f\"--- {df_name} ---\")\n",
    "#    print(f\"Female: {female_pct:.2f}%\")\n",
    "#    print(f\"Non-German: {non_german_pct:.2f}%\")\n",
    "#    print(f\"Non-German Male: {non_german_male_pct:.2f}%\")\n",
    "#    print(f\"Non-German Female: {non_german_female_pct:.2f}%\\n\")\n",
    "#\n",
    "## Calculate for each DataFrame\n",
    "#calculate_percentages(siab_calib, \"siab_calib\")\n",
    "#calculate_percentages(siab_test, \"siab_test\")\n",
    "#calculate_percentages(siab_train, \"siab_train\")"
   ]
  },
  {
   "cell_type": "markdown",
   "id": "0a4a1b33",
   "metadata": {
    "papermill": {
     "duration": 0.021351,
     "end_time": "2025-07-30T14:05:35.634326",
     "exception": false,
     "start_time": "2025-07-30T14:05:35.612975",
     "status": "completed"
    },
    "tags": []
   },
   "source": [
    "# Preprocessing Data"
   ]
  },
  {
   "cell_type": "code",
   "execution_count": 29,
   "id": "ca879031",
   "metadata": {
    "execution": {
     "iopub.execute_input": "2025-07-30T14:05:35.675966Z",
     "iopub.status.busy": "2025-07-30T14:05:35.675339Z",
     "iopub.status.idle": "2025-07-30T14:05:35.681354Z",
     "shell.execute_reply": "2025-07-30T14:05:35.680220Z"
    },
    "papermill": {
     "duration": 0.028723,
     "end_time": "2025-07-30T14:05:35.683191",
     "exception": false,
     "start_time": "2025-07-30T14:05:35.654468",
     "status": "completed"
    },
    "tags": []
   },
   "outputs": [],
   "source": [
    "# EXCLUDE PROTECTED FEATURES\n",
    "# ----------------------\n",
    "# \"exclude_features\": \"none\", # \"nationality\", \"sex\", \"nationality-sex\"\n",
    "\n",
    "excluded_features = universe[\"exclude_features\"].split(\"-\") # split, e.g.: \"nationality-sex\" -> [\"nationality\", \"sex\"]\n",
    "excluded_features_dictionary = {\n",
    "    \"nationality\": [\"maxdeutsch1\", \"maxdeutsch.Missing.\"],\n",
    "    \"sex\": [\"frau1\"],\n",
    "    \"age\": [\"age\"],\n",
    "}\n"
   ]
  },
  {
   "cell_type": "code",
   "execution_count": 30,
   "id": "b745ac60",
   "metadata": {
    "execution": {
     "iopub.execute_input": "2025-07-30T14:05:35.727038Z",
     "iopub.status.busy": "2025-07-30T14:05:35.726256Z",
     "iopub.status.idle": "2025-07-30T14:05:35.731709Z",
     "shell.execute_reply": "2025-07-30T14:05:35.730798Z"
    },
    "papermill": {
     "duration": 0.028152,
     "end_time": "2025-07-30T14:05:35.733388",
     "exception": false,
     "start_time": "2025-07-30T14:05:35.705236",
     "status": "completed"
    },
    "tags": []
   },
   "outputs": [],
   "source": [
    "# Code nice names to column names\n",
    "\n",
    "excluded_features_columns = [\n",
    "    excluded_features_dictionary[f] for f in excluded_features if len(f) > 0 and f != \"none\"\n",
    "]"
   ]
  },
  {
   "cell_type": "code",
   "execution_count": 31,
   "id": "f84f73a2",
   "metadata": {
    "execution": {
     "iopub.execute_input": "2025-07-30T14:05:35.779165Z",
     "iopub.status.busy": "2025-07-30T14:05:35.778805Z",
     "iopub.status.idle": "2025-07-30T14:05:35.785155Z",
     "shell.execute_reply": "2025-07-30T14:05:35.784257Z"
    },
    "papermill": {
     "duration": 0.029375,
     "end_time": "2025-07-30T14:05:35.786644",
     "exception": false,
     "start_time": "2025-07-30T14:05:35.757269",
     "status": "completed"
    },
    "tags": []
   },
   "outputs": [],
   "source": [
    "from utils import flatten_once\n",
    "\n",
    "excluded_features_columns = flatten_once(excluded_features_columns)"
   ]
  },
  {
   "cell_type": "code",
   "execution_count": 32,
   "id": "884dea22",
   "metadata": {
    "execution": {
     "iopub.execute_input": "2025-07-30T14:05:35.830218Z",
     "iopub.status.busy": "2025-07-30T14:05:35.829656Z",
     "iopub.status.idle": "2025-07-30T14:05:35.837946Z",
     "shell.execute_reply": "2025-07-30T14:05:35.837003Z"
    },
    "papermill": {
     "duration": 0.031267,
     "end_time": "2025-07-30T14:05:35.839500",
     "exception": false,
     "start_time": "2025-07-30T14:05:35.808233",
     "status": "completed"
    },
    "tags": []
   },
   "outputs": [
    {
     "name": "stdout",
     "output_type": "stream",
     "text": [
      "Dropping features: ['age']\n"
     ]
    }
   ],
   "source": [
    "if len(excluded_features_columns) > 0:\n",
    "    print(f\"Dropping features: {excluded_features_columns}\")\n",
    "    X_train.drop(excluded_features_columns, axis=1, inplace=True)"
   ]
  },
  {
   "cell_type": "code",
   "execution_count": 33,
   "id": "95ab8b16",
   "metadata": {
    "execution": {
     "iopub.execute_input": "2025-07-30T14:05:35.884911Z",
     "iopub.status.busy": "2025-07-30T14:05:35.884122Z",
     "iopub.status.idle": "2025-07-30T14:05:35.934609Z",
     "shell.execute_reply": "2025-07-30T14:05:35.933670Z"
    },
    "papermill": {
     "duration": 0.07387,
     "end_time": "2025-07-30T14:05:35.936367",
     "exception": false,
     "start_time": "2025-07-30T14:05:35.862497",
     "status": "completed"
    },
    "tags": []
   },
   "outputs": [
    {
     "name": "stdout",
     "output_type": "stream",
     "text": [
      "Dropping features: ['age']\n"
     ]
    }
   ],
   "source": [
    "if len(excluded_features_columns) > 0:\n",
    "    print(f\"Dropping features: {excluded_features_columns}\")\n",
    "    X_test.drop(excluded_features_columns, axis=1, inplace=True)"
   ]
  },
  {
   "cell_type": "code",
   "execution_count": 34,
   "id": "1853aaf5-fb9f-46cb-a2b5-8ea4ae2237e4",
   "metadata": {
    "execution": {
     "iopub.execute_input": "2025-07-30T14:05:35.980281Z",
     "iopub.status.busy": "2025-07-30T14:05:35.979829Z",
     "iopub.status.idle": "2025-07-30T14:05:36.029130Z",
     "shell.execute_reply": "2025-07-30T14:05:36.027892Z"
    },
    "papermill": {
     "duration": 0.072316,
     "end_time": "2025-07-30T14:05:36.030840",
     "exception": false,
     "start_time": "2025-07-30T14:05:35.958524",
     "status": "completed"
    },
    "tags": []
   },
   "outputs": [
    {
     "name": "stdout",
     "output_type": "stream",
     "text": [
      "Dropping features: ['age']\n"
     ]
    }
   ],
   "source": [
    "if len(excluded_features_columns) > 0:\n",
    "    print(f\"Dropping features: {excluded_features_columns}\")\n",
    "    X_calib.drop(excluded_features_columns, axis=1, inplace=True)"
   ]
  },
  {
   "cell_type": "code",
   "execution_count": 35,
   "id": "6727d079-03e5-481e-9d38-292a90b7a0a8",
   "metadata": {
    "execution": {
     "iopub.execute_input": "2025-07-30T14:05:36.074584Z",
     "iopub.status.busy": "2025-07-30T14:05:36.073870Z",
     "iopub.status.idle": "2025-07-30T14:05:36.078508Z",
     "shell.execute_reply": "2025-07-30T14:05:36.077545Z"
    },
    "papermill": {
     "duration": 0.027378,
     "end_time": "2025-07-30T14:05:36.080058",
     "exception": false,
     "start_time": "2025-07-30T14:05:36.052680",
     "status": "completed"
    },
    "tags": []
   },
   "outputs": [],
   "source": [
    "# SPLIT & STRATIFY DATA\n",
    "# ----------------------"
   ]
  },
  {
   "cell_type": "code",
   "execution_count": 36,
   "id": "76c4dc6d",
   "metadata": {
    "execution": {
     "iopub.execute_input": "2025-07-30T14:05:36.128806Z",
     "iopub.status.busy": "2025-07-30T14:05:36.127997Z",
     "iopub.status.idle": "2025-07-30T14:05:36.133057Z",
     "shell.execute_reply": "2025-07-30T14:05:36.132248Z"
    },
    "papermill": {
     "duration": 0.027943,
     "end_time": "2025-07-30T14:05:36.134582",
     "exception": false,
     "start_time": "2025-07-30T14:05:36.106639",
     "status": "completed"
    },
    "tags": []
   },
   "outputs": [],
   "source": [
    "# EXCLUDE CERTAIN SUBGROUPS\n",
    "# ----------------------\n",
    "\n",
    "mode = universe.get(\"exclude_subgroups\", \"keep-all\") \n",
    "# Fetches the exclude_subgroups setting from the universe dict.\n",
    "# Defaults to \"keep-all\" if the key is missing."
   ]
  },
  {
   "cell_type": "code",
   "execution_count": 37,
   "id": "21994072",
   "metadata": {
    "execution": {
     "iopub.execute_input": "2025-07-30T14:05:36.180671Z",
     "iopub.status.busy": "2025-07-30T14:05:36.179774Z",
     "iopub.status.idle": "2025-07-30T14:05:36.186592Z",
     "shell.execute_reply": "2025-07-30T14:05:36.185794Z"
    },
    "papermill": {
     "duration": 0.031916,
     "end_time": "2025-07-30T14:05:36.188401",
     "exception": false,
     "start_time": "2025-07-30T14:05:36.156485",
     "status": "completed"
    },
    "tags": []
   },
   "outputs": [],
   "source": [
    "if mode == \"keep-all\":\n",
    "    keep_mask = pd.Series(True, index=org_train.index)\n",
    "\n",
    "# org_train contains the original feature columns from features_org (in Simson)\n",
    "# features_org contains unprocessed features, for me X_train at beginning ???\n",
    "# For keep-all, creates a boolean Series (keep_mask) of all True, so no rows are removed.\n",
    "\n",
    "elif mode == \"drop-non-german\":\n",
    "    keep_mask = org_train[\"maxdeutsch1\"] == 1 # ??? what about missing values?\n",
    "\n",
    "else:\n",
    "    raise ValueError(f\"Unsupported mode for exclude_subgroups: {mode}\")\n"
   ]
  },
  {
   "cell_type": "code",
   "execution_count": 38,
   "id": "71651440",
   "metadata": {
    "execution": {
     "iopub.execute_input": "2025-07-30T14:05:36.233789Z",
     "iopub.status.busy": "2025-07-30T14:05:36.233293Z",
     "iopub.status.idle": "2025-07-30T14:05:36.240689Z",
     "shell.execute_reply": "2025-07-30T14:05:36.239731Z"
    },
    "papermill": {
     "duration": 0.031643,
     "end_time": "2025-07-30T14:05:36.242210",
     "exception": false,
     "start_time": "2025-07-30T14:05:36.210567",
     "status": "completed"
    },
    "tags": []
   },
   "outputs": [
    {
     "name": "stdout",
     "output_type": "stream",
     "text": [
      "Dropping 665 rows (13.30%) where mode='drop-non-german'\n"
     ]
    }
   ],
   "source": [
    "n_drop = (~keep_mask).sum() # Calculates how many rows are set to be dropped\n",
    "if n_drop > 0:\n",
    "    pct = n_drop / len(keep_mask) * 100\n",
    "    print(f\"Dropping {n_drop} rows ({pct:.2f}%) where mode='{mode}'\")"
   ]
  },
  {
   "cell_type": "code",
   "execution_count": 39,
   "id": "5fb8eee5",
   "metadata": {
    "execution": {
     "iopub.execute_input": "2025-07-30T14:05:36.288857Z",
     "iopub.status.busy": "2025-07-30T14:05:36.288193Z",
     "iopub.status.idle": "2025-07-30T14:05:36.296270Z",
     "shell.execute_reply": "2025-07-30T14:05:36.295178Z"
    },
    "papermill": {
     "duration": 0.033007,
     "end_time": "2025-07-30T14:05:36.298270",
     "exception": false,
     "start_time": "2025-07-30T14:05:36.265263",
     "status": "completed"
    },
    "tags": []
   },
   "outputs": [],
   "source": [
    "X_train = X_train[keep_mask]"
   ]
  },
  {
   "cell_type": "code",
   "execution_count": 40,
   "id": "b202bb3a",
   "metadata": {
    "execution": {
     "iopub.execute_input": "2025-07-30T14:05:36.343449Z",
     "iopub.status.busy": "2025-07-30T14:05:36.342972Z",
     "iopub.status.idle": "2025-07-30T14:05:36.349036Z",
     "shell.execute_reply": "2025-07-30T14:05:36.348084Z"
    },
    "papermill": {
     "duration": 0.029869,
     "end_time": "2025-07-30T14:05:36.350595",
     "exception": false,
     "start_time": "2025-07-30T14:05:36.320726",
     "status": "completed"
    },
    "tags": []
   },
   "outputs": [],
   "source": [
    "y_train = y_train[keep_mask]"
   ]
  },
  {
   "cell_type": "markdown",
   "id": "493e2ac3",
   "metadata": {
    "papermill": {
     "duration": 0.022321,
     "end_time": "2025-07-30T14:05:36.394977",
     "exception": false,
     "start_time": "2025-07-30T14:05:36.372656",
     "status": "completed"
    },
    "tags": []
   },
   "source": [
    "# Model Training"
   ]
  },
  {
   "cell_type": "code",
   "execution_count": 41,
   "id": "679e1268",
   "metadata": {
    "execution": {
     "iopub.execute_input": "2025-07-30T14:05:36.440605Z",
     "iopub.status.busy": "2025-07-30T14:05:36.440126Z",
     "iopub.status.idle": "2025-07-30T14:05:36.539135Z",
     "shell.execute_reply": "2025-07-30T14:05:36.538182Z"
    },
    "papermill": {
     "duration": 0.128519,
     "end_time": "2025-07-30T14:05:36.545583",
     "exception": false,
     "start_time": "2025-07-30T14:05:36.417064",
     "status": "completed"
    },
    "tags": []
   },
   "outputs": [],
   "source": [
    "from sklearn.linear_model import LogisticRegression\n",
    "from sklearn.ensemble import GradientBoostingClassifier, RandomForestClassifier\n",
    "\n",
    "if (universe[\"model\"] == \"logreg\"):\n",
    "    model = LogisticRegression() #penalty=\"none\") #, solver=\"newton-cg\", max_iter=1) # include random_state=19 ?\n",
    "elif (universe[\"model\"] == \"penalized_logreg\"):\n",
    "    model = LogisticRegression(penalty=\"l2\", C=1.0) #, solver=\"newton-cg\", max_iter=1)\n",
    "elif (universe[\"model\"] == \"rf\"):\n",
    "    model = RandomForestClassifier(n_estimators=100, n_jobs=-1)\n",
    "elif (universe[\"model\"] == \"gbm\"):\n",
    "    model = GradientBoostingClassifier()\n",
    "elif (universe[\"model\"] == \"elasticnet\"):\n",
    "    model = LogisticRegression(penalty = 'elasticnet', solver = 'saga', l1_ratio = 0.5, max_iter=5000) # which solver to use?\n",
    "else:\n",
    "    raise \"Unsupported universe.model\""
   ]
  },
  {
   "cell_type": "code",
   "execution_count": 42,
   "id": "0cc8f744",
   "metadata": {
    "execution": {
     "iopub.execute_input": "2025-07-30T14:05:36.596663Z",
     "iopub.status.busy": "2025-07-30T14:05:36.595828Z",
     "iopub.status.idle": "2025-07-30T14:05:36.602973Z",
     "shell.execute_reply": "2025-07-30T14:05:36.601315Z"
    },
    "papermill": {
     "duration": 0.03365,
     "end_time": "2025-07-30T14:05:36.604803",
     "exception": false,
     "start_time": "2025-07-30T14:05:36.571153",
     "status": "completed"
    },
    "tags": []
   },
   "outputs": [],
   "source": [
    "import numpy as np\n",
    "from sklearn.pipeline import Pipeline\n",
    "from sklearn.preprocessing import StandardScaler\n",
    "\n",
    "model = Pipeline([\n",
    "    #(\"continuous_processor\", continuous_processor),\n",
    "    #(\"categorical_preprocessor\", categorical_preprocessor),\n",
    "    (\"scale\", StandardScaler() if universe[\"scale\"] == \"scale\" else None), \n",
    "    (\"model\", model),\n",
    "])"
   ]
  },
  {
   "cell_type": "code",
   "execution_count": 43,
   "id": "9442c04d",
   "metadata": {
    "execution": {
     "iopub.execute_input": "2025-07-30T14:05:36.652663Z",
     "iopub.status.busy": "2025-07-30T14:05:36.652174Z",
     "iopub.status.idle": "2025-07-30T14:06:48.867953Z",
     "shell.execute_reply": "2025-07-30T14:06:48.866896Z"
    },
    "papermill": {
     "duration": 72.271757,
     "end_time": "2025-07-30T14:06:48.901171",
     "exception": false,
     "start_time": "2025-07-30T14:05:36.629414",
     "status": "completed"
    },
    "tags": []
   },
   "outputs": [
    {
     "data": {
      "text/html": [
       "<style>#sk-container-id-1 {color: black;background-color: white;}#sk-container-id-1 pre{padding: 0;}#sk-container-id-1 div.sk-toggleable {background-color: white;}#sk-container-id-1 label.sk-toggleable__label {cursor: pointer;display: block;width: 100%;margin-bottom: 0;padding: 0.3em;box-sizing: border-box;text-align: center;}#sk-container-id-1 label.sk-toggleable__label-arrow:before {content: \"▸\";float: left;margin-right: 0.25em;color: #696969;}#sk-container-id-1 label.sk-toggleable__label-arrow:hover:before {color: black;}#sk-container-id-1 div.sk-estimator:hover label.sk-toggleable__label-arrow:before {color: black;}#sk-container-id-1 div.sk-toggleable__content {max-height: 0;max-width: 0;overflow: hidden;text-align: left;background-color: #f0f8ff;}#sk-container-id-1 div.sk-toggleable__content pre {margin: 0.2em;color: black;border-radius: 0.25em;background-color: #f0f8ff;}#sk-container-id-1 input.sk-toggleable__control:checked~div.sk-toggleable__content {max-height: 200px;max-width: 100%;overflow: auto;}#sk-container-id-1 input.sk-toggleable__control:checked~label.sk-toggleable__label-arrow:before {content: \"▾\";}#sk-container-id-1 div.sk-estimator input.sk-toggleable__control:checked~label.sk-toggleable__label {background-color: #d4ebff;}#sk-container-id-1 div.sk-label input.sk-toggleable__control:checked~label.sk-toggleable__label {background-color: #d4ebff;}#sk-container-id-1 input.sk-hidden--visually {border: 0;clip: rect(1px 1px 1px 1px);clip: rect(1px, 1px, 1px, 1px);height: 1px;margin: -1px;overflow: hidden;padding: 0;position: absolute;width: 1px;}#sk-container-id-1 div.sk-estimator {font-family: monospace;background-color: #f0f8ff;border: 1px dotted black;border-radius: 0.25em;box-sizing: border-box;margin-bottom: 0.5em;}#sk-container-id-1 div.sk-estimator:hover {background-color: #d4ebff;}#sk-container-id-1 div.sk-parallel-item::after {content: \"\";width: 100%;border-bottom: 1px solid gray;flex-grow: 1;}#sk-container-id-1 div.sk-label:hover label.sk-toggleable__label {background-color: #d4ebff;}#sk-container-id-1 div.sk-serial::before {content: \"\";position: absolute;border-left: 1px solid gray;box-sizing: border-box;top: 0;bottom: 0;left: 50%;z-index: 0;}#sk-container-id-1 div.sk-serial {display: flex;flex-direction: column;align-items: center;background-color: white;padding-right: 0.2em;padding-left: 0.2em;position: relative;}#sk-container-id-1 div.sk-item {position: relative;z-index: 1;}#sk-container-id-1 div.sk-parallel {display: flex;align-items: stretch;justify-content: center;background-color: white;position: relative;}#sk-container-id-1 div.sk-item::before, #sk-container-id-1 div.sk-parallel-item::before {content: \"\";position: absolute;border-left: 1px solid gray;box-sizing: border-box;top: 0;bottom: 0;left: 50%;z-index: -1;}#sk-container-id-1 div.sk-parallel-item {display: flex;flex-direction: column;z-index: 1;position: relative;background-color: white;}#sk-container-id-1 div.sk-parallel-item:first-child::after {align-self: flex-end;width: 50%;}#sk-container-id-1 div.sk-parallel-item:last-child::after {align-self: flex-start;width: 50%;}#sk-container-id-1 div.sk-parallel-item:only-child::after {width: 0;}#sk-container-id-1 div.sk-dashed-wrapped {border: 1px dashed gray;margin: 0 0.4em 0.5em 0.4em;box-sizing: border-box;padding-bottom: 0.4em;background-color: white;}#sk-container-id-1 div.sk-label label {font-family: monospace;font-weight: bold;display: inline-block;line-height: 1.2em;}#sk-container-id-1 div.sk-label-container {text-align: center;}#sk-container-id-1 div.sk-container {/* jupyter's `normalize.less` sets `[hidden] { display: none; }` but bootstrap.min.css set `[hidden] { display: none !important; }` so we also need the `!important` here to be able to override the default hidden behavior on the sphinx rendered scikit-learn.org. See: https://github.com/scikit-learn/scikit-learn/issues/21755 */display: inline-block !important;position: relative;}#sk-container-id-1 div.sk-text-repr-fallback {display: none;}</style><div id=\"sk-container-id-1\" class=\"sk-top-container\"><div class=\"sk-text-repr-fallback\"><pre>Pipeline(steps=[(&#x27;scale&#x27;, None),\n",
       "                (&#x27;model&#x27;,\n",
       "                 LogisticRegression(l1_ratio=0.5, max_iter=5000,\n",
       "                                    penalty=&#x27;elasticnet&#x27;, solver=&#x27;saga&#x27;))])</pre><b>In a Jupyter environment, please rerun this cell to show the HTML representation or trust the notebook. <br />On GitHub, the HTML representation is unable to render, please try loading this page with nbviewer.org.</b></div><div class=\"sk-container\" hidden><div class=\"sk-item sk-dashed-wrapped\"><div class=\"sk-label-container\"><div class=\"sk-label sk-toggleable\"><input class=\"sk-toggleable__control sk-hidden--visually\" id=\"sk-estimator-id-1\" type=\"checkbox\" ><label for=\"sk-estimator-id-1\" class=\"sk-toggleable__label sk-toggleable__label-arrow\">Pipeline</label><div class=\"sk-toggleable__content\"><pre>Pipeline(steps=[(&#x27;scale&#x27;, None),\n",
       "                (&#x27;model&#x27;,\n",
       "                 LogisticRegression(l1_ratio=0.5, max_iter=5000,\n",
       "                                    penalty=&#x27;elasticnet&#x27;, solver=&#x27;saga&#x27;))])</pre></div></div></div><div class=\"sk-serial\"><div class=\"sk-item\"><div class=\"sk-estimator sk-toggleable\"><input class=\"sk-toggleable__control sk-hidden--visually\" id=\"sk-estimator-id-2\" type=\"checkbox\" ><label for=\"sk-estimator-id-2\" class=\"sk-toggleable__label sk-toggleable__label-arrow\">None</label><div class=\"sk-toggleable__content\"><pre>None</pre></div></div></div><div class=\"sk-item\"><div class=\"sk-estimator sk-toggleable\"><input class=\"sk-toggleable__control sk-hidden--visually\" id=\"sk-estimator-id-3\" type=\"checkbox\" ><label for=\"sk-estimator-id-3\" class=\"sk-toggleable__label sk-toggleable__label-arrow\">LogisticRegression</label><div class=\"sk-toggleable__content\"><pre>LogisticRegression(l1_ratio=0.5, max_iter=5000, penalty=&#x27;elasticnet&#x27;,\n",
       "                   solver=&#x27;saga&#x27;)</pre></div></div></div></div></div></div></div>"
      ],
      "text/plain": [
       "Pipeline(steps=[('scale', None),\n",
       "                ('model',\n",
       "                 LogisticRegression(l1_ratio=0.5, max_iter=5000,\n",
       "                                    penalty='elasticnet', solver='saga'))])"
      ]
     },
     "execution_count": 43,
     "metadata": {},
     "output_type": "execute_result"
    }
   ],
   "source": [
    "model.fit(X_train, y_train.values.ravel())"
   ]
  },
  {
   "cell_type": "code",
   "execution_count": 44,
   "id": "af59f8c0",
   "metadata": {
    "execution": {
     "iopub.execute_input": "2025-07-30T14:06:48.963744Z",
     "iopub.status.busy": "2025-07-30T14:06:48.963130Z",
     "iopub.status.idle": "2025-07-30T14:06:48.969334Z",
     "shell.execute_reply": "2025-07-30T14:06:48.968295Z"
    },
    "papermill": {
     "duration": 0.039702,
     "end_time": "2025-07-30T14:06:48.971165",
     "exception": false,
     "start_time": "2025-07-30T14:06:48.931463",
     "status": "completed"
    },
    "tags": []
   },
   "outputs": [],
   "source": [
    "from fairness_multiverse.universe import predict_w_threshold"
   ]
  },
  {
   "cell_type": "code",
   "execution_count": 45,
   "id": "a7cf2e16",
   "metadata": {
    "execution": {
     "iopub.execute_input": "2025-07-30T14:06:49.033078Z",
     "iopub.status.busy": "2025-07-30T14:06:49.032457Z",
     "iopub.status.idle": "2025-07-30T14:06:49.207838Z",
     "shell.execute_reply": "2025-07-30T14:06:49.206711Z"
    },
    "papermill": {
     "duration": 0.202895,
     "end_time": "2025-07-30T14:06:49.209804",
     "exception": false,
     "start_time": "2025-07-30T14:06:49.006909",
     "status": "completed"
    },
    "tags": []
   },
   "outputs": [
    {
     "data": {
      "text/plain": [
       "0.8588340207334745"
      ]
     },
     "execution_count": 45,
     "metadata": {},
     "output_type": "execute_result"
    }
   ],
   "source": [
    "probs_test = model.predict_proba(X_test)\n",
    "\n",
    "'''\n",
    "Below code returns a boolean array (or binary 0/1 array depending on how it’s used) where each element \n",
    "is True if the probability of class 1 is greater than or equal to the threshold, and False otherwise.\n",
    "'''\n",
    "y_pred_default = predict_w_threshold(probs_test, 0.5)\n",
    "\n",
    "from sklearn.metrics import accuracy_score\n",
    "\n",
    "# Naive prediction\n",
    "accuracy_score(y_true = y_true, y_pred = y_pred_default)"
   ]
  },
  {
   "cell_type": "code",
   "execution_count": 46,
   "id": "081964c3",
   "metadata": {
    "execution": {
     "iopub.execute_input": "2025-07-30T14:06:49.262885Z",
     "iopub.status.busy": "2025-07-30T14:06:49.261767Z",
     "iopub.status.idle": "2025-07-30T14:06:49.409463Z",
     "shell.execute_reply": "2025-07-30T14:06:49.408305Z"
    },
    "papermill": {
     "duration": 0.17638,
     "end_time": "2025-07-30T14:06:49.411403",
     "exception": false,
     "start_time": "2025-07-30T14:06:49.235023",
     "status": "completed"
    },
    "tags": []
   },
   "outputs": [
    {
     "data": {
      "text/plain": [
       "array([0, 0, 0, ..., 0, 0, 0])"
      ]
     },
     "execution_count": 46,
     "metadata": {},
     "output_type": "execute_result"
    }
   ],
   "source": [
    "model.predict(X_test)"
   ]
  },
  {
   "cell_type": "markdown",
   "id": "56c9705b",
   "metadata": {
    "papermill": {
     "duration": 0.024241,
     "end_time": "2025-07-30T14:06:49.460912",
     "exception": false,
     "start_time": "2025-07-30T14:06:49.436671",
     "status": "completed"
    },
    "tags": []
   },
   "source": [
    "# Conformal Prediction"
   ]
  },
  {
   "cell_type": "code",
   "execution_count": 47,
   "id": "160ec6ff",
   "metadata": {
    "execution": {
     "iopub.execute_input": "2025-07-30T14:06:49.550526Z",
     "iopub.status.busy": "2025-07-30T14:06:49.549523Z",
     "iopub.status.idle": "2025-07-30T14:06:49.555359Z",
     "shell.execute_reply": "2025-07-30T14:06:49.554089Z"
    },
    "papermill": {
     "duration": 0.047072,
     "end_time": "2025-07-30T14:06:49.557830",
     "exception": false,
     "start_time": "2025-07-30T14:06:49.510758",
     "status": "completed"
    },
    "tags": []
   },
   "outputs": [],
   "source": [
    "# Miscoverage level for conformal prediction (10% allowed error rate => 90% target coverage)\n",
    "alpha = 0.1"
   ]
  },
  {
   "cell_type": "code",
   "execution_count": 48,
   "id": "eadf4555-3dd3-440e-8e35-f82a4ad9f855",
   "metadata": {
    "execution": {
     "iopub.execute_input": "2025-07-30T14:06:49.634265Z",
     "iopub.status.busy": "2025-07-30T14:06:49.633706Z",
     "iopub.status.idle": "2025-07-30T14:06:49.727119Z",
     "shell.execute_reply": "2025-07-30T14:06:49.725988Z"
    },
    "papermill": {
     "duration": 0.134925,
     "end_time": "2025-07-30T14:06:49.729788",
     "exception": false,
     "start_time": "2025-07-30T14:06:49.594863",
     "status": "completed"
    },
    "tags": []
   },
   "outputs": [],
   "source": [
    "probs_calib = model.predict_proba(X_calib)"
   ]
  },
  {
   "cell_type": "code",
   "execution_count": 49,
   "id": "2ed93547-6d5d-4983-9b36-1ecb300da49a",
   "metadata": {
    "execution": {
     "iopub.execute_input": "2025-07-30T14:06:49.804788Z",
     "iopub.status.busy": "2025-07-30T14:06:49.803690Z",
     "iopub.status.idle": "2025-07-30T14:06:49.810888Z",
     "shell.execute_reply": "2025-07-30T14:06:49.809452Z"
    },
    "papermill": {
     "duration": 0.04689,
     "end_time": "2025-07-30T14:06:49.813233",
     "exception": false,
     "start_time": "2025-07-30T14:06:49.766343",
     "status": "completed"
    },
    "tags": []
   },
   "outputs": [],
   "source": [
    "y_calib = y_calib.values.ravel().astype(int)"
   ]
  },
  {
   "cell_type": "code",
   "execution_count": 50,
   "id": "65d1320d-f588-4b38-9072-62af1ae97f7d",
   "metadata": {
    "execution": {
     "iopub.execute_input": "2025-07-30T14:06:49.888821Z",
     "iopub.status.busy": "2025-07-30T14:06:49.888277Z",
     "iopub.status.idle": "2025-07-30T14:06:49.898527Z",
     "shell.execute_reply": "2025-07-30T14:06:49.897249Z"
    },
    "papermill": {
     "duration": 0.051416,
     "end_time": "2025-07-30T14:06:49.901031",
     "exception": false,
     "start_time": "2025-07-30T14:06:49.849615",
     "status": "completed"
    },
    "tags": []
   },
   "outputs": [],
   "source": [
    "from fairness_multiverse.conformal import compute_nc_scores\n",
    "\n",
    "# Compute nonconformity scores on calibration set (1 - probability of true class)\n",
    "nc_scores = compute_nc_scores(probs_calib, y_calib)"
   ]
  },
  {
   "cell_type": "code",
   "execution_count": 51,
   "id": "df3b8ca3-53b7-43d5-9667-7c85da7aeda2",
   "metadata": {
    "execution": {
     "iopub.execute_input": "2025-07-30T14:06:49.975777Z",
     "iopub.status.busy": "2025-07-30T14:06:49.975012Z",
     "iopub.status.idle": "2025-07-30T14:06:49.983439Z",
     "shell.execute_reply": "2025-07-30T14:06:49.982292Z"
    },
    "papermill": {
     "duration": 0.048661,
     "end_time": "2025-07-30T14:06:49.986221",
     "exception": false,
     "start_time": "2025-07-30T14:06:49.937560",
     "status": "completed"
    },
    "tags": []
   },
   "outputs": [],
   "source": [
    "from fairness_multiverse.conformal import find_threshold\n",
    "\n",
    "# Find conformal threshold q_hat for the given alpha (split conformal method)\n",
    "q_hat = find_threshold(nc_scores, alpha)"
   ]
  },
  {
   "cell_type": "code",
   "execution_count": 52,
   "id": "4d29e6c1-0ef6-4aa4-b8fe-4fe79b0d033a",
   "metadata": {
    "execution": {
     "iopub.execute_input": "2025-07-30T14:06:50.060847Z",
     "iopub.status.busy": "2025-07-30T14:06:50.060463Z",
     "iopub.status.idle": "2025-07-30T14:06:50.073749Z",
     "shell.execute_reply": "2025-07-30T14:06:50.072633Z"
    },
    "papermill": {
     "duration": 0.052379,
     "end_time": "2025-07-30T14:06:50.075545",
     "exception": false,
     "start_time": "2025-07-30T14:06:50.023166",
     "status": "completed"
    },
    "tags": []
   },
   "outputs": [
    {
     "data": {
      "text/plain": [
       "0.657388094255537"
      ]
     },
     "execution_count": 52,
     "metadata": {},
     "output_type": "execute_result"
    }
   ],
   "source": [
    "q_hat"
   ]
  },
  {
   "cell_type": "code",
   "execution_count": 53,
   "id": "92460794-cdac-4be2-ba28-f28c0515a6fb",
   "metadata": {
    "execution": {
     "iopub.execute_input": "2025-07-30T14:06:50.129801Z",
     "iopub.status.busy": "2025-07-30T14:06:50.128829Z",
     "iopub.status.idle": "2025-07-30T14:06:50.906330Z",
     "shell.execute_reply": "2025-07-30T14:06:50.905575Z"
    },
    "papermill": {
     "duration": 0.807368,
     "end_time": "2025-07-30T14:06:50.908276",
     "exception": false,
     "start_time": "2025-07-30T14:06:50.100908",
     "status": "completed"
    },
    "tags": []
   },
   "outputs": [],
   "source": [
    "from fairness_multiverse.conformal import predict_conformal_sets\n",
    "\n",
    "# Generate prediction sets for each test example\n",
    "pred_sets = predict_conformal_sets(model, X_test, q_hat)"
   ]
  },
  {
   "cell_type": "code",
   "execution_count": 54,
   "id": "d90c9a65-e6db-4f5d-80cd-e68fb7e46829",
   "metadata": {
    "execution": {
     "iopub.execute_input": "2025-07-30T14:06:50.951614Z",
     "iopub.status.busy": "2025-07-30T14:06:50.951263Z",
     "iopub.status.idle": "2025-07-30T14:06:50.956347Z",
     "shell.execute_reply": "2025-07-30T14:06:50.955269Z"
    },
    "papermill": {
     "duration": 0.02133,
     "end_time": "2025-07-30T14:06:50.958245",
     "exception": false,
     "start_time": "2025-07-30T14:06:50.936915",
     "status": "completed"
    },
    "tags": []
   },
   "outputs": [],
   "source": [
    "y_true = y_true.squeeze()"
   ]
  },
  {
   "cell_type": "code",
   "execution_count": 55,
   "id": "3a58a54a-1e68-46b9-927a-df01f18aebc8",
   "metadata": {
    "execution": {
     "iopub.execute_input": "2025-07-30T14:06:51.000819Z",
     "iopub.status.busy": "2025-07-30T14:06:51.000449Z",
     "iopub.status.idle": "2025-07-30T14:06:51.678801Z",
     "shell.execute_reply": "2025-07-30T14:06:51.678068Z"
    },
    "papermill": {
     "duration": 0.696145,
     "end_time": "2025-07-30T14:06:51.680324",
     "exception": false,
     "start_time": "2025-07-30T14:06:50.984179",
     "status": "completed"
    },
    "tags": []
   },
   "outputs": [],
   "source": [
    "from fairness_multiverse.conformal import evaluate_sets\n",
    "\n",
    "# Evaluate coverage and average set size on test data\n",
    "metrics = evaluate_sets(pred_sets, y_true)"
   ]
  },
  {
   "cell_type": "markdown",
   "id": "2b569c12-9aaa-4c88-98c9-bbcd0cf3ebb8",
   "metadata": {
    "papermill": {
     "duration": 0.026192,
     "end_time": "2025-07-30T14:06:51.725316",
     "exception": false,
     "start_time": "2025-07-30T14:06:51.699124",
     "status": "completed"
    },
    "tags": []
   },
   "source": [
    "# CP Metrics"
   ]
  },
  {
   "cell_type": "code",
   "execution_count": 56,
   "id": "5ce0a5cb-201f-45a0-ade5-94c7f0bd6095",
   "metadata": {
    "execution": {
     "iopub.execute_input": "2025-07-30T14:06:51.775702Z",
     "iopub.status.busy": "2025-07-30T14:06:51.775183Z",
     "iopub.status.idle": "2025-07-30T14:06:51.783413Z",
     "shell.execute_reply": "2025-07-30T14:06:51.782257Z"
    },
    "papermill": {
     "duration": 0.03639,
     "end_time": "2025-07-30T14:06:51.785136",
     "exception": false,
     "start_time": "2025-07-30T14:06:51.748746",
     "status": "completed"
    },
    "tags": []
   },
   "outputs": [
    {
     "data": {
      "text/plain": [
       "{'coverage': 0.914145580202876, 'avg_size': 1.2489354587002564}"
      ]
     },
     "execution_count": 56,
     "metadata": {},
     "output_type": "execute_result"
    }
   ],
   "source": [
    "metrics"
   ]
  },
  {
   "cell_type": "code",
   "execution_count": 57,
   "id": "9b9a838d-31c9-430b-ae14-12baee460d17",
   "metadata": {
    "execution": {
     "iopub.execute_input": "2025-07-30T14:06:51.839733Z",
     "iopub.status.busy": "2025-07-30T14:06:51.839179Z",
     "iopub.status.idle": "2025-07-30T14:06:51.845816Z",
     "shell.execute_reply": "2025-07-30T14:06:51.844942Z"
    },
    "papermill": {
     "duration": 0.035437,
     "end_time": "2025-07-30T14:06:51.847715",
     "exception": false,
     "start_time": "2025-07-30T14:06:51.812278",
     "status": "completed"
    },
    "tags": []
   },
   "outputs": [],
   "source": [
    "example_universe = universe.copy()\n",
    "universe_training_size = example_universe.get(\"training_size\")\n",
    "universe_scale = example_universe.get(\"scale\")\n",
    "universe_model = example_universe.get(\"model\")\n",
    "universe_exclude_features = example_universe.get(\"exclude_features\")\n",
    "universe_exclude_subgroups = example_universe.get(\"exclude_subgroups\")"
   ]
  },
  {
   "cell_type": "code",
   "execution_count": 58,
   "id": "f4b6a8ac-9dc0-4245-8a91-5b3b5999c4f9",
   "metadata": {
    "execution": {
     "iopub.execute_input": "2025-07-30T14:06:51.904351Z",
     "iopub.status.busy": "2025-07-30T14:06:51.903362Z",
     "iopub.status.idle": "2025-07-30T14:06:51.910301Z",
     "shell.execute_reply": "2025-07-30T14:06:51.909335Z"
    },
    "papermill": {
     "duration": 0.036875,
     "end_time": "2025-07-30T14:06:51.911953",
     "exception": false,
     "start_time": "2025-07-30T14:06:51.875078",
     "status": "completed"
    },
    "tags": []
   },
   "outputs": [],
   "source": [
    "cp_metrics_dict = {\n",
    "    \"universe_id\": [universe_id],\n",
    "    \"universe_training_size\": [universe_training_size],\n",
    "    \"universe_scale\": [universe_scale],\n",
    "    \"universe_model\": [universe_model],\n",
    "    \"universe_exclude_features\": [universe_exclude_features],\n",
    "    \"universe_exclude_subgroups\": [universe_exclude_subgroups],\n",
    "    \"q_hat\": [q_hat],\n",
    "    \"coverage\": [metrics[\"coverage\"]],\n",
    "    \"avg_size\": [metrics[\"avg_size\"]],\n",
    "}"
   ]
  },
  {
   "cell_type": "code",
   "execution_count": 59,
   "id": "908acbb1-0371-4915-85ca-3fa520d2efe2",
   "metadata": {
    "execution": {
     "iopub.execute_input": "2025-07-30T14:06:51.967917Z",
     "iopub.status.busy": "2025-07-30T14:06:51.967206Z",
     "iopub.status.idle": "2025-07-30T14:06:51.975568Z",
     "shell.execute_reply": "2025-07-30T14:06:51.974474Z"
    },
    "papermill": {
     "duration": 0.037656,
     "end_time": "2025-07-30T14:06:51.977220",
     "exception": false,
     "start_time": "2025-07-30T14:06:51.939564",
     "status": "completed"
    },
    "tags": []
   },
   "outputs": [
    {
     "data": {
      "text/plain": [
       "{'universe_id': ['3e3aba496858c4fcba82d2d8c53d6960'],\n",
       " 'universe_training_size': ['5k'],\n",
       " 'universe_scale': ['do-not-scale'],\n",
       " 'universe_model': ['elasticnet'],\n",
       " 'universe_exclude_features': ['age'],\n",
       " 'universe_exclude_subgroups': ['drop-non-german'],\n",
       " 'q_hat': [0.657388094255537],\n",
       " 'coverage': [0.914145580202876],\n",
       " 'avg_size': [1.2489354587002564]}"
      ]
     },
     "execution_count": 59,
     "metadata": {},
     "output_type": "execute_result"
    }
   ],
   "source": [
    "cp_metrics_dict"
   ]
  },
  {
   "cell_type": "code",
   "execution_count": 60,
   "id": "33007efc-14e9-4ec6-97ac-56a455c82265",
   "metadata": {
    "execution": {
     "iopub.execute_input": "2025-07-30T14:06:52.033009Z",
     "iopub.status.busy": "2025-07-30T14:06:52.032461Z",
     "iopub.status.idle": "2025-07-30T14:06:52.040009Z",
     "shell.execute_reply": "2025-07-30T14:06:52.038811Z"
    },
    "papermill": {
     "duration": 0.037669,
     "end_time": "2025-07-30T14:06:52.041978",
     "exception": false,
     "start_time": "2025-07-30T14:06:52.004309",
     "status": "completed"
    },
    "tags": []
   },
   "outputs": [],
   "source": [
    "cp_metrics_df = pd.DataFrame(cp_metrics_dict)"
   ]
  },
  {
   "cell_type": "code",
   "execution_count": 61,
   "id": "db12611b-57b2-4910-b9d0-355adfd6e7bf",
   "metadata": {
    "execution": {
     "iopub.execute_input": "2025-07-30T14:06:52.097702Z",
     "iopub.status.busy": "2025-07-30T14:06:52.096778Z",
     "iopub.status.idle": "2025-07-30T14:06:52.116478Z",
     "shell.execute_reply": "2025-07-30T14:06:52.115521Z"
    },
    "papermill": {
     "duration": 0.049873,
     "end_time": "2025-07-30T14:06:52.118308",
     "exception": false,
     "start_time": "2025-07-30T14:06:52.068435",
     "status": "completed"
    },
    "tags": []
   },
   "outputs": [
    {
     "data": {
      "text/html": [
       "<div>\n",
       "<style scoped>\n",
       "    .dataframe tbody tr th:only-of-type {\n",
       "        vertical-align: middle;\n",
       "    }\n",
       "\n",
       "    .dataframe tbody tr th {\n",
       "        vertical-align: top;\n",
       "    }\n",
       "\n",
       "    .dataframe thead th {\n",
       "        text-align: right;\n",
       "    }\n",
       "</style>\n",
       "<table border=\"1\" class=\"dataframe\">\n",
       "  <thead>\n",
       "    <tr style=\"text-align: right;\">\n",
       "      <th></th>\n",
       "      <th>universe_id</th>\n",
       "      <th>universe_training_size</th>\n",
       "      <th>universe_scale</th>\n",
       "      <th>universe_model</th>\n",
       "      <th>universe_exclude_features</th>\n",
       "      <th>universe_exclude_subgroups</th>\n",
       "      <th>q_hat</th>\n",
       "      <th>coverage</th>\n",
       "      <th>avg_size</th>\n",
       "    </tr>\n",
       "  </thead>\n",
       "  <tbody>\n",
       "    <tr>\n",
       "      <th>0</th>\n",
       "      <td>3e3aba496858c4fcba82d2d8c53d6960</td>\n",
       "      <td>5k</td>\n",
       "      <td>do-not-scale</td>\n",
       "      <td>elasticnet</td>\n",
       "      <td>age</td>\n",
       "      <td>drop-non-german</td>\n",
       "      <td>0.657388</td>\n",
       "      <td>0.914146</td>\n",
       "      <td>1.248935</td>\n",
       "    </tr>\n",
       "  </tbody>\n",
       "</table>\n",
       "</div>"
      ],
      "text/plain": [
       "                        universe_id universe_training_size universe_scale  \\\n",
       "0  3e3aba496858c4fcba82d2d8c53d6960                     5k   do-not-scale   \n",
       "\n",
       "  universe_model universe_exclude_features universe_exclude_subgroups  \\\n",
       "0     elasticnet                       age            drop-non-german   \n",
       "\n",
       "      q_hat  coverage  avg_size  \n",
       "0  0.657388  0.914146  1.248935  "
      ]
     },
     "execution_count": 61,
     "metadata": {},
     "output_type": "execute_result"
    }
   ],
   "source": [
    "cp_metrics_df"
   ]
  },
  {
   "cell_type": "code",
   "execution_count": 62,
   "id": "b7fbde55-a0a1-47e4-9af6-fe4a17fa8c61",
   "metadata": {
    "execution": {
     "iopub.execute_input": "2025-07-30T14:06:52.176533Z",
     "iopub.status.busy": "2025-07-30T14:06:52.175555Z",
     "iopub.status.idle": "2025-07-30T14:06:52.181005Z",
     "shell.execute_reply": "2025-07-30T14:06:52.179894Z"
    },
    "papermill": {
     "duration": 0.03753,
     "end_time": "2025-07-30T14:06:52.182995",
     "exception": false,
     "start_time": "2025-07-30T14:06:52.145465",
     "status": "completed"
    },
    "tags": []
   },
   "outputs": [],
   "source": [
    "# Conditional Coverage & looking at subgroups"
   ]
  },
  {
   "cell_type": "code",
   "execution_count": 63,
   "id": "027ae886-68dd-4141-96c7-805a5450e1ef",
   "metadata": {
    "execution": {
     "iopub.execute_input": "2025-07-30T14:06:52.290144Z",
     "iopub.status.busy": "2025-07-30T14:06:52.289626Z",
     "iopub.status.idle": "2025-07-30T14:06:52.574286Z",
     "shell.execute_reply": "2025-07-30T14:06:52.573281Z"
    },
    "papermill": {
     "duration": 0.364411,
     "end_time": "2025-07-30T14:06:52.576265",
     "exception": false,
     "start_time": "2025-07-30T14:06:52.211854",
     "status": "completed"
    },
    "tags": []
   },
   "outputs": [],
   "source": [
    "from fairness_multiverse.conformal import build_cp_groups\n",
    "\n",
    "cp_groups_df = build_cp_groups(pred_sets, y_true, X_test.index, org_test)\n",
    "#needs universe_id and setting"
   ]
  },
  {
   "cell_type": "code",
   "execution_count": 64,
   "id": "01d5802c-663a-4d1f-9d69-e036faaffbf7",
   "metadata": {
    "execution": {
     "iopub.execute_input": "2025-07-30T14:06:52.653527Z",
     "iopub.status.busy": "2025-07-30T14:06:52.652783Z",
     "iopub.status.idle": "2025-07-30T14:06:52.658710Z",
     "shell.execute_reply": "2025-07-30T14:06:52.657748Z"
    },
    "papermill": {
     "duration": 0.047886,
     "end_time": "2025-07-30T14:06:52.660744",
     "exception": false,
     "start_time": "2025-07-30T14:06:52.612858",
     "status": "completed"
    },
    "tags": []
   },
   "outputs": [],
   "source": [
    "#delete\n",
    "#cp_groups_df"
   ]
  },
  {
   "cell_type": "code",
   "execution_count": 65,
   "id": "fa424af1-d1eb-443d-b717-2d279ada8408",
   "metadata": {
    "execution": {
     "iopub.execute_input": "2025-07-30T14:06:52.722798Z",
     "iopub.status.busy": "2025-07-30T14:06:52.722268Z",
     "iopub.status.idle": "2025-07-30T14:06:52.727602Z",
     "shell.execute_reply": "2025-07-30T14:06:52.726671Z"
    },
    "papermill": {
     "duration": 0.038596,
     "end_time": "2025-07-30T14:06:52.729251",
     "exception": false,
     "start_time": "2025-07-30T14:06:52.690655",
     "status": "completed"
    },
    "tags": []
   },
   "outputs": [],
   "source": [
    "#delete\n",
    "#percentage = (cp_groups_df['nongerman_female'] == 1).mean() * 100\n",
    "#print(percentage)\n"
   ]
  },
  {
   "cell_type": "code",
   "execution_count": 66,
   "id": "6cbdab96-b2b2-45af-ad54-d0516db2e28d",
   "metadata": {
    "execution": {
     "iopub.execute_input": "2025-07-30T14:06:52.790823Z",
     "iopub.status.busy": "2025-07-30T14:06:52.790316Z",
     "iopub.status.idle": "2025-07-30T14:06:54.910059Z",
     "shell.execute_reply": "2025-07-30T14:06:54.909151Z"
    },
    "papermill": {
     "duration": 2.152617,
     "end_time": "2025-07-30T14:06:54.913057",
     "exception": false,
     "start_time": "2025-07-30T14:06:52.760440",
     "status": "completed"
    },
    "tags": []
   },
   "outputs": [],
   "source": [
    "# Define covered = 1 if true_label is in the predicted set\n",
    "cp_groups_df['covered'] = cp_groups_df.apply(\n",
    "    lambda r: int(r['true_label'] in r['pred_set']),\n",
    "    axis=1\n",
    ")"
   ]
  },
  {
   "cell_type": "code",
   "execution_count": 67,
   "id": "338ff529-1a6b-4b87-a931-8e4788d52aad",
   "metadata": {
    "execution": {
     "iopub.execute_input": "2025-07-30T14:06:54.968488Z",
     "iopub.status.busy": "2025-07-30T14:06:54.967941Z",
     "iopub.status.idle": "2025-07-30T14:06:54.973117Z",
     "shell.execute_reply": "2025-07-30T14:06:54.972146Z"
    },
    "papermill": {
     "duration": 0.037008,
     "end_time": "2025-07-30T14:06:54.974942",
     "exception": false,
     "start_time": "2025-07-30T14:06:54.937934",
     "status": "completed"
    },
    "tags": []
   },
   "outputs": [],
   "source": [
    "#cp_groups_df"
   ]
  },
  {
   "cell_type": "code",
   "execution_count": 68,
   "id": "90032e27-66df-4540-9169-4e89cfbaa758",
   "metadata": {
    "execution": {
     "iopub.execute_input": "2025-07-30T14:06:55.030259Z",
     "iopub.status.busy": "2025-07-30T14:06:55.029775Z",
     "iopub.status.idle": "2025-07-30T14:06:55.040392Z",
     "shell.execute_reply": "2025-07-30T14:06:55.039586Z"
    },
    "papermill": {
     "duration": 0.041958,
     "end_time": "2025-07-30T14:06:55.041958",
     "exception": false,
     "start_time": "2025-07-30T14:06:55",
     "status": "completed"
    },
    "tags": []
   },
   "outputs": [],
   "source": [
    "subgroups = ['frau1','nongerman','nongerman_male','nongerman_female']\n",
    "\n",
    "# Conditional coverage for subgroup==1\n",
    "cond_coverage = {\n",
    "    g: cp_groups_df.loc[cp_groups_df[g]==1, 'covered'].mean()\n",
    "    for g in subgroups\n",
    "}"
   ]
  },
  {
   "cell_type": "code",
   "execution_count": 69,
   "id": "1e348fb1-b9c3-45bc-ba23-f016827a7e0d",
   "metadata": {
    "execution": {
     "iopub.execute_input": "2025-07-30T14:06:55.101976Z",
     "iopub.status.busy": "2025-07-30T14:06:55.101574Z",
     "iopub.status.idle": "2025-07-30T14:06:55.108364Z",
     "shell.execute_reply": "2025-07-30T14:06:55.107336Z"
    },
    "papermill": {
     "duration": 0.038049,
     "end_time": "2025-07-30T14:06:55.109727",
     "exception": false,
     "start_time": "2025-07-30T14:06:55.071678",
     "status": "completed"
    },
    "tags": []
   },
   "outputs": [
    {
     "data": {
      "text/plain": [
       "{'frau1': 0.911928831378892,\n",
       " 'nongerman': 0.9617133554145848,\n",
       " 'nongerman_male': 0.9678465279654147,\n",
       " 'nongerman_female': 0.9515648286140089}"
      ]
     },
     "execution_count": 69,
     "metadata": {},
     "output_type": "execute_result"
    }
   ],
   "source": [
    "cond_coverage"
   ]
  },
  {
   "cell_type": "code",
   "execution_count": 70,
   "id": "f5093324-c3dd-4d63-bc4c-8d945e5c8bbb",
   "metadata": {
    "execution": {
     "iopub.execute_input": "2025-07-30T14:06:55.145790Z",
     "iopub.status.busy": "2025-07-30T14:06:55.145250Z",
     "iopub.status.idle": "2025-07-30T14:06:55.151667Z",
     "shell.execute_reply": "2025-07-30T14:06:55.150886Z"
    },
    "papermill": {
     "duration": 0.025202,
     "end_time": "2025-07-30T14:06:55.153211",
     "exception": false,
     "start_time": "2025-07-30T14:06:55.128009",
     "status": "completed"
    },
    "tags": []
   },
   "outputs": [],
   "source": [
    "for subgroup, cov in cond_coverage.items():\n",
    "    cp_metrics_df[f\"cov_{subgroup}\"] = cov"
   ]
  },
  {
   "cell_type": "code",
   "execution_count": 71,
   "id": "6e872e10-dbe5-49e8-b554-5030c98ff75d",
   "metadata": {
    "execution": {
     "iopub.execute_input": "2025-07-30T14:06:55.185557Z",
     "iopub.status.busy": "2025-07-30T14:06:55.185016Z",
     "iopub.status.idle": "2025-07-30T14:06:55.199248Z",
     "shell.execute_reply": "2025-07-30T14:06:55.198482Z"
    },
    "papermill": {
     "duration": 0.031616,
     "end_time": "2025-07-30T14:06:55.200643",
     "exception": false,
     "start_time": "2025-07-30T14:06:55.169027",
     "status": "completed"
    },
    "tags": []
   },
   "outputs": [
    {
     "data": {
      "text/html": [
       "<div>\n",
       "<style scoped>\n",
       "    .dataframe tbody tr th:only-of-type {\n",
       "        vertical-align: middle;\n",
       "    }\n",
       "\n",
       "    .dataframe tbody tr th {\n",
       "        vertical-align: top;\n",
       "    }\n",
       "\n",
       "    .dataframe thead th {\n",
       "        text-align: right;\n",
       "    }\n",
       "</style>\n",
       "<table border=\"1\" class=\"dataframe\">\n",
       "  <thead>\n",
       "    <tr style=\"text-align: right;\">\n",
       "      <th></th>\n",
       "      <th>universe_id</th>\n",
       "      <th>universe_training_size</th>\n",
       "      <th>universe_scale</th>\n",
       "      <th>universe_model</th>\n",
       "      <th>universe_exclude_features</th>\n",
       "      <th>universe_exclude_subgroups</th>\n",
       "      <th>q_hat</th>\n",
       "      <th>coverage</th>\n",
       "      <th>avg_size</th>\n",
       "      <th>cov_frau1</th>\n",
       "      <th>cov_nongerman</th>\n",
       "      <th>cov_nongerman_male</th>\n",
       "      <th>cov_nongerman_female</th>\n",
       "    </tr>\n",
       "  </thead>\n",
       "  <tbody>\n",
       "    <tr>\n",
       "      <th>0</th>\n",
       "      <td>3e3aba496858c4fcba82d2d8c53d6960</td>\n",
       "      <td>5k</td>\n",
       "      <td>do-not-scale</td>\n",
       "      <td>elasticnet</td>\n",
       "      <td>age</td>\n",
       "      <td>drop-non-german</td>\n",
       "      <td>0.657388</td>\n",
       "      <td>0.914146</td>\n",
       "      <td>1.248935</td>\n",
       "      <td>0.911929</td>\n",
       "      <td>0.961713</td>\n",
       "      <td>0.967847</td>\n",
       "      <td>0.951565</td>\n",
       "    </tr>\n",
       "  </tbody>\n",
       "</table>\n",
       "</div>"
      ],
      "text/plain": [
       "                        universe_id universe_training_size universe_scale  \\\n",
       "0  3e3aba496858c4fcba82d2d8c53d6960                     5k   do-not-scale   \n",
       "\n",
       "  universe_model universe_exclude_features universe_exclude_subgroups  \\\n",
       "0     elasticnet                       age            drop-non-german   \n",
       "\n",
       "      q_hat  coverage  avg_size  cov_frau1  cov_nongerman  cov_nongerman_male  \\\n",
       "0  0.657388  0.914146  1.248935   0.911929       0.961713            0.967847   \n",
       "\n",
       "   cov_nongerman_female  \n",
       "0              0.951565  "
      ]
     },
     "execution_count": 71,
     "metadata": {},
     "output_type": "execute_result"
    }
   ],
   "source": [
    "cp_metrics_df"
   ]
  },
  {
   "cell_type": "markdown",
   "id": "33774451",
   "metadata": {
    "papermill": {
     "duration": 0.017513,
     "end_time": "2025-07-30T14:06:55.235949",
     "exception": false,
     "start_time": "2025-07-30T14:06:55.218436",
     "status": "completed"
    },
    "tags": []
   },
   "source": [
    "# (Fairness) Metrics"
   ]
  },
  {
   "cell_type": "code",
   "execution_count": 72,
   "id": "debc5d62",
   "metadata": {
    "execution": {
     "iopub.execute_input": "2025-07-30T14:06:55.272191Z",
     "iopub.status.busy": "2025-07-30T14:06:55.271604Z",
     "iopub.status.idle": "2025-07-30T14:06:55.288331Z",
     "shell.execute_reply": "2025-07-30T14:06:55.287319Z"
    },
    "papermill": {
     "duration": 0.036919,
     "end_time": "2025-07-30T14:06:55.290109",
     "exception": false,
     "start_time": "2025-07-30T14:06:55.253190",
     "status": "completed"
    },
    "tags": []
   },
   "outputs": [],
   "source": [
    "# do I need to include maxdeutsch1.missing?\n",
    "\n",
    "import numpy as np\n",
    "\n",
    "colname_to_bin = \"maxdeutsch1\"\n",
    "majority_value = org_train[colname_to_bin].mode()[0]\n",
    "\n",
    "org_test[\"majmin\"] = np.where(org_test[colname_to_bin] == majority_value, \"majority\", \"minority\")"
   ]
  },
  {
   "cell_type": "code",
   "execution_count": 73,
   "id": "06a50de5",
   "metadata": {
    "execution": {
     "iopub.execute_input": "2025-07-30T14:06:55.327366Z",
     "iopub.status.busy": "2025-07-30T14:06:55.326502Z",
     "iopub.status.idle": "2025-07-30T14:06:57.710856Z",
     "shell.execute_reply": "2025-07-30T14:06:57.709736Z"
    },
    "papermill": {
     "duration": 2.404897,
     "end_time": "2025-07-30T14:06:57.712908",
     "exception": false,
     "start_time": "2025-07-30T14:06:55.308011",
     "status": "completed"
    },
    "tags": []
   },
   "outputs": [],
   "source": [
    "example_universe = universe.copy()\n",
    "example_universe[\"cutoff\"] = example_universe[\"cutoff\"][0]\n",
    "example_universe[\"eval_fairness_grouping\"] = example_universe[\"eval_fairness_grouping\"][0]\n",
    "fairness_dict, metric_frame = universe_analysis.compute_metrics(\n",
    "    example_universe,\n",
    "    y_pred_prob=probs_test,\n",
    "    y_test=y_true,\n",
    "    org_test=org_test,\n",
    ")"
   ]
  },
  {
   "cell_type": "markdown",
   "id": "f95d4e02",
   "metadata": {
    "papermill": {
     "duration": 0.04027,
     "end_time": "2025-07-30T14:06:57.784881",
     "exception": false,
     "start_time": "2025-07-30T14:06:57.744611",
     "status": "completed"
    },
    "tags": []
   },
   "source": [
    "# Overall"
   ]
  },
  {
   "cell_type": "markdown",
   "id": "bdee4871",
   "metadata": {
    "papermill": {
     "duration": 0.02845,
     "end_time": "2025-07-30T14:06:57.843182",
     "exception": false,
     "start_time": "2025-07-30T14:06:57.814732",
     "status": "completed"
    },
    "tags": []
   },
   "source": [
    "Fairness\n",
    "Main fairness target: Equalized Odds. Seems to be a better fit than equal opportunity, since we're not only interested in Y = 1. Seems to be a better fit than demographic parity, since we also care about accuracy, not just equal distribution of preds.\n",
    "\n",
    "Pick column for computation of fairness metrics\n",
    "\n",
    "Performance\n",
    "Overall performance measures, most interesting in relation to the measures split by group below"
   ]
  },
  {
   "cell_type": "code",
   "execution_count": 74,
   "id": "c4e067c6",
   "metadata": {
    "execution": {
     "iopub.execute_input": "2025-07-30T14:06:57.903350Z",
     "iopub.status.busy": "2025-07-30T14:06:57.902893Z",
     "iopub.status.idle": "2025-07-30T14:06:57.912400Z",
     "shell.execute_reply": "2025-07-30T14:06:57.911349Z"
    },
    "papermill": {
     "duration": 0.041517,
     "end_time": "2025-07-30T14:06:57.914282",
     "exception": false,
     "start_time": "2025-07-30T14:06:57.872765",
     "status": "completed"
    },
    "tags": []
   },
   "outputs": [
    {
     "data": {
      "text/plain": [
       "accuracy                   0.218002\n",
       "balanced accuracy          0.534381\n",
       "f1                         0.239509\n",
       "precision                  0.136824\n",
       "false positive rate        0.891179\n",
       "false negative rate        0.040059\n",
       "selection rate             0.900000\n",
       "count                  89710.000000\n",
       "dtype: float64"
      ]
     },
     "execution_count": 74,
     "metadata": {},
     "output_type": "execute_result"
    }
   ],
   "source": [
    "metric_frame.overall"
   ]
  },
  {
   "cell_type": "markdown",
   "id": "e968fe9d",
   "metadata": {
    "papermill": {
     "duration": 0.027542,
     "end_time": "2025-07-30T14:06:57.973705",
     "exception": false,
     "start_time": "2025-07-30T14:06:57.946163",
     "status": "completed"
    },
    "tags": []
   },
   "source": [
    "By Group"
   ]
  },
  {
   "cell_type": "code",
   "execution_count": 75,
   "id": "ec325bce",
   "metadata": {
    "execution": {
     "iopub.execute_input": "2025-07-30T14:06:58.029668Z",
     "iopub.status.busy": "2025-07-30T14:06:58.029264Z",
     "iopub.status.idle": "2025-07-30T14:06:58.044092Z",
     "shell.execute_reply": "2025-07-30T14:06:58.043037Z"
    },
    "papermill": {
     "duration": 0.049367,
     "end_time": "2025-07-30T14:06:58.050721",
     "exception": false,
     "start_time": "2025-07-30T14:06:58.001354",
     "status": "completed"
    },
    "tags": []
   },
   "outputs": [
    {
     "data": {
      "text/html": [
       "<div>\n",
       "<style scoped>\n",
       "    .dataframe tbody tr th:only-of-type {\n",
       "        vertical-align: middle;\n",
       "    }\n",
       "\n",
       "    .dataframe tbody tr th {\n",
       "        vertical-align: top;\n",
       "    }\n",
       "\n",
       "    .dataframe thead th {\n",
       "        text-align: right;\n",
       "    }\n",
       "</style>\n",
       "<table border=\"1\" class=\"dataframe\">\n",
       "  <thead>\n",
       "    <tr style=\"text-align: right;\">\n",
       "      <th></th>\n",
       "      <th>accuracy</th>\n",
       "      <th>balanced accuracy</th>\n",
       "      <th>f1</th>\n",
       "      <th>precision</th>\n",
       "      <th>false positive rate</th>\n",
       "      <th>false negative rate</th>\n",
       "      <th>selection rate</th>\n",
       "      <th>count</th>\n",
       "    </tr>\n",
       "    <tr>\n",
       "      <th>majmin</th>\n",
       "      <th></th>\n",
       "      <th></th>\n",
       "      <th></th>\n",
       "      <th></th>\n",
       "      <th></th>\n",
       "      <th></th>\n",
       "      <th></th>\n",
       "      <th></th>\n",
       "    </tr>\n",
       "  </thead>\n",
       "  <tbody>\n",
       "    <tr>\n",
       "      <th>majority</th>\n",
       "      <td>0.24061</td>\n",
       "      <td>0.542970</td>\n",
       "      <td>0.249239</td>\n",
       "      <td>0.143346</td>\n",
       "      <td>0.867999</td>\n",
       "      <td>0.046061</td>\n",
       "      <td>0.879355</td>\n",
       "      <td>69170.0</td>\n",
       "    </tr>\n",
       "    <tr>\n",
       "      <th>minority</th>\n",
       "      <td>0.14187</td>\n",
       "      <td>0.507678</td>\n",
       "      <td>0.208958</td>\n",
       "      <td>0.116903</td>\n",
       "      <td>0.967753</td>\n",
       "      <td>0.016892</td>\n",
       "      <td>0.969523</td>\n",
       "      <td>20540.0</td>\n",
       "    </tr>\n",
       "  </tbody>\n",
       "</table>\n",
       "</div>"
      ],
      "text/plain": [
       "          accuracy  balanced accuracy        f1  precision  \\\n",
       "majmin                                                       \n",
       "majority   0.24061           0.542970  0.249239   0.143346   \n",
       "minority   0.14187           0.507678  0.208958   0.116903   \n",
       "\n",
       "          false positive rate  false negative rate  selection rate    count  \n",
       "majmin                                                                       \n",
       "majority             0.867999             0.046061        0.879355  69170.0  \n",
       "minority             0.967753             0.016892        0.969523  20540.0  "
      ]
     },
     "execution_count": 75,
     "metadata": {},
     "output_type": "execute_result"
    }
   ],
   "source": [
    "metric_frame.by_group"
   ]
  },
  {
   "cell_type": "code",
   "execution_count": 76,
   "id": "a9ddbe63",
   "metadata": {
    "execution": {
     "iopub.execute_input": "2025-07-30T14:06:58.093761Z",
     "iopub.status.busy": "2025-07-30T14:06:58.093418Z",
     "iopub.status.idle": "2025-07-30T14:07:00.491602Z",
     "shell.execute_reply": "2025-07-30T14:07:00.490789Z"
    },
    "papermill": {
     "duration": 2.41512,
     "end_time": "2025-07-30T14:07:00.493221",
     "exception": false,
     "start_time": "2025-07-30T14:06:58.078101",
     "status": "completed"
    },
    "tags": []
   },
   "outputs": [
    {
     "data": {
      "text/plain": [
       "array([[<Axes: title={'center': 'accuracy'}, xlabel='majmin'>,\n",
       "        <Axes: title={'center': 'balanced accuracy'}, xlabel='majmin'>,\n",
       "        <Axes: title={'center': 'f1'}, xlabel='majmin'>],\n",
       "       [<Axes: title={'center': 'precision'}, xlabel='majmin'>,\n",
       "        <Axes: title={'center': 'false positive rate'}, xlabel='majmin'>,\n",
       "        <Axes: title={'center': 'false negative rate'}, xlabel='majmin'>],\n",
       "       [<Axes: title={'center': 'selection rate'}, xlabel='majmin'>,\n",
       "        <Axes: title={'center': 'count'}, xlabel='majmin'>,\n",
       "        <Axes: xlabel='majmin'>]], dtype=object)"
      ]
     },
     "execution_count": 76,
     "metadata": {},
     "output_type": "execute_result"
    },
    {
     "data": {
      "image/png": "[encoded data removed]",
      "text/plain": [
       "<Figure size 1200x800 with 9 Axes>"
      ]
     },
     "metadata": {},
     "output_type": "display_data"
    }
   ],
   "source": [
    "# In a graphic\n",
    "metric_frame.by_group.plot.bar(\n",
    "    subplots=True,\n",
    "    layout=[3, 3],\n",
    "    legend=False,\n",
    "    figsize=[12, 8],\n",
    "    title=\"Show all metrics\",\n",
    ")"
   ]
  },
  {
   "cell_type": "markdown",
   "id": "f57a0bac",
   "metadata": {
    "papermill": {
     "duration": 0.031197,
     "end_time": "2025-07-30T14:07:00.553020",
     "exception": false,
     "start_time": "2025-07-30T14:07:00.521823",
     "status": "completed"
    },
    "tags": []
   },
   "source": [
    "# Final Output"
   ]
  },
  {
   "cell_type": "code",
   "execution_count": 77,
   "id": "96d280a3",
   "metadata": {
    "execution": {
     "iopub.execute_input": "2025-07-30T14:07:00.612796Z",
     "iopub.status.busy": "2025-07-30T14:07:00.611947Z",
     "iopub.status.idle": "2025-07-30T14:07:00.620162Z",
     "shell.execute_reply": "2025-07-30T14:07:00.619204Z"
    },
    "papermill": {
     "duration": 0.040565,
     "end_time": "2025-07-30T14:07:00.621873",
     "exception": false,
     "start_time": "2025-07-30T14:07:00.581308",
     "status": "completed"
    },
    "tags": []
   },
   "outputs": [
    {
     "data": {
      "text/plain": [
       "4"
      ]
     },
     "execution_count": 77,
     "metadata": {},
     "output_type": "execute_result"
    }
   ],
   "source": [
    "sub_universes = universe_analysis.generate_sub_universes()\n",
    "len(sub_universes)"
   ]
  },
  {
   "cell_type": "code",
   "execution_count": 78,
   "id": "92adf7ba",
   "metadata": {
    "execution": {
     "iopub.execute_input": "2025-07-30T14:07:00.686689Z",
     "iopub.status.busy": "2025-07-30T14:07:00.686027Z",
     "iopub.status.idle": "2025-07-30T14:07:00.692398Z",
     "shell.execute_reply": "2025-07-30T14:07:00.691335Z"
    },
    "papermill": {
     "duration": 0.040923,
     "end_time": "2025-07-30T14:07:00.693942",
     "exception": false,
     "start_time": "2025-07-30T14:07:00.653019",
     "status": "completed"
    },
    "tags": []
   },
   "outputs": [],
   "source": [
    "def filter_sub_universe_data(sub_universe, org_test):\n",
    "    # Keep all rows — no filtering\n",
    "    keep_rows_mask = np.ones(org_test.shape[0], dtype=bool)\n",
    "\n",
    "    print(f\"[INFO] Keeping all rows: {keep_rows_mask.sum()} rows retained.\")\n",
    "    return keep_rows_mask"
   ]
  },
  {
   "cell_type": "code",
   "execution_count": 79,
   "id": "4a759155",
   "metadata": {
    "execution": {
     "iopub.execute_input": "2025-07-30T14:07:00.755835Z",
     "iopub.status.busy": "2025-07-30T14:07:00.755247Z",
     "iopub.status.idle": "2025-07-30T14:07:11.215247Z",
     "shell.execute_reply": "2025-07-30T14:07:11.214276Z"
    },
    "papermill": {
     "duration": 10.493518,
     "end_time": "2025-07-30T14:07:11.217132",
     "exception": false,
     "start_time": "2025-07-30T14:07:00.723614",
     "status": "completed"
    },
    "tags": []
   },
   "outputs": [
    {
     "name": "stdout",
     "output_type": "stream",
     "text": [
      "Stopping execution_time clock.\n",
      "[INFO] Keeping all rows: 89710 rows retained.\n"
     ]
    },
    {
     "name": "stdout",
     "output_type": "stream",
     "text": [
      "[INFO] Keeping all rows: 89710 rows retained.\n"
     ]
    },
    {
     "name": "stdout",
     "output_type": "stream",
     "text": [
      "[INFO] Keeping all rows: 89710 rows retained.\n"
     ]
    },
    {
     "name": "stdout",
     "output_type": "stream",
     "text": [
      "[INFO] Keeping all rows: 89710 rows retained.\n"
     ]
    },
    {
     "data": {
      "text/html": [
       "<div>\n",
       "<style scoped>\n",
       "    .dataframe tbody tr th:only-of-type {\n",
       "        vertical-align: middle;\n",
       "    }\n",
       "\n",
       "    .dataframe tbody tr th {\n",
       "        vertical-align: top;\n",
       "    }\n",
       "\n",
       "    .dataframe thead th {\n",
       "        text-align: right;\n",
       "    }\n",
       "</style>\n",
       "<table border=\"1\" class=\"dataframe\">\n",
       "  <thead>\n",
       "    <tr style=\"text-align: right;\">\n",
       "      <th></th>\n",
       "      <th>run_no</th>\n",
       "      <th>universe_id</th>\n",
       "      <th>universe_settings</th>\n",
       "      <th>execution_time</th>\n",
       "      <th>test_size_n</th>\n",
       "      <th>test_size_frac</th>\n",
       "      <th>fair_main_equalized_odds_difference</th>\n",
       "      <th>fair_main_equalized_odds_ratio</th>\n",
       "      <th>fair_main_demographic_parity_difference</th>\n",
       "      <th>fair_main_demographic_parity_ratio</th>\n",
       "      <th>...</th>\n",
       "      <th>perf_grp_precision_0</th>\n",
       "      <th>perf_grp_precision_1</th>\n",
       "      <th>perf_grp_false positive rate_0</th>\n",
       "      <th>perf_grp_false positive rate_1</th>\n",
       "      <th>perf_grp_false negative rate_0</th>\n",
       "      <th>perf_grp_false negative rate_1</th>\n",
       "      <th>perf_grp_selection rate_0</th>\n",
       "      <th>perf_grp_selection rate_1</th>\n",
       "      <th>perf_grp_count_0</th>\n",
       "      <th>perf_grp_count_1</th>\n",
       "    </tr>\n",
       "  </thead>\n",
       "  <tbody>\n",
       "    <tr>\n",
       "      <th>0</th>\n",
       "      <td>12</td>\n",
       "      <td>3e3aba496858c4fcba82d2d8c53d6960</td>\n",
       "      <td>{\"cutoff\": \"quantile_0.1\", \"eval_fairness_grou...</td>\n",
       "      <td>99.069733</td>\n",
       "      <td>89710</td>\n",
       "      <td>1.0</td>\n",
       "      <td>0.099753</td>\n",
       "      <td>0.896923</td>\n",
       "      <td>0.090168</td>\n",
       "      <td>0.906998</td>\n",
       "      <td>...</td>\n",
       "      <td>NaN</td>\n",
       "      <td>NaN</td>\n",
       "      <td>NaN</td>\n",
       "      <td>NaN</td>\n",
       "      <td>NaN</td>\n",
       "      <td>NaN</td>\n",
       "      <td>NaN</td>\n",
       "      <td>NaN</td>\n",
       "      <td>NaN</td>\n",
       "      <td>NaN</td>\n",
       "    </tr>\n",
       "    <tr>\n",
       "      <th>0</th>\n",
       "      <td>12</td>\n",
       "      <td>3e3aba496858c4fcba82d2d8c53d6960</td>\n",
       "      <td>{\"cutoff\": \"quantile_0.1\", \"eval_fairness_grou...</td>\n",
       "      <td>99.069733</td>\n",
       "      <td>89710</td>\n",
       "      <td>1.0</td>\n",
       "      <td>0.099753</td>\n",
       "      <td>0.896923</td>\n",
       "      <td>0.090168</td>\n",
       "      <td>0.906998</td>\n",
       "      <td>...</td>\n",
       "      <td>0.116903</td>\n",
       "      <td>0.143346</td>\n",
       "      <td>0.967753</td>\n",
       "      <td>0.867999</td>\n",
       "      <td>0.016892</td>\n",
       "      <td>0.046061</td>\n",
       "      <td>0.969523</td>\n",
       "      <td>0.879355</td>\n",
       "      <td>20540.0</td>\n",
       "      <td>69170.0</td>\n",
       "    </tr>\n",
       "    <tr>\n",
       "      <th>0</th>\n",
       "      <td>12</td>\n",
       "      <td>3e3aba496858c4fcba82d2d8c53d6960</td>\n",
       "      <td>{\"cutoff\": \"quantile_0.25\", \"eval_fairness_gro...</td>\n",
       "      <td>99.069733</td>\n",
       "      <td>89710</td>\n",
       "      <td>1.0</td>\n",
       "      <td>0.238253</td>\n",
       "      <td>0.739357</td>\n",
       "      <td>0.217976</td>\n",
       "      <td>0.762570</td>\n",
       "      <td>...</td>\n",
       "      <td>NaN</td>\n",
       "      <td>NaN</td>\n",
       "      <td>NaN</td>\n",
       "      <td>NaN</td>\n",
       "      <td>NaN</td>\n",
       "      <td>NaN</td>\n",
       "      <td>NaN</td>\n",
       "      <td>NaN</td>\n",
       "      <td>NaN</td>\n",
       "      <td>NaN</td>\n",
       "    </tr>\n",
       "    <tr>\n",
       "      <th>0</th>\n",
       "      <td>12</td>\n",
       "      <td>3e3aba496858c4fcba82d2d8c53d6960</td>\n",
       "      <td>{\"cutoff\": \"quantile_0.25\", \"eval_fairness_gro...</td>\n",
       "      <td>99.069733</td>\n",
       "      <td>89710</td>\n",
       "      <td>1.0</td>\n",
       "      <td>0.238253</td>\n",
       "      <td>0.739357</td>\n",
       "      <td>0.217976</td>\n",
       "      <td>0.762570</td>\n",
       "      <td>...</td>\n",
       "      <td>0.119107</td>\n",
       "      <td>0.162189</td>\n",
       "      <td>0.914099</td>\n",
       "      <td>0.675845</td>\n",
       "      <td>0.051520</td>\n",
       "      <td>0.140700</td>\n",
       "      <td>0.918062</td>\n",
       "      <td>0.700087</td>\n",
       "      <td>20540.0</td>\n",
       "      <td>69170.0</td>\n",
       "    </tr>\n",
       "  </tbody>\n",
       "</table>\n",
       "<p>4 rows × 50 columns</p>\n",
       "</div>"
      ],
      "text/plain": [
       "  run_no                       universe_id  \\\n",
       "0     12  3e3aba496858c4fcba82d2d8c53d6960   \n",
       "0     12  3e3aba496858c4fcba82d2d8c53d6960   \n",
       "0     12  3e3aba496858c4fcba82d2d8c53d6960   \n",
       "0     12  3e3aba496858c4fcba82d2d8c53d6960   \n",
       "\n",
       "                                   universe_settings  execution_time  \\\n",
       "0  {\"cutoff\": \"quantile_0.1\", \"eval_fairness_grou...       99.069733   \n",
       "0  {\"cutoff\": \"quantile_0.1\", \"eval_fairness_grou...       99.069733   \n",
       "0  {\"cutoff\": \"quantile_0.25\", \"eval_fairness_gro...       99.069733   \n",
       "0  {\"cutoff\": \"quantile_0.25\", \"eval_fairness_gro...       99.069733   \n",
       "\n",
       "   test_size_n  test_size_frac  fair_main_equalized_odds_difference  \\\n",
       "0        89710             1.0                             0.099753   \n",
       "0        89710             1.0                             0.099753   \n",
       "0        89710             1.0                             0.238253   \n",
       "0        89710             1.0                             0.238253   \n",
       "\n",
       "   fair_main_equalized_odds_ratio  fair_main_demographic_parity_difference  \\\n",
       "0                        0.896923                                 0.090168   \n",
       "0                        0.896923                                 0.090168   \n",
       "0                        0.739357                                 0.217976   \n",
       "0                        0.739357                                 0.217976   \n",
       "\n",
       "   fair_main_demographic_parity_ratio  ...  perf_grp_precision_0  \\\n",
       "0                            0.906998  ...                   NaN   \n",
       "0                            0.906998  ...              0.116903   \n",
       "0                            0.762570  ...                   NaN   \n",
       "0                            0.762570  ...              0.119107   \n",
       "\n",
       "   perf_grp_precision_1  perf_grp_false positive rate_0  \\\n",
       "0                   NaN                             NaN   \n",
       "0              0.143346                        0.967753   \n",
       "0                   NaN                             NaN   \n",
       "0              0.162189                        0.914099   \n",
       "\n",
       "   perf_grp_false positive rate_1  perf_grp_false negative rate_0  \\\n",
       "0                             NaN                             NaN   \n",
       "0                        0.867999                        0.016892   \n",
       "0                             NaN                             NaN   \n",
       "0                        0.675845                        0.051520   \n",
       "\n",
       "   perf_grp_false negative rate_1  perf_grp_selection rate_0  \\\n",
       "0                             NaN                        NaN   \n",
       "0                        0.046061                   0.969523   \n",
       "0                             NaN                        NaN   \n",
       "0                        0.140700                   0.918062   \n",
       "\n",
       "   perf_grp_selection rate_1  perf_grp_count_0  perf_grp_count_1  \n",
       "0                        NaN               NaN               NaN  \n",
       "0                   0.879355           20540.0           69170.0  \n",
       "0                        NaN               NaN               NaN  \n",
       "0                   0.700087           20540.0           69170.0  \n",
       "\n",
       "[4 rows x 50 columns]"
      ]
     },
     "execution_count": 79,
     "metadata": {},
     "output_type": "execute_result"
    }
   ],
   "source": [
    "final_output = universe_analysis.generate_final_output(\n",
    "    y_pred_prob=probs_test,\n",
    "    y_test=y_true,\n",
    "    org_test=org_test,\n",
    "    filter_data=filter_sub_universe_data,\n",
    "    cp_metrics_df=cp_metrics_df,\n",
    "    save=True,\n",
    ")\n",
    "final_output"
   ]
  },
  {
   "cell_type": "code",
   "execution_count": null,
   "id": "721ff514-cb11-46f8-b6fc-50392f74b5cb",
   "metadata": {
    "papermill": {
     "duration": 0.033093,
     "end_time": "2025-07-30T14:07:11.286703",
     "exception": false,
     "start_time": "2025-07-30T14:07:11.253610",
     "status": "completed"
    },
    "tags": []
   },
   "outputs": [],
   "source": []
  }
 ],
 "metadata": {
  "celltoolbar": "Tags",
  "kernelspec": {
   "display_name": "Python (CMA Fairness)",
   "language": "python",
   "name": "cma_fair_env"
  },
  "language_info": {
   "codemirror_mode": {
    "name": "ipython",
    "version": 3
   },
   "file_extension": ".py",
   "mimetype": "text/x-python",
   "name": "python",
   "nbconvert_exporter": "python",
   "pygments_lexer": "ipython3",
   "version": "3.10.12"
  },
  "papermill": {
   "default_parameters": {},
   "duration": 113.634975,
   "end_time": "2025-07-30T14:07:12.140665",
   "environment_variables": {},
   "exception": null,
   "input_path": "universe_analysis.ipynb",
   "output_path": "output/runs/12/notebooks/m_12-3e3aba496858c4fcba82d2d8c53d6960.ipynb",
   "parameters": {
    "output_dir": "output",
    "run_no": "12",
    "seed": "2023",
    "universe": "{\"cutoff\": [\"quantile_0.1\", \"quantile_0.25\"], \"eval_fairness_grouping\": [\"majority-minority\", \"nationality-all\"], \"exclude_features\": \"age\", \"exclude_subgroups\": \"drop-non-german\", \"model\": \"elasticnet\", \"scale\": \"do-not-scale\", \"training_size\": \"5k\", \"training_year\": \"2012_14\"}",
    "universe_id": "3e3aba496858c4fcba82d2d8c53d6960"
   },
   "start_time": "2025-07-30T14:05:18.505690",
   "version": "2.6.0"
  }
 },
 "nbformat": 4,
 "nbformat_minor": 5
}