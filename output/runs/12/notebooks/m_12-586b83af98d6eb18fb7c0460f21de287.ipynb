{
 "cells": [
  {
   "cell_type": "code",
   "execution_count": 1,
   "id": "f159f837-637b-42ba-96b5-ec9a68c44524",
   "metadata": {
    "execution": {
     "iopub.execute_input": "2025-07-30T13:02:35.645901Z",
     "iopub.status.busy": "2025-07-30T13:02:35.645125Z",
     "iopub.status.idle": "2025-07-30T13:02:35.658051Z",
     "shell.execute_reply": "2025-07-30T13:02:35.657213Z"
    },
    "papermill": {
     "duration": 0.072195,
     "end_time": "2025-07-30T13:02:35.659747",
     "exception": false,
     "start_time": "2025-07-30T13:02:35.587552",
     "status": "completed"
    },
    "tags": []
   },
   "outputs": [
    {
     "name": "stdout",
     "output_type": "stream",
     "text": [
      "/dss/dsshome1/0C/ra93lal2/cma/CMA_Fairness_v2\n"
     ]
    },
    {
     "name": "stderr",
     "output_type": "stream",
     "text": [
      "/dss/dsshome1/0C/ra93lal2/.local/share/virtualenvs/CMA_Fairness_v2-3j10GkSs/lib/python3.10/site-packages/IPython/core/magics/osm.py:393: UserWarning: This is now an optional IPython functionality, using bookmarks requires you to install the `pickleshare` library.\n",
      "  bkms = self.shell.db.get('bookmarks', {})\n",
      "/dss/dsshome1/0C/ra93lal2/.local/share/virtualenvs/CMA_Fairness_v2-3j10GkSs/lib/python3.10/site-packages/IPython/core/magics/osm.py:417: UserWarning: This is now an optional IPython functionality, setting dhist requires you to install the `pickleshare` library.\n",
      "  self.shell.db['dhist'] = compress_dhist(dhist)[-100:]\n"
     ]
    }
   ],
   "source": [
    "%cd ~/cma/CMA_Fairness_v2"
   ]
  },
  {
   "cell_type": "markdown",
   "id": "de2603b9",
   "metadata": {
    "papermill": {
     "duration": 0.017914,
     "end_time": "2025-07-30T13:02:35.695934",
     "exception": false,
     "start_time": "2025-07-30T13:02:35.678020",
     "status": "completed"
    },
    "tags": []
   },
   "source": [
    "The following cell holds the definition of our parameters, these values can be overriden by rendering the with e.g. the following command:\n",
    "\n",
    "papermill -p alpha 0.2 -p ratio 0.3 universe_analysis.ipynb output/test_run.ipynb"
   ]
  },
  {
   "cell_type": "code",
   "execution_count": 2,
   "id": "a80968a0-40bb-4fa9-85ef-2d5eefb01975",
   "metadata": {
    "execution": {
     "iopub.execute_input": "2025-07-30T13:02:35.733588Z",
     "iopub.status.busy": "2025-07-30T13:02:35.732955Z",
     "iopub.status.idle": "2025-07-30T13:02:35.739963Z",
     "shell.execute_reply": "2025-07-30T13:02:35.739042Z"
    },
    "papermill": {
     "duration": 0.027396,
     "end_time": "2025-07-30T13:02:35.741464",
     "exception": false,
     "start_time": "2025-07-30T13:02:35.714068",
     "status": "completed"
    },
    "tags": []
   },
   "outputs": [
    {
     "name": "stdout",
     "output_type": "stream",
     "text": [
      "Current working directory: /dss/dsshome1/0C/ra93lal2/cma/CMA_Fairness_v2\n"
     ]
    }
   ],
   "source": [
    "import os\n",
    "print(\"Current working directory:\", os.getcwd())"
   ]
  },
  {
   "cell_type": "code",
   "execution_count": 3,
   "id": "2dce4c03",
   "metadata": {
    "execution": {
     "iopub.execute_input": "2025-07-30T13:02:35.779885Z",
     "iopub.status.busy": "2025-07-30T13:02:35.779270Z",
     "iopub.status.idle": "2025-07-30T13:02:35.785360Z",
     "shell.execute_reply": "2025-07-30T13:02:35.784476Z"
    },
    "papermill": {
     "duration": 0.026663,
     "end_time": "2025-07-30T13:02:35.786876",
     "exception": false,
     "start_time": "2025-07-30T13:02:35.760213",
     "status": "completed"
    },
    "tags": [
     "parameters"
    ]
   },
   "outputs": [],
   "source": [
    "run_no = 0\n",
    "universe_id = \"test\"\n",
    "universe = {\n",
    "    \"training_size\": \"25k\", # \"25k\", \"5k\", \"1k\"\n",
    "    \"training_year\": \"2014\", # \"2014\", \"2012_14\", \"2010_14\"\n",
    "    \"scale\": \"scale\", # \"scale\", \"do-not-scale\",\n",
    "    #\"stratify_split\": \"target\", # \"none\", \"target\", \"protected-attribute\", \"both\",\n",
    "    \"model\": \"elasticnet\", # \"logreg\", \"penalized_logreg\", \"rf\", \"gbm\", \"elasticnet\"\n",
    "    \"cutoff\": [\"quantile_0.15\", \"quantile_0.30\"],\n",
    "    \"exclude_features\": \"age\", # \"none\", \"nationality\", \"sex\", \"nationality-sex\", \"age\"\n",
    "    \"exclude_subgroups\": \"keep-all\", # \"keep-all\", \"drop-non-german\"\n",
    "    \"eval_fairness_grouping\": [\"majority-minority\", \"nationality-all\"]\n",
    "}\n",
    "\n",
    "output_dir=\"./output\"\n",
    "seed=0"
   ]
  },
  {
   "cell_type": "code",
   "execution_count": 4,
   "id": "c3ede9f6",
   "metadata": {
    "execution": {
     "iopub.execute_input": "2025-07-30T13:02:35.825187Z",
     "iopub.status.busy": "2025-07-30T13:02:35.824568Z",
     "iopub.status.idle": "2025-07-30T13:02:35.829668Z",
     "shell.execute_reply": "2025-07-30T13:02:35.828884Z"
    },
    "papermill": {
     "duration": 0.025695,
     "end_time": "2025-07-30T13:02:35.831147",
     "exception": false,
     "start_time": "2025-07-30T13:02:35.805452",
     "status": "completed"
    },
    "tags": [
     "injected-parameters"
    ]
   },
   "outputs": [],
   "source": [
    "# Parameters\n",
    "universe_id = \"586b83af98d6eb18fb7c0460f21de287\"\n",
    "run_no = \"12\"\n",
    "universe = \"{\\\"cutoff\\\": [\\\"quantile_0.1\\\", \\\"quantile_0.25\\\"], \\\"eval_fairness_grouping\\\": [\\\"majority-minority\\\", \\\"nationality-all\\\"], \\\"exclude_features\\\": \\\"age\\\", \\\"exclude_subgroups\\\": \\\"keep-all\\\", \\\"model\\\": \\\"elasticnet\\\", \\\"scale\\\": \\\"do-not-scale\\\", \\\"training_size\\\": \\\"25k\\\", \\\"training_year\\\": \\\"2014\\\"}\"\n",
    "output_dir = \"output\"\n",
    "seed = \"2023\"\n"
   ]
  },
  {
   "cell_type": "code",
   "execution_count": 5,
   "id": "1650acaf",
   "metadata": {
    "execution": {
     "iopub.execute_input": "2025-07-30T13:02:35.869518Z",
     "iopub.status.busy": "2025-07-30T13:02:35.868910Z",
     "iopub.status.idle": "2025-07-30T13:02:35.874657Z",
     "shell.execute_reply": "2025-07-30T13:02:35.873802Z"
    },
    "papermill": {
     "duration": 0.026661,
     "end_time": "2025-07-30T13:02:35.876477",
     "exception": false,
     "start_time": "2025-07-30T13:02:35.849816",
     "status": "completed"
    },
    "tags": []
   },
   "outputs": [],
   "source": [
    "import json\n",
    "# Parse universe into dict if it is passed as a string\n",
    "if isinstance(universe, str):\n",
    "    universe = json.loads(universe)"
   ]
  },
  {
   "cell_type": "code",
   "execution_count": 6,
   "id": "16620c48",
   "metadata": {
    "execution": {
     "iopub.execute_input": "2025-07-30T13:02:35.914972Z",
     "iopub.status.busy": "2025-07-30T13:02:35.914357Z",
     "iopub.status.idle": "2025-07-30T13:02:35.955877Z",
     "shell.execute_reply": "2025-07-30T13:02:35.955061Z"
    },
    "papermill": {
     "duration": 0.062632,
     "end_time": "2025-07-30T13:02:35.957729",
     "exception": false,
     "start_time": "2025-07-30T13:02:35.895097",
     "status": "completed"
    },
    "tags": []
   },
   "outputs": [],
   "source": [
    "# Auto-reload the custom package\n",
    "%load_ext autoreload\n",
    "%autoreload 1\n",
    "%aimport fairness_multiverse"
   ]
  },
  {
   "cell_type": "code",
   "execution_count": 7,
   "id": "01c5c9f3",
   "metadata": {
    "execution": {
     "iopub.execute_input": "2025-07-30T13:02:35.996527Z",
     "iopub.status.busy": "2025-07-30T13:02:35.995759Z",
     "iopub.status.idle": "2025-07-30T13:02:37.826940Z",
     "shell.execute_reply": "2025-07-30T13:02:37.825807Z"
    },
    "papermill": {
     "duration": 1.852162,
     "end_time": "2025-07-30T13:02:37.828793",
     "exception": false,
     "start_time": "2025-07-30T13:02:35.976631",
     "status": "completed"
    },
    "tags": []
   },
   "outputs": [],
   "source": [
    "from fairness_multiverse.universe import UniverseAnalysis\n",
    "\n",
    "universe_analysis = UniverseAnalysis(\n",
    "    run_no = run_no,\n",
    "    universe_id = universe_id,\n",
    "    universe = universe,\n",
    "    output_dir=output_dir,\n",
    ")"
   ]
  },
  {
   "cell_type": "code",
   "execution_count": 8,
   "id": "106241f5",
   "metadata": {
    "execution": {
     "iopub.execute_input": "2025-07-30T13:02:37.869551Z",
     "iopub.status.busy": "2025-07-30T13:02:37.868894Z",
     "iopub.status.idle": "2025-07-30T13:02:37.875256Z",
     "shell.execute_reply": "2025-07-30T13:02:37.874449Z"
    },
    "papermill": {
     "duration": 0.027404,
     "end_time": "2025-07-30T13:02:37.876845",
     "exception": false,
     "start_time": "2025-07-30T13:02:37.849441",
     "status": "completed"
    },
    "tags": []
   },
   "outputs": [
    {
     "name": "stdout",
     "output_type": "stream",
     "text": [
      "Using Seed: 2023\n"
     ]
    }
   ],
   "source": [
    "import numpy as np\n",
    "parsed_seed = int(seed)\n",
    "np.random.seed(parsed_seed)\n",
    "print(f\"Using Seed: {parsed_seed}\")"
   ]
  },
  {
   "cell_type": "markdown",
   "id": "e0ebdc57",
   "metadata": {
    "papermill": {
     "duration": 0.018323,
     "end_time": "2025-07-30T13:02:37.914388",
     "exception": false,
     "start_time": "2025-07-30T13:02:37.896065",
     "status": "completed"
    },
    "tags": []
   },
   "source": [
    "# Loading Data"
   ]
  },
  {
   "cell_type": "markdown",
   "id": "681925a3",
   "metadata": {
    "papermill": {
     "duration": 0.018158,
     "end_time": "2025-07-30T13:02:37.951048",
     "exception": false,
     "start_time": "2025-07-30T13:02:37.932890",
     "status": "completed"
    },
    "tags": []
   },
   "source": [
    "Load siab_train, siab_test, siab_calib and/or \n",
    "load siab_train_features, siab_train_labels"
   ]
  },
  {
   "cell_type": "code",
   "execution_count": 9,
   "id": "f0496b8a",
   "metadata": {
    "execution": {
     "iopub.execute_input": "2025-07-30T13:02:37.989560Z",
     "iopub.status.busy": "2025-07-30T13:02:37.988918Z",
     "iopub.status.idle": "2025-07-30T13:02:49.848132Z",
     "shell.execute_reply": "2025-07-30T13:02:49.847100Z"
    },
    "papermill": {
     "duration": 11.88044,
     "end_time": "2025-07-30T13:02:49.849760",
     "exception": false,
     "start_time": "2025-07-30T13:02:37.969320",
     "status": "completed"
    },
    "tags": []
   },
   "outputs": [
    {
     "name": "stdout",
     "output_type": "stream",
     "text": [
      "Loading SIAB data from cache: data/siab_cached.csv.gz\n"
     ]
    },
    {
     "name": "stdout",
     "output_type": "stream",
     "text": [
      "(643690, 164)\n"
     ]
    }
   ],
   "source": [
    "from pathlib import Path\n",
    "import pandas as pd\n",
    "\n",
    "# File paths\n",
    "raw_file = Path(\"data/raw/siab.csv\")\n",
    "cache_file = Path(\"data/siab_cached.csv.gz\")\n",
    "\n",
    "# Ensure cache directory exists\n",
    "cache_file.parent.mkdir(parents=True, exist_ok=True)\n",
    "\n",
    "# Load with simple caching\n",
    "if cache_file.exists():\n",
    "    print(f\"Loading SIAB data from cache: {cache_file}\")\n",
    "    siab = pd.read_csv(cache_file, compression='gzip')\n",
    "else:\n",
    "    print(f\"Cache not found. Reading raw SIAB data: {raw_file}\")\n",
    "    siab = pd.read_csv(raw_file)\n",
    "    siab.to_csv(cache_file, index=False, compression='gzip')\n",
    "    print(f\"Cached SIAB data to: {cache_file}\")\n",
    "\n",
    "# Now use `siab` DataFrame as needed\n",
    "print(siab.shape)"
   ]
  },
  {
   "cell_type": "code",
   "execution_count": 10,
   "id": "db0ca512-5f53-4dba-abdb-a2888bca41ba",
   "metadata": {
    "execution": {
     "iopub.execute_input": "2025-07-30T13:02:49.891824Z",
     "iopub.status.busy": "2025-07-30T13:02:49.891146Z",
     "iopub.status.idle": "2025-07-30T13:02:49.896586Z",
     "shell.execute_reply": "2025-07-30T13:02:49.895726Z"
    },
    "papermill": {
     "duration": 0.026937,
     "end_time": "2025-07-30T13:02:49.898000",
     "exception": false,
     "start_time": "2025-07-30T13:02:49.871063",
     "status": "completed"
    },
    "tags": []
   },
   "outputs": [],
   "source": [
    "#siab"
   ]
  },
  {
   "cell_type": "code",
   "execution_count": 11,
   "id": "a0edb063",
   "metadata": {
    "execution": {
     "iopub.execute_input": "2025-07-30T13:02:49.937568Z",
     "iopub.status.busy": "2025-07-30T13:02:49.936917Z",
     "iopub.status.idle": "2025-07-30T13:02:49.942088Z",
     "shell.execute_reply": "2025-07-30T13:02:49.941311Z"
    },
    "papermill": {
     "duration": 0.02639,
     "end_time": "2025-07-30T13:02:49.943514",
     "exception": false,
     "start_time": "2025-07-30T13:02:49.917124",
     "status": "completed"
    },
    "tags": []
   },
   "outputs": [],
   "source": [
    "#import pandas as pd\n",
    "#\n",
    "#X_train = pd.read_csv(\"./data/X_train.csv\")\n",
    "#y_train = pd.read_csv(\"./data/y_train.csv\")"
   ]
  },
  {
   "cell_type": "code",
   "execution_count": 12,
   "id": "63d08085",
   "metadata": {
    "execution": {
     "iopub.execute_input": "2025-07-30T13:02:49.982880Z",
     "iopub.status.busy": "2025-07-30T13:02:49.982248Z",
     "iopub.status.idle": "2025-07-30T13:02:49.987060Z",
     "shell.execute_reply": "2025-07-30T13:02:49.986149Z"
    },
    "papermill": {
     "duration": 0.025898,
     "end_time": "2025-07-30T13:02:49.988526",
     "exception": false,
     "start_time": "2025-07-30T13:02:49.962628",
     "status": "completed"
    },
    "tags": []
   },
   "outputs": [],
   "source": [
    "#X_test = pd.read_csv(\"./data/X_test.csv\")\n",
    "#y_true = pd.read_csv(\"./data/y_test.csv\")"
   ]
  },
  {
   "cell_type": "code",
   "execution_count": 13,
   "id": "98a8d0fa-1d3d-4ed8-bb2c-281470e24add",
   "metadata": {
    "execution": {
     "iopub.execute_input": "2025-07-30T13:02:50.028283Z",
     "iopub.status.busy": "2025-07-30T13:02:50.027633Z",
     "iopub.status.idle": "2025-07-30T13:02:50.032566Z",
     "shell.execute_reply": "2025-07-30T13:02:50.031618Z"
    },
    "papermill": {
     "duration": 0.026011,
     "end_time": "2025-07-30T13:02:50.034003",
     "exception": false,
     "start_time": "2025-07-30T13:02:50.007992",
     "status": "completed"
    },
    "tags": []
   },
   "outputs": [],
   "source": [
    "# Calibration data for conformal\n",
    "#X_calib = pd.read_csv(\"./data/X_calib.csv\")\n",
    "#y_calib = pd.read_csv(\"./data/y_calib.csv\")"
   ]
  },
  {
   "cell_type": "markdown",
   "id": "997051c5-15bd-4b69-9786-c3001a3ce484",
   "metadata": {
    "papermill": {
     "duration": 0.018675,
     "end_time": "2025-07-30T13:02:50.072026",
     "exception": false,
     "start_time": "2025-07-30T13:02:50.053351",
     "status": "completed"
    },
    "tags": []
   },
   "source": [
    "# Splitting Data and Setting Training Data Size"
   ]
  },
  {
   "cell_type": "code",
   "execution_count": 14,
   "id": "e993b61f-042d-41a6-8c81-f55681f86335",
   "metadata": {
    "execution": {
     "iopub.execute_input": "2025-07-30T13:02:50.111294Z",
     "iopub.status.busy": "2025-07-30T13:02:50.110654Z",
     "iopub.status.idle": "2025-07-30T13:02:50.123330Z",
     "shell.execute_reply": "2025-07-30T13:02:50.122446Z"
    },
    "papermill": {
     "duration": 0.034141,
     "end_time": "2025-07-30T13:02:50.124806",
     "exception": false,
     "start_time": "2025-07-30T13:02:50.090665",
     "status": "completed"
    },
    "tags": []
   },
   "outputs": [],
   "source": [
    "def sample_by_year_size(df,\n",
    "                        training_year: str,\n",
    "                        training_size: str,\n",
    "                        random_state: int = 42):\n",
    "    # --- parse training_year into a list of int years ---\n",
    "    if \"_\" in training_year:\n",
    "        start_str, end_str = training_year.split(\"_\", 1)\n",
    "        start = int(start_str)\n",
    "        end   = int(end_str) if len(end_str) == 4 else (int(end_str) + (start // 100)*100)\n",
    "        years = list(range(start, end + 1))\n",
    "    else:\n",
    "        years = [int(training_year)]\n",
    "\n",
    "    df = df[df[\"year\"].isin(years)].reset_index(drop=True)\n",
    "\n",
    "    # --- map training_size to total number of samples ---\n",
    "    total_map = {\"25k\": 25_000, \"5k\": 5_000, \"1k\": 1_000}\n",
    "    if training_size not in total_map:\n",
    "        return df  # e.g. \"all\"\n",
    "\n",
    "    total_samples = total_map[training_size]\n",
    "    n_years       = len(years)\n",
    "    base          = total_samples // n_years\n",
    "    remainder     = total_samples % n_years\n",
    "\n",
    "    # --- build a dict: year -> how many to sample ---\n",
    "    # give +1 to the first `remainder` years in ascending order\n",
    "    quotas = {\n",
    "        year: base + (1 if idx < remainder else 0)\n",
    "        for idx, year in enumerate(sorted(years))\n",
    "    }\n",
    "\n",
    "    # --- sample per‐year according to the quota dict ---\n",
    "    sampled = (\n",
    "        df\n",
    "        .groupby(\"year\", group_keys=False)\n",
    "        .apply(lambda grp: grp.sample(\n",
    "            n=min(len(grp), quotas[grp.name]),\n",
    "            random_state=random_state))\n",
    "        .reset_index(drop=True)\n",
    "    )\n",
    "\n",
    "    return sampled"
   ]
  },
  {
   "cell_type": "code",
   "execution_count": 15,
   "id": "c0ccd338-0e02-41f3-a09d-f56f9266e3fb",
   "metadata": {
    "execution": {
     "iopub.execute_input": "2025-07-30T13:02:50.165060Z",
     "iopub.status.busy": "2025-07-30T13:02:50.164389Z",
     "iopub.status.idle": "2025-07-30T13:02:50.175063Z",
     "shell.execute_reply": "2025-07-30T13:02:50.174215Z"
    },
    "papermill": {
     "duration": 0.032013,
     "end_time": "2025-07-30T13:02:50.176652",
     "exception": false,
     "start_time": "2025-07-30T13:02:50.144639",
     "status": "completed"
    },
    "tags": []
   },
   "outputs": [
    {
     "data": {
      "text/plain": [
       "'25k'"
      ]
     },
     "execution_count": 15,
     "metadata": {},
     "output_type": "execute_result"
    }
   ],
   "source": [
    "universe[\"training_size\"]"
   ]
  },
  {
   "cell_type": "code",
   "execution_count": 16,
   "id": "ca707fd7-8047-4acd-bfa5-66248fbbf8e6",
   "metadata": {
    "execution": {
     "iopub.execute_input": "2025-07-30T13:02:50.217499Z",
     "iopub.status.busy": "2025-07-30T13:02:50.216857Z",
     "iopub.status.idle": "2025-07-30T13:02:50.224099Z",
     "shell.execute_reply": "2025-07-30T13:02:50.223233Z"
    },
    "papermill": {
     "duration": 0.029218,
     "end_time": "2025-07-30T13:02:50.225716",
     "exception": false,
     "start_time": "2025-07-30T13:02:50.196498",
     "status": "completed"
    },
    "tags": []
   },
   "outputs": [
    {
     "data": {
      "text/plain": [
       "'2014'"
      ]
     },
     "execution_count": 16,
     "metadata": {},
     "output_type": "execute_result"
    }
   ],
   "source": [
    "universe[\"training_year\"]"
   ]
  },
  {
   "cell_type": "code",
   "execution_count": 17,
   "id": "aea9c6ef-6f46-42c8-85eb-5a62025c1508",
   "metadata": {
    "execution": {
     "iopub.execute_input": "2025-07-30T13:02:50.267060Z",
     "iopub.status.busy": "2025-07-30T13:02:50.266159Z",
     "iopub.status.idle": "2025-07-30T13:02:50.534655Z",
     "shell.execute_reply": "2025-07-30T13:02:50.533784Z"
    },
    "papermill": {
     "duration": 0.290853,
     "end_time": "2025-07-30T13:02:50.536425",
     "exception": false,
     "start_time": "2025-07-30T13:02:50.245572",
     "status": "completed"
    },
    "tags": []
   },
   "outputs": [],
   "source": [
    "siab_train = sample_by_year_size(siab,\n",
    "                               training_year=universe[\"training_year\"],\n",
    "                               training_size=universe[\"training_size\"])"
   ]
  },
  {
   "cell_type": "code",
   "execution_count": 18,
   "id": "8d3afb32-789d-442c-8d5d-9f5aa8dd2eed",
   "metadata": {
    "execution": {
     "iopub.execute_input": "2025-07-30T13:02:50.578147Z",
     "iopub.status.busy": "2025-07-30T13:02:50.577470Z",
     "iopub.status.idle": "2025-07-30T13:02:50.587139Z",
     "shell.execute_reply": "2025-07-30T13:02:50.586310Z"
    },
    "papermill": {
     "duration": 0.031978,
     "end_time": "2025-07-30T13:02:50.588709",
     "exception": false,
     "start_time": "2025-07-30T13:02:50.556731",
     "status": "completed"
    },
    "tags": []
   },
   "outputs": [
    {
     "data": {
      "text/plain": [
       "(25000, 164)"
      ]
     },
     "execution_count": 18,
     "metadata": {},
     "output_type": "execute_result"
    }
   ],
   "source": [
    "siab_train.shape"
   ]
  },
  {
   "cell_type": "code",
   "execution_count": 19,
   "id": "d582db68-1a4c-47fb-84fc-08518dc1975a",
   "metadata": {
    "execution": {
     "iopub.execute_input": "2025-07-30T13:02:50.630085Z",
     "iopub.status.busy": "2025-07-30T13:02:50.629453Z",
     "iopub.status.idle": "2025-07-30T13:02:50.639419Z",
     "shell.execute_reply": "2025-07-30T13:02:50.638497Z"
    },
    "papermill": {
     "duration": 0.031996,
     "end_time": "2025-07-30T13:02:50.640920",
     "exception": false,
     "start_time": "2025-07-30T13:02:50.608924",
     "status": "completed"
    },
    "tags": []
   },
   "outputs": [
    {
     "data": {
      "text/plain": [
       "year\n",
       "2014    25000\n",
       "dtype: int64"
      ]
     },
     "metadata": {},
     "output_type": "display_data"
    }
   ],
   "source": [
    "display(siab_train.groupby(\"year\").size())"
   ]
  },
  {
   "cell_type": "code",
   "execution_count": 20,
   "id": "a561edb4-d032-42cb-8256-22eac1111c64",
   "metadata": {
    "execution": {
     "iopub.execute_input": "2025-07-30T13:02:50.682498Z",
     "iopub.status.busy": "2025-07-30T13:02:50.681863Z",
     "iopub.status.idle": "2025-07-30T13:02:50.898615Z",
     "shell.execute_reply": "2025-07-30T13:02:50.897737Z"
    },
    "papermill": {
     "duration": 0.239272,
     "end_time": "2025-07-30T13:02:50.900402",
     "exception": false,
     "start_time": "2025-07-30T13:02:50.661130",
     "status": "completed"
    },
    "tags": []
   },
   "outputs": [],
   "source": [
    "#siab_train = siab_s[siab_s.year < 2015]\n",
    "siab_calib = siab[siab.year == 2015]\n",
    "siab_test = siab[siab.year == 2016]"
   ]
  },
  {
   "cell_type": "code",
   "execution_count": 21,
   "id": "472de16f-c3db-4916-846b-1f0de9cf1746",
   "metadata": {
    "execution": {
     "iopub.execute_input": "2025-07-30T13:02:50.942717Z",
     "iopub.status.busy": "2025-07-30T13:02:50.942063Z",
     "iopub.status.idle": "2025-07-30T13:02:50.966168Z",
     "shell.execute_reply": "2025-07-30T13:02:50.965185Z"
    },
    "papermill": {
     "duration": 0.046557,
     "end_time": "2025-07-30T13:02:50.967691",
     "exception": false,
     "start_time": "2025-07-30T13:02:50.921134",
     "status": "completed"
    },
    "tags": []
   },
   "outputs": [],
   "source": [
    "X_train = siab_train.iloc[:,4:164]\n",
    "y_train = siab_train.iloc[:, [3]]"
   ]
  },
  {
   "cell_type": "code",
   "execution_count": 22,
   "id": "828c96af-f43a-4ed6-ba47-8ac73a47d56c",
   "metadata": {
    "execution": {
     "iopub.execute_input": "2025-07-30T13:02:51.010056Z",
     "iopub.status.busy": "2025-07-30T13:02:51.009419Z",
     "iopub.status.idle": "2025-07-30T13:02:51.061367Z",
     "shell.execute_reply": "2025-07-30T13:02:51.060348Z"
    },
    "papermill": {
     "duration": 0.074752,
     "end_time": "2025-07-30T13:02:51.063064",
     "exception": false,
     "start_time": "2025-07-30T13:02:50.988312",
     "status": "completed"
    },
    "tags": []
   },
   "outputs": [],
   "source": [
    "X_calib = siab_calib.iloc[:,4:164]\n",
    "y_calib = siab_calib.iloc[:, [3]]"
   ]
  },
  {
   "cell_type": "code",
   "execution_count": 23,
   "id": "c34be9c3-6bd6-476e-acd3-845840e303be",
   "metadata": {
    "execution": {
     "iopub.execute_input": "2025-07-30T13:02:51.105926Z",
     "iopub.status.busy": "2025-07-30T13:02:51.104948Z",
     "iopub.status.idle": "2025-07-30T13:02:51.154322Z",
     "shell.execute_reply": "2025-07-30T13:02:51.153359Z"
    },
    "papermill": {
     "duration": 0.072129,
     "end_time": "2025-07-30T13:02:51.156135",
     "exception": false,
     "start_time": "2025-07-30T13:02:51.084006",
     "status": "completed"
    },
    "tags": []
   },
   "outputs": [],
   "source": [
    "X_test = siab_test.iloc[:,4:164]\n",
    "y_true = siab_test.iloc[:, [3]]"
   ]
  },
  {
   "cell_type": "markdown",
   "id": "9901737e-04df-44f0-9100-f5ad144ed040",
   "metadata": {
    "papermill": {
     "duration": 0.019981,
     "end_time": "2025-07-30T13:02:51.196939",
     "exception": false,
     "start_time": "2025-07-30T13:02:51.176958",
     "status": "completed"
    },
    "tags": []
   },
   "source": [
    "# Splitting Data and Setting Training Data Size OLD VERSION"
   ]
  },
  {
   "cell_type": "code",
   "execution_count": 24,
   "id": "acbc8f7d-8fc8-4e86-8c59-5dcb0f58384b",
   "metadata": {
    "execution": {
     "iopub.execute_input": "2025-07-30T13:02:51.239216Z",
     "iopub.status.busy": "2025-07-30T13:02:51.238572Z",
     "iopub.status.idle": "2025-07-30T13:02:51.244263Z",
     "shell.execute_reply": "2025-07-30T13:02:51.243361Z"
    },
    "papermill": {
     "duration": 0.028647,
     "end_time": "2025-07-30T13:02:51.245758",
     "exception": false,
     "start_time": "2025-07-30T13:02:51.217111",
     "status": "completed"
    },
    "tags": []
   },
   "outputs": [],
   "source": [
    "#def sample_by_year(df, training_size, random_state=42):\n",
    "#    if training_size == \"2014\":\n",
    "#        return df[df[\"year\"] == 2014].reset_index(drop=True)\n",
    "#    \n",
    "#    size_map = {\n",
    "#        \"25k\": 5000,\n",
    "#        \"5k\": 1000,\n",
    "#        \"1k\": 200\n",
    "#    }\n",
    "#\n",
    "#    if training_size not in size_map:\n",
    "#        return df.reset_index(drop=True)  # use all data\n",
    "#\n",
    "#    n_per_year = size_map[training_size]\n",
    "#    grouped = df.groupby(\"year\")\n",
    "#    sampled = grouped.apply(lambda x: x.sample(n=min(n_per_year, len(x)), random_state=random_state))\n",
    "#    return sampled.reset_index(drop=True)"
   ]
  },
  {
   "cell_type": "code",
   "execution_count": 25,
   "id": "6d931f52-beaf-43ff-9e78-9d44a448d54e",
   "metadata": {
    "execution": {
     "iopub.execute_input": "2025-07-30T13:02:51.288523Z",
     "iopub.status.busy": "2025-07-30T13:02:51.287680Z",
     "iopub.status.idle": "2025-07-30T13:02:51.292509Z",
     "shell.execute_reply": "2025-07-30T13:02:51.291665Z"
    },
    "papermill": {
     "duration": 0.027425,
     "end_time": "2025-07-30T13:02:51.293978",
     "exception": false,
     "start_time": "2025-07-30T13:02:51.266553",
     "status": "completed"
    },
    "tags": []
   },
   "outputs": [],
   "source": [
    "#siab_s = sample_by_year(siab, universe[\"training_size\"])"
   ]
  },
  {
   "cell_type": "code",
   "execution_count": 26,
   "id": "5db0a40e-a4e2-4920-be85-b12ae061d70d",
   "metadata": {
    "execution": {
     "iopub.execute_input": "2025-07-30T13:02:51.336462Z",
     "iopub.status.busy": "2025-07-30T13:02:51.335795Z",
     "iopub.status.idle": "2025-07-30T13:02:51.340743Z",
     "shell.execute_reply": "2025-07-30T13:02:51.339825Z"
    },
    "papermill": {
     "duration": 0.027563,
     "end_time": "2025-07-30T13:02:51.342177",
     "exception": false,
     "start_time": "2025-07-30T13:02:51.314614",
     "status": "completed"
    },
    "tags": []
   },
   "outputs": [],
   "source": [
    "#display(siab_s.groupby(\"year\").size())"
   ]
  },
  {
   "cell_type": "code",
   "execution_count": 27,
   "id": "e6c733c5",
   "metadata": {
    "execution": {
     "iopub.execute_input": "2025-07-30T13:02:51.384875Z",
     "iopub.status.busy": "2025-07-30T13:02:51.384225Z",
     "iopub.status.idle": "2025-07-30T13:02:51.485954Z",
     "shell.execute_reply": "2025-07-30T13:02:51.485064Z"
    },
    "papermill": {
     "duration": 0.12478,
     "end_time": "2025-07-30T13:02:51.487818",
     "exception": false,
     "start_time": "2025-07-30T13:02:51.363038",
     "status": "completed"
    },
    "tags": []
   },
   "outputs": [],
   "source": [
    "# Auxiliary data needed downstream in the pipeline\n",
    "\n",
    "org_train = X_train.copy()\n",
    "org_test = X_test.copy()\n",
    "org_calib = X_calib.copy()"
   ]
  },
  {
   "cell_type": "code",
   "execution_count": 28,
   "id": "1466abac-c6da-4492-a62f-4240ae3783af",
   "metadata": {
    "execution": {
     "iopub.execute_input": "2025-07-30T13:02:51.531002Z",
     "iopub.status.busy": "2025-07-30T13:02:51.530368Z",
     "iopub.status.idle": "2025-07-30T13:02:51.535926Z",
     "shell.execute_reply": "2025-07-30T13:02:51.535077Z"
    },
    "papermill": {
     "duration": 0.028658,
     "end_time": "2025-07-30T13:02:51.537518",
     "exception": false,
     "start_time": "2025-07-30T13:02:51.508860",
     "status": "completed"
    },
    "tags": []
   },
   "outputs": [],
   "source": [
    "# put in other script?\n",
    "# Group sizes\n",
    "\n",
    "#def calculate_percentages(df, df_name):\n",
    "#    total_entries = len(df)\n",
    "#\n",
    "#    female_pct = (df['frau1'] == 1).mean() * 100\n",
    "#    non_german_pct = ((df['maxdeutsch1'] == 0) & (df['maxdeutsch.Missing.'] == 0)).mean() * 100\n",
    "#    non_german_male_pct = ((df['frau1'] == 0) & (df['maxdeutsch1'] == 0) & (df['maxdeutsch.Missing.'] == 0)).mean() * 100\n",
    "#    non_german_female_pct = ((df['frau1'] == 1) & (df['maxdeutsch1'] == 0) & (df['maxdeutsch.Missing.'] == 0)).mean() * 100\n",
    "#\n",
    "#    print(f\"--- {df_name} ---\")\n",
    "#    print(f\"Female: {female_pct:.2f}%\")\n",
    "#    print(f\"Non-German: {non_german_pct:.2f}%\")\n",
    "#    print(f\"Non-German Male: {non_german_male_pct:.2f}%\")\n",
    "#    print(f\"Non-German Female: {non_german_female_pct:.2f}%\\n\")\n",
    "#\n",
    "## Calculate for each DataFrame\n",
    "#calculate_percentages(siab_calib, \"siab_calib\")\n",
    "#calculate_percentages(siab_test, \"siab_test\")\n",
    "#calculate_percentages(siab_train, \"siab_train\")"
   ]
  },
  {
   "cell_type": "markdown",
   "id": "0a4a1b33",
   "metadata": {
    "papermill": {
     "duration": 0.020422,
     "end_time": "2025-07-30T13:02:51.578566",
     "exception": false,
     "start_time": "2025-07-30T13:02:51.558144",
     "status": "completed"
    },
    "tags": []
   },
   "source": [
    "# Preprocessing Data"
   ]
  },
  {
   "cell_type": "code",
   "execution_count": 29,
   "id": "ca879031",
   "metadata": {
    "execution": {
     "iopub.execute_input": "2025-07-30T13:02:51.620805Z",
     "iopub.status.busy": "2025-07-30T13:02:51.620163Z",
     "iopub.status.idle": "2025-07-30T13:02:51.626040Z",
     "shell.execute_reply": "2025-07-30T13:02:51.625189Z"
    },
    "papermill": {
     "duration": 0.028764,
     "end_time": "2025-07-30T13:02:51.627457",
     "exception": false,
     "start_time": "2025-07-30T13:02:51.598693",
     "status": "completed"
    },
    "tags": []
   },
   "outputs": [],
   "source": [
    "# EXCLUDE PROTECTED FEATURES\n",
    "# ----------------------\n",
    "# \"exclude_features\": \"none\", # \"nationality\", \"sex\", \"nationality-sex\"\n",
    "\n",
    "excluded_features = universe[\"exclude_features\"].split(\"-\") # split, e.g.: \"nationality-sex\" -> [\"nationality\", \"sex\"]\n",
    "excluded_features_dictionary = {\n",
    "    \"nationality\": [\"maxdeutsch1\", \"maxdeutsch.Missing.\"],\n",
    "    \"sex\": [\"frau1\"],\n",
    "    \"age\": [\"age\"],\n",
    "}\n"
   ]
  },
  {
   "cell_type": "code",
   "execution_count": 30,
   "id": "b745ac60",
   "metadata": {
    "execution": {
     "iopub.execute_input": "2025-07-30T13:02:51.670528Z",
     "iopub.status.busy": "2025-07-30T13:02:51.669889Z",
     "iopub.status.idle": "2025-07-30T13:02:51.675404Z",
     "shell.execute_reply": "2025-07-30T13:02:51.674566Z"
    },
    "papermill": {
     "duration": 0.028623,
     "end_time": "2025-07-30T13:02:51.676929",
     "exception": false,
     "start_time": "2025-07-30T13:02:51.648306",
     "status": "completed"
    },
    "tags": []
   },
   "outputs": [],
   "source": [
    "# Code nice names to column names\n",
    "\n",
    "excluded_features_columns = [\n",
    "    excluded_features_dictionary[f] for f in excluded_features if len(f) > 0 and f != \"none\"\n",
    "]"
   ]
  },
  {
   "cell_type": "code",
   "execution_count": 31,
   "id": "f84f73a2",
   "metadata": {
    "execution": {
     "iopub.execute_input": "2025-07-30T13:02:51.719851Z",
     "iopub.status.busy": "2025-07-30T13:02:51.719203Z",
     "iopub.status.idle": "2025-07-30T13:02:51.725841Z",
     "shell.execute_reply": "2025-07-30T13:02:51.725032Z"
    },
    "papermill": {
     "duration": 0.029672,
     "end_time": "2025-07-30T13:02:51.727334",
     "exception": false,
     "start_time": "2025-07-30T13:02:51.697662",
     "status": "completed"
    },
    "tags": []
   },
   "outputs": [],
   "source": [
    "from utils import flatten_once\n",
    "\n",
    "excluded_features_columns = flatten_once(excluded_features_columns)"
   ]
  },
  {
   "cell_type": "code",
   "execution_count": 32,
   "id": "884dea22",
   "metadata": {
    "execution": {
     "iopub.execute_input": "2025-07-30T13:02:51.770250Z",
     "iopub.status.busy": "2025-07-30T13:02:51.769620Z",
     "iopub.status.idle": "2025-07-30T13:02:51.784736Z",
     "shell.execute_reply": "2025-07-30T13:02:51.783767Z"
    },
    "papermill": {
     "duration": 0.038282,
     "end_time": "2025-07-30T13:02:51.786306",
     "exception": false,
     "start_time": "2025-07-30T13:02:51.748024",
     "status": "completed"
    },
    "tags": []
   },
   "outputs": [
    {
     "name": "stdout",
     "output_type": "stream",
     "text": [
      "Dropping features: ['age']\n"
     ]
    }
   ],
   "source": [
    "if len(excluded_features_columns) > 0:\n",
    "    print(f\"Dropping features: {excluded_features_columns}\")\n",
    "    X_train.drop(excluded_features_columns, axis=1, inplace=True)"
   ]
  },
  {
   "cell_type": "code",
   "execution_count": 33,
   "id": "95ab8b16",
   "metadata": {
    "execution": {
     "iopub.execute_input": "2025-07-30T13:02:51.830869Z",
     "iopub.status.busy": "2025-07-30T13:02:51.830224Z",
     "iopub.status.idle": "2025-07-30T13:02:51.882680Z",
     "shell.execute_reply": "2025-07-30T13:02:51.881822Z"
    },
    "papermill": {
     "duration": 0.076444,
     "end_time": "2025-07-30T13:02:51.884332",
     "exception": false,
     "start_time": "2025-07-30T13:02:51.807888",
     "status": "completed"
    },
    "tags": []
   },
   "outputs": [
    {
     "name": "stdout",
     "output_type": "stream",
     "text": [
      "Dropping features: ['age']\n"
     ]
    }
   ],
   "source": [
    "if len(excluded_features_columns) > 0:\n",
    "    print(f\"Dropping features: {excluded_features_columns}\")\n",
    "    X_test.drop(excluded_features_columns, axis=1, inplace=True)"
   ]
  },
  {
   "cell_type": "code",
   "execution_count": 34,
   "id": "1853aaf5-fb9f-46cb-a2b5-8ea4ae2237e4",
   "metadata": {
    "execution": {
     "iopub.execute_input": "2025-07-30T13:02:51.928215Z",
     "iopub.status.busy": "2025-07-30T13:02:51.927538Z",
     "iopub.status.idle": "2025-07-30T13:02:51.977272Z",
     "shell.execute_reply": "2025-07-30T13:02:51.976302Z"
    },
    "papermill": {
     "duration": 0.073916,
     "end_time": "2025-07-30T13:02:51.979573",
     "exception": false,
     "start_time": "2025-07-30T13:02:51.905657",
     "status": "completed"
    },
    "tags": []
   },
   "outputs": [
    {
     "name": "stdout",
     "output_type": "stream",
     "text": [
      "Dropping features: ['age']\n"
     ]
    }
   ],
   "source": [
    "if len(excluded_features_columns) > 0:\n",
    "    print(f\"Dropping features: {excluded_features_columns}\")\n",
    "    X_calib.drop(excluded_features_columns, axis=1, inplace=True)"
   ]
  },
  {
   "cell_type": "code",
   "execution_count": 35,
   "id": "6727d079-03e5-481e-9d38-292a90b7a0a8",
   "metadata": {
    "execution": {
     "iopub.execute_input": "2025-07-30T13:02:52.027635Z",
     "iopub.status.busy": "2025-07-30T13:02:52.027258Z",
     "iopub.status.idle": "2025-07-30T13:02:52.031802Z",
     "shell.execute_reply": "2025-07-30T13:02:52.030866Z"
    },
    "papermill": {
     "duration": 0.032047,
     "end_time": "2025-07-30T13:02:52.033452",
     "exception": false,
     "start_time": "2025-07-30T13:02:52.001405",
     "status": "completed"
    },
    "tags": []
   },
   "outputs": [],
   "source": [
    "# SPLIT & STRATIFY DATA\n",
    "# ----------------------"
   ]
  },
  {
   "cell_type": "code",
   "execution_count": 36,
   "id": "76c4dc6d",
   "metadata": {
    "execution": {
     "iopub.execute_input": "2025-07-30T13:02:52.078037Z",
     "iopub.status.busy": "2025-07-30T13:02:52.077377Z",
     "iopub.status.idle": "2025-07-30T13:02:52.082730Z",
     "shell.execute_reply": "2025-07-30T13:02:52.081805Z"
    },
    "papermill": {
     "duration": 0.028958,
     "end_time": "2025-07-30T13:02:52.084180",
     "exception": false,
     "start_time": "2025-07-30T13:02:52.055222",
     "status": "completed"
    },
    "tags": []
   },
   "outputs": [],
   "source": [
    "# EXCLUDE CERTAIN SUBGROUPS\n",
    "# ----------------------\n",
    "\n",
    "mode = universe.get(\"exclude_subgroups\", \"keep-all\") \n",
    "# Fetches the exclude_subgroups setting from the universe dict.\n",
    "# Defaults to \"keep-all\" if the key is missing."
   ]
  },
  {
   "cell_type": "code",
   "execution_count": 37,
   "id": "21994072",
   "metadata": {
    "execution": {
     "iopub.execute_input": "2025-07-30T13:02:52.128423Z",
     "iopub.status.busy": "2025-07-30T13:02:52.127620Z",
     "iopub.status.idle": "2025-07-30T13:02:52.134009Z",
     "shell.execute_reply": "2025-07-30T13:02:52.133141Z"
    },
    "papermill": {
     "duration": 0.029965,
     "end_time": "2025-07-30T13:02:52.135484",
     "exception": false,
     "start_time": "2025-07-30T13:02:52.105519",
     "status": "completed"
    },
    "tags": []
   },
   "outputs": [],
   "source": [
    "if mode == \"keep-all\":\n",
    "    keep_mask = pd.Series(True, index=org_train.index)\n",
    "\n",
    "# org_train contains the original feature columns from features_org (in Simson)\n",
    "# features_org contains unprocessed features, for me X_train at beginning ???\n",
    "# For keep-all, creates a boolean Series (keep_mask) of all True, so no rows are removed.\n",
    "\n",
    "elif mode == \"drop-non-german\":\n",
    "    keep_mask = org_train[\"maxdeutsch1\"] == 1 # ??? what about missing values?\n",
    "\n",
    "else:\n",
    "    raise ValueError(f\"Unsupported mode for exclude_subgroups: {mode}\")\n"
   ]
  },
  {
   "cell_type": "code",
   "execution_count": 38,
   "id": "71651440",
   "metadata": {
    "execution": {
     "iopub.execute_input": "2025-07-30T13:02:52.179922Z",
     "iopub.status.busy": "2025-07-30T13:02:52.179275Z",
     "iopub.status.idle": "2025-07-30T13:02:52.185715Z",
     "shell.execute_reply": "2025-07-30T13:02:52.184855Z"
    },
    "papermill": {
     "duration": 0.030042,
     "end_time": "2025-07-30T13:02:52.187291",
     "exception": false,
     "start_time": "2025-07-30T13:02:52.157249",
     "status": "completed"
    },
    "tags": []
   },
   "outputs": [],
   "source": [
    "n_drop = (~keep_mask).sum() # Calculates how many rows are set to be dropped\n",
    "if n_drop > 0:\n",
    "    pct = n_drop / len(keep_mask) * 100\n",
    "    print(f\"Dropping {n_drop} rows ({pct:.2f}%) where mode='{mode}'\")"
   ]
  },
  {
   "cell_type": "code",
   "execution_count": 39,
   "id": "5fb8eee5",
   "metadata": {
    "execution": {
     "iopub.execute_input": "2025-07-30T13:02:52.234937Z",
     "iopub.status.busy": "2025-07-30T13:02:52.234121Z",
     "iopub.status.idle": "2025-07-30T13:02:52.248483Z",
     "shell.execute_reply": "2025-07-30T13:02:52.247451Z"
    },
    "papermill": {
     "duration": 0.041319,
     "end_time": "2025-07-30T13:02:52.250199",
     "exception": false,
     "start_time": "2025-07-30T13:02:52.208880",
     "status": "completed"
    },
    "tags": []
   },
   "outputs": [],
   "source": [
    "X_train = X_train[keep_mask]"
   ]
  },
  {
   "cell_type": "code",
   "execution_count": 40,
   "id": "b202bb3a",
   "metadata": {
    "execution": {
     "iopub.execute_input": "2025-07-30T13:02:52.295597Z",
     "iopub.status.busy": "2025-07-30T13:02:52.294963Z",
     "iopub.status.idle": "2025-07-30T13:02:52.301695Z",
     "shell.execute_reply": "2025-07-30T13:02:52.300863Z"
    },
    "papermill": {
     "duration": 0.030558,
     "end_time": "2025-07-30T13:02:52.303297",
     "exception": false,
     "start_time": "2025-07-30T13:02:52.272739",
     "status": "completed"
    },
    "tags": []
   },
   "outputs": [],
   "source": [
    "y_train = y_train[keep_mask]"
   ]
  },
  {
   "cell_type": "markdown",
   "id": "493e2ac3",
   "metadata": {
    "papermill": {
     "duration": 0.021064,
     "end_time": "2025-07-30T13:02:52.346347",
     "exception": false,
     "start_time": "2025-07-30T13:02:52.325283",
     "status": "completed"
    },
    "tags": []
   },
   "source": [
    "# Model Training"
   ]
  },
  {
   "cell_type": "code",
   "execution_count": 41,
   "id": "679e1268",
   "metadata": {
    "execution": {
     "iopub.execute_input": "2025-07-30T13:02:52.390905Z",
     "iopub.status.busy": "2025-07-30T13:02:52.390259Z",
     "iopub.status.idle": "2025-07-30T13:02:52.488121Z",
     "shell.execute_reply": "2025-07-30T13:02:52.487258Z"
    },
    "papermill": {
     "duration": 0.122306,
     "end_time": "2025-07-30T13:02:52.489937",
     "exception": false,
     "start_time": "2025-07-30T13:02:52.367631",
     "status": "completed"
    },
    "tags": []
   },
   "outputs": [],
   "source": [
    "from sklearn.linear_model import LogisticRegression\n",
    "from sklearn.ensemble import GradientBoostingClassifier, RandomForestClassifier\n",
    "\n",
    "if (universe[\"model\"] == \"logreg\"):\n",
    "    model = LogisticRegression() #penalty=\"none\") #, solver=\"newton-cg\", max_iter=1) # include random_state=19 ?\n",
    "elif (universe[\"model\"] == \"penalized_logreg\"):\n",
    "    model = LogisticRegression(penalty=\"l2\", C=1.0) #, solver=\"newton-cg\", max_iter=1)\n",
    "elif (universe[\"model\"] == \"rf\"):\n",
    "    model = RandomForestClassifier(n_estimators=100, n_jobs=-1)\n",
    "elif (universe[\"model\"] == \"gbm\"):\n",
    "    model = GradientBoostingClassifier()\n",
    "elif (universe[\"model\"] == \"elasticnet\"):\n",
    "    model = LogisticRegression(penalty = 'elasticnet', solver = 'saga', l1_ratio = 0.5, max_iter=5000) # which solver to use?\n",
    "else:\n",
    "    raise \"Unsupported universe.model\""
   ]
  },
  {
   "cell_type": "code",
   "execution_count": 42,
   "id": "0cc8f744",
   "metadata": {
    "execution": {
     "iopub.execute_input": "2025-07-30T13:02:52.535029Z",
     "iopub.status.busy": "2025-07-30T13:02:52.534394Z",
     "iopub.status.idle": "2025-07-30T13:02:52.540587Z",
     "shell.execute_reply": "2025-07-30T13:02:52.539707Z"
    },
    "papermill": {
     "duration": 0.030154,
     "end_time": "2025-07-30T13:02:52.542110",
     "exception": false,
     "start_time": "2025-07-30T13:02:52.511956",
     "status": "completed"
    },
    "tags": []
   },
   "outputs": [],
   "source": [
    "import numpy as np\n",
    "from sklearn.pipeline import Pipeline\n",
    "from sklearn.preprocessing import StandardScaler\n",
    "\n",
    "model = Pipeline([\n",
    "    #(\"continuous_processor\", continuous_processor),\n",
    "    #(\"categorical_preprocessor\", categorical_preprocessor),\n",
    "    (\"scale\", StandardScaler() if universe[\"scale\"] == \"scale\" else None), \n",
    "    (\"model\", model),\n",
    "])"
   ]
  },
  {
   "cell_type": "code",
   "execution_count": 43,
   "id": "9442c04d",
   "metadata": {
    "execution": {
     "iopub.execute_input": "2025-07-30T13:02:52.587111Z",
     "iopub.status.busy": "2025-07-30T13:02:52.586481Z",
     "iopub.status.idle": "2025-07-30T13:07:31.655797Z",
     "shell.execute_reply": "2025-07-30T13:07:31.654523Z"
    },
    "papermill": {
     "duration": 279.123834,
     "end_time": "2025-07-30T13:07:31.687896",
     "exception": false,
     "start_time": "2025-07-30T13:02:52.564062",
     "status": "completed"
    },
    "tags": []
   },
   "outputs": [
    {
     "data": {
      "text/html": [
       "<style>#sk-container-id-1 {color: black;background-color: white;}#sk-container-id-1 pre{padding: 0;}#sk-container-id-1 div.sk-toggleable {background-color: white;}#sk-container-id-1 label.sk-toggleable__label {cursor: pointer;display: block;width: 100%;margin-bottom: 0;padding: 0.3em;box-sizing: border-box;text-align: center;}#sk-container-id-1 label.sk-toggleable__label-arrow:before {content: \"▸\";float: left;margin-right: 0.25em;color: #696969;}#sk-container-id-1 label.sk-toggleable__label-arrow:hover:before {color: black;}#sk-container-id-1 div.sk-estimator:hover label.sk-toggleable__label-arrow:before {color: black;}#sk-container-id-1 div.sk-toggleable__content {max-height: 0;max-width: 0;overflow: hidden;text-align: left;background-color: #f0f8ff;}#sk-container-id-1 div.sk-toggleable__content pre {margin: 0.2em;color: black;border-radius: 0.25em;background-color: #f0f8ff;}#sk-container-id-1 input.sk-toggleable__control:checked~div.sk-toggleable__content {max-height: 200px;max-width: 100%;overflow: auto;}#sk-container-id-1 input.sk-toggleable__control:checked~label.sk-toggleable__label-arrow:before {content: \"▾\";}#sk-container-id-1 div.sk-estimator input.sk-toggleable__control:checked~label.sk-toggleable__label {background-color: #d4ebff;}#sk-container-id-1 div.sk-label input.sk-toggleable__control:checked~label.sk-toggleable__label {background-color: #d4ebff;}#sk-container-id-1 input.sk-hidden--visually {border: 0;clip: rect(1px 1px 1px 1px);clip: rect(1px, 1px, 1px, 1px);height: 1px;margin: -1px;overflow: hidden;padding: 0;position: absolute;width: 1px;}#sk-container-id-1 div.sk-estimator {font-family: monospace;background-color: #f0f8ff;border: 1px dotted black;border-radius: 0.25em;box-sizing: border-box;margin-bottom: 0.5em;}#sk-container-id-1 div.sk-estimator:hover {background-color: #d4ebff;}#sk-container-id-1 div.sk-parallel-item::after {content: \"\";width: 100%;border-bottom: 1px solid gray;flex-grow: 1;}#sk-container-id-1 div.sk-label:hover label.sk-toggleable__label {background-color: #d4ebff;}#sk-container-id-1 div.sk-serial::before {content: \"\";position: absolute;border-left: 1px solid gray;box-sizing: border-box;top: 0;bottom: 0;left: 50%;z-index: 0;}#sk-container-id-1 div.sk-serial {display: flex;flex-direction: column;align-items: center;background-color: white;padding-right: 0.2em;padding-left: 0.2em;position: relative;}#sk-container-id-1 div.sk-item {position: relative;z-index: 1;}#sk-container-id-1 div.sk-parallel {display: flex;align-items: stretch;justify-content: center;background-color: white;position: relative;}#sk-container-id-1 div.sk-item::before, #sk-container-id-1 div.sk-parallel-item::before {content: \"\";position: absolute;border-left: 1px solid gray;box-sizing: border-box;top: 0;bottom: 0;left: 50%;z-index: -1;}#sk-container-id-1 div.sk-parallel-item {display: flex;flex-direction: column;z-index: 1;position: relative;background-color: white;}#sk-container-id-1 div.sk-parallel-item:first-child::after {align-self: flex-end;width: 50%;}#sk-container-id-1 div.sk-parallel-item:last-child::after {align-self: flex-start;width: 50%;}#sk-container-id-1 div.sk-parallel-item:only-child::after {width: 0;}#sk-container-id-1 div.sk-dashed-wrapped {border: 1px dashed gray;margin: 0 0.4em 0.5em 0.4em;box-sizing: border-box;padding-bottom: 0.4em;background-color: white;}#sk-container-id-1 div.sk-label label {font-family: monospace;font-weight: bold;display: inline-block;line-height: 1.2em;}#sk-container-id-1 div.sk-label-container {text-align: center;}#sk-container-id-1 div.sk-container {/* jupyter's `normalize.less` sets `[hidden] { display: none; }` but bootstrap.min.css set `[hidden] { display: none !important; }` so we also need the `!important` here to be able to override the default hidden behavior on the sphinx rendered scikit-learn.org. See: https://github.com/scikit-learn/scikit-learn/issues/21755 */display: inline-block !important;position: relative;}#sk-container-id-1 div.sk-text-repr-fallback {display: none;}</style><div id=\"sk-container-id-1\" class=\"sk-top-container\"><div class=\"sk-text-repr-fallback\"><pre>Pipeline(steps=[(&#x27;scale&#x27;, None),\n",
       "                (&#x27;model&#x27;,\n",
       "                 LogisticRegression(l1_ratio=0.5, max_iter=5000,\n",
       "                                    penalty=&#x27;elasticnet&#x27;, solver=&#x27;saga&#x27;))])</pre><b>In a Jupyter environment, please rerun this cell to show the HTML representation or trust the notebook. <br />On GitHub, the HTML representation is unable to render, please try loading this page with nbviewer.org.</b></div><div class=\"sk-container\" hidden><div class=\"sk-item sk-dashed-wrapped\"><div class=\"sk-label-container\"><div class=\"sk-label sk-toggleable\"><input class=\"sk-toggleable__control sk-hidden--visually\" id=\"sk-estimator-id-1\" type=\"checkbox\" ><label for=\"sk-estimator-id-1\" class=\"sk-toggleable__label sk-toggleable__label-arrow\">Pipeline</label><div class=\"sk-toggleable__content\"><pre>Pipeline(steps=[(&#x27;scale&#x27;, None),\n",
       "                (&#x27;model&#x27;,\n",
       "                 LogisticRegression(l1_ratio=0.5, max_iter=5000,\n",
       "                                    penalty=&#x27;elasticnet&#x27;, solver=&#x27;saga&#x27;))])</pre></div></div></div><div class=\"sk-serial\"><div class=\"sk-item\"><div class=\"sk-estimator sk-toggleable\"><input class=\"sk-toggleable__control sk-hidden--visually\" id=\"sk-estimator-id-2\" type=\"checkbox\" ><label for=\"sk-estimator-id-2\" class=\"sk-toggleable__label sk-toggleable__label-arrow\">None</label><div class=\"sk-toggleable__content\"><pre>None</pre></div></div></div><div class=\"sk-item\"><div class=\"sk-estimator sk-toggleable\"><input class=\"sk-toggleable__control sk-hidden--visually\" id=\"sk-estimator-id-3\" type=\"checkbox\" ><label for=\"sk-estimator-id-3\" class=\"sk-toggleable__label sk-toggleable__label-arrow\">LogisticRegression</label><div class=\"sk-toggleable__content\"><pre>LogisticRegression(l1_ratio=0.5, max_iter=5000, penalty=&#x27;elasticnet&#x27;,\n",
       "                   solver=&#x27;saga&#x27;)</pre></div></div></div></div></div></div></div>"
      ],
      "text/plain": [
       "Pipeline(steps=[('scale', None),\n",
       "                ('model',\n",
       "                 LogisticRegression(l1_ratio=0.5, max_iter=5000,\n",
       "                                    penalty='elasticnet', solver='saga'))])"
      ]
     },
     "execution_count": 43,
     "metadata": {},
     "output_type": "execute_result"
    }
   ],
   "source": [
    "model.fit(X_train, y_train.values.ravel())"
   ]
  },
  {
   "cell_type": "code",
   "execution_count": 44,
   "id": "af59f8c0",
   "metadata": {
    "execution": {
     "iopub.execute_input": "2025-07-30T13:07:31.745811Z",
     "iopub.status.busy": "2025-07-30T13:07:31.745266Z",
     "iopub.status.idle": "2025-07-30T13:07:31.751689Z",
     "shell.execute_reply": "2025-07-30T13:07:31.750656Z"
    },
    "papermill": {
     "duration": 0.038865,
     "end_time": "2025-07-30T13:07:31.753892",
     "exception": false,
     "start_time": "2025-07-30T13:07:31.715027",
     "status": "completed"
    },
    "tags": []
   },
   "outputs": [],
   "source": [
    "from fairness_multiverse.universe import predict_w_threshold"
   ]
  },
  {
   "cell_type": "code",
   "execution_count": 45,
   "id": "a7cf2e16",
   "metadata": {
    "execution": {
     "iopub.execute_input": "2025-07-30T13:07:31.807142Z",
     "iopub.status.busy": "2025-07-30T13:07:31.806428Z",
     "iopub.status.idle": "2025-07-30T13:07:31.919131Z",
     "shell.execute_reply": "2025-07-30T13:07:31.918141Z"
    },
    "papermill": {
     "duration": 0.140248,
     "end_time": "2025-07-30T13:07:31.920928",
     "exception": false,
     "start_time": "2025-07-30T13:07:31.780680",
     "status": "completed"
    },
    "tags": []
   },
   "outputs": [
    {
     "data": {
      "text/plain": [
       "0.8622673057630141"
      ]
     },
     "execution_count": 45,
     "metadata": {},
     "output_type": "execute_result"
    }
   ],
   "source": [
    "probs_test = model.predict_proba(X_test)\n",
    "\n",
    "'''\n",
    "Below code returns a boolean array (or binary 0/1 array depending on how it’s used) where each element \n",
    "is True if the probability of class 1 is greater than or equal to the threshold, and False otherwise.\n",
    "'''\n",
    "y_pred_default = predict_w_threshold(probs_test, 0.5)\n",
    "\n",
    "from sklearn.metrics import accuracy_score\n",
    "\n",
    "# Naive prediction\n",
    "accuracy_score(y_true = y_true, y_pred = y_pred_default)"
   ]
  },
  {
   "cell_type": "code",
   "execution_count": 46,
   "id": "081964c3",
   "metadata": {
    "execution": {
     "iopub.execute_input": "2025-07-30T13:07:31.978585Z",
     "iopub.status.busy": "2025-07-30T13:07:31.977713Z",
     "iopub.status.idle": "2025-07-30T13:07:32.068853Z",
     "shell.execute_reply": "2025-07-30T13:07:32.067733Z"
    },
    "papermill": {
     "duration": 0.122245,
     "end_time": "2025-07-30T13:07:32.070786",
     "exception": false,
     "start_time": "2025-07-30T13:07:31.948541",
     "status": "completed"
    },
    "tags": []
   },
   "outputs": [
    {
     "data": {
      "text/plain": [
       "array([0, 0, 0, ..., 0, 0, 0])"
      ]
     },
     "execution_count": 46,
     "metadata": {},
     "output_type": "execute_result"
    }
   ],
   "source": [
    "model.predict(X_test)"
   ]
  },
  {
   "cell_type": "markdown",
   "id": "56c9705b",
   "metadata": {
    "papermill": {
     "duration": 0.026849,
     "end_time": "2025-07-30T13:07:32.125886",
     "exception": false,
     "start_time": "2025-07-30T13:07:32.099037",
     "status": "completed"
    },
    "tags": []
   },
   "source": [
    "# Conformal Prediction"
   ]
  },
  {
   "cell_type": "code",
   "execution_count": 47,
   "id": "160ec6ff",
   "metadata": {
    "execution": {
     "iopub.execute_input": "2025-07-30T13:07:32.180685Z",
     "iopub.status.busy": "2025-07-30T13:07:32.179845Z",
     "iopub.status.idle": "2025-07-30T13:07:32.185162Z",
     "shell.execute_reply": "2025-07-30T13:07:32.184219Z"
    },
    "papermill": {
     "duration": 0.034402,
     "end_time": "2025-07-30T13:07:32.186898",
     "exception": false,
     "start_time": "2025-07-30T13:07:32.152496",
     "status": "completed"
    },
    "tags": []
   },
   "outputs": [],
   "source": [
    "# Miscoverage level for conformal prediction (10% allowed error rate => 90% target coverage)\n",
    "alpha = 0.1"
   ]
  },
  {
   "cell_type": "code",
   "execution_count": 48,
   "id": "eadf4555-3dd3-440e-8e35-f82a4ad9f855",
   "metadata": {
    "execution": {
     "iopub.execute_input": "2025-07-30T13:07:32.241041Z",
     "iopub.status.busy": "2025-07-30T13:07:32.240522Z",
     "iopub.status.idle": "2025-07-30T13:07:32.338563Z",
     "shell.execute_reply": "2025-07-30T13:07:32.336983Z"
    },
    "papermill": {
     "duration": 0.126705,
     "end_time": "2025-07-30T13:07:32.340551",
     "exception": false,
     "start_time": "2025-07-30T13:07:32.213846",
     "status": "completed"
    },
    "tags": []
   },
   "outputs": [],
   "source": [
    "probs_calib = model.predict_proba(X_calib)"
   ]
  },
  {
   "cell_type": "code",
   "execution_count": 49,
   "id": "2ed93547-6d5d-4983-9b36-1ecb300da49a",
   "metadata": {
    "execution": {
     "iopub.execute_input": "2025-07-30T13:07:32.396536Z",
     "iopub.status.busy": "2025-07-30T13:07:32.395983Z",
     "iopub.status.idle": "2025-07-30T13:07:32.402099Z",
     "shell.execute_reply": "2025-07-30T13:07:32.401076Z"
    },
    "papermill": {
     "duration": 0.035434,
     "end_time": "2025-07-30T13:07:32.403776",
     "exception": false,
     "start_time": "2025-07-30T13:07:32.368342",
     "status": "completed"
    },
    "tags": []
   },
   "outputs": [],
   "source": [
    "y_calib = y_calib.values.ravel().astype(int)"
   ]
  },
  {
   "cell_type": "code",
   "execution_count": 50,
   "id": "65d1320d-f588-4b38-9072-62af1ae97f7d",
   "metadata": {
    "execution": {
     "iopub.execute_input": "2025-07-30T13:07:32.458476Z",
     "iopub.status.busy": "2025-07-30T13:07:32.457642Z",
     "iopub.status.idle": "2025-07-30T13:07:32.466656Z",
     "shell.execute_reply": "2025-07-30T13:07:32.465639Z"
    },
    "papermill": {
     "duration": 0.037935,
     "end_time": "2025-07-30T13:07:32.468605",
     "exception": false,
     "start_time": "2025-07-30T13:07:32.430670",
     "status": "completed"
    },
    "tags": []
   },
   "outputs": [],
   "source": [
    "from fairness_multiverse.conformal import compute_nc_scores\n",
    "\n",
    "# Compute nonconformity scores on calibration set (1 - probability of true class)\n",
    "nc_scores = compute_nc_scores(probs_calib, y_calib)"
   ]
  },
  {
   "cell_type": "code",
   "execution_count": 51,
   "id": "df3b8ca3-53b7-43d5-9667-7c85da7aeda2",
   "metadata": {
    "execution": {
     "iopub.execute_input": "2025-07-30T13:07:32.523759Z",
     "iopub.status.busy": "2025-07-30T13:07:32.523287Z",
     "iopub.status.idle": "2025-07-30T13:07:32.529724Z",
     "shell.execute_reply": "2025-07-30T13:07:32.528738Z"
    },
    "papermill": {
     "duration": 0.035396,
     "end_time": "2025-07-30T13:07:32.531410",
     "exception": false,
     "start_time": "2025-07-30T13:07:32.496014",
     "status": "completed"
    },
    "tags": []
   },
   "outputs": [],
   "source": [
    "from fairness_multiverse.conformal import find_threshold\n",
    "\n",
    "# Find conformal threshold q_hat for the given alpha (split conformal method)\n",
    "q_hat = find_threshold(nc_scores, alpha)"
   ]
  },
  {
   "cell_type": "code",
   "execution_count": 52,
   "id": "4d29e6c1-0ef6-4aa4-b8fe-4fe79b0d033a",
   "metadata": {
    "execution": {
     "iopub.execute_input": "2025-07-30T13:07:32.583260Z",
     "iopub.status.busy": "2025-07-30T13:07:32.582454Z",
     "iopub.status.idle": "2025-07-30T13:07:32.590222Z",
     "shell.execute_reply": "2025-07-30T13:07:32.589179Z"
    },
    "papermill": {
     "duration": 0.036816,
     "end_time": "2025-07-30T13:07:32.591560",
     "exception": false,
     "start_time": "2025-07-30T13:07:32.554744",
     "status": "completed"
    },
    "tags": []
   },
   "outputs": [
    {
     "data": {
      "text/plain": [
       "0.6505494524636761"
      ]
     },
     "execution_count": 52,
     "metadata": {},
     "output_type": "execute_result"
    }
   ],
   "source": [
    "q_hat"
   ]
  },
  {
   "cell_type": "code",
   "execution_count": 53,
   "id": "92460794-cdac-4be2-ba28-f28c0515a6fb",
   "metadata": {
    "execution": {
     "iopub.execute_input": "2025-07-30T13:07:32.645400Z",
     "iopub.status.busy": "2025-07-30T13:07:32.644927Z",
     "iopub.status.idle": "2025-07-30T13:07:33.326803Z",
     "shell.execute_reply": "2025-07-30T13:07:33.325999Z"
    },
    "papermill": {
     "duration": 0.711164,
     "end_time": "2025-07-30T13:07:33.328449",
     "exception": false,
     "start_time": "2025-07-30T13:07:32.617285",
     "status": "completed"
    },
    "tags": []
   },
   "outputs": [],
   "source": [
    "from fairness_multiverse.conformal import predict_conformal_sets\n",
    "\n",
    "# Generate prediction sets for each test example\n",
    "pred_sets = predict_conformal_sets(model, X_test, q_hat)"
   ]
  },
  {
   "cell_type": "code",
   "execution_count": 54,
   "id": "d90c9a65-e6db-4f5d-80cd-e68fb7e46829",
   "metadata": {
    "execution": {
     "iopub.execute_input": "2025-07-30T13:07:33.357316Z",
     "iopub.status.busy": "2025-07-30T13:07:33.356933Z",
     "iopub.status.idle": "2025-07-30T13:07:33.361899Z",
     "shell.execute_reply": "2025-07-30T13:07:33.361097Z"
    },
    "papermill": {
     "duration": 0.021019,
     "end_time": "2025-07-30T13:07:33.363644",
     "exception": false,
     "start_time": "2025-07-30T13:07:33.342625",
     "status": "completed"
    },
    "tags": []
   },
   "outputs": [],
   "source": [
    "y_true = y_true.squeeze()"
   ]
  },
  {
   "cell_type": "code",
   "execution_count": 55,
   "id": "3a58a54a-1e68-46b9-927a-df01f18aebc8",
   "metadata": {
    "execution": {
     "iopub.execute_input": "2025-07-30T13:07:33.421427Z",
     "iopub.status.busy": "2025-07-30T13:07:33.419747Z",
     "iopub.status.idle": "2025-07-30T13:07:34.525681Z",
     "shell.execute_reply": "2025-07-30T13:07:34.524269Z"
    },
    "papermill": {
     "duration": 1.13766,
     "end_time": "2025-07-30T13:07:34.527482",
     "exception": false,
     "start_time": "2025-07-30T13:07:33.389822",
     "status": "completed"
    },
    "tags": []
   },
   "outputs": [],
   "source": [
    "from fairness_multiverse.conformal import evaluate_sets\n",
    "\n",
    "# Evaluate coverage and average set size on test data\n",
    "metrics = evaluate_sets(pred_sets, y_true)"
   ]
  },
  {
   "cell_type": "markdown",
   "id": "2b569c12-9aaa-4c88-98c9-bbcd0cf3ebb8",
   "metadata": {
    "papermill": {
     "duration": 0.013905,
     "end_time": "2025-07-30T13:07:34.563913",
     "exception": false,
     "start_time": "2025-07-30T13:07:34.550008",
     "status": "completed"
    },
    "tags": []
   },
   "source": [
    "# CP Metrics"
   ]
  },
  {
   "cell_type": "code",
   "execution_count": 56,
   "id": "5ce0a5cb-201f-45a0-ade5-94c7f0bd6095",
   "metadata": {
    "execution": {
     "iopub.execute_input": "2025-07-30T13:07:34.591789Z",
     "iopub.status.busy": "2025-07-30T13:07:34.591430Z",
     "iopub.status.idle": "2025-07-30T13:07:34.597835Z",
     "shell.execute_reply": "2025-07-30T13:07:34.597063Z"
    },
    "papermill": {
     "duration": 0.022352,
     "end_time": "2025-07-30T13:07:34.599393",
     "exception": false,
     "start_time": "2025-07-30T13:07:34.577041",
     "status": "completed"
    },
    "tags": []
   },
   "outputs": [
    {
     "data": {
      "text/plain": [
       "{'coverage': 0.9144688440530598, 'avg_size': 1.249804926986958}"
      ]
     },
     "execution_count": 56,
     "metadata": {},
     "output_type": "execute_result"
    }
   ],
   "source": [
    "metrics"
   ]
  },
  {
   "cell_type": "code",
   "execution_count": 57,
   "id": "9b9a838d-31c9-430b-ae14-12baee460d17",
   "metadata": {
    "execution": {
     "iopub.execute_input": "2025-07-30T13:07:34.628926Z",
     "iopub.status.busy": "2025-07-30T13:07:34.628609Z",
     "iopub.status.idle": "2025-07-30T13:07:34.633800Z",
     "shell.execute_reply": "2025-07-30T13:07:34.632938Z"
    },
    "papermill": {
     "duration": 0.020982,
     "end_time": "2025-07-30T13:07:34.635096",
     "exception": false,
     "start_time": "2025-07-30T13:07:34.614114",
     "status": "completed"
    },
    "tags": []
   },
   "outputs": [],
   "source": [
    "example_universe = universe.copy()\n",
    "universe_training_size = example_universe.get(\"training_size\")\n",
    "universe_scale = example_universe.get(\"scale\")\n",
    "universe_model = example_universe.get(\"model\")\n",
    "universe_exclude_features = example_universe.get(\"exclude_features\")\n",
    "universe_exclude_subgroups = example_universe.get(\"exclude_subgroups\")"
   ]
  },
  {
   "cell_type": "code",
   "execution_count": 58,
   "id": "f4b6a8ac-9dc0-4245-8a91-5b3b5999c4f9",
   "metadata": {
    "execution": {
     "iopub.execute_input": "2025-07-30T13:07:34.664903Z",
     "iopub.status.busy": "2025-07-30T13:07:34.664390Z",
     "iopub.status.idle": "2025-07-30T13:07:34.671959Z",
     "shell.execute_reply": "2025-07-30T13:07:34.670829Z"
    },
    "papermill": {
     "duration": 0.023702,
     "end_time": "2025-07-30T13:07:34.673565",
     "exception": false,
     "start_time": "2025-07-30T13:07:34.649863",
     "status": "completed"
    },
    "tags": []
   },
   "outputs": [],
   "source": [
    "cp_metrics_dict = {\n",
    "    \"universe_id\": [universe_id],\n",
    "    \"universe_training_size\": [universe_training_size],\n",
    "    \"universe_scale\": [universe_scale],\n",
    "    \"universe_model\": [universe_model],\n",
    "    \"universe_exclude_features\": [universe_exclude_features],\n",
    "    \"universe_exclude_subgroups\": [universe_exclude_subgroups],\n",
    "    \"q_hat\": [q_hat],\n",
    "    \"coverage\": [metrics[\"coverage\"]],\n",
    "    \"avg_size\": [metrics[\"avg_size\"]],\n",
    "}"
   ]
  },
  {
   "cell_type": "code",
   "execution_count": 59,
   "id": "908acbb1-0371-4915-85ca-3fa520d2efe2",
   "metadata": {
    "execution": {
     "iopub.execute_input": "2025-07-30T13:07:34.705635Z",
     "iopub.status.busy": "2025-07-30T13:07:34.704838Z",
     "iopub.status.idle": "2025-07-30T13:07:34.815593Z",
     "shell.execute_reply": "2025-07-30T13:07:34.814554Z"
    },
    "papermill": {
     "duration": 0.126637,
     "end_time": "2025-07-30T13:07:34.817198",
     "exception": false,
     "start_time": "2025-07-30T13:07:34.690561",
     "status": "completed"
    },
    "tags": []
   },
   "outputs": [
    {
     "data": {
      "text/plain": [
       "{'universe_id': ['586b83af98d6eb18fb7c0460f21de287'],\n",
       " 'universe_training_size': ['25k'],\n",
       " 'universe_scale': ['do-not-scale'],\n",
       " 'universe_model': ['elasticnet'],\n",
       " 'universe_exclude_features': ['age'],\n",
       " 'universe_exclude_subgroups': ['keep-all'],\n",
       " 'q_hat': [0.6505494524636761],\n",
       " 'coverage': [0.9144688440530598],\n",
       " 'avg_size': [1.249804926986958]}"
      ]
     },
     "execution_count": 59,
     "metadata": {},
     "output_type": "execute_result"
    }
   ],
   "source": [
    "cp_metrics_dict"
   ]
  },
  {
   "cell_type": "code",
   "execution_count": 60,
   "id": "33007efc-14e9-4ec6-97ac-56a455c82265",
   "metadata": {
    "execution": {
     "iopub.execute_input": "2025-07-30T13:07:34.873241Z",
     "iopub.status.busy": "2025-07-30T13:07:34.872676Z",
     "iopub.status.idle": "2025-07-30T13:07:34.880001Z",
     "shell.execute_reply": "2025-07-30T13:07:34.879001Z"
    },
    "papermill": {
     "duration": 0.037037,
     "end_time": "2025-07-30T13:07:34.881610",
     "exception": false,
     "start_time": "2025-07-30T13:07:34.844573",
     "status": "completed"
    },
    "tags": []
   },
   "outputs": [],
   "source": [
    "cp_metrics_df = pd.DataFrame(cp_metrics_dict)"
   ]
  },
  {
   "cell_type": "code",
   "execution_count": 61,
   "id": "db12611b-57b2-4910-b9d0-355adfd6e7bf",
   "metadata": {
    "execution": {
     "iopub.execute_input": "2025-07-30T13:07:34.939791Z",
     "iopub.status.busy": "2025-07-30T13:07:34.939127Z",
     "iopub.status.idle": "2025-07-30T13:07:34.986366Z",
     "shell.execute_reply": "2025-07-30T13:07:34.985477Z"
    },
    "papermill": {
     "duration": 0.077195,
     "end_time": "2025-07-30T13:07:34.987984",
     "exception": false,
     "start_time": "2025-07-30T13:07:34.910789",
     "status": "completed"
    },
    "tags": []
   },
   "outputs": [
    {
     "data": {
      "text/html": [
       "<div>\n",
       "<style scoped>\n",
       "    .dataframe tbody tr th:only-of-type {\n",
       "        vertical-align: middle;\n",
       "    }\n",
       "\n",
       "    .dataframe tbody tr th {\n",
       "        vertical-align: top;\n",
       "    }\n",
       "\n",
       "    .dataframe thead th {\n",
       "        text-align: right;\n",
       "    }\n",
       "</style>\n",
       "<table border=\"1\" class=\"dataframe\">\n",
       "  <thead>\n",
       "    <tr style=\"text-align: right;\">\n",
       "      <th></th>\n",
       "      <th>universe_id</th>\n",
       "      <th>universe_training_size</th>\n",
       "      <th>universe_scale</th>\n",
       "      <th>universe_model</th>\n",
       "      <th>universe_exclude_features</th>\n",
       "      <th>universe_exclude_subgroups</th>\n",
       "      <th>q_hat</th>\n",
       "      <th>coverage</th>\n",
       "      <th>avg_size</th>\n",
       "    </tr>\n",
       "  </thead>\n",
       "  <tbody>\n",
       "    <tr>\n",
       "      <th>0</th>\n",
       "      <td>586b83af98d6eb18fb7c0460f21de287</td>\n",
       "      <td>25k</td>\n",
       "      <td>do-not-scale</td>\n",
       "      <td>elasticnet</td>\n",
       "      <td>age</td>\n",
       "      <td>keep-all</td>\n",
       "      <td>0.650549</td>\n",
       "      <td>0.914469</td>\n",
       "      <td>1.249805</td>\n",
       "    </tr>\n",
       "  </tbody>\n",
       "</table>\n",
       "</div>"
      ],
      "text/plain": [
       "                        universe_id universe_training_size universe_scale  \\\n",
       "0  586b83af98d6eb18fb7c0460f21de287                    25k   do-not-scale   \n",
       "\n",
       "  universe_model universe_exclude_features universe_exclude_subgroups  \\\n",
       "0     elasticnet                       age                   keep-all   \n",
       "\n",
       "      q_hat  coverage  avg_size  \n",
       "0  0.650549  0.914469  1.249805  "
      ]
     },
     "execution_count": 61,
     "metadata": {},
     "output_type": "execute_result"
    }
   ],
   "source": [
    "cp_metrics_df"
   ]
  },
  {
   "cell_type": "code",
   "execution_count": 62,
   "id": "b7fbde55-a0a1-47e4-9af6-fe4a17fa8c61",
   "metadata": {
    "execution": {
     "iopub.execute_input": "2025-07-30T13:07:35.043473Z",
     "iopub.status.busy": "2025-07-30T13:07:35.042653Z",
     "iopub.status.idle": "2025-07-30T13:07:35.047983Z",
     "shell.execute_reply": "2025-07-30T13:07:35.046935Z"
    },
    "papermill": {
     "duration": 0.034824,
     "end_time": "2025-07-30T13:07:35.049805",
     "exception": false,
     "start_time": "2025-07-30T13:07:35.014981",
     "status": "completed"
    },
    "tags": []
   },
   "outputs": [],
   "source": [
    "# Conditional Coverage & looking at subgroups"
   ]
  },
  {
   "cell_type": "code",
   "execution_count": 63,
   "id": "027ae886-68dd-4141-96c7-805a5450e1ef",
   "metadata": {
    "execution": {
     "iopub.execute_input": "2025-07-30T13:07:35.105404Z",
     "iopub.status.busy": "2025-07-30T13:07:35.104528Z",
     "iopub.status.idle": "2025-07-30T13:07:35.390101Z",
     "shell.execute_reply": "2025-07-30T13:07:35.388996Z"
    },
    "papermill": {
     "duration": 0.314742,
     "end_time": "2025-07-30T13:07:35.392159",
     "exception": false,
     "start_time": "2025-07-30T13:07:35.077417",
     "status": "completed"
    },
    "tags": []
   },
   "outputs": [],
   "source": [
    "from fairness_multiverse.conformal import build_cp_groups\n",
    "\n",
    "cp_groups_df = build_cp_groups(pred_sets, y_true, X_test.index, org_test)\n",
    "#needs universe_id and setting"
   ]
  },
  {
   "cell_type": "code",
   "execution_count": 64,
   "id": "01d5802c-663a-4d1f-9d69-e036faaffbf7",
   "metadata": {
    "execution": {
     "iopub.execute_input": "2025-07-30T13:07:35.447604Z",
     "iopub.status.busy": "2025-07-30T13:07:35.446945Z",
     "iopub.status.idle": "2025-07-30T13:07:35.451930Z",
     "shell.execute_reply": "2025-07-30T13:07:35.450907Z"
    },
    "papermill": {
     "duration": 0.03373,
     "end_time": "2025-07-30T13:07:35.453567",
     "exception": false,
     "start_time": "2025-07-30T13:07:35.419837",
     "status": "completed"
    },
    "tags": []
   },
   "outputs": [],
   "source": [
    "#delete\n",
    "#cp_groups_df"
   ]
  },
  {
   "cell_type": "code",
   "execution_count": 65,
   "id": "fa424af1-d1eb-443d-b717-2d279ada8408",
   "metadata": {
    "execution": {
     "iopub.execute_input": "2025-07-30T13:07:35.510082Z",
     "iopub.status.busy": "2025-07-30T13:07:35.509626Z",
     "iopub.status.idle": "2025-07-30T13:07:35.514944Z",
     "shell.execute_reply": "2025-07-30T13:07:35.513993Z"
    },
    "papermill": {
     "duration": 0.033922,
     "end_time": "2025-07-30T13:07:35.516758",
     "exception": false,
     "start_time": "2025-07-30T13:07:35.482836",
     "status": "completed"
    },
    "tags": []
   },
   "outputs": [],
   "source": [
    "#delete\n",
    "#percentage = (cp_groups_df['nongerman_female'] == 1).mean() * 100\n",
    "#print(percentage)\n"
   ]
  },
  {
   "cell_type": "code",
   "execution_count": 66,
   "id": "6cbdab96-b2b2-45af-ad54-d0516db2e28d",
   "metadata": {
    "execution": {
     "iopub.execute_input": "2025-07-30T13:07:35.574223Z",
     "iopub.status.busy": "2025-07-30T13:07:35.573588Z",
     "iopub.status.idle": "2025-07-30T13:07:37.230126Z",
     "shell.execute_reply": "2025-07-30T13:07:37.229133Z"
    },
    "papermill": {
     "duration": 1.686434,
     "end_time": "2025-07-30T13:07:37.231934",
     "exception": false,
     "start_time": "2025-07-30T13:07:35.545500",
     "status": "completed"
    },
    "tags": []
   },
   "outputs": [],
   "source": [
    "# Define covered = 1 if true_label is in the predicted set\n",
    "cp_groups_df['covered'] = cp_groups_df.apply(\n",
    "    lambda r: int(r['true_label'] in r['pred_set']),\n",
    "    axis=1\n",
    ")"
   ]
  },
  {
   "cell_type": "code",
   "execution_count": 67,
   "id": "338ff529-1a6b-4b87-a931-8e4788d52aad",
   "metadata": {
    "execution": {
     "iopub.execute_input": "2025-07-30T13:07:37.284815Z",
     "iopub.status.busy": "2025-07-30T13:07:37.284014Z",
     "iopub.status.idle": "2025-07-30T13:07:37.289717Z",
     "shell.execute_reply": "2025-07-30T13:07:37.288650Z"
    },
    "papermill": {
     "duration": 0.032442,
     "end_time": "2025-07-30T13:07:37.291379",
     "exception": false,
     "start_time": "2025-07-30T13:07:37.258937",
     "status": "completed"
    },
    "tags": []
   },
   "outputs": [],
   "source": [
    "#cp_groups_df"
   ]
  },
  {
   "cell_type": "code",
   "execution_count": 68,
   "id": "90032e27-66df-4540-9169-4e89cfbaa758",
   "metadata": {
    "execution": {
     "iopub.execute_input": "2025-07-30T13:07:37.349619Z",
     "iopub.status.busy": "2025-07-30T13:07:37.349154Z",
     "iopub.status.idle": "2025-07-30T13:07:37.360785Z",
     "shell.execute_reply": "2025-07-30T13:07:37.359513Z"
    },
    "papermill": {
     "duration": 0.0422,
     "end_time": "2025-07-30T13:07:37.362629",
     "exception": false,
     "start_time": "2025-07-30T13:07:37.320429",
     "status": "completed"
    },
    "tags": []
   },
   "outputs": [],
   "source": [
    "subgroups = ['frau1','nongerman','nongerman_male','nongerman_female']\n",
    "\n",
    "# Conditional coverage for subgroup==1\n",
    "cond_coverage = {\n",
    "    g: cp_groups_df.loc[cp_groups_df[g]==1, 'covered'].mean()\n",
    "    for g in subgroups\n",
    "}"
   ]
  },
  {
   "cell_type": "code",
   "execution_count": 69,
   "id": "1e348fb1-b9c3-45bc-ba23-f016827a7e0d",
   "metadata": {
    "execution": {
     "iopub.execute_input": "2025-07-30T13:07:37.419890Z",
     "iopub.status.busy": "2025-07-30T13:07:37.419166Z",
     "iopub.status.idle": "2025-07-30T13:07:37.427118Z",
     "shell.execute_reply": "2025-07-30T13:07:37.425968Z"
    },
    "papermill": {
     "duration": 0.038333,
     "end_time": "2025-07-30T13:07:37.429021",
     "exception": false,
     "start_time": "2025-07-30T13:07:37.390688",
     "status": "completed"
    },
    "tags": []
   },
   "outputs": [
    {
     "data": {
      "text/plain": [
       "{'frau1': 0.914786359347621,\n",
       " 'nongerman': 0.9635659349912985,\n",
       " 'nongerman_male': 0.9693776456813474,\n",
       " 'nongerman_female': 0.9539493293591654}"
      ]
     },
     "execution_count": 69,
     "metadata": {},
     "output_type": "execute_result"
    }
   ],
   "source": [
    "cond_coverage"
   ]
  },
  {
   "cell_type": "code",
   "execution_count": 70,
   "id": "f5093324-c3dd-4d63-bc4c-8d945e5c8bbb",
   "metadata": {
    "execution": {
     "iopub.execute_input": "2025-07-30T13:07:37.486966Z",
     "iopub.status.busy": "2025-07-30T13:07:37.486300Z",
     "iopub.status.idle": "2025-07-30T13:07:37.493913Z",
     "shell.execute_reply": "2025-07-30T13:07:37.492910Z"
    },
    "papermill": {
     "duration": 0.037907,
     "end_time": "2025-07-30T13:07:37.495686",
     "exception": false,
     "start_time": "2025-07-30T13:07:37.457779",
     "status": "completed"
    },
    "tags": []
   },
   "outputs": [],
   "source": [
    "for subgroup, cov in cond_coverage.items():\n",
    "    cp_metrics_df[f\"cov_{subgroup}\"] = cov"
   ]
  },
  {
   "cell_type": "code",
   "execution_count": 71,
   "id": "6e872e10-dbe5-49e8-b554-5030c98ff75d",
   "metadata": {
    "execution": {
     "iopub.execute_input": "2025-07-30T13:07:37.553483Z",
     "iopub.status.busy": "2025-07-30T13:07:37.552986Z",
     "iopub.status.idle": "2025-07-30T13:07:37.572785Z",
     "shell.execute_reply": "2025-07-30T13:07:37.571676Z"
    },
    "papermill": {
     "duration": 0.050312,
     "end_time": "2025-07-30T13:07:37.574655",
     "exception": false,
     "start_time": "2025-07-30T13:07:37.524343",
     "status": "completed"
    },
    "tags": []
   },
   "outputs": [
    {
     "data": {
      "text/html": [
       "<div>\n",
       "<style scoped>\n",
       "    .dataframe tbody tr th:only-of-type {\n",
       "        vertical-align: middle;\n",
       "    }\n",
       "\n",
       "    .dataframe tbody tr th {\n",
       "        vertical-align: top;\n",
       "    }\n",
       "\n",
       "    .dataframe thead th {\n",
       "        text-align: right;\n",
       "    }\n",
       "</style>\n",
       "<table border=\"1\" class=\"dataframe\">\n",
       "  <thead>\n",
       "    <tr style=\"text-align: right;\">\n",
       "      <th></th>\n",
       "      <th>universe_id</th>\n",
       "      <th>universe_training_size</th>\n",
       "      <th>universe_scale</th>\n",
       "      <th>universe_model</th>\n",
       "      <th>universe_exclude_features</th>\n",
       "      <th>universe_exclude_subgroups</th>\n",
       "      <th>q_hat</th>\n",
       "      <th>coverage</th>\n",
       "      <th>avg_size</th>\n",
       "      <th>cov_frau1</th>\n",
       "      <th>cov_nongerman</th>\n",
       "      <th>cov_nongerman_male</th>\n",
       "      <th>cov_nongerman_female</th>\n",
       "    </tr>\n",
       "  </thead>\n",
       "  <tbody>\n",
       "    <tr>\n",
       "      <th>0</th>\n",
       "      <td>586b83af98d6eb18fb7c0460f21de287</td>\n",
       "      <td>25k</td>\n",
       "      <td>do-not-scale</td>\n",
       "      <td>elasticnet</td>\n",
       "      <td>age</td>\n",
       "      <td>keep-all</td>\n",
       "      <td>0.650549</td>\n",
       "      <td>0.914469</td>\n",
       "      <td>1.249805</td>\n",
       "      <td>0.914786</td>\n",
       "      <td>0.963566</td>\n",
       "      <td>0.969378</td>\n",
       "      <td>0.953949</td>\n",
       "    </tr>\n",
       "  </tbody>\n",
       "</table>\n",
       "</div>"
      ],
      "text/plain": [
       "                        universe_id universe_training_size universe_scale  \\\n",
       "0  586b83af98d6eb18fb7c0460f21de287                    25k   do-not-scale   \n",
       "\n",
       "  universe_model universe_exclude_features universe_exclude_subgroups  \\\n",
       "0     elasticnet                       age                   keep-all   \n",
       "\n",
       "      q_hat  coverage  avg_size  cov_frau1  cov_nongerman  cov_nongerman_male  \\\n",
       "0  0.650549  0.914469  1.249805   0.914786       0.963566            0.969378   \n",
       "\n",
       "   cov_nongerman_female  \n",
       "0              0.953949  "
      ]
     },
     "execution_count": 71,
     "metadata": {},
     "output_type": "execute_result"
    }
   ],
   "source": [
    "cp_metrics_df"
   ]
  },
  {
   "cell_type": "markdown",
   "id": "33774451",
   "metadata": {
    "papermill": {
     "duration": 0.031307,
     "end_time": "2025-07-30T13:07:37.634062",
     "exception": false,
     "start_time": "2025-07-30T13:07:37.602755",
     "status": "completed"
    },
    "tags": []
   },
   "source": [
    "# (Fairness) Metrics"
   ]
  },
  {
   "cell_type": "code",
   "execution_count": 72,
   "id": "debc5d62",
   "metadata": {
    "execution": {
     "iopub.execute_input": "2025-07-30T13:07:37.691052Z",
     "iopub.status.busy": "2025-07-30T13:07:37.690506Z",
     "iopub.status.idle": "2025-07-30T13:07:37.715340Z",
     "shell.execute_reply": "2025-07-30T13:07:37.714336Z"
    },
    "papermill": {
     "duration": 0.054554,
     "end_time": "2025-07-30T13:07:37.717234",
     "exception": false,
     "start_time": "2025-07-30T13:07:37.662680",
     "status": "completed"
    },
    "tags": []
   },
   "outputs": [],
   "source": [
    "# do I need to include maxdeutsch1.missing?\n",
    "\n",
    "import numpy as np\n",
    "\n",
    "colname_to_bin = \"maxdeutsch1\"\n",
    "majority_value = org_train[colname_to_bin].mode()[0]\n",
    "\n",
    "org_test[\"majmin\"] = np.where(org_test[colname_to_bin] == majority_value, \"majority\", \"minority\")"
   ]
  },
  {
   "cell_type": "code",
   "execution_count": 73,
   "id": "06a50de5",
   "metadata": {
    "execution": {
     "iopub.execute_input": "2025-07-30T13:07:37.767534Z",
     "iopub.status.busy": "2025-07-30T13:07:37.767019Z",
     "iopub.status.idle": "2025-07-30T13:07:40.632403Z",
     "shell.execute_reply": "2025-07-30T13:07:40.631358Z"
    },
    "papermill": {
     "duration": 2.897915,
     "end_time": "2025-07-30T13:07:40.634522",
     "exception": false,
     "start_time": "2025-07-30T13:07:37.736607",
     "status": "completed"
    },
    "tags": []
   },
   "outputs": [],
   "source": [
    "example_universe = universe.copy()\n",
    "example_universe[\"cutoff\"] = example_universe[\"cutoff\"][0]\n",
    "example_universe[\"eval_fairness_grouping\"] = example_universe[\"eval_fairness_grouping\"][0]\n",
    "fairness_dict, metric_frame = universe_analysis.compute_metrics(\n",
    "    example_universe,\n",
    "    y_pred_prob=probs_test,\n",
    "    y_test=y_true,\n",
    "    org_test=org_test,\n",
    ")"
   ]
  },
  {
   "cell_type": "markdown",
   "id": "f95d4e02",
   "metadata": {
    "papermill": {
     "duration": 0.040614,
     "end_time": "2025-07-30T13:07:40.704877",
     "exception": false,
     "start_time": "2025-07-30T13:07:40.664263",
     "status": "completed"
    },
    "tags": []
   },
   "source": [
    "# Overall"
   ]
  },
  {
   "cell_type": "markdown",
   "id": "bdee4871",
   "metadata": {
    "papermill": {
     "duration": 0.052174,
     "end_time": "2025-07-30T13:07:40.798444",
     "exception": false,
     "start_time": "2025-07-30T13:07:40.746270",
     "status": "completed"
    },
    "tags": []
   },
   "source": [
    "Fairness\n",
    "Main fairness target: Equalized Odds. Seems to be a better fit than equal opportunity, since we're not only interested in Y = 1. Seems to be a better fit than demographic parity, since we also care about accuracy, not just equal distribution of preds.\n",
    "\n",
    "Pick column for computation of fairness metrics\n",
    "\n",
    "Performance\n",
    "Overall performance measures, most interesting in relation to the measures split by group below"
   ]
  },
  {
   "cell_type": "code",
   "execution_count": 74,
   "id": "c4e067c6",
   "metadata": {
    "execution": {
     "iopub.execute_input": "2025-07-30T13:07:40.906971Z",
     "iopub.status.busy": "2025-07-30T13:07:40.906557Z",
     "iopub.status.idle": "2025-07-30T13:07:40.915954Z",
     "shell.execute_reply": "2025-07-30T13:07:40.914929Z"
    },
    "papermill": {
     "duration": 0.057023,
     "end_time": "2025-07-30T13:07:40.917739",
     "exception": false,
     "start_time": "2025-07-30T13:07:40.860716",
     "status": "completed"
    },
    "tags": []
   },
   "outputs": [
    {
     "data": {
      "text/plain": [
       "accuracy                   0.218939\n",
       "balanced accuracy          0.536474\n",
       "f1                         0.240420\n",
       "precision                  0.137344\n",
       "false positive rate        0.890642\n",
       "false negative rate        0.036409\n",
       "selection rate             0.900000\n",
       "count                  89710.000000\n",
       "dtype: float64"
      ]
     },
     "execution_count": 74,
     "metadata": {},
     "output_type": "execute_result"
    }
   ],
   "source": [
    "metric_frame.overall"
   ]
  },
  {
   "cell_type": "markdown",
   "id": "e968fe9d",
   "metadata": {
    "papermill": {
     "duration": 0.052498,
     "end_time": "2025-07-30T13:07:41.025144",
     "exception": false,
     "start_time": "2025-07-30T13:07:40.972646",
     "status": "completed"
    },
    "tags": []
   },
   "source": [
    "By Group"
   ]
  },
  {
   "cell_type": "code",
   "execution_count": 75,
   "id": "ec325bce",
   "metadata": {
    "execution": {
     "iopub.execute_input": "2025-07-30T13:07:41.210611Z",
     "iopub.status.busy": "2025-07-30T13:07:41.210191Z",
     "iopub.status.idle": "2025-07-30T13:07:41.234629Z",
     "shell.execute_reply": "2025-07-30T13:07:41.233689Z"
    },
    "papermill": {
     "duration": 0.116085,
     "end_time": "2025-07-30T13:07:41.236232",
     "exception": false,
     "start_time": "2025-07-30T13:07:41.120147",
     "status": "completed"
    },
    "tags": []
   },
   "outputs": [
    {
     "data": {
      "text/html": [
       "<div>\n",
       "<style scoped>\n",
       "    .dataframe tbody tr th:only-of-type {\n",
       "        vertical-align: middle;\n",
       "    }\n",
       "\n",
       "    .dataframe tbody tr th {\n",
       "        vertical-align: top;\n",
       "    }\n",
       "\n",
       "    .dataframe thead th {\n",
       "        text-align: right;\n",
       "    }\n",
       "</style>\n",
       "<table border=\"1\" class=\"dataframe\">\n",
       "  <thead>\n",
       "    <tr style=\"text-align: right;\">\n",
       "      <th></th>\n",
       "      <th>accuracy</th>\n",
       "      <th>balanced accuracy</th>\n",
       "      <th>f1</th>\n",
       "      <th>precision</th>\n",
       "      <th>false positive rate</th>\n",
       "      <th>false negative rate</th>\n",
       "      <th>selection rate</th>\n",
       "      <th>count</th>\n",
       "    </tr>\n",
       "    <tr>\n",
       "      <th>majmin</th>\n",
       "      <th></th>\n",
       "      <th></th>\n",
       "      <th></th>\n",
       "      <th></th>\n",
       "      <th></th>\n",
       "      <th></th>\n",
       "      <th></th>\n",
       "      <th></th>\n",
       "    </tr>\n",
       "  </thead>\n",
       "  <tbody>\n",
       "    <tr>\n",
       "      <th>majority</th>\n",
       "      <td>0.242461</td>\n",
       "      <td>0.545381</td>\n",
       "      <td>0.250318</td>\n",
       "      <td>0.143988</td>\n",
       "      <td>0.866350</td>\n",
       "      <td>0.042888</td>\n",
       "      <td>0.878343</td>\n",
       "      <td>69170.0</td>\n",
       "    </tr>\n",
       "    <tr>\n",
       "      <th>minority</th>\n",
       "      <td>0.139727</td>\n",
       "      <td>0.508854</td>\n",
       "      <td>0.209467</td>\n",
       "      <td>0.117144</td>\n",
       "      <td>0.970889</td>\n",
       "      <td>0.011402</td>\n",
       "      <td>0.972931</td>\n",
       "      <td>20540.0</td>\n",
       "    </tr>\n",
       "  </tbody>\n",
       "</table>\n",
       "</div>"
      ],
      "text/plain": [
       "          accuracy  balanced accuracy        f1  precision  \\\n",
       "majmin                                                       \n",
       "majority  0.242461           0.545381  0.250318   0.143988   \n",
       "minority  0.139727           0.508854  0.209467   0.117144   \n",
       "\n",
       "          false positive rate  false negative rate  selection rate    count  \n",
       "majmin                                                                       \n",
       "majority             0.866350             0.042888        0.878343  69170.0  \n",
       "minority             0.970889             0.011402        0.972931  20540.0  "
      ]
     },
     "execution_count": 75,
     "metadata": {},
     "output_type": "execute_result"
    }
   ],
   "source": [
    "metric_frame.by_group"
   ]
  },
  {
   "cell_type": "code",
   "execution_count": 76,
   "id": "a9ddbe63",
   "metadata": {
    "execution": {
     "iopub.execute_input": "2025-07-30T13:07:41.351275Z",
     "iopub.status.busy": "2025-07-30T13:07:41.350703Z",
     "iopub.status.idle": "2025-07-30T13:07:44.977188Z",
     "shell.execute_reply": "2025-07-30T13:07:44.976056Z"
    },
    "papermill": {
     "duration": 3.667783,
     "end_time": "2025-07-30T13:07:44.978783",
     "exception": false,
     "start_time": "2025-07-30T13:07:41.311000",
     "status": "completed"
    },
    "tags": []
   },
   "outputs": [
    {
     "data": {
      "text/plain": [
       "array([[<Axes: title={'center': 'accuracy'}, xlabel='majmin'>,\n",
       "        <Axes: title={'center': 'balanced accuracy'}, xlabel='majmin'>,\n",
       "        <Axes: title={'center': 'f1'}, xlabel='majmin'>],\n",
       "       [<Axes: title={'center': 'precision'}, xlabel='majmin'>,\n",
       "        <Axes: title={'center': 'false positive rate'}, xlabel='majmin'>,\n",
       "        <Axes: title={'center': 'false negative rate'}, xlabel='majmin'>],\n",
       "       [<Axes: title={'center': 'selection rate'}, xlabel='majmin'>,\n",
       "        <Axes: title={'center': 'count'}, xlabel='majmin'>,\n",
       "        <Axes: xlabel='majmin'>]], dtype=object)"
      ]
     },
     "execution_count": 76,
     "metadata": {},
     "output_type": "execute_result"
    },
    {
     "data": {
      "image/png": "[encoded data removed]",
      "text/plain": [
       "<Figure size 1200x800 with 9 Axes>"
      ]
     },
     "metadata": {},
     "output_type": "display_data"
    }
   ],
   "source": [
    "# In a graphic\n",
    "metric_frame.by_group.plot.bar(\n",
    "    subplots=True,\n",
    "    layout=[3, 3],\n",
    "    legend=False,\n",
    "    figsize=[12, 8],\n",
    "    title=\"Show all metrics\",\n",
    ")"
   ]
  },
  {
   "cell_type": "markdown",
   "id": "f57a0bac",
   "metadata": {
    "papermill": {
     "duration": 0.081649,
     "end_time": "2025-07-30T13:07:45.091541",
     "exception": false,
     "start_time": "2025-07-30T13:07:45.009892",
     "status": "completed"
    },
    "tags": []
   },
   "source": [
    "# Final Output"
   ]
  },
  {
   "cell_type": "code",
   "execution_count": 77,
   "id": "96d280a3",
   "metadata": {
    "execution": {
     "iopub.execute_input": "2025-07-30T13:07:45.172772Z",
     "iopub.status.busy": "2025-07-30T13:07:45.172094Z",
     "iopub.status.idle": "2025-07-30T13:07:45.180324Z",
     "shell.execute_reply": "2025-07-30T13:07:45.179355Z"
    },
    "papermill": {
     "duration": 0.043937,
     "end_time": "2025-07-30T13:07:45.182008",
     "exception": false,
     "start_time": "2025-07-30T13:07:45.138071",
     "status": "completed"
    },
    "tags": []
   },
   "outputs": [
    {
     "data": {
      "text/plain": [
       "4"
      ]
     },
     "execution_count": 77,
     "metadata": {},
     "output_type": "execute_result"
    }
   ],
   "source": [
    "sub_universes = universe_analysis.generate_sub_universes()\n",
    "len(sub_universes)"
   ]
  },
  {
   "cell_type": "code",
   "execution_count": 78,
   "id": "92adf7ba",
   "metadata": {
    "execution": {
     "iopub.execute_input": "2025-07-30T13:07:45.242943Z",
     "iopub.status.busy": "2025-07-30T13:07:45.242379Z",
     "iopub.status.idle": "2025-07-30T13:07:45.249043Z",
     "shell.execute_reply": "2025-07-30T13:07:45.248051Z"
    },
    "papermill": {
     "duration": 0.039231,
     "end_time": "2025-07-30T13:07:45.250671",
     "exception": false,
     "start_time": "2025-07-30T13:07:45.211440",
     "status": "completed"
    },
    "tags": []
   },
   "outputs": [],
   "source": [
    "def filter_sub_universe_data(sub_universe, org_test):\n",
    "    # Keep all rows — no filtering\n",
    "    keep_rows_mask = np.ones(org_test.shape[0], dtype=bool)\n",
    "\n",
    "    print(f\"[INFO] Keeping all rows: {keep_rows_mask.sum()} rows retained.\")\n",
    "    return keep_rows_mask"
   ]
  },
  {
   "cell_type": "code",
   "execution_count": 79,
   "id": "4a759155",
   "metadata": {
    "execution": {
     "iopub.execute_input": "2025-07-30T13:07:45.317627Z",
     "iopub.status.busy": "2025-07-30T13:07:45.316871Z",
     "iopub.status.idle": "2025-07-30T13:07:56.076461Z",
     "shell.execute_reply": "2025-07-30T13:07:56.075205Z"
    },
    "papermill": {
     "duration": 10.792429,
     "end_time": "2025-07-30T13:07:56.078230",
     "exception": false,
     "start_time": "2025-07-30T13:07:45.285801",
     "status": "completed"
    },
    "tags": []
   },
   "outputs": [
    {
     "name": "stdout",
     "output_type": "stream",
     "text": [
      "Stopping execution_time clock.\n",
      "[INFO] Keeping all rows: 89710 rows retained.\n"
     ]
    },
    {
     "name": "stdout",
     "output_type": "stream",
     "text": [
      "[INFO] Keeping all rows: 89710 rows retained.\n"
     ]
    },
    {
     "name": "stdout",
     "output_type": "stream",
     "text": [
      "[INFO] Keeping all rows: 89710 rows retained.\n"
     ]
    },
    {
     "name": "stdout",
     "output_type": "stream",
     "text": [
      "[INFO] Keeping all rows: 89710 rows retained.\n"
     ]
    },
    {
     "data": {
      "text/html": [
       "<div>\n",
       "<style scoped>\n",
       "    .dataframe tbody tr th:only-of-type {\n",
       "        vertical-align: middle;\n",
       "    }\n",
       "\n",
       "    .dataframe tbody tr th {\n",
       "        vertical-align: top;\n",
       "    }\n",
       "\n",
       "    .dataframe thead th {\n",
       "        text-align: right;\n",
       "    }\n",
       "</style>\n",
       "<table border=\"1\" class=\"dataframe\">\n",
       "  <thead>\n",
       "    <tr style=\"text-align: right;\">\n",
       "      <th></th>\n",
       "      <th>run_no</th>\n",
       "      <th>universe_id</th>\n",
       "      <th>universe_settings</th>\n",
       "      <th>execution_time</th>\n",
       "      <th>test_size_n</th>\n",
       "      <th>test_size_frac</th>\n",
       "      <th>fair_main_equalized_odds_difference</th>\n",
       "      <th>fair_main_equalized_odds_ratio</th>\n",
       "      <th>fair_main_demographic_parity_difference</th>\n",
       "      <th>fair_main_demographic_parity_ratio</th>\n",
       "      <th>...</th>\n",
       "      <th>perf_grp_precision_0</th>\n",
       "      <th>perf_grp_precision_1</th>\n",
       "      <th>perf_grp_false positive rate_0</th>\n",
       "      <th>perf_grp_false positive rate_1</th>\n",
       "      <th>perf_grp_false negative rate_0</th>\n",
       "      <th>perf_grp_false negative rate_1</th>\n",
       "      <th>perf_grp_selection rate_0</th>\n",
       "      <th>perf_grp_selection rate_1</th>\n",
       "      <th>perf_grp_count_0</th>\n",
       "      <th>perf_grp_count_1</th>\n",
       "    </tr>\n",
       "  </thead>\n",
       "  <tbody>\n",
       "    <tr>\n",
       "      <th>0</th>\n",
       "      <td>12</td>\n",
       "      <td>586b83af98d6eb18fb7c0460f21de287</td>\n",
       "      <td>{\"cutoff\": \"quantile_0.1\", \"eval_fairness_grou...</td>\n",
       "      <td>307.549602</td>\n",
       "      <td>89710</td>\n",
       "      <td>1.0</td>\n",
       "      <td>0.104539</td>\n",
       "      <td>0.892326</td>\n",
       "      <td>0.094588</td>\n",
       "      <td>0.902781</td>\n",
       "      <td>...</td>\n",
       "      <td>NaN</td>\n",
       "      <td>NaN</td>\n",
       "      <td>NaN</td>\n",
       "      <td>NaN</td>\n",
       "      <td>NaN</td>\n",
       "      <td>NaN</td>\n",
       "      <td>NaN</td>\n",
       "      <td>NaN</td>\n",
       "      <td>NaN</td>\n",
       "      <td>NaN</td>\n",
       "    </tr>\n",
       "    <tr>\n",
       "      <th>0</th>\n",
       "      <td>12</td>\n",
       "      <td>586b83af98d6eb18fb7c0460f21de287</td>\n",
       "      <td>{\"cutoff\": \"quantile_0.1\", \"eval_fairness_grou...</td>\n",
       "      <td>307.549602</td>\n",
       "      <td>89710</td>\n",
       "      <td>1.0</td>\n",
       "      <td>0.104539</td>\n",
       "      <td>0.892326</td>\n",
       "      <td>0.094588</td>\n",
       "      <td>0.902781</td>\n",
       "      <td>...</td>\n",
       "      <td>0.117144</td>\n",
       "      <td>0.143988</td>\n",
       "      <td>0.970889</td>\n",
       "      <td>0.866350</td>\n",
       "      <td>0.011402</td>\n",
       "      <td>0.042888</td>\n",
       "      <td>0.972931</td>\n",
       "      <td>0.878343</td>\n",
       "      <td>20540.0</td>\n",
       "      <td>69170.0</td>\n",
       "    </tr>\n",
       "    <tr>\n",
       "      <th>0</th>\n",
       "      <td>12</td>\n",
       "      <td>586b83af98d6eb18fb7c0460f21de287</td>\n",
       "      <td>{\"cutoff\": \"quantile_0.25\", \"eval_fairness_gro...</td>\n",
       "      <td>307.549602</td>\n",
       "      <td>89710</td>\n",
       "      <td>1.0</td>\n",
       "      <td>0.244097</td>\n",
       "      <td>0.733957</td>\n",
       "      <td>0.223785</td>\n",
       "      <td>0.757426</td>\n",
       "      <td>...</td>\n",
       "      <td>NaN</td>\n",
       "      <td>NaN</td>\n",
       "      <td>NaN</td>\n",
       "      <td>NaN</td>\n",
       "      <td>NaN</td>\n",
       "      <td>NaN</td>\n",
       "      <td>NaN</td>\n",
       "      <td>NaN</td>\n",
       "      <td>NaN</td>\n",
       "      <td>NaN</td>\n",
       "    </tr>\n",
       "    <tr>\n",
       "      <th>0</th>\n",
       "      <td>12</td>\n",
       "      <td>586b83af98d6eb18fb7c0460f21de287</td>\n",
       "      <td>{\"cutoff\": \"quantile_0.25\", \"eval_fairness_gro...</td>\n",
       "      <td>307.549602</td>\n",
       "      <td>89710</td>\n",
       "      <td>1.0</td>\n",
       "      <td>0.244097</td>\n",
       "      <td>0.733957</td>\n",
       "      <td>0.223785</td>\n",
       "      <td>0.757426</td>\n",
       "      <td>...</td>\n",
       "      <td>0.120112</td>\n",
       "      <td>0.163615</td>\n",
       "      <td>0.917510</td>\n",
       "      <td>0.673413</td>\n",
       "      <td>0.038851</td>\n",
       "      <td>0.134792</td>\n",
       "      <td>0.922541</td>\n",
       "      <td>0.698757</td>\n",
       "      <td>20540.0</td>\n",
       "      <td>69170.0</td>\n",
       "    </tr>\n",
       "  </tbody>\n",
       "</table>\n",
       "<p>4 rows × 50 columns</p>\n",
       "</div>"
      ],
      "text/plain": [
       "  run_no                       universe_id  \\\n",
       "0     12  586b83af98d6eb18fb7c0460f21de287   \n",
       "0     12  586b83af98d6eb18fb7c0460f21de287   \n",
       "0     12  586b83af98d6eb18fb7c0460f21de287   \n",
       "0     12  586b83af98d6eb18fb7c0460f21de287   \n",
       "\n",
       "                                   universe_settings  execution_time  \\\n",
       "0  {\"cutoff\": \"quantile_0.1\", \"eval_fairness_grou...      307.549602   \n",
       "0  {\"cutoff\": \"quantile_0.1\", \"eval_fairness_grou...      307.549602   \n",
       "0  {\"cutoff\": \"quantile_0.25\", \"eval_fairness_gro...      307.549602   \n",
       "0  {\"cutoff\": \"quantile_0.25\", \"eval_fairness_gro...      307.549602   \n",
       "\n",
       "   test_size_n  test_size_frac  fair_main_equalized_odds_difference  \\\n",
       "0        89710             1.0                             0.104539   \n",
       "0        89710             1.0                             0.104539   \n",
       "0        89710             1.0                             0.244097   \n",
       "0        89710             1.0                             0.244097   \n",
       "\n",
       "   fair_main_equalized_odds_ratio  fair_main_demographic_parity_difference  \\\n",
       "0                        0.892326                                 0.094588   \n",
       "0                        0.892326                                 0.094588   \n",
       "0                        0.733957                                 0.223785   \n",
       "0                        0.733957                                 0.223785   \n",
       "\n",
       "   fair_main_demographic_parity_ratio  ...  perf_grp_precision_0  \\\n",
       "0                            0.902781  ...                   NaN   \n",
       "0                            0.902781  ...              0.117144   \n",
       "0                            0.757426  ...                   NaN   \n",
       "0                            0.757426  ...              0.120112   \n",
       "\n",
       "   perf_grp_precision_1  perf_grp_false positive rate_0  \\\n",
       "0                   NaN                             NaN   \n",
       "0              0.143988                        0.970889   \n",
       "0                   NaN                             NaN   \n",
       "0              0.163615                        0.917510   \n",
       "\n",
       "   perf_grp_false positive rate_1  perf_grp_false negative rate_0  \\\n",
       "0                             NaN                             NaN   \n",
       "0                        0.866350                        0.011402   \n",
       "0                             NaN                             NaN   \n",
       "0                        0.673413                        0.038851   \n",
       "\n",
       "   perf_grp_false negative rate_1  perf_grp_selection rate_0  \\\n",
       "0                             NaN                        NaN   \n",
       "0                        0.042888                   0.972931   \n",
       "0                             NaN                        NaN   \n",
       "0                        0.134792                   0.922541   \n",
       "\n",
       "   perf_grp_selection rate_1  perf_grp_count_0  perf_grp_count_1  \n",
       "0                        NaN               NaN               NaN  \n",
       "0                   0.878343           20540.0           69170.0  \n",
       "0                        NaN               NaN               NaN  \n",
       "0                   0.698757           20540.0           69170.0  \n",
       "\n",
       "[4 rows x 50 columns]"
      ]
     },
     "execution_count": 79,
     "metadata": {},
     "output_type": "execute_result"
    }
   ],
   "source": [
    "final_output = universe_analysis.generate_final_output(\n",
    "    y_pred_prob=probs_test,\n",
    "    y_test=y_true,\n",
    "    org_test=org_test,\n",
    "    filter_data=filter_sub_universe_data,\n",
    "    cp_metrics_df=cp_metrics_df,\n",
    "    save=True,\n",
    ")\n",
    "final_output"
   ]
  },
  {
   "cell_type": "code",
   "execution_count": null,
   "id": "721ff514-cb11-46f8-b6fc-50392f74b5cb",
   "metadata": {
    "papermill": {
     "duration": 0.030615,
     "end_time": "2025-07-30T13:07:56.141178",
     "exception": false,
     "start_time": "2025-07-30T13:07:56.110563",
     "status": "completed"
    },
    "tags": []
   },
   "outputs": [],
   "source": []
  }
 ],
 "metadata": {
  "celltoolbar": "Tags",
  "kernelspec": {
   "display_name": "Python (CMA Fairness)",
   "language": "python",
   "name": "cma_fair_env"
  },
  "language_info": {
   "codemirror_mode": {
    "name": "ipython",
    "version": 3
   },
   "file_extension": ".py",
   "mimetype": "text/x-python",
   "name": "python",
   "nbconvert_exporter": "python",
   "pygments_lexer": "ipython3",
   "version": "3.10.12"
  },
  "papermill": {
   "default_parameters": {},
   "duration": 322.609566,
   "end_time": "2025-07-30T13:07:57.385720",
   "environment_variables": {},
   "exception": null,
   "input_path": "universe_analysis.ipynb",
   "output_path": "output/runs/12/notebooks/m_12-586b83af98d6eb18fb7c0460f21de287.ipynb",
   "parameters": {
    "output_dir": "output",
    "run_no": "12",
    "seed": "2023",
    "universe": "{\"cutoff\": [\"quantile_0.1\", \"quantile_0.25\"], \"eval_fairness_grouping\": [\"majority-minority\", \"nationality-all\"], \"exclude_features\": \"age\", \"exclude_subgroups\": \"keep-all\", \"model\": \"elasticnet\", \"scale\": \"do-not-scale\", \"training_size\": \"25k\", \"training_year\": \"2014\"}",
    "universe_id": "586b83af98d6eb18fb7c0460f21de287"
   },
   "start_time": "2025-07-30T13:02:34.776154",
   "version": "2.6.0"
  }
 },
 "nbformat": 4,
 "nbformat_minor": 5
}