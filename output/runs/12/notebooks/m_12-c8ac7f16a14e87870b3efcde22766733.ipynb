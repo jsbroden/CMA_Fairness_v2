{
 "cells": [
  {
   "cell_type": "code",
   "execution_count": 1,
   "id": "f159f837-637b-42ba-96b5-ec9a68c44524",
   "metadata": {
    "execution": {
     "iopub.execute_input": "2025-07-30T14:10:21.000339Z",
     "iopub.status.busy": "2025-07-30T14:10:20.999911Z",
     "iopub.status.idle": "2025-07-30T14:10:21.013633Z",
     "shell.execute_reply": "2025-07-30T14:10:21.012569Z"
    },
    "papermill": {
     "duration": 0.036868,
     "end_time": "2025-07-30T14:10:21.015545",
     "exception": false,
     "start_time": "2025-07-30T14:10:20.978677",
     "status": "completed"
    },
    "tags": []
   },
   "outputs": [
    {
     "name": "stdout",
     "output_type": "stream",
     "text": [
      "/dss/dsshome1/0C/ra93lal2/cma/CMA_Fairness_v2\n"
     ]
    },
    {
     "name": "stderr",
     "output_type": "stream",
     "text": [
      "/dss/dsshome1/0C/ra93lal2/.local/share/virtualenvs/CMA_Fairness_v2-3j10GkSs/lib/python3.10/site-packages/IPython/core/magics/osm.py:393: UserWarning: This is now an optional IPython functionality, using bookmarks requires you to install the `pickleshare` library.\n",
      "  bkms = self.shell.db.get('bookmarks', {})\n",
      "/dss/dsshome1/0C/ra93lal2/.local/share/virtualenvs/CMA_Fairness_v2-3j10GkSs/lib/python3.10/site-packages/IPython/core/magics/osm.py:417: UserWarning: This is now an optional IPython functionality, setting dhist requires you to install the `pickleshare` library.\n",
      "  self.shell.db['dhist'] = compress_dhist(dhist)[-100:]\n"
     ]
    }
   ],
   "source": [
    "%cd ~/cma/CMA_Fairness_v2"
   ]
  },
  {
   "cell_type": "markdown",
   "id": "de2603b9",
   "metadata": {
    "papermill": {
     "duration": 0.020422,
     "end_time": "2025-07-30T14:10:21.057231",
     "exception": false,
     "start_time": "2025-07-30T14:10:21.036809",
     "status": "completed"
    },
    "tags": []
   },
   "source": [
    "The following cell holds the definition of our parameters, these values can be overriden by rendering the with e.g. the following command:\n",
    "\n",
    "papermill -p alpha 0.2 -p ratio 0.3 universe_analysis.ipynb output/test_run.ipynb"
   ]
  },
  {
   "cell_type": "code",
   "execution_count": 2,
   "id": "a80968a0-40bb-4fa9-85ef-2d5eefb01975",
   "metadata": {
    "execution": {
     "iopub.execute_input": "2025-07-30T14:10:21.100089Z",
     "iopub.status.busy": "2025-07-30T14:10:21.099388Z",
     "iopub.status.idle": "2025-07-30T14:10:21.105337Z",
     "shell.execute_reply": "2025-07-30T14:10:21.104315Z"
    },
    "papermill": {
     "duration": 0.029211,
     "end_time": "2025-07-30T14:10:21.107118",
     "exception": false,
     "start_time": "2025-07-30T14:10:21.077907",
     "status": "completed"
    },
    "tags": []
   },
   "outputs": [
    {
     "name": "stdout",
     "output_type": "stream",
     "text": [
      "Current working directory: /dss/dsshome1/0C/ra93lal2/cma/CMA_Fairness_v2\n"
     ]
    }
   ],
   "source": [
    "import os\n",
    "print(\"Current working directory:\", os.getcwd())"
   ]
  },
  {
   "cell_type": "code",
   "execution_count": 3,
   "id": "2dce4c03",
   "metadata": {
    "execution": {
     "iopub.execute_input": "2025-07-30T14:10:21.149975Z",
     "iopub.status.busy": "2025-07-30T14:10:21.149123Z",
     "iopub.status.idle": "2025-07-30T14:10:21.155571Z",
     "shell.execute_reply": "2025-07-30T14:10:21.154603Z"
    },
    "papermill": {
     "duration": 0.030052,
     "end_time": "2025-07-30T14:10:21.157463",
     "exception": false,
     "start_time": "2025-07-30T14:10:21.127411",
     "status": "completed"
    },
    "tags": [
     "parameters"
    ]
   },
   "outputs": [],
   "source": [
    "run_no = 0\n",
    "universe_id = \"test\"\n",
    "universe = {\n",
    "    \"training_size\": \"25k\", # \"25k\", \"5k\", \"1k\"\n",
    "    \"training_year\": \"2014\", # \"2014\", \"2012_14\", \"2010_14\"\n",
    "    \"scale\": \"scale\", # \"scale\", \"do-not-scale\",\n",
    "    #\"stratify_split\": \"target\", # \"none\", \"target\", \"protected-attribute\", \"both\",\n",
    "    \"model\": \"elasticnet\", # \"logreg\", \"penalized_logreg\", \"rf\", \"gbm\", \"elasticnet\"\n",
    "    \"cutoff\": [\"quantile_0.15\", \"quantile_0.30\"],\n",
    "    \"exclude_features\": \"age\", # \"none\", \"nationality\", \"sex\", \"nationality-sex\", \"age\"\n",
    "    \"exclude_subgroups\": \"keep-all\", # \"keep-all\", \"drop-non-german\"\n",
    "    \"eval_fairness_grouping\": [\"majority-minority\", \"nationality-all\"]\n",
    "}\n",
    "\n",
    "output_dir=\"./output\"\n",
    "seed=0"
   ]
  },
  {
   "cell_type": "code",
   "execution_count": 4,
   "id": "03c3f58d",
   "metadata": {
    "execution": {
     "iopub.execute_input": "2025-07-30T14:10:21.201772Z",
     "iopub.status.busy": "2025-07-30T14:10:21.201284Z",
     "iopub.status.idle": "2025-07-30T14:10:21.207067Z",
     "shell.execute_reply": "2025-07-30T14:10:21.206102Z"
    },
    "papermill": {
     "duration": 0.029388,
     "end_time": "2025-07-30T14:10:21.208731",
     "exception": false,
     "start_time": "2025-07-30T14:10:21.179343",
     "status": "completed"
    },
    "tags": [
     "injected-parameters"
    ]
   },
   "outputs": [],
   "source": [
    "# Parameters\n",
    "universe_id = \"c8ac7f16a14e87870b3efcde22766733\"\n",
    "run_no = \"12\"\n",
    "universe = \"{\\\"cutoff\\\": [\\\"quantile_0.1\\\", \\\"quantile_0.25\\\"], \\\"eval_fairness_grouping\\\": [\\\"majority-minority\\\", \\\"nationality-all\\\"], \\\"exclude_features\\\": \\\"none\\\", \\\"exclude_subgroups\\\": \\\"keep-all\\\", \\\"model\\\": \\\"elasticnet\\\", \\\"scale\\\": \\\"scale\\\", \\\"training_size\\\": \\\"5k\\\", \\\"training_year\\\": \\\"2010_14\\\"}\"\n",
    "output_dir = \"output\"\n",
    "seed = \"2023\"\n"
   ]
  },
  {
   "cell_type": "code",
   "execution_count": 5,
   "id": "1650acaf",
   "metadata": {
    "execution": {
     "iopub.execute_input": "2025-07-30T14:10:21.248827Z",
     "iopub.status.busy": "2025-07-30T14:10:21.248397Z",
     "iopub.status.idle": "2025-07-30T14:10:21.253480Z",
     "shell.execute_reply": "2025-07-30T14:10:21.252572Z"
    },
    "papermill": {
     "duration": 0.028424,
     "end_time": "2025-07-30T14:10:21.255423",
     "exception": false,
     "start_time": "2025-07-30T14:10:21.226999",
     "status": "completed"
    },
    "tags": []
   },
   "outputs": [],
   "source": [
    "import json\n",
    "# Parse universe into dict if it is passed as a string\n",
    "if isinstance(universe, str):\n",
    "    universe = json.loads(universe)"
   ]
  },
  {
   "cell_type": "code",
   "execution_count": 6,
   "id": "16620c48",
   "metadata": {
    "execution": {
     "iopub.execute_input": "2025-07-30T14:10:21.298938Z",
     "iopub.status.busy": "2025-07-30T14:10:21.298271Z",
     "iopub.status.idle": "2025-07-30T14:10:21.344508Z",
     "shell.execute_reply": "2025-07-30T14:10:21.343483Z"
    },
    "papermill": {
     "duration": 0.070129,
     "end_time": "2025-07-30T14:10:21.346587",
     "exception": false,
     "start_time": "2025-07-30T14:10:21.276458",
     "status": "completed"
    },
    "tags": []
   },
   "outputs": [],
   "source": [
    "# Auto-reload the custom package\n",
    "%load_ext autoreload\n",
    "%autoreload 1\n",
    "%aimport fairness_multiverse"
   ]
  },
  {
   "cell_type": "code",
   "execution_count": 7,
   "id": "01c5c9f3",
   "metadata": {
    "execution": {
     "iopub.execute_input": "2025-07-30T14:10:21.391921Z",
     "iopub.status.busy": "2025-07-30T14:10:21.391069Z",
     "iopub.status.idle": "2025-07-30T14:10:23.194515Z",
     "shell.execute_reply": "2025-07-30T14:10:23.193761Z"
    },
    "papermill": {
     "duration": 1.827434,
     "end_time": "2025-07-30T14:10:23.196026",
     "exception": false,
     "start_time": "2025-07-30T14:10:21.368592",
     "status": "completed"
    },
    "tags": []
   },
   "outputs": [],
   "source": [
    "from fairness_multiverse.universe import UniverseAnalysis\n",
    "\n",
    "universe_analysis = UniverseAnalysis(\n",
    "    run_no = run_no,\n",
    "    universe_id = universe_id,\n",
    "    universe = universe,\n",
    "    output_dir=output_dir,\n",
    ")"
   ]
  },
  {
   "cell_type": "code",
   "execution_count": 8,
   "id": "106241f5",
   "metadata": {
    "execution": {
     "iopub.execute_input": "2025-07-30T14:10:23.218739Z",
     "iopub.status.busy": "2025-07-30T14:10:23.218407Z",
     "iopub.status.idle": "2025-07-30T14:10:23.223917Z",
     "shell.execute_reply": "2025-07-30T14:10:23.222971Z"
    },
    "papermill": {
     "duration": 0.018213,
     "end_time": "2025-07-30T14:10:23.225569",
     "exception": false,
     "start_time": "2025-07-30T14:10:23.207356",
     "status": "completed"
    },
    "tags": []
   },
   "outputs": [
    {
     "name": "stdout",
     "output_type": "stream",
     "text": [
      "Using Seed: 2023\n"
     ]
    }
   ],
   "source": [
    "import numpy as np\n",
    "parsed_seed = int(seed)\n",
    "np.random.seed(parsed_seed)\n",
    "print(f\"Using Seed: {parsed_seed}\")"
   ]
  },
  {
   "cell_type": "markdown",
   "id": "e0ebdc57",
   "metadata": {
    "papermill": {
     "duration": 0.009753,
     "end_time": "2025-07-30T14:10:23.246367",
     "exception": false,
     "start_time": "2025-07-30T14:10:23.236614",
     "status": "completed"
    },
    "tags": []
   },
   "source": [
    "# Loading Data"
   ]
  },
  {
   "cell_type": "markdown",
   "id": "681925a3",
   "metadata": {
    "papermill": {
     "duration": 0.010024,
     "end_time": "2025-07-30T14:10:23.266246",
     "exception": false,
     "start_time": "2025-07-30T14:10:23.256222",
     "status": "completed"
    },
    "tags": []
   },
   "source": [
    "Load siab_train, siab_test, siab_calib and/or \n",
    "load siab_train_features, siab_train_labels"
   ]
  },
  {
   "cell_type": "code",
   "execution_count": 9,
   "id": "f0496b8a",
   "metadata": {
    "execution": {
     "iopub.execute_input": "2025-07-30T14:10:23.287533Z",
     "iopub.status.busy": "2025-07-30T14:10:23.287025Z",
     "iopub.status.idle": "2025-07-30T14:10:35.271715Z",
     "shell.execute_reply": "2025-07-30T14:10:35.270398Z"
    },
    "papermill": {
     "duration": 11.997458,
     "end_time": "2025-07-30T14:10:35.273646",
     "exception": false,
     "start_time": "2025-07-30T14:10:23.276188",
     "status": "completed"
    },
    "tags": []
   },
   "outputs": [
    {
     "name": "stdout",
     "output_type": "stream",
     "text": [
      "Loading SIAB data from cache: data/siab_cached.csv.gz\n"
     ]
    },
    {
     "name": "stdout",
     "output_type": "stream",
     "text": [
      "(643690, 164)\n"
     ]
    }
   ],
   "source": [
    "from pathlib import Path\n",
    "import pandas as pd\n",
    "\n",
    "# File paths\n",
    "raw_file = Path(\"data/raw/siab.csv\")\n",
    "cache_file = Path(\"data/siab_cached.csv.gz\")\n",
    "\n",
    "# Ensure cache directory exists\n",
    "cache_file.parent.mkdir(parents=True, exist_ok=True)\n",
    "\n",
    "# Load with simple caching\n",
    "if cache_file.exists():\n",
    "    print(f\"Loading SIAB data from cache: {cache_file}\")\n",
    "    siab = pd.read_csv(cache_file, compression='gzip')\n",
    "else:\n",
    "    print(f\"Cache not found. Reading raw SIAB data: {raw_file}\")\n",
    "    siab = pd.read_csv(raw_file)\n",
    "    siab.to_csv(cache_file, index=False, compression='gzip')\n",
    "    print(f\"Cached SIAB data to: {cache_file}\")\n",
    "\n",
    "# Now use `siab` DataFrame as needed\n",
    "print(siab.shape)"
   ]
  },
  {
   "cell_type": "code",
   "execution_count": 10,
   "id": "db0ca512-5f53-4dba-abdb-a2888bca41ba",
   "metadata": {
    "execution": {
     "iopub.execute_input": "2025-07-30T14:10:35.321920Z",
     "iopub.status.busy": "2025-07-30T14:10:35.320961Z",
     "iopub.status.idle": "2025-07-30T14:10:35.327948Z",
     "shell.execute_reply": "2025-07-30T14:10:35.326750Z"
    },
    "papermill": {
     "duration": 0.033079,
     "end_time": "2025-07-30T14:10:35.330830",
     "exception": false,
     "start_time": "2025-07-30T14:10:35.297751",
     "status": "completed"
    },
    "tags": []
   },
   "outputs": [],
   "source": [
    "#siab"
   ]
  },
  {
   "cell_type": "code",
   "execution_count": 11,
   "id": "a0edb063",
   "metadata": {
    "execution": {
     "iopub.execute_input": "2025-07-30T14:10:35.391545Z",
     "iopub.status.busy": "2025-07-30T14:10:35.390989Z",
     "iopub.status.idle": "2025-07-30T14:10:35.396708Z",
     "shell.execute_reply": "2025-07-30T14:10:35.395471Z"
    },
    "papermill": {
     "duration": 0.038718,
     "end_time": "2025-07-30T14:10:35.398864",
     "exception": false,
     "start_time": "2025-07-30T14:10:35.360146",
     "status": "completed"
    },
    "tags": []
   },
   "outputs": [],
   "source": [
    "#import pandas as pd\n",
    "#\n",
    "#X_train = pd.read_csv(\"./data/X_train.csv\")\n",
    "#y_train = pd.read_csv(\"./data/y_train.csv\")"
   ]
  },
  {
   "cell_type": "code",
   "execution_count": 12,
   "id": "63d08085",
   "metadata": {
    "execution": {
     "iopub.execute_input": "2025-07-30T14:10:35.459317Z",
     "iopub.status.busy": "2025-07-30T14:10:35.458600Z",
     "iopub.status.idle": "2025-07-30T14:10:35.463925Z",
     "shell.execute_reply": "2025-07-30T14:10:35.462839Z"
    },
    "papermill": {
     "duration": 0.037399,
     "end_time": "2025-07-30T14:10:35.465638",
     "exception": false,
     "start_time": "2025-07-30T14:10:35.428239",
     "status": "completed"
    },
    "tags": []
   },
   "outputs": [],
   "source": [
    "#X_test = pd.read_csv(\"./data/X_test.csv\")\n",
    "#y_true = pd.read_csv(\"./data/y_test.csv\")"
   ]
  },
  {
   "cell_type": "code",
   "execution_count": 13,
   "id": "98a8d0fa-1d3d-4ed8-bb2c-281470e24add",
   "metadata": {
    "execution": {
     "iopub.execute_input": "2025-07-30T14:10:35.508631Z",
     "iopub.status.busy": "2025-07-30T14:10:35.507874Z",
     "iopub.status.idle": "2025-07-30T14:10:35.513051Z",
     "shell.execute_reply": "2025-07-30T14:10:35.512099Z"
    },
    "papermill": {
     "duration": 0.028844,
     "end_time": "2025-07-30T14:10:35.514774",
     "exception": false,
     "start_time": "2025-07-30T14:10:35.485930",
     "status": "completed"
    },
    "tags": []
   },
   "outputs": [],
   "source": [
    "# Calibration data for conformal\n",
    "#X_calib = pd.read_csv(\"./data/X_calib.csv\")\n",
    "#y_calib = pd.read_csv(\"./data/y_calib.csv\")"
   ]
  },
  {
   "cell_type": "markdown",
   "id": "997051c5-15bd-4b69-9786-c3001a3ce484",
   "metadata": {
    "papermill": {
     "duration": 0.019762,
     "end_time": "2025-07-30T14:10:35.554784",
     "exception": false,
     "start_time": "2025-07-30T14:10:35.535022",
     "status": "completed"
    },
    "tags": []
   },
   "source": [
    "# Splitting Data and Setting Training Data Size"
   ]
  },
  {
   "cell_type": "code",
   "execution_count": 14,
   "id": "e993b61f-042d-41a6-8c81-f55681f86335",
   "metadata": {
    "execution": {
     "iopub.execute_input": "2025-07-30T14:10:35.603839Z",
     "iopub.status.busy": "2025-07-30T14:10:35.603125Z",
     "iopub.status.idle": "2025-07-30T14:10:35.616921Z",
     "shell.execute_reply": "2025-07-30T14:10:35.615795Z"
    },
    "papermill": {
     "duration": 0.039336,
     "end_time": "2025-07-30T14:10:35.618632",
     "exception": false,
     "start_time": "2025-07-30T14:10:35.579296",
     "status": "completed"
    },
    "tags": []
   },
   "outputs": [],
   "source": [
    "def sample_by_year_size(df,\n",
    "                        training_year: str,\n",
    "                        training_size: str,\n",
    "                        random_state: int = 42):\n",
    "    # --- parse training_year into a list of int years ---\n",
    "    if \"_\" in training_year:\n",
    "        start_str, end_str = training_year.split(\"_\", 1)\n",
    "        start = int(start_str)\n",
    "        end   = int(end_str) if len(end_str) == 4 else (int(end_str) + (start // 100)*100)\n",
    "        years = list(range(start, end + 1))\n",
    "    else:\n",
    "        years = [int(training_year)]\n",
    "\n",
    "    df = df[df[\"year\"].isin(years)].reset_index(drop=True)\n",
    "\n",
    "    # --- map training_size to total number of samples ---\n",
    "    total_map = {\"25k\": 25_000, \"5k\": 5_000, \"1k\": 1_000}\n",
    "    if training_size not in total_map:\n",
    "        return df  # e.g. \"all\"\n",
    "\n",
    "    total_samples = total_map[training_size]\n",
    "    n_years       = len(years)\n",
    "    base          = total_samples // n_years\n",
    "    remainder     = total_samples % n_years\n",
    "\n",
    "    # --- build a dict: year -> how many to sample ---\n",
    "    # give +1 to the first `remainder` years in ascending order\n",
    "    quotas = {\n",
    "        year: base + (1 if idx < remainder else 0)\n",
    "        for idx, year in enumerate(sorted(years))\n",
    "    }\n",
    "\n",
    "    # --- sample per‐year according to the quota dict ---\n",
    "    sampled = (\n",
    "        df\n",
    "        .groupby(\"year\", group_keys=False)\n",
    "        .apply(lambda grp: grp.sample(\n",
    "            n=min(len(grp), quotas[grp.name]),\n",
    "            random_state=random_state))\n",
    "        .reset_index(drop=True)\n",
    "    )\n",
    "\n",
    "    return sampled"
   ]
  },
  {
   "cell_type": "code",
   "execution_count": 15,
   "id": "c0ccd338-0e02-41f3-a09d-f56f9266e3fb",
   "metadata": {
    "execution": {
     "iopub.execute_input": "2025-07-30T14:10:35.665379Z",
     "iopub.status.busy": "2025-07-30T14:10:35.664695Z",
     "iopub.status.idle": "2025-07-30T14:10:35.676236Z",
     "shell.execute_reply": "2025-07-30T14:10:35.675101Z"
    },
    "papermill": {
     "duration": 0.036875,
     "end_time": "2025-07-30T14:10:35.678094",
     "exception": false,
     "start_time": "2025-07-30T14:10:35.641219",
     "status": "completed"
    },
    "tags": []
   },
   "outputs": [
    {
     "data": {
      "text/plain": [
       "'5k'"
      ]
     },
     "execution_count": 15,
     "metadata": {},
     "output_type": "execute_result"
    }
   ],
   "source": [
    "universe[\"training_size\"]"
   ]
  },
  {
   "cell_type": "code",
   "execution_count": 16,
   "id": "ca707fd7-8047-4acd-bfa5-66248fbbf8e6",
   "metadata": {
    "execution": {
     "iopub.execute_input": "2025-07-30T14:10:35.725327Z",
     "iopub.status.busy": "2025-07-30T14:10:35.724629Z",
     "iopub.status.idle": "2025-07-30T14:10:35.732025Z",
     "shell.execute_reply": "2025-07-30T14:10:35.731133Z"
    },
    "papermill": {
     "duration": 0.032791,
     "end_time": "2025-07-30T14:10:35.733714",
     "exception": false,
     "start_time": "2025-07-30T14:10:35.700923",
     "status": "completed"
    },
    "tags": []
   },
   "outputs": [
    {
     "data": {
      "text/plain": [
       "'2010_14'"
      ]
     },
     "execution_count": 16,
     "metadata": {},
     "output_type": "execute_result"
    }
   ],
   "source": [
    "universe[\"training_year\"]"
   ]
  },
  {
   "cell_type": "code",
   "execution_count": 17,
   "id": "aea9c6ef-6f46-42c8-85eb-5a62025c1508",
   "metadata": {
    "execution": {
     "iopub.execute_input": "2025-07-30T14:10:35.780766Z",
     "iopub.status.busy": "2025-07-30T14:10:35.780020Z",
     "iopub.status.idle": "2025-07-30T14:10:36.990109Z",
     "shell.execute_reply": "2025-07-30T14:10:36.989169Z"
    },
    "papermill": {
     "duration": 1.235505,
     "end_time": "2025-07-30T14:10:36.991991",
     "exception": false,
     "start_time": "2025-07-30T14:10:35.756486",
     "status": "completed"
    },
    "tags": []
   },
   "outputs": [],
   "source": [
    "siab_train = sample_by_year_size(siab,\n",
    "                               training_year=universe[\"training_year\"],\n",
    "                               training_size=universe[\"training_size\"])"
   ]
  },
  {
   "cell_type": "code",
   "execution_count": 18,
   "id": "8d3afb32-789d-442c-8d5d-9f5aa8dd2eed",
   "metadata": {
    "execution": {
     "iopub.execute_input": "2025-07-30T14:10:37.037783Z",
     "iopub.status.busy": "2025-07-30T14:10:37.037099Z",
     "iopub.status.idle": "2025-07-30T14:10:37.044447Z",
     "shell.execute_reply": "2025-07-30T14:10:37.043523Z"
    },
    "papermill": {
     "duration": 0.032498,
     "end_time": "2025-07-30T14:10:37.046077",
     "exception": false,
     "start_time": "2025-07-30T14:10:37.013579",
     "status": "completed"
    },
    "tags": []
   },
   "outputs": [
    {
     "data": {
      "text/plain": [
       "(5000, 164)"
      ]
     },
     "execution_count": 18,
     "metadata": {},
     "output_type": "execute_result"
    }
   ],
   "source": [
    "siab_train.shape"
   ]
  },
  {
   "cell_type": "code",
   "execution_count": 19,
   "id": "d582db68-1a4c-47fb-84fc-08518dc1975a",
   "metadata": {
    "execution": {
     "iopub.execute_input": "2025-07-30T14:10:37.091509Z",
     "iopub.status.busy": "2025-07-30T14:10:37.090804Z",
     "iopub.status.idle": "2025-07-30T14:10:37.101889Z",
     "shell.execute_reply": "2025-07-30T14:10:37.100872Z"
    },
    "papermill": {
     "duration": 0.034797,
     "end_time": "2025-07-30T14:10:37.103482",
     "exception": false,
     "start_time": "2025-07-30T14:10:37.068685",
     "status": "completed"
    },
    "tags": []
   },
   "outputs": [
    {
     "data": {
      "text/plain": [
       "year\n",
       "2010    1000\n",
       "2011    1000\n",
       "2012    1000\n",
       "2013    1000\n",
       "2014    1000\n",
       "dtype: int64"
      ]
     },
     "metadata": {},
     "output_type": "display_data"
    }
   ],
   "source": [
    "display(siab_train.groupby(\"year\").size())"
   ]
  },
  {
   "cell_type": "code",
   "execution_count": 20,
   "id": "a561edb4-d032-42cb-8256-22eac1111c64",
   "metadata": {
    "execution": {
     "iopub.execute_input": "2025-07-30T14:10:37.148321Z",
     "iopub.status.busy": "2025-07-30T14:10:37.147413Z",
     "iopub.status.idle": "2025-07-30T14:10:37.374411Z",
     "shell.execute_reply": "2025-07-30T14:10:37.373498Z"
    },
    "papermill": {
     "duration": 0.250527,
     "end_time": "2025-07-30T14:10:37.376393",
     "exception": false,
     "start_time": "2025-07-30T14:10:37.125866",
     "status": "completed"
    },
    "tags": []
   },
   "outputs": [],
   "source": [
    "#siab_train = siab_s[siab_s.year < 2015]\n",
    "siab_calib = siab[siab.year == 2015]\n",
    "siab_test = siab[siab.year == 2016]"
   ]
  },
  {
   "cell_type": "code",
   "execution_count": 21,
   "id": "472de16f-c3db-4916-846b-1f0de9cf1746",
   "metadata": {
    "execution": {
     "iopub.execute_input": "2025-07-30T14:10:37.423604Z",
     "iopub.status.busy": "2025-07-30T14:10:37.422938Z",
     "iopub.status.idle": "2025-07-30T14:10:37.431447Z",
     "shell.execute_reply": "2025-07-30T14:10:37.430460Z"
    },
    "papermill": {
     "duration": 0.033758,
     "end_time": "2025-07-30T14:10:37.433044",
     "exception": false,
     "start_time": "2025-07-30T14:10:37.399286",
     "status": "completed"
    },
    "tags": []
   },
   "outputs": [],
   "source": [
    "X_train = siab_train.iloc[:,4:164]\n",
    "y_train = siab_train.iloc[:, [3]]"
   ]
  },
  {
   "cell_type": "code",
   "execution_count": 22,
   "id": "828c96af-f43a-4ed6-ba47-8ac73a47d56c",
   "metadata": {
    "execution": {
     "iopub.execute_input": "2025-07-30T14:10:37.481424Z",
     "iopub.status.busy": "2025-07-30T14:10:37.480344Z",
     "iopub.status.idle": "2025-07-30T14:10:37.547150Z",
     "shell.execute_reply": "2025-07-30T14:10:37.546139Z"
    },
    "papermill": {
     "duration": 0.093515,
     "end_time": "2025-07-30T14:10:37.548866",
     "exception": false,
     "start_time": "2025-07-30T14:10:37.455351",
     "status": "completed"
    },
    "tags": []
   },
   "outputs": [],
   "source": [
    "X_calib = siab_calib.iloc[:,4:164]\n",
    "y_calib = siab_calib.iloc[:, [3]]"
   ]
  },
  {
   "cell_type": "code",
   "execution_count": 23,
   "id": "c34be9c3-6bd6-476e-acd3-845840e303be",
   "metadata": {
    "execution": {
     "iopub.execute_input": "2025-07-30T14:10:37.596059Z",
     "iopub.status.busy": "2025-07-30T14:10:37.595518Z",
     "iopub.status.idle": "2025-07-30T14:10:37.646761Z",
     "shell.execute_reply": "2025-07-30T14:10:37.645542Z"
    },
    "papermill": {
     "duration": 0.077614,
     "end_time": "2025-07-30T14:10:37.648993",
     "exception": false,
     "start_time": "2025-07-30T14:10:37.571379",
     "status": "completed"
    },
    "tags": []
   },
   "outputs": [],
   "source": [
    "X_test = siab_test.iloc[:,4:164]\n",
    "y_true = siab_test.iloc[:, [3]]"
   ]
  },
  {
   "cell_type": "markdown",
   "id": "9901737e-04df-44f0-9100-f5ad144ed040",
   "metadata": {
    "papermill": {
     "duration": 0.011665,
     "end_time": "2025-07-30T14:10:37.677345",
     "exception": false,
     "start_time": "2025-07-30T14:10:37.665680",
     "status": "completed"
    },
    "tags": []
   },
   "source": [
    "# Splitting Data and Setting Training Data Size OLD VERSION"
   ]
  },
  {
   "cell_type": "code",
   "execution_count": 24,
   "id": "acbc8f7d-8fc8-4e86-8c59-5dcb0f58384b",
   "metadata": {
    "execution": {
     "iopub.execute_input": "2025-07-30T14:10:37.710283Z",
     "iopub.status.busy": "2025-07-30T14:10:37.709159Z",
     "iopub.status.idle": "2025-07-30T14:10:37.715125Z",
     "shell.execute_reply": "2025-07-30T14:10:37.714104Z"
    },
    "papermill": {
     "duration": 0.040718,
     "end_time": "2025-07-30T14:10:37.730704",
     "exception": false,
     "start_time": "2025-07-30T14:10:37.689986",
     "status": "completed"
    },
    "tags": []
   },
   "outputs": [],
   "source": [
    "#def sample_by_year(df, training_size, random_state=42):\n",
    "#    if training_size == \"2014\":\n",
    "#        return df[df[\"year\"] == 2014].reset_index(drop=True)\n",
    "#    \n",
    "#    size_map = {\n",
    "#        \"25k\": 5000,\n",
    "#        \"5k\": 1000,\n",
    "#        \"1k\": 200\n",
    "#    }\n",
    "#\n",
    "#    if training_size not in size_map:\n",
    "#        return df.reset_index(drop=True)  # use all data\n",
    "#\n",
    "#    n_per_year = size_map[training_size]\n",
    "#    grouped = df.groupby(\"year\")\n",
    "#    sampled = grouped.apply(lambda x: x.sample(n=min(n_per_year, len(x)), random_state=random_state))\n",
    "#    return sampled.reset_index(drop=True)"
   ]
  },
  {
   "cell_type": "code",
   "execution_count": 25,
   "id": "6d931f52-beaf-43ff-9e78-9d44a448d54e",
   "metadata": {
    "execution": {
     "iopub.execute_input": "2025-07-30T14:10:37.807194Z",
     "iopub.status.busy": "2025-07-30T14:10:37.806640Z",
     "iopub.status.idle": "2025-07-30T14:10:37.812748Z",
     "shell.execute_reply": "2025-07-30T14:10:37.811767Z"
    },
    "papermill": {
     "duration": 0.040962,
     "end_time": "2025-07-30T14:10:37.815270",
     "exception": false,
     "start_time": "2025-07-30T14:10:37.774308",
     "status": "completed"
    },
    "tags": []
   },
   "outputs": [],
   "source": [
    "#siab_s = sample_by_year(siab, universe[\"training_size\"])"
   ]
  },
  {
   "cell_type": "code",
   "execution_count": 26,
   "id": "5db0a40e-a4e2-4920-be85-b12ae061d70d",
   "metadata": {
    "execution": {
     "iopub.execute_input": "2025-07-30T14:10:37.883241Z",
     "iopub.status.busy": "2025-07-30T14:10:37.882724Z",
     "iopub.status.idle": "2025-07-30T14:10:37.888018Z",
     "shell.execute_reply": "2025-07-30T14:10:37.887068Z"
    },
    "papermill": {
     "duration": 0.043196,
     "end_time": "2025-07-30T14:10:37.889589",
     "exception": false,
     "start_time": "2025-07-30T14:10:37.846393",
     "status": "completed"
    },
    "tags": []
   },
   "outputs": [],
   "source": [
    "#display(siab_s.groupby(\"year\").size())"
   ]
  },
  {
   "cell_type": "code",
   "execution_count": 27,
   "id": "e6c733c5",
   "metadata": {
    "execution": {
     "iopub.execute_input": "2025-07-30T14:10:37.939226Z",
     "iopub.status.busy": "2025-07-30T14:10:37.938753Z",
     "iopub.status.idle": "2025-07-30T14:10:38.046377Z",
     "shell.execute_reply": "2025-07-30T14:10:38.045366Z"
    },
    "papermill": {
     "duration": 0.133711,
     "end_time": "2025-07-30T14:10:38.048203",
     "exception": false,
     "start_time": "2025-07-30T14:10:37.914492",
     "status": "completed"
    },
    "tags": []
   },
   "outputs": [],
   "source": [
    "# Auxiliary data needed downstream in the pipeline\n",
    "\n",
    "org_train = X_train.copy()\n",
    "org_test = X_test.copy()\n",
    "org_calib = X_calib.copy()"
   ]
  },
  {
   "cell_type": "code",
   "execution_count": 28,
   "id": "1466abac-c6da-4492-a62f-4240ae3783af",
   "metadata": {
    "execution": {
     "iopub.execute_input": "2025-07-30T14:10:38.097256Z",
     "iopub.status.busy": "2025-07-30T14:10:38.096493Z",
     "iopub.status.idle": "2025-07-30T14:10:38.102893Z",
     "shell.execute_reply": "2025-07-30T14:10:38.101933Z"
    },
    "papermill": {
     "duration": 0.034132,
     "end_time": "2025-07-30T14:10:38.104568",
     "exception": false,
     "start_time": "2025-07-30T14:10:38.070436",
     "status": "completed"
    },
    "tags": []
   },
   "outputs": [],
   "source": [
    "# put in other script?\n",
    "# Group sizes\n",
    "\n",
    "#def calculate_percentages(df, df_name):\n",
    "#    total_entries = len(df)\n",
    "#\n",
    "#    female_pct = (df['frau1'] == 1).mean() * 100\n",
    "#    non_german_pct = ((df['maxdeutsch1'] == 0) & (df['maxdeutsch.Missing.'] == 0)).mean() * 100\n",
    "#    non_german_male_pct = ((df['frau1'] == 0) & (df['maxdeutsch1'] == 0) & (df['maxdeutsch.Missing.'] == 0)).mean() * 100\n",
    "#    non_german_female_pct = ((df['frau1'] == 1) & (df['maxdeutsch1'] == 0) & (df['maxdeutsch.Missing.'] == 0)).mean() * 100\n",
    "#\n",
    "#    print(f\"--- {df_name} ---\")\n",
    "#    print(f\"Female: {female_pct:.2f}%\")\n",
    "#    print(f\"Non-German: {non_german_pct:.2f}%\")\n",
    "#    print(f\"Non-German Male: {non_german_male_pct:.2f}%\")\n",
    "#    print(f\"Non-German Female: {non_german_female_pct:.2f}%\\n\")\n",
    "#\n",
    "## Calculate for each DataFrame\n",
    "#calculate_percentages(siab_calib, \"siab_calib\")\n",
    "#calculate_percentages(siab_test, \"siab_test\")\n",
    "#calculate_percentages(siab_train, \"siab_train\")"
   ]
  },
  {
   "cell_type": "markdown",
   "id": "0a4a1b33",
   "metadata": {
    "papermill": {
     "duration": 0.02329,
     "end_time": "2025-07-30T14:10:38.151943",
     "exception": false,
     "start_time": "2025-07-30T14:10:38.128653",
     "status": "completed"
    },
    "tags": []
   },
   "source": [
    "# Preprocessing Data"
   ]
  },
  {
   "cell_type": "code",
   "execution_count": 29,
   "id": "ca879031",
   "metadata": {
    "execution": {
     "iopub.execute_input": "2025-07-30T14:10:38.180604Z",
     "iopub.status.busy": "2025-07-30T14:10:38.180094Z",
     "iopub.status.idle": "2025-07-30T14:10:38.185204Z",
     "shell.execute_reply": "2025-07-30T14:10:38.184286Z"
    },
    "papermill": {
     "duration": 0.020062,
     "end_time": "2025-07-30T14:10:38.186499",
     "exception": false,
     "start_time": "2025-07-30T14:10:38.166437",
     "status": "completed"
    },
    "tags": []
   },
   "outputs": [],
   "source": [
    "# EXCLUDE PROTECTED FEATURES\n",
    "# ----------------------\n",
    "# \"exclude_features\": \"none\", # \"nationality\", \"sex\", \"nationality-sex\"\n",
    "\n",
    "excluded_features = universe[\"exclude_features\"].split(\"-\") # split, e.g.: \"nationality-sex\" -> [\"nationality\", \"sex\"]\n",
    "excluded_features_dictionary = {\n",
    "    \"nationality\": [\"maxdeutsch1\", \"maxdeutsch.Missing.\"],\n",
    "    \"sex\": [\"frau1\"],\n",
    "    \"age\": [\"age\"],\n",
    "}\n"
   ]
  },
  {
   "cell_type": "code",
   "execution_count": 30,
   "id": "b745ac60",
   "metadata": {
    "execution": {
     "iopub.execute_input": "2025-07-30T14:10:38.213103Z",
     "iopub.status.busy": "2025-07-30T14:10:38.212587Z",
     "iopub.status.idle": "2025-07-30T14:10:38.217359Z",
     "shell.execute_reply": "2025-07-30T14:10:38.216603Z"
    },
    "papermill": {
     "duration": 0.019544,
     "end_time": "2025-07-30T14:10:38.218743",
     "exception": false,
     "start_time": "2025-07-30T14:10:38.199199",
     "status": "completed"
    },
    "tags": []
   },
   "outputs": [],
   "source": [
    "# Code nice names to column names\n",
    "\n",
    "excluded_features_columns = [\n",
    "    excluded_features_dictionary[f] for f in excluded_features if len(f) > 0 and f != \"none\"\n",
    "]"
   ]
  },
  {
   "cell_type": "code",
   "execution_count": 31,
   "id": "f84f73a2",
   "metadata": {
    "execution": {
     "iopub.execute_input": "2025-07-30T14:10:38.245261Z",
     "iopub.status.busy": "2025-07-30T14:10:38.244756Z",
     "iopub.status.idle": "2025-07-30T14:10:38.250551Z",
     "shell.execute_reply": "2025-07-30T14:10:38.249801Z"
    },
    "papermill": {
     "duration": 0.020318,
     "end_time": "2025-07-30T14:10:38.251885",
     "exception": false,
     "start_time": "2025-07-30T14:10:38.231567",
     "status": "completed"
    },
    "tags": []
   },
   "outputs": [],
   "source": [
    "from utils import flatten_once\n",
    "\n",
    "excluded_features_columns = flatten_once(excluded_features_columns)"
   ]
  },
  {
   "cell_type": "code",
   "execution_count": 32,
   "id": "884dea22",
   "metadata": {
    "execution": {
     "iopub.execute_input": "2025-07-30T14:10:38.302404Z",
     "iopub.status.busy": "2025-07-30T14:10:38.301859Z",
     "iopub.status.idle": "2025-07-30T14:10:38.307925Z",
     "shell.execute_reply": "2025-07-30T14:10:38.306936Z"
    },
    "papermill": {
     "duration": 0.03423,
     "end_time": "2025-07-30T14:10:38.309737",
     "exception": false,
     "start_time": "2025-07-30T14:10:38.275507",
     "status": "completed"
    },
    "tags": []
   },
   "outputs": [],
   "source": [
    "if len(excluded_features_columns) > 0:\n",
    "    print(f\"Dropping features: {excluded_features_columns}\")\n",
    "    X_train.drop(excluded_features_columns, axis=1, inplace=True)"
   ]
  },
  {
   "cell_type": "code",
   "execution_count": 33,
   "id": "95ab8b16",
   "metadata": {
    "execution": {
     "iopub.execute_input": "2025-07-30T14:10:38.371670Z",
     "iopub.status.busy": "2025-07-30T14:10:38.371121Z",
     "iopub.status.idle": "2025-07-30T14:10:38.376076Z",
     "shell.execute_reply": "2025-07-30T14:10:38.375255Z"
    },
    "papermill": {
     "duration": 0.04413,
     "end_time": "2025-07-30T14:10:38.377616",
     "exception": false,
     "start_time": "2025-07-30T14:10:38.333486",
     "status": "completed"
    },
    "tags": []
   },
   "outputs": [],
   "source": [
    "if len(excluded_features_columns) > 0:\n",
    "    print(f\"Dropping features: {excluded_features_columns}\")\n",
    "    X_test.drop(excluded_features_columns, axis=1, inplace=True)"
   ]
  },
  {
   "cell_type": "code",
   "execution_count": 34,
   "id": "1853aaf5-fb9f-46cb-a2b5-8ea4ae2237e4",
   "metadata": {
    "execution": {
     "iopub.execute_input": "2025-07-30T14:10:38.405733Z",
     "iopub.status.busy": "2025-07-30T14:10:38.405083Z",
     "iopub.status.idle": "2025-07-30T14:10:38.410548Z",
     "shell.execute_reply": "2025-07-30T14:10:38.409641Z"
    },
    "papermill": {
     "duration": 0.021982,
     "end_time": "2025-07-30T14:10:38.412447",
     "exception": false,
     "start_time": "2025-07-30T14:10:38.390465",
     "status": "completed"
    },
    "tags": []
   },
   "outputs": [],
   "source": [
    "if len(excluded_features_columns) > 0:\n",
    "    print(f\"Dropping features: {excluded_features_columns}\")\n",
    "    X_calib.drop(excluded_features_columns, axis=1, inplace=True)"
   ]
  },
  {
   "cell_type": "code",
   "execution_count": 35,
   "id": "6727d079-03e5-481e-9d38-292a90b7a0a8",
   "metadata": {
    "execution": {
     "iopub.execute_input": "2025-07-30T14:10:38.462854Z",
     "iopub.status.busy": "2025-07-30T14:10:38.461968Z",
     "iopub.status.idle": "2025-07-30T14:10:38.467924Z",
     "shell.execute_reply": "2025-07-30T14:10:38.466808Z"
    },
    "papermill": {
     "duration": 0.033361,
     "end_time": "2025-07-30T14:10:38.470361",
     "exception": false,
     "start_time": "2025-07-30T14:10:38.437000",
     "status": "completed"
    },
    "tags": []
   },
   "outputs": [],
   "source": [
    "# SPLIT & STRATIFY DATA\n",
    "# ----------------------"
   ]
  },
  {
   "cell_type": "code",
   "execution_count": 36,
   "id": "76c4dc6d",
   "metadata": {
    "execution": {
     "iopub.execute_input": "2025-07-30T14:10:38.521453Z",
     "iopub.status.busy": "2025-07-30T14:10:38.520952Z",
     "iopub.status.idle": "2025-07-30T14:10:38.526588Z",
     "shell.execute_reply": "2025-07-30T14:10:38.525709Z"
    },
    "papermill": {
     "duration": 0.031583,
     "end_time": "2025-07-30T14:10:38.528701",
     "exception": false,
     "start_time": "2025-07-30T14:10:38.497118",
     "status": "completed"
    },
    "tags": []
   },
   "outputs": [],
   "source": [
    "# EXCLUDE CERTAIN SUBGROUPS\n",
    "# ----------------------\n",
    "\n",
    "mode = universe.get(\"exclude_subgroups\", \"keep-all\") \n",
    "# Fetches the exclude_subgroups setting from the universe dict.\n",
    "# Defaults to \"keep-all\" if the key is missing."
   ]
  },
  {
   "cell_type": "code",
   "execution_count": 37,
   "id": "21994072",
   "metadata": {
    "execution": {
     "iopub.execute_input": "2025-07-30T14:10:38.579808Z",
     "iopub.status.busy": "2025-07-30T14:10:38.578916Z",
     "iopub.status.idle": "2025-07-30T14:10:38.587222Z",
     "shell.execute_reply": "2025-07-30T14:10:38.586049Z"
    },
    "papermill": {
     "duration": 0.035948,
     "end_time": "2025-07-30T14:10:38.589180",
     "exception": false,
     "start_time": "2025-07-30T14:10:38.553232",
     "status": "completed"
    },
    "tags": []
   },
   "outputs": [],
   "source": [
    "if mode == \"keep-all\":\n",
    "    keep_mask = pd.Series(True, index=org_train.index)\n",
    "\n",
    "# org_train contains the original feature columns from features_org (in Simson)\n",
    "# features_org contains unprocessed features, for me X_train at beginning ???\n",
    "# For keep-all, creates a boolean Series (keep_mask) of all True, so no rows are removed.\n",
    "\n",
    "elif mode == \"drop-non-german\":\n",
    "    keep_mask = org_train[\"maxdeutsch1\"] == 1 # ??? what about missing values?\n",
    "\n",
    "else:\n",
    "    raise ValueError(f\"Unsupported mode for exclude_subgroups: {mode}\")\n"
   ]
  },
  {
   "cell_type": "code",
   "execution_count": 38,
   "id": "71651440",
   "metadata": {
    "execution": {
     "iopub.execute_input": "2025-07-30T14:10:38.639958Z",
     "iopub.status.busy": "2025-07-30T14:10:38.639276Z",
     "iopub.status.idle": "2025-07-30T14:10:38.647699Z",
     "shell.execute_reply": "2025-07-30T14:10:38.646720Z"
    },
    "papermill": {
     "duration": 0.036555,
     "end_time": "2025-07-30T14:10:38.649769",
     "exception": false,
     "start_time": "2025-07-30T14:10:38.613214",
     "status": "completed"
    },
    "tags": []
   },
   "outputs": [],
   "source": [
    "n_drop = (~keep_mask).sum() # Calculates how many rows are set to be dropped\n",
    "if n_drop > 0:\n",
    "    pct = n_drop / len(keep_mask) * 100\n",
    "    print(f\"Dropping {n_drop} rows ({pct:.2f}%) where mode='{mode}'\")"
   ]
  },
  {
   "cell_type": "code",
   "execution_count": 39,
   "id": "5fb8eee5",
   "metadata": {
    "execution": {
     "iopub.execute_input": "2025-07-30T14:10:38.697028Z",
     "iopub.status.busy": "2025-07-30T14:10:38.696337Z",
     "iopub.status.idle": "2025-07-30T14:10:38.707039Z",
     "shell.execute_reply": "2025-07-30T14:10:38.706152Z"
    },
    "papermill": {
     "duration": 0.034562,
     "end_time": "2025-07-30T14:10:38.708946",
     "exception": false,
     "start_time": "2025-07-30T14:10:38.674384",
     "status": "completed"
    },
    "tags": []
   },
   "outputs": [],
   "source": [
    "X_train = X_train[keep_mask]"
   ]
  },
  {
   "cell_type": "code",
   "execution_count": 40,
   "id": "b202bb3a",
   "metadata": {
    "execution": {
     "iopub.execute_input": "2025-07-30T14:10:38.760012Z",
     "iopub.status.busy": "2025-07-30T14:10:38.759258Z",
     "iopub.status.idle": "2025-07-30T14:10:38.766229Z",
     "shell.execute_reply": "2025-07-30T14:10:38.765232Z"
    },
    "papermill": {
     "duration": 0.038042,
     "end_time": "2025-07-30T14:10:38.767974",
     "exception": false,
     "start_time": "2025-07-30T14:10:38.729932",
     "status": "completed"
    },
    "tags": []
   },
   "outputs": [],
   "source": [
    "y_train = y_train[keep_mask]"
   ]
  },
  {
   "cell_type": "markdown",
   "id": "493e2ac3",
   "metadata": {
    "papermill": {
     "duration": 0.024012,
     "end_time": "2025-07-30T14:10:38.816645",
     "exception": false,
     "start_time": "2025-07-30T14:10:38.792633",
     "status": "completed"
    },
    "tags": []
   },
   "source": [
    "# Model Training"
   ]
  },
  {
   "cell_type": "code",
   "execution_count": 41,
   "id": "679e1268",
   "metadata": {
    "execution": {
     "iopub.execute_input": "2025-07-30T14:10:38.867658Z",
     "iopub.status.busy": "2025-07-30T14:10:38.866885Z",
     "iopub.status.idle": "2025-07-30T14:10:38.977031Z",
     "shell.execute_reply": "2025-07-30T14:10:38.976076Z"
    },
    "papermill": {
     "duration": 0.137983,
     "end_time": "2025-07-30T14:10:38.978985",
     "exception": false,
     "start_time": "2025-07-30T14:10:38.841002",
     "status": "completed"
    },
    "tags": []
   },
   "outputs": [],
   "source": [
    "from sklearn.linear_model import LogisticRegression\n",
    "from sklearn.ensemble import GradientBoostingClassifier, RandomForestClassifier\n",
    "\n",
    "if (universe[\"model\"] == \"logreg\"):\n",
    "    model = LogisticRegression() #penalty=\"none\") #, solver=\"newton-cg\", max_iter=1) # include random_state=19 ?\n",
    "elif (universe[\"model\"] == \"penalized_logreg\"):\n",
    "    model = LogisticRegression(penalty=\"l2\", C=1.0) #, solver=\"newton-cg\", max_iter=1)\n",
    "elif (universe[\"model\"] == \"rf\"):\n",
    "    model = RandomForestClassifier(n_estimators=100, n_jobs=-1)\n",
    "elif (universe[\"model\"] == \"gbm\"):\n",
    "    model = GradientBoostingClassifier()\n",
    "elif (universe[\"model\"] == \"elasticnet\"):\n",
    "    model = LogisticRegression(penalty = 'elasticnet', solver = 'saga', l1_ratio = 0.5, max_iter=5000) # which solver to use?\n",
    "else:\n",
    "    raise \"Unsupported universe.model\""
   ]
  },
  {
   "cell_type": "code",
   "execution_count": 42,
   "id": "0cc8f744",
   "metadata": {
    "execution": {
     "iopub.execute_input": "2025-07-30T14:10:39.026184Z",
     "iopub.status.busy": "2025-07-30T14:10:39.025493Z",
     "iopub.status.idle": "2025-07-30T14:10:39.032806Z",
     "shell.execute_reply": "2025-07-30T14:10:39.031590Z"
    },
    "papermill": {
     "duration": 0.032579,
     "end_time": "2025-07-30T14:10:39.034396",
     "exception": false,
     "start_time": "2025-07-30T14:10:39.001817",
     "status": "completed"
    },
    "tags": []
   },
   "outputs": [],
   "source": [
    "import numpy as np\n",
    "from sklearn.pipeline import Pipeline\n",
    "from sklearn.preprocessing import StandardScaler\n",
    "\n",
    "model = Pipeline([\n",
    "    #(\"continuous_processor\", continuous_processor),\n",
    "    #(\"categorical_preprocessor\", categorical_preprocessor),\n",
    "    (\"scale\", StandardScaler() if universe[\"scale\"] == \"scale\" else None), \n",
    "    (\"model\", model),\n",
    "])"
   ]
  },
  {
   "cell_type": "code",
   "execution_count": 43,
   "id": "9442c04d",
   "metadata": {
    "execution": {
     "iopub.execute_input": "2025-07-30T14:10:39.081458Z",
     "iopub.status.busy": "2025-07-30T14:10:39.080780Z",
     "iopub.status.idle": "2025-07-30T14:10:52.312736Z",
     "shell.execute_reply": "2025-07-30T14:10:52.311710Z"
    },
    "papermill": {
     "duration": 13.257945,
     "end_time": "2025-07-30T14:10:52.314388",
     "exception": false,
     "start_time": "2025-07-30T14:10:39.056443",
     "status": "completed"
    },
    "tags": []
   },
   "outputs": [
    {
     "data": {
      "text/html": [
       "<style>#sk-container-id-1 {color: black;background-color: white;}#sk-container-id-1 pre{padding: 0;}#sk-container-id-1 div.sk-toggleable {background-color: white;}#sk-container-id-1 label.sk-toggleable__label {cursor: pointer;display: block;width: 100%;margin-bottom: 0;padding: 0.3em;box-sizing: border-box;text-align: center;}#sk-container-id-1 label.sk-toggleable__label-arrow:before {content: \"▸\";float: left;margin-right: 0.25em;color: #696969;}#sk-container-id-1 label.sk-toggleable__label-arrow:hover:before {color: black;}#sk-container-id-1 div.sk-estimator:hover label.sk-toggleable__label-arrow:before {color: black;}#sk-container-id-1 div.sk-toggleable__content {max-height: 0;max-width: 0;overflow: hidden;text-align: left;background-color: #f0f8ff;}#sk-container-id-1 div.sk-toggleable__content pre {margin: 0.2em;color: black;border-radius: 0.25em;background-color: #f0f8ff;}#sk-container-id-1 input.sk-toggleable__control:checked~div.sk-toggleable__content {max-height: 200px;max-width: 100%;overflow: auto;}#sk-container-id-1 input.sk-toggleable__control:checked~label.sk-toggleable__label-arrow:before {content: \"▾\";}#sk-container-id-1 div.sk-estimator input.sk-toggleable__control:checked~label.sk-toggleable__label {background-color: #d4ebff;}#sk-container-id-1 div.sk-label input.sk-toggleable__control:checked~label.sk-toggleable__label {background-color: #d4ebff;}#sk-container-id-1 input.sk-hidden--visually {border: 0;clip: rect(1px 1px 1px 1px);clip: rect(1px, 1px, 1px, 1px);height: 1px;margin: -1px;overflow: hidden;padding: 0;position: absolute;width: 1px;}#sk-container-id-1 div.sk-estimator {font-family: monospace;background-color: #f0f8ff;border: 1px dotted black;border-radius: 0.25em;box-sizing: border-box;margin-bottom: 0.5em;}#sk-container-id-1 div.sk-estimator:hover {background-color: #d4ebff;}#sk-container-id-1 div.sk-parallel-item::after {content: \"\";width: 100%;border-bottom: 1px solid gray;flex-grow: 1;}#sk-container-id-1 div.sk-label:hover label.sk-toggleable__label {background-color: #d4ebff;}#sk-container-id-1 div.sk-serial::before {content: \"\";position: absolute;border-left: 1px solid gray;box-sizing: border-box;top: 0;bottom: 0;left: 50%;z-index: 0;}#sk-container-id-1 div.sk-serial {display: flex;flex-direction: column;align-items: center;background-color: white;padding-right: 0.2em;padding-left: 0.2em;position: relative;}#sk-container-id-1 div.sk-item {position: relative;z-index: 1;}#sk-container-id-1 div.sk-parallel {display: flex;align-items: stretch;justify-content: center;background-color: white;position: relative;}#sk-container-id-1 div.sk-item::before, #sk-container-id-1 div.sk-parallel-item::before {content: \"\";position: absolute;border-left: 1px solid gray;box-sizing: border-box;top: 0;bottom: 0;left: 50%;z-index: -1;}#sk-container-id-1 div.sk-parallel-item {display: flex;flex-direction: column;z-index: 1;position: relative;background-color: white;}#sk-container-id-1 div.sk-parallel-item:first-child::after {align-self: flex-end;width: 50%;}#sk-container-id-1 div.sk-parallel-item:last-child::after {align-self: flex-start;width: 50%;}#sk-container-id-1 div.sk-parallel-item:only-child::after {width: 0;}#sk-container-id-1 div.sk-dashed-wrapped {border: 1px dashed gray;margin: 0 0.4em 0.5em 0.4em;box-sizing: border-box;padding-bottom: 0.4em;background-color: white;}#sk-container-id-1 div.sk-label label {font-family: monospace;font-weight: bold;display: inline-block;line-height: 1.2em;}#sk-container-id-1 div.sk-label-container {text-align: center;}#sk-container-id-1 div.sk-container {/* jupyter's `normalize.less` sets `[hidden] { display: none; }` but bootstrap.min.css set `[hidden] { display: none !important; }` so we also need the `!important` here to be able to override the default hidden behavior on the sphinx rendered scikit-learn.org. See: https://github.com/scikit-learn/scikit-learn/issues/21755 */display: inline-block !important;position: relative;}#sk-container-id-1 div.sk-text-repr-fallback {display: none;}</style><div id=\"sk-container-id-1\" class=\"sk-top-container\"><div class=\"sk-text-repr-fallback\"><pre>Pipeline(steps=[(&#x27;scale&#x27;, StandardScaler()),\n",
       "                (&#x27;model&#x27;,\n",
       "                 LogisticRegression(l1_ratio=0.5, max_iter=5000,\n",
       "                                    penalty=&#x27;elasticnet&#x27;, solver=&#x27;saga&#x27;))])</pre><b>In a Jupyter environment, please rerun this cell to show the HTML representation or trust the notebook. <br />On GitHub, the HTML representation is unable to render, please try loading this page with nbviewer.org.</b></div><div class=\"sk-container\" hidden><div class=\"sk-item sk-dashed-wrapped\"><div class=\"sk-label-container\"><div class=\"sk-label sk-toggleable\"><input class=\"sk-toggleable__control sk-hidden--visually\" id=\"sk-estimator-id-1\" type=\"checkbox\" ><label for=\"sk-estimator-id-1\" class=\"sk-toggleable__label sk-toggleable__label-arrow\">Pipeline</label><div class=\"sk-toggleable__content\"><pre>Pipeline(steps=[(&#x27;scale&#x27;, StandardScaler()),\n",
       "                (&#x27;model&#x27;,\n",
       "                 LogisticRegression(l1_ratio=0.5, max_iter=5000,\n",
       "                                    penalty=&#x27;elasticnet&#x27;, solver=&#x27;saga&#x27;))])</pre></div></div></div><div class=\"sk-serial\"><div class=\"sk-item\"><div class=\"sk-estimator sk-toggleable\"><input class=\"sk-toggleable__control sk-hidden--visually\" id=\"sk-estimator-id-2\" type=\"checkbox\" ><label for=\"sk-estimator-id-2\" class=\"sk-toggleable__label sk-toggleable__label-arrow\">StandardScaler</label><div class=\"sk-toggleable__content\"><pre>StandardScaler()</pre></div></div></div><div class=\"sk-item\"><div class=\"sk-estimator sk-toggleable\"><input class=\"sk-toggleable__control sk-hidden--visually\" id=\"sk-estimator-id-3\" type=\"checkbox\" ><label for=\"sk-estimator-id-3\" class=\"sk-toggleable__label sk-toggleable__label-arrow\">LogisticRegression</label><div class=\"sk-toggleable__content\"><pre>LogisticRegression(l1_ratio=0.5, max_iter=5000, penalty=&#x27;elasticnet&#x27;,\n",
       "                   solver=&#x27;saga&#x27;)</pre></div></div></div></div></div></div></div>"
      ],
      "text/plain": [
       "Pipeline(steps=[('scale', StandardScaler()),\n",
       "                ('model',\n",
       "                 LogisticRegression(l1_ratio=0.5, max_iter=5000,\n",
       "                                    penalty='elasticnet', solver='saga'))])"
      ]
     },
     "execution_count": 43,
     "metadata": {},
     "output_type": "execute_result"
    }
   ],
   "source": [
    "model.fit(X_train, y_train.values.ravel())"
   ]
  },
  {
   "cell_type": "code",
   "execution_count": 44,
   "id": "af59f8c0",
   "metadata": {
    "execution": {
     "iopub.execute_input": "2025-07-30T14:10:52.372464Z",
     "iopub.status.busy": "2025-07-30T14:10:52.371640Z",
     "iopub.status.idle": "2025-07-30T14:10:52.377853Z",
     "shell.execute_reply": "2025-07-30T14:10:52.376596Z"
    },
    "papermill": {
     "duration": 0.03705,
     "end_time": "2025-07-30T14:10:52.379952",
     "exception": false,
     "start_time": "2025-07-30T14:10:52.342902",
     "status": "completed"
    },
    "tags": []
   },
   "outputs": [],
   "source": [
    "from fairness_multiverse.universe import predict_w_threshold"
   ]
  },
  {
   "cell_type": "code",
   "execution_count": 45,
   "id": "a7cf2e16",
   "metadata": {
    "execution": {
     "iopub.execute_input": "2025-07-30T14:10:52.436505Z",
     "iopub.status.busy": "2025-07-30T14:10:52.435808Z",
     "iopub.status.idle": "2025-07-30T14:10:52.622475Z",
     "shell.execute_reply": "2025-07-30T14:10:52.621614Z"
    },
    "papermill": {
     "duration": 0.212623,
     "end_time": "2025-07-30T14:10:52.624330",
     "exception": false,
     "start_time": "2025-07-30T14:10:52.411707",
     "status": "completed"
    },
    "tags": []
   },
   "outputs": [
    {
     "data": {
      "text/plain": [
       "0.8531490357819641"
      ]
     },
     "execution_count": 45,
     "metadata": {},
     "output_type": "execute_result"
    }
   ],
   "source": [
    "probs_test = model.predict_proba(X_test)\n",
    "\n",
    "'''\n",
    "Below code returns a boolean array (or binary 0/1 array depending on how it’s used) where each element \n",
    "is True if the probability of class 1 is greater than or equal to the threshold, and False otherwise.\n",
    "'''\n",
    "y_pred_default = predict_w_threshold(probs_test, 0.5)\n",
    "\n",
    "from sklearn.metrics import accuracy_score\n",
    "\n",
    "# Naive prediction\n",
    "accuracy_score(y_true = y_true, y_pred = y_pred_default)"
   ]
  },
  {
   "cell_type": "code",
   "execution_count": 46,
   "id": "081964c3",
   "metadata": {
    "execution": {
     "iopub.execute_input": "2025-07-30T14:10:52.671112Z",
     "iopub.status.busy": "2025-07-30T14:10:52.670494Z",
     "iopub.status.idle": "2025-07-30T14:10:52.849207Z",
     "shell.execute_reply": "2025-07-30T14:10:52.848398Z"
    },
    "papermill": {
     "duration": 0.203059,
     "end_time": "2025-07-30T14:10:52.850749",
     "exception": false,
     "start_time": "2025-07-30T14:10:52.647690",
     "status": "completed"
    },
    "tags": []
   },
   "outputs": [
    {
     "data": {
      "text/plain": [
       "array([0, 0, 0, ..., 0, 0, 0])"
      ]
     },
     "execution_count": 46,
     "metadata": {},
     "output_type": "execute_result"
    }
   ],
   "source": [
    "model.predict(X_test)"
   ]
  },
  {
   "cell_type": "markdown",
   "id": "56c9705b",
   "metadata": {
    "papermill": {
     "duration": 0.022708,
     "end_time": "2025-07-30T14:10:52.897972",
     "exception": false,
     "start_time": "2025-07-30T14:10:52.875264",
     "status": "completed"
    },
    "tags": []
   },
   "source": [
    "# Conformal Prediction"
   ]
  },
  {
   "cell_type": "code",
   "execution_count": 47,
   "id": "160ec6ff",
   "metadata": {
    "execution": {
     "iopub.execute_input": "2025-07-30T14:10:52.944363Z",
     "iopub.status.busy": "2025-07-30T14:10:52.943463Z",
     "iopub.status.idle": "2025-07-30T14:10:52.948698Z",
     "shell.execute_reply": "2025-07-30T14:10:52.947758Z"
    },
    "papermill": {
     "duration": 0.029626,
     "end_time": "2025-07-30T14:10:52.950133",
     "exception": false,
     "start_time": "2025-07-30T14:10:52.920507",
     "status": "completed"
    },
    "tags": []
   },
   "outputs": [],
   "source": [
    "# Miscoverage level for conformal prediction (10% allowed error rate => 90% target coverage)\n",
    "alpha = 0.1"
   ]
  },
  {
   "cell_type": "code",
   "execution_count": 48,
   "id": "eadf4555-3dd3-440e-8e35-f82a4ad9f855",
   "metadata": {
    "execution": {
     "iopub.execute_input": "2025-07-30T14:10:52.996831Z",
     "iopub.status.busy": "2025-07-30T14:10:52.996170Z",
     "iopub.status.idle": "2025-07-30T14:10:53.168860Z",
     "shell.execute_reply": "2025-07-30T14:10:53.167849Z"
    },
    "papermill": {
     "duration": 0.198455,
     "end_time": "2025-07-30T14:10:53.170939",
     "exception": false,
     "start_time": "2025-07-30T14:10:52.972484",
     "status": "completed"
    },
    "tags": []
   },
   "outputs": [],
   "source": [
    "probs_calib = model.predict_proba(X_calib)"
   ]
  },
  {
   "cell_type": "code",
   "execution_count": 49,
   "id": "2ed93547-6d5d-4983-9b36-1ecb300da49a",
   "metadata": {
    "execution": {
     "iopub.execute_input": "2025-07-30T14:10:53.214256Z",
     "iopub.status.busy": "2025-07-30T14:10:53.213939Z",
     "iopub.status.idle": "2025-07-30T14:10:53.218945Z",
     "shell.execute_reply": "2025-07-30T14:10:53.218273Z"
    },
    "papermill": {
     "duration": 0.021835,
     "end_time": "2025-07-30T14:10:53.220202",
     "exception": false,
     "start_time": "2025-07-30T14:10:53.198367",
     "status": "completed"
    },
    "tags": []
   },
   "outputs": [],
   "source": [
    "y_calib = y_calib.values.ravel().astype(int)"
   ]
  },
  {
   "cell_type": "code",
   "execution_count": 50,
   "id": "65d1320d-f588-4b38-9072-62af1ae97f7d",
   "metadata": {
    "execution": {
     "iopub.execute_input": "2025-07-30T14:10:53.246083Z",
     "iopub.status.busy": "2025-07-30T14:10:53.245468Z",
     "iopub.status.idle": "2025-07-30T14:10:53.251870Z",
     "shell.execute_reply": "2025-07-30T14:10:53.251188Z"
    },
    "papermill": {
     "duration": 0.020288,
     "end_time": "2025-07-30T14:10:53.253264",
     "exception": false,
     "start_time": "2025-07-30T14:10:53.232976",
     "status": "completed"
    },
    "tags": []
   },
   "outputs": [],
   "source": [
    "from fairness_multiverse.conformal import compute_nc_scores\n",
    "\n",
    "# Compute nonconformity scores on calibration set (1 - probability of true class)\n",
    "nc_scores = compute_nc_scores(probs_calib, y_calib)"
   ]
  },
  {
   "cell_type": "code",
   "execution_count": 51,
   "id": "df3b8ca3-53b7-43d5-9667-7c85da7aeda2",
   "metadata": {
    "execution": {
     "iopub.execute_input": "2025-07-30T14:10:53.279222Z",
     "iopub.status.busy": "2025-07-30T14:10:53.278748Z",
     "iopub.status.idle": "2025-07-30T14:10:53.283991Z",
     "shell.execute_reply": "2025-07-30T14:10:53.283338Z"
    },
    "papermill": {
     "duration": 0.019412,
     "end_time": "2025-07-30T14:10:53.285314",
     "exception": false,
     "start_time": "2025-07-30T14:10:53.265902",
     "status": "completed"
    },
    "tags": []
   },
   "outputs": [],
   "source": [
    "from fairness_multiverse.conformal import find_threshold\n",
    "\n",
    "# Find conformal threshold q_hat for the given alpha (split conformal method)\n",
    "q_hat = find_threshold(nc_scores, alpha)"
   ]
  },
  {
   "cell_type": "code",
   "execution_count": 52,
   "id": "4d29e6c1-0ef6-4aa4-b8fe-4fe79b0d033a",
   "metadata": {
    "execution": {
     "iopub.execute_input": "2025-07-30T14:10:53.311103Z",
     "iopub.status.busy": "2025-07-30T14:10:53.310489Z",
     "iopub.status.idle": "2025-07-30T14:10:53.316324Z",
     "shell.execute_reply": "2025-07-30T14:10:53.315558Z"
    },
    "papermill": {
     "duration": 0.019757,
     "end_time": "2025-07-30T14:10:53.317627",
     "exception": false,
     "start_time": "2025-07-30T14:10:53.297870",
     "status": "completed"
    },
    "tags": []
   },
   "outputs": [
    {
     "data": {
      "text/plain": [
       "0.6793692200433817"
      ]
     },
     "execution_count": 52,
     "metadata": {},
     "output_type": "execute_result"
    }
   ],
   "source": [
    "q_hat"
   ]
  },
  {
   "cell_type": "code",
   "execution_count": 53,
   "id": "92460794-cdac-4be2-ba28-f28c0515a6fb",
   "metadata": {
    "execution": {
     "iopub.execute_input": "2025-07-30T14:10:53.343740Z",
     "iopub.status.busy": "2025-07-30T14:10:53.343158Z",
     "iopub.status.idle": "2025-07-30T14:10:54.187126Z",
     "shell.execute_reply": "2025-07-30T14:10:54.186145Z"
    },
    "papermill": {
     "duration": 0.858618,
     "end_time": "2025-07-30T14:10:54.189123",
     "exception": false,
     "start_time": "2025-07-30T14:10:53.330505",
     "status": "completed"
    },
    "tags": []
   },
   "outputs": [],
   "source": [
    "from fairness_multiverse.conformal import predict_conformal_sets\n",
    "\n",
    "# Generate prediction sets for each test example\n",
    "pred_sets = predict_conformal_sets(model, X_test, q_hat)"
   ]
  },
  {
   "cell_type": "code",
   "execution_count": 54,
   "id": "d90c9a65-e6db-4f5d-80cd-e68fb7e46829",
   "metadata": {
    "execution": {
     "iopub.execute_input": "2025-07-30T14:10:54.242082Z",
     "iopub.status.busy": "2025-07-30T14:10:54.241658Z",
     "iopub.status.idle": "2025-07-30T14:10:54.247239Z",
     "shell.execute_reply": "2025-07-30T14:10:54.246278Z"
    },
    "papermill": {
     "duration": 0.03366,
     "end_time": "2025-07-30T14:10:54.249090",
     "exception": false,
     "start_time": "2025-07-30T14:10:54.215430",
     "status": "completed"
    },
    "tags": []
   },
   "outputs": [],
   "source": [
    "y_true = y_true.squeeze()"
   ]
  },
  {
   "cell_type": "code",
   "execution_count": 55,
   "id": "3a58a54a-1e68-46b9-927a-df01f18aebc8",
   "metadata": {
    "execution": {
     "iopub.execute_input": "2025-07-30T14:10:54.308106Z",
     "iopub.status.busy": "2025-07-30T14:10:54.307472Z",
     "iopub.status.idle": "2025-07-30T14:10:55.361347Z",
     "shell.execute_reply": "2025-07-30T14:10:55.360206Z"
    },
    "papermill": {
     "duration": 1.086625,
     "end_time": "2025-07-30T14:10:55.363334",
     "exception": false,
     "start_time": "2025-07-30T14:10:54.276709",
     "status": "completed"
    },
    "tags": []
   },
   "outputs": [],
   "source": [
    "from fairness_multiverse.conformal import evaluate_sets\n",
    "\n",
    "# Evaluate coverage and average set size on test data\n",
    "metrics = evaluate_sets(pred_sets, y_true)"
   ]
  },
  {
   "cell_type": "markdown",
   "id": "2b569c12-9aaa-4c88-98c9-bbcd0cf3ebb8",
   "metadata": {
    "papermill": {
     "duration": 0.022222,
     "end_time": "2025-07-30T14:10:55.409192",
     "exception": false,
     "start_time": "2025-07-30T14:10:55.386970",
     "status": "completed"
    },
    "tags": []
   },
   "source": [
    "# CP Metrics"
   ]
  },
  {
   "cell_type": "code",
   "execution_count": 56,
   "id": "5ce0a5cb-201f-45a0-ade5-94c7f0bd6095",
   "metadata": {
    "execution": {
     "iopub.execute_input": "2025-07-30T14:10:55.456240Z",
     "iopub.status.busy": "2025-07-30T14:10:55.455378Z",
     "iopub.status.idle": "2025-07-30T14:10:55.464520Z",
     "shell.execute_reply": "2025-07-30T14:10:55.463515Z"
    },
    "papermill": {
     "duration": 0.034212,
     "end_time": "2025-07-30T14:10:55.466134",
     "exception": false,
     "start_time": "2025-07-30T14:10:55.431922",
     "status": "completed"
    },
    "tags": []
   },
   "outputs": [
    {
     "data": {
      "text/plain": [
       "{'coverage': 0.9110355590235202, 'avg_size': 1.1457919964329506}"
      ]
     },
     "execution_count": 56,
     "metadata": {},
     "output_type": "execute_result"
    }
   ],
   "source": [
    "metrics"
   ]
  },
  {
   "cell_type": "code",
   "execution_count": 57,
   "id": "9b9a838d-31c9-430b-ae14-12baee460d17",
   "metadata": {
    "execution": {
     "iopub.execute_input": "2025-07-30T14:10:55.524168Z",
     "iopub.status.busy": "2025-07-30T14:10:55.522669Z",
     "iopub.status.idle": "2025-07-30T14:10:55.530089Z",
     "shell.execute_reply": "2025-07-30T14:10:55.529122Z"
    },
    "papermill": {
     "duration": 0.038246,
     "end_time": "2025-07-30T14:10:55.531838",
     "exception": false,
     "start_time": "2025-07-30T14:10:55.493592",
     "status": "completed"
    },
    "tags": []
   },
   "outputs": [],
   "source": [
    "example_universe = universe.copy()\n",
    "universe_training_size = example_universe.get(\"training_size\")\n",
    "universe_scale = example_universe.get(\"scale\")\n",
    "universe_model = example_universe.get(\"model\")\n",
    "universe_exclude_features = example_universe.get(\"exclude_features\")\n",
    "universe_exclude_subgroups = example_universe.get(\"exclude_subgroups\")"
   ]
  },
  {
   "cell_type": "code",
   "execution_count": 58,
   "id": "f4b6a8ac-9dc0-4245-8a91-5b3b5999c4f9",
   "metadata": {
    "execution": {
     "iopub.execute_input": "2025-07-30T14:10:55.580469Z",
     "iopub.status.busy": "2025-07-30T14:10:55.579702Z",
     "iopub.status.idle": "2025-07-30T14:10:55.586266Z",
     "shell.execute_reply": "2025-07-30T14:10:55.585330Z"
    },
    "papermill": {
     "duration": 0.032731,
     "end_time": "2025-07-30T14:10:55.587636",
     "exception": false,
     "start_time": "2025-07-30T14:10:55.554905",
     "status": "completed"
    },
    "tags": []
   },
   "outputs": [],
   "source": [
    "cp_metrics_dict = {\n",
    "    \"universe_id\": [universe_id],\n",
    "    \"universe_training_size\": [universe_training_size],\n",
    "    \"universe_scale\": [universe_scale],\n",
    "    \"universe_model\": [universe_model],\n",
    "    \"universe_exclude_features\": [universe_exclude_features],\n",
    "    \"universe_exclude_subgroups\": [universe_exclude_subgroups],\n",
    "    \"q_hat\": [q_hat],\n",
    "    \"coverage\": [metrics[\"coverage\"]],\n",
    "    \"avg_size\": [metrics[\"avg_size\"]],\n",
    "}"
   ]
  },
  {
   "cell_type": "code",
   "execution_count": 59,
   "id": "908acbb1-0371-4915-85ca-3fa520d2efe2",
   "metadata": {
    "execution": {
     "iopub.execute_input": "2025-07-30T14:10:55.635801Z",
     "iopub.status.busy": "2025-07-30T14:10:55.635177Z",
     "iopub.status.idle": "2025-07-30T14:10:55.642783Z",
     "shell.execute_reply": "2025-07-30T14:10:55.641866Z"
    },
    "papermill": {
     "duration": 0.032475,
     "end_time": "2025-07-30T14:10:55.644213",
     "exception": false,
     "start_time": "2025-07-30T14:10:55.611738",
     "status": "completed"
    },
    "tags": []
   },
   "outputs": [
    {
     "data": {
      "text/plain": [
       "{'universe_id': ['c8ac7f16a14e87870b3efcde22766733'],\n",
       " 'universe_training_size': ['5k'],\n",
       " 'universe_scale': ['scale'],\n",
       " 'universe_model': ['elasticnet'],\n",
       " 'universe_exclude_features': ['none'],\n",
       " 'universe_exclude_subgroups': ['keep-all'],\n",
       " 'q_hat': [0.6793692200433817],\n",
       " 'coverage': [0.9110355590235202],\n",
       " 'avg_size': [1.1457919964329506]}"
      ]
     },
     "execution_count": 59,
     "metadata": {},
     "output_type": "execute_result"
    }
   ],
   "source": [
    "cp_metrics_dict"
   ]
  },
  {
   "cell_type": "code",
   "execution_count": 60,
   "id": "33007efc-14e9-4ec6-97ac-56a455c82265",
   "metadata": {
    "execution": {
     "iopub.execute_input": "2025-07-30T14:10:55.697003Z",
     "iopub.status.busy": "2025-07-30T14:10:55.696202Z",
     "iopub.status.idle": "2025-07-30T14:10:55.703392Z",
     "shell.execute_reply": "2025-07-30T14:10:55.702205Z"
    },
    "papermill": {
     "duration": 0.037612,
     "end_time": "2025-07-30T14:10:55.705192",
     "exception": false,
     "start_time": "2025-07-30T14:10:55.667580",
     "status": "completed"
    },
    "tags": []
   },
   "outputs": [],
   "source": [
    "cp_metrics_df = pd.DataFrame(cp_metrics_dict)"
   ]
  },
  {
   "cell_type": "code",
   "execution_count": 61,
   "id": "db12611b-57b2-4910-b9d0-355adfd6e7bf",
   "metadata": {
    "execution": {
     "iopub.execute_input": "2025-07-30T14:10:55.775510Z",
     "iopub.status.busy": "2025-07-30T14:10:55.774939Z",
     "iopub.status.idle": "2025-07-30T14:10:55.792705Z",
     "shell.execute_reply": "2025-07-30T14:10:55.791778Z"
    },
    "papermill": {
     "duration": 0.060085,
     "end_time": "2025-07-30T14:10:55.794264",
     "exception": false,
     "start_time": "2025-07-30T14:10:55.734179",
     "status": "completed"
    },
    "tags": []
   },
   "outputs": [
    {
     "data": {
      "text/html": [
       "<div>\n",
       "<style scoped>\n",
       "    .dataframe tbody tr th:only-of-type {\n",
       "        vertical-align: middle;\n",
       "    }\n",
       "\n",
       "    .dataframe tbody tr th {\n",
       "        vertical-align: top;\n",
       "    }\n",
       "\n",
       "    .dataframe thead th {\n",
       "        text-align: right;\n",
       "    }\n",
       "</style>\n",
       "<table border=\"1\" class=\"dataframe\">\n",
       "  <thead>\n",
       "    <tr style=\"text-align: right;\">\n",
       "      <th></th>\n",
       "      <th>universe_id</th>\n",
       "      <th>universe_training_size</th>\n",
       "      <th>universe_scale</th>\n",
       "      <th>universe_model</th>\n",
       "      <th>universe_exclude_features</th>\n",
       "      <th>universe_exclude_subgroups</th>\n",
       "      <th>q_hat</th>\n",
       "      <th>coverage</th>\n",
       "      <th>avg_size</th>\n",
       "    </tr>\n",
       "  </thead>\n",
       "  <tbody>\n",
       "    <tr>\n",
       "      <th>0</th>\n",
       "      <td>c8ac7f16a14e87870b3efcde22766733</td>\n",
       "      <td>5k</td>\n",
       "      <td>scale</td>\n",
       "      <td>elasticnet</td>\n",
       "      <td>none</td>\n",
       "      <td>keep-all</td>\n",
       "      <td>0.679369</td>\n",
       "      <td>0.911036</td>\n",
       "      <td>1.145792</td>\n",
       "    </tr>\n",
       "  </tbody>\n",
       "</table>\n",
       "</div>"
      ],
      "text/plain": [
       "                        universe_id universe_training_size universe_scale  \\\n",
       "0  c8ac7f16a14e87870b3efcde22766733                     5k          scale   \n",
       "\n",
       "  universe_model universe_exclude_features universe_exclude_subgroups  \\\n",
       "0     elasticnet                      none                   keep-all   \n",
       "\n",
       "      q_hat  coverage  avg_size  \n",
       "0  0.679369  0.911036  1.145792  "
      ]
     },
     "execution_count": 61,
     "metadata": {},
     "output_type": "execute_result"
    }
   ],
   "source": [
    "cp_metrics_df"
   ]
  },
  {
   "cell_type": "code",
   "execution_count": 62,
   "id": "b7fbde55-a0a1-47e4-9af6-fe4a17fa8c61",
   "metadata": {
    "execution": {
     "iopub.execute_input": "2025-07-30T14:10:55.847002Z",
     "iopub.status.busy": "2025-07-30T14:10:55.846243Z",
     "iopub.status.idle": "2025-07-30T14:10:55.851481Z",
     "shell.execute_reply": "2025-07-30T14:10:55.850552Z"
    },
    "papermill": {
     "duration": 0.033851,
     "end_time": "2025-07-30T14:10:55.853275",
     "exception": false,
     "start_time": "2025-07-30T14:10:55.819424",
     "status": "completed"
    },
    "tags": []
   },
   "outputs": [],
   "source": [
    "# Conditional Coverage & looking at subgroups"
   ]
  },
  {
   "cell_type": "code",
   "execution_count": 63,
   "id": "027ae886-68dd-4141-96c7-805a5450e1ef",
   "metadata": {
    "execution": {
     "iopub.execute_input": "2025-07-30T14:10:55.905689Z",
     "iopub.status.busy": "2025-07-30T14:10:55.905181Z",
     "iopub.status.idle": "2025-07-30T14:10:56.197213Z",
     "shell.execute_reply": "2025-07-30T14:10:56.196174Z"
    },
    "papermill": {
     "duration": 0.321536,
     "end_time": "2025-07-30T14:10:56.199385",
     "exception": false,
     "start_time": "2025-07-30T14:10:55.877849",
     "status": "completed"
    },
    "tags": []
   },
   "outputs": [],
   "source": [
    "from fairness_multiverse.conformal import build_cp_groups\n",
    "\n",
    "cp_groups_df = build_cp_groups(pred_sets, y_true, X_test.index, org_test)\n",
    "#needs universe_id and setting"
   ]
  },
  {
   "cell_type": "code",
   "execution_count": 64,
   "id": "01d5802c-663a-4d1f-9d69-e036faaffbf7",
   "metadata": {
    "execution": {
     "iopub.execute_input": "2025-07-30T14:10:56.321017Z",
     "iopub.status.busy": "2025-07-30T14:10:56.320530Z",
     "iopub.status.idle": "2025-07-30T14:10:56.325564Z",
     "shell.execute_reply": "2025-07-30T14:10:56.324749Z"
    },
    "papermill": {
     "duration": 0.097863,
     "end_time": "2025-07-30T14:10:56.327023",
     "exception": false,
     "start_time": "2025-07-30T14:10:56.229160",
     "status": "completed"
    },
    "tags": []
   },
   "outputs": [],
   "source": [
    "#delete\n",
    "#cp_groups_df"
   ]
  },
  {
   "cell_type": "code",
   "execution_count": 65,
   "id": "fa424af1-d1eb-443d-b717-2d279ada8408",
   "metadata": {
    "execution": {
     "iopub.execute_input": "2025-07-30T14:10:56.381051Z",
     "iopub.status.busy": "2025-07-30T14:10:56.380375Z",
     "iopub.status.idle": "2025-07-30T14:10:56.385735Z",
     "shell.execute_reply": "2025-07-30T14:10:56.384819Z"
    },
    "papermill": {
     "duration": 0.035076,
     "end_time": "2025-07-30T14:10:56.387307",
     "exception": false,
     "start_time": "2025-07-30T14:10:56.352231",
     "status": "completed"
    },
    "tags": []
   },
   "outputs": [],
   "source": [
    "#delete\n",
    "#percentage = (cp_groups_df['nongerman_female'] == 1).mean() * 100\n",
    "#print(percentage)\n"
   ]
  },
  {
   "cell_type": "code",
   "execution_count": 66,
   "id": "6cbdab96-b2b2-45af-ad54-d0516db2e28d",
   "metadata": {
    "execution": {
     "iopub.execute_input": "2025-07-30T14:10:56.441192Z",
     "iopub.status.busy": "2025-07-30T14:10:56.440663Z",
     "iopub.status.idle": "2025-07-30T14:10:57.617622Z",
     "shell.execute_reply": "2025-07-30T14:10:57.616572Z"
    },
    "papermill": {
     "duration": 1.206355,
     "end_time": "2025-07-30T14:10:57.619592",
     "exception": false,
     "start_time": "2025-07-30T14:10:56.413237",
     "status": "completed"
    },
    "tags": []
   },
   "outputs": [],
   "source": [
    "# Define covered = 1 if true_label is in the predicted set\n",
    "cp_groups_df['covered'] = cp_groups_df.apply(\n",
    "    lambda r: int(r['true_label'] in r['pred_set']),\n",
    "    axis=1\n",
    ")"
   ]
  },
  {
   "cell_type": "code",
   "execution_count": 67,
   "id": "338ff529-1a6b-4b87-a931-8e4788d52aad",
   "metadata": {
    "execution": {
     "iopub.execute_input": "2025-07-30T14:10:57.673187Z",
     "iopub.status.busy": "2025-07-30T14:10:57.672844Z",
     "iopub.status.idle": "2025-07-30T14:10:57.676642Z",
     "shell.execute_reply": "2025-07-30T14:10:57.675877Z"
    },
    "papermill": {
     "duration": 0.031166,
     "end_time": "2025-07-30T14:10:57.678082",
     "exception": false,
     "start_time": "2025-07-30T14:10:57.646916",
     "status": "completed"
    },
    "tags": []
   },
   "outputs": [],
   "source": [
    "#cp_groups_df"
   ]
  },
  {
   "cell_type": "code",
   "execution_count": 68,
   "id": "90032e27-66df-4540-9169-4e89cfbaa758",
   "metadata": {
    "execution": {
     "iopub.execute_input": "2025-07-30T14:10:57.728446Z",
     "iopub.status.busy": "2025-07-30T14:10:57.728108Z",
     "iopub.status.idle": "2025-07-30T14:10:57.738042Z",
     "shell.execute_reply": "2025-07-30T14:10:57.737345Z"
    },
    "papermill": {
     "duration": 0.036202,
     "end_time": "2025-07-30T14:10:57.739224",
     "exception": false,
     "start_time": "2025-07-30T14:10:57.703022",
     "status": "completed"
    },
    "tags": []
   },
   "outputs": [],
   "source": [
    "subgroups = ['frau1','nongerman','nongerman_male','nongerman_female']\n",
    "\n",
    "# Conditional coverage for subgroup==1\n",
    "cond_coverage = {\n",
    "    g: cp_groups_df.loc[cp_groups_df[g]==1, 'covered'].mean()\n",
    "    for g in subgroups\n",
    "}"
   ]
  },
  {
   "cell_type": "code",
   "execution_count": 69,
   "id": "1e348fb1-b9c3-45bc-ba23-f016827a7e0d",
   "metadata": {
    "execution": {
     "iopub.execute_input": "2025-07-30T14:10:57.766825Z",
     "iopub.status.busy": "2025-07-30T14:10:57.766338Z",
     "iopub.status.idle": "2025-07-30T14:10:57.771811Z",
     "shell.execute_reply": "2025-07-30T14:10:57.771109Z"
    },
    "papermill": {
     "duration": 0.020226,
     "end_time": "2025-07-30T14:10:57.773013",
     "exception": false,
     "start_time": "2025-07-30T14:10:57.752787",
     "status": "completed"
    },
    "tags": []
   },
   "outputs": [
    {
     "data": {
      "text/plain": [
       "{'frau1': 0.9084243159455452,\n",
       " 'nongerman': 0.9109639027676416,\n",
       " 'nongerman_male': 0.9280374673511663,\n",
       " 'nongerman_female': 0.8827123695976155}"
      ]
     },
     "execution_count": 69,
     "metadata": {},
     "output_type": "execute_result"
    }
   ],
   "source": [
    "cond_coverage"
   ]
  },
  {
   "cell_type": "code",
   "execution_count": 70,
   "id": "f5093324-c3dd-4d63-bc4c-8d945e5c8bbb",
   "metadata": {
    "execution": {
     "iopub.execute_input": "2025-07-30T14:10:57.800656Z",
     "iopub.status.busy": "2025-07-30T14:10:57.800373Z",
     "iopub.status.idle": "2025-07-30T14:10:57.805576Z",
     "shell.execute_reply": "2025-07-30T14:10:57.804913Z"
    },
    "papermill": {
     "duration": 0.020507,
     "end_time": "2025-07-30T14:10:57.807054",
     "exception": false,
     "start_time": "2025-07-30T14:10:57.786547",
     "status": "completed"
    },
    "tags": []
   },
   "outputs": [],
   "source": [
    "for subgroup, cov in cond_coverage.items():\n",
    "    cp_metrics_df[f\"cov_{subgroup}\"] = cov"
   ]
  },
  {
   "cell_type": "code",
   "execution_count": 71,
   "id": "6e872e10-dbe5-49e8-b554-5030c98ff75d",
   "metadata": {
    "execution": {
     "iopub.execute_input": "2025-07-30T14:10:57.856132Z",
     "iopub.status.busy": "2025-07-30T14:10:57.855560Z",
     "iopub.status.idle": "2025-07-30T14:10:57.868306Z",
     "shell.execute_reply": "2025-07-30T14:10:57.867422Z"
    },
    "papermill": {
     "duration": 0.038471,
     "end_time": "2025-07-30T14:10:57.869531",
     "exception": false,
     "start_time": "2025-07-30T14:10:57.831060",
     "status": "completed"
    },
    "tags": []
   },
   "outputs": [
    {
     "data": {
      "text/html": [
       "<div>\n",
       "<style scoped>\n",
       "    .dataframe tbody tr th:only-of-type {\n",
       "        vertical-align: middle;\n",
       "    }\n",
       "\n",
       "    .dataframe tbody tr th {\n",
       "        vertical-align: top;\n",
       "    }\n",
       "\n",
       "    .dataframe thead th {\n",
       "        text-align: right;\n",
       "    }\n",
       "</style>\n",
       "<table border=\"1\" class=\"dataframe\">\n",
       "  <thead>\n",
       "    <tr style=\"text-align: right;\">\n",
       "      <th></th>\n",
       "      <th>universe_id</th>\n",
       "      <th>universe_training_size</th>\n",
       "      <th>universe_scale</th>\n",
       "      <th>universe_model</th>\n",
       "      <th>universe_exclude_features</th>\n",
       "      <th>universe_exclude_subgroups</th>\n",
       "      <th>q_hat</th>\n",
       "      <th>coverage</th>\n",
       "      <th>avg_size</th>\n",
       "      <th>cov_frau1</th>\n",
       "      <th>cov_nongerman</th>\n",
       "      <th>cov_nongerman_male</th>\n",
       "      <th>cov_nongerman_female</th>\n",
       "    </tr>\n",
       "  </thead>\n",
       "  <tbody>\n",
       "    <tr>\n",
       "      <th>0</th>\n",
       "      <td>c8ac7f16a14e87870b3efcde22766733</td>\n",
       "      <td>5k</td>\n",
       "      <td>scale</td>\n",
       "      <td>elasticnet</td>\n",
       "      <td>none</td>\n",
       "      <td>keep-all</td>\n",
       "      <td>0.679369</td>\n",
       "      <td>0.911036</td>\n",
       "      <td>1.145792</td>\n",
       "      <td>0.908424</td>\n",
       "      <td>0.910964</td>\n",
       "      <td>0.928037</td>\n",
       "      <td>0.882712</td>\n",
       "    </tr>\n",
       "  </tbody>\n",
       "</table>\n",
       "</div>"
      ],
      "text/plain": [
       "                        universe_id universe_training_size universe_scale  \\\n",
       "0  c8ac7f16a14e87870b3efcde22766733                     5k          scale   \n",
       "\n",
       "  universe_model universe_exclude_features universe_exclude_subgroups  \\\n",
       "0     elasticnet                      none                   keep-all   \n",
       "\n",
       "      q_hat  coverage  avg_size  cov_frau1  cov_nongerman  cov_nongerman_male  \\\n",
       "0  0.679369  0.911036  1.145792   0.908424       0.910964            0.928037   \n",
       "\n",
       "   cov_nongerman_female  \n",
       "0              0.882712  "
      ]
     },
     "execution_count": 71,
     "metadata": {},
     "output_type": "execute_result"
    }
   ],
   "source": [
    "cp_metrics_df"
   ]
  },
  {
   "cell_type": "markdown",
   "id": "33774451",
   "metadata": {
    "papermill": {
     "duration": 0.014862,
     "end_time": "2025-07-30T14:10:57.898468",
     "exception": false,
     "start_time": "2025-07-30T14:10:57.883606",
     "status": "completed"
    },
    "tags": []
   },
   "source": [
    "# (Fairness) Metrics"
   ]
  },
  {
   "cell_type": "code",
   "execution_count": 72,
   "id": "debc5d62",
   "metadata": {
    "execution": {
     "iopub.execute_input": "2025-07-30T14:10:57.947192Z",
     "iopub.status.busy": "2025-07-30T14:10:57.946828Z",
     "iopub.status.idle": "2025-07-30T14:10:57.962102Z",
     "shell.execute_reply": "2025-07-30T14:10:57.961435Z"
    },
    "papermill": {
     "duration": 0.04204,
     "end_time": "2025-07-30T14:10:57.963222",
     "exception": false,
     "start_time": "2025-07-30T14:10:57.921182",
     "status": "completed"
    },
    "tags": []
   },
   "outputs": [],
   "source": [
    "# do I need to include maxdeutsch1.missing?\n",
    "\n",
    "import numpy as np\n",
    "\n",
    "colname_to_bin = \"maxdeutsch1\"\n",
    "majority_value = org_train[colname_to_bin].mode()[0]\n",
    "\n",
    "org_test[\"majmin\"] = np.where(org_test[colname_to_bin] == majority_value, \"majority\", \"minority\")"
   ]
  },
  {
   "cell_type": "code",
   "execution_count": 73,
   "id": "06a50de5",
   "metadata": {
    "execution": {
     "iopub.execute_input": "2025-07-30T14:10:58.021618Z",
     "iopub.status.busy": "2025-07-30T14:10:58.020903Z",
     "iopub.status.idle": "2025-07-30T14:11:00.977803Z",
     "shell.execute_reply": "2025-07-30T14:11:00.976640Z"
    },
    "papermill": {
     "duration": 2.988217,
     "end_time": "2025-07-30T14:11:00.980086",
     "exception": false,
     "start_time": "2025-07-30T14:10:57.991869",
     "status": "completed"
    },
    "tags": []
   },
   "outputs": [],
   "source": [
    "example_universe = universe.copy()\n",
    "example_universe[\"cutoff\"] = example_universe[\"cutoff\"][0]\n",
    "example_universe[\"eval_fairness_grouping\"] = example_universe[\"eval_fairness_grouping\"][0]\n",
    "fairness_dict, metric_frame = universe_analysis.compute_metrics(\n",
    "    example_universe,\n",
    "    y_pred_prob=probs_test,\n",
    "    y_test=y_true,\n",
    "    org_test=org_test,\n",
    ")"
   ]
  },
  {
   "cell_type": "markdown",
   "id": "f95d4e02",
   "metadata": {
    "papermill": {
     "duration": 0.025745,
     "end_time": "2025-07-30T14:11:01.032228",
     "exception": false,
     "start_time": "2025-07-30T14:11:01.006483",
     "status": "completed"
    },
    "tags": []
   },
   "source": [
    "# Overall"
   ]
  },
  {
   "cell_type": "markdown",
   "id": "bdee4871",
   "metadata": {
    "papermill": {
     "duration": 0.026315,
     "end_time": "2025-07-30T14:11:01.084826",
     "exception": false,
     "start_time": "2025-07-30T14:11:01.058511",
     "status": "completed"
    },
    "tags": []
   },
   "source": [
    "Fairness\n",
    "Main fairness target: Equalized Odds. Seems to be a better fit than equal opportunity, since we're not only interested in Y = 1. Seems to be a better fit than demographic parity, since we also care about accuracy, not just equal distribution of preds.\n",
    "\n",
    "Pick column for computation of fairness metrics\n",
    "\n",
    "Performance\n",
    "Overall performance measures, most interesting in relation to the measures split by group below"
   ]
  },
  {
   "cell_type": "code",
   "execution_count": 74,
   "id": "c4e067c6",
   "metadata": {
    "execution": {
     "iopub.execute_input": "2025-07-30T14:11:01.138480Z",
     "iopub.status.busy": "2025-07-30T14:11:01.137962Z",
     "iopub.status.idle": "2025-07-30T14:11:01.147487Z",
     "shell.execute_reply": "2025-07-30T14:11:01.146641Z"
    },
    "papermill": {
     "duration": 0.037563,
     "end_time": "2025-07-30T14:11:01.149202",
     "exception": false,
     "start_time": "2025-07-30T14:11:01.111639",
     "status": "completed"
    },
    "tags": []
   },
   "outputs": [
    {
     "data": {
      "text/plain": [
       "accuracy                   0.223598\n",
       "balanced accuracy          0.546891\n",
       "f1                         0.244951\n",
       "precision                  0.139932\n",
       "false positive rate        0.887970\n",
       "false negative rate        0.018248\n",
       "selection rate             0.900000\n",
       "count                  89710.000000\n",
       "dtype: float64"
      ]
     },
     "execution_count": 74,
     "metadata": {},
     "output_type": "execute_result"
    }
   ],
   "source": [
    "metric_frame.overall"
   ]
  },
  {
   "cell_type": "markdown",
   "id": "e968fe9d",
   "metadata": {
    "papermill": {
     "duration": 0.025204,
     "end_time": "2025-07-30T14:11:01.200014",
     "exception": false,
     "start_time": "2025-07-30T14:11:01.174810",
     "status": "completed"
    },
    "tags": []
   },
   "source": [
    "By Group"
   ]
  },
  {
   "cell_type": "code",
   "execution_count": 75,
   "id": "ec325bce",
   "metadata": {
    "execution": {
     "iopub.execute_input": "2025-07-30T14:11:01.253078Z",
     "iopub.status.busy": "2025-07-30T14:11:01.252623Z",
     "iopub.status.idle": "2025-07-30T14:11:01.268957Z",
     "shell.execute_reply": "2025-07-30T14:11:01.268022Z"
    },
    "papermill": {
     "duration": 0.044911,
     "end_time": "2025-07-30T14:11:01.271791",
     "exception": false,
     "start_time": "2025-07-30T14:11:01.226880",
     "status": "completed"
    },
    "tags": []
   },
   "outputs": [
    {
     "data": {
      "text/html": [
       "<div>\n",
       "<style scoped>\n",
       "    .dataframe tbody tr th:only-of-type {\n",
       "        vertical-align: middle;\n",
       "    }\n",
       "\n",
       "    .dataframe tbody tr th {\n",
       "        vertical-align: top;\n",
       "    }\n",
       "\n",
       "    .dataframe thead th {\n",
       "        text-align: right;\n",
       "    }\n",
       "</style>\n",
       "<table border=\"1\" class=\"dataframe\">\n",
       "  <thead>\n",
       "    <tr style=\"text-align: right;\">\n",
       "      <th></th>\n",
       "      <th>accuracy</th>\n",
       "      <th>balanced accuracy</th>\n",
       "      <th>f1</th>\n",
       "      <th>precision</th>\n",
       "      <th>false positive rate</th>\n",
       "      <th>false negative rate</th>\n",
       "      <th>selection rate</th>\n",
       "      <th>count</th>\n",
       "    </tr>\n",
       "    <tr>\n",
       "      <th>majmin</th>\n",
       "      <th></th>\n",
       "      <th></th>\n",
       "      <th></th>\n",
       "      <th></th>\n",
       "      <th></th>\n",
       "      <th></th>\n",
       "      <th></th>\n",
       "      <th></th>\n",
       "    </tr>\n",
       "  </thead>\n",
       "  <tbody>\n",
       "    <tr>\n",
       "      <th>majority</th>\n",
       "      <td>0.244514</td>\n",
       "      <td>0.556534</td>\n",
       "      <td>0.255418</td>\n",
       "      <td>0.146831</td>\n",
       "      <td>0.867566</td>\n",
       "      <td>0.019365</td>\n",
       "      <td>0.882507</td>\n",
       "      <td>69170.0</td>\n",
       "    </tr>\n",
       "    <tr>\n",
       "      <th>minority</th>\n",
       "      <td>0.153165</td>\n",
       "      <td>0.515347</td>\n",
       "      <td>0.211657</td>\n",
       "      <td>0.118552</td>\n",
       "      <td>0.955371</td>\n",
       "      <td>0.013936</td>\n",
       "      <td>0.958909</td>\n",
       "      <td>20540.0</td>\n",
       "    </tr>\n",
       "  </tbody>\n",
       "</table>\n",
       "</div>"
      ],
      "text/plain": [
       "          accuracy  balanced accuracy        f1  precision  \\\n",
       "majmin                                                       \n",
       "majority  0.244514           0.556534  0.255418   0.146831   \n",
       "minority  0.153165           0.515347  0.211657   0.118552   \n",
       "\n",
       "          false positive rate  false negative rate  selection rate    count  \n",
       "majmin                                                                       \n",
       "majority             0.867566             0.019365        0.882507  69170.0  \n",
       "minority             0.955371             0.013936        0.958909  20540.0  "
      ]
     },
     "execution_count": 75,
     "metadata": {},
     "output_type": "execute_result"
    }
   ],
   "source": [
    "metric_frame.by_group"
   ]
  },
  {
   "cell_type": "code",
   "execution_count": 76,
   "id": "a9ddbe63",
   "metadata": {
    "execution": {
     "iopub.execute_input": "2025-07-30T14:11:01.328565Z",
     "iopub.status.busy": "2025-07-30T14:11:01.327983Z",
     "iopub.status.idle": "2025-07-30T14:11:03.645666Z",
     "shell.execute_reply": "2025-07-30T14:11:03.644639Z"
    },
    "papermill": {
     "duration": 2.348275,
     "end_time": "2025-07-30T14:11:03.647513",
     "exception": false,
     "start_time": "2025-07-30T14:11:01.299238",
     "status": "completed"
    },
    "tags": []
   },
   "outputs": [
    {
     "data": {
      "text/plain": [
       "array([[<Axes: title={'center': 'accuracy'}, xlabel='majmin'>,\n",
       "        <Axes: title={'center': 'balanced accuracy'}, xlabel='majmin'>,\n",
       "        <Axes: title={'center': 'f1'}, xlabel='majmin'>],\n",
       "       [<Axes: title={'center': 'precision'}, xlabel='majmin'>,\n",
       "        <Axes: title={'center': 'false positive rate'}, xlabel='majmin'>,\n",
       "        <Axes: title={'center': 'false negative rate'}, xlabel='majmin'>],\n",
       "       [<Axes: title={'center': 'selection rate'}, xlabel='majmin'>,\n",
       "        <Axes: title={'center': 'count'}, xlabel='majmin'>,\n",
       "        <Axes: xlabel='majmin'>]], dtype=object)"
      ]
     },
     "execution_count": 76,
     "metadata": {},
     "output_type": "execute_result"
    },
    {
     "data": {
      "image/png": "[encoded data removed]",
      "text/plain": [
       "<Figure size 1200x800 with 9 Axes>"
      ]
     },
     "metadata": {},
     "output_type": "display_data"
    }
   ],
   "source": [
    "# In a graphic\n",
    "metric_frame.by_group.plot.bar(\n",
    "    subplots=True,\n",
    "    layout=[3, 3],\n",
    "    legend=False,\n",
    "    figsize=[12, 8],\n",
    "    title=\"Show all metrics\",\n",
    ")"
   ]
  },
  {
   "cell_type": "markdown",
   "id": "f57a0bac",
   "metadata": {
    "papermill": {
     "duration": 0.027705,
     "end_time": "2025-07-30T14:11:03.705750",
     "exception": false,
     "start_time": "2025-07-30T14:11:03.678045",
     "status": "completed"
    },
    "tags": []
   },
   "source": [
    "# Final Output"
   ]
  },
  {
   "cell_type": "code",
   "execution_count": 77,
   "id": "96d280a3",
   "metadata": {
    "execution": {
     "iopub.execute_input": "2025-07-30T14:11:03.766115Z",
     "iopub.status.busy": "2025-07-30T14:11:03.765449Z",
     "iopub.status.idle": "2025-07-30T14:11:03.774043Z",
     "shell.execute_reply": "2025-07-30T14:11:03.772960Z"
    },
    "papermill": {
     "duration": 0.040688,
     "end_time": "2025-07-30T14:11:03.775849",
     "exception": false,
     "start_time": "2025-07-30T14:11:03.735161",
     "status": "completed"
    },
    "tags": []
   },
   "outputs": [
    {
     "data": {
      "text/plain": [
       "4"
      ]
     },
     "execution_count": 77,
     "metadata": {},
     "output_type": "execute_result"
    }
   ],
   "source": [
    "sub_universes = universe_analysis.generate_sub_universes()\n",
    "len(sub_universes)"
   ]
  },
  {
   "cell_type": "code",
   "execution_count": 78,
   "id": "92adf7ba",
   "metadata": {
    "execution": {
     "iopub.execute_input": "2025-07-30T14:11:03.836248Z",
     "iopub.status.busy": "2025-07-30T14:11:03.835779Z",
     "iopub.status.idle": "2025-07-30T14:11:03.841144Z",
     "shell.execute_reply": "2025-07-30T14:11:03.840193Z"
    },
    "papermill": {
     "duration": 0.035691,
     "end_time": "2025-07-30T14:11:03.842757",
     "exception": false,
     "start_time": "2025-07-30T14:11:03.807066",
     "status": "completed"
    },
    "tags": []
   },
   "outputs": [],
   "source": [
    "def filter_sub_universe_data(sub_universe, org_test):\n",
    "    # Keep all rows — no filtering\n",
    "    keep_rows_mask = np.ones(org_test.shape[0], dtype=bool)\n",
    "\n",
    "    print(f\"[INFO] Keeping all rows: {keep_rows_mask.sum()} rows retained.\")\n",
    "    return keep_rows_mask"
   ]
  },
  {
   "cell_type": "code",
   "execution_count": 79,
   "id": "4a759155",
   "metadata": {
    "execution": {
     "iopub.execute_input": "2025-07-30T14:11:03.903458Z",
     "iopub.status.busy": "2025-07-30T14:11:03.902580Z",
     "iopub.status.idle": "2025-07-30T14:11:13.917399Z",
     "shell.execute_reply": "2025-07-30T14:11:13.916602Z"
    },
    "papermill": {
     "duration": 10.046213,
     "end_time": "2025-07-30T14:11:13.918652",
     "exception": false,
     "start_time": "2025-07-30T14:11:03.872439",
     "status": "completed"
    },
    "tags": []
   },
   "outputs": [
    {
     "name": "stdout",
     "output_type": "stream",
     "text": [
      "Stopping execution_time clock.\n",
      "[INFO] Keeping all rows: 89710 rows retained.\n"
     ]
    },
    {
     "name": "stdout",
     "output_type": "stream",
     "text": [
      "[INFO] Keeping all rows: 89710 rows retained.\n"
     ]
    },
    {
     "name": "stdout",
     "output_type": "stream",
     "text": [
      "[INFO] Keeping all rows: 89710 rows retained.\n"
     ]
    },
    {
     "name": "stdout",
     "output_type": "stream",
     "text": [
      "[INFO] Keeping all rows: 89710 rows retained.\n"
     ]
    },
    {
     "data": {
      "text/html": [
       "<div>\n",
       "<style scoped>\n",
       "    .dataframe tbody tr th:only-of-type {\n",
       "        vertical-align: middle;\n",
       "    }\n",
       "\n",
       "    .dataframe tbody tr th {\n",
       "        vertical-align: top;\n",
       "    }\n",
       "\n",
       "    .dataframe thead th {\n",
       "        text-align: right;\n",
       "    }\n",
       "</style>\n",
       "<table border=\"1\" class=\"dataframe\">\n",
       "  <thead>\n",
       "    <tr style=\"text-align: right;\">\n",
       "      <th></th>\n",
       "      <th>run_no</th>\n",
       "      <th>universe_id</th>\n",
       "      <th>universe_settings</th>\n",
       "      <th>execution_time</th>\n",
       "      <th>test_size_n</th>\n",
       "      <th>test_size_frac</th>\n",
       "      <th>fair_main_equalized_odds_difference</th>\n",
       "      <th>fair_main_equalized_odds_ratio</th>\n",
       "      <th>fair_main_demographic_parity_difference</th>\n",
       "      <th>fair_main_demographic_parity_ratio</th>\n",
       "      <th>...</th>\n",
       "      <th>perf_grp_precision_0</th>\n",
       "      <th>perf_grp_precision_1</th>\n",
       "      <th>perf_grp_false positive rate_0</th>\n",
       "      <th>perf_grp_false positive rate_1</th>\n",
       "      <th>perf_grp_false negative rate_0</th>\n",
       "      <th>perf_grp_false negative rate_1</th>\n",
       "      <th>perf_grp_selection rate_0</th>\n",
       "      <th>perf_grp_selection rate_1</th>\n",
       "      <th>perf_grp_count_0</th>\n",
       "      <th>perf_grp_count_1</th>\n",
       "    </tr>\n",
       "  </thead>\n",
       "  <tbody>\n",
       "    <tr>\n",
       "      <th>0</th>\n",
       "      <td>12</td>\n",
       "      <td>c8ac7f16a14e87870b3efcde22766733</td>\n",
       "      <td>{\"cutoff\": \"quantile_0.1\", \"eval_fairness_grou...</td>\n",
       "      <td>40.745113</td>\n",
       "      <td>89710</td>\n",
       "      <td>1.0</td>\n",
       "      <td>0.087805</td>\n",
       "      <td>0.908094</td>\n",
       "      <td>0.076403</td>\n",
       "      <td>0.920323</td>\n",
       "      <td>...</td>\n",
       "      <td>NaN</td>\n",
       "      <td>NaN</td>\n",
       "      <td>NaN</td>\n",
       "      <td>NaN</td>\n",
       "      <td>NaN</td>\n",
       "      <td>NaN</td>\n",
       "      <td>NaN</td>\n",
       "      <td>NaN</td>\n",
       "      <td>NaN</td>\n",
       "      <td>NaN</td>\n",
       "    </tr>\n",
       "    <tr>\n",
       "      <th>0</th>\n",
       "      <td>12</td>\n",
       "      <td>c8ac7f16a14e87870b3efcde22766733</td>\n",
       "      <td>{\"cutoff\": \"quantile_0.1\", \"eval_fairness_grou...</td>\n",
       "      <td>40.745113</td>\n",
       "      <td>89710</td>\n",
       "      <td>1.0</td>\n",
       "      <td>0.087805</td>\n",
       "      <td>0.908094</td>\n",
       "      <td>0.076403</td>\n",
       "      <td>0.920323</td>\n",
       "      <td>...</td>\n",
       "      <td>0.118552</td>\n",
       "      <td>0.146831</td>\n",
       "      <td>0.955371</td>\n",
       "      <td>0.867566</td>\n",
       "      <td>0.013936</td>\n",
       "      <td>0.019365</td>\n",
       "      <td>0.958909</td>\n",
       "      <td>0.882507</td>\n",
       "      <td>20540.0</td>\n",
       "      <td>69170.0</td>\n",
       "    </tr>\n",
       "    <tr>\n",
       "      <th>0</th>\n",
       "      <td>12</td>\n",
       "      <td>c8ac7f16a14e87870b3efcde22766733</td>\n",
       "      <td>{\"cutoff\": \"quantile_0.25\", \"eval_fairness_gro...</td>\n",
       "      <td>40.745113</td>\n",
       "      <td>89710</td>\n",
       "      <td>1.0</td>\n",
       "      <td>0.166690</td>\n",
       "      <td>0.804082</td>\n",
       "      <td>0.145235</td>\n",
       "      <td>0.831509</td>\n",
       "      <td>...</td>\n",
       "      <td>NaN</td>\n",
       "      <td>NaN</td>\n",
       "      <td>NaN</td>\n",
       "      <td>NaN</td>\n",
       "      <td>NaN</td>\n",
       "      <td>NaN</td>\n",
       "      <td>NaN</td>\n",
       "      <td>NaN</td>\n",
       "      <td>NaN</td>\n",
       "      <td>NaN</td>\n",
       "    </tr>\n",
       "    <tr>\n",
       "      <th>0</th>\n",
       "      <td>12</td>\n",
       "      <td>c8ac7f16a14e87870b3efcde22766733</td>\n",
       "      <td>{\"cutoff\": \"quantile_0.25\", \"eval_fairness_gro...</td>\n",
       "      <td>40.745113</td>\n",
       "      <td>89710</td>\n",
       "      <td>1.0</td>\n",
       "      <td>0.166690</td>\n",
       "      <td>0.804082</td>\n",
       "      <td>0.145235</td>\n",
       "      <td>0.831509</td>\n",
       "      <td>...</td>\n",
       "      <td>0.126744</td>\n",
       "      <td>0.171632</td>\n",
       "      <td>0.850814</td>\n",
       "      <td>0.684125</td>\n",
       "      <td>0.052365</td>\n",
       "      <td>0.069037</td>\n",
       "      <td>0.861977</td>\n",
       "      <td>0.716741</td>\n",
       "      <td>20540.0</td>\n",
       "      <td>69170.0</td>\n",
       "    </tr>\n",
       "  </tbody>\n",
       "</table>\n",
       "<p>4 rows × 50 columns</p>\n",
       "</div>"
      ],
      "text/plain": [
       "  run_no                       universe_id  \\\n",
       "0     12  c8ac7f16a14e87870b3efcde22766733   \n",
       "0     12  c8ac7f16a14e87870b3efcde22766733   \n",
       "0     12  c8ac7f16a14e87870b3efcde22766733   \n",
       "0     12  c8ac7f16a14e87870b3efcde22766733   \n",
       "\n",
       "                                   universe_settings  execution_time  \\\n",
       "0  {\"cutoff\": \"quantile_0.1\", \"eval_fairness_grou...       40.745113   \n",
       "0  {\"cutoff\": \"quantile_0.1\", \"eval_fairness_grou...       40.745113   \n",
       "0  {\"cutoff\": \"quantile_0.25\", \"eval_fairness_gro...       40.745113   \n",
       "0  {\"cutoff\": \"quantile_0.25\", \"eval_fairness_gro...       40.745113   \n",
       "\n",
       "   test_size_n  test_size_frac  fair_main_equalized_odds_difference  \\\n",
       "0        89710             1.0                             0.087805   \n",
       "0        89710             1.0                             0.087805   \n",
       "0        89710             1.0                             0.166690   \n",
       "0        89710             1.0                             0.166690   \n",
       "\n",
       "   fair_main_equalized_odds_ratio  fair_main_demographic_parity_difference  \\\n",
       "0                        0.908094                                 0.076403   \n",
       "0                        0.908094                                 0.076403   \n",
       "0                        0.804082                                 0.145235   \n",
       "0                        0.804082                                 0.145235   \n",
       "\n",
       "   fair_main_demographic_parity_ratio  ...  perf_grp_precision_0  \\\n",
       "0                            0.920323  ...                   NaN   \n",
       "0                            0.920323  ...              0.118552   \n",
       "0                            0.831509  ...                   NaN   \n",
       "0                            0.831509  ...              0.126744   \n",
       "\n",
       "   perf_grp_precision_1  perf_grp_false positive rate_0  \\\n",
       "0                   NaN                             NaN   \n",
       "0              0.146831                        0.955371   \n",
       "0                   NaN                             NaN   \n",
       "0              0.171632                        0.850814   \n",
       "\n",
       "   perf_grp_false positive rate_1  perf_grp_false negative rate_0  \\\n",
       "0                             NaN                             NaN   \n",
       "0                        0.867566                        0.013936   \n",
       "0                             NaN                             NaN   \n",
       "0                        0.684125                        0.052365   \n",
       "\n",
       "   perf_grp_false negative rate_1  perf_grp_selection rate_0  \\\n",
       "0                             NaN                        NaN   \n",
       "0                        0.019365                   0.958909   \n",
       "0                             NaN                        NaN   \n",
       "0                        0.069037                   0.861977   \n",
       "\n",
       "   perf_grp_selection rate_1  perf_grp_count_0  perf_grp_count_1  \n",
       "0                        NaN               NaN               NaN  \n",
       "0                   0.882507           20540.0           69170.0  \n",
       "0                        NaN               NaN               NaN  \n",
       "0                   0.716741           20540.0           69170.0  \n",
       "\n",
       "[4 rows x 50 columns]"
      ]
     },
     "execution_count": 79,
     "metadata": {},
     "output_type": "execute_result"
    }
   ],
   "source": [
    "final_output = universe_analysis.generate_final_output(\n",
    "    y_pred_prob=probs_test,\n",
    "    y_test=y_true,\n",
    "    org_test=org_test,\n",
    "    filter_data=filter_sub_universe_data,\n",
    "    cp_metrics_df=cp_metrics_df,\n",
    "    save=True,\n",
    ")\n",
    "final_output"
   ]
  },
  {
   "cell_type": "code",
   "execution_count": null,
   "id": "721ff514-cb11-46f8-b6fc-50392f74b5cb",
   "metadata": {
    "papermill": {
     "duration": 0.01747,
     "end_time": "2025-07-30T14:11:13.955060",
     "exception": false,
     "start_time": "2025-07-30T14:11:13.937590",
     "status": "completed"
    },
    "tags": []
   },
   "outputs": [],
   "source": []
  }
 ],
 "metadata": {
  "celltoolbar": "Tags",
  "kernelspec": {
   "display_name": "Python (CMA Fairness)",
   "language": "python",
   "name": "cma_fair_env"
  },
  "language_info": {
   "codemirror_mode": {
    "name": "ipython",
    "version": 3
   },
   "file_extension": ".py",
   "mimetype": "text/x-python",
   "name": "python",
   "nbconvert_exporter": "python",
   "pygments_lexer": "ipython3",
   "version": "3.10.12"
  },
  "papermill": {
   "default_parameters": {},
   "duration": 54.839786,
   "end_time": "2025-07-30T14:11:14.690692",
   "environment_variables": {},
   "exception": null,
   "input_path": "universe_analysis.ipynb",
   "output_path": "output/runs/12/notebooks/m_12-c8ac7f16a14e87870b3efcde22766733.ipynb",
   "parameters": {
    "output_dir": "output",
    "run_no": "12",
    "seed": "2023",
    "universe": "{\"cutoff\": [\"quantile_0.1\", \"quantile_0.25\"], \"eval_fairness_grouping\": [\"majority-minority\", \"nationality-all\"], \"exclude_features\": \"none\", \"exclude_subgroups\": \"keep-all\", \"model\": \"elasticnet\", \"scale\": \"scale\", \"training_size\": \"5k\", \"training_year\": \"2010_14\"}",
    "universe_id": "c8ac7f16a14e87870b3efcde22766733"
   },
   "start_time": "2025-07-30T14:10:19.850906",
   "version": "2.6.0"
  }
 },
 "nbformat": 4,
 "nbformat_minor": 5
}