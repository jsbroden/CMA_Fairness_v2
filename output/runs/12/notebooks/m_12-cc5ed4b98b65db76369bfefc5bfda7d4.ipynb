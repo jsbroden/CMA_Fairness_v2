{
 "cells": [
  {
   "cell_type": "code",
   "execution_count": 1,
   "id": "f159f837-637b-42ba-96b5-ec9a68c44524",
   "metadata": {
    "execution": {
     "iopub.execute_input": "2025-07-30T13:48:56.023300Z",
     "iopub.status.busy": "2025-07-30T13:48:56.022357Z",
     "iopub.status.idle": "2025-07-30T13:48:56.042116Z",
     "shell.execute_reply": "2025-07-30T13:48:56.040876Z"
    },
    "papermill": {
     "duration": 0.043455,
     "end_time": "2025-07-30T13:48:56.044421",
     "exception": false,
     "start_time": "2025-07-30T13:48:56.000966",
     "status": "completed"
    },
    "tags": []
   },
   "outputs": [
    {
     "name": "stdout",
     "output_type": "stream",
     "text": [
      "/dss/dsshome1/0C/ra93lal2/cma/CMA_Fairness_v2\n"
     ]
    },
    {
     "name": "stderr",
     "output_type": "stream",
     "text": [
      "/dss/dsshome1/0C/ra93lal2/.local/share/virtualenvs/CMA_Fairness_v2-3j10GkSs/lib/python3.10/site-packages/IPython/core/magics/osm.py:393: UserWarning: This is now an optional IPython functionality, using bookmarks requires you to install the `pickleshare` library.\n",
      "  bkms = self.shell.db.get('bookmarks', {})\n",
      "/dss/dsshome1/0C/ra93lal2/.local/share/virtualenvs/CMA_Fairness_v2-3j10GkSs/lib/python3.10/site-packages/IPython/core/magics/osm.py:417: UserWarning: This is now an optional IPython functionality, setting dhist requires you to install the `pickleshare` library.\n",
      "  self.shell.db['dhist'] = compress_dhist(dhist)[-100:]\n"
     ]
    }
   ],
   "source": [
    "%cd ~/cma/CMA_Fairness_v2"
   ]
  },
  {
   "cell_type": "markdown",
   "id": "de2603b9",
   "metadata": {
    "papermill": {
     "duration": 0.020299,
     "end_time": "2025-07-30T13:48:56.083457",
     "exception": false,
     "start_time": "2025-07-30T13:48:56.063158",
     "status": "completed"
    },
    "tags": []
   },
   "source": [
    "The following cell holds the definition of our parameters, these values can be overriden by rendering the with e.g. the following command:\n",
    "\n",
    "papermill -p alpha 0.2 -p ratio 0.3 universe_analysis.ipynb output/test_run.ipynb"
   ]
  },
  {
   "cell_type": "code",
   "execution_count": 2,
   "id": "a80968a0-40bb-4fa9-85ef-2d5eefb01975",
   "metadata": {
    "execution": {
     "iopub.execute_input": "2025-07-30T13:48:56.122336Z",
     "iopub.status.busy": "2025-07-30T13:48:56.121894Z",
     "iopub.status.idle": "2025-07-30T13:48:56.127400Z",
     "shell.execute_reply": "2025-07-30T13:48:56.126499Z"
    },
    "papermill": {
     "duration": 0.025263,
     "end_time": "2025-07-30T13:48:56.129139",
     "exception": false,
     "start_time": "2025-07-30T13:48:56.103876",
     "status": "completed"
    },
    "tags": []
   },
   "outputs": [
    {
     "name": "stdout",
     "output_type": "stream",
     "text": [
      "Current working directory: /dss/dsshome1/0C/ra93lal2/cma/CMA_Fairness_v2\n"
     ]
    }
   ],
   "source": [
    "import os\n",
    "print(\"Current working directory:\", os.getcwd())"
   ]
  },
  {
   "cell_type": "code",
   "execution_count": 3,
   "id": "2dce4c03",
   "metadata": {
    "execution": {
     "iopub.execute_input": "2025-07-30T13:48:56.175112Z",
     "iopub.status.busy": "2025-07-30T13:48:56.174114Z",
     "iopub.status.idle": "2025-07-30T13:48:56.315811Z",
     "shell.execute_reply": "2025-07-30T13:48:56.315083Z"
    },
    "papermill": {
     "duration": 0.167604,
     "end_time": "2025-07-30T13:48:56.317820",
     "exception": false,
     "start_time": "2025-07-30T13:48:56.150216",
     "status": "completed"
    },
    "tags": [
     "parameters"
    ]
   },
   "outputs": [],
   "source": [
    "run_no = 0\n",
    "universe_id = \"test\"\n",
    "universe = {\n",
    "    \"training_size\": \"25k\", # \"25k\", \"5k\", \"1k\"\n",
    "    \"training_year\": \"2014\", # \"2014\", \"2012_14\", \"2010_14\"\n",
    "    \"scale\": \"scale\", # \"scale\", \"do-not-scale\",\n",
    "    #\"stratify_split\": \"target\", # \"none\", \"target\", \"protected-attribute\", \"both\",\n",
    "    \"model\": \"elasticnet\", # \"logreg\", \"penalized_logreg\", \"rf\", \"gbm\", \"elasticnet\"\n",
    "    \"cutoff\": [\"quantile_0.15\", \"quantile_0.30\"],\n",
    "    \"exclude_features\": \"age\", # \"none\", \"nationality\", \"sex\", \"nationality-sex\", \"age\"\n",
    "    \"exclude_subgroups\": \"keep-all\", # \"keep-all\", \"drop-non-german\"\n",
    "    \"eval_fairness_grouping\": [\"majority-minority\", \"nationality-all\"]\n",
    "}\n",
    "\n",
    "output_dir=\"./output\"\n",
    "seed=0"
   ]
  },
  {
   "cell_type": "code",
   "execution_count": 4,
   "id": "39e33ed2",
   "metadata": {
    "execution": {
     "iopub.execute_input": "2025-07-30T13:48:56.361792Z",
     "iopub.status.busy": "2025-07-30T13:48:56.361410Z",
     "iopub.status.idle": "2025-07-30T13:48:56.366678Z",
     "shell.execute_reply": "2025-07-30T13:48:56.365923Z"
    },
    "papermill": {
     "duration": 0.028402,
     "end_time": "2025-07-30T13:48:56.368091",
     "exception": false,
     "start_time": "2025-07-30T13:48:56.339689",
     "status": "completed"
    },
    "tags": [
     "injected-parameters"
    ]
   },
   "outputs": [],
   "source": [
    "# Parameters\n",
    "universe_id = \"cc5ed4b98b65db76369bfefc5bfda7d4\"\n",
    "run_no = \"12\"\n",
    "universe = \"{\\\"cutoff\\\": [\\\"quantile_0.1\\\", \\\"quantile_0.25\\\"], \\\"eval_fairness_grouping\\\": [\\\"majority-minority\\\", \\\"nationality-all\\\"], \\\"exclude_features\\\": \\\"none\\\", \\\"exclude_subgroups\\\": \\\"drop-non-german\\\", \\\"model\\\": \\\"rf\\\", \\\"scale\\\": \\\"do-not-scale\\\", \\\"training_size\\\": \\\"5k\\\", \\\"training_year\\\": \\\"2014\\\"}\"\n",
    "output_dir = \"output\"\n",
    "seed = \"2023\"\n"
   ]
  },
  {
   "cell_type": "code",
   "execution_count": 5,
   "id": "1650acaf",
   "metadata": {
    "execution": {
     "iopub.execute_input": "2025-07-30T13:48:56.390518Z",
     "iopub.status.busy": "2025-07-30T13:48:56.390184Z",
     "iopub.status.idle": "2025-07-30T13:48:56.394513Z",
     "shell.execute_reply": "2025-07-30T13:48:56.393858Z"
    },
    "papermill": {
     "duration": 0.016685,
     "end_time": "2025-07-30T13:48:56.395775",
     "exception": false,
     "start_time": "2025-07-30T13:48:56.379090",
     "status": "completed"
    },
    "tags": []
   },
   "outputs": [],
   "source": [
    "import json\n",
    "# Parse universe into dict if it is passed as a string\n",
    "if isinstance(universe, str):\n",
    "    universe = json.loads(universe)"
   ]
  },
  {
   "cell_type": "code",
   "execution_count": 6,
   "id": "16620c48",
   "metadata": {
    "execution": {
     "iopub.execute_input": "2025-07-30T13:48:56.427802Z",
     "iopub.status.busy": "2025-07-30T13:48:56.427456Z",
     "iopub.status.idle": "2025-07-30T13:48:56.471072Z",
     "shell.execute_reply": "2025-07-30T13:48:56.470158Z"
    },
    "papermill": {
     "duration": 0.062185,
     "end_time": "2025-07-30T13:48:56.472732",
     "exception": false,
     "start_time": "2025-07-30T13:48:56.410547",
     "status": "completed"
    },
    "tags": []
   },
   "outputs": [],
   "source": [
    "# Auto-reload the custom package\n",
    "%load_ext autoreload\n",
    "%autoreload 1\n",
    "%aimport fairness_multiverse"
   ]
  },
  {
   "cell_type": "code",
   "execution_count": 7,
   "id": "01c5c9f3",
   "metadata": {
    "execution": {
     "iopub.execute_input": "2025-07-30T13:48:56.521425Z",
     "iopub.status.busy": "2025-07-30T13:48:56.520872Z",
     "iopub.status.idle": "2025-07-30T13:48:58.416105Z",
     "shell.execute_reply": "2025-07-30T13:48:58.415266Z"
    },
    "papermill": {
     "duration": 1.925836,
     "end_time": "2025-07-30T13:48:58.417598",
     "exception": false,
     "start_time": "2025-07-30T13:48:56.491762",
     "status": "completed"
    },
    "tags": []
   },
   "outputs": [],
   "source": [
    "from fairness_multiverse.universe import UniverseAnalysis\n",
    "\n",
    "universe_analysis = UniverseAnalysis(\n",
    "    run_no = run_no,\n",
    "    universe_id = universe_id,\n",
    "    universe = universe,\n",
    "    output_dir=output_dir,\n",
    ")"
   ]
  },
  {
   "cell_type": "code",
   "execution_count": 8,
   "id": "106241f5",
   "metadata": {
    "execution": {
     "iopub.execute_input": "2025-07-30T13:48:58.460946Z",
     "iopub.status.busy": "2025-07-30T13:48:58.460466Z",
     "iopub.status.idle": "2025-07-30T13:48:58.466596Z",
     "shell.execute_reply": "2025-07-30T13:48:58.465725Z"
    },
    "papermill": {
     "duration": 0.029206,
     "end_time": "2025-07-30T13:48:58.468125",
     "exception": false,
     "start_time": "2025-07-30T13:48:58.438919",
     "status": "completed"
    },
    "tags": []
   },
   "outputs": [
    {
     "name": "stdout",
     "output_type": "stream",
     "text": [
      "Using Seed: 2023\n"
     ]
    }
   ],
   "source": [
    "import numpy as np\n",
    "parsed_seed = int(seed)\n",
    "np.random.seed(parsed_seed)\n",
    "print(f\"Using Seed: {parsed_seed}\")"
   ]
  },
  {
   "cell_type": "markdown",
   "id": "e0ebdc57",
   "metadata": {
    "papermill": {
     "duration": 0.019967,
     "end_time": "2025-07-30T13:48:58.508284",
     "exception": false,
     "start_time": "2025-07-30T13:48:58.488317",
     "status": "completed"
    },
    "tags": []
   },
   "source": [
    "# Loading Data"
   ]
  },
  {
   "cell_type": "markdown",
   "id": "681925a3",
   "metadata": {
    "papermill": {
     "duration": 0.019898,
     "end_time": "2025-07-30T13:48:58.547842",
     "exception": false,
     "start_time": "2025-07-30T13:48:58.527944",
     "status": "completed"
    },
    "tags": []
   },
   "source": [
    "Load siab_train, siab_test, siab_calib and/or \n",
    "load siab_train_features, siab_train_labels"
   ]
  },
  {
   "cell_type": "code",
   "execution_count": 9,
   "id": "f0496b8a",
   "metadata": {
    "execution": {
     "iopub.execute_input": "2025-07-30T13:48:58.589390Z",
     "iopub.status.busy": "2025-07-30T13:48:58.588857Z",
     "iopub.status.idle": "2025-07-30T13:49:10.644510Z",
     "shell.execute_reply": "2025-07-30T13:49:10.643497Z"
    },
    "papermill": {
     "duration": 12.077588,
     "end_time": "2025-07-30T13:49:10.645805",
     "exception": false,
     "start_time": "2025-07-30T13:48:58.568217",
     "status": "completed"
    },
    "tags": []
   },
   "outputs": [
    {
     "name": "stdout",
     "output_type": "stream",
     "text": [
      "Loading SIAB data from cache: data/siab_cached.csv.gz\n"
     ]
    },
    {
     "name": "stdout",
     "output_type": "stream",
     "text": [
      "(643690, 164)\n"
     ]
    }
   ],
   "source": [
    "from pathlib import Path\n",
    "import pandas as pd\n",
    "\n",
    "# File paths\n",
    "raw_file = Path(\"data/raw/siab.csv\")\n",
    "cache_file = Path(\"data/siab_cached.csv.gz\")\n",
    "\n",
    "# Ensure cache directory exists\n",
    "cache_file.parent.mkdir(parents=True, exist_ok=True)\n",
    "\n",
    "# Load with simple caching\n",
    "if cache_file.exists():\n",
    "    print(f\"Loading SIAB data from cache: {cache_file}\")\n",
    "    siab = pd.read_csv(cache_file, compression='gzip')\n",
    "else:\n",
    "    print(f\"Cache not found. Reading raw SIAB data: {raw_file}\")\n",
    "    siab = pd.read_csv(raw_file)\n",
    "    siab.to_csv(cache_file, index=False, compression='gzip')\n",
    "    print(f\"Cached SIAB data to: {cache_file}\")\n",
    "\n",
    "# Now use `siab` DataFrame as needed\n",
    "print(siab.shape)"
   ]
  },
  {
   "cell_type": "code",
   "execution_count": 10,
   "id": "db0ca512-5f53-4dba-abdb-a2888bca41ba",
   "metadata": {
    "execution": {
     "iopub.execute_input": "2025-07-30T13:49:10.671633Z",
     "iopub.status.busy": "2025-07-30T13:49:10.671089Z",
     "iopub.status.idle": "2025-07-30T13:49:10.676400Z",
     "shell.execute_reply": "2025-07-30T13:49:10.675597Z"
    },
    "papermill": {
     "duration": 0.018318,
     "end_time": "2025-07-30T13:49:10.677647",
     "exception": false,
     "start_time": "2025-07-30T13:49:10.659329",
     "status": "completed"
    },
    "tags": []
   },
   "outputs": [],
   "source": [
    "#siab"
   ]
  },
  {
   "cell_type": "code",
   "execution_count": 11,
   "id": "a0edb063",
   "metadata": {
    "execution": {
     "iopub.execute_input": "2025-07-30T13:49:10.700950Z",
     "iopub.status.busy": "2025-07-30T13:49:10.700194Z",
     "iopub.status.idle": "2025-07-30T13:49:10.704664Z",
     "shell.execute_reply": "2025-07-30T13:49:10.703867Z"
    },
    "papermill": {
     "duration": 0.016891,
     "end_time": "2025-07-30T13:49:10.705905",
     "exception": false,
     "start_time": "2025-07-30T13:49:10.689014",
     "status": "completed"
    },
    "tags": []
   },
   "outputs": [],
   "source": [
    "#import pandas as pd\n",
    "#\n",
    "#X_train = pd.read_csv(\"./data/X_train.csv\")\n",
    "#y_train = pd.read_csv(\"./data/y_train.csv\")"
   ]
  },
  {
   "cell_type": "code",
   "execution_count": 12,
   "id": "63d08085",
   "metadata": {
    "execution": {
     "iopub.execute_input": "2025-07-30T13:49:10.728468Z",
     "iopub.status.busy": "2025-07-30T13:49:10.727666Z",
     "iopub.status.idle": "2025-07-30T13:49:10.732137Z",
     "shell.execute_reply": "2025-07-30T13:49:10.731424Z"
    },
    "papermill": {
     "duration": 0.016928,
     "end_time": "2025-07-30T13:49:10.733642",
     "exception": false,
     "start_time": "2025-07-30T13:49:10.716714",
     "status": "completed"
    },
    "tags": []
   },
   "outputs": [],
   "source": [
    "#X_test = pd.read_csv(\"./data/X_test.csv\")\n",
    "#y_true = pd.read_csv(\"./data/y_test.csv\")"
   ]
  },
  {
   "cell_type": "code",
   "execution_count": 13,
   "id": "98a8d0fa-1d3d-4ed8-bb2c-281470e24add",
   "metadata": {
    "execution": {
     "iopub.execute_input": "2025-07-30T13:49:10.757372Z",
     "iopub.status.busy": "2025-07-30T13:49:10.756575Z",
     "iopub.status.idle": "2025-07-30T13:49:10.761736Z",
     "shell.execute_reply": "2025-07-30T13:49:10.760791Z"
    },
    "papermill": {
     "duration": 0.018593,
     "end_time": "2025-07-30T13:49:10.763396",
     "exception": false,
     "start_time": "2025-07-30T13:49:10.744803",
     "status": "completed"
    },
    "tags": []
   },
   "outputs": [],
   "source": [
    "# Calibration data for conformal\n",
    "#X_calib = pd.read_csv(\"./data/X_calib.csv\")\n",
    "#y_calib = pd.read_csv(\"./data/y_calib.csv\")"
   ]
  },
  {
   "cell_type": "markdown",
   "id": "997051c5-15bd-4b69-9786-c3001a3ce484",
   "metadata": {
    "papermill": {
     "duration": 0.01887,
     "end_time": "2025-07-30T13:49:10.802104",
     "exception": false,
     "start_time": "2025-07-30T13:49:10.783234",
     "status": "completed"
    },
    "tags": []
   },
   "source": [
    "# Splitting Data and Setting Training Data Size"
   ]
  },
  {
   "cell_type": "code",
   "execution_count": 14,
   "id": "e993b61f-042d-41a6-8c81-f55681f86335",
   "metadata": {
    "execution": {
     "iopub.execute_input": "2025-07-30T13:49:10.843226Z",
     "iopub.status.busy": "2025-07-30T13:49:10.842645Z",
     "iopub.status.idle": "2025-07-30T13:49:10.856312Z",
     "shell.execute_reply": "2025-07-30T13:49:10.855349Z"
    },
    "papermill": {
     "duration": 0.036115,
     "end_time": "2025-07-30T13:49:10.857969",
     "exception": false,
     "start_time": "2025-07-30T13:49:10.821854",
     "status": "completed"
    },
    "tags": []
   },
   "outputs": [],
   "source": [
    "def sample_by_year_size(df,\n",
    "                        training_year: str,\n",
    "                        training_size: str,\n",
    "                        random_state: int = 42):\n",
    "    # --- parse training_year into a list of int years ---\n",
    "    if \"_\" in training_year:\n",
    "        start_str, end_str = training_year.split(\"_\", 1)\n",
    "        start = int(start_str)\n",
    "        end   = int(end_str) if len(end_str) == 4 else (int(end_str) + (start // 100)*100)\n",
    "        years = list(range(start, end + 1))\n",
    "    else:\n",
    "        years = [int(training_year)]\n",
    "\n",
    "    df = df[df[\"year\"].isin(years)].reset_index(drop=True)\n",
    "\n",
    "    # --- map training_size to total number of samples ---\n",
    "    total_map = {\"25k\": 25_000, \"5k\": 5_000, \"1k\": 1_000}\n",
    "    if training_size not in total_map:\n",
    "        return df  # e.g. \"all\"\n",
    "\n",
    "    total_samples = total_map[training_size]\n",
    "    n_years       = len(years)\n",
    "    base          = total_samples // n_years\n",
    "    remainder     = total_samples % n_years\n",
    "\n",
    "    # --- build a dict: year -> how many to sample ---\n",
    "    # give +1 to the first `remainder` years in ascending order\n",
    "    quotas = {\n",
    "        year: base + (1 if idx < remainder else 0)\n",
    "        for idx, year in enumerate(sorted(years))\n",
    "    }\n",
    "\n",
    "    # --- sample per‐year according to the quota dict ---\n",
    "    sampled = (\n",
    "        df\n",
    "        .groupby(\"year\", group_keys=False)\n",
    "        .apply(lambda grp: grp.sample(\n",
    "            n=min(len(grp), quotas[grp.name]),\n",
    "            random_state=random_state))\n",
    "        .reset_index(drop=True)\n",
    "    )\n",
    "\n",
    "    return sampled"
   ]
  },
  {
   "cell_type": "code",
   "execution_count": 15,
   "id": "c0ccd338-0e02-41f3-a09d-f56f9266e3fb",
   "metadata": {
    "execution": {
     "iopub.execute_input": "2025-07-30T13:49:10.902319Z",
     "iopub.status.busy": "2025-07-30T13:49:10.901665Z",
     "iopub.status.idle": "2025-07-30T13:49:10.912699Z",
     "shell.execute_reply": "2025-07-30T13:49:10.911868Z"
    },
    "papermill": {
     "duration": 0.034554,
     "end_time": "2025-07-30T13:49:10.913941",
     "exception": false,
     "start_time": "2025-07-30T13:49:10.879387",
     "status": "completed"
    },
    "tags": []
   },
   "outputs": [
    {
     "data": {
      "text/plain": [
       "'5k'"
      ]
     },
     "execution_count": 15,
     "metadata": {},
     "output_type": "execute_result"
    }
   ],
   "source": [
    "universe[\"training_size\"]"
   ]
  },
  {
   "cell_type": "code",
   "execution_count": 16,
   "id": "ca707fd7-8047-4acd-bfa5-66248fbbf8e6",
   "metadata": {
    "execution": {
     "iopub.execute_input": "2025-07-30T13:49:10.937237Z",
     "iopub.status.busy": "2025-07-30T13:49:10.936374Z",
     "iopub.status.idle": "2025-07-30T13:49:10.944238Z",
     "shell.execute_reply": "2025-07-30T13:49:10.943286Z"
    },
    "papermill": {
     "duration": 0.020793,
     "end_time": "2025-07-30T13:49:10.945743",
     "exception": false,
     "start_time": "2025-07-30T13:49:10.924950",
     "status": "completed"
    },
    "tags": []
   },
   "outputs": [
    {
     "data": {
      "text/plain": [
       "'2014'"
      ]
     },
     "execution_count": 16,
     "metadata": {},
     "output_type": "execute_result"
    }
   ],
   "source": [
    "universe[\"training_year\"]"
   ]
  },
  {
   "cell_type": "code",
   "execution_count": 17,
   "id": "aea9c6ef-6f46-42c8-85eb-5a62025c1508",
   "metadata": {
    "execution": {
     "iopub.execute_input": "2025-07-30T13:49:10.989014Z",
     "iopub.status.busy": "2025-07-30T13:49:10.988247Z",
     "iopub.status.idle": "2025-07-30T13:49:11.249221Z",
     "shell.execute_reply": "2025-07-30T13:49:11.248241Z"
    },
    "papermill": {
     "duration": 0.284952,
     "end_time": "2025-07-30T13:49:11.250759",
     "exception": false,
     "start_time": "2025-07-30T13:49:10.965807",
     "status": "completed"
    },
    "tags": []
   },
   "outputs": [],
   "source": [
    "siab_train = sample_by_year_size(siab,\n",
    "                               training_year=universe[\"training_year\"],\n",
    "                               training_size=universe[\"training_size\"])"
   ]
  },
  {
   "cell_type": "code",
   "execution_count": 18,
   "id": "8d3afb32-789d-442c-8d5d-9f5aa8dd2eed",
   "metadata": {
    "execution": {
     "iopub.execute_input": "2025-07-30T13:49:11.290564Z",
     "iopub.status.busy": "2025-07-30T13:49:11.289849Z",
     "iopub.status.idle": "2025-07-30T13:49:11.296339Z",
     "shell.execute_reply": "2025-07-30T13:49:11.295601Z"
    },
    "papermill": {
     "duration": 0.023562,
     "end_time": "2025-07-30T13:49:11.297680",
     "exception": false,
     "start_time": "2025-07-30T13:49:11.274118",
     "status": "completed"
    },
    "tags": []
   },
   "outputs": [
    {
     "data": {
      "text/plain": [
       "(5000, 164)"
      ]
     },
     "execution_count": 18,
     "metadata": {},
     "output_type": "execute_result"
    }
   ],
   "source": [
    "siab_train.shape"
   ]
  },
  {
   "cell_type": "code",
   "execution_count": 19,
   "id": "d582db68-1a4c-47fb-84fc-08518dc1975a",
   "metadata": {
    "execution": {
     "iopub.execute_input": "2025-07-30T13:49:11.321723Z",
     "iopub.status.busy": "2025-07-30T13:49:11.321204Z",
     "iopub.status.idle": "2025-07-30T13:49:11.330507Z",
     "shell.execute_reply": "2025-07-30T13:49:11.329816Z"
    },
    "papermill": {
     "duration": 0.022511,
     "end_time": "2025-07-30T13:49:11.331858",
     "exception": false,
     "start_time": "2025-07-30T13:49:11.309347",
     "status": "completed"
    },
    "tags": []
   },
   "outputs": [
    {
     "data": {
      "text/plain": [
       "year\n",
       "2014    5000\n",
       "dtype: int64"
      ]
     },
     "metadata": {},
     "output_type": "display_data"
    }
   ],
   "source": [
    "display(siab_train.groupby(\"year\").size())"
   ]
  },
  {
   "cell_type": "code",
   "execution_count": 20,
   "id": "a561edb4-d032-42cb-8256-22eac1111c64",
   "metadata": {
    "execution": {
     "iopub.execute_input": "2025-07-30T13:49:11.356119Z",
     "iopub.status.busy": "2025-07-30T13:49:11.355706Z",
     "iopub.status.idle": "2025-07-30T13:49:11.628797Z",
     "shell.execute_reply": "2025-07-30T13:49:11.627665Z"
    },
    "papermill": {
     "duration": 0.287103,
     "end_time": "2025-07-30T13:49:11.630807",
     "exception": false,
     "start_time": "2025-07-30T13:49:11.343704",
     "status": "completed"
    },
    "tags": []
   },
   "outputs": [],
   "source": [
    "#siab_train = siab_s[siab_s.year < 2015]\n",
    "siab_calib = siab[siab.year == 2015]\n",
    "siab_test = siab[siab.year == 2016]"
   ]
  },
  {
   "cell_type": "code",
   "execution_count": 21,
   "id": "472de16f-c3db-4916-846b-1f0de9cf1746",
   "metadata": {
    "execution": {
     "iopub.execute_input": "2025-07-30T13:49:11.679510Z",
     "iopub.status.busy": "2025-07-30T13:49:11.678517Z",
     "iopub.status.idle": "2025-07-30T13:49:11.687863Z",
     "shell.execute_reply": "2025-07-30T13:49:11.686781Z"
    },
    "papermill": {
     "duration": 0.036343,
     "end_time": "2025-07-30T13:49:11.689608",
     "exception": false,
     "start_time": "2025-07-30T13:49:11.653265",
     "status": "completed"
    },
    "tags": []
   },
   "outputs": [],
   "source": [
    "X_train = siab_train.iloc[:,4:164]\n",
    "y_train = siab_train.iloc[:, [3]]"
   ]
  },
  {
   "cell_type": "code",
   "execution_count": 22,
   "id": "828c96af-f43a-4ed6-ba47-8ac73a47d56c",
   "metadata": {
    "execution": {
     "iopub.execute_input": "2025-07-30T13:49:11.739455Z",
     "iopub.status.busy": "2025-07-30T13:49:11.738735Z",
     "iopub.status.idle": "2025-07-30T13:49:11.790982Z",
     "shell.execute_reply": "2025-07-30T13:49:11.789821Z"
    },
    "papermill": {
     "duration": 0.077777,
     "end_time": "2025-07-30T13:49:11.792918",
     "exception": false,
     "start_time": "2025-07-30T13:49:11.715141",
     "status": "completed"
    },
    "tags": []
   },
   "outputs": [],
   "source": [
    "X_calib = siab_calib.iloc[:,4:164]\n",
    "y_calib = siab_calib.iloc[:, [3]]"
   ]
  },
  {
   "cell_type": "code",
   "execution_count": 23,
   "id": "c34be9c3-6bd6-476e-acd3-845840e303be",
   "metadata": {
    "execution": {
     "iopub.execute_input": "2025-07-30T13:49:11.846532Z",
     "iopub.status.busy": "2025-07-30T13:49:11.845565Z",
     "iopub.status.idle": "2025-07-30T13:49:11.904629Z",
     "shell.execute_reply": "2025-07-30T13:49:11.903525Z"
    },
    "papermill": {
     "duration": 0.085481,
     "end_time": "2025-07-30T13:49:11.906317",
     "exception": false,
     "start_time": "2025-07-30T13:49:11.820836",
     "status": "completed"
    },
    "tags": []
   },
   "outputs": [],
   "source": [
    "X_test = siab_test.iloc[:,4:164]\n",
    "y_true = siab_test.iloc[:, [3]]"
   ]
  },
  {
   "cell_type": "markdown",
   "id": "9901737e-04df-44f0-9100-f5ad144ed040",
   "metadata": {
    "papermill": {
     "duration": 0.024456,
     "end_time": "2025-07-30T13:49:11.954652",
     "exception": false,
     "start_time": "2025-07-30T13:49:11.930196",
     "status": "completed"
    },
    "tags": []
   },
   "source": [
    "# Splitting Data and Setting Training Data Size OLD VERSION"
   ]
  },
  {
   "cell_type": "code",
   "execution_count": 24,
   "id": "acbc8f7d-8fc8-4e86-8c59-5dcb0f58384b",
   "metadata": {
    "execution": {
     "iopub.execute_input": "2025-07-30T13:49:12.003982Z",
     "iopub.status.busy": "2025-07-30T13:49:12.003277Z",
     "iopub.status.idle": "2025-07-30T13:49:12.009080Z",
     "shell.execute_reply": "2025-07-30T13:49:12.008068Z"
    },
    "papermill": {
     "duration": 0.032616,
     "end_time": "2025-07-30T13:49:12.010809",
     "exception": false,
     "start_time": "2025-07-30T13:49:11.978193",
     "status": "completed"
    },
    "tags": []
   },
   "outputs": [],
   "source": [
    "#def sample_by_year(df, training_size, random_state=42):\n",
    "#    if training_size == \"2014\":\n",
    "#        return df[df[\"year\"] == 2014].reset_index(drop=True)\n",
    "#    \n",
    "#    size_map = {\n",
    "#        \"25k\": 5000,\n",
    "#        \"5k\": 1000,\n",
    "#        \"1k\": 200\n",
    "#    }\n",
    "#\n",
    "#    if training_size not in size_map:\n",
    "#        return df.reset_index(drop=True)  # use all data\n",
    "#\n",
    "#    n_per_year = size_map[training_size]\n",
    "#    grouped = df.groupby(\"year\")\n",
    "#    sampled = grouped.apply(lambda x: x.sample(n=min(n_per_year, len(x)), random_state=random_state))\n",
    "#    return sampled.reset_index(drop=True)"
   ]
  },
  {
   "cell_type": "code",
   "execution_count": 25,
   "id": "6d931f52-beaf-43ff-9e78-9d44a448d54e",
   "metadata": {
    "execution": {
     "iopub.execute_input": "2025-07-30T13:49:12.061376Z",
     "iopub.status.busy": "2025-07-30T13:49:12.060779Z",
     "iopub.status.idle": "2025-07-30T13:49:12.066587Z",
     "shell.execute_reply": "2025-07-30T13:49:12.065572Z"
    },
    "papermill": {
     "duration": 0.033114,
     "end_time": "2025-07-30T13:49:12.068133",
     "exception": false,
     "start_time": "2025-07-30T13:49:12.035019",
     "status": "completed"
    },
    "tags": []
   },
   "outputs": [],
   "source": [
    "#siab_s = sample_by_year(siab, universe[\"training_size\"])"
   ]
  },
  {
   "cell_type": "code",
   "execution_count": 26,
   "id": "5db0a40e-a4e2-4920-be85-b12ae061d70d",
   "metadata": {
    "execution": {
     "iopub.execute_input": "2025-07-30T13:49:12.092698Z",
     "iopub.status.busy": "2025-07-30T13:49:12.092331Z",
     "iopub.status.idle": "2025-07-30T13:49:12.096949Z",
     "shell.execute_reply": "2025-07-30T13:49:12.096282Z"
    },
    "papermill": {
     "duration": 0.018056,
     "end_time": "2025-07-30T13:49:12.098206",
     "exception": false,
     "start_time": "2025-07-30T13:49:12.080150",
     "status": "completed"
    },
    "tags": []
   },
   "outputs": [],
   "source": [
    "#display(siab_s.groupby(\"year\").size())"
   ]
  },
  {
   "cell_type": "code",
   "execution_count": 27,
   "id": "e6c733c5",
   "metadata": {
    "execution": {
     "iopub.execute_input": "2025-07-30T13:49:12.123545Z",
     "iopub.status.busy": "2025-07-30T13:49:12.123164Z",
     "iopub.status.idle": "2025-07-30T13:49:12.212878Z",
     "shell.execute_reply": "2025-07-30T13:49:12.212111Z"
    },
    "papermill": {
     "duration": 0.104059,
     "end_time": "2025-07-30T13:49:12.214322",
     "exception": false,
     "start_time": "2025-07-30T13:49:12.110263",
     "status": "completed"
    },
    "tags": []
   },
   "outputs": [],
   "source": [
    "# Auxiliary data needed downstream in the pipeline\n",
    "\n",
    "org_train = X_train.copy()\n",
    "org_test = X_test.copy()\n",
    "org_calib = X_calib.copy()"
   ]
  },
  {
   "cell_type": "code",
   "execution_count": 28,
   "id": "1466abac-c6da-4492-a62f-4240ae3783af",
   "metadata": {
    "execution": {
     "iopub.execute_input": "2025-07-30T13:49:12.239241Z",
     "iopub.status.busy": "2025-07-30T13:49:12.238894Z",
     "iopub.status.idle": "2025-07-30T13:49:12.243867Z",
     "shell.execute_reply": "2025-07-30T13:49:12.243143Z"
    },
    "papermill": {
     "duration": 0.018766,
     "end_time": "2025-07-30T13:49:12.245211",
     "exception": false,
     "start_time": "2025-07-30T13:49:12.226445",
     "status": "completed"
    },
    "tags": []
   },
   "outputs": [],
   "source": [
    "# put in other script?\n",
    "# Group sizes\n",
    "\n",
    "#def calculate_percentages(df, df_name):\n",
    "#    total_entries = len(df)\n",
    "#\n",
    "#    female_pct = (df['frau1'] == 1).mean() * 100\n",
    "#    non_german_pct = ((df['maxdeutsch1'] == 0) & (df['maxdeutsch.Missing.'] == 0)).mean() * 100\n",
    "#    non_german_male_pct = ((df['frau1'] == 0) & (df['maxdeutsch1'] == 0) & (df['maxdeutsch.Missing.'] == 0)).mean() * 100\n",
    "#    non_german_female_pct = ((df['frau1'] == 1) & (df['maxdeutsch1'] == 0) & (df['maxdeutsch.Missing.'] == 0)).mean() * 100\n",
    "#\n",
    "#    print(f\"--- {df_name} ---\")\n",
    "#    print(f\"Female: {female_pct:.2f}%\")\n",
    "#    print(f\"Non-German: {non_german_pct:.2f}%\")\n",
    "#    print(f\"Non-German Male: {non_german_male_pct:.2f}%\")\n",
    "#    print(f\"Non-German Female: {non_german_female_pct:.2f}%\\n\")\n",
    "#\n",
    "## Calculate for each DataFrame\n",
    "#calculate_percentages(siab_calib, \"siab_calib\")\n",
    "#calculate_percentages(siab_test, \"siab_test\")\n",
    "#calculate_percentages(siab_train, \"siab_train\")"
   ]
  },
  {
   "cell_type": "markdown",
   "id": "0a4a1b33",
   "metadata": {
    "papermill": {
     "duration": 0.011439,
     "end_time": "2025-07-30T13:49:12.268869",
     "exception": false,
     "start_time": "2025-07-30T13:49:12.257430",
     "status": "completed"
    },
    "tags": []
   },
   "source": [
    "# Preprocessing Data"
   ]
  },
  {
   "cell_type": "code",
   "execution_count": 29,
   "id": "ca879031",
   "metadata": {
    "execution": {
     "iopub.execute_input": "2025-07-30T13:49:12.292811Z",
     "iopub.status.busy": "2025-07-30T13:49:12.292289Z",
     "iopub.status.idle": "2025-07-30T13:49:12.297533Z",
     "shell.execute_reply": "2025-07-30T13:49:12.296678Z"
    },
    "papermill": {
     "duration": 0.01866,
     "end_time": "2025-07-30T13:49:12.298849",
     "exception": false,
     "start_time": "2025-07-30T13:49:12.280189",
     "status": "completed"
    },
    "tags": []
   },
   "outputs": [],
   "source": [
    "# EXCLUDE PROTECTED FEATURES\n",
    "# ----------------------\n",
    "# \"exclude_features\": \"none\", # \"nationality\", \"sex\", \"nationality-sex\"\n",
    "\n",
    "excluded_features = universe[\"exclude_features\"].split(\"-\") # split, e.g.: \"nationality-sex\" -> [\"nationality\", \"sex\"]\n",
    "excluded_features_dictionary = {\n",
    "    \"nationality\": [\"maxdeutsch1\", \"maxdeutsch.Missing.\"],\n",
    "    \"sex\": [\"frau1\"],\n",
    "    \"age\": [\"age\"],\n",
    "}\n"
   ]
  },
  {
   "cell_type": "code",
   "execution_count": 30,
   "id": "b745ac60",
   "metadata": {
    "execution": {
     "iopub.execute_input": "2025-07-30T13:49:12.323933Z",
     "iopub.status.busy": "2025-07-30T13:49:12.323432Z",
     "iopub.status.idle": "2025-07-30T13:49:12.328116Z",
     "shell.execute_reply": "2025-07-30T13:49:12.327416Z"
    },
    "papermill": {
     "duration": 0.018184,
     "end_time": "2025-07-30T13:49:12.329342",
     "exception": false,
     "start_time": "2025-07-30T13:49:12.311158",
     "status": "completed"
    },
    "tags": []
   },
   "outputs": [],
   "source": [
    "# Code nice names to column names\n",
    "\n",
    "excluded_features_columns = [\n",
    "    excluded_features_dictionary[f] for f in excluded_features if len(f) > 0 and f != \"none\"\n",
    "]"
   ]
  },
  {
   "cell_type": "code",
   "execution_count": 31,
   "id": "f84f73a2",
   "metadata": {
    "execution": {
     "iopub.execute_input": "2025-07-30T13:49:12.354283Z",
     "iopub.status.busy": "2025-07-30T13:49:12.353758Z",
     "iopub.status.idle": "2025-07-30T13:49:12.359757Z",
     "shell.execute_reply": "2025-07-30T13:49:12.359074Z"
    },
    "papermill": {
     "duration": 0.019775,
     "end_time": "2025-07-30T13:49:12.361081",
     "exception": false,
     "start_time": "2025-07-30T13:49:12.341306",
     "status": "completed"
    },
    "tags": []
   },
   "outputs": [],
   "source": [
    "from utils import flatten_once\n",
    "\n",
    "excluded_features_columns = flatten_once(excluded_features_columns)"
   ]
  },
  {
   "cell_type": "code",
   "execution_count": 32,
   "id": "884dea22",
   "metadata": {
    "execution": {
     "iopub.execute_input": "2025-07-30T13:49:12.386320Z",
     "iopub.status.busy": "2025-07-30T13:49:12.385820Z",
     "iopub.status.idle": "2025-07-30T13:49:12.390707Z",
     "shell.execute_reply": "2025-07-30T13:49:12.390030Z"
    },
    "papermill": {
     "duration": 0.018298,
     "end_time": "2025-07-30T13:49:12.391884",
     "exception": false,
     "start_time": "2025-07-30T13:49:12.373586",
     "status": "completed"
    },
    "tags": []
   },
   "outputs": [],
   "source": [
    "if len(excluded_features_columns) > 0:\n",
    "    print(f\"Dropping features: {excluded_features_columns}\")\n",
    "    X_train.drop(excluded_features_columns, axis=1, inplace=True)"
   ]
  },
  {
   "cell_type": "code",
   "execution_count": 33,
   "id": "95ab8b16",
   "metadata": {
    "execution": {
     "iopub.execute_input": "2025-07-30T13:49:12.417792Z",
     "iopub.status.busy": "2025-07-30T13:49:12.417288Z",
     "iopub.status.idle": "2025-07-30T13:49:12.422244Z",
     "shell.execute_reply": "2025-07-30T13:49:12.421515Z"
    },
    "papermill": {
     "duration": 0.018703,
     "end_time": "2025-07-30T13:49:12.423542",
     "exception": false,
     "start_time": "2025-07-30T13:49:12.404839",
     "status": "completed"
    },
    "tags": []
   },
   "outputs": [],
   "source": [
    "if len(excluded_features_columns) > 0:\n",
    "    print(f\"Dropping features: {excluded_features_columns}\")\n",
    "    X_test.drop(excluded_features_columns, axis=1, inplace=True)"
   ]
  },
  {
   "cell_type": "code",
   "execution_count": 34,
   "id": "1853aaf5-fb9f-46cb-a2b5-8ea4ae2237e4",
   "metadata": {
    "execution": {
     "iopub.execute_input": "2025-07-30T13:49:12.448614Z",
     "iopub.status.busy": "2025-07-30T13:49:12.448095Z",
     "iopub.status.idle": "2025-07-30T13:49:12.452853Z",
     "shell.execute_reply": "2025-07-30T13:49:12.452106Z"
    },
    "papermill": {
     "duration": 0.018227,
     "end_time": "2025-07-30T13:49:12.454105",
     "exception": false,
     "start_time": "2025-07-30T13:49:12.435878",
     "status": "completed"
    },
    "tags": []
   },
   "outputs": [],
   "source": [
    "if len(excluded_features_columns) > 0:\n",
    "    print(f\"Dropping features: {excluded_features_columns}\")\n",
    "    X_calib.drop(excluded_features_columns, axis=1, inplace=True)"
   ]
  },
  {
   "cell_type": "code",
   "execution_count": 35,
   "id": "6727d079-03e5-481e-9d38-292a90b7a0a8",
   "metadata": {
    "execution": {
     "iopub.execute_input": "2025-07-30T13:49:12.479562Z",
     "iopub.status.busy": "2025-07-30T13:49:12.479061Z",
     "iopub.status.idle": "2025-07-30T13:49:12.483541Z",
     "shell.execute_reply": "2025-07-30T13:49:12.482823Z"
    },
    "papermill": {
     "duration": 0.018365,
     "end_time": "2025-07-30T13:49:12.484958",
     "exception": false,
     "start_time": "2025-07-30T13:49:12.466593",
     "status": "completed"
    },
    "tags": []
   },
   "outputs": [],
   "source": [
    "# SPLIT & STRATIFY DATA\n",
    "# ----------------------"
   ]
  },
  {
   "cell_type": "code",
   "execution_count": 36,
   "id": "76c4dc6d",
   "metadata": {
    "execution": {
     "iopub.execute_input": "2025-07-30T13:49:12.510513Z",
     "iopub.status.busy": "2025-07-30T13:49:12.509751Z",
     "iopub.status.idle": "2025-07-30T13:49:12.514412Z",
     "shell.execute_reply": "2025-07-30T13:49:12.513757Z"
    },
    "papermill": {
     "duration": 0.018354,
     "end_time": "2025-07-30T13:49:12.515665",
     "exception": false,
     "start_time": "2025-07-30T13:49:12.497311",
     "status": "completed"
    },
    "tags": []
   },
   "outputs": [],
   "source": [
    "# EXCLUDE CERTAIN SUBGROUPS\n",
    "# ----------------------\n",
    "\n",
    "mode = universe.get(\"exclude_subgroups\", \"keep-all\") \n",
    "# Fetches the exclude_subgroups setting from the universe dict.\n",
    "# Defaults to \"keep-all\" if the key is missing."
   ]
  },
  {
   "cell_type": "code",
   "execution_count": 37,
   "id": "21994072",
   "metadata": {
    "execution": {
     "iopub.execute_input": "2025-07-30T13:49:12.540865Z",
     "iopub.status.busy": "2025-07-30T13:49:12.540354Z",
     "iopub.status.idle": "2025-07-30T13:49:12.545887Z",
     "shell.execute_reply": "2025-07-30T13:49:12.545154Z"
    },
    "papermill": {
     "duration": 0.019398,
     "end_time": "2025-07-30T13:49:12.547291",
     "exception": false,
     "start_time": "2025-07-30T13:49:12.527893",
     "status": "completed"
    },
    "tags": []
   },
   "outputs": [],
   "source": [
    "if mode == \"keep-all\":\n",
    "    keep_mask = pd.Series(True, index=org_train.index)\n",
    "\n",
    "# org_train contains the original feature columns from features_org (in Simson)\n",
    "# features_org contains unprocessed features, for me X_train at beginning ???\n",
    "# For keep-all, creates a boolean Series (keep_mask) of all True, so no rows are removed.\n",
    "\n",
    "elif mode == \"drop-non-german\":\n",
    "    keep_mask = org_train[\"maxdeutsch1\"] == 1 # ??? what about missing values?\n",
    "\n",
    "else:\n",
    "    raise ValueError(f\"Unsupported mode for exclude_subgroups: {mode}\")\n"
   ]
  },
  {
   "cell_type": "code",
   "execution_count": 38,
   "id": "71651440",
   "metadata": {
    "execution": {
     "iopub.execute_input": "2025-07-30T13:49:12.573002Z",
     "iopub.status.busy": "2025-07-30T13:49:12.572501Z",
     "iopub.status.idle": "2025-07-30T13:49:12.578722Z",
     "shell.execute_reply": "2025-07-30T13:49:12.578021Z"
    },
    "papermill": {
     "duration": 0.020139,
     "end_time": "2025-07-30T13:49:12.580014",
     "exception": false,
     "start_time": "2025-07-30T13:49:12.559875",
     "status": "completed"
    },
    "tags": []
   },
   "outputs": [
    {
     "name": "stdout",
     "output_type": "stream",
     "text": [
      "Dropping 741 rows (14.82%) where mode='drop-non-german'\n"
     ]
    }
   ],
   "source": [
    "n_drop = (~keep_mask).sum() # Calculates how many rows are set to be dropped\n",
    "if n_drop > 0:\n",
    "    pct = n_drop / len(keep_mask) * 100\n",
    "    print(f\"Dropping {n_drop} rows ({pct:.2f}%) where mode='{mode}'\")"
   ]
  },
  {
   "cell_type": "code",
   "execution_count": 39,
   "id": "5fb8eee5",
   "metadata": {
    "execution": {
     "iopub.execute_input": "2025-07-30T13:49:12.605671Z",
     "iopub.status.busy": "2025-07-30T13:49:12.605179Z",
     "iopub.status.idle": "2025-07-30T13:49:12.611804Z",
     "shell.execute_reply": "2025-07-30T13:49:12.611069Z"
    },
    "papermill": {
     "duration": 0.020542,
     "end_time": "2025-07-30T13:49:12.613114",
     "exception": false,
     "start_time": "2025-07-30T13:49:12.592572",
     "status": "completed"
    },
    "tags": []
   },
   "outputs": [],
   "source": [
    "X_train = X_train[keep_mask]"
   ]
  },
  {
   "cell_type": "code",
   "execution_count": 40,
   "id": "b202bb3a",
   "metadata": {
    "execution": {
     "iopub.execute_input": "2025-07-30T13:49:12.640816Z",
     "iopub.status.busy": "2025-07-30T13:49:12.640284Z",
     "iopub.status.idle": "2025-07-30T13:49:12.645592Z",
     "shell.execute_reply": "2025-07-30T13:49:12.644891Z"
    },
    "papermill": {
     "duration": 0.019523,
     "end_time": "2025-07-30T13:49:12.646912",
     "exception": false,
     "start_time": "2025-07-30T13:49:12.627389",
     "status": "completed"
    },
    "tags": []
   },
   "outputs": [],
   "source": [
    "y_train = y_train[keep_mask]"
   ]
  },
  {
   "cell_type": "markdown",
   "id": "493e2ac3",
   "metadata": {
    "papermill": {
     "duration": 0.011692,
     "end_time": "2025-07-30T13:49:12.671272",
     "exception": false,
     "start_time": "2025-07-30T13:49:12.659580",
     "status": "completed"
    },
    "tags": []
   },
   "source": [
    "# Model Training"
   ]
  },
  {
   "cell_type": "code",
   "execution_count": 41,
   "id": "679e1268",
   "metadata": {
    "execution": {
     "iopub.execute_input": "2025-07-30T13:49:12.695933Z",
     "iopub.status.busy": "2025-07-30T13:49:12.695425Z",
     "iopub.status.idle": "2025-07-30T13:49:12.780811Z",
     "shell.execute_reply": "2025-07-30T13:49:12.779688Z"
    },
    "papermill": {
     "duration": 0.100242,
     "end_time": "2025-07-30T13:49:12.783122",
     "exception": false,
     "start_time": "2025-07-30T13:49:12.682880",
     "status": "completed"
    },
    "tags": []
   },
   "outputs": [],
   "source": [
    "from sklearn.linear_model import LogisticRegression\n",
    "from sklearn.ensemble import GradientBoostingClassifier, RandomForestClassifier\n",
    "\n",
    "if (universe[\"model\"] == \"logreg\"):\n",
    "    model = LogisticRegression() #penalty=\"none\") #, solver=\"newton-cg\", max_iter=1) # include random_state=19 ?\n",
    "elif (universe[\"model\"] == \"penalized_logreg\"):\n",
    "    model = LogisticRegression(penalty=\"l2\", C=1.0) #, solver=\"newton-cg\", max_iter=1)\n",
    "elif (universe[\"model\"] == \"rf\"):\n",
    "    model = RandomForestClassifier(n_estimators=100, n_jobs=-1)\n",
    "elif (universe[\"model\"] == \"gbm\"):\n",
    "    model = GradientBoostingClassifier()\n",
    "elif (universe[\"model\"] == \"elasticnet\"):\n",
    "    model = LogisticRegression(penalty = 'elasticnet', solver = 'saga', l1_ratio = 0.5, max_iter=5000) # which solver to use?\n",
    "else:\n",
    "    raise \"Unsupported universe.model\""
   ]
  },
  {
   "cell_type": "code",
   "execution_count": 42,
   "id": "0cc8f744",
   "metadata": {
    "execution": {
     "iopub.execute_input": "2025-07-30T13:49:12.834663Z",
     "iopub.status.busy": "2025-07-30T13:49:12.833919Z",
     "iopub.status.idle": "2025-07-30T13:49:12.841708Z",
     "shell.execute_reply": "2025-07-30T13:49:12.840731Z"
    },
    "papermill": {
     "duration": 0.033519,
     "end_time": "2025-07-30T13:49:12.843509",
     "exception": false,
     "start_time": "2025-07-30T13:49:12.809990",
     "status": "completed"
    },
    "tags": []
   },
   "outputs": [],
   "source": [
    "import numpy as np\n",
    "from sklearn.pipeline import Pipeline\n",
    "from sklearn.preprocessing import StandardScaler\n",
    "\n",
    "model = Pipeline([\n",
    "    #(\"continuous_processor\", continuous_processor),\n",
    "    #(\"categorical_preprocessor\", categorical_preprocessor),\n",
    "    (\"scale\", StandardScaler() if universe[\"scale\"] == \"scale\" else None), \n",
    "    (\"model\", model),\n",
    "])"
   ]
  },
  {
   "cell_type": "code",
   "execution_count": 43,
   "id": "9442c04d",
   "metadata": {
    "execution": {
     "iopub.execute_input": "2025-07-30T13:49:12.893598Z",
     "iopub.status.busy": "2025-07-30T13:49:12.892354Z",
     "iopub.status.idle": "2025-07-30T13:49:13.696536Z",
     "shell.execute_reply": "2025-07-30T13:49:13.695671Z"
    },
    "papermill": {
     "duration": 0.829788,
     "end_time": "2025-07-30T13:49:13.697741",
     "exception": false,
     "start_time": "2025-07-30T13:49:12.867953",
     "status": "completed"
    },
    "tags": []
   },
   "outputs": [
    {
     "data": {
      "text/html": [
       "<style>#sk-container-id-1 {color: black;background-color: white;}#sk-container-id-1 pre{padding: 0;}#sk-container-id-1 div.sk-toggleable {background-color: white;}#sk-container-id-1 label.sk-toggleable__label {cursor: pointer;display: block;width: 100%;margin-bottom: 0;padding: 0.3em;box-sizing: border-box;text-align: center;}#sk-container-id-1 label.sk-toggleable__label-arrow:before {content: \"▸\";float: left;margin-right: 0.25em;color: #696969;}#sk-container-id-1 label.sk-toggleable__label-arrow:hover:before {color: black;}#sk-container-id-1 div.sk-estimator:hover label.sk-toggleable__label-arrow:before {color: black;}#sk-container-id-1 div.sk-toggleable__content {max-height: 0;max-width: 0;overflow: hidden;text-align: left;background-color: #f0f8ff;}#sk-container-id-1 div.sk-toggleable__content pre {margin: 0.2em;color: black;border-radius: 0.25em;background-color: #f0f8ff;}#sk-container-id-1 input.sk-toggleable__control:checked~div.sk-toggleable__content {max-height: 200px;max-width: 100%;overflow: auto;}#sk-container-id-1 input.sk-toggleable__control:checked~label.sk-toggleable__label-arrow:before {content: \"▾\";}#sk-container-id-1 div.sk-estimator input.sk-toggleable__control:checked~label.sk-toggleable__label {background-color: #d4ebff;}#sk-container-id-1 div.sk-label input.sk-toggleable__control:checked~label.sk-toggleable__label {background-color: #d4ebff;}#sk-container-id-1 input.sk-hidden--visually {border: 0;clip: rect(1px 1px 1px 1px);clip: rect(1px, 1px, 1px, 1px);height: 1px;margin: -1px;overflow: hidden;padding: 0;position: absolute;width: 1px;}#sk-container-id-1 div.sk-estimator {font-family: monospace;background-color: #f0f8ff;border: 1px dotted black;border-radius: 0.25em;box-sizing: border-box;margin-bottom: 0.5em;}#sk-container-id-1 div.sk-estimator:hover {background-color: #d4ebff;}#sk-container-id-1 div.sk-parallel-item::after {content: \"\";width: 100%;border-bottom: 1px solid gray;flex-grow: 1;}#sk-container-id-1 div.sk-label:hover label.sk-toggleable__label {background-color: #d4ebff;}#sk-container-id-1 div.sk-serial::before {content: \"\";position: absolute;border-left: 1px solid gray;box-sizing: border-box;top: 0;bottom: 0;left: 50%;z-index: 0;}#sk-container-id-1 div.sk-serial {display: flex;flex-direction: column;align-items: center;background-color: white;padding-right: 0.2em;padding-left: 0.2em;position: relative;}#sk-container-id-1 div.sk-item {position: relative;z-index: 1;}#sk-container-id-1 div.sk-parallel {display: flex;align-items: stretch;justify-content: center;background-color: white;position: relative;}#sk-container-id-1 div.sk-item::before, #sk-container-id-1 div.sk-parallel-item::before {content: \"\";position: absolute;border-left: 1px solid gray;box-sizing: border-box;top: 0;bottom: 0;left: 50%;z-index: -1;}#sk-container-id-1 div.sk-parallel-item {display: flex;flex-direction: column;z-index: 1;position: relative;background-color: white;}#sk-container-id-1 div.sk-parallel-item:first-child::after {align-self: flex-end;width: 50%;}#sk-container-id-1 div.sk-parallel-item:last-child::after {align-self: flex-start;width: 50%;}#sk-container-id-1 div.sk-parallel-item:only-child::after {width: 0;}#sk-container-id-1 div.sk-dashed-wrapped {border: 1px dashed gray;margin: 0 0.4em 0.5em 0.4em;box-sizing: border-box;padding-bottom: 0.4em;background-color: white;}#sk-container-id-1 div.sk-label label {font-family: monospace;font-weight: bold;display: inline-block;line-height: 1.2em;}#sk-container-id-1 div.sk-label-container {text-align: center;}#sk-container-id-1 div.sk-container {/* jupyter's `normalize.less` sets `[hidden] { display: none; }` but bootstrap.min.css set `[hidden] { display: none !important; }` so we also need the `!important` here to be able to override the default hidden behavior on the sphinx rendered scikit-learn.org. See: https://github.com/scikit-learn/scikit-learn/issues/21755 */display: inline-block !important;position: relative;}#sk-container-id-1 div.sk-text-repr-fallback {display: none;}</style><div id=\"sk-container-id-1\" class=\"sk-top-container\"><div class=\"sk-text-repr-fallback\"><pre>Pipeline(steps=[(&#x27;scale&#x27;, None), (&#x27;model&#x27;, RandomForestClassifier(n_jobs=-1))])</pre><b>In a Jupyter environment, please rerun this cell to show the HTML representation or trust the notebook. <br />On GitHub, the HTML representation is unable to render, please try loading this page with nbviewer.org.</b></div><div class=\"sk-container\" hidden><div class=\"sk-item sk-dashed-wrapped\"><div class=\"sk-label-container\"><div class=\"sk-label sk-toggleable\"><input class=\"sk-toggleable__control sk-hidden--visually\" id=\"sk-estimator-id-1\" type=\"checkbox\" ><label for=\"sk-estimator-id-1\" class=\"sk-toggleable__label sk-toggleable__label-arrow\">Pipeline</label><div class=\"sk-toggleable__content\"><pre>Pipeline(steps=[(&#x27;scale&#x27;, None), (&#x27;model&#x27;, RandomForestClassifier(n_jobs=-1))])</pre></div></div></div><div class=\"sk-serial\"><div class=\"sk-item\"><div class=\"sk-estimator sk-toggleable\"><input class=\"sk-toggleable__control sk-hidden--visually\" id=\"sk-estimator-id-2\" type=\"checkbox\" ><label for=\"sk-estimator-id-2\" class=\"sk-toggleable__label sk-toggleable__label-arrow\">None</label><div class=\"sk-toggleable__content\"><pre>None</pre></div></div></div><div class=\"sk-item\"><div class=\"sk-estimator sk-toggleable\"><input class=\"sk-toggleable__control sk-hidden--visually\" id=\"sk-estimator-id-3\" type=\"checkbox\" ><label for=\"sk-estimator-id-3\" class=\"sk-toggleable__label sk-toggleable__label-arrow\">RandomForestClassifier</label><div class=\"sk-toggleable__content\"><pre>RandomForestClassifier(n_jobs=-1)</pre></div></div></div></div></div></div></div>"
      ],
      "text/plain": [
       "Pipeline(steps=[('scale', None), ('model', RandomForestClassifier(n_jobs=-1))])"
      ]
     },
     "execution_count": 43,
     "metadata": {},
     "output_type": "execute_result"
    }
   ],
   "source": [
    "model.fit(X_train, y_train.values.ravel())"
   ]
  },
  {
   "cell_type": "code",
   "execution_count": 44,
   "id": "af59f8c0",
   "metadata": {
    "execution": {
     "iopub.execute_input": "2025-07-30T13:49:13.724635Z",
     "iopub.status.busy": "2025-07-30T13:49:13.724049Z",
     "iopub.status.idle": "2025-07-30T13:49:13.728953Z",
     "shell.execute_reply": "2025-07-30T13:49:13.728177Z"
    },
    "papermill": {
     "duration": 0.019834,
     "end_time": "2025-07-30T13:49:13.730303",
     "exception": false,
     "start_time": "2025-07-30T13:49:13.710469",
     "status": "completed"
    },
    "tags": []
   },
   "outputs": [],
   "source": [
    "from fairness_multiverse.universe import predict_w_threshold"
   ]
  },
  {
   "cell_type": "code",
   "execution_count": 45,
   "id": "a7cf2e16",
   "metadata": {
    "execution": {
     "iopub.execute_input": "2025-07-30T13:49:13.757776Z",
     "iopub.status.busy": "2025-07-30T13:49:13.757351Z",
     "iopub.status.idle": "2025-07-30T13:49:14.637100Z",
     "shell.execute_reply": "2025-07-30T13:49:14.636069Z"
    },
    "papermill": {
     "duration": 0.895069,
     "end_time": "2025-07-30T13:49:14.638641",
     "exception": false,
     "start_time": "2025-07-30T13:49:13.743572",
     "status": "completed"
    },
    "tags": []
   },
   "outputs": [
    {
     "data": {
      "text/plain": [
       "0.8647085051833686"
      ]
     },
     "execution_count": 45,
     "metadata": {},
     "output_type": "execute_result"
    }
   ],
   "source": [
    "probs_test = model.predict_proba(X_test)\n",
    "\n",
    "'''\n",
    "Below code returns a boolean array (or binary 0/1 array depending on how it’s used) where each element \n",
    "is True if the probability of class 1 is greater than or equal to the threshold, and False otherwise.\n",
    "'''\n",
    "y_pred_default = predict_w_threshold(probs_test, 0.5)\n",
    "\n",
    "from sklearn.metrics import accuracy_score\n",
    "\n",
    "# Naive prediction\n",
    "accuracy_score(y_true = y_true, y_pred = y_pred_default)"
   ]
  },
  {
   "cell_type": "code",
   "execution_count": 46,
   "id": "081964c3",
   "metadata": {
    "execution": {
     "iopub.execute_input": "2025-07-30T13:49:14.688901Z",
     "iopub.status.busy": "2025-07-30T13:49:14.687965Z",
     "iopub.status.idle": "2025-07-30T13:49:15.712243Z",
     "shell.execute_reply": "2025-07-30T13:49:15.711132Z"
    },
    "papermill": {
     "duration": 1.051221,
     "end_time": "2025-07-30T13:49:15.713865",
     "exception": false,
     "start_time": "2025-07-30T13:49:14.662644",
     "status": "completed"
    },
    "tags": []
   },
   "outputs": [
    {
     "data": {
      "text/plain": [
       "array([0, 0, 0, ..., 0, 0, 0])"
      ]
     },
     "execution_count": 46,
     "metadata": {},
     "output_type": "execute_result"
    }
   ],
   "source": [
    "model.predict(X_test)"
   ]
  },
  {
   "cell_type": "markdown",
   "id": "56c9705b",
   "metadata": {
    "papermill": {
     "duration": 0.026161,
     "end_time": "2025-07-30T13:49:15.764802",
     "exception": false,
     "start_time": "2025-07-30T13:49:15.738641",
     "status": "completed"
    },
    "tags": []
   },
   "source": [
    "# Conformal Prediction"
   ]
  },
  {
   "cell_type": "code",
   "execution_count": 47,
   "id": "160ec6ff",
   "metadata": {
    "execution": {
     "iopub.execute_input": "2025-07-30T13:49:15.839574Z",
     "iopub.status.busy": "2025-07-30T13:49:15.839086Z",
     "iopub.status.idle": "2025-07-30T13:49:15.844309Z",
     "shell.execute_reply": "2025-07-30T13:49:15.843392Z"
    },
    "papermill": {
     "duration": 0.033231,
     "end_time": "2025-07-30T13:49:15.845997",
     "exception": false,
     "start_time": "2025-07-30T13:49:15.812766",
     "status": "completed"
    },
    "tags": []
   },
   "outputs": [],
   "source": [
    "# Miscoverage level for conformal prediction (10% allowed error rate => 90% target coverage)\n",
    "alpha = 0.1"
   ]
  },
  {
   "cell_type": "code",
   "execution_count": 48,
   "id": "eadf4555-3dd3-440e-8e35-f82a4ad9f855",
   "metadata": {
    "execution": {
     "iopub.execute_input": "2025-07-30T13:49:15.897306Z",
     "iopub.status.busy": "2025-07-30T13:49:15.896431Z",
     "iopub.status.idle": "2025-07-30T13:49:16.769377Z",
     "shell.execute_reply": "2025-07-30T13:49:16.768316Z"
    },
    "papermill": {
     "duration": 0.900816,
     "end_time": "2025-07-30T13:49:16.771334",
     "exception": false,
     "start_time": "2025-07-30T13:49:15.870518",
     "status": "completed"
    },
    "tags": []
   },
   "outputs": [],
   "source": [
    "probs_calib = model.predict_proba(X_calib)"
   ]
  },
  {
   "cell_type": "code",
   "execution_count": 49,
   "id": "2ed93547-6d5d-4983-9b36-1ecb300da49a",
   "metadata": {
    "execution": {
     "iopub.execute_input": "2025-07-30T13:49:16.842055Z",
     "iopub.status.busy": "2025-07-30T13:49:16.841531Z",
     "iopub.status.idle": "2025-07-30T13:49:16.847726Z",
     "shell.execute_reply": "2025-07-30T13:49:16.846799Z"
    },
    "papermill": {
     "duration": 0.052478,
     "end_time": "2025-07-30T13:49:16.850045",
     "exception": false,
     "start_time": "2025-07-30T13:49:16.797567",
     "status": "completed"
    },
    "tags": []
   },
   "outputs": [],
   "source": [
    "y_calib = y_calib.values.ravel().astype(int)"
   ]
  },
  {
   "cell_type": "code",
   "execution_count": 50,
   "id": "65d1320d-f588-4b38-9072-62af1ae97f7d",
   "metadata": {
    "execution": {
     "iopub.execute_input": "2025-07-30T13:49:16.900646Z",
     "iopub.status.busy": "2025-07-30T13:49:16.899822Z",
     "iopub.status.idle": "2025-07-30T13:49:16.908582Z",
     "shell.execute_reply": "2025-07-30T13:49:16.907584Z"
    },
    "papermill": {
     "duration": 0.036246,
     "end_time": "2025-07-30T13:49:16.910283",
     "exception": false,
     "start_time": "2025-07-30T13:49:16.874037",
     "status": "completed"
    },
    "tags": []
   },
   "outputs": [],
   "source": [
    "from fairness_multiverse.conformal import compute_nc_scores\n",
    "\n",
    "# Compute nonconformity scores on calibration set (1 - probability of true class)\n",
    "nc_scores = compute_nc_scores(probs_calib, y_calib)"
   ]
  },
  {
   "cell_type": "code",
   "execution_count": 51,
   "id": "df3b8ca3-53b7-43d5-9667-7c85da7aeda2",
   "metadata": {
    "execution": {
     "iopub.execute_input": "2025-07-30T13:49:16.962523Z",
     "iopub.status.busy": "2025-07-30T13:49:16.961681Z",
     "iopub.status.idle": "2025-07-30T13:49:16.970149Z",
     "shell.execute_reply": "2025-07-30T13:49:16.969048Z"
    },
    "papermill": {
     "duration": 0.036552,
     "end_time": "2025-07-30T13:49:16.971883",
     "exception": false,
     "start_time": "2025-07-30T13:49:16.935331",
     "status": "completed"
    },
    "tags": []
   },
   "outputs": [],
   "source": [
    "from fairness_multiverse.conformal import find_threshold\n",
    "\n",
    "# Find conformal threshold q_hat for the given alpha (split conformal method)\n",
    "q_hat = find_threshold(nc_scores, alpha)"
   ]
  },
  {
   "cell_type": "code",
   "execution_count": 52,
   "id": "4d29e6c1-0ef6-4aa4-b8fe-4fe79b0d033a",
   "metadata": {
    "execution": {
     "iopub.execute_input": "2025-07-30T13:49:17.022852Z",
     "iopub.status.busy": "2025-07-30T13:49:17.022319Z",
     "iopub.status.idle": "2025-07-30T13:49:17.030667Z",
     "shell.execute_reply": "2025-07-30T13:49:17.029196Z"
    },
    "papermill": {
     "duration": 0.036077,
     "end_time": "2025-07-30T13:49:17.032953",
     "exception": false,
     "start_time": "2025-07-30T13:49:16.996876",
     "status": "completed"
    },
    "tags": []
   },
   "outputs": [
    {
     "data": {
      "text/plain": [
       "0.6599999999999999"
      ]
     },
     "execution_count": 52,
     "metadata": {},
     "output_type": "execute_result"
    }
   ],
   "source": [
    "q_hat"
   ]
  },
  {
   "cell_type": "code",
   "execution_count": 53,
   "id": "92460794-cdac-4be2-ba28-f28c0515a6fb",
   "metadata": {
    "execution": {
     "iopub.execute_input": "2025-07-30T13:49:17.154852Z",
     "iopub.status.busy": "2025-07-30T13:49:17.154140Z",
     "iopub.status.idle": "2025-07-30T13:49:19.131819Z",
     "shell.execute_reply": "2025-07-30T13:49:19.131049Z"
    },
    "papermill": {
     "duration": 2.074687,
     "end_time": "2025-07-30T13:49:19.133309",
     "exception": false,
     "start_time": "2025-07-30T13:49:17.058622",
     "status": "completed"
    },
    "tags": []
   },
   "outputs": [],
   "source": [
    "from fairness_multiverse.conformal import predict_conformal_sets\n",
    "\n",
    "# Generate prediction sets for each test example\n",
    "pred_sets = predict_conformal_sets(model, X_test, q_hat)"
   ]
  },
  {
   "cell_type": "code",
   "execution_count": 54,
   "id": "d90c9a65-e6db-4f5d-80cd-e68fb7e46829",
   "metadata": {
    "execution": {
     "iopub.execute_input": "2025-07-30T13:49:19.161791Z",
     "iopub.status.busy": "2025-07-30T13:49:19.161286Z",
     "iopub.status.idle": "2025-07-30T13:49:19.165977Z",
     "shell.execute_reply": "2025-07-30T13:49:19.165099Z"
    },
    "papermill": {
     "duration": 0.020571,
     "end_time": "2025-07-30T13:49:19.167264",
     "exception": false,
     "start_time": "2025-07-30T13:49:19.146693",
     "status": "completed"
    },
    "tags": []
   },
   "outputs": [],
   "source": [
    "y_true = y_true.squeeze()"
   ]
  },
  {
   "cell_type": "code",
   "execution_count": 55,
   "id": "3a58a54a-1e68-46b9-927a-df01f18aebc8",
   "metadata": {
    "execution": {
     "iopub.execute_input": "2025-07-30T13:49:19.235690Z",
     "iopub.status.busy": "2025-07-30T13:49:19.235182Z",
     "iopub.status.idle": "2025-07-30T13:49:20.281436Z",
     "shell.execute_reply": "2025-07-30T13:49:20.279431Z"
    },
    "papermill": {
     "duration": 1.065708,
     "end_time": "2025-07-30T13:49:20.284935",
     "exception": false,
     "start_time": "2025-07-30T13:49:19.219227",
     "status": "completed"
    },
    "tags": []
   },
   "outputs": [],
   "source": [
    "from fairness_multiverse.conformal import evaluate_sets\n",
    "\n",
    "# Evaluate coverage and average set size on test data\n",
    "metrics = evaluate_sets(pred_sets, y_true)"
   ]
  },
  {
   "cell_type": "markdown",
   "id": "2b569c12-9aaa-4c88-98c9-bbcd0cf3ebb8",
   "metadata": {
    "papermill": {
     "duration": 0.026519,
     "end_time": "2025-07-30T13:49:20.337425",
     "exception": false,
     "start_time": "2025-07-30T13:49:20.310906",
     "status": "completed"
    },
    "tags": []
   },
   "source": [
    "# CP Metrics"
   ]
  },
  {
   "cell_type": "code",
   "execution_count": 56,
   "id": "5ce0a5cb-201f-45a0-ade5-94c7f0bd6095",
   "metadata": {
    "execution": {
     "iopub.execute_input": "2025-07-30T13:49:20.391620Z",
     "iopub.status.busy": "2025-07-30T13:49:20.390703Z",
     "iopub.status.idle": "2025-07-30T13:49:20.398256Z",
     "shell.execute_reply": "2025-07-30T13:49:20.397225Z"
    },
    "papermill": {
     "duration": 0.036109,
     "end_time": "2025-07-30T13:49:20.399995",
     "exception": false,
     "start_time": "2025-07-30T13:49:20.363886",
     "status": "completed"
    },
    "tags": []
   },
   "outputs": [
    {
     "data": {
      "text/plain": [
       "{'coverage': 0.914390814847843, 'avg_size': 1.142503622784528}"
      ]
     },
     "execution_count": 56,
     "metadata": {},
     "output_type": "execute_result"
    }
   ],
   "source": [
    "metrics"
   ]
  },
  {
   "cell_type": "code",
   "execution_count": 57,
   "id": "9b9a838d-31c9-430b-ae14-12baee460d17",
   "metadata": {
    "execution": {
     "iopub.execute_input": "2025-07-30T13:49:20.453840Z",
     "iopub.status.busy": "2025-07-30T13:49:20.452923Z",
     "iopub.status.idle": "2025-07-30T13:49:20.460629Z",
     "shell.execute_reply": "2025-07-30T13:49:20.459385Z"
    },
    "papermill": {
     "duration": 0.035505,
     "end_time": "2025-07-30T13:49:20.462610",
     "exception": false,
     "start_time": "2025-07-30T13:49:20.427105",
     "status": "completed"
    },
    "tags": []
   },
   "outputs": [],
   "source": [
    "example_universe = universe.copy()\n",
    "universe_training_size = example_universe.get(\"training_size\")\n",
    "universe_scale = example_universe.get(\"scale\")\n",
    "universe_model = example_universe.get(\"model\")\n",
    "universe_exclude_features = example_universe.get(\"exclude_features\")\n",
    "universe_exclude_subgroups = example_universe.get(\"exclude_subgroups\")"
   ]
  },
  {
   "cell_type": "code",
   "execution_count": 58,
   "id": "f4b6a8ac-9dc0-4245-8a91-5b3b5999c4f9",
   "metadata": {
    "execution": {
     "iopub.execute_input": "2025-07-30T13:49:20.518761Z",
     "iopub.status.busy": "2025-07-30T13:49:20.518091Z",
     "iopub.status.idle": "2025-07-30T13:49:20.525000Z",
     "shell.execute_reply": "2025-07-30T13:49:20.523907Z"
    },
    "papermill": {
     "duration": 0.036648,
     "end_time": "2025-07-30T13:49:20.526835",
     "exception": false,
     "start_time": "2025-07-30T13:49:20.490187",
     "status": "completed"
    },
    "tags": []
   },
   "outputs": [],
   "source": [
    "cp_metrics_dict = {\n",
    "    \"universe_id\": [universe_id],\n",
    "    \"universe_training_size\": [universe_training_size],\n",
    "    \"universe_scale\": [universe_scale],\n",
    "    \"universe_model\": [universe_model],\n",
    "    \"universe_exclude_features\": [universe_exclude_features],\n",
    "    \"universe_exclude_subgroups\": [universe_exclude_subgroups],\n",
    "    \"q_hat\": [q_hat],\n",
    "    \"coverage\": [metrics[\"coverage\"]],\n",
    "    \"avg_size\": [metrics[\"avg_size\"]],\n",
    "}"
   ]
  },
  {
   "cell_type": "code",
   "execution_count": 59,
   "id": "908acbb1-0371-4915-85ca-3fa520d2efe2",
   "metadata": {
    "execution": {
     "iopub.execute_input": "2025-07-30T13:49:20.580262Z",
     "iopub.status.busy": "2025-07-30T13:49:20.579864Z",
     "iopub.status.idle": "2025-07-30T13:49:20.587496Z",
     "shell.execute_reply": "2025-07-30T13:49:20.586510Z"
    },
    "papermill": {
     "duration": 0.038223,
     "end_time": "2025-07-30T13:49:20.591576",
     "exception": false,
     "start_time": "2025-07-30T13:49:20.553353",
     "status": "completed"
    },
    "tags": []
   },
   "outputs": [
    {
     "data": {
      "text/plain": [
       "{'universe_id': ['cc5ed4b98b65db76369bfefc5bfda7d4'],\n",
       " 'universe_training_size': ['5k'],\n",
       " 'universe_scale': ['do-not-scale'],\n",
       " 'universe_model': ['rf'],\n",
       " 'universe_exclude_features': ['none'],\n",
       " 'universe_exclude_subgroups': ['drop-non-german'],\n",
       " 'q_hat': [0.6599999999999999],\n",
       " 'coverage': [0.914390814847843],\n",
       " 'avg_size': [1.142503622784528]}"
      ]
     },
     "execution_count": 59,
     "metadata": {},
     "output_type": "execute_result"
    }
   ],
   "source": [
    "cp_metrics_dict"
   ]
  },
  {
   "cell_type": "code",
   "execution_count": 60,
   "id": "33007efc-14e9-4ec6-97ac-56a455c82265",
   "metadata": {
    "execution": {
     "iopub.execute_input": "2025-07-30T13:49:20.646438Z",
     "iopub.status.busy": "2025-07-30T13:49:20.646029Z",
     "iopub.status.idle": "2025-07-30T13:49:20.652166Z",
     "shell.execute_reply": "2025-07-30T13:49:20.651278Z"
    },
    "papermill": {
     "duration": 0.035903,
     "end_time": "2025-07-30T13:49:20.654774",
     "exception": false,
     "start_time": "2025-07-30T13:49:20.618871",
     "status": "completed"
    },
    "tags": []
   },
   "outputs": [],
   "source": [
    "cp_metrics_df = pd.DataFrame(cp_metrics_dict)"
   ]
  },
  {
   "cell_type": "code",
   "execution_count": 61,
   "id": "db12611b-57b2-4910-b9d0-355adfd6e7bf",
   "metadata": {
    "execution": {
     "iopub.execute_input": "2025-07-30T13:49:20.709122Z",
     "iopub.status.busy": "2025-07-30T13:49:20.708673Z",
     "iopub.status.idle": "2025-07-30T13:49:20.731348Z",
     "shell.execute_reply": "2025-07-30T13:49:20.730413Z"
    },
    "papermill": {
     "duration": 0.051981,
     "end_time": "2025-07-30T13:49:20.733271",
     "exception": false,
     "start_time": "2025-07-30T13:49:20.681290",
     "status": "completed"
    },
    "tags": []
   },
   "outputs": [
    {
     "data": {
      "text/html": [
       "<div>\n",
       "<style scoped>\n",
       "    .dataframe tbody tr th:only-of-type {\n",
       "        vertical-align: middle;\n",
       "    }\n",
       "\n",
       "    .dataframe tbody tr th {\n",
       "        vertical-align: top;\n",
       "    }\n",
       "\n",
       "    .dataframe thead th {\n",
       "        text-align: right;\n",
       "    }\n",
       "</style>\n",
       "<table border=\"1\" class=\"dataframe\">\n",
       "  <thead>\n",
       "    <tr style=\"text-align: right;\">\n",
       "      <th></th>\n",
       "      <th>universe_id</th>\n",
       "      <th>universe_training_size</th>\n",
       "      <th>universe_scale</th>\n",
       "      <th>universe_model</th>\n",
       "      <th>universe_exclude_features</th>\n",
       "      <th>universe_exclude_subgroups</th>\n",
       "      <th>q_hat</th>\n",
       "      <th>coverage</th>\n",
       "      <th>avg_size</th>\n",
       "    </tr>\n",
       "  </thead>\n",
       "  <tbody>\n",
       "    <tr>\n",
       "      <th>0</th>\n",
       "      <td>cc5ed4b98b65db76369bfefc5bfda7d4</td>\n",
       "      <td>5k</td>\n",
       "      <td>do-not-scale</td>\n",
       "      <td>rf</td>\n",
       "      <td>none</td>\n",
       "      <td>drop-non-german</td>\n",
       "      <td>0.66</td>\n",
       "      <td>0.914391</td>\n",
       "      <td>1.142504</td>\n",
       "    </tr>\n",
       "  </tbody>\n",
       "</table>\n",
       "</div>"
      ],
      "text/plain": [
       "                        universe_id universe_training_size universe_scale  \\\n",
       "0  cc5ed4b98b65db76369bfefc5bfda7d4                     5k   do-not-scale   \n",
       "\n",
       "  universe_model universe_exclude_features universe_exclude_subgroups  q_hat  \\\n",
       "0             rf                      none            drop-non-german   0.66   \n",
       "\n",
       "   coverage  avg_size  \n",
       "0  0.914391  1.142504  "
      ]
     },
     "execution_count": 61,
     "metadata": {},
     "output_type": "execute_result"
    }
   ],
   "source": [
    "cp_metrics_df"
   ]
  },
  {
   "cell_type": "code",
   "execution_count": 62,
   "id": "b7fbde55-a0a1-47e4-9af6-fe4a17fa8c61",
   "metadata": {
    "execution": {
     "iopub.execute_input": "2025-07-30T13:49:20.788910Z",
     "iopub.status.busy": "2025-07-30T13:49:20.788454Z",
     "iopub.status.idle": "2025-07-30T13:49:20.800437Z",
     "shell.execute_reply": "2025-07-30T13:49:20.799404Z"
    },
    "papermill": {
     "duration": 0.042433,
     "end_time": "2025-07-30T13:49:20.802075",
     "exception": false,
     "start_time": "2025-07-30T13:49:20.759642",
     "status": "completed"
    },
    "tags": []
   },
   "outputs": [],
   "source": [
    "# Conditional Coverage & looking at subgroups"
   ]
  },
  {
   "cell_type": "code",
   "execution_count": 63,
   "id": "027ae886-68dd-4141-96c7-805a5450e1ef",
   "metadata": {
    "execution": {
     "iopub.execute_input": "2025-07-30T13:49:20.938992Z",
     "iopub.status.busy": "2025-07-30T13:49:20.938597Z",
     "iopub.status.idle": "2025-07-30T13:49:21.277572Z",
     "shell.execute_reply": "2025-07-30T13:49:21.276125Z"
    },
    "papermill": {
     "duration": 0.434093,
     "end_time": "2025-07-30T13:49:21.279251",
     "exception": false,
     "start_time": "2025-07-30T13:49:20.845158",
     "status": "completed"
    },
    "tags": []
   },
   "outputs": [],
   "source": [
    "from fairness_multiverse.conformal import build_cp_groups\n",
    "\n",
    "cp_groups_df = build_cp_groups(pred_sets, y_true, X_test.index, org_test)\n",
    "#needs universe_id and setting"
   ]
  },
  {
   "cell_type": "code",
   "execution_count": 64,
   "id": "01d5802c-663a-4d1f-9d69-e036faaffbf7",
   "metadata": {
    "execution": {
     "iopub.execute_input": "2025-07-30T13:49:21.351961Z",
     "iopub.status.busy": "2025-07-30T13:49:21.351399Z",
     "iopub.status.idle": "2025-07-30T13:49:21.357646Z",
     "shell.execute_reply": "2025-07-30T13:49:21.356569Z"
    },
    "papermill": {
     "duration": 0.045887,
     "end_time": "2025-07-30T13:49:21.361433",
     "exception": false,
     "start_time": "2025-07-30T13:49:21.315546",
     "status": "completed"
    },
    "tags": []
   },
   "outputs": [],
   "source": [
    "#delete\n",
    "#cp_groups_df"
   ]
  },
  {
   "cell_type": "code",
   "execution_count": 65,
   "id": "fa424af1-d1eb-443d-b717-2d279ada8408",
   "metadata": {
    "execution": {
     "iopub.execute_input": "2025-07-30T13:49:21.423793Z",
     "iopub.status.busy": "2025-07-30T13:49:21.423405Z",
     "iopub.status.idle": "2025-07-30T13:49:21.427813Z",
     "shell.execute_reply": "2025-07-30T13:49:21.426996Z"
    },
    "papermill": {
     "duration": 0.037379,
     "end_time": "2025-07-30T13:49:21.429268",
     "exception": false,
     "start_time": "2025-07-30T13:49:21.391889",
     "status": "completed"
    },
    "tags": []
   },
   "outputs": [],
   "source": [
    "#delete\n",
    "#percentage = (cp_groups_df['nongerman_female'] == 1).mean() * 100\n",
    "#print(percentage)\n"
   ]
  },
  {
   "cell_type": "code",
   "execution_count": 66,
   "id": "6cbdab96-b2b2-45af-ad54-d0516db2e28d",
   "metadata": {
    "execution": {
     "iopub.execute_input": "2025-07-30T13:49:21.486413Z",
     "iopub.status.busy": "2025-07-30T13:49:21.485733Z",
     "iopub.status.idle": "2025-07-30T13:49:23.148170Z",
     "shell.execute_reply": "2025-07-30T13:49:23.147352Z"
    },
    "papermill": {
     "duration": 1.69157,
     "end_time": "2025-07-30T13:49:23.149685",
     "exception": false,
     "start_time": "2025-07-30T13:49:21.458115",
     "status": "completed"
    },
    "tags": []
   },
   "outputs": [],
   "source": [
    "# Define covered = 1 if true_label is in the predicted set\n",
    "cp_groups_df['covered'] = cp_groups_df.apply(\n",
    "    lambda r: int(r['true_label'] in r['pred_set']),\n",
    "    axis=1\n",
    ")"
   ]
  },
  {
   "cell_type": "code",
   "execution_count": 67,
   "id": "338ff529-1a6b-4b87-a931-8e4788d52aad",
   "metadata": {
    "execution": {
     "iopub.execute_input": "2025-07-30T13:49:23.187449Z",
     "iopub.status.busy": "2025-07-30T13:49:23.187107Z",
     "iopub.status.idle": "2025-07-30T13:49:23.192440Z",
     "shell.execute_reply": "2025-07-30T13:49:23.191300Z"
    },
    "papermill": {
     "duration": 0.026727,
     "end_time": "2025-07-30T13:49:23.194232",
     "exception": false,
     "start_time": "2025-07-30T13:49:23.167505",
     "status": "completed"
    },
    "tags": []
   },
   "outputs": [],
   "source": [
    "#cp_groups_df"
   ]
  },
  {
   "cell_type": "code",
   "execution_count": 68,
   "id": "90032e27-66df-4540-9169-4e89cfbaa758",
   "metadata": {
    "execution": {
     "iopub.execute_input": "2025-07-30T13:49:23.251610Z",
     "iopub.status.busy": "2025-07-30T13:49:23.250833Z",
     "iopub.status.idle": "2025-07-30T13:49:23.262841Z",
     "shell.execute_reply": "2025-07-30T13:49:23.261816Z"
    },
    "papermill": {
     "duration": 0.044271,
     "end_time": "2025-07-30T13:49:23.264850",
     "exception": false,
     "start_time": "2025-07-30T13:49:23.220579",
     "status": "completed"
    },
    "tags": []
   },
   "outputs": [],
   "source": [
    "subgroups = ['frau1','nongerman','nongerman_male','nongerman_female']\n",
    "\n",
    "# Conditional coverage for subgroup==1\n",
    "cond_coverage = {\n",
    "    g: cp_groups_df.loc[cp_groups_df[g]==1, 'covered'].mean()\n",
    "    for g in subgroups\n",
    "}"
   ]
  },
  {
   "cell_type": "code",
   "execution_count": 69,
   "id": "1e348fb1-b9c3-45bc-ba23-f016827a7e0d",
   "metadata": {
    "execution": {
     "iopub.execute_input": "2025-07-30T13:49:23.322172Z",
     "iopub.status.busy": "2025-07-30T13:49:23.321666Z",
     "iopub.status.idle": "2025-07-30T13:49:23.329152Z",
     "shell.execute_reply": "2025-07-30T13:49:23.328142Z"
    },
    "papermill": {
     "duration": 0.040716,
     "end_time": "2025-07-30T13:49:23.330861",
     "exception": false,
     "start_time": "2025-07-30T13:49:23.290145",
     "status": "completed"
    },
    "tags": []
   },
   "outputs": [
    {
     "data": {
      "text/plain": [
       "{'frau1': 0.9128723547647931,\n",
       " 'nongerman': 0.9101779599169146,\n",
       " 'nongerman_male': 0.9262361523912456,\n",
       " 'nongerman_female': 0.8836065573770492}"
      ]
     },
     "execution_count": 69,
     "metadata": {},
     "output_type": "execute_result"
    }
   ],
   "source": [
    "cond_coverage"
   ]
  },
  {
   "cell_type": "code",
   "execution_count": 70,
   "id": "f5093324-c3dd-4d63-bc4c-8d945e5c8bbb",
   "metadata": {
    "execution": {
     "iopub.execute_input": "2025-07-30T13:49:23.377525Z",
     "iopub.status.busy": "2025-07-30T13:49:23.376969Z",
     "iopub.status.idle": "2025-07-30T13:49:23.385339Z",
     "shell.execute_reply": "2025-07-30T13:49:23.384214Z"
    },
    "papermill": {
     "duration": 0.042729,
     "end_time": "2025-07-30T13:49:23.390710",
     "exception": false,
     "start_time": "2025-07-30T13:49:23.347981",
     "status": "completed"
    },
    "tags": []
   },
   "outputs": [],
   "source": [
    "for subgroup, cov in cond_coverage.items():\n",
    "    cp_metrics_df[f\"cov_{subgroup}\"] = cov"
   ]
  },
  {
   "cell_type": "code",
   "execution_count": 71,
   "id": "6e872e10-dbe5-49e8-b554-5030c98ff75d",
   "metadata": {
    "execution": {
     "iopub.execute_input": "2025-07-30T13:49:23.452518Z",
     "iopub.status.busy": "2025-07-30T13:49:23.451936Z",
     "iopub.status.idle": "2025-07-30T13:49:23.473028Z",
     "shell.execute_reply": "2025-07-30T13:49:23.471932Z"
    },
    "papermill": {
     "duration": 0.057214,
     "end_time": "2025-07-30T13:49:23.480902",
     "exception": false,
     "start_time": "2025-07-30T13:49:23.423688",
     "status": "completed"
    },
    "tags": []
   },
   "outputs": [
    {
     "data": {
      "text/html": [
       "<div>\n",
       "<style scoped>\n",
       "    .dataframe tbody tr th:only-of-type {\n",
       "        vertical-align: middle;\n",
       "    }\n",
       "\n",
       "    .dataframe tbody tr th {\n",
       "        vertical-align: top;\n",
       "    }\n",
       "\n",
       "    .dataframe thead th {\n",
       "        text-align: right;\n",
       "    }\n",
       "</style>\n",
       "<table border=\"1\" class=\"dataframe\">\n",
       "  <thead>\n",
       "    <tr style=\"text-align: right;\">\n",
       "      <th></th>\n",
       "      <th>universe_id</th>\n",
       "      <th>universe_training_size</th>\n",
       "      <th>universe_scale</th>\n",
       "      <th>universe_model</th>\n",
       "      <th>universe_exclude_features</th>\n",
       "      <th>universe_exclude_subgroups</th>\n",
       "      <th>q_hat</th>\n",
       "      <th>coverage</th>\n",
       "      <th>avg_size</th>\n",
       "      <th>cov_frau1</th>\n",
       "      <th>cov_nongerman</th>\n",
       "      <th>cov_nongerman_male</th>\n",
       "      <th>cov_nongerman_female</th>\n",
       "    </tr>\n",
       "  </thead>\n",
       "  <tbody>\n",
       "    <tr>\n",
       "      <th>0</th>\n",
       "      <td>cc5ed4b98b65db76369bfefc5bfda7d4</td>\n",
       "      <td>5k</td>\n",
       "      <td>do-not-scale</td>\n",
       "      <td>rf</td>\n",
       "      <td>none</td>\n",
       "      <td>drop-non-german</td>\n",
       "      <td>0.66</td>\n",
       "      <td>0.914391</td>\n",
       "      <td>1.142504</td>\n",
       "      <td>0.912872</td>\n",
       "      <td>0.910178</td>\n",
       "      <td>0.926236</td>\n",
       "      <td>0.883607</td>\n",
       "    </tr>\n",
       "  </tbody>\n",
       "</table>\n",
       "</div>"
      ],
      "text/plain": [
       "                        universe_id universe_training_size universe_scale  \\\n",
       "0  cc5ed4b98b65db76369bfefc5bfda7d4                     5k   do-not-scale   \n",
       "\n",
       "  universe_model universe_exclude_features universe_exclude_subgroups  q_hat  \\\n",
       "0             rf                      none            drop-non-german   0.66   \n",
       "\n",
       "   coverage  avg_size  cov_frau1  cov_nongerman  cov_nongerman_male  \\\n",
       "0  0.914391  1.142504   0.912872       0.910178            0.926236   \n",
       "\n",
       "   cov_nongerman_female  \n",
       "0              0.883607  "
      ]
     },
     "execution_count": 71,
     "metadata": {},
     "output_type": "execute_result"
    }
   ],
   "source": [
    "cp_metrics_df"
   ]
  },
  {
   "cell_type": "markdown",
   "id": "33774451",
   "metadata": {
    "papermill": {
     "duration": 0.024649,
     "end_time": "2025-07-30T13:49:23.536755",
     "exception": false,
     "start_time": "2025-07-30T13:49:23.512106",
     "status": "completed"
    },
    "tags": []
   },
   "source": [
    "# (Fairness) Metrics"
   ]
  },
  {
   "cell_type": "code",
   "execution_count": 72,
   "id": "debc5d62",
   "metadata": {
    "execution": {
     "iopub.execute_input": "2025-07-30T13:49:23.598065Z",
     "iopub.status.busy": "2025-07-30T13:49:23.597045Z",
     "iopub.status.idle": "2025-07-30T13:49:23.622193Z",
     "shell.execute_reply": "2025-07-30T13:49:23.621122Z"
    },
    "papermill": {
     "duration": 0.056287,
     "end_time": "2025-07-30T13:49:23.624313",
     "exception": false,
     "start_time": "2025-07-30T13:49:23.568026",
     "status": "completed"
    },
    "tags": []
   },
   "outputs": [],
   "source": [
    "# do I need to include maxdeutsch1.missing?\n",
    "\n",
    "import numpy as np\n",
    "\n",
    "colname_to_bin = \"maxdeutsch1\"\n",
    "majority_value = org_train[colname_to_bin].mode()[0]\n",
    "\n",
    "org_test[\"majmin\"] = np.where(org_test[colname_to_bin] == majority_value, \"majority\", \"minority\")"
   ]
  },
  {
   "cell_type": "code",
   "execution_count": 73,
   "id": "06a50de5",
   "metadata": {
    "execution": {
     "iopub.execute_input": "2025-07-30T13:49:23.682244Z",
     "iopub.status.busy": "2025-07-30T13:49:23.681751Z",
     "iopub.status.idle": "2025-07-30T13:49:26.942278Z",
     "shell.execute_reply": "2025-07-30T13:49:26.941199Z"
    },
    "papermill": {
     "duration": 3.294655,
     "end_time": "2025-07-30T13:49:26.944091",
     "exception": false,
     "start_time": "2025-07-30T13:49:23.649436",
     "status": "completed"
    },
    "tags": []
   },
   "outputs": [],
   "source": [
    "example_universe = universe.copy()\n",
    "example_universe[\"cutoff\"] = example_universe[\"cutoff\"][0]\n",
    "example_universe[\"eval_fairness_grouping\"] = example_universe[\"eval_fairness_grouping\"][0]\n",
    "fairness_dict, metric_frame = universe_analysis.compute_metrics(\n",
    "    example_universe,\n",
    "    y_pred_prob=probs_test,\n",
    "    y_test=y_true,\n",
    "    org_test=org_test,\n",
    ")"
   ]
  },
  {
   "cell_type": "markdown",
   "id": "f95d4e02",
   "metadata": {
    "papermill": {
     "duration": 0.039283,
     "end_time": "2025-07-30T13:49:27.011025",
     "exception": false,
     "start_time": "2025-07-30T13:49:26.971742",
     "status": "completed"
    },
    "tags": []
   },
   "source": [
    "# Overall"
   ]
  },
  {
   "cell_type": "markdown",
   "id": "bdee4871",
   "metadata": {
    "papermill": {
     "duration": 0.024743,
     "end_time": "2025-07-30T13:49:27.082500",
     "exception": false,
     "start_time": "2025-07-30T13:49:27.057757",
     "status": "completed"
    },
    "tags": []
   },
   "source": [
    "Fairness\n",
    "Main fairness target: Equalized Odds. Seems to be a better fit than equal opportunity, since we're not only interested in Y = 1. Seems to be a better fit than demographic parity, since we also care about accuracy, not just equal distribution of preds.\n",
    "\n",
    "Pick column for computation of fairness metrics\n",
    "\n",
    "Performance\n",
    "Overall performance measures, most interesting in relation to the measures split by group below"
   ]
  },
  {
   "cell_type": "code",
   "execution_count": 74,
   "id": "c4e067c6",
   "metadata": {
    "execution": {
     "iopub.execute_input": "2025-07-30T13:49:27.144730Z",
     "iopub.status.busy": "2025-07-30T13:49:27.144274Z",
     "iopub.status.idle": "2025-07-30T13:49:27.153903Z",
     "shell.execute_reply": "2025-07-30T13:49:27.152874Z"
    },
    "papermill": {
     "duration": 0.042697,
     "end_time": "2025-07-30T13:49:27.155698",
     "exception": false,
     "start_time": "2025-07-30T13:49:27.113001",
     "status": "completed"
    },
    "tags": []
   },
   "outputs": [
    {
     "data": {
      "text/plain": [
       "accuracy                   0.201037\n",
       "balanced accuracy          0.535136\n",
       "f1                         0.240208\n",
       "precision                  0.136791\n",
       "false positive rate        0.914261\n",
       "false negative rate        0.015468\n",
       "selection rate             0.923275\n",
       "count                  89710.000000\n",
       "dtype: float64"
      ]
     },
     "execution_count": 74,
     "metadata": {},
     "output_type": "execute_result"
    }
   ],
   "source": [
    "metric_frame.overall"
   ]
  },
  {
   "cell_type": "markdown",
   "id": "e968fe9d",
   "metadata": {
    "papermill": {
     "duration": 0.035047,
     "end_time": "2025-07-30T13:49:27.223866",
     "exception": false,
     "start_time": "2025-07-30T13:49:27.188819",
     "status": "completed"
    },
    "tags": []
   },
   "source": [
    "By Group"
   ]
  },
  {
   "cell_type": "code",
   "execution_count": 75,
   "id": "ec325bce",
   "metadata": {
    "execution": {
     "iopub.execute_input": "2025-07-30T13:49:27.289970Z",
     "iopub.status.busy": "2025-07-30T13:49:27.289375Z",
     "iopub.status.idle": "2025-07-30T13:49:27.310721Z",
     "shell.execute_reply": "2025-07-30T13:49:27.309461Z"
    },
    "papermill": {
     "duration": 0.0541,
     "end_time": "2025-07-30T13:49:27.312384",
     "exception": false,
     "start_time": "2025-07-30T13:49:27.258284",
     "status": "completed"
    },
    "tags": []
   },
   "outputs": [
    {
     "data": {
      "text/html": [
       "<div>\n",
       "<style scoped>\n",
       "    .dataframe tbody tr th:only-of-type {\n",
       "        vertical-align: middle;\n",
       "    }\n",
       "\n",
       "    .dataframe tbody tr th {\n",
       "        vertical-align: top;\n",
       "    }\n",
       "\n",
       "    .dataframe thead th {\n",
       "        text-align: right;\n",
       "    }\n",
       "</style>\n",
       "<table border=\"1\" class=\"dataframe\">\n",
       "  <thead>\n",
       "    <tr style=\"text-align: right;\">\n",
       "      <th></th>\n",
       "      <th>accuracy</th>\n",
       "      <th>balanced accuracy</th>\n",
       "      <th>f1</th>\n",
       "      <th>precision</th>\n",
       "      <th>false positive rate</th>\n",
       "      <th>false negative rate</th>\n",
       "      <th>selection rate</th>\n",
       "      <th>count</th>\n",
       "    </tr>\n",
       "    <tr>\n",
       "      <th>majmin</th>\n",
       "      <th></th>\n",
       "      <th></th>\n",
       "      <th></th>\n",
       "      <th></th>\n",
       "      <th></th>\n",
       "      <th></th>\n",
       "      <th></th>\n",
       "      <th></th>\n",
       "    </tr>\n",
       "  </thead>\n",
       "  <tbody>\n",
       "    <tr>\n",
       "      <th>majority</th>\n",
       "      <td>0.207055</td>\n",
       "      <td>0.538385</td>\n",
       "      <td>0.247854</td>\n",
       "      <td>0.141686</td>\n",
       "      <td>0.911961</td>\n",
       "      <td>0.011269</td>\n",
       "      <td>0.922105</td>\n",
       "      <td>69170.0</td>\n",
       "    </tr>\n",
       "    <tr>\n",
       "      <th>minority</th>\n",
       "      <td>0.180769</td>\n",
       "      <td>0.523235</td>\n",
       "      <td>0.214169</td>\n",
       "      <td>0.120399</td>\n",
       "      <td>0.921858</td>\n",
       "      <td>0.031672</td>\n",
       "      <td>0.927215</td>\n",
       "      <td>20540.0</td>\n",
       "    </tr>\n",
       "  </tbody>\n",
       "</table>\n",
       "</div>"
      ],
      "text/plain": [
       "          accuracy  balanced accuracy        f1  precision  \\\n",
       "majmin                                                       \n",
       "majority  0.207055           0.538385  0.247854   0.141686   \n",
       "minority  0.180769           0.523235  0.214169   0.120399   \n",
       "\n",
       "          false positive rate  false negative rate  selection rate    count  \n",
       "majmin                                                                       \n",
       "majority             0.911961             0.011269        0.922105  69170.0  \n",
       "minority             0.921858             0.031672        0.927215  20540.0  "
      ]
     },
     "execution_count": 75,
     "metadata": {},
     "output_type": "execute_result"
    }
   ],
   "source": [
    "metric_frame.by_group"
   ]
  },
  {
   "cell_type": "code",
   "execution_count": 76,
   "id": "a9ddbe63",
   "metadata": {
    "execution": {
     "iopub.execute_input": "2025-07-30T13:49:27.404833Z",
     "iopub.status.busy": "2025-07-30T13:49:27.404443Z",
     "iopub.status.idle": "2025-07-30T13:49:30.216091Z",
     "shell.execute_reply": "2025-07-30T13:49:30.215159Z"
    },
    "papermill": {
     "duration": 2.87096,
     "end_time": "2025-07-30T13:49:30.222146",
     "exception": false,
     "start_time": "2025-07-30T13:49:27.351186",
     "status": "completed"
    },
    "tags": []
   },
   "outputs": [
    {
     "data": {
      "text/plain": [
       "array([[<Axes: title={'center': 'accuracy'}, xlabel='majmin'>,\n",
       "        <Axes: title={'center': 'balanced accuracy'}, xlabel='majmin'>,\n",
       "        <Axes: title={'center': 'f1'}, xlabel='majmin'>],\n",
       "       [<Axes: title={'center': 'precision'}, xlabel='majmin'>,\n",
       "        <Axes: title={'center': 'false positive rate'}, xlabel='majmin'>,\n",
       "        <Axes: title={'center': 'false negative rate'}, xlabel='majmin'>],\n",
       "       [<Axes: title={'center': 'selection rate'}, xlabel='majmin'>,\n",
       "        <Axes: title={'center': 'count'}, xlabel='majmin'>,\n",
       "        <Axes: xlabel='majmin'>]], dtype=object)"
      ]
     },
     "execution_count": 76,
     "metadata": {},
     "output_type": "execute_result"
    },
    {
     "data": {
      "image/png": "[encoded data removed]",
      "text/plain": [
       "<Figure size 1200x800 with 9 Axes>"
      ]
     },
     "metadata": {},
     "output_type": "display_data"
    }
   ],
   "source": [
    "# In a graphic\n",
    "metric_frame.by_group.plot.bar(\n",
    "    subplots=True,\n",
    "    layout=[3, 3],\n",
    "    legend=False,\n",
    "    figsize=[12, 8],\n",
    "    title=\"Show all metrics\",\n",
    ")"
   ]
  },
  {
   "cell_type": "markdown",
   "id": "f57a0bac",
   "metadata": {
    "papermill": {
     "duration": 0.028676,
     "end_time": "2025-07-30T13:49:30.273857",
     "exception": false,
     "start_time": "2025-07-30T13:49:30.245181",
     "status": "completed"
    },
    "tags": []
   },
   "source": [
    "# Final Output"
   ]
  },
  {
   "cell_type": "code",
   "execution_count": 77,
   "id": "96d280a3",
   "metadata": {
    "execution": {
     "iopub.execute_input": "2025-07-30T13:49:30.336874Z",
     "iopub.status.busy": "2025-07-30T13:49:30.336412Z",
     "iopub.status.idle": "2025-07-30T13:49:30.344791Z",
     "shell.execute_reply": "2025-07-30T13:49:30.343680Z"
    },
    "papermill": {
     "duration": 0.041189,
     "end_time": "2025-07-30T13:49:30.348595",
     "exception": false,
     "start_time": "2025-07-30T13:49:30.307406",
     "status": "completed"
    },
    "tags": []
   },
   "outputs": [
    {
     "data": {
      "text/plain": [
       "4"
      ]
     },
     "execution_count": 77,
     "metadata": {},
     "output_type": "execute_result"
    }
   ],
   "source": [
    "sub_universes = universe_analysis.generate_sub_universes()\n",
    "len(sub_universes)"
   ]
  },
  {
   "cell_type": "code",
   "execution_count": 78,
   "id": "92adf7ba",
   "metadata": {
    "execution": {
     "iopub.execute_input": "2025-07-30T13:49:30.416388Z",
     "iopub.status.busy": "2025-07-30T13:49:30.415900Z",
     "iopub.status.idle": "2025-07-30T13:49:30.422943Z",
     "shell.execute_reply": "2025-07-30T13:49:30.421792Z"
    },
    "papermill": {
     "duration": 0.045116,
     "end_time": "2025-07-30T13:49:30.426157",
     "exception": false,
     "start_time": "2025-07-30T13:49:30.381041",
     "status": "completed"
    },
    "tags": []
   },
   "outputs": [],
   "source": [
    "def filter_sub_universe_data(sub_universe, org_test):\n",
    "    # Keep all rows — no filtering\n",
    "    keep_rows_mask = np.ones(org_test.shape[0], dtype=bool)\n",
    "\n",
    "    print(f\"[INFO] Keeping all rows: {keep_rows_mask.sum()} rows retained.\")\n",
    "    return keep_rows_mask"
   ]
  },
  {
   "cell_type": "code",
   "execution_count": 79,
   "id": "4a759155",
   "metadata": {
    "execution": {
     "iopub.execute_input": "2025-07-30T13:49:30.492477Z",
     "iopub.status.busy": "2025-07-30T13:49:30.491914Z",
     "iopub.status.idle": "2025-07-30T13:49:39.974751Z",
     "shell.execute_reply": "2025-07-30T13:49:39.974040Z"
    },
    "papermill": {
     "duration": 9.51653,
     "end_time": "2025-07-30T13:49:39.976004",
     "exception": false,
     "start_time": "2025-07-30T13:49:30.459474",
     "status": "completed"
    },
    "tags": []
   },
   "outputs": [
    {
     "name": "stdout",
     "output_type": "stream",
     "text": [
      "Stopping execution_time clock.\n",
      "[INFO] Keeping all rows: 89710 rows retained.\n"
     ]
    },
    {
     "name": "stdout",
     "output_type": "stream",
     "text": [
      "[INFO] Keeping all rows: 89710 rows retained.\n"
     ]
    },
    {
     "name": "stdout",
     "output_type": "stream",
     "text": [
      "[INFO] Keeping all rows: 89710 rows retained.\n"
     ]
    },
    {
     "name": "stdout",
     "output_type": "stream",
     "text": [
      "[INFO] Keeping all rows: 89710 rows retained.\n"
     ]
    },
    {
     "data": {
      "text/html": [
       "<div>\n",
       "<style scoped>\n",
       "    .dataframe tbody tr th:only-of-type {\n",
       "        vertical-align: middle;\n",
       "    }\n",
       "\n",
       "    .dataframe tbody tr th {\n",
       "        vertical-align: top;\n",
       "    }\n",
       "\n",
       "    .dataframe thead th {\n",
       "        text-align: right;\n",
       "    }\n",
       "</style>\n",
       "<table border=\"1\" class=\"dataframe\">\n",
       "  <thead>\n",
       "    <tr style=\"text-align: right;\">\n",
       "      <th></th>\n",
       "      <th>run_no</th>\n",
       "      <th>universe_id</th>\n",
       "      <th>universe_settings</th>\n",
       "      <th>execution_time</th>\n",
       "      <th>test_size_n</th>\n",
       "      <th>test_size_frac</th>\n",
       "      <th>fair_main_equalized_odds_difference</th>\n",
       "      <th>fair_main_equalized_odds_ratio</th>\n",
       "      <th>fair_main_demographic_parity_difference</th>\n",
       "      <th>fair_main_demographic_parity_ratio</th>\n",
       "      <th>...</th>\n",
       "      <th>perf_grp_precision_0</th>\n",
       "      <th>perf_grp_precision_1</th>\n",
       "      <th>perf_grp_false positive rate_0</th>\n",
       "      <th>perf_grp_false positive rate_1</th>\n",
       "      <th>perf_grp_false negative rate_0</th>\n",
       "      <th>perf_grp_false negative rate_1</th>\n",
       "      <th>perf_grp_selection rate_0</th>\n",
       "      <th>perf_grp_selection rate_1</th>\n",
       "      <th>perf_grp_count_0</th>\n",
       "      <th>perf_grp_count_1</th>\n",
       "    </tr>\n",
       "  </thead>\n",
       "  <tbody>\n",
       "    <tr>\n",
       "      <th>0</th>\n",
       "      <td>12</td>\n",
       "      <td>cc5ed4b98b65db76369bfefc5bfda7d4</td>\n",
       "      <td>{\"cutoff\": \"quantile_0.1\", \"eval_fairness_grou...</td>\n",
       "      <td>32.129251</td>\n",
       "      <td>89710</td>\n",
       "      <td>1.0</td>\n",
       "      <td>0.020403</td>\n",
       "      <td>0.979364</td>\n",
       "      <td>0.005110</td>\n",
       "      <td>0.994489</td>\n",
       "      <td>...</td>\n",
       "      <td>NaN</td>\n",
       "      <td>NaN</td>\n",
       "      <td>NaN</td>\n",
       "      <td>NaN</td>\n",
       "      <td>NaN</td>\n",
       "      <td>NaN</td>\n",
       "      <td>NaN</td>\n",
       "      <td>NaN</td>\n",
       "      <td>NaN</td>\n",
       "      <td>NaN</td>\n",
       "    </tr>\n",
       "    <tr>\n",
       "      <th>0</th>\n",
       "      <td>12</td>\n",
       "      <td>cc5ed4b98b65db76369bfefc5bfda7d4</td>\n",
       "      <td>{\"cutoff\": \"quantile_0.1\", \"eval_fairness_grou...</td>\n",
       "      <td>32.129251</td>\n",
       "      <td>89710</td>\n",
       "      <td>1.0</td>\n",
       "      <td>0.020403</td>\n",
       "      <td>0.979364</td>\n",
       "      <td>0.005110</td>\n",
       "      <td>0.994489</td>\n",
       "      <td>...</td>\n",
       "      <td>0.120399</td>\n",
       "      <td>0.141686</td>\n",
       "      <td>0.921858</td>\n",
       "      <td>0.911961</td>\n",
       "      <td>0.031672</td>\n",
       "      <td>0.011269</td>\n",
       "      <td>0.927215</td>\n",
       "      <td>0.922105</td>\n",
       "      <td>20540.0</td>\n",
       "      <td>69170.0</td>\n",
       "    </tr>\n",
       "    <tr>\n",
       "      <th>0</th>\n",
       "      <td>12</td>\n",
       "      <td>cc5ed4b98b65db76369bfefc5bfda7d4</td>\n",
       "      <td>{\"cutoff\": \"quantile_0.25\", \"eval_fairness_gro...</td>\n",
       "      <td>32.129251</td>\n",
       "      <td>89710</td>\n",
       "      <td>1.0</td>\n",
       "      <td>0.059020</td>\n",
       "      <td>0.937405</td>\n",
       "      <td>0.000339</td>\n",
       "      <td>0.999553</td>\n",
       "      <td>...</td>\n",
       "      <td>NaN</td>\n",
       "      <td>NaN</td>\n",
       "      <td>NaN</td>\n",
       "      <td>NaN</td>\n",
       "      <td>NaN</td>\n",
       "      <td>NaN</td>\n",
       "      <td>NaN</td>\n",
       "      <td>NaN</td>\n",
       "      <td>NaN</td>\n",
       "      <td>NaN</td>\n",
       "    </tr>\n",
       "    <tr>\n",
       "      <th>0</th>\n",
       "      <td>12</td>\n",
       "      <td>cc5ed4b98b65db76369bfefc5bfda7d4</td>\n",
       "      <td>{\"cutoff\": \"quantile_0.25\", \"eval_fairness_gro...</td>\n",
       "      <td>32.129251</td>\n",
       "      <td>89710</td>\n",
       "      <td>1.0</td>\n",
       "      <td>0.059020</td>\n",
       "      <td>0.937405</td>\n",
       "      <td>0.000339</td>\n",
       "      <td>0.999553</td>\n",
       "      <td>...</td>\n",
       "      <td>0.134442</td>\n",
       "      <td>0.164456</td>\n",
       "      <td>0.741525</td>\n",
       "      <td>0.729385</td>\n",
       "      <td>0.116132</td>\n",
       "      <td>0.057112</td>\n",
       "      <td>0.757936</td>\n",
       "      <td>0.757597</td>\n",
       "      <td>20540.0</td>\n",
       "      <td>69170.0</td>\n",
       "    </tr>\n",
       "  </tbody>\n",
       "</table>\n",
       "<p>4 rows × 50 columns</p>\n",
       "</div>"
      ],
      "text/plain": [
       "  run_no                       universe_id  \\\n",
       "0     12  cc5ed4b98b65db76369bfefc5bfda7d4   \n",
       "0     12  cc5ed4b98b65db76369bfefc5bfda7d4   \n",
       "0     12  cc5ed4b98b65db76369bfefc5bfda7d4   \n",
       "0     12  cc5ed4b98b65db76369bfefc5bfda7d4   \n",
       "\n",
       "                                   universe_settings  execution_time  \\\n",
       "0  {\"cutoff\": \"quantile_0.1\", \"eval_fairness_grou...       32.129251   \n",
       "0  {\"cutoff\": \"quantile_0.1\", \"eval_fairness_grou...       32.129251   \n",
       "0  {\"cutoff\": \"quantile_0.25\", \"eval_fairness_gro...       32.129251   \n",
       "0  {\"cutoff\": \"quantile_0.25\", \"eval_fairness_gro...       32.129251   \n",
       "\n",
       "   test_size_n  test_size_frac  fair_main_equalized_odds_difference  \\\n",
       "0        89710             1.0                             0.020403   \n",
       "0        89710             1.0                             0.020403   \n",
       "0        89710             1.0                             0.059020   \n",
       "0        89710             1.0                             0.059020   \n",
       "\n",
       "   fair_main_equalized_odds_ratio  fair_main_demographic_parity_difference  \\\n",
       "0                        0.979364                                 0.005110   \n",
       "0                        0.979364                                 0.005110   \n",
       "0                        0.937405                                 0.000339   \n",
       "0                        0.937405                                 0.000339   \n",
       "\n",
       "   fair_main_demographic_parity_ratio  ...  perf_grp_precision_0  \\\n",
       "0                            0.994489  ...                   NaN   \n",
       "0                            0.994489  ...              0.120399   \n",
       "0                            0.999553  ...                   NaN   \n",
       "0                            0.999553  ...              0.134442   \n",
       "\n",
       "   perf_grp_precision_1  perf_grp_false positive rate_0  \\\n",
       "0                   NaN                             NaN   \n",
       "0              0.141686                        0.921858   \n",
       "0                   NaN                             NaN   \n",
       "0              0.164456                        0.741525   \n",
       "\n",
       "   perf_grp_false positive rate_1  perf_grp_false negative rate_0  \\\n",
       "0                             NaN                             NaN   \n",
       "0                        0.911961                        0.031672   \n",
       "0                             NaN                             NaN   \n",
       "0                        0.729385                        0.116132   \n",
       "\n",
       "   perf_grp_false negative rate_1  perf_grp_selection rate_0  \\\n",
       "0                             NaN                        NaN   \n",
       "0                        0.011269                   0.927215   \n",
       "0                             NaN                        NaN   \n",
       "0                        0.057112                   0.757936   \n",
       "\n",
       "   perf_grp_selection rate_1  perf_grp_count_0  perf_grp_count_1  \n",
       "0                        NaN               NaN               NaN  \n",
       "0                   0.922105           20540.0           69170.0  \n",
       "0                        NaN               NaN               NaN  \n",
       "0                   0.757597           20540.0           69170.0  \n",
       "\n",
       "[4 rows x 50 columns]"
      ]
     },
     "execution_count": 79,
     "metadata": {},
     "output_type": "execute_result"
    }
   ],
   "source": [
    "final_output = universe_analysis.generate_final_output(\n",
    "    y_pred_prob=probs_test,\n",
    "    y_test=y_true,\n",
    "    org_test=org_test,\n",
    "    filter_data=filter_sub_universe_data,\n",
    "    cp_metrics_df=cp_metrics_df,\n",
    "    save=True,\n",
    ")\n",
    "final_output"
   ]
  },
  {
   "cell_type": "code",
   "execution_count": null,
   "id": "721ff514-cb11-46f8-b6fc-50392f74b5cb",
   "metadata": {
    "papermill": {
     "duration": 0.021378,
     "end_time": "2025-07-30T13:49:40.016495",
     "exception": false,
     "start_time": "2025-07-30T13:49:39.995117",
     "status": "completed"
    },
    "tags": []
   },
   "outputs": [],
   "source": []
  }
 ],
 "metadata": {
  "celltoolbar": "Tags",
  "kernelspec": {
   "display_name": "Python (CMA Fairness)",
   "language": "python",
   "name": "cma_fair_env"
  },
  "language_info": {
   "codemirror_mode": {
    "name": "ipython",
    "version": 3
   },
   "file_extension": ".py",
   "mimetype": "text/x-python",
   "name": "python",
   "nbconvert_exporter": "python",
   "pygments_lexer": "ipython3",
   "version": "3.10.12"
  },
  "papermill": {
   "default_parameters": {},
   "duration": 46.065974,
   "end_time": "2025-07-30T13:49:40.765778",
   "environment_variables": {},
   "exception": null,
   "input_path": "universe_analysis.ipynb",
   "output_path": "output/runs/12/notebooks/m_12-cc5ed4b98b65db76369bfefc5bfda7d4.ipynb",
   "parameters": {
    "output_dir": "output",
    "run_no": "12",
    "seed": "2023",
    "universe": "{\"cutoff\": [\"quantile_0.1\", \"quantile_0.25\"], \"eval_fairness_grouping\": [\"majority-minority\", \"nationality-all\"], \"exclude_features\": \"none\", \"exclude_subgroups\": \"drop-non-german\", \"model\": \"rf\", \"scale\": \"do-not-scale\", \"training_size\": \"5k\", \"training_year\": \"2014\"}",
    "universe_id": "cc5ed4b98b65db76369bfefc5bfda7d4"
   },
   "start_time": "2025-07-30T13:48:54.699804",
   "version": "2.6.0"
  }
 },
 "nbformat": 4,
 "nbformat_minor": 5
}