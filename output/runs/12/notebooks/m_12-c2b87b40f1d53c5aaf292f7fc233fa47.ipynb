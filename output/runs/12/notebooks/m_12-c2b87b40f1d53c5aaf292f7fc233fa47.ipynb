{
 "cells": [
  {
   "cell_type": "code",
   "execution_count": 1,
   "id": "f159f837-637b-42ba-96b5-ec9a68c44524",
   "metadata": {
    "execution": {
     "iopub.execute_input": "2025-07-30T14:08:01.685625Z",
     "iopub.status.busy": "2025-07-30T14:08:01.685173Z",
     "iopub.status.idle": "2025-07-30T14:08:01.698134Z",
     "shell.execute_reply": "2025-07-30T14:08:01.697203Z"
    },
    "papermill": {
     "duration": 0.036778,
     "end_time": "2025-07-30T14:08:01.699730",
     "exception": false,
     "start_time": "2025-07-30T14:08:01.662952",
     "status": "completed"
    },
    "tags": []
   },
   "outputs": [
    {
     "name": "stdout",
     "output_type": "stream",
     "text": [
      "/dss/dsshome1/0C/ra93lal2/cma/CMA_Fairness_v2\n"
     ]
    },
    {
     "name": "stderr",
     "output_type": "stream",
     "text": [
      "/dss/dsshome1/0C/ra93lal2/.local/share/virtualenvs/CMA_Fairness_v2-3j10GkSs/lib/python3.10/site-packages/IPython/core/magics/osm.py:393: UserWarning: This is now an optional IPython functionality, using bookmarks requires you to install the `pickleshare` library.\n",
      "  bkms = self.shell.db.get('bookmarks', {})\n",
      "/dss/dsshome1/0C/ra93lal2/.local/share/virtualenvs/CMA_Fairness_v2-3j10GkSs/lib/python3.10/site-packages/IPython/core/magics/osm.py:417: UserWarning: This is now an optional IPython functionality, setting dhist requires you to install the `pickleshare` library.\n",
      "  self.shell.db['dhist'] = compress_dhist(dhist)[-100:]\n"
     ]
    }
   ],
   "source": [
    "%cd ~/cma/CMA_Fairness_v2"
   ]
  },
  {
   "cell_type": "markdown",
   "id": "de2603b9",
   "metadata": {
    "papermill": {
     "duration": 0.018448,
     "end_time": "2025-07-30T14:08:01.738003",
     "exception": false,
     "start_time": "2025-07-30T14:08:01.719555",
     "status": "completed"
    },
    "tags": []
   },
   "source": [
    "The following cell holds the definition of our parameters, these values can be overriden by rendering the with e.g. the following command:\n",
    "\n",
    "papermill -p alpha 0.2 -p ratio 0.3 universe_analysis.ipynb output/test_run.ipynb"
   ]
  },
  {
   "cell_type": "code",
   "execution_count": 2,
   "id": "a80968a0-40bb-4fa9-85ef-2d5eefb01975",
   "metadata": {
    "execution": {
     "iopub.execute_input": "2025-07-30T14:08:01.778231Z",
     "iopub.status.busy": "2025-07-30T14:08:01.777763Z",
     "iopub.status.idle": "2025-07-30T14:08:01.783032Z",
     "shell.execute_reply": "2025-07-30T14:08:01.782110Z"
    },
    "papermill": {
     "duration": 0.027823,
     "end_time": "2025-07-30T14:08:01.784640",
     "exception": false,
     "start_time": "2025-07-30T14:08:01.756817",
     "status": "completed"
    },
    "tags": []
   },
   "outputs": [
    {
     "name": "stdout",
     "output_type": "stream",
     "text": [
      "Current working directory: /dss/dsshome1/0C/ra93lal2/cma/CMA_Fairness_v2\n"
     ]
    }
   ],
   "source": [
    "import os\n",
    "print(\"Current working directory:\", os.getcwd())"
   ]
  },
  {
   "cell_type": "code",
   "execution_count": 3,
   "id": "2dce4c03",
   "metadata": {
    "execution": {
     "iopub.execute_input": "2025-07-30T14:08:01.825831Z",
     "iopub.status.busy": "2025-07-30T14:08:01.825402Z",
     "iopub.status.idle": "2025-07-30T14:08:01.831965Z",
     "shell.execute_reply": "2025-07-30T14:08:01.831131Z"
    },
    "papermill": {
     "duration": 0.029637,
     "end_time": "2025-07-30T14:08:01.833429",
     "exception": false,
     "start_time": "2025-07-30T14:08:01.803792",
     "status": "completed"
    },
    "tags": [
     "parameters"
    ]
   },
   "outputs": [],
   "source": [
    "run_no = 0\n",
    "universe_id = \"test\"\n",
    "universe = {\n",
    "    \"training_size\": \"25k\", # \"25k\", \"5k\", \"1k\"\n",
    "    \"training_year\": \"2014\", # \"2014\", \"2012_14\", \"2010_14\"\n",
    "    \"scale\": \"scale\", # \"scale\", \"do-not-scale\",\n",
    "    #\"stratify_split\": \"target\", # \"none\", \"target\", \"protected-attribute\", \"both\",\n",
    "    \"model\": \"elasticnet\", # \"logreg\", \"penalized_logreg\", \"rf\", \"gbm\", \"elasticnet\"\n",
    "    \"cutoff\": [\"quantile_0.15\", \"quantile_0.30\"],\n",
    "    \"exclude_features\": \"age\", # \"none\", \"nationality\", \"sex\", \"nationality-sex\", \"age\"\n",
    "    \"exclude_subgroups\": \"keep-all\", # \"keep-all\", \"drop-non-german\"\n",
    "    \"eval_fairness_grouping\": [\"majority-minority\", \"nationality-all\"]\n",
    "}\n",
    "\n",
    "output_dir=\"./output\"\n",
    "seed=0"
   ]
  },
  {
   "cell_type": "code",
   "execution_count": 4,
   "id": "1c436121",
   "metadata": {
    "execution": {
     "iopub.execute_input": "2025-07-30T14:08:01.873255Z",
     "iopub.status.busy": "2025-07-30T14:08:01.872635Z",
     "iopub.status.idle": "2025-07-30T14:08:01.878102Z",
     "shell.execute_reply": "2025-07-30T14:08:01.877252Z"
    },
    "papermill": {
     "duration": 0.027009,
     "end_time": "2025-07-30T14:08:01.879750",
     "exception": false,
     "start_time": "2025-07-30T14:08:01.852741",
     "status": "completed"
    },
    "tags": [
     "injected-parameters"
    ]
   },
   "outputs": [],
   "source": [
    "# Parameters\n",
    "universe_id = \"c2b87b40f1d53c5aaf292f7fc233fa47\"\n",
    "run_no = \"12\"\n",
    "universe = \"{\\\"cutoff\\\": [\\\"quantile_0.1\\\", \\\"quantile_0.25\\\"], \\\"eval_fairness_grouping\\\": [\\\"majority-minority\\\", \\\"nationality-all\\\"], \\\"exclude_features\\\": \\\"none\\\", \\\"exclude_subgroups\\\": \\\"keep-all\\\", \\\"model\\\": \\\"rf\\\", \\\"scale\\\": \\\"scale\\\", \\\"training_size\\\": \\\"5k\\\", \\\"training_year\\\": \\\"2010_14\\\"}\"\n",
    "output_dir = \"output\"\n",
    "seed = \"2023\"\n"
   ]
  },
  {
   "cell_type": "code",
   "execution_count": 5,
   "id": "1650acaf",
   "metadata": {
    "execution": {
     "iopub.execute_input": "2025-07-30T14:08:01.921959Z",
     "iopub.status.busy": "2025-07-30T14:08:01.921133Z",
     "iopub.status.idle": "2025-07-30T14:08:01.926158Z",
     "shell.execute_reply": "2025-07-30T14:08:01.925251Z"
    },
    "papermill": {
     "duration": 0.028726,
     "end_time": "2025-07-30T14:08:01.927915",
     "exception": false,
     "start_time": "2025-07-30T14:08:01.899189",
     "status": "completed"
    },
    "tags": []
   },
   "outputs": [],
   "source": [
    "import json\n",
    "# Parse universe into dict if it is passed as a string\n",
    "if isinstance(universe, str):\n",
    "    universe = json.loads(universe)"
   ]
  },
  {
   "cell_type": "code",
   "execution_count": 6,
   "id": "16620c48",
   "metadata": {
    "execution": {
     "iopub.execute_input": "2025-07-30T14:08:01.970179Z",
     "iopub.status.busy": "2025-07-30T14:08:01.969026Z",
     "iopub.status.idle": "2025-07-30T14:08:02.014738Z",
     "shell.execute_reply": "2025-07-30T14:08:02.013823Z"
    },
    "papermill": {
     "duration": 0.068886,
     "end_time": "2025-07-30T14:08:02.016646",
     "exception": false,
     "start_time": "2025-07-30T14:08:01.947760",
     "status": "completed"
    },
    "tags": []
   },
   "outputs": [],
   "source": [
    "# Auto-reload the custom package\n",
    "%load_ext autoreload\n",
    "%autoreload 1\n",
    "%aimport fairness_multiverse"
   ]
  },
  {
   "cell_type": "code",
   "execution_count": 7,
   "id": "01c5c9f3",
   "metadata": {
    "execution": {
     "iopub.execute_input": "2025-07-30T14:08:02.057015Z",
     "iopub.status.busy": "2025-07-30T14:08:02.056389Z",
     "iopub.status.idle": "2025-07-30T14:08:04.229360Z",
     "shell.execute_reply": "2025-07-30T14:08:04.228229Z"
    },
    "papermill": {
     "duration": 2.195981,
     "end_time": "2025-07-30T14:08:04.231606",
     "exception": false,
     "start_time": "2025-07-30T14:08:02.035625",
     "status": "completed"
    },
    "tags": []
   },
   "outputs": [],
   "source": [
    "from fairness_multiverse.universe import UniverseAnalysis\n",
    "\n",
    "universe_analysis = UniverseAnalysis(\n",
    "    run_no = run_no,\n",
    "    universe_id = universe_id,\n",
    "    universe = universe,\n",
    "    output_dir=output_dir,\n",
    ")"
   ]
  },
  {
   "cell_type": "code",
   "execution_count": 8,
   "id": "106241f5",
   "metadata": {
    "execution": {
     "iopub.execute_input": "2025-07-30T14:08:04.305994Z",
     "iopub.status.busy": "2025-07-30T14:08:04.305431Z",
     "iopub.status.idle": "2025-07-30T14:08:04.315155Z",
     "shell.execute_reply": "2025-07-30T14:08:04.314242Z"
    },
    "papermill": {
     "duration": 0.064217,
     "end_time": "2025-07-30T14:08:04.316533",
     "exception": false,
     "start_time": "2025-07-30T14:08:04.252316",
     "status": "completed"
    },
    "tags": []
   },
   "outputs": [
    {
     "name": "stdout",
     "output_type": "stream",
     "text": [
      "Using Seed: 2023\n"
     ]
    }
   ],
   "source": [
    "import numpy as np\n",
    "parsed_seed = int(seed)\n",
    "np.random.seed(parsed_seed)\n",
    "print(f\"Using Seed: {parsed_seed}\")"
   ]
  },
  {
   "cell_type": "markdown",
   "id": "e0ebdc57",
   "metadata": {
    "papermill": {
     "duration": 0.011798,
     "end_time": "2025-07-30T14:08:04.345683",
     "exception": false,
     "start_time": "2025-07-30T14:08:04.333885",
     "status": "completed"
    },
    "tags": []
   },
   "source": [
    "# Loading Data"
   ]
  },
  {
   "cell_type": "markdown",
   "id": "681925a3",
   "metadata": {
    "papermill": {
     "duration": 0.012083,
     "end_time": "2025-07-30T14:08:04.369820",
     "exception": false,
     "start_time": "2025-07-30T14:08:04.357737",
     "status": "completed"
    },
    "tags": []
   },
   "source": [
    "Load siab_train, siab_test, siab_calib and/or \n",
    "load siab_train_features, siab_train_labels"
   ]
  },
  {
   "cell_type": "code",
   "execution_count": 9,
   "id": "f0496b8a",
   "metadata": {
    "execution": {
     "iopub.execute_input": "2025-07-30T14:08:04.398970Z",
     "iopub.status.busy": "2025-07-30T14:08:04.398542Z",
     "iopub.status.idle": "2025-07-30T14:08:17.460731Z",
     "shell.execute_reply": "2025-07-30T14:08:17.459532Z"
    },
    "papermill": {
     "duration": 13.076611,
     "end_time": "2025-07-30T14:08:17.462479",
     "exception": false,
     "start_time": "2025-07-30T14:08:04.385868",
     "status": "completed"
    },
    "tags": []
   },
   "outputs": [
    {
     "name": "stdout",
     "output_type": "stream",
     "text": [
      "Loading SIAB data from cache: data/siab_cached.csv.gz\n"
     ]
    },
    {
     "name": "stdout",
     "output_type": "stream",
     "text": [
      "(643690, 164)\n"
     ]
    }
   ],
   "source": [
    "from pathlib import Path\n",
    "import pandas as pd\n",
    "\n",
    "# File paths\n",
    "raw_file = Path(\"data/raw/siab.csv\")\n",
    "cache_file = Path(\"data/siab_cached.csv.gz\")\n",
    "\n",
    "# Ensure cache directory exists\n",
    "cache_file.parent.mkdir(parents=True, exist_ok=True)\n",
    "\n",
    "# Load with simple caching\n",
    "if cache_file.exists():\n",
    "    print(f\"Loading SIAB data from cache: {cache_file}\")\n",
    "    siab = pd.read_csv(cache_file, compression='gzip')\n",
    "else:\n",
    "    print(f\"Cache not found. Reading raw SIAB data: {raw_file}\")\n",
    "    siab = pd.read_csv(raw_file)\n",
    "    siab.to_csv(cache_file, index=False, compression='gzip')\n",
    "    print(f\"Cached SIAB data to: {cache_file}\")\n",
    "\n",
    "# Now use `siab` DataFrame as needed\n",
    "print(siab.shape)"
   ]
  },
  {
   "cell_type": "code",
   "execution_count": 10,
   "id": "db0ca512-5f53-4dba-abdb-a2888bca41ba",
   "metadata": {
    "execution": {
     "iopub.execute_input": "2025-07-30T14:08:17.509897Z",
     "iopub.status.busy": "2025-07-30T14:08:17.508914Z",
     "iopub.status.idle": "2025-07-30T14:08:17.515128Z",
     "shell.execute_reply": "2025-07-30T14:08:17.514138Z"
    },
    "papermill": {
     "duration": 0.031648,
     "end_time": "2025-07-30T14:08:17.517064",
     "exception": false,
     "start_time": "2025-07-30T14:08:17.485416",
     "status": "completed"
    },
    "tags": []
   },
   "outputs": [],
   "source": [
    "#siab"
   ]
  },
  {
   "cell_type": "code",
   "execution_count": 11,
   "id": "a0edb063",
   "metadata": {
    "execution": {
     "iopub.execute_input": "2025-07-30T14:08:17.560981Z",
     "iopub.status.busy": "2025-07-30T14:08:17.560054Z",
     "iopub.status.idle": "2025-07-30T14:08:17.565902Z",
     "shell.execute_reply": "2025-07-30T14:08:17.564870Z"
    },
    "papermill": {
     "duration": 0.029246,
     "end_time": "2025-07-30T14:08:17.567945",
     "exception": false,
     "start_time": "2025-07-30T14:08:17.538699",
     "status": "completed"
    },
    "tags": []
   },
   "outputs": [],
   "source": [
    "#import pandas as pd\n",
    "#\n",
    "#X_train = pd.read_csv(\"./data/X_train.csv\")\n",
    "#y_train = pd.read_csv(\"./data/y_train.csv\")"
   ]
  },
  {
   "cell_type": "code",
   "execution_count": 12,
   "id": "63d08085",
   "metadata": {
    "execution": {
     "iopub.execute_input": "2025-07-30T14:08:17.612563Z",
     "iopub.status.busy": "2025-07-30T14:08:17.611978Z",
     "iopub.status.idle": "2025-07-30T14:08:17.617851Z",
     "shell.execute_reply": "2025-07-30T14:08:17.616807Z"
    },
    "papermill": {
     "duration": 0.029638,
     "end_time": "2025-07-30T14:08:17.619691",
     "exception": false,
     "start_time": "2025-07-30T14:08:17.590053",
     "status": "completed"
    },
    "tags": []
   },
   "outputs": [],
   "source": [
    "#X_test = pd.read_csv(\"./data/X_test.csv\")\n",
    "#y_true = pd.read_csv(\"./data/y_test.csv\")"
   ]
  },
  {
   "cell_type": "code",
   "execution_count": 13,
   "id": "98a8d0fa-1d3d-4ed8-bb2c-281470e24add",
   "metadata": {
    "execution": {
     "iopub.execute_input": "2025-07-30T14:08:17.665563Z",
     "iopub.status.busy": "2025-07-30T14:08:17.664806Z",
     "iopub.status.idle": "2025-07-30T14:08:17.670322Z",
     "shell.execute_reply": "2025-07-30T14:08:17.669399Z"
    },
    "papermill": {
     "duration": 0.031062,
     "end_time": "2025-07-30T14:08:17.671949",
     "exception": false,
     "start_time": "2025-07-30T14:08:17.640887",
     "status": "completed"
    },
    "tags": []
   },
   "outputs": [],
   "source": [
    "# Calibration data for conformal\n",
    "#X_calib = pd.read_csv(\"./data/X_calib.csv\")\n",
    "#y_calib = pd.read_csv(\"./data/y_calib.csv\")"
   ]
  },
  {
   "cell_type": "markdown",
   "id": "997051c5-15bd-4b69-9786-c3001a3ce484",
   "metadata": {
    "papermill": {
     "duration": 0.020972,
     "end_time": "2025-07-30T14:08:17.716446",
     "exception": false,
     "start_time": "2025-07-30T14:08:17.695474",
     "status": "completed"
    },
    "tags": []
   },
   "source": [
    "# Splitting Data and Setting Training Data Size"
   ]
  },
  {
   "cell_type": "code",
   "execution_count": 14,
   "id": "e993b61f-042d-41a6-8c81-f55681f86335",
   "metadata": {
    "execution": {
     "iopub.execute_input": "2025-07-30T14:08:17.760966Z",
     "iopub.status.busy": "2025-07-30T14:08:17.760170Z",
     "iopub.status.idle": "2025-07-30T14:08:17.776300Z",
     "shell.execute_reply": "2025-07-30T14:08:17.775185Z"
    },
    "papermill": {
     "duration": 0.040301,
     "end_time": "2025-07-30T14:08:17.778031",
     "exception": false,
     "start_time": "2025-07-30T14:08:17.737730",
     "status": "completed"
    },
    "tags": []
   },
   "outputs": [],
   "source": [
    "def sample_by_year_size(df,\n",
    "                        training_year: str,\n",
    "                        training_size: str,\n",
    "                        random_state: int = 42):\n",
    "    # --- parse training_year into a list of int years ---\n",
    "    if \"_\" in training_year:\n",
    "        start_str, end_str = training_year.split(\"_\", 1)\n",
    "        start = int(start_str)\n",
    "        end   = int(end_str) if len(end_str) == 4 else (int(end_str) + (start // 100)*100)\n",
    "        years = list(range(start, end + 1))\n",
    "    else:\n",
    "        years = [int(training_year)]\n",
    "\n",
    "    df = df[df[\"year\"].isin(years)].reset_index(drop=True)\n",
    "\n",
    "    # --- map training_size to total number of samples ---\n",
    "    total_map = {\"25k\": 25_000, \"5k\": 5_000, \"1k\": 1_000}\n",
    "    if training_size not in total_map:\n",
    "        return df  # e.g. \"all\"\n",
    "\n",
    "    total_samples = total_map[training_size]\n",
    "    n_years       = len(years)\n",
    "    base          = total_samples // n_years\n",
    "    remainder     = total_samples % n_years\n",
    "\n",
    "    # --- build a dict: year -> how many to sample ---\n",
    "    # give +1 to the first `remainder` years in ascending order\n",
    "    quotas = {\n",
    "        year: base + (1 if idx < remainder else 0)\n",
    "        for idx, year in enumerate(sorted(years))\n",
    "    }\n",
    "\n",
    "    # --- sample per‐year according to the quota dict ---\n",
    "    sampled = (\n",
    "        df\n",
    "        .groupby(\"year\", group_keys=False)\n",
    "        .apply(lambda grp: grp.sample(\n",
    "            n=min(len(grp), quotas[grp.name]),\n",
    "            random_state=random_state))\n",
    "        .reset_index(drop=True)\n",
    "    )\n",
    "\n",
    "    return sampled"
   ]
  },
  {
   "cell_type": "code",
   "execution_count": 15,
   "id": "c0ccd338-0e02-41f3-a09d-f56f9266e3fb",
   "metadata": {
    "execution": {
     "iopub.execute_input": "2025-07-30T14:08:17.822108Z",
     "iopub.status.busy": "2025-07-30T14:08:17.821187Z",
     "iopub.status.idle": "2025-07-30T14:08:17.833235Z",
     "shell.execute_reply": "2025-07-30T14:08:17.832267Z"
    },
    "papermill": {
     "duration": 0.034934,
     "end_time": "2025-07-30T14:08:17.834987",
     "exception": false,
     "start_time": "2025-07-30T14:08:17.800053",
     "status": "completed"
    },
    "tags": []
   },
   "outputs": [
    {
     "data": {
      "text/plain": [
       "'5k'"
      ]
     },
     "execution_count": 15,
     "metadata": {},
     "output_type": "execute_result"
    }
   ],
   "source": [
    "universe[\"training_size\"]"
   ]
  },
  {
   "cell_type": "code",
   "execution_count": 16,
   "id": "ca707fd7-8047-4acd-bfa5-66248fbbf8e6",
   "metadata": {
    "execution": {
     "iopub.execute_input": "2025-07-30T14:08:17.881413Z",
     "iopub.status.busy": "2025-07-30T14:08:17.880533Z",
     "iopub.status.idle": "2025-07-30T14:08:17.888286Z",
     "shell.execute_reply": "2025-07-30T14:08:17.887428Z"
    },
    "papermill": {
     "duration": 0.032418,
     "end_time": "2025-07-30T14:08:17.889854",
     "exception": false,
     "start_time": "2025-07-30T14:08:17.857436",
     "status": "completed"
    },
    "tags": []
   },
   "outputs": [
    {
     "data": {
      "text/plain": [
       "'2010_14'"
      ]
     },
     "execution_count": 16,
     "metadata": {},
     "output_type": "execute_result"
    }
   ],
   "source": [
    "universe[\"training_year\"]"
   ]
  },
  {
   "cell_type": "code",
   "execution_count": 17,
   "id": "aea9c6ef-6f46-42c8-85eb-5a62025c1508",
   "metadata": {
    "execution": {
     "iopub.execute_input": "2025-07-30T14:08:17.937503Z",
     "iopub.status.busy": "2025-07-30T14:08:17.937076Z",
     "iopub.status.idle": "2025-07-30T14:08:18.971848Z",
     "shell.execute_reply": "2025-07-30T14:08:18.970810Z"
    },
    "papermill": {
     "duration": 1.060435,
     "end_time": "2025-07-30T14:08:18.973865",
     "exception": false,
     "start_time": "2025-07-30T14:08:17.913430",
     "status": "completed"
    },
    "tags": []
   },
   "outputs": [],
   "source": [
    "siab_train = sample_by_year_size(siab,\n",
    "                               training_year=universe[\"training_year\"],\n",
    "                               training_size=universe[\"training_size\"])"
   ]
  },
  {
   "cell_type": "code",
   "execution_count": 18,
   "id": "8d3afb32-789d-442c-8d5d-9f5aa8dd2eed",
   "metadata": {
    "execution": {
     "iopub.execute_input": "2025-07-30T14:08:19.016930Z",
     "iopub.status.busy": "2025-07-30T14:08:19.016350Z",
     "iopub.status.idle": "2025-07-30T14:08:19.023551Z",
     "shell.execute_reply": "2025-07-30T14:08:19.022695Z"
    },
    "papermill": {
     "duration": 0.02977,
     "end_time": "2025-07-30T14:08:19.025048",
     "exception": false,
     "start_time": "2025-07-30T14:08:18.995278",
     "status": "completed"
    },
    "tags": []
   },
   "outputs": [
    {
     "data": {
      "text/plain": [
       "(5000, 164)"
      ]
     },
     "execution_count": 18,
     "metadata": {},
     "output_type": "execute_result"
    }
   ],
   "source": [
    "siab_train.shape"
   ]
  },
  {
   "cell_type": "code",
   "execution_count": 19,
   "id": "d582db68-1a4c-47fb-84fc-08518dc1975a",
   "metadata": {
    "execution": {
     "iopub.execute_input": "2025-07-30T14:08:19.067962Z",
     "iopub.status.busy": "2025-07-30T14:08:19.067520Z",
     "iopub.status.idle": "2025-07-30T14:08:19.076262Z",
     "shell.execute_reply": "2025-07-30T14:08:19.075525Z"
    },
    "papermill": {
     "duration": 0.030305,
     "end_time": "2025-07-30T14:08:19.077500",
     "exception": false,
     "start_time": "2025-07-30T14:08:19.047195",
     "status": "completed"
    },
    "tags": []
   },
   "outputs": [
    {
     "data": {
      "text/plain": [
       "year\n",
       "2010    1000\n",
       "2011    1000\n",
       "2012    1000\n",
       "2013    1000\n",
       "2014    1000\n",
       "dtype: int64"
      ]
     },
     "metadata": {},
     "output_type": "display_data"
    }
   ],
   "source": [
    "display(siab_train.groupby(\"year\").size())"
   ]
  },
  {
   "cell_type": "code",
   "execution_count": 20,
   "id": "a561edb4-d032-42cb-8256-22eac1111c64",
   "metadata": {
    "execution": {
     "iopub.execute_input": "2025-07-30T14:08:19.105376Z",
     "iopub.status.busy": "2025-07-30T14:08:19.104620Z",
     "iopub.status.idle": "2025-07-30T14:08:19.376683Z",
     "shell.execute_reply": "2025-07-30T14:08:19.375654Z"
    },
    "papermill": {
     "duration": 0.289181,
     "end_time": "2025-07-30T14:08:19.378455",
     "exception": false,
     "start_time": "2025-07-30T14:08:19.089274",
     "status": "completed"
    },
    "tags": []
   },
   "outputs": [],
   "source": [
    "#siab_train = siab_s[siab_s.year < 2015]\n",
    "siab_calib = siab[siab.year == 2015]\n",
    "siab_test = siab[siab.year == 2016]"
   ]
  },
  {
   "cell_type": "code",
   "execution_count": 21,
   "id": "472de16f-c3db-4916-846b-1f0de9cf1746",
   "metadata": {
    "execution": {
     "iopub.execute_input": "2025-07-30T14:08:19.422412Z",
     "iopub.status.busy": "2025-07-30T14:08:19.421949Z",
     "iopub.status.idle": "2025-07-30T14:08:19.429719Z",
     "shell.execute_reply": "2025-07-30T14:08:19.428843Z"
    },
    "papermill": {
     "duration": 0.031485,
     "end_time": "2025-07-30T14:08:19.431197",
     "exception": false,
     "start_time": "2025-07-30T14:08:19.399712",
     "status": "completed"
    },
    "tags": []
   },
   "outputs": [],
   "source": [
    "X_train = siab_train.iloc[:,4:164]\n",
    "y_train = siab_train.iloc[:, [3]]"
   ]
  },
  {
   "cell_type": "code",
   "execution_count": 22,
   "id": "828c96af-f43a-4ed6-ba47-8ac73a47d56c",
   "metadata": {
    "execution": {
     "iopub.execute_input": "2025-07-30T14:08:19.473624Z",
     "iopub.status.busy": "2025-07-30T14:08:19.472821Z",
     "iopub.status.idle": "2025-07-30T14:08:19.520298Z",
     "shell.execute_reply": "2025-07-30T14:08:19.519442Z"
    },
    "papermill": {
     "duration": 0.070056,
     "end_time": "2025-07-30T14:08:19.521939",
     "exception": false,
     "start_time": "2025-07-30T14:08:19.451883",
     "status": "completed"
    },
    "tags": []
   },
   "outputs": [],
   "source": [
    "X_calib = siab_calib.iloc[:,4:164]\n",
    "y_calib = siab_calib.iloc[:, [3]]"
   ]
  },
  {
   "cell_type": "code",
   "execution_count": 23,
   "id": "c34be9c3-6bd6-476e-acd3-845840e303be",
   "metadata": {
    "execution": {
     "iopub.execute_input": "2025-07-30T14:08:19.549561Z",
     "iopub.status.busy": "2025-07-30T14:08:19.549329Z",
     "iopub.status.idle": "2025-07-30T14:08:19.596059Z",
     "shell.execute_reply": "2025-07-30T14:08:19.595337Z"
    },
    "papermill": {
     "duration": 0.06131,
     "end_time": "2025-07-30T14:08:19.597287",
     "exception": false,
     "start_time": "2025-07-30T14:08:19.535977",
     "status": "completed"
    },
    "tags": []
   },
   "outputs": [],
   "source": [
    "X_test = siab_test.iloc[:,4:164]\n",
    "y_true = siab_test.iloc[:, [3]]"
   ]
  },
  {
   "cell_type": "markdown",
   "id": "9901737e-04df-44f0-9100-f5ad144ed040",
   "metadata": {
    "papermill": {
     "duration": 0.010747,
     "end_time": "2025-07-30T14:08:19.620545",
     "exception": false,
     "start_time": "2025-07-30T14:08:19.609798",
     "status": "completed"
    },
    "tags": []
   },
   "source": [
    "# Splitting Data and Setting Training Data Size OLD VERSION"
   ]
  },
  {
   "cell_type": "code",
   "execution_count": 24,
   "id": "acbc8f7d-8fc8-4e86-8c59-5dcb0f58384b",
   "metadata": {
    "execution": {
     "iopub.execute_input": "2025-07-30T14:08:19.657850Z",
     "iopub.status.busy": "2025-07-30T14:08:19.657386Z",
     "iopub.status.idle": "2025-07-30T14:08:19.662895Z",
     "shell.execute_reply": "2025-07-30T14:08:19.662088Z"
    },
    "papermill": {
     "duration": 0.031257,
     "end_time": "2025-07-30T14:08:19.664818",
     "exception": false,
     "start_time": "2025-07-30T14:08:19.633561",
     "status": "completed"
    },
    "tags": []
   },
   "outputs": [],
   "source": [
    "#def sample_by_year(df, training_size, random_state=42):\n",
    "#    if training_size == \"2014\":\n",
    "#        return df[df[\"year\"] == 2014].reset_index(drop=True)\n",
    "#    \n",
    "#    size_map = {\n",
    "#        \"25k\": 5000,\n",
    "#        \"5k\": 1000,\n",
    "#        \"1k\": 200\n",
    "#    }\n",
    "#\n",
    "#    if training_size not in size_map:\n",
    "#        return df.reset_index(drop=True)  # use all data\n",
    "#\n",
    "#    n_per_year = size_map[training_size]\n",
    "#    grouped = df.groupby(\"year\")\n",
    "#    sampled = grouped.apply(lambda x: x.sample(n=min(n_per_year, len(x)), random_state=random_state))\n",
    "#    return sampled.reset_index(drop=True)"
   ]
  },
  {
   "cell_type": "code",
   "execution_count": 25,
   "id": "6d931f52-beaf-43ff-9e78-9d44a448d54e",
   "metadata": {
    "execution": {
     "iopub.execute_input": "2025-07-30T14:08:19.707904Z",
     "iopub.status.busy": "2025-07-30T14:08:19.707241Z",
     "iopub.status.idle": "2025-07-30T14:08:19.712404Z",
     "shell.execute_reply": "2025-07-30T14:08:19.711100Z"
    },
    "papermill": {
     "duration": 0.02897,
     "end_time": "2025-07-30T14:08:19.714273",
     "exception": false,
     "start_time": "2025-07-30T14:08:19.685303",
     "status": "completed"
    },
    "tags": []
   },
   "outputs": [],
   "source": [
    "#siab_s = sample_by_year(siab, universe[\"training_size\"])"
   ]
  },
  {
   "cell_type": "code",
   "execution_count": 26,
   "id": "5db0a40e-a4e2-4920-be85-b12ae061d70d",
   "metadata": {
    "execution": {
     "iopub.execute_input": "2025-07-30T14:08:19.738461Z",
     "iopub.status.busy": "2025-07-30T14:08:19.737957Z",
     "iopub.status.idle": "2025-07-30T14:08:19.741900Z",
     "shell.execute_reply": "2025-07-30T14:08:19.741136Z"
    },
    "papermill": {
     "duration": 0.017021,
     "end_time": "2025-07-30T14:08:19.743217",
     "exception": false,
     "start_time": "2025-07-30T14:08:19.726196",
     "status": "completed"
    },
    "tags": []
   },
   "outputs": [],
   "source": [
    "#display(siab_s.groupby(\"year\").size())"
   ]
  },
  {
   "cell_type": "code",
   "execution_count": 27,
   "id": "e6c733c5",
   "metadata": {
    "execution": {
     "iopub.execute_input": "2025-07-30T14:08:19.768172Z",
     "iopub.status.busy": "2025-07-30T14:08:19.767457Z",
     "iopub.status.idle": "2025-07-30T14:08:19.864891Z",
     "shell.execute_reply": "2025-07-30T14:08:19.863979Z"
    },
    "papermill": {
     "duration": 0.111514,
     "end_time": "2025-07-30T14:08:19.866470",
     "exception": false,
     "start_time": "2025-07-30T14:08:19.754956",
     "status": "completed"
    },
    "tags": []
   },
   "outputs": [],
   "source": [
    "# Auxiliary data needed downstream in the pipeline\n",
    "\n",
    "org_train = X_train.copy()\n",
    "org_test = X_test.copy()\n",
    "org_calib = X_calib.copy()"
   ]
  },
  {
   "cell_type": "code",
   "execution_count": 28,
   "id": "1466abac-c6da-4492-a62f-4240ae3783af",
   "metadata": {
    "execution": {
     "iopub.execute_input": "2025-07-30T14:08:19.913474Z",
     "iopub.status.busy": "2025-07-30T14:08:19.913104Z",
     "iopub.status.idle": "2025-07-30T14:08:19.918941Z",
     "shell.execute_reply": "2025-07-30T14:08:19.918050Z"
    },
    "papermill": {
     "duration": 0.031719,
     "end_time": "2025-07-30T14:08:19.920861",
     "exception": false,
     "start_time": "2025-07-30T14:08:19.889142",
     "status": "completed"
    },
    "tags": []
   },
   "outputs": [],
   "source": [
    "# put in other script?\n",
    "# Group sizes\n",
    "\n",
    "#def calculate_percentages(df, df_name):\n",
    "#    total_entries = len(df)\n",
    "#\n",
    "#    female_pct = (df['frau1'] == 1).mean() * 100\n",
    "#    non_german_pct = ((df['maxdeutsch1'] == 0) & (df['maxdeutsch.Missing.'] == 0)).mean() * 100\n",
    "#    non_german_male_pct = ((df['frau1'] == 0) & (df['maxdeutsch1'] == 0) & (df['maxdeutsch.Missing.'] == 0)).mean() * 100\n",
    "#    non_german_female_pct = ((df['frau1'] == 1) & (df['maxdeutsch1'] == 0) & (df['maxdeutsch.Missing.'] == 0)).mean() * 100\n",
    "#\n",
    "#    print(f\"--- {df_name} ---\")\n",
    "#    print(f\"Female: {female_pct:.2f}%\")\n",
    "#    print(f\"Non-German: {non_german_pct:.2f}%\")\n",
    "#    print(f\"Non-German Male: {non_german_male_pct:.2f}%\")\n",
    "#    print(f\"Non-German Female: {non_german_female_pct:.2f}%\\n\")\n",
    "#\n",
    "## Calculate for each DataFrame\n",
    "#calculate_percentages(siab_calib, \"siab_calib\")\n",
    "#calculate_percentages(siab_test, \"siab_test\")\n",
    "#calculate_percentages(siab_train, \"siab_train\")"
   ]
  },
  {
   "cell_type": "markdown",
   "id": "0a4a1b33",
   "metadata": {
    "papermill": {
     "duration": 0.019237,
     "end_time": "2025-07-30T14:08:19.960189",
     "exception": false,
     "start_time": "2025-07-30T14:08:19.940952",
     "status": "completed"
    },
    "tags": []
   },
   "source": [
    "# Preprocessing Data"
   ]
  },
  {
   "cell_type": "code",
   "execution_count": 29,
   "id": "ca879031",
   "metadata": {
    "execution": {
     "iopub.execute_input": "2025-07-30T14:08:20.004678Z",
     "iopub.status.busy": "2025-07-30T14:08:20.004253Z",
     "iopub.status.idle": "2025-07-30T14:08:20.010072Z",
     "shell.execute_reply": "2025-07-30T14:08:20.009275Z"
    },
    "papermill": {
     "duration": 0.029283,
     "end_time": "2025-07-30T14:08:20.011422",
     "exception": false,
     "start_time": "2025-07-30T14:08:19.982139",
     "status": "completed"
    },
    "tags": []
   },
   "outputs": [],
   "source": [
    "# EXCLUDE PROTECTED FEATURES\n",
    "# ----------------------\n",
    "# \"exclude_features\": \"none\", # \"nationality\", \"sex\", \"nationality-sex\"\n",
    "\n",
    "excluded_features = universe[\"exclude_features\"].split(\"-\") # split, e.g.: \"nationality-sex\" -> [\"nationality\", \"sex\"]\n",
    "excluded_features_dictionary = {\n",
    "    \"nationality\": [\"maxdeutsch1\", \"maxdeutsch.Missing.\"],\n",
    "    \"sex\": [\"frau1\"],\n",
    "    \"age\": [\"age\"],\n",
    "}\n"
   ]
  },
  {
   "cell_type": "code",
   "execution_count": 30,
   "id": "b745ac60",
   "metadata": {
    "execution": {
     "iopub.execute_input": "2025-07-30T14:08:20.060155Z",
     "iopub.status.busy": "2025-07-30T14:08:20.059762Z",
     "iopub.status.idle": "2025-07-30T14:08:20.065644Z",
     "shell.execute_reply": "2025-07-30T14:08:20.064701Z"
    },
    "papermill": {
     "duration": 0.032775,
     "end_time": "2025-07-30T14:08:20.067548",
     "exception": false,
     "start_time": "2025-07-30T14:08:20.034773",
     "status": "completed"
    },
    "tags": []
   },
   "outputs": [],
   "source": [
    "# Code nice names to column names\n",
    "\n",
    "excluded_features_columns = [\n",
    "    excluded_features_dictionary[f] for f in excluded_features if len(f) > 0 and f != \"none\"\n",
    "]"
   ]
  },
  {
   "cell_type": "code",
   "execution_count": 31,
   "id": "f84f73a2",
   "metadata": {
    "execution": {
     "iopub.execute_input": "2025-07-30T14:08:20.113457Z",
     "iopub.status.busy": "2025-07-30T14:08:20.113038Z",
     "iopub.status.idle": "2025-07-30T14:08:20.119985Z",
     "shell.execute_reply": "2025-07-30T14:08:20.118932Z"
    },
    "papermill": {
     "duration": 0.033798,
     "end_time": "2025-07-30T14:08:20.122698",
     "exception": false,
     "start_time": "2025-07-30T14:08:20.088900",
     "status": "completed"
    },
    "tags": []
   },
   "outputs": [],
   "source": [
    "from utils import flatten_once\n",
    "\n",
    "excluded_features_columns = flatten_once(excluded_features_columns)"
   ]
  },
  {
   "cell_type": "code",
   "execution_count": 32,
   "id": "884dea22",
   "metadata": {
    "execution": {
     "iopub.execute_input": "2025-07-30T14:08:20.163653Z",
     "iopub.status.busy": "2025-07-30T14:08:20.163228Z",
     "iopub.status.idle": "2025-07-30T14:08:20.169235Z",
     "shell.execute_reply": "2025-07-30T14:08:20.168246Z"
    },
    "papermill": {
     "duration": 0.028137,
     "end_time": "2025-07-30T14:08:20.172319",
     "exception": false,
     "start_time": "2025-07-30T14:08:20.144182",
     "status": "completed"
    },
    "tags": []
   },
   "outputs": [],
   "source": [
    "if len(excluded_features_columns) > 0:\n",
    "    print(f\"Dropping features: {excluded_features_columns}\")\n",
    "    X_train.drop(excluded_features_columns, axis=1, inplace=True)"
   ]
  },
  {
   "cell_type": "code",
   "execution_count": 33,
   "id": "95ab8b16",
   "metadata": {
    "execution": {
     "iopub.execute_input": "2025-07-30T14:08:20.229129Z",
     "iopub.status.busy": "2025-07-30T14:08:20.228669Z",
     "iopub.status.idle": "2025-07-30T14:08:20.240110Z",
     "shell.execute_reply": "2025-07-30T14:08:20.238809Z"
    },
    "papermill": {
     "duration": 0.047217,
     "end_time": "2025-07-30T14:08:20.242712",
     "exception": false,
     "start_time": "2025-07-30T14:08:20.195495",
     "status": "completed"
    },
    "tags": []
   },
   "outputs": [],
   "source": [
    "if len(excluded_features_columns) > 0:\n",
    "    print(f\"Dropping features: {excluded_features_columns}\")\n",
    "    X_test.drop(excluded_features_columns, axis=1, inplace=True)"
   ]
  },
  {
   "cell_type": "code",
   "execution_count": 34,
   "id": "1853aaf5-fb9f-46cb-a2b5-8ea4ae2237e4",
   "metadata": {
    "execution": {
     "iopub.execute_input": "2025-07-30T14:08:20.283831Z",
     "iopub.status.busy": "2025-07-30T14:08:20.283505Z",
     "iopub.status.idle": "2025-07-30T14:08:20.289145Z",
     "shell.execute_reply": "2025-07-30T14:08:20.288177Z"
    },
    "papermill": {
     "duration": 0.028579,
     "end_time": "2025-07-30T14:08:20.290754",
     "exception": false,
     "start_time": "2025-07-30T14:08:20.262175",
     "status": "completed"
    },
    "tags": []
   },
   "outputs": [],
   "source": [
    "if len(excluded_features_columns) > 0:\n",
    "    print(f\"Dropping features: {excluded_features_columns}\")\n",
    "    X_calib.drop(excluded_features_columns, axis=1, inplace=True)"
   ]
  },
  {
   "cell_type": "code",
   "execution_count": 35,
   "id": "6727d079-03e5-481e-9d38-292a90b7a0a8",
   "metadata": {
    "execution": {
     "iopub.execute_input": "2025-07-30T14:08:20.337940Z",
     "iopub.status.busy": "2025-07-30T14:08:20.337475Z",
     "iopub.status.idle": "2025-07-30T14:08:20.342491Z",
     "shell.execute_reply": "2025-07-30T14:08:20.341493Z"
    },
    "papermill": {
     "duration": 0.026547,
     "end_time": "2025-07-30T14:08:20.344492",
     "exception": false,
     "start_time": "2025-07-30T14:08:20.317945",
     "status": "completed"
    },
    "tags": []
   },
   "outputs": [],
   "source": [
    "# SPLIT & STRATIFY DATA\n",
    "# ----------------------"
   ]
  },
  {
   "cell_type": "code",
   "execution_count": 36,
   "id": "76c4dc6d",
   "metadata": {
    "execution": {
     "iopub.execute_input": "2025-07-30T14:08:20.398118Z",
     "iopub.status.busy": "2025-07-30T14:08:20.397727Z",
     "iopub.status.idle": "2025-07-30T14:08:20.402157Z",
     "shell.execute_reply": "2025-07-30T14:08:20.401216Z"
    },
    "papermill": {
     "duration": 0.029222,
     "end_time": "2025-07-30T14:08:20.404644",
     "exception": false,
     "start_time": "2025-07-30T14:08:20.375422",
     "status": "completed"
    },
    "tags": []
   },
   "outputs": [],
   "source": [
    "# EXCLUDE CERTAIN SUBGROUPS\n",
    "# ----------------------\n",
    "\n",
    "mode = universe.get(\"exclude_subgroups\", \"keep-all\") \n",
    "# Fetches the exclude_subgroups setting from the universe dict.\n",
    "# Defaults to \"keep-all\" if the key is missing."
   ]
  },
  {
   "cell_type": "code",
   "execution_count": 37,
   "id": "21994072",
   "metadata": {
    "execution": {
     "iopub.execute_input": "2025-07-30T14:08:20.451445Z",
     "iopub.status.busy": "2025-07-30T14:08:20.450869Z",
     "iopub.status.idle": "2025-07-30T14:08:20.458396Z",
     "shell.execute_reply": "2025-07-30T14:08:20.457418Z"
    },
    "papermill": {
     "duration": 0.032656,
     "end_time": "2025-07-30T14:08:20.460459",
     "exception": false,
     "start_time": "2025-07-30T14:08:20.427803",
     "status": "completed"
    },
    "tags": []
   },
   "outputs": [],
   "source": [
    "if mode == \"keep-all\":\n",
    "    keep_mask = pd.Series(True, index=org_train.index)\n",
    "\n",
    "# org_train contains the original feature columns from features_org (in Simson)\n",
    "# features_org contains unprocessed features, for me X_train at beginning ???\n",
    "# For keep-all, creates a boolean Series (keep_mask) of all True, so no rows are removed.\n",
    "\n",
    "elif mode == \"drop-non-german\":\n",
    "    keep_mask = org_train[\"maxdeutsch1\"] == 1 # ??? what about missing values?\n",
    "\n",
    "else:\n",
    "    raise ValueError(f\"Unsupported mode for exclude_subgroups: {mode}\")\n"
   ]
  },
  {
   "cell_type": "code",
   "execution_count": 38,
   "id": "71651440",
   "metadata": {
    "execution": {
     "iopub.execute_input": "2025-07-30T14:08:20.506233Z",
     "iopub.status.busy": "2025-07-30T14:08:20.505860Z",
     "iopub.status.idle": "2025-07-30T14:08:20.512348Z",
     "shell.execute_reply": "2025-07-30T14:08:20.511362Z"
    },
    "papermill": {
     "duration": 0.035479,
     "end_time": "2025-07-30T14:08:20.520162",
     "exception": false,
     "start_time": "2025-07-30T14:08:20.484683",
     "status": "completed"
    },
    "tags": []
   },
   "outputs": [],
   "source": [
    "n_drop = (~keep_mask).sum() # Calculates how many rows are set to be dropped\n",
    "if n_drop > 0:\n",
    "    pct = n_drop / len(keep_mask) * 100\n",
    "    print(f\"Dropping {n_drop} rows ({pct:.2f}%) where mode='{mode}'\")"
   ]
  },
  {
   "cell_type": "code",
   "execution_count": 39,
   "id": "5fb8eee5",
   "metadata": {
    "execution": {
     "iopub.execute_input": "2025-07-30T14:08:20.556682Z",
     "iopub.status.busy": "2025-07-30T14:08:20.556352Z",
     "iopub.status.idle": "2025-07-30T14:08:20.563962Z",
     "shell.execute_reply": "2025-07-30T14:08:20.563007Z"
    },
    "papermill": {
     "duration": 0.029404,
     "end_time": "2025-07-30T14:08:20.566921",
     "exception": false,
     "start_time": "2025-07-30T14:08:20.537517",
     "status": "completed"
    },
    "tags": []
   },
   "outputs": [],
   "source": [
    "X_train = X_train[keep_mask]"
   ]
  },
  {
   "cell_type": "code",
   "execution_count": 40,
   "id": "b202bb3a",
   "metadata": {
    "execution": {
     "iopub.execute_input": "2025-07-30T14:08:20.616040Z",
     "iopub.status.busy": "2025-07-30T14:08:20.615555Z",
     "iopub.status.idle": "2025-07-30T14:08:20.621568Z",
     "shell.execute_reply": "2025-07-30T14:08:20.620583Z"
    },
    "papermill": {
     "duration": 0.03557,
     "end_time": "2025-07-30T14:08:20.624813",
     "exception": false,
     "start_time": "2025-07-30T14:08:20.589243",
     "status": "completed"
    },
    "tags": []
   },
   "outputs": [],
   "source": [
    "y_train = y_train[keep_mask]"
   ]
  },
  {
   "cell_type": "markdown",
   "id": "493e2ac3",
   "metadata": {
    "papermill": {
     "duration": 0.024162,
     "end_time": "2025-07-30T14:08:20.670613",
     "exception": false,
     "start_time": "2025-07-30T14:08:20.646451",
     "status": "completed"
    },
    "tags": []
   },
   "source": [
    "# Model Training"
   ]
  },
  {
   "cell_type": "code",
   "execution_count": 41,
   "id": "679e1268",
   "metadata": {
    "execution": {
     "iopub.execute_input": "2025-07-30T14:08:20.728298Z",
     "iopub.status.busy": "2025-07-30T14:08:20.727814Z",
     "iopub.status.idle": "2025-07-30T14:08:20.835457Z",
     "shell.execute_reply": "2025-07-30T14:08:20.834552Z"
    },
    "papermill": {
     "duration": 0.132777,
     "end_time": "2025-07-30T14:08:20.837321",
     "exception": false,
     "start_time": "2025-07-30T14:08:20.704544",
     "status": "completed"
    },
    "tags": []
   },
   "outputs": [],
   "source": [
    "from sklearn.linear_model import LogisticRegression\n",
    "from sklearn.ensemble import GradientBoostingClassifier, RandomForestClassifier\n",
    "\n",
    "if (universe[\"model\"] == \"logreg\"):\n",
    "    model = LogisticRegression() #penalty=\"none\") #, solver=\"newton-cg\", max_iter=1) # include random_state=19 ?\n",
    "elif (universe[\"model\"] == \"penalized_logreg\"):\n",
    "    model = LogisticRegression(penalty=\"l2\", C=1.0) #, solver=\"newton-cg\", max_iter=1)\n",
    "elif (universe[\"model\"] == \"rf\"):\n",
    "    model = RandomForestClassifier(n_estimators=100, n_jobs=-1)\n",
    "elif (universe[\"model\"] == \"gbm\"):\n",
    "    model = GradientBoostingClassifier()\n",
    "elif (universe[\"model\"] == \"elasticnet\"):\n",
    "    model = LogisticRegression(penalty = 'elasticnet', solver = 'saga', l1_ratio = 0.5, max_iter=5000) # which solver to use?\n",
    "else:\n",
    "    raise \"Unsupported universe.model\""
   ]
  },
  {
   "cell_type": "code",
   "execution_count": 42,
   "id": "0cc8f744",
   "metadata": {
    "execution": {
     "iopub.execute_input": "2025-07-30T14:08:20.887676Z",
     "iopub.status.busy": "2025-07-30T14:08:20.887117Z",
     "iopub.status.idle": "2025-07-30T14:08:20.893602Z",
     "shell.execute_reply": "2025-07-30T14:08:20.892609Z"
    },
    "papermill": {
     "duration": 0.032036,
     "end_time": "2025-07-30T14:08:20.895495",
     "exception": false,
     "start_time": "2025-07-30T14:08:20.863459",
     "status": "completed"
    },
    "tags": []
   },
   "outputs": [],
   "source": [
    "import numpy as np\n",
    "from sklearn.pipeline import Pipeline\n",
    "from sklearn.preprocessing import StandardScaler\n",
    "\n",
    "model = Pipeline([\n",
    "    #(\"continuous_processor\", continuous_processor),\n",
    "    #(\"categorical_preprocessor\", categorical_preprocessor),\n",
    "    (\"scale\", StandardScaler() if universe[\"scale\"] == \"scale\" else None), \n",
    "    (\"model\", model),\n",
    "])"
   ]
  },
  {
   "cell_type": "code",
   "execution_count": 43,
   "id": "9442c04d",
   "metadata": {
    "execution": {
     "iopub.execute_input": "2025-07-30T14:08:20.945503Z",
     "iopub.status.busy": "2025-07-30T14:08:20.945033Z",
     "iopub.status.idle": "2025-07-30T14:08:22.169900Z",
     "shell.execute_reply": "2025-07-30T14:08:22.168896Z"
    },
    "papermill": {
     "duration": 1.250793,
     "end_time": "2025-07-30T14:08:22.171782",
     "exception": false,
     "start_time": "2025-07-30T14:08:20.920989",
     "status": "completed"
    },
    "tags": []
   },
   "outputs": [
    {
     "data": {
      "text/html": [
       "<style>#sk-container-id-1 {color: black;background-color: white;}#sk-container-id-1 pre{padding: 0;}#sk-container-id-1 div.sk-toggleable {background-color: white;}#sk-container-id-1 label.sk-toggleable__label {cursor: pointer;display: block;width: 100%;margin-bottom: 0;padding: 0.3em;box-sizing: border-box;text-align: center;}#sk-container-id-1 label.sk-toggleable__label-arrow:before {content: \"▸\";float: left;margin-right: 0.25em;color: #696969;}#sk-container-id-1 label.sk-toggleable__label-arrow:hover:before {color: black;}#sk-container-id-1 div.sk-estimator:hover label.sk-toggleable__label-arrow:before {color: black;}#sk-container-id-1 div.sk-toggleable__content {max-height: 0;max-width: 0;overflow: hidden;text-align: left;background-color: #f0f8ff;}#sk-container-id-1 div.sk-toggleable__content pre {margin: 0.2em;color: black;border-radius: 0.25em;background-color: #f0f8ff;}#sk-container-id-1 input.sk-toggleable__control:checked~div.sk-toggleable__content {max-height: 200px;max-width: 100%;overflow: auto;}#sk-container-id-1 input.sk-toggleable__control:checked~label.sk-toggleable__label-arrow:before {content: \"▾\";}#sk-container-id-1 div.sk-estimator input.sk-toggleable__control:checked~label.sk-toggleable__label {background-color: #d4ebff;}#sk-container-id-1 div.sk-label input.sk-toggleable__control:checked~label.sk-toggleable__label {background-color: #d4ebff;}#sk-container-id-1 input.sk-hidden--visually {border: 0;clip: rect(1px 1px 1px 1px);clip: rect(1px, 1px, 1px, 1px);height: 1px;margin: -1px;overflow: hidden;padding: 0;position: absolute;width: 1px;}#sk-container-id-1 div.sk-estimator {font-family: monospace;background-color: #f0f8ff;border: 1px dotted black;border-radius: 0.25em;box-sizing: border-box;margin-bottom: 0.5em;}#sk-container-id-1 div.sk-estimator:hover {background-color: #d4ebff;}#sk-container-id-1 div.sk-parallel-item::after {content: \"\";width: 100%;border-bottom: 1px solid gray;flex-grow: 1;}#sk-container-id-1 div.sk-label:hover label.sk-toggleable__label {background-color: #d4ebff;}#sk-container-id-1 div.sk-serial::before {content: \"\";position: absolute;border-left: 1px solid gray;box-sizing: border-box;top: 0;bottom: 0;left: 50%;z-index: 0;}#sk-container-id-1 div.sk-serial {display: flex;flex-direction: column;align-items: center;background-color: white;padding-right: 0.2em;padding-left: 0.2em;position: relative;}#sk-container-id-1 div.sk-item {position: relative;z-index: 1;}#sk-container-id-1 div.sk-parallel {display: flex;align-items: stretch;justify-content: center;background-color: white;position: relative;}#sk-container-id-1 div.sk-item::before, #sk-container-id-1 div.sk-parallel-item::before {content: \"\";position: absolute;border-left: 1px solid gray;box-sizing: border-box;top: 0;bottom: 0;left: 50%;z-index: -1;}#sk-container-id-1 div.sk-parallel-item {display: flex;flex-direction: column;z-index: 1;position: relative;background-color: white;}#sk-container-id-1 div.sk-parallel-item:first-child::after {align-self: flex-end;width: 50%;}#sk-container-id-1 div.sk-parallel-item:last-child::after {align-self: flex-start;width: 50%;}#sk-container-id-1 div.sk-parallel-item:only-child::after {width: 0;}#sk-container-id-1 div.sk-dashed-wrapped {border: 1px dashed gray;margin: 0 0.4em 0.5em 0.4em;box-sizing: border-box;padding-bottom: 0.4em;background-color: white;}#sk-container-id-1 div.sk-label label {font-family: monospace;font-weight: bold;display: inline-block;line-height: 1.2em;}#sk-container-id-1 div.sk-label-container {text-align: center;}#sk-container-id-1 div.sk-container {/* jupyter's `normalize.less` sets `[hidden] { display: none; }` but bootstrap.min.css set `[hidden] { display: none !important; }` so we also need the `!important` here to be able to override the default hidden behavior on the sphinx rendered scikit-learn.org. See: https://github.com/scikit-learn/scikit-learn/issues/21755 */display: inline-block !important;position: relative;}#sk-container-id-1 div.sk-text-repr-fallback {display: none;}</style><div id=\"sk-container-id-1\" class=\"sk-top-container\"><div class=\"sk-text-repr-fallback\"><pre>Pipeline(steps=[(&#x27;scale&#x27;, StandardScaler()),\n",
       "                (&#x27;model&#x27;, RandomForestClassifier(n_jobs=-1))])</pre><b>In a Jupyter environment, please rerun this cell to show the HTML representation or trust the notebook. <br />On GitHub, the HTML representation is unable to render, please try loading this page with nbviewer.org.</b></div><div class=\"sk-container\" hidden><div class=\"sk-item sk-dashed-wrapped\"><div class=\"sk-label-container\"><div class=\"sk-label sk-toggleable\"><input class=\"sk-toggleable__control sk-hidden--visually\" id=\"sk-estimator-id-1\" type=\"checkbox\" ><label for=\"sk-estimator-id-1\" class=\"sk-toggleable__label sk-toggleable__label-arrow\">Pipeline</label><div class=\"sk-toggleable__content\"><pre>Pipeline(steps=[(&#x27;scale&#x27;, StandardScaler()),\n",
       "                (&#x27;model&#x27;, RandomForestClassifier(n_jobs=-1))])</pre></div></div></div><div class=\"sk-serial\"><div class=\"sk-item\"><div class=\"sk-estimator sk-toggleable\"><input class=\"sk-toggleable__control sk-hidden--visually\" id=\"sk-estimator-id-2\" type=\"checkbox\" ><label for=\"sk-estimator-id-2\" class=\"sk-toggleable__label sk-toggleable__label-arrow\">StandardScaler</label><div class=\"sk-toggleable__content\"><pre>StandardScaler()</pre></div></div></div><div class=\"sk-item\"><div class=\"sk-estimator sk-toggleable\"><input class=\"sk-toggleable__control sk-hidden--visually\" id=\"sk-estimator-id-3\" type=\"checkbox\" ><label for=\"sk-estimator-id-3\" class=\"sk-toggleable__label sk-toggleable__label-arrow\">RandomForestClassifier</label><div class=\"sk-toggleable__content\"><pre>RandomForestClassifier(n_jobs=-1)</pre></div></div></div></div></div></div></div>"
      ],
      "text/plain": [
       "Pipeline(steps=[('scale', StandardScaler()),\n",
       "                ('model', RandomForestClassifier(n_jobs=-1))])"
      ]
     },
     "execution_count": 43,
     "metadata": {},
     "output_type": "execute_result"
    }
   ],
   "source": [
    "model.fit(X_train, y_train.values.ravel())"
   ]
  },
  {
   "cell_type": "code",
   "execution_count": 44,
   "id": "af59f8c0",
   "metadata": {
    "execution": {
     "iopub.execute_input": "2025-07-30T14:08:22.224434Z",
     "iopub.status.busy": "2025-07-30T14:08:22.223912Z",
     "iopub.status.idle": "2025-07-30T14:08:22.230221Z",
     "shell.execute_reply": "2025-07-30T14:08:22.229393Z"
    },
    "papermill": {
     "duration": 0.037917,
     "end_time": "2025-07-30T14:08:22.235202",
     "exception": false,
     "start_time": "2025-07-30T14:08:22.197285",
     "status": "completed"
    },
    "tags": []
   },
   "outputs": [],
   "source": [
    "from fairness_multiverse.universe import predict_w_threshold"
   ]
  },
  {
   "cell_type": "code",
   "execution_count": 45,
   "id": "a7cf2e16",
   "metadata": {
    "execution": {
     "iopub.execute_input": "2025-07-30T14:08:22.340984Z",
     "iopub.status.busy": "2025-07-30T14:08:22.340634Z",
     "iopub.status.idle": "2025-07-30T14:08:23.504070Z",
     "shell.execute_reply": "2025-07-30T14:08:23.503202Z"
    },
    "papermill": {
     "duration": 1.200435,
     "end_time": "2025-07-30T14:08:23.505648",
     "exception": false,
     "start_time": "2025-07-30T14:08:22.305213",
     "status": "completed"
    },
    "tags": []
   },
   "outputs": [
    {
     "data": {
      "text/plain": [
       "0.8673614981607402"
      ]
     },
     "execution_count": 45,
     "metadata": {},
     "output_type": "execute_result"
    }
   ],
   "source": [
    "probs_test = model.predict_proba(X_test)\n",
    "\n",
    "'''\n",
    "Below code returns a boolean array (or binary 0/1 array depending on how it’s used) where each element \n",
    "is True if the probability of class 1 is greater than or equal to the threshold, and False otherwise.\n",
    "'''\n",
    "y_pred_default = predict_w_threshold(probs_test, 0.5)\n",
    "\n",
    "from sklearn.metrics import accuracy_score\n",
    "\n",
    "# Naive prediction\n",
    "accuracy_score(y_true = y_true, y_pred = y_pred_default)"
   ]
  },
  {
   "cell_type": "code",
   "execution_count": 46,
   "id": "081964c3",
   "metadata": {
    "execution": {
     "iopub.execute_input": "2025-07-30T14:08:23.606661Z",
     "iopub.status.busy": "2025-07-30T14:08:23.606233Z",
     "iopub.status.idle": "2025-07-30T14:08:24.781715Z",
     "shell.execute_reply": "2025-07-30T14:08:24.780753Z"
    },
    "papermill": {
     "duration": 1.224639,
     "end_time": "2025-07-30T14:08:24.783729",
     "exception": false,
     "start_time": "2025-07-30T14:08:23.559090",
     "status": "completed"
    },
    "tags": []
   },
   "outputs": [
    {
     "data": {
      "text/plain": [
       "array([0, 0, 0, ..., 0, 0, 0])"
      ]
     },
     "execution_count": 46,
     "metadata": {},
     "output_type": "execute_result"
    }
   ],
   "source": [
    "model.predict(X_test)"
   ]
  },
  {
   "cell_type": "markdown",
   "id": "56c9705b",
   "metadata": {
    "papermill": {
     "duration": 0.021729,
     "end_time": "2025-07-30T14:08:24.840674",
     "exception": false,
     "start_time": "2025-07-30T14:08:24.818945",
     "status": "completed"
    },
    "tags": []
   },
   "source": [
    "# Conformal Prediction"
   ]
  },
  {
   "cell_type": "code",
   "execution_count": 47,
   "id": "160ec6ff",
   "metadata": {
    "execution": {
     "iopub.execute_input": "2025-07-30T14:08:24.893899Z",
     "iopub.status.busy": "2025-07-30T14:08:24.893488Z",
     "iopub.status.idle": "2025-07-30T14:08:24.899249Z",
     "shell.execute_reply": "2025-07-30T14:08:24.898141Z"
    },
    "papermill": {
     "duration": 0.036242,
     "end_time": "2025-07-30T14:08:24.902664",
     "exception": false,
     "start_time": "2025-07-30T14:08:24.866422",
     "status": "completed"
    },
    "tags": []
   },
   "outputs": [],
   "source": [
    "# Miscoverage level for conformal prediction (10% allowed error rate => 90% target coverage)\n",
    "alpha = 0.1"
   ]
  },
  {
   "cell_type": "code",
   "execution_count": 48,
   "id": "eadf4555-3dd3-440e-8e35-f82a4ad9f855",
   "metadata": {
    "execution": {
     "iopub.execute_input": "2025-07-30T14:08:24.957780Z",
     "iopub.status.busy": "2025-07-30T14:08:24.957315Z",
     "iopub.status.idle": "2025-07-30T14:08:26.001064Z",
     "shell.execute_reply": "2025-07-30T14:08:26.000082Z"
    },
    "papermill": {
     "duration": 1.073313,
     "end_time": "2025-07-30T14:08:26.003199",
     "exception": false,
     "start_time": "2025-07-30T14:08:24.929886",
     "status": "completed"
    },
    "tags": []
   },
   "outputs": [],
   "source": [
    "probs_calib = model.predict_proba(X_calib)"
   ]
  },
  {
   "cell_type": "code",
   "execution_count": 49,
   "id": "2ed93547-6d5d-4983-9b36-1ecb300da49a",
   "metadata": {
    "execution": {
     "iopub.execute_input": "2025-07-30T14:08:26.055330Z",
     "iopub.status.busy": "2025-07-30T14:08:26.054477Z",
     "iopub.status.idle": "2025-07-30T14:08:26.061011Z",
     "shell.execute_reply": "2025-07-30T14:08:26.059909Z"
    },
    "papermill": {
     "duration": 0.032933,
     "end_time": "2025-07-30T14:08:26.062738",
     "exception": false,
     "start_time": "2025-07-30T14:08:26.029805",
     "status": "completed"
    },
    "tags": []
   },
   "outputs": [],
   "source": [
    "y_calib = y_calib.values.ravel().astype(int)"
   ]
  },
  {
   "cell_type": "code",
   "execution_count": 50,
   "id": "65d1320d-f588-4b38-9072-62af1ae97f7d",
   "metadata": {
    "execution": {
     "iopub.execute_input": "2025-07-30T14:08:26.126598Z",
     "iopub.status.busy": "2025-07-30T14:08:26.126045Z",
     "iopub.status.idle": "2025-07-30T14:08:26.135341Z",
     "shell.execute_reply": "2025-07-30T14:08:26.134199Z"
    },
    "papermill": {
     "duration": 0.040581,
     "end_time": "2025-07-30T14:08:26.137275",
     "exception": false,
     "start_time": "2025-07-30T14:08:26.096694",
     "status": "completed"
    },
    "tags": []
   },
   "outputs": [],
   "source": [
    "from fairness_multiverse.conformal import compute_nc_scores\n",
    "\n",
    "# Compute nonconformity scores on calibration set (1 - probability of true class)\n",
    "nc_scores = compute_nc_scores(probs_calib, y_calib)"
   ]
  },
  {
   "cell_type": "code",
   "execution_count": 51,
   "id": "df3b8ca3-53b7-43d5-9667-7c85da7aeda2",
   "metadata": {
    "execution": {
     "iopub.execute_input": "2025-07-30T14:08:26.201983Z",
     "iopub.status.busy": "2025-07-30T14:08:26.201071Z",
     "iopub.status.idle": "2025-07-30T14:08:26.208884Z",
     "shell.execute_reply": "2025-07-30T14:08:26.207722Z"
    },
    "papermill": {
     "duration": 0.045512,
     "end_time": "2025-07-30T14:08:26.210905",
     "exception": false,
     "start_time": "2025-07-30T14:08:26.165393",
     "status": "completed"
    },
    "tags": []
   },
   "outputs": [],
   "source": [
    "from fairness_multiverse.conformal import find_threshold\n",
    "\n",
    "# Find conformal threshold q_hat for the given alpha (split conformal method)\n",
    "q_hat = find_threshold(nc_scores, alpha)"
   ]
  },
  {
   "cell_type": "code",
   "execution_count": 52,
   "id": "4d29e6c1-0ef6-4aa4-b8fe-4fe79b0d033a",
   "metadata": {
    "execution": {
     "iopub.execute_input": "2025-07-30T14:08:26.269678Z",
     "iopub.status.busy": "2025-07-30T14:08:26.269139Z",
     "iopub.status.idle": "2025-07-30T14:08:26.276809Z",
     "shell.execute_reply": "2025-07-30T14:08:26.275819Z"
    },
    "papermill": {
     "duration": 0.038317,
     "end_time": "2025-07-30T14:08:26.278531",
     "exception": false,
     "start_time": "2025-07-30T14:08:26.240214",
     "status": "completed"
    },
    "tags": []
   },
   "outputs": [
    {
     "data": {
      "text/plain": [
       "0.6699999999999999"
      ]
     },
     "execution_count": 52,
     "metadata": {},
     "output_type": "execute_result"
    }
   ],
   "source": [
    "q_hat"
   ]
  },
  {
   "cell_type": "code",
   "execution_count": 53,
   "id": "92460794-cdac-4be2-ba28-f28c0515a6fb",
   "metadata": {
    "execution": {
     "iopub.execute_input": "2025-07-30T14:08:26.333493Z",
     "iopub.status.busy": "2025-07-30T14:08:26.333013Z",
     "iopub.status.idle": "2025-07-30T14:08:27.830227Z",
     "shell.execute_reply": "2025-07-30T14:08:27.829170Z"
    },
    "papermill": {
     "duration": 1.526537,
     "end_time": "2025-07-30T14:08:27.832289",
     "exception": false,
     "start_time": "2025-07-30T14:08:26.305752",
     "status": "completed"
    },
    "tags": []
   },
   "outputs": [],
   "source": [
    "from fairness_multiverse.conformal import predict_conformal_sets\n",
    "\n",
    "# Generate prediction sets for each test example\n",
    "pred_sets = predict_conformal_sets(model, X_test, q_hat)"
   ]
  },
  {
   "cell_type": "code",
   "execution_count": 54,
   "id": "d90c9a65-e6db-4f5d-80cd-e68fb7e46829",
   "metadata": {
    "execution": {
     "iopub.execute_input": "2025-07-30T14:08:27.893988Z",
     "iopub.status.busy": "2025-07-30T14:08:27.893629Z",
     "iopub.status.idle": "2025-07-30T14:08:27.898181Z",
     "shell.execute_reply": "2025-07-30T14:08:27.897412Z"
    },
    "papermill": {
     "duration": 0.027837,
     "end_time": "2025-07-30T14:08:27.899759",
     "exception": false,
     "start_time": "2025-07-30T14:08:27.871922",
     "status": "completed"
    },
    "tags": []
   },
   "outputs": [],
   "source": [
    "y_true = y_true.squeeze()"
   ]
  },
  {
   "cell_type": "code",
   "execution_count": 55,
   "id": "3a58a54a-1e68-46b9-927a-df01f18aebc8",
   "metadata": {
    "execution": {
     "iopub.execute_input": "2025-07-30T14:08:27.957341Z",
     "iopub.status.busy": "2025-07-30T14:08:27.956855Z",
     "iopub.status.idle": "2025-07-30T14:08:28.876890Z",
     "shell.execute_reply": "2025-07-30T14:08:28.875949Z"
    },
    "papermill": {
     "duration": 0.952631,
     "end_time": "2025-07-30T14:08:28.878909",
     "exception": false,
     "start_time": "2025-07-30T14:08:27.926278",
     "status": "completed"
    },
    "tags": []
   },
   "outputs": [],
   "source": [
    "from fairness_multiverse.conformal import evaluate_sets\n",
    "\n",
    "# Evaluate coverage and average set size on test data\n",
    "metrics = evaluate_sets(pred_sets, y_true)"
   ]
  },
  {
   "cell_type": "markdown",
   "id": "2b569c12-9aaa-4c88-98c9-bbcd0cf3ebb8",
   "metadata": {
    "papermill": {
     "duration": 0.022497,
     "end_time": "2025-07-30T14:08:28.925529",
     "exception": false,
     "start_time": "2025-07-30T14:08:28.903032",
     "status": "completed"
    },
    "tags": []
   },
   "source": [
    "# CP Metrics"
   ]
  },
  {
   "cell_type": "code",
   "execution_count": 56,
   "id": "5ce0a5cb-201f-45a0-ade5-94c7f0bd6095",
   "metadata": {
    "execution": {
     "iopub.execute_input": "2025-07-30T14:08:28.972176Z",
     "iopub.status.busy": "2025-07-30T14:08:28.971778Z",
     "iopub.status.idle": "2025-07-30T14:08:28.978516Z",
     "shell.execute_reply": "2025-07-30T14:08:28.977676Z"
    },
    "papermill": {
     "duration": 0.034032,
     "end_time": "2025-07-30T14:08:28.982142",
     "exception": false,
     "start_time": "2025-07-30T14:08:28.948110",
     "status": "completed"
    },
    "tags": []
   },
   "outputs": [
    {
     "data": {
      "text/plain": [
       "{'coverage': 0.9161186043919296, 'avg_size': 1.1495708393713076}"
      ]
     },
     "execution_count": 56,
     "metadata": {},
     "output_type": "execute_result"
    }
   ],
   "source": [
    "metrics"
   ]
  },
  {
   "cell_type": "code",
   "execution_count": 57,
   "id": "9b9a838d-31c9-430b-ae14-12baee460d17",
   "metadata": {
    "execution": {
     "iopub.execute_input": "2025-07-30T14:08:29.030475Z",
     "iopub.status.busy": "2025-07-30T14:08:29.030041Z",
     "iopub.status.idle": "2025-07-30T14:08:29.036407Z",
     "shell.execute_reply": "2025-07-30T14:08:29.035236Z"
    },
    "papermill": {
     "duration": 0.032167,
     "end_time": "2025-07-30T14:08:29.038523",
     "exception": false,
     "start_time": "2025-07-30T14:08:29.006356",
     "status": "completed"
    },
    "tags": []
   },
   "outputs": [],
   "source": [
    "example_universe = universe.copy()\n",
    "universe_training_size = example_universe.get(\"training_size\")\n",
    "universe_scale = example_universe.get(\"scale\")\n",
    "universe_model = example_universe.get(\"model\")\n",
    "universe_exclude_features = example_universe.get(\"exclude_features\")\n",
    "universe_exclude_subgroups = example_universe.get(\"exclude_subgroups\")"
   ]
  },
  {
   "cell_type": "code",
   "execution_count": 58,
   "id": "f4b6a8ac-9dc0-4245-8a91-5b3b5999c4f9",
   "metadata": {
    "execution": {
     "iopub.execute_input": "2025-07-30T14:08:29.086858Z",
     "iopub.status.busy": "2025-07-30T14:08:29.086418Z",
     "iopub.status.idle": "2025-07-30T14:08:29.092507Z",
     "shell.execute_reply": "2025-07-30T14:08:29.091462Z"
    },
    "papermill": {
     "duration": 0.031298,
     "end_time": "2025-07-30T14:08:29.094129",
     "exception": false,
     "start_time": "2025-07-30T14:08:29.062831",
     "status": "completed"
    },
    "tags": []
   },
   "outputs": [],
   "source": [
    "cp_metrics_dict = {\n",
    "    \"universe_id\": [universe_id],\n",
    "    \"universe_training_size\": [universe_training_size],\n",
    "    \"universe_scale\": [universe_scale],\n",
    "    \"universe_model\": [universe_model],\n",
    "    \"universe_exclude_features\": [universe_exclude_features],\n",
    "    \"universe_exclude_subgroups\": [universe_exclude_subgroups],\n",
    "    \"q_hat\": [q_hat],\n",
    "    \"coverage\": [metrics[\"coverage\"]],\n",
    "    \"avg_size\": [metrics[\"avg_size\"]],\n",
    "}"
   ]
  },
  {
   "cell_type": "code",
   "execution_count": 59,
   "id": "908acbb1-0371-4915-85ca-3fa520d2efe2",
   "metadata": {
    "execution": {
     "iopub.execute_input": "2025-07-30T14:08:29.143669Z",
     "iopub.status.busy": "2025-07-30T14:08:29.142792Z",
     "iopub.status.idle": "2025-07-30T14:08:29.150519Z",
     "shell.execute_reply": "2025-07-30T14:08:29.149544Z"
    },
    "papermill": {
     "duration": 0.033421,
     "end_time": "2025-07-30T14:08:29.152198",
     "exception": false,
     "start_time": "2025-07-30T14:08:29.118777",
     "status": "completed"
    },
    "tags": []
   },
   "outputs": [
    {
     "data": {
      "text/plain": [
       "{'universe_id': ['c2b87b40f1d53c5aaf292f7fc233fa47'],\n",
       " 'universe_training_size': ['5k'],\n",
       " 'universe_scale': ['scale'],\n",
       " 'universe_model': ['rf'],\n",
       " 'universe_exclude_features': ['none'],\n",
       " 'universe_exclude_subgroups': ['keep-all'],\n",
       " 'q_hat': [0.6699999999999999],\n",
       " 'coverage': [0.9161186043919296],\n",
       " 'avg_size': [1.1495708393713076]}"
      ]
     },
     "execution_count": 59,
     "metadata": {},
     "output_type": "execute_result"
    }
   ],
   "source": [
    "cp_metrics_dict"
   ]
  },
  {
   "cell_type": "code",
   "execution_count": 60,
   "id": "33007efc-14e9-4ec6-97ac-56a455c82265",
   "metadata": {
    "execution": {
     "iopub.execute_input": "2025-07-30T14:08:29.204760Z",
     "iopub.status.busy": "2025-07-30T14:08:29.204057Z",
     "iopub.status.idle": "2025-07-30T14:08:29.210990Z",
     "shell.execute_reply": "2025-07-30T14:08:29.210120Z"
    },
    "papermill": {
     "duration": 0.03445,
     "end_time": "2025-07-30T14:08:29.212725",
     "exception": false,
     "start_time": "2025-07-30T14:08:29.178275",
     "status": "completed"
    },
    "tags": []
   },
   "outputs": [],
   "source": [
    "cp_metrics_df = pd.DataFrame(cp_metrics_dict)"
   ]
  },
  {
   "cell_type": "code",
   "execution_count": 61,
   "id": "db12611b-57b2-4910-b9d0-355adfd6e7bf",
   "metadata": {
    "execution": {
     "iopub.execute_input": "2025-07-30T14:08:29.265391Z",
     "iopub.status.busy": "2025-07-30T14:08:29.264531Z",
     "iopub.status.idle": "2025-07-30T14:08:29.283813Z",
     "shell.execute_reply": "2025-07-30T14:08:29.282904Z"
    },
    "papermill": {
     "duration": 0.046624,
     "end_time": "2025-07-30T14:08:29.285385",
     "exception": false,
     "start_time": "2025-07-30T14:08:29.238761",
     "status": "completed"
    },
    "tags": []
   },
   "outputs": [
    {
     "data": {
      "text/html": [
       "<div>\n",
       "<style scoped>\n",
       "    .dataframe tbody tr th:only-of-type {\n",
       "        vertical-align: middle;\n",
       "    }\n",
       "\n",
       "    .dataframe tbody tr th {\n",
       "        vertical-align: top;\n",
       "    }\n",
       "\n",
       "    .dataframe thead th {\n",
       "        text-align: right;\n",
       "    }\n",
       "</style>\n",
       "<table border=\"1\" class=\"dataframe\">\n",
       "  <thead>\n",
       "    <tr style=\"text-align: right;\">\n",
       "      <th></th>\n",
       "      <th>universe_id</th>\n",
       "      <th>universe_training_size</th>\n",
       "      <th>universe_scale</th>\n",
       "      <th>universe_model</th>\n",
       "      <th>universe_exclude_features</th>\n",
       "      <th>universe_exclude_subgroups</th>\n",
       "      <th>q_hat</th>\n",
       "      <th>coverage</th>\n",
       "      <th>avg_size</th>\n",
       "    </tr>\n",
       "  </thead>\n",
       "  <tbody>\n",
       "    <tr>\n",
       "      <th>0</th>\n",
       "      <td>c2b87b40f1d53c5aaf292f7fc233fa47</td>\n",
       "      <td>5k</td>\n",
       "      <td>scale</td>\n",
       "      <td>rf</td>\n",
       "      <td>none</td>\n",
       "      <td>keep-all</td>\n",
       "      <td>0.67</td>\n",
       "      <td>0.916119</td>\n",
       "      <td>1.149571</td>\n",
       "    </tr>\n",
       "  </tbody>\n",
       "</table>\n",
       "</div>"
      ],
      "text/plain": [
       "                        universe_id universe_training_size universe_scale  \\\n",
       "0  c2b87b40f1d53c5aaf292f7fc233fa47                     5k          scale   \n",
       "\n",
       "  universe_model universe_exclude_features universe_exclude_subgroups  q_hat  \\\n",
       "0             rf                      none                   keep-all   0.67   \n",
       "\n",
       "   coverage  avg_size  \n",
       "0  0.916119  1.149571  "
      ]
     },
     "execution_count": 61,
     "metadata": {},
     "output_type": "execute_result"
    }
   ],
   "source": [
    "cp_metrics_df"
   ]
  },
  {
   "cell_type": "code",
   "execution_count": 62,
   "id": "b7fbde55-a0a1-47e4-9af6-fe4a17fa8c61",
   "metadata": {
    "execution": {
     "iopub.execute_input": "2025-07-30T14:08:29.337666Z",
     "iopub.status.busy": "2025-07-30T14:08:29.337285Z",
     "iopub.status.idle": "2025-07-30T14:08:29.342328Z",
     "shell.execute_reply": "2025-07-30T14:08:29.341548Z"
    },
    "papermill": {
     "duration": 0.034861,
     "end_time": "2025-07-30T14:08:29.345238",
     "exception": false,
     "start_time": "2025-07-30T14:08:29.310377",
     "status": "completed"
    },
    "tags": []
   },
   "outputs": [],
   "source": [
    "# Conditional Coverage & looking at subgroups"
   ]
  },
  {
   "cell_type": "code",
   "execution_count": 63,
   "id": "027ae886-68dd-4141-96c7-805a5450e1ef",
   "metadata": {
    "execution": {
     "iopub.execute_input": "2025-07-30T14:08:29.398378Z",
     "iopub.status.busy": "2025-07-30T14:08:29.398000Z",
     "iopub.status.idle": "2025-07-30T14:08:29.658311Z",
     "shell.execute_reply": "2025-07-30T14:08:29.657403Z"
    },
    "papermill": {
     "duration": 0.289729,
     "end_time": "2025-07-30T14:08:29.660329",
     "exception": false,
     "start_time": "2025-07-30T14:08:29.370600",
     "status": "completed"
    },
    "tags": []
   },
   "outputs": [],
   "source": [
    "from fairness_multiverse.conformal import build_cp_groups\n",
    "\n",
    "cp_groups_df = build_cp_groups(pred_sets, y_true, X_test.index, org_test)\n",
    "#needs universe_id and setting"
   ]
  },
  {
   "cell_type": "code",
   "execution_count": 64,
   "id": "01d5802c-663a-4d1f-9d69-e036faaffbf7",
   "metadata": {
    "execution": {
     "iopub.execute_input": "2025-07-30T14:08:29.713804Z",
     "iopub.status.busy": "2025-07-30T14:08:29.713419Z",
     "iopub.status.idle": "2025-07-30T14:08:29.718406Z",
     "shell.execute_reply": "2025-07-30T14:08:29.717462Z"
    },
    "papermill": {
     "duration": 0.033736,
     "end_time": "2025-07-30T14:08:29.721193",
     "exception": false,
     "start_time": "2025-07-30T14:08:29.687457",
     "status": "completed"
    },
    "tags": []
   },
   "outputs": [],
   "source": [
    "#delete\n",
    "#cp_groups_df"
   ]
  },
  {
   "cell_type": "code",
   "execution_count": 65,
   "id": "fa424af1-d1eb-443d-b717-2d279ada8408",
   "metadata": {
    "execution": {
     "iopub.execute_input": "2025-07-30T14:08:29.773804Z",
     "iopub.status.busy": "2025-07-30T14:08:29.773403Z",
     "iopub.status.idle": "2025-07-30T14:08:29.778482Z",
     "shell.execute_reply": "2025-07-30T14:08:29.777588Z"
    },
    "papermill": {
     "duration": 0.075178,
     "end_time": "2025-07-30T14:08:29.822556",
     "exception": false,
     "start_time": "2025-07-30T14:08:29.747378",
     "status": "completed"
    },
    "tags": []
   },
   "outputs": [],
   "source": [
    "#delete\n",
    "#percentage = (cp_groups_df['nongerman_female'] == 1).mean() * 100\n",
    "#print(percentage)\n"
   ]
  },
  {
   "cell_type": "code",
   "execution_count": 66,
   "id": "6cbdab96-b2b2-45af-ad54-d0516db2e28d",
   "metadata": {
    "execution": {
     "iopub.execute_input": "2025-07-30T14:08:29.930394Z",
     "iopub.status.busy": "2025-07-30T14:08:29.929423Z",
     "iopub.status.idle": "2025-07-30T14:08:31.506692Z",
     "shell.execute_reply": "2025-07-30T14:08:31.505782Z"
    },
    "papermill": {
     "duration": 1.623063,
     "end_time": "2025-07-30T14:08:31.508491",
     "exception": false,
     "start_time": "2025-07-30T14:08:29.885428",
     "status": "completed"
    },
    "tags": []
   },
   "outputs": [],
   "source": [
    "# Define covered = 1 if true_label is in the predicted set\n",
    "cp_groups_df['covered'] = cp_groups_df.apply(\n",
    "    lambda r: int(r['true_label'] in r['pred_set']),\n",
    "    axis=1\n",
    ")"
   ]
  },
  {
   "cell_type": "code",
   "execution_count": 67,
   "id": "338ff529-1a6b-4b87-a931-8e4788d52aad",
   "metadata": {
    "execution": {
     "iopub.execute_input": "2025-07-30T14:08:31.610120Z",
     "iopub.status.busy": "2025-07-30T14:08:31.609737Z",
     "iopub.status.idle": "2025-07-30T14:08:31.614811Z",
     "shell.execute_reply": "2025-07-30T14:08:31.613842Z"
    },
    "papermill": {
     "duration": 0.056021,
     "end_time": "2025-07-30T14:08:31.616749",
     "exception": false,
     "start_time": "2025-07-30T14:08:31.560728",
     "status": "completed"
    },
    "tags": []
   },
   "outputs": [],
   "source": [
    "#cp_groups_df"
   ]
  },
  {
   "cell_type": "code",
   "execution_count": 68,
   "id": "90032e27-66df-4540-9169-4e89cfbaa758",
   "metadata": {
    "execution": {
     "iopub.execute_input": "2025-07-30T14:08:31.702663Z",
     "iopub.status.busy": "2025-07-30T14:08:31.702280Z",
     "iopub.status.idle": "2025-07-30T14:08:31.714741Z",
     "shell.execute_reply": "2025-07-30T14:08:31.713790Z"
    },
    "papermill": {
     "duration": 0.058268,
     "end_time": "2025-07-30T14:08:31.716511",
     "exception": false,
     "start_time": "2025-07-30T14:08:31.658243",
     "status": "completed"
    },
    "tags": []
   },
   "outputs": [],
   "source": [
    "subgroups = ['frau1','nongerman','nongerman_male','nongerman_female']\n",
    "\n",
    "# Conditional coverage for subgroup==1\n",
    "cond_coverage = {\n",
    "    g: cp_groups_df.loc[cp_groups_df[g]==1, 'covered'].mean()\n",
    "    for g in subgroups\n",
    "}"
   ]
  },
  {
   "cell_type": "code",
   "execution_count": 69,
   "id": "1e348fb1-b9c3-45bc-ba23-f016827a7e0d",
   "metadata": {
    "execution": {
     "iopub.execute_input": "2025-07-30T14:08:31.776453Z",
     "iopub.status.busy": "2025-07-30T14:08:31.775403Z",
     "iopub.status.idle": "2025-07-30T14:08:31.783023Z",
     "shell.execute_reply": "2025-07-30T14:08:31.781851Z"
    },
    "papermill": {
     "duration": 0.041321,
     "end_time": "2025-07-30T14:08:31.787064",
     "exception": false,
     "start_time": "2025-07-30T14:08:31.745743",
     "status": "completed"
    },
    "tags": []
   },
   "outputs": [
    {
     "data": {
      "text/plain": [
       "{'frau1': 0.9145437390483893,\n",
       " 'nongerman': 0.9111323190927973,\n",
       " 'nongerman_male': 0.9250652976672972,\n",
       " 'nongerman_female': 0.8880774962742176}"
      ]
     },
     "execution_count": 69,
     "metadata": {},
     "output_type": "execute_result"
    }
   ],
   "source": [
    "cond_coverage"
   ]
  },
  {
   "cell_type": "code",
   "execution_count": 70,
   "id": "f5093324-c3dd-4d63-bc4c-8d945e5c8bbb",
   "metadata": {
    "execution": {
     "iopub.execute_input": "2025-07-30T14:08:31.842635Z",
     "iopub.status.busy": "2025-07-30T14:08:31.842260Z",
     "iopub.status.idle": "2025-07-30T14:08:31.849491Z",
     "shell.execute_reply": "2025-07-30T14:08:31.848501Z"
    },
    "papermill": {
     "duration": 0.037413,
     "end_time": "2025-07-30T14:08:31.851433",
     "exception": false,
     "start_time": "2025-07-30T14:08:31.814020",
     "status": "completed"
    },
    "tags": []
   },
   "outputs": [],
   "source": [
    "for subgroup, cov in cond_coverage.items():\n",
    "    cp_metrics_df[f\"cov_{subgroup}\"] = cov"
   ]
  },
  {
   "cell_type": "code",
   "execution_count": 71,
   "id": "6e872e10-dbe5-49e8-b554-5030c98ff75d",
   "metadata": {
    "execution": {
     "iopub.execute_input": "2025-07-30T14:08:31.902923Z",
     "iopub.status.busy": "2025-07-30T14:08:31.902432Z",
     "iopub.status.idle": "2025-07-30T14:08:31.924503Z",
     "shell.execute_reply": "2025-07-30T14:08:31.923568Z"
    },
    "papermill": {
     "duration": 0.049795,
     "end_time": "2025-07-30T14:08:31.926744",
     "exception": false,
     "start_time": "2025-07-30T14:08:31.876949",
     "status": "completed"
    },
    "tags": []
   },
   "outputs": [
    {
     "data": {
      "text/html": [
       "<div>\n",
       "<style scoped>\n",
       "    .dataframe tbody tr th:only-of-type {\n",
       "        vertical-align: middle;\n",
       "    }\n",
       "\n",
       "    .dataframe tbody tr th {\n",
       "        vertical-align: top;\n",
       "    }\n",
       "\n",
       "    .dataframe thead th {\n",
       "        text-align: right;\n",
       "    }\n",
       "</style>\n",
       "<table border=\"1\" class=\"dataframe\">\n",
       "  <thead>\n",
       "    <tr style=\"text-align: right;\">\n",
       "      <th></th>\n",
       "      <th>universe_id</th>\n",
       "      <th>universe_training_size</th>\n",
       "      <th>universe_scale</th>\n",
       "      <th>universe_model</th>\n",
       "      <th>universe_exclude_features</th>\n",
       "      <th>universe_exclude_subgroups</th>\n",
       "      <th>q_hat</th>\n",
       "      <th>coverage</th>\n",
       "      <th>avg_size</th>\n",
       "      <th>cov_frau1</th>\n",
       "      <th>cov_nongerman</th>\n",
       "      <th>cov_nongerman_male</th>\n",
       "      <th>cov_nongerman_female</th>\n",
       "    </tr>\n",
       "  </thead>\n",
       "  <tbody>\n",
       "    <tr>\n",
       "      <th>0</th>\n",
       "      <td>c2b87b40f1d53c5aaf292f7fc233fa47</td>\n",
       "      <td>5k</td>\n",
       "      <td>scale</td>\n",
       "      <td>rf</td>\n",
       "      <td>none</td>\n",
       "      <td>keep-all</td>\n",
       "      <td>0.67</td>\n",
       "      <td>0.916119</td>\n",
       "      <td>1.149571</td>\n",
       "      <td>0.914544</td>\n",
       "      <td>0.911132</td>\n",
       "      <td>0.925065</td>\n",
       "      <td>0.888077</td>\n",
       "    </tr>\n",
       "  </tbody>\n",
       "</table>\n",
       "</div>"
      ],
      "text/plain": [
       "                        universe_id universe_training_size universe_scale  \\\n",
       "0  c2b87b40f1d53c5aaf292f7fc233fa47                     5k          scale   \n",
       "\n",
       "  universe_model universe_exclude_features universe_exclude_subgroups  q_hat  \\\n",
       "0             rf                      none                   keep-all   0.67   \n",
       "\n",
       "   coverage  avg_size  cov_frau1  cov_nongerman  cov_nongerman_male  \\\n",
       "0  0.916119  1.149571   0.914544       0.911132            0.925065   \n",
       "\n",
       "   cov_nongerman_female  \n",
       "0              0.888077  "
      ]
     },
     "execution_count": 71,
     "metadata": {},
     "output_type": "execute_result"
    }
   ],
   "source": [
    "cp_metrics_df"
   ]
  },
  {
   "cell_type": "markdown",
   "id": "33774451",
   "metadata": {
    "papermill": {
     "duration": 0.049505,
     "end_time": "2025-07-30T14:08:31.998483",
     "exception": false,
     "start_time": "2025-07-30T14:08:31.948978",
     "status": "completed"
    },
    "tags": []
   },
   "source": [
    "# (Fairness) Metrics"
   ]
  },
  {
   "cell_type": "code",
   "execution_count": 72,
   "id": "debc5d62",
   "metadata": {
    "execution": {
     "iopub.execute_input": "2025-07-30T14:08:32.071326Z",
     "iopub.status.busy": "2025-07-30T14:08:32.070922Z",
     "iopub.status.idle": "2025-07-30T14:08:32.107801Z",
     "shell.execute_reply": "2025-07-30T14:08:32.106832Z"
    },
    "papermill": {
     "duration": 0.077124,
     "end_time": "2025-07-30T14:08:32.109641",
     "exception": false,
     "start_time": "2025-07-30T14:08:32.032517",
     "status": "completed"
    },
    "tags": []
   },
   "outputs": [],
   "source": [
    "# do I need to include maxdeutsch1.missing?\n",
    "\n",
    "import numpy as np\n",
    "\n",
    "colname_to_bin = \"maxdeutsch1\"\n",
    "majority_value = org_train[colname_to_bin].mode()[0]\n",
    "\n",
    "org_test[\"majmin\"] = np.where(org_test[colname_to_bin] == majority_value, \"majority\", \"minority\")"
   ]
  },
  {
   "cell_type": "code",
   "execution_count": 73,
   "id": "06a50de5",
   "metadata": {
    "execution": {
     "iopub.execute_input": "2025-07-30T14:08:32.182635Z",
     "iopub.status.busy": "2025-07-30T14:08:32.181780Z",
     "iopub.status.idle": "2025-07-30T14:08:34.944352Z",
     "shell.execute_reply": "2025-07-30T14:08:34.943394Z"
    },
    "papermill": {
     "duration": 2.792607,
     "end_time": "2025-07-30T14:08:34.946080",
     "exception": false,
     "start_time": "2025-07-30T14:08:32.153473",
     "status": "completed"
    },
    "tags": []
   },
   "outputs": [],
   "source": [
    "example_universe = universe.copy()\n",
    "example_universe[\"cutoff\"] = example_universe[\"cutoff\"][0]\n",
    "example_universe[\"eval_fairness_grouping\"] = example_universe[\"eval_fairness_grouping\"][0]\n",
    "fairness_dict, metric_frame = universe_analysis.compute_metrics(\n",
    "    example_universe,\n",
    "    y_pred_prob=probs_test,\n",
    "    y_test=y_true,\n",
    "    org_test=org_test,\n",
    ")"
   ]
  },
  {
   "cell_type": "markdown",
   "id": "f95d4e02",
   "metadata": {
    "papermill": {
     "duration": 0.026615,
     "end_time": "2025-07-30T14:08:35.001051",
     "exception": false,
     "start_time": "2025-07-30T14:08:34.974436",
     "status": "completed"
    },
    "tags": []
   },
   "source": [
    "# Overall"
   ]
  },
  {
   "cell_type": "markdown",
   "id": "bdee4871",
   "metadata": {
    "papermill": {
     "duration": 0.025839,
     "end_time": "2025-07-30T14:08:35.051767",
     "exception": false,
     "start_time": "2025-07-30T14:08:35.025928",
     "status": "completed"
    },
    "tags": []
   },
   "source": [
    "Fairness\n",
    "Main fairness target: Equalized Odds. Seems to be a better fit than equal opportunity, since we're not only interested in Y = 1. Seems to be a better fit than demographic parity, since we also care about accuracy, not just equal distribution of preds.\n",
    "\n",
    "Pick column for computation of fairness metrics\n",
    "\n",
    "Performance\n",
    "Overall performance measures, most interesting in relation to the measures split by group below"
   ]
  },
  {
   "cell_type": "code",
   "execution_count": 74,
   "id": "c4e067c6",
   "metadata": {
    "execution": {
     "iopub.execute_input": "2025-07-30T14:08:35.103293Z",
     "iopub.status.busy": "2025-07-30T14:08:35.102786Z",
     "iopub.status.idle": "2025-07-30T14:08:35.110954Z",
     "shell.execute_reply": "2025-07-30T14:08:35.110035Z"
    },
    "papermill": {
     "duration": 0.035863,
     "end_time": "2025-07-30T14:08:35.112560",
     "exception": false,
     "start_time": "2025-07-30T14:08:35.076697",
     "status": "completed"
    },
    "tags": []
   },
   "outputs": [
    {
     "data": {
      "text/plain": [
       "accuracy                   0.199008\n",
       "balanced accuracy          0.530230\n",
       "f1                         0.238117\n",
       "precision                  0.135604\n",
       "false positive rate        0.915296\n",
       "false negative rate        0.024244\n",
       "selection rate             0.923052\n",
       "count                  89710.000000\n",
       "dtype: float64"
      ]
     },
     "execution_count": 74,
     "metadata": {},
     "output_type": "execute_result"
    }
   ],
   "source": [
    "metric_frame.overall"
   ]
  },
  {
   "cell_type": "markdown",
   "id": "e968fe9d",
   "metadata": {
    "papermill": {
     "duration": 0.024715,
     "end_time": "2025-07-30T14:08:35.164007",
     "exception": false,
     "start_time": "2025-07-30T14:08:35.139292",
     "status": "completed"
    },
    "tags": []
   },
   "source": [
    "By Group"
   ]
  },
  {
   "cell_type": "code",
   "execution_count": 75,
   "id": "ec325bce",
   "metadata": {
    "execution": {
     "iopub.execute_input": "2025-07-30T14:08:35.216818Z",
     "iopub.status.busy": "2025-07-30T14:08:35.215817Z",
     "iopub.status.idle": "2025-07-30T14:08:35.231124Z",
     "shell.execute_reply": "2025-07-30T14:08:35.230167Z"
    },
    "papermill": {
     "duration": 0.043431,
     "end_time": "2025-07-30T14:08:35.233089",
     "exception": false,
     "start_time": "2025-07-30T14:08:35.189658",
     "status": "completed"
    },
    "tags": []
   },
   "outputs": [
    {
     "data": {
      "text/html": [
       "<div>\n",
       "<style scoped>\n",
       "    .dataframe tbody tr th:only-of-type {\n",
       "        vertical-align: middle;\n",
       "    }\n",
       "\n",
       "    .dataframe tbody tr th {\n",
       "        vertical-align: top;\n",
       "    }\n",
       "\n",
       "    .dataframe thead th {\n",
       "        text-align: right;\n",
       "    }\n",
       "</style>\n",
       "<table border=\"1\" class=\"dataframe\">\n",
       "  <thead>\n",
       "    <tr style=\"text-align: right;\">\n",
       "      <th></th>\n",
       "      <th>accuracy</th>\n",
       "      <th>balanced accuracy</th>\n",
       "      <th>f1</th>\n",
       "      <th>precision</th>\n",
       "      <th>false positive rate</th>\n",
       "      <th>false negative rate</th>\n",
       "      <th>selection rate</th>\n",
       "      <th>count</th>\n",
       "    </tr>\n",
       "    <tr>\n",
       "      <th>majmin</th>\n",
       "      <th></th>\n",
       "      <th></th>\n",
       "      <th></th>\n",
       "      <th></th>\n",
       "      <th></th>\n",
       "      <th></th>\n",
       "      <th></th>\n",
       "      <th></th>\n",
       "    </tr>\n",
       "  </thead>\n",
       "  <tbody>\n",
       "    <tr>\n",
       "      <th>majority</th>\n",
       "      <td>0.189620</td>\n",
       "      <td>0.529731</td>\n",
       "      <td>0.244433</td>\n",
       "      <td>0.139389</td>\n",
       "      <td>0.932550</td>\n",
       "      <td>0.007987</td>\n",
       "      <td>0.940408</td>\n",
       "      <td>69170.0</td>\n",
       "    </tr>\n",
       "    <tr>\n",
       "      <th>minority</th>\n",
       "      <td>0.230623</td>\n",
       "      <td>0.527354</td>\n",
       "      <td>0.214836</td>\n",
       "      <td>0.121741</td>\n",
       "      <td>0.858298</td>\n",
       "      <td>0.086993</td>\n",
       "      <td>0.864606</td>\n",
       "      <td>20540.0</td>\n",
       "    </tr>\n",
       "  </tbody>\n",
       "</table>\n",
       "</div>"
      ],
      "text/plain": [
       "          accuracy  balanced accuracy        f1  precision  \\\n",
       "majmin                                                       \n",
       "majority  0.189620           0.529731  0.244433   0.139389   \n",
       "minority  0.230623           0.527354  0.214836   0.121741   \n",
       "\n",
       "          false positive rate  false negative rate  selection rate    count  \n",
       "majmin                                                                       \n",
       "majority             0.932550             0.007987        0.940408  69170.0  \n",
       "minority             0.858298             0.086993        0.864606  20540.0  "
      ]
     },
     "execution_count": 75,
     "metadata": {},
     "output_type": "execute_result"
    }
   ],
   "source": [
    "metric_frame.by_group"
   ]
  },
  {
   "cell_type": "code",
   "execution_count": 76,
   "id": "a9ddbe63",
   "metadata": {
    "execution": {
     "iopub.execute_input": "2025-07-30T14:08:35.286508Z",
     "iopub.status.busy": "2025-07-30T14:08:35.285994Z",
     "iopub.status.idle": "2025-07-30T14:08:37.584145Z",
     "shell.execute_reply": "2025-07-30T14:08:37.583134Z"
    },
    "papermill": {
     "duration": 2.326599,
     "end_time": "2025-07-30T14:08:37.585879",
     "exception": false,
     "start_time": "2025-07-30T14:08:35.259280",
     "status": "completed"
    },
    "tags": []
   },
   "outputs": [
    {
     "data": {
      "text/plain": [
       "array([[<Axes: title={'center': 'accuracy'}, xlabel='majmin'>,\n",
       "        <Axes: title={'center': 'balanced accuracy'}, xlabel='majmin'>,\n",
       "        <Axes: title={'center': 'f1'}, xlabel='majmin'>],\n",
       "       [<Axes: title={'center': 'precision'}, xlabel='majmin'>,\n",
       "        <Axes: title={'center': 'false positive rate'}, xlabel='majmin'>,\n",
       "        <Axes: title={'center': 'false negative rate'}, xlabel='majmin'>],\n",
       "       [<Axes: title={'center': 'selection rate'}, xlabel='majmin'>,\n",
       "        <Axes: title={'center': 'count'}, xlabel='majmin'>,\n",
       "        <Axes: xlabel='majmin'>]], dtype=object)"
      ]
     },
     "execution_count": 76,
     "metadata": {},
     "output_type": "execute_result"
    },
    {
     "data": {
      "image/png": "[encoded data removed]",
      "text/plain": [
       "<Figure size 1200x800 with 9 Axes>"
      ]
     },
     "metadata": {},
     "output_type": "display_data"
    }
   ],
   "source": [
    "# In a graphic\n",
    "metric_frame.by_group.plot.bar(\n",
    "    subplots=True,\n",
    "    layout=[3, 3],\n",
    "    legend=False,\n",
    "    figsize=[12, 8],\n",
    "    title=\"Show all metrics\",\n",
    ")"
   ]
  },
  {
   "cell_type": "markdown",
   "id": "f57a0bac",
   "metadata": {
    "papermill": {
     "duration": 0.028586,
     "end_time": "2025-07-30T14:08:37.645926",
     "exception": false,
     "start_time": "2025-07-30T14:08:37.617340",
     "status": "completed"
    },
    "tags": []
   },
   "source": [
    "# Final Output"
   ]
  },
  {
   "cell_type": "code",
   "execution_count": 77,
   "id": "96d280a3",
   "metadata": {
    "execution": {
     "iopub.execute_input": "2025-07-30T14:08:37.709413Z",
     "iopub.status.busy": "2025-07-30T14:08:37.708359Z",
     "iopub.status.idle": "2025-07-30T14:08:37.716631Z",
     "shell.execute_reply": "2025-07-30T14:08:37.715680Z"
    },
    "papermill": {
     "duration": 0.043842,
     "end_time": "2025-07-30T14:08:37.718091",
     "exception": false,
     "start_time": "2025-07-30T14:08:37.674249",
     "status": "completed"
    },
    "tags": []
   },
   "outputs": [
    {
     "data": {
      "text/plain": [
       "4"
      ]
     },
     "execution_count": 77,
     "metadata": {},
     "output_type": "execute_result"
    }
   ],
   "source": [
    "sub_universes = universe_analysis.generate_sub_universes()\n",
    "len(sub_universes)"
   ]
  },
  {
   "cell_type": "code",
   "execution_count": 78,
   "id": "92adf7ba",
   "metadata": {
    "execution": {
     "iopub.execute_input": "2025-07-30T14:08:37.777781Z",
     "iopub.status.busy": "2025-07-30T14:08:37.777252Z",
     "iopub.status.idle": "2025-07-30T14:08:37.783575Z",
     "shell.execute_reply": "2025-07-30T14:08:37.782663Z"
    },
    "papermill": {
     "duration": 0.039429,
     "end_time": "2025-07-30T14:08:37.785451",
     "exception": false,
     "start_time": "2025-07-30T14:08:37.746022",
     "status": "completed"
    },
    "tags": []
   },
   "outputs": [],
   "source": [
    "def filter_sub_universe_data(sub_universe, org_test):\n",
    "    # Keep all rows — no filtering\n",
    "    keep_rows_mask = np.ones(org_test.shape[0], dtype=bool)\n",
    "\n",
    "    print(f\"[INFO] Keeping all rows: {keep_rows_mask.sum()} rows retained.\")\n",
    "    return keep_rows_mask"
   ]
  },
  {
   "cell_type": "code",
   "execution_count": 79,
   "id": "4a759155",
   "metadata": {
    "execution": {
     "iopub.execute_input": "2025-07-30T14:08:37.838590Z",
     "iopub.status.busy": "2025-07-30T14:08:37.838111Z",
     "iopub.status.idle": "2025-07-30T14:08:47.283552Z",
     "shell.execute_reply": "2025-07-30T14:08:47.282460Z"
    },
    "papermill": {
     "duration": 9.468372,
     "end_time": "2025-07-30T14:08:47.285248",
     "exception": false,
     "start_time": "2025-07-30T14:08:37.816876",
     "status": "completed"
    },
    "tags": []
   },
   "outputs": [
    {
     "name": "stdout",
     "output_type": "stream",
     "text": [
      "Stopping execution_time clock.\n",
      "[INFO] Keeping all rows: 89710 rows retained.\n"
     ]
    },
    {
     "name": "stdout",
     "output_type": "stream",
     "text": [
      "[INFO] Keeping all rows: 89710 rows retained.\n"
     ]
    },
    {
     "name": "stdout",
     "output_type": "stream",
     "text": [
      "[INFO] Keeping all rows: 89710 rows retained.\n"
     ]
    },
    {
     "name": "stdout",
     "output_type": "stream",
     "text": [
      "[INFO] Keeping all rows: 89710 rows retained.\n"
     ]
    },
    {
     "data": {
      "text/html": [
       "<div>\n",
       "<style scoped>\n",
       "    .dataframe tbody tr th:only-of-type {\n",
       "        vertical-align: middle;\n",
       "    }\n",
       "\n",
       "    .dataframe tbody tr th {\n",
       "        vertical-align: top;\n",
       "    }\n",
       "\n",
       "    .dataframe thead th {\n",
       "        text-align: right;\n",
       "    }\n",
       "</style>\n",
       "<table border=\"1\" class=\"dataframe\">\n",
       "  <thead>\n",
       "    <tr style=\"text-align: right;\">\n",
       "      <th></th>\n",
       "      <th>run_no</th>\n",
       "      <th>universe_id</th>\n",
       "      <th>universe_settings</th>\n",
       "      <th>execution_time</th>\n",
       "      <th>test_size_n</th>\n",
       "      <th>test_size_frac</th>\n",
       "      <th>fair_main_equalized_odds_difference</th>\n",
       "      <th>fair_main_equalized_odds_ratio</th>\n",
       "      <th>fair_main_demographic_parity_difference</th>\n",
       "      <th>fair_main_demographic_parity_ratio</th>\n",
       "      <th>...</th>\n",
       "      <th>perf_grp_precision_0</th>\n",
       "      <th>perf_grp_precision_1</th>\n",
       "      <th>perf_grp_false positive rate_0</th>\n",
       "      <th>perf_grp_false positive rate_1</th>\n",
       "      <th>perf_grp_false negative rate_0</th>\n",
       "      <th>perf_grp_false negative rate_1</th>\n",
       "      <th>perf_grp_selection rate_0</th>\n",
       "      <th>perf_grp_selection rate_1</th>\n",
       "      <th>perf_grp_count_0</th>\n",
       "      <th>perf_grp_count_1</th>\n",
       "    </tr>\n",
       "  </thead>\n",
       "  <tbody>\n",
       "    <tr>\n",
       "      <th>0</th>\n",
       "      <td>12</td>\n",
       "      <td>c2b87b40f1d53c5aaf292f7fc233fa47</td>\n",
       "      <td>{\"cutoff\": \"quantile_0.1\", \"eval_fairness_grou...</td>\n",
       "      <td>33.693611</td>\n",
       "      <td>89710</td>\n",
       "      <td>1.0</td>\n",
       "      <td>0.079006</td>\n",
       "      <td>0.920358</td>\n",
       "      <td>0.075802</td>\n",
       "      <td>0.919394</td>\n",
       "      <td>...</td>\n",
       "      <td>NaN</td>\n",
       "      <td>NaN</td>\n",
       "      <td>NaN</td>\n",
       "      <td>NaN</td>\n",
       "      <td>NaN</td>\n",
       "      <td>NaN</td>\n",
       "      <td>NaN</td>\n",
       "      <td>NaN</td>\n",
       "      <td>NaN</td>\n",
       "      <td>NaN</td>\n",
       "    </tr>\n",
       "    <tr>\n",
       "      <th>0</th>\n",
       "      <td>12</td>\n",
       "      <td>c2b87b40f1d53c5aaf292f7fc233fa47</td>\n",
       "      <td>{\"cutoff\": \"quantile_0.1\", \"eval_fairness_grou...</td>\n",
       "      <td>33.693611</td>\n",
       "      <td>89710</td>\n",
       "      <td>1.0</td>\n",
       "      <td>0.079006</td>\n",
       "      <td>0.920358</td>\n",
       "      <td>0.075802</td>\n",
       "      <td>0.919394</td>\n",
       "      <td>...</td>\n",
       "      <td>0.121741</td>\n",
       "      <td>0.139389</td>\n",
       "      <td>0.858298</td>\n",
       "      <td>0.932550</td>\n",
       "      <td>0.086993</td>\n",
       "      <td>0.007987</td>\n",
       "      <td>0.864606</td>\n",
       "      <td>0.940408</td>\n",
       "      <td>20540.0</td>\n",
       "      <td>69170.0</td>\n",
       "    </tr>\n",
       "    <tr>\n",
       "      <th>0</th>\n",
       "      <td>12</td>\n",
       "      <td>c2b87b40f1d53c5aaf292f7fc233fa47</td>\n",
       "      <td>{\"cutoff\": \"quantile_0.25\", \"eval_fairness_gro...</td>\n",
       "      <td>33.693611</td>\n",
       "      <td>89710</td>\n",
       "      <td>1.0</td>\n",
       "      <td>0.129704</td>\n",
       "      <td>0.864823</td>\n",
       "      <td>0.086796</td>\n",
       "      <td>0.891517</td>\n",
       "      <td>...</td>\n",
       "      <td>NaN</td>\n",
       "      <td>NaN</td>\n",
       "      <td>NaN</td>\n",
       "      <td>NaN</td>\n",
       "      <td>NaN</td>\n",
       "      <td>NaN</td>\n",
       "      <td>NaN</td>\n",
       "      <td>NaN</td>\n",
       "      <td>NaN</td>\n",
       "      <td>NaN</td>\n",
       "    </tr>\n",
       "    <tr>\n",
       "      <th>0</th>\n",
       "      <td>12</td>\n",
       "      <td>c2b87b40f1d53c5aaf292f7fc233fa47</td>\n",
       "      <td>{\"cutoff\": \"quantile_0.25\", \"eval_fairness_gro...</td>\n",
       "      <td>33.693611</td>\n",
       "      <td>89710</td>\n",
       "      <td>1.0</td>\n",
       "      <td>0.129704</td>\n",
       "      <td>0.864823</td>\n",
       "      <td>0.086796</td>\n",
       "      <td>0.891517</td>\n",
       "      <td>...</td>\n",
       "      <td>0.134121</td>\n",
       "      <td>0.158469</td>\n",
       "      <td>0.698107</td>\n",
       "      <td>0.775812</td>\n",
       "      <td>0.170186</td>\n",
       "      <td>0.040481</td>\n",
       "      <td>0.713291</td>\n",
       "      <td>0.800087</td>\n",
       "      <td>20540.0</td>\n",
       "      <td>69170.0</td>\n",
       "    </tr>\n",
       "  </tbody>\n",
       "</table>\n",
       "<p>4 rows × 50 columns</p>\n",
       "</div>"
      ],
      "text/plain": [
       "  run_no                       universe_id  \\\n",
       "0     12  c2b87b40f1d53c5aaf292f7fc233fa47   \n",
       "0     12  c2b87b40f1d53c5aaf292f7fc233fa47   \n",
       "0     12  c2b87b40f1d53c5aaf292f7fc233fa47   \n",
       "0     12  c2b87b40f1d53c5aaf292f7fc233fa47   \n",
       "\n",
       "                                   universe_settings  execution_time  \\\n",
       "0  {\"cutoff\": \"quantile_0.1\", \"eval_fairness_grou...       33.693611   \n",
       "0  {\"cutoff\": \"quantile_0.1\", \"eval_fairness_grou...       33.693611   \n",
       "0  {\"cutoff\": \"quantile_0.25\", \"eval_fairness_gro...       33.693611   \n",
       "0  {\"cutoff\": \"quantile_0.25\", \"eval_fairness_gro...       33.693611   \n",
       "\n",
       "   test_size_n  test_size_frac  fair_main_equalized_odds_difference  \\\n",
       "0        89710             1.0                             0.079006   \n",
       "0        89710             1.0                             0.079006   \n",
       "0        89710             1.0                             0.129704   \n",
       "0        89710             1.0                             0.129704   \n",
       "\n",
       "   fair_main_equalized_odds_ratio  fair_main_demographic_parity_difference  \\\n",
       "0                        0.920358                                 0.075802   \n",
       "0                        0.920358                                 0.075802   \n",
       "0                        0.864823                                 0.086796   \n",
       "0                        0.864823                                 0.086796   \n",
       "\n",
       "   fair_main_demographic_parity_ratio  ...  perf_grp_precision_0  \\\n",
       "0                            0.919394  ...                   NaN   \n",
       "0                            0.919394  ...              0.121741   \n",
       "0                            0.891517  ...                   NaN   \n",
       "0                            0.891517  ...              0.134121   \n",
       "\n",
       "   perf_grp_precision_1  perf_grp_false positive rate_0  \\\n",
       "0                   NaN                             NaN   \n",
       "0              0.139389                        0.858298   \n",
       "0                   NaN                             NaN   \n",
       "0              0.158469                        0.698107   \n",
       "\n",
       "   perf_grp_false positive rate_1  perf_grp_false negative rate_0  \\\n",
       "0                             NaN                             NaN   \n",
       "0                        0.932550                        0.086993   \n",
       "0                             NaN                             NaN   \n",
       "0                        0.775812                        0.170186   \n",
       "\n",
       "   perf_grp_false negative rate_1  perf_grp_selection rate_0  \\\n",
       "0                             NaN                        NaN   \n",
       "0                        0.007987                   0.864606   \n",
       "0                             NaN                        NaN   \n",
       "0                        0.040481                   0.713291   \n",
       "\n",
       "   perf_grp_selection rate_1  perf_grp_count_0  perf_grp_count_1  \n",
       "0                        NaN               NaN               NaN  \n",
       "0                   0.940408           20540.0           69170.0  \n",
       "0                        NaN               NaN               NaN  \n",
       "0                   0.800087           20540.0           69170.0  \n",
       "\n",
       "[4 rows x 50 columns]"
      ]
     },
     "execution_count": 79,
     "metadata": {},
     "output_type": "execute_result"
    }
   ],
   "source": [
    "final_output = universe_analysis.generate_final_output(\n",
    "    y_pred_prob=probs_test,\n",
    "    y_test=y_true,\n",
    "    org_test=org_test,\n",
    "    filter_data=filter_sub_universe_data,\n",
    "    cp_metrics_df=cp_metrics_df,\n",
    "    save=True,\n",
    ")\n",
    "final_output"
   ]
  },
  {
   "cell_type": "code",
   "execution_count": null,
   "id": "721ff514-cb11-46f8-b6fc-50392f74b5cb",
   "metadata": {
    "papermill": {
     "duration": 0.031624,
     "end_time": "2025-07-30T14:08:47.350488",
     "exception": false,
     "start_time": "2025-07-30T14:08:47.318864",
     "status": "completed"
    },
    "tags": []
   },
   "outputs": [],
   "source": []
  }
 ],
 "metadata": {
  "celltoolbar": "Tags",
  "kernelspec": {
   "display_name": "Python (CMA Fairness)",
   "language": "python",
   "name": "cma_fair_env"
  },
  "language_info": {
   "codemirror_mode": {
    "name": "ipython",
    "version": 3
   },
   "file_extension": ".py",
   "mimetype": "text/x-python",
   "name": "python",
   "nbconvert_exporter": "python",
   "pygments_lexer": "ipython3",
   "version": "3.10.12"
  },
  "papermill": {
   "default_parameters": {},
   "duration": 47.68112,
   "end_time": "2025-07-30T14:08:48.201506",
   "environment_variables": {},
   "exception": null,
   "input_path": "universe_analysis.ipynb",
   "output_path": "output/runs/12/notebooks/m_12-c2b87b40f1d53c5aaf292f7fc233fa47.ipynb",
   "parameters": {
    "output_dir": "output",
    "run_no": "12",
    "seed": "2023",
    "universe": "{\"cutoff\": [\"quantile_0.1\", \"quantile_0.25\"], \"eval_fairness_grouping\": [\"majority-minority\", \"nationality-all\"], \"exclude_features\": \"none\", \"exclude_subgroups\": \"keep-all\", \"model\": \"rf\", \"scale\": \"scale\", \"training_size\": \"5k\", \"training_year\": \"2010_14\"}",
    "universe_id": "c2b87b40f1d53c5aaf292f7fc233fa47"
   },
   "start_time": "2025-07-30T14:08:00.520386",
   "version": "2.6.0"
  }
 },
 "nbformat": 4,
 "nbformat_minor": 5
}