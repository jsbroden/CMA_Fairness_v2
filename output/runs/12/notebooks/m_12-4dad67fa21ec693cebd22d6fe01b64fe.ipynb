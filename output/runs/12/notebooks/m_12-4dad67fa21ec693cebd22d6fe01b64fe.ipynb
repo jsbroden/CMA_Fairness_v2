{
 "cells": [
  {
   "cell_type": "code",
   "execution_count": 1,
   "id": "f159f837-637b-42ba-96b5-ec9a68c44524",
   "metadata": {
    "execution": {
     "iopub.execute_input": "2025-07-30T13:45:27.334063Z",
     "iopub.status.busy": "2025-07-30T13:45:27.333280Z",
     "iopub.status.idle": "2025-07-30T13:45:27.346813Z",
     "shell.execute_reply": "2025-07-30T13:45:27.345848Z"
    },
    "papermill": {
     "duration": 0.035976,
     "end_time": "2025-07-30T13:45:27.348549",
     "exception": false,
     "start_time": "2025-07-30T13:45:27.312573",
     "status": "completed"
    },
    "tags": []
   },
   "outputs": [
    {
     "name": "stdout",
     "output_type": "stream",
     "text": [
      "/dss/dsshome1/0C/ra93lal2/cma/CMA_Fairness_v2\n"
     ]
    },
    {
     "name": "stderr",
     "output_type": "stream",
     "text": [
      "/dss/dsshome1/0C/ra93lal2/.local/share/virtualenvs/CMA_Fairness_v2-3j10GkSs/lib/python3.10/site-packages/IPython/core/magics/osm.py:393: UserWarning: This is now an optional IPython functionality, using bookmarks requires you to install the `pickleshare` library.\n",
      "  bkms = self.shell.db.get('bookmarks', {})\n",
      "/dss/dsshome1/0C/ra93lal2/.local/share/virtualenvs/CMA_Fairness_v2-3j10GkSs/lib/python3.10/site-packages/IPython/core/magics/osm.py:417: UserWarning: This is now an optional IPython functionality, setting dhist requires you to install the `pickleshare` library.\n",
      "  self.shell.db['dhist'] = compress_dhist(dhist)[-100:]\n"
     ]
    }
   ],
   "source": [
    "%cd ~/cma/CMA_Fairness_v2"
   ]
  },
  {
   "cell_type": "markdown",
   "id": "de2603b9",
   "metadata": {
    "papermill": {
     "duration": 0.060667,
     "end_time": "2025-07-30T13:45:27.428394",
     "exception": false,
     "start_time": "2025-07-30T13:45:27.367727",
     "status": "completed"
    },
    "tags": []
   },
   "source": [
    "The following cell holds the definition of our parameters, these values can be overriden by rendering the with e.g. the following command:\n",
    "\n",
    "papermill -p alpha 0.2 -p ratio 0.3 universe_analysis.ipynb output/test_run.ipynb"
   ]
  },
  {
   "cell_type": "code",
   "execution_count": 2,
   "id": "a80968a0-40bb-4fa9-85ef-2d5eefb01975",
   "metadata": {
    "execution": {
     "iopub.execute_input": "2025-07-30T13:45:27.467069Z",
     "iopub.status.busy": "2025-07-30T13:45:27.466347Z",
     "iopub.status.idle": "2025-07-30T13:45:27.472628Z",
     "shell.execute_reply": "2025-07-30T13:45:27.471654Z"
    },
    "papermill": {
     "duration": 0.027108,
     "end_time": "2025-07-30T13:45:27.474156",
     "exception": false,
     "start_time": "2025-07-30T13:45:27.447048",
     "status": "completed"
    },
    "tags": []
   },
   "outputs": [
    {
     "name": "stdout",
     "output_type": "stream",
     "text": [
      "Current working directory: /dss/dsshome1/0C/ra93lal2/cma/CMA_Fairness_v2\n"
     ]
    }
   ],
   "source": [
    "import os\n",
    "print(\"Current working directory:\", os.getcwd())"
   ]
  },
  {
   "cell_type": "code",
   "execution_count": 3,
   "id": "2dce4c03",
   "metadata": {
    "execution": {
     "iopub.execute_input": "2025-07-30T13:45:27.513899Z",
     "iopub.status.busy": "2025-07-30T13:45:27.513302Z",
     "iopub.status.idle": "2025-07-30T13:45:27.519244Z",
     "shell.execute_reply": "2025-07-30T13:45:27.518317Z"
    },
    "papermill": {
     "duration": 0.027526,
     "end_time": "2025-07-30T13:45:27.520921",
     "exception": false,
     "start_time": "2025-07-30T13:45:27.493395",
     "status": "completed"
    },
    "tags": [
     "parameters"
    ]
   },
   "outputs": [],
   "source": [
    "run_no = 0\n",
    "universe_id = \"test\"\n",
    "universe = {\n",
    "    \"training_size\": \"25k\", # \"25k\", \"5k\", \"1k\"\n",
    "    \"training_year\": \"2014\", # \"2014\", \"2012_14\", \"2010_14\"\n",
    "    \"scale\": \"scale\", # \"scale\", \"do-not-scale\",\n",
    "    #\"stratify_split\": \"target\", # \"none\", \"target\", \"protected-attribute\", \"both\",\n",
    "    \"model\": \"elasticnet\", # \"logreg\", \"penalized_logreg\", \"rf\", \"gbm\", \"elasticnet\"\n",
    "    \"cutoff\": [\"quantile_0.15\", \"quantile_0.30\"],\n",
    "    \"exclude_features\": \"age\", # \"none\", \"nationality\", \"sex\", \"nationality-sex\", \"age\"\n",
    "    \"exclude_subgroups\": \"keep-all\", # \"keep-all\", \"drop-non-german\"\n",
    "    \"eval_fairness_grouping\": [\"majority-minority\", \"nationality-all\"]\n",
    "}\n",
    "\n",
    "output_dir=\"./output\"\n",
    "seed=0"
   ]
  },
  {
   "cell_type": "code",
   "execution_count": 4,
   "id": "dc6885ee",
   "metadata": {
    "execution": {
     "iopub.execute_input": "2025-07-30T13:45:27.560612Z",
     "iopub.status.busy": "2025-07-30T13:45:27.559787Z",
     "iopub.status.idle": "2025-07-30T13:45:27.565292Z",
     "shell.execute_reply": "2025-07-30T13:45:27.564362Z"
    },
    "papermill": {
     "duration": 0.026969,
     "end_time": "2025-07-30T13:45:27.566866",
     "exception": false,
     "start_time": "2025-07-30T13:45:27.539897",
     "status": "completed"
    },
    "tags": [
     "injected-parameters"
    ]
   },
   "outputs": [],
   "source": [
    "# Parameters\n",
    "universe_id = \"4dad67fa21ec693cebd22d6fe01b64fe\"\n",
    "run_no = \"12\"\n",
    "universe = \"{\\\"cutoff\\\": [\\\"quantile_0.1\\\", \\\"quantile_0.25\\\"], \\\"eval_fairness_grouping\\\": [\\\"majority-minority\\\", \\\"nationality-all\\\"], \\\"exclude_features\\\": \\\"nationality\\\", \\\"exclude_subgroups\\\": \\\"keep-all\\\", \\\"model\\\": \\\"elasticnet\\\", \\\"scale\\\": \\\"scale\\\", \\\"training_size\\\": \\\"5k\\\", \\\"training_year\\\": \\\"2014\\\"}\"\n",
    "output_dir = \"output\"\n",
    "seed = \"2023\"\n"
   ]
  },
  {
   "cell_type": "code",
   "execution_count": 5,
   "id": "1650acaf",
   "metadata": {
    "execution": {
     "iopub.execute_input": "2025-07-30T13:45:27.606228Z",
     "iopub.status.busy": "2025-07-30T13:45:27.605489Z",
     "iopub.status.idle": "2025-07-30T13:45:27.611293Z",
     "shell.execute_reply": "2025-07-30T13:45:27.610487Z"
    },
    "papermill": {
     "duration": 0.026848,
     "end_time": "2025-07-30T13:45:27.612899",
     "exception": false,
     "start_time": "2025-07-30T13:45:27.586051",
     "status": "completed"
    },
    "tags": []
   },
   "outputs": [],
   "source": [
    "import json\n",
    "# Parse universe into dict if it is passed as a string\n",
    "if isinstance(universe, str):\n",
    "    universe = json.loads(universe)"
   ]
  },
  {
   "cell_type": "code",
   "execution_count": 6,
   "id": "16620c48",
   "metadata": {
    "execution": {
     "iopub.execute_input": "2025-07-30T13:45:27.651159Z",
     "iopub.status.busy": "2025-07-30T13:45:27.650754Z",
     "iopub.status.idle": "2025-07-30T13:45:27.694125Z",
     "shell.execute_reply": "2025-07-30T13:45:27.693268Z"
    },
    "papermill": {
     "duration": 0.063906,
     "end_time": "2025-07-30T13:45:27.695853",
     "exception": false,
     "start_time": "2025-07-30T13:45:27.631947",
     "status": "completed"
    },
    "tags": []
   },
   "outputs": [],
   "source": [
    "# Auto-reload the custom package\n",
    "%load_ext autoreload\n",
    "%autoreload 1\n",
    "%aimport fairness_multiverse"
   ]
  },
  {
   "cell_type": "code",
   "execution_count": 7,
   "id": "01c5c9f3",
   "metadata": {
    "execution": {
     "iopub.execute_input": "2025-07-30T13:45:27.734270Z",
     "iopub.status.busy": "2025-07-30T13:45:27.733420Z",
     "iopub.status.idle": "2025-07-30T13:45:29.624482Z",
     "shell.execute_reply": "2025-07-30T13:45:29.623560Z"
    },
    "papermill": {
     "duration": 1.91186,
     "end_time": "2025-07-30T13:45:29.626326",
     "exception": false,
     "start_time": "2025-07-30T13:45:27.714466",
     "status": "completed"
    },
    "tags": []
   },
   "outputs": [],
   "source": [
    "from fairness_multiverse.universe import UniverseAnalysis\n",
    "\n",
    "universe_analysis = UniverseAnalysis(\n",
    "    run_no = run_no,\n",
    "    universe_id = universe_id,\n",
    "    universe = universe,\n",
    "    output_dir=output_dir,\n",
    ")"
   ]
  },
  {
   "cell_type": "code",
   "execution_count": 8,
   "id": "106241f5",
   "metadata": {
    "execution": {
     "iopub.execute_input": "2025-07-30T13:45:29.665296Z",
     "iopub.status.busy": "2025-07-30T13:45:29.664640Z",
     "iopub.status.idle": "2025-07-30T13:45:29.670961Z",
     "shell.execute_reply": "2025-07-30T13:45:29.669911Z"
    },
    "papermill": {
     "duration": 0.027169,
     "end_time": "2025-07-30T13:45:29.672428",
     "exception": false,
     "start_time": "2025-07-30T13:45:29.645259",
     "status": "completed"
    },
    "tags": []
   },
   "outputs": [
    {
     "name": "stdout",
     "output_type": "stream",
     "text": [
      "Using Seed: 2023\n"
     ]
    }
   ],
   "source": [
    "import numpy as np\n",
    "parsed_seed = int(seed)\n",
    "np.random.seed(parsed_seed)\n",
    "print(f\"Using Seed: {parsed_seed}\")"
   ]
  },
  {
   "cell_type": "markdown",
   "id": "e0ebdc57",
   "metadata": {
    "papermill": {
     "duration": 0.02006,
     "end_time": "2025-07-30T13:45:29.713227",
     "exception": false,
     "start_time": "2025-07-30T13:45:29.693167",
     "status": "completed"
    },
    "tags": []
   },
   "source": [
    "# Loading Data"
   ]
  },
  {
   "cell_type": "markdown",
   "id": "681925a3",
   "metadata": {
    "papermill": {
     "duration": 0.019219,
     "end_time": "2025-07-30T13:45:29.752071",
     "exception": false,
     "start_time": "2025-07-30T13:45:29.732852",
     "status": "completed"
    },
    "tags": []
   },
   "source": [
    "Load siab_train, siab_test, siab_calib and/or \n",
    "load siab_train_features, siab_train_labels"
   ]
  },
  {
   "cell_type": "code",
   "execution_count": 9,
   "id": "f0496b8a",
   "metadata": {
    "execution": {
     "iopub.execute_input": "2025-07-30T13:45:29.793252Z",
     "iopub.status.busy": "2025-07-30T13:45:29.792605Z",
     "iopub.status.idle": "2025-07-30T13:45:43.088791Z",
     "shell.execute_reply": "2025-07-30T13:45:43.087869Z"
    },
    "papermill": {
     "duration": 13.318212,
     "end_time": "2025-07-30T13:45:43.090079",
     "exception": false,
     "start_time": "2025-07-30T13:45:29.771867",
     "status": "completed"
    },
    "tags": []
   },
   "outputs": [
    {
     "name": "stdout",
     "output_type": "stream",
     "text": [
      "Loading SIAB data from cache: data/siab_cached.csv.gz\n"
     ]
    },
    {
     "name": "stdout",
     "output_type": "stream",
     "text": [
      "(643690, 164)\n"
     ]
    }
   ],
   "source": [
    "from pathlib import Path\n",
    "import pandas as pd\n",
    "\n",
    "# File paths\n",
    "raw_file = Path(\"data/raw/siab.csv\")\n",
    "cache_file = Path(\"data/siab_cached.csv.gz\")\n",
    "\n",
    "# Ensure cache directory exists\n",
    "cache_file.parent.mkdir(parents=True, exist_ok=True)\n",
    "\n",
    "# Load with simple caching\n",
    "if cache_file.exists():\n",
    "    print(f\"Loading SIAB data from cache: {cache_file}\")\n",
    "    siab = pd.read_csv(cache_file, compression='gzip')\n",
    "else:\n",
    "    print(f\"Cache not found. Reading raw SIAB data: {raw_file}\")\n",
    "    siab = pd.read_csv(raw_file)\n",
    "    siab.to_csv(cache_file, index=False, compression='gzip')\n",
    "    print(f\"Cached SIAB data to: {cache_file}\")\n",
    "\n",
    "# Now use `siab` DataFrame as needed\n",
    "print(siab.shape)"
   ]
  },
  {
   "cell_type": "code",
   "execution_count": 10,
   "id": "db0ca512-5f53-4dba-abdb-a2888bca41ba",
   "metadata": {
    "execution": {
     "iopub.execute_input": "2025-07-30T13:45:43.114817Z",
     "iopub.status.busy": "2025-07-30T13:45:43.114250Z",
     "iopub.status.idle": "2025-07-30T13:45:43.118715Z",
     "shell.execute_reply": "2025-07-30T13:45:43.117950Z"
    },
    "papermill": {
     "duration": 0.017032,
     "end_time": "2025-07-30T13:45:43.120075",
     "exception": false,
     "start_time": "2025-07-30T13:45:43.103043",
     "status": "completed"
    },
    "tags": []
   },
   "outputs": [],
   "source": [
    "#siab"
   ]
  },
  {
   "cell_type": "code",
   "execution_count": 11,
   "id": "a0edb063",
   "metadata": {
    "execution": {
     "iopub.execute_input": "2025-07-30T13:45:43.169062Z",
     "iopub.status.busy": "2025-07-30T13:45:43.168262Z",
     "iopub.status.idle": "2025-07-30T13:45:43.172606Z",
     "shell.execute_reply": "2025-07-30T13:45:43.171915Z"
    },
    "papermill": {
     "duration": 0.04202,
     "end_time": "2025-07-30T13:45:43.173951",
     "exception": false,
     "start_time": "2025-07-30T13:45:43.131931",
     "status": "completed"
    },
    "tags": []
   },
   "outputs": [],
   "source": [
    "#import pandas as pd\n",
    "#\n",
    "#X_train = pd.read_csv(\"./data/X_train.csv\")\n",
    "#y_train = pd.read_csv(\"./data/y_train.csv\")"
   ]
  },
  {
   "cell_type": "code",
   "execution_count": 12,
   "id": "63d08085",
   "metadata": {
    "execution": {
     "iopub.execute_input": "2025-07-30T13:45:43.197483Z",
     "iopub.status.busy": "2025-07-30T13:45:43.196894Z",
     "iopub.status.idle": "2025-07-30T13:45:43.201043Z",
     "shell.execute_reply": "2025-07-30T13:45:43.200333Z"
    },
    "papermill": {
     "duration": 0.016531,
     "end_time": "2025-07-30T13:45:43.202310",
     "exception": false,
     "start_time": "2025-07-30T13:45:43.185779",
     "status": "completed"
    },
    "tags": []
   },
   "outputs": [],
   "source": [
    "#X_test = pd.read_csv(\"./data/X_test.csv\")\n",
    "#y_true = pd.read_csv(\"./data/y_test.csv\")"
   ]
  },
  {
   "cell_type": "code",
   "execution_count": 13,
   "id": "98a8d0fa-1d3d-4ed8-bb2c-281470e24add",
   "metadata": {
    "execution": {
     "iopub.execute_input": "2025-07-30T13:45:43.225177Z",
     "iopub.status.busy": "2025-07-30T13:45:43.224774Z",
     "iopub.status.idle": "2025-07-30T13:45:43.228618Z",
     "shell.execute_reply": "2025-07-30T13:45:43.227916Z"
    },
    "papermill": {
     "duration": 0.016365,
     "end_time": "2025-07-30T13:45:43.229927",
     "exception": false,
     "start_time": "2025-07-30T13:45:43.213562",
     "status": "completed"
    },
    "tags": []
   },
   "outputs": [],
   "source": [
    "# Calibration data for conformal\n",
    "#X_calib = pd.read_csv(\"./data/X_calib.csv\")\n",
    "#y_calib = pd.read_csv(\"./data/y_calib.csv\")"
   ]
  },
  {
   "cell_type": "markdown",
   "id": "997051c5-15bd-4b69-9786-c3001a3ce484",
   "metadata": {
    "papermill": {
     "duration": 0.010811,
     "end_time": "2025-07-30T13:45:43.255781",
     "exception": false,
     "start_time": "2025-07-30T13:45:43.244970",
     "status": "completed"
    },
    "tags": []
   },
   "source": [
    "# Splitting Data and Setting Training Data Size"
   ]
  },
  {
   "cell_type": "code",
   "execution_count": 14,
   "id": "e993b61f-042d-41a6-8c81-f55681f86335",
   "metadata": {
    "execution": {
     "iopub.execute_input": "2025-07-30T13:45:43.287272Z",
     "iopub.status.busy": "2025-07-30T13:45:43.286830Z",
     "iopub.status.idle": "2025-07-30T13:45:43.300923Z",
     "shell.execute_reply": "2025-07-30T13:45:43.300059Z"
    },
    "papermill": {
     "duration": 0.035987,
     "end_time": "2025-07-30T13:45:43.302361",
     "exception": false,
     "start_time": "2025-07-30T13:45:43.266374",
     "status": "completed"
    },
    "tags": []
   },
   "outputs": [],
   "source": [
    "def sample_by_year_size(df,\n",
    "                        training_year: str,\n",
    "                        training_size: str,\n",
    "                        random_state: int = 42):\n",
    "    # --- parse training_year into a list of int years ---\n",
    "    if \"_\" in training_year:\n",
    "        start_str, end_str = training_year.split(\"_\", 1)\n",
    "        start = int(start_str)\n",
    "        end   = int(end_str) if len(end_str) == 4 else (int(end_str) + (start // 100)*100)\n",
    "        years = list(range(start, end + 1))\n",
    "    else:\n",
    "        years = [int(training_year)]\n",
    "\n",
    "    df = df[df[\"year\"].isin(years)].reset_index(drop=True)\n",
    "\n",
    "    # --- map training_size to total number of samples ---\n",
    "    total_map = {\"25k\": 25_000, \"5k\": 5_000, \"1k\": 1_000}\n",
    "    if training_size not in total_map:\n",
    "        return df  # e.g. \"all\"\n",
    "\n",
    "    total_samples = total_map[training_size]\n",
    "    n_years       = len(years)\n",
    "    base          = total_samples // n_years\n",
    "    remainder     = total_samples % n_years\n",
    "\n",
    "    # --- build a dict: year -> how many to sample ---\n",
    "    # give +1 to the first `remainder` years in ascending order\n",
    "    quotas = {\n",
    "        year: base + (1 if idx < remainder else 0)\n",
    "        for idx, year in enumerate(sorted(years))\n",
    "    }\n",
    "\n",
    "    # --- sample per‐year according to the quota dict ---\n",
    "    sampled = (\n",
    "        df\n",
    "        .groupby(\"year\", group_keys=False)\n",
    "        .apply(lambda grp: grp.sample(\n",
    "            n=min(len(grp), quotas[grp.name]),\n",
    "            random_state=random_state))\n",
    "        .reset_index(drop=True)\n",
    "    )\n",
    "\n",
    "    return sampled"
   ]
  },
  {
   "cell_type": "code",
   "execution_count": 15,
   "id": "c0ccd338-0e02-41f3-a09d-f56f9266e3fb",
   "metadata": {
    "execution": {
     "iopub.execute_input": "2025-07-30T13:45:43.343742Z",
     "iopub.status.busy": "2025-07-30T13:45:43.342984Z",
     "iopub.status.idle": "2025-07-30T13:45:43.357014Z",
     "shell.execute_reply": "2025-07-30T13:45:43.355957Z"
    },
    "papermill": {
     "duration": 0.036318,
     "end_time": "2025-07-30T13:45:43.358929",
     "exception": false,
     "start_time": "2025-07-30T13:45:43.322611",
     "status": "completed"
    },
    "tags": []
   },
   "outputs": [
    {
     "data": {
      "text/plain": [
       "'5k'"
      ]
     },
     "execution_count": 15,
     "metadata": {},
     "output_type": "execute_result"
    }
   ],
   "source": [
    "universe[\"training_size\"]"
   ]
  },
  {
   "cell_type": "code",
   "execution_count": 16,
   "id": "ca707fd7-8047-4acd-bfa5-66248fbbf8e6",
   "metadata": {
    "execution": {
     "iopub.execute_input": "2025-07-30T13:45:43.405850Z",
     "iopub.status.busy": "2025-07-30T13:45:43.405411Z",
     "iopub.status.idle": "2025-07-30T13:45:43.412072Z",
     "shell.execute_reply": "2025-07-30T13:45:43.411170Z"
    },
    "papermill": {
     "duration": 0.031471,
     "end_time": "2025-07-30T13:45:43.413643",
     "exception": false,
     "start_time": "2025-07-30T13:45:43.382172",
     "status": "completed"
    },
    "tags": []
   },
   "outputs": [
    {
     "data": {
      "text/plain": [
       "'2014'"
      ]
     },
     "execution_count": 16,
     "metadata": {},
     "output_type": "execute_result"
    }
   ],
   "source": [
    "universe[\"training_year\"]"
   ]
  },
  {
   "cell_type": "code",
   "execution_count": 17,
   "id": "aea9c6ef-6f46-42c8-85eb-5a62025c1508",
   "metadata": {
    "execution": {
     "iopub.execute_input": "2025-07-30T13:45:43.457815Z",
     "iopub.status.busy": "2025-07-30T13:45:43.457377Z",
     "iopub.status.idle": "2025-07-30T13:45:43.713774Z",
     "shell.execute_reply": "2025-07-30T13:45:43.712847Z"
    },
    "papermill": {
     "duration": 0.281477,
     "end_time": "2025-07-30T13:45:43.715696",
     "exception": false,
     "start_time": "2025-07-30T13:45:43.434219",
     "status": "completed"
    },
    "tags": []
   },
   "outputs": [],
   "source": [
    "siab_train = sample_by_year_size(siab,\n",
    "                               training_year=universe[\"training_year\"],\n",
    "                               training_size=universe[\"training_size\"])"
   ]
  },
  {
   "cell_type": "code",
   "execution_count": 18,
   "id": "8d3afb32-789d-442c-8d5d-9f5aa8dd2eed",
   "metadata": {
    "execution": {
     "iopub.execute_input": "2025-07-30T13:45:43.754151Z",
     "iopub.status.busy": "2025-07-30T13:45:43.753781Z",
     "iopub.status.idle": "2025-07-30T13:45:43.760513Z",
     "shell.execute_reply": "2025-07-30T13:45:43.759772Z"
    },
    "papermill": {
     "duration": 0.023234,
     "end_time": "2025-07-30T13:45:43.761809",
     "exception": false,
     "start_time": "2025-07-30T13:45:43.738575",
     "status": "completed"
    },
    "tags": []
   },
   "outputs": [
    {
     "data": {
      "text/plain": [
       "(5000, 164)"
      ]
     },
     "execution_count": 18,
     "metadata": {},
     "output_type": "execute_result"
    }
   ],
   "source": [
    "siab_train.shape"
   ]
  },
  {
   "cell_type": "code",
   "execution_count": 19,
   "id": "d582db68-1a4c-47fb-84fc-08518dc1975a",
   "metadata": {
    "execution": {
     "iopub.execute_input": "2025-07-30T13:45:43.785747Z",
     "iopub.status.busy": "2025-07-30T13:45:43.785442Z",
     "iopub.status.idle": "2025-07-30T13:45:43.793117Z",
     "shell.execute_reply": "2025-07-30T13:45:43.792370Z"
    },
    "papermill": {
     "duration": 0.020537,
     "end_time": "2025-07-30T13:45:43.794500",
     "exception": false,
     "start_time": "2025-07-30T13:45:43.773963",
     "status": "completed"
    },
    "tags": []
   },
   "outputs": [
    {
     "data": {
      "text/plain": [
       "year\n",
       "2014    5000\n",
       "dtype: int64"
      ]
     },
     "metadata": {},
     "output_type": "display_data"
    }
   ],
   "source": [
    "display(siab_train.groupby(\"year\").size())"
   ]
  },
  {
   "cell_type": "code",
   "execution_count": 20,
   "id": "a561edb4-d032-42cb-8256-22eac1111c64",
   "metadata": {
    "execution": {
     "iopub.execute_input": "2025-07-30T13:45:43.819123Z",
     "iopub.status.busy": "2025-07-30T13:45:43.818813Z",
     "iopub.status.idle": "2025-07-30T13:45:44.062927Z",
     "shell.execute_reply": "2025-07-30T13:45:44.061982Z"
    },
    "papermill": {
     "duration": 0.257647,
     "end_time": "2025-07-30T13:45:44.064569",
     "exception": false,
     "start_time": "2025-07-30T13:45:43.806922",
     "status": "completed"
    },
    "tags": []
   },
   "outputs": [],
   "source": [
    "#siab_train = siab_s[siab_s.year < 2015]\n",
    "siab_calib = siab[siab.year == 2015]\n",
    "siab_test = siab[siab.year == 2016]"
   ]
  },
  {
   "cell_type": "code",
   "execution_count": 21,
   "id": "472de16f-c3db-4916-846b-1f0de9cf1746",
   "metadata": {
    "execution": {
     "iopub.execute_input": "2025-07-30T13:45:44.102743Z",
     "iopub.status.busy": "2025-07-30T13:45:44.102396Z",
     "iopub.status.idle": "2025-07-30T13:45:44.110616Z",
     "shell.execute_reply": "2025-07-30T13:45:44.109443Z"
    },
    "papermill": {
     "duration": 0.033251,
     "end_time": "2025-07-30T13:45:44.112326",
     "exception": false,
     "start_time": "2025-07-30T13:45:44.079075",
     "status": "completed"
    },
    "tags": []
   },
   "outputs": [],
   "source": [
    "X_train = siab_train.iloc[:,4:164]\n",
    "y_train = siab_train.iloc[:, [3]]"
   ]
  },
  {
   "cell_type": "code",
   "execution_count": 22,
   "id": "828c96af-f43a-4ed6-ba47-8ac73a47d56c",
   "metadata": {
    "execution": {
     "iopub.execute_input": "2025-07-30T13:45:44.165702Z",
     "iopub.status.busy": "2025-07-30T13:45:44.164742Z",
     "iopub.status.idle": "2025-07-30T13:45:44.233864Z",
     "shell.execute_reply": "2025-07-30T13:45:44.232418Z"
    },
    "papermill": {
     "duration": 0.099304,
     "end_time": "2025-07-30T13:45:44.236712",
     "exception": false,
     "start_time": "2025-07-30T13:45:44.137408",
     "status": "completed"
    },
    "tags": []
   },
   "outputs": [],
   "source": [
    "X_calib = siab_calib.iloc[:,4:164]\n",
    "y_calib = siab_calib.iloc[:, [3]]"
   ]
  },
  {
   "cell_type": "code",
   "execution_count": 23,
   "id": "c34be9c3-6bd6-476e-acd3-845840e303be",
   "metadata": {
    "execution": {
     "iopub.execute_input": "2025-07-30T13:45:44.290409Z",
     "iopub.status.busy": "2025-07-30T13:45:44.289924Z",
     "iopub.status.idle": "2025-07-30T13:45:44.363926Z",
     "shell.execute_reply": "2025-07-30T13:45:44.362573Z"
    },
    "papermill": {
     "duration": 0.102711,
     "end_time": "2025-07-30T13:45:44.366370",
     "exception": false,
     "start_time": "2025-07-30T13:45:44.263659",
     "status": "completed"
    },
    "tags": []
   },
   "outputs": [],
   "source": [
    "X_test = siab_test.iloc[:,4:164]\n",
    "y_true = siab_test.iloc[:, [3]]"
   ]
  },
  {
   "cell_type": "markdown",
   "id": "9901737e-04df-44f0-9100-f5ad144ed040",
   "metadata": {
    "papermill": {
     "duration": 0.014051,
     "end_time": "2025-07-30T13:45:44.403208",
     "exception": false,
     "start_time": "2025-07-30T13:45:44.389157",
     "status": "completed"
    },
    "tags": []
   },
   "source": [
    "# Splitting Data and Setting Training Data Size OLD VERSION"
   ]
  },
  {
   "cell_type": "code",
   "execution_count": 24,
   "id": "acbc8f7d-8fc8-4e86-8c59-5dcb0f58384b",
   "metadata": {
    "execution": {
     "iopub.execute_input": "2025-07-30T13:45:44.445335Z",
     "iopub.status.busy": "2025-07-30T13:45:44.444677Z",
     "iopub.status.idle": "2025-07-30T13:45:44.450393Z",
     "shell.execute_reply": "2025-07-30T13:45:44.449505Z"
    },
    "papermill": {
     "duration": 0.028963,
     "end_time": "2025-07-30T13:45:44.451916",
     "exception": false,
     "start_time": "2025-07-30T13:45:44.422953",
     "status": "completed"
    },
    "tags": []
   },
   "outputs": [],
   "source": [
    "#def sample_by_year(df, training_size, random_state=42):\n",
    "#    if training_size == \"2014\":\n",
    "#        return df[df[\"year\"] == 2014].reset_index(drop=True)\n",
    "#    \n",
    "#    size_map = {\n",
    "#        \"25k\": 5000,\n",
    "#        \"5k\": 1000,\n",
    "#        \"1k\": 200\n",
    "#    }\n",
    "#\n",
    "#    if training_size not in size_map:\n",
    "#        return df.reset_index(drop=True)  # use all data\n",
    "#\n",
    "#    n_per_year = size_map[training_size]\n",
    "#    grouped = df.groupby(\"year\")\n",
    "#    sampled = grouped.apply(lambda x: x.sample(n=min(n_per_year, len(x)), random_state=random_state))\n",
    "#    return sampled.reset_index(drop=True)"
   ]
  },
  {
   "cell_type": "code",
   "execution_count": 25,
   "id": "6d931f52-beaf-43ff-9e78-9d44a448d54e",
   "metadata": {
    "execution": {
     "iopub.execute_input": "2025-07-30T13:45:44.496322Z",
     "iopub.status.busy": "2025-07-30T13:45:44.495856Z",
     "iopub.status.idle": "2025-07-30T13:45:44.501006Z",
     "shell.execute_reply": "2025-07-30T13:45:44.500062Z"
    },
    "papermill": {
     "duration": 0.028667,
     "end_time": "2025-07-30T13:45:44.502732",
     "exception": false,
     "start_time": "2025-07-30T13:45:44.474065",
     "status": "completed"
    },
    "tags": []
   },
   "outputs": [],
   "source": [
    "#siab_s = sample_by_year(siab, universe[\"training_size\"])"
   ]
  },
  {
   "cell_type": "code",
   "execution_count": 26,
   "id": "5db0a40e-a4e2-4920-be85-b12ae061d70d",
   "metadata": {
    "execution": {
     "iopub.execute_input": "2025-07-30T13:45:44.547086Z",
     "iopub.status.busy": "2025-07-30T13:45:44.546422Z",
     "iopub.status.idle": "2025-07-30T13:45:44.551757Z",
     "shell.execute_reply": "2025-07-30T13:45:44.550773Z"
    },
    "papermill": {
     "duration": 0.028946,
     "end_time": "2025-07-30T13:45:44.553651",
     "exception": false,
     "start_time": "2025-07-30T13:45:44.524705",
     "status": "completed"
    },
    "tags": []
   },
   "outputs": [],
   "source": [
    "#display(siab_s.groupby(\"year\").size())"
   ]
  },
  {
   "cell_type": "code",
   "execution_count": 27,
   "id": "e6c733c5",
   "metadata": {
    "execution": {
     "iopub.execute_input": "2025-07-30T13:45:44.598184Z",
     "iopub.status.busy": "2025-07-30T13:45:44.597538Z",
     "iopub.status.idle": "2025-07-30T13:45:44.689116Z",
     "shell.execute_reply": "2025-07-30T13:45:44.688221Z"
    },
    "papermill": {
     "duration": 0.115232,
     "end_time": "2025-07-30T13:45:44.690899",
     "exception": false,
     "start_time": "2025-07-30T13:45:44.575667",
     "status": "completed"
    },
    "tags": []
   },
   "outputs": [],
   "source": [
    "# Auxiliary data needed downstream in the pipeline\n",
    "\n",
    "org_train = X_train.copy()\n",
    "org_test = X_test.copy()\n",
    "org_calib = X_calib.copy()"
   ]
  },
  {
   "cell_type": "code",
   "execution_count": 28,
   "id": "1466abac-c6da-4492-a62f-4240ae3783af",
   "metadata": {
    "execution": {
     "iopub.execute_input": "2025-07-30T13:45:44.751040Z",
     "iopub.status.busy": "2025-07-30T13:45:44.750404Z",
     "iopub.status.idle": "2025-07-30T13:45:44.756402Z",
     "shell.execute_reply": "2025-07-30T13:45:44.755332Z"
    },
    "papermill": {
     "duration": 0.029499,
     "end_time": "2025-07-30T13:45:44.758019",
     "exception": false,
     "start_time": "2025-07-30T13:45:44.728520",
     "status": "completed"
    },
    "tags": []
   },
   "outputs": [],
   "source": [
    "# put in other script?\n",
    "# Group sizes\n",
    "\n",
    "#def calculate_percentages(df, df_name):\n",
    "#    total_entries = len(df)\n",
    "#\n",
    "#    female_pct = (df['frau1'] == 1).mean() * 100\n",
    "#    non_german_pct = ((df['maxdeutsch1'] == 0) & (df['maxdeutsch.Missing.'] == 0)).mean() * 100\n",
    "#    non_german_male_pct = ((df['frau1'] == 0) & (df['maxdeutsch1'] == 0) & (df['maxdeutsch.Missing.'] == 0)).mean() * 100\n",
    "#    non_german_female_pct = ((df['frau1'] == 1) & (df['maxdeutsch1'] == 0) & (df['maxdeutsch.Missing.'] == 0)).mean() * 100\n",
    "#\n",
    "#    print(f\"--- {df_name} ---\")\n",
    "#    print(f\"Female: {female_pct:.2f}%\")\n",
    "#    print(f\"Non-German: {non_german_pct:.2f}%\")\n",
    "#    print(f\"Non-German Male: {non_german_male_pct:.2f}%\")\n",
    "#    print(f\"Non-German Female: {non_german_female_pct:.2f}%\\n\")\n",
    "#\n",
    "## Calculate for each DataFrame\n",
    "#calculate_percentages(siab_calib, \"siab_calib\")\n",
    "#calculate_percentages(siab_test, \"siab_test\")\n",
    "#calculate_percentages(siab_train, \"siab_train\")"
   ]
  },
  {
   "cell_type": "markdown",
   "id": "0a4a1b33",
   "metadata": {
    "papermill": {
     "duration": 0.020646,
     "end_time": "2025-07-30T13:45:44.800569",
     "exception": false,
     "start_time": "2025-07-30T13:45:44.779923",
     "status": "completed"
    },
    "tags": []
   },
   "source": [
    "# Preprocessing Data"
   ]
  },
  {
   "cell_type": "code",
   "execution_count": 29,
   "id": "ca879031",
   "metadata": {
    "execution": {
     "iopub.execute_input": "2025-07-30T13:45:44.843560Z",
     "iopub.status.busy": "2025-07-30T13:45:44.843103Z",
     "iopub.status.idle": "2025-07-30T13:45:44.849222Z",
     "shell.execute_reply": "2025-07-30T13:45:44.848219Z"
    },
    "papermill": {
     "duration": 0.029509,
     "end_time": "2025-07-30T13:45:44.850885",
     "exception": false,
     "start_time": "2025-07-30T13:45:44.821376",
     "status": "completed"
    },
    "tags": []
   },
   "outputs": [],
   "source": [
    "# EXCLUDE PROTECTED FEATURES\n",
    "# ----------------------\n",
    "# \"exclude_features\": \"none\", # \"nationality\", \"sex\", \"nationality-sex\"\n",
    "\n",
    "excluded_features = universe[\"exclude_features\"].split(\"-\") # split, e.g.: \"nationality-sex\" -> [\"nationality\", \"sex\"]\n",
    "excluded_features_dictionary = {\n",
    "    \"nationality\": [\"maxdeutsch1\", \"maxdeutsch.Missing.\"],\n",
    "    \"sex\": [\"frau1\"],\n",
    "    \"age\": [\"age\"],\n",
    "}\n"
   ]
  },
  {
   "cell_type": "code",
   "execution_count": 30,
   "id": "b745ac60",
   "metadata": {
    "execution": {
     "iopub.execute_input": "2025-07-30T13:45:44.895939Z",
     "iopub.status.busy": "2025-07-30T13:45:44.895295Z",
     "iopub.status.idle": "2025-07-30T13:45:44.900866Z",
     "shell.execute_reply": "2025-07-30T13:45:44.899908Z"
    },
    "papermill": {
     "duration": 0.028942,
     "end_time": "2025-07-30T13:45:44.902352",
     "exception": false,
     "start_time": "2025-07-30T13:45:44.873410",
     "status": "completed"
    },
    "tags": []
   },
   "outputs": [],
   "source": [
    "# Code nice names to column names\n",
    "\n",
    "excluded_features_columns = [\n",
    "    excluded_features_dictionary[f] for f in excluded_features if len(f) > 0 and f != \"none\"\n",
    "]"
   ]
  },
  {
   "cell_type": "code",
   "execution_count": 31,
   "id": "f84f73a2",
   "metadata": {
    "execution": {
     "iopub.execute_input": "2025-07-30T13:45:44.946967Z",
     "iopub.status.busy": "2025-07-30T13:45:44.946315Z",
     "iopub.status.idle": "2025-07-30T13:45:44.953859Z",
     "shell.execute_reply": "2025-07-30T13:45:44.952940Z"
    },
    "papermill": {
     "duration": 0.03118,
     "end_time": "2025-07-30T13:45:44.955589",
     "exception": false,
     "start_time": "2025-07-30T13:45:44.924409",
     "status": "completed"
    },
    "tags": []
   },
   "outputs": [],
   "source": [
    "from utils import flatten_once\n",
    "\n",
    "excluded_features_columns = flatten_once(excluded_features_columns)"
   ]
  },
  {
   "cell_type": "code",
   "execution_count": 32,
   "id": "884dea22",
   "metadata": {
    "execution": {
     "iopub.execute_input": "2025-07-30T13:45:45.000289Z",
     "iopub.status.busy": "2025-07-30T13:45:44.999631Z",
     "iopub.status.idle": "2025-07-30T13:45:45.010290Z",
     "shell.execute_reply": "2025-07-30T13:45:45.009362Z"
    },
    "papermill": {
     "duration": 0.033994,
     "end_time": "2025-07-30T13:45:45.011785",
     "exception": false,
     "start_time": "2025-07-30T13:45:44.977791",
     "status": "completed"
    },
    "tags": []
   },
   "outputs": [
    {
     "name": "stdout",
     "output_type": "stream",
     "text": [
      "Dropping features: ['maxdeutsch1', 'maxdeutsch.Missing.']\n"
     ]
    }
   ],
   "source": [
    "if len(excluded_features_columns) > 0:\n",
    "    print(f\"Dropping features: {excluded_features_columns}\")\n",
    "    X_train.drop(excluded_features_columns, axis=1, inplace=True)"
   ]
  },
  {
   "cell_type": "code",
   "execution_count": 33,
   "id": "95ab8b16",
   "metadata": {
    "execution": {
     "iopub.execute_input": "2025-07-30T13:45:45.056498Z",
     "iopub.status.busy": "2025-07-30T13:45:45.055808Z",
     "iopub.status.idle": "2025-07-30T13:45:45.106533Z",
     "shell.execute_reply": "2025-07-30T13:45:45.105599Z"
    },
    "papermill": {
     "duration": 0.074364,
     "end_time": "2025-07-30T13:45:45.108361",
     "exception": false,
     "start_time": "2025-07-30T13:45:45.033997",
     "status": "completed"
    },
    "tags": []
   },
   "outputs": [
    {
     "name": "stdout",
     "output_type": "stream",
     "text": [
      "Dropping features: ['maxdeutsch1', 'maxdeutsch.Missing.']\n"
     ]
    }
   ],
   "source": [
    "if len(excluded_features_columns) > 0:\n",
    "    print(f\"Dropping features: {excluded_features_columns}\")\n",
    "    X_test.drop(excluded_features_columns, axis=1, inplace=True)"
   ]
  },
  {
   "cell_type": "code",
   "execution_count": 34,
   "id": "1853aaf5-fb9f-46cb-a2b5-8ea4ae2237e4",
   "metadata": {
    "execution": {
     "iopub.execute_input": "2025-07-30T13:45:45.153660Z",
     "iopub.status.busy": "2025-07-30T13:45:45.153203Z",
     "iopub.status.idle": "2025-07-30T13:45:45.220635Z",
     "shell.execute_reply": "2025-07-30T13:45:45.219465Z"
    },
    "papermill": {
     "duration": 0.091235,
     "end_time": "2025-07-30T13:45:45.222352",
     "exception": false,
     "start_time": "2025-07-30T13:45:45.131117",
     "status": "completed"
    },
    "tags": []
   },
   "outputs": [
    {
     "name": "stdout",
     "output_type": "stream",
     "text": [
      "Dropping features: ['maxdeutsch1', 'maxdeutsch.Missing.']\n"
     ]
    }
   ],
   "source": [
    "if len(excluded_features_columns) > 0:\n",
    "    print(f\"Dropping features: {excluded_features_columns}\")\n",
    "    X_calib.drop(excluded_features_columns, axis=1, inplace=True)"
   ]
  },
  {
   "cell_type": "code",
   "execution_count": 35,
   "id": "6727d079-03e5-481e-9d38-292a90b7a0a8",
   "metadata": {
    "execution": {
     "iopub.execute_input": "2025-07-30T13:45:45.267980Z",
     "iopub.status.busy": "2025-07-30T13:45:45.267587Z",
     "iopub.status.idle": "2025-07-30T13:45:45.272727Z",
     "shell.execute_reply": "2025-07-30T13:45:45.271721Z"
    },
    "papermill": {
     "duration": 0.029427,
     "end_time": "2025-07-30T13:45:45.274404",
     "exception": false,
     "start_time": "2025-07-30T13:45:45.244977",
     "status": "completed"
    },
    "tags": []
   },
   "outputs": [],
   "source": [
    "# SPLIT & STRATIFY DATA\n",
    "# ----------------------"
   ]
  },
  {
   "cell_type": "code",
   "execution_count": 36,
   "id": "76c4dc6d",
   "metadata": {
    "execution": {
     "iopub.execute_input": "2025-07-30T13:45:45.320599Z",
     "iopub.status.busy": "2025-07-30T13:45:45.319904Z",
     "iopub.status.idle": "2025-07-30T13:45:45.325263Z",
     "shell.execute_reply": "2025-07-30T13:45:45.324324Z"
    },
    "papermill": {
     "duration": 0.029477,
     "end_time": "2025-07-30T13:45:45.326756",
     "exception": false,
     "start_time": "2025-07-30T13:45:45.297279",
     "status": "completed"
    },
    "tags": []
   },
   "outputs": [],
   "source": [
    "# EXCLUDE CERTAIN SUBGROUPS\n",
    "# ----------------------\n",
    "\n",
    "mode = universe.get(\"exclude_subgroups\", \"keep-all\") \n",
    "# Fetches the exclude_subgroups setting from the universe dict.\n",
    "# Defaults to \"keep-all\" if the key is missing."
   ]
  },
  {
   "cell_type": "code",
   "execution_count": 37,
   "id": "21994072",
   "metadata": {
    "execution": {
     "iopub.execute_input": "2025-07-30T13:45:45.373380Z",
     "iopub.status.busy": "2025-07-30T13:45:45.372731Z",
     "iopub.status.idle": "2025-07-30T13:45:45.379579Z",
     "shell.execute_reply": "2025-07-30T13:45:45.378605Z"
    },
    "papermill": {
     "duration": 0.031878,
     "end_time": "2025-07-30T13:45:45.381368",
     "exception": false,
     "start_time": "2025-07-30T13:45:45.349490",
     "status": "completed"
    },
    "tags": []
   },
   "outputs": [],
   "source": [
    "if mode == \"keep-all\":\n",
    "    keep_mask = pd.Series(True, index=org_train.index)\n",
    "\n",
    "# org_train contains the original feature columns from features_org (in Simson)\n",
    "# features_org contains unprocessed features, for me X_train at beginning ???\n",
    "# For keep-all, creates a boolean Series (keep_mask) of all True, so no rows are removed.\n",
    "\n",
    "elif mode == \"drop-non-german\":\n",
    "    keep_mask = org_train[\"maxdeutsch1\"] == 1 # ??? what about missing values?\n",
    "\n",
    "else:\n",
    "    raise ValueError(f\"Unsupported mode for exclude_subgroups: {mode}\")\n"
   ]
  },
  {
   "cell_type": "code",
   "execution_count": 38,
   "id": "71651440",
   "metadata": {
    "execution": {
     "iopub.execute_input": "2025-07-30T13:45:45.428059Z",
     "iopub.status.busy": "2025-07-30T13:45:45.427405Z",
     "iopub.status.idle": "2025-07-30T13:45:45.433986Z",
     "shell.execute_reply": "2025-07-30T13:45:45.433149Z"
    },
    "papermill": {
     "duration": 0.031244,
     "end_time": "2025-07-30T13:45:45.435634",
     "exception": false,
     "start_time": "2025-07-30T13:45:45.404390",
     "status": "completed"
    },
    "tags": []
   },
   "outputs": [],
   "source": [
    "n_drop = (~keep_mask).sum() # Calculates how many rows are set to be dropped\n",
    "if n_drop > 0:\n",
    "    pct = n_drop / len(keep_mask) * 100\n",
    "    print(f\"Dropping {n_drop} rows ({pct:.2f}%) where mode='{mode}'\")"
   ]
  },
  {
   "cell_type": "code",
   "execution_count": 39,
   "id": "5fb8eee5",
   "metadata": {
    "execution": {
     "iopub.execute_input": "2025-07-30T13:45:45.482017Z",
     "iopub.status.busy": "2025-07-30T13:45:45.481375Z",
     "iopub.status.idle": "2025-07-30T13:45:45.489462Z",
     "shell.execute_reply": "2025-07-30T13:45:45.488483Z"
    },
    "papermill": {
     "duration": 0.032723,
     "end_time": "2025-07-30T13:45:45.491185",
     "exception": false,
     "start_time": "2025-07-30T13:45:45.458462",
     "status": "completed"
    },
    "tags": []
   },
   "outputs": [],
   "source": [
    "X_train = X_train[keep_mask]"
   ]
  },
  {
   "cell_type": "code",
   "execution_count": 40,
   "id": "b202bb3a",
   "metadata": {
    "execution": {
     "iopub.execute_input": "2025-07-30T13:45:45.538106Z",
     "iopub.status.busy": "2025-07-30T13:45:45.537456Z",
     "iopub.status.idle": "2025-07-30T13:45:45.544131Z",
     "shell.execute_reply": "2025-07-30T13:45:45.543275Z"
    },
    "papermill": {
     "duration": 0.031633,
     "end_time": "2025-07-30T13:45:45.545868",
     "exception": false,
     "start_time": "2025-07-30T13:45:45.514235",
     "status": "completed"
    },
    "tags": []
   },
   "outputs": [],
   "source": [
    "y_train = y_train[keep_mask]"
   ]
  },
  {
   "cell_type": "markdown",
   "id": "493e2ac3",
   "metadata": {
    "papermill": {
     "duration": 0.021352,
     "end_time": "2025-07-30T13:45:45.589994",
     "exception": false,
     "start_time": "2025-07-30T13:45:45.568642",
     "status": "completed"
    },
    "tags": []
   },
   "source": [
    "# Model Training"
   ]
  },
  {
   "cell_type": "code",
   "execution_count": 41,
   "id": "679e1268",
   "metadata": {
    "execution": {
     "iopub.execute_input": "2025-07-30T13:45:45.634675Z",
     "iopub.status.busy": "2025-07-30T13:45:45.634219Z",
     "iopub.status.idle": "2025-07-30T13:45:45.733441Z",
     "shell.execute_reply": "2025-07-30T13:45:45.732566Z"
    },
    "papermill": {
     "duration": 0.123726,
     "end_time": "2025-07-30T13:45:45.735228",
     "exception": false,
     "start_time": "2025-07-30T13:45:45.611502",
     "status": "completed"
    },
    "tags": []
   },
   "outputs": [],
   "source": [
    "from sklearn.linear_model import LogisticRegression\n",
    "from sklearn.ensemble import GradientBoostingClassifier, RandomForestClassifier\n",
    "\n",
    "if (universe[\"model\"] == \"logreg\"):\n",
    "    model = LogisticRegression() #penalty=\"none\") #, solver=\"newton-cg\", max_iter=1) # include random_state=19 ?\n",
    "elif (universe[\"model\"] == \"penalized_logreg\"):\n",
    "    model = LogisticRegression(penalty=\"l2\", C=1.0) #, solver=\"newton-cg\", max_iter=1)\n",
    "elif (universe[\"model\"] == \"rf\"):\n",
    "    model = RandomForestClassifier(n_estimators=100, n_jobs=-1)\n",
    "elif (universe[\"model\"] == \"gbm\"):\n",
    "    model = GradientBoostingClassifier()\n",
    "elif (universe[\"model\"] == \"elasticnet\"):\n",
    "    model = LogisticRegression(penalty = 'elasticnet', solver = 'saga', l1_ratio = 0.5, max_iter=5000) # which solver to use?\n",
    "else:\n",
    "    raise \"Unsupported universe.model\""
   ]
  },
  {
   "cell_type": "code",
   "execution_count": 42,
   "id": "0cc8f744",
   "metadata": {
    "execution": {
     "iopub.execute_input": "2025-07-30T13:45:45.786443Z",
     "iopub.status.busy": "2025-07-30T13:45:45.785792Z",
     "iopub.status.idle": "2025-07-30T13:45:45.791878Z",
     "shell.execute_reply": "2025-07-30T13:45:45.790970Z"
    },
    "papermill": {
     "duration": 0.031252,
     "end_time": "2025-07-30T13:45:45.793455",
     "exception": false,
     "start_time": "2025-07-30T13:45:45.762203",
     "status": "completed"
    },
    "tags": []
   },
   "outputs": [],
   "source": [
    "import numpy as np\n",
    "from sklearn.pipeline import Pipeline\n",
    "from sklearn.preprocessing import StandardScaler\n",
    "\n",
    "model = Pipeline([\n",
    "    #(\"continuous_processor\", continuous_processor),\n",
    "    #(\"categorical_preprocessor\", categorical_preprocessor),\n",
    "    (\"scale\", StandardScaler() if universe[\"scale\"] == \"scale\" else None), \n",
    "    (\"model\", model),\n",
    "])"
   ]
  },
  {
   "cell_type": "code",
   "execution_count": 43,
   "id": "9442c04d",
   "metadata": {
    "execution": {
     "iopub.execute_input": "2025-07-30T13:45:45.839736Z",
     "iopub.status.busy": "2025-07-30T13:45:45.839080Z",
     "iopub.status.idle": "2025-07-30T13:45:54.458930Z",
     "shell.execute_reply": "2025-07-30T13:45:54.458232Z"
    },
    "papermill": {
     "duration": 8.643935,
     "end_time": "2025-07-30T13:45:54.460199",
     "exception": false,
     "start_time": "2025-07-30T13:45:45.816264",
     "status": "completed"
    },
    "tags": []
   },
   "outputs": [
    {
     "data": {
      "text/html": [
       "<style>#sk-container-id-1 {color: black;background-color: white;}#sk-container-id-1 pre{padding: 0;}#sk-container-id-1 div.sk-toggleable {background-color: white;}#sk-container-id-1 label.sk-toggleable__label {cursor: pointer;display: block;width: 100%;margin-bottom: 0;padding: 0.3em;box-sizing: border-box;text-align: center;}#sk-container-id-1 label.sk-toggleable__label-arrow:before {content: \"▸\";float: left;margin-right: 0.25em;color: #696969;}#sk-container-id-1 label.sk-toggleable__label-arrow:hover:before {color: black;}#sk-container-id-1 div.sk-estimator:hover label.sk-toggleable__label-arrow:before {color: black;}#sk-container-id-1 div.sk-toggleable__content {max-height: 0;max-width: 0;overflow: hidden;text-align: left;background-color: #f0f8ff;}#sk-container-id-1 div.sk-toggleable__content pre {margin: 0.2em;color: black;border-radius: 0.25em;background-color: #f0f8ff;}#sk-container-id-1 input.sk-toggleable__control:checked~div.sk-toggleable__content {max-height: 200px;max-width: 100%;overflow: auto;}#sk-container-id-1 input.sk-toggleable__control:checked~label.sk-toggleable__label-arrow:before {content: \"▾\";}#sk-container-id-1 div.sk-estimator input.sk-toggleable__control:checked~label.sk-toggleable__label {background-color: #d4ebff;}#sk-container-id-1 div.sk-label input.sk-toggleable__control:checked~label.sk-toggleable__label {background-color: #d4ebff;}#sk-container-id-1 input.sk-hidden--visually {border: 0;clip: rect(1px 1px 1px 1px);clip: rect(1px, 1px, 1px, 1px);height: 1px;margin: -1px;overflow: hidden;padding: 0;position: absolute;width: 1px;}#sk-container-id-1 div.sk-estimator {font-family: monospace;background-color: #f0f8ff;border: 1px dotted black;border-radius: 0.25em;box-sizing: border-box;margin-bottom: 0.5em;}#sk-container-id-1 div.sk-estimator:hover {background-color: #d4ebff;}#sk-container-id-1 div.sk-parallel-item::after {content: \"\";width: 100%;border-bottom: 1px solid gray;flex-grow: 1;}#sk-container-id-1 div.sk-label:hover label.sk-toggleable__label {background-color: #d4ebff;}#sk-container-id-1 div.sk-serial::before {content: \"\";position: absolute;border-left: 1px solid gray;box-sizing: border-box;top: 0;bottom: 0;left: 50%;z-index: 0;}#sk-container-id-1 div.sk-serial {display: flex;flex-direction: column;align-items: center;background-color: white;padding-right: 0.2em;padding-left: 0.2em;position: relative;}#sk-container-id-1 div.sk-item {position: relative;z-index: 1;}#sk-container-id-1 div.sk-parallel {display: flex;align-items: stretch;justify-content: center;background-color: white;position: relative;}#sk-container-id-1 div.sk-item::before, #sk-container-id-1 div.sk-parallel-item::before {content: \"\";position: absolute;border-left: 1px solid gray;box-sizing: border-box;top: 0;bottom: 0;left: 50%;z-index: -1;}#sk-container-id-1 div.sk-parallel-item {display: flex;flex-direction: column;z-index: 1;position: relative;background-color: white;}#sk-container-id-1 div.sk-parallel-item:first-child::after {align-self: flex-end;width: 50%;}#sk-container-id-1 div.sk-parallel-item:last-child::after {align-self: flex-start;width: 50%;}#sk-container-id-1 div.sk-parallel-item:only-child::after {width: 0;}#sk-container-id-1 div.sk-dashed-wrapped {border: 1px dashed gray;margin: 0 0.4em 0.5em 0.4em;box-sizing: border-box;padding-bottom: 0.4em;background-color: white;}#sk-container-id-1 div.sk-label label {font-family: monospace;font-weight: bold;display: inline-block;line-height: 1.2em;}#sk-container-id-1 div.sk-label-container {text-align: center;}#sk-container-id-1 div.sk-container {/* jupyter's `normalize.less` sets `[hidden] { display: none; }` but bootstrap.min.css set `[hidden] { display: none !important; }` so we also need the `!important` here to be able to override the default hidden behavior on the sphinx rendered scikit-learn.org. See: https://github.com/scikit-learn/scikit-learn/issues/21755 */display: inline-block !important;position: relative;}#sk-container-id-1 div.sk-text-repr-fallback {display: none;}</style><div id=\"sk-container-id-1\" class=\"sk-top-container\"><div class=\"sk-text-repr-fallback\"><pre>Pipeline(steps=[(&#x27;scale&#x27;, StandardScaler()),\n",
       "                (&#x27;model&#x27;,\n",
       "                 LogisticRegression(l1_ratio=0.5, max_iter=5000,\n",
       "                                    penalty=&#x27;elasticnet&#x27;, solver=&#x27;saga&#x27;))])</pre><b>In a Jupyter environment, please rerun this cell to show the HTML representation or trust the notebook. <br />On GitHub, the HTML representation is unable to render, please try loading this page with nbviewer.org.</b></div><div class=\"sk-container\" hidden><div class=\"sk-item sk-dashed-wrapped\"><div class=\"sk-label-container\"><div class=\"sk-label sk-toggleable\"><input class=\"sk-toggleable__control sk-hidden--visually\" id=\"sk-estimator-id-1\" type=\"checkbox\" ><label for=\"sk-estimator-id-1\" class=\"sk-toggleable__label sk-toggleable__label-arrow\">Pipeline</label><div class=\"sk-toggleable__content\"><pre>Pipeline(steps=[(&#x27;scale&#x27;, StandardScaler()),\n",
       "                (&#x27;model&#x27;,\n",
       "                 LogisticRegression(l1_ratio=0.5, max_iter=5000,\n",
       "                                    penalty=&#x27;elasticnet&#x27;, solver=&#x27;saga&#x27;))])</pre></div></div></div><div class=\"sk-serial\"><div class=\"sk-item\"><div class=\"sk-estimator sk-toggleable\"><input class=\"sk-toggleable__control sk-hidden--visually\" id=\"sk-estimator-id-2\" type=\"checkbox\" ><label for=\"sk-estimator-id-2\" class=\"sk-toggleable__label sk-toggleable__label-arrow\">StandardScaler</label><div class=\"sk-toggleable__content\"><pre>StandardScaler()</pre></div></div></div><div class=\"sk-item\"><div class=\"sk-estimator sk-toggleable\"><input class=\"sk-toggleable__control sk-hidden--visually\" id=\"sk-estimator-id-3\" type=\"checkbox\" ><label for=\"sk-estimator-id-3\" class=\"sk-toggleable__label sk-toggleable__label-arrow\">LogisticRegression</label><div class=\"sk-toggleable__content\"><pre>LogisticRegression(l1_ratio=0.5, max_iter=5000, penalty=&#x27;elasticnet&#x27;,\n",
       "                   solver=&#x27;saga&#x27;)</pre></div></div></div></div></div></div></div>"
      ],
      "text/plain": [
       "Pipeline(steps=[('scale', StandardScaler()),\n",
       "                ('model',\n",
       "                 LogisticRegression(l1_ratio=0.5, max_iter=5000,\n",
       "                                    penalty='elasticnet', solver='saga'))])"
      ]
     },
     "execution_count": 43,
     "metadata": {},
     "output_type": "execute_result"
    }
   ],
   "source": [
    "model.fit(X_train, y_train.values.ravel())"
   ]
  },
  {
   "cell_type": "code",
   "execution_count": 44,
   "id": "af59f8c0",
   "metadata": {
    "execution": {
     "iopub.execute_input": "2025-07-30T13:45:54.488766Z",
     "iopub.status.busy": "2025-07-30T13:45:54.488446Z",
     "iopub.status.idle": "2025-07-30T13:45:54.492629Z",
     "shell.execute_reply": "2025-07-30T13:45:54.491823Z"
    },
    "papermill": {
     "duration": 0.018981,
     "end_time": "2025-07-30T13:45:54.494070",
     "exception": false,
     "start_time": "2025-07-30T13:45:54.475089",
     "status": "completed"
    },
    "tags": []
   },
   "outputs": [],
   "source": [
    "from fairness_multiverse.universe import predict_w_threshold"
   ]
  },
  {
   "cell_type": "code",
   "execution_count": 45,
   "id": "a7cf2e16",
   "metadata": {
    "execution": {
     "iopub.execute_input": "2025-07-30T13:45:54.520697Z",
     "iopub.status.busy": "2025-07-30T13:45:54.519953Z",
     "iopub.status.idle": "2025-07-30T13:45:54.706603Z",
     "shell.execute_reply": "2025-07-30T13:45:54.705835Z"
    },
    "papermill": {
     "duration": 0.201125,
     "end_time": "2025-07-30T13:45:54.708327",
     "exception": false,
     "start_time": "2025-07-30T13:45:54.507202",
     "status": "completed"
    },
    "tags": []
   },
   "outputs": [
    {
     "data": {
      "text/plain": [
       "0.8577527588897559"
      ]
     },
     "execution_count": 45,
     "metadata": {},
     "output_type": "execute_result"
    }
   ],
   "source": [
    "probs_test = model.predict_proba(X_test)\n",
    "\n",
    "'''\n",
    "Below code returns a boolean array (or binary 0/1 array depending on how it’s used) where each element \n",
    "is True if the probability of class 1 is greater than or equal to the threshold, and False otherwise.\n",
    "'''\n",
    "y_pred_default = predict_w_threshold(probs_test, 0.5)\n",
    "\n",
    "from sklearn.metrics import accuracy_score\n",
    "\n",
    "# Naive prediction\n",
    "accuracy_score(y_true = y_true, y_pred = y_pred_default)"
   ]
  },
  {
   "cell_type": "code",
   "execution_count": 46,
   "id": "081964c3",
   "metadata": {
    "execution": {
     "iopub.execute_input": "2025-07-30T13:45:54.758484Z",
     "iopub.status.busy": "2025-07-30T13:45:54.757553Z",
     "iopub.status.idle": "2025-07-30T13:45:54.941381Z",
     "shell.execute_reply": "2025-07-30T13:45:54.940379Z"
    },
    "papermill": {
     "duration": 0.211813,
     "end_time": "2025-07-30T13:45:54.943018",
     "exception": false,
     "start_time": "2025-07-30T13:45:54.731205",
     "status": "completed"
    },
    "tags": []
   },
   "outputs": [
    {
     "data": {
      "text/plain": [
       "array([0, 0, 0, ..., 0, 0, 0])"
      ]
     },
     "execution_count": 46,
     "metadata": {},
     "output_type": "execute_result"
    }
   ],
   "source": [
    "model.predict(X_test)"
   ]
  },
  {
   "cell_type": "markdown",
   "id": "56c9705b",
   "metadata": {
    "papermill": {
     "duration": 0.021413,
     "end_time": "2025-07-30T13:45:54.990639",
     "exception": false,
     "start_time": "2025-07-30T13:45:54.969226",
     "status": "completed"
    },
    "tags": []
   },
   "source": [
    "# Conformal Prediction"
   ]
  },
  {
   "cell_type": "code",
   "execution_count": 47,
   "id": "160ec6ff",
   "metadata": {
    "execution": {
     "iopub.execute_input": "2025-07-30T13:45:55.031579Z",
     "iopub.status.busy": "2025-07-30T13:45:55.030731Z",
     "iopub.status.idle": "2025-07-30T13:45:55.035739Z",
     "shell.execute_reply": "2025-07-30T13:45:55.035048Z"
    },
    "papermill": {
     "duration": 0.03358,
     "end_time": "2025-07-30T13:45:55.037169",
     "exception": false,
     "start_time": "2025-07-30T13:45:55.003589",
     "status": "completed"
    },
    "tags": []
   },
   "outputs": [],
   "source": [
    "# Miscoverage level for conformal prediction (10% allowed error rate => 90% target coverage)\n",
    "alpha = 0.1"
   ]
  },
  {
   "cell_type": "code",
   "execution_count": 48,
   "id": "eadf4555-3dd3-440e-8e35-f82a4ad9f855",
   "metadata": {
    "execution": {
     "iopub.execute_input": "2025-07-30T13:45:55.065711Z",
     "iopub.status.busy": "2025-07-30T13:45:55.065255Z",
     "iopub.status.idle": "2025-07-30T13:45:55.235846Z",
     "shell.execute_reply": "2025-07-30T13:45:55.234717Z"
    },
    "papermill": {
     "duration": 0.186986,
     "end_time": "2025-07-30T13:45:55.237818",
     "exception": false,
     "start_time": "2025-07-30T13:45:55.050832",
     "status": "completed"
    },
    "tags": []
   },
   "outputs": [],
   "source": [
    "probs_calib = model.predict_proba(X_calib)"
   ]
  },
  {
   "cell_type": "code",
   "execution_count": 49,
   "id": "2ed93547-6d5d-4983-9b36-1ecb300da49a",
   "metadata": {
    "execution": {
     "iopub.execute_input": "2025-07-30T13:45:55.287855Z",
     "iopub.status.busy": "2025-07-30T13:45:55.287185Z",
     "iopub.status.idle": "2025-07-30T13:45:55.292641Z",
     "shell.execute_reply": "2025-07-30T13:45:55.291650Z"
    },
    "papermill": {
     "duration": 0.030722,
     "end_time": "2025-07-30T13:45:55.294562",
     "exception": false,
     "start_time": "2025-07-30T13:45:55.263840",
     "status": "completed"
    },
    "tags": []
   },
   "outputs": [],
   "source": [
    "y_calib = y_calib.values.ravel().astype(int)"
   ]
  },
  {
   "cell_type": "code",
   "execution_count": 50,
   "id": "65d1320d-f588-4b38-9072-62af1ae97f7d",
   "metadata": {
    "execution": {
     "iopub.execute_input": "2025-07-30T13:45:55.343763Z",
     "iopub.status.busy": "2025-07-30T13:45:55.342860Z",
     "iopub.status.idle": "2025-07-30T13:45:55.351211Z",
     "shell.execute_reply": "2025-07-30T13:45:55.350357Z"
    },
    "papermill": {
     "duration": 0.034576,
     "end_time": "2025-07-30T13:45:55.352880",
     "exception": false,
     "start_time": "2025-07-30T13:45:55.318304",
     "status": "completed"
    },
    "tags": []
   },
   "outputs": [],
   "source": [
    "from fairness_multiverse.conformal import compute_nc_scores\n",
    "\n",
    "# Compute nonconformity scores on calibration set (1 - probability of true class)\n",
    "nc_scores = compute_nc_scores(probs_calib, y_calib)"
   ]
  },
  {
   "cell_type": "code",
   "execution_count": 51,
   "id": "df3b8ca3-53b7-43d5-9667-7c85da7aeda2",
   "metadata": {
    "execution": {
     "iopub.execute_input": "2025-07-30T13:45:55.405468Z",
     "iopub.status.busy": "2025-07-30T13:45:55.404824Z",
     "iopub.status.idle": "2025-07-30T13:45:55.411428Z",
     "shell.execute_reply": "2025-07-30T13:45:55.410549Z"
    },
    "papermill": {
     "duration": 0.033184,
     "end_time": "2025-07-30T13:45:55.413275",
     "exception": false,
     "start_time": "2025-07-30T13:45:55.380091",
     "status": "completed"
    },
    "tags": []
   },
   "outputs": [],
   "source": [
    "from fairness_multiverse.conformal import find_threshold\n",
    "\n",
    "# Find conformal threshold q_hat for the given alpha (split conformal method)\n",
    "q_hat = find_threshold(nc_scores, alpha)"
   ]
  },
  {
   "cell_type": "code",
   "execution_count": 52,
   "id": "4d29e6c1-0ef6-4aa4-b8fe-4fe79b0d033a",
   "metadata": {
    "execution": {
     "iopub.execute_input": "2025-07-30T13:45:55.464815Z",
     "iopub.status.busy": "2025-07-30T13:45:55.464358Z",
     "iopub.status.idle": "2025-07-30T13:45:55.471422Z",
     "shell.execute_reply": "2025-07-30T13:45:55.470571Z"
    },
    "papermill": {
     "duration": 0.034238,
     "end_time": "2025-07-30T13:45:55.473056",
     "exception": false,
     "start_time": "2025-07-30T13:45:55.438818",
     "status": "completed"
    },
    "tags": []
   },
   "outputs": [
    {
     "data": {
      "text/plain": [
       "0.6838373154509737"
      ]
     },
     "execution_count": 52,
     "metadata": {},
     "output_type": "execute_result"
    }
   ],
   "source": [
    "q_hat"
   ]
  },
  {
   "cell_type": "code",
   "execution_count": 53,
   "id": "92460794-cdac-4be2-ba28-f28c0515a6fb",
   "metadata": {
    "execution": {
     "iopub.execute_input": "2025-07-30T13:45:55.521767Z",
     "iopub.status.busy": "2025-07-30T13:45:55.521130Z",
     "iopub.status.idle": "2025-07-30T13:45:56.379239Z",
     "shell.execute_reply": "2025-07-30T13:45:56.378226Z"
    },
    "papermill": {
     "duration": 0.884352,
     "end_time": "2025-07-30T13:45:56.381361",
     "exception": false,
     "start_time": "2025-07-30T13:45:55.497009",
     "status": "completed"
    },
    "tags": []
   },
   "outputs": [],
   "source": [
    "from fairness_multiverse.conformal import predict_conformal_sets\n",
    "\n",
    "# Generate prediction sets for each test example\n",
    "pred_sets = predict_conformal_sets(model, X_test, q_hat)"
   ]
  },
  {
   "cell_type": "code",
   "execution_count": 54,
   "id": "d90c9a65-e6db-4f5d-80cd-e68fb7e46829",
   "metadata": {
    "execution": {
     "iopub.execute_input": "2025-07-30T13:45:56.437494Z",
     "iopub.status.busy": "2025-07-30T13:45:56.436763Z",
     "iopub.status.idle": "2025-07-30T13:45:56.442848Z",
     "shell.execute_reply": "2025-07-30T13:45:56.441894Z"
    },
    "papermill": {
     "duration": 0.0348,
     "end_time": "2025-07-30T13:45:56.444671",
     "exception": false,
     "start_time": "2025-07-30T13:45:56.409871",
     "status": "completed"
    },
    "tags": []
   },
   "outputs": [],
   "source": [
    "y_true = y_true.squeeze()"
   ]
  },
  {
   "cell_type": "code",
   "execution_count": 55,
   "id": "3a58a54a-1e68-46b9-927a-df01f18aebc8",
   "metadata": {
    "execution": {
     "iopub.execute_input": "2025-07-30T13:45:56.497244Z",
     "iopub.status.busy": "2025-07-30T13:45:56.496523Z",
     "iopub.status.idle": "2025-07-30T13:45:57.517497Z",
     "shell.execute_reply": "2025-07-30T13:45:57.516457Z"
    },
    "papermill": {
     "duration": 1.047684,
     "end_time": "2025-07-30T13:45:57.519412",
     "exception": false,
     "start_time": "2025-07-30T13:45:56.471728",
     "status": "completed"
    },
    "tags": []
   },
   "outputs": [],
   "source": [
    "from fairness_multiverse.conformal import evaluate_sets\n",
    "\n",
    "# Evaluate coverage and average set size on test data\n",
    "metrics = evaluate_sets(pred_sets, y_true)"
   ]
  },
  {
   "cell_type": "markdown",
   "id": "2b569c12-9aaa-4c88-98c9-bbcd0cf3ebb8",
   "metadata": {
    "papermill": {
     "duration": 0.027927,
     "end_time": "2025-07-30T13:45:57.576436",
     "exception": false,
     "start_time": "2025-07-30T13:45:57.548509",
     "status": "completed"
    },
    "tags": []
   },
   "source": [
    "# CP Metrics"
   ]
  },
  {
   "cell_type": "code",
   "execution_count": 56,
   "id": "5ce0a5cb-201f-45a0-ade5-94c7f0bd6095",
   "metadata": {
    "execution": {
     "iopub.execute_input": "2025-07-30T13:45:57.623973Z",
     "iopub.status.busy": "2025-07-30T13:45:57.623498Z",
     "iopub.status.idle": "2025-07-30T13:45:57.630088Z",
     "shell.execute_reply": "2025-07-30T13:45:57.629300Z"
    },
    "papermill": {
     "duration": 0.028865,
     "end_time": "2025-07-30T13:45:57.631459",
     "exception": false,
     "start_time": "2025-07-30T13:45:57.602594",
     "status": "completed"
    },
    "tags": []
   },
   "outputs": [
    {
     "data": {
      "text/plain": [
       "{'coverage': 0.9098874150039015, 'avg_size': 1.133195853305094}"
      ]
     },
     "execution_count": 56,
     "metadata": {},
     "output_type": "execute_result"
    }
   ],
   "source": [
    "metrics"
   ]
  },
  {
   "cell_type": "code",
   "execution_count": 57,
   "id": "9b9a838d-31c9-430b-ae14-12baee460d17",
   "metadata": {
    "execution": {
     "iopub.execute_input": "2025-07-30T13:45:57.662706Z",
     "iopub.status.busy": "2025-07-30T13:45:57.662205Z",
     "iopub.status.idle": "2025-07-30T13:45:57.668322Z",
     "shell.execute_reply": "2025-07-30T13:45:57.667248Z"
    },
    "papermill": {
     "duration": 0.02347,
     "end_time": "2025-07-30T13:45:57.670252",
     "exception": false,
     "start_time": "2025-07-30T13:45:57.646782",
     "status": "completed"
    },
    "tags": []
   },
   "outputs": [],
   "source": [
    "example_universe = universe.copy()\n",
    "universe_training_size = example_universe.get(\"training_size\")\n",
    "universe_scale = example_universe.get(\"scale\")\n",
    "universe_model = example_universe.get(\"model\")\n",
    "universe_exclude_features = example_universe.get(\"exclude_features\")\n",
    "universe_exclude_subgroups = example_universe.get(\"exclude_subgroups\")"
   ]
  },
  {
   "cell_type": "code",
   "execution_count": 58,
   "id": "f4b6a8ac-9dc0-4245-8a91-5b3b5999c4f9",
   "metadata": {
    "execution": {
     "iopub.execute_input": "2025-07-30T13:45:57.728745Z",
     "iopub.status.busy": "2025-07-30T13:45:57.727950Z",
     "iopub.status.idle": "2025-07-30T13:45:57.734943Z",
     "shell.execute_reply": "2025-07-30T13:45:57.733956Z"
    },
    "papermill": {
     "duration": 0.036533,
     "end_time": "2025-07-30T13:45:57.736540",
     "exception": false,
     "start_time": "2025-07-30T13:45:57.700007",
     "status": "completed"
    },
    "tags": []
   },
   "outputs": [],
   "source": [
    "cp_metrics_dict = {\n",
    "    \"universe_id\": [universe_id],\n",
    "    \"universe_training_size\": [universe_training_size],\n",
    "    \"universe_scale\": [universe_scale],\n",
    "    \"universe_model\": [universe_model],\n",
    "    \"universe_exclude_features\": [universe_exclude_features],\n",
    "    \"universe_exclude_subgroups\": [universe_exclude_subgroups],\n",
    "    \"q_hat\": [q_hat],\n",
    "    \"coverage\": [metrics[\"coverage\"]],\n",
    "    \"avg_size\": [metrics[\"avg_size\"]],\n",
    "}"
   ]
  },
  {
   "cell_type": "code",
   "execution_count": 59,
   "id": "908acbb1-0371-4915-85ca-3fa520d2efe2",
   "metadata": {
    "execution": {
     "iopub.execute_input": "2025-07-30T13:45:57.812554Z",
     "iopub.status.busy": "2025-07-30T13:45:57.811916Z",
     "iopub.status.idle": "2025-07-30T13:45:57.820952Z",
     "shell.execute_reply": "2025-07-30T13:45:57.820081Z"
    },
    "papermill": {
     "duration": 0.057753,
     "end_time": "2025-07-30T13:45:57.822369",
     "exception": false,
     "start_time": "2025-07-30T13:45:57.764616",
     "status": "completed"
    },
    "tags": []
   },
   "outputs": [
    {
     "data": {
      "text/plain": [
       "{'universe_id': ['4dad67fa21ec693cebd22d6fe01b64fe'],\n",
       " 'universe_training_size': ['5k'],\n",
       " 'universe_scale': ['scale'],\n",
       " 'universe_model': ['elasticnet'],\n",
       " 'universe_exclude_features': ['nationality'],\n",
       " 'universe_exclude_subgroups': ['keep-all'],\n",
       " 'q_hat': [0.6838373154509737],\n",
       " 'coverage': [0.9098874150039015],\n",
       " 'avg_size': [1.133195853305094]}"
      ]
     },
     "execution_count": 59,
     "metadata": {},
     "output_type": "execute_result"
    }
   ],
   "source": [
    "cp_metrics_dict"
   ]
  },
  {
   "cell_type": "code",
   "execution_count": 60,
   "id": "33007efc-14e9-4ec6-97ac-56a455c82265",
   "metadata": {
    "execution": {
     "iopub.execute_input": "2025-07-30T13:45:57.854078Z",
     "iopub.status.busy": "2025-07-30T13:45:57.853328Z",
     "iopub.status.idle": "2025-07-30T13:45:57.864529Z",
     "shell.execute_reply": "2025-07-30T13:45:57.863372Z"
    },
    "papermill": {
     "duration": 0.028346,
     "end_time": "2025-07-30T13:45:57.866379",
     "exception": false,
     "start_time": "2025-07-30T13:45:57.838033",
     "status": "completed"
    },
    "tags": []
   },
   "outputs": [],
   "source": [
    "cp_metrics_df = pd.DataFrame(cp_metrics_dict)"
   ]
  },
  {
   "cell_type": "code",
   "execution_count": 61,
   "id": "db12611b-57b2-4910-b9d0-355adfd6e7bf",
   "metadata": {
    "execution": {
     "iopub.execute_input": "2025-07-30T13:45:57.923868Z",
     "iopub.status.busy": "2025-07-30T13:45:57.922884Z",
     "iopub.status.idle": "2025-07-30T13:45:57.943721Z",
     "shell.execute_reply": "2025-07-30T13:45:57.942588Z"
    },
    "papermill": {
     "duration": 0.049312,
     "end_time": "2025-07-30T13:45:57.945911",
     "exception": false,
     "start_time": "2025-07-30T13:45:57.896599",
     "status": "completed"
    },
    "tags": []
   },
   "outputs": [
    {
     "data": {
      "text/html": [
       "<div>\n",
       "<style scoped>\n",
       "    .dataframe tbody tr th:only-of-type {\n",
       "        vertical-align: middle;\n",
       "    }\n",
       "\n",
       "    .dataframe tbody tr th {\n",
       "        vertical-align: top;\n",
       "    }\n",
       "\n",
       "    .dataframe thead th {\n",
       "        text-align: right;\n",
       "    }\n",
       "</style>\n",
       "<table border=\"1\" class=\"dataframe\">\n",
       "  <thead>\n",
       "    <tr style=\"text-align: right;\">\n",
       "      <th></th>\n",
       "      <th>universe_id</th>\n",
       "      <th>universe_training_size</th>\n",
       "      <th>universe_scale</th>\n",
       "      <th>universe_model</th>\n",
       "      <th>universe_exclude_features</th>\n",
       "      <th>universe_exclude_subgroups</th>\n",
       "      <th>q_hat</th>\n",
       "      <th>coverage</th>\n",
       "      <th>avg_size</th>\n",
       "    </tr>\n",
       "  </thead>\n",
       "  <tbody>\n",
       "    <tr>\n",
       "      <th>0</th>\n",
       "      <td>4dad67fa21ec693cebd22d6fe01b64fe</td>\n",
       "      <td>5k</td>\n",
       "      <td>scale</td>\n",
       "      <td>elasticnet</td>\n",
       "      <td>nationality</td>\n",
       "      <td>keep-all</td>\n",
       "      <td>0.683837</td>\n",
       "      <td>0.909887</td>\n",
       "      <td>1.133196</td>\n",
       "    </tr>\n",
       "  </tbody>\n",
       "</table>\n",
       "</div>"
      ],
      "text/plain": [
       "                        universe_id universe_training_size universe_scale  \\\n",
       "0  4dad67fa21ec693cebd22d6fe01b64fe                     5k          scale   \n",
       "\n",
       "  universe_model universe_exclude_features universe_exclude_subgroups  \\\n",
       "0     elasticnet               nationality                   keep-all   \n",
       "\n",
       "      q_hat  coverage  avg_size  \n",
       "0  0.683837  0.909887  1.133196  "
      ]
     },
     "execution_count": 61,
     "metadata": {},
     "output_type": "execute_result"
    }
   ],
   "source": [
    "cp_metrics_df"
   ]
  },
  {
   "cell_type": "code",
   "execution_count": 62,
   "id": "b7fbde55-a0a1-47e4-9af6-fe4a17fa8c61",
   "metadata": {
    "execution": {
     "iopub.execute_input": "2025-07-30T13:45:58.001913Z",
     "iopub.status.busy": "2025-07-30T13:45:58.001266Z",
     "iopub.status.idle": "2025-07-30T13:45:58.006652Z",
     "shell.execute_reply": "2025-07-30T13:45:58.005632Z"
    },
    "papermill": {
     "duration": 0.031888,
     "end_time": "2025-07-30T13:45:58.008357",
     "exception": false,
     "start_time": "2025-07-30T13:45:57.976469",
     "status": "completed"
    },
    "tags": []
   },
   "outputs": [],
   "source": [
    "# Conditional Coverage & looking at subgroups"
   ]
  },
  {
   "cell_type": "code",
   "execution_count": 63,
   "id": "027ae886-68dd-4141-96c7-805a5450e1ef",
   "metadata": {
    "execution": {
     "iopub.execute_input": "2025-07-30T13:45:58.060816Z",
     "iopub.status.busy": "2025-07-30T13:45:58.060111Z",
     "iopub.status.idle": "2025-07-30T13:45:58.356619Z",
     "shell.execute_reply": "2025-07-30T13:45:58.355478Z"
    },
    "papermill": {
     "duration": 0.322169,
     "end_time": "2025-07-30T13:45:58.358220",
     "exception": false,
     "start_time": "2025-07-30T13:45:58.036051",
     "status": "completed"
    },
    "tags": []
   },
   "outputs": [],
   "source": [
    "from fairness_multiverse.conformal import build_cp_groups\n",
    "\n",
    "cp_groups_df = build_cp_groups(pred_sets, y_true, X_test.index, org_test)\n",
    "#needs universe_id and setting"
   ]
  },
  {
   "cell_type": "code",
   "execution_count": 64,
   "id": "01d5802c-663a-4d1f-9d69-e036faaffbf7",
   "metadata": {
    "execution": {
     "iopub.execute_input": "2025-07-30T13:45:58.417713Z",
     "iopub.status.busy": "2025-07-30T13:45:58.417048Z",
     "iopub.status.idle": "2025-07-30T13:45:58.422333Z",
     "shell.execute_reply": "2025-07-30T13:45:58.421358Z"
    },
    "papermill": {
     "duration": 0.037204,
     "end_time": "2025-07-30T13:45:58.424090",
     "exception": false,
     "start_time": "2025-07-30T13:45:58.386886",
     "status": "completed"
    },
    "tags": []
   },
   "outputs": [],
   "source": [
    "#delete\n",
    "#cp_groups_df"
   ]
  },
  {
   "cell_type": "code",
   "execution_count": 65,
   "id": "fa424af1-d1eb-443d-b717-2d279ada8408",
   "metadata": {
    "execution": {
     "iopub.execute_input": "2025-07-30T13:45:58.482706Z",
     "iopub.status.busy": "2025-07-30T13:45:58.481918Z",
     "iopub.status.idle": "2025-07-30T13:45:58.487355Z",
     "shell.execute_reply": "2025-07-30T13:45:58.486212Z"
    },
    "papermill": {
     "duration": 0.036064,
     "end_time": "2025-07-30T13:45:58.489642",
     "exception": false,
     "start_time": "2025-07-30T13:45:58.453578",
     "status": "completed"
    },
    "tags": []
   },
   "outputs": [],
   "source": [
    "#delete\n",
    "#percentage = (cp_groups_df['nongerman_female'] == 1).mean() * 100\n",
    "#print(percentage)\n"
   ]
  },
  {
   "cell_type": "code",
   "execution_count": 66,
   "id": "6cbdab96-b2b2-45af-ad54-d0516db2e28d",
   "metadata": {
    "execution": {
     "iopub.execute_input": "2025-07-30T13:45:58.548061Z",
     "iopub.status.busy": "2025-07-30T13:45:58.547516Z",
     "iopub.status.idle": "2025-07-30T13:46:00.083982Z",
     "shell.execute_reply": "2025-07-30T13:46:00.083202Z"
    },
    "papermill": {
     "duration": 1.567391,
     "end_time": "2025-07-30T13:46:00.085728",
     "exception": false,
     "start_time": "2025-07-30T13:45:58.518337",
     "status": "completed"
    },
    "tags": []
   },
   "outputs": [],
   "source": [
    "# Define covered = 1 if true_label is in the predicted set\n",
    "cp_groups_df['covered'] = cp_groups_df.apply(\n",
    "    lambda r: int(r['true_label'] in r['pred_set']),\n",
    "    axis=1\n",
    ")"
   ]
  },
  {
   "cell_type": "code",
   "execution_count": 67,
   "id": "338ff529-1a6b-4b87-a931-8e4788d52aad",
   "metadata": {
    "execution": {
     "iopub.execute_input": "2025-07-30T13:46:00.135559Z",
     "iopub.status.busy": "2025-07-30T13:46:00.135092Z",
     "iopub.status.idle": "2025-07-30T13:46:00.140098Z",
     "shell.execute_reply": "2025-07-30T13:46:00.139104Z"
    },
    "papermill": {
     "duration": 0.03165,
     "end_time": "2025-07-30T13:46:00.141597",
     "exception": false,
     "start_time": "2025-07-30T13:46:00.109947",
     "status": "completed"
    },
    "tags": []
   },
   "outputs": [],
   "source": [
    "#cp_groups_df"
   ]
  },
  {
   "cell_type": "code",
   "execution_count": 68,
   "id": "90032e27-66df-4540-9169-4e89cfbaa758",
   "metadata": {
    "execution": {
     "iopub.execute_input": "2025-07-30T13:46:00.193869Z",
     "iopub.status.busy": "2025-07-30T13:46:00.193356Z",
     "iopub.status.idle": "2025-07-30T13:46:00.205451Z",
     "shell.execute_reply": "2025-07-30T13:46:00.204508Z"
    },
    "papermill": {
     "duration": 0.039749,
     "end_time": "2025-07-30T13:46:00.207168",
     "exception": false,
     "start_time": "2025-07-30T13:46:00.167419",
     "status": "completed"
    },
    "tags": []
   },
   "outputs": [],
   "source": [
    "subgroups = ['frau1','nongerman','nongerman_male','nongerman_female']\n",
    "\n",
    "# Conditional coverage for subgroup==1\n",
    "cond_coverage = {\n",
    "    g: cp_groups_df.loc[cp_groups_df[g]==1, 'covered'].mean()\n",
    "    for g in subgroups\n",
    "}"
   ]
  },
  {
   "cell_type": "code",
   "execution_count": 69,
   "id": "1e348fb1-b9c3-45bc-ba23-f016827a7e0d",
   "metadata": {
    "execution": {
     "iopub.execute_input": "2025-07-30T13:46:00.259303Z",
     "iopub.status.busy": "2025-07-30T13:46:00.258556Z",
     "iopub.status.idle": "2025-07-30T13:46:00.266806Z",
     "shell.execute_reply": "2025-07-30T13:46:00.265809Z"
    },
    "papermill": {
     "duration": 0.036262,
     "end_time": "2025-07-30T13:46:00.268415",
     "exception": false,
     "start_time": "2025-07-30T13:46:00.232153",
     "status": "completed"
    },
    "tags": []
   },
   "outputs": [
    {
     "data": {
      "text/plain": [
       "{'frau1': 0.9072112144493867,\n",
       " 'nongerman': 0.9094481558412395,\n",
       " 'nongerman_male': 0.9284877960911465,\n",
       " 'nongerman_female': 0.8779433681073026}"
      ]
     },
     "execution_count": 69,
     "metadata": {},
     "output_type": "execute_result"
    }
   ],
   "source": [
    "cond_coverage"
   ]
  },
  {
   "cell_type": "code",
   "execution_count": 70,
   "id": "f5093324-c3dd-4d63-bc4c-8d945e5c8bbb",
   "metadata": {
    "execution": {
     "iopub.execute_input": "2025-07-30T13:46:00.321565Z",
     "iopub.status.busy": "2025-07-30T13:46:00.320601Z",
     "iopub.status.idle": "2025-07-30T13:46:00.327638Z",
     "shell.execute_reply": "2025-07-30T13:46:00.326719Z"
    },
    "papermill": {
     "duration": 0.035632,
     "end_time": "2025-07-30T13:46:00.329316",
     "exception": false,
     "start_time": "2025-07-30T13:46:00.293684",
     "status": "completed"
    },
    "tags": []
   },
   "outputs": [],
   "source": [
    "for subgroup, cov in cond_coverage.items():\n",
    "    cp_metrics_df[f\"cov_{subgroup}\"] = cov"
   ]
  },
  {
   "cell_type": "code",
   "execution_count": 71,
   "id": "6e872e10-dbe5-49e8-b554-5030c98ff75d",
   "metadata": {
    "execution": {
     "iopub.execute_input": "2025-07-30T13:46:00.382925Z",
     "iopub.status.busy": "2025-07-30T13:46:00.382115Z",
     "iopub.status.idle": "2025-07-30T13:46:00.399524Z",
     "shell.execute_reply": "2025-07-30T13:46:00.398548Z"
    },
    "papermill": {
     "duration": 0.04623,
     "end_time": "2025-07-30T13:46:00.401184",
     "exception": false,
     "start_time": "2025-07-30T13:46:00.354954",
     "status": "completed"
    },
    "tags": []
   },
   "outputs": [
    {
     "data": {
      "text/html": [
       "<div>\n",
       "<style scoped>\n",
       "    .dataframe tbody tr th:only-of-type {\n",
       "        vertical-align: middle;\n",
       "    }\n",
       "\n",
       "    .dataframe tbody tr th {\n",
       "        vertical-align: top;\n",
       "    }\n",
       "\n",
       "    .dataframe thead th {\n",
       "        text-align: right;\n",
       "    }\n",
       "</style>\n",
       "<table border=\"1\" class=\"dataframe\">\n",
       "  <thead>\n",
       "    <tr style=\"text-align: right;\">\n",
       "      <th></th>\n",
       "      <th>universe_id</th>\n",
       "      <th>universe_training_size</th>\n",
       "      <th>universe_scale</th>\n",
       "      <th>universe_model</th>\n",
       "      <th>universe_exclude_features</th>\n",
       "      <th>universe_exclude_subgroups</th>\n",
       "      <th>q_hat</th>\n",
       "      <th>coverage</th>\n",
       "      <th>avg_size</th>\n",
       "      <th>cov_frau1</th>\n",
       "      <th>cov_nongerman</th>\n",
       "      <th>cov_nongerman_male</th>\n",
       "      <th>cov_nongerman_female</th>\n",
       "    </tr>\n",
       "  </thead>\n",
       "  <tbody>\n",
       "    <tr>\n",
       "      <th>0</th>\n",
       "      <td>4dad67fa21ec693cebd22d6fe01b64fe</td>\n",
       "      <td>5k</td>\n",
       "      <td>scale</td>\n",
       "      <td>elasticnet</td>\n",
       "      <td>nationality</td>\n",
       "      <td>keep-all</td>\n",
       "      <td>0.683837</td>\n",
       "      <td>0.909887</td>\n",
       "      <td>1.133196</td>\n",
       "      <td>0.907211</td>\n",
       "      <td>0.909448</td>\n",
       "      <td>0.928488</td>\n",
       "      <td>0.877943</td>\n",
       "    </tr>\n",
       "  </tbody>\n",
       "</table>\n",
       "</div>"
      ],
      "text/plain": [
       "                        universe_id universe_training_size universe_scale  \\\n",
       "0  4dad67fa21ec693cebd22d6fe01b64fe                     5k          scale   \n",
       "\n",
       "  universe_model universe_exclude_features universe_exclude_subgroups  \\\n",
       "0     elasticnet               nationality                   keep-all   \n",
       "\n",
       "      q_hat  coverage  avg_size  cov_frau1  cov_nongerman  cov_nongerman_male  \\\n",
       "0  0.683837  0.909887  1.133196   0.907211       0.909448            0.928488   \n",
       "\n",
       "   cov_nongerman_female  \n",
       "0              0.877943  "
      ]
     },
     "execution_count": 71,
     "metadata": {},
     "output_type": "execute_result"
    }
   ],
   "source": [
    "cp_metrics_df"
   ]
  },
  {
   "cell_type": "markdown",
   "id": "33774451",
   "metadata": {
    "papermill": {
     "duration": 0.026109,
     "end_time": "2025-07-30T13:46:00.453186",
     "exception": false,
     "start_time": "2025-07-30T13:46:00.427077",
     "status": "completed"
    },
    "tags": []
   },
   "source": [
    "# (Fairness) Metrics"
   ]
  },
  {
   "cell_type": "code",
   "execution_count": 72,
   "id": "debc5d62",
   "metadata": {
    "execution": {
     "iopub.execute_input": "2025-07-30T13:46:00.505749Z",
     "iopub.status.busy": "2025-07-30T13:46:00.505257Z",
     "iopub.status.idle": "2025-07-30T13:46:00.527455Z",
     "shell.execute_reply": "2025-07-30T13:46:00.526585Z"
    },
    "papermill": {
     "duration": 0.051241,
     "end_time": "2025-07-30T13:46:00.529245",
     "exception": false,
     "start_time": "2025-07-30T13:46:00.478004",
     "status": "completed"
    },
    "tags": []
   },
   "outputs": [],
   "source": [
    "# do I need to include maxdeutsch1.missing?\n",
    "\n",
    "import numpy as np\n",
    "\n",
    "colname_to_bin = \"maxdeutsch1\"\n",
    "majority_value = org_train[colname_to_bin].mode()[0]\n",
    "\n",
    "org_test[\"majmin\"] = np.where(org_test[colname_to_bin] == majority_value, \"majority\", \"minority\")"
   ]
  },
  {
   "cell_type": "code",
   "execution_count": 73,
   "id": "06a50de5",
   "metadata": {
    "execution": {
     "iopub.execute_input": "2025-07-30T13:46:00.584862Z",
     "iopub.status.busy": "2025-07-30T13:46:00.583894Z",
     "iopub.status.idle": "2025-07-30T13:46:03.498085Z",
     "shell.execute_reply": "2025-07-30T13:46:03.497222Z"
    },
    "papermill": {
     "duration": 2.944806,
     "end_time": "2025-07-30T13:46:03.499863",
     "exception": false,
     "start_time": "2025-07-30T13:46:00.555057",
     "status": "completed"
    },
    "tags": []
   },
   "outputs": [],
   "source": [
    "example_universe = universe.copy()\n",
    "example_universe[\"cutoff\"] = example_universe[\"cutoff\"][0]\n",
    "example_universe[\"eval_fairness_grouping\"] = example_universe[\"eval_fairness_grouping\"][0]\n",
    "fairness_dict, metric_frame = universe_analysis.compute_metrics(\n",
    "    example_universe,\n",
    "    y_pred_prob=probs_test,\n",
    "    y_test=y_true,\n",
    "    org_test=org_test,\n",
    ")"
   ]
  },
  {
   "cell_type": "markdown",
   "id": "f95d4e02",
   "metadata": {
    "papermill": {
     "duration": 0.024808,
     "end_time": "2025-07-30T13:46:03.553165",
     "exception": false,
     "start_time": "2025-07-30T13:46:03.528357",
     "status": "completed"
    },
    "tags": []
   },
   "source": [
    "# Overall"
   ]
  },
  {
   "cell_type": "markdown",
   "id": "bdee4871",
   "metadata": {
    "papermill": {
     "duration": 0.024373,
     "end_time": "2025-07-30T13:46:03.602137",
     "exception": false,
     "start_time": "2025-07-30T13:46:03.577764",
     "status": "completed"
    },
    "tags": []
   },
   "source": [
    "Fairness\n",
    "Main fairness target: Equalized Odds. Seems to be a better fit than equal opportunity, since we're not only interested in Y = 1. Seems to be a better fit than demographic parity, since we also care about accuracy, not just equal distribution of preds.\n",
    "\n",
    "Pick column for computation of fairness metrics\n",
    "\n",
    "Performance\n",
    "Overall performance measures, most interesting in relation to the measures split by group below"
   ]
  },
  {
   "cell_type": "code",
   "execution_count": 74,
   "id": "c4e067c6",
   "metadata": {
    "execution": {
     "iopub.execute_input": "2025-07-30T13:46:03.653162Z",
     "iopub.status.busy": "2025-07-30T13:46:03.652390Z",
     "iopub.status.idle": "2025-07-30T13:46:03.661967Z",
     "shell.execute_reply": "2025-07-30T13:46:03.660992Z"
    },
    "papermill": {
     "duration": 0.03683,
     "end_time": "2025-07-30T13:46:03.663483",
     "exception": false,
     "start_time": "2025-07-30T13:46:03.626653",
     "status": "completed"
    },
    "tags": []
   },
   "outputs": [
    {
     "data": {
      "text/plain": [
       "accuracy                   0.224445\n",
       "balanced accuracy          0.548785\n",
       "f1                         0.245775\n",
       "precision                  0.140403\n",
       "false positive rate        0.887484\n",
       "false negative rate        0.014946\n",
       "selection rate             0.900000\n",
       "count                  89710.000000\n",
       "dtype: float64"
      ]
     },
     "execution_count": 74,
     "metadata": {},
     "output_type": "execute_result"
    }
   ],
   "source": [
    "metric_frame.overall"
   ]
  },
  {
   "cell_type": "markdown",
   "id": "e968fe9d",
   "metadata": {
    "papermill": {
     "duration": 0.024481,
     "end_time": "2025-07-30T13:46:03.713936",
     "exception": false,
     "start_time": "2025-07-30T13:46:03.689455",
     "status": "completed"
    },
    "tags": []
   },
   "source": [
    "By Group"
   ]
  },
  {
   "cell_type": "code",
   "execution_count": 75,
   "id": "ec325bce",
   "metadata": {
    "execution": {
     "iopub.execute_input": "2025-07-30T13:46:03.765127Z",
     "iopub.status.busy": "2025-07-30T13:46:03.764458Z",
     "iopub.status.idle": "2025-07-30T13:46:03.781015Z",
     "shell.execute_reply": "2025-07-30T13:46:03.779960Z"
    },
    "papermill": {
     "duration": 0.043911,
     "end_time": "2025-07-30T13:46:03.782617",
     "exception": false,
     "start_time": "2025-07-30T13:46:03.738706",
     "status": "completed"
    },
    "tags": []
   },
   "outputs": [
    {
     "data": {
      "text/html": [
       "<div>\n",
       "<style scoped>\n",
       "    .dataframe tbody tr th:only-of-type {\n",
       "        vertical-align: middle;\n",
       "    }\n",
       "\n",
       "    .dataframe tbody tr th {\n",
       "        vertical-align: top;\n",
       "    }\n",
       "\n",
       "    .dataframe thead th {\n",
       "        text-align: right;\n",
       "    }\n",
       "</style>\n",
       "<table border=\"1\" class=\"dataframe\">\n",
       "  <thead>\n",
       "    <tr style=\"text-align: right;\">\n",
       "      <th></th>\n",
       "      <th>accuracy</th>\n",
       "      <th>balanced accuracy</th>\n",
       "      <th>f1</th>\n",
       "      <th>precision</th>\n",
       "      <th>false positive rate</th>\n",
       "      <th>false negative rate</th>\n",
       "      <th>selection rate</th>\n",
       "      <th>count</th>\n",
       "    </tr>\n",
       "    <tr>\n",
       "      <th>majmin</th>\n",
       "      <th></th>\n",
       "      <th></th>\n",
       "      <th></th>\n",
       "      <th></th>\n",
       "      <th></th>\n",
       "      <th></th>\n",
       "      <th></th>\n",
       "      <th></th>\n",
       "    </tr>\n",
       "  </thead>\n",
       "  <tbody>\n",
       "    <tr>\n",
       "      <th>majority</th>\n",
       "      <td>0.241868</td>\n",
       "      <td>0.556911</td>\n",
       "      <td>0.255621</td>\n",
       "      <td>0.146865</td>\n",
       "      <td>0.871298</td>\n",
       "      <td>0.014880</td>\n",
       "      <td>0.886338</td>\n",
       "      <td>69170.0</td>\n",
       "    </tr>\n",
       "    <tr>\n",
       "      <th>minority</th>\n",
       "      <td>0.165774</td>\n",
       "      <td>0.521922</td>\n",
       "      <td>0.213955</td>\n",
       "      <td>0.120014</td>\n",
       "      <td>0.940953</td>\n",
       "      <td>0.015203</td>\n",
       "      <td>0.946008</td>\n",
       "      <td>20540.0</td>\n",
       "    </tr>\n",
       "  </tbody>\n",
       "</table>\n",
       "</div>"
      ],
      "text/plain": [
       "          accuracy  balanced accuracy        f1  precision  \\\n",
       "majmin                                                       \n",
       "majority  0.241868           0.556911  0.255621   0.146865   \n",
       "minority  0.165774           0.521922  0.213955   0.120014   \n",
       "\n",
       "          false positive rate  false negative rate  selection rate    count  \n",
       "majmin                                                                       \n",
       "majority             0.871298             0.014880        0.886338  69170.0  \n",
       "minority             0.940953             0.015203        0.946008  20540.0  "
      ]
     },
     "execution_count": 75,
     "metadata": {},
     "output_type": "execute_result"
    }
   ],
   "source": [
    "metric_frame.by_group"
   ]
  },
  {
   "cell_type": "code",
   "execution_count": 76,
   "id": "a9ddbe63",
   "metadata": {
    "execution": {
     "iopub.execute_input": "2025-07-30T13:46:03.835610Z",
     "iopub.status.busy": "2025-07-30T13:46:03.835035Z",
     "iopub.status.idle": "2025-07-30T13:46:06.038843Z",
     "shell.execute_reply": "2025-07-30T13:46:06.037880Z"
    },
    "papermill": {
     "duration": 2.231749,
     "end_time": "2025-07-30T13:46:06.040587",
     "exception": false,
     "start_time": "2025-07-30T13:46:03.808838",
     "status": "completed"
    },
    "tags": []
   },
   "outputs": [
    {
     "data": {
      "text/plain": [
       "array([[<Axes: title={'center': 'accuracy'}, xlabel='majmin'>,\n",
       "        <Axes: title={'center': 'balanced accuracy'}, xlabel='majmin'>,\n",
       "        <Axes: title={'center': 'f1'}, xlabel='majmin'>],\n",
       "       [<Axes: title={'center': 'precision'}, xlabel='majmin'>,\n",
       "        <Axes: title={'center': 'false positive rate'}, xlabel='majmin'>,\n",
       "        <Axes: title={'center': 'false negative rate'}, xlabel='majmin'>],\n",
       "       [<Axes: title={'center': 'selection rate'}, xlabel='majmin'>,\n",
       "        <Axes: title={'center': 'count'}, xlabel='majmin'>,\n",
       "        <Axes: xlabel='majmin'>]], dtype=object)"
      ]
     },
     "execution_count": 76,
     "metadata": {},
     "output_type": "execute_result"
    },
    {
     "data": {
      "image/png": "[encoded data removed]",
      "text/plain": [
       "<Figure size 1200x800 with 9 Axes>"
      ]
     },
     "metadata": {},
     "output_type": "display_data"
    }
   ],
   "source": [
    "# In a graphic\n",
    "metric_frame.by_group.plot.bar(\n",
    "    subplots=True,\n",
    "    layout=[3, 3],\n",
    "    legend=False,\n",
    "    figsize=[12, 8],\n",
    "    title=\"Show all metrics\",\n",
    ")"
   ]
  },
  {
   "cell_type": "markdown",
   "id": "f57a0bac",
   "metadata": {
    "papermill": {
     "duration": 0.02673,
     "end_time": "2025-07-30T13:46:06.106454",
     "exception": false,
     "start_time": "2025-07-30T13:46:06.079724",
     "status": "completed"
    },
    "tags": []
   },
   "source": [
    "# Final Output"
   ]
  },
  {
   "cell_type": "code",
   "execution_count": 77,
   "id": "96d280a3",
   "metadata": {
    "execution": {
     "iopub.execute_input": "2025-07-30T13:46:06.163323Z",
     "iopub.status.busy": "2025-07-30T13:46:06.162655Z",
     "iopub.status.idle": "2025-07-30T13:46:06.172356Z",
     "shell.execute_reply": "2025-07-30T13:46:06.171256Z"
    },
    "papermill": {
     "duration": 0.042648,
     "end_time": "2025-07-30T13:46:06.175926",
     "exception": false,
     "start_time": "2025-07-30T13:46:06.133278",
     "status": "completed"
    },
    "tags": []
   },
   "outputs": [
    {
     "data": {
      "text/plain": [
       "4"
      ]
     },
     "execution_count": 77,
     "metadata": {},
     "output_type": "execute_result"
    }
   ],
   "source": [
    "sub_universes = universe_analysis.generate_sub_universes()\n",
    "len(sub_universes)"
   ]
  },
  {
   "cell_type": "code",
   "execution_count": 78,
   "id": "92adf7ba",
   "metadata": {
    "execution": {
     "iopub.execute_input": "2025-07-30T13:46:06.233834Z",
     "iopub.status.busy": "2025-07-30T13:46:06.232875Z",
     "iopub.status.idle": "2025-07-30T13:46:06.239628Z",
     "shell.execute_reply": "2025-07-30T13:46:06.238389Z"
    },
    "papermill": {
     "duration": 0.038345,
     "end_time": "2025-07-30T13:46:06.241741",
     "exception": false,
     "start_time": "2025-07-30T13:46:06.203396",
     "status": "completed"
    },
    "tags": []
   },
   "outputs": [],
   "source": [
    "def filter_sub_universe_data(sub_universe, org_test):\n",
    "    # Keep all rows — no filtering\n",
    "    keep_rows_mask = np.ones(org_test.shape[0], dtype=bool)\n",
    "\n",
    "    print(f\"[INFO] Keeping all rows: {keep_rows_mask.sum()} rows retained.\")\n",
    "    return keep_rows_mask"
   ]
  },
  {
   "cell_type": "code",
   "execution_count": 79,
   "id": "4a759155",
   "metadata": {
    "execution": {
     "iopub.execute_input": "2025-07-30T13:46:06.299492Z",
     "iopub.status.busy": "2025-07-30T13:46:06.299044Z",
     "iopub.status.idle": "2025-07-30T13:46:16.201544Z",
     "shell.execute_reply": "2025-07-30T13:46:16.200555Z"
    },
    "papermill": {
     "duration": 9.931918,
     "end_time": "2025-07-30T13:46:16.203125",
     "exception": false,
     "start_time": "2025-07-30T13:46:06.271207",
     "status": "completed"
    },
    "tags": []
   },
   "outputs": [
    {
     "name": "stdout",
     "output_type": "stream",
     "text": [
      "Stopping execution_time clock.\n",
      "[INFO] Keeping all rows: 89710 rows retained.\n"
     ]
    },
    {
     "name": "stdout",
     "output_type": "stream",
     "text": [
      "[INFO] Keeping all rows: 89710 rows retained.\n"
     ]
    },
    {
     "name": "stdout",
     "output_type": "stream",
     "text": [
      "[INFO] Keeping all rows: 89710 rows retained.\n"
     ]
    },
    {
     "name": "stdout",
     "output_type": "stream",
     "text": [
      "[INFO] Keeping all rows: 89710 rows retained.\n"
     ]
    },
    {
     "data": {
      "text/html": [
       "<div>\n",
       "<style scoped>\n",
       "    .dataframe tbody tr th:only-of-type {\n",
       "        vertical-align: middle;\n",
       "    }\n",
       "\n",
       "    .dataframe tbody tr th {\n",
       "        vertical-align: top;\n",
       "    }\n",
       "\n",
       "    .dataframe thead th {\n",
       "        text-align: right;\n",
       "    }\n",
       "</style>\n",
       "<table border=\"1\" class=\"dataframe\">\n",
       "  <thead>\n",
       "    <tr style=\"text-align: right;\">\n",
       "      <th></th>\n",
       "      <th>run_no</th>\n",
       "      <th>universe_id</th>\n",
       "      <th>universe_settings</th>\n",
       "      <th>execution_time</th>\n",
       "      <th>test_size_n</th>\n",
       "      <th>test_size_frac</th>\n",
       "      <th>fair_main_equalized_odds_difference</th>\n",
       "      <th>fair_main_equalized_odds_ratio</th>\n",
       "      <th>fair_main_demographic_parity_difference</th>\n",
       "      <th>fair_main_demographic_parity_ratio</th>\n",
       "      <th>...</th>\n",
       "      <th>perf_grp_precision_0</th>\n",
       "      <th>perf_grp_precision_1</th>\n",
       "      <th>perf_grp_false positive rate_0</th>\n",
       "      <th>perf_grp_false positive rate_1</th>\n",
       "      <th>perf_grp_false negative rate_0</th>\n",
       "      <th>perf_grp_false negative rate_1</th>\n",
       "      <th>perf_grp_selection rate_0</th>\n",
       "      <th>perf_grp_selection rate_1</th>\n",
       "      <th>perf_grp_count_0</th>\n",
       "      <th>perf_grp_count_1</th>\n",
       "    </tr>\n",
       "  </thead>\n",
       "  <tbody>\n",
       "    <tr>\n",
       "      <th>0</th>\n",
       "      <td>12</td>\n",
       "      <td>4dad67fa21ec693cebd22d6fe01b64fe</td>\n",
       "      <td>{\"cutoff\": \"quantile_0.1\", \"eval_fairness_grou...</td>\n",
       "      <td>36.734297</td>\n",
       "      <td>89710</td>\n",
       "      <td>1.0</td>\n",
       "      <td>0.069655</td>\n",
       "      <td>0.925974</td>\n",
       "      <td>0.059670</td>\n",
       "      <td>0.936925</td>\n",
       "      <td>...</td>\n",
       "      <td>NaN</td>\n",
       "      <td>NaN</td>\n",
       "      <td>NaN</td>\n",
       "      <td>NaN</td>\n",
       "      <td>NaN</td>\n",
       "      <td>NaN</td>\n",
       "      <td>NaN</td>\n",
       "      <td>NaN</td>\n",
       "      <td>NaN</td>\n",
       "      <td>NaN</td>\n",
       "    </tr>\n",
       "    <tr>\n",
       "      <th>0</th>\n",
       "      <td>12</td>\n",
       "      <td>4dad67fa21ec693cebd22d6fe01b64fe</td>\n",
       "      <td>{\"cutoff\": \"quantile_0.1\", \"eval_fairness_grou...</td>\n",
       "      <td>36.734297</td>\n",
       "      <td>89710</td>\n",
       "      <td>1.0</td>\n",
       "      <td>0.069655</td>\n",
       "      <td>0.925974</td>\n",
       "      <td>0.059670</td>\n",
       "      <td>0.936925</td>\n",
       "      <td>...</td>\n",
       "      <td>0.120014</td>\n",
       "      <td>0.146865</td>\n",
       "      <td>0.940953</td>\n",
       "      <td>0.871298</td>\n",
       "      <td>0.015203</td>\n",
       "      <td>0.014880</td>\n",
       "      <td>0.946008</td>\n",
       "      <td>0.886338</td>\n",
       "      <td>20540.0</td>\n",
       "      <td>69170.0</td>\n",
       "    </tr>\n",
       "    <tr>\n",
       "      <th>0</th>\n",
       "      <td>12</td>\n",
       "      <td>4dad67fa21ec693cebd22d6fe01b64fe</td>\n",
       "      <td>{\"cutoff\": \"quantile_0.25\", \"eval_fairness_gro...</td>\n",
       "      <td>36.734297</td>\n",
       "      <td>89710</td>\n",
       "      <td>1.0</td>\n",
       "      <td>0.146782</td>\n",
       "      <td>0.824218</td>\n",
       "      <td>0.126987</td>\n",
       "      <td>0.850235</td>\n",
       "      <td>...</td>\n",
       "      <td>NaN</td>\n",
       "      <td>NaN</td>\n",
       "      <td>NaN</td>\n",
       "      <td>NaN</td>\n",
       "      <td>NaN</td>\n",
       "      <td>NaN</td>\n",
       "      <td>NaN</td>\n",
       "      <td>NaN</td>\n",
       "      <td>NaN</td>\n",
       "      <td>NaN</td>\n",
       "    </tr>\n",
       "    <tr>\n",
       "      <th>0</th>\n",
       "      <td>12</td>\n",
       "      <td>4dad67fa21ec693cebd22d6fe01b64fe</td>\n",
       "      <td>{\"cutoff\": \"quantile_0.25\", \"eval_fairness_gro...</td>\n",
       "      <td>36.734297</td>\n",
       "      <td>89710</td>\n",
       "      <td>1.0</td>\n",
       "      <td>0.146782</td>\n",
       "      <td>0.824218</td>\n",
       "      <td>0.126987</td>\n",
       "      <td>0.850235</td>\n",
       "      <td>...</td>\n",
       "      <td>0.128732</td>\n",
       "      <td>0.171480</td>\n",
       "      <td>0.835021</td>\n",
       "      <td>0.688239</td>\n",
       "      <td>0.053209</td>\n",
       "      <td>0.064442</td>\n",
       "      <td>0.847907</td>\n",
       "      <td>0.720919</td>\n",
       "      <td>20540.0</td>\n",
       "      <td>69170.0</td>\n",
       "    </tr>\n",
       "  </tbody>\n",
       "</table>\n",
       "<p>4 rows × 50 columns</p>\n",
       "</div>"
      ],
      "text/plain": [
       "  run_no                       universe_id  \\\n",
       "0     12  4dad67fa21ec693cebd22d6fe01b64fe   \n",
       "0     12  4dad67fa21ec693cebd22d6fe01b64fe   \n",
       "0     12  4dad67fa21ec693cebd22d6fe01b64fe   \n",
       "0     12  4dad67fa21ec693cebd22d6fe01b64fe   \n",
       "\n",
       "                                   universe_settings  execution_time  \\\n",
       "0  {\"cutoff\": \"quantile_0.1\", \"eval_fairness_grou...       36.734297   \n",
       "0  {\"cutoff\": \"quantile_0.1\", \"eval_fairness_grou...       36.734297   \n",
       "0  {\"cutoff\": \"quantile_0.25\", \"eval_fairness_gro...       36.734297   \n",
       "0  {\"cutoff\": \"quantile_0.25\", \"eval_fairness_gro...       36.734297   \n",
       "\n",
       "   test_size_n  test_size_frac  fair_main_equalized_odds_difference  \\\n",
       "0        89710             1.0                             0.069655   \n",
       "0        89710             1.0                             0.069655   \n",
       "0        89710             1.0                             0.146782   \n",
       "0        89710             1.0                             0.146782   \n",
       "\n",
       "   fair_main_equalized_odds_ratio  fair_main_demographic_parity_difference  \\\n",
       "0                        0.925974                                 0.059670   \n",
       "0                        0.925974                                 0.059670   \n",
       "0                        0.824218                                 0.126987   \n",
       "0                        0.824218                                 0.126987   \n",
       "\n",
       "   fair_main_demographic_parity_ratio  ...  perf_grp_precision_0  \\\n",
       "0                            0.936925  ...                   NaN   \n",
       "0                            0.936925  ...              0.120014   \n",
       "0                            0.850235  ...                   NaN   \n",
       "0                            0.850235  ...              0.128732   \n",
       "\n",
       "   perf_grp_precision_1  perf_grp_false positive rate_0  \\\n",
       "0                   NaN                             NaN   \n",
       "0              0.146865                        0.940953   \n",
       "0                   NaN                             NaN   \n",
       "0              0.171480                        0.835021   \n",
       "\n",
       "   perf_grp_false positive rate_1  perf_grp_false negative rate_0  \\\n",
       "0                             NaN                             NaN   \n",
       "0                        0.871298                        0.015203   \n",
       "0                             NaN                             NaN   \n",
       "0                        0.688239                        0.053209   \n",
       "\n",
       "   perf_grp_false negative rate_1  perf_grp_selection rate_0  \\\n",
       "0                             NaN                        NaN   \n",
       "0                        0.014880                   0.946008   \n",
       "0                             NaN                        NaN   \n",
       "0                        0.064442                   0.847907   \n",
       "\n",
       "   perf_grp_selection rate_1  perf_grp_count_0  perf_grp_count_1  \n",
       "0                        NaN               NaN               NaN  \n",
       "0                   0.886338           20540.0           69170.0  \n",
       "0                        NaN               NaN               NaN  \n",
       "0                   0.720919           20540.0           69170.0  \n",
       "\n",
       "[4 rows x 50 columns]"
      ]
     },
     "execution_count": 79,
     "metadata": {},
     "output_type": "execute_result"
    }
   ],
   "source": [
    "final_output = universe_analysis.generate_final_output(\n",
    "    y_pred_prob=probs_test,\n",
    "    y_test=y_true,\n",
    "    org_test=org_test,\n",
    "    filter_data=filter_sub_universe_data,\n",
    "    cp_metrics_df=cp_metrics_df,\n",
    "    save=True,\n",
    ")\n",
    "final_output"
   ]
  },
  {
   "cell_type": "code",
   "execution_count": null,
   "id": "721ff514-cb11-46f8-b6fc-50392f74b5cb",
   "metadata": {
    "papermill": {
     "duration": 0.028185,
     "end_time": "2025-07-30T13:46:16.262297",
     "exception": false,
     "start_time": "2025-07-30T13:46:16.234112",
     "status": "completed"
    },
    "tags": []
   },
   "outputs": [],
   "source": []
  }
 ],
 "metadata": {
  "celltoolbar": "Tags",
  "kernelspec": {
   "display_name": "Python (CMA Fairness)",
   "language": "python",
   "name": "cma_fair_env"
  },
  "language_info": {
   "codemirror_mode": {
    "name": "ipython",
    "version": 3
   },
   "file_extension": ".py",
   "mimetype": "text/x-python",
   "name": "python",
   "nbconvert_exporter": "python",
   "pygments_lexer": "ipython3",
   "version": "3.10.12"
  },
  "papermill": {
   "default_parameters": {},
   "duration": 50.899786,
   "end_time": "2025-07-30T13:46:17.110195",
   "environment_variables": {},
   "exception": null,
   "input_path": "universe_analysis.ipynb",
   "output_path": "output/runs/12/notebooks/m_12-4dad67fa21ec693cebd22d6fe01b64fe.ipynb",
   "parameters": {
    "output_dir": "output",
    "run_no": "12",
    "seed": "2023",
    "universe": "{\"cutoff\": [\"quantile_0.1\", \"quantile_0.25\"], \"eval_fairness_grouping\": [\"majority-minority\", \"nationality-all\"], \"exclude_features\": \"nationality\", \"exclude_subgroups\": \"keep-all\", \"model\": \"elasticnet\", \"scale\": \"scale\", \"training_size\": \"5k\", \"training_year\": \"2014\"}",
    "universe_id": "4dad67fa21ec693cebd22d6fe01b64fe"
   },
   "start_time": "2025-07-30T13:45:26.210409",
   "version": "2.6.0"
  }
 },
 "nbformat": 4,
 "nbformat_minor": 5
}