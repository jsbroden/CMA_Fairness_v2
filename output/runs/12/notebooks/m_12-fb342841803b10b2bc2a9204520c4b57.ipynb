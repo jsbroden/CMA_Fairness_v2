{
 "cells": [
  {
   "cell_type": "code",
   "execution_count": 1,
   "id": "f159f837-637b-42ba-96b5-ec9a68c44524",
   "metadata": {
    "execution": {
     "iopub.execute_input": "2025-07-30T14:20:24.222502Z",
     "iopub.status.busy": "2025-07-30T14:20:24.222032Z",
     "iopub.status.idle": "2025-07-30T14:20:24.237144Z",
     "shell.execute_reply": "2025-07-30T14:20:24.236099Z"
    },
    "papermill": {
     "duration": 0.038867,
     "end_time": "2025-07-30T14:20:24.238813",
     "exception": false,
     "start_time": "2025-07-30T14:20:24.199946",
     "status": "completed"
    },
    "tags": []
   },
   "outputs": [
    {
     "name": "stdout",
     "output_type": "stream",
     "text": [
      "/dss/dsshome1/0C/ra93lal2/cma/CMA_Fairness_v2\n"
     ]
    },
    {
     "name": "stderr",
     "output_type": "stream",
     "text": [
      "/dss/dsshome1/0C/ra93lal2/.local/share/virtualenvs/CMA_Fairness_v2-3j10GkSs/lib/python3.10/site-packages/IPython/core/magics/osm.py:393: UserWarning: This is now an optional IPython functionality, using bookmarks requires you to install the `pickleshare` library.\n",
      "  bkms = self.shell.db.get('bookmarks', {})\n",
      "/dss/dsshome1/0C/ra93lal2/.local/share/virtualenvs/CMA_Fairness_v2-3j10GkSs/lib/python3.10/site-packages/IPython/core/magics/osm.py:417: UserWarning: This is now an optional IPython functionality, setting dhist requires you to install the `pickleshare` library.\n",
      "  self.shell.db['dhist'] = compress_dhist(dhist)[-100:]\n"
     ]
    }
   ],
   "source": [
    "%cd ~/cma/CMA_Fairness_v2"
   ]
  },
  {
   "cell_type": "markdown",
   "id": "de2603b9",
   "metadata": {
    "papermill": {
     "duration": 0.021112,
     "end_time": "2025-07-30T14:20:24.278932",
     "exception": false,
     "start_time": "2025-07-30T14:20:24.257820",
     "status": "completed"
    },
    "tags": []
   },
   "source": [
    "The following cell holds the definition of our parameters, these values can be overriden by rendering the with e.g. the following command:\n",
    "\n",
    "papermill -p alpha 0.2 -p ratio 0.3 universe_analysis.ipynb output/test_run.ipynb"
   ]
  },
  {
   "cell_type": "code",
   "execution_count": 2,
   "id": "a80968a0-40bb-4fa9-85ef-2d5eefb01975",
   "metadata": {
    "execution": {
     "iopub.execute_input": "2025-07-30T14:20:24.318127Z",
     "iopub.status.busy": "2025-07-30T14:20:24.317687Z",
     "iopub.status.idle": "2025-07-30T14:20:24.322909Z",
     "shell.execute_reply": "2025-07-30T14:20:24.322003Z"
    },
    "papermill": {
     "duration": 0.026901,
     "end_time": "2025-07-30T14:20:24.324503",
     "exception": false,
     "start_time": "2025-07-30T14:20:24.297602",
     "status": "completed"
    },
    "tags": []
   },
   "outputs": [
    {
     "name": "stdout",
     "output_type": "stream",
     "text": [
      "Current working directory: /dss/dsshome1/0C/ra93lal2/cma/CMA_Fairness_v2\n"
     ]
    }
   ],
   "source": [
    "import os\n",
    "print(\"Current working directory:\", os.getcwd())"
   ]
  },
  {
   "cell_type": "code",
   "execution_count": 3,
   "id": "2dce4c03",
   "metadata": {
    "execution": {
     "iopub.execute_input": "2025-07-30T14:20:24.365051Z",
     "iopub.status.busy": "2025-07-30T14:20:24.364636Z",
     "iopub.status.idle": "2025-07-30T14:20:24.370359Z",
     "shell.execute_reply": "2025-07-30T14:20:24.369522Z"
    },
    "papermill": {
     "duration": 0.027896,
     "end_time": "2025-07-30T14:20:24.372126",
     "exception": false,
     "start_time": "2025-07-30T14:20:24.344230",
     "status": "completed"
    },
    "tags": [
     "parameters"
    ]
   },
   "outputs": [],
   "source": [
    "run_no = 0\n",
    "universe_id = \"test\"\n",
    "universe = {\n",
    "    \"training_size\": \"25k\", # \"25k\", \"5k\", \"1k\"\n",
    "    \"training_year\": \"2014\", # \"2014\", \"2012_14\", \"2010_14\"\n",
    "    \"scale\": \"scale\", # \"scale\", \"do-not-scale\",\n",
    "    #\"stratify_split\": \"target\", # \"none\", \"target\", \"protected-attribute\", \"both\",\n",
    "    \"model\": \"elasticnet\", # \"logreg\", \"penalized_logreg\", \"rf\", \"gbm\", \"elasticnet\"\n",
    "    \"cutoff\": [\"quantile_0.15\", \"quantile_0.30\"],\n",
    "    \"exclude_features\": \"age\", # \"none\", \"nationality\", \"sex\", \"nationality-sex\", \"age\"\n",
    "    \"exclude_subgroups\": \"keep-all\", # \"keep-all\", \"drop-non-german\"\n",
    "    \"eval_fairness_grouping\": [\"majority-minority\", \"nationality-all\"]\n",
    "}\n",
    "\n",
    "output_dir=\"./output\"\n",
    "seed=0"
   ]
  },
  {
   "cell_type": "code",
   "execution_count": 4,
   "id": "a0dfb14d",
   "metadata": {
    "execution": {
     "iopub.execute_input": "2025-07-30T14:20:24.415747Z",
     "iopub.status.busy": "2025-07-30T14:20:24.415235Z",
     "iopub.status.idle": "2025-07-30T14:20:24.420822Z",
     "shell.execute_reply": "2025-07-30T14:20:24.419866Z"
    },
    "papermill": {
     "duration": 0.029134,
     "end_time": "2025-07-30T14:20:24.422442",
     "exception": false,
     "start_time": "2025-07-30T14:20:24.393308",
     "status": "completed"
    },
    "tags": [
     "injected-parameters"
    ]
   },
   "outputs": [],
   "source": [
    "# Parameters\n",
    "universe_id = \"fb342841803b10b2bc2a9204520c4b57\"\n",
    "run_no = \"12\"\n",
    "universe = \"{\\\"cutoff\\\": [\\\"quantile_0.1\\\", \\\"quantile_0.25\\\"], \\\"eval_fairness_grouping\\\": [\\\"majority-minority\\\", \\\"nationality-all\\\"], \\\"exclude_features\\\": \\\"nationality-sex\\\", \\\"exclude_subgroups\\\": \\\"drop-non-german\\\", \\\"model\\\": \\\"penalized_logreg\\\", \\\"scale\\\": \\\"scale\\\", \\\"training_size\\\": \\\"1k\\\", \\\"training_year\\\": \\\"2014\\\"}\"\n",
    "output_dir = \"output\"\n",
    "seed = \"2023\"\n"
   ]
  },
  {
   "cell_type": "code",
   "execution_count": 5,
   "id": "1650acaf",
   "metadata": {
    "execution": {
     "iopub.execute_input": "2025-07-30T14:20:24.463506Z",
     "iopub.status.busy": "2025-07-30T14:20:24.463093Z",
     "iopub.status.idle": "2025-07-30T14:20:24.467933Z",
     "shell.execute_reply": "2025-07-30T14:20:24.467097Z"
    },
    "papermill": {
     "duration": 0.027558,
     "end_time": "2025-07-30T14:20:24.469528",
     "exception": false,
     "start_time": "2025-07-30T14:20:24.441970",
     "status": "completed"
    },
    "tags": []
   },
   "outputs": [],
   "source": [
    "import json\n",
    "# Parse universe into dict if it is passed as a string\n",
    "if isinstance(universe, str):\n",
    "    universe = json.loads(universe)"
   ]
  },
  {
   "cell_type": "code",
   "execution_count": 6,
   "id": "16620c48",
   "metadata": {
    "execution": {
     "iopub.execute_input": "2025-07-30T14:20:24.512768Z",
     "iopub.status.busy": "2025-07-30T14:20:24.512172Z",
     "iopub.status.idle": "2025-07-30T14:20:24.558677Z",
     "shell.execute_reply": "2025-07-30T14:20:24.557757Z"
    },
    "papermill": {
     "duration": 0.0709,
     "end_time": "2025-07-30T14:20:24.560381",
     "exception": false,
     "start_time": "2025-07-30T14:20:24.489481",
     "status": "completed"
    },
    "tags": []
   },
   "outputs": [],
   "source": [
    "# Auto-reload the custom package\n",
    "%load_ext autoreload\n",
    "%autoreload 1\n",
    "%aimport fairness_multiverse"
   ]
  },
  {
   "cell_type": "code",
   "execution_count": 7,
   "id": "01c5c9f3",
   "metadata": {
    "execution": {
     "iopub.execute_input": "2025-07-30T14:20:24.601600Z",
     "iopub.status.busy": "2025-07-30T14:20:24.600873Z",
     "iopub.status.idle": "2025-07-30T14:20:26.531378Z",
     "shell.execute_reply": "2025-07-30T14:20:26.530259Z"
    },
    "papermill": {
     "duration": 1.952841,
     "end_time": "2025-07-30T14:20:26.533472",
     "exception": false,
     "start_time": "2025-07-30T14:20:24.580631",
     "status": "completed"
    },
    "tags": []
   },
   "outputs": [],
   "source": [
    "from fairness_multiverse.universe import UniverseAnalysis\n",
    "\n",
    "universe_analysis = UniverseAnalysis(\n",
    "    run_no = run_no,\n",
    "    universe_id = universe_id,\n",
    "    universe = universe,\n",
    "    output_dir=output_dir,\n",
    ")"
   ]
  },
  {
   "cell_type": "code",
   "execution_count": 8,
   "id": "106241f5",
   "metadata": {
    "execution": {
     "iopub.execute_input": "2025-07-30T14:20:26.578383Z",
     "iopub.status.busy": "2025-07-30T14:20:26.577993Z",
     "iopub.status.idle": "2025-07-30T14:20:26.583179Z",
     "shell.execute_reply": "2025-07-30T14:20:26.582352Z"
    },
    "papermill": {
     "duration": 0.028991,
     "end_time": "2025-07-30T14:20:26.584824",
     "exception": false,
     "start_time": "2025-07-30T14:20:26.555833",
     "status": "completed"
    },
    "tags": []
   },
   "outputs": [
    {
     "name": "stdout",
     "output_type": "stream",
     "text": [
      "Using Seed: 2023\n"
     ]
    }
   ],
   "source": [
    "import numpy as np\n",
    "parsed_seed = int(seed)\n",
    "np.random.seed(parsed_seed)\n",
    "print(f\"Using Seed: {parsed_seed}\")"
   ]
  },
  {
   "cell_type": "markdown",
   "id": "e0ebdc57",
   "metadata": {
    "papermill": {
     "duration": 0.022412,
     "end_time": "2025-07-30T14:20:26.631101",
     "exception": false,
     "start_time": "2025-07-30T14:20:26.608689",
     "status": "completed"
    },
    "tags": []
   },
   "source": [
    "# Loading Data"
   ]
  },
  {
   "cell_type": "markdown",
   "id": "681925a3",
   "metadata": {
    "papermill": {
     "duration": 0.021873,
     "end_time": "2025-07-30T14:20:26.676684",
     "exception": false,
     "start_time": "2025-07-30T14:20:26.654811",
     "status": "completed"
    },
    "tags": []
   },
   "source": [
    "Load siab_train, siab_test, siab_calib and/or \n",
    "load siab_train_features, siab_train_labels"
   ]
  },
  {
   "cell_type": "code",
   "execution_count": 9,
   "id": "f0496b8a",
   "metadata": {
    "execution": {
     "iopub.execute_input": "2025-07-30T14:20:26.723680Z",
     "iopub.status.busy": "2025-07-30T14:20:26.723318Z",
     "iopub.status.idle": "2025-07-30T14:20:36.874963Z",
     "shell.execute_reply": "2025-07-30T14:20:36.873692Z"
    },
    "papermill": {
     "duration": 10.177396,
     "end_time": "2025-07-30T14:20:36.876778",
     "exception": false,
     "start_time": "2025-07-30T14:20:26.699382",
     "status": "completed"
    },
    "tags": []
   },
   "outputs": [
    {
     "name": "stdout",
     "output_type": "stream",
     "text": [
      "Loading SIAB data from cache: data/siab_cached.csv.gz\n"
     ]
    },
    {
     "name": "stdout",
     "output_type": "stream",
     "text": [
      "(643690, 164)\n"
     ]
    }
   ],
   "source": [
    "from pathlib import Path\n",
    "import pandas as pd\n",
    "\n",
    "# File paths\n",
    "raw_file = Path(\"data/raw/siab.csv\")\n",
    "cache_file = Path(\"data/siab_cached.csv.gz\")\n",
    "\n",
    "# Ensure cache directory exists\n",
    "cache_file.parent.mkdir(parents=True, exist_ok=True)\n",
    "\n",
    "# Load with simple caching\n",
    "if cache_file.exists():\n",
    "    print(f\"Loading SIAB data from cache: {cache_file}\")\n",
    "    siab = pd.read_csv(cache_file, compression='gzip')\n",
    "else:\n",
    "    print(f\"Cache not found. Reading raw SIAB data: {raw_file}\")\n",
    "    siab = pd.read_csv(raw_file)\n",
    "    siab.to_csv(cache_file, index=False, compression='gzip')\n",
    "    print(f\"Cached SIAB data to: {cache_file}\")\n",
    "\n",
    "# Now use `siab` DataFrame as needed\n",
    "print(siab.shape)"
   ]
  },
  {
   "cell_type": "code",
   "execution_count": 10,
   "id": "db0ca512-5f53-4dba-abdb-a2888bca41ba",
   "metadata": {
    "execution": {
     "iopub.execute_input": "2025-07-30T14:20:36.927605Z",
     "iopub.status.busy": "2025-07-30T14:20:36.926716Z",
     "iopub.status.idle": "2025-07-30T14:20:36.933883Z",
     "shell.execute_reply": "2025-07-30T14:20:36.932875Z"
    },
    "papermill": {
     "duration": 0.033478,
     "end_time": "2025-07-30T14:20:36.935771",
     "exception": false,
     "start_time": "2025-07-30T14:20:36.902293",
     "status": "completed"
    },
    "tags": []
   },
   "outputs": [],
   "source": [
    "#siab"
   ]
  },
  {
   "cell_type": "code",
   "execution_count": 11,
   "id": "a0edb063",
   "metadata": {
    "execution": {
     "iopub.execute_input": "2025-07-30T14:20:36.983887Z",
     "iopub.status.busy": "2025-07-30T14:20:36.982552Z",
     "iopub.status.idle": "2025-07-30T14:20:36.988578Z",
     "shell.execute_reply": "2025-07-30T14:20:36.987575Z"
    },
    "papermill": {
     "duration": 0.031177,
     "end_time": "2025-07-30T14:20:36.990269",
     "exception": false,
     "start_time": "2025-07-30T14:20:36.959092",
     "status": "completed"
    },
    "tags": []
   },
   "outputs": [],
   "source": [
    "#import pandas as pd\n",
    "#\n",
    "#X_train = pd.read_csv(\"./data/X_train.csv\")\n",
    "#y_train = pd.read_csv(\"./data/y_train.csv\")"
   ]
  },
  {
   "cell_type": "code",
   "execution_count": 12,
   "id": "63d08085",
   "metadata": {
    "execution": {
     "iopub.execute_input": "2025-07-30T14:20:37.037468Z",
     "iopub.status.busy": "2025-07-30T14:20:37.036605Z",
     "iopub.status.idle": "2025-07-30T14:20:37.041799Z",
     "shell.execute_reply": "2025-07-30T14:20:37.040796Z"
    },
    "papermill": {
     "duration": 0.030417,
     "end_time": "2025-07-30T14:20:37.043714",
     "exception": false,
     "start_time": "2025-07-30T14:20:37.013297",
     "status": "completed"
    },
    "tags": []
   },
   "outputs": [],
   "source": [
    "#X_test = pd.read_csv(\"./data/X_test.csv\")\n",
    "#y_true = pd.read_csv(\"./data/y_test.csv\")"
   ]
  },
  {
   "cell_type": "code",
   "execution_count": 13,
   "id": "98a8d0fa-1d3d-4ed8-bb2c-281470e24add",
   "metadata": {
    "execution": {
     "iopub.execute_input": "2025-07-30T14:20:37.091015Z",
     "iopub.status.busy": "2025-07-30T14:20:37.090277Z",
     "iopub.status.idle": "2025-07-30T14:20:37.095264Z",
     "shell.execute_reply": "2025-07-30T14:20:37.094191Z"
    },
    "papermill": {
     "duration": 0.030515,
     "end_time": "2025-07-30T14:20:37.097051",
     "exception": false,
     "start_time": "2025-07-30T14:20:37.066536",
     "status": "completed"
    },
    "tags": []
   },
   "outputs": [],
   "source": [
    "# Calibration data for conformal\n",
    "#X_calib = pd.read_csv(\"./data/X_calib.csv\")\n",
    "#y_calib = pd.read_csv(\"./data/y_calib.csv\")"
   ]
  },
  {
   "cell_type": "markdown",
   "id": "997051c5-15bd-4b69-9786-c3001a3ce484",
   "metadata": {
    "papermill": {
     "duration": 0.022176,
     "end_time": "2025-07-30T14:20:37.142003",
     "exception": false,
     "start_time": "2025-07-30T14:20:37.119827",
     "status": "completed"
    },
    "tags": []
   },
   "source": [
    "# Splitting Data and Setting Training Data Size"
   ]
  },
  {
   "cell_type": "code",
   "execution_count": 14,
   "id": "e993b61f-042d-41a6-8c81-f55681f86335",
   "metadata": {
    "execution": {
     "iopub.execute_input": "2025-07-30T14:20:37.189105Z",
     "iopub.status.busy": "2025-07-30T14:20:37.188189Z",
     "iopub.status.idle": "2025-07-30T14:20:37.202342Z",
     "shell.execute_reply": "2025-07-30T14:20:37.201413Z"
    },
    "papermill": {
     "duration": 0.039191,
     "end_time": "2025-07-30T14:20:37.203882",
     "exception": false,
     "start_time": "2025-07-30T14:20:37.164691",
     "status": "completed"
    },
    "tags": []
   },
   "outputs": [],
   "source": [
    "def sample_by_year_size(df,\n",
    "                        training_year: str,\n",
    "                        training_size: str,\n",
    "                        random_state: int = 42):\n",
    "    # --- parse training_year into a list of int years ---\n",
    "    if \"_\" in training_year:\n",
    "        start_str, end_str = training_year.split(\"_\", 1)\n",
    "        start = int(start_str)\n",
    "        end   = int(end_str) if len(end_str) == 4 else (int(end_str) + (start // 100)*100)\n",
    "        years = list(range(start, end + 1))\n",
    "    else:\n",
    "        years = [int(training_year)]\n",
    "\n",
    "    df = df[df[\"year\"].isin(years)].reset_index(drop=True)\n",
    "\n",
    "    # --- map training_size to total number of samples ---\n",
    "    total_map = {\"25k\": 25_000, \"5k\": 5_000, \"1k\": 1_000}\n",
    "    if training_size not in total_map:\n",
    "        return df  # e.g. \"all\"\n",
    "\n",
    "    total_samples = total_map[training_size]\n",
    "    n_years       = len(years)\n",
    "    base          = total_samples // n_years\n",
    "    remainder     = total_samples % n_years\n",
    "\n",
    "    # --- build a dict: year -> how many to sample ---\n",
    "    # give +1 to the first `remainder` years in ascending order\n",
    "    quotas = {\n",
    "        year: base + (1 if idx < remainder else 0)\n",
    "        for idx, year in enumerate(sorted(years))\n",
    "    }\n",
    "\n",
    "    # --- sample per‐year according to the quota dict ---\n",
    "    sampled = (\n",
    "        df\n",
    "        .groupby(\"year\", group_keys=False)\n",
    "        .apply(lambda grp: grp.sample(\n",
    "            n=min(len(grp), quotas[grp.name]),\n",
    "            random_state=random_state))\n",
    "        .reset_index(drop=True)\n",
    "    )\n",
    "\n",
    "    return sampled"
   ]
  },
  {
   "cell_type": "code",
   "execution_count": 15,
   "id": "c0ccd338-0e02-41f3-a09d-f56f9266e3fb",
   "metadata": {
    "execution": {
     "iopub.execute_input": "2025-07-30T14:20:37.247173Z",
     "iopub.status.busy": "2025-07-30T14:20:37.246500Z",
     "iopub.status.idle": "2025-07-30T14:20:37.258808Z",
     "shell.execute_reply": "2025-07-30T14:20:37.257811Z"
    },
    "papermill": {
     "duration": 0.035474,
     "end_time": "2025-07-30T14:20:37.260507",
     "exception": false,
     "start_time": "2025-07-30T14:20:37.225033",
     "status": "completed"
    },
    "tags": []
   },
   "outputs": [
    {
     "data": {
      "text/plain": [
       "'1k'"
      ]
     },
     "execution_count": 15,
     "metadata": {},
     "output_type": "execute_result"
    }
   ],
   "source": [
    "universe[\"training_size\"]"
   ]
  },
  {
   "cell_type": "code",
   "execution_count": 16,
   "id": "ca707fd7-8047-4acd-bfa5-66248fbbf8e6",
   "metadata": {
    "execution": {
     "iopub.execute_input": "2025-07-30T14:20:37.304877Z",
     "iopub.status.busy": "2025-07-30T14:20:37.303918Z",
     "iopub.status.idle": "2025-07-30T14:20:37.311609Z",
     "shell.execute_reply": "2025-07-30T14:20:37.310640Z"
    },
    "papermill": {
     "duration": 0.030589,
     "end_time": "2025-07-30T14:20:37.313065",
     "exception": false,
     "start_time": "2025-07-30T14:20:37.282476",
     "status": "completed"
    },
    "tags": []
   },
   "outputs": [
    {
     "data": {
      "text/plain": [
       "'2014'"
      ]
     },
     "execution_count": 16,
     "metadata": {},
     "output_type": "execute_result"
    }
   ],
   "source": [
    "universe[\"training_year\"]"
   ]
  },
  {
   "cell_type": "code",
   "execution_count": 17,
   "id": "aea9c6ef-6f46-42c8-85eb-5a62025c1508",
   "metadata": {
    "execution": {
     "iopub.execute_input": "2025-07-30T14:20:37.350140Z",
     "iopub.status.busy": "2025-07-30T14:20:37.349754Z",
     "iopub.status.idle": "2025-07-30T14:20:37.604945Z",
     "shell.execute_reply": "2025-07-30T14:20:37.603994Z"
    },
    "papermill": {
     "duration": 0.273757,
     "end_time": "2025-07-30T14:20:37.607068",
     "exception": false,
     "start_time": "2025-07-30T14:20:37.333311",
     "status": "completed"
    },
    "tags": []
   },
   "outputs": [],
   "source": [
    "siab_train = sample_by_year_size(siab,\n",
    "                               training_year=universe[\"training_year\"],\n",
    "                               training_size=universe[\"training_size\"])"
   ]
  },
  {
   "cell_type": "code",
   "execution_count": 18,
   "id": "8d3afb32-789d-442c-8d5d-9f5aa8dd2eed",
   "metadata": {
    "execution": {
     "iopub.execute_input": "2025-07-30T14:20:37.652898Z",
     "iopub.status.busy": "2025-07-30T14:20:37.651913Z",
     "iopub.status.idle": "2025-07-30T14:20:37.659156Z",
     "shell.execute_reply": "2025-07-30T14:20:37.658245Z"
    },
    "papermill": {
     "duration": 0.03166,
     "end_time": "2025-07-30T14:20:37.660811",
     "exception": false,
     "start_time": "2025-07-30T14:20:37.629151",
     "status": "completed"
    },
    "tags": []
   },
   "outputs": [
    {
     "data": {
      "text/plain": [
       "(1000, 164)"
      ]
     },
     "execution_count": 18,
     "metadata": {},
     "output_type": "execute_result"
    }
   ],
   "source": [
    "siab_train.shape"
   ]
  },
  {
   "cell_type": "code",
   "execution_count": 19,
   "id": "d582db68-1a4c-47fb-84fc-08518dc1975a",
   "metadata": {
    "execution": {
     "iopub.execute_input": "2025-07-30T14:20:37.696912Z",
     "iopub.status.busy": "2025-07-30T14:20:37.696537Z",
     "iopub.status.idle": "2025-07-30T14:20:37.704628Z",
     "shell.execute_reply": "2025-07-30T14:20:37.703743Z"
    },
    "papermill": {
     "duration": 0.024099,
     "end_time": "2025-07-30T14:20:37.706295",
     "exception": false,
     "start_time": "2025-07-30T14:20:37.682196",
     "status": "completed"
    },
    "tags": []
   },
   "outputs": [
    {
     "data": {
      "text/plain": [
       "year\n",
       "2014    1000\n",
       "dtype: int64"
      ]
     },
     "metadata": {},
     "output_type": "display_data"
    }
   ],
   "source": [
    "display(siab_train.groupby(\"year\").size())"
   ]
  },
  {
   "cell_type": "code",
   "execution_count": 20,
   "id": "a561edb4-d032-42cb-8256-22eac1111c64",
   "metadata": {
    "execution": {
     "iopub.execute_input": "2025-07-30T14:20:37.752085Z",
     "iopub.status.busy": "2025-07-30T14:20:37.751561Z",
     "iopub.status.idle": "2025-07-30T14:20:37.999995Z",
     "shell.execute_reply": "2025-07-30T14:20:37.999069Z"
    },
    "papermill": {
     "duration": 0.273188,
     "end_time": "2025-07-30T14:20:38.002022",
     "exception": false,
     "start_time": "2025-07-30T14:20:37.728834",
     "status": "completed"
    },
    "tags": []
   },
   "outputs": [],
   "source": [
    "#siab_train = siab_s[siab_s.year < 2015]\n",
    "siab_calib = siab[siab.year == 2015]\n",
    "siab_test = siab[siab.year == 2016]"
   ]
  },
  {
   "cell_type": "code",
   "execution_count": 21,
   "id": "472de16f-c3db-4916-846b-1f0de9cf1746",
   "metadata": {
    "execution": {
     "iopub.execute_input": "2025-07-30T14:20:38.048436Z",
     "iopub.status.busy": "2025-07-30T14:20:38.047444Z",
     "iopub.status.idle": "2025-07-30T14:20:38.054583Z",
     "shell.execute_reply": "2025-07-30T14:20:38.053656Z"
    },
    "papermill": {
     "duration": 0.031749,
     "end_time": "2025-07-30T14:20:38.056470",
     "exception": false,
     "start_time": "2025-07-30T14:20:38.024721",
     "status": "completed"
    },
    "tags": []
   },
   "outputs": [],
   "source": [
    "X_train = siab_train.iloc[:,4:164]\n",
    "y_train = siab_train.iloc[:, [3]]"
   ]
  },
  {
   "cell_type": "code",
   "execution_count": 22,
   "id": "828c96af-f43a-4ed6-ba47-8ac73a47d56c",
   "metadata": {
    "execution": {
     "iopub.execute_input": "2025-07-30T14:20:38.103757Z",
     "iopub.status.busy": "2025-07-30T14:20:38.102816Z",
     "iopub.status.idle": "2025-07-30T14:20:38.152553Z",
     "shell.execute_reply": "2025-07-30T14:20:38.151517Z"
    },
    "papermill": {
     "duration": 0.074931,
     "end_time": "2025-07-30T14:20:38.154574",
     "exception": false,
     "start_time": "2025-07-30T14:20:38.079643",
     "status": "completed"
    },
    "tags": []
   },
   "outputs": [],
   "source": [
    "X_calib = siab_calib.iloc[:,4:164]\n",
    "y_calib = siab_calib.iloc[:, [3]]"
   ]
  },
  {
   "cell_type": "code",
   "execution_count": 23,
   "id": "c34be9c3-6bd6-476e-acd3-845840e303be",
   "metadata": {
    "execution": {
     "iopub.execute_input": "2025-07-30T14:20:38.202460Z",
     "iopub.status.busy": "2025-07-30T14:20:38.201811Z",
     "iopub.status.idle": "2025-07-30T14:20:38.254077Z",
     "shell.execute_reply": "2025-07-30T14:20:38.252975Z"
    },
    "papermill": {
     "duration": 0.07771,
     "end_time": "2025-07-30T14:20:38.255628",
     "exception": false,
     "start_time": "2025-07-30T14:20:38.177918",
     "status": "completed"
    },
    "tags": []
   },
   "outputs": [],
   "source": [
    "X_test = siab_test.iloc[:,4:164]\n",
    "y_true = siab_test.iloc[:, [3]]"
   ]
  },
  {
   "cell_type": "markdown",
   "id": "9901737e-04df-44f0-9100-f5ad144ed040",
   "metadata": {
    "papermill": {
     "duration": 0.022435,
     "end_time": "2025-07-30T14:20:38.299597",
     "exception": false,
     "start_time": "2025-07-30T14:20:38.277162",
     "status": "completed"
    },
    "tags": []
   },
   "source": [
    "# Splitting Data and Setting Training Data Size OLD VERSION"
   ]
  },
  {
   "cell_type": "code",
   "execution_count": 24,
   "id": "acbc8f7d-8fc8-4e86-8c59-5dcb0f58384b",
   "metadata": {
    "execution": {
     "iopub.execute_input": "2025-07-30T14:20:38.344129Z",
     "iopub.status.busy": "2025-07-30T14:20:38.343133Z",
     "iopub.status.idle": "2025-07-30T14:20:38.348922Z",
     "shell.execute_reply": "2025-07-30T14:20:38.347912Z"
    },
    "papermill": {
     "duration": 0.029586,
     "end_time": "2025-07-30T14:20:38.350627",
     "exception": false,
     "start_time": "2025-07-30T14:20:38.321041",
     "status": "completed"
    },
    "tags": []
   },
   "outputs": [],
   "source": [
    "#def sample_by_year(df, training_size, random_state=42):\n",
    "#    if training_size == \"2014\":\n",
    "#        return df[df[\"year\"] == 2014].reset_index(drop=True)\n",
    "#    \n",
    "#    size_map = {\n",
    "#        \"25k\": 5000,\n",
    "#        \"5k\": 1000,\n",
    "#        \"1k\": 200\n",
    "#    }\n",
    "#\n",
    "#    if training_size not in size_map:\n",
    "#        return df.reset_index(drop=True)  # use all data\n",
    "#\n",
    "#    n_per_year = size_map[training_size]\n",
    "#    grouped = df.groupby(\"year\")\n",
    "#    sampled = grouped.apply(lambda x: x.sample(n=min(n_per_year, len(x)), random_state=random_state))\n",
    "#    return sampled.reset_index(drop=True)"
   ]
  },
  {
   "cell_type": "code",
   "execution_count": 25,
   "id": "6d931f52-beaf-43ff-9e78-9d44a448d54e",
   "metadata": {
    "execution": {
     "iopub.execute_input": "2025-07-30T14:20:38.396941Z",
     "iopub.status.busy": "2025-07-30T14:20:38.396214Z",
     "iopub.status.idle": "2025-07-30T14:20:38.401480Z",
     "shell.execute_reply": "2025-07-30T14:20:38.400492Z"
    },
    "papermill": {
     "duration": 0.029451,
     "end_time": "2025-07-30T14:20:38.403161",
     "exception": false,
     "start_time": "2025-07-30T14:20:38.373710",
     "status": "completed"
    },
    "tags": []
   },
   "outputs": [],
   "source": [
    "#siab_s = sample_by_year(siab, universe[\"training_size\"])"
   ]
  },
  {
   "cell_type": "code",
   "execution_count": 26,
   "id": "5db0a40e-a4e2-4920-be85-b12ae061d70d",
   "metadata": {
    "execution": {
     "iopub.execute_input": "2025-07-30T14:20:38.448456Z",
     "iopub.status.busy": "2025-07-30T14:20:38.447767Z",
     "iopub.status.idle": "2025-07-30T14:20:38.452770Z",
     "shell.execute_reply": "2025-07-30T14:20:38.451851Z"
    },
    "papermill": {
     "duration": 0.029488,
     "end_time": "2025-07-30T14:20:38.454392",
     "exception": false,
     "start_time": "2025-07-30T14:20:38.424904",
     "status": "completed"
    },
    "tags": []
   },
   "outputs": [],
   "source": [
    "#display(siab_s.groupby(\"year\").size())"
   ]
  },
  {
   "cell_type": "code",
   "execution_count": 27,
   "id": "e6c733c5",
   "metadata": {
    "execution": {
     "iopub.execute_input": "2025-07-30T14:20:38.503657Z",
     "iopub.status.busy": "2025-07-30T14:20:38.502979Z",
     "iopub.status.idle": "2025-07-30T14:20:38.593920Z",
     "shell.execute_reply": "2025-07-30T14:20:38.592849Z"
    },
    "papermill": {
     "duration": 0.118323,
     "end_time": "2025-07-30T14:20:38.595691",
     "exception": false,
     "start_time": "2025-07-30T14:20:38.477368",
     "status": "completed"
    },
    "tags": []
   },
   "outputs": [],
   "source": [
    "# Auxiliary data needed downstream in the pipeline\n",
    "\n",
    "org_train = X_train.copy()\n",
    "org_test = X_test.copy()\n",
    "org_calib = X_calib.copy()"
   ]
  },
  {
   "cell_type": "code",
   "execution_count": 28,
   "id": "1466abac-c6da-4492-a62f-4240ae3783af",
   "metadata": {
    "execution": {
     "iopub.execute_input": "2025-07-30T14:20:38.643882Z",
     "iopub.status.busy": "2025-07-30T14:20:38.643228Z",
     "iopub.status.idle": "2025-07-30T14:20:38.649650Z",
     "shell.execute_reply": "2025-07-30T14:20:38.648564Z"
    },
    "papermill": {
     "duration": 0.032701,
     "end_time": "2025-07-30T14:20:38.651205",
     "exception": false,
     "start_time": "2025-07-30T14:20:38.618504",
     "status": "completed"
    },
    "tags": []
   },
   "outputs": [],
   "source": [
    "# put in other script?\n",
    "# Group sizes\n",
    "\n",
    "#def calculate_percentages(df, df_name):\n",
    "#    total_entries = len(df)\n",
    "#\n",
    "#    female_pct = (df['frau1'] == 1).mean() * 100\n",
    "#    non_german_pct = ((df['maxdeutsch1'] == 0) & (df['maxdeutsch.Missing.'] == 0)).mean() * 100\n",
    "#    non_german_male_pct = ((df['frau1'] == 0) & (df['maxdeutsch1'] == 0) & (df['maxdeutsch.Missing.'] == 0)).mean() * 100\n",
    "#    non_german_female_pct = ((df['frau1'] == 1) & (df['maxdeutsch1'] == 0) & (df['maxdeutsch.Missing.'] == 0)).mean() * 100\n",
    "#\n",
    "#    print(f\"--- {df_name} ---\")\n",
    "#    print(f\"Female: {female_pct:.2f}%\")\n",
    "#    print(f\"Non-German: {non_german_pct:.2f}%\")\n",
    "#    print(f\"Non-German Male: {non_german_male_pct:.2f}%\")\n",
    "#    print(f\"Non-German Female: {non_german_female_pct:.2f}%\\n\")\n",
    "#\n",
    "## Calculate for each DataFrame\n",
    "#calculate_percentages(siab_calib, \"siab_calib\")\n",
    "#calculate_percentages(siab_test, \"siab_test\")\n",
    "#calculate_percentages(siab_train, \"siab_train\")"
   ]
  },
  {
   "cell_type": "markdown",
   "id": "0a4a1b33",
   "metadata": {
    "papermill": {
     "duration": 0.023349,
     "end_time": "2025-07-30T14:20:38.697393",
     "exception": false,
     "start_time": "2025-07-30T14:20:38.674044",
     "status": "completed"
    },
    "tags": []
   },
   "source": [
    "# Preprocessing Data"
   ]
  },
  {
   "cell_type": "code",
   "execution_count": 29,
   "id": "ca879031",
   "metadata": {
    "execution": {
     "iopub.execute_input": "2025-07-30T14:20:38.749006Z",
     "iopub.status.busy": "2025-07-30T14:20:38.748306Z",
     "iopub.status.idle": "2025-07-30T14:20:38.754683Z",
     "shell.execute_reply": "2025-07-30T14:20:38.753634Z"
    },
    "papermill": {
     "duration": 0.031748,
     "end_time": "2025-07-30T14:20:38.756451",
     "exception": false,
     "start_time": "2025-07-30T14:20:38.724703",
     "status": "completed"
    },
    "tags": []
   },
   "outputs": [],
   "source": [
    "# EXCLUDE PROTECTED FEATURES\n",
    "# ----------------------\n",
    "# \"exclude_features\": \"none\", # \"nationality\", \"sex\", \"nationality-sex\"\n",
    "\n",
    "excluded_features = universe[\"exclude_features\"].split(\"-\") # split, e.g.: \"nationality-sex\" -> [\"nationality\", \"sex\"]\n",
    "excluded_features_dictionary = {\n",
    "    \"nationality\": [\"maxdeutsch1\", \"maxdeutsch.Missing.\"],\n",
    "    \"sex\": [\"frau1\"],\n",
    "    \"age\": [\"age\"],\n",
    "}\n"
   ]
  },
  {
   "cell_type": "code",
   "execution_count": 30,
   "id": "b745ac60",
   "metadata": {
    "execution": {
     "iopub.execute_input": "2025-07-30T14:20:38.805463Z",
     "iopub.status.busy": "2025-07-30T14:20:38.804775Z",
     "iopub.status.idle": "2025-07-30T14:20:38.810409Z",
     "shell.execute_reply": "2025-07-30T14:20:38.809599Z"
    },
    "papermill": {
     "duration": 0.031318,
     "end_time": "2025-07-30T14:20:38.811963",
     "exception": false,
     "start_time": "2025-07-30T14:20:38.780645",
     "status": "completed"
    },
    "tags": []
   },
   "outputs": [],
   "source": [
    "# Code nice names to column names\n",
    "\n",
    "excluded_features_columns = [\n",
    "    excluded_features_dictionary[f] for f in excluded_features if len(f) > 0 and f != \"none\"\n",
    "]"
   ]
  },
  {
   "cell_type": "code",
   "execution_count": 31,
   "id": "f84f73a2",
   "metadata": {
    "execution": {
     "iopub.execute_input": "2025-07-30T14:20:38.861222Z",
     "iopub.status.busy": "2025-07-30T14:20:38.860571Z",
     "iopub.status.idle": "2025-07-30T14:20:38.867543Z",
     "shell.execute_reply": "2025-07-30T14:20:38.866752Z"
    },
    "papermill": {
     "duration": 0.033229,
     "end_time": "2025-07-30T14:20:38.869241",
     "exception": false,
     "start_time": "2025-07-30T14:20:38.836012",
     "status": "completed"
    },
    "tags": []
   },
   "outputs": [],
   "source": [
    "from utils import flatten_once\n",
    "\n",
    "excluded_features_columns = flatten_once(excluded_features_columns)"
   ]
  },
  {
   "cell_type": "code",
   "execution_count": 32,
   "id": "884dea22",
   "metadata": {
    "execution": {
     "iopub.execute_input": "2025-07-30T14:20:38.917521Z",
     "iopub.status.busy": "2025-07-30T14:20:38.916846Z",
     "iopub.status.idle": "2025-07-30T14:20:38.925005Z",
     "shell.execute_reply": "2025-07-30T14:20:38.923915Z"
    },
    "papermill": {
     "duration": 0.034441,
     "end_time": "2025-07-30T14:20:38.926466",
     "exception": false,
     "start_time": "2025-07-30T14:20:38.892025",
     "status": "completed"
    },
    "tags": []
   },
   "outputs": [
    {
     "name": "stdout",
     "output_type": "stream",
     "text": [
      "Dropping features: ['maxdeutsch1', 'maxdeutsch.Missing.', 'frau1']\n"
     ]
    }
   ],
   "source": [
    "if len(excluded_features_columns) > 0:\n",
    "    print(f\"Dropping features: {excluded_features_columns}\")\n",
    "    X_train.drop(excluded_features_columns, axis=1, inplace=True)"
   ]
  },
  {
   "cell_type": "code",
   "execution_count": 33,
   "id": "95ab8b16",
   "metadata": {
    "execution": {
     "iopub.execute_input": "2025-07-30T14:20:38.974277Z",
     "iopub.status.busy": "2025-07-30T14:20:38.973607Z",
     "iopub.status.idle": "2025-07-30T14:20:39.024530Z",
     "shell.execute_reply": "2025-07-30T14:20:39.023434Z"
    },
    "papermill": {
     "duration": 0.077008,
     "end_time": "2025-07-30T14:20:39.026224",
     "exception": false,
     "start_time": "2025-07-30T14:20:38.949216",
     "status": "completed"
    },
    "tags": []
   },
   "outputs": [
    {
     "name": "stdout",
     "output_type": "stream",
     "text": [
      "Dropping features: ['maxdeutsch1', 'maxdeutsch.Missing.', 'frau1']\n"
     ]
    }
   ],
   "source": [
    "if len(excluded_features_columns) > 0:\n",
    "    print(f\"Dropping features: {excluded_features_columns}\")\n",
    "    X_test.drop(excluded_features_columns, axis=1, inplace=True)"
   ]
  },
  {
   "cell_type": "code",
   "execution_count": 34,
   "id": "1853aaf5-fb9f-46cb-a2b5-8ea4ae2237e4",
   "metadata": {
    "execution": {
     "iopub.execute_input": "2025-07-30T14:20:39.074527Z",
     "iopub.status.busy": "2025-07-30T14:20:39.073830Z",
     "iopub.status.idle": "2025-07-30T14:20:39.125443Z",
     "shell.execute_reply": "2025-07-30T14:20:39.124336Z"
    },
    "papermill": {
     "duration": 0.077043,
     "end_time": "2025-07-30T14:20:39.127170",
     "exception": false,
     "start_time": "2025-07-30T14:20:39.050127",
     "status": "completed"
    },
    "tags": []
   },
   "outputs": [
    {
     "name": "stdout",
     "output_type": "stream",
     "text": [
      "Dropping features: ['maxdeutsch1', 'maxdeutsch.Missing.', 'frau1']\n"
     ]
    }
   ],
   "source": [
    "if len(excluded_features_columns) > 0:\n",
    "    print(f\"Dropping features: {excluded_features_columns}\")\n",
    "    X_calib.drop(excluded_features_columns, axis=1, inplace=True)"
   ]
  },
  {
   "cell_type": "code",
   "execution_count": 35,
   "id": "6727d079-03e5-481e-9d38-292a90b7a0a8",
   "metadata": {
    "execution": {
     "iopub.execute_input": "2025-07-30T14:20:39.174327Z",
     "iopub.status.busy": "2025-07-30T14:20:39.173683Z",
     "iopub.status.idle": "2025-07-30T14:20:39.178553Z",
     "shell.execute_reply": "2025-07-30T14:20:39.177640Z"
    },
    "papermill": {
     "duration": 0.029671,
     "end_time": "2025-07-30T14:20:39.180257",
     "exception": false,
     "start_time": "2025-07-30T14:20:39.150586",
     "status": "completed"
    },
    "tags": []
   },
   "outputs": [],
   "source": [
    "# SPLIT & STRATIFY DATA\n",
    "# ----------------------"
   ]
  },
  {
   "cell_type": "code",
   "execution_count": 36,
   "id": "76c4dc6d",
   "metadata": {
    "execution": {
     "iopub.execute_input": "2025-07-30T14:20:39.228371Z",
     "iopub.status.busy": "2025-07-30T14:20:39.227669Z",
     "iopub.status.idle": "2025-07-30T14:20:39.233101Z",
     "shell.execute_reply": "2025-07-30T14:20:39.232123Z"
    },
    "papermill": {
     "duration": 0.030853,
     "end_time": "2025-07-30T14:20:39.234632",
     "exception": false,
     "start_time": "2025-07-30T14:20:39.203779",
     "status": "completed"
    },
    "tags": []
   },
   "outputs": [],
   "source": [
    "# EXCLUDE CERTAIN SUBGROUPS\n",
    "# ----------------------\n",
    "\n",
    "mode = universe.get(\"exclude_subgroups\", \"keep-all\") \n",
    "# Fetches the exclude_subgroups setting from the universe dict.\n",
    "# Defaults to \"keep-all\" if the key is missing."
   ]
  },
  {
   "cell_type": "code",
   "execution_count": 37,
   "id": "21994072",
   "metadata": {
    "execution": {
     "iopub.execute_input": "2025-07-30T14:20:39.282500Z",
     "iopub.status.busy": "2025-07-30T14:20:39.281679Z",
     "iopub.status.idle": "2025-07-30T14:20:39.288892Z",
     "shell.execute_reply": "2025-07-30T14:20:39.287915Z"
    },
    "papermill": {
     "duration": 0.03325,
     "end_time": "2025-07-30T14:20:39.290438",
     "exception": false,
     "start_time": "2025-07-30T14:20:39.257188",
     "status": "completed"
    },
    "tags": []
   },
   "outputs": [],
   "source": [
    "if mode == \"keep-all\":\n",
    "    keep_mask = pd.Series(True, index=org_train.index)\n",
    "\n",
    "# org_train contains the original feature columns from features_org (in Simson)\n",
    "# features_org contains unprocessed features, for me X_train at beginning ???\n",
    "# For keep-all, creates a boolean Series (keep_mask) of all True, so no rows are removed.\n",
    "\n",
    "elif mode == \"drop-non-german\":\n",
    "    keep_mask = org_train[\"maxdeutsch1\"] == 1 # ??? what about missing values?\n",
    "\n",
    "else:\n",
    "    raise ValueError(f\"Unsupported mode for exclude_subgroups: {mode}\")\n"
   ]
  },
  {
   "cell_type": "code",
   "execution_count": 38,
   "id": "71651440",
   "metadata": {
    "execution": {
     "iopub.execute_input": "2025-07-30T14:20:39.338922Z",
     "iopub.status.busy": "2025-07-30T14:20:39.337864Z",
     "iopub.status.idle": "2025-07-30T14:20:39.345151Z",
     "shell.execute_reply": "2025-07-30T14:20:39.344269Z"
    },
    "papermill": {
     "duration": 0.033199,
     "end_time": "2025-07-30T14:20:39.346595",
     "exception": false,
     "start_time": "2025-07-30T14:20:39.313396",
     "status": "completed"
    },
    "tags": []
   },
   "outputs": [
    {
     "name": "stdout",
     "output_type": "stream",
     "text": [
      "Dropping 147 rows (14.70%) where mode='drop-non-german'\n"
     ]
    }
   ],
   "source": [
    "n_drop = (~keep_mask).sum() # Calculates how many rows are set to be dropped\n",
    "if n_drop > 0:\n",
    "    pct = n_drop / len(keep_mask) * 100\n",
    "    print(f\"Dropping {n_drop} rows ({pct:.2f}%) where mode='{mode}'\")"
   ]
  },
  {
   "cell_type": "code",
   "execution_count": 39,
   "id": "5fb8eee5",
   "metadata": {
    "execution": {
     "iopub.execute_input": "2025-07-30T14:20:39.393940Z",
     "iopub.status.busy": "2025-07-30T14:20:39.393044Z",
     "iopub.status.idle": "2025-07-30T14:20:39.399646Z",
     "shell.execute_reply": "2025-07-30T14:20:39.398617Z"
    },
    "papermill": {
     "duration": 0.032316,
     "end_time": "2025-07-30T14:20:39.401670",
     "exception": false,
     "start_time": "2025-07-30T14:20:39.369354",
     "status": "completed"
    },
    "tags": []
   },
   "outputs": [],
   "source": [
    "X_train = X_train[keep_mask]"
   ]
  },
  {
   "cell_type": "code",
   "execution_count": 40,
   "id": "b202bb3a",
   "metadata": {
    "execution": {
     "iopub.execute_input": "2025-07-30T14:20:39.450743Z",
     "iopub.status.busy": "2025-07-30T14:20:39.450287Z",
     "iopub.status.idle": "2025-07-30T14:20:39.456313Z",
     "shell.execute_reply": "2025-07-30T14:20:39.455315Z"
    },
    "papermill": {
     "duration": 0.031326,
     "end_time": "2025-07-30T14:20:39.457915",
     "exception": false,
     "start_time": "2025-07-30T14:20:39.426589",
     "status": "completed"
    },
    "tags": []
   },
   "outputs": [],
   "source": [
    "y_train = y_train[keep_mask]"
   ]
  },
  {
   "cell_type": "markdown",
   "id": "493e2ac3",
   "metadata": {
    "papermill": {
     "duration": 0.023419,
     "end_time": "2025-07-30T14:20:39.504957",
     "exception": false,
     "start_time": "2025-07-30T14:20:39.481538",
     "status": "completed"
    },
    "tags": []
   },
   "source": [
    "# Model Training"
   ]
  },
  {
   "cell_type": "code",
   "execution_count": 41,
   "id": "679e1268",
   "metadata": {
    "execution": {
     "iopub.execute_input": "2025-07-30T14:20:39.552849Z",
     "iopub.status.busy": "2025-07-30T14:20:39.552363Z",
     "iopub.status.idle": "2025-07-30T14:20:39.658379Z",
     "shell.execute_reply": "2025-07-30T14:20:39.657482Z"
    },
    "papermill": {
     "duration": 0.133086,
     "end_time": "2025-07-30T14:20:39.660240",
     "exception": false,
     "start_time": "2025-07-30T14:20:39.527154",
     "status": "completed"
    },
    "tags": []
   },
   "outputs": [],
   "source": [
    "from sklearn.linear_model import LogisticRegression\n",
    "from sklearn.ensemble import GradientBoostingClassifier, RandomForestClassifier\n",
    "\n",
    "if (universe[\"model\"] == \"logreg\"):\n",
    "    model = LogisticRegression() #penalty=\"none\") #, solver=\"newton-cg\", max_iter=1) # include random_state=19 ?\n",
    "elif (universe[\"model\"] == \"penalized_logreg\"):\n",
    "    model = LogisticRegression(penalty=\"l2\", C=1.0) #, solver=\"newton-cg\", max_iter=1)\n",
    "elif (universe[\"model\"] == \"rf\"):\n",
    "    model = RandomForestClassifier(n_estimators=100, n_jobs=-1)\n",
    "elif (universe[\"model\"] == \"gbm\"):\n",
    "    model = GradientBoostingClassifier()\n",
    "elif (universe[\"model\"] == \"elasticnet\"):\n",
    "    model = LogisticRegression(penalty = 'elasticnet', solver = 'saga', l1_ratio = 0.5, max_iter=5000) # which solver to use?\n",
    "else:\n",
    "    raise \"Unsupported universe.model\""
   ]
  },
  {
   "cell_type": "code",
   "execution_count": 42,
   "id": "0cc8f744",
   "metadata": {
    "execution": {
     "iopub.execute_input": "2025-07-30T14:20:39.708556Z",
     "iopub.status.busy": "2025-07-30T14:20:39.707631Z",
     "iopub.status.idle": "2025-07-30T14:20:39.714857Z",
     "shell.execute_reply": "2025-07-30T14:20:39.713778Z"
    },
    "papermill": {
     "duration": 0.033148,
     "end_time": "2025-07-30T14:20:39.716606",
     "exception": false,
     "start_time": "2025-07-30T14:20:39.683458",
     "status": "completed"
    },
    "tags": []
   },
   "outputs": [],
   "source": [
    "import numpy as np\n",
    "from sklearn.pipeline import Pipeline\n",
    "from sklearn.preprocessing import StandardScaler\n",
    "\n",
    "model = Pipeline([\n",
    "    #(\"continuous_processor\", continuous_processor),\n",
    "    #(\"categorical_preprocessor\", categorical_preprocessor),\n",
    "    (\"scale\", StandardScaler() if universe[\"scale\"] == \"scale\" else None), \n",
    "    (\"model\", model),\n",
    "])"
   ]
  },
  {
   "cell_type": "code",
   "execution_count": 43,
   "id": "9442c04d",
   "metadata": {
    "execution": {
     "iopub.execute_input": "2025-07-30T14:20:39.766565Z",
     "iopub.status.busy": "2025-07-30T14:20:39.766073Z",
     "iopub.status.idle": "2025-07-30T14:20:39.835323Z",
     "shell.execute_reply": "2025-07-30T14:20:39.834340Z"
    },
    "papermill": {
     "duration": 0.094538,
     "end_time": "2025-07-30T14:20:39.836881",
     "exception": false,
     "start_time": "2025-07-30T14:20:39.742343",
     "status": "completed"
    },
    "tags": []
   },
   "outputs": [
    {
     "name": "stderr",
     "output_type": "stream",
     "text": [
      "/dss/dsshome1/0C/ra93lal2/.local/share/virtualenvs/CMA_Fairness_v2-3j10GkSs/lib/python3.10/site-packages/sklearn/linear_model/_logistic.py:444: ConvergenceWarning: lbfgs failed to converge (status=1):\n",
      "STOP: TOTAL NO. of ITERATIONS REACHED LIMIT.\n",
      "\n",
      "Increase the number of iterations (max_iter) or scale the data as shown in:\n",
      "    https://scikit-learn.org/stable/modules/preprocessing.html\n",
      "Please also refer to the documentation for alternative solver options:\n",
      "    https://scikit-learn.org/stable/modules/linear_model.html#logistic-regression\n",
      "  n_iter_i = _check_optimize_result(\n"
     ]
    },
    {
     "data": {
      "text/html": [
       "<style>#sk-container-id-1 {color: black;background-color: white;}#sk-container-id-1 pre{padding: 0;}#sk-container-id-1 div.sk-toggleable {background-color: white;}#sk-container-id-1 label.sk-toggleable__label {cursor: pointer;display: block;width: 100%;margin-bottom: 0;padding: 0.3em;box-sizing: border-box;text-align: center;}#sk-container-id-1 label.sk-toggleable__label-arrow:before {content: \"▸\";float: left;margin-right: 0.25em;color: #696969;}#sk-container-id-1 label.sk-toggleable__label-arrow:hover:before {color: black;}#sk-container-id-1 div.sk-estimator:hover label.sk-toggleable__label-arrow:before {color: black;}#sk-container-id-1 div.sk-toggleable__content {max-height: 0;max-width: 0;overflow: hidden;text-align: left;background-color: #f0f8ff;}#sk-container-id-1 div.sk-toggleable__content pre {margin: 0.2em;color: black;border-radius: 0.25em;background-color: #f0f8ff;}#sk-container-id-1 input.sk-toggleable__control:checked~div.sk-toggleable__content {max-height: 200px;max-width: 100%;overflow: auto;}#sk-container-id-1 input.sk-toggleable__control:checked~label.sk-toggleable__label-arrow:before {content: \"▾\";}#sk-container-id-1 div.sk-estimator input.sk-toggleable__control:checked~label.sk-toggleable__label {background-color: #d4ebff;}#sk-container-id-1 div.sk-label input.sk-toggleable__control:checked~label.sk-toggleable__label {background-color: #d4ebff;}#sk-container-id-1 input.sk-hidden--visually {border: 0;clip: rect(1px 1px 1px 1px);clip: rect(1px, 1px, 1px, 1px);height: 1px;margin: -1px;overflow: hidden;padding: 0;position: absolute;width: 1px;}#sk-container-id-1 div.sk-estimator {font-family: monospace;background-color: #f0f8ff;border: 1px dotted black;border-radius: 0.25em;box-sizing: border-box;margin-bottom: 0.5em;}#sk-container-id-1 div.sk-estimator:hover {background-color: #d4ebff;}#sk-container-id-1 div.sk-parallel-item::after {content: \"\";width: 100%;border-bottom: 1px solid gray;flex-grow: 1;}#sk-container-id-1 div.sk-label:hover label.sk-toggleable__label {background-color: #d4ebff;}#sk-container-id-1 div.sk-serial::before {content: \"\";position: absolute;border-left: 1px solid gray;box-sizing: border-box;top: 0;bottom: 0;left: 50%;z-index: 0;}#sk-container-id-1 div.sk-serial {display: flex;flex-direction: column;align-items: center;background-color: white;padding-right: 0.2em;padding-left: 0.2em;position: relative;}#sk-container-id-1 div.sk-item {position: relative;z-index: 1;}#sk-container-id-1 div.sk-parallel {display: flex;align-items: stretch;justify-content: center;background-color: white;position: relative;}#sk-container-id-1 div.sk-item::before, #sk-container-id-1 div.sk-parallel-item::before {content: \"\";position: absolute;border-left: 1px solid gray;box-sizing: border-box;top: 0;bottom: 0;left: 50%;z-index: -1;}#sk-container-id-1 div.sk-parallel-item {display: flex;flex-direction: column;z-index: 1;position: relative;background-color: white;}#sk-container-id-1 div.sk-parallel-item:first-child::after {align-self: flex-end;width: 50%;}#sk-container-id-1 div.sk-parallel-item:last-child::after {align-self: flex-start;width: 50%;}#sk-container-id-1 div.sk-parallel-item:only-child::after {width: 0;}#sk-container-id-1 div.sk-dashed-wrapped {border: 1px dashed gray;margin: 0 0.4em 0.5em 0.4em;box-sizing: border-box;padding-bottom: 0.4em;background-color: white;}#sk-container-id-1 div.sk-label label {font-family: monospace;font-weight: bold;display: inline-block;line-height: 1.2em;}#sk-container-id-1 div.sk-label-container {text-align: center;}#sk-container-id-1 div.sk-container {/* jupyter's `normalize.less` sets `[hidden] { display: none; }` but bootstrap.min.css set `[hidden] { display: none !important; }` so we also need the `!important` here to be able to override the default hidden behavior on the sphinx rendered scikit-learn.org. See: https://github.com/scikit-learn/scikit-learn/issues/21755 */display: inline-block !important;position: relative;}#sk-container-id-1 div.sk-text-repr-fallback {display: none;}</style><div id=\"sk-container-id-1\" class=\"sk-top-container\"><div class=\"sk-text-repr-fallback\"><pre>Pipeline(steps=[(&#x27;scale&#x27;, StandardScaler()), (&#x27;model&#x27;, LogisticRegression())])</pre><b>In a Jupyter environment, please rerun this cell to show the HTML representation or trust the notebook. <br />On GitHub, the HTML representation is unable to render, please try loading this page with nbviewer.org.</b></div><div class=\"sk-container\" hidden><div class=\"sk-item sk-dashed-wrapped\"><div class=\"sk-label-container\"><div class=\"sk-label sk-toggleable\"><input class=\"sk-toggleable__control sk-hidden--visually\" id=\"sk-estimator-id-1\" type=\"checkbox\" ><label for=\"sk-estimator-id-1\" class=\"sk-toggleable__label sk-toggleable__label-arrow\">Pipeline</label><div class=\"sk-toggleable__content\"><pre>Pipeline(steps=[(&#x27;scale&#x27;, StandardScaler()), (&#x27;model&#x27;, LogisticRegression())])</pre></div></div></div><div class=\"sk-serial\"><div class=\"sk-item\"><div class=\"sk-estimator sk-toggleable\"><input class=\"sk-toggleable__control sk-hidden--visually\" id=\"sk-estimator-id-2\" type=\"checkbox\" ><label for=\"sk-estimator-id-2\" class=\"sk-toggleable__label sk-toggleable__label-arrow\">StandardScaler</label><div class=\"sk-toggleable__content\"><pre>StandardScaler()</pre></div></div></div><div class=\"sk-item\"><div class=\"sk-estimator sk-toggleable\"><input class=\"sk-toggleable__control sk-hidden--visually\" id=\"sk-estimator-id-3\" type=\"checkbox\" ><label for=\"sk-estimator-id-3\" class=\"sk-toggleable__label sk-toggleable__label-arrow\">LogisticRegression</label><div class=\"sk-toggleable__content\"><pre>LogisticRegression()</pre></div></div></div></div></div></div></div>"
      ],
      "text/plain": [
       "Pipeline(steps=[('scale', StandardScaler()), ('model', LogisticRegression())])"
      ]
     },
     "execution_count": 43,
     "metadata": {},
     "output_type": "execute_result"
    }
   ],
   "source": [
    "model.fit(X_train, y_train.values.ravel())"
   ]
  },
  {
   "cell_type": "code",
   "execution_count": 44,
   "id": "af59f8c0",
   "metadata": {
    "execution": {
     "iopub.execute_input": "2025-07-30T14:20:39.891794Z",
     "iopub.status.busy": "2025-07-30T14:20:39.891285Z",
     "iopub.status.idle": "2025-07-30T14:20:39.896964Z",
     "shell.execute_reply": "2025-07-30T14:20:39.895946Z"
    },
    "papermill": {
     "duration": 0.035497,
     "end_time": "2025-07-30T14:20:39.898558",
     "exception": false,
     "start_time": "2025-07-30T14:20:39.863061",
     "status": "completed"
    },
    "tags": []
   },
   "outputs": [],
   "source": [
    "from fairness_multiverse.universe import predict_w_threshold"
   ]
  },
  {
   "cell_type": "code",
   "execution_count": 45,
   "id": "a7cf2e16",
   "metadata": {
    "execution": {
     "iopub.execute_input": "2025-07-30T14:20:39.953840Z",
     "iopub.status.busy": "2025-07-30T14:20:39.953283Z",
     "iopub.status.idle": "2025-07-30T14:20:40.153552Z",
     "shell.execute_reply": "2025-07-30T14:20:40.152612Z"
    },
    "papermill": {
     "duration": 0.230602,
     "end_time": "2025-07-30T14:20:40.155552",
     "exception": false,
     "start_time": "2025-07-30T14:20:39.924950",
     "status": "completed"
    },
    "tags": []
   },
   "outputs": [
    {
     "data": {
      "text/plain": [
       "0.81086835358377"
      ]
     },
     "execution_count": 45,
     "metadata": {},
     "output_type": "execute_result"
    }
   ],
   "source": [
    "probs_test = model.predict_proba(X_test)\n",
    "\n",
    "'''\n",
    "Below code returns a boolean array (or binary 0/1 array depending on how it’s used) where each element \n",
    "is True if the probability of class 1 is greater than or equal to the threshold, and False otherwise.\n",
    "'''\n",
    "y_pred_default = predict_w_threshold(probs_test, 0.5)\n",
    "\n",
    "from sklearn.metrics import accuracy_score\n",
    "\n",
    "# Naive prediction\n",
    "accuracy_score(y_true = y_true, y_pred = y_pred_default)"
   ]
  },
  {
   "cell_type": "code",
   "execution_count": 46,
   "id": "081964c3",
   "metadata": {
    "execution": {
     "iopub.execute_input": "2025-07-30T14:20:40.198295Z",
     "iopub.status.busy": "2025-07-30T14:20:40.197867Z",
     "iopub.status.idle": "2025-07-30T14:20:40.396122Z",
     "shell.execute_reply": "2025-07-30T14:20:40.392373Z"
    },
    "papermill": {
     "duration": 0.216677,
     "end_time": "2025-07-30T14:20:40.397895",
     "exception": false,
     "start_time": "2025-07-30T14:20:40.181218",
     "status": "completed"
    },
    "tags": []
   },
   "outputs": [
    {
     "data": {
      "text/plain": [
       "array([0, 0, 0, ..., 0, 0, 0])"
      ]
     },
     "execution_count": 46,
     "metadata": {},
     "output_type": "execute_result"
    }
   ],
   "source": [
    "model.predict(X_test)"
   ]
  },
  {
   "cell_type": "markdown",
   "id": "56c9705b",
   "metadata": {
    "papermill": {
     "duration": 0.027216,
     "end_time": "2025-07-30T14:20:40.448739",
     "exception": false,
     "start_time": "2025-07-30T14:20:40.421523",
     "status": "completed"
    },
    "tags": []
   },
   "source": [
    "# Conformal Prediction"
   ]
  },
  {
   "cell_type": "code",
   "execution_count": 47,
   "id": "160ec6ff",
   "metadata": {
    "execution": {
     "iopub.execute_input": "2025-07-30T14:20:40.490602Z",
     "iopub.status.busy": "2025-07-30T14:20:40.490131Z",
     "iopub.status.idle": "2025-07-30T14:20:40.495198Z",
     "shell.execute_reply": "2025-07-30T14:20:40.494442Z"
    },
    "papermill": {
     "duration": 0.023547,
     "end_time": "2025-07-30T14:20:40.496618",
     "exception": false,
     "start_time": "2025-07-30T14:20:40.473071",
     "status": "completed"
    },
    "tags": []
   },
   "outputs": [],
   "source": [
    "# Miscoverage level for conformal prediction (10% allowed error rate => 90% target coverage)\n",
    "alpha = 0.1"
   ]
  },
  {
   "cell_type": "code",
   "execution_count": 48,
   "id": "eadf4555-3dd3-440e-8e35-f82a4ad9f855",
   "metadata": {
    "execution": {
     "iopub.execute_input": "2025-07-30T14:20:40.526486Z",
     "iopub.status.busy": "2025-07-30T14:20:40.525963Z",
     "iopub.status.idle": "2025-07-30T14:20:40.688514Z",
     "shell.execute_reply": "2025-07-30T14:20:40.687408Z"
    },
    "papermill": {
     "duration": 0.182163,
     "end_time": "2025-07-30T14:20:40.693334",
     "exception": false,
     "start_time": "2025-07-30T14:20:40.511171",
     "status": "completed"
    },
    "tags": []
   },
   "outputs": [],
   "source": [
    "probs_calib = model.predict_proba(X_calib)"
   ]
  },
  {
   "cell_type": "code",
   "execution_count": 49,
   "id": "2ed93547-6d5d-4983-9b36-1ecb300da49a",
   "metadata": {
    "execution": {
     "iopub.execute_input": "2025-07-30T14:20:40.767333Z",
     "iopub.status.busy": "2025-07-30T14:20:40.766624Z",
     "iopub.status.idle": "2025-07-30T14:20:40.772513Z",
     "shell.execute_reply": "2025-07-30T14:20:40.771652Z"
    },
    "papermill": {
     "duration": 0.032675,
     "end_time": "2025-07-30T14:20:40.773773",
     "exception": false,
     "start_time": "2025-07-30T14:20:40.741098",
     "status": "completed"
    },
    "tags": []
   },
   "outputs": [],
   "source": [
    "y_calib = y_calib.values.ravel().astype(int)"
   ]
  },
  {
   "cell_type": "code",
   "execution_count": 50,
   "id": "65d1320d-f588-4b38-9072-62af1ae97f7d",
   "metadata": {
    "execution": {
     "iopub.execute_input": "2025-07-30T14:20:40.802246Z",
     "iopub.status.busy": "2025-07-30T14:20:40.801891Z",
     "iopub.status.idle": "2025-07-30T14:20:40.809494Z",
     "shell.execute_reply": "2025-07-30T14:20:40.808679Z"
    },
    "papermill": {
     "duration": 0.023047,
     "end_time": "2025-07-30T14:20:40.810721",
     "exception": false,
     "start_time": "2025-07-30T14:20:40.787674",
     "status": "completed"
    },
    "tags": []
   },
   "outputs": [],
   "source": [
    "from fairness_multiverse.conformal import compute_nc_scores\n",
    "\n",
    "# Compute nonconformity scores on calibration set (1 - probability of true class)\n",
    "nc_scores = compute_nc_scores(probs_calib, y_calib)"
   ]
  },
  {
   "cell_type": "code",
   "execution_count": 51,
   "id": "df3b8ca3-53b7-43d5-9667-7c85da7aeda2",
   "metadata": {
    "execution": {
     "iopub.execute_input": "2025-07-30T14:20:40.839222Z",
     "iopub.status.busy": "2025-07-30T14:20:40.838858Z",
     "iopub.status.idle": "2025-07-30T14:20:40.844740Z",
     "shell.execute_reply": "2025-07-30T14:20:40.843787Z"
    },
    "papermill": {
     "duration": 0.021777,
     "end_time": "2025-07-30T14:20:40.846374",
     "exception": false,
     "start_time": "2025-07-30T14:20:40.824597",
     "status": "completed"
    },
    "tags": []
   },
   "outputs": [],
   "source": [
    "from fairness_multiverse.conformal import find_threshold\n",
    "\n",
    "# Find conformal threshold q_hat for the given alpha (split conformal method)\n",
    "q_hat = find_threshold(nc_scores, alpha)"
   ]
  },
  {
   "cell_type": "code",
   "execution_count": 52,
   "id": "4d29e6c1-0ef6-4aa4-b8fe-4fe79b0d033a",
   "metadata": {
    "execution": {
     "iopub.execute_input": "2025-07-30T14:20:40.903785Z",
     "iopub.status.busy": "2025-07-30T14:20:40.903286Z",
     "iopub.status.idle": "2025-07-30T14:20:40.910764Z",
     "shell.execute_reply": "2025-07-30T14:20:40.909826Z"
    },
    "papermill": {
     "duration": 0.03768,
     "end_time": "2025-07-30T14:20:40.912460",
     "exception": false,
     "start_time": "2025-07-30T14:20:40.874780",
     "status": "completed"
    },
    "tags": []
   },
   "outputs": [
    {
     "data": {
      "text/plain": [
       "0.8362031820237452"
      ]
     },
     "execution_count": 52,
     "metadata": {},
     "output_type": "execute_result"
    }
   ],
   "source": [
    "q_hat"
   ]
  },
  {
   "cell_type": "code",
   "execution_count": 53,
   "id": "92460794-cdac-4be2-ba28-f28c0515a6fb",
   "metadata": {
    "execution": {
     "iopub.execute_input": "2025-07-30T14:20:40.954322Z",
     "iopub.status.busy": "2025-07-30T14:20:40.953748Z",
     "iopub.status.idle": "2025-07-30T14:20:41.978084Z",
     "shell.execute_reply": "2025-07-30T14:20:41.976889Z"
    },
    "papermill": {
     "duration": 1.044545,
     "end_time": "2025-07-30T14:20:41.980427",
     "exception": false,
     "start_time": "2025-07-30T14:20:40.935882",
     "status": "completed"
    },
    "tags": []
   },
   "outputs": [],
   "source": [
    "from fairness_multiverse.conformal import predict_conformal_sets\n",
    "\n",
    "# Generate prediction sets for each test example\n",
    "pred_sets = predict_conformal_sets(model, X_test, q_hat)"
   ]
  },
  {
   "cell_type": "code",
   "execution_count": 54,
   "id": "d90c9a65-e6db-4f5d-80cd-e68fb7e46829",
   "metadata": {
    "execution": {
     "iopub.execute_input": "2025-07-30T14:20:42.057454Z",
     "iopub.status.busy": "2025-07-30T14:20:42.056456Z",
     "iopub.status.idle": "2025-07-30T14:20:42.062809Z",
     "shell.execute_reply": "2025-07-30T14:20:42.061631Z"
    },
    "papermill": {
     "duration": 0.046691,
     "end_time": "2025-07-30T14:20:42.065016",
     "exception": false,
     "start_time": "2025-07-30T14:20:42.018325",
     "status": "completed"
    },
    "tags": []
   },
   "outputs": [],
   "source": [
    "y_true = y_true.squeeze()"
   ]
  },
  {
   "cell_type": "code",
   "execution_count": 55,
   "id": "3a58a54a-1e68-46b9-927a-df01f18aebc8",
   "metadata": {
    "execution": {
     "iopub.execute_input": "2025-07-30T14:20:42.130846Z",
     "iopub.status.busy": "2025-07-30T14:20:42.130496Z",
     "iopub.status.idle": "2025-07-30T14:20:42.989476Z",
     "shell.execute_reply": "2025-07-30T14:20:42.988738Z"
    },
    "papermill": {
     "duration": 0.891663,
     "end_time": "2025-07-30T14:20:42.990947",
     "exception": false,
     "start_time": "2025-07-30T14:20:42.099284",
     "status": "completed"
    },
    "tags": []
   },
   "outputs": [],
   "source": [
    "from fairness_multiverse.conformal import evaluate_sets\n",
    "\n",
    "# Evaluate coverage and average set size on test data\n",
    "metrics = evaluate_sets(pred_sets, y_true)"
   ]
  },
  {
   "cell_type": "markdown",
   "id": "2b569c12-9aaa-4c88-98c9-bbcd0cf3ebb8",
   "metadata": {
    "papermill": {
     "duration": 0.025516,
     "end_time": "2025-07-30T14:20:43.034126",
     "exception": false,
     "start_time": "2025-07-30T14:20:43.008610",
     "status": "completed"
    },
    "tags": []
   },
   "source": [
    "# CP Metrics"
   ]
  },
  {
   "cell_type": "code",
   "execution_count": 56,
   "id": "5ce0a5cb-201f-45a0-ade5-94c7f0bd6095",
   "metadata": {
    "execution": {
     "iopub.execute_input": "2025-07-30T14:20:43.110019Z",
     "iopub.status.busy": "2025-07-30T14:20:43.109367Z",
     "iopub.status.idle": "2025-07-30T14:20:43.118402Z",
     "shell.execute_reply": "2025-07-30T14:20:43.117380Z"
    },
    "papermill": {
     "duration": 0.049136,
     "end_time": "2025-07-30T14:20:43.120672",
     "exception": false,
     "start_time": "2025-07-30T14:20:43.071536",
     "status": "completed"
    },
    "tags": []
   },
   "outputs": [
    {
     "data": {
      "text/plain": [
       "{'coverage': 0.9077360383457809, 'avg_size': 1.2642849180693345}"
      ]
     },
     "execution_count": 56,
     "metadata": {},
     "output_type": "execute_result"
    }
   ],
   "source": [
    "metrics"
   ]
  },
  {
   "cell_type": "code",
   "execution_count": 57,
   "id": "9b9a838d-31c9-430b-ae14-12baee460d17",
   "metadata": {
    "execution": {
     "iopub.execute_input": "2025-07-30T14:20:43.197840Z",
     "iopub.status.busy": "2025-07-30T14:20:43.197073Z",
     "iopub.status.idle": "2025-07-30T14:20:43.204832Z",
     "shell.execute_reply": "2025-07-30T14:20:43.203740Z"
    },
    "papermill": {
     "duration": 0.046201,
     "end_time": "2025-07-30T14:20:43.207014",
     "exception": false,
     "start_time": "2025-07-30T14:20:43.160813",
     "status": "completed"
    },
    "tags": []
   },
   "outputs": [],
   "source": [
    "example_universe = universe.copy()\n",
    "universe_training_size = example_universe.get(\"training_size\")\n",
    "universe_scale = example_universe.get(\"scale\")\n",
    "universe_model = example_universe.get(\"model\")\n",
    "universe_exclude_features = example_universe.get(\"exclude_features\")\n",
    "universe_exclude_subgroups = example_universe.get(\"exclude_subgroups\")"
   ]
  },
  {
   "cell_type": "code",
   "execution_count": 58,
   "id": "f4b6a8ac-9dc0-4245-8a91-5b3b5999c4f9",
   "metadata": {
    "execution": {
     "iopub.execute_input": "2025-07-30T14:20:43.262885Z",
     "iopub.status.busy": "2025-07-30T14:20:43.261926Z",
     "iopub.status.idle": "2025-07-30T14:20:43.267916Z",
     "shell.execute_reply": "2025-07-30T14:20:43.267161Z"
    },
    "papermill": {
     "duration": 0.032436,
     "end_time": "2025-07-30T14:20:43.269370",
     "exception": false,
     "start_time": "2025-07-30T14:20:43.236934",
     "status": "completed"
    },
    "tags": []
   },
   "outputs": [],
   "source": [
    "cp_metrics_dict = {\n",
    "    \"universe_id\": [universe_id],\n",
    "    \"universe_training_size\": [universe_training_size],\n",
    "    \"universe_scale\": [universe_scale],\n",
    "    \"universe_model\": [universe_model],\n",
    "    \"universe_exclude_features\": [universe_exclude_features],\n",
    "    \"universe_exclude_subgroups\": [universe_exclude_subgroups],\n",
    "    \"q_hat\": [q_hat],\n",
    "    \"coverage\": [metrics[\"coverage\"]],\n",
    "    \"avg_size\": [metrics[\"avg_size\"]],\n",
    "}"
   ]
  },
  {
   "cell_type": "code",
   "execution_count": 59,
   "id": "908acbb1-0371-4915-85ca-3fa520d2efe2",
   "metadata": {
    "execution": {
     "iopub.execute_input": "2025-07-30T14:20:43.301576Z",
     "iopub.status.busy": "2025-07-30T14:20:43.300877Z",
     "iopub.status.idle": "2025-07-30T14:20:43.308117Z",
     "shell.execute_reply": "2025-07-30T14:20:43.307384Z"
    },
    "papermill": {
     "duration": 0.024809,
     "end_time": "2025-07-30T14:20:43.309377",
     "exception": false,
     "start_time": "2025-07-30T14:20:43.284568",
     "status": "completed"
    },
    "tags": []
   },
   "outputs": [
    {
     "data": {
      "text/plain": [
       "{'universe_id': ['fb342841803b10b2bc2a9204520c4b57'],\n",
       " 'universe_training_size': ['1k'],\n",
       " 'universe_scale': ['scale'],\n",
       " 'universe_model': ['penalized_logreg'],\n",
       " 'universe_exclude_features': ['nationality-sex'],\n",
       " 'universe_exclude_subgroups': ['drop-non-german'],\n",
       " 'q_hat': [0.8362031820237452],\n",
       " 'coverage': [0.9077360383457809],\n",
       " 'avg_size': [1.2642849180693345]}"
      ]
     },
     "execution_count": 59,
     "metadata": {},
     "output_type": "execute_result"
    }
   ],
   "source": [
    "cp_metrics_dict"
   ]
  },
  {
   "cell_type": "code",
   "execution_count": 60,
   "id": "33007efc-14e9-4ec6-97ac-56a455c82265",
   "metadata": {
    "execution": {
     "iopub.execute_input": "2025-07-30T14:20:43.341056Z",
     "iopub.status.busy": "2025-07-30T14:20:43.340458Z",
     "iopub.status.idle": "2025-07-30T14:20:43.345545Z",
     "shell.execute_reply": "2025-07-30T14:20:43.344888Z"
    },
    "papermill": {
     "duration": 0.021518,
     "end_time": "2025-07-30T14:20:43.346792",
     "exception": false,
     "start_time": "2025-07-30T14:20:43.325274",
     "status": "completed"
    },
    "tags": []
   },
   "outputs": [],
   "source": [
    "cp_metrics_df = pd.DataFrame(cp_metrics_dict)"
   ]
  },
  {
   "cell_type": "code",
   "execution_count": 61,
   "id": "db12611b-57b2-4910-b9d0-355adfd6e7bf",
   "metadata": {
    "execution": {
     "iopub.execute_input": "2025-07-30T14:20:43.384325Z",
     "iopub.status.busy": "2025-07-30T14:20:43.383732Z",
     "iopub.status.idle": "2025-07-30T14:20:43.403694Z",
     "shell.execute_reply": "2025-07-30T14:20:43.402618Z"
    },
    "papermill": {
     "duration": 0.044787,
     "end_time": "2025-07-30T14:20:43.405900",
     "exception": false,
     "start_time": "2025-07-30T14:20:43.361113",
     "status": "completed"
    },
    "tags": []
   },
   "outputs": [
    {
     "data": {
      "text/html": [
       "<div>\n",
       "<style scoped>\n",
       "    .dataframe tbody tr th:only-of-type {\n",
       "        vertical-align: middle;\n",
       "    }\n",
       "\n",
       "    .dataframe tbody tr th {\n",
       "        vertical-align: top;\n",
       "    }\n",
       "\n",
       "    .dataframe thead th {\n",
       "        text-align: right;\n",
       "    }\n",
       "</style>\n",
       "<table border=\"1\" class=\"dataframe\">\n",
       "  <thead>\n",
       "    <tr style=\"text-align: right;\">\n",
       "      <th></th>\n",
       "      <th>universe_id</th>\n",
       "      <th>universe_training_size</th>\n",
       "      <th>universe_scale</th>\n",
       "      <th>universe_model</th>\n",
       "      <th>universe_exclude_features</th>\n",
       "      <th>universe_exclude_subgroups</th>\n",
       "      <th>q_hat</th>\n",
       "      <th>coverage</th>\n",
       "      <th>avg_size</th>\n",
       "    </tr>\n",
       "  </thead>\n",
       "  <tbody>\n",
       "    <tr>\n",
       "      <th>0</th>\n",
       "      <td>fb342841803b10b2bc2a9204520c4b57</td>\n",
       "      <td>1k</td>\n",
       "      <td>scale</td>\n",
       "      <td>penalized_logreg</td>\n",
       "      <td>nationality-sex</td>\n",
       "      <td>drop-non-german</td>\n",
       "      <td>0.836203</td>\n",
       "      <td>0.907736</td>\n",
       "      <td>1.264285</td>\n",
       "    </tr>\n",
       "  </tbody>\n",
       "</table>\n",
       "</div>"
      ],
      "text/plain": [
       "                        universe_id universe_training_size universe_scale  \\\n",
       "0  fb342841803b10b2bc2a9204520c4b57                     1k          scale   \n",
       "\n",
       "     universe_model universe_exclude_features universe_exclude_subgroups  \\\n",
       "0  penalized_logreg           nationality-sex            drop-non-german   \n",
       "\n",
       "      q_hat  coverage  avg_size  \n",
       "0  0.836203  0.907736  1.264285  "
      ]
     },
     "execution_count": 61,
     "metadata": {},
     "output_type": "execute_result"
    }
   ],
   "source": [
    "cp_metrics_df"
   ]
  },
  {
   "cell_type": "code",
   "execution_count": 62,
   "id": "b7fbde55-a0a1-47e4-9af6-fe4a17fa8c61",
   "metadata": {
    "execution": {
     "iopub.execute_input": "2025-07-30T14:20:43.484742Z",
     "iopub.status.busy": "2025-07-30T14:20:43.484117Z",
     "iopub.status.idle": "2025-07-30T14:20:43.490156Z",
     "shell.execute_reply": "2025-07-30T14:20:43.489080Z"
    },
    "papermill": {
     "duration": 0.047044,
     "end_time": "2025-07-30T14:20:43.491958",
     "exception": false,
     "start_time": "2025-07-30T14:20:43.444914",
     "status": "completed"
    },
    "tags": []
   },
   "outputs": [],
   "source": [
    "# Conditional Coverage & looking at subgroups"
   ]
  },
  {
   "cell_type": "code",
   "execution_count": 63,
   "id": "027ae886-68dd-4141-96c7-805a5450e1ef",
   "metadata": {
    "execution": {
     "iopub.execute_input": "2025-07-30T14:20:43.546802Z",
     "iopub.status.busy": "2025-07-30T14:20:43.545746Z",
     "iopub.status.idle": "2025-07-30T14:20:43.843937Z",
     "shell.execute_reply": "2025-07-30T14:20:43.843144Z"
    },
    "papermill": {
     "duration": 0.330886,
     "end_time": "2025-07-30T14:20:43.846011",
     "exception": false,
     "start_time": "2025-07-30T14:20:43.515125",
     "status": "completed"
    },
    "tags": []
   },
   "outputs": [],
   "source": [
    "from fairness_multiverse.conformal import build_cp_groups\n",
    "\n",
    "cp_groups_df = build_cp_groups(pred_sets, y_true, X_test.index, org_test)\n",
    "#needs universe_id and setting"
   ]
  },
  {
   "cell_type": "code",
   "execution_count": 64,
   "id": "01d5802c-663a-4d1f-9d69-e036faaffbf7",
   "metadata": {
    "execution": {
     "iopub.execute_input": "2025-07-30T14:20:43.908602Z",
     "iopub.status.busy": "2025-07-30T14:20:43.907673Z",
     "iopub.status.idle": "2025-07-30T14:20:43.913450Z",
     "shell.execute_reply": "2025-07-30T14:20:43.912269Z"
    },
    "papermill": {
     "duration": 0.040413,
     "end_time": "2025-07-30T14:20:43.915313",
     "exception": false,
     "start_time": "2025-07-30T14:20:43.874900",
     "status": "completed"
    },
    "tags": []
   },
   "outputs": [],
   "source": [
    "#delete\n",
    "#cp_groups_df"
   ]
  },
  {
   "cell_type": "code",
   "execution_count": 65,
   "id": "fa424af1-d1eb-443d-b717-2d279ada8408",
   "metadata": {
    "execution": {
     "iopub.execute_input": "2025-07-30T14:20:43.977051Z",
     "iopub.status.busy": "2025-07-30T14:20:43.975998Z",
     "iopub.status.idle": "2025-07-30T14:20:43.981301Z",
     "shell.execute_reply": "2025-07-30T14:20:43.980359Z"
    },
    "papermill": {
     "duration": 0.038639,
     "end_time": "2025-07-30T14:20:43.982969",
     "exception": false,
     "start_time": "2025-07-30T14:20:43.944330",
     "status": "completed"
    },
    "tags": []
   },
   "outputs": [],
   "source": [
    "#delete\n",
    "#percentage = (cp_groups_df['nongerman_female'] == 1).mean() * 100\n",
    "#print(percentage)\n"
   ]
  },
  {
   "cell_type": "code",
   "execution_count": 66,
   "id": "6cbdab96-b2b2-45af-ad54-d0516db2e28d",
   "metadata": {
    "execution": {
     "iopub.execute_input": "2025-07-30T14:20:44.043017Z",
     "iopub.status.busy": "2025-07-30T14:20:44.042342Z",
     "iopub.status.idle": "2025-07-30T14:20:45.867546Z",
     "shell.execute_reply": "2025-07-30T14:20:45.866383Z"
    },
    "papermill": {
     "duration": 1.857968,
     "end_time": "2025-07-30T14:20:45.869589",
     "exception": false,
     "start_time": "2025-07-30T14:20:44.011621",
     "status": "completed"
    },
    "tags": []
   },
   "outputs": [],
   "source": [
    "# Define covered = 1 if true_label is in the predicted set\n",
    "cp_groups_df['covered'] = cp_groups_df.apply(\n",
    "    lambda r: int(r['true_label'] in r['pred_set']),\n",
    "    axis=1\n",
    ")"
   ]
  },
  {
   "cell_type": "code",
   "execution_count": 67,
   "id": "338ff529-1a6b-4b87-a931-8e4788d52aad",
   "metadata": {
    "execution": {
     "iopub.execute_input": "2025-07-30T14:20:45.924280Z",
     "iopub.status.busy": "2025-07-30T14:20:45.923741Z",
     "iopub.status.idle": "2025-07-30T14:20:45.928859Z",
     "shell.execute_reply": "2025-07-30T14:20:45.927880Z"
    },
    "papermill": {
     "duration": 0.033749,
     "end_time": "2025-07-30T14:20:45.930744",
     "exception": false,
     "start_time": "2025-07-30T14:20:45.896995",
     "status": "completed"
    },
    "tags": []
   },
   "outputs": [],
   "source": [
    "#cp_groups_df"
   ]
  },
  {
   "cell_type": "code",
   "execution_count": 68,
   "id": "90032e27-66df-4540-9169-4e89cfbaa758",
   "metadata": {
    "execution": {
     "iopub.execute_input": "2025-07-30T14:20:46.029834Z",
     "iopub.status.busy": "2025-07-30T14:20:46.029345Z",
     "iopub.status.idle": "2025-07-30T14:20:46.042063Z",
     "shell.execute_reply": "2025-07-30T14:20:46.041374Z"
    },
    "papermill": {
     "duration": 0.085363,
     "end_time": "2025-07-30T14:20:46.043317",
     "exception": false,
     "start_time": "2025-07-30T14:20:45.957954",
     "status": "completed"
    },
    "tags": []
   },
   "outputs": [],
   "source": [
    "subgroups = ['frau1','nongerman','nongerman_male','nongerman_female']\n",
    "\n",
    "# Conditional coverage for subgroup==1\n",
    "cond_coverage = {\n",
    "    g: cp_groups_df.loc[cp_groups_df[g]==1, 'covered'].mean()\n",
    "    for g in subgroups\n",
    "}"
   ]
  },
  {
   "cell_type": "code",
   "execution_count": 69,
   "id": "1e348fb1-b9c3-45bc-ba23-f016827a7e0d",
   "metadata": {
    "execution": {
     "iopub.execute_input": "2025-07-30T14:20:46.074002Z",
     "iopub.status.busy": "2025-07-30T14:20:46.073479Z",
     "iopub.status.idle": "2025-07-30T14:20:46.079672Z",
     "shell.execute_reply": "2025-07-30T14:20:46.078963Z"
    },
    "papermill": {
     "duration": 0.022198,
     "end_time": "2025-07-30T14:20:46.080969",
     "exception": false,
     "start_time": "2025-07-30T14:20:46.058771",
     "status": "completed"
    },
    "tags": []
   },
   "outputs": [
    {
     "data": {
      "text/plain": [
       "{'frau1': 0.9052702520555331,\n",
       " 'nongerman': 0.9122550945938359,\n",
       " 'nongerman_male': 0.9269566783752139,\n",
       " 'nongerman_female': 0.8879284649776453}"
      ]
     },
     "execution_count": 69,
     "metadata": {},
     "output_type": "execute_result"
    }
   ],
   "source": [
    "cond_coverage"
   ]
  },
  {
   "cell_type": "code",
   "execution_count": 70,
   "id": "f5093324-c3dd-4d63-bc4c-8d945e5c8bbb",
   "metadata": {
    "execution": {
     "iopub.execute_input": "2025-07-30T14:20:46.111230Z",
     "iopub.status.busy": "2025-07-30T14:20:46.110503Z",
     "iopub.status.idle": "2025-07-30T14:20:46.116689Z",
     "shell.execute_reply": "2025-07-30T14:20:46.115873Z"
    },
    "papermill": {
     "duration": 0.022384,
     "end_time": "2025-07-30T14:20:46.118016",
     "exception": false,
     "start_time": "2025-07-30T14:20:46.095632",
     "status": "completed"
    },
    "tags": []
   },
   "outputs": [],
   "source": [
    "for subgroup, cov in cond_coverage.items():\n",
    "    cp_metrics_df[f\"cov_{subgroup}\"] = cov"
   ]
  },
  {
   "cell_type": "code",
   "execution_count": 71,
   "id": "6e872e10-dbe5-49e8-b554-5030c98ff75d",
   "metadata": {
    "execution": {
     "iopub.execute_input": "2025-07-30T14:20:46.153310Z",
     "iopub.status.busy": "2025-07-30T14:20:46.152871Z",
     "iopub.status.idle": "2025-07-30T14:20:46.171775Z",
     "shell.execute_reply": "2025-07-30T14:20:46.170846Z"
    },
    "papermill": {
     "duration": 0.040064,
     "end_time": "2025-07-30T14:20:46.173436",
     "exception": false,
     "start_time": "2025-07-30T14:20:46.133372",
     "status": "completed"
    },
    "tags": []
   },
   "outputs": [
    {
     "data": {
      "text/html": [
       "<div>\n",
       "<style scoped>\n",
       "    .dataframe tbody tr th:only-of-type {\n",
       "        vertical-align: middle;\n",
       "    }\n",
       "\n",
       "    .dataframe tbody tr th {\n",
       "        vertical-align: top;\n",
       "    }\n",
       "\n",
       "    .dataframe thead th {\n",
       "        text-align: right;\n",
       "    }\n",
       "</style>\n",
       "<table border=\"1\" class=\"dataframe\">\n",
       "  <thead>\n",
       "    <tr style=\"text-align: right;\">\n",
       "      <th></th>\n",
       "      <th>universe_id</th>\n",
       "      <th>universe_training_size</th>\n",
       "      <th>universe_scale</th>\n",
       "      <th>universe_model</th>\n",
       "      <th>universe_exclude_features</th>\n",
       "      <th>universe_exclude_subgroups</th>\n",
       "      <th>q_hat</th>\n",
       "      <th>coverage</th>\n",
       "      <th>avg_size</th>\n",
       "      <th>cov_frau1</th>\n",
       "      <th>cov_nongerman</th>\n",
       "      <th>cov_nongerman_male</th>\n",
       "      <th>cov_nongerman_female</th>\n",
       "    </tr>\n",
       "  </thead>\n",
       "  <tbody>\n",
       "    <tr>\n",
       "      <th>0</th>\n",
       "      <td>fb342841803b10b2bc2a9204520c4b57</td>\n",
       "      <td>1k</td>\n",
       "      <td>scale</td>\n",
       "      <td>penalized_logreg</td>\n",
       "      <td>nationality-sex</td>\n",
       "      <td>drop-non-german</td>\n",
       "      <td>0.836203</td>\n",
       "      <td>0.907736</td>\n",
       "      <td>1.264285</td>\n",
       "      <td>0.90527</td>\n",
       "      <td>0.912255</td>\n",
       "      <td>0.926957</td>\n",
       "      <td>0.887928</td>\n",
       "    </tr>\n",
       "  </tbody>\n",
       "</table>\n",
       "</div>"
      ],
      "text/plain": [
       "                        universe_id universe_training_size universe_scale  \\\n",
       "0  fb342841803b10b2bc2a9204520c4b57                     1k          scale   \n",
       "\n",
       "     universe_model universe_exclude_features universe_exclude_subgroups  \\\n",
       "0  penalized_logreg           nationality-sex            drop-non-german   \n",
       "\n",
       "      q_hat  coverage  avg_size  cov_frau1  cov_nongerman  cov_nongerman_male  \\\n",
       "0  0.836203  0.907736  1.264285    0.90527       0.912255            0.926957   \n",
       "\n",
       "   cov_nongerman_female  \n",
       "0              0.887928  "
      ]
     },
     "execution_count": 71,
     "metadata": {},
     "output_type": "execute_result"
    }
   ],
   "source": [
    "cp_metrics_df"
   ]
  },
  {
   "cell_type": "markdown",
   "id": "33774451",
   "metadata": {
    "papermill": {
     "duration": 0.030219,
     "end_time": "2025-07-30T14:20:46.232534",
     "exception": false,
     "start_time": "2025-07-30T14:20:46.202315",
     "status": "completed"
    },
    "tags": []
   },
   "source": [
    "# (Fairness) Metrics"
   ]
  },
  {
   "cell_type": "code",
   "execution_count": 72,
   "id": "debc5d62",
   "metadata": {
    "execution": {
     "iopub.execute_input": "2025-07-30T14:20:46.292232Z",
     "iopub.status.busy": "2025-07-30T14:20:46.291699Z",
     "iopub.status.idle": "2025-07-30T14:20:46.310917Z",
     "shell.execute_reply": "2025-07-30T14:20:46.309967Z"
    },
    "papermill": {
     "duration": 0.051256,
     "end_time": "2025-07-30T14:20:46.312885",
     "exception": false,
     "start_time": "2025-07-30T14:20:46.261629",
     "status": "completed"
    },
    "tags": []
   },
   "outputs": [],
   "source": [
    "# do I need to include maxdeutsch1.missing?\n",
    "\n",
    "import numpy as np\n",
    "\n",
    "colname_to_bin = \"maxdeutsch1\"\n",
    "majority_value = org_train[colname_to_bin].mode()[0]\n",
    "\n",
    "org_test[\"majmin\"] = np.where(org_test[colname_to_bin] == majority_value, \"majority\", \"minority\")"
   ]
  },
  {
   "cell_type": "code",
   "execution_count": 73,
   "id": "06a50de5",
   "metadata": {
    "execution": {
     "iopub.execute_input": "2025-07-30T14:20:46.364219Z",
     "iopub.status.busy": "2025-07-30T14:20:46.363657Z",
     "iopub.status.idle": "2025-07-30T14:20:49.235083Z",
     "shell.execute_reply": "2025-07-30T14:20:49.234085Z"
    },
    "papermill": {
     "duration": 2.895257,
     "end_time": "2025-07-30T14:20:49.237080",
     "exception": false,
     "start_time": "2025-07-30T14:20:46.341823",
     "status": "completed"
    },
    "tags": []
   },
   "outputs": [],
   "source": [
    "example_universe = universe.copy()\n",
    "example_universe[\"cutoff\"] = example_universe[\"cutoff\"][0]\n",
    "example_universe[\"eval_fairness_grouping\"] = example_universe[\"eval_fairness_grouping\"][0]\n",
    "fairness_dict, metric_frame = universe_analysis.compute_metrics(\n",
    "    example_universe,\n",
    "    y_pred_prob=probs_test,\n",
    "    y_test=y_true,\n",
    "    org_test=org_test,\n",
    ")"
   ]
  },
  {
   "cell_type": "markdown",
   "id": "f95d4e02",
   "metadata": {
    "papermill": {
     "duration": 0.028534,
     "end_time": "2025-07-30T14:20:49.296276",
     "exception": false,
     "start_time": "2025-07-30T14:20:49.267742",
     "status": "completed"
    },
    "tags": []
   },
   "source": [
    "# Overall"
   ]
  },
  {
   "cell_type": "markdown",
   "id": "bdee4871",
   "metadata": {
    "papermill": {
     "duration": 0.02695,
     "end_time": "2025-07-30T14:20:49.352334",
     "exception": false,
     "start_time": "2025-07-30T14:20:49.325384",
     "status": "completed"
    },
    "tags": []
   },
   "source": [
    "Fairness\n",
    "Main fairness target: Equalized Odds. Seems to be a better fit than equal opportunity, since we're not only interested in Y = 1. Seems to be a better fit than demographic parity, since we also care about accuracy, not just equal distribution of preds.\n",
    "\n",
    "Pick column for computation of fairness metrics\n",
    "\n",
    "Performance\n",
    "Overall performance measures, most interesting in relation to the measures split by group below"
   ]
  },
  {
   "cell_type": "code",
   "execution_count": 74,
   "id": "c4e067c6",
   "metadata": {
    "execution": {
     "iopub.execute_input": "2025-07-30T14:20:49.410493Z",
     "iopub.status.busy": "2025-07-30T14:20:49.409985Z",
     "iopub.status.idle": "2025-07-30T14:20:49.418540Z",
     "shell.execute_reply": "2025-07-30T14:20:49.417567Z"
    },
    "papermill": {
     "duration": 0.039339,
     "end_time": "2025-07-30T14:20:49.420043",
     "exception": false,
     "start_time": "2025-07-30T14:20:49.380704",
     "status": "completed"
    },
    "tags": []
   },
   "outputs": [
    {
     "data": {
      "text/plain": [
       "accuracy                   0.216709\n",
       "balanced accuracy          0.531490\n",
       "f1                         0.238252\n",
       "precision                  0.136105\n",
       "false positive rate        0.891921\n",
       "false negative rate        0.045099\n",
       "selection rate             0.900000\n",
       "count                  89710.000000\n",
       "dtype: float64"
      ]
     },
     "execution_count": 74,
     "metadata": {},
     "output_type": "execute_result"
    }
   ],
   "source": [
    "metric_frame.overall"
   ]
  },
  {
   "cell_type": "markdown",
   "id": "e968fe9d",
   "metadata": {
    "papermill": {
     "duration": 0.029117,
     "end_time": "2025-07-30T14:20:49.478136",
     "exception": false,
     "start_time": "2025-07-30T14:20:49.449019",
     "status": "completed"
    },
    "tags": []
   },
   "source": [
    "By Group"
   ]
  },
  {
   "cell_type": "code",
   "execution_count": 75,
   "id": "ec325bce",
   "metadata": {
    "execution": {
     "iopub.execute_input": "2025-07-30T14:20:49.536402Z",
     "iopub.status.busy": "2025-07-30T14:20:49.535872Z",
     "iopub.status.idle": "2025-07-30T14:20:49.551257Z",
     "shell.execute_reply": "2025-07-30T14:20:49.550320Z"
    },
    "papermill": {
     "duration": 0.047854,
     "end_time": "2025-07-30T14:20:49.552908",
     "exception": false,
     "start_time": "2025-07-30T14:20:49.505054",
     "status": "completed"
    },
    "tags": []
   },
   "outputs": [
    {
     "data": {
      "text/html": [
       "<div>\n",
       "<style scoped>\n",
       "    .dataframe tbody tr th:only-of-type {\n",
       "        vertical-align: middle;\n",
       "    }\n",
       "\n",
       "    .dataframe tbody tr th {\n",
       "        vertical-align: top;\n",
       "    }\n",
       "\n",
       "    .dataframe thead th {\n",
       "        text-align: right;\n",
       "    }\n",
       "</style>\n",
       "<table border=\"1\" class=\"dataframe\">\n",
       "  <thead>\n",
       "    <tr style=\"text-align: right;\">\n",
       "      <th></th>\n",
       "      <th>accuracy</th>\n",
       "      <th>balanced accuracy</th>\n",
       "      <th>f1</th>\n",
       "      <th>precision</th>\n",
       "      <th>false positive rate</th>\n",
       "      <th>false negative rate</th>\n",
       "      <th>selection rate</th>\n",
       "      <th>count</th>\n",
       "    </tr>\n",
       "    <tr>\n",
       "      <th>majmin</th>\n",
       "      <th></th>\n",
       "      <th></th>\n",
       "      <th></th>\n",
       "      <th></th>\n",
       "      <th></th>\n",
       "      <th></th>\n",
       "      <th></th>\n",
       "      <th></th>\n",
       "    </tr>\n",
       "  </thead>\n",
       "  <tbody>\n",
       "    <tr>\n",
       "      <th>majority</th>\n",
       "      <td>0.228596</td>\n",
       "      <td>0.534889</td>\n",
       "      <td>0.245781</td>\n",
       "      <td>0.141123</td>\n",
       "      <td>0.881426</td>\n",
       "      <td>0.048796</td>\n",
       "      <td>0.890646</td>\n",
       "      <td>69170.0</td>\n",
       "    </tr>\n",
       "    <tr>\n",
       "      <th>minority</th>\n",
       "      <td>0.176680</td>\n",
       "      <td>0.521291</td>\n",
       "      <td>0.213478</td>\n",
       "      <td>0.119950</td>\n",
       "      <td>0.926590</td>\n",
       "      <td>0.030828</td>\n",
       "      <td>0.931500</td>\n",
       "      <td>20540.0</td>\n",
       "    </tr>\n",
       "  </tbody>\n",
       "</table>\n",
       "</div>"
      ],
      "text/plain": [
       "          accuracy  balanced accuracy        f1  precision  \\\n",
       "majmin                                                       \n",
       "majority  0.228596           0.534889  0.245781   0.141123   \n",
       "minority  0.176680           0.521291  0.213478   0.119950   \n",
       "\n",
       "          false positive rate  false negative rate  selection rate    count  \n",
       "majmin                                                                       \n",
       "majority             0.881426             0.048796        0.890646  69170.0  \n",
       "minority             0.926590             0.030828        0.931500  20540.0  "
      ]
     },
     "execution_count": 75,
     "metadata": {},
     "output_type": "execute_result"
    }
   ],
   "source": [
    "metric_frame.by_group"
   ]
  },
  {
   "cell_type": "code",
   "execution_count": 76,
   "id": "a9ddbe63",
   "metadata": {
    "execution": {
     "iopub.execute_input": "2025-07-30T14:20:49.614346Z",
     "iopub.status.busy": "2025-07-30T14:20:49.613976Z",
     "iopub.status.idle": "2025-07-30T14:20:51.982485Z",
     "shell.execute_reply": "2025-07-30T14:20:51.981612Z"
    },
    "papermill": {
     "duration": 2.402107,
     "end_time": "2025-07-30T14:20:51.984203",
     "exception": false,
     "start_time": "2025-07-30T14:20:49.582096",
     "status": "completed"
    },
    "tags": []
   },
   "outputs": [
    {
     "data": {
      "text/plain": [
       "array([[<Axes: title={'center': 'accuracy'}, xlabel='majmin'>,\n",
       "        <Axes: title={'center': 'balanced accuracy'}, xlabel='majmin'>,\n",
       "        <Axes: title={'center': 'f1'}, xlabel='majmin'>],\n",
       "       [<Axes: title={'center': 'precision'}, xlabel='majmin'>,\n",
       "        <Axes: title={'center': 'false positive rate'}, xlabel='majmin'>,\n",
       "        <Axes: title={'center': 'false negative rate'}, xlabel='majmin'>],\n",
       "       [<Axes: title={'center': 'selection rate'}, xlabel='majmin'>,\n",
       "        <Axes: title={'center': 'count'}, xlabel='majmin'>,\n",
       "        <Axes: xlabel='majmin'>]], dtype=object)"
      ]
     },
     "execution_count": 76,
     "metadata": {},
     "output_type": "execute_result"
    },
    {
     "data": {
      "image/png": "[encoded data removed]",
      "text/plain": [
       "<Figure size 1200x800 with 9 Axes>"
      ]
     },
     "metadata": {},
     "output_type": "display_data"
    }
   ],
   "source": [
    "# In a graphic\n",
    "metric_frame.by_group.plot.bar(\n",
    "    subplots=True,\n",
    "    layout=[3, 3],\n",
    "    legend=False,\n",
    "    figsize=[12, 8],\n",
    "    title=\"Show all metrics\",\n",
    ")"
   ]
  },
  {
   "cell_type": "markdown",
   "id": "f57a0bac",
   "metadata": {
    "papermill": {
     "duration": 0.027566,
     "end_time": "2025-07-30T14:20:52.043626",
     "exception": false,
     "start_time": "2025-07-30T14:20:52.016060",
     "status": "completed"
    },
    "tags": []
   },
   "source": [
    "# Final Output"
   ]
  },
  {
   "cell_type": "code",
   "execution_count": 77,
   "id": "96d280a3",
   "metadata": {
    "execution": {
     "iopub.execute_input": "2025-07-30T14:20:52.101883Z",
     "iopub.status.busy": "2025-07-30T14:20:52.100804Z",
     "iopub.status.idle": "2025-07-30T14:20:52.109076Z",
     "shell.execute_reply": "2025-07-30T14:20:52.108093Z"
    },
    "papermill": {
     "duration": 0.037831,
     "end_time": "2025-07-30T14:20:52.110655",
     "exception": false,
     "start_time": "2025-07-30T14:20:52.072824",
     "status": "completed"
    },
    "tags": []
   },
   "outputs": [
    {
     "data": {
      "text/plain": [
       "4"
      ]
     },
     "execution_count": 77,
     "metadata": {},
     "output_type": "execute_result"
    }
   ],
   "source": [
    "sub_universes = universe_analysis.generate_sub_universes()\n",
    "len(sub_universes)"
   ]
  },
  {
   "cell_type": "code",
   "execution_count": 78,
   "id": "92adf7ba",
   "metadata": {
    "execution": {
     "iopub.execute_input": "2025-07-30T14:20:52.175504Z",
     "iopub.status.busy": "2025-07-30T14:20:52.174693Z",
     "iopub.status.idle": "2025-07-30T14:20:52.181354Z",
     "shell.execute_reply": "2025-07-30T14:20:52.180383Z"
    },
    "papermill": {
     "duration": 0.041148,
     "end_time": "2025-07-30T14:20:52.182986",
     "exception": false,
     "start_time": "2025-07-30T14:20:52.141838",
     "status": "completed"
    },
    "tags": []
   },
   "outputs": [],
   "source": [
    "def filter_sub_universe_data(sub_universe, org_test):\n",
    "    # Keep all rows — no filtering\n",
    "    keep_rows_mask = np.ones(org_test.shape[0], dtype=bool)\n",
    "\n",
    "    print(f\"[INFO] Keeping all rows: {keep_rows_mask.sum()} rows retained.\")\n",
    "    return keep_rows_mask"
   ]
  },
  {
   "cell_type": "code",
   "execution_count": 79,
   "id": "4a759155",
   "metadata": {
    "execution": {
     "iopub.execute_input": "2025-07-30T14:20:52.246328Z",
     "iopub.status.busy": "2025-07-30T14:20:52.245800Z",
     "iopub.status.idle": "2025-07-30T14:21:03.467525Z",
     "shell.execute_reply": "2025-07-30T14:21:03.466630Z"
    },
    "papermill": {
     "duration": 11.254321,
     "end_time": "2025-07-30T14:21:03.469169",
     "exception": false,
     "start_time": "2025-07-30T14:20:52.214848",
     "status": "completed"
    },
    "tags": []
   },
   "outputs": [
    {
     "name": "stdout",
     "output_type": "stream",
     "text": [
      "Stopping execution_time clock.\n",
      "[INFO] Keeping all rows: 89710 rows retained.\n"
     ]
    },
    {
     "name": "stdout",
     "output_type": "stream",
     "text": [
      "[INFO] Keeping all rows: 89710 rows retained.\n"
     ]
    },
    {
     "name": "stdout",
     "output_type": "stream",
     "text": [
      "[INFO] Keeping all rows: 89710 rows retained.\n"
     ]
    },
    {
     "name": "stdout",
     "output_type": "stream",
     "text": [
      "[INFO] Keeping all rows: 89710 rows retained.\n"
     ]
    },
    {
     "data": {
      "text/html": [
       "<div>\n",
       "<style scoped>\n",
       "    .dataframe tbody tr th:only-of-type {\n",
       "        vertical-align: middle;\n",
       "    }\n",
       "\n",
       "    .dataframe tbody tr th {\n",
       "        vertical-align: top;\n",
       "    }\n",
       "\n",
       "    .dataframe thead th {\n",
       "        text-align: right;\n",
       "    }\n",
       "</style>\n",
       "<table border=\"1\" class=\"dataframe\">\n",
       "  <thead>\n",
       "    <tr style=\"text-align: right;\">\n",
       "      <th></th>\n",
       "      <th>run_no</th>\n",
       "      <th>universe_id</th>\n",
       "      <th>universe_settings</th>\n",
       "      <th>execution_time</th>\n",
       "      <th>test_size_n</th>\n",
       "      <th>test_size_frac</th>\n",
       "      <th>fair_main_equalized_odds_difference</th>\n",
       "      <th>fair_main_equalized_odds_ratio</th>\n",
       "      <th>fair_main_demographic_parity_difference</th>\n",
       "      <th>fair_main_demographic_parity_ratio</th>\n",
       "      <th>...</th>\n",
       "      <th>perf_grp_precision_0</th>\n",
       "      <th>perf_grp_precision_1</th>\n",
       "      <th>perf_grp_false positive rate_0</th>\n",
       "      <th>perf_grp_false positive rate_1</th>\n",
       "      <th>perf_grp_false negative rate_0</th>\n",
       "      <th>perf_grp_false negative rate_1</th>\n",
       "      <th>perf_grp_selection rate_0</th>\n",
       "      <th>perf_grp_selection rate_1</th>\n",
       "      <th>perf_grp_count_0</th>\n",
       "      <th>perf_grp_count_1</th>\n",
       "    </tr>\n",
       "  </thead>\n",
       "  <tbody>\n",
       "    <tr>\n",
       "      <th>0</th>\n",
       "      <td>12</td>\n",
       "      <td>fb342841803b10b2bc2a9204520c4b57</td>\n",
       "      <td>{\"cutoff\": \"quantile_0.1\", \"eval_fairness_grou...</td>\n",
       "      <td>25.770385</td>\n",
       "      <td>89710</td>\n",
       "      <td>1.0</td>\n",
       "      <td>0.045164</td>\n",
       "      <td>0.951257</td>\n",
       "      <td>0.040853</td>\n",
       "      <td>0.956142</td>\n",
       "      <td>...</td>\n",
       "      <td>NaN</td>\n",
       "      <td>NaN</td>\n",
       "      <td>NaN</td>\n",
       "      <td>NaN</td>\n",
       "      <td>NaN</td>\n",
       "      <td>NaN</td>\n",
       "      <td>NaN</td>\n",
       "      <td>NaN</td>\n",
       "      <td>NaN</td>\n",
       "      <td>NaN</td>\n",
       "    </tr>\n",
       "    <tr>\n",
       "      <th>0</th>\n",
       "      <td>12</td>\n",
       "      <td>fb342841803b10b2bc2a9204520c4b57</td>\n",
       "      <td>{\"cutoff\": \"quantile_0.1\", \"eval_fairness_grou...</td>\n",
       "      <td>25.770385</td>\n",
       "      <td>89710</td>\n",
       "      <td>1.0</td>\n",
       "      <td>0.045164</td>\n",
       "      <td>0.951257</td>\n",
       "      <td>0.040853</td>\n",
       "      <td>0.956142</td>\n",
       "      <td>...</td>\n",
       "      <td>0.11995</td>\n",
       "      <td>0.141123</td>\n",
       "      <td>0.926590</td>\n",
       "      <td>0.881426</td>\n",
       "      <td>0.030828</td>\n",
       "      <td>0.048796</td>\n",
       "      <td>0.931500</td>\n",
       "      <td>0.890646</td>\n",
       "      <td>20540.0</td>\n",
       "      <td>69170.0</td>\n",
       "    </tr>\n",
       "    <tr>\n",
       "      <th>0</th>\n",
       "      <td>12</td>\n",
       "      <td>fb342841803b10b2bc2a9204520c4b57</td>\n",
       "      <td>{\"cutoff\": \"quantile_0.25\", \"eval_fairness_gro...</td>\n",
       "      <td>25.770385</td>\n",
       "      <td>89710</td>\n",
       "      <td>1.0</td>\n",
       "      <td>0.033099</td>\n",
       "      <td>0.956254</td>\n",
       "      <td>0.025717</td>\n",
       "      <td>0.966598</td>\n",
       "      <td>...</td>\n",
       "      <td>NaN</td>\n",
       "      <td>NaN</td>\n",
       "      <td>NaN</td>\n",
       "      <td>NaN</td>\n",
       "      <td>NaN</td>\n",
       "      <td>NaN</td>\n",
       "      <td>NaN</td>\n",
       "      <td>NaN</td>\n",
       "      <td>NaN</td>\n",
       "      <td>NaN</td>\n",
       "    </tr>\n",
       "    <tr>\n",
       "      <th>0</th>\n",
       "      <td>12</td>\n",
       "      <td>fb342841803b10b2bc2a9204520c4b57</td>\n",
       "      <td>{\"cutoff\": \"quantile_0.25\", \"eval_fairness_gro...</td>\n",
       "      <td>25.770385</td>\n",
       "      <td>89710</td>\n",
       "      <td>1.0</td>\n",
       "      <td>0.033099</td>\n",
       "      <td>0.956254</td>\n",
       "      <td>0.025717</td>\n",
       "      <td>0.966598</td>\n",
       "      <td>...</td>\n",
       "      <td>0.13058</td>\n",
       "      <td>0.156267</td>\n",
       "      <td>0.756604</td>\n",
       "      <td>0.723505</td>\n",
       "      <td>0.127956</td>\n",
       "      <td>0.119912</td>\n",
       "      <td>0.769912</td>\n",
       "      <td>0.744195</td>\n",
       "      <td>20540.0</td>\n",
       "      <td>69170.0</td>\n",
       "    </tr>\n",
       "  </tbody>\n",
       "</table>\n",
       "<p>4 rows × 50 columns</p>\n",
       "</div>"
      ],
      "text/plain": [
       "  run_no                       universe_id  \\\n",
       "0     12  fb342841803b10b2bc2a9204520c4b57   \n",
       "0     12  fb342841803b10b2bc2a9204520c4b57   \n",
       "0     12  fb342841803b10b2bc2a9204520c4b57   \n",
       "0     12  fb342841803b10b2bc2a9204520c4b57   \n",
       "\n",
       "                                   universe_settings  execution_time  \\\n",
       "0  {\"cutoff\": \"quantile_0.1\", \"eval_fairness_grou...       25.770385   \n",
       "0  {\"cutoff\": \"quantile_0.1\", \"eval_fairness_grou...       25.770385   \n",
       "0  {\"cutoff\": \"quantile_0.25\", \"eval_fairness_gro...       25.770385   \n",
       "0  {\"cutoff\": \"quantile_0.25\", \"eval_fairness_gro...       25.770385   \n",
       "\n",
       "   test_size_n  test_size_frac  fair_main_equalized_odds_difference  \\\n",
       "0        89710             1.0                             0.045164   \n",
       "0        89710             1.0                             0.045164   \n",
       "0        89710             1.0                             0.033099   \n",
       "0        89710             1.0                             0.033099   \n",
       "\n",
       "   fair_main_equalized_odds_ratio  fair_main_demographic_parity_difference  \\\n",
       "0                        0.951257                                 0.040853   \n",
       "0                        0.951257                                 0.040853   \n",
       "0                        0.956254                                 0.025717   \n",
       "0                        0.956254                                 0.025717   \n",
       "\n",
       "   fair_main_demographic_parity_ratio  ...  perf_grp_precision_0  \\\n",
       "0                            0.956142  ...                   NaN   \n",
       "0                            0.956142  ...               0.11995   \n",
       "0                            0.966598  ...                   NaN   \n",
       "0                            0.966598  ...               0.13058   \n",
       "\n",
       "   perf_grp_precision_1  perf_grp_false positive rate_0  \\\n",
       "0                   NaN                             NaN   \n",
       "0              0.141123                        0.926590   \n",
       "0                   NaN                             NaN   \n",
       "0              0.156267                        0.756604   \n",
       "\n",
       "   perf_grp_false positive rate_1  perf_grp_false negative rate_0  \\\n",
       "0                             NaN                             NaN   \n",
       "0                        0.881426                        0.030828   \n",
       "0                             NaN                             NaN   \n",
       "0                        0.723505                        0.127956   \n",
       "\n",
       "   perf_grp_false negative rate_1  perf_grp_selection rate_0  \\\n",
       "0                             NaN                        NaN   \n",
       "0                        0.048796                   0.931500   \n",
       "0                             NaN                        NaN   \n",
       "0                        0.119912                   0.769912   \n",
       "\n",
       "   perf_grp_selection rate_1  perf_grp_count_0  perf_grp_count_1  \n",
       "0                        NaN               NaN               NaN  \n",
       "0                   0.890646           20540.0           69170.0  \n",
       "0                        NaN               NaN               NaN  \n",
       "0                   0.744195           20540.0           69170.0  \n",
       "\n",
       "[4 rows x 50 columns]"
      ]
     },
     "execution_count": 79,
     "metadata": {},
     "output_type": "execute_result"
    }
   ],
   "source": [
    "final_output = universe_analysis.generate_final_output(\n",
    "    y_pred_prob=probs_test,\n",
    "    y_test=y_true,\n",
    "    org_test=org_test,\n",
    "    filter_data=filter_sub_universe_data,\n",
    "    cp_metrics_df=cp_metrics_df,\n",
    "    save=True,\n",
    ")\n",
    "final_output"
   ]
  },
  {
   "cell_type": "code",
   "execution_count": null,
   "id": "721ff514-cb11-46f8-b6fc-50392f74b5cb",
   "metadata": {
    "papermill": {
     "duration": 0.033848,
     "end_time": "2025-07-30T14:21:03.533039",
     "exception": false,
     "start_time": "2025-07-30T14:21:03.499191",
     "status": "completed"
    },
    "tags": []
   },
   "outputs": [],
   "source": []
  }
 ],
 "metadata": {
  "celltoolbar": "Tags",
  "kernelspec": {
   "display_name": "Python (CMA Fairness)",
   "language": "python",
   "name": "cma_fair_env"
  },
  "language_info": {
   "codemirror_mode": {
    "name": "ipython",
    "version": 3
   },
   "file_extension": ".py",
   "mimetype": "text/x-python",
   "name": "python",
   "nbconvert_exporter": "python",
   "pygments_lexer": "ipython3",
   "version": "3.10.12"
  },
  "papermill": {
   "default_parameters": {},
   "duration": 41.23462,
   "end_time": "2025-07-30T14:21:04.281928",
   "environment_variables": {},
   "exception": null,
   "input_path": "universe_analysis.ipynb",
   "output_path": "output/runs/12/notebooks/m_12-fb342841803b10b2bc2a9204520c4b57.ipynb",
   "parameters": {
    "output_dir": "output",
    "run_no": "12",
    "seed": "2023",
    "universe": "{\"cutoff\": [\"quantile_0.1\", \"quantile_0.25\"], \"eval_fairness_grouping\": [\"majority-minority\", \"nationality-all\"], \"exclude_features\": \"nationality-sex\", \"exclude_subgroups\": \"drop-non-german\", \"model\": \"penalized_logreg\", \"scale\": \"scale\", \"training_size\": \"1k\", \"training_year\": \"2014\"}",
    "universe_id": "fb342841803b10b2bc2a9204520c4b57"
   },
   "start_time": "2025-07-30T14:20:23.047308",
   "version": "2.6.0"
  }
 },
 "nbformat": 4,
 "nbformat_minor": 5
}