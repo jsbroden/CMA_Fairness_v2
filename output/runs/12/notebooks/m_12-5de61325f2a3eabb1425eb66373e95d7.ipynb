{
 "cells": [
  {
   "cell_type": "code",
   "execution_count": 1,
   "id": "f159f837-637b-42ba-96b5-ec9a68c44524",
   "metadata": {
    "execution": {
     "iopub.execute_input": "2025-07-30T13:55:28.348747Z",
     "iopub.status.busy": "2025-07-30T13:55:28.348188Z",
     "iopub.status.idle": "2025-07-30T13:55:28.361257Z",
     "shell.execute_reply": "2025-07-30T13:55:28.360199Z"
    },
    "papermill": {
     "duration": 0.037209,
     "end_time": "2025-07-30T13:55:28.363747",
     "exception": false,
     "start_time": "2025-07-30T13:55:28.326538",
     "status": "completed"
    },
    "tags": []
   },
   "outputs": [
    {
     "name": "stdout",
     "output_type": "stream",
     "text": [
      "/dss/dsshome1/0C/ra93lal2/cma/CMA_Fairness_v2\n"
     ]
    },
    {
     "name": "stderr",
     "output_type": "stream",
     "text": [
      "/dss/dsshome1/0C/ra93lal2/.local/share/virtualenvs/CMA_Fairness_v2-3j10GkSs/lib/python3.10/site-packages/IPython/core/magics/osm.py:393: UserWarning: This is now an optional IPython functionality, using bookmarks requires you to install the `pickleshare` library.\n",
      "  bkms = self.shell.db.get('bookmarks', {})\n",
      "/dss/dsshome1/0C/ra93lal2/.local/share/virtualenvs/CMA_Fairness_v2-3j10GkSs/lib/python3.10/site-packages/IPython/core/magics/osm.py:417: UserWarning: This is now an optional IPython functionality, setting dhist requires you to install the `pickleshare` library.\n",
      "  self.shell.db['dhist'] = compress_dhist(dhist)[-100:]\n"
     ]
    }
   ],
   "source": [
    "%cd ~/cma/CMA_Fairness_v2"
   ]
  },
  {
   "cell_type": "markdown",
   "id": "de2603b9",
   "metadata": {
    "papermill": {
     "duration": 0.019884,
     "end_time": "2025-07-30T13:55:28.404703",
     "exception": false,
     "start_time": "2025-07-30T13:55:28.384819",
     "status": "completed"
    },
    "tags": []
   },
   "source": [
    "The following cell holds the definition of our parameters, these values can be overriden by rendering the with e.g. the following command:\n",
    "\n",
    "papermill -p alpha 0.2 -p ratio 0.3 universe_analysis.ipynb output/test_run.ipynb"
   ]
  },
  {
   "cell_type": "code",
   "execution_count": 2,
   "id": "a80968a0-40bb-4fa9-85ef-2d5eefb01975",
   "metadata": {
    "execution": {
     "iopub.execute_input": "2025-07-30T13:55:28.447197Z",
     "iopub.status.busy": "2025-07-30T13:55:28.446288Z",
     "iopub.status.idle": "2025-07-30T13:55:28.452216Z",
     "shell.execute_reply": "2025-07-30T13:55:28.451216Z"
    },
    "papermill": {
     "duration": 0.028063,
     "end_time": "2025-07-30T13:55:28.453892",
     "exception": false,
     "start_time": "2025-07-30T13:55:28.425829",
     "status": "completed"
    },
    "tags": []
   },
   "outputs": [
    {
     "name": "stdout",
     "output_type": "stream",
     "text": [
      "Current working directory: /dss/dsshome1/0C/ra93lal2/cma/CMA_Fairness_v2\n"
     ]
    }
   ],
   "source": [
    "import os\n",
    "print(\"Current working directory:\", os.getcwd())"
   ]
  },
  {
   "cell_type": "code",
   "execution_count": 3,
   "id": "2dce4c03",
   "metadata": {
    "execution": {
     "iopub.execute_input": "2025-07-30T13:55:28.495641Z",
     "iopub.status.busy": "2025-07-30T13:55:28.495126Z",
     "iopub.status.idle": "2025-07-30T13:55:28.502190Z",
     "shell.execute_reply": "2025-07-30T13:55:28.501126Z"
    },
    "papermill": {
     "duration": 0.02967,
     "end_time": "2025-07-30T13:55:28.504108",
     "exception": false,
     "start_time": "2025-07-30T13:55:28.474438",
     "status": "completed"
    },
    "tags": [
     "parameters"
    ]
   },
   "outputs": [],
   "source": [
    "run_no = 0\n",
    "universe_id = \"test\"\n",
    "universe = {\n",
    "    \"training_size\": \"25k\", # \"25k\", \"5k\", \"1k\"\n",
    "    \"training_year\": \"2014\", # \"2014\", \"2012_14\", \"2010_14\"\n",
    "    \"scale\": \"scale\", # \"scale\", \"do-not-scale\",\n",
    "    #\"stratify_split\": \"target\", # \"none\", \"target\", \"protected-attribute\", \"both\",\n",
    "    \"model\": \"elasticnet\", # \"logreg\", \"penalized_logreg\", \"rf\", \"gbm\", \"elasticnet\"\n",
    "    \"cutoff\": [\"quantile_0.15\", \"quantile_0.30\"],\n",
    "    \"exclude_features\": \"age\", # \"none\", \"nationality\", \"sex\", \"nationality-sex\", \"age\"\n",
    "    \"exclude_subgroups\": \"keep-all\", # \"keep-all\", \"drop-non-german\"\n",
    "    \"eval_fairness_grouping\": [\"majority-minority\", \"nationality-all\"]\n",
    "}\n",
    "\n",
    "output_dir=\"./output\"\n",
    "seed=0"
   ]
  },
  {
   "cell_type": "code",
   "execution_count": 4,
   "id": "2aec9275",
   "metadata": {
    "execution": {
     "iopub.execute_input": "2025-07-30T13:55:28.545935Z",
     "iopub.status.busy": "2025-07-30T13:55:28.545392Z",
     "iopub.status.idle": "2025-07-30T13:55:28.553534Z",
     "shell.execute_reply": "2025-07-30T13:55:28.552596Z"
    },
    "papermill": {
     "duration": 0.030231,
     "end_time": "2025-07-30T13:55:28.555131",
     "exception": false,
     "start_time": "2025-07-30T13:55:28.524900",
     "status": "completed"
    },
    "tags": [
     "injected-parameters"
    ]
   },
   "outputs": [],
   "source": [
    "# Parameters\n",
    "universe_id = \"5de61325f2a3eabb1425eb66373e95d7\"\n",
    "run_no = \"12\"\n",
    "universe = \"{\\\"cutoff\\\": [\\\"quantile_0.1\\\", \\\"quantile_0.25\\\"], \\\"eval_fairness_grouping\\\": [\\\"majority-minority\\\", \\\"nationality-all\\\"], \\\"exclude_features\\\": \\\"age\\\", \\\"exclude_subgroups\\\": \\\"drop-non-german\\\", \\\"model\\\": \\\"penalized_logreg\\\", \\\"scale\\\": \\\"scale\\\", \\\"training_size\\\": \\\"5k\\\", \\\"training_year\\\": \\\"2012_14\\\"}\"\n",
    "output_dir = \"output\"\n",
    "seed = \"2023\"\n"
   ]
  },
  {
   "cell_type": "code",
   "execution_count": 5,
   "id": "1650acaf",
   "metadata": {
    "execution": {
     "iopub.execute_input": "2025-07-30T13:55:28.599971Z",
     "iopub.status.busy": "2025-07-30T13:55:28.599515Z",
     "iopub.status.idle": "2025-07-30T13:55:28.605498Z",
     "shell.execute_reply": "2025-07-30T13:55:28.604454Z"
    },
    "papermill": {
     "duration": 0.030346,
     "end_time": "2025-07-30T13:55:28.607594",
     "exception": false,
     "start_time": "2025-07-30T13:55:28.577248",
     "status": "completed"
    },
    "tags": []
   },
   "outputs": [],
   "source": [
    "import json\n",
    "# Parse universe into dict if it is passed as a string\n",
    "if isinstance(universe, str):\n",
    "    universe = json.loads(universe)"
   ]
  },
  {
   "cell_type": "code",
   "execution_count": 6,
   "id": "16620c48",
   "metadata": {
    "execution": {
     "iopub.execute_input": "2025-07-30T13:55:28.653842Z",
     "iopub.status.busy": "2025-07-30T13:55:28.652892Z",
     "iopub.status.idle": "2025-07-30T13:55:28.700286Z",
     "shell.execute_reply": "2025-07-30T13:55:28.699196Z"
    },
    "papermill": {
     "duration": 0.072143,
     "end_time": "2025-07-30T13:55:28.702363",
     "exception": false,
     "start_time": "2025-07-30T13:55:28.630220",
     "status": "completed"
    },
    "tags": []
   },
   "outputs": [],
   "source": [
    "# Auto-reload the custom package\n",
    "%load_ext autoreload\n",
    "%autoreload 1\n",
    "%aimport fairness_multiverse"
   ]
  },
  {
   "cell_type": "code",
   "execution_count": 7,
   "id": "01c5c9f3",
   "metadata": {
    "execution": {
     "iopub.execute_input": "2025-07-30T13:55:28.746568Z",
     "iopub.status.busy": "2025-07-30T13:55:28.746089Z",
     "iopub.status.idle": "2025-07-30T13:55:30.662879Z",
     "shell.execute_reply": "2025-07-30T13:55:30.661752Z"
    },
    "papermill": {
     "duration": 1.941215,
     "end_time": "2025-07-30T13:55:30.665068",
     "exception": false,
     "start_time": "2025-07-30T13:55:28.723853",
     "status": "completed"
    },
    "tags": []
   },
   "outputs": [],
   "source": [
    "from fairness_multiverse.universe import UniverseAnalysis\n",
    "\n",
    "universe_analysis = UniverseAnalysis(\n",
    "    run_no = run_no,\n",
    "    universe_id = universe_id,\n",
    "    universe = universe,\n",
    "    output_dir=output_dir,\n",
    ")"
   ]
  },
  {
   "cell_type": "code",
   "execution_count": 8,
   "id": "106241f5",
   "metadata": {
    "execution": {
     "iopub.execute_input": "2025-07-30T13:55:30.726921Z",
     "iopub.status.busy": "2025-07-30T13:55:30.726187Z",
     "iopub.status.idle": "2025-07-30T13:55:30.733345Z",
     "shell.execute_reply": "2025-07-30T13:55:30.732172Z"
    },
    "papermill": {
     "duration": 0.032247,
     "end_time": "2025-07-30T13:55:30.735205",
     "exception": false,
     "start_time": "2025-07-30T13:55:30.702958",
     "status": "completed"
    },
    "tags": []
   },
   "outputs": [
    {
     "name": "stdout",
     "output_type": "stream",
     "text": [
      "Using Seed: 2023\n"
     ]
    }
   ],
   "source": [
    "import numpy as np\n",
    "parsed_seed = int(seed)\n",
    "np.random.seed(parsed_seed)\n",
    "print(f\"Using Seed: {parsed_seed}\")"
   ]
  },
  {
   "cell_type": "markdown",
   "id": "e0ebdc57",
   "metadata": {
    "papermill": {
     "duration": 0.022116,
     "end_time": "2025-07-30T13:55:30.782335",
     "exception": false,
     "start_time": "2025-07-30T13:55:30.760219",
     "status": "completed"
    },
    "tags": []
   },
   "source": [
    "# Loading Data"
   ]
  },
  {
   "cell_type": "markdown",
   "id": "681925a3",
   "metadata": {
    "papermill": {
     "duration": 0.020984,
     "end_time": "2025-07-30T13:55:30.824780",
     "exception": false,
     "start_time": "2025-07-30T13:55:30.803796",
     "status": "completed"
    },
    "tags": []
   },
   "source": [
    "Load siab_train, siab_test, siab_calib and/or \n",
    "load siab_train_features, siab_train_labels"
   ]
  },
  {
   "cell_type": "code",
   "execution_count": 9,
   "id": "f0496b8a",
   "metadata": {
    "execution": {
     "iopub.execute_input": "2025-07-30T13:55:30.868701Z",
     "iopub.status.busy": "2025-07-30T13:55:30.867969Z",
     "iopub.status.idle": "2025-07-30T13:55:43.148704Z",
     "shell.execute_reply": "2025-07-30T13:55:43.147503Z"
    },
    "papermill": {
     "duration": 12.311663,
     "end_time": "2025-07-30T13:55:43.158077",
     "exception": false,
     "start_time": "2025-07-30T13:55:30.846414",
     "status": "completed"
    },
    "tags": []
   },
   "outputs": [
    {
     "name": "stdout",
     "output_type": "stream",
     "text": [
      "Loading SIAB data from cache: data/siab_cached.csv.gz\n"
     ]
    },
    {
     "name": "stdout",
     "output_type": "stream",
     "text": [
      "(643690, 164)\n"
     ]
    }
   ],
   "source": [
    "from pathlib import Path\n",
    "import pandas as pd\n",
    "\n",
    "# File paths\n",
    "raw_file = Path(\"data/raw/siab.csv\")\n",
    "cache_file = Path(\"data/siab_cached.csv.gz\")\n",
    "\n",
    "# Ensure cache directory exists\n",
    "cache_file.parent.mkdir(parents=True, exist_ok=True)\n",
    "\n",
    "# Load with simple caching\n",
    "if cache_file.exists():\n",
    "    print(f\"Loading SIAB data from cache: {cache_file}\")\n",
    "    siab = pd.read_csv(cache_file, compression='gzip')\n",
    "else:\n",
    "    print(f\"Cache not found. Reading raw SIAB data: {raw_file}\")\n",
    "    siab = pd.read_csv(raw_file)\n",
    "    siab.to_csv(cache_file, index=False, compression='gzip')\n",
    "    print(f\"Cached SIAB data to: {cache_file}\")\n",
    "\n",
    "# Now use `siab` DataFrame as needed\n",
    "print(siab.shape)"
   ]
  },
  {
   "cell_type": "code",
   "execution_count": 10,
   "id": "db0ca512-5f53-4dba-abdb-a2888bca41ba",
   "metadata": {
    "execution": {
     "iopub.execute_input": "2025-07-30T13:55:43.186377Z",
     "iopub.status.busy": "2025-07-30T13:55:43.185957Z",
     "iopub.status.idle": "2025-07-30T13:55:43.191321Z",
     "shell.execute_reply": "2025-07-30T13:55:43.190393Z"
    },
    "papermill": {
     "duration": 0.019808,
     "end_time": "2025-07-30T13:55:43.192643",
     "exception": false,
     "start_time": "2025-07-30T13:55:43.172835",
     "status": "completed"
    },
    "tags": []
   },
   "outputs": [],
   "source": [
    "#siab"
   ]
  },
  {
   "cell_type": "code",
   "execution_count": 11,
   "id": "a0edb063",
   "metadata": {
    "execution": {
     "iopub.execute_input": "2025-07-30T13:55:43.223065Z",
     "iopub.status.busy": "2025-07-30T13:55:43.222603Z",
     "iopub.status.idle": "2025-07-30T13:55:43.227547Z",
     "shell.execute_reply": "2025-07-30T13:55:43.226513Z"
    },
    "papermill": {
     "duration": 0.024799,
     "end_time": "2025-07-30T13:55:43.229626",
     "exception": false,
     "start_time": "2025-07-30T13:55:43.204827",
     "status": "completed"
    },
    "tags": []
   },
   "outputs": [],
   "source": [
    "#import pandas as pd\n",
    "#\n",
    "#X_train = pd.read_csv(\"./data/X_train.csv\")\n",
    "#y_train = pd.read_csv(\"./data/y_train.csv\")"
   ]
  },
  {
   "cell_type": "code",
   "execution_count": 12,
   "id": "63d08085",
   "metadata": {
    "execution": {
     "iopub.execute_input": "2025-07-30T13:55:43.263252Z",
     "iopub.status.busy": "2025-07-30T13:55:43.262819Z",
     "iopub.status.idle": "2025-07-30T13:55:43.267238Z",
     "shell.execute_reply": "2025-07-30T13:55:43.266334Z"
    },
    "papermill": {
     "duration": 0.017872,
     "end_time": "2025-07-30T13:55:43.269075",
     "exception": false,
     "start_time": "2025-07-30T13:55:43.251203",
     "status": "completed"
    },
    "tags": []
   },
   "outputs": [],
   "source": [
    "#X_test = pd.read_csv(\"./data/X_test.csv\")\n",
    "#y_true = pd.read_csv(\"./data/y_test.csv\")"
   ]
  },
  {
   "cell_type": "code",
   "execution_count": 13,
   "id": "98a8d0fa-1d3d-4ed8-bb2c-281470e24add",
   "metadata": {
    "execution": {
     "iopub.execute_input": "2025-07-30T13:55:43.315477Z",
     "iopub.status.busy": "2025-07-30T13:55:43.315028Z",
     "iopub.status.idle": "2025-07-30T13:55:43.319599Z",
     "shell.execute_reply": "2025-07-30T13:55:43.318674Z"
    },
    "papermill": {
     "duration": 0.02965,
     "end_time": "2025-07-30T13:55:43.321098",
     "exception": false,
     "start_time": "2025-07-30T13:55:43.291448",
     "status": "completed"
    },
    "tags": []
   },
   "outputs": [],
   "source": [
    "# Calibration data for conformal\n",
    "#X_calib = pd.read_csv(\"./data/X_calib.csv\")\n",
    "#y_calib = pd.read_csv(\"./data/y_calib.csv\")"
   ]
  },
  {
   "cell_type": "markdown",
   "id": "997051c5-15bd-4b69-9786-c3001a3ce484",
   "metadata": {
    "papermill": {
     "duration": 0.019084,
     "end_time": "2025-07-30T13:55:43.361909",
     "exception": false,
     "start_time": "2025-07-30T13:55:43.342825",
     "status": "completed"
    },
    "tags": []
   },
   "source": [
    "# Splitting Data and Setting Training Data Size"
   ]
  },
  {
   "cell_type": "code",
   "execution_count": 14,
   "id": "e993b61f-042d-41a6-8c81-f55681f86335",
   "metadata": {
    "execution": {
     "iopub.execute_input": "2025-07-30T13:55:43.403047Z",
     "iopub.status.busy": "2025-07-30T13:55:43.402672Z",
     "iopub.status.idle": "2025-07-30T13:55:43.413165Z",
     "shell.execute_reply": "2025-07-30T13:55:43.412495Z"
    },
    "papermill": {
     "duration": 0.029467,
     "end_time": "2025-07-30T13:55:43.414400",
     "exception": false,
     "start_time": "2025-07-30T13:55:43.384933",
     "status": "completed"
    },
    "tags": []
   },
   "outputs": [],
   "source": [
    "def sample_by_year_size(df,\n",
    "                        training_year: str,\n",
    "                        training_size: str,\n",
    "                        random_state: int = 42):\n",
    "    # --- parse training_year into a list of int years ---\n",
    "    if \"_\" in training_year:\n",
    "        start_str, end_str = training_year.split(\"_\", 1)\n",
    "        start = int(start_str)\n",
    "        end   = int(end_str) if len(end_str) == 4 else (int(end_str) + (start // 100)*100)\n",
    "        years = list(range(start, end + 1))\n",
    "    else:\n",
    "        years = [int(training_year)]\n",
    "\n",
    "    df = df[df[\"year\"].isin(years)].reset_index(drop=True)\n",
    "\n",
    "    # --- map training_size to total number of samples ---\n",
    "    total_map = {\"25k\": 25_000, \"5k\": 5_000, \"1k\": 1_000}\n",
    "    if training_size not in total_map:\n",
    "        return df  # e.g. \"all\"\n",
    "\n",
    "    total_samples = total_map[training_size]\n",
    "    n_years       = len(years)\n",
    "    base          = total_samples // n_years\n",
    "    remainder     = total_samples % n_years\n",
    "\n",
    "    # --- build a dict: year -> how many to sample ---\n",
    "    # give +1 to the first `remainder` years in ascending order\n",
    "    quotas = {\n",
    "        year: base + (1 if idx < remainder else 0)\n",
    "        for idx, year in enumerate(sorted(years))\n",
    "    }\n",
    "\n",
    "    # --- sample per‐year according to the quota dict ---\n",
    "    sampled = (\n",
    "        df\n",
    "        .groupby(\"year\", group_keys=False)\n",
    "        .apply(lambda grp: grp.sample(\n",
    "            n=min(len(grp), quotas[grp.name]),\n",
    "            random_state=random_state))\n",
    "        .reset_index(drop=True)\n",
    "    )\n",
    "\n",
    "    return sampled"
   ]
  },
  {
   "cell_type": "code",
   "execution_count": 15,
   "id": "c0ccd338-0e02-41f3-a09d-f56f9266e3fb",
   "metadata": {
    "execution": {
     "iopub.execute_input": "2025-07-30T13:55:43.456227Z",
     "iopub.status.busy": "2025-07-30T13:55:43.455632Z",
     "iopub.status.idle": "2025-07-30T13:55:43.468240Z",
     "shell.execute_reply": "2025-07-30T13:55:43.467229Z"
    },
    "papermill": {
     "duration": 0.034927,
     "end_time": "2025-07-30T13:55:43.470065",
     "exception": false,
     "start_time": "2025-07-30T13:55:43.435138",
     "status": "completed"
    },
    "tags": []
   },
   "outputs": [
    {
     "data": {
      "text/plain": [
       "'5k'"
      ]
     },
     "execution_count": 15,
     "metadata": {},
     "output_type": "execute_result"
    }
   ],
   "source": [
    "universe[\"training_size\"]"
   ]
  },
  {
   "cell_type": "code",
   "execution_count": 16,
   "id": "ca707fd7-8047-4acd-bfa5-66248fbbf8e6",
   "metadata": {
    "execution": {
     "iopub.execute_input": "2025-07-30T13:55:43.517447Z",
     "iopub.status.busy": "2025-07-30T13:55:43.516988Z",
     "iopub.status.idle": "2025-07-30T13:55:43.525930Z",
     "shell.execute_reply": "2025-07-30T13:55:43.524869Z"
    },
    "papermill": {
     "duration": 0.034834,
     "end_time": "2025-07-30T13:55:43.527971",
     "exception": false,
     "start_time": "2025-07-30T13:55:43.493137",
     "status": "completed"
    },
    "tags": []
   },
   "outputs": [
    {
     "data": {
      "text/plain": [
       "'2012_14'"
      ]
     },
     "execution_count": 16,
     "metadata": {},
     "output_type": "execute_result"
    }
   ],
   "source": [
    "universe[\"training_year\"]"
   ]
  },
  {
   "cell_type": "code",
   "execution_count": 17,
   "id": "aea9c6ef-6f46-42c8-85eb-5a62025c1508",
   "metadata": {
    "execution": {
     "iopub.execute_input": "2025-07-30T13:55:43.582981Z",
     "iopub.status.busy": "2025-07-30T13:55:43.581946Z",
     "iopub.status.idle": "2025-07-30T13:55:44.188260Z",
     "shell.execute_reply": "2025-07-30T13:55:44.187266Z"
    },
    "papermill": {
     "duration": 0.635998,
     "end_time": "2025-07-30T13:55:44.190304",
     "exception": false,
     "start_time": "2025-07-30T13:55:43.554306",
     "status": "completed"
    },
    "tags": []
   },
   "outputs": [],
   "source": [
    "siab_train = sample_by_year_size(siab,\n",
    "                               training_year=universe[\"training_year\"],\n",
    "                               training_size=universe[\"training_size\"])"
   ]
  },
  {
   "cell_type": "code",
   "execution_count": 18,
   "id": "8d3afb32-789d-442c-8d5d-9f5aa8dd2eed",
   "metadata": {
    "execution": {
     "iopub.execute_input": "2025-07-30T13:55:44.241250Z",
     "iopub.status.busy": "2025-07-30T13:55:44.240672Z",
     "iopub.status.idle": "2025-07-30T13:55:44.249059Z",
     "shell.execute_reply": "2025-07-30T13:55:44.247815Z"
    },
    "papermill": {
     "duration": 0.036688,
     "end_time": "2025-07-30T13:55:44.251076",
     "exception": false,
     "start_time": "2025-07-30T13:55:44.214388",
     "status": "completed"
    },
    "tags": []
   },
   "outputs": [
    {
     "data": {
      "text/plain": [
       "(5000, 164)"
      ]
     },
     "execution_count": 18,
     "metadata": {},
     "output_type": "execute_result"
    }
   ],
   "source": [
    "siab_train.shape"
   ]
  },
  {
   "cell_type": "code",
   "execution_count": 19,
   "id": "d582db68-1a4c-47fb-84fc-08518dc1975a",
   "metadata": {
    "execution": {
     "iopub.execute_input": "2025-07-30T13:55:44.311116Z",
     "iopub.status.busy": "2025-07-30T13:55:44.310368Z",
     "iopub.status.idle": "2025-07-30T13:55:44.321099Z",
     "shell.execute_reply": "2025-07-30T13:55:44.319955Z"
    },
    "papermill": {
     "duration": 0.042508,
     "end_time": "2025-07-30T13:55:44.323008",
     "exception": false,
     "start_time": "2025-07-30T13:55:44.280500",
     "status": "completed"
    },
    "tags": []
   },
   "outputs": [
    {
     "data": {
      "text/plain": [
       "year\n",
       "2012    1667\n",
       "2013    1667\n",
       "2014    1666\n",
       "dtype: int64"
      ]
     },
     "metadata": {},
     "output_type": "display_data"
    }
   ],
   "source": [
    "display(siab_train.groupby(\"year\").size())"
   ]
  },
  {
   "cell_type": "code",
   "execution_count": 20,
   "id": "a561edb4-d032-42cb-8256-22eac1111c64",
   "metadata": {
    "execution": {
     "iopub.execute_input": "2025-07-30T13:55:44.382846Z",
     "iopub.status.busy": "2025-07-30T13:55:44.382146Z",
     "iopub.status.idle": "2025-07-30T13:55:44.659934Z",
     "shell.execute_reply": "2025-07-30T13:55:44.658970Z"
    },
    "papermill": {
     "duration": 0.310102,
     "end_time": "2025-07-30T13:55:44.661977",
     "exception": false,
     "start_time": "2025-07-30T13:55:44.351875",
     "status": "completed"
    },
    "tags": []
   },
   "outputs": [],
   "source": [
    "#siab_train = siab_s[siab_s.year < 2015]\n",
    "siab_calib = siab[siab.year == 2015]\n",
    "siab_test = siab[siab.year == 2016]"
   ]
  },
  {
   "cell_type": "code",
   "execution_count": 21,
   "id": "472de16f-c3db-4916-846b-1f0de9cf1746",
   "metadata": {
    "execution": {
     "iopub.execute_input": "2025-07-30T13:55:44.725150Z",
     "iopub.status.busy": "2025-07-30T13:55:44.724261Z",
     "iopub.status.idle": "2025-07-30T13:55:44.733046Z",
     "shell.execute_reply": "2025-07-30T13:55:44.731942Z"
    },
    "papermill": {
     "duration": 0.035924,
     "end_time": "2025-07-30T13:55:44.734882",
     "exception": false,
     "start_time": "2025-07-30T13:55:44.698958",
     "status": "completed"
    },
    "tags": []
   },
   "outputs": [],
   "source": [
    "X_train = siab_train.iloc[:,4:164]\n",
    "y_train = siab_train.iloc[:, [3]]"
   ]
  },
  {
   "cell_type": "code",
   "execution_count": 22,
   "id": "828c96af-f43a-4ed6-ba47-8ac73a47d56c",
   "metadata": {
    "execution": {
     "iopub.execute_input": "2025-07-30T13:55:44.783891Z",
     "iopub.status.busy": "2025-07-30T13:55:44.783116Z",
     "iopub.status.idle": "2025-07-30T13:55:44.835429Z",
     "shell.execute_reply": "2025-07-30T13:55:44.834400Z"
    },
    "papermill": {
     "duration": 0.07833,
     "end_time": "2025-07-30T13:55:44.837324",
     "exception": false,
     "start_time": "2025-07-30T13:55:44.758994",
     "status": "completed"
    },
    "tags": []
   },
   "outputs": [],
   "source": [
    "X_calib = siab_calib.iloc[:,4:164]\n",
    "y_calib = siab_calib.iloc[:, [3]]"
   ]
  },
  {
   "cell_type": "code",
   "execution_count": 23,
   "id": "c34be9c3-6bd6-476e-acd3-845840e303be",
   "metadata": {
    "execution": {
     "iopub.execute_input": "2025-07-30T13:55:44.881177Z",
     "iopub.status.busy": "2025-07-30T13:55:44.880468Z",
     "iopub.status.idle": "2025-07-30T13:55:44.935515Z",
     "shell.execute_reply": "2025-07-30T13:55:44.934608Z"
    },
    "papermill": {
     "duration": 0.078268,
     "end_time": "2025-07-30T13:55:44.937390",
     "exception": false,
     "start_time": "2025-07-30T13:55:44.859122",
     "status": "completed"
    },
    "tags": []
   },
   "outputs": [],
   "source": [
    "X_test = siab_test.iloc[:,4:164]\n",
    "y_true = siab_test.iloc[:, [3]]"
   ]
  },
  {
   "cell_type": "markdown",
   "id": "9901737e-04df-44f0-9100-f5ad144ed040",
   "metadata": {
    "papermill": {
     "duration": 0.022651,
     "end_time": "2025-07-30T13:55:44.984011",
     "exception": false,
     "start_time": "2025-07-30T13:55:44.961360",
     "status": "completed"
    },
    "tags": []
   },
   "source": [
    "# Splitting Data and Setting Training Data Size OLD VERSION"
   ]
  },
  {
   "cell_type": "code",
   "execution_count": 24,
   "id": "acbc8f7d-8fc8-4e86-8c59-5dcb0f58384b",
   "metadata": {
    "execution": {
     "iopub.execute_input": "2025-07-30T13:55:45.029383Z",
     "iopub.status.busy": "2025-07-30T13:55:45.028839Z",
     "iopub.status.idle": "2025-07-30T13:55:45.035184Z",
     "shell.execute_reply": "2025-07-30T13:55:45.034158Z"
    },
    "papermill": {
     "duration": 0.030919,
     "end_time": "2025-07-30T13:55:45.037189",
     "exception": false,
     "start_time": "2025-07-30T13:55:45.006270",
     "status": "completed"
    },
    "tags": []
   },
   "outputs": [],
   "source": [
    "#def sample_by_year(df, training_size, random_state=42):\n",
    "#    if training_size == \"2014\":\n",
    "#        return df[df[\"year\"] == 2014].reset_index(drop=True)\n",
    "#    \n",
    "#    size_map = {\n",
    "#        \"25k\": 5000,\n",
    "#        \"5k\": 1000,\n",
    "#        \"1k\": 200\n",
    "#    }\n",
    "#\n",
    "#    if training_size not in size_map:\n",
    "#        return df.reset_index(drop=True)  # use all data\n",
    "#\n",
    "#    n_per_year = size_map[training_size]\n",
    "#    grouped = df.groupby(\"year\")\n",
    "#    sampled = grouped.apply(lambda x: x.sample(n=min(n_per_year, len(x)), random_state=random_state))\n",
    "#    return sampled.reset_index(drop=True)"
   ]
  },
  {
   "cell_type": "code",
   "execution_count": 25,
   "id": "6d931f52-beaf-43ff-9e78-9d44a448d54e",
   "metadata": {
    "execution": {
     "iopub.execute_input": "2025-07-30T13:55:45.082860Z",
     "iopub.status.busy": "2025-07-30T13:55:45.082415Z",
     "iopub.status.idle": "2025-07-30T13:55:45.087413Z",
     "shell.execute_reply": "2025-07-30T13:55:45.086424Z"
    },
    "papermill": {
     "duration": 0.029222,
     "end_time": "2025-07-30T13:55:45.089288",
     "exception": false,
     "start_time": "2025-07-30T13:55:45.060066",
     "status": "completed"
    },
    "tags": []
   },
   "outputs": [],
   "source": [
    "#siab_s = sample_by_year(siab, universe[\"training_size\"])"
   ]
  },
  {
   "cell_type": "code",
   "execution_count": 26,
   "id": "5db0a40e-a4e2-4920-be85-b12ae061d70d",
   "metadata": {
    "execution": {
     "iopub.execute_input": "2025-07-30T13:55:45.135771Z",
     "iopub.status.busy": "2025-07-30T13:55:45.134951Z",
     "iopub.status.idle": "2025-07-30T13:55:45.140323Z",
     "shell.execute_reply": "2025-07-30T13:55:45.139298Z"
    },
    "papermill": {
     "duration": 0.030617,
     "end_time": "2025-07-30T13:55:45.142107",
     "exception": false,
     "start_time": "2025-07-30T13:55:45.111490",
     "status": "completed"
    },
    "tags": []
   },
   "outputs": [],
   "source": [
    "#display(siab_s.groupby(\"year\").size())"
   ]
  },
  {
   "cell_type": "code",
   "execution_count": 27,
   "id": "e6c733c5",
   "metadata": {
    "execution": {
     "iopub.execute_input": "2025-07-30T13:55:45.188277Z",
     "iopub.status.busy": "2025-07-30T13:55:45.187613Z",
     "iopub.status.idle": "2025-07-30T13:55:45.252003Z",
     "shell.execute_reply": "2025-07-30T13:55:45.251100Z"
    },
    "papermill": {
     "duration": 0.089987,
     "end_time": "2025-07-30T13:55:45.253936",
     "exception": false,
     "start_time": "2025-07-30T13:55:45.163949",
     "status": "completed"
    },
    "tags": []
   },
   "outputs": [],
   "source": [
    "# Auxiliary data needed downstream in the pipeline\n",
    "\n",
    "org_train = X_train.copy()\n",
    "org_test = X_test.copy()\n",
    "org_calib = X_calib.copy()"
   ]
  },
  {
   "cell_type": "code",
   "execution_count": 28,
   "id": "1466abac-c6da-4492-a62f-4240ae3783af",
   "metadata": {
    "execution": {
     "iopub.execute_input": "2025-07-30T13:55:45.301044Z",
     "iopub.status.busy": "2025-07-30T13:55:45.300079Z",
     "iopub.status.idle": "2025-07-30T13:55:45.305936Z",
     "shell.execute_reply": "2025-07-30T13:55:45.304936Z"
    },
    "papermill": {
     "duration": 0.031583,
     "end_time": "2025-07-30T13:55:45.307697",
     "exception": false,
     "start_time": "2025-07-30T13:55:45.276114",
     "status": "completed"
    },
    "tags": []
   },
   "outputs": [],
   "source": [
    "# put in other script?\n",
    "# Group sizes\n",
    "\n",
    "#def calculate_percentages(df, df_name):\n",
    "#    total_entries = len(df)\n",
    "#\n",
    "#    female_pct = (df['frau1'] == 1).mean() * 100\n",
    "#    non_german_pct = ((df['maxdeutsch1'] == 0) & (df['maxdeutsch.Missing.'] == 0)).mean() * 100\n",
    "#    non_german_male_pct = ((df['frau1'] == 0) & (df['maxdeutsch1'] == 0) & (df['maxdeutsch.Missing.'] == 0)).mean() * 100\n",
    "#    non_german_female_pct = ((df['frau1'] == 1) & (df['maxdeutsch1'] == 0) & (df['maxdeutsch.Missing.'] == 0)).mean() * 100\n",
    "#\n",
    "#    print(f\"--- {df_name} ---\")\n",
    "#    print(f\"Female: {female_pct:.2f}%\")\n",
    "#    print(f\"Non-German: {non_german_pct:.2f}%\")\n",
    "#    print(f\"Non-German Male: {non_german_male_pct:.2f}%\")\n",
    "#    print(f\"Non-German Female: {non_german_female_pct:.2f}%\\n\")\n",
    "#\n",
    "## Calculate for each DataFrame\n",
    "#calculate_percentages(siab_calib, \"siab_calib\")\n",
    "#calculate_percentages(siab_test, \"siab_test\")\n",
    "#calculate_percentages(siab_train, \"siab_train\")"
   ]
  },
  {
   "cell_type": "markdown",
   "id": "0a4a1b33",
   "metadata": {
    "papermill": {
     "duration": 0.023682,
     "end_time": "2025-07-30T13:55:45.355648",
     "exception": false,
     "start_time": "2025-07-30T13:55:45.331966",
     "status": "completed"
    },
    "tags": []
   },
   "source": [
    "# Preprocessing Data"
   ]
  },
  {
   "cell_type": "code",
   "execution_count": 29,
   "id": "ca879031",
   "metadata": {
    "execution": {
     "iopub.execute_input": "2025-07-30T13:55:45.404777Z",
     "iopub.status.busy": "2025-07-30T13:55:45.403747Z",
     "iopub.status.idle": "2025-07-30T13:55:45.410134Z",
     "shell.execute_reply": "2025-07-30T13:55:45.409259Z"
    },
    "papermill": {
     "duration": 0.032838,
     "end_time": "2025-07-30T13:55:45.411826",
     "exception": false,
     "start_time": "2025-07-30T13:55:45.378988",
     "status": "completed"
    },
    "tags": []
   },
   "outputs": [],
   "source": [
    "# EXCLUDE PROTECTED FEATURES\n",
    "# ----------------------\n",
    "# \"exclude_features\": \"none\", # \"nationality\", \"sex\", \"nationality-sex\"\n",
    "\n",
    "excluded_features = universe[\"exclude_features\"].split(\"-\") # split, e.g.: \"nationality-sex\" -> [\"nationality\", \"sex\"]\n",
    "excluded_features_dictionary = {\n",
    "    \"nationality\": [\"maxdeutsch1\", \"maxdeutsch.Missing.\"],\n",
    "    \"sex\": [\"frau1\"],\n",
    "    \"age\": [\"age\"],\n",
    "}\n"
   ]
  },
  {
   "cell_type": "code",
   "execution_count": 30,
   "id": "b745ac60",
   "metadata": {
    "execution": {
     "iopub.execute_input": "2025-07-30T13:55:45.465095Z",
     "iopub.status.busy": "2025-07-30T13:55:45.464734Z",
     "iopub.status.idle": "2025-07-30T13:55:45.470431Z",
     "shell.execute_reply": "2025-07-30T13:55:45.469437Z"
    },
    "papermill": {
     "duration": 0.04047,
     "end_time": "2025-07-30T13:55:45.472223",
     "exception": false,
     "start_time": "2025-07-30T13:55:45.431753",
     "status": "completed"
    },
    "tags": []
   },
   "outputs": [],
   "source": [
    "# Code nice names to column names\n",
    "\n",
    "excluded_features_columns = [\n",
    "    excluded_features_dictionary[f] for f in excluded_features if len(f) > 0 and f != \"none\"\n",
    "]"
   ]
  },
  {
   "cell_type": "code",
   "execution_count": 31,
   "id": "f84f73a2",
   "metadata": {
    "execution": {
     "iopub.execute_input": "2025-07-30T13:55:45.521966Z",
     "iopub.status.busy": "2025-07-30T13:55:45.521274Z",
     "iopub.status.idle": "2025-07-30T13:55:45.527815Z",
     "shell.execute_reply": "2025-07-30T13:55:45.526745Z"
    },
    "papermill": {
     "duration": 0.032937,
     "end_time": "2025-07-30T13:55:45.529632",
     "exception": false,
     "start_time": "2025-07-30T13:55:45.496695",
     "status": "completed"
    },
    "tags": []
   },
   "outputs": [],
   "source": [
    "from utils import flatten_once\n",
    "\n",
    "excluded_features_columns = flatten_once(excluded_features_columns)"
   ]
  },
  {
   "cell_type": "code",
   "execution_count": 32,
   "id": "884dea22",
   "metadata": {
    "execution": {
     "iopub.execute_input": "2025-07-30T13:55:45.577602Z",
     "iopub.status.busy": "2025-07-30T13:55:45.576846Z",
     "iopub.status.idle": "2025-07-30T13:55:45.586109Z",
     "shell.execute_reply": "2025-07-30T13:55:45.585026Z"
    },
    "papermill": {
     "duration": 0.03367,
     "end_time": "2025-07-30T13:55:45.587862",
     "exception": false,
     "start_time": "2025-07-30T13:55:45.554192",
     "status": "completed"
    },
    "tags": []
   },
   "outputs": [
    {
     "name": "stdout",
     "output_type": "stream",
     "text": [
      "Dropping features: ['age']\n"
     ]
    }
   ],
   "source": [
    "if len(excluded_features_columns) > 0:\n",
    "    print(f\"Dropping features: {excluded_features_columns}\")\n",
    "    X_train.drop(excluded_features_columns, axis=1, inplace=True)"
   ]
  },
  {
   "cell_type": "code",
   "execution_count": 33,
   "id": "95ab8b16",
   "metadata": {
    "execution": {
     "iopub.execute_input": "2025-07-30T13:55:45.634789Z",
     "iopub.status.busy": "2025-07-30T13:55:45.634029Z",
     "iopub.status.idle": "2025-07-30T13:55:45.699574Z",
     "shell.execute_reply": "2025-07-30T13:55:45.698274Z"
    },
    "papermill": {
     "duration": 0.088636,
     "end_time": "2025-07-30T13:55:45.701308",
     "exception": false,
     "start_time": "2025-07-30T13:55:45.612672",
     "status": "completed"
    },
    "tags": []
   },
   "outputs": [
    {
     "name": "stdout",
     "output_type": "stream",
     "text": [
      "Dropping features: ['age']\n"
     ]
    }
   ],
   "source": [
    "if len(excluded_features_columns) > 0:\n",
    "    print(f\"Dropping features: {excluded_features_columns}\")\n",
    "    X_test.drop(excluded_features_columns, axis=1, inplace=True)"
   ]
  },
  {
   "cell_type": "code",
   "execution_count": 34,
   "id": "1853aaf5-fb9f-46cb-a2b5-8ea4ae2237e4",
   "metadata": {
    "execution": {
     "iopub.execute_input": "2025-07-30T13:55:45.756427Z",
     "iopub.status.busy": "2025-07-30T13:55:45.755922Z",
     "iopub.status.idle": "2025-07-30T13:55:45.825098Z",
     "shell.execute_reply": "2025-07-30T13:55:45.823657Z"
    },
    "papermill": {
     "duration": 0.096277,
     "end_time": "2025-07-30T13:55:45.826369",
     "exception": false,
     "start_time": "2025-07-30T13:55:45.730092",
     "status": "completed"
    },
    "tags": []
   },
   "outputs": [
    {
     "name": "stdout",
     "output_type": "stream",
     "text": [
      "Dropping features: ['age']\n"
     ]
    }
   ],
   "source": [
    "if len(excluded_features_columns) > 0:\n",
    "    print(f\"Dropping features: {excluded_features_columns}\")\n",
    "    X_calib.drop(excluded_features_columns, axis=1, inplace=True)"
   ]
  },
  {
   "cell_type": "code",
   "execution_count": 35,
   "id": "6727d079-03e5-481e-9d38-292a90b7a0a8",
   "metadata": {
    "execution": {
     "iopub.execute_input": "2025-07-30T13:55:45.853055Z",
     "iopub.status.busy": "2025-07-30T13:55:45.852560Z",
     "iopub.status.idle": "2025-07-30T13:55:45.856917Z",
     "shell.execute_reply": "2025-07-30T13:55:45.856225Z"
    },
    "papermill": {
     "duration": 0.018375,
     "end_time": "2025-07-30T13:55:45.858222",
     "exception": false,
     "start_time": "2025-07-30T13:55:45.839847",
     "status": "completed"
    },
    "tags": []
   },
   "outputs": [],
   "source": [
    "# SPLIT & STRATIFY DATA\n",
    "# ----------------------"
   ]
  },
  {
   "cell_type": "code",
   "execution_count": 36,
   "id": "76c4dc6d",
   "metadata": {
    "execution": {
     "iopub.execute_input": "2025-07-30T13:55:45.888787Z",
     "iopub.status.busy": "2025-07-30T13:55:45.887845Z",
     "iopub.status.idle": "2025-07-30T13:55:45.893047Z",
     "shell.execute_reply": "2025-07-30T13:55:45.892389Z"
    },
    "papermill": {
     "duration": 0.023206,
     "end_time": "2025-07-30T13:55:45.894945",
     "exception": false,
     "start_time": "2025-07-30T13:55:45.871739",
     "status": "completed"
    },
    "tags": []
   },
   "outputs": [],
   "source": [
    "# EXCLUDE CERTAIN SUBGROUPS\n",
    "# ----------------------\n",
    "\n",
    "mode = universe.get(\"exclude_subgroups\", \"keep-all\") \n",
    "# Fetches the exclude_subgroups setting from the universe dict.\n",
    "# Defaults to \"keep-all\" if the key is missing."
   ]
  },
  {
   "cell_type": "code",
   "execution_count": 37,
   "id": "21994072",
   "metadata": {
    "execution": {
     "iopub.execute_input": "2025-07-30T13:55:45.959964Z",
     "iopub.status.busy": "2025-07-30T13:55:45.959470Z",
     "iopub.status.idle": "2025-07-30T13:55:45.974398Z",
     "shell.execute_reply": "2025-07-30T13:55:45.973095Z"
    },
    "papermill": {
     "duration": 0.050833,
     "end_time": "2025-07-30T13:55:45.977012",
     "exception": false,
     "start_time": "2025-07-30T13:55:45.926179",
     "status": "completed"
    },
    "tags": []
   },
   "outputs": [],
   "source": [
    "if mode == \"keep-all\":\n",
    "    keep_mask = pd.Series(True, index=org_train.index)\n",
    "\n",
    "# org_train contains the original feature columns from features_org (in Simson)\n",
    "# features_org contains unprocessed features, for me X_train at beginning ???\n",
    "# For keep-all, creates a boolean Series (keep_mask) of all True, so no rows are removed.\n",
    "\n",
    "elif mode == \"drop-non-german\":\n",
    "    keep_mask = org_train[\"maxdeutsch1\"] == 1 # ??? what about missing values?\n",
    "\n",
    "else:\n",
    "    raise ValueError(f\"Unsupported mode for exclude_subgroups: {mode}\")\n"
   ]
  },
  {
   "cell_type": "code",
   "execution_count": 38,
   "id": "71651440",
   "metadata": {
    "execution": {
     "iopub.execute_input": "2025-07-30T13:55:46.040208Z",
     "iopub.status.busy": "2025-07-30T13:55:46.039445Z",
     "iopub.status.idle": "2025-07-30T13:55:46.047890Z",
     "shell.execute_reply": "2025-07-30T13:55:46.046746Z"
    },
    "papermill": {
     "duration": 0.042137,
     "end_time": "2025-07-30T13:55:46.049940",
     "exception": false,
     "start_time": "2025-07-30T13:55:46.007803",
     "status": "completed"
    },
    "tags": []
   },
   "outputs": [
    {
     "name": "stdout",
     "output_type": "stream",
     "text": [
      "Dropping 665 rows (13.30%) where mode='drop-non-german'\n"
     ]
    }
   ],
   "source": [
    "n_drop = (~keep_mask).sum() # Calculates how many rows are set to be dropped\n",
    "if n_drop > 0:\n",
    "    pct = n_drop / len(keep_mask) * 100\n",
    "    print(f\"Dropping {n_drop} rows ({pct:.2f}%) where mode='{mode}'\")"
   ]
  },
  {
   "cell_type": "code",
   "execution_count": 39,
   "id": "5fb8eee5",
   "metadata": {
    "execution": {
     "iopub.execute_input": "2025-07-30T13:55:46.111879Z",
     "iopub.status.busy": "2025-07-30T13:55:46.111438Z",
     "iopub.status.idle": "2025-07-30T13:55:46.120650Z",
     "shell.execute_reply": "2025-07-30T13:55:46.119544Z"
    },
    "papermill": {
     "duration": 0.041587,
     "end_time": "2025-07-30T13:55:46.122572",
     "exception": false,
     "start_time": "2025-07-30T13:55:46.080985",
     "status": "completed"
    },
    "tags": []
   },
   "outputs": [],
   "source": [
    "X_train = X_train[keep_mask]"
   ]
  },
  {
   "cell_type": "code",
   "execution_count": 40,
   "id": "b202bb3a",
   "metadata": {
    "execution": {
     "iopub.execute_input": "2025-07-30T13:55:46.186202Z",
     "iopub.status.busy": "2025-07-30T13:55:46.185094Z",
     "iopub.status.idle": "2025-07-30T13:55:46.192560Z",
     "shell.execute_reply": "2025-07-30T13:55:46.191285Z"
    },
    "papermill": {
     "duration": 0.041849,
     "end_time": "2025-07-30T13:55:46.195345",
     "exception": false,
     "start_time": "2025-07-30T13:55:46.153496",
     "status": "completed"
    },
    "tags": []
   },
   "outputs": [],
   "source": [
    "y_train = y_train[keep_mask]"
   ]
  },
  {
   "cell_type": "markdown",
   "id": "493e2ac3",
   "metadata": {
    "papermill": {
     "duration": 0.022259,
     "end_time": "2025-07-30T13:55:46.235081",
     "exception": false,
     "start_time": "2025-07-30T13:55:46.212822",
     "status": "completed"
    },
    "tags": []
   },
   "source": [
    "# Model Training"
   ]
  },
  {
   "cell_type": "code",
   "execution_count": 41,
   "id": "679e1268",
   "metadata": {
    "execution": {
     "iopub.execute_input": "2025-07-30T13:55:46.271203Z",
     "iopub.status.busy": "2025-07-30T13:55:46.270790Z",
     "iopub.status.idle": "2025-07-30T13:55:46.396472Z",
     "shell.execute_reply": "2025-07-30T13:55:46.395085Z"
    },
    "papermill": {
     "duration": 0.143933,
     "end_time": "2025-07-30T13:55:46.398583",
     "exception": false,
     "start_time": "2025-07-30T13:55:46.254650",
     "status": "completed"
    },
    "tags": []
   },
   "outputs": [],
   "source": [
    "from sklearn.linear_model import LogisticRegression\n",
    "from sklearn.ensemble import GradientBoostingClassifier, RandomForestClassifier\n",
    "\n",
    "if (universe[\"model\"] == \"logreg\"):\n",
    "    model = LogisticRegression() #penalty=\"none\") #, solver=\"newton-cg\", max_iter=1) # include random_state=19 ?\n",
    "elif (universe[\"model\"] == \"penalized_logreg\"):\n",
    "    model = LogisticRegression(penalty=\"l2\", C=1.0) #, solver=\"newton-cg\", max_iter=1)\n",
    "elif (universe[\"model\"] == \"rf\"):\n",
    "    model = RandomForestClassifier(n_estimators=100, n_jobs=-1)\n",
    "elif (universe[\"model\"] == \"gbm\"):\n",
    "    model = GradientBoostingClassifier()\n",
    "elif (universe[\"model\"] == \"elasticnet\"):\n",
    "    model = LogisticRegression(penalty = 'elasticnet', solver = 'saga', l1_ratio = 0.5, max_iter=5000) # which solver to use?\n",
    "else:\n",
    "    raise \"Unsupported universe.model\""
   ]
  },
  {
   "cell_type": "code",
   "execution_count": 42,
   "id": "0cc8f744",
   "metadata": {
    "execution": {
     "iopub.execute_input": "2025-07-30T13:55:46.443081Z",
     "iopub.status.busy": "2025-07-30T13:55:46.442662Z",
     "iopub.status.idle": "2025-07-30T13:55:46.449003Z",
     "shell.execute_reply": "2025-07-30T13:55:46.447775Z"
    },
    "papermill": {
     "duration": 0.046589,
     "end_time": "2025-07-30T13:55:46.462360",
     "exception": false,
     "start_time": "2025-07-30T13:55:46.415771",
     "status": "completed"
    },
    "tags": []
   },
   "outputs": [],
   "source": [
    "import numpy as np\n",
    "from sklearn.pipeline import Pipeline\n",
    "from sklearn.preprocessing import StandardScaler\n",
    "\n",
    "model = Pipeline([\n",
    "    #(\"continuous_processor\", continuous_processor),\n",
    "    #(\"categorical_preprocessor\", categorical_preprocessor),\n",
    "    (\"scale\", StandardScaler() if universe[\"scale\"] == \"scale\" else None), \n",
    "    (\"model\", model),\n",
    "])"
   ]
  },
  {
   "cell_type": "code",
   "execution_count": 43,
   "id": "9442c04d",
   "metadata": {
    "execution": {
     "iopub.execute_input": "2025-07-30T13:55:46.542613Z",
     "iopub.status.busy": "2025-07-30T13:55:46.542088Z",
     "iopub.status.idle": "2025-07-30T13:55:46.804595Z",
     "shell.execute_reply": "2025-07-30T13:55:46.803149Z"
    },
    "papermill": {
     "duration": 0.303863,
     "end_time": "2025-07-30T13:55:46.805894",
     "exception": false,
     "start_time": "2025-07-30T13:55:46.502031",
     "status": "completed"
    },
    "tags": []
   },
   "outputs": [
    {
     "name": "stderr",
     "output_type": "stream",
     "text": [
      "/dss/dsshome1/0C/ra93lal2/.local/share/virtualenvs/CMA_Fairness_v2-3j10GkSs/lib/python3.10/site-packages/sklearn/linear_model/_logistic.py:444: ConvergenceWarning: lbfgs failed to converge (status=1):\n",
      "STOP: TOTAL NO. of ITERATIONS REACHED LIMIT.\n",
      "\n",
      "Increase the number of iterations (max_iter) or scale the data as shown in:\n",
      "    https://scikit-learn.org/stable/modules/preprocessing.html\n",
      "Please also refer to the documentation for alternative solver options:\n",
      "    https://scikit-learn.org/stable/modules/linear_model.html#logistic-regression\n",
      "  n_iter_i = _check_optimize_result(\n"
     ]
    },
    {
     "data": {
      "text/html": [
       "<style>#sk-container-id-1 {color: black;background-color: white;}#sk-container-id-1 pre{padding: 0;}#sk-container-id-1 div.sk-toggleable {background-color: white;}#sk-container-id-1 label.sk-toggleable__label {cursor: pointer;display: block;width: 100%;margin-bottom: 0;padding: 0.3em;box-sizing: border-box;text-align: center;}#sk-container-id-1 label.sk-toggleable__label-arrow:before {content: \"▸\";float: left;margin-right: 0.25em;color: #696969;}#sk-container-id-1 label.sk-toggleable__label-arrow:hover:before {color: black;}#sk-container-id-1 div.sk-estimator:hover label.sk-toggleable__label-arrow:before {color: black;}#sk-container-id-1 div.sk-toggleable__content {max-height: 0;max-width: 0;overflow: hidden;text-align: left;background-color: #f0f8ff;}#sk-container-id-1 div.sk-toggleable__content pre {margin: 0.2em;color: black;border-radius: 0.25em;background-color: #f0f8ff;}#sk-container-id-1 input.sk-toggleable__control:checked~div.sk-toggleable__content {max-height: 200px;max-width: 100%;overflow: auto;}#sk-container-id-1 input.sk-toggleable__control:checked~label.sk-toggleable__label-arrow:before {content: \"▾\";}#sk-container-id-1 div.sk-estimator input.sk-toggleable__control:checked~label.sk-toggleable__label {background-color: #d4ebff;}#sk-container-id-1 div.sk-label input.sk-toggleable__control:checked~label.sk-toggleable__label {background-color: #d4ebff;}#sk-container-id-1 input.sk-hidden--visually {border: 0;clip: rect(1px 1px 1px 1px);clip: rect(1px, 1px, 1px, 1px);height: 1px;margin: -1px;overflow: hidden;padding: 0;position: absolute;width: 1px;}#sk-container-id-1 div.sk-estimator {font-family: monospace;background-color: #f0f8ff;border: 1px dotted black;border-radius: 0.25em;box-sizing: border-box;margin-bottom: 0.5em;}#sk-container-id-1 div.sk-estimator:hover {background-color: #d4ebff;}#sk-container-id-1 div.sk-parallel-item::after {content: \"\";width: 100%;border-bottom: 1px solid gray;flex-grow: 1;}#sk-container-id-1 div.sk-label:hover label.sk-toggleable__label {background-color: #d4ebff;}#sk-container-id-1 div.sk-serial::before {content: \"\";position: absolute;border-left: 1px solid gray;box-sizing: border-box;top: 0;bottom: 0;left: 50%;z-index: 0;}#sk-container-id-1 div.sk-serial {display: flex;flex-direction: column;align-items: center;background-color: white;padding-right: 0.2em;padding-left: 0.2em;position: relative;}#sk-container-id-1 div.sk-item {position: relative;z-index: 1;}#sk-container-id-1 div.sk-parallel {display: flex;align-items: stretch;justify-content: center;background-color: white;position: relative;}#sk-container-id-1 div.sk-item::before, #sk-container-id-1 div.sk-parallel-item::before {content: \"\";position: absolute;border-left: 1px solid gray;box-sizing: border-box;top: 0;bottom: 0;left: 50%;z-index: -1;}#sk-container-id-1 div.sk-parallel-item {display: flex;flex-direction: column;z-index: 1;position: relative;background-color: white;}#sk-container-id-1 div.sk-parallel-item:first-child::after {align-self: flex-end;width: 50%;}#sk-container-id-1 div.sk-parallel-item:last-child::after {align-self: flex-start;width: 50%;}#sk-container-id-1 div.sk-parallel-item:only-child::after {width: 0;}#sk-container-id-1 div.sk-dashed-wrapped {border: 1px dashed gray;margin: 0 0.4em 0.5em 0.4em;box-sizing: border-box;padding-bottom: 0.4em;background-color: white;}#sk-container-id-1 div.sk-label label {font-family: monospace;font-weight: bold;display: inline-block;line-height: 1.2em;}#sk-container-id-1 div.sk-label-container {text-align: center;}#sk-container-id-1 div.sk-container {/* jupyter's `normalize.less` sets `[hidden] { display: none; }` but bootstrap.min.css set `[hidden] { display: none !important; }` so we also need the `!important` here to be able to override the default hidden behavior on the sphinx rendered scikit-learn.org. See: https://github.com/scikit-learn/scikit-learn/issues/21755 */display: inline-block !important;position: relative;}#sk-container-id-1 div.sk-text-repr-fallback {display: none;}</style><div id=\"sk-container-id-1\" class=\"sk-top-container\"><div class=\"sk-text-repr-fallback\"><pre>Pipeline(steps=[(&#x27;scale&#x27;, StandardScaler()), (&#x27;model&#x27;, LogisticRegression())])</pre><b>In a Jupyter environment, please rerun this cell to show the HTML representation or trust the notebook. <br />On GitHub, the HTML representation is unable to render, please try loading this page with nbviewer.org.</b></div><div class=\"sk-container\" hidden><div class=\"sk-item sk-dashed-wrapped\"><div class=\"sk-label-container\"><div class=\"sk-label sk-toggleable\"><input class=\"sk-toggleable__control sk-hidden--visually\" id=\"sk-estimator-id-1\" type=\"checkbox\" ><label for=\"sk-estimator-id-1\" class=\"sk-toggleable__label sk-toggleable__label-arrow\">Pipeline</label><div class=\"sk-toggleable__content\"><pre>Pipeline(steps=[(&#x27;scale&#x27;, StandardScaler()), (&#x27;model&#x27;, LogisticRegression())])</pre></div></div></div><div class=\"sk-serial\"><div class=\"sk-item\"><div class=\"sk-estimator sk-toggleable\"><input class=\"sk-toggleable__control sk-hidden--visually\" id=\"sk-estimator-id-2\" type=\"checkbox\" ><label for=\"sk-estimator-id-2\" class=\"sk-toggleable__label sk-toggleable__label-arrow\">StandardScaler</label><div class=\"sk-toggleable__content\"><pre>StandardScaler()</pre></div></div></div><div class=\"sk-item\"><div class=\"sk-estimator sk-toggleable\"><input class=\"sk-toggleable__control sk-hidden--visually\" id=\"sk-estimator-id-3\" type=\"checkbox\" ><label for=\"sk-estimator-id-3\" class=\"sk-toggleable__label sk-toggleable__label-arrow\">LogisticRegression</label><div class=\"sk-toggleable__content\"><pre>LogisticRegression()</pre></div></div></div></div></div></div></div>"
      ],
      "text/plain": [
       "Pipeline(steps=[('scale', StandardScaler()), ('model', LogisticRegression())])"
      ]
     },
     "execution_count": 43,
     "metadata": {},
     "output_type": "execute_result"
    }
   ],
   "source": [
    "model.fit(X_train, y_train.values.ravel())"
   ]
  },
  {
   "cell_type": "code",
   "execution_count": 44,
   "id": "af59f8c0",
   "metadata": {
    "execution": {
     "iopub.execute_input": "2025-07-30T13:55:46.850279Z",
     "iopub.status.busy": "2025-07-30T13:55:46.849284Z",
     "iopub.status.idle": "2025-07-30T13:55:46.859700Z",
     "shell.execute_reply": "2025-07-30T13:55:46.854050Z"
    },
    "papermill": {
     "duration": 0.041319,
     "end_time": "2025-07-30T13:55:46.864854",
     "exception": false,
     "start_time": "2025-07-30T13:55:46.823535",
     "status": "completed"
    },
    "tags": []
   },
   "outputs": [],
   "source": [
    "from fairness_multiverse.universe import predict_w_threshold"
   ]
  },
  {
   "cell_type": "code",
   "execution_count": 45,
   "id": "a7cf2e16",
   "metadata": {
    "execution": {
     "iopub.execute_input": "2025-07-30T13:55:46.917933Z",
     "iopub.status.busy": "2025-07-30T13:55:46.917530Z",
     "iopub.status.idle": "2025-07-30T13:55:47.114168Z",
     "shell.execute_reply": "2025-07-30T13:55:47.113188Z"
    },
    "papermill": {
     "duration": 0.224059,
     "end_time": "2025-07-30T13:55:47.115354",
     "exception": false,
     "start_time": "2025-07-30T13:55:46.891295",
     "status": "completed"
    },
    "tags": []
   },
   "outputs": [
    {
     "data": {
      "text/plain": [
       "0.855969234199086"
      ]
     },
     "execution_count": 45,
     "metadata": {},
     "output_type": "execute_result"
    }
   ],
   "source": [
    "probs_test = model.predict_proba(X_test)\n",
    "\n",
    "'''\n",
    "Below code returns a boolean array (or binary 0/1 array depending on how it’s used) where each element \n",
    "is True if the probability of class 1 is greater than or equal to the threshold, and False otherwise.\n",
    "'''\n",
    "y_pred_default = predict_w_threshold(probs_test, 0.5)\n",
    "\n",
    "from sklearn.metrics import accuracy_score\n",
    "\n",
    "# Naive prediction\n",
    "accuracy_score(y_true = y_true, y_pred = y_pred_default)"
   ]
  },
  {
   "cell_type": "code",
   "execution_count": 46,
   "id": "081964c3",
   "metadata": {
    "execution": {
     "iopub.execute_input": "2025-07-30T13:55:47.164122Z",
     "iopub.status.busy": "2025-07-30T13:55:47.163666Z",
     "iopub.status.idle": "2025-07-30T13:55:47.341463Z",
     "shell.execute_reply": "2025-07-30T13:55:47.340778Z"
    },
    "papermill": {
     "duration": 0.205689,
     "end_time": "2025-07-30T13:55:47.342691",
     "exception": false,
     "start_time": "2025-07-30T13:55:47.137002",
     "status": "completed"
    },
    "tags": []
   },
   "outputs": [
    {
     "data": {
      "text/plain": [
       "array([0, 0, 0, ..., 0, 0, 0])"
      ]
     },
     "execution_count": 46,
     "metadata": {},
     "output_type": "execute_result"
    }
   ],
   "source": [
    "model.predict(X_test)"
   ]
  },
  {
   "cell_type": "markdown",
   "id": "56c9705b",
   "metadata": {
    "papermill": {
     "duration": 0.034113,
     "end_time": "2025-07-30T13:55:47.399724",
     "exception": false,
     "start_time": "2025-07-30T13:55:47.365611",
     "status": "completed"
    },
    "tags": []
   },
   "source": [
    "# Conformal Prediction"
   ]
  },
  {
   "cell_type": "code",
   "execution_count": 47,
   "id": "160ec6ff",
   "metadata": {
    "execution": {
     "iopub.execute_input": "2025-07-30T13:55:47.470856Z",
     "iopub.status.busy": "2025-07-30T13:55:47.470325Z",
     "iopub.status.idle": "2025-07-30T13:55:47.476430Z",
     "shell.execute_reply": "2025-07-30T13:55:47.475335Z"
    },
    "papermill": {
     "duration": 0.044474,
     "end_time": "2025-07-30T13:55:47.479012",
     "exception": false,
     "start_time": "2025-07-30T13:55:47.434538",
     "status": "completed"
    },
    "tags": []
   },
   "outputs": [],
   "source": [
    "# Miscoverage level for conformal prediction (10% allowed error rate => 90% target coverage)\n",
    "alpha = 0.1"
   ]
  },
  {
   "cell_type": "code",
   "execution_count": 48,
   "id": "eadf4555-3dd3-440e-8e35-f82a4ad9f855",
   "metadata": {
    "execution": {
     "iopub.execute_input": "2025-07-30T13:55:47.547967Z",
     "iopub.status.busy": "2025-07-30T13:55:47.547415Z",
     "iopub.status.idle": "2025-07-30T13:55:47.741540Z",
     "shell.execute_reply": "2025-07-30T13:55:47.740613Z"
    },
    "papermill": {
     "duration": 0.230652,
     "end_time": "2025-07-30T13:55:47.743117",
     "exception": false,
     "start_time": "2025-07-30T13:55:47.512465",
     "status": "completed"
    },
    "tags": []
   },
   "outputs": [],
   "source": [
    "probs_calib = model.predict_proba(X_calib)"
   ]
  },
  {
   "cell_type": "code",
   "execution_count": 49,
   "id": "2ed93547-6d5d-4983-9b36-1ecb300da49a",
   "metadata": {
    "execution": {
     "iopub.execute_input": "2025-07-30T13:55:47.804942Z",
     "iopub.status.busy": "2025-07-30T13:55:47.804506Z",
     "iopub.status.idle": "2025-07-30T13:55:47.810744Z",
     "shell.execute_reply": "2025-07-30T13:55:47.809749Z"
    },
    "papermill": {
     "duration": 0.037684,
     "end_time": "2025-07-30T13:55:47.813574",
     "exception": false,
     "start_time": "2025-07-30T13:55:47.775890",
     "status": "completed"
    },
    "tags": []
   },
   "outputs": [],
   "source": [
    "y_calib = y_calib.values.ravel().astype(int)"
   ]
  },
  {
   "cell_type": "code",
   "execution_count": 50,
   "id": "65d1320d-f588-4b38-9072-62af1ae97f7d",
   "metadata": {
    "execution": {
     "iopub.execute_input": "2025-07-30T13:55:47.870498Z",
     "iopub.status.busy": "2025-07-30T13:55:47.870080Z",
     "iopub.status.idle": "2025-07-30T13:55:47.886978Z",
     "shell.execute_reply": "2025-07-30T13:55:47.885794Z"
    },
    "papermill": {
     "duration": 0.058433,
     "end_time": "2025-07-30T13:55:47.897898",
     "exception": false,
     "start_time": "2025-07-30T13:55:47.839465",
     "status": "completed"
    },
    "tags": []
   },
   "outputs": [],
   "source": [
    "from fairness_multiverse.conformal import compute_nc_scores\n",
    "\n",
    "# Compute nonconformity scores on calibration set (1 - probability of true class)\n",
    "nc_scores = compute_nc_scores(probs_calib, y_calib)"
   ]
  },
  {
   "cell_type": "code",
   "execution_count": 51,
   "id": "df3b8ca3-53b7-43d5-9667-7c85da7aeda2",
   "metadata": {
    "execution": {
     "iopub.execute_input": "2025-07-30T13:55:48.010755Z",
     "iopub.status.busy": "2025-07-30T13:55:48.010324Z",
     "iopub.status.idle": "2025-07-30T13:55:48.018230Z",
     "shell.execute_reply": "2025-07-30T13:55:48.017166Z"
    },
    "papermill": {
     "duration": 0.079295,
     "end_time": "2025-07-30T13:55:48.026472",
     "exception": false,
     "start_time": "2025-07-30T13:55:47.947177",
     "status": "completed"
    },
    "tags": []
   },
   "outputs": [],
   "source": [
    "from fairness_multiverse.conformal import find_threshold\n",
    "\n",
    "# Find conformal threshold q_hat for the given alpha (split conformal method)\n",
    "q_hat = find_threshold(nc_scores, alpha)"
   ]
  },
  {
   "cell_type": "code",
   "execution_count": 52,
   "id": "4d29e6c1-0ef6-4aa4-b8fe-4fe79b0d033a",
   "metadata": {
    "execution": {
     "iopub.execute_input": "2025-07-30T13:55:48.110036Z",
     "iopub.status.busy": "2025-07-30T13:55:48.109643Z",
     "iopub.status.idle": "2025-07-30T13:55:48.117472Z",
     "shell.execute_reply": "2025-07-30T13:55:48.116476Z"
    },
    "papermill": {
     "duration": 0.046608,
     "end_time": "2025-07-30T13:55:48.123300",
     "exception": false,
     "start_time": "2025-07-30T13:55:48.076692",
     "status": "completed"
    },
    "tags": []
   },
   "outputs": [
    {
     "data": {
      "text/plain": [
       "0.6981227328373294"
      ]
     },
     "execution_count": 52,
     "metadata": {},
     "output_type": "execute_result"
    }
   ],
   "source": [
    "q_hat"
   ]
  },
  {
   "cell_type": "code",
   "execution_count": 53,
   "id": "92460794-cdac-4be2-ba28-f28c0515a6fb",
   "metadata": {
    "execution": {
     "iopub.execute_input": "2025-07-30T13:55:48.213977Z",
     "iopub.status.busy": "2025-07-30T13:55:48.213552Z",
     "iopub.status.idle": "2025-07-30T13:55:49.232679Z",
     "shell.execute_reply": "2025-07-30T13:55:49.231556Z"
    },
    "papermill": {
     "duration": 1.045981,
     "end_time": "2025-07-30T13:55:49.234213",
     "exception": false,
     "start_time": "2025-07-30T13:55:48.188232",
     "status": "completed"
    },
    "tags": []
   },
   "outputs": [],
   "source": [
    "from fairness_multiverse.conformal import predict_conformal_sets\n",
    "\n",
    "# Generate prediction sets for each test example\n",
    "pred_sets = predict_conformal_sets(model, X_test, q_hat)"
   ]
  },
  {
   "cell_type": "code",
   "execution_count": 54,
   "id": "d90c9a65-e6db-4f5d-80cd-e68fb7e46829",
   "metadata": {
    "execution": {
     "iopub.execute_input": "2025-07-30T13:55:49.300229Z",
     "iopub.status.busy": "2025-07-30T13:55:49.299113Z",
     "iopub.status.idle": "2025-07-30T13:55:49.306577Z",
     "shell.execute_reply": "2025-07-30T13:55:49.305115Z"
    },
    "papermill": {
     "duration": 0.046586,
     "end_time": "2025-07-30T13:55:49.310493",
     "exception": false,
     "start_time": "2025-07-30T13:55:49.263907",
     "status": "completed"
    },
    "tags": []
   },
   "outputs": [],
   "source": [
    "y_true = y_true.squeeze()"
   ]
  },
  {
   "cell_type": "code",
   "execution_count": 55,
   "id": "3a58a54a-1e68-46b9-927a-df01f18aebc8",
   "metadata": {
    "execution": {
     "iopub.execute_input": "2025-07-30T13:55:49.379737Z",
     "iopub.status.busy": "2025-07-30T13:55:49.379295Z",
     "iopub.status.idle": "2025-07-30T13:55:50.388339Z",
     "shell.execute_reply": "2025-07-30T13:55:50.387229Z"
    },
    "papermill": {
     "duration": 1.044269,
     "end_time": "2025-07-30T13:55:50.389831",
     "exception": false,
     "start_time": "2025-07-30T13:55:49.345562",
     "status": "completed"
    },
    "tags": []
   },
   "outputs": [],
   "source": [
    "from fairness_multiverse.conformal import evaluate_sets\n",
    "\n",
    "# Evaluate coverage and average set size on test data\n",
    "metrics = evaluate_sets(pred_sets, y_true)"
   ]
  },
  {
   "cell_type": "markdown",
   "id": "2b569c12-9aaa-4c88-98c9-bbcd0cf3ebb8",
   "metadata": {
    "papermill": {
     "duration": 0.029982,
     "end_time": "2025-07-30T13:55:50.444806",
     "exception": false,
     "start_time": "2025-07-30T13:55:50.414824",
     "status": "completed"
    },
    "tags": []
   },
   "source": [
    "# CP Metrics"
   ]
  },
  {
   "cell_type": "code",
   "execution_count": 56,
   "id": "5ce0a5cb-201f-45a0-ade5-94c7f0bd6095",
   "metadata": {
    "execution": {
     "iopub.execute_input": "2025-07-30T13:55:50.525226Z",
     "iopub.status.busy": "2025-07-30T13:55:50.524855Z",
     "iopub.status.idle": "2025-07-30T13:55:50.531364Z",
     "shell.execute_reply": "2025-07-30T13:55:50.530525Z"
    },
    "papermill": {
     "duration": 0.031855,
     "end_time": "2025-07-30T13:55:50.532990",
     "exception": false,
     "start_time": "2025-07-30T13:55:50.501135",
     "status": "completed"
    },
    "tags": []
   },
   "outputs": [
    {
     "data": {
      "text/plain": [
       "{'coverage': 0.9102775610299855, 'avg_size': 1.1366514323932673}"
      ]
     },
     "execution_count": 56,
     "metadata": {},
     "output_type": "execute_result"
    }
   ],
   "source": [
    "metrics"
   ]
  },
  {
   "cell_type": "code",
   "execution_count": 57,
   "id": "9b9a838d-31c9-430b-ae14-12baee460d17",
   "metadata": {
    "execution": {
     "iopub.execute_input": "2025-07-30T13:55:50.564003Z",
     "iopub.status.busy": "2025-07-30T13:55:50.563571Z",
     "iopub.status.idle": "2025-07-30T13:55:50.568494Z",
     "shell.execute_reply": "2025-07-30T13:55:50.567600Z"
    },
    "papermill": {
     "duration": 0.021361,
     "end_time": "2025-07-30T13:55:50.569776",
     "exception": false,
     "start_time": "2025-07-30T13:55:50.548415",
     "status": "completed"
    },
    "tags": []
   },
   "outputs": [],
   "source": [
    "example_universe = universe.copy()\n",
    "universe_training_size = example_universe.get(\"training_size\")\n",
    "universe_scale = example_universe.get(\"scale\")\n",
    "universe_model = example_universe.get(\"model\")\n",
    "universe_exclude_features = example_universe.get(\"exclude_features\")\n",
    "universe_exclude_subgroups = example_universe.get(\"exclude_subgroups\")"
   ]
  },
  {
   "cell_type": "code",
   "execution_count": 58,
   "id": "f4b6a8ac-9dc0-4245-8a91-5b3b5999c4f9",
   "metadata": {
    "execution": {
     "iopub.execute_input": "2025-07-30T13:55:50.606183Z",
     "iopub.status.busy": "2025-07-30T13:55:50.605855Z",
     "iopub.status.idle": "2025-07-30T13:55:50.610818Z",
     "shell.execute_reply": "2025-07-30T13:55:50.610079Z"
    },
    "papermill": {
     "duration": 0.025413,
     "end_time": "2025-07-30T13:55:50.612311",
     "exception": false,
     "start_time": "2025-07-30T13:55:50.586898",
     "status": "completed"
    },
    "tags": []
   },
   "outputs": [],
   "source": [
    "cp_metrics_dict = {\n",
    "    \"universe_id\": [universe_id],\n",
    "    \"universe_training_size\": [universe_training_size],\n",
    "    \"universe_scale\": [universe_scale],\n",
    "    \"universe_model\": [universe_model],\n",
    "    \"universe_exclude_features\": [universe_exclude_features],\n",
    "    \"universe_exclude_subgroups\": [universe_exclude_subgroups],\n",
    "    \"q_hat\": [q_hat],\n",
    "    \"coverage\": [metrics[\"coverage\"]],\n",
    "    \"avg_size\": [metrics[\"avg_size\"]],\n",
    "}"
   ]
  },
  {
   "cell_type": "code",
   "execution_count": 59,
   "id": "908acbb1-0371-4915-85ca-3fa520d2efe2",
   "metadata": {
    "execution": {
     "iopub.execute_input": "2025-07-30T13:55:50.646680Z",
     "iopub.status.busy": "2025-07-30T13:55:50.645834Z",
     "iopub.status.idle": "2025-07-30T13:55:50.652310Z",
     "shell.execute_reply": "2025-07-30T13:55:50.651408Z"
    },
    "papermill": {
     "duration": 0.026604,
     "end_time": "2025-07-30T13:55:50.653910",
     "exception": false,
     "start_time": "2025-07-30T13:55:50.627306",
     "status": "completed"
    },
    "tags": []
   },
   "outputs": [
    {
     "data": {
      "text/plain": [
       "{'universe_id': ['5de61325f2a3eabb1425eb66373e95d7'],\n",
       " 'universe_training_size': ['5k'],\n",
       " 'universe_scale': ['scale'],\n",
       " 'universe_model': ['penalized_logreg'],\n",
       " 'universe_exclude_features': ['age'],\n",
       " 'universe_exclude_subgroups': ['drop-non-german'],\n",
       " 'q_hat': [0.6981227328373294],\n",
       " 'coverage': [0.9102775610299855],\n",
       " 'avg_size': [1.1366514323932673]}"
      ]
     },
     "execution_count": 59,
     "metadata": {},
     "output_type": "execute_result"
    }
   ],
   "source": [
    "cp_metrics_dict"
   ]
  },
  {
   "cell_type": "code",
   "execution_count": 60,
   "id": "33007efc-14e9-4ec6-97ac-56a455c82265",
   "metadata": {
    "execution": {
     "iopub.execute_input": "2025-07-30T13:55:50.688917Z",
     "iopub.status.busy": "2025-07-30T13:55:50.688424Z",
     "iopub.status.idle": "2025-07-30T13:55:50.694303Z",
     "shell.execute_reply": "2025-07-30T13:55:50.693352Z"
    },
    "papermill": {
     "duration": 0.021799,
     "end_time": "2025-07-30T13:55:50.695989",
     "exception": false,
     "start_time": "2025-07-30T13:55:50.674190",
     "status": "completed"
    },
    "tags": []
   },
   "outputs": [],
   "source": [
    "cp_metrics_df = pd.DataFrame(cp_metrics_dict)"
   ]
  },
  {
   "cell_type": "code",
   "execution_count": 61,
   "id": "db12611b-57b2-4910-b9d0-355adfd6e7bf",
   "metadata": {
    "execution": {
     "iopub.execute_input": "2025-07-30T13:55:50.728923Z",
     "iopub.status.busy": "2025-07-30T13:55:50.728446Z",
     "iopub.status.idle": "2025-07-30T13:55:50.744920Z",
     "shell.execute_reply": "2025-07-30T13:55:50.743974Z"
    },
    "papermill": {
     "duration": 0.033491,
     "end_time": "2025-07-30T13:55:50.746488",
     "exception": false,
     "start_time": "2025-07-30T13:55:50.712997",
     "status": "completed"
    },
    "tags": []
   },
   "outputs": [
    {
     "data": {
      "text/html": [
       "<div>\n",
       "<style scoped>\n",
       "    .dataframe tbody tr th:only-of-type {\n",
       "        vertical-align: middle;\n",
       "    }\n",
       "\n",
       "    .dataframe tbody tr th {\n",
       "        vertical-align: top;\n",
       "    }\n",
       "\n",
       "    .dataframe thead th {\n",
       "        text-align: right;\n",
       "    }\n",
       "</style>\n",
       "<table border=\"1\" class=\"dataframe\">\n",
       "  <thead>\n",
       "    <tr style=\"text-align: right;\">\n",
       "      <th></th>\n",
       "      <th>universe_id</th>\n",
       "      <th>universe_training_size</th>\n",
       "      <th>universe_scale</th>\n",
       "      <th>universe_model</th>\n",
       "      <th>universe_exclude_features</th>\n",
       "      <th>universe_exclude_subgroups</th>\n",
       "      <th>q_hat</th>\n",
       "      <th>coverage</th>\n",
       "      <th>avg_size</th>\n",
       "    </tr>\n",
       "  </thead>\n",
       "  <tbody>\n",
       "    <tr>\n",
       "      <th>0</th>\n",
       "      <td>5de61325f2a3eabb1425eb66373e95d7</td>\n",
       "      <td>5k</td>\n",
       "      <td>scale</td>\n",
       "      <td>penalized_logreg</td>\n",
       "      <td>age</td>\n",
       "      <td>drop-non-german</td>\n",
       "      <td>0.698123</td>\n",
       "      <td>0.910278</td>\n",
       "      <td>1.136651</td>\n",
       "    </tr>\n",
       "  </tbody>\n",
       "</table>\n",
       "</div>"
      ],
      "text/plain": [
       "                        universe_id universe_training_size universe_scale  \\\n",
       "0  5de61325f2a3eabb1425eb66373e95d7                     5k          scale   \n",
       "\n",
       "     universe_model universe_exclude_features universe_exclude_subgroups  \\\n",
       "0  penalized_logreg                       age            drop-non-german   \n",
       "\n",
       "      q_hat  coverage  avg_size  \n",
       "0  0.698123  0.910278  1.136651  "
      ]
     },
     "execution_count": 61,
     "metadata": {},
     "output_type": "execute_result"
    }
   ],
   "source": [
    "cp_metrics_df"
   ]
  },
  {
   "cell_type": "code",
   "execution_count": 62,
   "id": "b7fbde55-a0a1-47e4-9af6-fe4a17fa8c61",
   "metadata": {
    "execution": {
     "iopub.execute_input": "2025-07-30T13:55:50.806289Z",
     "iopub.status.busy": "2025-07-30T13:55:50.805842Z",
     "iopub.status.idle": "2025-07-30T13:55:50.811358Z",
     "shell.execute_reply": "2025-07-30T13:55:50.810381Z"
    },
    "papermill": {
     "duration": 0.036723,
     "end_time": "2025-07-30T13:55:50.813687",
     "exception": false,
     "start_time": "2025-07-30T13:55:50.776964",
     "status": "completed"
    },
    "tags": []
   },
   "outputs": [],
   "source": [
    "# Conditional Coverage & looking at subgroups"
   ]
  },
  {
   "cell_type": "code",
   "execution_count": 63,
   "id": "027ae886-68dd-4141-96c7-805a5450e1ef",
   "metadata": {
    "execution": {
     "iopub.execute_input": "2025-07-30T13:55:50.876380Z",
     "iopub.status.busy": "2025-07-30T13:55:50.875775Z",
     "iopub.status.idle": "2025-07-30T13:55:51.192432Z",
     "shell.execute_reply": "2025-07-30T13:55:51.191343Z"
    },
    "papermill": {
     "duration": 0.350353,
     "end_time": "2025-07-30T13:55:51.194522",
     "exception": false,
     "start_time": "2025-07-30T13:55:50.844169",
     "status": "completed"
    },
    "tags": []
   },
   "outputs": [],
   "source": [
    "from fairness_multiverse.conformal import build_cp_groups\n",
    "\n",
    "cp_groups_df = build_cp_groups(pred_sets, y_true, X_test.index, org_test)\n",
    "#needs universe_id and setting"
   ]
  },
  {
   "cell_type": "code",
   "execution_count": 64,
   "id": "01d5802c-663a-4d1f-9d69-e036faaffbf7",
   "metadata": {
    "execution": {
     "iopub.execute_input": "2025-07-30T13:55:51.242927Z",
     "iopub.status.busy": "2025-07-30T13:55:51.242053Z",
     "iopub.status.idle": "2025-07-30T13:55:51.247502Z",
     "shell.execute_reply": "2025-07-30T13:55:51.246457Z"
    },
    "papermill": {
     "duration": 0.039392,
     "end_time": "2025-07-30T13:55:51.258060",
     "exception": false,
     "start_time": "2025-07-30T13:55:51.218668",
     "status": "completed"
    },
    "tags": []
   },
   "outputs": [],
   "source": [
    "#delete\n",
    "#cp_groups_df"
   ]
  },
  {
   "cell_type": "code",
   "execution_count": 65,
   "id": "fa424af1-d1eb-443d-b717-2d279ada8408",
   "metadata": {
    "execution": {
     "iopub.execute_input": "2025-07-30T13:55:51.311700Z",
     "iopub.status.busy": "2025-07-30T13:55:51.311314Z",
     "iopub.status.idle": "2025-07-30T13:55:51.316434Z",
     "shell.execute_reply": "2025-07-30T13:55:51.315432Z"
    },
    "papermill": {
     "duration": 0.034839,
     "end_time": "2025-07-30T13:55:51.319349",
     "exception": false,
     "start_time": "2025-07-30T13:55:51.284510",
     "status": "completed"
    },
    "tags": []
   },
   "outputs": [],
   "source": [
    "#delete\n",
    "#percentage = (cp_groups_df['nongerman_female'] == 1).mean() * 100\n",
    "#print(percentage)\n"
   ]
  },
  {
   "cell_type": "code",
   "execution_count": 66,
   "id": "6cbdab96-b2b2-45af-ad54-d0516db2e28d",
   "metadata": {
    "execution": {
     "iopub.execute_input": "2025-07-30T13:55:51.376638Z",
     "iopub.status.busy": "2025-07-30T13:55:51.376199Z",
     "iopub.status.idle": "2025-07-30T13:55:53.177603Z",
     "shell.execute_reply": "2025-07-30T13:55:53.176593Z"
    },
    "papermill": {
     "duration": 1.831014,
     "end_time": "2025-07-30T13:55:53.179630",
     "exception": false,
     "start_time": "2025-07-30T13:55:51.348616",
     "status": "completed"
    },
    "tags": []
   },
   "outputs": [],
   "source": [
    "# Define covered = 1 if true_label is in the predicted set\n",
    "cp_groups_df['covered'] = cp_groups_df.apply(\n",
    "    lambda r: int(r['true_label'] in r['pred_set']),\n",
    "    axis=1\n",
    ")"
   ]
  },
  {
   "cell_type": "code",
   "execution_count": 67,
   "id": "338ff529-1a6b-4b87-a931-8e4788d52aad",
   "metadata": {
    "execution": {
     "iopub.execute_input": "2025-07-30T13:55:53.225339Z",
     "iopub.status.busy": "2025-07-30T13:55:53.224868Z",
     "iopub.status.idle": "2025-07-30T13:55:53.229707Z",
     "shell.execute_reply": "2025-07-30T13:55:53.229028Z"
    },
    "papermill": {
     "duration": 0.023602,
     "end_time": "2025-07-30T13:55:53.231092",
     "exception": false,
     "start_time": "2025-07-30T13:55:53.207490",
     "status": "completed"
    },
    "tags": []
   },
   "outputs": [],
   "source": [
    "#cp_groups_df"
   ]
  },
  {
   "cell_type": "code",
   "execution_count": 68,
   "id": "90032e27-66df-4540-9169-4e89cfbaa758",
   "metadata": {
    "execution": {
     "iopub.execute_input": "2025-07-30T13:55:53.269612Z",
     "iopub.status.busy": "2025-07-30T13:55:53.269171Z",
     "iopub.status.idle": "2025-07-30T13:55:53.280144Z",
     "shell.execute_reply": "2025-07-30T13:55:53.279304Z"
    },
    "papermill": {
     "duration": 0.035145,
     "end_time": "2025-07-30T13:55:53.281698",
     "exception": false,
     "start_time": "2025-07-30T13:55:53.246553",
     "status": "completed"
    },
    "tags": []
   },
   "outputs": [],
   "source": [
    "subgroups = ['frau1','nongerman','nongerman_male','nongerman_female']\n",
    "\n",
    "# Conditional coverage for subgroup==1\n",
    "cond_coverage = {\n",
    "    g: cp_groups_df.loc[cp_groups_df[g]==1, 'covered'].mean()\n",
    "    for g in subgroups\n",
    "}"
   ]
  },
  {
   "cell_type": "code",
   "execution_count": 69,
   "id": "1e348fb1-b9c3-45bc-ba23-f016827a7e0d",
   "metadata": {
    "execution": {
     "iopub.execute_input": "2025-07-30T13:55:53.314834Z",
     "iopub.status.busy": "2025-07-30T13:55:53.314285Z",
     "iopub.status.idle": "2025-07-30T13:55:53.321807Z",
     "shell.execute_reply": "2025-07-30T13:55:53.320681Z"
    },
    "papermill": {
     "duration": 0.024936,
     "end_time": "2025-07-30T13:55:53.323497",
     "exception": false,
     "start_time": "2025-07-30T13:55:53.298561",
     "status": "completed"
    },
    "tags": []
   },
   "outputs": [
    {
     "data": {
      "text/plain": [
       "{'frau1': 0.9036527833939884,\n",
       " 'nongerman': 0.9054061640375007,\n",
       " 'nongerman_male': 0.9250652976672972,\n",
       " 'nongerman_female': 0.872876304023845}"
      ]
     },
     "execution_count": 69,
     "metadata": {},
     "output_type": "execute_result"
    }
   ],
   "source": [
    "cond_coverage"
   ]
  },
  {
   "cell_type": "code",
   "execution_count": 70,
   "id": "f5093324-c3dd-4d63-bc4c-8d945e5c8bbb",
   "metadata": {
    "execution": {
     "iopub.execute_input": "2025-07-30T13:55:53.385218Z",
     "iopub.status.busy": "2025-07-30T13:55:53.384368Z",
     "iopub.status.idle": "2025-07-30T13:55:53.392680Z",
     "shell.execute_reply": "2025-07-30T13:55:53.391519Z"
    },
    "papermill": {
     "duration": 0.040577,
     "end_time": "2025-07-30T13:55:53.394187",
     "exception": false,
     "start_time": "2025-07-30T13:55:53.353610",
     "status": "completed"
    },
    "tags": []
   },
   "outputs": [],
   "source": [
    "for subgroup, cov in cond_coverage.items():\n",
    "    cp_metrics_df[f\"cov_{subgroup}\"] = cov"
   ]
  },
  {
   "cell_type": "code",
   "execution_count": 71,
   "id": "6e872e10-dbe5-49e8-b554-5030c98ff75d",
   "metadata": {
    "execution": {
     "iopub.execute_input": "2025-07-30T13:55:53.433909Z",
     "iopub.status.busy": "2025-07-30T13:55:53.433539Z",
     "iopub.status.idle": "2025-07-30T13:55:53.450446Z",
     "shell.execute_reply": "2025-07-30T13:55:53.449307Z"
    },
    "papermill": {
     "duration": 0.034641,
     "end_time": "2025-07-30T13:55:53.452080",
     "exception": false,
     "start_time": "2025-07-30T13:55:53.417439",
     "status": "completed"
    },
    "tags": []
   },
   "outputs": [
    {
     "data": {
      "text/html": [
       "<div>\n",
       "<style scoped>\n",
       "    .dataframe tbody tr th:only-of-type {\n",
       "        vertical-align: middle;\n",
       "    }\n",
       "\n",
       "    .dataframe tbody tr th {\n",
       "        vertical-align: top;\n",
       "    }\n",
       "\n",
       "    .dataframe thead th {\n",
       "        text-align: right;\n",
       "    }\n",
       "</style>\n",
       "<table border=\"1\" class=\"dataframe\">\n",
       "  <thead>\n",
       "    <tr style=\"text-align: right;\">\n",
       "      <th></th>\n",
       "      <th>universe_id</th>\n",
       "      <th>universe_training_size</th>\n",
       "      <th>universe_scale</th>\n",
       "      <th>universe_model</th>\n",
       "      <th>universe_exclude_features</th>\n",
       "      <th>universe_exclude_subgroups</th>\n",
       "      <th>q_hat</th>\n",
       "      <th>coverage</th>\n",
       "      <th>avg_size</th>\n",
       "      <th>cov_frau1</th>\n",
       "      <th>cov_nongerman</th>\n",
       "      <th>cov_nongerman_male</th>\n",
       "      <th>cov_nongerman_female</th>\n",
       "    </tr>\n",
       "  </thead>\n",
       "  <tbody>\n",
       "    <tr>\n",
       "      <th>0</th>\n",
       "      <td>5de61325f2a3eabb1425eb66373e95d7</td>\n",
       "      <td>5k</td>\n",
       "      <td>scale</td>\n",
       "      <td>penalized_logreg</td>\n",
       "      <td>age</td>\n",
       "      <td>drop-non-german</td>\n",
       "      <td>0.698123</td>\n",
       "      <td>0.910278</td>\n",
       "      <td>1.136651</td>\n",
       "      <td>0.903653</td>\n",
       "      <td>0.905406</td>\n",
       "      <td>0.925065</td>\n",
       "      <td>0.872876</td>\n",
       "    </tr>\n",
       "  </tbody>\n",
       "</table>\n",
       "</div>"
      ],
      "text/plain": [
       "                        universe_id universe_training_size universe_scale  \\\n",
       "0  5de61325f2a3eabb1425eb66373e95d7                     5k          scale   \n",
       "\n",
       "     universe_model universe_exclude_features universe_exclude_subgroups  \\\n",
       "0  penalized_logreg                       age            drop-non-german   \n",
       "\n",
       "      q_hat  coverage  avg_size  cov_frau1  cov_nongerman  cov_nongerman_male  \\\n",
       "0  0.698123  0.910278  1.136651   0.903653       0.905406            0.925065   \n",
       "\n",
       "   cov_nongerman_female  \n",
       "0              0.872876  "
      ]
     },
     "execution_count": 71,
     "metadata": {},
     "output_type": "execute_result"
    }
   ],
   "source": [
    "cp_metrics_df"
   ]
  },
  {
   "cell_type": "markdown",
   "id": "33774451",
   "metadata": {
    "papermill": {
     "duration": 0.032412,
     "end_time": "2025-07-30T13:55:53.515114",
     "exception": false,
     "start_time": "2025-07-30T13:55:53.482702",
     "status": "completed"
    },
    "tags": []
   },
   "source": [
    "# (Fairness) Metrics"
   ]
  },
  {
   "cell_type": "code",
   "execution_count": 72,
   "id": "debc5d62",
   "metadata": {
    "execution": {
     "iopub.execute_input": "2025-07-30T13:55:53.577045Z",
     "iopub.status.busy": "2025-07-30T13:55:53.576638Z",
     "iopub.status.idle": "2025-07-30T13:55:53.598161Z",
     "shell.execute_reply": "2025-07-30T13:55:53.597172Z"
    },
    "papermill": {
     "duration": 0.054976,
     "end_time": "2025-07-30T13:55:53.600153",
     "exception": false,
     "start_time": "2025-07-30T13:55:53.545177",
     "status": "completed"
    },
    "tags": []
   },
   "outputs": [],
   "source": [
    "# do I need to include maxdeutsch1.missing?\n",
    "\n",
    "import numpy as np\n",
    "\n",
    "colname_to_bin = \"maxdeutsch1\"\n",
    "majority_value = org_train[colname_to_bin].mode()[0]\n",
    "\n",
    "org_test[\"majmin\"] = np.where(org_test[colname_to_bin] == majority_value, \"majority\", \"minority\")"
   ]
  },
  {
   "cell_type": "code",
   "execution_count": 73,
   "id": "06a50de5",
   "metadata": {
    "execution": {
     "iopub.execute_input": "2025-07-30T13:55:53.659079Z",
     "iopub.status.busy": "2025-07-30T13:55:53.658680Z",
     "iopub.status.idle": "2025-07-30T13:55:56.691100Z",
     "shell.execute_reply": "2025-07-30T13:55:56.690140Z"
    },
    "papermill": {
     "duration": 3.06501,
     "end_time": "2025-07-30T13:55:56.692992",
     "exception": false,
     "start_time": "2025-07-30T13:55:53.627982",
     "status": "completed"
    },
    "tags": []
   },
   "outputs": [],
   "source": [
    "example_universe = universe.copy()\n",
    "example_universe[\"cutoff\"] = example_universe[\"cutoff\"][0]\n",
    "example_universe[\"eval_fairness_grouping\"] = example_universe[\"eval_fairness_grouping\"][0]\n",
    "fairness_dict, metric_frame = universe_analysis.compute_metrics(\n",
    "    example_universe,\n",
    "    y_pred_prob=probs_test,\n",
    "    y_test=y_true,\n",
    "    org_test=org_test,\n",
    ")"
   ]
  },
  {
   "cell_type": "markdown",
   "id": "f95d4e02",
   "metadata": {
    "papermill": {
     "duration": 0.029977,
     "end_time": "2025-07-30T13:55:56.754584",
     "exception": false,
     "start_time": "2025-07-30T13:55:56.724607",
     "status": "completed"
    },
    "tags": []
   },
   "source": [
    "# Overall"
   ]
  },
  {
   "cell_type": "markdown",
   "id": "bdee4871",
   "metadata": {
    "papermill": {
     "duration": 0.030924,
     "end_time": "2025-07-30T13:55:56.816435",
     "exception": false,
     "start_time": "2025-07-30T13:55:56.785511",
     "status": "completed"
    },
    "tags": []
   },
   "source": [
    "Fairness\n",
    "Main fairness target: Equalized Odds. Seems to be a better fit than equal opportunity, since we're not only interested in Y = 1. Seems to be a better fit than demographic parity, since we also care about accuracy, not just equal distribution of preds.\n",
    "\n",
    "Pick column for computation of fairness metrics\n",
    "\n",
    "Performance\n",
    "Overall performance measures, most interesting in relation to the measures split by group below"
   ]
  },
  {
   "cell_type": "code",
   "execution_count": 74,
   "id": "c4e067c6",
   "metadata": {
    "execution": {
     "iopub.execute_input": "2025-07-30T13:55:56.872801Z",
     "iopub.status.busy": "2025-07-30T13:55:56.872303Z",
     "iopub.status.idle": "2025-07-30T13:55:56.880562Z",
     "shell.execute_reply": "2025-07-30T13:55:56.879549Z"
    },
    "papermill": {
     "duration": 0.038011,
     "end_time": "2025-07-30T13:55:56.884477",
     "exception": false,
     "start_time": "2025-07-30T13:55:56.846466",
     "status": "completed"
    },
    "tags": []
   },
   "outputs": [
    {
     "data": {
      "text/plain": [
       "accuracy                   0.223353\n",
       "balanced accuracy          0.546343\n",
       "f1                         0.244713\n",
       "precision                  0.139796\n",
       "false positive rate        0.888110\n",
       "false negative rate        0.019204\n",
       "selection rate             0.900000\n",
       "count                  89710.000000\n",
       "dtype: float64"
      ]
     },
     "execution_count": 74,
     "metadata": {},
     "output_type": "execute_result"
    }
   ],
   "source": [
    "metric_frame.overall"
   ]
  },
  {
   "cell_type": "markdown",
   "id": "e968fe9d",
   "metadata": {
    "papermill": {
     "duration": 0.030029,
     "end_time": "2025-07-30T13:55:56.943022",
     "exception": false,
     "start_time": "2025-07-30T13:55:56.912993",
     "status": "completed"
    },
    "tags": []
   },
   "source": [
    "By Group"
   ]
  },
  {
   "cell_type": "code",
   "execution_count": 75,
   "id": "ec325bce",
   "metadata": {
    "execution": {
     "iopub.execute_input": "2025-07-30T13:55:56.999803Z",
     "iopub.status.busy": "2025-07-30T13:55:56.999300Z",
     "iopub.status.idle": "2025-07-30T13:55:57.015230Z",
     "shell.execute_reply": "2025-07-30T13:55:57.014290Z"
    },
    "papermill": {
     "duration": 0.044832,
     "end_time": "2025-07-30T13:55:57.016984",
     "exception": false,
     "start_time": "2025-07-30T13:55:56.972152",
     "status": "completed"
    },
    "tags": []
   },
   "outputs": [
    {
     "data": {
      "text/html": [
       "<div>\n",
       "<style scoped>\n",
       "    .dataframe tbody tr th:only-of-type {\n",
       "        vertical-align: middle;\n",
       "    }\n",
       "\n",
       "    .dataframe tbody tr th {\n",
       "        vertical-align: top;\n",
       "    }\n",
       "\n",
       "    .dataframe thead th {\n",
       "        text-align: right;\n",
       "    }\n",
       "</style>\n",
       "<table border=\"1\" class=\"dataframe\">\n",
       "  <thead>\n",
       "    <tr style=\"text-align: right;\">\n",
       "      <th></th>\n",
       "      <th>accuracy</th>\n",
       "      <th>balanced accuracy</th>\n",
       "      <th>f1</th>\n",
       "      <th>precision</th>\n",
       "      <th>false positive rate</th>\n",
       "      <th>false negative rate</th>\n",
       "      <th>selection rate</th>\n",
       "      <th>count</th>\n",
       "    </tr>\n",
       "    <tr>\n",
       "      <th>majmin</th>\n",
       "      <th></th>\n",
       "      <th></th>\n",
       "      <th></th>\n",
       "      <th></th>\n",
       "      <th></th>\n",
       "      <th></th>\n",
       "      <th></th>\n",
       "      <th></th>\n",
       "    </tr>\n",
       "  </thead>\n",
       "  <tbody>\n",
       "    <tr>\n",
       "      <th>majority</th>\n",
       "      <td>0.238745</td>\n",
       "      <td>0.553211</td>\n",
       "      <td>0.253974</td>\n",
       "      <td>0.145877</td>\n",
       "      <td>0.874213</td>\n",
       "      <td>0.019365</td>\n",
       "      <td>0.888275</td>\n",
       "      <td>69170.0</td>\n",
       "    </tr>\n",
       "    <tr>\n",
       "      <th>minority</th>\n",
       "      <td>0.171519</td>\n",
       "      <td>0.523700</td>\n",
       "      <td>0.214540</td>\n",
       "      <td>0.120433</td>\n",
       "      <td>0.934019</td>\n",
       "      <td>0.018581</td>\n",
       "      <td>0.939484</td>\n",
       "      <td>20540.0</td>\n",
       "    </tr>\n",
       "  </tbody>\n",
       "</table>\n",
       "</div>"
      ],
      "text/plain": [
       "          accuracy  balanced accuracy        f1  precision  \\\n",
       "majmin                                                       \n",
       "majority  0.238745           0.553211  0.253974   0.145877   \n",
       "minority  0.171519           0.523700  0.214540   0.120433   \n",
       "\n",
       "          false positive rate  false negative rate  selection rate    count  \n",
       "majmin                                                                       \n",
       "majority             0.874213             0.019365        0.888275  69170.0  \n",
       "minority             0.934019             0.018581        0.939484  20540.0  "
      ]
     },
     "execution_count": 75,
     "metadata": {},
     "output_type": "execute_result"
    }
   ],
   "source": [
    "metric_frame.by_group"
   ]
  },
  {
   "cell_type": "code",
   "execution_count": 76,
   "id": "a9ddbe63",
   "metadata": {
    "execution": {
     "iopub.execute_input": "2025-07-30T13:55:57.060011Z",
     "iopub.status.busy": "2025-07-30T13:55:57.059629Z",
     "iopub.status.idle": "2025-07-30T13:55:58.965542Z",
     "shell.execute_reply": "2025-07-30T13:55:58.964542Z"
    },
    "papermill": {
     "duration": 1.923912,
     "end_time": "2025-07-30T13:55:58.966975",
     "exception": false,
     "start_time": "2025-07-30T13:55:57.043063",
     "status": "completed"
    },
    "tags": []
   },
   "outputs": [
    {
     "data": {
      "text/plain": [
       "array([[<Axes: title={'center': 'accuracy'}, xlabel='majmin'>,\n",
       "        <Axes: title={'center': 'balanced accuracy'}, xlabel='majmin'>,\n",
       "        <Axes: title={'center': 'f1'}, xlabel='majmin'>],\n",
       "       [<Axes: title={'center': 'precision'}, xlabel='majmin'>,\n",
       "        <Axes: title={'center': 'false positive rate'}, xlabel='majmin'>,\n",
       "        <Axes: title={'center': 'false negative rate'}, xlabel='majmin'>],\n",
       "       [<Axes: title={'center': 'selection rate'}, xlabel='majmin'>,\n",
       "        <Axes: title={'center': 'count'}, xlabel='majmin'>,\n",
       "        <Axes: xlabel='majmin'>]], dtype=object)"
      ]
     },
     "execution_count": 76,
     "metadata": {},
     "output_type": "execute_result"
    },
    {
     "data": {
      "image/png": "[encoded data removed]",
      "text/plain": [
       "<Figure size 1200x800 with 9 Axes>"
      ]
     },
     "metadata": {},
     "output_type": "display_data"
    }
   ],
   "source": [
    "# In a graphic\n",
    "metric_frame.by_group.plot.bar(\n",
    "    subplots=True,\n",
    "    layout=[3, 3],\n",
    "    legend=False,\n",
    "    figsize=[12, 8],\n",
    "    title=\"Show all metrics\",\n",
    ")"
   ]
  },
  {
   "cell_type": "markdown",
   "id": "f57a0bac",
   "metadata": {
    "papermill": {
     "duration": 0.015638,
     "end_time": "2025-07-30T13:55:58.999289",
     "exception": false,
     "start_time": "2025-07-30T13:55:58.983651",
     "status": "completed"
    },
    "tags": []
   },
   "source": [
    "# Final Output"
   ]
  },
  {
   "cell_type": "code",
   "execution_count": 77,
   "id": "96d280a3",
   "metadata": {
    "execution": {
     "iopub.execute_input": "2025-07-30T13:55:59.031630Z",
     "iopub.status.busy": "2025-07-30T13:55:59.031187Z",
     "iopub.status.idle": "2025-07-30T13:55:59.038219Z",
     "shell.execute_reply": "2025-07-30T13:55:59.037517Z"
    },
    "papermill": {
     "duration": 0.024719,
     "end_time": "2025-07-30T13:55:59.039484",
     "exception": false,
     "start_time": "2025-07-30T13:55:59.014765",
     "status": "completed"
    },
    "tags": []
   },
   "outputs": [
    {
     "data": {
      "text/plain": [
       "4"
      ]
     },
     "execution_count": 77,
     "metadata": {},
     "output_type": "execute_result"
    }
   ],
   "source": [
    "sub_universes = universe_analysis.generate_sub_universes()\n",
    "len(sub_universes)"
   ]
  },
  {
   "cell_type": "code",
   "execution_count": 78,
   "id": "92adf7ba",
   "metadata": {
    "execution": {
     "iopub.execute_input": "2025-07-30T13:55:59.072948Z",
     "iopub.status.busy": "2025-07-30T13:55:59.072116Z",
     "iopub.status.idle": "2025-07-30T13:55:59.078359Z",
     "shell.execute_reply": "2025-07-30T13:55:59.077585Z"
    },
    "papermill": {
     "duration": 0.024322,
     "end_time": "2025-07-30T13:55:59.079716",
     "exception": false,
     "start_time": "2025-07-30T13:55:59.055394",
     "status": "completed"
    },
    "tags": []
   },
   "outputs": [],
   "source": [
    "def filter_sub_universe_data(sub_universe, org_test):\n",
    "    # Keep all rows — no filtering\n",
    "    keep_rows_mask = np.ones(org_test.shape[0], dtype=bool)\n",
    "\n",
    "    print(f\"[INFO] Keeping all rows: {keep_rows_mask.sum()} rows retained.\")\n",
    "    return keep_rows_mask"
   ]
  },
  {
   "cell_type": "code",
   "execution_count": 79,
   "id": "4a759155",
   "metadata": {
    "execution": {
     "iopub.execute_input": "2025-07-30T13:55:59.113742Z",
     "iopub.status.busy": "2025-07-30T13:55:59.113232Z",
     "iopub.status.idle": "2025-07-30T13:56:06.677313Z",
     "shell.execute_reply": "2025-07-30T13:56:06.676608Z"
    },
    "papermill": {
     "duration": 7.582217,
     "end_time": "2025-07-30T13:56:06.678851",
     "exception": false,
     "start_time": "2025-07-30T13:55:59.096634",
     "status": "completed"
    },
    "tags": []
   },
   "outputs": [
    {
     "name": "stdout",
     "output_type": "stream",
     "text": [
      "Stopping execution_time clock.\n",
      "[INFO] Keeping all rows: 89710 rows retained.\n"
     ]
    },
    {
     "name": "stdout",
     "output_type": "stream",
     "text": [
      "[INFO] Keeping all rows: 89710 rows retained.\n"
     ]
    },
    {
     "name": "stdout",
     "output_type": "stream",
     "text": [
      "[INFO] Keeping all rows: 89710 rows retained.\n"
     ]
    },
    {
     "name": "stdout",
     "output_type": "stream",
     "text": [
      "[INFO] Keeping all rows: 89710 rows retained.\n"
     ]
    },
    {
     "data": {
      "text/html": [
       "<div>\n",
       "<style scoped>\n",
       "    .dataframe tbody tr th:only-of-type {\n",
       "        vertical-align: middle;\n",
       "    }\n",
       "\n",
       "    .dataframe tbody tr th {\n",
       "        vertical-align: top;\n",
       "    }\n",
       "\n",
       "    .dataframe thead th {\n",
       "        text-align: right;\n",
       "    }\n",
       "</style>\n",
       "<table border=\"1\" class=\"dataframe\">\n",
       "  <thead>\n",
       "    <tr style=\"text-align: right;\">\n",
       "      <th></th>\n",
       "      <th>run_no</th>\n",
       "      <th>universe_id</th>\n",
       "      <th>universe_settings</th>\n",
       "      <th>execution_time</th>\n",
       "      <th>test_size_n</th>\n",
       "      <th>test_size_frac</th>\n",
       "      <th>fair_main_equalized_odds_difference</th>\n",
       "      <th>fair_main_equalized_odds_ratio</th>\n",
       "      <th>fair_main_demographic_parity_difference</th>\n",
       "      <th>fair_main_demographic_parity_ratio</th>\n",
       "      <th>...</th>\n",
       "      <th>perf_grp_precision_0</th>\n",
       "      <th>perf_grp_precision_1</th>\n",
       "      <th>perf_grp_false positive rate_0</th>\n",
       "      <th>perf_grp_false positive rate_1</th>\n",
       "      <th>perf_grp_false negative rate_0</th>\n",
       "      <th>perf_grp_false negative rate_1</th>\n",
       "      <th>perf_grp_selection rate_0</th>\n",
       "      <th>perf_grp_selection rate_1</th>\n",
       "      <th>perf_grp_count_0</th>\n",
       "      <th>perf_grp_count_1</th>\n",
       "    </tr>\n",
       "  </thead>\n",
       "  <tbody>\n",
       "    <tr>\n",
       "      <th>0</th>\n",
       "      <td>12</td>\n",
       "      <td>5de61325f2a3eabb1425eb66373e95d7</td>\n",
       "      <td>{\"cutoff\": \"quantile_0.1\", \"eval_fairness_grou...</td>\n",
       "      <td>28.516697</td>\n",
       "      <td>89710</td>\n",
       "      <td>1.0</td>\n",
       "      <td>0.059806</td>\n",
       "      <td>0.935969</td>\n",
       "      <td>0.051209</td>\n",
       "      <td>0.945493</td>\n",
       "      <td>...</td>\n",
       "      <td>NaN</td>\n",
       "      <td>NaN</td>\n",
       "      <td>NaN</td>\n",
       "      <td>NaN</td>\n",
       "      <td>NaN</td>\n",
       "      <td>NaN</td>\n",
       "      <td>NaN</td>\n",
       "      <td>NaN</td>\n",
       "      <td>NaN</td>\n",
       "      <td>NaN</td>\n",
       "    </tr>\n",
       "    <tr>\n",
       "      <th>0</th>\n",
       "      <td>12</td>\n",
       "      <td>5de61325f2a3eabb1425eb66373e95d7</td>\n",
       "      <td>{\"cutoff\": \"quantile_0.1\", \"eval_fairness_grou...</td>\n",
       "      <td>28.516697</td>\n",
       "      <td>89710</td>\n",
       "      <td>1.0</td>\n",
       "      <td>0.059806</td>\n",
       "      <td>0.935969</td>\n",
       "      <td>0.051209</td>\n",
       "      <td>0.945493</td>\n",
       "      <td>...</td>\n",
       "      <td>0.120433</td>\n",
       "      <td>0.145877</td>\n",
       "      <td>0.934019</td>\n",
       "      <td>0.874213</td>\n",
       "      <td>0.018581</td>\n",
       "      <td>0.019365</td>\n",
       "      <td>0.939484</td>\n",
       "      <td>0.888275</td>\n",
       "      <td>20540.0</td>\n",
       "      <td>69170.0</td>\n",
       "    </tr>\n",
       "    <tr>\n",
       "      <th>0</th>\n",
       "      <td>12</td>\n",
       "      <td>5de61325f2a3eabb1425eb66373e95d7</td>\n",
       "      <td>{\"cutoff\": \"quantile_0.25\", \"eval_fairness_gro...</td>\n",
       "      <td>28.516697</td>\n",
       "      <td>89710</td>\n",
       "      <td>1.0</td>\n",
       "      <td>0.127728</td>\n",
       "      <td>0.844442</td>\n",
       "      <td>0.109623</td>\n",
       "      <td>0.868639</td>\n",
       "      <td>...</td>\n",
       "      <td>NaN</td>\n",
       "      <td>NaN</td>\n",
       "      <td>NaN</td>\n",
       "      <td>NaN</td>\n",
       "      <td>NaN</td>\n",
       "      <td>NaN</td>\n",
       "      <td>NaN</td>\n",
       "      <td>NaN</td>\n",
       "      <td>NaN</td>\n",
       "      <td>NaN</td>\n",
       "    </tr>\n",
       "    <tr>\n",
       "      <th>0</th>\n",
       "      <td>12</td>\n",
       "      <td>5de61325f2a3eabb1425eb66373e95d7</td>\n",
       "      <td>{\"cutoff\": \"quantile_0.25\", \"eval_fairness_gro...</td>\n",
       "      <td>28.516697</td>\n",
       "      <td>89710</td>\n",
       "      <td>1.0</td>\n",
       "      <td>0.127728</td>\n",
       "      <td>0.844442</td>\n",
       "      <td>0.109623</td>\n",
       "      <td>0.868639</td>\n",
       "      <td>...</td>\n",
       "      <td>0.129514</td>\n",
       "      <td>0.169881</td>\n",
       "      <td>0.821098</td>\n",
       "      <td>0.693370</td>\n",
       "      <td>0.062500</td>\n",
       "      <td>0.068053</td>\n",
       "      <td>0.834518</td>\n",
       "      <td>0.724895</td>\n",
       "      <td>20540.0</td>\n",
       "      <td>69170.0</td>\n",
       "    </tr>\n",
       "  </tbody>\n",
       "</table>\n",
       "<p>4 rows × 50 columns</p>\n",
       "</div>"
      ],
      "text/plain": [
       "  run_no                       universe_id  \\\n",
       "0     12  5de61325f2a3eabb1425eb66373e95d7   \n",
       "0     12  5de61325f2a3eabb1425eb66373e95d7   \n",
       "0     12  5de61325f2a3eabb1425eb66373e95d7   \n",
       "0     12  5de61325f2a3eabb1425eb66373e95d7   \n",
       "\n",
       "                                   universe_settings  execution_time  \\\n",
       "0  {\"cutoff\": \"quantile_0.1\", \"eval_fairness_grou...       28.516697   \n",
       "0  {\"cutoff\": \"quantile_0.1\", \"eval_fairness_grou...       28.516697   \n",
       "0  {\"cutoff\": \"quantile_0.25\", \"eval_fairness_gro...       28.516697   \n",
       "0  {\"cutoff\": \"quantile_0.25\", \"eval_fairness_gro...       28.516697   \n",
       "\n",
       "   test_size_n  test_size_frac  fair_main_equalized_odds_difference  \\\n",
       "0        89710             1.0                             0.059806   \n",
       "0        89710             1.0                             0.059806   \n",
       "0        89710             1.0                             0.127728   \n",
       "0        89710             1.0                             0.127728   \n",
       "\n",
       "   fair_main_equalized_odds_ratio  fair_main_demographic_parity_difference  \\\n",
       "0                        0.935969                                 0.051209   \n",
       "0                        0.935969                                 0.051209   \n",
       "0                        0.844442                                 0.109623   \n",
       "0                        0.844442                                 0.109623   \n",
       "\n",
       "   fair_main_demographic_parity_ratio  ...  perf_grp_precision_0  \\\n",
       "0                            0.945493  ...                   NaN   \n",
       "0                            0.945493  ...              0.120433   \n",
       "0                            0.868639  ...                   NaN   \n",
       "0                            0.868639  ...              0.129514   \n",
       "\n",
       "   perf_grp_precision_1  perf_grp_false positive rate_0  \\\n",
       "0                   NaN                             NaN   \n",
       "0              0.145877                        0.934019   \n",
       "0                   NaN                             NaN   \n",
       "0              0.169881                        0.821098   \n",
       "\n",
       "   perf_grp_false positive rate_1  perf_grp_false negative rate_0  \\\n",
       "0                             NaN                             NaN   \n",
       "0                        0.874213                        0.018581   \n",
       "0                             NaN                             NaN   \n",
       "0                        0.693370                        0.062500   \n",
       "\n",
       "   perf_grp_false negative rate_1  perf_grp_selection rate_0  \\\n",
       "0                             NaN                        NaN   \n",
       "0                        0.019365                   0.939484   \n",
       "0                             NaN                        NaN   \n",
       "0                        0.068053                   0.834518   \n",
       "\n",
       "   perf_grp_selection rate_1  perf_grp_count_0  perf_grp_count_1  \n",
       "0                        NaN               NaN               NaN  \n",
       "0                   0.888275           20540.0           69170.0  \n",
       "0                        NaN               NaN               NaN  \n",
       "0                   0.724895           20540.0           69170.0  \n",
       "\n",
       "[4 rows x 50 columns]"
      ]
     },
     "execution_count": 79,
     "metadata": {},
     "output_type": "execute_result"
    }
   ],
   "source": [
    "final_output = universe_analysis.generate_final_output(\n",
    "    y_pred_prob=probs_test,\n",
    "    y_test=y_true,\n",
    "    org_test=org_test,\n",
    "    filter_data=filter_sub_universe_data,\n",
    "    cp_metrics_df=cp_metrics_df,\n",
    "    save=True,\n",
    ")\n",
    "final_output"
   ]
  },
  {
   "cell_type": "code",
   "execution_count": null,
   "id": "721ff514-cb11-46f8-b6fc-50392f74b5cb",
   "metadata": {
    "papermill": {
     "duration": 0.031567,
     "end_time": "2025-07-30T13:56:06.743813",
     "exception": false,
     "start_time": "2025-07-30T13:56:06.712246",
     "status": "completed"
    },
    "tags": []
   },
   "outputs": [],
   "source": []
  }
 ],
 "metadata": {
  "celltoolbar": "Tags",
  "kernelspec": {
   "display_name": "Python (CMA Fairness)",
   "language": "python",
   "name": "cma_fair_env"
  },
  "language_info": {
   "codemirror_mode": {
    "name": "ipython",
    "version": 3
   },
   "file_extension": ".py",
   "mimetype": "text/x-python",
   "name": "python",
   "nbconvert_exporter": "python",
   "pygments_lexer": "ipython3",
   "version": "3.10.12"
  },
  "papermill": {
   "default_parameters": {},
   "duration": 40.290987,
   "end_time": "2025-07-30T13:56:07.494444",
   "environment_variables": {},
   "exception": null,
   "input_path": "universe_analysis.ipynb",
   "output_path": "output/runs/12/notebooks/m_12-5de61325f2a3eabb1425eb66373e95d7.ipynb",
   "parameters": {
    "output_dir": "output",
    "run_no": "12",
    "seed": "2023",
    "universe": "{\"cutoff\": [\"quantile_0.1\", \"quantile_0.25\"], \"eval_fairness_grouping\": [\"majority-minority\", \"nationality-all\"], \"exclude_features\": \"age\", \"exclude_subgroups\": \"drop-non-german\", \"model\": \"penalized_logreg\", \"scale\": \"scale\", \"training_size\": \"5k\", \"training_year\": \"2012_14\"}",
    "universe_id": "5de61325f2a3eabb1425eb66373e95d7"
   },
   "start_time": "2025-07-30T13:55:27.203457",
   "version": "2.6.0"
  }
 },
 "nbformat": 4,
 "nbformat_minor": 5
}